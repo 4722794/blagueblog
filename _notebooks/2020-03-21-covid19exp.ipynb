{
 "cells": [
  {
   "cell_type": "markdown",
   "id": "muslim-click",
   "metadata": {
    "papermill": {
     "duration": 0.034778,
     "end_time": "2022-01-13T00:29:53.832346",
     "exception": false,
     "start_time": "2022-01-13T00:29:53.797568",
     "status": "completed"
    },
    "tags": []
   },
   "source": [
    "# COVID-19 Case Race\n",
    "> A race chart to see rising cases around the world\n",
    "\n",
    "- author: Hargun Oberoi\n",
    "- image: images/covid-overview.png\n",
    "- hide: false\n",
    "- badges: false"
   ]
  },
  {
   "cell_type": "code",
   "execution_count": 1,
   "id": "proof-material",
   "metadata": {
    "execution": {
     "iopub.execute_input": "2022-01-13T00:29:53.904513Z",
     "iopub.status.busy": "2022-01-13T00:29:53.904014Z",
     "iopub.status.idle": "2022-01-13T00:29:54.213401Z",
     "shell.execute_reply": "2022-01-13T00:29:54.212939Z"
    },
    "papermill": {
     "duration": 0.349906,
     "end_time": "2022-01-13T00:29:54.213531",
     "exception": false,
     "start_time": "2022-01-13T00:29:53.863625",
     "status": "completed"
    },
    "tags": []
   },
   "outputs": [],
   "source": [
    "#hide\n",
    "import numpy as np\n",
    "import pandas as pd\n",
    "from jinja2 import Template\n",
    "from IPython.display import HTML"
   ]
  },
  {
   "cell_type": "code",
   "execution_count": 2,
   "id": "developed-terminology",
   "metadata": {
    "execution": {
     "iopub.execute_input": "2022-01-13T00:29:54.281733Z",
     "iopub.status.busy": "2022-01-13T00:29:54.281222Z",
     "iopub.status.idle": "2022-01-13T00:29:54.283079Z",
     "shell.execute_reply": "2022-01-13T00:29:54.283483Z"
    },
    "papermill": {
     "duration": 0.038167,
     "end_time": "2022-01-13T00:29:54.283597",
     "exception": false,
     "start_time": "2022-01-13T00:29:54.245430",
     "status": "completed"
    },
    "tags": []
   },
   "outputs": [],
   "source": [
    "#hide\n",
    "\n",
    "# FETCH\n",
    "base_url = 'https://raw.githubusercontent.com/pratapvardhan/notebooks/master/covid19/'\n",
    "paths = {\n",
    "    'mapping': base_url + 'mapping_countries.csv',\n",
    "    'overview': base_url + 'overview.tpl'\n",
    "}"
   ]
  },
  {
   "cell_type": "code",
   "execution_count": 3,
   "id": "dynamic-saver",
   "metadata": {
    "execution": {
     "iopub.execute_input": "2022-01-13T00:29:54.354190Z",
     "iopub.status.busy": "2022-01-13T00:29:54.353684Z",
     "iopub.status.idle": "2022-01-13T00:29:54.357126Z",
     "shell.execute_reply": "2022-01-13T00:29:54.357523Z"
    },
    "papermill": {
     "duration": 0.043203,
     "end_time": "2022-01-13T00:29:54.357637",
     "exception": false,
     "start_time": "2022-01-13T00:29:54.314434",
     "status": "completed"
    },
    "tags": []
   },
   "outputs": [
    {
     "data": {
      "text/plain": [
       "'https://raw.githubusercontent.com/pratapvardhan/notebooks/master/covid19/mapping_countries.csv'"
      ]
     },
     "execution_count": 3,
     "metadata": {},
     "output_type": "execute_result"
    }
   ],
   "source": [
    "#hide\n",
    "paths['mapping']"
   ]
  },
  {
   "cell_type": "code",
   "execution_count": 4,
   "id": "urban-software",
   "metadata": {
    "execution": {
     "iopub.execute_input": "2022-01-13T00:29:54.424138Z",
     "iopub.status.busy": "2022-01-13T00:29:54.423634Z",
     "iopub.status.idle": "2022-01-13T00:29:54.425607Z",
     "shell.execute_reply": "2022-01-13T00:29:54.425201Z"
    },
    "papermill": {
     "duration": 0.036925,
     "end_time": "2022-01-13T00:29:54.425704",
     "exception": false,
     "start_time": "2022-01-13T00:29:54.388779",
     "status": "completed"
    },
    "tags": []
   },
   "outputs": [],
   "source": [
    "#hide\n",
    "def get_mappings(url):\n",
    "    df = pd.read_csv(url)\n",
    "    return {\n",
    "        'df': df,\n",
    "        'replace.country': dict(df.dropna(subset=['Name']).set_index('Country')['Name']),\n",
    "        'map.continent': dict(df.set_index('Name')['Continent'])\n",
    "    }"
   ]
  },
  {
   "cell_type": "code",
   "execution_count": 5,
   "id": "intimate-machinery",
   "metadata": {
    "execution": {
     "iopub.execute_input": "2022-01-13T00:29:54.491909Z",
     "iopub.status.busy": "2022-01-13T00:29:54.491391Z",
     "iopub.status.idle": "2022-01-13T00:29:54.547804Z",
     "shell.execute_reply": "2022-01-13T00:29:54.547345Z"
    },
    "papermill": {
     "duration": 0.091347,
     "end_time": "2022-01-13T00:29:54.547906",
     "exception": false,
     "start_time": "2022-01-13T00:29:54.456559",
     "status": "completed"
    },
    "tags": []
   },
   "outputs": [],
   "source": [
    "#hide\n",
    "mapping = get_mappings(paths['mapping'])"
   ]
  },
  {
   "cell_type": "code",
   "execution_count": 6,
   "id": "certified-tactics",
   "metadata": {
    "execution": {
     "iopub.execute_input": "2022-01-13T00:29:54.614026Z",
     "iopub.status.busy": "2022-01-13T00:29:54.613514Z",
     "iopub.status.idle": "2022-01-13T00:29:54.615532Z",
     "shell.execute_reply": "2022-01-13T00:29:54.615131Z"
    },
    "papermill": {
     "duration": 0.036708,
     "end_time": "2022-01-13T00:29:54.615631",
     "exception": false,
     "start_time": "2022-01-13T00:29:54.578923",
     "status": "completed"
    },
    "tags": []
   },
   "outputs": [],
   "source": [
    "#hide\n",
    "def get_template(path):\n",
    "    from urllib.parse import urlparse\n",
    "    if bool(urlparse(path).netloc):\n",
    "        from urllib.request import urlopen\n",
    "        return urlopen(path).read().decode('utf8')\n",
    "    return open(path).read()"
   ]
  },
  {
   "cell_type": "code",
   "execution_count": 7,
   "id": "realistic-blast",
   "metadata": {
    "execution": {
     "iopub.execute_input": "2022-01-13T00:29:54.681184Z",
     "iopub.status.busy": "2022-01-13T00:29:54.680690Z",
     "iopub.status.idle": "2022-01-13T00:29:54.682336Z",
     "shell.execute_reply": "2022-01-13T00:29:54.682745Z"
    },
    "papermill": {
     "duration": 0.036464,
     "end_time": "2022-01-13T00:29:54.682869",
     "exception": false,
     "start_time": "2022-01-13T00:29:54.646405",
     "status": "completed"
    },
    "tags": []
   },
   "outputs": [],
   "source": [
    "#hide\n",
    "def get_frame(name):\n",
    "    url = (\n",
    "        'https://raw.githubusercontent.com/CSSEGISandData/COVID-19/master/csse_covid_19_data/'\n",
    "        f'csse_covid_19_time_series/time_series_covid19_{name}_global.csv')\n",
    "    df = pd.read_csv(url)\n",
    "    # rename countries\n",
    "    df['Country/Region'] = df['Country/Region'].replace(mapping['replace.country'])\n",
    "    return df"
   ]
  },
  {
   "cell_type": "code",
   "execution_count": 8,
   "id": "affiliated-characterization",
   "metadata": {
    "execution": {
     "iopub.execute_input": "2022-01-13T00:29:54.749822Z",
     "iopub.status.busy": "2022-01-13T00:29:54.749326Z",
     "iopub.status.idle": "2022-01-13T00:29:54.751009Z",
     "shell.execute_reply": "2022-01-13T00:29:54.751384Z"
    },
    "papermill": {
     "duration": 0.037494,
     "end_time": "2022-01-13T00:29:54.751512",
     "exception": false,
     "start_time": "2022-01-13T00:29:54.714018",
     "status": "completed"
    },
    "tags": []
   },
   "outputs": [],
   "source": [
    "#hide\n",
    "def get_dates(df):\n",
    "    dt_cols = df.columns[~df.columns.isin(['Province/State', 'Country/Region', 'Lat', 'Long'])]\n",
    "    LAST_DATE_I = -1\n",
    "    # sometimes last column may be empty, then go backwards\n",
    "    for i in range(-1, -len(dt_cols), -1):\n",
    "        if not df[dt_cols[i]].fillna(0).eq(0).all():\n",
    "            LAST_DATE_I = i\n",
    "            break\n",
    "    return LAST_DATE_I, dt_cols"
   ]
  },
  {
   "cell_type": "code",
   "execution_count": 9,
   "id": "recent-optimization",
   "metadata": {
    "execution": {
     "iopub.execute_input": "2022-01-13T00:29:54.818484Z",
     "iopub.status.busy": "2022-01-13T00:29:54.817972Z",
     "iopub.status.idle": "2022-01-13T00:29:55.479625Z",
     "shell.execute_reply": "2022-01-13T00:29:55.480069Z"
    },
    "papermill": {
     "duration": 0.697577,
     "end_time": "2022-01-13T00:29:55.480200",
     "exception": false,
     "start_time": "2022-01-13T00:29:54.782623",
     "status": "completed"
    },
    "tags": []
   },
   "outputs": [],
   "source": [
    "#hide\n",
    "COL_REGION = 'Country/Region'\n",
    "# Confirmed, Recovered, Deaths\n",
    "df = get_frame('confirmed')\n",
    "# dft_: timeseries, dfc_: today country agg\n",
    "dft_cases = df\n",
    "dft_deaths = get_frame('deaths')\n",
    "dft_recovered = get_frame('recovered')\n",
    "LAST_DATE_I, dt_cols = get_dates(df)"
   ]
  },
  {
   "cell_type": "code",
   "execution_count": 10,
   "id": "absolute-copper",
   "metadata": {
    "execution": {
     "iopub.execute_input": "2022-01-13T00:29:55.548131Z",
     "iopub.status.busy": "2022-01-13T00:29:55.547621Z",
     "iopub.status.idle": "2022-01-13T00:29:55.549118Z",
     "shell.execute_reply": "2022-01-13T00:29:55.549504Z"
    },
    "papermill": {
     "duration": 0.038,
     "end_time": "2022-01-13T00:29:55.549619",
     "exception": false,
     "start_time": "2022-01-13T00:29:55.511619",
     "status": "completed"
    },
    "tags": []
   },
   "outputs": [],
   "source": [
    "#hide\n",
    "LAST_DATE_I, dt_cols = get_dates(df)\n",
    "dt_today =dt_cols[LAST_DATE_I]\n",
    "# dt_5day = dt_cols[LAST_DATE_I - 5]\n",
    "dt_yday = dt_cols[LAST_DATE_I - 1]"
   ]
  },
  {
   "cell_type": "code",
   "execution_count": 11,
   "id": "restricted-sheriff",
   "metadata": {
    "execution": {
     "iopub.execute_input": "2022-01-13T00:29:55.616306Z",
     "iopub.status.busy": "2022-01-13T00:29:55.615811Z",
     "iopub.status.idle": "2022-01-13T00:29:55.623030Z",
     "shell.execute_reply": "2022-01-13T00:29:55.622609Z"
    },
    "papermill": {
     "duration": 0.042508,
     "end_time": "2022-01-13T00:29:55.623128",
     "exception": false,
     "start_time": "2022-01-13T00:29:55.580620",
     "status": "completed"
    },
    "tags": []
   },
   "outputs": [],
   "source": [
    "#hide\n",
    "dfc_cases = dft_cases.groupby(COL_REGION)[dt_today].sum()\n",
    "dfc_deaths = dft_deaths.groupby(COL_REGION)[dt_today].sum()\n",
    "# dfp_cases = dft_cases.groupby(COL_REGION)[dt_5day].sum()\n",
    "# dfp_deaths = dft_deaths.groupby(COL_REGION)[dt_5day].sum()\n",
    "dfp_cases = dft_cases.groupby(COL_REGION)[dt_yday].sum()\n",
    "dfp_deaths = dft_deaths.groupby(COL_REGION)[dt_yday].sum()"
   ]
  },
  {
   "cell_type": "code",
   "execution_count": 12,
   "id": "deluxe-hepatitis",
   "metadata": {
    "execution": {
     "iopub.execute_input": "2022-01-13T00:29:55.691068Z",
     "iopub.status.busy": "2022-01-13T00:29:55.690572Z",
     "iopub.status.idle": "2022-01-13T00:29:55.694525Z",
     "shell.execute_reply": "2022-01-13T00:29:55.694943Z"
    },
    "papermill": {
     "duration": 0.040808,
     "end_time": "2022-01-13T00:29:55.695058",
     "exception": false,
     "start_time": "2022-01-13T00:29:55.654250",
     "status": "completed"
    },
    "tags": []
   },
   "outputs": [],
   "source": [
    "#hide\n",
    "df_table = (pd.DataFrame(dict(Cases = dfc_cases, Deaths = dfc_deaths, PCases = dfp_cases, PDeaths = dfp_deaths))\n",
    "            .sort_values(by = ['Cases','Deaths'], ascending = [False, False])\n",
    "            .reset_index())"
   ]
  },
  {
   "cell_type": "code",
   "execution_count": 13,
   "id": "educational-chancellor",
   "metadata": {
    "execution": {
     "iopub.execute_input": "2022-01-13T00:29:55.769557Z",
     "iopub.status.busy": "2022-01-13T00:29:55.769061Z",
     "iopub.status.idle": "2022-01-13T00:29:55.780457Z",
     "shell.execute_reply": "2022-01-13T00:29:55.780060Z"
    },
    "papermill": {
     "duration": 0.054669,
     "end_time": "2022-01-13T00:29:55.780559",
     "exception": false,
     "start_time": "2022-01-13T00:29:55.725890",
     "status": "completed"
    },
    "tags": []
   },
   "outputs": [
    {
     "data": {
      "text/html": [
       "<div>\n",
       "<style scoped>\n",
       "    .dataframe tbody tr th:only-of-type {\n",
       "        vertical-align: middle;\n",
       "    }\n",
       "\n",
       "    .dataframe tbody tr th {\n",
       "        vertical-align: top;\n",
       "    }\n",
       "\n",
       "    .dataframe thead th {\n",
       "        text-align: right;\n",
       "    }\n",
       "</style>\n",
       "<table border=\"1\" class=\"dataframe\">\n",
       "  <thead>\n",
       "    <tr style=\"text-align: right;\">\n",
       "      <th></th>\n",
       "      <th>Country/Region</th>\n",
       "      <th>Cases</th>\n",
       "      <th>Deaths</th>\n",
       "      <th>PCases</th>\n",
       "      <th>PDeaths</th>\n",
       "      <th>Cases (+)</th>\n",
       "      <th>Deaths (+)</th>\n",
       "      <th>Fatality Rate</th>\n",
       "      <th>Continent</th>\n",
       "    </tr>\n",
       "  </thead>\n",
       "  <tbody>\n",
       "    <tr>\n",
       "      <th>0</th>\n",
       "      <td>US</td>\n",
       "      <td>62308472</td>\n",
       "      <td>842141</td>\n",
       "      <td>61556085</td>\n",
       "      <td>839500</td>\n",
       "      <td>752387</td>\n",
       "      <td>2641</td>\n",
       "      <td>1.35</td>\n",
       "      <td>North America</td>\n",
       "    </tr>\n",
       "    <tr>\n",
       "      <th>1</th>\n",
       "      <td>India</td>\n",
       "      <td>35875790</td>\n",
       "      <td>484213</td>\n",
       "      <td>35875790</td>\n",
       "      <td>484213</td>\n",
       "      <td>0</td>\n",
       "      <td>0</td>\n",
       "      <td>1.35</td>\n",
       "      <td>Asia</td>\n",
       "    </tr>\n",
       "    <tr>\n",
       "      <th>2</th>\n",
       "      <td>Brazil</td>\n",
       "      <td>22636359</td>\n",
       "      <td>620507</td>\n",
       "      <td>22563104</td>\n",
       "      <td>620366</td>\n",
       "      <td>73255</td>\n",
       "      <td>141</td>\n",
       "      <td>2.74</td>\n",
       "      <td>South America</td>\n",
       "    </tr>\n",
       "    <tr>\n",
       "      <th>3</th>\n",
       "      <td>United Kingdom</td>\n",
       "      <td>14826336</td>\n",
       "      <td>151093</td>\n",
       "      <td>14708999</td>\n",
       "      <td>150712</td>\n",
       "      <td>117337</td>\n",
       "      <td>381</td>\n",
       "      <td>1.02</td>\n",
       "      <td>Europe</td>\n",
       "    </tr>\n",
       "    <tr>\n",
       "      <th>4</th>\n",
       "      <td>France</td>\n",
       "      <td>12680780</td>\n",
       "      <td>127048</td>\n",
       "      <td>12311963</td>\n",
       "      <td>126707</td>\n",
       "      <td>368817</td>\n",
       "      <td>341</td>\n",
       "      <td>1.00</td>\n",
       "      <td>Europe</td>\n",
       "    </tr>\n",
       "  </tbody>\n",
       "</table>\n",
       "</div>"
      ],
      "text/plain": [
       "   Country/Region     Cases  Deaths    PCases  PDeaths  Cases (+)  Deaths (+)  \\\n",
       "0              US  62308472  842141  61556085   839500     752387        2641   \n",
       "1           India  35875790  484213  35875790   484213          0           0   \n",
       "2          Brazil  22636359  620507  22563104   620366      73255         141   \n",
       "3  United Kingdom  14826336  151093  14708999   150712     117337         381   \n",
       "4          France  12680780  127048  12311963   126707     368817         341   \n",
       "\n",
       "   Fatality Rate      Continent  \n",
       "0           1.35  North America  \n",
       "1           1.35           Asia  \n",
       "2           2.74  South America  \n",
       "3           1.02         Europe  \n",
       "4           1.00         Europe  "
      ]
     },
     "execution_count": 13,
     "metadata": {},
     "output_type": "execute_result"
    }
   ],
   "source": [
    "#hide\n",
    "for c in 'Cases, Deaths'.split(', '):\n",
    "    df_table[f'{c} (+)'] = (df_table[c] - df_table[f'P{c}']).clip(0)\n",
    "    #Clip ça veut dire, les chiffres negatif sont interdit\n",
    "df_table['Fatality Rate'] = (100* df_table['Deaths']/ df_table['Cases']).round(2)\n",
    "df_table['Continent'] = df_table['Country/Region'].map(mapping['map.continent'])\n",
    "df_table.head(5)"
   ]
  },
  {
   "cell_type": "code",
   "execution_count": 14,
   "id": "aboriginal-bulgaria",
   "metadata": {
    "execution": {
     "iopub.execute_input": "2022-01-13T00:29:55.849584Z",
     "iopub.status.busy": "2022-01-13T00:29:55.849088Z",
     "iopub.status.idle": "2022-01-13T00:29:55.850945Z",
     "shell.execute_reply": "2022-01-13T00:29:55.851328Z"
    },
    "papermill": {
     "duration": 0.039484,
     "end_time": "2022-01-13T00:29:55.851458",
     "exception": false,
     "start_time": "2022-01-13T00:29:55.811974",
     "status": "completed"
    },
    "tags": []
   },
   "outputs": [],
   "source": [
    "#hide\n",
    "#delete problematic countries from table\n",
    "df_table = df_table[~df_table['Country/Region'].isin(['Cape Verde', 'Cruise Ship', 'Kosovo'])]"
   ]
  },
  {
   "cell_type": "code",
   "execution_count": 15,
   "id": "fantastic-effect",
   "metadata": {
    "execution": {
     "iopub.execute_input": "2022-01-13T00:29:55.921607Z",
     "iopub.status.busy": "2022-01-13T00:29:55.921111Z",
     "iopub.status.idle": "2022-01-13T00:29:55.937729Z",
     "shell.execute_reply": "2022-01-13T00:29:55.938103Z"
    },
    "papermill": {
     "duration": 0.055268,
     "end_time": "2022-01-13T00:29:55.938226",
     "exception": false,
     "start_time": "2022-01-13T00:29:55.882958",
     "status": "completed"
    },
    "tags": []
   },
   "outputs": [
    {
     "data": {
      "text/html": [
       "<div>\n",
       "<style scoped>\n",
       "    .dataframe tbody tr th:only-of-type {\n",
       "        vertical-align: middle;\n",
       "    }\n",
       "\n",
       "    .dataframe tbody tr th {\n",
       "        vertical-align: top;\n",
       "    }\n",
       "\n",
       "    .dataframe thead th {\n",
       "        text-align: right;\n",
       "    }\n",
       "</style>\n",
       "<table border=\"1\" class=\"dataframe\">\n",
       "  <thead>\n",
       "    <tr style=\"text-align: right;\">\n",
       "      <th></th>\n",
       "      <th>Country/Region</th>\n",
       "      <th>Cases</th>\n",
       "      <th>Deaths</th>\n",
       "      <th>PCases</th>\n",
       "      <th>PDeaths</th>\n",
       "      <th>Cases (+)</th>\n",
       "      <th>Deaths (+)</th>\n",
       "      <th>Fatality Rate</th>\n",
       "      <th>Continent</th>\n",
       "    </tr>\n",
       "  </thead>\n",
       "  <tbody>\n",
       "    <tr>\n",
       "      <th>0</th>\n",
       "      <td>US</td>\n",
       "      <td>62308472</td>\n",
       "      <td>842141</td>\n",
       "      <td>61556085</td>\n",
       "      <td>839500</td>\n",
       "      <td>752387</td>\n",
       "      <td>2641</td>\n",
       "      <td>1.4</td>\n",
       "      <td>North America</td>\n",
       "    </tr>\n",
       "    <tr>\n",
       "      <th>1</th>\n",
       "      <td>India</td>\n",
       "      <td>35875790</td>\n",
       "      <td>484213</td>\n",
       "      <td>35875790</td>\n",
       "      <td>484213</td>\n",
       "      <td>0</td>\n",
       "      <td>0</td>\n",
       "      <td>1.3</td>\n",
       "      <td>Asia</td>\n",
       "    </tr>\n",
       "    <tr>\n",
       "      <th>2</th>\n",
       "      <td>Brazil</td>\n",
       "      <td>22636359</td>\n",
       "      <td>620507</td>\n",
       "      <td>22563104</td>\n",
       "      <td>620366</td>\n",
       "      <td>73255</td>\n",
       "      <td>141</td>\n",
       "      <td>2.7</td>\n",
       "      <td>South America</td>\n",
       "    </tr>\n",
       "    <tr>\n",
       "      <th>3</th>\n",
       "      <td>United Kingdom</td>\n",
       "      <td>14826336</td>\n",
       "      <td>151093</td>\n",
       "      <td>14708999</td>\n",
       "      <td>150712</td>\n",
       "      <td>117337</td>\n",
       "      <td>381</td>\n",
       "      <td>1.0</td>\n",
       "      <td>Europe</td>\n",
       "    </tr>\n",
       "    <tr>\n",
       "      <th>4</th>\n",
       "      <td>France</td>\n",
       "      <td>12680780</td>\n",
       "      <td>127048</td>\n",
       "      <td>12311963</td>\n",
       "      <td>126707</td>\n",
       "      <td>368817</td>\n",
       "      <td>341</td>\n",
       "      <td>1.0</td>\n",
       "      <td>Europe</td>\n",
       "    </tr>\n",
       "  </tbody>\n",
       "</table>\n",
       "</div>"
      ],
      "text/plain": [
       "   Country/Region     Cases  Deaths    PCases  PDeaths  Cases (+)  Deaths (+)  \\\n",
       "0              US  62308472  842141  61556085   839500     752387        2641   \n",
       "1           India  35875790  484213  35875790   484213          0           0   \n",
       "2          Brazil  22636359  620507  22563104   620366      73255         141   \n",
       "3  United Kingdom  14826336  151093  14708999   150712     117337         381   \n",
       "4          France  12680780  127048  12311963   126707     368817         341   \n",
       "\n",
       "   Fatality Rate      Continent  \n",
       "0            1.4  North America  \n",
       "1            1.3           Asia  \n",
       "2            2.7  South America  \n",
       "3            1.0         Europe  \n",
       "4            1.0         Europe  "
      ]
     },
     "execution_count": 15,
     "metadata": {},
     "output_type": "execute_result"
    }
   ],
   "source": [
    "#hide\n",
    "df_table = (pd.DataFrame(dict(Cases=dfc_cases, Deaths=dfc_deaths, PCases=dfp_cases, PDeaths=dfp_deaths))\n",
    "             .sort_values(by=['Cases', 'Deaths'], ascending=[False, False])\n",
    "             .reset_index())\n",
    "df_table.rename(columns={'index': 'Country/Region'}, inplace=True)\n",
    "for c in 'Cases, Deaths'.split(', '):\n",
    "    df_table[f'{c} (+)'] = (df_table[c] - df_table[f'P{c}']).clip(0)  # DATA BUG\n",
    "df_table['Fatality Rate'] = (100 * df_table['Deaths'] / df_table['Cases']).round(1)\n",
    "df_table['Continent'] = df_table['Country/Region'].map(mapping['map.continent'])\n",
    "df_table.head(5)"
   ]
  },
  {
   "cell_type": "code",
   "execution_count": 16,
   "id": "fewer-occasion",
   "metadata": {
    "execution": {
     "iopub.execute_input": "2022-01-13T00:29:56.006932Z",
     "iopub.status.busy": "2022-01-13T00:29:56.006409Z",
     "iopub.status.idle": "2022-01-13T00:29:56.009904Z",
     "shell.execute_reply": "2022-01-13T00:29:56.009504Z"
    },
    "papermill": {
     "duration": 0.039961,
     "end_time": "2022-01-13T00:29:56.010007",
     "exception": false,
     "start_time": "2022-01-13T00:29:55.970046",
     "status": "completed"
    },
    "tags": []
   },
   "outputs": [],
   "source": [
    "#hide\n",
    "#delete problematic countries from table\n",
    "df_table = df_table[~df_table['Country/Region'].isin(['Cape Verde', 'Cruise Ship', 'Kosovo'])]"
   ]
  },
  {
   "cell_type": "code",
   "execution_count": 17,
   "id": "related-center",
   "metadata": {
    "execution": {
     "iopub.execute_input": "2022-01-13T00:29:56.079781Z",
     "iopub.status.busy": "2022-01-13T00:29:56.079264Z",
     "iopub.status.idle": "2022-01-13T00:29:56.091935Z",
     "shell.execute_reply": "2022-01-13T00:29:56.091543Z"
    },
    "papermill": {
     "duration": 0.050199,
     "end_time": "2022-01-13T00:29:56.092037",
     "exception": false,
     "start_time": "2022-01-13T00:29:56.041838",
     "status": "completed"
    },
    "tags": []
   },
   "outputs": [],
   "source": [
    "#hide\n",
    "metrics = [df_table.columns[index] for index in [1,2,5,6]]\n",
    "# s_china = df_table[df_table['Country/Region'].eq('China')][metrics].sum().add_prefix('China ')\n",
    "s_us = df_table[df_table['Country/Region'].eq('US')][metrics].sum().add_prefix('US ')\n",
    "s_eu = df_table[df_table['Continent'].eq('Europe')][metrics].sum().add_prefix('EU ')\n",
    "s_ind = df_table[df_table['Country/Region'].eq('India')][metrics].sum().add_prefix('India ')\n",
    "summary = {'updated': pd.to_datetime(dt_today), 'since': pd.to_datetime(dt_yday)}\n",
    "summary = {'updated': pd.to_datetime(dt_today), 'since': pd.to_datetime(dt_yday)}\n",
    "summary = {**summary, **df_table[metrics].sum(), **s_ind, **s_us, **s_eu}"
   ]
  },
  {
   "cell_type": "code",
   "execution_count": 18,
   "id": "engaging-syndrome",
   "metadata": {
    "execution": {
     "iopub.execute_input": "2022-01-13T00:29:56.160479Z",
     "iopub.status.busy": "2022-01-13T00:29:56.159982Z",
     "iopub.status.idle": "2022-01-13T00:29:56.172433Z",
     "shell.execute_reply": "2022-01-13T00:29:56.172042Z"
    },
    "papermill": {
     "duration": 0.04868,
     "end_time": "2022-01-13T00:29:56.172536",
     "exception": false,
     "start_time": "2022-01-13T00:29:56.123856",
     "status": "completed"
    },
    "tags": []
   },
   "outputs": [],
   "source": [
    "#hide\n",
    "dft_ct_new_cases = dft_cases.groupby(COL_REGION)[dt_cols].sum().diff(axis=1).fillna(0).astype(int)"
   ]
  },
  {
   "cell_type": "code",
   "execution_count": 19,
   "id": "neutral-assignment",
   "metadata": {
    "execution": {
     "iopub.execute_input": "2022-01-13T00:29:56.241788Z",
     "iopub.status.busy": "2022-01-13T00:29:56.241278Z",
     "iopub.status.idle": "2022-01-13T00:29:56.243320Z",
     "shell.execute_reply": "2022-01-13T00:29:56.242931Z"
    },
    "papermill": {
     "duration": 0.038952,
     "end_time": "2022-01-13T00:29:56.243434",
     "exception": false,
     "start_time": "2022-01-13T00:29:56.204482",
     "status": "completed"
    },
    "tags": []
   },
   "outputs": [],
   "source": [
    "#hide\n",
    "everydaycases = dft_ct_new_cases.cumsum(axis=1)"
   ]
  },
  {
   "cell_type": "code",
   "execution_count": 20,
   "id": "parliamentary-calgary",
   "metadata": {
    "execution": {
     "iopub.execute_input": "2022-01-13T00:29:56.312027Z",
     "iopub.status.busy": "2022-01-13T00:29:56.310766Z",
     "iopub.status.idle": "2022-01-13T00:29:56.901872Z",
     "shell.execute_reply": "2022-01-13T00:29:56.902287Z"
    },
    "papermill": {
     "duration": 0.627244,
     "end_time": "2022-01-13T00:29:56.902425",
     "exception": false,
     "start_time": "2022-01-13T00:29:56.275181",
     "status": "completed"
    },
    "tags": []
   },
   "outputs": [],
   "source": [
    "#hide\n",
    "import pandas as pd\n",
    "import matplotlib.pyplot as plt\n",
    "import matplotlib.ticker as ticker\n",
    "import matplotlib.animation as animation\n",
    "from IPython.display import HTML"
   ]
  },
  {
   "cell_type": "code",
   "execution_count": 21,
   "id": "lasting-extraction",
   "metadata": {
    "execution": {
     "iopub.execute_input": "2022-01-13T00:29:56.971255Z",
     "iopub.status.busy": "2022-01-13T00:29:56.970754Z",
     "iopub.status.idle": "2022-01-13T00:29:56.976117Z",
     "shell.execute_reply": "2022-01-13T00:29:56.975727Z"
    },
    "papermill": {
     "duration": 0.041811,
     "end_time": "2022-01-13T00:29:56.976219",
     "exception": false,
     "start_time": "2022-01-13T00:29:56.934408",
     "status": "completed"
    },
    "tags": []
   },
   "outputs": [],
   "source": [
    "#hide\n",
    "t = everydaycases.stack()"
   ]
  },
  {
   "cell_type": "code",
   "execution_count": 22,
   "id": "premier-sleeve",
   "metadata": {
    "execution": {
     "iopub.execute_input": "2022-01-13T00:29:57.043893Z",
     "iopub.status.busy": "2022-01-13T00:29:57.043362Z",
     "iopub.status.idle": "2022-01-13T00:29:57.052003Z",
     "shell.execute_reply": "2022-01-13T00:29:57.052369Z"
    },
    "papermill": {
     "duration": 0.044376,
     "end_time": "2022-01-13T00:29:57.052484",
     "exception": false,
     "start_time": "2022-01-13T00:29:57.008108",
     "status": "completed"
    },
    "tags": []
   },
   "outputs": [],
   "source": [
    "#hide\n",
    "g = t.reset_index(['Country/Region'])"
   ]
  },
  {
   "cell_type": "code",
   "execution_count": 23,
   "id": "distributed-pittsburgh",
   "metadata": {
    "execution": {
     "iopub.execute_input": "2022-01-13T00:29:57.119186Z",
     "iopub.status.busy": "2022-01-13T00:29:57.118693Z",
     "iopub.status.idle": "2022-01-13T00:29:57.121732Z",
     "shell.execute_reply": "2022-01-13T00:29:57.122112Z"
    },
    "papermill": {
     "duration": 0.038166,
     "end_time": "2022-01-13T00:29:57.122229",
     "exception": false,
     "start_time": "2022-01-13T00:29:57.084063",
     "status": "completed"
    },
    "tags": []
   },
   "outputs": [],
   "source": [
    "#hide\n",
    "g.index.name = 'date'"
   ]
  },
  {
   "cell_type": "code",
   "execution_count": 24,
   "id": "naked-donor",
   "metadata": {
    "execution": {
     "iopub.execute_input": "2022-01-13T00:29:57.189980Z",
     "iopub.status.busy": "2022-01-13T00:29:57.189465Z",
     "iopub.status.idle": "2022-01-13T00:29:57.191627Z",
     "shell.execute_reply": "2022-01-13T00:29:57.191177Z"
    },
    "papermill": {
     "duration": 0.03754,
     "end_time": "2022-01-13T00:29:57.191727",
     "exception": false,
     "start_time": "2022-01-13T00:29:57.154187",
     "status": "completed"
    },
    "tags": []
   },
   "outputs": [],
   "source": [
    "# #hide\n",
    "# g = g.reset_index(['date'])"
   ]
  },
  {
   "cell_type": "code",
   "execution_count": 25,
   "id": "incomplete-mustang",
   "metadata": {
    "execution": {
     "iopub.execute_input": "2022-01-13T00:29:57.258834Z",
     "iopub.status.busy": "2022-01-13T00:29:57.258324Z",
     "iopub.status.idle": "2022-01-13T00:29:57.261815Z",
     "shell.execute_reply": "2022-01-13T00:29:57.261411Z"
    },
    "papermill": {
     "duration": 0.038146,
     "end_time": "2022-01-13T00:29:57.261919",
     "exception": false,
     "start_time": "2022-01-13T00:29:57.223773",
     "status": "completed"
    },
    "tags": []
   },
   "outputs": [],
   "source": [
    "#hide\n",
    "# g.head()"
   ]
  },
  {
   "cell_type": "code",
   "execution_count": 26,
   "id": "specific-kruger",
   "metadata": {
    "execution": {
     "iopub.execute_input": "2022-01-13T00:29:57.329090Z",
     "iopub.status.busy": "2022-01-13T00:29:57.328581Z",
     "iopub.status.idle": "2022-01-13T00:29:57.330508Z",
     "shell.execute_reply": "2022-01-13T00:29:57.330126Z"
    },
    "papermill": {
     "duration": 0.036759,
     "end_time": "2022-01-13T00:29:57.330606",
     "exception": false,
     "start_time": "2022-01-13T00:29:57.293847",
     "status": "completed"
    },
    "tags": []
   },
   "outputs": [],
   "source": [
    "#hide\n",
    "# g.columns = ['date','country','cases']"
   ]
  },
  {
   "cell_type": "code",
   "execution_count": 27,
   "id": "tender-conversion",
   "metadata": {
    "execution": {
     "iopub.execute_input": "2022-01-13T00:29:57.397534Z",
     "iopub.status.busy": "2022-01-13T00:29:57.397022Z",
     "iopub.status.idle": "2022-01-13T00:29:57.400396Z",
     "shell.execute_reply": "2022-01-13T00:29:57.399996Z"
    },
    "papermill": {
     "duration": 0.038007,
     "end_time": "2022-01-13T00:29:57.400499",
     "exception": false,
     "start_time": "2022-01-13T00:29:57.362492",
     "status": "completed"
    },
    "tags": []
   },
   "outputs": [],
   "source": [
    "#hide\n",
    "# g['continent'] = g.country"
   ]
  },
  {
   "cell_type": "code",
   "execution_count": 28,
   "id": "substantial-wilderness",
   "metadata": {
    "execution": {
     "iopub.execute_input": "2022-01-13T00:29:57.467868Z",
     "iopub.status.busy": "2022-01-13T00:29:57.467302Z",
     "iopub.status.idle": "2022-01-13T00:29:57.469248Z",
     "shell.execute_reply": "2022-01-13T00:29:57.468845Z"
    },
    "papermill": {
     "duration": 0.03689,
     "end_time": "2022-01-13T00:29:57.469346",
     "exception": false,
     "start_time": "2022-01-13T00:29:57.432456",
     "status": "completed"
    },
    "tags": []
   },
   "outputs": [],
   "source": [
    "#hide\n",
    "# cols = list(g.columns.values)"
   ]
  },
  {
   "cell_type": "code",
   "execution_count": 29,
   "id": "solved-farming",
   "metadata": {
    "execution": {
     "iopub.execute_input": "2022-01-13T00:29:57.535923Z",
     "iopub.status.busy": "2022-01-13T00:29:57.535382Z",
     "iopub.status.idle": "2022-01-13T00:29:57.537670Z",
     "shell.execute_reply": "2022-01-13T00:29:57.538038Z"
    },
    "papermill": {
     "duration": 0.037227,
     "end_time": "2022-01-13T00:29:57.538154",
     "exception": false,
     "start_time": "2022-01-13T00:29:57.500927",
     "status": "completed"
    },
    "tags": []
   },
   "outputs": [],
   "source": [
    "#hide\n",
    "# cols.insert(0, cols.pop())"
   ]
  },
  {
   "cell_type": "code",
   "execution_count": 30,
   "id": "executed-adoption",
   "metadata": {
    "execution": {
     "iopub.execute_input": "2022-01-13T00:29:57.604725Z",
     "iopub.status.busy": "2022-01-13T00:29:57.604216Z",
     "iopub.status.idle": "2022-01-13T00:29:57.605866Z",
     "shell.execute_reply": "2022-01-13T00:29:57.606230Z"
    },
    "papermill": {
     "duration": 0.036418,
     "end_time": "2022-01-13T00:29:57.606342",
     "exception": false,
     "start_time": "2022-01-13T00:29:57.569924",
     "status": "completed"
    },
    "tags": []
   },
   "outputs": [],
   "source": [
    "#hide\n",
    "# g = g[cols]"
   ]
  },
  {
   "cell_type": "code",
   "execution_count": 31,
   "id": "subject-dublin",
   "metadata": {
    "execution": {
     "iopub.execute_input": "2022-01-13T00:29:57.672404Z",
     "iopub.status.busy": "2022-01-13T00:29:57.671916Z",
     "iopub.status.idle": "2022-01-13T00:29:57.673593Z",
     "shell.execute_reply": "2022-01-13T00:29:57.673956Z"
    },
    "papermill": {
     "duration": 0.036169,
     "end_time": "2022-01-13T00:29:57.674066",
     "exception": false,
     "start_time": "2022-01-13T00:29:57.637897",
     "status": "completed"
    },
    "tags": []
   },
   "outputs": [],
   "source": [
    "#hide\n",
    "# g['continent'] = g['continent'].map(mapping['map.continent'])"
   ]
  },
  {
   "cell_type": "code",
   "execution_count": 32,
   "id": "freelance-scout",
   "metadata": {
    "execution": {
     "iopub.execute_input": "2022-01-13T00:29:57.740480Z",
     "iopub.status.busy": "2022-01-13T00:29:57.739969Z",
     "iopub.status.idle": "2022-01-13T00:29:57.741507Z",
     "shell.execute_reply": "2022-01-13T00:29:57.741896Z"
    },
    "papermill": {
     "duration": 0.036123,
     "end_time": "2022-01-13T00:29:57.742004",
     "exception": false,
     "start_time": "2022-01-13T00:29:57.705881",
     "status": "completed"
    },
    "tags": []
   },
   "outputs": [],
   "source": [
    "#hide\n",
    "# g.head()"
   ]
  },
  {
   "cell_type": "code",
   "execution_count": 33,
   "id": "limited-engine",
   "metadata": {
    "execution": {
     "iopub.execute_input": "2022-01-13T00:29:57.808041Z",
     "iopub.status.busy": "2022-01-13T00:29:57.807536Z",
     "iopub.status.idle": "2022-01-13T00:29:57.809191Z",
     "shell.execute_reply": "2022-01-13T00:29:57.809571Z"
    },
    "papermill": {
     "duration": 0.036153,
     "end_time": "2022-01-13T00:29:57.809677",
     "exception": false,
     "start_time": "2022-01-13T00:29:57.773524",
     "status": "completed"
    },
    "tags": []
   },
   "outputs": [],
   "source": [
    "# hide\n",
    "# g['date'] = g['date'].astype('datetime64[ns]')"
   ]
  },
  {
   "cell_type": "code",
   "execution_count": 34,
   "id": "sophisticated-supervisor",
   "metadata": {
    "execution": {
     "iopub.execute_input": "2022-01-13T00:29:57.876117Z",
     "iopub.status.busy": "2022-01-13T00:29:57.875605Z",
     "iopub.status.idle": "2022-01-13T00:29:57.878628Z",
     "shell.execute_reply": "2022-01-13T00:29:57.879001Z"
    },
    "papermill": {
     "duration": 0.037862,
     "end_time": "2022-01-13T00:29:57.879116",
     "exception": false,
     "start_time": "2022-01-13T00:29:57.841254",
     "status": "completed"
    },
    "tags": []
   },
   "outputs": [],
   "source": [
    "#hide\n",
    "# g['date'] = g.date.dt.dayofyear"
   ]
  },
  {
   "cell_type": "code",
   "execution_count": 35,
   "id": "inside-dubai",
   "metadata": {
    "execution": {
     "iopub.execute_input": "2022-01-13T00:29:57.945856Z",
     "iopub.status.busy": "2022-01-13T00:29:57.945330Z",
     "iopub.status.idle": "2022-01-13T00:29:57.947341Z",
     "shell.execute_reply": "2022-01-13T00:29:57.946934Z"
    },
    "papermill": {
     "duration": 0.036639,
     "end_time": "2022-01-13T00:29:57.947453",
     "exception": false,
     "start_time": "2022-01-13T00:29:57.910814",
     "status": "completed"
    },
    "tags": []
   },
   "outputs": [],
   "source": [
    "#hide\n",
    "# g = g.rename(columns= {'continent':'group','country':'name','cases':'value'})"
   ]
  },
  {
   "cell_type": "code",
   "execution_count": 36,
   "id": "fleet-motorcycle",
   "metadata": {
    "execution": {
     "iopub.execute_input": "2022-01-13T00:29:58.014546Z",
     "iopub.status.busy": "2022-01-13T00:29:58.014023Z",
     "iopub.status.idle": "2022-01-13T00:29:58.017088Z",
     "shell.execute_reply": "2022-01-13T00:29:58.017459Z"
    },
    "papermill": {
     "duration": 0.038249,
     "end_time": "2022-01-13T00:29:58.017581",
     "exception": false,
     "start_time": "2022-01-13T00:29:57.979332",
     "status": "completed"
    },
    "tags": []
   },
   "outputs": [],
   "source": [
    "#hide\n",
    "# cols = ['name','group','day','value']"
   ]
  },
  {
   "cell_type": "code",
   "execution_count": 37,
   "id": "continued-sleeping",
   "metadata": {
    "execution": {
     "iopub.execute_input": "2022-01-13T00:29:58.087107Z",
     "iopub.status.busy": "2022-01-13T00:29:58.086596Z",
     "iopub.status.idle": "2022-01-13T00:29:58.088584Z",
     "shell.execute_reply": "2022-01-13T00:29:58.088178Z"
    },
    "papermill": {
     "duration": 0.039144,
     "end_time": "2022-01-13T00:29:58.088684",
     "exception": false,
     "start_time": "2022-01-13T00:29:58.049540",
     "status": "completed"
    },
    "tags": []
   },
   "outputs": [],
   "source": [
    "#hide\n",
    "# g.rename(columns= {'date':'day'},inplace = True)"
   ]
  },
  {
   "cell_type": "code",
   "execution_count": 38,
   "id": "major-fight",
   "metadata": {
    "execution": {
     "iopub.execute_input": "2022-01-13T00:29:58.156636Z",
     "iopub.status.busy": "2022-01-13T00:29:58.156101Z",
     "iopub.status.idle": "2022-01-13T00:29:58.157666Z",
     "shell.execute_reply": "2022-01-13T00:29:58.158050Z"
    },
    "papermill": {
     "duration": 0.037513,
     "end_time": "2022-01-13T00:29:58.158170",
     "exception": false,
     "start_time": "2022-01-13T00:29:58.120657",
     "status": "completed"
    },
    "tags": []
   },
   "outputs": [],
   "source": [
    "#hide\n",
    "# g = g[cols]"
   ]
  },
  {
   "cell_type": "code",
   "execution_count": 39,
   "id": "structured-mobile",
   "metadata": {
    "execution": {
     "iopub.execute_input": "2022-01-13T00:29:58.225876Z",
     "iopub.status.busy": "2022-01-13T00:29:58.225339Z",
     "iopub.status.idle": "2022-01-13T00:29:58.228471Z",
     "shell.execute_reply": "2022-01-13T00:29:58.228843Z"
    },
    "papermill": {
     "duration": 0.038592,
     "end_time": "2022-01-13T00:29:58.228967",
     "exception": false,
     "start_time": "2022-01-13T00:29:58.190375",
     "status": "completed"
    },
    "tags": []
   },
   "outputs": [],
   "source": [
    "# #hide\n",
    "# g = g[g.group.notna()]"
   ]
  },
  {
   "cell_type": "code",
   "execution_count": 40,
   "id": "determined-closing",
   "metadata": {
    "execution": {
     "iopub.execute_input": "2022-01-13T00:29:58.296463Z",
     "iopub.status.busy": "2022-01-13T00:29:58.295952Z",
     "iopub.status.idle": "2022-01-13T00:29:58.297914Z",
     "shell.execute_reply": "2022-01-13T00:29:58.297523Z"
    },
    "papermill": {
     "duration": 0.036943,
     "end_time": "2022-01-13T00:29:58.298017",
     "exception": false,
     "start_time": "2022-01-13T00:29:58.261074",
     "status": "completed"
    },
    "tags": []
   },
   "outputs": [],
   "source": [
    "# #hide\n",
    "# colors = dict(zip(\n",
    "#     [\"Oceania\", \"Europe\", \"Asia\", \"South America\", \"Middle East\", \"North America\", \"Africa\"],\n",
    "#     [\"#adb0ff\", \"#ffb3ff\", \"#90d595\", \"#e48381\", \"#aafbff\", \"#f7bb5f\", \"#eafb50\"]\n",
    "# ))\n",
    "# group_lk = g.set_index('name')['group'].to_dict()"
   ]
  },
  {
   "cell_type": "code",
   "execution_count": null,
   "id": "gross-drinking",
   "metadata": {
    "papermill": {
     "duration": 0.032978,
     "end_time": "2022-01-13T00:29:58.362812",
     "exception": false,
     "start_time": "2022-01-13T00:29:58.329834",
     "status": "completed"
    },
    "tags": []
   },
   "outputs": [],
   "source": []
  },
  {
   "cell_type": "code",
   "execution_count": 41,
   "id": "subject-macintosh",
   "metadata": {
    "execution": {
     "iopub.execute_input": "2022-01-13T00:29:58.432144Z",
     "iopub.status.busy": "2022-01-13T00:29:58.431601Z",
     "iopub.status.idle": "2022-01-13T00:29:58.433840Z",
     "shell.execute_reply": "2022-01-13T00:29:58.434213Z"
    },
    "papermill": {
     "duration": 0.037953,
     "end_time": "2022-01-13T00:29:58.434337",
     "exception": false,
     "start_time": "2022-01-13T00:29:58.396384",
     "status": "completed"
    },
    "tags": []
   },
   "outputs": [],
   "source": [
    "# #hide\n",
    "# fig, ax = plt.subplots(figsize=(15, 8))\n",
    "\n",
    "# def draw_barchart(current_day):\n",
    "#     dff = g[g['day'].eq(current_day)].sort_values(by='value', ascending=True).tail(10)\n",
    "#     ax.clear()\n",
    "#     ax.barh(dff['name'], dff['value'], color=[colors[group_lk[x]] for x in dff['name']])\n",
    "#     dx = dff['value'].max() / 200\n",
    "    \n",
    "#     for i, (value, name) in enumerate(zip(dff['value'], dff['name'])):\n",
    "#         ax.text(value-dx, i,     name,           size=14, weight=600, ha='right', va='bottom')\n",
    "#         ax.text(value-dx, i-.25, group_lk[name], size=10, color='#444444', ha='right', va='baseline')\n",
    "#         ax.text(value+dx, i,     f'{value:,.0f}',  size=14, ha='left',  va='center')\n",
    "#     ax.text(1, 0.4, current_day, transform=ax.transAxes, color='#777777', size=46, ha='right', weight=800)\n",
    "#     ax.text(0, 1.06, 'Population (thousands)', transform=ax.transAxes, size=12, color='#777777')\n",
    "#     ax.xaxis.set_major_formatter(ticker.StrMethodFormatter('{x:,.0f}'))\n",
    "#     ax.xaxis.set_ticks_position('top')\n",
    "#     ax.tick_params(axis='x', colors='#777777', labelsize=12)\n",
    "#     ax.set_yticks([])\n",
    "#     ax.margins(0, 0.01)\n",
    "#     ax.grid(which='major', axis='x', linestyle='-')\n",
    "#     ax.set_axisbelow(True)\n",
    "    \n",
    "#     ax.text(0, 1.15, 'Coronavirus',\n",
    "#             transform=ax.transAxes, size=24, weight=600, ha='left', va='top')\n",
    "# #     ax.text(1, 0, 'by @pratapvardhan; credit @jburnmurdoch', transform=ax.transAxes, color='#777777', ha='right',\n",
    "# #             bbox=dict(facecolor='white', alpha=0.8, edgecolor='white'))\n",
    "#     plt.box(False)"
   ]
  },
  {
   "cell_type": "code",
   "execution_count": 42,
   "id": "sexual-wages",
   "metadata": {
    "execution": {
     "iopub.execute_input": "2022-01-13T00:29:58.502415Z",
     "iopub.status.busy": "2022-01-13T00:29:58.501892Z",
     "iopub.status.idle": "2022-01-13T00:29:58.504915Z",
     "shell.execute_reply": "2022-01-13T00:29:58.505284Z"
    },
    "papermill": {
     "duration": 0.039089,
     "end_time": "2022-01-13T00:29:58.505403",
     "exception": false,
     "start_time": "2022-01-13T00:29:58.466314",
     "status": "completed"
    },
    "tags": []
   },
   "outputs": [],
   "source": [
    "# #hide_input\n",
    "# fig, ax = plt.subplots(figsize=(15, 8))\n",
    "# animator = animation.FuncAnimation(fig, draw_barchart, frames=range(g.day.values.min(), g.day.values.max()))\n",
    "# HTML(animator.to_jshtml())\n",
    "# # or use animator.to_html5_video() or animator.save() "
   ]
  },
  {
   "cell_type": "code",
   "execution_count": null,
   "id": "australian-container",
   "metadata": {
    "papermill": {
     "duration": 0.03162,
     "end_time": "2022-01-13T00:29:58.568906",
     "exception": false,
     "start_time": "2022-01-13T00:29:58.537286",
     "status": "completed"
    },
    "tags": []
   },
   "outputs": [],
   "source": []
  },
  {
   "cell_type": "code",
   "execution_count": null,
   "id": "mediterranean-pontiac",
   "metadata": {
    "papermill": {
     "duration": 0.03161,
     "end_time": "2022-01-13T00:29:58.632164",
     "exception": false,
     "start_time": "2022-01-13T00:29:58.600554",
     "status": "completed"
    },
    "tags": []
   },
   "outputs": [],
   "source": []
  },
  {
   "cell_type": "code",
   "execution_count": null,
   "id": "aging-legislature",
   "metadata": {
    "papermill": {
     "duration": 0.031597,
     "end_time": "2022-01-13T00:29:58.695640",
     "exception": false,
     "start_time": "2022-01-13T00:29:58.664043",
     "status": "completed"
    },
    "tags": []
   },
   "outputs": [],
   "source": []
  }
 ],
 "metadata": {
  "kernelspec": {
   "display_name": "Python 3",
   "language": "python",
   "name": "python3"
  },
  "language_info": {
   "codemirror_mode": {
    "name": "ipython",
    "version": 3
   },
   "file_extension": ".py",
   "mimetype": "text/x-python",
   "name": "python",
   "nbconvert_exporter": "python",
   "pygments_lexer": "ipython3",
   "version": "3.6.15"
  },
  "papermill": {
   "duration": 6.157276,
   "end_time": "2022-01-13T00:29:59.034209",
   "environment_variables": {},
   "exception": null,
   "input_path": "2020-03-21-covid19exp.ipynb",
   "output_path": "2020-03-21-covid19exp.ipynb",
   "parameters": {},
   "start_time": "2022-01-13T00:29:52.876933",
   "version": "2.0.0"
  }
 },
 "nbformat": 4,
 "nbformat_minor": 5
}