{
 "cells": [
  {
   "cell_type": "markdown",
   "metadata": {
    "papermill": {
     "duration": 0.03626,
     "end_time": "2020-12-12T00:11:40.712585",
     "exception": false,
     "start_time": "2020-12-12T00:11:40.676325",
     "status": "completed"
    },
    "tags": []
   },
   "source": [
    "# COVID-19 Case Race\n",
    "> A race chart to see rising cases around the world\n",
    "\n",
    "- author: Hargun Oberoi\n",
    "- image: images/covid-overview.png\n",
    "- hide: false\n",
    "- badges: false"
   ]
  },
  {
   "cell_type": "code",
   "execution_count": 1,
   "metadata": {
    "execution": {
     "iopub.execute_input": "2020-12-12T00:11:40.781079Z",
     "iopub.status.busy": "2020-12-12T00:11:40.780344Z",
     "iopub.status.idle": "2020-12-12T00:11:41.139888Z",
     "shell.execute_reply": "2020-12-12T00:11:41.138936Z"
    },
    "papermill": {
     "duration": 0.399212,
     "end_time": "2020-12-12T00:11:41.140137",
     "exception": false,
     "start_time": "2020-12-12T00:11:40.740925",
     "status": "completed"
    },
    "tags": []
   },
   "outputs": [],
   "source": [
    "#hide\n",
    "import numpy as np\n",
    "import pandas as pd\n",
    "from jinja2 import Template\n",
    "from IPython.display import HTML"
   ]
  },
  {
   "cell_type": "code",
   "execution_count": 2,
   "metadata": {
    "execution": {
     "iopub.execute_input": "2020-12-12T00:11:41.203092Z",
     "iopub.status.busy": "2020-12-12T00:11:41.202480Z",
     "iopub.status.idle": "2020-12-12T00:11:41.204715Z",
     "shell.execute_reply": "2020-12-12T00:11:41.205123Z"
    },
    "papermill": {
     "duration": 0.036138,
     "end_time": "2020-12-12T00:11:41.205245",
     "exception": false,
     "start_time": "2020-12-12T00:11:41.169107",
     "status": "completed"
    },
    "tags": []
   },
   "outputs": [],
   "source": [
    "#hide\n",
    "\n",
    "# FETCH\n",
    "base_url = 'https://raw.githubusercontent.com/pratapvardhan/notebooks/master/covid19/'\n",
    "paths = {\n",
    "    'mapping': base_url + 'mapping_countries.csv',\n",
    "    'overview': base_url + 'overview.tpl'\n",
    "}"
   ]
  },
  {
   "cell_type": "code",
   "execution_count": 3,
   "metadata": {
    "execution": {
     "iopub.execute_input": "2020-12-12T00:11:41.270471Z",
     "iopub.status.busy": "2020-12-12T00:11:41.269932Z",
     "iopub.status.idle": "2020-12-12T00:11:41.272944Z",
     "shell.execute_reply": "2020-12-12T00:11:41.272478Z"
    },
    "papermill": {
     "duration": 0.041024,
     "end_time": "2020-12-12T00:11:41.273035",
     "exception": false,
     "start_time": "2020-12-12T00:11:41.232011",
     "status": "completed"
    },
    "tags": []
   },
   "outputs": [
    {
     "data": {
      "text/plain": [
       "'https://raw.githubusercontent.com/pratapvardhan/notebooks/master/covid19/mapping_countries.csv'"
      ]
     },
     "execution_count": 3,
     "metadata": {},
     "output_type": "execute_result"
    }
   ],
   "source": [
    "#hide\n",
    "paths['mapping']"
   ]
  },
  {
   "cell_type": "code",
   "execution_count": 4,
   "metadata": {
    "execution": {
     "iopub.execute_input": "2020-12-12T00:11:41.335726Z",
     "iopub.status.busy": "2020-12-12T00:11:41.335133Z",
     "iopub.status.idle": "2020-12-12T00:11:41.337070Z",
     "shell.execute_reply": "2020-12-12T00:11:41.337574Z"
    },
    "papermill": {
     "duration": 0.036803,
     "end_time": "2020-12-12T00:11:41.337703",
     "exception": false,
     "start_time": "2020-12-12T00:11:41.300900",
     "status": "completed"
    },
    "tags": []
   },
   "outputs": [],
   "source": [
    "#hide\n",
    "def get_mappings(url):\n",
    "    df = pd.read_csv(url)\n",
    "    return {\n",
    "        'df': df,\n",
    "        'replace.country': dict(df.dropna(subset=['Name']).set_index('Country')['Name']),\n",
    "        'map.continent': dict(df.set_index('Name')['Continent'])\n",
    "    }"
   ]
  },
  {
   "cell_type": "code",
   "execution_count": 5,
   "metadata": {
    "execution": {
     "iopub.execute_input": "2020-12-12T00:11:41.398750Z",
     "iopub.status.busy": "2020-12-12T00:11:41.398139Z",
     "iopub.status.idle": "2020-12-12T00:11:41.440031Z",
     "shell.execute_reply": "2020-12-12T00:11:41.439064Z"
    },
    "papermill": {
     "duration": 0.075238,
     "end_time": "2020-12-12T00:11:41.440149",
     "exception": false,
     "start_time": "2020-12-12T00:11:41.364911",
     "status": "completed"
    },
    "tags": []
   },
   "outputs": [],
   "source": [
    "#hide\n",
    "mapping = get_mappings(paths['mapping'])"
   ]
  },
  {
   "cell_type": "code",
   "execution_count": 6,
   "metadata": {
    "execution": {
     "iopub.execute_input": "2020-12-12T00:11:41.498732Z",
     "iopub.status.busy": "2020-12-12T00:11:41.497881Z",
     "iopub.status.idle": "2020-12-12T00:11:41.499990Z",
     "shell.execute_reply": "2020-12-12T00:11:41.499444Z"
    },
    "papermill": {
     "duration": 0.033252,
     "end_time": "2020-12-12T00:11:41.500120",
     "exception": false,
     "start_time": "2020-12-12T00:11:41.466868",
     "status": "completed"
    },
    "tags": []
   },
   "outputs": [],
   "source": [
    "#hide\n",
    "def get_template(path):\n",
    "    from urllib.parse import urlparse\n",
    "    if bool(urlparse(path).netloc):\n",
    "        from urllib.request import urlopen\n",
    "        return urlopen(path).read().decode('utf8')\n",
    "    return open(path).read()"
   ]
  },
  {
   "cell_type": "code",
   "execution_count": 7,
   "metadata": {
    "execution": {
     "iopub.execute_input": "2020-12-12T00:11:41.566663Z",
     "iopub.status.busy": "2020-12-12T00:11:41.566105Z",
     "iopub.status.idle": "2020-12-12T00:11:41.568872Z",
     "shell.execute_reply": "2020-12-12T00:11:41.569471Z"
    },
    "papermill": {
     "duration": 0.040231,
     "end_time": "2020-12-12T00:11:41.569607",
     "exception": false,
     "start_time": "2020-12-12T00:11:41.529376",
     "status": "completed"
    },
    "tags": []
   },
   "outputs": [],
   "source": [
    "#hide\n",
    "def get_frame(name):\n",
    "    url = (\n",
    "        'https://raw.githubusercontent.com/CSSEGISandData/COVID-19/master/csse_covid_19_data/'\n",
    "        f'csse_covid_19_time_series/time_series_covid19_{name}_global.csv')\n",
    "    df = pd.read_csv(url)\n",
    "    # rename countries\n",
    "    df['Country/Region'] = df['Country/Region'].replace(mapping['replace.country'])\n",
    "    return df"
   ]
  },
  {
   "cell_type": "code",
   "execution_count": 8,
   "metadata": {
    "execution": {
     "iopub.execute_input": "2020-12-12T00:11:41.633003Z",
     "iopub.status.busy": "2020-12-12T00:11:41.632462Z",
     "iopub.status.idle": "2020-12-12T00:11:41.634668Z",
     "shell.execute_reply": "2020-12-12T00:11:41.634124Z"
    },
    "papermill": {
     "duration": 0.036305,
     "end_time": "2020-12-12T00:11:41.634780",
     "exception": false,
     "start_time": "2020-12-12T00:11:41.598475",
     "status": "completed"
    },
    "tags": []
   },
   "outputs": [],
   "source": [
    "#hide\n",
    "def get_dates(df):\n",
    "    dt_cols = df.columns[~df.columns.isin(['Province/State', 'Country/Region', 'Lat', 'Long'])]\n",
    "    LAST_DATE_I = -1\n",
    "    # sometimes last column may be empty, then go backwards\n",
    "    for i in range(-1, -len(dt_cols), -1):\n",
    "        if not df[dt_cols[i]].fillna(0).eq(0).all():\n",
    "            LAST_DATE_I = i\n",
    "            break\n",
    "    return LAST_DATE_I, dt_cols"
   ]
  },
  {
   "cell_type": "code",
   "execution_count": 9,
   "metadata": {
    "execution": {
     "iopub.execute_input": "2020-12-12T00:11:41.699528Z",
     "iopub.status.busy": "2020-12-12T00:11:41.698430Z",
     "iopub.status.idle": "2020-12-12T00:11:41.987461Z",
     "shell.execute_reply": "2020-12-12T00:11:41.986801Z"
    },
    "papermill": {
     "duration": 0.323488,
     "end_time": "2020-12-12T00:11:41.987627",
     "exception": false,
     "start_time": "2020-12-12T00:11:41.664139",
     "status": "completed"
    },
    "tags": []
   },
   "outputs": [],
   "source": [
    "#hide\n",
    "COL_REGION = 'Country/Region'\n",
    "# Confirmed, Recovered, Deaths\n",
    "df = get_frame('confirmed')\n",
    "# dft_: timeseries, dfc_: today country agg\n",
    "dft_cases = df\n",
    "dft_deaths = get_frame('deaths')\n",
    "dft_recovered = get_frame('recovered')\n",
    "LAST_DATE_I, dt_cols = get_dates(df)"
   ]
  },
  {
   "cell_type": "code",
   "execution_count": 10,
   "metadata": {
    "execution": {
     "iopub.execute_input": "2020-12-12T00:11:42.061459Z",
     "iopub.status.busy": "2020-12-12T00:11:42.060648Z",
     "iopub.status.idle": "2020-12-12T00:11:42.062294Z",
     "shell.execute_reply": "2020-12-12T00:11:42.062953Z"
    },
    "papermill": {
     "duration": 0.044094,
     "end_time": "2020-12-12T00:11:42.063151",
     "exception": false,
     "start_time": "2020-12-12T00:11:42.019057",
     "status": "completed"
    },
    "tags": []
   },
   "outputs": [],
   "source": [
    "#hide\n",
    "LAST_DATE_I, dt_cols = get_dates(df)\n",
    "dt_today =dt_cols[LAST_DATE_I]\n",
    "# dt_5day = dt_cols[LAST_DATE_I - 5]\n",
    "dt_yday = dt_cols[LAST_DATE_I - 1]"
   ]
  },
  {
   "cell_type": "code",
   "execution_count": 11,
   "metadata": {
    "execution": {
     "iopub.execute_input": "2020-12-12T00:11:42.130243Z",
     "iopub.status.busy": "2020-12-12T00:11:42.129660Z",
     "iopub.status.idle": "2020-12-12T00:11:42.135747Z",
     "shell.execute_reply": "2020-12-12T00:11:42.135244Z"
    },
    "papermill": {
     "duration": 0.042385,
     "end_time": "2020-12-12T00:11:42.135873",
     "exception": false,
     "start_time": "2020-12-12T00:11:42.093488",
     "status": "completed"
    },
    "tags": []
   },
   "outputs": [],
   "source": [
    "#hide\n",
    "dfc_cases = dft_cases.groupby(COL_REGION)[dt_today].sum()\n",
    "dfc_deaths = dft_deaths.groupby(COL_REGION)[dt_today].sum()\n",
    "# dfp_cases = dft_cases.groupby(COL_REGION)[dt_5day].sum()\n",
    "# dfp_deaths = dft_deaths.groupby(COL_REGION)[dt_5day].sum()\n",
    "dfp_cases = dft_cases.groupby(COL_REGION)[dt_yday].sum()\n",
    "dfp_deaths = dft_deaths.groupby(COL_REGION)[dt_yday].sum()"
   ]
  },
  {
   "cell_type": "code",
   "execution_count": 12,
   "metadata": {
    "execution": {
     "iopub.execute_input": "2020-12-12T00:11:42.200490Z",
     "iopub.status.busy": "2020-12-12T00:11:42.199909Z",
     "iopub.status.idle": "2020-12-12T00:11:42.204855Z",
     "shell.execute_reply": "2020-12-12T00:11:42.204397Z"
    },
    "papermill": {
     "duration": 0.040197,
     "end_time": "2020-12-12T00:11:42.204969",
     "exception": false,
     "start_time": "2020-12-12T00:11:42.164772",
     "status": "completed"
    },
    "tags": []
   },
   "outputs": [],
   "source": [
    "#hide\n",
    "df_table = (pd.DataFrame(dict(Cases = dfc_cases, Deaths = dfc_deaths, PCases = dfp_cases, PDeaths = dfp_deaths))\n",
    "            .sort_values(by = ['Cases','Deaths'], ascending = [False, False])\n",
    "            .reset_index())"
   ]
  },
  {
   "cell_type": "code",
   "execution_count": 13,
   "metadata": {
    "execution": {
     "iopub.execute_input": "2020-12-12T00:11:42.277566Z",
     "iopub.status.busy": "2020-12-12T00:11:42.276808Z",
     "iopub.status.idle": "2020-12-12T00:11:42.284427Z",
     "shell.execute_reply": "2020-12-12T00:11:42.285236Z"
    },
    "papermill": {
     "duration": 0.05362,
     "end_time": "2020-12-12T00:11:42.285463",
     "exception": false,
     "start_time": "2020-12-12T00:11:42.231843",
     "status": "completed"
    },
    "tags": []
   },
   "outputs": [
    {
     "data": {
      "text/html": [
       "<div>\n",
       "<style scoped>\n",
       "    .dataframe tbody tr th:only-of-type {\n",
       "        vertical-align: middle;\n",
       "    }\n",
       "\n",
       "    .dataframe tbody tr th {\n",
       "        vertical-align: top;\n",
       "    }\n",
       "\n",
       "    .dataframe thead th {\n",
       "        text-align: right;\n",
       "    }\n",
       "</style>\n",
       "<table border=\"1\" class=\"dataframe\">\n",
       "  <thead>\n",
       "    <tr style=\"text-align: right;\">\n",
       "      <th></th>\n",
       "      <th>Country/Region</th>\n",
       "      <th>Cases</th>\n",
       "      <th>Deaths</th>\n",
       "      <th>PCases</th>\n",
       "      <th>PDeaths</th>\n",
       "      <th>Cases (+)</th>\n",
       "      <th>Deaths (+)</th>\n",
       "      <th>Fatality Rate</th>\n",
       "      <th>Continent</th>\n",
       "    </tr>\n",
       "  </thead>\n",
       "  <tbody>\n",
       "    <tr>\n",
       "      <th>0</th>\n",
       "      <td>US</td>\n",
       "      <td>15611014</td>\n",
       "      <td>292141</td>\n",
       "      <td>15386562</td>\n",
       "      <td>289373</td>\n",
       "      <td>224452</td>\n",
       "      <td>2768</td>\n",
       "      <td>1.87</td>\n",
       "      <td>North America</td>\n",
       "    </tr>\n",
       "    <tr>\n",
       "      <th>1</th>\n",
       "      <td>India</td>\n",
       "      <td>9796744</td>\n",
       "      <td>142185</td>\n",
       "      <td>9767371</td>\n",
       "      <td>141772</td>\n",
       "      <td>29373</td>\n",
       "      <td>413</td>\n",
       "      <td>1.45</td>\n",
       "      <td>Asia</td>\n",
       "    </tr>\n",
       "    <tr>\n",
       "      <th>2</th>\n",
       "      <td>Brazil</td>\n",
       "      <td>6781799</td>\n",
       "      <td>179765</td>\n",
       "      <td>6728452</td>\n",
       "      <td>178995</td>\n",
       "      <td>53347</td>\n",
       "      <td>770</td>\n",
       "      <td>2.65</td>\n",
       "      <td>South America</td>\n",
       "    </tr>\n",
       "    <tr>\n",
       "      <th>3</th>\n",
       "      <td>Russia</td>\n",
       "      <td>2546113</td>\n",
       "      <td>44769</td>\n",
       "      <td>2518551</td>\n",
       "      <td>44220</td>\n",
       "      <td>27562</td>\n",
       "      <td>549</td>\n",
       "      <td>1.76</td>\n",
       "      <td>Europe</td>\n",
       "    </tr>\n",
       "    <tr>\n",
       "      <th>4</th>\n",
       "      <td>France</td>\n",
       "      <td>2391643</td>\n",
       "      <td>57044</td>\n",
       "      <td>2377913</td>\n",
       "      <td>56752</td>\n",
       "      <td>13730</td>\n",
       "      <td>292</td>\n",
       "      <td>2.39</td>\n",
       "      <td>Europe</td>\n",
       "    </tr>\n",
       "  </tbody>\n",
       "</table>\n",
       "</div>"
      ],
      "text/plain": [
       "  Country/Region     Cases  Deaths    PCases  PDeaths  Cases (+)  Deaths (+)  \\\n",
       "0             US  15611014  292141  15386562   289373     224452        2768   \n",
       "1          India   9796744  142185   9767371   141772      29373         413   \n",
       "2         Brazil   6781799  179765   6728452   178995      53347         770   \n",
       "3         Russia   2546113   44769   2518551    44220      27562         549   \n",
       "4         France   2391643   57044   2377913    56752      13730         292   \n",
       "\n",
       "   Fatality Rate      Continent  \n",
       "0           1.87  North America  \n",
       "1           1.45           Asia  \n",
       "2           2.65  South America  \n",
       "3           1.76         Europe  \n",
       "4           2.39         Europe  "
      ]
     },
     "execution_count": 13,
     "metadata": {},
     "output_type": "execute_result"
    }
   ],
   "source": [
    "#hide\n",
    "for c in 'Cases, Deaths'.split(', '):\n",
    "    df_table[f'{c} (+)'] = (df_table[c] - df_table[f'P{c}']).clip(0)\n",
    "    #Clip ça veut dire, les chiffres negatif sont interdit\n",
    "df_table['Fatality Rate'] = (100* df_table['Deaths']/ df_table['Cases']).round(2)\n",
    "df_table['Continent'] = df_table['Country/Region'].map(mapping['map.continent'])\n",
    "df_table.head(5)"
   ]
  },
  {
   "cell_type": "code",
   "execution_count": 14,
   "metadata": {
    "execution": {
     "iopub.execute_input": "2020-12-12T00:11:42.351830Z",
     "iopub.status.busy": "2020-12-12T00:11:42.351236Z",
     "iopub.status.idle": "2020-12-12T00:11:42.355369Z",
     "shell.execute_reply": "2020-12-12T00:11:42.355841Z"
    },
    "papermill": {
     "duration": 0.039114,
     "end_time": "2020-12-12T00:11:42.355983",
     "exception": false,
     "start_time": "2020-12-12T00:11:42.316869",
     "status": "completed"
    },
    "tags": []
   },
   "outputs": [],
   "source": [
    "#hide\n",
    "#delete problematic countries from table\n",
    "df_table = df_table[~df_table['Country/Region'].isin(['Cape Verde', 'Cruise Ship', 'Kosovo'])]"
   ]
  },
  {
   "cell_type": "code",
   "execution_count": 15,
   "metadata": {
    "execution": {
     "iopub.execute_input": "2020-12-12T00:11:42.423096Z",
     "iopub.status.busy": "2020-12-12T00:11:42.421697Z",
     "iopub.status.idle": "2020-12-12T00:11:42.440551Z",
     "shell.execute_reply": "2020-12-12T00:11:42.440990Z"
    },
    "papermill": {
     "duration": 0.056443,
     "end_time": "2020-12-12T00:11:42.441116",
     "exception": false,
     "start_time": "2020-12-12T00:11:42.384673",
     "status": "completed"
    },
    "tags": []
   },
   "outputs": [
    {
     "data": {
      "text/html": [
       "<div>\n",
       "<style scoped>\n",
       "    .dataframe tbody tr th:only-of-type {\n",
       "        vertical-align: middle;\n",
       "    }\n",
       "\n",
       "    .dataframe tbody tr th {\n",
       "        vertical-align: top;\n",
       "    }\n",
       "\n",
       "    .dataframe thead th {\n",
       "        text-align: right;\n",
       "    }\n",
       "</style>\n",
       "<table border=\"1\" class=\"dataframe\">\n",
       "  <thead>\n",
       "    <tr style=\"text-align: right;\">\n",
       "      <th></th>\n",
       "      <th>Country/Region</th>\n",
       "      <th>Cases</th>\n",
       "      <th>Deaths</th>\n",
       "      <th>PCases</th>\n",
       "      <th>PDeaths</th>\n",
       "      <th>Cases (+)</th>\n",
       "      <th>Deaths (+)</th>\n",
       "      <th>Fatality Rate</th>\n",
       "      <th>Continent</th>\n",
       "    </tr>\n",
       "  </thead>\n",
       "  <tbody>\n",
       "    <tr>\n",
       "      <th>0</th>\n",
       "      <td>US</td>\n",
       "      <td>15611014</td>\n",
       "      <td>292141</td>\n",
       "      <td>15386562</td>\n",
       "      <td>289373</td>\n",
       "      <td>224452</td>\n",
       "      <td>2768</td>\n",
       "      <td>1.9</td>\n",
       "      <td>North America</td>\n",
       "    </tr>\n",
       "    <tr>\n",
       "      <th>1</th>\n",
       "      <td>India</td>\n",
       "      <td>9796744</td>\n",
       "      <td>142185</td>\n",
       "      <td>9767371</td>\n",
       "      <td>141772</td>\n",
       "      <td>29373</td>\n",
       "      <td>413</td>\n",
       "      <td>1.5</td>\n",
       "      <td>Asia</td>\n",
       "    </tr>\n",
       "    <tr>\n",
       "      <th>2</th>\n",
       "      <td>Brazil</td>\n",
       "      <td>6781799</td>\n",
       "      <td>179765</td>\n",
       "      <td>6728452</td>\n",
       "      <td>178995</td>\n",
       "      <td>53347</td>\n",
       "      <td>770</td>\n",
       "      <td>2.7</td>\n",
       "      <td>South America</td>\n",
       "    </tr>\n",
       "    <tr>\n",
       "      <th>3</th>\n",
       "      <td>Russia</td>\n",
       "      <td>2546113</td>\n",
       "      <td>44769</td>\n",
       "      <td>2518551</td>\n",
       "      <td>44220</td>\n",
       "      <td>27562</td>\n",
       "      <td>549</td>\n",
       "      <td>1.8</td>\n",
       "      <td>Europe</td>\n",
       "    </tr>\n",
       "    <tr>\n",
       "      <th>4</th>\n",
       "      <td>France</td>\n",
       "      <td>2391643</td>\n",
       "      <td>57044</td>\n",
       "      <td>2377913</td>\n",
       "      <td>56752</td>\n",
       "      <td>13730</td>\n",
       "      <td>292</td>\n",
       "      <td>2.4</td>\n",
       "      <td>Europe</td>\n",
       "    </tr>\n",
       "  </tbody>\n",
       "</table>\n",
       "</div>"
      ],
      "text/plain": [
       "  Country/Region     Cases  Deaths    PCases  PDeaths  Cases (+)  Deaths (+)  \\\n",
       "0             US  15611014  292141  15386562   289373     224452        2768   \n",
       "1          India   9796744  142185   9767371   141772      29373         413   \n",
       "2         Brazil   6781799  179765   6728452   178995      53347         770   \n",
       "3         Russia   2546113   44769   2518551    44220      27562         549   \n",
       "4         France   2391643   57044   2377913    56752      13730         292   \n",
       "\n",
       "   Fatality Rate      Continent  \n",
       "0            1.9  North America  \n",
       "1            1.5           Asia  \n",
       "2            2.7  South America  \n",
       "3            1.8         Europe  \n",
       "4            2.4         Europe  "
      ]
     },
     "execution_count": 15,
     "metadata": {},
     "output_type": "execute_result"
    }
   ],
   "source": [
    "#hide\n",
    "df_table = (pd.DataFrame(dict(Cases=dfc_cases, Deaths=dfc_deaths, PCases=dfp_cases, PDeaths=dfp_deaths))\n",
    "             .sort_values(by=['Cases', 'Deaths'], ascending=[False, False])\n",
    "             .reset_index())\n",
    "df_table.rename(columns={'index': 'Country/Region'}, inplace=True)\n",
    "for c in 'Cases, Deaths'.split(', '):\n",
    "    df_table[f'{c} (+)'] = (df_table[c] - df_table[f'P{c}']).clip(0)  # DATA BUG\n",
    "df_table['Fatality Rate'] = (100 * df_table['Deaths'] / df_table['Cases']).round(1)\n",
    "df_table['Continent'] = df_table['Country/Region'].map(mapping['map.continent'])\n",
    "df_table.head(5)"
   ]
  },
  {
   "cell_type": "code",
   "execution_count": 16,
   "metadata": {
    "execution": {
     "iopub.execute_input": "2020-12-12T00:11:42.503041Z",
     "iopub.status.busy": "2020-12-12T00:11:42.502524Z",
     "iopub.status.idle": "2020-12-12T00:11:42.505350Z",
     "shell.execute_reply": "2020-12-12T00:11:42.505848Z"
    },
    "papermill": {
     "duration": 0.035928,
     "end_time": "2020-12-12T00:11:42.505977",
     "exception": false,
     "start_time": "2020-12-12T00:11:42.470049",
     "status": "completed"
    },
    "tags": []
   },
   "outputs": [],
   "source": [
    "#hide\n",
    "#delete problematic countries from table\n",
    "df_table = df_table[~df_table['Country/Region'].isin(['Cape Verde', 'Cruise Ship', 'Kosovo'])]"
   ]
  },
  {
   "cell_type": "code",
   "execution_count": 17,
   "metadata": {
    "execution": {
     "iopub.execute_input": "2020-12-12T00:11:42.574998Z",
     "iopub.status.busy": "2020-12-12T00:11:42.574425Z",
     "iopub.status.idle": "2020-12-12T00:11:42.587169Z",
     "shell.execute_reply": "2020-12-12T00:11:42.586670Z"
    },
    "papermill": {
     "duration": 0.053954,
     "end_time": "2020-12-12T00:11:42.587296",
     "exception": false,
     "start_time": "2020-12-12T00:11:42.533342",
     "status": "completed"
    },
    "tags": []
   },
   "outputs": [],
   "source": [
    "#hide\n",
    "metrics = [df_table.columns[index] for index in [1,2,5,6]]\n",
    "# s_china = df_table[df_table['Country/Region'].eq('China')][metrics].sum().add_prefix('China ')\n",
    "s_us = df_table[df_table['Country/Region'].eq('US')][metrics].sum().add_prefix('US ')\n",
    "s_eu = df_table[df_table['Continent'].eq('Europe')][metrics].sum().add_prefix('EU ')\n",
    "s_ind = df_table[df_table['Country/Region'].eq('India')][metrics].sum().add_prefix('India ')\n",
    "summary = {'updated': pd.to_datetime(dt_today), 'since': pd.to_datetime(dt_yday)}\n",
    "summary = {'updated': pd.to_datetime(dt_today), 'since': pd.to_datetime(dt_yday)}\n",
    "summary = {**summary, **df_table[metrics].sum(), **s_ind, **s_us, **s_eu}"
   ]
  },
  {
   "cell_type": "code",
   "execution_count": 18,
   "metadata": {
    "execution": {
     "iopub.execute_input": "2020-12-12T00:11:42.650210Z",
     "iopub.status.busy": "2020-12-12T00:11:42.649630Z",
     "iopub.status.idle": "2020-12-12T00:11:42.662275Z",
     "shell.execute_reply": "2020-12-12T00:11:42.661288Z"
    },
    "papermill": {
     "duration": 0.046367,
     "end_time": "2020-12-12T00:11:42.662398",
     "exception": false,
     "start_time": "2020-12-12T00:11:42.616031",
     "status": "completed"
    },
    "tags": []
   },
   "outputs": [],
   "source": [
    "#hide\n",
    "dft_ct_new_cases = dft_cases.groupby(COL_REGION)[dt_cols].sum().diff(axis=1).fillna(0).astype(int)"
   ]
  },
  {
   "cell_type": "code",
   "execution_count": 19,
   "metadata": {
    "execution": {
     "iopub.execute_input": "2020-12-12T00:11:42.724713Z",
     "iopub.status.busy": "2020-12-12T00:11:42.724165Z",
     "iopub.status.idle": "2020-12-12T00:11:42.726070Z",
     "shell.execute_reply": "2020-12-12T00:11:42.726508Z"
    },
    "papermill": {
     "duration": 0.035939,
     "end_time": "2020-12-12T00:11:42.726630",
     "exception": false,
     "start_time": "2020-12-12T00:11:42.690691",
     "status": "completed"
    },
    "tags": []
   },
   "outputs": [],
   "source": [
    "#hide\n",
    "everydaycases = dft_ct_new_cases.cumsum(axis=1)"
   ]
  },
  {
   "cell_type": "code",
   "execution_count": 20,
   "metadata": {
    "execution": {
     "iopub.execute_input": "2020-12-12T00:11:42.789729Z",
     "iopub.status.busy": "2020-12-12T00:11:42.789150Z",
     "iopub.status.idle": "2020-12-12T00:11:43.743843Z",
     "shell.execute_reply": "2020-12-12T00:11:43.743348Z"
    },
    "papermill": {
     "duration": 0.988782,
     "end_time": "2020-12-12T00:11:43.743977",
     "exception": false,
     "start_time": "2020-12-12T00:11:42.755195",
     "status": "completed"
    },
    "tags": []
   },
   "outputs": [],
   "source": [
    "#hide\n",
    "import pandas as pd\n",
    "import matplotlib.pyplot as plt\n",
    "import matplotlib.ticker as ticker\n",
    "import matplotlib.animation as animation\n",
    "from IPython.display import HTML"
   ]
  },
  {
   "cell_type": "code",
   "execution_count": 21,
   "metadata": {
    "execution": {
     "iopub.execute_input": "2020-12-12T00:11:43.810150Z",
     "iopub.status.busy": "2020-12-12T00:11:43.809606Z",
     "iopub.status.idle": "2020-12-12T00:11:43.816615Z",
     "shell.execute_reply": "2020-12-12T00:11:43.815698Z"
    },
    "papermill": {
     "duration": 0.042731,
     "end_time": "2020-12-12T00:11:43.816736",
     "exception": false,
     "start_time": "2020-12-12T00:11:43.774005",
     "status": "completed"
    },
    "tags": []
   },
   "outputs": [],
   "source": [
    "#hide\n",
    "t = everydaycases.stack()"
   ]
  },
  {
   "cell_type": "code",
   "execution_count": 22,
   "metadata": {
    "execution": {
     "iopub.execute_input": "2020-12-12T00:11:43.878562Z",
     "iopub.status.busy": "2020-12-12T00:11:43.877259Z",
     "iopub.status.idle": "2020-12-12T00:11:43.883203Z",
     "shell.execute_reply": "2020-12-12T00:11:43.883652Z"
    },
    "papermill": {
     "duration": 0.039238,
     "end_time": "2020-12-12T00:11:43.883781",
     "exception": false,
     "start_time": "2020-12-12T00:11:43.844543",
     "status": "completed"
    },
    "tags": []
   },
   "outputs": [],
   "source": [
    "#hide\n",
    "g = t.reset_index(['Country/Region'])"
   ]
  },
  {
   "cell_type": "code",
   "execution_count": 23,
   "metadata": {
    "execution": {
     "iopub.execute_input": "2020-12-12T00:11:43.946374Z",
     "iopub.status.busy": "2020-12-12T00:11:43.945838Z",
     "iopub.status.idle": "2020-12-12T00:11:43.948202Z",
     "shell.execute_reply": "2020-12-12T00:11:43.948713Z"
    },
    "papermill": {
     "duration": 0.035969,
     "end_time": "2020-12-12T00:11:43.948840",
     "exception": false,
     "start_time": "2020-12-12T00:11:43.912871",
     "status": "completed"
    },
    "tags": []
   },
   "outputs": [],
   "source": [
    "#hide\n",
    "g.index.name = 'date'"
   ]
  },
  {
   "cell_type": "code",
   "execution_count": 24,
   "metadata": {
    "execution": {
     "iopub.execute_input": "2020-12-12T00:11:44.009426Z",
     "iopub.status.busy": "2020-12-12T00:11:44.009017Z",
     "iopub.status.idle": "2020-12-12T00:11:44.011689Z",
     "shell.execute_reply": "2020-12-12T00:11:44.012148Z"
    },
    "papermill": {
     "duration": 0.034584,
     "end_time": "2020-12-12T00:11:44.012272",
     "exception": false,
     "start_time": "2020-12-12T00:11:43.977688",
     "status": "completed"
    },
    "tags": []
   },
   "outputs": [],
   "source": [
    "# #hide\n",
    "# g = g.reset_index(['date'])"
   ]
  },
  {
   "cell_type": "code",
   "execution_count": 25,
   "metadata": {
    "execution": {
     "iopub.execute_input": "2020-12-12T00:11:44.074563Z",
     "iopub.status.busy": "2020-12-12T00:11:44.073996Z",
     "iopub.status.idle": "2020-12-12T00:11:44.075863Z",
     "shell.execute_reply": "2020-12-12T00:11:44.076516Z"
    },
    "papermill": {
     "duration": 0.035943,
     "end_time": "2020-12-12T00:11:44.076711",
     "exception": false,
     "start_time": "2020-12-12T00:11:44.040768",
     "status": "completed"
    },
    "tags": []
   },
   "outputs": [],
   "source": [
    "#hide\n",
    "# g.head()"
   ]
  },
  {
   "cell_type": "code",
   "execution_count": 26,
   "metadata": {
    "execution": {
     "iopub.execute_input": "2020-12-12T00:11:44.138276Z",
     "iopub.status.busy": "2020-12-12T00:11:44.137705Z",
     "iopub.status.idle": "2020-12-12T00:11:44.140351Z",
     "shell.execute_reply": "2020-12-12T00:11:44.140965Z"
    },
    "papermill": {
     "duration": 0.03637,
     "end_time": "2020-12-12T00:11:44.141105",
     "exception": false,
     "start_time": "2020-12-12T00:11:44.104735",
     "status": "completed"
    },
    "tags": []
   },
   "outputs": [],
   "source": [
    "#hide\n",
    "# g.columns = ['date','country','cases']"
   ]
  },
  {
   "cell_type": "code",
   "execution_count": 27,
   "metadata": {
    "execution": {
     "iopub.execute_input": "2020-12-12T00:11:44.214511Z",
     "iopub.status.busy": "2020-12-12T00:11:44.213924Z",
     "iopub.status.idle": "2020-12-12T00:11:44.216087Z",
     "shell.execute_reply": "2020-12-12T00:11:44.215526Z"
    },
    "papermill": {
     "duration": 0.037523,
     "end_time": "2020-12-12T00:11:44.216205",
     "exception": false,
     "start_time": "2020-12-12T00:11:44.178682",
     "status": "completed"
    },
    "tags": []
   },
   "outputs": [],
   "source": [
    "#hide\n",
    "# g['continent'] = g.country"
   ]
  },
  {
   "cell_type": "code",
   "execution_count": 28,
   "metadata": {
    "execution": {
     "iopub.execute_input": "2020-12-12T00:11:44.281574Z",
     "iopub.status.busy": "2020-12-12T00:11:44.280967Z",
     "iopub.status.idle": "2020-12-12T00:11:44.283305Z",
     "shell.execute_reply": "2020-12-12T00:11:44.283749Z"
    },
    "papermill": {
     "duration": 0.038084,
     "end_time": "2020-12-12T00:11:44.283898",
     "exception": false,
     "start_time": "2020-12-12T00:11:44.245814",
     "status": "completed"
    },
    "tags": []
   },
   "outputs": [],
   "source": [
    "#hide\n",
    "# cols = list(g.columns.values)"
   ]
  },
  {
   "cell_type": "code",
   "execution_count": 29,
   "metadata": {
    "execution": {
     "iopub.execute_input": "2020-12-12T00:11:44.346220Z",
     "iopub.status.busy": "2020-12-12T00:11:44.345592Z",
     "iopub.status.idle": "2020-12-12T00:11:44.348022Z",
     "shell.execute_reply": "2020-12-12T00:11:44.347555Z"
    },
    "papermill": {
     "duration": 0.034486,
     "end_time": "2020-12-12T00:11:44.348137",
     "exception": false,
     "start_time": "2020-12-12T00:11:44.313651",
     "status": "completed"
    },
    "tags": []
   },
   "outputs": [],
   "source": [
    "#hide\n",
    "# cols.insert(0, cols.pop())"
   ]
  },
  {
   "cell_type": "code",
   "execution_count": 30,
   "metadata": {
    "execution": {
     "iopub.execute_input": "2020-12-12T00:11:44.411347Z",
     "iopub.status.busy": "2020-12-12T00:11:44.410769Z",
     "iopub.status.idle": "2020-12-12T00:11:44.413100Z",
     "shell.execute_reply": "2020-12-12T00:11:44.413649Z"
    },
    "papermill": {
     "duration": 0.036914,
     "end_time": "2020-12-12T00:11:44.413777",
     "exception": false,
     "start_time": "2020-12-12T00:11:44.376863",
     "status": "completed"
    },
    "tags": []
   },
   "outputs": [],
   "source": [
    "#hide\n",
    "# g = g[cols]"
   ]
  },
  {
   "cell_type": "code",
   "execution_count": 31,
   "metadata": {
    "execution": {
     "iopub.execute_input": "2020-12-12T00:11:44.475449Z",
     "iopub.status.busy": "2020-12-12T00:11:44.474911Z",
     "iopub.status.idle": "2020-12-12T00:11:44.477521Z",
     "shell.execute_reply": "2020-12-12T00:11:44.477116Z"
    },
    "papermill": {
     "duration": 0.035375,
     "end_time": "2020-12-12T00:11:44.477633",
     "exception": false,
     "start_time": "2020-12-12T00:11:44.442258",
     "status": "completed"
    },
    "tags": []
   },
   "outputs": [],
   "source": [
    "#hide\n",
    "# g['continent'] = g['continent'].map(mapping['map.continent'])"
   ]
  },
  {
   "cell_type": "code",
   "execution_count": 32,
   "metadata": {
    "execution": {
     "iopub.execute_input": "2020-12-12T00:11:44.538746Z",
     "iopub.status.busy": "2020-12-12T00:11:44.538252Z",
     "iopub.status.idle": "2020-12-12T00:11:44.540430Z",
     "shell.execute_reply": "2020-12-12T00:11:44.539972Z"
    },
    "papermill": {
     "duration": 0.036187,
     "end_time": "2020-12-12T00:11:44.540539",
     "exception": false,
     "start_time": "2020-12-12T00:11:44.504352",
     "status": "completed"
    },
    "tags": []
   },
   "outputs": [],
   "source": [
    "#hide\n",
    "# g.head()"
   ]
  },
  {
   "cell_type": "code",
   "execution_count": 33,
   "metadata": {
    "execution": {
     "iopub.execute_input": "2020-12-12T00:11:44.602086Z",
     "iopub.status.busy": "2020-12-12T00:11:44.601547Z",
     "iopub.status.idle": "2020-12-12T00:11:44.603945Z",
     "shell.execute_reply": "2020-12-12T00:11:44.604535Z"
    },
    "papermill": {
     "duration": 0.0358,
     "end_time": "2020-12-12T00:11:44.604666",
     "exception": false,
     "start_time": "2020-12-12T00:11:44.568866",
     "status": "completed"
    },
    "tags": []
   },
   "outputs": [],
   "source": [
    "# hide\n",
    "# g['date'] = g['date'].astype('datetime64[ns]')"
   ]
  },
  {
   "cell_type": "code",
   "execution_count": 34,
   "metadata": {
    "execution": {
     "iopub.execute_input": "2020-12-12T00:11:44.669220Z",
     "iopub.status.busy": "2020-12-12T00:11:44.668660Z",
     "iopub.status.idle": "2020-12-12T00:11:44.670748Z",
     "shell.execute_reply": "2020-12-12T00:11:44.671279Z"
    },
    "papermill": {
     "duration": 0.036902,
     "end_time": "2020-12-12T00:11:44.671422",
     "exception": false,
     "start_time": "2020-12-12T00:11:44.634520",
     "status": "completed"
    },
    "tags": []
   },
   "outputs": [],
   "source": [
    "#hide\n",
    "# g['date'] = g.date.dt.dayofyear"
   ]
  },
  {
   "cell_type": "code",
   "execution_count": 35,
   "metadata": {
    "execution": {
     "iopub.execute_input": "2020-12-12T00:11:44.739390Z",
     "iopub.status.busy": "2020-12-12T00:11:44.738901Z",
     "iopub.status.idle": "2020-12-12T00:11:44.740779Z",
     "shell.execute_reply": "2020-12-12T00:11:44.741236Z"
    },
    "papermill": {
     "duration": 0.040495,
     "end_time": "2020-12-12T00:11:44.741358",
     "exception": false,
     "start_time": "2020-12-12T00:11:44.700863",
     "status": "completed"
    },
    "tags": []
   },
   "outputs": [],
   "source": [
    "#hide\n",
    "# g = g.rename(columns= {'continent':'group','country':'name','cases':'value'})"
   ]
  },
  {
   "cell_type": "code",
   "execution_count": 36,
   "metadata": {
    "execution": {
     "iopub.execute_input": "2020-12-12T00:11:44.877811Z",
     "iopub.status.busy": "2020-12-12T00:11:44.876965Z",
     "iopub.status.idle": "2020-12-12T00:11:44.879252Z",
     "shell.execute_reply": "2020-12-12T00:11:44.878619Z"
    },
    "papermill": {
     "duration": 0.036069,
     "end_time": "2020-12-12T00:11:44.879403",
     "exception": false,
     "start_time": "2020-12-12T00:11:44.843334",
     "status": "completed"
    },
    "tags": []
   },
   "outputs": [],
   "source": [
    "#hide\n",
    "# cols = ['name','group','day','value']"
   ]
  },
  {
   "cell_type": "code",
   "execution_count": 37,
   "metadata": {
    "execution": {
     "iopub.execute_input": "2020-12-12T00:11:44.942064Z",
     "iopub.status.busy": "2020-12-12T00:11:44.941336Z",
     "iopub.status.idle": "2020-12-12T00:11:44.942677Z",
     "shell.execute_reply": "2020-12-12T00:11:44.943160Z"
    },
    "papermill": {
     "duration": 0.034696,
     "end_time": "2020-12-12T00:11:44.943301",
     "exception": false,
     "start_time": "2020-12-12T00:11:44.908605",
     "status": "completed"
    },
    "tags": []
   },
   "outputs": [],
   "source": [
    "#hide\n",
    "# g.rename(columns= {'date':'day'},inplace = True)"
   ]
  },
  {
   "cell_type": "code",
   "execution_count": 38,
   "metadata": {
    "execution": {
     "iopub.execute_input": "2020-12-12T00:11:45.008369Z",
     "iopub.status.busy": "2020-12-12T00:11:45.007395Z",
     "iopub.status.idle": "2020-12-12T00:11:45.009360Z",
     "shell.execute_reply": "2020-12-12T00:11:45.010730Z"
    },
    "papermill": {
     "duration": 0.037971,
     "end_time": "2020-12-12T00:11:45.010985",
     "exception": false,
     "start_time": "2020-12-12T00:11:44.973014",
     "status": "completed"
    },
    "tags": []
   },
   "outputs": [],
   "source": [
    "#hide\n",
    "# g = g[cols]"
   ]
  },
  {
   "cell_type": "code",
   "execution_count": 39,
   "metadata": {
    "execution": {
     "iopub.execute_input": "2020-12-12T00:11:45.076084Z",
     "iopub.status.busy": "2020-12-12T00:11:45.075453Z",
     "iopub.status.idle": "2020-12-12T00:11:45.077332Z",
     "shell.execute_reply": "2020-12-12T00:11:45.077808Z"
    },
    "papermill": {
     "duration": 0.036268,
     "end_time": "2020-12-12T00:11:45.077958",
     "exception": false,
     "start_time": "2020-12-12T00:11:45.041690",
     "status": "completed"
    },
    "tags": []
   },
   "outputs": [],
   "source": [
    "# #hide\n",
    "# g = g[g.group.notna()]"
   ]
  },
  {
   "cell_type": "code",
   "execution_count": 40,
   "metadata": {
    "execution": {
     "iopub.execute_input": "2020-12-12T00:11:45.141944Z",
     "iopub.status.busy": "2020-12-12T00:11:45.140869Z",
     "iopub.status.idle": "2020-12-12T00:11:45.143020Z",
     "shell.execute_reply": "2020-12-12T00:11:45.142520Z"
    },
    "papermill": {
     "duration": 0.035896,
     "end_time": "2020-12-12T00:11:45.143147",
     "exception": false,
     "start_time": "2020-12-12T00:11:45.107251",
     "status": "completed"
    },
    "tags": []
   },
   "outputs": [],
   "source": [
    "# #hide\n",
    "# colors = dict(zip(\n",
    "#     [\"Oceania\", \"Europe\", \"Asia\", \"South America\", \"Middle East\", \"North America\", \"Africa\"],\n",
    "#     [\"#adb0ff\", \"#ffb3ff\", \"#90d595\", \"#e48381\", \"#aafbff\", \"#f7bb5f\", \"#eafb50\"]\n",
    "# ))\n",
    "# group_lk = g.set_index('name')['group'].to_dict()"
   ]
  },
  {
   "cell_type": "code",
   "execution_count": null,
   "metadata": {
    "papermill": {
     "duration": 0.030346,
     "end_time": "2020-12-12T00:11:45.214506",
     "exception": false,
     "start_time": "2020-12-12T00:11:45.184160",
     "status": "completed"
    },
    "tags": []
   },
   "outputs": [],
   "source": []
  },
  {
   "cell_type": "code",
   "execution_count": 41,
   "metadata": {
    "execution": {
     "iopub.execute_input": "2020-12-12T00:11:45.285413Z",
     "iopub.status.busy": "2020-12-12T00:11:45.284755Z",
     "iopub.status.idle": "2020-12-12T00:11:45.287286Z",
     "shell.execute_reply": "2020-12-12T00:11:45.287828Z"
    },
    "papermill": {
     "duration": 0.044134,
     "end_time": "2020-12-12T00:11:45.287979",
     "exception": false,
     "start_time": "2020-12-12T00:11:45.243845",
     "status": "completed"
    },
    "tags": []
   },
   "outputs": [],
   "source": [
    "# #hide\n",
    "# fig, ax = plt.subplots(figsize=(15, 8))\n",
    "\n",
    "# def draw_barchart(current_day):\n",
    "#     dff = g[g['day'].eq(current_day)].sort_values(by='value', ascending=True).tail(10)\n",
    "#     ax.clear()\n",
    "#     ax.barh(dff['name'], dff['value'], color=[colors[group_lk[x]] for x in dff['name']])\n",
    "#     dx = dff['value'].max() / 200\n",
    "    \n",
    "#     for i, (value, name) in enumerate(zip(dff['value'], dff['name'])):\n",
    "#         ax.text(value-dx, i,     name,           size=14, weight=600, ha='right', va='bottom')\n",
    "#         ax.text(value-dx, i-.25, group_lk[name], size=10, color='#444444', ha='right', va='baseline')\n",
    "#         ax.text(value+dx, i,     f'{value:,.0f}',  size=14, ha='left',  va='center')\n",
    "#     ax.text(1, 0.4, current_day, transform=ax.transAxes, color='#777777', size=46, ha='right', weight=800)\n",
    "#     ax.text(0, 1.06, 'Population (thousands)', transform=ax.transAxes, size=12, color='#777777')\n",
    "#     ax.xaxis.set_major_formatter(ticker.StrMethodFormatter('{x:,.0f}'))\n",
    "#     ax.xaxis.set_ticks_position('top')\n",
    "#     ax.tick_params(axis='x', colors='#777777', labelsize=12)\n",
    "#     ax.set_yticks([])\n",
    "#     ax.margins(0, 0.01)\n",
    "#     ax.grid(which='major', axis='x', linestyle='-')\n",
    "#     ax.set_axisbelow(True)\n",
    "    \n",
    "#     ax.text(0, 1.15, 'Coronavirus',\n",
    "#             transform=ax.transAxes, size=24, weight=600, ha='left', va='top')\n",
    "# #     ax.text(1, 0, 'by @pratapvardhan; credit @jburnmurdoch', transform=ax.transAxes, color='#777777', ha='right',\n",
    "# #             bbox=dict(facecolor='white', alpha=0.8, edgecolor='white'))\n",
    "#     plt.box(False)"
   ]
  },
  {
   "cell_type": "code",
   "execution_count": 42,
   "metadata": {
    "execution": {
     "iopub.execute_input": "2020-12-12T00:11:45.358121Z",
     "iopub.status.busy": "2020-12-12T00:11:45.357328Z",
     "iopub.status.idle": "2020-12-12T00:11:45.358819Z",
     "shell.execute_reply": "2020-12-12T00:11:45.359377Z"
    },
    "papermill": {
     "duration": 0.039786,
     "end_time": "2020-12-12T00:11:45.359533",
     "exception": false,
     "start_time": "2020-12-12T00:11:45.319747",
     "status": "completed"
    },
    "tags": []
   },
   "outputs": [],
   "source": [
    "# #hide_input\n",
    "# fig, ax = plt.subplots(figsize=(15, 8))\n",
    "# animator = animation.FuncAnimation(fig, draw_barchart, frames=range(g.day.values.min(), g.day.values.max()))\n",
    "# HTML(animator.to_jshtml())\n",
    "# # or use animator.to_html5_video() or animator.save() "
   ]
  },
  {
   "cell_type": "code",
   "execution_count": null,
   "metadata": {
    "papermill": {
     "duration": 0.033545,
     "end_time": "2020-12-12T00:11:45.421707",
     "exception": false,
     "start_time": "2020-12-12T00:11:45.388162",
     "status": "completed"
    },
    "tags": []
   },
   "outputs": [],
   "source": []
  },
  {
   "cell_type": "code",
   "execution_count": null,
   "metadata": {
    "papermill": {
     "duration": 0.027725,
     "end_time": "2020-12-12T00:11:45.478498",
     "exception": false,
     "start_time": "2020-12-12T00:11:45.450773",
     "status": "completed"
    },
    "tags": []
   },
   "outputs": [],
   "source": []
  },
  {
   "cell_type": "code",
   "execution_count": null,
   "metadata": {
    "papermill": {
     "duration": 0.031467,
     "end_time": "2020-12-12T00:11:45.538602",
     "exception": false,
     "start_time": "2020-12-12T00:11:45.507135",
     "status": "completed"
    },
    "tags": []
   },
   "outputs": [],
   "source": []
  }
 ],
 "metadata": {
  "kernelspec": {
   "display_name": "Python 3",
   "language": "python",
   "name": "python3"
  },
  "language_info": {
   "codemirror_mode": {
    "name": "ipython",
    "version": 3
   },
   "file_extension": ".py",
   "mimetype": "text/x-python",
   "name": "python",
   "nbconvert_exporter": "python",
   "pygments_lexer": "ipython3",
   "version": "3.6.12"
  },
  "papermill": {
   "duration": 7.331055,
   "end_time": "2020-12-12T00:11:46.857058",
   "environment_variables": {},
   "exception": null,
   "input_path": "2020-03-21-covid19exp.ipynb",
   "output_path": "2020-03-21-covid19exp.ipynb",
   "parameters": {},
   "start_time": "2020-12-12T00:11:39.526003",
   "version": "2.0.0"
  }
 },
 "nbformat": 4,
 "nbformat_minor": 4
}