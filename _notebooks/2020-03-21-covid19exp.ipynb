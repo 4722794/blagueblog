{
 "cells": [
  {
   "cell_type": "markdown",
   "id": "muslim-click",
   "metadata": {
    "papermill": {
     "duration": 0.052165,
     "end_time": "2022-03-04T00:36:23.663402",
     "exception": false,
     "start_time": "2022-03-04T00:36:23.611237",
     "status": "completed"
    },
    "tags": []
   },
   "source": [
    "# COVID-19 Case Race\n",
    "> A race chart to see rising cases around the world\n",
    "\n",
    "- author: Hargun Oberoi\n",
    "- image: images/covid-overview.png\n",
    "- hide: false\n",
    "- badges: false"
   ]
  },
  {
   "cell_type": "code",
   "execution_count": 1,
   "id": "proof-material",
   "metadata": {
    "execution": {
     "iopub.execute_input": "2022-03-04T00:36:23.765078Z",
     "iopub.status.busy": "2022-03-04T00:36:23.762188Z",
     "iopub.status.idle": "2022-03-04T00:36:24.176665Z",
     "shell.execute_reply": "2022-03-04T00:36:24.176109Z"
    },
    "papermill": {
     "duration": 0.471001,
     "end_time": "2022-03-04T00:36:24.176824",
     "exception": false,
     "start_time": "2022-03-04T00:36:23.705823",
     "status": "completed"
    },
    "tags": []
   },
   "outputs": [],
   "source": [
    "#hide\n",
    "import numpy as np\n",
    "import pandas as pd\n",
    "from jinja2 import Template\n",
    "from IPython.display import HTML"
   ]
  },
  {
   "cell_type": "code",
   "execution_count": 2,
   "id": "developed-terminology",
   "metadata": {
    "execution": {
     "iopub.execute_input": "2022-03-04T00:36:24.271605Z",
     "iopub.status.busy": "2022-03-04T00:36:24.270534Z",
     "iopub.status.idle": "2022-03-04T00:36:24.272698Z",
     "shell.execute_reply": "2022-03-04T00:36:24.273546Z"
    },
    "papermill": {
     "duration": 0.060043,
     "end_time": "2022-03-04T00:36:24.273785",
     "exception": false,
     "start_time": "2022-03-04T00:36:24.213742",
     "status": "completed"
    },
    "tags": []
   },
   "outputs": [],
   "source": [
    "#hide\n",
    "\n",
    "# FETCH\n",
    "base_url = 'https://raw.githubusercontent.com/pratapvardhan/notebooks/master/covid19/'\n",
    "paths = {\n",
    "    'mapping': base_url + 'mapping_countries.csv',\n",
    "    'overview': base_url + 'overview.tpl'\n",
    "}"
   ]
  },
  {
   "cell_type": "code",
   "execution_count": 3,
   "id": "dynamic-saver",
   "metadata": {
    "execution": {
     "iopub.execute_input": "2022-03-04T00:36:24.353624Z",
     "iopub.status.busy": "2022-03-04T00:36:24.352949Z",
     "iopub.status.idle": "2022-03-04T00:36:24.356187Z",
     "shell.execute_reply": "2022-03-04T00:36:24.355700Z"
    },
    "papermill": {
     "duration": 0.047622,
     "end_time": "2022-03-04T00:36:24.356323",
     "exception": false,
     "start_time": "2022-03-04T00:36:24.308701",
     "status": "completed"
    },
    "tags": []
   },
   "outputs": [
    {
     "data": {
      "text/plain": [
       "'https://raw.githubusercontent.com/pratapvardhan/notebooks/master/covid19/mapping_countries.csv'"
      ]
     },
     "execution_count": 3,
     "metadata": {},
     "output_type": "execute_result"
    }
   ],
   "source": [
    "#hide\n",
    "paths['mapping']"
   ]
  },
  {
   "cell_type": "code",
   "execution_count": 4,
   "id": "urban-software",
   "metadata": {
    "execution": {
     "iopub.execute_input": "2022-03-04T00:36:24.431592Z",
     "iopub.status.busy": "2022-03-04T00:36:24.430981Z",
     "iopub.status.idle": "2022-03-04T00:36:24.433889Z",
     "shell.execute_reply": "2022-03-04T00:36:24.433382Z"
    },
    "papermill": {
     "duration": 0.042947,
     "end_time": "2022-03-04T00:36:24.434026",
     "exception": false,
     "start_time": "2022-03-04T00:36:24.391079",
     "status": "completed"
    },
    "tags": []
   },
   "outputs": [],
   "source": [
    "#hide\n",
    "def get_mappings(url):\n",
    "    df = pd.read_csv(url)\n",
    "    return {\n",
    "        'df': df,\n",
    "        'replace.country': dict(df.dropna(subset=['Name']).set_index('Country')['Name']),\n",
    "        'map.continent': dict(df.set_index('Name')['Continent'])\n",
    "    }"
   ]
  },
  {
   "cell_type": "code",
   "execution_count": 5,
   "id": "intimate-machinery",
   "metadata": {
    "execution": {
     "iopub.execute_input": "2022-03-04T00:36:24.508992Z",
     "iopub.status.busy": "2022-03-04T00:36:24.508377Z",
     "iopub.status.idle": "2022-03-04T00:36:24.541539Z",
     "shell.execute_reply": "2022-03-04T00:36:24.540814Z"
    },
    "papermill": {
     "duration": 0.07333,
     "end_time": "2022-03-04T00:36:24.541678",
     "exception": false,
     "start_time": "2022-03-04T00:36:24.468348",
     "status": "completed"
    },
    "tags": []
   },
   "outputs": [],
   "source": [
    "#hide\n",
    "mapping = get_mappings(paths['mapping'])"
   ]
  },
  {
   "cell_type": "code",
   "execution_count": 6,
   "id": "certified-tactics",
   "metadata": {
    "execution": {
     "iopub.execute_input": "2022-03-04T00:36:24.615254Z",
     "iopub.status.busy": "2022-03-04T00:36:24.614646Z",
     "iopub.status.idle": "2022-03-04T00:36:24.620844Z",
     "shell.execute_reply": "2022-03-04T00:36:24.620360Z"
    },
    "papermill": {
     "duration": 0.044486,
     "end_time": "2022-03-04T00:36:24.620979",
     "exception": false,
     "start_time": "2022-03-04T00:36:24.576493",
     "status": "completed"
    },
    "tags": []
   },
   "outputs": [],
   "source": [
    "#hide\n",
    "def get_template(path):\n",
    "    from urllib.parse import urlparse\n",
    "    if bool(urlparse(path).netloc):\n",
    "        from urllib.request import urlopen\n",
    "        return urlopen(path).read().decode('utf8')\n",
    "    return open(path).read()"
   ]
  },
  {
   "cell_type": "code",
   "execution_count": 7,
   "id": "realistic-blast",
   "metadata": {
    "execution": {
     "iopub.execute_input": "2022-03-04T00:36:24.696261Z",
     "iopub.status.busy": "2022-03-04T00:36:24.695612Z",
     "iopub.status.idle": "2022-03-04T00:36:24.699888Z",
     "shell.execute_reply": "2022-03-04T00:36:24.699392Z"
    },
    "papermill": {
     "duration": 0.044254,
     "end_time": "2022-03-04T00:36:24.700024",
     "exception": false,
     "start_time": "2022-03-04T00:36:24.655770",
     "status": "completed"
    },
    "tags": []
   },
   "outputs": [],
   "source": [
    "#hide\n",
    "def get_frame(name):\n",
    "    url = (\n",
    "        'https://raw.githubusercontent.com/CSSEGISandData/COVID-19/master/csse_covid_19_data/'\n",
    "        f'csse_covid_19_time_series/time_series_covid19_{name}_global.csv')\n",
    "    df = pd.read_csv(url)\n",
    "    # rename countries\n",
    "    df['Country/Region'] = df['Country/Region'].replace(mapping['replace.country'])\n",
    "    return df"
   ]
  },
  {
   "cell_type": "code",
   "execution_count": 8,
   "id": "affiliated-characterization",
   "metadata": {
    "execution": {
     "iopub.execute_input": "2022-03-04T00:36:24.787010Z",
     "iopub.status.busy": "2022-03-04T00:36:24.786292Z",
     "iopub.status.idle": "2022-03-04T00:36:24.788578Z",
     "shell.execute_reply": "2022-03-04T00:36:24.789033Z"
    },
    "papermill": {
     "duration": 0.046835,
     "end_time": "2022-03-04T00:36:24.789187",
     "exception": false,
     "start_time": "2022-03-04T00:36:24.742352",
     "status": "completed"
    },
    "tags": []
   },
   "outputs": [],
   "source": [
    "#hide\n",
    "def get_dates(df):\n",
    "    dt_cols = df.columns[~df.columns.isin(['Province/State', 'Country/Region', 'Lat', 'Long'])]\n",
    "    LAST_DATE_I = -1\n",
    "    # sometimes last column may be empty, then go backwards\n",
    "    for i in range(-1, -len(dt_cols), -1):\n",
    "        if not df[dt_cols[i]].fillna(0).eq(0).all():\n",
    "            LAST_DATE_I = i\n",
    "            break\n",
    "    return LAST_DATE_I, dt_cols"
   ]
  },
  {
   "cell_type": "code",
   "execution_count": 9,
   "id": "recent-optimization",
   "metadata": {
    "execution": {
     "iopub.execute_input": "2022-03-04T00:36:24.873046Z",
     "iopub.status.busy": "2022-03-04T00:36:24.872332Z",
     "iopub.status.idle": "2022-03-04T00:36:25.258697Z",
     "shell.execute_reply": "2022-03-04T00:36:25.258151Z"
    },
    "papermill": {
     "duration": 0.430315,
     "end_time": "2022-03-04T00:36:25.258845",
     "exception": false,
     "start_time": "2022-03-04T00:36:24.828530",
     "status": "completed"
    },
    "tags": []
   },
   "outputs": [],
   "source": [
    "#hide\n",
    "COL_REGION = 'Country/Region'\n",
    "# Confirmed, Recovered, Deaths\n",
    "df = get_frame('confirmed')\n",
    "# dft_: timeseries, dfc_: today country agg\n",
    "dft_cases = df\n",
    "dft_deaths = get_frame('deaths')\n",
    "dft_recovered = get_frame('recovered')\n",
    "LAST_DATE_I, dt_cols = get_dates(df)"
   ]
  },
  {
   "cell_type": "code",
   "execution_count": 10,
   "id": "absolute-copper",
   "metadata": {
    "execution": {
     "iopub.execute_input": "2022-03-04T00:36:25.340466Z",
     "iopub.status.busy": "2022-03-04T00:36:25.339837Z",
     "iopub.status.idle": "2022-03-04T00:36:25.342232Z",
     "shell.execute_reply": "2022-03-04T00:36:25.342930Z"
    },
    "papermill": {
     "duration": 0.046074,
     "end_time": "2022-03-04T00:36:25.343118",
     "exception": false,
     "start_time": "2022-03-04T00:36:25.297044",
     "status": "completed"
    },
    "tags": []
   },
   "outputs": [],
   "source": [
    "#hide\n",
    "LAST_DATE_I, dt_cols = get_dates(df)\n",
    "dt_today =dt_cols[LAST_DATE_I]\n",
    "# dt_5day = dt_cols[LAST_DATE_I - 5]\n",
    "dt_yday = dt_cols[LAST_DATE_I - 1]"
   ]
  },
  {
   "cell_type": "code",
   "execution_count": 11,
   "id": "restricted-sheriff",
   "metadata": {
    "execution": {
     "iopub.execute_input": "2022-03-04T00:36:25.435792Z",
     "iopub.status.busy": "2022-03-04T00:36:25.432966Z",
     "iopub.status.idle": "2022-03-04T00:36:25.438768Z",
     "shell.execute_reply": "2022-03-04T00:36:25.439272Z"
    },
    "papermill": {
     "duration": 0.058214,
     "end_time": "2022-03-04T00:36:25.439430",
     "exception": false,
     "start_time": "2022-03-04T00:36:25.381216",
     "status": "completed"
    },
    "tags": []
   },
   "outputs": [],
   "source": [
    "#hide\n",
    "dfc_cases = dft_cases.groupby(COL_REGION)[dt_today].sum()\n",
    "dfc_deaths = dft_deaths.groupby(COL_REGION)[dt_today].sum()\n",
    "# dfp_cases = dft_cases.groupby(COL_REGION)[dt_5day].sum()\n",
    "# dfp_deaths = dft_deaths.groupby(COL_REGION)[dt_5day].sum()\n",
    "dfp_cases = dft_cases.groupby(COL_REGION)[dt_yday].sum()\n",
    "dfp_deaths = dft_deaths.groupby(COL_REGION)[dt_yday].sum()"
   ]
  },
  {
   "cell_type": "code",
   "execution_count": 12,
   "id": "deluxe-hepatitis",
   "metadata": {
    "execution": {
     "iopub.execute_input": "2022-03-04T00:36:25.522331Z",
     "iopub.status.busy": "2022-03-04T00:36:25.521595Z",
     "iopub.status.idle": "2022-03-04T00:36:25.526509Z",
     "shell.execute_reply": "2022-03-04T00:36:25.527018Z"
    },
    "papermill": {
     "duration": 0.050065,
     "end_time": "2022-03-04T00:36:25.527167",
     "exception": false,
     "start_time": "2022-03-04T00:36:25.477102",
     "status": "completed"
    },
    "tags": []
   },
   "outputs": [],
   "source": [
    "#hide\n",
    "df_table = (pd.DataFrame(dict(Cases = dfc_cases, Deaths = dfc_deaths, PCases = dfp_cases, PDeaths = dfp_deaths))\n",
    "            .sort_values(by = ['Cases','Deaths'], ascending = [False, False])\n",
    "            .reset_index())"
   ]
  },
  {
   "cell_type": "code",
   "execution_count": 13,
   "id": "educational-chancellor",
   "metadata": {
    "execution": {
     "iopub.execute_input": "2022-03-04T00:36:25.626108Z",
     "iopub.status.busy": "2022-03-04T00:36:25.625192Z",
     "iopub.status.idle": "2022-03-04T00:36:25.633656Z",
     "shell.execute_reply": "2022-03-04T00:36:25.634236Z"
    },
    "papermill": {
     "duration": 0.068672,
     "end_time": "2022-03-04T00:36:25.634382",
     "exception": false,
     "start_time": "2022-03-04T00:36:25.565710",
     "status": "completed"
    },
    "tags": []
   },
   "outputs": [
    {
     "data": {
      "text/html": [
       "<div>\n",
       "<style scoped>\n",
       "    .dataframe tbody tr th:only-of-type {\n",
       "        vertical-align: middle;\n",
       "    }\n",
       "\n",
       "    .dataframe tbody tr th {\n",
       "        vertical-align: top;\n",
       "    }\n",
       "\n",
       "    .dataframe thead th {\n",
       "        text-align: right;\n",
       "    }\n",
       "</style>\n",
       "<table border=\"1\" class=\"dataframe\">\n",
       "  <thead>\n",
       "    <tr style=\"text-align: right;\">\n",
       "      <th></th>\n",
       "      <th>Country/Region</th>\n",
       "      <th>Cases</th>\n",
       "      <th>Deaths</th>\n",
       "      <th>PCases</th>\n",
       "      <th>PDeaths</th>\n",
       "      <th>Cases (+)</th>\n",
       "      <th>Deaths (+)</th>\n",
       "      <th>Fatality Rate</th>\n",
       "      <th>Continent</th>\n",
       "    </tr>\n",
       "  </thead>\n",
       "  <tbody>\n",
       "    <tr>\n",
       "      <th>0</th>\n",
       "      <td>US</td>\n",
       "      <td>79143716</td>\n",
       "      <td>954518</td>\n",
       "      <td>79091361</td>\n",
       "      <td>952423</td>\n",
       "      <td>52355</td>\n",
       "      <td>2095</td>\n",
       "      <td>1.21</td>\n",
       "      <td>North America</td>\n",
       "    </tr>\n",
       "    <tr>\n",
       "      <th>1</th>\n",
       "      <td>India</td>\n",
       "      <td>42945160</td>\n",
       "      <td>514388</td>\n",
       "      <td>42938599</td>\n",
       "      <td>514246</td>\n",
       "      <td>6561</td>\n",
       "      <td>142</td>\n",
       "      <td>1.20</td>\n",
       "      <td>Asia</td>\n",
       "    </tr>\n",
       "    <tr>\n",
       "      <th>2</th>\n",
       "      <td>Brazil</td>\n",
       "      <td>28846495</td>\n",
       "      <td>650254</td>\n",
       "      <td>28818850</td>\n",
       "      <td>649922</td>\n",
       "      <td>27645</td>\n",
       "      <td>332</td>\n",
       "      <td>2.25</td>\n",
       "      <td>South America</td>\n",
       "    </tr>\n",
       "    <tr>\n",
       "      <th>3</th>\n",
       "      <td>France</td>\n",
       "      <td>23017711</td>\n",
       "      <td>139781</td>\n",
       "      <td>22959368</td>\n",
       "      <td>139594</td>\n",
       "      <td>58343</td>\n",
       "      <td>187</td>\n",
       "      <td>0.61</td>\n",
       "      <td>Europe</td>\n",
       "    </tr>\n",
       "    <tr>\n",
       "      <th>4</th>\n",
       "      <td>United Kingdom</td>\n",
       "      <td>19166049</td>\n",
       "      <td>162278</td>\n",
       "      <td>19120746</td>\n",
       "      <td>162203</td>\n",
       "      <td>45303</td>\n",
       "      <td>75</td>\n",
       "      <td>0.85</td>\n",
       "      <td>Europe</td>\n",
       "    </tr>\n",
       "  </tbody>\n",
       "</table>\n",
       "</div>"
      ],
      "text/plain": [
       "   Country/Region     Cases  Deaths    PCases  PDeaths  Cases (+)  Deaths (+)  \\\n",
       "0              US  79143716  954518  79091361   952423      52355        2095   \n",
       "1           India  42945160  514388  42938599   514246       6561         142   \n",
       "2          Brazil  28846495  650254  28818850   649922      27645         332   \n",
       "3          France  23017711  139781  22959368   139594      58343         187   \n",
       "4  United Kingdom  19166049  162278  19120746   162203      45303          75   \n",
       "\n",
       "   Fatality Rate      Continent  \n",
       "0           1.21  North America  \n",
       "1           1.20           Asia  \n",
       "2           2.25  South America  \n",
       "3           0.61         Europe  \n",
       "4           0.85         Europe  "
      ]
     },
     "execution_count": 13,
     "metadata": {},
     "output_type": "execute_result"
    }
   ],
   "source": [
    "#hide\n",
    "for c in 'Cases, Deaths'.split(', '):\n",
    "    df_table[f'{c} (+)'] = (df_table[c] - df_table[f'P{c}']).clip(0)\n",
    "    #Clip ça veut dire, les chiffres negatif sont interdit\n",
    "df_table['Fatality Rate'] = (100* df_table['Deaths']/ df_table['Cases']).round(2)\n",
    "df_table['Continent'] = df_table['Country/Region'].map(mapping['map.continent'])\n",
    "df_table.head(5)"
   ]
  },
  {
   "cell_type": "code",
   "execution_count": 14,
   "id": "aboriginal-bulgaria",
   "metadata": {
    "execution": {
     "iopub.execute_input": "2022-03-04T00:36:25.715968Z",
     "iopub.status.busy": "2022-03-04T00:36:25.715224Z",
     "iopub.status.idle": "2022-03-04T00:36:25.716697Z",
     "shell.execute_reply": "2022-03-04T00:36:25.717251Z"
    },
    "papermill": {
     "duration": 0.045304,
     "end_time": "2022-03-04T00:36:25.717421",
     "exception": false,
     "start_time": "2022-03-04T00:36:25.672117",
     "status": "completed"
    },
    "tags": []
   },
   "outputs": [],
   "source": [
    "#hide\n",
    "#delete problematic countries from table\n",
    "df_table = df_table[~df_table['Country/Region'].isin(['Cape Verde', 'Cruise Ship', 'Kosovo'])]"
   ]
  },
  {
   "cell_type": "code",
   "execution_count": 15,
   "id": "fantastic-effect",
   "metadata": {
    "execution": {
     "iopub.execute_input": "2022-03-04T00:36:25.801953Z",
     "iopub.status.busy": "2022-03-04T00:36:25.801275Z",
     "iopub.status.idle": "2022-03-04T00:36:25.821854Z",
     "shell.execute_reply": "2022-03-04T00:36:25.821376Z"
    },
    "papermill": {
     "duration": 0.066174,
     "end_time": "2022-03-04T00:36:25.821983",
     "exception": false,
     "start_time": "2022-03-04T00:36:25.755809",
     "status": "completed"
    },
    "tags": []
   },
   "outputs": [
    {
     "data": {
      "text/html": [
       "<div>\n",
       "<style scoped>\n",
       "    .dataframe tbody tr th:only-of-type {\n",
       "        vertical-align: middle;\n",
       "    }\n",
       "\n",
       "    .dataframe tbody tr th {\n",
       "        vertical-align: top;\n",
       "    }\n",
       "\n",
       "    .dataframe thead th {\n",
       "        text-align: right;\n",
       "    }\n",
       "</style>\n",
       "<table border=\"1\" class=\"dataframe\">\n",
       "  <thead>\n",
       "    <tr style=\"text-align: right;\">\n",
       "      <th></th>\n",
       "      <th>Country/Region</th>\n",
       "      <th>Cases</th>\n",
       "      <th>Deaths</th>\n",
       "      <th>PCases</th>\n",
       "      <th>PDeaths</th>\n",
       "      <th>Cases (+)</th>\n",
       "      <th>Deaths (+)</th>\n",
       "      <th>Fatality Rate</th>\n",
       "      <th>Continent</th>\n",
       "    </tr>\n",
       "  </thead>\n",
       "  <tbody>\n",
       "    <tr>\n",
       "      <th>0</th>\n",
       "      <td>US</td>\n",
       "      <td>79143716</td>\n",
       "      <td>954518</td>\n",
       "      <td>79091361</td>\n",
       "      <td>952423</td>\n",
       "      <td>52355</td>\n",
       "      <td>2095</td>\n",
       "      <td>1.2</td>\n",
       "      <td>North America</td>\n",
       "    </tr>\n",
       "    <tr>\n",
       "      <th>1</th>\n",
       "      <td>India</td>\n",
       "      <td>42945160</td>\n",
       "      <td>514388</td>\n",
       "      <td>42938599</td>\n",
       "      <td>514246</td>\n",
       "      <td>6561</td>\n",
       "      <td>142</td>\n",
       "      <td>1.2</td>\n",
       "      <td>Asia</td>\n",
       "    </tr>\n",
       "    <tr>\n",
       "      <th>2</th>\n",
       "      <td>Brazil</td>\n",
       "      <td>28846495</td>\n",
       "      <td>650254</td>\n",
       "      <td>28818850</td>\n",
       "      <td>649922</td>\n",
       "      <td>27645</td>\n",
       "      <td>332</td>\n",
       "      <td>2.3</td>\n",
       "      <td>South America</td>\n",
       "    </tr>\n",
       "    <tr>\n",
       "      <th>3</th>\n",
       "      <td>France</td>\n",
       "      <td>23017711</td>\n",
       "      <td>139781</td>\n",
       "      <td>22959368</td>\n",
       "      <td>139594</td>\n",
       "      <td>58343</td>\n",
       "      <td>187</td>\n",
       "      <td>0.6</td>\n",
       "      <td>Europe</td>\n",
       "    </tr>\n",
       "    <tr>\n",
       "      <th>4</th>\n",
       "      <td>United Kingdom</td>\n",
       "      <td>19166049</td>\n",
       "      <td>162278</td>\n",
       "      <td>19120746</td>\n",
       "      <td>162203</td>\n",
       "      <td>45303</td>\n",
       "      <td>75</td>\n",
       "      <td>0.8</td>\n",
       "      <td>Europe</td>\n",
       "    </tr>\n",
       "  </tbody>\n",
       "</table>\n",
       "</div>"
      ],
      "text/plain": [
       "   Country/Region     Cases  Deaths    PCases  PDeaths  Cases (+)  Deaths (+)  \\\n",
       "0              US  79143716  954518  79091361   952423      52355        2095   \n",
       "1           India  42945160  514388  42938599   514246       6561         142   \n",
       "2          Brazil  28846495  650254  28818850   649922      27645         332   \n",
       "3          France  23017711  139781  22959368   139594      58343         187   \n",
       "4  United Kingdom  19166049  162278  19120746   162203      45303          75   \n",
       "\n",
       "   Fatality Rate      Continent  \n",
       "0            1.2  North America  \n",
       "1            1.2           Asia  \n",
       "2            2.3  South America  \n",
       "3            0.6         Europe  \n",
       "4            0.8         Europe  "
      ]
     },
     "execution_count": 15,
     "metadata": {},
     "output_type": "execute_result"
    }
   ],
   "source": [
    "#hide\n",
    "df_table = (pd.DataFrame(dict(Cases=dfc_cases, Deaths=dfc_deaths, PCases=dfp_cases, PDeaths=dfp_deaths))\n",
    "             .sort_values(by=['Cases', 'Deaths'], ascending=[False, False])\n",
    "             .reset_index())\n",
    "df_table.rename(columns={'index': 'Country/Region'}, inplace=True)\n",
    "for c in 'Cases, Deaths'.split(', '):\n",
    "    df_table[f'{c} (+)'] = (df_table[c] - df_table[f'P{c}']).clip(0)  # DATA BUG\n",
    "df_table['Fatality Rate'] = (100 * df_table['Deaths'] / df_table['Cases']).round(1)\n",
    "df_table['Continent'] = df_table['Country/Region'].map(mapping['map.continent'])\n",
    "df_table.head(5)"
   ]
  },
  {
   "cell_type": "code",
   "execution_count": 16,
   "id": "fewer-occasion",
   "metadata": {
    "execution": {
     "iopub.execute_input": "2022-03-04T00:36:25.910874Z",
     "iopub.status.busy": "2022-03-04T00:36:25.910264Z",
     "iopub.status.idle": "2022-03-04T00:36:25.913783Z",
     "shell.execute_reply": "2022-03-04T00:36:25.913261Z"
    },
    "papermill": {
     "duration": 0.050899,
     "end_time": "2022-03-04T00:36:25.913908",
     "exception": false,
     "start_time": "2022-03-04T00:36:25.863009",
     "status": "completed"
    },
    "tags": []
   },
   "outputs": [],
   "source": [
    "#hide\n",
    "#delete problematic countries from table\n",
    "df_table = df_table[~df_table['Country/Region'].isin(['Cape Verde', 'Cruise Ship', 'Kosovo'])]"
   ]
  },
  {
   "cell_type": "code",
   "execution_count": 17,
   "id": "related-center",
   "metadata": {
    "execution": {
     "iopub.execute_input": "2022-03-04T00:36:26.012727Z",
     "iopub.status.busy": "2022-03-04T00:36:25.997619Z",
     "iopub.status.idle": "2022-03-04T00:36:26.014907Z",
     "shell.execute_reply": "2022-03-04T00:36:26.015385Z"
    },
    "papermill": {
     "duration": 0.06403,
     "end_time": "2022-03-04T00:36:26.015538",
     "exception": false,
     "start_time": "2022-03-04T00:36:25.951508",
     "status": "completed"
    },
    "tags": []
   },
   "outputs": [],
   "source": [
    "#hide\n",
    "metrics = [df_table.columns[index] for index in [1,2,5,6]]\n",
    "# s_china = df_table[df_table['Country/Region'].eq('China')][metrics].sum().add_prefix('China ')\n",
    "s_us = df_table[df_table['Country/Region'].eq('US')][metrics].sum().add_prefix('US ')\n",
    "s_eu = df_table[df_table['Continent'].eq('Europe')][metrics].sum().add_prefix('EU ')\n",
    "s_ind = df_table[df_table['Country/Region'].eq('India')][metrics].sum().add_prefix('India ')\n",
    "summary = {'updated': pd.to_datetime(dt_today), 'since': pd.to_datetime(dt_yday)}\n",
    "summary = {'updated': pd.to_datetime(dt_today), 'since': pd.to_datetime(dt_yday)}\n",
    "summary = {**summary, **df_table[metrics].sum(), **s_ind, **s_us, **s_eu}"
   ]
  },
  {
   "cell_type": "code",
   "execution_count": 18,
   "id": "engaging-syndrome",
   "metadata": {
    "execution": {
     "iopub.execute_input": "2022-03-04T00:36:26.102883Z",
     "iopub.status.busy": "2022-03-04T00:36:26.102120Z",
     "iopub.status.idle": "2022-03-04T00:36:26.118944Z",
     "shell.execute_reply": "2022-03-04T00:36:26.119428Z"
    },
    "papermill": {
     "duration": 0.067643,
     "end_time": "2022-03-04T00:36:26.119587",
     "exception": false,
     "start_time": "2022-03-04T00:36:26.051944",
     "status": "completed"
    },
    "tags": []
   },
   "outputs": [],
   "source": [
    "#hide\n",
    "dft_ct_new_cases = dft_cases.groupby(COL_REGION)[dt_cols].sum().diff(axis=1).fillna(0).astype(int)"
   ]
  },
  {
   "cell_type": "code",
   "execution_count": 19,
   "id": "neutral-assignment",
   "metadata": {
    "execution": {
     "iopub.execute_input": "2022-03-04T00:36:26.203838Z",
     "iopub.status.busy": "2022-03-04T00:36:26.203217Z",
     "iopub.status.idle": "2022-03-04T00:36:26.208124Z",
     "shell.execute_reply": "2022-03-04T00:36:26.208642Z"
    },
    "papermill": {
     "duration": 0.050395,
     "end_time": "2022-03-04T00:36:26.208797",
     "exception": false,
     "start_time": "2022-03-04T00:36:26.158402",
     "status": "completed"
    },
    "tags": []
   },
   "outputs": [],
   "source": [
    "#hide\n",
    "everydaycases = dft_ct_new_cases.cumsum(axis=1)"
   ]
  },
  {
   "cell_type": "code",
   "execution_count": 20,
   "id": "parliamentary-calgary",
   "metadata": {
    "execution": {
     "iopub.execute_input": "2022-03-04T00:36:26.292609Z",
     "iopub.status.busy": "2022-03-04T00:36:26.291466Z",
     "iopub.status.idle": "2022-03-04T00:36:27.029099Z",
     "shell.execute_reply": "2022-03-04T00:36:27.028560Z"
    },
    "papermill": {
     "duration": 0.780911,
     "end_time": "2022-03-04T00:36:27.029242",
     "exception": false,
     "start_time": "2022-03-04T00:36:26.248331",
     "status": "completed"
    },
    "tags": []
   },
   "outputs": [],
   "source": [
    "#hide\n",
    "import pandas as pd\n",
    "import matplotlib.pyplot as plt\n",
    "import matplotlib.ticker as ticker\n",
    "import matplotlib.animation as animation\n",
    "from IPython.display import HTML"
   ]
  },
  {
   "cell_type": "code",
   "execution_count": 21,
   "id": "lasting-extraction",
   "metadata": {
    "execution": {
     "iopub.execute_input": "2022-03-04T00:36:27.122302Z",
     "iopub.status.busy": "2022-03-04T00:36:27.121675Z",
     "iopub.status.idle": "2022-03-04T00:36:27.128772Z",
     "shell.execute_reply": "2022-03-04T00:36:27.128258Z"
    },
    "papermill": {
     "duration": 0.055538,
     "end_time": "2022-03-04T00:36:27.128906",
     "exception": false,
     "start_time": "2022-03-04T00:36:27.073368",
     "status": "completed"
    },
    "tags": []
   },
   "outputs": [],
   "source": [
    "#hide\n",
    "t = everydaycases.stack()"
   ]
  },
  {
   "cell_type": "code",
   "execution_count": 22,
   "id": "premier-sleeve",
   "metadata": {
    "execution": {
     "iopub.execute_input": "2022-03-04T00:36:27.210890Z",
     "iopub.status.busy": "2022-03-04T00:36:27.210177Z",
     "iopub.status.idle": "2022-03-04T00:36:27.223548Z",
     "shell.execute_reply": "2022-03-04T00:36:27.224054Z"
    },
    "papermill": {
     "duration": 0.057497,
     "end_time": "2022-03-04T00:36:27.224221",
     "exception": false,
     "start_time": "2022-03-04T00:36:27.166724",
     "status": "completed"
    },
    "tags": []
   },
   "outputs": [],
   "source": [
    "#hide\n",
    "g = t.reset_index(['Country/Region'])"
   ]
  },
  {
   "cell_type": "code",
   "execution_count": 23,
   "id": "distributed-pittsburgh",
   "metadata": {
    "execution": {
     "iopub.execute_input": "2022-03-04T00:36:27.305461Z",
     "iopub.status.busy": "2022-03-04T00:36:27.304794Z",
     "iopub.status.idle": "2022-03-04T00:36:27.308860Z",
     "shell.execute_reply": "2022-03-04T00:36:27.308384Z"
    },
    "papermill": {
     "duration": 0.04849,
     "end_time": "2022-03-04T00:36:27.308995",
     "exception": false,
     "start_time": "2022-03-04T00:36:27.260505",
     "status": "completed"
    },
    "tags": []
   },
   "outputs": [],
   "source": [
    "#hide\n",
    "g.index.name = 'date'"
   ]
  },
  {
   "cell_type": "code",
   "execution_count": 24,
   "id": "naked-donor",
   "metadata": {
    "execution": {
     "iopub.execute_input": "2022-03-04T00:36:27.411544Z",
     "iopub.status.busy": "2022-03-04T00:36:27.410907Z",
     "iopub.status.idle": "2022-03-04T00:36:27.415334Z",
     "shell.execute_reply": "2022-03-04T00:36:27.414744Z"
    },
    "papermill": {
     "duration": 0.058149,
     "end_time": "2022-03-04T00:36:27.415460",
     "exception": false,
     "start_time": "2022-03-04T00:36:27.357311",
     "status": "completed"
    },
    "tags": []
   },
   "outputs": [],
   "source": [
    "# #hide\n",
    "# g = g.reset_index(['date'])"
   ]
  },
  {
   "cell_type": "code",
   "execution_count": 25,
   "id": "incomplete-mustang",
   "metadata": {
    "execution": {
     "iopub.execute_input": "2022-03-04T00:36:27.501759Z",
     "iopub.status.busy": "2022-03-04T00:36:27.500982Z",
     "iopub.status.idle": "2022-03-04T00:36:27.504136Z",
     "shell.execute_reply": "2022-03-04T00:36:27.504743Z"
    },
    "papermill": {
     "duration": 0.048497,
     "end_time": "2022-03-04T00:36:27.504891",
     "exception": false,
     "start_time": "2022-03-04T00:36:27.456394",
     "status": "completed"
    },
    "tags": []
   },
   "outputs": [],
   "source": [
    "#hide\n",
    "# g.head()"
   ]
  },
  {
   "cell_type": "code",
   "execution_count": 26,
   "id": "specific-kruger",
   "metadata": {
    "execution": {
     "iopub.execute_input": "2022-03-04T00:36:27.592078Z",
     "iopub.status.busy": "2022-03-04T00:36:27.591297Z",
     "iopub.status.idle": "2022-03-04T00:36:27.595076Z",
     "shell.execute_reply": "2022-03-04T00:36:27.595521Z"
    },
    "papermill": {
     "duration": 0.044399,
     "end_time": "2022-03-04T00:36:27.595676",
     "exception": false,
     "start_time": "2022-03-04T00:36:27.551277",
     "status": "completed"
    },
    "tags": []
   },
   "outputs": [],
   "source": [
    "#hide\n",
    "# g.columns = ['date','country','cases']"
   ]
  },
  {
   "cell_type": "code",
   "execution_count": 27,
   "id": "tender-conversion",
   "metadata": {
    "execution": {
     "iopub.execute_input": "2022-03-04T00:36:27.679554Z",
     "iopub.status.busy": "2022-03-04T00:36:27.678951Z",
     "iopub.status.idle": "2022-03-04T00:36:27.681494Z",
     "shell.execute_reply": "2022-03-04T00:36:27.680790Z"
    },
    "papermill": {
     "duration": 0.046218,
     "end_time": "2022-03-04T00:36:27.681638",
     "exception": false,
     "start_time": "2022-03-04T00:36:27.635420",
     "status": "completed"
    },
    "tags": []
   },
   "outputs": [],
   "source": [
    "#hide\n",
    "# g['continent'] = g.country"
   ]
  },
  {
   "cell_type": "code",
   "execution_count": 28,
   "id": "substantial-wilderness",
   "metadata": {
    "execution": {
     "iopub.execute_input": "2022-03-04T00:36:27.759310Z",
     "iopub.status.busy": "2022-03-04T00:36:27.758712Z",
     "iopub.status.idle": "2022-03-04T00:36:27.761790Z",
     "shell.execute_reply": "2022-03-04T00:36:27.760680Z"
    },
    "papermill": {
     "duration": 0.043829,
     "end_time": "2022-03-04T00:36:27.761926",
     "exception": false,
     "start_time": "2022-03-04T00:36:27.718097",
     "status": "completed"
    },
    "tags": []
   },
   "outputs": [],
   "source": [
    "#hide\n",
    "# cols = list(g.columns.values)"
   ]
  },
  {
   "cell_type": "code",
   "execution_count": 29,
   "id": "solved-farming",
   "metadata": {
    "execution": {
     "iopub.execute_input": "2022-03-04T00:36:27.843979Z",
     "iopub.status.busy": "2022-03-04T00:36:27.843318Z",
     "iopub.status.idle": "2022-03-04T00:36:27.845350Z",
     "shell.execute_reply": "2022-03-04T00:36:27.845803Z"
    },
    "papermill": {
     "duration": 0.044242,
     "end_time": "2022-03-04T00:36:27.845976",
     "exception": false,
     "start_time": "2022-03-04T00:36:27.801734",
     "status": "completed"
    },
    "tags": []
   },
   "outputs": [],
   "source": [
    "#hide\n",
    "# cols.insert(0, cols.pop())"
   ]
  },
  {
   "cell_type": "code",
   "execution_count": 30,
   "id": "executed-adoption",
   "metadata": {
    "execution": {
     "iopub.execute_input": "2022-03-04T00:36:27.926102Z",
     "iopub.status.busy": "2022-03-04T00:36:27.925332Z",
     "iopub.status.idle": "2022-03-04T00:36:27.929241Z",
     "shell.execute_reply": "2022-03-04T00:36:27.928388Z"
    },
    "papermill": {
     "duration": 0.04602,
     "end_time": "2022-03-04T00:36:27.929436",
     "exception": false,
     "start_time": "2022-03-04T00:36:27.883416",
     "status": "completed"
    },
    "tags": []
   },
   "outputs": [],
   "source": [
    "#hide\n",
    "# g = g[cols]"
   ]
  },
  {
   "cell_type": "code",
   "execution_count": 31,
   "id": "subject-dublin",
   "metadata": {
    "execution": {
     "iopub.execute_input": "2022-03-04T00:36:28.016643Z",
     "iopub.status.busy": "2022-03-04T00:36:28.016018Z",
     "iopub.status.idle": "2022-03-04T00:36:28.018396Z",
     "shell.execute_reply": "2022-03-04T00:36:28.017800Z"
    },
    "papermill": {
     "duration": 0.048865,
     "end_time": "2022-03-04T00:36:28.018528",
     "exception": false,
     "start_time": "2022-03-04T00:36:27.969663",
     "status": "completed"
    },
    "tags": []
   },
   "outputs": [],
   "source": [
    "#hide\n",
    "# g['continent'] = g['continent'].map(mapping['map.continent'])"
   ]
  },
  {
   "cell_type": "code",
   "execution_count": 32,
   "id": "freelance-scout",
   "metadata": {
    "execution": {
     "iopub.execute_input": "2022-03-04T00:36:28.109981Z",
     "iopub.status.busy": "2022-03-04T00:36:28.109359Z",
     "iopub.status.idle": "2022-03-04T00:36:28.113040Z",
     "shell.execute_reply": "2022-03-04T00:36:28.112424Z"
    },
    "papermill": {
     "duration": 0.052815,
     "end_time": "2022-03-04T00:36:28.113175",
     "exception": false,
     "start_time": "2022-03-04T00:36:28.060360",
     "status": "completed"
    },
    "tags": []
   },
   "outputs": [],
   "source": [
    "#hide\n",
    "# g.head()"
   ]
  },
  {
   "cell_type": "code",
   "execution_count": 33,
   "id": "limited-engine",
   "metadata": {
    "execution": {
     "iopub.execute_input": "2022-03-04T00:36:28.191610Z",
     "iopub.status.busy": "2022-03-04T00:36:28.190888Z",
     "iopub.status.idle": "2022-03-04T00:36:28.194470Z",
     "shell.execute_reply": "2022-03-04T00:36:28.194950Z"
    },
    "papermill": {
     "duration": 0.044547,
     "end_time": "2022-03-04T00:36:28.195097",
     "exception": false,
     "start_time": "2022-03-04T00:36:28.150550",
     "status": "completed"
    },
    "tags": []
   },
   "outputs": [],
   "source": [
    "# hide\n",
    "# g['date'] = g['date'].astype('datetime64[ns]')"
   ]
  },
  {
   "cell_type": "code",
   "execution_count": 34,
   "id": "sophisticated-supervisor",
   "metadata": {
    "execution": {
     "iopub.execute_input": "2022-03-04T00:36:28.277976Z",
     "iopub.status.busy": "2022-03-04T00:36:28.277270Z",
     "iopub.status.idle": "2022-03-04T00:36:28.281768Z",
     "shell.execute_reply": "2022-03-04T00:36:28.280732Z"
    },
    "papermill": {
     "duration": 0.049441,
     "end_time": "2022-03-04T00:36:28.281918",
     "exception": false,
     "start_time": "2022-03-04T00:36:28.232477",
     "status": "completed"
    },
    "tags": []
   },
   "outputs": [],
   "source": [
    "#hide\n",
    "# g['date'] = g.date.dt.dayofyear"
   ]
  },
  {
   "cell_type": "code",
   "execution_count": 35,
   "id": "inside-dubai",
   "metadata": {
    "execution": {
     "iopub.execute_input": "2022-03-04T00:36:28.367736Z",
     "iopub.status.busy": "2022-03-04T00:36:28.366902Z",
     "iopub.status.idle": "2022-03-04T00:36:28.372147Z",
     "shell.execute_reply": "2022-03-04T00:36:28.371675Z"
    },
    "papermill": {
     "duration": 0.045847,
     "end_time": "2022-03-04T00:36:28.372285",
     "exception": false,
     "start_time": "2022-03-04T00:36:28.326438",
     "status": "completed"
    },
    "tags": []
   },
   "outputs": [],
   "source": [
    "#hide\n",
    "# g = g.rename(columns= {'continent':'group','country':'name','cases':'value'})"
   ]
  },
  {
   "cell_type": "code",
   "execution_count": 36,
   "id": "fleet-motorcycle",
   "metadata": {
    "execution": {
     "iopub.execute_input": "2022-03-04T00:36:28.452057Z",
     "iopub.status.busy": "2022-03-04T00:36:28.451151Z",
     "iopub.status.idle": "2022-03-04T00:36:28.453637Z",
     "shell.execute_reply": "2022-03-04T00:36:28.452939Z"
    },
    "papermill": {
     "duration": 0.044573,
     "end_time": "2022-03-04T00:36:28.453777",
     "exception": false,
     "start_time": "2022-03-04T00:36:28.409204",
     "status": "completed"
    },
    "tags": []
   },
   "outputs": [],
   "source": [
    "#hide\n",
    "# cols = ['name','group','day','value']"
   ]
  },
  {
   "cell_type": "code",
   "execution_count": 37,
   "id": "continued-sleeping",
   "metadata": {
    "execution": {
     "iopub.execute_input": "2022-03-04T00:36:28.537449Z",
     "iopub.status.busy": "2022-03-04T00:36:28.536804Z",
     "iopub.status.idle": "2022-03-04T00:36:28.539229Z",
     "shell.execute_reply": "2022-03-04T00:36:28.539676Z"
    },
    "papermill": {
     "duration": 0.047422,
     "end_time": "2022-03-04T00:36:28.539829",
     "exception": false,
     "start_time": "2022-03-04T00:36:28.492407",
     "status": "completed"
    },
    "tags": []
   },
   "outputs": [],
   "source": [
    "#hide\n",
    "# g.rename(columns= {'date':'day'},inplace = True)"
   ]
  },
  {
   "cell_type": "code",
   "execution_count": 38,
   "id": "major-fight",
   "metadata": {
    "execution": {
     "iopub.execute_input": "2022-03-04T00:36:28.619172Z",
     "iopub.status.busy": "2022-03-04T00:36:28.618556Z",
     "iopub.status.idle": "2022-03-04T00:36:28.623104Z",
     "shell.execute_reply": "2022-03-04T00:36:28.622624Z"
    },
    "papermill": {
     "duration": 0.046002,
     "end_time": "2022-03-04T00:36:28.623236",
     "exception": false,
     "start_time": "2022-03-04T00:36:28.577234",
     "status": "completed"
    },
    "tags": []
   },
   "outputs": [],
   "source": [
    "#hide\n",
    "# g = g[cols]"
   ]
  },
  {
   "cell_type": "code",
   "execution_count": 39,
   "id": "structured-mobile",
   "metadata": {
    "execution": {
     "iopub.execute_input": "2022-03-04T00:36:28.707983Z",
     "iopub.status.busy": "2022-03-04T00:36:28.707392Z",
     "iopub.status.idle": "2022-03-04T00:36:28.709990Z",
     "shell.execute_reply": "2022-03-04T00:36:28.709488Z"
    },
    "papermill": {
     "duration": 0.0467,
     "end_time": "2022-03-04T00:36:28.710115",
     "exception": false,
     "start_time": "2022-03-04T00:36:28.663415",
     "status": "completed"
    },
    "tags": []
   },
   "outputs": [],
   "source": [
    "# #hide\n",
    "# g = g[g.group.notna()]"
   ]
  },
  {
   "cell_type": "code",
   "execution_count": 40,
   "id": "determined-closing",
   "metadata": {
    "execution": {
     "iopub.execute_input": "2022-03-04T00:36:28.789510Z",
     "iopub.status.busy": "2022-03-04T00:36:28.788501Z",
     "iopub.status.idle": "2022-03-04T00:36:28.790135Z",
     "shell.execute_reply": "2022-03-04T00:36:28.790678Z"
    },
    "papermill": {
     "duration": 0.043259,
     "end_time": "2022-03-04T00:36:28.790831",
     "exception": false,
     "start_time": "2022-03-04T00:36:28.747572",
     "status": "completed"
    },
    "tags": []
   },
   "outputs": [],
   "source": [
    "# #hide\n",
    "# colors = dict(zip(\n",
    "#     [\"Oceania\", \"Europe\", \"Asia\", \"South America\", \"Middle East\", \"North America\", \"Africa\"],\n",
    "#     [\"#adb0ff\", \"#ffb3ff\", \"#90d595\", \"#e48381\", \"#aafbff\", \"#f7bb5f\", \"#eafb50\"]\n",
    "# ))\n",
    "# group_lk = g.set_index('name')['group'].to_dict()"
   ]
  },
  {
   "cell_type": "code",
   "execution_count": null,
   "id": "gross-drinking",
   "metadata": {
    "papermill": {
     "duration": 0.036548,
     "end_time": "2022-03-04T00:36:28.864023",
     "exception": false,
     "start_time": "2022-03-04T00:36:28.827475",
     "status": "completed"
    },
    "tags": []
   },
   "outputs": [],
   "source": []
  },
  {
   "cell_type": "code",
   "execution_count": 41,
   "id": "subject-macintosh",
   "metadata": {
    "execution": {
     "iopub.execute_input": "2022-03-04T00:36:28.943190Z",
     "iopub.status.busy": "2022-03-04T00:36:28.942578Z",
     "iopub.status.idle": "2022-03-04T00:36:28.946513Z",
     "shell.execute_reply": "2022-03-04T00:36:28.945977Z"
    },
    "papermill": {
     "duration": 0.046614,
     "end_time": "2022-03-04T00:36:28.946638",
     "exception": false,
     "start_time": "2022-03-04T00:36:28.900024",
     "status": "completed"
    },
    "tags": []
   },
   "outputs": [],
   "source": [
    "# #hide\n",
    "# fig, ax = plt.subplots(figsize=(15, 8))\n",
    "\n",
    "# def draw_barchart(current_day):\n",
    "#     dff = g[g['day'].eq(current_day)].sort_values(by='value', ascending=True).tail(10)\n",
    "#     ax.clear()\n",
    "#     ax.barh(dff['name'], dff['value'], color=[colors[group_lk[x]] for x in dff['name']])\n",
    "#     dx = dff['value'].max() / 200\n",
    "    \n",
    "#     for i, (value, name) in enumerate(zip(dff['value'], dff['name'])):\n",
    "#         ax.text(value-dx, i,     name,           size=14, weight=600, ha='right', va='bottom')\n",
    "#         ax.text(value-dx, i-.25, group_lk[name], size=10, color='#444444', ha='right', va='baseline')\n",
    "#         ax.text(value+dx, i,     f'{value:,.0f}',  size=14, ha='left',  va='center')\n",
    "#     ax.text(1, 0.4, current_day, transform=ax.transAxes, color='#777777', size=46, ha='right', weight=800)\n",
    "#     ax.text(0, 1.06, 'Population (thousands)', transform=ax.transAxes, size=12, color='#777777')\n",
    "#     ax.xaxis.set_major_formatter(ticker.StrMethodFormatter('{x:,.0f}'))\n",
    "#     ax.xaxis.set_ticks_position('top')\n",
    "#     ax.tick_params(axis='x', colors='#777777', labelsize=12)\n",
    "#     ax.set_yticks([])\n",
    "#     ax.margins(0, 0.01)\n",
    "#     ax.grid(which='major', axis='x', linestyle='-')\n",
    "#     ax.set_axisbelow(True)\n",
    "    \n",
    "#     ax.text(0, 1.15, 'Coronavirus',\n",
    "#             transform=ax.transAxes, size=24, weight=600, ha='left', va='top')\n",
    "# #     ax.text(1, 0, 'by @pratapvardhan; credit @jburnmurdoch', transform=ax.transAxes, color='#777777', ha='right',\n",
    "# #             bbox=dict(facecolor='white', alpha=0.8, edgecolor='white'))\n",
    "#     plt.box(False)"
   ]
  },
  {
   "cell_type": "code",
   "execution_count": 42,
   "id": "sexual-wages",
   "metadata": {
    "execution": {
     "iopub.execute_input": "2022-03-04T00:36:29.024002Z",
     "iopub.status.busy": "2022-03-04T00:36:29.023357Z",
     "iopub.status.idle": "2022-03-04T00:36:29.025150Z",
     "shell.execute_reply": "2022-03-04T00:36:29.025817Z"
    },
    "papermill": {
     "duration": 0.042333,
     "end_time": "2022-03-04T00:36:29.025969",
     "exception": false,
     "start_time": "2022-03-04T00:36:28.983636",
     "status": "completed"
    },
    "tags": []
   },
   "outputs": [],
   "source": [
    "# #hide_input\n",
    "# fig, ax = plt.subplots(figsize=(15, 8))\n",
    "# animator = animation.FuncAnimation(fig, draw_barchart, frames=range(g.day.values.min(), g.day.values.max()))\n",
    "# HTML(animator.to_jshtml())\n",
    "# # or use animator.to_html5_video() or animator.save() "
   ]
  },
  {
   "cell_type": "code",
   "execution_count": null,
   "id": "australian-container",
   "metadata": {
    "papermill": {
     "duration": 0.03839,
     "end_time": "2022-03-04T00:36:29.102777",
     "exception": false,
     "start_time": "2022-03-04T00:36:29.064387",
     "status": "completed"
    },
    "tags": []
   },
   "outputs": [],
   "source": []
  },
  {
   "cell_type": "code",
   "execution_count": null,
   "id": "mediterranean-pontiac",
   "metadata": {
    "papermill": {
     "duration": 0.037994,
     "end_time": "2022-03-04T00:36:29.179202",
     "exception": false,
     "start_time": "2022-03-04T00:36:29.141208",
     "status": "completed"
    },
    "tags": []
   },
   "outputs": [],
   "source": []
  },
  {
   "cell_type": "code",
   "execution_count": null,
   "id": "aging-legislature",
   "metadata": {
    "papermill": {
     "duration": 0.037923,
     "end_time": "2022-03-04T00:36:29.254293",
     "exception": false,
     "start_time": "2022-03-04T00:36:29.216370",
     "status": "completed"
    },
    "tags": []
   },
   "outputs": [],
   "source": []
  }
 ],
 "metadata": {
  "kernelspec": {
   "display_name": "Python 3",
   "language": "python",
   "name": "python3"
  },
  "language_info": {
   "codemirror_mode": {
    "name": "ipython",
    "version": 3
   },
   "file_extension": ".py",
   "mimetype": "text/x-python",
   "name": "python",
   "nbconvert_exporter": "python",
   "pygments_lexer": "ipython3",
   "version": "3.6.15"
  },
  "papermill": {
   "duration": 7.461488,
   "end_time": "2022-03-04T00:36:29.710882",
   "environment_variables": {},
   "exception": null,
   "input_path": "2020-03-21-covid19exp.ipynb",
   "output_path": "2020-03-21-covid19exp.ipynb",
   "parameters": {},
   "start_time": "2022-03-04T00:36:22.249394",
   "version": "2.0.0"
  }
 },
 "nbformat": 4,
 "nbformat_minor": 5
}