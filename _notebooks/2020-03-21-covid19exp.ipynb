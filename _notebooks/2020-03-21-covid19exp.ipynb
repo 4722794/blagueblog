{
 "cells": [
  {
   "cell_type": "markdown",
   "id": "muslim-click",
   "metadata": {
    "papermill": {
     "duration": 0.045301,
     "end_time": "2022-08-18T00:47:56.055417",
     "exception": false,
     "start_time": "2022-08-18T00:47:56.010116",
     "status": "completed"
    },
    "tags": []
   },
   "source": [
    "# COVID-19 Case Race\n",
    "> A race chart to see rising cases around the world\n",
    "\n",
    "- author: Hargun Oberoi\n",
    "- image: images/covid-overview.png\n",
    "- hide: false\n",
    "- badges: false"
   ]
  },
  {
   "cell_type": "code",
   "execution_count": 1,
   "id": "proof-material",
   "metadata": {
    "execution": {
     "iopub.execute_input": "2022-08-18T00:47:56.147447Z",
     "iopub.status.busy": "2022-08-18T00:47:56.146573Z",
     "iopub.status.idle": "2022-08-18T00:47:56.554637Z",
     "shell.execute_reply": "2022-08-18T00:47:56.553367Z"
    },
    "papermill": {
     "duration": 0.459039,
     "end_time": "2022-08-18T00:47:56.554819",
     "exception": false,
     "start_time": "2022-08-18T00:47:56.095780",
     "status": "completed"
    },
    "tags": []
   },
   "outputs": [],
   "source": [
    "#hide\n",
    "import numpy as np\n",
    "import pandas as pd\n",
    "from jinja2 import Template\n",
    "from IPython.display import HTML"
   ]
  },
  {
   "cell_type": "code",
   "execution_count": 2,
   "id": "developed-terminology",
   "metadata": {
    "execution": {
     "iopub.execute_input": "2022-08-18T00:47:56.643917Z",
     "iopub.status.busy": "2022-08-18T00:47:56.642861Z",
     "iopub.status.idle": "2022-08-18T00:47:56.646747Z",
     "shell.execute_reply": "2022-08-18T00:47:56.645959Z"
    },
    "papermill": {
     "duration": 0.053163,
     "end_time": "2022-08-18T00:47:56.646917",
     "exception": false,
     "start_time": "2022-08-18T00:47:56.593754",
     "status": "completed"
    },
    "tags": []
   },
   "outputs": [],
   "source": [
    "#hide\n",
    "\n",
    "# FETCH\n",
    "base_url = 'https://raw.githubusercontent.com/pratapvardhan/notebooks/master/covid19/'\n",
    "paths = {\n",
    "    'mapping': base_url + 'mapping_countries.csv',\n",
    "    'overview': base_url + 'overview.tpl'\n",
    "}"
   ]
  },
  {
   "cell_type": "code",
   "execution_count": 3,
   "id": "dynamic-saver",
   "metadata": {
    "execution": {
     "iopub.execute_input": "2022-08-18T00:47:56.735257Z",
     "iopub.status.busy": "2022-08-18T00:47:56.734478Z",
     "iopub.status.idle": "2022-08-18T00:47:56.738833Z",
     "shell.execute_reply": "2022-08-18T00:47:56.738124Z"
    },
    "papermill": {
     "duration": 0.054032,
     "end_time": "2022-08-18T00:47:56.738956",
     "exception": false,
     "start_time": "2022-08-18T00:47:56.684924",
     "status": "completed"
    },
    "tags": []
   },
   "outputs": [
    {
     "data": {
      "text/plain": [
       "'https://raw.githubusercontent.com/pratapvardhan/notebooks/master/covid19/mapping_countries.csv'"
      ]
     },
     "execution_count": 3,
     "metadata": {},
     "output_type": "execute_result"
    }
   ],
   "source": [
    "#hide\n",
    "paths['mapping']"
   ]
  },
  {
   "cell_type": "code",
   "execution_count": 4,
   "id": "urban-software",
   "metadata": {
    "execution": {
     "iopub.execute_input": "2022-08-18T00:47:56.821947Z",
     "iopub.status.busy": "2022-08-18T00:47:56.821038Z",
     "iopub.status.idle": "2022-08-18T00:47:56.823551Z",
     "shell.execute_reply": "2022-08-18T00:47:56.824073Z"
    },
    "papermill": {
     "duration": 0.046195,
     "end_time": "2022-08-18T00:47:56.824213",
     "exception": false,
     "start_time": "2022-08-18T00:47:56.778018",
     "status": "completed"
    },
    "tags": []
   },
   "outputs": [],
   "source": [
    "#hide\n",
    "def get_mappings(url):\n",
    "    df = pd.read_csv(url)\n",
    "    return {\n",
    "        'df': df,\n",
    "        'replace.country': dict(df.dropna(subset=['Name']).set_index('Country')['Name']),\n",
    "        'map.continent': dict(df.set_index('Name')['Continent'])\n",
    "    }"
   ]
  },
  {
   "cell_type": "code",
   "execution_count": 5,
   "id": "intimate-machinery",
   "metadata": {
    "execution": {
     "iopub.execute_input": "2022-08-18T00:47:56.907835Z",
     "iopub.status.busy": "2022-08-18T00:47:56.907071Z",
     "iopub.status.idle": "2022-08-18T00:47:56.966135Z",
     "shell.execute_reply": "2022-08-18T00:47:56.965549Z"
    },
    "papermill": {
     "duration": 0.104274,
     "end_time": "2022-08-18T00:47:56.966267",
     "exception": false,
     "start_time": "2022-08-18T00:47:56.861993",
     "status": "completed"
    },
    "tags": []
   },
   "outputs": [],
   "source": [
    "#hide\n",
    "mapping = get_mappings(paths['mapping'])"
   ]
  },
  {
   "cell_type": "code",
   "execution_count": 6,
   "id": "certified-tactics",
   "metadata": {
    "execution": {
     "iopub.execute_input": "2022-08-18T00:47:57.051944Z",
     "iopub.status.busy": "2022-08-18T00:47:57.051170Z",
     "iopub.status.idle": "2022-08-18T00:47:57.054019Z",
     "shell.execute_reply": "2022-08-18T00:47:57.054715Z"
    },
    "papermill": {
     "duration": 0.048655,
     "end_time": "2022-08-18T00:47:57.054868",
     "exception": false,
     "start_time": "2022-08-18T00:47:57.006213",
     "status": "completed"
    },
    "tags": []
   },
   "outputs": [],
   "source": [
    "#hide\n",
    "def get_template(path):\n",
    "    from urllib.parse import urlparse\n",
    "    if bool(urlparse(path).netloc):\n",
    "        from urllib.request import urlopen\n",
    "        return urlopen(path).read().decode('utf8')\n",
    "    return open(path).read()"
   ]
  },
  {
   "cell_type": "code",
   "execution_count": 7,
   "id": "realistic-blast",
   "metadata": {
    "execution": {
     "iopub.execute_input": "2022-08-18T00:47:57.145298Z",
     "iopub.status.busy": "2022-08-18T00:47:57.144314Z",
     "iopub.status.idle": "2022-08-18T00:47:57.149042Z",
     "shell.execute_reply": "2022-08-18T00:47:57.148374Z"
    },
    "papermill": {
     "duration": 0.052203,
     "end_time": "2022-08-18T00:47:57.149174",
     "exception": false,
     "start_time": "2022-08-18T00:47:57.096971",
     "status": "completed"
    },
    "tags": []
   },
   "outputs": [],
   "source": [
    "#hide\n",
    "def get_frame(name):\n",
    "    url = (\n",
    "        'https://raw.githubusercontent.com/CSSEGISandData/COVID-19/master/csse_covid_19_data/'\n",
    "        f'csse_covid_19_time_series/time_series_covid19_{name}_global.csv')\n",
    "    df = pd.read_csv(url)\n",
    "    # rename countries\n",
    "    df['Country/Region'] = df['Country/Region'].replace(mapping['replace.country'])\n",
    "    return df"
   ]
  },
  {
   "cell_type": "code",
   "execution_count": 8,
   "id": "affiliated-characterization",
   "metadata": {
    "execution": {
     "iopub.execute_input": "2022-08-18T00:47:57.236420Z",
     "iopub.status.busy": "2022-08-18T00:47:57.235536Z",
     "iopub.status.idle": "2022-08-18T00:47:57.239199Z",
     "shell.execute_reply": "2022-08-18T00:47:57.238244Z"
    },
    "papermill": {
     "duration": 0.05027,
     "end_time": "2022-08-18T00:47:57.239342",
     "exception": false,
     "start_time": "2022-08-18T00:47:57.189072",
     "status": "completed"
    },
    "tags": []
   },
   "outputs": [],
   "source": [
    "#hide\n",
    "def get_dates(df):\n",
    "    dt_cols = df.columns[~df.columns.isin(['Province/State', 'Country/Region', 'Lat', 'Long'])]\n",
    "    LAST_DATE_I = -1\n",
    "    # sometimes last column may be empty, then go backwards\n",
    "    for i in range(-1, -len(dt_cols), -1):\n",
    "        if not df[dt_cols[i]].fillna(0).eq(0).all():\n",
    "            LAST_DATE_I = i\n",
    "            break\n",
    "    return LAST_DATE_I, dt_cols"
   ]
  },
  {
   "cell_type": "code",
   "execution_count": 9,
   "id": "recent-optimization",
   "metadata": {
    "execution": {
     "iopub.execute_input": "2022-08-18T00:47:57.323680Z",
     "iopub.status.busy": "2022-08-18T00:47:57.322967Z",
     "iopub.status.idle": "2022-08-18T00:47:57.925214Z",
     "shell.execute_reply": "2022-08-18T00:47:57.924354Z"
    },
    "papermill": {
     "duration": 0.646223,
     "end_time": "2022-08-18T00:47:57.925358",
     "exception": false,
     "start_time": "2022-08-18T00:47:57.279135",
     "status": "completed"
    },
    "tags": []
   },
   "outputs": [],
   "source": [
    "#hide\n",
    "COL_REGION = 'Country/Region'\n",
    "# Confirmed, Recovered, Deaths\n",
    "df = get_frame('confirmed')\n",
    "# dft_: timeseries, dfc_: today country agg\n",
    "dft_cases = df\n",
    "dft_deaths = get_frame('deaths')\n",
    "dft_recovered = get_frame('recovered')\n",
    "LAST_DATE_I, dt_cols = get_dates(df)"
   ]
  },
  {
   "cell_type": "code",
   "execution_count": 10,
   "id": "absolute-copper",
   "metadata": {
    "execution": {
     "iopub.execute_input": "2022-08-18T00:47:58.012230Z",
     "iopub.status.busy": "2022-08-18T00:47:58.011485Z",
     "iopub.status.idle": "2022-08-18T00:47:58.015200Z",
     "shell.execute_reply": "2022-08-18T00:47:58.014223Z"
    },
    "papermill": {
     "duration": 0.048657,
     "end_time": "2022-08-18T00:47:58.015336",
     "exception": false,
     "start_time": "2022-08-18T00:47:57.966679",
     "status": "completed"
    },
    "tags": []
   },
   "outputs": [],
   "source": [
    "#hide\n",
    "LAST_DATE_I, dt_cols = get_dates(df)\n",
    "dt_today =dt_cols[LAST_DATE_I]\n",
    "# dt_5day = dt_cols[LAST_DATE_I - 5]\n",
    "dt_yday = dt_cols[LAST_DATE_I - 1]"
   ]
  },
  {
   "cell_type": "code",
   "execution_count": 11,
   "id": "restricted-sheriff",
   "metadata": {
    "execution": {
     "iopub.execute_input": "2022-08-18T00:47:58.105426Z",
     "iopub.status.busy": "2022-08-18T00:47:58.104569Z",
     "iopub.status.idle": "2022-08-18T00:47:58.115310Z",
     "shell.execute_reply": "2022-08-18T00:47:58.115908Z"
    },
    "papermill": {
     "duration": 0.058999,
     "end_time": "2022-08-18T00:47:58.116245",
     "exception": false,
     "start_time": "2022-08-18T00:47:58.057246",
     "status": "completed"
    },
    "tags": []
   },
   "outputs": [],
   "source": [
    "#hide\n",
    "dfc_cases = dft_cases.groupby(COL_REGION)[dt_today].sum()\n",
    "dfc_deaths = dft_deaths.groupby(COL_REGION)[dt_today].sum()\n",
    "# dfp_cases = dft_cases.groupby(COL_REGION)[dt_5day].sum()\n",
    "# dfp_deaths = dft_deaths.groupby(COL_REGION)[dt_5day].sum()\n",
    "dfp_cases = dft_cases.groupby(COL_REGION)[dt_yday].sum()\n",
    "dfp_deaths = dft_deaths.groupby(COL_REGION)[dt_yday].sum()"
   ]
  },
  {
   "cell_type": "code",
   "execution_count": 12,
   "id": "deluxe-hepatitis",
   "metadata": {
    "execution": {
     "iopub.execute_input": "2022-08-18T00:47:58.204060Z",
     "iopub.status.busy": "2022-08-18T00:47:58.203341Z",
     "iopub.status.idle": "2022-08-18T00:47:58.209657Z",
     "shell.execute_reply": "2022-08-18T00:47:58.210259Z"
    },
    "papermill": {
     "duration": 0.053534,
     "end_time": "2022-08-18T00:47:58.210430",
     "exception": false,
     "start_time": "2022-08-18T00:47:58.156896",
     "status": "completed"
    },
    "tags": []
   },
   "outputs": [],
   "source": [
    "#hide\n",
    "df_table = (pd.DataFrame(dict(Cases = dfc_cases, Deaths = dfc_deaths, PCases = dfp_cases, PDeaths = dfp_deaths))\n",
    "            .sort_values(by = ['Cases','Deaths'], ascending = [False, False])\n",
    "            .reset_index())"
   ]
  },
  {
   "cell_type": "code",
   "execution_count": 13,
   "id": "educational-chancellor",
   "metadata": {
    "execution": {
     "iopub.execute_input": "2022-08-18T00:47:58.300873Z",
     "iopub.status.busy": "2022-08-18T00:47:58.300139Z",
     "iopub.status.idle": "2022-08-18T00:47:58.324026Z",
     "shell.execute_reply": "2022-08-18T00:47:58.323438Z"
    },
    "papermill": {
     "duration": 0.07298,
     "end_time": "2022-08-18T00:47:58.324193",
     "exception": false,
     "start_time": "2022-08-18T00:47:58.251213",
     "status": "completed"
    },
    "tags": []
   },
   "outputs": [
    {
     "data": {
      "text/html": [
       "<div>\n",
       "<style scoped>\n",
       "    .dataframe tbody tr th:only-of-type {\n",
       "        vertical-align: middle;\n",
       "    }\n",
       "\n",
       "    .dataframe tbody tr th {\n",
       "        vertical-align: top;\n",
       "    }\n",
       "\n",
       "    .dataframe thead th {\n",
       "        text-align: right;\n",
       "    }\n",
       "</style>\n",
       "<table border=\"1\" class=\"dataframe\">\n",
       "  <thead>\n",
       "    <tr style=\"text-align: right;\">\n",
       "      <th></th>\n",
       "      <th>Country/Region</th>\n",
       "      <th>Cases</th>\n",
       "      <th>Deaths</th>\n",
       "      <th>PCases</th>\n",
       "      <th>PDeaths</th>\n",
       "      <th>Cases (+)</th>\n",
       "      <th>Deaths (+)</th>\n",
       "      <th>Fatality Rate</th>\n",
       "      <th>Continent</th>\n",
       "    </tr>\n",
       "  </thead>\n",
       "  <tbody>\n",
       "    <tr>\n",
       "      <th>0</th>\n",
       "      <td>US</td>\n",
       "      <td>93140979</td>\n",
       "      <td>1037935</td>\n",
       "      <td>93026647</td>\n",
       "      <td>1037461</td>\n",
       "      <td>114332</td>\n",
       "      <td>474</td>\n",
       "      <td>1.11</td>\n",
       "      <td>North America</td>\n",
       "    </tr>\n",
       "    <tr>\n",
       "      <th>1</th>\n",
       "      <td>India</td>\n",
       "      <td>44286256</td>\n",
       "      <td>527134</td>\n",
       "      <td>44277711</td>\n",
       "      <td>527098</td>\n",
       "      <td>8545</td>\n",
       "      <td>36</td>\n",
       "      <td>1.19</td>\n",
       "      <td>Asia</td>\n",
       "    </tr>\n",
       "    <tr>\n",
       "      <th>2</th>\n",
       "      <td>France</td>\n",
       "      <td>34455445</td>\n",
       "      <td>154282</td>\n",
       "      <td>34406296</td>\n",
       "      <td>154104</td>\n",
       "      <td>49149</td>\n",
       "      <td>178</td>\n",
       "      <td>0.45</td>\n",
       "      <td>Europe</td>\n",
       "    </tr>\n",
       "    <tr>\n",
       "      <th>3</th>\n",
       "      <td>Brazil</td>\n",
       "      <td>34201280</td>\n",
       "      <td>681763</td>\n",
       "      <td>34178240</td>\n",
       "      <td>681557</td>\n",
       "      <td>23040</td>\n",
       "      <td>206</td>\n",
       "      <td>1.99</td>\n",
       "      <td>South America</td>\n",
       "    </tr>\n",
       "    <tr>\n",
       "      <th>4</th>\n",
       "      <td>Germany</td>\n",
       "      <td>31666475</td>\n",
       "      <td>146030</td>\n",
       "      <td>31599085</td>\n",
       "      <td>145838</td>\n",
       "      <td>67390</td>\n",
       "      <td>192</td>\n",
       "      <td>0.46</td>\n",
       "      <td>Europe</td>\n",
       "    </tr>\n",
       "  </tbody>\n",
       "</table>\n",
       "</div>"
      ],
      "text/plain": [
       "  Country/Region     Cases   Deaths    PCases  PDeaths  Cases (+)  Deaths (+)  \\\n",
       "0             US  93140979  1037935  93026647  1037461     114332         474   \n",
       "1          India  44286256   527134  44277711   527098       8545          36   \n",
       "2         France  34455445   154282  34406296   154104      49149         178   \n",
       "3         Brazil  34201280   681763  34178240   681557      23040         206   \n",
       "4        Germany  31666475   146030  31599085   145838      67390         192   \n",
       "\n",
       "   Fatality Rate      Continent  \n",
       "0           1.11  North America  \n",
       "1           1.19           Asia  \n",
       "2           0.45         Europe  \n",
       "3           1.99  South America  \n",
       "4           0.46         Europe  "
      ]
     },
     "execution_count": 13,
     "metadata": {},
     "output_type": "execute_result"
    }
   ],
   "source": [
    "#hide\n",
    "for c in 'Cases, Deaths'.split(', '):\n",
    "    df_table[f'{c} (+)'] = (df_table[c] - df_table[f'P{c}']).clip(0)\n",
    "    #Clip ça veut dire, les chiffres negatif sont interdit\n",
    "df_table['Fatality Rate'] = (100* df_table['Deaths']/ df_table['Cases']).round(2)\n",
    "df_table['Continent'] = df_table['Country/Region'].map(mapping['map.continent'])\n",
    "df_table.head(5)"
   ]
  },
  {
   "cell_type": "code",
   "execution_count": 14,
   "id": "aboriginal-bulgaria",
   "metadata": {
    "execution": {
     "iopub.execute_input": "2022-08-18T00:47:58.410965Z",
     "iopub.status.busy": "2022-08-18T00:47:58.410178Z",
     "iopub.status.idle": "2022-08-18T00:47:58.413846Z",
     "shell.execute_reply": "2022-08-18T00:47:58.413260Z"
    },
    "papermill": {
     "duration": 0.049452,
     "end_time": "2022-08-18T00:47:58.413994",
     "exception": false,
     "start_time": "2022-08-18T00:47:58.364542",
     "status": "completed"
    },
    "tags": []
   },
   "outputs": [],
   "source": [
    "#hide\n",
    "#delete problematic countries from table\n",
    "df_table = df_table[~df_table['Country/Region'].isin(['Cape Verde', 'Cruise Ship', 'Kosovo'])]"
   ]
  },
  {
   "cell_type": "code",
   "execution_count": 15,
   "id": "fantastic-effect",
   "metadata": {
    "execution": {
     "iopub.execute_input": "2022-08-18T00:47:58.511967Z",
     "iopub.status.busy": "2022-08-18T00:47:58.511149Z",
     "iopub.status.idle": "2022-08-18T00:47:58.540361Z",
     "shell.execute_reply": "2022-08-18T00:47:58.539553Z"
    },
    "papermill": {
     "duration": 0.081244,
     "end_time": "2022-08-18T00:47:58.540536",
     "exception": false,
     "start_time": "2022-08-18T00:47:58.459292",
     "status": "completed"
    },
    "tags": []
   },
   "outputs": [
    {
     "data": {
      "text/html": [
       "<div>\n",
       "<style scoped>\n",
       "    .dataframe tbody tr th:only-of-type {\n",
       "        vertical-align: middle;\n",
       "    }\n",
       "\n",
       "    .dataframe tbody tr th {\n",
       "        vertical-align: top;\n",
       "    }\n",
       "\n",
       "    .dataframe thead th {\n",
       "        text-align: right;\n",
       "    }\n",
       "</style>\n",
       "<table border=\"1\" class=\"dataframe\">\n",
       "  <thead>\n",
       "    <tr style=\"text-align: right;\">\n",
       "      <th></th>\n",
       "      <th>Country/Region</th>\n",
       "      <th>Cases</th>\n",
       "      <th>Deaths</th>\n",
       "      <th>PCases</th>\n",
       "      <th>PDeaths</th>\n",
       "      <th>Cases (+)</th>\n",
       "      <th>Deaths (+)</th>\n",
       "      <th>Fatality Rate</th>\n",
       "      <th>Continent</th>\n",
       "    </tr>\n",
       "  </thead>\n",
       "  <tbody>\n",
       "    <tr>\n",
       "      <th>0</th>\n",
       "      <td>US</td>\n",
       "      <td>93140979</td>\n",
       "      <td>1037935</td>\n",
       "      <td>93026647</td>\n",
       "      <td>1037461</td>\n",
       "      <td>114332</td>\n",
       "      <td>474</td>\n",
       "      <td>1.1</td>\n",
       "      <td>North America</td>\n",
       "    </tr>\n",
       "    <tr>\n",
       "      <th>1</th>\n",
       "      <td>India</td>\n",
       "      <td>44286256</td>\n",
       "      <td>527134</td>\n",
       "      <td>44277711</td>\n",
       "      <td>527098</td>\n",
       "      <td>8545</td>\n",
       "      <td>36</td>\n",
       "      <td>1.2</td>\n",
       "      <td>Asia</td>\n",
       "    </tr>\n",
       "    <tr>\n",
       "      <th>2</th>\n",
       "      <td>France</td>\n",
       "      <td>34455445</td>\n",
       "      <td>154282</td>\n",
       "      <td>34406296</td>\n",
       "      <td>154104</td>\n",
       "      <td>49149</td>\n",
       "      <td>178</td>\n",
       "      <td>0.4</td>\n",
       "      <td>Europe</td>\n",
       "    </tr>\n",
       "    <tr>\n",
       "      <th>3</th>\n",
       "      <td>Brazil</td>\n",
       "      <td>34201280</td>\n",
       "      <td>681763</td>\n",
       "      <td>34178240</td>\n",
       "      <td>681557</td>\n",
       "      <td>23040</td>\n",
       "      <td>206</td>\n",
       "      <td>2.0</td>\n",
       "      <td>South America</td>\n",
       "    </tr>\n",
       "    <tr>\n",
       "      <th>4</th>\n",
       "      <td>Germany</td>\n",
       "      <td>31666475</td>\n",
       "      <td>146030</td>\n",
       "      <td>31599085</td>\n",
       "      <td>145838</td>\n",
       "      <td>67390</td>\n",
       "      <td>192</td>\n",
       "      <td>0.5</td>\n",
       "      <td>Europe</td>\n",
       "    </tr>\n",
       "  </tbody>\n",
       "</table>\n",
       "</div>"
      ],
      "text/plain": [
       "  Country/Region     Cases   Deaths    PCases  PDeaths  Cases (+)  Deaths (+)  \\\n",
       "0             US  93140979  1037935  93026647  1037461     114332         474   \n",
       "1          India  44286256   527134  44277711   527098       8545          36   \n",
       "2         France  34455445   154282  34406296   154104      49149         178   \n",
       "3         Brazil  34201280   681763  34178240   681557      23040         206   \n",
       "4        Germany  31666475   146030  31599085   145838      67390         192   \n",
       "\n",
       "   Fatality Rate      Continent  \n",
       "0            1.1  North America  \n",
       "1            1.2           Asia  \n",
       "2            0.4         Europe  \n",
       "3            2.0  South America  \n",
       "4            0.5         Europe  "
      ]
     },
     "execution_count": 15,
     "metadata": {},
     "output_type": "execute_result"
    }
   ],
   "source": [
    "#hide\n",
    "df_table = (pd.DataFrame(dict(Cases=dfc_cases, Deaths=dfc_deaths, PCases=dfp_cases, PDeaths=dfp_deaths))\n",
    "             .sort_values(by=['Cases', 'Deaths'], ascending=[False, False])\n",
    "             .reset_index())\n",
    "df_table.rename(columns={'index': 'Country/Region'}, inplace=True)\n",
    "for c in 'Cases, Deaths'.split(', '):\n",
    "    df_table[f'{c} (+)'] = (df_table[c] - df_table[f'P{c}']).clip(0)  # DATA BUG\n",
    "df_table['Fatality Rate'] = (100 * df_table['Deaths'] / df_table['Cases']).round(1)\n",
    "df_table['Continent'] = df_table['Country/Region'].map(mapping['map.continent'])\n",
    "df_table.head(5)"
   ]
  },
  {
   "cell_type": "code",
   "execution_count": 16,
   "id": "fewer-occasion",
   "metadata": {
    "execution": {
     "iopub.execute_input": "2022-08-18T00:47:58.637819Z",
     "iopub.status.busy": "2022-08-18T00:47:58.636901Z",
     "iopub.status.idle": "2022-08-18T00:47:58.640626Z",
     "shell.execute_reply": "2022-08-18T00:47:58.639958Z"
    },
    "papermill": {
     "duration": 0.056217,
     "end_time": "2022-08-18T00:47:58.640805",
     "exception": false,
     "start_time": "2022-08-18T00:47:58.584588",
     "status": "completed"
    },
    "tags": []
   },
   "outputs": [],
   "source": [
    "#hide\n",
    "#delete problematic countries from table\n",
    "df_table = df_table[~df_table['Country/Region'].isin(['Cape Verde', 'Cruise Ship', 'Kosovo'])]"
   ]
  },
  {
   "cell_type": "code",
   "execution_count": 17,
   "id": "related-center",
   "metadata": {
    "execution": {
     "iopub.execute_input": "2022-08-18T00:47:58.746291Z",
     "iopub.status.busy": "2022-08-18T00:47:58.745339Z",
     "iopub.status.idle": "2022-08-18T00:47:58.749173Z",
     "shell.execute_reply": "2022-08-18T00:47:58.748262Z"
    },
    "papermill": {
     "duration": 0.066678,
     "end_time": "2022-08-18T00:47:58.749308",
     "exception": false,
     "start_time": "2022-08-18T00:47:58.682630",
     "status": "completed"
    },
    "tags": []
   },
   "outputs": [],
   "source": [
    "#hide\n",
    "metrics = [df_table.columns[index] for index in [1,2,5,6]]\n",
    "# s_china = df_table[df_table['Country/Region'].eq('China')][metrics].sum().add_prefix('China ')\n",
    "s_us = df_table[df_table['Country/Region'].eq('US')][metrics].sum().add_prefix('US ')\n",
    "s_eu = df_table[df_table['Continent'].eq('Europe')][metrics].sum().add_prefix('EU ')\n",
    "s_ind = df_table[df_table['Country/Region'].eq('India')][metrics].sum().add_prefix('India ')\n",
    "summary = {'updated': pd.to_datetime(dt_today), 'since': pd.to_datetime(dt_yday)}\n",
    "summary = {'updated': pd.to_datetime(dt_today), 'since': pd.to_datetime(dt_yday)}\n",
    "summary = {**summary, **df_table[metrics].sum(), **s_ind, **s_us, **s_eu}"
   ]
  },
  {
   "cell_type": "code",
   "execution_count": 18,
   "id": "engaging-syndrome",
   "metadata": {
    "execution": {
     "iopub.execute_input": "2022-08-18T00:47:58.838112Z",
     "iopub.status.busy": "2022-08-18T00:47:58.837317Z",
     "iopub.status.idle": "2022-08-18T00:47:58.859704Z",
     "shell.execute_reply": "2022-08-18T00:47:58.858888Z"
    },
    "papermill": {
     "duration": 0.069187,
     "end_time": "2022-08-18T00:47:58.859835",
     "exception": false,
     "start_time": "2022-08-18T00:47:58.790648",
     "status": "completed"
    },
    "tags": []
   },
   "outputs": [],
   "source": [
    "#hide\n",
    "dft_ct_new_cases = dft_cases.groupby(COL_REGION)[dt_cols].sum().diff(axis=1).fillna(0).astype(int)"
   ]
  },
  {
   "cell_type": "code",
   "execution_count": 19,
   "id": "neutral-assignment",
   "metadata": {
    "execution": {
     "iopub.execute_input": "2022-08-18T00:47:58.962273Z",
     "iopub.status.busy": "2022-08-18T00:47:58.961396Z",
     "iopub.status.idle": "2022-08-18T00:47:58.964958Z",
     "shell.execute_reply": "2022-08-18T00:47:58.964234Z"
    },
    "papermill": {
     "duration": 0.054745,
     "end_time": "2022-08-18T00:47:58.965091",
     "exception": false,
     "start_time": "2022-08-18T00:47:58.910346",
     "status": "completed"
    },
    "tags": []
   },
   "outputs": [],
   "source": [
    "#hide\n",
    "everydaycases = dft_ct_new_cases.cumsum(axis=1)"
   ]
  },
  {
   "cell_type": "code",
   "execution_count": 20,
   "id": "parliamentary-calgary",
   "metadata": {
    "execution": {
     "iopub.execute_input": "2022-08-18T00:47:59.050588Z",
     "iopub.status.busy": "2022-08-18T00:47:59.049683Z",
     "iopub.status.idle": "2022-08-18T00:47:59.711839Z",
     "shell.execute_reply": "2022-08-18T00:47:59.711108Z"
    },
    "papermill": {
     "duration": 0.707059,
     "end_time": "2022-08-18T00:47:59.711982",
     "exception": false,
     "start_time": "2022-08-18T00:47:59.004923",
     "status": "completed"
    },
    "tags": []
   },
   "outputs": [],
   "source": [
    "#hide\n",
    "import pandas as pd\n",
    "import matplotlib.pyplot as plt\n",
    "import matplotlib.ticker as ticker\n",
    "import matplotlib.animation as animation\n",
    "from IPython.display import HTML"
   ]
  },
  {
   "cell_type": "code",
   "execution_count": 21,
   "id": "lasting-extraction",
   "metadata": {
    "execution": {
     "iopub.execute_input": "2022-08-18T00:47:59.807988Z",
     "iopub.status.busy": "2022-08-18T00:47:59.807250Z",
     "iopub.status.idle": "2022-08-18T00:47:59.817624Z",
     "shell.execute_reply": "2022-08-18T00:47:59.816963Z"
    },
    "papermill": {
     "duration": 0.061685,
     "end_time": "2022-08-18T00:47:59.817764",
     "exception": false,
     "start_time": "2022-08-18T00:47:59.756079",
     "status": "completed"
    },
    "tags": []
   },
   "outputs": [],
   "source": [
    "#hide\n",
    "t = everydaycases.stack()"
   ]
  },
  {
   "cell_type": "code",
   "execution_count": 22,
   "id": "premier-sleeve",
   "metadata": {
    "execution": {
     "iopub.execute_input": "2022-08-18T00:47:59.905215Z",
     "iopub.status.busy": "2022-08-18T00:47:59.904486Z",
     "iopub.status.idle": "2022-08-18T00:47:59.918898Z",
     "shell.execute_reply": "2022-08-18T00:47:59.918281Z"
    },
    "papermill": {
     "duration": 0.060444,
     "end_time": "2022-08-18T00:47:59.919032",
     "exception": false,
     "start_time": "2022-08-18T00:47:59.858588",
     "status": "completed"
    },
    "tags": []
   },
   "outputs": [],
   "source": [
    "#hide\n",
    "g = t.reset_index(['Country/Region'])"
   ]
  },
  {
   "cell_type": "code",
   "execution_count": 23,
   "id": "distributed-pittsburgh",
   "metadata": {
    "execution": {
     "iopub.execute_input": "2022-08-18T00:48:00.009007Z",
     "iopub.status.busy": "2022-08-18T00:48:00.008152Z",
     "iopub.status.idle": "2022-08-18T00:48:00.013022Z",
     "shell.execute_reply": "2022-08-18T00:48:00.013904Z"
    },
    "papermill": {
     "duration": 0.052712,
     "end_time": "2022-08-18T00:48:00.014068",
     "exception": false,
     "start_time": "2022-08-18T00:47:59.961356",
     "status": "completed"
    },
    "tags": []
   },
   "outputs": [],
   "source": [
    "#hide\n",
    "g.index.name = 'date'"
   ]
  },
  {
   "cell_type": "code",
   "execution_count": 24,
   "id": "naked-donor",
   "metadata": {
    "execution": {
     "iopub.execute_input": "2022-08-18T00:48:00.105377Z",
     "iopub.status.busy": "2022-08-18T00:48:00.104336Z",
     "iopub.status.idle": "2022-08-18T00:48:00.107656Z",
     "shell.execute_reply": "2022-08-18T00:48:00.107052Z"
    },
    "papermill": {
     "duration": 0.049204,
     "end_time": "2022-08-18T00:48:00.107784",
     "exception": false,
     "start_time": "2022-08-18T00:48:00.058580",
     "status": "completed"
    },
    "tags": []
   },
   "outputs": [],
   "source": [
    "# #hide\n",
    "# g = g.reset_index(['date'])"
   ]
  },
  {
   "cell_type": "code",
   "execution_count": 25,
   "id": "incomplete-mustang",
   "metadata": {
    "execution": {
     "iopub.execute_input": "2022-08-18T00:48:00.195822Z",
     "iopub.status.busy": "2022-08-18T00:48:00.195076Z",
     "iopub.status.idle": "2022-08-18T00:48:00.198056Z",
     "shell.execute_reply": "2022-08-18T00:48:00.198781Z"
    },
    "papermill": {
     "duration": 0.048736,
     "end_time": "2022-08-18T00:48:00.198927",
     "exception": false,
     "start_time": "2022-08-18T00:48:00.150191",
     "status": "completed"
    },
    "tags": []
   },
   "outputs": [],
   "source": [
    "#hide\n",
    "# g.head()"
   ]
  },
  {
   "cell_type": "code",
   "execution_count": 26,
   "id": "specific-kruger",
   "metadata": {
    "execution": {
     "iopub.execute_input": "2022-08-18T00:48:00.286017Z",
     "iopub.status.busy": "2022-08-18T00:48:00.285253Z",
     "iopub.status.idle": "2022-08-18T00:48:00.288037Z",
     "shell.execute_reply": "2022-08-18T00:48:00.288561Z"
    },
    "papermill": {
     "duration": 0.048655,
     "end_time": "2022-08-18T00:48:00.288704",
     "exception": false,
     "start_time": "2022-08-18T00:48:00.240049",
     "status": "completed"
    },
    "tags": []
   },
   "outputs": [],
   "source": [
    "#hide\n",
    "# g.columns = ['date','country','cases']"
   ]
  },
  {
   "cell_type": "code",
   "execution_count": 27,
   "id": "tender-conversion",
   "metadata": {
    "execution": {
     "iopub.execute_input": "2022-08-18T00:48:00.372935Z",
     "iopub.status.busy": "2022-08-18T00:48:00.372022Z",
     "iopub.status.idle": "2022-08-18T00:48:00.374723Z",
     "shell.execute_reply": "2022-08-18T00:48:00.375456Z"
    },
    "papermill": {
     "duration": 0.046582,
     "end_time": "2022-08-18T00:48:00.375603",
     "exception": false,
     "start_time": "2022-08-18T00:48:00.329021",
     "status": "completed"
    },
    "tags": []
   },
   "outputs": [],
   "source": [
    "#hide\n",
    "# g['continent'] = g.country"
   ]
  },
  {
   "cell_type": "code",
   "execution_count": 28,
   "id": "substantial-wilderness",
   "metadata": {
    "execution": {
     "iopub.execute_input": "2022-08-18T00:48:00.459909Z",
     "iopub.status.busy": "2022-08-18T00:48:00.459009Z",
     "iopub.status.idle": "2022-08-18T00:48:00.462076Z",
     "shell.execute_reply": "2022-08-18T00:48:00.462978Z"
    },
    "papermill": {
     "duration": 0.047456,
     "end_time": "2022-08-18T00:48:00.463161",
     "exception": false,
     "start_time": "2022-08-18T00:48:00.415705",
     "status": "completed"
    },
    "tags": []
   },
   "outputs": [],
   "source": [
    "#hide\n",
    "# cols = list(g.columns.values)"
   ]
  },
  {
   "cell_type": "code",
   "execution_count": 29,
   "id": "solved-farming",
   "metadata": {
    "execution": {
     "iopub.execute_input": "2022-08-18T00:48:00.547179Z",
     "iopub.status.busy": "2022-08-18T00:48:00.546326Z",
     "iopub.status.idle": "2022-08-18T00:48:00.550961Z",
     "shell.execute_reply": "2022-08-18T00:48:00.550026Z"
    },
    "papermill": {
     "duration": 0.048134,
     "end_time": "2022-08-18T00:48:00.551184",
     "exception": false,
     "start_time": "2022-08-18T00:48:00.503050",
     "status": "completed"
    },
    "tags": []
   },
   "outputs": [],
   "source": [
    "#hide\n",
    "# cols.insert(0, cols.pop())"
   ]
  },
  {
   "cell_type": "code",
   "execution_count": 30,
   "id": "executed-adoption",
   "metadata": {
    "execution": {
     "iopub.execute_input": "2022-08-18T00:48:00.644943Z",
     "iopub.status.busy": "2022-08-18T00:48:00.643934Z",
     "iopub.status.idle": "2022-08-18T00:48:00.647419Z",
     "shell.execute_reply": "2022-08-18T00:48:00.646831Z"
    },
    "papermill": {
     "duration": 0.054543,
     "end_time": "2022-08-18T00:48:00.647546",
     "exception": false,
     "start_time": "2022-08-18T00:48:00.593003",
     "status": "completed"
    },
    "tags": []
   },
   "outputs": [],
   "source": [
    "#hide\n",
    "# g = g[cols]"
   ]
  },
  {
   "cell_type": "code",
   "execution_count": 31,
   "id": "subject-dublin",
   "metadata": {
    "execution": {
     "iopub.execute_input": "2022-08-18T00:48:00.731211Z",
     "iopub.status.busy": "2022-08-18T00:48:00.730477Z",
     "iopub.status.idle": "2022-08-18T00:48:00.733723Z",
     "shell.execute_reply": "2022-08-18T00:48:00.732958Z"
    },
    "papermill": {
     "duration": 0.046744,
     "end_time": "2022-08-18T00:48:00.733917",
     "exception": false,
     "start_time": "2022-08-18T00:48:00.687173",
     "status": "completed"
    },
    "tags": []
   },
   "outputs": [],
   "source": [
    "#hide\n",
    "# g['continent'] = g['continent'].map(mapping['map.continent'])"
   ]
  },
  {
   "cell_type": "code",
   "execution_count": 32,
   "id": "freelance-scout",
   "metadata": {
    "execution": {
     "iopub.execute_input": "2022-08-18T00:48:00.817691Z",
     "iopub.status.busy": "2022-08-18T00:48:00.816952Z",
     "iopub.status.idle": "2022-08-18T00:48:00.819854Z",
     "shell.execute_reply": "2022-08-18T00:48:00.819179Z"
    },
    "papermill": {
     "duration": 0.046266,
     "end_time": "2022-08-18T00:48:00.819971",
     "exception": false,
     "start_time": "2022-08-18T00:48:00.773705",
     "status": "completed"
    },
    "tags": []
   },
   "outputs": [],
   "source": [
    "#hide\n",
    "# g.head()"
   ]
  },
  {
   "cell_type": "code",
   "execution_count": 33,
   "id": "limited-engine",
   "metadata": {
    "execution": {
     "iopub.execute_input": "2022-08-18T00:48:00.903822Z",
     "iopub.status.busy": "2022-08-18T00:48:00.902693Z",
     "iopub.status.idle": "2022-08-18T00:48:00.905960Z",
     "shell.execute_reply": "2022-08-18T00:48:00.906543Z"
    },
    "papermill": {
     "duration": 0.048004,
     "end_time": "2022-08-18T00:48:00.906693",
     "exception": false,
     "start_time": "2022-08-18T00:48:00.858689",
     "status": "completed"
    },
    "tags": []
   },
   "outputs": [],
   "source": [
    "# hide\n",
    "# g['date'] = g['date'].astype('datetime64[ns]')"
   ]
  },
  {
   "cell_type": "code",
   "execution_count": 34,
   "id": "sophisticated-supervisor",
   "metadata": {
    "execution": {
     "iopub.execute_input": "2022-08-18T00:48:00.992405Z",
     "iopub.status.busy": "2022-08-18T00:48:00.991594Z",
     "iopub.status.idle": "2022-08-18T00:48:00.995078Z",
     "shell.execute_reply": "2022-08-18T00:48:00.994428Z"
    },
    "papermill": {
     "duration": 0.047228,
     "end_time": "2022-08-18T00:48:00.995206",
     "exception": false,
     "start_time": "2022-08-18T00:48:00.947978",
     "status": "completed"
    },
    "tags": []
   },
   "outputs": [],
   "source": [
    "#hide\n",
    "# g['date'] = g.date.dt.dayofyear"
   ]
  },
  {
   "cell_type": "code",
   "execution_count": 35,
   "id": "inside-dubai",
   "metadata": {
    "execution": {
     "iopub.execute_input": "2022-08-18T00:48:01.082287Z",
     "iopub.status.busy": "2022-08-18T00:48:01.081569Z",
     "iopub.status.idle": "2022-08-18T00:48:01.084762Z",
     "shell.execute_reply": "2022-08-18T00:48:01.083875Z"
    },
    "papermill": {
     "duration": 0.049477,
     "end_time": "2022-08-18T00:48:01.084966",
     "exception": false,
     "start_time": "2022-08-18T00:48:01.035489",
     "status": "completed"
    },
    "tags": []
   },
   "outputs": [],
   "source": [
    "#hide\n",
    "# g = g.rename(columns= {'continent':'group','country':'name','cases':'value'})"
   ]
  },
  {
   "cell_type": "code",
   "execution_count": 36,
   "id": "fleet-motorcycle",
   "metadata": {
    "execution": {
     "iopub.execute_input": "2022-08-18T00:48:01.175131Z",
     "iopub.status.busy": "2022-08-18T00:48:01.174356Z",
     "iopub.status.idle": "2022-08-18T00:48:01.177558Z",
     "shell.execute_reply": "2022-08-18T00:48:01.176859Z"
    },
    "papermill": {
     "duration": 0.048335,
     "end_time": "2022-08-18T00:48:01.177688",
     "exception": false,
     "start_time": "2022-08-18T00:48:01.129353",
     "status": "completed"
    },
    "tags": []
   },
   "outputs": [],
   "source": [
    "#hide\n",
    "# cols = ['name','group','day','value']"
   ]
  },
  {
   "cell_type": "code",
   "execution_count": 37,
   "id": "continued-sleeping",
   "metadata": {
    "execution": {
     "iopub.execute_input": "2022-08-18T00:48:01.266545Z",
     "iopub.status.busy": "2022-08-18T00:48:01.265726Z",
     "iopub.status.idle": "2022-08-18T00:48:01.269195Z",
     "shell.execute_reply": "2022-08-18T00:48:01.268425Z"
    },
    "papermill": {
     "duration": 0.049698,
     "end_time": "2022-08-18T00:48:01.269322",
     "exception": false,
     "start_time": "2022-08-18T00:48:01.219624",
     "status": "completed"
    },
    "tags": []
   },
   "outputs": [],
   "source": [
    "#hide\n",
    "# g.rename(columns= {'date':'day'},inplace = True)"
   ]
  },
  {
   "cell_type": "code",
   "execution_count": 38,
   "id": "major-fight",
   "metadata": {
    "execution": {
     "iopub.execute_input": "2022-08-18T00:48:01.355676Z",
     "iopub.status.busy": "2022-08-18T00:48:01.354959Z",
     "iopub.status.idle": "2022-08-18T00:48:01.358310Z",
     "shell.execute_reply": "2022-08-18T00:48:01.357724Z"
    },
    "papermill": {
     "duration": 0.048023,
     "end_time": "2022-08-18T00:48:01.358462",
     "exception": false,
     "start_time": "2022-08-18T00:48:01.310439",
     "status": "completed"
    },
    "tags": []
   },
   "outputs": [],
   "source": [
    "#hide\n",
    "# g = g[cols]"
   ]
  },
  {
   "cell_type": "code",
   "execution_count": 39,
   "id": "structured-mobile",
   "metadata": {
    "execution": {
     "iopub.execute_input": "2022-08-18T00:48:01.451586Z",
     "iopub.status.busy": "2022-08-18T00:48:01.450775Z",
     "iopub.status.idle": "2022-08-18T00:48:01.453822Z",
     "shell.execute_reply": "2022-08-18T00:48:01.453230Z"
    },
    "papermill": {
     "duration": 0.054602,
     "end_time": "2022-08-18T00:48:01.454042",
     "exception": false,
     "start_time": "2022-08-18T00:48:01.399440",
     "status": "completed"
    },
    "tags": []
   },
   "outputs": [],
   "source": [
    "# #hide\n",
    "# g = g[g.group.notna()]"
   ]
  },
  {
   "cell_type": "code",
   "execution_count": 40,
   "id": "determined-closing",
   "metadata": {
    "execution": {
     "iopub.execute_input": "2022-08-18T00:48:01.539493Z",
     "iopub.status.busy": "2022-08-18T00:48:01.538735Z",
     "iopub.status.idle": "2022-08-18T00:48:01.542026Z",
     "shell.execute_reply": "2022-08-18T00:48:01.541383Z"
    },
    "papermill": {
     "duration": 0.047634,
     "end_time": "2022-08-18T00:48:01.542151",
     "exception": false,
     "start_time": "2022-08-18T00:48:01.494517",
     "status": "completed"
    },
    "tags": []
   },
   "outputs": [],
   "source": [
    "# #hide\n",
    "# colors = dict(zip(\n",
    "#     [\"Oceania\", \"Europe\", \"Asia\", \"South America\", \"Middle East\", \"North America\", \"Africa\"],\n",
    "#     [\"#adb0ff\", \"#ffb3ff\", \"#90d595\", \"#e48381\", \"#aafbff\", \"#f7bb5f\", \"#eafb50\"]\n",
    "# ))\n",
    "# group_lk = g.set_index('name')['group'].to_dict()"
   ]
  },
  {
   "cell_type": "code",
   "execution_count": null,
   "id": "gross-drinking",
   "metadata": {
    "papermill": {
     "duration": 0.041131,
     "end_time": "2022-08-18T00:48:01.624380",
     "exception": false,
     "start_time": "2022-08-18T00:48:01.583249",
     "status": "completed"
    },
    "tags": []
   },
   "outputs": [],
   "source": []
  },
  {
   "cell_type": "code",
   "execution_count": 41,
   "id": "subject-macintosh",
   "metadata": {
    "execution": {
     "iopub.execute_input": "2022-08-18T00:48:01.710673Z",
     "iopub.status.busy": "2022-08-18T00:48:01.709882Z",
     "iopub.status.idle": "2022-08-18T00:48:01.713521Z",
     "shell.execute_reply": "2022-08-18T00:48:01.712888Z"
    },
    "papermill": {
     "duration": 0.049927,
     "end_time": "2022-08-18T00:48:01.713673",
     "exception": false,
     "start_time": "2022-08-18T00:48:01.663746",
     "status": "completed"
    },
    "tags": []
   },
   "outputs": [],
   "source": [
    "# #hide\n",
    "# fig, ax = plt.subplots(figsize=(15, 8))\n",
    "\n",
    "# def draw_barchart(current_day):\n",
    "#     dff = g[g['day'].eq(current_day)].sort_values(by='value', ascending=True).tail(10)\n",
    "#     ax.clear()\n",
    "#     ax.barh(dff['name'], dff['value'], color=[colors[group_lk[x]] for x in dff['name']])\n",
    "#     dx = dff['value'].max() / 200\n",
    "    \n",
    "#     for i, (value, name) in enumerate(zip(dff['value'], dff['name'])):\n",
    "#         ax.text(value-dx, i,     name,           size=14, weight=600, ha='right', va='bottom')\n",
    "#         ax.text(value-dx, i-.25, group_lk[name], size=10, color='#444444', ha='right', va='baseline')\n",
    "#         ax.text(value+dx, i,     f'{value:,.0f}',  size=14, ha='left',  va='center')\n",
    "#     ax.text(1, 0.4, current_day, transform=ax.transAxes, color='#777777', size=46, ha='right', weight=800)\n",
    "#     ax.text(0, 1.06, 'Population (thousands)', transform=ax.transAxes, size=12, color='#777777')\n",
    "#     ax.xaxis.set_major_formatter(ticker.StrMethodFormatter('{x:,.0f}'))\n",
    "#     ax.xaxis.set_ticks_position('top')\n",
    "#     ax.tick_params(axis='x', colors='#777777', labelsize=12)\n",
    "#     ax.set_yticks([])\n",
    "#     ax.margins(0, 0.01)\n",
    "#     ax.grid(which='major', axis='x', linestyle='-')\n",
    "#     ax.set_axisbelow(True)\n",
    "    \n",
    "#     ax.text(0, 1.15, 'Coronavirus',\n",
    "#             transform=ax.transAxes, size=24, weight=600, ha='left', va='top')\n",
    "# #     ax.text(1, 0, 'by @pratapvardhan; credit @jburnmurdoch', transform=ax.transAxes, color='#777777', ha='right',\n",
    "# #             bbox=dict(facecolor='white', alpha=0.8, edgecolor='white'))\n",
    "#     plt.box(False)"
   ]
  },
  {
   "cell_type": "code",
   "execution_count": 42,
   "id": "sexual-wages",
   "metadata": {
    "execution": {
     "iopub.execute_input": "2022-08-18T00:48:01.800538Z",
     "iopub.status.busy": "2022-08-18T00:48:01.799709Z",
     "iopub.status.idle": "2022-08-18T00:48:01.803021Z",
     "shell.execute_reply": "2022-08-18T00:48:01.802080Z"
    },
    "papermill": {
     "duration": 0.048332,
     "end_time": "2022-08-18T00:48:01.803198",
     "exception": false,
     "start_time": "2022-08-18T00:48:01.754866",
     "status": "completed"
    },
    "tags": []
   },
   "outputs": [],
   "source": [
    "# #hide_input\n",
    "# fig, ax = plt.subplots(figsize=(15, 8))\n",
    "# animator = animation.FuncAnimation(fig, draw_barchart, frames=range(g.day.values.min(), g.day.values.max()))\n",
    "# HTML(animator.to_jshtml())\n",
    "# # or use animator.to_html5_video() or animator.save() "
   ]
  },
  {
   "cell_type": "code",
   "execution_count": null,
   "id": "australian-container",
   "metadata": {
    "papermill": {
     "duration": 0.039725,
     "end_time": "2022-08-18T00:48:01.884106",
     "exception": false,
     "start_time": "2022-08-18T00:48:01.844381",
     "status": "completed"
    },
    "tags": []
   },
   "outputs": [],
   "source": []
  },
  {
   "cell_type": "code",
   "execution_count": null,
   "id": "mediterranean-pontiac",
   "metadata": {
    "papermill": {
     "duration": 0.041533,
     "end_time": "2022-08-18T00:48:01.966828",
     "exception": false,
     "start_time": "2022-08-18T00:48:01.925295",
     "status": "completed"
    },
    "tags": []
   },
   "outputs": [],
   "source": []
  },
  {
   "cell_type": "code",
   "execution_count": null,
   "id": "aging-legislature",
   "metadata": {
    "papermill": {
     "duration": 0.041373,
     "end_time": "2022-08-18T00:48:02.048716",
     "exception": false,
     "start_time": "2022-08-18T00:48:02.007343",
     "status": "completed"
    },
    "tags": []
   },
   "outputs": [],
   "source": []
  }
 ],
 "metadata": {
  "kernelspec": {
   "display_name": "Python 3",
   "language": "python",
   "name": "python3"
  },
  "language_info": {
   "codemirror_mode": {
    "name": "ipython",
    "version": 3
   },
   "file_extension": ".py",
   "mimetype": "text/x-python",
   "name": "python",
   "nbconvert_exporter": "python",
   "pygments_lexer": "ipython3",
   "version": "3.6.15"
  },
  "papermill": {
   "duration": 7.854176,
   "end_time": "2022-08-18T00:48:02.510623",
   "environment_variables": {},
   "exception": null,
   "input_path": "2020-03-21-covid19exp.ipynb",
   "output_path": "2020-03-21-covid19exp.ipynb",
   "parameters": {},
   "start_time": "2022-08-18T00:47:54.656447",
   "version": "2.0.0"
  }
 },
 "nbformat": 4,
 "nbformat_minor": 5
}