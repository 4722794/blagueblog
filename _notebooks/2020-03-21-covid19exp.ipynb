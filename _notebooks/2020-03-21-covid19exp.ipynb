{
 "cells": [
  {
   "cell_type": "markdown",
   "id": "muslim-click",
   "metadata": {
    "papermill": {
     "duration": 0.044599,
     "end_time": "2021-12-30T00:26:35.959101",
     "exception": false,
     "start_time": "2021-12-30T00:26:35.914502",
     "status": "completed"
    },
    "tags": []
   },
   "source": [
    "# COVID-19 Case Race\n",
    "> A race chart to see rising cases around the world\n",
    "\n",
    "- author: Hargun Oberoi\n",
    "- image: images/covid-overview.png\n",
    "- hide: false\n",
    "- badges: false"
   ]
  },
  {
   "cell_type": "code",
   "execution_count": 1,
   "id": "proof-material",
   "metadata": {
    "execution": {
     "iopub.execute_input": "2021-12-30T00:26:36.043268Z",
     "iopub.status.busy": "2021-12-30T00:26:36.042505Z",
     "iopub.status.idle": "2021-12-30T00:26:36.404727Z",
     "shell.execute_reply": "2021-12-30T00:26:36.404178Z"
    },
    "papermill": {
     "duration": 0.408716,
     "end_time": "2021-12-30T00:26:36.404891",
     "exception": false,
     "start_time": "2021-12-30T00:26:35.996175",
     "status": "completed"
    },
    "tags": []
   },
   "outputs": [],
   "source": [
    "#hide\n",
    "import numpy as np\n",
    "import pandas as pd\n",
    "from jinja2 import Template\n",
    "from IPython.display import HTML"
   ]
  },
  {
   "cell_type": "code",
   "execution_count": 2,
   "id": "developed-terminology",
   "metadata": {
    "execution": {
     "iopub.execute_input": "2021-12-30T00:26:36.477901Z",
     "iopub.status.busy": "2021-12-30T00:26:36.477181Z",
     "iopub.status.idle": "2021-12-30T00:26:36.478727Z",
     "shell.execute_reply": "2021-12-30T00:26:36.479226Z"
    },
    "papermill": {
     "duration": 0.040308,
     "end_time": "2021-12-30T00:26:36.479356",
     "exception": false,
     "start_time": "2021-12-30T00:26:36.439048",
     "status": "completed"
    },
    "tags": []
   },
   "outputs": [],
   "source": [
    "#hide\n",
    "\n",
    "# FETCH\n",
    "base_url = 'https://raw.githubusercontent.com/pratapvardhan/notebooks/master/covid19/'\n",
    "paths = {\n",
    "    'mapping': base_url + 'mapping_countries.csv',\n",
    "    'overview': base_url + 'overview.tpl'\n",
    "}"
   ]
  },
  {
   "cell_type": "code",
   "execution_count": 3,
   "id": "dynamic-saver",
   "metadata": {
    "execution": {
     "iopub.execute_input": "2021-12-30T00:26:36.561051Z",
     "iopub.status.busy": "2021-12-30T00:26:36.560442Z",
     "iopub.status.idle": "2021-12-30T00:26:36.564021Z",
     "shell.execute_reply": "2021-12-30T00:26:36.563555Z"
    },
    "papermill": {
     "duration": 0.049481,
     "end_time": "2021-12-30T00:26:36.564135",
     "exception": false,
     "start_time": "2021-12-30T00:26:36.514654",
     "status": "completed"
    },
    "tags": []
   },
   "outputs": [
    {
     "data": {
      "text/plain": [
       "'https://raw.githubusercontent.com/pratapvardhan/notebooks/master/covid19/mapping_countries.csv'"
      ]
     },
     "execution_count": 3,
     "metadata": {},
     "output_type": "execute_result"
    }
   ],
   "source": [
    "#hide\n",
    "paths['mapping']"
   ]
  },
  {
   "cell_type": "code",
   "execution_count": 4,
   "id": "urban-software",
   "metadata": {
    "execution": {
     "iopub.execute_input": "2021-12-30T00:26:36.639410Z",
     "iopub.status.busy": "2021-12-30T00:26:36.638814Z",
     "iopub.status.idle": "2021-12-30T00:26:36.641285Z",
     "shell.execute_reply": "2021-12-30T00:26:36.640807Z"
    },
    "papermill": {
     "duration": 0.042977,
     "end_time": "2021-12-30T00:26:36.641402",
     "exception": false,
     "start_time": "2021-12-30T00:26:36.598425",
     "status": "completed"
    },
    "tags": []
   },
   "outputs": [],
   "source": [
    "#hide\n",
    "def get_mappings(url):\n",
    "    df = pd.read_csv(url)\n",
    "    return {\n",
    "        'df': df,\n",
    "        'replace.country': dict(df.dropna(subset=['Name']).set_index('Country')['Name']),\n",
    "        'map.continent': dict(df.set_index('Name')['Continent'])\n",
    "    }"
   ]
  },
  {
   "cell_type": "code",
   "execution_count": 5,
   "id": "intimate-machinery",
   "metadata": {
    "execution": {
     "iopub.execute_input": "2021-12-30T00:26:36.717578Z",
     "iopub.status.busy": "2021-12-30T00:26:36.716989Z",
     "iopub.status.idle": "2021-12-30T00:26:36.757472Z",
     "shell.execute_reply": "2021-12-30T00:26:36.756958Z"
    },
    "papermill": {
     "duration": 0.079652,
     "end_time": "2021-12-30T00:26:36.757594",
     "exception": false,
     "start_time": "2021-12-30T00:26:36.677942",
     "status": "completed"
    },
    "tags": []
   },
   "outputs": [],
   "source": [
    "#hide\n",
    "mapping = get_mappings(paths['mapping'])"
   ]
  },
  {
   "cell_type": "code",
   "execution_count": 6,
   "id": "certified-tactics",
   "metadata": {
    "execution": {
     "iopub.execute_input": "2021-12-30T00:26:36.829714Z",
     "iopub.status.busy": "2021-12-30T00:26:36.828976Z",
     "iopub.status.idle": "2021-12-30T00:26:36.831155Z",
     "shell.execute_reply": "2021-12-30T00:26:36.831719Z"
    },
    "papermill": {
     "duration": 0.040432,
     "end_time": "2021-12-30T00:26:36.831850",
     "exception": false,
     "start_time": "2021-12-30T00:26:36.791418",
     "status": "completed"
    },
    "tags": []
   },
   "outputs": [],
   "source": [
    "#hide\n",
    "def get_template(path):\n",
    "    from urllib.parse import urlparse\n",
    "    if bool(urlparse(path).netloc):\n",
    "        from urllib.request import urlopen\n",
    "        return urlopen(path).read().decode('utf8')\n",
    "    return open(path).read()"
   ]
  },
  {
   "cell_type": "code",
   "execution_count": 7,
   "id": "realistic-blast",
   "metadata": {
    "execution": {
     "iopub.execute_input": "2021-12-30T00:26:36.904237Z",
     "iopub.status.busy": "2021-12-30T00:26:36.903623Z",
     "iopub.status.idle": "2021-12-30T00:26:36.906254Z",
     "shell.execute_reply": "2021-12-30T00:26:36.905693Z"
    },
    "papermill": {
     "duration": 0.040322,
     "end_time": "2021-12-30T00:26:36.906368",
     "exception": false,
     "start_time": "2021-12-30T00:26:36.866046",
     "status": "completed"
    },
    "tags": []
   },
   "outputs": [],
   "source": [
    "#hide\n",
    "def get_frame(name):\n",
    "    url = (\n",
    "        'https://raw.githubusercontent.com/CSSEGISandData/COVID-19/master/csse_covid_19_data/'\n",
    "        f'csse_covid_19_time_series/time_series_covid19_{name}_global.csv')\n",
    "    df = pd.read_csv(url)\n",
    "    # rename countries\n",
    "    df['Country/Region'] = df['Country/Region'].replace(mapping['replace.country'])\n",
    "    return df"
   ]
  },
  {
   "cell_type": "code",
   "execution_count": 8,
   "id": "affiliated-characterization",
   "metadata": {
    "execution": {
     "iopub.execute_input": "2021-12-30T00:26:36.979729Z",
     "iopub.status.busy": "2021-12-30T00:26:36.979136Z",
     "iopub.status.idle": "2021-12-30T00:26:36.982673Z",
     "shell.execute_reply": "2021-12-30T00:26:36.983125Z"
    },
    "papermill": {
     "duration": 0.043589,
     "end_time": "2021-12-30T00:26:36.983253",
     "exception": false,
     "start_time": "2021-12-30T00:26:36.939664",
     "status": "completed"
    },
    "tags": []
   },
   "outputs": [],
   "source": [
    "#hide\n",
    "def get_dates(df):\n",
    "    dt_cols = df.columns[~df.columns.isin(['Province/State', 'Country/Region', 'Lat', 'Long'])]\n",
    "    LAST_DATE_I = -1\n",
    "    # sometimes last column may be empty, then go backwards\n",
    "    for i in range(-1, -len(dt_cols), -1):\n",
    "        if not df[dt_cols[i]].fillna(0).eq(0).all():\n",
    "            LAST_DATE_I = i\n",
    "            break\n",
    "    return LAST_DATE_I, dt_cols"
   ]
  },
  {
   "cell_type": "code",
   "execution_count": 9,
   "id": "recent-optimization",
   "metadata": {
    "execution": {
     "iopub.execute_input": "2021-12-30T00:26:37.054177Z",
     "iopub.status.busy": "2021-12-30T00:26:37.053483Z",
     "iopub.status.idle": "2021-12-30T00:26:37.495348Z",
     "shell.execute_reply": "2021-12-30T00:26:37.494687Z"
    },
    "papermill": {
     "duration": 0.478838,
     "end_time": "2021-12-30T00:26:37.495520",
     "exception": false,
     "start_time": "2021-12-30T00:26:37.016682",
     "status": "completed"
    },
    "tags": []
   },
   "outputs": [],
   "source": [
    "#hide\n",
    "COL_REGION = 'Country/Region'\n",
    "# Confirmed, Recovered, Deaths\n",
    "df = get_frame('confirmed')\n",
    "# dft_: timeseries, dfc_: today country agg\n",
    "dft_cases = df\n",
    "dft_deaths = get_frame('deaths')\n",
    "dft_recovered = get_frame('recovered')\n",
    "LAST_DATE_I, dt_cols = get_dates(df)"
   ]
  },
  {
   "cell_type": "code",
   "execution_count": 10,
   "id": "absolute-copper",
   "metadata": {
    "execution": {
     "iopub.execute_input": "2021-12-30T00:26:37.568624Z",
     "iopub.status.busy": "2021-12-30T00:26:37.568031Z",
     "iopub.status.idle": "2021-12-30T00:26:37.570335Z",
     "shell.execute_reply": "2021-12-30T00:26:37.570789Z"
    },
    "papermill": {
     "duration": 0.04068,
     "end_time": "2021-12-30T00:26:37.570922",
     "exception": false,
     "start_time": "2021-12-30T00:26:37.530242",
     "status": "completed"
    },
    "tags": []
   },
   "outputs": [],
   "source": [
    "#hide\n",
    "LAST_DATE_I, dt_cols = get_dates(df)\n",
    "dt_today =dt_cols[LAST_DATE_I]\n",
    "# dt_5day = dt_cols[LAST_DATE_I - 5]\n",
    "dt_yday = dt_cols[LAST_DATE_I - 1]"
   ]
  },
  {
   "cell_type": "code",
   "execution_count": 11,
   "id": "restricted-sheriff",
   "metadata": {
    "execution": {
     "iopub.execute_input": "2021-12-30T00:26:37.645911Z",
     "iopub.status.busy": "2021-12-30T00:26:37.645263Z",
     "iopub.status.idle": "2021-12-30T00:26:37.651737Z",
     "shell.execute_reply": "2021-12-30T00:26:37.652299Z"
    },
    "papermill": {
     "duration": 0.047885,
     "end_time": "2021-12-30T00:26:37.652422",
     "exception": false,
     "start_time": "2021-12-30T00:26:37.604537",
     "status": "completed"
    },
    "tags": []
   },
   "outputs": [],
   "source": [
    "#hide\n",
    "dfc_cases = dft_cases.groupby(COL_REGION)[dt_today].sum()\n",
    "dfc_deaths = dft_deaths.groupby(COL_REGION)[dt_today].sum()\n",
    "# dfp_cases = dft_cases.groupby(COL_REGION)[dt_5day].sum()\n",
    "# dfp_deaths = dft_deaths.groupby(COL_REGION)[dt_5day].sum()\n",
    "dfp_cases = dft_cases.groupby(COL_REGION)[dt_yday].sum()\n",
    "dfp_deaths = dft_deaths.groupby(COL_REGION)[dt_yday].sum()"
   ]
  },
  {
   "cell_type": "code",
   "execution_count": 12,
   "id": "deluxe-hepatitis",
   "metadata": {
    "execution": {
     "iopub.execute_input": "2021-12-30T00:26:37.724517Z",
     "iopub.status.busy": "2021-12-30T00:26:37.723916Z",
     "iopub.status.idle": "2021-12-30T00:26:37.728475Z",
     "shell.execute_reply": "2021-12-30T00:26:37.728944Z"
    },
    "papermill": {
     "duration": 0.043216,
     "end_time": "2021-12-30T00:26:37.729067",
     "exception": false,
     "start_time": "2021-12-30T00:26:37.685851",
     "status": "completed"
    },
    "tags": []
   },
   "outputs": [],
   "source": [
    "#hide\n",
    "df_table = (pd.DataFrame(dict(Cases = dfc_cases, Deaths = dfc_deaths, PCases = dfp_cases, PDeaths = dfp_deaths))\n",
    "            .sort_values(by = ['Cases','Deaths'], ascending = [False, False])\n",
    "            .reset_index())"
   ]
  },
  {
   "cell_type": "code",
   "execution_count": 13,
   "id": "educational-chancellor",
   "metadata": {
    "execution": {
     "iopub.execute_input": "2021-12-30T00:26:37.821019Z",
     "iopub.status.busy": "2021-12-30T00:26:37.815992Z",
     "iopub.status.idle": "2021-12-30T00:26:37.824340Z",
     "shell.execute_reply": "2021-12-30T00:26:37.823874Z"
    },
    "papermill": {
     "duration": 0.06016,
     "end_time": "2021-12-30T00:26:37.824454",
     "exception": false,
     "start_time": "2021-12-30T00:26:37.764294",
     "status": "completed"
    },
    "tags": []
   },
   "outputs": [
    {
     "data": {
      "text/html": [
       "<div>\n",
       "<style scoped>\n",
       "    .dataframe tbody tr th:only-of-type {\n",
       "        vertical-align: middle;\n",
       "    }\n",
       "\n",
       "    .dataframe tbody tr th {\n",
       "        vertical-align: top;\n",
       "    }\n",
       "\n",
       "    .dataframe thead th {\n",
       "        text-align: right;\n",
       "    }\n",
       "</style>\n",
       "<table border=\"1\" class=\"dataframe\">\n",
       "  <thead>\n",
       "    <tr style=\"text-align: right;\">\n",
       "      <th></th>\n",
       "      <th>Country/Region</th>\n",
       "      <th>Cases</th>\n",
       "      <th>Deaths</th>\n",
       "      <th>PCases</th>\n",
       "      <th>PDeaths</th>\n",
       "      <th>Cases (+)</th>\n",
       "      <th>Deaths (+)</th>\n",
       "      <th>Fatality Rate</th>\n",
       "      <th>Continent</th>\n",
       "    </tr>\n",
       "  </thead>\n",
       "  <tbody>\n",
       "    <tr>\n",
       "      <th>0</th>\n",
       "      <td>US</td>\n",
       "      <td>53170421</td>\n",
       "      <td>820708</td>\n",
       "      <td>52793407</td>\n",
       "      <td>818371</td>\n",
       "      <td>377014</td>\n",
       "      <td>2337</td>\n",
       "      <td>1.54</td>\n",
       "      <td>North America</td>\n",
       "    </tr>\n",
       "    <tr>\n",
       "      <th>1</th>\n",
       "      <td>India</td>\n",
       "      <td>34808886</td>\n",
       "      <td>480592</td>\n",
       "      <td>34799691</td>\n",
       "      <td>480290</td>\n",
       "      <td>9195</td>\n",
       "      <td>302</td>\n",
       "      <td>1.38</td>\n",
       "      <td>Asia</td>\n",
       "    </tr>\n",
       "    <tr>\n",
       "      <th>2</th>\n",
       "      <td>Brazil</td>\n",
       "      <td>22259270</td>\n",
       "      <td>618978</td>\n",
       "      <td>22250218</td>\n",
       "      <td>618797</td>\n",
       "      <td>9052</td>\n",
       "      <td>181</td>\n",
       "      <td>2.78</td>\n",
       "      <td>South America</td>\n",
       "    </tr>\n",
       "    <tr>\n",
       "      <th>3</th>\n",
       "      <td>United Kingdom</td>\n",
       "      <td>12406697</td>\n",
       "      <td>148488</td>\n",
       "      <td>12277814</td>\n",
       "      <td>148470</td>\n",
       "      <td>128883</td>\n",
       "      <td>18</td>\n",
       "      <td>1.20</td>\n",
       "      <td>Europe</td>\n",
       "    </tr>\n",
       "    <tr>\n",
       "      <th>4</th>\n",
       "      <td>Russia</td>\n",
       "      <td>10258052</td>\n",
       "      <td>299983</td>\n",
       "      <td>10236301</td>\n",
       "      <td>299077</td>\n",
       "      <td>21751</td>\n",
       "      <td>906</td>\n",
       "      <td>2.92</td>\n",
       "      <td>Europe</td>\n",
       "    </tr>\n",
       "  </tbody>\n",
       "</table>\n",
       "</div>"
      ],
      "text/plain": [
       "   Country/Region     Cases  Deaths    PCases  PDeaths  Cases (+)  Deaths (+)  \\\n",
       "0              US  53170421  820708  52793407   818371     377014        2337   \n",
       "1           India  34808886  480592  34799691   480290       9195         302   \n",
       "2          Brazil  22259270  618978  22250218   618797       9052         181   \n",
       "3  United Kingdom  12406697  148488  12277814   148470     128883          18   \n",
       "4          Russia  10258052  299983  10236301   299077      21751         906   \n",
       "\n",
       "   Fatality Rate      Continent  \n",
       "0           1.54  North America  \n",
       "1           1.38           Asia  \n",
       "2           2.78  South America  \n",
       "3           1.20         Europe  \n",
       "4           2.92         Europe  "
      ]
     },
     "execution_count": 13,
     "metadata": {},
     "output_type": "execute_result"
    }
   ],
   "source": [
    "#hide\n",
    "for c in 'Cases, Deaths'.split(', '):\n",
    "    df_table[f'{c} (+)'] = (df_table[c] - df_table[f'P{c}']).clip(0)\n",
    "    #Clip ça veut dire, les chiffres negatif sont interdit\n",
    "df_table['Fatality Rate'] = (100* df_table['Deaths']/ df_table['Cases']).round(2)\n",
    "df_table['Continent'] = df_table['Country/Region'].map(mapping['map.continent'])\n",
    "df_table.head(5)"
   ]
  },
  {
   "cell_type": "code",
   "execution_count": 14,
   "id": "aboriginal-bulgaria",
   "metadata": {
    "execution": {
     "iopub.execute_input": "2021-12-30T00:26:37.896187Z",
     "iopub.status.busy": "2021-12-30T00:26:37.895612Z",
     "iopub.status.idle": "2021-12-30T00:26:37.901480Z",
     "shell.execute_reply": "2021-12-30T00:26:37.901008Z"
    },
    "papermill": {
     "duration": 0.043403,
     "end_time": "2021-12-30T00:26:37.901596",
     "exception": false,
     "start_time": "2021-12-30T00:26:37.858193",
     "status": "completed"
    },
    "tags": []
   },
   "outputs": [],
   "source": [
    "#hide\n",
    "#delete problematic countries from table\n",
    "df_table = df_table[~df_table['Country/Region'].isin(['Cape Verde', 'Cruise Ship', 'Kosovo'])]"
   ]
  },
  {
   "cell_type": "code",
   "execution_count": 15,
   "id": "fantastic-effect",
   "metadata": {
    "execution": {
     "iopub.execute_input": "2021-12-30T00:26:37.978113Z",
     "iopub.status.busy": "2021-12-30T00:26:37.977456Z",
     "iopub.status.idle": "2021-12-30T00:26:37.996615Z",
     "shell.execute_reply": "2021-12-30T00:26:37.997063Z"
    },
    "papermill": {
     "duration": 0.062239,
     "end_time": "2021-12-30T00:26:37.997191",
     "exception": false,
     "start_time": "2021-12-30T00:26:37.934952",
     "status": "completed"
    },
    "tags": []
   },
   "outputs": [
    {
     "data": {
      "text/html": [
       "<div>\n",
       "<style scoped>\n",
       "    .dataframe tbody tr th:only-of-type {\n",
       "        vertical-align: middle;\n",
       "    }\n",
       "\n",
       "    .dataframe tbody tr th {\n",
       "        vertical-align: top;\n",
       "    }\n",
       "\n",
       "    .dataframe thead th {\n",
       "        text-align: right;\n",
       "    }\n",
       "</style>\n",
       "<table border=\"1\" class=\"dataframe\">\n",
       "  <thead>\n",
       "    <tr style=\"text-align: right;\">\n",
       "      <th></th>\n",
       "      <th>Country/Region</th>\n",
       "      <th>Cases</th>\n",
       "      <th>Deaths</th>\n",
       "      <th>PCases</th>\n",
       "      <th>PDeaths</th>\n",
       "      <th>Cases (+)</th>\n",
       "      <th>Deaths (+)</th>\n",
       "      <th>Fatality Rate</th>\n",
       "      <th>Continent</th>\n",
       "    </tr>\n",
       "  </thead>\n",
       "  <tbody>\n",
       "    <tr>\n",
       "      <th>0</th>\n",
       "      <td>US</td>\n",
       "      <td>53170421</td>\n",
       "      <td>820708</td>\n",
       "      <td>52793407</td>\n",
       "      <td>818371</td>\n",
       "      <td>377014</td>\n",
       "      <td>2337</td>\n",
       "      <td>1.5</td>\n",
       "      <td>North America</td>\n",
       "    </tr>\n",
       "    <tr>\n",
       "      <th>1</th>\n",
       "      <td>India</td>\n",
       "      <td>34808886</td>\n",
       "      <td>480592</td>\n",
       "      <td>34799691</td>\n",
       "      <td>480290</td>\n",
       "      <td>9195</td>\n",
       "      <td>302</td>\n",
       "      <td>1.4</td>\n",
       "      <td>Asia</td>\n",
       "    </tr>\n",
       "    <tr>\n",
       "      <th>2</th>\n",
       "      <td>Brazil</td>\n",
       "      <td>22259270</td>\n",
       "      <td>618978</td>\n",
       "      <td>22250218</td>\n",
       "      <td>618797</td>\n",
       "      <td>9052</td>\n",
       "      <td>181</td>\n",
       "      <td>2.8</td>\n",
       "      <td>South America</td>\n",
       "    </tr>\n",
       "    <tr>\n",
       "      <th>3</th>\n",
       "      <td>United Kingdom</td>\n",
       "      <td>12406697</td>\n",
       "      <td>148488</td>\n",
       "      <td>12277814</td>\n",
       "      <td>148470</td>\n",
       "      <td>128883</td>\n",
       "      <td>18</td>\n",
       "      <td>1.2</td>\n",
       "      <td>Europe</td>\n",
       "    </tr>\n",
       "    <tr>\n",
       "      <th>4</th>\n",
       "      <td>Russia</td>\n",
       "      <td>10258052</td>\n",
       "      <td>299983</td>\n",
       "      <td>10236301</td>\n",
       "      <td>299077</td>\n",
       "      <td>21751</td>\n",
       "      <td>906</td>\n",
       "      <td>2.9</td>\n",
       "      <td>Europe</td>\n",
       "    </tr>\n",
       "  </tbody>\n",
       "</table>\n",
       "</div>"
      ],
      "text/plain": [
       "   Country/Region     Cases  Deaths    PCases  PDeaths  Cases (+)  Deaths (+)  \\\n",
       "0              US  53170421  820708  52793407   818371     377014        2337   \n",
       "1           India  34808886  480592  34799691   480290       9195         302   \n",
       "2          Brazil  22259270  618978  22250218   618797       9052         181   \n",
       "3  United Kingdom  12406697  148488  12277814   148470     128883          18   \n",
       "4          Russia  10258052  299983  10236301   299077      21751         906   \n",
       "\n",
       "   Fatality Rate      Continent  \n",
       "0            1.5  North America  \n",
       "1            1.4           Asia  \n",
       "2            2.8  South America  \n",
       "3            1.2         Europe  \n",
       "4            2.9         Europe  "
      ]
     },
     "execution_count": 15,
     "metadata": {},
     "output_type": "execute_result"
    }
   ],
   "source": [
    "#hide\n",
    "df_table = (pd.DataFrame(dict(Cases=dfc_cases, Deaths=dfc_deaths, PCases=dfp_cases, PDeaths=dfp_deaths))\n",
    "             .sort_values(by=['Cases', 'Deaths'], ascending=[False, False])\n",
    "             .reset_index())\n",
    "df_table.rename(columns={'index': 'Country/Region'}, inplace=True)\n",
    "for c in 'Cases, Deaths'.split(', '):\n",
    "    df_table[f'{c} (+)'] = (df_table[c] - df_table[f'P{c}']).clip(0)  # DATA BUG\n",
    "df_table['Fatality Rate'] = (100 * df_table['Deaths'] / df_table['Cases']).round(1)\n",
    "df_table['Continent'] = df_table['Country/Region'].map(mapping['map.continent'])\n",
    "df_table.head(5)"
   ]
  },
  {
   "cell_type": "code",
   "execution_count": 16,
   "id": "fewer-occasion",
   "metadata": {
    "execution": {
     "iopub.execute_input": "2021-12-30T00:26:38.072555Z",
     "iopub.status.busy": "2021-12-30T00:26:38.071873Z",
     "iopub.status.idle": "2021-12-30T00:26:38.074859Z",
     "shell.execute_reply": "2021-12-30T00:26:38.075365Z"
    },
    "papermill": {
     "duration": 0.043289,
     "end_time": "2021-12-30T00:26:38.075492",
     "exception": false,
     "start_time": "2021-12-30T00:26:38.032203",
     "status": "completed"
    },
    "tags": []
   },
   "outputs": [],
   "source": [
    "#hide\n",
    "#delete problematic countries from table\n",
    "df_table = df_table[~df_table['Country/Region'].isin(['Cape Verde', 'Cruise Ship', 'Kosovo'])]"
   ]
  },
  {
   "cell_type": "code",
   "execution_count": 17,
   "id": "related-center",
   "metadata": {
    "execution": {
     "iopub.execute_input": "2021-12-30T00:26:38.163902Z",
     "iopub.status.busy": "2021-12-30T00:26:38.163312Z",
     "iopub.status.idle": "2021-12-30T00:26:38.166105Z",
     "shell.execute_reply": "2021-12-30T00:26:38.165579Z"
    },
    "papermill": {
     "duration": 0.056313,
     "end_time": "2021-12-30T00:26:38.166216",
     "exception": false,
     "start_time": "2021-12-30T00:26:38.109903",
     "status": "completed"
    },
    "tags": []
   },
   "outputs": [],
   "source": [
    "#hide\n",
    "metrics = [df_table.columns[index] for index in [1,2,5,6]]\n",
    "# s_china = df_table[df_table['Country/Region'].eq('China')][metrics].sum().add_prefix('China ')\n",
    "s_us = df_table[df_table['Country/Region'].eq('US')][metrics].sum().add_prefix('US ')\n",
    "s_eu = df_table[df_table['Continent'].eq('Europe')][metrics].sum().add_prefix('EU ')\n",
    "s_ind = df_table[df_table['Country/Region'].eq('India')][metrics].sum().add_prefix('India ')\n",
    "summary = {'updated': pd.to_datetime(dt_today), 'since': pd.to_datetime(dt_yday)}\n",
    "summary = {'updated': pd.to_datetime(dt_today), 'since': pd.to_datetime(dt_yday)}\n",
    "summary = {**summary, **df_table[metrics].sum(), **s_ind, **s_us, **s_eu}"
   ]
  },
  {
   "cell_type": "code",
   "execution_count": 18,
   "id": "engaging-syndrome",
   "metadata": {
    "execution": {
     "iopub.execute_input": "2021-12-30T00:26:38.238251Z",
     "iopub.status.busy": "2021-12-30T00:26:38.237638Z",
     "iopub.status.idle": "2021-12-30T00:26:38.253277Z",
     "shell.execute_reply": "2021-12-30T00:26:38.252004Z"
    },
    "papermill": {
     "duration": 0.053706,
     "end_time": "2021-12-30T00:26:38.253398",
     "exception": false,
     "start_time": "2021-12-30T00:26:38.199692",
     "status": "completed"
    },
    "tags": []
   },
   "outputs": [],
   "source": [
    "#hide\n",
    "dft_ct_new_cases = dft_cases.groupby(COL_REGION)[dt_cols].sum().diff(axis=1).fillna(0).astype(int)"
   ]
  },
  {
   "cell_type": "code",
   "execution_count": 19,
   "id": "neutral-assignment",
   "metadata": {
    "execution": {
     "iopub.execute_input": "2021-12-30T00:26:38.326934Z",
     "iopub.status.busy": "2021-12-30T00:26:38.326322Z",
     "iopub.status.idle": "2021-12-30T00:26:38.330387Z",
     "shell.execute_reply": "2021-12-30T00:26:38.330827Z"
    },
    "papermill": {
     "duration": 0.042943,
     "end_time": "2021-12-30T00:26:38.330953",
     "exception": false,
     "start_time": "2021-12-30T00:26:38.288010",
     "status": "completed"
    },
    "tags": []
   },
   "outputs": [],
   "source": [
    "#hide\n",
    "everydaycases = dft_ct_new_cases.cumsum(axis=1)"
   ]
  },
  {
   "cell_type": "code",
   "execution_count": 20,
   "id": "parliamentary-calgary",
   "metadata": {
    "execution": {
     "iopub.execute_input": "2021-12-30T00:26:38.405003Z",
     "iopub.status.busy": "2021-12-30T00:26:38.404400Z",
     "iopub.status.idle": "2021-12-30T00:26:39.076843Z",
     "shell.execute_reply": "2021-12-30T00:26:39.077319Z"
    },
    "papermill": {
     "duration": 0.711767,
     "end_time": "2021-12-30T00:26:39.077494",
     "exception": false,
     "start_time": "2021-12-30T00:26:38.365727",
     "status": "completed"
    },
    "tags": []
   },
   "outputs": [],
   "source": [
    "#hide\n",
    "import pandas as pd\n",
    "import matplotlib.pyplot as plt\n",
    "import matplotlib.ticker as ticker\n",
    "import matplotlib.animation as animation\n",
    "from IPython.display import HTML"
   ]
  },
  {
   "cell_type": "code",
   "execution_count": 21,
   "id": "lasting-extraction",
   "metadata": {
    "execution": {
     "iopub.execute_input": "2021-12-30T00:26:39.155225Z",
     "iopub.status.busy": "2021-12-30T00:26:39.154573Z",
     "iopub.status.idle": "2021-12-30T00:26:39.161174Z",
     "shell.execute_reply": "2021-12-30T00:26:39.161809Z"
    },
    "papermill": {
     "duration": 0.046867,
     "end_time": "2021-12-30T00:26:39.161967",
     "exception": false,
     "start_time": "2021-12-30T00:26:39.115100",
     "status": "completed"
    },
    "tags": []
   },
   "outputs": [],
   "source": [
    "#hide\n",
    "t = everydaycases.stack()"
   ]
  },
  {
   "cell_type": "code",
   "execution_count": 22,
   "id": "premier-sleeve",
   "metadata": {
    "execution": {
     "iopub.execute_input": "2021-12-30T00:26:39.238780Z",
     "iopub.status.busy": "2021-12-30T00:26:39.238200Z",
     "iopub.status.idle": "2021-12-30T00:26:39.248118Z",
     "shell.execute_reply": "2021-12-30T00:26:39.247628Z"
    },
    "papermill": {
     "duration": 0.050505,
     "end_time": "2021-12-30T00:26:39.248232",
     "exception": false,
     "start_time": "2021-12-30T00:26:39.197727",
     "status": "completed"
    },
    "tags": []
   },
   "outputs": [],
   "source": [
    "#hide\n",
    "g = t.reset_index(['Country/Region'])"
   ]
  },
  {
   "cell_type": "code",
   "execution_count": 23,
   "id": "distributed-pittsburgh",
   "metadata": {
    "execution": {
     "iopub.execute_input": "2021-12-30T00:26:39.321417Z",
     "iopub.status.busy": "2021-12-30T00:26:39.320709Z",
     "iopub.status.idle": "2021-12-30T00:26:39.323434Z",
     "shell.execute_reply": "2021-12-30T00:26:39.322854Z"
    },
    "papermill": {
     "duration": 0.040689,
     "end_time": "2021-12-30T00:26:39.323549",
     "exception": false,
     "start_time": "2021-12-30T00:26:39.282860",
     "status": "completed"
    },
    "tags": []
   },
   "outputs": [],
   "source": [
    "#hide\n",
    "g.index.name = 'date'"
   ]
  },
  {
   "cell_type": "code",
   "execution_count": 24,
   "id": "naked-donor",
   "metadata": {
    "execution": {
     "iopub.execute_input": "2021-12-30T00:26:39.396744Z",
     "iopub.status.busy": "2021-12-30T00:26:39.396162Z",
     "iopub.status.idle": "2021-12-30T00:26:39.398883Z",
     "shell.execute_reply": "2021-12-30T00:26:39.398395Z"
    },
    "papermill": {
     "duration": 0.041321,
     "end_time": "2021-12-30T00:26:39.398994",
     "exception": false,
     "start_time": "2021-12-30T00:26:39.357673",
     "status": "completed"
    },
    "tags": []
   },
   "outputs": [],
   "source": [
    "# #hide\n",
    "# g = g.reset_index(['date'])"
   ]
  },
  {
   "cell_type": "code",
   "execution_count": 25,
   "id": "incomplete-mustang",
   "metadata": {
    "execution": {
     "iopub.execute_input": "2021-12-30T00:26:39.473927Z",
     "iopub.status.busy": "2021-12-30T00:26:39.473226Z",
     "iopub.status.idle": "2021-12-30T00:26:39.477060Z",
     "shell.execute_reply": "2021-12-30T00:26:39.476586Z"
    },
    "papermill": {
     "duration": 0.04403,
     "end_time": "2021-12-30T00:26:39.477174",
     "exception": false,
     "start_time": "2021-12-30T00:26:39.433144",
     "status": "completed"
    },
    "tags": []
   },
   "outputs": [],
   "source": [
    "#hide\n",
    "# g.head()"
   ]
  },
  {
   "cell_type": "code",
   "execution_count": 26,
   "id": "specific-kruger",
   "metadata": {
    "execution": {
     "iopub.execute_input": "2021-12-30T00:26:39.551703Z",
     "iopub.status.busy": "2021-12-30T00:26:39.550990Z",
     "iopub.status.idle": "2021-12-30T00:26:39.555721Z",
     "shell.execute_reply": "2021-12-30T00:26:39.555223Z"
    },
    "papermill": {
     "duration": 0.041882,
     "end_time": "2021-12-30T00:26:39.555837",
     "exception": false,
     "start_time": "2021-12-30T00:26:39.513955",
     "status": "completed"
    },
    "tags": []
   },
   "outputs": [],
   "source": [
    "#hide\n",
    "# g.columns = ['date','country','cases']"
   ]
  },
  {
   "cell_type": "code",
   "execution_count": 27,
   "id": "tender-conversion",
   "metadata": {
    "execution": {
     "iopub.execute_input": "2021-12-30T00:26:39.629221Z",
     "iopub.status.busy": "2021-12-30T00:26:39.628645Z",
     "iopub.status.idle": "2021-12-30T00:26:39.632308Z",
     "shell.execute_reply": "2021-12-30T00:26:39.632755Z"
    },
    "papermill": {
     "duration": 0.042085,
     "end_time": "2021-12-30T00:26:39.632887",
     "exception": false,
     "start_time": "2021-12-30T00:26:39.590802",
     "status": "completed"
    },
    "tags": []
   },
   "outputs": [],
   "source": [
    "#hide\n",
    "# g['continent'] = g.country"
   ]
  },
  {
   "cell_type": "code",
   "execution_count": 28,
   "id": "substantial-wilderness",
   "metadata": {
    "execution": {
     "iopub.execute_input": "2021-12-30T00:26:39.706896Z",
     "iopub.status.busy": "2021-12-30T00:26:39.706258Z",
     "iopub.status.idle": "2021-12-30T00:26:39.708492Z",
     "shell.execute_reply": "2021-12-30T00:26:39.707994Z"
    },
    "papermill": {
     "duration": 0.040209,
     "end_time": "2021-12-30T00:26:39.708607",
     "exception": false,
     "start_time": "2021-12-30T00:26:39.668398",
     "status": "completed"
    },
    "tags": []
   },
   "outputs": [],
   "source": [
    "#hide\n",
    "# cols = list(g.columns.values)"
   ]
  },
  {
   "cell_type": "code",
   "execution_count": 29,
   "id": "solved-farming",
   "metadata": {
    "execution": {
     "iopub.execute_input": "2021-12-30T00:26:39.780170Z",
     "iopub.status.busy": "2021-12-30T00:26:39.779576Z",
     "iopub.status.idle": "2021-12-30T00:26:39.781969Z",
     "shell.execute_reply": "2021-12-30T00:26:39.781453Z"
    },
    "papermill": {
     "duration": 0.039989,
     "end_time": "2021-12-30T00:26:39.782079",
     "exception": false,
     "start_time": "2021-12-30T00:26:39.742090",
     "status": "completed"
    },
    "tags": []
   },
   "outputs": [],
   "source": [
    "#hide\n",
    "# cols.insert(0, cols.pop())"
   ]
  },
  {
   "cell_type": "code",
   "execution_count": 30,
   "id": "executed-adoption",
   "metadata": {
    "execution": {
     "iopub.execute_input": "2021-12-30T00:26:39.854186Z",
     "iopub.status.busy": "2021-12-30T00:26:39.853576Z",
     "iopub.status.idle": "2021-12-30T00:26:39.857591Z",
     "shell.execute_reply": "2021-12-30T00:26:39.857096Z"
    },
    "papermill": {
     "duration": 0.040448,
     "end_time": "2021-12-30T00:26:39.857704",
     "exception": false,
     "start_time": "2021-12-30T00:26:39.817256",
     "status": "completed"
    },
    "tags": []
   },
   "outputs": [],
   "source": [
    "#hide\n",
    "# g = g[cols]"
   ]
  },
  {
   "cell_type": "code",
   "execution_count": 31,
   "id": "subject-dublin",
   "metadata": {
    "execution": {
     "iopub.execute_input": "2021-12-30T00:26:39.929388Z",
     "iopub.status.busy": "2021-12-30T00:26:39.928807Z",
     "iopub.status.idle": "2021-12-30T00:26:39.931316Z",
     "shell.execute_reply": "2021-12-30T00:26:39.930750Z"
    },
    "papermill": {
     "duration": 0.039623,
     "end_time": "2021-12-30T00:26:39.931426",
     "exception": false,
     "start_time": "2021-12-30T00:26:39.891803",
     "status": "completed"
    },
    "tags": []
   },
   "outputs": [],
   "source": [
    "#hide\n",
    "# g['continent'] = g['continent'].map(mapping['map.continent'])"
   ]
  },
  {
   "cell_type": "code",
   "execution_count": 32,
   "id": "freelance-scout",
   "metadata": {
    "execution": {
     "iopub.execute_input": "2021-12-30T00:26:40.004776Z",
     "iopub.status.busy": "2021-12-30T00:26:40.004184Z",
     "iopub.status.idle": "2021-12-30T00:26:40.008564Z",
     "shell.execute_reply": "2021-12-30T00:26:40.009091Z"
    },
    "papermill": {
     "duration": 0.04398,
     "end_time": "2021-12-30T00:26:40.009223",
     "exception": false,
     "start_time": "2021-12-30T00:26:39.965243",
     "status": "completed"
    },
    "tags": []
   },
   "outputs": [],
   "source": [
    "#hide\n",
    "# g.head()"
   ]
  },
  {
   "cell_type": "code",
   "execution_count": 33,
   "id": "limited-engine",
   "metadata": {
    "execution": {
     "iopub.execute_input": "2021-12-30T00:26:40.084904Z",
     "iopub.status.busy": "2021-12-30T00:26:40.083627Z",
     "iopub.status.idle": "2021-12-30T00:26:40.085540Z",
     "shell.execute_reply": "2021-12-30T00:26:40.086039Z"
    },
    "papermill": {
     "duration": 0.041418,
     "end_time": "2021-12-30T00:26:40.086167",
     "exception": false,
     "start_time": "2021-12-30T00:26:40.044749",
     "status": "completed"
    },
    "tags": []
   },
   "outputs": [],
   "source": [
    "# hide\n",
    "# g['date'] = g['date'].astype('datetime64[ns]')"
   ]
  },
  {
   "cell_type": "code",
   "execution_count": 34,
   "id": "sophisticated-supervisor",
   "metadata": {
    "execution": {
     "iopub.execute_input": "2021-12-30T00:26:40.165094Z",
     "iopub.status.busy": "2021-12-30T00:26:40.164430Z",
     "iopub.status.idle": "2021-12-30T00:26:40.168310Z",
     "shell.execute_reply": "2021-12-30T00:26:40.168824Z"
    },
    "papermill": {
     "duration": 0.047095,
     "end_time": "2021-12-30T00:26:40.168993",
     "exception": false,
     "start_time": "2021-12-30T00:26:40.121898",
     "status": "completed"
    },
    "tags": []
   },
   "outputs": [],
   "source": [
    "#hide\n",
    "# g['date'] = g.date.dt.dayofyear"
   ]
  },
  {
   "cell_type": "code",
   "execution_count": 35,
   "id": "inside-dubai",
   "metadata": {
    "execution": {
     "iopub.execute_input": "2021-12-30T00:26:40.251015Z",
     "iopub.status.busy": "2021-12-30T00:26:40.250353Z",
     "iopub.status.idle": "2021-12-30T00:26:40.253506Z",
     "shell.execute_reply": "2021-12-30T00:26:40.252947Z"
    },
    "papermill": {
     "duration": 0.045288,
     "end_time": "2021-12-30T00:26:40.253637",
     "exception": false,
     "start_time": "2021-12-30T00:26:40.208349",
     "status": "completed"
    },
    "tags": []
   },
   "outputs": [],
   "source": [
    "#hide\n",
    "# g = g.rename(columns= {'continent':'group','country':'name','cases':'value'})"
   ]
  },
  {
   "cell_type": "code",
   "execution_count": 36,
   "id": "fleet-motorcycle",
   "metadata": {
    "execution": {
     "iopub.execute_input": "2021-12-30T00:26:40.337985Z",
     "iopub.status.busy": "2021-12-30T00:26:40.337327Z",
     "iopub.status.idle": "2021-12-30T00:26:40.339911Z",
     "shell.execute_reply": "2021-12-30T00:26:40.339377Z"
    },
    "papermill": {
     "duration": 0.042936,
     "end_time": "2021-12-30T00:26:40.340038",
     "exception": false,
     "start_time": "2021-12-30T00:26:40.297102",
     "status": "completed"
    },
    "tags": []
   },
   "outputs": [],
   "source": [
    "#hide\n",
    "# cols = ['name','group','day','value']"
   ]
  },
  {
   "cell_type": "code",
   "execution_count": 37,
   "id": "continued-sleeping",
   "metadata": {
    "execution": {
     "iopub.execute_input": "2021-12-30T00:26:40.417223Z",
     "iopub.status.busy": "2021-12-30T00:26:40.416647Z",
     "iopub.status.idle": "2021-12-30T00:26:40.419157Z",
     "shell.execute_reply": "2021-12-30T00:26:40.418666Z"
    },
    "papermill": {
     "duration": 0.044722,
     "end_time": "2021-12-30T00:26:40.419270",
     "exception": false,
     "start_time": "2021-12-30T00:26:40.374548",
     "status": "completed"
    },
    "tags": []
   },
   "outputs": [],
   "source": [
    "#hide\n",
    "# g.rename(columns= {'date':'day'},inplace = True)"
   ]
  },
  {
   "cell_type": "code",
   "execution_count": 38,
   "id": "major-fight",
   "metadata": {
    "execution": {
     "iopub.execute_input": "2021-12-30T00:26:40.492224Z",
     "iopub.status.busy": "2021-12-30T00:26:40.491454Z",
     "iopub.status.idle": "2021-12-30T00:26:40.494188Z",
     "shell.execute_reply": "2021-12-30T00:26:40.493668Z"
    },
    "papermill": {
     "duration": 0.039013,
     "end_time": "2021-12-30T00:26:40.494306",
     "exception": false,
     "start_time": "2021-12-30T00:26:40.455293",
     "status": "completed"
    },
    "tags": []
   },
   "outputs": [],
   "source": [
    "#hide\n",
    "# g = g[cols]"
   ]
  },
  {
   "cell_type": "code",
   "execution_count": 39,
   "id": "structured-mobile",
   "metadata": {
    "execution": {
     "iopub.execute_input": "2021-12-30T00:26:40.567406Z",
     "iopub.status.busy": "2021-12-30T00:26:40.566819Z",
     "iopub.status.idle": "2021-12-30T00:26:40.569145Z",
     "shell.execute_reply": "2021-12-30T00:26:40.568655Z"
    },
    "papermill": {
     "duration": 0.038798,
     "end_time": "2021-12-30T00:26:40.569256",
     "exception": false,
     "start_time": "2021-12-30T00:26:40.530458",
     "status": "completed"
    },
    "tags": []
   },
   "outputs": [],
   "source": [
    "# #hide\n",
    "# g = g[g.group.notna()]"
   ]
  },
  {
   "cell_type": "code",
   "execution_count": 40,
   "id": "determined-closing",
   "metadata": {
    "execution": {
     "iopub.execute_input": "2021-12-30T00:26:40.641111Z",
     "iopub.status.busy": "2021-12-30T00:26:40.640525Z",
     "iopub.status.idle": "2021-12-30T00:26:40.644051Z",
     "shell.execute_reply": "2021-12-30T00:26:40.644497Z"
    },
    "papermill": {
     "duration": 0.040633,
     "end_time": "2021-12-30T00:26:40.644621",
     "exception": false,
     "start_time": "2021-12-30T00:26:40.603988",
     "status": "completed"
    },
    "tags": []
   },
   "outputs": [],
   "source": [
    "# #hide\n",
    "# colors = dict(zip(\n",
    "#     [\"Oceania\", \"Europe\", \"Asia\", \"South America\", \"Middle East\", \"North America\", \"Africa\"],\n",
    "#     [\"#adb0ff\", \"#ffb3ff\", \"#90d595\", \"#e48381\", \"#aafbff\", \"#f7bb5f\", \"#eafb50\"]\n",
    "# ))\n",
    "# group_lk = g.set_index('name')['group'].to_dict()"
   ]
  },
  {
   "cell_type": "code",
   "execution_count": null,
   "id": "gross-drinking",
   "metadata": {
    "papermill": {
     "duration": 0.041272,
     "end_time": "2021-12-30T00:26:40.722879",
     "exception": false,
     "start_time": "2021-12-30T00:26:40.681607",
     "status": "completed"
    },
    "tags": []
   },
   "outputs": [],
   "source": []
  },
  {
   "cell_type": "code",
   "execution_count": 41,
   "id": "subject-macintosh",
   "metadata": {
    "execution": {
     "iopub.execute_input": "2021-12-30T00:26:40.804740Z",
     "iopub.status.busy": "2021-12-30T00:26:40.804060Z",
     "iopub.status.idle": "2021-12-30T00:26:40.807347Z",
     "shell.execute_reply": "2021-12-30T00:26:40.806807Z"
    },
    "papermill": {
     "duration": 0.046673,
     "end_time": "2021-12-30T00:26:40.807477",
     "exception": false,
     "start_time": "2021-12-30T00:26:40.760804",
     "status": "completed"
    },
    "tags": []
   },
   "outputs": [],
   "source": [
    "# #hide\n",
    "# fig, ax = plt.subplots(figsize=(15, 8))\n",
    "\n",
    "# def draw_barchart(current_day):\n",
    "#     dff = g[g['day'].eq(current_day)].sort_values(by='value', ascending=True).tail(10)\n",
    "#     ax.clear()\n",
    "#     ax.barh(dff['name'], dff['value'], color=[colors[group_lk[x]] for x in dff['name']])\n",
    "#     dx = dff['value'].max() / 200\n",
    "    \n",
    "#     for i, (value, name) in enumerate(zip(dff['value'], dff['name'])):\n",
    "#         ax.text(value-dx, i,     name,           size=14, weight=600, ha='right', va='bottom')\n",
    "#         ax.text(value-dx, i-.25, group_lk[name], size=10, color='#444444', ha='right', va='baseline')\n",
    "#         ax.text(value+dx, i,     f'{value:,.0f}',  size=14, ha='left',  va='center')\n",
    "#     ax.text(1, 0.4, current_day, transform=ax.transAxes, color='#777777', size=46, ha='right', weight=800)\n",
    "#     ax.text(0, 1.06, 'Population (thousands)', transform=ax.transAxes, size=12, color='#777777')\n",
    "#     ax.xaxis.set_major_formatter(ticker.StrMethodFormatter('{x:,.0f}'))\n",
    "#     ax.xaxis.set_ticks_position('top')\n",
    "#     ax.tick_params(axis='x', colors='#777777', labelsize=12)\n",
    "#     ax.set_yticks([])\n",
    "#     ax.margins(0, 0.01)\n",
    "#     ax.grid(which='major', axis='x', linestyle='-')\n",
    "#     ax.set_axisbelow(True)\n",
    "    \n",
    "#     ax.text(0, 1.15, 'Coronavirus',\n",
    "#             transform=ax.transAxes, size=24, weight=600, ha='left', va='top')\n",
    "# #     ax.text(1, 0, 'by @pratapvardhan; credit @jburnmurdoch', transform=ax.transAxes, color='#777777', ha='right',\n",
    "# #             bbox=dict(facecolor='white', alpha=0.8, edgecolor='white'))\n",
    "#     plt.box(False)"
   ]
  },
  {
   "cell_type": "code",
   "execution_count": 42,
   "id": "sexual-wages",
   "metadata": {
    "execution": {
     "iopub.execute_input": "2021-12-30T00:26:40.884103Z",
     "iopub.status.busy": "2021-12-30T00:26:40.883510Z",
     "iopub.status.idle": "2021-12-30T00:26:40.887326Z",
     "shell.execute_reply": "2021-12-30T00:26:40.887789Z"
    },
    "papermill": {
     "duration": 0.043194,
     "end_time": "2021-12-30T00:26:40.887922",
     "exception": false,
     "start_time": "2021-12-30T00:26:40.844728",
     "status": "completed"
    },
    "tags": []
   },
   "outputs": [],
   "source": [
    "# #hide_input\n",
    "# fig, ax = plt.subplots(figsize=(15, 8))\n",
    "# animator = animation.FuncAnimation(fig, draw_barchart, frames=range(g.day.values.min(), g.day.values.max()))\n",
    "# HTML(animator.to_jshtml())\n",
    "# # or use animator.to_html5_video() or animator.save() "
   ]
  },
  {
   "cell_type": "code",
   "execution_count": null,
   "id": "australian-container",
   "metadata": {
    "papermill": {
     "duration": 0.034383,
     "end_time": "2021-12-30T00:26:40.957648",
     "exception": false,
     "start_time": "2021-12-30T00:26:40.923265",
     "status": "completed"
    },
    "tags": []
   },
   "outputs": [],
   "source": []
  },
  {
   "cell_type": "code",
   "execution_count": null,
   "id": "mediterranean-pontiac",
   "metadata": {
    "papermill": {
     "duration": 0.035721,
     "end_time": "2021-12-30T00:26:41.027986",
     "exception": false,
     "start_time": "2021-12-30T00:26:40.992265",
     "status": "completed"
    },
    "tags": []
   },
   "outputs": [],
   "source": []
  },
  {
   "cell_type": "code",
   "execution_count": null,
   "id": "aging-legislature",
   "metadata": {
    "papermill": {
     "duration": 0.033759,
     "end_time": "2021-12-30T00:26:41.096794",
     "exception": false,
     "start_time": "2021-12-30T00:26:41.063035",
     "status": "completed"
    },
    "tags": []
   },
   "outputs": [],
   "source": []
  }
 ],
 "metadata": {
  "kernelspec": {
   "display_name": "Python 3",
   "language": "python",
   "name": "python3"
  },
  "language_info": {
   "codemirror_mode": {
    "name": "ipython",
    "version": 3
   },
   "file_extension": ".py",
   "mimetype": "text/x-python",
   "name": "python",
   "nbconvert_exporter": "python",
   "pygments_lexer": "ipython3",
   "version": "3.6.15"
  },
  "papermill": {
   "duration": 6.804536,
   "end_time": "2021-12-30T00:26:41.439130",
   "environment_variables": {},
   "exception": null,
   "input_path": "2020-03-21-covid19exp.ipynb",
   "output_path": "2020-03-21-covid19exp.ipynb",
   "parameters": {},
   "start_time": "2021-12-30T00:26:34.634594",
   "version": "2.0.0"
  }
 },
 "nbformat": 4,
 "nbformat_minor": 5
}