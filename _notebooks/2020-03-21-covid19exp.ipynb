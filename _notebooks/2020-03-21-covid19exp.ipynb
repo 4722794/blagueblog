{
 "cells": [
  {
   "cell_type": "markdown",
   "id": "muslim-click",
   "metadata": {
    "papermill": {
     "duration": 0.038703,
     "end_time": "2021-03-15T00:11:53.286105",
     "exception": false,
     "start_time": "2021-03-15T00:11:53.247402",
     "status": "completed"
    },
    "tags": []
   },
   "source": [
    "# COVID-19 Case Race\n",
    "> A race chart to see rising cases around the world\n",
    "\n",
    "- author: Hargun Oberoi\n",
    "- image: images/covid-overview.png\n",
    "- hide: false\n",
    "- badges: false"
   ]
  },
  {
   "cell_type": "code",
   "execution_count": 1,
   "id": "proof-material",
   "metadata": {
    "execution": {
     "iopub.execute_input": "2021-03-15T00:11:53.369154Z",
     "iopub.status.busy": "2021-03-15T00:11:53.368548Z",
     "iopub.status.idle": "2021-03-15T00:11:53.749751Z",
     "shell.execute_reply": "2021-03-15T00:11:53.749216Z"
    },
    "papermill": {
     "duration": 0.430504,
     "end_time": "2021-03-15T00:11:53.749898",
     "exception": false,
     "start_time": "2021-03-15T00:11:53.319394",
     "status": "completed"
    },
    "tags": []
   },
   "outputs": [],
   "source": [
    "#hide\n",
    "import numpy as np\n",
    "import pandas as pd\n",
    "from jinja2 import Template\n",
    "from IPython.display import HTML"
   ]
  },
  {
   "cell_type": "code",
   "execution_count": 2,
   "id": "developed-terminology",
   "metadata": {
    "execution": {
     "iopub.execute_input": "2021-03-15T00:11:53.822952Z",
     "iopub.status.busy": "2021-03-15T00:11:53.822319Z",
     "iopub.status.idle": "2021-03-15T00:11:53.824224Z",
     "shell.execute_reply": "2021-03-15T00:11:53.824679Z"
    },
    "papermill": {
     "duration": 0.041441,
     "end_time": "2021-03-15T00:11:53.824825",
     "exception": false,
     "start_time": "2021-03-15T00:11:53.783384",
     "status": "completed"
    },
    "tags": []
   },
   "outputs": [],
   "source": [
    "#hide\n",
    "\n",
    "# FETCH\n",
    "base_url = 'https://raw.githubusercontent.com/pratapvardhan/notebooks/master/covid19/'\n",
    "paths = {\n",
    "    'mapping': base_url + 'mapping_countries.csv',\n",
    "    'overview': base_url + 'overview.tpl'\n",
    "}"
   ]
  },
  {
   "cell_type": "code",
   "execution_count": 3,
   "id": "dynamic-saver",
   "metadata": {
    "execution": {
     "iopub.execute_input": "2021-03-15T00:11:53.906838Z",
     "iopub.status.busy": "2021-03-15T00:11:53.906247Z",
     "iopub.status.idle": "2021-03-15T00:11:53.909432Z",
     "shell.execute_reply": "2021-03-15T00:11:53.908855Z"
    },
    "papermill": {
     "duration": 0.050997,
     "end_time": "2021-03-15T00:11:53.909555",
     "exception": false,
     "start_time": "2021-03-15T00:11:53.858558",
     "status": "completed"
    },
    "tags": []
   },
   "outputs": [
    {
     "data": {
      "text/plain": [
       "'https://raw.githubusercontent.com/pratapvardhan/notebooks/master/covid19/mapping_countries.csv'"
      ]
     },
     "execution_count": 3,
     "metadata": {},
     "output_type": "execute_result"
    }
   ],
   "source": [
    "#hide\n",
    "paths['mapping']"
   ]
  },
  {
   "cell_type": "code",
   "execution_count": 4,
   "id": "urban-software",
   "metadata": {
    "execution": {
     "iopub.execute_input": "2021-03-15T00:11:53.986522Z",
     "iopub.status.busy": "2021-03-15T00:11:53.985910Z",
     "iopub.status.idle": "2021-03-15T00:11:53.988401Z",
     "shell.execute_reply": "2021-03-15T00:11:53.988962Z"
    },
    "papermill": {
     "duration": 0.044818,
     "end_time": "2021-03-15T00:11:53.989108",
     "exception": false,
     "start_time": "2021-03-15T00:11:53.944290",
     "status": "completed"
    },
    "tags": []
   },
   "outputs": [],
   "source": [
    "#hide\n",
    "def get_mappings(url):\n",
    "    df = pd.read_csv(url)\n",
    "    return {\n",
    "        'df': df,\n",
    "        'replace.country': dict(df.dropna(subset=['Name']).set_index('Country')['Name']),\n",
    "        'map.continent': dict(df.set_index('Name')['Continent'])\n",
    "    }"
   ]
  },
  {
   "cell_type": "code",
   "execution_count": 5,
   "id": "intimate-machinery",
   "metadata": {
    "execution": {
     "iopub.execute_input": "2021-03-15T00:11:54.061595Z",
     "iopub.status.busy": "2021-03-15T00:11:54.061002Z",
     "iopub.status.idle": "2021-03-15T00:11:54.093046Z",
     "shell.execute_reply": "2021-03-15T00:11:54.092498Z"
    },
    "papermill": {
     "duration": 0.070874,
     "end_time": "2021-03-15T00:11:54.093175",
     "exception": false,
     "start_time": "2021-03-15T00:11:54.022301",
     "status": "completed"
    },
    "tags": []
   },
   "outputs": [],
   "source": [
    "#hide\n",
    "mapping = get_mappings(paths['mapping'])"
   ]
  },
  {
   "cell_type": "code",
   "execution_count": 6,
   "id": "certified-tactics",
   "metadata": {
    "execution": {
     "iopub.execute_input": "2021-03-15T00:11:54.165583Z",
     "iopub.status.busy": "2021-03-15T00:11:54.164990Z",
     "iopub.status.idle": "2021-03-15T00:11:54.167425Z",
     "shell.execute_reply": "2021-03-15T00:11:54.166955Z"
    },
    "papermill": {
     "duration": 0.040628,
     "end_time": "2021-03-15T00:11:54.167550",
     "exception": false,
     "start_time": "2021-03-15T00:11:54.126922",
     "status": "completed"
    },
    "tags": []
   },
   "outputs": [],
   "source": [
    "#hide\n",
    "def get_template(path):\n",
    "    from urllib.parse import urlparse\n",
    "    if bool(urlparse(path).netloc):\n",
    "        from urllib.request import urlopen\n",
    "        return urlopen(path).read().decode('utf8')\n",
    "    return open(path).read()"
   ]
  },
  {
   "cell_type": "code",
   "execution_count": 7,
   "id": "realistic-blast",
   "metadata": {
    "execution": {
     "iopub.execute_input": "2021-03-15T00:11:54.240572Z",
     "iopub.status.busy": "2021-03-15T00:11:54.239967Z",
     "iopub.status.idle": "2021-03-15T00:11:54.242170Z",
     "shell.execute_reply": "2021-03-15T00:11:54.241671Z"
    },
    "papermill": {
     "duration": 0.041704,
     "end_time": "2021-03-15T00:11:54.242290",
     "exception": false,
     "start_time": "2021-03-15T00:11:54.200586",
     "status": "completed"
    },
    "tags": []
   },
   "outputs": [],
   "source": [
    "#hide\n",
    "def get_frame(name):\n",
    "    url = (\n",
    "        'https://raw.githubusercontent.com/CSSEGISandData/COVID-19/master/csse_covid_19_data/'\n",
    "        f'csse_covid_19_time_series/time_series_covid19_{name}_global.csv')\n",
    "    df = pd.read_csv(url)\n",
    "    # rename countries\n",
    "    df['Country/Region'] = df['Country/Region'].replace(mapping['replace.country'])\n",
    "    return df"
   ]
  },
  {
   "cell_type": "code",
   "execution_count": 8,
   "id": "affiliated-characterization",
   "metadata": {
    "execution": {
     "iopub.execute_input": "2021-03-15T00:11:54.316601Z",
     "iopub.status.busy": "2021-03-15T00:11:54.315985Z",
     "iopub.status.idle": "2021-03-15T00:11:54.317829Z",
     "shell.execute_reply": "2021-03-15T00:11:54.318297Z"
    },
    "papermill": {
     "duration": 0.04295,
     "end_time": "2021-03-15T00:11:54.318440",
     "exception": false,
     "start_time": "2021-03-15T00:11:54.275490",
     "status": "completed"
    },
    "tags": []
   },
   "outputs": [],
   "source": [
    "#hide\n",
    "def get_dates(df):\n",
    "    dt_cols = df.columns[~df.columns.isin(['Province/State', 'Country/Region', 'Lat', 'Long'])]\n",
    "    LAST_DATE_I = -1\n",
    "    # sometimes last column may be empty, then go backwards\n",
    "    for i in range(-1, -len(dt_cols), -1):\n",
    "        if not df[dt_cols[i]].fillna(0).eq(0).all():\n",
    "            LAST_DATE_I = i\n",
    "            break\n",
    "    return LAST_DATE_I, dt_cols"
   ]
  },
  {
   "cell_type": "code",
   "execution_count": 9,
   "id": "recent-optimization",
   "metadata": {
    "execution": {
     "iopub.execute_input": "2021-03-15T00:11:54.390964Z",
     "iopub.status.busy": "2021-03-15T00:11:54.390367Z",
     "iopub.status.idle": "2021-03-15T00:11:54.646235Z",
     "shell.execute_reply": "2021-03-15T00:11:54.645676Z"
    },
    "papermill": {
     "duration": 0.294744,
     "end_time": "2021-03-15T00:11:54.646364",
     "exception": false,
     "start_time": "2021-03-15T00:11:54.351620",
     "status": "completed"
    },
    "tags": []
   },
   "outputs": [],
   "source": [
    "#hide\n",
    "COL_REGION = 'Country/Region'\n",
    "# Confirmed, Recovered, Deaths\n",
    "df = get_frame('confirmed')\n",
    "# dft_: timeseries, dfc_: today country agg\n",
    "dft_cases = df\n",
    "dft_deaths = get_frame('deaths')\n",
    "dft_recovered = get_frame('recovered')\n",
    "LAST_DATE_I, dt_cols = get_dates(df)"
   ]
  },
  {
   "cell_type": "code",
   "execution_count": 10,
   "id": "absolute-copper",
   "metadata": {
    "execution": {
     "iopub.execute_input": "2021-03-15T00:11:54.719120Z",
     "iopub.status.busy": "2021-03-15T00:11:54.718522Z",
     "iopub.status.idle": "2021-03-15T00:11:54.720513Z",
     "shell.execute_reply": "2021-03-15T00:11:54.720975Z"
    },
    "papermill": {
     "duration": 0.041508,
     "end_time": "2021-03-15T00:11:54.721123",
     "exception": false,
     "start_time": "2021-03-15T00:11:54.679615",
     "status": "completed"
    },
    "tags": []
   },
   "outputs": [],
   "source": [
    "#hide\n",
    "LAST_DATE_I, dt_cols = get_dates(df)\n",
    "dt_today =dt_cols[LAST_DATE_I]\n",
    "# dt_5day = dt_cols[LAST_DATE_I - 5]\n",
    "dt_yday = dt_cols[LAST_DATE_I - 1]"
   ]
  },
  {
   "cell_type": "code",
   "execution_count": 11,
   "id": "restricted-sheriff",
   "metadata": {
    "execution": {
     "iopub.execute_input": "2021-03-15T00:11:54.797537Z",
     "iopub.status.busy": "2021-03-15T00:11:54.796945Z",
     "iopub.status.idle": "2021-03-15T00:11:54.804901Z",
     "shell.execute_reply": "2021-03-15T00:11:54.805349Z"
    },
    "papermill": {
     "duration": 0.049951,
     "end_time": "2021-03-15T00:11:54.805498",
     "exception": false,
     "start_time": "2021-03-15T00:11:54.755547",
     "status": "completed"
    },
    "tags": []
   },
   "outputs": [],
   "source": [
    "#hide\n",
    "dfc_cases = dft_cases.groupby(COL_REGION)[dt_today].sum()\n",
    "dfc_deaths = dft_deaths.groupby(COL_REGION)[dt_today].sum()\n",
    "# dfp_cases = dft_cases.groupby(COL_REGION)[dt_5day].sum()\n",
    "# dfp_deaths = dft_deaths.groupby(COL_REGION)[dt_5day].sum()\n",
    "dfp_cases = dft_cases.groupby(COL_REGION)[dt_yday].sum()\n",
    "dfp_deaths = dft_deaths.groupby(COL_REGION)[dt_yday].sum()"
   ]
  },
  {
   "cell_type": "code",
   "execution_count": 12,
   "id": "deluxe-hepatitis",
   "metadata": {
    "execution": {
     "iopub.execute_input": "2021-03-15T00:11:54.883680Z",
     "iopub.status.busy": "2021-03-15T00:11:54.883058Z",
     "iopub.status.idle": "2021-03-15T00:11:54.887349Z",
     "shell.execute_reply": "2021-03-15T00:11:54.886853Z"
    },
    "papermill": {
     "duration": 0.047816,
     "end_time": "2021-03-15T00:11:54.887469",
     "exception": false,
     "start_time": "2021-03-15T00:11:54.839653",
     "status": "completed"
    },
    "tags": []
   },
   "outputs": [],
   "source": [
    "#hide\n",
    "df_table = (pd.DataFrame(dict(Cases = dfc_cases, Deaths = dfc_deaths, PCases = dfp_cases, PDeaths = dfp_deaths))\n",
    "            .sort_values(by = ['Cases','Deaths'], ascending = [False, False])\n",
    "            .reset_index())"
   ]
  },
  {
   "cell_type": "code",
   "execution_count": 13,
   "id": "educational-chancellor",
   "metadata": {
    "execution": {
     "iopub.execute_input": "2021-03-15T00:11:54.981542Z",
     "iopub.status.busy": "2021-03-15T00:11:54.968765Z",
     "iopub.status.idle": "2021-03-15T00:11:54.991621Z",
     "shell.execute_reply": "2021-03-15T00:11:54.991092Z"
    },
    "papermill": {
     "duration": 0.070007,
     "end_time": "2021-03-15T00:11:54.991746",
     "exception": false,
     "start_time": "2021-03-15T00:11:54.921739",
     "status": "completed"
    },
    "tags": []
   },
   "outputs": [
    {
     "data": {
      "text/html": [
       "<div>\n",
       "<style scoped>\n",
       "    .dataframe tbody tr th:only-of-type {\n",
       "        vertical-align: middle;\n",
       "    }\n",
       "\n",
       "    .dataframe tbody tr th {\n",
       "        vertical-align: top;\n",
       "    }\n",
       "\n",
       "    .dataframe thead th {\n",
       "        text-align: right;\n",
       "    }\n",
       "</style>\n",
       "<table border=\"1\" class=\"dataframe\">\n",
       "  <thead>\n",
       "    <tr style=\"text-align: right;\">\n",
       "      <th></th>\n",
       "      <th>Country/Region</th>\n",
       "      <th>Cases</th>\n",
       "      <th>Deaths</th>\n",
       "      <th>PCases</th>\n",
       "      <th>PDeaths</th>\n",
       "      <th>Cases (+)</th>\n",
       "      <th>Deaths (+)</th>\n",
       "      <th>Fatality Rate</th>\n",
       "      <th>Continent</th>\n",
       "    </tr>\n",
       "  </thead>\n",
       "  <tbody>\n",
       "    <tr>\n",
       "      <th>0</th>\n",
       "      <td>US</td>\n",
       "      <td>29400553</td>\n",
       "      <td>534316</td>\n",
       "      <td>29347338</td>\n",
       "      <td>532591</td>\n",
       "      <td>53215</td>\n",
       "      <td>1725</td>\n",
       "      <td>1.82</td>\n",
       "      <td>North America</td>\n",
       "    </tr>\n",
       "    <tr>\n",
       "      <th>1</th>\n",
       "      <td>Brazil</td>\n",
       "      <td>11439558</td>\n",
       "      <td>277102</td>\n",
       "      <td>11363380</td>\n",
       "      <td>275105</td>\n",
       "      <td>76178</td>\n",
       "      <td>1997</td>\n",
       "      <td>2.42</td>\n",
       "      <td>South America</td>\n",
       "    </tr>\n",
       "    <tr>\n",
       "      <th>2</th>\n",
       "      <td>India</td>\n",
       "      <td>11359048</td>\n",
       "      <td>158607</td>\n",
       "      <td>11333728</td>\n",
       "      <td>158446</td>\n",
       "      <td>25320</td>\n",
       "      <td>161</td>\n",
       "      <td>1.40</td>\n",
       "      <td>Asia</td>\n",
       "    </tr>\n",
       "    <tr>\n",
       "      <th>3</th>\n",
       "      <td>Russia</td>\n",
       "      <td>4331396</td>\n",
       "      <td>90169</td>\n",
       "      <td>4321588</td>\n",
       "      <td>89701</td>\n",
       "      <td>9808</td>\n",
       "      <td>468</td>\n",
       "      <td>2.08</td>\n",
       "      <td>Europe</td>\n",
       "    </tr>\n",
       "    <tr>\n",
       "      <th>4</th>\n",
       "      <td>United Kingdom</td>\n",
       "      <td>4267015</td>\n",
       "      <td>125701</td>\n",
       "      <td>4261398</td>\n",
       "      <td>125579</td>\n",
       "      <td>5617</td>\n",
       "      <td>122</td>\n",
       "      <td>2.95</td>\n",
       "      <td>Europe</td>\n",
       "    </tr>\n",
       "  </tbody>\n",
       "</table>\n",
       "</div>"
      ],
      "text/plain": [
       "   Country/Region     Cases  Deaths    PCases  PDeaths  Cases (+)  Deaths (+)  \\\n",
       "0              US  29400553  534316  29347338   532591      53215        1725   \n",
       "1          Brazil  11439558  277102  11363380   275105      76178        1997   \n",
       "2           India  11359048  158607  11333728   158446      25320         161   \n",
       "3          Russia   4331396   90169   4321588    89701       9808         468   \n",
       "4  United Kingdom   4267015  125701   4261398   125579       5617         122   \n",
       "\n",
       "   Fatality Rate      Continent  \n",
       "0           1.82  North America  \n",
       "1           2.42  South America  \n",
       "2           1.40           Asia  \n",
       "3           2.08         Europe  \n",
       "4           2.95         Europe  "
      ]
     },
     "execution_count": 13,
     "metadata": {},
     "output_type": "execute_result"
    }
   ],
   "source": [
    "#hide\n",
    "for c in 'Cases, Deaths'.split(', '):\n",
    "    df_table[f'{c} (+)'] = (df_table[c] - df_table[f'P{c}']).clip(0)\n",
    "    #Clip ça veut dire, les chiffres negatif sont interdit\n",
    "df_table['Fatality Rate'] = (100* df_table['Deaths']/ df_table['Cases']).round(2)\n",
    "df_table['Continent'] = df_table['Country/Region'].map(mapping['map.continent'])\n",
    "df_table.head(5)"
   ]
  },
  {
   "cell_type": "code",
   "execution_count": 14,
   "id": "aboriginal-bulgaria",
   "metadata": {
    "execution": {
     "iopub.execute_input": "2021-03-15T00:11:55.078612Z",
     "iopub.status.busy": "2021-03-15T00:11:55.077762Z",
     "iopub.status.idle": "2021-03-15T00:11:55.079369Z",
     "shell.execute_reply": "2021-03-15T00:11:55.082078Z"
    },
    "papermill": {
     "duration": 0.049669,
     "end_time": "2021-03-15T00:11:55.082241",
     "exception": false,
     "start_time": "2021-03-15T00:11:55.032572",
     "status": "completed"
    },
    "tags": []
   },
   "outputs": [],
   "source": [
    "#hide\n",
    "#delete problematic countries from table\n",
    "df_table = df_table[~df_table['Country/Region'].isin(['Cape Verde', 'Cruise Ship', 'Kosovo'])]"
   ]
  },
  {
   "cell_type": "code",
   "execution_count": 15,
   "id": "fantastic-effect",
   "metadata": {
    "execution": {
     "iopub.execute_input": "2021-03-15T00:11:55.162443Z",
     "iopub.status.busy": "2021-03-15T00:11:55.161836Z",
     "iopub.status.idle": "2021-03-15T00:11:55.181395Z",
     "shell.execute_reply": "2021-03-15T00:11:55.180940Z"
    },
    "papermill": {
     "duration": 0.064685,
     "end_time": "2021-03-15T00:11:55.181522",
     "exception": false,
     "start_time": "2021-03-15T00:11:55.116837",
     "status": "completed"
    },
    "tags": []
   },
   "outputs": [
    {
     "data": {
      "text/html": [
       "<div>\n",
       "<style scoped>\n",
       "    .dataframe tbody tr th:only-of-type {\n",
       "        vertical-align: middle;\n",
       "    }\n",
       "\n",
       "    .dataframe tbody tr th {\n",
       "        vertical-align: top;\n",
       "    }\n",
       "\n",
       "    .dataframe thead th {\n",
       "        text-align: right;\n",
       "    }\n",
       "</style>\n",
       "<table border=\"1\" class=\"dataframe\">\n",
       "  <thead>\n",
       "    <tr style=\"text-align: right;\">\n",
       "      <th></th>\n",
       "      <th>Country/Region</th>\n",
       "      <th>Cases</th>\n",
       "      <th>Deaths</th>\n",
       "      <th>PCases</th>\n",
       "      <th>PDeaths</th>\n",
       "      <th>Cases (+)</th>\n",
       "      <th>Deaths (+)</th>\n",
       "      <th>Fatality Rate</th>\n",
       "      <th>Continent</th>\n",
       "    </tr>\n",
       "  </thead>\n",
       "  <tbody>\n",
       "    <tr>\n",
       "      <th>0</th>\n",
       "      <td>US</td>\n",
       "      <td>29400553</td>\n",
       "      <td>534316</td>\n",
       "      <td>29347338</td>\n",
       "      <td>532591</td>\n",
       "      <td>53215</td>\n",
       "      <td>1725</td>\n",
       "      <td>1.8</td>\n",
       "      <td>North America</td>\n",
       "    </tr>\n",
       "    <tr>\n",
       "      <th>1</th>\n",
       "      <td>Brazil</td>\n",
       "      <td>11439558</td>\n",
       "      <td>277102</td>\n",
       "      <td>11363380</td>\n",
       "      <td>275105</td>\n",
       "      <td>76178</td>\n",
       "      <td>1997</td>\n",
       "      <td>2.4</td>\n",
       "      <td>South America</td>\n",
       "    </tr>\n",
       "    <tr>\n",
       "      <th>2</th>\n",
       "      <td>India</td>\n",
       "      <td>11359048</td>\n",
       "      <td>158607</td>\n",
       "      <td>11333728</td>\n",
       "      <td>158446</td>\n",
       "      <td>25320</td>\n",
       "      <td>161</td>\n",
       "      <td>1.4</td>\n",
       "      <td>Asia</td>\n",
       "    </tr>\n",
       "    <tr>\n",
       "      <th>3</th>\n",
       "      <td>Russia</td>\n",
       "      <td>4331396</td>\n",
       "      <td>90169</td>\n",
       "      <td>4321588</td>\n",
       "      <td>89701</td>\n",
       "      <td>9808</td>\n",
       "      <td>468</td>\n",
       "      <td>2.1</td>\n",
       "      <td>Europe</td>\n",
       "    </tr>\n",
       "    <tr>\n",
       "      <th>4</th>\n",
       "      <td>United Kingdom</td>\n",
       "      <td>4267015</td>\n",
       "      <td>125701</td>\n",
       "      <td>4261398</td>\n",
       "      <td>125579</td>\n",
       "      <td>5617</td>\n",
       "      <td>122</td>\n",
       "      <td>2.9</td>\n",
       "      <td>Europe</td>\n",
       "    </tr>\n",
       "  </tbody>\n",
       "</table>\n",
       "</div>"
      ],
      "text/plain": [
       "   Country/Region     Cases  Deaths    PCases  PDeaths  Cases (+)  Deaths (+)  \\\n",
       "0              US  29400553  534316  29347338   532591      53215        1725   \n",
       "1          Brazil  11439558  277102  11363380   275105      76178        1997   \n",
       "2           India  11359048  158607  11333728   158446      25320         161   \n",
       "3          Russia   4331396   90169   4321588    89701       9808         468   \n",
       "4  United Kingdom   4267015  125701   4261398   125579       5617         122   \n",
       "\n",
       "   Fatality Rate      Continent  \n",
       "0            1.8  North America  \n",
       "1            2.4  South America  \n",
       "2            1.4           Asia  \n",
       "3            2.1         Europe  \n",
       "4            2.9         Europe  "
      ]
     },
     "execution_count": 15,
     "metadata": {},
     "output_type": "execute_result"
    }
   ],
   "source": [
    "#hide\n",
    "df_table = (pd.DataFrame(dict(Cases=dfc_cases, Deaths=dfc_deaths, PCases=dfp_cases, PDeaths=dfp_deaths))\n",
    "             .sort_values(by=['Cases', 'Deaths'], ascending=[False, False])\n",
    "             .reset_index())\n",
    "df_table.rename(columns={'index': 'Country/Region'}, inplace=True)\n",
    "for c in 'Cases, Deaths'.split(', '):\n",
    "    df_table[f'{c} (+)'] = (df_table[c] - df_table[f'P{c}']).clip(0)  # DATA BUG\n",
    "df_table['Fatality Rate'] = (100 * df_table['Deaths'] / df_table['Cases']).round(1)\n",
    "df_table['Continent'] = df_table['Country/Region'].map(mapping['map.continent'])\n",
    "df_table.head(5)"
   ]
  },
  {
   "cell_type": "code",
   "execution_count": 16,
   "id": "fewer-occasion",
   "metadata": {
    "execution": {
     "iopub.execute_input": "2021-03-15T00:11:55.256290Z",
     "iopub.status.busy": "2021-03-15T00:11:55.255668Z",
     "iopub.status.idle": "2021-03-15T00:11:55.257785Z",
     "shell.execute_reply": "2021-03-15T00:11:55.257220Z"
    },
    "papermill": {
     "duration": 0.041969,
     "end_time": "2021-03-15T00:11:55.257915",
     "exception": false,
     "start_time": "2021-03-15T00:11:55.215946",
     "status": "completed"
    },
    "tags": []
   },
   "outputs": [],
   "source": [
    "#hide\n",
    "#delete problematic countries from table\n",
    "df_table = df_table[~df_table['Country/Region'].isin(['Cape Verde', 'Cruise Ship', 'Kosovo'])]"
   ]
  },
  {
   "cell_type": "code",
   "execution_count": 17,
   "id": "related-center",
   "metadata": {
    "execution": {
     "iopub.execute_input": "2021-03-15T00:11:55.347474Z",
     "iopub.status.busy": "2021-03-15T00:11:55.346863Z",
     "iopub.status.idle": "2021-03-15T00:11:55.349675Z",
     "shell.execute_reply": "2021-03-15T00:11:55.349170Z"
    },
    "papermill": {
     "duration": 0.058233,
     "end_time": "2021-03-15T00:11:55.349799",
     "exception": false,
     "start_time": "2021-03-15T00:11:55.291566",
     "status": "completed"
    },
    "tags": []
   },
   "outputs": [],
   "source": [
    "#hide\n",
    "metrics = [df_table.columns[index] for index in [1,2,5,6]]\n",
    "# s_china = df_table[df_table['Country/Region'].eq('China')][metrics].sum().add_prefix('China ')\n",
    "s_us = df_table[df_table['Country/Region'].eq('US')][metrics].sum().add_prefix('US ')\n",
    "s_eu = df_table[df_table['Continent'].eq('Europe')][metrics].sum().add_prefix('EU ')\n",
    "s_ind = df_table[df_table['Country/Region'].eq('India')][metrics].sum().add_prefix('India ')\n",
    "summary = {'updated': pd.to_datetime(dt_today), 'since': pd.to_datetime(dt_yday)}\n",
    "summary = {'updated': pd.to_datetime(dt_today), 'since': pd.to_datetime(dt_yday)}\n",
    "summary = {**summary, **df_table[metrics].sum(), **s_ind, **s_us, **s_eu}"
   ]
  },
  {
   "cell_type": "code",
   "execution_count": 18,
   "id": "engaging-syndrome",
   "metadata": {
    "execution": {
     "iopub.execute_input": "2021-03-15T00:11:55.430145Z",
     "iopub.status.busy": "2021-03-15T00:11:55.429561Z",
     "iopub.status.idle": "2021-03-15T00:11:55.442342Z",
     "shell.execute_reply": "2021-03-15T00:11:55.441852Z"
    },
    "papermill": {
     "duration": 0.05644,
     "end_time": "2021-03-15T00:11:55.442468",
     "exception": false,
     "start_time": "2021-03-15T00:11:55.386028",
     "status": "completed"
    },
    "tags": []
   },
   "outputs": [],
   "source": [
    "#hide\n",
    "dft_ct_new_cases = dft_cases.groupby(COL_REGION)[dt_cols].sum().diff(axis=1).fillna(0).astype(int)"
   ]
  },
  {
   "cell_type": "code",
   "execution_count": 19,
   "id": "neutral-assignment",
   "metadata": {
    "execution": {
     "iopub.execute_input": "2021-03-15T00:11:55.524622Z",
     "iopub.status.busy": "2021-03-15T00:11:55.523964Z",
     "iopub.status.idle": "2021-03-15T00:11:55.525496Z",
     "shell.execute_reply": "2021-03-15T00:11:55.526076Z"
    },
    "papermill": {
     "duration": 0.048004,
     "end_time": "2021-03-15T00:11:55.526222",
     "exception": false,
     "start_time": "2021-03-15T00:11:55.478218",
     "status": "completed"
    },
    "tags": []
   },
   "outputs": [],
   "source": [
    "#hide\n",
    "everydaycases = dft_ct_new_cases.cumsum(axis=1)"
   ]
  },
  {
   "cell_type": "code",
   "execution_count": 20,
   "id": "parliamentary-calgary",
   "metadata": {
    "execution": {
     "iopub.execute_input": "2021-03-15T00:11:55.600302Z",
     "iopub.status.busy": "2021-03-15T00:11:55.599065Z",
     "iopub.status.idle": "2021-03-15T00:11:57.304116Z",
     "shell.execute_reply": "2021-03-15T00:11:57.303214Z"
    },
    "papermill": {
     "duration": 1.743513,
     "end_time": "2021-03-15T00:11:57.304335",
     "exception": false,
     "start_time": "2021-03-15T00:11:55.560822",
     "status": "completed"
    },
    "tags": []
   },
   "outputs": [],
   "source": [
    "#hide\n",
    "import pandas as pd\n",
    "import matplotlib.pyplot as plt\n",
    "import matplotlib.ticker as ticker\n",
    "import matplotlib.animation as animation\n",
    "from IPython.display import HTML"
   ]
  },
  {
   "cell_type": "code",
   "execution_count": 21,
   "id": "lasting-extraction",
   "metadata": {
    "execution": {
     "iopub.execute_input": "2021-03-15T00:11:57.380953Z",
     "iopub.status.busy": "2021-03-15T00:11:57.380342Z",
     "iopub.status.idle": "2021-03-15T00:11:57.387579Z",
     "shell.execute_reply": "2021-03-15T00:11:57.387068Z"
    },
    "papermill": {
     "duration": 0.04741,
     "end_time": "2021-03-15T00:11:57.387703",
     "exception": false,
     "start_time": "2021-03-15T00:11:57.340293",
     "status": "completed"
    },
    "tags": []
   },
   "outputs": [],
   "source": [
    "#hide\n",
    "t = everydaycases.stack()"
   ]
  },
  {
   "cell_type": "code",
   "execution_count": 22,
   "id": "premier-sleeve",
   "metadata": {
    "execution": {
     "iopub.execute_input": "2021-03-15T00:11:57.460733Z",
     "iopub.status.busy": "2021-03-15T00:11:57.460177Z",
     "iopub.status.idle": "2021-03-15T00:11:57.467656Z",
     "shell.execute_reply": "2021-03-15T00:11:57.467184Z"
    },
    "papermill": {
     "duration": 0.045758,
     "end_time": "2021-03-15T00:11:57.467778",
     "exception": false,
     "start_time": "2021-03-15T00:11:57.422020",
     "status": "completed"
    },
    "tags": []
   },
   "outputs": [],
   "source": [
    "#hide\n",
    "g = t.reset_index(['Country/Region'])"
   ]
  },
  {
   "cell_type": "code",
   "execution_count": 23,
   "id": "distributed-pittsburgh",
   "metadata": {
    "execution": {
     "iopub.execute_input": "2021-03-15T00:11:57.541451Z",
     "iopub.status.busy": "2021-03-15T00:11:57.540854Z",
     "iopub.status.idle": "2021-03-15T00:11:57.543195Z",
     "shell.execute_reply": "2021-03-15T00:11:57.542704Z"
    },
    "papermill": {
     "duration": 0.041506,
     "end_time": "2021-03-15T00:11:57.543315",
     "exception": false,
     "start_time": "2021-03-15T00:11:57.501809",
     "status": "completed"
    },
    "tags": []
   },
   "outputs": [],
   "source": [
    "#hide\n",
    "g.index.name = 'date'"
   ]
  },
  {
   "cell_type": "code",
   "execution_count": 24,
   "id": "naked-donor",
   "metadata": {
    "execution": {
     "iopub.execute_input": "2021-03-15T00:11:57.619845Z",
     "iopub.status.busy": "2021-03-15T00:11:57.619235Z",
     "iopub.status.idle": "2021-03-15T00:11:57.621642Z",
     "shell.execute_reply": "2021-03-15T00:11:57.622190Z"
    },
    "papermill": {
     "duration": 0.044245,
     "end_time": "2021-03-15T00:11:57.622330",
     "exception": false,
     "start_time": "2021-03-15T00:11:57.578085",
     "status": "completed"
    },
    "tags": []
   },
   "outputs": [],
   "source": [
    "# #hide\n",
    "# g = g.reset_index(['date'])"
   ]
  },
  {
   "cell_type": "code",
   "execution_count": 25,
   "id": "incomplete-mustang",
   "metadata": {
    "execution": {
     "iopub.execute_input": "2021-03-15T00:11:57.695499Z",
     "iopub.status.busy": "2021-03-15T00:11:57.694919Z",
     "iopub.status.idle": "2021-03-15T00:11:57.697177Z",
     "shell.execute_reply": "2021-03-15T00:11:57.696711Z"
    },
    "papermill": {
     "duration": 0.040709,
     "end_time": "2021-03-15T00:11:57.697297",
     "exception": false,
     "start_time": "2021-03-15T00:11:57.656588",
     "status": "completed"
    },
    "tags": []
   },
   "outputs": [],
   "source": [
    "#hide\n",
    "# g.head()"
   ]
  },
  {
   "cell_type": "code",
   "execution_count": 26,
   "id": "specific-kruger",
   "metadata": {
    "execution": {
     "iopub.execute_input": "2021-03-15T00:11:57.772667Z",
     "iopub.status.busy": "2021-03-15T00:11:57.772001Z",
     "iopub.status.idle": "2021-03-15T00:11:57.774829Z",
     "shell.execute_reply": "2021-03-15T00:11:57.774335Z"
    },
    "papermill": {
     "duration": 0.042153,
     "end_time": "2021-03-15T00:11:57.774946",
     "exception": false,
     "start_time": "2021-03-15T00:11:57.732793",
     "status": "completed"
    },
    "tags": []
   },
   "outputs": [],
   "source": [
    "#hide\n",
    "# g.columns = ['date','country','cases']"
   ]
  },
  {
   "cell_type": "code",
   "execution_count": 27,
   "id": "tender-conversion",
   "metadata": {
    "execution": {
     "iopub.execute_input": "2021-03-15T00:11:58.416075Z",
     "iopub.status.busy": "2021-03-15T00:11:58.415435Z",
     "iopub.status.idle": "2021-03-15T00:11:58.416900Z",
     "shell.execute_reply": "2021-03-15T00:11:58.417437Z"
    },
    "papermill": {
     "duration": 0.606272,
     "end_time": "2021-03-15T00:11:58.417575",
     "exception": false,
     "start_time": "2021-03-15T00:11:57.811303",
     "status": "completed"
    },
    "tags": []
   },
   "outputs": [],
   "source": [
    "#hide\n",
    "# g['continent'] = g.country"
   ]
  },
  {
   "cell_type": "code",
   "execution_count": 28,
   "id": "substantial-wilderness",
   "metadata": {
    "execution": {
     "iopub.execute_input": "2021-03-15T00:11:58.559620Z",
     "iopub.status.busy": "2021-03-15T00:11:58.559022Z",
     "iopub.status.idle": "2021-03-15T00:11:58.561852Z",
     "shell.execute_reply": "2021-03-15T00:11:58.562409Z"
    },
    "papermill": {
     "duration": 0.042294,
     "end_time": "2021-03-15T00:11:58.562552",
     "exception": false,
     "start_time": "2021-03-15T00:11:58.520258",
     "status": "completed"
    },
    "tags": []
   },
   "outputs": [],
   "source": [
    "#hide\n",
    "# cols = list(g.columns.values)"
   ]
  },
  {
   "cell_type": "code",
   "execution_count": 29,
   "id": "solved-farming",
   "metadata": {
    "execution": {
     "iopub.execute_input": "2021-03-15T00:11:58.636017Z",
     "iopub.status.busy": "2021-03-15T00:11:58.635406Z",
     "iopub.status.idle": "2021-03-15T00:11:58.638040Z",
     "shell.execute_reply": "2021-03-15T00:11:58.638538Z"
    },
    "papermill": {
     "duration": 0.041908,
     "end_time": "2021-03-15T00:11:58.638679",
     "exception": false,
     "start_time": "2021-03-15T00:11:58.596771",
     "status": "completed"
    },
    "tags": []
   },
   "outputs": [],
   "source": [
    "#hide\n",
    "# cols.insert(0, cols.pop())"
   ]
  },
  {
   "cell_type": "code",
   "execution_count": 30,
   "id": "executed-adoption",
   "metadata": {
    "execution": {
     "iopub.execute_input": "2021-03-15T00:11:58.711095Z",
     "iopub.status.busy": "2021-03-15T00:11:58.710487Z",
     "iopub.status.idle": "2021-03-15T00:11:58.712922Z",
     "shell.execute_reply": "2021-03-15T00:11:58.712424Z"
    },
    "papermill": {
     "duration": 0.04006,
     "end_time": "2021-03-15T00:11:58.713041",
     "exception": false,
     "start_time": "2021-03-15T00:11:58.672981",
     "status": "completed"
    },
    "tags": []
   },
   "outputs": [],
   "source": [
    "#hide\n",
    "# g = g[cols]"
   ]
  },
  {
   "cell_type": "code",
   "execution_count": 31,
   "id": "subject-dublin",
   "metadata": {
    "execution": {
     "iopub.execute_input": "2021-03-15T00:11:58.785824Z",
     "iopub.status.busy": "2021-03-15T00:11:58.785233Z",
     "iopub.status.idle": "2021-03-15T00:11:58.789585Z",
     "shell.execute_reply": "2021-03-15T00:11:58.789110Z"
    },
    "papermill": {
     "duration": 0.042574,
     "end_time": "2021-03-15T00:11:58.789712",
     "exception": false,
     "start_time": "2021-03-15T00:11:58.747138",
     "status": "completed"
    },
    "tags": []
   },
   "outputs": [],
   "source": [
    "#hide\n",
    "# g['continent'] = g['continent'].map(mapping['map.continent'])"
   ]
  },
  {
   "cell_type": "code",
   "execution_count": 32,
   "id": "freelance-scout",
   "metadata": {
    "execution": {
     "iopub.execute_input": "2021-03-15T00:11:58.863275Z",
     "iopub.status.busy": "2021-03-15T00:11:58.862678Z",
     "iopub.status.idle": "2021-03-15T00:11:58.865824Z",
     "shell.execute_reply": "2021-03-15T00:11:58.865347Z"
    },
    "papermill": {
     "duration": 0.041735,
     "end_time": "2021-03-15T00:11:58.865951",
     "exception": false,
     "start_time": "2021-03-15T00:11:58.824216",
     "status": "completed"
    },
    "tags": []
   },
   "outputs": [],
   "source": [
    "#hide\n",
    "# g.head()"
   ]
  },
  {
   "cell_type": "code",
   "execution_count": 33,
   "id": "limited-engine",
   "metadata": {
    "execution": {
     "iopub.execute_input": "2021-03-15T00:11:58.938419Z",
     "iopub.status.busy": "2021-03-15T00:11:58.937830Z",
     "iopub.status.idle": "2021-03-15T00:11:58.940137Z",
     "shell.execute_reply": "2021-03-15T00:11:58.940699Z"
    },
    "papermill": {
     "duration": 0.040786,
     "end_time": "2021-03-15T00:11:58.940842",
     "exception": false,
     "start_time": "2021-03-15T00:11:58.900056",
     "status": "completed"
    },
    "tags": []
   },
   "outputs": [],
   "source": [
    "# hide\n",
    "# g['date'] = g['date'].astype('datetime64[ns]')"
   ]
  },
  {
   "cell_type": "code",
   "execution_count": 34,
   "id": "sophisticated-supervisor",
   "metadata": {
    "execution": {
     "iopub.execute_input": "2021-03-15T00:11:59.014692Z",
     "iopub.status.busy": "2021-03-15T00:11:59.014090Z",
     "iopub.status.idle": "2021-03-15T00:11:59.016270Z",
     "shell.execute_reply": "2021-03-15T00:11:59.015741Z"
    },
    "papermill": {
     "duration": 0.041189,
     "end_time": "2021-03-15T00:11:59.016394",
     "exception": false,
     "start_time": "2021-03-15T00:11:58.975205",
     "status": "completed"
    },
    "tags": []
   },
   "outputs": [],
   "source": [
    "#hide\n",
    "# g['date'] = g.date.dt.dayofyear"
   ]
  },
  {
   "cell_type": "code",
   "execution_count": 35,
   "id": "inside-dubai",
   "metadata": {
    "execution": {
     "iopub.execute_input": "2021-03-15T00:11:59.089458Z",
     "iopub.status.busy": "2021-03-15T00:11:59.088720Z",
     "iopub.status.idle": "2021-03-15T00:11:59.090144Z",
     "shell.execute_reply": "2021-03-15T00:11:59.090823Z"
    },
    "papermill": {
     "duration": 0.040399,
     "end_time": "2021-03-15T00:11:59.090992",
     "exception": false,
     "start_time": "2021-03-15T00:11:59.050593",
     "status": "completed"
    },
    "tags": []
   },
   "outputs": [],
   "source": [
    "#hide\n",
    "# g = g.rename(columns= {'continent':'group','country':'name','cases':'value'})"
   ]
  },
  {
   "cell_type": "code",
   "execution_count": 36,
   "id": "fleet-motorcycle",
   "metadata": {
    "execution": {
     "iopub.execute_input": "2021-03-15T00:11:59.165335Z",
     "iopub.status.busy": "2021-03-15T00:11:59.164737Z",
     "iopub.status.idle": "2021-03-15T00:11:59.166903Z",
     "shell.execute_reply": "2021-03-15T00:11:59.167400Z"
    },
    "papermill": {
     "duration": 0.041558,
     "end_time": "2021-03-15T00:11:59.167543",
     "exception": false,
     "start_time": "2021-03-15T00:11:59.125985",
     "status": "completed"
    },
    "tags": []
   },
   "outputs": [],
   "source": [
    "#hide\n",
    "# cols = ['name','group','day','value']"
   ]
  },
  {
   "cell_type": "code",
   "execution_count": 37,
   "id": "continued-sleeping",
   "metadata": {
    "execution": {
     "iopub.execute_input": "2021-03-15T00:11:59.240813Z",
     "iopub.status.busy": "2021-03-15T00:11:59.239958Z",
     "iopub.status.idle": "2021-03-15T00:11:59.243248Z",
     "shell.execute_reply": "2021-03-15T00:11:59.243687Z"
    },
    "papermill": {
     "duration": 0.042212,
     "end_time": "2021-03-15T00:11:59.243856",
     "exception": false,
     "start_time": "2021-03-15T00:11:59.201644",
     "status": "completed"
    },
    "tags": []
   },
   "outputs": [],
   "source": [
    "#hide\n",
    "# g.rename(columns= {'date':'day'},inplace = True)"
   ]
  },
  {
   "cell_type": "code",
   "execution_count": 38,
   "id": "major-fight",
   "metadata": {
    "execution": {
     "iopub.execute_input": "2021-03-15T00:11:59.318207Z",
     "iopub.status.busy": "2021-03-15T00:11:59.317171Z",
     "iopub.status.idle": "2021-03-15T00:11:59.319041Z",
     "shell.execute_reply": "2021-03-15T00:11:59.319696Z"
    },
    "papermill": {
     "duration": 0.041534,
     "end_time": "2021-03-15T00:11:59.319860",
     "exception": false,
     "start_time": "2021-03-15T00:11:59.278326",
     "status": "completed"
    },
    "tags": []
   },
   "outputs": [],
   "source": [
    "#hide\n",
    "# g = g[cols]"
   ]
  },
  {
   "cell_type": "code",
   "execution_count": 39,
   "id": "structured-mobile",
   "metadata": {
    "execution": {
     "iopub.execute_input": "2021-03-15T00:11:59.395653Z",
     "iopub.status.busy": "2021-03-15T00:11:59.395061Z",
     "iopub.status.idle": "2021-03-15T00:11:59.397781Z",
     "shell.execute_reply": "2021-03-15T00:11:59.398336Z"
    },
    "papermill": {
     "duration": 0.044283,
     "end_time": "2021-03-15T00:11:59.398479",
     "exception": false,
     "start_time": "2021-03-15T00:11:59.354196",
     "status": "completed"
    },
    "tags": []
   },
   "outputs": [],
   "source": [
    "# #hide\n",
    "# g = g[g.group.notna()]"
   ]
  },
  {
   "cell_type": "code",
   "execution_count": 40,
   "id": "determined-closing",
   "metadata": {
    "execution": {
     "iopub.execute_input": "2021-03-15T00:11:59.471050Z",
     "iopub.status.busy": "2021-03-15T00:11:59.470453Z",
     "iopub.status.idle": "2021-03-15T00:11:59.473274Z",
     "shell.execute_reply": "2021-03-15T00:11:59.472800Z"
    },
    "papermill": {
     "duration": 0.040647,
     "end_time": "2021-03-15T00:11:59.473398",
     "exception": false,
     "start_time": "2021-03-15T00:11:59.432751",
     "status": "completed"
    },
    "tags": []
   },
   "outputs": [],
   "source": [
    "# #hide\n",
    "# colors = dict(zip(\n",
    "#     [\"Oceania\", \"Europe\", \"Asia\", \"South America\", \"Middle East\", \"North America\", \"Africa\"],\n",
    "#     [\"#adb0ff\", \"#ffb3ff\", \"#90d595\", \"#e48381\", \"#aafbff\", \"#f7bb5f\", \"#eafb50\"]\n",
    "# ))\n",
    "# group_lk = g.set_index('name')['group'].to_dict()"
   ]
  },
  {
   "cell_type": "code",
   "execution_count": null,
   "id": "gross-drinking",
   "metadata": {
    "papermill": {
     "duration": 0.034037,
     "end_time": "2021-03-15T00:11:59.541422",
     "exception": false,
     "start_time": "2021-03-15T00:11:59.507385",
     "status": "completed"
    },
    "tags": []
   },
   "outputs": [],
   "source": []
  },
  {
   "cell_type": "code",
   "execution_count": 41,
   "id": "subject-macintosh",
   "metadata": {
    "execution": {
     "iopub.execute_input": "2021-03-15T00:11:59.614517Z",
     "iopub.status.busy": "2021-03-15T00:11:59.613906Z",
     "iopub.status.idle": "2021-03-15T00:11:59.615882Z",
     "shell.execute_reply": "2021-03-15T00:11:59.616343Z"
    },
    "papermill": {
     "duration": 0.040812,
     "end_time": "2021-03-15T00:11:59.616483",
     "exception": false,
     "start_time": "2021-03-15T00:11:59.575671",
     "status": "completed"
    },
    "tags": []
   },
   "outputs": [],
   "source": [
    "# #hide\n",
    "# fig, ax = plt.subplots(figsize=(15, 8))\n",
    "\n",
    "# def draw_barchart(current_day):\n",
    "#     dff = g[g['day'].eq(current_day)].sort_values(by='value', ascending=True).tail(10)\n",
    "#     ax.clear()\n",
    "#     ax.barh(dff['name'], dff['value'], color=[colors[group_lk[x]] for x in dff['name']])\n",
    "#     dx = dff['value'].max() / 200\n",
    "    \n",
    "#     for i, (value, name) in enumerate(zip(dff['value'], dff['name'])):\n",
    "#         ax.text(value-dx, i,     name,           size=14, weight=600, ha='right', va='bottom')\n",
    "#         ax.text(value-dx, i-.25, group_lk[name], size=10, color='#444444', ha='right', va='baseline')\n",
    "#         ax.text(value+dx, i,     f'{value:,.0f}',  size=14, ha='left',  va='center')\n",
    "#     ax.text(1, 0.4, current_day, transform=ax.transAxes, color='#777777', size=46, ha='right', weight=800)\n",
    "#     ax.text(0, 1.06, 'Population (thousands)', transform=ax.transAxes, size=12, color='#777777')\n",
    "#     ax.xaxis.set_major_formatter(ticker.StrMethodFormatter('{x:,.0f}'))\n",
    "#     ax.xaxis.set_ticks_position('top')\n",
    "#     ax.tick_params(axis='x', colors='#777777', labelsize=12)\n",
    "#     ax.set_yticks([])\n",
    "#     ax.margins(0, 0.01)\n",
    "#     ax.grid(which='major', axis='x', linestyle='-')\n",
    "#     ax.set_axisbelow(True)\n",
    "    \n",
    "#     ax.text(0, 1.15, 'Coronavirus',\n",
    "#             transform=ax.transAxes, size=24, weight=600, ha='left', va='top')\n",
    "# #     ax.text(1, 0, 'by @pratapvardhan; credit @jburnmurdoch', transform=ax.transAxes, color='#777777', ha='right',\n",
    "# #             bbox=dict(facecolor='white', alpha=0.8, edgecolor='white'))\n",
    "#     plt.box(False)"
   ]
  },
  {
   "cell_type": "code",
   "execution_count": 42,
   "id": "sexual-wages",
   "metadata": {
    "execution": {
     "iopub.execute_input": "2021-03-15T00:11:59.689949Z",
     "iopub.status.busy": "2021-03-15T00:11:59.689077Z",
     "iopub.status.idle": "2021-03-15T00:11:59.690839Z",
     "shell.execute_reply": "2021-03-15T00:11:59.691506Z"
    },
    "papermill": {
     "duration": 0.040996,
     "end_time": "2021-03-15T00:11:59.691691",
     "exception": false,
     "start_time": "2021-03-15T00:11:59.650695",
     "status": "completed"
    },
    "tags": []
   },
   "outputs": [],
   "source": [
    "# #hide_input\n",
    "# fig, ax = plt.subplots(figsize=(15, 8))\n",
    "# animator = animation.FuncAnimation(fig, draw_barchart, frames=range(g.day.values.min(), g.day.values.max()))\n",
    "# HTML(animator.to_jshtml())\n",
    "# # or use animator.to_html5_video() or animator.save() "
   ]
  },
  {
   "cell_type": "code",
   "execution_count": null,
   "id": "australian-container",
   "metadata": {
    "papermill": {
     "duration": 0.034028,
     "end_time": "2021-03-15T00:11:59.761198",
     "exception": false,
     "start_time": "2021-03-15T00:11:59.727170",
     "status": "completed"
    },
    "tags": []
   },
   "outputs": [],
   "source": []
  },
  {
   "cell_type": "code",
   "execution_count": null,
   "id": "mediterranean-pontiac",
   "metadata": {
    "papermill": {
     "duration": 0.033704,
     "end_time": "2021-03-15T00:11:59.829005",
     "exception": false,
     "start_time": "2021-03-15T00:11:59.795301",
     "status": "completed"
    },
    "tags": []
   },
   "outputs": [],
   "source": []
  },
  {
   "cell_type": "code",
   "execution_count": null,
   "id": "aging-legislature",
   "metadata": {
    "papermill": {
     "duration": 0.033938,
     "end_time": "2021-03-15T00:11:59.897080",
     "exception": false,
     "start_time": "2021-03-15T00:11:59.863142",
     "status": "completed"
    },
    "tags": []
   },
   "outputs": [],
   "source": []
  }
 ],
 "metadata": {
  "kernelspec": {
   "display_name": "Python 3",
   "language": "python",
   "name": "python3"
  },
  "language_info": {
   "codemirror_mode": {
    "name": "ipython",
    "version": 3
   },
   "file_extension": ".py",
   "mimetype": "text/x-python",
   "name": "python",
   "nbconvert_exporter": "python",
   "pygments_lexer": "ipython3",
   "version": "3.6.13"
  },
  "papermill": {
   "duration": 9.390119,
   "end_time": "2021-03-15T00:12:01.320804",
   "environment_variables": {},
   "exception": null,
   "input_path": "2020-03-21-covid19exp.ipynb",
   "output_path": "2020-03-21-covid19exp.ipynb",
   "parameters": {},
   "start_time": "2021-03-15T00:11:51.930685",
   "version": "2.0.0"
  }
 },
 "nbformat": 4,
 "nbformat_minor": 5
}