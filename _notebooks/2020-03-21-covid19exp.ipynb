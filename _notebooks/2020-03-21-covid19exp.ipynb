{
 "cells": [
  {
   "cell_type": "markdown",
   "id": "muslim-click",
   "metadata": {
    "papermill": {
     "duration": 0.041559,
     "end_time": "2022-04-30T12:14:44.777342",
     "exception": false,
     "start_time": "2022-04-30T12:14:44.735783",
     "status": "completed"
    },
    "tags": []
   },
   "source": [
    "# COVID-19 Case Race\n",
    "> A race chart to see rising cases around the world\n",
    "\n",
    "- author: Hargun Oberoi\n",
    "- image: images/covid-overview.png\n",
    "- hide: false\n",
    "- badges: false"
   ]
  },
  {
   "cell_type": "code",
   "execution_count": 1,
   "id": "proof-material",
   "metadata": {
    "execution": {
     "iopub.execute_input": "2022-04-30T12:14:44.871402Z",
     "iopub.status.busy": "2022-04-30T12:14:44.870673Z",
     "iopub.status.idle": "2022-04-30T12:14:45.314468Z",
     "shell.execute_reply": "2022-04-30T12:14:45.313036Z"
    },
    "papermill": {
     "duration": 0.493742,
     "end_time": "2022-04-30T12:14:45.314793",
     "exception": false,
     "start_time": "2022-04-30T12:14:44.821051",
     "status": "completed"
    },
    "tags": []
   },
   "outputs": [],
   "source": [
    "#hide\n",
    "import numpy as np\n",
    "import pandas as pd\n",
    "from jinja2 import Template\n",
    "from IPython.display import HTML"
   ]
  },
  {
   "cell_type": "code",
   "execution_count": 2,
   "id": "developed-terminology",
   "metadata": {
    "execution": {
     "iopub.execute_input": "2022-04-30T12:14:45.401724Z",
     "iopub.status.busy": "2022-04-30T12:14:45.401122Z",
     "iopub.status.idle": "2022-04-30T12:14:45.403006Z",
     "shell.execute_reply": "2022-04-30T12:14:45.402421Z"
    },
    "papermill": {
     "duration": 0.046201,
     "end_time": "2022-04-30T12:14:45.403133",
     "exception": false,
     "start_time": "2022-04-30T12:14:45.356932",
     "status": "completed"
    },
    "tags": []
   },
   "outputs": [],
   "source": [
    "#hide\n",
    "\n",
    "# FETCH\n",
    "base_url = 'https://raw.githubusercontent.com/pratapvardhan/notebooks/master/covid19/'\n",
    "paths = {\n",
    "    'mapping': base_url + 'mapping_countries.csv',\n",
    "    'overview': base_url + 'overview.tpl'\n",
    "}"
   ]
  },
  {
   "cell_type": "code",
   "execution_count": 3,
   "id": "dynamic-saver",
   "metadata": {
    "execution": {
     "iopub.execute_input": "2022-04-30T12:14:45.500970Z",
     "iopub.status.busy": "2022-04-30T12:14:45.500352Z",
     "iopub.status.idle": "2022-04-30T12:14:45.503444Z",
     "shell.execute_reply": "2022-04-30T12:14:45.503962Z"
    },
    "papermill": {
     "duration": 0.055267,
     "end_time": "2022-04-30T12:14:45.504140",
     "exception": false,
     "start_time": "2022-04-30T12:14:45.448873",
     "status": "completed"
    },
    "tags": []
   },
   "outputs": [
    {
     "data": {
      "text/plain": [
       "'https://raw.githubusercontent.com/pratapvardhan/notebooks/master/covid19/mapping_countries.csv'"
      ]
     },
     "execution_count": 3,
     "metadata": {},
     "output_type": "execute_result"
    }
   ],
   "source": [
    "#hide\n",
    "paths['mapping']"
   ]
  },
  {
   "cell_type": "code",
   "execution_count": 4,
   "id": "urban-software",
   "metadata": {
    "execution": {
     "iopub.execute_input": "2022-04-30T12:14:45.590893Z",
     "iopub.status.busy": "2022-04-30T12:14:45.590210Z",
     "iopub.status.idle": "2022-04-30T12:14:45.594936Z",
     "shell.execute_reply": "2022-04-30T12:14:45.594342Z"
    },
    "papermill": {
     "duration": 0.05118,
     "end_time": "2022-04-30T12:14:45.595075",
     "exception": false,
     "start_time": "2022-04-30T12:14:45.543895",
     "status": "completed"
    },
    "tags": []
   },
   "outputs": [],
   "source": [
    "#hide\n",
    "def get_mappings(url):\n",
    "    df = pd.read_csv(url)\n",
    "    return {\n",
    "        'df': df,\n",
    "        'replace.country': dict(df.dropna(subset=['Name']).set_index('Country')['Name']),\n",
    "        'map.continent': dict(df.set_index('Name')['Continent'])\n",
    "    }"
   ]
  },
  {
   "cell_type": "code",
   "execution_count": 5,
   "id": "intimate-machinery",
   "metadata": {
    "execution": {
     "iopub.execute_input": "2022-04-30T12:14:45.696754Z",
     "iopub.status.busy": "2022-04-30T12:14:45.696019Z",
     "iopub.status.idle": "2022-04-30T12:14:45.729183Z",
     "shell.execute_reply": "2022-04-30T12:14:45.728478Z"
    },
    "papermill": {
     "duration": 0.086621,
     "end_time": "2022-04-30T12:14:45.729418",
     "exception": false,
     "start_time": "2022-04-30T12:14:45.642797",
     "status": "completed"
    },
    "tags": []
   },
   "outputs": [],
   "source": [
    "#hide\n",
    "mapping = get_mappings(paths['mapping'])"
   ]
  },
  {
   "cell_type": "code",
   "execution_count": 6,
   "id": "certified-tactics",
   "metadata": {
    "execution": {
     "iopub.execute_input": "2022-04-30T12:14:45.814576Z",
     "iopub.status.busy": "2022-04-30T12:14:45.813680Z",
     "iopub.status.idle": "2022-04-30T12:14:45.819029Z",
     "shell.execute_reply": "2022-04-30T12:14:45.819579Z"
    },
    "papermill": {
     "duration": 0.050555,
     "end_time": "2022-04-30T12:14:45.819750",
     "exception": false,
     "start_time": "2022-04-30T12:14:45.769195",
     "status": "completed"
    },
    "tags": []
   },
   "outputs": [],
   "source": [
    "#hide\n",
    "def get_template(path):\n",
    "    from urllib.parse import urlparse\n",
    "    if bool(urlparse(path).netloc):\n",
    "        from urllib.request import urlopen\n",
    "        return urlopen(path).read().decode('utf8')\n",
    "    return open(path).read()"
   ]
  },
  {
   "cell_type": "code",
   "execution_count": 7,
   "id": "realistic-blast",
   "metadata": {
    "execution": {
     "iopub.execute_input": "2022-04-30T12:14:45.900702Z",
     "iopub.status.busy": "2022-04-30T12:14:45.900046Z",
     "iopub.status.idle": "2022-04-30T12:14:45.902222Z",
     "shell.execute_reply": "2022-04-30T12:14:45.902908Z"
    },
    "papermill": {
     "duration": 0.045225,
     "end_time": "2022-04-30T12:14:45.903133",
     "exception": false,
     "start_time": "2022-04-30T12:14:45.857908",
     "status": "completed"
    },
    "tags": []
   },
   "outputs": [],
   "source": [
    "#hide\n",
    "def get_frame(name):\n",
    "    url = (\n",
    "        'https://raw.githubusercontent.com/CSSEGISandData/COVID-19/master/csse_covid_19_data/'\n",
    "        f'csse_covid_19_time_series/time_series_covid19_{name}_global.csv')\n",
    "    df = pd.read_csv(url)\n",
    "    # rename countries\n",
    "    df['Country/Region'] = df['Country/Region'].replace(mapping['replace.country'])\n",
    "    return df"
   ]
  },
  {
   "cell_type": "code",
   "execution_count": 8,
   "id": "affiliated-characterization",
   "metadata": {
    "execution": {
     "iopub.execute_input": "2022-04-30T12:14:45.989351Z",
     "iopub.status.busy": "2022-04-30T12:14:45.988607Z",
     "iopub.status.idle": "2022-04-30T12:14:45.992222Z",
     "shell.execute_reply": "2022-04-30T12:14:45.991670Z"
    },
    "papermill": {
     "duration": 0.049957,
     "end_time": "2022-04-30T12:14:45.992370",
     "exception": false,
     "start_time": "2022-04-30T12:14:45.942413",
     "status": "completed"
    },
    "tags": []
   },
   "outputs": [],
   "source": [
    "#hide\n",
    "def get_dates(df):\n",
    "    dt_cols = df.columns[~df.columns.isin(['Province/State', 'Country/Region', 'Lat', 'Long'])]\n",
    "    LAST_DATE_I = -1\n",
    "    # sometimes last column may be empty, then go backwards\n",
    "    for i in range(-1, -len(dt_cols), -1):\n",
    "        if not df[dt_cols[i]].fillna(0).eq(0).all():\n",
    "            LAST_DATE_I = i\n",
    "            break\n",
    "    return LAST_DATE_I, dt_cols"
   ]
  },
  {
   "cell_type": "code",
   "execution_count": 9,
   "id": "recent-optimization",
   "metadata": {
    "execution": {
     "iopub.execute_input": "2022-04-30T12:14:46.082973Z",
     "iopub.status.busy": "2022-04-30T12:14:46.082227Z",
     "iopub.status.idle": "2022-04-30T12:14:46.534265Z",
     "shell.execute_reply": "2022-04-30T12:14:46.533669Z"
    },
    "papermill": {
     "duration": 0.498266,
     "end_time": "2022-04-30T12:14:46.534425",
     "exception": false,
     "start_time": "2022-04-30T12:14:46.036159",
     "status": "completed"
    },
    "tags": []
   },
   "outputs": [],
   "source": [
    "#hide\n",
    "COL_REGION = 'Country/Region'\n",
    "# Confirmed, Recovered, Deaths\n",
    "df = get_frame('confirmed')\n",
    "# dft_: timeseries, dfc_: today country agg\n",
    "dft_cases = df\n",
    "dft_deaths = get_frame('deaths')\n",
    "dft_recovered = get_frame('recovered')\n",
    "LAST_DATE_I, dt_cols = get_dates(df)"
   ]
  },
  {
   "cell_type": "code",
   "execution_count": 10,
   "id": "absolute-copper",
   "metadata": {
    "execution": {
     "iopub.execute_input": "2022-04-30T12:14:46.637145Z",
     "iopub.status.busy": "2022-04-30T12:14:46.636490Z",
     "iopub.status.idle": "2022-04-30T12:14:46.639695Z",
     "shell.execute_reply": "2022-04-30T12:14:46.640149Z"
    },
    "papermill": {
     "duration": 0.054218,
     "end_time": "2022-04-30T12:14:46.640351",
     "exception": false,
     "start_time": "2022-04-30T12:14:46.586133",
     "status": "completed"
    },
    "tags": []
   },
   "outputs": [],
   "source": [
    "#hide\n",
    "LAST_DATE_I, dt_cols = get_dates(df)\n",
    "dt_today =dt_cols[LAST_DATE_I]\n",
    "# dt_5day = dt_cols[LAST_DATE_I - 5]\n",
    "dt_yday = dt_cols[LAST_DATE_I - 1]"
   ]
  },
  {
   "cell_type": "code",
   "execution_count": 11,
   "id": "restricted-sheriff",
   "metadata": {
    "execution": {
     "iopub.execute_input": "2022-04-30T12:14:46.728709Z",
     "iopub.status.busy": "2022-04-30T12:14:46.728036Z",
     "iopub.status.idle": "2022-04-30T12:14:46.734023Z",
     "shell.execute_reply": "2022-04-30T12:14:46.733314Z"
    },
    "papermill": {
     "duration": 0.055783,
     "end_time": "2022-04-30T12:14:46.734171",
     "exception": false,
     "start_time": "2022-04-30T12:14:46.678388",
     "status": "completed"
    },
    "tags": []
   },
   "outputs": [],
   "source": [
    "#hide\n",
    "dfc_cases = dft_cases.groupby(COL_REGION)[dt_today].sum()\n",
    "dfc_deaths = dft_deaths.groupby(COL_REGION)[dt_today].sum()\n",
    "# dfp_cases = dft_cases.groupby(COL_REGION)[dt_5day].sum()\n",
    "# dfp_deaths = dft_deaths.groupby(COL_REGION)[dt_5day].sum()\n",
    "dfp_cases = dft_cases.groupby(COL_REGION)[dt_yday].sum()\n",
    "dfp_deaths = dft_deaths.groupby(COL_REGION)[dt_yday].sum()"
   ]
  },
  {
   "cell_type": "code",
   "execution_count": 12,
   "id": "deluxe-hepatitis",
   "metadata": {
    "execution": {
     "iopub.execute_input": "2022-04-30T12:14:46.823677Z",
     "iopub.status.busy": "2022-04-30T12:14:46.822812Z",
     "iopub.status.idle": "2022-04-30T12:14:46.831455Z",
     "shell.execute_reply": "2022-04-30T12:14:46.832029Z"
    },
    "papermill": {
     "duration": 0.059016,
     "end_time": "2022-04-30T12:14:46.832232",
     "exception": false,
     "start_time": "2022-04-30T12:14:46.773216",
     "status": "completed"
    },
    "tags": []
   },
   "outputs": [],
   "source": [
    "#hide\n",
    "df_table = (pd.DataFrame(dict(Cases = dfc_cases, Deaths = dfc_deaths, PCases = dfp_cases, PDeaths = dfp_deaths))\n",
    "            .sort_values(by = ['Cases','Deaths'], ascending = [False, False])\n",
    "            .reset_index())"
   ]
  },
  {
   "cell_type": "code",
   "execution_count": 13,
   "id": "educational-chancellor",
   "metadata": {
    "execution": {
     "iopub.execute_input": "2022-04-30T12:14:46.935270Z",
     "iopub.status.busy": "2022-04-30T12:14:46.934517Z",
     "iopub.status.idle": "2022-04-30T12:14:46.955767Z",
     "shell.execute_reply": "2022-04-30T12:14:46.955126Z"
    },
    "papermill": {
     "duration": 0.078053,
     "end_time": "2022-04-30T12:14:46.955903",
     "exception": false,
     "start_time": "2022-04-30T12:14:46.877850",
     "status": "completed"
    },
    "tags": []
   },
   "outputs": [
    {
     "data": {
      "text/html": [
       "<div>\n",
       "<style scoped>\n",
       "    .dataframe tbody tr th:only-of-type {\n",
       "        vertical-align: middle;\n",
       "    }\n",
       "\n",
       "    .dataframe tbody tr th {\n",
       "        vertical-align: top;\n",
       "    }\n",
       "\n",
       "    .dataframe thead th {\n",
       "        text-align: right;\n",
       "    }\n",
       "</style>\n",
       "<table border=\"1\" class=\"dataframe\">\n",
       "  <thead>\n",
       "    <tr style=\"text-align: right;\">\n",
       "      <th></th>\n",
       "      <th>Country/Region</th>\n",
       "      <th>Cases</th>\n",
       "      <th>Deaths</th>\n",
       "      <th>PCases</th>\n",
       "      <th>PDeaths</th>\n",
       "      <th>Cases (+)</th>\n",
       "      <th>Deaths (+)</th>\n",
       "      <th>Fatality Rate</th>\n",
       "      <th>Continent</th>\n",
       "    </tr>\n",
       "  </thead>\n",
       "  <tbody>\n",
       "    <tr>\n",
       "      <th>0</th>\n",
       "      <td>US</td>\n",
       "      <td>81325716</td>\n",
       "      <td>993588</td>\n",
       "      <td>81251631</td>\n",
       "      <td>993164</td>\n",
       "      <td>74085</td>\n",
       "      <td>424</td>\n",
       "      <td>1.22</td>\n",
       "      <td>North America</td>\n",
       "    </tr>\n",
       "    <tr>\n",
       "      <th>1</th>\n",
       "      <td>India</td>\n",
       "      <td>43075864</td>\n",
       "      <td>523803</td>\n",
       "      <td>43072176</td>\n",
       "      <td>523753</td>\n",
       "      <td>3688</td>\n",
       "      <td>50</td>\n",
       "      <td>1.22</td>\n",
       "      <td>Asia</td>\n",
       "    </tr>\n",
       "    <tr>\n",
       "      <th>2</th>\n",
       "      <td>Brazil</td>\n",
       "      <td>30433042</td>\n",
       "      <td>663649</td>\n",
       "      <td>30418920</td>\n",
       "      <td>663464</td>\n",
       "      <td>14122</td>\n",
       "      <td>185</td>\n",
       "      <td>2.18</td>\n",
       "      <td>South America</td>\n",
       "    </tr>\n",
       "    <tr>\n",
       "      <th>3</th>\n",
       "      <td>France</td>\n",
       "      <td>28786413</td>\n",
       "      <td>146906</td>\n",
       "      <td>28733434</td>\n",
       "      <td>146748</td>\n",
       "      <td>52979</td>\n",
       "      <td>158</td>\n",
       "      <td>0.51</td>\n",
       "      <td>Europe</td>\n",
       "    </tr>\n",
       "    <tr>\n",
       "      <th>4</th>\n",
       "      <td>Germany</td>\n",
       "      <td>24798067</td>\n",
       "      <td>135451</td>\n",
       "      <td>24710769</td>\n",
       "      <td>135292</td>\n",
       "      <td>87298</td>\n",
       "      <td>159</td>\n",
       "      <td>0.55</td>\n",
       "      <td>Europe</td>\n",
       "    </tr>\n",
       "  </tbody>\n",
       "</table>\n",
       "</div>"
      ],
      "text/plain": [
       "  Country/Region     Cases  Deaths    PCases  PDeaths  Cases (+)  Deaths (+)  \\\n",
       "0             US  81325716  993588  81251631   993164      74085         424   \n",
       "1          India  43075864  523803  43072176   523753       3688          50   \n",
       "2         Brazil  30433042  663649  30418920   663464      14122         185   \n",
       "3         France  28786413  146906  28733434   146748      52979         158   \n",
       "4        Germany  24798067  135451  24710769   135292      87298         159   \n",
       "\n",
       "   Fatality Rate      Continent  \n",
       "0           1.22  North America  \n",
       "1           1.22           Asia  \n",
       "2           2.18  South America  \n",
       "3           0.51         Europe  \n",
       "4           0.55         Europe  "
      ]
     },
     "execution_count": 13,
     "metadata": {},
     "output_type": "execute_result"
    }
   ],
   "source": [
    "#hide\n",
    "for c in 'Cases, Deaths'.split(', '):\n",
    "    df_table[f'{c} (+)'] = (df_table[c] - df_table[f'P{c}']).clip(0)\n",
    "    #Clip ça veut dire, les chiffres negatif sont interdit\n",
    "df_table['Fatality Rate'] = (100* df_table['Deaths']/ df_table['Cases']).round(2)\n",
    "df_table['Continent'] = df_table['Country/Region'].map(mapping['map.continent'])\n",
    "df_table.head(5)"
   ]
  },
  {
   "cell_type": "code",
   "execution_count": 14,
   "id": "aboriginal-bulgaria",
   "metadata": {
    "execution": {
     "iopub.execute_input": "2022-04-30T12:14:47.041196Z",
     "iopub.status.busy": "2022-04-30T12:14:47.040468Z",
     "iopub.status.idle": "2022-04-30T12:14:47.041831Z",
     "shell.execute_reply": "2022-04-30T12:14:47.042495Z"
    },
    "papermill": {
     "duration": 0.047872,
     "end_time": "2022-04-30T12:14:47.042631",
     "exception": false,
     "start_time": "2022-04-30T12:14:46.994759",
     "status": "completed"
    },
    "tags": []
   },
   "outputs": [],
   "source": [
    "#hide\n",
    "#delete problematic countries from table\n",
    "df_table = df_table[~df_table['Country/Region'].isin(['Cape Verde', 'Cruise Ship', 'Kosovo'])]"
   ]
  },
  {
   "cell_type": "code",
   "execution_count": 15,
   "id": "fantastic-effect",
   "metadata": {
    "execution": {
     "iopub.execute_input": "2022-04-30T12:14:47.131822Z",
     "iopub.status.busy": "2022-04-30T12:14:47.130964Z",
     "iopub.status.idle": "2022-04-30T12:14:47.154144Z",
     "shell.execute_reply": "2022-04-30T12:14:47.153639Z"
    },
    "papermill": {
     "duration": 0.071972,
     "end_time": "2022-04-30T12:14:47.154275",
     "exception": false,
     "start_time": "2022-04-30T12:14:47.082303",
     "status": "completed"
    },
    "tags": []
   },
   "outputs": [
    {
     "data": {
      "text/html": [
       "<div>\n",
       "<style scoped>\n",
       "    .dataframe tbody tr th:only-of-type {\n",
       "        vertical-align: middle;\n",
       "    }\n",
       "\n",
       "    .dataframe tbody tr th {\n",
       "        vertical-align: top;\n",
       "    }\n",
       "\n",
       "    .dataframe thead th {\n",
       "        text-align: right;\n",
       "    }\n",
       "</style>\n",
       "<table border=\"1\" class=\"dataframe\">\n",
       "  <thead>\n",
       "    <tr style=\"text-align: right;\">\n",
       "      <th></th>\n",
       "      <th>Country/Region</th>\n",
       "      <th>Cases</th>\n",
       "      <th>Deaths</th>\n",
       "      <th>PCases</th>\n",
       "      <th>PDeaths</th>\n",
       "      <th>Cases (+)</th>\n",
       "      <th>Deaths (+)</th>\n",
       "      <th>Fatality Rate</th>\n",
       "      <th>Continent</th>\n",
       "    </tr>\n",
       "  </thead>\n",
       "  <tbody>\n",
       "    <tr>\n",
       "      <th>0</th>\n",
       "      <td>US</td>\n",
       "      <td>81325716</td>\n",
       "      <td>993588</td>\n",
       "      <td>81251631</td>\n",
       "      <td>993164</td>\n",
       "      <td>74085</td>\n",
       "      <td>424</td>\n",
       "      <td>1.2</td>\n",
       "      <td>North America</td>\n",
       "    </tr>\n",
       "    <tr>\n",
       "      <th>1</th>\n",
       "      <td>India</td>\n",
       "      <td>43075864</td>\n",
       "      <td>523803</td>\n",
       "      <td>43072176</td>\n",
       "      <td>523753</td>\n",
       "      <td>3688</td>\n",
       "      <td>50</td>\n",
       "      <td>1.2</td>\n",
       "      <td>Asia</td>\n",
       "    </tr>\n",
       "    <tr>\n",
       "      <th>2</th>\n",
       "      <td>Brazil</td>\n",
       "      <td>30433042</td>\n",
       "      <td>663649</td>\n",
       "      <td>30418920</td>\n",
       "      <td>663464</td>\n",
       "      <td>14122</td>\n",
       "      <td>185</td>\n",
       "      <td>2.2</td>\n",
       "      <td>South America</td>\n",
       "    </tr>\n",
       "    <tr>\n",
       "      <th>3</th>\n",
       "      <td>France</td>\n",
       "      <td>28786413</td>\n",
       "      <td>146906</td>\n",
       "      <td>28733434</td>\n",
       "      <td>146748</td>\n",
       "      <td>52979</td>\n",
       "      <td>158</td>\n",
       "      <td>0.5</td>\n",
       "      <td>Europe</td>\n",
       "    </tr>\n",
       "    <tr>\n",
       "      <th>4</th>\n",
       "      <td>Germany</td>\n",
       "      <td>24798067</td>\n",
       "      <td>135451</td>\n",
       "      <td>24710769</td>\n",
       "      <td>135292</td>\n",
       "      <td>87298</td>\n",
       "      <td>159</td>\n",
       "      <td>0.5</td>\n",
       "      <td>Europe</td>\n",
       "    </tr>\n",
       "  </tbody>\n",
       "</table>\n",
       "</div>"
      ],
      "text/plain": [
       "  Country/Region     Cases  Deaths    PCases  PDeaths  Cases (+)  Deaths (+)  \\\n",
       "0             US  81325716  993588  81251631   993164      74085         424   \n",
       "1          India  43075864  523803  43072176   523753       3688          50   \n",
       "2         Brazil  30433042  663649  30418920   663464      14122         185   \n",
       "3         France  28786413  146906  28733434   146748      52979         158   \n",
       "4        Germany  24798067  135451  24710769   135292      87298         159   \n",
       "\n",
       "   Fatality Rate      Continent  \n",
       "0            1.2  North America  \n",
       "1            1.2           Asia  \n",
       "2            2.2  South America  \n",
       "3            0.5         Europe  \n",
       "4            0.5         Europe  "
      ]
     },
     "execution_count": 15,
     "metadata": {},
     "output_type": "execute_result"
    }
   ],
   "source": [
    "#hide\n",
    "df_table = (pd.DataFrame(dict(Cases=dfc_cases, Deaths=dfc_deaths, PCases=dfp_cases, PDeaths=dfp_deaths))\n",
    "             .sort_values(by=['Cases', 'Deaths'], ascending=[False, False])\n",
    "             .reset_index())\n",
    "df_table.rename(columns={'index': 'Country/Region'}, inplace=True)\n",
    "for c in 'Cases, Deaths'.split(', '):\n",
    "    df_table[f'{c} (+)'] = (df_table[c] - df_table[f'P{c}']).clip(0)  # DATA BUG\n",
    "df_table['Fatality Rate'] = (100 * df_table['Deaths'] / df_table['Cases']).round(1)\n",
    "df_table['Continent'] = df_table['Country/Region'].map(mapping['map.continent'])\n",
    "df_table.head(5)"
   ]
  },
  {
   "cell_type": "code",
   "execution_count": 16,
   "id": "fewer-occasion",
   "metadata": {
    "execution": {
     "iopub.execute_input": "2022-04-30T12:14:47.242449Z",
     "iopub.status.busy": "2022-04-30T12:14:47.241722Z",
     "iopub.status.idle": "2022-04-30T12:14:47.243701Z",
     "shell.execute_reply": "2022-04-30T12:14:47.244184Z"
    },
    "papermill": {
     "duration": 0.050426,
     "end_time": "2022-04-30T12:14:47.244328",
     "exception": false,
     "start_time": "2022-04-30T12:14:47.193902",
     "status": "completed"
    },
    "tags": []
   },
   "outputs": [],
   "source": [
    "#hide\n",
    "#delete problematic countries from table\n",
    "df_table = df_table[~df_table['Country/Region'].isin(['Cape Verde', 'Cruise Ship', 'Kosovo'])]"
   ]
  },
  {
   "cell_type": "code",
   "execution_count": 17,
   "id": "related-center",
   "metadata": {
    "execution": {
     "iopub.execute_input": "2022-04-30T12:14:47.350002Z",
     "iopub.status.busy": "2022-04-30T12:14:47.349245Z",
     "iopub.status.idle": "2022-04-30T12:14:47.351604Z",
     "shell.execute_reply": "2022-04-30T12:14:47.352224Z"
    },
    "papermill": {
     "duration": 0.066981,
     "end_time": "2022-04-30T12:14:47.352398",
     "exception": false,
     "start_time": "2022-04-30T12:14:47.285417",
     "status": "completed"
    },
    "tags": []
   },
   "outputs": [],
   "source": [
    "#hide\n",
    "metrics = [df_table.columns[index] for index in [1,2,5,6]]\n",
    "# s_china = df_table[df_table['Country/Region'].eq('China')][metrics].sum().add_prefix('China ')\n",
    "s_us = df_table[df_table['Country/Region'].eq('US')][metrics].sum().add_prefix('US ')\n",
    "s_eu = df_table[df_table['Continent'].eq('Europe')][metrics].sum().add_prefix('EU ')\n",
    "s_ind = df_table[df_table['Country/Region'].eq('India')][metrics].sum().add_prefix('India ')\n",
    "summary = {'updated': pd.to_datetime(dt_today), 'since': pd.to_datetime(dt_yday)}\n",
    "summary = {'updated': pd.to_datetime(dt_today), 'since': pd.to_datetime(dt_yday)}\n",
    "summary = {**summary, **df_table[metrics].sum(), **s_ind, **s_us, **s_eu}"
   ]
  },
  {
   "cell_type": "code",
   "execution_count": 18,
   "id": "engaging-syndrome",
   "metadata": {
    "execution": {
     "iopub.execute_input": "2022-04-30T12:14:47.434832Z",
     "iopub.status.busy": "2022-04-30T12:14:47.434005Z",
     "iopub.status.idle": "2022-04-30T12:14:47.454285Z",
     "shell.execute_reply": "2022-04-30T12:14:47.453779Z"
    },
    "papermill": {
     "duration": 0.062778,
     "end_time": "2022-04-30T12:14:47.454424",
     "exception": false,
     "start_time": "2022-04-30T12:14:47.391646",
     "status": "completed"
    },
    "tags": []
   },
   "outputs": [],
   "source": [
    "#hide\n",
    "dft_ct_new_cases = dft_cases.groupby(COL_REGION)[dt_cols].sum().diff(axis=1).fillna(0).astype(int)"
   ]
  },
  {
   "cell_type": "code",
   "execution_count": 19,
   "id": "neutral-assignment",
   "metadata": {
    "execution": {
     "iopub.execute_input": "2022-04-30T12:14:47.542435Z",
     "iopub.status.busy": "2022-04-30T12:14:47.541761Z",
     "iopub.status.idle": "2022-04-30T12:14:47.544018Z",
     "shell.execute_reply": "2022-04-30T12:14:47.544535Z"
    },
    "papermill": {
     "duration": 0.050529,
     "end_time": "2022-04-30T12:14:47.544685",
     "exception": false,
     "start_time": "2022-04-30T12:14:47.494156",
     "status": "completed"
    },
    "tags": []
   },
   "outputs": [],
   "source": [
    "#hide\n",
    "everydaycases = dft_ct_new_cases.cumsum(axis=1)"
   ]
  },
  {
   "cell_type": "code",
   "execution_count": 20,
   "id": "parliamentary-calgary",
   "metadata": {
    "execution": {
     "iopub.execute_input": "2022-04-30T12:14:47.628389Z",
     "iopub.status.busy": "2022-04-30T12:14:47.627548Z",
     "iopub.status.idle": "2022-04-30T12:14:48.368040Z",
     "shell.execute_reply": "2022-04-30T12:14:48.366396Z"
    },
    "papermill": {
     "duration": 0.785835,
     "end_time": "2022-04-30T12:14:48.368219",
     "exception": false,
     "start_time": "2022-04-30T12:14:47.582384",
     "status": "completed"
    },
    "tags": []
   },
   "outputs": [],
   "source": [
    "#hide\n",
    "import pandas as pd\n",
    "import matplotlib.pyplot as plt\n",
    "import matplotlib.ticker as ticker\n",
    "import matplotlib.animation as animation\n",
    "from IPython.display import HTML"
   ]
  },
  {
   "cell_type": "code",
   "execution_count": 21,
   "id": "lasting-extraction",
   "metadata": {
    "execution": {
     "iopub.execute_input": "2022-04-30T12:14:48.466882Z",
     "iopub.status.busy": "2022-04-30T12:14:48.466096Z",
     "iopub.status.idle": "2022-04-30T12:14:48.473269Z",
     "shell.execute_reply": "2022-04-30T12:14:48.474108Z"
    },
    "papermill": {
     "duration": 0.062094,
     "end_time": "2022-04-30T12:14:48.474275",
     "exception": false,
     "start_time": "2022-04-30T12:14:48.412181",
     "status": "completed"
    },
    "tags": []
   },
   "outputs": [],
   "source": [
    "#hide\n",
    "t = everydaycases.stack()"
   ]
  },
  {
   "cell_type": "code",
   "execution_count": 22,
   "id": "premier-sleeve",
   "metadata": {
    "execution": {
     "iopub.execute_input": "2022-04-30T12:14:48.560820Z",
     "iopub.status.busy": "2022-04-30T12:14:48.560124Z",
     "iopub.status.idle": "2022-04-30T12:14:48.573882Z",
     "shell.execute_reply": "2022-04-30T12:14:48.573102Z"
    },
    "papermill": {
     "duration": 0.058345,
     "end_time": "2022-04-30T12:14:48.574012",
     "exception": false,
     "start_time": "2022-04-30T12:14:48.515667",
     "status": "completed"
    },
    "tags": []
   },
   "outputs": [],
   "source": [
    "#hide\n",
    "g = t.reset_index(['Country/Region'])"
   ]
  },
  {
   "cell_type": "code",
   "execution_count": 23,
   "id": "distributed-pittsburgh",
   "metadata": {
    "execution": {
     "iopub.execute_input": "2022-04-30T12:14:48.664108Z",
     "iopub.status.busy": "2022-04-30T12:14:48.663397Z",
     "iopub.status.idle": "2022-04-30T12:14:48.665732Z",
     "shell.execute_reply": "2022-04-30T12:14:48.666810Z"
    },
    "papermill": {
     "duration": 0.052056,
     "end_time": "2022-04-30T12:14:48.666966",
     "exception": false,
     "start_time": "2022-04-30T12:14:48.614910",
     "status": "completed"
    },
    "tags": []
   },
   "outputs": [],
   "source": [
    "#hide\n",
    "g.index.name = 'date'"
   ]
  },
  {
   "cell_type": "code",
   "execution_count": 24,
   "id": "naked-donor",
   "metadata": {
    "execution": {
     "iopub.execute_input": "2022-04-30T12:14:48.763611Z",
     "iopub.status.busy": "2022-04-30T12:14:48.762881Z",
     "iopub.status.idle": "2022-04-30T12:14:48.765583Z",
     "shell.execute_reply": "2022-04-30T12:14:48.764878Z"
    },
    "papermill": {
     "duration": 0.053915,
     "end_time": "2022-04-30T12:14:48.765713",
     "exception": false,
     "start_time": "2022-04-30T12:14:48.711798",
     "status": "completed"
    },
    "tags": []
   },
   "outputs": [],
   "source": [
    "# #hide\n",
    "# g = g.reset_index(['date'])"
   ]
  },
  {
   "cell_type": "code",
   "execution_count": 25,
   "id": "incomplete-mustang",
   "metadata": {
    "execution": {
     "iopub.execute_input": "2022-04-30T12:14:48.851131Z",
     "iopub.status.busy": "2022-04-30T12:14:48.850402Z",
     "iopub.status.idle": "2022-04-30T12:14:48.854337Z",
     "shell.execute_reply": "2022-04-30T12:14:48.854905Z"
    },
    "papermill": {
     "duration": 0.050392,
     "end_time": "2022-04-30T12:14:48.855123",
     "exception": false,
     "start_time": "2022-04-30T12:14:48.804731",
     "status": "completed"
    },
    "tags": []
   },
   "outputs": [],
   "source": [
    "#hide\n",
    "# g.head()"
   ]
  },
  {
   "cell_type": "code",
   "execution_count": 26,
   "id": "specific-kruger",
   "metadata": {
    "execution": {
     "iopub.execute_input": "2022-04-30T12:14:48.940456Z",
     "iopub.status.busy": "2022-04-30T12:14:48.939648Z",
     "iopub.status.idle": "2022-04-30T12:14:48.944807Z",
     "shell.execute_reply": "2022-04-30T12:14:48.944263Z"
    },
    "papermill": {
     "duration": 0.049672,
     "end_time": "2022-04-30T12:14:48.944994",
     "exception": false,
     "start_time": "2022-04-30T12:14:48.895322",
     "status": "completed"
    },
    "tags": []
   },
   "outputs": [],
   "source": [
    "#hide\n",
    "# g.columns = ['date','country','cases']"
   ]
  },
  {
   "cell_type": "code",
   "execution_count": 27,
   "id": "tender-conversion",
   "metadata": {
    "execution": {
     "iopub.execute_input": "2022-04-30T12:14:49.037643Z",
     "iopub.status.busy": "2022-04-30T12:14:49.036907Z",
     "iopub.status.idle": "2022-04-30T12:14:49.039007Z",
     "shell.execute_reply": "2022-04-30T12:14:49.038436Z"
    },
    "papermill": {
     "duration": 0.048534,
     "end_time": "2022-04-30T12:14:49.039126",
     "exception": false,
     "start_time": "2022-04-30T12:14:48.990592",
     "status": "completed"
    },
    "tags": []
   },
   "outputs": [],
   "source": [
    "#hide\n",
    "# g['continent'] = g.country"
   ]
  },
  {
   "cell_type": "code",
   "execution_count": 28,
   "id": "substantial-wilderness",
   "metadata": {
    "execution": {
     "iopub.execute_input": "2022-04-30T12:14:49.124560Z",
     "iopub.status.busy": "2022-04-30T12:14:49.123955Z",
     "iopub.status.idle": "2022-04-30T12:14:49.128088Z",
     "shell.execute_reply": "2022-04-30T12:14:49.128652Z"
    },
    "papermill": {
     "duration": 0.047922,
     "end_time": "2022-04-30T12:14:49.128861",
     "exception": false,
     "start_time": "2022-04-30T12:14:49.080939",
     "status": "completed"
    },
    "tags": []
   },
   "outputs": [],
   "source": [
    "#hide\n",
    "# cols = list(g.columns.values)"
   ]
  },
  {
   "cell_type": "code",
   "execution_count": 29,
   "id": "solved-farming",
   "metadata": {
    "execution": {
     "iopub.execute_input": "2022-04-30T12:14:49.215355Z",
     "iopub.status.busy": "2022-04-30T12:14:49.214629Z",
     "iopub.status.idle": "2022-04-30T12:14:49.220338Z",
     "shell.execute_reply": "2022-04-30T12:14:49.217632Z"
    },
    "papermill": {
     "duration": 0.049689,
     "end_time": "2022-04-30T12:14:49.220468",
     "exception": false,
     "start_time": "2022-04-30T12:14:49.170779",
     "status": "completed"
    },
    "tags": []
   },
   "outputs": [],
   "source": [
    "#hide\n",
    "# cols.insert(0, cols.pop())"
   ]
  },
  {
   "cell_type": "code",
   "execution_count": 30,
   "id": "executed-adoption",
   "metadata": {
    "execution": {
     "iopub.execute_input": "2022-04-30T12:14:49.309613Z",
     "iopub.status.busy": "2022-04-30T12:14:49.308972Z",
     "iopub.status.idle": "2022-04-30T12:14:49.311956Z",
     "shell.execute_reply": "2022-04-30T12:14:49.311470Z"
    },
    "papermill": {
     "duration": 0.047261,
     "end_time": "2022-04-30T12:14:49.312073",
     "exception": false,
     "start_time": "2022-04-30T12:14:49.264812",
     "status": "completed"
    },
    "tags": []
   },
   "outputs": [],
   "source": [
    "#hide\n",
    "# g = g[cols]"
   ]
  },
  {
   "cell_type": "code",
   "execution_count": 31,
   "id": "subject-dublin",
   "metadata": {
    "execution": {
     "iopub.execute_input": "2022-04-30T12:14:49.398003Z",
     "iopub.status.busy": "2022-04-30T12:14:49.397430Z",
     "iopub.status.idle": "2022-04-30T12:14:49.400316Z",
     "shell.execute_reply": "2022-04-30T12:14:49.399703Z"
    },
    "papermill": {
     "duration": 0.048452,
     "end_time": "2022-04-30T12:14:49.400500",
     "exception": false,
     "start_time": "2022-04-30T12:14:49.352048",
     "status": "completed"
    },
    "tags": []
   },
   "outputs": [],
   "source": [
    "#hide\n",
    "# g['continent'] = g['continent'].map(mapping['map.continent'])"
   ]
  },
  {
   "cell_type": "code",
   "execution_count": 32,
   "id": "freelance-scout",
   "metadata": {
    "execution": {
     "iopub.execute_input": "2022-04-30T12:14:49.486285Z",
     "iopub.status.busy": "2022-04-30T12:14:49.485655Z",
     "iopub.status.idle": "2022-04-30T12:14:49.490221Z",
     "shell.execute_reply": "2022-04-30T12:14:49.489299Z"
    },
    "papermill": {
     "duration": 0.04959,
     "end_time": "2022-04-30T12:14:49.490365",
     "exception": false,
     "start_time": "2022-04-30T12:14:49.440775",
     "status": "completed"
    },
    "tags": []
   },
   "outputs": [],
   "source": [
    "#hide\n",
    "# g.head()"
   ]
  },
  {
   "cell_type": "code",
   "execution_count": 33,
   "id": "limited-engine",
   "metadata": {
    "execution": {
     "iopub.execute_input": "2022-04-30T12:14:49.584601Z",
     "iopub.status.busy": "2022-04-30T12:14:49.583986Z",
     "iopub.status.idle": "2022-04-30T12:14:49.588038Z",
     "shell.execute_reply": "2022-04-30T12:14:49.588515Z"
    },
    "papermill": {
     "duration": 0.057535,
     "end_time": "2022-04-30T12:14:49.588658",
     "exception": false,
     "start_time": "2022-04-30T12:14:49.531123",
     "status": "completed"
    },
    "tags": []
   },
   "outputs": [],
   "source": [
    "# hide\n",
    "# g['date'] = g['date'].astype('datetime64[ns]')"
   ]
  },
  {
   "cell_type": "code",
   "execution_count": 34,
   "id": "sophisticated-supervisor",
   "metadata": {
    "execution": {
     "iopub.execute_input": "2022-04-30T12:14:49.670778Z",
     "iopub.status.busy": "2022-04-30T12:14:49.670100Z",
     "iopub.status.idle": "2022-04-30T12:14:49.672496Z",
     "shell.execute_reply": "2022-04-30T12:14:49.671920Z"
    },
    "papermill": {
     "duration": 0.044831,
     "end_time": "2022-04-30T12:14:49.672735",
     "exception": false,
     "start_time": "2022-04-30T12:14:49.627904",
     "status": "completed"
    },
    "tags": []
   },
   "outputs": [],
   "source": [
    "#hide\n",
    "# g['date'] = g.date.dt.dayofyear"
   ]
  },
  {
   "cell_type": "code",
   "execution_count": 35,
   "id": "inside-dubai",
   "metadata": {
    "execution": {
     "iopub.execute_input": "2022-04-30T12:14:49.756143Z",
     "iopub.status.busy": "2022-04-30T12:14:49.755483Z",
     "iopub.status.idle": "2022-04-30T12:14:49.757156Z",
     "shell.execute_reply": "2022-04-30T12:14:49.758842Z"
    },
    "papermill": {
     "duration": 0.045536,
     "end_time": "2022-04-30T12:14:49.759017",
     "exception": false,
     "start_time": "2022-04-30T12:14:49.713481",
     "status": "completed"
    },
    "tags": []
   },
   "outputs": [],
   "source": [
    "#hide\n",
    "# g = g.rename(columns= {'continent':'group','country':'name','cases':'value'})"
   ]
  },
  {
   "cell_type": "code",
   "execution_count": 36,
   "id": "fleet-motorcycle",
   "metadata": {
    "execution": {
     "iopub.execute_input": "2022-04-30T12:14:49.850933Z",
     "iopub.status.busy": "2022-04-30T12:14:49.850278Z",
     "iopub.status.idle": "2022-04-30T12:14:49.853130Z",
     "shell.execute_reply": "2022-04-30T12:14:49.852435Z"
    },
    "papermill": {
     "duration": 0.049754,
     "end_time": "2022-04-30T12:14:49.853289",
     "exception": false,
     "start_time": "2022-04-30T12:14:49.803535",
     "status": "completed"
    },
    "tags": []
   },
   "outputs": [],
   "source": [
    "#hide\n",
    "# cols = ['name','group','day','value']"
   ]
  },
  {
   "cell_type": "code",
   "execution_count": 37,
   "id": "continued-sleeping",
   "metadata": {
    "execution": {
     "iopub.execute_input": "2022-04-30T12:14:49.947884Z",
     "iopub.status.busy": "2022-04-30T12:14:49.946907Z",
     "iopub.status.idle": "2022-04-30T12:14:49.951493Z",
     "shell.execute_reply": "2022-04-30T12:14:49.952199Z"
    },
    "papermill": {
     "duration": 0.050385,
     "end_time": "2022-04-30T12:14:49.952547",
     "exception": false,
     "start_time": "2022-04-30T12:14:49.902162",
     "status": "completed"
    },
    "tags": []
   },
   "outputs": [],
   "source": [
    "#hide\n",
    "# g.rename(columns= {'date':'day'},inplace = True)"
   ]
  },
  {
   "cell_type": "code",
   "execution_count": 38,
   "id": "major-fight",
   "metadata": {
    "execution": {
     "iopub.execute_input": "2022-04-30T12:14:50.038499Z",
     "iopub.status.busy": "2022-04-30T12:14:50.037814Z",
     "iopub.status.idle": "2022-04-30T12:14:50.040599Z",
     "shell.execute_reply": "2022-04-30T12:14:50.039913Z"
    },
    "papermill": {
     "duration": 0.046814,
     "end_time": "2022-04-30T12:14:50.040747",
     "exception": false,
     "start_time": "2022-04-30T12:14:49.993933",
     "status": "completed"
    },
    "tags": []
   },
   "outputs": [],
   "source": [
    "#hide\n",
    "# g = g[cols]"
   ]
  },
  {
   "cell_type": "code",
   "execution_count": 39,
   "id": "structured-mobile",
   "metadata": {
    "execution": {
     "iopub.execute_input": "2022-04-30T12:14:50.128159Z",
     "iopub.status.busy": "2022-04-30T12:14:50.127424Z",
     "iopub.status.idle": "2022-04-30T12:14:50.132291Z",
     "shell.execute_reply": "2022-04-30T12:14:50.131709Z"
    },
    "papermill": {
     "duration": 0.046972,
     "end_time": "2022-04-30T12:14:50.132442",
     "exception": false,
     "start_time": "2022-04-30T12:14:50.085470",
     "status": "completed"
    },
    "tags": []
   },
   "outputs": [],
   "source": [
    "# #hide\n",
    "# g = g[g.group.notna()]"
   ]
  },
  {
   "cell_type": "code",
   "execution_count": 40,
   "id": "determined-closing",
   "metadata": {
    "execution": {
     "iopub.execute_input": "2022-04-30T12:14:50.216487Z",
     "iopub.status.busy": "2022-04-30T12:14:50.215761Z",
     "iopub.status.idle": "2022-04-30T12:14:50.218386Z",
     "shell.execute_reply": "2022-04-30T12:14:50.217886Z"
    },
    "papermill": {
     "duration": 0.044951,
     "end_time": "2022-04-30T12:14:50.218512",
     "exception": false,
     "start_time": "2022-04-30T12:14:50.173561",
     "status": "completed"
    },
    "tags": []
   },
   "outputs": [],
   "source": [
    "# #hide\n",
    "# colors = dict(zip(\n",
    "#     [\"Oceania\", \"Europe\", \"Asia\", \"South America\", \"Middle East\", \"North America\", \"Africa\"],\n",
    "#     [\"#adb0ff\", \"#ffb3ff\", \"#90d595\", \"#e48381\", \"#aafbff\", \"#f7bb5f\", \"#eafb50\"]\n",
    "# ))\n",
    "# group_lk = g.set_index('name')['group'].to_dict()"
   ]
  },
  {
   "cell_type": "code",
   "execution_count": null,
   "id": "gross-drinking",
   "metadata": {
    "papermill": {
     "duration": 0.041497,
     "end_time": "2022-04-30T12:14:50.299521",
     "exception": false,
     "start_time": "2022-04-30T12:14:50.258024",
     "status": "completed"
    },
    "tags": []
   },
   "outputs": [],
   "source": []
  },
  {
   "cell_type": "code",
   "execution_count": 41,
   "id": "subject-macintosh",
   "metadata": {
    "execution": {
     "iopub.execute_input": "2022-04-30T12:14:50.387555Z",
     "iopub.status.busy": "2022-04-30T12:14:50.386887Z",
     "iopub.status.idle": "2022-04-30T12:14:50.389467Z",
     "shell.execute_reply": "2022-04-30T12:14:50.388960Z"
    },
    "papermill": {
     "duration": 0.049195,
     "end_time": "2022-04-30T12:14:50.389597",
     "exception": false,
     "start_time": "2022-04-30T12:14:50.340402",
     "status": "completed"
    },
    "tags": []
   },
   "outputs": [],
   "source": [
    "# #hide\n",
    "# fig, ax = plt.subplots(figsize=(15, 8))\n",
    "\n",
    "# def draw_barchart(current_day):\n",
    "#     dff = g[g['day'].eq(current_day)].sort_values(by='value', ascending=True).tail(10)\n",
    "#     ax.clear()\n",
    "#     ax.barh(dff['name'], dff['value'], color=[colors[group_lk[x]] for x in dff['name']])\n",
    "#     dx = dff['value'].max() / 200\n",
    "    \n",
    "#     for i, (value, name) in enumerate(zip(dff['value'], dff['name'])):\n",
    "#         ax.text(value-dx, i,     name,           size=14, weight=600, ha='right', va='bottom')\n",
    "#         ax.text(value-dx, i-.25, group_lk[name], size=10, color='#444444', ha='right', va='baseline')\n",
    "#         ax.text(value+dx, i,     f'{value:,.0f}',  size=14, ha='left',  va='center')\n",
    "#     ax.text(1, 0.4, current_day, transform=ax.transAxes, color='#777777', size=46, ha='right', weight=800)\n",
    "#     ax.text(0, 1.06, 'Population (thousands)', transform=ax.transAxes, size=12, color='#777777')\n",
    "#     ax.xaxis.set_major_formatter(ticker.StrMethodFormatter('{x:,.0f}'))\n",
    "#     ax.xaxis.set_ticks_position('top')\n",
    "#     ax.tick_params(axis='x', colors='#777777', labelsize=12)\n",
    "#     ax.set_yticks([])\n",
    "#     ax.margins(0, 0.01)\n",
    "#     ax.grid(which='major', axis='x', linestyle='-')\n",
    "#     ax.set_axisbelow(True)\n",
    "    \n",
    "#     ax.text(0, 1.15, 'Coronavirus',\n",
    "#             transform=ax.transAxes, size=24, weight=600, ha='left', va='top')\n",
    "# #     ax.text(1, 0, 'by @pratapvardhan; credit @jburnmurdoch', transform=ax.transAxes, color='#777777', ha='right',\n",
    "# #             bbox=dict(facecolor='white', alpha=0.8, edgecolor='white'))\n",
    "#     plt.box(False)"
   ]
  },
  {
   "cell_type": "code",
   "execution_count": 42,
   "id": "sexual-wages",
   "metadata": {
    "execution": {
     "iopub.execute_input": "2022-04-30T12:14:50.471032Z",
     "iopub.status.busy": "2022-04-30T12:14:50.470243Z",
     "iopub.status.idle": "2022-04-30T12:14:50.472703Z",
     "shell.execute_reply": "2022-04-30T12:14:50.472166Z"
    },
    "papermill": {
     "duration": 0.045619,
     "end_time": "2022-04-30T12:14:50.472832",
     "exception": false,
     "start_time": "2022-04-30T12:14:50.427213",
     "status": "completed"
    },
    "tags": []
   },
   "outputs": [],
   "source": [
    "# #hide_input\n",
    "# fig, ax = plt.subplots(figsize=(15, 8))\n",
    "# animator = animation.FuncAnimation(fig, draw_barchart, frames=range(g.day.values.min(), g.day.values.max()))\n",
    "# HTML(animator.to_jshtml())\n",
    "# # or use animator.to_html5_video() or animator.save() "
   ]
  },
  {
   "cell_type": "code",
   "execution_count": null,
   "id": "australian-container",
   "metadata": {
    "papermill": {
     "duration": 0.039881,
     "end_time": "2022-04-30T12:14:50.557054",
     "exception": false,
     "start_time": "2022-04-30T12:14:50.517173",
     "status": "completed"
    },
    "tags": []
   },
   "outputs": [],
   "source": []
  },
  {
   "cell_type": "code",
   "execution_count": null,
   "id": "mediterranean-pontiac",
   "metadata": {
    "papermill": {
     "duration": 0.041359,
     "end_time": "2022-04-30T12:14:50.638980",
     "exception": false,
     "start_time": "2022-04-30T12:14:50.597621",
     "status": "completed"
    },
    "tags": []
   },
   "outputs": [],
   "source": []
  },
  {
   "cell_type": "code",
   "execution_count": null,
   "id": "aging-legislature",
   "metadata": {
    "papermill": {
     "duration": 0.038125,
     "end_time": "2022-04-30T12:14:50.718765",
     "exception": false,
     "start_time": "2022-04-30T12:14:50.680640",
     "status": "completed"
    },
    "tags": []
   },
   "outputs": [],
   "source": []
  }
 ],
 "metadata": {
  "kernelspec": {
   "display_name": "Python 3",
   "language": "python",
   "name": "python3"
  },
  "language_info": {
   "codemirror_mode": {
    "name": "ipython",
    "version": 3
   },
   "file_extension": ".py",
   "mimetype": "text/x-python",
   "name": "python",
   "nbconvert_exporter": "python",
   "pygments_lexer": "ipython3",
   "version": "3.6.15"
  },
  "papermill": {
   "duration": 7.658419,
   "end_time": "2022-04-30T12:14:51.181223",
   "environment_variables": {},
   "exception": null,
   "input_path": "2020-03-21-covid19exp.ipynb",
   "output_path": "2020-03-21-covid19exp.ipynb",
   "parameters": {},
   "start_time": "2022-04-30T12:14:43.522804",
   "version": "2.0.0"
  }
 },
 "nbformat": 4,
 "nbformat_minor": 5
}