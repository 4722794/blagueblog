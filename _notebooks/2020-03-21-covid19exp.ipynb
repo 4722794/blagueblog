{
 "cells": [
  {
   "cell_type": "markdown",
   "id": "muslim-click",
   "metadata": {
    "papermill": {
     "duration": 0.037706,
     "end_time": "2022-05-24T00:44:33.676977",
     "exception": false,
     "start_time": "2022-05-24T00:44:33.639271",
     "status": "completed"
    },
    "tags": []
   },
   "source": [
    "# COVID-19 Case Race\n",
    "> A race chart to see rising cases around the world\n",
    "\n",
    "- author: Hargun Oberoi\n",
    "- image: images/covid-overview.png\n",
    "- hide: false\n",
    "- badges: false"
   ]
  },
  {
   "cell_type": "code",
   "execution_count": 1,
   "id": "proof-material",
   "metadata": {
    "execution": {
     "iopub.execute_input": "2022-05-24T00:44:33.756113Z",
     "iopub.status.busy": "2022-05-24T00:44:33.755426Z",
     "iopub.status.idle": "2022-05-24T00:44:34.117335Z",
     "shell.execute_reply": "2022-05-24T00:44:34.116740Z"
    },
    "papermill": {
     "duration": 0.406311,
     "end_time": "2022-05-24T00:44:34.117490",
     "exception": false,
     "start_time": "2022-05-24T00:44:33.711179",
     "status": "completed"
    },
    "tags": []
   },
   "outputs": [],
   "source": [
    "#hide\n",
    "import numpy as np\n",
    "import pandas as pd\n",
    "from jinja2 import Template\n",
    "from IPython.display import HTML"
   ]
  },
  {
   "cell_type": "code",
   "execution_count": 2,
   "id": "developed-terminology",
   "metadata": {
    "execution": {
     "iopub.execute_input": "2022-05-24T00:44:34.187517Z",
     "iopub.status.busy": "2022-05-24T00:44:34.186882Z",
     "iopub.status.idle": "2022-05-24T00:44:34.189982Z",
     "shell.execute_reply": "2022-05-24T00:44:34.189478Z"
    },
    "papermill": {
     "duration": 0.040142,
     "end_time": "2022-05-24T00:44:34.190141",
     "exception": false,
     "start_time": "2022-05-24T00:44:34.149999",
     "status": "completed"
    },
    "tags": []
   },
   "outputs": [],
   "source": [
    "#hide\n",
    "\n",
    "# FETCH\n",
    "base_url = 'https://raw.githubusercontent.com/pratapvardhan/notebooks/master/covid19/'\n",
    "paths = {\n",
    "    'mapping': base_url + 'mapping_countries.csv',\n",
    "    'overview': base_url + 'overview.tpl'\n",
    "}"
   ]
  },
  {
   "cell_type": "code",
   "execution_count": 3,
   "id": "dynamic-saver",
   "metadata": {
    "execution": {
     "iopub.execute_input": "2022-05-24T00:44:34.259426Z",
     "iopub.status.busy": "2022-05-24T00:44:34.258762Z",
     "iopub.status.idle": "2022-05-24T00:44:34.264898Z",
     "shell.execute_reply": "2022-05-24T00:44:34.264389Z"
    },
    "papermill": {
     "duration": 0.044458,
     "end_time": "2022-05-24T00:44:34.265001",
     "exception": false,
     "start_time": "2022-05-24T00:44:34.220543",
     "status": "completed"
    },
    "tags": []
   },
   "outputs": [
    {
     "data": {
      "text/plain": [
       "'https://raw.githubusercontent.com/pratapvardhan/notebooks/master/covid19/mapping_countries.csv'"
      ]
     },
     "execution_count": 3,
     "metadata": {},
     "output_type": "execute_result"
    }
   ],
   "source": [
    "#hide\n",
    "paths['mapping']"
   ]
  },
  {
   "cell_type": "code",
   "execution_count": 4,
   "id": "urban-software",
   "metadata": {
    "execution": {
     "iopub.execute_input": "2022-05-24T00:44:34.334361Z",
     "iopub.status.busy": "2022-05-24T00:44:34.333636Z",
     "iopub.status.idle": "2022-05-24T00:44:34.336295Z",
     "shell.execute_reply": "2022-05-24T00:44:34.336938Z"
    },
    "papermill": {
     "duration": 0.039804,
     "end_time": "2022-05-24T00:44:34.337066",
     "exception": false,
     "start_time": "2022-05-24T00:44:34.297262",
     "status": "completed"
    },
    "tags": []
   },
   "outputs": [],
   "source": [
    "#hide\n",
    "def get_mappings(url):\n",
    "    df = pd.read_csv(url)\n",
    "    return {\n",
    "        'df': df,\n",
    "        'replace.country': dict(df.dropna(subset=['Name']).set_index('Country')['Name']),\n",
    "        'map.continent': dict(df.set_index('Name')['Continent'])\n",
    "    }"
   ]
  },
  {
   "cell_type": "code",
   "execution_count": 5,
   "id": "intimate-machinery",
   "metadata": {
    "execution": {
     "iopub.execute_input": "2022-05-24T00:44:34.409207Z",
     "iopub.status.busy": "2022-05-24T00:44:34.408506Z",
     "iopub.status.idle": "2022-05-24T00:44:34.449799Z",
     "shell.execute_reply": "2022-05-24T00:44:34.449118Z"
    },
    "papermill": {
     "duration": 0.079887,
     "end_time": "2022-05-24T00:44:34.449950",
     "exception": false,
     "start_time": "2022-05-24T00:44:34.370063",
     "status": "completed"
    },
    "tags": []
   },
   "outputs": [],
   "source": [
    "#hide\n",
    "mapping = get_mappings(paths['mapping'])"
   ]
  },
  {
   "cell_type": "code",
   "execution_count": 6,
   "id": "certified-tactics",
   "metadata": {
    "execution": {
     "iopub.execute_input": "2022-05-24T00:44:34.522606Z",
     "iopub.status.busy": "2022-05-24T00:44:34.521873Z",
     "iopub.status.idle": "2022-05-24T00:44:34.525029Z",
     "shell.execute_reply": "2022-05-24T00:44:34.524476Z"
    },
    "papermill": {
     "duration": 0.041807,
     "end_time": "2022-05-24T00:44:34.525154",
     "exception": false,
     "start_time": "2022-05-24T00:44:34.483347",
     "status": "completed"
    },
    "tags": []
   },
   "outputs": [],
   "source": [
    "#hide\n",
    "def get_template(path):\n",
    "    from urllib.parse import urlparse\n",
    "    if bool(urlparse(path).netloc):\n",
    "        from urllib.request import urlopen\n",
    "        return urlopen(path).read().decode('utf8')\n",
    "    return open(path).read()"
   ]
  },
  {
   "cell_type": "code",
   "execution_count": 7,
   "id": "realistic-blast",
   "metadata": {
    "execution": {
     "iopub.execute_input": "2022-05-24T00:44:34.594983Z",
     "iopub.status.busy": "2022-05-24T00:44:34.594349Z",
     "iopub.status.idle": "2022-05-24T00:44:34.597476Z",
     "shell.execute_reply": "2022-05-24T00:44:34.596928Z"
    },
    "papermill": {
     "duration": 0.040601,
     "end_time": "2022-05-24T00:44:34.597597",
     "exception": false,
     "start_time": "2022-05-24T00:44:34.556996",
     "status": "completed"
    },
    "tags": []
   },
   "outputs": [],
   "source": [
    "#hide\n",
    "def get_frame(name):\n",
    "    url = (\n",
    "        'https://raw.githubusercontent.com/CSSEGISandData/COVID-19/master/csse_covid_19_data/'\n",
    "        f'csse_covid_19_time_series/time_series_covid19_{name}_global.csv')\n",
    "    df = pd.read_csv(url)\n",
    "    # rename countries\n",
    "    df['Country/Region'] = df['Country/Region'].replace(mapping['replace.country'])\n",
    "    return df"
   ]
  },
  {
   "cell_type": "code",
   "execution_count": 8,
   "id": "affiliated-characterization",
   "metadata": {
    "execution": {
     "iopub.execute_input": "2022-05-24T00:44:34.669013Z",
     "iopub.status.busy": "2022-05-24T00:44:34.668334Z",
     "iopub.status.idle": "2022-05-24T00:44:34.672685Z",
     "shell.execute_reply": "2022-05-24T00:44:34.673179Z"
    },
    "papermill": {
     "duration": 0.042992,
     "end_time": "2022-05-24T00:44:34.673320",
     "exception": false,
     "start_time": "2022-05-24T00:44:34.630328",
     "status": "completed"
    },
    "tags": []
   },
   "outputs": [],
   "source": [
    "#hide\n",
    "def get_dates(df):\n",
    "    dt_cols = df.columns[~df.columns.isin(['Province/State', 'Country/Region', 'Lat', 'Long'])]\n",
    "    LAST_DATE_I = -1\n",
    "    # sometimes last column may be empty, then go backwards\n",
    "    for i in range(-1, -len(dt_cols), -1):\n",
    "        if not df[dt_cols[i]].fillna(0).eq(0).all():\n",
    "            LAST_DATE_I = i\n",
    "            break\n",
    "    return LAST_DATE_I, dt_cols"
   ]
  },
  {
   "cell_type": "code",
   "execution_count": 9,
   "id": "recent-optimization",
   "metadata": {
    "execution": {
     "iopub.execute_input": "2022-05-24T00:44:34.745974Z",
     "iopub.status.busy": "2022-05-24T00:44:34.745268Z",
     "iopub.status.idle": "2022-05-24T00:44:35.207166Z",
     "shell.execute_reply": "2022-05-24T00:44:35.206447Z"
    },
    "papermill": {
     "duration": 0.500516,
     "end_time": "2022-05-24T00:44:35.207320",
     "exception": false,
     "start_time": "2022-05-24T00:44:34.706804",
     "status": "completed"
    },
    "tags": []
   },
   "outputs": [],
   "source": [
    "#hide\n",
    "COL_REGION = 'Country/Region'\n",
    "# Confirmed, Recovered, Deaths\n",
    "df = get_frame('confirmed')\n",
    "# dft_: timeseries, dfc_: today country agg\n",
    "dft_cases = df\n",
    "dft_deaths = get_frame('deaths')\n",
    "dft_recovered = get_frame('recovered')\n",
    "LAST_DATE_I, dt_cols = get_dates(df)"
   ]
  },
  {
   "cell_type": "code",
   "execution_count": 10,
   "id": "absolute-copper",
   "metadata": {
    "execution": {
     "iopub.execute_input": "2022-05-24T00:44:35.280311Z",
     "iopub.status.busy": "2022-05-24T00:44:35.279679Z",
     "iopub.status.idle": "2022-05-24T00:44:35.282419Z",
     "shell.execute_reply": "2022-05-24T00:44:35.282959Z"
    },
    "papermill": {
     "duration": 0.041637,
     "end_time": "2022-05-24T00:44:35.283080",
     "exception": false,
     "start_time": "2022-05-24T00:44:35.241443",
     "status": "completed"
    },
    "tags": []
   },
   "outputs": [],
   "source": [
    "#hide\n",
    "LAST_DATE_I, dt_cols = get_dates(df)\n",
    "dt_today =dt_cols[LAST_DATE_I]\n",
    "# dt_5day = dt_cols[LAST_DATE_I - 5]\n",
    "dt_yday = dt_cols[LAST_DATE_I - 1]"
   ]
  },
  {
   "cell_type": "code",
   "execution_count": 11,
   "id": "restricted-sheriff",
   "metadata": {
    "execution": {
     "iopub.execute_input": "2022-05-24T00:44:35.353076Z",
     "iopub.status.busy": "2022-05-24T00:44:35.352409Z",
     "iopub.status.idle": "2022-05-24T00:44:35.360550Z",
     "shell.execute_reply": "2022-05-24T00:44:35.361101Z"
    },
    "papermill": {
     "duration": 0.047546,
     "end_time": "2022-05-24T00:44:35.361242",
     "exception": false,
     "start_time": "2022-05-24T00:44:35.313696",
     "status": "completed"
    },
    "tags": []
   },
   "outputs": [],
   "source": [
    "#hide\n",
    "dfc_cases = dft_cases.groupby(COL_REGION)[dt_today].sum()\n",
    "dfc_deaths = dft_deaths.groupby(COL_REGION)[dt_today].sum()\n",
    "# dfp_cases = dft_cases.groupby(COL_REGION)[dt_5day].sum()\n",
    "# dfp_deaths = dft_deaths.groupby(COL_REGION)[dt_5day].sum()\n",
    "dfp_cases = dft_cases.groupby(COL_REGION)[dt_yday].sum()\n",
    "dfp_deaths = dft_deaths.groupby(COL_REGION)[dt_yday].sum()"
   ]
  },
  {
   "cell_type": "code",
   "execution_count": 12,
   "id": "deluxe-hepatitis",
   "metadata": {
    "execution": {
     "iopub.execute_input": "2022-05-24T00:44:35.431608Z",
     "iopub.status.busy": "2022-05-24T00:44:35.430992Z",
     "iopub.status.idle": "2022-05-24T00:44:35.436055Z",
     "shell.execute_reply": "2022-05-24T00:44:35.436656Z"
    },
    "papermill": {
     "duration": 0.043393,
     "end_time": "2022-05-24T00:44:35.436784",
     "exception": false,
     "start_time": "2022-05-24T00:44:35.393391",
     "status": "completed"
    },
    "tags": []
   },
   "outputs": [],
   "source": [
    "#hide\n",
    "df_table = (pd.DataFrame(dict(Cases = dfc_cases, Deaths = dfc_deaths, PCases = dfp_cases, PDeaths = dfp_deaths))\n",
    "            .sort_values(by = ['Cases','Deaths'], ascending = [False, False])\n",
    "            .reset_index())"
   ]
  },
  {
   "cell_type": "code",
   "execution_count": 13,
   "id": "educational-chancellor",
   "metadata": {
    "execution": {
     "iopub.execute_input": "2022-05-24T00:44:35.515207Z",
     "iopub.status.busy": "2022-05-24T00:44:35.514626Z",
     "iopub.status.idle": "2022-05-24T00:44:35.523877Z",
     "shell.execute_reply": "2022-05-24T00:44:35.523367Z"
    },
    "papermill": {
     "duration": 0.05602,
     "end_time": "2022-05-24T00:44:35.523987",
     "exception": false,
     "start_time": "2022-05-24T00:44:35.467967",
     "status": "completed"
    },
    "tags": []
   },
   "outputs": [
    {
     "data": {
      "text/html": [
       "<div>\n",
       "<style scoped>\n",
       "    .dataframe tbody tr th:only-of-type {\n",
       "        vertical-align: middle;\n",
       "    }\n",
       "\n",
       "    .dataframe tbody tr th {\n",
       "        vertical-align: top;\n",
       "    }\n",
       "\n",
       "    .dataframe thead th {\n",
       "        text-align: right;\n",
       "    }\n",
       "</style>\n",
       "<table border=\"1\" class=\"dataframe\">\n",
       "  <thead>\n",
       "    <tr style=\"text-align: right;\">\n",
       "      <th></th>\n",
       "      <th>Country/Region</th>\n",
       "      <th>Cases</th>\n",
       "      <th>Deaths</th>\n",
       "      <th>PCases</th>\n",
       "      <th>PDeaths</th>\n",
       "      <th>Cases (+)</th>\n",
       "      <th>Deaths (+)</th>\n",
       "      <th>Fatality Rate</th>\n",
       "      <th>Continent</th>\n",
       "    </tr>\n",
       "  </thead>\n",
       "  <tbody>\n",
       "    <tr>\n",
       "      <th>0</th>\n",
       "      <td>US</td>\n",
       "      <td>83281329</td>\n",
       "      <td>1002173</td>\n",
       "      <td>83263020</td>\n",
       "      <td>1002146</td>\n",
       "      <td>18309</td>\n",
       "      <td>27</td>\n",
       "      <td>1.20</td>\n",
       "      <td>North America</td>\n",
       "    </tr>\n",
       "    <tr>\n",
       "      <th>1</th>\n",
       "      <td>India</td>\n",
       "      <td>43138393</td>\n",
       "      <td>524459</td>\n",
       "      <td>43136371</td>\n",
       "      <td>524413</td>\n",
       "      <td>2022</td>\n",
       "      <td>46</td>\n",
       "      <td>1.22</td>\n",
       "      <td>Asia</td>\n",
       "    </tr>\n",
       "    <tr>\n",
       "      <th>2</th>\n",
       "      <td>Brazil</td>\n",
       "      <td>30791220</td>\n",
       "      <td>665854</td>\n",
       "      <td>30762413</td>\n",
       "      <td>665720</td>\n",
       "      <td>28807</td>\n",
       "      <td>134</td>\n",
       "      <td>2.16</td>\n",
       "      <td>South America</td>\n",
       "    </tr>\n",
       "    <tr>\n",
       "      <th>3</th>\n",
       "      <td>France</td>\n",
       "      <td>29580970</td>\n",
       "      <td>148823</td>\n",
       "      <td>29564005</td>\n",
       "      <td>148820</td>\n",
       "      <td>16965</td>\n",
       "      <td>3</td>\n",
       "      <td>0.50</td>\n",
       "      <td>Europe</td>\n",
       "    </tr>\n",
       "    <tr>\n",
       "      <th>4</th>\n",
       "      <td>Germany</td>\n",
       "      <td>26045528</td>\n",
       "      <td>138326</td>\n",
       "      <td>26044283</td>\n",
       "      <td>138325</td>\n",
       "      <td>1245</td>\n",
       "      <td>1</td>\n",
       "      <td>0.53</td>\n",
       "      <td>Europe</td>\n",
       "    </tr>\n",
       "  </tbody>\n",
       "</table>\n",
       "</div>"
      ],
      "text/plain": [
       "  Country/Region     Cases   Deaths    PCases  PDeaths  Cases (+)  Deaths (+)  \\\n",
       "0             US  83281329  1002173  83263020  1002146      18309          27   \n",
       "1          India  43138393   524459  43136371   524413       2022          46   \n",
       "2         Brazil  30791220   665854  30762413   665720      28807         134   \n",
       "3         France  29580970   148823  29564005   148820      16965           3   \n",
       "4        Germany  26045528   138326  26044283   138325       1245           1   \n",
       "\n",
       "   Fatality Rate      Continent  \n",
       "0           1.20  North America  \n",
       "1           1.22           Asia  \n",
       "2           2.16  South America  \n",
       "3           0.50         Europe  \n",
       "4           0.53         Europe  "
      ]
     },
     "execution_count": 13,
     "metadata": {},
     "output_type": "execute_result"
    }
   ],
   "source": [
    "#hide\n",
    "for c in 'Cases, Deaths'.split(', '):\n",
    "    df_table[f'{c} (+)'] = (df_table[c] - df_table[f'P{c}']).clip(0)\n",
    "    #Clip ça veut dire, les chiffres negatif sont interdit\n",
    "df_table['Fatality Rate'] = (100* df_table['Deaths']/ df_table['Cases']).round(2)\n",
    "df_table['Continent'] = df_table['Country/Region'].map(mapping['map.continent'])\n",
    "df_table.head(5)"
   ]
  },
  {
   "cell_type": "code",
   "execution_count": 14,
   "id": "aboriginal-bulgaria",
   "metadata": {
    "execution": {
     "iopub.execute_input": "2022-05-24T00:44:35.591763Z",
     "iopub.status.busy": "2022-05-24T00:44:35.591104Z",
     "iopub.status.idle": "2022-05-24T00:44:35.593800Z",
     "shell.execute_reply": "2022-05-24T00:44:35.594481Z"
    },
    "papermill": {
     "duration": 0.038938,
     "end_time": "2022-05-24T00:44:35.594607",
     "exception": false,
     "start_time": "2022-05-24T00:44:35.555669",
     "status": "completed"
    },
    "tags": []
   },
   "outputs": [],
   "source": [
    "#hide\n",
    "#delete problematic countries from table\n",
    "df_table = df_table[~df_table['Country/Region'].isin(['Cape Verde', 'Cruise Ship', 'Kosovo'])]"
   ]
  },
  {
   "cell_type": "code",
   "execution_count": 15,
   "id": "fantastic-effect",
   "metadata": {
    "execution": {
     "iopub.execute_input": "2022-05-24T00:44:35.669953Z",
     "iopub.status.busy": "2022-05-24T00:44:35.669267Z",
     "iopub.status.idle": "2022-05-24T00:44:35.689105Z",
     "shell.execute_reply": "2022-05-24T00:44:35.688554Z"
    },
    "papermill": {
     "duration": 0.062137,
     "end_time": "2022-05-24T00:44:35.689235",
     "exception": false,
     "start_time": "2022-05-24T00:44:35.627098",
     "status": "completed"
    },
    "tags": []
   },
   "outputs": [
    {
     "data": {
      "text/html": [
       "<div>\n",
       "<style scoped>\n",
       "    .dataframe tbody tr th:only-of-type {\n",
       "        vertical-align: middle;\n",
       "    }\n",
       "\n",
       "    .dataframe tbody tr th {\n",
       "        vertical-align: top;\n",
       "    }\n",
       "\n",
       "    .dataframe thead th {\n",
       "        text-align: right;\n",
       "    }\n",
       "</style>\n",
       "<table border=\"1\" class=\"dataframe\">\n",
       "  <thead>\n",
       "    <tr style=\"text-align: right;\">\n",
       "      <th></th>\n",
       "      <th>Country/Region</th>\n",
       "      <th>Cases</th>\n",
       "      <th>Deaths</th>\n",
       "      <th>PCases</th>\n",
       "      <th>PDeaths</th>\n",
       "      <th>Cases (+)</th>\n",
       "      <th>Deaths (+)</th>\n",
       "      <th>Fatality Rate</th>\n",
       "      <th>Continent</th>\n",
       "    </tr>\n",
       "  </thead>\n",
       "  <tbody>\n",
       "    <tr>\n",
       "      <th>0</th>\n",
       "      <td>US</td>\n",
       "      <td>83281329</td>\n",
       "      <td>1002173</td>\n",
       "      <td>83263020</td>\n",
       "      <td>1002146</td>\n",
       "      <td>18309</td>\n",
       "      <td>27</td>\n",
       "      <td>1.2</td>\n",
       "      <td>North America</td>\n",
       "    </tr>\n",
       "    <tr>\n",
       "      <th>1</th>\n",
       "      <td>India</td>\n",
       "      <td>43138393</td>\n",
       "      <td>524459</td>\n",
       "      <td>43136371</td>\n",
       "      <td>524413</td>\n",
       "      <td>2022</td>\n",
       "      <td>46</td>\n",
       "      <td>1.2</td>\n",
       "      <td>Asia</td>\n",
       "    </tr>\n",
       "    <tr>\n",
       "      <th>2</th>\n",
       "      <td>Brazil</td>\n",
       "      <td>30791220</td>\n",
       "      <td>665854</td>\n",
       "      <td>30762413</td>\n",
       "      <td>665720</td>\n",
       "      <td>28807</td>\n",
       "      <td>134</td>\n",
       "      <td>2.2</td>\n",
       "      <td>South America</td>\n",
       "    </tr>\n",
       "    <tr>\n",
       "      <th>3</th>\n",
       "      <td>France</td>\n",
       "      <td>29580970</td>\n",
       "      <td>148823</td>\n",
       "      <td>29564005</td>\n",
       "      <td>148820</td>\n",
       "      <td>16965</td>\n",
       "      <td>3</td>\n",
       "      <td>0.5</td>\n",
       "      <td>Europe</td>\n",
       "    </tr>\n",
       "    <tr>\n",
       "      <th>4</th>\n",
       "      <td>Germany</td>\n",
       "      <td>26045528</td>\n",
       "      <td>138326</td>\n",
       "      <td>26044283</td>\n",
       "      <td>138325</td>\n",
       "      <td>1245</td>\n",
       "      <td>1</td>\n",
       "      <td>0.5</td>\n",
       "      <td>Europe</td>\n",
       "    </tr>\n",
       "  </tbody>\n",
       "</table>\n",
       "</div>"
      ],
      "text/plain": [
       "  Country/Region     Cases   Deaths    PCases  PDeaths  Cases (+)  Deaths (+)  \\\n",
       "0             US  83281329  1002173  83263020  1002146      18309          27   \n",
       "1          India  43138393   524459  43136371   524413       2022          46   \n",
       "2         Brazil  30791220   665854  30762413   665720      28807         134   \n",
       "3         France  29580970   148823  29564005   148820      16965           3   \n",
       "4        Germany  26045528   138326  26044283   138325       1245           1   \n",
       "\n",
       "   Fatality Rate      Continent  \n",
       "0            1.2  North America  \n",
       "1            1.2           Asia  \n",
       "2            2.2  South America  \n",
       "3            0.5         Europe  \n",
       "4            0.5         Europe  "
      ]
     },
     "execution_count": 15,
     "metadata": {},
     "output_type": "execute_result"
    }
   ],
   "source": [
    "#hide\n",
    "df_table = (pd.DataFrame(dict(Cases=dfc_cases, Deaths=dfc_deaths, PCases=dfp_cases, PDeaths=dfp_deaths))\n",
    "             .sort_values(by=['Cases', 'Deaths'], ascending=[False, False])\n",
    "             .reset_index())\n",
    "df_table.rename(columns={'index': 'Country/Region'}, inplace=True)\n",
    "for c in 'Cases, Deaths'.split(', '):\n",
    "    df_table[f'{c} (+)'] = (df_table[c] - df_table[f'P{c}']).clip(0)  # DATA BUG\n",
    "df_table['Fatality Rate'] = (100 * df_table['Deaths'] / df_table['Cases']).round(1)\n",
    "df_table['Continent'] = df_table['Country/Region'].map(mapping['map.continent'])\n",
    "df_table.head(5)"
   ]
  },
  {
   "cell_type": "code",
   "execution_count": 16,
   "id": "fewer-occasion",
   "metadata": {
    "execution": {
     "iopub.execute_input": "2022-05-24T00:44:35.762319Z",
     "iopub.status.busy": "2022-05-24T00:44:35.761598Z",
     "iopub.status.idle": "2022-05-24T00:44:35.764088Z",
     "shell.execute_reply": "2022-05-24T00:44:35.764641Z"
    },
    "papermill": {
     "duration": 0.041354,
     "end_time": "2022-05-24T00:44:35.764780",
     "exception": false,
     "start_time": "2022-05-24T00:44:35.723426",
     "status": "completed"
    },
    "tags": []
   },
   "outputs": [],
   "source": [
    "#hide\n",
    "#delete problematic countries from table\n",
    "df_table = df_table[~df_table['Country/Region'].isin(['Cape Verde', 'Cruise Ship', 'Kosovo'])]"
   ]
  },
  {
   "cell_type": "code",
   "execution_count": 17,
   "id": "related-center",
   "metadata": {
    "execution": {
     "iopub.execute_input": "2022-05-24T00:44:35.843621Z",
     "iopub.status.busy": "2022-05-24T00:44:35.843054Z",
     "iopub.status.idle": "2022-05-24T00:44:35.853942Z",
     "shell.execute_reply": "2022-05-24T00:44:35.853409Z"
    },
    "papermill": {
     "duration": 0.056268,
     "end_time": "2022-05-24T00:44:35.854083",
     "exception": false,
     "start_time": "2022-05-24T00:44:35.797815",
     "status": "completed"
    },
    "tags": []
   },
   "outputs": [],
   "source": [
    "#hide\n",
    "metrics = [df_table.columns[index] for index in [1,2,5,6]]\n",
    "# s_china = df_table[df_table['Country/Region'].eq('China')][metrics].sum().add_prefix('China ')\n",
    "s_us = df_table[df_table['Country/Region'].eq('US')][metrics].sum().add_prefix('US ')\n",
    "s_eu = df_table[df_table['Continent'].eq('Europe')][metrics].sum().add_prefix('EU ')\n",
    "s_ind = df_table[df_table['Country/Region'].eq('India')][metrics].sum().add_prefix('India ')\n",
    "summary = {'updated': pd.to_datetime(dt_today), 'since': pd.to_datetime(dt_yday)}\n",
    "summary = {'updated': pd.to_datetime(dt_today), 'since': pd.to_datetime(dt_yday)}\n",
    "summary = {**summary, **df_table[metrics].sum(), **s_ind, **s_us, **s_eu}"
   ]
  },
  {
   "cell_type": "code",
   "execution_count": 18,
   "id": "engaging-syndrome",
   "metadata": {
    "execution": {
     "iopub.execute_input": "2022-05-24T00:44:35.924981Z",
     "iopub.status.busy": "2022-05-24T00:44:35.924366Z",
     "iopub.status.idle": "2022-05-24T00:44:35.947505Z",
     "shell.execute_reply": "2022-05-24T00:44:35.946826Z"
    },
    "papermill": {
     "duration": 0.061155,
     "end_time": "2022-05-24T00:44:35.947652",
     "exception": false,
     "start_time": "2022-05-24T00:44:35.886497",
     "status": "completed"
    },
    "tags": []
   },
   "outputs": [],
   "source": [
    "#hide\n",
    "dft_ct_new_cases = dft_cases.groupby(COL_REGION)[dt_cols].sum().diff(axis=1).fillna(0).astype(int)"
   ]
  },
  {
   "cell_type": "code",
   "execution_count": 19,
   "id": "neutral-assignment",
   "metadata": {
    "execution": {
     "iopub.execute_input": "2022-05-24T00:44:36.021171Z",
     "iopub.status.busy": "2022-05-24T00:44:36.020471Z",
     "iopub.status.idle": "2022-05-24T00:44:36.023189Z",
     "shell.execute_reply": "2022-05-24T00:44:36.022567Z"
    },
    "papermill": {
     "duration": 0.041933,
     "end_time": "2022-05-24T00:44:36.023326",
     "exception": false,
     "start_time": "2022-05-24T00:44:35.981393",
     "status": "completed"
    },
    "tags": []
   },
   "outputs": [],
   "source": [
    "#hide\n",
    "everydaycases = dft_ct_new_cases.cumsum(axis=1)"
   ]
  },
  {
   "cell_type": "code",
   "execution_count": 20,
   "id": "parliamentary-calgary",
   "metadata": {
    "execution": {
     "iopub.execute_input": "2022-05-24T00:44:36.095612Z",
     "iopub.status.busy": "2022-05-24T00:44:36.094941Z",
     "iopub.status.idle": "2022-05-24T00:44:36.712176Z",
     "shell.execute_reply": "2022-05-24T00:44:36.711095Z"
    },
    "papermill": {
     "duration": 0.655496,
     "end_time": "2022-05-24T00:44:36.712325",
     "exception": false,
     "start_time": "2022-05-24T00:44:36.056829",
     "status": "completed"
    },
    "tags": []
   },
   "outputs": [],
   "source": [
    "#hide\n",
    "import pandas as pd\n",
    "import matplotlib.pyplot as plt\n",
    "import matplotlib.ticker as ticker\n",
    "import matplotlib.animation as animation\n",
    "from IPython.display import HTML"
   ]
  },
  {
   "cell_type": "code",
   "execution_count": 21,
   "id": "lasting-extraction",
   "metadata": {
    "execution": {
     "iopub.execute_input": "2022-05-24T00:44:36.795186Z",
     "iopub.status.busy": "2022-05-24T00:44:36.794498Z",
     "iopub.status.idle": "2022-05-24T00:44:36.802109Z",
     "shell.execute_reply": "2022-05-24T00:44:36.801514Z"
    },
    "papermill": {
     "duration": 0.053799,
     "end_time": "2022-05-24T00:44:36.802268",
     "exception": false,
     "start_time": "2022-05-24T00:44:36.748469",
     "status": "completed"
    },
    "tags": []
   },
   "outputs": [],
   "source": [
    "#hide\n",
    "t = everydaycases.stack()"
   ]
  },
  {
   "cell_type": "code",
   "execution_count": 22,
   "id": "premier-sleeve",
   "metadata": {
    "execution": {
     "iopub.execute_input": "2022-05-24T00:44:36.880459Z",
     "iopub.status.busy": "2022-05-24T00:44:36.879789Z",
     "iopub.status.idle": "2022-05-24T00:44:36.894102Z",
     "shell.execute_reply": "2022-05-24T00:44:36.893408Z"
    },
    "papermill": {
     "duration": 0.056785,
     "end_time": "2022-05-24T00:44:36.894251",
     "exception": false,
     "start_time": "2022-05-24T00:44:36.837466",
     "status": "completed"
    },
    "tags": []
   },
   "outputs": [],
   "source": [
    "#hide\n",
    "g = t.reset_index(['Country/Region'])"
   ]
  },
  {
   "cell_type": "code",
   "execution_count": 23,
   "id": "distributed-pittsburgh",
   "metadata": {
    "execution": {
     "iopub.execute_input": "2022-05-24T00:44:36.968609Z",
     "iopub.status.busy": "2022-05-24T00:44:36.967941Z",
     "iopub.status.idle": "2022-05-24T00:44:36.971719Z",
     "shell.execute_reply": "2022-05-24T00:44:36.972214Z"
    },
    "papermill": {
     "duration": 0.043616,
     "end_time": "2022-05-24T00:44:36.972358",
     "exception": false,
     "start_time": "2022-05-24T00:44:36.928742",
     "status": "completed"
    },
    "tags": []
   },
   "outputs": [],
   "source": [
    "#hide\n",
    "g.index.name = 'date'"
   ]
  },
  {
   "cell_type": "code",
   "execution_count": 24,
   "id": "naked-donor",
   "metadata": {
    "execution": {
     "iopub.execute_input": "2022-05-24T00:44:37.046154Z",
     "iopub.status.busy": "2022-05-24T00:44:37.045298Z",
     "iopub.status.idle": "2022-05-24T00:44:37.047084Z",
     "shell.execute_reply": "2022-05-24T00:44:37.047832Z"
    },
    "papermill": {
     "duration": 0.041185,
     "end_time": "2022-05-24T00:44:37.047993",
     "exception": false,
     "start_time": "2022-05-24T00:44:37.006808",
     "status": "completed"
    },
    "tags": []
   },
   "outputs": [],
   "source": [
    "# #hide\n",
    "# g = g.reset_index(['date'])"
   ]
  },
  {
   "cell_type": "code",
   "execution_count": 25,
   "id": "incomplete-mustang",
   "metadata": {
    "execution": {
     "iopub.execute_input": "2022-05-24T00:44:37.122121Z",
     "iopub.status.busy": "2022-05-24T00:44:37.121403Z",
     "iopub.status.idle": "2022-05-24T00:44:37.124149Z",
     "shell.execute_reply": "2022-05-24T00:44:37.123589Z"
    },
    "papermill": {
     "duration": 0.041151,
     "end_time": "2022-05-24T00:44:37.124262",
     "exception": false,
     "start_time": "2022-05-24T00:44:37.083111",
     "status": "completed"
    },
    "tags": []
   },
   "outputs": [],
   "source": [
    "#hide\n",
    "# g.head()"
   ]
  },
  {
   "cell_type": "code",
   "execution_count": 26,
   "id": "specific-kruger",
   "metadata": {
    "execution": {
     "iopub.execute_input": "2022-05-24T00:44:37.197918Z",
     "iopub.status.busy": "2022-05-24T00:44:37.197289Z",
     "iopub.status.idle": "2022-05-24T00:44:37.201076Z",
     "shell.execute_reply": "2022-05-24T00:44:37.201587Z"
    },
    "papermill": {
     "duration": 0.04245,
     "end_time": "2022-05-24T00:44:37.201733",
     "exception": false,
     "start_time": "2022-05-24T00:44:37.159283",
     "status": "completed"
    },
    "tags": []
   },
   "outputs": [],
   "source": [
    "#hide\n",
    "# g.columns = ['date','country','cases']"
   ]
  },
  {
   "cell_type": "code",
   "execution_count": 27,
   "id": "tender-conversion",
   "metadata": {
    "execution": {
     "iopub.execute_input": "2022-05-24T00:44:37.276874Z",
     "iopub.status.busy": "2022-05-24T00:44:37.276027Z",
     "iopub.status.idle": "2022-05-24T00:44:37.280549Z",
     "shell.execute_reply": "2022-05-24T00:44:37.280076Z"
    },
    "papermill": {
     "duration": 0.042164,
     "end_time": "2022-05-24T00:44:37.280653",
     "exception": false,
     "start_time": "2022-05-24T00:44:37.238489",
     "status": "completed"
    },
    "tags": []
   },
   "outputs": [],
   "source": [
    "#hide\n",
    "# g['continent'] = g.country"
   ]
  },
  {
   "cell_type": "code",
   "execution_count": 28,
   "id": "substantial-wilderness",
   "metadata": {
    "execution": {
     "iopub.execute_input": "2022-05-24T00:44:37.349569Z",
     "iopub.status.busy": "2022-05-24T00:44:37.348786Z",
     "iopub.status.idle": "2022-05-24T00:44:37.350821Z",
     "shell.execute_reply": "2022-05-24T00:44:37.351440Z"
    },
    "papermill": {
     "duration": 0.038767,
     "end_time": "2022-05-24T00:44:37.351597",
     "exception": false,
     "start_time": "2022-05-24T00:44:37.312830",
     "status": "completed"
    },
    "tags": []
   },
   "outputs": [],
   "source": [
    "#hide\n",
    "# cols = list(g.columns.values)"
   ]
  },
  {
   "cell_type": "code",
   "execution_count": 29,
   "id": "solved-farming",
   "metadata": {
    "execution": {
     "iopub.execute_input": "2022-05-24T00:44:37.423218Z",
     "iopub.status.busy": "2022-05-24T00:44:37.422426Z",
     "iopub.status.idle": "2022-05-24T00:44:37.424123Z",
     "shell.execute_reply": "2022-05-24T00:44:37.424755Z"
    },
    "papermill": {
     "duration": 0.039553,
     "end_time": "2022-05-24T00:44:37.424888",
     "exception": false,
     "start_time": "2022-05-24T00:44:37.385335",
     "status": "completed"
    },
    "tags": []
   },
   "outputs": [],
   "source": [
    "#hide\n",
    "# cols.insert(0, cols.pop())"
   ]
  },
  {
   "cell_type": "code",
   "execution_count": 30,
   "id": "executed-adoption",
   "metadata": {
    "execution": {
     "iopub.execute_input": "2022-05-24T00:44:37.496011Z",
     "iopub.status.busy": "2022-05-24T00:44:37.495374Z",
     "iopub.status.idle": "2022-05-24T00:44:37.498079Z",
     "shell.execute_reply": "2022-05-24T00:44:37.497396Z"
    },
    "papermill": {
     "duration": 0.039733,
     "end_time": "2022-05-24T00:44:37.498203",
     "exception": false,
     "start_time": "2022-05-24T00:44:37.458470",
     "status": "completed"
    },
    "tags": []
   },
   "outputs": [],
   "source": [
    "#hide\n",
    "# g = g[cols]"
   ]
  },
  {
   "cell_type": "code",
   "execution_count": 31,
   "id": "subject-dublin",
   "metadata": {
    "execution": {
     "iopub.execute_input": "2022-05-24T00:44:37.569352Z",
     "iopub.status.busy": "2022-05-24T00:44:37.568553Z",
     "iopub.status.idle": "2022-05-24T00:44:37.570517Z",
     "shell.execute_reply": "2022-05-24T00:44:37.571174Z"
    },
    "papermill": {
     "duration": 0.039193,
     "end_time": "2022-05-24T00:44:37.571332",
     "exception": false,
     "start_time": "2022-05-24T00:44:37.532139",
     "status": "completed"
    },
    "tags": []
   },
   "outputs": [],
   "source": [
    "#hide\n",
    "# g['continent'] = g['continent'].map(mapping['map.continent'])"
   ]
  },
  {
   "cell_type": "code",
   "execution_count": 32,
   "id": "freelance-scout",
   "metadata": {
    "execution": {
     "iopub.execute_input": "2022-05-24T00:44:37.641881Z",
     "iopub.status.busy": "2022-05-24T00:44:37.641105Z",
     "iopub.status.idle": "2022-05-24T00:44:37.643950Z",
     "shell.execute_reply": "2022-05-24T00:44:37.643180Z"
    },
    "papermill": {
     "duration": 0.038584,
     "end_time": "2022-05-24T00:44:37.644085",
     "exception": false,
     "start_time": "2022-05-24T00:44:37.605501",
     "status": "completed"
    },
    "tags": []
   },
   "outputs": [],
   "source": [
    "#hide\n",
    "# g.head()"
   ]
  },
  {
   "cell_type": "code",
   "execution_count": 33,
   "id": "limited-engine",
   "metadata": {
    "execution": {
     "iopub.execute_input": "2022-05-24T00:44:37.713831Z",
     "iopub.status.busy": "2022-05-24T00:44:37.713025Z",
     "iopub.status.idle": "2022-05-24T00:44:37.715084Z",
     "shell.execute_reply": "2022-05-24T00:44:37.715696Z"
    },
    "papermill": {
     "duration": 0.04067,
     "end_time": "2022-05-24T00:44:37.715852",
     "exception": false,
     "start_time": "2022-05-24T00:44:37.675182",
     "status": "completed"
    },
    "tags": []
   },
   "outputs": [],
   "source": [
    "# hide\n",
    "# g['date'] = g['date'].astype('datetime64[ns]')"
   ]
  },
  {
   "cell_type": "code",
   "execution_count": 34,
   "id": "sophisticated-supervisor",
   "metadata": {
    "execution": {
     "iopub.execute_input": "2022-05-24T00:44:37.794464Z",
     "iopub.status.busy": "2022-05-24T00:44:37.793728Z",
     "iopub.status.idle": "2022-05-24T00:44:37.798013Z",
     "shell.execute_reply": "2022-05-24T00:44:37.797339Z"
    },
    "papermill": {
     "duration": 0.043564,
     "end_time": "2022-05-24T00:44:37.798166",
     "exception": false,
     "start_time": "2022-05-24T00:44:37.754602",
     "status": "completed"
    },
    "tags": []
   },
   "outputs": [],
   "source": [
    "#hide\n",
    "# g['date'] = g.date.dt.dayofyear"
   ]
  },
  {
   "cell_type": "code",
   "execution_count": 35,
   "id": "inside-dubai",
   "metadata": {
    "execution": {
     "iopub.execute_input": "2022-05-24T00:44:37.875186Z",
     "iopub.status.busy": "2022-05-24T00:44:37.874355Z",
     "iopub.status.idle": "2022-05-24T00:44:37.876429Z",
     "shell.execute_reply": "2022-05-24T00:44:37.877042Z"
    },
    "papermill": {
     "duration": 0.043497,
     "end_time": "2022-05-24T00:44:37.877215",
     "exception": false,
     "start_time": "2022-05-24T00:44:37.833718",
     "status": "completed"
    },
    "tags": []
   },
   "outputs": [],
   "source": [
    "#hide\n",
    "# g = g.rename(columns= {'continent':'group','country':'name','cases':'value'})"
   ]
  },
  {
   "cell_type": "code",
   "execution_count": 36,
   "id": "fleet-motorcycle",
   "metadata": {
    "execution": {
     "iopub.execute_input": "2022-05-24T00:44:37.951814Z",
     "iopub.status.busy": "2022-05-24T00:44:37.951135Z",
     "iopub.status.idle": "2022-05-24T00:44:37.955627Z",
     "shell.execute_reply": "2022-05-24T00:44:37.955049Z"
    },
    "papermill": {
     "duration": 0.042543,
     "end_time": "2022-05-24T00:44:37.955750",
     "exception": false,
     "start_time": "2022-05-24T00:44:37.913207",
     "status": "completed"
    },
    "tags": []
   },
   "outputs": [],
   "source": [
    "#hide\n",
    "# cols = ['name','group','day','value']"
   ]
  },
  {
   "cell_type": "code",
   "execution_count": 37,
   "id": "continued-sleeping",
   "metadata": {
    "execution": {
     "iopub.execute_input": "2022-05-24T00:44:38.029758Z",
     "iopub.status.busy": "2022-05-24T00:44:38.028954Z",
     "iopub.status.idle": "2022-05-24T00:44:38.030951Z",
     "shell.execute_reply": "2022-05-24T00:44:38.031598Z"
    },
    "papermill": {
     "duration": 0.041455,
     "end_time": "2022-05-24T00:44:38.031755",
     "exception": false,
     "start_time": "2022-05-24T00:44:37.990300",
     "status": "completed"
    },
    "tags": []
   },
   "outputs": [],
   "source": [
    "#hide\n",
    "# g.rename(columns= {'date':'day'},inplace = True)"
   ]
  },
  {
   "cell_type": "code",
   "execution_count": 38,
   "id": "major-fight",
   "metadata": {
    "execution": {
     "iopub.execute_input": "2022-05-24T00:44:38.109560Z",
     "iopub.status.busy": "2022-05-24T00:44:38.108732Z",
     "iopub.status.idle": "2022-05-24T00:44:38.110701Z",
     "shell.execute_reply": "2022-05-24T00:44:38.111354Z"
    },
    "papermill": {
     "duration": 0.042297,
     "end_time": "2022-05-24T00:44:38.111517",
     "exception": false,
     "start_time": "2022-05-24T00:44:38.069220",
     "status": "completed"
    },
    "tags": []
   },
   "outputs": [],
   "source": [
    "#hide\n",
    "# g = g[cols]"
   ]
  },
  {
   "cell_type": "code",
   "execution_count": 39,
   "id": "structured-mobile",
   "metadata": {
    "execution": {
     "iopub.execute_input": "2022-05-24T00:44:38.185100Z",
     "iopub.status.busy": "2022-05-24T00:44:38.184288Z",
     "iopub.status.idle": "2022-05-24T00:44:38.186133Z",
     "shell.execute_reply": "2022-05-24T00:44:38.186697Z"
    },
    "papermill": {
     "duration": 0.040494,
     "end_time": "2022-05-24T00:44:38.186843",
     "exception": false,
     "start_time": "2022-05-24T00:44:38.146349",
     "status": "completed"
    },
    "tags": []
   },
   "outputs": [],
   "source": [
    "# #hide\n",
    "# g = g[g.group.notna()]"
   ]
  },
  {
   "cell_type": "code",
   "execution_count": 40,
   "id": "determined-closing",
   "metadata": {
    "execution": {
     "iopub.execute_input": "2022-05-24T00:44:38.259928Z",
     "iopub.status.busy": "2022-05-24T00:44:38.259215Z",
     "iopub.status.idle": "2022-05-24T00:44:38.263269Z",
     "shell.execute_reply": "2022-05-24T00:44:38.263729Z"
    },
    "papermill": {
     "duration": 0.042737,
     "end_time": "2022-05-24T00:44:38.263865",
     "exception": false,
     "start_time": "2022-05-24T00:44:38.221128",
     "status": "completed"
    },
    "tags": []
   },
   "outputs": [],
   "source": [
    "# #hide\n",
    "# colors = dict(zip(\n",
    "#     [\"Oceania\", \"Europe\", \"Asia\", \"South America\", \"Middle East\", \"North America\", \"Africa\"],\n",
    "#     [\"#adb0ff\", \"#ffb3ff\", \"#90d595\", \"#e48381\", \"#aafbff\", \"#f7bb5f\", \"#eafb50\"]\n",
    "# ))\n",
    "# group_lk = g.set_index('name')['group'].to_dict()"
   ]
  },
  {
   "cell_type": "code",
   "execution_count": null,
   "id": "gross-drinking",
   "metadata": {
    "papermill": {
     "duration": 0.032151,
     "end_time": "2022-05-24T00:44:38.328658",
     "exception": false,
     "start_time": "2022-05-24T00:44:38.296507",
     "status": "completed"
    },
    "tags": []
   },
   "outputs": [],
   "source": []
  },
  {
   "cell_type": "code",
   "execution_count": 41,
   "id": "subject-macintosh",
   "metadata": {
    "execution": {
     "iopub.execute_input": "2022-05-24T00:44:38.402302Z",
     "iopub.status.busy": "2022-05-24T00:44:38.401437Z",
     "iopub.status.idle": "2022-05-24T00:44:38.403158Z",
     "shell.execute_reply": "2022-05-24T00:44:38.403891Z"
    },
    "papermill": {
     "duration": 0.041519,
     "end_time": "2022-05-24T00:44:38.404053",
     "exception": false,
     "start_time": "2022-05-24T00:44:38.362534",
     "status": "completed"
    },
    "tags": []
   },
   "outputs": [],
   "source": [
    "# #hide\n",
    "# fig, ax = plt.subplots(figsize=(15, 8))\n",
    "\n",
    "# def draw_barchart(current_day):\n",
    "#     dff = g[g['day'].eq(current_day)].sort_values(by='value', ascending=True).tail(10)\n",
    "#     ax.clear()\n",
    "#     ax.barh(dff['name'], dff['value'], color=[colors[group_lk[x]] for x in dff['name']])\n",
    "#     dx = dff['value'].max() / 200\n",
    "    \n",
    "#     for i, (value, name) in enumerate(zip(dff['value'], dff['name'])):\n",
    "#         ax.text(value-dx, i,     name,           size=14, weight=600, ha='right', va='bottom')\n",
    "#         ax.text(value-dx, i-.25, group_lk[name], size=10, color='#444444', ha='right', va='baseline')\n",
    "#         ax.text(value+dx, i,     f'{value:,.0f}',  size=14, ha='left',  va='center')\n",
    "#     ax.text(1, 0.4, current_day, transform=ax.transAxes, color='#777777', size=46, ha='right', weight=800)\n",
    "#     ax.text(0, 1.06, 'Population (thousands)', transform=ax.transAxes, size=12, color='#777777')\n",
    "#     ax.xaxis.set_major_formatter(ticker.StrMethodFormatter('{x:,.0f}'))\n",
    "#     ax.xaxis.set_ticks_position('top')\n",
    "#     ax.tick_params(axis='x', colors='#777777', labelsize=12)\n",
    "#     ax.set_yticks([])\n",
    "#     ax.margins(0, 0.01)\n",
    "#     ax.grid(which='major', axis='x', linestyle='-')\n",
    "#     ax.set_axisbelow(True)\n",
    "    \n",
    "#     ax.text(0, 1.15, 'Coronavirus',\n",
    "#             transform=ax.transAxes, size=24, weight=600, ha='left', va='top')\n",
    "# #     ax.text(1, 0, 'by @pratapvardhan; credit @jburnmurdoch', transform=ax.transAxes, color='#777777', ha='right',\n",
    "# #             bbox=dict(facecolor='white', alpha=0.8, edgecolor='white'))\n",
    "#     plt.box(False)"
   ]
  },
  {
   "cell_type": "code",
   "execution_count": 42,
   "id": "sexual-wages",
   "metadata": {
    "execution": {
     "iopub.execute_input": "2022-05-24T00:44:38.476815Z",
     "iopub.status.busy": "2022-05-24T00:44:38.476005Z",
     "iopub.status.idle": "2022-05-24T00:44:38.480036Z",
     "shell.execute_reply": "2022-05-24T00:44:38.480563Z"
    },
    "papermill": {
     "duration": 0.042003,
     "end_time": "2022-05-24T00:44:38.480705",
     "exception": false,
     "start_time": "2022-05-24T00:44:38.438702",
     "status": "completed"
    },
    "tags": []
   },
   "outputs": [],
   "source": [
    "# #hide_input\n",
    "# fig, ax = plt.subplots(figsize=(15, 8))\n",
    "# animator = animation.FuncAnimation(fig, draw_barchart, frames=range(g.day.values.min(), g.day.values.max()))\n",
    "# HTML(animator.to_jshtml())\n",
    "# # or use animator.to_html5_video() or animator.save() "
   ]
  },
  {
   "cell_type": "code",
   "execution_count": null,
   "id": "australian-container",
   "metadata": {
    "papermill": {
     "duration": 0.03295,
     "end_time": "2022-05-24T00:44:38.547568",
     "exception": false,
     "start_time": "2022-05-24T00:44:38.514618",
     "status": "completed"
    },
    "tags": []
   },
   "outputs": [],
   "source": []
  },
  {
   "cell_type": "code",
   "execution_count": null,
   "id": "mediterranean-pontiac",
   "metadata": {
    "papermill": {
     "duration": 0.030935,
     "end_time": "2022-05-24T00:44:38.611908",
     "exception": false,
     "start_time": "2022-05-24T00:44:38.580973",
     "status": "completed"
    },
    "tags": []
   },
   "outputs": [],
   "source": []
  },
  {
   "cell_type": "code",
   "execution_count": null,
   "id": "aging-legislature",
   "metadata": {
    "papermill": {
     "duration": 0.031626,
     "end_time": "2022-05-24T00:44:38.675143",
     "exception": false,
     "start_time": "2022-05-24T00:44:38.643517",
     "status": "completed"
    },
    "tags": []
   },
   "outputs": [],
   "source": []
  }
 ],
 "metadata": {
  "kernelspec": {
   "display_name": "Python 3",
   "language": "python",
   "name": "python3"
  },
  "language_info": {
   "codemirror_mode": {
    "name": "ipython",
    "version": 3
   },
   "file_extension": ".py",
   "mimetype": "text/x-python",
   "name": "python",
   "nbconvert_exporter": "python",
   "pygments_lexer": "ipython3",
   "version": "3.6.15"
  },
  "papermill": {
   "duration": 6.679581,
   "end_time": "2022-05-24T00:44:39.025681",
   "environment_variables": {},
   "exception": null,
   "input_path": "2020-03-21-covid19exp.ipynb",
   "output_path": "2020-03-21-covid19exp.ipynb",
   "parameters": {},
   "start_time": "2022-05-24T00:44:32.346100",
   "version": "2.0.0"
  }
 },
 "nbformat": 4,
 "nbformat_minor": 5
}