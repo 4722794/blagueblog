{
 "cells": [
  {
   "cell_type": "markdown",
   "id": "muslim-click",
   "metadata": {
    "papermill": {
     "duration": 0.042498,
     "end_time": "2021-10-06T00:23:52.610105",
     "exception": false,
     "start_time": "2021-10-06T00:23:52.567607",
     "status": "completed"
    },
    "tags": []
   },
   "source": [
    "# COVID-19 Case Race\n",
    "> A race chart to see rising cases around the world\n",
    "\n",
    "- author: Hargun Oberoi\n",
    "- image: images/covid-overview.png\n",
    "- hide: false\n",
    "- badges: false"
   ]
  },
  {
   "cell_type": "code",
   "execution_count": 1,
   "id": "proof-material",
   "metadata": {
    "execution": {
     "iopub.execute_input": "2021-10-06T00:23:52.691704Z",
     "iopub.status.busy": "2021-10-06T00:23:52.691065Z",
     "iopub.status.idle": "2021-10-06T00:23:53.056942Z",
     "shell.execute_reply": "2021-10-06T00:23:53.056376Z"
    },
    "papermill": {
     "duration": 0.412428,
     "end_time": "2021-10-06T00:23:53.057108",
     "exception": false,
     "start_time": "2021-10-06T00:23:52.644680",
     "status": "completed"
    },
    "tags": []
   },
   "outputs": [],
   "source": [
    "#hide\n",
    "import numpy as np\n",
    "import pandas as pd\n",
    "from jinja2 import Template\n",
    "from IPython.display import HTML"
   ]
  },
  {
   "cell_type": "code",
   "execution_count": 2,
   "id": "developed-terminology",
   "metadata": {
    "execution": {
     "iopub.execute_input": "2021-10-06T00:23:53.134508Z",
     "iopub.status.busy": "2021-10-06T00:23:53.133347Z",
     "iopub.status.idle": "2021-10-06T00:23:53.137144Z",
     "shell.execute_reply": "2021-10-06T00:23:53.136690Z"
    },
    "papermill": {
     "duration": 0.045486,
     "end_time": "2021-10-06T00:23:53.137278",
     "exception": false,
     "start_time": "2021-10-06T00:23:53.091792",
     "status": "completed"
    },
    "tags": []
   },
   "outputs": [],
   "source": [
    "#hide\n",
    "\n",
    "# FETCH\n",
    "base_url = 'https://raw.githubusercontent.com/pratapvardhan/notebooks/master/covid19/'\n",
    "paths = {\n",
    "    'mapping': base_url + 'mapping_countries.csv',\n",
    "    'overview': base_url + 'overview.tpl'\n",
    "}"
   ]
  },
  {
   "cell_type": "code",
   "execution_count": 3,
   "id": "dynamic-saver",
   "metadata": {
    "execution": {
     "iopub.execute_input": "2021-10-06T00:23:53.213005Z",
     "iopub.status.busy": "2021-10-06T00:23:53.210062Z",
     "iopub.status.idle": "2021-10-06T00:23:53.216184Z",
     "shell.execute_reply": "2021-10-06T00:23:53.215742Z"
    },
    "papermill": {
     "duration": 0.046677,
     "end_time": "2021-10-06T00:23:53.216301",
     "exception": false,
     "start_time": "2021-10-06T00:23:53.169624",
     "status": "completed"
    },
    "tags": []
   },
   "outputs": [
    {
     "data": {
      "text/plain": [
       "'https://raw.githubusercontent.com/pratapvardhan/notebooks/master/covid19/mapping_countries.csv'"
      ]
     },
     "execution_count": 3,
     "metadata": {},
     "output_type": "execute_result"
    }
   ],
   "source": [
    "#hide\n",
    "paths['mapping']"
   ]
  },
  {
   "cell_type": "code",
   "execution_count": 4,
   "id": "urban-software",
   "metadata": {
    "execution": {
     "iopub.execute_input": "2021-10-06T00:23:53.287034Z",
     "iopub.status.busy": "2021-10-06T00:23:53.286433Z",
     "iopub.status.idle": "2021-10-06T00:23:53.289313Z",
     "shell.execute_reply": "2021-10-06T00:23:53.288827Z"
    },
    "papermill": {
     "duration": 0.041071,
     "end_time": "2021-10-06T00:23:53.289430",
     "exception": false,
     "start_time": "2021-10-06T00:23:53.248359",
     "status": "completed"
    },
    "tags": []
   },
   "outputs": [],
   "source": [
    "#hide\n",
    "def get_mappings(url):\n",
    "    df = pd.read_csv(url)\n",
    "    return {\n",
    "        'df': df,\n",
    "        'replace.country': dict(df.dropna(subset=['Name']).set_index('Country')['Name']),\n",
    "        'map.continent': dict(df.set_index('Name')['Continent'])\n",
    "    }"
   ]
  },
  {
   "cell_type": "code",
   "execution_count": 5,
   "id": "intimate-machinery",
   "metadata": {
    "execution": {
     "iopub.execute_input": "2021-10-06T00:23:53.359640Z",
     "iopub.status.busy": "2021-10-06T00:23:53.359052Z",
     "iopub.status.idle": "2021-10-06T00:23:53.392170Z",
     "shell.execute_reply": "2021-10-06T00:23:53.391312Z"
    },
    "papermill": {
     "duration": 0.070759,
     "end_time": "2021-10-06T00:23:53.392381",
     "exception": false,
     "start_time": "2021-10-06T00:23:53.321622",
     "status": "completed"
    },
    "tags": []
   },
   "outputs": [],
   "source": [
    "#hide\n",
    "mapping = get_mappings(paths['mapping'])"
   ]
  },
  {
   "cell_type": "code",
   "execution_count": 6,
   "id": "certified-tactics",
   "metadata": {
    "execution": {
     "iopub.execute_input": "2021-10-06T00:23:53.469277Z",
     "iopub.status.busy": "2021-10-06T00:23:53.468674Z",
     "iopub.status.idle": "2021-10-06T00:23:53.471117Z",
     "shell.execute_reply": "2021-10-06T00:23:53.471681Z"
    },
    "papermill": {
     "duration": 0.043442,
     "end_time": "2021-10-06T00:23:53.471825",
     "exception": false,
     "start_time": "2021-10-06T00:23:53.428383",
     "status": "completed"
    },
    "tags": []
   },
   "outputs": [],
   "source": [
    "#hide\n",
    "def get_template(path):\n",
    "    from urllib.parse import urlparse\n",
    "    if bool(urlparse(path).netloc):\n",
    "        from urllib.request import urlopen\n",
    "        return urlopen(path).read().decode('utf8')\n",
    "    return open(path).read()"
   ]
  },
  {
   "cell_type": "code",
   "execution_count": 7,
   "id": "realistic-blast",
   "metadata": {
    "execution": {
     "iopub.execute_input": "2021-10-06T00:23:53.544242Z",
     "iopub.status.busy": "2021-10-06T00:23:53.543643Z",
     "iopub.status.idle": "2021-10-06T00:23:53.546321Z",
     "shell.execute_reply": "2021-10-06T00:23:53.545755Z"
    },
    "papermill": {
     "duration": 0.041369,
     "end_time": "2021-10-06T00:23:53.546436",
     "exception": false,
     "start_time": "2021-10-06T00:23:53.505067",
     "status": "completed"
    },
    "tags": []
   },
   "outputs": [],
   "source": [
    "#hide\n",
    "def get_frame(name):\n",
    "    url = (\n",
    "        'https://raw.githubusercontent.com/CSSEGISandData/COVID-19/master/csse_covid_19_data/'\n",
    "        f'csse_covid_19_time_series/time_series_covid19_{name}_global.csv')\n",
    "    df = pd.read_csv(url)\n",
    "    # rename countries\n",
    "    df['Country/Region'] = df['Country/Region'].replace(mapping['replace.country'])\n",
    "    return df"
   ]
  },
  {
   "cell_type": "code",
   "execution_count": 8,
   "id": "affiliated-characterization",
   "metadata": {
    "execution": {
     "iopub.execute_input": "2021-10-06T00:23:53.621216Z",
     "iopub.status.busy": "2021-10-06T00:23:53.620656Z",
     "iopub.status.idle": "2021-10-06T00:23:53.624239Z",
     "shell.execute_reply": "2021-10-06T00:23:53.624752Z"
    },
    "papermill": {
     "duration": 0.045794,
     "end_time": "2021-10-06T00:23:53.624889",
     "exception": false,
     "start_time": "2021-10-06T00:23:53.579095",
     "status": "completed"
    },
    "tags": []
   },
   "outputs": [],
   "source": [
    "#hide\n",
    "def get_dates(df):\n",
    "    dt_cols = df.columns[~df.columns.isin(['Province/State', 'Country/Region', 'Lat', 'Long'])]\n",
    "    LAST_DATE_I = -1\n",
    "    # sometimes last column may be empty, then go backwards\n",
    "    for i in range(-1, -len(dt_cols), -1):\n",
    "        if not df[dt_cols[i]].fillna(0).eq(0).all():\n",
    "            LAST_DATE_I = i\n",
    "            break\n",
    "    return LAST_DATE_I, dt_cols"
   ]
  },
  {
   "cell_type": "code",
   "execution_count": 9,
   "id": "recent-optimization",
   "metadata": {
    "execution": {
     "iopub.execute_input": "2021-10-06T00:23:53.696238Z",
     "iopub.status.busy": "2021-10-06T00:23:53.695613Z",
     "iopub.status.idle": "2021-10-06T00:23:54.019383Z",
     "shell.execute_reply": "2021-10-06T00:23:54.019860Z"
    },
    "papermill": {
     "duration": 0.362506,
     "end_time": "2021-10-06T00:23:54.020022",
     "exception": false,
     "start_time": "2021-10-06T00:23:53.657516",
     "status": "completed"
    },
    "tags": []
   },
   "outputs": [],
   "source": [
    "#hide\n",
    "COL_REGION = 'Country/Region'\n",
    "# Confirmed, Recovered, Deaths\n",
    "df = get_frame('confirmed')\n",
    "# dft_: timeseries, dfc_: today country agg\n",
    "dft_cases = df\n",
    "dft_deaths = get_frame('deaths')\n",
    "dft_recovered = get_frame('recovered')\n",
    "LAST_DATE_I, dt_cols = get_dates(df)"
   ]
  },
  {
   "cell_type": "code",
   "execution_count": 10,
   "id": "absolute-copper",
   "metadata": {
    "execution": {
     "iopub.execute_input": "2021-10-06T00:23:54.093279Z",
     "iopub.status.busy": "2021-10-06T00:23:54.092660Z",
     "iopub.status.idle": "2021-10-06T00:23:54.096717Z",
     "shell.execute_reply": "2021-10-06T00:23:54.096201Z"
    },
    "papermill": {
     "duration": 0.043289,
     "end_time": "2021-10-06T00:23:54.096846",
     "exception": false,
     "start_time": "2021-10-06T00:23:54.053557",
     "status": "completed"
    },
    "tags": []
   },
   "outputs": [],
   "source": [
    "#hide\n",
    "LAST_DATE_I, dt_cols = get_dates(df)\n",
    "dt_today =dt_cols[LAST_DATE_I]\n",
    "# dt_5day = dt_cols[LAST_DATE_I - 5]\n",
    "dt_yday = dt_cols[LAST_DATE_I - 1]"
   ]
  },
  {
   "cell_type": "code",
   "execution_count": 11,
   "id": "restricted-sheriff",
   "metadata": {
    "execution": {
     "iopub.execute_input": "2021-10-06T00:23:54.173267Z",
     "iopub.status.busy": "2021-10-06T00:23:54.172660Z",
     "iopub.status.idle": "2021-10-06T00:23:54.181359Z",
     "shell.execute_reply": "2021-10-06T00:23:54.180870Z"
    },
    "papermill": {
     "duration": 0.05041,
     "end_time": "2021-10-06T00:23:54.181500",
     "exception": false,
     "start_time": "2021-10-06T00:23:54.131090",
     "status": "completed"
    },
    "tags": []
   },
   "outputs": [],
   "source": [
    "#hide\n",
    "dfc_cases = dft_cases.groupby(COL_REGION)[dt_today].sum()\n",
    "dfc_deaths = dft_deaths.groupby(COL_REGION)[dt_today].sum()\n",
    "# dfp_cases = dft_cases.groupby(COL_REGION)[dt_5day].sum()\n",
    "# dfp_deaths = dft_deaths.groupby(COL_REGION)[dt_5day].sum()\n",
    "dfp_cases = dft_cases.groupby(COL_REGION)[dt_yday].sum()\n",
    "dfp_deaths = dft_deaths.groupby(COL_REGION)[dt_yday].sum()"
   ]
  },
  {
   "cell_type": "code",
   "execution_count": 12,
   "id": "deluxe-hepatitis",
   "metadata": {
    "execution": {
     "iopub.execute_input": "2021-10-06T00:23:54.256853Z",
     "iopub.status.busy": "2021-10-06T00:23:54.255437Z",
     "iopub.status.idle": "2021-10-06T00:23:54.262589Z",
     "shell.execute_reply": "2021-10-06T00:23:54.261508Z"
    },
    "papermill": {
     "duration": 0.047641,
     "end_time": "2021-10-06T00:23:54.262721",
     "exception": false,
     "start_time": "2021-10-06T00:23:54.215080",
     "status": "completed"
    },
    "tags": []
   },
   "outputs": [],
   "source": [
    "#hide\n",
    "df_table = (pd.DataFrame(dict(Cases = dfc_cases, Deaths = dfc_deaths, PCases = dfp_cases, PDeaths = dfp_deaths))\n",
    "            .sort_values(by = ['Cases','Deaths'], ascending = [False, False])\n",
    "            .reset_index())"
   ]
  },
  {
   "cell_type": "code",
   "execution_count": 13,
   "id": "educational-chancellor",
   "metadata": {
    "execution": {
     "iopub.execute_input": "2021-10-06T00:23:54.348068Z",
     "iopub.status.busy": "2021-10-06T00:23:54.343234Z",
     "iopub.status.idle": "2021-10-06T00:23:54.356457Z",
     "shell.execute_reply": "2021-10-06T00:23:54.355996Z"
    },
    "papermill": {
     "duration": 0.060937,
     "end_time": "2021-10-06T00:23:54.356585",
     "exception": false,
     "start_time": "2021-10-06T00:23:54.295648",
     "status": "completed"
    },
    "tags": []
   },
   "outputs": [
    {
     "data": {
      "text/html": [
       "<div>\n",
       "<style scoped>\n",
       "    .dataframe tbody tr th:only-of-type {\n",
       "        vertical-align: middle;\n",
       "    }\n",
       "\n",
       "    .dataframe tbody tr th {\n",
       "        vertical-align: top;\n",
       "    }\n",
       "\n",
       "    .dataframe thead th {\n",
       "        text-align: right;\n",
       "    }\n",
       "</style>\n",
       "<table border=\"1\" class=\"dataframe\">\n",
       "  <thead>\n",
       "    <tr style=\"text-align: right;\">\n",
       "      <th></th>\n",
       "      <th>Country/Region</th>\n",
       "      <th>Cases</th>\n",
       "      <th>Deaths</th>\n",
       "      <th>PCases</th>\n",
       "      <th>PDeaths</th>\n",
       "      <th>Cases (+)</th>\n",
       "      <th>Deaths (+)</th>\n",
       "      <th>Fatality Rate</th>\n",
       "      <th>Continent</th>\n",
       "    </tr>\n",
       "  </thead>\n",
       "  <tbody>\n",
       "    <tr>\n",
       "      <th>0</th>\n",
       "      <td>US</td>\n",
       "      <td>43852255</td>\n",
       "      <td>703278</td>\n",
       "      <td>43683048</td>\n",
       "      <td>701169</td>\n",
       "      <td>169207</td>\n",
       "      <td>2109</td>\n",
       "      <td>1.60</td>\n",
       "      <td>North America</td>\n",
       "    </tr>\n",
       "    <tr>\n",
       "      <th>1</th>\n",
       "      <td>India</td>\n",
       "      <td>33853048</td>\n",
       "      <td>449260</td>\n",
       "      <td>33834702</td>\n",
       "      <td>448997</td>\n",
       "      <td>18346</td>\n",
       "      <td>263</td>\n",
       "      <td>1.33</td>\n",
       "      <td>Asia</td>\n",
       "    </tr>\n",
       "    <tr>\n",
       "      <th>2</th>\n",
       "      <td>Brazil</td>\n",
       "      <td>21478546</td>\n",
       "      <td>598152</td>\n",
       "      <td>21468121</td>\n",
       "      <td>597948</td>\n",
       "      <td>10425</td>\n",
       "      <td>204</td>\n",
       "      <td>2.78</td>\n",
       "      <td>South America</td>\n",
       "    </tr>\n",
       "    <tr>\n",
       "      <th>3</th>\n",
       "      <td>United Kingdom</td>\n",
       "      <td>7972312</td>\n",
       "      <td>137378</td>\n",
       "      <td>7937810</td>\n",
       "      <td>137338</td>\n",
       "      <td>34502</td>\n",
       "      <td>40</td>\n",
       "      <td>1.72</td>\n",
       "      <td>Europe</td>\n",
       "    </tr>\n",
       "    <tr>\n",
       "      <th>4</th>\n",
       "      <td>Russia</td>\n",
       "      <td>7500000</td>\n",
       "      <td>207056</td>\n",
       "      <td>7474850</td>\n",
       "      <td>206179</td>\n",
       "      <td>25150</td>\n",
       "      <td>877</td>\n",
       "      <td>2.76</td>\n",
       "      <td>Europe</td>\n",
       "    </tr>\n",
       "  </tbody>\n",
       "</table>\n",
       "</div>"
      ],
      "text/plain": [
       "   Country/Region     Cases  Deaths    PCases  PDeaths  Cases (+)  Deaths (+)  \\\n",
       "0              US  43852255  703278  43683048   701169     169207        2109   \n",
       "1           India  33853048  449260  33834702   448997      18346         263   \n",
       "2          Brazil  21478546  598152  21468121   597948      10425         204   \n",
       "3  United Kingdom   7972312  137378   7937810   137338      34502          40   \n",
       "4          Russia   7500000  207056   7474850   206179      25150         877   \n",
       "\n",
       "   Fatality Rate      Continent  \n",
       "0           1.60  North America  \n",
       "1           1.33           Asia  \n",
       "2           2.78  South America  \n",
       "3           1.72         Europe  \n",
       "4           2.76         Europe  "
      ]
     },
     "execution_count": 13,
     "metadata": {},
     "output_type": "execute_result"
    }
   ],
   "source": [
    "#hide\n",
    "for c in 'Cases, Deaths'.split(', '):\n",
    "    df_table[f'{c} (+)'] = (df_table[c] - df_table[f'P{c}']).clip(0)\n",
    "    #Clip ça veut dire, les chiffres negatif sont interdit\n",
    "df_table['Fatality Rate'] = (100* df_table['Deaths']/ df_table['Cases']).round(2)\n",
    "df_table['Continent'] = df_table['Country/Region'].map(mapping['map.continent'])\n",
    "df_table.head(5)"
   ]
  },
  {
   "cell_type": "code",
   "execution_count": 14,
   "id": "aboriginal-bulgaria",
   "metadata": {
    "execution": {
     "iopub.execute_input": "2021-10-06T00:23:54.432298Z",
     "iopub.status.busy": "2021-10-06T00:23:54.431682Z",
     "iopub.status.idle": "2021-10-06T00:23:54.434528Z",
     "shell.execute_reply": "2021-10-06T00:23:54.434030Z"
    },
    "papermill": {
     "duration": 0.043215,
     "end_time": "2021-10-06T00:23:54.434649",
     "exception": false,
     "start_time": "2021-10-06T00:23:54.391434",
     "status": "completed"
    },
    "tags": []
   },
   "outputs": [],
   "source": [
    "#hide\n",
    "#delete problematic countries from table\n",
    "df_table = df_table[~df_table['Country/Region'].isin(['Cape Verde', 'Cruise Ship', 'Kosovo'])]"
   ]
  },
  {
   "cell_type": "code",
   "execution_count": 15,
   "id": "fantastic-effect",
   "metadata": {
    "execution": {
     "iopub.execute_input": "2021-10-06T00:23:54.514979Z",
     "iopub.status.busy": "2021-10-06T00:23:54.514316Z",
     "iopub.status.idle": "2021-10-06T00:23:54.533530Z",
     "shell.execute_reply": "2021-10-06T00:23:54.534024Z"
    },
    "papermill": {
     "duration": 0.066353,
     "end_time": "2021-10-06T00:23:54.534200",
     "exception": false,
     "start_time": "2021-10-06T00:23:54.467847",
     "status": "completed"
    },
    "tags": []
   },
   "outputs": [
    {
     "data": {
      "text/html": [
       "<div>\n",
       "<style scoped>\n",
       "    .dataframe tbody tr th:only-of-type {\n",
       "        vertical-align: middle;\n",
       "    }\n",
       "\n",
       "    .dataframe tbody tr th {\n",
       "        vertical-align: top;\n",
       "    }\n",
       "\n",
       "    .dataframe thead th {\n",
       "        text-align: right;\n",
       "    }\n",
       "</style>\n",
       "<table border=\"1\" class=\"dataframe\">\n",
       "  <thead>\n",
       "    <tr style=\"text-align: right;\">\n",
       "      <th></th>\n",
       "      <th>Country/Region</th>\n",
       "      <th>Cases</th>\n",
       "      <th>Deaths</th>\n",
       "      <th>PCases</th>\n",
       "      <th>PDeaths</th>\n",
       "      <th>Cases (+)</th>\n",
       "      <th>Deaths (+)</th>\n",
       "      <th>Fatality Rate</th>\n",
       "      <th>Continent</th>\n",
       "    </tr>\n",
       "  </thead>\n",
       "  <tbody>\n",
       "    <tr>\n",
       "      <th>0</th>\n",
       "      <td>US</td>\n",
       "      <td>43852255</td>\n",
       "      <td>703278</td>\n",
       "      <td>43683048</td>\n",
       "      <td>701169</td>\n",
       "      <td>169207</td>\n",
       "      <td>2109</td>\n",
       "      <td>1.6</td>\n",
       "      <td>North America</td>\n",
       "    </tr>\n",
       "    <tr>\n",
       "      <th>1</th>\n",
       "      <td>India</td>\n",
       "      <td>33853048</td>\n",
       "      <td>449260</td>\n",
       "      <td>33834702</td>\n",
       "      <td>448997</td>\n",
       "      <td>18346</td>\n",
       "      <td>263</td>\n",
       "      <td>1.3</td>\n",
       "      <td>Asia</td>\n",
       "    </tr>\n",
       "    <tr>\n",
       "      <th>2</th>\n",
       "      <td>Brazil</td>\n",
       "      <td>21478546</td>\n",
       "      <td>598152</td>\n",
       "      <td>21468121</td>\n",
       "      <td>597948</td>\n",
       "      <td>10425</td>\n",
       "      <td>204</td>\n",
       "      <td>2.8</td>\n",
       "      <td>South America</td>\n",
       "    </tr>\n",
       "    <tr>\n",
       "      <th>3</th>\n",
       "      <td>United Kingdom</td>\n",
       "      <td>7972312</td>\n",
       "      <td>137378</td>\n",
       "      <td>7937810</td>\n",
       "      <td>137338</td>\n",
       "      <td>34502</td>\n",
       "      <td>40</td>\n",
       "      <td>1.7</td>\n",
       "      <td>Europe</td>\n",
       "    </tr>\n",
       "    <tr>\n",
       "      <th>4</th>\n",
       "      <td>Russia</td>\n",
       "      <td>7500000</td>\n",
       "      <td>207056</td>\n",
       "      <td>7474850</td>\n",
       "      <td>206179</td>\n",
       "      <td>25150</td>\n",
       "      <td>877</td>\n",
       "      <td>2.8</td>\n",
       "      <td>Europe</td>\n",
       "    </tr>\n",
       "  </tbody>\n",
       "</table>\n",
       "</div>"
      ],
      "text/plain": [
       "   Country/Region     Cases  Deaths    PCases  PDeaths  Cases (+)  Deaths (+)  \\\n",
       "0              US  43852255  703278  43683048   701169     169207        2109   \n",
       "1           India  33853048  449260  33834702   448997      18346         263   \n",
       "2          Brazil  21478546  598152  21468121   597948      10425         204   \n",
       "3  United Kingdom   7972312  137378   7937810   137338      34502          40   \n",
       "4          Russia   7500000  207056   7474850   206179      25150         877   \n",
       "\n",
       "   Fatality Rate      Continent  \n",
       "0            1.6  North America  \n",
       "1            1.3           Asia  \n",
       "2            2.8  South America  \n",
       "3            1.7         Europe  \n",
       "4            2.8         Europe  "
      ]
     },
     "execution_count": 15,
     "metadata": {},
     "output_type": "execute_result"
    }
   ],
   "source": [
    "#hide\n",
    "df_table = (pd.DataFrame(dict(Cases=dfc_cases, Deaths=dfc_deaths, PCases=dfp_cases, PDeaths=dfp_deaths))\n",
    "             .sort_values(by=['Cases', 'Deaths'], ascending=[False, False])\n",
    "             .reset_index())\n",
    "df_table.rename(columns={'index': 'Country/Region'}, inplace=True)\n",
    "for c in 'Cases, Deaths'.split(', '):\n",
    "    df_table[f'{c} (+)'] = (df_table[c] - df_table[f'P{c}']).clip(0)  # DATA BUG\n",
    "df_table['Fatality Rate'] = (100 * df_table['Deaths'] / df_table['Cases']).round(1)\n",
    "df_table['Continent'] = df_table['Country/Region'].map(mapping['map.continent'])\n",
    "df_table.head(5)"
   ]
  },
  {
   "cell_type": "code",
   "execution_count": 16,
   "id": "fewer-occasion",
   "metadata": {
    "execution": {
     "iopub.execute_input": "2021-10-06T00:23:54.609439Z",
     "iopub.status.busy": "2021-10-06T00:23:54.608889Z",
     "iopub.status.idle": "2021-10-06T00:23:54.611567Z",
     "shell.execute_reply": "2021-10-06T00:23:54.611064Z"
    },
    "papermill": {
     "duration": 0.043473,
     "end_time": "2021-10-06T00:23:54.611688",
     "exception": false,
     "start_time": "2021-10-06T00:23:54.568215",
     "status": "completed"
    },
    "tags": []
   },
   "outputs": [],
   "source": [
    "#hide\n",
    "#delete problematic countries from table\n",
    "df_table = df_table[~df_table['Country/Region'].isin(['Cape Verde', 'Cruise Ship', 'Kosovo'])]"
   ]
  },
  {
   "cell_type": "code",
   "execution_count": 17,
   "id": "related-center",
   "metadata": {
    "execution": {
     "iopub.execute_input": "2021-10-06T00:23:54.690838Z",
     "iopub.status.busy": "2021-10-06T00:23:54.690202Z",
     "iopub.status.idle": "2021-10-06T00:23:54.704662Z",
     "shell.execute_reply": "2021-10-06T00:23:54.705159Z"
    },
    "papermill": {
     "duration": 0.059774,
     "end_time": "2021-10-06T00:23:54.705315",
     "exception": false,
     "start_time": "2021-10-06T00:23:54.645541",
     "status": "completed"
    },
    "tags": []
   },
   "outputs": [],
   "source": [
    "#hide\n",
    "metrics = [df_table.columns[index] for index in [1,2,5,6]]\n",
    "# s_china = df_table[df_table['Country/Region'].eq('China')][metrics].sum().add_prefix('China ')\n",
    "s_us = df_table[df_table['Country/Region'].eq('US')][metrics].sum().add_prefix('US ')\n",
    "s_eu = df_table[df_table['Continent'].eq('Europe')][metrics].sum().add_prefix('EU ')\n",
    "s_ind = df_table[df_table['Country/Region'].eq('India')][metrics].sum().add_prefix('India ')\n",
    "summary = {'updated': pd.to_datetime(dt_today), 'since': pd.to_datetime(dt_yday)}\n",
    "summary = {'updated': pd.to_datetime(dt_today), 'since': pd.to_datetime(dt_yday)}\n",
    "summary = {**summary, **df_table[metrics].sum(), **s_ind, **s_us, **s_eu}"
   ]
  },
  {
   "cell_type": "code",
   "execution_count": 18,
   "id": "engaging-syndrome",
   "metadata": {
    "execution": {
     "iopub.execute_input": "2021-10-06T00:23:54.779685Z",
     "iopub.status.busy": "2021-10-06T00:23:54.779128Z",
     "iopub.status.idle": "2021-10-06T00:23:54.795764Z",
     "shell.execute_reply": "2021-10-06T00:23:54.794812Z"
    },
    "papermill": {
     "duration": 0.056142,
     "end_time": "2021-10-06T00:23:54.795965",
     "exception": false,
     "start_time": "2021-10-06T00:23:54.739823",
     "status": "completed"
    },
    "tags": []
   },
   "outputs": [],
   "source": [
    "#hide\n",
    "dft_ct_new_cases = dft_cases.groupby(COL_REGION)[dt_cols].sum().diff(axis=1).fillna(0).astype(int)"
   ]
  },
  {
   "cell_type": "code",
   "execution_count": 19,
   "id": "neutral-assignment",
   "metadata": {
    "execution": {
     "iopub.execute_input": "2021-10-06T00:23:54.874381Z",
     "iopub.status.busy": "2021-10-06T00:23:54.873726Z",
     "iopub.status.idle": "2021-10-06T00:23:54.876028Z",
     "shell.execute_reply": "2021-10-06T00:23:54.875520Z"
    },
    "papermill": {
     "duration": 0.043791,
     "end_time": "2021-10-06T00:23:54.876151",
     "exception": false,
     "start_time": "2021-10-06T00:23:54.832360",
     "status": "completed"
    },
    "tags": []
   },
   "outputs": [],
   "source": [
    "#hide\n",
    "everydaycases = dft_ct_new_cases.cumsum(axis=1)"
   ]
  },
  {
   "cell_type": "code",
   "execution_count": 20,
   "id": "parliamentary-calgary",
   "metadata": {
    "execution": {
     "iopub.execute_input": "2021-10-06T00:23:54.954090Z",
     "iopub.status.busy": "2021-10-06T00:23:54.952518Z",
     "iopub.status.idle": "2021-10-06T00:23:55.606462Z",
     "shell.execute_reply": "2021-10-06T00:23:55.605847Z"
    },
    "papermill": {
     "duration": 0.696185,
     "end_time": "2021-10-06T00:23:55.606599",
     "exception": false,
     "start_time": "2021-10-06T00:23:54.910414",
     "status": "completed"
    },
    "tags": []
   },
   "outputs": [],
   "source": [
    "#hide\n",
    "import pandas as pd\n",
    "import matplotlib.pyplot as plt\n",
    "import matplotlib.ticker as ticker\n",
    "import matplotlib.animation as animation\n",
    "from IPython.display import HTML"
   ]
  },
  {
   "cell_type": "code",
   "execution_count": 21,
   "id": "lasting-extraction",
   "metadata": {
    "execution": {
     "iopub.execute_input": "2021-10-06T00:23:55.682247Z",
     "iopub.status.busy": "2021-10-06T00:23:55.681107Z",
     "iopub.status.idle": "2021-10-06T00:23:55.686997Z",
     "shell.execute_reply": "2021-10-06T00:23:55.686528Z"
    },
    "papermill": {
     "duration": 0.046791,
     "end_time": "2021-10-06T00:23:55.687119",
     "exception": false,
     "start_time": "2021-10-06T00:23:55.640328",
     "status": "completed"
    },
    "tags": []
   },
   "outputs": [],
   "source": [
    "#hide\n",
    "t = everydaycases.stack()"
   ]
  },
  {
   "cell_type": "code",
   "execution_count": 22,
   "id": "premier-sleeve",
   "metadata": {
    "execution": {
     "iopub.execute_input": "2021-10-06T00:23:55.760403Z",
     "iopub.status.busy": "2021-10-06T00:23:55.759798Z",
     "iopub.status.idle": "2021-10-06T00:23:55.771201Z",
     "shell.execute_reply": "2021-10-06T00:23:55.771670Z"
    },
    "papermill": {
     "duration": 0.050811,
     "end_time": "2021-10-06T00:23:55.771816",
     "exception": false,
     "start_time": "2021-10-06T00:23:55.721005",
     "status": "completed"
    },
    "tags": []
   },
   "outputs": [],
   "source": [
    "#hide\n",
    "g = t.reset_index(['Country/Region'])"
   ]
  },
  {
   "cell_type": "code",
   "execution_count": 23,
   "id": "distributed-pittsburgh",
   "metadata": {
    "execution": {
     "iopub.execute_input": "2021-10-06T00:23:55.846139Z",
     "iopub.status.busy": "2021-10-06T00:23:55.845502Z",
     "iopub.status.idle": "2021-10-06T00:23:55.848079Z",
     "shell.execute_reply": "2021-10-06T00:23:55.847602Z"
    },
    "papermill": {
     "duration": 0.042176,
     "end_time": "2021-10-06T00:23:55.848207",
     "exception": false,
     "start_time": "2021-10-06T00:23:55.806031",
     "status": "completed"
    },
    "tags": []
   },
   "outputs": [],
   "source": [
    "#hide\n",
    "g.index.name = 'date'"
   ]
  },
  {
   "cell_type": "code",
   "execution_count": 24,
   "id": "naked-donor",
   "metadata": {
    "execution": {
     "iopub.execute_input": "2021-10-06T00:23:55.921782Z",
     "iopub.status.busy": "2021-10-06T00:23:55.921216Z",
     "iopub.status.idle": "2021-10-06T00:23:55.923523Z",
     "shell.execute_reply": "2021-10-06T00:23:55.924048Z"
    },
    "papermill": {
     "duration": 0.041432,
     "end_time": "2021-10-06T00:23:55.924181",
     "exception": false,
     "start_time": "2021-10-06T00:23:55.882749",
     "status": "completed"
    },
    "tags": []
   },
   "outputs": [],
   "source": [
    "# #hide\n",
    "# g = g.reset_index(['date'])"
   ]
  },
  {
   "cell_type": "code",
   "execution_count": 25,
   "id": "incomplete-mustang",
   "metadata": {
    "execution": {
     "iopub.execute_input": "2021-10-06T00:23:55.996765Z",
     "iopub.status.busy": "2021-10-06T00:23:55.996215Z",
     "iopub.status.idle": "2021-10-06T00:23:55.998795Z",
     "shell.execute_reply": "2021-10-06T00:23:55.999268Z"
    },
    "papermill": {
     "duration": 0.041718,
     "end_time": "2021-10-06T00:23:55.999411",
     "exception": false,
     "start_time": "2021-10-06T00:23:55.957693",
     "status": "completed"
    },
    "tags": []
   },
   "outputs": [],
   "source": [
    "#hide\n",
    "# g.head()"
   ]
  },
  {
   "cell_type": "code",
   "execution_count": 26,
   "id": "specific-kruger",
   "metadata": {
    "execution": {
     "iopub.execute_input": "2021-10-06T00:23:56.071556Z",
     "iopub.status.busy": "2021-10-06T00:23:56.070954Z",
     "iopub.status.idle": "2021-10-06T00:23:56.072719Z",
     "shell.execute_reply": "2021-10-06T00:23:56.073282Z"
    },
    "papermill": {
     "duration": 0.040505,
     "end_time": "2021-10-06T00:23:56.073425",
     "exception": false,
     "start_time": "2021-10-06T00:23:56.032920",
     "status": "completed"
    },
    "tags": []
   },
   "outputs": [],
   "source": [
    "#hide\n",
    "# g.columns = ['date','country','cases']"
   ]
  },
  {
   "cell_type": "code",
   "execution_count": 27,
   "id": "tender-conversion",
   "metadata": {
    "execution": {
     "iopub.execute_input": "2021-10-06T00:23:56.146754Z",
     "iopub.status.busy": "2021-10-06T00:23:56.146145Z",
     "iopub.status.idle": "2021-10-06T00:23:56.149075Z",
     "shell.execute_reply": "2021-10-06T00:23:56.149642Z"
    },
    "papermill": {
     "duration": 0.042639,
     "end_time": "2021-10-06T00:23:56.149790",
     "exception": false,
     "start_time": "2021-10-06T00:23:56.107151",
     "status": "completed"
    },
    "tags": []
   },
   "outputs": [],
   "source": [
    "#hide\n",
    "# g['continent'] = g.country"
   ]
  },
  {
   "cell_type": "code",
   "execution_count": 28,
   "id": "substantial-wilderness",
   "metadata": {
    "execution": {
     "iopub.execute_input": "2021-10-06T00:23:56.224245Z",
     "iopub.status.busy": "2021-10-06T00:23:56.223611Z",
     "iopub.status.idle": "2021-10-06T00:23:56.225925Z",
     "shell.execute_reply": "2021-10-06T00:23:56.225394Z"
    },
    "papermill": {
     "duration": 0.041091,
     "end_time": "2021-10-06T00:23:56.226054",
     "exception": false,
     "start_time": "2021-10-06T00:23:56.184963",
     "status": "completed"
    },
    "tags": []
   },
   "outputs": [],
   "source": [
    "#hide\n",
    "# cols = list(g.columns.values)"
   ]
  },
  {
   "cell_type": "code",
   "execution_count": 29,
   "id": "solved-farming",
   "metadata": {
    "execution": {
     "iopub.execute_input": "2021-10-06T00:23:56.297311Z",
     "iopub.status.busy": "2021-10-06T00:23:56.296757Z",
     "iopub.status.idle": "2021-10-06T00:23:56.298515Z",
     "shell.execute_reply": "2021-10-06T00:23:56.298956Z"
    },
    "papermill": {
     "duration": 0.039645,
     "end_time": "2021-10-06T00:23:56.299088",
     "exception": false,
     "start_time": "2021-10-06T00:23:56.259443",
     "status": "completed"
    },
    "tags": []
   },
   "outputs": [],
   "source": [
    "#hide\n",
    "# cols.insert(0, cols.pop())"
   ]
  },
  {
   "cell_type": "code",
   "execution_count": 30,
   "id": "executed-adoption",
   "metadata": {
    "execution": {
     "iopub.execute_input": "2021-10-06T00:23:56.371773Z",
     "iopub.status.busy": "2021-10-06T00:23:56.371216Z",
     "iopub.status.idle": "2021-10-06T00:23:56.374273Z",
     "shell.execute_reply": "2021-10-06T00:23:56.374736Z"
    },
    "papermill": {
     "duration": 0.041899,
     "end_time": "2021-10-06T00:23:56.374879",
     "exception": false,
     "start_time": "2021-10-06T00:23:56.332980",
     "status": "completed"
    },
    "tags": []
   },
   "outputs": [],
   "source": [
    "#hide\n",
    "# g = g[cols]"
   ]
  },
  {
   "cell_type": "code",
   "execution_count": 31,
   "id": "subject-dublin",
   "metadata": {
    "execution": {
     "iopub.execute_input": "2021-10-06T00:23:56.447690Z",
     "iopub.status.busy": "2021-10-06T00:23:56.447109Z",
     "iopub.status.idle": "2021-10-06T00:23:56.449258Z",
     "shell.execute_reply": "2021-10-06T00:23:56.448710Z"
    },
    "papermill": {
     "duration": 0.040634,
     "end_time": "2021-10-06T00:23:56.449376",
     "exception": false,
     "start_time": "2021-10-06T00:23:56.408742",
     "status": "completed"
    },
    "tags": []
   },
   "outputs": [],
   "source": [
    "#hide\n",
    "# g['continent'] = g['continent'].map(mapping['map.continent'])"
   ]
  },
  {
   "cell_type": "code",
   "execution_count": 32,
   "id": "freelance-scout",
   "metadata": {
    "execution": {
     "iopub.execute_input": "2021-10-06T00:23:56.522542Z",
     "iopub.status.busy": "2021-10-06T00:23:56.521943Z",
     "iopub.status.idle": "2021-10-06T00:23:56.524384Z",
     "shell.execute_reply": "2021-10-06T00:23:56.524941Z"
    },
    "papermill": {
     "duration": 0.041801,
     "end_time": "2021-10-06T00:23:56.525087",
     "exception": false,
     "start_time": "2021-10-06T00:23:56.483286",
     "status": "completed"
    },
    "tags": []
   },
   "outputs": [],
   "source": [
    "#hide\n",
    "# g.head()"
   ]
  },
  {
   "cell_type": "code",
   "execution_count": 33,
   "id": "limited-engine",
   "metadata": {
    "execution": {
     "iopub.execute_input": "2021-10-06T00:23:56.598011Z",
     "iopub.status.busy": "2021-10-06T00:23:56.597384Z",
     "iopub.status.idle": "2021-10-06T00:23:56.600019Z",
     "shell.execute_reply": "2021-10-06T00:23:56.599544Z"
    },
    "papermill": {
     "duration": 0.040922,
     "end_time": "2021-10-06T00:23:56.600146",
     "exception": false,
     "start_time": "2021-10-06T00:23:56.559224",
     "status": "completed"
    },
    "tags": []
   },
   "outputs": [],
   "source": [
    "# hide\n",
    "# g['date'] = g['date'].astype('datetime64[ns]')"
   ]
  },
  {
   "cell_type": "code",
   "execution_count": 34,
   "id": "sophisticated-supervisor",
   "metadata": {
    "execution": {
     "iopub.execute_input": "2021-10-06T00:23:56.674481Z",
     "iopub.status.busy": "2021-10-06T00:23:56.673893Z",
     "iopub.status.idle": "2021-10-06T00:23:56.676915Z",
     "shell.execute_reply": "2021-10-06T00:23:56.676457Z"
    },
    "papermill": {
     "duration": 0.042452,
     "end_time": "2021-10-06T00:23:56.677032",
     "exception": false,
     "start_time": "2021-10-06T00:23:56.634580",
     "status": "completed"
    },
    "tags": []
   },
   "outputs": [],
   "source": [
    "#hide\n",
    "# g['date'] = g.date.dt.dayofyear"
   ]
  },
  {
   "cell_type": "code",
   "execution_count": 35,
   "id": "inside-dubai",
   "metadata": {
    "execution": {
     "iopub.execute_input": "2021-10-06T00:23:56.750083Z",
     "iopub.status.busy": "2021-10-06T00:23:56.749429Z",
     "iopub.status.idle": "2021-10-06T00:23:56.751852Z",
     "shell.execute_reply": "2021-10-06T00:23:56.751352Z"
    },
    "papermill": {
     "duration": 0.041247,
     "end_time": "2021-10-06T00:23:56.751975",
     "exception": false,
     "start_time": "2021-10-06T00:23:56.710728",
     "status": "completed"
    },
    "tags": []
   },
   "outputs": [],
   "source": [
    "#hide\n",
    "# g = g.rename(columns= {'continent':'group','country':'name','cases':'value'})"
   ]
  },
  {
   "cell_type": "code",
   "execution_count": 36,
   "id": "fleet-motorcycle",
   "metadata": {
    "execution": {
     "iopub.execute_input": "2021-10-06T00:23:56.824217Z",
     "iopub.status.busy": "2021-10-06T00:23:56.823649Z",
     "iopub.status.idle": "2021-10-06T00:23:56.825855Z",
     "shell.execute_reply": "2021-10-06T00:23:56.825359Z"
    },
    "papermill": {
     "duration": 0.040485,
     "end_time": "2021-10-06T00:23:56.825972",
     "exception": false,
     "start_time": "2021-10-06T00:23:56.785487",
     "status": "completed"
    },
    "tags": []
   },
   "outputs": [],
   "source": [
    "#hide\n",
    "# cols = ['name','group','day','value']"
   ]
  },
  {
   "cell_type": "code",
   "execution_count": 37,
   "id": "continued-sleeping",
   "metadata": {
    "execution": {
     "iopub.execute_input": "2021-10-06T00:23:56.900211Z",
     "iopub.status.busy": "2021-10-06T00:23:56.898916Z",
     "iopub.status.idle": "2021-10-06T00:23:56.903109Z",
     "shell.execute_reply": "2021-10-06T00:23:56.902629Z"
    },
    "papermill": {
     "duration": 0.042772,
     "end_time": "2021-10-06T00:23:56.903241",
     "exception": false,
     "start_time": "2021-10-06T00:23:56.860469",
     "status": "completed"
    },
    "tags": []
   },
   "outputs": [],
   "source": [
    "#hide\n",
    "# g.rename(columns= {'date':'day'},inplace = True)"
   ]
  },
  {
   "cell_type": "code",
   "execution_count": 38,
   "id": "major-fight",
   "metadata": {
    "execution": {
     "iopub.execute_input": "2021-10-06T00:23:56.976438Z",
     "iopub.status.busy": "2021-10-06T00:23:56.975855Z",
     "iopub.status.idle": "2021-10-06T00:23:56.978129Z",
     "shell.execute_reply": "2021-10-06T00:23:56.978618Z"
    },
    "papermill": {
     "duration": 0.040655,
     "end_time": "2021-10-06T00:23:56.978772",
     "exception": false,
     "start_time": "2021-10-06T00:23:56.938117",
     "status": "completed"
    },
    "tags": []
   },
   "outputs": [],
   "source": [
    "#hide\n",
    "# g = g[cols]"
   ]
  },
  {
   "cell_type": "code",
   "execution_count": 39,
   "id": "structured-mobile",
   "metadata": {
    "execution": {
     "iopub.execute_input": "2021-10-06T00:23:57.050855Z",
     "iopub.status.busy": "2021-10-06T00:23:57.050297Z",
     "iopub.status.idle": "2021-10-06T00:23:57.052811Z",
     "shell.execute_reply": "2021-10-06T00:23:57.052310Z"
    },
    "papermill": {
     "duration": 0.040151,
     "end_time": "2021-10-06T00:23:57.052931",
     "exception": false,
     "start_time": "2021-10-06T00:23:57.012780",
     "status": "completed"
    },
    "tags": []
   },
   "outputs": [],
   "source": [
    "# #hide\n",
    "# g = g[g.group.notna()]"
   ]
  },
  {
   "cell_type": "code",
   "execution_count": 40,
   "id": "determined-closing",
   "metadata": {
    "execution": {
     "iopub.execute_input": "2021-10-06T00:23:57.127565Z",
     "iopub.status.busy": "2021-10-06T00:23:57.126939Z",
     "iopub.status.idle": "2021-10-06T00:23:57.129291Z",
     "shell.execute_reply": "2021-10-06T00:23:57.128773Z"
    },
    "papermill": {
     "duration": 0.042318,
     "end_time": "2021-10-06T00:23:57.129417",
     "exception": false,
     "start_time": "2021-10-06T00:23:57.087099",
     "status": "completed"
    },
    "tags": []
   },
   "outputs": [],
   "source": [
    "# #hide\n",
    "# colors = dict(zip(\n",
    "#     [\"Oceania\", \"Europe\", \"Asia\", \"South America\", \"Middle East\", \"North America\", \"Africa\"],\n",
    "#     [\"#adb0ff\", \"#ffb3ff\", \"#90d595\", \"#e48381\", \"#aafbff\", \"#f7bb5f\", \"#eafb50\"]\n",
    "# ))\n",
    "# group_lk = g.set_index('name')['group'].to_dict()"
   ]
  },
  {
   "cell_type": "code",
   "execution_count": null,
   "id": "gross-drinking",
   "metadata": {
    "papermill": {
     "duration": 0.034256,
     "end_time": "2021-10-06T00:23:57.197752",
     "exception": false,
     "start_time": "2021-10-06T00:23:57.163496",
     "status": "completed"
    },
    "tags": []
   },
   "outputs": [],
   "source": []
  },
  {
   "cell_type": "code",
   "execution_count": 41,
   "id": "subject-macintosh",
   "metadata": {
    "execution": {
     "iopub.execute_input": "2021-10-06T00:23:57.272158Z",
     "iopub.status.busy": "2021-10-06T00:23:57.271549Z",
     "iopub.status.idle": "2021-10-06T00:23:57.273918Z",
     "shell.execute_reply": "2021-10-06T00:23:57.274455Z"
    },
    "papermill": {
     "duration": 0.042885,
     "end_time": "2021-10-06T00:23:57.274589",
     "exception": false,
     "start_time": "2021-10-06T00:23:57.231704",
     "status": "completed"
    },
    "tags": []
   },
   "outputs": [],
   "source": [
    "# #hide\n",
    "# fig, ax = plt.subplots(figsize=(15, 8))\n",
    "\n",
    "# def draw_barchart(current_day):\n",
    "#     dff = g[g['day'].eq(current_day)].sort_values(by='value', ascending=True).tail(10)\n",
    "#     ax.clear()\n",
    "#     ax.barh(dff['name'], dff['value'], color=[colors[group_lk[x]] for x in dff['name']])\n",
    "#     dx = dff['value'].max() / 200\n",
    "    \n",
    "#     for i, (value, name) in enumerate(zip(dff['value'], dff['name'])):\n",
    "#         ax.text(value-dx, i,     name,           size=14, weight=600, ha='right', va='bottom')\n",
    "#         ax.text(value-dx, i-.25, group_lk[name], size=10, color='#444444', ha='right', va='baseline')\n",
    "#         ax.text(value+dx, i,     f'{value:,.0f}',  size=14, ha='left',  va='center')\n",
    "#     ax.text(1, 0.4, current_day, transform=ax.transAxes, color='#777777', size=46, ha='right', weight=800)\n",
    "#     ax.text(0, 1.06, 'Population (thousands)', transform=ax.transAxes, size=12, color='#777777')\n",
    "#     ax.xaxis.set_major_formatter(ticker.StrMethodFormatter('{x:,.0f}'))\n",
    "#     ax.xaxis.set_ticks_position('top')\n",
    "#     ax.tick_params(axis='x', colors='#777777', labelsize=12)\n",
    "#     ax.set_yticks([])\n",
    "#     ax.margins(0, 0.01)\n",
    "#     ax.grid(which='major', axis='x', linestyle='-')\n",
    "#     ax.set_axisbelow(True)\n",
    "    \n",
    "#     ax.text(0, 1.15, 'Coronavirus',\n",
    "#             transform=ax.transAxes, size=24, weight=600, ha='left', va='top')\n",
    "# #     ax.text(1, 0, 'by @pratapvardhan; credit @jburnmurdoch', transform=ax.transAxes, color='#777777', ha='right',\n",
    "# #             bbox=dict(facecolor='white', alpha=0.8, edgecolor='white'))\n",
    "#     plt.box(False)"
   ]
  },
  {
   "cell_type": "code",
   "execution_count": 42,
   "id": "sexual-wages",
   "metadata": {
    "execution": {
     "iopub.execute_input": "2021-10-06T00:23:57.347684Z",
     "iopub.status.busy": "2021-10-06T00:23:57.347078Z",
     "iopub.status.idle": "2021-10-06T00:23:57.349781Z",
     "shell.execute_reply": "2021-10-06T00:23:57.349293Z"
    },
    "papermill": {
     "duration": 0.041372,
     "end_time": "2021-10-06T00:23:57.349935",
     "exception": false,
     "start_time": "2021-10-06T00:23:57.308563",
     "status": "completed"
    },
    "tags": []
   },
   "outputs": [],
   "source": [
    "# #hide_input\n",
    "# fig, ax = plt.subplots(figsize=(15, 8))\n",
    "# animator = animation.FuncAnimation(fig, draw_barchart, frames=range(g.day.values.min(), g.day.values.max()))\n",
    "# HTML(animator.to_jshtml())\n",
    "# # or use animator.to_html5_video() or animator.save() "
   ]
  },
  {
   "cell_type": "code",
   "execution_count": null,
   "id": "australian-container",
   "metadata": {
    "papermill": {
     "duration": 0.034088,
     "end_time": "2021-10-06T00:23:57.418129",
     "exception": false,
     "start_time": "2021-10-06T00:23:57.384041",
     "status": "completed"
    },
    "tags": []
   },
   "outputs": [],
   "source": []
  },
  {
   "cell_type": "code",
   "execution_count": null,
   "id": "mediterranean-pontiac",
   "metadata": {
    "papermill": {
     "duration": 0.033803,
     "end_time": "2021-10-06T00:23:57.485363",
     "exception": false,
     "start_time": "2021-10-06T00:23:57.451560",
     "status": "completed"
    },
    "tags": []
   },
   "outputs": [],
   "source": []
  },
  {
   "cell_type": "code",
   "execution_count": null,
   "id": "aging-legislature",
   "metadata": {
    "papermill": {
     "duration": 0.034023,
     "end_time": "2021-10-06T00:23:57.553357",
     "exception": false,
     "start_time": "2021-10-06T00:23:57.519334",
     "status": "completed"
    },
    "tags": []
   },
   "outputs": [],
   "source": []
  }
 ],
 "metadata": {
  "kernelspec": {
   "display_name": "Python 3",
   "language": "python",
   "name": "python3"
  },
  "language_info": {
   "codemirror_mode": {
    "name": "ipython",
    "version": 3
   },
   "file_extension": ".py",
   "mimetype": "text/x-python",
   "name": "python",
   "nbconvert_exporter": "python",
   "pygments_lexer": "ipython3",
   "version": "3.6.15"
  },
  "papermill": {
   "duration": 6.518974,
   "end_time": "2021-10-06T00:23:57.997454",
   "environment_variables": {},
   "exception": null,
   "input_path": "2020-03-21-covid19exp.ipynb",
   "output_path": "2020-03-21-covid19exp.ipynb",
   "parameters": {},
   "start_time": "2021-10-06T00:23:51.478480",
   "version": "2.0.0"
  }
 },
 "nbformat": 4,
 "nbformat_minor": 5
}