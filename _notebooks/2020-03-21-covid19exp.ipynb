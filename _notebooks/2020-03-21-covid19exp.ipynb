{
 "cells": [
  {
   "cell_type": "markdown",
   "id": "muslim-click",
   "metadata": {
    "papermill": {
     "duration": 0.041277,
     "end_time": "2021-03-24T12:09:29.410312",
     "exception": false,
     "start_time": "2021-03-24T12:09:29.369035",
     "status": "completed"
    },
    "tags": []
   },
   "source": [
    "# COVID-19 Case Race\n",
    "> A race chart to see rising cases around the world\n",
    "\n",
    "- author: Hargun Oberoi\n",
    "- image: images/covid-overview.png\n",
    "- hide: false\n",
    "- badges: false"
   ]
  },
  {
   "cell_type": "code",
   "execution_count": 1,
   "id": "proof-material",
   "metadata": {
    "execution": {
     "iopub.execute_input": "2021-03-24T12:09:29.495291Z",
     "iopub.status.busy": "2021-03-24T12:09:29.494636Z",
     "iopub.status.idle": "2021-03-24T12:09:29.935952Z",
     "shell.execute_reply": "2021-03-24T12:09:29.934927Z"
    },
    "papermill": {
     "duration": 0.489203,
     "end_time": "2021-03-24T12:09:29.936113",
     "exception": false,
     "start_time": "2021-03-24T12:09:29.446910",
     "status": "completed"
    },
    "tags": []
   },
   "outputs": [],
   "source": [
    "#hide\n",
    "import numpy as np\n",
    "import pandas as pd\n",
    "from jinja2 import Template\n",
    "from IPython.display import HTML"
   ]
  },
  {
   "cell_type": "code",
   "execution_count": 2,
   "id": "developed-terminology",
   "metadata": {
    "execution": {
     "iopub.execute_input": "2021-03-24T12:09:30.015525Z",
     "iopub.status.busy": "2021-03-24T12:09:30.014908Z",
     "iopub.status.idle": "2021-03-24T12:09:30.016788Z",
     "shell.execute_reply": "2021-03-24T12:09:30.017635Z"
    },
    "papermill": {
     "duration": 0.042257,
     "end_time": "2021-03-24T12:09:30.017808",
     "exception": false,
     "start_time": "2021-03-24T12:09:29.975551",
     "status": "completed"
    },
    "tags": []
   },
   "outputs": [],
   "source": [
    "#hide\n",
    "\n",
    "# FETCH\n",
    "base_url = 'https://raw.githubusercontent.com/pratapvardhan/notebooks/master/covid19/'\n",
    "paths = {\n",
    "    'mapping': base_url + 'mapping_countries.csv',\n",
    "    'overview': base_url + 'overview.tpl'\n",
    "}"
   ]
  },
  {
   "cell_type": "code",
   "execution_count": 3,
   "id": "dynamic-saver",
   "metadata": {
    "execution": {
     "iopub.execute_input": "2021-03-24T12:09:30.107411Z",
     "iopub.status.busy": "2021-03-24T12:09:30.106756Z",
     "iopub.status.idle": "2021-03-24T12:09:30.110952Z",
     "shell.execute_reply": "2021-03-24T12:09:30.110406Z"
    },
    "papermill": {
     "duration": 0.055586,
     "end_time": "2021-03-24T12:09:30.111086",
     "exception": false,
     "start_time": "2021-03-24T12:09:30.055500",
     "status": "completed"
    },
    "tags": []
   },
   "outputs": [
    {
     "data": {
      "text/plain": [
       "'https://raw.githubusercontent.com/pratapvardhan/notebooks/master/covid19/mapping_countries.csv'"
      ]
     },
     "execution_count": 3,
     "metadata": {},
     "output_type": "execute_result"
    }
   ],
   "source": [
    "#hide\n",
    "paths['mapping']"
   ]
  },
  {
   "cell_type": "code",
   "execution_count": 4,
   "id": "urban-software",
   "metadata": {
    "execution": {
     "iopub.execute_input": "2021-03-24T12:09:30.191401Z",
     "iopub.status.busy": "2021-03-24T12:09:30.190751Z",
     "iopub.status.idle": "2021-03-24T12:09:30.193157Z",
     "shell.execute_reply": "2021-03-24T12:09:30.192570Z"
    },
    "papermill": {
     "duration": 0.045659,
     "end_time": "2021-03-24T12:09:30.193285",
     "exception": false,
     "start_time": "2021-03-24T12:09:30.147626",
     "status": "completed"
    },
    "tags": []
   },
   "outputs": [],
   "source": [
    "#hide\n",
    "def get_mappings(url):\n",
    "    df = pd.read_csv(url)\n",
    "    return {\n",
    "        'df': df,\n",
    "        'replace.country': dict(df.dropna(subset=['Name']).set_index('Country')['Name']),\n",
    "        'map.continent': dict(df.set_index('Name')['Continent'])\n",
    "    }"
   ]
  },
  {
   "cell_type": "code",
   "execution_count": 5,
   "id": "intimate-machinery",
   "metadata": {
    "execution": {
     "iopub.execute_input": "2021-03-24T12:09:30.271655Z",
     "iopub.status.busy": "2021-03-24T12:09:30.271001Z",
     "iopub.status.idle": "2021-03-24T12:09:30.314224Z",
     "shell.execute_reply": "2021-03-24T12:09:30.313621Z"
    },
    "papermill": {
     "duration": 0.085075,
     "end_time": "2021-03-24T12:09:30.314386",
     "exception": false,
     "start_time": "2021-03-24T12:09:30.229311",
     "status": "completed"
    },
    "tags": []
   },
   "outputs": [],
   "source": [
    "#hide\n",
    "mapping = get_mappings(paths['mapping'])"
   ]
  },
  {
   "cell_type": "code",
   "execution_count": 6,
   "id": "certified-tactics",
   "metadata": {
    "execution": {
     "iopub.execute_input": "2021-03-24T12:09:30.393014Z",
     "iopub.status.busy": "2021-03-24T12:09:30.392383Z",
     "iopub.status.idle": "2021-03-24T12:09:30.394477Z",
     "shell.execute_reply": "2021-03-24T12:09:30.394956Z"
    },
    "papermill": {
     "duration": 0.044442,
     "end_time": "2021-03-24T12:09:30.395112",
     "exception": false,
     "start_time": "2021-03-24T12:09:30.350670",
     "status": "completed"
    },
    "tags": []
   },
   "outputs": [],
   "source": [
    "#hide\n",
    "def get_template(path):\n",
    "    from urllib.parse import urlparse\n",
    "    if bool(urlparse(path).netloc):\n",
    "        from urllib.request import urlopen\n",
    "        return urlopen(path).read().decode('utf8')\n",
    "    return open(path).read()"
   ]
  },
  {
   "cell_type": "code",
   "execution_count": 7,
   "id": "realistic-blast",
   "metadata": {
    "execution": {
     "iopub.execute_input": "2021-03-24T12:09:30.477951Z",
     "iopub.status.busy": "2021-03-24T12:09:30.477180Z",
     "iopub.status.idle": "2021-03-24T12:09:30.478582Z",
     "shell.execute_reply": "2021-03-24T12:09:30.479351Z"
    },
    "papermill": {
     "duration": 0.045884,
     "end_time": "2021-03-24T12:09:30.479509",
     "exception": false,
     "start_time": "2021-03-24T12:09:30.433625",
     "status": "completed"
    },
    "tags": []
   },
   "outputs": [],
   "source": [
    "#hide\n",
    "def get_frame(name):\n",
    "    url = (\n",
    "        'https://raw.githubusercontent.com/CSSEGISandData/COVID-19/master/csse_covid_19_data/'\n",
    "        f'csse_covid_19_time_series/time_series_covid19_{name}_global.csv')\n",
    "    df = pd.read_csv(url)\n",
    "    # rename countries\n",
    "    df['Country/Region'] = df['Country/Region'].replace(mapping['replace.country'])\n",
    "    return df"
   ]
  },
  {
   "cell_type": "code",
   "execution_count": 8,
   "id": "affiliated-characterization",
   "metadata": {
    "execution": {
     "iopub.execute_input": "2021-03-24T12:09:30.559218Z",
     "iopub.status.busy": "2021-03-24T12:09:30.558528Z",
     "iopub.status.idle": "2021-03-24T12:09:30.560100Z",
     "shell.execute_reply": "2021-03-24T12:09:30.560812Z"
    },
    "papermill": {
     "duration": 0.043079,
     "end_time": "2021-03-24T12:09:30.560987",
     "exception": false,
     "start_time": "2021-03-24T12:09:30.517908",
     "status": "completed"
    },
    "tags": []
   },
   "outputs": [],
   "source": [
    "#hide\n",
    "def get_dates(df):\n",
    "    dt_cols = df.columns[~df.columns.isin(['Province/State', 'Country/Region', 'Lat', 'Long'])]\n",
    "    LAST_DATE_I = -1\n",
    "    # sometimes last column may be empty, then go backwards\n",
    "    for i in range(-1, -len(dt_cols), -1):\n",
    "        if not df[dt_cols[i]].fillna(0).eq(0).all():\n",
    "            LAST_DATE_I = i\n",
    "            break\n",
    "    return LAST_DATE_I, dt_cols"
   ]
  },
  {
   "cell_type": "code",
   "execution_count": 9,
   "id": "recent-optimization",
   "metadata": {
    "execution": {
     "iopub.execute_input": "2021-03-24T12:09:30.636972Z",
     "iopub.status.busy": "2021-03-24T12:09:30.636362Z",
     "iopub.status.idle": "2021-03-24T12:09:31.027830Z",
     "shell.execute_reply": "2021-03-24T12:09:31.026893Z"
    },
    "papermill": {
     "duration": 0.431192,
     "end_time": "2021-03-24T12:09:31.027975",
     "exception": false,
     "start_time": "2021-03-24T12:09:30.596783",
     "status": "completed"
    },
    "tags": []
   },
   "outputs": [],
   "source": [
    "#hide\n",
    "COL_REGION = 'Country/Region'\n",
    "# Confirmed, Recovered, Deaths\n",
    "df = get_frame('confirmed')\n",
    "# dft_: timeseries, dfc_: today country agg\n",
    "dft_cases = df\n",
    "dft_deaths = get_frame('deaths')\n",
    "dft_recovered = get_frame('recovered')\n",
    "LAST_DATE_I, dt_cols = get_dates(df)"
   ]
  },
  {
   "cell_type": "code",
   "execution_count": 10,
   "id": "absolute-copper",
   "metadata": {
    "execution": {
     "iopub.execute_input": "2021-03-24T12:09:31.107868Z",
     "iopub.status.busy": "2021-03-24T12:09:31.107233Z",
     "iopub.status.idle": "2021-03-24T12:09:31.110045Z",
     "shell.execute_reply": "2021-03-24T12:09:31.109554Z"
    },
    "papermill": {
     "duration": 0.045886,
     "end_time": "2021-03-24T12:09:31.110178",
     "exception": false,
     "start_time": "2021-03-24T12:09:31.064292",
     "status": "completed"
    },
    "tags": []
   },
   "outputs": [],
   "source": [
    "#hide\n",
    "LAST_DATE_I, dt_cols = get_dates(df)\n",
    "dt_today =dt_cols[LAST_DATE_I]\n",
    "# dt_5day = dt_cols[LAST_DATE_I - 5]\n",
    "dt_yday = dt_cols[LAST_DATE_I - 1]"
   ]
  },
  {
   "cell_type": "code",
   "execution_count": 11,
   "id": "restricted-sheriff",
   "metadata": {
    "execution": {
     "iopub.execute_input": "2021-03-24T12:09:31.191169Z",
     "iopub.status.busy": "2021-03-24T12:09:31.190461Z",
     "iopub.status.idle": "2021-03-24T12:09:31.198932Z",
     "shell.execute_reply": "2021-03-24T12:09:31.198360Z"
    },
    "papermill": {
     "duration": 0.053929,
     "end_time": "2021-03-24T12:09:31.199068",
     "exception": false,
     "start_time": "2021-03-24T12:09:31.145139",
     "status": "completed"
    },
    "tags": []
   },
   "outputs": [],
   "source": [
    "#hide\n",
    "dfc_cases = dft_cases.groupby(COL_REGION)[dt_today].sum()\n",
    "dfc_deaths = dft_deaths.groupby(COL_REGION)[dt_today].sum()\n",
    "# dfp_cases = dft_cases.groupby(COL_REGION)[dt_5day].sum()\n",
    "# dfp_deaths = dft_deaths.groupby(COL_REGION)[dt_5day].sum()\n",
    "dfp_cases = dft_cases.groupby(COL_REGION)[dt_yday].sum()\n",
    "dfp_deaths = dft_deaths.groupby(COL_REGION)[dt_yday].sum()"
   ]
  },
  {
   "cell_type": "code",
   "execution_count": 12,
   "id": "deluxe-hepatitis",
   "metadata": {
    "execution": {
     "iopub.execute_input": "2021-03-24T12:09:31.286167Z",
     "iopub.status.busy": "2021-03-24T12:09:31.285561Z",
     "iopub.status.idle": "2021-03-24T12:09:31.289835Z",
     "shell.execute_reply": "2021-03-24T12:09:31.290328Z"
    },
    "papermill": {
     "duration": 0.049892,
     "end_time": "2021-03-24T12:09:31.290480",
     "exception": false,
     "start_time": "2021-03-24T12:09:31.240588",
     "status": "completed"
    },
    "tags": []
   },
   "outputs": [],
   "source": [
    "#hide\n",
    "df_table = (pd.DataFrame(dict(Cases = dfc_cases, Deaths = dfc_deaths, PCases = dfp_cases, PDeaths = dfp_deaths))\n",
    "            .sort_values(by = ['Cases','Deaths'], ascending = [False, False])\n",
    "            .reset_index())"
   ]
  },
  {
   "cell_type": "code",
   "execution_count": 13,
   "id": "educational-chancellor",
   "metadata": {
    "execution": {
     "iopub.execute_input": "2021-03-24T12:09:31.385635Z",
     "iopub.status.busy": "2021-03-24T12:09:31.384893Z",
     "iopub.status.idle": "2021-03-24T12:09:31.393493Z",
     "shell.execute_reply": "2021-03-24T12:09:31.392920Z"
    },
    "papermill": {
     "duration": 0.066772,
     "end_time": "2021-03-24T12:09:31.393641",
     "exception": false,
     "start_time": "2021-03-24T12:09:31.326869",
     "status": "completed"
    },
    "tags": []
   },
   "outputs": [
    {
     "data": {
      "text/html": [
       "<div>\n",
       "<style scoped>\n",
       "    .dataframe tbody tr th:only-of-type {\n",
       "        vertical-align: middle;\n",
       "    }\n",
       "\n",
       "    .dataframe tbody tr th {\n",
       "        vertical-align: top;\n",
       "    }\n",
       "\n",
       "    .dataframe thead th {\n",
       "        text-align: right;\n",
       "    }\n",
       "</style>\n",
       "<table border=\"1\" class=\"dataframe\">\n",
       "  <thead>\n",
       "    <tr style=\"text-align: right;\">\n",
       "      <th></th>\n",
       "      <th>Country/Region</th>\n",
       "      <th>Cases</th>\n",
       "      <th>Deaths</th>\n",
       "      <th>PCases</th>\n",
       "      <th>PDeaths</th>\n",
       "      <th>Cases (+)</th>\n",
       "      <th>Deaths (+)</th>\n",
       "      <th>Fatality Rate</th>\n",
       "      <th>Continent</th>\n",
       "    </tr>\n",
       "  </thead>\n",
       "  <tbody>\n",
       "    <tr>\n",
       "      <th>0</th>\n",
       "      <td>US</td>\n",
       "      <td>29922392</td>\n",
       "      <td>543843</td>\n",
       "      <td>29869514</td>\n",
       "      <td>542949</td>\n",
       "      <td>52878</td>\n",
       "      <td>894</td>\n",
       "      <td>1.82</td>\n",
       "      <td>North America</td>\n",
       "    </tr>\n",
       "    <tr>\n",
       "      <th>1</th>\n",
       "      <td>Brazil</td>\n",
       "      <td>12130019</td>\n",
       "      <td>298676</td>\n",
       "      <td>12047526</td>\n",
       "      <td>295425</td>\n",
       "      <td>82493</td>\n",
       "      <td>3251</td>\n",
       "      <td>2.46</td>\n",
       "      <td>South America</td>\n",
       "    </tr>\n",
       "    <tr>\n",
       "      <th>2</th>\n",
       "      <td>India</td>\n",
       "      <td>11734058</td>\n",
       "      <td>160441</td>\n",
       "      <td>11686796</td>\n",
       "      <td>160166</td>\n",
       "      <td>47262</td>\n",
       "      <td>275</td>\n",
       "      <td>1.37</td>\n",
       "      <td>Asia</td>\n",
       "    </tr>\n",
       "    <tr>\n",
       "      <th>3</th>\n",
       "      <td>Russia</td>\n",
       "      <td>4424595</td>\n",
       "      <td>94231</td>\n",
       "      <td>4416226</td>\n",
       "      <td>93812</td>\n",
       "      <td>8369</td>\n",
       "      <td>419</td>\n",
       "      <td>2.13</td>\n",
       "      <td>Europe</td>\n",
       "    </tr>\n",
       "    <tr>\n",
       "      <th>4</th>\n",
       "      <td>France</td>\n",
       "      <td>4373607</td>\n",
       "      <td>93064</td>\n",
       "      <td>4358910</td>\n",
       "      <td>92776</td>\n",
       "      <td>14697</td>\n",
       "      <td>288</td>\n",
       "      <td>2.13</td>\n",
       "      <td>Europe</td>\n",
       "    </tr>\n",
       "  </tbody>\n",
       "</table>\n",
       "</div>"
      ],
      "text/plain": [
       "  Country/Region     Cases  Deaths    PCases  PDeaths  Cases (+)  Deaths (+)  \\\n",
       "0             US  29922392  543843  29869514   542949      52878         894   \n",
       "1         Brazil  12130019  298676  12047526   295425      82493        3251   \n",
       "2          India  11734058  160441  11686796   160166      47262         275   \n",
       "3         Russia   4424595   94231   4416226    93812       8369         419   \n",
       "4         France   4373607   93064   4358910    92776      14697         288   \n",
       "\n",
       "   Fatality Rate      Continent  \n",
       "0           1.82  North America  \n",
       "1           2.46  South America  \n",
       "2           1.37           Asia  \n",
       "3           2.13         Europe  \n",
       "4           2.13         Europe  "
      ]
     },
     "execution_count": 13,
     "metadata": {},
     "output_type": "execute_result"
    }
   ],
   "source": [
    "#hide\n",
    "for c in 'Cases, Deaths'.split(', '):\n",
    "    df_table[f'{c} (+)'] = (df_table[c] - df_table[f'P{c}']).clip(0)\n",
    "    #Clip ça veut dire, les chiffres negatif sont interdit\n",
    "df_table['Fatality Rate'] = (100* df_table['Deaths']/ df_table['Cases']).round(2)\n",
    "df_table['Continent'] = df_table['Country/Region'].map(mapping['map.continent'])\n",
    "df_table.head(5)"
   ]
  },
  {
   "cell_type": "code",
   "execution_count": 14,
   "id": "aboriginal-bulgaria",
   "metadata": {
    "execution": {
     "iopub.execute_input": "2021-03-24T12:09:31.476189Z",
     "iopub.status.busy": "2021-03-24T12:09:31.475563Z",
     "iopub.status.idle": "2021-03-24T12:09:31.478349Z",
     "shell.execute_reply": "2021-03-24T12:09:31.477799Z"
    },
    "papermill": {
     "duration": 0.045135,
     "end_time": "2021-03-24T12:09:31.478494",
     "exception": false,
     "start_time": "2021-03-24T12:09:31.433359",
     "status": "completed"
    },
    "tags": []
   },
   "outputs": [],
   "source": [
    "#hide\n",
    "#delete problematic countries from table\n",
    "df_table = df_table[~df_table['Country/Region'].isin(['Cape Verde', 'Cruise Ship', 'Kosovo'])]"
   ]
  },
  {
   "cell_type": "code",
   "execution_count": 15,
   "id": "fantastic-effect",
   "metadata": {
    "execution": {
     "iopub.execute_input": "2021-03-24T12:09:31.564079Z",
     "iopub.status.busy": "2021-03-24T12:09:31.563441Z",
     "iopub.status.idle": "2021-03-24T12:09:31.584918Z",
     "shell.execute_reply": "2021-03-24T12:09:31.585409Z"
    },
    "papermill": {
     "duration": 0.070538,
     "end_time": "2021-03-24T12:09:31.585562",
     "exception": false,
     "start_time": "2021-03-24T12:09:31.515024",
     "status": "completed"
    },
    "tags": []
   },
   "outputs": [
    {
     "data": {
      "text/html": [
       "<div>\n",
       "<style scoped>\n",
       "    .dataframe tbody tr th:only-of-type {\n",
       "        vertical-align: middle;\n",
       "    }\n",
       "\n",
       "    .dataframe tbody tr th {\n",
       "        vertical-align: top;\n",
       "    }\n",
       "\n",
       "    .dataframe thead th {\n",
       "        text-align: right;\n",
       "    }\n",
       "</style>\n",
       "<table border=\"1\" class=\"dataframe\">\n",
       "  <thead>\n",
       "    <tr style=\"text-align: right;\">\n",
       "      <th></th>\n",
       "      <th>Country/Region</th>\n",
       "      <th>Cases</th>\n",
       "      <th>Deaths</th>\n",
       "      <th>PCases</th>\n",
       "      <th>PDeaths</th>\n",
       "      <th>Cases (+)</th>\n",
       "      <th>Deaths (+)</th>\n",
       "      <th>Fatality Rate</th>\n",
       "      <th>Continent</th>\n",
       "    </tr>\n",
       "  </thead>\n",
       "  <tbody>\n",
       "    <tr>\n",
       "      <th>0</th>\n",
       "      <td>US</td>\n",
       "      <td>29922392</td>\n",
       "      <td>543843</td>\n",
       "      <td>29869514</td>\n",
       "      <td>542949</td>\n",
       "      <td>52878</td>\n",
       "      <td>894</td>\n",
       "      <td>1.8</td>\n",
       "      <td>North America</td>\n",
       "    </tr>\n",
       "    <tr>\n",
       "      <th>1</th>\n",
       "      <td>Brazil</td>\n",
       "      <td>12130019</td>\n",
       "      <td>298676</td>\n",
       "      <td>12047526</td>\n",
       "      <td>295425</td>\n",
       "      <td>82493</td>\n",
       "      <td>3251</td>\n",
       "      <td>2.5</td>\n",
       "      <td>South America</td>\n",
       "    </tr>\n",
       "    <tr>\n",
       "      <th>2</th>\n",
       "      <td>India</td>\n",
       "      <td>11734058</td>\n",
       "      <td>160441</td>\n",
       "      <td>11686796</td>\n",
       "      <td>160166</td>\n",
       "      <td>47262</td>\n",
       "      <td>275</td>\n",
       "      <td>1.4</td>\n",
       "      <td>Asia</td>\n",
       "    </tr>\n",
       "    <tr>\n",
       "      <th>3</th>\n",
       "      <td>Russia</td>\n",
       "      <td>4424595</td>\n",
       "      <td>94231</td>\n",
       "      <td>4416226</td>\n",
       "      <td>93812</td>\n",
       "      <td>8369</td>\n",
       "      <td>419</td>\n",
       "      <td>2.1</td>\n",
       "      <td>Europe</td>\n",
       "    </tr>\n",
       "    <tr>\n",
       "      <th>4</th>\n",
       "      <td>France</td>\n",
       "      <td>4373607</td>\n",
       "      <td>93064</td>\n",
       "      <td>4358910</td>\n",
       "      <td>92776</td>\n",
       "      <td>14697</td>\n",
       "      <td>288</td>\n",
       "      <td>2.1</td>\n",
       "      <td>Europe</td>\n",
       "    </tr>\n",
       "  </tbody>\n",
       "</table>\n",
       "</div>"
      ],
      "text/plain": [
       "  Country/Region     Cases  Deaths    PCases  PDeaths  Cases (+)  Deaths (+)  \\\n",
       "0             US  29922392  543843  29869514   542949      52878         894   \n",
       "1         Brazil  12130019  298676  12047526   295425      82493        3251   \n",
       "2          India  11734058  160441  11686796   160166      47262         275   \n",
       "3         Russia   4424595   94231   4416226    93812       8369         419   \n",
       "4         France   4373607   93064   4358910    92776      14697         288   \n",
       "\n",
       "   Fatality Rate      Continent  \n",
       "0            1.8  North America  \n",
       "1            2.5  South America  \n",
       "2            1.4           Asia  \n",
       "3            2.1         Europe  \n",
       "4            2.1         Europe  "
      ]
     },
     "execution_count": 15,
     "metadata": {},
     "output_type": "execute_result"
    }
   ],
   "source": [
    "#hide\n",
    "df_table = (pd.DataFrame(dict(Cases=dfc_cases, Deaths=dfc_deaths, PCases=dfp_cases, PDeaths=dfp_deaths))\n",
    "             .sort_values(by=['Cases', 'Deaths'], ascending=[False, False])\n",
    "             .reset_index())\n",
    "df_table.rename(columns={'index': 'Country/Region'}, inplace=True)\n",
    "for c in 'Cases, Deaths'.split(', '):\n",
    "    df_table[f'{c} (+)'] = (df_table[c] - df_table[f'P{c}']).clip(0)  # DATA BUG\n",
    "df_table['Fatality Rate'] = (100 * df_table['Deaths'] / df_table['Cases']).round(1)\n",
    "df_table['Continent'] = df_table['Country/Region'].map(mapping['map.continent'])\n",
    "df_table.head(5)"
   ]
  },
  {
   "cell_type": "code",
   "execution_count": 16,
   "id": "fewer-occasion",
   "metadata": {
    "execution": {
     "iopub.execute_input": "2021-03-24T12:09:31.664327Z",
     "iopub.status.busy": "2021-03-24T12:09:31.663742Z",
     "iopub.status.idle": "2021-03-24T12:09:31.669833Z",
     "shell.execute_reply": "2021-03-24T12:09:31.669326Z"
    },
    "papermill": {
     "duration": 0.047834,
     "end_time": "2021-03-24T12:09:31.669975",
     "exception": false,
     "start_time": "2021-03-24T12:09:31.622141",
     "status": "completed"
    },
    "tags": []
   },
   "outputs": [],
   "source": [
    "#hide\n",
    "#delete problematic countries from table\n",
    "df_table = df_table[~df_table['Country/Region'].isin(['Cape Verde', 'Cruise Ship', 'Kosovo'])]"
   ]
  },
  {
   "cell_type": "code",
   "execution_count": 17,
   "id": "related-center",
   "metadata": {
    "execution": {
     "iopub.execute_input": "2021-03-24T12:09:31.772924Z",
     "iopub.status.busy": "2021-03-24T12:09:31.772287Z",
     "iopub.status.idle": "2021-03-24T12:09:31.775056Z",
     "shell.execute_reply": "2021-03-24T12:09:31.774514Z"
    },
    "papermill": {
     "duration": 0.069029,
     "end_time": "2021-03-24T12:09:31.775196",
     "exception": false,
     "start_time": "2021-03-24T12:09:31.706167",
     "status": "completed"
    },
    "tags": []
   },
   "outputs": [],
   "source": [
    "#hide\n",
    "metrics = [df_table.columns[index] for index in [1,2,5,6]]\n",
    "# s_china = df_table[df_table['Country/Region'].eq('China')][metrics].sum().add_prefix('China ')\n",
    "s_us = df_table[df_table['Country/Region'].eq('US')][metrics].sum().add_prefix('US ')\n",
    "s_eu = df_table[df_table['Continent'].eq('Europe')][metrics].sum().add_prefix('EU ')\n",
    "s_ind = df_table[df_table['Country/Region'].eq('India')][metrics].sum().add_prefix('India ')\n",
    "summary = {'updated': pd.to_datetime(dt_today), 'since': pd.to_datetime(dt_yday)}\n",
    "summary = {'updated': pd.to_datetime(dt_today), 'since': pd.to_datetime(dt_yday)}\n",
    "summary = {**summary, **df_table[metrics].sum(), **s_ind, **s_us, **s_eu}"
   ]
  },
  {
   "cell_type": "code",
   "execution_count": 18,
   "id": "engaging-syndrome",
   "metadata": {
    "execution": {
     "iopub.execute_input": "2021-03-24T12:09:31.855296Z",
     "iopub.status.busy": "2021-03-24T12:09:31.854657Z",
     "iopub.status.idle": "2021-03-24T12:09:31.869948Z",
     "shell.execute_reply": "2021-03-24T12:09:31.869389Z"
    },
    "papermill": {
     "duration": 0.057955,
     "end_time": "2021-03-24T12:09:31.870077",
     "exception": false,
     "start_time": "2021-03-24T12:09:31.812122",
     "status": "completed"
    },
    "tags": []
   },
   "outputs": [],
   "source": [
    "#hide\n",
    "dft_ct_new_cases = dft_cases.groupby(COL_REGION)[dt_cols].sum().diff(axis=1).fillna(0).astype(int)"
   ]
  },
  {
   "cell_type": "code",
   "execution_count": 19,
   "id": "neutral-assignment",
   "metadata": {
    "execution": {
     "iopub.execute_input": "2021-03-24T12:09:31.950400Z",
     "iopub.status.busy": "2021-03-24T12:09:31.949765Z",
     "iopub.status.idle": "2021-03-24T12:09:31.951577Z",
     "shell.execute_reply": "2021-03-24T12:09:31.952018Z"
    },
    "papermill": {
     "duration": 0.045492,
     "end_time": "2021-03-24T12:09:31.952170",
     "exception": false,
     "start_time": "2021-03-24T12:09:31.906678",
     "status": "completed"
    },
    "tags": []
   },
   "outputs": [],
   "source": [
    "#hide\n",
    "everydaycases = dft_ct_new_cases.cumsum(axis=1)"
   ]
  },
  {
   "cell_type": "code",
   "execution_count": 20,
   "id": "parliamentary-calgary",
   "metadata": {
    "execution": {
     "iopub.execute_input": "2021-03-24T12:09:32.030260Z",
     "iopub.status.busy": "2021-03-24T12:09:32.029664Z",
     "iopub.status.idle": "2021-03-24T12:09:33.706940Z",
     "shell.execute_reply": "2021-03-24T12:09:33.706325Z"
    },
    "papermill": {
     "duration": 1.718875,
     "end_time": "2021-03-24T12:09:33.707080",
     "exception": false,
     "start_time": "2021-03-24T12:09:31.988205",
     "status": "completed"
    },
    "tags": []
   },
   "outputs": [],
   "source": [
    "#hide\n",
    "import pandas as pd\n",
    "import matplotlib.pyplot as plt\n",
    "import matplotlib.ticker as ticker\n",
    "import matplotlib.animation as animation\n",
    "from IPython.display import HTML"
   ]
  },
  {
   "cell_type": "code",
   "execution_count": 21,
   "id": "lasting-extraction",
   "metadata": {
    "execution": {
     "iopub.execute_input": "2021-03-24T12:09:33.795058Z",
     "iopub.status.busy": "2021-03-24T12:09:33.794428Z",
     "iopub.status.idle": "2021-03-24T12:09:33.801542Z",
     "shell.execute_reply": "2021-03-24T12:09:33.800849Z"
    },
    "papermill": {
     "duration": 0.049612,
     "end_time": "2021-03-24T12:09:33.801706",
     "exception": false,
     "start_time": "2021-03-24T12:09:33.752094",
     "status": "completed"
    },
    "tags": []
   },
   "outputs": [],
   "source": [
    "#hide\n",
    "t = everydaycases.stack()"
   ]
  },
  {
   "cell_type": "code",
   "execution_count": 22,
   "id": "premier-sleeve",
   "metadata": {
    "execution": {
     "iopub.execute_input": "2021-03-24T12:09:33.883585Z",
     "iopub.status.busy": "2021-03-24T12:09:33.882956Z",
     "iopub.status.idle": "2021-03-24T12:09:33.890648Z",
     "shell.execute_reply": "2021-03-24T12:09:33.891133Z"
    },
    "papermill": {
     "duration": 0.04937,
     "end_time": "2021-03-24T12:09:33.891294",
     "exception": false,
     "start_time": "2021-03-24T12:09:33.841924",
     "status": "completed"
    },
    "tags": []
   },
   "outputs": [],
   "source": [
    "#hide\n",
    "g = t.reset_index(['Country/Region'])"
   ]
  },
  {
   "cell_type": "code",
   "execution_count": 23,
   "id": "distributed-pittsburgh",
   "metadata": {
    "execution": {
     "iopub.execute_input": "2021-03-24T12:09:33.968893Z",
     "iopub.status.busy": "2021-03-24T12:09:33.968289Z",
     "iopub.status.idle": "2021-03-24T12:09:33.971030Z",
     "shell.execute_reply": "2021-03-24T12:09:33.972067Z"
    },
    "papermill": {
     "duration": 0.043207,
     "end_time": "2021-03-24T12:09:33.972307",
     "exception": false,
     "start_time": "2021-03-24T12:09:33.929100",
     "status": "completed"
    },
    "tags": []
   },
   "outputs": [],
   "source": [
    "#hide\n",
    "g.index.name = 'date'"
   ]
  },
  {
   "cell_type": "code",
   "execution_count": 24,
   "id": "naked-donor",
   "metadata": {
    "execution": {
     "iopub.execute_input": "2021-03-24T12:09:34.047664Z",
     "iopub.status.busy": "2021-03-24T12:09:34.047035Z",
     "iopub.status.idle": "2021-03-24T12:09:34.049919Z",
     "shell.execute_reply": "2021-03-24T12:09:34.049422Z"
    },
    "papermill": {
     "duration": 0.042338,
     "end_time": "2021-03-24T12:09:34.050058",
     "exception": false,
     "start_time": "2021-03-24T12:09:34.007720",
     "status": "completed"
    },
    "tags": []
   },
   "outputs": [],
   "source": [
    "# #hide\n",
    "# g = g.reset_index(['date'])"
   ]
  },
  {
   "cell_type": "code",
   "execution_count": 25,
   "id": "incomplete-mustang",
   "metadata": {
    "execution": {
     "iopub.execute_input": "2021-03-24T12:09:34.124221Z",
     "iopub.status.busy": "2021-03-24T12:09:34.123596Z",
     "iopub.status.idle": "2021-03-24T12:09:34.125230Z",
     "shell.execute_reply": "2021-03-24T12:09:34.125669Z"
    },
    "papermill": {
     "duration": 0.040872,
     "end_time": "2021-03-24T12:09:34.125818",
     "exception": false,
     "start_time": "2021-03-24T12:09:34.084946",
     "status": "completed"
    },
    "tags": []
   },
   "outputs": [],
   "source": [
    "#hide\n",
    "# g.head()"
   ]
  },
  {
   "cell_type": "code",
   "execution_count": 26,
   "id": "specific-kruger",
   "metadata": {
    "execution": {
     "iopub.execute_input": "2021-03-24T12:09:34.204295Z",
     "iopub.status.busy": "2021-03-24T12:09:34.203581Z",
     "iopub.status.idle": "2021-03-24T12:09:34.206035Z",
     "shell.execute_reply": "2021-03-24T12:09:34.205481Z"
    },
    "papermill": {
     "duration": 0.04287,
     "end_time": "2021-03-24T12:09:34.206183",
     "exception": false,
     "start_time": "2021-03-24T12:09:34.163313",
     "status": "completed"
    },
    "tags": []
   },
   "outputs": [],
   "source": [
    "#hide\n",
    "# g.columns = ['date','country','cases']"
   ]
  },
  {
   "cell_type": "code",
   "execution_count": 27,
   "id": "tender-conversion",
   "metadata": {
    "execution": {
     "iopub.execute_input": "2021-03-24T12:09:34.285238Z",
     "iopub.status.busy": "2021-03-24T12:09:34.284587Z",
     "iopub.status.idle": "2021-03-24T12:09:34.286037Z",
     "shell.execute_reply": "2021-03-24T12:09:34.286583Z"
    },
    "papermill": {
     "duration": 0.043298,
     "end_time": "2021-03-24T12:09:34.286859",
     "exception": false,
     "start_time": "2021-03-24T12:09:34.243561",
     "status": "completed"
    },
    "tags": []
   },
   "outputs": [],
   "source": [
    "#hide\n",
    "# g['continent'] = g.country"
   ]
  },
  {
   "cell_type": "code",
   "execution_count": 28,
   "id": "substantial-wilderness",
   "metadata": {
    "execution": {
     "iopub.execute_input": "2021-03-24T12:09:34.370471Z",
     "iopub.status.busy": "2021-03-24T12:09:34.369840Z",
     "iopub.status.idle": "2021-03-24T12:09:34.372873Z",
     "shell.execute_reply": "2021-03-24T12:09:34.372395Z"
    },
    "papermill": {
     "duration": 0.042215,
     "end_time": "2021-03-24T12:09:34.373007",
     "exception": false,
     "start_time": "2021-03-24T12:09:34.330792",
     "status": "completed"
    },
    "tags": []
   },
   "outputs": [],
   "source": [
    "#hide\n",
    "# cols = list(g.columns.values)"
   ]
  },
  {
   "cell_type": "code",
   "execution_count": 29,
   "id": "solved-farming",
   "metadata": {
    "execution": {
     "iopub.execute_input": "2021-03-24T12:09:34.446974Z",
     "iopub.status.busy": "2021-03-24T12:09:34.446348Z",
     "iopub.status.idle": "2021-03-24T12:09:34.448839Z",
     "shell.execute_reply": "2021-03-24T12:09:34.448342Z"
    },
    "papermill": {
     "duration": 0.041124,
     "end_time": "2021-03-24T12:09:34.448966",
     "exception": false,
     "start_time": "2021-03-24T12:09:34.407842",
     "status": "completed"
    },
    "tags": []
   },
   "outputs": [],
   "source": [
    "#hide\n",
    "# cols.insert(0, cols.pop())"
   ]
  },
  {
   "cell_type": "code",
   "execution_count": 30,
   "id": "executed-adoption",
   "metadata": {
    "execution": {
     "iopub.execute_input": "2021-03-24T12:09:34.523893Z",
     "iopub.status.busy": "2021-03-24T12:09:34.523289Z",
     "iopub.status.idle": "2021-03-24T12:09:34.525163Z",
     "shell.execute_reply": "2021-03-24T12:09:34.525631Z"
    },
    "papermill": {
     "duration": 0.041384,
     "end_time": "2021-03-24T12:09:34.525779",
     "exception": false,
     "start_time": "2021-03-24T12:09:34.484395",
     "status": "completed"
    },
    "tags": []
   },
   "outputs": [],
   "source": [
    "#hide\n",
    "# g = g[cols]"
   ]
  },
  {
   "cell_type": "code",
   "execution_count": 31,
   "id": "subject-dublin",
   "metadata": {
    "execution": {
     "iopub.execute_input": "2021-03-24T12:09:34.599556Z",
     "iopub.status.busy": "2021-03-24T12:09:34.598945Z",
     "iopub.status.idle": "2021-03-24T12:09:34.601441Z",
     "shell.execute_reply": "2021-03-24T12:09:34.600976Z"
    },
    "papermill": {
     "duration": 0.04096,
     "end_time": "2021-03-24T12:09:34.601570",
     "exception": false,
     "start_time": "2021-03-24T12:09:34.560610",
     "status": "completed"
    },
    "tags": []
   },
   "outputs": [],
   "source": [
    "#hide\n",
    "# g['continent'] = g['continent'].map(mapping['map.continent'])"
   ]
  },
  {
   "cell_type": "code",
   "execution_count": 32,
   "id": "freelance-scout",
   "metadata": {
    "execution": {
     "iopub.execute_input": "2021-03-24T12:09:34.675849Z",
     "iopub.status.busy": "2021-03-24T12:09:34.675256Z",
     "iopub.status.idle": "2021-03-24T12:09:34.677909Z",
     "shell.execute_reply": "2021-03-24T12:09:34.678421Z"
    },
    "papermill": {
     "duration": 0.042045,
     "end_time": "2021-03-24T12:09:34.678573",
     "exception": false,
     "start_time": "2021-03-24T12:09:34.636528",
     "status": "completed"
    },
    "tags": []
   },
   "outputs": [],
   "source": [
    "#hide\n",
    "# g.head()"
   ]
  },
  {
   "cell_type": "code",
   "execution_count": 33,
   "id": "limited-engine",
   "metadata": {
    "execution": {
     "iopub.execute_input": "2021-03-24T12:09:34.752653Z",
     "iopub.status.busy": "2021-03-24T12:09:34.752032Z",
     "iopub.status.idle": "2021-03-24T12:09:34.754579Z",
     "shell.execute_reply": "2021-03-24T12:09:34.754102Z"
    },
    "papermill": {
     "duration": 0.041234,
     "end_time": "2021-03-24T12:09:34.754712",
     "exception": false,
     "start_time": "2021-03-24T12:09:34.713478",
     "status": "completed"
    },
    "tags": []
   },
   "outputs": [],
   "source": [
    "# hide\n",
    "# g['date'] = g['date'].astype('datetime64[ns]')"
   ]
  },
  {
   "cell_type": "code",
   "execution_count": 34,
   "id": "sophisticated-supervisor",
   "metadata": {
    "execution": {
     "iopub.execute_input": "2021-03-24T12:09:34.829086Z",
     "iopub.status.busy": "2021-03-24T12:09:34.828484Z",
     "iopub.status.idle": "2021-03-24T12:09:34.830303Z",
     "shell.execute_reply": "2021-03-24T12:09:34.830829Z"
    },
    "papermill": {
     "duration": 0.041018,
     "end_time": "2021-03-24T12:09:34.830983",
     "exception": false,
     "start_time": "2021-03-24T12:09:34.789965",
     "status": "completed"
    },
    "tags": []
   },
   "outputs": [],
   "source": [
    "#hide\n",
    "# g['date'] = g.date.dt.dayofyear"
   ]
  },
  {
   "cell_type": "code",
   "execution_count": 35,
   "id": "inside-dubai",
   "metadata": {
    "execution": {
     "iopub.execute_input": "2021-03-24T12:09:34.904934Z",
     "iopub.status.busy": "2021-03-24T12:09:34.904319Z",
     "iopub.status.idle": "2021-03-24T12:09:34.906169Z",
     "shell.execute_reply": "2021-03-24T12:09:34.906645Z"
    },
    "papermill": {
     "duration": 0.041005,
     "end_time": "2021-03-24T12:09:34.906819",
     "exception": false,
     "start_time": "2021-03-24T12:09:34.865814",
     "status": "completed"
    },
    "tags": []
   },
   "outputs": [],
   "source": [
    "#hide\n",
    "# g = g.rename(columns= {'continent':'group','country':'name','cases':'value'})"
   ]
  },
  {
   "cell_type": "code",
   "execution_count": 36,
   "id": "fleet-motorcycle",
   "metadata": {
    "execution": {
     "iopub.execute_input": "2021-03-24T12:09:34.981221Z",
     "iopub.status.busy": "2021-03-24T12:09:34.980620Z",
     "iopub.status.idle": "2021-03-24T12:09:34.982907Z",
     "shell.execute_reply": "2021-03-24T12:09:34.982383Z"
    },
    "papermill": {
     "duration": 0.04103,
     "end_time": "2021-03-24T12:09:34.983038",
     "exception": false,
     "start_time": "2021-03-24T12:09:34.942008",
     "status": "completed"
    },
    "tags": []
   },
   "outputs": [],
   "source": [
    "#hide\n",
    "# cols = ['name','group','day','value']"
   ]
  },
  {
   "cell_type": "code",
   "execution_count": 37,
   "id": "continued-sleeping",
   "metadata": {
    "execution": {
     "iopub.execute_input": "2021-03-24T12:09:35.058136Z",
     "iopub.status.busy": "2021-03-24T12:09:35.057514Z",
     "iopub.status.idle": "2021-03-24T12:09:35.059764Z",
     "shell.execute_reply": "2021-03-24T12:09:35.060284Z"
    },
    "papermill": {
     "duration": 0.042499,
     "end_time": "2021-03-24T12:09:35.060436",
     "exception": false,
     "start_time": "2021-03-24T12:09:35.017937",
     "status": "completed"
    },
    "tags": []
   },
   "outputs": [],
   "source": [
    "#hide\n",
    "# g.rename(columns= {'date':'day'},inplace = True)"
   ]
  },
  {
   "cell_type": "code",
   "execution_count": 38,
   "id": "major-fight",
   "metadata": {
    "execution": {
     "iopub.execute_input": "2021-03-24T12:09:35.141148Z",
     "iopub.status.busy": "2021-03-24T12:09:35.140524Z",
     "iopub.status.idle": "2021-03-24T12:09:35.142665Z",
     "shell.execute_reply": "2021-03-24T12:09:35.143187Z"
    },
    "papermill": {
     "duration": 0.043792,
     "end_time": "2021-03-24T12:09:35.143499",
     "exception": false,
     "start_time": "2021-03-24T12:09:35.099707",
     "status": "completed"
    },
    "tags": []
   },
   "outputs": [],
   "source": [
    "#hide\n",
    "# g = g[cols]"
   ]
  },
  {
   "cell_type": "code",
   "execution_count": 39,
   "id": "structured-mobile",
   "metadata": {
    "execution": {
     "iopub.execute_input": "2021-03-24T12:09:35.223516Z",
     "iopub.status.busy": "2021-03-24T12:09:35.222715Z",
     "iopub.status.idle": "2021-03-24T12:09:35.224760Z",
     "shell.execute_reply": "2021-03-24T12:09:35.225479Z"
    },
    "papermill": {
     "duration": 0.044377,
     "end_time": "2021-03-24T12:09:35.225639",
     "exception": false,
     "start_time": "2021-03-24T12:09:35.181262",
     "status": "completed"
    },
    "tags": []
   },
   "outputs": [],
   "source": [
    "# #hide\n",
    "# g = g[g.group.notna()]"
   ]
  },
  {
   "cell_type": "code",
   "execution_count": 40,
   "id": "determined-closing",
   "metadata": {
    "execution": {
     "iopub.execute_input": "2021-03-24T12:09:35.305902Z",
     "iopub.status.busy": "2021-03-24T12:09:35.305242Z",
     "iopub.status.idle": "2021-03-24T12:09:35.306782Z",
     "shell.execute_reply": "2021-03-24T12:09:35.307293Z"
    },
    "papermill": {
     "duration": 0.044313,
     "end_time": "2021-03-24T12:09:35.307441",
     "exception": false,
     "start_time": "2021-03-24T12:09:35.263128",
     "status": "completed"
    },
    "tags": []
   },
   "outputs": [],
   "source": [
    "# #hide\n",
    "# colors = dict(zip(\n",
    "#     [\"Oceania\", \"Europe\", \"Asia\", \"South America\", \"Middle East\", \"North America\", \"Africa\"],\n",
    "#     [\"#adb0ff\", \"#ffb3ff\", \"#90d595\", \"#e48381\", \"#aafbff\", \"#f7bb5f\", \"#eafb50\"]\n",
    "# ))\n",
    "# group_lk = g.set_index('name')['group'].to_dict()"
   ]
  },
  {
   "cell_type": "code",
   "execution_count": null,
   "id": "gross-drinking",
   "metadata": {
    "papermill": {
     "duration": 0.038539,
     "end_time": "2021-03-24T12:09:35.385065",
     "exception": false,
     "start_time": "2021-03-24T12:09:35.346526",
     "status": "completed"
    },
    "tags": []
   },
   "outputs": [],
   "source": []
  },
  {
   "cell_type": "code",
   "execution_count": 41,
   "id": "subject-macintosh",
   "metadata": {
    "execution": {
     "iopub.execute_input": "2021-03-24T12:09:35.464477Z",
     "iopub.status.busy": "2021-03-24T12:09:35.463807Z",
     "iopub.status.idle": "2021-03-24T12:09:35.465913Z",
     "shell.execute_reply": "2021-03-24T12:09:35.466502Z"
    },
    "papermill": {
     "duration": 0.044263,
     "end_time": "2021-03-24T12:09:35.466664",
     "exception": false,
     "start_time": "2021-03-24T12:09:35.422401",
     "status": "completed"
    },
    "tags": []
   },
   "outputs": [],
   "source": [
    "# #hide\n",
    "# fig, ax = plt.subplots(figsize=(15, 8))\n",
    "\n",
    "# def draw_barchart(current_day):\n",
    "#     dff = g[g['day'].eq(current_day)].sort_values(by='value', ascending=True).tail(10)\n",
    "#     ax.clear()\n",
    "#     ax.barh(dff['name'], dff['value'], color=[colors[group_lk[x]] for x in dff['name']])\n",
    "#     dx = dff['value'].max() / 200\n",
    "    \n",
    "#     for i, (value, name) in enumerate(zip(dff['value'], dff['name'])):\n",
    "#         ax.text(value-dx, i,     name,           size=14, weight=600, ha='right', va='bottom')\n",
    "#         ax.text(value-dx, i-.25, group_lk[name], size=10, color='#444444', ha='right', va='baseline')\n",
    "#         ax.text(value+dx, i,     f'{value:,.0f}',  size=14, ha='left',  va='center')\n",
    "#     ax.text(1, 0.4, current_day, transform=ax.transAxes, color='#777777', size=46, ha='right', weight=800)\n",
    "#     ax.text(0, 1.06, 'Population (thousands)', transform=ax.transAxes, size=12, color='#777777')\n",
    "#     ax.xaxis.set_major_formatter(ticker.StrMethodFormatter('{x:,.0f}'))\n",
    "#     ax.xaxis.set_ticks_position('top')\n",
    "#     ax.tick_params(axis='x', colors='#777777', labelsize=12)\n",
    "#     ax.set_yticks([])\n",
    "#     ax.margins(0, 0.01)\n",
    "#     ax.grid(which='major', axis='x', linestyle='-')\n",
    "#     ax.set_axisbelow(True)\n",
    "    \n",
    "#     ax.text(0, 1.15, 'Coronavirus',\n",
    "#             transform=ax.transAxes, size=24, weight=600, ha='left', va='top')\n",
    "# #     ax.text(1, 0, 'by @pratapvardhan; credit @jburnmurdoch', transform=ax.transAxes, color='#777777', ha='right',\n",
    "# #             bbox=dict(facecolor='white', alpha=0.8, edgecolor='white'))\n",
    "#     plt.box(False)"
   ]
  },
  {
   "cell_type": "code",
   "execution_count": 42,
   "id": "sexual-wages",
   "metadata": {
    "execution": {
     "iopub.execute_input": "2021-03-24T12:09:35.547186Z",
     "iopub.status.busy": "2021-03-24T12:09:35.546552Z",
     "iopub.status.idle": "2021-03-24T12:09:35.549332Z",
     "shell.execute_reply": "2021-03-24T12:09:35.548862Z"
    },
    "papermill": {
     "duration": 0.045117,
     "end_time": "2021-03-24T12:09:35.549464",
     "exception": false,
     "start_time": "2021-03-24T12:09:35.504347",
     "status": "completed"
    },
    "tags": []
   },
   "outputs": [],
   "source": [
    "# #hide_input\n",
    "# fig, ax = plt.subplots(figsize=(15, 8))\n",
    "# animator = animation.FuncAnimation(fig, draw_barchart, frames=range(g.day.values.min(), g.day.values.max()))\n",
    "# HTML(animator.to_jshtml())\n",
    "# # or use animator.to_html5_video() or animator.save() "
   ]
  },
  {
   "cell_type": "code",
   "execution_count": null,
   "id": "australian-container",
   "metadata": {
    "papermill": {
     "duration": 0.038804,
     "end_time": "2021-03-24T12:09:35.626259",
     "exception": false,
     "start_time": "2021-03-24T12:09:35.587455",
     "status": "completed"
    },
    "tags": []
   },
   "outputs": [],
   "source": []
  },
  {
   "cell_type": "code",
   "execution_count": null,
   "id": "mediterranean-pontiac",
   "metadata": {
    "papermill": {
     "duration": 0.036361,
     "end_time": "2021-03-24T12:09:35.701115",
     "exception": false,
     "start_time": "2021-03-24T12:09:35.664754",
     "status": "completed"
    },
    "tags": []
   },
   "outputs": [],
   "source": []
  },
  {
   "cell_type": "code",
   "execution_count": null,
   "id": "aging-legislature",
   "metadata": {
    "papermill": {
     "duration": 0.035761,
     "end_time": "2021-03-24T12:09:35.772767",
     "exception": false,
     "start_time": "2021-03-24T12:09:35.737006",
     "status": "completed"
    },
    "tags": []
   },
   "outputs": [],
   "source": []
  }
 ],
 "metadata": {
  "kernelspec": {
   "display_name": "Python 3",
   "language": "python",
   "name": "python3"
  },
  "language_info": {
   "codemirror_mode": {
    "name": "ipython",
    "version": 3
   },
   "file_extension": ".py",
   "mimetype": "text/x-python",
   "name": "python",
   "nbconvert_exporter": "python",
   "pygments_lexer": "ipython3",
   "version": "3.6.13"
  },
  "papermill": {
   "duration": 8.263989,
   "end_time": "2021-03-24T12:09:36.215411",
   "environment_variables": {},
   "exception": null,
   "input_path": "2020-03-21-covid19exp.ipynb",
   "output_path": "2020-03-21-covid19exp.ipynb",
   "parameters": {},
   "start_time": "2021-03-24T12:09:27.951422",
   "version": "2.0.0"
  }
 },
 "nbformat": 4,
 "nbformat_minor": 5
}