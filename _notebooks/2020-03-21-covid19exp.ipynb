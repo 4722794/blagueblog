{
 "cells": [
  {
   "cell_type": "markdown",
   "id": "muslim-click",
   "metadata": {
    "papermill": {
     "duration": 0.03408,
     "end_time": "2022-04-19T12:15:34.817775",
     "exception": false,
     "start_time": "2022-04-19T12:15:34.783695",
     "status": "completed"
    },
    "tags": []
   },
   "source": [
    "# COVID-19 Case Race\n",
    "> A race chart to see rising cases around the world\n",
    "\n",
    "- author: Hargun Oberoi\n",
    "- image: images/covid-overview.png\n",
    "- hide: false\n",
    "- badges: false"
   ]
  },
  {
   "cell_type": "code",
   "execution_count": 1,
   "id": "proof-material",
   "metadata": {
    "execution": {
     "iopub.execute_input": "2022-04-19T12:15:34.888622Z",
     "iopub.status.busy": "2022-04-19T12:15:34.888102Z",
     "iopub.status.idle": "2022-04-19T12:15:35.206829Z",
     "shell.execute_reply": "2022-04-19T12:15:35.206357Z"
    },
    "papermill": {
     "duration": 0.356826,
     "end_time": "2022-04-19T12:15:35.206965",
     "exception": false,
     "start_time": "2022-04-19T12:15:34.850139",
     "status": "completed"
    },
    "tags": []
   },
   "outputs": [],
   "source": [
    "#hide\n",
    "import numpy as np\n",
    "import pandas as pd\n",
    "from jinja2 import Template\n",
    "from IPython.display import HTML"
   ]
  },
  {
   "cell_type": "code",
   "execution_count": 2,
   "id": "developed-terminology",
   "metadata": {
    "execution": {
     "iopub.execute_input": "2022-04-19T12:15:35.273164Z",
     "iopub.status.busy": "2022-04-19T12:15:35.272661Z",
     "iopub.status.idle": "2022-04-19T12:15:35.274600Z",
     "shell.execute_reply": "2022-04-19T12:15:35.275019Z"
    },
    "papermill": {
     "duration": 0.037403,
     "end_time": "2022-04-19T12:15:35.275139",
     "exception": false,
     "start_time": "2022-04-19T12:15:35.237736",
     "status": "completed"
    },
    "tags": []
   },
   "outputs": [],
   "source": [
    "#hide\n",
    "\n",
    "# FETCH\n",
    "base_url = 'https://raw.githubusercontent.com/pratapvardhan/notebooks/master/covid19/'\n",
    "paths = {\n",
    "    'mapping': base_url + 'mapping_countries.csv',\n",
    "    'overview': base_url + 'overview.tpl'\n",
    "}"
   ]
  },
  {
   "cell_type": "code",
   "execution_count": 3,
   "id": "dynamic-saver",
   "metadata": {
    "execution": {
     "iopub.execute_input": "2022-04-19T12:15:35.345399Z",
     "iopub.status.busy": "2022-04-19T12:15:35.344896Z",
     "iopub.status.idle": "2022-04-19T12:15:35.347471Z",
     "shell.execute_reply": "2022-04-19T12:15:35.347843Z"
    },
    "papermill": {
     "duration": 0.042226,
     "end_time": "2022-04-19T12:15:35.347970",
     "exception": false,
     "start_time": "2022-04-19T12:15:35.305744",
     "status": "completed"
    },
    "tags": []
   },
   "outputs": [
    {
     "data": {
      "text/plain": [
       "'https://raw.githubusercontent.com/pratapvardhan/notebooks/master/covid19/mapping_countries.csv'"
      ]
     },
     "execution_count": 3,
     "metadata": {},
     "output_type": "execute_result"
    }
   ],
   "source": [
    "#hide\n",
    "paths['mapping']"
   ]
  },
  {
   "cell_type": "code",
   "execution_count": 4,
   "id": "urban-software",
   "metadata": {
    "execution": {
     "iopub.execute_input": "2022-04-19T12:15:35.415406Z",
     "iopub.status.busy": "2022-04-19T12:15:35.414885Z",
     "iopub.status.idle": "2022-04-19T12:15:35.417517Z",
     "shell.execute_reply": "2022-04-19T12:15:35.417119Z"
    },
    "papermill": {
     "duration": 0.038349,
     "end_time": "2022-04-19T12:15:35.417629",
     "exception": false,
     "start_time": "2022-04-19T12:15:35.379280",
     "status": "completed"
    },
    "tags": []
   },
   "outputs": [],
   "source": [
    "#hide\n",
    "def get_mappings(url):\n",
    "    df = pd.read_csv(url)\n",
    "    return {\n",
    "        'df': df,\n",
    "        'replace.country': dict(df.dropna(subset=['Name']).set_index('Country')['Name']),\n",
    "        'map.continent': dict(df.set_index('Name')['Continent'])\n",
    "    }"
   ]
  },
  {
   "cell_type": "code",
   "execution_count": 5,
   "id": "intimate-machinery",
   "metadata": {
    "execution": {
     "iopub.execute_input": "2022-04-19T12:15:35.485180Z",
     "iopub.status.busy": "2022-04-19T12:15:35.484666Z",
     "iopub.status.idle": "2022-04-19T12:15:35.508780Z",
     "shell.execute_reply": "2022-04-19T12:15:35.508311Z"
    },
    "papermill": {
     "duration": 0.060038,
     "end_time": "2022-04-19T12:15:35.508889",
     "exception": false,
     "start_time": "2022-04-19T12:15:35.448851",
     "status": "completed"
    },
    "tags": []
   },
   "outputs": [],
   "source": [
    "#hide\n",
    "mapping = get_mappings(paths['mapping'])"
   ]
  },
  {
   "cell_type": "code",
   "execution_count": 6,
   "id": "certified-tactics",
   "metadata": {
    "execution": {
     "iopub.execute_input": "2022-04-19T12:15:35.576769Z",
     "iopub.status.busy": "2022-04-19T12:15:35.576239Z",
     "iopub.status.idle": "2022-04-19T12:15:35.578247Z",
     "shell.execute_reply": "2022-04-19T12:15:35.577855Z"
    },
    "papermill": {
     "duration": 0.037297,
     "end_time": "2022-04-19T12:15:35.578352",
     "exception": false,
     "start_time": "2022-04-19T12:15:35.541055",
     "status": "completed"
    },
    "tags": []
   },
   "outputs": [],
   "source": [
    "#hide\n",
    "def get_template(path):\n",
    "    from urllib.parse import urlparse\n",
    "    if bool(urlparse(path).netloc):\n",
    "        from urllib.request import urlopen\n",
    "        return urlopen(path).read().decode('utf8')\n",
    "    return open(path).read()"
   ]
  },
  {
   "cell_type": "code",
   "execution_count": 7,
   "id": "realistic-blast",
   "metadata": {
    "execution": {
     "iopub.execute_input": "2022-04-19T12:15:35.645281Z",
     "iopub.status.busy": "2022-04-19T12:15:35.644773Z",
     "iopub.status.idle": "2022-04-19T12:15:35.646655Z",
     "shell.execute_reply": "2022-04-19T12:15:35.646190Z"
    },
    "papermill": {
     "duration": 0.037175,
     "end_time": "2022-04-19T12:15:35.646775",
     "exception": false,
     "start_time": "2022-04-19T12:15:35.609600",
     "status": "completed"
    },
    "tags": []
   },
   "outputs": [],
   "source": [
    "#hide\n",
    "def get_frame(name):\n",
    "    url = (\n",
    "        'https://raw.githubusercontent.com/CSSEGISandData/COVID-19/master/csse_covid_19_data/'\n",
    "        f'csse_covid_19_time_series/time_series_covid19_{name}_global.csv')\n",
    "    df = pd.read_csv(url)\n",
    "    # rename countries\n",
    "    df['Country/Region'] = df['Country/Region'].replace(mapping['replace.country'])\n",
    "    return df"
   ]
  },
  {
   "cell_type": "code",
   "execution_count": 8,
   "id": "affiliated-characterization",
   "metadata": {
    "execution": {
     "iopub.execute_input": "2022-04-19T12:15:35.714567Z",
     "iopub.status.busy": "2022-04-19T12:15:35.714044Z",
     "iopub.status.idle": "2022-04-19T12:15:35.715956Z",
     "shell.execute_reply": "2022-04-19T12:15:35.715546Z"
    },
    "papermill": {
     "duration": 0.038071,
     "end_time": "2022-04-19T12:15:35.716062",
     "exception": false,
     "start_time": "2022-04-19T12:15:35.677991",
     "status": "completed"
    },
    "tags": []
   },
   "outputs": [],
   "source": [
    "#hide\n",
    "def get_dates(df):\n",
    "    dt_cols = df.columns[~df.columns.isin(['Province/State', 'Country/Region', 'Lat', 'Long'])]\n",
    "    LAST_DATE_I = -1\n",
    "    # sometimes last column may be empty, then go backwards\n",
    "    for i in range(-1, -len(dt_cols), -1):\n",
    "        if not df[dt_cols[i]].fillna(0).eq(0).all():\n",
    "            LAST_DATE_I = i\n",
    "            break\n",
    "    return LAST_DATE_I, dt_cols"
   ]
  },
  {
   "cell_type": "code",
   "execution_count": 9,
   "id": "recent-optimization",
   "metadata": {
    "execution": {
     "iopub.execute_input": "2022-04-19T12:15:35.782774Z",
     "iopub.status.busy": "2022-04-19T12:15:35.782246Z",
     "iopub.status.idle": "2022-04-19T12:15:36.111052Z",
     "shell.execute_reply": "2022-04-19T12:15:36.111457Z"
    },
    "papermill": {
     "duration": 0.364365,
     "end_time": "2022-04-19T12:15:36.111591",
     "exception": false,
     "start_time": "2022-04-19T12:15:35.747226",
     "status": "completed"
    },
    "tags": []
   },
   "outputs": [],
   "source": [
    "#hide\n",
    "COL_REGION = 'Country/Region'\n",
    "# Confirmed, Recovered, Deaths\n",
    "df = get_frame('confirmed')\n",
    "# dft_: timeseries, dfc_: today country agg\n",
    "dft_cases = df\n",
    "dft_deaths = get_frame('deaths')\n",
    "dft_recovered = get_frame('recovered')\n",
    "LAST_DATE_I, dt_cols = get_dates(df)"
   ]
  },
  {
   "cell_type": "code",
   "execution_count": 10,
   "id": "absolute-copper",
   "metadata": {
    "execution": {
     "iopub.execute_input": "2022-04-19T12:15:36.179381Z",
     "iopub.status.busy": "2022-04-19T12:15:36.178865Z",
     "iopub.status.idle": "2022-04-19T12:15:36.180816Z",
     "shell.execute_reply": "2022-04-19T12:15:36.180415Z"
    },
    "papermill": {
     "duration": 0.037635,
     "end_time": "2022-04-19T12:15:36.180921",
     "exception": false,
     "start_time": "2022-04-19T12:15:36.143286",
     "status": "completed"
    },
    "tags": []
   },
   "outputs": [],
   "source": [
    "#hide\n",
    "LAST_DATE_I, dt_cols = get_dates(df)\n",
    "dt_today =dt_cols[LAST_DATE_I]\n",
    "# dt_5day = dt_cols[LAST_DATE_I - 5]\n",
    "dt_yday = dt_cols[LAST_DATE_I - 1]"
   ]
  },
  {
   "cell_type": "code",
   "execution_count": 11,
   "id": "restricted-sheriff",
   "metadata": {
    "execution": {
     "iopub.execute_input": "2022-04-19T12:15:36.249529Z",
     "iopub.status.busy": "2022-04-19T12:15:36.248173Z",
     "iopub.status.idle": "2022-04-19T12:15:36.254530Z",
     "shell.execute_reply": "2022-04-19T12:15:36.254933Z"
    },
    "papermill": {
     "duration": 0.043146,
     "end_time": "2022-04-19T12:15:36.255063",
     "exception": false,
     "start_time": "2022-04-19T12:15:36.211917",
     "status": "completed"
    },
    "tags": []
   },
   "outputs": [],
   "source": [
    "#hide\n",
    "dfc_cases = dft_cases.groupby(COL_REGION)[dt_today].sum()\n",
    "dfc_deaths = dft_deaths.groupby(COL_REGION)[dt_today].sum()\n",
    "# dfp_cases = dft_cases.groupby(COL_REGION)[dt_5day].sum()\n",
    "# dfp_deaths = dft_deaths.groupby(COL_REGION)[dt_5day].sum()\n",
    "dfp_cases = dft_cases.groupby(COL_REGION)[dt_yday].sum()\n",
    "dfp_deaths = dft_deaths.groupby(COL_REGION)[dt_yday].sum()"
   ]
  },
  {
   "cell_type": "code",
   "execution_count": 12,
   "id": "deluxe-hepatitis",
   "metadata": {
    "execution": {
     "iopub.execute_input": "2022-04-19T12:15:36.322934Z",
     "iopub.status.busy": "2022-04-19T12:15:36.322422Z",
     "iopub.status.idle": "2022-04-19T12:15:36.326726Z",
     "shell.execute_reply": "2022-04-19T12:15:36.326317Z"
    },
    "papermill": {
     "duration": 0.040477,
     "end_time": "2022-04-19T12:15:36.326858",
     "exception": false,
     "start_time": "2022-04-19T12:15:36.286381",
     "status": "completed"
    },
    "tags": []
   },
   "outputs": [],
   "source": [
    "#hide\n",
    "df_table = (pd.DataFrame(dict(Cases = dfc_cases, Deaths = dfc_deaths, PCases = dfp_cases, PDeaths = dfp_deaths))\n",
    "            .sort_values(by = ['Cases','Deaths'], ascending = [False, False])\n",
    "            .reset_index())"
   ]
  },
  {
   "cell_type": "code",
   "execution_count": 13,
   "id": "educational-chancellor",
   "metadata": {
    "execution": {
     "iopub.execute_input": "2022-04-19T12:15:36.405345Z",
     "iopub.status.busy": "2022-04-19T12:15:36.404829Z",
     "iopub.status.idle": "2022-04-19T12:15:36.412619Z",
     "shell.execute_reply": "2022-04-19T12:15:36.412217Z"
    },
    "papermill": {
     "duration": 0.054768,
     "end_time": "2022-04-19T12:15:36.412727",
     "exception": false,
     "start_time": "2022-04-19T12:15:36.357959",
     "status": "completed"
    },
    "tags": []
   },
   "outputs": [
    {
     "data": {
      "text/html": [
       "<div>\n",
       "<style scoped>\n",
       "    .dataframe tbody tr th:only-of-type {\n",
       "        vertical-align: middle;\n",
       "    }\n",
       "\n",
       "    .dataframe tbody tr th {\n",
       "        vertical-align: top;\n",
       "    }\n",
       "\n",
       "    .dataframe thead th {\n",
       "        text-align: right;\n",
       "    }\n",
       "</style>\n",
       "<table border=\"1\" class=\"dataframe\">\n",
       "  <thead>\n",
       "    <tr style=\"text-align: right;\">\n",
       "      <th></th>\n",
       "      <th>Country/Region</th>\n",
       "      <th>Cases</th>\n",
       "      <th>Deaths</th>\n",
       "      <th>PCases</th>\n",
       "      <th>PDeaths</th>\n",
       "      <th>Cases (+)</th>\n",
       "      <th>Deaths (+)</th>\n",
       "      <th>Fatality Rate</th>\n",
       "      <th>Continent</th>\n",
       "    </tr>\n",
       "  </thead>\n",
       "  <tbody>\n",
       "    <tr>\n",
       "      <th>0</th>\n",
       "      <td>US</td>\n",
       "      <td>80686310</td>\n",
       "      <td>988899</td>\n",
       "      <td>80632301</td>\n",
       "      <td>988618</td>\n",
       "      <td>54009</td>\n",
       "      <td>281</td>\n",
       "      <td>1.23</td>\n",
       "      <td>North America</td>\n",
       "    </tr>\n",
       "    <tr>\n",
       "      <th>1</th>\n",
       "      <td>India</td>\n",
       "      <td>43045527</td>\n",
       "      <td>521966</td>\n",
       "      <td>43044280</td>\n",
       "      <td>521965</td>\n",
       "      <td>1247</td>\n",
       "      <td>1</td>\n",
       "      <td>1.21</td>\n",
       "      <td>Asia</td>\n",
       "    </tr>\n",
       "    <tr>\n",
       "      <th>2</th>\n",
       "      <td>Brazil</td>\n",
       "      <td>30261088</td>\n",
       "      <td>662271</td>\n",
       "      <td>30252618</td>\n",
       "      <td>662207</td>\n",
       "      <td>8470</td>\n",
       "      <td>64</td>\n",
       "      <td>2.19</td>\n",
       "      <td>South America</td>\n",
       "    </tr>\n",
       "    <tr>\n",
       "      <th>3</th>\n",
       "      <td>France</td>\n",
       "      <td>27980729</td>\n",
       "      <td>145242</td>\n",
       "      <td>27960919</td>\n",
       "      <td>145194</td>\n",
       "      <td>19810</td>\n",
       "      <td>48</td>\n",
       "      <td>0.52</td>\n",
       "      <td>Europe</td>\n",
       "    </tr>\n",
       "    <tr>\n",
       "      <th>4</th>\n",
       "      <td>Germany</td>\n",
       "      <td>23459628</td>\n",
       "      <td>132960</td>\n",
       "      <td>23437145</td>\n",
       "      <td>132953</td>\n",
       "      <td>22483</td>\n",
       "      <td>7</td>\n",
       "      <td>0.57</td>\n",
       "      <td>Europe</td>\n",
       "    </tr>\n",
       "  </tbody>\n",
       "</table>\n",
       "</div>"
      ],
      "text/plain": [
       "  Country/Region     Cases  Deaths    PCases  PDeaths  Cases (+)  Deaths (+)  \\\n",
       "0             US  80686310  988899  80632301   988618      54009         281   \n",
       "1          India  43045527  521966  43044280   521965       1247           1   \n",
       "2         Brazil  30261088  662271  30252618   662207       8470          64   \n",
       "3         France  27980729  145242  27960919   145194      19810          48   \n",
       "4        Germany  23459628  132960  23437145   132953      22483           7   \n",
       "\n",
       "   Fatality Rate      Continent  \n",
       "0           1.23  North America  \n",
       "1           1.21           Asia  \n",
       "2           2.19  South America  \n",
       "3           0.52         Europe  \n",
       "4           0.57         Europe  "
      ]
     },
     "execution_count": 13,
     "metadata": {},
     "output_type": "execute_result"
    }
   ],
   "source": [
    "#hide\n",
    "for c in 'Cases, Deaths'.split(', '):\n",
    "    df_table[f'{c} (+)'] = (df_table[c] - df_table[f'P{c}']).clip(0)\n",
    "    #Clip ça veut dire, les chiffres negatif sont interdit\n",
    "df_table['Fatality Rate'] = (100* df_table['Deaths']/ df_table['Cases']).round(2)\n",
    "df_table['Continent'] = df_table['Country/Region'].map(mapping['map.continent'])\n",
    "df_table.head(5)"
   ]
  },
  {
   "cell_type": "code",
   "execution_count": 14,
   "id": "aboriginal-bulgaria",
   "metadata": {
    "execution": {
     "iopub.execute_input": "2022-04-19T12:15:36.481584Z",
     "iopub.status.busy": "2022-04-19T12:15:36.481052Z",
     "iopub.status.idle": "2022-04-19T12:15:36.484464Z",
     "shell.execute_reply": "2022-04-19T12:15:36.484032Z"
    },
    "papermill": {
     "duration": 0.04008,
     "end_time": "2022-04-19T12:15:36.484572",
     "exception": false,
     "start_time": "2022-04-19T12:15:36.444492",
     "status": "completed"
    },
    "tags": []
   },
   "outputs": [],
   "source": [
    "#hide\n",
    "#delete problematic countries from table\n",
    "df_table = df_table[~df_table['Country/Region'].isin(['Cape Verde', 'Cruise Ship', 'Kosovo'])]"
   ]
  },
  {
   "cell_type": "code",
   "execution_count": 15,
   "id": "fantastic-effect",
   "metadata": {
    "execution": {
     "iopub.execute_input": "2022-04-19T12:15:36.555482Z",
     "iopub.status.busy": "2022-04-19T12:15:36.554656Z",
     "iopub.status.idle": "2022-04-19T12:15:36.571815Z",
     "shell.execute_reply": "2022-04-19T12:15:36.572212Z"
    },
    "papermill": {
     "duration": 0.05628,
     "end_time": "2022-04-19T12:15:36.572338",
     "exception": false,
     "start_time": "2022-04-19T12:15:36.516058",
     "status": "completed"
    },
    "tags": []
   },
   "outputs": [
    {
     "data": {
      "text/html": [
       "<div>\n",
       "<style scoped>\n",
       "    .dataframe tbody tr th:only-of-type {\n",
       "        vertical-align: middle;\n",
       "    }\n",
       "\n",
       "    .dataframe tbody tr th {\n",
       "        vertical-align: top;\n",
       "    }\n",
       "\n",
       "    .dataframe thead th {\n",
       "        text-align: right;\n",
       "    }\n",
       "</style>\n",
       "<table border=\"1\" class=\"dataframe\">\n",
       "  <thead>\n",
       "    <tr style=\"text-align: right;\">\n",
       "      <th></th>\n",
       "      <th>Country/Region</th>\n",
       "      <th>Cases</th>\n",
       "      <th>Deaths</th>\n",
       "      <th>PCases</th>\n",
       "      <th>PDeaths</th>\n",
       "      <th>Cases (+)</th>\n",
       "      <th>Deaths (+)</th>\n",
       "      <th>Fatality Rate</th>\n",
       "      <th>Continent</th>\n",
       "    </tr>\n",
       "  </thead>\n",
       "  <tbody>\n",
       "    <tr>\n",
       "      <th>0</th>\n",
       "      <td>US</td>\n",
       "      <td>80686310</td>\n",
       "      <td>988899</td>\n",
       "      <td>80632301</td>\n",
       "      <td>988618</td>\n",
       "      <td>54009</td>\n",
       "      <td>281</td>\n",
       "      <td>1.2</td>\n",
       "      <td>North America</td>\n",
       "    </tr>\n",
       "    <tr>\n",
       "      <th>1</th>\n",
       "      <td>India</td>\n",
       "      <td>43045527</td>\n",
       "      <td>521966</td>\n",
       "      <td>43044280</td>\n",
       "      <td>521965</td>\n",
       "      <td>1247</td>\n",
       "      <td>1</td>\n",
       "      <td>1.2</td>\n",
       "      <td>Asia</td>\n",
       "    </tr>\n",
       "    <tr>\n",
       "      <th>2</th>\n",
       "      <td>Brazil</td>\n",
       "      <td>30261088</td>\n",
       "      <td>662271</td>\n",
       "      <td>30252618</td>\n",
       "      <td>662207</td>\n",
       "      <td>8470</td>\n",
       "      <td>64</td>\n",
       "      <td>2.2</td>\n",
       "      <td>South America</td>\n",
       "    </tr>\n",
       "    <tr>\n",
       "      <th>3</th>\n",
       "      <td>France</td>\n",
       "      <td>27980729</td>\n",
       "      <td>145242</td>\n",
       "      <td>27960919</td>\n",
       "      <td>145194</td>\n",
       "      <td>19810</td>\n",
       "      <td>48</td>\n",
       "      <td>0.5</td>\n",
       "      <td>Europe</td>\n",
       "    </tr>\n",
       "    <tr>\n",
       "      <th>4</th>\n",
       "      <td>Germany</td>\n",
       "      <td>23459628</td>\n",
       "      <td>132960</td>\n",
       "      <td>23437145</td>\n",
       "      <td>132953</td>\n",
       "      <td>22483</td>\n",
       "      <td>7</td>\n",
       "      <td>0.6</td>\n",
       "      <td>Europe</td>\n",
       "    </tr>\n",
       "  </tbody>\n",
       "</table>\n",
       "</div>"
      ],
      "text/plain": [
       "  Country/Region     Cases  Deaths    PCases  PDeaths  Cases (+)  Deaths (+)  \\\n",
       "0             US  80686310  988899  80632301   988618      54009         281   \n",
       "1          India  43045527  521966  43044280   521965       1247           1   \n",
       "2         Brazil  30261088  662271  30252618   662207       8470          64   \n",
       "3         France  27980729  145242  27960919   145194      19810          48   \n",
       "4        Germany  23459628  132960  23437145   132953      22483           7   \n",
       "\n",
       "   Fatality Rate      Continent  \n",
       "0            1.2  North America  \n",
       "1            1.2           Asia  \n",
       "2            2.2  South America  \n",
       "3            0.5         Europe  \n",
       "4            0.6         Europe  "
      ]
     },
     "execution_count": 15,
     "metadata": {},
     "output_type": "execute_result"
    }
   ],
   "source": [
    "#hide\n",
    "df_table = (pd.DataFrame(dict(Cases=dfc_cases, Deaths=dfc_deaths, PCases=dfp_cases, PDeaths=dfp_deaths))\n",
    "             .sort_values(by=['Cases', 'Deaths'], ascending=[False, False])\n",
    "             .reset_index())\n",
    "df_table.rename(columns={'index': 'Country/Region'}, inplace=True)\n",
    "for c in 'Cases, Deaths'.split(', '):\n",
    "    df_table[f'{c} (+)'] = (df_table[c] - df_table[f'P{c}']).clip(0)  # DATA BUG\n",
    "df_table['Fatality Rate'] = (100 * df_table['Deaths'] / df_table['Cases']).round(1)\n",
    "df_table['Continent'] = df_table['Country/Region'].map(mapping['map.continent'])\n",
    "df_table.head(5)"
   ]
  },
  {
   "cell_type": "code",
   "execution_count": 16,
   "id": "fewer-occasion",
   "metadata": {
    "execution": {
     "iopub.execute_input": "2022-04-19T12:15:36.642233Z",
     "iopub.status.busy": "2022-04-19T12:15:36.641706Z",
     "iopub.status.idle": "2022-04-19T12:15:36.643172Z",
     "shell.execute_reply": "2022-04-19T12:15:36.643581Z"
    },
    "papermill": {
     "duration": 0.039183,
     "end_time": "2022-04-19T12:15:36.643708",
     "exception": false,
     "start_time": "2022-04-19T12:15:36.604525",
     "status": "completed"
    },
    "tags": []
   },
   "outputs": [],
   "source": [
    "#hide\n",
    "#delete problematic countries from table\n",
    "df_table = df_table[~df_table['Country/Region'].isin(['Cape Verde', 'Cruise Ship', 'Kosovo'])]"
   ]
  },
  {
   "cell_type": "code",
   "execution_count": 17,
   "id": "related-center",
   "metadata": {
    "execution": {
     "iopub.execute_input": "2022-04-19T12:15:36.715540Z",
     "iopub.status.busy": "2022-04-19T12:15:36.715024Z",
     "iopub.status.idle": "2022-04-19T12:15:36.726661Z",
     "shell.execute_reply": "2022-04-19T12:15:36.726266Z"
    },
    "papermill": {
     "duration": 0.051024,
     "end_time": "2022-04-19T12:15:36.726784",
     "exception": false,
     "start_time": "2022-04-19T12:15:36.675760",
     "status": "completed"
    },
    "tags": []
   },
   "outputs": [],
   "source": [
    "#hide\n",
    "metrics = [df_table.columns[index] for index in [1,2,5,6]]\n",
    "# s_china = df_table[df_table['Country/Region'].eq('China')][metrics].sum().add_prefix('China ')\n",
    "s_us = df_table[df_table['Country/Region'].eq('US')][metrics].sum().add_prefix('US ')\n",
    "s_eu = df_table[df_table['Continent'].eq('Europe')][metrics].sum().add_prefix('EU ')\n",
    "s_ind = df_table[df_table['Country/Region'].eq('India')][metrics].sum().add_prefix('India ')\n",
    "summary = {'updated': pd.to_datetime(dt_today), 'since': pd.to_datetime(dt_yday)}\n",
    "summary = {'updated': pd.to_datetime(dt_today), 'since': pd.to_datetime(dt_yday)}\n",
    "summary = {**summary, **df_table[metrics].sum(), **s_ind, **s_us, **s_eu}"
   ]
  },
  {
   "cell_type": "code",
   "execution_count": 18,
   "id": "engaging-syndrome",
   "metadata": {
    "execution": {
     "iopub.execute_input": "2022-04-19T12:15:36.795769Z",
     "iopub.status.busy": "2022-04-19T12:15:36.795265Z",
     "iopub.status.idle": "2022-04-19T12:15:36.811105Z",
     "shell.execute_reply": "2022-04-19T12:15:36.810682Z"
    },
    "papermill": {
     "duration": 0.052122,
     "end_time": "2022-04-19T12:15:36.811221",
     "exception": false,
     "start_time": "2022-04-19T12:15:36.759099",
     "status": "completed"
    },
    "tags": []
   },
   "outputs": [],
   "source": [
    "#hide\n",
    "dft_ct_new_cases = dft_cases.groupby(COL_REGION)[dt_cols].sum().diff(axis=1).fillna(0).astype(int)"
   ]
  },
  {
   "cell_type": "code",
   "execution_count": 19,
   "id": "neutral-assignment",
   "metadata": {
    "execution": {
     "iopub.execute_input": "2022-04-19T12:15:36.881185Z",
     "iopub.status.busy": "2022-04-19T12:15:36.880679Z",
     "iopub.status.idle": "2022-04-19T12:15:36.882245Z",
     "shell.execute_reply": "2022-04-19T12:15:36.882635Z"
    },
    "papermill": {
     "duration": 0.039402,
     "end_time": "2022-04-19T12:15:36.882773",
     "exception": false,
     "start_time": "2022-04-19T12:15:36.843371",
     "status": "completed"
    },
    "tags": []
   },
   "outputs": [],
   "source": [
    "#hide\n",
    "everydaycases = dft_ct_new_cases.cumsum(axis=1)"
   ]
  },
  {
   "cell_type": "code",
   "execution_count": 20,
   "id": "parliamentary-calgary",
   "metadata": {
    "execution": {
     "iopub.execute_input": "2022-04-19T12:15:36.951106Z",
     "iopub.status.busy": "2022-04-19T12:15:36.950569Z",
     "iopub.status.idle": "2022-04-19T12:15:37.534152Z",
     "shell.execute_reply": "2022-04-19T12:15:37.533700Z"
    },
    "papermill": {
     "duration": 0.619225,
     "end_time": "2022-04-19T12:15:37.534275",
     "exception": false,
     "start_time": "2022-04-19T12:15:36.915050",
     "status": "completed"
    },
    "tags": []
   },
   "outputs": [],
   "source": [
    "#hide\n",
    "import pandas as pd\n",
    "import matplotlib.pyplot as plt\n",
    "import matplotlib.ticker as ticker\n",
    "import matplotlib.animation as animation\n",
    "from IPython.display import HTML"
   ]
  },
  {
   "cell_type": "code",
   "execution_count": 21,
   "id": "lasting-extraction",
   "metadata": {
    "execution": {
     "iopub.execute_input": "2022-04-19T12:15:37.604184Z",
     "iopub.status.busy": "2022-04-19T12:15:37.603694Z",
     "iopub.status.idle": "2022-04-19T12:15:37.609291Z",
     "shell.execute_reply": "2022-04-19T12:15:37.608901Z"
    },
    "papermill": {
     "duration": 0.043038,
     "end_time": "2022-04-19T12:15:37.609397",
     "exception": false,
     "start_time": "2022-04-19T12:15:37.566359",
     "status": "completed"
    },
    "tags": []
   },
   "outputs": [],
   "source": [
    "#hide\n",
    "t = everydaycases.stack()"
   ]
  },
  {
   "cell_type": "code",
   "execution_count": 22,
   "id": "premier-sleeve",
   "metadata": {
    "execution": {
     "iopub.execute_input": "2022-04-19T12:15:37.677707Z",
     "iopub.status.busy": "2022-04-19T12:15:37.677207Z",
     "iopub.status.idle": "2022-04-19T12:15:37.687220Z",
     "shell.execute_reply": "2022-04-19T12:15:37.686802Z"
    },
    "papermill": {
     "duration": 0.045663,
     "end_time": "2022-04-19T12:15:37.687330",
     "exception": false,
     "start_time": "2022-04-19T12:15:37.641667",
     "status": "completed"
    },
    "tags": []
   },
   "outputs": [],
   "source": [
    "#hide\n",
    "g = t.reset_index(['Country/Region'])"
   ]
  },
  {
   "cell_type": "code",
   "execution_count": 23,
   "id": "distributed-pittsburgh",
   "metadata": {
    "execution": {
     "iopub.execute_input": "2022-04-19T12:15:37.754683Z",
     "iopub.status.busy": "2022-04-19T12:15:37.754182Z",
     "iopub.status.idle": "2022-04-19T12:15:37.756167Z",
     "shell.execute_reply": "2022-04-19T12:15:37.755695Z"
    },
    "papermill": {
     "duration": 0.037092,
     "end_time": "2022-04-19T12:15:37.756269",
     "exception": false,
     "start_time": "2022-04-19T12:15:37.719177",
     "status": "completed"
    },
    "tags": []
   },
   "outputs": [],
   "source": [
    "#hide\n",
    "g.index.name = 'date'"
   ]
  },
  {
   "cell_type": "code",
   "execution_count": 24,
   "id": "naked-donor",
   "metadata": {
    "execution": {
     "iopub.execute_input": "2022-04-19T12:15:37.823964Z",
     "iopub.status.busy": "2022-04-19T12:15:37.823464Z",
     "iopub.status.idle": "2022-04-19T12:15:37.825068Z",
     "shell.execute_reply": "2022-04-19T12:15:37.825450Z"
    },
    "papermill": {
     "duration": 0.036988,
     "end_time": "2022-04-19T12:15:37.825565",
     "exception": false,
     "start_time": "2022-04-19T12:15:37.788577",
     "status": "completed"
    },
    "tags": []
   },
   "outputs": [],
   "source": [
    "# #hide\n",
    "# g = g.reset_index(['date'])"
   ]
  },
  {
   "cell_type": "code",
   "execution_count": 25,
   "id": "incomplete-mustang",
   "metadata": {
    "execution": {
     "iopub.execute_input": "2022-04-19T12:15:37.892976Z",
     "iopub.status.busy": "2022-04-19T12:15:37.892461Z",
     "iopub.status.idle": "2022-04-19T12:15:37.895374Z",
     "shell.execute_reply": "2022-04-19T12:15:37.895760Z"
    },
    "papermill": {
     "duration": 0.038292,
     "end_time": "2022-04-19T12:15:37.895879",
     "exception": false,
     "start_time": "2022-04-19T12:15:37.857587",
     "status": "completed"
    },
    "tags": []
   },
   "outputs": [],
   "source": [
    "#hide\n",
    "# g.head()"
   ]
  },
  {
   "cell_type": "code",
   "execution_count": 26,
   "id": "specific-kruger",
   "metadata": {
    "execution": {
     "iopub.execute_input": "2022-04-19T12:15:37.963561Z",
     "iopub.status.busy": "2022-04-19T12:15:37.963053Z",
     "iopub.status.idle": "2022-04-19T12:15:37.966065Z",
     "shell.execute_reply": "2022-04-19T12:15:37.966441Z"
    },
    "papermill": {
     "duration": 0.03847,
     "end_time": "2022-04-19T12:15:37.966565",
     "exception": false,
     "start_time": "2022-04-19T12:15:37.928095",
     "status": "completed"
    },
    "tags": []
   },
   "outputs": [],
   "source": [
    "#hide\n",
    "# g.columns = ['date','country','cases']"
   ]
  },
  {
   "cell_type": "code",
   "execution_count": 27,
   "id": "tender-conversion",
   "metadata": {
    "execution": {
     "iopub.execute_input": "2022-04-19T12:15:38.033857Z",
     "iopub.status.busy": "2022-04-19T12:15:38.033352Z",
     "iopub.status.idle": "2022-04-19T12:15:38.035252Z",
     "shell.execute_reply": "2022-04-19T12:15:38.034773Z"
    },
    "papermill": {
     "duration": 0.036825,
     "end_time": "2022-04-19T12:15:38.035357",
     "exception": false,
     "start_time": "2022-04-19T12:15:37.998532",
     "status": "completed"
    },
    "tags": []
   },
   "outputs": [],
   "source": [
    "#hide\n",
    "# g['continent'] = g.country"
   ]
  },
  {
   "cell_type": "code",
   "execution_count": 28,
   "id": "substantial-wilderness",
   "metadata": {
    "execution": {
     "iopub.execute_input": "2022-04-19T12:15:38.103007Z",
     "iopub.status.busy": "2022-04-19T12:15:38.102455Z",
     "iopub.status.idle": "2022-04-19T12:15:38.104077Z",
     "shell.execute_reply": "2022-04-19T12:15:38.104444Z"
    },
    "papermill": {
     "duration": 0.03704,
     "end_time": "2022-04-19T12:15:38.104561",
     "exception": false,
     "start_time": "2022-04-19T12:15:38.067521",
     "status": "completed"
    },
    "tags": []
   },
   "outputs": [],
   "source": [
    "#hide\n",
    "# cols = list(g.columns.values)"
   ]
  },
  {
   "cell_type": "code",
   "execution_count": 29,
   "id": "solved-farming",
   "metadata": {
    "execution": {
     "iopub.execute_input": "2022-04-19T12:15:38.172678Z",
     "iopub.status.busy": "2022-04-19T12:15:38.172163Z",
     "iopub.status.idle": "2022-04-19T12:15:38.175187Z",
     "shell.execute_reply": "2022-04-19T12:15:38.175558Z"
    },
    "papermill": {
     "duration": 0.039071,
     "end_time": "2022-04-19T12:15:38.175683",
     "exception": false,
     "start_time": "2022-04-19T12:15:38.136612",
     "status": "completed"
    },
    "tags": []
   },
   "outputs": [],
   "source": [
    "#hide\n",
    "# cols.insert(0, cols.pop())"
   ]
  },
  {
   "cell_type": "code",
   "execution_count": 30,
   "id": "executed-adoption",
   "metadata": {
    "execution": {
     "iopub.execute_input": "2022-04-19T12:15:38.243447Z",
     "iopub.status.busy": "2022-04-19T12:15:38.242950Z",
     "iopub.status.idle": "2022-04-19T12:15:38.244862Z",
     "shell.execute_reply": "2022-04-19T12:15:38.244477Z"
    },
    "papermill": {
     "duration": 0.037094,
     "end_time": "2022-04-19T12:15:38.244968",
     "exception": false,
     "start_time": "2022-04-19T12:15:38.207874",
     "status": "completed"
    },
    "tags": []
   },
   "outputs": [],
   "source": [
    "#hide\n",
    "# g = g[cols]"
   ]
  },
  {
   "cell_type": "code",
   "execution_count": 31,
   "id": "subject-dublin",
   "metadata": {
    "execution": {
     "iopub.execute_input": "2022-04-19T12:15:38.312361Z",
     "iopub.status.busy": "2022-04-19T12:15:38.311844Z",
     "iopub.status.idle": "2022-04-19T12:15:38.313357Z",
     "shell.execute_reply": "2022-04-19T12:15:38.313742Z"
    },
    "papermill": {
     "duration": 0.036763,
     "end_time": "2022-04-19T12:15:38.313856",
     "exception": false,
     "start_time": "2022-04-19T12:15:38.277093",
     "status": "completed"
    },
    "tags": []
   },
   "outputs": [],
   "source": [
    "#hide\n",
    "# g['continent'] = g['continent'].map(mapping['map.continent'])"
   ]
  },
  {
   "cell_type": "code",
   "execution_count": 32,
   "id": "freelance-scout",
   "metadata": {
    "execution": {
     "iopub.execute_input": "2022-04-19T12:15:38.381683Z",
     "iopub.status.busy": "2022-04-19T12:15:38.381150Z",
     "iopub.status.idle": "2022-04-19T12:15:38.384738Z",
     "shell.execute_reply": "2022-04-19T12:15:38.384324Z"
    },
    "papermill": {
     "duration": 0.038832,
     "end_time": "2022-04-19T12:15:38.384850",
     "exception": false,
     "start_time": "2022-04-19T12:15:38.346018",
     "status": "completed"
    },
    "tags": []
   },
   "outputs": [],
   "source": [
    "#hide\n",
    "# g.head()"
   ]
  },
  {
   "cell_type": "code",
   "execution_count": 33,
   "id": "limited-engine",
   "metadata": {
    "execution": {
     "iopub.execute_input": "2022-04-19T12:15:38.452403Z",
     "iopub.status.busy": "2022-04-19T12:15:38.451868Z",
     "iopub.status.idle": "2022-04-19T12:15:38.453833Z",
     "shell.execute_reply": "2022-04-19T12:15:38.453433Z"
    },
    "papermill": {
     "duration": 0.037083,
     "end_time": "2022-04-19T12:15:38.453937",
     "exception": false,
     "start_time": "2022-04-19T12:15:38.416854",
     "status": "completed"
    },
    "tags": []
   },
   "outputs": [],
   "source": [
    "# hide\n",
    "# g['date'] = g['date'].astype('datetime64[ns]')"
   ]
  },
  {
   "cell_type": "code",
   "execution_count": 34,
   "id": "sophisticated-supervisor",
   "metadata": {
    "execution": {
     "iopub.execute_input": "2022-04-19T12:15:38.521827Z",
     "iopub.status.busy": "2022-04-19T12:15:38.521315Z",
     "iopub.status.idle": "2022-04-19T12:15:38.524768Z",
     "shell.execute_reply": "2022-04-19T12:15:38.524366Z"
    },
    "papermill": {
     "duration": 0.038642,
     "end_time": "2022-04-19T12:15:38.524875",
     "exception": false,
     "start_time": "2022-04-19T12:15:38.486233",
     "status": "completed"
    },
    "tags": []
   },
   "outputs": [],
   "source": [
    "#hide\n",
    "# g['date'] = g.date.dt.dayofyear"
   ]
  },
  {
   "cell_type": "code",
   "execution_count": 35,
   "id": "inside-dubai",
   "metadata": {
    "execution": {
     "iopub.execute_input": "2022-04-19T12:15:38.592431Z",
     "iopub.status.busy": "2022-04-19T12:15:38.591907Z",
     "iopub.status.idle": "2022-04-19T12:15:38.593880Z",
     "shell.execute_reply": "2022-04-19T12:15:38.593491Z"
    },
    "papermill": {
     "duration": 0.037057,
     "end_time": "2022-04-19T12:15:38.593983",
     "exception": false,
     "start_time": "2022-04-19T12:15:38.556926",
     "status": "completed"
    },
    "tags": []
   },
   "outputs": [],
   "source": [
    "#hide\n",
    "# g = g.rename(columns= {'continent':'group','country':'name','cases':'value'})"
   ]
  },
  {
   "cell_type": "code",
   "execution_count": 36,
   "id": "fleet-motorcycle",
   "metadata": {
    "execution": {
     "iopub.execute_input": "2022-04-19T12:15:38.661707Z",
     "iopub.status.busy": "2022-04-19T12:15:38.661211Z",
     "iopub.status.idle": "2022-04-19T12:15:38.663225Z",
     "shell.execute_reply": "2022-04-19T12:15:38.662839Z"
    },
    "papermill": {
     "duration": 0.03709,
     "end_time": "2022-04-19T12:15:38.663326",
     "exception": false,
     "start_time": "2022-04-19T12:15:38.626236",
     "status": "completed"
    },
    "tags": []
   },
   "outputs": [],
   "source": [
    "#hide\n",
    "# cols = ['name','group','day','value']"
   ]
  },
  {
   "cell_type": "code",
   "execution_count": 37,
   "id": "continued-sleeping",
   "metadata": {
    "execution": {
     "iopub.execute_input": "2022-04-19T12:15:38.731301Z",
     "iopub.status.busy": "2022-04-19T12:15:38.730742Z",
     "iopub.status.idle": "2022-04-19T12:15:38.732640Z",
     "shell.execute_reply": "2022-04-19T12:15:38.732226Z"
    },
    "papermill": {
     "duration": 0.037124,
     "end_time": "2022-04-19T12:15:38.732740",
     "exception": false,
     "start_time": "2022-04-19T12:15:38.695616",
     "status": "completed"
    },
    "tags": []
   },
   "outputs": [],
   "source": [
    "#hide\n",
    "# g.rename(columns= {'date':'day'},inplace = True)"
   ]
  },
  {
   "cell_type": "code",
   "execution_count": 38,
   "id": "major-fight",
   "metadata": {
    "execution": {
     "iopub.execute_input": "2022-04-19T12:15:38.800545Z",
     "iopub.status.busy": "2022-04-19T12:15:38.800014Z",
     "iopub.status.idle": "2022-04-19T12:15:38.801626Z",
     "shell.execute_reply": "2022-04-19T12:15:38.801998Z"
    },
    "papermill": {
     "duration": 0.037319,
     "end_time": "2022-04-19T12:15:38.802120",
     "exception": false,
     "start_time": "2022-04-19T12:15:38.764801",
     "status": "completed"
    },
    "tags": []
   },
   "outputs": [],
   "source": [
    "#hide\n",
    "# g = g[cols]"
   ]
  },
  {
   "cell_type": "code",
   "execution_count": 39,
   "id": "structured-mobile",
   "metadata": {
    "execution": {
     "iopub.execute_input": "2022-04-19T12:15:38.869531Z",
     "iopub.status.busy": "2022-04-19T12:15:38.869037Z",
     "iopub.status.idle": "2022-04-19T12:15:38.870535Z",
     "shell.execute_reply": "2022-04-19T12:15:38.870972Z"
    },
    "papermill": {
     "duration": 0.036739,
     "end_time": "2022-04-19T12:15:38.871090",
     "exception": false,
     "start_time": "2022-04-19T12:15:38.834351",
     "status": "completed"
    },
    "tags": []
   },
   "outputs": [],
   "source": [
    "# #hide\n",
    "# g = g[g.group.notna()]"
   ]
  },
  {
   "cell_type": "code",
   "execution_count": 40,
   "id": "determined-closing",
   "metadata": {
    "execution": {
     "iopub.execute_input": "2022-04-19T12:15:38.938696Z",
     "iopub.status.busy": "2022-04-19T12:15:38.938180Z",
     "iopub.status.idle": "2022-04-19T12:15:38.940277Z",
     "shell.execute_reply": "2022-04-19T12:15:38.939872Z"
    },
    "papermill": {
     "duration": 0.037102,
     "end_time": "2022-04-19T12:15:38.940377",
     "exception": false,
     "start_time": "2022-04-19T12:15:38.903275",
     "status": "completed"
    },
    "tags": []
   },
   "outputs": [],
   "source": [
    "# #hide\n",
    "# colors = dict(zip(\n",
    "#     [\"Oceania\", \"Europe\", \"Asia\", \"South America\", \"Middle East\", \"North America\", \"Africa\"],\n",
    "#     [\"#adb0ff\", \"#ffb3ff\", \"#90d595\", \"#e48381\", \"#aafbff\", \"#f7bb5f\", \"#eafb50\"]\n",
    "# ))\n",
    "# group_lk = g.set_index('name')['group'].to_dict()"
   ]
  },
  {
   "cell_type": "code",
   "execution_count": null,
   "id": "gross-drinking",
   "metadata": {
    "papermill": {
     "duration": 0.032079,
     "end_time": "2022-04-19T12:15:39.004630",
     "exception": false,
     "start_time": "2022-04-19T12:15:38.972551",
     "status": "completed"
    },
    "tags": []
   },
   "outputs": [],
   "source": []
  },
  {
   "cell_type": "code",
   "execution_count": 41,
   "id": "subject-macintosh",
   "metadata": {
    "execution": {
     "iopub.execute_input": "2022-04-19T12:15:39.073159Z",
     "iopub.status.busy": "2022-04-19T12:15:39.072633Z",
     "iopub.status.idle": "2022-04-19T12:15:39.074606Z",
     "shell.execute_reply": "2022-04-19T12:15:39.074192Z"
    },
    "papermill": {
     "duration": 0.037648,
     "end_time": "2022-04-19T12:15:39.074709",
     "exception": false,
     "start_time": "2022-04-19T12:15:39.037061",
     "status": "completed"
    },
    "tags": []
   },
   "outputs": [],
   "source": [
    "# #hide\n",
    "# fig, ax = plt.subplots(figsize=(15, 8))\n",
    "\n",
    "# def draw_barchart(current_day):\n",
    "#     dff = g[g['day'].eq(current_day)].sort_values(by='value', ascending=True).tail(10)\n",
    "#     ax.clear()\n",
    "#     ax.barh(dff['name'], dff['value'], color=[colors[group_lk[x]] for x in dff['name']])\n",
    "#     dx = dff['value'].max() / 200\n",
    "    \n",
    "#     for i, (value, name) in enumerate(zip(dff['value'], dff['name'])):\n",
    "#         ax.text(value-dx, i,     name,           size=14, weight=600, ha='right', va='bottom')\n",
    "#         ax.text(value-dx, i-.25, group_lk[name], size=10, color='#444444', ha='right', va='baseline')\n",
    "#         ax.text(value+dx, i,     f'{value:,.0f}',  size=14, ha='left',  va='center')\n",
    "#     ax.text(1, 0.4, current_day, transform=ax.transAxes, color='#777777', size=46, ha='right', weight=800)\n",
    "#     ax.text(0, 1.06, 'Population (thousands)', transform=ax.transAxes, size=12, color='#777777')\n",
    "#     ax.xaxis.set_major_formatter(ticker.StrMethodFormatter('{x:,.0f}'))\n",
    "#     ax.xaxis.set_ticks_position('top')\n",
    "#     ax.tick_params(axis='x', colors='#777777', labelsize=12)\n",
    "#     ax.set_yticks([])\n",
    "#     ax.margins(0, 0.01)\n",
    "#     ax.grid(which='major', axis='x', linestyle='-')\n",
    "#     ax.set_axisbelow(True)\n",
    "    \n",
    "#     ax.text(0, 1.15, 'Coronavirus',\n",
    "#             transform=ax.transAxes, size=24, weight=600, ha='left', va='top')\n",
    "# #     ax.text(1, 0, 'by @pratapvardhan; credit @jburnmurdoch', transform=ax.transAxes, color='#777777', ha='right',\n",
    "# #             bbox=dict(facecolor='white', alpha=0.8, edgecolor='white'))\n",
    "#     plt.box(False)"
   ]
  },
  {
   "cell_type": "code",
   "execution_count": 42,
   "id": "sexual-wages",
   "metadata": {
    "execution": {
     "iopub.execute_input": "2022-04-19T12:15:39.142110Z",
     "iopub.status.busy": "2022-04-19T12:15:39.141586Z",
     "iopub.status.idle": "2022-04-19T12:15:39.143344Z",
     "shell.execute_reply": "2022-04-19T12:15:39.143731Z"
    },
    "papermill": {
     "duration": 0.037255,
     "end_time": "2022-04-19T12:15:39.143850",
     "exception": false,
     "start_time": "2022-04-19T12:15:39.106595",
     "status": "completed"
    },
    "tags": []
   },
   "outputs": [],
   "source": [
    "# #hide_input\n",
    "# fig, ax = plt.subplots(figsize=(15, 8))\n",
    "# animator = animation.FuncAnimation(fig, draw_barchart, frames=range(g.day.values.min(), g.day.values.max()))\n",
    "# HTML(animator.to_jshtml())\n",
    "# # or use animator.to_html5_video() or animator.save() "
   ]
  },
  {
   "cell_type": "code",
   "execution_count": null,
   "id": "australian-container",
   "metadata": {
    "papermill": {
     "duration": 0.032027,
     "end_time": "2022-04-19T12:15:39.208651",
     "exception": false,
     "start_time": "2022-04-19T12:15:39.176624",
     "status": "completed"
    },
    "tags": []
   },
   "outputs": [],
   "source": []
  },
  {
   "cell_type": "code",
   "execution_count": null,
   "id": "mediterranean-pontiac",
   "metadata": {
    "papermill": {
     "duration": 0.031674,
     "end_time": "2022-04-19T12:15:39.272205",
     "exception": false,
     "start_time": "2022-04-19T12:15:39.240531",
     "status": "completed"
    },
    "tags": []
   },
   "outputs": [],
   "source": []
  },
  {
   "cell_type": "code",
   "execution_count": null,
   "id": "aging-legislature",
   "metadata": {
    "papermill": {
     "duration": 0.031801,
     "end_time": "2022-04-19T12:15:39.336154",
     "exception": false,
     "start_time": "2022-04-19T12:15:39.304353",
     "status": "completed"
    },
    "tags": []
   },
   "outputs": [],
   "source": []
  }
 ],
 "metadata": {
  "kernelspec": {
   "display_name": "Python 3",
   "language": "python",
   "name": "python3"
  },
  "language_info": {
   "codemirror_mode": {
    "name": "ipython",
    "version": 3
   },
   "file_extension": ".py",
   "mimetype": "text/x-python",
   "name": "python",
   "nbconvert_exporter": "python",
   "pygments_lexer": "ipython3",
   "version": "3.6.15"
  },
  "papermill": {
   "duration": 5.834895,
   "end_time": "2022-04-19T12:15:39.685208",
   "environment_variables": {},
   "exception": null,
   "input_path": "2020-03-21-covid19exp.ipynb",
   "output_path": "2020-03-21-covid19exp.ipynb",
   "parameters": {},
   "start_time": "2022-04-19T12:15:33.850313",
   "version": "2.0.0"
  }
 },
 "nbformat": 4,
 "nbformat_minor": 5
}