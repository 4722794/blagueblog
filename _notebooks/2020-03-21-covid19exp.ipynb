{
 "cells": [
  {
   "cell_type": "markdown",
   "id": "muslim-click",
   "metadata": {
    "papermill": {
     "duration": 0.03437,
     "end_time": "2022-11-01T12:22:03.418581",
     "exception": false,
     "start_time": "2022-11-01T12:22:03.384211",
     "status": "completed"
    },
    "tags": []
   },
   "source": [
    "# COVID-19 Case Race\n",
    "> A race chart to see rising cases around the world\n",
    "\n",
    "- author: Hargun Oberoi\n",
    "- image: images/covid-overview.png\n",
    "- hide: false\n",
    "- badges: false"
   ]
  },
  {
   "cell_type": "code",
   "execution_count": 1,
   "id": "proof-material",
   "metadata": {
    "execution": {
     "iopub.execute_input": "2022-11-01T12:22:03.486993Z",
     "iopub.status.busy": "2022-11-01T12:22:03.485669Z",
     "iopub.status.idle": "2022-11-01T12:22:03.788666Z",
     "shell.execute_reply": "2022-11-01T12:22:03.788170Z"
    },
    "papermill": {
     "duration": 0.339841,
     "end_time": "2022-11-01T12:22:03.788793",
     "exception": false,
     "start_time": "2022-11-01T12:22:03.448952",
     "status": "completed"
    },
    "tags": []
   },
   "outputs": [],
   "source": [
    "#hide\n",
    "import numpy as np\n",
    "import pandas as pd\n",
    "from jinja2 import Template\n",
    "from IPython.display import HTML"
   ]
  },
  {
   "cell_type": "code",
   "execution_count": 2,
   "id": "developed-terminology",
   "metadata": {
    "execution": {
     "iopub.execute_input": "2022-11-01T12:22:03.852293Z",
     "iopub.status.busy": "2022-11-01T12:22:03.851746Z",
     "iopub.status.idle": "2022-11-01T12:22:03.853883Z",
     "shell.execute_reply": "2022-11-01T12:22:03.854323Z"
    },
    "papermill": {
     "duration": 0.035886,
     "end_time": "2022-11-01T12:22:03.854433",
     "exception": false,
     "start_time": "2022-11-01T12:22:03.818547",
     "status": "completed"
    },
    "tags": []
   },
   "outputs": [],
   "source": [
    "#hide\n",
    "\n",
    "# FETCH\n",
    "base_url = 'https://raw.githubusercontent.com/pratapvardhan/notebooks/master/covid19/'\n",
    "paths = {\n",
    "    'mapping': base_url + 'mapping_countries.csv',\n",
    "    'overview': base_url + 'overview.tpl'\n",
    "}"
   ]
  },
  {
   "cell_type": "code",
   "execution_count": 3,
   "id": "dynamic-saver",
   "metadata": {
    "execution": {
     "iopub.execute_input": "2022-11-01T12:22:03.921154Z",
     "iopub.status.busy": "2022-11-01T12:22:03.920417Z",
     "iopub.status.idle": "2022-11-01T12:22:03.924424Z",
     "shell.execute_reply": "2022-11-01T12:22:03.923894Z"
    },
    "papermill": {
     "duration": 0.040686,
     "end_time": "2022-11-01T12:22:03.924517",
     "exception": false,
     "start_time": "2022-11-01T12:22:03.883831",
     "status": "completed"
    },
    "tags": []
   },
   "outputs": [
    {
     "data": {
      "text/plain": [
       "'https://raw.githubusercontent.com/pratapvardhan/notebooks/master/covid19/mapping_countries.csv'"
      ]
     },
     "execution_count": 3,
     "metadata": {},
     "output_type": "execute_result"
    }
   ],
   "source": [
    "#hide\n",
    "paths['mapping']"
   ]
  },
  {
   "cell_type": "code",
   "execution_count": 4,
   "id": "urban-software",
   "metadata": {
    "execution": {
     "iopub.execute_input": "2022-11-01T12:22:03.988730Z",
     "iopub.status.busy": "2022-11-01T12:22:03.988162Z",
     "iopub.status.idle": "2022-11-01T12:22:03.990577Z",
     "shell.execute_reply": "2022-11-01T12:22:03.990154Z"
    },
    "papermill": {
     "duration": 0.036132,
     "end_time": "2022-11-01T12:22:03.990672",
     "exception": false,
     "start_time": "2022-11-01T12:22:03.954540",
     "status": "completed"
    },
    "tags": []
   },
   "outputs": [],
   "source": [
    "#hide\n",
    "def get_mappings(url):\n",
    "    df = pd.read_csv(url)\n",
    "    return {\n",
    "        'df': df,\n",
    "        'replace.country': dict(df.dropna(subset=['Name']).set_index('Country')['Name']),\n",
    "        'map.continent': dict(df.set_index('Name')['Continent'])\n",
    "    }"
   ]
  },
  {
   "cell_type": "code",
   "execution_count": 5,
   "id": "intimate-machinery",
   "metadata": {
    "execution": {
     "iopub.execute_input": "2022-11-01T12:22:04.054631Z",
     "iopub.status.busy": "2022-11-01T12:22:04.054087Z",
     "iopub.status.idle": "2022-11-01T12:22:04.090644Z",
     "shell.execute_reply": "2022-11-01T12:22:04.091108Z"
    },
    "papermill": {
     "duration": 0.070764,
     "end_time": "2022-11-01T12:22:04.091241",
     "exception": false,
     "start_time": "2022-11-01T12:22:04.020477",
     "status": "completed"
    },
    "tags": []
   },
   "outputs": [],
   "source": [
    "#hide\n",
    "mapping = get_mappings(paths['mapping'])"
   ]
  },
  {
   "cell_type": "code",
   "execution_count": 6,
   "id": "certified-tactics",
   "metadata": {
    "execution": {
     "iopub.execute_input": "2022-11-01T12:22:04.155220Z",
     "iopub.status.busy": "2022-11-01T12:22:04.154651Z",
     "iopub.status.idle": "2022-11-01T12:22:04.156877Z",
     "shell.execute_reply": "2022-11-01T12:22:04.157308Z"
    },
    "papermill": {
     "duration": 0.03622,
     "end_time": "2022-11-01T12:22:04.157414",
     "exception": false,
     "start_time": "2022-11-01T12:22:04.121194",
     "status": "completed"
    },
    "tags": []
   },
   "outputs": [],
   "source": [
    "#hide\n",
    "def get_template(path):\n",
    "    from urllib.parse import urlparse\n",
    "    if bool(urlparse(path).netloc):\n",
    "        from urllib.request import urlopen\n",
    "        return urlopen(path).read().decode('utf8')\n",
    "    return open(path).read()"
   ]
  },
  {
   "cell_type": "code",
   "execution_count": 7,
   "id": "realistic-blast",
   "metadata": {
    "execution": {
     "iopub.execute_input": "2022-11-01T12:22:04.220982Z",
     "iopub.status.busy": "2022-11-01T12:22:04.220419Z",
     "iopub.status.idle": "2022-11-01T12:22:04.223159Z",
     "shell.execute_reply": "2022-11-01T12:22:04.222669Z"
    },
    "papermill": {
     "duration": 0.036052,
     "end_time": "2022-11-01T12:22:04.223257",
     "exception": false,
     "start_time": "2022-11-01T12:22:04.187205",
     "status": "completed"
    },
    "tags": []
   },
   "outputs": [],
   "source": [
    "#hide\n",
    "def get_frame(name):\n",
    "    url = (\n",
    "        'https://raw.githubusercontent.com/CSSEGISandData/COVID-19/master/csse_covid_19_data/'\n",
    "        f'csse_covid_19_time_series/time_series_covid19_{name}_global.csv')\n",
    "    df = pd.read_csv(url)\n",
    "    # rename countries\n",
    "    df['Country/Region'] = df['Country/Region'].replace(mapping['replace.country'])\n",
    "    return df"
   ]
  },
  {
   "cell_type": "code",
   "execution_count": 8,
   "id": "affiliated-characterization",
   "metadata": {
    "execution": {
     "iopub.execute_input": "2022-11-01T12:22:04.288187Z",
     "iopub.status.busy": "2022-11-01T12:22:04.287609Z",
     "iopub.status.idle": "2022-11-01T12:22:04.290078Z",
     "shell.execute_reply": "2022-11-01T12:22:04.289636Z"
    },
    "papermill": {
     "duration": 0.036963,
     "end_time": "2022-11-01T12:22:04.290172",
     "exception": false,
     "start_time": "2022-11-01T12:22:04.253209",
     "status": "completed"
    },
    "tags": []
   },
   "outputs": [],
   "source": [
    "#hide\n",
    "def get_dates(df):\n",
    "    dt_cols = df.columns[~df.columns.isin(['Province/State', 'Country/Region', 'Lat', 'Long'])]\n",
    "    LAST_DATE_I = -1\n",
    "    # sometimes last column may be empty, then go backwards\n",
    "    for i in range(-1, -len(dt_cols), -1):\n",
    "        if not df[dt_cols[i]].fillna(0).eq(0).all():\n",
    "            LAST_DATE_I = i\n",
    "            break\n",
    "    return LAST_DATE_I, dt_cols"
   ]
  },
  {
   "cell_type": "code",
   "execution_count": 9,
   "id": "recent-optimization",
   "metadata": {
    "execution": {
     "iopub.execute_input": "2022-11-01T12:22:04.353999Z",
     "iopub.status.busy": "2022-11-01T12:22:04.353442Z",
     "iopub.status.idle": "2022-11-01T12:22:04.824968Z",
     "shell.execute_reply": "2022-11-01T12:22:04.824467Z"
    },
    "papermill": {
     "duration": 0.505102,
     "end_time": "2022-11-01T12:22:04.825081",
     "exception": false,
     "start_time": "2022-11-01T12:22:04.319979",
     "status": "completed"
    },
    "tags": []
   },
   "outputs": [],
   "source": [
    "#hide\n",
    "COL_REGION = 'Country/Region'\n",
    "# Confirmed, Recovered, Deaths\n",
    "df = get_frame('confirmed')\n",
    "# dft_: timeseries, dfc_: today country agg\n",
    "dft_cases = df\n",
    "dft_deaths = get_frame('deaths')\n",
    "dft_recovered = get_frame('recovered')\n",
    "LAST_DATE_I, dt_cols = get_dates(df)"
   ]
  },
  {
   "cell_type": "code",
   "execution_count": 10,
   "id": "absolute-copper",
   "metadata": {
    "execution": {
     "iopub.execute_input": "2022-11-01T12:22:04.890093Z",
     "iopub.status.busy": "2022-11-01T12:22:04.889514Z",
     "iopub.status.idle": "2022-11-01T12:22:04.891536Z",
     "shell.execute_reply": "2022-11-01T12:22:04.891938Z"
    },
    "papermill": {
     "duration": 0.036891,
     "end_time": "2022-11-01T12:22:04.892055",
     "exception": false,
     "start_time": "2022-11-01T12:22:04.855164",
     "status": "completed"
    },
    "tags": []
   },
   "outputs": [],
   "source": [
    "#hide\n",
    "LAST_DATE_I, dt_cols = get_dates(df)\n",
    "dt_today =dt_cols[LAST_DATE_I]\n",
    "# dt_5day = dt_cols[LAST_DATE_I - 5]\n",
    "dt_yday = dt_cols[LAST_DATE_I - 1]"
   ]
  },
  {
   "cell_type": "code",
   "execution_count": 11,
   "id": "restricted-sheriff",
   "metadata": {
    "execution": {
     "iopub.execute_input": "2022-11-01T12:22:04.956029Z",
     "iopub.status.busy": "2022-11-01T12:22:04.955479Z",
     "iopub.status.idle": "2022-11-01T12:22:04.962751Z",
     "shell.execute_reply": "2022-11-01T12:22:04.962218Z"
    },
    "papermill": {
     "duration": 0.041016,
     "end_time": "2022-11-01T12:22:04.962846",
     "exception": false,
     "start_time": "2022-11-01T12:22:04.921830",
     "status": "completed"
    },
    "tags": []
   },
   "outputs": [],
   "source": [
    "#hide\n",
    "dfc_cases = dft_cases.groupby(COL_REGION)[dt_today].sum()\n",
    "dfc_deaths = dft_deaths.groupby(COL_REGION)[dt_today].sum()\n",
    "# dfp_cases = dft_cases.groupby(COL_REGION)[dt_5day].sum()\n",
    "# dfp_deaths = dft_deaths.groupby(COL_REGION)[dt_5day].sum()\n",
    "dfp_cases = dft_cases.groupby(COL_REGION)[dt_yday].sum()\n",
    "dfp_deaths = dft_deaths.groupby(COL_REGION)[dt_yday].sum()"
   ]
  },
  {
   "cell_type": "code",
   "execution_count": 12,
   "id": "deluxe-hepatitis",
   "metadata": {
    "execution": {
     "iopub.execute_input": "2022-11-01T12:22:05.026983Z",
     "iopub.status.busy": "2022-11-01T12:22:05.026439Z",
     "iopub.status.idle": "2022-11-01T12:22:05.030921Z",
     "shell.execute_reply": "2022-11-01T12:22:05.031398Z"
    },
    "papermill": {
     "duration": 0.03868,
     "end_time": "2022-11-01T12:22:05.031507",
     "exception": false,
     "start_time": "2022-11-01T12:22:04.992827",
     "status": "completed"
    },
    "tags": []
   },
   "outputs": [],
   "source": [
    "#hide\n",
    "df_table = (pd.DataFrame(dict(Cases = dfc_cases, Deaths = dfc_deaths, PCases = dfp_cases, PDeaths = dfp_deaths))\n",
    "            .sort_values(by = ['Cases','Deaths'], ascending = [False, False])\n",
    "            .reset_index())"
   ]
  },
  {
   "cell_type": "code",
   "execution_count": 13,
   "id": "educational-chancellor",
   "metadata": {
    "execution": {
     "iopub.execute_input": "2022-11-01T12:22:05.106792Z",
     "iopub.status.busy": "2022-11-01T12:22:05.106228Z",
     "iopub.status.idle": "2022-11-01T12:22:05.113385Z",
     "shell.execute_reply": "2022-11-01T12:22:05.113833Z"
    },
    "papermill": {
     "duration": 0.052708,
     "end_time": "2022-11-01T12:22:05.113938",
     "exception": false,
     "start_time": "2022-11-01T12:22:05.061230",
     "status": "completed"
    },
    "tags": []
   },
   "outputs": [
    {
     "data": {
      "text/html": [
       "<div>\n",
       "<style scoped>\n",
       "    .dataframe tbody tr th:only-of-type {\n",
       "        vertical-align: middle;\n",
       "    }\n",
       "\n",
       "    .dataframe tbody tr th {\n",
       "        vertical-align: top;\n",
       "    }\n",
       "\n",
       "    .dataframe thead th {\n",
       "        text-align: right;\n",
       "    }\n",
       "</style>\n",
       "<table border=\"1\" class=\"dataframe\">\n",
       "  <thead>\n",
       "    <tr style=\"text-align: right;\">\n",
       "      <th></th>\n",
       "      <th>Country/Region</th>\n",
       "      <th>Cases</th>\n",
       "      <th>Deaths</th>\n",
       "      <th>PCases</th>\n",
       "      <th>PDeaths</th>\n",
       "      <th>Cases (+)</th>\n",
       "      <th>Deaths (+)</th>\n",
       "      <th>Fatality Rate</th>\n",
       "      <th>Continent</th>\n",
       "    </tr>\n",
       "  </thead>\n",
       "  <tbody>\n",
       "    <tr>\n",
       "      <th>0</th>\n",
       "      <td>US</td>\n",
       "      <td>97495076</td>\n",
       "      <td>1070389</td>\n",
       "      <td>97450639</td>\n",
       "      <td>1070266</td>\n",
       "      <td>44437</td>\n",
       "      <td>123</td>\n",
       "      <td>1.10</td>\n",
       "      <td>North America</td>\n",
       "    </tr>\n",
       "    <tr>\n",
       "      <th>1</th>\n",
       "      <td>India</td>\n",
       "      <td>44654638</td>\n",
       "      <td>529077</td>\n",
       "      <td>44653592</td>\n",
       "      <td>529024</td>\n",
       "      <td>1046</td>\n",
       "      <td>53</td>\n",
       "      <td>1.18</td>\n",
       "      <td>Asia</td>\n",
       "    </tr>\n",
       "    <tr>\n",
       "      <th>2</th>\n",
       "      <td>France</td>\n",
       "      <td>37030865</td>\n",
       "      <td>158034</td>\n",
       "      <td>36987918</td>\n",
       "      <td>157872</td>\n",
       "      <td>42947</td>\n",
       "      <td>162</td>\n",
       "      <td>0.43</td>\n",
       "      <td>Europe</td>\n",
       "    </tr>\n",
       "    <tr>\n",
       "      <th>3</th>\n",
       "      <td>Germany</td>\n",
       "      <td>35619687</td>\n",
       "      <td>153694</td>\n",
       "      <td>35571131</td>\n",
       "      <td>153544</td>\n",
       "      <td>48556</td>\n",
       "      <td>150</td>\n",
       "      <td>0.43</td>\n",
       "      <td>Europe</td>\n",
       "    </tr>\n",
       "    <tr>\n",
       "      <th>4</th>\n",
       "      <td>Brazil</td>\n",
       "      <td>34828749</td>\n",
       "      <td>688157</td>\n",
       "      <td>34815258</td>\n",
       "      <td>687962</td>\n",
       "      <td>13491</td>\n",
       "      <td>195</td>\n",
       "      <td>1.98</td>\n",
       "      <td>South America</td>\n",
       "    </tr>\n",
       "  </tbody>\n",
       "</table>\n",
       "</div>"
      ],
      "text/plain": [
       "  Country/Region     Cases   Deaths    PCases  PDeaths  Cases (+)  Deaths (+)  \\\n",
       "0             US  97495076  1070389  97450639  1070266      44437         123   \n",
       "1          India  44654638   529077  44653592   529024       1046          53   \n",
       "2         France  37030865   158034  36987918   157872      42947         162   \n",
       "3        Germany  35619687   153694  35571131   153544      48556         150   \n",
       "4         Brazil  34828749   688157  34815258   687962      13491         195   \n",
       "\n",
       "   Fatality Rate      Continent  \n",
       "0           1.10  North America  \n",
       "1           1.18           Asia  \n",
       "2           0.43         Europe  \n",
       "3           0.43         Europe  \n",
       "4           1.98  South America  "
      ]
     },
     "execution_count": 13,
     "metadata": {},
     "output_type": "execute_result"
    }
   ],
   "source": [
    "#hide\n",
    "for c in 'Cases, Deaths'.split(', '):\n",
    "    df_table[f'{c} (+)'] = (df_table[c] - df_table[f'P{c}']).clip(0)\n",
    "    #Clip ça veut dire, les chiffres negatif sont interdit\n",
    "df_table['Fatality Rate'] = (100* df_table['Deaths']/ df_table['Cases']).round(2)\n",
    "df_table['Continent'] = df_table['Country/Region'].map(mapping['map.continent'])\n",
    "df_table.head(5)"
   ]
  },
  {
   "cell_type": "code",
   "execution_count": 14,
   "id": "aboriginal-bulgaria",
   "metadata": {
    "execution": {
     "iopub.execute_input": "2022-11-01T12:22:05.179201Z",
     "iopub.status.busy": "2022-11-01T12:22:05.178630Z",
     "iopub.status.idle": "2022-11-01T12:22:05.181290Z",
     "shell.execute_reply": "2022-11-01T12:22:05.180861Z"
    },
    "papermill": {
     "duration": 0.037076,
     "end_time": "2022-11-01T12:22:05.181381",
     "exception": false,
     "start_time": "2022-11-01T12:22:05.144305",
     "status": "completed"
    },
    "tags": []
   },
   "outputs": [],
   "source": [
    "#hide\n",
    "#delete problematic countries from table\n",
    "df_table = df_table[~df_table['Country/Region'].isin(['Cape Verde', 'Cruise Ship', 'Kosovo'])]"
   ]
  },
  {
   "cell_type": "code",
   "execution_count": 15,
   "id": "fantastic-effect",
   "metadata": {
    "execution": {
     "iopub.execute_input": "2022-11-01T12:22:05.247970Z",
     "iopub.status.busy": "2022-11-01T12:22:05.247410Z",
     "iopub.status.idle": "2022-11-01T12:22:05.263863Z",
     "shell.execute_reply": "2022-11-01T12:22:05.264290Z"
    },
    "papermill": {
     "duration": 0.052844,
     "end_time": "2022-11-01T12:22:05.264395",
     "exception": false,
     "start_time": "2022-11-01T12:22:05.211551",
     "status": "completed"
    },
    "tags": []
   },
   "outputs": [
    {
     "data": {
      "text/html": [
       "<div>\n",
       "<style scoped>\n",
       "    .dataframe tbody tr th:only-of-type {\n",
       "        vertical-align: middle;\n",
       "    }\n",
       "\n",
       "    .dataframe tbody tr th {\n",
       "        vertical-align: top;\n",
       "    }\n",
       "\n",
       "    .dataframe thead th {\n",
       "        text-align: right;\n",
       "    }\n",
       "</style>\n",
       "<table border=\"1\" class=\"dataframe\">\n",
       "  <thead>\n",
       "    <tr style=\"text-align: right;\">\n",
       "      <th></th>\n",
       "      <th>Country/Region</th>\n",
       "      <th>Cases</th>\n",
       "      <th>Deaths</th>\n",
       "      <th>PCases</th>\n",
       "      <th>PDeaths</th>\n",
       "      <th>Cases (+)</th>\n",
       "      <th>Deaths (+)</th>\n",
       "      <th>Fatality Rate</th>\n",
       "      <th>Continent</th>\n",
       "    </tr>\n",
       "  </thead>\n",
       "  <tbody>\n",
       "    <tr>\n",
       "      <th>0</th>\n",
       "      <td>US</td>\n",
       "      <td>97495076</td>\n",
       "      <td>1070389</td>\n",
       "      <td>97450639</td>\n",
       "      <td>1070266</td>\n",
       "      <td>44437</td>\n",
       "      <td>123</td>\n",
       "      <td>1.1</td>\n",
       "      <td>North America</td>\n",
       "    </tr>\n",
       "    <tr>\n",
       "      <th>1</th>\n",
       "      <td>India</td>\n",
       "      <td>44654638</td>\n",
       "      <td>529077</td>\n",
       "      <td>44653592</td>\n",
       "      <td>529024</td>\n",
       "      <td>1046</td>\n",
       "      <td>53</td>\n",
       "      <td>1.2</td>\n",
       "      <td>Asia</td>\n",
       "    </tr>\n",
       "    <tr>\n",
       "      <th>2</th>\n",
       "      <td>France</td>\n",
       "      <td>37030865</td>\n",
       "      <td>158034</td>\n",
       "      <td>36987918</td>\n",
       "      <td>157872</td>\n",
       "      <td>42947</td>\n",
       "      <td>162</td>\n",
       "      <td>0.4</td>\n",
       "      <td>Europe</td>\n",
       "    </tr>\n",
       "    <tr>\n",
       "      <th>3</th>\n",
       "      <td>Germany</td>\n",
       "      <td>35619687</td>\n",
       "      <td>153694</td>\n",
       "      <td>35571131</td>\n",
       "      <td>153544</td>\n",
       "      <td>48556</td>\n",
       "      <td>150</td>\n",
       "      <td>0.4</td>\n",
       "      <td>Europe</td>\n",
       "    </tr>\n",
       "    <tr>\n",
       "      <th>4</th>\n",
       "      <td>Brazil</td>\n",
       "      <td>34828749</td>\n",
       "      <td>688157</td>\n",
       "      <td>34815258</td>\n",
       "      <td>687962</td>\n",
       "      <td>13491</td>\n",
       "      <td>195</td>\n",
       "      <td>2.0</td>\n",
       "      <td>South America</td>\n",
       "    </tr>\n",
       "  </tbody>\n",
       "</table>\n",
       "</div>"
      ],
      "text/plain": [
       "  Country/Region     Cases   Deaths    PCases  PDeaths  Cases (+)  Deaths (+)  \\\n",
       "0             US  97495076  1070389  97450639  1070266      44437         123   \n",
       "1          India  44654638   529077  44653592   529024       1046          53   \n",
       "2         France  37030865   158034  36987918   157872      42947         162   \n",
       "3        Germany  35619687   153694  35571131   153544      48556         150   \n",
       "4         Brazil  34828749   688157  34815258   687962      13491         195   \n",
       "\n",
       "   Fatality Rate      Continent  \n",
       "0            1.1  North America  \n",
       "1            1.2           Asia  \n",
       "2            0.4         Europe  \n",
       "3            0.4         Europe  \n",
       "4            2.0  South America  "
      ]
     },
     "execution_count": 15,
     "metadata": {},
     "output_type": "execute_result"
    }
   ],
   "source": [
    "#hide\n",
    "df_table = (pd.DataFrame(dict(Cases=dfc_cases, Deaths=dfc_deaths, PCases=dfp_cases, PDeaths=dfp_deaths))\n",
    "             .sort_values(by=['Cases', 'Deaths'], ascending=[False, False])\n",
    "             .reset_index())\n",
    "df_table.rename(columns={'index': 'Country/Region'}, inplace=True)\n",
    "for c in 'Cases, Deaths'.split(', '):\n",
    "    df_table[f'{c} (+)'] = (df_table[c] - df_table[f'P{c}']).clip(0)  # DATA BUG\n",
    "df_table['Fatality Rate'] = (100 * df_table['Deaths'] / df_table['Cases']).round(1)\n",
    "df_table['Continent'] = df_table['Country/Region'].map(mapping['map.continent'])\n",
    "df_table.head(5)"
   ]
  },
  {
   "cell_type": "code",
   "execution_count": 16,
   "id": "fewer-occasion",
   "metadata": {
    "execution": {
     "iopub.execute_input": "2022-11-01T12:22:05.330718Z",
     "iopub.status.busy": "2022-11-01T12:22:05.330164Z",
     "iopub.status.idle": "2022-11-01T12:22:05.332599Z",
     "shell.execute_reply": "2022-11-01T12:22:05.332168Z"
    },
    "papermill": {
     "duration": 0.037283,
     "end_time": "2022-11-01T12:22:05.332689",
     "exception": false,
     "start_time": "2022-11-01T12:22:05.295406",
     "status": "completed"
    },
    "tags": []
   },
   "outputs": [],
   "source": [
    "#hide\n",
    "#delete problematic countries from table\n",
    "df_table = df_table[~df_table['Country/Region'].isin(['Cape Verde', 'Cruise Ship', 'Kosovo'])]"
   ]
  },
  {
   "cell_type": "code",
   "execution_count": 17,
   "id": "related-center",
   "metadata": {
    "execution": {
     "iopub.execute_input": "2022-11-01T12:22:05.403038Z",
     "iopub.status.busy": "2022-11-01T12:22:05.402485Z",
     "iopub.status.idle": "2022-11-01T12:22:05.411439Z",
     "shell.execute_reply": "2022-11-01T12:22:05.411863Z"
    },
    "papermill": {
     "duration": 0.048622,
     "end_time": "2022-11-01T12:22:05.411971",
     "exception": false,
     "start_time": "2022-11-01T12:22:05.363349",
     "status": "completed"
    },
    "tags": []
   },
   "outputs": [],
   "source": [
    "#hide\n",
    "metrics = [df_table.columns[index] for index in [1,2,5,6]]\n",
    "# s_china = df_table[df_table['Country/Region'].eq('China')][metrics].sum().add_prefix('China ')\n",
    "s_us = df_table[df_table['Country/Region'].eq('US')][metrics].sum().add_prefix('US ')\n",
    "s_eu = df_table[df_table['Continent'].eq('Europe')][metrics].sum().add_prefix('EU ')\n",
    "s_ind = df_table[df_table['Country/Region'].eq('India')][metrics].sum().add_prefix('India ')\n",
    "summary = {'updated': pd.to_datetime(dt_today), 'since': pd.to_datetime(dt_yday)}\n",
    "summary = {'updated': pd.to_datetime(dt_today), 'since': pd.to_datetime(dt_yday)}\n",
    "summary = {**summary, **df_table[metrics].sum(), **s_ind, **s_us, **s_eu}"
   ]
  },
  {
   "cell_type": "code",
   "execution_count": 18,
   "id": "engaging-syndrome",
   "metadata": {
    "execution": {
     "iopub.execute_input": "2022-11-01T12:22:05.478157Z",
     "iopub.status.busy": "2022-11-01T12:22:05.477607Z",
     "iopub.status.idle": "2022-11-01T12:22:05.496045Z",
     "shell.execute_reply": "2022-11-01T12:22:05.495603Z"
    },
    "papermill": {
     "duration": 0.053356,
     "end_time": "2022-11-01T12:22:05.496139",
     "exception": false,
     "start_time": "2022-11-01T12:22:05.442783",
     "status": "completed"
    },
    "tags": []
   },
   "outputs": [],
   "source": [
    "#hide\n",
    "dft_ct_new_cases = dft_cases.groupby(COL_REGION)[dt_cols].sum().diff(axis=1).fillna(0).astype(int)"
   ]
  },
  {
   "cell_type": "code",
   "execution_count": 19,
   "id": "neutral-assignment",
   "metadata": {
    "execution": {
     "iopub.execute_input": "2022-11-01T12:22:05.562552Z",
     "iopub.status.busy": "2022-11-01T12:22:05.562012Z",
     "iopub.status.idle": "2022-11-01T12:22:05.564260Z",
     "shell.execute_reply": "2022-11-01T12:22:05.564691Z"
    },
    "papermill": {
     "duration": 0.037906,
     "end_time": "2022-11-01T12:22:05.564798",
     "exception": false,
     "start_time": "2022-11-01T12:22:05.526892",
     "status": "completed"
    },
    "tags": []
   },
   "outputs": [],
   "source": [
    "#hide\n",
    "everydaycases = dft_ct_new_cases.cumsum(axis=1)"
   ]
  },
  {
   "cell_type": "code",
   "execution_count": 20,
   "id": "parliamentary-calgary",
   "metadata": {
    "execution": {
     "iopub.execute_input": "2022-11-01T12:22:05.630757Z",
     "iopub.status.busy": "2022-11-01T12:22:05.630208Z",
     "iopub.status.idle": "2022-11-01T12:22:06.157318Z",
     "shell.execute_reply": "2022-11-01T12:22:06.156840Z"
    },
    "papermill": {
     "duration": 0.561864,
     "end_time": "2022-11-01T12:22:06.157437",
     "exception": false,
     "start_time": "2022-11-01T12:22:05.595573",
     "status": "completed"
    },
    "tags": []
   },
   "outputs": [],
   "source": [
    "#hide\n",
    "import pandas as pd\n",
    "import matplotlib.pyplot as plt\n",
    "import matplotlib.ticker as ticker\n",
    "import matplotlib.animation as animation\n",
    "from IPython.display import HTML"
   ]
  },
  {
   "cell_type": "code",
   "execution_count": 21,
   "id": "lasting-extraction",
   "metadata": {
    "execution": {
     "iopub.execute_input": "2022-11-01T12:22:06.225172Z",
     "iopub.status.busy": "2022-11-01T12:22:06.224608Z",
     "iopub.status.idle": "2022-11-01T12:22:06.231464Z",
     "shell.execute_reply": "2022-11-01T12:22:06.230985Z"
    },
    "papermill": {
     "duration": 0.043211,
     "end_time": "2022-11-01T12:22:06.231567",
     "exception": false,
     "start_time": "2022-11-01T12:22:06.188356",
     "status": "completed"
    },
    "tags": []
   },
   "outputs": [],
   "source": [
    "#hide\n",
    "t = everydaycases.stack()"
   ]
  },
  {
   "cell_type": "code",
   "execution_count": 22,
   "id": "premier-sleeve",
   "metadata": {
    "execution": {
     "iopub.execute_input": "2022-11-01T12:22:06.297287Z",
     "iopub.status.busy": "2022-11-01T12:22:06.296733Z",
     "iopub.status.idle": "2022-11-01T12:22:06.308187Z",
     "shell.execute_reply": "2022-11-01T12:22:06.307648Z"
    },
    "papermill": {
     "duration": 0.045795,
     "end_time": "2022-11-01T12:22:06.308285",
     "exception": false,
     "start_time": "2022-11-01T12:22:06.262490",
     "status": "completed"
    },
    "tags": []
   },
   "outputs": [],
   "source": [
    "#hide\n",
    "g = t.reset_index(['Country/Region'])"
   ]
  },
  {
   "cell_type": "code",
   "execution_count": 23,
   "id": "distributed-pittsburgh",
   "metadata": {
    "execution": {
     "iopub.execute_input": "2022-11-01T12:22:06.373225Z",
     "iopub.status.busy": "2022-11-01T12:22:06.372676Z",
     "iopub.status.idle": "2022-11-01T12:22:06.375019Z",
     "shell.execute_reply": "2022-11-01T12:22:06.374505Z"
    },
    "papermill": {
     "duration": 0.036028,
     "end_time": "2022-11-01T12:22:06.375133",
     "exception": false,
     "start_time": "2022-11-01T12:22:06.339105",
     "status": "completed"
    },
    "tags": []
   },
   "outputs": [],
   "source": [
    "#hide\n",
    "g.index.name = 'date'"
   ]
  },
  {
   "cell_type": "code",
   "execution_count": 24,
   "id": "naked-donor",
   "metadata": {
    "execution": {
     "iopub.execute_input": "2022-11-01T12:22:06.440094Z",
     "iopub.status.busy": "2022-11-01T12:22:06.439541Z",
     "iopub.status.idle": "2022-11-01T12:22:06.441956Z",
     "shell.execute_reply": "2022-11-01T12:22:06.441440Z"
    },
    "papermill": {
     "duration": 0.036004,
     "end_time": "2022-11-01T12:22:06.442050",
     "exception": false,
     "start_time": "2022-11-01T12:22:06.406046",
     "status": "completed"
    },
    "tags": []
   },
   "outputs": [],
   "source": [
    "# #hide\n",
    "# g = g.reset_index(['date'])"
   ]
  },
  {
   "cell_type": "code",
   "execution_count": 25,
   "id": "incomplete-mustang",
   "metadata": {
    "execution": {
     "iopub.execute_input": "2022-11-01T12:22:06.506623Z",
     "iopub.status.busy": "2022-11-01T12:22:06.506066Z",
     "iopub.status.idle": "2022-11-01T12:22:06.508417Z",
     "shell.execute_reply": "2022-11-01T12:22:06.507879Z"
    },
    "papermill": {
     "duration": 0.035728,
     "end_time": "2022-11-01T12:22:06.508511",
     "exception": false,
     "start_time": "2022-11-01T12:22:06.472783",
     "status": "completed"
    },
    "tags": []
   },
   "outputs": [],
   "source": [
    "#hide\n",
    "# g.head()"
   ]
  },
  {
   "cell_type": "code",
   "execution_count": 26,
   "id": "specific-kruger",
   "metadata": {
    "execution": {
     "iopub.execute_input": "2022-11-01T12:22:06.573115Z",
     "iopub.status.busy": "2022-11-01T12:22:06.572561Z",
     "iopub.status.idle": "2022-11-01T12:22:06.574978Z",
     "shell.execute_reply": "2022-11-01T12:22:06.574459Z"
    },
    "papermill": {
     "duration": 0.035724,
     "end_time": "2022-11-01T12:22:06.575072",
     "exception": false,
     "start_time": "2022-11-01T12:22:06.539348",
     "status": "completed"
    },
    "tags": []
   },
   "outputs": [],
   "source": [
    "#hide\n",
    "# g.columns = ['date','country','cases']"
   ]
  },
  {
   "cell_type": "code",
   "execution_count": 27,
   "id": "tender-conversion",
   "metadata": {
    "execution": {
     "iopub.execute_input": "2022-11-01T12:22:06.640213Z",
     "iopub.status.busy": "2022-11-01T12:22:06.639671Z",
     "iopub.status.idle": "2022-11-01T12:22:06.642013Z",
     "shell.execute_reply": "2022-11-01T12:22:06.641498Z"
    },
    "papermill": {
     "duration": 0.035712,
     "end_time": "2022-11-01T12:22:06.642105",
     "exception": false,
     "start_time": "2022-11-01T12:22:06.606393",
     "status": "completed"
    },
    "tags": []
   },
   "outputs": [],
   "source": [
    "#hide\n",
    "# g['continent'] = g.country"
   ]
  },
  {
   "cell_type": "code",
   "execution_count": 28,
   "id": "substantial-wilderness",
   "metadata": {
    "execution": {
     "iopub.execute_input": "2022-11-01T12:22:06.706900Z",
     "iopub.status.busy": "2022-11-01T12:22:06.706342Z",
     "iopub.status.idle": "2022-11-01T12:22:06.708676Z",
     "shell.execute_reply": "2022-11-01T12:22:06.708153Z"
    },
    "papermill": {
     "duration": 0.035702,
     "end_time": "2022-11-01T12:22:06.708770",
     "exception": false,
     "start_time": "2022-11-01T12:22:06.673068",
     "status": "completed"
    },
    "tags": []
   },
   "outputs": [],
   "source": [
    "#hide\n",
    "# cols = list(g.columns.values)"
   ]
  },
  {
   "cell_type": "code",
   "execution_count": 29,
   "id": "solved-farming",
   "metadata": {
    "execution": {
     "iopub.execute_input": "2022-11-01T12:22:06.773460Z",
     "iopub.status.busy": "2022-11-01T12:22:06.772910Z",
     "iopub.status.idle": "2022-11-01T12:22:06.775230Z",
     "shell.execute_reply": "2022-11-01T12:22:06.774697Z"
    },
    "papermill": {
     "duration": 0.035828,
     "end_time": "2022-11-01T12:22:06.775324",
     "exception": false,
     "start_time": "2022-11-01T12:22:06.739496",
     "status": "completed"
    },
    "tags": []
   },
   "outputs": [],
   "source": [
    "#hide\n",
    "# cols.insert(0, cols.pop())"
   ]
  },
  {
   "cell_type": "code",
   "execution_count": 30,
   "id": "executed-adoption",
   "metadata": {
    "execution": {
     "iopub.execute_input": "2022-11-01T12:22:06.839958Z",
     "iopub.status.busy": "2022-11-01T12:22:06.839404Z",
     "iopub.status.idle": "2022-11-01T12:22:06.841810Z",
     "shell.execute_reply": "2022-11-01T12:22:06.841378Z"
    },
    "papermill": {
     "duration": 0.035743,
     "end_time": "2022-11-01T12:22:06.841901",
     "exception": false,
     "start_time": "2022-11-01T12:22:06.806158",
     "status": "completed"
    },
    "tags": []
   },
   "outputs": [],
   "source": [
    "#hide\n",
    "# g = g[cols]"
   ]
  },
  {
   "cell_type": "code",
   "execution_count": 31,
   "id": "subject-dublin",
   "metadata": {
    "execution": {
     "iopub.execute_input": "2022-11-01T12:22:06.906308Z",
     "iopub.status.busy": "2022-11-01T12:22:06.905750Z",
     "iopub.status.idle": "2022-11-01T12:22:06.908156Z",
     "shell.execute_reply": "2022-11-01T12:22:06.907643Z"
    },
    "papermill": {
     "duration": 0.035628,
     "end_time": "2022-11-01T12:22:06.908247",
     "exception": false,
     "start_time": "2022-11-01T12:22:06.872619",
     "status": "completed"
    },
    "tags": []
   },
   "outputs": [],
   "source": [
    "#hide\n",
    "# g['continent'] = g['continent'].map(mapping['map.continent'])"
   ]
  },
  {
   "cell_type": "code",
   "execution_count": 32,
   "id": "freelance-scout",
   "metadata": {
    "execution": {
     "iopub.execute_input": "2022-11-01T12:22:06.972977Z",
     "iopub.status.busy": "2022-11-01T12:22:06.972419Z",
     "iopub.status.idle": "2022-11-01T12:22:06.974814Z",
     "shell.execute_reply": "2022-11-01T12:22:06.974283Z"
    },
    "papermill": {
     "duration": 0.035669,
     "end_time": "2022-11-01T12:22:06.974907",
     "exception": false,
     "start_time": "2022-11-01T12:22:06.939238",
     "status": "completed"
    },
    "tags": []
   },
   "outputs": [],
   "source": [
    "#hide\n",
    "# g.head()"
   ]
  },
  {
   "cell_type": "code",
   "execution_count": 33,
   "id": "limited-engine",
   "metadata": {
    "execution": {
     "iopub.execute_input": "2022-11-01T12:22:07.039413Z",
     "iopub.status.busy": "2022-11-01T12:22:07.038840Z",
     "iopub.status.idle": "2022-11-01T12:22:07.041423Z",
     "shell.execute_reply": "2022-11-01T12:22:07.040637Z"
    },
    "papermill": {
     "duration": 0.035933,
     "end_time": "2022-11-01T12:22:07.041518",
     "exception": false,
     "start_time": "2022-11-01T12:22:07.005585",
     "status": "completed"
    },
    "tags": []
   },
   "outputs": [],
   "source": [
    "# hide\n",
    "# g['date'] = g['date'].astype('datetime64[ns]')"
   ]
  },
  {
   "cell_type": "code",
   "execution_count": 34,
   "id": "sophisticated-supervisor",
   "metadata": {
    "execution": {
     "iopub.execute_input": "2022-11-01T12:22:07.106160Z",
     "iopub.status.busy": "2022-11-01T12:22:07.105604Z",
     "iopub.status.idle": "2022-11-01T12:22:07.107969Z",
     "shell.execute_reply": "2022-11-01T12:22:07.107440Z"
    },
    "papermill": {
     "duration": 0.035657,
     "end_time": "2022-11-01T12:22:07.108063",
     "exception": false,
     "start_time": "2022-11-01T12:22:07.072406",
     "status": "completed"
    },
    "tags": []
   },
   "outputs": [],
   "source": [
    "#hide\n",
    "# g['date'] = g.date.dt.dayofyear"
   ]
  },
  {
   "cell_type": "code",
   "execution_count": 35,
   "id": "inside-dubai",
   "metadata": {
    "execution": {
     "iopub.execute_input": "2022-11-01T12:22:07.172624Z",
     "iopub.status.busy": "2022-11-01T12:22:07.172068Z",
     "iopub.status.idle": "2022-11-01T12:22:07.175270Z",
     "shell.execute_reply": "2022-11-01T12:22:07.175710Z"
    },
    "papermill": {
     "duration": 0.036997,
     "end_time": "2022-11-01T12:22:07.175817",
     "exception": false,
     "start_time": "2022-11-01T12:22:07.138820",
     "status": "completed"
    },
    "tags": []
   },
   "outputs": [],
   "source": [
    "#hide\n",
    "# g = g.rename(columns= {'continent':'group','country':'name','cases':'value'})"
   ]
  },
  {
   "cell_type": "code",
   "execution_count": 36,
   "id": "fleet-motorcycle",
   "metadata": {
    "execution": {
     "iopub.execute_input": "2022-11-01T12:22:07.240713Z",
     "iopub.status.busy": "2022-11-01T12:22:07.240157Z",
     "iopub.status.idle": "2022-11-01T12:22:07.242875Z",
     "shell.execute_reply": "2022-11-01T12:22:07.242403Z"
    },
    "papermill": {
     "duration": 0.036334,
     "end_time": "2022-11-01T12:22:07.242970",
     "exception": false,
     "start_time": "2022-11-01T12:22:07.206636",
     "status": "completed"
    },
    "tags": []
   },
   "outputs": [],
   "source": [
    "#hide\n",
    "# cols = ['name','group','day','value']"
   ]
  },
  {
   "cell_type": "code",
   "execution_count": 37,
   "id": "continued-sleeping",
   "metadata": {
    "execution": {
     "iopub.execute_input": "2022-11-01T12:22:07.307641Z",
     "iopub.status.busy": "2022-11-01T12:22:07.307046Z",
     "iopub.status.idle": "2022-11-01T12:22:07.308924Z",
     "shell.execute_reply": "2022-11-01T12:22:07.309341Z"
    },
    "papermill": {
     "duration": 0.035702,
     "end_time": "2022-11-01T12:22:07.309446",
     "exception": false,
     "start_time": "2022-11-01T12:22:07.273744",
     "status": "completed"
    },
    "tags": []
   },
   "outputs": [],
   "source": [
    "#hide\n",
    "# g.rename(columns= {'date':'day'},inplace = True)"
   ]
  },
  {
   "cell_type": "code",
   "execution_count": 38,
   "id": "major-fight",
   "metadata": {
    "execution": {
     "iopub.execute_input": "2022-11-01T12:22:07.374289Z",
     "iopub.status.busy": "2022-11-01T12:22:07.373717Z",
     "iopub.status.idle": "2022-11-01T12:22:07.376076Z",
     "shell.execute_reply": "2022-11-01T12:22:07.375556Z"
    },
    "papermill": {
     "duration": 0.035849,
     "end_time": "2022-11-01T12:22:07.376171",
     "exception": false,
     "start_time": "2022-11-01T12:22:07.340322",
     "status": "completed"
    },
    "tags": []
   },
   "outputs": [],
   "source": [
    "#hide\n",
    "# g = g[cols]"
   ]
  },
  {
   "cell_type": "code",
   "execution_count": 39,
   "id": "structured-mobile",
   "metadata": {
    "execution": {
     "iopub.execute_input": "2022-11-01T12:22:07.440876Z",
     "iopub.status.busy": "2022-11-01T12:22:07.440330Z",
     "iopub.status.idle": "2022-11-01T12:22:07.442160Z",
     "shell.execute_reply": "2022-11-01T12:22:07.442575Z"
    },
    "papermill": {
     "duration": 0.035732,
     "end_time": "2022-11-01T12:22:07.442685",
     "exception": false,
     "start_time": "2022-11-01T12:22:07.406953",
     "status": "completed"
    },
    "tags": []
   },
   "outputs": [],
   "source": [
    "# #hide\n",
    "# g = g[g.group.notna()]"
   ]
  },
  {
   "cell_type": "code",
   "execution_count": 40,
   "id": "determined-closing",
   "metadata": {
    "execution": {
     "iopub.execute_input": "2022-11-01T12:22:07.507704Z",
     "iopub.status.busy": "2022-11-01T12:22:07.507144Z",
     "iopub.status.idle": "2022-11-01T12:22:07.509994Z",
     "shell.execute_reply": "2022-11-01T12:22:07.509467Z"
    },
    "papermill": {
     "duration": 0.036452,
     "end_time": "2022-11-01T12:22:07.510091",
     "exception": false,
     "start_time": "2022-11-01T12:22:07.473639",
     "status": "completed"
    },
    "tags": []
   },
   "outputs": [],
   "source": [
    "# #hide\n",
    "# colors = dict(zip(\n",
    "#     [\"Oceania\", \"Europe\", \"Asia\", \"South America\", \"Middle East\", \"North America\", \"Africa\"],\n",
    "#     [\"#adb0ff\", \"#ffb3ff\", \"#90d595\", \"#e48381\", \"#aafbff\", \"#f7bb5f\", \"#eafb50\"]\n",
    "# ))\n",
    "# group_lk = g.set_index('name')['group'].to_dict()"
   ]
  },
  {
   "cell_type": "code",
   "execution_count": null,
   "id": "gross-drinking",
   "metadata": {
    "papermill": {
     "duration": 0.030684,
     "end_time": "2022-11-01T12:22:07.571531",
     "exception": false,
     "start_time": "2022-11-01T12:22:07.540847",
     "status": "completed"
    },
    "tags": []
   },
   "outputs": [],
   "source": []
  },
  {
   "cell_type": "code",
   "execution_count": 41,
   "id": "subject-macintosh",
   "metadata": {
    "execution": {
     "iopub.execute_input": "2022-11-01T12:22:07.636876Z",
     "iopub.status.busy": "2022-11-01T12:22:07.636307Z",
     "iopub.status.idle": "2022-11-01T12:22:07.638673Z",
     "shell.execute_reply": "2022-11-01T12:22:07.638136Z"
    },
    "papermill": {
     "duration": 0.036362,
     "end_time": "2022-11-01T12:22:07.638767",
     "exception": false,
     "start_time": "2022-11-01T12:22:07.602405",
     "status": "completed"
    },
    "tags": []
   },
   "outputs": [],
   "source": [
    "# #hide\n",
    "# fig, ax = plt.subplots(figsize=(15, 8))\n",
    "\n",
    "# def draw_barchart(current_day):\n",
    "#     dff = g[g['day'].eq(current_day)].sort_values(by='value', ascending=True).tail(10)\n",
    "#     ax.clear()\n",
    "#     ax.barh(dff['name'], dff['value'], color=[colors[group_lk[x]] for x in dff['name']])\n",
    "#     dx = dff['value'].max() / 200\n",
    "    \n",
    "#     for i, (value, name) in enumerate(zip(dff['value'], dff['name'])):\n",
    "#         ax.text(value-dx, i,     name,           size=14, weight=600, ha='right', va='bottom')\n",
    "#         ax.text(value-dx, i-.25, group_lk[name], size=10, color='#444444', ha='right', va='baseline')\n",
    "#         ax.text(value+dx, i,     f'{value:,.0f}',  size=14, ha='left',  va='center')\n",
    "#     ax.text(1, 0.4, current_day, transform=ax.transAxes, color='#777777', size=46, ha='right', weight=800)\n",
    "#     ax.text(0, 1.06, 'Population (thousands)', transform=ax.transAxes, size=12, color='#777777')\n",
    "#     ax.xaxis.set_major_formatter(ticker.StrMethodFormatter('{x:,.0f}'))\n",
    "#     ax.xaxis.set_ticks_position('top')\n",
    "#     ax.tick_params(axis='x', colors='#777777', labelsize=12)\n",
    "#     ax.set_yticks([])\n",
    "#     ax.margins(0, 0.01)\n",
    "#     ax.grid(which='major', axis='x', linestyle='-')\n",
    "#     ax.set_axisbelow(True)\n",
    "    \n",
    "#     ax.text(0, 1.15, 'Coronavirus',\n",
    "#             transform=ax.transAxes, size=24, weight=600, ha='left', va='top')\n",
    "# #     ax.text(1, 0, 'by @pratapvardhan; credit @jburnmurdoch', transform=ax.transAxes, color='#777777', ha='right',\n",
    "# #             bbox=dict(facecolor='white', alpha=0.8, edgecolor='white'))\n",
    "#     plt.box(False)"
   ]
  },
  {
   "cell_type": "code",
   "execution_count": 42,
   "id": "sexual-wages",
   "metadata": {
    "execution": {
     "iopub.execute_input": "2022-11-01T12:22:07.703519Z",
     "iopub.status.busy": "2022-11-01T12:22:07.702944Z",
     "iopub.status.idle": "2022-11-01T12:22:07.704927Z",
     "shell.execute_reply": "2022-11-01T12:22:07.705325Z"
    },
    "papermill": {
     "duration": 0.035856,
     "end_time": "2022-11-01T12:22:07.705436",
     "exception": false,
     "start_time": "2022-11-01T12:22:07.669580",
     "status": "completed"
    },
    "tags": []
   },
   "outputs": [],
   "source": [
    "# #hide_input\n",
    "# fig, ax = plt.subplots(figsize=(15, 8))\n",
    "# animator = animation.FuncAnimation(fig, draw_barchart, frames=range(g.day.values.min(), g.day.values.max()))\n",
    "# HTML(animator.to_jshtml())\n",
    "# # or use animator.to_html5_video() or animator.save() "
   ]
  },
  {
   "cell_type": "code",
   "execution_count": null,
   "id": "australian-container",
   "metadata": {
    "papermill": {
     "duration": 0.031072,
     "end_time": "2022-11-01T12:22:07.767251",
     "exception": false,
     "start_time": "2022-11-01T12:22:07.736179",
     "status": "completed"
    },
    "tags": []
   },
   "outputs": [],
   "source": []
  },
  {
   "cell_type": "code",
   "execution_count": null,
   "id": "mediterranean-pontiac",
   "metadata": {
    "papermill": {
     "duration": 0.030644,
     "end_time": "2022-11-01T12:22:07.830539",
     "exception": false,
     "start_time": "2022-11-01T12:22:07.799895",
     "status": "completed"
    },
    "tags": []
   },
   "outputs": [],
   "source": []
  },
  {
   "cell_type": "code",
   "execution_count": null,
   "id": "aging-legislature",
   "metadata": {
    "papermill": {
     "duration": 0.030576,
     "end_time": "2022-11-01T12:22:07.891894",
     "exception": false,
     "start_time": "2022-11-01T12:22:07.861318",
     "status": "completed"
    },
    "tags": []
   },
   "outputs": [],
   "source": []
  }
 ],
 "metadata": {
  "kernelspec": {
   "display_name": "Python 3",
   "language": "python",
   "name": "python3"
  },
  "language_info": {
   "codemirror_mode": {
    "name": "ipython",
    "version": 3
   },
   "file_extension": ".py",
   "mimetype": "text/x-python",
   "name": "python",
   "nbconvert_exporter": "python",
   "pygments_lexer": "ipython3",
   "version": "3.6.15"
  },
  "papermill": {
   "duration": 5.781431,
   "end_time": "2022-11-01T12:22:08.250714",
   "environment_variables": {},
   "exception": null,
   "input_path": "2020-03-21-covid19exp.ipynb",
   "output_path": "2020-03-21-covid19exp.ipynb",
   "parameters": {},
   "start_time": "2022-11-01T12:22:02.469283",
   "version": "2.0.0"
  }
 },
 "nbformat": 4,
 "nbformat_minor": 5
}