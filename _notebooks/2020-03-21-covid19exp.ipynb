{
 "cells": [
  {
   "cell_type": "markdown",
   "metadata": {
    "papermill": {
     "duration": 0.034781,
     "end_time": "2020-12-22T12:10:51.046406",
     "exception": false,
     "start_time": "2020-12-22T12:10:51.011625",
     "status": "completed"
    },
    "tags": []
   },
   "source": [
    "# COVID-19 Case Race\n",
    "> A race chart to see rising cases around the world\n",
    "\n",
    "- author: Hargun Oberoi\n",
    "- image: images/covid-overview.png\n",
    "- hide: false\n",
    "- badges: false"
   ]
  },
  {
   "cell_type": "code",
   "execution_count": 1,
   "metadata": {
    "execution": {
     "iopub.execute_input": "2020-12-22T12:10:51.116870Z",
     "iopub.status.busy": "2020-12-22T12:10:51.116241Z",
     "iopub.status.idle": "2020-12-22T12:10:51.459280Z",
     "shell.execute_reply": "2020-12-22T12:10:51.458131Z"
    },
    "papermill": {
     "duration": 0.381943,
     "end_time": "2020-12-22T12:10:51.459453",
     "exception": false,
     "start_time": "2020-12-22T12:10:51.077510",
     "status": "completed"
    },
    "tags": []
   },
   "outputs": [],
   "source": [
    "#hide\n",
    "import numpy as np\n",
    "import pandas as pd\n",
    "from jinja2 import Template\n",
    "from IPython.display import HTML"
   ]
  },
  {
   "cell_type": "code",
   "execution_count": 2,
   "metadata": {
    "execution": {
     "iopub.execute_input": "2020-12-22T12:10:51.527795Z",
     "iopub.status.busy": "2020-12-22T12:10:51.526745Z",
     "iopub.status.idle": "2020-12-22T12:10:51.528906Z",
     "shell.execute_reply": "2020-12-22T12:10:51.529405Z"
    },
    "papermill": {
     "duration": 0.03828,
     "end_time": "2020-12-22T12:10:51.529547",
     "exception": false,
     "start_time": "2020-12-22T12:10:51.491267",
     "status": "completed"
    },
    "tags": []
   },
   "outputs": [],
   "source": [
    "#hide\n",
    "\n",
    "# FETCH\n",
    "base_url = 'https://raw.githubusercontent.com/pratapvardhan/notebooks/master/covid19/'\n",
    "paths = {\n",
    "    'mapping': base_url + 'mapping_countries.csv',\n",
    "    'overview': base_url + 'overview.tpl'\n",
    "}"
   ]
  },
  {
   "cell_type": "code",
   "execution_count": 3,
   "metadata": {
    "execution": {
     "iopub.execute_input": "2020-12-22T12:10:51.600826Z",
     "iopub.status.busy": "2020-12-22T12:10:51.600234Z",
     "iopub.status.idle": "2020-12-22T12:10:51.603584Z",
     "shell.execute_reply": "2020-12-22T12:10:51.603081Z"
    },
    "papermill": {
     "duration": 0.043948,
     "end_time": "2020-12-22T12:10:51.603706",
     "exception": false,
     "start_time": "2020-12-22T12:10:51.559758",
     "status": "completed"
    },
    "tags": []
   },
   "outputs": [
    {
     "data": {
      "text/plain": [
       "'https://raw.githubusercontent.com/pratapvardhan/notebooks/master/covid19/mapping_countries.csv'"
      ]
     },
     "execution_count": 3,
     "metadata": {},
     "output_type": "execute_result"
    }
   ],
   "source": [
    "#hide\n",
    "paths['mapping']"
   ]
  },
  {
   "cell_type": "code",
   "execution_count": 4,
   "metadata": {
    "execution": {
     "iopub.execute_input": "2020-12-22T12:10:51.670359Z",
     "iopub.status.busy": "2020-12-22T12:10:51.669738Z",
     "iopub.status.idle": "2020-12-22T12:10:51.672555Z",
     "shell.execute_reply": "2020-12-22T12:10:51.672076Z"
    },
    "papermill": {
     "duration": 0.038375,
     "end_time": "2020-12-22T12:10:51.672679",
     "exception": false,
     "start_time": "2020-12-22T12:10:51.634304",
     "status": "completed"
    },
    "tags": []
   },
   "outputs": [],
   "source": [
    "#hide\n",
    "def get_mappings(url):\n",
    "    df = pd.read_csv(url)\n",
    "    return {\n",
    "        'df': df,\n",
    "        'replace.country': dict(df.dropna(subset=['Name']).set_index('Country')['Name']),\n",
    "        'map.continent': dict(df.set_index('Name')['Continent'])\n",
    "    }"
   ]
  },
  {
   "cell_type": "code",
   "execution_count": 5,
   "metadata": {
    "execution": {
     "iopub.execute_input": "2020-12-22T12:10:51.741046Z",
     "iopub.status.busy": "2020-12-22T12:10:51.740417Z",
     "iopub.status.idle": "2020-12-22T12:10:51.795563Z",
     "shell.execute_reply": "2020-12-22T12:10:51.796418Z"
    },
    "papermill": {
     "duration": 0.093697,
     "end_time": "2020-12-22T12:10:51.796662",
     "exception": false,
     "start_time": "2020-12-22T12:10:51.702965",
     "status": "completed"
    },
    "tags": []
   },
   "outputs": [],
   "source": [
    "#hide\n",
    "mapping = get_mappings(paths['mapping'])"
   ]
  },
  {
   "cell_type": "code",
   "execution_count": 6,
   "metadata": {
    "execution": {
     "iopub.execute_input": "2020-12-22T12:10:51.865705Z",
     "iopub.status.busy": "2020-12-22T12:10:51.865090Z",
     "iopub.status.idle": "2020-12-22T12:10:51.867452Z",
     "shell.execute_reply": "2020-12-22T12:10:51.867934Z"
    },
    "papermill": {
     "duration": 0.038348,
     "end_time": "2020-12-22T12:10:51.868077",
     "exception": false,
     "start_time": "2020-12-22T12:10:51.829729",
     "status": "completed"
    },
    "tags": []
   },
   "outputs": [],
   "source": [
    "#hide\n",
    "def get_template(path):\n",
    "    from urllib.parse import urlparse\n",
    "    if bool(urlparse(path).netloc):\n",
    "        from urllib.request import urlopen\n",
    "        return urlopen(path).read().decode('utf8')\n",
    "    return open(path).read()"
   ]
  },
  {
   "cell_type": "code",
   "execution_count": 7,
   "metadata": {
    "execution": {
     "iopub.execute_input": "2020-12-22T12:10:51.935475Z",
     "iopub.status.busy": "2020-12-22T12:10:51.934883Z",
     "iopub.status.idle": "2020-12-22T12:10:51.937145Z",
     "shell.execute_reply": "2020-12-22T12:10:51.936536Z"
    },
    "papermill": {
     "duration": 0.038866,
     "end_time": "2020-12-22T12:10:51.937271",
     "exception": false,
     "start_time": "2020-12-22T12:10:51.898405",
     "status": "completed"
    },
    "tags": []
   },
   "outputs": [],
   "source": [
    "#hide\n",
    "def get_frame(name):\n",
    "    url = (\n",
    "        'https://raw.githubusercontent.com/CSSEGISandData/COVID-19/master/csse_covid_19_data/'\n",
    "        f'csse_covid_19_time_series/time_series_covid19_{name}_global.csv')\n",
    "    df = pd.read_csv(url)\n",
    "    # rename countries\n",
    "    df['Country/Region'] = df['Country/Region'].replace(mapping['replace.country'])\n",
    "    return df"
   ]
  },
  {
   "cell_type": "code",
   "execution_count": 8,
   "metadata": {
    "execution": {
     "iopub.execute_input": "2020-12-22T12:10:52.004224Z",
     "iopub.status.busy": "2020-12-22T12:10:52.003629Z",
     "iopub.status.idle": "2020-12-22T12:10:52.006411Z",
     "shell.execute_reply": "2020-12-22T12:10:52.005917Z"
    },
    "papermill": {
     "duration": 0.039038,
     "end_time": "2020-12-22T12:10:52.006540",
     "exception": false,
     "start_time": "2020-12-22T12:10:51.967502",
     "status": "completed"
    },
    "tags": []
   },
   "outputs": [],
   "source": [
    "#hide\n",
    "def get_dates(df):\n",
    "    dt_cols = df.columns[~df.columns.isin(['Province/State', 'Country/Region', 'Lat', 'Long'])]\n",
    "    LAST_DATE_I = -1\n",
    "    # sometimes last column may be empty, then go backwards\n",
    "    for i in range(-1, -len(dt_cols), -1):\n",
    "        if not df[dt_cols[i]].fillna(0).eq(0).all():\n",
    "            LAST_DATE_I = i\n",
    "            break\n",
    "    return LAST_DATE_I, dt_cols"
   ]
  },
  {
   "cell_type": "code",
   "execution_count": 9,
   "metadata": {
    "execution": {
     "iopub.execute_input": "2020-12-22T12:10:52.072726Z",
     "iopub.status.busy": "2020-12-22T12:10:52.072125Z",
     "iopub.status.idle": "2020-12-22T12:10:52.423328Z",
     "shell.execute_reply": "2020-12-22T12:10:52.422164Z"
    },
    "papermill": {
     "duration": 0.386846,
     "end_time": "2020-12-22T12:10:52.423476",
     "exception": false,
     "start_time": "2020-12-22T12:10:52.036630",
     "status": "completed"
    },
    "tags": []
   },
   "outputs": [],
   "source": [
    "#hide\n",
    "COL_REGION = 'Country/Region'\n",
    "# Confirmed, Recovered, Deaths\n",
    "df = get_frame('confirmed')\n",
    "# dft_: timeseries, dfc_: today country agg\n",
    "dft_cases = df\n",
    "dft_deaths = get_frame('deaths')\n",
    "dft_recovered = get_frame('recovered')\n",
    "LAST_DATE_I, dt_cols = get_dates(df)"
   ]
  },
  {
   "cell_type": "code",
   "execution_count": 10,
   "metadata": {
    "execution": {
     "iopub.execute_input": "2020-12-22T12:10:52.489850Z",
     "iopub.status.busy": "2020-12-22T12:10:52.489247Z",
     "iopub.status.idle": "2020-12-22T12:10:52.491692Z",
     "shell.execute_reply": "2020-12-22T12:10:52.491214Z"
    },
    "papermill": {
     "duration": 0.03768,
     "end_time": "2020-12-22T12:10:52.491820",
     "exception": false,
     "start_time": "2020-12-22T12:10:52.454140",
     "status": "completed"
    },
    "tags": []
   },
   "outputs": [],
   "source": [
    "#hide\n",
    "LAST_DATE_I, dt_cols = get_dates(df)\n",
    "dt_today =dt_cols[LAST_DATE_I]\n",
    "# dt_5day = dt_cols[LAST_DATE_I - 5]\n",
    "dt_yday = dt_cols[LAST_DATE_I - 1]"
   ]
  },
  {
   "cell_type": "code",
   "execution_count": 11,
   "metadata": {
    "execution": {
     "iopub.execute_input": "2020-12-22T12:10:52.561431Z",
     "iopub.status.busy": "2020-12-22T12:10:52.560818Z",
     "iopub.status.idle": "2020-12-22T12:10:52.569134Z",
     "shell.execute_reply": "2020-12-22T12:10:52.568607Z"
    },
    "papermill": {
     "duration": 0.047315,
     "end_time": "2020-12-22T12:10:52.569258",
     "exception": false,
     "start_time": "2020-12-22T12:10:52.521943",
     "status": "completed"
    },
    "tags": []
   },
   "outputs": [],
   "source": [
    "#hide\n",
    "dfc_cases = dft_cases.groupby(COL_REGION)[dt_today].sum()\n",
    "dfc_deaths = dft_deaths.groupby(COL_REGION)[dt_today].sum()\n",
    "# dfp_cases = dft_cases.groupby(COL_REGION)[dt_5day].sum()\n",
    "# dfp_deaths = dft_deaths.groupby(COL_REGION)[dt_5day].sum()\n",
    "dfp_cases = dft_cases.groupby(COL_REGION)[dt_yday].sum()\n",
    "dfp_deaths = dft_deaths.groupby(COL_REGION)[dt_yday].sum()"
   ]
  },
  {
   "cell_type": "code",
   "execution_count": 12,
   "metadata": {
    "execution": {
     "iopub.execute_input": "2020-12-22T12:10:52.636601Z",
     "iopub.status.busy": "2020-12-22T12:10:52.636008Z",
     "iopub.status.idle": "2020-12-22T12:10:52.640349Z",
     "shell.execute_reply": "2020-12-22T12:10:52.639840Z"
    },
    "papermill": {
     "duration": 0.041111,
     "end_time": "2020-12-22T12:10:52.640472",
     "exception": false,
     "start_time": "2020-12-22T12:10:52.599361",
     "status": "completed"
    },
    "tags": []
   },
   "outputs": [],
   "source": [
    "#hide\n",
    "df_table = (pd.DataFrame(dict(Cases = dfc_cases, Deaths = dfc_deaths, PCases = dfp_cases, PDeaths = dfp_deaths))\n",
    "            .sort_values(by = ['Cases','Deaths'], ascending = [False, False])\n",
    "            .reset_index())"
   ]
  },
  {
   "cell_type": "code",
   "execution_count": 13,
   "metadata": {
    "execution": {
     "iopub.execute_input": "2020-12-22T12:10:52.719559Z",
     "iopub.status.busy": "2020-12-22T12:10:52.718961Z",
     "iopub.status.idle": "2020-12-22T12:10:52.726596Z",
     "shell.execute_reply": "2020-12-22T12:10:52.727107Z"
    },
    "papermill": {
     "duration": 0.056545,
     "end_time": "2020-12-22T12:10:52.727247",
     "exception": false,
     "start_time": "2020-12-22T12:10:52.670702",
     "status": "completed"
    },
    "tags": []
   },
   "outputs": [
    {
     "data": {
      "text/html": [
       "<div>\n",
       "<style scoped>\n",
       "    .dataframe tbody tr th:only-of-type {\n",
       "        vertical-align: middle;\n",
       "    }\n",
       "\n",
       "    .dataframe tbody tr th {\n",
       "        vertical-align: top;\n",
       "    }\n",
       "\n",
       "    .dataframe thead th {\n",
       "        text-align: right;\n",
       "    }\n",
       "</style>\n",
       "<table border=\"1\" class=\"dataframe\">\n",
       "  <thead>\n",
       "    <tr style=\"text-align: right;\">\n",
       "      <th></th>\n",
       "      <th>Country/Region</th>\n",
       "      <th>Cases</th>\n",
       "      <th>Deaths</th>\n",
       "      <th>PCases</th>\n",
       "      <th>PDeaths</th>\n",
       "      <th>Cases (+)</th>\n",
       "      <th>Deaths (+)</th>\n",
       "      <th>Fatality Rate</th>\n",
       "      <th>Continent</th>\n",
       "    </tr>\n",
       "  </thead>\n",
       "  <tbody>\n",
       "    <tr>\n",
       "      <th>0</th>\n",
       "      <td>US</td>\n",
       "      <td>18035209</td>\n",
       "      <td>319364</td>\n",
       "      <td>17844690</td>\n",
       "      <td>317668</td>\n",
       "      <td>190519</td>\n",
       "      <td>1696</td>\n",
       "      <td>1.77</td>\n",
       "      <td>North America</td>\n",
       "    </tr>\n",
       "    <tr>\n",
       "      <th>1</th>\n",
       "      <td>India</td>\n",
       "      <td>10075116</td>\n",
       "      <td>146111</td>\n",
       "      <td>10055560</td>\n",
       "      <td>145810</td>\n",
       "      <td>19556</td>\n",
       "      <td>301</td>\n",
       "      <td>1.45</td>\n",
       "      <td>Asia</td>\n",
       "    </tr>\n",
       "    <tr>\n",
       "      <th>2</th>\n",
       "      <td>Brazil</td>\n",
       "      <td>7263619</td>\n",
       "      <td>187291</td>\n",
       "      <td>7238600</td>\n",
       "      <td>186764</td>\n",
       "      <td>25019</td>\n",
       "      <td>527</td>\n",
       "      <td>2.58</td>\n",
       "      <td>South America</td>\n",
       "    </tr>\n",
       "    <tr>\n",
       "      <th>3</th>\n",
       "      <td>Russia</td>\n",
       "      <td>2850042</td>\n",
       "      <td>50723</td>\n",
       "      <td>2821125</td>\n",
       "      <td>50242</td>\n",
       "      <td>28917</td>\n",
       "      <td>481</td>\n",
       "      <td>1.78</td>\n",
       "      <td>Europe</td>\n",
       "    </tr>\n",
       "    <tr>\n",
       "      <th>4</th>\n",
       "      <td>France</td>\n",
       "      <td>2535716</td>\n",
       "      <td>61019</td>\n",
       "      <td>2529756</td>\n",
       "      <td>60665</td>\n",
       "      <td>5960</td>\n",
       "      <td>354</td>\n",
       "      <td>2.41</td>\n",
       "      <td>Europe</td>\n",
       "    </tr>\n",
       "  </tbody>\n",
       "</table>\n",
       "</div>"
      ],
      "text/plain": [
       "  Country/Region     Cases  Deaths    PCases  PDeaths  Cases (+)  Deaths (+)  \\\n",
       "0             US  18035209  319364  17844690   317668     190519        1696   \n",
       "1          India  10075116  146111  10055560   145810      19556         301   \n",
       "2         Brazil   7263619  187291   7238600   186764      25019         527   \n",
       "3         Russia   2850042   50723   2821125    50242      28917         481   \n",
       "4         France   2535716   61019   2529756    60665       5960         354   \n",
       "\n",
       "   Fatality Rate      Continent  \n",
       "0           1.77  North America  \n",
       "1           1.45           Asia  \n",
       "2           2.58  South America  \n",
       "3           1.78         Europe  \n",
       "4           2.41         Europe  "
      ]
     },
     "execution_count": 13,
     "metadata": {},
     "output_type": "execute_result"
    }
   ],
   "source": [
    "#hide\n",
    "for c in 'Cases, Deaths'.split(', '):\n",
    "    df_table[f'{c} (+)'] = (df_table[c] - df_table[f'P{c}']).clip(0)\n",
    "    #Clip ça veut dire, les chiffres negatif sont interdit\n",
    "df_table['Fatality Rate'] = (100* df_table['Deaths']/ df_table['Cases']).round(2)\n",
    "df_table['Continent'] = df_table['Country/Region'].map(mapping['map.continent'])\n",
    "df_table.head(5)"
   ]
  },
  {
   "cell_type": "code",
   "execution_count": 14,
   "metadata": {
    "execution": {
     "iopub.execute_input": "2020-12-22T12:10:52.794059Z",
     "iopub.status.busy": "2020-12-22T12:10:52.793469Z",
     "iopub.status.idle": "2020-12-22T12:10:52.796865Z",
     "shell.execute_reply": "2020-12-22T12:10:52.796387Z"
    },
    "papermill": {
     "duration": 0.038939,
     "end_time": "2020-12-22T12:10:52.797008",
     "exception": false,
     "start_time": "2020-12-22T12:10:52.758069",
     "status": "completed"
    },
    "tags": []
   },
   "outputs": [],
   "source": [
    "#hide\n",
    "#delete problematic countries from table\n",
    "df_table = df_table[~df_table['Country/Region'].isin(['Cape Verde', 'Cruise Ship', 'Kosovo'])]"
   ]
  },
  {
   "cell_type": "code",
   "execution_count": 15,
   "metadata": {
    "execution": {
     "iopub.execute_input": "2020-12-22T12:10:52.867335Z",
     "iopub.status.busy": "2020-12-22T12:10:52.866735Z",
     "iopub.status.idle": "2020-12-22T12:10:52.885583Z",
     "shell.execute_reply": "2020-12-22T12:10:52.885095Z"
    },
    "papermill": {
     "duration": 0.058189,
     "end_time": "2020-12-22T12:10:52.885716",
     "exception": false,
     "start_time": "2020-12-22T12:10:52.827527",
     "status": "completed"
    },
    "tags": []
   },
   "outputs": [
    {
     "data": {
      "text/html": [
       "<div>\n",
       "<style scoped>\n",
       "    .dataframe tbody tr th:only-of-type {\n",
       "        vertical-align: middle;\n",
       "    }\n",
       "\n",
       "    .dataframe tbody tr th {\n",
       "        vertical-align: top;\n",
       "    }\n",
       "\n",
       "    .dataframe thead th {\n",
       "        text-align: right;\n",
       "    }\n",
       "</style>\n",
       "<table border=\"1\" class=\"dataframe\">\n",
       "  <thead>\n",
       "    <tr style=\"text-align: right;\">\n",
       "      <th></th>\n",
       "      <th>Country/Region</th>\n",
       "      <th>Cases</th>\n",
       "      <th>Deaths</th>\n",
       "      <th>PCases</th>\n",
       "      <th>PDeaths</th>\n",
       "      <th>Cases (+)</th>\n",
       "      <th>Deaths (+)</th>\n",
       "      <th>Fatality Rate</th>\n",
       "      <th>Continent</th>\n",
       "    </tr>\n",
       "  </thead>\n",
       "  <tbody>\n",
       "    <tr>\n",
       "      <th>0</th>\n",
       "      <td>US</td>\n",
       "      <td>18035209</td>\n",
       "      <td>319364</td>\n",
       "      <td>17844690</td>\n",
       "      <td>317668</td>\n",
       "      <td>190519</td>\n",
       "      <td>1696</td>\n",
       "      <td>1.8</td>\n",
       "      <td>North America</td>\n",
       "    </tr>\n",
       "    <tr>\n",
       "      <th>1</th>\n",
       "      <td>India</td>\n",
       "      <td>10075116</td>\n",
       "      <td>146111</td>\n",
       "      <td>10055560</td>\n",
       "      <td>145810</td>\n",
       "      <td>19556</td>\n",
       "      <td>301</td>\n",
       "      <td>1.5</td>\n",
       "      <td>Asia</td>\n",
       "    </tr>\n",
       "    <tr>\n",
       "      <th>2</th>\n",
       "      <td>Brazil</td>\n",
       "      <td>7263619</td>\n",
       "      <td>187291</td>\n",
       "      <td>7238600</td>\n",
       "      <td>186764</td>\n",
       "      <td>25019</td>\n",
       "      <td>527</td>\n",
       "      <td>2.6</td>\n",
       "      <td>South America</td>\n",
       "    </tr>\n",
       "    <tr>\n",
       "      <th>3</th>\n",
       "      <td>Russia</td>\n",
       "      <td>2850042</td>\n",
       "      <td>50723</td>\n",
       "      <td>2821125</td>\n",
       "      <td>50242</td>\n",
       "      <td>28917</td>\n",
       "      <td>481</td>\n",
       "      <td>1.8</td>\n",
       "      <td>Europe</td>\n",
       "    </tr>\n",
       "    <tr>\n",
       "      <th>4</th>\n",
       "      <td>France</td>\n",
       "      <td>2535716</td>\n",
       "      <td>61019</td>\n",
       "      <td>2529756</td>\n",
       "      <td>60665</td>\n",
       "      <td>5960</td>\n",
       "      <td>354</td>\n",
       "      <td>2.4</td>\n",
       "      <td>Europe</td>\n",
       "    </tr>\n",
       "  </tbody>\n",
       "</table>\n",
       "</div>"
      ],
      "text/plain": [
       "  Country/Region     Cases  Deaths    PCases  PDeaths  Cases (+)  Deaths (+)  \\\n",
       "0             US  18035209  319364  17844690   317668     190519        1696   \n",
       "1          India  10075116  146111  10055560   145810      19556         301   \n",
       "2         Brazil   7263619  187291   7238600   186764      25019         527   \n",
       "3         Russia   2850042   50723   2821125    50242      28917         481   \n",
       "4         France   2535716   61019   2529756    60665       5960         354   \n",
       "\n",
       "   Fatality Rate      Continent  \n",
       "0            1.8  North America  \n",
       "1            1.5           Asia  \n",
       "2            2.6  South America  \n",
       "3            1.8         Europe  \n",
       "4            2.4         Europe  "
      ]
     },
     "execution_count": 15,
     "metadata": {},
     "output_type": "execute_result"
    }
   ],
   "source": [
    "#hide\n",
    "df_table = (pd.DataFrame(dict(Cases=dfc_cases, Deaths=dfc_deaths, PCases=dfp_cases, PDeaths=dfp_deaths))\n",
    "             .sort_values(by=['Cases', 'Deaths'], ascending=[False, False])\n",
    "             .reset_index())\n",
    "df_table.rename(columns={'index': 'Country/Region'}, inplace=True)\n",
    "for c in 'Cases, Deaths'.split(', '):\n",
    "    df_table[f'{c} (+)'] = (df_table[c] - df_table[f'P{c}']).clip(0)  # DATA BUG\n",
    "df_table['Fatality Rate'] = (100 * df_table['Deaths'] / df_table['Cases']).round(1)\n",
    "df_table['Continent'] = df_table['Country/Region'].map(mapping['map.continent'])\n",
    "df_table.head(5)"
   ]
  },
  {
   "cell_type": "code",
   "execution_count": 16,
   "metadata": {
    "execution": {
     "iopub.execute_input": "2020-12-22T12:10:52.955297Z",
     "iopub.status.busy": "2020-12-22T12:10:52.954706Z",
     "iopub.status.idle": "2020-12-22T12:10:52.957968Z",
     "shell.execute_reply": "2020-12-22T12:10:52.957466Z"
    },
    "papermill": {
     "duration": 0.040924,
     "end_time": "2020-12-22T12:10:52.958092",
     "exception": false,
     "start_time": "2020-12-22T12:10:52.917168",
     "status": "completed"
    },
    "tags": []
   },
   "outputs": [],
   "source": [
    "#hide\n",
    "#delete problematic countries from table\n",
    "df_table = df_table[~df_table['Country/Region'].isin(['Cape Verde', 'Cruise Ship', 'Kosovo'])]"
   ]
  },
  {
   "cell_type": "code",
   "execution_count": 17,
   "metadata": {
    "execution": {
     "iopub.execute_input": "2020-12-22T12:10:53.033475Z",
     "iopub.status.busy": "2020-12-22T12:10:53.028278Z",
     "iopub.status.idle": "2020-12-22T12:10:53.043284Z",
     "shell.execute_reply": "2020-12-22T12:10:53.043793Z"
    },
    "papermill": {
     "duration": 0.054782,
     "end_time": "2020-12-22T12:10:53.043933",
     "exception": false,
     "start_time": "2020-12-22T12:10:52.989151",
     "status": "completed"
    },
    "tags": []
   },
   "outputs": [],
   "source": [
    "#hide\n",
    "metrics = [df_table.columns[index] for index in [1,2,5,6]]\n",
    "# s_china = df_table[df_table['Country/Region'].eq('China')][metrics].sum().add_prefix('China ')\n",
    "s_us = df_table[df_table['Country/Region'].eq('US')][metrics].sum().add_prefix('US ')\n",
    "s_eu = df_table[df_table['Continent'].eq('Europe')][metrics].sum().add_prefix('EU ')\n",
    "s_ind = df_table[df_table['Country/Region'].eq('India')][metrics].sum().add_prefix('India ')\n",
    "summary = {'updated': pd.to_datetime(dt_today), 'since': pd.to_datetime(dt_yday)}\n",
    "summary = {'updated': pd.to_datetime(dt_today), 'since': pd.to_datetime(dt_yday)}\n",
    "summary = {**summary, **df_table[metrics].sum(), **s_ind, **s_us, **s_eu}"
   ]
  },
  {
   "cell_type": "code",
   "execution_count": 18,
   "metadata": {
    "execution": {
     "iopub.execute_input": "2020-12-22T12:10:53.111882Z",
     "iopub.status.busy": "2020-12-22T12:10:53.111280Z",
     "iopub.status.idle": "2020-12-22T12:10:53.122315Z",
     "shell.execute_reply": "2020-12-22T12:10:53.122798Z"
    },
    "papermill": {
     "duration": 0.04772,
     "end_time": "2020-12-22T12:10:53.122944",
     "exception": false,
     "start_time": "2020-12-22T12:10:53.075224",
     "status": "completed"
    },
    "tags": []
   },
   "outputs": [],
   "source": [
    "#hide\n",
    "dft_ct_new_cases = dft_cases.groupby(COL_REGION)[dt_cols].sum().diff(axis=1).fillna(0).astype(int)"
   ]
  },
  {
   "cell_type": "code",
   "execution_count": 19,
   "metadata": {
    "execution": {
     "iopub.execute_input": "2020-12-22T12:10:53.190948Z",
     "iopub.status.busy": "2020-12-22T12:10:53.190355Z",
     "iopub.status.idle": "2020-12-22T12:10:53.192933Z",
     "shell.execute_reply": "2020-12-22T12:10:53.192429Z"
    },
    "papermill": {
     "duration": 0.038951,
     "end_time": "2020-12-22T12:10:53.193078",
     "exception": false,
     "start_time": "2020-12-22T12:10:53.154127",
     "status": "completed"
    },
    "tags": []
   },
   "outputs": [],
   "source": [
    "#hide\n",
    "everydaycases = dft_ct_new_cases.cumsum(axis=1)"
   ]
  },
  {
   "cell_type": "code",
   "execution_count": 20,
   "metadata": {
    "execution": {
     "iopub.execute_input": "2020-12-22T12:10:53.260371Z",
     "iopub.status.busy": "2020-12-22T12:10:53.259777Z",
     "iopub.status.idle": "2020-12-22T12:10:55.700514Z",
     "shell.execute_reply": "2020-12-22T12:10:55.699492Z"
    },
    "papermill": {
     "duration": 2.476309,
     "end_time": "2020-12-22T12:10:55.700660",
     "exception": false,
     "start_time": "2020-12-22T12:10:53.224351",
     "status": "completed"
    },
    "tags": []
   },
   "outputs": [],
   "source": [
    "#hide\n",
    "import pandas as pd\n",
    "import matplotlib.pyplot as plt\n",
    "import matplotlib.ticker as ticker\n",
    "import matplotlib.animation as animation\n",
    "from IPython.display import HTML"
   ]
  },
  {
   "cell_type": "code",
   "execution_count": 21,
   "metadata": {
    "execution": {
     "iopub.execute_input": "2020-12-22T12:10:55.769313Z",
     "iopub.status.busy": "2020-12-22T12:10:55.768263Z",
     "iopub.status.idle": "2020-12-22T12:10:55.774996Z",
     "shell.execute_reply": "2020-12-22T12:10:55.774396Z"
    },
    "papermill": {
     "duration": 0.043203,
     "end_time": "2020-12-22T12:10:55.775124",
     "exception": false,
     "start_time": "2020-12-22T12:10:55.731921",
     "status": "completed"
    },
    "tags": []
   },
   "outputs": [],
   "source": [
    "#hide\n",
    "t = everydaycases.stack()"
   ]
  },
  {
   "cell_type": "code",
   "execution_count": 22,
   "metadata": {
    "execution": {
     "iopub.execute_input": "2020-12-22T12:10:55.843349Z",
     "iopub.status.busy": "2020-12-22T12:10:55.841856Z",
     "iopub.status.idle": "2020-12-22T12:10:55.848356Z",
     "shell.execute_reply": "2020-12-22T12:10:55.847764Z"
    },
    "papermill": {
     "duration": 0.04198,
     "end_time": "2020-12-22T12:10:55.848483",
     "exception": false,
     "start_time": "2020-12-22T12:10:55.806503",
     "status": "completed"
    },
    "tags": []
   },
   "outputs": [],
   "source": [
    "#hide\n",
    "g = t.reset_index(['Country/Region'])"
   ]
  },
  {
   "cell_type": "code",
   "execution_count": 23,
   "metadata": {
    "execution": {
     "iopub.execute_input": "2020-12-22T12:10:55.919429Z",
     "iopub.status.busy": "2020-12-22T12:10:55.918829Z",
     "iopub.status.idle": "2020-12-22T12:10:55.921052Z",
     "shell.execute_reply": "2020-12-22T12:10:55.920444Z"
    },
    "papermill": {
     "duration": 0.038905,
     "end_time": "2020-12-22T12:10:55.921184",
     "exception": false,
     "start_time": "2020-12-22T12:10:55.882279",
     "status": "completed"
    },
    "tags": []
   },
   "outputs": [],
   "source": [
    "#hide\n",
    "g.index.name = 'date'"
   ]
  },
  {
   "cell_type": "code",
   "execution_count": 24,
   "metadata": {
    "execution": {
     "iopub.execute_input": "2020-12-22T12:10:55.990412Z",
     "iopub.status.busy": "2020-12-22T12:10:55.989797Z",
     "iopub.status.idle": "2020-12-22T12:10:55.992048Z",
     "shell.execute_reply": "2020-12-22T12:10:55.991462Z"
    },
    "papermill": {
     "duration": 0.038595,
     "end_time": "2020-12-22T12:10:55.992172",
     "exception": false,
     "start_time": "2020-12-22T12:10:55.953577",
     "status": "completed"
    },
    "tags": []
   },
   "outputs": [],
   "source": [
    "# #hide\n",
    "# g = g.reset_index(['date'])"
   ]
  },
  {
   "cell_type": "code",
   "execution_count": 25,
   "metadata": {
    "execution": {
     "iopub.execute_input": "2020-12-22T12:10:56.059042Z",
     "iopub.status.busy": "2020-12-22T12:10:56.058436Z",
     "iopub.status.idle": "2020-12-22T12:10:56.061370Z",
     "shell.execute_reply": "2020-12-22T12:10:56.060854Z"
    },
    "papermill": {
     "duration": 0.038108,
     "end_time": "2020-12-22T12:10:56.061506",
     "exception": false,
     "start_time": "2020-12-22T12:10:56.023398",
     "status": "completed"
    },
    "tags": []
   },
   "outputs": [],
   "source": [
    "#hide\n",
    "# g.head()"
   ]
  },
  {
   "cell_type": "code",
   "execution_count": 26,
   "metadata": {
    "execution": {
     "iopub.execute_input": "2020-12-22T12:10:56.128612Z",
     "iopub.status.busy": "2020-12-22T12:10:56.128004Z",
     "iopub.status.idle": "2020-12-22T12:10:56.130316Z",
     "shell.execute_reply": "2020-12-22T12:10:56.130767Z"
    },
    "papermill": {
     "duration": 0.037791,
     "end_time": "2020-12-22T12:10:56.130915",
     "exception": false,
     "start_time": "2020-12-22T12:10:56.093124",
     "status": "completed"
    },
    "tags": []
   },
   "outputs": [],
   "source": [
    "#hide\n",
    "# g.columns = ['date','country','cases']"
   ]
  },
  {
   "cell_type": "code",
   "execution_count": 27,
   "metadata": {
    "execution": {
     "iopub.execute_input": "2020-12-22T12:10:56.197694Z",
     "iopub.status.busy": "2020-12-22T12:10:56.197082Z",
     "iopub.status.idle": "2020-12-22T12:10:56.199323Z",
     "shell.execute_reply": "2020-12-22T12:10:56.198816Z"
    },
    "papermill": {
     "duration": 0.03728,
     "end_time": "2020-12-22T12:10:56.199445",
     "exception": false,
     "start_time": "2020-12-22T12:10:56.162165",
     "status": "completed"
    },
    "tags": []
   },
   "outputs": [],
   "source": [
    "#hide\n",
    "# g['continent'] = g.country"
   ]
  },
  {
   "cell_type": "code",
   "execution_count": 28,
   "metadata": {
    "execution": {
     "iopub.execute_input": "2020-12-22T12:10:56.266280Z",
     "iopub.status.busy": "2020-12-22T12:10:56.265689Z",
     "iopub.status.idle": "2020-12-22T12:10:56.268232Z",
     "shell.execute_reply": "2020-12-22T12:10:56.267755Z"
    },
    "papermill": {
     "duration": 0.037559,
     "end_time": "2020-12-22T12:10:56.268358",
     "exception": false,
     "start_time": "2020-12-22T12:10:56.230799",
     "status": "completed"
    },
    "tags": []
   },
   "outputs": [],
   "source": [
    "#hide\n",
    "# cols = list(g.columns.values)"
   ]
  },
  {
   "cell_type": "code",
   "execution_count": 29,
   "metadata": {
    "execution": {
     "iopub.execute_input": "2020-12-22T12:10:56.334932Z",
     "iopub.status.busy": "2020-12-22T12:10:56.334327Z",
     "iopub.status.idle": "2020-12-22T12:10:56.336114Z",
     "shell.execute_reply": "2020-12-22T12:10:56.336566Z"
    },
    "papermill": {
     "duration": 0.037154,
     "end_time": "2020-12-22T12:10:56.336710",
     "exception": false,
     "start_time": "2020-12-22T12:10:56.299556",
     "status": "completed"
    },
    "tags": []
   },
   "outputs": [],
   "source": [
    "#hide\n",
    "# cols.insert(0, cols.pop())"
   ]
  },
  {
   "cell_type": "code",
   "execution_count": 30,
   "metadata": {
    "execution": {
     "iopub.execute_input": "2020-12-22T12:10:56.403757Z",
     "iopub.status.busy": "2020-12-22T12:10:56.403162Z",
     "iopub.status.idle": "2020-12-22T12:10:56.405721Z",
     "shell.execute_reply": "2020-12-22T12:10:56.405212Z"
    },
    "papermill": {
     "duration": 0.037675,
     "end_time": "2020-12-22T12:10:56.405848",
     "exception": false,
     "start_time": "2020-12-22T12:10:56.368173",
     "status": "completed"
    },
    "tags": []
   },
   "outputs": [],
   "source": [
    "#hide\n",
    "# g = g[cols]"
   ]
  },
  {
   "cell_type": "code",
   "execution_count": 31,
   "metadata": {
    "execution": {
     "iopub.execute_input": "2020-12-22T12:10:56.472071Z",
     "iopub.status.busy": "2020-12-22T12:10:56.471470Z",
     "iopub.status.idle": "2020-12-22T12:10:56.473804Z",
     "shell.execute_reply": "2020-12-22T12:10:56.473293Z"
    },
    "papermill": {
     "duration": 0.036987,
     "end_time": "2020-12-22T12:10:56.473932",
     "exception": false,
     "start_time": "2020-12-22T12:10:56.436945",
     "status": "completed"
    },
    "tags": []
   },
   "outputs": [],
   "source": [
    "#hide\n",
    "# g['continent'] = g['continent'].map(mapping['map.continent'])"
   ]
  },
  {
   "cell_type": "code",
   "execution_count": 32,
   "metadata": {
    "execution": {
     "iopub.execute_input": "2020-12-22T12:10:56.540724Z",
     "iopub.status.busy": "2020-12-22T12:10:56.540122Z",
     "iopub.status.idle": "2020-12-22T12:10:56.542679Z",
     "shell.execute_reply": "2020-12-22T12:10:56.542174Z"
    },
    "papermill": {
     "duration": 0.037459,
     "end_time": "2020-12-22T12:10:56.542805",
     "exception": false,
     "start_time": "2020-12-22T12:10:56.505346",
     "status": "completed"
    },
    "tags": []
   },
   "outputs": [],
   "source": [
    "#hide\n",
    "# g.head()"
   ]
  },
  {
   "cell_type": "code",
   "execution_count": 33,
   "metadata": {
    "execution": {
     "iopub.execute_input": "2020-12-22T12:10:56.609622Z",
     "iopub.status.busy": "2020-12-22T12:10:56.609017Z",
     "iopub.status.idle": "2020-12-22T12:10:56.611481Z",
     "shell.execute_reply": "2020-12-22T12:10:56.611000Z"
    },
    "papermill": {
     "duration": 0.037568,
     "end_time": "2020-12-22T12:10:56.611609",
     "exception": false,
     "start_time": "2020-12-22T12:10:56.574041",
     "status": "completed"
    },
    "tags": []
   },
   "outputs": [],
   "source": [
    "# hide\n",
    "# g['date'] = g['date'].astype('datetime64[ns]')"
   ]
  },
  {
   "cell_type": "code",
   "execution_count": 34,
   "metadata": {
    "execution": {
     "iopub.execute_input": "2020-12-22T12:10:56.678545Z",
     "iopub.status.busy": "2020-12-22T12:10:56.677919Z",
     "iopub.status.idle": "2020-12-22T12:10:56.680170Z",
     "shell.execute_reply": "2020-12-22T12:10:56.679667Z"
    },
    "papermill": {
     "duration": 0.037402,
     "end_time": "2020-12-22T12:10:56.680298",
     "exception": false,
     "start_time": "2020-12-22T12:10:56.642896",
     "status": "completed"
    },
    "tags": []
   },
   "outputs": [],
   "source": [
    "#hide\n",
    "# g['date'] = g.date.dt.dayofyear"
   ]
  },
  {
   "cell_type": "code",
   "execution_count": 35,
   "metadata": {
    "execution": {
     "iopub.execute_input": "2020-12-22T12:10:56.748681Z",
     "iopub.status.busy": "2020-12-22T12:10:56.748088Z",
     "iopub.status.idle": "2020-12-22T12:10:56.750053Z",
     "shell.execute_reply": "2020-12-22T12:10:56.750559Z"
    },
    "papermill": {
     "duration": 0.038725,
     "end_time": "2020-12-22T12:10:56.750704",
     "exception": false,
     "start_time": "2020-12-22T12:10:56.711979",
     "status": "completed"
    },
    "tags": []
   },
   "outputs": [],
   "source": [
    "#hide\n",
    "# g = g.rename(columns= {'continent':'group','country':'name','cases':'value'})"
   ]
  },
  {
   "cell_type": "code",
   "execution_count": 36,
   "metadata": {
    "execution": {
     "iopub.execute_input": "2020-12-22T12:10:56.819806Z",
     "iopub.status.busy": "2020-12-22T12:10:56.819217Z",
     "iopub.status.idle": "2020-12-22T12:10:56.821426Z",
     "shell.execute_reply": "2020-12-22T12:10:56.820821Z"
    },
    "papermill": {
     "duration": 0.038823,
     "end_time": "2020-12-22T12:10:56.821551",
     "exception": false,
     "start_time": "2020-12-22T12:10:56.782728",
     "status": "completed"
    },
    "tags": []
   },
   "outputs": [],
   "source": [
    "#hide\n",
    "# cols = ['name','group','day','value']"
   ]
  },
  {
   "cell_type": "code",
   "execution_count": 37,
   "metadata": {
    "execution": {
     "iopub.execute_input": "2020-12-22T12:10:56.888850Z",
     "iopub.status.busy": "2020-12-22T12:10:56.888261Z",
     "iopub.status.idle": "2020-12-22T12:10:56.891285Z",
     "shell.execute_reply": "2020-12-22T12:10:56.890705Z"
    },
    "papermill": {
     "duration": 0.038609,
     "end_time": "2020-12-22T12:10:56.891408",
     "exception": false,
     "start_time": "2020-12-22T12:10:56.852799",
     "status": "completed"
    },
    "tags": []
   },
   "outputs": [],
   "source": [
    "#hide\n",
    "# g.rename(columns= {'date':'day'},inplace = True)"
   ]
  },
  {
   "cell_type": "code",
   "execution_count": 38,
   "metadata": {
    "execution": {
     "iopub.execute_input": "2020-12-22T12:10:56.959202Z",
     "iopub.status.busy": "2020-12-22T12:10:56.958615Z",
     "iopub.status.idle": "2020-12-22T12:10:56.960824Z",
     "shell.execute_reply": "2020-12-22T12:10:56.961414Z"
    },
    "papermill": {
     "duration": 0.038557,
     "end_time": "2020-12-22T12:10:56.961556",
     "exception": false,
     "start_time": "2020-12-22T12:10:56.922999",
     "status": "completed"
    },
    "tags": []
   },
   "outputs": [],
   "source": [
    "#hide\n",
    "# g = g[cols]"
   ]
  },
  {
   "cell_type": "code",
   "execution_count": 39,
   "metadata": {
    "execution": {
     "iopub.execute_input": "2020-12-22T12:10:57.029164Z",
     "iopub.status.busy": "2020-12-22T12:10:57.028553Z",
     "iopub.status.idle": "2020-12-22T12:10:57.031050Z",
     "shell.execute_reply": "2020-12-22T12:10:57.031553Z"
    },
    "papermill": {
     "duration": 0.038814,
     "end_time": "2020-12-22T12:10:57.031690",
     "exception": false,
     "start_time": "2020-12-22T12:10:56.992876",
     "status": "completed"
    },
    "tags": []
   },
   "outputs": [],
   "source": [
    "# #hide\n",
    "# g = g[g.group.notna()]"
   ]
  },
  {
   "cell_type": "code",
   "execution_count": 40,
   "metadata": {
    "execution": {
     "iopub.execute_input": "2020-12-22T12:10:57.101368Z",
     "iopub.status.busy": "2020-12-22T12:10:57.100724Z",
     "iopub.status.idle": "2020-12-22T12:10:57.103268Z",
     "shell.execute_reply": "2020-12-22T12:10:57.103772Z"
    },
    "papermill": {
     "duration": 0.040277,
     "end_time": "2020-12-22T12:10:57.103917",
     "exception": false,
     "start_time": "2020-12-22T12:10:57.063640",
     "status": "completed"
    },
    "tags": []
   },
   "outputs": [],
   "source": [
    "# #hide\n",
    "# colors = dict(zip(\n",
    "#     [\"Oceania\", \"Europe\", \"Asia\", \"South America\", \"Middle East\", \"North America\", \"Africa\"],\n",
    "#     [\"#adb0ff\", \"#ffb3ff\", \"#90d595\", \"#e48381\", \"#aafbff\", \"#f7bb5f\", \"#eafb50\"]\n",
    "# ))\n",
    "# group_lk = g.set_index('name')['group'].to_dict()"
   ]
  },
  {
   "cell_type": "code",
   "execution_count": null,
   "metadata": {
    "papermill": {
     "duration": 0.031857,
     "end_time": "2020-12-22T12:10:57.167170",
     "exception": false,
     "start_time": "2020-12-22T12:10:57.135313",
     "status": "completed"
    },
    "tags": []
   },
   "outputs": [],
   "source": []
  },
  {
   "cell_type": "code",
   "execution_count": 41,
   "metadata": {
    "execution": {
     "iopub.execute_input": "2020-12-22T12:10:57.235983Z",
     "iopub.status.busy": "2020-12-22T12:10:57.235378Z",
     "iopub.status.idle": "2020-12-22T12:10:57.237677Z",
     "shell.execute_reply": "2020-12-22T12:10:57.237170Z"
    },
    "papermill": {
     "duration": 0.038388,
     "end_time": "2020-12-22T12:10:57.237803",
     "exception": false,
     "start_time": "2020-12-22T12:10:57.199415",
     "status": "completed"
    },
    "tags": []
   },
   "outputs": [],
   "source": [
    "# #hide\n",
    "# fig, ax = plt.subplots(figsize=(15, 8))\n",
    "\n",
    "# def draw_barchart(current_day):\n",
    "#     dff = g[g['day'].eq(current_day)].sort_values(by='value', ascending=True).tail(10)\n",
    "#     ax.clear()\n",
    "#     ax.barh(dff['name'], dff['value'], color=[colors[group_lk[x]] for x in dff['name']])\n",
    "#     dx = dff['value'].max() / 200\n",
    "    \n",
    "#     for i, (value, name) in enumerate(zip(dff['value'], dff['name'])):\n",
    "#         ax.text(value-dx, i,     name,           size=14, weight=600, ha='right', va='bottom')\n",
    "#         ax.text(value-dx, i-.25, group_lk[name], size=10, color='#444444', ha='right', va='baseline')\n",
    "#         ax.text(value+dx, i,     f'{value:,.0f}',  size=14, ha='left',  va='center')\n",
    "#     ax.text(1, 0.4, current_day, transform=ax.transAxes, color='#777777', size=46, ha='right', weight=800)\n",
    "#     ax.text(0, 1.06, 'Population (thousands)', transform=ax.transAxes, size=12, color='#777777')\n",
    "#     ax.xaxis.set_major_formatter(ticker.StrMethodFormatter('{x:,.0f}'))\n",
    "#     ax.xaxis.set_ticks_position('top')\n",
    "#     ax.tick_params(axis='x', colors='#777777', labelsize=12)\n",
    "#     ax.set_yticks([])\n",
    "#     ax.margins(0, 0.01)\n",
    "#     ax.grid(which='major', axis='x', linestyle='-')\n",
    "#     ax.set_axisbelow(True)\n",
    "    \n",
    "#     ax.text(0, 1.15, 'Coronavirus',\n",
    "#             transform=ax.transAxes, size=24, weight=600, ha='left', va='top')\n",
    "# #     ax.text(1, 0, 'by @pratapvardhan; credit @jburnmurdoch', transform=ax.transAxes, color='#777777', ha='right',\n",
    "# #             bbox=dict(facecolor='white', alpha=0.8, edgecolor='white'))\n",
    "#     plt.box(False)"
   ]
  },
  {
   "cell_type": "code",
   "execution_count": 42,
   "metadata": {
    "execution": {
     "iopub.execute_input": "2020-12-22T12:10:57.308812Z",
     "iopub.status.busy": "2020-12-22T12:10:57.308214Z",
     "iopub.status.idle": "2020-12-22T12:10:57.310608Z",
     "shell.execute_reply": "2020-12-22T12:10:57.311175Z"
    },
    "papermill": {
     "duration": 0.040279,
     "end_time": "2020-12-22T12:10:57.311318",
     "exception": false,
     "start_time": "2020-12-22T12:10:57.271039",
     "status": "completed"
    },
    "tags": []
   },
   "outputs": [],
   "source": [
    "# #hide_input\n",
    "# fig, ax = plt.subplots(figsize=(15, 8))\n",
    "# animator = animation.FuncAnimation(fig, draw_barchart, frames=range(g.day.values.min(), g.day.values.max()))\n",
    "# HTML(animator.to_jshtml())\n",
    "# # or use animator.to_html5_video() or animator.save() "
   ]
  },
  {
   "cell_type": "code",
   "execution_count": null,
   "metadata": {
    "papermill": {
     "duration": 0.031399,
     "end_time": "2020-12-22T12:10:57.374770",
     "exception": false,
     "start_time": "2020-12-22T12:10:57.343371",
     "status": "completed"
    },
    "tags": []
   },
   "outputs": [],
   "source": []
  },
  {
   "cell_type": "code",
   "execution_count": null,
   "metadata": {
    "papermill": {
     "duration": 0.031941,
     "end_time": "2020-12-22T12:10:57.439876",
     "exception": false,
     "start_time": "2020-12-22T12:10:57.407935",
     "status": "completed"
    },
    "tags": []
   },
   "outputs": [],
   "source": []
  },
  {
   "cell_type": "code",
   "execution_count": null,
   "metadata": {
    "papermill": {
     "duration": 0.031393,
     "end_time": "2020-12-22T12:10:57.502760",
     "exception": false,
     "start_time": "2020-12-22T12:10:57.471367",
     "status": "completed"
    },
    "tags": []
   },
   "outputs": [],
   "source": []
  }
 ],
 "metadata": {
  "kernelspec": {
   "display_name": "Python 3",
   "language": "python",
   "name": "python3"
  },
  "language_info": {
   "codemirror_mode": {
    "name": "ipython",
    "version": 3
   },
   "file_extension": ".py",
   "mimetype": "text/x-python",
   "name": "python",
   "nbconvert_exporter": "python",
   "pygments_lexer": "ipython3",
   "version": "3.6.12"
  },
  "papermill": {
   "duration": 7.926667,
   "end_time": "2020-12-22T12:10:57.841900",
   "environment_variables": {},
   "exception": null,
   "input_path": "2020-03-21-covid19exp.ipynb",
   "output_path": "2020-03-21-covid19exp.ipynb",
   "parameters": {},
   "start_time": "2020-12-22T12:10:49.915233",
   "version": "2.0.0"
  }
 },
 "nbformat": 4,
 "nbformat_minor": 4
}