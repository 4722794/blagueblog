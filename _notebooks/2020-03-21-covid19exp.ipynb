{
 "cells": [
  {
   "cell_type": "markdown",
   "id": "muslim-click",
   "metadata": {
    "papermill": {
     "duration": 0.034213,
     "end_time": "2021-02-23T00:10:49.764030",
     "exception": false,
     "start_time": "2021-02-23T00:10:49.729817",
     "status": "completed"
    },
    "tags": []
   },
   "source": [
    "# COVID-19 Case Race\n",
    "> A race chart to see rising cases around the world\n",
    "\n",
    "- author: Hargun Oberoi\n",
    "- image: images/covid-overview.png\n",
    "- hide: false\n",
    "- badges: false"
   ]
  },
  {
   "cell_type": "code",
   "execution_count": 1,
   "id": "proof-material",
   "metadata": {
    "execution": {
     "iopub.execute_input": "2021-02-23T00:10:49.838236Z",
     "iopub.status.busy": "2021-02-23T00:10:49.837709Z",
     "iopub.status.idle": "2021-02-23T00:10:50.142369Z",
     "shell.execute_reply": "2021-02-23T00:10:50.141830Z"
    },
    "papermill": {
     "duration": 0.347205,
     "end_time": "2021-02-23T00:10:50.142517",
     "exception": false,
     "start_time": "2021-02-23T00:10:49.795312",
     "status": "completed"
    },
    "tags": []
   },
   "outputs": [],
   "source": [
    "#hide\n",
    "import numpy as np\n",
    "import pandas as pd\n",
    "from jinja2 import Template\n",
    "from IPython.display import HTML"
   ]
  },
  {
   "cell_type": "code",
   "execution_count": 2,
   "id": "developed-terminology",
   "metadata": {
    "execution": {
     "iopub.execute_input": "2021-02-23T00:10:50.207269Z",
     "iopub.status.busy": "2021-02-23T00:10:50.206689Z",
     "iopub.status.idle": "2021-02-23T00:10:50.208860Z",
     "shell.execute_reply": "2021-02-23T00:10:50.208449Z"
    },
    "papermill": {
     "duration": 0.036163,
     "end_time": "2021-02-23T00:10:50.208971",
     "exception": false,
     "start_time": "2021-02-23T00:10:50.172808",
     "status": "completed"
    },
    "tags": []
   },
   "outputs": [],
   "source": [
    "#hide\n",
    "\n",
    "# FETCH\n",
    "base_url = 'https://raw.githubusercontent.com/pratapvardhan/notebooks/master/covid19/'\n",
    "paths = {\n",
    "    'mapping': base_url + 'mapping_countries.csv',\n",
    "    'overview': base_url + 'overview.tpl'\n",
    "}"
   ]
  },
  {
   "cell_type": "code",
   "execution_count": 3,
   "id": "dynamic-saver",
   "metadata": {
    "execution": {
     "iopub.execute_input": "2021-02-23T00:10:50.277225Z",
     "iopub.status.busy": "2021-02-23T00:10:50.276693Z",
     "iopub.status.idle": "2021-02-23T00:10:50.279412Z",
     "shell.execute_reply": "2021-02-23T00:10:50.278968Z"
    },
    "papermill": {
     "duration": 0.041271,
     "end_time": "2021-02-23T00:10:50.279521",
     "exception": false,
     "start_time": "2021-02-23T00:10:50.238250",
     "status": "completed"
    },
    "tags": []
   },
   "outputs": [
    {
     "data": {
      "text/plain": [
       "'https://raw.githubusercontent.com/pratapvardhan/notebooks/master/covid19/mapping_countries.csv'"
      ]
     },
     "execution_count": 3,
     "metadata": {},
     "output_type": "execute_result"
    }
   ],
   "source": [
    "#hide\n",
    "paths['mapping']"
   ]
  },
  {
   "cell_type": "code",
   "execution_count": 4,
   "id": "urban-software",
   "metadata": {
    "execution": {
     "iopub.execute_input": "2021-02-23T00:10:50.344477Z",
     "iopub.status.busy": "2021-02-23T00:10:50.343949Z",
     "iopub.status.idle": "2021-02-23T00:10:50.345692Z",
     "shell.execute_reply": "2021-02-23T00:10:50.346098Z"
    },
    "papermill": {
     "duration": 0.03692,
     "end_time": "2021-02-23T00:10:50.346222",
     "exception": false,
     "start_time": "2021-02-23T00:10:50.309302",
     "status": "completed"
    },
    "tags": []
   },
   "outputs": [],
   "source": [
    "#hide\n",
    "def get_mappings(url):\n",
    "    df = pd.read_csv(url)\n",
    "    return {\n",
    "        'df': df,\n",
    "        'replace.country': dict(df.dropna(subset=['Name']).set_index('Country')['Name']),\n",
    "        'map.continent': dict(df.set_index('Name')['Continent'])\n",
    "    }"
   ]
  },
  {
   "cell_type": "code",
   "execution_count": 5,
   "id": "intimate-machinery",
   "metadata": {
    "execution": {
     "iopub.execute_input": "2021-02-23T00:10:50.411027Z",
     "iopub.status.busy": "2021-02-23T00:10:50.410481Z",
     "iopub.status.idle": "2021-02-23T00:10:50.435423Z",
     "shell.execute_reply": "2021-02-23T00:10:50.434970Z"
    },
    "papermill": {
     "duration": 0.059473,
     "end_time": "2021-02-23T00:10:50.435540",
     "exception": false,
     "start_time": "2021-02-23T00:10:50.376067",
     "status": "completed"
    },
    "tags": []
   },
   "outputs": [],
   "source": [
    "#hide\n",
    "mapping = get_mappings(paths['mapping'])"
   ]
  },
  {
   "cell_type": "code",
   "execution_count": 6,
   "id": "certified-tactics",
   "metadata": {
    "execution": {
     "iopub.execute_input": "2021-02-23T00:10:50.500532Z",
     "iopub.status.busy": "2021-02-23T00:10:50.499987Z",
     "iopub.status.idle": "2021-02-23T00:10:50.501611Z",
     "shell.execute_reply": "2021-02-23T00:10:50.501996Z"
    },
    "papermill": {
     "duration": 0.036618,
     "end_time": "2021-02-23T00:10:50.502125",
     "exception": false,
     "start_time": "2021-02-23T00:10:50.465507",
     "status": "completed"
    },
    "tags": []
   },
   "outputs": [],
   "source": [
    "#hide\n",
    "def get_template(path):\n",
    "    from urllib.parse import urlparse\n",
    "    if bool(urlparse(path).netloc):\n",
    "        from urllib.request import urlopen\n",
    "        return urlopen(path).read().decode('utf8')\n",
    "    return open(path).read()"
   ]
  },
  {
   "cell_type": "code",
   "execution_count": 7,
   "id": "realistic-blast",
   "metadata": {
    "execution": {
     "iopub.execute_input": "2021-02-23T00:10:50.569864Z",
     "iopub.status.busy": "2021-02-23T00:10:50.569309Z",
     "iopub.status.idle": "2021-02-23T00:10:50.573041Z",
     "shell.execute_reply": "2021-02-23T00:10:50.572411Z"
    },
    "papermill": {
     "duration": 0.039445,
     "end_time": "2021-02-23T00:10:50.573161",
     "exception": false,
     "start_time": "2021-02-23T00:10:50.533716",
     "status": "completed"
    },
    "tags": []
   },
   "outputs": [],
   "source": [
    "#hide\n",
    "def get_frame(name):\n",
    "    url = (\n",
    "        'https://raw.githubusercontent.com/CSSEGISandData/COVID-19/master/csse_covid_19_data/'\n",
    "        f'csse_covid_19_time_series/time_series_covid19_{name}_global.csv')\n",
    "    df = pd.read_csv(url)\n",
    "    # rename countries\n",
    "    df['Country/Region'] = df['Country/Region'].replace(mapping['replace.country'])\n",
    "    return df"
   ]
  },
  {
   "cell_type": "code",
   "execution_count": 8,
   "id": "affiliated-characterization",
   "metadata": {
    "execution": {
     "iopub.execute_input": "2021-02-23T00:10:50.646218Z",
     "iopub.status.busy": "2021-02-23T00:10:50.645699Z",
     "iopub.status.idle": "2021-02-23T00:10:50.647938Z",
     "shell.execute_reply": "2021-02-23T00:10:50.647503Z"
    },
    "papermill": {
     "duration": 0.040321,
     "end_time": "2021-02-23T00:10:50.648048",
     "exception": false,
     "start_time": "2021-02-23T00:10:50.607727",
     "status": "completed"
    },
    "tags": []
   },
   "outputs": [],
   "source": [
    "#hide\n",
    "def get_dates(df):\n",
    "    dt_cols = df.columns[~df.columns.isin(['Province/State', 'Country/Region', 'Lat', 'Long'])]\n",
    "    LAST_DATE_I = -1\n",
    "    # sometimes last column may be empty, then go backwards\n",
    "    for i in range(-1, -len(dt_cols), -1):\n",
    "        if not df[dt_cols[i]].fillna(0).eq(0).all():\n",
    "            LAST_DATE_I = i\n",
    "            break\n",
    "    return LAST_DATE_I, dt_cols"
   ]
  },
  {
   "cell_type": "code",
   "execution_count": 9,
   "id": "recent-optimization",
   "metadata": {
    "execution": {
     "iopub.execute_input": "2021-02-23T00:10:50.716592Z",
     "iopub.status.busy": "2021-02-23T00:10:50.716031Z",
     "iopub.status.idle": "2021-02-23T00:10:50.934964Z",
     "shell.execute_reply": "2021-02-23T00:10:50.934465Z"
    },
    "papermill": {
     "duration": 0.25489,
     "end_time": "2021-02-23T00:10:50.935091",
     "exception": false,
     "start_time": "2021-02-23T00:10:50.680201",
     "status": "completed"
    },
    "tags": []
   },
   "outputs": [],
   "source": [
    "#hide\n",
    "COL_REGION = 'Country/Region'\n",
    "# Confirmed, Recovered, Deaths\n",
    "df = get_frame('confirmed')\n",
    "# dft_: timeseries, dfc_: today country agg\n",
    "dft_cases = df\n",
    "dft_deaths = get_frame('deaths')\n",
    "dft_recovered = get_frame('recovered')\n",
    "LAST_DATE_I, dt_cols = get_dates(df)"
   ]
  },
  {
   "cell_type": "code",
   "execution_count": 10,
   "id": "absolute-copper",
   "metadata": {
    "execution": {
     "iopub.execute_input": "2021-02-23T00:10:51.007458Z",
     "iopub.status.busy": "2021-02-23T00:10:51.006817Z",
     "iopub.status.idle": "2021-02-23T00:10:51.008383Z",
     "shell.execute_reply": "2021-02-23T00:10:51.009025Z"
    },
    "papermill": {
     "duration": 0.039791,
     "end_time": "2021-02-23T00:10:51.009163",
     "exception": false,
     "start_time": "2021-02-23T00:10:50.969372",
     "status": "completed"
    },
    "tags": []
   },
   "outputs": [],
   "source": [
    "#hide\n",
    "LAST_DATE_I, dt_cols = get_dates(df)\n",
    "dt_today =dt_cols[LAST_DATE_I]\n",
    "# dt_5day = dt_cols[LAST_DATE_I - 5]\n",
    "dt_yday = dt_cols[LAST_DATE_I - 1]"
   ]
  },
  {
   "cell_type": "code",
   "execution_count": 11,
   "id": "restricted-sheriff",
   "metadata": {
    "execution": {
     "iopub.execute_input": "2021-02-23T00:10:51.079842Z",
     "iopub.status.busy": "2021-02-23T00:10:51.079313Z",
     "iopub.status.idle": "2021-02-23T00:10:51.086297Z",
     "shell.execute_reply": "2021-02-23T00:10:51.085787Z"
    },
    "papermill": {
     "duration": 0.045525,
     "end_time": "2021-02-23T00:10:51.086415",
     "exception": false,
     "start_time": "2021-02-23T00:10:51.040890",
     "status": "completed"
    },
    "tags": []
   },
   "outputs": [],
   "source": [
    "#hide\n",
    "dfc_cases = dft_cases.groupby(COL_REGION)[dt_today].sum()\n",
    "dfc_deaths = dft_deaths.groupby(COL_REGION)[dt_today].sum()\n",
    "# dfp_cases = dft_cases.groupby(COL_REGION)[dt_5day].sum()\n",
    "# dfp_deaths = dft_deaths.groupby(COL_REGION)[dt_5day].sum()\n",
    "dfp_cases = dft_cases.groupby(COL_REGION)[dt_yday].sum()\n",
    "dfp_deaths = dft_deaths.groupby(COL_REGION)[dt_yday].sum()"
   ]
  },
  {
   "cell_type": "code",
   "execution_count": 12,
   "id": "deluxe-hepatitis",
   "metadata": {
    "execution": {
     "iopub.execute_input": "2021-02-23T00:10:51.156182Z",
     "iopub.status.busy": "2021-02-23T00:10:51.155550Z",
     "iopub.status.idle": "2021-02-23T00:10:51.159861Z",
     "shell.execute_reply": "2021-02-23T00:10:51.160539Z"
    },
    "papermill": {
     "duration": 0.042842,
     "end_time": "2021-02-23T00:10:51.160688",
     "exception": false,
     "start_time": "2021-02-23T00:10:51.117846",
     "status": "completed"
    },
    "tags": []
   },
   "outputs": [],
   "source": [
    "#hide\n",
    "df_table = (pd.DataFrame(dict(Cases = dfc_cases, Deaths = dfc_deaths, PCases = dfp_cases, PDeaths = dfp_deaths))\n",
    "            .sort_values(by = ['Cases','Deaths'], ascending = [False, False])\n",
    "            .reset_index())"
   ]
  },
  {
   "cell_type": "code",
   "execution_count": 13,
   "id": "educational-chancellor",
   "metadata": {
    "execution": {
     "iopub.execute_input": "2021-02-23T00:10:51.241985Z",
     "iopub.status.busy": "2021-02-23T00:10:51.241460Z",
     "iopub.status.idle": "2021-02-23T00:10:51.248210Z",
     "shell.execute_reply": "2021-02-23T00:10:51.247770Z"
    },
    "papermill": {
     "duration": 0.055243,
     "end_time": "2021-02-23T00:10:51.248318",
     "exception": false,
     "start_time": "2021-02-23T00:10:51.193075",
     "status": "completed"
    },
    "tags": []
   },
   "outputs": [
    {
     "data": {
      "text/html": [
       "<div>\n",
       "<style scoped>\n",
       "    .dataframe tbody tr th:only-of-type {\n",
       "        vertical-align: middle;\n",
       "    }\n",
       "\n",
       "    .dataframe tbody tr th {\n",
       "        vertical-align: top;\n",
       "    }\n",
       "\n",
       "    .dataframe thead th {\n",
       "        text-align: right;\n",
       "    }\n",
       "</style>\n",
       "<table border=\"1\" class=\"dataframe\">\n",
       "  <thead>\n",
       "    <tr style=\"text-align: right;\">\n",
       "      <th></th>\n",
       "      <th>Country/Region</th>\n",
       "      <th>Cases</th>\n",
       "      <th>Deaths</th>\n",
       "      <th>PCases</th>\n",
       "      <th>PDeaths</th>\n",
       "      <th>Cases (+)</th>\n",
       "      <th>Deaths (+)</th>\n",
       "      <th>Fatality Rate</th>\n",
       "      <th>Continent</th>\n",
       "    </tr>\n",
       "  </thead>\n",
       "  <tbody>\n",
       "    <tr>\n",
       "      <th>0</th>\n",
       "      <td>US</td>\n",
       "      <td>28134115</td>\n",
       "      <td>498897</td>\n",
       "      <td>28077620</td>\n",
       "      <td>497648</td>\n",
       "      <td>56495</td>\n",
       "      <td>1249</td>\n",
       "      <td>1.77</td>\n",
       "      <td>North America</td>\n",
       "    </tr>\n",
       "    <tr>\n",
       "      <th>1</th>\n",
       "      <td>India</td>\n",
       "      <td>11005850</td>\n",
       "      <td>156385</td>\n",
       "      <td>10991651</td>\n",
       "      <td>156302</td>\n",
       "      <td>14199</td>\n",
       "      <td>83</td>\n",
       "      <td>1.42</td>\n",
       "      <td>Asia</td>\n",
       "    </tr>\n",
       "    <tr>\n",
       "      <th>2</th>\n",
       "      <td>Brazil</td>\n",
       "      <td>10168174</td>\n",
       "      <td>246504</td>\n",
       "      <td>10139148</td>\n",
       "      <td>245977</td>\n",
       "      <td>29026</td>\n",
       "      <td>527</td>\n",
       "      <td>2.42</td>\n",
       "      <td>South America</td>\n",
       "    </tr>\n",
       "    <tr>\n",
       "      <th>3</th>\n",
       "      <td>United Kingdom</td>\n",
       "      <td>4127574</td>\n",
       "      <td>120810</td>\n",
       "      <td>4117739</td>\n",
       "      <td>120593</td>\n",
       "      <td>9835</td>\n",
       "      <td>217</td>\n",
       "      <td>2.93</td>\n",
       "      <td>Europe</td>\n",
       "    </tr>\n",
       "    <tr>\n",
       "      <th>4</th>\n",
       "      <td>Russia</td>\n",
       "      <td>4117992</td>\n",
       "      <td>81926</td>\n",
       "      <td>4105424</td>\n",
       "      <td>81517</td>\n",
       "      <td>12568</td>\n",
       "      <td>409</td>\n",
       "      <td>1.99</td>\n",
       "      <td>Europe</td>\n",
       "    </tr>\n",
       "  </tbody>\n",
       "</table>\n",
       "</div>"
      ],
      "text/plain": [
       "   Country/Region     Cases  Deaths    PCases  PDeaths  Cases (+)  Deaths (+)  \\\n",
       "0              US  28134115  498897  28077620   497648      56495        1249   \n",
       "1           India  11005850  156385  10991651   156302      14199          83   \n",
       "2          Brazil  10168174  246504  10139148   245977      29026         527   \n",
       "3  United Kingdom   4127574  120810   4117739   120593       9835         217   \n",
       "4          Russia   4117992   81926   4105424    81517      12568         409   \n",
       "\n",
       "   Fatality Rate      Continent  \n",
       "0           1.77  North America  \n",
       "1           1.42           Asia  \n",
       "2           2.42  South America  \n",
       "3           2.93         Europe  \n",
       "4           1.99         Europe  "
      ]
     },
     "execution_count": 13,
     "metadata": {},
     "output_type": "execute_result"
    }
   ],
   "source": [
    "#hide\n",
    "for c in 'Cases, Deaths'.split(', '):\n",
    "    df_table[f'{c} (+)'] = (df_table[c] - df_table[f'P{c}']).clip(0)\n",
    "    #Clip ça veut dire, les chiffres negatif sont interdit\n",
    "df_table['Fatality Rate'] = (100* df_table['Deaths']/ df_table['Cases']).round(2)\n",
    "df_table['Continent'] = df_table['Country/Region'].map(mapping['map.continent'])\n",
    "df_table.head(5)"
   ]
  },
  {
   "cell_type": "code",
   "execution_count": 14,
   "id": "aboriginal-bulgaria",
   "metadata": {
    "execution": {
     "iopub.execute_input": "2021-02-23T00:10:51.319232Z",
     "iopub.status.busy": "2021-02-23T00:10:51.318683Z",
     "iopub.status.idle": "2021-02-23T00:10:51.321444Z",
     "shell.execute_reply": "2021-02-23T00:10:51.321878Z"
    },
    "papermill": {
     "duration": 0.039889,
     "end_time": "2021-02-23T00:10:51.322003",
     "exception": false,
     "start_time": "2021-02-23T00:10:51.282114",
     "status": "completed"
    },
    "tags": []
   },
   "outputs": [],
   "source": [
    "#hide\n",
    "#delete problematic countries from table\n",
    "df_table = df_table[~df_table['Country/Region'].isin(['Cape Verde', 'Cruise Ship', 'Kosovo'])]"
   ]
  },
  {
   "cell_type": "code",
   "execution_count": 15,
   "id": "fantastic-effect",
   "metadata": {
    "execution": {
     "iopub.execute_input": "2021-02-23T00:10:51.391736Z",
     "iopub.status.busy": "2021-02-23T00:10:51.391191Z",
     "iopub.status.idle": "2021-02-23T00:10:51.407944Z",
     "shell.execute_reply": "2021-02-23T00:10:51.408397Z"
    },
    "papermill": {
     "duration": 0.055689,
     "end_time": "2021-02-23T00:10:51.408549",
     "exception": false,
     "start_time": "2021-02-23T00:10:51.352860",
     "status": "completed"
    },
    "tags": []
   },
   "outputs": [
    {
     "data": {
      "text/html": [
       "<div>\n",
       "<style scoped>\n",
       "    .dataframe tbody tr th:only-of-type {\n",
       "        vertical-align: middle;\n",
       "    }\n",
       "\n",
       "    .dataframe tbody tr th {\n",
       "        vertical-align: top;\n",
       "    }\n",
       "\n",
       "    .dataframe thead th {\n",
       "        text-align: right;\n",
       "    }\n",
       "</style>\n",
       "<table border=\"1\" class=\"dataframe\">\n",
       "  <thead>\n",
       "    <tr style=\"text-align: right;\">\n",
       "      <th></th>\n",
       "      <th>Country/Region</th>\n",
       "      <th>Cases</th>\n",
       "      <th>Deaths</th>\n",
       "      <th>PCases</th>\n",
       "      <th>PDeaths</th>\n",
       "      <th>Cases (+)</th>\n",
       "      <th>Deaths (+)</th>\n",
       "      <th>Fatality Rate</th>\n",
       "      <th>Continent</th>\n",
       "    </tr>\n",
       "  </thead>\n",
       "  <tbody>\n",
       "    <tr>\n",
       "      <th>0</th>\n",
       "      <td>US</td>\n",
       "      <td>28134115</td>\n",
       "      <td>498897</td>\n",
       "      <td>28077620</td>\n",
       "      <td>497648</td>\n",
       "      <td>56495</td>\n",
       "      <td>1249</td>\n",
       "      <td>1.8</td>\n",
       "      <td>North America</td>\n",
       "    </tr>\n",
       "    <tr>\n",
       "      <th>1</th>\n",
       "      <td>India</td>\n",
       "      <td>11005850</td>\n",
       "      <td>156385</td>\n",
       "      <td>10991651</td>\n",
       "      <td>156302</td>\n",
       "      <td>14199</td>\n",
       "      <td>83</td>\n",
       "      <td>1.4</td>\n",
       "      <td>Asia</td>\n",
       "    </tr>\n",
       "    <tr>\n",
       "      <th>2</th>\n",
       "      <td>Brazil</td>\n",
       "      <td>10168174</td>\n",
       "      <td>246504</td>\n",
       "      <td>10139148</td>\n",
       "      <td>245977</td>\n",
       "      <td>29026</td>\n",
       "      <td>527</td>\n",
       "      <td>2.4</td>\n",
       "      <td>South America</td>\n",
       "    </tr>\n",
       "    <tr>\n",
       "      <th>3</th>\n",
       "      <td>United Kingdom</td>\n",
       "      <td>4127574</td>\n",
       "      <td>120810</td>\n",
       "      <td>4117739</td>\n",
       "      <td>120593</td>\n",
       "      <td>9835</td>\n",
       "      <td>217</td>\n",
       "      <td>2.9</td>\n",
       "      <td>Europe</td>\n",
       "    </tr>\n",
       "    <tr>\n",
       "      <th>4</th>\n",
       "      <td>Russia</td>\n",
       "      <td>4117992</td>\n",
       "      <td>81926</td>\n",
       "      <td>4105424</td>\n",
       "      <td>81517</td>\n",
       "      <td>12568</td>\n",
       "      <td>409</td>\n",
       "      <td>2.0</td>\n",
       "      <td>Europe</td>\n",
       "    </tr>\n",
       "  </tbody>\n",
       "</table>\n",
       "</div>"
      ],
      "text/plain": [
       "   Country/Region     Cases  Deaths    PCases  PDeaths  Cases (+)  Deaths (+)  \\\n",
       "0              US  28134115  498897  28077620   497648      56495        1249   \n",
       "1           India  11005850  156385  10991651   156302      14199          83   \n",
       "2          Brazil  10168174  246504  10139148   245977      29026         527   \n",
       "3  United Kingdom   4127574  120810   4117739   120593       9835         217   \n",
       "4          Russia   4117992   81926   4105424    81517      12568         409   \n",
       "\n",
       "   Fatality Rate      Continent  \n",
       "0            1.8  North America  \n",
       "1            1.4           Asia  \n",
       "2            2.4  South America  \n",
       "3            2.9         Europe  \n",
       "4            2.0         Europe  "
      ]
     },
     "execution_count": 15,
     "metadata": {},
     "output_type": "execute_result"
    }
   ],
   "source": [
    "#hide\n",
    "df_table = (pd.DataFrame(dict(Cases=dfc_cases, Deaths=dfc_deaths, PCases=dfp_cases, PDeaths=dfp_deaths))\n",
    "             .sort_values(by=['Cases', 'Deaths'], ascending=[False, False])\n",
    "             .reset_index())\n",
    "df_table.rename(columns={'index': 'Country/Region'}, inplace=True)\n",
    "for c in 'Cases, Deaths'.split(', '):\n",
    "    df_table[f'{c} (+)'] = (df_table[c] - df_table[f'P{c}']).clip(0)  # DATA BUG\n",
    "df_table['Fatality Rate'] = (100 * df_table['Deaths'] / df_table['Cases']).round(1)\n",
    "df_table['Continent'] = df_table['Country/Region'].map(mapping['map.continent'])\n",
    "df_table.head(5)"
   ]
  },
  {
   "cell_type": "code",
   "execution_count": 16,
   "id": "fewer-occasion",
   "metadata": {
    "execution": {
     "iopub.execute_input": "2021-02-23T00:10:51.477211Z",
     "iopub.status.busy": "2021-02-23T00:10:51.476656Z",
     "iopub.status.idle": "2021-02-23T00:10:51.478659Z",
     "shell.execute_reply": "2021-02-23T00:10:51.478145Z"
    },
    "papermill": {
     "duration": 0.038307,
     "end_time": "2021-02-23T00:10:51.478770",
     "exception": false,
     "start_time": "2021-02-23T00:10:51.440463",
     "status": "completed"
    },
    "tags": []
   },
   "outputs": [],
   "source": [
    "#hide\n",
    "#delete problematic countries from table\n",
    "df_table = df_table[~df_table['Country/Region'].isin(['Cape Verde', 'Cruise Ship', 'Kosovo'])]"
   ]
  },
  {
   "cell_type": "code",
   "execution_count": 17,
   "id": "related-center",
   "metadata": {
    "execution": {
     "iopub.execute_input": "2021-02-23T00:10:51.558465Z",
     "iopub.status.busy": "2021-02-23T00:10:51.557931Z",
     "iopub.status.idle": "2021-02-23T00:10:51.559613Z",
     "shell.execute_reply": "2021-02-23T00:10:51.560033Z"
    },
    "papermill": {
     "duration": 0.050596,
     "end_time": "2021-02-23T00:10:51.560168",
     "exception": false,
     "start_time": "2021-02-23T00:10:51.509572",
     "status": "completed"
    },
    "tags": []
   },
   "outputs": [],
   "source": [
    "#hide\n",
    "metrics = [df_table.columns[index] for index in [1,2,5,6]]\n",
    "# s_china = df_table[df_table['Country/Region'].eq('China')][metrics].sum().add_prefix('China ')\n",
    "s_us = df_table[df_table['Country/Region'].eq('US')][metrics].sum().add_prefix('US ')\n",
    "s_eu = df_table[df_table['Continent'].eq('Europe')][metrics].sum().add_prefix('EU ')\n",
    "s_ind = df_table[df_table['Country/Region'].eq('India')][metrics].sum().add_prefix('India ')\n",
    "summary = {'updated': pd.to_datetime(dt_today), 'since': pd.to_datetime(dt_yday)}\n",
    "summary = {'updated': pd.to_datetime(dt_today), 'since': pd.to_datetime(dt_yday)}\n",
    "summary = {**summary, **df_table[metrics].sum(), **s_ind, **s_us, **s_eu}"
   ]
  },
  {
   "cell_type": "code",
   "execution_count": 18,
   "id": "engaging-syndrome",
   "metadata": {
    "execution": {
     "iopub.execute_input": "2021-02-23T00:10:51.627705Z",
     "iopub.status.busy": "2021-02-23T00:10:51.627169Z",
     "iopub.status.idle": "2021-02-23T00:10:51.637863Z",
     "shell.execute_reply": "2021-02-23T00:10:51.637435Z"
    },
    "papermill": {
     "duration": 0.046549,
     "end_time": "2021-02-23T00:10:51.637981",
     "exception": false,
     "start_time": "2021-02-23T00:10:51.591432",
     "status": "completed"
    },
    "tags": []
   },
   "outputs": [],
   "source": [
    "#hide\n",
    "dft_ct_new_cases = dft_cases.groupby(COL_REGION)[dt_cols].sum().diff(axis=1).fillna(0).astype(int)"
   ]
  },
  {
   "cell_type": "code",
   "execution_count": 19,
   "id": "neutral-assignment",
   "metadata": {
    "execution": {
     "iopub.execute_input": "2021-02-23T00:10:51.705683Z",
     "iopub.status.busy": "2021-02-23T00:10:51.705171Z",
     "iopub.status.idle": "2021-02-23T00:10:51.707413Z",
     "shell.execute_reply": "2021-02-23T00:10:51.706967Z"
    },
    "papermill": {
     "duration": 0.038541,
     "end_time": "2021-02-23T00:10:51.707523",
     "exception": false,
     "start_time": "2021-02-23T00:10:51.668982",
     "status": "completed"
    },
    "tags": []
   },
   "outputs": [],
   "source": [
    "#hide\n",
    "everydaycases = dft_ct_new_cases.cumsum(axis=1)"
   ]
  },
  {
   "cell_type": "code",
   "execution_count": 20,
   "id": "parliamentary-calgary",
   "metadata": {
    "execution": {
     "iopub.execute_input": "2021-02-23T00:10:51.774437Z",
     "iopub.status.busy": "2021-02-23T00:10:51.773881Z",
     "iopub.status.idle": "2021-02-23T00:10:52.376731Z",
     "shell.execute_reply": "2021-02-23T00:10:52.376270Z"
    },
    "papermill": {
     "duration": 0.638423,
     "end_time": "2021-02-23T00:10:52.376852",
     "exception": false,
     "start_time": "2021-02-23T00:10:51.738429",
     "status": "completed"
    },
    "tags": []
   },
   "outputs": [],
   "source": [
    "#hide\n",
    "import pandas as pd\n",
    "import matplotlib.pyplot as plt\n",
    "import matplotlib.ticker as ticker\n",
    "import matplotlib.animation as animation\n",
    "from IPython.display import HTML"
   ]
  },
  {
   "cell_type": "code",
   "execution_count": 21,
   "id": "lasting-extraction",
   "metadata": {
    "execution": {
     "iopub.execute_input": "2021-02-23T00:10:52.446033Z",
     "iopub.status.busy": "2021-02-23T00:10:52.445478Z",
     "iopub.status.idle": "2021-02-23T00:10:52.450251Z",
     "shell.execute_reply": "2021-02-23T00:10:52.450640Z"
    },
    "papermill": {
     "duration": 0.041572,
     "end_time": "2021-02-23T00:10:52.450774",
     "exception": false,
     "start_time": "2021-02-23T00:10:52.409202",
     "status": "completed"
    },
    "tags": []
   },
   "outputs": [],
   "source": [
    "#hide\n",
    "t = everydaycases.stack()"
   ]
  },
  {
   "cell_type": "code",
   "execution_count": 22,
   "id": "premier-sleeve",
   "metadata": {
    "execution": {
     "iopub.execute_input": "2021-02-23T00:10:52.516928Z",
     "iopub.status.busy": "2021-02-23T00:10:52.516393Z",
     "iopub.status.idle": "2021-02-23T00:10:52.523136Z",
     "shell.execute_reply": "2021-02-23T00:10:52.522684Z"
    },
    "papermill": {
     "duration": 0.041335,
     "end_time": "2021-02-23T00:10:52.523252",
     "exception": false,
     "start_time": "2021-02-23T00:10:52.481917",
     "status": "completed"
    },
    "tags": []
   },
   "outputs": [],
   "source": [
    "#hide\n",
    "g = t.reset_index(['Country/Region'])"
   ]
  },
  {
   "cell_type": "code",
   "execution_count": 23,
   "id": "distributed-pittsburgh",
   "metadata": {
    "execution": {
     "iopub.execute_input": "2021-02-23T00:10:52.588986Z",
     "iopub.status.busy": "2021-02-23T00:10:52.588465Z",
     "iopub.status.idle": "2021-02-23T00:10:52.590674Z",
     "shell.execute_reply": "2021-02-23T00:10:52.590253Z"
    },
    "papermill": {
     "duration": 0.036816,
     "end_time": "2021-02-23T00:10:52.590787",
     "exception": false,
     "start_time": "2021-02-23T00:10:52.553971",
     "status": "completed"
    },
    "tags": []
   },
   "outputs": [],
   "source": [
    "#hide\n",
    "g.index.name = 'date'"
   ]
  },
  {
   "cell_type": "code",
   "execution_count": 24,
   "id": "naked-donor",
   "metadata": {
    "execution": {
     "iopub.execute_input": "2021-02-23T00:10:52.656167Z",
     "iopub.status.busy": "2021-02-23T00:10:52.655650Z",
     "iopub.status.idle": "2021-02-23T00:10:52.657984Z",
     "shell.execute_reply": "2021-02-23T00:10:52.657564Z"
    },
    "papermill": {
     "duration": 0.036387,
     "end_time": "2021-02-23T00:10:52.658099",
     "exception": false,
     "start_time": "2021-02-23T00:10:52.621712",
     "status": "completed"
    },
    "tags": []
   },
   "outputs": [],
   "source": [
    "# #hide\n",
    "# g = g.reset_index(['date'])"
   ]
  },
  {
   "cell_type": "code",
   "execution_count": 25,
   "id": "incomplete-mustang",
   "metadata": {
    "execution": {
     "iopub.execute_input": "2021-02-23T00:10:52.723691Z",
     "iopub.status.busy": "2021-02-23T00:10:52.723164Z",
     "iopub.status.idle": "2021-02-23T00:10:52.725176Z",
     "shell.execute_reply": "2021-02-23T00:10:52.724742Z"
    },
    "papermill": {
     "duration": 0.036248,
     "end_time": "2021-02-23T00:10:52.725280",
     "exception": false,
     "start_time": "2021-02-23T00:10:52.689032",
     "status": "completed"
    },
    "tags": []
   },
   "outputs": [],
   "source": [
    "#hide\n",
    "# g.head()"
   ]
  },
  {
   "cell_type": "code",
   "execution_count": 26,
   "id": "specific-kruger",
   "metadata": {
    "execution": {
     "iopub.execute_input": "2021-02-23T00:10:52.790620Z",
     "iopub.status.busy": "2021-02-23T00:10:52.790107Z",
     "iopub.status.idle": "2021-02-23T00:10:52.792334Z",
     "shell.execute_reply": "2021-02-23T00:10:52.791919Z"
    },
    "papermill": {
     "duration": 0.036368,
     "end_time": "2021-02-23T00:10:52.792446",
     "exception": false,
     "start_time": "2021-02-23T00:10:52.756078",
     "status": "completed"
    },
    "tags": []
   },
   "outputs": [],
   "source": [
    "#hide\n",
    "# g.columns = ['date','country','cases']"
   ]
  },
  {
   "cell_type": "code",
   "execution_count": 27,
   "id": "tender-conversion",
   "metadata": {
    "execution": {
     "iopub.execute_input": "2021-02-23T00:10:52.857801Z",
     "iopub.status.busy": "2021-02-23T00:10:52.857268Z",
     "iopub.status.idle": "2021-02-23T00:10:52.859323Z",
     "shell.execute_reply": "2021-02-23T00:10:52.858779Z"
    },
    "papermill": {
     "duration": 0.03621,
     "end_time": "2021-02-23T00:10:52.859431",
     "exception": false,
     "start_time": "2021-02-23T00:10:52.823221",
     "status": "completed"
    },
    "tags": []
   },
   "outputs": [],
   "source": [
    "#hide\n",
    "# g['continent'] = g.country"
   ]
  },
  {
   "cell_type": "code",
   "execution_count": 28,
   "id": "substantial-wilderness",
   "metadata": {
    "execution": {
     "iopub.execute_input": "2021-02-23T00:10:52.924206Z",
     "iopub.status.busy": "2021-02-23T00:10:52.923694Z",
     "iopub.status.idle": "2021-02-23T00:10:52.926733Z",
     "shell.execute_reply": "2021-02-23T00:10:52.927215Z"
    },
    "papermill": {
     "duration": 0.036844,
     "end_time": "2021-02-23T00:10:52.927345",
     "exception": false,
     "start_time": "2021-02-23T00:10:52.890501",
     "status": "completed"
    },
    "tags": []
   },
   "outputs": [],
   "source": [
    "#hide\n",
    "# cols = list(g.columns.values)"
   ]
  },
  {
   "cell_type": "code",
   "execution_count": 29,
   "id": "solved-farming",
   "metadata": {
    "execution": {
     "iopub.execute_input": "2021-02-23T00:10:52.992925Z",
     "iopub.status.busy": "2021-02-23T00:10:52.992324Z",
     "iopub.status.idle": "2021-02-23T00:10:52.994488Z",
     "shell.execute_reply": "2021-02-23T00:10:52.993993Z"
    },
    "papermill": {
     "duration": 0.036519,
     "end_time": "2021-02-23T00:10:52.994608",
     "exception": false,
     "start_time": "2021-02-23T00:10:52.958089",
     "status": "completed"
    },
    "tags": []
   },
   "outputs": [],
   "source": [
    "#hide\n",
    "# cols.insert(0, cols.pop())"
   ]
  },
  {
   "cell_type": "code",
   "execution_count": 30,
   "id": "executed-adoption",
   "metadata": {
    "execution": {
     "iopub.execute_input": "2021-02-23T00:10:53.061273Z",
     "iopub.status.busy": "2021-02-23T00:10:53.060744Z",
     "iopub.status.idle": "2021-02-23T00:10:53.062471Z",
     "shell.execute_reply": "2021-02-23T00:10:53.062876Z"
    },
    "papermill": {
     "duration": 0.036025,
     "end_time": "2021-02-23T00:10:53.063012",
     "exception": false,
     "start_time": "2021-02-23T00:10:53.026987",
     "status": "completed"
    },
    "tags": []
   },
   "outputs": [],
   "source": [
    "#hide\n",
    "# g = g[cols]"
   ]
  },
  {
   "cell_type": "code",
   "execution_count": 31,
   "id": "subject-dublin",
   "metadata": {
    "execution": {
     "iopub.execute_input": "2021-02-23T00:10:53.128266Z",
     "iopub.status.busy": "2021-02-23T00:10:53.127749Z",
     "iopub.status.idle": "2021-02-23T00:10:53.131511Z",
     "shell.execute_reply": "2021-02-23T00:10:53.132138Z"
    },
    "papermill": {
     "duration": 0.038036,
     "end_time": "2021-02-23T00:10:53.132267",
     "exception": false,
     "start_time": "2021-02-23T00:10:53.094231",
     "status": "completed"
    },
    "tags": []
   },
   "outputs": [],
   "source": [
    "#hide\n",
    "# g['continent'] = g['continent'].map(mapping['map.continent'])"
   ]
  },
  {
   "cell_type": "code",
   "execution_count": 32,
   "id": "freelance-scout",
   "metadata": {
    "execution": {
     "iopub.execute_input": "2021-02-23T00:10:53.197215Z",
     "iopub.status.busy": "2021-02-23T00:10:53.196552Z",
     "iopub.status.idle": "2021-02-23T00:10:53.198435Z",
     "shell.execute_reply": "2021-02-23T00:10:53.197930Z"
    },
    "papermill": {
     "duration": 0.035811,
     "end_time": "2021-02-23T00:10:53.198616",
     "exception": false,
     "start_time": "2021-02-23T00:10:53.162805",
     "status": "completed"
    },
    "tags": []
   },
   "outputs": [],
   "source": [
    "#hide\n",
    "# g.head()"
   ]
  },
  {
   "cell_type": "code",
   "execution_count": 33,
   "id": "limited-engine",
   "metadata": {
    "execution": {
     "iopub.execute_input": "2021-02-23T00:10:53.268945Z",
     "iopub.status.busy": "2021-02-23T00:10:53.268335Z",
     "iopub.status.idle": "2021-02-23T00:10:53.269783Z",
     "shell.execute_reply": "2021-02-23T00:10:53.270255Z"
    },
    "papermill": {
     "duration": 0.038767,
     "end_time": "2021-02-23T00:10:53.270394",
     "exception": false,
     "start_time": "2021-02-23T00:10:53.231627",
     "status": "completed"
    },
    "tags": []
   },
   "outputs": [],
   "source": [
    "# hide\n",
    "# g['date'] = g['date'].astype('datetime64[ns]')"
   ]
  },
  {
   "cell_type": "code",
   "execution_count": 34,
   "id": "sophisticated-supervisor",
   "metadata": {
    "execution": {
     "iopub.execute_input": "2021-02-23T00:10:53.335937Z",
     "iopub.status.busy": "2021-02-23T00:10:53.335425Z",
     "iopub.status.idle": "2021-02-23T00:10:53.337655Z",
     "shell.execute_reply": "2021-02-23T00:10:53.337244Z"
    },
    "papermill": {
     "duration": 0.035963,
     "end_time": "2021-02-23T00:10:53.337767",
     "exception": false,
     "start_time": "2021-02-23T00:10:53.301804",
     "status": "completed"
    },
    "tags": []
   },
   "outputs": [],
   "source": [
    "#hide\n",
    "# g['date'] = g.date.dt.dayofyear"
   ]
  },
  {
   "cell_type": "code",
   "execution_count": 35,
   "id": "inside-dubai",
   "metadata": {
    "execution": {
     "iopub.execute_input": "2021-02-23T00:10:53.402530Z",
     "iopub.status.busy": "2021-02-23T00:10:53.402008Z",
     "iopub.status.idle": "2021-02-23T00:10:53.404244Z",
     "shell.execute_reply": "2021-02-23T00:10:53.403834Z"
    },
    "papermill": {
     "duration": 0.036084,
     "end_time": "2021-02-23T00:10:53.404353",
     "exception": false,
     "start_time": "2021-02-23T00:10:53.368269",
     "status": "completed"
    },
    "tags": []
   },
   "outputs": [],
   "source": [
    "#hide\n",
    "# g = g.rename(columns= {'continent':'group','country':'name','cases':'value'})"
   ]
  },
  {
   "cell_type": "code",
   "execution_count": 36,
   "id": "fleet-motorcycle",
   "metadata": {
    "execution": {
     "iopub.execute_input": "2021-02-23T00:10:53.468984Z",
     "iopub.status.busy": "2021-02-23T00:10:53.468465Z",
     "iopub.status.idle": "2021-02-23T00:10:53.470345Z",
     "shell.execute_reply": "2021-02-23T00:10:53.470727Z"
    },
    "papermill": {
     "duration": 0.036014,
     "end_time": "2021-02-23T00:10:53.470875",
     "exception": false,
     "start_time": "2021-02-23T00:10:53.434861",
     "status": "completed"
    },
    "tags": []
   },
   "outputs": [],
   "source": [
    "#hide\n",
    "# cols = ['name','group','day','value']"
   ]
  },
  {
   "cell_type": "code",
   "execution_count": 37,
   "id": "continued-sleeping",
   "metadata": {
    "execution": {
     "iopub.execute_input": "2021-02-23T00:10:53.535705Z",
     "iopub.status.busy": "2021-02-23T00:10:53.535177Z",
     "iopub.status.idle": "2021-02-23T00:10:53.537651Z",
     "shell.execute_reply": "2021-02-23T00:10:53.537238Z"
    },
    "papermill": {
     "duration": 0.036248,
     "end_time": "2021-02-23T00:10:53.537759",
     "exception": false,
     "start_time": "2021-02-23T00:10:53.501511",
     "status": "completed"
    },
    "tags": []
   },
   "outputs": [],
   "source": [
    "#hide\n",
    "# g.rename(columns= {'date':'day'},inplace = True)"
   ]
  },
  {
   "cell_type": "code",
   "execution_count": 38,
   "id": "major-fight",
   "metadata": {
    "execution": {
     "iopub.execute_input": "2021-02-23T00:10:53.602335Z",
     "iopub.status.busy": "2021-02-23T00:10:53.601824Z",
     "iopub.status.idle": "2021-02-23T00:10:53.604206Z",
     "shell.execute_reply": "2021-02-23T00:10:53.603791Z"
    },
    "papermill": {
     "duration": 0.035859,
     "end_time": "2021-02-23T00:10:53.604314",
     "exception": false,
     "start_time": "2021-02-23T00:10:53.568455",
     "status": "completed"
    },
    "tags": []
   },
   "outputs": [],
   "source": [
    "#hide\n",
    "# g = g[cols]"
   ]
  },
  {
   "cell_type": "code",
   "execution_count": 39,
   "id": "structured-mobile",
   "metadata": {
    "execution": {
     "iopub.execute_input": "2021-02-23T00:10:53.668643Z",
     "iopub.status.busy": "2021-02-23T00:10:53.668094Z",
     "iopub.status.idle": "2021-02-23T00:10:53.670252Z",
     "shell.execute_reply": "2021-02-23T00:10:53.669797Z"
    },
    "papermill": {
     "duration": 0.035717,
     "end_time": "2021-02-23T00:10:53.670364",
     "exception": false,
     "start_time": "2021-02-23T00:10:53.634647",
     "status": "completed"
    },
    "tags": []
   },
   "outputs": [],
   "source": [
    "# #hide\n",
    "# g = g[g.group.notna()]"
   ]
  },
  {
   "cell_type": "code",
   "execution_count": 40,
   "id": "determined-closing",
   "metadata": {
    "execution": {
     "iopub.execute_input": "2021-02-23T00:10:53.739974Z",
     "iopub.status.busy": "2021-02-23T00:10:53.739419Z",
     "iopub.status.idle": "2021-02-23T00:10:53.741186Z",
     "shell.execute_reply": "2021-02-23T00:10:53.741642Z"
    },
    "papermill": {
     "duration": 0.037207,
     "end_time": "2021-02-23T00:10:53.741777",
     "exception": false,
     "start_time": "2021-02-23T00:10:53.704570",
     "status": "completed"
    },
    "tags": []
   },
   "outputs": [],
   "source": [
    "# #hide\n",
    "# colors = dict(zip(\n",
    "#     [\"Oceania\", \"Europe\", \"Asia\", \"South America\", \"Middle East\", \"North America\", \"Africa\"],\n",
    "#     [\"#adb0ff\", \"#ffb3ff\", \"#90d595\", \"#e48381\", \"#aafbff\", \"#f7bb5f\", \"#eafb50\"]\n",
    "# ))\n",
    "# group_lk = g.set_index('name')['group'].to_dict()"
   ]
  },
  {
   "cell_type": "code",
   "execution_count": null,
   "id": "gross-drinking",
   "metadata": {
    "papermill": {
     "duration": 0.032119,
     "end_time": "2021-02-23T00:10:53.806377",
     "exception": false,
     "start_time": "2021-02-23T00:10:53.774258",
     "status": "completed"
    },
    "tags": []
   },
   "outputs": [],
   "source": []
  },
  {
   "cell_type": "code",
   "execution_count": 41,
   "id": "subject-macintosh",
   "metadata": {
    "execution": {
     "iopub.execute_input": "2021-02-23T00:10:53.874933Z",
     "iopub.status.busy": "2021-02-23T00:10:53.874370Z",
     "iopub.status.idle": "2021-02-23T00:10:53.876356Z",
     "shell.execute_reply": "2021-02-23T00:10:53.876860Z"
    },
    "papermill": {
     "duration": 0.038711,
     "end_time": "2021-02-23T00:10:53.876990",
     "exception": false,
     "start_time": "2021-02-23T00:10:53.838279",
     "status": "completed"
    },
    "tags": []
   },
   "outputs": [],
   "source": [
    "# #hide\n",
    "# fig, ax = plt.subplots(figsize=(15, 8))\n",
    "\n",
    "# def draw_barchart(current_day):\n",
    "#     dff = g[g['day'].eq(current_day)].sort_values(by='value', ascending=True).tail(10)\n",
    "#     ax.clear()\n",
    "#     ax.barh(dff['name'], dff['value'], color=[colors[group_lk[x]] for x in dff['name']])\n",
    "#     dx = dff['value'].max() / 200\n",
    "    \n",
    "#     for i, (value, name) in enumerate(zip(dff['value'], dff['name'])):\n",
    "#         ax.text(value-dx, i,     name,           size=14, weight=600, ha='right', va='bottom')\n",
    "#         ax.text(value-dx, i-.25, group_lk[name], size=10, color='#444444', ha='right', va='baseline')\n",
    "#         ax.text(value+dx, i,     f'{value:,.0f}',  size=14, ha='left',  va='center')\n",
    "#     ax.text(1, 0.4, current_day, transform=ax.transAxes, color='#777777', size=46, ha='right', weight=800)\n",
    "#     ax.text(0, 1.06, 'Population (thousands)', transform=ax.transAxes, size=12, color='#777777')\n",
    "#     ax.xaxis.set_major_formatter(ticker.StrMethodFormatter('{x:,.0f}'))\n",
    "#     ax.xaxis.set_ticks_position('top')\n",
    "#     ax.tick_params(axis='x', colors='#777777', labelsize=12)\n",
    "#     ax.set_yticks([])\n",
    "#     ax.margins(0, 0.01)\n",
    "#     ax.grid(which='major', axis='x', linestyle='-')\n",
    "#     ax.set_axisbelow(True)\n",
    "    \n",
    "#     ax.text(0, 1.15, 'Coronavirus',\n",
    "#             transform=ax.transAxes, size=24, weight=600, ha='left', va='top')\n",
    "# #     ax.text(1, 0, 'by @pratapvardhan; credit @jburnmurdoch', transform=ax.transAxes, color='#777777', ha='right',\n",
    "# #             bbox=dict(facecolor='white', alpha=0.8, edgecolor='white'))\n",
    "#     plt.box(False)"
   ]
  },
  {
   "cell_type": "code",
   "execution_count": 42,
   "id": "sexual-wages",
   "metadata": {
    "execution": {
     "iopub.execute_input": "2021-02-23T00:10:53.942914Z",
     "iopub.status.busy": "2021-02-23T00:10:53.942351Z",
     "iopub.status.idle": "2021-02-23T00:10:53.944632Z",
     "shell.execute_reply": "2021-02-23T00:10:53.944222Z"
    },
    "papermill": {
     "duration": 0.036262,
     "end_time": "2021-02-23T00:10:53.944739",
     "exception": false,
     "start_time": "2021-02-23T00:10:53.908477",
     "status": "completed"
    },
    "tags": []
   },
   "outputs": [],
   "source": [
    "# #hide_input\n",
    "# fig, ax = plt.subplots(figsize=(15, 8))\n",
    "# animator = animation.FuncAnimation(fig, draw_barchart, frames=range(g.day.values.min(), g.day.values.max()))\n",
    "# HTML(animator.to_jshtml())\n",
    "# # or use animator.to_html5_video() or animator.save() "
   ]
  },
  {
   "cell_type": "code",
   "execution_count": null,
   "id": "australian-container",
   "metadata": {
    "papermill": {
     "duration": 0.030564,
     "end_time": "2021-02-23T00:10:54.006254",
     "exception": false,
     "start_time": "2021-02-23T00:10:53.975690",
     "status": "completed"
    },
    "tags": []
   },
   "outputs": [],
   "source": []
  },
  {
   "cell_type": "code",
   "execution_count": null,
   "id": "mediterranean-pontiac",
   "metadata": {
    "papermill": {
     "duration": 0.030624,
     "end_time": "2021-02-23T00:10:54.067542",
     "exception": false,
     "start_time": "2021-02-23T00:10:54.036918",
     "status": "completed"
    },
    "tags": []
   },
   "outputs": [],
   "source": []
  },
  {
   "cell_type": "code",
   "execution_count": null,
   "id": "aging-legislature",
   "metadata": {
    "papermill": {
     "duration": 0.030499,
     "end_time": "2021-02-23T00:10:54.129450",
     "exception": false,
     "start_time": "2021-02-23T00:10:54.098951",
     "status": "completed"
    },
    "tags": []
   },
   "outputs": [],
   "source": []
  }
 ],
 "metadata": {
  "kernelspec": {
   "display_name": "Python 3",
   "language": "python",
   "name": "python3"
  },
  "language_info": {
   "codemirror_mode": {
    "name": "ipython",
    "version": 3
   },
   "file_extension": ".py",
   "mimetype": "text/x-python",
   "name": "python",
   "nbconvert_exporter": "python",
   "pygments_lexer": "ipython3",
   "version": "3.6.12"
  },
  "papermill": {
   "duration": 5.69986,
   "end_time": "2021-02-23T00:10:54.467000",
   "environment_variables": {},
   "exception": null,
   "input_path": "2020-03-21-covid19exp.ipynb",
   "output_path": "2020-03-21-covid19exp.ipynb",
   "parameters": {},
   "start_time": "2021-02-23T00:10:48.767140",
   "version": "2.0.0"
  }
 },
 "nbformat": 4,
 "nbformat_minor": 5
}