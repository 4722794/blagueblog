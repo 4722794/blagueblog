{
 "cells": [
  {
   "cell_type": "markdown",
   "id": "muslim-click",
   "metadata": {
    "papermill": {
     "duration": 0.046194,
     "end_time": "2021-08-19T12:11:30.560620",
     "exception": false,
     "start_time": "2021-08-19T12:11:30.514426",
     "status": "completed"
    },
    "tags": []
   },
   "source": [
    "# COVID-19 Case Race\n",
    "> A race chart to see rising cases around the world\n",
    "\n",
    "- author: Hargun Oberoi\n",
    "- image: images/covid-overview.png\n",
    "- hide: false\n",
    "- badges: false"
   ]
  },
  {
   "cell_type": "code",
   "execution_count": 1,
   "id": "proof-material",
   "metadata": {
    "execution": {
     "iopub.execute_input": "2021-08-19T12:11:30.658078Z",
     "iopub.status.busy": "2021-08-19T12:11:30.657248Z",
     "iopub.status.idle": "2021-08-19T12:11:31.104157Z",
     "shell.execute_reply": "2021-08-19T12:11:31.103559Z"
    },
    "papermill": {
     "duration": 0.503511,
     "end_time": "2021-08-19T12:11:31.104322",
     "exception": false,
     "start_time": "2021-08-19T12:11:30.600811",
     "status": "completed"
    },
    "tags": []
   },
   "outputs": [],
   "source": [
    "#hide\n",
    "import numpy as np\n",
    "import pandas as pd\n",
    "from jinja2 import Template\n",
    "from IPython.display import HTML"
   ]
  },
  {
   "cell_type": "code",
   "execution_count": 2,
   "id": "developed-terminology",
   "metadata": {
    "execution": {
     "iopub.execute_input": "2021-08-19T12:11:31.188877Z",
     "iopub.status.busy": "2021-08-19T12:11:31.188216Z",
     "iopub.status.idle": "2021-08-19T12:11:31.190239Z",
     "shell.execute_reply": "2021-08-19T12:11:31.190772Z"
    },
    "papermill": {
     "duration": 0.046204,
     "end_time": "2021-08-19T12:11:31.190920",
     "exception": false,
     "start_time": "2021-08-19T12:11:31.144716",
     "status": "completed"
    },
    "tags": []
   },
   "outputs": [],
   "source": [
    "#hide\n",
    "\n",
    "# FETCH\n",
    "base_url = 'https://raw.githubusercontent.com/pratapvardhan/notebooks/master/covid19/'\n",
    "paths = {\n",
    "    'mapping': base_url + 'mapping_countries.csv',\n",
    "    'overview': base_url + 'overview.tpl'\n",
    "}"
   ]
  },
  {
   "cell_type": "code",
   "execution_count": 3,
   "id": "dynamic-saver",
   "metadata": {
    "execution": {
     "iopub.execute_input": "2021-08-19T12:11:31.282100Z",
     "iopub.status.busy": "2021-08-19T12:11:31.281406Z",
     "iopub.status.idle": "2021-08-19T12:11:31.283971Z",
     "shell.execute_reply": "2021-08-19T12:11:31.284599Z"
    },
    "papermill": {
     "duration": 0.054312,
     "end_time": "2021-08-19T12:11:31.284755",
     "exception": false,
     "start_time": "2021-08-19T12:11:31.230443",
     "status": "completed"
    },
    "tags": []
   },
   "outputs": [
    {
     "data": {
      "text/plain": [
       "'https://raw.githubusercontent.com/pratapvardhan/notebooks/master/covid19/mapping_countries.csv'"
      ]
     },
     "execution_count": 3,
     "metadata": {},
     "output_type": "execute_result"
    }
   ],
   "source": [
    "#hide\n",
    "paths['mapping']"
   ]
  },
  {
   "cell_type": "code",
   "execution_count": 4,
   "id": "urban-software",
   "metadata": {
    "execution": {
     "iopub.execute_input": "2021-08-19T12:11:31.369929Z",
     "iopub.status.busy": "2021-08-19T12:11:31.369013Z",
     "iopub.status.idle": "2021-08-19T12:11:31.371168Z",
     "shell.execute_reply": "2021-08-19T12:11:31.371864Z"
    },
    "papermill": {
     "duration": 0.048435,
     "end_time": "2021-08-19T12:11:31.372042",
     "exception": false,
     "start_time": "2021-08-19T12:11:31.323607",
     "status": "completed"
    },
    "tags": []
   },
   "outputs": [],
   "source": [
    "#hide\n",
    "def get_mappings(url):\n",
    "    df = pd.read_csv(url)\n",
    "    return {\n",
    "        'df': df,\n",
    "        'replace.country': dict(df.dropna(subset=['Name']).set_index('Country')['Name']),\n",
    "        'map.continent': dict(df.set_index('Name')['Continent'])\n",
    "    }"
   ]
  },
  {
   "cell_type": "code",
   "execution_count": 5,
   "id": "intimate-machinery",
   "metadata": {
    "execution": {
     "iopub.execute_input": "2021-08-19T12:11:31.456345Z",
     "iopub.status.busy": "2021-08-19T12:11:31.455677Z",
     "iopub.status.idle": "2021-08-19T12:11:31.510520Z",
     "shell.execute_reply": "2021-08-19T12:11:31.509782Z"
    },
    "papermill": {
     "duration": 0.099622,
     "end_time": "2021-08-19T12:11:31.510669",
     "exception": false,
     "start_time": "2021-08-19T12:11:31.411047",
     "status": "completed"
    },
    "tags": []
   },
   "outputs": [],
   "source": [
    "#hide\n",
    "mapping = get_mappings(paths['mapping'])"
   ]
  },
  {
   "cell_type": "code",
   "execution_count": 6,
   "id": "certified-tactics",
   "metadata": {
    "execution": {
     "iopub.execute_input": "2021-08-19T12:11:31.594345Z",
     "iopub.status.busy": "2021-08-19T12:11:31.593671Z",
     "iopub.status.idle": "2021-08-19T12:11:31.595433Z",
     "shell.execute_reply": "2021-08-19T12:11:31.596041Z"
    },
    "papermill": {
     "duration": 0.046459,
     "end_time": "2021-08-19T12:11:31.596200",
     "exception": false,
     "start_time": "2021-08-19T12:11:31.549741",
     "status": "completed"
    },
    "tags": []
   },
   "outputs": [],
   "source": [
    "#hide\n",
    "def get_template(path):\n",
    "    from urllib.parse import urlparse\n",
    "    if bool(urlparse(path).netloc):\n",
    "        from urllib.request import urlopen\n",
    "        return urlopen(path).read().decode('utf8')\n",
    "    return open(path).read()"
   ]
  },
  {
   "cell_type": "code",
   "execution_count": 7,
   "id": "realistic-blast",
   "metadata": {
    "execution": {
     "iopub.execute_input": "2021-08-19T12:11:31.679136Z",
     "iopub.status.busy": "2021-08-19T12:11:31.678353Z",
     "iopub.status.idle": "2021-08-19T12:11:31.683652Z",
     "shell.execute_reply": "2021-08-19T12:11:31.684219Z"
    },
    "papermill": {
     "duration": 0.049655,
     "end_time": "2021-08-19T12:11:31.684440",
     "exception": false,
     "start_time": "2021-08-19T12:11:31.634785",
     "status": "completed"
    },
    "tags": []
   },
   "outputs": [],
   "source": [
    "#hide\n",
    "def get_frame(name):\n",
    "    url = (\n",
    "        'https://raw.githubusercontent.com/CSSEGISandData/COVID-19/master/csse_covid_19_data/'\n",
    "        f'csse_covid_19_time_series/time_series_covid19_{name}_global.csv')\n",
    "    df = pd.read_csv(url)\n",
    "    # rename countries\n",
    "    df['Country/Region'] = df['Country/Region'].replace(mapping['replace.country'])\n",
    "    return df"
   ]
  },
  {
   "cell_type": "code",
   "execution_count": 8,
   "id": "affiliated-characterization",
   "metadata": {
    "execution": {
     "iopub.execute_input": "2021-08-19T12:11:31.771063Z",
     "iopub.status.busy": "2021-08-19T12:11:31.770293Z",
     "iopub.status.idle": "2021-08-19T12:11:31.773266Z",
     "shell.execute_reply": "2021-08-19T12:11:31.772735Z"
    },
    "papermill": {
     "duration": 0.048885,
     "end_time": "2021-08-19T12:11:31.773405",
     "exception": false,
     "start_time": "2021-08-19T12:11:31.724520",
     "status": "completed"
    },
    "tags": []
   },
   "outputs": [],
   "source": [
    "#hide\n",
    "def get_dates(df):\n",
    "    dt_cols = df.columns[~df.columns.isin(['Province/State', 'Country/Region', 'Lat', 'Long'])]\n",
    "    LAST_DATE_I = -1\n",
    "    # sometimes last column may be empty, then go backwards\n",
    "    for i in range(-1, -len(dt_cols), -1):\n",
    "        if not df[dt_cols[i]].fillna(0).eq(0).all():\n",
    "            LAST_DATE_I = i\n",
    "            break\n",
    "    return LAST_DATE_I, dt_cols"
   ]
  },
  {
   "cell_type": "code",
   "execution_count": 9,
   "id": "recent-optimization",
   "metadata": {
    "execution": {
     "iopub.execute_input": "2021-08-19T12:11:31.856665Z",
     "iopub.status.busy": "2021-08-19T12:11:31.855739Z",
     "iopub.status.idle": "2021-08-19T12:11:32.474523Z",
     "shell.execute_reply": "2021-08-19T12:11:32.475432Z"
    },
    "papermill": {
     "duration": 0.664239,
     "end_time": "2021-08-19T12:11:32.475791",
     "exception": false,
     "start_time": "2021-08-19T12:11:31.811552",
     "status": "completed"
    },
    "tags": []
   },
   "outputs": [],
   "source": [
    "#hide\n",
    "COL_REGION = 'Country/Region'\n",
    "# Confirmed, Recovered, Deaths\n",
    "df = get_frame('confirmed')\n",
    "# dft_: timeseries, dfc_: today country agg\n",
    "dft_cases = df\n",
    "dft_deaths = get_frame('deaths')\n",
    "dft_recovered = get_frame('recovered')\n",
    "LAST_DATE_I, dt_cols = get_dates(df)"
   ]
  },
  {
   "cell_type": "code",
   "execution_count": 10,
   "id": "absolute-copper",
   "metadata": {
    "execution": {
     "iopub.execute_input": "2021-08-19T12:11:32.575293Z",
     "iopub.status.busy": "2021-08-19T12:11:32.574358Z",
     "iopub.status.idle": "2021-08-19T12:11:32.582977Z",
     "shell.execute_reply": "2021-08-19T12:11:32.582254Z"
    },
    "papermill": {
     "duration": 0.061411,
     "end_time": "2021-08-19T12:11:32.583162",
     "exception": false,
     "start_time": "2021-08-19T12:11:32.521751",
     "status": "completed"
    },
    "tags": []
   },
   "outputs": [],
   "source": [
    "#hide\n",
    "LAST_DATE_I, dt_cols = get_dates(df)\n",
    "dt_today =dt_cols[LAST_DATE_I]\n",
    "# dt_5day = dt_cols[LAST_DATE_I - 5]\n",
    "dt_yday = dt_cols[LAST_DATE_I - 1]"
   ]
  },
  {
   "cell_type": "code",
   "execution_count": 11,
   "id": "restricted-sheriff",
   "metadata": {
    "execution": {
     "iopub.execute_input": "2021-08-19T12:11:32.675318Z",
     "iopub.status.busy": "2021-08-19T12:11:32.674440Z",
     "iopub.status.idle": "2021-08-19T12:11:32.678510Z",
     "shell.execute_reply": "2021-08-19T12:11:32.677978Z"
    },
    "papermill": {
     "duration": 0.055082,
     "end_time": "2021-08-19T12:11:32.678655",
     "exception": false,
     "start_time": "2021-08-19T12:11:32.623573",
     "status": "completed"
    },
    "tags": []
   },
   "outputs": [],
   "source": [
    "#hide\n",
    "dfc_cases = dft_cases.groupby(COL_REGION)[dt_today].sum()\n",
    "dfc_deaths = dft_deaths.groupby(COL_REGION)[dt_today].sum()\n",
    "# dfp_cases = dft_cases.groupby(COL_REGION)[dt_5day].sum()\n",
    "# dfp_deaths = dft_deaths.groupby(COL_REGION)[dt_5day].sum()\n",
    "dfp_cases = dft_cases.groupby(COL_REGION)[dt_yday].sum()\n",
    "dfp_deaths = dft_deaths.groupby(COL_REGION)[dt_yday].sum()"
   ]
  },
  {
   "cell_type": "code",
   "execution_count": 12,
   "id": "deluxe-hepatitis",
   "metadata": {
    "execution": {
     "iopub.execute_input": "2021-08-19T12:11:32.763854Z",
     "iopub.status.busy": "2021-08-19T12:11:32.763157Z",
     "iopub.status.idle": "2021-08-19T12:11:32.768563Z",
     "shell.execute_reply": "2021-08-19T12:11:32.768007Z"
    },
    "papermill": {
     "duration": 0.052089,
     "end_time": "2021-08-19T12:11:32.768711",
     "exception": false,
     "start_time": "2021-08-19T12:11:32.716622",
     "status": "completed"
    },
    "tags": []
   },
   "outputs": [],
   "source": [
    "#hide\n",
    "df_table = (pd.DataFrame(dict(Cases = dfc_cases, Deaths = dfc_deaths, PCases = dfp_cases, PDeaths = dfp_deaths))\n",
    "            .sort_values(by = ['Cases','Deaths'], ascending = [False, False])\n",
    "            .reset_index())"
   ]
  },
  {
   "cell_type": "code",
   "execution_count": 13,
   "id": "educational-chancellor",
   "metadata": {
    "execution": {
     "iopub.execute_input": "2021-08-19T12:11:32.874653Z",
     "iopub.status.busy": "2021-08-19T12:11:32.873980Z",
     "iopub.status.idle": "2021-08-19T12:11:32.893349Z",
     "shell.execute_reply": "2021-08-19T12:11:32.893942Z"
    },
    "papermill": {
     "duration": 0.07232,
     "end_time": "2021-08-19T12:11:32.894111",
     "exception": false,
     "start_time": "2021-08-19T12:11:32.821791",
     "status": "completed"
    },
    "tags": []
   },
   "outputs": [
    {
     "data": {
      "text/html": [
       "<div>\n",
       "<style scoped>\n",
       "    .dataframe tbody tr th:only-of-type {\n",
       "        vertical-align: middle;\n",
       "    }\n",
       "\n",
       "    .dataframe tbody tr th {\n",
       "        vertical-align: top;\n",
       "    }\n",
       "\n",
       "    .dataframe thead th {\n",
       "        text-align: right;\n",
       "    }\n",
       "</style>\n",
       "<table border=\"1\" class=\"dataframe\">\n",
       "  <thead>\n",
       "    <tr style=\"text-align: right;\">\n",
       "      <th></th>\n",
       "      <th>Country/Region</th>\n",
       "      <th>Cases</th>\n",
       "      <th>Deaths</th>\n",
       "      <th>PCases</th>\n",
       "      <th>PDeaths</th>\n",
       "      <th>Cases (+)</th>\n",
       "      <th>Deaths (+)</th>\n",
       "      <th>Fatality Rate</th>\n",
       "      <th>Continent</th>\n",
       "    </tr>\n",
       "  </thead>\n",
       "  <tbody>\n",
       "    <tr>\n",
       "      <th>0</th>\n",
       "      <td>US</td>\n",
       "      <td>37155669</td>\n",
       "      <td>624257</td>\n",
       "      <td>37017854</td>\n",
       "      <td>623112</td>\n",
       "      <td>137815</td>\n",
       "      <td>1145</td>\n",
       "      <td>1.68</td>\n",
       "      <td>North America</td>\n",
       "    </tr>\n",
       "    <tr>\n",
       "      <th>1</th>\n",
       "      <td>India</td>\n",
       "      <td>32322258</td>\n",
       "      <td>433049</td>\n",
       "      <td>32285857</td>\n",
       "      <td>432519</td>\n",
       "      <td>36401</td>\n",
       "      <td>530</td>\n",
       "      <td>1.34</td>\n",
       "      <td>Asia</td>\n",
       "    </tr>\n",
       "    <tr>\n",
       "      <th>2</th>\n",
       "      <td>Brazil</td>\n",
       "      <td>20457897</td>\n",
       "      <td>571662</td>\n",
       "      <td>20416183</td>\n",
       "      <td>570598</td>\n",
       "      <td>41714</td>\n",
       "      <td>1064</td>\n",
       "      <td>2.79</td>\n",
       "      <td>South America</td>\n",
       "    </tr>\n",
       "    <tr>\n",
       "      <th>3</th>\n",
       "      <td>France</td>\n",
       "      <td>6611444</td>\n",
       "      <td>113239</td>\n",
       "      <td>6581417</td>\n",
       "      <td>113116</td>\n",
       "      <td>30027</td>\n",
       "      <td>123</td>\n",
       "      <td>1.71</td>\n",
       "      <td>Europe</td>\n",
       "    </tr>\n",
       "    <tr>\n",
       "      <th>4</th>\n",
       "      <td>Russia</td>\n",
       "      <td>6572246</td>\n",
       "      <td>169948</td>\n",
       "      <td>6551934</td>\n",
       "      <td>169169</td>\n",
       "      <td>20312</td>\n",
       "      <td>779</td>\n",
       "      <td>2.59</td>\n",
       "      <td>Europe</td>\n",
       "    </tr>\n",
       "  </tbody>\n",
       "</table>\n",
       "</div>"
      ],
      "text/plain": [
       "  Country/Region     Cases  Deaths    PCases  PDeaths  Cases (+)  Deaths (+)  \\\n",
       "0             US  37155669  624257  37017854   623112     137815        1145   \n",
       "1          India  32322258  433049  32285857   432519      36401         530   \n",
       "2         Brazil  20457897  571662  20416183   570598      41714        1064   \n",
       "3         France   6611444  113239   6581417   113116      30027         123   \n",
       "4         Russia   6572246  169948   6551934   169169      20312         779   \n",
       "\n",
       "   Fatality Rate      Continent  \n",
       "0           1.68  North America  \n",
       "1           1.34           Asia  \n",
       "2           2.79  South America  \n",
       "3           1.71         Europe  \n",
       "4           2.59         Europe  "
      ]
     },
     "execution_count": 13,
     "metadata": {},
     "output_type": "execute_result"
    }
   ],
   "source": [
    "#hide\n",
    "for c in 'Cases, Deaths'.split(', '):\n",
    "    df_table[f'{c} (+)'] = (df_table[c] - df_table[f'P{c}']).clip(0)\n",
    "    #Clip ça veut dire, les chiffres negatif sont interdit\n",
    "df_table['Fatality Rate'] = (100* df_table['Deaths']/ df_table['Cases']).round(2)\n",
    "df_table['Continent'] = df_table['Country/Region'].map(mapping['map.continent'])\n",
    "df_table.head(5)"
   ]
  },
  {
   "cell_type": "code",
   "execution_count": 14,
   "id": "aboriginal-bulgaria",
   "metadata": {
    "execution": {
     "iopub.execute_input": "2021-08-19T12:11:32.980324Z",
     "iopub.status.busy": "2021-08-19T12:11:32.979678Z",
     "iopub.status.idle": "2021-08-19T12:11:32.983317Z",
     "shell.execute_reply": "2021-08-19T12:11:32.982766Z"
    },
    "papermill": {
     "duration": 0.04906,
     "end_time": "2021-08-19T12:11:32.983450",
     "exception": false,
     "start_time": "2021-08-19T12:11:32.934390",
     "status": "completed"
    },
    "tags": []
   },
   "outputs": [],
   "source": [
    "#hide\n",
    "#delete problematic countries from table\n",
    "df_table = df_table[~df_table['Country/Region'].isin(['Cape Verde', 'Cruise Ship', 'Kosovo'])]"
   ]
  },
  {
   "cell_type": "code",
   "execution_count": 15,
   "id": "fantastic-effect",
   "metadata": {
    "execution": {
     "iopub.execute_input": "2021-08-19T12:11:33.076095Z",
     "iopub.status.busy": "2021-08-19T12:11:33.075380Z",
     "iopub.status.idle": "2021-08-19T12:11:33.107295Z",
     "shell.execute_reply": "2021-08-19T12:11:33.111801Z"
    },
    "papermill": {
     "duration": 0.08903,
     "end_time": "2021-08-19T12:11:33.111986",
     "exception": false,
     "start_time": "2021-08-19T12:11:33.022956",
     "status": "completed"
    },
    "tags": []
   },
   "outputs": [
    {
     "data": {
      "text/html": [
       "<div>\n",
       "<style scoped>\n",
       "    .dataframe tbody tr th:only-of-type {\n",
       "        vertical-align: middle;\n",
       "    }\n",
       "\n",
       "    .dataframe tbody tr th {\n",
       "        vertical-align: top;\n",
       "    }\n",
       "\n",
       "    .dataframe thead th {\n",
       "        text-align: right;\n",
       "    }\n",
       "</style>\n",
       "<table border=\"1\" class=\"dataframe\">\n",
       "  <thead>\n",
       "    <tr style=\"text-align: right;\">\n",
       "      <th></th>\n",
       "      <th>Country/Region</th>\n",
       "      <th>Cases</th>\n",
       "      <th>Deaths</th>\n",
       "      <th>PCases</th>\n",
       "      <th>PDeaths</th>\n",
       "      <th>Cases (+)</th>\n",
       "      <th>Deaths (+)</th>\n",
       "      <th>Fatality Rate</th>\n",
       "      <th>Continent</th>\n",
       "    </tr>\n",
       "  </thead>\n",
       "  <tbody>\n",
       "    <tr>\n",
       "      <th>0</th>\n",
       "      <td>US</td>\n",
       "      <td>37155669</td>\n",
       "      <td>624257</td>\n",
       "      <td>37017854</td>\n",
       "      <td>623112</td>\n",
       "      <td>137815</td>\n",
       "      <td>1145</td>\n",
       "      <td>1.7</td>\n",
       "      <td>North America</td>\n",
       "    </tr>\n",
       "    <tr>\n",
       "      <th>1</th>\n",
       "      <td>India</td>\n",
       "      <td>32322258</td>\n",
       "      <td>433049</td>\n",
       "      <td>32285857</td>\n",
       "      <td>432519</td>\n",
       "      <td>36401</td>\n",
       "      <td>530</td>\n",
       "      <td>1.3</td>\n",
       "      <td>Asia</td>\n",
       "    </tr>\n",
       "    <tr>\n",
       "      <th>2</th>\n",
       "      <td>Brazil</td>\n",
       "      <td>20457897</td>\n",
       "      <td>571662</td>\n",
       "      <td>20416183</td>\n",
       "      <td>570598</td>\n",
       "      <td>41714</td>\n",
       "      <td>1064</td>\n",
       "      <td>2.8</td>\n",
       "      <td>South America</td>\n",
       "    </tr>\n",
       "    <tr>\n",
       "      <th>3</th>\n",
       "      <td>France</td>\n",
       "      <td>6611444</td>\n",
       "      <td>113239</td>\n",
       "      <td>6581417</td>\n",
       "      <td>113116</td>\n",
       "      <td>30027</td>\n",
       "      <td>123</td>\n",
       "      <td>1.7</td>\n",
       "      <td>Europe</td>\n",
       "    </tr>\n",
       "    <tr>\n",
       "      <th>4</th>\n",
       "      <td>Russia</td>\n",
       "      <td>6572246</td>\n",
       "      <td>169948</td>\n",
       "      <td>6551934</td>\n",
       "      <td>169169</td>\n",
       "      <td>20312</td>\n",
       "      <td>779</td>\n",
       "      <td>2.6</td>\n",
       "      <td>Europe</td>\n",
       "    </tr>\n",
       "  </tbody>\n",
       "</table>\n",
       "</div>"
      ],
      "text/plain": [
       "  Country/Region     Cases  Deaths    PCases  PDeaths  Cases (+)  Deaths (+)  \\\n",
       "0             US  37155669  624257  37017854   623112     137815        1145   \n",
       "1          India  32322258  433049  32285857   432519      36401         530   \n",
       "2         Brazil  20457897  571662  20416183   570598      41714        1064   \n",
       "3         France   6611444  113239   6581417   113116      30027         123   \n",
       "4         Russia   6572246  169948   6551934   169169      20312         779   \n",
       "\n",
       "   Fatality Rate      Continent  \n",
       "0            1.7  North America  \n",
       "1            1.3           Asia  \n",
       "2            2.8  South America  \n",
       "3            1.7         Europe  \n",
       "4            2.6         Europe  "
      ]
     },
     "execution_count": 15,
     "metadata": {},
     "output_type": "execute_result"
    }
   ],
   "source": [
    "#hide\n",
    "df_table = (pd.DataFrame(dict(Cases=dfc_cases, Deaths=dfc_deaths, PCases=dfp_cases, PDeaths=dfp_deaths))\n",
    "             .sort_values(by=['Cases', 'Deaths'], ascending=[False, False])\n",
    "             .reset_index())\n",
    "df_table.rename(columns={'index': 'Country/Region'}, inplace=True)\n",
    "for c in 'Cases, Deaths'.split(', '):\n",
    "    df_table[f'{c} (+)'] = (df_table[c] - df_table[f'P{c}']).clip(0)  # DATA BUG\n",
    "df_table['Fatality Rate'] = (100 * df_table['Deaths'] / df_table['Cases']).round(1)\n",
    "df_table['Continent'] = df_table['Country/Region'].map(mapping['map.continent'])\n",
    "df_table.head(5)"
   ]
  },
  {
   "cell_type": "code",
   "execution_count": 16,
   "id": "fewer-occasion",
   "metadata": {
    "execution": {
     "iopub.execute_input": "2021-08-19T12:11:33.200965Z",
     "iopub.status.busy": "2021-08-19T12:11:33.200284Z",
     "iopub.status.idle": "2021-08-19T12:11:33.202388Z",
     "shell.execute_reply": "2021-08-19T12:11:33.203736Z"
    },
    "papermill": {
     "duration": 0.051634,
     "end_time": "2021-08-19T12:11:33.203908",
     "exception": false,
     "start_time": "2021-08-19T12:11:33.152274",
     "status": "completed"
    },
    "tags": []
   },
   "outputs": [],
   "source": [
    "#hide\n",
    "#delete problematic countries from table\n",
    "df_table = df_table[~df_table['Country/Region'].isin(['Cape Verde', 'Cruise Ship', 'Kosovo'])]"
   ]
  },
  {
   "cell_type": "code",
   "execution_count": 17,
   "id": "related-center",
   "metadata": {
    "execution": {
     "iopub.execute_input": "2021-08-19T12:11:33.310473Z",
     "iopub.status.busy": "2021-08-19T12:11:33.309776Z",
     "iopub.status.idle": "2021-08-19T12:11:33.312067Z",
     "shell.execute_reply": "2021-08-19T12:11:33.312633Z"
    },
    "papermill": {
     "duration": 0.065204,
     "end_time": "2021-08-19T12:11:33.312801",
     "exception": false,
     "start_time": "2021-08-19T12:11:33.247597",
     "status": "completed"
    },
    "tags": []
   },
   "outputs": [],
   "source": [
    "#hide\n",
    "metrics = [df_table.columns[index] for index in [1,2,5,6]]\n",
    "# s_china = df_table[df_table['Country/Region'].eq('China')][metrics].sum().add_prefix('China ')\n",
    "s_us = df_table[df_table['Country/Region'].eq('US')][metrics].sum().add_prefix('US ')\n",
    "s_eu = df_table[df_table['Continent'].eq('Europe')][metrics].sum().add_prefix('EU ')\n",
    "s_ind = df_table[df_table['Country/Region'].eq('India')][metrics].sum().add_prefix('India ')\n",
    "summary = {'updated': pd.to_datetime(dt_today), 'since': pd.to_datetime(dt_yday)}\n",
    "summary = {'updated': pd.to_datetime(dt_today), 'since': pd.to_datetime(dt_yday)}\n",
    "summary = {**summary, **df_table[metrics].sum(), **s_ind, **s_us, **s_eu}"
   ]
  },
  {
   "cell_type": "code",
   "execution_count": 18,
   "id": "engaging-syndrome",
   "metadata": {
    "execution": {
     "iopub.execute_input": "2021-08-19T12:11:33.401820Z",
     "iopub.status.busy": "2021-08-19T12:11:33.400865Z",
     "iopub.status.idle": "2021-08-19T12:11:33.414804Z",
     "shell.execute_reply": "2021-08-19T12:11:33.414227Z"
    },
    "papermill": {
     "duration": 0.062653,
     "end_time": "2021-08-19T12:11:33.414957",
     "exception": false,
     "start_time": "2021-08-19T12:11:33.352304",
     "status": "completed"
    },
    "tags": []
   },
   "outputs": [],
   "source": [
    "#hide\n",
    "dft_ct_new_cases = dft_cases.groupby(COL_REGION)[dt_cols].sum().diff(axis=1).fillna(0).astype(int)"
   ]
  },
  {
   "cell_type": "code",
   "execution_count": 19,
   "id": "neutral-assignment",
   "metadata": {
    "execution": {
     "iopub.execute_input": "2021-08-19T12:11:33.511222Z",
     "iopub.status.busy": "2021-08-19T12:11:33.510517Z",
     "iopub.status.idle": "2021-08-19T12:11:33.513061Z",
     "shell.execute_reply": "2021-08-19T12:11:33.512482Z"
    },
    "papermill": {
     "duration": 0.057915,
     "end_time": "2021-08-19T12:11:33.513208",
     "exception": false,
     "start_time": "2021-08-19T12:11:33.455293",
     "status": "completed"
    },
    "tags": []
   },
   "outputs": [],
   "source": [
    "#hide\n",
    "everydaycases = dft_ct_new_cases.cumsum(axis=1)"
   ]
  },
  {
   "cell_type": "code",
   "execution_count": 20,
   "id": "parliamentary-calgary",
   "metadata": {
    "execution": {
     "iopub.execute_input": "2021-08-19T12:11:33.598684Z",
     "iopub.status.busy": "2021-08-19T12:11:33.597978Z",
     "iopub.status.idle": "2021-08-19T12:11:34.285423Z",
     "shell.execute_reply": "2021-08-19T12:11:34.284232Z"
    },
    "papermill": {
     "duration": 0.732193,
     "end_time": "2021-08-19T12:11:34.285577",
     "exception": false,
     "start_time": "2021-08-19T12:11:33.553384",
     "status": "completed"
    },
    "tags": []
   },
   "outputs": [],
   "source": [
    "#hide\n",
    "import pandas as pd\n",
    "import matplotlib.pyplot as plt\n",
    "import matplotlib.ticker as ticker\n",
    "import matplotlib.animation as animation\n",
    "from IPython.display import HTML"
   ]
  },
  {
   "cell_type": "code",
   "execution_count": 21,
   "id": "lasting-extraction",
   "metadata": {
    "execution": {
     "iopub.execute_input": "2021-08-19T12:11:34.381028Z",
     "iopub.status.busy": "2021-08-19T12:11:34.380343Z",
     "iopub.status.idle": "2021-08-19T12:11:34.388105Z",
     "shell.execute_reply": "2021-08-19T12:11:34.387531Z"
    },
    "papermill": {
     "duration": 0.060778,
     "end_time": "2021-08-19T12:11:34.388256",
     "exception": false,
     "start_time": "2021-08-19T12:11:34.327478",
     "status": "completed"
    },
    "tags": []
   },
   "outputs": [],
   "source": [
    "#hide\n",
    "t = everydaycases.stack()"
   ]
  },
  {
   "cell_type": "code",
   "execution_count": 22,
   "id": "premier-sleeve",
   "metadata": {
    "execution": {
     "iopub.execute_input": "2021-08-19T12:11:34.482559Z",
     "iopub.status.busy": "2021-08-19T12:11:34.481869Z",
     "iopub.status.idle": "2021-08-19T12:11:34.491886Z",
     "shell.execute_reply": "2021-08-19T12:11:34.491348Z"
    },
    "papermill": {
     "duration": 0.054922,
     "end_time": "2021-08-19T12:11:34.492031",
     "exception": false,
     "start_time": "2021-08-19T12:11:34.437109",
     "status": "completed"
    },
    "tags": []
   },
   "outputs": [],
   "source": [
    "#hide\n",
    "g = t.reset_index(['Country/Region'])"
   ]
  },
  {
   "cell_type": "code",
   "execution_count": 23,
   "id": "distributed-pittsburgh",
   "metadata": {
    "execution": {
     "iopub.execute_input": "2021-08-19T12:11:34.578531Z",
     "iopub.status.busy": "2021-08-19T12:11:34.577101Z",
     "iopub.status.idle": "2021-08-19T12:11:34.579253Z",
     "shell.execute_reply": "2021-08-19T12:11:34.579771Z"
    },
    "papermill": {
     "duration": 0.04806,
     "end_time": "2021-08-19T12:11:34.579936",
     "exception": false,
     "start_time": "2021-08-19T12:11:34.531876",
     "status": "completed"
    },
    "tags": []
   },
   "outputs": [],
   "source": [
    "#hide\n",
    "g.index.name = 'date'"
   ]
  },
  {
   "cell_type": "code",
   "execution_count": 24,
   "id": "naked-donor",
   "metadata": {
    "execution": {
     "iopub.execute_input": "2021-08-19T12:11:34.665854Z",
     "iopub.status.busy": "2021-08-19T12:11:34.664327Z",
     "iopub.status.idle": "2021-08-19T12:11:34.666576Z",
     "shell.execute_reply": "2021-08-19T12:11:34.667107Z"
    },
    "papermill": {
     "duration": 0.046152,
     "end_time": "2021-08-19T12:11:34.667265",
     "exception": false,
     "start_time": "2021-08-19T12:11:34.621113",
     "status": "completed"
    },
    "tags": []
   },
   "outputs": [],
   "source": [
    "# #hide\n",
    "# g = g.reset_index(['date'])"
   ]
  },
  {
   "cell_type": "code",
   "execution_count": 25,
   "id": "incomplete-mustang",
   "metadata": {
    "execution": {
     "iopub.execute_input": "2021-08-19T12:11:34.750861Z",
     "iopub.status.busy": "2021-08-19T12:11:34.750196Z",
     "iopub.status.idle": "2021-08-19T12:11:34.752908Z",
     "shell.execute_reply": "2021-08-19T12:11:34.752344Z"
    },
    "papermill": {
     "duration": 0.046446,
     "end_time": "2021-08-19T12:11:34.753046",
     "exception": false,
     "start_time": "2021-08-19T12:11:34.706600",
     "status": "completed"
    },
    "tags": []
   },
   "outputs": [],
   "source": [
    "#hide\n",
    "# g.head()"
   ]
  },
  {
   "cell_type": "code",
   "execution_count": 26,
   "id": "specific-kruger",
   "metadata": {
    "execution": {
     "iopub.execute_input": "2021-08-19T12:11:34.838951Z",
     "iopub.status.busy": "2021-08-19T12:11:34.838295Z",
     "iopub.status.idle": "2021-08-19T12:11:34.840791Z",
     "shell.execute_reply": "2021-08-19T12:11:34.840151Z"
    },
    "papermill": {
     "duration": 0.047806,
     "end_time": "2021-08-19T12:11:34.840934",
     "exception": false,
     "start_time": "2021-08-19T12:11:34.793128",
     "status": "completed"
    },
    "tags": []
   },
   "outputs": [],
   "source": [
    "#hide\n",
    "# g.columns = ['date','country','cases']"
   ]
  },
  {
   "cell_type": "code",
   "execution_count": 27,
   "id": "tender-conversion",
   "metadata": {
    "execution": {
     "iopub.execute_input": "2021-08-19T12:11:34.923533Z",
     "iopub.status.busy": "2021-08-19T12:11:34.922875Z",
     "iopub.status.idle": "2021-08-19T12:11:34.925705Z",
     "shell.execute_reply": "2021-08-19T12:11:34.925155Z"
    },
    "papermill": {
     "duration": 0.04504,
     "end_time": "2021-08-19T12:11:34.925843",
     "exception": false,
     "start_time": "2021-08-19T12:11:34.880803",
     "status": "completed"
    },
    "tags": []
   },
   "outputs": [],
   "source": [
    "#hide\n",
    "# g['continent'] = g.country"
   ]
  },
  {
   "cell_type": "code",
   "execution_count": 28,
   "id": "substantial-wilderness",
   "metadata": {
    "execution": {
     "iopub.execute_input": "2021-08-19T12:11:35.009525Z",
     "iopub.status.busy": "2021-08-19T12:11:35.008876Z",
     "iopub.status.idle": "2021-08-19T12:11:35.011009Z",
     "shell.execute_reply": "2021-08-19T12:11:35.011570Z"
    },
    "papermill": {
     "duration": 0.046371,
     "end_time": "2021-08-19T12:11:35.011727",
     "exception": false,
     "start_time": "2021-08-19T12:11:34.965356",
     "status": "completed"
    },
    "tags": []
   },
   "outputs": [],
   "source": [
    "#hide\n",
    "# cols = list(g.columns.values)"
   ]
  },
  {
   "cell_type": "code",
   "execution_count": 29,
   "id": "solved-farming",
   "metadata": {
    "execution": {
     "iopub.execute_input": "2021-08-19T12:11:35.095594Z",
     "iopub.status.busy": "2021-08-19T12:11:35.094936Z",
     "iopub.status.idle": "2021-08-19T12:11:35.096867Z",
     "shell.execute_reply": "2021-08-19T12:11:35.097404Z"
    },
    "papermill": {
     "duration": 0.046245,
     "end_time": "2021-08-19T12:11:35.097563",
     "exception": false,
     "start_time": "2021-08-19T12:11:35.051318",
     "status": "completed"
    },
    "tags": []
   },
   "outputs": [],
   "source": [
    "#hide\n",
    "# cols.insert(0, cols.pop())"
   ]
  },
  {
   "cell_type": "code",
   "execution_count": 30,
   "id": "executed-adoption",
   "metadata": {
    "execution": {
     "iopub.execute_input": "2021-08-19T12:11:35.182481Z",
     "iopub.status.busy": "2021-08-19T12:11:35.181813Z",
     "iopub.status.idle": "2021-08-19T12:11:35.183680Z",
     "shell.execute_reply": "2021-08-19T12:11:35.184240Z"
    },
    "papermill": {
     "duration": 0.045401,
     "end_time": "2021-08-19T12:11:35.184393",
     "exception": false,
     "start_time": "2021-08-19T12:11:35.138992",
     "status": "completed"
    },
    "tags": []
   },
   "outputs": [],
   "source": [
    "#hide\n",
    "# g = g[cols]"
   ]
  },
  {
   "cell_type": "code",
   "execution_count": 31,
   "id": "subject-dublin",
   "metadata": {
    "execution": {
     "iopub.execute_input": "2021-08-19T12:11:35.268565Z",
     "iopub.status.busy": "2021-08-19T12:11:35.267905Z",
     "iopub.status.idle": "2021-08-19T12:11:35.269824Z",
     "shell.execute_reply": "2021-08-19T12:11:35.270439Z"
    },
    "papermill": {
     "duration": 0.046528,
     "end_time": "2021-08-19T12:11:35.270589",
     "exception": false,
     "start_time": "2021-08-19T12:11:35.224061",
     "status": "completed"
    },
    "tags": []
   },
   "outputs": [],
   "source": [
    "#hide\n",
    "# g['continent'] = g['continent'].map(mapping['map.continent'])"
   ]
  },
  {
   "cell_type": "code",
   "execution_count": 32,
   "id": "freelance-scout",
   "metadata": {
    "execution": {
     "iopub.execute_input": "2021-08-19T12:11:35.361402Z",
     "iopub.status.busy": "2021-08-19T12:11:35.360280Z",
     "iopub.status.idle": "2021-08-19T12:11:35.362743Z",
     "shell.execute_reply": "2021-08-19T12:11:35.363295Z"
    },
    "papermill": {
     "duration": 0.048774,
     "end_time": "2021-08-19T12:11:35.363476",
     "exception": false,
     "start_time": "2021-08-19T12:11:35.314702",
     "status": "completed"
    },
    "tags": []
   },
   "outputs": [],
   "source": [
    "#hide\n",
    "# g.head()"
   ]
  },
  {
   "cell_type": "code",
   "execution_count": 33,
   "id": "limited-engine",
   "metadata": {
    "execution": {
     "iopub.execute_input": "2021-08-19T12:11:35.454361Z",
     "iopub.status.busy": "2021-08-19T12:11:35.453041Z",
     "iopub.status.idle": "2021-08-19T12:11:35.455132Z",
     "shell.execute_reply": "2021-08-19T12:11:35.455680Z"
    },
    "papermill": {
     "duration": 0.051166,
     "end_time": "2021-08-19T12:11:35.455899",
     "exception": false,
     "start_time": "2021-08-19T12:11:35.404733",
     "status": "completed"
    },
    "tags": []
   },
   "outputs": [],
   "source": [
    "# hide\n",
    "# g['date'] = g['date'].astype('datetime64[ns]')"
   ]
  },
  {
   "cell_type": "code",
   "execution_count": 34,
   "id": "sophisticated-supervisor",
   "metadata": {
    "execution": {
     "iopub.execute_input": "2021-08-19T12:11:35.544179Z",
     "iopub.status.busy": "2021-08-19T12:11:35.543298Z",
     "iopub.status.idle": "2021-08-19T12:11:35.545149Z",
     "shell.execute_reply": "2021-08-19T12:11:35.545803Z"
    },
    "papermill": {
     "duration": 0.047777,
     "end_time": "2021-08-19T12:11:35.545979",
     "exception": false,
     "start_time": "2021-08-19T12:11:35.498202",
     "status": "completed"
    },
    "tags": []
   },
   "outputs": [],
   "source": [
    "#hide\n",
    "# g['date'] = g.date.dt.dayofyear"
   ]
  },
  {
   "cell_type": "code",
   "execution_count": 35,
   "id": "inside-dubai",
   "metadata": {
    "execution": {
     "iopub.execute_input": "2021-08-19T12:11:35.637207Z",
     "iopub.status.busy": "2021-08-19T12:11:35.636518Z",
     "iopub.status.idle": "2021-08-19T12:11:35.639621Z",
     "shell.execute_reply": "2021-08-19T12:11:35.639057Z"
    },
    "papermill": {
     "duration": 0.050006,
     "end_time": "2021-08-19T12:11:35.639765",
     "exception": false,
     "start_time": "2021-08-19T12:11:35.589759",
     "status": "completed"
    },
    "tags": []
   },
   "outputs": [],
   "source": [
    "#hide\n",
    "# g = g.rename(columns= {'continent':'group','country':'name','cases':'value'})"
   ]
  },
  {
   "cell_type": "code",
   "execution_count": 36,
   "id": "fleet-motorcycle",
   "metadata": {
    "execution": {
     "iopub.execute_input": "2021-08-19T12:11:35.724437Z",
     "iopub.status.busy": "2021-08-19T12:11:35.723752Z",
     "iopub.status.idle": "2021-08-19T12:11:35.725663Z",
     "shell.execute_reply": "2021-08-19T12:11:35.726235Z"
    },
    "papermill": {
     "duration": 0.04642,
     "end_time": "2021-08-19T12:11:35.726407",
     "exception": false,
     "start_time": "2021-08-19T12:11:35.679987",
     "status": "completed"
    },
    "tags": []
   },
   "outputs": [],
   "source": [
    "#hide\n",
    "# cols = ['name','group','day','value']"
   ]
  },
  {
   "cell_type": "code",
   "execution_count": 37,
   "id": "continued-sleeping",
   "metadata": {
    "execution": {
     "iopub.execute_input": "2021-08-19T12:11:35.812371Z",
     "iopub.status.busy": "2021-08-19T12:11:35.811693Z",
     "iopub.status.idle": "2021-08-19T12:11:35.813555Z",
     "shell.execute_reply": "2021-08-19T12:11:35.814154Z"
    },
    "papermill": {
     "duration": 0.046057,
     "end_time": "2021-08-19T12:11:35.814343",
     "exception": false,
     "start_time": "2021-08-19T12:11:35.768286",
     "status": "completed"
    },
    "tags": []
   },
   "outputs": [],
   "source": [
    "#hide\n",
    "# g.rename(columns= {'date':'day'},inplace = True)"
   ]
  },
  {
   "cell_type": "code",
   "execution_count": 38,
   "id": "major-fight",
   "metadata": {
    "execution": {
     "iopub.execute_input": "2021-08-19T12:11:35.915103Z",
     "iopub.status.busy": "2021-08-19T12:11:35.914423Z",
     "iopub.status.idle": "2021-08-19T12:11:35.916314Z",
     "shell.execute_reply": "2021-08-19T12:11:35.916926Z"
    },
    "papermill": {
     "duration": 0.061904,
     "end_time": "2021-08-19T12:11:35.917094",
     "exception": false,
     "start_time": "2021-08-19T12:11:35.855190",
     "status": "completed"
    },
    "tags": []
   },
   "outputs": [],
   "source": [
    "#hide\n",
    "# g = g[cols]"
   ]
  },
  {
   "cell_type": "code",
   "execution_count": 39,
   "id": "structured-mobile",
   "metadata": {
    "execution": {
     "iopub.execute_input": "2021-08-19T12:11:36.002998Z",
     "iopub.status.busy": "2021-08-19T12:11:36.002272Z",
     "iopub.status.idle": "2021-08-19T12:11:36.004217Z",
     "shell.execute_reply": "2021-08-19T12:11:36.004784Z"
    },
    "papermill": {
     "duration": 0.048148,
     "end_time": "2021-08-19T12:11:36.004949",
     "exception": false,
     "start_time": "2021-08-19T12:11:35.956801",
     "status": "completed"
    },
    "tags": []
   },
   "outputs": [],
   "source": [
    "# #hide\n",
    "# g = g[g.group.notna()]"
   ]
  },
  {
   "cell_type": "code",
   "execution_count": 40,
   "id": "determined-closing",
   "metadata": {
    "execution": {
     "iopub.execute_input": "2021-08-19T12:11:36.089780Z",
     "iopub.status.busy": "2021-08-19T12:11:36.089087Z",
     "iopub.status.idle": "2021-08-19T12:11:36.091863Z",
     "shell.execute_reply": "2021-08-19T12:11:36.090923Z"
    },
    "papermill": {
     "duration": 0.046062,
     "end_time": "2021-08-19T12:11:36.091999",
     "exception": false,
     "start_time": "2021-08-19T12:11:36.045937",
     "status": "completed"
    },
    "tags": []
   },
   "outputs": [],
   "source": [
    "# #hide\n",
    "# colors = dict(zip(\n",
    "#     [\"Oceania\", \"Europe\", \"Asia\", \"South America\", \"Middle East\", \"North America\", \"Africa\"],\n",
    "#     [\"#adb0ff\", \"#ffb3ff\", \"#90d595\", \"#e48381\", \"#aafbff\", \"#f7bb5f\", \"#eafb50\"]\n",
    "# ))\n",
    "# group_lk = g.set_index('name')['group'].to_dict()"
   ]
  },
  {
   "cell_type": "code",
   "execution_count": null,
   "id": "gross-drinking",
   "metadata": {
    "papermill": {
     "duration": 0.039471,
     "end_time": "2021-08-19T12:11:36.173424",
     "exception": false,
     "start_time": "2021-08-19T12:11:36.133953",
     "status": "completed"
    },
    "tags": []
   },
   "outputs": [],
   "source": []
  },
  {
   "cell_type": "code",
   "execution_count": 41,
   "id": "subject-macintosh",
   "metadata": {
    "execution": {
     "iopub.execute_input": "2021-08-19T12:11:36.263371Z",
     "iopub.status.busy": "2021-08-19T12:11:36.262586Z",
     "iopub.status.idle": "2021-08-19T12:11:36.264900Z",
     "shell.execute_reply": "2021-08-19T12:11:36.265455Z"
    },
    "papermill": {
     "duration": 0.05183,
     "end_time": "2021-08-19T12:11:36.265651",
     "exception": false,
     "start_time": "2021-08-19T12:11:36.213821",
     "status": "completed"
    },
    "tags": []
   },
   "outputs": [],
   "source": [
    "# #hide\n",
    "# fig, ax = plt.subplots(figsize=(15, 8))\n",
    "\n",
    "# def draw_barchart(current_day):\n",
    "#     dff = g[g['day'].eq(current_day)].sort_values(by='value', ascending=True).tail(10)\n",
    "#     ax.clear()\n",
    "#     ax.barh(dff['name'], dff['value'], color=[colors[group_lk[x]] for x in dff['name']])\n",
    "#     dx = dff['value'].max() / 200\n",
    "    \n",
    "#     for i, (value, name) in enumerate(zip(dff['value'], dff['name'])):\n",
    "#         ax.text(value-dx, i,     name,           size=14, weight=600, ha='right', va='bottom')\n",
    "#         ax.text(value-dx, i-.25, group_lk[name], size=10, color='#444444', ha='right', va='baseline')\n",
    "#         ax.text(value+dx, i,     f'{value:,.0f}',  size=14, ha='left',  va='center')\n",
    "#     ax.text(1, 0.4, current_day, transform=ax.transAxes, color='#777777', size=46, ha='right', weight=800)\n",
    "#     ax.text(0, 1.06, 'Population (thousands)', transform=ax.transAxes, size=12, color='#777777')\n",
    "#     ax.xaxis.set_major_formatter(ticker.StrMethodFormatter('{x:,.0f}'))\n",
    "#     ax.xaxis.set_ticks_position('top')\n",
    "#     ax.tick_params(axis='x', colors='#777777', labelsize=12)\n",
    "#     ax.set_yticks([])\n",
    "#     ax.margins(0, 0.01)\n",
    "#     ax.grid(which='major', axis='x', linestyle='-')\n",
    "#     ax.set_axisbelow(True)\n",
    "    \n",
    "#     ax.text(0, 1.15, 'Coronavirus',\n",
    "#             transform=ax.transAxes, size=24, weight=600, ha='left', va='top')\n",
    "# #     ax.text(1, 0, 'by @pratapvardhan; credit @jburnmurdoch', transform=ax.transAxes, color='#777777', ha='right',\n",
    "# #             bbox=dict(facecolor='white', alpha=0.8, edgecolor='white'))\n",
    "#     plt.box(False)"
   ]
  },
  {
   "cell_type": "code",
   "execution_count": 42,
   "id": "sexual-wages",
   "metadata": {
    "execution": {
     "iopub.execute_input": "2021-08-19T12:11:36.352709Z",
     "iopub.status.busy": "2021-08-19T12:11:36.352051Z",
     "iopub.status.idle": "2021-08-19T12:11:36.354141Z",
     "shell.execute_reply": "2021-08-19T12:11:36.354678Z"
    },
    "papermill": {
     "duration": 0.046675,
     "end_time": "2021-08-19T12:11:36.354837",
     "exception": false,
     "start_time": "2021-08-19T12:11:36.308162",
     "status": "completed"
    },
    "tags": []
   },
   "outputs": [],
   "source": [
    "# #hide_input\n",
    "# fig, ax = plt.subplots(figsize=(15, 8))\n",
    "# animator = animation.FuncAnimation(fig, draw_barchart, frames=range(g.day.values.min(), g.day.values.max()))\n",
    "# HTML(animator.to_jshtml())\n",
    "# # or use animator.to_html5_video() or animator.save() "
   ]
  },
  {
   "cell_type": "code",
   "execution_count": null,
   "id": "australian-container",
   "metadata": {
    "papermill": {
     "duration": 0.039704,
     "end_time": "2021-08-19T12:11:36.434605",
     "exception": false,
     "start_time": "2021-08-19T12:11:36.394901",
     "status": "completed"
    },
    "tags": []
   },
   "outputs": [],
   "source": []
  },
  {
   "cell_type": "code",
   "execution_count": null,
   "id": "mediterranean-pontiac",
   "metadata": {
    "papermill": {
     "duration": 0.040819,
     "end_time": "2021-08-19T12:11:36.516604",
     "exception": false,
     "start_time": "2021-08-19T12:11:36.475785",
     "status": "completed"
    },
    "tags": []
   },
   "outputs": [],
   "source": []
  },
  {
   "cell_type": "code",
   "execution_count": null,
   "id": "aging-legislature",
   "metadata": {
    "papermill": {
     "duration": 0.040118,
     "end_time": "2021-08-19T12:11:36.597693",
     "exception": false,
     "start_time": "2021-08-19T12:11:36.557575",
     "status": "completed"
    },
    "tags": []
   },
   "outputs": [],
   "source": []
  }
 ],
 "metadata": {
  "kernelspec": {
   "display_name": "Python 3",
   "language": "python",
   "name": "python3"
  },
  "language_info": {
   "codemirror_mode": {
    "name": "ipython",
    "version": 3
   },
   "file_extension": ".py",
   "mimetype": "text/x-python",
   "name": "python",
   "nbconvert_exporter": "python",
   "pygments_lexer": "ipython3",
   "version": "3.6.14"
  },
  "papermill": {
   "duration": 7.841811,
   "end_time": "2021-08-19T12:11:37.150202",
   "environment_variables": {},
   "exception": null,
   "input_path": "2020-03-21-covid19exp.ipynb",
   "output_path": "2020-03-21-covid19exp.ipynb",
   "parameters": {},
   "start_time": "2021-08-19T12:11:29.308391",
   "version": "2.0.0"
  }
 },
 "nbformat": 4,
 "nbformat_minor": 5
}