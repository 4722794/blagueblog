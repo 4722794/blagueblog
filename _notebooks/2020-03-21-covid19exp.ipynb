{
 "cells": [
  {
   "cell_type": "markdown",
   "id": "muslim-click",
   "metadata": {
    "papermill": {
     "duration": 0.035428,
     "end_time": "2022-10-03T00:52:53.559253",
     "exception": false,
     "start_time": "2022-10-03T00:52:53.523825",
     "status": "completed"
    },
    "tags": []
   },
   "source": [
    "# COVID-19 Case Race\n",
    "> A race chart to see rising cases around the world\n",
    "\n",
    "- author: Hargun Oberoi\n",
    "- image: images/covid-overview.png\n",
    "- hide: false\n",
    "- badges: false"
   ]
  },
  {
   "cell_type": "code",
   "execution_count": 1,
   "id": "proof-material",
   "metadata": {
    "execution": {
     "iopub.execute_input": "2022-10-03T00:52:53.629238Z",
     "iopub.status.busy": "2022-10-03T00:52:53.628661Z",
     "iopub.status.idle": "2022-10-03T00:52:53.937924Z",
     "shell.execute_reply": "2022-10-03T00:52:53.936950Z"
    },
    "papermill": {
     "duration": 0.348217,
     "end_time": "2022-10-03T00:52:53.938060",
     "exception": false,
     "start_time": "2022-10-03T00:52:53.589843",
     "status": "completed"
    },
    "tags": []
   },
   "outputs": [],
   "source": [
    "#hide\n",
    "import numpy as np\n",
    "import pandas as pd\n",
    "from jinja2 import Template\n",
    "from IPython.display import HTML"
   ]
  },
  {
   "cell_type": "code",
   "execution_count": 2,
   "id": "developed-terminology",
   "metadata": {
    "execution": {
     "iopub.execute_input": "2022-10-03T00:52:54.002435Z",
     "iopub.status.busy": "2022-10-03T00:52:54.001866Z",
     "iopub.status.idle": "2022-10-03T00:52:54.004079Z",
     "shell.execute_reply": "2022-10-03T00:52:54.003543Z"
    },
    "papermill": {
     "duration": 0.036079,
     "end_time": "2022-10-03T00:52:54.004182",
     "exception": false,
     "start_time": "2022-10-03T00:52:53.968103",
     "status": "completed"
    },
    "tags": []
   },
   "outputs": [],
   "source": [
    "#hide\n",
    "\n",
    "# FETCH\n",
    "base_url = 'https://raw.githubusercontent.com/pratapvardhan/notebooks/master/covid19/'\n",
    "paths = {\n",
    "    'mapping': base_url + 'mapping_countries.csv',\n",
    "    'overview': base_url + 'overview.tpl'\n",
    "}"
   ]
  },
  {
   "cell_type": "code",
   "execution_count": 3,
   "id": "dynamic-saver",
   "metadata": {
    "execution": {
     "iopub.execute_input": "2022-10-03T00:52:54.071999Z",
     "iopub.status.busy": "2022-10-03T00:52:54.071431Z",
     "iopub.status.idle": "2022-10-03T00:52:54.074868Z",
     "shell.execute_reply": "2022-10-03T00:52:54.074424Z"
    },
    "papermill": {
     "duration": 0.041255,
     "end_time": "2022-10-03T00:52:54.074964",
     "exception": false,
     "start_time": "2022-10-03T00:52:54.033709",
     "status": "completed"
    },
    "tags": []
   },
   "outputs": [
    {
     "data": {
      "text/plain": [
       "'https://raw.githubusercontent.com/pratapvardhan/notebooks/master/covid19/mapping_countries.csv'"
      ]
     },
     "execution_count": 3,
     "metadata": {},
     "output_type": "execute_result"
    }
   ],
   "source": [
    "#hide\n",
    "paths['mapping']"
   ]
  },
  {
   "cell_type": "code",
   "execution_count": 4,
   "id": "urban-software",
   "metadata": {
    "execution": {
     "iopub.execute_input": "2022-10-03T00:52:54.139777Z",
     "iopub.status.busy": "2022-10-03T00:52:54.139194Z",
     "iopub.status.idle": "2022-10-03T00:52:54.141237Z",
     "shell.execute_reply": "2022-10-03T00:52:54.141650Z"
    },
    "papermill": {
     "duration": 0.036861,
     "end_time": "2022-10-03T00:52:54.141763",
     "exception": false,
     "start_time": "2022-10-03T00:52:54.104902",
     "status": "completed"
    },
    "tags": []
   },
   "outputs": [],
   "source": [
    "#hide\n",
    "def get_mappings(url):\n",
    "    df = pd.read_csv(url)\n",
    "    return {\n",
    "        'df': df,\n",
    "        'replace.country': dict(df.dropna(subset=['Name']).set_index('Country')['Name']),\n",
    "        'map.continent': dict(df.set_index('Name')['Continent'])\n",
    "    }"
   ]
  },
  {
   "cell_type": "code",
   "execution_count": 5,
   "id": "intimate-machinery",
   "metadata": {
    "execution": {
     "iopub.execute_input": "2022-10-03T00:52:54.206616Z",
     "iopub.status.busy": "2022-10-03T00:52:54.206051Z",
     "iopub.status.idle": "2022-10-03T00:52:54.242235Z",
     "shell.execute_reply": "2022-10-03T00:52:54.242704Z"
    },
    "papermill": {
     "duration": 0.071072,
     "end_time": "2022-10-03T00:52:54.242820",
     "exception": false,
     "start_time": "2022-10-03T00:52:54.171748",
     "status": "completed"
    },
    "tags": []
   },
   "outputs": [],
   "source": [
    "#hide\n",
    "mapping = get_mappings(paths['mapping'])"
   ]
  },
  {
   "cell_type": "code",
   "execution_count": 6,
   "id": "certified-tactics",
   "metadata": {
    "execution": {
     "iopub.execute_input": "2022-10-03T00:52:54.307901Z",
     "iopub.status.busy": "2022-10-03T00:52:54.307321Z",
     "iopub.status.idle": "2022-10-03T00:52:54.309680Z",
     "shell.execute_reply": "2022-10-03T00:52:54.309142Z"
    },
    "papermill": {
     "duration": 0.036913,
     "end_time": "2022-10-03T00:52:54.309775",
     "exception": false,
     "start_time": "2022-10-03T00:52:54.272862",
     "status": "completed"
    },
    "tags": []
   },
   "outputs": [],
   "source": [
    "#hide\n",
    "def get_template(path):\n",
    "    from urllib.parse import urlparse\n",
    "    if bool(urlparse(path).netloc):\n",
    "        from urllib.request import urlopen\n",
    "        return urlopen(path).read().decode('utf8')\n",
    "    return open(path).read()"
   ]
  },
  {
   "cell_type": "code",
   "execution_count": 7,
   "id": "realistic-blast",
   "metadata": {
    "execution": {
     "iopub.execute_input": "2022-10-03T00:52:54.373961Z",
     "iopub.status.busy": "2022-10-03T00:52:54.373401Z",
     "iopub.status.idle": "2022-10-03T00:52:54.377417Z",
     "shell.execute_reply": "2022-10-03T00:52:54.376951Z"
    },
    "papermill": {
     "duration": 0.037829,
     "end_time": "2022-10-03T00:52:54.377516",
     "exception": false,
     "start_time": "2022-10-03T00:52:54.339687",
     "status": "completed"
    },
    "tags": []
   },
   "outputs": [],
   "source": [
    "#hide\n",
    "def get_frame(name):\n",
    "    url = (\n",
    "        'https://raw.githubusercontent.com/CSSEGISandData/COVID-19/master/csse_covid_19_data/'\n",
    "        f'csse_covid_19_time_series/time_series_covid19_{name}_global.csv')\n",
    "    df = pd.read_csv(url)\n",
    "    # rename countries\n",
    "    df['Country/Region'] = df['Country/Region'].replace(mapping['replace.country'])\n",
    "    return df"
   ]
  },
  {
   "cell_type": "code",
   "execution_count": 8,
   "id": "affiliated-characterization",
   "metadata": {
    "execution": {
     "iopub.execute_input": "2022-10-03T00:52:54.442707Z",
     "iopub.status.busy": "2022-10-03T00:52:54.442150Z",
     "iopub.status.idle": "2022-10-03T00:52:54.444388Z",
     "shell.execute_reply": "2022-10-03T00:52:54.444808Z"
    },
    "papermill": {
     "duration": 0.037352,
     "end_time": "2022-10-03T00:52:54.444915",
     "exception": false,
     "start_time": "2022-10-03T00:52:54.407563",
     "status": "completed"
    },
    "tags": []
   },
   "outputs": [],
   "source": [
    "#hide\n",
    "def get_dates(df):\n",
    "    dt_cols = df.columns[~df.columns.isin(['Province/State', 'Country/Region', 'Lat', 'Long'])]\n",
    "    LAST_DATE_I = -1\n",
    "    # sometimes last column may be empty, then go backwards\n",
    "    for i in range(-1, -len(dt_cols), -1):\n",
    "        if not df[dt_cols[i]].fillna(0).eq(0).all():\n",
    "            LAST_DATE_I = i\n",
    "            break\n",
    "    return LAST_DATE_I, dt_cols"
   ]
  },
  {
   "cell_type": "code",
   "execution_count": 9,
   "id": "recent-optimization",
   "metadata": {
    "execution": {
     "iopub.execute_input": "2022-10-03T00:52:54.509099Z",
     "iopub.status.busy": "2022-10-03T00:52:54.508541Z",
     "iopub.status.idle": "2022-10-03T00:52:54.971979Z",
     "shell.execute_reply": "2022-10-03T00:52:54.971466Z"
    },
    "papermill": {
     "duration": 0.497411,
     "end_time": "2022-10-03T00:52:54.972091",
     "exception": false,
     "start_time": "2022-10-03T00:52:54.474680",
     "status": "completed"
    },
    "tags": []
   },
   "outputs": [],
   "source": [
    "#hide\n",
    "COL_REGION = 'Country/Region'\n",
    "# Confirmed, Recovered, Deaths\n",
    "df = get_frame('confirmed')\n",
    "# dft_: timeseries, dfc_: today country agg\n",
    "dft_cases = df\n",
    "dft_deaths = get_frame('deaths')\n",
    "dft_recovered = get_frame('recovered')\n",
    "LAST_DATE_I, dt_cols = get_dates(df)"
   ]
  },
  {
   "cell_type": "code",
   "execution_count": 10,
   "id": "absolute-copper",
   "metadata": {
    "execution": {
     "iopub.execute_input": "2022-10-03T00:52:55.037448Z",
     "iopub.status.busy": "2022-10-03T00:52:55.036866Z",
     "iopub.status.idle": "2022-10-03T00:52:55.040868Z",
     "shell.execute_reply": "2022-10-03T00:52:55.040428Z"
    },
    "papermill": {
     "duration": 0.038627,
     "end_time": "2022-10-03T00:52:55.040972",
     "exception": false,
     "start_time": "2022-10-03T00:52:55.002345",
     "status": "completed"
    },
    "tags": []
   },
   "outputs": [],
   "source": [
    "#hide\n",
    "LAST_DATE_I, dt_cols = get_dates(df)\n",
    "dt_today =dt_cols[LAST_DATE_I]\n",
    "# dt_5day = dt_cols[LAST_DATE_I - 5]\n",
    "dt_yday = dt_cols[LAST_DATE_I - 1]"
   ]
  },
  {
   "cell_type": "code",
   "execution_count": 11,
   "id": "restricted-sheriff",
   "metadata": {
    "execution": {
     "iopub.execute_input": "2022-10-03T00:52:55.110315Z",
     "iopub.status.busy": "2022-10-03T00:52:55.106645Z",
     "iopub.status.idle": "2022-10-03T00:52:55.112754Z",
     "shell.execute_reply": "2022-10-03T00:52:55.112220Z"
    },
    "papermill": {
     "duration": 0.041931,
     "end_time": "2022-10-03T00:52:55.112852",
     "exception": false,
     "start_time": "2022-10-03T00:52:55.070921",
     "status": "completed"
    },
    "tags": []
   },
   "outputs": [],
   "source": [
    "#hide\n",
    "dfc_cases = dft_cases.groupby(COL_REGION)[dt_today].sum()\n",
    "dfc_deaths = dft_deaths.groupby(COL_REGION)[dt_today].sum()\n",
    "# dfp_cases = dft_cases.groupby(COL_REGION)[dt_5day].sum()\n",
    "# dfp_deaths = dft_deaths.groupby(COL_REGION)[dt_5day].sum()\n",
    "dfp_cases = dft_cases.groupby(COL_REGION)[dt_yday].sum()\n",
    "dfp_deaths = dft_deaths.groupby(COL_REGION)[dt_yday].sum()"
   ]
  },
  {
   "cell_type": "code",
   "execution_count": 12,
   "id": "deluxe-hepatitis",
   "metadata": {
    "execution": {
     "iopub.execute_input": "2022-10-03T00:52:55.179506Z",
     "iopub.status.busy": "2022-10-03T00:52:55.177576Z",
     "iopub.status.idle": "2022-10-03T00:52:55.182066Z",
     "shell.execute_reply": "2022-10-03T00:52:55.181615Z"
    },
    "papermill": {
     "duration": 0.039313,
     "end_time": "2022-10-03T00:52:55.182163",
     "exception": false,
     "start_time": "2022-10-03T00:52:55.142850",
     "status": "completed"
    },
    "tags": []
   },
   "outputs": [],
   "source": [
    "#hide\n",
    "df_table = (pd.DataFrame(dict(Cases = dfc_cases, Deaths = dfc_deaths, PCases = dfp_cases, PDeaths = dfp_deaths))\n",
    "            .sort_values(by = ['Cases','Deaths'], ascending = [False, False])\n",
    "            .reset_index())"
   ]
  },
  {
   "cell_type": "code",
   "execution_count": 13,
   "id": "educational-chancellor",
   "metadata": {
    "execution": {
     "iopub.execute_input": "2022-10-03T00:52:55.258117Z",
     "iopub.status.busy": "2022-10-03T00:52:55.257560Z",
     "iopub.status.idle": "2022-10-03T00:52:55.265375Z",
     "shell.execute_reply": "2022-10-03T00:52:55.264928Z"
    },
    "papermill": {
     "duration": 0.053535,
     "end_time": "2022-10-03T00:52:55.265472",
     "exception": false,
     "start_time": "2022-10-03T00:52:55.211937",
     "status": "completed"
    },
    "tags": []
   },
   "outputs": [
    {
     "data": {
      "text/html": [
       "<div>\n",
       "<style scoped>\n",
       "    .dataframe tbody tr th:only-of-type {\n",
       "        vertical-align: middle;\n",
       "    }\n",
       "\n",
       "    .dataframe tbody tr th {\n",
       "        vertical-align: top;\n",
       "    }\n",
       "\n",
       "    .dataframe thead th {\n",
       "        text-align: right;\n",
       "    }\n",
       "</style>\n",
       "<table border=\"1\" class=\"dataframe\">\n",
       "  <thead>\n",
       "    <tr style=\"text-align: right;\">\n",
       "      <th></th>\n",
       "      <th>Country/Region</th>\n",
       "      <th>Cases</th>\n",
       "      <th>Deaths</th>\n",
       "      <th>PCases</th>\n",
       "      <th>PDeaths</th>\n",
       "      <th>Cases (+)</th>\n",
       "      <th>Deaths (+)</th>\n",
       "      <th>Fatality Rate</th>\n",
       "      <th>Continent</th>\n",
       "    </tr>\n",
       "  </thead>\n",
       "  <tbody>\n",
       "    <tr>\n",
       "      <th>0</th>\n",
       "      <td>US</td>\n",
       "      <td>96392543</td>\n",
       "      <td>1059605</td>\n",
       "      <td>96385048</td>\n",
       "      <td>1059579</td>\n",
       "      <td>7495</td>\n",
       "      <td>26</td>\n",
       "      <td>1.10</td>\n",
       "      <td>North America</td>\n",
       "    </tr>\n",
       "    <tr>\n",
       "      <th>1</th>\n",
       "      <td>India</td>\n",
       "      <td>44594487</td>\n",
       "      <td>528673</td>\n",
       "      <td>44591112</td>\n",
       "      <td>528655</td>\n",
       "      <td>3375</td>\n",
       "      <td>18</td>\n",
       "      <td>1.19</td>\n",
       "      <td>Asia</td>\n",
       "    </tr>\n",
       "    <tr>\n",
       "      <th>2</th>\n",
       "      <td>France</td>\n",
       "      <td>35608285</td>\n",
       "      <td>156152</td>\n",
       "      <td>35608285</td>\n",
       "      <td>156152</td>\n",
       "      <td>0</td>\n",
       "      <td>0</td>\n",
       "      <td>0.44</td>\n",
       "      <td>Europe</td>\n",
       "    </tr>\n",
       "    <tr>\n",
       "      <th>3</th>\n",
       "      <td>Brazil</td>\n",
       "      <td>34672524</td>\n",
       "      <td>686036</td>\n",
       "      <td>34672524</td>\n",
       "      <td>686036</td>\n",
       "      <td>0</td>\n",
       "      <td>0</td>\n",
       "      <td>1.98</td>\n",
       "      <td>South America</td>\n",
       "    </tr>\n",
       "    <tr>\n",
       "      <th>4</th>\n",
       "      <td>Germany</td>\n",
       "      <td>33386229</td>\n",
       "      <td>150064</td>\n",
       "      <td>33386229</td>\n",
       "      <td>150064</td>\n",
       "      <td>0</td>\n",
       "      <td>0</td>\n",
       "      <td>0.45</td>\n",
       "      <td>Europe</td>\n",
       "    </tr>\n",
       "  </tbody>\n",
       "</table>\n",
       "</div>"
      ],
      "text/plain": [
       "  Country/Region     Cases   Deaths    PCases  PDeaths  Cases (+)  Deaths (+)  \\\n",
       "0             US  96392543  1059605  96385048  1059579       7495          26   \n",
       "1          India  44594487   528673  44591112   528655       3375          18   \n",
       "2         France  35608285   156152  35608285   156152          0           0   \n",
       "3         Brazil  34672524   686036  34672524   686036          0           0   \n",
       "4        Germany  33386229   150064  33386229   150064          0           0   \n",
       "\n",
       "   Fatality Rate      Continent  \n",
       "0           1.10  North America  \n",
       "1           1.19           Asia  \n",
       "2           0.44         Europe  \n",
       "3           1.98  South America  \n",
       "4           0.45         Europe  "
      ]
     },
     "execution_count": 13,
     "metadata": {},
     "output_type": "execute_result"
    }
   ],
   "source": [
    "#hide\n",
    "for c in 'Cases, Deaths'.split(', '):\n",
    "    df_table[f'{c} (+)'] = (df_table[c] - df_table[f'P{c}']).clip(0)\n",
    "    #Clip ça veut dire, les chiffres negatif sont interdit\n",
    "df_table['Fatality Rate'] = (100* df_table['Deaths']/ df_table['Cases']).round(2)\n",
    "df_table['Continent'] = df_table['Country/Region'].map(mapping['map.continent'])\n",
    "df_table.head(5)"
   ]
  },
  {
   "cell_type": "code",
   "execution_count": 14,
   "id": "aboriginal-bulgaria",
   "metadata": {
    "execution": {
     "iopub.execute_input": "2022-10-03T00:52:55.331094Z",
     "iopub.status.busy": "2022-10-03T00:52:55.330526Z",
     "iopub.status.idle": "2022-10-03T00:52:55.332992Z",
     "shell.execute_reply": "2022-10-03T00:52:55.332468Z"
    },
    "papermill": {
     "duration": 0.037221,
     "end_time": "2022-10-03T00:52:55.333089",
     "exception": false,
     "start_time": "2022-10-03T00:52:55.295868",
     "status": "completed"
    },
    "tags": []
   },
   "outputs": [],
   "source": [
    "#hide\n",
    "#delete problematic countries from table\n",
    "df_table = df_table[~df_table['Country/Region'].isin(['Cape Verde', 'Cruise Ship', 'Kosovo'])]"
   ]
  },
  {
   "cell_type": "code",
   "execution_count": 15,
   "id": "fantastic-effect",
   "metadata": {
    "execution": {
     "iopub.execute_input": "2022-10-03T00:52:55.400777Z",
     "iopub.status.busy": "2022-10-03T00:52:55.400209Z",
     "iopub.status.idle": "2022-10-03T00:52:55.417484Z",
     "shell.execute_reply": "2022-10-03T00:52:55.416943Z"
    },
    "papermill": {
     "duration": 0.054225,
     "end_time": "2022-10-03T00:52:55.417584",
     "exception": false,
     "start_time": "2022-10-03T00:52:55.363359",
     "status": "completed"
    },
    "tags": []
   },
   "outputs": [
    {
     "data": {
      "text/html": [
       "<div>\n",
       "<style scoped>\n",
       "    .dataframe tbody tr th:only-of-type {\n",
       "        vertical-align: middle;\n",
       "    }\n",
       "\n",
       "    .dataframe tbody tr th {\n",
       "        vertical-align: top;\n",
       "    }\n",
       "\n",
       "    .dataframe thead th {\n",
       "        text-align: right;\n",
       "    }\n",
       "</style>\n",
       "<table border=\"1\" class=\"dataframe\">\n",
       "  <thead>\n",
       "    <tr style=\"text-align: right;\">\n",
       "      <th></th>\n",
       "      <th>Country/Region</th>\n",
       "      <th>Cases</th>\n",
       "      <th>Deaths</th>\n",
       "      <th>PCases</th>\n",
       "      <th>PDeaths</th>\n",
       "      <th>Cases (+)</th>\n",
       "      <th>Deaths (+)</th>\n",
       "      <th>Fatality Rate</th>\n",
       "      <th>Continent</th>\n",
       "    </tr>\n",
       "  </thead>\n",
       "  <tbody>\n",
       "    <tr>\n",
       "      <th>0</th>\n",
       "      <td>US</td>\n",
       "      <td>96392543</td>\n",
       "      <td>1059605</td>\n",
       "      <td>96385048</td>\n",
       "      <td>1059579</td>\n",
       "      <td>7495</td>\n",
       "      <td>26</td>\n",
       "      <td>1.1</td>\n",
       "      <td>North America</td>\n",
       "    </tr>\n",
       "    <tr>\n",
       "      <th>1</th>\n",
       "      <td>India</td>\n",
       "      <td>44594487</td>\n",
       "      <td>528673</td>\n",
       "      <td>44591112</td>\n",
       "      <td>528655</td>\n",
       "      <td>3375</td>\n",
       "      <td>18</td>\n",
       "      <td>1.2</td>\n",
       "      <td>Asia</td>\n",
       "    </tr>\n",
       "    <tr>\n",
       "      <th>2</th>\n",
       "      <td>France</td>\n",
       "      <td>35608285</td>\n",
       "      <td>156152</td>\n",
       "      <td>35608285</td>\n",
       "      <td>156152</td>\n",
       "      <td>0</td>\n",
       "      <td>0</td>\n",
       "      <td>0.4</td>\n",
       "      <td>Europe</td>\n",
       "    </tr>\n",
       "    <tr>\n",
       "      <th>3</th>\n",
       "      <td>Brazil</td>\n",
       "      <td>34672524</td>\n",
       "      <td>686036</td>\n",
       "      <td>34672524</td>\n",
       "      <td>686036</td>\n",
       "      <td>0</td>\n",
       "      <td>0</td>\n",
       "      <td>2.0</td>\n",
       "      <td>South America</td>\n",
       "    </tr>\n",
       "    <tr>\n",
       "      <th>4</th>\n",
       "      <td>Germany</td>\n",
       "      <td>33386229</td>\n",
       "      <td>150064</td>\n",
       "      <td>33386229</td>\n",
       "      <td>150064</td>\n",
       "      <td>0</td>\n",
       "      <td>0</td>\n",
       "      <td>0.4</td>\n",
       "      <td>Europe</td>\n",
       "    </tr>\n",
       "  </tbody>\n",
       "</table>\n",
       "</div>"
      ],
      "text/plain": [
       "  Country/Region     Cases   Deaths    PCases  PDeaths  Cases (+)  Deaths (+)  \\\n",
       "0             US  96392543  1059605  96385048  1059579       7495          26   \n",
       "1          India  44594487   528673  44591112   528655       3375          18   \n",
       "2         France  35608285   156152  35608285   156152          0           0   \n",
       "3         Brazil  34672524   686036  34672524   686036          0           0   \n",
       "4        Germany  33386229   150064  33386229   150064          0           0   \n",
       "\n",
       "   Fatality Rate      Continent  \n",
       "0            1.1  North America  \n",
       "1            1.2           Asia  \n",
       "2            0.4         Europe  \n",
       "3            2.0  South America  \n",
       "4            0.4         Europe  "
      ]
     },
     "execution_count": 15,
     "metadata": {},
     "output_type": "execute_result"
    }
   ],
   "source": [
    "#hide\n",
    "df_table = (pd.DataFrame(dict(Cases=dfc_cases, Deaths=dfc_deaths, PCases=dfp_cases, PDeaths=dfp_deaths))\n",
    "             .sort_values(by=['Cases', 'Deaths'], ascending=[False, False])\n",
    "             .reset_index())\n",
    "df_table.rename(columns={'index': 'Country/Region'}, inplace=True)\n",
    "for c in 'Cases, Deaths'.split(', '):\n",
    "    df_table[f'{c} (+)'] = (df_table[c] - df_table[f'P{c}']).clip(0)  # DATA BUG\n",
    "df_table['Fatality Rate'] = (100 * df_table['Deaths'] / df_table['Cases']).round(1)\n",
    "df_table['Continent'] = df_table['Country/Region'].map(mapping['map.continent'])\n",
    "df_table.head(5)"
   ]
  },
  {
   "cell_type": "code",
   "execution_count": 16,
   "id": "fewer-occasion",
   "metadata": {
    "execution": {
     "iopub.execute_input": "2022-10-03T00:52:55.484541Z",
     "iopub.status.busy": "2022-10-03T00:52:55.483995Z",
     "iopub.status.idle": "2022-10-03T00:52:55.486707Z",
     "shell.execute_reply": "2022-10-03T00:52:55.486272Z"
    },
    "papermill": {
     "duration": 0.038244,
     "end_time": "2022-10-03T00:52:55.486800",
     "exception": false,
     "start_time": "2022-10-03T00:52:55.448556",
     "status": "completed"
    },
    "tags": []
   },
   "outputs": [],
   "source": [
    "#hide\n",
    "#delete problematic countries from table\n",
    "df_table = df_table[~df_table['Country/Region'].isin(['Cape Verde', 'Cruise Ship', 'Kosovo'])]"
   ]
  },
  {
   "cell_type": "code",
   "execution_count": 17,
   "id": "related-center",
   "metadata": {
    "execution": {
     "iopub.execute_input": "2022-10-03T00:52:55.554984Z",
     "iopub.status.busy": "2022-10-03T00:52:55.554412Z",
     "iopub.status.idle": "2022-10-03T00:52:55.567622Z",
     "shell.execute_reply": "2022-10-03T00:52:55.567162Z"
    },
    "papermill": {
     "duration": 0.05011,
     "end_time": "2022-10-03T00:52:55.567725",
     "exception": false,
     "start_time": "2022-10-03T00:52:55.517615",
     "status": "completed"
    },
    "tags": []
   },
   "outputs": [],
   "source": [
    "#hide\n",
    "metrics = [df_table.columns[index] for index in [1,2,5,6]]\n",
    "# s_china = df_table[df_table['Country/Region'].eq('China')][metrics].sum().add_prefix('China ')\n",
    "s_us = df_table[df_table['Country/Region'].eq('US')][metrics].sum().add_prefix('US ')\n",
    "s_eu = df_table[df_table['Continent'].eq('Europe')][metrics].sum().add_prefix('EU ')\n",
    "s_ind = df_table[df_table['Country/Region'].eq('India')][metrics].sum().add_prefix('India ')\n",
    "summary = {'updated': pd.to_datetime(dt_today), 'since': pd.to_datetime(dt_yday)}\n",
    "summary = {'updated': pd.to_datetime(dt_today), 'since': pd.to_datetime(dt_yday)}\n",
    "summary = {**summary, **df_table[metrics].sum(), **s_ind, **s_us, **s_eu}"
   ]
  },
  {
   "cell_type": "code",
   "execution_count": 18,
   "id": "engaging-syndrome",
   "metadata": {
    "execution": {
     "iopub.execute_input": "2022-10-03T00:52:55.634684Z",
     "iopub.status.busy": "2022-10-03T00:52:55.634120Z",
     "iopub.status.idle": "2022-10-03T00:52:55.652934Z",
     "shell.execute_reply": "2022-10-03T00:52:55.652499Z"
    },
    "papermill": {
     "duration": 0.054324,
     "end_time": "2022-10-03T00:52:55.653044",
     "exception": false,
     "start_time": "2022-10-03T00:52:55.598720",
     "status": "completed"
    },
    "tags": []
   },
   "outputs": [],
   "source": [
    "#hide\n",
    "dft_ct_new_cases = dft_cases.groupby(COL_REGION)[dt_cols].sum().diff(axis=1).fillna(0).astype(int)"
   ]
  },
  {
   "cell_type": "code",
   "execution_count": 19,
   "id": "neutral-assignment",
   "metadata": {
    "execution": {
     "iopub.execute_input": "2022-10-03T00:52:55.720760Z",
     "iopub.status.busy": "2022-10-03T00:52:55.720186Z",
     "iopub.status.idle": "2022-10-03T00:52:55.722691Z",
     "shell.execute_reply": "2022-10-03T00:52:55.722262Z"
    },
    "papermill": {
     "duration": 0.038795,
     "end_time": "2022-10-03T00:52:55.722792",
     "exception": false,
     "start_time": "2022-10-03T00:52:55.683997",
     "status": "completed"
    },
    "tags": []
   },
   "outputs": [],
   "source": [
    "#hide\n",
    "everydaycases = dft_ct_new_cases.cumsum(axis=1)"
   ]
  },
  {
   "cell_type": "code",
   "execution_count": 20,
   "id": "parliamentary-calgary",
   "metadata": {
    "execution": {
     "iopub.execute_input": "2022-10-03T00:52:55.789025Z",
     "iopub.status.busy": "2022-10-03T00:52:55.788463Z",
     "iopub.status.idle": "2022-10-03T00:52:56.328870Z",
     "shell.execute_reply": "2022-10-03T00:52:56.328037Z"
    },
    "papermill": {
     "duration": 0.57527,
     "end_time": "2022-10-03T00:52:56.328986",
     "exception": false,
     "start_time": "2022-10-03T00:52:55.753716",
     "status": "completed"
    },
    "tags": []
   },
   "outputs": [],
   "source": [
    "#hide\n",
    "import pandas as pd\n",
    "import matplotlib.pyplot as plt\n",
    "import matplotlib.ticker as ticker\n",
    "import matplotlib.animation as animation\n",
    "from IPython.display import HTML"
   ]
  },
  {
   "cell_type": "code",
   "execution_count": 21,
   "id": "lasting-extraction",
   "metadata": {
    "execution": {
     "iopub.execute_input": "2022-10-03T00:52:56.397045Z",
     "iopub.status.busy": "2022-10-03T00:52:56.396466Z",
     "iopub.status.idle": "2022-10-03T00:52:56.402989Z",
     "shell.execute_reply": "2022-10-03T00:52:56.403455Z"
    },
    "papermill": {
     "duration": 0.043611,
     "end_time": "2022-10-03T00:52:56.403573",
     "exception": false,
     "start_time": "2022-10-03T00:52:56.359962",
     "status": "completed"
    },
    "tags": []
   },
   "outputs": [],
   "source": [
    "#hide\n",
    "t = everydaycases.stack()"
   ]
  },
  {
   "cell_type": "code",
   "execution_count": 22,
   "id": "premier-sleeve",
   "metadata": {
    "execution": {
     "iopub.execute_input": "2022-10-03T00:52:56.469310Z",
     "iopub.status.busy": "2022-10-03T00:52:56.468749Z",
     "iopub.status.idle": "2022-10-03T00:52:56.480359Z",
     "shell.execute_reply": "2022-10-03T00:52:56.479817Z"
    },
    "papermill": {
     "duration": 0.045921,
     "end_time": "2022-10-03T00:52:56.480460",
     "exception": false,
     "start_time": "2022-10-03T00:52:56.434539",
     "status": "completed"
    },
    "tags": []
   },
   "outputs": [],
   "source": [
    "#hide\n",
    "g = t.reset_index(['Country/Region'])"
   ]
  },
  {
   "cell_type": "code",
   "execution_count": 23,
   "id": "distributed-pittsburgh",
   "metadata": {
    "execution": {
     "iopub.execute_input": "2022-10-03T00:52:56.545595Z",
     "iopub.status.busy": "2022-10-03T00:52:56.545033Z",
     "iopub.status.idle": "2022-10-03T00:52:56.547529Z",
     "shell.execute_reply": "2022-10-03T00:52:56.546979Z"
    },
    "papermill": {
     "duration": 0.036313,
     "end_time": "2022-10-03T00:52:56.547626",
     "exception": false,
     "start_time": "2022-10-03T00:52:56.511313",
     "status": "completed"
    },
    "tags": []
   },
   "outputs": [],
   "source": [
    "#hide\n",
    "g.index.name = 'date'"
   ]
  },
  {
   "cell_type": "code",
   "execution_count": 24,
   "id": "naked-donor",
   "metadata": {
    "execution": {
     "iopub.execute_input": "2022-10-03T00:52:56.612983Z",
     "iopub.status.busy": "2022-10-03T00:52:56.612402Z",
     "iopub.status.idle": "2022-10-03T00:52:56.614440Z",
     "shell.execute_reply": "2022-10-03T00:52:56.614841Z"
    },
    "papermill": {
     "duration": 0.036478,
     "end_time": "2022-10-03T00:52:56.614954",
     "exception": false,
     "start_time": "2022-10-03T00:52:56.578476",
     "status": "completed"
    },
    "tags": []
   },
   "outputs": [],
   "source": [
    "# #hide\n",
    "# g = g.reset_index(['date'])"
   ]
  },
  {
   "cell_type": "code",
   "execution_count": 25,
   "id": "incomplete-mustang",
   "metadata": {
    "execution": {
     "iopub.execute_input": "2022-10-03T00:52:56.680114Z",
     "iopub.status.busy": "2022-10-03T00:52:56.679549Z",
     "iopub.status.idle": "2022-10-03T00:52:56.681569Z",
     "shell.execute_reply": "2022-10-03T00:52:56.681966Z"
    },
    "papermill": {
     "duration": 0.036108,
     "end_time": "2022-10-03T00:52:56.682079",
     "exception": false,
     "start_time": "2022-10-03T00:52:56.645971",
     "status": "completed"
    },
    "tags": []
   },
   "outputs": [],
   "source": [
    "#hide\n",
    "# g.head()"
   ]
  },
  {
   "cell_type": "code",
   "execution_count": 26,
   "id": "specific-kruger",
   "metadata": {
    "execution": {
     "iopub.execute_input": "2022-10-03T00:52:56.747592Z",
     "iopub.status.busy": "2022-10-03T00:52:56.746987Z",
     "iopub.status.idle": "2022-10-03T00:52:56.749445Z",
     "shell.execute_reply": "2022-10-03T00:52:56.748996Z"
    },
    "papermill": {
     "duration": 0.036405,
     "end_time": "2022-10-03T00:52:56.749543",
     "exception": false,
     "start_time": "2022-10-03T00:52:56.713138",
     "status": "completed"
    },
    "tags": []
   },
   "outputs": [],
   "source": [
    "#hide\n",
    "# g.columns = ['date','country','cases']"
   ]
  },
  {
   "cell_type": "code",
   "execution_count": 27,
   "id": "tender-conversion",
   "metadata": {
    "execution": {
     "iopub.execute_input": "2022-10-03T00:52:56.814930Z",
     "iopub.status.busy": "2022-10-03T00:52:56.814358Z",
     "iopub.status.idle": "2022-10-03T00:52:56.816609Z",
     "shell.execute_reply": "2022-10-03T00:52:56.817023Z"
    },
    "papermill": {
     "duration": 0.036761,
     "end_time": "2022-10-03T00:52:56.817141",
     "exception": false,
     "start_time": "2022-10-03T00:52:56.780380",
     "status": "completed"
    },
    "tags": []
   },
   "outputs": [],
   "source": [
    "#hide\n",
    "# g['continent'] = g.country"
   ]
  },
  {
   "cell_type": "code",
   "execution_count": 28,
   "id": "substantial-wilderness",
   "metadata": {
    "execution": {
     "iopub.execute_input": "2022-10-03T00:52:56.886313Z",
     "iopub.status.busy": "2022-10-03T00:52:56.885074Z",
     "iopub.status.idle": "2022-10-03T00:52:56.887465Z",
     "shell.execute_reply": "2022-10-03T00:52:56.886929Z"
    },
    "papermill": {
     "duration": 0.037226,
     "end_time": "2022-10-03T00:52:56.887565",
     "exception": false,
     "start_time": "2022-10-03T00:52:56.850339",
     "status": "completed"
    },
    "tags": []
   },
   "outputs": [],
   "source": [
    "#hide\n",
    "# cols = list(g.columns.values)"
   ]
  },
  {
   "cell_type": "code",
   "execution_count": 29,
   "id": "solved-farming",
   "metadata": {
    "execution": {
     "iopub.execute_input": "2022-10-03T00:52:56.970161Z",
     "iopub.status.busy": "2022-10-03T00:52:56.969576Z",
     "iopub.status.idle": "2022-10-03T00:52:56.971802Z",
     "shell.execute_reply": "2022-10-03T00:52:56.972237Z"
    },
    "papermill": {
     "duration": 0.05362,
     "end_time": "2022-10-03T00:52:56.972363",
     "exception": false,
     "start_time": "2022-10-03T00:52:56.918743",
     "status": "completed"
    },
    "tags": []
   },
   "outputs": [],
   "source": [
    "#hide\n",
    "# cols.insert(0, cols.pop())"
   ]
  },
  {
   "cell_type": "code",
   "execution_count": 30,
   "id": "executed-adoption",
   "metadata": {
    "execution": {
     "iopub.execute_input": "2022-10-03T00:52:57.130362Z",
     "iopub.status.busy": "2022-10-03T00:52:57.129769Z",
     "iopub.status.idle": "2022-10-03T00:52:57.130959Z",
     "shell.execute_reply": "2022-10-03T00:52:57.131381Z"
    },
    "papermill": {
     "duration": 0.108233,
     "end_time": "2022-10-03T00:52:57.131493",
     "exception": false,
     "start_time": "2022-10-03T00:52:57.023260",
     "status": "completed"
    },
    "tags": []
   },
   "outputs": [],
   "source": [
    "#hide\n",
    "# g = g[cols]"
   ]
  },
  {
   "cell_type": "code",
   "execution_count": 31,
   "id": "subject-dublin",
   "metadata": {
    "execution": {
     "iopub.execute_input": "2022-10-03T00:52:57.321240Z",
     "iopub.status.busy": "2022-10-03T00:52:57.320372Z",
     "iopub.status.idle": "2022-10-03T00:52:57.322492Z",
     "shell.execute_reply": "2022-10-03T00:52:57.321960Z"
    },
    "papermill": {
     "duration": 0.151469,
     "end_time": "2022-10-03T00:52:57.322594",
     "exception": false,
     "start_time": "2022-10-03T00:52:57.171125",
     "status": "completed"
    },
    "tags": []
   },
   "outputs": [],
   "source": [
    "#hide\n",
    "# g['continent'] = g['continent'].map(mapping['map.continent'])"
   ]
  },
  {
   "cell_type": "code",
   "execution_count": 32,
   "id": "freelance-scout",
   "metadata": {
    "execution": {
     "iopub.execute_input": "2022-10-03T00:52:57.423163Z",
     "iopub.status.busy": "2022-10-03T00:52:57.422438Z",
     "iopub.status.idle": "2022-10-03T00:52:57.424133Z",
     "shell.execute_reply": "2022-10-03T00:52:57.423694Z"
    },
    "papermill": {
     "duration": 0.047742,
     "end_time": "2022-10-03T00:52:57.424233",
     "exception": false,
     "start_time": "2022-10-03T00:52:57.376491",
     "status": "completed"
    },
    "tags": []
   },
   "outputs": [],
   "source": [
    "#hide\n",
    "# g.head()"
   ]
  },
  {
   "cell_type": "code",
   "execution_count": 33,
   "id": "limited-engine",
   "metadata": {
    "execution": {
     "iopub.execute_input": "2022-10-03T00:52:57.570801Z",
     "iopub.status.busy": "2022-10-03T00:52:57.570233Z",
     "iopub.status.idle": "2022-10-03T00:52:57.572761Z",
     "shell.execute_reply": "2022-10-03T00:52:57.572338Z"
    },
    "papermill": {
     "duration": 0.053193,
     "end_time": "2022-10-03T00:52:57.572863",
     "exception": false,
     "start_time": "2022-10-03T00:52:57.519670",
     "status": "completed"
    },
    "tags": []
   },
   "outputs": [],
   "source": [
    "# hide\n",
    "# g['date'] = g['date'].astype('datetime64[ns]')"
   ]
  },
  {
   "cell_type": "code",
   "execution_count": 34,
   "id": "sophisticated-supervisor",
   "metadata": {
    "execution": {
     "iopub.execute_input": "2022-10-03T00:52:57.638281Z",
     "iopub.status.busy": "2022-10-03T00:52:57.637709Z",
     "iopub.status.idle": "2022-10-03T00:52:57.640191Z",
     "shell.execute_reply": "2022-10-03T00:52:57.639666Z"
    },
    "papermill": {
     "duration": 0.036318,
     "end_time": "2022-10-03T00:52:57.640287",
     "exception": false,
     "start_time": "2022-10-03T00:52:57.603969",
     "status": "completed"
    },
    "tags": []
   },
   "outputs": [],
   "source": [
    "#hide\n",
    "# g['date'] = g.date.dt.dayofyear"
   ]
  },
  {
   "cell_type": "code",
   "execution_count": 35,
   "id": "inside-dubai",
   "metadata": {
    "execution": {
     "iopub.execute_input": "2022-10-03T00:52:57.705056Z",
     "iopub.status.busy": "2022-10-03T00:52:57.704487Z",
     "iopub.status.idle": "2022-10-03T00:52:57.706937Z",
     "shell.execute_reply": "2022-10-03T00:52:57.706474Z"
    },
    "papermill": {
     "duration": 0.035985,
     "end_time": "2022-10-03T00:52:57.707034",
     "exception": false,
     "start_time": "2022-10-03T00:52:57.671049",
     "status": "completed"
    },
    "tags": []
   },
   "outputs": [],
   "source": [
    "#hide\n",
    "# g = g.rename(columns= {'continent':'group','country':'name','cases':'value'})"
   ]
  },
  {
   "cell_type": "code",
   "execution_count": 36,
   "id": "fleet-motorcycle",
   "metadata": {
    "execution": {
     "iopub.execute_input": "2022-10-03T00:52:57.772264Z",
     "iopub.status.busy": "2022-10-03T00:52:57.771697Z",
     "iopub.status.idle": "2022-10-03T00:52:57.774068Z",
     "shell.execute_reply": "2022-10-03T00:52:57.773545Z"
    },
    "papermill": {
     "duration": 0.036256,
     "end_time": "2022-10-03T00:52:57.774162",
     "exception": false,
     "start_time": "2022-10-03T00:52:57.737906",
     "status": "completed"
    },
    "tags": []
   },
   "outputs": [],
   "source": [
    "#hide\n",
    "# cols = ['name','group','day','value']"
   ]
  },
  {
   "cell_type": "code",
   "execution_count": 37,
   "id": "continued-sleeping",
   "metadata": {
    "execution": {
     "iopub.execute_input": "2022-10-03T00:52:57.838866Z",
     "iopub.status.busy": "2022-10-03T00:52:57.838297Z",
     "iopub.status.idle": "2022-10-03T00:52:57.840748Z",
     "shell.execute_reply": "2022-10-03T00:52:57.840310Z"
    },
    "papermill": {
     "duration": 0.035901,
     "end_time": "2022-10-03T00:52:57.840842",
     "exception": false,
     "start_time": "2022-10-03T00:52:57.804941",
     "status": "completed"
    },
    "tags": []
   },
   "outputs": [],
   "source": [
    "#hide\n",
    "# g.rename(columns= {'date':'day'},inplace = True)"
   ]
  },
  {
   "cell_type": "code",
   "execution_count": 38,
   "id": "major-fight",
   "metadata": {
    "execution": {
     "iopub.execute_input": "2022-10-03T00:52:57.906091Z",
     "iopub.status.busy": "2022-10-03T00:52:57.905515Z",
     "iopub.status.idle": "2022-10-03T00:52:57.907966Z",
     "shell.execute_reply": "2022-10-03T00:52:57.907530Z"
    },
    "papermill": {
     "duration": 0.036323,
     "end_time": "2022-10-03T00:52:57.908061",
     "exception": false,
     "start_time": "2022-10-03T00:52:57.871738",
     "status": "completed"
    },
    "tags": []
   },
   "outputs": [],
   "source": [
    "#hide\n",
    "# g = g[cols]"
   ]
  },
  {
   "cell_type": "code",
   "execution_count": 39,
   "id": "structured-mobile",
   "metadata": {
    "execution": {
     "iopub.execute_input": "2022-10-03T00:52:57.973853Z",
     "iopub.status.busy": "2022-10-03T00:52:57.973275Z",
     "iopub.status.idle": "2022-10-03T00:52:57.975727Z",
     "shell.execute_reply": "2022-10-03T00:52:57.975286Z"
    },
    "papermill": {
     "duration": 0.036842,
     "end_time": "2022-10-03T00:52:57.975826",
     "exception": false,
     "start_time": "2022-10-03T00:52:57.938984",
     "status": "completed"
    },
    "tags": []
   },
   "outputs": [],
   "source": [
    "# #hide\n",
    "# g = g[g.group.notna()]"
   ]
  },
  {
   "cell_type": "code",
   "execution_count": 40,
   "id": "determined-closing",
   "metadata": {
    "execution": {
     "iopub.execute_input": "2022-10-03T00:52:58.040567Z",
     "iopub.status.busy": "2022-10-03T00:52:58.040008Z",
     "iopub.status.idle": "2022-10-03T00:52:58.043502Z",
     "shell.execute_reply": "2022-10-03T00:52:58.043031Z"
    },
    "papermill": {
     "duration": 0.036717,
     "end_time": "2022-10-03T00:52:58.043603",
     "exception": false,
     "start_time": "2022-10-03T00:52:58.006886",
     "status": "completed"
    },
    "tags": []
   },
   "outputs": [],
   "source": [
    "# #hide\n",
    "# colors = dict(zip(\n",
    "#     [\"Oceania\", \"Europe\", \"Asia\", \"South America\", \"Middle East\", \"North America\", \"Africa\"],\n",
    "#     [\"#adb0ff\", \"#ffb3ff\", \"#90d595\", \"#e48381\", \"#aafbff\", \"#f7bb5f\", \"#eafb50\"]\n",
    "# ))\n",
    "# group_lk = g.set_index('name')['group'].to_dict()"
   ]
  },
  {
   "cell_type": "code",
   "execution_count": null,
   "id": "gross-drinking",
   "metadata": {
    "papermill": {
     "duration": 0.030725,
     "end_time": "2022-10-03T00:52:58.105157",
     "exception": false,
     "start_time": "2022-10-03T00:52:58.074432",
     "status": "completed"
    },
    "tags": []
   },
   "outputs": [],
   "source": []
  },
  {
   "cell_type": "code",
   "execution_count": 41,
   "id": "subject-macintosh",
   "metadata": {
    "execution": {
     "iopub.execute_input": "2022-10-03T00:52:58.171203Z",
     "iopub.status.busy": "2022-10-03T00:52:58.170600Z",
     "iopub.status.idle": "2022-10-03T00:52:58.173060Z",
     "shell.execute_reply": "2022-10-03T00:52:58.172517Z"
    },
    "papermill": {
     "duration": 0.037132,
     "end_time": "2022-10-03T00:52:58.173162",
     "exception": false,
     "start_time": "2022-10-03T00:52:58.136030",
     "status": "completed"
    },
    "tags": []
   },
   "outputs": [],
   "source": [
    "# #hide\n",
    "# fig, ax = plt.subplots(figsize=(15, 8))\n",
    "\n",
    "# def draw_barchart(current_day):\n",
    "#     dff = g[g['day'].eq(current_day)].sort_values(by='value', ascending=True).tail(10)\n",
    "#     ax.clear()\n",
    "#     ax.barh(dff['name'], dff['value'], color=[colors[group_lk[x]] for x in dff['name']])\n",
    "#     dx = dff['value'].max() / 200\n",
    "    \n",
    "#     for i, (value, name) in enumerate(zip(dff['value'], dff['name'])):\n",
    "#         ax.text(value-dx, i,     name,           size=14, weight=600, ha='right', va='bottom')\n",
    "#         ax.text(value-dx, i-.25, group_lk[name], size=10, color='#444444', ha='right', va='baseline')\n",
    "#         ax.text(value+dx, i,     f'{value:,.0f}',  size=14, ha='left',  va='center')\n",
    "#     ax.text(1, 0.4, current_day, transform=ax.transAxes, color='#777777', size=46, ha='right', weight=800)\n",
    "#     ax.text(0, 1.06, 'Population (thousands)', transform=ax.transAxes, size=12, color='#777777')\n",
    "#     ax.xaxis.set_major_formatter(ticker.StrMethodFormatter('{x:,.0f}'))\n",
    "#     ax.xaxis.set_ticks_position('top')\n",
    "#     ax.tick_params(axis='x', colors='#777777', labelsize=12)\n",
    "#     ax.set_yticks([])\n",
    "#     ax.margins(0, 0.01)\n",
    "#     ax.grid(which='major', axis='x', linestyle='-')\n",
    "#     ax.set_axisbelow(True)\n",
    "    \n",
    "#     ax.text(0, 1.15, 'Coronavirus',\n",
    "#             transform=ax.transAxes, size=24, weight=600, ha='left', va='top')\n",
    "# #     ax.text(1, 0, 'by @pratapvardhan; credit @jburnmurdoch', transform=ax.transAxes, color='#777777', ha='right',\n",
    "# #             bbox=dict(facecolor='white', alpha=0.8, edgecolor='white'))\n",
    "#     plt.box(False)"
   ]
  },
  {
   "cell_type": "code",
   "execution_count": 42,
   "id": "sexual-wages",
   "metadata": {
    "execution": {
     "iopub.execute_input": "2022-10-03T00:52:58.238476Z",
     "iopub.status.busy": "2022-10-03T00:52:58.237900Z",
     "iopub.status.idle": "2022-10-03T00:52:58.239904Z",
     "shell.execute_reply": "2022-10-03T00:52:58.240323Z"
    },
    "papermill": {
     "duration": 0.036419,
     "end_time": "2022-10-03T00:52:58.240434",
     "exception": false,
     "start_time": "2022-10-03T00:52:58.204015",
     "status": "completed"
    },
    "tags": []
   },
   "outputs": [],
   "source": [
    "# #hide_input\n",
    "# fig, ax = plt.subplots(figsize=(15, 8))\n",
    "# animator = animation.FuncAnimation(fig, draw_barchart, frames=range(g.day.values.min(), g.day.values.max()))\n",
    "# HTML(animator.to_jshtml())\n",
    "# # or use animator.to_html5_video() or animator.save() "
   ]
  },
  {
   "cell_type": "code",
   "execution_count": null,
   "id": "australian-container",
   "metadata": {
    "papermill": {
     "duration": 0.030625,
     "end_time": "2022-10-03T00:52:58.301924",
     "exception": false,
     "start_time": "2022-10-03T00:52:58.271299",
     "status": "completed"
    },
    "tags": []
   },
   "outputs": [],
   "source": []
  },
  {
   "cell_type": "code",
   "execution_count": null,
   "id": "mediterranean-pontiac",
   "metadata": {
    "papermill": {
     "duration": 0.030642,
     "end_time": "2022-10-03T00:52:58.363255",
     "exception": false,
     "start_time": "2022-10-03T00:52:58.332613",
     "status": "completed"
    },
    "tags": []
   },
   "outputs": [],
   "source": []
  },
  {
   "cell_type": "code",
   "execution_count": null,
   "id": "aging-legislature",
   "metadata": {
    "papermill": {
     "duration": 0.030751,
     "end_time": "2022-10-03T00:52:58.424851",
     "exception": false,
     "start_time": "2022-10-03T00:52:58.394100",
     "status": "completed"
    },
    "tags": []
   },
   "outputs": [],
   "source": []
  }
 ],
 "metadata": {
  "kernelspec": {
   "display_name": "Python 3",
   "language": "python",
   "name": "python3"
  },
  "language_info": {
   "codemirror_mode": {
    "name": "ipython",
    "version": 3
   },
   "file_extension": ".py",
   "mimetype": "text/x-python",
   "name": "python",
   "nbconvert_exporter": "python",
   "pygments_lexer": "ipython3",
   "version": "3.6.15"
  },
  "papermill": {
   "duration": 6.17729,
   "end_time": "2022-10-03T00:52:58.777235",
   "environment_variables": {},
   "exception": null,
   "input_path": "2020-03-21-covid19exp.ipynb",
   "output_path": "2020-03-21-covid19exp.ipynb",
   "parameters": {},
   "start_time": "2022-10-03T00:52:52.599945",
   "version": "2.0.0"
  }
 },
 "nbformat": 4,
 "nbformat_minor": 5
}