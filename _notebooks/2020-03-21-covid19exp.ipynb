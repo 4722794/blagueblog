{
 "cells": [
  {
   "cell_type": "markdown",
   "id": "muslim-click",
   "metadata": {
    "papermill": {
     "duration": 0.041364,
     "end_time": "2021-11-22T00:25:05.491947",
     "exception": false,
     "start_time": "2021-11-22T00:25:05.450583",
     "status": "completed"
    },
    "tags": []
   },
   "source": [
    "# COVID-19 Case Race\n",
    "> A race chart to see rising cases around the world\n",
    "\n",
    "- author: Hargun Oberoi\n",
    "- image: images/covid-overview.png\n",
    "- hide: false\n",
    "- badges: false"
   ]
  },
  {
   "cell_type": "code",
   "execution_count": 1,
   "id": "proof-material",
   "metadata": {
    "execution": {
     "iopub.execute_input": "2021-11-22T00:25:05.576087Z",
     "iopub.status.busy": "2021-11-22T00:25:05.575475Z",
     "iopub.status.idle": "2021-11-22T00:25:05.950708Z",
     "shell.execute_reply": "2021-11-22T00:25:05.949933Z"
    },
    "papermill": {
     "duration": 0.42262,
     "end_time": "2021-11-22T00:25:05.950863",
     "exception": false,
     "start_time": "2021-11-22T00:25:05.528243",
     "status": "completed"
    },
    "tags": []
   },
   "outputs": [],
   "source": [
    "#hide\n",
    "import numpy as np\n",
    "import pandas as pd\n",
    "from jinja2 import Template\n",
    "from IPython.display import HTML"
   ]
  },
  {
   "cell_type": "code",
   "execution_count": 2,
   "id": "developed-terminology",
   "metadata": {
    "execution": {
     "iopub.execute_input": "2021-11-22T00:25:06.033417Z",
     "iopub.status.busy": "2021-11-22T00:25:06.032612Z",
     "iopub.status.idle": "2021-11-22T00:25:06.036426Z",
     "shell.execute_reply": "2021-11-22T00:25:06.035892Z"
    },
    "papermill": {
     "duration": 0.046348,
     "end_time": "2021-11-22T00:25:06.036589",
     "exception": false,
     "start_time": "2021-11-22T00:25:05.990241",
     "status": "completed"
    },
    "tags": []
   },
   "outputs": [],
   "source": [
    "#hide\n",
    "\n",
    "# FETCH\n",
    "base_url = 'https://raw.githubusercontent.com/pratapvardhan/notebooks/master/covid19/'\n",
    "paths = {\n",
    "    'mapping': base_url + 'mapping_countries.csv',\n",
    "    'overview': base_url + 'overview.tpl'\n",
    "}"
   ]
  },
  {
   "cell_type": "code",
   "execution_count": 3,
   "id": "dynamic-saver",
   "metadata": {
    "execution": {
     "iopub.execute_input": "2021-11-22T00:25:06.121122Z",
     "iopub.status.busy": "2021-11-22T00:25:06.120445Z",
     "iopub.status.idle": "2021-11-22T00:25:06.123450Z",
     "shell.execute_reply": "2021-11-22T00:25:06.123959Z"
    },
    "papermill": {
     "duration": 0.048723,
     "end_time": "2021-11-22T00:25:06.124106",
     "exception": false,
     "start_time": "2021-11-22T00:25:06.075383",
     "status": "completed"
    },
    "tags": []
   },
   "outputs": [
    {
     "data": {
      "text/plain": [
       "'https://raw.githubusercontent.com/pratapvardhan/notebooks/master/covid19/mapping_countries.csv'"
      ]
     },
     "execution_count": 3,
     "metadata": {},
     "output_type": "execute_result"
    }
   ],
   "source": [
    "#hide\n",
    "paths['mapping']"
   ]
  },
  {
   "cell_type": "code",
   "execution_count": 4,
   "id": "urban-software",
   "metadata": {
    "execution": {
     "iopub.execute_input": "2021-11-22T00:25:06.204013Z",
     "iopub.status.busy": "2021-11-22T00:25:06.203188Z",
     "iopub.status.idle": "2021-11-22T00:25:06.206455Z",
     "shell.execute_reply": "2021-11-22T00:25:06.205898Z"
    },
    "papermill": {
     "duration": 0.045821,
     "end_time": "2021-11-22T00:25:06.206579",
     "exception": false,
     "start_time": "2021-11-22T00:25:06.160758",
     "status": "completed"
    },
    "tags": []
   },
   "outputs": [],
   "source": [
    "#hide\n",
    "def get_mappings(url):\n",
    "    df = pd.read_csv(url)\n",
    "    return {\n",
    "        'df': df,\n",
    "        'replace.country': dict(df.dropna(subset=['Name']).set_index('Country')['Name']),\n",
    "        'map.continent': dict(df.set_index('Name')['Continent'])\n",
    "    }"
   ]
  },
  {
   "cell_type": "code",
   "execution_count": 5,
   "id": "intimate-machinery",
   "metadata": {
    "execution": {
     "iopub.execute_input": "2021-11-22T00:25:06.287851Z",
     "iopub.status.busy": "2021-11-22T00:25:06.287199Z",
     "iopub.status.idle": "2021-11-22T00:25:06.335384Z",
     "shell.execute_reply": "2021-11-22T00:25:06.335896Z"
    },
    "papermill": {
     "duration": 0.090869,
     "end_time": "2021-11-22T00:25:06.336076",
     "exception": false,
     "start_time": "2021-11-22T00:25:06.245207",
     "status": "completed"
    },
    "tags": []
   },
   "outputs": [],
   "source": [
    "#hide\n",
    "mapping = get_mappings(paths['mapping'])"
   ]
  },
  {
   "cell_type": "code",
   "execution_count": 6,
   "id": "certified-tactics",
   "metadata": {
    "execution": {
     "iopub.execute_input": "2021-11-22T00:25:06.418077Z",
     "iopub.status.busy": "2021-11-22T00:25:06.417220Z",
     "iopub.status.idle": "2021-11-22T00:25:06.419933Z",
     "shell.execute_reply": "2021-11-22T00:25:06.419351Z"
    },
    "papermill": {
     "duration": 0.045843,
     "end_time": "2021-11-22T00:25:06.420065",
     "exception": false,
     "start_time": "2021-11-22T00:25:06.374222",
     "status": "completed"
    },
    "tags": []
   },
   "outputs": [],
   "source": [
    "#hide\n",
    "def get_template(path):\n",
    "    from urllib.parse import urlparse\n",
    "    if bool(urlparse(path).netloc):\n",
    "        from urllib.request import urlopen\n",
    "        return urlopen(path).read().decode('utf8')\n",
    "    return open(path).read()"
   ]
  },
  {
   "cell_type": "code",
   "execution_count": 7,
   "id": "realistic-blast",
   "metadata": {
    "execution": {
     "iopub.execute_input": "2021-11-22T00:25:06.501123Z",
     "iopub.status.busy": "2021-11-22T00:25:06.500418Z",
     "iopub.status.idle": "2021-11-22T00:25:06.504019Z",
     "shell.execute_reply": "2021-11-22T00:25:06.503561Z"
    },
    "papermill": {
     "duration": 0.043541,
     "end_time": "2021-11-22T00:25:06.504170",
     "exception": false,
     "start_time": "2021-11-22T00:25:06.460629",
     "status": "completed"
    },
    "tags": []
   },
   "outputs": [],
   "source": [
    "#hide\n",
    "def get_frame(name):\n",
    "    url = (\n",
    "        'https://raw.githubusercontent.com/CSSEGISandData/COVID-19/master/csse_covid_19_data/'\n",
    "        f'csse_covid_19_time_series/time_series_covid19_{name}_global.csv')\n",
    "    df = pd.read_csv(url)\n",
    "    # rename countries\n",
    "    df['Country/Region'] = df['Country/Region'].replace(mapping['replace.country'])\n",
    "    return df"
   ]
  },
  {
   "cell_type": "code",
   "execution_count": 8,
   "id": "affiliated-characterization",
   "metadata": {
    "execution": {
     "iopub.execute_input": "2021-11-22T00:25:06.581865Z",
     "iopub.status.busy": "2021-11-22T00:25:06.581119Z",
     "iopub.status.idle": "2021-11-22T00:25:06.585350Z",
     "shell.execute_reply": "2021-11-22T00:25:06.586102Z"
    },
    "papermill": {
     "duration": 0.046424,
     "end_time": "2021-11-22T00:25:06.586267",
     "exception": false,
     "start_time": "2021-11-22T00:25:06.539843",
     "status": "completed"
    },
    "tags": []
   },
   "outputs": [],
   "source": [
    "#hide\n",
    "def get_dates(df):\n",
    "    dt_cols = df.columns[~df.columns.isin(['Province/State', 'Country/Region', 'Lat', 'Long'])]\n",
    "    LAST_DATE_I = -1\n",
    "    # sometimes last column may be empty, then go backwards\n",
    "    for i in range(-1, -len(dt_cols), -1):\n",
    "        if not df[dt_cols[i]].fillna(0).eq(0).all():\n",
    "            LAST_DATE_I = i\n",
    "            break\n",
    "    return LAST_DATE_I, dt_cols"
   ]
  },
  {
   "cell_type": "code",
   "execution_count": 9,
   "id": "recent-optimization",
   "metadata": {
    "execution": {
     "iopub.execute_input": "2021-11-22T00:25:06.675995Z",
     "iopub.status.busy": "2021-11-22T00:25:06.675247Z",
     "iopub.status.idle": "2021-11-22T00:25:07.134258Z",
     "shell.execute_reply": "2021-11-22T00:25:07.133074Z"
    },
    "papermill": {
     "duration": 0.505327,
     "end_time": "2021-11-22T00:25:07.134405",
     "exception": false,
     "start_time": "2021-11-22T00:25:06.629078",
     "status": "completed"
    },
    "tags": []
   },
   "outputs": [],
   "source": [
    "#hide\n",
    "COL_REGION = 'Country/Region'\n",
    "# Confirmed, Recovered, Deaths\n",
    "df = get_frame('confirmed')\n",
    "# dft_: timeseries, dfc_: today country agg\n",
    "dft_cases = df\n",
    "dft_deaths = get_frame('deaths')\n",
    "dft_recovered = get_frame('recovered')\n",
    "LAST_DATE_I, dt_cols = get_dates(df)"
   ]
  },
  {
   "cell_type": "code",
   "execution_count": 10,
   "id": "absolute-copper",
   "metadata": {
    "execution": {
     "iopub.execute_input": "2021-11-22T00:25:07.216041Z",
     "iopub.status.busy": "2021-11-22T00:25:07.215389Z",
     "iopub.status.idle": "2021-11-22T00:25:07.217589Z",
     "shell.execute_reply": "2021-11-22T00:25:07.218148Z"
    },
    "papermill": {
     "duration": 0.046097,
     "end_time": "2021-11-22T00:25:07.218290",
     "exception": false,
     "start_time": "2021-11-22T00:25:07.172193",
     "status": "completed"
    },
    "tags": []
   },
   "outputs": [],
   "source": [
    "#hide\n",
    "LAST_DATE_I, dt_cols = get_dates(df)\n",
    "dt_today =dt_cols[LAST_DATE_I]\n",
    "# dt_5day = dt_cols[LAST_DATE_I - 5]\n",
    "dt_yday = dt_cols[LAST_DATE_I - 1]"
   ]
  },
  {
   "cell_type": "code",
   "execution_count": 11,
   "id": "restricted-sheriff",
   "metadata": {
    "execution": {
     "iopub.execute_input": "2021-11-22T00:25:07.294803Z",
     "iopub.status.busy": "2021-11-22T00:25:07.294245Z",
     "iopub.status.idle": "2021-11-22T00:25:07.303549Z",
     "shell.execute_reply": "2021-11-22T00:25:07.304215Z"
    },
    "papermill": {
     "duration": 0.050488,
     "end_time": "2021-11-22T00:25:07.304340",
     "exception": false,
     "start_time": "2021-11-22T00:25:07.253852",
     "status": "completed"
    },
    "tags": []
   },
   "outputs": [],
   "source": [
    "#hide\n",
    "dfc_cases = dft_cases.groupby(COL_REGION)[dt_today].sum()\n",
    "dfc_deaths = dft_deaths.groupby(COL_REGION)[dt_today].sum()\n",
    "# dfp_cases = dft_cases.groupby(COL_REGION)[dt_5day].sum()\n",
    "# dfp_deaths = dft_deaths.groupby(COL_REGION)[dt_5day].sum()\n",
    "dfp_cases = dft_cases.groupby(COL_REGION)[dt_yday].sum()\n",
    "dfp_deaths = dft_deaths.groupby(COL_REGION)[dt_yday].sum()"
   ]
  },
  {
   "cell_type": "code",
   "execution_count": 12,
   "id": "deluxe-hepatitis",
   "metadata": {
    "execution": {
     "iopub.execute_input": "2021-11-22T00:25:07.381301Z",
     "iopub.status.busy": "2021-11-22T00:25:07.380650Z",
     "iopub.status.idle": "2021-11-22T00:25:07.386451Z",
     "shell.execute_reply": "2021-11-22T00:25:07.386998Z"
    },
    "papermill": {
     "duration": 0.046295,
     "end_time": "2021-11-22T00:25:07.387112",
     "exception": false,
     "start_time": "2021-11-22T00:25:07.340817",
     "status": "completed"
    },
    "tags": []
   },
   "outputs": [],
   "source": [
    "#hide\n",
    "df_table = (pd.DataFrame(dict(Cases = dfc_cases, Deaths = dfc_deaths, PCases = dfp_cases, PDeaths = dfp_deaths))\n",
    "            .sort_values(by = ['Cases','Deaths'], ascending = [False, False])\n",
    "            .reset_index())"
   ]
  },
  {
   "cell_type": "code",
   "execution_count": 13,
   "id": "educational-chancellor",
   "metadata": {
    "execution": {
     "iopub.execute_input": "2021-11-22T00:25:07.480721Z",
     "iopub.status.busy": "2021-11-22T00:25:07.480129Z",
     "iopub.status.idle": "2021-11-22T00:25:07.489601Z",
     "shell.execute_reply": "2021-11-22T00:25:07.490385Z"
    },
    "papermill": {
     "duration": 0.067207,
     "end_time": "2021-11-22T00:25:07.490506",
     "exception": false,
     "start_time": "2021-11-22T00:25:07.423299",
     "status": "completed"
    },
    "tags": []
   },
   "outputs": [
    {
     "data": {
      "text/html": [
       "<div>\n",
       "<style scoped>\n",
       "    .dataframe tbody tr th:only-of-type {\n",
       "        vertical-align: middle;\n",
       "    }\n",
       "\n",
       "    .dataframe tbody tr th {\n",
       "        vertical-align: top;\n",
       "    }\n",
       "\n",
       "    .dataframe thead th {\n",
       "        text-align: right;\n",
       "    }\n",
       "</style>\n",
       "<table border=\"1\" class=\"dataframe\">\n",
       "  <thead>\n",
       "    <tr style=\"text-align: right;\">\n",
       "      <th></th>\n",
       "      <th>Country/Region</th>\n",
       "      <th>Cases</th>\n",
       "      <th>Deaths</th>\n",
       "      <th>PCases</th>\n",
       "      <th>PDeaths</th>\n",
       "      <th>Cases (+)</th>\n",
       "      <th>Deaths (+)</th>\n",
       "      <th>Fatality Rate</th>\n",
       "      <th>Continent</th>\n",
       "    </tr>\n",
       "  </thead>\n",
       "  <tbody>\n",
       "    <tr>\n",
       "      <th>0</th>\n",
       "      <td>US</td>\n",
       "      <td>47701872</td>\n",
       "      <td>771013</td>\n",
       "      <td>47660379</td>\n",
       "      <td>770691</td>\n",
       "      <td>41493</td>\n",
       "      <td>322</td>\n",
       "      <td>1.62</td>\n",
       "      <td>North America</td>\n",
       "    </tr>\n",
       "    <tr>\n",
       "      <th>1</th>\n",
       "      <td>India</td>\n",
       "      <td>34510413</td>\n",
       "      <td>465662</td>\n",
       "      <td>34499925</td>\n",
       "      <td>465349</td>\n",
       "      <td>10488</td>\n",
       "      <td>313</td>\n",
       "      <td>1.35</td>\n",
       "      <td>Asia</td>\n",
       "    </tr>\n",
       "    <tr>\n",
       "      <th>2</th>\n",
       "      <td>Brazil</td>\n",
       "      <td>22012150</td>\n",
       "      <td>612587</td>\n",
       "      <td>22003317</td>\n",
       "      <td>612370</td>\n",
       "      <td>8833</td>\n",
       "      <td>217</td>\n",
       "      <td>2.78</td>\n",
       "      <td>South America</td>\n",
       "    </tr>\n",
       "    <tr>\n",
       "      <th>3</th>\n",
       "      <td>United Kingdom</td>\n",
       "      <td>9857658</td>\n",
       "      <td>144308</td>\n",
       "      <td>9817505</td>\n",
       "      <td>144158</td>\n",
       "      <td>40153</td>\n",
       "      <td>150</td>\n",
       "      <td>1.46</td>\n",
       "      <td>Europe</td>\n",
       "    </tr>\n",
       "    <tr>\n",
       "      <th>4</th>\n",
       "      <td>Russia</td>\n",
       "      <td>9135149</td>\n",
       "      <td>257891</td>\n",
       "      <td>9099253</td>\n",
       "      <td>256669</td>\n",
       "      <td>35896</td>\n",
       "      <td>1222</td>\n",
       "      <td>2.82</td>\n",
       "      <td>Europe</td>\n",
       "    </tr>\n",
       "  </tbody>\n",
       "</table>\n",
       "</div>"
      ],
      "text/plain": [
       "   Country/Region     Cases  Deaths    PCases  PDeaths  Cases (+)  Deaths (+)  \\\n",
       "0              US  47701872  771013  47660379   770691      41493         322   \n",
       "1           India  34510413  465662  34499925   465349      10488         313   \n",
       "2          Brazil  22012150  612587  22003317   612370       8833         217   \n",
       "3  United Kingdom   9857658  144308   9817505   144158      40153         150   \n",
       "4          Russia   9135149  257891   9099253   256669      35896        1222   \n",
       "\n",
       "   Fatality Rate      Continent  \n",
       "0           1.62  North America  \n",
       "1           1.35           Asia  \n",
       "2           2.78  South America  \n",
       "3           1.46         Europe  \n",
       "4           2.82         Europe  "
      ]
     },
     "execution_count": 13,
     "metadata": {},
     "output_type": "execute_result"
    }
   ],
   "source": [
    "#hide\n",
    "for c in 'Cases, Deaths'.split(', '):\n",
    "    df_table[f'{c} (+)'] = (df_table[c] - df_table[f'P{c}']).clip(0)\n",
    "    #Clip ça veut dire, les chiffres negatif sont interdit\n",
    "df_table['Fatality Rate'] = (100* df_table['Deaths']/ df_table['Cases']).round(2)\n",
    "df_table['Continent'] = df_table['Country/Region'].map(mapping['map.continent'])\n",
    "df_table.head(5)"
   ]
  },
  {
   "cell_type": "code",
   "execution_count": 14,
   "id": "aboriginal-bulgaria",
   "metadata": {
    "execution": {
     "iopub.execute_input": "2021-11-22T00:25:07.570292Z",
     "iopub.status.busy": "2021-11-22T00:25:07.569567Z",
     "iopub.status.idle": "2021-11-22T00:25:07.573140Z",
     "shell.execute_reply": "2021-11-22T00:25:07.573743Z"
    },
    "papermill": {
     "duration": 0.047757,
     "end_time": "2021-11-22T00:25:07.573877",
     "exception": false,
     "start_time": "2021-11-22T00:25:07.526120",
     "status": "completed"
    },
    "tags": []
   },
   "outputs": [],
   "source": [
    "#hide\n",
    "#delete problematic countries from table\n",
    "df_table = df_table[~df_table['Country/Region'].isin(['Cape Verde', 'Cruise Ship', 'Kosovo'])]"
   ]
  },
  {
   "cell_type": "code",
   "execution_count": 15,
   "id": "fantastic-effect",
   "metadata": {
    "execution": {
     "iopub.execute_input": "2021-11-22T00:25:07.658670Z",
     "iopub.status.busy": "2021-11-22T00:25:07.657894Z",
     "iopub.status.idle": "2021-11-22T00:25:07.680875Z",
     "shell.execute_reply": "2021-11-22T00:25:07.680333Z"
    },
    "papermill": {
     "duration": 0.068437,
     "end_time": "2021-11-22T00:25:07.680990",
     "exception": false,
     "start_time": "2021-11-22T00:25:07.612553",
     "status": "completed"
    },
    "tags": []
   },
   "outputs": [
    {
     "data": {
      "text/html": [
       "<div>\n",
       "<style scoped>\n",
       "    .dataframe tbody tr th:only-of-type {\n",
       "        vertical-align: middle;\n",
       "    }\n",
       "\n",
       "    .dataframe tbody tr th {\n",
       "        vertical-align: top;\n",
       "    }\n",
       "\n",
       "    .dataframe thead th {\n",
       "        text-align: right;\n",
       "    }\n",
       "</style>\n",
       "<table border=\"1\" class=\"dataframe\">\n",
       "  <thead>\n",
       "    <tr style=\"text-align: right;\">\n",
       "      <th></th>\n",
       "      <th>Country/Region</th>\n",
       "      <th>Cases</th>\n",
       "      <th>Deaths</th>\n",
       "      <th>PCases</th>\n",
       "      <th>PDeaths</th>\n",
       "      <th>Cases (+)</th>\n",
       "      <th>Deaths (+)</th>\n",
       "      <th>Fatality Rate</th>\n",
       "      <th>Continent</th>\n",
       "    </tr>\n",
       "  </thead>\n",
       "  <tbody>\n",
       "    <tr>\n",
       "      <th>0</th>\n",
       "      <td>US</td>\n",
       "      <td>47701872</td>\n",
       "      <td>771013</td>\n",
       "      <td>47660379</td>\n",
       "      <td>770691</td>\n",
       "      <td>41493</td>\n",
       "      <td>322</td>\n",
       "      <td>1.6</td>\n",
       "      <td>North America</td>\n",
       "    </tr>\n",
       "    <tr>\n",
       "      <th>1</th>\n",
       "      <td>India</td>\n",
       "      <td>34510413</td>\n",
       "      <td>465662</td>\n",
       "      <td>34499925</td>\n",
       "      <td>465349</td>\n",
       "      <td>10488</td>\n",
       "      <td>313</td>\n",
       "      <td>1.3</td>\n",
       "      <td>Asia</td>\n",
       "    </tr>\n",
       "    <tr>\n",
       "      <th>2</th>\n",
       "      <td>Brazil</td>\n",
       "      <td>22012150</td>\n",
       "      <td>612587</td>\n",
       "      <td>22003317</td>\n",
       "      <td>612370</td>\n",
       "      <td>8833</td>\n",
       "      <td>217</td>\n",
       "      <td>2.8</td>\n",
       "      <td>South America</td>\n",
       "    </tr>\n",
       "    <tr>\n",
       "      <th>3</th>\n",
       "      <td>United Kingdom</td>\n",
       "      <td>9857658</td>\n",
       "      <td>144308</td>\n",
       "      <td>9817505</td>\n",
       "      <td>144158</td>\n",
       "      <td>40153</td>\n",
       "      <td>150</td>\n",
       "      <td>1.5</td>\n",
       "      <td>Europe</td>\n",
       "    </tr>\n",
       "    <tr>\n",
       "      <th>4</th>\n",
       "      <td>Russia</td>\n",
       "      <td>9135149</td>\n",
       "      <td>257891</td>\n",
       "      <td>9099253</td>\n",
       "      <td>256669</td>\n",
       "      <td>35896</td>\n",
       "      <td>1222</td>\n",
       "      <td>2.8</td>\n",
       "      <td>Europe</td>\n",
       "    </tr>\n",
       "  </tbody>\n",
       "</table>\n",
       "</div>"
      ],
      "text/plain": [
       "   Country/Region     Cases  Deaths    PCases  PDeaths  Cases (+)  Deaths (+)  \\\n",
       "0              US  47701872  771013  47660379   770691      41493         322   \n",
       "1           India  34510413  465662  34499925   465349      10488         313   \n",
       "2          Brazil  22012150  612587  22003317   612370       8833         217   \n",
       "3  United Kingdom   9857658  144308   9817505   144158      40153         150   \n",
       "4          Russia   9135149  257891   9099253   256669      35896        1222   \n",
       "\n",
       "   Fatality Rate      Continent  \n",
       "0            1.6  North America  \n",
       "1            1.3           Asia  \n",
       "2            2.8  South America  \n",
       "3            1.5         Europe  \n",
       "4            2.8         Europe  "
      ]
     },
     "execution_count": 15,
     "metadata": {},
     "output_type": "execute_result"
    }
   ],
   "source": [
    "#hide\n",
    "df_table = (pd.DataFrame(dict(Cases=dfc_cases, Deaths=dfc_deaths, PCases=dfp_cases, PDeaths=dfp_deaths))\n",
    "             .sort_values(by=['Cases', 'Deaths'], ascending=[False, False])\n",
    "             .reset_index())\n",
    "df_table.rename(columns={'index': 'Country/Region'}, inplace=True)\n",
    "for c in 'Cases, Deaths'.split(', '):\n",
    "    df_table[f'{c} (+)'] = (df_table[c] - df_table[f'P{c}']).clip(0)  # DATA BUG\n",
    "df_table['Fatality Rate'] = (100 * df_table['Deaths'] / df_table['Cases']).round(1)\n",
    "df_table['Continent'] = df_table['Country/Region'].map(mapping['map.continent'])\n",
    "df_table.head(5)"
   ]
  },
  {
   "cell_type": "code",
   "execution_count": 16,
   "id": "fewer-occasion",
   "metadata": {
    "execution": {
     "iopub.execute_input": "2021-11-22T00:25:07.757341Z",
     "iopub.status.busy": "2021-11-22T00:25:07.756575Z",
     "iopub.status.idle": "2021-11-22T00:25:07.759575Z",
     "shell.execute_reply": "2021-11-22T00:25:07.760047Z"
    },
    "papermill": {
     "duration": 0.042873,
     "end_time": "2021-11-22T00:25:07.760202",
     "exception": false,
     "start_time": "2021-11-22T00:25:07.717329",
     "status": "completed"
    },
    "tags": []
   },
   "outputs": [],
   "source": [
    "#hide\n",
    "#delete problematic countries from table\n",
    "df_table = df_table[~df_table['Country/Region'].isin(['Cape Verde', 'Cruise Ship', 'Kosovo'])]"
   ]
  },
  {
   "cell_type": "code",
   "execution_count": 17,
   "id": "related-center",
   "metadata": {
    "execution": {
     "iopub.execute_input": "2021-11-22T00:25:07.852372Z",
     "iopub.status.busy": "2021-11-22T00:25:07.851561Z",
     "iopub.status.idle": "2021-11-22T00:25:07.856162Z",
     "shell.execute_reply": "2021-11-22T00:25:07.855598Z"
    },
    "papermill": {
     "duration": 0.060329,
     "end_time": "2021-11-22T00:25:07.856263",
     "exception": false,
     "start_time": "2021-11-22T00:25:07.795934",
     "status": "completed"
    },
    "tags": []
   },
   "outputs": [],
   "source": [
    "#hide\n",
    "metrics = [df_table.columns[index] for index in [1,2,5,6]]\n",
    "# s_china = df_table[df_table['Country/Region'].eq('China')][metrics].sum().add_prefix('China ')\n",
    "s_us = df_table[df_table['Country/Region'].eq('US')][metrics].sum().add_prefix('US ')\n",
    "s_eu = df_table[df_table['Continent'].eq('Europe')][metrics].sum().add_prefix('EU ')\n",
    "s_ind = df_table[df_table['Country/Region'].eq('India')][metrics].sum().add_prefix('India ')\n",
    "summary = {'updated': pd.to_datetime(dt_today), 'since': pd.to_datetime(dt_yday)}\n",
    "summary = {'updated': pd.to_datetime(dt_today), 'since': pd.to_datetime(dt_yday)}\n",
    "summary = {**summary, **df_table[metrics].sum(), **s_ind, **s_us, **s_eu}"
   ]
  },
  {
   "cell_type": "code",
   "execution_count": 18,
   "id": "engaging-syndrome",
   "metadata": {
    "execution": {
     "iopub.execute_input": "2021-11-22T00:25:07.933166Z",
     "iopub.status.busy": "2021-11-22T00:25:07.932478Z",
     "iopub.status.idle": "2021-11-22T00:25:07.947715Z",
     "shell.execute_reply": "2021-11-22T00:25:07.948258Z"
    },
    "papermill": {
     "duration": 0.056612,
     "end_time": "2021-11-22T00:25:07.948379",
     "exception": false,
     "start_time": "2021-11-22T00:25:07.891767",
     "status": "completed"
    },
    "tags": []
   },
   "outputs": [],
   "source": [
    "#hide\n",
    "dft_ct_new_cases = dft_cases.groupby(COL_REGION)[dt_cols].sum().diff(axis=1).fillna(0).astype(int)"
   ]
  },
  {
   "cell_type": "code",
   "execution_count": 19,
   "id": "neutral-assignment",
   "metadata": {
    "execution": {
     "iopub.execute_input": "2021-11-22T00:25:08.026093Z",
     "iopub.status.busy": "2021-11-22T00:25:08.025366Z",
     "iopub.status.idle": "2021-11-22T00:25:08.028130Z",
     "shell.execute_reply": "2021-11-22T00:25:08.028726Z"
    },
    "papermill": {
     "duration": 0.044498,
     "end_time": "2021-11-22T00:25:08.028845",
     "exception": false,
     "start_time": "2021-11-22T00:25:07.984347",
     "status": "completed"
    },
    "tags": []
   },
   "outputs": [],
   "source": [
    "#hide\n",
    "everydaycases = dft_ct_new_cases.cumsum(axis=1)"
   ]
  },
  {
   "cell_type": "code",
   "execution_count": 20,
   "id": "parliamentary-calgary",
   "metadata": {
    "execution": {
     "iopub.execute_input": "2021-11-22T00:25:08.111380Z",
     "iopub.status.busy": "2021-11-22T00:25:08.110752Z",
     "iopub.status.idle": "2021-11-22T00:25:08.781722Z",
     "shell.execute_reply": "2021-11-22T00:25:08.782258Z"
    },
    "papermill": {
     "duration": 0.717068,
     "end_time": "2021-11-22T00:25:08.782463",
     "exception": false,
     "start_time": "2021-11-22T00:25:08.065395",
     "status": "completed"
    },
    "tags": []
   },
   "outputs": [],
   "source": [
    "#hide\n",
    "import pandas as pd\n",
    "import matplotlib.pyplot as plt\n",
    "import matplotlib.ticker as ticker\n",
    "import matplotlib.animation as animation\n",
    "from IPython.display import HTML"
   ]
  },
  {
   "cell_type": "code",
   "execution_count": 21,
   "id": "lasting-extraction",
   "metadata": {
    "execution": {
     "iopub.execute_input": "2021-11-22T00:25:08.866456Z",
     "iopub.status.busy": "2021-11-22T00:25:08.865601Z",
     "iopub.status.idle": "2021-11-22T00:25:08.871665Z",
     "shell.execute_reply": "2021-11-22T00:25:08.872309Z"
    },
    "papermill": {
     "duration": 0.050213,
     "end_time": "2021-11-22T00:25:08.872439",
     "exception": false,
     "start_time": "2021-11-22T00:25:08.822226",
     "status": "completed"
    },
    "tags": []
   },
   "outputs": [],
   "source": [
    "#hide\n",
    "t = everydaycases.stack()"
   ]
  },
  {
   "cell_type": "code",
   "execution_count": 22,
   "id": "premier-sleeve",
   "metadata": {
    "execution": {
     "iopub.execute_input": "2021-11-22T00:25:08.955358Z",
     "iopub.status.busy": "2021-11-22T00:25:08.954723Z",
     "iopub.status.idle": "2021-11-22T00:25:08.968194Z",
     "shell.execute_reply": "2021-11-22T00:25:08.966926Z"
    },
    "papermill": {
     "duration": 0.057697,
     "end_time": "2021-11-22T00:25:08.968353",
     "exception": false,
     "start_time": "2021-11-22T00:25:08.910656",
     "status": "completed"
    },
    "tags": []
   },
   "outputs": [],
   "source": [
    "#hide\n",
    "g = t.reset_index(['Country/Region'])"
   ]
  },
  {
   "cell_type": "code",
   "execution_count": 23,
   "id": "distributed-pittsburgh",
   "metadata": {
    "execution": {
     "iopub.execute_input": "2021-11-22T00:25:09.049895Z",
     "iopub.status.busy": "2021-11-22T00:25:09.049220Z",
     "iopub.status.idle": "2021-11-22T00:25:09.051478Z",
     "shell.execute_reply": "2021-11-22T00:25:09.050876Z"
    },
    "papermill": {
     "duration": 0.045334,
     "end_time": "2021-11-22T00:25:09.051596",
     "exception": false,
     "start_time": "2021-11-22T00:25:09.006262",
     "status": "completed"
    },
    "tags": []
   },
   "outputs": [],
   "source": [
    "#hide\n",
    "g.index.name = 'date'"
   ]
  },
  {
   "cell_type": "code",
   "execution_count": 24,
   "id": "naked-donor",
   "metadata": {
    "execution": {
     "iopub.execute_input": "2021-11-22T00:25:09.134080Z",
     "iopub.status.busy": "2021-11-22T00:25:09.133342Z",
     "iopub.status.idle": "2021-11-22T00:25:09.135603Z",
     "shell.execute_reply": "2021-11-22T00:25:09.136095Z"
    },
    "papermill": {
     "duration": 0.045798,
     "end_time": "2021-11-22T00:25:09.136256",
     "exception": false,
     "start_time": "2021-11-22T00:25:09.090458",
     "status": "completed"
    },
    "tags": []
   },
   "outputs": [],
   "source": [
    "# #hide\n",
    "# g = g.reset_index(['date'])"
   ]
  },
  {
   "cell_type": "code",
   "execution_count": 25,
   "id": "incomplete-mustang",
   "metadata": {
    "execution": {
     "iopub.execute_input": "2021-11-22T00:25:09.216757Z",
     "iopub.status.busy": "2021-11-22T00:25:09.216138Z",
     "iopub.status.idle": "2021-11-22T00:25:09.218732Z",
     "shell.execute_reply": "2021-11-22T00:25:09.218086Z"
    },
    "papermill": {
     "duration": 0.044803,
     "end_time": "2021-11-22T00:25:09.218838",
     "exception": false,
     "start_time": "2021-11-22T00:25:09.174035",
     "status": "completed"
    },
    "tags": []
   },
   "outputs": [],
   "source": [
    "#hide\n",
    "# g.head()"
   ]
  },
  {
   "cell_type": "code",
   "execution_count": 26,
   "id": "specific-kruger",
   "metadata": {
    "execution": {
     "iopub.execute_input": "2021-11-22T00:25:09.297548Z",
     "iopub.status.busy": "2021-11-22T00:25:09.296872Z",
     "iopub.status.idle": "2021-11-22T00:25:09.299353Z",
     "shell.execute_reply": "2021-11-22T00:25:09.298763Z"
    },
    "papermill": {
     "duration": 0.042848,
     "end_time": "2021-11-22T00:25:09.299502",
     "exception": false,
     "start_time": "2021-11-22T00:25:09.256654",
     "status": "completed"
    },
    "tags": []
   },
   "outputs": [],
   "source": [
    "#hide\n",
    "# g.columns = ['date','country','cases']"
   ]
  },
  {
   "cell_type": "code",
   "execution_count": 27,
   "id": "tender-conversion",
   "metadata": {
    "execution": {
     "iopub.execute_input": "2021-11-22T00:25:09.378103Z",
     "iopub.status.busy": "2021-11-22T00:25:09.377484Z",
     "iopub.status.idle": "2021-11-22T00:25:09.379686Z",
     "shell.execute_reply": "2021-11-22T00:25:09.380125Z"
    },
    "papermill": {
     "duration": 0.042848,
     "end_time": "2021-11-22T00:25:09.380326",
     "exception": false,
     "start_time": "2021-11-22T00:25:09.337478",
     "status": "completed"
    },
    "tags": []
   },
   "outputs": [],
   "source": [
    "#hide\n",
    "# g['continent'] = g.country"
   ]
  },
  {
   "cell_type": "code",
   "execution_count": 28,
   "id": "substantial-wilderness",
   "metadata": {
    "execution": {
     "iopub.execute_input": "2021-11-22T00:25:09.459390Z",
     "iopub.status.busy": "2021-11-22T00:25:09.458704Z",
     "iopub.status.idle": "2021-11-22T00:25:09.463422Z",
     "shell.execute_reply": "2021-11-22T00:25:09.462874Z"
    },
    "papermill": {
     "duration": 0.0442,
     "end_time": "2021-11-22T00:25:09.463542",
     "exception": false,
     "start_time": "2021-11-22T00:25:09.419342",
     "status": "completed"
    },
    "tags": []
   },
   "outputs": [],
   "source": [
    "#hide\n",
    "# cols = list(g.columns.values)"
   ]
  },
  {
   "cell_type": "code",
   "execution_count": 29,
   "id": "solved-farming",
   "metadata": {
    "execution": {
     "iopub.execute_input": "2021-11-22T00:25:09.540410Z",
     "iopub.status.busy": "2021-11-22T00:25:09.539793Z",
     "iopub.status.idle": "2021-11-22T00:25:09.541769Z",
     "shell.execute_reply": "2021-11-22T00:25:09.542289Z"
    },
    "papermill": {
     "duration": 0.041038,
     "end_time": "2021-11-22T00:25:09.542625",
     "exception": false,
     "start_time": "2021-11-22T00:25:09.501587",
     "status": "completed"
    },
    "tags": []
   },
   "outputs": [],
   "source": [
    "#hide\n",
    "# cols.insert(0, cols.pop())"
   ]
  },
  {
   "cell_type": "code",
   "execution_count": 30,
   "id": "executed-adoption",
   "metadata": {
    "execution": {
     "iopub.execute_input": "2021-11-22T00:25:09.624372Z",
     "iopub.status.busy": "2021-11-22T00:25:09.623722Z",
     "iopub.status.idle": "2021-11-22T00:25:09.627559Z",
     "shell.execute_reply": "2021-11-22T00:25:09.628071Z"
    },
    "papermill": {
     "duration": 0.047659,
     "end_time": "2021-11-22T00:25:09.628198",
     "exception": false,
     "start_time": "2021-11-22T00:25:09.580539",
     "status": "completed"
    },
    "tags": []
   },
   "outputs": [],
   "source": [
    "#hide\n",
    "# g = g[cols]"
   ]
  },
  {
   "cell_type": "code",
   "execution_count": 31,
   "id": "subject-dublin",
   "metadata": {
    "execution": {
     "iopub.execute_input": "2021-11-22T00:25:09.708383Z",
     "iopub.status.busy": "2021-11-22T00:25:09.707649Z",
     "iopub.status.idle": "2021-11-22T00:25:09.712130Z",
     "shell.execute_reply": "2021-11-22T00:25:09.712781Z"
    },
    "papermill": {
     "duration": 0.04713,
     "end_time": "2021-11-22T00:25:09.712915",
     "exception": false,
     "start_time": "2021-11-22T00:25:09.665785",
     "status": "completed"
    },
    "tags": []
   },
   "outputs": [],
   "source": [
    "#hide\n",
    "# g['continent'] = g['continent'].map(mapping['map.continent'])"
   ]
  },
  {
   "cell_type": "code",
   "execution_count": 32,
   "id": "freelance-scout",
   "metadata": {
    "execution": {
     "iopub.execute_input": "2021-11-22T00:25:09.794822Z",
     "iopub.status.busy": "2021-11-22T00:25:09.794158Z",
     "iopub.status.idle": "2021-11-22T00:25:09.796251Z",
     "shell.execute_reply": "2021-11-22T00:25:09.796766Z"
    },
    "papermill": {
     "duration": 0.044358,
     "end_time": "2021-11-22T00:25:09.796899",
     "exception": false,
     "start_time": "2021-11-22T00:25:09.752541",
     "status": "completed"
    },
    "tags": []
   },
   "outputs": [],
   "source": [
    "#hide\n",
    "# g.head()"
   ]
  },
  {
   "cell_type": "code",
   "execution_count": 33,
   "id": "limited-engine",
   "metadata": {
    "execution": {
     "iopub.execute_input": "2021-11-22T00:25:09.874566Z",
     "iopub.status.busy": "2021-11-22T00:25:09.873882Z",
     "iopub.status.idle": "2021-11-22T00:25:09.875990Z",
     "shell.execute_reply": "2021-11-22T00:25:09.876576Z"
    },
    "papermill": {
     "duration": 0.041324,
     "end_time": "2021-11-22T00:25:09.876731",
     "exception": false,
     "start_time": "2021-11-22T00:25:09.835407",
     "status": "completed"
    },
    "tags": []
   },
   "outputs": [],
   "source": [
    "# hide\n",
    "# g['date'] = g['date'].astype('datetime64[ns]')"
   ]
  },
  {
   "cell_type": "code",
   "execution_count": 34,
   "id": "sophisticated-supervisor",
   "metadata": {
    "execution": {
     "iopub.execute_input": "2021-11-22T00:25:09.954076Z",
     "iopub.status.busy": "2021-11-22T00:25:09.953416Z",
     "iopub.status.idle": "2021-11-22T00:25:09.957265Z",
     "shell.execute_reply": "2021-11-22T00:25:09.957819Z"
    },
    "papermill": {
     "duration": 0.044315,
     "end_time": "2021-11-22T00:25:09.957986",
     "exception": false,
     "start_time": "2021-11-22T00:25:09.913671",
     "status": "completed"
    },
    "tags": []
   },
   "outputs": [],
   "source": [
    "#hide\n",
    "# g['date'] = g.date.dt.dayofyear"
   ]
  },
  {
   "cell_type": "code",
   "execution_count": 35,
   "id": "inside-dubai",
   "metadata": {
    "execution": {
     "iopub.execute_input": "2021-11-22T00:25:10.038525Z",
     "iopub.status.busy": "2021-11-22T00:25:10.037709Z",
     "iopub.status.idle": "2021-11-22T00:25:10.040387Z",
     "shell.execute_reply": "2021-11-22T00:25:10.039868Z"
    },
    "papermill": {
     "duration": 0.044028,
     "end_time": "2021-11-22T00:25:10.040497",
     "exception": false,
     "start_time": "2021-11-22T00:25:09.996469",
     "status": "completed"
    },
    "tags": []
   },
   "outputs": [],
   "source": [
    "#hide\n",
    "# g = g.rename(columns= {'continent':'group','country':'name','cases':'value'})"
   ]
  },
  {
   "cell_type": "code",
   "execution_count": 36,
   "id": "fleet-motorcycle",
   "metadata": {
    "execution": {
     "iopub.execute_input": "2021-11-22T00:25:10.120994Z",
     "iopub.status.busy": "2021-11-22T00:25:10.120375Z",
     "iopub.status.idle": "2021-11-22T00:25:10.123972Z",
     "shell.execute_reply": "2021-11-22T00:25:10.124401Z"
    },
    "papermill": {
     "duration": 0.044021,
     "end_time": "2021-11-22T00:25:10.124591",
     "exception": false,
     "start_time": "2021-11-22T00:25:10.080570",
     "status": "completed"
    },
    "tags": []
   },
   "outputs": [],
   "source": [
    "#hide\n",
    "# cols = ['name','group','day','value']"
   ]
  },
  {
   "cell_type": "code",
   "execution_count": 37,
   "id": "continued-sleeping",
   "metadata": {
    "execution": {
     "iopub.execute_input": "2021-11-22T00:25:10.204894Z",
     "iopub.status.busy": "2021-11-22T00:25:10.204209Z",
     "iopub.status.idle": "2021-11-22T00:25:10.206369Z",
     "shell.execute_reply": "2021-11-22T00:25:10.206824Z"
    },
    "papermill": {
     "duration": 0.043695,
     "end_time": "2021-11-22T00:25:10.206950",
     "exception": false,
     "start_time": "2021-11-22T00:25:10.163255",
     "status": "completed"
    },
    "tags": []
   },
   "outputs": [],
   "source": [
    "#hide\n",
    "# g.rename(columns= {'date':'day'},inplace = True)"
   ]
  },
  {
   "cell_type": "code",
   "execution_count": 38,
   "id": "major-fight",
   "metadata": {
    "execution": {
     "iopub.execute_input": "2021-11-22T00:25:10.287614Z",
     "iopub.status.busy": "2021-11-22T00:25:10.286936Z",
     "iopub.status.idle": "2021-11-22T00:25:10.290645Z",
     "shell.execute_reply": "2021-11-22T00:25:10.291357Z"
    },
    "papermill": {
     "duration": 0.04508,
     "end_time": "2021-11-22T00:25:10.291517",
     "exception": false,
     "start_time": "2021-11-22T00:25:10.246437",
     "status": "completed"
    },
    "tags": []
   },
   "outputs": [],
   "source": [
    "#hide\n",
    "# g = g[cols]"
   ]
  },
  {
   "cell_type": "code",
   "execution_count": 39,
   "id": "structured-mobile",
   "metadata": {
    "execution": {
     "iopub.execute_input": "2021-11-22T00:25:10.371337Z",
     "iopub.status.busy": "2021-11-22T00:25:10.370724Z",
     "iopub.status.idle": "2021-11-22T00:25:10.374200Z",
     "shell.execute_reply": "2021-11-22T00:25:10.373535Z"
    },
    "papermill": {
     "duration": 0.043816,
     "end_time": "2021-11-22T00:25:10.374412",
     "exception": false,
     "start_time": "2021-11-22T00:25:10.330596",
     "status": "completed"
    },
    "tags": []
   },
   "outputs": [],
   "source": [
    "# #hide\n",
    "# g = g[g.group.notna()]"
   ]
  },
  {
   "cell_type": "code",
   "execution_count": 40,
   "id": "determined-closing",
   "metadata": {
    "execution": {
     "iopub.execute_input": "2021-11-22T00:25:10.452120Z",
     "iopub.status.busy": "2021-11-22T00:25:10.451399Z",
     "iopub.status.idle": "2021-11-22T00:25:10.454207Z",
     "shell.execute_reply": "2021-11-22T00:25:10.453623Z"
    },
    "papermill": {
     "duration": 0.042431,
     "end_time": "2021-11-22T00:25:10.454313",
     "exception": false,
     "start_time": "2021-11-22T00:25:10.411882",
     "status": "completed"
    },
    "tags": []
   },
   "outputs": [],
   "source": [
    "# #hide\n",
    "# colors = dict(zip(\n",
    "#     [\"Oceania\", \"Europe\", \"Asia\", \"South America\", \"Middle East\", \"North America\", \"Africa\"],\n",
    "#     [\"#adb0ff\", \"#ffb3ff\", \"#90d595\", \"#e48381\", \"#aafbff\", \"#f7bb5f\", \"#eafb50\"]\n",
    "# ))\n",
    "# group_lk = g.set_index('name')['group'].to_dict()"
   ]
  },
  {
   "cell_type": "code",
   "execution_count": null,
   "id": "gross-drinking",
   "metadata": {
    "papermill": {
     "duration": 0.03597,
     "end_time": "2021-11-22T00:25:10.526955",
     "exception": false,
     "start_time": "2021-11-22T00:25:10.490985",
     "status": "completed"
    },
    "tags": []
   },
   "outputs": [],
   "source": []
  },
  {
   "cell_type": "code",
   "execution_count": 41,
   "id": "subject-macintosh",
   "metadata": {
    "execution": {
     "iopub.execute_input": "2021-11-22T00:25:10.602658Z",
     "iopub.status.busy": "2021-11-22T00:25:10.601821Z",
     "iopub.status.idle": "2021-11-22T00:25:10.604433Z",
     "shell.execute_reply": "2021-11-22T00:25:10.605053Z"
    },
    "papermill": {
     "duration": 0.043376,
     "end_time": "2021-11-22T00:25:10.605180",
     "exception": false,
     "start_time": "2021-11-22T00:25:10.561804",
     "status": "completed"
    },
    "tags": []
   },
   "outputs": [],
   "source": [
    "# #hide\n",
    "# fig, ax = plt.subplots(figsize=(15, 8))\n",
    "\n",
    "# def draw_barchart(current_day):\n",
    "#     dff = g[g['day'].eq(current_day)].sort_values(by='value', ascending=True).tail(10)\n",
    "#     ax.clear()\n",
    "#     ax.barh(dff['name'], dff['value'], color=[colors[group_lk[x]] for x in dff['name']])\n",
    "#     dx = dff['value'].max() / 200\n",
    "    \n",
    "#     for i, (value, name) in enumerate(zip(dff['value'], dff['name'])):\n",
    "#         ax.text(value-dx, i,     name,           size=14, weight=600, ha='right', va='bottom')\n",
    "#         ax.text(value-dx, i-.25, group_lk[name], size=10, color='#444444', ha='right', va='baseline')\n",
    "#         ax.text(value+dx, i,     f'{value:,.0f}',  size=14, ha='left',  va='center')\n",
    "#     ax.text(1, 0.4, current_day, transform=ax.transAxes, color='#777777', size=46, ha='right', weight=800)\n",
    "#     ax.text(0, 1.06, 'Population (thousands)', transform=ax.transAxes, size=12, color='#777777')\n",
    "#     ax.xaxis.set_major_formatter(ticker.StrMethodFormatter('{x:,.0f}'))\n",
    "#     ax.xaxis.set_ticks_position('top')\n",
    "#     ax.tick_params(axis='x', colors='#777777', labelsize=12)\n",
    "#     ax.set_yticks([])\n",
    "#     ax.margins(0, 0.01)\n",
    "#     ax.grid(which='major', axis='x', linestyle='-')\n",
    "#     ax.set_axisbelow(True)\n",
    "    \n",
    "#     ax.text(0, 1.15, 'Coronavirus',\n",
    "#             transform=ax.transAxes, size=24, weight=600, ha='left', va='top')\n",
    "# #     ax.text(1, 0, 'by @pratapvardhan; credit @jburnmurdoch', transform=ax.transAxes, color='#777777', ha='right',\n",
    "# #             bbox=dict(facecolor='white', alpha=0.8, edgecolor='white'))\n",
    "#     plt.box(False)"
   ]
  },
  {
   "cell_type": "code",
   "execution_count": 42,
   "id": "sexual-wages",
   "metadata": {
    "execution": {
     "iopub.execute_input": "2021-11-22T00:25:10.692513Z",
     "iopub.status.busy": "2021-11-22T00:25:10.691935Z",
     "iopub.status.idle": "2021-11-22T00:25:10.694173Z",
     "shell.execute_reply": "2021-11-22T00:25:10.694834Z"
    },
    "papermill": {
     "duration": 0.052546,
     "end_time": "2021-11-22T00:25:10.695030",
     "exception": false,
     "start_time": "2021-11-22T00:25:10.642484",
     "status": "completed"
    },
    "tags": []
   },
   "outputs": [],
   "source": [
    "# #hide_input\n",
    "# fig, ax = plt.subplots(figsize=(15, 8))\n",
    "# animator = animation.FuncAnimation(fig, draw_barchart, frames=range(g.day.values.min(), g.day.values.max()))\n",
    "# HTML(animator.to_jshtml())\n",
    "# # or use animator.to_html5_video() or animator.save() "
   ]
  },
  {
   "cell_type": "code",
   "execution_count": null,
   "id": "australian-container",
   "metadata": {
    "papermill": {
     "duration": 0.041107,
     "end_time": "2021-11-22T00:25:10.779215",
     "exception": false,
     "start_time": "2021-11-22T00:25:10.738108",
     "status": "completed"
    },
    "tags": []
   },
   "outputs": [],
   "source": []
  },
  {
   "cell_type": "code",
   "execution_count": null,
   "id": "mediterranean-pontiac",
   "metadata": {
    "papermill": {
     "duration": 0.035855,
     "end_time": "2021-11-22T00:25:10.849923",
     "exception": false,
     "start_time": "2021-11-22T00:25:10.814068",
     "status": "completed"
    },
    "tags": []
   },
   "outputs": [],
   "source": []
  },
  {
   "cell_type": "code",
   "execution_count": null,
   "id": "aging-legislature",
   "metadata": {
    "papermill": {
     "duration": 0.035874,
     "end_time": "2021-11-22T00:25:10.922149",
     "exception": false,
     "start_time": "2021-11-22T00:25:10.886275",
     "status": "completed"
    },
    "tags": []
   },
   "outputs": [],
   "source": []
  }
 ],
 "metadata": {
  "kernelspec": {
   "display_name": "Python 3",
   "language": "python",
   "name": "python3"
  },
  "language_info": {
   "codemirror_mode": {
    "name": "ipython",
    "version": 3
   },
   "file_extension": ".py",
   "mimetype": "text/x-python",
   "name": "python",
   "nbconvert_exporter": "python",
   "pygments_lexer": "ipython3",
   "version": "3.6.15"
  },
  "papermill": {
   "duration": 6.898097,
   "end_time": "2021-11-22T00:25:11.266529",
   "environment_variables": {},
   "exception": null,
   "input_path": "2020-03-21-covid19exp.ipynb",
   "output_path": "2020-03-21-covid19exp.ipynb",
   "parameters": {},
   "start_time": "2021-11-22T00:25:04.368432",
   "version": "2.0.0"
  }
 },
 "nbformat": 4,
 "nbformat_minor": 5
}