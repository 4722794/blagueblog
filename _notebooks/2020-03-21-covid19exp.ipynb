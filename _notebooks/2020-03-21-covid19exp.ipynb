{
 "cells": [
  {
   "cell_type": "markdown",
   "id": "muslim-click",
   "metadata": {
    "papermill": {
     "duration": 0.044205,
     "end_time": "2021-03-03T00:11:04.332106",
     "exception": false,
     "start_time": "2021-03-03T00:11:04.287901",
     "status": "completed"
    },
    "tags": []
   },
   "source": [
    "# COVID-19 Case Race\n",
    "> A race chart to see rising cases around the world\n",
    "\n",
    "- author: Hargun Oberoi\n",
    "- image: images/covid-overview.png\n",
    "- hide: false\n",
    "- badges: false"
   ]
  },
  {
   "cell_type": "code",
   "execution_count": 1,
   "id": "proof-material",
   "metadata": {
    "execution": {
     "iopub.execute_input": "2021-03-03T00:11:04.420793Z",
     "iopub.status.busy": "2021-03-03T00:11:04.420115Z",
     "iopub.status.idle": "2021-03-03T00:11:04.774683Z",
     "shell.execute_reply": "2021-03-03T00:11:04.775459Z"
    },
    "papermill": {
     "duration": 0.404354,
     "end_time": "2021-03-03T00:11:04.775717",
     "exception": false,
     "start_time": "2021-03-03T00:11:04.371363",
     "status": "completed"
    },
    "tags": []
   },
   "outputs": [],
   "source": [
    "#hide\n",
    "import numpy as np\n",
    "import pandas as pd\n",
    "from jinja2 import Template\n",
    "from IPython.display import HTML"
   ]
  },
  {
   "cell_type": "code",
   "execution_count": 2,
   "id": "developed-terminology",
   "metadata": {
    "execution": {
     "iopub.execute_input": "2021-03-03T00:11:04.850689Z",
     "iopub.status.busy": "2021-03-03T00:11:04.850057Z",
     "iopub.status.idle": "2021-03-03T00:11:04.851431Z",
     "shell.execute_reply": "2021-03-03T00:11:04.851995Z"
    },
    "papermill": {
     "duration": 0.04123,
     "end_time": "2021-03-03T00:11:04.852137",
     "exception": false,
     "start_time": "2021-03-03T00:11:04.810907",
     "status": "completed"
    },
    "tags": []
   },
   "outputs": [],
   "source": [
    "#hide\n",
    "\n",
    "# FETCH\n",
    "base_url = 'https://raw.githubusercontent.com/pratapvardhan/notebooks/master/covid19/'\n",
    "paths = {\n",
    "    'mapping': base_url + 'mapping_countries.csv',\n",
    "    'overview': base_url + 'overview.tpl'\n",
    "}"
   ]
  },
  {
   "cell_type": "code",
   "execution_count": 3,
   "id": "dynamic-saver",
   "metadata": {
    "execution": {
     "iopub.execute_input": "2021-03-03T00:11:04.930764Z",
     "iopub.status.busy": "2021-03-03T00:11:04.930091Z",
     "iopub.status.idle": "2021-03-03T00:11:04.932244Z",
     "shell.execute_reply": "2021-03-03T00:11:04.932843Z"
    },
    "papermill": {
     "duration": 0.047272,
     "end_time": "2021-03-03T00:11:04.932988",
     "exception": false,
     "start_time": "2021-03-03T00:11:04.885716",
     "status": "completed"
    },
    "tags": []
   },
   "outputs": [
    {
     "data": {
      "text/plain": [
       "'https://raw.githubusercontent.com/pratapvardhan/notebooks/master/covid19/mapping_countries.csv'"
      ]
     },
     "execution_count": 3,
     "metadata": {},
     "output_type": "execute_result"
    }
   ],
   "source": [
    "#hide\n",
    "paths['mapping']"
   ]
  },
  {
   "cell_type": "code",
   "execution_count": 4,
   "id": "urban-software",
   "metadata": {
    "execution": {
     "iopub.execute_input": "2021-03-03T00:11:05.005959Z",
     "iopub.status.busy": "2021-03-03T00:11:05.005289Z",
     "iopub.status.idle": "2021-03-03T00:11:05.008232Z",
     "shell.execute_reply": "2021-03-03T00:11:05.007783Z"
    },
    "papermill": {
     "duration": 0.041523,
     "end_time": "2021-03-03T00:11:05.008351",
     "exception": false,
     "start_time": "2021-03-03T00:11:04.966828",
     "status": "completed"
    },
    "tags": []
   },
   "outputs": [],
   "source": [
    "#hide\n",
    "def get_mappings(url):\n",
    "    df = pd.read_csv(url)\n",
    "    return {\n",
    "        'df': df,\n",
    "        'replace.country': dict(df.dropna(subset=['Name']).set_index('Country')['Name']),\n",
    "        'map.continent': dict(df.set_index('Name')['Continent'])\n",
    "    }"
   ]
  },
  {
   "cell_type": "code",
   "execution_count": 5,
   "id": "intimate-machinery",
   "metadata": {
    "execution": {
     "iopub.execute_input": "2021-03-03T00:11:05.083761Z",
     "iopub.status.busy": "2021-03-03T00:11:05.083118Z",
     "iopub.status.idle": "2021-03-03T00:11:05.116598Z",
     "shell.execute_reply": "2021-03-03T00:11:05.115732Z"
    },
    "papermill": {
     "duration": 0.07479,
     "end_time": "2021-03-03T00:11:05.116804",
     "exception": false,
     "start_time": "2021-03-03T00:11:05.042014",
     "status": "completed"
    },
    "tags": []
   },
   "outputs": [],
   "source": [
    "#hide\n",
    "mapping = get_mappings(paths['mapping'])"
   ]
  },
  {
   "cell_type": "code",
   "execution_count": 6,
   "id": "certified-tactics",
   "metadata": {
    "execution": {
     "iopub.execute_input": "2021-03-03T00:11:05.198658Z",
     "iopub.status.busy": "2021-03-03T00:11:05.198020Z",
     "iopub.status.idle": "2021-03-03T00:11:05.200276Z",
     "shell.execute_reply": "2021-03-03T00:11:05.199798Z"
    },
    "papermill": {
     "duration": 0.047099,
     "end_time": "2021-03-03T00:11:05.200424",
     "exception": false,
     "start_time": "2021-03-03T00:11:05.153325",
     "status": "completed"
    },
    "tags": []
   },
   "outputs": [],
   "source": [
    "#hide\n",
    "def get_template(path):\n",
    "    from urllib.parse import urlparse\n",
    "    if bool(urlparse(path).netloc):\n",
    "        from urllib.request import urlopen\n",
    "        return urlopen(path).read().decode('utf8')\n",
    "    return open(path).read()"
   ]
  },
  {
   "cell_type": "code",
   "execution_count": 7,
   "id": "realistic-blast",
   "metadata": {
    "execution": {
     "iopub.execute_input": "2021-03-03T00:11:05.278097Z",
     "iopub.status.busy": "2021-03-03T00:11:05.277461Z",
     "iopub.status.idle": "2021-03-03T00:11:05.279351Z",
     "shell.execute_reply": "2021-03-03T00:11:05.279771Z"
    },
    "papermill": {
     "duration": 0.044859,
     "end_time": "2021-03-03T00:11:05.279910",
     "exception": false,
     "start_time": "2021-03-03T00:11:05.235051",
     "status": "completed"
    },
    "tags": []
   },
   "outputs": [],
   "source": [
    "#hide\n",
    "def get_frame(name):\n",
    "    url = (\n",
    "        'https://raw.githubusercontent.com/CSSEGISandData/COVID-19/master/csse_covid_19_data/'\n",
    "        f'csse_covid_19_time_series/time_series_covid19_{name}_global.csv')\n",
    "    df = pd.read_csv(url)\n",
    "    # rename countries\n",
    "    df['Country/Region'] = df['Country/Region'].replace(mapping['replace.country'])\n",
    "    return df"
   ]
  },
  {
   "cell_type": "code",
   "execution_count": 8,
   "id": "affiliated-characterization",
   "metadata": {
    "execution": {
     "iopub.execute_input": "2021-03-03T00:11:05.353754Z",
     "iopub.status.busy": "2021-03-03T00:11:05.353146Z",
     "iopub.status.idle": "2021-03-03T00:11:05.355619Z",
     "shell.execute_reply": "2021-03-03T00:11:05.356187Z"
    },
    "papermill": {
     "duration": 0.0428,
     "end_time": "2021-03-03T00:11:05.356330",
     "exception": false,
     "start_time": "2021-03-03T00:11:05.313530",
     "status": "completed"
    },
    "tags": []
   },
   "outputs": [],
   "source": [
    "#hide\n",
    "def get_dates(df):\n",
    "    dt_cols = df.columns[~df.columns.isin(['Province/State', 'Country/Region', 'Lat', 'Long'])]\n",
    "    LAST_DATE_I = -1\n",
    "    # sometimes last column may be empty, then go backwards\n",
    "    for i in range(-1, -len(dt_cols), -1):\n",
    "        if not df[dt_cols[i]].fillna(0).eq(0).all():\n",
    "            LAST_DATE_I = i\n",
    "            break\n",
    "    return LAST_DATE_I, dt_cols"
   ]
  },
  {
   "cell_type": "code",
   "execution_count": 9,
   "id": "recent-optimization",
   "metadata": {
    "execution": {
     "iopub.execute_input": "2021-03-03T00:11:05.430850Z",
     "iopub.status.busy": "2021-03-03T00:11:05.430180Z",
     "iopub.status.idle": "2021-03-03T00:11:05.696878Z",
     "shell.execute_reply": "2021-03-03T00:11:05.696266Z"
    },
    "papermill": {
     "duration": 0.307716,
     "end_time": "2021-03-03T00:11:05.697016",
     "exception": false,
     "start_time": "2021-03-03T00:11:05.389300",
     "status": "completed"
    },
    "tags": []
   },
   "outputs": [],
   "source": [
    "#hide\n",
    "COL_REGION = 'Country/Region'\n",
    "# Confirmed, Recovered, Deaths\n",
    "df = get_frame('confirmed')\n",
    "# dft_: timeseries, dfc_: today country agg\n",
    "dft_cases = df\n",
    "dft_deaths = get_frame('deaths')\n",
    "dft_recovered = get_frame('recovered')\n",
    "LAST_DATE_I, dt_cols = get_dates(df)"
   ]
  },
  {
   "cell_type": "code",
   "execution_count": 10,
   "id": "absolute-copper",
   "metadata": {
    "execution": {
     "iopub.execute_input": "2021-03-03T00:11:05.772171Z",
     "iopub.status.busy": "2021-03-03T00:11:05.771365Z",
     "iopub.status.idle": "2021-03-03T00:11:05.773091Z",
     "shell.execute_reply": "2021-03-03T00:11:05.773759Z"
    },
    "papermill": {
     "duration": 0.043071,
     "end_time": "2021-03-03T00:11:05.773945",
     "exception": false,
     "start_time": "2021-03-03T00:11:05.730874",
     "status": "completed"
    },
    "tags": []
   },
   "outputs": [],
   "source": [
    "#hide\n",
    "LAST_DATE_I, dt_cols = get_dates(df)\n",
    "dt_today =dt_cols[LAST_DATE_I]\n",
    "# dt_5day = dt_cols[LAST_DATE_I - 5]\n",
    "dt_yday = dt_cols[LAST_DATE_I - 1]"
   ]
  },
  {
   "cell_type": "code",
   "execution_count": 11,
   "id": "restricted-sheriff",
   "metadata": {
    "execution": {
     "iopub.execute_input": "2021-03-03T00:11:05.858051Z",
     "iopub.status.busy": "2021-03-03T00:11:05.857449Z",
     "iopub.status.idle": "2021-03-03T00:11:05.864120Z",
     "shell.execute_reply": "2021-03-03T00:11:05.863585Z"
    },
    "papermill": {
     "duration": 0.050585,
     "end_time": "2021-03-03T00:11:05.864289",
     "exception": false,
     "start_time": "2021-03-03T00:11:05.813704",
     "status": "completed"
    },
    "tags": []
   },
   "outputs": [],
   "source": [
    "#hide\n",
    "dfc_cases = dft_cases.groupby(COL_REGION)[dt_today].sum()\n",
    "dfc_deaths = dft_deaths.groupby(COL_REGION)[dt_today].sum()\n",
    "# dfp_cases = dft_cases.groupby(COL_REGION)[dt_5day].sum()\n",
    "# dfp_deaths = dft_deaths.groupby(COL_REGION)[dt_5day].sum()\n",
    "dfp_cases = dft_cases.groupby(COL_REGION)[dt_yday].sum()\n",
    "dfp_deaths = dft_deaths.groupby(COL_REGION)[dt_yday].sum()"
   ]
  },
  {
   "cell_type": "code",
   "execution_count": 12,
   "id": "deluxe-hepatitis",
   "metadata": {
    "execution": {
     "iopub.execute_input": "2021-03-03T00:11:05.942241Z",
     "iopub.status.busy": "2021-03-03T00:11:05.941660Z",
     "iopub.status.idle": "2021-03-03T00:11:05.948485Z",
     "shell.execute_reply": "2021-03-03T00:11:05.947977Z"
    },
    "papermill": {
     "duration": 0.049645,
     "end_time": "2021-03-03T00:11:05.948608",
     "exception": false,
     "start_time": "2021-03-03T00:11:05.898963",
     "status": "completed"
    },
    "tags": []
   },
   "outputs": [],
   "source": [
    "#hide\n",
    "df_table = (pd.DataFrame(dict(Cases = dfc_cases, Deaths = dfc_deaths, PCases = dfp_cases, PDeaths = dfp_deaths))\n",
    "            .sort_values(by = ['Cases','Deaths'], ascending = [False, False])\n",
    "            .reset_index())"
   ]
  },
  {
   "cell_type": "code",
   "execution_count": 13,
   "id": "educational-chancellor",
   "metadata": {
    "execution": {
     "iopub.execute_input": "2021-03-03T00:11:06.037960Z",
     "iopub.status.busy": "2021-03-03T00:11:06.037326Z",
     "iopub.status.idle": "2021-03-03T00:11:06.051603Z",
     "shell.execute_reply": "2021-03-03T00:11:06.052299Z"
    },
    "papermill": {
     "duration": 0.068958,
     "end_time": "2021-03-03T00:11:06.052519",
     "exception": false,
     "start_time": "2021-03-03T00:11:05.983561",
     "status": "completed"
    },
    "tags": []
   },
   "outputs": [
    {
     "data": {
      "text/html": [
       "<div>\n",
       "<style scoped>\n",
       "    .dataframe tbody tr th:only-of-type {\n",
       "        vertical-align: middle;\n",
       "    }\n",
       "\n",
       "    .dataframe tbody tr th {\n",
       "        vertical-align: top;\n",
       "    }\n",
       "\n",
       "    .dataframe thead th {\n",
       "        text-align: right;\n",
       "    }\n",
       "</style>\n",
       "<table border=\"1\" class=\"dataframe\">\n",
       "  <thead>\n",
       "    <tr style=\"text-align: right;\">\n",
       "      <th></th>\n",
       "      <th>Country/Region</th>\n",
       "      <th>Cases</th>\n",
       "      <th>Deaths</th>\n",
       "      <th>PCases</th>\n",
       "      <th>PDeaths</th>\n",
       "      <th>Cases (+)</th>\n",
       "      <th>Deaths (+)</th>\n",
       "      <th>Fatality Rate</th>\n",
       "      <th>Continent</th>\n",
       "    </tr>\n",
       "  </thead>\n",
       "  <tbody>\n",
       "    <tr>\n",
       "      <th>0</th>\n",
       "      <td>US</td>\n",
       "      <td>28664481</td>\n",
       "      <td>514657</td>\n",
       "      <td>28605671</td>\n",
       "      <td>513092</td>\n",
       "      <td>58810</td>\n",
       "      <td>1565</td>\n",
       "      <td>1.80</td>\n",
       "      <td>North America</td>\n",
       "    </tr>\n",
       "    <tr>\n",
       "      <th>1</th>\n",
       "      <td>India</td>\n",
       "      <td>11124527</td>\n",
       "      <td>157248</td>\n",
       "      <td>11112241</td>\n",
       "      <td>157157</td>\n",
       "      <td>12286</td>\n",
       "      <td>91</td>\n",
       "      <td>1.41</td>\n",
       "      <td>Asia</td>\n",
       "    </tr>\n",
       "    <tr>\n",
       "      <th>2</th>\n",
       "      <td>Brazil</td>\n",
       "      <td>10587001</td>\n",
       "      <td>255720</td>\n",
       "      <td>10551259</td>\n",
       "      <td>254942</td>\n",
       "      <td>35742</td>\n",
       "      <td>778</td>\n",
       "      <td>2.42</td>\n",
       "      <td>South America</td>\n",
       "    </tr>\n",
       "    <tr>\n",
       "      <th>3</th>\n",
       "      <td>Russia</td>\n",
       "      <td>4209850</td>\n",
       "      <td>85025</td>\n",
       "      <td>4198400</td>\n",
       "      <td>84700</td>\n",
       "      <td>11450</td>\n",
       "      <td>325</td>\n",
       "      <td>2.02</td>\n",
       "      <td>Europe</td>\n",
       "    </tr>\n",
       "    <tr>\n",
       "      <th>4</th>\n",
       "      <td>United Kingdom</td>\n",
       "      <td>4194289</td>\n",
       "      <td>123187</td>\n",
       "      <td>4188827</td>\n",
       "      <td>123083</td>\n",
       "      <td>5462</td>\n",
       "      <td>104</td>\n",
       "      <td>2.94</td>\n",
       "      <td>Europe</td>\n",
       "    </tr>\n",
       "  </tbody>\n",
       "</table>\n",
       "</div>"
      ],
      "text/plain": [
       "   Country/Region     Cases  Deaths    PCases  PDeaths  Cases (+)  Deaths (+)  \\\n",
       "0              US  28664481  514657  28605671   513092      58810        1565   \n",
       "1           India  11124527  157248  11112241   157157      12286          91   \n",
       "2          Brazil  10587001  255720  10551259   254942      35742         778   \n",
       "3          Russia   4209850   85025   4198400    84700      11450         325   \n",
       "4  United Kingdom   4194289  123187   4188827   123083       5462         104   \n",
       "\n",
       "   Fatality Rate      Continent  \n",
       "0           1.80  North America  \n",
       "1           1.41           Asia  \n",
       "2           2.42  South America  \n",
       "3           2.02         Europe  \n",
       "4           2.94         Europe  "
      ]
     },
     "execution_count": 13,
     "metadata": {},
     "output_type": "execute_result"
    }
   ],
   "source": [
    "#hide\n",
    "for c in 'Cases, Deaths'.split(', '):\n",
    "    df_table[f'{c} (+)'] = (df_table[c] - df_table[f'P{c}']).clip(0)\n",
    "    #Clip ça veut dire, les chiffres negatif sont interdit\n",
    "df_table['Fatality Rate'] = (100* df_table['Deaths']/ df_table['Cases']).round(2)\n",
    "df_table['Continent'] = df_table['Country/Region'].map(mapping['map.continent'])\n",
    "df_table.head(5)"
   ]
  },
  {
   "cell_type": "code",
   "execution_count": 14,
   "id": "aboriginal-bulgaria",
   "metadata": {
    "execution": {
     "iopub.execute_input": "2021-03-03T00:11:06.137817Z",
     "iopub.status.busy": "2021-03-03T00:11:06.137194Z",
     "iopub.status.idle": "2021-03-03T00:11:06.139483Z",
     "shell.execute_reply": "2021-03-03T00:11:06.139008Z"
    },
    "papermill": {
     "duration": 0.044231,
     "end_time": "2021-03-03T00:11:06.139604",
     "exception": false,
     "start_time": "2021-03-03T00:11:06.095373",
     "status": "completed"
    },
    "tags": []
   },
   "outputs": [],
   "source": [
    "#hide\n",
    "#delete problematic countries from table\n",
    "df_table = df_table[~df_table['Country/Region'].isin(['Cape Verde', 'Cruise Ship', 'Kosovo'])]"
   ]
  },
  {
   "cell_type": "code",
   "execution_count": 15,
   "id": "fantastic-effect",
   "metadata": {
    "execution": {
     "iopub.execute_input": "2021-03-03T00:11:06.217990Z",
     "iopub.status.busy": "2021-03-03T00:11:06.217372Z",
     "iopub.status.idle": "2021-03-03T00:11:06.237845Z",
     "shell.execute_reply": "2021-03-03T00:11:06.237178Z"
    },
    "papermill": {
     "duration": 0.063898,
     "end_time": "2021-03-03T00:11:06.238014",
     "exception": false,
     "start_time": "2021-03-03T00:11:06.174116",
     "status": "completed"
    },
    "tags": []
   },
   "outputs": [
    {
     "data": {
      "text/html": [
       "<div>\n",
       "<style scoped>\n",
       "    .dataframe tbody tr th:only-of-type {\n",
       "        vertical-align: middle;\n",
       "    }\n",
       "\n",
       "    .dataframe tbody tr th {\n",
       "        vertical-align: top;\n",
       "    }\n",
       "\n",
       "    .dataframe thead th {\n",
       "        text-align: right;\n",
       "    }\n",
       "</style>\n",
       "<table border=\"1\" class=\"dataframe\">\n",
       "  <thead>\n",
       "    <tr style=\"text-align: right;\">\n",
       "      <th></th>\n",
       "      <th>Country/Region</th>\n",
       "      <th>Cases</th>\n",
       "      <th>Deaths</th>\n",
       "      <th>PCases</th>\n",
       "      <th>PDeaths</th>\n",
       "      <th>Cases (+)</th>\n",
       "      <th>Deaths (+)</th>\n",
       "      <th>Fatality Rate</th>\n",
       "      <th>Continent</th>\n",
       "    </tr>\n",
       "  </thead>\n",
       "  <tbody>\n",
       "    <tr>\n",
       "      <th>0</th>\n",
       "      <td>US</td>\n",
       "      <td>28664481</td>\n",
       "      <td>514657</td>\n",
       "      <td>28605671</td>\n",
       "      <td>513092</td>\n",
       "      <td>58810</td>\n",
       "      <td>1565</td>\n",
       "      <td>1.8</td>\n",
       "      <td>North America</td>\n",
       "    </tr>\n",
       "    <tr>\n",
       "      <th>1</th>\n",
       "      <td>India</td>\n",
       "      <td>11124527</td>\n",
       "      <td>157248</td>\n",
       "      <td>11112241</td>\n",
       "      <td>157157</td>\n",
       "      <td>12286</td>\n",
       "      <td>91</td>\n",
       "      <td>1.4</td>\n",
       "      <td>Asia</td>\n",
       "    </tr>\n",
       "    <tr>\n",
       "      <th>2</th>\n",
       "      <td>Brazil</td>\n",
       "      <td>10587001</td>\n",
       "      <td>255720</td>\n",
       "      <td>10551259</td>\n",
       "      <td>254942</td>\n",
       "      <td>35742</td>\n",
       "      <td>778</td>\n",
       "      <td>2.4</td>\n",
       "      <td>South America</td>\n",
       "    </tr>\n",
       "    <tr>\n",
       "      <th>3</th>\n",
       "      <td>Russia</td>\n",
       "      <td>4209850</td>\n",
       "      <td>85025</td>\n",
       "      <td>4198400</td>\n",
       "      <td>84700</td>\n",
       "      <td>11450</td>\n",
       "      <td>325</td>\n",
       "      <td>2.0</td>\n",
       "      <td>Europe</td>\n",
       "    </tr>\n",
       "    <tr>\n",
       "      <th>4</th>\n",
       "      <td>United Kingdom</td>\n",
       "      <td>4194289</td>\n",
       "      <td>123187</td>\n",
       "      <td>4188827</td>\n",
       "      <td>123083</td>\n",
       "      <td>5462</td>\n",
       "      <td>104</td>\n",
       "      <td>2.9</td>\n",
       "      <td>Europe</td>\n",
       "    </tr>\n",
       "  </tbody>\n",
       "</table>\n",
       "</div>"
      ],
      "text/plain": [
       "   Country/Region     Cases  Deaths    PCases  PDeaths  Cases (+)  Deaths (+)  \\\n",
       "0              US  28664481  514657  28605671   513092      58810        1565   \n",
       "1           India  11124527  157248  11112241   157157      12286          91   \n",
       "2          Brazil  10587001  255720  10551259   254942      35742         778   \n",
       "3          Russia   4209850   85025   4198400    84700      11450         325   \n",
       "4  United Kingdom   4194289  123187   4188827   123083       5462         104   \n",
       "\n",
       "   Fatality Rate      Continent  \n",
       "0            1.8  North America  \n",
       "1            1.4           Asia  \n",
       "2            2.4  South America  \n",
       "3            2.0         Europe  \n",
       "4            2.9         Europe  "
      ]
     },
     "execution_count": 15,
     "metadata": {},
     "output_type": "execute_result"
    }
   ],
   "source": [
    "#hide\n",
    "df_table = (pd.DataFrame(dict(Cases=dfc_cases, Deaths=dfc_deaths, PCases=dfp_cases, PDeaths=dfp_deaths))\n",
    "             .sort_values(by=['Cases', 'Deaths'], ascending=[False, False])\n",
    "             .reset_index())\n",
    "df_table.rename(columns={'index': 'Country/Region'}, inplace=True)\n",
    "for c in 'Cases, Deaths'.split(', '):\n",
    "    df_table[f'{c} (+)'] = (df_table[c] - df_table[f'P{c}']).clip(0)  # DATA BUG\n",
    "df_table['Fatality Rate'] = (100 * df_table['Deaths'] / df_table['Cases']).round(1)\n",
    "df_table['Continent'] = df_table['Country/Region'].map(mapping['map.continent'])\n",
    "df_table.head(5)"
   ]
  },
  {
   "cell_type": "code",
   "execution_count": 16,
   "id": "fewer-occasion",
   "metadata": {
    "execution": {
     "iopub.execute_input": "2021-03-03T00:11:06.313906Z",
     "iopub.status.busy": "2021-03-03T00:11:06.313296Z",
     "iopub.status.idle": "2021-03-03T00:11:06.315461Z",
     "shell.execute_reply": "2021-03-03T00:11:06.314874Z"
    },
    "papermill": {
     "duration": 0.041883,
     "end_time": "2021-03-03T00:11:06.315587",
     "exception": false,
     "start_time": "2021-03-03T00:11:06.273704",
     "status": "completed"
    },
    "tags": []
   },
   "outputs": [],
   "source": [
    "#hide\n",
    "#delete problematic countries from table\n",
    "df_table = df_table[~df_table['Country/Region'].isin(['Cape Verde', 'Cruise Ship', 'Kosovo'])]"
   ]
  },
  {
   "cell_type": "code",
   "execution_count": 17,
   "id": "related-center",
   "metadata": {
    "execution": {
     "iopub.execute_input": "2021-03-03T00:11:06.389602Z",
     "iopub.status.busy": "2021-03-03T00:11:06.388994Z",
     "iopub.status.idle": "2021-03-03T00:11:06.408503Z",
     "shell.execute_reply": "2021-03-03T00:11:06.409017Z"
    },
    "papermill": {
     "duration": 0.05891,
     "end_time": "2021-03-03T00:11:06.409181",
     "exception": false,
     "start_time": "2021-03-03T00:11:06.350271",
     "status": "completed"
    },
    "tags": []
   },
   "outputs": [],
   "source": [
    "#hide\n",
    "metrics = [df_table.columns[index] for index in [1,2,5,6]]\n",
    "# s_china = df_table[df_table['Country/Region'].eq('China')][metrics].sum().add_prefix('China ')\n",
    "s_us = df_table[df_table['Country/Region'].eq('US')][metrics].sum().add_prefix('US ')\n",
    "s_eu = df_table[df_table['Continent'].eq('Europe')][metrics].sum().add_prefix('EU ')\n",
    "s_ind = df_table[df_table['Country/Region'].eq('India')][metrics].sum().add_prefix('India ')\n",
    "summary = {'updated': pd.to_datetime(dt_today), 'since': pd.to_datetime(dt_yday)}\n",
    "summary = {'updated': pd.to_datetime(dt_today), 'since': pd.to_datetime(dt_yday)}\n",
    "summary = {**summary, **df_table[metrics].sum(), **s_ind, **s_us, **s_eu}"
   ]
  },
  {
   "cell_type": "code",
   "execution_count": 18,
   "id": "engaging-syndrome",
   "metadata": {
    "execution": {
     "iopub.execute_input": "2021-03-03T00:11:06.484813Z",
     "iopub.status.busy": "2021-03-03T00:11:06.484161Z",
     "iopub.status.idle": "2021-03-03T00:11:06.497095Z",
     "shell.execute_reply": "2021-03-03T00:11:06.497617Z"
    },
    "papermill": {
     "duration": 0.053233,
     "end_time": "2021-03-03T00:11:06.497768",
     "exception": false,
     "start_time": "2021-03-03T00:11:06.444535",
     "status": "completed"
    },
    "tags": []
   },
   "outputs": [],
   "source": [
    "#hide\n",
    "dft_ct_new_cases = dft_cases.groupby(COL_REGION)[dt_cols].sum().diff(axis=1).fillna(0).astype(int)"
   ]
  },
  {
   "cell_type": "code",
   "execution_count": 19,
   "id": "neutral-assignment",
   "metadata": {
    "execution": {
     "iopub.execute_input": "2021-03-03T00:11:06.574155Z",
     "iopub.status.busy": "2021-03-03T00:11:06.573511Z",
     "iopub.status.idle": "2021-03-03T00:11:06.576020Z",
     "shell.execute_reply": "2021-03-03T00:11:06.575476Z"
    },
    "papermill": {
     "duration": 0.043086,
     "end_time": "2021-03-03T00:11:06.576144",
     "exception": false,
     "start_time": "2021-03-03T00:11:06.533058",
     "status": "completed"
    },
    "tags": []
   },
   "outputs": [],
   "source": [
    "#hide\n",
    "everydaycases = dft_ct_new_cases.cumsum(axis=1)"
   ]
  },
  {
   "cell_type": "code",
   "execution_count": 20,
   "id": "parliamentary-calgary",
   "metadata": {
    "execution": {
     "iopub.execute_input": "2021-03-03T00:11:06.651770Z",
     "iopub.status.busy": "2021-03-03T00:11:06.651123Z",
     "iopub.status.idle": "2021-03-03T00:11:08.363502Z",
     "shell.execute_reply": "2021-03-03T00:11:08.362251Z"
    },
    "papermill": {
     "duration": 1.752505,
     "end_time": "2021-03-03T00:11:08.363650",
     "exception": false,
     "start_time": "2021-03-03T00:11:06.611145",
     "status": "completed"
    },
    "tags": []
   },
   "outputs": [],
   "source": [
    "#hide\n",
    "import pandas as pd\n",
    "import matplotlib.pyplot as plt\n",
    "import matplotlib.ticker as ticker\n",
    "import matplotlib.animation as animation\n",
    "from IPython.display import HTML"
   ]
  },
  {
   "cell_type": "code",
   "execution_count": 21,
   "id": "lasting-extraction",
   "metadata": {
    "execution": {
     "iopub.execute_input": "2021-03-03T00:11:08.439901Z",
     "iopub.status.busy": "2021-03-03T00:11:08.438281Z",
     "iopub.status.idle": "2021-03-03T00:11:08.443088Z",
     "shell.execute_reply": "2021-03-03T00:11:08.443887Z"
    },
    "papermill": {
     "duration": 0.046297,
     "end_time": "2021-03-03T00:11:08.444200",
     "exception": false,
     "start_time": "2021-03-03T00:11:08.397903",
     "status": "completed"
    },
    "tags": []
   },
   "outputs": [],
   "source": [
    "#hide\n",
    "t = everydaycases.stack()"
   ]
  },
  {
   "cell_type": "code",
   "execution_count": 22,
   "id": "premier-sleeve",
   "metadata": {
    "execution": {
     "iopub.execute_input": "2021-03-03T00:11:08.524877Z",
     "iopub.status.busy": "2021-03-03T00:11:08.524179Z",
     "iopub.status.idle": "2021-03-03T00:11:08.535291Z",
     "shell.execute_reply": "2021-03-03T00:11:08.534670Z"
    },
    "papermill": {
     "duration": 0.052377,
     "end_time": "2021-03-03T00:11:08.535429",
     "exception": false,
     "start_time": "2021-03-03T00:11:08.483052",
     "status": "completed"
    },
    "tags": []
   },
   "outputs": [],
   "source": [
    "#hide\n",
    "g = t.reset_index(['Country/Region'])"
   ]
  },
  {
   "cell_type": "code",
   "execution_count": 23,
   "id": "distributed-pittsburgh",
   "metadata": {
    "execution": {
     "iopub.execute_input": "2021-03-03T00:11:08.613116Z",
     "iopub.status.busy": "2021-03-03T00:11:08.612496Z",
     "iopub.status.idle": "2021-03-03T00:11:08.615230Z",
     "shell.execute_reply": "2021-03-03T00:11:08.614571Z"
    },
    "papermill": {
     "duration": 0.043573,
     "end_time": "2021-03-03T00:11:08.615362",
     "exception": false,
     "start_time": "2021-03-03T00:11:08.571789",
     "status": "completed"
    },
    "tags": []
   },
   "outputs": [],
   "source": [
    "#hide\n",
    "g.index.name = 'date'"
   ]
  },
  {
   "cell_type": "code",
   "execution_count": 24,
   "id": "naked-donor",
   "metadata": {
    "execution": {
     "iopub.execute_input": "2021-03-03T00:11:08.689499Z",
     "iopub.status.busy": "2021-03-03T00:11:08.688873Z",
     "iopub.status.idle": "2021-03-03T00:11:08.690920Z",
     "shell.execute_reply": "2021-03-03T00:11:08.691382Z"
    },
    "papermill": {
     "duration": 0.041795,
     "end_time": "2021-03-03T00:11:08.691533",
     "exception": false,
     "start_time": "2021-03-03T00:11:08.649738",
     "status": "completed"
    },
    "tags": []
   },
   "outputs": [],
   "source": [
    "# #hide\n",
    "# g = g.reset_index(['date'])"
   ]
  },
  {
   "cell_type": "code",
   "execution_count": 25,
   "id": "incomplete-mustang",
   "metadata": {
    "execution": {
     "iopub.execute_input": "2021-03-03T00:11:08.766846Z",
     "iopub.status.busy": "2021-03-03T00:11:08.765794Z",
     "iopub.status.idle": "2021-03-03T00:11:08.767940Z",
     "shell.execute_reply": "2021-03-03T00:11:08.768834Z"
    },
    "papermill": {
     "duration": 0.042854,
     "end_time": "2021-03-03T00:11:08.769067",
     "exception": false,
     "start_time": "2021-03-03T00:11:08.726213",
     "status": "completed"
    },
    "tags": []
   },
   "outputs": [],
   "source": [
    "#hide\n",
    "# g.head()"
   ]
  },
  {
   "cell_type": "code",
   "execution_count": 26,
   "id": "specific-kruger",
   "metadata": {
    "execution": {
     "iopub.execute_input": "2021-03-03T00:11:08.843754Z",
     "iopub.status.busy": "2021-03-03T00:11:08.843128Z",
     "iopub.status.idle": "2021-03-03T00:11:08.846705Z",
     "shell.execute_reply": "2021-03-03T00:11:08.847274Z"
    },
    "papermill": {
     "duration": 0.043323,
     "end_time": "2021-03-03T00:11:08.847421",
     "exception": false,
     "start_time": "2021-03-03T00:11:08.804098",
     "status": "completed"
    },
    "tags": []
   },
   "outputs": [],
   "source": [
    "#hide\n",
    "# g.columns = ['date','country','cases']"
   ]
  },
  {
   "cell_type": "code",
   "execution_count": 27,
   "id": "tender-conversion",
   "metadata": {
    "execution": {
     "iopub.execute_input": "2021-03-03T00:11:08.921160Z",
     "iopub.status.busy": "2021-03-03T00:11:08.920574Z",
     "iopub.status.idle": "2021-03-03T00:11:08.923452Z",
     "shell.execute_reply": "2021-03-03T00:11:08.922940Z"
    },
    "papermill": {
     "duration": 0.041576,
     "end_time": "2021-03-03T00:11:08.923581",
     "exception": false,
     "start_time": "2021-03-03T00:11:08.882005",
     "status": "completed"
    },
    "tags": []
   },
   "outputs": [],
   "source": [
    "#hide\n",
    "# g['continent'] = g.country"
   ]
  },
  {
   "cell_type": "code",
   "execution_count": 28,
   "id": "substantial-wilderness",
   "metadata": {
    "execution": {
     "iopub.execute_input": "2021-03-03T00:11:08.997712Z",
     "iopub.status.busy": "2021-03-03T00:11:08.997113Z",
     "iopub.status.idle": "2021-03-03T00:11:08.998938Z",
     "shell.execute_reply": "2021-03-03T00:11:08.999392Z"
    },
    "papermill": {
     "duration": 0.041216,
     "end_time": "2021-03-03T00:11:08.999538",
     "exception": false,
     "start_time": "2021-03-03T00:11:08.958322",
     "status": "completed"
    },
    "tags": []
   },
   "outputs": [],
   "source": [
    "#hide\n",
    "# cols = list(g.columns.values)"
   ]
  },
  {
   "cell_type": "code",
   "execution_count": 29,
   "id": "solved-farming",
   "metadata": {
    "execution": {
     "iopub.execute_input": "2021-03-03T00:11:09.072272Z",
     "iopub.status.busy": "2021-03-03T00:11:09.071658Z",
     "iopub.status.idle": "2021-03-03T00:11:09.074315Z",
     "shell.execute_reply": "2021-03-03T00:11:09.074888Z"
    },
    "papermill": {
     "duration": 0.041526,
     "end_time": "2021-03-03T00:11:09.075034",
     "exception": false,
     "start_time": "2021-03-03T00:11:09.033508",
     "status": "completed"
    },
    "tags": []
   },
   "outputs": [],
   "source": [
    "#hide\n",
    "# cols.insert(0, cols.pop())"
   ]
  },
  {
   "cell_type": "code",
   "execution_count": 30,
   "id": "executed-adoption",
   "metadata": {
    "execution": {
     "iopub.execute_input": "2021-03-03T00:11:09.147958Z",
     "iopub.status.busy": "2021-03-03T00:11:09.147387Z",
     "iopub.status.idle": "2021-03-03T00:11:09.149655Z",
     "shell.execute_reply": "2021-03-03T00:11:09.149150Z"
    },
    "papermill": {
     "duration": 0.040586,
     "end_time": "2021-03-03T00:11:09.149777",
     "exception": false,
     "start_time": "2021-03-03T00:11:09.109191",
     "status": "completed"
    },
    "tags": []
   },
   "outputs": [],
   "source": [
    "#hide\n",
    "# g = g[cols]"
   ]
  },
  {
   "cell_type": "code",
   "execution_count": 31,
   "id": "subject-dublin",
   "metadata": {
    "execution": {
     "iopub.execute_input": "2021-03-03T00:11:09.222444Z",
     "iopub.status.busy": "2021-03-03T00:11:09.221814Z",
     "iopub.status.idle": "2021-03-03T00:11:09.224253Z",
     "shell.execute_reply": "2021-03-03T00:11:09.223738Z"
    },
    "papermill": {
     "duration": 0.04039,
     "end_time": "2021-03-03T00:11:09.224380",
     "exception": false,
     "start_time": "2021-03-03T00:11:09.183990",
     "status": "completed"
    },
    "tags": []
   },
   "outputs": [],
   "source": [
    "#hide\n",
    "# g['continent'] = g['continent'].map(mapping['map.continent'])"
   ]
  },
  {
   "cell_type": "code",
   "execution_count": 32,
   "id": "freelance-scout",
   "metadata": {
    "execution": {
     "iopub.execute_input": "2021-03-03T00:11:09.296644Z",
     "iopub.status.busy": "2021-03-03T00:11:09.295993Z",
     "iopub.status.idle": "2021-03-03T00:11:09.306101Z",
     "shell.execute_reply": "2021-03-03T00:11:09.306581Z"
    },
    "papermill": {
     "duration": 0.048662,
     "end_time": "2021-03-03T00:11:09.306719",
     "exception": false,
     "start_time": "2021-03-03T00:11:09.258057",
     "status": "completed"
    },
    "tags": []
   },
   "outputs": [],
   "source": [
    "#hide\n",
    "# g.head()"
   ]
  },
  {
   "cell_type": "code",
   "execution_count": 33,
   "id": "limited-engine",
   "metadata": {
    "execution": {
     "iopub.execute_input": "2021-03-03T00:11:09.378339Z",
     "iopub.status.busy": "2021-03-03T00:11:09.377717Z",
     "iopub.status.idle": "2021-03-03T00:11:09.380297Z",
     "shell.execute_reply": "2021-03-03T00:11:09.380821Z"
    },
    "papermill": {
     "duration": 0.040601,
     "end_time": "2021-03-03T00:11:09.380961",
     "exception": false,
     "start_time": "2021-03-03T00:11:09.340360",
     "status": "completed"
    },
    "tags": []
   },
   "outputs": [],
   "source": [
    "# hide\n",
    "# g['date'] = g['date'].astype('datetime64[ns]')"
   ]
  },
  {
   "cell_type": "code",
   "execution_count": 34,
   "id": "sophisticated-supervisor",
   "metadata": {
    "execution": {
     "iopub.execute_input": "2021-03-03T00:11:09.454237Z",
     "iopub.status.busy": "2021-03-03T00:11:09.453449Z",
     "iopub.status.idle": "2021-03-03T00:11:09.454959Z",
     "shell.execute_reply": "2021-03-03T00:11:09.455491Z"
    },
    "papermill": {
     "duration": 0.040555,
     "end_time": "2021-03-03T00:11:09.455648",
     "exception": false,
     "start_time": "2021-03-03T00:11:09.415093",
     "status": "completed"
    },
    "tags": []
   },
   "outputs": [],
   "source": [
    "#hide\n",
    "# g['date'] = g.date.dt.dayofyear"
   ]
  },
  {
   "cell_type": "code",
   "execution_count": 35,
   "id": "inside-dubai",
   "metadata": {
    "execution": {
     "iopub.execute_input": "2021-03-03T00:11:09.537779Z",
     "iopub.status.busy": "2021-03-03T00:11:09.537150Z",
     "iopub.status.idle": "2021-03-03T00:11:09.539659Z",
     "shell.execute_reply": "2021-03-03T00:11:09.540233Z"
    },
    "papermill": {
     "duration": 0.043984,
     "end_time": "2021-03-03T00:11:09.540378",
     "exception": false,
     "start_time": "2021-03-03T00:11:09.496394",
     "status": "completed"
    },
    "tags": []
   },
   "outputs": [],
   "source": [
    "#hide\n",
    "# g = g.rename(columns= {'continent':'group','country':'name','cases':'value'})"
   ]
  },
  {
   "cell_type": "code",
   "execution_count": 36,
   "id": "fleet-motorcycle",
   "metadata": {
    "execution": {
     "iopub.execute_input": "2021-03-03T00:11:09.618888Z",
     "iopub.status.busy": "2021-03-03T00:11:09.618275Z",
     "iopub.status.idle": "2021-03-03T00:11:09.620604Z",
     "shell.execute_reply": "2021-03-03T00:11:09.621156Z"
    },
    "papermill": {
     "duration": 0.043994,
     "end_time": "2021-03-03T00:11:09.621290",
     "exception": false,
     "start_time": "2021-03-03T00:11:09.577296",
     "status": "completed"
    },
    "tags": []
   },
   "outputs": [],
   "source": [
    "#hide\n",
    "# cols = ['name','group','day','value']"
   ]
  },
  {
   "cell_type": "code",
   "execution_count": 37,
   "id": "continued-sleeping",
   "metadata": {
    "execution": {
     "iopub.execute_input": "2021-03-03T00:11:09.699112Z",
     "iopub.status.busy": "2021-03-03T00:11:09.698041Z",
     "iopub.status.idle": "2021-03-03T00:11:09.700209Z",
     "shell.execute_reply": "2021-03-03T00:11:09.701084Z"
    },
    "papermill": {
     "duration": 0.044786,
     "end_time": "2021-03-03T00:11:09.701316",
     "exception": false,
     "start_time": "2021-03-03T00:11:09.656530",
     "status": "completed"
    },
    "tags": []
   },
   "outputs": [],
   "source": [
    "#hide\n",
    "# g.rename(columns= {'date':'day'},inplace = True)"
   ]
  },
  {
   "cell_type": "code",
   "execution_count": 38,
   "id": "major-fight",
   "metadata": {
    "execution": {
     "iopub.execute_input": "2021-03-03T00:11:09.776951Z",
     "iopub.status.busy": "2021-03-03T00:11:09.776308Z",
     "iopub.status.idle": "2021-03-03T00:11:09.778582Z",
     "shell.execute_reply": "2021-03-03T00:11:09.778066Z"
    },
    "papermill": {
     "duration": 0.042041,
     "end_time": "2021-03-03T00:11:09.778705",
     "exception": false,
     "start_time": "2021-03-03T00:11:09.736664",
     "status": "completed"
    },
    "tags": []
   },
   "outputs": [],
   "source": [
    "#hide\n",
    "# g = g[cols]"
   ]
  },
  {
   "cell_type": "code",
   "execution_count": 39,
   "id": "structured-mobile",
   "metadata": {
    "execution": {
     "iopub.execute_input": "2021-03-03T00:11:10.352357Z",
     "iopub.status.busy": "2021-03-03T00:11:10.351508Z",
     "iopub.status.idle": "2021-03-03T00:11:10.354269Z",
     "shell.execute_reply": "2021-03-03T00:11:10.353718Z"
    },
    "papermill": {
     "duration": 0.541094,
     "end_time": "2021-03-03T00:11:10.354399",
     "exception": false,
     "start_time": "2021-03-03T00:11:09.813305",
     "status": "completed"
    },
    "tags": []
   },
   "outputs": [],
   "source": [
    "# #hide\n",
    "# g = g[g.group.notna()]"
   ]
  },
  {
   "cell_type": "code",
   "execution_count": 40,
   "id": "determined-closing",
   "metadata": {
    "execution": {
     "iopub.execute_input": "2021-03-03T00:11:10.427082Z",
     "iopub.status.busy": "2021-03-03T00:11:10.426438Z",
     "iopub.status.idle": "2021-03-03T00:11:10.427989Z",
     "shell.execute_reply": "2021-03-03T00:11:10.428511Z"
    },
    "papermill": {
     "duration": 0.039966,
     "end_time": "2021-03-03T00:11:10.428647",
     "exception": false,
     "start_time": "2021-03-03T00:11:10.388681",
     "status": "completed"
    },
    "tags": []
   },
   "outputs": [],
   "source": [
    "# #hide\n",
    "# colors = dict(zip(\n",
    "#     [\"Oceania\", \"Europe\", \"Asia\", \"South America\", \"Middle East\", \"North America\", \"Africa\"],\n",
    "#     [\"#adb0ff\", \"#ffb3ff\", \"#90d595\", \"#e48381\", \"#aafbff\", \"#f7bb5f\", \"#eafb50\"]\n",
    "# ))\n",
    "# group_lk = g.set_index('name')['group'].to_dict()"
   ]
  },
  {
   "cell_type": "code",
   "execution_count": null,
   "id": "gross-drinking",
   "metadata": {
    "papermill": {
     "duration": 0.033409,
     "end_time": "2021-03-03T00:11:10.496348",
     "exception": false,
     "start_time": "2021-03-03T00:11:10.462939",
     "status": "completed"
    },
    "tags": []
   },
   "outputs": [],
   "source": []
  },
  {
   "cell_type": "code",
   "execution_count": 41,
   "id": "subject-macintosh",
   "metadata": {
    "execution": {
     "iopub.execute_input": "2021-03-03T00:11:10.571406Z",
     "iopub.status.busy": "2021-03-03T00:11:10.570785Z",
     "iopub.status.idle": "2021-03-03T00:11:10.573060Z",
     "shell.execute_reply": "2021-03-03T00:11:10.573511Z"
    },
    "papermill": {
     "duration": 0.042796,
     "end_time": "2021-03-03T00:11:10.573645",
     "exception": false,
     "start_time": "2021-03-03T00:11:10.530849",
     "status": "completed"
    },
    "tags": []
   },
   "outputs": [],
   "source": [
    "# #hide\n",
    "# fig, ax = plt.subplots(figsize=(15, 8))\n",
    "\n",
    "# def draw_barchart(current_day):\n",
    "#     dff = g[g['day'].eq(current_day)].sort_values(by='value', ascending=True).tail(10)\n",
    "#     ax.clear()\n",
    "#     ax.barh(dff['name'], dff['value'], color=[colors[group_lk[x]] for x in dff['name']])\n",
    "#     dx = dff['value'].max() / 200\n",
    "    \n",
    "#     for i, (value, name) in enumerate(zip(dff['value'], dff['name'])):\n",
    "#         ax.text(value-dx, i,     name,           size=14, weight=600, ha='right', va='bottom')\n",
    "#         ax.text(value-dx, i-.25, group_lk[name], size=10, color='#444444', ha='right', va='baseline')\n",
    "#         ax.text(value+dx, i,     f'{value:,.0f}',  size=14, ha='left',  va='center')\n",
    "#     ax.text(1, 0.4, current_day, transform=ax.transAxes, color='#777777', size=46, ha='right', weight=800)\n",
    "#     ax.text(0, 1.06, 'Population (thousands)', transform=ax.transAxes, size=12, color='#777777')\n",
    "#     ax.xaxis.set_major_formatter(ticker.StrMethodFormatter('{x:,.0f}'))\n",
    "#     ax.xaxis.set_ticks_position('top')\n",
    "#     ax.tick_params(axis='x', colors='#777777', labelsize=12)\n",
    "#     ax.set_yticks([])\n",
    "#     ax.margins(0, 0.01)\n",
    "#     ax.grid(which='major', axis='x', linestyle='-')\n",
    "#     ax.set_axisbelow(True)\n",
    "    \n",
    "#     ax.text(0, 1.15, 'Coronavirus',\n",
    "#             transform=ax.transAxes, size=24, weight=600, ha='left', va='top')\n",
    "# #     ax.text(1, 0, 'by @pratapvardhan; credit @jburnmurdoch', transform=ax.transAxes, color='#777777', ha='right',\n",
    "# #             bbox=dict(facecolor='white', alpha=0.8, edgecolor='white'))\n",
    "#     plt.box(False)"
   ]
  },
  {
   "cell_type": "code",
   "execution_count": 42,
   "id": "sexual-wages",
   "metadata": {
    "execution": {
     "iopub.execute_input": "2021-03-03T00:11:10.646327Z",
     "iopub.status.busy": "2021-03-03T00:11:10.645734Z",
     "iopub.status.idle": "2021-03-03T00:11:10.647925Z",
     "shell.execute_reply": "2021-03-03T00:11:10.647422Z"
    },
    "papermill": {
     "duration": 0.040252,
     "end_time": "2021-03-03T00:11:10.648048",
     "exception": false,
     "start_time": "2021-03-03T00:11:10.607796",
     "status": "completed"
    },
    "tags": []
   },
   "outputs": [],
   "source": [
    "# #hide_input\n",
    "# fig, ax = plt.subplots(figsize=(15, 8))\n",
    "# animator = animation.FuncAnimation(fig, draw_barchart, frames=range(g.day.values.min(), g.day.values.max()))\n",
    "# HTML(animator.to_jshtml())\n",
    "# # or use animator.to_html5_video() or animator.save() "
   ]
  },
  {
   "cell_type": "code",
   "execution_count": null,
   "id": "australian-container",
   "metadata": {
    "papermill": {
     "duration": 0.034383,
     "end_time": "2021-03-03T00:11:10.716655",
     "exception": false,
     "start_time": "2021-03-03T00:11:10.682272",
     "status": "completed"
    },
    "tags": []
   },
   "outputs": [],
   "source": []
  },
  {
   "cell_type": "code",
   "execution_count": null,
   "id": "mediterranean-pontiac",
   "metadata": {
    "papermill": {
     "duration": 0.034504,
     "end_time": "2021-03-03T00:11:10.785069",
     "exception": false,
     "start_time": "2021-03-03T00:11:10.750565",
     "status": "completed"
    },
    "tags": []
   },
   "outputs": [],
   "source": []
  },
  {
   "cell_type": "code",
   "execution_count": null,
   "id": "aging-legislature",
   "metadata": {
    "papermill": {
     "duration": 0.034052,
     "end_time": "2021-03-03T00:11:10.854002",
     "exception": false,
     "start_time": "2021-03-03T00:11:10.819950",
     "status": "completed"
    },
    "tags": []
   },
   "outputs": [],
   "source": []
  }
 ],
 "metadata": {
  "kernelspec": {
   "display_name": "Python 3",
   "language": "python",
   "name": "python3"
  },
  "language_info": {
   "codemirror_mode": {
    "name": "ipython",
    "version": 3
   },
   "file_extension": ".py",
   "mimetype": "text/x-python",
   "name": "python",
   "nbconvert_exporter": "python",
   "pygments_lexer": "ipython3",
   "version": "3.6.13"
  },
  "papermill": {
   "duration": 8.118527,
   "end_time": "2021-03-03T00:11:11.297125",
   "environment_variables": {},
   "exception": null,
   "input_path": "2020-03-21-covid19exp.ipynb",
   "output_path": "2020-03-21-covid19exp.ipynb",
   "parameters": {},
   "start_time": "2021-03-03T00:11:03.178598",
   "version": "2.0.0"
  }
 },
 "nbformat": 4,
 "nbformat_minor": 5
}