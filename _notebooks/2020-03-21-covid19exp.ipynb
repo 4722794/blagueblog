{
 "cells": [
  {
   "cell_type": "markdown",
   "id": "muslim-click",
   "metadata": {
    "papermill": {
     "duration": 0.035632,
     "end_time": "2022-10-31T12:22:18.381001",
     "exception": false,
     "start_time": "2022-10-31T12:22:18.345369",
     "status": "completed"
    },
    "tags": []
   },
   "source": [
    "# COVID-19 Case Race\n",
    "> A race chart to see rising cases around the world\n",
    "\n",
    "- author: Hargun Oberoi\n",
    "- image: images/covid-overview.png\n",
    "- hide: false\n",
    "- badges: false"
   ]
  },
  {
   "cell_type": "code",
   "execution_count": 1,
   "id": "proof-material",
   "metadata": {
    "execution": {
     "iopub.execute_input": "2022-10-31T12:22:18.453796Z",
     "iopub.status.busy": "2022-10-31T12:22:18.453212Z",
     "iopub.status.idle": "2022-10-31T12:22:18.780413Z",
     "shell.execute_reply": "2022-10-31T12:22:18.779000Z"
    },
    "papermill": {
     "duration": 0.368628,
     "end_time": "2022-10-31T12:22:18.780560",
     "exception": false,
     "start_time": "2022-10-31T12:22:18.411932",
     "status": "completed"
    },
    "tags": []
   },
   "outputs": [],
   "source": [
    "#hide\n",
    "import numpy as np\n",
    "import pandas as pd\n",
    "from jinja2 import Template\n",
    "from IPython.display import HTML"
   ]
  },
  {
   "cell_type": "code",
   "execution_count": 2,
   "id": "developed-terminology",
   "metadata": {
    "execution": {
     "iopub.execute_input": "2022-10-31T12:22:18.846619Z",
     "iopub.status.busy": "2022-10-31T12:22:18.845332Z",
     "iopub.status.idle": "2022-10-31T12:22:18.847271Z",
     "shell.execute_reply": "2022-10-31T12:22:18.847683Z"
    },
    "papermill": {
     "duration": 0.03702,
     "end_time": "2022-10-31T12:22:18.847798",
     "exception": false,
     "start_time": "2022-10-31T12:22:18.810778",
     "status": "completed"
    },
    "tags": []
   },
   "outputs": [],
   "source": [
    "#hide\n",
    "\n",
    "# FETCH\n",
    "base_url = 'https://raw.githubusercontent.com/pratapvardhan/notebooks/master/covid19/'\n",
    "paths = {\n",
    "    'mapping': base_url + 'mapping_countries.csv',\n",
    "    'overview': base_url + 'overview.tpl'\n",
    "}"
   ]
  },
  {
   "cell_type": "code",
   "execution_count": 3,
   "id": "dynamic-saver",
   "metadata": {
    "execution": {
     "iopub.execute_input": "2022-10-31T12:22:18.917365Z",
     "iopub.status.busy": "2022-10-31T12:22:18.916807Z",
     "iopub.status.idle": "2022-10-31T12:22:18.919152Z",
     "shell.execute_reply": "2022-10-31T12:22:18.919669Z"
    },
    "papermill": {
     "duration": 0.04169,
     "end_time": "2022-10-31T12:22:18.919792",
     "exception": false,
     "start_time": "2022-10-31T12:22:18.878102",
     "status": "completed"
    },
    "tags": []
   },
   "outputs": [
    {
     "data": {
      "text/plain": [
       "'https://raw.githubusercontent.com/pratapvardhan/notebooks/master/covid19/mapping_countries.csv'"
      ]
     },
     "execution_count": 3,
     "metadata": {},
     "output_type": "execute_result"
    }
   ],
   "source": [
    "#hide\n",
    "paths['mapping']"
   ]
  },
  {
   "cell_type": "code",
   "execution_count": 4,
   "id": "urban-software",
   "metadata": {
    "execution": {
     "iopub.execute_input": "2022-10-31T12:22:18.985792Z",
     "iopub.status.busy": "2022-10-31T12:22:18.985206Z",
     "iopub.status.idle": "2022-10-31T12:22:18.988724Z",
     "shell.execute_reply": "2022-10-31T12:22:18.989145Z"
    },
    "papermill": {
     "duration": 0.038992,
     "end_time": "2022-10-31T12:22:18.989264",
     "exception": false,
     "start_time": "2022-10-31T12:22:18.950272",
     "status": "completed"
    },
    "tags": []
   },
   "outputs": [],
   "source": [
    "#hide\n",
    "def get_mappings(url):\n",
    "    df = pd.read_csv(url)\n",
    "    return {\n",
    "        'df': df,\n",
    "        'replace.country': dict(df.dropna(subset=['Name']).set_index('Country')['Name']),\n",
    "        'map.continent': dict(df.set_index('Name')['Continent'])\n",
    "    }"
   ]
  },
  {
   "cell_type": "code",
   "execution_count": 5,
   "id": "intimate-machinery",
   "metadata": {
    "execution": {
     "iopub.execute_input": "2022-10-31T12:22:19.054723Z",
     "iopub.status.busy": "2022-10-31T12:22:19.054158Z",
     "iopub.status.idle": "2022-10-31T12:22:19.096070Z",
     "shell.execute_reply": "2022-10-31T12:22:19.095584Z"
    },
    "papermill": {
     "duration": 0.076794,
     "end_time": "2022-10-31T12:22:19.096177",
     "exception": false,
     "start_time": "2022-10-31T12:22:19.019383",
     "status": "completed"
    },
    "tags": []
   },
   "outputs": [],
   "source": [
    "#hide\n",
    "mapping = get_mappings(paths['mapping'])"
   ]
  },
  {
   "cell_type": "code",
   "execution_count": 6,
   "id": "certified-tactics",
   "metadata": {
    "execution": {
     "iopub.execute_input": "2022-10-31T12:22:19.161814Z",
     "iopub.status.busy": "2022-10-31T12:22:19.161253Z",
     "iopub.status.idle": "2022-10-31T12:22:19.163518Z",
     "shell.execute_reply": "2022-10-31T12:22:19.163932Z"
    },
    "papermill": {
     "duration": 0.037484,
     "end_time": "2022-10-31T12:22:19.164053",
     "exception": false,
     "start_time": "2022-10-31T12:22:19.126569",
     "status": "completed"
    },
    "tags": []
   },
   "outputs": [],
   "source": [
    "#hide\n",
    "def get_template(path):\n",
    "    from urllib.parse import urlparse\n",
    "    if bool(urlparse(path).netloc):\n",
    "        from urllib.request import urlopen\n",
    "        return urlopen(path).read().decode('utf8')\n",
    "    return open(path).read()"
   ]
  },
  {
   "cell_type": "code",
   "execution_count": 7,
   "id": "realistic-blast",
   "metadata": {
    "execution": {
     "iopub.execute_input": "2022-10-31T12:22:19.229362Z",
     "iopub.status.busy": "2022-10-31T12:22:19.228801Z",
     "iopub.status.idle": "2022-10-31T12:22:19.230960Z",
     "shell.execute_reply": "2022-10-31T12:22:19.230443Z"
    },
    "papermill": {
     "duration": 0.036749,
     "end_time": "2022-10-31T12:22:19.231058",
     "exception": false,
     "start_time": "2022-10-31T12:22:19.194309",
     "status": "completed"
    },
    "tags": []
   },
   "outputs": [],
   "source": [
    "#hide\n",
    "def get_frame(name):\n",
    "    url = (\n",
    "        'https://raw.githubusercontent.com/CSSEGISandData/COVID-19/master/csse_covid_19_data/'\n",
    "        f'csse_covid_19_time_series/time_series_covid19_{name}_global.csv')\n",
    "    df = pd.read_csv(url)\n",
    "    # rename countries\n",
    "    df['Country/Region'] = df['Country/Region'].replace(mapping['replace.country'])\n",
    "    return df"
   ]
  },
  {
   "cell_type": "code",
   "execution_count": 8,
   "id": "affiliated-characterization",
   "metadata": {
    "execution": {
     "iopub.execute_input": "2022-10-31T12:22:19.297082Z",
     "iopub.status.busy": "2022-10-31T12:22:19.296513Z",
     "iopub.status.idle": "2022-10-31T12:22:19.298755Z",
     "shell.execute_reply": "2022-10-31T12:22:19.299180Z"
    },
    "papermill": {
     "duration": 0.037897,
     "end_time": "2022-10-31T12:22:19.299300",
     "exception": false,
     "start_time": "2022-10-31T12:22:19.261403",
     "status": "completed"
    },
    "tags": []
   },
   "outputs": [],
   "source": [
    "#hide\n",
    "def get_dates(df):\n",
    "    dt_cols = df.columns[~df.columns.isin(['Province/State', 'Country/Region', 'Lat', 'Long'])]\n",
    "    LAST_DATE_I = -1\n",
    "    # sometimes last column may be empty, then go backwards\n",
    "    for i in range(-1, -len(dt_cols), -1):\n",
    "        if not df[dt_cols[i]].fillna(0).eq(0).all():\n",
    "            LAST_DATE_I = i\n",
    "            break\n",
    "    return LAST_DATE_I, dt_cols"
   ]
  },
  {
   "cell_type": "code",
   "execution_count": 9,
   "id": "recent-optimization",
   "metadata": {
    "execution": {
     "iopub.execute_input": "2022-10-31T12:22:19.364291Z",
     "iopub.status.busy": "2022-10-31T12:22:19.363707Z",
     "iopub.status.idle": "2022-10-31T12:22:19.898018Z",
     "shell.execute_reply": "2022-10-31T12:22:19.897518Z"
    },
    "papermill": {
     "duration": 0.568503,
     "end_time": "2022-10-31T12:22:19.898131",
     "exception": false,
     "start_time": "2022-10-31T12:22:19.329628",
     "status": "completed"
    },
    "tags": []
   },
   "outputs": [],
   "source": [
    "#hide\n",
    "COL_REGION = 'Country/Region'\n",
    "# Confirmed, Recovered, Deaths\n",
    "df = get_frame('confirmed')\n",
    "# dft_: timeseries, dfc_: today country agg\n",
    "dft_cases = df\n",
    "dft_deaths = get_frame('deaths')\n",
    "dft_recovered = get_frame('recovered')\n",
    "LAST_DATE_I, dt_cols = get_dates(df)"
   ]
  },
  {
   "cell_type": "code",
   "execution_count": 10,
   "id": "absolute-copper",
   "metadata": {
    "execution": {
     "iopub.execute_input": "2022-10-31T12:22:19.963905Z",
     "iopub.status.busy": "2022-10-31T12:22:19.963333Z",
     "iopub.status.idle": "2022-10-31T12:22:19.965720Z",
     "shell.execute_reply": "2022-10-31T12:22:19.965196Z"
    },
    "papermill": {
     "duration": 0.037245,
     "end_time": "2022-10-31T12:22:19.965821",
     "exception": false,
     "start_time": "2022-10-31T12:22:19.928576",
     "status": "completed"
    },
    "tags": []
   },
   "outputs": [],
   "source": [
    "#hide\n",
    "LAST_DATE_I, dt_cols = get_dates(df)\n",
    "dt_today =dt_cols[LAST_DATE_I]\n",
    "# dt_5day = dt_cols[LAST_DATE_I - 5]\n",
    "dt_yday = dt_cols[LAST_DATE_I - 1]"
   ]
  },
  {
   "cell_type": "code",
   "execution_count": 11,
   "id": "restricted-sheriff",
   "metadata": {
    "execution": {
     "iopub.execute_input": "2022-10-31T12:22:20.032246Z",
     "iopub.status.busy": "2022-10-31T12:22:20.031669Z",
     "iopub.status.idle": "2022-10-31T12:22:20.038871Z",
     "shell.execute_reply": "2022-10-31T12:22:20.038426Z"
    },
    "papermill": {
     "duration": 0.04287,
     "end_time": "2022-10-31T12:22:20.038974",
     "exception": false,
     "start_time": "2022-10-31T12:22:19.996104",
     "status": "completed"
    },
    "tags": []
   },
   "outputs": [],
   "source": [
    "#hide\n",
    "dfc_cases = dft_cases.groupby(COL_REGION)[dt_today].sum()\n",
    "dfc_deaths = dft_deaths.groupby(COL_REGION)[dt_today].sum()\n",
    "# dfp_cases = dft_cases.groupby(COL_REGION)[dt_5day].sum()\n",
    "# dfp_deaths = dft_deaths.groupby(COL_REGION)[dt_5day].sum()\n",
    "dfp_cases = dft_cases.groupby(COL_REGION)[dt_yday].sum()\n",
    "dfp_deaths = dft_deaths.groupby(COL_REGION)[dt_yday].sum()"
   ]
  },
  {
   "cell_type": "code",
   "execution_count": 12,
   "id": "deluxe-hepatitis",
   "metadata": {
    "execution": {
     "iopub.execute_input": "2022-10-31T12:22:20.105159Z",
     "iopub.status.busy": "2022-10-31T12:22:20.104603Z",
     "iopub.status.idle": "2022-10-31T12:22:20.108966Z",
     "shell.execute_reply": "2022-10-31T12:22:20.109420Z"
    },
    "papermill": {
     "duration": 0.040295,
     "end_time": "2022-10-31T12:22:20.109541",
     "exception": false,
     "start_time": "2022-10-31T12:22:20.069246",
     "status": "completed"
    },
    "tags": []
   },
   "outputs": [],
   "source": [
    "#hide\n",
    "df_table = (pd.DataFrame(dict(Cases = dfc_cases, Deaths = dfc_deaths, PCases = dfp_cases, PDeaths = dfp_deaths))\n",
    "            .sort_values(by = ['Cases','Deaths'], ascending = [False, False])\n",
    "            .reset_index())"
   ]
  },
  {
   "cell_type": "code",
   "execution_count": 13,
   "id": "educational-chancellor",
   "metadata": {
    "execution": {
     "iopub.execute_input": "2022-10-31T12:22:20.186225Z",
     "iopub.status.busy": "2022-10-31T12:22:20.185662Z",
     "iopub.status.idle": "2022-10-31T12:22:20.193897Z",
     "shell.execute_reply": "2022-10-31T12:22:20.193444Z"
    },
    "papermill": {
     "duration": 0.054326,
     "end_time": "2022-10-31T12:22:20.193996",
     "exception": false,
     "start_time": "2022-10-31T12:22:20.139670",
     "status": "completed"
    },
    "tags": []
   },
   "outputs": [
    {
     "data": {
      "text/html": [
       "<div>\n",
       "<style scoped>\n",
       "    .dataframe tbody tr th:only-of-type {\n",
       "        vertical-align: middle;\n",
       "    }\n",
       "\n",
       "    .dataframe tbody tr th {\n",
       "        vertical-align: top;\n",
       "    }\n",
       "\n",
       "    .dataframe thead th {\n",
       "        text-align: right;\n",
       "    }\n",
       "</style>\n",
       "<table border=\"1\" class=\"dataframe\">\n",
       "  <thead>\n",
       "    <tr style=\"text-align: right;\">\n",
       "      <th></th>\n",
       "      <th>Country/Region</th>\n",
       "      <th>Cases</th>\n",
       "      <th>Deaths</th>\n",
       "      <th>PCases</th>\n",
       "      <th>PDeaths</th>\n",
       "      <th>Cases (+)</th>\n",
       "      <th>Deaths (+)</th>\n",
       "      <th>Fatality Rate</th>\n",
       "      <th>Continent</th>\n",
       "    </tr>\n",
       "  </thead>\n",
       "  <tbody>\n",
       "    <tr>\n",
       "      <th>0</th>\n",
       "      <td>US</td>\n",
       "      <td>97450639</td>\n",
       "      <td>1070266</td>\n",
       "      <td>97447532</td>\n",
       "      <td>1070264</td>\n",
       "      <td>3107</td>\n",
       "      <td>2</td>\n",
       "      <td>1.10</td>\n",
       "      <td>North America</td>\n",
       "    </tr>\n",
       "    <tr>\n",
       "      <th>1</th>\n",
       "      <td>India</td>\n",
       "      <td>44653592</td>\n",
       "      <td>529024</td>\n",
       "      <td>44652256</td>\n",
       "      <td>529016</td>\n",
       "      <td>1336</td>\n",
       "      <td>8</td>\n",
       "      <td>1.18</td>\n",
       "      <td>Asia</td>\n",
       "    </tr>\n",
       "    <tr>\n",
       "      <th>2</th>\n",
       "      <td>France</td>\n",
       "      <td>36987918</td>\n",
       "      <td>157872</td>\n",
       "      <td>36987918</td>\n",
       "      <td>157872</td>\n",
       "      <td>0</td>\n",
       "      <td>0</td>\n",
       "      <td>0.43</td>\n",
       "      <td>Europe</td>\n",
       "    </tr>\n",
       "    <tr>\n",
       "      <th>3</th>\n",
       "      <td>Germany</td>\n",
       "      <td>35571131</td>\n",
       "      <td>153544</td>\n",
       "      <td>35571130</td>\n",
       "      <td>153544</td>\n",
       "      <td>1</td>\n",
       "      <td>0</td>\n",
       "      <td>0.43</td>\n",
       "      <td>Europe</td>\n",
       "    </tr>\n",
       "    <tr>\n",
       "      <th>4</th>\n",
       "      <td>Brazil</td>\n",
       "      <td>34815258</td>\n",
       "      <td>687962</td>\n",
       "      <td>34815258</td>\n",
       "      <td>687962</td>\n",
       "      <td>0</td>\n",
       "      <td>0</td>\n",
       "      <td>1.98</td>\n",
       "      <td>South America</td>\n",
       "    </tr>\n",
       "  </tbody>\n",
       "</table>\n",
       "</div>"
      ],
      "text/plain": [
       "  Country/Region     Cases   Deaths    PCases  PDeaths  Cases (+)  Deaths (+)  \\\n",
       "0             US  97450639  1070266  97447532  1070264       3107           2   \n",
       "1          India  44653592   529024  44652256   529016       1336           8   \n",
       "2         France  36987918   157872  36987918   157872          0           0   \n",
       "3        Germany  35571131   153544  35571130   153544          1           0   \n",
       "4         Brazil  34815258   687962  34815258   687962          0           0   \n",
       "\n",
       "   Fatality Rate      Continent  \n",
       "0           1.10  North America  \n",
       "1           1.18           Asia  \n",
       "2           0.43         Europe  \n",
       "3           0.43         Europe  \n",
       "4           1.98  South America  "
      ]
     },
     "execution_count": 13,
     "metadata": {},
     "output_type": "execute_result"
    }
   ],
   "source": [
    "#hide\n",
    "for c in 'Cases, Deaths'.split(', '):\n",
    "    df_table[f'{c} (+)'] = (df_table[c] - df_table[f'P{c}']).clip(0)\n",
    "    #Clip ça veut dire, les chiffres negatif sont interdit\n",
    "df_table['Fatality Rate'] = (100* df_table['Deaths']/ df_table['Cases']).round(2)\n",
    "df_table['Continent'] = df_table['Country/Region'].map(mapping['map.continent'])\n",
    "df_table.head(5)"
   ]
  },
  {
   "cell_type": "code",
   "execution_count": 14,
   "id": "aboriginal-bulgaria",
   "metadata": {
    "execution": {
     "iopub.execute_input": "2022-10-31T12:22:20.259823Z",
     "iopub.status.busy": "2022-10-31T12:22:20.259270Z",
     "iopub.status.idle": "2022-10-31T12:22:20.262116Z",
     "shell.execute_reply": "2022-10-31T12:22:20.262542Z"
    },
    "papermill": {
     "duration": 0.037937,
     "end_time": "2022-10-31T12:22:20.262659",
     "exception": false,
     "start_time": "2022-10-31T12:22:20.224722",
     "status": "completed"
    },
    "tags": []
   },
   "outputs": [],
   "source": [
    "#hide\n",
    "#delete problematic countries from table\n",
    "df_table = df_table[~df_table['Country/Region'].isin(['Cape Verde', 'Cruise Ship', 'Kosovo'])]"
   ]
  },
  {
   "cell_type": "code",
   "execution_count": 15,
   "id": "fantastic-effect",
   "metadata": {
    "execution": {
     "iopub.execute_input": "2022-10-31T12:22:20.331588Z",
     "iopub.status.busy": "2022-10-31T12:22:20.331024Z",
     "iopub.status.idle": "2022-10-31T12:22:20.348428Z",
     "shell.execute_reply": "2022-10-31T12:22:20.347957Z"
    },
    "papermill": {
     "duration": 0.055171,
     "end_time": "2022-10-31T12:22:20.348531",
     "exception": false,
     "start_time": "2022-10-31T12:22:20.293360",
     "status": "completed"
    },
    "tags": []
   },
   "outputs": [
    {
     "data": {
      "text/html": [
       "<div>\n",
       "<style scoped>\n",
       "    .dataframe tbody tr th:only-of-type {\n",
       "        vertical-align: middle;\n",
       "    }\n",
       "\n",
       "    .dataframe tbody tr th {\n",
       "        vertical-align: top;\n",
       "    }\n",
       "\n",
       "    .dataframe thead th {\n",
       "        text-align: right;\n",
       "    }\n",
       "</style>\n",
       "<table border=\"1\" class=\"dataframe\">\n",
       "  <thead>\n",
       "    <tr style=\"text-align: right;\">\n",
       "      <th></th>\n",
       "      <th>Country/Region</th>\n",
       "      <th>Cases</th>\n",
       "      <th>Deaths</th>\n",
       "      <th>PCases</th>\n",
       "      <th>PDeaths</th>\n",
       "      <th>Cases (+)</th>\n",
       "      <th>Deaths (+)</th>\n",
       "      <th>Fatality Rate</th>\n",
       "      <th>Continent</th>\n",
       "    </tr>\n",
       "  </thead>\n",
       "  <tbody>\n",
       "    <tr>\n",
       "      <th>0</th>\n",
       "      <td>US</td>\n",
       "      <td>97450639</td>\n",
       "      <td>1070266</td>\n",
       "      <td>97447532</td>\n",
       "      <td>1070264</td>\n",
       "      <td>3107</td>\n",
       "      <td>2</td>\n",
       "      <td>1.1</td>\n",
       "      <td>North America</td>\n",
       "    </tr>\n",
       "    <tr>\n",
       "      <th>1</th>\n",
       "      <td>India</td>\n",
       "      <td>44653592</td>\n",
       "      <td>529024</td>\n",
       "      <td>44652256</td>\n",
       "      <td>529016</td>\n",
       "      <td>1336</td>\n",
       "      <td>8</td>\n",
       "      <td>1.2</td>\n",
       "      <td>Asia</td>\n",
       "    </tr>\n",
       "    <tr>\n",
       "      <th>2</th>\n",
       "      <td>France</td>\n",
       "      <td>36987918</td>\n",
       "      <td>157872</td>\n",
       "      <td>36987918</td>\n",
       "      <td>157872</td>\n",
       "      <td>0</td>\n",
       "      <td>0</td>\n",
       "      <td>0.4</td>\n",
       "      <td>Europe</td>\n",
       "    </tr>\n",
       "    <tr>\n",
       "      <th>3</th>\n",
       "      <td>Germany</td>\n",
       "      <td>35571131</td>\n",
       "      <td>153544</td>\n",
       "      <td>35571130</td>\n",
       "      <td>153544</td>\n",
       "      <td>1</td>\n",
       "      <td>0</td>\n",
       "      <td>0.4</td>\n",
       "      <td>Europe</td>\n",
       "    </tr>\n",
       "    <tr>\n",
       "      <th>4</th>\n",
       "      <td>Brazil</td>\n",
       "      <td>34815258</td>\n",
       "      <td>687962</td>\n",
       "      <td>34815258</td>\n",
       "      <td>687962</td>\n",
       "      <td>0</td>\n",
       "      <td>0</td>\n",
       "      <td>2.0</td>\n",
       "      <td>South America</td>\n",
       "    </tr>\n",
       "  </tbody>\n",
       "</table>\n",
       "</div>"
      ],
      "text/plain": [
       "  Country/Region     Cases   Deaths    PCases  PDeaths  Cases (+)  Deaths (+)  \\\n",
       "0             US  97450639  1070266  97447532  1070264       3107           2   \n",
       "1          India  44653592   529024  44652256   529016       1336           8   \n",
       "2         France  36987918   157872  36987918   157872          0           0   \n",
       "3        Germany  35571131   153544  35571130   153544          1           0   \n",
       "4         Brazil  34815258   687962  34815258   687962          0           0   \n",
       "\n",
       "   Fatality Rate      Continent  \n",
       "0            1.1  North America  \n",
       "1            1.2           Asia  \n",
       "2            0.4         Europe  \n",
       "3            0.4         Europe  \n",
       "4            2.0  South America  "
      ]
     },
     "execution_count": 15,
     "metadata": {},
     "output_type": "execute_result"
    }
   ],
   "source": [
    "#hide\n",
    "df_table = (pd.DataFrame(dict(Cases=dfc_cases, Deaths=dfc_deaths, PCases=dfp_cases, PDeaths=dfp_deaths))\n",
    "             .sort_values(by=['Cases', 'Deaths'], ascending=[False, False])\n",
    "             .reset_index())\n",
    "df_table.rename(columns={'index': 'Country/Region'}, inplace=True)\n",
    "for c in 'Cases, Deaths'.split(', '):\n",
    "    df_table[f'{c} (+)'] = (df_table[c] - df_table[f'P{c}']).clip(0)  # DATA BUG\n",
    "df_table['Fatality Rate'] = (100 * df_table['Deaths'] / df_table['Cases']).round(1)\n",
    "df_table['Continent'] = df_table['Country/Region'].map(mapping['map.continent'])\n",
    "df_table.head(5)"
   ]
  },
  {
   "cell_type": "code",
   "execution_count": 16,
   "id": "fewer-occasion",
   "metadata": {
    "execution": {
     "iopub.execute_input": "2022-10-31T12:22:20.416654Z",
     "iopub.status.busy": "2022-10-31T12:22:20.416039Z",
     "iopub.status.idle": "2022-10-31T12:22:20.418069Z",
     "shell.execute_reply": "2022-10-31T12:22:20.418470Z"
    },
    "papermill": {
     "duration": 0.038629,
     "end_time": "2022-10-31T12:22:20.418587",
     "exception": false,
     "start_time": "2022-10-31T12:22:20.379958",
     "status": "completed"
    },
    "tags": []
   },
   "outputs": [],
   "source": [
    "#hide\n",
    "#delete problematic countries from table\n",
    "df_table = df_table[~df_table['Country/Region'].isin(['Cape Verde', 'Cruise Ship', 'Kosovo'])]"
   ]
  },
  {
   "cell_type": "code",
   "execution_count": 17,
   "id": "related-center",
   "metadata": {
    "execution": {
     "iopub.execute_input": "2022-10-31T12:22:20.491201Z",
     "iopub.status.busy": "2022-10-31T12:22:20.490642Z",
     "iopub.status.idle": "2022-10-31T12:22:20.500190Z",
     "shell.execute_reply": "2022-10-31T12:22:20.499738Z"
    },
    "papermill": {
     "duration": 0.050596,
     "end_time": "2022-10-31T12:22:20.500311",
     "exception": false,
     "start_time": "2022-10-31T12:22:20.449715",
     "status": "completed"
    },
    "tags": []
   },
   "outputs": [],
   "source": [
    "#hide\n",
    "metrics = [df_table.columns[index] for index in [1,2,5,6]]\n",
    "# s_china = df_table[df_table['Country/Region'].eq('China')][metrics].sum().add_prefix('China ')\n",
    "s_us = df_table[df_table['Country/Region'].eq('US')][metrics].sum().add_prefix('US ')\n",
    "s_eu = df_table[df_table['Continent'].eq('Europe')][metrics].sum().add_prefix('EU ')\n",
    "s_ind = df_table[df_table['Country/Region'].eq('India')][metrics].sum().add_prefix('India ')\n",
    "summary = {'updated': pd.to_datetime(dt_today), 'since': pd.to_datetime(dt_yday)}\n",
    "summary = {'updated': pd.to_datetime(dt_today), 'since': pd.to_datetime(dt_yday)}\n",
    "summary = {**summary, **df_table[metrics].sum(), **s_ind, **s_us, **s_eu}"
   ]
  },
  {
   "cell_type": "code",
   "execution_count": 18,
   "id": "engaging-syndrome",
   "metadata": {
    "execution": {
     "iopub.execute_input": "2022-10-31T12:22:20.567779Z",
     "iopub.status.busy": "2022-10-31T12:22:20.567193Z",
     "iopub.status.idle": "2022-10-31T12:22:20.587350Z",
     "shell.execute_reply": "2022-10-31T12:22:20.587803Z"
    },
    "papermill": {
     "duration": 0.056378,
     "end_time": "2022-10-31T12:22:20.587936",
     "exception": false,
     "start_time": "2022-10-31T12:22:20.531558",
     "status": "completed"
    },
    "tags": []
   },
   "outputs": [],
   "source": [
    "#hide\n",
    "dft_ct_new_cases = dft_cases.groupby(COL_REGION)[dt_cols].sum().diff(axis=1).fillna(0).astype(int)"
   ]
  },
  {
   "cell_type": "code",
   "execution_count": 19,
   "id": "neutral-assignment",
   "metadata": {
    "execution": {
     "iopub.execute_input": "2022-10-31T12:22:20.656448Z",
     "iopub.status.busy": "2022-10-31T12:22:20.655844Z",
     "iopub.status.idle": "2022-10-31T12:22:20.658128Z",
     "shell.execute_reply": "2022-10-31T12:22:20.658543Z"
    },
    "papermill": {
     "duration": 0.039506,
     "end_time": "2022-10-31T12:22:20.658660",
     "exception": false,
     "start_time": "2022-10-31T12:22:20.619154",
     "status": "completed"
    },
    "tags": []
   },
   "outputs": [],
   "source": [
    "#hide\n",
    "everydaycases = dft_ct_new_cases.cumsum(axis=1)"
   ]
  },
  {
   "cell_type": "code",
   "execution_count": 20,
   "id": "parliamentary-calgary",
   "metadata": {
    "execution": {
     "iopub.execute_input": "2022-10-31T12:22:20.725776Z",
     "iopub.status.busy": "2022-10-31T12:22:20.725215Z",
     "iopub.status.idle": "2022-10-31T12:22:21.309234Z",
     "shell.execute_reply": "2022-10-31T12:22:21.308412Z"
    },
    "papermill": {
     "duration": 0.618911,
     "end_time": "2022-10-31T12:22:21.309349",
     "exception": false,
     "start_time": "2022-10-31T12:22:20.690438",
     "status": "completed"
    },
    "tags": []
   },
   "outputs": [],
   "source": [
    "#hide\n",
    "import pandas as pd\n",
    "import matplotlib.pyplot as plt\n",
    "import matplotlib.ticker as ticker\n",
    "import matplotlib.animation as animation\n",
    "from IPython.display import HTML"
   ]
  },
  {
   "cell_type": "code",
   "execution_count": 21,
   "id": "lasting-extraction",
   "metadata": {
    "execution": {
     "iopub.execute_input": "2022-10-31T12:22:21.378417Z",
     "iopub.status.busy": "2022-10-31T12:22:21.377849Z",
     "iopub.status.idle": "2022-10-31T12:22:21.384752Z",
     "shell.execute_reply": "2022-10-31T12:22:21.385194Z"
    },
    "papermill": {
     "duration": 0.044506,
     "end_time": "2022-10-31T12:22:21.385318",
     "exception": false,
     "start_time": "2022-10-31T12:22:21.340812",
     "status": "completed"
    },
    "tags": []
   },
   "outputs": [],
   "source": [
    "#hide\n",
    "t = everydaycases.stack()"
   ]
  },
  {
   "cell_type": "code",
   "execution_count": 22,
   "id": "premier-sleeve",
   "metadata": {
    "execution": {
     "iopub.execute_input": "2022-10-31T12:22:21.452423Z",
     "iopub.status.busy": "2022-10-31T12:22:21.451836Z",
     "iopub.status.idle": "2022-10-31T12:22:21.463656Z",
     "shell.execute_reply": "2022-10-31T12:22:21.463125Z"
    },
    "papermill": {
     "duration": 0.047127,
     "end_time": "2022-10-31T12:22:21.463760",
     "exception": false,
     "start_time": "2022-10-31T12:22:21.416633",
     "status": "completed"
    },
    "tags": []
   },
   "outputs": [],
   "source": [
    "#hide\n",
    "g = t.reset_index(['Country/Region'])"
   ]
  },
  {
   "cell_type": "code",
   "execution_count": 23,
   "id": "distributed-pittsburgh",
   "metadata": {
    "execution": {
     "iopub.execute_input": "2022-10-31T12:22:21.530083Z",
     "iopub.status.busy": "2022-10-31T12:22:21.529519Z",
     "iopub.status.idle": "2022-10-31T12:22:21.531977Z",
     "shell.execute_reply": "2022-10-31T12:22:21.531558Z"
    },
    "papermill": {
     "duration": 0.037208,
     "end_time": "2022-10-31T12:22:21.532080",
     "exception": false,
     "start_time": "2022-10-31T12:22:21.494872",
     "status": "completed"
    },
    "tags": []
   },
   "outputs": [],
   "source": [
    "#hide\n",
    "g.index.name = 'date'"
   ]
  },
  {
   "cell_type": "code",
   "execution_count": 24,
   "id": "naked-donor",
   "metadata": {
    "execution": {
     "iopub.execute_input": "2022-10-31T12:22:21.598190Z",
     "iopub.status.busy": "2022-10-31T12:22:21.597612Z",
     "iopub.status.idle": "2022-10-31T12:22:21.600016Z",
     "shell.execute_reply": "2022-10-31T12:22:21.599486Z"
    },
    "papermill": {
     "duration": 0.036728,
     "end_time": "2022-10-31T12:22:21.600117",
     "exception": false,
     "start_time": "2022-10-31T12:22:21.563389",
     "status": "completed"
    },
    "tags": []
   },
   "outputs": [],
   "source": [
    "# #hide\n",
    "# g = g.reset_index(['date'])"
   ]
  },
  {
   "cell_type": "code",
   "execution_count": 25,
   "id": "incomplete-mustang",
   "metadata": {
    "execution": {
     "iopub.execute_input": "2022-10-31T12:22:21.666491Z",
     "iopub.status.busy": "2022-10-31T12:22:21.665919Z",
     "iopub.status.idle": "2022-10-31T12:22:21.668352Z",
     "shell.execute_reply": "2022-10-31T12:22:21.667894Z"
    },
    "papermill": {
     "duration": 0.037092,
     "end_time": "2022-10-31T12:22:21.668455",
     "exception": false,
     "start_time": "2022-10-31T12:22:21.631363",
     "status": "completed"
    },
    "tags": []
   },
   "outputs": [],
   "source": [
    "#hide\n",
    "# g.head()"
   ]
  },
  {
   "cell_type": "code",
   "execution_count": 26,
   "id": "specific-kruger",
   "metadata": {
    "execution": {
     "iopub.execute_input": "2022-10-31T12:22:21.735351Z",
     "iopub.status.busy": "2022-10-31T12:22:21.734766Z",
     "iopub.status.idle": "2022-10-31T12:22:21.737141Z",
     "shell.execute_reply": "2022-10-31T12:22:21.736614Z"
    },
    "papermill": {
     "duration": 0.036866,
     "end_time": "2022-10-31T12:22:21.737244",
     "exception": false,
     "start_time": "2022-10-31T12:22:21.700378",
     "status": "completed"
    },
    "tags": []
   },
   "outputs": [],
   "source": [
    "#hide\n",
    "# g.columns = ['date','country','cases']"
   ]
  },
  {
   "cell_type": "code",
   "execution_count": 27,
   "id": "tender-conversion",
   "metadata": {
    "execution": {
     "iopub.execute_input": "2022-10-31T12:22:21.803011Z",
     "iopub.status.busy": "2022-10-31T12:22:21.802439Z",
     "iopub.status.idle": "2022-10-31T12:22:21.804871Z",
     "shell.execute_reply": "2022-10-31T12:22:21.804432Z"
    },
    "papermill": {
     "duration": 0.036564,
     "end_time": "2022-10-31T12:22:21.804971",
     "exception": false,
     "start_time": "2022-10-31T12:22:21.768407",
     "status": "completed"
    },
    "tags": []
   },
   "outputs": [],
   "source": [
    "#hide\n",
    "# g['continent'] = g.country"
   ]
  },
  {
   "cell_type": "code",
   "execution_count": 28,
   "id": "substantial-wilderness",
   "metadata": {
    "execution": {
     "iopub.execute_input": "2022-10-31T12:22:21.871121Z",
     "iopub.status.busy": "2022-10-31T12:22:21.870550Z",
     "iopub.status.idle": "2022-10-31T12:22:21.872555Z",
     "shell.execute_reply": "2022-10-31T12:22:21.872978Z"
    },
    "papermill": {
     "duration": 0.036816,
     "end_time": "2022-10-31T12:22:21.873096",
     "exception": false,
     "start_time": "2022-10-31T12:22:21.836280",
     "status": "completed"
    },
    "tags": []
   },
   "outputs": [],
   "source": [
    "#hide\n",
    "# cols = list(g.columns.values)"
   ]
  },
  {
   "cell_type": "code",
   "execution_count": 29,
   "id": "solved-farming",
   "metadata": {
    "execution": {
     "iopub.execute_input": "2022-10-31T12:22:21.939095Z",
     "iopub.status.busy": "2022-10-31T12:22:21.938526Z",
     "iopub.status.idle": "2022-10-31T12:22:21.940936Z",
     "shell.execute_reply": "2022-10-31T12:22:21.940490Z"
    },
    "papermill": {
     "duration": 0.036735,
     "end_time": "2022-10-31T12:22:21.941034",
     "exception": false,
     "start_time": "2022-10-31T12:22:21.904299",
     "status": "completed"
    },
    "tags": []
   },
   "outputs": [],
   "source": [
    "#hide\n",
    "# cols.insert(0, cols.pop())"
   ]
  },
  {
   "cell_type": "code",
   "execution_count": 30,
   "id": "executed-adoption",
   "metadata": {
    "execution": {
     "iopub.execute_input": "2022-10-31T12:22:22.007346Z",
     "iopub.status.busy": "2022-10-31T12:22:22.006776Z",
     "iopub.status.idle": "2022-10-31T12:22:22.009126Z",
     "shell.execute_reply": "2022-10-31T12:22:22.008602Z"
    },
    "papermill": {
     "duration": 0.036875,
     "end_time": "2022-10-31T12:22:22.009227",
     "exception": false,
     "start_time": "2022-10-31T12:22:21.972352",
     "status": "completed"
    },
    "tags": []
   },
   "outputs": [],
   "source": [
    "#hide\n",
    "# g = g[cols]"
   ]
  },
  {
   "cell_type": "code",
   "execution_count": 31,
   "id": "subject-dublin",
   "metadata": {
    "execution": {
     "iopub.execute_input": "2022-10-31T12:22:22.075265Z",
     "iopub.status.busy": "2022-10-31T12:22:22.074697Z",
     "iopub.status.idle": "2022-10-31T12:22:22.077062Z",
     "shell.execute_reply": "2022-10-31T12:22:22.076539Z"
    },
    "papermill": {
     "duration": 0.03673,
     "end_time": "2022-10-31T12:22:22.077161",
     "exception": false,
     "start_time": "2022-10-31T12:22:22.040431",
     "status": "completed"
    },
    "tags": []
   },
   "outputs": [],
   "source": [
    "#hide\n",
    "# g['continent'] = g['continent'].map(mapping['map.continent'])"
   ]
  },
  {
   "cell_type": "code",
   "execution_count": 32,
   "id": "freelance-scout",
   "metadata": {
    "execution": {
     "iopub.execute_input": "2022-10-31T12:22:22.143295Z",
     "iopub.status.busy": "2022-10-31T12:22:22.142725Z",
     "iopub.status.idle": "2022-10-31T12:22:22.145224Z",
     "shell.execute_reply": "2022-10-31T12:22:22.144773Z"
    },
    "papermill": {
     "duration": 0.036771,
     "end_time": "2022-10-31T12:22:22.145324",
     "exception": false,
     "start_time": "2022-10-31T12:22:22.108553",
     "status": "completed"
    },
    "tags": []
   },
   "outputs": [],
   "source": [
    "#hide\n",
    "# g.head()"
   ]
  },
  {
   "cell_type": "code",
   "execution_count": 33,
   "id": "limited-engine",
   "metadata": {
    "execution": {
     "iopub.execute_input": "2022-10-31T12:22:22.211218Z",
     "iopub.status.busy": "2022-10-31T12:22:22.210650Z",
     "iopub.status.idle": "2022-10-31T12:22:22.212998Z",
     "shell.execute_reply": "2022-10-31T12:22:22.212474Z"
    },
    "papermill": {
     "duration": 0.036605,
     "end_time": "2022-10-31T12:22:22.213096",
     "exception": false,
     "start_time": "2022-10-31T12:22:22.176491",
     "status": "completed"
    },
    "tags": []
   },
   "outputs": [],
   "source": [
    "# hide\n",
    "# g['date'] = g['date'].astype('datetime64[ns]')"
   ]
  },
  {
   "cell_type": "code",
   "execution_count": 34,
   "id": "sophisticated-supervisor",
   "metadata": {
    "execution": {
     "iopub.execute_input": "2022-10-31T12:22:22.279407Z",
     "iopub.status.busy": "2022-10-31T12:22:22.278837Z",
     "iopub.status.idle": "2022-10-31T12:22:22.281154Z",
     "shell.execute_reply": "2022-10-31T12:22:22.280634Z"
    },
    "papermill": {
     "duration": 0.036749,
     "end_time": "2022-10-31T12:22:22.281251",
     "exception": false,
     "start_time": "2022-10-31T12:22:22.244502",
     "status": "completed"
    },
    "tags": []
   },
   "outputs": [],
   "source": [
    "#hide\n",
    "# g['date'] = g.date.dt.dayofyear"
   ]
  },
  {
   "cell_type": "code",
   "execution_count": 35,
   "id": "inside-dubai",
   "metadata": {
    "execution": {
     "iopub.execute_input": "2022-10-31T12:22:22.347199Z",
     "iopub.status.busy": "2022-10-31T12:22:22.346623Z",
     "iopub.status.idle": "2022-10-31T12:22:22.349078Z",
     "shell.execute_reply": "2022-10-31T12:22:22.348626Z"
    },
    "papermill": {
     "duration": 0.036738,
     "end_time": "2022-10-31T12:22:22.349176",
     "exception": false,
     "start_time": "2022-10-31T12:22:22.312438",
     "status": "completed"
    },
    "tags": []
   },
   "outputs": [],
   "source": [
    "#hide\n",
    "# g = g.rename(columns= {'continent':'group','country':'name','cases':'value'})"
   ]
  },
  {
   "cell_type": "code",
   "execution_count": 36,
   "id": "fleet-motorcycle",
   "metadata": {
    "execution": {
     "iopub.execute_input": "2022-10-31T12:22:22.415726Z",
     "iopub.status.busy": "2022-10-31T12:22:22.415152Z",
     "iopub.status.idle": "2022-10-31T12:22:22.417581Z",
     "shell.execute_reply": "2022-10-31T12:22:22.417146Z"
    },
    "papermill": {
     "duration": 0.037107,
     "end_time": "2022-10-31T12:22:22.417680",
     "exception": false,
     "start_time": "2022-10-31T12:22:22.380573",
     "status": "completed"
    },
    "tags": []
   },
   "outputs": [],
   "source": [
    "#hide\n",
    "# cols = ['name','group','day','value']"
   ]
  },
  {
   "cell_type": "code",
   "execution_count": 37,
   "id": "continued-sleeping",
   "metadata": {
    "execution": {
     "iopub.execute_input": "2022-10-31T12:22:22.484073Z",
     "iopub.status.busy": "2022-10-31T12:22:22.483503Z",
     "iopub.status.idle": "2022-10-31T12:22:22.485949Z",
     "shell.execute_reply": "2022-10-31T12:22:22.485509Z"
    },
    "papermill": {
     "duration": 0.037017,
     "end_time": "2022-10-31T12:22:22.486049",
     "exception": false,
     "start_time": "2022-10-31T12:22:22.449032",
     "status": "completed"
    },
    "tags": []
   },
   "outputs": [],
   "source": [
    "#hide\n",
    "# g.rename(columns= {'date':'day'},inplace = True)"
   ]
  },
  {
   "cell_type": "code",
   "execution_count": 38,
   "id": "major-fight",
   "metadata": {
    "execution": {
     "iopub.execute_input": "2022-10-31T12:22:22.552198Z",
     "iopub.status.busy": "2022-10-31T12:22:22.551613Z",
     "iopub.status.idle": "2022-10-31T12:22:22.554064Z",
     "shell.execute_reply": "2022-10-31T12:22:22.553617Z"
    },
    "papermill": {
     "duration": 0.036777,
     "end_time": "2022-10-31T12:22:22.554164",
     "exception": false,
     "start_time": "2022-10-31T12:22:22.517387",
     "status": "completed"
    },
    "tags": []
   },
   "outputs": [],
   "source": [
    "#hide\n",
    "# g = g[cols]"
   ]
  },
  {
   "cell_type": "code",
   "execution_count": 39,
   "id": "structured-mobile",
   "metadata": {
    "execution": {
     "iopub.execute_input": "2022-10-31T12:22:22.620207Z",
     "iopub.status.busy": "2022-10-31T12:22:22.619637Z",
     "iopub.status.idle": "2022-10-31T12:22:22.621974Z",
     "shell.execute_reply": "2022-10-31T12:22:22.621456Z"
    },
    "papermill": {
     "duration": 0.03667,
     "end_time": "2022-10-31T12:22:22.622072",
     "exception": false,
     "start_time": "2022-10-31T12:22:22.585402",
     "status": "completed"
    },
    "tags": []
   },
   "outputs": [],
   "source": [
    "# #hide\n",
    "# g = g[g.group.notna()]"
   ]
  },
  {
   "cell_type": "code",
   "execution_count": 40,
   "id": "determined-closing",
   "metadata": {
    "execution": {
     "iopub.execute_input": "2022-10-31T12:22:22.687925Z",
     "iopub.status.busy": "2022-10-31T12:22:22.687344Z",
     "iopub.status.idle": "2022-10-31T12:22:22.689685Z",
     "shell.execute_reply": "2022-10-31T12:22:22.689158Z"
    },
    "papermill": {
     "duration": 0.036539,
     "end_time": "2022-10-31T12:22:22.689786",
     "exception": false,
     "start_time": "2022-10-31T12:22:22.653247",
     "status": "completed"
    },
    "tags": []
   },
   "outputs": [],
   "source": [
    "# #hide\n",
    "# colors = dict(zip(\n",
    "#     [\"Oceania\", \"Europe\", \"Asia\", \"South America\", \"Middle East\", \"North America\", \"Africa\"],\n",
    "#     [\"#adb0ff\", \"#ffb3ff\", \"#90d595\", \"#e48381\", \"#aafbff\", \"#f7bb5f\", \"#eafb50\"]\n",
    "# ))\n",
    "# group_lk = g.set_index('name')['group'].to_dict()"
   ]
  },
  {
   "cell_type": "code",
   "execution_count": null,
   "id": "gross-drinking",
   "metadata": {
    "papermill": {
     "duration": 0.031171,
     "end_time": "2022-10-31T12:22:22.752869",
     "exception": false,
     "start_time": "2022-10-31T12:22:22.721698",
     "status": "completed"
    },
    "tags": []
   },
   "outputs": [],
   "source": []
  },
  {
   "cell_type": "code",
   "execution_count": 41,
   "id": "subject-macintosh",
   "metadata": {
    "execution": {
     "iopub.execute_input": "2022-10-31T12:22:22.819612Z",
     "iopub.status.busy": "2022-10-31T12:22:22.819035Z",
     "iopub.status.idle": "2022-10-31T12:22:22.821635Z",
     "shell.execute_reply": "2022-10-31T12:22:22.821113Z"
    },
    "papermill": {
     "duration": 0.037632,
     "end_time": "2022-10-31T12:22:22.821733",
     "exception": false,
     "start_time": "2022-10-31T12:22:22.784101",
     "status": "completed"
    },
    "tags": []
   },
   "outputs": [],
   "source": [
    "# #hide\n",
    "# fig, ax = plt.subplots(figsize=(15, 8))\n",
    "\n",
    "# def draw_barchart(current_day):\n",
    "#     dff = g[g['day'].eq(current_day)].sort_values(by='value', ascending=True).tail(10)\n",
    "#     ax.clear()\n",
    "#     ax.barh(dff['name'], dff['value'], color=[colors[group_lk[x]] for x in dff['name']])\n",
    "#     dx = dff['value'].max() / 200\n",
    "    \n",
    "#     for i, (value, name) in enumerate(zip(dff['value'], dff['name'])):\n",
    "#         ax.text(value-dx, i,     name,           size=14, weight=600, ha='right', va='bottom')\n",
    "#         ax.text(value-dx, i-.25, group_lk[name], size=10, color='#444444', ha='right', va='baseline')\n",
    "#         ax.text(value+dx, i,     f'{value:,.0f}',  size=14, ha='left',  va='center')\n",
    "#     ax.text(1, 0.4, current_day, transform=ax.transAxes, color='#777777', size=46, ha='right', weight=800)\n",
    "#     ax.text(0, 1.06, 'Population (thousands)', transform=ax.transAxes, size=12, color='#777777')\n",
    "#     ax.xaxis.set_major_formatter(ticker.StrMethodFormatter('{x:,.0f}'))\n",
    "#     ax.xaxis.set_ticks_position('top')\n",
    "#     ax.tick_params(axis='x', colors='#777777', labelsize=12)\n",
    "#     ax.set_yticks([])\n",
    "#     ax.margins(0, 0.01)\n",
    "#     ax.grid(which='major', axis='x', linestyle='-')\n",
    "#     ax.set_axisbelow(True)\n",
    "    \n",
    "#     ax.text(0, 1.15, 'Coronavirus',\n",
    "#             transform=ax.transAxes, size=24, weight=600, ha='left', va='top')\n",
    "# #     ax.text(1, 0, 'by @pratapvardhan; credit @jburnmurdoch', transform=ax.transAxes, color='#777777', ha='right',\n",
    "# #             bbox=dict(facecolor='white', alpha=0.8, edgecolor='white'))\n",
    "#     plt.box(False)"
   ]
  },
  {
   "cell_type": "code",
   "execution_count": 42,
   "id": "sexual-wages",
   "metadata": {
    "execution": {
     "iopub.execute_input": "2022-10-31T12:22:22.887909Z",
     "iopub.status.busy": "2022-10-31T12:22:22.887277Z",
     "iopub.status.idle": "2022-10-31T12:22:22.889270Z",
     "shell.execute_reply": "2022-10-31T12:22:22.889665Z"
    },
    "papermill": {
     "duration": 0.036868,
     "end_time": "2022-10-31T12:22:22.889783",
     "exception": false,
     "start_time": "2022-10-31T12:22:22.852915",
     "status": "completed"
    },
    "tags": []
   },
   "outputs": [],
   "source": [
    "# #hide_input\n",
    "# fig, ax = plt.subplots(figsize=(15, 8))\n",
    "# animator = animation.FuncAnimation(fig, draw_barchart, frames=range(g.day.values.min(), g.day.values.max()))\n",
    "# HTML(animator.to_jshtml())\n",
    "# # or use animator.to_html5_video() or animator.save() "
   ]
  },
  {
   "cell_type": "code",
   "execution_count": null,
   "id": "australian-container",
   "metadata": {
    "papermill": {
     "duration": 0.03095,
     "end_time": "2022-10-31T12:22:22.952081",
     "exception": false,
     "start_time": "2022-10-31T12:22:22.921131",
     "status": "completed"
    },
    "tags": []
   },
   "outputs": [],
   "source": []
  },
  {
   "cell_type": "code",
   "execution_count": null,
   "id": "mediterranean-pontiac",
   "metadata": {
    "papermill": {
     "duration": 0.031016,
     "end_time": "2022-10-31T12:22:23.014099",
     "exception": false,
     "start_time": "2022-10-31T12:22:22.983083",
     "status": "completed"
    },
    "tags": []
   },
   "outputs": [],
   "source": []
  },
  {
   "cell_type": "code",
   "execution_count": null,
   "id": "aging-legislature",
   "metadata": {
    "papermill": {
     "duration": 0.031075,
     "end_time": "2022-10-31T12:22:23.076404",
     "exception": false,
     "start_time": "2022-10-31T12:22:23.045329",
     "status": "completed"
    },
    "tags": []
   },
   "outputs": [],
   "source": []
  }
 ],
 "metadata": {
  "kernelspec": {
   "display_name": "Python 3",
   "language": "python",
   "name": "python3"
  },
  "language_info": {
   "codemirror_mode": {
    "name": "ipython",
    "version": 3
   },
   "file_extension": ".py",
   "mimetype": "text/x-python",
   "name": "python",
   "nbconvert_exporter": "python",
   "pygments_lexer": "ipython3",
   "version": "3.6.15"
  },
  "papermill": {
   "duration": 6.026025,
   "end_time": "2022-10-31T12:22:23.425351",
   "environment_variables": {},
   "exception": null,
   "input_path": "2020-03-21-covid19exp.ipynb",
   "output_path": "2020-03-21-covid19exp.ipynb",
   "parameters": {},
   "start_time": "2022-10-31T12:22:17.399326",
   "version": "2.0.0"
  }
 },
 "nbformat": 4,
 "nbformat_minor": 5
}