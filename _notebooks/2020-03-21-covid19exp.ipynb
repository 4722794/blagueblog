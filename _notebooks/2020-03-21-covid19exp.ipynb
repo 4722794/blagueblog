{
 "cells": [
  {
   "cell_type": "markdown",
   "id": "muslim-click",
   "metadata": {
    "papermill": {
     "duration": 0.043046,
     "end_time": "2022-01-14T12:13:26.729868",
     "exception": false,
     "start_time": "2022-01-14T12:13:26.686822",
     "status": "completed"
    },
    "tags": []
   },
   "source": [
    "# COVID-19 Case Race\n",
    "> A race chart to see rising cases around the world\n",
    "\n",
    "- author: Hargun Oberoi\n",
    "- image: images/covid-overview.png\n",
    "- hide: false\n",
    "- badges: false"
   ]
  },
  {
   "cell_type": "code",
   "execution_count": 1,
   "id": "proof-material",
   "metadata": {
    "execution": {
     "iopub.execute_input": "2022-01-14T12:13:26.820321Z",
     "iopub.status.busy": "2022-01-14T12:13:26.819602Z",
     "iopub.status.idle": "2022-01-14T12:13:27.223927Z",
     "shell.execute_reply": "2022-01-14T12:13:27.223156Z"
    },
    "papermill": {
     "duration": 0.454556,
     "end_time": "2022-01-14T12:13:27.224107",
     "exception": false,
     "start_time": "2022-01-14T12:13:26.769551",
     "status": "completed"
    },
    "tags": []
   },
   "outputs": [],
   "source": [
    "#hide\n",
    "import numpy as np\n",
    "import pandas as pd\n",
    "from jinja2 import Template\n",
    "from IPython.display import HTML"
   ]
  },
  {
   "cell_type": "code",
   "execution_count": 2,
   "id": "developed-terminology",
   "metadata": {
    "execution": {
     "iopub.execute_input": "2022-01-14T12:13:27.303024Z",
     "iopub.status.busy": "2022-01-14T12:13:27.302290Z",
     "iopub.status.idle": "2022-01-14T12:13:27.306269Z",
     "shell.execute_reply": "2022-01-14T12:13:27.305624Z"
    },
    "papermill": {
     "duration": 0.044631,
     "end_time": "2022-01-14T12:13:27.306415",
     "exception": false,
     "start_time": "2022-01-14T12:13:27.261784",
     "status": "completed"
    },
    "tags": []
   },
   "outputs": [],
   "source": [
    "#hide\n",
    "\n",
    "# FETCH\n",
    "base_url = 'https://raw.githubusercontent.com/pratapvardhan/notebooks/master/covid19/'\n",
    "paths = {\n",
    "    'mapping': base_url + 'mapping_countries.csv',\n",
    "    'overview': base_url + 'overview.tpl'\n",
    "}"
   ]
  },
  {
   "cell_type": "code",
   "execution_count": 3,
   "id": "dynamic-saver",
   "metadata": {
    "execution": {
     "iopub.execute_input": "2022-01-14T12:13:27.400904Z",
     "iopub.status.busy": "2022-01-14T12:13:27.400197Z",
     "iopub.status.idle": "2022-01-14T12:13:27.403548Z",
     "shell.execute_reply": "2022-01-14T12:13:27.403994Z"
    },
    "papermill": {
     "duration": 0.061992,
     "end_time": "2022-01-14T12:13:27.404149",
     "exception": false,
     "start_time": "2022-01-14T12:13:27.342157",
     "status": "completed"
    },
    "tags": []
   },
   "outputs": [
    {
     "data": {
      "text/plain": [
       "'https://raw.githubusercontent.com/pratapvardhan/notebooks/master/covid19/mapping_countries.csv'"
      ]
     },
     "execution_count": 3,
     "metadata": {},
     "output_type": "execute_result"
    }
   ],
   "source": [
    "#hide\n",
    "paths['mapping']"
   ]
  },
  {
   "cell_type": "code",
   "execution_count": 4,
   "id": "urban-software",
   "metadata": {
    "execution": {
     "iopub.execute_input": "2022-01-14T12:13:27.481270Z",
     "iopub.status.busy": "2022-01-14T12:13:27.480624Z",
     "iopub.status.idle": "2022-01-14T12:13:27.484429Z",
     "shell.execute_reply": "2022-01-14T12:13:27.484957Z"
    },
    "papermill": {
     "duration": 0.045982,
     "end_time": "2022-01-14T12:13:27.485129",
     "exception": false,
     "start_time": "2022-01-14T12:13:27.439147",
     "status": "completed"
    },
    "tags": []
   },
   "outputs": [],
   "source": [
    "#hide\n",
    "def get_mappings(url):\n",
    "    df = pd.read_csv(url)\n",
    "    return {\n",
    "        'df': df,\n",
    "        'replace.country': dict(df.dropna(subset=['Name']).set_index('Country')['Name']),\n",
    "        'map.continent': dict(df.set_index('Name')['Continent'])\n",
    "    }"
   ]
  },
  {
   "cell_type": "code",
   "execution_count": 5,
   "id": "intimate-machinery",
   "metadata": {
    "execution": {
     "iopub.execute_input": "2022-01-14T12:13:27.562438Z",
     "iopub.status.busy": "2022-01-14T12:13:27.561757Z",
     "iopub.status.idle": "2022-01-14T12:13:27.603352Z",
     "shell.execute_reply": "2022-01-14T12:13:27.603852Z"
    },
    "papermill": {
     "duration": 0.082682,
     "end_time": "2022-01-14T12:13:27.603987",
     "exception": false,
     "start_time": "2022-01-14T12:13:27.521305",
     "status": "completed"
    },
    "tags": []
   },
   "outputs": [],
   "source": [
    "#hide\n",
    "mapping = get_mappings(paths['mapping'])"
   ]
  },
  {
   "cell_type": "code",
   "execution_count": 6,
   "id": "certified-tactics",
   "metadata": {
    "execution": {
     "iopub.execute_input": "2022-01-14T12:13:27.681871Z",
     "iopub.status.busy": "2022-01-14T12:13:27.681207Z",
     "iopub.status.idle": "2022-01-14T12:13:27.684365Z",
     "shell.execute_reply": "2022-01-14T12:13:27.683722Z"
    },
    "papermill": {
     "duration": 0.04617,
     "end_time": "2022-01-14T12:13:27.684530",
     "exception": false,
     "start_time": "2022-01-14T12:13:27.638360",
     "status": "completed"
    },
    "tags": []
   },
   "outputs": [],
   "source": [
    "#hide\n",
    "def get_template(path):\n",
    "    from urllib.parse import urlparse\n",
    "    if bool(urlparse(path).netloc):\n",
    "        from urllib.request import urlopen\n",
    "        return urlopen(path).read().decode('utf8')\n",
    "    return open(path).read()"
   ]
  },
  {
   "cell_type": "code",
   "execution_count": 7,
   "id": "realistic-blast",
   "metadata": {
    "execution": {
     "iopub.execute_input": "2022-01-14T12:13:27.766833Z",
     "iopub.status.busy": "2022-01-14T12:13:27.766178Z",
     "iopub.status.idle": "2022-01-14T12:13:27.770158Z",
     "shell.execute_reply": "2022-01-14T12:13:27.769629Z"
    },
    "papermill": {
     "duration": 0.045141,
     "end_time": "2022-01-14T12:13:27.770284",
     "exception": false,
     "start_time": "2022-01-14T12:13:27.725143",
     "status": "completed"
    },
    "tags": []
   },
   "outputs": [],
   "source": [
    "#hide\n",
    "def get_frame(name):\n",
    "    url = (\n",
    "        'https://raw.githubusercontent.com/CSSEGISandData/COVID-19/master/csse_covid_19_data/'\n",
    "        f'csse_covid_19_time_series/time_series_covid19_{name}_global.csv')\n",
    "    df = pd.read_csv(url)\n",
    "    # rename countries\n",
    "    df['Country/Region'] = df['Country/Region'].replace(mapping['replace.country'])\n",
    "    return df"
   ]
  },
  {
   "cell_type": "code",
   "execution_count": 8,
   "id": "affiliated-characterization",
   "metadata": {
    "execution": {
     "iopub.execute_input": "2022-01-14T12:13:27.852988Z",
     "iopub.status.busy": "2022-01-14T12:13:27.852319Z",
     "iopub.status.idle": "2022-01-14T12:13:27.854835Z",
     "shell.execute_reply": "2022-01-14T12:13:27.854354Z"
    },
    "papermill": {
     "duration": 0.046037,
     "end_time": "2022-01-14T12:13:27.855061",
     "exception": false,
     "start_time": "2022-01-14T12:13:27.809024",
     "status": "completed"
    },
    "tags": []
   },
   "outputs": [],
   "source": [
    "#hide\n",
    "def get_dates(df):\n",
    "    dt_cols = df.columns[~df.columns.isin(['Province/State', 'Country/Region', 'Lat', 'Long'])]\n",
    "    LAST_DATE_I = -1\n",
    "    # sometimes last column may be empty, then go backwards\n",
    "    for i in range(-1, -len(dt_cols), -1):\n",
    "        if not df[dt_cols[i]].fillna(0).eq(0).all():\n",
    "            LAST_DATE_I = i\n",
    "            break\n",
    "    return LAST_DATE_I, dt_cols"
   ]
  },
  {
   "cell_type": "code",
   "execution_count": 9,
   "id": "recent-optimization",
   "metadata": {
    "execution": {
     "iopub.execute_input": "2022-01-14T12:13:27.939072Z",
     "iopub.status.busy": "2022-01-14T12:13:27.938265Z",
     "iopub.status.idle": "2022-01-14T12:13:28.398491Z",
     "shell.execute_reply": "2022-01-14T12:13:28.397959Z"
    },
    "papermill": {
     "duration": 0.501256,
     "end_time": "2022-01-14T12:13:28.398658",
     "exception": false,
     "start_time": "2022-01-14T12:13:27.897402",
     "status": "completed"
    },
    "tags": []
   },
   "outputs": [],
   "source": [
    "#hide\n",
    "COL_REGION = 'Country/Region'\n",
    "# Confirmed, Recovered, Deaths\n",
    "df = get_frame('confirmed')\n",
    "# dft_: timeseries, dfc_: today country agg\n",
    "dft_cases = df\n",
    "dft_deaths = get_frame('deaths')\n",
    "dft_recovered = get_frame('recovered')\n",
    "LAST_DATE_I, dt_cols = get_dates(df)"
   ]
  },
  {
   "cell_type": "code",
   "execution_count": 10,
   "id": "absolute-copper",
   "metadata": {
    "execution": {
     "iopub.execute_input": "2022-01-14T12:13:28.477931Z",
     "iopub.status.busy": "2022-01-14T12:13:28.476981Z",
     "iopub.status.idle": "2022-01-14T12:13:28.481067Z",
     "shell.execute_reply": "2022-01-14T12:13:28.480471Z"
    },
    "papermill": {
     "duration": 0.046167,
     "end_time": "2022-01-14T12:13:28.481203",
     "exception": false,
     "start_time": "2022-01-14T12:13:28.435036",
     "status": "completed"
    },
    "tags": []
   },
   "outputs": [],
   "source": [
    "#hide\n",
    "LAST_DATE_I, dt_cols = get_dates(df)\n",
    "dt_today =dt_cols[LAST_DATE_I]\n",
    "# dt_5day = dt_cols[LAST_DATE_I - 5]\n",
    "dt_yday = dt_cols[LAST_DATE_I - 1]"
   ]
  },
  {
   "cell_type": "code",
   "execution_count": 11,
   "id": "restricted-sheriff",
   "metadata": {
    "execution": {
     "iopub.execute_input": "2022-01-14T12:13:28.569101Z",
     "iopub.status.busy": "2022-01-14T12:13:28.568505Z",
     "iopub.status.idle": "2022-01-14T12:13:28.573980Z",
     "shell.execute_reply": "2022-01-14T12:13:28.573539Z"
    },
    "papermill": {
     "duration": 0.051068,
     "end_time": "2022-01-14T12:13:28.574125",
     "exception": false,
     "start_time": "2022-01-14T12:13:28.523057",
     "status": "completed"
    },
    "tags": []
   },
   "outputs": [],
   "source": [
    "#hide\n",
    "dfc_cases = dft_cases.groupby(COL_REGION)[dt_today].sum()\n",
    "dfc_deaths = dft_deaths.groupby(COL_REGION)[dt_today].sum()\n",
    "# dfp_cases = dft_cases.groupby(COL_REGION)[dt_5day].sum()\n",
    "# dfp_deaths = dft_deaths.groupby(COL_REGION)[dt_5day].sum()\n",
    "dfp_cases = dft_cases.groupby(COL_REGION)[dt_yday].sum()\n",
    "dfp_deaths = dft_deaths.groupby(COL_REGION)[dt_yday].sum()"
   ]
  },
  {
   "cell_type": "code",
   "execution_count": 12,
   "id": "deluxe-hepatitis",
   "metadata": {
    "execution": {
     "iopub.execute_input": "2022-01-14T12:13:28.652204Z",
     "iopub.status.busy": "2022-01-14T12:13:28.651665Z",
     "iopub.status.idle": "2022-01-14T12:13:28.656658Z",
     "shell.execute_reply": "2022-01-14T12:13:28.657053Z"
    },
    "papermill": {
     "duration": 0.049238,
     "end_time": "2022-01-14T12:13:28.657207",
     "exception": false,
     "start_time": "2022-01-14T12:13:28.607969",
     "status": "completed"
    },
    "tags": []
   },
   "outputs": [],
   "source": [
    "#hide\n",
    "df_table = (pd.DataFrame(dict(Cases = dfc_cases, Deaths = dfc_deaths, PCases = dfp_cases, PDeaths = dfp_deaths))\n",
    "            .sort_values(by = ['Cases','Deaths'], ascending = [False, False])\n",
    "            .reset_index())"
   ]
  },
  {
   "cell_type": "code",
   "execution_count": 13,
   "id": "educational-chancellor",
   "metadata": {
    "execution": {
     "iopub.execute_input": "2022-01-14T12:13:28.750095Z",
     "iopub.status.busy": "2022-01-14T12:13:28.749510Z",
     "iopub.status.idle": "2022-01-14T12:13:28.758486Z",
     "shell.execute_reply": "2022-01-14T12:13:28.759072Z"
    },
    "papermill": {
     "duration": 0.068083,
     "end_time": "2022-01-14T12:13:28.759204",
     "exception": false,
     "start_time": "2022-01-14T12:13:28.691121",
     "status": "completed"
    },
    "tags": []
   },
   "outputs": [
    {
     "data": {
      "text/html": [
       "<div>\n",
       "<style scoped>\n",
       "    .dataframe tbody tr th:only-of-type {\n",
       "        vertical-align: middle;\n",
       "    }\n",
       "\n",
       "    .dataframe tbody tr th {\n",
       "        vertical-align: top;\n",
       "    }\n",
       "\n",
       "    .dataframe thead th {\n",
       "        text-align: right;\n",
       "    }\n",
       "</style>\n",
       "<table border=\"1\" class=\"dataframe\">\n",
       "  <thead>\n",
       "    <tr style=\"text-align: right;\">\n",
       "      <th></th>\n",
       "      <th>Country/Region</th>\n",
       "      <th>Cases</th>\n",
       "      <th>Deaths</th>\n",
       "      <th>PCases</th>\n",
       "      <th>PDeaths</th>\n",
       "      <th>Cases (+)</th>\n",
       "      <th>Deaths (+)</th>\n",
       "      <th>Fatality Rate</th>\n",
       "      <th>Continent</th>\n",
       "    </tr>\n",
       "  </thead>\n",
       "  <tbody>\n",
       "    <tr>\n",
       "      <th>0</th>\n",
       "      <td>US</td>\n",
       "      <td>64062060</td>\n",
       "      <td>846463</td>\n",
       "      <td>63277401</td>\n",
       "      <td>844562</td>\n",
       "      <td>784659</td>\n",
       "      <td>1901</td>\n",
       "      <td>1.32</td>\n",
       "      <td>North America</td>\n",
       "    </tr>\n",
       "    <tr>\n",
       "      <th>1</th>\n",
       "      <td>India</td>\n",
       "      <td>36317927</td>\n",
       "      <td>485131</td>\n",
       "      <td>36317927</td>\n",
       "      <td>485035</td>\n",
       "      <td>0</td>\n",
       "      <td>96</td>\n",
       "      <td>1.34</td>\n",
       "      <td>Asia</td>\n",
       "    </tr>\n",
       "    <tr>\n",
       "      <th>2</th>\n",
       "      <td>Brazil</td>\n",
       "      <td>22822177</td>\n",
       "      <td>620830</td>\n",
       "      <td>22724232</td>\n",
       "      <td>620641</td>\n",
       "      <td>97945</td>\n",
       "      <td>189</td>\n",
       "      <td>2.72</td>\n",
       "      <td>South America</td>\n",
       "    </tr>\n",
       "    <tr>\n",
       "      <th>3</th>\n",
       "      <td>United Kingdom</td>\n",
       "      <td>15064685</td>\n",
       "      <td>151833</td>\n",
       "      <td>14958196</td>\n",
       "      <td>151496</td>\n",
       "      <td>106489</td>\n",
       "      <td>337</td>\n",
       "      <td>1.01</td>\n",
       "      <td>Europe</td>\n",
       "    </tr>\n",
       "    <tr>\n",
       "      <th>4</th>\n",
       "      <td>France</td>\n",
       "      <td>13351053</td>\n",
       "      <td>127520</td>\n",
       "      <td>13042665</td>\n",
       "      <td>127294</td>\n",
       "      <td>308388</td>\n",
       "      <td>226</td>\n",
       "      <td>0.96</td>\n",
       "      <td>Europe</td>\n",
       "    </tr>\n",
       "  </tbody>\n",
       "</table>\n",
       "</div>"
      ],
      "text/plain": [
       "   Country/Region     Cases  Deaths    PCases  PDeaths  Cases (+)  Deaths (+)  \\\n",
       "0              US  64062060  846463  63277401   844562     784659        1901   \n",
       "1           India  36317927  485131  36317927   485035          0          96   \n",
       "2          Brazil  22822177  620830  22724232   620641      97945         189   \n",
       "3  United Kingdom  15064685  151833  14958196   151496     106489         337   \n",
       "4          France  13351053  127520  13042665   127294     308388         226   \n",
       "\n",
       "   Fatality Rate      Continent  \n",
       "0           1.32  North America  \n",
       "1           1.34           Asia  \n",
       "2           2.72  South America  \n",
       "3           1.01         Europe  \n",
       "4           0.96         Europe  "
      ]
     },
     "execution_count": 13,
     "metadata": {},
     "output_type": "execute_result"
    }
   ],
   "source": [
    "#hide\n",
    "for c in 'Cases, Deaths'.split(', '):\n",
    "    df_table[f'{c} (+)'] = (df_table[c] - df_table[f'P{c}']).clip(0)\n",
    "    #Clip ça veut dire, les chiffres negatif sont interdit\n",
    "df_table['Fatality Rate'] = (100* df_table['Deaths']/ df_table['Cases']).round(2)\n",
    "df_table['Continent'] = df_table['Country/Region'].map(mapping['map.continent'])\n",
    "df_table.head(5)"
   ]
  },
  {
   "cell_type": "code",
   "execution_count": 14,
   "id": "aboriginal-bulgaria",
   "metadata": {
    "execution": {
     "iopub.execute_input": "2022-01-14T12:13:28.833530Z",
     "iopub.status.busy": "2022-01-14T12:13:28.832903Z",
     "iopub.status.idle": "2022-01-14T12:13:28.836273Z",
     "shell.execute_reply": "2022-01-14T12:13:28.836820Z"
    },
    "papermill": {
     "duration": 0.044629,
     "end_time": "2022-01-14T12:13:28.836987",
     "exception": false,
     "start_time": "2022-01-14T12:13:28.792358",
     "status": "completed"
    },
    "tags": []
   },
   "outputs": [],
   "source": [
    "#hide\n",
    "#delete problematic countries from table\n",
    "df_table = df_table[~df_table['Country/Region'].isin(['Cape Verde', 'Cruise Ship', 'Kosovo'])]"
   ]
  },
  {
   "cell_type": "code",
   "execution_count": 15,
   "id": "fantastic-effect",
   "metadata": {
    "execution": {
     "iopub.execute_input": "2022-01-14T12:13:28.922268Z",
     "iopub.status.busy": "2022-01-14T12:13:28.921555Z",
     "iopub.status.idle": "2022-01-14T12:13:28.944723Z",
     "shell.execute_reply": "2022-01-14T12:13:28.944230Z"
    },
    "papermill": {
     "duration": 0.070689,
     "end_time": "2022-01-14T12:13:28.944847",
     "exception": false,
     "start_time": "2022-01-14T12:13:28.874158",
     "status": "completed"
    },
    "tags": []
   },
   "outputs": [
    {
     "data": {
      "text/html": [
       "<div>\n",
       "<style scoped>\n",
       "    .dataframe tbody tr th:only-of-type {\n",
       "        vertical-align: middle;\n",
       "    }\n",
       "\n",
       "    .dataframe tbody tr th {\n",
       "        vertical-align: top;\n",
       "    }\n",
       "\n",
       "    .dataframe thead th {\n",
       "        text-align: right;\n",
       "    }\n",
       "</style>\n",
       "<table border=\"1\" class=\"dataframe\">\n",
       "  <thead>\n",
       "    <tr style=\"text-align: right;\">\n",
       "      <th></th>\n",
       "      <th>Country/Region</th>\n",
       "      <th>Cases</th>\n",
       "      <th>Deaths</th>\n",
       "      <th>PCases</th>\n",
       "      <th>PDeaths</th>\n",
       "      <th>Cases (+)</th>\n",
       "      <th>Deaths (+)</th>\n",
       "      <th>Fatality Rate</th>\n",
       "      <th>Continent</th>\n",
       "    </tr>\n",
       "  </thead>\n",
       "  <tbody>\n",
       "    <tr>\n",
       "      <th>0</th>\n",
       "      <td>US</td>\n",
       "      <td>64062060</td>\n",
       "      <td>846463</td>\n",
       "      <td>63277401</td>\n",
       "      <td>844562</td>\n",
       "      <td>784659</td>\n",
       "      <td>1901</td>\n",
       "      <td>1.3</td>\n",
       "      <td>North America</td>\n",
       "    </tr>\n",
       "    <tr>\n",
       "      <th>1</th>\n",
       "      <td>India</td>\n",
       "      <td>36317927</td>\n",
       "      <td>485131</td>\n",
       "      <td>36317927</td>\n",
       "      <td>485035</td>\n",
       "      <td>0</td>\n",
       "      <td>96</td>\n",
       "      <td>1.3</td>\n",
       "      <td>Asia</td>\n",
       "    </tr>\n",
       "    <tr>\n",
       "      <th>2</th>\n",
       "      <td>Brazil</td>\n",
       "      <td>22822177</td>\n",
       "      <td>620830</td>\n",
       "      <td>22724232</td>\n",
       "      <td>620641</td>\n",
       "      <td>97945</td>\n",
       "      <td>189</td>\n",
       "      <td>2.7</td>\n",
       "      <td>South America</td>\n",
       "    </tr>\n",
       "    <tr>\n",
       "      <th>3</th>\n",
       "      <td>United Kingdom</td>\n",
       "      <td>15064685</td>\n",
       "      <td>151833</td>\n",
       "      <td>14958196</td>\n",
       "      <td>151496</td>\n",
       "      <td>106489</td>\n",
       "      <td>337</td>\n",
       "      <td>1.0</td>\n",
       "      <td>Europe</td>\n",
       "    </tr>\n",
       "    <tr>\n",
       "      <th>4</th>\n",
       "      <td>France</td>\n",
       "      <td>13351053</td>\n",
       "      <td>127520</td>\n",
       "      <td>13042665</td>\n",
       "      <td>127294</td>\n",
       "      <td>308388</td>\n",
       "      <td>226</td>\n",
       "      <td>1.0</td>\n",
       "      <td>Europe</td>\n",
       "    </tr>\n",
       "  </tbody>\n",
       "</table>\n",
       "</div>"
      ],
      "text/plain": [
       "   Country/Region     Cases  Deaths    PCases  PDeaths  Cases (+)  Deaths (+)  \\\n",
       "0              US  64062060  846463  63277401   844562     784659        1901   \n",
       "1           India  36317927  485131  36317927   485035          0          96   \n",
       "2          Brazil  22822177  620830  22724232   620641      97945         189   \n",
       "3  United Kingdom  15064685  151833  14958196   151496     106489         337   \n",
       "4          France  13351053  127520  13042665   127294     308388         226   \n",
       "\n",
       "   Fatality Rate      Continent  \n",
       "0            1.3  North America  \n",
       "1            1.3           Asia  \n",
       "2            2.7  South America  \n",
       "3            1.0         Europe  \n",
       "4            1.0         Europe  "
      ]
     },
     "execution_count": 15,
     "metadata": {},
     "output_type": "execute_result"
    }
   ],
   "source": [
    "#hide\n",
    "df_table = (pd.DataFrame(dict(Cases=dfc_cases, Deaths=dfc_deaths, PCases=dfp_cases, PDeaths=dfp_deaths))\n",
    "             .sort_values(by=['Cases', 'Deaths'], ascending=[False, False])\n",
    "             .reset_index())\n",
    "df_table.rename(columns={'index': 'Country/Region'}, inplace=True)\n",
    "for c in 'Cases, Deaths'.split(', '):\n",
    "    df_table[f'{c} (+)'] = (df_table[c] - df_table[f'P{c}']).clip(0)  # DATA BUG\n",
    "df_table['Fatality Rate'] = (100 * df_table['Deaths'] / df_table['Cases']).round(1)\n",
    "df_table['Continent'] = df_table['Country/Region'].map(mapping['map.continent'])\n",
    "df_table.head(5)"
   ]
  },
  {
   "cell_type": "code",
   "execution_count": 16,
   "id": "fewer-occasion",
   "metadata": {
    "execution": {
     "iopub.execute_input": "2022-01-14T12:13:29.028616Z",
     "iopub.status.busy": "2022-01-14T12:13:29.027941Z",
     "iopub.status.idle": "2022-01-14T12:13:29.030595Z",
     "shell.execute_reply": "2022-01-14T12:13:29.031213Z"
    },
    "papermill": {
     "duration": 0.047591,
     "end_time": "2022-01-14T12:13:29.031349",
     "exception": false,
     "start_time": "2022-01-14T12:13:28.983758",
     "status": "completed"
    },
    "tags": []
   },
   "outputs": [],
   "source": [
    "#hide\n",
    "#delete problematic countries from table\n",
    "df_table = df_table[~df_table['Country/Region'].isin(['Cape Verde', 'Cruise Ship', 'Kosovo'])]"
   ]
  },
  {
   "cell_type": "code",
   "execution_count": 17,
   "id": "related-center",
   "metadata": {
    "execution": {
     "iopub.execute_input": "2022-01-14T12:13:29.122326Z",
     "iopub.status.busy": "2022-01-14T12:13:29.121489Z",
     "iopub.status.idle": "2022-01-14T12:13:29.142657Z",
     "shell.execute_reply": "2022-01-14T12:13:29.143183Z"
    },
    "papermill": {
     "duration": 0.07046,
     "end_time": "2022-01-14T12:13:29.143388",
     "exception": false,
     "start_time": "2022-01-14T12:13:29.072928",
     "status": "completed"
    },
    "tags": []
   },
   "outputs": [],
   "source": [
    "#hide\n",
    "metrics = [df_table.columns[index] for index in [1,2,5,6]]\n",
    "# s_china = df_table[df_table['Country/Region'].eq('China')][metrics].sum().add_prefix('China ')\n",
    "s_us = df_table[df_table['Country/Region'].eq('US')][metrics].sum().add_prefix('US ')\n",
    "s_eu = df_table[df_table['Continent'].eq('Europe')][metrics].sum().add_prefix('EU ')\n",
    "s_ind = df_table[df_table['Country/Region'].eq('India')][metrics].sum().add_prefix('India ')\n",
    "summary = {'updated': pd.to_datetime(dt_today), 'since': pd.to_datetime(dt_yday)}\n",
    "summary = {'updated': pd.to_datetime(dt_today), 'since': pd.to_datetime(dt_yday)}\n",
    "summary = {**summary, **df_table[metrics].sum(), **s_ind, **s_us, **s_eu}"
   ]
  },
  {
   "cell_type": "code",
   "execution_count": 18,
   "id": "engaging-syndrome",
   "metadata": {
    "execution": {
     "iopub.execute_input": "2022-01-14T12:13:29.229258Z",
     "iopub.status.busy": "2022-01-14T12:13:29.228471Z",
     "iopub.status.idle": "2022-01-14T12:13:29.246616Z",
     "shell.execute_reply": "2022-01-14T12:13:29.245941Z"
    },
    "papermill": {
     "duration": 0.063317,
     "end_time": "2022-01-14T12:13:29.246758",
     "exception": false,
     "start_time": "2022-01-14T12:13:29.183441",
     "status": "completed"
    },
    "tags": []
   },
   "outputs": [],
   "source": [
    "#hide\n",
    "dft_ct_new_cases = dft_cases.groupby(COL_REGION)[dt_cols].sum().diff(axis=1).fillna(0).astype(int)"
   ]
  },
  {
   "cell_type": "code",
   "execution_count": 19,
   "id": "neutral-assignment",
   "metadata": {
    "execution": {
     "iopub.execute_input": "2022-01-14T12:13:29.336048Z",
     "iopub.status.busy": "2022-01-14T12:13:29.335270Z",
     "iopub.status.idle": "2022-01-14T12:13:29.340818Z",
     "shell.execute_reply": "2022-01-14T12:13:29.341390Z"
    },
    "papermill": {
     "duration": 0.054838,
     "end_time": "2022-01-14T12:13:29.341554",
     "exception": false,
     "start_time": "2022-01-14T12:13:29.286716",
     "status": "completed"
    },
    "tags": []
   },
   "outputs": [],
   "source": [
    "#hide\n",
    "everydaycases = dft_ct_new_cases.cumsum(axis=1)"
   ]
  },
  {
   "cell_type": "code",
   "execution_count": 20,
   "id": "parliamentary-calgary",
   "metadata": {
    "execution": {
     "iopub.execute_input": "2022-01-14T12:13:29.427766Z",
     "iopub.status.busy": "2022-01-14T12:13:29.427058Z",
     "iopub.status.idle": "2022-01-14T12:13:30.170213Z",
     "shell.execute_reply": "2022-01-14T12:13:30.169602Z"
    },
    "papermill": {
     "duration": 0.788033,
     "end_time": "2022-01-14T12:13:30.170413",
     "exception": false,
     "start_time": "2022-01-14T12:13:29.382380",
     "status": "completed"
    },
    "tags": []
   },
   "outputs": [],
   "source": [
    "#hide\n",
    "import pandas as pd\n",
    "import matplotlib.pyplot as plt\n",
    "import matplotlib.ticker as ticker\n",
    "import matplotlib.animation as animation\n",
    "from IPython.display import HTML"
   ]
  },
  {
   "cell_type": "code",
   "execution_count": 21,
   "id": "lasting-extraction",
   "metadata": {
    "execution": {
     "iopub.execute_input": "2022-01-14T12:13:30.268329Z",
     "iopub.status.busy": "2022-01-14T12:13:30.267661Z",
     "iopub.status.idle": "2022-01-14T12:13:30.274126Z",
     "shell.execute_reply": "2022-01-14T12:13:30.274644Z"
    },
    "papermill": {
     "duration": 0.064856,
     "end_time": "2022-01-14T12:13:30.274787",
     "exception": false,
     "start_time": "2022-01-14T12:13:30.209931",
     "status": "completed"
    },
    "tags": []
   },
   "outputs": [],
   "source": [
    "#hide\n",
    "t = everydaycases.stack()"
   ]
  },
  {
   "cell_type": "code",
   "execution_count": 22,
   "id": "premier-sleeve",
   "metadata": {
    "execution": {
     "iopub.execute_input": "2022-01-14T12:13:30.373237Z",
     "iopub.status.busy": "2022-01-14T12:13:30.372656Z",
     "iopub.status.idle": "2022-01-14T12:13:30.384979Z",
     "shell.execute_reply": "2022-01-14T12:13:30.384211Z"
    },
    "papermill": {
     "duration": 0.070688,
     "end_time": "2022-01-14T12:13:30.385157",
     "exception": false,
     "start_time": "2022-01-14T12:13:30.314469",
     "status": "completed"
    },
    "tags": []
   },
   "outputs": [],
   "source": [
    "#hide\n",
    "g = t.reset_index(['Country/Region'])"
   ]
  },
  {
   "cell_type": "code",
   "execution_count": 23,
   "id": "distributed-pittsburgh",
   "metadata": {
    "execution": {
     "iopub.execute_input": "2022-01-14T12:13:30.470237Z",
     "iopub.status.busy": "2022-01-14T12:13:30.469531Z",
     "iopub.status.idle": "2022-01-14T12:13:30.474030Z",
     "shell.execute_reply": "2022-01-14T12:13:30.473502Z"
    },
    "papermill": {
     "duration": 0.048252,
     "end_time": "2022-01-14T12:13:30.474157",
     "exception": false,
     "start_time": "2022-01-14T12:13:30.425905",
     "status": "completed"
    },
    "tags": []
   },
   "outputs": [],
   "source": [
    "#hide\n",
    "g.index.name = 'date'"
   ]
  },
  {
   "cell_type": "code",
   "execution_count": 24,
   "id": "naked-donor",
   "metadata": {
    "execution": {
     "iopub.execute_input": "2022-01-14T12:13:30.565111Z",
     "iopub.status.busy": "2022-01-14T12:13:30.563844Z",
     "iopub.status.idle": "2022-01-14T12:13:30.566517Z",
     "shell.execute_reply": "2022-01-14T12:13:30.567206Z"
    },
    "papermill": {
     "duration": 0.053081,
     "end_time": "2022-01-14T12:13:30.567357",
     "exception": false,
     "start_time": "2022-01-14T12:13:30.514276",
     "status": "completed"
    },
    "tags": []
   },
   "outputs": [],
   "source": [
    "# #hide\n",
    "# g = g.reset_index(['date'])"
   ]
  },
  {
   "cell_type": "code",
   "execution_count": 25,
   "id": "incomplete-mustang",
   "metadata": {
    "execution": {
     "iopub.execute_input": "2022-01-14T12:13:30.656195Z",
     "iopub.status.busy": "2022-01-14T12:13:30.655398Z",
     "iopub.status.idle": "2022-01-14T12:13:30.658745Z",
     "shell.execute_reply": "2022-01-14T12:13:30.658027Z"
    },
    "papermill": {
     "duration": 0.048496,
     "end_time": "2022-01-14T12:13:30.658878",
     "exception": false,
     "start_time": "2022-01-14T12:13:30.610382",
     "status": "completed"
    },
    "tags": []
   },
   "outputs": [],
   "source": [
    "#hide\n",
    "# g.head()"
   ]
  },
  {
   "cell_type": "code",
   "execution_count": 26,
   "id": "specific-kruger",
   "metadata": {
    "execution": {
     "iopub.execute_input": "2022-01-14T12:13:30.745637Z",
     "iopub.status.busy": "2022-01-14T12:13:30.744527Z",
     "iopub.status.idle": "2022-01-14T12:13:30.746290Z",
     "shell.execute_reply": "2022-01-14T12:13:30.747025Z"
    },
    "papermill": {
     "duration": 0.047209,
     "end_time": "2022-01-14T12:13:30.747177",
     "exception": false,
     "start_time": "2022-01-14T12:13:30.699968",
     "status": "completed"
    },
    "tags": []
   },
   "outputs": [],
   "source": [
    "#hide\n",
    "# g.columns = ['date','country','cases']"
   ]
  },
  {
   "cell_type": "code",
   "execution_count": 27,
   "id": "tender-conversion",
   "metadata": {
    "execution": {
     "iopub.execute_input": "2022-01-14T12:13:30.840546Z",
     "iopub.status.busy": "2022-01-14T12:13:30.839814Z",
     "iopub.status.idle": "2022-01-14T12:13:30.841367Z",
     "shell.execute_reply": "2022-01-14T12:13:30.842059Z"
    },
    "papermill": {
     "duration": 0.048956,
     "end_time": "2022-01-14T12:13:30.842234",
     "exception": false,
     "start_time": "2022-01-14T12:13:30.793278",
     "status": "completed"
    },
    "tags": []
   },
   "outputs": [],
   "source": [
    "#hide\n",
    "# g['continent'] = g.country"
   ]
  },
  {
   "cell_type": "code",
   "execution_count": 28,
   "id": "substantial-wilderness",
   "metadata": {
    "execution": {
     "iopub.execute_input": "2022-01-14T12:13:30.945462Z",
     "iopub.status.busy": "2022-01-14T12:13:30.944726Z",
     "iopub.status.idle": "2022-01-14T12:13:30.948449Z",
     "shell.execute_reply": "2022-01-14T12:13:30.947702Z"
    },
    "papermill": {
     "duration": 0.062074,
     "end_time": "2022-01-14T12:13:30.948601",
     "exception": false,
     "start_time": "2022-01-14T12:13:30.886527",
     "status": "completed"
    },
    "tags": []
   },
   "outputs": [],
   "source": [
    "#hide\n",
    "# cols = list(g.columns.values)"
   ]
  },
  {
   "cell_type": "code",
   "execution_count": 29,
   "id": "solved-farming",
   "metadata": {
    "execution": {
     "iopub.execute_input": "2022-01-14T12:13:31.047724Z",
     "iopub.status.busy": "2022-01-14T12:13:31.046913Z",
     "iopub.status.idle": "2022-01-14T12:13:31.050774Z",
     "shell.execute_reply": "2022-01-14T12:13:31.051407Z"
    },
    "papermill": {
     "duration": 0.051711,
     "end_time": "2022-01-14T12:13:31.051586",
     "exception": false,
     "start_time": "2022-01-14T12:13:30.999875",
     "status": "completed"
    },
    "tags": []
   },
   "outputs": [],
   "source": [
    "#hide\n",
    "# cols.insert(0, cols.pop())"
   ]
  },
  {
   "cell_type": "code",
   "execution_count": 30,
   "id": "executed-adoption",
   "metadata": {
    "execution": {
     "iopub.execute_input": "2022-01-14T12:13:31.147991Z",
     "iopub.status.busy": "2022-01-14T12:13:31.147322Z",
     "iopub.status.idle": "2022-01-14T12:13:31.149781Z",
     "shell.execute_reply": "2022-01-14T12:13:31.149122Z"
    },
    "papermill": {
     "duration": 0.04711,
     "end_time": "2022-01-14T12:13:31.149906",
     "exception": false,
     "start_time": "2022-01-14T12:13:31.102796",
     "status": "completed"
    },
    "tags": []
   },
   "outputs": [],
   "source": [
    "#hide\n",
    "# g = g[cols]"
   ]
  },
  {
   "cell_type": "code",
   "execution_count": 31,
   "id": "subject-dublin",
   "metadata": {
    "execution": {
     "iopub.execute_input": "2022-01-14T12:13:31.230210Z",
     "iopub.status.busy": "2022-01-14T12:13:31.229633Z",
     "iopub.status.idle": "2022-01-14T12:13:31.231814Z",
     "shell.execute_reply": "2022-01-14T12:13:31.232255Z"
    },
    "papermill": {
     "duration": 0.043732,
     "end_time": "2022-01-14T12:13:31.232388",
     "exception": false,
     "start_time": "2022-01-14T12:13:31.188656",
     "status": "completed"
    },
    "tags": []
   },
   "outputs": [],
   "source": [
    "#hide\n",
    "# g['continent'] = g['continent'].map(mapping['map.continent'])"
   ]
  },
  {
   "cell_type": "code",
   "execution_count": 32,
   "id": "freelance-scout",
   "metadata": {
    "execution": {
     "iopub.execute_input": "2022-01-14T12:13:31.315743Z",
     "iopub.status.busy": "2022-01-14T12:13:31.314994Z",
     "iopub.status.idle": "2022-01-14T12:13:31.317135Z",
     "shell.execute_reply": "2022-01-14T12:13:31.317812Z"
    },
    "papermill": {
     "duration": 0.044719,
     "end_time": "2022-01-14T12:13:31.317981",
     "exception": false,
     "start_time": "2022-01-14T12:13:31.273262",
     "status": "completed"
    },
    "tags": []
   },
   "outputs": [],
   "source": [
    "#hide\n",
    "# g.head()"
   ]
  },
  {
   "cell_type": "code",
   "execution_count": 33,
   "id": "limited-engine",
   "metadata": {
    "execution": {
     "iopub.execute_input": "2022-01-14T12:13:31.396015Z",
     "iopub.status.busy": "2022-01-14T12:13:31.395404Z",
     "iopub.status.idle": "2022-01-14T12:13:31.398175Z",
     "shell.execute_reply": "2022-01-14T12:13:31.397568Z"
    },
    "papermill": {
     "duration": 0.042398,
     "end_time": "2022-01-14T12:13:31.398296",
     "exception": false,
     "start_time": "2022-01-14T12:13:31.355898",
     "status": "completed"
    },
    "tags": []
   },
   "outputs": [],
   "source": [
    "# hide\n",
    "# g['date'] = g['date'].astype('datetime64[ns]')"
   ]
  },
  {
   "cell_type": "code",
   "execution_count": 34,
   "id": "sophisticated-supervisor",
   "metadata": {
    "execution": {
     "iopub.execute_input": "2022-01-14T12:13:31.478305Z",
     "iopub.status.busy": "2022-01-14T12:13:31.477683Z",
     "iopub.status.idle": "2022-01-14T12:13:31.480030Z",
     "shell.execute_reply": "2022-01-14T12:13:31.479549Z"
    },
    "papermill": {
     "duration": 0.044344,
     "end_time": "2022-01-14T12:13:31.480138",
     "exception": false,
     "start_time": "2022-01-14T12:13:31.435794",
     "status": "completed"
    },
    "tags": []
   },
   "outputs": [],
   "source": [
    "#hide\n",
    "# g['date'] = g.date.dt.dayofyear"
   ]
  },
  {
   "cell_type": "code",
   "execution_count": 35,
   "id": "inside-dubai",
   "metadata": {
    "execution": {
     "iopub.execute_input": "2022-01-14T12:13:31.566135Z",
     "iopub.status.busy": "2022-01-14T12:13:31.564502Z",
     "iopub.status.idle": "2022-01-14T12:13:31.570486Z",
     "shell.execute_reply": "2022-01-14T12:13:31.569848Z"
    },
    "papermill": {
     "duration": 0.054188,
     "end_time": "2022-01-14T12:13:31.570618",
     "exception": false,
     "start_time": "2022-01-14T12:13:31.516430",
     "status": "completed"
    },
    "tags": []
   },
   "outputs": [],
   "source": [
    "#hide\n",
    "# g = g.rename(columns= {'continent':'group','country':'name','cases':'value'})"
   ]
  },
  {
   "cell_type": "code",
   "execution_count": 36,
   "id": "fleet-motorcycle",
   "metadata": {
    "execution": {
     "iopub.execute_input": "2022-01-14T12:13:31.654536Z",
     "iopub.status.busy": "2022-01-14T12:13:31.653902Z",
     "iopub.status.idle": "2022-01-14T12:13:31.657752Z",
     "shell.execute_reply": "2022-01-14T12:13:31.658321Z"
    },
    "papermill": {
     "duration": 0.046791,
     "end_time": "2022-01-14T12:13:31.658474",
     "exception": false,
     "start_time": "2022-01-14T12:13:31.611683",
     "status": "completed"
    },
    "tags": []
   },
   "outputs": [],
   "source": [
    "#hide\n",
    "# cols = ['name','group','day','value']"
   ]
  },
  {
   "cell_type": "code",
   "execution_count": 37,
   "id": "continued-sleeping",
   "metadata": {
    "execution": {
     "iopub.execute_input": "2022-01-14T12:13:31.769754Z",
     "iopub.status.busy": "2022-01-14T12:13:31.769107Z",
     "iopub.status.idle": "2022-01-14T12:13:31.771198Z",
     "shell.execute_reply": "2022-01-14T12:13:31.771673Z"
    },
    "papermill": {
     "duration": 0.062823,
     "end_time": "2022-01-14T12:13:31.780465",
     "exception": false,
     "start_time": "2022-01-14T12:13:31.717642",
     "status": "completed"
    },
    "tags": []
   },
   "outputs": [],
   "source": [
    "#hide\n",
    "# g.rename(columns= {'date':'day'},inplace = True)"
   ]
  },
  {
   "cell_type": "code",
   "execution_count": 38,
   "id": "major-fight",
   "metadata": {
    "execution": {
     "iopub.execute_input": "2022-01-14T12:13:31.867258Z",
     "iopub.status.busy": "2022-01-14T12:13:31.866453Z",
     "iopub.status.idle": "2022-01-14T12:13:31.869256Z",
     "shell.execute_reply": "2022-01-14T12:13:31.868666Z"
    },
    "papermill": {
     "duration": 0.050032,
     "end_time": "2022-01-14T12:13:31.869377",
     "exception": false,
     "start_time": "2022-01-14T12:13:31.819345",
     "status": "completed"
    },
    "tags": []
   },
   "outputs": [],
   "source": [
    "#hide\n",
    "# g = g[cols]"
   ]
  },
  {
   "cell_type": "code",
   "execution_count": 39,
   "id": "structured-mobile",
   "metadata": {
    "execution": {
     "iopub.execute_input": "2022-01-14T12:13:31.953642Z",
     "iopub.status.busy": "2022-01-14T12:13:31.953096Z",
     "iopub.status.idle": "2022-01-14T12:13:31.957725Z",
     "shell.execute_reply": "2022-01-14T12:13:31.957096Z"
    },
    "papermill": {
     "duration": 0.045557,
     "end_time": "2022-01-14T12:13:31.957854",
     "exception": false,
     "start_time": "2022-01-14T12:13:31.912297",
     "status": "completed"
    },
    "tags": []
   },
   "outputs": [],
   "source": [
    "# #hide\n",
    "# g = g[g.group.notna()]"
   ]
  },
  {
   "cell_type": "code",
   "execution_count": 40,
   "id": "determined-closing",
   "metadata": {
    "execution": {
     "iopub.execute_input": "2022-01-14T12:13:32.041830Z",
     "iopub.status.busy": "2022-01-14T12:13:32.041168Z",
     "iopub.status.idle": "2022-01-14T12:13:32.043617Z",
     "shell.execute_reply": "2022-01-14T12:13:32.043156Z"
    },
    "papermill": {
     "duration": 0.047377,
     "end_time": "2022-01-14T12:13:32.043723",
     "exception": false,
     "start_time": "2022-01-14T12:13:31.996346",
     "status": "completed"
    },
    "tags": []
   },
   "outputs": [],
   "source": [
    "# #hide\n",
    "# colors = dict(zip(\n",
    "#     [\"Oceania\", \"Europe\", \"Asia\", \"South America\", \"Middle East\", \"North America\", \"Africa\"],\n",
    "#     [\"#adb0ff\", \"#ffb3ff\", \"#90d595\", \"#e48381\", \"#aafbff\", \"#f7bb5f\", \"#eafb50\"]\n",
    "# ))\n",
    "# group_lk = g.set_index('name')['group'].to_dict()"
   ]
  },
  {
   "cell_type": "code",
   "execution_count": null,
   "id": "gross-drinking",
   "metadata": {
    "papermill": {
     "duration": 0.036228,
     "end_time": "2022-01-14T12:13:32.117149",
     "exception": false,
     "start_time": "2022-01-14T12:13:32.080921",
     "status": "completed"
    },
    "tags": []
   },
   "outputs": [],
   "source": []
  },
  {
   "cell_type": "code",
   "execution_count": 41,
   "id": "subject-macintosh",
   "metadata": {
    "execution": {
     "iopub.execute_input": "2022-01-14T12:13:32.195781Z",
     "iopub.status.busy": "2022-01-14T12:13:32.195121Z",
     "iopub.status.idle": "2022-01-14T12:13:32.198534Z",
     "shell.execute_reply": "2022-01-14T12:13:32.197840Z"
    },
    "papermill": {
     "duration": 0.044297,
     "end_time": "2022-01-14T12:13:32.198661",
     "exception": false,
     "start_time": "2022-01-14T12:13:32.154364",
     "status": "completed"
    },
    "tags": []
   },
   "outputs": [],
   "source": [
    "# #hide\n",
    "# fig, ax = plt.subplots(figsize=(15, 8))\n",
    "\n",
    "# def draw_barchart(current_day):\n",
    "#     dff = g[g['day'].eq(current_day)].sort_values(by='value', ascending=True).tail(10)\n",
    "#     ax.clear()\n",
    "#     ax.barh(dff['name'], dff['value'], color=[colors[group_lk[x]] for x in dff['name']])\n",
    "#     dx = dff['value'].max() / 200\n",
    "    \n",
    "#     for i, (value, name) in enumerate(zip(dff['value'], dff['name'])):\n",
    "#         ax.text(value-dx, i,     name,           size=14, weight=600, ha='right', va='bottom')\n",
    "#         ax.text(value-dx, i-.25, group_lk[name], size=10, color='#444444', ha='right', va='baseline')\n",
    "#         ax.text(value+dx, i,     f'{value:,.0f}',  size=14, ha='left',  va='center')\n",
    "#     ax.text(1, 0.4, current_day, transform=ax.transAxes, color='#777777', size=46, ha='right', weight=800)\n",
    "#     ax.text(0, 1.06, 'Population (thousands)', transform=ax.transAxes, size=12, color='#777777')\n",
    "#     ax.xaxis.set_major_formatter(ticker.StrMethodFormatter('{x:,.0f}'))\n",
    "#     ax.xaxis.set_ticks_position('top')\n",
    "#     ax.tick_params(axis='x', colors='#777777', labelsize=12)\n",
    "#     ax.set_yticks([])\n",
    "#     ax.margins(0, 0.01)\n",
    "#     ax.grid(which='major', axis='x', linestyle='-')\n",
    "#     ax.set_axisbelow(True)\n",
    "    \n",
    "#     ax.text(0, 1.15, 'Coronavirus',\n",
    "#             transform=ax.transAxes, size=24, weight=600, ha='left', va='top')\n",
    "# #     ax.text(1, 0, 'by @pratapvardhan; credit @jburnmurdoch', transform=ax.transAxes, color='#777777', ha='right',\n",
    "# #             bbox=dict(facecolor='white', alpha=0.8, edgecolor='white'))\n",
    "#     plt.box(False)"
   ]
  },
  {
   "cell_type": "code",
   "execution_count": 42,
   "id": "sexual-wages",
   "metadata": {
    "execution": {
     "iopub.execute_input": "2022-01-14T12:13:32.274425Z",
     "iopub.status.busy": "2022-01-14T12:13:32.273903Z",
     "iopub.status.idle": "2022-01-14T12:13:32.278588Z",
     "shell.execute_reply": "2022-01-14T12:13:32.277827Z"
    },
    "papermill": {
     "duration": 0.044621,
     "end_time": "2022-01-14T12:13:32.278719",
     "exception": false,
     "start_time": "2022-01-14T12:13:32.234098",
     "status": "completed"
    },
    "tags": []
   },
   "outputs": [],
   "source": [
    "# #hide_input\n",
    "# fig, ax = plt.subplots(figsize=(15, 8))\n",
    "# animator = animation.FuncAnimation(fig, draw_barchart, frames=range(g.day.values.min(), g.day.values.max()))\n",
    "# HTML(animator.to_jshtml())\n",
    "# # or use animator.to_html5_video() or animator.save() "
   ]
  },
  {
   "cell_type": "code",
   "execution_count": null,
   "id": "australian-container",
   "metadata": {
    "papermill": {
     "duration": 0.038371,
     "end_time": "2022-01-14T12:13:32.354676",
     "exception": false,
     "start_time": "2022-01-14T12:13:32.316305",
     "status": "completed"
    },
    "tags": []
   },
   "outputs": [],
   "source": []
  },
  {
   "cell_type": "code",
   "execution_count": null,
   "id": "mediterranean-pontiac",
   "metadata": {
    "papermill": {
     "duration": 0.035991,
     "end_time": "2022-01-14T12:13:32.428848",
     "exception": false,
     "start_time": "2022-01-14T12:13:32.392857",
     "status": "completed"
    },
    "tags": []
   },
   "outputs": [],
   "source": []
  },
  {
   "cell_type": "code",
   "execution_count": null,
   "id": "aging-legislature",
   "metadata": {
    "papermill": {
     "duration": 0.037625,
     "end_time": "2022-01-14T12:13:32.502294",
     "exception": false,
     "start_time": "2022-01-14T12:13:32.464669",
     "status": "completed"
    },
    "tags": []
   },
   "outputs": [],
   "source": []
  }
 ],
 "metadata": {
  "kernelspec": {
   "display_name": "Python 3",
   "language": "python",
   "name": "python3"
  },
  "language_info": {
   "codemirror_mode": {
    "name": "ipython",
    "version": 3
   },
   "file_extension": ".py",
   "mimetype": "text/x-python",
   "name": "python",
   "nbconvert_exporter": "python",
   "pygments_lexer": "ipython3",
   "version": "3.6.15"
  },
  "papermill": {
   "duration": 7.466996,
   "end_time": "2022-01-14T12:13:32.848138",
   "environment_variables": {},
   "exception": null,
   "input_path": "2020-03-21-covid19exp.ipynb",
   "output_path": "2020-03-21-covid19exp.ipynb",
   "parameters": {},
   "start_time": "2022-01-14T12:13:25.381142",
   "version": "2.0.0"
  }
 },
 "nbformat": 4,
 "nbformat_minor": 5
}