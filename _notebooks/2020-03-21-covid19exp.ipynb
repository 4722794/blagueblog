{
 "cells": [
  {
   "cell_type": "markdown",
   "metadata": {
    "papermill": {
     "duration": 0.03253,
     "end_time": "2020-12-03T00:10:59.700392",
     "exception": false,
     "start_time": "2020-12-03T00:10:59.667862",
     "status": "completed"
    },
    "tags": []
   },
   "source": [
    "# COVID-19 Case Race\n",
    "> A race chart to see rising cases around the world\n",
    "\n",
    "- author: Hargun Oberoi\n",
    "- image: images/covid-overview.png\n",
    "- hide: false\n",
    "- badges: false"
   ]
  },
  {
   "cell_type": "code",
   "execution_count": 1,
   "metadata": {
    "execution": {
     "iopub.execute_input": "2020-12-03T00:10:59.768757Z",
     "iopub.status.busy": "2020-12-03T00:10:59.768164Z",
     "iopub.status.idle": "2020-12-03T00:11:00.076125Z",
     "shell.execute_reply": "2020-12-03T00:11:00.075595Z"
    },
    "papermill": {
     "duration": 0.343909,
     "end_time": "2020-12-03T00:11:00.076292",
     "exception": false,
     "start_time": "2020-12-03T00:10:59.732383",
     "status": "completed"
    },
    "tags": []
   },
   "outputs": [],
   "source": [
    "#hide\n",
    "import numpy as np\n",
    "import pandas as pd\n",
    "from jinja2 import Template\n",
    "from IPython.display import HTML"
   ]
  },
  {
   "cell_type": "code",
   "execution_count": 2,
   "metadata": {
    "execution": {
     "iopub.execute_input": "2020-12-03T00:11:00.138564Z",
     "iopub.status.busy": "2020-12-03T00:11:00.137990Z",
     "iopub.status.idle": "2020-12-03T00:11:00.139789Z",
     "shell.execute_reply": "2020-12-03T00:11:00.140252Z"
    },
    "papermill": {
     "duration": 0.034894,
     "end_time": "2020-12-03T00:11:00.140366",
     "exception": false,
     "start_time": "2020-12-03T00:11:00.105472",
     "status": "completed"
    },
    "tags": []
   },
   "outputs": [],
   "source": [
    "#hide\n",
    "\n",
    "# FETCH\n",
    "base_url = 'https://raw.githubusercontent.com/pratapvardhan/notebooks/master/covid19/'\n",
    "paths = {\n",
    "    'mapping': base_url + 'mapping_countries.csv',\n",
    "    'overview': base_url + 'overview.tpl'\n",
    "}"
   ]
  },
  {
   "cell_type": "code",
   "execution_count": 3,
   "metadata": {
    "execution": {
     "iopub.execute_input": "2020-12-03T00:11:00.201903Z",
     "iopub.status.busy": "2020-12-03T00:11:00.201234Z",
     "iopub.status.idle": "2020-12-03T00:11:00.206764Z",
     "shell.execute_reply": "2020-12-03T00:11:00.206233Z"
    },
    "papermill": {
     "duration": 0.039727,
     "end_time": "2020-12-03T00:11:00.206890",
     "exception": false,
     "start_time": "2020-12-03T00:11:00.167163",
     "status": "completed"
    },
    "tags": []
   },
   "outputs": [
    {
     "data": {
      "text/plain": [
       "'https://raw.githubusercontent.com/pratapvardhan/notebooks/master/covid19/mapping_countries.csv'"
      ]
     },
     "execution_count": 3,
     "metadata": {},
     "output_type": "execute_result"
    }
   ],
   "source": [
    "#hide\n",
    "paths['mapping']"
   ]
  },
  {
   "cell_type": "code",
   "execution_count": 4,
   "metadata": {
    "execution": {
     "iopub.execute_input": "2020-12-03T00:11:00.272566Z",
     "iopub.status.busy": "2020-12-03T00:11:00.272057Z",
     "iopub.status.idle": "2020-12-03T00:11:00.273783Z",
     "shell.execute_reply": "2020-12-03T00:11:00.274410Z"
    },
    "papermill": {
     "duration": 0.036156,
     "end_time": "2020-12-03T00:11:00.274544",
     "exception": false,
     "start_time": "2020-12-03T00:11:00.238388",
     "status": "completed"
    },
    "tags": []
   },
   "outputs": [],
   "source": [
    "#hide\n",
    "def get_mappings(url):\n",
    "    df = pd.read_csv(url)\n",
    "    return {\n",
    "        'df': df,\n",
    "        'replace.country': dict(df.dropna(subset=['Name']).set_index('Country')['Name']),\n",
    "        'map.continent': dict(df.set_index('Name')['Continent'])\n",
    "    }"
   ]
  },
  {
   "cell_type": "code",
   "execution_count": 5,
   "metadata": {
    "execution": {
     "iopub.execute_input": "2020-12-03T00:11:00.334515Z",
     "iopub.status.busy": "2020-12-03T00:11:00.333881Z",
     "iopub.status.idle": "2020-12-03T00:11:00.383044Z",
     "shell.execute_reply": "2020-12-03T00:11:00.383722Z"
    },
    "papermill": {
     "duration": 0.082186,
     "end_time": "2020-12-03T00:11:00.383891",
     "exception": false,
     "start_time": "2020-12-03T00:11:00.301705",
     "status": "completed"
    },
    "tags": []
   },
   "outputs": [],
   "source": [
    "#hide\n",
    "mapping = get_mappings(paths['mapping'])"
   ]
  },
  {
   "cell_type": "code",
   "execution_count": 6,
   "metadata": {
    "execution": {
     "iopub.execute_input": "2020-12-03T00:11:00.444778Z",
     "iopub.status.busy": "2020-12-03T00:11:00.444203Z",
     "iopub.status.idle": "2020-12-03T00:11:00.446167Z",
     "shell.execute_reply": "2020-12-03T00:11:00.446691Z"
    },
    "papermill": {
     "duration": 0.033716,
     "end_time": "2020-12-03T00:11:00.446843",
     "exception": false,
     "start_time": "2020-12-03T00:11:00.413127",
     "status": "completed"
    },
    "tags": []
   },
   "outputs": [],
   "source": [
    "#hide\n",
    "def get_template(path):\n",
    "    from urllib.parse import urlparse\n",
    "    if bool(urlparse(path).netloc):\n",
    "        from urllib.request import urlopen\n",
    "        return urlopen(path).read().decode('utf8')\n",
    "    return open(path).read()"
   ]
  },
  {
   "cell_type": "code",
   "execution_count": 7,
   "metadata": {
    "execution": {
     "iopub.execute_input": "2020-12-03T00:11:00.506071Z",
     "iopub.status.busy": "2020-12-03T00:11:00.505463Z",
     "iopub.status.idle": "2020-12-03T00:11:00.507972Z",
     "shell.execute_reply": "2020-12-03T00:11:00.507417Z"
    },
    "papermill": {
     "duration": 0.033956,
     "end_time": "2020-12-03T00:11:00.508110",
     "exception": false,
     "start_time": "2020-12-03T00:11:00.474154",
     "status": "completed"
    },
    "tags": []
   },
   "outputs": [],
   "source": [
    "#hide\n",
    "def get_frame(name):\n",
    "    url = (\n",
    "        'https://raw.githubusercontent.com/CSSEGISandData/COVID-19/master/csse_covid_19_data/'\n",
    "        f'csse_covid_19_time_series/time_series_covid19_{name}_global.csv')\n",
    "    df = pd.read_csv(url)\n",
    "    # rename countries\n",
    "    df['Country/Region'] = df['Country/Region'].replace(mapping['replace.country'])\n",
    "    return df"
   ]
  },
  {
   "cell_type": "code",
   "execution_count": 8,
   "metadata": {
    "execution": {
     "iopub.execute_input": "2020-12-03T00:11:00.568582Z",
     "iopub.status.busy": "2020-12-03T00:11:00.568004Z",
     "iopub.status.idle": "2020-12-03T00:11:00.570368Z",
     "shell.execute_reply": "2020-12-03T00:11:00.569884Z"
    },
    "papermill": {
     "duration": 0.035947,
     "end_time": "2020-12-03T00:11:00.570490",
     "exception": false,
     "start_time": "2020-12-03T00:11:00.534543",
     "status": "completed"
    },
    "tags": []
   },
   "outputs": [],
   "source": [
    "#hide\n",
    "def get_dates(df):\n",
    "    dt_cols = df.columns[~df.columns.isin(['Province/State', 'Country/Region', 'Lat', 'Long'])]\n",
    "    LAST_DATE_I = -1\n",
    "    # sometimes last column may be empty, then go backwards\n",
    "    for i in range(-1, -len(dt_cols), -1):\n",
    "        if not df[dt_cols[i]].fillna(0).eq(0).all():\n",
    "            LAST_DATE_I = i\n",
    "            break\n",
    "    return LAST_DATE_I, dt_cols"
   ]
  },
  {
   "cell_type": "code",
   "execution_count": 9,
   "metadata": {
    "execution": {
     "iopub.execute_input": "2020-12-03T00:11:00.629921Z",
     "iopub.status.busy": "2020-12-03T00:11:00.629030Z",
     "iopub.status.idle": "2020-12-03T00:11:00.962957Z",
     "shell.execute_reply": "2020-12-03T00:11:00.962330Z"
    },
    "papermill": {
     "duration": 0.36514,
     "end_time": "2020-12-03T00:11:00.963232",
     "exception": false,
     "start_time": "2020-12-03T00:11:00.598092",
     "status": "completed"
    },
    "tags": []
   },
   "outputs": [],
   "source": [
    "#hide\n",
    "COL_REGION = 'Country/Region'\n",
    "# Confirmed, Recovered, Deaths\n",
    "df = get_frame('confirmed')\n",
    "# dft_: timeseries, dfc_: today country agg\n",
    "dft_cases = df\n",
    "dft_deaths = get_frame('deaths')\n",
    "dft_recovered = get_frame('recovered')\n",
    "LAST_DATE_I, dt_cols = get_dates(df)"
   ]
  },
  {
   "cell_type": "code",
   "execution_count": 10,
   "metadata": {
    "execution": {
     "iopub.execute_input": "2020-12-03T00:11:01.026444Z",
     "iopub.status.busy": "2020-12-03T00:11:01.025884Z",
     "iopub.status.idle": "2020-12-03T00:11:01.028519Z",
     "shell.execute_reply": "2020-12-03T00:11:01.028014Z"
    },
    "papermill": {
     "duration": 0.035937,
     "end_time": "2020-12-03T00:11:01.028651",
     "exception": false,
     "start_time": "2020-12-03T00:11:00.992714",
     "status": "completed"
    },
    "tags": []
   },
   "outputs": [],
   "source": [
    "#hide\n",
    "LAST_DATE_I, dt_cols = get_dates(df)\n",
    "dt_today =dt_cols[LAST_DATE_I]\n",
    "# dt_5day = dt_cols[LAST_DATE_I - 5]\n",
    "dt_yday = dt_cols[LAST_DATE_I - 1]"
   ]
  },
  {
   "cell_type": "code",
   "execution_count": 11,
   "metadata": {
    "execution": {
     "iopub.execute_input": "2020-12-03T00:11:01.090265Z",
     "iopub.status.busy": "2020-12-03T00:11:01.089645Z",
     "iopub.status.idle": "2020-12-03T00:11:01.097413Z",
     "shell.execute_reply": "2020-12-03T00:11:01.097851Z"
    },
    "papermill": {
     "duration": 0.04061,
     "end_time": "2020-12-03T00:11:01.098020",
     "exception": false,
     "start_time": "2020-12-03T00:11:01.057410",
     "status": "completed"
    },
    "tags": []
   },
   "outputs": [],
   "source": [
    "#hide\n",
    "dfc_cases = dft_cases.groupby(COL_REGION)[dt_today].sum()\n",
    "dfc_deaths = dft_deaths.groupby(COL_REGION)[dt_today].sum()\n",
    "# dfp_cases = dft_cases.groupby(COL_REGION)[dt_5day].sum()\n",
    "# dfp_deaths = dft_deaths.groupby(COL_REGION)[dt_5day].sum()\n",
    "dfp_cases = dft_cases.groupby(COL_REGION)[dt_yday].sum()\n",
    "dfp_deaths = dft_deaths.groupby(COL_REGION)[dt_yday].sum()"
   ]
  },
  {
   "cell_type": "code",
   "execution_count": 12,
   "metadata": {
    "execution": {
     "iopub.execute_input": "2020-12-03T00:11:01.159647Z",
     "iopub.status.busy": "2020-12-03T00:11:01.159141Z",
     "iopub.status.idle": "2020-12-03T00:11:01.163895Z",
     "shell.execute_reply": "2020-12-03T00:11:01.163466Z"
    },
    "papermill": {
     "duration": 0.038387,
     "end_time": "2020-12-03T00:11:01.163995",
     "exception": false,
     "start_time": "2020-12-03T00:11:01.125608",
     "status": "completed"
    },
    "tags": []
   },
   "outputs": [],
   "source": [
    "#hide\n",
    "df_table = (pd.DataFrame(dict(Cases = dfc_cases, Deaths = dfc_deaths, PCases = dfp_cases, PDeaths = dfp_deaths))\n",
    "            .sort_values(by = ['Cases','Deaths'], ascending = [False, False])\n",
    "            .reset_index())"
   ]
  },
  {
   "cell_type": "code",
   "execution_count": 13,
   "metadata": {
    "execution": {
     "iopub.execute_input": "2020-12-03T00:11:01.235035Z",
     "iopub.status.busy": "2020-12-03T00:11:01.234462Z",
     "iopub.status.idle": "2020-12-03T00:11:01.242249Z",
     "shell.execute_reply": "2020-12-03T00:11:01.241762Z"
    },
    "papermill": {
     "duration": 0.05187,
     "end_time": "2020-12-03T00:11:01.242369",
     "exception": false,
     "start_time": "2020-12-03T00:11:01.190499",
     "status": "completed"
    },
    "tags": []
   },
   "outputs": [
    {
     "data": {
      "text/html": [
       "<div>\n",
       "<style scoped>\n",
       "    .dataframe tbody tr th:only-of-type {\n",
       "        vertical-align: middle;\n",
       "    }\n",
       "\n",
       "    .dataframe tbody tr th {\n",
       "        vertical-align: top;\n",
       "    }\n",
       "\n",
       "    .dataframe thead th {\n",
       "        text-align: right;\n",
       "    }\n",
       "</style>\n",
       "<table border=\"1\" class=\"dataframe\">\n",
       "  <thead>\n",
       "    <tr style=\"text-align: right;\">\n",
       "      <th></th>\n",
       "      <th>Country/Region</th>\n",
       "      <th>Cases</th>\n",
       "      <th>Deaths</th>\n",
       "      <th>PCases</th>\n",
       "      <th>PDeaths</th>\n",
       "      <th>Cases (+)</th>\n",
       "      <th>Deaths (+)</th>\n",
       "      <th>Fatality Rate</th>\n",
       "      <th>Continent</th>\n",
       "    </tr>\n",
       "  </thead>\n",
       "  <tbody>\n",
       "    <tr>\n",
       "      <th>0</th>\n",
       "      <td>US</td>\n",
       "      <td>13721304</td>\n",
       "      <td>270642</td>\n",
       "      <td>13541221</td>\n",
       "      <td>268045</td>\n",
       "      <td>180083</td>\n",
       "      <td>2597</td>\n",
       "      <td>1.97</td>\n",
       "      <td>North America</td>\n",
       "    </tr>\n",
       "    <tr>\n",
       "      <th>1</th>\n",
       "      <td>India</td>\n",
       "      <td>9499413</td>\n",
       "      <td>138122</td>\n",
       "      <td>9462809</td>\n",
       "      <td>137621</td>\n",
       "      <td>36604</td>\n",
       "      <td>501</td>\n",
       "      <td>1.45</td>\n",
       "      <td>Asia</td>\n",
       "    </tr>\n",
       "    <tr>\n",
       "      <th>2</th>\n",
       "      <td>Brazil</td>\n",
       "      <td>6386787</td>\n",
       "      <td>173817</td>\n",
       "      <td>6335878</td>\n",
       "      <td>173120</td>\n",
       "      <td>50909</td>\n",
       "      <td>697</td>\n",
       "      <td>2.72</td>\n",
       "      <td>South America</td>\n",
       "    </tr>\n",
       "    <tr>\n",
       "      <th>3</th>\n",
       "      <td>Russia</td>\n",
       "      <td>2302062</td>\n",
       "      <td>40050</td>\n",
       "      <td>2275936</td>\n",
       "      <td>39491</td>\n",
       "      <td>26126</td>\n",
       "      <td>559</td>\n",
       "      <td>1.74</td>\n",
       "      <td>Europe</td>\n",
       "    </tr>\n",
       "    <tr>\n",
       "      <th>4</th>\n",
       "      <td>France</td>\n",
       "      <td>2275429</td>\n",
       "      <td>52821</td>\n",
       "      <td>2275016</td>\n",
       "      <td>52819</td>\n",
       "      <td>413</td>\n",
       "      <td>2</td>\n",
       "      <td>2.32</td>\n",
       "      <td>Europe</td>\n",
       "    </tr>\n",
       "  </tbody>\n",
       "</table>\n",
       "</div>"
      ],
      "text/plain": [
       "  Country/Region     Cases  Deaths    PCases  PDeaths  Cases (+)  Deaths (+)  \\\n",
       "0             US  13721304  270642  13541221   268045     180083        2597   \n",
       "1          India   9499413  138122   9462809   137621      36604         501   \n",
       "2         Brazil   6386787  173817   6335878   173120      50909         697   \n",
       "3         Russia   2302062   40050   2275936    39491      26126         559   \n",
       "4         France   2275429   52821   2275016    52819        413           2   \n",
       "\n",
       "   Fatality Rate      Continent  \n",
       "0           1.97  North America  \n",
       "1           1.45           Asia  \n",
       "2           2.72  South America  \n",
       "3           1.74         Europe  \n",
       "4           2.32         Europe  "
      ]
     },
     "execution_count": 13,
     "metadata": {},
     "output_type": "execute_result"
    }
   ],
   "source": [
    "#hide\n",
    "for c in 'Cases, Deaths'.split(', '):\n",
    "    df_table[f'{c} (+)'] = (df_table[c] - df_table[f'P{c}']).clip(0)\n",
    "    #Clip ça veut dire, les chiffres negatif sont interdit\n",
    "df_table['Fatality Rate'] = (100* df_table['Deaths']/ df_table['Cases']).round(2)\n",
    "df_table['Continent'] = df_table['Country/Region'].map(mapping['map.continent'])\n",
    "df_table.head(5)"
   ]
  },
  {
   "cell_type": "code",
   "execution_count": 14,
   "metadata": {
    "execution": {
     "iopub.execute_input": "2020-12-03T00:11:01.310303Z",
     "iopub.status.busy": "2020-12-03T00:11:01.309716Z",
     "iopub.status.idle": "2020-12-03T00:11:01.312386Z",
     "shell.execute_reply": "2020-12-03T00:11:01.312934Z"
    },
    "papermill": {
     "duration": 0.036803,
     "end_time": "2020-12-03T00:11:01.313046",
     "exception": false,
     "start_time": "2020-12-03T00:11:01.276243",
     "status": "completed"
    },
    "tags": []
   },
   "outputs": [],
   "source": [
    "#hide\n",
    "#delete problematic countries from table\n",
    "df_table = df_table[~df_table['Country/Region'].isin(['Cape Verde', 'Cruise Ship', 'Kosovo'])]"
   ]
  },
  {
   "cell_type": "code",
   "execution_count": 15,
   "metadata": {
    "execution": {
     "iopub.execute_input": "2020-12-03T00:11:01.373915Z",
     "iopub.status.busy": "2020-12-03T00:11:01.373279Z",
     "iopub.status.idle": "2020-12-03T00:11:01.392987Z",
     "shell.execute_reply": "2020-12-03T00:11:01.393450Z"
    },
    "papermill": {
     "duration": 0.05411,
     "end_time": "2020-12-03T00:11:01.393569",
     "exception": false,
     "start_time": "2020-12-03T00:11:01.339459",
     "status": "completed"
    },
    "tags": []
   },
   "outputs": [
    {
     "data": {
      "text/html": [
       "<div>\n",
       "<style scoped>\n",
       "    .dataframe tbody tr th:only-of-type {\n",
       "        vertical-align: middle;\n",
       "    }\n",
       "\n",
       "    .dataframe tbody tr th {\n",
       "        vertical-align: top;\n",
       "    }\n",
       "\n",
       "    .dataframe thead th {\n",
       "        text-align: right;\n",
       "    }\n",
       "</style>\n",
       "<table border=\"1\" class=\"dataframe\">\n",
       "  <thead>\n",
       "    <tr style=\"text-align: right;\">\n",
       "      <th></th>\n",
       "      <th>Country/Region</th>\n",
       "      <th>Cases</th>\n",
       "      <th>Deaths</th>\n",
       "      <th>PCases</th>\n",
       "      <th>PDeaths</th>\n",
       "      <th>Cases (+)</th>\n",
       "      <th>Deaths (+)</th>\n",
       "      <th>Fatality Rate</th>\n",
       "      <th>Continent</th>\n",
       "    </tr>\n",
       "  </thead>\n",
       "  <tbody>\n",
       "    <tr>\n",
       "      <th>0</th>\n",
       "      <td>US</td>\n",
       "      <td>13721304</td>\n",
       "      <td>270642</td>\n",
       "      <td>13541221</td>\n",
       "      <td>268045</td>\n",
       "      <td>180083</td>\n",
       "      <td>2597</td>\n",
       "      <td>2.0</td>\n",
       "      <td>North America</td>\n",
       "    </tr>\n",
       "    <tr>\n",
       "      <th>1</th>\n",
       "      <td>India</td>\n",
       "      <td>9499413</td>\n",
       "      <td>138122</td>\n",
       "      <td>9462809</td>\n",
       "      <td>137621</td>\n",
       "      <td>36604</td>\n",
       "      <td>501</td>\n",
       "      <td>1.5</td>\n",
       "      <td>Asia</td>\n",
       "    </tr>\n",
       "    <tr>\n",
       "      <th>2</th>\n",
       "      <td>Brazil</td>\n",
       "      <td>6386787</td>\n",
       "      <td>173817</td>\n",
       "      <td>6335878</td>\n",
       "      <td>173120</td>\n",
       "      <td>50909</td>\n",
       "      <td>697</td>\n",
       "      <td>2.7</td>\n",
       "      <td>South America</td>\n",
       "    </tr>\n",
       "    <tr>\n",
       "      <th>3</th>\n",
       "      <td>Russia</td>\n",
       "      <td>2302062</td>\n",
       "      <td>40050</td>\n",
       "      <td>2275936</td>\n",
       "      <td>39491</td>\n",
       "      <td>26126</td>\n",
       "      <td>559</td>\n",
       "      <td>1.7</td>\n",
       "      <td>Europe</td>\n",
       "    </tr>\n",
       "    <tr>\n",
       "      <th>4</th>\n",
       "      <td>France</td>\n",
       "      <td>2275429</td>\n",
       "      <td>52821</td>\n",
       "      <td>2275016</td>\n",
       "      <td>52819</td>\n",
       "      <td>413</td>\n",
       "      <td>2</td>\n",
       "      <td>2.3</td>\n",
       "      <td>Europe</td>\n",
       "    </tr>\n",
       "  </tbody>\n",
       "</table>\n",
       "</div>"
      ],
      "text/plain": [
       "  Country/Region     Cases  Deaths    PCases  PDeaths  Cases (+)  Deaths (+)  \\\n",
       "0             US  13721304  270642  13541221   268045     180083        2597   \n",
       "1          India   9499413  138122   9462809   137621      36604         501   \n",
       "2         Brazil   6386787  173817   6335878   173120      50909         697   \n",
       "3         Russia   2302062   40050   2275936    39491      26126         559   \n",
       "4         France   2275429   52821   2275016    52819        413           2   \n",
       "\n",
       "   Fatality Rate      Continent  \n",
       "0            2.0  North America  \n",
       "1            1.5           Asia  \n",
       "2            2.7  South America  \n",
       "3            1.7         Europe  \n",
       "4            2.3         Europe  "
      ]
     },
     "execution_count": 15,
     "metadata": {},
     "output_type": "execute_result"
    }
   ],
   "source": [
    "#hide\n",
    "df_table = (pd.DataFrame(dict(Cases=dfc_cases, Deaths=dfc_deaths, PCases=dfp_cases, PDeaths=dfp_deaths))\n",
    "             .sort_values(by=['Cases', 'Deaths'], ascending=[False, False])\n",
    "             .reset_index())\n",
    "df_table.rename(columns={'index': 'Country/Region'}, inplace=True)\n",
    "for c in 'Cases, Deaths'.split(', '):\n",
    "    df_table[f'{c} (+)'] = (df_table[c] - df_table[f'P{c}']).clip(0)  # DATA BUG\n",
    "df_table['Fatality Rate'] = (100 * df_table['Deaths'] / df_table['Cases']).round(1)\n",
    "df_table['Continent'] = df_table['Country/Region'].map(mapping['map.continent'])\n",
    "df_table.head(5)"
   ]
  },
  {
   "cell_type": "code",
   "execution_count": 16,
   "metadata": {
    "execution": {
     "iopub.execute_input": "2020-12-03T00:11:01.455588Z",
     "iopub.status.busy": "2020-12-03T00:11:01.454933Z",
     "iopub.status.idle": "2020-12-03T00:11:01.456871Z",
     "shell.execute_reply": "2020-12-03T00:11:01.457352Z"
    },
    "papermill": {
     "duration": 0.03634,
     "end_time": "2020-12-03T00:11:01.457508",
     "exception": false,
     "start_time": "2020-12-03T00:11:01.421168",
     "status": "completed"
    },
    "tags": []
   },
   "outputs": [],
   "source": [
    "#hide\n",
    "#delete problematic countries from table\n",
    "df_table = df_table[~df_table['Country/Region'].isin(['Cape Verde', 'Cruise Ship', 'Kosovo'])]"
   ]
  },
  {
   "cell_type": "code",
   "execution_count": 17,
   "metadata": {
    "execution": {
     "iopub.execute_input": "2020-12-03T00:11:01.522067Z",
     "iopub.status.busy": "2020-12-03T00:11:01.521515Z",
     "iopub.status.idle": "2020-12-03T00:11:01.535446Z",
     "shell.execute_reply": "2020-12-03T00:11:01.535939Z"
    },
    "papermill": {
     "duration": 0.049241,
     "end_time": "2020-12-03T00:11:01.536090",
     "exception": false,
     "start_time": "2020-12-03T00:11:01.486849",
     "status": "completed"
    },
    "tags": []
   },
   "outputs": [],
   "source": [
    "#hide\n",
    "metrics = [df_table.columns[index] for index in [1,2,5,6]]\n",
    "# s_china = df_table[df_table['Country/Region'].eq('China')][metrics].sum().add_prefix('China ')\n",
    "s_us = df_table[df_table['Country/Region'].eq('US')][metrics].sum().add_prefix('US ')\n",
    "s_eu = df_table[df_table['Continent'].eq('Europe')][metrics].sum().add_prefix('EU ')\n",
    "s_ind = df_table[df_table['Country/Region'].eq('India')][metrics].sum().add_prefix('India ')\n",
    "summary = {'updated': pd.to_datetime(dt_today), 'since': pd.to_datetime(dt_yday)}\n",
    "summary = {'updated': pd.to_datetime(dt_today), 'since': pd.to_datetime(dt_yday)}\n",
    "summary = {**summary, **df_table[metrics].sum(), **s_ind, **s_us, **s_eu}"
   ]
  },
  {
   "cell_type": "code",
   "execution_count": 18,
   "metadata": {
    "execution": {
     "iopub.execute_input": "2020-12-03T00:11:01.612030Z",
     "iopub.status.busy": "2020-12-03T00:11:01.611478Z",
     "iopub.status.idle": "2020-12-03T00:11:01.620370Z",
     "shell.execute_reply": "2020-12-03T00:11:01.619814Z"
    },
    "papermill": {
     "duration": 0.051099,
     "end_time": "2020-12-03T00:11:01.620549",
     "exception": false,
     "start_time": "2020-12-03T00:11:01.569450",
     "status": "completed"
    },
    "tags": []
   },
   "outputs": [],
   "source": [
    "#hide\n",
    "dft_ct_new_cases = dft_cases.groupby(COL_REGION)[dt_cols].sum().diff(axis=1).fillna(0).astype(int)"
   ]
  },
  {
   "cell_type": "code",
   "execution_count": 19,
   "metadata": {
    "execution": {
     "iopub.execute_input": "2020-12-03T00:11:01.680227Z",
     "iopub.status.busy": "2020-12-03T00:11:01.679637Z",
     "iopub.status.idle": "2020-12-03T00:11:01.681851Z",
     "shell.execute_reply": "2020-12-03T00:11:01.682292Z"
    },
    "papermill": {
     "duration": 0.034599,
     "end_time": "2020-12-03T00:11:01.682424",
     "exception": false,
     "start_time": "2020-12-03T00:11:01.647825",
     "status": "completed"
    },
    "tags": []
   },
   "outputs": [],
   "source": [
    "#hide\n",
    "everydaycases = dft_ct_new_cases.cumsum(axis=1)"
   ]
  },
  {
   "cell_type": "code",
   "execution_count": 20,
   "metadata": {
    "execution": {
     "iopub.execute_input": "2020-12-03T00:11:01.747633Z",
     "iopub.status.busy": "2020-12-03T00:11:01.746882Z",
     "iopub.status.idle": "2020-12-03T00:11:03.928715Z",
     "shell.execute_reply": "2020-12-03T00:11:03.928164Z"
    },
    "papermill": {
     "duration": 2.216571,
     "end_time": "2020-12-03T00:11:03.928837",
     "exception": false,
     "start_time": "2020-12-03T00:11:01.712266",
     "status": "completed"
    },
    "tags": []
   },
   "outputs": [],
   "source": [
    "#hide\n",
    "import pandas as pd\n",
    "import matplotlib.pyplot as plt\n",
    "import matplotlib.ticker as ticker\n",
    "import matplotlib.animation as animation\n",
    "from IPython.display import HTML"
   ]
  },
  {
   "cell_type": "code",
   "execution_count": 21,
   "metadata": {
    "execution": {
     "iopub.execute_input": "2020-12-03T00:11:03.990596Z",
     "iopub.status.busy": "2020-12-03T00:11:03.990079Z",
     "iopub.status.idle": "2020-12-03T00:11:03.993891Z",
     "shell.execute_reply": "2020-12-03T00:11:03.994598Z"
    },
    "papermill": {
     "duration": 0.036222,
     "end_time": "2020-12-03T00:11:03.994712",
     "exception": false,
     "start_time": "2020-12-03T00:11:03.958490",
     "status": "completed"
    },
    "tags": []
   },
   "outputs": [],
   "source": [
    "#hide\n",
    "t = everydaycases.stack()"
   ]
  },
  {
   "cell_type": "code",
   "execution_count": 22,
   "metadata": {
    "execution": {
     "iopub.execute_input": "2020-12-03T00:11:04.053939Z",
     "iopub.status.busy": "2020-12-03T00:11:04.053410Z",
     "iopub.status.idle": "2020-12-03T00:11:04.058824Z",
     "shell.execute_reply": "2020-12-03T00:11:04.059298Z"
    },
    "papermill": {
     "duration": 0.037643,
     "end_time": "2020-12-03T00:11:04.059411",
     "exception": false,
     "start_time": "2020-12-03T00:11:04.021768",
     "status": "completed"
    },
    "tags": []
   },
   "outputs": [],
   "source": [
    "#hide\n",
    "g = t.reset_index(['Country/Region'])"
   ]
  },
  {
   "cell_type": "code",
   "execution_count": 23,
   "metadata": {
    "execution": {
     "iopub.execute_input": "2020-12-03T00:11:04.120735Z",
     "iopub.status.busy": "2020-12-03T00:11:04.120093Z",
     "iopub.status.idle": "2020-12-03T00:11:04.122370Z",
     "shell.execute_reply": "2020-12-03T00:11:04.121770Z"
    },
    "papermill": {
     "duration": 0.035486,
     "end_time": "2020-12-03T00:11:04.122481",
     "exception": false,
     "start_time": "2020-12-03T00:11:04.086995",
     "status": "completed"
    },
    "tags": []
   },
   "outputs": [],
   "source": [
    "#hide\n",
    "g.index.name = 'date'"
   ]
  },
  {
   "cell_type": "code",
   "execution_count": 24,
   "metadata": {
    "execution": {
     "iopub.execute_input": "2020-12-03T00:11:04.189156Z",
     "iopub.status.busy": "2020-12-03T00:11:04.188469Z",
     "iopub.status.idle": "2020-12-03T00:11:04.190776Z",
     "shell.execute_reply": "2020-12-03T00:11:04.190120Z"
    },
    "papermill": {
     "duration": 0.036901,
     "end_time": "2020-12-03T00:11:04.190889",
     "exception": false,
     "start_time": "2020-12-03T00:11:04.153988",
     "status": "completed"
    },
    "tags": []
   },
   "outputs": [],
   "source": [
    "# #hide\n",
    "# g = g.reset_index(['date'])"
   ]
  },
  {
   "cell_type": "code",
   "execution_count": 25,
   "metadata": {
    "execution": {
     "iopub.execute_input": "2020-12-03T00:11:04.259544Z",
     "iopub.status.busy": "2020-12-03T00:11:04.258876Z",
     "iopub.status.idle": "2020-12-03T00:11:04.261341Z",
     "shell.execute_reply": "2020-12-03T00:11:04.260858Z"
    },
    "papermill": {
     "duration": 0.038711,
     "end_time": "2020-12-03T00:11:04.261454",
     "exception": false,
     "start_time": "2020-12-03T00:11:04.222743",
     "status": "completed"
    },
    "tags": []
   },
   "outputs": [],
   "source": [
    "#hide\n",
    "# g.head()"
   ]
  },
  {
   "cell_type": "code",
   "execution_count": 26,
   "metadata": {
    "execution": {
     "iopub.execute_input": "2020-12-03T00:11:04.329705Z",
     "iopub.status.busy": "2020-12-03T00:11:04.329092Z",
     "iopub.status.idle": "2020-12-03T00:11:04.331642Z",
     "shell.execute_reply": "2020-12-03T00:11:04.331069Z"
    },
    "papermill": {
     "duration": 0.040562,
     "end_time": "2020-12-03T00:11:04.331771",
     "exception": false,
     "start_time": "2020-12-03T00:11:04.291209",
     "status": "completed"
    },
    "tags": []
   },
   "outputs": [],
   "source": [
    "#hide\n",
    "# g.columns = ['date','country','cases']"
   ]
  },
  {
   "cell_type": "code",
   "execution_count": 27,
   "metadata": {
    "execution": {
     "iopub.execute_input": "2020-12-03T00:11:04.403453Z",
     "iopub.status.busy": "2020-12-03T00:11:04.402820Z",
     "iopub.status.idle": "2020-12-03T00:11:04.404972Z",
     "shell.execute_reply": "2020-12-03T00:11:04.404362Z"
    },
    "papermill": {
     "duration": 0.041371,
     "end_time": "2020-12-03T00:11:04.405116",
     "exception": false,
     "start_time": "2020-12-03T00:11:04.363745",
     "status": "completed"
    },
    "tags": []
   },
   "outputs": [],
   "source": [
    "#hide\n",
    "# g['continent'] = g.country"
   ]
  },
  {
   "cell_type": "code",
   "execution_count": 28,
   "metadata": {
    "execution": {
     "iopub.execute_input": "2020-12-03T00:11:04.469218Z",
     "iopub.status.busy": "2020-12-03T00:11:04.468640Z",
     "iopub.status.idle": "2020-12-03T00:11:04.470961Z",
     "shell.execute_reply": "2020-12-03T00:11:04.470552Z"
    },
    "papermill": {
     "duration": 0.033692,
     "end_time": "2020-12-03T00:11:04.471069",
     "exception": false,
     "start_time": "2020-12-03T00:11:04.437377",
     "status": "completed"
    },
    "tags": []
   },
   "outputs": [],
   "source": [
    "#hide\n",
    "# cols = list(g.columns.values)"
   ]
  },
  {
   "cell_type": "code",
   "execution_count": 29,
   "metadata": {
    "execution": {
     "iopub.execute_input": "2020-12-03T00:11:04.535308Z",
     "iopub.status.busy": "2020-12-03T00:11:04.534638Z",
     "iopub.status.idle": "2020-12-03T00:11:04.537196Z",
     "shell.execute_reply": "2020-12-03T00:11:04.536682Z"
    },
    "papermill": {
     "duration": 0.036783,
     "end_time": "2020-12-03T00:11:04.537323",
     "exception": false,
     "start_time": "2020-12-03T00:11:04.500540",
     "status": "completed"
    },
    "tags": []
   },
   "outputs": [],
   "source": [
    "#hide\n",
    "# cols.insert(0, cols.pop())"
   ]
  },
  {
   "cell_type": "code",
   "execution_count": 30,
   "metadata": {
    "execution": {
     "iopub.execute_input": "2020-12-03T00:11:04.600482Z",
     "iopub.status.busy": "2020-12-03T00:11:04.599849Z",
     "iopub.status.idle": "2020-12-03T00:11:04.602382Z",
     "shell.execute_reply": "2020-12-03T00:11:04.601866Z"
    },
    "papermill": {
     "duration": 0.035095,
     "end_time": "2020-12-03T00:11:04.602488",
     "exception": false,
     "start_time": "2020-12-03T00:11:04.567393",
     "status": "completed"
    },
    "tags": []
   },
   "outputs": [],
   "source": [
    "#hide\n",
    "# g = g[cols]"
   ]
  },
  {
   "cell_type": "code",
   "execution_count": 31,
   "metadata": {
    "execution": {
     "iopub.execute_input": "2020-12-03T00:11:04.667933Z",
     "iopub.status.busy": "2020-12-03T00:11:04.667345Z",
     "iopub.status.idle": "2020-12-03T00:11:04.669524Z",
     "shell.execute_reply": "2020-12-03T00:11:04.669092Z"
    },
    "papermill": {
     "duration": 0.035071,
     "end_time": "2020-12-03T00:11:04.669623",
     "exception": false,
     "start_time": "2020-12-03T00:11:04.634552",
     "status": "completed"
    },
    "tags": []
   },
   "outputs": [],
   "source": [
    "#hide\n",
    "# g['continent'] = g['continent'].map(mapping['map.continent'])"
   ]
  },
  {
   "cell_type": "code",
   "execution_count": 32,
   "metadata": {
    "execution": {
     "iopub.execute_input": "2020-12-03T00:11:04.727187Z",
     "iopub.status.busy": "2020-12-03T00:11:04.726636Z",
     "iopub.status.idle": "2020-12-03T00:11:04.728624Z",
     "shell.execute_reply": "2020-12-03T00:11:04.729071Z"
    },
    "papermill": {
     "duration": 0.032491,
     "end_time": "2020-12-03T00:11:04.729192",
     "exception": false,
     "start_time": "2020-12-03T00:11:04.696701",
     "status": "completed"
    },
    "tags": []
   },
   "outputs": [],
   "source": [
    "#hide\n",
    "# g.head()"
   ]
  },
  {
   "cell_type": "code",
   "execution_count": 33,
   "metadata": {
    "execution": {
     "iopub.execute_input": "2020-12-03T00:11:04.790849Z",
     "iopub.status.busy": "2020-12-03T00:11:04.790136Z",
     "iopub.status.idle": "2020-12-03T00:11:04.792517Z",
     "shell.execute_reply": "2020-12-03T00:11:04.792949Z"
    },
    "papermill": {
     "duration": 0.034786,
     "end_time": "2020-12-03T00:11:04.793095",
     "exception": false,
     "start_time": "2020-12-03T00:11:04.758309",
     "status": "completed"
    },
    "tags": []
   },
   "outputs": [],
   "source": [
    "# hide\n",
    "# g['date'] = g['date'].astype('datetime64[ns]')"
   ]
  },
  {
   "cell_type": "code",
   "execution_count": 34,
   "metadata": {
    "execution": {
     "iopub.execute_input": "2020-12-03T00:11:04.867051Z",
     "iopub.status.busy": "2020-12-03T00:11:04.865668Z",
     "iopub.status.idle": "2020-12-03T00:11:04.867809Z",
     "shell.execute_reply": "2020-12-03T00:11:04.868327Z"
    },
    "papermill": {
     "duration": 0.040033,
     "end_time": "2020-12-03T00:11:04.868458",
     "exception": false,
     "start_time": "2020-12-03T00:11:04.828425",
     "status": "completed"
    },
    "tags": []
   },
   "outputs": [],
   "source": [
    "#hide\n",
    "# g['date'] = g.date.dt.dayofyear"
   ]
  },
  {
   "cell_type": "code",
   "execution_count": 35,
   "metadata": {
    "execution": {
     "iopub.execute_input": "2020-12-03T00:11:04.936152Z",
     "iopub.status.busy": "2020-12-03T00:11:04.935526Z",
     "iopub.status.idle": "2020-12-03T00:11:04.937553Z",
     "shell.execute_reply": "2020-12-03T00:11:04.937975Z"
    },
    "papermill": {
     "duration": 0.037272,
     "end_time": "2020-12-03T00:11:04.938124",
     "exception": false,
     "start_time": "2020-12-03T00:11:04.900852",
     "status": "completed"
    },
    "tags": []
   },
   "outputs": [],
   "source": [
    "#hide\n",
    "# g = g.rename(columns= {'continent':'group','country':'name','cases':'value'})"
   ]
  },
  {
   "cell_type": "code",
   "execution_count": 36,
   "metadata": {
    "execution": {
     "iopub.execute_input": "2020-12-03T00:11:04.998477Z",
     "iopub.status.busy": "2020-12-03T00:11:04.997879Z",
     "iopub.status.idle": "2020-12-03T00:11:05.000248Z",
     "shell.execute_reply": "2020-12-03T00:11:04.999792Z"
    },
    "papermill": {
     "duration": 0.033158,
     "end_time": "2020-12-03T00:11:05.000352",
     "exception": false,
     "start_time": "2020-12-03T00:11:04.967194",
     "status": "completed"
    },
    "tags": []
   },
   "outputs": [],
   "source": [
    "#hide\n",
    "# cols = ['name','group','day','value']"
   ]
  },
  {
   "cell_type": "code",
   "execution_count": 37,
   "metadata": {
    "execution": {
     "iopub.execute_input": "2020-12-03T00:11:05.061647Z",
     "iopub.status.busy": "2020-12-03T00:11:05.060889Z",
     "iopub.status.idle": "2020-12-03T00:11:05.062813Z",
     "shell.execute_reply": "2020-12-03T00:11:05.063251Z"
    },
    "papermill": {
     "duration": 0.035093,
     "end_time": "2020-12-03T00:11:05.063362",
     "exception": false,
     "start_time": "2020-12-03T00:11:05.028269",
     "status": "completed"
    },
    "tags": []
   },
   "outputs": [],
   "source": [
    "#hide\n",
    "# g.rename(columns= {'date':'day'},inplace = True)"
   ]
  },
  {
   "cell_type": "code",
   "execution_count": 38,
   "metadata": {
    "execution": {
     "iopub.execute_input": "2020-12-03T00:11:05.121979Z",
     "iopub.status.busy": "2020-12-03T00:11:05.121411Z",
     "iopub.status.idle": "2020-12-03T00:11:05.123431Z",
     "shell.execute_reply": "2020-12-03T00:11:05.123870Z"
    },
    "papermill": {
     "duration": 0.032651,
     "end_time": "2020-12-03T00:11:05.123980",
     "exception": false,
     "start_time": "2020-12-03T00:11:05.091329",
     "status": "completed"
    },
    "tags": []
   },
   "outputs": [],
   "source": [
    "#hide\n",
    "# g = g[cols]"
   ]
  },
  {
   "cell_type": "code",
   "execution_count": 39,
   "metadata": {
    "execution": {
     "iopub.execute_input": "2020-12-03T00:11:05.180875Z",
     "iopub.status.busy": "2020-12-03T00:11:05.180342Z",
     "iopub.status.idle": "2020-12-03T00:11:05.182952Z",
     "shell.execute_reply": "2020-12-03T00:11:05.182436Z"
    },
    "papermill": {
     "duration": 0.031888,
     "end_time": "2020-12-03T00:11:05.183052",
     "exception": false,
     "start_time": "2020-12-03T00:11:05.151164",
     "status": "completed"
    },
    "tags": []
   },
   "outputs": [],
   "source": [
    "# #hide\n",
    "# g = g[g.group.notna()]"
   ]
  },
  {
   "cell_type": "code",
   "execution_count": 40,
   "metadata": {
    "execution": {
     "iopub.execute_input": "2020-12-03T00:11:05.242171Z",
     "iopub.status.busy": "2020-12-03T00:11:05.241586Z",
     "iopub.status.idle": "2020-12-03T00:11:05.243949Z",
     "shell.execute_reply": "2020-12-03T00:11:05.243422Z"
    },
    "papermill": {
     "duration": 0.03299,
     "end_time": "2020-12-03T00:11:05.244082",
     "exception": false,
     "start_time": "2020-12-03T00:11:05.211092",
     "status": "completed"
    },
    "tags": []
   },
   "outputs": [],
   "source": [
    "# #hide\n",
    "# colors = dict(zip(\n",
    "#     [\"Oceania\", \"Europe\", \"Asia\", \"South America\", \"Middle East\", \"North America\", \"Africa\"],\n",
    "#     [\"#adb0ff\", \"#ffb3ff\", \"#90d595\", \"#e48381\", \"#aafbff\", \"#f7bb5f\", \"#eafb50\"]\n",
    "# ))\n",
    "# group_lk = g.set_index('name')['group'].to_dict()"
   ]
  },
  {
   "cell_type": "code",
   "execution_count": null,
   "metadata": {
    "papermill": {
     "duration": 0.029434,
     "end_time": "2020-12-03T00:11:05.300573",
     "exception": false,
     "start_time": "2020-12-03T00:11:05.271139",
     "status": "completed"
    },
    "tags": []
   },
   "outputs": [],
   "source": []
  },
  {
   "cell_type": "code",
   "execution_count": 41,
   "metadata": {
    "execution": {
     "iopub.execute_input": "2020-12-03T00:11:05.367937Z",
     "iopub.status.busy": "2020-12-03T00:11:05.367362Z",
     "iopub.status.idle": "2020-12-03T00:11:05.370086Z",
     "shell.execute_reply": "2020-12-03T00:11:05.369584Z"
    },
    "papermill": {
     "duration": 0.038179,
     "end_time": "2020-12-03T00:11:05.370220",
     "exception": false,
     "start_time": "2020-12-03T00:11:05.332041",
     "status": "completed"
    },
    "tags": []
   },
   "outputs": [],
   "source": [
    "# #hide\n",
    "# fig, ax = plt.subplots(figsize=(15, 8))\n",
    "\n",
    "# def draw_barchart(current_day):\n",
    "#     dff = g[g['day'].eq(current_day)].sort_values(by='value', ascending=True).tail(10)\n",
    "#     ax.clear()\n",
    "#     ax.barh(dff['name'], dff['value'], color=[colors[group_lk[x]] for x in dff['name']])\n",
    "#     dx = dff['value'].max() / 200\n",
    "    \n",
    "#     for i, (value, name) in enumerate(zip(dff['value'], dff['name'])):\n",
    "#         ax.text(value-dx, i,     name,           size=14, weight=600, ha='right', va='bottom')\n",
    "#         ax.text(value-dx, i-.25, group_lk[name], size=10, color='#444444', ha='right', va='baseline')\n",
    "#         ax.text(value+dx, i,     f'{value:,.0f}',  size=14, ha='left',  va='center')\n",
    "#     ax.text(1, 0.4, current_day, transform=ax.transAxes, color='#777777', size=46, ha='right', weight=800)\n",
    "#     ax.text(0, 1.06, 'Population (thousands)', transform=ax.transAxes, size=12, color='#777777')\n",
    "#     ax.xaxis.set_major_formatter(ticker.StrMethodFormatter('{x:,.0f}'))\n",
    "#     ax.xaxis.set_ticks_position('top')\n",
    "#     ax.tick_params(axis='x', colors='#777777', labelsize=12)\n",
    "#     ax.set_yticks([])\n",
    "#     ax.margins(0, 0.01)\n",
    "#     ax.grid(which='major', axis='x', linestyle='-')\n",
    "#     ax.set_axisbelow(True)\n",
    "    \n",
    "#     ax.text(0, 1.15, 'Coronavirus',\n",
    "#             transform=ax.transAxes, size=24, weight=600, ha='left', va='top')\n",
    "# #     ax.text(1, 0, 'by @pratapvardhan; credit @jburnmurdoch', transform=ax.transAxes, color='#777777', ha='right',\n",
    "# #             bbox=dict(facecolor='white', alpha=0.8, edgecolor='white'))\n",
    "#     plt.box(False)"
   ]
  },
  {
   "cell_type": "code",
   "execution_count": 42,
   "metadata": {
    "execution": {
     "iopub.execute_input": "2020-12-03T00:11:05.431758Z",
     "iopub.status.busy": "2020-12-03T00:11:05.430954Z",
     "iopub.status.idle": "2020-12-03T00:11:05.433669Z",
     "shell.execute_reply": "2020-12-03T00:11:05.433148Z"
    },
    "papermill": {
     "duration": 0.034949,
     "end_time": "2020-12-03T00:11:05.433785",
     "exception": false,
     "start_time": "2020-12-03T00:11:05.398836",
     "status": "completed"
    },
    "tags": []
   },
   "outputs": [],
   "source": [
    "# #hide_input\n",
    "# fig, ax = plt.subplots(figsize=(15, 8))\n",
    "# animator = animation.FuncAnimation(fig, draw_barchart, frames=range(g.day.values.min(), g.day.values.max()))\n",
    "# HTML(animator.to_jshtml())\n",
    "# # or use animator.to_html5_video() or animator.save() "
   ]
  },
  {
   "cell_type": "code",
   "execution_count": null,
   "metadata": {
    "papermill": {
     "duration": 0.029681,
     "end_time": "2020-12-03T00:11:05.495277",
     "exception": false,
     "start_time": "2020-12-03T00:11:05.465596",
     "status": "completed"
    },
    "tags": []
   },
   "outputs": [],
   "source": []
  },
  {
   "cell_type": "code",
   "execution_count": null,
   "metadata": {
    "papermill": {
     "duration": 0.029786,
     "end_time": "2020-12-03T00:11:05.555047",
     "exception": false,
     "start_time": "2020-12-03T00:11:05.525261",
     "status": "completed"
    },
    "tags": []
   },
   "outputs": [],
   "source": []
  },
  {
   "cell_type": "code",
   "execution_count": null,
   "metadata": {
    "papermill": {
     "duration": 0.02849,
     "end_time": "2020-12-03T00:11:05.612776",
     "exception": false,
     "start_time": "2020-12-03T00:11:05.584286",
     "status": "completed"
    },
    "tags": []
   },
   "outputs": [],
   "source": []
  }
 ],
 "metadata": {
  "kernelspec": {
   "display_name": "Python 3",
   "language": "python",
   "name": "python3"
  },
  "language_info": {
   "codemirror_mode": {
    "name": "ipython",
    "version": 3
   },
   "file_extension": ".py",
   "mimetype": "text/x-python",
   "name": "python",
   "nbconvert_exporter": "python",
   "pygments_lexer": "ipython3",
   "version": "3.6.12"
  },
  "papermill": {
   "duration": 8.310948,
   "end_time": "2020-12-03T00:11:06.919291",
   "environment_variables": {},
   "exception": null,
   "input_path": "2020-03-21-covid19exp.ipynb",
   "output_path": "2020-03-21-covid19exp.ipynb",
   "parameters": {},
   "start_time": "2020-12-03T00:10:58.608343",
   "version": "2.0.0"
  }
 },
 "nbformat": 4,
 "nbformat_minor": 4
}