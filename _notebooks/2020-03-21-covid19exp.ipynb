{
 "cells": [
  {
   "cell_type": "markdown",
   "id": "muslim-click",
   "metadata": {
    "papermill": {
     "duration": 0.033667,
     "end_time": "2022-07-14T00:47:13.005555",
     "exception": false,
     "start_time": "2022-07-14T00:47:12.971888",
     "status": "completed"
    },
    "tags": []
   },
   "source": [
    "# COVID-19 Case Race\n",
    "> A race chart to see rising cases around the world\n",
    "\n",
    "- author: Hargun Oberoi\n",
    "- image: images/covid-overview.png\n",
    "- hide: false\n",
    "- badges: false"
   ]
  },
  {
   "cell_type": "code",
   "execution_count": 1,
   "id": "proof-material",
   "metadata": {
    "execution": {
     "iopub.execute_input": "2022-07-14T00:47:13.077539Z",
     "iopub.status.busy": "2022-07-14T00:47:13.076844Z",
     "iopub.status.idle": "2022-07-14T00:47:13.398919Z",
     "shell.execute_reply": "2022-07-14T00:47:13.399440Z"
    },
    "papermill": {
     "duration": 0.362629,
     "end_time": "2022-07-14T00:47:13.399610",
     "exception": false,
     "start_time": "2022-07-14T00:47:13.036981",
     "status": "completed"
    },
    "tags": []
   },
   "outputs": [],
   "source": [
    "#hide\n",
    "import numpy as np\n",
    "import pandas as pd\n",
    "from jinja2 import Template\n",
    "from IPython.display import HTML"
   ]
  },
  {
   "cell_type": "code",
   "execution_count": 2,
   "id": "developed-terminology",
   "metadata": {
    "execution": {
     "iopub.execute_input": "2022-07-14T00:47:13.463437Z",
     "iopub.status.busy": "2022-07-14T00:47:13.462818Z",
     "iopub.status.idle": "2022-07-14T00:47:13.465214Z",
     "shell.execute_reply": "2022-07-14T00:47:13.464640Z"
    },
    "papermill": {
     "duration": 0.036115,
     "end_time": "2022-07-14T00:47:13.465347",
     "exception": false,
     "start_time": "2022-07-14T00:47:13.429232",
     "status": "completed"
    },
    "tags": []
   },
   "outputs": [],
   "source": [
    "#hide\n",
    "\n",
    "# FETCH\n",
    "base_url = 'https://raw.githubusercontent.com/pratapvardhan/notebooks/master/covid19/'\n",
    "paths = {\n",
    "    'mapping': base_url + 'mapping_countries.csv',\n",
    "    'overview': base_url + 'overview.tpl'\n",
    "}"
   ]
  },
  {
   "cell_type": "code",
   "execution_count": 3,
   "id": "dynamic-saver",
   "metadata": {
    "execution": {
     "iopub.execute_input": "2022-07-14T00:47:13.533218Z",
     "iopub.status.busy": "2022-07-14T00:47:13.530937Z",
     "iopub.status.idle": "2022-07-14T00:47:13.536533Z",
     "shell.execute_reply": "2022-07-14T00:47:13.536070Z"
    },
    "papermill": {
     "duration": 0.04221,
     "end_time": "2022-07-14T00:47:13.536641",
     "exception": false,
     "start_time": "2022-07-14T00:47:13.494431",
     "status": "completed"
    },
    "tags": []
   },
   "outputs": [
    {
     "data": {
      "text/plain": [
       "'https://raw.githubusercontent.com/pratapvardhan/notebooks/master/covid19/mapping_countries.csv'"
      ]
     },
     "execution_count": 3,
     "metadata": {},
     "output_type": "execute_result"
    }
   ],
   "source": [
    "#hide\n",
    "paths['mapping']"
   ]
  },
  {
   "cell_type": "code",
   "execution_count": 4,
   "id": "urban-software",
   "metadata": {
    "execution": {
     "iopub.execute_input": "2022-07-14T00:47:13.600606Z",
     "iopub.status.busy": "2022-07-14T00:47:13.599950Z",
     "iopub.status.idle": "2022-07-14T00:47:13.602518Z",
     "shell.execute_reply": "2022-07-14T00:47:13.601987Z"
    },
    "papermill": {
     "duration": 0.036481,
     "end_time": "2022-07-14T00:47:13.602633",
     "exception": false,
     "start_time": "2022-07-14T00:47:13.566152",
     "status": "completed"
    },
    "tags": []
   },
   "outputs": [],
   "source": [
    "#hide\n",
    "def get_mappings(url):\n",
    "    df = pd.read_csv(url)\n",
    "    return {\n",
    "        'df': df,\n",
    "        'replace.country': dict(df.dropna(subset=['Name']).set_index('Country')['Name']),\n",
    "        'map.continent': dict(df.set_index('Name')['Continent'])\n",
    "    }"
   ]
  },
  {
   "cell_type": "code",
   "execution_count": 5,
   "id": "intimate-machinery",
   "metadata": {
    "execution": {
     "iopub.execute_input": "2022-07-14T00:47:13.666564Z",
     "iopub.status.busy": "2022-07-14T00:47:13.665998Z",
     "iopub.status.idle": "2022-07-14T00:47:13.692410Z",
     "shell.execute_reply": "2022-07-14T00:47:13.691881Z"
    },
    "papermill": {
     "duration": 0.060354,
     "end_time": "2022-07-14T00:47:13.692525",
     "exception": false,
     "start_time": "2022-07-14T00:47:13.632171",
     "status": "completed"
    },
    "tags": []
   },
   "outputs": [],
   "source": [
    "#hide\n",
    "mapping = get_mappings(paths['mapping'])"
   ]
  },
  {
   "cell_type": "code",
   "execution_count": 6,
   "id": "certified-tactics",
   "metadata": {
    "execution": {
     "iopub.execute_input": "2022-07-14T00:47:13.756421Z",
     "iopub.status.busy": "2022-07-14T00:47:13.755850Z",
     "iopub.status.idle": "2022-07-14T00:47:13.758679Z",
     "shell.execute_reply": "2022-07-14T00:47:13.758215Z"
    },
    "papermill": {
     "duration": 0.036377,
     "end_time": "2022-07-14T00:47:13.758783",
     "exception": false,
     "start_time": "2022-07-14T00:47:13.722406",
     "status": "completed"
    },
    "tags": []
   },
   "outputs": [],
   "source": [
    "#hide\n",
    "def get_template(path):\n",
    "    from urllib.parse import urlparse\n",
    "    if bool(urlparse(path).netloc):\n",
    "        from urllib.request import urlopen\n",
    "        return urlopen(path).read().decode('utf8')\n",
    "    return open(path).read()"
   ]
  },
  {
   "cell_type": "code",
   "execution_count": 7,
   "id": "realistic-blast",
   "metadata": {
    "execution": {
     "iopub.execute_input": "2022-07-14T00:47:13.822540Z",
     "iopub.status.busy": "2022-07-14T00:47:13.821965Z",
     "iopub.status.idle": "2022-07-14T00:47:13.824313Z",
     "shell.execute_reply": "2022-07-14T00:47:13.824861Z"
    },
    "papermill": {
     "duration": 0.036843,
     "end_time": "2022-07-14T00:47:13.824981",
     "exception": false,
     "start_time": "2022-07-14T00:47:13.788138",
     "status": "completed"
    },
    "tags": []
   },
   "outputs": [],
   "source": [
    "#hide\n",
    "def get_frame(name):\n",
    "    url = (\n",
    "        'https://raw.githubusercontent.com/CSSEGISandData/COVID-19/master/csse_covid_19_data/'\n",
    "        f'csse_covid_19_time_series/time_series_covid19_{name}_global.csv')\n",
    "    df = pd.read_csv(url)\n",
    "    # rename countries\n",
    "    df['Country/Region'] = df['Country/Region'].replace(mapping['replace.country'])\n",
    "    return df"
   ]
  },
  {
   "cell_type": "code",
   "execution_count": 8,
   "id": "affiliated-characterization",
   "metadata": {
    "execution": {
     "iopub.execute_input": "2022-07-14T00:47:13.889305Z",
     "iopub.status.busy": "2022-07-14T00:47:13.888709Z",
     "iopub.status.idle": "2022-07-14T00:47:13.891040Z",
     "shell.execute_reply": "2022-07-14T00:47:13.891482Z"
    },
    "papermill": {
     "duration": 0.037099,
     "end_time": "2022-07-14T00:47:13.891595",
     "exception": false,
     "start_time": "2022-07-14T00:47:13.854496",
     "status": "completed"
    },
    "tags": []
   },
   "outputs": [],
   "source": [
    "#hide\n",
    "def get_dates(df):\n",
    "    dt_cols = df.columns[~df.columns.isin(['Province/State', 'Country/Region', 'Lat', 'Long'])]\n",
    "    LAST_DATE_I = -1\n",
    "    # sometimes last column may be empty, then go backwards\n",
    "    for i in range(-1, -len(dt_cols), -1):\n",
    "        if not df[dt_cols[i]].fillna(0).eq(0).all():\n",
    "            LAST_DATE_I = i\n",
    "            break\n",
    "    return LAST_DATE_I, dt_cols"
   ]
  },
  {
   "cell_type": "code",
   "execution_count": 9,
   "id": "recent-optimization",
   "metadata": {
    "execution": {
     "iopub.execute_input": "2022-07-14T00:47:13.955452Z",
     "iopub.status.busy": "2022-07-14T00:47:13.954815Z",
     "iopub.status.idle": "2022-07-14T00:47:14.317559Z",
     "shell.execute_reply": "2022-07-14T00:47:14.316929Z"
    },
    "papermill": {
     "duration": 0.396733,
     "end_time": "2022-07-14T00:47:14.317717",
     "exception": false,
     "start_time": "2022-07-14T00:47:13.920984",
     "status": "completed"
    },
    "tags": []
   },
   "outputs": [],
   "source": [
    "#hide\n",
    "COL_REGION = 'Country/Region'\n",
    "# Confirmed, Recovered, Deaths\n",
    "df = get_frame('confirmed')\n",
    "# dft_: timeseries, dfc_: today country agg\n",
    "dft_cases = df\n",
    "dft_deaths = get_frame('deaths')\n",
    "dft_recovered = get_frame('recovered')\n",
    "LAST_DATE_I, dt_cols = get_dates(df)"
   ]
  },
  {
   "cell_type": "code",
   "execution_count": 10,
   "id": "absolute-copper",
   "metadata": {
    "execution": {
     "iopub.execute_input": "2022-07-14T00:47:14.384204Z",
     "iopub.status.busy": "2022-07-14T00:47:14.383537Z",
     "iopub.status.idle": "2022-07-14T00:47:14.386019Z",
     "shell.execute_reply": "2022-07-14T00:47:14.385458Z"
    },
    "papermill": {
     "duration": 0.037592,
     "end_time": "2022-07-14T00:47:14.386129",
     "exception": false,
     "start_time": "2022-07-14T00:47:14.348537",
     "status": "completed"
    },
    "tags": []
   },
   "outputs": [],
   "source": [
    "#hide\n",
    "LAST_DATE_I, dt_cols = get_dates(df)\n",
    "dt_today =dt_cols[LAST_DATE_I]\n",
    "# dt_5day = dt_cols[LAST_DATE_I - 5]\n",
    "dt_yday = dt_cols[LAST_DATE_I - 1]"
   ]
  },
  {
   "cell_type": "code",
   "execution_count": 11,
   "id": "restricted-sheriff",
   "metadata": {
    "execution": {
     "iopub.execute_input": "2022-07-14T00:47:14.451216Z",
     "iopub.status.busy": "2022-07-14T00:47:14.450628Z",
     "iopub.status.idle": "2022-07-14T00:47:14.459022Z",
     "shell.execute_reply": "2022-07-14T00:47:14.458552Z"
    },
    "papermill": {
     "duration": 0.04351,
     "end_time": "2022-07-14T00:47:14.459131",
     "exception": false,
     "start_time": "2022-07-14T00:47:14.415621",
     "status": "completed"
    },
    "tags": []
   },
   "outputs": [],
   "source": [
    "#hide\n",
    "dfc_cases = dft_cases.groupby(COL_REGION)[dt_today].sum()\n",
    "dfc_deaths = dft_deaths.groupby(COL_REGION)[dt_today].sum()\n",
    "# dfp_cases = dft_cases.groupby(COL_REGION)[dt_5day].sum()\n",
    "# dfp_deaths = dft_deaths.groupby(COL_REGION)[dt_5day].sum()\n",
    "dfp_cases = dft_cases.groupby(COL_REGION)[dt_yday].sum()\n",
    "dfp_deaths = dft_deaths.groupby(COL_REGION)[dt_yday].sum()"
   ]
  },
  {
   "cell_type": "code",
   "execution_count": 12,
   "id": "deluxe-hepatitis",
   "metadata": {
    "execution": {
     "iopub.execute_input": "2022-07-14T00:47:14.524189Z",
     "iopub.status.busy": "2022-07-14T00:47:14.523607Z",
     "iopub.status.idle": "2022-07-14T00:47:14.529180Z",
     "shell.execute_reply": "2022-07-14T00:47:14.528619Z"
    },
    "papermill": {
     "duration": 0.04051,
     "end_time": "2022-07-14T00:47:14.529318",
     "exception": false,
     "start_time": "2022-07-14T00:47:14.488808",
     "status": "completed"
    },
    "tags": []
   },
   "outputs": [],
   "source": [
    "#hide\n",
    "df_table = (pd.DataFrame(dict(Cases = dfc_cases, Deaths = dfc_deaths, PCases = dfp_cases, PDeaths = dfp_deaths))\n",
    "            .sort_values(by = ['Cases','Deaths'], ascending = [False, False])\n",
    "            .reset_index())"
   ]
  },
  {
   "cell_type": "code",
   "execution_count": 13,
   "id": "educational-chancellor",
   "metadata": {
    "execution": {
     "iopub.execute_input": "2022-07-14T00:47:14.602772Z",
     "iopub.status.busy": "2022-07-14T00:47:14.592222Z",
     "iopub.status.idle": "2022-07-14T00:47:14.614654Z",
     "shell.execute_reply": "2022-07-14T00:47:14.615193Z"
    },
    "papermill": {
     "duration": 0.055628,
     "end_time": "2022-07-14T00:47:14.615327",
     "exception": false,
     "start_time": "2022-07-14T00:47:14.559699",
     "status": "completed"
    },
    "tags": []
   },
   "outputs": [
    {
     "data": {
      "text/html": [
       "<div>\n",
       "<style scoped>\n",
       "    .dataframe tbody tr th:only-of-type {\n",
       "        vertical-align: middle;\n",
       "    }\n",
       "\n",
       "    .dataframe tbody tr th {\n",
       "        vertical-align: top;\n",
       "    }\n",
       "\n",
       "    .dataframe thead th {\n",
       "        text-align: right;\n",
       "    }\n",
       "</style>\n",
       "<table border=\"1\" class=\"dataframe\">\n",
       "  <thead>\n",
       "    <tr style=\"text-align: right;\">\n",
       "      <th></th>\n",
       "      <th>Country/Region</th>\n",
       "      <th>Cases</th>\n",
       "      <th>Deaths</th>\n",
       "      <th>PCases</th>\n",
       "      <th>PDeaths</th>\n",
       "      <th>Cases (+)</th>\n",
       "      <th>Deaths (+)</th>\n",
       "      <th>Fatality Rate</th>\n",
       "      <th>Continent</th>\n",
       "    </tr>\n",
       "  </thead>\n",
       "  <tbody>\n",
       "    <tr>\n",
       "      <th>0</th>\n",
       "      <td>US</td>\n",
       "      <td>88946276</td>\n",
       "      <td>1021838</td>\n",
       "      <td>88754821</td>\n",
       "      <td>1021306</td>\n",
       "      <td>191455</td>\n",
       "      <td>532</td>\n",
       "      <td>1.15</td>\n",
       "      <td>North America</td>\n",
       "    </tr>\n",
       "    <tr>\n",
       "      <th>1</th>\n",
       "      <td>India</td>\n",
       "      <td>43669850</td>\n",
       "      <td>525519</td>\n",
       "      <td>43652944</td>\n",
       "      <td>525474</td>\n",
       "      <td>16906</td>\n",
       "      <td>45</td>\n",
       "      <td>1.20</td>\n",
       "      <td>Asia</td>\n",
       "    </tr>\n",
       "    <tr>\n",
       "      <th>2</th>\n",
       "      <td>Brazil</td>\n",
       "      <td>33004555</td>\n",
       "      <td>674102</td>\n",
       "      <td>32940507</td>\n",
       "      <td>673758</td>\n",
       "      <td>64048</td>\n",
       "      <td>344</td>\n",
       "      <td>2.04</td>\n",
       "      <td>South America</td>\n",
       "    </tr>\n",
       "    <tr>\n",
       "      <th>3</th>\n",
       "      <td>France</td>\n",
       "      <td>32753754</td>\n",
       "      <td>151345</td>\n",
       "      <td>32570121</td>\n",
       "      <td>151218</td>\n",
       "      <td>183633</td>\n",
       "      <td>127</td>\n",
       "      <td>0.46</td>\n",
       "      <td>Europe</td>\n",
       "    </tr>\n",
       "    <tr>\n",
       "      <th>4</th>\n",
       "      <td>Germany</td>\n",
       "      <td>29308100</td>\n",
       "      <td>142139</td>\n",
       "      <td>29180489</td>\n",
       "      <td>142035</td>\n",
       "      <td>127611</td>\n",
       "      <td>104</td>\n",
       "      <td>0.48</td>\n",
       "      <td>Europe</td>\n",
       "    </tr>\n",
       "  </tbody>\n",
       "</table>\n",
       "</div>"
      ],
      "text/plain": [
       "  Country/Region     Cases   Deaths    PCases  PDeaths  Cases (+)  Deaths (+)  \\\n",
       "0             US  88946276  1021838  88754821  1021306     191455         532   \n",
       "1          India  43669850   525519  43652944   525474      16906          45   \n",
       "2         Brazil  33004555   674102  32940507   673758      64048         344   \n",
       "3         France  32753754   151345  32570121   151218     183633         127   \n",
       "4        Germany  29308100   142139  29180489   142035     127611         104   \n",
       "\n",
       "   Fatality Rate      Continent  \n",
       "0           1.15  North America  \n",
       "1           1.20           Asia  \n",
       "2           2.04  South America  \n",
       "3           0.46         Europe  \n",
       "4           0.48         Europe  "
      ]
     },
     "execution_count": 13,
     "metadata": {},
     "output_type": "execute_result"
    }
   ],
   "source": [
    "#hide\n",
    "for c in 'Cases, Deaths'.split(', '):\n",
    "    df_table[f'{c} (+)'] = (df_table[c] - df_table[f'P{c}']).clip(0)\n",
    "    #Clip ça veut dire, les chiffres negatif sont interdit\n",
    "df_table['Fatality Rate'] = (100* df_table['Deaths']/ df_table['Cases']).round(2)\n",
    "df_table['Continent'] = df_table['Country/Region'].map(mapping['map.continent'])\n",
    "df_table.head(5)"
   ]
  },
  {
   "cell_type": "code",
   "execution_count": 14,
   "id": "aboriginal-bulgaria",
   "metadata": {
    "execution": {
     "iopub.execute_input": "2022-07-14T00:47:14.680818Z",
     "iopub.status.busy": "2022-07-14T00:47:14.680240Z",
     "iopub.status.idle": "2022-07-14T00:47:14.682859Z",
     "shell.execute_reply": "2022-07-14T00:47:14.682295Z"
    },
    "papermill": {
     "duration": 0.037466,
     "end_time": "2022-07-14T00:47:14.682966",
     "exception": false,
     "start_time": "2022-07-14T00:47:14.645500",
     "status": "completed"
    },
    "tags": []
   },
   "outputs": [],
   "source": [
    "#hide\n",
    "#delete problematic countries from table\n",
    "df_table = df_table[~df_table['Country/Region'].isin(['Cape Verde', 'Cruise Ship', 'Kosovo'])]"
   ]
  },
  {
   "cell_type": "code",
   "execution_count": 15,
   "id": "fantastic-effect",
   "metadata": {
    "execution": {
     "iopub.execute_input": "2022-07-14T00:47:14.751196Z",
     "iopub.status.busy": "2022-07-14T00:47:14.750611Z",
     "iopub.status.idle": "2022-07-14T00:47:14.768216Z",
     "shell.execute_reply": "2022-07-14T00:47:14.767746Z"
    },
    "papermill": {
     "duration": 0.055302,
     "end_time": "2022-07-14T00:47:14.768326",
     "exception": false,
     "start_time": "2022-07-14T00:47:14.713024",
     "status": "completed"
    },
    "tags": []
   },
   "outputs": [
    {
     "data": {
      "text/html": [
       "<div>\n",
       "<style scoped>\n",
       "    .dataframe tbody tr th:only-of-type {\n",
       "        vertical-align: middle;\n",
       "    }\n",
       "\n",
       "    .dataframe tbody tr th {\n",
       "        vertical-align: top;\n",
       "    }\n",
       "\n",
       "    .dataframe thead th {\n",
       "        text-align: right;\n",
       "    }\n",
       "</style>\n",
       "<table border=\"1\" class=\"dataframe\">\n",
       "  <thead>\n",
       "    <tr style=\"text-align: right;\">\n",
       "      <th></th>\n",
       "      <th>Country/Region</th>\n",
       "      <th>Cases</th>\n",
       "      <th>Deaths</th>\n",
       "      <th>PCases</th>\n",
       "      <th>PDeaths</th>\n",
       "      <th>Cases (+)</th>\n",
       "      <th>Deaths (+)</th>\n",
       "      <th>Fatality Rate</th>\n",
       "      <th>Continent</th>\n",
       "    </tr>\n",
       "  </thead>\n",
       "  <tbody>\n",
       "    <tr>\n",
       "      <th>0</th>\n",
       "      <td>US</td>\n",
       "      <td>88946276</td>\n",
       "      <td>1021838</td>\n",
       "      <td>88754821</td>\n",
       "      <td>1021306</td>\n",
       "      <td>191455</td>\n",
       "      <td>532</td>\n",
       "      <td>1.1</td>\n",
       "      <td>North America</td>\n",
       "    </tr>\n",
       "    <tr>\n",
       "      <th>1</th>\n",
       "      <td>India</td>\n",
       "      <td>43669850</td>\n",
       "      <td>525519</td>\n",
       "      <td>43652944</td>\n",
       "      <td>525474</td>\n",
       "      <td>16906</td>\n",
       "      <td>45</td>\n",
       "      <td>1.2</td>\n",
       "      <td>Asia</td>\n",
       "    </tr>\n",
       "    <tr>\n",
       "      <th>2</th>\n",
       "      <td>Brazil</td>\n",
       "      <td>33004555</td>\n",
       "      <td>674102</td>\n",
       "      <td>32940507</td>\n",
       "      <td>673758</td>\n",
       "      <td>64048</td>\n",
       "      <td>344</td>\n",
       "      <td>2.0</td>\n",
       "      <td>South America</td>\n",
       "    </tr>\n",
       "    <tr>\n",
       "      <th>3</th>\n",
       "      <td>France</td>\n",
       "      <td>32753754</td>\n",
       "      <td>151345</td>\n",
       "      <td>32570121</td>\n",
       "      <td>151218</td>\n",
       "      <td>183633</td>\n",
       "      <td>127</td>\n",
       "      <td>0.5</td>\n",
       "      <td>Europe</td>\n",
       "    </tr>\n",
       "    <tr>\n",
       "      <th>4</th>\n",
       "      <td>Germany</td>\n",
       "      <td>29308100</td>\n",
       "      <td>142139</td>\n",
       "      <td>29180489</td>\n",
       "      <td>142035</td>\n",
       "      <td>127611</td>\n",
       "      <td>104</td>\n",
       "      <td>0.5</td>\n",
       "      <td>Europe</td>\n",
       "    </tr>\n",
       "  </tbody>\n",
       "</table>\n",
       "</div>"
      ],
      "text/plain": [
       "  Country/Region     Cases   Deaths    PCases  PDeaths  Cases (+)  Deaths (+)  \\\n",
       "0             US  88946276  1021838  88754821  1021306     191455         532   \n",
       "1          India  43669850   525519  43652944   525474      16906          45   \n",
       "2         Brazil  33004555   674102  32940507   673758      64048         344   \n",
       "3         France  32753754   151345  32570121   151218     183633         127   \n",
       "4        Germany  29308100   142139  29180489   142035     127611         104   \n",
       "\n",
       "   Fatality Rate      Continent  \n",
       "0            1.1  North America  \n",
       "1            1.2           Asia  \n",
       "2            2.0  South America  \n",
       "3            0.5         Europe  \n",
       "4            0.5         Europe  "
      ]
     },
     "execution_count": 15,
     "metadata": {},
     "output_type": "execute_result"
    }
   ],
   "source": [
    "#hide\n",
    "df_table = (pd.DataFrame(dict(Cases=dfc_cases, Deaths=dfc_deaths, PCases=dfp_cases, PDeaths=dfp_deaths))\n",
    "             .sort_values(by=['Cases', 'Deaths'], ascending=[False, False])\n",
    "             .reset_index())\n",
    "df_table.rename(columns={'index': 'Country/Region'}, inplace=True)\n",
    "for c in 'Cases, Deaths'.split(', '):\n",
    "    df_table[f'{c} (+)'] = (df_table[c] - df_table[f'P{c}']).clip(0)  # DATA BUG\n",
    "df_table['Fatality Rate'] = (100 * df_table['Deaths'] / df_table['Cases']).round(1)\n",
    "df_table['Continent'] = df_table['Country/Region'].map(mapping['map.continent'])\n",
    "df_table.head(5)"
   ]
  },
  {
   "cell_type": "code",
   "execution_count": 16,
   "id": "fewer-occasion",
   "metadata": {
    "execution": {
     "iopub.execute_input": "2022-07-14T00:47:14.834321Z",
     "iopub.status.busy": "2022-07-14T00:47:14.833743Z",
     "iopub.status.idle": "2022-07-14T00:47:14.836287Z",
     "shell.execute_reply": "2022-07-14T00:47:14.836759Z"
    },
    "papermill": {
     "duration": 0.03797,
     "end_time": "2022-07-14T00:47:14.836875",
     "exception": false,
     "start_time": "2022-07-14T00:47:14.798905",
     "status": "completed"
    },
    "tags": []
   },
   "outputs": [],
   "source": [
    "#hide\n",
    "#delete problematic countries from table\n",
    "df_table = df_table[~df_table['Country/Region'].isin(['Cape Verde', 'Cruise Ship', 'Kosovo'])]"
   ]
  },
  {
   "cell_type": "code",
   "execution_count": 17,
   "id": "related-center",
   "metadata": {
    "execution": {
     "iopub.execute_input": "2022-07-14T00:47:14.904154Z",
     "iopub.status.busy": "2022-07-14T00:47:14.903568Z",
     "iopub.status.idle": "2022-07-14T00:47:14.917526Z",
     "shell.execute_reply": "2022-07-14T00:47:14.917022Z"
    },
    "papermill": {
     "duration": 0.050489,
     "end_time": "2022-07-14T00:47:14.917637",
     "exception": false,
     "start_time": "2022-07-14T00:47:14.867148",
     "status": "completed"
    },
    "tags": []
   },
   "outputs": [],
   "source": [
    "#hide\n",
    "metrics = [df_table.columns[index] for index in [1,2,5,6]]\n",
    "# s_china = df_table[df_table['Country/Region'].eq('China')][metrics].sum().add_prefix('China ')\n",
    "s_us = df_table[df_table['Country/Region'].eq('US')][metrics].sum().add_prefix('US ')\n",
    "s_eu = df_table[df_table['Continent'].eq('Europe')][metrics].sum().add_prefix('EU ')\n",
    "s_ind = df_table[df_table['Country/Region'].eq('India')][metrics].sum().add_prefix('India ')\n",
    "summary = {'updated': pd.to_datetime(dt_today), 'since': pd.to_datetime(dt_yday)}\n",
    "summary = {'updated': pd.to_datetime(dt_today), 'since': pd.to_datetime(dt_yday)}\n",
    "summary = {**summary, **df_table[metrics].sum(), **s_ind, **s_us, **s_eu}"
   ]
  },
  {
   "cell_type": "code",
   "execution_count": 18,
   "id": "engaging-syndrome",
   "metadata": {
    "execution": {
     "iopub.execute_input": "2022-07-14T00:47:14.983476Z",
     "iopub.status.busy": "2022-07-14T00:47:14.982899Z",
     "iopub.status.idle": "2022-07-14T00:47:15.003445Z",
     "shell.execute_reply": "2022-07-14T00:47:15.002889Z"
    },
    "papermill": {
     "duration": 0.055397,
     "end_time": "2022-07-14T00:47:15.003551",
     "exception": false,
     "start_time": "2022-07-14T00:47:14.948154",
     "status": "completed"
    },
    "tags": []
   },
   "outputs": [],
   "source": [
    "#hide\n",
    "dft_ct_new_cases = dft_cases.groupby(COL_REGION)[dt_cols].sum().diff(axis=1).fillna(0).astype(int)"
   ]
  },
  {
   "cell_type": "code",
   "execution_count": 19,
   "id": "neutral-assignment",
   "metadata": {
    "execution": {
     "iopub.execute_input": "2022-07-14T00:47:15.068426Z",
     "iopub.status.busy": "2022-07-14T00:47:15.067850Z",
     "iopub.status.idle": "2022-07-14T00:47:15.073038Z",
     "shell.execute_reply": "2022-07-14T00:47:15.073625Z"
    },
    "papermill": {
     "duration": 0.039877,
     "end_time": "2022-07-14T00:47:15.073752",
     "exception": false,
     "start_time": "2022-07-14T00:47:15.033875",
     "status": "completed"
    },
    "tags": []
   },
   "outputs": [],
   "source": [
    "#hide\n",
    "everydaycases = dft_ct_new_cases.cumsum(axis=1)"
   ]
  },
  {
   "cell_type": "code",
   "execution_count": 20,
   "id": "parliamentary-calgary",
   "metadata": {
    "execution": {
     "iopub.execute_input": "2022-07-14T00:47:15.138746Z",
     "iopub.status.busy": "2022-07-14T00:47:15.138168Z",
     "iopub.status.idle": "2022-07-14T00:47:15.687922Z",
     "shell.execute_reply": "2022-07-14T00:47:15.687348Z"
    },
    "papermill": {
     "duration": 0.583889,
     "end_time": "2022-07-14T00:47:15.688069",
     "exception": false,
     "start_time": "2022-07-14T00:47:15.104180",
     "status": "completed"
    },
    "tags": []
   },
   "outputs": [],
   "source": [
    "#hide\n",
    "import pandas as pd\n",
    "import matplotlib.pyplot as plt\n",
    "import matplotlib.ticker as ticker\n",
    "import matplotlib.animation as animation\n",
    "from IPython.display import HTML"
   ]
  },
  {
   "cell_type": "code",
   "execution_count": 21,
   "id": "lasting-extraction",
   "metadata": {
    "execution": {
     "iopub.execute_input": "2022-07-14T00:47:15.756667Z",
     "iopub.status.busy": "2022-07-14T00:47:15.756079Z",
     "iopub.status.idle": "2022-07-14T00:47:15.763629Z",
     "shell.execute_reply": "2022-07-14T00:47:15.764170Z"
    },
    "papermill": {
     "duration": 0.044886,
     "end_time": "2022-07-14T00:47:15.764302",
     "exception": false,
     "start_time": "2022-07-14T00:47:15.719416",
     "status": "completed"
    },
    "tags": []
   },
   "outputs": [],
   "source": [
    "#hide\n",
    "t = everydaycases.stack()"
   ]
  },
  {
   "cell_type": "code",
   "execution_count": 22,
   "id": "premier-sleeve",
   "metadata": {
    "execution": {
     "iopub.execute_input": "2022-07-14T00:47:15.830345Z",
     "iopub.status.busy": "2022-07-14T00:47:15.829742Z",
     "iopub.status.idle": "2022-07-14T00:47:15.841342Z",
     "shell.execute_reply": "2022-07-14T00:47:15.841931Z"
    },
    "papermill": {
     "duration": 0.04696,
     "end_time": "2022-07-14T00:47:15.842066",
     "exception": false,
     "start_time": "2022-07-14T00:47:15.795106",
     "status": "completed"
    },
    "tags": []
   },
   "outputs": [],
   "source": [
    "#hide\n",
    "g = t.reset_index(['Country/Region'])"
   ]
  },
  {
   "cell_type": "code",
   "execution_count": 23,
   "id": "distributed-pittsburgh",
   "metadata": {
    "execution": {
     "iopub.execute_input": "2022-07-14T00:47:15.907535Z",
     "iopub.status.busy": "2022-07-14T00:47:15.906694Z",
     "iopub.status.idle": "2022-07-14T00:47:15.908723Z",
     "shell.execute_reply": "2022-07-14T00:47:15.909227Z"
    },
    "papermill": {
     "duration": 0.036799,
     "end_time": "2022-07-14T00:47:15.909393",
     "exception": false,
     "start_time": "2022-07-14T00:47:15.872594",
     "status": "completed"
    },
    "tags": []
   },
   "outputs": [],
   "source": [
    "#hide\n",
    "g.index.name = 'date'"
   ]
  },
  {
   "cell_type": "code",
   "execution_count": 24,
   "id": "naked-donor",
   "metadata": {
    "execution": {
     "iopub.execute_input": "2022-07-14T00:47:15.995969Z",
     "iopub.status.busy": "2022-07-14T00:47:15.995285Z",
     "iopub.status.idle": "2022-07-14T00:47:15.996894Z",
     "shell.execute_reply": "2022-07-14T00:47:15.997359Z"
    },
    "papermill": {
     "duration": 0.056923,
     "end_time": "2022-07-14T00:47:15.997489",
     "exception": false,
     "start_time": "2022-07-14T00:47:15.940566",
     "status": "completed"
    },
    "tags": []
   },
   "outputs": [],
   "source": [
    "# #hide\n",
    "# g = g.reset_index(['date'])"
   ]
  },
  {
   "cell_type": "code",
   "execution_count": 25,
   "id": "incomplete-mustang",
   "metadata": {
    "execution": {
     "iopub.execute_input": "2022-07-14T00:47:16.064632Z",
     "iopub.status.busy": "2022-07-14T00:47:16.064027Z",
     "iopub.status.idle": "2022-07-14T00:47:16.066772Z",
     "shell.execute_reply": "2022-07-14T00:47:16.067432Z"
    },
    "papermill": {
     "duration": 0.03909,
     "end_time": "2022-07-14T00:47:16.067568",
     "exception": false,
     "start_time": "2022-07-14T00:47:16.028478",
     "status": "completed"
    },
    "tags": []
   },
   "outputs": [],
   "source": [
    "#hide\n",
    "# g.head()"
   ]
  },
  {
   "cell_type": "code",
   "execution_count": 26,
   "id": "specific-kruger",
   "metadata": {
    "execution": {
     "iopub.execute_input": "2022-07-14T00:47:16.196245Z",
     "iopub.status.busy": "2022-07-14T00:47:16.195640Z",
     "iopub.status.idle": "2022-07-14T00:47:16.199492Z",
     "shell.execute_reply": "2022-07-14T00:47:16.199982Z"
    },
    "papermill": {
     "duration": 0.049101,
     "end_time": "2022-07-14T00:47:16.200135",
     "exception": false,
     "start_time": "2022-07-14T00:47:16.151034",
     "status": "completed"
    },
    "tags": []
   },
   "outputs": [],
   "source": [
    "#hide\n",
    "# g.columns = ['date','country','cases']"
   ]
  },
  {
   "cell_type": "code",
   "execution_count": 27,
   "id": "tender-conversion",
   "metadata": {
    "execution": {
     "iopub.execute_input": "2022-07-14T00:47:16.399358Z",
     "iopub.status.busy": "2022-07-14T00:47:16.398681Z",
     "iopub.status.idle": "2022-07-14T00:47:16.401674Z",
     "shell.execute_reply": "2022-07-14T00:47:16.402168Z"
    },
    "papermill": {
     "duration": 0.110311,
     "end_time": "2022-07-14T00:47:16.402318",
     "exception": false,
     "start_time": "2022-07-14T00:47:16.292007",
     "status": "completed"
    },
    "tags": []
   },
   "outputs": [],
   "source": [
    "#hide\n",
    "# g['continent'] = g.country"
   ]
  },
  {
   "cell_type": "code",
   "execution_count": 28,
   "id": "substantial-wilderness",
   "metadata": {
    "execution": {
     "iopub.execute_input": "2022-07-14T00:47:16.603687Z",
     "iopub.status.busy": "2022-07-14T00:47:16.602838Z",
     "iopub.status.idle": "2022-07-14T00:47:16.605150Z",
     "shell.execute_reply": "2022-07-14T00:47:16.604302Z"
    },
    "papermill": {
     "duration": 0.107884,
     "end_time": "2022-07-14T00:47:16.605313",
     "exception": false,
     "start_time": "2022-07-14T00:47:16.497429",
     "status": "completed"
    },
    "tags": []
   },
   "outputs": [],
   "source": [
    "#hide\n",
    "# cols = list(g.columns.values)"
   ]
  },
  {
   "cell_type": "code",
   "execution_count": 29,
   "id": "solved-farming",
   "metadata": {
    "execution": {
     "iopub.execute_input": "2022-07-14T00:47:16.703731Z",
     "iopub.status.busy": "2022-07-14T00:47:16.703043Z",
     "iopub.status.idle": "2022-07-14T00:47:16.705831Z",
     "shell.execute_reply": "2022-07-14T00:47:16.705249Z"
    },
    "papermill": {
     "duration": 0.06735,
     "end_time": "2022-07-14T00:47:16.705958",
     "exception": false,
     "start_time": "2022-07-14T00:47:16.638608",
     "status": "completed"
    },
    "tags": []
   },
   "outputs": [],
   "source": [
    "#hide\n",
    "# cols.insert(0, cols.pop())"
   ]
  },
  {
   "cell_type": "code",
   "execution_count": 30,
   "id": "executed-adoption",
   "metadata": {
    "execution": {
     "iopub.execute_input": "2022-07-14T00:47:16.770950Z",
     "iopub.status.busy": "2022-07-14T00:47:16.770337Z",
     "iopub.status.idle": "2022-07-14T00:47:16.772636Z",
     "shell.execute_reply": "2022-07-14T00:47:16.772070Z"
    },
    "papermill": {
     "duration": 0.036025,
     "end_time": "2022-07-14T00:47:16.772744",
     "exception": false,
     "start_time": "2022-07-14T00:47:16.736719",
     "status": "completed"
    },
    "tags": []
   },
   "outputs": [],
   "source": [
    "#hide\n",
    "# g = g[cols]"
   ]
  },
  {
   "cell_type": "code",
   "execution_count": 31,
   "id": "subject-dublin",
   "metadata": {
    "execution": {
     "iopub.execute_input": "2022-07-14T00:47:16.837807Z",
     "iopub.status.busy": "2022-07-14T00:47:16.837091Z",
     "iopub.status.idle": "2022-07-14T00:47:16.839639Z",
     "shell.execute_reply": "2022-07-14T00:47:16.839001Z"
    },
    "papermill": {
     "duration": 0.036594,
     "end_time": "2022-07-14T00:47:16.839759",
     "exception": false,
     "start_time": "2022-07-14T00:47:16.803165",
     "status": "completed"
    },
    "tags": []
   },
   "outputs": [],
   "source": [
    "#hide\n",
    "# g['continent'] = g['continent'].map(mapping['map.continent'])"
   ]
  },
  {
   "cell_type": "code",
   "execution_count": 32,
   "id": "freelance-scout",
   "metadata": {
    "execution": {
     "iopub.execute_input": "2022-07-14T00:47:16.904315Z",
     "iopub.status.busy": "2022-07-14T00:47:16.903725Z",
     "iopub.status.idle": "2022-07-14T00:47:16.906398Z",
     "shell.execute_reply": "2022-07-14T00:47:16.905933Z"
    },
    "papermill": {
     "duration": 0.036138,
     "end_time": "2022-07-14T00:47:16.906503",
     "exception": false,
     "start_time": "2022-07-14T00:47:16.870365",
     "status": "completed"
    },
    "tags": []
   },
   "outputs": [],
   "source": [
    "#hide\n",
    "# g.head()"
   ]
  },
  {
   "cell_type": "code",
   "execution_count": 33,
   "id": "limited-engine",
   "metadata": {
    "execution": {
     "iopub.execute_input": "2022-07-14T00:47:16.971295Z",
     "iopub.status.busy": "2022-07-14T00:47:16.970632Z",
     "iopub.status.idle": "2022-07-14T00:47:16.974335Z",
     "shell.execute_reply": "2022-07-14T00:47:16.974780Z"
    },
    "papermill": {
     "duration": 0.037814,
     "end_time": "2022-07-14T00:47:16.974901",
     "exception": false,
     "start_time": "2022-07-14T00:47:16.937087",
     "status": "completed"
    },
    "tags": []
   },
   "outputs": [],
   "source": [
    "# hide\n",
    "# g['date'] = g['date'].astype('datetime64[ns]')"
   ]
  },
  {
   "cell_type": "code",
   "execution_count": 34,
   "id": "sophisticated-supervisor",
   "metadata": {
    "execution": {
     "iopub.execute_input": "2022-07-14T00:47:17.039171Z",
     "iopub.status.busy": "2022-07-14T00:47:17.038517Z",
     "iopub.status.idle": "2022-07-14T00:47:17.041108Z",
     "shell.execute_reply": "2022-07-14T00:47:17.040580Z"
    },
    "papermill": {
     "duration": 0.035994,
     "end_time": "2022-07-14T00:47:17.041224",
     "exception": false,
     "start_time": "2022-07-14T00:47:17.005230",
     "status": "completed"
    },
    "tags": []
   },
   "outputs": [],
   "source": [
    "#hide\n",
    "# g['date'] = g.date.dt.dayofyear"
   ]
  },
  {
   "cell_type": "code",
   "execution_count": 35,
   "id": "inside-dubai",
   "metadata": {
    "execution": {
     "iopub.execute_input": "2022-07-14T00:47:17.106008Z",
     "iopub.status.busy": "2022-07-14T00:47:17.105413Z",
     "iopub.status.idle": "2022-07-14T00:47:17.108319Z",
     "shell.execute_reply": "2022-07-14T00:47:17.107760Z"
    },
    "papermill": {
     "duration": 0.036255,
     "end_time": "2022-07-14T00:47:17.108422",
     "exception": false,
     "start_time": "2022-07-14T00:47:17.072167",
     "status": "completed"
    },
    "tags": []
   },
   "outputs": [],
   "source": [
    "#hide\n",
    "# g = g.rename(columns= {'continent':'group','country':'name','cases':'value'})"
   ]
  },
  {
   "cell_type": "code",
   "execution_count": 36,
   "id": "fleet-motorcycle",
   "metadata": {
    "execution": {
     "iopub.execute_input": "2022-07-14T00:47:17.172757Z",
     "iopub.status.busy": "2022-07-14T00:47:17.172094Z",
     "iopub.status.idle": "2022-07-14T00:47:17.174191Z",
     "shell.execute_reply": "2022-07-14T00:47:17.174673Z"
    },
    "papermill": {
     "duration": 0.036062,
     "end_time": "2022-07-14T00:47:17.174814",
     "exception": false,
     "start_time": "2022-07-14T00:47:17.138752",
     "status": "completed"
    },
    "tags": []
   },
   "outputs": [],
   "source": [
    "#hide\n",
    "# cols = ['name','group','day','value']"
   ]
  },
  {
   "cell_type": "code",
   "execution_count": 37,
   "id": "continued-sleeping",
   "metadata": {
    "execution": {
     "iopub.execute_input": "2022-07-14T00:47:17.239611Z",
     "iopub.status.busy": "2022-07-14T00:47:17.239029Z",
     "iopub.status.idle": "2022-07-14T00:47:17.241533Z",
     "shell.execute_reply": "2022-07-14T00:47:17.240947Z"
    },
    "papermill": {
     "duration": 0.036016,
     "end_time": "2022-07-14T00:47:17.241639",
     "exception": false,
     "start_time": "2022-07-14T00:47:17.205623",
     "status": "completed"
    },
    "tags": []
   },
   "outputs": [],
   "source": [
    "#hide\n",
    "# g.rename(columns= {'date':'day'},inplace = True)"
   ]
  },
  {
   "cell_type": "code",
   "execution_count": 38,
   "id": "major-fight",
   "metadata": {
    "execution": {
     "iopub.execute_input": "2022-07-14T00:47:17.306586Z",
     "iopub.status.busy": "2022-07-14T00:47:17.305899Z",
     "iopub.status.idle": "2022-07-14T00:47:17.309982Z",
     "shell.execute_reply": "2022-07-14T00:47:17.309503Z"
    },
    "papermill": {
     "duration": 0.038007,
     "end_time": "2022-07-14T00:47:17.310090",
     "exception": false,
     "start_time": "2022-07-14T00:47:17.272083",
     "status": "completed"
    },
    "tags": []
   },
   "outputs": [],
   "source": [
    "#hide\n",
    "# g = g[cols]"
   ]
  },
  {
   "cell_type": "code",
   "execution_count": 39,
   "id": "structured-mobile",
   "metadata": {
    "execution": {
     "iopub.execute_input": "2022-07-14T00:47:17.375153Z",
     "iopub.status.busy": "2022-07-14T00:47:17.374491Z",
     "iopub.status.idle": "2022-07-14T00:47:17.377090Z",
     "shell.execute_reply": "2022-07-14T00:47:17.376559Z"
    },
    "papermill": {
     "duration": 0.036289,
     "end_time": "2022-07-14T00:47:17.377209",
     "exception": false,
     "start_time": "2022-07-14T00:47:17.340920",
     "status": "completed"
    },
    "tags": []
   },
   "outputs": [],
   "source": [
    "# #hide\n",
    "# g = g[g.group.notna()]"
   ]
  },
  {
   "cell_type": "code",
   "execution_count": 40,
   "id": "determined-closing",
   "metadata": {
    "execution": {
     "iopub.execute_input": "2022-07-14T00:47:17.442068Z",
     "iopub.status.busy": "2022-07-14T00:47:17.441390Z",
     "iopub.status.idle": "2022-07-14T00:47:17.444258Z",
     "shell.execute_reply": "2022-07-14T00:47:17.443700Z"
    },
    "papermill": {
     "duration": 0.036301,
     "end_time": "2022-07-14T00:47:17.444360",
     "exception": false,
     "start_time": "2022-07-14T00:47:17.408059",
     "status": "completed"
    },
    "tags": []
   },
   "outputs": [],
   "source": [
    "# #hide\n",
    "# colors = dict(zip(\n",
    "#     [\"Oceania\", \"Europe\", \"Asia\", \"South America\", \"Middle East\", \"North America\", \"Africa\"],\n",
    "#     [\"#adb0ff\", \"#ffb3ff\", \"#90d595\", \"#e48381\", \"#aafbff\", \"#f7bb5f\", \"#eafb50\"]\n",
    "# ))\n",
    "# group_lk = g.set_index('name')['group'].to_dict()"
   ]
  },
  {
   "cell_type": "code",
   "execution_count": null,
   "id": "gross-drinking",
   "metadata": {
    "papermill": {
     "duration": 0.030427,
     "end_time": "2022-07-14T00:47:17.507514",
     "exception": false,
     "start_time": "2022-07-14T00:47:17.477087",
     "status": "completed"
    },
    "tags": []
   },
   "outputs": [],
   "source": []
  },
  {
   "cell_type": "code",
   "execution_count": 41,
   "id": "subject-macintosh",
   "metadata": {
    "execution": {
     "iopub.execute_input": "2022-07-14T00:47:17.572206Z",
     "iopub.status.busy": "2022-07-14T00:47:17.571616Z",
     "iopub.status.idle": "2022-07-14T00:47:17.574600Z",
     "shell.execute_reply": "2022-07-14T00:47:17.574135Z"
    },
    "papermill": {
     "duration": 0.036909,
     "end_time": "2022-07-14T00:47:17.574702",
     "exception": false,
     "start_time": "2022-07-14T00:47:17.537793",
     "status": "completed"
    },
    "tags": []
   },
   "outputs": [],
   "source": [
    "# #hide\n",
    "# fig, ax = plt.subplots(figsize=(15, 8))\n",
    "\n",
    "# def draw_barchart(current_day):\n",
    "#     dff = g[g['day'].eq(current_day)].sort_values(by='value', ascending=True).tail(10)\n",
    "#     ax.clear()\n",
    "#     ax.barh(dff['name'], dff['value'], color=[colors[group_lk[x]] for x in dff['name']])\n",
    "#     dx = dff['value'].max() / 200\n",
    "    \n",
    "#     for i, (value, name) in enumerate(zip(dff['value'], dff['name'])):\n",
    "#         ax.text(value-dx, i,     name,           size=14, weight=600, ha='right', va='bottom')\n",
    "#         ax.text(value-dx, i-.25, group_lk[name], size=10, color='#444444', ha='right', va='baseline')\n",
    "#         ax.text(value+dx, i,     f'{value:,.0f}',  size=14, ha='left',  va='center')\n",
    "#     ax.text(1, 0.4, current_day, transform=ax.transAxes, color='#777777', size=46, ha='right', weight=800)\n",
    "#     ax.text(0, 1.06, 'Population (thousands)', transform=ax.transAxes, size=12, color='#777777')\n",
    "#     ax.xaxis.set_major_formatter(ticker.StrMethodFormatter('{x:,.0f}'))\n",
    "#     ax.xaxis.set_ticks_position('top')\n",
    "#     ax.tick_params(axis='x', colors='#777777', labelsize=12)\n",
    "#     ax.set_yticks([])\n",
    "#     ax.margins(0, 0.01)\n",
    "#     ax.grid(which='major', axis='x', linestyle='-')\n",
    "#     ax.set_axisbelow(True)\n",
    "    \n",
    "#     ax.text(0, 1.15, 'Coronavirus',\n",
    "#             transform=ax.transAxes, size=24, weight=600, ha='left', va='top')\n",
    "# #     ax.text(1, 0, 'by @pratapvardhan; credit @jburnmurdoch', transform=ax.transAxes, color='#777777', ha='right',\n",
    "# #             bbox=dict(facecolor='white', alpha=0.8, edgecolor='white'))\n",
    "#     plt.box(False)"
   ]
  },
  {
   "cell_type": "code",
   "execution_count": 42,
   "id": "sexual-wages",
   "metadata": {
    "execution": {
     "iopub.execute_input": "2022-07-14T00:47:17.640214Z",
     "iopub.status.busy": "2022-07-14T00:47:17.639530Z",
     "iopub.status.idle": "2022-07-14T00:47:17.642117Z",
     "shell.execute_reply": "2022-07-14T00:47:17.641562Z"
    },
    "papermill": {
     "duration": 0.037087,
     "end_time": "2022-07-14T00:47:17.642237",
     "exception": false,
     "start_time": "2022-07-14T00:47:17.605150",
     "status": "completed"
    },
    "tags": []
   },
   "outputs": [],
   "source": [
    "# #hide_input\n",
    "# fig, ax = plt.subplots(figsize=(15, 8))\n",
    "# animator = animation.FuncAnimation(fig, draw_barchart, frames=range(g.day.values.min(), g.day.values.max()))\n",
    "# HTML(animator.to_jshtml())\n",
    "# # or use animator.to_html5_video() or animator.save() "
   ]
  },
  {
   "cell_type": "code",
   "execution_count": null,
   "id": "australian-container",
   "metadata": {
    "papermill": {
     "duration": 0.030249,
     "end_time": "2022-07-14T00:47:17.703291",
     "exception": false,
     "start_time": "2022-07-14T00:47:17.673042",
     "status": "completed"
    },
    "tags": []
   },
   "outputs": [],
   "source": []
  },
  {
   "cell_type": "code",
   "execution_count": null,
   "id": "mediterranean-pontiac",
   "metadata": {
    "papermill": {
     "duration": 0.030155,
     "end_time": "2022-07-14T00:47:17.763829",
     "exception": false,
     "start_time": "2022-07-14T00:47:17.733674",
     "status": "completed"
    },
    "tags": []
   },
   "outputs": [],
   "source": []
  },
  {
   "cell_type": "code",
   "execution_count": null,
   "id": "aging-legislature",
   "metadata": {
    "papermill": {
     "duration": 0.03027,
     "end_time": "2022-07-14T00:47:17.824594",
     "exception": false,
     "start_time": "2022-07-14T00:47:17.794324",
     "status": "completed"
    },
    "tags": []
   },
   "outputs": [],
   "source": []
  }
 ],
 "metadata": {
  "kernelspec": {
   "display_name": "Python 3",
   "language": "python",
   "name": "python3"
  },
  "language_info": {
   "codemirror_mode": {
    "name": "ipython",
    "version": 3
   },
   "file_extension": ".py",
   "mimetype": "text/x-python",
   "name": "python",
   "nbconvert_exporter": "python",
   "pygments_lexer": "ipython3",
   "version": "3.6.15"
  },
  "papermill": {
   "duration": 6.142851,
   "end_time": "2022-07-14T00:47:18.173126",
   "environment_variables": {},
   "exception": null,
   "input_path": "2020-03-21-covid19exp.ipynb",
   "output_path": "2020-03-21-covid19exp.ipynb",
   "parameters": {},
   "start_time": "2022-07-14T00:47:12.030275",
   "version": "2.0.0"
  }
 },
 "nbformat": 4,
 "nbformat_minor": 5
}