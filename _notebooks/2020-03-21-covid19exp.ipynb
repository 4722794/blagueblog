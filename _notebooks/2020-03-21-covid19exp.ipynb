{
 "cells": [
  {
   "cell_type": "markdown",
   "id": "muslim-click",
   "metadata": {
    "papermill": {
     "duration": 0.045439,
     "end_time": "2021-04-02T12:04:00.266974",
     "exception": false,
     "start_time": "2021-04-02T12:04:00.221535",
     "status": "completed"
    },
    "tags": []
   },
   "source": [
    "# COVID-19 Case Race\n",
    "> A race chart to see rising cases around the world\n",
    "\n",
    "- author: Hargun Oberoi\n",
    "- image: images/covid-overview.png\n",
    "- hide: false\n",
    "- badges: false"
   ]
  },
  {
   "cell_type": "code",
   "execution_count": 1,
   "id": "proof-material",
   "metadata": {
    "execution": {
     "iopub.execute_input": "2021-04-02T12:04:00.355658Z",
     "iopub.status.busy": "2021-04-02T12:04:00.354842Z",
     "iopub.status.idle": "2021-04-02T12:04:00.723814Z",
     "shell.execute_reply": "2021-04-02T12:04:00.724341Z"
    },
    "papermill": {
     "duration": 0.417577,
     "end_time": "2021-04-02T12:04:00.724546",
     "exception": false,
     "start_time": "2021-04-02T12:04:00.306969",
     "status": "completed"
    },
    "tags": []
   },
   "outputs": [],
   "source": [
    "#hide\n",
    "import numpy as np\n",
    "import pandas as pd\n",
    "from jinja2 import Template\n",
    "from IPython.display import HTML"
   ]
  },
  {
   "cell_type": "code",
   "execution_count": 2,
   "id": "developed-terminology",
   "metadata": {
    "execution": {
     "iopub.execute_input": "2021-04-02T12:04:00.809430Z",
     "iopub.status.busy": "2021-04-02T12:04:00.808744Z",
     "iopub.status.idle": "2021-04-02T12:04:00.810715Z",
     "shell.execute_reply": "2021-04-02T12:04:00.811264Z"
    },
    "papermill": {
     "duration": 0.047253,
     "end_time": "2021-04-02T12:04:00.811422",
     "exception": false,
     "start_time": "2021-04-02T12:04:00.764169",
     "status": "completed"
    },
    "tags": []
   },
   "outputs": [],
   "source": [
    "#hide\n",
    "\n",
    "# FETCH\n",
    "base_url = 'https://raw.githubusercontent.com/pratapvardhan/notebooks/master/covid19/'\n",
    "paths = {\n",
    "    'mapping': base_url + 'mapping_countries.csv',\n",
    "    'overview': base_url + 'overview.tpl'\n",
    "}"
   ]
  },
  {
   "cell_type": "code",
   "execution_count": 3,
   "id": "dynamic-saver",
   "metadata": {
    "execution": {
     "iopub.execute_input": "2021-04-02T12:04:00.902899Z",
     "iopub.status.busy": "2021-04-02T12:04:00.902169Z",
     "iopub.status.idle": "2021-04-02T12:04:00.905568Z",
     "shell.execute_reply": "2021-04-02T12:04:00.904954Z"
    },
    "papermill": {
     "duration": 0.054231,
     "end_time": "2021-04-02T12:04:00.905712",
     "exception": false,
     "start_time": "2021-04-02T12:04:00.851481",
     "status": "completed"
    },
    "tags": []
   },
   "outputs": [
    {
     "data": {
      "text/plain": [
       "'https://raw.githubusercontent.com/pratapvardhan/notebooks/master/covid19/mapping_countries.csv'"
      ]
     },
     "execution_count": 3,
     "metadata": {},
     "output_type": "execute_result"
    }
   ],
   "source": [
    "#hide\n",
    "paths['mapping']"
   ]
  },
  {
   "cell_type": "code",
   "execution_count": 4,
   "id": "urban-software",
   "metadata": {
    "execution": {
     "iopub.execute_input": "2021-04-02T12:04:00.991562Z",
     "iopub.status.busy": "2021-04-02T12:04:00.990875Z",
     "iopub.status.idle": "2021-04-02T12:04:00.992968Z",
     "shell.execute_reply": "2021-04-02T12:04:00.993599Z"
    },
    "papermill": {
     "duration": 0.048265,
     "end_time": "2021-04-02T12:04:00.993764",
     "exception": false,
     "start_time": "2021-04-02T12:04:00.945499",
     "status": "completed"
    },
    "tags": []
   },
   "outputs": [],
   "source": [
    "#hide\n",
    "def get_mappings(url):\n",
    "    df = pd.read_csv(url)\n",
    "    return {\n",
    "        'df': df,\n",
    "        'replace.country': dict(df.dropna(subset=['Name']).set_index('Country')['Name']),\n",
    "        'map.continent': dict(df.set_index('Name')['Continent'])\n",
    "    }"
   ]
  },
  {
   "cell_type": "code",
   "execution_count": 5,
   "id": "intimate-machinery",
   "metadata": {
    "execution": {
     "iopub.execute_input": "2021-04-02T12:04:01.080124Z",
     "iopub.status.busy": "2021-04-02T12:04:01.079428Z",
     "iopub.status.idle": "2021-04-02T12:04:01.119892Z",
     "shell.execute_reply": "2021-04-02T12:04:01.119256Z"
    },
    "papermill": {
     "duration": 0.086418,
     "end_time": "2021-04-02T12:04:01.120029",
     "exception": false,
     "start_time": "2021-04-02T12:04:01.033611",
     "status": "completed"
    },
    "tags": []
   },
   "outputs": [],
   "source": [
    "#hide\n",
    "mapping = get_mappings(paths['mapping'])"
   ]
  },
  {
   "cell_type": "code",
   "execution_count": 6,
   "id": "certified-tactics",
   "metadata": {
    "execution": {
     "iopub.execute_input": "2021-04-02T12:04:01.205895Z",
     "iopub.status.busy": "2021-04-02T12:04:01.205179Z",
     "iopub.status.idle": "2021-04-02T12:04:01.207109Z",
     "shell.execute_reply": "2021-04-02T12:04:01.207772Z"
    },
    "papermill": {
     "duration": 0.048093,
     "end_time": "2021-04-02T12:04:01.207939",
     "exception": false,
     "start_time": "2021-04-02T12:04:01.159846",
     "status": "completed"
    },
    "tags": []
   },
   "outputs": [],
   "source": [
    "#hide\n",
    "def get_template(path):\n",
    "    from urllib.parse import urlparse\n",
    "    if bool(urlparse(path).netloc):\n",
    "        from urllib.request import urlopen\n",
    "        return urlopen(path).read().decode('utf8')\n",
    "    return open(path).read()"
   ]
  },
  {
   "cell_type": "code",
   "execution_count": 7,
   "id": "realistic-blast",
   "metadata": {
    "execution": {
     "iopub.execute_input": "2021-04-02T12:04:01.303073Z",
     "iopub.status.busy": "2021-04-02T12:04:01.302369Z",
     "iopub.status.idle": "2021-04-02T12:04:01.305257Z",
     "shell.execute_reply": "2021-04-02T12:04:01.304514Z"
    },
    "papermill": {
     "duration": 0.057202,
     "end_time": "2021-04-02T12:04:01.305398",
     "exception": false,
     "start_time": "2021-04-02T12:04:01.248196",
     "status": "completed"
    },
    "tags": []
   },
   "outputs": [],
   "source": [
    "#hide\n",
    "def get_frame(name):\n",
    "    url = (\n",
    "        'https://raw.githubusercontent.com/CSSEGISandData/COVID-19/master/csse_covid_19_data/'\n",
    "        f'csse_covid_19_time_series/time_series_covid19_{name}_global.csv')\n",
    "    df = pd.read_csv(url)\n",
    "    # rename countries\n",
    "    df['Country/Region'] = df['Country/Region'].replace(mapping['replace.country'])\n",
    "    return df"
   ]
  },
  {
   "cell_type": "code",
   "execution_count": 8,
   "id": "affiliated-characterization",
   "metadata": {
    "execution": {
     "iopub.execute_input": "2021-04-02T12:04:01.389773Z",
     "iopub.status.busy": "2021-04-02T12:04:01.389112Z",
     "iopub.status.idle": "2021-04-02T12:04:01.394803Z",
     "shell.execute_reply": "2021-04-02T12:04:01.395509Z"
    },
    "papermill": {
     "duration": 0.050541,
     "end_time": "2021-04-02T12:04:01.395662",
     "exception": false,
     "start_time": "2021-04-02T12:04:01.345121",
     "status": "completed"
    },
    "tags": []
   },
   "outputs": [],
   "source": [
    "#hide\n",
    "def get_dates(df):\n",
    "    dt_cols = df.columns[~df.columns.isin(['Province/State', 'Country/Region', 'Lat', 'Long'])]\n",
    "    LAST_DATE_I = -1\n",
    "    # sometimes last column may be empty, then go backwards\n",
    "    for i in range(-1, -len(dt_cols), -1):\n",
    "        if not df[dt_cols[i]].fillna(0).eq(0).all():\n",
    "            LAST_DATE_I = i\n",
    "            break\n",
    "    return LAST_DATE_I, dt_cols"
   ]
  },
  {
   "cell_type": "code",
   "execution_count": 9,
   "id": "recent-optimization",
   "metadata": {
    "execution": {
     "iopub.execute_input": "2021-04-02T12:04:01.481742Z",
     "iopub.status.busy": "2021-04-02T12:04:01.480874Z",
     "iopub.status.idle": "2021-04-02T12:04:01.862263Z",
     "shell.execute_reply": "2021-04-02T12:04:01.861134Z"
    },
    "papermill": {
     "duration": 0.426657,
     "end_time": "2021-04-02T12:04:01.862425",
     "exception": false,
     "start_time": "2021-04-02T12:04:01.435768",
     "status": "completed"
    },
    "tags": []
   },
   "outputs": [],
   "source": [
    "#hide\n",
    "COL_REGION = 'Country/Region'\n",
    "# Confirmed, Recovered, Deaths\n",
    "df = get_frame('confirmed')\n",
    "# dft_: timeseries, dfc_: today country agg\n",
    "dft_cases = df\n",
    "dft_deaths = get_frame('deaths')\n",
    "dft_recovered = get_frame('recovered')\n",
    "LAST_DATE_I, dt_cols = get_dates(df)"
   ]
  },
  {
   "cell_type": "code",
   "execution_count": 10,
   "id": "absolute-copper",
   "metadata": {
    "execution": {
     "iopub.execute_input": "2021-04-02T12:04:01.953313Z",
     "iopub.status.busy": "2021-04-02T12:04:01.952647Z",
     "iopub.status.idle": "2021-04-02T12:04:01.955032Z",
     "shell.execute_reply": "2021-04-02T12:04:01.954370Z"
    },
    "papermill": {
     "duration": 0.05123,
     "end_time": "2021-04-02T12:04:01.955203",
     "exception": false,
     "start_time": "2021-04-02T12:04:01.903973",
     "status": "completed"
    },
    "tags": []
   },
   "outputs": [],
   "source": [
    "#hide\n",
    "LAST_DATE_I, dt_cols = get_dates(df)\n",
    "dt_today =dt_cols[LAST_DATE_I]\n",
    "# dt_5day = dt_cols[LAST_DATE_I - 5]\n",
    "dt_yday = dt_cols[LAST_DATE_I - 1]"
   ]
  },
  {
   "cell_type": "code",
   "execution_count": 11,
   "id": "restricted-sheriff",
   "metadata": {
    "execution": {
     "iopub.execute_input": "2021-04-02T12:04:02.043299Z",
     "iopub.status.busy": "2021-04-02T12:04:02.042562Z",
     "iopub.status.idle": "2021-04-02T12:04:02.052266Z",
     "shell.execute_reply": "2021-04-02T12:04:02.051691Z"
    },
    "papermill": {
     "duration": 0.056557,
     "end_time": "2021-04-02T12:04:02.052405",
     "exception": false,
     "start_time": "2021-04-02T12:04:01.995848",
     "status": "completed"
    },
    "tags": []
   },
   "outputs": [],
   "source": [
    "#hide\n",
    "dfc_cases = dft_cases.groupby(COL_REGION)[dt_today].sum()\n",
    "dfc_deaths = dft_deaths.groupby(COL_REGION)[dt_today].sum()\n",
    "# dfp_cases = dft_cases.groupby(COL_REGION)[dt_5day].sum()\n",
    "# dfp_deaths = dft_deaths.groupby(COL_REGION)[dt_5day].sum()\n",
    "dfp_cases = dft_cases.groupby(COL_REGION)[dt_yday].sum()\n",
    "dfp_deaths = dft_deaths.groupby(COL_REGION)[dt_yday].sum()"
   ]
  },
  {
   "cell_type": "code",
   "execution_count": 12,
   "id": "deluxe-hepatitis",
   "metadata": {
    "execution": {
     "iopub.execute_input": "2021-04-02T12:04:02.140895Z",
     "iopub.status.busy": "2021-04-02T12:04:02.140235Z",
     "iopub.status.idle": "2021-04-02T12:04:02.146612Z",
     "shell.execute_reply": "2021-04-02T12:04:02.146053Z"
    },
    "papermill": {
     "duration": 0.053691,
     "end_time": "2021-04-02T12:04:02.146748",
     "exception": false,
     "start_time": "2021-04-02T12:04:02.093057",
     "status": "completed"
    },
    "tags": []
   },
   "outputs": [],
   "source": [
    "#hide\n",
    "df_table = (pd.DataFrame(dict(Cases = dfc_cases, Deaths = dfc_deaths, PCases = dfp_cases, PDeaths = dfp_deaths))\n",
    "            .sort_values(by = ['Cases','Deaths'], ascending = [False, False])\n",
    "            .reset_index())"
   ]
  },
  {
   "cell_type": "code",
   "execution_count": 13,
   "id": "educational-chancellor",
   "metadata": {
    "execution": {
     "iopub.execute_input": "2021-04-02T12:04:02.252126Z",
     "iopub.status.busy": "2021-04-02T12:04:02.251439Z",
     "iopub.status.idle": "2021-04-02T12:04:02.260383Z",
     "shell.execute_reply": "2021-04-02T12:04:02.260926Z"
    },
    "papermill": {
     "duration": 0.073569,
     "end_time": "2021-04-02T12:04:02.261099",
     "exception": false,
     "start_time": "2021-04-02T12:04:02.187530",
     "status": "completed"
    },
    "tags": []
   },
   "outputs": [
    {
     "data": {
      "text/html": [
       "<div>\n",
       "<style scoped>\n",
       "    .dataframe tbody tr th:only-of-type {\n",
       "        vertical-align: middle;\n",
       "    }\n",
       "\n",
       "    .dataframe tbody tr th {\n",
       "        vertical-align: top;\n",
       "    }\n",
       "\n",
       "    .dataframe thead th {\n",
       "        text-align: right;\n",
       "    }\n",
       "</style>\n",
       "<table border=\"1\" class=\"dataframe\">\n",
       "  <thead>\n",
       "    <tr style=\"text-align: right;\">\n",
       "      <th></th>\n",
       "      <th>Country/Region</th>\n",
       "      <th>Cases</th>\n",
       "      <th>Deaths</th>\n",
       "      <th>PCases</th>\n",
       "      <th>PDeaths</th>\n",
       "      <th>Cases (+)</th>\n",
       "      <th>Deaths (+)</th>\n",
       "      <th>Fatality Rate</th>\n",
       "      <th>Continent</th>\n",
       "    </tr>\n",
       "  </thead>\n",
       "  <tbody>\n",
       "    <tr>\n",
       "      <th>0</th>\n",
       "      <td>US</td>\n",
       "      <td>30539759</td>\n",
       "      <td>553136</td>\n",
       "      <td>30460730</td>\n",
       "      <td>552072</td>\n",
       "      <td>79029</td>\n",
       "      <td>1064</td>\n",
       "      <td>1.81</td>\n",
       "      <td>North America</td>\n",
       "    </tr>\n",
       "    <tr>\n",
       "      <th>1</th>\n",
       "      <td>Brazil</td>\n",
       "      <td>12839844</td>\n",
       "      <td>325284</td>\n",
       "      <td>12748747</td>\n",
       "      <td>321515</td>\n",
       "      <td>91097</td>\n",
       "      <td>3769</td>\n",
       "      <td>2.53</td>\n",
       "      <td>South America</td>\n",
       "    </tr>\n",
       "    <tr>\n",
       "      <th>2</th>\n",
       "      <td>India</td>\n",
       "      <td>12303131</td>\n",
       "      <td>163396</td>\n",
       "      <td>12221665</td>\n",
       "      <td>162927</td>\n",
       "      <td>81466</td>\n",
       "      <td>469</td>\n",
       "      <td>1.33</td>\n",
       "      <td>Asia</td>\n",
       "    </tr>\n",
       "    <tr>\n",
       "      <th>3</th>\n",
       "      <td>France</td>\n",
       "      <td>4755779</td>\n",
       "      <td>96106</td>\n",
       "      <td>4705068</td>\n",
       "      <td>95798</td>\n",
       "      <td>50711</td>\n",
       "      <td>308</td>\n",
       "      <td>2.02</td>\n",
       "      <td>Europe</td>\n",
       "    </tr>\n",
       "    <tr>\n",
       "      <th>4</th>\n",
       "      <td>Russia</td>\n",
       "      <td>4503291</td>\n",
       "      <td>97594</td>\n",
       "      <td>4494234</td>\n",
       "      <td>97219</td>\n",
       "      <td>9057</td>\n",
       "      <td>375</td>\n",
       "      <td>2.17</td>\n",
       "      <td>Europe</td>\n",
       "    </tr>\n",
       "  </tbody>\n",
       "</table>\n",
       "</div>"
      ],
      "text/plain": [
       "  Country/Region     Cases  Deaths    PCases  PDeaths  Cases (+)  Deaths (+)  \\\n",
       "0             US  30539759  553136  30460730   552072      79029        1064   \n",
       "1         Brazil  12839844  325284  12748747   321515      91097        3769   \n",
       "2          India  12303131  163396  12221665   162927      81466         469   \n",
       "3         France   4755779   96106   4705068    95798      50711         308   \n",
       "4         Russia   4503291   97594   4494234    97219       9057         375   \n",
       "\n",
       "   Fatality Rate      Continent  \n",
       "0           1.81  North America  \n",
       "1           2.53  South America  \n",
       "2           1.33           Asia  \n",
       "3           2.02         Europe  \n",
       "4           2.17         Europe  "
      ]
     },
     "execution_count": 13,
     "metadata": {},
     "output_type": "execute_result"
    }
   ],
   "source": [
    "#hide\n",
    "for c in 'Cases, Deaths'.split(', '):\n",
    "    df_table[f'{c} (+)'] = (df_table[c] - df_table[f'P{c}']).clip(0)\n",
    "    #Clip ça veut dire, les chiffres negatif sont interdit\n",
    "df_table['Fatality Rate'] = (100* df_table['Deaths']/ df_table['Cases']).round(2)\n",
    "df_table['Continent'] = df_table['Country/Region'].map(mapping['map.continent'])\n",
    "df_table.head(5)"
   ]
  },
  {
   "cell_type": "code",
   "execution_count": 14,
   "id": "aboriginal-bulgaria",
   "metadata": {
    "execution": {
     "iopub.execute_input": "2021-04-02T12:04:02.351488Z",
     "iopub.status.busy": "2021-04-02T12:04:02.350752Z",
     "iopub.status.idle": "2021-04-02T12:04:02.355016Z",
     "shell.execute_reply": "2021-04-02T12:04:02.354361Z"
    },
    "papermill": {
     "duration": 0.05475,
     "end_time": "2021-04-02T12:04:02.355266",
     "exception": false,
     "start_time": "2021-04-02T12:04:02.300516",
     "status": "completed"
    },
    "tags": []
   },
   "outputs": [],
   "source": [
    "#hide\n",
    "#delete problematic countries from table\n",
    "df_table = df_table[~df_table['Country/Region'].isin(['Cape Verde', 'Cruise Ship', 'Kosovo'])]"
   ]
  },
  {
   "cell_type": "code",
   "execution_count": 15,
   "id": "fantastic-effect",
   "metadata": {
    "execution": {
     "iopub.execute_input": "2021-04-02T12:04:02.449488Z",
     "iopub.status.busy": "2021-04-02T12:04:02.448771Z",
     "iopub.status.idle": "2021-04-02T12:04:02.470421Z",
     "shell.execute_reply": "2021-04-02T12:04:02.469855Z"
    },
    "papermill": {
     "duration": 0.073886,
     "end_time": "2021-04-02T12:04:02.470567",
     "exception": false,
     "start_time": "2021-04-02T12:04:02.396681",
     "status": "completed"
    },
    "tags": []
   },
   "outputs": [
    {
     "data": {
      "text/html": [
       "<div>\n",
       "<style scoped>\n",
       "    .dataframe tbody tr th:only-of-type {\n",
       "        vertical-align: middle;\n",
       "    }\n",
       "\n",
       "    .dataframe tbody tr th {\n",
       "        vertical-align: top;\n",
       "    }\n",
       "\n",
       "    .dataframe thead th {\n",
       "        text-align: right;\n",
       "    }\n",
       "</style>\n",
       "<table border=\"1\" class=\"dataframe\">\n",
       "  <thead>\n",
       "    <tr style=\"text-align: right;\">\n",
       "      <th></th>\n",
       "      <th>Country/Region</th>\n",
       "      <th>Cases</th>\n",
       "      <th>Deaths</th>\n",
       "      <th>PCases</th>\n",
       "      <th>PDeaths</th>\n",
       "      <th>Cases (+)</th>\n",
       "      <th>Deaths (+)</th>\n",
       "      <th>Fatality Rate</th>\n",
       "      <th>Continent</th>\n",
       "    </tr>\n",
       "  </thead>\n",
       "  <tbody>\n",
       "    <tr>\n",
       "      <th>0</th>\n",
       "      <td>US</td>\n",
       "      <td>30539759</td>\n",
       "      <td>553136</td>\n",
       "      <td>30460730</td>\n",
       "      <td>552072</td>\n",
       "      <td>79029</td>\n",
       "      <td>1064</td>\n",
       "      <td>1.8</td>\n",
       "      <td>North America</td>\n",
       "    </tr>\n",
       "    <tr>\n",
       "      <th>1</th>\n",
       "      <td>Brazil</td>\n",
       "      <td>12839844</td>\n",
       "      <td>325284</td>\n",
       "      <td>12748747</td>\n",
       "      <td>321515</td>\n",
       "      <td>91097</td>\n",
       "      <td>3769</td>\n",
       "      <td>2.5</td>\n",
       "      <td>South America</td>\n",
       "    </tr>\n",
       "    <tr>\n",
       "      <th>2</th>\n",
       "      <td>India</td>\n",
       "      <td>12303131</td>\n",
       "      <td>163396</td>\n",
       "      <td>12221665</td>\n",
       "      <td>162927</td>\n",
       "      <td>81466</td>\n",
       "      <td>469</td>\n",
       "      <td>1.3</td>\n",
       "      <td>Asia</td>\n",
       "    </tr>\n",
       "    <tr>\n",
       "      <th>3</th>\n",
       "      <td>France</td>\n",
       "      <td>4755779</td>\n",
       "      <td>96106</td>\n",
       "      <td>4705068</td>\n",
       "      <td>95798</td>\n",
       "      <td>50711</td>\n",
       "      <td>308</td>\n",
       "      <td>2.0</td>\n",
       "      <td>Europe</td>\n",
       "    </tr>\n",
       "    <tr>\n",
       "      <th>4</th>\n",
       "      <td>Russia</td>\n",
       "      <td>4503291</td>\n",
       "      <td>97594</td>\n",
       "      <td>4494234</td>\n",
       "      <td>97219</td>\n",
       "      <td>9057</td>\n",
       "      <td>375</td>\n",
       "      <td>2.2</td>\n",
       "      <td>Europe</td>\n",
       "    </tr>\n",
       "  </tbody>\n",
       "</table>\n",
       "</div>"
      ],
      "text/plain": [
       "  Country/Region     Cases  Deaths    PCases  PDeaths  Cases (+)  Deaths (+)  \\\n",
       "0             US  30539759  553136  30460730   552072      79029        1064   \n",
       "1         Brazil  12839844  325284  12748747   321515      91097        3769   \n",
       "2          India  12303131  163396  12221665   162927      81466         469   \n",
       "3         France   4755779   96106   4705068    95798      50711         308   \n",
       "4         Russia   4503291   97594   4494234    97219       9057         375   \n",
       "\n",
       "   Fatality Rate      Continent  \n",
       "0            1.8  North America  \n",
       "1            2.5  South America  \n",
       "2            1.3           Asia  \n",
       "3            2.0         Europe  \n",
       "4            2.2         Europe  "
      ]
     },
     "execution_count": 15,
     "metadata": {},
     "output_type": "execute_result"
    }
   ],
   "source": [
    "#hide\n",
    "df_table = (pd.DataFrame(dict(Cases=dfc_cases, Deaths=dfc_deaths, PCases=dfp_cases, PDeaths=dfp_deaths))\n",
    "             .sort_values(by=['Cases', 'Deaths'], ascending=[False, False])\n",
    "             .reset_index())\n",
    "df_table.rename(columns={'index': 'Country/Region'}, inplace=True)\n",
    "for c in 'Cases, Deaths'.split(', '):\n",
    "    df_table[f'{c} (+)'] = (df_table[c] - df_table[f'P{c}']).clip(0)  # DATA BUG\n",
    "df_table['Fatality Rate'] = (100 * df_table['Deaths'] / df_table['Cases']).round(1)\n",
    "df_table['Continent'] = df_table['Country/Region'].map(mapping['map.continent'])\n",
    "df_table.head(5)"
   ]
  },
  {
   "cell_type": "code",
   "execution_count": 16,
   "id": "fewer-occasion",
   "metadata": {
    "execution": {
     "iopub.execute_input": "2021-04-02T12:04:02.564965Z",
     "iopub.status.busy": "2021-04-02T12:04:02.564301Z",
     "iopub.status.idle": "2021-04-02T12:04:02.566483Z",
     "shell.execute_reply": "2021-04-02T12:04:02.566995Z"
    },
    "papermill": {
     "duration": 0.055228,
     "end_time": "2021-04-02T12:04:02.567186",
     "exception": false,
     "start_time": "2021-04-02T12:04:02.511958",
     "status": "completed"
    },
    "tags": []
   },
   "outputs": [],
   "source": [
    "#hide\n",
    "#delete problematic countries from table\n",
    "df_table = df_table[~df_table['Country/Region'].isin(['Cape Verde', 'Cruise Ship', 'Kosovo'])]"
   ]
  },
  {
   "cell_type": "code",
   "execution_count": 17,
   "id": "related-center",
   "metadata": {
    "execution": {
     "iopub.execute_input": "2021-04-02T12:04:02.672835Z",
     "iopub.status.busy": "2021-04-02T12:04:02.672144Z",
     "iopub.status.idle": "2021-04-02T12:04:02.674156Z",
     "shell.execute_reply": "2021-04-02T12:04:02.674673Z"
    },
    "papermill": {
     "duration": 0.06637,
     "end_time": "2021-04-02T12:04:02.674855",
     "exception": false,
     "start_time": "2021-04-02T12:04:02.608485",
     "status": "completed"
    },
    "tags": []
   },
   "outputs": [],
   "source": [
    "#hide\n",
    "metrics = [df_table.columns[index] for index in [1,2,5,6]]\n",
    "# s_china = df_table[df_table['Country/Region'].eq('China')][metrics].sum().add_prefix('China ')\n",
    "s_us = df_table[df_table['Country/Region'].eq('US')][metrics].sum().add_prefix('US ')\n",
    "s_eu = df_table[df_table['Continent'].eq('Europe')][metrics].sum().add_prefix('EU ')\n",
    "s_ind = df_table[df_table['Country/Region'].eq('India')][metrics].sum().add_prefix('India ')\n",
    "summary = {'updated': pd.to_datetime(dt_today), 'since': pd.to_datetime(dt_yday)}\n",
    "summary = {'updated': pd.to_datetime(dt_today), 'since': pd.to_datetime(dt_yday)}\n",
    "summary = {**summary, **df_table[metrics].sum(), **s_ind, **s_us, **s_eu}"
   ]
  },
  {
   "cell_type": "code",
   "execution_count": 18,
   "id": "engaging-syndrome",
   "metadata": {
    "execution": {
     "iopub.execute_input": "2021-04-02T12:04:02.764248Z",
     "iopub.status.busy": "2021-04-02T12:04:02.763585Z",
     "iopub.status.idle": "2021-04-02T12:04:02.776280Z",
     "shell.execute_reply": "2021-04-02T12:04:02.775681Z"
    },
    "papermill": {
     "duration": 0.059723,
     "end_time": "2021-04-02T12:04:02.776421",
     "exception": false,
     "start_time": "2021-04-02T12:04:02.716698",
     "status": "completed"
    },
    "tags": []
   },
   "outputs": [],
   "source": [
    "#hide\n",
    "dft_ct_new_cases = dft_cases.groupby(COL_REGION)[dt_cols].sum().diff(axis=1).fillna(0).astype(int)"
   ]
  },
  {
   "cell_type": "code",
   "execution_count": 19,
   "id": "neutral-assignment",
   "metadata": {
    "execution": {
     "iopub.execute_input": "2021-04-02T12:04:02.868064Z",
     "iopub.status.busy": "2021-04-02T12:04:02.867228Z",
     "iopub.status.idle": "2021-04-02T12:04:02.869084Z",
     "shell.execute_reply": "2021-04-02T12:04:02.869857Z"
    },
    "papermill": {
     "duration": 0.051326,
     "end_time": "2021-04-02T12:04:02.870053",
     "exception": false,
     "start_time": "2021-04-02T12:04:02.818727",
     "status": "completed"
    },
    "tags": []
   },
   "outputs": [],
   "source": [
    "#hide\n",
    "everydaycases = dft_ct_new_cases.cumsum(axis=1)"
   ]
  },
  {
   "cell_type": "code",
   "execution_count": 20,
   "id": "parliamentary-calgary",
   "metadata": {
    "execution": {
     "iopub.execute_input": "2021-04-02T12:04:02.963921Z",
     "iopub.status.busy": "2021-04-02T12:04:02.963247Z",
     "iopub.status.idle": "2021-04-02T12:04:04.906452Z",
     "shell.execute_reply": "2021-04-02T12:04:04.905897Z"
    },
    "papermill": {
     "duration": 1.990189,
     "end_time": "2021-04-02T12:04:04.906597",
     "exception": false,
     "start_time": "2021-04-02T12:04:02.916408",
     "status": "completed"
    },
    "tags": []
   },
   "outputs": [],
   "source": [
    "#hide\n",
    "import pandas as pd\n",
    "import matplotlib.pyplot as plt\n",
    "import matplotlib.ticker as ticker\n",
    "import matplotlib.animation as animation\n",
    "from IPython.display import HTML"
   ]
  },
  {
   "cell_type": "code",
   "execution_count": 21,
   "id": "lasting-extraction",
   "metadata": {
    "execution": {
     "iopub.execute_input": "2021-04-02T12:04:04.994188Z",
     "iopub.status.busy": "2021-04-02T12:04:04.993430Z",
     "iopub.status.idle": "2021-04-02T12:04:04.999020Z",
     "shell.execute_reply": "2021-04-02T12:04:04.999605Z"
    },
    "papermill": {
     "duration": 0.052427,
     "end_time": "2021-04-02T12:04:04.999741",
     "exception": false,
     "start_time": "2021-04-02T12:04:04.947314",
     "status": "completed"
    },
    "tags": []
   },
   "outputs": [],
   "source": [
    "#hide\n",
    "t = everydaycases.stack()"
   ]
  },
  {
   "cell_type": "code",
   "execution_count": 22,
   "id": "premier-sleeve",
   "metadata": {
    "execution": {
     "iopub.execute_input": "2021-04-02T12:04:05.085093Z",
     "iopub.status.busy": "2021-04-02T12:04:05.084352Z",
     "iopub.status.idle": "2021-04-02T12:04:05.093090Z",
     "shell.execute_reply": "2021-04-02T12:04:05.092578Z"
    },
    "papermill": {
     "duration": 0.052224,
     "end_time": "2021-04-02T12:04:05.093217",
     "exception": false,
     "start_time": "2021-04-02T12:04:05.040993",
     "status": "completed"
    },
    "tags": []
   },
   "outputs": [],
   "source": [
    "#hide\n",
    "g = t.reset_index(['Country/Region'])"
   ]
  },
  {
   "cell_type": "code",
   "execution_count": 23,
   "id": "distributed-pittsburgh",
   "metadata": {
    "execution": {
     "iopub.execute_input": "2021-04-02T12:04:05.178281Z",
     "iopub.status.busy": "2021-04-02T12:04:05.177557Z",
     "iopub.status.idle": "2021-04-02T12:04:05.180374Z",
     "shell.execute_reply": "2021-04-02T12:04:05.179690Z"
    },
    "papermill": {
     "duration": 0.04662,
     "end_time": "2021-04-02T12:04:05.180550",
     "exception": false,
     "start_time": "2021-04-02T12:04:05.133930",
     "status": "completed"
    },
    "tags": []
   },
   "outputs": [],
   "source": [
    "#hide\n",
    "g.index.name = 'date'"
   ]
  },
  {
   "cell_type": "code",
   "execution_count": 24,
   "id": "naked-donor",
   "metadata": {
    "execution": {
     "iopub.execute_input": "2021-04-02T12:04:05.263727Z",
     "iopub.status.busy": "2021-04-02T12:04:05.263039Z",
     "iopub.status.idle": "2021-04-02T12:04:05.265703Z",
     "shell.execute_reply": "2021-04-02T12:04:05.265183Z"
    },
    "papermill": {
     "duration": 0.046181,
     "end_time": "2021-04-02T12:04:05.265824",
     "exception": false,
     "start_time": "2021-04-02T12:04:05.219643",
     "status": "completed"
    },
    "tags": []
   },
   "outputs": [],
   "source": [
    "# #hide\n",
    "# g = g.reset_index(['date'])"
   ]
  },
  {
   "cell_type": "code",
   "execution_count": 25,
   "id": "incomplete-mustang",
   "metadata": {
    "execution": {
     "iopub.execute_input": "2021-04-02T12:04:05.352261Z",
     "iopub.status.busy": "2021-04-02T12:04:05.351333Z",
     "iopub.status.idle": "2021-04-02T12:04:05.355766Z",
     "shell.execute_reply": "2021-04-02T12:04:05.356386Z"
    },
    "papermill": {
     "duration": 0.0501,
     "end_time": "2021-04-02T12:04:05.356552",
     "exception": false,
     "start_time": "2021-04-02T12:04:05.306452",
     "status": "completed"
    },
    "tags": []
   },
   "outputs": [],
   "source": [
    "#hide\n",
    "# g.head()"
   ]
  },
  {
   "cell_type": "code",
   "execution_count": 26,
   "id": "specific-kruger",
   "metadata": {
    "execution": {
     "iopub.execute_input": "2021-04-02T12:04:05.443943Z",
     "iopub.status.busy": "2021-04-02T12:04:05.443272Z",
     "iopub.status.idle": "2021-04-02T12:04:05.447033Z",
     "shell.execute_reply": "2021-04-02T12:04:05.445305Z"
    },
    "papermill": {
     "duration": 0.049657,
     "end_time": "2021-04-02T12:04:05.447306",
     "exception": false,
     "start_time": "2021-04-02T12:04:05.397649",
     "status": "completed"
    },
    "tags": []
   },
   "outputs": [],
   "source": [
    "#hide\n",
    "# g.columns = ['date','country','cases']"
   ]
  },
  {
   "cell_type": "code",
   "execution_count": 27,
   "id": "tender-conversion",
   "metadata": {
    "execution": {
     "iopub.execute_input": "2021-04-02T12:04:05.533452Z",
     "iopub.status.busy": "2021-04-02T12:04:05.532752Z",
     "iopub.status.idle": "2021-04-02T12:04:05.535255Z",
     "shell.execute_reply": "2021-04-02T12:04:05.534590Z"
    },
    "papermill": {
     "duration": 0.047665,
     "end_time": "2021-04-02T12:04:05.535382",
     "exception": false,
     "start_time": "2021-04-02T12:04:05.487717",
     "status": "completed"
    },
    "tags": []
   },
   "outputs": [],
   "source": [
    "#hide\n",
    "# g['continent'] = g.country"
   ]
  },
  {
   "cell_type": "code",
   "execution_count": 28,
   "id": "substantial-wilderness",
   "metadata": {
    "execution": {
     "iopub.execute_input": "2021-04-02T12:04:05.627527Z",
     "iopub.status.busy": "2021-04-02T12:04:05.626865Z",
     "iopub.status.idle": "2021-04-02T12:04:05.628848Z",
     "shell.execute_reply": "2021-04-02T12:04:05.629448Z"
    },
    "papermill": {
     "duration": 0.049274,
     "end_time": "2021-04-02T12:04:05.629642",
     "exception": false,
     "start_time": "2021-04-02T12:04:05.580368",
     "status": "completed"
    },
    "tags": []
   },
   "outputs": [],
   "source": [
    "#hide\n",
    "# cols = list(g.columns.values)"
   ]
  },
  {
   "cell_type": "code",
   "execution_count": 29,
   "id": "solved-farming",
   "metadata": {
    "execution": {
     "iopub.execute_input": "2021-04-02T12:04:05.718520Z",
     "iopub.status.busy": "2021-04-02T12:04:05.717870Z",
     "iopub.status.idle": "2021-04-02T12:04:05.720473Z",
     "shell.execute_reply": "2021-04-02T12:04:05.719873Z"
    },
    "papermill": {
     "duration": 0.047995,
     "end_time": "2021-04-02T12:04:05.720595",
     "exception": false,
     "start_time": "2021-04-02T12:04:05.672600",
     "status": "completed"
    },
    "tags": []
   },
   "outputs": [],
   "source": [
    "#hide\n",
    "# cols.insert(0, cols.pop())"
   ]
  },
  {
   "cell_type": "code",
   "execution_count": 30,
   "id": "executed-adoption",
   "metadata": {
    "execution": {
     "iopub.execute_input": "2021-04-02T12:04:05.811696Z",
     "iopub.status.busy": "2021-04-02T12:04:05.810939Z",
     "iopub.status.idle": "2021-04-02T12:04:05.812985Z",
     "shell.execute_reply": "2021-04-02T12:04:05.813477Z"
    },
    "papermill": {
     "duration": 0.050144,
     "end_time": "2021-04-02T12:04:05.813619",
     "exception": false,
     "start_time": "2021-04-02T12:04:05.763475",
     "status": "completed"
    },
    "tags": []
   },
   "outputs": [],
   "source": [
    "#hide\n",
    "# g = g[cols]"
   ]
  },
  {
   "cell_type": "code",
   "execution_count": 31,
   "id": "subject-dublin",
   "metadata": {
    "execution": {
     "iopub.execute_input": "2021-04-02T12:04:05.901415Z",
     "iopub.status.busy": "2021-04-02T12:04:05.900686Z",
     "iopub.status.idle": "2021-04-02T12:04:05.903966Z",
     "shell.execute_reply": "2021-04-02T12:04:05.903389Z"
    },
    "papermill": {
     "duration": 0.049099,
     "end_time": "2021-04-02T12:04:05.904123",
     "exception": false,
     "start_time": "2021-04-02T12:04:05.855024",
     "status": "completed"
    },
    "tags": []
   },
   "outputs": [],
   "source": [
    "#hide\n",
    "# g['continent'] = g['continent'].map(mapping['map.continent'])"
   ]
  },
  {
   "cell_type": "code",
   "execution_count": 32,
   "id": "freelance-scout",
   "metadata": {
    "execution": {
     "iopub.execute_input": "2021-04-02T12:04:05.997193Z",
     "iopub.status.busy": "2021-04-02T12:04:05.996524Z",
     "iopub.status.idle": "2021-04-02T12:04:05.999899Z",
     "shell.execute_reply": "2021-04-02T12:04:06.000441Z"
    },
    "papermill": {
     "duration": 0.047786,
     "end_time": "2021-04-02T12:04:06.000596",
     "exception": false,
     "start_time": "2021-04-02T12:04:05.952810",
     "status": "completed"
    },
    "tags": []
   },
   "outputs": [],
   "source": [
    "#hide\n",
    "# g.head()"
   ]
  },
  {
   "cell_type": "code",
   "execution_count": 33,
   "id": "limited-engine",
   "metadata": {
    "execution": {
     "iopub.execute_input": "2021-04-02T12:04:06.091731Z",
     "iopub.status.busy": "2021-04-02T12:04:06.091001Z",
     "iopub.status.idle": "2021-04-02T12:04:06.093643Z",
     "shell.execute_reply": "2021-04-02T12:04:06.092888Z"
    },
    "papermill": {
     "duration": 0.051061,
     "end_time": "2021-04-02T12:04:06.093822",
     "exception": false,
     "start_time": "2021-04-02T12:04:06.042761",
     "status": "completed"
    },
    "tags": []
   },
   "outputs": [],
   "source": [
    "# hide\n",
    "# g['date'] = g['date'].astype('datetime64[ns]')"
   ]
  },
  {
   "cell_type": "code",
   "execution_count": 34,
   "id": "sophisticated-supervisor",
   "metadata": {
    "execution": {
     "iopub.execute_input": "2021-04-02T12:04:06.184235Z",
     "iopub.status.busy": "2021-04-02T12:04:06.183572Z",
     "iopub.status.idle": "2021-04-02T12:04:06.185932Z",
     "shell.execute_reply": "2021-04-02T12:04:06.185408Z"
    },
    "papermill": {
     "duration": 0.048579,
     "end_time": "2021-04-02T12:04:06.186054",
     "exception": false,
     "start_time": "2021-04-02T12:04:06.137475",
     "status": "completed"
    },
    "tags": []
   },
   "outputs": [],
   "source": [
    "#hide\n",
    "# g['date'] = g.date.dt.dayofyear"
   ]
  },
  {
   "cell_type": "code",
   "execution_count": 35,
   "id": "inside-dubai",
   "metadata": {
    "execution": {
     "iopub.execute_input": "2021-04-02T12:04:06.274259Z",
     "iopub.status.busy": "2021-04-02T12:04:06.273397Z",
     "iopub.status.idle": "2021-04-02T12:04:06.275877Z",
     "shell.execute_reply": "2021-04-02T12:04:06.276427Z"
    },
    "papermill": {
     "duration": 0.048449,
     "end_time": "2021-04-02T12:04:06.276587",
     "exception": false,
     "start_time": "2021-04-02T12:04:06.228138",
     "status": "completed"
    },
    "tags": []
   },
   "outputs": [],
   "source": [
    "#hide\n",
    "# g = g.rename(columns= {'continent':'group','country':'name','cases':'value'})"
   ]
  },
  {
   "cell_type": "code",
   "execution_count": 36,
   "id": "fleet-motorcycle",
   "metadata": {
    "execution": {
     "iopub.execute_input": "2021-04-02T12:04:06.364260Z",
     "iopub.status.busy": "2021-04-02T12:04:06.363581Z",
     "iopub.status.idle": "2021-04-02T12:04:06.365484Z",
     "shell.execute_reply": "2021-04-02T12:04:06.366110Z"
    },
    "papermill": {
     "duration": 0.047909,
     "end_time": "2021-04-02T12:04:06.366258",
     "exception": false,
     "start_time": "2021-04-02T12:04:06.318349",
     "status": "completed"
    },
    "tags": []
   },
   "outputs": [],
   "source": [
    "#hide\n",
    "# cols = ['name','group','day','value']"
   ]
  },
  {
   "cell_type": "code",
   "execution_count": 37,
   "id": "continued-sleeping",
   "metadata": {
    "execution": {
     "iopub.execute_input": "2021-04-02T12:04:06.454949Z",
     "iopub.status.busy": "2021-04-02T12:04:06.454265Z",
     "iopub.status.idle": "2021-04-02T12:04:06.456865Z",
     "shell.execute_reply": "2021-04-02T12:04:06.456292Z"
    },
    "papermill": {
     "duration": 0.048225,
     "end_time": "2021-04-02T12:04:06.456991",
     "exception": false,
     "start_time": "2021-04-02T12:04:06.408766",
     "status": "completed"
    },
    "tags": []
   },
   "outputs": [],
   "source": [
    "#hide\n",
    "# g.rename(columns= {'date':'day'},inplace = True)"
   ]
  },
  {
   "cell_type": "code",
   "execution_count": 38,
   "id": "major-fight",
   "metadata": {
    "execution": {
     "iopub.execute_input": "2021-04-02T12:04:06.557614Z",
     "iopub.status.busy": "2021-04-02T12:04:06.556935Z",
     "iopub.status.idle": "2021-04-02T12:04:06.559071Z",
     "shell.execute_reply": "2021-04-02T12:04:06.559626Z"
    },
    "papermill": {
     "duration": 0.055961,
     "end_time": "2021-04-02T12:04:06.559780",
     "exception": false,
     "start_time": "2021-04-02T12:04:06.503819",
     "status": "completed"
    },
    "tags": []
   },
   "outputs": [],
   "source": [
    "#hide\n",
    "# g = g[cols]"
   ]
  },
  {
   "cell_type": "code",
   "execution_count": 39,
   "id": "structured-mobile",
   "metadata": {
    "execution": {
     "iopub.execute_input": "2021-04-02T12:04:06.648293Z",
     "iopub.status.busy": "2021-04-02T12:04:06.647631Z",
     "iopub.status.idle": "2021-04-02T12:04:06.651010Z",
     "shell.execute_reply": "2021-04-02T12:04:06.651602Z"
    },
    "papermill": {
     "duration": 0.049915,
     "end_time": "2021-04-02T12:04:06.651745",
     "exception": false,
     "start_time": "2021-04-02T12:04:06.601830",
     "status": "completed"
    },
    "tags": []
   },
   "outputs": [],
   "source": [
    "# #hide\n",
    "# g = g[g.group.notna()]"
   ]
  },
  {
   "cell_type": "code",
   "execution_count": 40,
   "id": "determined-closing",
   "metadata": {
    "execution": {
     "iopub.execute_input": "2021-04-02T12:04:06.736984Z",
     "iopub.status.busy": "2021-04-02T12:04:06.736242Z",
     "iopub.status.idle": "2021-04-02T12:04:06.738332Z",
     "shell.execute_reply": "2021-04-02T12:04:06.738896Z"
    },
    "papermill": {
     "duration": 0.047503,
     "end_time": "2021-04-02T12:04:06.739040",
     "exception": false,
     "start_time": "2021-04-02T12:04:06.691537",
     "status": "completed"
    },
    "tags": []
   },
   "outputs": [],
   "source": [
    "# #hide\n",
    "# colors = dict(zip(\n",
    "#     [\"Oceania\", \"Europe\", \"Asia\", \"South America\", \"Middle East\", \"North America\", \"Africa\"],\n",
    "#     [\"#adb0ff\", \"#ffb3ff\", \"#90d595\", \"#e48381\", \"#aafbff\", \"#f7bb5f\", \"#eafb50\"]\n",
    "# ))\n",
    "# group_lk = g.set_index('name')['group'].to_dict()"
   ]
  },
  {
   "cell_type": "code",
   "execution_count": null,
   "id": "gross-drinking",
   "metadata": {
    "papermill": {
     "duration": 0.041649,
     "end_time": "2021-04-02T12:04:06.822694",
     "exception": false,
     "start_time": "2021-04-02T12:04:06.781045",
     "status": "completed"
    },
    "tags": []
   },
   "outputs": [],
   "source": []
  },
  {
   "cell_type": "code",
   "execution_count": 41,
   "id": "subject-macintosh",
   "metadata": {
    "execution": {
     "iopub.execute_input": "2021-04-02T12:04:06.911274Z",
     "iopub.status.busy": "2021-04-02T12:04:06.910552Z",
     "iopub.status.idle": "2021-04-02T12:04:06.913035Z",
     "shell.execute_reply": "2021-04-02T12:04:06.912339Z"
    },
    "papermill": {
     "duration": 0.048854,
     "end_time": "2021-04-02T12:04:06.913160",
     "exception": false,
     "start_time": "2021-04-02T12:04:06.864306",
     "status": "completed"
    },
    "tags": []
   },
   "outputs": [],
   "source": [
    "# #hide\n",
    "# fig, ax = plt.subplots(figsize=(15, 8))\n",
    "\n",
    "# def draw_barchart(current_day):\n",
    "#     dff = g[g['day'].eq(current_day)].sort_values(by='value', ascending=True).tail(10)\n",
    "#     ax.clear()\n",
    "#     ax.barh(dff['name'], dff['value'], color=[colors[group_lk[x]] for x in dff['name']])\n",
    "#     dx = dff['value'].max() / 200\n",
    "    \n",
    "#     for i, (value, name) in enumerate(zip(dff['value'], dff['name'])):\n",
    "#         ax.text(value-dx, i,     name,           size=14, weight=600, ha='right', va='bottom')\n",
    "#         ax.text(value-dx, i-.25, group_lk[name], size=10, color='#444444', ha='right', va='baseline')\n",
    "#         ax.text(value+dx, i,     f'{value:,.0f}',  size=14, ha='left',  va='center')\n",
    "#     ax.text(1, 0.4, current_day, transform=ax.transAxes, color='#777777', size=46, ha='right', weight=800)\n",
    "#     ax.text(0, 1.06, 'Population (thousands)', transform=ax.transAxes, size=12, color='#777777')\n",
    "#     ax.xaxis.set_major_formatter(ticker.StrMethodFormatter('{x:,.0f}'))\n",
    "#     ax.xaxis.set_ticks_position('top')\n",
    "#     ax.tick_params(axis='x', colors='#777777', labelsize=12)\n",
    "#     ax.set_yticks([])\n",
    "#     ax.margins(0, 0.01)\n",
    "#     ax.grid(which='major', axis='x', linestyle='-')\n",
    "#     ax.set_axisbelow(True)\n",
    "    \n",
    "#     ax.text(0, 1.15, 'Coronavirus',\n",
    "#             transform=ax.transAxes, size=24, weight=600, ha='left', va='top')\n",
    "# #     ax.text(1, 0, 'by @pratapvardhan; credit @jburnmurdoch', transform=ax.transAxes, color='#777777', ha='right',\n",
    "# #             bbox=dict(facecolor='white', alpha=0.8, edgecolor='white'))\n",
    "#     plt.box(False)"
   ]
  },
  {
   "cell_type": "code",
   "execution_count": 42,
   "id": "sexual-wages",
   "metadata": {
    "execution": {
     "iopub.execute_input": "2021-04-02T12:04:07.001458Z",
     "iopub.status.busy": "2021-04-02T12:04:07.000793Z",
     "iopub.status.idle": "2021-04-02T12:04:07.003349Z",
     "shell.execute_reply": "2021-04-02T12:04:07.002748Z"
    },
    "papermill": {
     "duration": 0.047351,
     "end_time": "2021-04-02T12:04:07.003477",
     "exception": false,
     "start_time": "2021-04-02T12:04:06.956126",
     "status": "completed"
    },
    "tags": []
   },
   "outputs": [],
   "source": [
    "# #hide_input\n",
    "# fig, ax = plt.subplots(figsize=(15, 8))\n",
    "# animator = animation.FuncAnimation(fig, draw_barchart, frames=range(g.day.values.min(), g.day.values.max()))\n",
    "# HTML(animator.to_jshtml())\n",
    "# # or use animator.to_html5_video() or animator.save() "
   ]
  },
  {
   "cell_type": "code",
   "execution_count": null,
   "id": "australian-container",
   "metadata": {
    "papermill": {
     "duration": 0.041667,
     "end_time": "2021-04-02T12:04:07.086292",
     "exception": false,
     "start_time": "2021-04-02T12:04:07.044625",
     "status": "completed"
    },
    "tags": []
   },
   "outputs": [],
   "source": []
  },
  {
   "cell_type": "code",
   "execution_count": null,
   "id": "mediterranean-pontiac",
   "metadata": {
    "papermill": {
     "duration": 0.048011,
     "end_time": "2021-04-02T12:04:07.177587",
     "exception": false,
     "start_time": "2021-04-02T12:04:07.129576",
     "status": "completed"
    },
    "tags": []
   },
   "outputs": [],
   "source": []
  },
  {
   "cell_type": "code",
   "execution_count": null,
   "id": "aging-legislature",
   "metadata": {
    "papermill": {
     "duration": 0.050537,
     "end_time": "2021-04-02T12:04:07.275311",
     "exception": false,
     "start_time": "2021-04-02T12:04:07.224774",
     "status": "completed"
    },
    "tags": []
   },
   "outputs": [],
   "source": []
  }
 ],
 "metadata": {
  "kernelspec": {
   "display_name": "Python 3",
   "language": "python",
   "name": "python3"
  },
  "language_info": {
   "codemirror_mode": {
    "name": "ipython",
    "version": 3
   },
   "file_extension": ".py",
   "mimetype": "text/x-python",
   "name": "python",
   "nbconvert_exporter": "python",
   "pygments_lexer": "ipython3",
   "version": "3.6.13"
  },
  "papermill": {
   "duration": 8.623123,
   "end_time": "2021-04-02T12:04:07.625350",
   "environment_variables": {},
   "exception": null,
   "input_path": "2020-03-21-covid19exp.ipynb",
   "output_path": "2020-03-21-covid19exp.ipynb",
   "parameters": {},
   "start_time": "2021-04-02T12:03:59.002227",
   "version": "2.0.0"
  }
 },
 "nbformat": 4,
 "nbformat_minor": 5
}