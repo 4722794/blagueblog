{
 "cells": [
  {
   "cell_type": "markdown",
   "id": "muslim-click",
   "metadata": {
    "papermill": {
     "duration": 0.045455,
     "end_time": "2021-07-27T00:20:05.111348",
     "exception": false,
     "start_time": "2021-07-27T00:20:05.065893",
     "status": "completed"
    },
    "tags": []
   },
   "source": [
    "# COVID-19 Case Race\n",
    "> A race chart to see rising cases around the world\n",
    "\n",
    "- author: Hargun Oberoi\n",
    "- image: images/covid-overview.png\n",
    "- hide: false\n",
    "- badges: false"
   ]
  },
  {
   "cell_type": "code",
   "execution_count": 1,
   "id": "proof-material",
   "metadata": {
    "execution": {
     "iopub.execute_input": "2021-07-27T00:20:05.200337Z",
     "iopub.status.busy": "2021-07-27T00:20:05.199635Z",
     "iopub.status.idle": "2021-07-27T00:20:05.600035Z",
     "shell.execute_reply": "2021-07-27T00:20:05.596869Z"
    },
    "papermill": {
     "duration": 0.451446,
     "end_time": "2021-07-27T00:20:05.600266",
     "exception": false,
     "start_time": "2021-07-27T00:20:05.148820",
     "status": "completed"
    },
    "tags": []
   },
   "outputs": [],
   "source": [
    "#hide\n",
    "import numpy as np\n",
    "import pandas as pd\n",
    "from jinja2 import Template\n",
    "from IPython.display import HTML"
   ]
  },
  {
   "cell_type": "code",
   "execution_count": 2,
   "id": "developed-terminology",
   "metadata": {
    "execution": {
     "iopub.execute_input": "2021-07-27T00:20:05.688858Z",
     "iopub.status.busy": "2021-07-27T00:20:05.687976Z",
     "iopub.status.idle": "2021-07-27T00:20:05.690267Z",
     "shell.execute_reply": "2021-07-27T00:20:05.690734Z"
    },
    "papermill": {
     "duration": 0.044328,
     "end_time": "2021-07-27T00:20:05.690895",
     "exception": false,
     "start_time": "2021-07-27T00:20:05.646567",
     "status": "completed"
    },
    "tags": []
   },
   "outputs": [],
   "source": [
    "#hide\n",
    "\n",
    "# FETCH\n",
    "base_url = 'https://raw.githubusercontent.com/pratapvardhan/notebooks/master/covid19/'\n",
    "paths = {\n",
    "    'mapping': base_url + 'mapping_countries.csv',\n",
    "    'overview': base_url + 'overview.tpl'\n",
    "}"
   ]
  },
  {
   "cell_type": "code",
   "execution_count": 3,
   "id": "dynamic-saver",
   "metadata": {
    "execution": {
     "iopub.execute_input": "2021-07-27T00:20:05.781242Z",
     "iopub.status.busy": "2021-07-27T00:20:05.777521Z",
     "iopub.status.idle": "2021-07-27T00:20:05.785047Z",
     "shell.execute_reply": "2021-07-27T00:20:05.784459Z"
    },
    "papermill": {
     "duration": 0.053801,
     "end_time": "2021-07-27T00:20:05.785173",
     "exception": false,
     "start_time": "2021-07-27T00:20:05.731372",
     "status": "completed"
    },
    "tags": []
   },
   "outputs": [
    {
     "data": {
      "text/plain": [
       "'https://raw.githubusercontent.com/pratapvardhan/notebooks/master/covid19/mapping_countries.csv'"
      ]
     },
     "execution_count": 3,
     "metadata": {},
     "output_type": "execute_result"
    }
   ],
   "source": [
    "#hide\n",
    "paths['mapping']"
   ]
  },
  {
   "cell_type": "code",
   "execution_count": 4,
   "id": "urban-software",
   "metadata": {
    "execution": {
     "iopub.execute_input": "2021-07-27T00:20:05.871033Z",
     "iopub.status.busy": "2021-07-27T00:20:05.870297Z",
     "iopub.status.idle": "2021-07-27T00:20:05.873399Z",
     "shell.execute_reply": "2021-07-27T00:20:05.872529Z"
    },
    "papermill": {
     "duration": 0.049199,
     "end_time": "2021-07-27T00:20:05.873530",
     "exception": false,
     "start_time": "2021-07-27T00:20:05.824331",
     "status": "completed"
    },
    "tags": []
   },
   "outputs": [],
   "source": [
    "#hide\n",
    "def get_mappings(url):\n",
    "    df = pd.read_csv(url)\n",
    "    return {\n",
    "        'df': df,\n",
    "        'replace.country': dict(df.dropna(subset=['Name']).set_index('Country')['Name']),\n",
    "        'map.continent': dict(df.set_index('Name')['Continent'])\n",
    "    }"
   ]
  },
  {
   "cell_type": "code",
   "execution_count": 5,
   "id": "intimate-machinery",
   "metadata": {
    "execution": {
     "iopub.execute_input": "2021-07-27T00:20:05.960552Z",
     "iopub.status.busy": "2021-07-27T00:20:05.959811Z",
     "iopub.status.idle": "2021-07-27T00:20:06.004832Z",
     "shell.execute_reply": "2021-07-27T00:20:06.005345Z"
    },
    "papermill": {
     "duration": 0.091004,
     "end_time": "2021-07-27T00:20:06.005515",
     "exception": false,
     "start_time": "2021-07-27T00:20:05.914511",
     "status": "completed"
    },
    "tags": []
   },
   "outputs": [],
   "source": [
    "#hide\n",
    "mapping = get_mappings(paths['mapping'])"
   ]
  },
  {
   "cell_type": "code",
   "execution_count": 6,
   "id": "certified-tactics",
   "metadata": {
    "execution": {
     "iopub.execute_input": "2021-07-27T00:20:06.088322Z",
     "iopub.status.busy": "2021-07-27T00:20:06.087416Z",
     "iopub.status.idle": "2021-07-27T00:20:06.089588Z",
     "shell.execute_reply": "2021-07-27T00:20:06.090440Z"
    },
    "papermill": {
     "duration": 0.045903,
     "end_time": "2021-07-27T00:20:06.090605",
     "exception": false,
     "start_time": "2021-07-27T00:20:06.044702",
     "status": "completed"
    },
    "tags": []
   },
   "outputs": [],
   "source": [
    "#hide\n",
    "def get_template(path):\n",
    "    from urllib.parse import urlparse\n",
    "    if bool(urlparse(path).netloc):\n",
    "        from urllib.request import urlopen\n",
    "        return urlopen(path).read().decode('utf8')\n",
    "    return open(path).read()"
   ]
  },
  {
   "cell_type": "code",
   "execution_count": 7,
   "id": "realistic-blast",
   "metadata": {
    "execution": {
     "iopub.execute_input": "2021-07-27T00:20:06.174767Z",
     "iopub.status.busy": "2021-07-27T00:20:06.174038Z",
     "iopub.status.idle": "2021-07-27T00:20:06.176551Z",
     "shell.execute_reply": "2021-07-27T00:20:06.176053Z"
    },
    "papermill": {
     "duration": 0.045097,
     "end_time": "2021-07-27T00:20:06.176664",
     "exception": false,
     "start_time": "2021-07-27T00:20:06.131567",
     "status": "completed"
    },
    "tags": []
   },
   "outputs": [],
   "source": [
    "#hide\n",
    "def get_frame(name):\n",
    "    url = (\n",
    "        'https://raw.githubusercontent.com/CSSEGISandData/COVID-19/master/csse_covid_19_data/'\n",
    "        f'csse_covid_19_time_series/time_series_covid19_{name}_global.csv')\n",
    "    df = pd.read_csv(url)\n",
    "    # rename countries\n",
    "    df['Country/Region'] = df['Country/Region'].replace(mapping['replace.country'])\n",
    "    return df"
   ]
  },
  {
   "cell_type": "code",
   "execution_count": 8,
   "id": "affiliated-characterization",
   "metadata": {
    "execution": {
     "iopub.execute_input": "2021-07-27T00:20:06.264329Z",
     "iopub.status.busy": "2021-07-27T00:20:06.263572Z",
     "iopub.status.idle": "2021-07-27T00:20:06.266222Z",
     "shell.execute_reply": "2021-07-27T00:20:06.265713Z"
    },
    "papermill": {
     "duration": 0.046838,
     "end_time": "2021-07-27T00:20:06.266343",
     "exception": false,
     "start_time": "2021-07-27T00:20:06.219505",
     "status": "completed"
    },
    "tags": []
   },
   "outputs": [],
   "source": [
    "#hide\n",
    "def get_dates(df):\n",
    "    dt_cols = df.columns[~df.columns.isin(['Province/State', 'Country/Region', 'Lat', 'Long'])]\n",
    "    LAST_DATE_I = -1\n",
    "    # sometimes last column may be empty, then go backwards\n",
    "    for i in range(-1, -len(dt_cols), -1):\n",
    "        if not df[dt_cols[i]].fillna(0).eq(0).all():\n",
    "            LAST_DATE_I = i\n",
    "            break\n",
    "    return LAST_DATE_I, dt_cols"
   ]
  },
  {
   "cell_type": "code",
   "execution_count": 9,
   "id": "recent-optimization",
   "metadata": {
    "execution": {
     "iopub.execute_input": "2021-07-27T00:20:06.354418Z",
     "iopub.status.busy": "2021-07-27T00:20:06.353074Z",
     "iopub.status.idle": "2021-07-27T00:20:06.791879Z",
     "shell.execute_reply": "2021-07-27T00:20:06.791110Z"
    },
    "papermill": {
     "duration": 0.483756,
     "end_time": "2021-07-27T00:20:06.792048",
     "exception": false,
     "start_time": "2021-07-27T00:20:06.308292",
     "status": "completed"
    },
    "tags": []
   },
   "outputs": [],
   "source": [
    "#hide\n",
    "COL_REGION = 'Country/Region'\n",
    "# Confirmed, Recovered, Deaths\n",
    "df = get_frame('confirmed')\n",
    "# dft_: timeseries, dfc_: today country agg\n",
    "dft_cases = df\n",
    "dft_deaths = get_frame('deaths')\n",
    "dft_recovered = get_frame('recovered')\n",
    "LAST_DATE_I, dt_cols = get_dates(df)"
   ]
  },
  {
   "cell_type": "code",
   "execution_count": 10,
   "id": "absolute-copper",
   "metadata": {
    "execution": {
     "iopub.execute_input": "2021-07-27T00:20:06.877050Z",
     "iopub.status.busy": "2021-07-27T00:20:06.876268Z",
     "iopub.status.idle": "2021-07-27T00:20:06.878679Z",
     "shell.execute_reply": "2021-07-27T00:20:06.878054Z"
    },
    "papermill": {
     "duration": 0.048866,
     "end_time": "2021-07-27T00:20:06.878800",
     "exception": false,
     "start_time": "2021-07-27T00:20:06.829934",
     "status": "completed"
    },
    "tags": []
   },
   "outputs": [],
   "source": [
    "#hide\n",
    "LAST_DATE_I, dt_cols = get_dates(df)\n",
    "dt_today =dt_cols[LAST_DATE_I]\n",
    "# dt_5day = dt_cols[LAST_DATE_I - 5]\n",
    "dt_yday = dt_cols[LAST_DATE_I - 1]"
   ]
  },
  {
   "cell_type": "code",
   "execution_count": 11,
   "id": "restricted-sheriff",
   "metadata": {
    "execution": {
     "iopub.execute_input": "2021-07-27T00:20:06.959676Z",
     "iopub.status.busy": "2021-07-27T00:20:06.958968Z",
     "iopub.status.idle": "2021-07-27T00:20:06.969795Z",
     "shell.execute_reply": "2021-07-27T00:20:06.969049Z"
    },
    "papermill": {
     "duration": 0.055132,
     "end_time": "2021-07-27T00:20:06.969915",
     "exception": false,
     "start_time": "2021-07-27T00:20:06.914783",
     "status": "completed"
    },
    "tags": []
   },
   "outputs": [],
   "source": [
    "#hide\n",
    "dfc_cases = dft_cases.groupby(COL_REGION)[dt_today].sum()\n",
    "dfc_deaths = dft_deaths.groupby(COL_REGION)[dt_today].sum()\n",
    "# dfp_cases = dft_cases.groupby(COL_REGION)[dt_5day].sum()\n",
    "# dfp_deaths = dft_deaths.groupby(COL_REGION)[dt_5day].sum()\n",
    "dfp_cases = dft_cases.groupby(COL_REGION)[dt_yday].sum()\n",
    "dfp_deaths = dft_deaths.groupby(COL_REGION)[dt_yday].sum()"
   ]
  },
  {
   "cell_type": "code",
   "execution_count": 12,
   "id": "deluxe-hepatitis",
   "metadata": {
    "execution": {
     "iopub.execute_input": "2021-07-27T00:20:07.057258Z",
     "iopub.status.busy": "2021-07-27T00:20:07.056549Z",
     "iopub.status.idle": "2021-07-27T00:20:07.061231Z",
     "shell.execute_reply": "2021-07-27T00:20:07.060718Z"
    },
    "papermill": {
     "duration": 0.05405,
     "end_time": "2021-07-27T00:20:07.061348",
     "exception": false,
     "start_time": "2021-07-27T00:20:07.007298",
     "status": "completed"
    },
    "tags": []
   },
   "outputs": [],
   "source": [
    "#hide\n",
    "df_table = (pd.DataFrame(dict(Cases = dfc_cases, Deaths = dfc_deaths, PCases = dfp_cases, PDeaths = dfp_deaths))\n",
    "            .sort_values(by = ['Cases','Deaths'], ascending = [False, False])\n",
    "            .reset_index())"
   ]
  },
  {
   "cell_type": "code",
   "execution_count": 13,
   "id": "educational-chancellor",
   "metadata": {
    "execution": {
     "iopub.execute_input": "2021-07-27T00:20:07.163255Z",
     "iopub.status.busy": "2021-07-27T00:20:07.162542Z",
     "iopub.status.idle": "2021-07-27T00:20:07.171654Z",
     "shell.execute_reply": "2021-07-27T00:20:07.172298Z"
    },
    "papermill": {
     "duration": 0.07289,
     "end_time": "2021-07-27T00:20:07.172452",
     "exception": false,
     "start_time": "2021-07-27T00:20:07.099562",
     "status": "completed"
    },
    "tags": []
   },
   "outputs": [
    {
     "data": {
      "text/html": [
       "<div>\n",
       "<style scoped>\n",
       "    .dataframe tbody tr th:only-of-type {\n",
       "        vertical-align: middle;\n",
       "    }\n",
       "\n",
       "    .dataframe tbody tr th {\n",
       "        vertical-align: top;\n",
       "    }\n",
       "\n",
       "    .dataframe thead th {\n",
       "        text-align: right;\n",
       "    }\n",
       "</style>\n",
       "<table border=\"1\" class=\"dataframe\">\n",
       "  <thead>\n",
       "    <tr style=\"text-align: right;\">\n",
       "      <th></th>\n",
       "      <th>Country/Region</th>\n",
       "      <th>Cases</th>\n",
       "      <th>Deaths</th>\n",
       "      <th>PCases</th>\n",
       "      <th>PDeaths</th>\n",
       "      <th>Cases (+)</th>\n",
       "      <th>Deaths (+)</th>\n",
       "      <th>Fatality Rate</th>\n",
       "      <th>Continent</th>\n",
       "    </tr>\n",
       "  </thead>\n",
       "  <tbody>\n",
       "    <tr>\n",
       "      <th>0</th>\n",
       "      <td>US</td>\n",
       "      <td>34443761</td>\n",
       "      <td>610891</td>\n",
       "      <td>34428050</td>\n",
       "      <td>610835</td>\n",
       "      <td>15711</td>\n",
       "      <td>56</td>\n",
       "      <td>1.77</td>\n",
       "      <td>North America</td>\n",
       "    </tr>\n",
       "    <tr>\n",
       "      <th>1</th>\n",
       "      <td>India</td>\n",
       "      <td>31411262</td>\n",
       "      <td>420967</td>\n",
       "      <td>31371901</td>\n",
       "      <td>420551</td>\n",
       "      <td>39361</td>\n",
       "      <td>416</td>\n",
       "      <td>1.34</td>\n",
       "      <td>Asia</td>\n",
       "    </tr>\n",
       "    <tr>\n",
       "      <th>2</th>\n",
       "      <td>Brazil</td>\n",
       "      <td>19688663</td>\n",
       "      <td>549924</td>\n",
       "      <td>19670534</td>\n",
       "      <td>549448</td>\n",
       "      <td>18129</td>\n",
       "      <td>476</td>\n",
       "      <td>2.79</td>\n",
       "      <td>South America</td>\n",
       "    </tr>\n",
       "    <tr>\n",
       "      <th>3</th>\n",
       "      <td>France</td>\n",
       "      <td>6056388</td>\n",
       "      <td>111806</td>\n",
       "      <td>6041146</td>\n",
       "      <td>111800</td>\n",
       "      <td>15242</td>\n",
       "      <td>6</td>\n",
       "      <td>1.85</td>\n",
       "      <td>Europe</td>\n",
       "    </tr>\n",
       "    <tr>\n",
       "      <th>4</th>\n",
       "      <td>Russia</td>\n",
       "      <td>6049215</td>\n",
       "      <td>151352</td>\n",
       "      <td>6025698</td>\n",
       "      <td>150583</td>\n",
       "      <td>23517</td>\n",
       "      <td>769</td>\n",
       "      <td>2.50</td>\n",
       "      <td>Europe</td>\n",
       "    </tr>\n",
       "  </tbody>\n",
       "</table>\n",
       "</div>"
      ],
      "text/plain": [
       "  Country/Region     Cases  Deaths    PCases  PDeaths  Cases (+)  Deaths (+)  \\\n",
       "0             US  34443761  610891  34428050   610835      15711          56   \n",
       "1          India  31411262  420967  31371901   420551      39361         416   \n",
       "2         Brazil  19688663  549924  19670534   549448      18129         476   \n",
       "3         France   6056388  111806   6041146   111800      15242           6   \n",
       "4         Russia   6049215  151352   6025698   150583      23517         769   \n",
       "\n",
       "   Fatality Rate      Continent  \n",
       "0           1.77  North America  \n",
       "1           1.34           Asia  \n",
       "2           2.79  South America  \n",
       "3           1.85         Europe  \n",
       "4           2.50         Europe  "
      ]
     },
     "execution_count": 13,
     "metadata": {},
     "output_type": "execute_result"
    }
   ],
   "source": [
    "#hide\n",
    "for c in 'Cases, Deaths'.split(', '):\n",
    "    df_table[f'{c} (+)'] = (df_table[c] - df_table[f'P{c}']).clip(0)\n",
    "    #Clip ça veut dire, les chiffres negatif sont interdit\n",
    "df_table['Fatality Rate'] = (100* df_table['Deaths']/ df_table['Cases']).round(2)\n",
    "df_table['Continent'] = df_table['Country/Region'].map(mapping['map.continent'])\n",
    "df_table.head(5)"
   ]
  },
  {
   "cell_type": "code",
   "execution_count": 14,
   "id": "aboriginal-bulgaria",
   "metadata": {
    "execution": {
     "iopub.execute_input": "2021-07-27T00:20:07.260016Z",
     "iopub.status.busy": "2021-07-27T00:20:07.259371Z",
     "iopub.status.idle": "2021-07-27T00:20:07.262967Z",
     "shell.execute_reply": "2021-07-27T00:20:07.262418Z"
    },
    "papermill": {
     "duration": 0.049485,
     "end_time": "2021-07-27T00:20:07.263093",
     "exception": false,
     "start_time": "2021-07-27T00:20:07.213608",
     "status": "completed"
    },
    "tags": []
   },
   "outputs": [],
   "source": [
    "#hide\n",
    "#delete problematic countries from table\n",
    "df_table = df_table[~df_table['Country/Region'].isin(['Cape Verde', 'Cruise Ship', 'Kosovo'])]"
   ]
  },
  {
   "cell_type": "code",
   "execution_count": 15,
   "id": "fantastic-effect",
   "metadata": {
    "execution": {
     "iopub.execute_input": "2021-07-27T00:20:07.349443Z",
     "iopub.status.busy": "2021-07-27T00:20:07.348701Z",
     "iopub.status.idle": "2021-07-27T00:20:07.372082Z",
     "shell.execute_reply": "2021-07-27T00:20:07.371462Z"
    },
    "papermill": {
     "duration": 0.069223,
     "end_time": "2021-07-27T00:20:07.372240",
     "exception": false,
     "start_time": "2021-07-27T00:20:07.303017",
     "status": "completed"
    },
    "tags": []
   },
   "outputs": [
    {
     "data": {
      "text/html": [
       "<div>\n",
       "<style scoped>\n",
       "    .dataframe tbody tr th:only-of-type {\n",
       "        vertical-align: middle;\n",
       "    }\n",
       "\n",
       "    .dataframe tbody tr th {\n",
       "        vertical-align: top;\n",
       "    }\n",
       "\n",
       "    .dataframe thead th {\n",
       "        text-align: right;\n",
       "    }\n",
       "</style>\n",
       "<table border=\"1\" class=\"dataframe\">\n",
       "  <thead>\n",
       "    <tr style=\"text-align: right;\">\n",
       "      <th></th>\n",
       "      <th>Country/Region</th>\n",
       "      <th>Cases</th>\n",
       "      <th>Deaths</th>\n",
       "      <th>PCases</th>\n",
       "      <th>PDeaths</th>\n",
       "      <th>Cases (+)</th>\n",
       "      <th>Deaths (+)</th>\n",
       "      <th>Fatality Rate</th>\n",
       "      <th>Continent</th>\n",
       "    </tr>\n",
       "  </thead>\n",
       "  <tbody>\n",
       "    <tr>\n",
       "      <th>0</th>\n",
       "      <td>US</td>\n",
       "      <td>34443761</td>\n",
       "      <td>610891</td>\n",
       "      <td>34428050</td>\n",
       "      <td>610835</td>\n",
       "      <td>15711</td>\n",
       "      <td>56</td>\n",
       "      <td>1.8</td>\n",
       "      <td>North America</td>\n",
       "    </tr>\n",
       "    <tr>\n",
       "      <th>1</th>\n",
       "      <td>India</td>\n",
       "      <td>31411262</td>\n",
       "      <td>420967</td>\n",
       "      <td>31371901</td>\n",
       "      <td>420551</td>\n",
       "      <td>39361</td>\n",
       "      <td>416</td>\n",
       "      <td>1.3</td>\n",
       "      <td>Asia</td>\n",
       "    </tr>\n",
       "    <tr>\n",
       "      <th>2</th>\n",
       "      <td>Brazil</td>\n",
       "      <td>19688663</td>\n",
       "      <td>549924</td>\n",
       "      <td>19670534</td>\n",
       "      <td>549448</td>\n",
       "      <td>18129</td>\n",
       "      <td>476</td>\n",
       "      <td>2.8</td>\n",
       "      <td>South America</td>\n",
       "    </tr>\n",
       "    <tr>\n",
       "      <th>3</th>\n",
       "      <td>France</td>\n",
       "      <td>6056388</td>\n",
       "      <td>111806</td>\n",
       "      <td>6041146</td>\n",
       "      <td>111800</td>\n",
       "      <td>15242</td>\n",
       "      <td>6</td>\n",
       "      <td>1.8</td>\n",
       "      <td>Europe</td>\n",
       "    </tr>\n",
       "    <tr>\n",
       "      <th>4</th>\n",
       "      <td>Russia</td>\n",
       "      <td>6049215</td>\n",
       "      <td>151352</td>\n",
       "      <td>6025698</td>\n",
       "      <td>150583</td>\n",
       "      <td>23517</td>\n",
       "      <td>769</td>\n",
       "      <td>2.5</td>\n",
       "      <td>Europe</td>\n",
       "    </tr>\n",
       "  </tbody>\n",
       "</table>\n",
       "</div>"
      ],
      "text/plain": [
       "  Country/Region     Cases  Deaths    PCases  PDeaths  Cases (+)  Deaths (+)  \\\n",
       "0             US  34443761  610891  34428050   610835      15711          56   \n",
       "1          India  31411262  420967  31371901   420551      39361         416   \n",
       "2         Brazil  19688663  549924  19670534   549448      18129         476   \n",
       "3         France   6056388  111806   6041146   111800      15242           6   \n",
       "4         Russia   6049215  151352   6025698   150583      23517         769   \n",
       "\n",
       "   Fatality Rate      Continent  \n",
       "0            1.8  North America  \n",
       "1            1.3           Asia  \n",
       "2            2.8  South America  \n",
       "3            1.8         Europe  \n",
       "4            2.5         Europe  "
      ]
     },
     "execution_count": 15,
     "metadata": {},
     "output_type": "execute_result"
    }
   ],
   "source": [
    "#hide\n",
    "df_table = (pd.DataFrame(dict(Cases=dfc_cases, Deaths=dfc_deaths, PCases=dfp_cases, PDeaths=dfp_deaths))\n",
    "             .sort_values(by=['Cases', 'Deaths'], ascending=[False, False])\n",
    "             .reset_index())\n",
    "df_table.rename(columns={'index': 'Country/Region'}, inplace=True)\n",
    "for c in 'Cases, Deaths'.split(', '):\n",
    "    df_table[f'{c} (+)'] = (df_table[c] - df_table[f'P{c}']).clip(0)  # DATA BUG\n",
    "df_table['Fatality Rate'] = (100 * df_table['Deaths'] / df_table['Cases']).round(1)\n",
    "df_table['Continent'] = df_table['Country/Region'].map(mapping['map.continent'])\n",
    "df_table.head(5)"
   ]
  },
  {
   "cell_type": "code",
   "execution_count": 16,
   "id": "fewer-occasion",
   "metadata": {
    "execution": {
     "iopub.execute_input": "2021-07-27T00:20:07.451989Z",
     "iopub.status.busy": "2021-07-27T00:20:07.451483Z",
     "iopub.status.idle": "2021-07-27T00:20:07.454279Z",
     "shell.execute_reply": "2021-07-27T00:20:07.454719Z"
    },
    "papermill": {
     "duration": 0.042396,
     "end_time": "2021-07-27T00:20:07.454830",
     "exception": false,
     "start_time": "2021-07-27T00:20:07.412434",
     "status": "completed"
    },
    "tags": []
   },
   "outputs": [],
   "source": [
    "#hide\n",
    "#delete problematic countries from table\n",
    "df_table = df_table[~df_table['Country/Region'].isin(['Cape Verde', 'Cruise Ship', 'Kosovo'])]"
   ]
  },
  {
   "cell_type": "code",
   "execution_count": 17,
   "id": "related-center",
   "metadata": {
    "execution": {
     "iopub.execute_input": "2021-07-27T00:20:07.538276Z",
     "iopub.status.busy": "2021-07-27T00:20:07.537422Z",
     "iopub.status.idle": "2021-07-27T00:20:07.546612Z",
     "shell.execute_reply": "2021-07-27T00:20:07.547115Z"
    },
    "papermill": {
     "duration": 0.059821,
     "end_time": "2021-07-27T00:20:07.547246",
     "exception": false,
     "start_time": "2021-07-27T00:20:07.487425",
     "status": "completed"
    },
    "tags": []
   },
   "outputs": [],
   "source": [
    "#hide\n",
    "metrics = [df_table.columns[index] for index in [1,2,5,6]]\n",
    "# s_china = df_table[df_table['Country/Region'].eq('China')][metrics].sum().add_prefix('China ')\n",
    "s_us = df_table[df_table['Country/Region'].eq('US')][metrics].sum().add_prefix('US ')\n",
    "s_eu = df_table[df_table['Continent'].eq('Europe')][metrics].sum().add_prefix('EU ')\n",
    "s_ind = df_table[df_table['Country/Region'].eq('India')][metrics].sum().add_prefix('India ')\n",
    "summary = {'updated': pd.to_datetime(dt_today), 'since': pd.to_datetime(dt_yday)}\n",
    "summary = {'updated': pd.to_datetime(dt_today), 'since': pd.to_datetime(dt_yday)}\n",
    "summary = {**summary, **df_table[metrics].sum(), **s_ind, **s_us, **s_eu}"
   ]
  },
  {
   "cell_type": "code",
   "execution_count": 18,
   "id": "engaging-syndrome",
   "metadata": {
    "execution": {
     "iopub.execute_input": "2021-07-27T00:20:07.634930Z",
     "iopub.status.busy": "2021-07-27T00:20:07.634292Z",
     "iopub.status.idle": "2021-07-27T00:20:07.645945Z",
     "shell.execute_reply": "2021-07-27T00:20:07.646494Z"
    },
    "papermill": {
     "duration": 0.059456,
     "end_time": "2021-07-27T00:20:07.646626",
     "exception": false,
     "start_time": "2021-07-27T00:20:07.587170",
     "status": "completed"
    },
    "tags": []
   },
   "outputs": [],
   "source": [
    "#hide\n",
    "dft_ct_new_cases = dft_cases.groupby(COL_REGION)[dt_cols].sum().diff(axis=1).fillna(0).astype(int)"
   ]
  },
  {
   "cell_type": "code",
   "execution_count": 19,
   "id": "neutral-assignment",
   "metadata": {
    "execution": {
     "iopub.execute_input": "2021-07-27T00:20:07.733201Z",
     "iopub.status.busy": "2021-07-27T00:20:07.732586Z",
     "iopub.status.idle": "2021-07-27T00:20:07.735394Z",
     "shell.execute_reply": "2021-07-27T00:20:07.735883Z"
    },
    "papermill": {
     "duration": 0.051612,
     "end_time": "2021-07-27T00:20:07.736019",
     "exception": false,
     "start_time": "2021-07-27T00:20:07.684407",
     "status": "completed"
    },
    "tags": []
   },
   "outputs": [],
   "source": [
    "#hide\n",
    "everydaycases = dft_ct_new_cases.cumsum(axis=1)"
   ]
  },
  {
   "cell_type": "code",
   "execution_count": 20,
   "id": "parliamentary-calgary",
   "metadata": {
    "execution": {
     "iopub.execute_input": "2021-07-27T00:20:07.820576Z",
     "iopub.status.busy": "2021-07-27T00:20:07.819638Z",
     "iopub.status.idle": "2021-07-27T00:20:08.549685Z",
     "shell.execute_reply": "2021-07-27T00:20:08.548591Z"
    },
    "papermill": {
     "duration": 0.773432,
     "end_time": "2021-07-27T00:20:08.549844",
     "exception": false,
     "start_time": "2021-07-27T00:20:07.776412",
     "status": "completed"
    },
    "tags": []
   },
   "outputs": [],
   "source": [
    "#hide\n",
    "import pandas as pd\n",
    "import matplotlib.pyplot as plt\n",
    "import matplotlib.ticker as ticker\n",
    "import matplotlib.animation as animation\n",
    "from IPython.display import HTML"
   ]
  },
  {
   "cell_type": "code",
   "execution_count": 21,
   "id": "lasting-extraction",
   "metadata": {
    "execution": {
     "iopub.execute_input": "2021-07-27T00:20:08.637803Z",
     "iopub.status.busy": "2021-07-27T00:20:08.637137Z",
     "iopub.status.idle": "2021-07-27T00:20:08.643082Z",
     "shell.execute_reply": "2021-07-27T00:20:08.643604Z"
    },
    "papermill": {
     "duration": 0.053079,
     "end_time": "2021-07-27T00:20:08.643757",
     "exception": false,
     "start_time": "2021-07-27T00:20:08.590678",
     "status": "completed"
    },
    "tags": []
   },
   "outputs": [],
   "source": [
    "#hide\n",
    "t = everydaycases.stack()"
   ]
  },
  {
   "cell_type": "code",
   "execution_count": 22,
   "id": "premier-sleeve",
   "metadata": {
    "execution": {
     "iopub.execute_input": "2021-07-27T00:20:08.729919Z",
     "iopub.status.busy": "2021-07-27T00:20:08.729221Z",
     "iopub.status.idle": "2021-07-27T00:20:08.738331Z",
     "shell.execute_reply": "2021-07-27T00:20:08.739165Z"
    },
    "papermill": {
     "duration": 0.05467,
     "end_time": "2021-07-27T00:20:08.739307",
     "exception": false,
     "start_time": "2021-07-27T00:20:08.684637",
     "status": "completed"
    },
    "tags": []
   },
   "outputs": [],
   "source": [
    "#hide\n",
    "g = t.reset_index(['Country/Region'])"
   ]
  },
  {
   "cell_type": "code",
   "execution_count": 23,
   "id": "distributed-pittsburgh",
   "metadata": {
    "execution": {
     "iopub.execute_input": "2021-07-27T00:20:08.825870Z",
     "iopub.status.busy": "2021-07-27T00:20:08.825222Z",
     "iopub.status.idle": "2021-07-27T00:20:08.828153Z",
     "shell.execute_reply": "2021-07-27T00:20:08.827160Z"
    },
    "papermill": {
     "duration": 0.047745,
     "end_time": "2021-07-27T00:20:08.828299",
     "exception": false,
     "start_time": "2021-07-27T00:20:08.780554",
     "status": "completed"
    },
    "tags": []
   },
   "outputs": [],
   "source": [
    "#hide\n",
    "g.index.name = 'date'"
   ]
  },
  {
   "cell_type": "code",
   "execution_count": 24,
   "id": "naked-donor",
   "metadata": {
    "execution": {
     "iopub.execute_input": "2021-07-27T00:20:08.912849Z",
     "iopub.status.busy": "2021-07-27T00:20:08.911576Z",
     "iopub.status.idle": "2021-07-27T00:20:08.914126Z",
     "shell.execute_reply": "2021-07-27T00:20:08.915108Z"
    },
    "papermill": {
     "duration": 0.046618,
     "end_time": "2021-07-27T00:20:08.915412",
     "exception": false,
     "start_time": "2021-07-27T00:20:08.868794",
     "status": "completed"
    },
    "tags": []
   },
   "outputs": [],
   "source": [
    "# #hide\n",
    "# g = g.reset_index(['date'])"
   ]
  },
  {
   "cell_type": "code",
   "execution_count": 25,
   "id": "incomplete-mustang",
   "metadata": {
    "execution": {
     "iopub.execute_input": "2021-07-27T00:20:09.001297Z",
     "iopub.status.busy": "2021-07-27T00:20:09.000589Z",
     "iopub.status.idle": "2021-07-27T00:20:09.002801Z",
     "shell.execute_reply": "2021-07-27T00:20:09.003278Z"
    },
    "papermill": {
     "duration": 0.046743,
     "end_time": "2021-07-27T00:20:09.003412",
     "exception": false,
     "start_time": "2021-07-27T00:20:08.956669",
     "status": "completed"
    },
    "tags": []
   },
   "outputs": [],
   "source": [
    "#hide\n",
    "# g.head()"
   ]
  },
  {
   "cell_type": "code",
   "execution_count": 26,
   "id": "specific-kruger",
   "metadata": {
    "execution": {
     "iopub.execute_input": "2021-07-27T00:20:09.085524Z",
     "iopub.status.busy": "2021-07-27T00:20:09.084833Z",
     "iopub.status.idle": "2021-07-27T00:20:09.087665Z",
     "shell.execute_reply": "2021-07-27T00:20:09.086870Z"
    },
    "papermill": {
     "duration": 0.045821,
     "end_time": "2021-07-27T00:20:09.087804",
     "exception": false,
     "start_time": "2021-07-27T00:20:09.041983",
     "status": "completed"
    },
    "tags": []
   },
   "outputs": [],
   "source": [
    "#hide\n",
    "# g.columns = ['date','country','cases']"
   ]
  },
  {
   "cell_type": "code",
   "execution_count": 27,
   "id": "tender-conversion",
   "metadata": {
    "execution": {
     "iopub.execute_input": "2021-07-27T00:20:09.172335Z",
     "iopub.status.busy": "2021-07-27T00:20:09.171671Z",
     "iopub.status.idle": "2021-07-27T00:20:09.174248Z",
     "shell.execute_reply": "2021-07-27T00:20:09.173737Z"
    },
    "papermill": {
     "duration": 0.046451,
     "end_time": "2021-07-27T00:20:09.174369",
     "exception": false,
     "start_time": "2021-07-27T00:20:09.127918",
     "status": "completed"
    },
    "tags": []
   },
   "outputs": [],
   "source": [
    "#hide\n",
    "# g['continent'] = g.country"
   ]
  },
  {
   "cell_type": "code",
   "execution_count": 28,
   "id": "substantial-wilderness",
   "metadata": {
    "execution": {
     "iopub.execute_input": "2021-07-27T00:20:09.262459Z",
     "iopub.status.busy": "2021-07-27T00:20:09.261789Z",
     "iopub.status.idle": "2021-07-27T00:20:09.263562Z",
     "shell.execute_reply": "2021-07-27T00:20:09.264195Z"
    },
    "papermill": {
     "duration": 0.048208,
     "end_time": "2021-07-27T00:20:09.264373",
     "exception": false,
     "start_time": "2021-07-27T00:20:09.216165",
     "status": "completed"
    },
    "tags": []
   },
   "outputs": [],
   "source": [
    "#hide\n",
    "# cols = list(g.columns.values)"
   ]
  },
  {
   "cell_type": "code",
   "execution_count": 29,
   "id": "solved-farming",
   "metadata": {
    "execution": {
     "iopub.execute_input": "2021-07-27T00:20:09.349709Z",
     "iopub.status.busy": "2021-07-27T00:20:09.349041Z",
     "iopub.status.idle": "2021-07-27T00:20:09.352510Z",
     "shell.execute_reply": "2021-07-27T00:20:09.353031Z"
    },
    "papermill": {
     "duration": 0.047291,
     "end_time": "2021-07-27T00:20:09.353168",
     "exception": false,
     "start_time": "2021-07-27T00:20:09.305877",
     "status": "completed"
    },
    "tags": []
   },
   "outputs": [],
   "source": [
    "#hide\n",
    "# cols.insert(0, cols.pop())"
   ]
  },
  {
   "cell_type": "code",
   "execution_count": 30,
   "id": "executed-adoption",
   "metadata": {
    "execution": {
     "iopub.execute_input": "2021-07-27T00:20:09.437757Z",
     "iopub.status.busy": "2021-07-27T00:20:09.437108Z",
     "iopub.status.idle": "2021-07-27T00:20:09.439721Z",
     "shell.execute_reply": "2021-07-27T00:20:09.439189Z"
    },
    "papermill": {
     "duration": 0.046603,
     "end_time": "2021-07-27T00:20:09.439843",
     "exception": false,
     "start_time": "2021-07-27T00:20:09.393240",
     "status": "completed"
    },
    "tags": []
   },
   "outputs": [],
   "source": [
    "#hide\n",
    "# g = g[cols]"
   ]
  },
  {
   "cell_type": "code",
   "execution_count": 31,
   "id": "subject-dublin",
   "metadata": {
    "execution": {
     "iopub.execute_input": "2021-07-27T00:20:09.525940Z",
     "iopub.status.busy": "2021-07-27T00:20:09.524987Z",
     "iopub.status.idle": "2021-07-27T00:20:09.528676Z",
     "shell.execute_reply": "2021-07-27T00:20:09.528087Z"
    },
    "papermill": {
     "duration": 0.04902,
     "end_time": "2021-07-27T00:20:09.528831",
     "exception": false,
     "start_time": "2021-07-27T00:20:09.479811",
     "status": "completed"
    },
    "tags": []
   },
   "outputs": [],
   "source": [
    "#hide\n",
    "# g['continent'] = g['continent'].map(mapping['map.continent'])"
   ]
  },
  {
   "cell_type": "code",
   "execution_count": 32,
   "id": "freelance-scout",
   "metadata": {
    "execution": {
     "iopub.execute_input": "2021-07-27T00:20:09.613052Z",
     "iopub.status.busy": "2021-07-27T00:20:09.612379Z",
     "iopub.status.idle": "2021-07-27T00:20:09.614452Z",
     "shell.execute_reply": "2021-07-27T00:20:09.614944Z"
    },
    "papermill": {
     "duration": 0.045275,
     "end_time": "2021-07-27T00:20:09.615078",
     "exception": false,
     "start_time": "2021-07-27T00:20:09.569803",
     "status": "completed"
    },
    "tags": []
   },
   "outputs": [],
   "source": [
    "#hide\n",
    "# g.head()"
   ]
  },
  {
   "cell_type": "code",
   "execution_count": 33,
   "id": "limited-engine",
   "metadata": {
    "execution": {
     "iopub.execute_input": "2021-07-27T00:20:09.701801Z",
     "iopub.status.busy": "2021-07-27T00:20:09.701160Z",
     "iopub.status.idle": "2021-07-27T00:20:09.703243Z",
     "shell.execute_reply": "2021-07-27T00:20:09.703919Z"
    },
    "papermill": {
     "duration": 0.048616,
     "end_time": "2021-07-27T00:20:09.704100",
     "exception": false,
     "start_time": "2021-07-27T00:20:09.655484",
     "status": "completed"
    },
    "tags": []
   },
   "outputs": [],
   "source": [
    "# hide\n",
    "# g['date'] = g['date'].astype('datetime64[ns]')"
   ]
  },
  {
   "cell_type": "code",
   "execution_count": 34,
   "id": "sophisticated-supervisor",
   "metadata": {
    "execution": {
     "iopub.execute_input": "2021-07-27T00:20:09.790572Z",
     "iopub.status.busy": "2021-07-27T00:20:09.789946Z",
     "iopub.status.idle": "2021-07-27T00:20:09.792459Z",
     "shell.execute_reply": "2021-07-27T00:20:09.791921Z"
    },
    "papermill": {
     "duration": 0.047126,
     "end_time": "2021-07-27T00:20:09.792582",
     "exception": false,
     "start_time": "2021-07-27T00:20:09.745456",
     "status": "completed"
    },
    "tags": []
   },
   "outputs": [],
   "source": [
    "#hide\n",
    "# g['date'] = g.date.dt.dayofyear"
   ]
  },
  {
   "cell_type": "code",
   "execution_count": 35,
   "id": "inside-dubai",
   "metadata": {
    "execution": {
     "iopub.execute_input": "2021-07-27T00:20:09.877697Z",
     "iopub.status.busy": "2021-07-27T00:20:09.877079Z",
     "iopub.status.idle": "2021-07-27T00:20:09.879571Z",
     "shell.execute_reply": "2021-07-27T00:20:09.879052Z"
    },
    "papermill": {
     "duration": 0.047428,
     "end_time": "2021-07-27T00:20:09.879695",
     "exception": false,
     "start_time": "2021-07-27T00:20:09.832267",
     "status": "completed"
    },
    "tags": []
   },
   "outputs": [],
   "source": [
    "#hide\n",
    "# g = g.rename(columns= {'continent':'group','country':'name','cases':'value'})"
   ]
  },
  {
   "cell_type": "code",
   "execution_count": 36,
   "id": "fleet-motorcycle",
   "metadata": {
    "execution": {
     "iopub.execute_input": "2021-07-27T00:20:09.968031Z",
     "iopub.status.busy": "2021-07-27T00:20:09.967119Z",
     "iopub.status.idle": "2021-07-27T00:20:09.970013Z",
     "shell.execute_reply": "2021-07-27T00:20:09.969395Z"
    },
    "papermill": {
     "duration": 0.049763,
     "end_time": "2021-07-27T00:20:09.970180",
     "exception": false,
     "start_time": "2021-07-27T00:20:09.920417",
     "status": "completed"
    },
    "tags": []
   },
   "outputs": [],
   "source": [
    "#hide\n",
    "# cols = ['name','group','day','value']"
   ]
  },
  {
   "cell_type": "code",
   "execution_count": 37,
   "id": "continued-sleeping",
   "metadata": {
    "execution": {
     "iopub.execute_input": "2021-07-27T00:20:10.056000Z",
     "iopub.status.busy": "2021-07-27T00:20:10.055254Z",
     "iopub.status.idle": "2021-07-27T00:20:10.057911Z",
     "shell.execute_reply": "2021-07-27T00:20:10.057354Z"
    },
    "papermill": {
     "duration": 0.048904,
     "end_time": "2021-07-27T00:20:10.058046",
     "exception": false,
     "start_time": "2021-07-27T00:20:10.009142",
     "status": "completed"
    },
    "tags": []
   },
   "outputs": [],
   "source": [
    "#hide\n",
    "# g.rename(columns= {'date':'day'},inplace = True)"
   ]
  },
  {
   "cell_type": "code",
   "execution_count": 38,
   "id": "major-fight",
   "metadata": {
    "execution": {
     "iopub.execute_input": "2021-07-27T00:20:10.149340Z",
     "iopub.status.busy": "2021-07-27T00:20:10.148691Z",
     "iopub.status.idle": "2021-07-27T00:20:10.151755Z",
     "shell.execute_reply": "2021-07-27T00:20:10.151219Z"
    },
    "papermill": {
     "duration": 0.051642,
     "end_time": "2021-07-27T00:20:10.151887",
     "exception": false,
     "start_time": "2021-07-27T00:20:10.100245",
     "status": "completed"
    },
    "tags": []
   },
   "outputs": [],
   "source": [
    "#hide\n",
    "# g = g[cols]"
   ]
  },
  {
   "cell_type": "code",
   "execution_count": 39,
   "id": "structured-mobile",
   "metadata": {
    "execution": {
     "iopub.execute_input": "2021-07-27T00:20:10.238160Z",
     "iopub.status.busy": "2021-07-27T00:20:10.237502Z",
     "iopub.status.idle": "2021-07-27T00:20:10.239114Z",
     "shell.execute_reply": "2021-07-27T00:20:10.239738Z"
    },
    "papermill": {
     "duration": 0.046528,
     "end_time": "2021-07-27T00:20:10.239882",
     "exception": false,
     "start_time": "2021-07-27T00:20:10.193354",
     "status": "completed"
    },
    "tags": []
   },
   "outputs": [],
   "source": [
    "# #hide\n",
    "# g = g[g.group.notna()]"
   ]
  },
  {
   "cell_type": "code",
   "execution_count": 40,
   "id": "determined-closing",
   "metadata": {
    "execution": {
     "iopub.execute_input": "2021-07-27T00:20:10.324562Z",
     "iopub.status.busy": "2021-07-27T00:20:10.323897Z",
     "iopub.status.idle": "2021-07-27T00:20:10.326778Z",
     "shell.execute_reply": "2021-07-27T00:20:10.326283Z"
    },
    "papermill": {
     "duration": 0.047248,
     "end_time": "2021-07-27T00:20:10.326904",
     "exception": false,
     "start_time": "2021-07-27T00:20:10.279656",
     "status": "completed"
    },
    "tags": []
   },
   "outputs": [],
   "source": [
    "# #hide\n",
    "# colors = dict(zip(\n",
    "#     [\"Oceania\", \"Europe\", \"Asia\", \"South America\", \"Middle East\", \"North America\", \"Africa\"],\n",
    "#     [\"#adb0ff\", \"#ffb3ff\", \"#90d595\", \"#e48381\", \"#aafbff\", \"#f7bb5f\", \"#eafb50\"]\n",
    "# ))\n",
    "# group_lk = g.set_index('name')['group'].to_dict()"
   ]
  },
  {
   "cell_type": "code",
   "execution_count": null,
   "id": "gross-drinking",
   "metadata": {
    "papermill": {
     "duration": 0.043669,
     "end_time": "2021-07-27T00:20:10.409409",
     "exception": false,
     "start_time": "2021-07-27T00:20:10.365740",
     "status": "completed"
    },
    "tags": []
   },
   "outputs": [],
   "source": []
  },
  {
   "cell_type": "code",
   "execution_count": 41,
   "id": "subject-macintosh",
   "metadata": {
    "execution": {
     "iopub.execute_input": "2021-07-27T00:20:10.495817Z",
     "iopub.status.busy": "2021-07-27T00:20:10.495082Z",
     "iopub.status.idle": "2021-07-27T00:20:10.497769Z",
     "shell.execute_reply": "2021-07-27T00:20:10.497118Z"
    },
    "papermill": {
     "duration": 0.048289,
     "end_time": "2021-07-27T00:20:10.497913",
     "exception": false,
     "start_time": "2021-07-27T00:20:10.449624",
     "status": "completed"
    },
    "tags": []
   },
   "outputs": [],
   "source": [
    "# #hide\n",
    "# fig, ax = plt.subplots(figsize=(15, 8))\n",
    "\n",
    "# def draw_barchart(current_day):\n",
    "#     dff = g[g['day'].eq(current_day)].sort_values(by='value', ascending=True).tail(10)\n",
    "#     ax.clear()\n",
    "#     ax.barh(dff['name'], dff['value'], color=[colors[group_lk[x]] for x in dff['name']])\n",
    "#     dx = dff['value'].max() / 200\n",
    "    \n",
    "#     for i, (value, name) in enumerate(zip(dff['value'], dff['name'])):\n",
    "#         ax.text(value-dx, i,     name,           size=14, weight=600, ha='right', va='bottom')\n",
    "#         ax.text(value-dx, i-.25, group_lk[name], size=10, color='#444444', ha='right', va='baseline')\n",
    "#         ax.text(value+dx, i,     f'{value:,.0f}',  size=14, ha='left',  va='center')\n",
    "#     ax.text(1, 0.4, current_day, transform=ax.transAxes, color='#777777', size=46, ha='right', weight=800)\n",
    "#     ax.text(0, 1.06, 'Population (thousands)', transform=ax.transAxes, size=12, color='#777777')\n",
    "#     ax.xaxis.set_major_formatter(ticker.StrMethodFormatter('{x:,.0f}'))\n",
    "#     ax.xaxis.set_ticks_position('top')\n",
    "#     ax.tick_params(axis='x', colors='#777777', labelsize=12)\n",
    "#     ax.set_yticks([])\n",
    "#     ax.margins(0, 0.01)\n",
    "#     ax.grid(which='major', axis='x', linestyle='-')\n",
    "#     ax.set_axisbelow(True)\n",
    "    \n",
    "#     ax.text(0, 1.15, 'Coronavirus',\n",
    "#             transform=ax.transAxes, size=24, weight=600, ha='left', va='top')\n",
    "# #     ax.text(1, 0, 'by @pratapvardhan; credit @jburnmurdoch', transform=ax.transAxes, color='#777777', ha='right',\n",
    "# #             bbox=dict(facecolor='white', alpha=0.8, edgecolor='white'))\n",
    "#     plt.box(False)"
   ]
  },
  {
   "cell_type": "code",
   "execution_count": 42,
   "id": "sexual-wages",
   "metadata": {
    "execution": {
     "iopub.execute_input": "2021-07-27T00:20:10.583492Z",
     "iopub.status.busy": "2021-07-27T00:20:10.582834Z",
     "iopub.status.idle": "2021-07-27T00:20:10.585987Z",
     "shell.execute_reply": "2021-07-27T00:20:10.586727Z"
    },
    "papermill": {
     "duration": 0.047974,
     "end_time": "2021-07-27T00:20:10.586877",
     "exception": false,
     "start_time": "2021-07-27T00:20:10.538903",
     "status": "completed"
    },
    "tags": []
   },
   "outputs": [],
   "source": [
    "# #hide_input\n",
    "# fig, ax = plt.subplots(figsize=(15, 8))\n",
    "# animator = animation.FuncAnimation(fig, draw_barchart, frames=range(g.day.values.min(), g.day.values.max()))\n",
    "# HTML(animator.to_jshtml())\n",
    "# # or use animator.to_html5_video() or animator.save() "
   ]
  },
  {
   "cell_type": "code",
   "execution_count": null,
   "id": "australian-container",
   "metadata": {
    "papermill": {
     "duration": 0.044224,
     "end_time": "2021-07-27T00:20:10.675436",
     "exception": false,
     "start_time": "2021-07-27T00:20:10.631212",
     "status": "completed"
    },
    "tags": []
   },
   "outputs": [],
   "source": []
  },
  {
   "cell_type": "code",
   "execution_count": null,
   "id": "mediterranean-pontiac",
   "metadata": {
    "papermill": {
     "duration": 0.038689,
     "end_time": "2021-07-27T00:20:10.757468",
     "exception": false,
     "start_time": "2021-07-27T00:20:10.718779",
     "status": "completed"
    },
    "tags": []
   },
   "outputs": [],
   "source": []
  },
  {
   "cell_type": "code",
   "execution_count": null,
   "id": "aging-legislature",
   "metadata": {
    "papermill": {
     "duration": 0.041177,
     "end_time": "2021-07-27T00:20:10.839721",
     "exception": false,
     "start_time": "2021-07-27T00:20:10.798544",
     "status": "completed"
    },
    "tags": []
   },
   "outputs": [],
   "source": []
  }
 ],
 "metadata": {
  "kernelspec": {
   "display_name": "Python 3",
   "language": "python",
   "name": "python3"
  },
  "language_info": {
   "codemirror_mode": {
    "name": "ipython",
    "version": 3
   },
   "file_extension": ".py",
   "mimetype": "text/x-python",
   "name": "python",
   "nbconvert_exporter": "python",
   "pygments_lexer": "ipython3",
   "version": "3.6.14"
  },
  "papermill": {
   "duration": 7.283756,
   "end_time": "2021-07-27T00:20:11.186665",
   "environment_variables": {},
   "exception": null,
   "input_path": "2020-03-21-covid19exp.ipynb",
   "output_path": "2020-03-21-covid19exp.ipynb",
   "parameters": {},
   "start_time": "2021-07-27T00:20:03.902909",
   "version": "2.0.0"
  }
 },
 "nbformat": 4,
 "nbformat_minor": 5
}