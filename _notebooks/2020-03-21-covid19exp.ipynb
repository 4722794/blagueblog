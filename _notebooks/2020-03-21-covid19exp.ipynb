{
 "cells": [
  {
   "cell_type": "markdown",
   "id": "muslim-click",
   "metadata": {
    "papermill": {
     "duration": 0.039697,
     "end_time": "2022-10-15T00:58:17.015258",
     "exception": false,
     "start_time": "2022-10-15T00:58:16.975561",
     "status": "completed"
    },
    "tags": []
   },
   "source": [
    "# COVID-19 Case Race\n",
    "> A race chart to see rising cases around the world\n",
    "\n",
    "- author: Hargun Oberoi\n",
    "- image: images/covid-overview.png\n",
    "- hide: false\n",
    "- badges: false"
   ]
  },
  {
   "cell_type": "code",
   "execution_count": 1,
   "id": "proof-material",
   "metadata": {
    "execution": {
     "iopub.execute_input": "2022-10-15T00:58:17.098094Z",
     "iopub.status.busy": "2022-10-15T00:58:17.097298Z",
     "iopub.status.idle": "2022-10-15T00:58:17.490084Z",
     "shell.execute_reply": "2022-10-15T00:58:17.489272Z"
    },
    "papermill": {
     "duration": 0.44076,
     "end_time": "2022-10-15T00:58:17.490242",
     "exception": false,
     "start_time": "2022-10-15T00:58:17.049482",
     "status": "completed"
    },
    "tags": []
   },
   "outputs": [],
   "source": [
    "#hide\n",
    "import numpy as np\n",
    "import pandas as pd\n",
    "from jinja2 import Template\n",
    "from IPython.display import HTML"
   ]
  },
  {
   "cell_type": "code",
   "execution_count": 2,
   "id": "developed-terminology",
   "metadata": {
    "execution": {
     "iopub.execute_input": "2022-10-15T00:58:17.563595Z",
     "iopub.status.busy": "2022-10-15T00:58:17.562872Z",
     "iopub.status.idle": "2022-10-15T00:58:17.565787Z",
     "shell.execute_reply": "2022-10-15T00:58:17.566519Z"
    },
    "papermill": {
     "duration": 0.043329,
     "end_time": "2022-10-15T00:58:17.566666",
     "exception": false,
     "start_time": "2022-10-15T00:58:17.523337",
     "status": "completed"
    },
    "tags": []
   },
   "outputs": [],
   "source": [
    "#hide\n",
    "\n",
    "# FETCH\n",
    "base_url = 'https://raw.githubusercontent.com/pratapvardhan/notebooks/master/covid19/'\n",
    "paths = {\n",
    "    'mapping': base_url + 'mapping_countries.csv',\n",
    "    'overview': base_url + 'overview.tpl'\n",
    "}"
   ]
  },
  {
   "cell_type": "code",
   "execution_count": 3,
   "id": "dynamic-saver",
   "metadata": {
    "execution": {
     "iopub.execute_input": "2022-10-15T00:58:17.647540Z",
     "iopub.status.busy": "2022-10-15T00:58:17.642917Z",
     "iopub.status.idle": "2022-10-15T00:58:17.650941Z",
     "shell.execute_reply": "2022-10-15T00:58:17.651439Z"
    },
    "papermill": {
     "duration": 0.051403,
     "end_time": "2022-10-15T00:58:17.651606",
     "exception": false,
     "start_time": "2022-10-15T00:58:17.600203",
     "status": "completed"
    },
    "tags": []
   },
   "outputs": [
    {
     "data": {
      "text/plain": [
       "'https://raw.githubusercontent.com/pratapvardhan/notebooks/master/covid19/mapping_countries.csv'"
      ]
     },
     "execution_count": 3,
     "metadata": {},
     "output_type": "execute_result"
    }
   ],
   "source": [
    "#hide\n",
    "paths['mapping']"
   ]
  },
  {
   "cell_type": "code",
   "execution_count": 4,
   "id": "urban-software",
   "metadata": {
    "execution": {
     "iopub.execute_input": "2022-10-15T00:58:17.726816Z",
     "iopub.status.busy": "2022-10-15T00:58:17.726089Z",
     "iopub.status.idle": "2022-10-15T00:58:17.728795Z",
     "shell.execute_reply": "2022-10-15T00:58:17.729354Z"
    },
    "papermill": {
     "duration": 0.044187,
     "end_time": "2022-10-15T00:58:17.729506",
     "exception": false,
     "start_time": "2022-10-15T00:58:17.685319",
     "status": "completed"
    },
    "tags": []
   },
   "outputs": [],
   "source": [
    "#hide\n",
    "def get_mappings(url):\n",
    "    df = pd.read_csv(url)\n",
    "    return {\n",
    "        'df': df,\n",
    "        'replace.country': dict(df.dropna(subset=['Name']).set_index('Country')['Name']),\n",
    "        'map.continent': dict(df.set_index('Name')['Continent'])\n",
    "    }"
   ]
  },
  {
   "cell_type": "code",
   "execution_count": 5,
   "id": "intimate-machinery",
   "metadata": {
    "execution": {
     "iopub.execute_input": "2022-10-15T00:58:17.808418Z",
     "iopub.status.busy": "2022-10-15T00:58:17.807712Z",
     "iopub.status.idle": "2022-10-15T00:58:17.836552Z",
     "shell.execute_reply": "2022-10-15T00:58:17.835971Z"
    },
    "papermill": {
     "duration": 0.070672,
     "end_time": "2022-10-15T00:58:17.836685",
     "exception": false,
     "start_time": "2022-10-15T00:58:17.766013",
     "status": "completed"
    },
    "tags": []
   },
   "outputs": [],
   "source": [
    "#hide\n",
    "mapping = get_mappings(paths['mapping'])"
   ]
  },
  {
   "cell_type": "code",
   "execution_count": 6,
   "id": "certified-tactics",
   "metadata": {
    "execution": {
     "iopub.execute_input": "2022-10-15T00:58:17.913371Z",
     "iopub.status.busy": "2022-10-15T00:58:17.912491Z",
     "iopub.status.idle": "2022-10-15T00:58:17.914640Z",
     "shell.execute_reply": "2022-10-15T00:58:17.915286Z"
    },
    "papermill": {
     "duration": 0.043879,
     "end_time": "2022-10-15T00:58:17.915464",
     "exception": false,
     "start_time": "2022-10-15T00:58:17.871585",
     "status": "completed"
    },
    "tags": []
   },
   "outputs": [],
   "source": [
    "#hide\n",
    "def get_template(path):\n",
    "    from urllib.parse import urlparse\n",
    "    if bool(urlparse(path).netloc):\n",
    "        from urllib.request import urlopen\n",
    "        return urlopen(path).read().decode('utf8')\n",
    "    return open(path).read()"
   ]
  },
  {
   "cell_type": "code",
   "execution_count": 7,
   "id": "realistic-blast",
   "metadata": {
    "execution": {
     "iopub.execute_input": "2022-10-15T00:58:17.990401Z",
     "iopub.status.busy": "2022-10-15T00:58:17.989643Z",
     "iopub.status.idle": "2022-10-15T00:58:17.992289Z",
     "shell.execute_reply": "2022-10-15T00:58:17.991627Z"
    },
    "papermill": {
     "duration": 0.043225,
     "end_time": "2022-10-15T00:58:17.992417",
     "exception": false,
     "start_time": "2022-10-15T00:58:17.949192",
     "status": "completed"
    },
    "tags": []
   },
   "outputs": [],
   "source": [
    "#hide\n",
    "def get_frame(name):\n",
    "    url = (\n",
    "        'https://raw.githubusercontent.com/CSSEGISandData/COVID-19/master/csse_covid_19_data/'\n",
    "        f'csse_covid_19_time_series/time_series_covid19_{name}_global.csv')\n",
    "    df = pd.read_csv(url)\n",
    "    # rename countries\n",
    "    df['Country/Region'] = df['Country/Region'].replace(mapping['replace.country'])\n",
    "    return df"
   ]
  },
  {
   "cell_type": "code",
   "execution_count": 8,
   "id": "affiliated-characterization",
   "metadata": {
    "execution": {
     "iopub.execute_input": "2022-10-15T00:58:18.072883Z",
     "iopub.status.busy": "2022-10-15T00:58:18.072170Z",
     "iopub.status.idle": "2022-10-15T00:58:18.075039Z",
     "shell.execute_reply": "2022-10-15T00:58:18.075691Z"
    },
    "papermill": {
     "duration": 0.047239,
     "end_time": "2022-10-15T00:58:18.075842",
     "exception": false,
     "start_time": "2022-10-15T00:58:18.028603",
     "status": "completed"
    },
    "tags": []
   },
   "outputs": [],
   "source": [
    "#hide\n",
    "def get_dates(df):\n",
    "    dt_cols = df.columns[~df.columns.isin(['Province/State', 'Country/Region', 'Lat', 'Long'])]\n",
    "    LAST_DATE_I = -1\n",
    "    # sometimes last column may be empty, then go backwards\n",
    "    for i in range(-1, -len(dt_cols), -1):\n",
    "        if not df[dt_cols[i]].fillna(0).eq(0).all():\n",
    "            LAST_DATE_I = i\n",
    "            break\n",
    "    return LAST_DATE_I, dt_cols"
   ]
  },
  {
   "cell_type": "code",
   "execution_count": 9,
   "id": "recent-optimization",
   "metadata": {
    "execution": {
     "iopub.execute_input": "2022-10-15T00:58:18.149305Z",
     "iopub.status.busy": "2022-10-15T00:58:18.148653Z",
     "iopub.status.idle": "2022-10-15T00:58:18.594349Z",
     "shell.execute_reply": "2022-10-15T00:58:18.593729Z"
    },
    "papermill": {
     "duration": 0.485728,
     "end_time": "2022-10-15T00:58:18.594484",
     "exception": false,
     "start_time": "2022-10-15T00:58:18.108756",
     "status": "completed"
    },
    "tags": []
   },
   "outputs": [],
   "source": [
    "#hide\n",
    "COL_REGION = 'Country/Region'\n",
    "# Confirmed, Recovered, Deaths\n",
    "df = get_frame('confirmed')\n",
    "# dft_: timeseries, dfc_: today country agg\n",
    "dft_cases = df\n",
    "dft_deaths = get_frame('deaths')\n",
    "dft_recovered = get_frame('recovered')\n",
    "LAST_DATE_I, dt_cols = get_dates(df)"
   ]
  },
  {
   "cell_type": "code",
   "execution_count": 10,
   "id": "absolute-copper",
   "metadata": {
    "execution": {
     "iopub.execute_input": "2022-10-15T00:58:18.669483Z",
     "iopub.status.busy": "2022-10-15T00:58:18.668772Z",
     "iopub.status.idle": "2022-10-15T00:58:18.671413Z",
     "shell.execute_reply": "2022-10-15T00:58:18.672065Z"
    },
    "papermill": {
     "duration": 0.044173,
     "end_time": "2022-10-15T00:58:18.672217",
     "exception": false,
     "start_time": "2022-10-15T00:58:18.628044",
     "status": "completed"
    },
    "tags": []
   },
   "outputs": [],
   "source": [
    "#hide\n",
    "LAST_DATE_I, dt_cols = get_dates(df)\n",
    "dt_today =dt_cols[LAST_DATE_I]\n",
    "# dt_5day = dt_cols[LAST_DATE_I - 5]\n",
    "dt_yday = dt_cols[LAST_DATE_I - 1]"
   ]
  },
  {
   "cell_type": "code",
   "execution_count": 11,
   "id": "restricted-sheriff",
   "metadata": {
    "execution": {
     "iopub.execute_input": "2022-10-15T00:58:18.747616Z",
     "iopub.status.busy": "2022-10-15T00:58:18.746936Z",
     "iopub.status.idle": "2022-10-15T00:58:18.756383Z",
     "shell.execute_reply": "2022-10-15T00:58:18.755827Z"
    },
    "papermill": {
     "duration": 0.050875,
     "end_time": "2022-10-15T00:58:18.756511",
     "exception": false,
     "start_time": "2022-10-15T00:58:18.705636",
     "status": "completed"
    },
    "tags": []
   },
   "outputs": [],
   "source": [
    "#hide\n",
    "dfc_cases = dft_cases.groupby(COL_REGION)[dt_today].sum()\n",
    "dfc_deaths = dft_deaths.groupby(COL_REGION)[dt_today].sum()\n",
    "# dfp_cases = dft_cases.groupby(COL_REGION)[dt_5day].sum()\n",
    "# dfp_deaths = dft_deaths.groupby(COL_REGION)[dt_5day].sum()\n",
    "dfp_cases = dft_cases.groupby(COL_REGION)[dt_yday].sum()\n",
    "dfp_deaths = dft_deaths.groupby(COL_REGION)[dt_yday].sum()"
   ]
  },
  {
   "cell_type": "code",
   "execution_count": 12,
   "id": "deluxe-hepatitis",
   "metadata": {
    "execution": {
     "iopub.execute_input": "2022-10-15T00:58:18.831901Z",
     "iopub.status.busy": "2022-10-15T00:58:18.831217Z",
     "iopub.status.idle": "2022-10-15T00:58:18.836734Z",
     "shell.execute_reply": "2022-10-15T00:58:18.836069Z"
    },
    "papermill": {
     "duration": 0.047034,
     "end_time": "2022-10-15T00:58:18.836865",
     "exception": false,
     "start_time": "2022-10-15T00:58:18.789831",
     "status": "completed"
    },
    "tags": []
   },
   "outputs": [],
   "source": [
    "#hide\n",
    "df_table = (pd.DataFrame(dict(Cases = dfc_cases, Deaths = dfc_deaths, PCases = dfp_cases, PDeaths = dfp_deaths))\n",
    "            .sort_values(by = ['Cases','Deaths'], ascending = [False, False])\n",
    "            .reset_index())"
   ]
  },
  {
   "cell_type": "code",
   "execution_count": 13,
   "id": "educational-chancellor",
   "metadata": {
    "execution": {
     "iopub.execute_input": "2022-10-15T00:58:18.927003Z",
     "iopub.status.busy": "2022-10-15T00:58:18.922124Z",
     "iopub.status.idle": "2022-10-15T00:58:18.931211Z",
     "shell.execute_reply": "2022-10-15T00:58:18.930688Z"
    },
    "papermill": {
     "duration": 0.061409,
     "end_time": "2022-10-15T00:58:18.931333",
     "exception": false,
     "start_time": "2022-10-15T00:58:18.869924",
     "status": "completed"
    },
    "tags": []
   },
   "outputs": [
    {
     "data": {
      "text/html": [
       "<div>\n",
       "<style scoped>\n",
       "    .dataframe tbody tr th:only-of-type {\n",
       "        vertical-align: middle;\n",
       "    }\n",
       "\n",
       "    .dataframe tbody tr th {\n",
       "        vertical-align: top;\n",
       "    }\n",
       "\n",
       "    .dataframe thead th {\n",
       "        text-align: right;\n",
       "    }\n",
       "</style>\n",
       "<table border=\"1\" class=\"dataframe\">\n",
       "  <thead>\n",
       "    <tr style=\"text-align: right;\">\n",
       "      <th></th>\n",
       "      <th>Country/Region</th>\n",
       "      <th>Cases</th>\n",
       "      <th>Deaths</th>\n",
       "      <th>PCases</th>\n",
       "      <th>PDeaths</th>\n",
       "      <th>Cases (+)</th>\n",
       "      <th>Deaths (+)</th>\n",
       "      <th>Fatality Rate</th>\n",
       "      <th>Continent</th>\n",
       "    </tr>\n",
       "  </thead>\n",
       "  <tbody>\n",
       "    <tr>\n",
       "      <th>0</th>\n",
       "      <td>US</td>\n",
       "      <td>96911257</td>\n",
       "      <td>1064798</td>\n",
       "      <td>96847331</td>\n",
       "      <td>1064145</td>\n",
       "      <td>63926</td>\n",
       "      <td>653</td>\n",
       "      <td>1.10</td>\n",
       "      <td>North America</td>\n",
       "    </tr>\n",
       "    <tr>\n",
       "      <th>1</th>\n",
       "      <td>India</td>\n",
       "      <td>44623997</td>\n",
       "      <td>528857</td>\n",
       "      <td>44621319</td>\n",
       "      <td>528847</td>\n",
       "      <td>2678</td>\n",
       "      <td>10</td>\n",
       "      <td>1.19</td>\n",
       "      <td>Asia</td>\n",
       "    </tr>\n",
       "    <tr>\n",
       "      <th>2</th>\n",
       "      <td>France</td>\n",
       "      <td>36319858</td>\n",
       "      <td>156777</td>\n",
       "      <td>36255606</td>\n",
       "      <td>156715</td>\n",
       "      <td>64252</td>\n",
       "      <td>62</td>\n",
       "      <td>0.43</td>\n",
       "      <td>Europe</td>\n",
       "    </tr>\n",
       "    <tr>\n",
       "      <th>3</th>\n",
       "      <td>Brazil</td>\n",
       "      <td>34739865</td>\n",
       "      <td>687069</td>\n",
       "      <td>34731539</td>\n",
       "      <td>686963</td>\n",
       "      <td>8326</td>\n",
       "      <td>106</td>\n",
       "      <td>1.98</td>\n",
       "      <td>South America</td>\n",
       "    </tr>\n",
       "    <tr>\n",
       "      <th>4</th>\n",
       "      <td>Germany</td>\n",
       "      <td>34517327</td>\n",
       "      <td>151260</td>\n",
       "      <td>34403129</td>\n",
       "      <td>151095</td>\n",
       "      <td>114198</td>\n",
       "      <td>165</td>\n",
       "      <td>0.44</td>\n",
       "      <td>Europe</td>\n",
       "    </tr>\n",
       "  </tbody>\n",
       "</table>\n",
       "</div>"
      ],
      "text/plain": [
       "  Country/Region     Cases   Deaths    PCases  PDeaths  Cases (+)  Deaths (+)  \\\n",
       "0             US  96911257  1064798  96847331  1064145      63926         653   \n",
       "1          India  44623997   528857  44621319   528847       2678          10   \n",
       "2         France  36319858   156777  36255606   156715      64252          62   \n",
       "3         Brazil  34739865   687069  34731539   686963       8326         106   \n",
       "4        Germany  34517327   151260  34403129   151095     114198         165   \n",
       "\n",
       "   Fatality Rate      Continent  \n",
       "0           1.10  North America  \n",
       "1           1.19           Asia  \n",
       "2           0.43         Europe  \n",
       "3           1.98  South America  \n",
       "4           0.44         Europe  "
      ]
     },
     "execution_count": 13,
     "metadata": {},
     "output_type": "execute_result"
    }
   ],
   "source": [
    "#hide\n",
    "for c in 'Cases, Deaths'.split(', '):\n",
    "    df_table[f'{c} (+)'] = (df_table[c] - df_table[f'P{c}']).clip(0)\n",
    "    #Clip ça veut dire, les chiffres negatif sont interdit\n",
    "df_table['Fatality Rate'] = (100* df_table['Deaths']/ df_table['Cases']).round(2)\n",
    "df_table['Continent'] = df_table['Country/Region'].map(mapping['map.continent'])\n",
    "df_table.head(5)"
   ]
  },
  {
   "cell_type": "code",
   "execution_count": 14,
   "id": "aboriginal-bulgaria",
   "metadata": {
    "execution": {
     "iopub.execute_input": "2022-10-15T00:58:19.005210Z",
     "iopub.status.busy": "2022-10-15T00:58:19.004441Z",
     "iopub.status.idle": "2022-10-15T00:58:19.007095Z",
     "shell.execute_reply": "2022-10-15T00:58:19.006347Z"
    },
    "papermill": {
     "duration": 0.043188,
     "end_time": "2022-10-15T00:58:19.007236",
     "exception": false,
     "start_time": "2022-10-15T00:58:18.964048",
     "status": "completed"
    },
    "tags": []
   },
   "outputs": [],
   "source": [
    "#hide\n",
    "#delete problematic countries from table\n",
    "df_table = df_table[~df_table['Country/Region'].isin(['Cape Verde', 'Cruise Ship', 'Kosovo'])]"
   ]
  },
  {
   "cell_type": "code",
   "execution_count": 15,
   "id": "fantastic-effect",
   "metadata": {
    "execution": {
     "iopub.execute_input": "2022-10-15T00:58:19.102716Z",
     "iopub.status.busy": "2022-10-15T00:58:19.086574Z",
     "iopub.status.idle": "2022-10-15T00:58:19.106137Z",
     "shell.execute_reply": "2022-10-15T00:58:19.106680Z"
    },
    "papermill": {
     "duration": 0.064759,
     "end_time": "2022-10-15T00:58:19.106830",
     "exception": false,
     "start_time": "2022-10-15T00:58:19.042071",
     "status": "completed"
    },
    "tags": []
   },
   "outputs": [
    {
     "data": {
      "text/html": [
       "<div>\n",
       "<style scoped>\n",
       "    .dataframe tbody tr th:only-of-type {\n",
       "        vertical-align: middle;\n",
       "    }\n",
       "\n",
       "    .dataframe tbody tr th {\n",
       "        vertical-align: top;\n",
       "    }\n",
       "\n",
       "    .dataframe thead th {\n",
       "        text-align: right;\n",
       "    }\n",
       "</style>\n",
       "<table border=\"1\" class=\"dataframe\">\n",
       "  <thead>\n",
       "    <tr style=\"text-align: right;\">\n",
       "      <th></th>\n",
       "      <th>Country/Region</th>\n",
       "      <th>Cases</th>\n",
       "      <th>Deaths</th>\n",
       "      <th>PCases</th>\n",
       "      <th>PDeaths</th>\n",
       "      <th>Cases (+)</th>\n",
       "      <th>Deaths (+)</th>\n",
       "      <th>Fatality Rate</th>\n",
       "      <th>Continent</th>\n",
       "    </tr>\n",
       "  </thead>\n",
       "  <tbody>\n",
       "    <tr>\n",
       "      <th>0</th>\n",
       "      <td>US</td>\n",
       "      <td>96911257</td>\n",
       "      <td>1064798</td>\n",
       "      <td>96847331</td>\n",
       "      <td>1064145</td>\n",
       "      <td>63926</td>\n",
       "      <td>653</td>\n",
       "      <td>1.1</td>\n",
       "      <td>North America</td>\n",
       "    </tr>\n",
       "    <tr>\n",
       "      <th>1</th>\n",
       "      <td>India</td>\n",
       "      <td>44623997</td>\n",
       "      <td>528857</td>\n",
       "      <td>44621319</td>\n",
       "      <td>528847</td>\n",
       "      <td>2678</td>\n",
       "      <td>10</td>\n",
       "      <td>1.2</td>\n",
       "      <td>Asia</td>\n",
       "    </tr>\n",
       "    <tr>\n",
       "      <th>2</th>\n",
       "      <td>France</td>\n",
       "      <td>36319858</td>\n",
       "      <td>156777</td>\n",
       "      <td>36255606</td>\n",
       "      <td>156715</td>\n",
       "      <td>64252</td>\n",
       "      <td>62</td>\n",
       "      <td>0.4</td>\n",
       "      <td>Europe</td>\n",
       "    </tr>\n",
       "    <tr>\n",
       "      <th>3</th>\n",
       "      <td>Brazil</td>\n",
       "      <td>34739865</td>\n",
       "      <td>687069</td>\n",
       "      <td>34731539</td>\n",
       "      <td>686963</td>\n",
       "      <td>8326</td>\n",
       "      <td>106</td>\n",
       "      <td>2.0</td>\n",
       "      <td>South America</td>\n",
       "    </tr>\n",
       "    <tr>\n",
       "      <th>4</th>\n",
       "      <td>Germany</td>\n",
       "      <td>34517327</td>\n",
       "      <td>151260</td>\n",
       "      <td>34403129</td>\n",
       "      <td>151095</td>\n",
       "      <td>114198</td>\n",
       "      <td>165</td>\n",
       "      <td>0.4</td>\n",
       "      <td>Europe</td>\n",
       "    </tr>\n",
       "  </tbody>\n",
       "</table>\n",
       "</div>"
      ],
      "text/plain": [
       "  Country/Region     Cases   Deaths    PCases  PDeaths  Cases (+)  Deaths (+)  \\\n",
       "0             US  96911257  1064798  96847331  1064145      63926         653   \n",
       "1          India  44623997   528857  44621319   528847       2678          10   \n",
       "2         France  36319858   156777  36255606   156715      64252          62   \n",
       "3         Brazil  34739865   687069  34731539   686963       8326         106   \n",
       "4        Germany  34517327   151260  34403129   151095     114198         165   \n",
       "\n",
       "   Fatality Rate      Continent  \n",
       "0            1.1  North America  \n",
       "1            1.2           Asia  \n",
       "2            0.4         Europe  \n",
       "3            2.0  South America  \n",
       "4            0.4         Europe  "
      ]
     },
     "execution_count": 15,
     "metadata": {},
     "output_type": "execute_result"
    }
   ],
   "source": [
    "#hide\n",
    "df_table = (pd.DataFrame(dict(Cases=dfc_cases, Deaths=dfc_deaths, PCases=dfp_cases, PDeaths=dfp_deaths))\n",
    "             .sort_values(by=['Cases', 'Deaths'], ascending=[False, False])\n",
    "             .reset_index())\n",
    "df_table.rename(columns={'index': 'Country/Region'}, inplace=True)\n",
    "for c in 'Cases, Deaths'.split(', '):\n",
    "    df_table[f'{c} (+)'] = (df_table[c] - df_table[f'P{c}']).clip(0)  # DATA BUG\n",
    "df_table['Fatality Rate'] = (100 * df_table['Deaths'] / df_table['Cases']).round(1)\n",
    "df_table['Continent'] = df_table['Country/Region'].map(mapping['map.continent'])\n",
    "df_table.head(5)"
   ]
  },
  {
   "cell_type": "code",
   "execution_count": 16,
   "id": "fewer-occasion",
   "metadata": {
    "execution": {
     "iopub.execute_input": "2022-10-15T00:58:19.181087Z",
     "iopub.status.busy": "2022-10-15T00:58:19.179787Z",
     "iopub.status.idle": "2022-10-15T00:58:19.184230Z",
     "shell.execute_reply": "2022-10-15T00:58:19.184725Z"
    },
    "papermill": {
     "duration": 0.04452,
     "end_time": "2022-10-15T00:58:19.184874",
     "exception": false,
     "start_time": "2022-10-15T00:58:19.140354",
     "status": "completed"
    },
    "tags": []
   },
   "outputs": [],
   "source": [
    "#hide\n",
    "#delete problematic countries from table\n",
    "df_table = df_table[~df_table['Country/Region'].isin(['Cape Verde', 'Cruise Ship', 'Kosovo'])]"
   ]
  },
  {
   "cell_type": "code",
   "execution_count": 17,
   "id": "related-center",
   "metadata": {
    "execution": {
     "iopub.execute_input": "2022-10-15T00:58:19.273565Z",
     "iopub.status.busy": "2022-10-15T00:58:19.272845Z",
     "iopub.status.idle": "2022-10-15T00:58:19.275391Z",
     "shell.execute_reply": "2022-10-15T00:58:19.275927Z"
    },
    "papermill": {
     "duration": 0.057877,
     "end_time": "2022-10-15T00:58:19.276089",
     "exception": false,
     "start_time": "2022-10-15T00:58:19.218212",
     "status": "completed"
    },
    "tags": []
   },
   "outputs": [],
   "source": [
    "#hide\n",
    "metrics = [df_table.columns[index] for index in [1,2,5,6]]\n",
    "# s_china = df_table[df_table['Country/Region'].eq('China')][metrics].sum().add_prefix('China ')\n",
    "s_us = df_table[df_table['Country/Region'].eq('US')][metrics].sum().add_prefix('US ')\n",
    "s_eu = df_table[df_table['Continent'].eq('Europe')][metrics].sum().add_prefix('EU ')\n",
    "s_ind = df_table[df_table['Country/Region'].eq('India')][metrics].sum().add_prefix('India ')\n",
    "summary = {'updated': pd.to_datetime(dt_today), 'since': pd.to_datetime(dt_yday)}\n",
    "summary = {'updated': pd.to_datetime(dt_today), 'since': pd.to_datetime(dt_yday)}\n",
    "summary = {**summary, **df_table[metrics].sum(), **s_ind, **s_us, **s_eu}"
   ]
  },
  {
   "cell_type": "code",
   "execution_count": 18,
   "id": "engaging-syndrome",
   "metadata": {
    "execution": {
     "iopub.execute_input": "2022-10-15T00:58:19.359451Z",
     "iopub.status.busy": "2022-10-15T00:58:19.348246Z",
     "iopub.status.idle": "2022-10-15T00:58:19.378559Z",
     "shell.execute_reply": "2022-10-15T00:58:19.377901Z"
    },
    "papermill": {
     "duration": 0.069834,
     "end_time": "2022-10-15T00:58:19.378699",
     "exception": false,
     "start_time": "2022-10-15T00:58:19.308865",
     "status": "completed"
    },
    "tags": []
   },
   "outputs": [],
   "source": [
    "#hide\n",
    "dft_ct_new_cases = dft_cases.groupby(COL_REGION)[dt_cols].sum().diff(axis=1).fillna(0).astype(int)"
   ]
  },
  {
   "cell_type": "code",
   "execution_count": 19,
   "id": "neutral-assignment",
   "metadata": {
    "execution": {
     "iopub.execute_input": "2022-10-15T00:58:19.457401Z",
     "iopub.status.busy": "2022-10-15T00:58:19.456719Z",
     "iopub.status.idle": "2022-10-15T00:58:19.460656Z",
     "shell.execute_reply": "2022-10-15T00:58:19.460102Z"
    },
    "papermill": {
     "duration": 0.047417,
     "end_time": "2022-10-15T00:58:19.460782",
     "exception": false,
     "start_time": "2022-10-15T00:58:19.413365",
     "status": "completed"
    },
    "tags": []
   },
   "outputs": [],
   "source": [
    "#hide\n",
    "everydaycases = dft_ct_new_cases.cumsum(axis=1)"
   ]
  },
  {
   "cell_type": "code",
   "execution_count": 20,
   "id": "parliamentary-calgary",
   "metadata": {
    "execution": {
     "iopub.execute_input": "2022-10-15T00:58:19.536724Z",
     "iopub.status.busy": "2022-10-15T00:58:19.536031Z",
     "iopub.status.idle": "2022-10-15T00:58:20.151002Z",
     "shell.execute_reply": "2022-10-15T00:58:20.150276Z"
    },
    "papermill": {
     "duration": 0.655821,
     "end_time": "2022-10-15T00:58:20.151142",
     "exception": false,
     "start_time": "2022-10-15T00:58:19.495321",
     "status": "completed"
    },
    "tags": []
   },
   "outputs": [],
   "source": [
    "#hide\n",
    "import pandas as pd\n",
    "import matplotlib.pyplot as plt\n",
    "import matplotlib.ticker as ticker\n",
    "import matplotlib.animation as animation\n",
    "from IPython.display import HTML"
   ]
  },
  {
   "cell_type": "code",
   "execution_count": 21,
   "id": "lasting-extraction",
   "metadata": {
    "execution": {
     "iopub.execute_input": "2022-10-15T00:58:20.231282Z",
     "iopub.status.busy": "2022-10-15T00:58:20.230642Z",
     "iopub.status.idle": "2022-10-15T00:58:20.239278Z",
     "shell.execute_reply": "2022-10-15T00:58:20.239804Z"
    },
    "papermill": {
     "duration": 0.054068,
     "end_time": "2022-10-15T00:58:20.239956",
     "exception": false,
     "start_time": "2022-10-15T00:58:20.185888",
     "status": "completed"
    },
    "tags": []
   },
   "outputs": [],
   "source": [
    "#hide\n",
    "t = everydaycases.stack()"
   ]
  },
  {
   "cell_type": "code",
   "execution_count": 22,
   "id": "premier-sleeve",
   "metadata": {
    "execution": {
     "iopub.execute_input": "2022-10-15T00:58:20.315101Z",
     "iopub.status.busy": "2022-10-15T00:58:20.314468Z",
     "iopub.status.idle": "2022-10-15T00:58:20.328469Z",
     "shell.execute_reply": "2022-10-15T00:58:20.327849Z"
    },
    "papermill": {
     "duration": 0.053965,
     "end_time": "2022-10-15T00:58:20.328588",
     "exception": false,
     "start_time": "2022-10-15T00:58:20.274623",
     "status": "completed"
    },
    "tags": []
   },
   "outputs": [],
   "source": [
    "#hide\n",
    "g = t.reset_index(['Country/Region'])"
   ]
  },
  {
   "cell_type": "code",
   "execution_count": 23,
   "id": "distributed-pittsburgh",
   "metadata": {
    "execution": {
     "iopub.execute_input": "2022-10-15T00:58:20.403110Z",
     "iopub.status.busy": "2022-10-15T00:58:20.401812Z",
     "iopub.status.idle": "2022-10-15T00:58:20.404093Z",
     "shell.execute_reply": "2022-10-15T00:58:20.404617Z"
    },
    "papermill": {
     "duration": 0.04232,
     "end_time": "2022-10-15T00:58:20.404757",
     "exception": false,
     "start_time": "2022-10-15T00:58:20.362437",
     "status": "completed"
    },
    "tags": []
   },
   "outputs": [],
   "source": [
    "#hide\n",
    "g.index.name = 'date'"
   ]
  },
  {
   "cell_type": "code",
   "execution_count": 24,
   "id": "naked-donor",
   "metadata": {
    "execution": {
     "iopub.execute_input": "2022-10-15T00:58:20.478527Z",
     "iopub.status.busy": "2022-10-15T00:58:20.477767Z",
     "iopub.status.idle": "2022-10-15T00:58:20.480539Z",
     "shell.execute_reply": "2022-10-15T00:58:20.479874Z"
    },
    "papermill": {
     "duration": 0.041639,
     "end_time": "2022-10-15T00:58:20.480683",
     "exception": false,
     "start_time": "2022-10-15T00:58:20.439044",
     "status": "completed"
    },
    "tags": []
   },
   "outputs": [],
   "source": [
    "# #hide\n",
    "# g = g.reset_index(['date'])"
   ]
  },
  {
   "cell_type": "code",
   "execution_count": 25,
   "id": "incomplete-mustang",
   "metadata": {
    "execution": {
     "iopub.execute_input": "2022-10-15T00:58:20.556234Z",
     "iopub.status.busy": "2022-10-15T00:58:20.555522Z",
     "iopub.status.idle": "2022-10-15T00:58:20.559122Z",
     "shell.execute_reply": "2022-10-15T00:58:20.558559Z"
    },
    "papermill": {
     "duration": 0.04346,
     "end_time": "2022-10-15T00:58:20.559251",
     "exception": false,
     "start_time": "2022-10-15T00:58:20.515791",
     "status": "completed"
    },
    "tags": []
   },
   "outputs": [],
   "source": [
    "#hide\n",
    "# g.head()"
   ]
  },
  {
   "cell_type": "code",
   "execution_count": 26,
   "id": "specific-kruger",
   "metadata": {
    "execution": {
     "iopub.execute_input": "2022-10-15T00:58:20.634033Z",
     "iopub.status.busy": "2022-10-15T00:58:20.632792Z",
     "iopub.status.idle": "2022-10-15T00:58:20.635348Z",
     "shell.execute_reply": "2022-10-15T00:58:20.636241Z"
    },
    "papermill": {
     "duration": 0.043395,
     "end_time": "2022-10-15T00:58:20.636468",
     "exception": false,
     "start_time": "2022-10-15T00:58:20.593073",
     "status": "completed"
    },
    "tags": []
   },
   "outputs": [],
   "source": [
    "#hide\n",
    "# g.columns = ['date','country','cases']"
   ]
  },
  {
   "cell_type": "code",
   "execution_count": 27,
   "id": "tender-conversion",
   "metadata": {
    "execution": {
     "iopub.execute_input": "2022-10-15T00:58:20.711016Z",
     "iopub.status.busy": "2022-10-15T00:58:20.710359Z",
     "iopub.status.idle": "2022-10-15T00:58:20.714573Z",
     "shell.execute_reply": "2022-10-15T00:58:20.714000Z"
    },
    "papermill": {
     "duration": 0.043424,
     "end_time": "2022-10-15T00:58:20.714690",
     "exception": false,
     "start_time": "2022-10-15T00:58:20.671266",
     "status": "completed"
    },
    "tags": []
   },
   "outputs": [],
   "source": [
    "#hide\n",
    "# g['continent'] = g.country"
   ]
  },
  {
   "cell_type": "code",
   "execution_count": 28,
   "id": "substantial-wilderness",
   "metadata": {
    "execution": {
     "iopub.execute_input": "2022-10-15T00:58:20.789076Z",
     "iopub.status.busy": "2022-10-15T00:58:20.787877Z",
     "iopub.status.idle": "2022-10-15T00:58:20.793054Z",
     "shell.execute_reply": "2022-10-15T00:58:20.792536Z"
    },
    "papermill": {
     "duration": 0.044466,
     "end_time": "2022-10-15T00:58:20.793201",
     "exception": false,
     "start_time": "2022-10-15T00:58:20.748735",
     "status": "completed"
    },
    "tags": []
   },
   "outputs": [],
   "source": [
    "#hide\n",
    "# cols = list(g.columns.values)"
   ]
  },
  {
   "cell_type": "code",
   "execution_count": 29,
   "id": "solved-farming",
   "metadata": {
    "execution": {
     "iopub.execute_input": "2022-10-15T00:58:20.867617Z",
     "iopub.status.busy": "2022-10-15T00:58:20.866404Z",
     "iopub.status.idle": "2022-10-15T00:58:20.868919Z",
     "shell.execute_reply": "2022-10-15T00:58:20.869816Z"
    },
    "papermill": {
     "duration": 0.042926,
     "end_time": "2022-10-15T00:58:20.870100",
     "exception": false,
     "start_time": "2022-10-15T00:58:20.827174",
     "status": "completed"
    },
    "tags": []
   },
   "outputs": [],
   "source": [
    "#hide\n",
    "# cols.insert(0, cols.pop())"
   ]
  },
  {
   "cell_type": "code",
   "execution_count": 30,
   "id": "executed-adoption",
   "metadata": {
    "execution": {
     "iopub.execute_input": "2022-10-15T00:58:20.946272Z",
     "iopub.status.busy": "2022-10-15T00:58:20.945519Z",
     "iopub.status.idle": "2022-10-15T00:58:20.948246Z",
     "shell.execute_reply": "2022-10-15T00:58:20.947694Z"
    },
    "papermill": {
     "duration": 0.041577,
     "end_time": "2022-10-15T00:58:20.948372",
     "exception": false,
     "start_time": "2022-10-15T00:58:20.906795",
     "status": "completed"
    },
    "tags": []
   },
   "outputs": [],
   "source": [
    "#hide\n",
    "# g = g[cols]"
   ]
  },
  {
   "cell_type": "code",
   "execution_count": 31,
   "id": "subject-dublin",
   "metadata": {
    "execution": {
     "iopub.execute_input": "2022-10-15T00:58:21.022827Z",
     "iopub.status.busy": "2022-10-15T00:58:21.021585Z",
     "iopub.status.idle": "2022-10-15T00:58:21.024122Z",
     "shell.execute_reply": "2022-10-15T00:58:21.024935Z"
    },
    "papermill": {
     "duration": 0.042423,
     "end_time": "2022-10-15T00:58:21.025080",
     "exception": false,
     "start_time": "2022-10-15T00:58:20.982657",
     "status": "completed"
    },
    "tags": []
   },
   "outputs": [],
   "source": [
    "#hide\n",
    "# g['continent'] = g['continent'].map(mapping['map.continent'])"
   ]
  },
  {
   "cell_type": "code",
   "execution_count": 32,
   "id": "freelance-scout",
   "metadata": {
    "execution": {
     "iopub.execute_input": "2022-10-15T00:58:21.098158Z",
     "iopub.status.busy": "2022-10-15T00:58:21.097416Z",
     "iopub.status.idle": "2022-10-15T00:58:21.100174Z",
     "shell.execute_reply": "2022-10-15T00:58:21.099438Z"
    },
    "papermill": {
     "duration": 0.041167,
     "end_time": "2022-10-15T00:58:21.100306",
     "exception": false,
     "start_time": "2022-10-15T00:58:21.059139",
     "status": "completed"
    },
    "tags": []
   },
   "outputs": [],
   "source": [
    "#hide\n",
    "# g.head()"
   ]
  },
  {
   "cell_type": "code",
   "execution_count": 33,
   "id": "limited-engine",
   "metadata": {
    "execution": {
     "iopub.execute_input": "2022-10-15T00:58:21.175332Z",
     "iopub.status.busy": "2022-10-15T00:58:21.174111Z",
     "iopub.status.idle": "2022-10-15T00:58:21.176476Z",
     "shell.execute_reply": "2022-10-15T00:58:21.177000Z"
    },
    "papermill": {
     "duration": 0.042764,
     "end_time": "2022-10-15T00:58:21.177147",
     "exception": false,
     "start_time": "2022-10-15T00:58:21.134383",
     "status": "completed"
    },
    "tags": []
   },
   "outputs": [],
   "source": [
    "# hide\n",
    "# g['date'] = g['date'].astype('datetime64[ns]')"
   ]
  },
  {
   "cell_type": "code",
   "execution_count": 34,
   "id": "sophisticated-supervisor",
   "metadata": {
    "execution": {
     "iopub.execute_input": "2022-10-15T00:58:21.253088Z",
     "iopub.status.busy": "2022-10-15T00:58:21.251894Z",
     "iopub.status.idle": "2022-10-15T00:58:21.254432Z",
     "shell.execute_reply": "2022-10-15T00:58:21.255334Z"
    },
    "papermill": {
     "duration": 0.04345,
     "end_time": "2022-10-15T00:58:21.255568",
     "exception": false,
     "start_time": "2022-10-15T00:58:21.212118",
     "status": "completed"
    },
    "tags": []
   },
   "outputs": [],
   "source": [
    "#hide\n",
    "# g['date'] = g.date.dt.dayofyear"
   ]
  },
  {
   "cell_type": "code",
   "execution_count": 35,
   "id": "inside-dubai",
   "metadata": {
    "execution": {
     "iopub.execute_input": "2022-10-15T00:58:21.329802Z",
     "iopub.status.busy": "2022-10-15T00:58:21.329132Z",
     "iopub.status.idle": "2022-10-15T00:58:21.332105Z",
     "shell.execute_reply": "2022-10-15T00:58:21.332666Z"
    },
    "papermill": {
     "duration": 0.042259,
     "end_time": "2022-10-15T00:58:21.332808",
     "exception": false,
     "start_time": "2022-10-15T00:58:21.290549",
     "status": "completed"
    },
    "tags": []
   },
   "outputs": [],
   "source": [
    "#hide\n",
    "# g = g.rename(columns= {'continent':'group','country':'name','cases':'value'})"
   ]
  },
  {
   "cell_type": "code",
   "execution_count": 36,
   "id": "fleet-motorcycle",
   "metadata": {
    "execution": {
     "iopub.execute_input": "2022-10-15T00:58:21.405397Z",
     "iopub.status.busy": "2022-10-15T00:58:21.404703Z",
     "iopub.status.idle": "2022-10-15T00:58:21.408777Z",
     "shell.execute_reply": "2022-10-15T00:58:21.409272Z"
    },
    "papermill": {
     "duration": 0.042788,
     "end_time": "2022-10-15T00:58:21.409420",
     "exception": false,
     "start_time": "2022-10-15T00:58:21.366632",
     "status": "completed"
    },
    "tags": []
   },
   "outputs": [],
   "source": [
    "#hide\n",
    "# cols = ['name','group','day','value']"
   ]
  },
  {
   "cell_type": "code",
   "execution_count": 37,
   "id": "continued-sleeping",
   "metadata": {
    "execution": {
     "iopub.execute_input": "2022-10-15T00:58:21.481193Z",
     "iopub.status.busy": "2022-10-15T00:58:21.480301Z",
     "iopub.status.idle": "2022-10-15T00:58:21.482995Z",
     "shell.execute_reply": "2022-10-15T00:58:21.482460Z"
    },
    "papermill": {
     "duration": 0.039181,
     "end_time": "2022-10-15T00:58:21.483118",
     "exception": false,
     "start_time": "2022-10-15T00:58:21.443937",
     "status": "completed"
    },
    "tags": []
   },
   "outputs": [],
   "source": [
    "#hide\n",
    "# g.rename(columns= {'date':'day'},inplace = True)"
   ]
  },
  {
   "cell_type": "code",
   "execution_count": 38,
   "id": "major-fight",
   "metadata": {
    "execution": {
     "iopub.execute_input": "2022-10-15T00:58:21.558777Z",
     "iopub.status.busy": "2022-10-15T00:58:21.557510Z",
     "iopub.status.idle": "2022-10-15T00:58:21.560128Z",
     "shell.execute_reply": "2022-10-15T00:58:21.561020Z"
    },
    "papermill": {
     "duration": 0.042738,
     "end_time": "2022-10-15T00:58:21.561254",
     "exception": false,
     "start_time": "2022-10-15T00:58:21.518516",
     "status": "completed"
    },
    "tags": []
   },
   "outputs": [],
   "source": [
    "#hide\n",
    "# g = g[cols]"
   ]
  },
  {
   "cell_type": "code",
   "execution_count": 39,
   "id": "structured-mobile",
   "metadata": {
    "execution": {
     "iopub.execute_input": "2022-10-15T00:58:21.634029Z",
     "iopub.status.busy": "2022-10-15T00:58:21.633240Z",
     "iopub.status.idle": "2022-10-15T00:58:21.637415Z",
     "shell.execute_reply": "2022-10-15T00:58:21.636903Z"
    },
    "papermill": {
     "duration": 0.041498,
     "end_time": "2022-10-15T00:58:21.637545",
     "exception": false,
     "start_time": "2022-10-15T00:58:21.596047",
     "status": "completed"
    },
    "tags": []
   },
   "outputs": [],
   "source": [
    "# #hide\n",
    "# g = g[g.group.notna()]"
   ]
  },
  {
   "cell_type": "code",
   "execution_count": 40,
   "id": "determined-closing",
   "metadata": {
    "execution": {
     "iopub.execute_input": "2022-10-15T00:58:21.712518Z",
     "iopub.status.busy": "2022-10-15T00:58:21.711345Z",
     "iopub.status.idle": "2022-10-15T00:58:21.713806Z",
     "shell.execute_reply": "2022-10-15T00:58:21.714758Z"
    },
    "papermill": {
     "duration": 0.042538,
     "end_time": "2022-10-15T00:58:21.714992",
     "exception": false,
     "start_time": "2022-10-15T00:58:21.672454",
     "status": "completed"
    },
    "tags": []
   },
   "outputs": [],
   "source": [
    "# #hide\n",
    "# colors = dict(zip(\n",
    "#     [\"Oceania\", \"Europe\", \"Asia\", \"South America\", \"Middle East\", \"North America\", \"Africa\"],\n",
    "#     [\"#adb0ff\", \"#ffb3ff\", \"#90d595\", \"#e48381\", \"#aafbff\", \"#f7bb5f\", \"#eafb50\"]\n",
    "# ))\n",
    "# group_lk = g.set_index('name')['group'].to_dict()"
   ]
  },
  {
   "cell_type": "code",
   "execution_count": null,
   "id": "gross-drinking",
   "metadata": {
    "papermill": {
     "duration": 0.033336,
     "end_time": "2022-10-15T00:58:21.782136",
     "exception": false,
     "start_time": "2022-10-15T00:58:21.748800",
     "status": "completed"
    },
    "tags": []
   },
   "outputs": [],
   "source": []
  },
  {
   "cell_type": "code",
   "execution_count": 41,
   "id": "subject-macintosh",
   "metadata": {
    "execution": {
     "iopub.execute_input": "2022-10-15T00:58:21.855232Z",
     "iopub.status.busy": "2022-10-15T00:58:21.854515Z",
     "iopub.status.idle": "2022-10-15T00:58:21.858888Z",
     "shell.execute_reply": "2022-10-15T00:58:21.859410Z"
    },
    "papermill": {
     "duration": 0.044634,
     "end_time": "2022-10-15T00:58:21.859561",
     "exception": false,
     "start_time": "2022-10-15T00:58:21.814927",
     "status": "completed"
    },
    "tags": []
   },
   "outputs": [],
   "source": [
    "# #hide\n",
    "# fig, ax = plt.subplots(figsize=(15, 8))\n",
    "\n",
    "# def draw_barchart(current_day):\n",
    "#     dff = g[g['day'].eq(current_day)].sort_values(by='value', ascending=True).tail(10)\n",
    "#     ax.clear()\n",
    "#     ax.barh(dff['name'], dff['value'], color=[colors[group_lk[x]] for x in dff['name']])\n",
    "#     dx = dff['value'].max() / 200\n",
    "    \n",
    "#     for i, (value, name) in enumerate(zip(dff['value'], dff['name'])):\n",
    "#         ax.text(value-dx, i,     name,           size=14, weight=600, ha='right', va='bottom')\n",
    "#         ax.text(value-dx, i-.25, group_lk[name], size=10, color='#444444', ha='right', va='baseline')\n",
    "#         ax.text(value+dx, i,     f'{value:,.0f}',  size=14, ha='left',  va='center')\n",
    "#     ax.text(1, 0.4, current_day, transform=ax.transAxes, color='#777777', size=46, ha='right', weight=800)\n",
    "#     ax.text(0, 1.06, 'Population (thousands)', transform=ax.transAxes, size=12, color='#777777')\n",
    "#     ax.xaxis.set_major_formatter(ticker.StrMethodFormatter('{x:,.0f}'))\n",
    "#     ax.xaxis.set_ticks_position('top')\n",
    "#     ax.tick_params(axis='x', colors='#777777', labelsize=12)\n",
    "#     ax.set_yticks([])\n",
    "#     ax.margins(0, 0.01)\n",
    "#     ax.grid(which='major', axis='x', linestyle='-')\n",
    "#     ax.set_axisbelow(True)\n",
    "    \n",
    "#     ax.text(0, 1.15, 'Coronavirus',\n",
    "#             transform=ax.transAxes, size=24, weight=600, ha='left', va='top')\n",
    "# #     ax.text(1, 0, 'by @pratapvardhan; credit @jburnmurdoch', transform=ax.transAxes, color='#777777', ha='right',\n",
    "# #             bbox=dict(facecolor='white', alpha=0.8, edgecolor='white'))\n",
    "#     plt.box(False)"
   ]
  },
  {
   "cell_type": "code",
   "execution_count": 42,
   "id": "sexual-wages",
   "metadata": {
    "execution": {
     "iopub.execute_input": "2022-10-15T00:58:21.932471Z",
     "iopub.status.busy": "2022-10-15T00:58:21.931615Z",
     "iopub.status.idle": "2022-10-15T00:58:21.934191Z",
     "shell.execute_reply": "2022-10-15T00:58:21.933361Z"
    },
    "papermill": {
     "duration": 0.041171,
     "end_time": "2022-10-15T00:58:21.934346",
     "exception": false,
     "start_time": "2022-10-15T00:58:21.893175",
     "status": "completed"
    },
    "tags": []
   },
   "outputs": [],
   "source": [
    "# #hide_input\n",
    "# fig, ax = plt.subplots(figsize=(15, 8))\n",
    "# animator = animation.FuncAnimation(fig, draw_barchart, frames=range(g.day.values.min(), g.day.values.max()))\n",
    "# HTML(animator.to_jshtml())\n",
    "# # or use animator.to_html5_video() or animator.save() "
   ]
  },
  {
   "cell_type": "code",
   "execution_count": null,
   "id": "australian-container",
   "metadata": {
    "papermill": {
     "duration": 0.035902,
     "end_time": "2022-10-15T00:58:22.006166",
     "exception": false,
     "start_time": "2022-10-15T00:58:21.970264",
     "status": "completed"
    },
    "tags": []
   },
   "outputs": [],
   "source": []
  },
  {
   "cell_type": "code",
   "execution_count": null,
   "id": "mediterranean-pontiac",
   "metadata": {
    "papermill": {
     "duration": 0.035594,
     "end_time": "2022-10-15T00:58:22.078426",
     "exception": false,
     "start_time": "2022-10-15T00:58:22.042832",
     "status": "completed"
    },
    "tags": []
   },
   "outputs": [],
   "source": []
  },
  {
   "cell_type": "code",
   "execution_count": null,
   "id": "aging-legislature",
   "metadata": {
    "papermill": {
     "duration": 0.035789,
     "end_time": "2022-10-15T00:58:22.149324",
     "exception": false,
     "start_time": "2022-10-15T00:58:22.113535",
     "status": "completed"
    },
    "tags": []
   },
   "outputs": [],
   "source": []
  }
 ],
 "metadata": {
  "kernelspec": {
   "display_name": "Python 3",
   "language": "python",
   "name": "python3"
  },
  "language_info": {
   "codemirror_mode": {
    "name": "ipython",
    "version": 3
   },
   "file_extension": ".py",
   "mimetype": "text/x-python",
   "name": "python",
   "nbconvert_exporter": "python",
   "pygments_lexer": "ipython3",
   "version": "3.6.15"
  },
  "papermill": {
   "duration": 6.936874,
   "end_time": "2022-10-15T00:58:22.604989",
   "environment_variables": {},
   "exception": null,
   "input_path": "2020-03-21-covid19exp.ipynb",
   "output_path": "2020-03-21-covid19exp.ipynb",
   "parameters": {},
   "start_time": "2022-10-15T00:58:15.668115",
   "version": "2.0.0"
  }
 },
 "nbformat": 4,
 "nbformat_minor": 5
}