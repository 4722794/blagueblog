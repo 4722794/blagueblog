{
 "cells": [
  {
   "cell_type": "markdown",
   "id": "muslim-click",
   "metadata": {
    "papermill": {
     "duration": 0.045468,
     "end_time": "2021-02-20T12:07:07.060424",
     "exception": false,
     "start_time": "2021-02-20T12:07:07.014956",
     "status": "completed"
    },
    "tags": []
   },
   "source": [
    "# COVID-19 Case Race\n",
    "> A race chart to see rising cases around the world\n",
    "\n",
    "- author: Hargun Oberoi\n",
    "- image: images/covid-overview.png\n",
    "- hide: false\n",
    "- badges: false"
   ]
  },
  {
   "cell_type": "code",
   "execution_count": 1,
   "id": "proof-material",
   "metadata": {
    "execution": {
     "iopub.execute_input": "2021-02-20T12:07:07.151925Z",
     "iopub.status.busy": "2021-02-20T12:07:07.151217Z",
     "iopub.status.idle": "2021-02-20T12:07:07.546962Z",
     "shell.execute_reply": "2021-02-20T12:07:07.546313Z"
    },
    "papermill": {
     "duration": 0.44625,
     "end_time": "2021-02-20T12:07:07.547131",
     "exception": false,
     "start_time": "2021-02-20T12:07:07.100881",
     "status": "completed"
    },
    "tags": []
   },
   "outputs": [],
   "source": [
    "#hide\n",
    "import numpy as np\n",
    "import pandas as pd\n",
    "from jinja2 import Template\n",
    "from IPython.display import HTML"
   ]
  },
  {
   "cell_type": "code",
   "execution_count": 2,
   "id": "developed-terminology",
   "metadata": {
    "execution": {
     "iopub.execute_input": "2021-02-20T12:07:07.635607Z",
     "iopub.status.busy": "2021-02-20T12:07:07.634574Z",
     "iopub.status.idle": "2021-02-20T12:07:07.636904Z",
     "shell.execute_reply": "2021-02-20T12:07:07.637500Z"
    },
    "papermill": {
     "duration": 0.050544,
     "end_time": "2021-02-20T12:07:07.637675",
     "exception": false,
     "start_time": "2021-02-20T12:07:07.587131",
     "status": "completed"
    },
    "tags": []
   },
   "outputs": [],
   "source": [
    "#hide\n",
    "\n",
    "# FETCH\n",
    "base_url = 'https://raw.githubusercontent.com/pratapvardhan/notebooks/master/covid19/'\n",
    "paths = {\n",
    "    'mapping': base_url + 'mapping_countries.csv',\n",
    "    'overview': base_url + 'overview.tpl'\n",
    "}"
   ]
  },
  {
   "cell_type": "code",
   "execution_count": 3,
   "id": "dynamic-saver",
   "metadata": {
    "execution": {
     "iopub.execute_input": "2021-02-20T12:07:07.730202Z",
     "iopub.status.busy": "2021-02-20T12:07:07.729508Z",
     "iopub.status.idle": "2021-02-20T12:07:07.736516Z",
     "shell.execute_reply": "2021-02-20T12:07:07.735900Z"
    },
    "papermill": {
     "duration": 0.057661,
     "end_time": "2021-02-20T12:07:07.736651",
     "exception": false,
     "start_time": "2021-02-20T12:07:07.678990",
     "status": "completed"
    },
    "tags": []
   },
   "outputs": [
    {
     "data": {
      "text/plain": [
       "'https://raw.githubusercontent.com/pratapvardhan/notebooks/master/covid19/mapping_countries.csv'"
      ]
     },
     "execution_count": 3,
     "metadata": {},
     "output_type": "execute_result"
    }
   ],
   "source": [
    "#hide\n",
    "paths['mapping']"
   ]
  },
  {
   "cell_type": "code",
   "execution_count": 4,
   "id": "urban-software",
   "metadata": {
    "execution": {
     "iopub.execute_input": "2021-02-20T12:07:07.824137Z",
     "iopub.status.busy": "2021-02-20T12:07:07.823410Z",
     "iopub.status.idle": "2021-02-20T12:07:07.825149Z",
     "shell.execute_reply": "2021-02-20T12:07:07.825735Z"
    },
    "papermill": {
     "duration": 0.048201,
     "end_time": "2021-02-20T12:07:07.825909",
     "exception": false,
     "start_time": "2021-02-20T12:07:07.777708",
     "status": "completed"
    },
    "tags": []
   },
   "outputs": [],
   "source": [
    "#hide\n",
    "def get_mappings(url):\n",
    "    df = pd.read_csv(url)\n",
    "    return {\n",
    "        'df': df,\n",
    "        'replace.country': dict(df.dropna(subset=['Name']).set_index('Country')['Name']),\n",
    "        'map.continent': dict(df.set_index('Name')['Continent'])\n",
    "    }"
   ]
  },
  {
   "cell_type": "code",
   "execution_count": 5,
   "id": "intimate-machinery",
   "metadata": {
    "execution": {
     "iopub.execute_input": "2021-02-20T12:07:07.910170Z",
     "iopub.status.busy": "2021-02-20T12:07:07.909485Z",
     "iopub.status.idle": "2021-02-20T12:07:07.939772Z",
     "shell.execute_reply": "2021-02-20T12:07:07.940339Z"
    },
    "papermill": {
     "duration": 0.075339,
     "end_time": "2021-02-20T12:07:07.940497",
     "exception": false,
     "start_time": "2021-02-20T12:07:07.865158",
     "status": "completed"
    },
    "tags": []
   },
   "outputs": [],
   "source": [
    "#hide\n",
    "mapping = get_mappings(paths['mapping'])"
   ]
  },
  {
   "cell_type": "code",
   "execution_count": 6,
   "id": "certified-tactics",
   "metadata": {
    "execution": {
     "iopub.execute_input": "2021-02-20T12:07:08.028209Z",
     "iopub.status.busy": "2021-02-20T12:07:08.027515Z",
     "iopub.status.idle": "2021-02-20T12:07:08.029929Z",
     "shell.execute_reply": "2021-02-20T12:07:08.029381Z"
    },
    "papermill": {
     "duration": 0.04774,
     "end_time": "2021-02-20T12:07:08.030078",
     "exception": false,
     "start_time": "2021-02-20T12:07:07.982338",
     "status": "completed"
    },
    "tags": []
   },
   "outputs": [],
   "source": [
    "#hide\n",
    "def get_template(path):\n",
    "    from urllib.parse import urlparse\n",
    "    if bool(urlparse(path).netloc):\n",
    "        from urllib.request import urlopen\n",
    "        return urlopen(path).read().decode('utf8')\n",
    "    return open(path).read()"
   ]
  },
  {
   "cell_type": "code",
   "execution_count": 7,
   "id": "realistic-blast",
   "metadata": {
    "execution": {
     "iopub.execute_input": "2021-02-20T12:07:08.113869Z",
     "iopub.status.busy": "2021-02-20T12:07:08.113087Z",
     "iopub.status.idle": "2021-02-20T12:07:08.115762Z",
     "shell.execute_reply": "2021-02-20T12:07:08.116429Z"
    },
    "papermill": {
     "duration": 0.047019,
     "end_time": "2021-02-20T12:07:08.116583",
     "exception": false,
     "start_time": "2021-02-20T12:07:08.069564",
     "status": "completed"
    },
    "tags": []
   },
   "outputs": [],
   "source": [
    "#hide\n",
    "def get_frame(name):\n",
    "    url = (\n",
    "        'https://raw.githubusercontent.com/CSSEGISandData/COVID-19/master/csse_covid_19_data/'\n",
    "        f'csse_covid_19_time_series/time_series_covid19_{name}_global.csv')\n",
    "    df = pd.read_csv(url)\n",
    "    # rename countries\n",
    "    df['Country/Region'] = df['Country/Region'].replace(mapping['replace.country'])\n",
    "    return df"
   ]
  },
  {
   "cell_type": "code",
   "execution_count": 8,
   "id": "affiliated-characterization",
   "metadata": {
    "execution": {
     "iopub.execute_input": "2021-02-20T12:07:08.197190Z",
     "iopub.status.busy": "2021-02-20T12:07:08.196243Z",
     "iopub.status.idle": "2021-02-20T12:07:08.202319Z",
     "shell.execute_reply": "2021-02-20T12:07:08.201760Z"
    },
    "papermill": {
     "duration": 0.04804,
     "end_time": "2021-02-20T12:07:08.202518",
     "exception": false,
     "start_time": "2021-02-20T12:07:08.154478",
     "status": "completed"
    },
    "tags": []
   },
   "outputs": [],
   "source": [
    "#hide\n",
    "def get_dates(df):\n",
    "    dt_cols = df.columns[~df.columns.isin(['Province/State', 'Country/Region', 'Lat', 'Long'])]\n",
    "    LAST_DATE_I = -1\n",
    "    # sometimes last column may be empty, then go backwards\n",
    "    for i in range(-1, -len(dt_cols), -1):\n",
    "        if not df[dt_cols[i]].fillna(0).eq(0).all():\n",
    "            LAST_DATE_I = i\n",
    "            break\n",
    "    return LAST_DATE_I, dt_cols"
   ]
  },
  {
   "cell_type": "code",
   "execution_count": 9,
   "id": "recent-optimization",
   "metadata": {
    "execution": {
     "iopub.execute_input": "2021-02-20T12:07:08.286602Z",
     "iopub.status.busy": "2021-02-20T12:07:08.285903Z",
     "iopub.status.idle": "2021-02-20T12:07:08.611191Z",
     "shell.execute_reply": "2021-02-20T12:07:08.610599Z"
    },
    "papermill": {
     "duration": 0.36956,
     "end_time": "2021-02-20T12:07:08.611357",
     "exception": false,
     "start_time": "2021-02-20T12:07:08.241797",
     "status": "completed"
    },
    "tags": []
   },
   "outputs": [],
   "source": [
    "#hide\n",
    "COL_REGION = 'Country/Region'\n",
    "# Confirmed, Recovered, Deaths\n",
    "df = get_frame('confirmed')\n",
    "# dft_: timeseries, dfc_: today country agg\n",
    "dft_cases = df\n",
    "dft_deaths = get_frame('deaths')\n",
    "dft_recovered = get_frame('recovered')\n",
    "LAST_DATE_I, dt_cols = get_dates(df)"
   ]
  },
  {
   "cell_type": "code",
   "execution_count": 10,
   "id": "absolute-copper",
   "metadata": {
    "execution": {
     "iopub.execute_input": "2021-02-20T12:07:08.699224Z",
     "iopub.status.busy": "2021-02-20T12:07:08.698501Z",
     "iopub.status.idle": "2021-02-20T12:07:08.700541Z",
     "shell.execute_reply": "2021-02-20T12:07:08.701163Z"
    },
    "papermill": {
     "duration": 0.048859,
     "end_time": "2021-02-20T12:07:08.701330",
     "exception": false,
     "start_time": "2021-02-20T12:07:08.652471",
     "status": "completed"
    },
    "tags": []
   },
   "outputs": [],
   "source": [
    "#hide\n",
    "LAST_DATE_I, dt_cols = get_dates(df)\n",
    "dt_today =dt_cols[LAST_DATE_I]\n",
    "# dt_5day = dt_cols[LAST_DATE_I - 5]\n",
    "dt_yday = dt_cols[LAST_DATE_I - 1]"
   ]
  },
  {
   "cell_type": "code",
   "execution_count": 11,
   "id": "restricted-sheriff",
   "metadata": {
    "execution": {
     "iopub.execute_input": "2021-02-20T12:07:08.788826Z",
     "iopub.status.busy": "2021-02-20T12:07:08.788120Z",
     "iopub.status.idle": "2021-02-20T12:07:08.798280Z",
     "shell.execute_reply": "2021-02-20T12:07:08.798835Z"
    },
    "papermill": {
     "duration": 0.056956,
     "end_time": "2021-02-20T12:07:08.799031",
     "exception": false,
     "start_time": "2021-02-20T12:07:08.742075",
     "status": "completed"
    },
    "tags": []
   },
   "outputs": [],
   "source": [
    "#hide\n",
    "dfc_cases = dft_cases.groupby(COL_REGION)[dt_today].sum()\n",
    "dfc_deaths = dft_deaths.groupby(COL_REGION)[dt_today].sum()\n",
    "# dfp_cases = dft_cases.groupby(COL_REGION)[dt_5day].sum()\n",
    "# dfp_deaths = dft_deaths.groupby(COL_REGION)[dt_5day].sum()\n",
    "dfp_cases = dft_cases.groupby(COL_REGION)[dt_yday].sum()\n",
    "dfp_deaths = dft_deaths.groupby(COL_REGION)[dt_yday].sum()"
   ]
  },
  {
   "cell_type": "code",
   "execution_count": 12,
   "id": "deluxe-hepatitis",
   "metadata": {
    "execution": {
     "iopub.execute_input": "2021-02-20T12:07:08.887593Z",
     "iopub.status.busy": "2021-02-20T12:07:08.886892Z",
     "iopub.status.idle": "2021-02-20T12:07:08.891991Z",
     "shell.execute_reply": "2021-02-20T12:07:08.892631Z"
    },
    "papermill": {
     "duration": 0.053251,
     "end_time": "2021-02-20T12:07:08.892794",
     "exception": false,
     "start_time": "2021-02-20T12:07:08.839543",
     "status": "completed"
    },
    "tags": []
   },
   "outputs": [],
   "source": [
    "#hide\n",
    "df_table = (pd.DataFrame(dict(Cases = dfc_cases, Deaths = dfc_deaths, PCases = dfp_cases, PDeaths = dfp_deaths))\n",
    "            .sort_values(by = ['Cases','Deaths'], ascending = [False, False])\n",
    "            .reset_index())"
   ]
  },
  {
   "cell_type": "code",
   "execution_count": 13,
   "id": "educational-chancellor",
   "metadata": {
    "execution": {
     "iopub.execute_input": "2021-02-20T12:07:08.991132Z",
     "iopub.status.busy": "2021-02-20T12:07:08.990351Z",
     "iopub.status.idle": "2021-02-20T12:07:09.002541Z",
     "shell.execute_reply": "2021-02-20T12:07:09.003235Z"
    },
    "papermill": {
     "duration": 0.071181,
     "end_time": "2021-02-20T12:07:09.003434",
     "exception": false,
     "start_time": "2021-02-20T12:07:08.932253",
     "status": "completed"
    },
    "tags": []
   },
   "outputs": [
    {
     "data": {
      "text/html": [
       "<div>\n",
       "<style scoped>\n",
       "    .dataframe tbody tr th:only-of-type {\n",
       "        vertical-align: middle;\n",
       "    }\n",
       "\n",
       "    .dataframe tbody tr th {\n",
       "        vertical-align: top;\n",
       "    }\n",
       "\n",
       "    .dataframe thead th {\n",
       "        text-align: right;\n",
       "    }\n",
       "</style>\n",
       "<table border=\"1\" class=\"dataframe\">\n",
       "  <thead>\n",
       "    <tr style=\"text-align: right;\">\n",
       "      <th></th>\n",
       "      <th>Country/Region</th>\n",
       "      <th>Cases</th>\n",
       "      <th>Deaths</th>\n",
       "      <th>PCases</th>\n",
       "      <th>PDeaths</th>\n",
       "      <th>Cases (+)</th>\n",
       "      <th>Deaths (+)</th>\n",
       "      <th>Fatality Rate</th>\n",
       "      <th>Continent</th>\n",
       "    </tr>\n",
       "  </thead>\n",
       "  <tbody>\n",
       "    <tr>\n",
       "      <th>0</th>\n",
       "      <td>US</td>\n",
       "      <td>28006110</td>\n",
       "      <td>495804</td>\n",
       "      <td>27896040</td>\n",
       "      <td>493098</td>\n",
       "      <td>110070</td>\n",
       "      <td>2706</td>\n",
       "      <td>1.77</td>\n",
       "      <td>North America</td>\n",
       "    </tr>\n",
       "    <tr>\n",
       "      <th>1</th>\n",
       "      <td>India</td>\n",
       "      <td>10977387</td>\n",
       "      <td>156212</td>\n",
       "      <td>10963394</td>\n",
       "      <td>156111</td>\n",
       "      <td>13993</td>\n",
       "      <td>101</td>\n",
       "      <td>1.42</td>\n",
       "      <td>Asia</td>\n",
       "    </tr>\n",
       "    <tr>\n",
       "      <th>2</th>\n",
       "      <td>Brazil</td>\n",
       "      <td>10084208</td>\n",
       "      <td>244737</td>\n",
       "      <td>10030626</td>\n",
       "      <td>243457</td>\n",
       "      <td>53582</td>\n",
       "      <td>1280</td>\n",
       "      <td>2.43</td>\n",
       "      <td>South America</td>\n",
       "    </tr>\n",
       "    <tr>\n",
       "      <th>3</th>\n",
       "      <td>United Kingdom</td>\n",
       "      <td>4107286</td>\n",
       "      <td>120147</td>\n",
       "      <td>4095187</td>\n",
       "      <td>119614</td>\n",
       "      <td>12099</td>\n",
       "      <td>533</td>\n",
       "      <td>2.93</td>\n",
       "      <td>Europe</td>\n",
       "    </tr>\n",
       "    <tr>\n",
       "      <th>4</th>\n",
       "      <td>Russia</td>\n",
       "      <td>4092649</td>\n",
       "      <td>81048</td>\n",
       "      <td>4079407</td>\n",
       "      <td>80587</td>\n",
       "      <td>13242</td>\n",
       "      <td>461</td>\n",
       "      <td>1.98</td>\n",
       "      <td>Europe</td>\n",
       "    </tr>\n",
       "  </tbody>\n",
       "</table>\n",
       "</div>"
      ],
      "text/plain": [
       "   Country/Region     Cases  Deaths    PCases  PDeaths  Cases (+)  Deaths (+)  \\\n",
       "0              US  28006110  495804  27896040   493098     110070        2706   \n",
       "1           India  10977387  156212  10963394   156111      13993         101   \n",
       "2          Brazil  10084208  244737  10030626   243457      53582        1280   \n",
       "3  United Kingdom   4107286  120147   4095187   119614      12099         533   \n",
       "4          Russia   4092649   81048   4079407    80587      13242         461   \n",
       "\n",
       "   Fatality Rate      Continent  \n",
       "0           1.77  North America  \n",
       "1           1.42           Asia  \n",
       "2           2.43  South America  \n",
       "3           2.93         Europe  \n",
       "4           1.98         Europe  "
      ]
     },
     "execution_count": 13,
     "metadata": {},
     "output_type": "execute_result"
    }
   ],
   "source": [
    "#hide\n",
    "for c in 'Cases, Deaths'.split(', '):\n",
    "    df_table[f'{c} (+)'] = (df_table[c] - df_table[f'P{c}']).clip(0)\n",
    "    #Clip ça veut dire, les chiffres negatif sont interdit\n",
    "df_table['Fatality Rate'] = (100* df_table['Deaths']/ df_table['Cases']).round(2)\n",
    "df_table['Continent'] = df_table['Country/Region'].map(mapping['map.continent'])\n",
    "df_table.head(5)"
   ]
  },
  {
   "cell_type": "code",
   "execution_count": 14,
   "id": "aboriginal-bulgaria",
   "metadata": {
    "execution": {
     "iopub.execute_input": "2021-02-20T12:07:09.090795Z",
     "iopub.status.busy": "2021-02-20T12:07:09.090046Z",
     "iopub.status.idle": "2021-02-20T12:07:09.093423Z",
     "shell.execute_reply": "2021-02-20T12:07:09.093986Z"
    },
    "papermill": {
     "duration": 0.050431,
     "end_time": "2021-02-20T12:07:09.094168",
     "exception": false,
     "start_time": "2021-02-20T12:07:09.043737",
     "status": "completed"
    },
    "tags": []
   },
   "outputs": [],
   "source": [
    "#hide\n",
    "#delete problematic countries from table\n",
    "df_table = df_table[~df_table['Country/Region'].isin(['Cape Verde', 'Cruise Ship', 'Kosovo'])]"
   ]
  },
  {
   "cell_type": "code",
   "execution_count": 15,
   "id": "fantastic-effect",
   "metadata": {
    "execution": {
     "iopub.execute_input": "2021-02-20T12:07:09.182177Z",
     "iopub.status.busy": "2021-02-20T12:07:09.181498Z",
     "iopub.status.idle": "2021-02-20T12:07:09.203885Z",
     "shell.execute_reply": "2021-02-20T12:07:09.204504Z"
    },
    "papermill": {
     "duration": 0.071168,
     "end_time": "2021-02-20T12:07:09.204671",
     "exception": false,
     "start_time": "2021-02-20T12:07:09.133503",
     "status": "completed"
    },
    "tags": []
   },
   "outputs": [
    {
     "data": {
      "text/html": [
       "<div>\n",
       "<style scoped>\n",
       "    .dataframe tbody tr th:only-of-type {\n",
       "        vertical-align: middle;\n",
       "    }\n",
       "\n",
       "    .dataframe tbody tr th {\n",
       "        vertical-align: top;\n",
       "    }\n",
       "\n",
       "    .dataframe thead th {\n",
       "        text-align: right;\n",
       "    }\n",
       "</style>\n",
       "<table border=\"1\" class=\"dataframe\">\n",
       "  <thead>\n",
       "    <tr style=\"text-align: right;\">\n",
       "      <th></th>\n",
       "      <th>Country/Region</th>\n",
       "      <th>Cases</th>\n",
       "      <th>Deaths</th>\n",
       "      <th>PCases</th>\n",
       "      <th>PDeaths</th>\n",
       "      <th>Cases (+)</th>\n",
       "      <th>Deaths (+)</th>\n",
       "      <th>Fatality Rate</th>\n",
       "      <th>Continent</th>\n",
       "    </tr>\n",
       "  </thead>\n",
       "  <tbody>\n",
       "    <tr>\n",
       "      <th>0</th>\n",
       "      <td>US</td>\n",
       "      <td>28006110</td>\n",
       "      <td>495804</td>\n",
       "      <td>27896040</td>\n",
       "      <td>493098</td>\n",
       "      <td>110070</td>\n",
       "      <td>2706</td>\n",
       "      <td>1.8</td>\n",
       "      <td>North America</td>\n",
       "    </tr>\n",
       "    <tr>\n",
       "      <th>1</th>\n",
       "      <td>India</td>\n",
       "      <td>10977387</td>\n",
       "      <td>156212</td>\n",
       "      <td>10963394</td>\n",
       "      <td>156111</td>\n",
       "      <td>13993</td>\n",
       "      <td>101</td>\n",
       "      <td>1.4</td>\n",
       "      <td>Asia</td>\n",
       "    </tr>\n",
       "    <tr>\n",
       "      <th>2</th>\n",
       "      <td>Brazil</td>\n",
       "      <td>10084208</td>\n",
       "      <td>244737</td>\n",
       "      <td>10030626</td>\n",
       "      <td>243457</td>\n",
       "      <td>53582</td>\n",
       "      <td>1280</td>\n",
       "      <td>2.4</td>\n",
       "      <td>South America</td>\n",
       "    </tr>\n",
       "    <tr>\n",
       "      <th>3</th>\n",
       "      <td>United Kingdom</td>\n",
       "      <td>4107286</td>\n",
       "      <td>120147</td>\n",
       "      <td>4095187</td>\n",
       "      <td>119614</td>\n",
       "      <td>12099</td>\n",
       "      <td>533</td>\n",
       "      <td>2.9</td>\n",
       "      <td>Europe</td>\n",
       "    </tr>\n",
       "    <tr>\n",
       "      <th>4</th>\n",
       "      <td>Russia</td>\n",
       "      <td>4092649</td>\n",
       "      <td>81048</td>\n",
       "      <td>4079407</td>\n",
       "      <td>80587</td>\n",
       "      <td>13242</td>\n",
       "      <td>461</td>\n",
       "      <td>2.0</td>\n",
       "      <td>Europe</td>\n",
       "    </tr>\n",
       "  </tbody>\n",
       "</table>\n",
       "</div>"
      ],
      "text/plain": [
       "   Country/Region     Cases  Deaths    PCases  PDeaths  Cases (+)  Deaths (+)  \\\n",
       "0              US  28006110  495804  27896040   493098     110070        2706   \n",
       "1           India  10977387  156212  10963394   156111      13993         101   \n",
       "2          Brazil  10084208  244737  10030626   243457      53582        1280   \n",
       "3  United Kingdom   4107286  120147   4095187   119614      12099         533   \n",
       "4          Russia   4092649   81048   4079407    80587      13242         461   \n",
       "\n",
       "   Fatality Rate      Continent  \n",
       "0            1.8  North America  \n",
       "1            1.4           Asia  \n",
       "2            2.4  South America  \n",
       "3            2.9         Europe  \n",
       "4            2.0         Europe  "
      ]
     },
     "execution_count": 15,
     "metadata": {},
     "output_type": "execute_result"
    }
   ],
   "source": [
    "#hide\n",
    "df_table = (pd.DataFrame(dict(Cases=dfc_cases, Deaths=dfc_deaths, PCases=dfp_cases, PDeaths=dfp_deaths))\n",
    "             .sort_values(by=['Cases', 'Deaths'], ascending=[False, False])\n",
    "             .reset_index())\n",
    "df_table.rename(columns={'index': 'Country/Region'}, inplace=True)\n",
    "for c in 'Cases, Deaths'.split(', '):\n",
    "    df_table[f'{c} (+)'] = (df_table[c] - df_table[f'P{c}']).clip(0)  # DATA BUG\n",
    "df_table['Fatality Rate'] = (100 * df_table['Deaths'] / df_table['Cases']).round(1)\n",
    "df_table['Continent'] = df_table['Country/Region'].map(mapping['map.continent'])\n",
    "df_table.head(5)"
   ]
  },
  {
   "cell_type": "code",
   "execution_count": 16,
   "id": "fewer-occasion",
   "metadata": {
    "execution": {
     "iopub.execute_input": "2021-02-20T12:07:09.293681Z",
     "iopub.status.busy": "2021-02-20T12:07:09.292749Z",
     "iopub.status.idle": "2021-02-20T12:07:09.294875Z",
     "shell.execute_reply": "2021-02-20T12:07:09.295513Z"
    },
    "papermill": {
     "duration": 0.054048,
     "end_time": "2021-02-20T12:07:09.295746",
     "exception": false,
     "start_time": "2021-02-20T12:07:09.241698",
     "status": "completed"
    },
    "tags": []
   },
   "outputs": [],
   "source": [
    "#hide\n",
    "#delete problematic countries from table\n",
    "df_table = df_table[~df_table['Country/Region'].isin(['Cape Verde', 'Cruise Ship', 'Kosovo'])]"
   ]
  },
  {
   "cell_type": "code",
   "execution_count": 17,
   "id": "related-center",
   "metadata": {
    "execution": {
     "iopub.execute_input": "2021-02-20T12:07:09.402222Z",
     "iopub.status.busy": "2021-02-20T12:07:09.401511Z",
     "iopub.status.idle": "2021-02-20T12:07:09.407408Z",
     "shell.execute_reply": "2021-02-20T12:07:09.406819Z"
    },
    "papermill": {
     "duration": 0.069694,
     "end_time": "2021-02-20T12:07:09.407563",
     "exception": false,
     "start_time": "2021-02-20T12:07:09.337869",
     "status": "completed"
    },
    "tags": []
   },
   "outputs": [],
   "source": [
    "#hide\n",
    "metrics = [df_table.columns[index] for index in [1,2,5,6]]\n",
    "# s_china = df_table[df_table['Country/Region'].eq('China')][metrics].sum().add_prefix('China ')\n",
    "s_us = df_table[df_table['Country/Region'].eq('US')][metrics].sum().add_prefix('US ')\n",
    "s_eu = df_table[df_table['Continent'].eq('Europe')][metrics].sum().add_prefix('EU ')\n",
    "s_ind = df_table[df_table['Country/Region'].eq('India')][metrics].sum().add_prefix('India ')\n",
    "summary = {'updated': pd.to_datetime(dt_today), 'since': pd.to_datetime(dt_yday)}\n",
    "summary = {'updated': pd.to_datetime(dt_today), 'since': pd.to_datetime(dt_yday)}\n",
    "summary = {**summary, **df_table[metrics].sum(), **s_ind, **s_us, **s_eu}"
   ]
  },
  {
   "cell_type": "code",
   "execution_count": 18,
   "id": "engaging-syndrome",
   "metadata": {
    "execution": {
     "iopub.execute_input": "2021-02-20T12:07:09.495666Z",
     "iopub.status.busy": "2021-02-20T12:07:09.494972Z",
     "iopub.status.idle": "2021-02-20T12:07:09.509282Z",
     "shell.execute_reply": "2021-02-20T12:07:09.507324Z"
    },
    "papermill": {
     "duration": 0.060346,
     "end_time": "2021-02-20T12:07:09.509531",
     "exception": false,
     "start_time": "2021-02-20T12:07:09.449185",
     "status": "completed"
    },
    "tags": []
   },
   "outputs": [],
   "source": [
    "#hide\n",
    "dft_ct_new_cases = dft_cases.groupby(COL_REGION)[dt_cols].sum().diff(axis=1).fillna(0).astype(int)"
   ]
  },
  {
   "cell_type": "code",
   "execution_count": 19,
   "id": "neutral-assignment",
   "metadata": {
    "execution": {
     "iopub.execute_input": "2021-02-20T12:07:09.609492Z",
     "iopub.status.busy": "2021-02-20T12:07:09.608687Z",
     "iopub.status.idle": "2021-02-20T12:07:09.610624Z",
     "shell.execute_reply": "2021-02-20T12:07:09.611238Z"
    },
    "papermill": {
     "duration": 0.059332,
     "end_time": "2021-02-20T12:07:09.611426",
     "exception": false,
     "start_time": "2021-02-20T12:07:09.552094",
     "status": "completed"
    },
    "tags": []
   },
   "outputs": [],
   "source": [
    "#hide\n",
    "everydaycases = dft_ct_new_cases.cumsum(axis=1)"
   ]
  },
  {
   "cell_type": "code",
   "execution_count": 20,
   "id": "parliamentary-calgary",
   "metadata": {
    "execution": {
     "iopub.execute_input": "2021-02-20T12:07:09.699363Z",
     "iopub.status.busy": "2021-02-20T12:07:09.698693Z",
     "iopub.status.idle": "2021-02-20T12:07:12.239310Z",
     "shell.execute_reply": "2021-02-20T12:07:12.239865Z"
    },
    "papermill": {
     "duration": 2.587257,
     "end_time": "2021-02-20T12:07:12.240042",
     "exception": false,
     "start_time": "2021-02-20T12:07:09.652785",
     "status": "completed"
    },
    "tags": []
   },
   "outputs": [],
   "source": [
    "#hide\n",
    "import pandas as pd\n",
    "import matplotlib.pyplot as plt\n",
    "import matplotlib.ticker as ticker\n",
    "import matplotlib.animation as animation\n",
    "from IPython.display import HTML"
   ]
  },
  {
   "cell_type": "code",
   "execution_count": 21,
   "id": "lasting-extraction",
   "metadata": {
    "execution": {
     "iopub.execute_input": "2021-02-20T12:07:12.326827Z",
     "iopub.status.busy": "2021-02-20T12:07:12.326169Z",
     "iopub.status.idle": "2021-02-20T12:07:12.331116Z",
     "shell.execute_reply": "2021-02-20T12:07:12.331737Z"
    },
    "papermill": {
     "duration": 0.051437,
     "end_time": "2021-02-20T12:07:12.331894",
     "exception": false,
     "start_time": "2021-02-20T12:07:12.280457",
     "status": "completed"
    },
    "tags": []
   },
   "outputs": [],
   "source": [
    "#hide\n",
    "t = everydaycases.stack()"
   ]
  },
  {
   "cell_type": "code",
   "execution_count": 22,
   "id": "premier-sleeve",
   "metadata": {
    "execution": {
     "iopub.execute_input": "2021-02-20T12:07:12.417622Z",
     "iopub.status.busy": "2021-02-20T12:07:12.416955Z",
     "iopub.status.idle": "2021-02-20T12:07:12.424210Z",
     "shell.execute_reply": "2021-02-20T12:07:12.424931Z"
    },
    "papermill": {
     "duration": 0.051851,
     "end_time": "2021-02-20T12:07:12.425131",
     "exception": false,
     "start_time": "2021-02-20T12:07:12.373280",
     "status": "completed"
    },
    "tags": []
   },
   "outputs": [],
   "source": [
    "#hide\n",
    "g = t.reset_index(['Country/Region'])"
   ]
  },
  {
   "cell_type": "code",
   "execution_count": 23,
   "id": "distributed-pittsburgh",
   "metadata": {
    "execution": {
     "iopub.execute_input": "2021-02-20T12:07:12.510123Z",
     "iopub.status.busy": "2021-02-20T12:07:12.509439Z",
     "iopub.status.idle": "2021-02-20T12:07:12.511777Z",
     "shell.execute_reply": "2021-02-20T12:07:12.512425Z"
    },
    "papermill": {
     "duration": 0.047505,
     "end_time": "2021-02-20T12:07:12.512609",
     "exception": false,
     "start_time": "2021-02-20T12:07:12.465104",
     "status": "completed"
    },
    "tags": []
   },
   "outputs": [],
   "source": [
    "#hide\n",
    "g.index.name = 'date'"
   ]
  },
  {
   "cell_type": "code",
   "execution_count": 24,
   "id": "naked-donor",
   "metadata": {
    "execution": {
     "iopub.execute_input": "2021-02-20T12:07:12.597822Z",
     "iopub.status.busy": "2021-02-20T12:07:12.597128Z",
     "iopub.status.idle": "2021-02-20T12:07:12.599889Z",
     "shell.execute_reply": "2021-02-20T12:07:12.599273Z"
    },
    "papermill": {
     "duration": 0.047842,
     "end_time": "2021-02-20T12:07:12.600051",
     "exception": false,
     "start_time": "2021-02-20T12:07:12.552209",
     "status": "completed"
    },
    "tags": []
   },
   "outputs": [],
   "source": [
    "# #hide\n",
    "# g = g.reset_index(['date'])"
   ]
  },
  {
   "cell_type": "code",
   "execution_count": 25,
   "id": "incomplete-mustang",
   "metadata": {
    "execution": {
     "iopub.execute_input": "2021-02-20T12:07:12.691994Z",
     "iopub.status.busy": "2021-02-20T12:07:12.691281Z",
     "iopub.status.idle": "2021-02-20T12:07:12.693908Z",
     "shell.execute_reply": "2021-02-20T12:07:12.693331Z"
    },
    "papermill": {
     "duration": 0.053392,
     "end_time": "2021-02-20T12:07:12.694075",
     "exception": false,
     "start_time": "2021-02-20T12:07:12.640683",
     "status": "completed"
    },
    "tags": []
   },
   "outputs": [],
   "source": [
    "#hide\n",
    "# g.head()"
   ]
  },
  {
   "cell_type": "code",
   "execution_count": 26,
   "id": "specific-kruger",
   "metadata": {
    "execution": {
     "iopub.execute_input": "2021-02-20T12:07:12.779865Z",
     "iopub.status.busy": "2021-02-20T12:07:12.779135Z",
     "iopub.status.idle": "2021-02-20T12:07:12.781386Z",
     "shell.execute_reply": "2021-02-20T12:07:12.781934Z"
    },
    "papermill": {
     "duration": 0.046658,
     "end_time": "2021-02-20T12:07:12.782096",
     "exception": false,
     "start_time": "2021-02-20T12:07:12.735438",
     "status": "completed"
    },
    "tags": []
   },
   "outputs": [],
   "source": [
    "#hide\n",
    "# g.columns = ['date','country','cases']"
   ]
  },
  {
   "cell_type": "code",
   "execution_count": 27,
   "id": "tender-conversion",
   "metadata": {
    "execution": {
     "iopub.execute_input": "2021-02-20T12:07:12.869704Z",
     "iopub.status.busy": "2021-02-20T12:07:12.868872Z",
     "iopub.status.idle": "2021-02-20T12:07:12.877423Z",
     "shell.execute_reply": "2021-02-20T12:07:12.876770Z"
    },
    "papermill": {
     "duration": 0.055865,
     "end_time": "2021-02-20T12:07:12.877628",
     "exception": false,
     "start_time": "2021-02-20T12:07:12.821763",
     "status": "completed"
    },
    "tags": []
   },
   "outputs": [],
   "source": [
    "#hide\n",
    "# g['continent'] = g.country"
   ]
  },
  {
   "cell_type": "code",
   "execution_count": 28,
   "id": "substantial-wilderness",
   "metadata": {
    "execution": {
     "iopub.execute_input": "2021-02-20T12:07:12.966691Z",
     "iopub.status.busy": "2021-02-20T12:07:12.965935Z",
     "iopub.status.idle": "2021-02-20T12:07:12.968236Z",
     "shell.execute_reply": "2021-02-20T12:07:12.968797Z"
    },
    "papermill": {
     "duration": 0.047643,
     "end_time": "2021-02-20T12:07:12.968975",
     "exception": false,
     "start_time": "2021-02-20T12:07:12.921332",
     "status": "completed"
    },
    "tags": []
   },
   "outputs": [],
   "source": [
    "#hide\n",
    "# cols = list(g.columns.values)"
   ]
  },
  {
   "cell_type": "code",
   "execution_count": 29,
   "id": "solved-farming",
   "metadata": {
    "execution": {
     "iopub.execute_input": "2021-02-20T12:07:13.053555Z",
     "iopub.status.busy": "2021-02-20T12:07:13.052864Z",
     "iopub.status.idle": "2021-02-20T12:07:13.058983Z",
     "shell.execute_reply": "2021-02-20T12:07:13.059568Z"
    },
    "papermill": {
     "duration": 0.050359,
     "end_time": "2021-02-20T12:07:13.059765",
     "exception": false,
     "start_time": "2021-02-20T12:07:13.009406",
     "status": "completed"
    },
    "tags": []
   },
   "outputs": [],
   "source": [
    "#hide\n",
    "# cols.insert(0, cols.pop())"
   ]
  },
  {
   "cell_type": "code",
   "execution_count": 30,
   "id": "executed-adoption",
   "metadata": {
    "execution": {
     "iopub.execute_input": "2021-02-20T12:07:13.149852Z",
     "iopub.status.busy": "2021-02-20T12:07:13.148988Z",
     "iopub.status.idle": "2021-02-20T12:07:13.150560Z",
     "shell.execute_reply": "2021-02-20T12:07:13.151156Z"
    },
    "papermill": {
     "duration": 0.047652,
     "end_time": "2021-02-20T12:07:13.151295",
     "exception": false,
     "start_time": "2021-02-20T12:07:13.103643",
     "status": "completed"
    },
    "tags": []
   },
   "outputs": [],
   "source": [
    "#hide\n",
    "# g = g[cols]"
   ]
  },
  {
   "cell_type": "code",
   "execution_count": 31,
   "id": "subject-dublin",
   "metadata": {
    "execution": {
     "iopub.execute_input": "2021-02-20T12:07:13.243744Z",
     "iopub.status.busy": "2021-02-20T12:07:13.242976Z",
     "iopub.status.idle": "2021-02-20T12:07:13.244586Z",
     "shell.execute_reply": "2021-02-20T12:07:13.245253Z"
    },
    "papermill": {
     "duration": 0.050373,
     "end_time": "2021-02-20T12:07:13.245437",
     "exception": false,
     "start_time": "2021-02-20T12:07:13.195064",
     "status": "completed"
    },
    "tags": []
   },
   "outputs": [],
   "source": [
    "#hide\n",
    "# g['continent'] = g['continent'].map(mapping['map.continent'])"
   ]
  },
  {
   "cell_type": "code",
   "execution_count": 32,
   "id": "freelance-scout",
   "metadata": {
    "execution": {
     "iopub.execute_input": "2021-02-20T12:07:13.331614Z",
     "iopub.status.busy": "2021-02-20T12:07:13.330993Z",
     "iopub.status.idle": "2021-02-20T12:07:13.332915Z",
     "shell.execute_reply": "2021-02-20T12:07:13.333503Z"
    },
    "papermill": {
     "duration": 0.047143,
     "end_time": "2021-02-20T12:07:13.333655",
     "exception": false,
     "start_time": "2021-02-20T12:07:13.286512",
     "status": "completed"
    },
    "tags": []
   },
   "outputs": [],
   "source": [
    "#hide\n",
    "# g.head()"
   ]
  },
  {
   "cell_type": "code",
   "execution_count": 33,
   "id": "limited-engine",
   "metadata": {
    "execution": {
     "iopub.execute_input": "2021-02-20T12:07:13.419303Z",
     "iopub.status.busy": "2021-02-20T12:07:13.418601Z",
     "iopub.status.idle": "2021-02-20T12:07:13.421214Z",
     "shell.execute_reply": "2021-02-20T12:07:13.420599Z"
    },
    "papermill": {
     "duration": 0.047311,
     "end_time": "2021-02-20T12:07:13.421363",
     "exception": false,
     "start_time": "2021-02-20T12:07:13.374052",
     "status": "completed"
    },
    "tags": []
   },
   "outputs": [],
   "source": [
    "# hide\n",
    "# g['date'] = g['date'].astype('datetime64[ns]')"
   ]
  },
  {
   "cell_type": "code",
   "execution_count": 34,
   "id": "sophisticated-supervisor",
   "metadata": {
    "execution": {
     "iopub.execute_input": "2021-02-20T12:07:13.507297Z",
     "iopub.status.busy": "2021-02-20T12:07:13.506557Z",
     "iopub.status.idle": "2021-02-20T12:07:13.508802Z",
     "shell.execute_reply": "2021-02-20T12:07:13.509362Z"
    },
    "papermill": {
     "duration": 0.049706,
     "end_time": "2021-02-20T12:07:13.509523",
     "exception": false,
     "start_time": "2021-02-20T12:07:13.459817",
     "status": "completed"
    },
    "tags": []
   },
   "outputs": [],
   "source": [
    "#hide\n",
    "# g['date'] = g.date.dt.dayofyear"
   ]
  },
  {
   "cell_type": "code",
   "execution_count": 35,
   "id": "inside-dubai",
   "metadata": {
    "execution": {
     "iopub.execute_input": "2021-02-20T12:07:13.595745Z",
     "iopub.status.busy": "2021-02-20T12:07:13.595054Z",
     "iopub.status.idle": "2021-02-20T12:07:13.597048Z",
     "shell.execute_reply": "2021-02-20T12:07:13.597649Z"
    },
    "papermill": {
     "duration": 0.047618,
     "end_time": "2021-02-20T12:07:13.597813",
     "exception": false,
     "start_time": "2021-02-20T12:07:13.550195",
     "status": "completed"
    },
    "tags": []
   },
   "outputs": [],
   "source": [
    "#hide\n",
    "# g = g.rename(columns= {'continent':'group','country':'name','cases':'value'})"
   ]
  },
  {
   "cell_type": "code",
   "execution_count": 36,
   "id": "fleet-motorcycle",
   "metadata": {
    "execution": {
     "iopub.execute_input": "2021-02-20T12:07:13.684054Z",
     "iopub.status.busy": "2021-02-20T12:07:13.683362Z",
     "iopub.status.idle": "2021-02-20T12:07:13.685467Z",
     "shell.execute_reply": "2021-02-20T12:07:13.686042Z"
    },
    "papermill": {
     "duration": 0.048129,
     "end_time": "2021-02-20T12:07:13.686221",
     "exception": false,
     "start_time": "2021-02-20T12:07:13.638092",
     "status": "completed"
    },
    "tags": []
   },
   "outputs": [],
   "source": [
    "#hide\n",
    "# cols = ['name','group','day','value']"
   ]
  },
  {
   "cell_type": "code",
   "execution_count": 37,
   "id": "continued-sleeping",
   "metadata": {
    "execution": {
     "iopub.execute_input": "2021-02-20T12:07:13.779943Z",
     "iopub.status.busy": "2021-02-20T12:07:13.779255Z",
     "iopub.status.idle": "2021-02-20T12:07:13.781112Z",
     "shell.execute_reply": "2021-02-20T12:07:13.781754Z"
    },
    "papermill": {
     "duration": 0.053963,
     "end_time": "2021-02-20T12:07:13.781908",
     "exception": false,
     "start_time": "2021-02-20T12:07:13.727945",
     "status": "completed"
    },
    "tags": []
   },
   "outputs": [],
   "source": [
    "#hide\n",
    "# g.rename(columns= {'date':'day'},inplace = True)"
   ]
  },
  {
   "cell_type": "code",
   "execution_count": 38,
   "id": "major-fight",
   "metadata": {
    "execution": {
     "iopub.execute_input": "2021-02-20T12:07:13.870750Z",
     "iopub.status.busy": "2021-02-20T12:07:13.870087Z",
     "iopub.status.idle": "2021-02-20T12:07:13.872538Z",
     "shell.execute_reply": "2021-02-20T12:07:13.871961Z"
    },
    "papermill": {
     "duration": 0.049821,
     "end_time": "2021-02-20T12:07:13.872673",
     "exception": false,
     "start_time": "2021-02-20T12:07:13.822852",
     "status": "completed"
    },
    "tags": []
   },
   "outputs": [],
   "source": [
    "#hide\n",
    "# g = g[cols]"
   ]
  },
  {
   "cell_type": "code",
   "execution_count": 39,
   "id": "structured-mobile",
   "metadata": {
    "execution": {
     "iopub.execute_input": "2021-02-20T12:07:13.959285Z",
     "iopub.status.busy": "2021-02-20T12:07:13.958593Z",
     "iopub.status.idle": "2021-02-20T12:07:13.961432Z",
     "shell.execute_reply": "2021-02-20T12:07:13.960513Z"
    },
    "papermill": {
     "duration": 0.048435,
     "end_time": "2021-02-20T12:07:13.961586",
     "exception": false,
     "start_time": "2021-02-20T12:07:13.913151",
     "status": "completed"
    },
    "tags": []
   },
   "outputs": [],
   "source": [
    "# #hide\n",
    "# g = g[g.group.notna()]"
   ]
  },
  {
   "cell_type": "code",
   "execution_count": 40,
   "id": "determined-closing",
   "metadata": {
    "execution": {
     "iopub.execute_input": "2021-02-20T12:07:14.052044Z",
     "iopub.status.busy": "2021-02-20T12:07:14.051327Z",
     "iopub.status.idle": "2021-02-20T12:07:14.053447Z",
     "shell.execute_reply": "2021-02-20T12:07:14.054024Z"
    },
    "papermill": {
     "duration": 0.049454,
     "end_time": "2021-02-20T12:07:14.054184",
     "exception": false,
     "start_time": "2021-02-20T12:07:14.004730",
     "status": "completed"
    },
    "tags": []
   },
   "outputs": [],
   "source": [
    "# #hide\n",
    "# colors = dict(zip(\n",
    "#     [\"Oceania\", \"Europe\", \"Asia\", \"South America\", \"Middle East\", \"North America\", \"Africa\"],\n",
    "#     [\"#adb0ff\", \"#ffb3ff\", \"#90d595\", \"#e48381\", \"#aafbff\", \"#f7bb5f\", \"#eafb50\"]\n",
    "# ))\n",
    "# group_lk = g.set_index('name')['group'].to_dict()"
   ]
  },
  {
   "cell_type": "code",
   "execution_count": null,
   "id": "gross-drinking",
   "metadata": {
    "papermill": {
     "duration": 0.042109,
     "end_time": "2021-02-20T12:07:14.137033",
     "exception": false,
     "start_time": "2021-02-20T12:07:14.094924",
     "status": "completed"
    },
    "tags": []
   },
   "outputs": [],
   "source": []
  },
  {
   "cell_type": "code",
   "execution_count": 41,
   "id": "subject-macintosh",
   "metadata": {
    "execution": {
     "iopub.execute_input": "2021-02-20T12:07:14.224025Z",
     "iopub.status.busy": "2021-02-20T12:07:14.223114Z",
     "iopub.status.idle": "2021-02-20T12:07:14.224841Z",
     "shell.execute_reply": "2021-02-20T12:07:14.225474Z"
    },
    "papermill": {
     "duration": 0.048961,
     "end_time": "2021-02-20T12:07:14.225650",
     "exception": false,
     "start_time": "2021-02-20T12:07:14.176689",
     "status": "completed"
    },
    "tags": []
   },
   "outputs": [],
   "source": [
    "# #hide\n",
    "# fig, ax = plt.subplots(figsize=(15, 8))\n",
    "\n",
    "# def draw_barchart(current_day):\n",
    "#     dff = g[g['day'].eq(current_day)].sort_values(by='value', ascending=True).tail(10)\n",
    "#     ax.clear()\n",
    "#     ax.barh(dff['name'], dff['value'], color=[colors[group_lk[x]] for x in dff['name']])\n",
    "#     dx = dff['value'].max() / 200\n",
    "    \n",
    "#     for i, (value, name) in enumerate(zip(dff['value'], dff['name'])):\n",
    "#         ax.text(value-dx, i,     name,           size=14, weight=600, ha='right', va='bottom')\n",
    "#         ax.text(value-dx, i-.25, group_lk[name], size=10, color='#444444', ha='right', va='baseline')\n",
    "#         ax.text(value+dx, i,     f'{value:,.0f}',  size=14, ha='left',  va='center')\n",
    "#     ax.text(1, 0.4, current_day, transform=ax.transAxes, color='#777777', size=46, ha='right', weight=800)\n",
    "#     ax.text(0, 1.06, 'Population (thousands)', transform=ax.transAxes, size=12, color='#777777')\n",
    "#     ax.xaxis.set_major_formatter(ticker.StrMethodFormatter('{x:,.0f}'))\n",
    "#     ax.xaxis.set_ticks_position('top')\n",
    "#     ax.tick_params(axis='x', colors='#777777', labelsize=12)\n",
    "#     ax.set_yticks([])\n",
    "#     ax.margins(0, 0.01)\n",
    "#     ax.grid(which='major', axis='x', linestyle='-')\n",
    "#     ax.set_axisbelow(True)\n",
    "    \n",
    "#     ax.text(0, 1.15, 'Coronavirus',\n",
    "#             transform=ax.transAxes, size=24, weight=600, ha='left', va='top')\n",
    "# #     ax.text(1, 0, 'by @pratapvardhan; credit @jburnmurdoch', transform=ax.transAxes, color='#777777', ha='right',\n",
    "# #             bbox=dict(facecolor='white', alpha=0.8, edgecolor='white'))\n",
    "#     plt.box(False)"
   ]
  },
  {
   "cell_type": "code",
   "execution_count": 42,
   "id": "sexual-wages",
   "metadata": {
    "execution": {
     "iopub.execute_input": "2021-02-20T12:07:14.312016Z",
     "iopub.status.busy": "2021-02-20T12:07:14.311290Z",
     "iopub.status.idle": "2021-02-20T12:07:14.313346Z",
     "shell.execute_reply": "2021-02-20T12:07:14.313875Z"
    },
    "papermill": {
     "duration": 0.047824,
     "end_time": "2021-02-20T12:07:14.314053",
     "exception": false,
     "start_time": "2021-02-20T12:07:14.266229",
     "status": "completed"
    },
    "tags": []
   },
   "outputs": [],
   "source": [
    "# #hide_input\n",
    "# fig, ax = plt.subplots(figsize=(15, 8))\n",
    "# animator = animation.FuncAnimation(fig, draw_barchart, frames=range(g.day.values.min(), g.day.values.max()))\n",
    "# HTML(animator.to_jshtml())\n",
    "# # or use animator.to_html5_video() or animator.save() "
   ]
  },
  {
   "cell_type": "code",
   "execution_count": null,
   "id": "australian-container",
   "metadata": {
    "papermill": {
     "duration": 0.044222,
     "end_time": "2021-02-20T12:07:14.398940",
     "exception": false,
     "start_time": "2021-02-20T12:07:14.354718",
     "status": "completed"
    },
    "tags": []
   },
   "outputs": [],
   "source": []
  },
  {
   "cell_type": "code",
   "execution_count": null,
   "id": "mediterranean-pontiac",
   "metadata": {
    "papermill": {
     "duration": 0.040192,
     "end_time": "2021-02-20T12:07:14.479507",
     "exception": false,
     "start_time": "2021-02-20T12:07:14.439315",
     "status": "completed"
    },
    "tags": []
   },
   "outputs": [],
   "source": []
  },
  {
   "cell_type": "code",
   "execution_count": null,
   "id": "aging-legislature",
   "metadata": {
    "papermill": {
     "duration": 0.043023,
     "end_time": "2021-02-20T12:07:14.559573",
     "exception": false,
     "start_time": "2021-02-20T12:07:14.516550",
     "status": "completed"
    },
    "tags": []
   },
   "outputs": [],
   "source": []
  }
 ],
 "metadata": {
  "kernelspec": {
   "display_name": "Python 3",
   "language": "python",
   "name": "python3"
  },
  "language_info": {
   "codemirror_mode": {
    "name": "ipython",
    "version": 3
   },
   "file_extension": ".py",
   "mimetype": "text/x-python",
   "name": "python",
   "nbconvert_exporter": "python",
   "pygments_lexer": "ipython3",
   "version": "3.6.12"
  },
  "papermill": {
   "duration": 10.426512,
   "end_time": "2021-02-20T12:07:15.976146",
   "environment_variables": {},
   "exception": null,
   "input_path": "2020-03-21-covid19exp.ipynb",
   "output_path": "2020-03-21-covid19exp.ipynb",
   "parameters": {},
   "start_time": "2021-02-20T12:07:05.549634",
   "version": "2.0.0"
  }
 },
 "nbformat": 4,
 "nbformat_minor": 5
}