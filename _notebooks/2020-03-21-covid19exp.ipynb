{
 "cells": [
  {
   "cell_type": "markdown",
   "id": "muslim-click",
   "metadata": {
    "papermill": {
     "duration": 0.040567,
     "end_time": "2021-06-30T00:20:35.438766",
     "exception": false,
     "start_time": "2021-06-30T00:20:35.398199",
     "status": "completed"
    },
    "tags": []
   },
   "source": [
    "# COVID-19 Case Race\n",
    "> A race chart to see rising cases around the world\n",
    "\n",
    "- author: Hargun Oberoi\n",
    "- image: images/covid-overview.png\n",
    "- hide: false\n",
    "- badges: false"
   ]
  },
  {
   "cell_type": "code",
   "execution_count": 1,
   "id": "proof-material",
   "metadata": {
    "execution": {
     "iopub.execute_input": "2021-06-30T00:20:35.519564Z",
     "iopub.status.busy": "2021-06-30T00:20:35.518995Z",
     "iopub.status.idle": "2021-06-30T00:20:35.880582Z",
     "shell.execute_reply": "2021-06-30T00:20:35.880049Z"
    },
    "papermill": {
     "duration": 0.405876,
     "end_time": "2021-06-30T00:20:35.880762",
     "exception": false,
     "start_time": "2021-06-30T00:20:35.474886",
     "status": "completed"
    },
    "tags": []
   },
   "outputs": [],
   "source": [
    "#hide\n",
    "import numpy as np\n",
    "import pandas as pd\n",
    "from jinja2 import Template\n",
    "from IPython.display import HTML"
   ]
  },
  {
   "cell_type": "code",
   "execution_count": 2,
   "id": "developed-terminology",
   "metadata": {
    "execution": {
     "iopub.execute_input": "2021-06-30T00:20:35.957846Z",
     "iopub.status.busy": "2021-06-30T00:20:35.957183Z",
     "iopub.status.idle": "2021-06-30T00:20:35.958598Z",
     "shell.execute_reply": "2021-06-30T00:20:35.959195Z"
    },
    "papermill": {
     "duration": 0.043641,
     "end_time": "2021-06-30T00:20:35.959333",
     "exception": false,
     "start_time": "2021-06-30T00:20:35.915692",
     "status": "completed"
    },
    "tags": []
   },
   "outputs": [],
   "source": [
    "#hide\n",
    "\n",
    "# FETCH\n",
    "base_url = 'https://raw.githubusercontent.com/pratapvardhan/notebooks/master/covid19/'\n",
    "paths = {\n",
    "    'mapping': base_url + 'mapping_countries.csv',\n",
    "    'overview': base_url + 'overview.tpl'\n",
    "}"
   ]
  },
  {
   "cell_type": "code",
   "execution_count": 3,
   "id": "dynamic-saver",
   "metadata": {
    "execution": {
     "iopub.execute_input": "2021-06-30T00:20:36.042063Z",
     "iopub.status.busy": "2021-06-30T00:20:36.041408Z",
     "iopub.status.idle": "2021-06-30T00:20:36.044111Z",
     "shell.execute_reply": "2021-06-30T00:20:36.044712Z"
    },
    "papermill": {
     "duration": 0.051066,
     "end_time": "2021-06-30T00:20:36.044907",
     "exception": false,
     "start_time": "2021-06-30T00:20:35.993841",
     "status": "completed"
    },
    "tags": []
   },
   "outputs": [
    {
     "data": {
      "text/plain": [
       "'https://raw.githubusercontent.com/pratapvardhan/notebooks/master/covid19/mapping_countries.csv'"
      ]
     },
     "execution_count": 3,
     "metadata": {},
     "output_type": "execute_result"
    }
   ],
   "source": [
    "#hide\n",
    "paths['mapping']"
   ]
  },
  {
   "cell_type": "code",
   "execution_count": 4,
   "id": "urban-software",
   "metadata": {
    "execution": {
     "iopub.execute_input": "2021-06-30T00:20:36.128711Z",
     "iopub.status.busy": "2021-06-30T00:20:36.128039Z",
     "iopub.status.idle": "2021-06-30T00:20:36.130304Z",
     "shell.execute_reply": "2021-06-30T00:20:36.129726Z"
    },
    "papermill": {
     "duration": 0.045831,
     "end_time": "2021-06-30T00:20:36.130426",
     "exception": false,
     "start_time": "2021-06-30T00:20:36.084595",
     "status": "completed"
    },
    "tags": []
   },
   "outputs": [],
   "source": [
    "#hide\n",
    "def get_mappings(url):\n",
    "    df = pd.read_csv(url)\n",
    "    return {\n",
    "        'df': df,\n",
    "        'replace.country': dict(df.dropna(subset=['Name']).set_index('Country')['Name']),\n",
    "        'map.continent': dict(df.set_index('Name')['Continent'])\n",
    "    }"
   ]
  },
  {
   "cell_type": "code",
   "execution_count": 5,
   "id": "intimate-machinery",
   "metadata": {
    "execution": {
     "iopub.execute_input": "2021-06-30T00:20:36.209734Z",
     "iopub.status.busy": "2021-06-30T00:20:36.207988Z",
     "iopub.status.idle": "2021-06-30T00:20:36.276516Z",
     "shell.execute_reply": "2021-06-30T00:20:36.276020Z"
    },
    "papermill": {
     "duration": 0.108974,
     "end_time": "2021-06-30T00:20:36.276653",
     "exception": false,
     "start_time": "2021-06-30T00:20:36.167679",
     "status": "completed"
    },
    "tags": []
   },
   "outputs": [],
   "source": [
    "#hide\n",
    "mapping = get_mappings(paths['mapping'])"
   ]
  },
  {
   "cell_type": "code",
   "execution_count": 6,
   "id": "certified-tactics",
   "metadata": {
    "execution": {
     "iopub.execute_input": "2021-06-30T00:20:36.353864Z",
     "iopub.status.busy": "2021-06-30T00:20:36.353268Z",
     "iopub.status.idle": "2021-06-30T00:20:36.355444Z",
     "shell.execute_reply": "2021-06-30T00:20:36.354950Z"
    },
    "papermill": {
     "duration": 0.042643,
     "end_time": "2021-06-30T00:20:36.355572",
     "exception": false,
     "start_time": "2021-06-30T00:20:36.312929",
     "status": "completed"
    },
    "tags": []
   },
   "outputs": [],
   "source": [
    "#hide\n",
    "def get_template(path):\n",
    "    from urllib.parse import urlparse\n",
    "    if bool(urlparse(path).netloc):\n",
    "        from urllib.request import urlopen\n",
    "        return urlopen(path).read().decode('utf8')\n",
    "    return open(path).read()"
   ]
  },
  {
   "cell_type": "code",
   "execution_count": 7,
   "id": "realistic-blast",
   "metadata": {
    "execution": {
     "iopub.execute_input": "2021-06-30T00:20:36.428133Z",
     "iopub.status.busy": "2021-06-30T00:20:36.426985Z",
     "iopub.status.idle": "2021-06-30T00:20:36.429264Z",
     "shell.execute_reply": "2021-06-30T00:20:36.429789Z"
    },
    "papermill": {
     "duration": 0.040315,
     "end_time": "2021-06-30T00:20:36.429941",
     "exception": false,
     "start_time": "2021-06-30T00:20:36.389626",
     "status": "completed"
    },
    "tags": []
   },
   "outputs": [],
   "source": [
    "#hide\n",
    "def get_frame(name):\n",
    "    url = (\n",
    "        'https://raw.githubusercontent.com/CSSEGISandData/COVID-19/master/csse_covid_19_data/'\n",
    "        f'csse_covid_19_time_series/time_series_covid19_{name}_global.csv')\n",
    "    df = pd.read_csv(url)\n",
    "    # rename countries\n",
    "    df['Country/Region'] = df['Country/Region'].replace(mapping['replace.country'])\n",
    "    return df"
   ]
  },
  {
   "cell_type": "code",
   "execution_count": 8,
   "id": "affiliated-characterization",
   "metadata": {
    "execution": {
     "iopub.execute_input": "2021-06-30T00:20:36.506376Z",
     "iopub.status.busy": "2021-06-30T00:20:36.505726Z",
     "iopub.status.idle": "2021-06-30T00:20:36.507618Z",
     "shell.execute_reply": "2021-06-30T00:20:36.508063Z"
    },
    "papermill": {
     "duration": 0.043301,
     "end_time": "2021-06-30T00:20:36.508200",
     "exception": false,
     "start_time": "2021-06-30T00:20:36.464899",
     "status": "completed"
    },
    "tags": []
   },
   "outputs": [],
   "source": [
    "#hide\n",
    "def get_dates(df):\n",
    "    dt_cols = df.columns[~df.columns.isin(['Province/State', 'Country/Region', 'Lat', 'Long'])]\n",
    "    LAST_DATE_I = -1\n",
    "    # sometimes last column may be empty, then go backwards\n",
    "    for i in range(-1, -len(dt_cols), -1):\n",
    "        if not df[dt_cols[i]].fillna(0).eq(0).all():\n",
    "            LAST_DATE_I = i\n",
    "            break\n",
    "    return LAST_DATE_I, dt_cols"
   ]
  },
  {
   "cell_type": "code",
   "execution_count": 9,
   "id": "recent-optimization",
   "metadata": {
    "execution": {
     "iopub.execute_input": "2021-06-30T00:20:36.590864Z",
     "iopub.status.busy": "2021-06-30T00:20:36.590259Z",
     "iopub.status.idle": "2021-06-30T00:20:37.081092Z",
     "shell.execute_reply": "2021-06-30T00:20:37.079980Z"
    },
    "papermill": {
     "duration": 0.53172,
     "end_time": "2021-06-30T00:20:37.081241",
     "exception": false,
     "start_time": "2021-06-30T00:20:36.549521",
     "status": "completed"
    },
    "tags": []
   },
   "outputs": [],
   "source": [
    "#hide\n",
    "COL_REGION = 'Country/Region'\n",
    "# Confirmed, Recovered, Deaths\n",
    "df = get_frame('confirmed')\n",
    "# dft_: timeseries, dfc_: today country agg\n",
    "dft_cases = df\n",
    "dft_deaths = get_frame('deaths')\n",
    "dft_recovered = get_frame('recovered')\n",
    "LAST_DATE_I, dt_cols = get_dates(df)"
   ]
  },
  {
   "cell_type": "code",
   "execution_count": 10,
   "id": "absolute-copper",
   "metadata": {
    "execution": {
     "iopub.execute_input": "2021-06-30T00:20:37.164151Z",
     "iopub.status.busy": "2021-06-30T00:20:37.163432Z",
     "iopub.status.idle": "2021-06-30T00:20:37.165875Z",
     "shell.execute_reply": "2021-06-30T00:20:37.165206Z"
    },
    "papermill": {
     "duration": 0.043772,
     "end_time": "2021-06-30T00:20:37.166010",
     "exception": false,
     "start_time": "2021-06-30T00:20:37.122238",
     "status": "completed"
    },
    "tags": []
   },
   "outputs": [],
   "source": [
    "#hide\n",
    "LAST_DATE_I, dt_cols = get_dates(df)\n",
    "dt_today =dt_cols[LAST_DATE_I]\n",
    "# dt_5day = dt_cols[LAST_DATE_I - 5]\n",
    "dt_yday = dt_cols[LAST_DATE_I - 1]"
   ]
  },
  {
   "cell_type": "code",
   "execution_count": 11,
   "id": "restricted-sheriff",
   "metadata": {
    "execution": {
     "iopub.execute_input": "2021-06-30T00:20:37.248610Z",
     "iopub.status.busy": "2021-06-30T00:20:37.247920Z",
     "iopub.status.idle": "2021-06-30T00:20:37.254737Z",
     "shell.execute_reply": "2021-06-30T00:20:37.254145Z"
    },
    "papermill": {
     "duration": 0.050048,
     "end_time": "2021-06-30T00:20:37.254884",
     "exception": false,
     "start_time": "2021-06-30T00:20:37.204836",
     "status": "completed"
    },
    "tags": []
   },
   "outputs": [],
   "source": [
    "#hide\n",
    "dfc_cases = dft_cases.groupby(COL_REGION)[dt_today].sum()\n",
    "dfc_deaths = dft_deaths.groupby(COL_REGION)[dt_today].sum()\n",
    "# dfp_cases = dft_cases.groupby(COL_REGION)[dt_5day].sum()\n",
    "# dfp_deaths = dft_deaths.groupby(COL_REGION)[dt_5day].sum()\n",
    "dfp_cases = dft_cases.groupby(COL_REGION)[dt_yday].sum()\n",
    "dfp_deaths = dft_deaths.groupby(COL_REGION)[dt_yday].sum()"
   ]
  },
  {
   "cell_type": "code",
   "execution_count": 12,
   "id": "deluxe-hepatitis",
   "metadata": {
    "execution": {
     "iopub.execute_input": "2021-06-30T00:20:37.338088Z",
     "iopub.status.busy": "2021-06-30T00:20:37.337433Z",
     "iopub.status.idle": "2021-06-30T00:20:37.341999Z",
     "shell.execute_reply": "2021-06-30T00:20:37.342497Z"
    },
    "papermill": {
     "duration": 0.049475,
     "end_time": "2021-06-30T00:20:37.342639",
     "exception": false,
     "start_time": "2021-06-30T00:20:37.293164",
     "status": "completed"
    },
    "tags": []
   },
   "outputs": [],
   "source": [
    "#hide\n",
    "df_table = (pd.DataFrame(dict(Cases = dfc_cases, Deaths = dfc_deaths, PCases = dfp_cases, PDeaths = dfp_deaths))\n",
    "            .sort_values(by = ['Cases','Deaths'], ascending = [False, False])\n",
    "            .reset_index())"
   ]
  },
  {
   "cell_type": "code",
   "execution_count": 13,
   "id": "educational-chancellor",
   "metadata": {
    "execution": {
     "iopub.execute_input": "2021-06-30T00:20:37.433086Z",
     "iopub.status.busy": "2021-06-30T00:20:37.432420Z",
     "iopub.status.idle": "2021-06-30T00:20:37.440281Z",
     "shell.execute_reply": "2021-06-30T00:20:37.439819Z"
    },
    "papermill": {
     "duration": 0.060719,
     "end_time": "2021-06-30T00:20:37.440405",
     "exception": false,
     "start_time": "2021-06-30T00:20:37.379686",
     "status": "completed"
    },
    "tags": []
   },
   "outputs": [
    {
     "data": {
      "text/html": [
       "<div>\n",
       "<style scoped>\n",
       "    .dataframe tbody tr th:only-of-type {\n",
       "        vertical-align: middle;\n",
       "    }\n",
       "\n",
       "    .dataframe tbody tr th {\n",
       "        vertical-align: top;\n",
       "    }\n",
       "\n",
       "    .dataframe thead th {\n",
       "        text-align: right;\n",
       "    }\n",
       "</style>\n",
       "<table border=\"1\" class=\"dataframe\">\n",
       "  <thead>\n",
       "    <tr style=\"text-align: right;\">\n",
       "      <th></th>\n",
       "      <th>Country/Region</th>\n",
       "      <th>Cases</th>\n",
       "      <th>Deaths</th>\n",
       "      <th>PCases</th>\n",
       "      <th>PDeaths</th>\n",
       "      <th>Cases (+)</th>\n",
       "      <th>Deaths (+)</th>\n",
       "      <th>Fatality Rate</th>\n",
       "      <th>Continent</th>\n",
       "    </tr>\n",
       "  </thead>\n",
       "  <tbody>\n",
       "    <tr>\n",
       "      <th>0</th>\n",
       "      <td>US</td>\n",
       "      <td>33640502</td>\n",
       "      <td>604115</td>\n",
       "      <td>33625419</td>\n",
       "      <td>603965</td>\n",
       "      <td>15083</td>\n",
       "      <td>150</td>\n",
       "      <td>1.80</td>\n",
       "      <td>North America</td>\n",
       "    </tr>\n",
       "    <tr>\n",
       "      <th>1</th>\n",
       "      <td>India</td>\n",
       "      <td>30316897</td>\n",
       "      <td>397637</td>\n",
       "      <td>30279331</td>\n",
       "      <td>396730</td>\n",
       "      <td>37566</td>\n",
       "      <td>907</td>\n",
       "      <td>1.31</td>\n",
       "      <td>Asia</td>\n",
       "    </tr>\n",
       "    <tr>\n",
       "      <th>2</th>\n",
       "      <td>Brazil</td>\n",
       "      <td>18448402</td>\n",
       "      <td>514092</td>\n",
       "      <td>18420598</td>\n",
       "      <td>513474</td>\n",
       "      <td>27804</td>\n",
       "      <td>618</td>\n",
       "      <td>2.79</td>\n",
       "      <td>South America</td>\n",
       "    </tr>\n",
       "    <tr>\n",
       "      <th>3</th>\n",
       "      <td>France</td>\n",
       "      <td>5832490</td>\n",
       "      <td>111174</td>\n",
       "      <td>5831972</td>\n",
       "      <td>111130</td>\n",
       "      <td>518</td>\n",
       "      <td>44</td>\n",
       "      <td>1.91</td>\n",
       "      <td>Europe</td>\n",
       "    </tr>\n",
       "    <tr>\n",
       "      <th>4</th>\n",
       "      <td>Turkey</td>\n",
       "      <td>5414310</td>\n",
       "      <td>49634</td>\n",
       "      <td>5409027</td>\n",
       "      <td>49576</td>\n",
       "      <td>5283</td>\n",
       "      <td>58</td>\n",
       "      <td>0.92</td>\n",
       "      <td>Asia</td>\n",
       "    </tr>\n",
       "  </tbody>\n",
       "</table>\n",
       "</div>"
      ],
      "text/plain": [
       "  Country/Region     Cases  Deaths    PCases  PDeaths  Cases (+)  Deaths (+)  \\\n",
       "0             US  33640502  604115  33625419   603965      15083         150   \n",
       "1          India  30316897  397637  30279331   396730      37566         907   \n",
       "2         Brazil  18448402  514092  18420598   513474      27804         618   \n",
       "3         France   5832490  111174   5831972   111130        518          44   \n",
       "4         Turkey   5414310   49634   5409027    49576       5283          58   \n",
       "\n",
       "   Fatality Rate      Continent  \n",
       "0           1.80  North America  \n",
       "1           1.31           Asia  \n",
       "2           2.79  South America  \n",
       "3           1.91         Europe  \n",
       "4           0.92           Asia  "
      ]
     },
     "execution_count": 13,
     "metadata": {},
     "output_type": "execute_result"
    }
   ],
   "source": [
    "#hide\n",
    "for c in 'Cases, Deaths'.split(', '):\n",
    "    df_table[f'{c} (+)'] = (df_table[c] - df_table[f'P{c}']).clip(0)\n",
    "    #Clip ça veut dire, les chiffres negatif sont interdit\n",
    "df_table['Fatality Rate'] = (100* df_table['Deaths']/ df_table['Cases']).round(2)\n",
    "df_table['Continent'] = df_table['Country/Region'].map(mapping['map.continent'])\n",
    "df_table.head(5)"
   ]
  },
  {
   "cell_type": "code",
   "execution_count": 14,
   "id": "aboriginal-bulgaria",
   "metadata": {
    "execution": {
     "iopub.execute_input": "2021-06-30T00:20:37.519581Z",
     "iopub.status.busy": "2021-06-30T00:20:37.519008Z",
     "iopub.status.idle": "2021-06-30T00:20:37.522030Z",
     "shell.execute_reply": "2021-06-30T00:20:37.522473Z"
    },
    "papermill": {
     "duration": 0.043576,
     "end_time": "2021-06-30T00:20:37.522610",
     "exception": false,
     "start_time": "2021-06-30T00:20:37.479034",
     "status": "completed"
    },
    "tags": []
   },
   "outputs": [],
   "source": [
    "#hide\n",
    "#delete problematic countries from table\n",
    "df_table = df_table[~df_table['Country/Region'].isin(['Cape Verde', 'Cruise Ship', 'Kosovo'])]"
   ]
  },
  {
   "cell_type": "code",
   "execution_count": 15,
   "id": "fantastic-effect",
   "metadata": {
    "execution": {
     "iopub.execute_input": "2021-06-30T00:20:37.602526Z",
     "iopub.status.busy": "2021-06-30T00:20:37.601250Z",
     "iopub.status.idle": "2021-06-30T00:20:37.621747Z",
     "shell.execute_reply": "2021-06-30T00:20:37.622585Z"
    },
    "papermill": {
     "duration": 0.064733,
     "end_time": "2021-06-30T00:20:37.622847",
     "exception": false,
     "start_time": "2021-06-30T00:20:37.558114",
     "status": "completed"
    },
    "tags": []
   },
   "outputs": [
    {
     "data": {
      "text/html": [
       "<div>\n",
       "<style scoped>\n",
       "    .dataframe tbody tr th:only-of-type {\n",
       "        vertical-align: middle;\n",
       "    }\n",
       "\n",
       "    .dataframe tbody tr th {\n",
       "        vertical-align: top;\n",
       "    }\n",
       "\n",
       "    .dataframe thead th {\n",
       "        text-align: right;\n",
       "    }\n",
       "</style>\n",
       "<table border=\"1\" class=\"dataframe\">\n",
       "  <thead>\n",
       "    <tr style=\"text-align: right;\">\n",
       "      <th></th>\n",
       "      <th>Country/Region</th>\n",
       "      <th>Cases</th>\n",
       "      <th>Deaths</th>\n",
       "      <th>PCases</th>\n",
       "      <th>PDeaths</th>\n",
       "      <th>Cases (+)</th>\n",
       "      <th>Deaths (+)</th>\n",
       "      <th>Fatality Rate</th>\n",
       "      <th>Continent</th>\n",
       "    </tr>\n",
       "  </thead>\n",
       "  <tbody>\n",
       "    <tr>\n",
       "      <th>0</th>\n",
       "      <td>US</td>\n",
       "      <td>33640502</td>\n",
       "      <td>604115</td>\n",
       "      <td>33625419</td>\n",
       "      <td>603965</td>\n",
       "      <td>15083</td>\n",
       "      <td>150</td>\n",
       "      <td>1.8</td>\n",
       "      <td>North America</td>\n",
       "    </tr>\n",
       "    <tr>\n",
       "      <th>1</th>\n",
       "      <td>India</td>\n",
       "      <td>30316897</td>\n",
       "      <td>397637</td>\n",
       "      <td>30279331</td>\n",
       "      <td>396730</td>\n",
       "      <td>37566</td>\n",
       "      <td>907</td>\n",
       "      <td>1.3</td>\n",
       "      <td>Asia</td>\n",
       "    </tr>\n",
       "    <tr>\n",
       "      <th>2</th>\n",
       "      <td>Brazil</td>\n",
       "      <td>18448402</td>\n",
       "      <td>514092</td>\n",
       "      <td>18420598</td>\n",
       "      <td>513474</td>\n",
       "      <td>27804</td>\n",
       "      <td>618</td>\n",
       "      <td>2.8</td>\n",
       "      <td>South America</td>\n",
       "    </tr>\n",
       "    <tr>\n",
       "      <th>3</th>\n",
       "      <td>France</td>\n",
       "      <td>5832490</td>\n",
       "      <td>111174</td>\n",
       "      <td>5831972</td>\n",
       "      <td>111130</td>\n",
       "      <td>518</td>\n",
       "      <td>44</td>\n",
       "      <td>1.9</td>\n",
       "      <td>Europe</td>\n",
       "    </tr>\n",
       "    <tr>\n",
       "      <th>4</th>\n",
       "      <td>Turkey</td>\n",
       "      <td>5414310</td>\n",
       "      <td>49634</td>\n",
       "      <td>5409027</td>\n",
       "      <td>49576</td>\n",
       "      <td>5283</td>\n",
       "      <td>58</td>\n",
       "      <td>0.9</td>\n",
       "      <td>Asia</td>\n",
       "    </tr>\n",
       "  </tbody>\n",
       "</table>\n",
       "</div>"
      ],
      "text/plain": [
       "  Country/Region     Cases  Deaths    PCases  PDeaths  Cases (+)  Deaths (+)  \\\n",
       "0             US  33640502  604115  33625419   603965      15083         150   \n",
       "1          India  30316897  397637  30279331   396730      37566         907   \n",
       "2         Brazil  18448402  514092  18420598   513474      27804         618   \n",
       "3         France   5832490  111174   5831972   111130        518          44   \n",
       "4         Turkey   5414310   49634   5409027    49576       5283          58   \n",
       "\n",
       "   Fatality Rate      Continent  \n",
       "0            1.8  North America  \n",
       "1            1.3           Asia  \n",
       "2            2.8  South America  \n",
       "3            1.9         Europe  \n",
       "4            0.9           Asia  "
      ]
     },
     "execution_count": 15,
     "metadata": {},
     "output_type": "execute_result"
    }
   ],
   "source": [
    "#hide\n",
    "df_table = (pd.DataFrame(dict(Cases=dfc_cases, Deaths=dfc_deaths, PCases=dfp_cases, PDeaths=dfp_deaths))\n",
    "             .sort_values(by=['Cases', 'Deaths'], ascending=[False, False])\n",
    "             .reset_index())\n",
    "df_table.rename(columns={'index': 'Country/Region'}, inplace=True)\n",
    "for c in 'Cases, Deaths'.split(', '):\n",
    "    df_table[f'{c} (+)'] = (df_table[c] - df_table[f'P{c}']).clip(0)  # DATA BUG\n",
    "df_table['Fatality Rate'] = (100 * df_table['Deaths'] / df_table['Cases']).round(1)\n",
    "df_table['Continent'] = df_table['Country/Region'].map(mapping['map.continent'])\n",
    "df_table.head(5)"
   ]
  },
  {
   "cell_type": "code",
   "execution_count": 16,
   "id": "fewer-occasion",
   "metadata": {
    "execution": {
     "iopub.execute_input": "2021-06-30T00:20:37.701913Z",
     "iopub.status.busy": "2021-06-30T00:20:37.701258Z",
     "iopub.status.idle": "2021-06-30T00:20:37.704486Z",
     "shell.execute_reply": "2021-06-30T00:20:37.703816Z"
    },
    "papermill": {
     "duration": 0.046266,
     "end_time": "2021-06-30T00:20:37.704618",
     "exception": false,
     "start_time": "2021-06-30T00:20:37.658352",
     "status": "completed"
    },
    "tags": []
   },
   "outputs": [],
   "source": [
    "#hide\n",
    "#delete problematic countries from table\n",
    "df_table = df_table[~df_table['Country/Region'].isin(['Cape Verde', 'Cruise Ship', 'Kosovo'])]"
   ]
  },
  {
   "cell_type": "code",
   "execution_count": 17,
   "id": "related-center",
   "metadata": {
    "execution": {
     "iopub.execute_input": "2021-06-30T00:20:37.797900Z",
     "iopub.status.busy": "2021-06-30T00:20:37.797246Z",
     "iopub.status.idle": "2021-06-30T00:20:37.800065Z",
     "shell.execute_reply": "2021-06-30T00:20:37.799538Z"
    },
    "papermill": {
     "duration": 0.059872,
     "end_time": "2021-06-30T00:20:37.800198",
     "exception": false,
     "start_time": "2021-06-30T00:20:37.740326",
     "status": "completed"
    },
    "tags": []
   },
   "outputs": [],
   "source": [
    "#hide\n",
    "metrics = [df_table.columns[index] for index in [1,2,5,6]]\n",
    "# s_china = df_table[df_table['Country/Region'].eq('China')][metrics].sum().add_prefix('China ')\n",
    "s_us = df_table[df_table['Country/Region'].eq('US')][metrics].sum().add_prefix('US ')\n",
    "s_eu = df_table[df_table['Continent'].eq('Europe')][metrics].sum().add_prefix('EU ')\n",
    "s_ind = df_table[df_table['Country/Region'].eq('India')][metrics].sum().add_prefix('India ')\n",
    "summary = {'updated': pd.to_datetime(dt_today), 'since': pd.to_datetime(dt_yday)}\n",
    "summary = {'updated': pd.to_datetime(dt_today), 'since': pd.to_datetime(dt_yday)}\n",
    "summary = {**summary, **df_table[metrics].sum(), **s_ind, **s_us, **s_eu}"
   ]
  },
  {
   "cell_type": "code",
   "execution_count": 18,
   "id": "engaging-syndrome",
   "metadata": {
    "execution": {
     "iopub.execute_input": "2021-06-30T00:20:37.886491Z",
     "iopub.status.busy": "2021-06-30T00:20:37.885867Z",
     "iopub.status.idle": "2021-06-30T00:20:37.897170Z",
     "shell.execute_reply": "2021-06-30T00:20:37.897758Z"
    },
    "papermill": {
     "duration": 0.0575,
     "end_time": "2021-06-30T00:20:37.897927",
     "exception": false,
     "start_time": "2021-06-30T00:20:37.840427",
     "status": "completed"
    },
    "tags": []
   },
   "outputs": [],
   "source": [
    "#hide\n",
    "dft_ct_new_cases = dft_cases.groupby(COL_REGION)[dt_cols].sum().diff(axis=1).fillna(0).astype(int)"
   ]
  },
  {
   "cell_type": "code",
   "execution_count": 19,
   "id": "neutral-assignment",
   "metadata": {
    "execution": {
     "iopub.execute_input": "2021-06-30T00:20:37.979058Z",
     "iopub.status.busy": "2021-06-30T00:20:37.978408Z",
     "iopub.status.idle": "2021-06-30T00:20:37.980830Z",
     "shell.execute_reply": "2021-06-30T00:20:37.980299Z"
    },
    "papermill": {
     "duration": 0.045314,
     "end_time": "2021-06-30T00:20:37.980958",
     "exception": false,
     "start_time": "2021-06-30T00:20:37.935644",
     "status": "completed"
    },
    "tags": []
   },
   "outputs": [],
   "source": [
    "#hide\n",
    "everydaycases = dft_ct_new_cases.cumsum(axis=1)"
   ]
  },
  {
   "cell_type": "code",
   "execution_count": 20,
   "id": "parliamentary-calgary",
   "metadata": {
    "execution": {
     "iopub.execute_input": "2021-06-30T00:20:38.059182Z",
     "iopub.status.busy": "2021-06-30T00:20:38.058545Z",
     "iopub.status.idle": "2021-06-30T00:20:38.702624Z",
     "shell.execute_reply": "2021-06-30T00:20:38.703139Z"
    },
    "papermill": {
     "duration": 0.686988,
     "end_time": "2021-06-30T00:20:38.703313",
     "exception": false,
     "start_time": "2021-06-30T00:20:38.016325",
     "status": "completed"
    },
    "tags": []
   },
   "outputs": [],
   "source": [
    "#hide\n",
    "import pandas as pd\n",
    "import matplotlib.pyplot as plt\n",
    "import matplotlib.ticker as ticker\n",
    "import matplotlib.animation as animation\n",
    "from IPython.display import HTML"
   ]
  },
  {
   "cell_type": "code",
   "execution_count": 21,
   "id": "lasting-extraction",
   "metadata": {
    "execution": {
     "iopub.execute_input": "2021-06-30T00:20:38.786235Z",
     "iopub.status.busy": "2021-06-30T00:20:38.785667Z",
     "iopub.status.idle": "2021-06-30T00:20:38.790531Z",
     "shell.execute_reply": "2021-06-30T00:20:38.791024Z"
    },
    "papermill": {
     "duration": 0.046914,
     "end_time": "2021-06-30T00:20:38.791165",
     "exception": false,
     "start_time": "2021-06-30T00:20:38.744251",
     "status": "completed"
    },
    "tags": []
   },
   "outputs": [],
   "source": [
    "#hide\n",
    "t = everydaycases.stack()"
   ]
  },
  {
   "cell_type": "code",
   "execution_count": 22,
   "id": "premier-sleeve",
   "metadata": {
    "execution": {
     "iopub.execute_input": "2021-06-30T00:20:38.869387Z",
     "iopub.status.busy": "2021-06-30T00:20:38.868774Z",
     "iopub.status.idle": "2021-06-30T00:20:38.876341Z",
     "shell.execute_reply": "2021-06-30T00:20:38.877164Z"
    },
    "papermill": {
     "duration": 0.049253,
     "end_time": "2021-06-30T00:20:38.877327",
     "exception": false,
     "start_time": "2021-06-30T00:20:38.828074",
     "status": "completed"
    },
    "tags": []
   },
   "outputs": [],
   "source": [
    "#hide\n",
    "g = t.reset_index(['Country/Region'])"
   ]
  },
  {
   "cell_type": "code",
   "execution_count": 23,
   "id": "distributed-pittsburgh",
   "metadata": {
    "execution": {
     "iopub.execute_input": "2021-06-30T00:20:38.952697Z",
     "iopub.status.busy": "2021-06-30T00:20:38.952043Z",
     "iopub.status.idle": "2021-06-30T00:20:38.954980Z",
     "shell.execute_reply": "2021-06-30T00:20:38.955583Z"
    },
    "papermill": {
     "duration": 0.042012,
     "end_time": "2021-06-30T00:20:38.955749",
     "exception": false,
     "start_time": "2021-06-30T00:20:38.913737",
     "status": "completed"
    },
    "tags": []
   },
   "outputs": [],
   "source": [
    "#hide\n",
    "g.index.name = 'date'"
   ]
  },
  {
   "cell_type": "code",
   "execution_count": 24,
   "id": "naked-donor",
   "metadata": {
    "execution": {
     "iopub.execute_input": "2021-06-30T00:20:39.031684Z",
     "iopub.status.busy": "2021-06-30T00:20:39.031077Z",
     "iopub.status.idle": "2021-06-30T00:20:39.032960Z",
     "shell.execute_reply": "2021-06-30T00:20:39.033498Z"
    },
    "papermill": {
     "duration": 0.043378,
     "end_time": "2021-06-30T00:20:39.033632",
     "exception": false,
     "start_time": "2021-06-30T00:20:38.990254",
     "status": "completed"
    },
    "tags": []
   },
   "outputs": [],
   "source": [
    "# #hide\n",
    "# g = g.reset_index(['date'])"
   ]
  },
  {
   "cell_type": "code",
   "execution_count": 25,
   "id": "incomplete-mustang",
   "metadata": {
    "execution": {
     "iopub.execute_input": "2021-06-30T00:20:39.111191Z",
     "iopub.status.busy": "2021-06-30T00:20:39.110567Z",
     "iopub.status.idle": "2021-06-30T00:20:39.112328Z",
     "shell.execute_reply": "2021-06-30T00:20:39.112934Z"
    },
    "papermill": {
     "duration": 0.043248,
     "end_time": "2021-06-30T00:20:39.113081",
     "exception": false,
     "start_time": "2021-06-30T00:20:39.069833",
     "status": "completed"
    },
    "tags": []
   },
   "outputs": [],
   "source": [
    "#hide\n",
    "# g.head()"
   ]
  },
  {
   "cell_type": "code",
   "execution_count": 26,
   "id": "specific-kruger",
   "metadata": {
    "execution": {
     "iopub.execute_input": "2021-06-30T00:20:39.186688Z",
     "iopub.status.busy": "2021-06-30T00:20:39.186092Z",
     "iopub.status.idle": "2021-06-30T00:20:39.188478Z",
     "shell.execute_reply": "2021-06-30T00:20:39.187994Z"
    },
    "papermill": {
     "duration": 0.040879,
     "end_time": "2021-06-30T00:20:39.188593",
     "exception": false,
     "start_time": "2021-06-30T00:20:39.147714",
     "status": "completed"
    },
    "tags": []
   },
   "outputs": [],
   "source": [
    "#hide\n",
    "# g.columns = ['date','country','cases']"
   ]
  },
  {
   "cell_type": "code",
   "execution_count": 27,
   "id": "tender-conversion",
   "metadata": {
    "execution": {
     "iopub.execute_input": "2021-06-30T00:20:39.263283Z",
     "iopub.status.busy": "2021-06-30T00:20:39.262716Z",
     "iopub.status.idle": "2021-06-30T00:20:39.264957Z",
     "shell.execute_reply": "2021-06-30T00:20:39.264444Z"
    },
    "papermill": {
     "duration": 0.041125,
     "end_time": "2021-06-30T00:20:39.265078",
     "exception": false,
     "start_time": "2021-06-30T00:20:39.223953",
     "status": "completed"
    },
    "tags": []
   },
   "outputs": [],
   "source": [
    "#hide\n",
    "# g['continent'] = g.country"
   ]
  },
  {
   "cell_type": "code",
   "execution_count": 28,
   "id": "substantial-wilderness",
   "metadata": {
    "execution": {
     "iopub.execute_input": "2021-06-30T00:20:39.340386Z",
     "iopub.status.busy": "2021-06-30T00:20:39.339778Z",
     "iopub.status.idle": "2021-06-30T00:20:39.341640Z",
     "shell.execute_reply": "2021-06-30T00:20:39.342106Z"
    },
    "papermill": {
     "duration": 0.042888,
     "end_time": "2021-06-30T00:20:39.342250",
     "exception": false,
     "start_time": "2021-06-30T00:20:39.299362",
     "status": "completed"
    },
    "tags": []
   },
   "outputs": [],
   "source": [
    "#hide\n",
    "# cols = list(g.columns.values)"
   ]
  },
  {
   "cell_type": "code",
   "execution_count": 29,
   "id": "solved-farming",
   "metadata": {
    "execution": {
     "iopub.execute_input": "2021-06-30T00:20:39.418617Z",
     "iopub.status.busy": "2021-06-30T00:20:39.418050Z",
     "iopub.status.idle": "2021-06-30T00:20:39.419749Z",
     "shell.execute_reply": "2021-06-30T00:20:39.420242Z"
    },
    "papermill": {
     "duration": 0.042927,
     "end_time": "2021-06-30T00:20:39.420378",
     "exception": false,
     "start_time": "2021-06-30T00:20:39.377451",
     "status": "completed"
    },
    "tags": []
   },
   "outputs": [],
   "source": [
    "#hide\n",
    "# cols.insert(0, cols.pop())"
   ]
  },
  {
   "cell_type": "code",
   "execution_count": 30,
   "id": "executed-adoption",
   "metadata": {
    "execution": {
     "iopub.execute_input": "2021-06-30T00:20:39.493970Z",
     "iopub.status.busy": "2021-06-30T00:20:39.493395Z",
     "iopub.status.idle": "2021-06-30T00:20:39.495164Z",
     "shell.execute_reply": "2021-06-30T00:20:39.495700Z"
    },
    "papermill": {
     "duration": 0.040965,
     "end_time": "2021-06-30T00:20:39.495827",
     "exception": false,
     "start_time": "2021-06-30T00:20:39.454862",
     "status": "completed"
    },
    "tags": []
   },
   "outputs": [],
   "source": [
    "#hide\n",
    "# g = g[cols]"
   ]
  },
  {
   "cell_type": "code",
   "execution_count": 31,
   "id": "subject-dublin",
   "metadata": {
    "execution": {
     "iopub.execute_input": "2021-06-30T00:20:39.577356Z",
     "iopub.status.busy": "2021-06-30T00:20:39.576695Z",
     "iopub.status.idle": "2021-06-30T00:20:39.579233Z",
     "shell.execute_reply": "2021-06-30T00:20:39.578553Z"
    },
    "papermill": {
     "duration": 0.045369,
     "end_time": "2021-06-30T00:20:39.579382",
     "exception": false,
     "start_time": "2021-06-30T00:20:39.534013",
     "status": "completed"
    },
    "tags": []
   },
   "outputs": [],
   "source": [
    "#hide\n",
    "# g['continent'] = g['continent'].map(mapping['map.continent'])"
   ]
  },
  {
   "cell_type": "code",
   "execution_count": 32,
   "id": "freelance-scout",
   "metadata": {
    "execution": {
     "iopub.execute_input": "2021-06-30T00:20:39.660936Z",
     "iopub.status.busy": "2021-06-30T00:20:39.660220Z",
     "iopub.status.idle": "2021-06-30T00:20:39.662521Z",
     "shell.execute_reply": "2021-06-30T00:20:39.662002Z"
    },
    "papermill": {
     "duration": 0.044203,
     "end_time": "2021-06-30T00:20:39.662645",
     "exception": false,
     "start_time": "2021-06-30T00:20:39.618442",
     "status": "completed"
    },
    "tags": []
   },
   "outputs": [],
   "source": [
    "#hide\n",
    "# g.head()"
   ]
  },
  {
   "cell_type": "code",
   "execution_count": 33,
   "id": "limited-engine",
   "metadata": {
    "execution": {
     "iopub.execute_input": "2021-06-30T00:20:39.743820Z",
     "iopub.status.busy": "2021-06-30T00:20:39.742532Z",
     "iopub.status.idle": "2021-06-30T00:20:39.744478Z",
     "shell.execute_reply": "2021-06-30T00:20:39.744971Z"
    },
    "papermill": {
     "duration": 0.046719,
     "end_time": "2021-06-30T00:20:39.745109",
     "exception": false,
     "start_time": "2021-06-30T00:20:39.698390",
     "status": "completed"
    },
    "tags": []
   },
   "outputs": [],
   "source": [
    "# hide\n",
    "# g['date'] = g['date'].astype('datetime64[ns]')"
   ]
  },
  {
   "cell_type": "code",
   "execution_count": 34,
   "id": "sophisticated-supervisor",
   "metadata": {
    "execution": {
     "iopub.execute_input": "2021-06-30T00:20:39.821208Z",
     "iopub.status.busy": "2021-06-30T00:20:39.819441Z",
     "iopub.status.idle": "2021-06-30T00:20:39.821940Z",
     "shell.execute_reply": "2021-06-30T00:20:39.822523Z"
    },
    "papermill": {
     "duration": 0.043071,
     "end_time": "2021-06-30T00:20:39.822698",
     "exception": false,
     "start_time": "2021-06-30T00:20:39.779627",
     "status": "completed"
    },
    "tags": []
   },
   "outputs": [],
   "source": [
    "#hide\n",
    "# g['date'] = g.date.dt.dayofyear"
   ]
  },
  {
   "cell_type": "code",
   "execution_count": 35,
   "id": "inside-dubai",
   "metadata": {
    "execution": {
     "iopub.execute_input": "2021-06-30T00:20:39.897253Z",
     "iopub.status.busy": "2021-06-30T00:20:39.896648Z",
     "iopub.status.idle": "2021-06-30T00:20:39.898967Z",
     "shell.execute_reply": "2021-06-30T00:20:39.898387Z"
    },
    "papermill": {
     "duration": 0.041377,
     "end_time": "2021-06-30T00:20:39.899082",
     "exception": false,
     "start_time": "2021-06-30T00:20:39.857705",
     "status": "completed"
    },
    "tags": []
   },
   "outputs": [],
   "source": [
    "#hide\n",
    "# g = g.rename(columns= {'continent':'group','country':'name','cases':'value'})"
   ]
  },
  {
   "cell_type": "code",
   "execution_count": 36,
   "id": "fleet-motorcycle",
   "metadata": {
    "execution": {
     "iopub.execute_input": "2021-06-30T00:20:39.975363Z",
     "iopub.status.busy": "2021-06-30T00:20:39.974746Z",
     "iopub.status.idle": "2021-06-30T00:20:39.976527Z",
     "shell.execute_reply": "2021-06-30T00:20:39.977065Z"
    },
    "papermill": {
     "duration": 0.041804,
     "end_time": "2021-06-30T00:20:39.977203",
     "exception": false,
     "start_time": "2021-06-30T00:20:39.935399",
     "status": "completed"
    },
    "tags": []
   },
   "outputs": [],
   "source": [
    "#hide\n",
    "# cols = ['name','group','day','value']"
   ]
  },
  {
   "cell_type": "code",
   "execution_count": 37,
   "id": "continued-sleeping",
   "metadata": {
    "execution": {
     "iopub.execute_input": "2021-06-30T00:20:40.050274Z",
     "iopub.status.busy": "2021-06-30T00:20:40.049705Z",
     "iopub.status.idle": "2021-06-30T00:20:40.053049Z",
     "shell.execute_reply": "2021-06-30T00:20:40.051520Z"
    },
    "papermill": {
     "duration": 0.040585,
     "end_time": "2021-06-30T00:20:40.053260",
     "exception": false,
     "start_time": "2021-06-30T00:20:40.012675",
     "status": "completed"
    },
    "tags": []
   },
   "outputs": [],
   "source": [
    "#hide\n",
    "# g.rename(columns= {'date':'day'},inplace = True)"
   ]
  },
  {
   "cell_type": "code",
   "execution_count": 38,
   "id": "major-fight",
   "metadata": {
    "execution": {
     "iopub.execute_input": "2021-06-30T00:20:40.131463Z",
     "iopub.status.busy": "2021-06-30T00:20:40.130852Z",
     "iopub.status.idle": "2021-06-30T00:20:40.133305Z",
     "shell.execute_reply": "2021-06-30T00:20:40.132670Z"
    },
    "papermill": {
     "duration": 0.045262,
     "end_time": "2021-06-30T00:20:40.133442",
     "exception": false,
     "start_time": "2021-06-30T00:20:40.088180",
     "status": "completed"
    },
    "tags": []
   },
   "outputs": [],
   "source": [
    "#hide\n",
    "# g = g[cols]"
   ]
  },
  {
   "cell_type": "code",
   "execution_count": 39,
   "id": "structured-mobile",
   "metadata": {
    "execution": {
     "iopub.execute_input": "2021-06-30T00:20:40.213335Z",
     "iopub.status.busy": "2021-06-30T00:20:40.212637Z",
     "iopub.status.idle": "2021-06-30T00:20:40.215026Z",
     "shell.execute_reply": "2021-06-30T00:20:40.214419Z"
    },
    "papermill": {
     "duration": 0.045557,
     "end_time": "2021-06-30T00:20:40.215156",
     "exception": false,
     "start_time": "2021-06-30T00:20:40.169599",
     "status": "completed"
    },
    "tags": []
   },
   "outputs": [],
   "source": [
    "# #hide\n",
    "# g = g[g.group.notna()]"
   ]
  },
  {
   "cell_type": "code",
   "execution_count": 40,
   "id": "determined-closing",
   "metadata": {
    "execution": {
     "iopub.execute_input": "2021-06-30T00:20:40.295059Z",
     "iopub.status.busy": "2021-06-30T00:20:40.294325Z",
     "iopub.status.idle": "2021-06-30T00:20:40.296154Z",
     "shell.execute_reply": "2021-06-30T00:20:40.296792Z"
    },
    "papermill": {
     "duration": 0.044056,
     "end_time": "2021-06-30T00:20:40.296945",
     "exception": false,
     "start_time": "2021-06-30T00:20:40.252889",
     "status": "completed"
    },
    "tags": []
   },
   "outputs": [],
   "source": [
    "# #hide\n",
    "# colors = dict(zip(\n",
    "#     [\"Oceania\", \"Europe\", \"Asia\", \"South America\", \"Middle East\", \"North America\", \"Africa\"],\n",
    "#     [\"#adb0ff\", \"#ffb3ff\", \"#90d595\", \"#e48381\", \"#aafbff\", \"#f7bb5f\", \"#eafb50\"]\n",
    "# ))\n",
    "# group_lk = g.set_index('name')['group'].to_dict()"
   ]
  },
  {
   "cell_type": "code",
   "execution_count": null,
   "id": "gross-drinking",
   "metadata": {
    "papermill": {
     "duration": 0.03582,
     "end_time": "2021-06-30T00:20:40.369081",
     "exception": false,
     "start_time": "2021-06-30T00:20:40.333261",
     "status": "completed"
    },
    "tags": []
   },
   "outputs": [],
   "source": []
  },
  {
   "cell_type": "code",
   "execution_count": 41,
   "id": "subject-macintosh",
   "metadata": {
    "execution": {
     "iopub.execute_input": "2021-06-30T00:20:40.447531Z",
     "iopub.status.busy": "2021-06-30T00:20:40.446818Z",
     "iopub.status.idle": "2021-06-30T00:20:40.449719Z",
     "shell.execute_reply": "2021-06-30T00:20:40.449230Z"
    },
    "papermill": {
     "duration": 0.045522,
     "end_time": "2021-06-30T00:20:40.449841",
     "exception": false,
     "start_time": "2021-06-30T00:20:40.404319",
     "status": "completed"
    },
    "tags": []
   },
   "outputs": [],
   "source": [
    "# #hide\n",
    "# fig, ax = plt.subplots(figsize=(15, 8))\n",
    "\n",
    "# def draw_barchart(current_day):\n",
    "#     dff = g[g['day'].eq(current_day)].sort_values(by='value', ascending=True).tail(10)\n",
    "#     ax.clear()\n",
    "#     ax.barh(dff['name'], dff['value'], color=[colors[group_lk[x]] for x in dff['name']])\n",
    "#     dx = dff['value'].max() / 200\n",
    "    \n",
    "#     for i, (value, name) in enumerate(zip(dff['value'], dff['name'])):\n",
    "#         ax.text(value-dx, i,     name,           size=14, weight=600, ha='right', va='bottom')\n",
    "#         ax.text(value-dx, i-.25, group_lk[name], size=10, color='#444444', ha='right', va='baseline')\n",
    "#         ax.text(value+dx, i,     f'{value:,.0f}',  size=14, ha='left',  va='center')\n",
    "#     ax.text(1, 0.4, current_day, transform=ax.transAxes, color='#777777', size=46, ha='right', weight=800)\n",
    "#     ax.text(0, 1.06, 'Population (thousands)', transform=ax.transAxes, size=12, color='#777777')\n",
    "#     ax.xaxis.set_major_formatter(ticker.StrMethodFormatter('{x:,.0f}'))\n",
    "#     ax.xaxis.set_ticks_position('top')\n",
    "#     ax.tick_params(axis='x', colors='#777777', labelsize=12)\n",
    "#     ax.set_yticks([])\n",
    "#     ax.margins(0, 0.01)\n",
    "#     ax.grid(which='major', axis='x', linestyle='-')\n",
    "#     ax.set_axisbelow(True)\n",
    "    \n",
    "#     ax.text(0, 1.15, 'Coronavirus',\n",
    "#             transform=ax.transAxes, size=24, weight=600, ha='left', va='top')\n",
    "# #     ax.text(1, 0, 'by @pratapvardhan; credit @jburnmurdoch', transform=ax.transAxes, color='#777777', ha='right',\n",
    "# #             bbox=dict(facecolor='white', alpha=0.8, edgecolor='white'))\n",
    "#     plt.box(False)"
   ]
  },
  {
   "cell_type": "code",
   "execution_count": 42,
   "id": "sexual-wages",
   "metadata": {
    "execution": {
     "iopub.execute_input": "2021-06-30T00:20:40.530510Z",
     "iopub.status.busy": "2021-06-30T00:20:40.529803Z",
     "iopub.status.idle": "2021-06-30T00:20:40.532040Z",
     "shell.execute_reply": "2021-06-30T00:20:40.532710Z"
    },
    "papermill": {
     "duration": 0.046624,
     "end_time": "2021-06-30T00:20:40.532892",
     "exception": false,
     "start_time": "2021-06-30T00:20:40.486268",
     "status": "completed"
    },
    "tags": []
   },
   "outputs": [],
   "source": [
    "# #hide_input\n",
    "# fig, ax = plt.subplots(figsize=(15, 8))\n",
    "# animator = animation.FuncAnimation(fig, draw_barchart, frames=range(g.day.values.min(), g.day.values.max()))\n",
    "# HTML(animator.to_jshtml())\n",
    "# # or use animator.to_html5_video() or animator.save() "
   ]
  },
  {
   "cell_type": "code",
   "execution_count": null,
   "id": "australian-container",
   "metadata": {
    "papermill": {
     "duration": 0.035706,
     "end_time": "2021-06-30T00:20:40.605671",
     "exception": false,
     "start_time": "2021-06-30T00:20:40.569965",
     "status": "completed"
    },
    "tags": []
   },
   "outputs": [],
   "source": []
  },
  {
   "cell_type": "code",
   "execution_count": null,
   "id": "mediterranean-pontiac",
   "metadata": {
    "papermill": {
     "duration": 0.037301,
     "end_time": "2021-06-30T00:20:40.682786",
     "exception": false,
     "start_time": "2021-06-30T00:20:40.645485",
     "status": "completed"
    },
    "tags": []
   },
   "outputs": [],
   "source": []
  },
  {
   "cell_type": "code",
   "execution_count": null,
   "id": "aging-legislature",
   "metadata": {
    "papermill": {
     "duration": 0.035821,
     "end_time": "2021-06-30T00:20:40.755352",
     "exception": false,
     "start_time": "2021-06-30T00:20:40.719531",
     "status": "completed"
    },
    "tags": []
   },
   "outputs": [],
   "source": []
  }
 ],
 "metadata": {
  "kernelspec": {
   "display_name": "Python 3",
   "language": "python",
   "name": "python3"
  },
  "language_info": {
   "codemirror_mode": {
    "name": "ipython",
    "version": 3
   },
   "file_extension": ".py",
   "mimetype": "text/x-python",
   "name": "python",
   "nbconvert_exporter": "python",
   "pygments_lexer": "ipython3",
   "version": "3.6.13"
  },
  "papermill": {
   "duration": 6.942481,
   "end_time": "2021-06-30T00:20:41.098595",
   "environment_variables": {},
   "exception": null,
   "input_path": "2020-03-21-covid19exp.ipynb",
   "output_path": "2020-03-21-covid19exp.ipynb",
   "parameters": {},
   "start_time": "2021-06-30T00:20:34.156114",
   "version": "2.0.0"
  }
 },
 "nbformat": 4,
 "nbformat_minor": 5
}