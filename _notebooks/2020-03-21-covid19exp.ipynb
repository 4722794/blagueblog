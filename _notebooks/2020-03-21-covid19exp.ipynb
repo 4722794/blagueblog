{
 "cells": [
  {
   "cell_type": "markdown",
   "id": "muslim-click",
   "metadata": {
    "papermill": {
     "duration": 0.034458,
     "end_time": "2022-01-25T00:28:00.538212",
     "exception": false,
     "start_time": "2022-01-25T00:28:00.503754",
     "status": "completed"
    },
    "tags": []
   },
   "source": [
    "# COVID-19 Case Race\n",
    "> A race chart to see rising cases around the world\n",
    "\n",
    "- author: Hargun Oberoi\n",
    "- image: images/covid-overview.png\n",
    "- hide: false\n",
    "- badges: false"
   ]
  },
  {
   "cell_type": "code",
   "execution_count": 1,
   "id": "proof-material",
   "metadata": {
    "execution": {
     "iopub.execute_input": "2022-01-25T00:28:00.608539Z",
     "iopub.status.busy": "2022-01-25T00:28:00.607958Z",
     "iopub.status.idle": "2022-01-25T00:28:00.920815Z",
     "shell.execute_reply": "2022-01-25T00:28:00.920264Z"
    },
    "papermill": {
     "duration": 0.352558,
     "end_time": "2022-01-25T00:28:00.920971",
     "exception": false,
     "start_time": "2022-01-25T00:28:00.568413",
     "status": "completed"
    },
    "tags": []
   },
   "outputs": [],
   "source": [
    "#hide\n",
    "import numpy as np\n",
    "import pandas as pd\n",
    "from jinja2 import Template\n",
    "from IPython.display import HTML"
   ]
  },
  {
   "cell_type": "code",
   "execution_count": 2,
   "id": "developed-terminology",
   "metadata": {
    "execution": {
     "iopub.execute_input": "2022-01-25T00:28:00.987170Z",
     "iopub.status.busy": "2022-01-25T00:28:00.986562Z",
     "iopub.status.idle": "2022-01-25T00:28:00.988111Z",
     "shell.execute_reply": "2022-01-25T00:28:00.988535Z"
    },
    "papermill": {
     "duration": 0.036281,
     "end_time": "2022-01-25T00:28:00.988666",
     "exception": false,
     "start_time": "2022-01-25T00:28:00.952385",
     "status": "completed"
    },
    "tags": []
   },
   "outputs": [],
   "source": [
    "#hide\n",
    "\n",
    "# FETCH\n",
    "base_url = 'https://raw.githubusercontent.com/pratapvardhan/notebooks/master/covid19/'\n",
    "paths = {\n",
    "    'mapping': base_url + 'mapping_countries.csv',\n",
    "    'overview': base_url + 'overview.tpl'\n",
    "}"
   ]
  },
  {
   "cell_type": "code",
   "execution_count": 3,
   "id": "dynamic-saver",
   "metadata": {
    "execution": {
     "iopub.execute_input": "2022-01-25T00:28:01.056557Z",
     "iopub.status.busy": "2022-01-25T00:28:01.056023Z",
     "iopub.status.idle": "2022-01-25T00:28:01.059052Z",
     "shell.execute_reply": "2022-01-25T00:28:01.058619Z"
    },
    "papermill": {
     "duration": 0.040996,
     "end_time": "2022-01-25T00:28:01.059156",
     "exception": false,
     "start_time": "2022-01-25T00:28:01.018160",
     "status": "completed"
    },
    "tags": []
   },
   "outputs": [
    {
     "data": {
      "text/plain": [
       "'https://raw.githubusercontent.com/pratapvardhan/notebooks/master/covid19/mapping_countries.csv'"
      ]
     },
     "execution_count": 3,
     "metadata": {},
     "output_type": "execute_result"
    }
   ],
   "source": [
    "#hide\n",
    "paths['mapping']"
   ]
  },
  {
   "cell_type": "code",
   "execution_count": 4,
   "id": "urban-software",
   "metadata": {
    "execution": {
     "iopub.execute_input": "2022-01-25T00:28:01.123972Z",
     "iopub.status.busy": "2022-01-25T00:28:01.123366Z",
     "iopub.status.idle": "2022-01-25T00:28:01.125549Z",
     "shell.execute_reply": "2022-01-25T00:28:01.125058Z"
    },
    "papermill": {
     "duration": 0.036582,
     "end_time": "2022-01-25T00:28:01.125667",
     "exception": false,
     "start_time": "2022-01-25T00:28:01.089085",
     "status": "completed"
    },
    "tags": []
   },
   "outputs": [],
   "source": [
    "#hide\n",
    "def get_mappings(url):\n",
    "    df = pd.read_csv(url)\n",
    "    return {\n",
    "        'df': df,\n",
    "        'replace.country': dict(df.dropna(subset=['Name']).set_index('Country')['Name']),\n",
    "        'map.continent': dict(df.set_index('Name')['Continent'])\n",
    "    }"
   ]
  },
  {
   "cell_type": "code",
   "execution_count": 5,
   "id": "intimate-machinery",
   "metadata": {
    "execution": {
     "iopub.execute_input": "2022-01-25T00:28:01.190486Z",
     "iopub.status.busy": "2022-01-25T00:28:01.189971Z",
     "iopub.status.idle": "2022-01-25T00:28:01.224796Z",
     "shell.execute_reply": "2022-01-25T00:28:01.224315Z"
    },
    "papermill": {
     "duration": 0.068966,
     "end_time": "2022-01-25T00:28:01.224920",
     "exception": false,
     "start_time": "2022-01-25T00:28:01.155954",
     "status": "completed"
    },
    "tags": []
   },
   "outputs": [],
   "source": [
    "#hide\n",
    "mapping = get_mappings(paths['mapping'])"
   ]
  },
  {
   "cell_type": "code",
   "execution_count": 6,
   "id": "certified-tactics",
   "metadata": {
    "execution": {
     "iopub.execute_input": "2022-01-25T00:28:01.290333Z",
     "iopub.status.busy": "2022-01-25T00:28:01.289744Z",
     "iopub.status.idle": "2022-01-25T00:28:01.291918Z",
     "shell.execute_reply": "2022-01-25T00:28:01.291431Z"
    },
    "papermill": {
     "duration": 0.036323,
     "end_time": "2022-01-25T00:28:01.292033",
     "exception": false,
     "start_time": "2022-01-25T00:28:01.255710",
     "status": "completed"
    },
    "tags": []
   },
   "outputs": [],
   "source": [
    "#hide\n",
    "def get_template(path):\n",
    "    from urllib.parse import urlparse\n",
    "    if bool(urlparse(path).netloc):\n",
    "        from urllib.request import urlopen\n",
    "        return urlopen(path).read().decode('utf8')\n",
    "    return open(path).read()"
   ]
  },
  {
   "cell_type": "code",
   "execution_count": 7,
   "id": "realistic-blast",
   "metadata": {
    "execution": {
     "iopub.execute_input": "2022-01-25T00:28:01.355653Z",
     "iopub.status.busy": "2022-01-25T00:28:01.355141Z",
     "iopub.status.idle": "2022-01-25T00:28:01.359086Z",
     "shell.execute_reply": "2022-01-25T00:28:01.358680Z"
    },
    "papermill": {
     "duration": 0.037382,
     "end_time": "2022-01-25T00:28:01.359191",
     "exception": false,
     "start_time": "2022-01-25T00:28:01.321809",
     "status": "completed"
    },
    "tags": []
   },
   "outputs": [],
   "source": [
    "#hide\n",
    "def get_frame(name):\n",
    "    url = (\n",
    "        'https://raw.githubusercontent.com/CSSEGISandData/COVID-19/master/csse_covid_19_data/'\n",
    "        f'csse_covid_19_time_series/time_series_covid19_{name}_global.csv')\n",
    "    df = pd.read_csv(url)\n",
    "    # rename countries\n",
    "    df['Country/Region'] = df['Country/Region'].replace(mapping['replace.country'])\n",
    "    return df"
   ]
  },
  {
   "cell_type": "code",
   "execution_count": 8,
   "id": "affiliated-characterization",
   "metadata": {
    "execution": {
     "iopub.execute_input": "2022-01-25T00:28:01.423825Z",
     "iopub.status.busy": "2022-01-25T00:28:01.423247Z",
     "iopub.status.idle": "2022-01-25T00:28:01.424956Z",
     "shell.execute_reply": "2022-01-25T00:28:01.425337Z"
    },
    "papermill": {
     "duration": 0.036455,
     "end_time": "2022-01-25T00:28:01.425453",
     "exception": false,
     "start_time": "2022-01-25T00:28:01.388998",
     "status": "completed"
    },
    "tags": []
   },
   "outputs": [],
   "source": [
    "#hide\n",
    "def get_dates(df):\n",
    "    dt_cols = df.columns[~df.columns.isin(['Province/State', 'Country/Region', 'Lat', 'Long'])]\n",
    "    LAST_DATE_I = -1\n",
    "    # sometimes last column may be empty, then go backwards\n",
    "    for i in range(-1, -len(dt_cols), -1):\n",
    "        if not df[dt_cols[i]].fillna(0).eq(0).all():\n",
    "            LAST_DATE_I = i\n",
    "            break\n",
    "    return LAST_DATE_I, dt_cols"
   ]
  },
  {
   "cell_type": "code",
   "execution_count": 9,
   "id": "recent-optimization",
   "metadata": {
    "execution": {
     "iopub.execute_input": "2022-01-25T00:28:01.488552Z",
     "iopub.status.busy": "2022-01-25T00:28:01.488007Z",
     "iopub.status.idle": "2022-01-25T00:28:01.868971Z",
     "shell.execute_reply": "2022-01-25T00:28:01.869383Z"
    },
    "papermill": {
     "duration": 0.414641,
     "end_time": "2022-01-25T00:28:01.869530",
     "exception": false,
     "start_time": "2022-01-25T00:28:01.454889",
     "status": "completed"
    },
    "tags": []
   },
   "outputs": [],
   "source": [
    "#hide\n",
    "COL_REGION = 'Country/Region'\n",
    "# Confirmed, Recovered, Deaths\n",
    "df = get_frame('confirmed')\n",
    "# dft_: timeseries, dfc_: today country agg\n",
    "dft_cases = df\n",
    "dft_deaths = get_frame('deaths')\n",
    "dft_recovered = get_frame('recovered')\n",
    "LAST_DATE_I, dt_cols = get_dates(df)"
   ]
  },
  {
   "cell_type": "code",
   "execution_count": 10,
   "id": "absolute-copper",
   "metadata": {
    "execution": {
     "iopub.execute_input": "2022-01-25T00:28:01.934562Z",
     "iopub.status.busy": "2022-01-25T00:28:01.933968Z",
     "iopub.status.idle": "2022-01-25T00:28:01.935506Z",
     "shell.execute_reply": "2022-01-25T00:28:01.935943Z"
    },
    "papermill": {
     "duration": 0.036546,
     "end_time": "2022-01-25T00:28:01.936080",
     "exception": false,
     "start_time": "2022-01-25T00:28:01.899534",
     "status": "completed"
    },
    "tags": []
   },
   "outputs": [],
   "source": [
    "#hide\n",
    "LAST_DATE_I, dt_cols = get_dates(df)\n",
    "dt_today =dt_cols[LAST_DATE_I]\n",
    "# dt_5day = dt_cols[LAST_DATE_I - 5]\n",
    "dt_yday = dt_cols[LAST_DATE_I - 1]"
   ]
  },
  {
   "cell_type": "code",
   "execution_count": 11,
   "id": "restricted-sheriff",
   "metadata": {
    "execution": {
     "iopub.execute_input": "2022-01-25T00:28:02.000757Z",
     "iopub.status.busy": "2022-01-25T00:28:02.000228Z",
     "iopub.status.idle": "2022-01-25T00:28:02.008112Z",
     "shell.execute_reply": "2022-01-25T00:28:02.007706Z"
    },
    "papermill": {
     "duration": 0.041898,
     "end_time": "2022-01-25T00:28:02.008239",
     "exception": false,
     "start_time": "2022-01-25T00:28:01.966341",
     "status": "completed"
    },
    "tags": []
   },
   "outputs": [],
   "source": [
    "#hide\n",
    "dfc_cases = dft_cases.groupby(COL_REGION)[dt_today].sum()\n",
    "dfc_deaths = dft_deaths.groupby(COL_REGION)[dt_today].sum()\n",
    "# dfp_cases = dft_cases.groupby(COL_REGION)[dt_5day].sum()\n",
    "# dfp_deaths = dft_deaths.groupby(COL_REGION)[dt_5day].sum()\n",
    "dfp_cases = dft_cases.groupby(COL_REGION)[dt_yday].sum()\n",
    "dfp_deaths = dft_deaths.groupby(COL_REGION)[dt_yday].sum()"
   ]
  },
  {
   "cell_type": "code",
   "execution_count": 12,
   "id": "deluxe-hepatitis",
   "metadata": {
    "execution": {
     "iopub.execute_input": "2022-01-25T00:28:02.073137Z",
     "iopub.status.busy": "2022-01-25T00:28:02.072634Z",
     "iopub.status.idle": "2022-01-25T00:28:02.077174Z",
     "shell.execute_reply": "2022-01-25T00:28:02.076749Z"
    },
    "papermill": {
     "duration": 0.039282,
     "end_time": "2022-01-25T00:28:02.077274",
     "exception": false,
     "start_time": "2022-01-25T00:28:02.037992",
     "status": "completed"
    },
    "tags": []
   },
   "outputs": [],
   "source": [
    "#hide\n",
    "df_table = (pd.DataFrame(dict(Cases = dfc_cases, Deaths = dfc_deaths, PCases = dfp_cases, PDeaths = dfp_deaths))\n",
    "            .sort_values(by = ['Cases','Deaths'], ascending = [False, False])\n",
    "            .reset_index())"
   ]
  },
  {
   "cell_type": "code",
   "execution_count": 13,
   "id": "educational-chancellor",
   "metadata": {
    "execution": {
     "iopub.execute_input": "2022-01-25T00:28:02.153486Z",
     "iopub.status.busy": "2022-01-25T00:28:02.152974Z",
     "iopub.status.idle": "2022-01-25T00:28:02.160929Z",
     "shell.execute_reply": "2022-01-25T00:28:02.160513Z"
    },
    "papermill": {
     "duration": 0.054259,
     "end_time": "2022-01-25T00:28:02.161034",
     "exception": false,
     "start_time": "2022-01-25T00:28:02.106775",
     "status": "completed"
    },
    "tags": []
   },
   "outputs": [
    {
     "data": {
      "text/html": [
       "<div>\n",
       "<style scoped>\n",
       "    .dataframe tbody tr th:only-of-type {\n",
       "        vertical-align: middle;\n",
       "    }\n",
       "\n",
       "    .dataframe tbody tr th {\n",
       "        vertical-align: top;\n",
       "    }\n",
       "\n",
       "    .dataframe thead th {\n",
       "        text-align: right;\n",
       "    }\n",
       "</style>\n",
       "<table border=\"1\" class=\"dataframe\">\n",
       "  <thead>\n",
       "    <tr style=\"text-align: right;\">\n",
       "      <th></th>\n",
       "      <th>Country/Region</th>\n",
       "      <th>Cases</th>\n",
       "      <th>Deaths</th>\n",
       "      <th>PCases</th>\n",
       "      <th>PDeaths</th>\n",
       "      <th>Cases (+)</th>\n",
       "      <th>Deaths (+)</th>\n",
       "      <th>Fatality Rate</th>\n",
       "      <th>Continent</th>\n",
       "    </tr>\n",
       "  </thead>\n",
       "  <tbody>\n",
       "    <tr>\n",
       "      <th>0</th>\n",
       "      <td>US</td>\n",
       "      <td>70700678</td>\n",
       "      <td>866540</td>\n",
       "      <td>70495874</td>\n",
       "      <td>865968</td>\n",
       "      <td>204804</td>\n",
       "      <td>572</td>\n",
       "      <td>1.23</td>\n",
       "      <td>North America</td>\n",
       "    </tr>\n",
       "    <tr>\n",
       "      <th>1</th>\n",
       "      <td>India</td>\n",
       "      <td>39543328</td>\n",
       "      <td>489848</td>\n",
       "      <td>39237264</td>\n",
       "      <td>489409</td>\n",
       "      <td>306064</td>\n",
       "      <td>439</td>\n",
       "      <td>1.24</td>\n",
       "      <td>Asia</td>\n",
       "    </tr>\n",
       "    <tr>\n",
       "      <th>2</th>\n",
       "      <td>Brazil</td>\n",
       "      <td>24054405</td>\n",
       "      <td>623370</td>\n",
       "      <td>23931609</td>\n",
       "      <td>623191</td>\n",
       "      <td>122796</td>\n",
       "      <td>179</td>\n",
       "      <td>2.59</td>\n",
       "      <td>South America</td>\n",
       "    </tr>\n",
       "    <tr>\n",
       "      <th>3</th>\n",
       "      <td>France</td>\n",
       "      <td>16807733</td>\n",
       "      <td>129620</td>\n",
       "      <td>16506090</td>\n",
       "      <td>129505</td>\n",
       "      <td>301643</td>\n",
       "      <td>115</td>\n",
       "      <td>0.77</td>\n",
       "      <td>Europe</td>\n",
       "    </tr>\n",
       "    <tr>\n",
       "      <th>4</th>\n",
       "      <td>United Kingdom</td>\n",
       "      <td>15966838</td>\n",
       "      <td>154374</td>\n",
       "      <td>15891905</td>\n",
       "      <td>154298</td>\n",
       "      <td>74933</td>\n",
       "      <td>76</td>\n",
       "      <td>0.97</td>\n",
       "      <td>Europe</td>\n",
       "    </tr>\n",
       "  </tbody>\n",
       "</table>\n",
       "</div>"
      ],
      "text/plain": [
       "   Country/Region     Cases  Deaths    PCases  PDeaths  Cases (+)  Deaths (+)  \\\n",
       "0              US  70700678  866540  70495874   865968     204804         572   \n",
       "1           India  39543328  489848  39237264   489409     306064         439   \n",
       "2          Brazil  24054405  623370  23931609   623191     122796         179   \n",
       "3          France  16807733  129620  16506090   129505     301643         115   \n",
       "4  United Kingdom  15966838  154374  15891905   154298      74933          76   \n",
       "\n",
       "   Fatality Rate      Continent  \n",
       "0           1.23  North America  \n",
       "1           1.24           Asia  \n",
       "2           2.59  South America  \n",
       "3           0.77         Europe  \n",
       "4           0.97         Europe  "
      ]
     },
     "execution_count": 13,
     "metadata": {},
     "output_type": "execute_result"
    }
   ],
   "source": [
    "#hide\n",
    "for c in 'Cases, Deaths'.split(', '):\n",
    "    df_table[f'{c} (+)'] = (df_table[c] - df_table[f'P{c}']).clip(0)\n",
    "    #Clip ça veut dire, les chiffres negatif sont interdit\n",
    "df_table['Fatality Rate'] = (100* df_table['Deaths']/ df_table['Cases']).round(2)\n",
    "df_table['Continent'] = df_table['Country/Region'].map(mapping['map.continent'])\n",
    "df_table.head(5)"
   ]
  },
  {
   "cell_type": "code",
   "execution_count": 14,
   "id": "aboriginal-bulgaria",
   "metadata": {
    "execution": {
     "iopub.execute_input": "2022-01-25T00:28:02.226125Z",
     "iopub.status.busy": "2022-01-25T00:28:02.225619Z",
     "iopub.status.idle": "2022-01-25T00:28:02.227935Z",
     "shell.execute_reply": "2022-01-25T00:28:02.227529Z"
    },
    "papermill": {
     "duration": 0.036974,
     "end_time": "2022-01-25T00:28:02.228039",
     "exception": false,
     "start_time": "2022-01-25T00:28:02.191065",
     "status": "completed"
    },
    "tags": []
   },
   "outputs": [],
   "source": [
    "#hide\n",
    "#delete problematic countries from table\n",
    "df_table = df_table[~df_table['Country/Region'].isin(['Cape Verde', 'Cruise Ship', 'Kosovo'])]"
   ]
  },
  {
   "cell_type": "code",
   "execution_count": 15,
   "id": "fantastic-effect",
   "metadata": {
    "execution": {
     "iopub.execute_input": "2022-01-25T00:28:02.295261Z",
     "iopub.status.busy": "2022-01-25T00:28:02.294754Z",
     "iopub.status.idle": "2022-01-25T00:28:02.311690Z",
     "shell.execute_reply": "2022-01-25T00:28:02.311265Z"
    },
    "papermill": {
     "duration": 0.053797,
     "end_time": "2022-01-25T00:28:02.311790",
     "exception": false,
     "start_time": "2022-01-25T00:28:02.257993",
     "status": "completed"
    },
    "tags": []
   },
   "outputs": [
    {
     "data": {
      "text/html": [
       "<div>\n",
       "<style scoped>\n",
       "    .dataframe tbody tr th:only-of-type {\n",
       "        vertical-align: middle;\n",
       "    }\n",
       "\n",
       "    .dataframe tbody tr th {\n",
       "        vertical-align: top;\n",
       "    }\n",
       "\n",
       "    .dataframe thead th {\n",
       "        text-align: right;\n",
       "    }\n",
       "</style>\n",
       "<table border=\"1\" class=\"dataframe\">\n",
       "  <thead>\n",
       "    <tr style=\"text-align: right;\">\n",
       "      <th></th>\n",
       "      <th>Country/Region</th>\n",
       "      <th>Cases</th>\n",
       "      <th>Deaths</th>\n",
       "      <th>PCases</th>\n",
       "      <th>PDeaths</th>\n",
       "      <th>Cases (+)</th>\n",
       "      <th>Deaths (+)</th>\n",
       "      <th>Fatality Rate</th>\n",
       "      <th>Continent</th>\n",
       "    </tr>\n",
       "  </thead>\n",
       "  <tbody>\n",
       "    <tr>\n",
       "      <th>0</th>\n",
       "      <td>US</td>\n",
       "      <td>70700678</td>\n",
       "      <td>866540</td>\n",
       "      <td>70495874</td>\n",
       "      <td>865968</td>\n",
       "      <td>204804</td>\n",
       "      <td>572</td>\n",
       "      <td>1.2</td>\n",
       "      <td>North America</td>\n",
       "    </tr>\n",
       "    <tr>\n",
       "      <th>1</th>\n",
       "      <td>India</td>\n",
       "      <td>39543328</td>\n",
       "      <td>489848</td>\n",
       "      <td>39237264</td>\n",
       "      <td>489409</td>\n",
       "      <td>306064</td>\n",
       "      <td>439</td>\n",
       "      <td>1.2</td>\n",
       "      <td>Asia</td>\n",
       "    </tr>\n",
       "    <tr>\n",
       "      <th>2</th>\n",
       "      <td>Brazil</td>\n",
       "      <td>24054405</td>\n",
       "      <td>623370</td>\n",
       "      <td>23931609</td>\n",
       "      <td>623191</td>\n",
       "      <td>122796</td>\n",
       "      <td>179</td>\n",
       "      <td>2.6</td>\n",
       "      <td>South America</td>\n",
       "    </tr>\n",
       "    <tr>\n",
       "      <th>3</th>\n",
       "      <td>France</td>\n",
       "      <td>16807733</td>\n",
       "      <td>129620</td>\n",
       "      <td>16506090</td>\n",
       "      <td>129505</td>\n",
       "      <td>301643</td>\n",
       "      <td>115</td>\n",
       "      <td>0.8</td>\n",
       "      <td>Europe</td>\n",
       "    </tr>\n",
       "    <tr>\n",
       "      <th>4</th>\n",
       "      <td>United Kingdom</td>\n",
       "      <td>15966838</td>\n",
       "      <td>154374</td>\n",
       "      <td>15891905</td>\n",
       "      <td>154298</td>\n",
       "      <td>74933</td>\n",
       "      <td>76</td>\n",
       "      <td>1.0</td>\n",
       "      <td>Europe</td>\n",
       "    </tr>\n",
       "  </tbody>\n",
       "</table>\n",
       "</div>"
      ],
      "text/plain": [
       "   Country/Region     Cases  Deaths    PCases  PDeaths  Cases (+)  Deaths (+)  \\\n",
       "0              US  70700678  866540  70495874   865968     204804         572   \n",
       "1           India  39543328  489848  39237264   489409     306064         439   \n",
       "2          Brazil  24054405  623370  23931609   623191     122796         179   \n",
       "3          France  16807733  129620  16506090   129505     301643         115   \n",
       "4  United Kingdom  15966838  154374  15891905   154298      74933          76   \n",
       "\n",
       "   Fatality Rate      Continent  \n",
       "0            1.2  North America  \n",
       "1            1.2           Asia  \n",
       "2            2.6  South America  \n",
       "3            0.8         Europe  \n",
       "4            1.0         Europe  "
      ]
     },
     "execution_count": 15,
     "metadata": {},
     "output_type": "execute_result"
    }
   ],
   "source": [
    "#hide\n",
    "df_table = (pd.DataFrame(dict(Cases=dfc_cases, Deaths=dfc_deaths, PCases=dfp_cases, PDeaths=dfp_deaths))\n",
    "             .sort_values(by=['Cases', 'Deaths'], ascending=[False, False])\n",
    "             .reset_index())\n",
    "df_table.rename(columns={'index': 'Country/Region'}, inplace=True)\n",
    "for c in 'Cases, Deaths'.split(', '):\n",
    "    df_table[f'{c} (+)'] = (df_table[c] - df_table[f'P{c}']).clip(0)  # DATA BUG\n",
    "df_table['Fatality Rate'] = (100 * df_table['Deaths'] / df_table['Cases']).round(1)\n",
    "df_table['Continent'] = df_table['Country/Region'].map(mapping['map.continent'])\n",
    "df_table.head(5)"
   ]
  },
  {
   "cell_type": "code",
   "execution_count": 16,
   "id": "fewer-occasion",
   "metadata": {
    "execution": {
     "iopub.execute_input": "2022-01-25T00:28:02.377556Z",
     "iopub.status.busy": "2022-01-25T00:28:02.377053Z",
     "iopub.status.idle": "2022-01-25T00:28:02.379010Z",
     "shell.execute_reply": "2022-01-25T00:28:02.379443Z"
    },
    "papermill": {
     "duration": 0.037189,
     "end_time": "2022-01-25T00:28:02.379556",
     "exception": false,
     "start_time": "2022-01-25T00:28:02.342367",
     "status": "completed"
    },
    "tags": []
   },
   "outputs": [],
   "source": [
    "#hide\n",
    "#delete problematic countries from table\n",
    "df_table = df_table[~df_table['Country/Region'].isin(['Cape Verde', 'Cruise Ship', 'Kosovo'])]"
   ]
  },
  {
   "cell_type": "code",
   "execution_count": 17,
   "id": "related-center",
   "metadata": {
    "execution": {
     "iopub.execute_input": "2022-01-25T00:28:02.447935Z",
     "iopub.status.busy": "2022-01-25T00:28:02.447423Z",
     "iopub.status.idle": "2022-01-25T00:28:02.459176Z",
     "shell.execute_reply": "2022-01-25T00:28:02.458747Z"
    },
    "papermill": {
     "duration": 0.049319,
     "end_time": "2022-01-25T00:28:02.459278",
     "exception": false,
     "start_time": "2022-01-25T00:28:02.409959",
     "status": "completed"
    },
    "tags": []
   },
   "outputs": [],
   "source": [
    "#hide\n",
    "metrics = [df_table.columns[index] for index in [1,2,5,6]]\n",
    "# s_china = df_table[df_table['Country/Region'].eq('China')][metrics].sum().add_prefix('China ')\n",
    "s_us = df_table[df_table['Country/Region'].eq('US')][metrics].sum().add_prefix('US ')\n",
    "s_eu = df_table[df_table['Continent'].eq('Europe')][metrics].sum().add_prefix('EU ')\n",
    "s_ind = df_table[df_table['Country/Region'].eq('India')][metrics].sum().add_prefix('India ')\n",
    "summary = {'updated': pd.to_datetime(dt_today), 'since': pd.to_datetime(dt_yday)}\n",
    "summary = {'updated': pd.to_datetime(dt_today), 'since': pd.to_datetime(dt_yday)}\n",
    "summary = {**summary, **df_table[metrics].sum(), **s_ind, **s_us, **s_eu}"
   ]
  },
  {
   "cell_type": "code",
   "execution_count": 18,
   "id": "engaging-syndrome",
   "metadata": {
    "execution": {
     "iopub.execute_input": "2022-01-25T00:28:02.524758Z",
     "iopub.status.busy": "2022-01-25T00:28:02.524244Z",
     "iopub.status.idle": "2022-01-25T00:28:02.537610Z",
     "shell.execute_reply": "2022-01-25T00:28:02.537200Z"
    },
    "papermill": {
     "duration": 0.047784,
     "end_time": "2022-01-25T00:28:02.537715",
     "exception": false,
     "start_time": "2022-01-25T00:28:02.489931",
     "status": "completed"
    },
    "tags": []
   },
   "outputs": [],
   "source": [
    "#hide\n",
    "dft_ct_new_cases = dft_cases.groupby(COL_REGION)[dt_cols].sum().diff(axis=1).fillna(0).astype(int)"
   ]
  },
  {
   "cell_type": "code",
   "execution_count": 19,
   "id": "neutral-assignment",
   "metadata": {
    "execution": {
     "iopub.execute_input": "2022-01-25T00:28:02.604373Z",
     "iopub.status.busy": "2022-01-25T00:28:02.603754Z",
     "iopub.status.idle": "2022-01-25T00:28:02.605933Z",
     "shell.execute_reply": "2022-01-25T00:28:02.605447Z"
    },
    "papermill": {
     "duration": 0.037689,
     "end_time": "2022-01-25T00:28:02.606046",
     "exception": false,
     "start_time": "2022-01-25T00:28:02.568357",
     "status": "completed"
    },
    "tags": []
   },
   "outputs": [],
   "source": [
    "#hide\n",
    "everydaycases = dft_ct_new_cases.cumsum(axis=1)"
   ]
  },
  {
   "cell_type": "code",
   "execution_count": 20,
   "id": "parliamentary-calgary",
   "metadata": {
    "execution": {
     "iopub.execute_input": "2022-01-25T00:28:02.671405Z",
     "iopub.status.busy": "2022-01-25T00:28:02.670900Z",
     "iopub.status.idle": "2022-01-25T00:28:03.318582Z",
     "shell.execute_reply": "2022-01-25T00:28:03.318121Z"
    },
    "papermill": {
     "duration": 0.681446,
     "end_time": "2022-01-25T00:28:03.318704",
     "exception": false,
     "start_time": "2022-01-25T00:28:02.637258",
     "status": "completed"
    },
    "tags": []
   },
   "outputs": [],
   "source": [
    "#hide\n",
    "import pandas as pd\n",
    "import matplotlib.pyplot as plt\n",
    "import matplotlib.ticker as ticker\n",
    "import matplotlib.animation as animation\n",
    "from IPython.display import HTML"
   ]
  },
  {
   "cell_type": "code",
   "execution_count": 21,
   "id": "lasting-extraction",
   "metadata": {
    "execution": {
     "iopub.execute_input": "2022-01-25T00:28:03.385996Z",
     "iopub.status.busy": "2022-01-25T00:28:03.385487Z",
     "iopub.status.idle": "2022-01-25T00:28:03.391458Z",
     "shell.execute_reply": "2022-01-25T00:28:03.391865Z"
    },
    "papermill": {
     "duration": 0.042105,
     "end_time": "2022-01-25T00:28:03.391982",
     "exception": false,
     "start_time": "2022-01-25T00:28:03.349877",
     "status": "completed"
    },
    "tags": []
   },
   "outputs": [],
   "source": [
    "#hide\n",
    "t = everydaycases.stack()"
   ]
  },
  {
   "cell_type": "code",
   "execution_count": 22,
   "id": "premier-sleeve",
   "metadata": {
    "execution": {
     "iopub.execute_input": "2022-01-25T00:28:03.457030Z",
     "iopub.status.busy": "2022-01-25T00:28:03.456527Z",
     "iopub.status.idle": "2022-01-25T00:28:03.466883Z",
     "shell.execute_reply": "2022-01-25T00:28:03.466476Z"
    },
    "papermill": {
     "duration": 0.044429,
     "end_time": "2022-01-25T00:28:03.466990",
     "exception": false,
     "start_time": "2022-01-25T00:28:03.422561",
     "status": "completed"
    },
    "tags": []
   },
   "outputs": [],
   "source": [
    "#hide\n",
    "g = t.reset_index(['Country/Region'])"
   ]
  },
  {
   "cell_type": "code",
   "execution_count": 23,
   "id": "distributed-pittsburgh",
   "metadata": {
    "execution": {
     "iopub.execute_input": "2022-01-25T00:28:03.531770Z",
     "iopub.status.busy": "2022-01-25T00:28:03.531163Z",
     "iopub.status.idle": "2022-01-25T00:28:03.534693Z",
     "shell.execute_reply": "2022-01-25T00:28:03.535081Z"
    },
    "papermill": {
     "duration": 0.037613,
     "end_time": "2022-01-25T00:28:03.535202",
     "exception": false,
     "start_time": "2022-01-25T00:28:03.497589",
     "status": "completed"
    },
    "tags": []
   },
   "outputs": [],
   "source": [
    "#hide\n",
    "g.index.name = 'date'"
   ]
  },
  {
   "cell_type": "code",
   "execution_count": 24,
   "id": "naked-donor",
   "metadata": {
    "execution": {
     "iopub.execute_input": "2022-01-25T00:28:03.600178Z",
     "iopub.status.busy": "2022-01-25T00:28:03.598909Z",
     "iopub.status.idle": "2022-01-25T00:28:03.600828Z",
     "shell.execute_reply": "2022-01-25T00:28:03.601288Z"
    },
    "papermill": {
     "duration": 0.035618,
     "end_time": "2022-01-25T00:28:03.601416",
     "exception": false,
     "start_time": "2022-01-25T00:28:03.565798",
     "status": "completed"
    },
    "tags": []
   },
   "outputs": [],
   "source": [
    "# #hide\n",
    "# g = g.reset_index(['date'])"
   ]
  },
  {
   "cell_type": "code",
   "execution_count": 25,
   "id": "incomplete-mustang",
   "metadata": {
    "execution": {
     "iopub.execute_input": "2022-01-25T00:28:03.665863Z",
     "iopub.status.busy": "2022-01-25T00:28:03.665276Z",
     "iopub.status.idle": "2022-01-25T00:28:03.669142Z",
     "shell.execute_reply": "2022-01-25T00:28:03.668737Z"
    },
    "papermill": {
     "duration": 0.037112,
     "end_time": "2022-01-25T00:28:03.669245",
     "exception": false,
     "start_time": "2022-01-25T00:28:03.632133",
     "status": "completed"
    },
    "tags": []
   },
   "outputs": [],
   "source": [
    "#hide\n",
    "# g.head()"
   ]
  },
  {
   "cell_type": "code",
   "execution_count": 26,
   "id": "specific-kruger",
   "metadata": {
    "execution": {
     "iopub.execute_input": "2022-01-25T00:28:03.733735Z",
     "iopub.status.busy": "2022-01-25T00:28:03.733217Z",
     "iopub.status.idle": "2022-01-25T00:28:03.736329Z",
     "shell.execute_reply": "2022-01-25T00:28:03.736722Z"
    },
    "papermill": {
     "duration": 0.036842,
     "end_time": "2022-01-25T00:28:03.736843",
     "exception": false,
     "start_time": "2022-01-25T00:28:03.700001",
     "status": "completed"
    },
    "tags": []
   },
   "outputs": [],
   "source": [
    "#hide\n",
    "# g.columns = ['date','country','cases']"
   ]
  },
  {
   "cell_type": "code",
   "execution_count": 27,
   "id": "tender-conversion",
   "metadata": {
    "execution": {
     "iopub.execute_input": "2022-01-25T00:28:03.801459Z",
     "iopub.status.busy": "2022-01-25T00:28:03.800908Z",
     "iopub.status.idle": "2022-01-25T00:28:03.803172Z",
     "shell.execute_reply": "2022-01-25T00:28:03.802744Z"
    },
    "papermill": {
     "duration": 0.036007,
     "end_time": "2022-01-25T00:28:03.803278",
     "exception": false,
     "start_time": "2022-01-25T00:28:03.767271",
     "status": "completed"
    },
    "tags": []
   },
   "outputs": [],
   "source": [
    "#hide\n",
    "# g['continent'] = g.country"
   ]
  },
  {
   "cell_type": "code",
   "execution_count": 28,
   "id": "substantial-wilderness",
   "metadata": {
    "execution": {
     "iopub.execute_input": "2022-01-25T00:28:03.868404Z",
     "iopub.status.busy": "2022-01-25T00:28:03.867843Z",
     "iopub.status.idle": "2022-01-25T00:28:03.870942Z",
     "shell.execute_reply": "2022-01-25T00:28:03.870532Z"
    },
    "papermill": {
     "duration": 0.037086,
     "end_time": "2022-01-25T00:28:03.871050",
     "exception": false,
     "start_time": "2022-01-25T00:28:03.833964",
     "status": "completed"
    },
    "tags": []
   },
   "outputs": [],
   "source": [
    "#hide\n",
    "# cols = list(g.columns.values)"
   ]
  },
  {
   "cell_type": "code",
   "execution_count": 29,
   "id": "solved-farming",
   "metadata": {
    "execution": {
     "iopub.execute_input": "2022-01-25T00:28:03.935386Z",
     "iopub.status.busy": "2022-01-25T00:28:03.934795Z",
     "iopub.status.idle": "2022-01-25T00:28:03.938369Z",
     "shell.execute_reply": "2022-01-25T00:28:03.937899Z"
    },
    "papermill": {
     "duration": 0.036977,
     "end_time": "2022-01-25T00:28:03.938474",
     "exception": false,
     "start_time": "2022-01-25T00:28:03.901497",
     "status": "completed"
    },
    "tags": []
   },
   "outputs": [],
   "source": [
    "#hide\n",
    "# cols.insert(0, cols.pop())"
   ]
  },
  {
   "cell_type": "code",
   "execution_count": 30,
   "id": "executed-adoption",
   "metadata": {
    "execution": {
     "iopub.execute_input": "2022-01-25T00:28:04.003505Z",
     "iopub.status.busy": "2022-01-25T00:28:04.002911Z",
     "iopub.status.idle": "2022-01-25T00:28:04.006782Z",
     "shell.execute_reply": "2022-01-25T00:28:04.006314Z"
    },
    "papermill": {
     "duration": 0.037744,
     "end_time": "2022-01-25T00:28:04.006906",
     "exception": false,
     "start_time": "2022-01-25T00:28:03.969162",
     "status": "completed"
    },
    "tags": []
   },
   "outputs": [],
   "source": [
    "#hide\n",
    "# g = g[cols]"
   ]
  },
  {
   "cell_type": "code",
   "execution_count": 31,
   "id": "subject-dublin",
   "metadata": {
    "execution": {
     "iopub.execute_input": "2022-01-25T00:28:04.072771Z",
     "iopub.status.busy": "2022-01-25T00:28:04.071491Z",
     "iopub.status.idle": "2022-01-25T00:28:04.073430Z",
     "shell.execute_reply": "2022-01-25T00:28:04.073886Z"
    },
    "papermill": {
     "duration": 0.036223,
     "end_time": "2022-01-25T00:28:04.074023",
     "exception": false,
     "start_time": "2022-01-25T00:28:04.037800",
     "status": "completed"
    },
    "tags": []
   },
   "outputs": [],
   "source": [
    "#hide\n",
    "# g['continent'] = g['continent'].map(mapping['map.continent'])"
   ]
  },
  {
   "cell_type": "code",
   "execution_count": 32,
   "id": "freelance-scout",
   "metadata": {
    "execution": {
     "iopub.execute_input": "2022-01-25T00:28:04.139569Z",
     "iopub.status.busy": "2022-01-25T00:28:04.138986Z",
     "iopub.status.idle": "2022-01-25T00:28:04.142639Z",
     "shell.execute_reply": "2022-01-25T00:28:04.142229Z"
    },
    "papermill": {
     "duration": 0.037244,
     "end_time": "2022-01-25T00:28:04.142745",
     "exception": false,
     "start_time": "2022-01-25T00:28:04.105501",
     "status": "completed"
    },
    "tags": []
   },
   "outputs": [],
   "source": [
    "#hide\n",
    "# g.head()"
   ]
  },
  {
   "cell_type": "code",
   "execution_count": 33,
   "id": "limited-engine",
   "metadata": {
    "execution": {
     "iopub.execute_input": "2022-01-25T00:28:04.207931Z",
     "iopub.status.busy": "2022-01-25T00:28:04.206678Z",
     "iopub.status.idle": "2022-01-25T00:28:04.208612Z",
     "shell.execute_reply": "2022-01-25T00:28:04.209073Z"
    },
    "papermill": {
     "duration": 0.03609,
     "end_time": "2022-01-25T00:28:04.209208",
     "exception": false,
     "start_time": "2022-01-25T00:28:04.173118",
     "status": "completed"
    },
    "tags": []
   },
   "outputs": [],
   "source": [
    "# hide\n",
    "# g['date'] = g['date'].astype('datetime64[ns]')"
   ]
  },
  {
   "cell_type": "code",
   "execution_count": 34,
   "id": "sophisticated-supervisor",
   "metadata": {
    "execution": {
     "iopub.execute_input": "2022-01-25T00:28:04.274499Z",
     "iopub.status.busy": "2022-01-25T00:28:04.273982Z",
     "iopub.status.idle": "2022-01-25T00:28:04.276120Z",
     "shell.execute_reply": "2022-01-25T00:28:04.275712Z"
    },
    "papermill": {
     "duration": 0.035915,
     "end_time": "2022-01-25T00:28:04.276247",
     "exception": false,
     "start_time": "2022-01-25T00:28:04.240332",
     "status": "completed"
    },
    "tags": []
   },
   "outputs": [],
   "source": [
    "#hide\n",
    "# g['date'] = g.date.dt.dayofyear"
   ]
  },
  {
   "cell_type": "code",
   "execution_count": 35,
   "id": "inside-dubai",
   "metadata": {
    "execution": {
     "iopub.execute_input": "2022-01-25T00:28:04.340854Z",
     "iopub.status.busy": "2022-01-25T00:28:04.340233Z",
     "iopub.status.idle": "2022-01-25T00:28:04.343285Z",
     "shell.execute_reply": "2022-01-25T00:28:04.342715Z"
    },
    "papermill": {
     "duration": 0.036605,
     "end_time": "2022-01-25T00:28:04.343403",
     "exception": false,
     "start_time": "2022-01-25T00:28:04.306798",
     "status": "completed"
    },
    "tags": []
   },
   "outputs": [],
   "source": [
    "#hide\n",
    "# g = g.rename(columns= {'continent':'group','country':'name','cases':'value'})"
   ]
  },
  {
   "cell_type": "code",
   "execution_count": 36,
   "id": "fleet-motorcycle",
   "metadata": {
    "execution": {
     "iopub.execute_input": "2022-01-25T00:28:04.408487Z",
     "iopub.status.busy": "2022-01-25T00:28:04.407857Z",
     "iopub.status.idle": "2022-01-25T00:28:04.410687Z",
     "shell.execute_reply": "2022-01-25T00:28:04.411126Z"
    },
    "papermill": {
     "duration": 0.036743,
     "end_time": "2022-01-25T00:28:04.411260",
     "exception": false,
     "start_time": "2022-01-25T00:28:04.374517",
     "status": "completed"
    },
    "tags": []
   },
   "outputs": [],
   "source": [
    "#hide\n",
    "# cols = ['name','group','day','value']"
   ]
  },
  {
   "cell_type": "code",
   "execution_count": 37,
   "id": "continued-sleeping",
   "metadata": {
    "execution": {
     "iopub.execute_input": "2022-01-25T00:28:04.476144Z",
     "iopub.status.busy": "2022-01-25T00:28:04.475548Z",
     "iopub.status.idle": "2022-01-25T00:28:04.478890Z",
     "shell.execute_reply": "2022-01-25T00:28:04.478482Z"
    },
    "papermill": {
     "duration": 0.036729,
     "end_time": "2022-01-25T00:28:04.478995",
     "exception": false,
     "start_time": "2022-01-25T00:28:04.442266",
     "status": "completed"
    },
    "tags": []
   },
   "outputs": [],
   "source": [
    "#hide\n",
    "# g.rename(columns= {'date':'day'},inplace = True)"
   ]
  },
  {
   "cell_type": "code",
   "execution_count": 38,
   "id": "major-fight",
   "metadata": {
    "execution": {
     "iopub.execute_input": "2022-01-25T00:28:04.543438Z",
     "iopub.status.busy": "2022-01-25T00:28:04.542843Z",
     "iopub.status.idle": "2022-01-25T00:28:04.546578Z",
     "shell.execute_reply": "2022-01-25T00:28:04.546116Z"
    },
    "papermill": {
     "duration": 0.037016,
     "end_time": "2022-01-25T00:28:04.546694",
     "exception": false,
     "start_time": "2022-01-25T00:28:04.509678",
     "status": "completed"
    },
    "tags": []
   },
   "outputs": [],
   "source": [
    "#hide\n",
    "# g = g[cols]"
   ]
  },
  {
   "cell_type": "code",
   "execution_count": 39,
   "id": "structured-mobile",
   "metadata": {
    "execution": {
     "iopub.execute_input": "2022-01-25T00:28:04.612400Z",
     "iopub.status.busy": "2022-01-25T00:28:04.611133Z",
     "iopub.status.idle": "2022-01-25T00:28:04.613051Z",
     "shell.execute_reply": "2022-01-25T00:28:04.613505Z"
    },
    "papermill": {
     "duration": 0.036404,
     "end_time": "2022-01-25T00:28:04.613639",
     "exception": false,
     "start_time": "2022-01-25T00:28:04.577235",
     "status": "completed"
    },
    "tags": []
   },
   "outputs": [],
   "source": [
    "# #hide\n",
    "# g = g[g.group.notna()]"
   ]
  },
  {
   "cell_type": "code",
   "execution_count": 40,
   "id": "determined-closing",
   "metadata": {
    "execution": {
     "iopub.execute_input": "2022-01-25T00:28:04.679768Z",
     "iopub.status.busy": "2022-01-25T00:28:04.678631Z",
     "iopub.status.idle": "2022-01-25T00:28:04.680375Z",
     "shell.execute_reply": "2022-01-25T00:28:04.680790Z"
    },
    "papermill": {
     "duration": 0.03591,
     "end_time": "2022-01-25T00:28:04.680911",
     "exception": false,
     "start_time": "2022-01-25T00:28:04.645001",
     "status": "completed"
    },
    "tags": []
   },
   "outputs": [],
   "source": [
    "# #hide\n",
    "# colors = dict(zip(\n",
    "#     [\"Oceania\", \"Europe\", \"Asia\", \"South America\", \"Middle East\", \"North America\", \"Africa\"],\n",
    "#     [\"#adb0ff\", \"#ffb3ff\", \"#90d595\", \"#e48381\", \"#aafbff\", \"#f7bb5f\", \"#eafb50\"]\n",
    "# ))\n",
    "# group_lk = g.set_index('name')['group'].to_dict()"
   ]
  },
  {
   "cell_type": "code",
   "execution_count": null,
   "id": "gross-drinking",
   "metadata": {
    "papermill": {
     "duration": 0.03046,
     "end_time": "2022-01-25T00:28:04.741759",
     "exception": false,
     "start_time": "2022-01-25T00:28:04.711299",
     "status": "completed"
    },
    "tags": []
   },
   "outputs": [],
   "source": []
  },
  {
   "cell_type": "code",
   "execution_count": 41,
   "id": "subject-macintosh",
   "metadata": {
    "execution": {
     "iopub.execute_input": "2022-01-25T00:28:04.806870Z",
     "iopub.status.busy": "2022-01-25T00:28:04.806261Z",
     "iopub.status.idle": "2022-01-25T00:28:04.809870Z",
     "shell.execute_reply": "2022-01-25T00:28:04.810310Z"
    },
    "papermill": {
     "duration": 0.038115,
     "end_time": "2022-01-25T00:28:04.810446",
     "exception": false,
     "start_time": "2022-01-25T00:28:04.772331",
     "status": "completed"
    },
    "tags": []
   },
   "outputs": [],
   "source": [
    "# #hide\n",
    "# fig, ax = plt.subplots(figsize=(15, 8))\n",
    "\n",
    "# def draw_barchart(current_day):\n",
    "#     dff = g[g['day'].eq(current_day)].sort_values(by='value', ascending=True).tail(10)\n",
    "#     ax.clear()\n",
    "#     ax.barh(dff['name'], dff['value'], color=[colors[group_lk[x]] for x in dff['name']])\n",
    "#     dx = dff['value'].max() / 200\n",
    "    \n",
    "#     for i, (value, name) in enumerate(zip(dff['value'], dff['name'])):\n",
    "#         ax.text(value-dx, i,     name,           size=14, weight=600, ha='right', va='bottom')\n",
    "#         ax.text(value-dx, i-.25, group_lk[name], size=10, color='#444444', ha='right', va='baseline')\n",
    "#         ax.text(value+dx, i,     f'{value:,.0f}',  size=14, ha='left',  va='center')\n",
    "#     ax.text(1, 0.4, current_day, transform=ax.transAxes, color='#777777', size=46, ha='right', weight=800)\n",
    "#     ax.text(0, 1.06, 'Population (thousands)', transform=ax.transAxes, size=12, color='#777777')\n",
    "#     ax.xaxis.set_major_formatter(ticker.StrMethodFormatter('{x:,.0f}'))\n",
    "#     ax.xaxis.set_ticks_position('top')\n",
    "#     ax.tick_params(axis='x', colors='#777777', labelsize=12)\n",
    "#     ax.set_yticks([])\n",
    "#     ax.margins(0, 0.01)\n",
    "#     ax.grid(which='major', axis='x', linestyle='-')\n",
    "#     ax.set_axisbelow(True)\n",
    "    \n",
    "#     ax.text(0, 1.15, 'Coronavirus',\n",
    "#             transform=ax.transAxes, size=24, weight=600, ha='left', va='top')\n",
    "# #     ax.text(1, 0, 'by @pratapvardhan; credit @jburnmurdoch', transform=ax.transAxes, color='#777777', ha='right',\n",
    "# #             bbox=dict(facecolor='white', alpha=0.8, edgecolor='white'))\n",
    "#     plt.box(False)"
   ]
  },
  {
   "cell_type": "code",
   "execution_count": 42,
   "id": "sexual-wages",
   "metadata": {
    "execution": {
     "iopub.execute_input": "2022-01-25T00:28:04.874589Z",
     "iopub.status.busy": "2022-01-25T00:28:04.874079Z",
     "iopub.status.idle": "2022-01-25T00:28:04.876308Z",
     "shell.execute_reply": "2022-01-25T00:28:04.875855Z"
    },
    "papermill": {
     "duration": 0.035541,
     "end_time": "2022-01-25T00:28:04.876411",
     "exception": false,
     "start_time": "2022-01-25T00:28:04.840870",
     "status": "completed"
    },
    "tags": []
   },
   "outputs": [],
   "source": [
    "# #hide_input\n",
    "# fig, ax = plt.subplots(figsize=(15, 8))\n",
    "# animator = animation.FuncAnimation(fig, draw_barchart, frames=range(g.day.values.min(), g.day.values.max()))\n",
    "# HTML(animator.to_jshtml())\n",
    "# # or use animator.to_html5_video() or animator.save() "
   ]
  },
  {
   "cell_type": "code",
   "execution_count": null,
   "id": "australian-container",
   "metadata": {
    "papermill": {
     "duration": 0.030429,
     "end_time": "2022-01-25T00:28:04.937502",
     "exception": false,
     "start_time": "2022-01-25T00:28:04.907073",
     "status": "completed"
    },
    "tags": []
   },
   "outputs": [],
   "source": []
  },
  {
   "cell_type": "code",
   "execution_count": null,
   "id": "mediterranean-pontiac",
   "metadata": {
    "papermill": {
     "duration": 0.030321,
     "end_time": "2022-01-25T00:28:04.998507",
     "exception": false,
     "start_time": "2022-01-25T00:28:04.968186",
     "status": "completed"
    },
    "tags": []
   },
   "outputs": [],
   "source": []
  },
  {
   "cell_type": "code",
   "execution_count": null,
   "id": "aging-legislature",
   "metadata": {
    "papermill": {
     "duration": 0.030504,
     "end_time": "2022-01-25T00:28:05.059588",
     "exception": false,
     "start_time": "2022-01-25T00:28:05.029084",
     "status": "completed"
    },
    "tags": []
   },
   "outputs": [],
   "source": []
  }
 ],
 "metadata": {
  "kernelspec": {
   "display_name": "Python 3",
   "language": "python",
   "name": "python3"
  },
  "language_info": {
   "codemirror_mode": {
    "name": "ipython",
    "version": 3
   },
   "file_extension": ".py",
   "mimetype": "text/x-python",
   "name": "python",
   "nbconvert_exporter": "python",
   "pygments_lexer": "ipython3",
   "version": "3.6.15"
  },
  "papermill": {
   "duration": 5.825705,
   "end_time": "2022-01-25T00:28:05.408792",
   "environment_variables": {},
   "exception": null,
   "input_path": "2020-03-21-covid19exp.ipynb",
   "output_path": "2020-03-21-covid19exp.ipynb",
   "parameters": {},
   "start_time": "2022-01-25T00:27:59.583087",
   "version": "2.0.0"
  }
 },
 "nbformat": 4,
 "nbformat_minor": 5
}