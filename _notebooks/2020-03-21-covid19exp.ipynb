{
 "cells": [
  {
   "cell_type": "markdown",
   "id": "muslim-click",
   "metadata": {
    "papermill": {
     "duration": 0.043241,
     "end_time": "2021-03-26T12:03:44.269919",
     "exception": false,
     "start_time": "2021-03-26T12:03:44.226678",
     "status": "completed"
    },
    "tags": []
   },
   "source": [
    "# COVID-19 Case Race\n",
    "> A race chart to see rising cases around the world\n",
    "\n",
    "- author: Hargun Oberoi\n",
    "- image: images/covid-overview.png\n",
    "- hide: false\n",
    "- badges: false"
   ]
  },
  {
   "cell_type": "code",
   "execution_count": 1,
   "id": "proof-material",
   "metadata": {
    "execution": {
     "iopub.execute_input": "2021-03-26T12:03:44.353668Z",
     "iopub.status.busy": "2021-03-26T12:03:44.353064Z",
     "iopub.status.idle": "2021-03-26T12:03:44.668233Z",
     "shell.execute_reply": "2021-03-26T12:03:44.667693Z"
    },
    "papermill": {
     "duration": 0.361158,
     "end_time": "2021-03-26T12:03:44.668383",
     "exception": false,
     "start_time": "2021-03-26T12:03:44.307225",
     "status": "completed"
    },
    "tags": []
   },
   "outputs": [],
   "source": [
    "#hide\n",
    "import numpy as np\n",
    "import pandas as pd\n",
    "from jinja2 import Template\n",
    "from IPython.display import HTML"
   ]
  },
  {
   "cell_type": "code",
   "execution_count": 2,
   "id": "developed-terminology",
   "metadata": {
    "execution": {
     "iopub.execute_input": "2021-03-26T12:03:44.740895Z",
     "iopub.status.busy": "2021-03-26T12:03:44.740330Z",
     "iopub.status.idle": "2021-03-26T12:03:44.742957Z",
     "shell.execute_reply": "2021-03-26T12:03:44.742474Z"
    },
    "papermill": {
     "duration": 0.04032,
     "end_time": "2021-03-26T12:03:44.743068",
     "exception": false,
     "start_time": "2021-03-26T12:03:44.702748",
     "status": "completed"
    },
    "tags": []
   },
   "outputs": [],
   "source": [
    "#hide\n",
    "\n",
    "# FETCH\n",
    "base_url = 'https://raw.githubusercontent.com/pratapvardhan/notebooks/master/covid19/'\n",
    "paths = {\n",
    "    'mapping': base_url + 'mapping_countries.csv',\n",
    "    'overview': base_url + 'overview.tpl'\n",
    "}"
   ]
  },
  {
   "cell_type": "code",
   "execution_count": 3,
   "id": "dynamic-saver",
   "metadata": {
    "execution": {
     "iopub.execute_input": "2021-03-26T12:03:44.817872Z",
     "iopub.status.busy": "2021-03-26T12:03:44.817321Z",
     "iopub.status.idle": "2021-03-26T12:03:44.820807Z",
     "shell.execute_reply": "2021-03-26T12:03:44.820290Z"
    },
    "papermill": {
     "duration": 0.045471,
     "end_time": "2021-03-26T12:03:44.820913",
     "exception": false,
     "start_time": "2021-03-26T12:03:44.775442",
     "status": "completed"
    },
    "tags": []
   },
   "outputs": [
    {
     "data": {
      "text/plain": [
       "'https://raw.githubusercontent.com/pratapvardhan/notebooks/master/covid19/mapping_countries.csv'"
      ]
     },
     "execution_count": 3,
     "metadata": {},
     "output_type": "execute_result"
    }
   ],
   "source": [
    "#hide\n",
    "paths['mapping']"
   ]
  },
  {
   "cell_type": "code",
   "execution_count": 4,
   "id": "urban-software",
   "metadata": {
    "execution": {
     "iopub.execute_input": "2021-03-26T12:03:44.896928Z",
     "iopub.status.busy": "2021-03-26T12:03:44.896320Z",
     "iopub.status.idle": "2021-03-26T12:03:44.898197Z",
     "shell.execute_reply": "2021-03-26T12:03:44.898695Z"
    },
    "papermill": {
     "duration": 0.04237,
     "end_time": "2021-03-26T12:03:44.898821",
     "exception": false,
     "start_time": "2021-03-26T12:03:44.856451",
     "status": "completed"
    },
    "tags": []
   },
   "outputs": [],
   "source": [
    "#hide\n",
    "def get_mappings(url):\n",
    "    df = pd.read_csv(url)\n",
    "    return {\n",
    "        'df': df,\n",
    "        'replace.country': dict(df.dropna(subset=['Name']).set_index('Country')['Name']),\n",
    "        'map.continent': dict(df.set_index('Name')['Continent'])\n",
    "    }"
   ]
  },
  {
   "cell_type": "code",
   "execution_count": 5,
   "id": "intimate-machinery",
   "metadata": {
    "execution": {
     "iopub.execute_input": "2021-03-26T12:03:44.971954Z",
     "iopub.status.busy": "2021-03-26T12:03:44.971399Z",
     "iopub.status.idle": "2021-03-26T12:03:44.998100Z",
     "shell.execute_reply": "2021-03-26T12:03:44.998640Z"
    },
    "papermill": {
     "duration": 0.065461,
     "end_time": "2021-03-26T12:03:44.998764",
     "exception": false,
     "start_time": "2021-03-26T12:03:44.933303",
     "status": "completed"
    },
    "tags": []
   },
   "outputs": [],
   "source": [
    "#hide\n",
    "mapping = get_mappings(paths['mapping'])"
   ]
  },
  {
   "cell_type": "code",
   "execution_count": 6,
   "id": "certified-tactics",
   "metadata": {
    "execution": {
     "iopub.execute_input": "2021-03-26T12:03:45.072502Z",
     "iopub.status.busy": "2021-03-26T12:03:45.071916Z",
     "iopub.status.idle": "2021-03-26T12:03:45.076186Z",
     "shell.execute_reply": "2021-03-26T12:03:45.075680Z"
    },
    "papermill": {
     "duration": 0.043229,
     "end_time": "2021-03-26T12:03:45.076301",
     "exception": false,
     "start_time": "2021-03-26T12:03:45.033072",
     "status": "completed"
    },
    "tags": []
   },
   "outputs": [],
   "source": [
    "#hide\n",
    "def get_template(path):\n",
    "    from urllib.parse import urlparse\n",
    "    if bool(urlparse(path).netloc):\n",
    "        from urllib.request import urlopen\n",
    "        return urlopen(path).read().decode('utf8')\n",
    "    return open(path).read()"
   ]
  },
  {
   "cell_type": "code",
   "execution_count": 7,
   "id": "realistic-blast",
   "metadata": {
    "execution": {
     "iopub.execute_input": "2021-03-26T12:03:45.146931Z",
     "iopub.status.busy": "2021-03-26T12:03:45.146371Z",
     "iopub.status.idle": "2021-03-26T12:03:45.148740Z",
     "shell.execute_reply": "2021-03-26T12:03:45.148222Z"
    },
    "papermill": {
     "duration": 0.03935,
     "end_time": "2021-03-26T12:03:45.148847",
     "exception": false,
     "start_time": "2021-03-26T12:03:45.109497",
     "status": "completed"
    },
    "tags": []
   },
   "outputs": [],
   "source": [
    "#hide\n",
    "def get_frame(name):\n",
    "    url = (\n",
    "        'https://raw.githubusercontent.com/CSSEGISandData/COVID-19/master/csse_covid_19_data/'\n",
    "        f'csse_covid_19_time_series/time_series_covid19_{name}_global.csv')\n",
    "    df = pd.read_csv(url)\n",
    "    # rename countries\n",
    "    df['Country/Region'] = df['Country/Region'].replace(mapping['replace.country'])\n",
    "    return df"
   ]
  },
  {
   "cell_type": "code",
   "execution_count": 8,
   "id": "affiliated-characterization",
   "metadata": {
    "execution": {
     "iopub.execute_input": "2021-03-26T12:03:45.223111Z",
     "iopub.status.busy": "2021-03-26T12:03:45.222512Z",
     "iopub.status.idle": "2021-03-26T12:03:45.225027Z",
     "shell.execute_reply": "2021-03-26T12:03:45.224505Z"
    },
    "papermill": {
     "duration": 0.042183,
     "end_time": "2021-03-26T12:03:45.225148",
     "exception": false,
     "start_time": "2021-03-26T12:03:45.182965",
     "status": "completed"
    },
    "tags": []
   },
   "outputs": [],
   "source": [
    "#hide\n",
    "def get_dates(df):\n",
    "    dt_cols = df.columns[~df.columns.isin(['Province/State', 'Country/Region', 'Lat', 'Long'])]\n",
    "    LAST_DATE_I = -1\n",
    "    # sometimes last column may be empty, then go backwards\n",
    "    for i in range(-1, -len(dt_cols), -1):\n",
    "        if not df[dt_cols[i]].fillna(0).eq(0).all():\n",
    "            LAST_DATE_I = i\n",
    "            break\n",
    "    return LAST_DATE_I, dt_cols"
   ]
  },
  {
   "cell_type": "code",
   "execution_count": 9,
   "id": "recent-optimization",
   "metadata": {
    "execution": {
     "iopub.execute_input": "2021-03-26T12:03:45.298121Z",
     "iopub.status.busy": "2021-03-26T12:03:45.297560Z",
     "iopub.status.idle": "2021-03-26T12:03:45.557538Z",
     "shell.execute_reply": "2021-03-26T12:03:45.556889Z"
    },
    "papermill": {
     "duration": 0.299061,
     "end_time": "2021-03-26T12:03:45.557681",
     "exception": false,
     "start_time": "2021-03-26T12:03:45.258620",
     "status": "completed"
    },
    "tags": []
   },
   "outputs": [],
   "source": [
    "#hide\n",
    "COL_REGION = 'Country/Region'\n",
    "# Confirmed, Recovered, Deaths\n",
    "df = get_frame('confirmed')\n",
    "# dft_: timeseries, dfc_: today country agg\n",
    "dft_cases = df\n",
    "dft_deaths = get_frame('deaths')\n",
    "dft_recovered = get_frame('recovered')\n",
    "LAST_DATE_I, dt_cols = get_dates(df)"
   ]
  },
  {
   "cell_type": "code",
   "execution_count": 10,
   "id": "absolute-copper",
   "metadata": {
    "execution": {
     "iopub.execute_input": "2021-03-26T12:03:45.637228Z",
     "iopub.status.busy": "2021-03-26T12:03:45.636626Z",
     "iopub.status.idle": "2021-03-26T12:03:45.638816Z",
     "shell.execute_reply": "2021-03-26T12:03:45.638331Z"
    },
    "papermill": {
     "duration": 0.042968,
     "end_time": "2021-03-26T12:03:45.638928",
     "exception": false,
     "start_time": "2021-03-26T12:03:45.595960",
     "status": "completed"
    },
    "tags": []
   },
   "outputs": [],
   "source": [
    "#hide\n",
    "LAST_DATE_I, dt_cols = get_dates(df)\n",
    "dt_today =dt_cols[LAST_DATE_I]\n",
    "# dt_5day = dt_cols[LAST_DATE_I - 5]\n",
    "dt_yday = dt_cols[LAST_DATE_I - 1]"
   ]
  },
  {
   "cell_type": "code",
   "execution_count": 11,
   "id": "restricted-sheriff",
   "metadata": {
    "execution": {
     "iopub.execute_input": "2021-03-26T12:03:45.715968Z",
     "iopub.status.busy": "2021-03-26T12:03:45.714871Z",
     "iopub.status.idle": "2021-03-26T12:03:45.721008Z",
     "shell.execute_reply": "2021-03-26T12:03:45.721532Z"
    },
    "papermill": {
     "duration": 0.048949,
     "end_time": "2021-03-26T12:03:45.721668",
     "exception": false,
     "start_time": "2021-03-26T12:03:45.672719",
     "status": "completed"
    },
    "tags": []
   },
   "outputs": [],
   "source": [
    "#hide\n",
    "dfc_cases = dft_cases.groupby(COL_REGION)[dt_today].sum()\n",
    "dfc_deaths = dft_deaths.groupby(COL_REGION)[dt_today].sum()\n",
    "# dfp_cases = dft_cases.groupby(COL_REGION)[dt_5day].sum()\n",
    "# dfp_deaths = dft_deaths.groupby(COL_REGION)[dt_5day].sum()\n",
    "dfp_cases = dft_cases.groupby(COL_REGION)[dt_yday].sum()\n",
    "dfp_deaths = dft_deaths.groupby(COL_REGION)[dt_yday].sum()"
   ]
  },
  {
   "cell_type": "code",
   "execution_count": 12,
   "id": "deluxe-hepatitis",
   "metadata": {
    "execution": {
     "iopub.execute_input": "2021-03-26T12:03:45.795631Z",
     "iopub.status.busy": "2021-03-26T12:03:45.795024Z",
     "iopub.status.idle": "2021-03-26T12:03:45.799555Z",
     "shell.execute_reply": "2021-03-26T12:03:45.800085Z"
    },
    "papermill": {
     "duration": 0.044283,
     "end_time": "2021-03-26T12:03:45.800234",
     "exception": false,
     "start_time": "2021-03-26T12:03:45.755951",
     "status": "completed"
    },
    "tags": []
   },
   "outputs": [],
   "source": [
    "#hide\n",
    "df_table = (pd.DataFrame(dict(Cases = dfc_cases, Deaths = dfc_deaths, PCases = dfp_cases, PDeaths = dfp_deaths))\n",
    "            .sort_values(by = ['Cases','Deaths'], ascending = [False, False])\n",
    "            .reset_index())"
   ]
  },
  {
   "cell_type": "code",
   "execution_count": 13,
   "id": "educational-chancellor",
   "metadata": {
    "execution": {
     "iopub.execute_input": "2021-03-26T12:03:45.887282Z",
     "iopub.status.busy": "2021-03-26T12:03:45.886708Z",
     "iopub.status.idle": "2021-03-26T12:03:45.894275Z",
     "shell.execute_reply": "2021-03-26T12:03:45.893787Z"
    },
    "papermill": {
     "duration": 0.059726,
     "end_time": "2021-03-26T12:03:45.894388",
     "exception": false,
     "start_time": "2021-03-26T12:03:45.834662",
     "status": "completed"
    },
    "tags": []
   },
   "outputs": [
    {
     "data": {
      "text/html": [
       "<div>\n",
       "<style scoped>\n",
       "    .dataframe tbody tr th:only-of-type {\n",
       "        vertical-align: middle;\n",
       "    }\n",
       "\n",
       "    .dataframe tbody tr th {\n",
       "        vertical-align: top;\n",
       "    }\n",
       "\n",
       "    .dataframe thead th {\n",
       "        text-align: right;\n",
       "    }\n",
       "</style>\n",
       "<table border=\"1\" class=\"dataframe\">\n",
       "  <thead>\n",
       "    <tr style=\"text-align: right;\">\n",
       "      <th></th>\n",
       "      <th>Country/Region</th>\n",
       "      <th>Cases</th>\n",
       "      <th>Deaths</th>\n",
       "      <th>PCases</th>\n",
       "      <th>PDeaths</th>\n",
       "      <th>Cases (+)</th>\n",
       "      <th>Deaths (+)</th>\n",
       "      <th>Fatality Rate</th>\n",
       "      <th>Continent</th>\n",
       "    </tr>\n",
       "  </thead>\n",
       "  <tbody>\n",
       "    <tr>\n",
       "      <th>0</th>\n",
       "      <td>US</td>\n",
       "      <td>30079282</td>\n",
       "      <td>546822</td>\n",
       "      <td>30011839</td>\n",
       "      <td>545264</td>\n",
       "      <td>67443</td>\n",
       "      <td>1558</td>\n",
       "      <td>1.82</td>\n",
       "      <td>North America</td>\n",
       "    </tr>\n",
       "    <tr>\n",
       "      <th>1</th>\n",
       "      <td>Brazil</td>\n",
       "      <td>12320169</td>\n",
       "      <td>303462</td>\n",
       "      <td>12220011</td>\n",
       "      <td>300685</td>\n",
       "      <td>100158</td>\n",
       "      <td>2777</td>\n",
       "      <td>2.46</td>\n",
       "      <td>South America</td>\n",
       "    </tr>\n",
       "    <tr>\n",
       "      <th>2</th>\n",
       "      <td>India</td>\n",
       "      <td>11846652</td>\n",
       "      <td>160949</td>\n",
       "      <td>11787534</td>\n",
       "      <td>160692</td>\n",
       "      <td>59118</td>\n",
       "      <td>257</td>\n",
       "      <td>1.36</td>\n",
       "      <td>Asia</td>\n",
       "    </tr>\n",
       "    <tr>\n",
       "      <th>3</th>\n",
       "      <td>France</td>\n",
       "      <td>4484659</td>\n",
       "      <td>93535</td>\n",
       "      <td>4374774</td>\n",
       "      <td>93083</td>\n",
       "      <td>109885</td>\n",
       "      <td>452</td>\n",
       "      <td>2.09</td>\n",
       "      <td>Europe</td>\n",
       "    </tr>\n",
       "    <tr>\n",
       "      <th>4</th>\n",
       "      <td>Russia</td>\n",
       "      <td>4442492</td>\n",
       "      <td>95010</td>\n",
       "      <td>4433364</td>\n",
       "      <td>94624</td>\n",
       "      <td>9128</td>\n",
       "      <td>386</td>\n",
       "      <td>2.14</td>\n",
       "      <td>Europe</td>\n",
       "    </tr>\n",
       "  </tbody>\n",
       "</table>\n",
       "</div>"
      ],
      "text/plain": [
       "  Country/Region     Cases  Deaths    PCases  PDeaths  Cases (+)  Deaths (+)  \\\n",
       "0             US  30079282  546822  30011839   545264      67443        1558   \n",
       "1         Brazil  12320169  303462  12220011   300685     100158        2777   \n",
       "2          India  11846652  160949  11787534   160692      59118         257   \n",
       "3         France   4484659   93535   4374774    93083     109885         452   \n",
       "4         Russia   4442492   95010   4433364    94624       9128         386   \n",
       "\n",
       "   Fatality Rate      Continent  \n",
       "0           1.82  North America  \n",
       "1           2.46  South America  \n",
       "2           1.36           Asia  \n",
       "3           2.09         Europe  \n",
       "4           2.14         Europe  "
      ]
     },
     "execution_count": 13,
     "metadata": {},
     "output_type": "execute_result"
    }
   ],
   "source": [
    "#hide\n",
    "for c in 'Cases, Deaths'.split(', '):\n",
    "    df_table[f'{c} (+)'] = (df_table[c] - df_table[f'P{c}']).clip(0)\n",
    "    #Clip ça veut dire, les chiffres negatif sont interdit\n",
    "df_table['Fatality Rate'] = (100* df_table['Deaths']/ df_table['Cases']).round(2)\n",
    "df_table['Continent'] = df_table['Country/Region'].map(mapping['map.continent'])\n",
    "df_table.head(5)"
   ]
  },
  {
   "cell_type": "code",
   "execution_count": 14,
   "id": "aboriginal-bulgaria",
   "metadata": {
    "execution": {
     "iopub.execute_input": "2021-03-26T12:03:45.971528Z",
     "iopub.status.busy": "2021-03-26T12:03:45.970948Z",
     "iopub.status.idle": "2021-03-26T12:03:45.973239Z",
     "shell.execute_reply": "2021-03-26T12:03:45.973718Z"
    },
    "papermill": {
     "duration": 0.044408,
     "end_time": "2021-03-26T12:03:45.973843",
     "exception": false,
     "start_time": "2021-03-26T12:03:45.929435",
     "status": "completed"
    },
    "tags": []
   },
   "outputs": [],
   "source": [
    "#hide\n",
    "#delete problematic countries from table\n",
    "df_table = df_table[~df_table['Country/Region'].isin(['Cape Verde', 'Cruise Ship', 'Kosovo'])]"
   ]
  },
  {
   "cell_type": "code",
   "execution_count": 15,
   "id": "fantastic-effect",
   "metadata": {
    "execution": {
     "iopub.execute_input": "2021-03-26T12:03:46.054045Z",
     "iopub.status.busy": "2021-03-26T12:03:46.053434Z",
     "iopub.status.idle": "2021-03-26T12:03:46.073861Z",
     "shell.execute_reply": "2021-03-26T12:03:46.073372Z"
    },
    "papermill": {
     "duration": 0.064178,
     "end_time": "2021-03-26T12:03:46.073977",
     "exception": false,
     "start_time": "2021-03-26T12:03:46.009799",
     "status": "completed"
    },
    "tags": []
   },
   "outputs": [
    {
     "data": {
      "text/html": [
       "<div>\n",
       "<style scoped>\n",
       "    .dataframe tbody tr th:only-of-type {\n",
       "        vertical-align: middle;\n",
       "    }\n",
       "\n",
       "    .dataframe tbody tr th {\n",
       "        vertical-align: top;\n",
       "    }\n",
       "\n",
       "    .dataframe thead th {\n",
       "        text-align: right;\n",
       "    }\n",
       "</style>\n",
       "<table border=\"1\" class=\"dataframe\">\n",
       "  <thead>\n",
       "    <tr style=\"text-align: right;\">\n",
       "      <th></th>\n",
       "      <th>Country/Region</th>\n",
       "      <th>Cases</th>\n",
       "      <th>Deaths</th>\n",
       "      <th>PCases</th>\n",
       "      <th>PDeaths</th>\n",
       "      <th>Cases (+)</th>\n",
       "      <th>Deaths (+)</th>\n",
       "      <th>Fatality Rate</th>\n",
       "      <th>Continent</th>\n",
       "    </tr>\n",
       "  </thead>\n",
       "  <tbody>\n",
       "    <tr>\n",
       "      <th>0</th>\n",
       "      <td>US</td>\n",
       "      <td>30079282</td>\n",
       "      <td>546822</td>\n",
       "      <td>30011839</td>\n",
       "      <td>545264</td>\n",
       "      <td>67443</td>\n",
       "      <td>1558</td>\n",
       "      <td>1.8</td>\n",
       "      <td>North America</td>\n",
       "    </tr>\n",
       "    <tr>\n",
       "      <th>1</th>\n",
       "      <td>Brazil</td>\n",
       "      <td>12320169</td>\n",
       "      <td>303462</td>\n",
       "      <td>12220011</td>\n",
       "      <td>300685</td>\n",
       "      <td>100158</td>\n",
       "      <td>2777</td>\n",
       "      <td>2.5</td>\n",
       "      <td>South America</td>\n",
       "    </tr>\n",
       "    <tr>\n",
       "      <th>2</th>\n",
       "      <td>India</td>\n",
       "      <td>11846652</td>\n",
       "      <td>160949</td>\n",
       "      <td>11787534</td>\n",
       "      <td>160692</td>\n",
       "      <td>59118</td>\n",
       "      <td>257</td>\n",
       "      <td>1.4</td>\n",
       "      <td>Asia</td>\n",
       "    </tr>\n",
       "    <tr>\n",
       "      <th>3</th>\n",
       "      <td>France</td>\n",
       "      <td>4484659</td>\n",
       "      <td>93535</td>\n",
       "      <td>4374774</td>\n",
       "      <td>93083</td>\n",
       "      <td>109885</td>\n",
       "      <td>452</td>\n",
       "      <td>2.1</td>\n",
       "      <td>Europe</td>\n",
       "    </tr>\n",
       "    <tr>\n",
       "      <th>4</th>\n",
       "      <td>Russia</td>\n",
       "      <td>4442492</td>\n",
       "      <td>95010</td>\n",
       "      <td>4433364</td>\n",
       "      <td>94624</td>\n",
       "      <td>9128</td>\n",
       "      <td>386</td>\n",
       "      <td>2.1</td>\n",
       "      <td>Europe</td>\n",
       "    </tr>\n",
       "  </tbody>\n",
       "</table>\n",
       "</div>"
      ],
      "text/plain": [
       "  Country/Region     Cases  Deaths    PCases  PDeaths  Cases (+)  Deaths (+)  \\\n",
       "0             US  30079282  546822  30011839   545264      67443        1558   \n",
       "1         Brazil  12320169  303462  12220011   300685     100158        2777   \n",
       "2          India  11846652  160949  11787534   160692      59118         257   \n",
       "3         France   4484659   93535   4374774    93083     109885         452   \n",
       "4         Russia   4442492   95010   4433364    94624       9128         386   \n",
       "\n",
       "   Fatality Rate      Continent  \n",
       "0            1.8  North America  \n",
       "1            2.5  South America  \n",
       "2            1.4           Asia  \n",
       "3            2.1         Europe  \n",
       "4            2.1         Europe  "
      ]
     },
     "execution_count": 15,
     "metadata": {},
     "output_type": "execute_result"
    }
   ],
   "source": [
    "#hide\n",
    "df_table = (pd.DataFrame(dict(Cases=dfc_cases, Deaths=dfc_deaths, PCases=dfp_cases, PDeaths=dfp_deaths))\n",
    "             .sort_values(by=['Cases', 'Deaths'], ascending=[False, False])\n",
    "             .reset_index())\n",
    "df_table.rename(columns={'index': 'Country/Region'}, inplace=True)\n",
    "for c in 'Cases, Deaths'.split(', '):\n",
    "    df_table[f'{c} (+)'] = (df_table[c] - df_table[f'P{c}']).clip(0)  # DATA BUG\n",
    "df_table['Fatality Rate'] = (100 * df_table['Deaths'] / df_table['Cases']).round(1)\n",
    "df_table['Continent'] = df_table['Country/Region'].map(mapping['map.continent'])\n",
    "df_table.head(5)"
   ]
  },
  {
   "cell_type": "code",
   "execution_count": 16,
   "id": "fewer-occasion",
   "metadata": {
    "execution": {
     "iopub.execute_input": "2021-03-26T12:03:46.149606Z",
     "iopub.status.busy": "2021-03-26T12:03:46.149034Z",
     "iopub.status.idle": "2021-03-26T12:03:46.151935Z",
     "shell.execute_reply": "2021-03-26T12:03:46.151399Z"
    },
    "papermill": {
     "duration": 0.043107,
     "end_time": "2021-03-26T12:03:46.152072",
     "exception": false,
     "start_time": "2021-03-26T12:03:46.108965",
     "status": "completed"
    },
    "tags": []
   },
   "outputs": [],
   "source": [
    "#hide\n",
    "#delete problematic countries from table\n",
    "df_table = df_table[~df_table['Country/Region'].isin(['Cape Verde', 'Cruise Ship', 'Kosovo'])]"
   ]
  },
  {
   "cell_type": "code",
   "execution_count": 17,
   "id": "related-center",
   "metadata": {
    "execution": {
     "iopub.execute_input": "2021-03-26T12:03:46.227546Z",
     "iopub.status.busy": "2021-03-26T12:03:46.226976Z",
     "iopub.status.idle": "2021-03-26T12:03:46.241712Z",
     "shell.execute_reply": "2021-03-26T12:03:46.241227Z"
    },
    "papermill": {
     "duration": 0.055915,
     "end_time": "2021-03-26T12:03:46.241819",
     "exception": false,
     "start_time": "2021-03-26T12:03:46.185904",
     "status": "completed"
    },
    "tags": []
   },
   "outputs": [],
   "source": [
    "#hide\n",
    "metrics = [df_table.columns[index] for index in [1,2,5,6]]\n",
    "# s_china = df_table[df_table['Country/Region'].eq('China')][metrics].sum().add_prefix('China ')\n",
    "s_us = df_table[df_table['Country/Region'].eq('US')][metrics].sum().add_prefix('US ')\n",
    "s_eu = df_table[df_table['Continent'].eq('Europe')][metrics].sum().add_prefix('EU ')\n",
    "s_ind = df_table[df_table['Country/Region'].eq('India')][metrics].sum().add_prefix('India ')\n",
    "summary = {'updated': pd.to_datetime(dt_today), 'since': pd.to_datetime(dt_yday)}\n",
    "summary = {'updated': pd.to_datetime(dt_today), 'since': pd.to_datetime(dt_yday)}\n",
    "summary = {**summary, **df_table[metrics].sum(), **s_ind, **s_us, **s_eu}"
   ]
  },
  {
   "cell_type": "code",
   "execution_count": 18,
   "id": "engaging-syndrome",
   "metadata": {
    "execution": {
     "iopub.execute_input": "2021-03-26T12:03:46.317549Z",
     "iopub.status.busy": "2021-03-26T12:03:46.316942Z",
     "iopub.status.idle": "2021-03-26T12:03:46.327911Z",
     "shell.execute_reply": "2021-03-26T12:03:46.327347Z"
    },
    "papermill": {
     "duration": 0.050223,
     "end_time": "2021-03-26T12:03:46.328028",
     "exception": false,
     "start_time": "2021-03-26T12:03:46.277805",
     "status": "completed"
    },
    "tags": []
   },
   "outputs": [],
   "source": [
    "#hide\n",
    "dft_ct_new_cases = dft_cases.groupby(COL_REGION)[dt_cols].sum().diff(axis=1).fillna(0).astype(int)"
   ]
  },
  {
   "cell_type": "code",
   "execution_count": 19,
   "id": "neutral-assignment",
   "metadata": {
    "execution": {
     "iopub.execute_input": "2021-03-26T12:03:46.404630Z",
     "iopub.status.busy": "2021-03-26T12:03:46.404031Z",
     "iopub.status.idle": "2021-03-26T12:03:46.405895Z",
     "shell.execute_reply": "2021-03-26T12:03:46.406362Z"
    },
    "papermill": {
     "duration": 0.042335,
     "end_time": "2021-03-26T12:03:46.406490",
     "exception": false,
     "start_time": "2021-03-26T12:03:46.364155",
     "status": "completed"
    },
    "tags": []
   },
   "outputs": [],
   "source": [
    "#hide\n",
    "everydaycases = dft_ct_new_cases.cumsum(axis=1)"
   ]
  },
  {
   "cell_type": "code",
   "execution_count": 20,
   "id": "parliamentary-calgary",
   "metadata": {
    "execution": {
     "iopub.execute_input": "2021-03-26T12:03:46.479803Z",
     "iopub.status.busy": "2021-03-26T12:03:46.479039Z",
     "iopub.status.idle": "2021-03-26T12:03:47.139848Z",
     "shell.execute_reply": "2021-03-26T12:03:47.139346Z"
    },
    "papermill": {
     "duration": 0.698625,
     "end_time": "2021-03-26T12:03:47.139980",
     "exception": false,
     "start_time": "2021-03-26T12:03:46.441355",
     "status": "completed"
    },
    "tags": []
   },
   "outputs": [],
   "source": [
    "#hide\n",
    "import pandas as pd\n",
    "import matplotlib.pyplot as plt\n",
    "import matplotlib.ticker as ticker\n",
    "import matplotlib.animation as animation\n",
    "from IPython.display import HTML"
   ]
  },
  {
   "cell_type": "code",
   "execution_count": 21,
   "id": "lasting-extraction",
   "metadata": {
    "execution": {
     "iopub.execute_input": "2021-03-26T12:03:47.216520Z",
     "iopub.status.busy": "2021-03-26T12:03:47.215694Z",
     "iopub.status.idle": "2021-03-26T12:03:47.220617Z",
     "shell.execute_reply": "2021-03-26T12:03:47.221150Z"
    },
    "papermill": {
     "duration": 0.045201,
     "end_time": "2021-03-26T12:03:47.221299",
     "exception": false,
     "start_time": "2021-03-26T12:03:47.176098",
     "status": "completed"
    },
    "tags": []
   },
   "outputs": [],
   "source": [
    "#hide\n",
    "t = everydaycases.stack()"
   ]
  },
  {
   "cell_type": "code",
   "execution_count": 22,
   "id": "premier-sleeve",
   "metadata": {
    "execution": {
     "iopub.execute_input": "2021-03-26T12:03:47.305815Z",
     "iopub.status.busy": "2021-03-26T12:03:47.305197Z",
     "iopub.status.idle": "2021-03-26T12:03:47.314124Z",
     "shell.execute_reply": "2021-03-26T12:03:47.313528Z"
    },
    "papermill": {
     "duration": 0.051468,
     "end_time": "2021-03-26T12:03:47.314273",
     "exception": false,
     "start_time": "2021-03-26T12:03:47.262805",
     "status": "completed"
    },
    "tags": []
   },
   "outputs": [],
   "source": [
    "#hide\n",
    "g = t.reset_index(['Country/Region'])"
   ]
  },
  {
   "cell_type": "code",
   "execution_count": 23,
   "id": "distributed-pittsburgh",
   "metadata": {
    "execution": {
     "iopub.execute_input": "2021-03-26T12:03:47.390414Z",
     "iopub.status.busy": "2021-03-26T12:03:47.389845Z",
     "iopub.status.idle": "2021-03-26T12:03:47.394522Z",
     "shell.execute_reply": "2021-03-26T12:03:47.395012Z"
    },
    "papermill": {
     "duration": 0.044828,
     "end_time": "2021-03-26T12:03:47.395162",
     "exception": false,
     "start_time": "2021-03-26T12:03:47.350334",
     "status": "completed"
    },
    "tags": []
   },
   "outputs": [],
   "source": [
    "#hide\n",
    "g.index.name = 'date'"
   ]
  },
  {
   "cell_type": "code",
   "execution_count": 24,
   "id": "naked-donor",
   "metadata": {
    "execution": {
     "iopub.execute_input": "2021-03-26T12:03:47.468904Z",
     "iopub.status.busy": "2021-03-26T12:03:47.467647Z",
     "iopub.status.idle": "2021-03-26T12:03:47.469622Z",
     "shell.execute_reply": "2021-03-26T12:03:47.470140Z"
    },
    "papermill": {
     "duration": 0.040419,
     "end_time": "2021-03-26T12:03:47.470299",
     "exception": false,
     "start_time": "2021-03-26T12:03:47.429880",
     "status": "completed"
    },
    "tags": []
   },
   "outputs": [],
   "source": [
    "# #hide\n",
    "# g = g.reset_index(['date'])"
   ]
  },
  {
   "cell_type": "code",
   "execution_count": 25,
   "id": "incomplete-mustang",
   "metadata": {
    "execution": {
     "iopub.execute_input": "2021-03-26T12:03:47.544298Z",
     "iopub.status.busy": "2021-03-26T12:03:47.543685Z",
     "iopub.status.idle": "2021-03-26T12:03:47.545919Z",
     "shell.execute_reply": "2021-03-26T12:03:47.545321Z"
    },
    "papermill": {
     "duration": 0.040037,
     "end_time": "2021-03-26T12:03:47.546028",
     "exception": false,
     "start_time": "2021-03-26T12:03:47.505991",
     "status": "completed"
    },
    "tags": []
   },
   "outputs": [],
   "source": [
    "#hide\n",
    "# g.head()"
   ]
  },
  {
   "cell_type": "code",
   "execution_count": 26,
   "id": "specific-kruger",
   "metadata": {
    "execution": {
     "iopub.execute_input": "2021-03-26T12:03:47.621328Z",
     "iopub.status.busy": "2021-03-26T12:03:47.620751Z",
     "iopub.status.idle": "2021-03-26T12:03:47.621941Z",
     "shell.execute_reply": "2021-03-26T12:03:47.622508Z"
    },
    "papermill": {
     "duration": 0.041132,
     "end_time": "2021-03-26T12:03:47.622635",
     "exception": false,
     "start_time": "2021-03-26T12:03:47.581503",
     "status": "completed"
    },
    "tags": []
   },
   "outputs": [],
   "source": [
    "#hide\n",
    "# g.columns = ['date','country','cases']"
   ]
  },
  {
   "cell_type": "code",
   "execution_count": 27,
   "id": "tender-conversion",
   "metadata": {
    "execution": {
     "iopub.execute_input": "2021-03-26T12:03:47.700062Z",
     "iopub.status.busy": "2021-03-26T12:03:47.699377Z",
     "iopub.status.idle": "2021-03-26T12:03:47.702103Z",
     "shell.execute_reply": "2021-03-26T12:03:47.701610Z"
    },
    "papermill": {
     "duration": 0.044999,
     "end_time": "2021-03-26T12:03:47.702218",
     "exception": false,
     "start_time": "2021-03-26T12:03:47.657219",
     "status": "completed"
    },
    "tags": []
   },
   "outputs": [],
   "source": [
    "#hide\n",
    "# g['continent'] = g.country"
   ]
  },
  {
   "cell_type": "code",
   "execution_count": 28,
   "id": "substantial-wilderness",
   "metadata": {
    "execution": {
     "iopub.execute_input": "2021-03-26T12:03:47.784678Z",
     "iopub.status.busy": "2021-03-26T12:03:47.783966Z",
     "iopub.status.idle": "2021-03-26T12:03:47.786460Z",
     "shell.execute_reply": "2021-03-26T12:03:47.785907Z"
    },
    "papermill": {
     "duration": 0.047263,
     "end_time": "2021-03-26T12:03:47.786616",
     "exception": false,
     "start_time": "2021-03-26T12:03:47.739353",
     "status": "completed"
    },
    "tags": []
   },
   "outputs": [],
   "source": [
    "#hide\n",
    "# cols = list(g.columns.values)"
   ]
  },
  {
   "cell_type": "code",
   "execution_count": 29,
   "id": "solved-farming",
   "metadata": {
    "execution": {
     "iopub.execute_input": "2021-03-26T12:03:47.862355Z",
     "iopub.status.busy": "2021-03-26T12:03:47.861747Z",
     "iopub.status.idle": "2021-03-26T12:03:47.863724Z",
     "shell.execute_reply": "2021-03-26T12:03:47.864283Z"
    },
    "papermill": {
     "duration": 0.041682,
     "end_time": "2021-03-26T12:03:47.864413",
     "exception": false,
     "start_time": "2021-03-26T12:03:47.822731",
     "status": "completed"
    },
    "tags": []
   },
   "outputs": [],
   "source": [
    "#hide\n",
    "# cols.insert(0, cols.pop())"
   ]
  },
  {
   "cell_type": "code",
   "execution_count": 30,
   "id": "executed-adoption",
   "metadata": {
    "execution": {
     "iopub.execute_input": "2021-03-26T12:03:47.936773Z",
     "iopub.status.busy": "2021-03-26T12:03:47.936201Z",
     "iopub.status.idle": "2021-03-26T12:03:47.938600Z",
     "shell.execute_reply": "2021-03-26T12:03:47.938113Z"
    },
    "papermill": {
     "duration": 0.039708,
     "end_time": "2021-03-26T12:03:47.938712",
     "exception": false,
     "start_time": "2021-03-26T12:03:47.899004",
     "status": "completed"
    },
    "tags": []
   },
   "outputs": [],
   "source": [
    "#hide\n",
    "# g = g[cols]"
   ]
  },
  {
   "cell_type": "code",
   "execution_count": 31,
   "id": "subject-dublin",
   "metadata": {
    "execution": {
     "iopub.execute_input": "2021-03-26T12:03:48.014990Z",
     "iopub.status.busy": "2021-03-26T12:03:48.014377Z",
     "iopub.status.idle": "2021-03-26T12:03:48.016614Z",
     "shell.execute_reply": "2021-03-26T12:03:48.016101Z"
    },
    "papermill": {
     "duration": 0.0433,
     "end_time": "2021-03-26T12:03:48.016730",
     "exception": false,
     "start_time": "2021-03-26T12:03:47.973430",
     "status": "completed"
    },
    "tags": []
   },
   "outputs": [],
   "source": [
    "#hide\n",
    "# g['continent'] = g['continent'].map(mapping['map.continent'])"
   ]
  },
  {
   "cell_type": "code",
   "execution_count": 32,
   "id": "freelance-scout",
   "metadata": {
    "execution": {
     "iopub.execute_input": "2021-03-26T12:03:48.093427Z",
     "iopub.status.busy": "2021-03-26T12:03:48.092817Z",
     "iopub.status.idle": "2021-03-26T12:03:48.094635Z",
     "shell.execute_reply": "2021-03-26T12:03:48.095131Z"
    },
    "papermill": {
     "duration": 0.044266,
     "end_time": "2021-03-26T12:03:48.095263",
     "exception": false,
     "start_time": "2021-03-26T12:03:48.050997",
     "status": "completed"
    },
    "tags": []
   },
   "outputs": [],
   "source": [
    "#hide\n",
    "# g.head()"
   ]
  },
  {
   "cell_type": "code",
   "execution_count": 33,
   "id": "limited-engine",
   "metadata": {
    "execution": {
     "iopub.execute_input": "2021-03-26T12:03:48.167822Z",
     "iopub.status.busy": "2021-03-26T12:03:48.167208Z",
     "iopub.status.idle": "2021-03-26T12:03:48.169604Z",
     "shell.execute_reply": "2021-03-26T12:03:48.169120Z"
    },
    "papermill": {
     "duration": 0.039897,
     "end_time": "2021-03-26T12:03:48.169715",
     "exception": false,
     "start_time": "2021-03-26T12:03:48.129818",
     "status": "completed"
    },
    "tags": []
   },
   "outputs": [],
   "source": [
    "# hide\n",
    "# g['date'] = g['date'].astype('datetime64[ns]')"
   ]
  },
  {
   "cell_type": "code",
   "execution_count": 34,
   "id": "sophisticated-supervisor",
   "metadata": {
    "execution": {
     "iopub.execute_input": "2021-03-26T12:03:48.245448Z",
     "iopub.status.busy": "2021-03-26T12:03:48.244766Z",
     "iopub.status.idle": "2021-03-26T12:03:48.247486Z",
     "shell.execute_reply": "2021-03-26T12:03:48.246746Z"
    },
    "papermill": {
     "duration": 0.041479,
     "end_time": "2021-03-26T12:03:48.247619",
     "exception": false,
     "start_time": "2021-03-26T12:03:48.206140",
     "status": "completed"
    },
    "tags": []
   },
   "outputs": [],
   "source": [
    "#hide\n",
    "# g['date'] = g.date.dt.dayofyear"
   ]
  },
  {
   "cell_type": "code",
   "execution_count": 35,
   "id": "inside-dubai",
   "metadata": {
    "execution": {
     "iopub.execute_input": "2021-03-26T12:03:48.321516Z",
     "iopub.status.busy": "2021-03-26T12:03:48.320924Z",
     "iopub.status.idle": "2021-03-26T12:03:48.323629Z",
     "shell.execute_reply": "2021-03-26T12:03:48.322909Z"
    },
    "papermill": {
     "duration": 0.039832,
     "end_time": "2021-03-26T12:03:48.323740",
     "exception": false,
     "start_time": "2021-03-26T12:03:48.283908",
     "status": "completed"
    },
    "tags": []
   },
   "outputs": [],
   "source": [
    "#hide\n",
    "# g = g.rename(columns= {'continent':'group','country':'name','cases':'value'})"
   ]
  },
  {
   "cell_type": "code",
   "execution_count": 36,
   "id": "fleet-motorcycle",
   "metadata": {
    "execution": {
     "iopub.execute_input": "2021-03-26T12:03:48.396199Z",
     "iopub.status.busy": "2021-03-26T12:03:48.395568Z",
     "iopub.status.idle": "2021-03-26T12:03:48.398126Z",
     "shell.execute_reply": "2021-03-26T12:03:48.397642Z"
    },
    "papermill": {
     "duration": 0.039822,
     "end_time": "2021-03-26T12:03:48.398237",
     "exception": false,
     "start_time": "2021-03-26T12:03:48.358415",
     "status": "completed"
    },
    "tags": []
   },
   "outputs": [],
   "source": [
    "#hide\n",
    "# cols = ['name','group','day','value']"
   ]
  },
  {
   "cell_type": "code",
   "execution_count": 37,
   "id": "continued-sleeping",
   "metadata": {
    "execution": {
     "iopub.execute_input": "2021-03-26T12:03:48.472307Z",
     "iopub.status.busy": "2021-03-26T12:03:48.471713Z",
     "iopub.status.idle": "2021-03-26T12:03:48.473696Z",
     "shell.execute_reply": "2021-03-26T12:03:48.474138Z"
    },
    "papermill": {
     "duration": 0.041255,
     "end_time": "2021-03-26T12:03:48.474264",
     "exception": false,
     "start_time": "2021-03-26T12:03:48.433009",
     "status": "completed"
    },
    "tags": []
   },
   "outputs": [],
   "source": [
    "#hide\n",
    "# g.rename(columns= {'date':'day'},inplace = True)"
   ]
  },
  {
   "cell_type": "code",
   "execution_count": 38,
   "id": "major-fight",
   "metadata": {
    "execution": {
     "iopub.execute_input": "2021-03-26T12:03:48.548204Z",
     "iopub.status.busy": "2021-03-26T12:03:48.547607Z",
     "iopub.status.idle": "2021-03-26T12:03:48.549574Z",
     "shell.execute_reply": "2021-03-26T12:03:48.550041Z"
    },
    "papermill": {
     "duration": 0.041688,
     "end_time": "2021-03-26T12:03:48.550163",
     "exception": false,
     "start_time": "2021-03-26T12:03:48.508475",
     "status": "completed"
    },
    "tags": []
   },
   "outputs": [],
   "source": [
    "#hide\n",
    "# g = g[cols]"
   ]
  },
  {
   "cell_type": "code",
   "execution_count": 39,
   "id": "structured-mobile",
   "metadata": {
    "execution": {
     "iopub.execute_input": "2021-03-26T12:03:48.622292Z",
     "iopub.status.busy": "2021-03-26T12:03:48.621725Z",
     "iopub.status.idle": "2021-03-26T12:03:48.623912Z",
     "shell.execute_reply": "2021-03-26T12:03:48.624479Z"
    },
    "papermill": {
     "duration": 0.039624,
     "end_time": "2021-03-26T12:03:48.624602",
     "exception": false,
     "start_time": "2021-03-26T12:03:48.584978",
     "status": "completed"
    },
    "tags": []
   },
   "outputs": [],
   "source": [
    "# #hide\n",
    "# g = g[g.group.notna()]"
   ]
  },
  {
   "cell_type": "code",
   "execution_count": 40,
   "id": "determined-closing",
   "metadata": {
    "execution": {
     "iopub.execute_input": "2021-03-26T12:03:48.697708Z",
     "iopub.status.busy": "2021-03-26T12:03:48.697130Z",
     "iopub.status.idle": "2021-03-26T12:03:48.699066Z",
     "shell.execute_reply": "2021-03-26T12:03:48.699611Z"
    },
    "papermill": {
     "duration": 0.041059,
     "end_time": "2021-03-26T12:03:48.699738",
     "exception": false,
     "start_time": "2021-03-26T12:03:48.658679",
     "status": "completed"
    },
    "tags": []
   },
   "outputs": [],
   "source": [
    "# #hide\n",
    "# colors = dict(zip(\n",
    "#     [\"Oceania\", \"Europe\", \"Asia\", \"South America\", \"Middle East\", \"North America\", \"Africa\"],\n",
    "#     [\"#adb0ff\", \"#ffb3ff\", \"#90d595\", \"#e48381\", \"#aafbff\", \"#f7bb5f\", \"#eafb50\"]\n",
    "# ))\n",
    "# group_lk = g.set_index('name')['group'].to_dict()"
   ]
  },
  {
   "cell_type": "code",
   "execution_count": null,
   "id": "gross-drinking",
   "metadata": {
    "papermill": {
     "duration": 0.035665,
     "end_time": "2021-03-26T12:03:48.772380",
     "exception": false,
     "start_time": "2021-03-26T12:03:48.736715",
     "status": "completed"
    },
    "tags": []
   },
   "outputs": [],
   "source": []
  },
  {
   "cell_type": "code",
   "execution_count": 41,
   "id": "subject-macintosh",
   "metadata": {
    "execution": {
     "iopub.execute_input": "2021-03-26T12:03:48.848788Z",
     "iopub.status.busy": "2021-03-26T12:03:48.848160Z",
     "iopub.status.idle": "2021-03-26T12:03:48.849904Z",
     "shell.execute_reply": "2021-03-26T12:03:48.850396Z"
    },
    "papermill": {
     "duration": 0.040582,
     "end_time": "2021-03-26T12:03:48.850524",
     "exception": false,
     "start_time": "2021-03-26T12:03:48.809942",
     "status": "completed"
    },
    "tags": []
   },
   "outputs": [],
   "source": [
    "# #hide\n",
    "# fig, ax = plt.subplots(figsize=(15, 8))\n",
    "\n",
    "# def draw_barchart(current_day):\n",
    "#     dff = g[g['day'].eq(current_day)].sort_values(by='value', ascending=True).tail(10)\n",
    "#     ax.clear()\n",
    "#     ax.barh(dff['name'], dff['value'], color=[colors[group_lk[x]] for x in dff['name']])\n",
    "#     dx = dff['value'].max() / 200\n",
    "    \n",
    "#     for i, (value, name) in enumerate(zip(dff['value'], dff['name'])):\n",
    "#         ax.text(value-dx, i,     name,           size=14, weight=600, ha='right', va='bottom')\n",
    "#         ax.text(value-dx, i-.25, group_lk[name], size=10, color='#444444', ha='right', va='baseline')\n",
    "#         ax.text(value+dx, i,     f'{value:,.0f}',  size=14, ha='left',  va='center')\n",
    "#     ax.text(1, 0.4, current_day, transform=ax.transAxes, color='#777777', size=46, ha='right', weight=800)\n",
    "#     ax.text(0, 1.06, 'Population (thousands)', transform=ax.transAxes, size=12, color='#777777')\n",
    "#     ax.xaxis.set_major_formatter(ticker.StrMethodFormatter('{x:,.0f}'))\n",
    "#     ax.xaxis.set_ticks_position('top')\n",
    "#     ax.tick_params(axis='x', colors='#777777', labelsize=12)\n",
    "#     ax.set_yticks([])\n",
    "#     ax.margins(0, 0.01)\n",
    "#     ax.grid(which='major', axis='x', linestyle='-')\n",
    "#     ax.set_axisbelow(True)\n",
    "    \n",
    "#     ax.text(0, 1.15, 'Coronavirus',\n",
    "#             transform=ax.transAxes, size=24, weight=600, ha='left', va='top')\n",
    "# #     ax.text(1, 0, 'by @pratapvardhan; credit @jburnmurdoch', transform=ax.transAxes, color='#777777', ha='right',\n",
    "# #             bbox=dict(facecolor='white', alpha=0.8, edgecolor='white'))\n",
    "#     plt.box(False)"
   ]
  },
  {
   "cell_type": "code",
   "execution_count": 42,
   "id": "sexual-wages",
   "metadata": {
    "execution": {
     "iopub.execute_input": "2021-03-26T12:03:48.923079Z",
     "iopub.status.busy": "2021-03-26T12:03:48.922443Z",
     "iopub.status.idle": "2021-03-26T12:03:48.924479Z",
     "shell.execute_reply": "2021-03-26T12:03:48.924951Z"
    },
    "papermill": {
     "duration": 0.040428,
     "end_time": "2021-03-26T12:03:48.925074",
     "exception": false,
     "start_time": "2021-03-26T12:03:48.884646",
     "status": "completed"
    },
    "tags": []
   },
   "outputs": [],
   "source": [
    "# #hide_input\n",
    "# fig, ax = plt.subplots(figsize=(15, 8))\n",
    "# animator = animation.FuncAnimation(fig, draw_barchart, frames=range(g.day.values.min(), g.day.values.max()))\n",
    "# HTML(animator.to_jshtml())\n",
    "# # or use animator.to_html5_video() or animator.save() "
   ]
  },
  {
   "cell_type": "code",
   "execution_count": null,
   "id": "australian-container",
   "metadata": {
    "papermill": {
     "duration": 0.034635,
     "end_time": "2021-03-26T12:03:48.994043",
     "exception": false,
     "start_time": "2021-03-26T12:03:48.959408",
     "status": "completed"
    },
    "tags": []
   },
   "outputs": [],
   "source": []
  },
  {
   "cell_type": "code",
   "execution_count": null,
   "id": "mediterranean-pontiac",
   "metadata": {
    "papermill": {
     "duration": 0.03719,
     "end_time": "2021-03-26T12:03:49.067039",
     "exception": false,
     "start_time": "2021-03-26T12:03:49.029849",
     "status": "completed"
    },
    "tags": []
   },
   "outputs": [],
   "source": []
  },
  {
   "cell_type": "code",
   "execution_count": null,
   "id": "aging-legislature",
   "metadata": {
    "papermill": {
     "duration": 0.035938,
     "end_time": "2021-03-26T12:03:49.139346",
     "exception": false,
     "start_time": "2021-03-26T12:03:49.103408",
     "status": "completed"
    },
    "tags": []
   },
   "outputs": [],
   "source": []
  }
 ],
 "metadata": {
  "kernelspec": {
   "display_name": "Python 3",
   "language": "python",
   "name": "python3"
  },
  "language_info": {
   "codemirror_mode": {
    "name": "ipython",
    "version": 3
   },
   "file_extension": ".py",
   "mimetype": "text/x-python",
   "name": "python",
   "nbconvert_exporter": "python",
   "pygments_lexer": "ipython3",
   "version": "3.6.13"
  },
  "papermill": {
   "duration": 6.585083,
   "end_time": "2021-03-26T12:03:49.481403",
   "environment_variables": {},
   "exception": null,
   "input_path": "2020-03-21-covid19exp.ipynb",
   "output_path": "2020-03-21-covid19exp.ipynb",
   "parameters": {},
   "start_time": "2021-03-26T12:03:42.896320",
   "version": "2.0.0"
  }
 },
 "nbformat": 4,
 "nbformat_minor": 5
}