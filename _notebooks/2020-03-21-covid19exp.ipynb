{
 "cells": [
  {
   "cell_type": "markdown",
   "metadata": {
    "papermill": {
     "duration": 0.033475,
     "end_time": "2020-12-13T00:12:33.144829",
     "exception": false,
     "start_time": "2020-12-13T00:12:33.111354",
     "status": "completed"
    },
    "tags": []
   },
   "source": [
    "# COVID-19 Case Race\n",
    "> A race chart to see rising cases around the world\n",
    "\n",
    "- author: Hargun Oberoi\n",
    "- image: images/covid-overview.png\n",
    "- hide: false\n",
    "- badges: false"
   ]
  },
  {
   "cell_type": "code",
   "execution_count": 1,
   "metadata": {
    "execution": {
     "iopub.execute_input": "2020-12-13T00:12:33.218258Z",
     "iopub.status.busy": "2020-12-13T00:12:33.217435Z",
     "iopub.status.idle": "2020-12-13T00:12:33.553646Z",
     "shell.execute_reply": "2020-12-13T00:12:33.552618Z"
    },
    "papermill": {
     "duration": 0.379361,
     "end_time": "2020-12-13T00:12:33.553815",
     "exception": false,
     "start_time": "2020-12-13T00:12:33.174454",
     "status": "completed"
    },
    "tags": []
   },
   "outputs": [],
   "source": [
    "#hide\n",
    "import numpy as np\n",
    "import pandas as pd\n",
    "from jinja2 import Template\n",
    "from IPython.display import HTML"
   ]
  },
  {
   "cell_type": "code",
   "execution_count": 2,
   "metadata": {
    "execution": {
     "iopub.execute_input": "2020-12-13T00:12:33.619522Z",
     "iopub.status.busy": "2020-12-13T00:12:33.618436Z",
     "iopub.status.idle": "2020-12-13T00:12:33.620577Z",
     "shell.execute_reply": "2020-12-13T00:12:33.621009Z"
    },
    "papermill": {
     "duration": 0.038257,
     "end_time": "2020-12-13T00:12:33.621146",
     "exception": false,
     "start_time": "2020-12-13T00:12:33.582889",
     "status": "completed"
    },
    "tags": []
   },
   "outputs": [],
   "source": [
    "#hide\n",
    "\n",
    "# FETCH\n",
    "base_url = 'https://raw.githubusercontent.com/pratapvardhan/notebooks/master/covid19/'\n",
    "paths = {\n",
    "    'mapping': base_url + 'mapping_countries.csv',\n",
    "    'overview': base_url + 'overview.tpl'\n",
    "}"
   ]
  },
  {
   "cell_type": "code",
   "execution_count": 3,
   "metadata": {
    "execution": {
     "iopub.execute_input": "2020-12-13T00:12:33.692236Z",
     "iopub.status.busy": "2020-12-13T00:12:33.691649Z",
     "iopub.status.idle": "2020-12-13T00:12:33.694889Z",
     "shell.execute_reply": "2020-12-13T00:12:33.694422Z"
    },
    "papermill": {
     "duration": 0.044764,
     "end_time": "2020-12-13T00:12:33.695004",
     "exception": false,
     "start_time": "2020-12-13T00:12:33.650240",
     "status": "completed"
    },
    "tags": []
   },
   "outputs": [
    {
     "data": {
      "text/plain": [
       "'https://raw.githubusercontent.com/pratapvardhan/notebooks/master/covid19/mapping_countries.csv'"
      ]
     },
     "execution_count": 3,
     "metadata": {},
     "output_type": "execute_result"
    }
   ],
   "source": [
    "#hide\n",
    "paths['mapping']"
   ]
  },
  {
   "cell_type": "code",
   "execution_count": 4,
   "metadata": {
    "execution": {
     "iopub.execute_input": "2020-12-13T00:12:33.758914Z",
     "iopub.status.busy": "2020-12-13T00:12:33.758328Z",
     "iopub.status.idle": "2020-12-13T00:12:33.760906Z",
     "shell.execute_reply": "2020-12-13T00:12:33.761436Z"
    },
    "papermill": {
     "duration": 0.037768,
     "end_time": "2020-12-13T00:12:33.761571",
     "exception": false,
     "start_time": "2020-12-13T00:12:33.723803",
     "status": "completed"
    },
    "tags": []
   },
   "outputs": [],
   "source": [
    "#hide\n",
    "def get_mappings(url):\n",
    "    df = pd.read_csv(url)\n",
    "    return {\n",
    "        'df': df,\n",
    "        'replace.country': dict(df.dropna(subset=['Name']).set_index('Country')['Name']),\n",
    "        'map.continent': dict(df.set_index('Name')['Continent'])\n",
    "    }"
   ]
  },
  {
   "cell_type": "code",
   "execution_count": 5,
   "metadata": {
    "execution": {
     "iopub.execute_input": "2020-12-13T00:12:33.825212Z",
     "iopub.status.busy": "2020-12-13T00:12:33.824612Z",
     "iopub.status.idle": "2020-12-13T00:12:33.895627Z",
     "shell.execute_reply": "2020-12-13T00:12:33.895077Z"
    },
    "papermill": {
     "duration": 0.104977,
     "end_time": "2020-12-13T00:12:33.895760",
     "exception": false,
     "start_time": "2020-12-13T00:12:33.790783",
     "status": "completed"
    },
    "tags": []
   },
   "outputs": [],
   "source": [
    "#hide\n",
    "mapping = get_mappings(paths['mapping'])"
   ]
  },
  {
   "cell_type": "code",
   "execution_count": 6,
   "metadata": {
    "execution": {
     "iopub.execute_input": "2020-12-13T00:12:33.959043Z",
     "iopub.status.busy": "2020-12-13T00:12:33.958477Z",
     "iopub.status.idle": "2020-12-13T00:12:33.960974Z",
     "shell.execute_reply": "2020-12-13T00:12:33.961494Z"
    },
    "papermill": {
     "duration": 0.037008,
     "end_time": "2020-12-13T00:12:33.961632",
     "exception": false,
     "start_time": "2020-12-13T00:12:33.924624",
     "status": "completed"
    },
    "tags": []
   },
   "outputs": [],
   "source": [
    "#hide\n",
    "def get_template(path):\n",
    "    from urllib.parse import urlparse\n",
    "    if bool(urlparse(path).netloc):\n",
    "        from urllib.request import urlopen\n",
    "        return urlopen(path).read().decode('utf8')\n",
    "    return open(path).read()"
   ]
  },
  {
   "cell_type": "code",
   "execution_count": 7,
   "metadata": {
    "execution": {
     "iopub.execute_input": "2020-12-13T00:12:34.025682Z",
     "iopub.status.busy": "2020-12-13T00:12:34.025096Z",
     "iopub.status.idle": "2020-12-13T00:12:34.027685Z",
     "shell.execute_reply": "2020-12-13T00:12:34.027190Z"
    },
    "papermill": {
     "duration": 0.037949,
     "end_time": "2020-12-13T00:12:34.027816",
     "exception": false,
     "start_time": "2020-12-13T00:12:33.989867",
     "status": "completed"
    },
    "tags": []
   },
   "outputs": [],
   "source": [
    "#hide\n",
    "def get_frame(name):\n",
    "    url = (\n",
    "        'https://raw.githubusercontent.com/CSSEGISandData/COVID-19/master/csse_covid_19_data/'\n",
    "        f'csse_covid_19_time_series/time_series_covid19_{name}_global.csv')\n",
    "    df = pd.read_csv(url)\n",
    "    # rename countries\n",
    "    df['Country/Region'] = df['Country/Region'].replace(mapping['replace.country'])\n",
    "    return df"
   ]
  },
  {
   "cell_type": "code",
   "execution_count": 8,
   "metadata": {
    "execution": {
     "iopub.execute_input": "2020-12-13T00:12:34.092817Z",
     "iopub.status.busy": "2020-12-13T00:12:34.092216Z",
     "iopub.status.idle": "2020-12-13T00:12:34.094506Z",
     "shell.execute_reply": "2020-12-13T00:12:34.095025Z"
    },
    "papermill": {
     "duration": 0.038345,
     "end_time": "2020-12-13T00:12:34.095160",
     "exception": false,
     "start_time": "2020-12-13T00:12:34.056815",
     "status": "completed"
    },
    "tags": []
   },
   "outputs": [],
   "source": [
    "#hide\n",
    "def get_dates(df):\n",
    "    dt_cols = df.columns[~df.columns.isin(['Province/State', 'Country/Region', 'Lat', 'Long'])]\n",
    "    LAST_DATE_I = -1\n",
    "    # sometimes last column may be empty, then go backwards\n",
    "    for i in range(-1, -len(dt_cols), -1):\n",
    "        if not df[dt_cols[i]].fillna(0).eq(0).all():\n",
    "            LAST_DATE_I = i\n",
    "            break\n",
    "    return LAST_DATE_I, dt_cols"
   ]
  },
  {
   "cell_type": "code",
   "execution_count": 9,
   "metadata": {
    "execution": {
     "iopub.execute_input": "2020-12-13T00:12:34.160055Z",
     "iopub.status.busy": "2020-12-13T00:12:34.159432Z",
     "iopub.status.idle": "2020-12-13T00:12:34.618743Z",
     "shell.execute_reply": "2020-12-13T00:12:34.618032Z"
    },
    "papermill": {
     "duration": 0.494602,
     "end_time": "2020-12-13T00:12:34.618928",
     "exception": false,
     "start_time": "2020-12-13T00:12:34.124326",
     "status": "completed"
    },
    "tags": []
   },
   "outputs": [],
   "source": [
    "#hide\n",
    "COL_REGION = 'Country/Region'\n",
    "# Confirmed, Recovered, Deaths\n",
    "df = get_frame('confirmed')\n",
    "# dft_: timeseries, dfc_: today country agg\n",
    "dft_cases = df\n",
    "dft_deaths = get_frame('deaths')\n",
    "dft_recovered = get_frame('recovered')\n",
    "LAST_DATE_I, dt_cols = get_dates(df)"
   ]
  },
  {
   "cell_type": "code",
   "execution_count": 10,
   "metadata": {
    "execution": {
     "iopub.execute_input": "2020-12-13T00:12:34.689337Z",
     "iopub.status.busy": "2020-12-13T00:12:34.688723Z",
     "iopub.status.idle": "2020-12-13T00:12:34.689952Z",
     "shell.execute_reply": "2020-12-13T00:12:34.690408Z"
    },
    "papermill": {
     "duration": 0.039069,
     "end_time": "2020-12-13T00:12:34.690540",
     "exception": false,
     "start_time": "2020-12-13T00:12:34.651471",
     "status": "completed"
    },
    "tags": []
   },
   "outputs": [],
   "source": [
    "#hide\n",
    "LAST_DATE_I, dt_cols = get_dates(df)\n",
    "dt_today =dt_cols[LAST_DATE_I]\n",
    "# dt_5day = dt_cols[LAST_DATE_I - 5]\n",
    "dt_yday = dt_cols[LAST_DATE_I - 1]"
   ]
  },
  {
   "cell_type": "code",
   "execution_count": 11,
   "metadata": {
    "execution": {
     "iopub.execute_input": "2020-12-13T00:12:34.765871Z",
     "iopub.status.busy": "2020-12-13T00:12:34.761820Z",
     "iopub.status.idle": "2020-12-13T00:12:34.770364Z",
     "shell.execute_reply": "2020-12-13T00:12:34.769858Z"
    },
    "papermill": {
     "duration": 0.046047,
     "end_time": "2020-12-13T00:12:34.770494",
     "exception": false,
     "start_time": "2020-12-13T00:12:34.724447",
     "status": "completed"
    },
    "tags": []
   },
   "outputs": [],
   "source": [
    "#hide\n",
    "dfc_cases = dft_cases.groupby(COL_REGION)[dt_today].sum()\n",
    "dfc_deaths = dft_deaths.groupby(COL_REGION)[dt_today].sum()\n",
    "# dfp_cases = dft_cases.groupby(COL_REGION)[dt_5day].sum()\n",
    "# dfp_deaths = dft_deaths.groupby(COL_REGION)[dt_5day].sum()\n",
    "dfp_cases = dft_cases.groupby(COL_REGION)[dt_yday].sum()\n",
    "dfp_deaths = dft_deaths.groupby(COL_REGION)[dt_yday].sum()"
   ]
  },
  {
   "cell_type": "code",
   "execution_count": 12,
   "metadata": {
    "execution": {
     "iopub.execute_input": "2020-12-13T00:12:34.837817Z",
     "iopub.status.busy": "2020-12-13T00:12:34.836565Z",
     "iopub.status.idle": "2020-12-13T00:12:34.842735Z",
     "shell.execute_reply": "2020-12-13T00:12:34.842148Z"
    },
    "papermill": {
     "duration": 0.042376,
     "end_time": "2020-12-13T00:12:34.842862",
     "exception": false,
     "start_time": "2020-12-13T00:12:34.800486",
     "status": "completed"
    },
    "tags": []
   },
   "outputs": [],
   "source": [
    "#hide\n",
    "df_table = (pd.DataFrame(dict(Cases = dfc_cases, Deaths = dfc_deaths, PCases = dfp_cases, PDeaths = dfp_deaths))\n",
    "            .sort_values(by = ['Cases','Deaths'], ascending = [False, False])\n",
    "            .reset_index())"
   ]
  },
  {
   "cell_type": "code",
   "execution_count": 13,
   "metadata": {
    "execution": {
     "iopub.execute_input": "2020-12-13T00:12:34.926848Z",
     "iopub.status.busy": "2020-12-13T00:12:34.920272Z",
     "iopub.status.idle": "2020-12-13T00:12:34.932622Z",
     "shell.execute_reply": "2020-12-13T00:12:34.932118Z"
    },
    "papermill": {
     "duration": 0.059969,
     "end_time": "2020-12-13T00:12:34.932758",
     "exception": false,
     "start_time": "2020-12-13T00:12:34.872789",
     "status": "completed"
    },
    "tags": []
   },
   "outputs": [
    {
     "data": {
      "text/html": [
       "<div>\n",
       "<style scoped>\n",
       "    .dataframe tbody tr th:only-of-type {\n",
       "        vertical-align: middle;\n",
       "    }\n",
       "\n",
       "    .dataframe tbody tr th {\n",
       "        vertical-align: top;\n",
       "    }\n",
       "\n",
       "    .dataframe thead th {\n",
       "        text-align: right;\n",
       "    }\n",
       "</style>\n",
       "<table border=\"1\" class=\"dataframe\">\n",
       "  <thead>\n",
       "    <tr style=\"text-align: right;\">\n",
       "      <th></th>\n",
       "      <th>Country/Region</th>\n",
       "      <th>Cases</th>\n",
       "      <th>Deaths</th>\n",
       "      <th>PCases</th>\n",
       "      <th>PDeaths</th>\n",
       "      <th>Cases (+)</th>\n",
       "      <th>Deaths (+)</th>\n",
       "      <th>Fatality Rate</th>\n",
       "      <th>Continent</th>\n",
       "    </tr>\n",
       "  </thead>\n",
       "  <tbody>\n",
       "    <tr>\n",
       "      <th>0</th>\n",
       "      <td>US</td>\n",
       "      <td>15842789</td>\n",
       "      <td>295450</td>\n",
       "      <td>15611014</td>\n",
       "      <td>292141</td>\n",
       "      <td>231775</td>\n",
       "      <td>3309</td>\n",
       "      <td>1.86</td>\n",
       "      <td>North America</td>\n",
       "    </tr>\n",
       "    <tr>\n",
       "      <th>1</th>\n",
       "      <td>India</td>\n",
       "      <td>9826775</td>\n",
       "      <td>142628</td>\n",
       "      <td>9796744</td>\n",
       "      <td>142185</td>\n",
       "      <td>30031</td>\n",
       "      <td>443</td>\n",
       "      <td>1.45</td>\n",
       "      <td>Asia</td>\n",
       "    </tr>\n",
       "    <tr>\n",
       "      <th>2</th>\n",
       "      <td>Brazil</td>\n",
       "      <td>6836227</td>\n",
       "      <td>180437</td>\n",
       "      <td>6781799</td>\n",
       "      <td>179765</td>\n",
       "      <td>54428</td>\n",
       "      <td>672</td>\n",
       "      <td>2.64</td>\n",
       "      <td>South America</td>\n",
       "    </tr>\n",
       "    <tr>\n",
       "      <th>3</th>\n",
       "      <td>Russia</td>\n",
       "      <td>2574319</td>\n",
       "      <td>45370</td>\n",
       "      <td>2546113</td>\n",
       "      <td>44769</td>\n",
       "      <td>28206</td>\n",
       "      <td>601</td>\n",
       "      <td>1.76</td>\n",
       "      <td>Europe</td>\n",
       "    </tr>\n",
       "    <tr>\n",
       "      <th>4</th>\n",
       "      <td>France</td>\n",
       "      <td>2405210</td>\n",
       "      <td>57671</td>\n",
       "      <td>2391643</td>\n",
       "      <td>57044</td>\n",
       "      <td>13567</td>\n",
       "      <td>627</td>\n",
       "      <td>2.40</td>\n",
       "      <td>Europe</td>\n",
       "    </tr>\n",
       "  </tbody>\n",
       "</table>\n",
       "</div>"
      ],
      "text/plain": [
       "  Country/Region     Cases  Deaths    PCases  PDeaths  Cases (+)  Deaths (+)  \\\n",
       "0             US  15842789  295450  15611014   292141     231775        3309   \n",
       "1          India   9826775  142628   9796744   142185      30031         443   \n",
       "2         Brazil   6836227  180437   6781799   179765      54428         672   \n",
       "3         Russia   2574319   45370   2546113    44769      28206         601   \n",
       "4         France   2405210   57671   2391643    57044      13567         627   \n",
       "\n",
       "   Fatality Rate      Continent  \n",
       "0           1.86  North America  \n",
       "1           1.45           Asia  \n",
       "2           2.64  South America  \n",
       "3           1.76         Europe  \n",
       "4           2.40         Europe  "
      ]
     },
     "execution_count": 13,
     "metadata": {},
     "output_type": "execute_result"
    }
   ],
   "source": [
    "#hide\n",
    "for c in 'Cases, Deaths'.split(', '):\n",
    "    df_table[f'{c} (+)'] = (df_table[c] - df_table[f'P{c}']).clip(0)\n",
    "    #Clip ça veut dire, les chiffres negatif sont interdit\n",
    "df_table['Fatality Rate'] = (100* df_table['Deaths']/ df_table['Cases']).round(2)\n",
    "df_table['Continent'] = df_table['Country/Region'].map(mapping['map.continent'])\n",
    "df_table.head(5)"
   ]
  },
  {
   "cell_type": "code",
   "execution_count": 14,
   "metadata": {
    "execution": {
     "iopub.execute_input": "2020-12-13T00:12:34.999491Z",
     "iopub.status.busy": "2020-12-13T00:12:34.998943Z",
     "iopub.status.idle": "2020-12-13T00:12:35.000187Z",
     "shell.execute_reply": "2020-12-13T00:12:35.000745Z"
    },
    "papermill": {
     "duration": 0.038013,
     "end_time": "2020-12-13T00:12:35.000885",
     "exception": false,
     "start_time": "2020-12-13T00:12:34.962872",
     "status": "completed"
    },
    "tags": []
   },
   "outputs": [],
   "source": [
    "#hide\n",
    "#delete problematic countries from table\n",
    "df_table = df_table[~df_table['Country/Region'].isin(['Cape Verde', 'Cruise Ship', 'Kosovo'])]"
   ]
  },
  {
   "cell_type": "code",
   "execution_count": 15,
   "metadata": {
    "execution": {
     "iopub.execute_input": "2020-12-13T00:12:35.074567Z",
     "iopub.status.busy": "2020-12-13T00:12:35.073973Z",
     "iopub.status.idle": "2020-12-13T00:12:35.092383Z",
     "shell.execute_reply": "2020-12-13T00:12:35.091869Z"
    },
    "papermill": {
     "duration": 0.06105,
     "end_time": "2020-12-13T00:12:35.092509",
     "exception": false,
     "start_time": "2020-12-13T00:12:35.031459",
     "status": "completed"
    },
    "tags": []
   },
   "outputs": [
    {
     "data": {
      "text/html": [
       "<div>\n",
       "<style scoped>\n",
       "    .dataframe tbody tr th:only-of-type {\n",
       "        vertical-align: middle;\n",
       "    }\n",
       "\n",
       "    .dataframe tbody tr th {\n",
       "        vertical-align: top;\n",
       "    }\n",
       "\n",
       "    .dataframe thead th {\n",
       "        text-align: right;\n",
       "    }\n",
       "</style>\n",
       "<table border=\"1\" class=\"dataframe\">\n",
       "  <thead>\n",
       "    <tr style=\"text-align: right;\">\n",
       "      <th></th>\n",
       "      <th>Country/Region</th>\n",
       "      <th>Cases</th>\n",
       "      <th>Deaths</th>\n",
       "      <th>PCases</th>\n",
       "      <th>PDeaths</th>\n",
       "      <th>Cases (+)</th>\n",
       "      <th>Deaths (+)</th>\n",
       "      <th>Fatality Rate</th>\n",
       "      <th>Continent</th>\n",
       "    </tr>\n",
       "  </thead>\n",
       "  <tbody>\n",
       "    <tr>\n",
       "      <th>0</th>\n",
       "      <td>US</td>\n",
       "      <td>15842789</td>\n",
       "      <td>295450</td>\n",
       "      <td>15611014</td>\n",
       "      <td>292141</td>\n",
       "      <td>231775</td>\n",
       "      <td>3309</td>\n",
       "      <td>1.9</td>\n",
       "      <td>North America</td>\n",
       "    </tr>\n",
       "    <tr>\n",
       "      <th>1</th>\n",
       "      <td>India</td>\n",
       "      <td>9826775</td>\n",
       "      <td>142628</td>\n",
       "      <td>9796744</td>\n",
       "      <td>142185</td>\n",
       "      <td>30031</td>\n",
       "      <td>443</td>\n",
       "      <td>1.5</td>\n",
       "      <td>Asia</td>\n",
       "    </tr>\n",
       "    <tr>\n",
       "      <th>2</th>\n",
       "      <td>Brazil</td>\n",
       "      <td>6836227</td>\n",
       "      <td>180437</td>\n",
       "      <td>6781799</td>\n",
       "      <td>179765</td>\n",
       "      <td>54428</td>\n",
       "      <td>672</td>\n",
       "      <td>2.6</td>\n",
       "      <td>South America</td>\n",
       "    </tr>\n",
       "    <tr>\n",
       "      <th>3</th>\n",
       "      <td>Russia</td>\n",
       "      <td>2574319</td>\n",
       "      <td>45370</td>\n",
       "      <td>2546113</td>\n",
       "      <td>44769</td>\n",
       "      <td>28206</td>\n",
       "      <td>601</td>\n",
       "      <td>1.8</td>\n",
       "      <td>Europe</td>\n",
       "    </tr>\n",
       "    <tr>\n",
       "      <th>4</th>\n",
       "      <td>France</td>\n",
       "      <td>2405210</td>\n",
       "      <td>57671</td>\n",
       "      <td>2391643</td>\n",
       "      <td>57044</td>\n",
       "      <td>13567</td>\n",
       "      <td>627</td>\n",
       "      <td>2.4</td>\n",
       "      <td>Europe</td>\n",
       "    </tr>\n",
       "  </tbody>\n",
       "</table>\n",
       "</div>"
      ],
      "text/plain": [
       "  Country/Region     Cases  Deaths    PCases  PDeaths  Cases (+)  Deaths (+)  \\\n",
       "0             US  15842789  295450  15611014   292141     231775        3309   \n",
       "1          India   9826775  142628   9796744   142185      30031         443   \n",
       "2         Brazil   6836227  180437   6781799   179765      54428         672   \n",
       "3         Russia   2574319   45370   2546113    44769      28206         601   \n",
       "4         France   2405210   57671   2391643    57044      13567         627   \n",
       "\n",
       "   Fatality Rate      Continent  \n",
       "0            1.9  North America  \n",
       "1            1.5           Asia  \n",
       "2            2.6  South America  \n",
       "3            1.8         Europe  \n",
       "4            2.4         Europe  "
      ]
     },
     "execution_count": 15,
     "metadata": {},
     "output_type": "execute_result"
    }
   ],
   "source": [
    "#hide\n",
    "df_table = (pd.DataFrame(dict(Cases=dfc_cases, Deaths=dfc_deaths, PCases=dfp_cases, PDeaths=dfp_deaths))\n",
    "             .sort_values(by=['Cases', 'Deaths'], ascending=[False, False])\n",
    "             .reset_index())\n",
    "df_table.rename(columns={'index': 'Country/Region'}, inplace=True)\n",
    "for c in 'Cases, Deaths'.split(', '):\n",
    "    df_table[f'{c} (+)'] = (df_table[c] - df_table[f'P{c}']).clip(0)  # DATA BUG\n",
    "df_table['Fatality Rate'] = (100 * df_table['Deaths'] / df_table['Cases']).round(1)\n",
    "df_table['Continent'] = df_table['Country/Region'].map(mapping['map.continent'])\n",
    "df_table.head(5)"
   ]
  },
  {
   "cell_type": "code",
   "execution_count": 16,
   "metadata": {
    "execution": {
     "iopub.execute_input": "2020-12-13T00:12:35.162357Z",
     "iopub.status.busy": "2020-12-13T00:12:35.161330Z",
     "iopub.status.idle": "2020-12-13T00:12:35.162949Z",
     "shell.execute_reply": "2020-12-13T00:12:35.163382Z"
    },
    "papermill": {
     "duration": 0.04081,
     "end_time": "2020-12-13T00:12:35.163516",
     "exception": false,
     "start_time": "2020-12-13T00:12:35.122706",
     "status": "completed"
    },
    "tags": []
   },
   "outputs": [],
   "source": [
    "#hide\n",
    "#delete problematic countries from table\n",
    "df_table = df_table[~df_table['Country/Region'].isin(['Cape Verde', 'Cruise Ship', 'Kosovo'])]"
   ]
  },
  {
   "cell_type": "code",
   "execution_count": 17,
   "metadata": {
    "execution": {
     "iopub.execute_input": "2020-12-13T00:12:35.233846Z",
     "iopub.status.busy": "2020-12-13T00:12:35.233236Z",
     "iopub.status.idle": "2020-12-13T00:12:35.255021Z",
     "shell.execute_reply": "2020-12-13T00:12:35.254467Z"
    },
    "papermill": {
     "duration": 0.061046,
     "end_time": "2020-12-13T00:12:35.255171",
     "exception": false,
     "start_time": "2020-12-13T00:12:35.194125",
     "status": "completed"
    },
    "tags": []
   },
   "outputs": [],
   "source": [
    "#hide\n",
    "metrics = [df_table.columns[index] for index in [1,2,5,6]]\n",
    "# s_china = df_table[df_table['Country/Region'].eq('China')][metrics].sum().add_prefix('China ')\n",
    "s_us = df_table[df_table['Country/Region'].eq('US')][metrics].sum().add_prefix('US ')\n",
    "s_eu = df_table[df_table['Continent'].eq('Europe')][metrics].sum().add_prefix('EU ')\n",
    "s_ind = df_table[df_table['Country/Region'].eq('India')][metrics].sum().add_prefix('India ')\n",
    "summary = {'updated': pd.to_datetime(dt_today), 'since': pd.to_datetime(dt_yday)}\n",
    "summary = {'updated': pd.to_datetime(dt_today), 'since': pd.to_datetime(dt_yday)}\n",
    "summary = {**summary, **df_table[metrics].sum(), **s_ind, **s_us, **s_eu}"
   ]
  },
  {
   "cell_type": "code",
   "execution_count": 18,
   "metadata": {
    "execution": {
     "iopub.execute_input": "2020-12-13T00:12:35.322747Z",
     "iopub.status.busy": "2020-12-13T00:12:35.322158Z",
     "iopub.status.idle": "2020-12-13T00:12:35.333891Z",
     "shell.execute_reply": "2020-12-13T00:12:35.333449Z"
    },
    "papermill": {
     "duration": 0.047056,
     "end_time": "2020-12-13T00:12:35.334013",
     "exception": false,
     "start_time": "2020-12-13T00:12:35.286957",
     "status": "completed"
    },
    "tags": []
   },
   "outputs": [],
   "source": [
    "#hide\n",
    "dft_ct_new_cases = dft_cases.groupby(COL_REGION)[dt_cols].sum().diff(axis=1).fillna(0).astype(int)"
   ]
  },
  {
   "cell_type": "code",
   "execution_count": 19,
   "metadata": {
    "execution": {
     "iopub.execute_input": "2020-12-13T00:12:35.401838Z",
     "iopub.status.busy": "2020-12-13T00:12:35.400931Z",
     "iopub.status.idle": "2020-12-13T00:12:35.402783Z",
     "shell.execute_reply": "2020-12-13T00:12:35.403495Z"
    },
    "papermill": {
     "duration": 0.039904,
     "end_time": "2020-12-13T00:12:35.404025",
     "exception": false,
     "start_time": "2020-12-13T00:12:35.364121",
     "status": "completed"
    },
    "tags": []
   },
   "outputs": [],
   "source": [
    "#hide\n",
    "everydaycases = dft_ct_new_cases.cumsum(axis=1)"
   ]
  },
  {
   "cell_type": "code",
   "execution_count": 20,
   "metadata": {
    "execution": {
     "iopub.execute_input": "2020-12-13T00:12:35.470221Z",
     "iopub.status.busy": "2020-12-13T00:12:35.469622Z",
     "iopub.status.idle": "2020-12-13T00:12:38.065158Z",
     "shell.execute_reply": "2020-12-13T00:12:38.064137Z"
    },
    "papermill": {
     "duration": 2.629701,
     "end_time": "2020-12-13T00:12:38.065310",
     "exception": false,
     "start_time": "2020-12-13T00:12:35.435609",
     "status": "completed"
    },
    "tags": []
   },
   "outputs": [],
   "source": [
    "#hide\n",
    "import pandas as pd\n",
    "import matplotlib.pyplot as plt\n",
    "import matplotlib.ticker as ticker\n",
    "import matplotlib.animation as animation\n",
    "from IPython.display import HTML"
   ]
  },
  {
   "cell_type": "code",
   "execution_count": 21,
   "metadata": {
    "execution": {
     "iopub.execute_input": "2020-12-13T00:12:38.135484Z",
     "iopub.status.busy": "2020-12-13T00:12:38.134448Z",
     "iopub.status.idle": "2020-12-13T00:12:38.139501Z",
     "shell.execute_reply": "2020-12-13T00:12:38.138677Z"
    },
    "papermill": {
     "duration": 0.042007,
     "end_time": "2020-12-13T00:12:38.139709",
     "exception": false,
     "start_time": "2020-12-13T00:12:38.097702",
     "status": "completed"
    },
    "tags": []
   },
   "outputs": [],
   "source": [
    "#hide\n",
    "t = everydaycases.stack()"
   ]
  },
  {
   "cell_type": "code",
   "execution_count": 22,
   "metadata": {
    "execution": {
     "iopub.execute_input": "2020-12-13T00:12:38.206792Z",
     "iopub.status.busy": "2020-12-13T00:12:38.206211Z",
     "iopub.status.idle": "2020-12-13T00:12:38.213137Z",
     "shell.execute_reply": "2020-12-13T00:12:38.212642Z"
    },
    "papermill": {
     "duration": 0.041853,
     "end_time": "2020-12-13T00:12:38.213262",
     "exception": false,
     "start_time": "2020-12-13T00:12:38.171409",
     "status": "completed"
    },
    "tags": []
   },
   "outputs": [],
   "source": [
    "#hide\n",
    "g = t.reset_index(['Country/Region'])"
   ]
  },
  {
   "cell_type": "code",
   "execution_count": 23,
   "metadata": {
    "execution": {
     "iopub.execute_input": "2020-12-13T00:12:38.280233Z",
     "iopub.status.busy": "2020-12-13T00:12:38.279162Z",
     "iopub.status.idle": "2020-12-13T00:12:38.280978Z",
     "shell.execute_reply": "2020-12-13T00:12:38.281534Z"
    },
    "papermill": {
     "duration": 0.038368,
     "end_time": "2020-12-13T00:12:38.281682",
     "exception": false,
     "start_time": "2020-12-13T00:12:38.243314",
     "status": "completed"
    },
    "tags": []
   },
   "outputs": [],
   "source": [
    "#hide\n",
    "g.index.name = 'date'"
   ]
  },
  {
   "cell_type": "code",
   "execution_count": 24,
   "metadata": {
    "execution": {
     "iopub.execute_input": "2020-12-13T00:12:38.355369Z",
     "iopub.status.busy": "2020-12-13T00:12:38.354794Z",
     "iopub.status.idle": "2020-12-13T00:12:38.357700Z",
     "shell.execute_reply": "2020-12-13T00:12:38.358280Z"
    },
    "papermill": {
     "duration": 0.039299,
     "end_time": "2020-12-13T00:12:38.358425",
     "exception": false,
     "start_time": "2020-12-13T00:12:38.319126",
     "status": "completed"
    },
    "tags": []
   },
   "outputs": [],
   "source": [
    "# #hide\n",
    "# g = g.reset_index(['date'])"
   ]
  },
  {
   "cell_type": "code",
   "execution_count": 25,
   "metadata": {
    "execution": {
     "iopub.execute_input": "2020-12-13T00:12:38.429925Z",
     "iopub.status.busy": "2020-12-13T00:12:38.429335Z",
     "iopub.status.idle": "2020-12-13T00:12:38.431129Z",
     "shell.execute_reply": "2020-12-13T00:12:38.431581Z"
    },
    "papermill": {
     "duration": 0.038726,
     "end_time": "2020-12-13T00:12:38.431726",
     "exception": false,
     "start_time": "2020-12-13T00:12:38.393000",
     "status": "completed"
    },
    "tags": []
   },
   "outputs": [],
   "source": [
    "#hide\n",
    "# g.head()"
   ]
  },
  {
   "cell_type": "code",
   "execution_count": 26,
   "metadata": {
    "execution": {
     "iopub.execute_input": "2020-12-13T00:12:38.500880Z",
     "iopub.status.busy": "2020-12-13T00:12:38.500272Z",
     "iopub.status.idle": "2020-12-13T00:12:38.503016Z",
     "shell.execute_reply": "2020-12-13T00:12:38.503484Z"
    },
    "papermill": {
     "duration": 0.040001,
     "end_time": "2020-12-13T00:12:38.503628",
     "exception": false,
     "start_time": "2020-12-13T00:12:38.463627",
     "status": "completed"
    },
    "tags": []
   },
   "outputs": [],
   "source": [
    "#hide\n",
    "# g.columns = ['date','country','cases']"
   ]
  },
  {
   "cell_type": "code",
   "execution_count": 27,
   "metadata": {
    "execution": {
     "iopub.execute_input": "2020-12-13T00:12:38.570747Z",
     "iopub.status.busy": "2020-12-13T00:12:38.570152Z",
     "iopub.status.idle": "2020-12-13T00:12:38.572465Z",
     "shell.execute_reply": "2020-12-13T00:12:38.571961Z"
    },
    "papermill": {
     "duration": 0.037284,
     "end_time": "2020-12-13T00:12:38.572587",
     "exception": false,
     "start_time": "2020-12-13T00:12:38.535303",
     "status": "completed"
    },
    "tags": []
   },
   "outputs": [],
   "source": [
    "#hide\n",
    "# g['continent'] = g.country"
   ]
  },
  {
   "cell_type": "code",
   "execution_count": 28,
   "metadata": {
    "execution": {
     "iopub.execute_input": "2020-12-13T00:12:38.655793Z",
     "iopub.status.busy": "2020-12-13T00:12:38.655197Z",
     "iopub.status.idle": "2020-12-13T00:12:38.657539Z",
     "shell.execute_reply": "2020-12-13T00:12:38.658101Z"
    },
    "papermill": {
     "duration": 0.048839,
     "end_time": "2020-12-13T00:12:38.658248",
     "exception": false,
     "start_time": "2020-12-13T00:12:38.609409",
     "status": "completed"
    },
    "tags": []
   },
   "outputs": [],
   "source": [
    "#hide\n",
    "# cols = list(g.columns.values)"
   ]
  },
  {
   "cell_type": "code",
   "execution_count": 29,
   "metadata": {
    "execution": {
     "iopub.execute_input": "2020-12-13T00:12:38.738217Z",
     "iopub.status.busy": "2020-12-13T00:12:38.737627Z",
     "iopub.status.idle": "2020-12-13T00:12:38.739917Z",
     "shell.execute_reply": "2020-12-13T00:12:38.740625Z"
    },
    "papermill": {
     "duration": 0.046048,
     "end_time": "2020-12-13T00:12:38.740784",
     "exception": false,
     "start_time": "2020-12-13T00:12:38.694736",
     "status": "completed"
    },
    "tags": []
   },
   "outputs": [],
   "source": [
    "#hide\n",
    "# cols.insert(0, cols.pop())"
   ]
  },
  {
   "cell_type": "code",
   "execution_count": 30,
   "metadata": {
    "execution": {
     "iopub.execute_input": "2020-12-13T00:12:38.810327Z",
     "iopub.status.busy": "2020-12-13T00:12:38.809282Z",
     "iopub.status.idle": "2020-12-13T00:12:38.811421Z",
     "shell.execute_reply": "2020-12-13T00:12:38.812298Z"
    },
    "papermill": {
     "duration": 0.039713,
     "end_time": "2020-12-13T00:12:38.812544",
     "exception": false,
     "start_time": "2020-12-13T00:12:38.772831",
     "status": "completed"
    },
    "tags": []
   },
   "outputs": [],
   "source": [
    "#hide\n",
    "# g = g[cols]"
   ]
  },
  {
   "cell_type": "code",
   "execution_count": 31,
   "metadata": {
    "execution": {
     "iopub.execute_input": "2020-12-13T00:12:38.878537Z",
     "iopub.status.busy": "2020-12-13T00:12:38.877716Z",
     "iopub.status.idle": "2020-12-13T00:12:38.882008Z",
     "shell.execute_reply": "2020-12-13T00:12:38.882622Z"
    },
    "papermill": {
     "duration": 0.039755,
     "end_time": "2020-12-13T00:12:38.882814",
     "exception": false,
     "start_time": "2020-12-13T00:12:38.843059",
     "status": "completed"
    },
    "tags": []
   },
   "outputs": [],
   "source": [
    "#hide\n",
    "# g['continent'] = g['continent'].map(mapping['map.continent'])"
   ]
  },
  {
   "cell_type": "code",
   "execution_count": 32,
   "metadata": {
    "execution": {
     "iopub.execute_input": "2020-12-13T00:12:38.951287Z",
     "iopub.status.busy": "2020-12-13T00:12:38.950226Z",
     "iopub.status.idle": "2020-12-13T00:12:38.952415Z",
     "shell.execute_reply": "2020-12-13T00:12:38.953232Z"
    },
    "papermill": {
     "duration": 0.03941,
     "end_time": "2020-12-13T00:12:38.953462",
     "exception": false,
     "start_time": "2020-12-13T00:12:38.914052",
     "status": "completed"
    },
    "tags": []
   },
   "outputs": [],
   "source": [
    "#hide\n",
    "# g.head()"
   ]
  },
  {
   "cell_type": "code",
   "execution_count": 33,
   "metadata": {
    "execution": {
     "iopub.execute_input": "2020-12-13T00:12:39.017998Z",
     "iopub.status.busy": "2020-12-13T00:12:39.016760Z",
     "iopub.status.idle": "2020-12-13T00:12:39.018637Z",
     "shell.execute_reply": "2020-12-13T00:12:39.019070Z"
    },
    "papermill": {
     "duration": 0.036052,
     "end_time": "2020-12-13T00:12:39.019234",
     "exception": false,
     "start_time": "2020-12-13T00:12:38.983182",
     "status": "completed"
    },
    "tags": []
   },
   "outputs": [],
   "source": [
    "# hide\n",
    "# g['date'] = g['date'].astype('datetime64[ns]')"
   ]
  },
  {
   "cell_type": "code",
   "execution_count": 34,
   "metadata": {
    "execution": {
     "iopub.execute_input": "2020-12-13T00:12:39.084377Z",
     "iopub.status.busy": "2020-12-13T00:12:39.083754Z",
     "iopub.status.idle": "2020-12-13T00:12:39.085956Z",
     "shell.execute_reply": "2020-12-13T00:12:39.086374Z"
    },
    "papermill": {
     "duration": 0.037261,
     "end_time": "2020-12-13T00:12:39.086513",
     "exception": false,
     "start_time": "2020-12-13T00:12:39.049252",
     "status": "completed"
    },
    "tags": []
   },
   "outputs": [],
   "source": [
    "#hide\n",
    "# g['date'] = g.date.dt.dayofyear"
   ]
  },
  {
   "cell_type": "code",
   "execution_count": 35,
   "metadata": {
    "execution": {
     "iopub.execute_input": "2020-12-13T00:12:39.151871Z",
     "iopub.status.busy": "2020-12-13T00:12:39.150823Z",
     "iopub.status.idle": "2020-12-13T00:12:39.152961Z",
     "shell.execute_reply": "2020-12-13T00:12:39.153767Z"
    },
    "papermill": {
     "duration": 0.03769,
     "end_time": "2020-12-13T00:12:39.154171",
     "exception": false,
     "start_time": "2020-12-13T00:12:39.116481",
     "status": "completed"
    },
    "tags": []
   },
   "outputs": [],
   "source": [
    "#hide\n",
    "# g = g.rename(columns= {'continent':'group','country':'name','cases':'value'})"
   ]
  },
  {
   "cell_type": "code",
   "execution_count": 36,
   "metadata": {
    "execution": {
     "iopub.execute_input": "2020-12-13T00:12:39.235822Z",
     "iopub.status.busy": "2020-12-13T00:12:39.234773Z",
     "iopub.status.idle": "2020-12-13T00:12:39.236954Z",
     "shell.execute_reply": "2020-12-13T00:12:39.237775Z"
    },
    "papermill": {
     "duration": 0.048573,
     "end_time": "2020-12-13T00:12:39.238003",
     "exception": false,
     "start_time": "2020-12-13T00:12:39.189430",
     "status": "completed"
    },
    "tags": []
   },
   "outputs": [],
   "source": [
    "#hide\n",
    "# cols = ['name','group','day','value']"
   ]
  },
  {
   "cell_type": "code",
   "execution_count": 37,
   "metadata": {
    "execution": {
     "iopub.execute_input": "2020-12-13T00:12:39.302869Z",
     "iopub.status.busy": "2020-12-13T00:12:39.302276Z",
     "iopub.status.idle": "2020-12-13T00:12:39.304760Z",
     "shell.execute_reply": "2020-12-13T00:12:39.305315Z"
    },
    "papermill": {
     "duration": 0.037391,
     "end_time": "2020-12-13T00:12:39.305455",
     "exception": false,
     "start_time": "2020-12-13T00:12:39.268064",
     "status": "completed"
    },
    "tags": []
   },
   "outputs": [],
   "source": [
    "#hide\n",
    "# g.rename(columns= {'date':'day'},inplace = True)"
   ]
  },
  {
   "cell_type": "code",
   "execution_count": 38,
   "metadata": {
    "execution": {
     "iopub.execute_input": "2020-12-13T00:12:39.371249Z",
     "iopub.status.busy": "2020-12-13T00:12:39.370635Z",
     "iopub.status.idle": "2020-12-13T00:12:39.372289Z",
     "shell.execute_reply": "2020-12-13T00:12:39.372794Z"
    },
    "papermill": {
     "duration": 0.037178,
     "end_time": "2020-12-13T00:12:39.372936",
     "exception": false,
     "start_time": "2020-12-13T00:12:39.335758",
     "status": "completed"
    },
    "tags": []
   },
   "outputs": [],
   "source": [
    "#hide\n",
    "# g = g[cols]"
   ]
  },
  {
   "cell_type": "code",
   "execution_count": 39,
   "metadata": {
    "execution": {
     "iopub.execute_input": "2020-12-13T00:12:39.437981Z",
     "iopub.status.busy": "2020-12-13T00:12:39.437392Z",
     "iopub.status.idle": "2020-12-13T00:12:39.439551Z",
     "shell.execute_reply": "2020-12-13T00:12:39.439989Z"
    },
    "papermill": {
     "duration": 0.036929,
     "end_time": "2020-12-13T00:12:39.440130",
     "exception": false,
     "start_time": "2020-12-13T00:12:39.403201",
     "status": "completed"
    },
    "tags": []
   },
   "outputs": [],
   "source": [
    "# #hide\n",
    "# g = g[g.group.notna()]"
   ]
  },
  {
   "cell_type": "code",
   "execution_count": 40,
   "metadata": {
    "execution": {
     "iopub.execute_input": "2020-12-13T00:12:39.504114Z",
     "iopub.status.busy": "2020-12-13T00:12:39.503495Z",
     "iopub.status.idle": "2020-12-13T00:12:39.505274Z",
     "shell.execute_reply": "2020-12-13T00:12:39.505736Z"
    },
    "papermill": {
     "duration": 0.03603,
     "end_time": "2020-12-13T00:12:39.505868",
     "exception": false,
     "start_time": "2020-12-13T00:12:39.469838",
     "status": "completed"
    },
    "tags": []
   },
   "outputs": [],
   "source": [
    "# #hide\n",
    "# colors = dict(zip(\n",
    "#     [\"Oceania\", \"Europe\", \"Asia\", \"South America\", \"Middle East\", \"North America\", \"Africa\"],\n",
    "#     [\"#adb0ff\", \"#ffb3ff\", \"#90d595\", \"#e48381\", \"#aafbff\", \"#f7bb5f\", \"#eafb50\"]\n",
    "# ))\n",
    "# group_lk = g.set_index('name')['group'].to_dict()"
   ]
  },
  {
   "cell_type": "code",
   "execution_count": null,
   "metadata": {
    "papermill": {
     "duration": 0.030212,
     "end_time": "2020-12-13T00:12:39.565985",
     "exception": false,
     "start_time": "2020-12-13T00:12:39.535773",
     "status": "completed"
    },
    "tags": []
   },
   "outputs": [],
   "source": []
  },
  {
   "cell_type": "code",
   "execution_count": 41,
   "metadata": {
    "execution": {
     "iopub.execute_input": "2020-12-13T00:12:39.631178Z",
     "iopub.status.busy": "2020-12-13T00:12:39.630568Z",
     "iopub.status.idle": "2020-12-13T00:12:39.632643Z",
     "shell.execute_reply": "2020-12-13T00:12:39.633155Z"
    },
    "papermill": {
     "duration": 0.036729,
     "end_time": "2020-12-13T00:12:39.633289",
     "exception": false,
     "start_time": "2020-12-13T00:12:39.596560",
     "status": "completed"
    },
    "tags": []
   },
   "outputs": [],
   "source": [
    "# #hide\n",
    "# fig, ax = plt.subplots(figsize=(15, 8))\n",
    "\n",
    "# def draw_barchart(current_day):\n",
    "#     dff = g[g['day'].eq(current_day)].sort_values(by='value', ascending=True).tail(10)\n",
    "#     ax.clear()\n",
    "#     ax.barh(dff['name'], dff['value'], color=[colors[group_lk[x]] for x in dff['name']])\n",
    "#     dx = dff['value'].max() / 200\n",
    "    \n",
    "#     for i, (value, name) in enumerate(zip(dff['value'], dff['name'])):\n",
    "#         ax.text(value-dx, i,     name,           size=14, weight=600, ha='right', va='bottom')\n",
    "#         ax.text(value-dx, i-.25, group_lk[name], size=10, color='#444444', ha='right', va='baseline')\n",
    "#         ax.text(value+dx, i,     f'{value:,.0f}',  size=14, ha='left',  va='center')\n",
    "#     ax.text(1, 0.4, current_day, transform=ax.transAxes, color='#777777', size=46, ha='right', weight=800)\n",
    "#     ax.text(0, 1.06, 'Population (thousands)', transform=ax.transAxes, size=12, color='#777777')\n",
    "#     ax.xaxis.set_major_formatter(ticker.StrMethodFormatter('{x:,.0f}'))\n",
    "#     ax.xaxis.set_ticks_position('top')\n",
    "#     ax.tick_params(axis='x', colors='#777777', labelsize=12)\n",
    "#     ax.set_yticks([])\n",
    "#     ax.margins(0, 0.01)\n",
    "#     ax.grid(which='major', axis='x', linestyle='-')\n",
    "#     ax.set_axisbelow(True)\n",
    "    \n",
    "#     ax.text(0, 1.15, 'Coronavirus',\n",
    "#             transform=ax.transAxes, size=24, weight=600, ha='left', va='top')\n",
    "# #     ax.text(1, 0, 'by @pratapvardhan; credit @jburnmurdoch', transform=ax.transAxes, color='#777777', ha='right',\n",
    "# #             bbox=dict(facecolor='white', alpha=0.8, edgecolor='white'))\n",
    "#     plt.box(False)"
   ]
  },
  {
   "cell_type": "code",
   "execution_count": 42,
   "metadata": {
    "execution": {
     "iopub.execute_input": "2020-12-13T00:12:39.698145Z",
     "iopub.status.busy": "2020-12-13T00:12:39.697459Z",
     "iopub.status.idle": "2020-12-13T00:12:39.700114Z",
     "shell.execute_reply": "2020-12-13T00:12:39.699613Z"
    },
    "papermill": {
     "duration": 0.037169,
     "end_time": "2020-12-13T00:12:39.700244",
     "exception": false,
     "start_time": "2020-12-13T00:12:39.663075",
     "status": "completed"
    },
    "tags": []
   },
   "outputs": [],
   "source": [
    "# #hide_input\n",
    "# fig, ax = plt.subplots(figsize=(15, 8))\n",
    "# animator = animation.FuncAnimation(fig, draw_barchart, frames=range(g.day.values.min(), g.day.values.max()))\n",
    "# HTML(animator.to_jshtml())\n",
    "# # or use animator.to_html5_video() or animator.save() "
   ]
  },
  {
   "cell_type": "code",
   "execution_count": null,
   "metadata": {
    "papermill": {
     "duration": 0.029636,
     "end_time": "2020-12-13T00:12:39.759488",
     "exception": false,
     "start_time": "2020-12-13T00:12:39.729852",
     "status": "completed"
    },
    "tags": []
   },
   "outputs": [],
   "source": []
  },
  {
   "cell_type": "code",
   "execution_count": null,
   "metadata": {
    "papermill": {
     "duration": 0.030408,
     "end_time": "2020-12-13T00:12:39.820000",
     "exception": false,
     "start_time": "2020-12-13T00:12:39.789592",
     "status": "completed"
    },
    "tags": []
   },
   "outputs": [],
   "source": []
  },
  {
   "cell_type": "code",
   "execution_count": null,
   "metadata": {
    "papermill": {
     "duration": 0.030632,
     "end_time": "2020-12-13T00:12:39.880531",
     "exception": false,
     "start_time": "2020-12-13T00:12:39.849899",
     "status": "completed"
    },
    "tags": []
   },
   "outputs": [],
   "source": []
  }
 ],
 "metadata": {
  "kernelspec": {
   "display_name": "Python 3",
   "language": "python",
   "name": "python3"
  },
  "language_info": {
   "codemirror_mode": {
    "name": "ipython",
    "version": 3
   },
   "file_extension": ".py",
   "mimetype": "text/x-python",
   "name": "python",
   "nbconvert_exporter": "python",
   "pygments_lexer": "ipython3",
   "version": "3.6.12"
  },
  "papermill": {
   "duration": 8.230443,
   "end_time": "2020-12-13T00:12:40.218748",
   "environment_variables": {},
   "exception": null,
   "input_path": "2020-03-21-covid19exp.ipynb",
   "output_path": "2020-03-21-covid19exp.ipynb",
   "parameters": {},
   "start_time": "2020-12-13T00:12:31.988305",
   "version": "2.0.0"
  }
 },
 "nbformat": 4,
 "nbformat_minor": 4
}