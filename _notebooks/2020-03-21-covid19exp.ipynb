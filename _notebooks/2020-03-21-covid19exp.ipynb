{
 "cells": [
  {
   "cell_type": "markdown",
   "id": "muslim-click",
   "metadata": {
    "papermill": {
     "duration": 0.045898,
     "end_time": "2022-01-21T12:13:09.538536",
     "exception": false,
     "start_time": "2022-01-21T12:13:09.492638",
     "status": "completed"
    },
    "tags": []
   },
   "source": [
    "# COVID-19 Case Race\n",
    "> A race chart to see rising cases around the world\n",
    "\n",
    "- author: Hargun Oberoi\n",
    "- image: images/covid-overview.png\n",
    "- hide: false\n",
    "- badges: false"
   ]
  },
  {
   "cell_type": "code",
   "execution_count": 1,
   "id": "proof-material",
   "metadata": {
    "execution": {
     "iopub.execute_input": "2022-01-21T12:13:09.634428Z",
     "iopub.status.busy": "2022-01-21T12:13:09.633603Z",
     "iopub.status.idle": "2022-01-21T12:13:10.079768Z",
     "shell.execute_reply": "2022-01-21T12:13:10.080441Z"
    },
    "papermill": {
     "duration": 0.50002,
     "end_time": "2022-01-21T12:13:10.080701",
     "exception": false,
     "start_time": "2022-01-21T12:13:09.580681",
     "status": "completed"
    },
    "tags": []
   },
   "outputs": [],
   "source": [
    "#hide\n",
    "import numpy as np\n",
    "import pandas as pd\n",
    "from jinja2 import Template\n",
    "from IPython.display import HTML"
   ]
  },
  {
   "cell_type": "code",
   "execution_count": 2,
   "id": "developed-terminology",
   "metadata": {
    "execution": {
     "iopub.execute_input": "2022-01-21T12:13:10.164994Z",
     "iopub.status.busy": "2022-01-21T12:13:10.164203Z",
     "iopub.status.idle": "2022-01-21T12:13:10.166509Z",
     "shell.execute_reply": "2022-01-21T12:13:10.167012Z"
    },
    "papermill": {
     "duration": 0.047625,
     "end_time": "2022-01-21T12:13:10.167160",
     "exception": false,
     "start_time": "2022-01-21T12:13:10.119535",
     "status": "completed"
    },
    "tags": []
   },
   "outputs": [],
   "source": [
    "#hide\n",
    "\n",
    "# FETCH\n",
    "base_url = 'https://raw.githubusercontent.com/pratapvardhan/notebooks/master/covid19/'\n",
    "paths = {\n",
    "    'mapping': base_url + 'mapping_countries.csv',\n",
    "    'overview': base_url + 'overview.tpl'\n",
    "}"
   ]
  },
  {
   "cell_type": "code",
   "execution_count": 3,
   "id": "dynamic-saver",
   "metadata": {
    "execution": {
     "iopub.execute_input": "2022-01-21T12:13:10.258735Z",
     "iopub.status.busy": "2022-01-21T12:13:10.257883Z",
     "iopub.status.idle": "2022-01-21T12:13:10.261813Z",
     "shell.execute_reply": "2022-01-21T12:13:10.262430Z"
    },
    "papermill": {
     "duration": 0.056392,
     "end_time": "2022-01-21T12:13:10.262601",
     "exception": false,
     "start_time": "2022-01-21T12:13:10.206209",
     "status": "completed"
    },
    "tags": []
   },
   "outputs": [
    {
     "data": {
      "text/plain": [
       "'https://raw.githubusercontent.com/pratapvardhan/notebooks/master/covid19/mapping_countries.csv'"
      ]
     },
     "execution_count": 3,
     "metadata": {},
     "output_type": "execute_result"
    }
   ],
   "source": [
    "#hide\n",
    "paths['mapping']"
   ]
  },
  {
   "cell_type": "code",
   "execution_count": 4,
   "id": "urban-software",
   "metadata": {
    "execution": {
     "iopub.execute_input": "2022-01-21T12:13:10.351629Z",
     "iopub.status.busy": "2022-01-21T12:13:10.350961Z",
     "iopub.status.idle": "2022-01-21T12:13:10.352443Z",
     "shell.execute_reply": "2022-01-21T12:13:10.353190Z"
    },
    "papermill": {
     "duration": 0.049365,
     "end_time": "2022-01-21T12:13:10.353355",
     "exception": false,
     "start_time": "2022-01-21T12:13:10.303990",
     "status": "completed"
    },
    "tags": []
   },
   "outputs": [],
   "source": [
    "#hide\n",
    "def get_mappings(url):\n",
    "    df = pd.read_csv(url)\n",
    "    return {\n",
    "        'df': df,\n",
    "        'replace.country': dict(df.dropna(subset=['Name']).set_index('Country')['Name']),\n",
    "        'map.continent': dict(df.set_index('Name')['Continent'])\n",
    "    }"
   ]
  },
  {
   "cell_type": "code",
   "execution_count": 5,
   "id": "intimate-machinery",
   "metadata": {
    "execution": {
     "iopub.execute_input": "2022-01-21T12:13:10.454886Z",
     "iopub.status.busy": "2022-01-21T12:13:10.454186Z",
     "iopub.status.idle": "2022-01-21T12:13:10.497549Z",
     "shell.execute_reply": "2022-01-21T12:13:10.496914Z"
    },
    "papermill": {
     "duration": 0.104284,
     "end_time": "2022-01-21T12:13:10.497733",
     "exception": false,
     "start_time": "2022-01-21T12:13:10.393449",
     "status": "completed"
    },
    "tags": []
   },
   "outputs": [],
   "source": [
    "#hide\n",
    "mapping = get_mappings(paths['mapping'])"
   ]
  },
  {
   "cell_type": "code",
   "execution_count": 6,
   "id": "certified-tactics",
   "metadata": {
    "execution": {
     "iopub.execute_input": "2022-01-21T12:13:10.593165Z",
     "iopub.status.busy": "2022-01-21T12:13:10.592219Z",
     "iopub.status.idle": "2022-01-21T12:13:10.593938Z",
     "shell.execute_reply": "2022-01-21T12:13:10.594509Z"
    },
    "papermill": {
     "duration": 0.050051,
     "end_time": "2022-01-21T12:13:10.594670",
     "exception": false,
     "start_time": "2022-01-21T12:13:10.544619",
     "status": "completed"
    },
    "tags": []
   },
   "outputs": [],
   "source": [
    "#hide\n",
    "def get_template(path):\n",
    "    from urllib.parse import urlparse\n",
    "    if bool(urlparse(path).netloc):\n",
    "        from urllib.request import urlopen\n",
    "        return urlopen(path).read().decode('utf8')\n",
    "    return open(path).read()"
   ]
  },
  {
   "cell_type": "code",
   "execution_count": 7,
   "id": "realistic-blast",
   "metadata": {
    "execution": {
     "iopub.execute_input": "2022-01-21T12:13:10.683996Z",
     "iopub.status.busy": "2022-01-21T12:13:10.683287Z",
     "iopub.status.idle": "2022-01-21T12:13:10.686012Z",
     "shell.execute_reply": "2022-01-21T12:13:10.685442Z"
    },
    "papermill": {
     "duration": 0.049277,
     "end_time": "2022-01-21T12:13:10.686166",
     "exception": false,
     "start_time": "2022-01-21T12:13:10.636889",
     "status": "completed"
    },
    "tags": []
   },
   "outputs": [],
   "source": [
    "#hide\n",
    "def get_frame(name):\n",
    "    url = (\n",
    "        'https://raw.githubusercontent.com/CSSEGISandData/COVID-19/master/csse_covid_19_data/'\n",
    "        f'csse_covid_19_time_series/time_series_covid19_{name}_global.csv')\n",
    "    df = pd.read_csv(url)\n",
    "    # rename countries\n",
    "    df['Country/Region'] = df['Country/Region'].replace(mapping['replace.country'])\n",
    "    return df"
   ]
  },
  {
   "cell_type": "code",
   "execution_count": 8,
   "id": "affiliated-characterization",
   "metadata": {
    "execution": {
     "iopub.execute_input": "2022-01-21T12:13:10.777871Z",
     "iopub.status.busy": "2022-01-21T12:13:10.777159Z",
     "iopub.status.idle": "2022-01-21T12:13:10.780109Z",
     "shell.execute_reply": "2022-01-21T12:13:10.779509Z"
    },
    "papermill": {
     "duration": 0.051993,
     "end_time": "2022-01-21T12:13:10.780260",
     "exception": false,
     "start_time": "2022-01-21T12:13:10.728267",
     "status": "completed"
    },
    "tags": []
   },
   "outputs": [],
   "source": [
    "#hide\n",
    "def get_dates(df):\n",
    "    dt_cols = df.columns[~df.columns.isin(['Province/State', 'Country/Region', 'Lat', 'Long'])]\n",
    "    LAST_DATE_I = -1\n",
    "    # sometimes last column may be empty, then go backwards\n",
    "    for i in range(-1, -len(dt_cols), -1):\n",
    "        if not df[dt_cols[i]].fillna(0).eq(0).all():\n",
    "            LAST_DATE_I = i\n",
    "            break\n",
    "    return LAST_DATE_I, dt_cols"
   ]
  },
  {
   "cell_type": "code",
   "execution_count": 9,
   "id": "recent-optimization",
   "metadata": {
    "execution": {
     "iopub.execute_input": "2022-01-21T12:13:10.872368Z",
     "iopub.status.busy": "2022-01-21T12:13:10.871598Z",
     "iopub.status.idle": "2022-01-21T12:13:11.368372Z",
     "shell.execute_reply": "2022-01-21T12:13:11.367691Z"
    },
    "papermill": {
     "duration": 0.54783,
     "end_time": "2022-01-21T12:13:11.368537",
     "exception": false,
     "start_time": "2022-01-21T12:13:10.820707",
     "status": "completed"
    },
    "tags": []
   },
   "outputs": [],
   "source": [
    "#hide\n",
    "COL_REGION = 'Country/Region'\n",
    "# Confirmed, Recovered, Deaths\n",
    "df = get_frame('confirmed')\n",
    "# dft_: timeseries, dfc_: today country agg\n",
    "dft_cases = df\n",
    "dft_deaths = get_frame('deaths')\n",
    "dft_recovered = get_frame('recovered')\n",
    "LAST_DATE_I, dt_cols = get_dates(df)"
   ]
  },
  {
   "cell_type": "code",
   "execution_count": 10,
   "id": "absolute-copper",
   "metadata": {
    "execution": {
     "iopub.execute_input": "2022-01-21T12:13:11.458647Z",
     "iopub.status.busy": "2022-01-21T12:13:11.457952Z",
     "iopub.status.idle": "2022-01-21T12:13:11.462155Z",
     "shell.execute_reply": "2022-01-21T12:13:11.462690Z"
    },
    "papermill": {
     "duration": 0.051556,
     "end_time": "2022-01-21T12:13:11.462881",
     "exception": false,
     "start_time": "2022-01-21T12:13:11.411325",
     "status": "completed"
    },
    "tags": []
   },
   "outputs": [],
   "source": [
    "#hide\n",
    "LAST_DATE_I, dt_cols = get_dates(df)\n",
    "dt_today =dt_cols[LAST_DATE_I]\n",
    "# dt_5day = dt_cols[LAST_DATE_I - 5]\n",
    "dt_yday = dt_cols[LAST_DATE_I - 1]"
   ]
  },
  {
   "cell_type": "code",
   "execution_count": 11,
   "id": "restricted-sheriff",
   "metadata": {
    "execution": {
     "iopub.execute_input": "2022-01-21T12:13:11.562511Z",
     "iopub.status.busy": "2022-01-21T12:13:11.557716Z",
     "iopub.status.idle": "2022-01-21T12:13:11.563646Z",
     "shell.execute_reply": "2022-01-21T12:13:11.564428Z"
    },
    "papermill": {
     "duration": 0.058874,
     "end_time": "2022-01-21T12:13:11.564603",
     "exception": false,
     "start_time": "2022-01-21T12:13:11.505729",
     "status": "completed"
    },
    "tags": []
   },
   "outputs": [],
   "source": [
    "#hide\n",
    "dfc_cases = dft_cases.groupby(COL_REGION)[dt_today].sum()\n",
    "dfc_deaths = dft_deaths.groupby(COL_REGION)[dt_today].sum()\n",
    "# dfp_cases = dft_cases.groupby(COL_REGION)[dt_5day].sum()\n",
    "# dfp_deaths = dft_deaths.groupby(COL_REGION)[dt_5day].sum()\n",
    "dfp_cases = dft_cases.groupby(COL_REGION)[dt_yday].sum()\n",
    "dfp_deaths = dft_deaths.groupby(COL_REGION)[dt_yday].sum()"
   ]
  },
  {
   "cell_type": "code",
   "execution_count": 12,
   "id": "deluxe-hepatitis",
   "metadata": {
    "execution": {
     "iopub.execute_input": "2022-01-21T12:13:11.655998Z",
     "iopub.status.busy": "2022-01-21T12:13:11.655268Z",
     "iopub.status.idle": "2022-01-21T12:13:11.663905Z",
     "shell.execute_reply": "2022-01-21T12:13:11.662942Z"
    },
    "papermill": {
     "duration": 0.057268,
     "end_time": "2022-01-21T12:13:11.664074",
     "exception": false,
     "start_time": "2022-01-21T12:13:11.606806",
     "status": "completed"
    },
    "tags": []
   },
   "outputs": [],
   "source": [
    "#hide\n",
    "df_table = (pd.DataFrame(dict(Cases = dfc_cases, Deaths = dfc_deaths, PCases = dfp_cases, PDeaths = dfp_deaths))\n",
    "            .sort_values(by = ['Cases','Deaths'], ascending = [False, False])\n",
    "            .reset_index())"
   ]
  },
  {
   "cell_type": "code",
   "execution_count": 13,
   "id": "educational-chancellor",
   "metadata": {
    "execution": {
     "iopub.execute_input": "2022-01-21T12:13:11.784016Z",
     "iopub.status.busy": "2022-01-21T12:13:11.783253Z",
     "iopub.status.idle": "2022-01-21T12:13:11.792579Z",
     "shell.execute_reply": "2022-01-21T12:13:11.793343Z"
    },
    "papermill": {
     "duration": 0.080699,
     "end_time": "2022-01-21T12:13:11.793501",
     "exception": false,
     "start_time": "2022-01-21T12:13:11.712802",
     "status": "completed"
    },
    "tags": []
   },
   "outputs": [
    {
     "data": {
      "text/html": [
       "<div>\n",
       "<style scoped>\n",
       "    .dataframe tbody tr th:only-of-type {\n",
       "        vertical-align: middle;\n",
       "    }\n",
       "\n",
       "    .dataframe tbody tr th {\n",
       "        vertical-align: top;\n",
       "    }\n",
       "\n",
       "    .dataframe thead th {\n",
       "        text-align: right;\n",
       "    }\n",
       "</style>\n",
       "<table border=\"1\" class=\"dataframe\">\n",
       "  <thead>\n",
       "    <tr style=\"text-align: right;\">\n",
       "      <th></th>\n",
       "      <th>Country/Region</th>\n",
       "      <th>Cases</th>\n",
       "      <th>Deaths</th>\n",
       "      <th>PCases</th>\n",
       "      <th>PDeaths</th>\n",
       "      <th>Cases (+)</th>\n",
       "      <th>Deaths (+)</th>\n",
       "      <th>Fatality Rate</th>\n",
       "      <th>Continent</th>\n",
       "    </tr>\n",
       "  </thead>\n",
       "  <tbody>\n",
       "    <tr>\n",
       "      <th>0</th>\n",
       "      <td>US</td>\n",
       "      <td>69308111</td>\n",
       "      <td>860247</td>\n",
       "      <td>68663297</td>\n",
       "      <td>857768</td>\n",
       "      <td>644814</td>\n",
       "      <td>2479</td>\n",
       "      <td>1.24</td>\n",
       "      <td>North America</td>\n",
       "    </tr>\n",
       "    <tr>\n",
       "      <th>1</th>\n",
       "      <td>India</td>\n",
       "      <td>38566027</td>\n",
       "      <td>488396</td>\n",
       "      <td>38218773</td>\n",
       "      <td>487693</td>\n",
       "      <td>347254</td>\n",
       "      <td>703</td>\n",
       "      <td>1.27</td>\n",
       "      <td>Asia</td>\n",
       "    </tr>\n",
       "    <tr>\n",
       "      <th>2</th>\n",
       "      <td>Brazil</td>\n",
       "      <td>23595178</td>\n",
       "      <td>622476</td>\n",
       "      <td>23425392</td>\n",
       "      <td>622125</td>\n",
       "      <td>169786</td>\n",
       "      <td>351</td>\n",
       "      <td>2.64</td>\n",
       "      <td>South America</td>\n",
       "    </tr>\n",
       "    <tr>\n",
       "      <th>3</th>\n",
       "      <td>United Kingdom</td>\n",
       "      <td>15718193</td>\n",
       "      <td>153710</td>\n",
       "      <td>15610069</td>\n",
       "      <td>153378</td>\n",
       "      <td>108124</td>\n",
       "      <td>332</td>\n",
       "      <td>0.98</td>\n",
       "      <td>Europe</td>\n",
       "    </tr>\n",
       "    <tr>\n",
       "      <th>4</th>\n",
       "      <td>France</td>\n",
       "      <td>15715329</td>\n",
       "      <td>129105</td>\n",
       "      <td>15288014</td>\n",
       "      <td>128641</td>\n",
       "      <td>427315</td>\n",
       "      <td>464</td>\n",
       "      <td>0.82</td>\n",
       "      <td>Europe</td>\n",
       "    </tr>\n",
       "  </tbody>\n",
       "</table>\n",
       "</div>"
      ],
      "text/plain": [
       "   Country/Region     Cases  Deaths    PCases  PDeaths  Cases (+)  Deaths (+)  \\\n",
       "0              US  69308111  860247  68663297   857768     644814        2479   \n",
       "1           India  38566027  488396  38218773   487693     347254         703   \n",
       "2          Brazil  23595178  622476  23425392   622125     169786         351   \n",
       "3  United Kingdom  15718193  153710  15610069   153378     108124         332   \n",
       "4          France  15715329  129105  15288014   128641     427315         464   \n",
       "\n",
       "   Fatality Rate      Continent  \n",
       "0           1.24  North America  \n",
       "1           1.27           Asia  \n",
       "2           2.64  South America  \n",
       "3           0.98         Europe  \n",
       "4           0.82         Europe  "
      ]
     },
     "execution_count": 13,
     "metadata": {},
     "output_type": "execute_result"
    }
   ],
   "source": [
    "#hide\n",
    "for c in 'Cases, Deaths'.split(', '):\n",
    "    df_table[f'{c} (+)'] = (df_table[c] - df_table[f'P{c}']).clip(0)\n",
    "    #Clip ça veut dire, les chiffres negatif sont interdit\n",
    "df_table['Fatality Rate'] = (100* df_table['Deaths']/ df_table['Cases']).round(2)\n",
    "df_table['Continent'] = df_table['Country/Region'].map(mapping['map.continent'])\n",
    "df_table.head(5)"
   ]
  },
  {
   "cell_type": "code",
   "execution_count": 14,
   "id": "aboriginal-bulgaria",
   "metadata": {
    "execution": {
     "iopub.execute_input": "2022-01-21T12:13:11.887558Z",
     "iopub.status.busy": "2022-01-21T12:13:11.886843Z",
     "iopub.status.idle": "2022-01-21T12:13:11.889219Z",
     "shell.execute_reply": "2022-01-21T12:13:11.889771Z"
    },
    "papermill": {
     "duration": 0.055265,
     "end_time": "2022-01-21T12:13:11.889936",
     "exception": false,
     "start_time": "2022-01-21T12:13:11.834671",
     "status": "completed"
    },
    "tags": []
   },
   "outputs": [],
   "source": [
    "#hide\n",
    "#delete problematic countries from table\n",
    "df_table = df_table[~df_table['Country/Region'].isin(['Cape Verde', 'Cruise Ship', 'Kosovo'])]"
   ]
  },
  {
   "cell_type": "code",
   "execution_count": 15,
   "id": "fantastic-effect",
   "metadata": {
    "execution": {
     "iopub.execute_input": "2022-01-21T12:13:11.980280Z",
     "iopub.status.busy": "2022-01-21T12:13:11.979478Z",
     "iopub.status.idle": "2022-01-21T12:13:12.003836Z",
     "shell.execute_reply": "2022-01-21T12:13:12.004466Z"
    },
    "papermill": {
     "duration": 0.074616,
     "end_time": "2022-01-21T12:13:12.004661",
     "exception": false,
     "start_time": "2022-01-21T12:13:11.930045",
     "status": "completed"
    },
    "tags": []
   },
   "outputs": [
    {
     "data": {
      "text/html": [
       "<div>\n",
       "<style scoped>\n",
       "    .dataframe tbody tr th:only-of-type {\n",
       "        vertical-align: middle;\n",
       "    }\n",
       "\n",
       "    .dataframe tbody tr th {\n",
       "        vertical-align: top;\n",
       "    }\n",
       "\n",
       "    .dataframe thead th {\n",
       "        text-align: right;\n",
       "    }\n",
       "</style>\n",
       "<table border=\"1\" class=\"dataframe\">\n",
       "  <thead>\n",
       "    <tr style=\"text-align: right;\">\n",
       "      <th></th>\n",
       "      <th>Country/Region</th>\n",
       "      <th>Cases</th>\n",
       "      <th>Deaths</th>\n",
       "      <th>PCases</th>\n",
       "      <th>PDeaths</th>\n",
       "      <th>Cases (+)</th>\n",
       "      <th>Deaths (+)</th>\n",
       "      <th>Fatality Rate</th>\n",
       "      <th>Continent</th>\n",
       "    </tr>\n",
       "  </thead>\n",
       "  <tbody>\n",
       "    <tr>\n",
       "      <th>0</th>\n",
       "      <td>US</td>\n",
       "      <td>69308111</td>\n",
       "      <td>860247</td>\n",
       "      <td>68663297</td>\n",
       "      <td>857768</td>\n",
       "      <td>644814</td>\n",
       "      <td>2479</td>\n",
       "      <td>1.2</td>\n",
       "      <td>North America</td>\n",
       "    </tr>\n",
       "    <tr>\n",
       "      <th>1</th>\n",
       "      <td>India</td>\n",
       "      <td>38566027</td>\n",
       "      <td>488396</td>\n",
       "      <td>38218773</td>\n",
       "      <td>487693</td>\n",
       "      <td>347254</td>\n",
       "      <td>703</td>\n",
       "      <td>1.3</td>\n",
       "      <td>Asia</td>\n",
       "    </tr>\n",
       "    <tr>\n",
       "      <th>2</th>\n",
       "      <td>Brazil</td>\n",
       "      <td>23595178</td>\n",
       "      <td>622476</td>\n",
       "      <td>23425392</td>\n",
       "      <td>622125</td>\n",
       "      <td>169786</td>\n",
       "      <td>351</td>\n",
       "      <td>2.6</td>\n",
       "      <td>South America</td>\n",
       "    </tr>\n",
       "    <tr>\n",
       "      <th>3</th>\n",
       "      <td>United Kingdom</td>\n",
       "      <td>15718193</td>\n",
       "      <td>153710</td>\n",
       "      <td>15610069</td>\n",
       "      <td>153378</td>\n",
       "      <td>108124</td>\n",
       "      <td>332</td>\n",
       "      <td>1.0</td>\n",
       "      <td>Europe</td>\n",
       "    </tr>\n",
       "    <tr>\n",
       "      <th>4</th>\n",
       "      <td>France</td>\n",
       "      <td>15715329</td>\n",
       "      <td>129105</td>\n",
       "      <td>15288014</td>\n",
       "      <td>128641</td>\n",
       "      <td>427315</td>\n",
       "      <td>464</td>\n",
       "      <td>0.8</td>\n",
       "      <td>Europe</td>\n",
       "    </tr>\n",
       "  </tbody>\n",
       "</table>\n",
       "</div>"
      ],
      "text/plain": [
       "   Country/Region     Cases  Deaths    PCases  PDeaths  Cases (+)  Deaths (+)  \\\n",
       "0              US  69308111  860247  68663297   857768     644814        2479   \n",
       "1           India  38566027  488396  38218773   487693     347254         703   \n",
       "2          Brazil  23595178  622476  23425392   622125     169786         351   \n",
       "3  United Kingdom  15718193  153710  15610069   153378     108124         332   \n",
       "4          France  15715329  129105  15288014   128641     427315         464   \n",
       "\n",
       "   Fatality Rate      Continent  \n",
       "0            1.2  North America  \n",
       "1            1.3           Asia  \n",
       "2            2.6  South America  \n",
       "3            1.0         Europe  \n",
       "4            0.8         Europe  "
      ]
     },
     "execution_count": 15,
     "metadata": {},
     "output_type": "execute_result"
    }
   ],
   "source": [
    "#hide\n",
    "df_table = (pd.DataFrame(dict(Cases=dfc_cases, Deaths=dfc_deaths, PCases=dfp_cases, PDeaths=dfp_deaths))\n",
    "             .sort_values(by=['Cases', 'Deaths'], ascending=[False, False])\n",
    "             .reset_index())\n",
    "df_table.rename(columns={'index': 'Country/Region'}, inplace=True)\n",
    "for c in 'Cases, Deaths'.split(', '):\n",
    "    df_table[f'{c} (+)'] = (df_table[c] - df_table[f'P{c}']).clip(0)  # DATA BUG\n",
    "df_table['Fatality Rate'] = (100 * df_table['Deaths'] / df_table['Cases']).round(1)\n",
    "df_table['Continent'] = df_table['Country/Region'].map(mapping['map.continent'])\n",
    "df_table.head(5)"
   ]
  },
  {
   "cell_type": "code",
   "execution_count": 16,
   "id": "fewer-occasion",
   "metadata": {
    "execution": {
     "iopub.execute_input": "2022-01-21T12:13:12.097323Z",
     "iopub.status.busy": "2022-01-21T12:13:12.096600Z",
     "iopub.status.idle": "2022-01-21T12:13:12.099843Z",
     "shell.execute_reply": "2022-01-21T12:13:12.099281Z"
    },
    "papermill": {
     "duration": 0.05169,
     "end_time": "2022-01-21T12:13:12.100001",
     "exception": false,
     "start_time": "2022-01-21T12:13:12.048311",
     "status": "completed"
    },
    "tags": []
   },
   "outputs": [],
   "source": [
    "#hide\n",
    "#delete problematic countries from table\n",
    "df_table = df_table[~df_table['Country/Region'].isin(['Cape Verde', 'Cruise Ship', 'Kosovo'])]"
   ]
  },
  {
   "cell_type": "code",
   "execution_count": 17,
   "id": "related-center",
   "metadata": {
    "execution": {
     "iopub.execute_input": "2022-01-21T12:13:12.190601Z",
     "iopub.status.busy": "2022-01-21T12:13:12.189687Z",
     "iopub.status.idle": "2022-01-21T12:13:12.206173Z",
     "shell.execute_reply": "2022-01-21T12:13:12.205547Z"
    },
    "papermill": {
     "duration": 0.065934,
     "end_time": "2022-01-21T12:13:12.206353",
     "exception": false,
     "start_time": "2022-01-21T12:13:12.140419",
     "status": "completed"
    },
    "tags": []
   },
   "outputs": [],
   "source": [
    "#hide\n",
    "metrics = [df_table.columns[index] for index in [1,2,5,6]]\n",
    "# s_china = df_table[df_table['Country/Region'].eq('China')][metrics].sum().add_prefix('China ')\n",
    "s_us = df_table[df_table['Country/Region'].eq('US')][metrics].sum().add_prefix('US ')\n",
    "s_eu = df_table[df_table['Continent'].eq('Europe')][metrics].sum().add_prefix('EU ')\n",
    "s_ind = df_table[df_table['Country/Region'].eq('India')][metrics].sum().add_prefix('India ')\n",
    "summary = {'updated': pd.to_datetime(dt_today), 'since': pd.to_datetime(dt_yday)}\n",
    "summary = {'updated': pd.to_datetime(dt_today), 'since': pd.to_datetime(dt_yday)}\n",
    "summary = {**summary, **df_table[metrics].sum(), **s_ind, **s_us, **s_eu}"
   ]
  },
  {
   "cell_type": "code",
   "execution_count": 18,
   "id": "engaging-syndrome",
   "metadata": {
    "execution": {
     "iopub.execute_input": "2022-01-21T12:13:12.293370Z",
     "iopub.status.busy": "2022-01-21T12:13:12.292706Z",
     "iopub.status.idle": "2022-01-21T12:13:12.309654Z",
     "shell.execute_reply": "2022-01-21T12:13:12.310165Z"
    },
    "papermill": {
     "duration": 0.064801,
     "end_time": "2022-01-21T12:13:12.310313",
     "exception": false,
     "start_time": "2022-01-21T12:13:12.245512",
     "status": "completed"
    },
    "tags": []
   },
   "outputs": [],
   "source": [
    "#hide\n",
    "dft_ct_new_cases = dft_cases.groupby(COL_REGION)[dt_cols].sum().diff(axis=1).fillna(0).astype(int)"
   ]
  },
  {
   "cell_type": "code",
   "execution_count": 19,
   "id": "neutral-assignment",
   "metadata": {
    "execution": {
     "iopub.execute_input": "2022-01-21T12:13:12.396871Z",
     "iopub.status.busy": "2022-01-21T12:13:12.396189Z",
     "iopub.status.idle": "2022-01-21T12:13:12.398858Z",
     "shell.execute_reply": "2022-01-21T12:13:12.398128Z"
    },
    "papermill": {
     "duration": 0.049078,
     "end_time": "2022-01-21T12:13:12.399024",
     "exception": false,
     "start_time": "2022-01-21T12:13:12.349946",
     "status": "completed"
    },
    "tags": []
   },
   "outputs": [],
   "source": [
    "#hide\n",
    "everydaycases = dft_ct_new_cases.cumsum(axis=1)"
   ]
  },
  {
   "cell_type": "code",
   "execution_count": 20,
   "id": "parliamentary-calgary",
   "metadata": {
    "execution": {
     "iopub.execute_input": "2022-01-21T12:13:12.485898Z",
     "iopub.status.busy": "2022-01-21T12:13:12.485267Z",
     "iopub.status.idle": "2022-01-21T12:13:13.239997Z",
     "shell.execute_reply": "2022-01-21T12:13:13.239343Z"
    },
    "papermill": {
     "duration": 0.799887,
     "end_time": "2022-01-21T12:13:13.240188",
     "exception": false,
     "start_time": "2022-01-21T12:13:12.440301",
     "status": "completed"
    },
    "tags": []
   },
   "outputs": [],
   "source": [
    "#hide\n",
    "import pandas as pd\n",
    "import matplotlib.pyplot as plt\n",
    "import matplotlib.ticker as ticker\n",
    "import matplotlib.animation as animation\n",
    "from IPython.display import HTML"
   ]
  },
  {
   "cell_type": "code",
   "execution_count": 21,
   "id": "lasting-extraction",
   "metadata": {
    "execution": {
     "iopub.execute_input": "2022-01-21T12:13:13.332879Z",
     "iopub.status.busy": "2022-01-21T12:13:13.332159Z",
     "iopub.status.idle": "2022-01-21T12:13:13.339322Z",
     "shell.execute_reply": "2022-01-21T12:13:13.338774Z"
    },
    "papermill": {
     "duration": 0.055728,
     "end_time": "2022-01-21T12:13:13.339496",
     "exception": false,
     "start_time": "2022-01-21T12:13:13.283768",
     "status": "completed"
    },
    "tags": []
   },
   "outputs": [],
   "source": [
    "#hide\n",
    "t = everydaycases.stack()"
   ]
  },
  {
   "cell_type": "code",
   "execution_count": 22,
   "id": "premier-sleeve",
   "metadata": {
    "execution": {
     "iopub.execute_input": "2022-01-21T12:13:13.433194Z",
     "iopub.status.busy": "2022-01-21T12:13:13.432488Z",
     "iopub.status.idle": "2022-01-21T12:13:13.444956Z",
     "shell.execute_reply": "2022-01-21T12:13:13.443988Z"
    },
    "papermill": {
     "duration": 0.060018,
     "end_time": "2022-01-21T12:13:13.445138",
     "exception": false,
     "start_time": "2022-01-21T12:13:13.385120",
     "status": "completed"
    },
    "tags": []
   },
   "outputs": [],
   "source": [
    "#hide\n",
    "g = t.reset_index(['Country/Region'])"
   ]
  },
  {
   "cell_type": "code",
   "execution_count": 23,
   "id": "distributed-pittsburgh",
   "metadata": {
    "execution": {
     "iopub.execute_input": "2022-01-21T12:13:13.534381Z",
     "iopub.status.busy": "2022-01-21T12:13:13.533680Z",
     "iopub.status.idle": "2022-01-21T12:13:13.537684Z",
     "shell.execute_reply": "2022-01-21T12:13:13.538228Z"
    },
    "papermill": {
     "duration": 0.050485,
     "end_time": "2022-01-21T12:13:13.538391",
     "exception": false,
     "start_time": "2022-01-21T12:13:13.487906",
     "status": "completed"
    },
    "tags": []
   },
   "outputs": [],
   "source": [
    "#hide\n",
    "g.index.name = 'date'"
   ]
  },
  {
   "cell_type": "code",
   "execution_count": 24,
   "id": "naked-donor",
   "metadata": {
    "execution": {
     "iopub.execute_input": "2022-01-21T12:13:13.630575Z",
     "iopub.status.busy": "2022-01-21T12:13:13.629831Z",
     "iopub.status.idle": "2022-01-21T12:13:13.632701Z",
     "shell.execute_reply": "2022-01-21T12:13:13.631853Z"
    },
    "papermill": {
     "duration": 0.051697,
     "end_time": "2022-01-21T12:13:13.632866",
     "exception": false,
     "start_time": "2022-01-21T12:13:13.581169",
     "status": "completed"
    },
    "tags": []
   },
   "outputs": [],
   "source": [
    "# #hide\n",
    "# g = g.reset_index(['date'])"
   ]
  },
  {
   "cell_type": "code",
   "execution_count": 25,
   "id": "incomplete-mustang",
   "metadata": {
    "execution": {
     "iopub.execute_input": "2022-01-21T12:13:13.723528Z",
     "iopub.status.busy": "2022-01-21T12:13:13.722799Z",
     "iopub.status.idle": "2022-01-21T12:13:13.725544Z",
     "shell.execute_reply": "2022-01-21T12:13:13.724834Z"
    },
    "papermill": {
     "duration": 0.048483,
     "end_time": "2022-01-21T12:13:13.725696",
     "exception": false,
     "start_time": "2022-01-21T12:13:13.677213",
     "status": "completed"
    },
    "tags": []
   },
   "outputs": [],
   "source": [
    "#hide\n",
    "# g.head()"
   ]
  },
  {
   "cell_type": "code",
   "execution_count": 26,
   "id": "specific-kruger",
   "metadata": {
    "execution": {
     "iopub.execute_input": "2022-01-21T12:13:13.815016Z",
     "iopub.status.busy": "2022-01-21T12:13:13.814304Z",
     "iopub.status.idle": "2022-01-21T12:13:13.816415Z",
     "shell.execute_reply": "2022-01-21T12:13:13.816945Z"
    },
    "papermill": {
     "duration": 0.04842,
     "end_time": "2022-01-21T12:13:13.817112",
     "exception": false,
     "start_time": "2022-01-21T12:13:13.768692",
     "status": "completed"
    },
    "tags": []
   },
   "outputs": [],
   "source": [
    "#hide\n",
    "# g.columns = ['date','country','cases']"
   ]
  },
  {
   "cell_type": "code",
   "execution_count": 27,
   "id": "tender-conversion",
   "metadata": {
    "execution": {
     "iopub.execute_input": "2022-01-21T12:13:13.911055Z",
     "iopub.status.busy": "2022-01-21T12:13:13.910325Z",
     "iopub.status.idle": "2022-01-21T12:13:13.913948Z",
     "shell.execute_reply": "2022-01-21T12:13:13.912358Z"
    },
    "papermill": {
     "duration": 0.054077,
     "end_time": "2022-01-21T12:13:13.914119",
     "exception": false,
     "start_time": "2022-01-21T12:13:13.860042",
     "status": "completed"
    },
    "tags": []
   },
   "outputs": [],
   "source": [
    "#hide\n",
    "# g['continent'] = g.country"
   ]
  },
  {
   "cell_type": "code",
   "execution_count": 28,
   "id": "substantial-wilderness",
   "metadata": {
    "execution": {
     "iopub.execute_input": "2022-01-21T12:13:14.003227Z",
     "iopub.status.busy": "2022-01-21T12:13:14.002457Z",
     "iopub.status.idle": "2022-01-21T12:13:14.004783Z",
     "shell.execute_reply": "2022-01-21T12:13:14.005459Z"
    },
    "papermill": {
     "duration": 0.049837,
     "end_time": "2022-01-21T12:13:14.005669",
     "exception": false,
     "start_time": "2022-01-21T12:13:13.955832",
     "status": "completed"
    },
    "tags": []
   },
   "outputs": [],
   "source": [
    "#hide\n",
    "# cols = list(g.columns.values)"
   ]
  },
  {
   "cell_type": "code",
   "execution_count": 29,
   "id": "solved-farming",
   "metadata": {
    "execution": {
     "iopub.execute_input": "2022-01-21T12:13:14.098196Z",
     "iopub.status.busy": "2022-01-21T12:13:14.097393Z",
     "iopub.status.idle": "2022-01-21T12:13:14.101361Z",
     "shell.execute_reply": "2022-01-21T12:13:14.100672Z"
    },
    "papermill": {
     "duration": 0.052889,
     "end_time": "2022-01-21T12:13:14.101564",
     "exception": false,
     "start_time": "2022-01-21T12:13:14.048675",
     "status": "completed"
    },
    "tags": []
   },
   "outputs": [],
   "source": [
    "#hide\n",
    "# cols.insert(0, cols.pop())"
   ]
  },
  {
   "cell_type": "code",
   "execution_count": 30,
   "id": "executed-adoption",
   "metadata": {
    "execution": {
     "iopub.execute_input": "2022-01-21T12:13:14.193040Z",
     "iopub.status.busy": "2022-01-21T12:13:14.192323Z",
     "iopub.status.idle": "2022-01-21T12:13:14.195176Z",
     "shell.execute_reply": "2022-01-21T12:13:14.194601Z"
    },
    "papermill": {
     "duration": 0.05063,
     "end_time": "2022-01-21T12:13:14.195337",
     "exception": false,
     "start_time": "2022-01-21T12:13:14.144707",
     "status": "completed"
    },
    "tags": []
   },
   "outputs": [],
   "source": [
    "#hide\n",
    "# g = g[cols]"
   ]
  },
  {
   "cell_type": "code",
   "execution_count": 31,
   "id": "subject-dublin",
   "metadata": {
    "execution": {
     "iopub.execute_input": "2022-01-21T12:13:14.285162Z",
     "iopub.status.busy": "2022-01-21T12:13:14.284421Z",
     "iopub.status.idle": "2022-01-21T12:13:14.287197Z",
     "shell.execute_reply": "2022-01-21T12:13:14.286583Z"
    },
    "papermill": {
     "duration": 0.049639,
     "end_time": "2022-01-21T12:13:14.287334",
     "exception": false,
     "start_time": "2022-01-21T12:13:14.237695",
     "status": "completed"
    },
    "tags": []
   },
   "outputs": [],
   "source": [
    "#hide\n",
    "# g['continent'] = g['continent'].map(mapping['map.continent'])"
   ]
  },
  {
   "cell_type": "code",
   "execution_count": 32,
   "id": "freelance-scout",
   "metadata": {
    "execution": {
     "iopub.execute_input": "2022-01-21T12:13:14.376105Z",
     "iopub.status.busy": "2022-01-21T12:13:14.375332Z",
     "iopub.status.idle": "2022-01-21T12:13:14.378209Z",
     "shell.execute_reply": "2022-01-21T12:13:14.377461Z"
    },
    "papermill": {
     "duration": 0.048715,
     "end_time": "2022-01-21T12:13:14.378352",
     "exception": false,
     "start_time": "2022-01-21T12:13:14.329637",
     "status": "completed"
    },
    "tags": []
   },
   "outputs": [],
   "source": [
    "#hide\n",
    "# g.head()"
   ]
  },
  {
   "cell_type": "code",
   "execution_count": 33,
   "id": "limited-engine",
   "metadata": {
    "execution": {
     "iopub.execute_input": "2022-01-21T12:13:14.467597Z",
     "iopub.status.busy": "2022-01-21T12:13:14.466895Z",
     "iopub.status.idle": "2022-01-21T12:13:14.469631Z",
     "shell.execute_reply": "2022-01-21T12:13:14.468939Z"
    },
    "papermill": {
     "duration": 0.048534,
     "end_time": "2022-01-21T12:13:14.469771",
     "exception": false,
     "start_time": "2022-01-21T12:13:14.421237",
     "status": "completed"
    },
    "tags": []
   },
   "outputs": [],
   "source": [
    "# hide\n",
    "# g['date'] = g['date'].astype('datetime64[ns]')"
   ]
  },
  {
   "cell_type": "code",
   "execution_count": 34,
   "id": "sophisticated-supervisor",
   "metadata": {
    "execution": {
     "iopub.execute_input": "2022-01-21T12:13:14.562396Z",
     "iopub.status.busy": "2022-01-21T12:13:14.561677Z",
     "iopub.status.idle": "2022-01-21T12:13:14.565502Z",
     "shell.execute_reply": "2022-01-21T12:13:14.566043Z"
    },
    "papermill": {
     "duration": 0.052766,
     "end_time": "2022-01-21T12:13:14.566214",
     "exception": false,
     "start_time": "2022-01-21T12:13:14.513448",
     "status": "completed"
    },
    "tags": []
   },
   "outputs": [],
   "source": [
    "#hide\n",
    "# g['date'] = g.date.dt.dayofyear"
   ]
  },
  {
   "cell_type": "code",
   "execution_count": 35,
   "id": "inside-dubai",
   "metadata": {
    "execution": {
     "iopub.execute_input": "2022-01-21T12:13:14.657061Z",
     "iopub.status.busy": "2022-01-21T12:13:14.656344Z",
     "iopub.status.idle": "2022-01-21T12:13:14.658948Z",
     "shell.execute_reply": "2022-01-21T12:13:14.658360Z"
    },
    "papermill": {
     "duration": 0.050071,
     "end_time": "2022-01-21T12:13:14.659092",
     "exception": false,
     "start_time": "2022-01-21T12:13:14.609021",
     "status": "completed"
    },
    "tags": []
   },
   "outputs": [],
   "source": [
    "#hide\n",
    "# g = g.rename(columns= {'continent':'group','country':'name','cases':'value'})"
   ]
  },
  {
   "cell_type": "code",
   "execution_count": 36,
   "id": "fleet-motorcycle",
   "metadata": {
    "execution": {
     "iopub.execute_input": "2022-01-21T12:13:14.751187Z",
     "iopub.status.busy": "2022-01-21T12:13:14.750479Z",
     "iopub.status.idle": "2022-01-21T12:13:14.753081Z",
     "shell.execute_reply": "2022-01-21T12:13:14.752367Z"
    },
    "papermill": {
     "duration": 0.050165,
     "end_time": "2022-01-21T12:13:14.753242",
     "exception": false,
     "start_time": "2022-01-21T12:13:14.703077",
     "status": "completed"
    },
    "tags": []
   },
   "outputs": [],
   "source": [
    "#hide\n",
    "# cols = ['name','group','day','value']"
   ]
  },
  {
   "cell_type": "code",
   "execution_count": 37,
   "id": "continued-sleeping",
   "metadata": {
    "execution": {
     "iopub.execute_input": "2022-01-21T12:13:14.842968Z",
     "iopub.status.busy": "2022-01-21T12:13:14.842199Z",
     "iopub.status.idle": "2022-01-21T12:13:14.846934Z",
     "shell.execute_reply": "2022-01-21T12:13:14.846375Z"
    },
    "papermill": {
     "duration": 0.050583,
     "end_time": "2022-01-21T12:13:14.847073",
     "exception": false,
     "start_time": "2022-01-21T12:13:14.796490",
     "status": "completed"
    },
    "tags": []
   },
   "outputs": [],
   "source": [
    "#hide\n",
    "# g.rename(columns= {'date':'day'},inplace = True)"
   ]
  },
  {
   "cell_type": "code",
   "execution_count": 38,
   "id": "major-fight",
   "metadata": {
    "execution": {
     "iopub.execute_input": "2022-01-21T12:13:14.935997Z",
     "iopub.status.busy": "2022-01-21T12:13:14.935284Z",
     "iopub.status.idle": "2022-01-21T12:13:14.937943Z",
     "shell.execute_reply": "2022-01-21T12:13:14.937256Z"
    },
    "papermill": {
     "duration": 0.048957,
     "end_time": "2022-01-21T12:13:14.938075",
     "exception": false,
     "start_time": "2022-01-21T12:13:14.889118",
     "status": "completed"
    },
    "tags": []
   },
   "outputs": [],
   "source": [
    "#hide\n",
    "# g = g[cols]"
   ]
  },
  {
   "cell_type": "code",
   "execution_count": 39,
   "id": "structured-mobile",
   "metadata": {
    "execution": {
     "iopub.execute_input": "2022-01-21T12:13:15.028171Z",
     "iopub.status.busy": "2022-01-21T12:13:15.027431Z",
     "iopub.status.idle": "2022-01-21T12:13:15.032110Z",
     "shell.execute_reply": "2022-01-21T12:13:15.031498Z"
    },
    "papermill": {
     "duration": 0.051565,
     "end_time": "2022-01-21T12:13:15.032272",
     "exception": false,
     "start_time": "2022-01-21T12:13:14.980707",
     "status": "completed"
    },
    "tags": []
   },
   "outputs": [],
   "source": [
    "# #hide\n",
    "# g = g[g.group.notna()]"
   ]
  },
  {
   "cell_type": "code",
   "execution_count": 40,
   "id": "determined-closing",
   "metadata": {
    "execution": {
     "iopub.execute_input": "2022-01-21T12:13:15.124223Z",
     "iopub.status.busy": "2022-01-21T12:13:15.123437Z",
     "iopub.status.idle": "2022-01-21T12:13:15.125681Z",
     "shell.execute_reply": "2022-01-21T12:13:15.126234Z"
    },
    "papermill": {
     "duration": 0.051268,
     "end_time": "2022-01-21T12:13:15.126398",
     "exception": false,
     "start_time": "2022-01-21T12:13:15.075130",
     "status": "completed"
    },
    "tags": []
   },
   "outputs": [],
   "source": [
    "# #hide\n",
    "# colors = dict(zip(\n",
    "#     [\"Oceania\", \"Europe\", \"Asia\", \"South America\", \"Middle East\", \"North America\", \"Africa\"],\n",
    "#     [\"#adb0ff\", \"#ffb3ff\", \"#90d595\", \"#e48381\", \"#aafbff\", \"#f7bb5f\", \"#eafb50\"]\n",
    "# ))\n",
    "# group_lk = g.set_index('name')['group'].to_dict()"
   ]
  },
  {
   "cell_type": "code",
   "execution_count": null,
   "id": "gross-drinking",
   "metadata": {
    "papermill": {
     "duration": 0.042208,
     "end_time": "2022-01-21T12:13:15.210558",
     "exception": false,
     "start_time": "2022-01-21T12:13:15.168350",
     "status": "completed"
    },
    "tags": []
   },
   "outputs": [],
   "source": []
  },
  {
   "cell_type": "code",
   "execution_count": 41,
   "id": "subject-macintosh",
   "metadata": {
    "execution": {
     "iopub.execute_input": "2022-01-21T12:13:15.309840Z",
     "iopub.status.busy": "2022-01-21T12:13:15.309088Z",
     "iopub.status.idle": "2022-01-21T12:13:15.311951Z",
     "shell.execute_reply": "2022-01-21T12:13:15.311209Z"
    },
    "papermill": {
     "duration": 0.053814,
     "end_time": "2022-01-21T12:13:15.312150",
     "exception": false,
     "start_time": "2022-01-21T12:13:15.258336",
     "status": "completed"
    },
    "tags": []
   },
   "outputs": [],
   "source": [
    "# #hide\n",
    "# fig, ax = plt.subplots(figsize=(15, 8))\n",
    "\n",
    "# def draw_barchart(current_day):\n",
    "#     dff = g[g['day'].eq(current_day)].sort_values(by='value', ascending=True).tail(10)\n",
    "#     ax.clear()\n",
    "#     ax.barh(dff['name'], dff['value'], color=[colors[group_lk[x]] for x in dff['name']])\n",
    "#     dx = dff['value'].max() / 200\n",
    "    \n",
    "#     for i, (value, name) in enumerate(zip(dff['value'], dff['name'])):\n",
    "#         ax.text(value-dx, i,     name,           size=14, weight=600, ha='right', va='bottom')\n",
    "#         ax.text(value-dx, i-.25, group_lk[name], size=10, color='#444444', ha='right', va='baseline')\n",
    "#         ax.text(value+dx, i,     f'{value:,.0f}',  size=14, ha='left',  va='center')\n",
    "#     ax.text(1, 0.4, current_day, transform=ax.transAxes, color='#777777', size=46, ha='right', weight=800)\n",
    "#     ax.text(0, 1.06, 'Population (thousands)', transform=ax.transAxes, size=12, color='#777777')\n",
    "#     ax.xaxis.set_major_formatter(ticker.StrMethodFormatter('{x:,.0f}'))\n",
    "#     ax.xaxis.set_ticks_position('top')\n",
    "#     ax.tick_params(axis='x', colors='#777777', labelsize=12)\n",
    "#     ax.set_yticks([])\n",
    "#     ax.margins(0, 0.01)\n",
    "#     ax.grid(which='major', axis='x', linestyle='-')\n",
    "#     ax.set_axisbelow(True)\n",
    "    \n",
    "#     ax.text(0, 1.15, 'Coronavirus',\n",
    "#             transform=ax.transAxes, size=24, weight=600, ha='left', va='top')\n",
    "# #     ax.text(1, 0, 'by @pratapvardhan; credit @jburnmurdoch', transform=ax.transAxes, color='#777777', ha='right',\n",
    "# #             bbox=dict(facecolor='white', alpha=0.8, edgecolor='white'))\n",
    "#     plt.box(False)"
   ]
  },
  {
   "cell_type": "code",
   "execution_count": 42,
   "id": "sexual-wages",
   "metadata": {
    "execution": {
     "iopub.execute_input": "2022-01-21T12:13:15.403529Z",
     "iopub.status.busy": "2022-01-21T12:13:15.402513Z",
     "iopub.status.idle": "2022-01-21T12:13:15.404490Z",
     "shell.execute_reply": "2022-01-21T12:13:15.405166Z"
    },
    "papermill": {
     "duration": 0.05083,
     "end_time": "2022-01-21T12:13:15.405352",
     "exception": false,
     "start_time": "2022-01-21T12:13:15.354522",
     "status": "completed"
    },
    "tags": []
   },
   "outputs": [],
   "source": [
    "# #hide_input\n",
    "# fig, ax = plt.subplots(figsize=(15, 8))\n",
    "# animator = animation.FuncAnimation(fig, draw_barchart, frames=range(g.day.values.min(), g.day.values.max()))\n",
    "# HTML(animator.to_jshtml())\n",
    "# # or use animator.to_html5_video() or animator.save() "
   ]
  },
  {
   "cell_type": "code",
   "execution_count": null,
   "id": "australian-container",
   "metadata": {
    "papermill": {
     "duration": 0.040374,
     "end_time": "2022-01-21T12:13:15.487522",
     "exception": false,
     "start_time": "2022-01-21T12:13:15.447148",
     "status": "completed"
    },
    "tags": []
   },
   "outputs": [],
   "source": []
  },
  {
   "cell_type": "code",
   "execution_count": null,
   "id": "mediterranean-pontiac",
   "metadata": {
    "papermill": {
     "duration": 0.040648,
     "end_time": "2022-01-21T12:13:15.575102",
     "exception": false,
     "start_time": "2022-01-21T12:13:15.534454",
     "status": "completed"
    },
    "tags": []
   },
   "outputs": [],
   "source": []
  },
  {
   "cell_type": "code",
   "execution_count": null,
   "id": "aging-legislature",
   "metadata": {
    "papermill": {
     "duration": 0.04004,
     "end_time": "2022-01-21T12:13:15.655861",
     "exception": false,
     "start_time": "2022-01-21T12:13:15.615821",
     "status": "completed"
    },
    "tags": []
   },
   "outputs": [],
   "source": []
  }
 ],
 "metadata": {
  "kernelspec": {
   "display_name": "Python 3",
   "language": "python",
   "name": "python3"
  },
  "language_info": {
   "codemirror_mode": {
    "name": "ipython",
    "version": 3
   },
   "file_extension": ".py",
   "mimetype": "text/x-python",
   "name": "python",
   "nbconvert_exporter": "python",
   "pygments_lexer": "ipython3",
   "version": "3.6.15"
  },
  "papermill": {
   "duration": 7.999338,
   "end_time": "2022-01-21T12:13:16.120791",
   "environment_variables": {},
   "exception": null,
   "input_path": "2020-03-21-covid19exp.ipynb",
   "output_path": "2020-03-21-covid19exp.ipynb",
   "parameters": {},
   "start_time": "2022-01-21T12:13:08.121453",
   "version": "2.0.0"
  }
 },
 "nbformat": 4,
 "nbformat_minor": 5
}