{
 "cells": [
  {
   "cell_type": "markdown",
   "id": "muslim-click",
   "metadata": {
    "papermill": {
     "duration": 0.034427,
     "end_time": "2022-06-14T12:15:56.486356",
     "exception": false,
     "start_time": "2022-06-14T12:15:56.451929",
     "status": "completed"
    },
    "tags": []
   },
   "source": [
    "# COVID-19 Case Race\n",
    "> A race chart to see rising cases around the world\n",
    "\n",
    "- author: Hargun Oberoi\n",
    "- image: images/covid-overview.png\n",
    "- hide: false\n",
    "- badges: false"
   ]
  },
  {
   "cell_type": "code",
   "execution_count": 1,
   "id": "proof-material",
   "metadata": {
    "execution": {
     "iopub.execute_input": "2022-06-14T12:15:56.555437Z",
     "iopub.status.busy": "2022-06-14T12:15:56.554864Z",
     "iopub.status.idle": "2022-06-14T12:15:56.865833Z",
     "shell.execute_reply": "2022-06-14T12:15:56.865344Z"
    },
    "papermill": {
     "duration": 0.349573,
     "end_time": "2022-06-14T12:15:56.865960",
     "exception": false,
     "start_time": "2022-06-14T12:15:56.516387",
     "status": "completed"
    },
    "tags": []
   },
   "outputs": [],
   "source": [
    "#hide\n",
    "import numpy as np\n",
    "import pandas as pd\n",
    "from jinja2 import Template\n",
    "from IPython.display import HTML"
   ]
  },
  {
   "cell_type": "code",
   "execution_count": 2,
   "id": "developed-terminology",
   "metadata": {
    "execution": {
     "iopub.execute_input": "2022-06-14T12:15:56.929612Z",
     "iopub.status.busy": "2022-06-14T12:15:56.929003Z",
     "iopub.status.idle": "2022-06-14T12:15:56.930990Z",
     "shell.execute_reply": "2022-06-14T12:15:56.931434Z"
    },
    "papermill": {
     "duration": 0.036092,
     "end_time": "2022-06-14T12:15:56.931551",
     "exception": false,
     "start_time": "2022-06-14T12:15:56.895459",
     "status": "completed"
    },
    "tags": []
   },
   "outputs": [],
   "source": [
    "#hide\n",
    "\n",
    "# FETCH\n",
    "base_url = 'https://raw.githubusercontent.com/pratapvardhan/notebooks/master/covid19/'\n",
    "paths = {\n",
    "    'mapping': base_url + 'mapping_countries.csv',\n",
    "    'overview': base_url + 'overview.tpl'\n",
    "}"
   ]
  },
  {
   "cell_type": "code",
   "execution_count": 3,
   "id": "dynamic-saver",
   "metadata": {
    "execution": {
     "iopub.execute_input": "2022-06-14T12:15:56.999151Z",
     "iopub.status.busy": "2022-06-14T12:15:56.998589Z",
     "iopub.status.idle": "2022-06-14T12:15:57.001638Z",
     "shell.execute_reply": "2022-06-14T12:15:57.002096Z"
    },
    "papermill": {
     "duration": 0.041213,
     "end_time": "2022-06-14T12:15:57.002210",
     "exception": false,
     "start_time": "2022-06-14T12:15:56.960997",
     "status": "completed"
    },
    "tags": []
   },
   "outputs": [
    {
     "data": {
      "text/plain": [
       "'https://raw.githubusercontent.com/pratapvardhan/notebooks/master/covid19/mapping_countries.csv'"
      ]
     },
     "execution_count": 3,
     "metadata": {},
     "output_type": "execute_result"
    }
   ],
   "source": [
    "#hide\n",
    "paths['mapping']"
   ]
  },
  {
   "cell_type": "code",
   "execution_count": 4,
   "id": "urban-software",
   "metadata": {
    "execution": {
     "iopub.execute_input": "2022-06-14T12:15:57.067195Z",
     "iopub.status.busy": "2022-06-14T12:15:57.066601Z",
     "iopub.status.idle": "2022-06-14T12:15:57.070510Z",
     "shell.execute_reply": "2022-06-14T12:15:57.070057Z"
    },
    "papermill": {
     "duration": 0.038621,
     "end_time": "2022-06-14T12:15:57.070619",
     "exception": false,
     "start_time": "2022-06-14T12:15:57.031998",
     "status": "completed"
    },
    "tags": []
   },
   "outputs": [],
   "source": [
    "#hide\n",
    "def get_mappings(url):\n",
    "    df = pd.read_csv(url)\n",
    "    return {\n",
    "        'df': df,\n",
    "        'replace.country': dict(df.dropna(subset=['Name']).set_index('Country')['Name']),\n",
    "        'map.continent': dict(df.set_index('Name')['Continent'])\n",
    "    }"
   ]
  },
  {
   "cell_type": "code",
   "execution_count": 5,
   "id": "intimate-machinery",
   "metadata": {
    "execution": {
     "iopub.execute_input": "2022-06-14T12:15:57.135171Z",
     "iopub.status.busy": "2022-06-14T12:15:57.134602Z",
     "iopub.status.idle": "2022-06-14T12:15:57.212648Z",
     "shell.execute_reply": "2022-06-14T12:15:57.212179Z"
    },
    "papermill": {
     "duration": 0.112411,
     "end_time": "2022-06-14T12:15:57.212763",
     "exception": false,
     "start_time": "2022-06-14T12:15:57.100352",
     "status": "completed"
    },
    "tags": []
   },
   "outputs": [],
   "source": [
    "#hide\n",
    "mapping = get_mappings(paths['mapping'])"
   ]
  },
  {
   "cell_type": "code",
   "execution_count": 6,
   "id": "certified-tactics",
   "metadata": {
    "execution": {
     "iopub.execute_input": "2022-06-14T12:15:57.277215Z",
     "iopub.status.busy": "2022-06-14T12:15:57.276639Z",
     "iopub.status.idle": "2022-06-14T12:15:57.279097Z",
     "shell.execute_reply": "2022-06-14T12:15:57.278645Z"
    },
    "papermill": {
     "duration": 0.036634,
     "end_time": "2022-06-14T12:15:57.279198",
     "exception": false,
     "start_time": "2022-06-14T12:15:57.242564",
     "status": "completed"
    },
    "tags": []
   },
   "outputs": [],
   "source": [
    "#hide\n",
    "def get_template(path):\n",
    "    from urllib.parse import urlparse\n",
    "    if bool(urlparse(path).netloc):\n",
    "        from urllib.request import urlopen\n",
    "        return urlopen(path).read().decode('utf8')\n",
    "    return open(path).read()"
   ]
  },
  {
   "cell_type": "code",
   "execution_count": 7,
   "id": "realistic-blast",
   "metadata": {
    "execution": {
     "iopub.execute_input": "2022-06-14T12:15:57.343508Z",
     "iopub.status.busy": "2022-06-14T12:15:57.342926Z",
     "iopub.status.idle": "2022-06-14T12:15:57.345620Z",
     "shell.execute_reply": "2022-06-14T12:15:57.345106Z"
    },
    "papermill": {
     "duration": 0.036658,
     "end_time": "2022-06-14T12:15:57.345723",
     "exception": false,
     "start_time": "2022-06-14T12:15:57.309065",
     "status": "completed"
    },
    "tags": []
   },
   "outputs": [],
   "source": [
    "#hide\n",
    "def get_frame(name):\n",
    "    url = (\n",
    "        'https://raw.githubusercontent.com/CSSEGISandData/COVID-19/master/csse_covid_19_data/'\n",
    "        f'csse_covid_19_time_series/time_series_covid19_{name}_global.csv')\n",
    "    df = pd.read_csv(url)\n",
    "    # rename countries\n",
    "    df['Country/Region'] = df['Country/Region'].replace(mapping['replace.country'])\n",
    "    return df"
   ]
  },
  {
   "cell_type": "code",
   "execution_count": 8,
   "id": "affiliated-characterization",
   "metadata": {
    "execution": {
     "iopub.execute_input": "2022-06-14T12:15:57.410686Z",
     "iopub.status.busy": "2022-06-14T12:15:57.410118Z",
     "iopub.status.idle": "2022-06-14T12:15:57.413083Z",
     "shell.execute_reply": "2022-06-14T12:15:57.412627Z"
    },
    "papermill": {
     "duration": 0.037729,
     "end_time": "2022-06-14T12:15:57.413183",
     "exception": false,
     "start_time": "2022-06-14T12:15:57.375454",
     "status": "completed"
    },
    "tags": []
   },
   "outputs": [],
   "source": [
    "#hide\n",
    "def get_dates(df):\n",
    "    dt_cols = df.columns[~df.columns.isin(['Province/State', 'Country/Region', 'Lat', 'Long'])]\n",
    "    LAST_DATE_I = -1\n",
    "    # sometimes last column may be empty, then go backwards\n",
    "    for i in range(-1, -len(dt_cols), -1):\n",
    "        if not df[dt_cols[i]].fillna(0).eq(0).all():\n",
    "            LAST_DATE_I = i\n",
    "            break\n",
    "    return LAST_DATE_I, dt_cols"
   ]
  },
  {
   "cell_type": "code",
   "execution_count": 9,
   "id": "recent-optimization",
   "metadata": {
    "execution": {
     "iopub.execute_input": "2022-06-14T12:15:57.476849Z",
     "iopub.status.busy": "2022-06-14T12:15:57.476280Z",
     "iopub.status.idle": "2022-06-14T12:15:58.081097Z",
     "shell.execute_reply": "2022-06-14T12:15:58.079995Z"
    },
    "papermill": {
     "duration": 0.638398,
     "end_time": "2022-06-14T12:15:58.081216",
     "exception": false,
     "start_time": "2022-06-14T12:15:57.442818",
     "status": "completed"
    },
    "tags": []
   },
   "outputs": [],
   "source": [
    "#hide\n",
    "COL_REGION = 'Country/Region'\n",
    "# Confirmed, Recovered, Deaths\n",
    "df = get_frame('confirmed')\n",
    "# dft_: timeseries, dfc_: today country agg\n",
    "dft_cases = df\n",
    "dft_deaths = get_frame('deaths')\n",
    "dft_recovered = get_frame('recovered')\n",
    "LAST_DATE_I, dt_cols = get_dates(df)"
   ]
  },
  {
   "cell_type": "code",
   "execution_count": 10,
   "id": "absolute-copper",
   "metadata": {
    "execution": {
     "iopub.execute_input": "2022-06-14T12:15:58.145916Z",
     "iopub.status.busy": "2022-06-14T12:15:58.145344Z",
     "iopub.status.idle": "2022-06-14T12:15:58.147547Z",
     "shell.execute_reply": "2022-06-14T12:15:58.147104Z"
    },
    "papermill": {
     "duration": 0.036569,
     "end_time": "2022-06-14T12:15:58.147645",
     "exception": false,
     "start_time": "2022-06-14T12:15:58.111076",
     "status": "completed"
    },
    "tags": []
   },
   "outputs": [],
   "source": [
    "#hide\n",
    "LAST_DATE_I, dt_cols = get_dates(df)\n",
    "dt_today =dt_cols[LAST_DATE_I]\n",
    "# dt_5day = dt_cols[LAST_DATE_I - 5]\n",
    "dt_yday = dt_cols[LAST_DATE_I - 1]"
   ]
  },
  {
   "cell_type": "code",
   "execution_count": 11,
   "id": "restricted-sheriff",
   "metadata": {
    "execution": {
     "iopub.execute_input": "2022-06-14T12:15:58.214193Z",
     "iopub.status.busy": "2022-06-14T12:15:58.213631Z",
     "iopub.status.idle": "2022-06-14T12:15:58.219028Z",
     "shell.execute_reply": "2022-06-14T12:15:58.219473Z"
    },
    "papermill": {
     "duration": 0.042353,
     "end_time": "2022-06-14T12:15:58.219595",
     "exception": false,
     "start_time": "2022-06-14T12:15:58.177242",
     "status": "completed"
    },
    "tags": []
   },
   "outputs": [],
   "source": [
    "#hide\n",
    "dfc_cases = dft_cases.groupby(COL_REGION)[dt_today].sum()\n",
    "dfc_deaths = dft_deaths.groupby(COL_REGION)[dt_today].sum()\n",
    "# dfp_cases = dft_cases.groupby(COL_REGION)[dt_5day].sum()\n",
    "# dfp_deaths = dft_deaths.groupby(COL_REGION)[dt_5day].sum()\n",
    "dfp_cases = dft_cases.groupby(COL_REGION)[dt_yday].sum()\n",
    "dfp_deaths = dft_deaths.groupby(COL_REGION)[dt_yday].sum()"
   ]
  },
  {
   "cell_type": "code",
   "execution_count": 12,
   "id": "deluxe-hepatitis",
   "metadata": {
    "execution": {
     "iopub.execute_input": "2022-06-14T12:15:58.285244Z",
     "iopub.status.busy": "2022-06-14T12:15:58.284650Z",
     "iopub.status.idle": "2022-06-14T12:15:58.290884Z",
     "shell.execute_reply": "2022-06-14T12:15:58.290417Z"
    },
    "papermill": {
     "duration": 0.041588,
     "end_time": "2022-06-14T12:15:58.290991",
     "exception": false,
     "start_time": "2022-06-14T12:15:58.249403",
     "status": "completed"
    },
    "tags": []
   },
   "outputs": [],
   "source": [
    "#hide\n",
    "df_table = (pd.DataFrame(dict(Cases = dfc_cases, Deaths = dfc_deaths, PCases = dfp_cases, PDeaths = dfp_deaths))\n",
    "            .sort_values(by = ['Cases','Deaths'], ascending = [False, False])\n",
    "            .reset_index())"
   ]
  },
  {
   "cell_type": "code",
   "execution_count": 13,
   "id": "educational-chancellor",
   "metadata": {
    "execution": {
     "iopub.execute_input": "2022-06-14T12:15:58.362962Z",
     "iopub.status.busy": "2022-06-14T12:15:58.362393Z",
     "iopub.status.idle": "2022-06-14T12:15:58.374216Z",
     "shell.execute_reply": "2022-06-14T12:15:58.373665Z"
    },
    "papermill": {
     "duration": 0.053588,
     "end_time": "2022-06-14T12:15:58.374320",
     "exception": false,
     "start_time": "2022-06-14T12:15:58.320732",
     "status": "completed"
    },
    "tags": []
   },
   "outputs": [
    {
     "data": {
      "text/html": [
       "<div>\n",
       "<style scoped>\n",
       "    .dataframe tbody tr th:only-of-type {\n",
       "        vertical-align: middle;\n",
       "    }\n",
       "\n",
       "    .dataframe tbody tr th {\n",
       "        vertical-align: top;\n",
       "    }\n",
       "\n",
       "    .dataframe thead th {\n",
       "        text-align: right;\n",
       "    }\n",
       "</style>\n",
       "<table border=\"1\" class=\"dataframe\">\n",
       "  <thead>\n",
       "    <tr style=\"text-align: right;\">\n",
       "      <th></th>\n",
       "      <th>Country/Region</th>\n",
       "      <th>Cases</th>\n",
       "      <th>Deaths</th>\n",
       "      <th>PCases</th>\n",
       "      <th>PDeaths</th>\n",
       "      <th>Cases (+)</th>\n",
       "      <th>Deaths (+)</th>\n",
       "      <th>Fatality Rate</th>\n",
       "      <th>Continent</th>\n",
       "    </tr>\n",
       "  </thead>\n",
       "  <tbody>\n",
       "    <tr>\n",
       "      <th>0</th>\n",
       "      <td>US</td>\n",
       "      <td>85632808</td>\n",
       "      <td>1011543</td>\n",
       "      <td>85515529</td>\n",
       "      <td>1011275</td>\n",
       "      <td>117279</td>\n",
       "      <td>268</td>\n",
       "      <td>1.18</td>\n",
       "      <td>North America</td>\n",
       "    </tr>\n",
       "    <tr>\n",
       "      <th>1</th>\n",
       "      <td>India</td>\n",
       "      <td>43236695</td>\n",
       "      <td>524777</td>\n",
       "      <td>43230101</td>\n",
       "      <td>524771</td>\n",
       "      <td>6594</td>\n",
       "      <td>6</td>\n",
       "      <td>1.21</td>\n",
       "      <td>Asia</td>\n",
       "    </tr>\n",
       "    <tr>\n",
       "      <th>2</th>\n",
       "      <td>Brazil</td>\n",
       "      <td>31497038</td>\n",
       "      <td>668180</td>\n",
       "      <td>31456865</td>\n",
       "      <td>668110</td>\n",
       "      <td>40173</td>\n",
       "      <td>70</td>\n",
       "      <td>2.12</td>\n",
       "      <td>South America</td>\n",
       "    </tr>\n",
       "    <tr>\n",
       "      <th>3</th>\n",
       "      <td>France</td>\n",
       "      <td>29946647</td>\n",
       "      <td>149788</td>\n",
       "      <td>29946603</td>\n",
       "      <td>149788</td>\n",
       "      <td>44</td>\n",
       "      <td>0</td>\n",
       "      <td>0.50</td>\n",
       "      <td>Europe</td>\n",
       "    </tr>\n",
       "    <tr>\n",
       "      <th>4</th>\n",
       "      <td>Germany</td>\n",
       "      <td>26915085</td>\n",
       "      <td>139914</td>\n",
       "      <td>26809245</td>\n",
       "      <td>139807</td>\n",
       "      <td>105840</td>\n",
       "      <td>107</td>\n",
       "      <td>0.52</td>\n",
       "      <td>Europe</td>\n",
       "    </tr>\n",
       "  </tbody>\n",
       "</table>\n",
       "</div>"
      ],
      "text/plain": [
       "  Country/Region     Cases   Deaths    PCases  PDeaths  Cases (+)  Deaths (+)  \\\n",
       "0             US  85632808  1011543  85515529  1011275     117279         268   \n",
       "1          India  43236695   524777  43230101   524771       6594           6   \n",
       "2         Brazil  31497038   668180  31456865   668110      40173          70   \n",
       "3         France  29946647   149788  29946603   149788         44           0   \n",
       "4        Germany  26915085   139914  26809245   139807     105840         107   \n",
       "\n",
       "   Fatality Rate      Continent  \n",
       "0           1.18  North America  \n",
       "1           1.21           Asia  \n",
       "2           2.12  South America  \n",
       "3           0.50         Europe  \n",
       "4           0.52         Europe  "
      ]
     },
     "execution_count": 13,
     "metadata": {},
     "output_type": "execute_result"
    }
   ],
   "source": [
    "#hide\n",
    "for c in 'Cases, Deaths'.split(', '):\n",
    "    df_table[f'{c} (+)'] = (df_table[c] - df_table[f'P{c}']).clip(0)\n",
    "    #Clip ça veut dire, les chiffres negatif sont interdit\n",
    "df_table['Fatality Rate'] = (100* df_table['Deaths']/ df_table['Cases']).round(2)\n",
    "df_table['Continent'] = df_table['Country/Region'].map(mapping['map.continent'])\n",
    "df_table.head(5)"
   ]
  },
  {
   "cell_type": "code",
   "execution_count": 14,
   "id": "aboriginal-bulgaria",
   "metadata": {
    "execution": {
     "iopub.execute_input": "2022-06-14T12:15:58.440277Z",
     "iopub.status.busy": "2022-06-14T12:15:58.439681Z",
     "iopub.status.idle": "2022-06-14T12:15:58.441627Z",
     "shell.execute_reply": "2022-06-14T12:15:58.442051Z"
    },
    "papermill": {
     "duration": 0.037664,
     "end_time": "2022-06-14T12:15:58.442170",
     "exception": false,
     "start_time": "2022-06-14T12:15:58.404506",
     "status": "completed"
    },
    "tags": []
   },
   "outputs": [],
   "source": [
    "#hide\n",
    "#delete problematic countries from table\n",
    "df_table = df_table[~df_table['Country/Region'].isin(['Cape Verde', 'Cruise Ship', 'Kosovo'])]"
   ]
  },
  {
   "cell_type": "code",
   "execution_count": 15,
   "id": "fantastic-effect",
   "metadata": {
    "execution": {
     "iopub.execute_input": "2022-06-14T12:15:58.520187Z",
     "iopub.status.busy": "2022-06-14T12:15:58.509751Z",
     "iopub.status.idle": "2022-06-14T12:15:58.526885Z",
     "shell.execute_reply": "2022-06-14T12:15:58.527314Z"
    },
    "papermill": {
     "duration": 0.055109,
     "end_time": "2022-06-14T12:15:58.527435",
     "exception": false,
     "start_time": "2022-06-14T12:15:58.472326",
     "status": "completed"
    },
    "tags": []
   },
   "outputs": [
    {
     "data": {
      "text/html": [
       "<div>\n",
       "<style scoped>\n",
       "    .dataframe tbody tr th:only-of-type {\n",
       "        vertical-align: middle;\n",
       "    }\n",
       "\n",
       "    .dataframe tbody tr th {\n",
       "        vertical-align: top;\n",
       "    }\n",
       "\n",
       "    .dataframe thead th {\n",
       "        text-align: right;\n",
       "    }\n",
       "</style>\n",
       "<table border=\"1\" class=\"dataframe\">\n",
       "  <thead>\n",
       "    <tr style=\"text-align: right;\">\n",
       "      <th></th>\n",
       "      <th>Country/Region</th>\n",
       "      <th>Cases</th>\n",
       "      <th>Deaths</th>\n",
       "      <th>PCases</th>\n",
       "      <th>PDeaths</th>\n",
       "      <th>Cases (+)</th>\n",
       "      <th>Deaths (+)</th>\n",
       "      <th>Fatality Rate</th>\n",
       "      <th>Continent</th>\n",
       "    </tr>\n",
       "  </thead>\n",
       "  <tbody>\n",
       "    <tr>\n",
       "      <th>0</th>\n",
       "      <td>US</td>\n",
       "      <td>85632808</td>\n",
       "      <td>1011543</td>\n",
       "      <td>85515529</td>\n",
       "      <td>1011275</td>\n",
       "      <td>117279</td>\n",
       "      <td>268</td>\n",
       "      <td>1.2</td>\n",
       "      <td>North America</td>\n",
       "    </tr>\n",
       "    <tr>\n",
       "      <th>1</th>\n",
       "      <td>India</td>\n",
       "      <td>43236695</td>\n",
       "      <td>524777</td>\n",
       "      <td>43230101</td>\n",
       "      <td>524771</td>\n",
       "      <td>6594</td>\n",
       "      <td>6</td>\n",
       "      <td>1.2</td>\n",
       "      <td>Asia</td>\n",
       "    </tr>\n",
       "    <tr>\n",
       "      <th>2</th>\n",
       "      <td>Brazil</td>\n",
       "      <td>31497038</td>\n",
       "      <td>668180</td>\n",
       "      <td>31456865</td>\n",
       "      <td>668110</td>\n",
       "      <td>40173</td>\n",
       "      <td>70</td>\n",
       "      <td>2.1</td>\n",
       "      <td>South America</td>\n",
       "    </tr>\n",
       "    <tr>\n",
       "      <th>3</th>\n",
       "      <td>France</td>\n",
       "      <td>29946647</td>\n",
       "      <td>149788</td>\n",
       "      <td>29946603</td>\n",
       "      <td>149788</td>\n",
       "      <td>44</td>\n",
       "      <td>0</td>\n",
       "      <td>0.5</td>\n",
       "      <td>Europe</td>\n",
       "    </tr>\n",
       "    <tr>\n",
       "      <th>4</th>\n",
       "      <td>Germany</td>\n",
       "      <td>26915085</td>\n",
       "      <td>139914</td>\n",
       "      <td>26809245</td>\n",
       "      <td>139807</td>\n",
       "      <td>105840</td>\n",
       "      <td>107</td>\n",
       "      <td>0.5</td>\n",
       "      <td>Europe</td>\n",
       "    </tr>\n",
       "  </tbody>\n",
       "</table>\n",
       "</div>"
      ],
      "text/plain": [
       "  Country/Region     Cases   Deaths    PCases  PDeaths  Cases (+)  Deaths (+)  \\\n",
       "0             US  85632808  1011543  85515529  1011275     117279         268   \n",
       "1          India  43236695   524777  43230101   524771       6594           6   \n",
       "2         Brazil  31497038   668180  31456865   668110      40173          70   \n",
       "3         France  29946647   149788  29946603   149788         44           0   \n",
       "4        Germany  26915085   139914  26809245   139807     105840         107   \n",
       "\n",
       "   Fatality Rate      Continent  \n",
       "0            1.2  North America  \n",
       "1            1.2           Asia  \n",
       "2            2.1  South America  \n",
       "3            0.5         Europe  \n",
       "4            0.5         Europe  "
      ]
     },
     "execution_count": 15,
     "metadata": {},
     "output_type": "execute_result"
    }
   ],
   "source": [
    "#hide\n",
    "df_table = (pd.DataFrame(dict(Cases=dfc_cases, Deaths=dfc_deaths, PCases=dfp_cases, PDeaths=dfp_deaths))\n",
    "             .sort_values(by=['Cases', 'Deaths'], ascending=[False, False])\n",
    "             .reset_index())\n",
    "df_table.rename(columns={'index': 'Country/Region'}, inplace=True)\n",
    "for c in 'Cases, Deaths'.split(', '):\n",
    "    df_table[f'{c} (+)'] = (df_table[c] - df_table[f'P{c}']).clip(0)  # DATA BUG\n",
    "df_table['Fatality Rate'] = (100 * df_table['Deaths'] / df_table['Cases']).round(1)\n",
    "df_table['Continent'] = df_table['Country/Region'].map(mapping['map.continent'])\n",
    "df_table.head(5)"
   ]
  },
  {
   "cell_type": "code",
   "execution_count": 16,
   "id": "fewer-occasion",
   "metadata": {
    "execution": {
     "iopub.execute_input": "2022-06-14T12:15:58.594417Z",
     "iopub.status.busy": "2022-06-14T12:15:58.593828Z",
     "iopub.status.idle": "2022-06-14T12:15:58.595996Z",
     "shell.execute_reply": "2022-06-14T12:15:58.595474Z"
    },
    "papermill": {
     "duration": 0.037888,
     "end_time": "2022-06-14T12:15:58.596096",
     "exception": false,
     "start_time": "2022-06-14T12:15:58.558208",
     "status": "completed"
    },
    "tags": []
   },
   "outputs": [],
   "source": [
    "#hide\n",
    "#delete problematic countries from table\n",
    "df_table = df_table[~df_table['Country/Region'].isin(['Cape Verde', 'Cruise Ship', 'Kosovo'])]"
   ]
  },
  {
   "cell_type": "code",
   "execution_count": 17,
   "id": "related-center",
   "metadata": {
    "execution": {
     "iopub.execute_input": "2022-06-14T12:15:58.674484Z",
     "iopub.status.busy": "2022-06-14T12:15:58.668872Z",
     "iopub.status.idle": "2022-06-14T12:15:58.676915Z",
     "shell.execute_reply": "2022-06-14T12:15:58.676387Z"
    },
    "papermill": {
     "duration": 0.050202,
     "end_time": "2022-06-14T12:15:58.677017",
     "exception": false,
     "start_time": "2022-06-14T12:15:58.626815",
     "status": "completed"
    },
    "tags": []
   },
   "outputs": [],
   "source": [
    "#hide\n",
    "metrics = [df_table.columns[index] for index in [1,2,5,6]]\n",
    "# s_china = df_table[df_table['Country/Region'].eq('China')][metrics].sum().add_prefix('China ')\n",
    "s_us = df_table[df_table['Country/Region'].eq('US')][metrics].sum().add_prefix('US ')\n",
    "s_eu = df_table[df_table['Continent'].eq('Europe')][metrics].sum().add_prefix('EU ')\n",
    "s_ind = df_table[df_table['Country/Region'].eq('India')][metrics].sum().add_prefix('India ')\n",
    "summary = {'updated': pd.to_datetime(dt_today), 'since': pd.to_datetime(dt_yday)}\n",
    "summary = {'updated': pd.to_datetime(dt_today), 'since': pd.to_datetime(dt_yday)}\n",
    "summary = {**summary, **df_table[metrics].sum(), **s_ind, **s_us, **s_eu}"
   ]
  },
  {
   "cell_type": "code",
   "execution_count": 18,
   "id": "engaging-syndrome",
   "metadata": {
    "execution": {
     "iopub.execute_input": "2022-06-14T12:15:58.746391Z",
     "iopub.status.busy": "2022-06-14T12:15:58.743041Z",
     "iopub.status.idle": "2022-06-14T12:15:58.761782Z",
     "shell.execute_reply": "2022-06-14T12:15:58.761335Z"
    },
    "papermill": {
     "duration": 0.054003,
     "end_time": "2022-06-14T12:15:58.761894",
     "exception": false,
     "start_time": "2022-06-14T12:15:58.707891",
     "status": "completed"
    },
    "tags": []
   },
   "outputs": [],
   "source": [
    "#hide\n",
    "dft_ct_new_cases = dft_cases.groupby(COL_REGION)[dt_cols].sum().diff(axis=1).fillna(0).astype(int)"
   ]
  },
  {
   "cell_type": "code",
   "execution_count": 19,
   "id": "neutral-assignment",
   "metadata": {
    "execution": {
     "iopub.execute_input": "2022-06-14T12:15:58.830396Z",
     "iopub.status.busy": "2022-06-14T12:15:58.829815Z",
     "iopub.status.idle": "2022-06-14T12:15:58.832097Z",
     "shell.execute_reply": "2022-06-14T12:15:58.832522Z"
    },
    "papermill": {
     "duration": 0.039817,
     "end_time": "2022-06-14T12:15:58.832644",
     "exception": false,
     "start_time": "2022-06-14T12:15:58.792827",
     "status": "completed"
    },
    "tags": []
   },
   "outputs": [],
   "source": [
    "#hide\n",
    "everydaycases = dft_ct_new_cases.cumsum(axis=1)"
   ]
  },
  {
   "cell_type": "code",
   "execution_count": 20,
   "id": "parliamentary-calgary",
   "metadata": {
    "execution": {
     "iopub.execute_input": "2022-06-14T12:15:58.898425Z",
     "iopub.status.busy": "2022-06-14T12:15:58.897851Z",
     "iopub.status.idle": "2022-06-14T12:15:59.440401Z",
     "shell.execute_reply": "2022-06-14T12:15:59.439924Z"
    },
    "papermill": {
     "duration": 0.57705,
     "end_time": "2022-06-14T12:15:59.440519",
     "exception": false,
     "start_time": "2022-06-14T12:15:58.863469",
     "status": "completed"
    },
    "tags": []
   },
   "outputs": [],
   "source": [
    "#hide\n",
    "import pandas as pd\n",
    "import matplotlib.pyplot as plt\n",
    "import matplotlib.ticker as ticker\n",
    "import matplotlib.animation as animation\n",
    "from IPython.display import HTML"
   ]
  },
  {
   "cell_type": "code",
   "execution_count": 21,
   "id": "lasting-extraction",
   "metadata": {
    "execution": {
     "iopub.execute_input": "2022-06-14T12:15:59.508668Z",
     "iopub.status.busy": "2022-06-14T12:15:59.508107Z",
     "iopub.status.idle": "2022-06-14T12:15:59.514421Z",
     "shell.execute_reply": "2022-06-14T12:15:59.514824Z"
    },
    "papermill": {
     "duration": 0.042831,
     "end_time": "2022-06-14T12:15:59.514948",
     "exception": false,
     "start_time": "2022-06-14T12:15:59.472117",
     "status": "completed"
    },
    "tags": []
   },
   "outputs": [],
   "source": [
    "#hide\n",
    "t = everydaycases.stack()"
   ]
  },
  {
   "cell_type": "code",
   "execution_count": 22,
   "id": "premier-sleeve",
   "metadata": {
    "execution": {
     "iopub.execute_input": "2022-06-14T12:15:59.581127Z",
     "iopub.status.busy": "2022-06-14T12:15:59.580282Z",
     "iopub.status.idle": "2022-06-14T12:15:59.591673Z",
     "shell.execute_reply": "2022-06-14T12:15:59.591126Z"
    },
    "papermill": {
     "duration": 0.046033,
     "end_time": "2022-06-14T12:15:59.591777",
     "exception": false,
     "start_time": "2022-06-14T12:15:59.545744",
     "status": "completed"
    },
    "tags": []
   },
   "outputs": [],
   "source": [
    "#hide\n",
    "g = t.reset_index(['Country/Region'])"
   ]
  },
  {
   "cell_type": "code",
   "execution_count": 23,
   "id": "distributed-pittsburgh",
   "metadata": {
    "execution": {
     "iopub.execute_input": "2022-06-14T12:15:59.657491Z",
     "iopub.status.busy": "2022-06-14T12:15:59.656885Z",
     "iopub.status.idle": "2022-06-14T12:15:59.658666Z",
     "shell.execute_reply": "2022-06-14T12:15:59.659084Z"
    },
    "papermill": {
     "duration": 0.036727,
     "end_time": "2022-06-14T12:15:59.659202",
     "exception": false,
     "start_time": "2022-06-14T12:15:59.622475",
     "status": "completed"
    },
    "tags": []
   },
   "outputs": [],
   "source": [
    "#hide\n",
    "g.index.name = 'date'"
   ]
  },
  {
   "cell_type": "code",
   "execution_count": 24,
   "id": "naked-donor",
   "metadata": {
    "execution": {
     "iopub.execute_input": "2022-06-14T12:15:59.724462Z",
     "iopub.status.busy": "2022-06-14T12:15:59.723898Z",
     "iopub.status.idle": "2022-06-14T12:15:59.726142Z",
     "shell.execute_reply": "2022-06-14T12:15:59.726556Z"
    },
    "papermill": {
     "duration": 0.036867,
     "end_time": "2022-06-14T12:15:59.726674",
     "exception": false,
     "start_time": "2022-06-14T12:15:59.689807",
     "status": "completed"
    },
    "tags": []
   },
   "outputs": [],
   "source": [
    "# #hide\n",
    "# g = g.reset_index(['date'])"
   ]
  },
  {
   "cell_type": "code",
   "execution_count": 25,
   "id": "incomplete-mustang",
   "metadata": {
    "execution": {
     "iopub.execute_input": "2022-06-14T12:15:59.791499Z",
     "iopub.status.busy": "2022-06-14T12:15:59.790934Z",
     "iopub.status.idle": "2022-06-14T12:15:59.793431Z",
     "shell.execute_reply": "2022-06-14T12:15:59.792888Z"
    },
    "papermill": {
     "duration": 0.036375,
     "end_time": "2022-06-14T12:15:59.793533",
     "exception": false,
     "start_time": "2022-06-14T12:15:59.757158",
     "status": "completed"
    },
    "tags": []
   },
   "outputs": [],
   "source": [
    "#hide\n",
    "# g.head()"
   ]
  },
  {
   "cell_type": "code",
   "execution_count": 26,
   "id": "specific-kruger",
   "metadata": {
    "execution": {
     "iopub.execute_input": "2022-06-14T12:15:59.859435Z",
     "iopub.status.busy": "2022-06-14T12:15:59.858857Z",
     "iopub.status.idle": "2022-06-14T12:15:59.861392Z",
     "shell.execute_reply": "2022-06-14T12:15:59.860938Z"
    },
    "papermill": {
     "duration": 0.036814,
     "end_time": "2022-06-14T12:15:59.861492",
     "exception": false,
     "start_time": "2022-06-14T12:15:59.824678",
     "status": "completed"
    },
    "tags": []
   },
   "outputs": [],
   "source": [
    "#hide\n",
    "# g.columns = ['date','country','cases']"
   ]
  },
  {
   "cell_type": "code",
   "execution_count": 27,
   "id": "tender-conversion",
   "metadata": {
    "execution": {
     "iopub.execute_input": "2022-06-14T12:15:59.926285Z",
     "iopub.status.busy": "2022-06-14T12:15:59.925711Z",
     "iopub.status.idle": "2022-06-14T12:15:59.928153Z",
     "shell.execute_reply": "2022-06-14T12:15:59.927627Z"
    },
    "papermill": {
     "duration": 0.036315,
     "end_time": "2022-06-14T12:15:59.928254",
     "exception": false,
     "start_time": "2022-06-14T12:15:59.891939",
     "status": "completed"
    },
    "tags": []
   },
   "outputs": [],
   "source": [
    "#hide\n",
    "# g['continent'] = g.country"
   ]
  },
  {
   "cell_type": "code",
   "execution_count": 28,
   "id": "substantial-wilderness",
   "metadata": {
    "execution": {
     "iopub.execute_input": "2022-06-14T12:15:59.993396Z",
     "iopub.status.busy": "2022-06-14T12:15:59.992801Z",
     "iopub.status.idle": "2022-06-14T12:15:59.995281Z",
     "shell.execute_reply": "2022-06-14T12:15:59.994756Z"
    },
    "papermill": {
     "duration": 0.036459,
     "end_time": "2022-06-14T12:15:59.995378",
     "exception": false,
     "start_time": "2022-06-14T12:15:59.958919",
     "status": "completed"
    },
    "tags": []
   },
   "outputs": [],
   "source": [
    "#hide\n",
    "# cols = list(g.columns.values)"
   ]
  },
  {
   "cell_type": "code",
   "execution_count": 29,
   "id": "solved-farming",
   "metadata": {
    "execution": {
     "iopub.execute_input": "2022-06-14T12:16:00.060196Z",
     "iopub.status.busy": "2022-06-14T12:16:00.059640Z",
     "iopub.status.idle": "2022-06-14T12:16:00.061642Z",
     "shell.execute_reply": "2022-06-14T12:16:00.062056Z"
    },
    "papermill": {
     "duration": 0.036102,
     "end_time": "2022-06-14T12:16:00.062171",
     "exception": false,
     "start_time": "2022-06-14T12:16:00.026069",
     "status": "completed"
    },
    "tags": []
   },
   "outputs": [],
   "source": [
    "#hide\n",
    "# cols.insert(0, cols.pop())"
   ]
  },
  {
   "cell_type": "code",
   "execution_count": 30,
   "id": "executed-adoption",
   "metadata": {
    "execution": {
     "iopub.execute_input": "2022-06-14T12:16:00.126899Z",
     "iopub.status.busy": "2022-06-14T12:16:00.126327Z",
     "iopub.status.idle": "2022-06-14T12:16:00.128763Z",
     "shell.execute_reply": "2022-06-14T12:16:00.128238Z"
    },
    "papermill": {
     "duration": 0.036096,
     "end_time": "2022-06-14T12:16:00.128863",
     "exception": false,
     "start_time": "2022-06-14T12:16:00.092767",
     "status": "completed"
    },
    "tags": []
   },
   "outputs": [],
   "source": [
    "#hide\n",
    "# g = g[cols]"
   ]
  },
  {
   "cell_type": "code",
   "execution_count": 31,
   "id": "subject-dublin",
   "metadata": {
    "execution": {
     "iopub.execute_input": "2022-06-14T12:16:00.193623Z",
     "iopub.status.busy": "2022-06-14T12:16:00.193016Z",
     "iopub.status.idle": "2022-06-14T12:16:00.195297Z",
     "shell.execute_reply": "2022-06-14T12:16:00.195700Z"
    },
    "papermill": {
     "duration": 0.036483,
     "end_time": "2022-06-14T12:16:00.195823",
     "exception": false,
     "start_time": "2022-06-14T12:16:00.159340",
     "status": "completed"
    },
    "tags": []
   },
   "outputs": [],
   "source": [
    "#hide\n",
    "# g['continent'] = g['continent'].map(mapping['map.continent'])"
   ]
  },
  {
   "cell_type": "code",
   "execution_count": 32,
   "id": "freelance-scout",
   "metadata": {
    "execution": {
     "iopub.execute_input": "2022-06-14T12:16:00.260687Z",
     "iopub.status.busy": "2022-06-14T12:16:00.260105Z",
     "iopub.status.idle": "2022-06-14T12:16:00.262023Z",
     "shell.execute_reply": "2022-06-14T12:16:00.261494Z"
    },
    "papermill": {
     "duration": 0.035714,
     "end_time": "2022-06-14T12:16:00.262125",
     "exception": false,
     "start_time": "2022-06-14T12:16:00.226411",
     "status": "completed"
    },
    "tags": []
   },
   "outputs": [],
   "source": [
    "#hide\n",
    "# g.head()"
   ]
  },
  {
   "cell_type": "code",
   "execution_count": 33,
   "id": "limited-engine",
   "metadata": {
    "execution": {
     "iopub.execute_input": "2022-06-14T12:16:00.326967Z",
     "iopub.status.busy": "2022-06-14T12:16:00.326389Z",
     "iopub.status.idle": "2022-06-14T12:16:00.328577Z",
     "shell.execute_reply": "2022-06-14T12:16:00.328992Z"
    },
    "papermill": {
     "duration": 0.036364,
     "end_time": "2022-06-14T12:16:00.329113",
     "exception": false,
     "start_time": "2022-06-14T12:16:00.292749",
     "status": "completed"
    },
    "tags": []
   },
   "outputs": [],
   "source": [
    "# hide\n",
    "# g['date'] = g['date'].astype('datetime64[ns]')"
   ]
  },
  {
   "cell_type": "code",
   "execution_count": 34,
   "id": "sophisticated-supervisor",
   "metadata": {
    "execution": {
     "iopub.execute_input": "2022-06-14T12:16:00.394358Z",
     "iopub.status.busy": "2022-06-14T12:16:00.393799Z",
     "iopub.status.idle": "2022-06-14T12:16:00.395667Z",
     "shell.execute_reply": "2022-06-14T12:16:00.395145Z"
    },
    "papermill": {
     "duration": 0.036067,
     "end_time": "2022-06-14T12:16:00.395767",
     "exception": false,
     "start_time": "2022-06-14T12:16:00.359700",
     "status": "completed"
    },
    "tags": []
   },
   "outputs": [],
   "source": [
    "#hide\n",
    "# g['date'] = g.date.dt.dayofyear"
   ]
  },
  {
   "cell_type": "code",
   "execution_count": 35,
   "id": "inside-dubai",
   "metadata": {
    "execution": {
     "iopub.execute_input": "2022-06-14T12:16:00.460689Z",
     "iopub.status.busy": "2022-06-14T12:16:00.460109Z",
     "iopub.status.idle": "2022-06-14T12:16:00.462008Z",
     "shell.execute_reply": "2022-06-14T12:16:00.461478Z"
    },
    "papermill": {
     "duration": 0.035778,
     "end_time": "2022-06-14T12:16:00.462109",
     "exception": false,
     "start_time": "2022-06-14T12:16:00.426331",
     "status": "completed"
    },
    "tags": []
   },
   "outputs": [],
   "source": [
    "#hide\n",
    "# g = g.rename(columns= {'continent':'group','country':'name','cases':'value'})"
   ]
  },
  {
   "cell_type": "code",
   "execution_count": 36,
   "id": "fleet-motorcycle",
   "metadata": {
    "execution": {
     "iopub.execute_input": "2022-06-14T12:16:00.527283Z",
     "iopub.status.busy": "2022-06-14T12:16:00.526722Z",
     "iopub.status.idle": "2022-06-14T12:16:00.528983Z",
     "shell.execute_reply": "2022-06-14T12:16:00.528525Z"
    },
    "papermill": {
     "duration": 0.036472,
     "end_time": "2022-06-14T12:16:00.529083",
     "exception": false,
     "start_time": "2022-06-14T12:16:00.492611",
     "status": "completed"
    },
    "tags": []
   },
   "outputs": [],
   "source": [
    "#hide\n",
    "# cols = ['name','group','day','value']"
   ]
  },
  {
   "cell_type": "code",
   "execution_count": 37,
   "id": "continued-sleeping",
   "metadata": {
    "execution": {
     "iopub.execute_input": "2022-06-14T12:16:00.593968Z",
     "iopub.status.busy": "2022-06-14T12:16:00.593392Z",
     "iopub.status.idle": "2022-06-14T12:16:00.595717Z",
     "shell.execute_reply": "2022-06-14T12:16:00.595276Z"
    },
    "papermill": {
     "duration": 0.03611,
     "end_time": "2022-06-14T12:16:00.595817",
     "exception": false,
     "start_time": "2022-06-14T12:16:00.559707",
     "status": "completed"
    },
    "tags": []
   },
   "outputs": [],
   "source": [
    "#hide\n",
    "# g.rename(columns= {'date':'day'},inplace = True)"
   ]
  },
  {
   "cell_type": "code",
   "execution_count": 38,
   "id": "major-fight",
   "metadata": {
    "execution": {
     "iopub.execute_input": "2022-06-14T12:16:00.661665Z",
     "iopub.status.busy": "2022-06-14T12:16:00.661061Z",
     "iopub.status.idle": "2022-06-14T12:16:00.663310Z",
     "shell.execute_reply": "2022-06-14T12:16:00.663718Z"
    },
    "papermill": {
     "duration": 0.03668,
     "end_time": "2022-06-14T12:16:00.663840",
     "exception": false,
     "start_time": "2022-06-14T12:16:00.627160",
     "status": "completed"
    },
    "tags": []
   },
   "outputs": [],
   "source": [
    "#hide\n",
    "# g = g[cols]"
   ]
  },
  {
   "cell_type": "code",
   "execution_count": 39,
   "id": "structured-mobile",
   "metadata": {
    "execution": {
     "iopub.execute_input": "2022-06-14T12:16:00.728467Z",
     "iopub.status.busy": "2022-06-14T12:16:00.727898Z",
     "iopub.status.idle": "2022-06-14T12:16:00.729791Z",
     "shell.execute_reply": "2022-06-14T12:16:00.729253Z"
    },
    "papermill": {
     "duration": 0.035632,
     "end_time": "2022-06-14T12:16:00.729891",
     "exception": false,
     "start_time": "2022-06-14T12:16:00.694259",
     "status": "completed"
    },
    "tags": []
   },
   "outputs": [],
   "source": [
    "# #hide\n",
    "# g = g[g.group.notna()]"
   ]
  },
  {
   "cell_type": "code",
   "execution_count": 40,
   "id": "determined-closing",
   "metadata": {
    "execution": {
     "iopub.execute_input": "2022-06-14T12:16:00.794819Z",
     "iopub.status.busy": "2022-06-14T12:16:00.794229Z",
     "iopub.status.idle": "2022-06-14T12:16:00.796185Z",
     "shell.execute_reply": "2022-06-14T12:16:00.795665Z"
    },
    "papermill": {
     "duration": 0.035691,
     "end_time": "2022-06-14T12:16:00.796286",
     "exception": false,
     "start_time": "2022-06-14T12:16:00.760595",
     "status": "completed"
    },
    "tags": []
   },
   "outputs": [],
   "source": [
    "# #hide\n",
    "# colors = dict(zip(\n",
    "#     [\"Oceania\", \"Europe\", \"Asia\", \"South America\", \"Middle East\", \"North America\", \"Africa\"],\n",
    "#     [\"#adb0ff\", \"#ffb3ff\", \"#90d595\", \"#e48381\", \"#aafbff\", \"#f7bb5f\", \"#eafb50\"]\n",
    "# ))\n",
    "# group_lk = g.set_index('name')['group'].to_dict()"
   ]
  },
  {
   "cell_type": "code",
   "execution_count": null,
   "id": "gross-drinking",
   "metadata": {
    "papermill": {
     "duration": 0.030652,
     "end_time": "2022-06-14T12:16:00.857923",
     "exception": false,
     "start_time": "2022-06-14T12:16:00.827271",
     "status": "completed"
    },
    "tags": []
   },
   "outputs": [],
   "source": []
  },
  {
   "cell_type": "code",
   "execution_count": 41,
   "id": "subject-macintosh",
   "metadata": {
    "execution": {
     "iopub.execute_input": "2022-06-14T12:16:00.923221Z",
     "iopub.status.busy": "2022-06-14T12:16:00.922645Z",
     "iopub.status.idle": "2022-06-14T12:16:00.926033Z",
     "shell.execute_reply": "2022-06-14T12:16:00.926455Z"
    },
    "papermill": {
     "duration": 0.038072,
     "end_time": "2022-06-14T12:16:00.926577",
     "exception": false,
     "start_time": "2022-06-14T12:16:00.888505",
     "status": "completed"
    },
    "tags": []
   },
   "outputs": [],
   "source": [
    "# #hide\n",
    "# fig, ax = plt.subplots(figsize=(15, 8))\n",
    "\n",
    "# def draw_barchart(current_day):\n",
    "#     dff = g[g['day'].eq(current_day)].sort_values(by='value', ascending=True).tail(10)\n",
    "#     ax.clear()\n",
    "#     ax.barh(dff['name'], dff['value'], color=[colors[group_lk[x]] for x in dff['name']])\n",
    "#     dx = dff['value'].max() / 200\n",
    "    \n",
    "#     for i, (value, name) in enumerate(zip(dff['value'], dff['name'])):\n",
    "#         ax.text(value-dx, i,     name,           size=14, weight=600, ha='right', va='bottom')\n",
    "#         ax.text(value-dx, i-.25, group_lk[name], size=10, color='#444444', ha='right', va='baseline')\n",
    "#         ax.text(value+dx, i,     f'{value:,.0f}',  size=14, ha='left',  va='center')\n",
    "#     ax.text(1, 0.4, current_day, transform=ax.transAxes, color='#777777', size=46, ha='right', weight=800)\n",
    "#     ax.text(0, 1.06, 'Population (thousands)', transform=ax.transAxes, size=12, color='#777777')\n",
    "#     ax.xaxis.set_major_formatter(ticker.StrMethodFormatter('{x:,.0f}'))\n",
    "#     ax.xaxis.set_ticks_position('top')\n",
    "#     ax.tick_params(axis='x', colors='#777777', labelsize=12)\n",
    "#     ax.set_yticks([])\n",
    "#     ax.margins(0, 0.01)\n",
    "#     ax.grid(which='major', axis='x', linestyle='-')\n",
    "#     ax.set_axisbelow(True)\n",
    "    \n",
    "#     ax.text(0, 1.15, 'Coronavirus',\n",
    "#             transform=ax.transAxes, size=24, weight=600, ha='left', va='top')\n",
    "# #     ax.text(1, 0, 'by @pratapvardhan; credit @jburnmurdoch', transform=ax.transAxes, color='#777777', ha='right',\n",
    "# #             bbox=dict(facecolor='white', alpha=0.8, edgecolor='white'))\n",
    "#     plt.box(False)"
   ]
  },
  {
   "cell_type": "code",
   "execution_count": 42,
   "id": "sexual-wages",
   "metadata": {
    "execution": {
     "iopub.execute_input": "2022-06-14T12:16:00.991312Z",
     "iopub.status.busy": "2022-06-14T12:16:00.990727Z",
     "iopub.status.idle": "2022-06-14T12:16:00.992623Z",
     "shell.execute_reply": "2022-06-14T12:16:00.993039Z"
    },
    "papermill": {
     "duration": 0.036078,
     "end_time": "2022-06-14T12:16:00.993151",
     "exception": false,
     "start_time": "2022-06-14T12:16:00.957073",
     "status": "completed"
    },
    "tags": []
   },
   "outputs": [],
   "source": [
    "# #hide_input\n",
    "# fig, ax = plt.subplots(figsize=(15, 8))\n",
    "# animator = animation.FuncAnimation(fig, draw_barchart, frames=range(g.day.values.min(), g.day.values.max()))\n",
    "# HTML(animator.to_jshtml())\n",
    "# # or use animator.to_html5_video() or animator.save() "
   ]
  },
  {
   "cell_type": "code",
   "execution_count": null,
   "id": "australian-container",
   "metadata": {
    "papermill": {
     "duration": 0.030591,
     "end_time": "2022-06-14T12:16:01.054224",
     "exception": false,
     "start_time": "2022-06-14T12:16:01.023633",
     "status": "completed"
    },
    "tags": []
   },
   "outputs": [],
   "source": []
  },
  {
   "cell_type": "code",
   "execution_count": null,
   "id": "mediterranean-pontiac",
   "metadata": {
    "papermill": {
     "duration": 0.030465,
     "end_time": "2022-06-14T12:16:01.115282",
     "exception": false,
     "start_time": "2022-06-14T12:16:01.084817",
     "status": "completed"
    },
    "tags": []
   },
   "outputs": [],
   "source": []
  },
  {
   "cell_type": "code",
   "execution_count": null,
   "id": "aging-legislature",
   "metadata": {
    "papermill": {
     "duration": 0.030357,
     "end_time": "2022-06-14T12:16:01.176304",
     "exception": false,
     "start_time": "2022-06-14T12:16:01.145947",
     "status": "completed"
    },
    "tags": []
   },
   "outputs": [],
   "source": []
  }
 ],
 "metadata": {
  "kernelspec": {
   "display_name": "Python 3",
   "language": "python",
   "name": "python3"
  },
  "language_info": {
   "codemirror_mode": {
    "name": "ipython",
    "version": 3
   },
   "file_extension": ".py",
   "mimetype": "text/x-python",
   "name": "python",
   "nbconvert_exporter": "python",
   "pygments_lexer": "ipython3",
   "version": "3.6.15"
  },
  "papermill": {
   "duration": 6.005627,
   "end_time": "2022-06-14T12:16:01.524131",
   "environment_variables": {},
   "exception": null,
   "input_path": "2020-03-21-covid19exp.ipynb",
   "output_path": "2020-03-21-covid19exp.ipynb",
   "parameters": {},
   "start_time": "2022-06-14T12:15:55.518504",
   "version": "2.0.0"
  }
 },
 "nbformat": 4,
 "nbformat_minor": 5
}