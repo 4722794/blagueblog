{
 "cells": [
  {
   "cell_type": "markdown",
   "id": "muslim-click",
   "metadata": {
    "papermill": {
     "duration": 0.044568,
     "end_time": "2022-04-14T12:15:56.840725",
     "exception": false,
     "start_time": "2022-04-14T12:15:56.796157",
     "status": "completed"
    },
    "tags": []
   },
   "source": [
    "# COVID-19 Case Race\n",
    "> A race chart to see rising cases around the world\n",
    "\n",
    "- author: Hargun Oberoi\n",
    "- image: images/covid-overview.png\n",
    "- hide: false\n",
    "- badges: false"
   ]
  },
  {
   "cell_type": "code",
   "execution_count": 1,
   "id": "proof-material",
   "metadata": {
    "execution": {
     "iopub.execute_input": "2022-04-14T12:15:56.938617Z",
     "iopub.status.busy": "2022-04-14T12:15:56.937873Z",
     "iopub.status.idle": "2022-04-14T12:15:57.373774Z",
     "shell.execute_reply": "2022-04-14T12:15:57.373158Z"
    },
    "papermill": {
     "duration": 0.492196,
     "end_time": "2022-04-14T12:15:57.373944",
     "exception": false,
     "start_time": "2022-04-14T12:15:56.881748",
     "status": "completed"
    },
    "tags": []
   },
   "outputs": [],
   "source": [
    "#hide\n",
    "import numpy as np\n",
    "import pandas as pd\n",
    "from jinja2 import Template\n",
    "from IPython.display import HTML"
   ]
  },
  {
   "cell_type": "code",
   "execution_count": 2,
   "id": "developed-terminology",
   "metadata": {
    "execution": {
     "iopub.execute_input": "2022-04-14T12:15:57.457090Z",
     "iopub.status.busy": "2022-04-14T12:15:57.456425Z",
     "iopub.status.idle": "2022-04-14T12:15:57.458532Z",
     "shell.execute_reply": "2022-04-14T12:15:57.459049Z"
    },
    "papermill": {
     "duration": 0.046878,
     "end_time": "2022-04-14T12:15:57.459210",
     "exception": false,
     "start_time": "2022-04-14T12:15:57.412332",
     "status": "completed"
    },
    "tags": []
   },
   "outputs": [],
   "source": [
    "#hide\n",
    "\n",
    "# FETCH\n",
    "base_url = 'https://raw.githubusercontent.com/pratapvardhan/notebooks/master/covid19/'\n",
    "paths = {\n",
    "    'mapping': base_url + 'mapping_countries.csv',\n",
    "    'overview': base_url + 'overview.tpl'\n",
    "}"
   ]
  },
  {
   "cell_type": "code",
   "execution_count": 3,
   "id": "dynamic-saver",
   "metadata": {
    "execution": {
     "iopub.execute_input": "2022-04-14T12:15:57.549552Z",
     "iopub.status.busy": "2022-04-14T12:15:57.548837Z",
     "iopub.status.idle": "2022-04-14T12:15:57.552609Z",
     "shell.execute_reply": "2022-04-14T12:15:57.551934Z"
    },
    "papermill": {
     "duration": 0.054791,
     "end_time": "2022-04-14T12:15:57.552784",
     "exception": false,
     "start_time": "2022-04-14T12:15:57.497993",
     "status": "completed"
    },
    "tags": []
   },
   "outputs": [
    {
     "data": {
      "text/plain": [
       "'https://raw.githubusercontent.com/pratapvardhan/notebooks/master/covid19/mapping_countries.csv'"
      ]
     },
     "execution_count": 3,
     "metadata": {},
     "output_type": "execute_result"
    }
   ],
   "source": [
    "#hide\n",
    "paths['mapping']"
   ]
  },
  {
   "cell_type": "code",
   "execution_count": 4,
   "id": "urban-software",
   "metadata": {
    "execution": {
     "iopub.execute_input": "2022-04-14T12:15:57.637810Z",
     "iopub.status.busy": "2022-04-14T12:15:57.637147Z",
     "iopub.status.idle": "2022-04-14T12:15:57.638953Z",
     "shell.execute_reply": "2022-04-14T12:15:57.639675Z"
    },
    "papermill": {
     "duration": 0.046706,
     "end_time": "2022-04-14T12:15:57.639826",
     "exception": false,
     "start_time": "2022-04-14T12:15:57.593120",
     "status": "completed"
    },
    "tags": []
   },
   "outputs": [],
   "source": [
    "#hide\n",
    "def get_mappings(url):\n",
    "    df = pd.read_csv(url)\n",
    "    return {\n",
    "        'df': df,\n",
    "        'replace.country': dict(df.dropna(subset=['Name']).set_index('Country')['Name']),\n",
    "        'map.continent': dict(df.set_index('Name')['Continent'])\n",
    "    }"
   ]
  },
  {
   "cell_type": "code",
   "execution_count": 5,
   "id": "intimate-machinery",
   "metadata": {
    "execution": {
     "iopub.execute_input": "2022-04-14T12:15:57.726580Z",
     "iopub.status.busy": "2022-04-14T12:15:57.725918Z",
     "iopub.status.idle": "2022-04-14T12:15:57.757575Z",
     "shell.execute_reply": "2022-04-14T12:15:57.758176Z"
    },
    "papermill": {
     "duration": 0.079109,
     "end_time": "2022-04-14T12:15:57.758354",
     "exception": false,
     "start_time": "2022-04-14T12:15:57.679245",
     "status": "completed"
    },
    "tags": []
   },
   "outputs": [],
   "source": [
    "#hide\n",
    "mapping = get_mappings(paths['mapping'])"
   ]
  },
  {
   "cell_type": "code",
   "execution_count": 6,
   "id": "certified-tactics",
   "metadata": {
    "execution": {
     "iopub.execute_input": "2022-04-14T12:15:57.844090Z",
     "iopub.status.busy": "2022-04-14T12:15:57.843144Z",
     "iopub.status.idle": "2022-04-14T12:15:57.847440Z",
     "shell.execute_reply": "2022-04-14T12:15:57.847933Z"
    },
    "papermill": {
     "duration": 0.049224,
     "end_time": "2022-04-14T12:15:57.848087",
     "exception": false,
     "start_time": "2022-04-14T12:15:57.798863",
     "status": "completed"
    },
    "tags": []
   },
   "outputs": [],
   "source": [
    "#hide\n",
    "def get_template(path):\n",
    "    from urllib.parse import urlparse\n",
    "    if bool(urlparse(path).netloc):\n",
    "        from urllib.request import urlopen\n",
    "        return urlopen(path).read().decode('utf8')\n",
    "    return open(path).read()"
   ]
  },
  {
   "cell_type": "code",
   "execution_count": 7,
   "id": "realistic-blast",
   "metadata": {
    "execution": {
     "iopub.execute_input": "2022-04-14T12:15:57.932929Z",
     "iopub.status.busy": "2022-04-14T12:15:57.932237Z",
     "iopub.status.idle": "2022-04-14T12:15:57.935630Z",
     "shell.execute_reply": "2022-04-14T12:15:57.934935Z"
    },
    "papermill": {
     "duration": 0.046795,
     "end_time": "2022-04-14T12:15:57.935769",
     "exception": false,
     "start_time": "2022-04-14T12:15:57.888974",
     "status": "completed"
    },
    "tags": []
   },
   "outputs": [],
   "source": [
    "#hide\n",
    "def get_frame(name):\n",
    "    url = (\n",
    "        'https://raw.githubusercontent.com/CSSEGISandData/COVID-19/master/csse_covid_19_data/'\n",
    "        f'csse_covid_19_time_series/time_series_covid19_{name}_global.csv')\n",
    "    df = pd.read_csv(url)\n",
    "    # rename countries\n",
    "    df['Country/Region'] = df['Country/Region'].replace(mapping['replace.country'])\n",
    "    return df"
   ]
  },
  {
   "cell_type": "code",
   "execution_count": 8,
   "id": "affiliated-characterization",
   "metadata": {
    "execution": {
     "iopub.execute_input": "2022-04-14T12:15:58.022776Z",
     "iopub.status.busy": "2022-04-14T12:15:58.021922Z",
     "iopub.status.idle": "2022-04-14T12:15:58.024825Z",
     "shell.execute_reply": "2022-04-14T12:15:58.024316Z"
    },
    "papermill": {
     "duration": 0.049099,
     "end_time": "2022-04-14T12:15:58.024956",
     "exception": false,
     "start_time": "2022-04-14T12:15:57.975857",
     "status": "completed"
    },
    "tags": []
   },
   "outputs": [],
   "source": [
    "#hide\n",
    "def get_dates(df):\n",
    "    dt_cols = df.columns[~df.columns.isin(['Province/State', 'Country/Region', 'Lat', 'Long'])]\n",
    "    LAST_DATE_I = -1\n",
    "    # sometimes last column may be empty, then go backwards\n",
    "    for i in range(-1, -len(dt_cols), -1):\n",
    "        if not df[dt_cols[i]].fillna(0).eq(0).all():\n",
    "            LAST_DATE_I = i\n",
    "            break\n",
    "    return LAST_DATE_I, dt_cols"
   ]
  },
  {
   "cell_type": "code",
   "execution_count": 9,
   "id": "recent-optimization",
   "metadata": {
    "execution": {
     "iopub.execute_input": "2022-04-14T12:15:58.112158Z",
     "iopub.status.busy": "2022-04-14T12:15:58.111381Z",
     "iopub.status.idle": "2022-04-14T12:15:58.557398Z",
     "shell.execute_reply": "2022-04-14T12:15:58.558104Z"
    },
    "papermill": {
     "duration": 0.49267,
     "end_time": "2022-04-14T12:15:58.558328",
     "exception": false,
     "start_time": "2022-04-14T12:15:58.065658",
     "status": "completed"
    },
    "tags": []
   },
   "outputs": [],
   "source": [
    "#hide\n",
    "COL_REGION = 'Country/Region'\n",
    "# Confirmed, Recovered, Deaths\n",
    "df = get_frame('confirmed')\n",
    "# dft_: timeseries, dfc_: today country agg\n",
    "dft_cases = df\n",
    "dft_deaths = get_frame('deaths')\n",
    "dft_recovered = get_frame('recovered')\n",
    "LAST_DATE_I, dt_cols = get_dates(df)"
   ]
  },
  {
   "cell_type": "code",
   "execution_count": 10,
   "id": "absolute-copper",
   "metadata": {
    "execution": {
     "iopub.execute_input": "2022-04-14T12:15:58.643729Z",
     "iopub.status.busy": "2022-04-14T12:15:58.643055Z",
     "iopub.status.idle": "2022-04-14T12:15:58.646899Z",
     "shell.execute_reply": "2022-04-14T12:15:58.646234Z"
    },
    "papermill": {
     "duration": 0.048662,
     "end_time": "2022-04-14T12:15:58.647046",
     "exception": false,
     "start_time": "2022-04-14T12:15:58.598384",
     "status": "completed"
    },
    "tags": []
   },
   "outputs": [],
   "source": [
    "#hide\n",
    "LAST_DATE_I, dt_cols = get_dates(df)\n",
    "dt_today =dt_cols[LAST_DATE_I]\n",
    "# dt_5day = dt_cols[LAST_DATE_I - 5]\n",
    "dt_yday = dt_cols[LAST_DATE_I - 1]"
   ]
  },
  {
   "cell_type": "code",
   "execution_count": 11,
   "id": "restricted-sheriff",
   "metadata": {
    "execution": {
     "iopub.execute_input": "2022-04-14T12:15:58.733796Z",
     "iopub.status.busy": "2022-04-14T12:15:58.733131Z",
     "iopub.status.idle": "2022-04-14T12:15:58.742810Z",
     "shell.execute_reply": "2022-04-14T12:15:58.743422Z"
    },
    "papermill": {
     "duration": 0.056167,
     "end_time": "2022-04-14T12:15:58.743564",
     "exception": false,
     "start_time": "2022-04-14T12:15:58.687397",
     "status": "completed"
    },
    "tags": []
   },
   "outputs": [],
   "source": [
    "#hide\n",
    "dfc_cases = dft_cases.groupby(COL_REGION)[dt_today].sum()\n",
    "dfc_deaths = dft_deaths.groupby(COL_REGION)[dt_today].sum()\n",
    "# dfp_cases = dft_cases.groupby(COL_REGION)[dt_5day].sum()\n",
    "# dfp_deaths = dft_deaths.groupby(COL_REGION)[dt_5day].sum()\n",
    "dfp_cases = dft_cases.groupby(COL_REGION)[dt_yday].sum()\n",
    "dfp_deaths = dft_deaths.groupby(COL_REGION)[dt_yday].sum()"
   ]
  },
  {
   "cell_type": "code",
   "execution_count": 12,
   "id": "deluxe-hepatitis",
   "metadata": {
    "execution": {
     "iopub.execute_input": "2022-04-14T12:15:58.828603Z",
     "iopub.status.busy": "2022-04-14T12:15:58.827833Z",
     "iopub.status.idle": "2022-04-14T12:15:58.833370Z",
     "shell.execute_reply": "2022-04-14T12:15:58.834100Z"
    },
    "papermill": {
     "duration": 0.051406,
     "end_time": "2022-04-14T12:15:58.834295",
     "exception": false,
     "start_time": "2022-04-14T12:15:58.782889",
     "status": "completed"
    },
    "tags": []
   },
   "outputs": [],
   "source": [
    "#hide\n",
    "df_table = (pd.DataFrame(dict(Cases = dfc_cases, Deaths = dfc_deaths, PCases = dfp_cases, PDeaths = dfp_deaths))\n",
    "            .sort_values(by = ['Cases','Deaths'], ascending = [False, False])\n",
    "            .reset_index())"
   ]
  },
  {
   "cell_type": "code",
   "execution_count": 13,
   "id": "educational-chancellor",
   "metadata": {
    "execution": {
     "iopub.execute_input": "2022-04-14T12:15:58.932836Z",
     "iopub.status.busy": "2022-04-14T12:15:58.932097Z",
     "iopub.status.idle": "2022-04-14T12:15:58.942094Z",
     "shell.execute_reply": "2022-04-14T12:15:58.942673Z"
    },
    "papermill": {
     "duration": 0.071673,
     "end_time": "2022-04-14T12:15:58.942828",
     "exception": false,
     "start_time": "2022-04-14T12:15:58.871155",
     "status": "completed"
    },
    "tags": []
   },
   "outputs": [
    {
     "data": {
      "text/html": [
       "<div>\n",
       "<style scoped>\n",
       "    .dataframe tbody tr th:only-of-type {\n",
       "        vertical-align: middle;\n",
       "    }\n",
       "\n",
       "    .dataframe tbody tr th {\n",
       "        vertical-align: top;\n",
       "    }\n",
       "\n",
       "    .dataframe thead th {\n",
       "        text-align: right;\n",
       "    }\n",
       "</style>\n",
       "<table border=\"1\" class=\"dataframe\">\n",
       "  <thead>\n",
       "    <tr style=\"text-align: right;\">\n",
       "      <th></th>\n",
       "      <th>Country/Region</th>\n",
       "      <th>Cases</th>\n",
       "      <th>Deaths</th>\n",
       "      <th>PCases</th>\n",
       "      <th>PDeaths</th>\n",
       "      <th>Cases (+)</th>\n",
       "      <th>Deaths (+)</th>\n",
       "      <th>Fatality Rate</th>\n",
       "      <th>Continent</th>\n",
       "    </tr>\n",
       "  </thead>\n",
       "  <tbody>\n",
       "    <tr>\n",
       "      <th>0</th>\n",
       "      <td>US</td>\n",
       "      <td>80518989</td>\n",
       "      <td>987343</td>\n",
       "      <td>80477797</td>\n",
       "      <td>986387</td>\n",
       "      <td>41192</td>\n",
       "      <td>956</td>\n",
       "      <td>1.23</td>\n",
       "      <td>North America</td>\n",
       "    </tr>\n",
       "    <tr>\n",
       "      <th>1</th>\n",
       "      <td>India</td>\n",
       "      <td>43039023</td>\n",
       "      <td>521737</td>\n",
       "      <td>43038016</td>\n",
       "      <td>521736</td>\n",
       "      <td>1007</td>\n",
       "      <td>1</td>\n",
       "      <td>1.21</td>\n",
       "      <td>Asia</td>\n",
       "    </tr>\n",
       "    <tr>\n",
       "      <th>2</th>\n",
       "      <td>Brazil</td>\n",
       "      <td>30210934</td>\n",
       "      <td>661904</td>\n",
       "      <td>30184286</td>\n",
       "      <td>661741</td>\n",
       "      <td>26648</td>\n",
       "      <td>163</td>\n",
       "      <td>2.19</td>\n",
       "      <td>South America</td>\n",
       "    </tr>\n",
       "    <tr>\n",
       "      <th>3</th>\n",
       "      <td>France</td>\n",
       "      <td>27499728</td>\n",
       "      <td>144814</td>\n",
       "      <td>27353225</td>\n",
       "      <td>144662</td>\n",
       "      <td>146503</td>\n",
       "      <td>152</td>\n",
       "      <td>0.53</td>\n",
       "      <td>Europe</td>\n",
       "    </tr>\n",
       "    <tr>\n",
       "      <th>4</th>\n",
       "      <td>Germany</td>\n",
       "      <td>23182447</td>\n",
       "      <td>132688</td>\n",
       "      <td>23017079</td>\n",
       "      <td>132378</td>\n",
       "      <td>165368</td>\n",
       "      <td>310</td>\n",
       "      <td>0.57</td>\n",
       "      <td>Europe</td>\n",
       "    </tr>\n",
       "  </tbody>\n",
       "</table>\n",
       "</div>"
      ],
      "text/plain": [
       "  Country/Region     Cases  Deaths    PCases  PDeaths  Cases (+)  Deaths (+)  \\\n",
       "0             US  80518989  987343  80477797   986387      41192         956   \n",
       "1          India  43039023  521737  43038016   521736       1007           1   \n",
       "2         Brazil  30210934  661904  30184286   661741      26648         163   \n",
       "3         France  27499728  144814  27353225   144662     146503         152   \n",
       "4        Germany  23182447  132688  23017079   132378     165368         310   \n",
       "\n",
       "   Fatality Rate      Continent  \n",
       "0           1.23  North America  \n",
       "1           1.21           Asia  \n",
       "2           2.19  South America  \n",
       "3           0.53         Europe  \n",
       "4           0.57         Europe  "
      ]
     },
     "execution_count": 13,
     "metadata": {},
     "output_type": "execute_result"
    }
   ],
   "source": [
    "#hide\n",
    "for c in 'Cases, Deaths'.split(', '):\n",
    "    df_table[f'{c} (+)'] = (df_table[c] - df_table[f'P{c}']).clip(0)\n",
    "    #Clip ça veut dire, les chiffres negatif sont interdit\n",
    "df_table['Fatality Rate'] = (100* df_table['Deaths']/ df_table['Cases']).round(2)\n",
    "df_table['Continent'] = df_table['Country/Region'].map(mapping['map.continent'])\n",
    "df_table.head(5)"
   ]
  },
  {
   "cell_type": "code",
   "execution_count": 14,
   "id": "aboriginal-bulgaria",
   "metadata": {
    "execution": {
     "iopub.execute_input": "2022-04-14T12:15:59.028004Z",
     "iopub.status.busy": "2022-04-14T12:15:59.027320Z",
     "iopub.status.idle": "2022-04-14T12:15:59.029297Z",
     "shell.execute_reply": "2022-04-14T12:15:59.029770Z"
    },
    "papermill": {
     "duration": 0.048237,
     "end_time": "2022-04-14T12:15:59.029919",
     "exception": false,
     "start_time": "2022-04-14T12:15:58.981682",
     "status": "completed"
    },
    "tags": []
   },
   "outputs": [],
   "source": [
    "#hide\n",
    "#delete problematic countries from table\n",
    "df_table = df_table[~df_table['Country/Region'].isin(['Cape Verde', 'Cruise Ship', 'Kosovo'])]"
   ]
  },
  {
   "cell_type": "code",
   "execution_count": 15,
   "id": "fantastic-effect",
   "metadata": {
    "execution": {
     "iopub.execute_input": "2022-04-14T12:15:59.119024Z",
     "iopub.status.busy": "2022-04-14T12:15:59.118365Z",
     "iopub.status.idle": "2022-04-14T12:15:59.141094Z",
     "shell.execute_reply": "2022-04-14T12:15:59.140569Z"
    },
    "papermill": {
     "duration": 0.071023,
     "end_time": "2022-04-14T12:15:59.141230",
     "exception": false,
     "start_time": "2022-04-14T12:15:59.070207",
     "status": "completed"
    },
    "tags": []
   },
   "outputs": [
    {
     "data": {
      "text/html": [
       "<div>\n",
       "<style scoped>\n",
       "    .dataframe tbody tr th:only-of-type {\n",
       "        vertical-align: middle;\n",
       "    }\n",
       "\n",
       "    .dataframe tbody tr th {\n",
       "        vertical-align: top;\n",
       "    }\n",
       "\n",
       "    .dataframe thead th {\n",
       "        text-align: right;\n",
       "    }\n",
       "</style>\n",
       "<table border=\"1\" class=\"dataframe\">\n",
       "  <thead>\n",
       "    <tr style=\"text-align: right;\">\n",
       "      <th></th>\n",
       "      <th>Country/Region</th>\n",
       "      <th>Cases</th>\n",
       "      <th>Deaths</th>\n",
       "      <th>PCases</th>\n",
       "      <th>PDeaths</th>\n",
       "      <th>Cases (+)</th>\n",
       "      <th>Deaths (+)</th>\n",
       "      <th>Fatality Rate</th>\n",
       "      <th>Continent</th>\n",
       "    </tr>\n",
       "  </thead>\n",
       "  <tbody>\n",
       "    <tr>\n",
       "      <th>0</th>\n",
       "      <td>US</td>\n",
       "      <td>80518989</td>\n",
       "      <td>987343</td>\n",
       "      <td>80477797</td>\n",
       "      <td>986387</td>\n",
       "      <td>41192</td>\n",
       "      <td>956</td>\n",
       "      <td>1.2</td>\n",
       "      <td>North America</td>\n",
       "    </tr>\n",
       "    <tr>\n",
       "      <th>1</th>\n",
       "      <td>India</td>\n",
       "      <td>43039023</td>\n",
       "      <td>521737</td>\n",
       "      <td>43038016</td>\n",
       "      <td>521736</td>\n",
       "      <td>1007</td>\n",
       "      <td>1</td>\n",
       "      <td>1.2</td>\n",
       "      <td>Asia</td>\n",
       "    </tr>\n",
       "    <tr>\n",
       "      <th>2</th>\n",
       "      <td>Brazil</td>\n",
       "      <td>30210934</td>\n",
       "      <td>661904</td>\n",
       "      <td>30184286</td>\n",
       "      <td>661741</td>\n",
       "      <td>26648</td>\n",
       "      <td>163</td>\n",
       "      <td>2.2</td>\n",
       "      <td>South America</td>\n",
       "    </tr>\n",
       "    <tr>\n",
       "      <th>3</th>\n",
       "      <td>France</td>\n",
       "      <td>27499728</td>\n",
       "      <td>144814</td>\n",
       "      <td>27353225</td>\n",
       "      <td>144662</td>\n",
       "      <td>146503</td>\n",
       "      <td>152</td>\n",
       "      <td>0.5</td>\n",
       "      <td>Europe</td>\n",
       "    </tr>\n",
       "    <tr>\n",
       "      <th>4</th>\n",
       "      <td>Germany</td>\n",
       "      <td>23182447</td>\n",
       "      <td>132688</td>\n",
       "      <td>23017079</td>\n",
       "      <td>132378</td>\n",
       "      <td>165368</td>\n",
       "      <td>310</td>\n",
       "      <td>0.6</td>\n",
       "      <td>Europe</td>\n",
       "    </tr>\n",
       "  </tbody>\n",
       "</table>\n",
       "</div>"
      ],
      "text/plain": [
       "  Country/Region     Cases  Deaths    PCases  PDeaths  Cases (+)  Deaths (+)  \\\n",
       "0             US  80518989  987343  80477797   986387      41192         956   \n",
       "1          India  43039023  521737  43038016   521736       1007           1   \n",
       "2         Brazil  30210934  661904  30184286   661741      26648         163   \n",
       "3         France  27499728  144814  27353225   144662     146503         152   \n",
       "4        Germany  23182447  132688  23017079   132378     165368         310   \n",
       "\n",
       "   Fatality Rate      Continent  \n",
       "0            1.2  North America  \n",
       "1            1.2           Asia  \n",
       "2            2.2  South America  \n",
       "3            0.5         Europe  \n",
       "4            0.6         Europe  "
      ]
     },
     "execution_count": 15,
     "metadata": {},
     "output_type": "execute_result"
    }
   ],
   "source": [
    "#hide\n",
    "df_table = (pd.DataFrame(dict(Cases=dfc_cases, Deaths=dfc_deaths, PCases=dfp_cases, PDeaths=dfp_deaths))\n",
    "             .sort_values(by=['Cases', 'Deaths'], ascending=[False, False])\n",
    "             .reset_index())\n",
    "df_table.rename(columns={'index': 'Country/Region'}, inplace=True)\n",
    "for c in 'Cases, Deaths'.split(', '):\n",
    "    df_table[f'{c} (+)'] = (df_table[c] - df_table[f'P{c}']).clip(0)  # DATA BUG\n",
    "df_table['Fatality Rate'] = (100 * df_table['Deaths'] / df_table['Cases']).round(1)\n",
    "df_table['Continent'] = df_table['Country/Region'].map(mapping['map.continent'])\n",
    "df_table.head(5)"
   ]
  },
  {
   "cell_type": "code",
   "execution_count": 16,
   "id": "fewer-occasion",
   "metadata": {
    "execution": {
     "iopub.execute_input": "2022-04-14T12:15:59.229335Z",
     "iopub.status.busy": "2022-04-14T12:15:59.228640Z",
     "iopub.status.idle": "2022-04-14T12:15:59.231881Z",
     "shell.execute_reply": "2022-04-14T12:15:59.231327Z"
    },
    "papermill": {
     "duration": 0.051686,
     "end_time": "2022-04-14T12:15:59.232010",
     "exception": false,
     "start_time": "2022-04-14T12:15:59.180324",
     "status": "completed"
    },
    "tags": []
   },
   "outputs": [],
   "source": [
    "#hide\n",
    "#delete problematic countries from table\n",
    "df_table = df_table[~df_table['Country/Region'].isin(['Cape Verde', 'Cruise Ship', 'Kosovo'])]"
   ]
  },
  {
   "cell_type": "code",
   "execution_count": 17,
   "id": "related-center",
   "metadata": {
    "execution": {
     "iopub.execute_input": "2022-04-14T12:15:59.326504Z",
     "iopub.status.busy": "2022-04-14T12:15:59.325807Z",
     "iopub.status.idle": "2022-04-14T12:15:59.341146Z",
     "shell.execute_reply": "2022-04-14T12:15:59.340473Z"
    },
    "papermill": {
     "duration": 0.06598,
     "end_time": "2022-04-14T12:15:59.341281",
     "exception": false,
     "start_time": "2022-04-14T12:15:59.275301",
     "status": "completed"
    },
    "tags": []
   },
   "outputs": [],
   "source": [
    "#hide\n",
    "metrics = [df_table.columns[index] for index in [1,2,5,6]]\n",
    "# s_china = df_table[df_table['Country/Region'].eq('China')][metrics].sum().add_prefix('China ')\n",
    "s_us = df_table[df_table['Country/Region'].eq('US')][metrics].sum().add_prefix('US ')\n",
    "s_eu = df_table[df_table['Continent'].eq('Europe')][metrics].sum().add_prefix('EU ')\n",
    "s_ind = df_table[df_table['Country/Region'].eq('India')][metrics].sum().add_prefix('India ')\n",
    "summary = {'updated': pd.to_datetime(dt_today), 'since': pd.to_datetime(dt_yday)}\n",
    "summary = {'updated': pd.to_datetime(dt_today), 'since': pd.to_datetime(dt_yday)}\n",
    "summary = {**summary, **df_table[metrics].sum(), **s_ind, **s_us, **s_eu}"
   ]
  },
  {
   "cell_type": "code",
   "execution_count": 18,
   "id": "engaging-syndrome",
   "metadata": {
    "execution": {
     "iopub.execute_input": "2022-04-14T12:15:59.429021Z",
     "iopub.status.busy": "2022-04-14T12:15:59.428393Z",
     "iopub.status.idle": "2022-04-14T12:15:59.447941Z",
     "shell.execute_reply": "2022-04-14T12:15:59.447382Z"
    },
    "papermill": {
     "duration": 0.065817,
     "end_time": "2022-04-14T12:15:59.448135",
     "exception": false,
     "start_time": "2022-04-14T12:15:59.382318",
     "status": "completed"
    },
    "tags": []
   },
   "outputs": [],
   "source": [
    "#hide\n",
    "dft_ct_new_cases = dft_cases.groupby(COL_REGION)[dt_cols].sum().diff(axis=1).fillna(0).astype(int)"
   ]
  },
  {
   "cell_type": "code",
   "execution_count": 19,
   "id": "neutral-assignment",
   "metadata": {
    "execution": {
     "iopub.execute_input": "2022-04-14T12:15:59.535028Z",
     "iopub.status.busy": "2022-04-14T12:15:59.534366Z",
     "iopub.status.idle": "2022-04-14T12:15:59.536794Z",
     "shell.execute_reply": "2022-04-14T12:15:59.536165Z"
    },
    "papermill": {
     "duration": 0.048864,
     "end_time": "2022-04-14T12:15:59.536918",
     "exception": false,
     "start_time": "2022-04-14T12:15:59.488054",
     "status": "completed"
    },
    "tags": []
   },
   "outputs": [],
   "source": [
    "#hide\n",
    "everydaycases = dft_ct_new_cases.cumsum(axis=1)"
   ]
  },
  {
   "cell_type": "code",
   "execution_count": 20,
   "id": "parliamentary-calgary",
   "metadata": {
    "execution": {
     "iopub.execute_input": "2022-04-14T12:15:59.627508Z",
     "iopub.status.busy": "2022-04-14T12:15:59.626785Z",
     "iopub.status.idle": "2022-04-14T12:16:00.444317Z",
     "shell.execute_reply": "2022-04-14T12:16:00.443749Z"
    },
    "papermill": {
     "duration": 0.867336,
     "end_time": "2022-04-14T12:16:00.444458",
     "exception": false,
     "start_time": "2022-04-14T12:15:59.577122",
     "status": "completed"
    },
    "tags": []
   },
   "outputs": [],
   "source": [
    "#hide\n",
    "import pandas as pd\n",
    "import matplotlib.pyplot as plt\n",
    "import matplotlib.ticker as ticker\n",
    "import matplotlib.animation as animation\n",
    "from IPython.display import HTML"
   ]
  },
  {
   "cell_type": "code",
   "execution_count": 21,
   "id": "lasting-extraction",
   "metadata": {
    "execution": {
     "iopub.execute_input": "2022-04-14T12:16:00.530800Z",
     "iopub.status.busy": "2022-04-14T12:16:00.530122Z",
     "iopub.status.idle": "2022-04-14T12:16:00.537206Z",
     "shell.execute_reply": "2022-04-14T12:16:00.537683Z"
    },
    "papermill": {
     "duration": 0.053966,
     "end_time": "2022-04-14T12:16:00.537839",
     "exception": false,
     "start_time": "2022-04-14T12:16:00.483873",
     "status": "completed"
    },
    "tags": []
   },
   "outputs": [],
   "source": [
    "#hide\n",
    "t = everydaycases.stack()"
   ]
  },
  {
   "cell_type": "code",
   "execution_count": 22,
   "id": "premier-sleeve",
   "metadata": {
    "execution": {
     "iopub.execute_input": "2022-04-14T12:16:00.621813Z",
     "iopub.status.busy": "2022-04-14T12:16:00.621180Z",
     "iopub.status.idle": "2022-04-14T12:16:00.633497Z",
     "shell.execute_reply": "2022-04-14T12:16:00.633001Z"
    },
    "papermill": {
     "duration": 0.056017,
     "end_time": "2022-04-14T12:16:00.633774",
     "exception": false,
     "start_time": "2022-04-14T12:16:00.577757",
     "status": "completed"
    },
    "tags": []
   },
   "outputs": [],
   "source": [
    "#hide\n",
    "g = t.reset_index(['Country/Region'])"
   ]
  },
  {
   "cell_type": "code",
   "execution_count": 23,
   "id": "distributed-pittsburgh",
   "metadata": {
    "execution": {
     "iopub.execute_input": "2022-04-14T12:16:00.716960Z",
     "iopub.status.busy": "2022-04-14T12:16:00.716040Z",
     "iopub.status.idle": "2022-04-14T12:16:00.721173Z",
     "shell.execute_reply": "2022-04-14T12:16:00.720560Z"
    },
    "papermill": {
     "duration": 0.049663,
     "end_time": "2022-04-14T12:16:00.721318",
     "exception": false,
     "start_time": "2022-04-14T12:16:00.671655",
     "status": "completed"
    },
    "tags": []
   },
   "outputs": [],
   "source": [
    "#hide\n",
    "g.index.name = 'date'"
   ]
  },
  {
   "cell_type": "code",
   "execution_count": 24,
   "id": "naked-donor",
   "metadata": {
    "execution": {
     "iopub.execute_input": "2022-04-14T12:16:00.807430Z",
     "iopub.status.busy": "2022-04-14T12:16:00.805714Z",
     "iopub.status.idle": "2022-04-14T12:16:00.808219Z",
     "shell.execute_reply": "2022-04-14T12:16:00.808772Z"
    },
    "papermill": {
     "duration": 0.047478,
     "end_time": "2022-04-14T12:16:00.808939",
     "exception": false,
     "start_time": "2022-04-14T12:16:00.761461",
     "status": "completed"
    },
    "tags": []
   },
   "outputs": [],
   "source": [
    "# #hide\n",
    "# g = g.reset_index(['date'])"
   ]
  },
  {
   "cell_type": "code",
   "execution_count": 25,
   "id": "incomplete-mustang",
   "metadata": {
    "execution": {
     "iopub.execute_input": "2022-04-14T12:16:00.902532Z",
     "iopub.status.busy": "2022-04-14T12:16:00.900824Z",
     "iopub.status.idle": "2022-04-14T12:16:00.903282Z",
     "shell.execute_reply": "2022-04-14T12:16:00.903840Z"
    },
    "papermill": {
     "duration": 0.05326,
     "end_time": "2022-04-14T12:16:00.903996",
     "exception": false,
     "start_time": "2022-04-14T12:16:00.850736",
     "status": "completed"
    },
    "tags": []
   },
   "outputs": [],
   "source": [
    "#hide\n",
    "# g.head()"
   ]
  },
  {
   "cell_type": "code",
   "execution_count": 26,
   "id": "specific-kruger",
   "metadata": {
    "execution": {
     "iopub.execute_input": "2022-04-14T12:16:00.989848Z",
     "iopub.status.busy": "2022-04-14T12:16:00.989093Z",
     "iopub.status.idle": "2022-04-14T12:16:00.993849Z",
     "shell.execute_reply": "2022-04-14T12:16:00.993273Z"
    },
    "papermill": {
     "duration": 0.048504,
     "end_time": "2022-04-14T12:16:00.994038",
     "exception": false,
     "start_time": "2022-04-14T12:16:00.945534",
     "status": "completed"
    },
    "tags": []
   },
   "outputs": [],
   "source": [
    "#hide\n",
    "# g.columns = ['date','country','cases']"
   ]
  },
  {
   "cell_type": "code",
   "execution_count": 27,
   "id": "tender-conversion",
   "metadata": {
    "execution": {
     "iopub.execute_input": "2022-04-14T12:16:01.088667Z",
     "iopub.status.busy": "2022-04-14T12:16:01.087977Z",
     "iopub.status.idle": "2022-04-14T12:16:01.090630Z",
     "shell.execute_reply": "2022-04-14T12:16:01.089889Z"
    },
    "papermill": {
     "duration": 0.051152,
     "end_time": "2022-04-14T12:16:01.090781",
     "exception": false,
     "start_time": "2022-04-14T12:16:01.039629",
     "status": "completed"
    },
    "tags": []
   },
   "outputs": [],
   "source": [
    "#hide\n",
    "# g['continent'] = g.country"
   ]
  },
  {
   "cell_type": "code",
   "execution_count": 28,
   "id": "substantial-wilderness",
   "metadata": {
    "execution": {
     "iopub.execute_input": "2022-04-14T12:16:01.180934Z",
     "iopub.status.busy": "2022-04-14T12:16:01.180206Z",
     "iopub.status.idle": "2022-04-14T12:16:01.183206Z",
     "shell.execute_reply": "2022-04-14T12:16:01.182608Z"
    },
    "papermill": {
     "duration": 0.048583,
     "end_time": "2022-04-14T12:16:01.183347",
     "exception": false,
     "start_time": "2022-04-14T12:16:01.134764",
     "status": "completed"
    },
    "tags": []
   },
   "outputs": [],
   "source": [
    "#hide\n",
    "# cols = list(g.columns.values)"
   ]
  },
  {
   "cell_type": "code",
   "execution_count": 29,
   "id": "solved-farming",
   "metadata": {
    "execution": {
     "iopub.execute_input": "2022-04-14T12:16:01.273704Z",
     "iopub.status.busy": "2022-04-14T12:16:01.272924Z",
     "iopub.status.idle": "2022-04-14T12:16:01.277136Z",
     "shell.execute_reply": "2022-04-14T12:16:01.277646Z"
    },
    "papermill": {
     "duration": 0.049855,
     "end_time": "2022-04-14T12:16:01.277797",
     "exception": false,
     "start_time": "2022-04-14T12:16:01.227942",
     "status": "completed"
    },
    "tags": []
   },
   "outputs": [],
   "source": [
    "#hide\n",
    "# cols.insert(0, cols.pop())"
   ]
  },
  {
   "cell_type": "code",
   "execution_count": 30,
   "id": "executed-adoption",
   "metadata": {
    "execution": {
     "iopub.execute_input": "2022-04-14T12:16:01.370485Z",
     "iopub.status.busy": "2022-04-14T12:16:01.369762Z",
     "iopub.status.idle": "2022-04-14T12:16:01.372579Z",
     "shell.execute_reply": "2022-04-14T12:16:01.371975Z"
    },
    "papermill": {
     "duration": 0.052542,
     "end_time": "2022-04-14T12:16:01.372736",
     "exception": false,
     "start_time": "2022-04-14T12:16:01.320194",
     "status": "completed"
    },
    "tags": []
   },
   "outputs": [],
   "source": [
    "#hide\n",
    "# g = g[cols]"
   ]
  },
  {
   "cell_type": "code",
   "execution_count": 31,
   "id": "subject-dublin",
   "metadata": {
    "execution": {
     "iopub.execute_input": "2022-04-14T12:16:01.462968Z",
     "iopub.status.busy": "2022-04-14T12:16:01.462227Z",
     "iopub.status.idle": "2022-04-14T12:16:01.464904Z",
     "shell.execute_reply": "2022-04-14T12:16:01.464195Z"
    },
    "papermill": {
     "duration": 0.049473,
     "end_time": "2022-04-14T12:16:01.465066",
     "exception": false,
     "start_time": "2022-04-14T12:16:01.415593",
     "status": "completed"
    },
    "tags": []
   },
   "outputs": [],
   "source": [
    "#hide\n",
    "# g['continent'] = g['continent'].map(mapping['map.continent'])"
   ]
  },
  {
   "cell_type": "code",
   "execution_count": 32,
   "id": "freelance-scout",
   "metadata": {
    "execution": {
     "iopub.execute_input": "2022-04-14T12:16:01.550640Z",
     "iopub.status.busy": "2022-04-14T12:16:01.549867Z",
     "iopub.status.idle": "2022-04-14T12:16:01.552522Z",
     "shell.execute_reply": "2022-04-14T12:16:01.551848Z"
    },
    "papermill": {
     "duration": 0.047304,
     "end_time": "2022-04-14T12:16:01.552666",
     "exception": false,
     "start_time": "2022-04-14T12:16:01.505362",
     "status": "completed"
    },
    "tags": []
   },
   "outputs": [],
   "source": [
    "#hide\n",
    "# g.head()"
   ]
  },
  {
   "cell_type": "code",
   "execution_count": 33,
   "id": "limited-engine",
   "metadata": {
    "execution": {
     "iopub.execute_input": "2022-04-14T12:16:01.640727Z",
     "iopub.status.busy": "2022-04-14T12:16:01.640021Z",
     "iopub.status.idle": "2022-04-14T12:16:01.643238Z",
     "shell.execute_reply": "2022-04-14T12:16:01.642645Z"
    },
    "papermill": {
     "duration": 0.049243,
     "end_time": "2022-04-14T12:16:01.643393",
     "exception": false,
     "start_time": "2022-04-14T12:16:01.594150",
     "status": "completed"
    },
    "tags": []
   },
   "outputs": [],
   "source": [
    "# hide\n",
    "# g['date'] = g['date'].astype('datetime64[ns]')"
   ]
  },
  {
   "cell_type": "code",
   "execution_count": 34,
   "id": "sophisticated-supervisor",
   "metadata": {
    "execution": {
     "iopub.execute_input": "2022-04-14T12:16:01.732024Z",
     "iopub.status.busy": "2022-04-14T12:16:01.729747Z",
     "iopub.status.idle": "2022-04-14T12:16:01.735216Z",
     "shell.execute_reply": "2022-04-14T12:16:01.734521Z"
    },
    "papermill": {
     "duration": 0.050764,
     "end_time": "2022-04-14T12:16:01.735379",
     "exception": false,
     "start_time": "2022-04-14T12:16:01.684615",
     "status": "completed"
    },
    "tags": []
   },
   "outputs": [],
   "source": [
    "#hide\n",
    "# g['date'] = g.date.dt.dayofyear"
   ]
  },
  {
   "cell_type": "code",
   "execution_count": 35,
   "id": "inside-dubai",
   "metadata": {
    "execution": {
     "iopub.execute_input": "2022-04-14T12:16:01.823957Z",
     "iopub.status.busy": "2022-04-14T12:16:01.823172Z",
     "iopub.status.idle": "2022-04-14T12:16:01.827194Z",
     "shell.execute_reply": "2022-04-14T12:16:01.827754Z"
    },
    "papermill": {
     "duration": 0.049582,
     "end_time": "2022-04-14T12:16:01.827906",
     "exception": false,
     "start_time": "2022-04-14T12:16:01.778324",
     "status": "completed"
    },
    "tags": []
   },
   "outputs": [],
   "source": [
    "#hide\n",
    "# g = g.rename(columns= {'continent':'group','country':'name','cases':'value'})"
   ]
  },
  {
   "cell_type": "code",
   "execution_count": 36,
   "id": "fleet-motorcycle",
   "metadata": {
    "execution": {
     "iopub.execute_input": "2022-04-14T12:16:01.912708Z",
     "iopub.status.busy": "2022-04-14T12:16:01.911716Z",
     "iopub.status.idle": "2022-04-14T12:16:01.914804Z",
     "shell.execute_reply": "2022-04-14T12:16:01.914247Z"
    },
    "papermill": {
     "duration": 0.045872,
     "end_time": "2022-04-14T12:16:01.914951",
     "exception": false,
     "start_time": "2022-04-14T12:16:01.869079",
     "status": "completed"
    },
    "tags": []
   },
   "outputs": [],
   "source": [
    "#hide\n",
    "# cols = ['name','group','day','value']"
   ]
  },
  {
   "cell_type": "code",
   "execution_count": 37,
   "id": "continued-sleeping",
   "metadata": {
    "execution": {
     "iopub.execute_input": "2022-04-14T12:16:02.001206Z",
     "iopub.status.busy": "2022-04-14T12:16:02.000554Z",
     "iopub.status.idle": "2022-04-14T12:16:02.003601Z",
     "shell.execute_reply": "2022-04-14T12:16:02.002815Z"
    },
    "papermill": {
     "duration": 0.047501,
     "end_time": "2022-04-14T12:16:02.003753",
     "exception": false,
     "start_time": "2022-04-14T12:16:01.956252",
     "status": "completed"
    },
    "tags": []
   },
   "outputs": [],
   "source": [
    "#hide\n",
    "# g.rename(columns= {'date':'day'},inplace = True)"
   ]
  },
  {
   "cell_type": "code",
   "execution_count": 38,
   "id": "major-fight",
   "metadata": {
    "execution": {
     "iopub.execute_input": "2022-04-14T12:16:02.088755Z",
     "iopub.status.busy": "2022-04-14T12:16:02.088005Z",
     "iopub.status.idle": "2022-04-14T12:16:02.092072Z",
     "shell.execute_reply": "2022-04-14T12:16:02.092631Z"
    },
    "papermill": {
     "duration": 0.048871,
     "end_time": "2022-04-14T12:16:02.092788",
     "exception": false,
     "start_time": "2022-04-14T12:16:02.043917",
     "status": "completed"
    },
    "tags": []
   },
   "outputs": [],
   "source": [
    "#hide\n",
    "# g = g[cols]"
   ]
  },
  {
   "cell_type": "code",
   "execution_count": 39,
   "id": "structured-mobile",
   "metadata": {
    "execution": {
     "iopub.execute_input": "2022-04-14T12:16:02.181034Z",
     "iopub.status.busy": "2022-04-14T12:16:02.180347Z",
     "iopub.status.idle": "2022-04-14T12:16:02.182372Z",
     "shell.execute_reply": "2022-04-14T12:16:02.182912Z"
    },
    "papermill": {
     "duration": 0.049178,
     "end_time": "2022-04-14T12:16:02.183107",
     "exception": false,
     "start_time": "2022-04-14T12:16:02.133929",
     "status": "completed"
    },
    "tags": []
   },
   "outputs": [],
   "source": [
    "# #hide\n",
    "# g = g[g.group.notna()]"
   ]
  },
  {
   "cell_type": "code",
   "execution_count": 40,
   "id": "determined-closing",
   "metadata": {
    "execution": {
     "iopub.execute_input": "2022-04-14T12:16:02.270258Z",
     "iopub.status.busy": "2022-04-14T12:16:02.269496Z",
     "iopub.status.idle": "2022-04-14T12:16:02.273640Z",
     "shell.execute_reply": "2022-04-14T12:16:02.273098Z"
    },
    "papermill": {
     "duration": 0.049693,
     "end_time": "2022-04-14T12:16:02.273786",
     "exception": false,
     "start_time": "2022-04-14T12:16:02.224093",
     "status": "completed"
    },
    "tags": []
   },
   "outputs": [],
   "source": [
    "# #hide\n",
    "# colors = dict(zip(\n",
    "#     [\"Oceania\", \"Europe\", \"Asia\", \"South America\", \"Middle East\", \"North America\", \"Africa\"],\n",
    "#     [\"#adb0ff\", \"#ffb3ff\", \"#90d595\", \"#e48381\", \"#aafbff\", \"#f7bb5f\", \"#eafb50\"]\n",
    "# ))\n",
    "# group_lk = g.set_index('name')['group'].to_dict()"
   ]
  },
  {
   "cell_type": "code",
   "execution_count": null,
   "id": "gross-drinking",
   "metadata": {
    "papermill": {
     "duration": 0.039658,
     "end_time": "2022-04-14T12:16:02.351921",
     "exception": false,
     "start_time": "2022-04-14T12:16:02.312263",
     "status": "completed"
    },
    "tags": []
   },
   "outputs": [],
   "source": []
  },
  {
   "cell_type": "code",
   "execution_count": 41,
   "id": "subject-macintosh",
   "metadata": {
    "execution": {
     "iopub.execute_input": "2022-04-14T12:16:02.438510Z",
     "iopub.status.busy": "2022-04-14T12:16:02.437774Z",
     "iopub.status.idle": "2022-04-14T12:16:02.440902Z",
     "shell.execute_reply": "2022-04-14T12:16:02.439646Z"
    },
    "papermill": {
     "duration": 0.048797,
     "end_time": "2022-04-14T12:16:02.441168",
     "exception": false,
     "start_time": "2022-04-14T12:16:02.392371",
     "status": "completed"
    },
    "tags": []
   },
   "outputs": [],
   "source": [
    "# #hide\n",
    "# fig, ax = plt.subplots(figsize=(15, 8))\n",
    "\n",
    "# def draw_barchart(current_day):\n",
    "#     dff = g[g['day'].eq(current_day)].sort_values(by='value', ascending=True).tail(10)\n",
    "#     ax.clear()\n",
    "#     ax.barh(dff['name'], dff['value'], color=[colors[group_lk[x]] for x in dff['name']])\n",
    "#     dx = dff['value'].max() / 200\n",
    "    \n",
    "#     for i, (value, name) in enumerate(zip(dff['value'], dff['name'])):\n",
    "#         ax.text(value-dx, i,     name,           size=14, weight=600, ha='right', va='bottom')\n",
    "#         ax.text(value-dx, i-.25, group_lk[name], size=10, color='#444444', ha='right', va='baseline')\n",
    "#         ax.text(value+dx, i,     f'{value:,.0f}',  size=14, ha='left',  va='center')\n",
    "#     ax.text(1, 0.4, current_day, transform=ax.transAxes, color='#777777', size=46, ha='right', weight=800)\n",
    "#     ax.text(0, 1.06, 'Population (thousands)', transform=ax.transAxes, size=12, color='#777777')\n",
    "#     ax.xaxis.set_major_formatter(ticker.StrMethodFormatter('{x:,.0f}'))\n",
    "#     ax.xaxis.set_ticks_position('top')\n",
    "#     ax.tick_params(axis='x', colors='#777777', labelsize=12)\n",
    "#     ax.set_yticks([])\n",
    "#     ax.margins(0, 0.01)\n",
    "#     ax.grid(which='major', axis='x', linestyle='-')\n",
    "#     ax.set_axisbelow(True)\n",
    "    \n",
    "#     ax.text(0, 1.15, 'Coronavirus',\n",
    "#             transform=ax.transAxes, size=24, weight=600, ha='left', va='top')\n",
    "# #     ax.text(1, 0, 'by @pratapvardhan; credit @jburnmurdoch', transform=ax.transAxes, color='#777777', ha='right',\n",
    "# #             bbox=dict(facecolor='white', alpha=0.8, edgecolor='white'))\n",
    "#     plt.box(False)"
   ]
  },
  {
   "cell_type": "code",
   "execution_count": 42,
   "id": "sexual-wages",
   "metadata": {
    "execution": {
     "iopub.execute_input": "2022-04-14T12:16:02.528249Z",
     "iopub.status.busy": "2022-04-14T12:16:02.527535Z",
     "iopub.status.idle": "2022-04-14T12:16:02.530049Z",
     "shell.execute_reply": "2022-04-14T12:16:02.529394Z"
    },
    "papermill": {
     "duration": 0.046215,
     "end_time": "2022-04-14T12:16:02.530197",
     "exception": false,
     "start_time": "2022-04-14T12:16:02.483982",
     "status": "completed"
    },
    "tags": []
   },
   "outputs": [],
   "source": [
    "# #hide_input\n",
    "# fig, ax = plt.subplots(figsize=(15, 8))\n",
    "# animator = animation.FuncAnimation(fig, draw_barchart, frames=range(g.day.values.min(), g.day.values.max()))\n",
    "# HTML(animator.to_jshtml())\n",
    "# # or use animator.to_html5_video() or animator.save() "
   ]
  },
  {
   "cell_type": "code",
   "execution_count": null,
   "id": "australian-container",
   "metadata": {
    "papermill": {
     "duration": 0.03873,
     "end_time": "2022-04-14T12:16:02.610155",
     "exception": false,
     "start_time": "2022-04-14T12:16:02.571425",
     "status": "completed"
    },
    "tags": []
   },
   "outputs": [],
   "source": []
  },
  {
   "cell_type": "code",
   "execution_count": null,
   "id": "mediterranean-pontiac",
   "metadata": {
    "papermill": {
     "duration": 0.039151,
     "end_time": "2022-04-14T12:16:02.689399",
     "exception": false,
     "start_time": "2022-04-14T12:16:02.650248",
     "status": "completed"
    },
    "tags": []
   },
   "outputs": [],
   "source": []
  },
  {
   "cell_type": "code",
   "execution_count": null,
   "id": "aging-legislature",
   "metadata": {
    "papermill": {
     "duration": 0.039897,
     "end_time": "2022-04-14T12:16:02.768692",
     "exception": false,
     "start_time": "2022-04-14T12:16:02.728795",
     "status": "completed"
    },
    "tags": []
   },
   "outputs": [],
   "source": []
  }
 ],
 "metadata": {
  "kernelspec": {
   "display_name": "Python 3",
   "language": "python",
   "name": "python3"
  },
  "language_info": {
   "codemirror_mode": {
    "name": "ipython",
    "version": 3
   },
   "file_extension": ".py",
   "mimetype": "text/x-python",
   "name": "python",
   "nbconvert_exporter": "python",
   "pygments_lexer": "ipython3",
   "version": "3.6.15"
  },
  "papermill": {
   "duration": 7.695895,
   "end_time": "2022-04-14T12:16:03.228538",
   "environment_variables": {},
   "exception": null,
   "input_path": "2020-03-21-covid19exp.ipynb",
   "output_path": "2020-03-21-covid19exp.ipynb",
   "parameters": {},
   "start_time": "2022-04-14T12:15:55.532643",
   "version": "2.0.0"
  }
 },
 "nbformat": 4,
 "nbformat_minor": 5
}