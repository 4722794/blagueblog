{
 "cells": [
  {
   "cell_type": "markdown",
   "id": "muslim-click",
   "metadata": {
    "papermill": {
     "duration": 0.042193,
     "end_time": "2021-06-13T00:22:21.709953",
     "exception": false,
     "start_time": "2021-06-13T00:22:21.667760",
     "status": "completed"
    },
    "tags": []
   },
   "source": [
    "# COVID-19 Case Race\n",
    "> A race chart to see rising cases around the world\n",
    "\n",
    "- author: Hargun Oberoi\n",
    "- image: images/covid-overview.png\n",
    "- hide: false\n",
    "- badges: false"
   ]
  },
  {
   "cell_type": "code",
   "execution_count": 1,
   "id": "proof-material",
   "metadata": {
    "execution": {
     "iopub.execute_input": "2021-06-13T00:22:21.793276Z",
     "iopub.status.busy": "2021-06-13T00:22:21.788350Z",
     "iopub.status.idle": "2021-06-13T00:22:22.169947Z",
     "shell.execute_reply": "2021-06-13T00:22:22.168793Z"
    },
    "papermill": {
     "duration": 0.424695,
     "end_time": "2021-06-13T00:22:22.170109",
     "exception": false,
     "start_time": "2021-06-13T00:22:21.745414",
     "status": "completed"
    },
    "tags": []
   },
   "outputs": [],
   "source": [
    "#hide\n",
    "import numpy as np\n",
    "import pandas as pd\n",
    "from jinja2 import Template\n",
    "from IPython.display import HTML"
   ]
  },
  {
   "cell_type": "code",
   "execution_count": 2,
   "id": "developed-terminology",
   "metadata": {
    "execution": {
     "iopub.execute_input": "2021-06-13T00:22:22.245649Z",
     "iopub.status.busy": "2021-06-13T00:22:22.244733Z",
     "iopub.status.idle": "2021-06-13T00:22:22.246282Z",
     "shell.execute_reply": "2021-06-13T00:22:22.246754Z"
    },
    "papermill": {
     "duration": 0.041887,
     "end_time": "2021-06-13T00:22:22.246894",
     "exception": false,
     "start_time": "2021-06-13T00:22:22.205007",
     "status": "completed"
    },
    "tags": []
   },
   "outputs": [],
   "source": [
    "#hide\n",
    "\n",
    "# FETCH\n",
    "base_url = 'https://raw.githubusercontent.com/pratapvardhan/notebooks/master/covid19/'\n",
    "paths = {\n",
    "    'mapping': base_url + 'mapping_countries.csv',\n",
    "    'overview': base_url + 'overview.tpl'\n",
    "}"
   ]
  },
  {
   "cell_type": "code",
   "execution_count": 3,
   "id": "dynamic-saver",
   "metadata": {
    "execution": {
     "iopub.execute_input": "2021-06-13T00:22:22.330023Z",
     "iopub.status.busy": "2021-06-13T00:22:22.325017Z",
     "iopub.status.idle": "2021-06-13T00:22:22.333632Z",
     "shell.execute_reply": "2021-06-13T00:22:22.333125Z"
    },
    "papermill": {
     "duration": 0.051992,
     "end_time": "2021-06-13T00:22:22.333752",
     "exception": false,
     "start_time": "2021-06-13T00:22:22.281760",
     "status": "completed"
    },
    "tags": []
   },
   "outputs": [
    {
     "data": {
      "text/plain": [
       "'https://raw.githubusercontent.com/pratapvardhan/notebooks/master/covid19/mapping_countries.csv'"
      ]
     },
     "execution_count": 3,
     "metadata": {},
     "output_type": "execute_result"
    }
   ],
   "source": [
    "#hide\n",
    "paths['mapping']"
   ]
  },
  {
   "cell_type": "code",
   "execution_count": 4,
   "id": "urban-software",
   "metadata": {
    "execution": {
     "iopub.execute_input": "2021-06-13T00:22:22.411367Z",
     "iopub.status.busy": "2021-06-13T00:22:22.410733Z",
     "iopub.status.idle": "2021-06-13T00:22:22.412554Z",
     "shell.execute_reply": "2021-06-13T00:22:22.413004Z"
    },
    "papermill": {
     "duration": 0.044281,
     "end_time": "2021-06-13T00:22:22.413144",
     "exception": false,
     "start_time": "2021-06-13T00:22:22.368863",
     "status": "completed"
    },
    "tags": []
   },
   "outputs": [],
   "source": [
    "#hide\n",
    "def get_mappings(url):\n",
    "    df = pd.read_csv(url)\n",
    "    return {\n",
    "        'df': df,\n",
    "        'replace.country': dict(df.dropna(subset=['Name']).set_index('Country')['Name']),\n",
    "        'map.continent': dict(df.set_index('Name')['Continent'])\n",
    "    }"
   ]
  },
  {
   "cell_type": "code",
   "execution_count": 5,
   "id": "intimate-machinery",
   "metadata": {
    "execution": {
     "iopub.execute_input": "2021-06-13T00:22:22.490954Z",
     "iopub.status.busy": "2021-06-13T00:22:22.490356Z",
     "iopub.status.idle": "2021-06-13T00:22:22.522119Z",
     "shell.execute_reply": "2021-06-13T00:22:22.521353Z"
    },
    "papermill": {
     "duration": 0.074267,
     "end_time": "2021-06-13T00:22:22.522308",
     "exception": false,
     "start_time": "2021-06-13T00:22:22.448041",
     "status": "completed"
    },
    "tags": []
   },
   "outputs": [],
   "source": [
    "#hide\n",
    "mapping = get_mappings(paths['mapping'])"
   ]
  },
  {
   "cell_type": "code",
   "execution_count": 6,
   "id": "certified-tactics",
   "metadata": {
    "execution": {
     "iopub.execute_input": "2021-06-13T00:22:22.600734Z",
     "iopub.status.busy": "2021-06-13T00:22:22.600125Z",
     "iopub.status.idle": "2021-06-13T00:22:22.601942Z",
     "shell.execute_reply": "2021-06-13T00:22:22.602454Z"
    },
    "papermill": {
     "duration": 0.04222,
     "end_time": "2021-06-13T00:22:22.602592",
     "exception": false,
     "start_time": "2021-06-13T00:22:22.560372",
     "status": "completed"
    },
    "tags": []
   },
   "outputs": [],
   "source": [
    "#hide\n",
    "def get_template(path):\n",
    "    from urllib.parse import urlparse\n",
    "    if bool(urlparse(path).netloc):\n",
    "        from urllib.request import urlopen\n",
    "        return urlopen(path).read().decode('utf8')\n",
    "    return open(path).read()"
   ]
  },
  {
   "cell_type": "code",
   "execution_count": 7,
   "id": "realistic-blast",
   "metadata": {
    "execution": {
     "iopub.execute_input": "2021-06-13T00:22:22.679604Z",
     "iopub.status.busy": "2021-06-13T00:22:22.678974Z",
     "iopub.status.idle": "2021-06-13T00:22:22.681406Z",
     "shell.execute_reply": "2021-06-13T00:22:22.681975Z"
    },
    "papermill": {
     "duration": 0.044519,
     "end_time": "2021-06-13T00:22:22.682111",
     "exception": false,
     "start_time": "2021-06-13T00:22:22.637592",
     "status": "completed"
    },
    "tags": []
   },
   "outputs": [],
   "source": [
    "#hide\n",
    "def get_frame(name):\n",
    "    url = (\n",
    "        'https://raw.githubusercontent.com/CSSEGISandData/COVID-19/master/csse_covid_19_data/'\n",
    "        f'csse_covid_19_time_series/time_series_covid19_{name}_global.csv')\n",
    "    df = pd.read_csv(url)\n",
    "    # rename countries\n",
    "    df['Country/Region'] = df['Country/Region'].replace(mapping['replace.country'])\n",
    "    return df"
   ]
  },
  {
   "cell_type": "code",
   "execution_count": 8,
   "id": "affiliated-characterization",
   "metadata": {
    "execution": {
     "iopub.execute_input": "2021-06-13T00:22:22.760625Z",
     "iopub.status.busy": "2021-06-13T00:22:22.760017Z",
     "iopub.status.idle": "2021-06-13T00:22:22.762411Z",
     "shell.execute_reply": "2021-06-13T00:22:22.762979Z"
    },
    "papermill": {
     "duration": 0.046084,
     "end_time": "2021-06-13T00:22:22.763148",
     "exception": false,
     "start_time": "2021-06-13T00:22:22.717064",
     "status": "completed"
    },
    "tags": []
   },
   "outputs": [],
   "source": [
    "#hide\n",
    "def get_dates(df):\n",
    "    dt_cols = df.columns[~df.columns.isin(['Province/State', 'Country/Region', 'Lat', 'Long'])]\n",
    "    LAST_DATE_I = -1\n",
    "    # sometimes last column may be empty, then go backwards\n",
    "    for i in range(-1, -len(dt_cols), -1):\n",
    "        if not df[dt_cols[i]].fillna(0).eq(0).all():\n",
    "            LAST_DATE_I = i\n",
    "            break\n",
    "    return LAST_DATE_I, dt_cols"
   ]
  },
  {
   "cell_type": "code",
   "execution_count": 9,
   "id": "recent-optimization",
   "metadata": {
    "execution": {
     "iopub.execute_input": "2021-06-13T00:22:22.839141Z",
     "iopub.status.busy": "2021-06-13T00:22:22.838127Z",
     "iopub.status.idle": "2021-06-13T00:22:23.169530Z",
     "shell.execute_reply": "2021-06-13T00:22:23.168971Z"
    },
    "papermill": {
     "duration": 0.371905,
     "end_time": "2021-06-13T00:22:23.169662",
     "exception": false,
     "start_time": "2021-06-13T00:22:22.797757",
     "status": "completed"
    },
    "tags": []
   },
   "outputs": [],
   "source": [
    "#hide\n",
    "COL_REGION = 'Country/Region'\n",
    "# Confirmed, Recovered, Deaths\n",
    "df = get_frame('confirmed')\n",
    "# dft_: timeseries, dfc_: today country agg\n",
    "dft_cases = df\n",
    "dft_deaths = get_frame('deaths')\n",
    "dft_recovered = get_frame('recovered')\n",
    "LAST_DATE_I, dt_cols = get_dates(df)"
   ]
  },
  {
   "cell_type": "code",
   "execution_count": 10,
   "id": "absolute-copper",
   "metadata": {
    "execution": {
     "iopub.execute_input": "2021-06-13T00:22:23.247380Z",
     "iopub.status.busy": "2021-06-13T00:22:23.246750Z",
     "iopub.status.idle": "2021-06-13T00:22:23.249073Z",
     "shell.execute_reply": "2021-06-13T00:22:23.249641Z"
    },
    "papermill": {
     "duration": 0.044933,
     "end_time": "2021-06-13T00:22:23.249786",
     "exception": false,
     "start_time": "2021-06-13T00:22:23.204853",
     "status": "completed"
    },
    "tags": []
   },
   "outputs": [],
   "source": [
    "#hide\n",
    "LAST_DATE_I, dt_cols = get_dates(df)\n",
    "dt_today =dt_cols[LAST_DATE_I]\n",
    "# dt_5day = dt_cols[LAST_DATE_I - 5]\n",
    "dt_yday = dt_cols[LAST_DATE_I - 1]"
   ]
  },
  {
   "cell_type": "code",
   "execution_count": 11,
   "id": "restricted-sheriff",
   "metadata": {
    "execution": {
     "iopub.execute_input": "2021-06-13T00:22:23.327201Z",
     "iopub.status.busy": "2021-06-13T00:22:23.326568Z",
     "iopub.status.idle": "2021-06-13T00:22:23.336042Z",
     "shell.execute_reply": "2021-06-13T00:22:23.335561Z"
    },
    "papermill": {
     "duration": 0.051677,
     "end_time": "2021-06-13T00:22:23.336164",
     "exception": false,
     "start_time": "2021-06-13T00:22:23.284487",
     "status": "completed"
    },
    "tags": []
   },
   "outputs": [],
   "source": [
    "#hide\n",
    "dfc_cases = dft_cases.groupby(COL_REGION)[dt_today].sum()\n",
    "dfc_deaths = dft_deaths.groupby(COL_REGION)[dt_today].sum()\n",
    "# dfp_cases = dft_cases.groupby(COL_REGION)[dt_5day].sum()\n",
    "# dfp_deaths = dft_deaths.groupby(COL_REGION)[dt_5day].sum()\n",
    "dfp_cases = dft_cases.groupby(COL_REGION)[dt_yday].sum()\n",
    "dfp_deaths = dft_deaths.groupby(COL_REGION)[dt_yday].sum()"
   ]
  },
  {
   "cell_type": "code",
   "execution_count": 12,
   "id": "deluxe-hepatitis",
   "metadata": {
    "execution": {
     "iopub.execute_input": "2021-06-13T00:22:23.413464Z",
     "iopub.status.busy": "2021-06-13T00:22:23.411633Z",
     "iopub.status.idle": "2021-06-13T00:22:23.418649Z",
     "shell.execute_reply": "2021-06-13T00:22:23.418139Z"
    },
    "papermill": {
     "duration": 0.047747,
     "end_time": "2021-06-13T00:22:23.418767",
     "exception": false,
     "start_time": "2021-06-13T00:22:23.371020",
     "status": "completed"
    },
    "tags": []
   },
   "outputs": [],
   "source": [
    "#hide\n",
    "df_table = (pd.DataFrame(dict(Cases = dfc_cases, Deaths = dfc_deaths, PCases = dfp_cases, PDeaths = dfp_deaths))\n",
    "            .sort_values(by = ['Cases','Deaths'], ascending = [False, False])\n",
    "            .reset_index())"
   ]
  },
  {
   "cell_type": "code",
   "execution_count": 13,
   "id": "educational-chancellor",
   "metadata": {
    "execution": {
     "iopub.execute_input": "2021-06-13T00:22:23.506964Z",
     "iopub.status.busy": "2021-06-13T00:22:23.505348Z",
     "iopub.status.idle": "2021-06-13T00:22:23.517401Z",
     "shell.execute_reply": "2021-06-13T00:22:23.517884Z"
    },
    "papermill": {
     "duration": 0.064638,
     "end_time": "2021-06-13T00:22:23.518015",
     "exception": false,
     "start_time": "2021-06-13T00:22:23.453377",
     "status": "completed"
    },
    "tags": []
   },
   "outputs": [
    {
     "data": {
      "text/html": [
       "<div>\n",
       "<style scoped>\n",
       "    .dataframe tbody tr th:only-of-type {\n",
       "        vertical-align: middle;\n",
       "    }\n",
       "\n",
       "    .dataframe tbody tr th {\n",
       "        vertical-align: top;\n",
       "    }\n",
       "\n",
       "    .dataframe thead th {\n",
       "        text-align: right;\n",
       "    }\n",
       "</style>\n",
       "<table border=\"1\" class=\"dataframe\">\n",
       "  <thead>\n",
       "    <tr style=\"text-align: right;\">\n",
       "      <th></th>\n",
       "      <th>Country/Region</th>\n",
       "      <th>Cases</th>\n",
       "      <th>Deaths</th>\n",
       "      <th>PCases</th>\n",
       "      <th>PDeaths</th>\n",
       "      <th>Cases (+)</th>\n",
       "      <th>Deaths (+)</th>\n",
       "      <th>Fatality Rate</th>\n",
       "      <th>Continent</th>\n",
       "    </tr>\n",
       "  </thead>\n",
       "  <tbody>\n",
       "    <tr>\n",
       "      <th>0</th>\n",
       "      <td>US</td>\n",
       "      <td>33449200</td>\n",
       "      <td>599472</td>\n",
       "      <td>33424296</td>\n",
       "      <td>598756</td>\n",
       "      <td>24904</td>\n",
       "      <td>716</td>\n",
       "      <td>1.79</td>\n",
       "      <td>North America</td>\n",
       "    </tr>\n",
       "    <tr>\n",
       "      <th>1</th>\n",
       "      <td>India</td>\n",
       "      <td>29359155</td>\n",
       "      <td>367081</td>\n",
       "      <td>29274823</td>\n",
       "      <td>363079</td>\n",
       "      <td>84332</td>\n",
       "      <td>4002</td>\n",
       "      <td>1.25</td>\n",
       "      <td>Asia</td>\n",
       "    </tr>\n",
       "    <tr>\n",
       "      <th>2</th>\n",
       "      <td>Brazil</td>\n",
       "      <td>17296118</td>\n",
       "      <td>484235</td>\n",
       "      <td>17210969</td>\n",
       "      <td>482019</td>\n",
       "      <td>85149</td>\n",
       "      <td>2216</td>\n",
       "      <td>2.80</td>\n",
       "      <td>South America</td>\n",
       "    </tr>\n",
       "    <tr>\n",
       "      <th>3</th>\n",
       "      <td>France</td>\n",
       "      <td>5795487</td>\n",
       "      <td>110506</td>\n",
       "      <td>5791608</td>\n",
       "      <td>110432</td>\n",
       "      <td>3879</td>\n",
       "      <td>74</td>\n",
       "      <td>1.91</td>\n",
       "      <td>Europe</td>\n",
       "    </tr>\n",
       "    <tr>\n",
       "      <th>4</th>\n",
       "      <td>Turkey</td>\n",
       "      <td>5319359</td>\n",
       "      <td>48593</td>\n",
       "      <td>5313098</td>\n",
       "      <td>48524</td>\n",
       "      <td>6261</td>\n",
       "      <td>69</td>\n",
       "      <td>0.91</td>\n",
       "      <td>Asia</td>\n",
       "    </tr>\n",
       "  </tbody>\n",
       "</table>\n",
       "</div>"
      ],
      "text/plain": [
       "  Country/Region     Cases  Deaths    PCases  PDeaths  Cases (+)  Deaths (+)  \\\n",
       "0             US  33449200  599472  33424296   598756      24904         716   \n",
       "1          India  29359155  367081  29274823   363079      84332        4002   \n",
       "2         Brazil  17296118  484235  17210969   482019      85149        2216   \n",
       "3         France   5795487  110506   5791608   110432       3879          74   \n",
       "4         Turkey   5319359   48593   5313098    48524       6261          69   \n",
       "\n",
       "   Fatality Rate      Continent  \n",
       "0           1.79  North America  \n",
       "1           1.25           Asia  \n",
       "2           2.80  South America  \n",
       "3           1.91         Europe  \n",
       "4           0.91           Asia  "
      ]
     },
     "execution_count": 13,
     "metadata": {},
     "output_type": "execute_result"
    }
   ],
   "source": [
    "#hide\n",
    "for c in 'Cases, Deaths'.split(', '):\n",
    "    df_table[f'{c} (+)'] = (df_table[c] - df_table[f'P{c}']).clip(0)\n",
    "    #Clip ça veut dire, les chiffres negatif sont interdit\n",
    "df_table['Fatality Rate'] = (100* df_table['Deaths']/ df_table['Cases']).round(2)\n",
    "df_table['Continent'] = df_table['Country/Region'].map(mapping['map.continent'])\n",
    "df_table.head(5)"
   ]
  },
  {
   "cell_type": "code",
   "execution_count": 14,
   "id": "aboriginal-bulgaria",
   "metadata": {
    "execution": {
     "iopub.execute_input": "2021-06-13T00:22:23.594500Z",
     "iopub.status.busy": "2021-06-13T00:22:23.593905Z",
     "iopub.status.idle": "2021-06-13T00:22:23.598082Z",
     "shell.execute_reply": "2021-06-13T00:22:23.597573Z"
    },
    "papermill": {
     "duration": 0.044881,
     "end_time": "2021-06-13T00:22:23.598198",
     "exception": false,
     "start_time": "2021-06-13T00:22:23.553317",
     "status": "completed"
    },
    "tags": []
   },
   "outputs": [],
   "source": [
    "#hide\n",
    "#delete problematic countries from table\n",
    "df_table = df_table[~df_table['Country/Region'].isin(['Cape Verde', 'Cruise Ship', 'Kosovo'])]"
   ]
  },
  {
   "cell_type": "code",
   "execution_count": 15,
   "id": "fantastic-effect",
   "metadata": {
    "execution": {
     "iopub.execute_input": "2021-06-13T00:22:23.677006Z",
     "iopub.status.busy": "2021-06-13T00:22:23.676410Z",
     "iopub.status.idle": "2021-06-13T00:22:23.695642Z",
     "shell.execute_reply": "2021-06-13T00:22:23.695131Z"
    },
    "papermill": {
     "duration": 0.062265,
     "end_time": "2021-06-13T00:22:23.695759",
     "exception": false,
     "start_time": "2021-06-13T00:22:23.633494",
     "status": "completed"
    },
    "tags": []
   },
   "outputs": [
    {
     "data": {
      "text/html": [
       "<div>\n",
       "<style scoped>\n",
       "    .dataframe tbody tr th:only-of-type {\n",
       "        vertical-align: middle;\n",
       "    }\n",
       "\n",
       "    .dataframe tbody tr th {\n",
       "        vertical-align: top;\n",
       "    }\n",
       "\n",
       "    .dataframe thead th {\n",
       "        text-align: right;\n",
       "    }\n",
       "</style>\n",
       "<table border=\"1\" class=\"dataframe\">\n",
       "  <thead>\n",
       "    <tr style=\"text-align: right;\">\n",
       "      <th></th>\n",
       "      <th>Country/Region</th>\n",
       "      <th>Cases</th>\n",
       "      <th>Deaths</th>\n",
       "      <th>PCases</th>\n",
       "      <th>PDeaths</th>\n",
       "      <th>Cases (+)</th>\n",
       "      <th>Deaths (+)</th>\n",
       "      <th>Fatality Rate</th>\n",
       "      <th>Continent</th>\n",
       "    </tr>\n",
       "  </thead>\n",
       "  <tbody>\n",
       "    <tr>\n",
       "      <th>0</th>\n",
       "      <td>US</td>\n",
       "      <td>33449200</td>\n",
       "      <td>599472</td>\n",
       "      <td>33424296</td>\n",
       "      <td>598756</td>\n",
       "      <td>24904</td>\n",
       "      <td>716</td>\n",
       "      <td>1.8</td>\n",
       "      <td>North America</td>\n",
       "    </tr>\n",
       "    <tr>\n",
       "      <th>1</th>\n",
       "      <td>India</td>\n",
       "      <td>29359155</td>\n",
       "      <td>367081</td>\n",
       "      <td>29274823</td>\n",
       "      <td>363079</td>\n",
       "      <td>84332</td>\n",
       "      <td>4002</td>\n",
       "      <td>1.3</td>\n",
       "      <td>Asia</td>\n",
       "    </tr>\n",
       "    <tr>\n",
       "      <th>2</th>\n",
       "      <td>Brazil</td>\n",
       "      <td>17296118</td>\n",
       "      <td>484235</td>\n",
       "      <td>17210969</td>\n",
       "      <td>482019</td>\n",
       "      <td>85149</td>\n",
       "      <td>2216</td>\n",
       "      <td>2.8</td>\n",
       "      <td>South America</td>\n",
       "    </tr>\n",
       "    <tr>\n",
       "      <th>3</th>\n",
       "      <td>France</td>\n",
       "      <td>5795487</td>\n",
       "      <td>110506</td>\n",
       "      <td>5791608</td>\n",
       "      <td>110432</td>\n",
       "      <td>3879</td>\n",
       "      <td>74</td>\n",
       "      <td>1.9</td>\n",
       "      <td>Europe</td>\n",
       "    </tr>\n",
       "    <tr>\n",
       "      <th>4</th>\n",
       "      <td>Turkey</td>\n",
       "      <td>5319359</td>\n",
       "      <td>48593</td>\n",
       "      <td>5313098</td>\n",
       "      <td>48524</td>\n",
       "      <td>6261</td>\n",
       "      <td>69</td>\n",
       "      <td>0.9</td>\n",
       "      <td>Asia</td>\n",
       "    </tr>\n",
       "  </tbody>\n",
       "</table>\n",
       "</div>"
      ],
      "text/plain": [
       "  Country/Region     Cases  Deaths    PCases  PDeaths  Cases (+)  Deaths (+)  \\\n",
       "0             US  33449200  599472  33424296   598756      24904         716   \n",
       "1          India  29359155  367081  29274823   363079      84332        4002   \n",
       "2         Brazil  17296118  484235  17210969   482019      85149        2216   \n",
       "3         France   5795487  110506   5791608   110432       3879          74   \n",
       "4         Turkey   5319359   48593   5313098    48524       6261          69   \n",
       "\n",
       "   Fatality Rate      Continent  \n",
       "0            1.8  North America  \n",
       "1            1.3           Asia  \n",
       "2            2.8  South America  \n",
       "3            1.9         Europe  \n",
       "4            0.9           Asia  "
      ]
     },
     "execution_count": 15,
     "metadata": {},
     "output_type": "execute_result"
    }
   ],
   "source": [
    "#hide\n",
    "df_table = (pd.DataFrame(dict(Cases=dfc_cases, Deaths=dfc_deaths, PCases=dfp_cases, PDeaths=dfp_deaths))\n",
    "             .sort_values(by=['Cases', 'Deaths'], ascending=[False, False])\n",
    "             .reset_index())\n",
    "df_table.rename(columns={'index': 'Country/Region'}, inplace=True)\n",
    "for c in 'Cases, Deaths'.split(', '):\n",
    "    df_table[f'{c} (+)'] = (df_table[c] - df_table[f'P{c}']).clip(0)  # DATA BUG\n",
    "df_table['Fatality Rate'] = (100 * df_table['Deaths'] / df_table['Cases']).round(1)\n",
    "df_table['Continent'] = df_table['Country/Region'].map(mapping['map.continent'])\n",
    "df_table.head(5)"
   ]
  },
  {
   "cell_type": "code",
   "execution_count": 16,
   "id": "fewer-occasion",
   "metadata": {
    "execution": {
     "iopub.execute_input": "2021-06-13T00:22:23.774806Z",
     "iopub.status.busy": "2021-06-13T00:22:23.774219Z",
     "iopub.status.idle": "2021-06-13T00:22:23.776924Z",
     "shell.execute_reply": "2021-06-13T00:22:23.777436Z"
    },
    "papermill": {
     "duration": 0.045904,
     "end_time": "2021-06-13T00:22:23.777565",
     "exception": false,
     "start_time": "2021-06-13T00:22:23.731661",
     "status": "completed"
    },
    "tags": []
   },
   "outputs": [],
   "source": [
    "#hide\n",
    "#delete problematic countries from table\n",
    "df_table = df_table[~df_table['Country/Region'].isin(['Cape Verde', 'Cruise Ship', 'Kosovo'])]"
   ]
  },
  {
   "cell_type": "code",
   "execution_count": 17,
   "id": "related-center",
   "metadata": {
    "execution": {
     "iopub.execute_input": "2021-06-13T00:22:23.859949Z",
     "iopub.status.busy": "2021-06-13T00:22:23.859334Z",
     "iopub.status.idle": "2021-06-13T00:22:23.872766Z",
     "shell.execute_reply": "2021-06-13T00:22:23.872181Z"
    },
    "papermill": {
     "duration": 0.05976,
     "end_time": "2021-06-13T00:22:23.872883",
     "exception": false,
     "start_time": "2021-06-13T00:22:23.813123",
     "status": "completed"
    },
    "tags": []
   },
   "outputs": [],
   "source": [
    "#hide\n",
    "metrics = [df_table.columns[index] for index in [1,2,5,6]]\n",
    "# s_china = df_table[df_table['Country/Region'].eq('China')][metrics].sum().add_prefix('China ')\n",
    "s_us = df_table[df_table['Country/Region'].eq('US')][metrics].sum().add_prefix('US ')\n",
    "s_eu = df_table[df_table['Continent'].eq('Europe')][metrics].sum().add_prefix('EU ')\n",
    "s_ind = df_table[df_table['Country/Region'].eq('India')][metrics].sum().add_prefix('India ')\n",
    "summary = {'updated': pd.to_datetime(dt_today), 'since': pd.to_datetime(dt_yday)}\n",
    "summary = {'updated': pd.to_datetime(dt_today), 'since': pd.to_datetime(dt_yday)}\n",
    "summary = {**summary, **df_table[metrics].sum(), **s_ind, **s_us, **s_eu}"
   ]
  },
  {
   "cell_type": "code",
   "execution_count": 18,
   "id": "engaging-syndrome",
   "metadata": {
    "execution": {
     "iopub.execute_input": "2021-06-13T00:22:23.950850Z",
     "iopub.status.busy": "2021-06-13T00:22:23.950262Z",
     "iopub.status.idle": "2021-06-13T00:22:23.964155Z",
     "shell.execute_reply": "2021-06-13T00:22:23.963671Z"
    },
    "papermill": {
     "duration": 0.055233,
     "end_time": "2021-06-13T00:22:23.964280",
     "exception": false,
     "start_time": "2021-06-13T00:22:23.909047",
     "status": "completed"
    },
    "tags": []
   },
   "outputs": [],
   "source": [
    "#hide\n",
    "dft_ct_new_cases = dft_cases.groupby(COL_REGION)[dt_cols].sum().diff(axis=1).fillna(0).astype(int)"
   ]
  },
  {
   "cell_type": "code",
   "execution_count": 19,
   "id": "neutral-assignment",
   "metadata": {
    "execution": {
     "iopub.execute_input": "2021-06-13T00:22:24.043105Z",
     "iopub.status.busy": "2021-06-13T00:22:24.042476Z",
     "iopub.status.idle": "2021-06-13T00:22:24.044810Z",
     "shell.execute_reply": "2021-06-13T00:22:24.044304Z"
    },
    "papermill": {
     "duration": 0.044713,
     "end_time": "2021-06-13T00:22:24.044928",
     "exception": false,
     "start_time": "2021-06-13T00:22:24.000215",
     "status": "completed"
    },
    "tags": []
   },
   "outputs": [],
   "source": [
    "#hide\n",
    "everydaycases = dft_ct_new_cases.cumsum(axis=1)"
   ]
  },
  {
   "cell_type": "code",
   "execution_count": 20,
   "id": "parliamentary-calgary",
   "metadata": {
    "execution": {
     "iopub.execute_input": "2021-06-13T00:22:24.121816Z",
     "iopub.status.busy": "2021-06-13T00:22:24.121221Z",
     "iopub.status.idle": "2021-06-13T00:22:24.727490Z",
     "shell.execute_reply": "2021-06-13T00:22:24.726674Z"
    },
    "papermill": {
     "duration": 0.646878,
     "end_time": "2021-06-13T00:22:24.727628",
     "exception": false,
     "start_time": "2021-06-13T00:22:24.080750",
     "status": "completed"
    },
    "tags": []
   },
   "outputs": [],
   "source": [
    "#hide\n",
    "import pandas as pd\n",
    "import matplotlib.pyplot as plt\n",
    "import matplotlib.ticker as ticker\n",
    "import matplotlib.animation as animation\n",
    "from IPython.display import HTML"
   ]
  },
  {
   "cell_type": "code",
   "execution_count": 21,
   "id": "lasting-extraction",
   "metadata": {
    "execution": {
     "iopub.execute_input": "2021-06-13T00:22:24.806888Z",
     "iopub.status.busy": "2021-06-13T00:22:24.806287Z",
     "iopub.status.idle": "2021-06-13T00:22:24.812792Z",
     "shell.execute_reply": "2021-06-13T00:22:24.812275Z"
    },
    "papermill": {
     "duration": 0.049426,
     "end_time": "2021-06-13T00:22:24.812916",
     "exception": false,
     "start_time": "2021-06-13T00:22:24.763490",
     "status": "completed"
    },
    "tags": []
   },
   "outputs": [],
   "source": [
    "#hide\n",
    "t = everydaycases.stack()"
   ]
  },
  {
   "cell_type": "code",
   "execution_count": 22,
   "id": "premier-sleeve",
   "metadata": {
    "execution": {
     "iopub.execute_input": "2021-06-13T00:22:24.889316Z",
     "iopub.status.busy": "2021-06-13T00:22:24.888715Z",
     "iopub.status.idle": "2021-06-13T00:22:24.898385Z",
     "shell.execute_reply": "2021-06-13T00:22:24.897899Z"
    },
    "papermill": {
     "duration": 0.049782,
     "end_time": "2021-06-13T00:22:24.898511",
     "exception": false,
     "start_time": "2021-06-13T00:22:24.848729",
     "status": "completed"
    },
    "tags": []
   },
   "outputs": [],
   "source": [
    "#hide\n",
    "g = t.reset_index(['Country/Region'])"
   ]
  },
  {
   "cell_type": "code",
   "execution_count": 23,
   "id": "distributed-pittsburgh",
   "metadata": {
    "execution": {
     "iopub.execute_input": "2021-06-13T00:22:24.974767Z",
     "iopub.status.busy": "2021-06-13T00:22:24.974103Z",
     "iopub.status.idle": "2021-06-13T00:22:24.977220Z",
     "shell.execute_reply": "2021-06-13T00:22:24.976708Z"
    },
    "papermill": {
     "duration": 0.042656,
     "end_time": "2021-06-13T00:22:24.977338",
     "exception": false,
     "start_time": "2021-06-13T00:22:24.934682",
     "status": "completed"
    },
    "tags": []
   },
   "outputs": [],
   "source": [
    "#hide\n",
    "g.index.name = 'date'"
   ]
  },
  {
   "cell_type": "code",
   "execution_count": 24,
   "id": "naked-donor",
   "metadata": {
    "execution": {
     "iopub.execute_input": "2021-06-13T00:22:25.052804Z",
     "iopub.status.busy": "2021-06-13T00:22:25.052212Z",
     "iopub.status.idle": "2021-06-13T00:22:25.054881Z",
     "shell.execute_reply": "2021-06-13T00:22:25.054374Z"
    },
    "papermill": {
     "duration": 0.041905,
     "end_time": "2021-06-13T00:22:25.054995",
     "exception": false,
     "start_time": "2021-06-13T00:22:25.013090",
     "status": "completed"
    },
    "tags": []
   },
   "outputs": [],
   "source": [
    "# #hide\n",
    "# g = g.reset_index(['date'])"
   ]
  },
  {
   "cell_type": "code",
   "execution_count": 25,
   "id": "incomplete-mustang",
   "metadata": {
    "execution": {
     "iopub.execute_input": "2021-06-13T00:22:25.131851Z",
     "iopub.status.busy": "2021-06-13T00:22:25.131250Z",
     "iopub.status.idle": "2021-06-13T00:22:25.133783Z",
     "shell.execute_reply": "2021-06-13T00:22:25.134262Z"
    },
    "papermill": {
     "duration": 0.043681,
     "end_time": "2021-06-13T00:22:25.134394",
     "exception": false,
     "start_time": "2021-06-13T00:22:25.090713",
     "status": "completed"
    },
    "tags": []
   },
   "outputs": [],
   "source": [
    "#hide\n",
    "# g.head()"
   ]
  },
  {
   "cell_type": "code",
   "execution_count": 26,
   "id": "specific-kruger",
   "metadata": {
    "execution": {
     "iopub.execute_input": "2021-06-13T00:22:25.209804Z",
     "iopub.status.busy": "2021-06-13T00:22:25.209210Z",
     "iopub.status.idle": "2021-06-13T00:22:25.211705Z",
     "shell.execute_reply": "2021-06-13T00:22:25.212271Z"
    },
    "papermill": {
     "duration": 0.042157,
     "end_time": "2021-06-13T00:22:25.212401",
     "exception": false,
     "start_time": "2021-06-13T00:22:25.170244",
     "status": "completed"
    },
    "tags": []
   },
   "outputs": [],
   "source": [
    "#hide\n",
    "# g.columns = ['date','country','cases']"
   ]
  },
  {
   "cell_type": "code",
   "execution_count": 27,
   "id": "tender-conversion",
   "metadata": {
    "execution": {
     "iopub.execute_input": "2021-06-13T00:22:25.288263Z",
     "iopub.status.busy": "2021-06-13T00:22:25.287670Z",
     "iopub.status.idle": "2021-06-13T00:22:25.290040Z",
     "shell.execute_reply": "2021-06-13T00:22:25.290607Z"
    },
    "papermill": {
     "duration": 0.042779,
     "end_time": "2021-06-13T00:22:25.290739",
     "exception": false,
     "start_time": "2021-06-13T00:22:25.247960",
     "status": "completed"
    },
    "tags": []
   },
   "outputs": [],
   "source": [
    "#hide\n",
    "# g['continent'] = g.country"
   ]
  },
  {
   "cell_type": "code",
   "execution_count": 28,
   "id": "substantial-wilderness",
   "metadata": {
    "execution": {
     "iopub.execute_input": "2021-06-13T00:22:25.367083Z",
     "iopub.status.busy": "2021-06-13T00:22:25.366466Z",
     "iopub.status.idle": "2021-06-13T00:22:25.368504Z",
     "shell.execute_reply": "2021-06-13T00:22:25.368959Z"
    },
    "papermill": {
     "duration": 0.042551,
     "end_time": "2021-06-13T00:22:25.369097",
     "exception": false,
     "start_time": "2021-06-13T00:22:25.326546",
     "status": "completed"
    },
    "tags": []
   },
   "outputs": [],
   "source": [
    "#hide\n",
    "# cols = list(g.columns.values)"
   ]
  },
  {
   "cell_type": "code",
   "execution_count": 29,
   "id": "solved-farming",
   "metadata": {
    "execution": {
     "iopub.execute_input": "2021-06-13T00:22:25.444782Z",
     "iopub.status.busy": "2021-06-13T00:22:25.444192Z",
     "iopub.status.idle": "2021-06-13T00:22:25.446567Z",
     "shell.execute_reply": "2021-06-13T00:22:25.447153Z"
    },
    "papermill": {
     "duration": 0.042636,
     "end_time": "2021-06-13T00:22:25.447288",
     "exception": false,
     "start_time": "2021-06-13T00:22:25.404652",
     "status": "completed"
    },
    "tags": []
   },
   "outputs": [],
   "source": [
    "#hide\n",
    "# cols.insert(0, cols.pop())"
   ]
  },
  {
   "cell_type": "code",
   "execution_count": 30,
   "id": "executed-adoption",
   "metadata": {
    "execution": {
     "iopub.execute_input": "2021-06-13T00:22:25.522372Z",
     "iopub.status.busy": "2021-06-13T00:22:25.521778Z",
     "iopub.status.idle": "2021-06-13T00:22:25.524715Z",
     "shell.execute_reply": "2021-06-13T00:22:25.524235Z"
    },
    "papermill": {
     "duration": 0.041944,
     "end_time": "2021-06-13T00:22:25.524830",
     "exception": false,
     "start_time": "2021-06-13T00:22:25.482886",
     "status": "completed"
    },
    "tags": []
   },
   "outputs": [],
   "source": [
    "#hide\n",
    "# g = g[cols]"
   ]
  },
  {
   "cell_type": "code",
   "execution_count": 31,
   "id": "subject-dublin",
   "metadata": {
    "execution": {
     "iopub.execute_input": "2021-06-13T00:22:25.601059Z",
     "iopub.status.busy": "2021-06-13T00:22:25.600468Z",
     "iopub.status.idle": "2021-06-13T00:22:25.603139Z",
     "shell.execute_reply": "2021-06-13T00:22:25.602591Z"
    },
    "papermill": {
     "duration": 0.042712,
     "end_time": "2021-06-13T00:22:25.603263",
     "exception": false,
     "start_time": "2021-06-13T00:22:25.560551",
     "status": "completed"
    },
    "tags": []
   },
   "outputs": [],
   "source": [
    "#hide\n",
    "# g['continent'] = g['continent'].map(mapping['map.continent'])"
   ]
  },
  {
   "cell_type": "code",
   "execution_count": 32,
   "id": "freelance-scout",
   "metadata": {
    "execution": {
     "iopub.execute_input": "2021-06-13T00:22:25.679189Z",
     "iopub.status.busy": "2021-06-13T00:22:25.678563Z",
     "iopub.status.idle": "2021-06-13T00:22:25.681304Z",
     "shell.execute_reply": "2021-06-13T00:22:25.680824Z"
    },
    "papermill": {
     "duration": 0.042452,
     "end_time": "2021-06-13T00:22:25.681426",
     "exception": false,
     "start_time": "2021-06-13T00:22:25.638974",
     "status": "completed"
    },
    "tags": []
   },
   "outputs": [],
   "source": [
    "#hide\n",
    "# g.head()"
   ]
  },
  {
   "cell_type": "code",
   "execution_count": 33,
   "id": "limited-engine",
   "metadata": {
    "execution": {
     "iopub.execute_input": "2021-06-13T00:22:25.757227Z",
     "iopub.status.busy": "2021-06-13T00:22:25.756636Z",
     "iopub.status.idle": "2021-06-13T00:22:25.759120Z",
     "shell.execute_reply": "2021-06-13T00:22:25.759642Z"
    },
    "papermill": {
     "duration": 0.0427,
     "end_time": "2021-06-13T00:22:25.759771",
     "exception": false,
     "start_time": "2021-06-13T00:22:25.717071",
     "status": "completed"
    },
    "tags": []
   },
   "outputs": [],
   "source": [
    "# hide\n",
    "# g['date'] = g['date'].astype('datetime64[ns]')"
   ]
  },
  {
   "cell_type": "code",
   "execution_count": 34,
   "id": "sophisticated-supervisor",
   "metadata": {
    "execution": {
     "iopub.execute_input": "2021-06-13T00:22:25.835483Z",
     "iopub.status.busy": "2021-06-13T00:22:25.834849Z",
     "iopub.status.idle": "2021-06-13T00:22:25.837154Z",
     "shell.execute_reply": "2021-06-13T00:22:25.836655Z"
    },
    "papermill": {
     "duration": 0.041709,
     "end_time": "2021-06-13T00:22:25.837266",
     "exception": false,
     "start_time": "2021-06-13T00:22:25.795557",
     "status": "completed"
    },
    "tags": []
   },
   "outputs": [],
   "source": [
    "#hide\n",
    "# g['date'] = g.date.dt.dayofyear"
   ]
  },
  {
   "cell_type": "code",
   "execution_count": 35,
   "id": "inside-dubai",
   "metadata": {
    "execution": {
     "iopub.execute_input": "2021-06-13T00:22:25.912629Z",
     "iopub.status.busy": "2021-06-13T00:22:25.912040Z",
     "iopub.status.idle": "2021-06-13T00:22:25.914456Z",
     "shell.execute_reply": "2021-06-13T00:22:25.915025Z"
    },
    "papermill": {
     "duration": 0.042476,
     "end_time": "2021-06-13T00:22:25.915173",
     "exception": false,
     "start_time": "2021-06-13T00:22:25.872697",
     "status": "completed"
    },
    "tags": []
   },
   "outputs": [],
   "source": [
    "#hide\n",
    "# g = g.rename(columns= {'continent':'group','country':'name','cases':'value'})"
   ]
  },
  {
   "cell_type": "code",
   "execution_count": 36,
   "id": "fleet-motorcycle",
   "metadata": {
    "execution": {
     "iopub.execute_input": "2021-06-13T00:22:25.991506Z",
     "iopub.status.busy": "2021-06-13T00:22:25.990877Z",
     "iopub.status.idle": "2021-06-13T00:22:25.993342Z",
     "shell.execute_reply": "2021-06-13T00:22:25.993850Z"
    },
    "papermill": {
     "duration": 0.042744,
     "end_time": "2021-06-13T00:22:25.993978",
     "exception": false,
     "start_time": "2021-06-13T00:22:25.951234",
     "status": "completed"
    },
    "tags": []
   },
   "outputs": [],
   "source": [
    "#hide\n",
    "# cols = ['name','group','day','value']"
   ]
  },
  {
   "cell_type": "code",
   "execution_count": 37,
   "id": "continued-sleeping",
   "metadata": {
    "execution": {
     "iopub.execute_input": "2021-06-13T00:22:26.070191Z",
     "iopub.status.busy": "2021-06-13T00:22:26.069586Z",
     "iopub.status.idle": "2021-06-13T00:22:26.071957Z",
     "shell.execute_reply": "2021-06-13T00:22:26.072519Z"
    },
    "papermill": {
     "duration": 0.042951,
     "end_time": "2021-06-13T00:22:26.072650",
     "exception": false,
     "start_time": "2021-06-13T00:22:26.029699",
     "status": "completed"
    },
    "tags": []
   },
   "outputs": [],
   "source": [
    "#hide\n",
    "# g.rename(columns= {'date':'day'},inplace = True)"
   ]
  },
  {
   "cell_type": "code",
   "execution_count": 38,
   "id": "major-fight",
   "metadata": {
    "execution": {
     "iopub.execute_input": "2021-06-13T00:22:26.148903Z",
     "iopub.status.busy": "2021-06-13T00:22:26.148310Z",
     "iopub.status.idle": "2021-06-13T00:22:26.150593Z",
     "shell.execute_reply": "2021-06-13T00:22:26.150089Z"
    },
    "papermill": {
     "duration": 0.042256,
     "end_time": "2021-06-13T00:22:26.150709",
     "exception": false,
     "start_time": "2021-06-13T00:22:26.108453",
     "status": "completed"
    },
    "tags": []
   },
   "outputs": [],
   "source": [
    "#hide\n",
    "# g = g[cols]"
   ]
  },
  {
   "cell_type": "code",
   "execution_count": 39,
   "id": "structured-mobile",
   "metadata": {
    "execution": {
     "iopub.execute_input": "2021-06-13T00:22:26.226480Z",
     "iopub.status.busy": "2021-06-13T00:22:26.225881Z",
     "iopub.status.idle": "2021-06-13T00:22:26.228232Z",
     "shell.execute_reply": "2021-06-13T00:22:26.228796Z"
    },
    "papermill": {
     "duration": 0.042282,
     "end_time": "2021-06-13T00:22:26.228931",
     "exception": false,
     "start_time": "2021-06-13T00:22:26.186649",
     "status": "completed"
    },
    "tags": []
   },
   "outputs": [],
   "source": [
    "# #hide\n",
    "# g = g[g.group.notna()]"
   ]
  },
  {
   "cell_type": "code",
   "execution_count": 40,
   "id": "determined-closing",
   "metadata": {
    "execution": {
     "iopub.execute_input": "2021-06-13T00:22:26.305441Z",
     "iopub.status.busy": "2021-06-13T00:22:26.304830Z",
     "iopub.status.idle": "2021-06-13T00:22:26.307287Z",
     "shell.execute_reply": "2021-06-13T00:22:26.307774Z"
    },
    "papermill": {
     "duration": 0.043106,
     "end_time": "2021-06-13T00:22:26.307914",
     "exception": false,
     "start_time": "2021-06-13T00:22:26.264808",
     "status": "completed"
    },
    "tags": []
   },
   "outputs": [],
   "source": [
    "# #hide\n",
    "# colors = dict(zip(\n",
    "#     [\"Oceania\", \"Europe\", \"Asia\", \"South America\", \"Middle East\", \"North America\", \"Africa\"],\n",
    "#     [\"#adb0ff\", \"#ffb3ff\", \"#90d595\", \"#e48381\", \"#aafbff\", \"#f7bb5f\", \"#eafb50\"]\n",
    "# ))\n",
    "# group_lk = g.set_index('name')['group'].to_dict()"
   ]
  },
  {
   "cell_type": "code",
   "execution_count": null,
   "id": "gross-drinking",
   "metadata": {
    "papermill": {
     "duration": 0.035814,
     "end_time": "2021-06-13T00:22:26.379411",
     "exception": false,
     "start_time": "2021-06-13T00:22:26.343597",
     "status": "completed"
    },
    "tags": []
   },
   "outputs": [],
   "source": []
  },
  {
   "cell_type": "code",
   "execution_count": 41,
   "id": "subject-macintosh",
   "metadata": {
    "execution": {
     "iopub.execute_input": "2021-06-13T00:22:26.457691Z",
     "iopub.status.busy": "2021-06-13T00:22:26.457062Z",
     "iopub.status.idle": "2021-06-13T00:22:26.459500Z",
     "shell.execute_reply": "2021-06-13T00:22:26.460075Z"
    },
    "papermill": {
     "duration": 0.044828,
     "end_time": "2021-06-13T00:22:26.460215",
     "exception": false,
     "start_time": "2021-06-13T00:22:26.415387",
     "status": "completed"
    },
    "tags": []
   },
   "outputs": [],
   "source": [
    "# #hide\n",
    "# fig, ax = plt.subplots(figsize=(15, 8))\n",
    "\n",
    "# def draw_barchart(current_day):\n",
    "#     dff = g[g['day'].eq(current_day)].sort_values(by='value', ascending=True).tail(10)\n",
    "#     ax.clear()\n",
    "#     ax.barh(dff['name'], dff['value'], color=[colors[group_lk[x]] for x in dff['name']])\n",
    "#     dx = dff['value'].max() / 200\n",
    "    \n",
    "#     for i, (value, name) in enumerate(zip(dff['value'], dff['name'])):\n",
    "#         ax.text(value-dx, i,     name,           size=14, weight=600, ha='right', va='bottom')\n",
    "#         ax.text(value-dx, i-.25, group_lk[name], size=10, color='#444444', ha='right', va='baseline')\n",
    "#         ax.text(value+dx, i,     f'{value:,.0f}',  size=14, ha='left',  va='center')\n",
    "#     ax.text(1, 0.4, current_day, transform=ax.transAxes, color='#777777', size=46, ha='right', weight=800)\n",
    "#     ax.text(0, 1.06, 'Population (thousands)', transform=ax.transAxes, size=12, color='#777777')\n",
    "#     ax.xaxis.set_major_formatter(ticker.StrMethodFormatter('{x:,.0f}'))\n",
    "#     ax.xaxis.set_ticks_position('top')\n",
    "#     ax.tick_params(axis='x', colors='#777777', labelsize=12)\n",
    "#     ax.set_yticks([])\n",
    "#     ax.margins(0, 0.01)\n",
    "#     ax.grid(which='major', axis='x', linestyle='-')\n",
    "#     ax.set_axisbelow(True)\n",
    "    \n",
    "#     ax.text(0, 1.15, 'Coronavirus',\n",
    "#             transform=ax.transAxes, size=24, weight=600, ha='left', va='top')\n",
    "# #     ax.text(1, 0, 'by @pratapvardhan; credit @jburnmurdoch', transform=ax.transAxes, color='#777777', ha='right',\n",
    "# #             bbox=dict(facecolor='white', alpha=0.8, edgecolor='white'))\n",
    "#     plt.box(False)"
   ]
  },
  {
   "cell_type": "code",
   "execution_count": 42,
   "id": "sexual-wages",
   "metadata": {
    "execution": {
     "iopub.execute_input": "2021-06-13T00:22:26.535740Z",
     "iopub.status.busy": "2021-06-13T00:22:26.535128Z",
     "iopub.status.idle": "2021-06-13T00:22:26.537775Z",
     "shell.execute_reply": "2021-06-13T00:22:26.538256Z"
    },
    "papermill": {
     "duration": 0.042405,
     "end_time": "2021-06-13T00:22:26.538391",
     "exception": false,
     "start_time": "2021-06-13T00:22:26.495986",
     "status": "completed"
    },
    "tags": []
   },
   "outputs": [],
   "source": [
    "# #hide_input\n",
    "# fig, ax = plt.subplots(figsize=(15, 8))\n",
    "# animator = animation.FuncAnimation(fig, draw_barchart, frames=range(g.day.values.min(), g.day.values.max()))\n",
    "# HTML(animator.to_jshtml())\n",
    "# # or use animator.to_html5_video() or animator.save() "
   ]
  },
  {
   "cell_type": "code",
   "execution_count": null,
   "id": "australian-container",
   "metadata": {
    "papermill": {
     "duration": 0.035715,
     "end_time": "2021-06-13T00:22:26.609875",
     "exception": false,
     "start_time": "2021-06-13T00:22:26.574160",
     "status": "completed"
    },
    "tags": []
   },
   "outputs": [],
   "source": []
  },
  {
   "cell_type": "code",
   "execution_count": null,
   "id": "mediterranean-pontiac",
   "metadata": {
    "papermill": {
     "duration": 0.035541,
     "end_time": "2021-06-13T00:22:26.680969",
     "exception": false,
     "start_time": "2021-06-13T00:22:26.645428",
     "status": "completed"
    },
    "tags": []
   },
   "outputs": [],
   "source": []
  },
  {
   "cell_type": "code",
   "execution_count": null,
   "id": "aging-legislature",
   "metadata": {
    "papermill": {
     "duration": 0.035682,
     "end_time": "2021-06-13T00:22:26.752608",
     "exception": false,
     "start_time": "2021-06-13T00:22:26.716926",
     "status": "completed"
    },
    "tags": []
   },
   "outputs": [],
   "source": []
  }
 ],
 "metadata": {
  "kernelspec": {
   "display_name": "Python 3",
   "language": "python",
   "name": "python3"
  },
  "language_info": {
   "codemirror_mode": {
    "name": "ipython",
    "version": 3
   },
   "file_extension": ".py",
   "mimetype": "text/x-python",
   "name": "python",
   "nbconvert_exporter": "python",
   "pygments_lexer": "ipython3",
   "version": "3.6.13"
  },
  "papermill": {
   "duration": 6.531191,
   "end_time": "2021-06-13T00:22:27.097019",
   "environment_variables": {},
   "exception": null,
   "input_path": "2020-03-21-covid19exp.ipynb",
   "output_path": "2020-03-21-covid19exp.ipynb",
   "parameters": {},
   "start_time": "2021-06-13T00:22:20.565828",
   "version": "2.0.0"
  }
 },
 "nbformat": 4,
 "nbformat_minor": 5
}