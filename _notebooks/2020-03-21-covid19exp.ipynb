{
 "cells": [
  {
   "cell_type": "markdown",
   "id": "muslim-click",
   "metadata": {
    "papermill": {
     "duration": 0.043939,
     "end_time": "2021-04-18T00:06:29.421518",
     "exception": false,
     "start_time": "2021-04-18T00:06:29.377579",
     "status": "completed"
    },
    "tags": []
   },
   "source": [
    "# COVID-19 Case Race\n",
    "> A race chart to see rising cases around the world\n",
    "\n",
    "- author: Hargun Oberoi\n",
    "- image: images/covid-overview.png\n",
    "- hide: false\n",
    "- badges: false"
   ]
  },
  {
   "cell_type": "code",
   "execution_count": 1,
   "id": "proof-material",
   "metadata": {
    "execution": {
     "iopub.execute_input": "2021-04-18T00:06:29.508404Z",
     "iopub.status.busy": "2021-04-18T00:06:29.507561Z",
     "iopub.status.idle": "2021-04-18T00:06:29.877334Z",
     "shell.execute_reply": "2021-04-18T00:06:29.876710Z"
    },
    "papermill": {
     "duration": 0.41884,
     "end_time": "2021-04-18T00:06:29.877493",
     "exception": false,
     "start_time": "2021-04-18T00:06:29.458653",
     "status": "completed"
    },
    "tags": []
   },
   "outputs": [],
   "source": [
    "#hide\n",
    "import numpy as np\n",
    "import pandas as pd\n",
    "from jinja2 import Template\n",
    "from IPython.display import HTML"
   ]
  },
  {
   "cell_type": "code",
   "execution_count": 2,
   "id": "developed-terminology",
   "metadata": {
    "execution": {
     "iopub.execute_input": "2021-04-18T00:06:29.961450Z",
     "iopub.status.busy": "2021-04-18T00:06:29.960796Z",
     "iopub.status.idle": "2021-04-18T00:06:29.963631Z",
     "shell.execute_reply": "2021-04-18T00:06:29.963046Z"
    },
    "papermill": {
     "duration": 0.047138,
     "end_time": "2021-04-18T00:06:29.963795",
     "exception": false,
     "start_time": "2021-04-18T00:06:29.916657",
     "status": "completed"
    },
    "tags": []
   },
   "outputs": [],
   "source": [
    "#hide\n",
    "\n",
    "# FETCH\n",
    "base_url = 'https://raw.githubusercontent.com/pratapvardhan/notebooks/master/covid19/'\n",
    "paths = {\n",
    "    'mapping': base_url + 'mapping_countries.csv',\n",
    "    'overview': base_url + 'overview.tpl'\n",
    "}"
   ]
  },
  {
   "cell_type": "code",
   "execution_count": 3,
   "id": "dynamic-saver",
   "metadata": {
    "execution": {
     "iopub.execute_input": "2021-04-18T00:06:30.057265Z",
     "iopub.status.busy": "2021-04-18T00:06:30.056355Z",
     "iopub.status.idle": "2021-04-18T00:06:30.060151Z",
     "shell.execute_reply": "2021-04-18T00:06:30.060710Z"
    },
    "papermill": {
     "duration": 0.058011,
     "end_time": "2021-04-18T00:06:30.060882",
     "exception": false,
     "start_time": "2021-04-18T00:06:30.002871",
     "status": "completed"
    },
    "tags": []
   },
   "outputs": [
    {
     "data": {
      "text/plain": [
       "'https://raw.githubusercontent.com/pratapvardhan/notebooks/master/covid19/mapping_countries.csv'"
      ]
     },
     "execution_count": 3,
     "metadata": {},
     "output_type": "execute_result"
    }
   ],
   "source": [
    "#hide\n",
    "paths['mapping']"
   ]
  },
  {
   "cell_type": "code",
   "execution_count": 4,
   "id": "urban-software",
   "metadata": {
    "execution": {
     "iopub.execute_input": "2021-04-18T00:06:30.146472Z",
     "iopub.status.busy": "2021-04-18T00:06:30.145747Z",
     "iopub.status.idle": "2021-04-18T00:06:30.148426Z",
     "shell.execute_reply": "2021-04-18T00:06:30.147856Z"
    },
    "papermill": {
     "duration": 0.047435,
     "end_time": "2021-04-18T00:06:30.148586",
     "exception": false,
     "start_time": "2021-04-18T00:06:30.101151",
     "status": "completed"
    },
    "tags": []
   },
   "outputs": [],
   "source": [
    "#hide\n",
    "def get_mappings(url):\n",
    "    df = pd.read_csv(url)\n",
    "    return {\n",
    "        'df': df,\n",
    "        'replace.country': dict(df.dropna(subset=['Name']).set_index('Country')['Name']),\n",
    "        'map.continent': dict(df.set_index('Name')['Continent'])\n",
    "    }"
   ]
  },
  {
   "cell_type": "code",
   "execution_count": 5,
   "id": "intimate-machinery",
   "metadata": {
    "execution": {
     "iopub.execute_input": "2021-04-18T00:06:30.233998Z",
     "iopub.status.busy": "2021-04-18T00:06:30.233355Z",
     "iopub.status.idle": "2021-04-18T00:06:30.264475Z",
     "shell.execute_reply": "2021-04-18T00:06:30.263757Z"
    },
    "papermill": {
     "duration": 0.075594,
     "end_time": "2021-04-18T00:06:30.264610",
     "exception": false,
     "start_time": "2021-04-18T00:06:30.189016",
     "status": "completed"
    },
    "tags": []
   },
   "outputs": [],
   "source": [
    "#hide\n",
    "mapping = get_mappings(paths['mapping'])"
   ]
  },
  {
   "cell_type": "code",
   "execution_count": 6,
   "id": "certified-tactics",
   "metadata": {
    "execution": {
     "iopub.execute_input": "2021-04-18T00:06:30.357917Z",
     "iopub.status.busy": "2021-04-18T00:06:30.357153Z",
     "iopub.status.idle": "2021-04-18T00:06:30.358985Z",
     "shell.execute_reply": "2021-04-18T00:06:30.359628Z"
    },
    "papermill": {
     "duration": 0.05414,
     "end_time": "2021-04-18T00:06:30.359793",
     "exception": false,
     "start_time": "2021-04-18T00:06:30.305653",
     "status": "completed"
    },
    "tags": []
   },
   "outputs": [],
   "source": [
    "#hide\n",
    "def get_template(path):\n",
    "    from urllib.parse import urlparse\n",
    "    if bool(urlparse(path).netloc):\n",
    "        from urllib.request import urlopen\n",
    "        return urlopen(path).read().decode('utf8')\n",
    "    return open(path).read()"
   ]
  },
  {
   "cell_type": "code",
   "execution_count": 7,
   "id": "realistic-blast",
   "metadata": {
    "execution": {
     "iopub.execute_input": "2021-04-18T00:06:30.443644Z",
     "iopub.status.busy": "2021-04-18T00:06:30.442903Z",
     "iopub.status.idle": "2021-04-18T00:06:30.445924Z",
     "shell.execute_reply": "2021-04-18T00:06:30.445347Z"
    },
    "papermill": {
     "duration": 0.047967,
     "end_time": "2021-04-18T00:06:30.446056",
     "exception": false,
     "start_time": "2021-04-18T00:06:30.398089",
     "status": "completed"
    },
    "tags": []
   },
   "outputs": [],
   "source": [
    "#hide\n",
    "def get_frame(name):\n",
    "    url = (\n",
    "        'https://raw.githubusercontent.com/CSSEGISandData/COVID-19/master/csse_covid_19_data/'\n",
    "        f'csse_covid_19_time_series/time_series_covid19_{name}_global.csv')\n",
    "    df = pd.read_csv(url)\n",
    "    # rename countries\n",
    "    df['Country/Region'] = df['Country/Region'].replace(mapping['replace.country'])\n",
    "    return df"
   ]
  },
  {
   "cell_type": "code",
   "execution_count": 8,
   "id": "affiliated-characterization",
   "metadata": {
    "execution": {
     "iopub.execute_input": "2021-04-18T00:06:30.535992Z",
     "iopub.status.busy": "2021-04-18T00:06:30.535308Z",
     "iopub.status.idle": "2021-04-18T00:06:30.537346Z",
     "shell.execute_reply": "2021-04-18T00:06:30.537979Z"
    },
    "papermill": {
     "duration": 0.052839,
     "end_time": "2021-04-18T00:06:30.538147",
     "exception": false,
     "start_time": "2021-04-18T00:06:30.485308",
     "status": "completed"
    },
    "tags": []
   },
   "outputs": [],
   "source": [
    "#hide\n",
    "def get_dates(df):\n",
    "    dt_cols = df.columns[~df.columns.isin(['Province/State', 'Country/Region', 'Lat', 'Long'])]\n",
    "    LAST_DATE_I = -1\n",
    "    # sometimes last column may be empty, then go backwards\n",
    "    for i in range(-1, -len(dt_cols), -1):\n",
    "        if not df[dt_cols[i]].fillna(0).eq(0).all():\n",
    "            LAST_DATE_I = i\n",
    "            break\n",
    "    return LAST_DATE_I, dt_cols"
   ]
  },
  {
   "cell_type": "code",
   "execution_count": 9,
   "id": "recent-optimization",
   "metadata": {
    "execution": {
     "iopub.execute_input": "2021-04-18T00:06:30.625284Z",
     "iopub.status.busy": "2021-04-18T00:06:30.624495Z",
     "iopub.status.idle": "2021-04-18T00:06:30.937132Z",
     "shell.execute_reply": "2021-04-18T00:06:30.936568Z"
    },
    "papermill": {
     "duration": 0.357532,
     "end_time": "2021-04-18T00:06:30.937267",
     "exception": false,
     "start_time": "2021-04-18T00:06:30.579735",
     "status": "completed"
    },
    "tags": []
   },
   "outputs": [],
   "source": [
    "#hide\n",
    "COL_REGION = 'Country/Region'\n",
    "# Confirmed, Recovered, Deaths\n",
    "df = get_frame('confirmed')\n",
    "# dft_: timeseries, dfc_: today country agg\n",
    "dft_cases = df\n",
    "dft_deaths = get_frame('deaths')\n",
    "dft_recovered = get_frame('recovered')\n",
    "LAST_DATE_I, dt_cols = get_dates(df)"
   ]
  },
  {
   "cell_type": "code",
   "execution_count": 10,
   "id": "absolute-copper",
   "metadata": {
    "execution": {
     "iopub.execute_input": "2021-04-18T00:06:31.024310Z",
     "iopub.status.busy": "2021-04-18T00:06:31.023361Z",
     "iopub.status.idle": "2021-04-18T00:06:31.025948Z",
     "shell.execute_reply": "2021-04-18T00:06:31.026507Z"
    },
    "papermill": {
     "duration": 0.05028,
     "end_time": "2021-04-18T00:06:31.026656",
     "exception": false,
     "start_time": "2021-04-18T00:06:30.976376",
     "status": "completed"
    },
    "tags": []
   },
   "outputs": [],
   "source": [
    "#hide\n",
    "LAST_DATE_I, dt_cols = get_dates(df)\n",
    "dt_today =dt_cols[LAST_DATE_I]\n",
    "# dt_5day = dt_cols[LAST_DATE_I - 5]\n",
    "dt_yday = dt_cols[LAST_DATE_I - 1]"
   ]
  },
  {
   "cell_type": "code",
   "execution_count": 11,
   "id": "restricted-sheriff",
   "metadata": {
    "execution": {
     "iopub.execute_input": "2021-04-18T00:06:31.122445Z",
     "iopub.status.busy": "2021-04-18T00:06:31.121810Z",
     "iopub.status.idle": "2021-04-18T00:06:31.128852Z",
     "shell.execute_reply": "2021-04-18T00:06:31.128315Z"
    },
    "papermill": {
     "duration": 0.059122,
     "end_time": "2021-04-18T00:06:31.128970",
     "exception": false,
     "start_time": "2021-04-18T00:06:31.069848",
     "status": "completed"
    },
    "tags": []
   },
   "outputs": [],
   "source": [
    "#hide\n",
    "dfc_cases = dft_cases.groupby(COL_REGION)[dt_today].sum()\n",
    "dfc_deaths = dft_deaths.groupby(COL_REGION)[dt_today].sum()\n",
    "# dfp_cases = dft_cases.groupby(COL_REGION)[dt_5day].sum()\n",
    "# dfp_deaths = dft_deaths.groupby(COL_REGION)[dt_5day].sum()\n",
    "dfp_cases = dft_cases.groupby(COL_REGION)[dt_yday].sum()\n",
    "dfp_deaths = dft_deaths.groupby(COL_REGION)[dt_yday].sum()"
   ]
  },
  {
   "cell_type": "code",
   "execution_count": 12,
   "id": "deluxe-hepatitis",
   "metadata": {
    "execution": {
     "iopub.execute_input": "2021-04-18T00:06:31.216460Z",
     "iopub.status.busy": "2021-04-18T00:06:31.215663Z",
     "iopub.status.idle": "2021-04-18T00:06:31.220033Z",
     "shell.execute_reply": "2021-04-18T00:06:31.220554Z"
    },
    "papermill": {
     "duration": 0.052859,
     "end_time": "2021-04-18T00:06:31.220693",
     "exception": false,
     "start_time": "2021-04-18T00:06:31.167834",
     "status": "completed"
    },
    "tags": []
   },
   "outputs": [],
   "source": [
    "#hide\n",
    "df_table = (pd.DataFrame(dict(Cases = dfc_cases, Deaths = dfc_deaths, PCases = dfp_cases, PDeaths = dfp_deaths))\n",
    "            .sort_values(by = ['Cases','Deaths'], ascending = [False, False])\n",
    "            .reset_index())"
   ]
  },
  {
   "cell_type": "code",
   "execution_count": 13,
   "id": "educational-chancellor",
   "metadata": {
    "execution": {
     "iopub.execute_input": "2021-04-18T00:06:31.320964Z",
     "iopub.status.busy": "2021-04-18T00:06:31.320348Z",
     "iopub.status.idle": "2021-04-18T00:06:31.330329Z",
     "shell.execute_reply": "2021-04-18T00:06:31.329747Z"
    },
    "papermill": {
     "duration": 0.07025,
     "end_time": "2021-04-18T00:06:31.330492",
     "exception": false,
     "start_time": "2021-04-18T00:06:31.260242",
     "status": "completed"
    },
    "tags": []
   },
   "outputs": [
    {
     "data": {
      "text/html": [
       "<div>\n",
       "<style scoped>\n",
       "    .dataframe tbody tr th:only-of-type {\n",
       "        vertical-align: middle;\n",
       "    }\n",
       "\n",
       "    .dataframe tbody tr th {\n",
       "        vertical-align: top;\n",
       "    }\n",
       "\n",
       "    .dataframe thead th {\n",
       "        text-align: right;\n",
       "    }\n",
       "</style>\n",
       "<table border=\"1\" class=\"dataframe\">\n",
       "  <thead>\n",
       "    <tr style=\"text-align: right;\">\n",
       "      <th></th>\n",
       "      <th>Country/Region</th>\n",
       "      <th>Cases</th>\n",
       "      <th>Deaths</th>\n",
       "      <th>PCases</th>\n",
       "      <th>PDeaths</th>\n",
       "      <th>Cases (+)</th>\n",
       "      <th>Deaths (+)</th>\n",
       "      <th>Fatality Rate</th>\n",
       "      <th>Continent</th>\n",
       "    </tr>\n",
       "  </thead>\n",
       "  <tbody>\n",
       "    <tr>\n",
       "      <th>0</th>\n",
       "      <td>US</td>\n",
       "      <td>31575640</td>\n",
       "      <td>566224</td>\n",
       "      <td>31495649</td>\n",
       "      <td>565289</td>\n",
       "      <td>79991</td>\n",
       "      <td>935</td>\n",
       "      <td>1.79</td>\n",
       "      <td>North America</td>\n",
       "    </tr>\n",
       "    <tr>\n",
       "      <th>1</th>\n",
       "      <td>India</td>\n",
       "      <td>14526609</td>\n",
       "      <td>175649</td>\n",
       "      <td>14291917</td>\n",
       "      <td>174308</td>\n",
       "      <td>234692</td>\n",
       "      <td>1341</td>\n",
       "      <td>1.21</td>\n",
       "      <td>Asia</td>\n",
       "    </tr>\n",
       "    <tr>\n",
       "      <th>2</th>\n",
       "      <td>Brazil</td>\n",
       "      <td>13832455</td>\n",
       "      <td>368749</td>\n",
       "      <td>13746681</td>\n",
       "      <td>365444</td>\n",
       "      <td>85774</td>\n",
       "      <td>3305</td>\n",
       "      <td>2.67</td>\n",
       "      <td>South America</td>\n",
       "    </tr>\n",
       "    <tr>\n",
       "      <th>3</th>\n",
       "      <td>France</td>\n",
       "      <td>5285304</td>\n",
       "      <td>100563</td>\n",
       "      <td>5248853</td>\n",
       "      <td>100232</td>\n",
       "      <td>36451</td>\n",
       "      <td>331</td>\n",
       "      <td>1.90</td>\n",
       "      <td>Europe</td>\n",
       "    </tr>\n",
       "    <tr>\n",
       "      <th>4</th>\n",
       "      <td>Russia</td>\n",
       "      <td>4631336</td>\n",
       "      <td>103059</td>\n",
       "      <td>4622464</td>\n",
       "      <td>102667</td>\n",
       "      <td>8872</td>\n",
       "      <td>392</td>\n",
       "      <td>2.23</td>\n",
       "      <td>Europe</td>\n",
       "    </tr>\n",
       "  </tbody>\n",
       "</table>\n",
       "</div>"
      ],
      "text/plain": [
       "  Country/Region     Cases  Deaths    PCases  PDeaths  Cases (+)  Deaths (+)  \\\n",
       "0             US  31575640  566224  31495649   565289      79991         935   \n",
       "1          India  14526609  175649  14291917   174308     234692        1341   \n",
       "2         Brazil  13832455  368749  13746681   365444      85774        3305   \n",
       "3         France   5285304  100563   5248853   100232      36451         331   \n",
       "4         Russia   4631336  103059   4622464   102667       8872         392   \n",
       "\n",
       "   Fatality Rate      Continent  \n",
       "0           1.79  North America  \n",
       "1           1.21           Asia  \n",
       "2           2.67  South America  \n",
       "3           1.90         Europe  \n",
       "4           2.23         Europe  "
      ]
     },
     "execution_count": 13,
     "metadata": {},
     "output_type": "execute_result"
    }
   ],
   "source": [
    "#hide\n",
    "for c in 'Cases, Deaths'.split(', '):\n",
    "    df_table[f'{c} (+)'] = (df_table[c] - df_table[f'P{c}']).clip(0)\n",
    "    #Clip ça veut dire, les chiffres negatif sont interdit\n",
    "df_table['Fatality Rate'] = (100* df_table['Deaths']/ df_table['Cases']).round(2)\n",
    "df_table['Continent'] = df_table['Country/Region'].map(mapping['map.continent'])\n",
    "df_table.head(5)"
   ]
  },
  {
   "cell_type": "code",
   "execution_count": 14,
   "id": "aboriginal-bulgaria",
   "metadata": {
    "execution": {
     "iopub.execute_input": "2021-04-18T00:06:31.415004Z",
     "iopub.status.busy": "2021-04-18T00:06:31.414176Z",
     "iopub.status.idle": "2021-04-18T00:06:31.417221Z",
     "shell.execute_reply": "2021-04-18T00:06:31.416396Z"
    },
    "papermill": {
     "duration": 0.048359,
     "end_time": "2021-04-18T00:06:31.417542",
     "exception": false,
     "start_time": "2021-04-18T00:06:31.369183",
     "status": "completed"
    },
    "tags": []
   },
   "outputs": [],
   "source": [
    "#hide\n",
    "#delete problematic countries from table\n",
    "df_table = df_table[~df_table['Country/Region'].isin(['Cape Verde', 'Cruise Ship', 'Kosovo'])]"
   ]
  },
  {
   "cell_type": "code",
   "execution_count": 15,
   "id": "fantastic-effect",
   "metadata": {
    "execution": {
     "iopub.execute_input": "2021-04-18T00:06:31.505025Z",
     "iopub.status.busy": "2021-04-18T00:06:31.504366Z",
     "iopub.status.idle": "2021-04-18T00:06:31.526636Z",
     "shell.execute_reply": "2021-04-18T00:06:31.527373Z"
    },
    "papermill": {
     "duration": 0.070138,
     "end_time": "2021-04-18T00:06:31.527561",
     "exception": false,
     "start_time": "2021-04-18T00:06:31.457423",
     "status": "completed"
    },
    "tags": []
   },
   "outputs": [
    {
     "data": {
      "text/html": [
       "<div>\n",
       "<style scoped>\n",
       "    .dataframe tbody tr th:only-of-type {\n",
       "        vertical-align: middle;\n",
       "    }\n",
       "\n",
       "    .dataframe tbody tr th {\n",
       "        vertical-align: top;\n",
       "    }\n",
       "\n",
       "    .dataframe thead th {\n",
       "        text-align: right;\n",
       "    }\n",
       "</style>\n",
       "<table border=\"1\" class=\"dataframe\">\n",
       "  <thead>\n",
       "    <tr style=\"text-align: right;\">\n",
       "      <th></th>\n",
       "      <th>Country/Region</th>\n",
       "      <th>Cases</th>\n",
       "      <th>Deaths</th>\n",
       "      <th>PCases</th>\n",
       "      <th>PDeaths</th>\n",
       "      <th>Cases (+)</th>\n",
       "      <th>Deaths (+)</th>\n",
       "      <th>Fatality Rate</th>\n",
       "      <th>Continent</th>\n",
       "    </tr>\n",
       "  </thead>\n",
       "  <tbody>\n",
       "    <tr>\n",
       "      <th>0</th>\n",
       "      <td>US</td>\n",
       "      <td>31575640</td>\n",
       "      <td>566224</td>\n",
       "      <td>31495649</td>\n",
       "      <td>565289</td>\n",
       "      <td>79991</td>\n",
       "      <td>935</td>\n",
       "      <td>1.8</td>\n",
       "      <td>North America</td>\n",
       "    </tr>\n",
       "    <tr>\n",
       "      <th>1</th>\n",
       "      <td>India</td>\n",
       "      <td>14526609</td>\n",
       "      <td>175649</td>\n",
       "      <td>14291917</td>\n",
       "      <td>174308</td>\n",
       "      <td>234692</td>\n",
       "      <td>1341</td>\n",
       "      <td>1.2</td>\n",
       "      <td>Asia</td>\n",
       "    </tr>\n",
       "    <tr>\n",
       "      <th>2</th>\n",
       "      <td>Brazil</td>\n",
       "      <td>13832455</td>\n",
       "      <td>368749</td>\n",
       "      <td>13746681</td>\n",
       "      <td>365444</td>\n",
       "      <td>85774</td>\n",
       "      <td>3305</td>\n",
       "      <td>2.7</td>\n",
       "      <td>South America</td>\n",
       "    </tr>\n",
       "    <tr>\n",
       "      <th>3</th>\n",
       "      <td>France</td>\n",
       "      <td>5285304</td>\n",
       "      <td>100563</td>\n",
       "      <td>5248853</td>\n",
       "      <td>100232</td>\n",
       "      <td>36451</td>\n",
       "      <td>331</td>\n",
       "      <td>1.9</td>\n",
       "      <td>Europe</td>\n",
       "    </tr>\n",
       "    <tr>\n",
       "      <th>4</th>\n",
       "      <td>Russia</td>\n",
       "      <td>4631336</td>\n",
       "      <td>103059</td>\n",
       "      <td>4622464</td>\n",
       "      <td>102667</td>\n",
       "      <td>8872</td>\n",
       "      <td>392</td>\n",
       "      <td>2.2</td>\n",
       "      <td>Europe</td>\n",
       "    </tr>\n",
       "  </tbody>\n",
       "</table>\n",
       "</div>"
      ],
      "text/plain": [
       "  Country/Region     Cases  Deaths    PCases  PDeaths  Cases (+)  Deaths (+)  \\\n",
       "0             US  31575640  566224  31495649   565289      79991         935   \n",
       "1          India  14526609  175649  14291917   174308     234692        1341   \n",
       "2         Brazil  13832455  368749  13746681   365444      85774        3305   \n",
       "3         France   5285304  100563   5248853   100232      36451         331   \n",
       "4         Russia   4631336  103059   4622464   102667       8872         392   \n",
       "\n",
       "   Fatality Rate      Continent  \n",
       "0            1.8  North America  \n",
       "1            1.2           Asia  \n",
       "2            2.7  South America  \n",
       "3            1.9         Europe  \n",
       "4            2.2         Europe  "
      ]
     },
     "execution_count": 15,
     "metadata": {},
     "output_type": "execute_result"
    }
   ],
   "source": [
    "#hide\n",
    "df_table = (pd.DataFrame(dict(Cases=dfc_cases, Deaths=dfc_deaths, PCases=dfp_cases, PDeaths=dfp_deaths))\n",
    "             .sort_values(by=['Cases', 'Deaths'], ascending=[False, False])\n",
    "             .reset_index())\n",
    "df_table.rename(columns={'index': 'Country/Region'}, inplace=True)\n",
    "for c in 'Cases, Deaths'.split(', '):\n",
    "    df_table[f'{c} (+)'] = (df_table[c] - df_table[f'P{c}']).clip(0)  # DATA BUG\n",
    "df_table['Fatality Rate'] = (100 * df_table['Deaths'] / df_table['Cases']).round(1)\n",
    "df_table['Continent'] = df_table['Country/Region'].map(mapping['map.continent'])\n",
    "df_table.head(5)"
   ]
  },
  {
   "cell_type": "code",
   "execution_count": 16,
   "id": "fewer-occasion",
   "metadata": {
    "execution": {
     "iopub.execute_input": "2021-04-18T00:06:31.616236Z",
     "iopub.status.busy": "2021-04-18T00:06:31.615608Z",
     "iopub.status.idle": "2021-04-18T00:06:31.617878Z",
     "shell.execute_reply": "2021-04-18T00:06:31.618457Z"
    },
    "papermill": {
     "duration": 0.051197,
     "end_time": "2021-04-18T00:06:31.618663",
     "exception": false,
     "start_time": "2021-04-18T00:06:31.567466",
     "status": "completed"
    },
    "tags": []
   },
   "outputs": [],
   "source": [
    "#hide\n",
    "#delete problematic countries from table\n",
    "df_table = df_table[~df_table['Country/Region'].isin(['Cape Verde', 'Cruise Ship', 'Kosovo'])]"
   ]
  },
  {
   "cell_type": "code",
   "execution_count": 17,
   "id": "related-center",
   "metadata": {
    "execution": {
     "iopub.execute_input": "2021-04-18T00:06:31.724728Z",
     "iopub.status.busy": "2021-04-18T00:06:31.723924Z",
     "iopub.status.idle": "2021-04-18T00:06:31.725964Z",
     "shell.execute_reply": "2021-04-18T00:06:31.726550Z"
    },
    "papermill": {
     "duration": 0.06611,
     "end_time": "2021-04-18T00:06:31.726756",
     "exception": false,
     "start_time": "2021-04-18T00:06:31.660646",
     "status": "completed"
    },
    "tags": []
   },
   "outputs": [],
   "source": [
    "#hide\n",
    "metrics = [df_table.columns[index] for index in [1,2,5,6]]\n",
    "# s_china = df_table[df_table['Country/Region'].eq('China')][metrics].sum().add_prefix('China ')\n",
    "s_us = df_table[df_table['Country/Region'].eq('US')][metrics].sum().add_prefix('US ')\n",
    "s_eu = df_table[df_table['Continent'].eq('Europe')][metrics].sum().add_prefix('EU ')\n",
    "s_ind = df_table[df_table['Country/Region'].eq('India')][metrics].sum().add_prefix('India ')\n",
    "summary = {'updated': pd.to_datetime(dt_today), 'since': pd.to_datetime(dt_yday)}\n",
    "summary = {'updated': pd.to_datetime(dt_today), 'since': pd.to_datetime(dt_yday)}\n",
    "summary = {**summary, **df_table[metrics].sum(), **s_ind, **s_us, **s_eu}"
   ]
  },
  {
   "cell_type": "code",
   "execution_count": 18,
   "id": "engaging-syndrome",
   "metadata": {
    "execution": {
     "iopub.execute_input": "2021-04-18T00:06:31.819479Z",
     "iopub.status.busy": "2021-04-18T00:06:31.818744Z",
     "iopub.status.idle": "2021-04-18T00:06:31.831486Z",
     "shell.execute_reply": "2021-04-18T00:06:31.831971Z"
    },
    "papermill": {
     "duration": 0.061733,
     "end_time": "2021-04-18T00:06:31.832107",
     "exception": false,
     "start_time": "2021-04-18T00:06:31.770374",
     "status": "completed"
    },
    "tags": []
   },
   "outputs": [],
   "source": [
    "#hide\n",
    "dft_ct_new_cases = dft_cases.groupby(COL_REGION)[dt_cols].sum().diff(axis=1).fillna(0).astype(int)"
   ]
  },
  {
   "cell_type": "code",
   "execution_count": 19,
   "id": "neutral-assignment",
   "metadata": {
    "execution": {
     "iopub.execute_input": "2021-04-18T00:06:31.919727Z",
     "iopub.status.busy": "2021-04-18T00:06:31.919080Z",
     "iopub.status.idle": "2021-04-18T00:06:31.921029Z",
     "shell.execute_reply": "2021-04-18T00:06:31.921588Z"
    },
    "papermill": {
     "duration": 0.048118,
     "end_time": "2021-04-18T00:06:31.921731",
     "exception": false,
     "start_time": "2021-04-18T00:06:31.873613",
     "status": "completed"
    },
    "tags": []
   },
   "outputs": [],
   "source": [
    "#hide\n",
    "everydaycases = dft_ct_new_cases.cumsum(axis=1)"
   ]
  },
  {
   "cell_type": "code",
   "execution_count": 20,
   "id": "parliamentary-calgary",
   "metadata": {
    "execution": {
     "iopub.execute_input": "2021-04-18T00:06:32.005797Z",
     "iopub.status.busy": "2021-04-18T00:06:32.005204Z",
     "iopub.status.idle": "2021-04-18T00:06:32.662529Z",
     "shell.execute_reply": "2021-04-18T00:06:32.661866Z"
    },
    "papermill": {
     "duration": 0.70117,
     "end_time": "2021-04-18T00:06:32.662686",
     "exception": false,
     "start_time": "2021-04-18T00:06:31.961516",
     "status": "completed"
    },
    "tags": []
   },
   "outputs": [],
   "source": [
    "#hide\n",
    "import pandas as pd\n",
    "import matplotlib.pyplot as plt\n",
    "import matplotlib.ticker as ticker\n",
    "import matplotlib.animation as animation\n",
    "from IPython.display import HTML"
   ]
  },
  {
   "cell_type": "code",
   "execution_count": 21,
   "id": "lasting-extraction",
   "metadata": {
    "execution": {
     "iopub.execute_input": "2021-04-18T00:06:32.752232Z",
     "iopub.status.busy": "2021-04-18T00:06:32.751577Z",
     "iopub.status.idle": "2021-04-18T00:06:32.756846Z",
     "shell.execute_reply": "2021-04-18T00:06:32.757412Z"
    },
    "papermill": {
     "duration": 0.05244,
     "end_time": "2021-04-18T00:06:32.757551",
     "exception": false,
     "start_time": "2021-04-18T00:06:32.705111",
     "status": "completed"
    },
    "tags": []
   },
   "outputs": [],
   "source": [
    "#hide\n",
    "t = everydaycases.stack()"
   ]
  },
  {
   "cell_type": "code",
   "execution_count": 22,
   "id": "premier-sleeve",
   "metadata": {
    "execution": {
     "iopub.execute_input": "2021-04-18T00:06:32.840542Z",
     "iopub.status.busy": "2021-04-18T00:06:32.839861Z",
     "iopub.status.idle": "2021-04-18T00:06:32.847167Z",
     "shell.execute_reply": "2021-04-18T00:06:32.847648Z"
    },
    "papermill": {
     "duration": 0.050697,
     "end_time": "2021-04-18T00:06:32.847774",
     "exception": false,
     "start_time": "2021-04-18T00:06:32.797077",
     "status": "completed"
    },
    "tags": []
   },
   "outputs": [],
   "source": [
    "#hide\n",
    "g = t.reset_index(['Country/Region'])"
   ]
  },
  {
   "cell_type": "code",
   "execution_count": 23,
   "id": "distributed-pittsburgh",
   "metadata": {
    "execution": {
     "iopub.execute_input": "2021-04-18T00:06:32.932188Z",
     "iopub.status.busy": "2021-04-18T00:06:32.931255Z",
     "iopub.status.idle": "2021-04-18T00:06:32.933970Z",
     "shell.execute_reply": "2021-04-18T00:06:32.933450Z"
    },
    "papermill": {
     "duration": 0.045981,
     "end_time": "2021-04-18T00:06:32.934093",
     "exception": false,
     "start_time": "2021-04-18T00:06:32.888112",
     "status": "completed"
    },
    "tags": []
   },
   "outputs": [],
   "source": [
    "#hide\n",
    "g.index.name = 'date'"
   ]
  },
  {
   "cell_type": "code",
   "execution_count": 24,
   "id": "naked-donor",
   "metadata": {
    "execution": {
     "iopub.execute_input": "2021-04-18T00:06:33.018017Z",
     "iopub.status.busy": "2021-04-18T00:06:33.016816Z",
     "iopub.status.idle": "2021-04-18T00:06:33.019014Z",
     "shell.execute_reply": "2021-04-18T00:06:33.019815Z"
    },
    "papermill": {
     "duration": 0.046375,
     "end_time": "2021-04-18T00:06:33.019951",
     "exception": false,
     "start_time": "2021-04-18T00:06:32.973576",
     "status": "completed"
    },
    "tags": []
   },
   "outputs": [],
   "source": [
    "# #hide\n",
    "# g = g.reset_index(['date'])"
   ]
  },
  {
   "cell_type": "code",
   "execution_count": 25,
   "id": "incomplete-mustang",
   "metadata": {
    "execution": {
     "iopub.execute_input": "2021-04-18T00:06:33.106873Z",
     "iopub.status.busy": "2021-04-18T00:06:33.106289Z",
     "iopub.status.idle": "2021-04-18T00:06:33.109003Z",
     "shell.execute_reply": "2021-04-18T00:06:33.108310Z"
    },
    "papermill": {
     "duration": 0.046029,
     "end_time": "2021-04-18T00:06:33.109118",
     "exception": false,
     "start_time": "2021-04-18T00:06:33.063089",
     "status": "completed"
    },
    "tags": []
   },
   "outputs": [],
   "source": [
    "#hide\n",
    "# g.head()"
   ]
  },
  {
   "cell_type": "code",
   "execution_count": 26,
   "id": "specific-kruger",
   "metadata": {
    "execution": {
     "iopub.execute_input": "2021-04-18T00:06:33.190552Z",
     "iopub.status.busy": "2021-04-18T00:06:33.189753Z",
     "iopub.status.idle": "2021-04-18T00:06:33.191913Z",
     "shell.execute_reply": "2021-04-18T00:06:33.192431Z"
    },
    "papermill": {
     "duration": 0.044718,
     "end_time": "2021-04-18T00:06:33.192661",
     "exception": false,
     "start_time": "2021-04-18T00:06:33.147943",
     "status": "completed"
    },
    "tags": []
   },
   "outputs": [],
   "source": [
    "#hide\n",
    "# g.columns = ['date','country','cases']"
   ]
  },
  {
   "cell_type": "code",
   "execution_count": 27,
   "id": "tender-conversion",
   "metadata": {
    "execution": {
     "iopub.execute_input": "2021-04-18T00:06:33.273973Z",
     "iopub.status.busy": "2021-04-18T00:06:33.273290Z",
     "iopub.status.idle": "2021-04-18T00:06:33.276259Z",
     "shell.execute_reply": "2021-04-18T00:06:33.275700Z"
    },
    "papermill": {
     "duration": 0.044842,
     "end_time": "2021-04-18T00:06:33.276460",
     "exception": false,
     "start_time": "2021-04-18T00:06:33.231618",
     "status": "completed"
    },
    "tags": []
   },
   "outputs": [],
   "source": [
    "#hide\n",
    "# g['continent'] = g.country"
   ]
  },
  {
   "cell_type": "code",
   "execution_count": 28,
   "id": "substantial-wilderness",
   "metadata": {
    "execution": {
     "iopub.execute_input": "2021-04-18T00:06:33.361497Z",
     "iopub.status.busy": "2021-04-18T00:06:33.360839Z",
     "iopub.status.idle": "2021-04-18T00:06:33.363357Z",
     "shell.execute_reply": "2021-04-18T00:06:33.362811Z"
    },
    "papermill": {
     "duration": 0.046924,
     "end_time": "2021-04-18T00:06:33.363498",
     "exception": false,
     "start_time": "2021-04-18T00:06:33.316574",
     "status": "completed"
    },
    "tags": []
   },
   "outputs": [],
   "source": [
    "#hide\n",
    "# cols = list(g.columns.values)"
   ]
  },
  {
   "cell_type": "code",
   "execution_count": 29,
   "id": "solved-farming",
   "metadata": {
    "execution": {
     "iopub.execute_input": "2021-04-18T00:06:33.447218Z",
     "iopub.status.busy": "2021-04-18T00:06:33.446303Z",
     "iopub.status.idle": "2021-04-18T00:06:33.449312Z",
     "shell.execute_reply": "2021-04-18T00:06:33.448791Z"
    },
    "papermill": {
     "duration": 0.045832,
     "end_time": "2021-04-18T00:06:33.449432",
     "exception": false,
     "start_time": "2021-04-18T00:06:33.403600",
     "status": "completed"
    },
    "tags": []
   },
   "outputs": [],
   "source": [
    "#hide\n",
    "# cols.insert(0, cols.pop())"
   ]
  },
  {
   "cell_type": "code",
   "execution_count": 30,
   "id": "executed-adoption",
   "metadata": {
    "execution": {
     "iopub.execute_input": "2021-04-18T00:06:33.534142Z",
     "iopub.status.busy": "2021-04-18T00:06:33.533544Z",
     "iopub.status.idle": "2021-04-18T00:06:33.535409Z",
     "shell.execute_reply": "2021-04-18T00:06:33.535881Z"
    },
    "papermill": {
     "duration": 0.046206,
     "end_time": "2021-04-18T00:06:33.536023",
     "exception": false,
     "start_time": "2021-04-18T00:06:33.489817",
     "status": "completed"
    },
    "tags": []
   },
   "outputs": [],
   "source": [
    "#hide\n",
    "# g = g[cols]"
   ]
  },
  {
   "cell_type": "code",
   "execution_count": 31,
   "id": "subject-dublin",
   "metadata": {
    "execution": {
     "iopub.execute_input": "2021-04-18T00:06:33.619991Z",
     "iopub.status.busy": "2021-04-18T00:06:33.619360Z",
     "iopub.status.idle": "2021-04-18T00:06:33.621730Z",
     "shell.execute_reply": "2021-04-18T00:06:33.621209Z"
    },
    "papermill": {
     "duration": 0.04574,
     "end_time": "2021-04-18T00:06:33.621850",
     "exception": false,
     "start_time": "2021-04-18T00:06:33.576110",
     "status": "completed"
    },
    "tags": []
   },
   "outputs": [],
   "source": [
    "#hide\n",
    "# g['continent'] = g['continent'].map(mapping['map.continent'])"
   ]
  },
  {
   "cell_type": "code",
   "execution_count": 32,
   "id": "freelance-scout",
   "metadata": {
    "execution": {
     "iopub.execute_input": "2021-04-18T00:06:33.703636Z",
     "iopub.status.busy": "2021-04-18T00:06:33.703061Z",
     "iopub.status.idle": "2021-04-18T00:06:33.705600Z",
     "shell.execute_reply": "2021-04-18T00:06:33.706141Z"
    },
    "papermill": {
     "duration": 0.044255,
     "end_time": "2021-04-18T00:06:33.706284",
     "exception": false,
     "start_time": "2021-04-18T00:06:33.662029",
     "status": "completed"
    },
    "tags": []
   },
   "outputs": [],
   "source": [
    "#hide\n",
    "# g.head()"
   ]
  },
  {
   "cell_type": "code",
   "execution_count": 33,
   "id": "limited-engine",
   "metadata": {
    "execution": {
     "iopub.execute_input": "2021-04-18T00:06:33.787784Z",
     "iopub.status.busy": "2021-04-18T00:06:33.787027Z",
     "iopub.status.idle": "2021-04-18T00:06:33.789607Z",
     "shell.execute_reply": "2021-04-18T00:06:33.789043Z"
    },
    "papermill": {
     "duration": 0.045306,
     "end_time": "2021-04-18T00:06:33.789727",
     "exception": false,
     "start_time": "2021-04-18T00:06:33.744421",
     "status": "completed"
    },
    "tags": []
   },
   "outputs": [],
   "source": [
    "# hide\n",
    "# g['date'] = g['date'].astype('datetime64[ns]')"
   ]
  },
  {
   "cell_type": "code",
   "execution_count": 34,
   "id": "sophisticated-supervisor",
   "metadata": {
    "execution": {
     "iopub.execute_input": "2021-04-18T00:06:33.872832Z",
     "iopub.status.busy": "2021-04-18T00:06:33.872127Z",
     "iopub.status.idle": "2021-04-18T00:06:33.874720Z",
     "shell.execute_reply": "2021-04-18T00:06:33.874184Z"
    },
    "papermill": {
     "duration": 0.045559,
     "end_time": "2021-04-18T00:06:33.874842",
     "exception": false,
     "start_time": "2021-04-18T00:06:33.829283",
     "status": "completed"
    },
    "tags": []
   },
   "outputs": [],
   "source": [
    "#hide\n",
    "# g['date'] = g.date.dt.dayofyear"
   ]
  },
  {
   "cell_type": "code",
   "execution_count": 35,
   "id": "inside-dubai",
   "metadata": {
    "execution": {
     "iopub.execute_input": "2021-04-18T00:06:33.955485Z",
     "iopub.status.busy": "2021-04-18T00:06:33.954753Z",
     "iopub.status.idle": "2021-04-18T00:06:33.957229Z",
     "shell.execute_reply": "2021-04-18T00:06:33.956693Z"
    },
    "papermill": {
     "duration": 0.04461,
     "end_time": "2021-04-18T00:06:33.957352",
     "exception": false,
     "start_time": "2021-04-18T00:06:33.912742",
     "status": "completed"
    },
    "tags": []
   },
   "outputs": [],
   "source": [
    "#hide\n",
    "# g = g.rename(columns= {'continent':'group','country':'name','cases':'value'})"
   ]
  },
  {
   "cell_type": "code",
   "execution_count": 36,
   "id": "fleet-motorcycle",
   "metadata": {
    "execution": {
     "iopub.execute_input": "2021-04-18T00:06:34.038281Z",
     "iopub.status.busy": "2021-04-18T00:06:34.037686Z",
     "iopub.status.idle": "2021-04-18T00:06:34.040102Z",
     "shell.execute_reply": "2021-04-18T00:06:34.039607Z"
    },
    "papermill": {
     "duration": 0.044321,
     "end_time": "2021-04-18T00:06:34.040240",
     "exception": false,
     "start_time": "2021-04-18T00:06:33.995919",
     "status": "completed"
    },
    "tags": []
   },
   "outputs": [],
   "source": [
    "#hide\n",
    "# cols = ['name','group','day','value']"
   ]
  },
  {
   "cell_type": "code",
   "execution_count": 37,
   "id": "continued-sleeping",
   "metadata": {
    "execution": {
     "iopub.execute_input": "2021-04-18T00:06:34.125708Z",
     "iopub.status.busy": "2021-04-18T00:06:34.125132Z",
     "iopub.status.idle": "2021-04-18T00:06:34.127722Z",
     "shell.execute_reply": "2021-04-18T00:06:34.127256Z"
    },
    "papermill": {
     "duration": 0.045139,
     "end_time": "2021-04-18T00:06:34.127828",
     "exception": false,
     "start_time": "2021-04-18T00:06:34.082689",
     "status": "completed"
    },
    "tags": []
   },
   "outputs": [],
   "source": [
    "#hide\n",
    "# g.rename(columns= {'date':'day'},inplace = True)"
   ]
  },
  {
   "cell_type": "code",
   "execution_count": 38,
   "id": "major-fight",
   "metadata": {
    "execution": {
     "iopub.execute_input": "2021-04-18T00:06:34.205600Z",
     "iopub.status.busy": "2021-04-18T00:06:34.204969Z",
     "iopub.status.idle": "2021-04-18T00:06:34.207814Z",
     "shell.execute_reply": "2021-04-18T00:06:34.207270Z"
    },
    "papermill": {
     "duration": 0.04341,
     "end_time": "2021-04-18T00:06:34.207929",
     "exception": false,
     "start_time": "2021-04-18T00:06:34.164519",
     "status": "completed"
    },
    "tags": []
   },
   "outputs": [],
   "source": [
    "#hide\n",
    "# g = g[cols]"
   ]
  },
  {
   "cell_type": "code",
   "execution_count": 39,
   "id": "structured-mobile",
   "metadata": {
    "execution": {
     "iopub.execute_input": "2021-04-18T00:06:34.290655Z",
     "iopub.status.busy": "2021-04-18T00:06:34.290093Z",
     "iopub.status.idle": "2021-04-18T00:06:34.293553Z",
     "shell.execute_reply": "2021-04-18T00:06:34.292740Z"
    },
    "papermill": {
     "duration": 0.045663,
     "end_time": "2021-04-18T00:06:34.293717",
     "exception": false,
     "start_time": "2021-04-18T00:06:34.248054",
     "status": "completed"
    },
    "tags": []
   },
   "outputs": [],
   "source": [
    "# #hide\n",
    "# g = g[g.group.notna()]"
   ]
  },
  {
   "cell_type": "code",
   "execution_count": 40,
   "id": "determined-closing",
   "metadata": {
    "execution": {
     "iopub.execute_input": "2021-04-18T00:06:34.376356Z",
     "iopub.status.busy": "2021-04-18T00:06:34.375480Z",
     "iopub.status.idle": "2021-04-18T00:06:34.378321Z",
     "shell.execute_reply": "2021-04-18T00:06:34.377789Z"
    },
    "papermill": {
     "duration": 0.046699,
     "end_time": "2021-04-18T00:06:34.378439",
     "exception": false,
     "start_time": "2021-04-18T00:06:34.331740",
     "status": "completed"
    },
    "tags": []
   },
   "outputs": [],
   "source": [
    "# #hide\n",
    "# colors = dict(zip(\n",
    "#     [\"Oceania\", \"Europe\", \"Asia\", \"South America\", \"Middle East\", \"North America\", \"Africa\"],\n",
    "#     [\"#adb0ff\", \"#ffb3ff\", \"#90d595\", \"#e48381\", \"#aafbff\", \"#f7bb5f\", \"#eafb50\"]\n",
    "# ))\n",
    "# group_lk = g.set_index('name')['group'].to_dict()"
   ]
  },
  {
   "cell_type": "code",
   "execution_count": null,
   "id": "gross-drinking",
   "metadata": {
    "papermill": {
     "duration": 0.039855,
     "end_time": "2021-04-18T00:06:34.456856",
     "exception": false,
     "start_time": "2021-04-18T00:06:34.417001",
     "status": "completed"
    },
    "tags": []
   },
   "outputs": [],
   "source": []
  },
  {
   "cell_type": "code",
   "execution_count": 41,
   "id": "subject-macintosh",
   "metadata": {
    "execution": {
     "iopub.execute_input": "2021-04-18T00:06:34.540556Z",
     "iopub.status.busy": "2021-04-18T00:06:34.539921Z",
     "iopub.status.idle": "2021-04-18T00:06:34.542994Z",
     "shell.execute_reply": "2021-04-18T00:06:34.542303Z"
    },
    "papermill": {
     "duration": 0.047424,
     "end_time": "2021-04-18T00:06:34.543176",
     "exception": false,
     "start_time": "2021-04-18T00:06:34.495752",
     "status": "completed"
    },
    "tags": []
   },
   "outputs": [],
   "source": [
    "# #hide\n",
    "# fig, ax = plt.subplots(figsize=(15, 8))\n",
    "\n",
    "# def draw_barchart(current_day):\n",
    "#     dff = g[g['day'].eq(current_day)].sort_values(by='value', ascending=True).tail(10)\n",
    "#     ax.clear()\n",
    "#     ax.barh(dff['name'], dff['value'], color=[colors[group_lk[x]] for x in dff['name']])\n",
    "#     dx = dff['value'].max() / 200\n",
    "    \n",
    "#     for i, (value, name) in enumerate(zip(dff['value'], dff['name'])):\n",
    "#         ax.text(value-dx, i,     name,           size=14, weight=600, ha='right', va='bottom')\n",
    "#         ax.text(value-dx, i-.25, group_lk[name], size=10, color='#444444', ha='right', va='baseline')\n",
    "#         ax.text(value+dx, i,     f'{value:,.0f}',  size=14, ha='left',  va='center')\n",
    "#     ax.text(1, 0.4, current_day, transform=ax.transAxes, color='#777777', size=46, ha='right', weight=800)\n",
    "#     ax.text(0, 1.06, 'Population (thousands)', transform=ax.transAxes, size=12, color='#777777')\n",
    "#     ax.xaxis.set_major_formatter(ticker.StrMethodFormatter('{x:,.0f}'))\n",
    "#     ax.xaxis.set_ticks_position('top')\n",
    "#     ax.tick_params(axis='x', colors='#777777', labelsize=12)\n",
    "#     ax.set_yticks([])\n",
    "#     ax.margins(0, 0.01)\n",
    "#     ax.grid(which='major', axis='x', linestyle='-')\n",
    "#     ax.set_axisbelow(True)\n",
    "    \n",
    "#     ax.text(0, 1.15, 'Coronavirus',\n",
    "#             transform=ax.transAxes, size=24, weight=600, ha='left', va='top')\n",
    "# #     ax.text(1, 0, 'by @pratapvardhan; credit @jburnmurdoch', transform=ax.transAxes, color='#777777', ha='right',\n",
    "# #             bbox=dict(facecolor='white', alpha=0.8, edgecolor='white'))\n",
    "#     plt.box(False)"
   ]
  },
  {
   "cell_type": "code",
   "execution_count": 42,
   "id": "sexual-wages",
   "metadata": {
    "execution": {
     "iopub.execute_input": "2021-04-18T00:06:34.629943Z",
     "iopub.status.busy": "2021-04-18T00:06:34.629335Z",
     "iopub.status.idle": "2021-04-18T00:06:34.632222Z",
     "shell.execute_reply": "2021-04-18T00:06:34.632936Z"
    },
    "papermill": {
     "duration": 0.047858,
     "end_time": "2021-04-18T00:06:34.633083",
     "exception": false,
     "start_time": "2021-04-18T00:06:34.585225",
     "status": "completed"
    },
    "tags": []
   },
   "outputs": [],
   "source": [
    "# #hide_input\n",
    "# fig, ax = plt.subplots(figsize=(15, 8))\n",
    "# animator = animation.FuncAnimation(fig, draw_barchart, frames=range(g.day.values.min(), g.day.values.max()))\n",
    "# HTML(animator.to_jshtml())\n",
    "# # or use animator.to_html5_video() or animator.save() "
   ]
  },
  {
   "cell_type": "code",
   "execution_count": null,
   "id": "australian-container",
   "metadata": {
    "papermill": {
     "duration": 0.038249,
     "end_time": "2021-04-18T00:06:34.709991",
     "exception": false,
     "start_time": "2021-04-18T00:06:34.671742",
     "status": "completed"
    },
    "tags": []
   },
   "outputs": [],
   "source": []
  },
  {
   "cell_type": "code",
   "execution_count": null,
   "id": "mediterranean-pontiac",
   "metadata": {
    "papermill": {
     "duration": 0.041242,
     "end_time": "2021-04-18T00:06:34.792498",
     "exception": false,
     "start_time": "2021-04-18T00:06:34.751256",
     "status": "completed"
    },
    "tags": []
   },
   "outputs": [],
   "source": []
  },
  {
   "cell_type": "code",
   "execution_count": null,
   "id": "aging-legislature",
   "metadata": {
    "papermill": {
     "duration": 0.040402,
     "end_time": "2021-04-18T00:06:34.871156",
     "exception": false,
     "start_time": "2021-04-18T00:06:34.830754",
     "status": "completed"
    },
    "tags": []
   },
   "outputs": [],
   "source": []
  }
 ],
 "metadata": {
  "kernelspec": {
   "display_name": "Python 3",
   "language": "python",
   "name": "python3"
  },
  "language_info": {
   "codemirror_mode": {
    "name": "ipython",
    "version": 3
   },
   "file_extension": ".py",
   "mimetype": "text/x-python",
   "name": "python",
   "nbconvert_exporter": "python",
   "pygments_lexer": "ipython3",
   "version": "3.6.13"
  },
  "papermill": {
   "duration": 6.983945,
   "end_time": "2021-04-18T00:06:35.227556",
   "environment_variables": {},
   "exception": null,
   "input_path": "2020-03-21-covid19exp.ipynb",
   "output_path": "2020-03-21-covid19exp.ipynb",
   "parameters": {},
   "start_time": "2021-04-18T00:06:28.243611",
   "version": "2.0.0"
  }
 },
 "nbformat": 4,
 "nbformat_minor": 5
}