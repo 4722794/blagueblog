{
 "cells": [
  {
   "cell_type": "markdown",
   "id": "muslim-click",
   "metadata": {
    "papermill": {
     "duration": 0.035779,
     "end_time": "2021-12-08T00:26:12.067832",
     "exception": false,
     "start_time": "2021-12-08T00:26:12.032053",
     "status": "completed"
    },
    "tags": []
   },
   "source": [
    "# COVID-19 Case Race\n",
    "> A race chart to see rising cases around the world\n",
    "\n",
    "- author: Hargun Oberoi\n",
    "- image: images/covid-overview.png\n",
    "- hide: false\n",
    "- badges: false"
   ]
  },
  {
   "cell_type": "code",
   "execution_count": 1,
   "id": "proof-material",
   "metadata": {
    "execution": {
     "iopub.execute_input": "2021-12-08T00:26:12.144719Z",
     "iopub.status.busy": "2021-12-08T00:26:12.144157Z",
     "iopub.status.idle": "2021-12-08T00:26:12.490299Z",
     "shell.execute_reply": "2021-12-08T00:26:12.489752Z"
    },
    "papermill": {
     "duration": 0.389072,
     "end_time": "2021-12-08T00:26:12.490468",
     "exception": false,
     "start_time": "2021-12-08T00:26:12.101396",
     "status": "completed"
    },
    "tags": []
   },
   "outputs": [],
   "source": [
    "#hide\n",
    "import numpy as np\n",
    "import pandas as pd\n",
    "from jinja2 import Template\n",
    "from IPython.display import HTML"
   ]
  },
  {
   "cell_type": "code",
   "execution_count": 2,
   "id": "developed-terminology",
   "metadata": {
    "execution": {
     "iopub.execute_input": "2021-12-08T00:26:12.557623Z",
     "iopub.status.busy": "2021-12-08T00:26:12.557079Z",
     "iopub.status.idle": "2021-12-08T00:26:12.559425Z",
     "shell.execute_reply": "2021-12-08T00:26:12.558977Z"
    },
    "papermill": {
     "duration": 0.03716,
     "end_time": "2021-12-08T00:26:12.559531",
     "exception": false,
     "start_time": "2021-12-08T00:26:12.522371",
     "status": "completed"
    },
    "tags": []
   },
   "outputs": [],
   "source": [
    "#hide\n",
    "\n",
    "# FETCH\n",
    "base_url = 'https://raw.githubusercontent.com/pratapvardhan/notebooks/master/covid19/'\n",
    "paths = {\n",
    "    'mapping': base_url + 'mapping_countries.csv',\n",
    "    'overview': base_url + 'overview.tpl'\n",
    "}"
   ]
  },
  {
   "cell_type": "code",
   "execution_count": 3,
   "id": "dynamic-saver",
   "metadata": {
    "execution": {
     "iopub.execute_input": "2021-12-08T00:26:12.629392Z",
     "iopub.status.busy": "2021-12-08T00:26:12.628845Z",
     "iopub.status.idle": "2021-12-08T00:26:12.632364Z",
     "shell.execute_reply": "2021-12-08T00:26:12.631920Z"
    },
    "papermill": {
     "duration": 0.042612,
     "end_time": "2021-12-08T00:26:12.632464",
     "exception": false,
     "start_time": "2021-12-08T00:26:12.589852",
     "status": "completed"
    },
    "tags": []
   },
   "outputs": [
    {
     "data": {
      "text/plain": [
       "'https://raw.githubusercontent.com/pratapvardhan/notebooks/master/covid19/mapping_countries.csv'"
      ]
     },
     "execution_count": 3,
     "metadata": {},
     "output_type": "execute_result"
    }
   ],
   "source": [
    "#hide\n",
    "paths['mapping']"
   ]
  },
  {
   "cell_type": "code",
   "execution_count": 4,
   "id": "urban-software",
   "metadata": {
    "execution": {
     "iopub.execute_input": "2021-12-08T00:26:12.699653Z",
     "iopub.status.busy": "2021-12-08T00:26:12.699101Z",
     "iopub.status.idle": "2021-12-08T00:26:12.701365Z",
     "shell.execute_reply": "2021-12-08T00:26:12.701921Z"
    },
    "papermill": {
     "duration": 0.037465,
     "end_time": "2021-12-08T00:26:12.702034",
     "exception": false,
     "start_time": "2021-12-08T00:26:12.664569",
     "status": "completed"
    },
    "tags": []
   },
   "outputs": [],
   "source": [
    "#hide\n",
    "def get_mappings(url):\n",
    "    df = pd.read_csv(url)\n",
    "    return {\n",
    "        'df': df,\n",
    "        'replace.country': dict(df.dropna(subset=['Name']).set_index('Country')['Name']),\n",
    "        'map.continent': dict(df.set_index('Name')['Continent'])\n",
    "    }"
   ]
  },
  {
   "cell_type": "code",
   "execution_count": 5,
   "id": "intimate-machinery",
   "metadata": {
    "execution": {
     "iopub.execute_input": "2021-12-08T00:26:12.769770Z",
     "iopub.status.busy": "2021-12-08T00:26:12.769214Z",
     "iopub.status.idle": "2021-12-08T00:26:12.821846Z",
     "shell.execute_reply": "2021-12-08T00:26:12.822465Z"
    },
    "papermill": {
     "duration": 0.0911,
     "end_time": "2021-12-08T00:26:12.822640",
     "exception": false,
     "start_time": "2021-12-08T00:26:12.731540",
     "status": "completed"
    },
    "tags": []
   },
   "outputs": [],
   "source": [
    "#hide\n",
    "mapping = get_mappings(paths['mapping'])"
   ]
  },
  {
   "cell_type": "code",
   "execution_count": 6,
   "id": "certified-tactics",
   "metadata": {
    "execution": {
     "iopub.execute_input": "2021-12-08T00:26:12.891245Z",
     "iopub.status.busy": "2021-12-08T00:26:12.890621Z",
     "iopub.status.idle": "2021-12-08T00:26:12.892879Z",
     "shell.execute_reply": "2021-12-08T00:26:12.893507Z"
    },
    "papermill": {
     "duration": 0.037796,
     "end_time": "2021-12-08T00:26:12.893645",
     "exception": false,
     "start_time": "2021-12-08T00:26:12.855849",
     "status": "completed"
    },
    "tags": []
   },
   "outputs": [],
   "source": [
    "#hide\n",
    "def get_template(path):\n",
    "    from urllib.parse import urlparse\n",
    "    if bool(urlparse(path).netloc):\n",
    "        from urllib.request import urlopen\n",
    "        return urlopen(path).read().decode('utf8')\n",
    "    return open(path).read()"
   ]
  },
  {
   "cell_type": "code",
   "execution_count": 7,
   "id": "realistic-blast",
   "metadata": {
    "execution": {
     "iopub.execute_input": "2021-12-08T00:26:12.959859Z",
     "iopub.status.busy": "2021-12-08T00:26:12.959067Z",
     "iopub.status.idle": "2021-12-08T00:26:12.961103Z",
     "shell.execute_reply": "2021-12-08T00:26:12.961698Z"
    },
    "papermill": {
     "duration": 0.038047,
     "end_time": "2021-12-08T00:26:12.961817",
     "exception": false,
     "start_time": "2021-12-08T00:26:12.923770",
     "status": "completed"
    },
    "tags": []
   },
   "outputs": [],
   "source": [
    "#hide\n",
    "def get_frame(name):\n",
    "    url = (\n",
    "        'https://raw.githubusercontent.com/CSSEGISandData/COVID-19/master/csse_covid_19_data/'\n",
    "        f'csse_covid_19_time_series/time_series_covid19_{name}_global.csv')\n",
    "    df = pd.read_csv(url)\n",
    "    # rename countries\n",
    "    df['Country/Region'] = df['Country/Region'].replace(mapping['replace.country'])\n",
    "    return df"
   ]
  },
  {
   "cell_type": "code",
   "execution_count": 8,
   "id": "affiliated-characterization",
   "metadata": {
    "execution": {
     "iopub.execute_input": "2021-12-08T00:26:13.028247Z",
     "iopub.status.busy": "2021-12-08T00:26:13.027628Z",
     "iopub.status.idle": "2021-12-08T00:26:13.029979Z",
     "shell.execute_reply": "2021-12-08T00:26:13.029485Z"
    },
    "papermill": {
     "duration": 0.037695,
     "end_time": "2021-12-08T00:26:13.030091",
     "exception": false,
     "start_time": "2021-12-08T00:26:12.992396",
     "status": "completed"
    },
    "tags": []
   },
   "outputs": [],
   "source": [
    "#hide\n",
    "def get_dates(df):\n",
    "    dt_cols = df.columns[~df.columns.isin(['Province/State', 'Country/Region', 'Lat', 'Long'])]\n",
    "    LAST_DATE_I = -1\n",
    "    # sometimes last column may be empty, then go backwards\n",
    "    for i in range(-1, -len(dt_cols), -1):\n",
    "        if not df[dt_cols[i]].fillna(0).eq(0).all():\n",
    "            LAST_DATE_I = i\n",
    "            break\n",
    "    return LAST_DATE_I, dt_cols"
   ]
  },
  {
   "cell_type": "code",
   "execution_count": 9,
   "id": "recent-optimization",
   "metadata": {
    "execution": {
     "iopub.execute_input": "2021-12-08T00:26:13.101688Z",
     "iopub.status.busy": "2021-12-08T00:26:13.100645Z",
     "iopub.status.idle": "2021-12-08T00:26:13.526734Z",
     "shell.execute_reply": "2021-12-08T00:26:13.525746Z"
    },
    "papermill": {
     "duration": 0.463181,
     "end_time": "2021-12-08T00:26:13.526861",
     "exception": false,
     "start_time": "2021-12-08T00:26:13.063680",
     "status": "completed"
    },
    "tags": []
   },
   "outputs": [],
   "source": [
    "#hide\n",
    "COL_REGION = 'Country/Region'\n",
    "# Confirmed, Recovered, Deaths\n",
    "df = get_frame('confirmed')\n",
    "# dft_: timeseries, dfc_: today country agg\n",
    "dft_cases = df\n",
    "dft_deaths = get_frame('deaths')\n",
    "dft_recovered = get_frame('recovered')\n",
    "LAST_DATE_I, dt_cols = get_dates(df)"
   ]
  },
  {
   "cell_type": "code",
   "execution_count": 10,
   "id": "absolute-copper",
   "metadata": {
    "execution": {
     "iopub.execute_input": "2021-12-08T00:26:13.593348Z",
     "iopub.status.busy": "2021-12-08T00:26:13.592810Z",
     "iopub.status.idle": "2021-12-08T00:26:13.594440Z",
     "shell.execute_reply": "2021-12-08T00:26:13.594844Z"
    },
    "papermill": {
     "duration": 0.036582,
     "end_time": "2021-12-08T00:26:13.594966",
     "exception": false,
     "start_time": "2021-12-08T00:26:13.558384",
     "status": "completed"
    },
    "tags": []
   },
   "outputs": [],
   "source": [
    "#hide\n",
    "LAST_DATE_I, dt_cols = get_dates(df)\n",
    "dt_today =dt_cols[LAST_DATE_I]\n",
    "# dt_5day = dt_cols[LAST_DATE_I - 5]\n",
    "dt_yday = dt_cols[LAST_DATE_I - 1]"
   ]
  },
  {
   "cell_type": "code",
   "execution_count": 11,
   "id": "restricted-sheriff",
   "metadata": {
    "execution": {
     "iopub.execute_input": "2021-12-08T00:26:13.661901Z",
     "iopub.status.busy": "2021-12-08T00:26:13.661141Z",
     "iopub.status.idle": "2021-12-08T00:26:13.671669Z",
     "shell.execute_reply": "2021-12-08T00:26:13.672600Z"
    },
    "papermill": {
     "duration": 0.047112,
     "end_time": "2021-12-08T00:26:13.672764",
     "exception": false,
     "start_time": "2021-12-08T00:26:13.625652",
     "status": "completed"
    },
    "tags": []
   },
   "outputs": [],
   "source": [
    "#hide\n",
    "dfc_cases = dft_cases.groupby(COL_REGION)[dt_today].sum()\n",
    "dfc_deaths = dft_deaths.groupby(COL_REGION)[dt_today].sum()\n",
    "# dfp_cases = dft_cases.groupby(COL_REGION)[dt_5day].sum()\n",
    "# dfp_deaths = dft_deaths.groupby(COL_REGION)[dt_5day].sum()\n",
    "dfp_cases = dft_cases.groupby(COL_REGION)[dt_yday].sum()\n",
    "dfp_deaths = dft_deaths.groupby(COL_REGION)[dt_yday].sum()"
   ]
  },
  {
   "cell_type": "code",
   "execution_count": 12,
   "id": "deluxe-hepatitis",
   "metadata": {
    "execution": {
     "iopub.execute_input": "2021-12-08T00:26:13.740435Z",
     "iopub.status.busy": "2021-12-08T00:26:13.739902Z",
     "iopub.status.idle": "2021-12-08T00:26:13.745052Z",
     "shell.execute_reply": "2021-12-08T00:26:13.744609Z"
    },
    "papermill": {
     "duration": 0.040873,
     "end_time": "2021-12-08T00:26:13.745155",
     "exception": false,
     "start_time": "2021-12-08T00:26:13.704282",
     "status": "completed"
    },
    "tags": []
   },
   "outputs": [],
   "source": [
    "#hide\n",
    "df_table = (pd.DataFrame(dict(Cases = dfc_cases, Deaths = dfc_deaths, PCases = dfp_cases, PDeaths = dfp_deaths))\n",
    "            .sort_values(by = ['Cases','Deaths'], ascending = [False, False])\n",
    "            .reset_index())"
   ]
  },
  {
   "cell_type": "code",
   "execution_count": 13,
   "id": "educational-chancellor",
   "metadata": {
    "execution": {
     "iopub.execute_input": "2021-12-08T00:26:13.831034Z",
     "iopub.status.busy": "2021-12-08T00:26:13.830459Z",
     "iopub.status.idle": "2021-12-08T00:26:13.842112Z",
     "shell.execute_reply": "2021-12-08T00:26:13.841527Z"
    },
    "papermill": {
     "duration": 0.065845,
     "end_time": "2021-12-08T00:26:13.842222",
     "exception": false,
     "start_time": "2021-12-08T00:26:13.776377",
     "status": "completed"
    },
    "tags": []
   },
   "outputs": [
    {
     "data": {
      "text/html": [
       "<div>\n",
       "<style scoped>\n",
       "    .dataframe tbody tr th:only-of-type {\n",
       "        vertical-align: middle;\n",
       "    }\n",
       "\n",
       "    .dataframe tbody tr th {\n",
       "        vertical-align: top;\n",
       "    }\n",
       "\n",
       "    .dataframe thead th {\n",
       "        text-align: right;\n",
       "    }\n",
       "</style>\n",
       "<table border=\"1\" class=\"dataframe\">\n",
       "  <thead>\n",
       "    <tr style=\"text-align: right;\">\n",
       "      <th></th>\n",
       "      <th>Country/Region</th>\n",
       "      <th>Cases</th>\n",
       "      <th>Deaths</th>\n",
       "      <th>PCases</th>\n",
       "      <th>PDeaths</th>\n",
       "      <th>Cases (+)</th>\n",
       "      <th>Deaths (+)</th>\n",
       "      <th>Fatality Rate</th>\n",
       "      <th>Continent</th>\n",
       "    </tr>\n",
       "  </thead>\n",
       "  <tbody>\n",
       "    <tr>\n",
       "      <th>0</th>\n",
       "      <td>US</td>\n",
       "      <td>49278278</td>\n",
       "      <td>789905</td>\n",
       "      <td>49085361</td>\n",
       "      <td>788523</td>\n",
       "      <td>192917</td>\n",
       "      <td>1382</td>\n",
       "      <td>1.60</td>\n",
       "      <td>North America</td>\n",
       "    </tr>\n",
       "    <tr>\n",
       "      <th>1</th>\n",
       "      <td>India</td>\n",
       "      <td>34648383</td>\n",
       "      <td>473757</td>\n",
       "      <td>34641561</td>\n",
       "      <td>473537</td>\n",
       "      <td>6822</td>\n",
       "      <td>220</td>\n",
       "      <td>1.37</td>\n",
       "      <td>Asia</td>\n",
       "    </tr>\n",
       "    <tr>\n",
       "      <th>2</th>\n",
       "      <td>Brazil</td>\n",
       "      <td>22147476</td>\n",
       "      <td>615744</td>\n",
       "      <td>22143091</td>\n",
       "      <td>615636</td>\n",
       "      <td>4385</td>\n",
       "      <td>108</td>\n",
       "      <td>2.78</td>\n",
       "      <td>South America</td>\n",
       "    </tr>\n",
       "    <tr>\n",
       "      <th>3</th>\n",
       "      <td>United Kingdom</td>\n",
       "      <td>10575062</td>\n",
       "      <td>146101</td>\n",
       "      <td>10523316</td>\n",
       "      <td>146055</td>\n",
       "      <td>51746</td>\n",
       "      <td>46</td>\n",
       "      <td>1.38</td>\n",
       "      <td>Europe</td>\n",
       "    </tr>\n",
       "    <tr>\n",
       "      <th>4</th>\n",
       "      <td>Russia</td>\n",
       "      <td>9661865</td>\n",
       "      <td>276979</td>\n",
       "      <td>9630296</td>\n",
       "      <td>275824</td>\n",
       "      <td>31569</td>\n",
       "      <td>1155</td>\n",
       "      <td>2.87</td>\n",
       "      <td>Europe</td>\n",
       "    </tr>\n",
       "  </tbody>\n",
       "</table>\n",
       "</div>"
      ],
      "text/plain": [
       "   Country/Region     Cases  Deaths    PCases  PDeaths  Cases (+)  Deaths (+)  \\\n",
       "0              US  49278278  789905  49085361   788523     192917        1382   \n",
       "1           India  34648383  473757  34641561   473537       6822         220   \n",
       "2          Brazil  22147476  615744  22143091   615636       4385         108   \n",
       "3  United Kingdom  10575062  146101  10523316   146055      51746          46   \n",
       "4          Russia   9661865  276979   9630296   275824      31569        1155   \n",
       "\n",
       "   Fatality Rate      Continent  \n",
       "0           1.60  North America  \n",
       "1           1.37           Asia  \n",
       "2           2.78  South America  \n",
       "3           1.38         Europe  \n",
       "4           2.87         Europe  "
      ]
     },
     "execution_count": 13,
     "metadata": {},
     "output_type": "execute_result"
    }
   ],
   "source": [
    "#hide\n",
    "for c in 'Cases, Deaths'.split(', '):\n",
    "    df_table[f'{c} (+)'] = (df_table[c] - df_table[f'P{c}']).clip(0)\n",
    "    #Clip ça veut dire, les chiffres negatif sont interdit\n",
    "df_table['Fatality Rate'] = (100* df_table['Deaths']/ df_table['Cases']).round(2)\n",
    "df_table['Continent'] = df_table['Country/Region'].map(mapping['map.continent'])\n",
    "df_table.head(5)"
   ]
  },
  {
   "cell_type": "code",
   "execution_count": 14,
   "id": "aboriginal-bulgaria",
   "metadata": {
    "execution": {
     "iopub.execute_input": "2021-12-08T00:26:13.920219Z",
     "iopub.status.busy": "2021-12-08T00:26:13.919526Z",
     "iopub.status.idle": "2021-12-08T00:26:13.922393Z",
     "shell.execute_reply": "2021-12-08T00:26:13.922951Z"
    },
    "papermill": {
     "duration": 0.045069,
     "end_time": "2021-12-08T00:26:13.923103",
     "exception": false,
     "start_time": "2021-12-08T00:26:13.878034",
     "status": "completed"
    },
    "tags": []
   },
   "outputs": [],
   "source": [
    "#hide\n",
    "#delete problematic countries from table\n",
    "df_table = df_table[~df_table['Country/Region'].isin(['Cape Verde', 'Cruise Ship', 'Kosovo'])]"
   ]
  },
  {
   "cell_type": "code",
   "execution_count": 15,
   "id": "fantastic-effect",
   "metadata": {
    "execution": {
     "iopub.execute_input": "2021-12-08T00:26:13.997724Z",
     "iopub.status.busy": "2021-12-08T00:26:13.997130Z",
     "iopub.status.idle": "2021-12-08T00:26:14.017783Z",
     "shell.execute_reply": "2021-12-08T00:26:14.017176Z"
    },
    "papermill": {
     "duration": 0.060211,
     "end_time": "2021-12-08T00:26:14.017913",
     "exception": false,
     "start_time": "2021-12-08T00:26:13.957702",
     "status": "completed"
    },
    "tags": []
   },
   "outputs": [
    {
     "data": {
      "text/html": [
       "<div>\n",
       "<style scoped>\n",
       "    .dataframe tbody tr th:only-of-type {\n",
       "        vertical-align: middle;\n",
       "    }\n",
       "\n",
       "    .dataframe tbody tr th {\n",
       "        vertical-align: top;\n",
       "    }\n",
       "\n",
       "    .dataframe thead th {\n",
       "        text-align: right;\n",
       "    }\n",
       "</style>\n",
       "<table border=\"1\" class=\"dataframe\">\n",
       "  <thead>\n",
       "    <tr style=\"text-align: right;\">\n",
       "      <th></th>\n",
       "      <th>Country/Region</th>\n",
       "      <th>Cases</th>\n",
       "      <th>Deaths</th>\n",
       "      <th>PCases</th>\n",
       "      <th>PDeaths</th>\n",
       "      <th>Cases (+)</th>\n",
       "      <th>Deaths (+)</th>\n",
       "      <th>Fatality Rate</th>\n",
       "      <th>Continent</th>\n",
       "    </tr>\n",
       "  </thead>\n",
       "  <tbody>\n",
       "    <tr>\n",
       "      <th>0</th>\n",
       "      <td>US</td>\n",
       "      <td>49278278</td>\n",
       "      <td>789905</td>\n",
       "      <td>49085361</td>\n",
       "      <td>788523</td>\n",
       "      <td>192917</td>\n",
       "      <td>1382</td>\n",
       "      <td>1.6</td>\n",
       "      <td>North America</td>\n",
       "    </tr>\n",
       "    <tr>\n",
       "      <th>1</th>\n",
       "      <td>India</td>\n",
       "      <td>34648383</td>\n",
       "      <td>473757</td>\n",
       "      <td>34641561</td>\n",
       "      <td>473537</td>\n",
       "      <td>6822</td>\n",
       "      <td>220</td>\n",
       "      <td>1.4</td>\n",
       "      <td>Asia</td>\n",
       "    </tr>\n",
       "    <tr>\n",
       "      <th>2</th>\n",
       "      <td>Brazil</td>\n",
       "      <td>22147476</td>\n",
       "      <td>615744</td>\n",
       "      <td>22143091</td>\n",
       "      <td>615636</td>\n",
       "      <td>4385</td>\n",
       "      <td>108</td>\n",
       "      <td>2.8</td>\n",
       "      <td>South America</td>\n",
       "    </tr>\n",
       "    <tr>\n",
       "      <th>3</th>\n",
       "      <td>United Kingdom</td>\n",
       "      <td>10575062</td>\n",
       "      <td>146101</td>\n",
       "      <td>10523316</td>\n",
       "      <td>146055</td>\n",
       "      <td>51746</td>\n",
       "      <td>46</td>\n",
       "      <td>1.4</td>\n",
       "      <td>Europe</td>\n",
       "    </tr>\n",
       "    <tr>\n",
       "      <th>4</th>\n",
       "      <td>Russia</td>\n",
       "      <td>9661865</td>\n",
       "      <td>276979</td>\n",
       "      <td>9630296</td>\n",
       "      <td>275824</td>\n",
       "      <td>31569</td>\n",
       "      <td>1155</td>\n",
       "      <td>2.9</td>\n",
       "      <td>Europe</td>\n",
       "    </tr>\n",
       "  </tbody>\n",
       "</table>\n",
       "</div>"
      ],
      "text/plain": [
       "   Country/Region     Cases  Deaths    PCases  PDeaths  Cases (+)  Deaths (+)  \\\n",
       "0              US  49278278  789905  49085361   788523     192917        1382   \n",
       "1           India  34648383  473757  34641561   473537       6822         220   \n",
       "2          Brazil  22147476  615744  22143091   615636       4385         108   \n",
       "3  United Kingdom  10575062  146101  10523316   146055      51746          46   \n",
       "4          Russia   9661865  276979   9630296   275824      31569        1155   \n",
       "\n",
       "   Fatality Rate      Continent  \n",
       "0            1.6  North America  \n",
       "1            1.4           Asia  \n",
       "2            2.8  South America  \n",
       "3            1.4         Europe  \n",
       "4            2.9         Europe  "
      ]
     },
     "execution_count": 15,
     "metadata": {},
     "output_type": "execute_result"
    }
   ],
   "source": [
    "#hide\n",
    "df_table = (pd.DataFrame(dict(Cases=dfc_cases, Deaths=dfc_deaths, PCases=dfp_cases, PDeaths=dfp_deaths))\n",
    "             .sort_values(by=['Cases', 'Deaths'], ascending=[False, False])\n",
    "             .reset_index())\n",
    "df_table.rename(columns={'index': 'Country/Region'}, inplace=True)\n",
    "for c in 'Cases, Deaths'.split(', '):\n",
    "    df_table[f'{c} (+)'] = (df_table[c] - df_table[f'P{c}']).clip(0)  # DATA BUG\n",
    "df_table['Fatality Rate'] = (100 * df_table['Deaths'] / df_table['Cases']).round(1)\n",
    "df_table['Continent'] = df_table['Country/Region'].map(mapping['map.continent'])\n",
    "df_table.head(5)"
   ]
  },
  {
   "cell_type": "code",
   "execution_count": 16,
   "id": "fewer-occasion",
   "metadata": {
    "execution": {
     "iopub.execute_input": "2021-12-08T00:26:14.083981Z",
     "iopub.status.busy": "2021-12-08T00:26:14.083397Z",
     "iopub.status.idle": "2021-12-08T00:26:14.086189Z",
     "shell.execute_reply": "2021-12-08T00:26:14.086695Z"
    },
    "papermill": {
     "duration": 0.037968,
     "end_time": "2021-12-08T00:26:14.086807",
     "exception": false,
     "start_time": "2021-12-08T00:26:14.048839",
     "status": "completed"
    },
    "tags": []
   },
   "outputs": [],
   "source": [
    "#hide\n",
    "#delete problematic countries from table\n",
    "df_table = df_table[~df_table['Country/Region'].isin(['Cape Verde', 'Cruise Ship', 'Kosovo'])]"
   ]
  },
  {
   "cell_type": "code",
   "execution_count": 17,
   "id": "related-center",
   "metadata": {
    "execution": {
     "iopub.execute_input": "2021-12-08T00:26:14.169965Z",
     "iopub.status.busy": "2021-12-08T00:26:14.169430Z",
     "iopub.status.idle": "2021-12-08T00:26:14.171634Z",
     "shell.execute_reply": "2021-12-08T00:26:14.171158Z"
    },
    "papermill": {
     "duration": 0.053297,
     "end_time": "2021-12-08T00:26:14.171737",
     "exception": false,
     "start_time": "2021-12-08T00:26:14.118440",
     "status": "completed"
    },
    "tags": []
   },
   "outputs": [],
   "source": [
    "#hide\n",
    "metrics = [df_table.columns[index] for index in [1,2,5,6]]\n",
    "# s_china = df_table[df_table['Country/Region'].eq('China')][metrics].sum().add_prefix('China ')\n",
    "s_us = df_table[df_table['Country/Region'].eq('US')][metrics].sum().add_prefix('US ')\n",
    "s_eu = df_table[df_table['Continent'].eq('Europe')][metrics].sum().add_prefix('EU ')\n",
    "s_ind = df_table[df_table['Country/Region'].eq('India')][metrics].sum().add_prefix('India ')\n",
    "summary = {'updated': pd.to_datetime(dt_today), 'since': pd.to_datetime(dt_yday)}\n",
    "summary = {'updated': pd.to_datetime(dt_today), 'since': pd.to_datetime(dt_yday)}\n",
    "summary = {**summary, **df_table[metrics].sum(), **s_ind, **s_us, **s_eu}"
   ]
  },
  {
   "cell_type": "code",
   "execution_count": 18,
   "id": "engaging-syndrome",
   "metadata": {
    "execution": {
     "iopub.execute_input": "2021-12-08T00:26:14.242438Z",
     "iopub.status.busy": "2021-12-08T00:26:14.241727Z",
     "iopub.status.idle": "2021-12-08T00:26:14.256816Z",
     "shell.execute_reply": "2021-12-08T00:26:14.257454Z"
    },
    "papermill": {
     "duration": 0.053656,
     "end_time": "2021-12-08T00:26:14.257799",
     "exception": false,
     "start_time": "2021-12-08T00:26:14.204143",
     "status": "completed"
    },
    "tags": []
   },
   "outputs": [],
   "source": [
    "#hide\n",
    "dft_ct_new_cases = dft_cases.groupby(COL_REGION)[dt_cols].sum().diff(axis=1).fillna(0).astype(int)"
   ]
  },
  {
   "cell_type": "code",
   "execution_count": 19,
   "id": "neutral-assignment",
   "metadata": {
    "execution": {
     "iopub.execute_input": "2021-12-08T00:26:14.338058Z",
     "iopub.status.busy": "2021-12-08T00:26:14.337450Z",
     "iopub.status.idle": "2021-12-08T00:26:14.339735Z",
     "shell.execute_reply": "2021-12-08T00:26:14.340294Z"
    },
    "papermill": {
     "duration": 0.044507,
     "end_time": "2021-12-08T00:26:14.340443",
     "exception": false,
     "start_time": "2021-12-08T00:26:14.295936",
     "status": "completed"
    },
    "tags": []
   },
   "outputs": [],
   "source": [
    "#hide\n",
    "everydaycases = dft_ct_new_cases.cumsum(axis=1)"
   ]
  },
  {
   "cell_type": "code",
   "execution_count": 20,
   "id": "parliamentary-calgary",
   "metadata": {
    "execution": {
     "iopub.execute_input": "2021-12-08T00:26:14.410343Z",
     "iopub.status.busy": "2021-12-08T00:26:14.409781Z",
     "iopub.status.idle": "2021-12-08T00:26:14.993296Z",
     "shell.execute_reply": "2021-12-08T00:26:14.992822Z"
    },
    "papermill": {
     "duration": 0.618575,
     "end_time": "2021-12-08T00:26:14.993427",
     "exception": false,
     "start_time": "2021-12-08T00:26:14.374852",
     "status": "completed"
    },
    "tags": []
   },
   "outputs": [],
   "source": [
    "#hide\n",
    "import pandas as pd\n",
    "import matplotlib.pyplot as plt\n",
    "import matplotlib.ticker as ticker\n",
    "import matplotlib.animation as animation\n",
    "from IPython.display import HTML"
   ]
  },
  {
   "cell_type": "code",
   "execution_count": 21,
   "id": "lasting-extraction",
   "metadata": {
    "execution": {
     "iopub.execute_input": "2021-12-08T00:26:15.062996Z",
     "iopub.status.busy": "2021-12-08T00:26:15.062477Z",
     "iopub.status.idle": "2021-12-08T00:26:15.068323Z",
     "shell.execute_reply": "2021-12-08T00:26:15.068871Z"
    },
    "papermill": {
     "duration": 0.044169,
     "end_time": "2021-12-08T00:26:15.069007",
     "exception": false,
     "start_time": "2021-12-08T00:26:15.024838",
     "status": "completed"
    },
    "tags": []
   },
   "outputs": [],
   "source": [
    "#hide\n",
    "t = everydaycases.stack()"
   ]
  },
  {
   "cell_type": "code",
   "execution_count": 22,
   "id": "premier-sleeve",
   "metadata": {
    "execution": {
     "iopub.execute_input": "2021-12-08T00:26:15.143399Z",
     "iopub.status.busy": "2021-12-08T00:26:15.142873Z",
     "iopub.status.idle": "2021-12-08T00:26:15.152480Z",
     "shell.execute_reply": "2021-12-08T00:26:15.152903Z"
    },
    "papermill": {
     "duration": 0.048541,
     "end_time": "2021-12-08T00:26:15.153021",
     "exception": false,
     "start_time": "2021-12-08T00:26:15.104480",
     "status": "completed"
    },
    "tags": []
   },
   "outputs": [],
   "source": [
    "#hide\n",
    "g = t.reset_index(['Country/Region'])"
   ]
  },
  {
   "cell_type": "code",
   "execution_count": 23,
   "id": "distributed-pittsburgh",
   "metadata": {
    "execution": {
     "iopub.execute_input": "2021-12-08T00:26:15.222853Z",
     "iopub.status.busy": "2021-12-08T00:26:15.222266Z",
     "iopub.status.idle": "2021-12-08T00:26:15.225840Z",
     "shell.execute_reply": "2021-12-08T00:26:15.226255Z"
    },
    "papermill": {
     "duration": 0.040224,
     "end_time": "2021-12-08T00:26:15.226379",
     "exception": false,
     "start_time": "2021-12-08T00:26:15.186155",
     "status": "completed"
    },
    "tags": []
   },
   "outputs": [],
   "source": [
    "#hide\n",
    "g.index.name = 'date'"
   ]
  },
  {
   "cell_type": "code",
   "execution_count": 24,
   "id": "naked-donor",
   "metadata": {
    "execution": {
     "iopub.execute_input": "2021-12-08T00:26:15.295223Z",
     "iopub.status.busy": "2021-12-08T00:26:15.294700Z",
     "iopub.status.idle": "2021-12-08T00:26:15.296603Z",
     "shell.execute_reply": "2021-12-08T00:26:15.297021Z"
    },
    "papermill": {
     "duration": 0.03882,
     "end_time": "2021-12-08T00:26:15.297135",
     "exception": false,
     "start_time": "2021-12-08T00:26:15.258315",
     "status": "completed"
    },
    "tags": []
   },
   "outputs": [],
   "source": [
    "# #hide\n",
    "# g = g.reset_index(['date'])"
   ]
  },
  {
   "cell_type": "code",
   "execution_count": 25,
   "id": "incomplete-mustang",
   "metadata": {
    "execution": {
     "iopub.execute_input": "2021-12-08T00:26:15.365924Z",
     "iopub.status.busy": "2021-12-08T00:26:15.365358Z",
     "iopub.status.idle": "2021-12-08T00:26:15.367157Z",
     "shell.execute_reply": "2021-12-08T00:26:15.367594Z"
    },
    "papermill": {
     "duration": 0.037415,
     "end_time": "2021-12-08T00:26:15.367716",
     "exception": false,
     "start_time": "2021-12-08T00:26:15.330301",
     "status": "completed"
    },
    "tags": []
   },
   "outputs": [],
   "source": [
    "#hide\n",
    "# g.head()"
   ]
  },
  {
   "cell_type": "code",
   "execution_count": 26,
   "id": "specific-kruger",
   "metadata": {
    "execution": {
     "iopub.execute_input": "2021-12-08T00:26:15.435899Z",
     "iopub.status.busy": "2021-12-08T00:26:15.435332Z",
     "iopub.status.idle": "2021-12-08T00:26:15.437063Z",
     "shell.execute_reply": "2021-12-08T00:26:15.437493Z"
    },
    "papermill": {
     "duration": 0.037326,
     "end_time": "2021-12-08T00:26:15.437613",
     "exception": false,
     "start_time": "2021-12-08T00:26:15.400287",
     "status": "completed"
    },
    "tags": []
   },
   "outputs": [],
   "source": [
    "#hide\n",
    "# g.columns = ['date','country','cases']"
   ]
  },
  {
   "cell_type": "code",
   "execution_count": 27,
   "id": "tender-conversion",
   "metadata": {
    "execution": {
     "iopub.execute_input": "2021-12-08T00:26:15.508521Z",
     "iopub.status.busy": "2021-12-08T00:26:15.507870Z",
     "iopub.status.idle": "2021-12-08T00:26:15.511814Z",
     "shell.execute_reply": "2021-12-08T00:26:15.512327Z"
    },
    "papermill": {
     "duration": 0.042634,
     "end_time": "2021-12-08T00:26:15.512471",
     "exception": false,
     "start_time": "2021-12-08T00:26:15.469837",
     "status": "completed"
    },
    "tags": []
   },
   "outputs": [],
   "source": [
    "#hide\n",
    "# g['continent'] = g.country"
   ]
  },
  {
   "cell_type": "code",
   "execution_count": 28,
   "id": "substantial-wilderness",
   "metadata": {
    "execution": {
     "iopub.execute_input": "2021-12-08T00:26:15.579708Z",
     "iopub.status.busy": "2021-12-08T00:26:15.579090Z",
     "iopub.status.idle": "2021-12-08T00:26:15.581126Z",
     "shell.execute_reply": "2021-12-08T00:26:15.580543Z"
    },
    "papermill": {
     "duration": 0.035392,
     "end_time": "2021-12-08T00:26:15.581268",
     "exception": false,
     "start_time": "2021-12-08T00:26:15.545876",
     "status": "completed"
    },
    "tags": []
   },
   "outputs": [],
   "source": [
    "#hide\n",
    "# cols = list(g.columns.values)"
   ]
  },
  {
   "cell_type": "code",
   "execution_count": 29,
   "id": "solved-farming",
   "metadata": {
    "execution": {
     "iopub.execute_input": "2021-12-08T00:26:15.653625Z",
     "iopub.status.busy": "2021-12-08T00:26:15.652922Z",
     "iopub.status.idle": "2021-12-08T00:26:15.655014Z",
     "shell.execute_reply": "2021-12-08T00:26:15.654392Z"
    },
    "papermill": {
     "duration": 0.038027,
     "end_time": "2021-12-08T00:26:15.655175",
     "exception": false,
     "start_time": "2021-12-08T00:26:15.617148",
     "status": "completed"
    },
    "tags": []
   },
   "outputs": [],
   "source": [
    "#hide\n",
    "# cols.insert(0, cols.pop())"
   ]
  },
  {
   "cell_type": "code",
   "execution_count": 30,
   "id": "executed-adoption",
   "metadata": {
    "execution": {
     "iopub.execute_input": "2021-12-08T00:26:15.726200Z",
     "iopub.status.busy": "2021-12-08T00:26:15.725498Z",
     "iopub.status.idle": "2021-12-08T00:26:15.729256Z",
     "shell.execute_reply": "2021-12-08T00:26:15.729796Z"
    },
    "papermill": {
     "duration": 0.040433,
     "end_time": "2021-12-08T00:26:15.729938",
     "exception": false,
     "start_time": "2021-12-08T00:26:15.689505",
     "status": "completed"
    },
    "tags": []
   },
   "outputs": [],
   "source": [
    "#hide\n",
    "# g = g[cols]"
   ]
  },
  {
   "cell_type": "code",
   "execution_count": 31,
   "id": "subject-dublin",
   "metadata": {
    "execution": {
     "iopub.execute_input": "2021-12-08T00:26:15.799163Z",
     "iopub.status.busy": "2021-12-08T00:26:15.798638Z",
     "iopub.status.idle": "2021-12-08T00:26:15.800539Z",
     "shell.execute_reply": "2021-12-08T00:26:15.800029Z"
    },
    "papermill": {
     "duration": 0.037696,
     "end_time": "2021-12-08T00:26:15.800640",
     "exception": false,
     "start_time": "2021-12-08T00:26:15.762944",
     "status": "completed"
    },
    "tags": []
   },
   "outputs": [],
   "source": [
    "#hide\n",
    "# g['continent'] = g['continent'].map(mapping['map.continent'])"
   ]
  },
  {
   "cell_type": "code",
   "execution_count": 32,
   "id": "freelance-scout",
   "metadata": {
    "execution": {
     "iopub.execute_input": "2021-12-08T00:26:15.871893Z",
     "iopub.status.busy": "2021-12-08T00:26:15.871320Z",
     "iopub.status.idle": "2021-12-08T00:26:15.873239Z",
     "shell.execute_reply": "2021-12-08T00:26:15.872662Z"
    },
    "papermill": {
     "duration": 0.038703,
     "end_time": "2021-12-08T00:26:15.873349",
     "exception": false,
     "start_time": "2021-12-08T00:26:15.834646",
     "status": "completed"
    },
    "tags": []
   },
   "outputs": [],
   "source": [
    "#hide\n",
    "# g.head()"
   ]
  },
  {
   "cell_type": "code",
   "execution_count": 33,
   "id": "limited-engine",
   "metadata": {
    "execution": {
     "iopub.execute_input": "2021-12-08T00:26:15.939690Z",
     "iopub.status.busy": "2021-12-08T00:26:15.939129Z",
     "iopub.status.idle": "2021-12-08T00:26:15.940910Z",
     "shell.execute_reply": "2021-12-08T00:26:15.941319Z"
    },
    "papermill": {
     "duration": 0.036698,
     "end_time": "2021-12-08T00:26:15.941436",
     "exception": false,
     "start_time": "2021-12-08T00:26:15.904738",
     "status": "completed"
    },
    "tags": []
   },
   "outputs": [],
   "source": [
    "# hide\n",
    "# g['date'] = g['date'].astype('datetime64[ns]')"
   ]
  },
  {
   "cell_type": "code",
   "execution_count": 34,
   "id": "sophisticated-supervisor",
   "metadata": {
    "execution": {
     "iopub.execute_input": "2021-12-08T00:26:16.004942Z",
     "iopub.status.busy": "2021-12-08T00:26:16.004355Z",
     "iopub.status.idle": "2021-12-08T00:26:16.006491Z",
     "shell.execute_reply": "2021-12-08T00:26:16.006899Z"
    },
    "papermill": {
     "duration": 0.035218,
     "end_time": "2021-12-08T00:26:16.007018",
     "exception": false,
     "start_time": "2021-12-08T00:26:15.971800",
     "status": "completed"
    },
    "tags": []
   },
   "outputs": [],
   "source": [
    "#hide\n",
    "# g['date'] = g.date.dt.dayofyear"
   ]
  },
  {
   "cell_type": "code",
   "execution_count": 35,
   "id": "inside-dubai",
   "metadata": {
    "execution": {
     "iopub.execute_input": "2021-12-08T00:26:16.078825Z",
     "iopub.status.busy": "2021-12-08T00:26:16.078206Z",
     "iopub.status.idle": "2021-12-08T00:26:16.080285Z",
     "shell.execute_reply": "2021-12-08T00:26:16.079671Z"
    },
    "papermill": {
     "duration": 0.040865,
     "end_time": "2021-12-08T00:26:16.080395",
     "exception": false,
     "start_time": "2021-12-08T00:26:16.039530",
     "status": "completed"
    },
    "tags": []
   },
   "outputs": [],
   "source": [
    "#hide\n",
    "# g = g.rename(columns= {'continent':'group','country':'name','cases':'value'})"
   ]
  },
  {
   "cell_type": "code",
   "execution_count": 36,
   "id": "fleet-motorcycle",
   "metadata": {
    "execution": {
     "iopub.execute_input": "2021-12-08T00:26:16.153408Z",
     "iopub.status.busy": "2021-12-08T00:26:16.152873Z",
     "iopub.status.idle": "2021-12-08T00:26:16.155955Z",
     "shell.execute_reply": "2021-12-08T00:26:16.156370Z"
    },
    "papermill": {
     "duration": 0.039418,
     "end_time": "2021-12-08T00:26:16.156491",
     "exception": false,
     "start_time": "2021-12-08T00:26:16.117073",
     "status": "completed"
    },
    "tags": []
   },
   "outputs": [],
   "source": [
    "#hide\n",
    "# cols = ['name','group','day','value']"
   ]
  },
  {
   "cell_type": "code",
   "execution_count": 37,
   "id": "continued-sleeping",
   "metadata": {
    "execution": {
     "iopub.execute_input": "2021-12-08T00:26:16.229605Z",
     "iopub.status.busy": "2021-12-08T00:26:16.229083Z",
     "iopub.status.idle": "2021-12-08T00:26:16.232393Z",
     "shell.execute_reply": "2021-12-08T00:26:16.232886Z"
    },
    "papermill": {
     "duration": 0.04167,
     "end_time": "2021-12-08T00:26:16.233065",
     "exception": false,
     "start_time": "2021-12-08T00:26:16.191395",
     "status": "completed"
    },
    "tags": []
   },
   "outputs": [],
   "source": [
    "#hide\n",
    "# g.rename(columns= {'date':'day'},inplace = True)"
   ]
  },
  {
   "cell_type": "code",
   "execution_count": 38,
   "id": "major-fight",
   "metadata": {
    "execution": {
     "iopub.execute_input": "2021-12-08T00:26:16.304113Z",
     "iopub.status.busy": "2021-12-08T00:26:16.303455Z",
     "iopub.status.idle": "2021-12-08T00:26:16.305823Z",
     "shell.execute_reply": "2021-12-08T00:26:16.305084Z"
    },
    "papermill": {
     "duration": 0.041067,
     "end_time": "2021-12-08T00:26:16.305957",
     "exception": false,
     "start_time": "2021-12-08T00:26:16.264890",
     "status": "completed"
    },
    "tags": []
   },
   "outputs": [],
   "source": [
    "#hide\n",
    "# g = g[cols]"
   ]
  },
  {
   "cell_type": "code",
   "execution_count": 39,
   "id": "structured-mobile",
   "metadata": {
    "execution": {
     "iopub.execute_input": "2021-12-08T00:26:16.380820Z",
     "iopub.status.busy": "2021-12-08T00:26:16.380298Z",
     "iopub.status.idle": "2021-12-08T00:26:16.382311Z",
     "shell.execute_reply": "2021-12-08T00:26:16.381764Z"
    },
    "papermill": {
     "duration": 0.039856,
     "end_time": "2021-12-08T00:26:16.382441",
     "exception": false,
     "start_time": "2021-12-08T00:26:16.342585",
     "status": "completed"
    },
    "tags": []
   },
   "outputs": [],
   "source": [
    "# #hide\n",
    "# g = g[g.group.notna()]"
   ]
  },
  {
   "cell_type": "code",
   "execution_count": 40,
   "id": "determined-closing",
   "metadata": {
    "execution": {
     "iopub.execute_input": "2021-12-08T00:26:16.448199Z",
     "iopub.status.busy": "2021-12-08T00:26:16.447643Z",
     "iopub.status.idle": "2021-12-08T00:26:16.449561Z",
     "shell.execute_reply": "2021-12-08T00:26:16.449971Z"
    },
    "papermill": {
     "duration": 0.036119,
     "end_time": "2021-12-08T00:26:16.450089",
     "exception": false,
     "start_time": "2021-12-08T00:26:16.413970",
     "status": "completed"
    },
    "tags": []
   },
   "outputs": [],
   "source": [
    "# #hide\n",
    "# colors = dict(zip(\n",
    "#     [\"Oceania\", \"Europe\", \"Asia\", \"South America\", \"Middle East\", \"North America\", \"Africa\"],\n",
    "#     [\"#adb0ff\", \"#ffb3ff\", \"#90d595\", \"#e48381\", \"#aafbff\", \"#f7bb5f\", \"#eafb50\"]\n",
    "# ))\n",
    "# group_lk = g.set_index('name')['group'].to_dict()"
   ]
  },
  {
   "cell_type": "code",
   "execution_count": null,
   "id": "gross-drinking",
   "metadata": {
    "papermill": {
     "duration": 0.032996,
     "end_time": "2021-12-08T00:26:16.518388",
     "exception": false,
     "start_time": "2021-12-08T00:26:16.485392",
     "status": "completed"
    },
    "tags": []
   },
   "outputs": [],
   "source": []
  },
  {
   "cell_type": "code",
   "execution_count": 41,
   "id": "subject-macintosh",
   "metadata": {
    "execution": {
     "iopub.execute_input": "2021-12-08T00:26:16.584295Z",
     "iopub.status.busy": "2021-12-08T00:26:16.583758Z",
     "iopub.status.idle": "2021-12-08T00:26:16.585602Z",
     "shell.execute_reply": "2021-12-08T00:26:16.585089Z"
    },
    "papermill": {
     "duration": 0.036119,
     "end_time": "2021-12-08T00:26:16.585703",
     "exception": false,
     "start_time": "2021-12-08T00:26:16.549584",
     "status": "completed"
    },
    "tags": []
   },
   "outputs": [],
   "source": [
    "# #hide\n",
    "# fig, ax = plt.subplots(figsize=(15, 8))\n",
    "\n",
    "# def draw_barchart(current_day):\n",
    "#     dff = g[g['day'].eq(current_day)].sort_values(by='value', ascending=True).tail(10)\n",
    "#     ax.clear()\n",
    "#     ax.barh(dff['name'], dff['value'], color=[colors[group_lk[x]] for x in dff['name']])\n",
    "#     dx = dff['value'].max() / 200\n",
    "    \n",
    "#     for i, (value, name) in enumerate(zip(dff['value'], dff['name'])):\n",
    "#         ax.text(value-dx, i,     name,           size=14, weight=600, ha='right', va='bottom')\n",
    "#         ax.text(value-dx, i-.25, group_lk[name], size=10, color='#444444', ha='right', va='baseline')\n",
    "#         ax.text(value+dx, i,     f'{value:,.0f}',  size=14, ha='left',  va='center')\n",
    "#     ax.text(1, 0.4, current_day, transform=ax.transAxes, color='#777777', size=46, ha='right', weight=800)\n",
    "#     ax.text(0, 1.06, 'Population (thousands)', transform=ax.transAxes, size=12, color='#777777')\n",
    "#     ax.xaxis.set_major_formatter(ticker.StrMethodFormatter('{x:,.0f}'))\n",
    "#     ax.xaxis.set_ticks_position('top')\n",
    "#     ax.tick_params(axis='x', colors='#777777', labelsize=12)\n",
    "#     ax.set_yticks([])\n",
    "#     ax.margins(0, 0.01)\n",
    "#     ax.grid(which='major', axis='x', linestyle='-')\n",
    "#     ax.set_axisbelow(True)\n",
    "    \n",
    "#     ax.text(0, 1.15, 'Coronavirus',\n",
    "#             transform=ax.transAxes, size=24, weight=600, ha='left', va='top')\n",
    "# #     ax.text(1, 0, 'by @pratapvardhan; credit @jburnmurdoch', transform=ax.transAxes, color='#777777', ha='right',\n",
    "# #             bbox=dict(facecolor='white', alpha=0.8, edgecolor='white'))\n",
    "#     plt.box(False)"
   ]
  },
  {
   "cell_type": "code",
   "execution_count": 42,
   "id": "sexual-wages",
   "metadata": {
    "execution": {
     "iopub.execute_input": "2021-12-08T00:26:16.659452Z",
     "iopub.status.busy": "2021-12-08T00:26:16.658888Z",
     "iopub.status.idle": "2021-12-08T00:26:16.660930Z",
     "shell.execute_reply": "2021-12-08T00:26:16.661385Z"
    },
    "papermill": {
     "duration": 0.042478,
     "end_time": "2021-12-08T00:26:16.661558",
     "exception": false,
     "start_time": "2021-12-08T00:26:16.619080",
     "status": "completed"
    },
    "tags": []
   },
   "outputs": [],
   "source": [
    "# #hide_input\n",
    "# fig, ax = plt.subplots(figsize=(15, 8))\n",
    "# animator = animation.FuncAnimation(fig, draw_barchart, frames=range(g.day.values.min(), g.day.values.max()))\n",
    "# HTML(animator.to_jshtml())\n",
    "# # or use animator.to_html5_video() or animator.save() "
   ]
  },
  {
   "cell_type": "code",
   "execution_count": null,
   "id": "australian-container",
   "metadata": {
    "papermill": {
     "duration": 0.03712,
     "end_time": "2021-12-08T00:26:16.734632",
     "exception": false,
     "start_time": "2021-12-08T00:26:16.697512",
     "status": "completed"
    },
    "tags": []
   },
   "outputs": [],
   "source": []
  },
  {
   "cell_type": "code",
   "execution_count": null,
   "id": "mediterranean-pontiac",
   "metadata": {
    "papermill": {
     "duration": 0.035906,
     "end_time": "2021-12-08T00:26:16.805939",
     "exception": false,
     "start_time": "2021-12-08T00:26:16.770033",
     "status": "completed"
    },
    "tags": []
   },
   "outputs": [],
   "source": []
  },
  {
   "cell_type": "code",
   "execution_count": null,
   "id": "aging-legislature",
   "metadata": {
    "papermill": {
     "duration": 0.034567,
     "end_time": "2021-12-08T00:26:16.877038",
     "exception": false,
     "start_time": "2021-12-08T00:26:16.842471",
     "status": "completed"
    },
    "tags": []
   },
   "outputs": [],
   "source": []
  }
 ],
 "metadata": {
  "kernelspec": {
   "display_name": "Python 3",
   "language": "python",
   "name": "python3"
  },
  "language_info": {
   "codemirror_mode": {
    "name": "ipython",
    "version": 3
   },
   "file_extension": ".py",
   "mimetype": "text/x-python",
   "name": "python",
   "nbconvert_exporter": "python",
   "pygments_lexer": "ipython3",
   "version": "3.6.15"
  },
  "papermill": {
   "duration": 6.242414,
   "end_time": "2021-12-08T00:26:17.218216",
   "environment_variables": {},
   "exception": null,
   "input_path": "2020-03-21-covid19exp.ipynb",
   "output_path": "2020-03-21-covid19exp.ipynb",
   "parameters": {},
   "start_time": "2021-12-08T00:26:10.975802",
   "version": "2.0.0"
  }
 },
 "nbformat": 4,
 "nbformat_minor": 5
}