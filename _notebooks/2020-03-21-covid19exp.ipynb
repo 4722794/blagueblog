{
 "cells": [
  {
   "cell_type": "markdown",
   "id": "muslim-click",
   "metadata": {
    "papermill": {
     "duration": 0.034276,
     "end_time": "2022-03-21T12:14:03.192581",
     "exception": false,
     "start_time": "2022-03-21T12:14:03.158305",
     "status": "completed"
    },
    "tags": []
   },
   "source": [
    "# COVID-19 Case Race\n",
    "> A race chart to see rising cases around the world\n",
    "\n",
    "- author: Hargun Oberoi\n",
    "- image: images/covid-overview.png\n",
    "- hide: false\n",
    "- badges: false"
   ]
  },
  {
   "cell_type": "code",
   "execution_count": 1,
   "id": "proof-material",
   "metadata": {
    "execution": {
     "iopub.execute_input": "2022-03-21T12:14:03.262978Z",
     "iopub.status.busy": "2022-03-21T12:14:03.262415Z",
     "iopub.status.idle": "2022-03-21T12:14:03.596438Z",
     "shell.execute_reply": "2022-03-21T12:14:03.595958Z"
    },
    "papermill": {
     "duration": 0.372799,
     "end_time": "2022-03-21T12:14:03.596579",
     "exception": false,
     "start_time": "2022-03-21T12:14:03.223780",
     "status": "completed"
    },
    "tags": []
   },
   "outputs": [],
   "source": [
    "#hide\n",
    "import numpy as np\n",
    "import pandas as pd\n",
    "from jinja2 import Template\n",
    "from IPython.display import HTML"
   ]
  },
  {
   "cell_type": "code",
   "execution_count": 2,
   "id": "developed-terminology",
   "metadata": {
    "execution": {
     "iopub.execute_input": "2022-03-21T12:14:03.660932Z",
     "iopub.status.busy": "2022-03-21T12:14:03.660348Z",
     "iopub.status.idle": "2022-03-21T12:14:03.662487Z",
     "shell.execute_reply": "2022-03-21T12:14:03.661957Z"
    },
    "papermill": {
     "duration": 0.0366,
     "end_time": "2022-03-21T12:14:03.662604",
     "exception": false,
     "start_time": "2022-03-21T12:14:03.626004",
     "status": "completed"
    },
    "tags": []
   },
   "outputs": [],
   "source": [
    "#hide\n",
    "\n",
    "# FETCH\n",
    "base_url = 'https://raw.githubusercontent.com/pratapvardhan/notebooks/master/covid19/'\n",
    "paths = {\n",
    "    'mapping': base_url + 'mapping_countries.csv',\n",
    "    'overview': base_url + 'overview.tpl'\n",
    "}"
   ]
  },
  {
   "cell_type": "code",
   "execution_count": 3,
   "id": "dynamic-saver",
   "metadata": {
    "execution": {
     "iopub.execute_input": "2022-03-21T12:14:03.731539Z",
     "iopub.status.busy": "2022-03-21T12:14:03.730968Z",
     "iopub.status.idle": "2022-03-21T12:14:03.734154Z",
     "shell.execute_reply": "2022-03-21T12:14:03.733713Z"
    },
    "papermill": {
     "duration": 0.042222,
     "end_time": "2022-03-21T12:14:03.734278",
     "exception": false,
     "start_time": "2022-03-21T12:14:03.692056",
     "status": "completed"
    },
    "tags": []
   },
   "outputs": [
    {
     "data": {
      "text/plain": [
       "'https://raw.githubusercontent.com/pratapvardhan/notebooks/master/covid19/mapping_countries.csv'"
      ]
     },
     "execution_count": 3,
     "metadata": {},
     "output_type": "execute_result"
    }
   ],
   "source": [
    "#hide\n",
    "paths['mapping']"
   ]
  },
  {
   "cell_type": "code",
   "execution_count": 4,
   "id": "urban-software",
   "metadata": {
    "execution": {
     "iopub.execute_input": "2022-03-21T12:14:03.799652Z",
     "iopub.status.busy": "2022-03-21T12:14:03.798996Z",
     "iopub.status.idle": "2022-03-21T12:14:03.800360Z",
     "shell.execute_reply": "2022-03-21T12:14:03.800852Z"
    },
    "papermill": {
     "duration": 0.036871,
     "end_time": "2022-03-21T12:14:03.800990",
     "exception": false,
     "start_time": "2022-03-21T12:14:03.764119",
     "status": "completed"
    },
    "tags": []
   },
   "outputs": [],
   "source": [
    "#hide\n",
    "def get_mappings(url):\n",
    "    df = pd.read_csv(url)\n",
    "    return {\n",
    "        'df': df,\n",
    "        'replace.country': dict(df.dropna(subset=['Name']).set_index('Country')['Name']),\n",
    "        'map.continent': dict(df.set_index('Name')['Continent'])\n",
    "    }"
   ]
  },
  {
   "cell_type": "code",
   "execution_count": 5,
   "id": "intimate-machinery",
   "metadata": {
    "execution": {
     "iopub.execute_input": "2022-03-21T12:14:03.866114Z",
     "iopub.status.busy": "2022-03-21T12:14:03.865570Z",
     "iopub.status.idle": "2022-03-21T12:14:03.900914Z",
     "shell.execute_reply": "2022-03-21T12:14:03.900395Z"
    },
    "papermill": {
     "duration": 0.070226,
     "end_time": "2022-03-21T12:14:03.901057",
     "exception": false,
     "start_time": "2022-03-21T12:14:03.830831",
     "status": "completed"
    },
    "tags": []
   },
   "outputs": [],
   "source": [
    "#hide\n",
    "mapping = get_mappings(paths['mapping'])"
   ]
  },
  {
   "cell_type": "code",
   "execution_count": 6,
   "id": "certified-tactics",
   "metadata": {
    "execution": {
     "iopub.execute_input": "2022-03-21T12:14:03.966197Z",
     "iopub.status.busy": "2022-03-21T12:14:03.965639Z",
     "iopub.status.idle": "2022-03-21T12:14:03.967740Z",
     "shell.execute_reply": "2022-03-21T12:14:03.967239Z"
    },
    "papermill": {
     "duration": 0.036804,
     "end_time": "2022-03-21T12:14:03.967852",
     "exception": false,
     "start_time": "2022-03-21T12:14:03.931048",
     "status": "completed"
    },
    "tags": []
   },
   "outputs": [],
   "source": [
    "#hide\n",
    "def get_template(path):\n",
    "    from urllib.parse import urlparse\n",
    "    if bool(urlparse(path).netloc):\n",
    "        from urllib.request import urlopen\n",
    "        return urlopen(path).read().decode('utf8')\n",
    "    return open(path).read()"
   ]
  },
  {
   "cell_type": "code",
   "execution_count": 7,
   "id": "realistic-blast",
   "metadata": {
    "execution": {
     "iopub.execute_input": "2022-03-21T12:14:04.032633Z",
     "iopub.status.busy": "2022-03-21T12:14:04.032003Z",
     "iopub.status.idle": "2022-03-21T12:14:04.033468Z",
     "shell.execute_reply": "2022-03-21T12:14:04.033973Z"
    },
    "papermill": {
     "duration": 0.036442,
     "end_time": "2022-03-21T12:14:04.034118",
     "exception": false,
     "start_time": "2022-03-21T12:14:03.997676",
     "status": "completed"
    },
    "tags": []
   },
   "outputs": [],
   "source": [
    "#hide\n",
    "def get_frame(name):\n",
    "    url = (\n",
    "        'https://raw.githubusercontent.com/CSSEGISandData/COVID-19/master/csse_covid_19_data/'\n",
    "        f'csse_covid_19_time_series/time_series_covid19_{name}_global.csv')\n",
    "    df = pd.read_csv(url)\n",
    "    # rename countries\n",
    "    df['Country/Region'] = df['Country/Region'].replace(mapping['replace.country'])\n",
    "    return df"
   ]
  },
  {
   "cell_type": "code",
   "execution_count": 8,
   "id": "affiliated-characterization",
   "metadata": {
    "execution": {
     "iopub.execute_input": "2022-03-21T12:14:04.100386Z",
     "iopub.status.busy": "2022-03-21T12:14:04.099830Z",
     "iopub.status.idle": "2022-03-21T12:14:04.101984Z",
     "shell.execute_reply": "2022-03-21T12:14:04.101554Z"
    },
    "papermill": {
     "duration": 0.037965,
     "end_time": "2022-03-21T12:14:04.102102",
     "exception": false,
     "start_time": "2022-03-21T12:14:04.064137",
     "status": "completed"
    },
    "tags": []
   },
   "outputs": [],
   "source": [
    "#hide\n",
    "def get_dates(df):\n",
    "    dt_cols = df.columns[~df.columns.isin(['Province/State', 'Country/Region', 'Lat', 'Long'])]\n",
    "    LAST_DATE_I = -1\n",
    "    # sometimes last column may be empty, then go backwards\n",
    "    for i in range(-1, -len(dt_cols), -1):\n",
    "        if not df[dt_cols[i]].fillna(0).eq(0).all():\n",
    "            LAST_DATE_I = i\n",
    "            break\n",
    "    return LAST_DATE_I, dt_cols"
   ]
  },
  {
   "cell_type": "code",
   "execution_count": 9,
   "id": "recent-optimization",
   "metadata": {
    "execution": {
     "iopub.execute_input": "2022-03-21T12:14:04.166522Z",
     "iopub.status.busy": "2022-03-21T12:14:04.165981Z",
     "iopub.status.idle": "2022-03-21T12:14:04.517251Z",
     "shell.execute_reply": "2022-03-21T12:14:04.517744Z"
    },
    "papermill": {
     "duration": 0.386142,
     "end_time": "2022-03-21T12:14:04.517894",
     "exception": false,
     "start_time": "2022-03-21T12:14:04.131752",
     "status": "completed"
    },
    "tags": []
   },
   "outputs": [],
   "source": [
    "#hide\n",
    "COL_REGION = 'Country/Region'\n",
    "# Confirmed, Recovered, Deaths\n",
    "df = get_frame('confirmed')\n",
    "# dft_: timeseries, dfc_: today country agg\n",
    "dft_cases = df\n",
    "dft_deaths = get_frame('deaths')\n",
    "dft_recovered = get_frame('recovered')\n",
    "LAST_DATE_I, dt_cols = get_dates(df)"
   ]
  },
  {
   "cell_type": "code",
   "execution_count": 10,
   "id": "absolute-copper",
   "metadata": {
    "execution": {
     "iopub.execute_input": "2022-03-21T12:14:04.583264Z",
     "iopub.status.busy": "2022-03-21T12:14:04.582633Z",
     "iopub.status.idle": "2022-03-21T12:14:04.584096Z",
     "shell.execute_reply": "2022-03-21T12:14:04.584670Z"
    },
    "papermill": {
     "duration": 0.037003,
     "end_time": "2022-03-21T12:14:04.584821",
     "exception": false,
     "start_time": "2022-03-21T12:14:04.547818",
     "status": "completed"
    },
    "tags": []
   },
   "outputs": [],
   "source": [
    "#hide\n",
    "LAST_DATE_I, dt_cols = get_dates(df)\n",
    "dt_today =dt_cols[LAST_DATE_I]\n",
    "# dt_5day = dt_cols[LAST_DATE_I - 5]\n",
    "dt_yday = dt_cols[LAST_DATE_I - 1]"
   ]
  },
  {
   "cell_type": "code",
   "execution_count": 11,
   "id": "restricted-sheriff",
   "metadata": {
    "execution": {
     "iopub.execute_input": "2022-03-21T12:14:04.652058Z",
     "iopub.status.busy": "2022-03-21T12:14:04.651523Z",
     "iopub.status.idle": "2022-03-21T12:14:04.656806Z",
     "shell.execute_reply": "2022-03-21T12:14:04.657199Z"
    },
    "papermill": {
     "duration": 0.04259,
     "end_time": "2022-03-21T12:14:04.657340",
     "exception": false,
     "start_time": "2022-03-21T12:14:04.614750",
     "status": "completed"
    },
    "tags": []
   },
   "outputs": [],
   "source": [
    "#hide\n",
    "dfc_cases = dft_cases.groupby(COL_REGION)[dt_today].sum()\n",
    "dfc_deaths = dft_deaths.groupby(COL_REGION)[dt_today].sum()\n",
    "# dfp_cases = dft_cases.groupby(COL_REGION)[dt_5day].sum()\n",
    "# dfp_deaths = dft_deaths.groupby(COL_REGION)[dt_5day].sum()\n",
    "dfp_cases = dft_cases.groupby(COL_REGION)[dt_yday].sum()\n",
    "dfp_deaths = dft_deaths.groupby(COL_REGION)[dt_yday].sum()"
   ]
  },
  {
   "cell_type": "code",
   "execution_count": 12,
   "id": "deluxe-hepatitis",
   "metadata": {
    "execution": {
     "iopub.execute_input": "2022-03-21T12:14:04.723662Z",
     "iopub.status.busy": "2022-03-21T12:14:04.723097Z",
     "iopub.status.idle": "2022-03-21T12:14:04.727132Z",
     "shell.execute_reply": "2022-03-21T12:14:04.726699Z"
    },
    "papermill": {
     "duration": 0.040113,
     "end_time": "2022-03-21T12:14:04.727251",
     "exception": false,
     "start_time": "2022-03-21T12:14:04.687138",
     "status": "completed"
    },
    "tags": []
   },
   "outputs": [],
   "source": [
    "#hide\n",
    "df_table = (pd.DataFrame(dict(Cases = dfc_cases, Deaths = dfc_deaths, PCases = dfp_cases, PDeaths = dfp_deaths))\n",
    "            .sort_values(by = ['Cases','Deaths'], ascending = [False, False])\n",
    "            .reset_index())"
   ]
  },
  {
   "cell_type": "code",
   "execution_count": 13,
   "id": "educational-chancellor",
   "metadata": {
    "execution": {
     "iopub.execute_input": "2022-03-21T12:14:04.805069Z",
     "iopub.status.busy": "2022-03-21T12:14:04.804522Z",
     "iopub.status.idle": "2022-03-21T12:14:04.812156Z",
     "shell.execute_reply": "2022-03-21T12:14:04.811709Z"
    },
    "papermill": {
     "duration": 0.055259,
     "end_time": "2022-03-21T12:14:04.812274",
     "exception": false,
     "start_time": "2022-03-21T12:14:04.757015",
     "status": "completed"
    },
    "tags": []
   },
   "outputs": [
    {
     "data": {
      "text/html": [
       "<div>\n",
       "<style scoped>\n",
       "    .dataframe tbody tr th:only-of-type {\n",
       "        vertical-align: middle;\n",
       "    }\n",
       "\n",
       "    .dataframe tbody tr th {\n",
       "        vertical-align: top;\n",
       "    }\n",
       "\n",
       "    .dataframe thead th {\n",
       "        text-align: right;\n",
       "    }\n",
       "</style>\n",
       "<table border=\"1\" class=\"dataframe\">\n",
       "  <thead>\n",
       "    <tr style=\"text-align: right;\">\n",
       "      <th></th>\n",
       "      <th>Country/Region</th>\n",
       "      <th>Cases</th>\n",
       "      <th>Deaths</th>\n",
       "      <th>PCases</th>\n",
       "      <th>PDeaths</th>\n",
       "      <th>Cases (+)</th>\n",
       "      <th>Deaths (+)</th>\n",
       "      <th>Fatality Rate</th>\n",
       "      <th>Continent</th>\n",
       "    </tr>\n",
       "  </thead>\n",
       "  <tbody>\n",
       "    <tr>\n",
       "      <th>0</th>\n",
       "      <td>US</td>\n",
       "      <td>79734788</td>\n",
       "      <td>971162</td>\n",
       "      <td>79728165</td>\n",
       "      <td>971087</td>\n",
       "      <td>6623</td>\n",
       "      <td>75</td>\n",
       "      <td>1.22</td>\n",
       "      <td>North America</td>\n",
       "    </tr>\n",
       "    <tr>\n",
       "      <th>1</th>\n",
       "      <td>India</td>\n",
       "      <td>43009390</td>\n",
       "      <td>516510</td>\n",
       "      <td>43007841</td>\n",
       "      <td>516479</td>\n",
       "      <td>1549</td>\n",
       "      <td>31</td>\n",
       "      <td>1.20</td>\n",
       "      <td>Asia</td>\n",
       "    </tr>\n",
       "    <tr>\n",
       "      <th>2</th>\n",
       "      <td>Brazil</td>\n",
       "      <td>29637814</td>\n",
       "      <td>657495</td>\n",
       "      <td>29624435</td>\n",
       "      <td>657389</td>\n",
       "      <td>13379</td>\n",
       "      <td>106</td>\n",
       "      <td>2.22</td>\n",
       "      <td>South America</td>\n",
       "    </tr>\n",
       "    <tr>\n",
       "      <th>3</th>\n",
       "      <td>France</td>\n",
       "      <td>24323239</td>\n",
       "      <td>141961</td>\n",
       "      <td>24241956</td>\n",
       "      <td>141931</td>\n",
       "      <td>81283</td>\n",
       "      <td>30</td>\n",
       "      <td>0.58</td>\n",
       "      <td>Europe</td>\n",
       "    </tr>\n",
       "    <tr>\n",
       "      <th>4</th>\n",
       "      <td>United Kingdom</td>\n",
       "      <td>20243940</td>\n",
       "      <td>164099</td>\n",
       "      <td>20243940</td>\n",
       "      <td>164099</td>\n",
       "      <td>0</td>\n",
       "      <td>0</td>\n",
       "      <td>0.81</td>\n",
       "      <td>Europe</td>\n",
       "    </tr>\n",
       "  </tbody>\n",
       "</table>\n",
       "</div>"
      ],
      "text/plain": [
       "   Country/Region     Cases  Deaths    PCases  PDeaths  Cases (+)  Deaths (+)  \\\n",
       "0              US  79734788  971162  79728165   971087       6623          75   \n",
       "1           India  43009390  516510  43007841   516479       1549          31   \n",
       "2          Brazil  29637814  657495  29624435   657389      13379         106   \n",
       "3          France  24323239  141961  24241956   141931      81283          30   \n",
       "4  United Kingdom  20243940  164099  20243940   164099          0           0   \n",
       "\n",
       "   Fatality Rate      Continent  \n",
       "0           1.22  North America  \n",
       "1           1.20           Asia  \n",
       "2           2.22  South America  \n",
       "3           0.58         Europe  \n",
       "4           0.81         Europe  "
      ]
     },
     "execution_count": 13,
     "metadata": {},
     "output_type": "execute_result"
    }
   ],
   "source": [
    "#hide\n",
    "for c in 'Cases, Deaths'.split(', '):\n",
    "    df_table[f'{c} (+)'] = (df_table[c] - df_table[f'P{c}']).clip(0)\n",
    "    #Clip ça veut dire, les chiffres negatif sont interdit\n",
    "df_table['Fatality Rate'] = (100* df_table['Deaths']/ df_table['Cases']).round(2)\n",
    "df_table['Continent'] = df_table['Country/Region'].map(mapping['map.continent'])\n",
    "df_table.head(5)"
   ]
  },
  {
   "cell_type": "code",
   "execution_count": 14,
   "id": "aboriginal-bulgaria",
   "metadata": {
    "execution": {
     "iopub.execute_input": "2022-03-21T12:14:04.879031Z",
     "iopub.status.busy": "2022-03-21T12:14:04.878411Z",
     "iopub.status.idle": "2022-03-21T12:14:04.879930Z",
     "shell.execute_reply": "2022-03-21T12:14:04.880374Z"
    },
    "papermill": {
     "duration": 0.037933,
     "end_time": "2022-03-21T12:14:04.880521",
     "exception": false,
     "start_time": "2022-03-21T12:14:04.842588",
     "status": "completed"
    },
    "tags": []
   },
   "outputs": [],
   "source": [
    "#hide\n",
    "#delete problematic countries from table\n",
    "df_table = df_table[~df_table['Country/Region'].isin(['Cape Verde', 'Cruise Ship', 'Kosovo'])]"
   ]
  },
  {
   "cell_type": "code",
   "execution_count": 15,
   "id": "fantastic-effect",
   "metadata": {
    "execution": {
     "iopub.execute_input": "2022-03-21T12:14:04.949263Z",
     "iopub.status.busy": "2022-03-21T12:14:04.948594Z",
     "iopub.status.idle": "2022-03-21T12:14:04.965809Z",
     "shell.execute_reply": "2022-03-21T12:14:04.966258Z"
    },
    "papermill": {
     "duration": 0.055494,
     "end_time": "2022-03-21T12:14:04.966395",
     "exception": false,
     "start_time": "2022-03-21T12:14:04.910901",
     "status": "completed"
    },
    "tags": []
   },
   "outputs": [
    {
     "data": {
      "text/html": [
       "<div>\n",
       "<style scoped>\n",
       "    .dataframe tbody tr th:only-of-type {\n",
       "        vertical-align: middle;\n",
       "    }\n",
       "\n",
       "    .dataframe tbody tr th {\n",
       "        vertical-align: top;\n",
       "    }\n",
       "\n",
       "    .dataframe thead th {\n",
       "        text-align: right;\n",
       "    }\n",
       "</style>\n",
       "<table border=\"1\" class=\"dataframe\">\n",
       "  <thead>\n",
       "    <tr style=\"text-align: right;\">\n",
       "      <th></th>\n",
       "      <th>Country/Region</th>\n",
       "      <th>Cases</th>\n",
       "      <th>Deaths</th>\n",
       "      <th>PCases</th>\n",
       "      <th>PDeaths</th>\n",
       "      <th>Cases (+)</th>\n",
       "      <th>Deaths (+)</th>\n",
       "      <th>Fatality Rate</th>\n",
       "      <th>Continent</th>\n",
       "    </tr>\n",
       "  </thead>\n",
       "  <tbody>\n",
       "    <tr>\n",
       "      <th>0</th>\n",
       "      <td>US</td>\n",
       "      <td>79734788</td>\n",
       "      <td>971162</td>\n",
       "      <td>79728165</td>\n",
       "      <td>971087</td>\n",
       "      <td>6623</td>\n",
       "      <td>75</td>\n",
       "      <td>1.2</td>\n",
       "      <td>North America</td>\n",
       "    </tr>\n",
       "    <tr>\n",
       "      <th>1</th>\n",
       "      <td>India</td>\n",
       "      <td>43009390</td>\n",
       "      <td>516510</td>\n",
       "      <td>43007841</td>\n",
       "      <td>516479</td>\n",
       "      <td>1549</td>\n",
       "      <td>31</td>\n",
       "      <td>1.2</td>\n",
       "      <td>Asia</td>\n",
       "    </tr>\n",
       "    <tr>\n",
       "      <th>2</th>\n",
       "      <td>Brazil</td>\n",
       "      <td>29637814</td>\n",
       "      <td>657495</td>\n",
       "      <td>29624435</td>\n",
       "      <td>657389</td>\n",
       "      <td>13379</td>\n",
       "      <td>106</td>\n",
       "      <td>2.2</td>\n",
       "      <td>South America</td>\n",
       "    </tr>\n",
       "    <tr>\n",
       "      <th>3</th>\n",
       "      <td>France</td>\n",
       "      <td>24323239</td>\n",
       "      <td>141961</td>\n",
       "      <td>24241956</td>\n",
       "      <td>141931</td>\n",
       "      <td>81283</td>\n",
       "      <td>30</td>\n",
       "      <td>0.6</td>\n",
       "      <td>Europe</td>\n",
       "    </tr>\n",
       "    <tr>\n",
       "      <th>4</th>\n",
       "      <td>United Kingdom</td>\n",
       "      <td>20243940</td>\n",
       "      <td>164099</td>\n",
       "      <td>20243940</td>\n",
       "      <td>164099</td>\n",
       "      <td>0</td>\n",
       "      <td>0</td>\n",
       "      <td>0.8</td>\n",
       "      <td>Europe</td>\n",
       "    </tr>\n",
       "  </tbody>\n",
       "</table>\n",
       "</div>"
      ],
      "text/plain": [
       "   Country/Region     Cases  Deaths    PCases  PDeaths  Cases (+)  Deaths (+)  \\\n",
       "0              US  79734788  971162  79728165   971087       6623          75   \n",
       "1           India  43009390  516510  43007841   516479       1549          31   \n",
       "2          Brazil  29637814  657495  29624435   657389      13379         106   \n",
       "3          France  24323239  141961  24241956   141931      81283          30   \n",
       "4  United Kingdom  20243940  164099  20243940   164099          0           0   \n",
       "\n",
       "   Fatality Rate      Continent  \n",
       "0            1.2  North America  \n",
       "1            1.2           Asia  \n",
       "2            2.2  South America  \n",
       "3            0.6         Europe  \n",
       "4            0.8         Europe  "
      ]
     },
     "execution_count": 15,
     "metadata": {},
     "output_type": "execute_result"
    }
   ],
   "source": [
    "#hide\n",
    "df_table = (pd.DataFrame(dict(Cases=dfc_cases, Deaths=dfc_deaths, PCases=dfp_cases, PDeaths=dfp_deaths))\n",
    "             .sort_values(by=['Cases', 'Deaths'], ascending=[False, False])\n",
    "             .reset_index())\n",
    "df_table.rename(columns={'index': 'Country/Region'}, inplace=True)\n",
    "for c in 'Cases, Deaths'.split(', '):\n",
    "    df_table[f'{c} (+)'] = (df_table[c] - df_table[f'P{c}']).clip(0)  # DATA BUG\n",
    "df_table['Fatality Rate'] = (100 * df_table['Deaths'] / df_table['Cases']).round(1)\n",
    "df_table['Continent'] = df_table['Country/Region'].map(mapping['map.continent'])\n",
    "df_table.head(5)"
   ]
  },
  {
   "cell_type": "code",
   "execution_count": 16,
   "id": "fewer-occasion",
   "metadata": {
    "execution": {
     "iopub.execute_input": "2022-03-21T12:14:05.034175Z",
     "iopub.status.busy": "2022-03-21T12:14:05.033621Z",
     "iopub.status.idle": "2022-03-21T12:14:05.035824Z",
     "shell.execute_reply": "2022-03-21T12:14:05.036220Z"
    },
    "papermill": {
     "duration": 0.039043,
     "end_time": "2022-03-21T12:14:05.036361",
     "exception": false,
     "start_time": "2022-03-21T12:14:04.997318",
     "status": "completed"
    },
    "tags": []
   },
   "outputs": [],
   "source": [
    "#hide\n",
    "#delete problematic countries from table\n",
    "df_table = df_table[~df_table['Country/Region'].isin(['Cape Verde', 'Cruise Ship', 'Kosovo'])]"
   ]
  },
  {
   "cell_type": "code",
   "execution_count": 17,
   "id": "related-center",
   "metadata": {
    "execution": {
     "iopub.execute_input": "2022-03-21T12:14:05.117665Z",
     "iopub.status.busy": "2022-03-21T12:14:05.117052Z",
     "iopub.status.idle": "2022-03-21T12:14:05.119195Z",
     "shell.execute_reply": "2022-03-21T12:14:05.118771Z"
    },
    "papermill": {
     "duration": 0.052125,
     "end_time": "2022-03-21T12:14:05.119316",
     "exception": false,
     "start_time": "2022-03-21T12:14:05.067191",
     "status": "completed"
    },
    "tags": []
   },
   "outputs": [],
   "source": [
    "#hide\n",
    "metrics = [df_table.columns[index] for index in [1,2,5,6]]\n",
    "# s_china = df_table[df_table['Country/Region'].eq('China')][metrics].sum().add_prefix('China ')\n",
    "s_us = df_table[df_table['Country/Region'].eq('US')][metrics].sum().add_prefix('US ')\n",
    "s_eu = df_table[df_table['Continent'].eq('Europe')][metrics].sum().add_prefix('EU ')\n",
    "s_ind = df_table[df_table['Country/Region'].eq('India')][metrics].sum().add_prefix('India ')\n",
    "summary = {'updated': pd.to_datetime(dt_today), 'since': pd.to_datetime(dt_yday)}\n",
    "summary = {'updated': pd.to_datetime(dt_today), 'since': pd.to_datetime(dt_yday)}\n",
    "summary = {**summary, **df_table[metrics].sum(), **s_ind, **s_us, **s_eu}"
   ]
  },
  {
   "cell_type": "code",
   "execution_count": 18,
   "id": "engaging-syndrome",
   "metadata": {
    "execution": {
     "iopub.execute_input": "2022-03-21T12:14:05.186457Z",
     "iopub.status.busy": "2022-03-21T12:14:05.185922Z",
     "iopub.status.idle": "2022-03-21T12:14:05.203904Z",
     "shell.execute_reply": "2022-03-21T12:14:05.203370Z"
    },
    "papermill": {
     "duration": 0.053787,
     "end_time": "2022-03-21T12:14:05.204035",
     "exception": false,
     "start_time": "2022-03-21T12:14:05.150248",
     "status": "completed"
    },
    "tags": []
   },
   "outputs": [],
   "source": [
    "#hide\n",
    "dft_ct_new_cases = dft_cases.groupby(COL_REGION)[dt_cols].sum().diff(axis=1).fillna(0).astype(int)"
   ]
  },
  {
   "cell_type": "code",
   "execution_count": 19,
   "id": "neutral-assignment",
   "metadata": {
    "execution": {
     "iopub.execute_input": "2022-03-21T12:14:05.273380Z",
     "iopub.status.busy": "2022-03-21T12:14:05.272827Z",
     "iopub.status.idle": "2022-03-21T12:14:05.274953Z",
     "shell.execute_reply": "2022-03-21T12:14:05.274535Z"
    },
    "papermill": {
     "duration": 0.039336,
     "end_time": "2022-03-21T12:14:05.275068",
     "exception": false,
     "start_time": "2022-03-21T12:14:05.235732",
     "status": "completed"
    },
    "tags": []
   },
   "outputs": [],
   "source": [
    "#hide\n",
    "everydaycases = dft_ct_new_cases.cumsum(axis=1)"
   ]
  },
  {
   "cell_type": "code",
   "execution_count": 20,
   "id": "parliamentary-calgary",
   "metadata": {
    "execution": {
     "iopub.execute_input": "2022-03-21T12:14:05.341498Z",
     "iopub.status.busy": "2022-03-21T12:14:05.340909Z",
     "iopub.status.idle": "2022-03-21T12:14:05.940659Z",
     "shell.execute_reply": "2022-03-21T12:14:05.940132Z"
    },
    "papermill": {
     "duration": 0.634787,
     "end_time": "2022-03-21T12:14:05.940799",
     "exception": false,
     "start_time": "2022-03-21T12:14:05.306012",
     "status": "completed"
    },
    "tags": []
   },
   "outputs": [],
   "source": [
    "#hide\n",
    "import pandas as pd\n",
    "import matplotlib.pyplot as plt\n",
    "import matplotlib.ticker as ticker\n",
    "import matplotlib.animation as animation\n",
    "from IPython.display import HTML"
   ]
  },
  {
   "cell_type": "code",
   "execution_count": 21,
   "id": "lasting-extraction",
   "metadata": {
    "execution": {
     "iopub.execute_input": "2022-03-21T12:14:06.009630Z",
     "iopub.status.busy": "2022-03-21T12:14:06.009056Z",
     "iopub.status.idle": "2022-03-21T12:14:06.015358Z",
     "shell.execute_reply": "2022-03-21T12:14:06.014942Z"
    },
    "papermill": {
     "duration": 0.043051,
     "end_time": "2022-03-21T12:14:06.015479",
     "exception": false,
     "start_time": "2022-03-21T12:14:05.972428",
     "status": "completed"
    },
    "tags": []
   },
   "outputs": [],
   "source": [
    "#hide\n",
    "t = everydaycases.stack()"
   ]
  },
  {
   "cell_type": "code",
   "execution_count": 22,
   "id": "premier-sleeve",
   "metadata": {
    "execution": {
     "iopub.execute_input": "2022-03-21T12:14:06.081819Z",
     "iopub.status.busy": "2022-03-21T12:14:06.081212Z",
     "iopub.status.idle": "2022-03-21T12:14:06.093440Z",
     "shell.execute_reply": "2022-03-21T12:14:06.092977Z"
    },
    "papermill": {
     "duration": 0.047121,
     "end_time": "2022-03-21T12:14:06.093565",
     "exception": false,
     "start_time": "2022-03-21T12:14:06.046444",
     "status": "completed"
    },
    "tags": []
   },
   "outputs": [],
   "source": [
    "#hide\n",
    "g = t.reset_index(['Country/Region'])"
   ]
  },
  {
   "cell_type": "code",
   "execution_count": 23,
   "id": "distributed-pittsburgh",
   "metadata": {
    "execution": {
     "iopub.execute_input": "2022-03-21T12:14:06.159416Z",
     "iopub.status.busy": "2022-03-21T12:14:06.158852Z",
     "iopub.status.idle": "2022-03-21T12:14:06.162421Z",
     "shell.execute_reply": "2022-03-21T12:14:06.161970Z"
    },
    "papermill": {
     "duration": 0.03824,
     "end_time": "2022-03-21T12:14:06.162535",
     "exception": false,
     "start_time": "2022-03-21T12:14:06.124295",
     "status": "completed"
    },
    "tags": []
   },
   "outputs": [],
   "source": [
    "#hide\n",
    "g.index.name = 'date'"
   ]
  },
  {
   "cell_type": "code",
   "execution_count": 24,
   "id": "naked-donor",
   "metadata": {
    "execution": {
     "iopub.execute_input": "2022-03-21T12:14:06.228533Z",
     "iopub.status.busy": "2022-03-21T12:14:06.227875Z",
     "iopub.status.idle": "2022-03-21T12:14:06.231429Z",
     "shell.execute_reply": "2022-03-21T12:14:06.231825Z"
    },
    "papermill": {
     "duration": 0.038529,
     "end_time": "2022-03-21T12:14:06.231968",
     "exception": false,
     "start_time": "2022-03-21T12:14:06.193439",
     "status": "completed"
    },
    "tags": []
   },
   "outputs": [],
   "source": [
    "# #hide\n",
    "# g = g.reset_index(['date'])"
   ]
  },
  {
   "cell_type": "code",
   "execution_count": 25,
   "id": "incomplete-mustang",
   "metadata": {
    "execution": {
     "iopub.execute_input": "2022-03-21T12:14:06.297456Z",
     "iopub.status.busy": "2022-03-21T12:14:06.296808Z",
     "iopub.status.idle": "2022-03-21T12:14:06.298889Z",
     "shell.execute_reply": "2022-03-21T12:14:06.298308Z"
    },
    "papermill": {
     "duration": 0.036245,
     "end_time": "2022-03-21T12:14:06.299016",
     "exception": false,
     "start_time": "2022-03-21T12:14:06.262771",
     "status": "completed"
    },
    "tags": []
   },
   "outputs": [],
   "source": [
    "#hide\n",
    "# g.head()"
   ]
  },
  {
   "cell_type": "code",
   "execution_count": 26,
   "id": "specific-kruger",
   "metadata": {
    "execution": {
     "iopub.execute_input": "2022-03-21T12:14:06.364904Z",
     "iopub.status.busy": "2022-03-21T12:14:06.364317Z",
     "iopub.status.idle": "2022-03-21T12:14:06.366495Z",
     "shell.execute_reply": "2022-03-21T12:14:06.365966Z"
    },
    "papermill": {
     "duration": 0.036266,
     "end_time": "2022-03-21T12:14:06.366615",
     "exception": false,
     "start_time": "2022-03-21T12:14:06.330349",
     "status": "completed"
    },
    "tags": []
   },
   "outputs": [],
   "source": [
    "#hide\n",
    "# g.columns = ['date','country','cases']"
   ]
  },
  {
   "cell_type": "code",
   "execution_count": 27,
   "id": "tender-conversion",
   "metadata": {
    "execution": {
     "iopub.execute_input": "2022-03-21T12:14:06.432519Z",
     "iopub.status.busy": "2022-03-21T12:14:06.431896Z",
     "iopub.status.idle": "2022-03-21T12:14:06.435854Z",
     "shell.execute_reply": "2022-03-21T12:14:06.435425Z"
    },
    "papermill": {
     "duration": 0.038275,
     "end_time": "2022-03-21T12:14:06.435975",
     "exception": false,
     "start_time": "2022-03-21T12:14:06.397700",
     "status": "completed"
    },
    "tags": []
   },
   "outputs": [],
   "source": [
    "#hide\n",
    "# g['continent'] = g.country"
   ]
  },
  {
   "cell_type": "code",
   "execution_count": 28,
   "id": "substantial-wilderness",
   "metadata": {
    "execution": {
     "iopub.execute_input": "2022-03-21T12:14:06.501764Z",
     "iopub.status.busy": "2022-03-21T12:14:06.501088Z",
     "iopub.status.idle": "2022-03-21T12:14:06.503131Z",
     "shell.execute_reply": "2022-03-21T12:14:06.502552Z"
    },
    "papermill": {
     "duration": 0.03638,
     "end_time": "2022-03-21T12:14:06.503257",
     "exception": false,
     "start_time": "2022-03-21T12:14:06.466877",
     "status": "completed"
    },
    "tags": []
   },
   "outputs": [],
   "source": [
    "#hide\n",
    "# cols = list(g.columns.values)"
   ]
  },
  {
   "cell_type": "code",
   "execution_count": 29,
   "id": "solved-farming",
   "metadata": {
    "execution": {
     "iopub.execute_input": "2022-03-21T12:14:06.568837Z",
     "iopub.status.busy": "2022-03-21T12:14:06.568305Z",
     "iopub.status.idle": "2022-03-21T12:14:06.570455Z",
     "shell.execute_reply": "2022-03-21T12:14:06.569987Z"
    },
    "papermill": {
     "duration": 0.036109,
     "end_time": "2022-03-21T12:14:06.570564",
     "exception": false,
     "start_time": "2022-03-21T12:14:06.534455",
     "status": "completed"
    },
    "tags": []
   },
   "outputs": [],
   "source": [
    "#hide\n",
    "# cols.insert(0, cols.pop())"
   ]
  },
  {
   "cell_type": "code",
   "execution_count": 30,
   "id": "executed-adoption",
   "metadata": {
    "execution": {
     "iopub.execute_input": "2022-03-21T12:14:06.636111Z",
     "iopub.status.busy": "2022-03-21T12:14:06.635450Z",
     "iopub.status.idle": "2022-03-21T12:14:06.638936Z",
     "shell.execute_reply": "2022-03-21T12:14:06.639381Z"
    },
    "papermill": {
     "duration": 0.03817,
     "end_time": "2022-03-21T12:14:06.639530",
     "exception": false,
     "start_time": "2022-03-21T12:14:06.601360",
     "status": "completed"
    },
    "tags": []
   },
   "outputs": [],
   "source": [
    "#hide\n",
    "# g = g[cols]"
   ]
  },
  {
   "cell_type": "code",
   "execution_count": 31,
   "id": "subject-dublin",
   "metadata": {
    "execution": {
     "iopub.execute_input": "2022-03-21T12:14:06.705081Z",
     "iopub.status.busy": "2022-03-21T12:14:06.704433Z",
     "iopub.status.idle": "2022-03-21T12:14:06.708002Z",
     "shell.execute_reply": "2022-03-21T12:14:06.708459Z"
    },
    "papermill": {
     "duration": 0.038189,
     "end_time": "2022-03-21T12:14:06.708615",
     "exception": false,
     "start_time": "2022-03-21T12:14:06.670426",
     "status": "completed"
    },
    "tags": []
   },
   "outputs": [],
   "source": [
    "#hide\n",
    "# g['continent'] = g['continent'].map(mapping['map.continent'])"
   ]
  },
  {
   "cell_type": "code",
   "execution_count": 32,
   "id": "freelance-scout",
   "metadata": {
    "execution": {
     "iopub.execute_input": "2022-03-21T12:14:06.774254Z",
     "iopub.status.busy": "2022-03-21T12:14:06.773702Z",
     "iopub.status.idle": "2022-03-21T12:14:06.775742Z",
     "shell.execute_reply": "2022-03-21T12:14:06.775304Z"
    },
    "papermill": {
     "duration": 0.036112,
     "end_time": "2022-03-21T12:14:06.775853",
     "exception": false,
     "start_time": "2022-03-21T12:14:06.739741",
     "status": "completed"
    },
    "tags": []
   },
   "outputs": [],
   "source": [
    "#hide\n",
    "# g.head()"
   ]
  },
  {
   "cell_type": "code",
   "execution_count": 33,
   "id": "limited-engine",
   "metadata": {
    "execution": {
     "iopub.execute_input": "2022-03-21T12:14:06.840923Z",
     "iopub.status.busy": "2022-03-21T12:14:06.840279Z",
     "iopub.status.idle": "2022-03-21T12:14:06.841778Z",
     "shell.execute_reply": "2022-03-21T12:14:06.842278Z"
    },
    "papermill": {
     "duration": 0.036017,
     "end_time": "2022-03-21T12:14:06.842421",
     "exception": false,
     "start_time": "2022-03-21T12:14:06.806404",
     "status": "completed"
    },
    "tags": []
   },
   "outputs": [],
   "source": [
    "# hide\n",
    "# g['date'] = g['date'].astype('datetime64[ns]')"
   ]
  },
  {
   "cell_type": "code",
   "execution_count": 34,
   "id": "sophisticated-supervisor",
   "metadata": {
    "execution": {
     "iopub.execute_input": "2022-03-21T12:14:06.908041Z",
     "iopub.status.busy": "2022-03-21T12:14:06.907422Z",
     "iopub.status.idle": "2022-03-21T12:14:06.910905Z",
     "shell.execute_reply": "2022-03-21T12:14:06.911353Z"
    },
    "papermill": {
     "duration": 0.037993,
     "end_time": "2022-03-21T12:14:06.911505",
     "exception": false,
     "start_time": "2022-03-21T12:14:06.873512",
     "status": "completed"
    },
    "tags": []
   },
   "outputs": [],
   "source": [
    "#hide\n",
    "# g['date'] = g.date.dt.dayofyear"
   ]
  },
  {
   "cell_type": "code",
   "execution_count": 35,
   "id": "inside-dubai",
   "metadata": {
    "execution": {
     "iopub.execute_input": "2022-03-21T12:14:06.976915Z",
     "iopub.status.busy": "2022-03-21T12:14:06.976357Z",
     "iopub.status.idle": "2022-03-21T12:14:06.980089Z",
     "shell.execute_reply": "2022-03-21T12:14:06.979671Z"
    },
    "papermill": {
     "duration": 0.03782,
     "end_time": "2022-03-21T12:14:06.980204",
     "exception": false,
     "start_time": "2022-03-21T12:14:06.942384",
     "status": "completed"
    },
    "tags": []
   },
   "outputs": [],
   "source": [
    "#hide\n",
    "# g = g.rename(columns= {'continent':'group','country':'name','cases':'value'})"
   ]
  },
  {
   "cell_type": "code",
   "execution_count": 36,
   "id": "fleet-motorcycle",
   "metadata": {
    "execution": {
     "iopub.execute_input": "2022-03-21T12:14:07.046084Z",
     "iopub.status.busy": "2022-03-21T12:14:07.045442Z",
     "iopub.status.idle": "2022-03-21T12:14:07.047372Z",
     "shell.execute_reply": "2022-03-21T12:14:07.046796Z"
    },
    "papermill": {
     "duration": 0.036268,
     "end_time": "2022-03-21T12:14:07.047497",
     "exception": false,
     "start_time": "2022-03-21T12:14:07.011229",
     "status": "completed"
    },
    "tags": []
   },
   "outputs": [],
   "source": [
    "#hide\n",
    "# cols = ['name','group','day','value']"
   ]
  },
  {
   "cell_type": "code",
   "execution_count": 37,
   "id": "continued-sleeping",
   "metadata": {
    "execution": {
     "iopub.execute_input": "2022-03-21T12:14:07.113135Z",
     "iopub.status.busy": "2022-03-21T12:14:07.112451Z",
     "iopub.status.idle": "2022-03-21T12:14:07.116266Z",
     "shell.execute_reply": "2022-03-21T12:14:07.116716Z"
    },
    "papermill": {
     "duration": 0.038607,
     "end_time": "2022-03-21T12:14:07.116871",
     "exception": false,
     "start_time": "2022-03-21T12:14:07.078264",
     "status": "completed"
    },
    "tags": []
   },
   "outputs": [],
   "source": [
    "#hide\n",
    "# g.rename(columns= {'date':'day'},inplace = True)"
   ]
  },
  {
   "cell_type": "code",
   "execution_count": 38,
   "id": "major-fight",
   "metadata": {
    "execution": {
     "iopub.execute_input": "2022-03-21T12:14:07.182612Z",
     "iopub.status.busy": "2022-03-21T12:14:07.182050Z",
     "iopub.status.idle": "2022-03-21T12:14:07.183871Z",
     "shell.execute_reply": "2022-03-21T12:14:07.183359Z"
    },
    "papermill": {
     "duration": 0.035911,
     "end_time": "2022-03-21T12:14:07.183984",
     "exception": false,
     "start_time": "2022-03-21T12:14:07.148073",
     "status": "completed"
    },
    "tags": []
   },
   "outputs": [],
   "source": [
    "#hide\n",
    "# g = g[cols]"
   ]
  },
  {
   "cell_type": "code",
   "execution_count": 39,
   "id": "structured-mobile",
   "metadata": {
    "execution": {
     "iopub.execute_input": "2022-03-21T12:14:07.249020Z",
     "iopub.status.busy": "2022-03-21T12:14:07.248487Z",
     "iopub.status.idle": "2022-03-21T12:14:07.250445Z",
     "shell.execute_reply": "2022-03-21T12:14:07.250831Z"
    },
    "papermill": {
     "duration": 0.036295,
     "end_time": "2022-03-21T12:14:07.250967",
     "exception": false,
     "start_time": "2022-03-21T12:14:07.214672",
     "status": "completed"
    },
    "tags": []
   },
   "outputs": [],
   "source": [
    "# #hide\n",
    "# g = g[g.group.notna()]"
   ]
  },
  {
   "cell_type": "code",
   "execution_count": 40,
   "id": "determined-closing",
   "metadata": {
    "execution": {
     "iopub.execute_input": "2022-03-21T12:14:07.316912Z",
     "iopub.status.busy": "2022-03-21T12:14:07.316349Z",
     "iopub.status.idle": "2022-03-21T12:14:07.318655Z",
     "shell.execute_reply": "2022-03-21T12:14:07.318213Z"
    },
    "papermill": {
     "duration": 0.036673,
     "end_time": "2022-03-21T12:14:07.318767",
     "exception": false,
     "start_time": "2022-03-21T12:14:07.282094",
     "status": "completed"
    },
    "tags": []
   },
   "outputs": [],
   "source": [
    "# #hide\n",
    "# colors = dict(zip(\n",
    "#     [\"Oceania\", \"Europe\", \"Asia\", \"South America\", \"Middle East\", \"North America\", \"Africa\"],\n",
    "#     [\"#adb0ff\", \"#ffb3ff\", \"#90d595\", \"#e48381\", \"#aafbff\", \"#f7bb5f\", \"#eafb50\"]\n",
    "# ))\n",
    "# group_lk = g.set_index('name')['group'].to_dict()"
   ]
  },
  {
   "cell_type": "code",
   "execution_count": null,
   "id": "gross-drinking",
   "metadata": {
    "papermill": {
     "duration": 0.03046,
     "end_time": "2022-03-21T12:14:07.379805",
     "exception": false,
     "start_time": "2022-03-21T12:14:07.349345",
     "status": "completed"
    },
    "tags": []
   },
   "outputs": [],
   "source": []
  },
  {
   "cell_type": "code",
   "execution_count": 41,
   "id": "subject-macintosh",
   "metadata": {
    "execution": {
     "iopub.execute_input": "2022-03-21T12:14:07.445451Z",
     "iopub.status.busy": "2022-03-21T12:14:07.444895Z",
     "iopub.status.idle": "2022-03-21T12:14:07.447239Z",
     "shell.execute_reply": "2022-03-21T12:14:07.446803Z"
    },
    "papermill": {
     "duration": 0.036722,
     "end_time": "2022-03-21T12:14:07.447349",
     "exception": false,
     "start_time": "2022-03-21T12:14:07.410627",
     "status": "completed"
    },
    "tags": []
   },
   "outputs": [],
   "source": [
    "# #hide\n",
    "# fig, ax = plt.subplots(figsize=(15, 8))\n",
    "\n",
    "# def draw_barchart(current_day):\n",
    "#     dff = g[g['day'].eq(current_day)].sort_values(by='value', ascending=True).tail(10)\n",
    "#     ax.clear()\n",
    "#     ax.barh(dff['name'], dff['value'], color=[colors[group_lk[x]] for x in dff['name']])\n",
    "#     dx = dff['value'].max() / 200\n",
    "    \n",
    "#     for i, (value, name) in enumerate(zip(dff['value'], dff['name'])):\n",
    "#         ax.text(value-dx, i,     name,           size=14, weight=600, ha='right', va='bottom')\n",
    "#         ax.text(value-dx, i-.25, group_lk[name], size=10, color='#444444', ha='right', va='baseline')\n",
    "#         ax.text(value+dx, i,     f'{value:,.0f}',  size=14, ha='left',  va='center')\n",
    "#     ax.text(1, 0.4, current_day, transform=ax.transAxes, color='#777777', size=46, ha='right', weight=800)\n",
    "#     ax.text(0, 1.06, 'Population (thousands)', transform=ax.transAxes, size=12, color='#777777')\n",
    "#     ax.xaxis.set_major_formatter(ticker.StrMethodFormatter('{x:,.0f}'))\n",
    "#     ax.xaxis.set_ticks_position('top')\n",
    "#     ax.tick_params(axis='x', colors='#777777', labelsize=12)\n",
    "#     ax.set_yticks([])\n",
    "#     ax.margins(0, 0.01)\n",
    "#     ax.grid(which='major', axis='x', linestyle='-')\n",
    "#     ax.set_axisbelow(True)\n",
    "    \n",
    "#     ax.text(0, 1.15, 'Coronavirus',\n",
    "#             transform=ax.transAxes, size=24, weight=600, ha='left', va='top')\n",
    "# #     ax.text(1, 0, 'by @pratapvardhan; credit @jburnmurdoch', transform=ax.transAxes, color='#777777', ha='right',\n",
    "# #             bbox=dict(facecolor='white', alpha=0.8, edgecolor='white'))\n",
    "#     plt.box(False)"
   ]
  },
  {
   "cell_type": "code",
   "execution_count": 42,
   "id": "sexual-wages",
   "metadata": {
    "execution": {
     "iopub.execute_input": "2022-03-21T12:14:07.512505Z",
     "iopub.status.busy": "2022-03-21T12:14:07.511876Z",
     "iopub.status.idle": "2022-03-21T12:14:07.515895Z",
     "shell.execute_reply": "2022-03-21T12:14:07.515414Z"
    },
    "papermill": {
     "duration": 0.03814,
     "end_time": "2022-03-21T12:14:07.516030",
     "exception": false,
     "start_time": "2022-03-21T12:14:07.477890",
     "status": "completed"
    },
    "tags": []
   },
   "outputs": [],
   "source": [
    "# #hide_input\n",
    "# fig, ax = plt.subplots(figsize=(15, 8))\n",
    "# animator = animation.FuncAnimation(fig, draw_barchart, frames=range(g.day.values.min(), g.day.values.max()))\n",
    "# HTML(animator.to_jshtml())\n",
    "# # or use animator.to_html5_video() or animator.save() "
   ]
  },
  {
   "cell_type": "code",
   "execution_count": null,
   "id": "australian-container",
   "metadata": {
    "papermill": {
     "duration": 0.03067,
     "end_time": "2022-03-21T12:14:07.577370",
     "exception": false,
     "start_time": "2022-03-21T12:14:07.546700",
     "status": "completed"
    },
    "tags": []
   },
   "outputs": [],
   "source": []
  },
  {
   "cell_type": "code",
   "execution_count": null,
   "id": "mediterranean-pontiac",
   "metadata": {
    "papermill": {
     "duration": 0.030542,
     "end_time": "2022-03-21T12:14:07.638414",
     "exception": false,
     "start_time": "2022-03-21T12:14:07.607872",
     "status": "completed"
    },
    "tags": []
   },
   "outputs": [],
   "source": []
  },
  {
   "cell_type": "code",
   "execution_count": null,
   "id": "aging-legislature",
   "metadata": {
    "papermill": {
     "duration": 0.030522,
     "end_time": "2022-03-21T12:14:07.699722",
     "exception": false,
     "start_time": "2022-03-21T12:14:07.669200",
     "status": "completed"
    },
    "tags": []
   },
   "outputs": [],
   "source": []
  }
 ],
 "metadata": {
  "kernelspec": {
   "display_name": "Python 3",
   "language": "python",
   "name": "python3"
  },
  "language_info": {
   "codemirror_mode": {
    "name": "ipython",
    "version": 3
   },
   "file_extension": ".py",
   "mimetype": "text/x-python",
   "name": "python",
   "nbconvert_exporter": "python",
   "pygments_lexer": "ipython3",
   "version": "3.6.15"
  },
  "papermill": {
   "duration": 5.943647,
   "end_time": "2022-03-21T12:14:08.150547",
   "environment_variables": {},
   "exception": null,
   "input_path": "2020-03-21-covid19exp.ipynb",
   "output_path": "2020-03-21-covid19exp.ipynb",
   "parameters": {},
   "start_time": "2022-03-21T12:14:02.206900",
   "version": "2.0.0"
  }
 },
 "nbformat": 4,
 "nbformat_minor": 5
}