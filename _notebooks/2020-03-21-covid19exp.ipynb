{
 "cells": [
  {
   "cell_type": "markdown",
   "id": "muslim-click",
   "metadata": {
    "papermill": {
     "duration": 0.03446,
     "end_time": "2022-04-19T00:35:52.030207",
     "exception": false,
     "start_time": "2022-04-19T00:35:51.995747",
     "status": "completed"
    },
    "tags": []
   },
   "source": [
    "# COVID-19 Case Race\n",
    "> A race chart to see rising cases around the world\n",
    "\n",
    "- author: Hargun Oberoi\n",
    "- image: images/covid-overview.png\n",
    "- hide: false\n",
    "- badges: false"
   ]
  },
  {
   "cell_type": "code",
   "execution_count": 1,
   "id": "proof-material",
   "metadata": {
    "execution": {
     "iopub.execute_input": "2022-04-19T00:35:52.102905Z",
     "iopub.status.busy": "2022-04-19T00:35:52.102291Z",
     "iopub.status.idle": "2022-04-19T00:35:52.442601Z",
     "shell.execute_reply": "2022-04-19T00:35:52.441999Z"
    },
    "papermill": {
     "duration": 0.380298,
     "end_time": "2022-04-19T00:35:52.442778",
     "exception": false,
     "start_time": "2022-04-19T00:35:52.062480",
     "status": "completed"
    },
    "tags": []
   },
   "outputs": [],
   "source": [
    "#hide\n",
    "import numpy as np\n",
    "import pandas as pd\n",
    "from jinja2 import Template\n",
    "from IPython.display import HTML"
   ]
  },
  {
   "cell_type": "code",
   "execution_count": 2,
   "id": "developed-terminology",
   "metadata": {
    "execution": {
     "iopub.execute_input": "2022-04-19T00:35:52.508926Z",
     "iopub.status.busy": "2022-04-19T00:35:52.508336Z",
     "iopub.status.idle": "2022-04-19T00:35:52.509750Z",
     "shell.execute_reply": "2022-04-19T00:35:52.510187Z"
    },
    "papermill": {
     "duration": 0.037023,
     "end_time": "2022-04-19T00:35:52.510326",
     "exception": false,
     "start_time": "2022-04-19T00:35:52.473303",
     "status": "completed"
    },
    "tags": []
   },
   "outputs": [],
   "source": [
    "#hide\n",
    "\n",
    "# FETCH\n",
    "base_url = 'https://raw.githubusercontent.com/pratapvardhan/notebooks/master/covid19/'\n",
    "paths = {\n",
    "    'mapping': base_url + 'mapping_countries.csv',\n",
    "    'overview': base_url + 'overview.tpl'\n",
    "}"
   ]
  },
  {
   "cell_type": "code",
   "execution_count": 3,
   "id": "dynamic-saver",
   "metadata": {
    "execution": {
     "iopub.execute_input": "2022-04-19T00:35:52.580994Z",
     "iopub.status.busy": "2022-04-19T00:35:52.580414Z",
     "iopub.status.idle": "2022-04-19T00:35:52.582832Z",
     "shell.execute_reply": "2022-04-19T00:35:52.583252Z"
    },
    "papermill": {
     "duration": 0.043081,
     "end_time": "2022-04-19T00:35:52.583398",
     "exception": false,
     "start_time": "2022-04-19T00:35:52.540317",
     "status": "completed"
    },
    "tags": []
   },
   "outputs": [
    {
     "data": {
      "text/plain": [
       "'https://raw.githubusercontent.com/pratapvardhan/notebooks/master/covid19/mapping_countries.csv'"
      ]
     },
     "execution_count": 3,
     "metadata": {},
     "output_type": "execute_result"
    }
   ],
   "source": [
    "#hide\n",
    "paths['mapping']"
   ]
  },
  {
   "cell_type": "code",
   "execution_count": 4,
   "id": "urban-software",
   "metadata": {
    "execution": {
     "iopub.execute_input": "2022-04-19T00:35:52.647955Z",
     "iopub.status.busy": "2022-04-19T00:35:52.647419Z",
     "iopub.status.idle": "2022-04-19T00:35:52.651711Z",
     "shell.execute_reply": "2022-04-19T00:35:52.652136Z"
    },
    "papermill": {
     "duration": 0.038302,
     "end_time": "2022-04-19T00:35:52.652279",
     "exception": false,
     "start_time": "2022-04-19T00:35:52.613977",
     "status": "completed"
    },
    "tags": []
   },
   "outputs": [],
   "source": [
    "#hide\n",
    "def get_mappings(url):\n",
    "    df = pd.read_csv(url)\n",
    "    return {\n",
    "        'df': df,\n",
    "        'replace.country': dict(df.dropna(subset=['Name']).set_index('Country')['Name']),\n",
    "        'map.continent': dict(df.set_index('Name')['Continent'])\n",
    "    }"
   ]
  },
  {
   "cell_type": "code",
   "execution_count": 5,
   "id": "intimate-machinery",
   "metadata": {
    "execution": {
     "iopub.execute_input": "2022-04-19T00:35:52.719584Z",
     "iopub.status.busy": "2022-04-19T00:35:52.719020Z",
     "iopub.status.idle": "2022-04-19T00:35:52.744867Z",
     "shell.execute_reply": "2022-04-19T00:35:52.745355Z"
    },
    "papermill": {
     "duration": 0.062746,
     "end_time": "2022-04-19T00:35:52.745529",
     "exception": false,
     "start_time": "2022-04-19T00:35:52.682783",
     "status": "completed"
    },
    "tags": []
   },
   "outputs": [],
   "source": [
    "#hide\n",
    "mapping = get_mappings(paths['mapping'])"
   ]
  },
  {
   "cell_type": "code",
   "execution_count": 6,
   "id": "certified-tactics",
   "metadata": {
    "execution": {
     "iopub.execute_input": "2022-04-19T00:35:52.813536Z",
     "iopub.status.busy": "2022-04-19T00:35:52.812968Z",
     "iopub.status.idle": "2022-04-19T00:35:52.815073Z",
     "shell.execute_reply": "2022-04-19T00:35:52.814642Z"
    },
    "papermill": {
     "duration": 0.038029,
     "end_time": "2022-04-19T00:35:52.815197",
     "exception": false,
     "start_time": "2022-04-19T00:35:52.777168",
     "status": "completed"
    },
    "tags": []
   },
   "outputs": [],
   "source": [
    "#hide\n",
    "def get_template(path):\n",
    "    from urllib.parse import urlparse\n",
    "    if bool(urlparse(path).netloc):\n",
    "        from urllib.request import urlopen\n",
    "        return urlopen(path).read().decode('utf8')\n",
    "    return open(path).read()"
   ]
  },
  {
   "cell_type": "code",
   "execution_count": 7,
   "id": "realistic-blast",
   "metadata": {
    "execution": {
     "iopub.execute_input": "2022-04-19T00:35:52.881951Z",
     "iopub.status.busy": "2022-04-19T00:35:52.881298Z",
     "iopub.status.idle": "2022-04-19T00:35:52.882711Z",
     "shell.execute_reply": "2022-04-19T00:35:52.883221Z"
    },
    "papermill": {
     "duration": 0.037679,
     "end_time": "2022-04-19T00:35:52.883358",
     "exception": false,
     "start_time": "2022-04-19T00:35:52.845679",
     "status": "completed"
    },
    "tags": []
   },
   "outputs": [],
   "source": [
    "#hide\n",
    "def get_frame(name):\n",
    "    url = (\n",
    "        'https://raw.githubusercontent.com/CSSEGISandData/COVID-19/master/csse_covid_19_data/'\n",
    "        f'csse_covid_19_time_series/time_series_covid19_{name}_global.csv')\n",
    "    df = pd.read_csv(url)\n",
    "    # rename countries\n",
    "    df['Country/Region'] = df['Country/Region'].replace(mapping['replace.country'])\n",
    "    return df"
   ]
  },
  {
   "cell_type": "code",
   "execution_count": 8,
   "id": "affiliated-characterization",
   "metadata": {
    "execution": {
     "iopub.execute_input": "2022-04-19T00:35:52.951324Z",
     "iopub.status.busy": "2022-04-19T00:35:52.950747Z",
     "iopub.status.idle": "2022-04-19T00:35:52.952816Z",
     "shell.execute_reply": "2022-04-19T00:35:52.953298Z"
    },
    "papermill": {
     "duration": 0.039238,
     "end_time": "2022-04-19T00:35:52.953437",
     "exception": false,
     "start_time": "2022-04-19T00:35:52.914199",
     "status": "completed"
    },
    "tags": []
   },
   "outputs": [],
   "source": [
    "#hide\n",
    "def get_dates(df):\n",
    "    dt_cols = df.columns[~df.columns.isin(['Province/State', 'Country/Region', 'Lat', 'Long'])]\n",
    "    LAST_DATE_I = -1\n",
    "    # sometimes last column may be empty, then go backwards\n",
    "    for i in range(-1, -len(dt_cols), -1):\n",
    "        if not df[dt_cols[i]].fillna(0).eq(0).all():\n",
    "            LAST_DATE_I = i\n",
    "            break\n",
    "    return LAST_DATE_I, dt_cols"
   ]
  },
  {
   "cell_type": "code",
   "execution_count": 9,
   "id": "recent-optimization",
   "metadata": {
    "execution": {
     "iopub.execute_input": "2022-04-19T00:35:53.020200Z",
     "iopub.status.busy": "2022-04-19T00:35:53.019646Z",
     "iopub.status.idle": "2022-04-19T00:35:53.352949Z",
     "shell.execute_reply": "2022-04-19T00:35:53.352399Z"
    },
    "papermill": {
     "duration": 0.369191,
     "end_time": "2022-04-19T00:35:53.353094",
     "exception": false,
     "start_time": "2022-04-19T00:35:52.983903",
     "status": "completed"
    },
    "tags": []
   },
   "outputs": [],
   "source": [
    "#hide\n",
    "COL_REGION = 'Country/Region'\n",
    "# Confirmed, Recovered, Deaths\n",
    "df = get_frame('confirmed')\n",
    "# dft_: timeseries, dfc_: today country agg\n",
    "dft_cases = df\n",
    "dft_deaths = get_frame('deaths')\n",
    "dft_recovered = get_frame('recovered')\n",
    "LAST_DATE_I, dt_cols = get_dates(df)"
   ]
  },
  {
   "cell_type": "code",
   "execution_count": 10,
   "id": "absolute-copper",
   "metadata": {
    "execution": {
     "iopub.execute_input": "2022-04-19T00:35:53.422011Z",
     "iopub.status.busy": "2022-04-19T00:35:53.421359Z",
     "iopub.status.idle": "2022-04-19T00:35:53.422690Z",
     "shell.execute_reply": "2022-04-19T00:35:53.423189Z"
    },
    "papermill": {
     "duration": 0.038431,
     "end_time": "2022-04-19T00:35:53.423341",
     "exception": false,
     "start_time": "2022-04-19T00:35:53.384910",
     "status": "completed"
    },
    "tags": []
   },
   "outputs": [],
   "source": [
    "#hide\n",
    "LAST_DATE_I, dt_cols = get_dates(df)\n",
    "dt_today =dt_cols[LAST_DATE_I]\n",
    "# dt_5day = dt_cols[LAST_DATE_I - 5]\n",
    "dt_yday = dt_cols[LAST_DATE_I - 1]"
   ]
  },
  {
   "cell_type": "code",
   "execution_count": 11,
   "id": "restricted-sheriff",
   "metadata": {
    "execution": {
     "iopub.execute_input": "2022-04-19T00:35:53.490440Z",
     "iopub.status.busy": "2022-04-19T00:35:53.489876Z",
     "iopub.status.idle": "2022-04-19T00:35:53.497954Z",
     "shell.execute_reply": "2022-04-19T00:35:53.497526Z"
    },
    "papermill": {
     "duration": 0.04409,
     "end_time": "2022-04-19T00:35:53.498077",
     "exception": false,
     "start_time": "2022-04-19T00:35:53.453987",
     "status": "completed"
    },
    "tags": []
   },
   "outputs": [],
   "source": [
    "#hide\n",
    "dfc_cases = dft_cases.groupby(COL_REGION)[dt_today].sum()\n",
    "dfc_deaths = dft_deaths.groupby(COL_REGION)[dt_today].sum()\n",
    "# dfp_cases = dft_cases.groupby(COL_REGION)[dt_5day].sum()\n",
    "# dfp_deaths = dft_deaths.groupby(COL_REGION)[dt_5day].sum()\n",
    "dfp_cases = dft_cases.groupby(COL_REGION)[dt_yday].sum()\n",
    "dfp_deaths = dft_deaths.groupby(COL_REGION)[dt_yday].sum()"
   ]
  },
  {
   "cell_type": "code",
   "execution_count": 12,
   "id": "deluxe-hepatitis",
   "metadata": {
    "execution": {
     "iopub.execute_input": "2022-04-19T00:35:53.565644Z",
     "iopub.status.busy": "2022-04-19T00:35:53.565103Z",
     "iopub.status.idle": "2022-04-19T00:35:53.569861Z",
     "shell.execute_reply": "2022-04-19T00:35:53.570255Z"
    },
    "papermill": {
     "duration": 0.04154,
     "end_time": "2022-04-19T00:35:53.570430",
     "exception": false,
     "start_time": "2022-04-19T00:35:53.528890",
     "status": "completed"
    },
    "tags": []
   },
   "outputs": [],
   "source": [
    "#hide\n",
    "df_table = (pd.DataFrame(dict(Cases = dfc_cases, Deaths = dfc_deaths, PCases = dfp_cases, PDeaths = dfp_deaths))\n",
    "            .sort_values(by = ['Cases','Deaths'], ascending = [False, False])\n",
    "            .reset_index())"
   ]
  },
  {
   "cell_type": "code",
   "execution_count": 13,
   "id": "educational-chancellor",
   "metadata": {
    "execution": {
     "iopub.execute_input": "2022-04-19T00:35:53.649969Z",
     "iopub.status.busy": "2022-04-19T00:35:53.649396Z",
     "iopub.status.idle": "2022-04-19T00:35:53.656924Z",
     "shell.execute_reply": "2022-04-19T00:35:53.656499Z"
    },
    "papermill": {
     "duration": 0.056208,
     "end_time": "2022-04-19T00:35:53.657048",
     "exception": false,
     "start_time": "2022-04-19T00:35:53.600840",
     "status": "completed"
    },
    "tags": []
   },
   "outputs": [
    {
     "data": {
      "text/html": [
       "<div>\n",
       "<style scoped>\n",
       "    .dataframe tbody tr th:only-of-type {\n",
       "        vertical-align: middle;\n",
       "    }\n",
       "\n",
       "    .dataframe tbody tr th {\n",
       "        vertical-align: top;\n",
       "    }\n",
       "\n",
       "    .dataframe thead th {\n",
       "        text-align: right;\n",
       "    }\n",
       "</style>\n",
       "<table border=\"1\" class=\"dataframe\">\n",
       "  <thead>\n",
       "    <tr style=\"text-align: right;\">\n",
       "      <th></th>\n",
       "      <th>Country/Region</th>\n",
       "      <th>Cases</th>\n",
       "      <th>Deaths</th>\n",
       "      <th>PCases</th>\n",
       "      <th>PDeaths</th>\n",
       "      <th>Cases (+)</th>\n",
       "      <th>Deaths (+)</th>\n",
       "      <th>Fatality Rate</th>\n",
       "      <th>Continent</th>\n",
       "    </tr>\n",
       "  </thead>\n",
       "  <tbody>\n",
       "    <tr>\n",
       "      <th>0</th>\n",
       "      <td>US</td>\n",
       "      <td>80632301</td>\n",
       "      <td>988618</td>\n",
       "      <td>80625120</td>\n",
       "      <td>988609</td>\n",
       "      <td>7181</td>\n",
       "      <td>9</td>\n",
       "      <td>1.23</td>\n",
       "      <td>North America</td>\n",
       "    </tr>\n",
       "    <tr>\n",
       "      <th>1</th>\n",
       "      <td>India</td>\n",
       "      <td>43044280</td>\n",
       "      <td>521965</td>\n",
       "      <td>43042097</td>\n",
       "      <td>521751</td>\n",
       "      <td>2183</td>\n",
       "      <td>214</td>\n",
       "      <td>1.21</td>\n",
       "      <td>Asia</td>\n",
       "    </tr>\n",
       "    <tr>\n",
       "      <th>2</th>\n",
       "      <td>Brazil</td>\n",
       "      <td>30252618</td>\n",
       "      <td>662207</td>\n",
       "      <td>30250077</td>\n",
       "      <td>662185</td>\n",
       "      <td>2541</td>\n",
       "      <td>22</td>\n",
       "      <td>2.19</td>\n",
       "      <td>South America</td>\n",
       "    </tr>\n",
       "    <tr>\n",
       "      <th>3</th>\n",
       "      <td>France</td>\n",
       "      <td>27960919</td>\n",
       "      <td>145194</td>\n",
       "      <td>27874269</td>\n",
       "      <td>145159</td>\n",
       "      <td>86650</td>\n",
       "      <td>35</td>\n",
       "      <td>0.52</td>\n",
       "      <td>Europe</td>\n",
       "    </tr>\n",
       "    <tr>\n",
       "      <th>4</th>\n",
       "      <td>Germany</td>\n",
       "      <td>23437145</td>\n",
       "      <td>132953</td>\n",
       "      <td>23416663</td>\n",
       "      <td>132942</td>\n",
       "      <td>20482</td>\n",
       "      <td>11</td>\n",
       "      <td>0.57</td>\n",
       "      <td>Europe</td>\n",
       "    </tr>\n",
       "  </tbody>\n",
       "</table>\n",
       "</div>"
      ],
      "text/plain": [
       "  Country/Region     Cases  Deaths    PCases  PDeaths  Cases (+)  Deaths (+)  \\\n",
       "0             US  80632301  988618  80625120   988609       7181           9   \n",
       "1          India  43044280  521965  43042097   521751       2183         214   \n",
       "2         Brazil  30252618  662207  30250077   662185       2541          22   \n",
       "3         France  27960919  145194  27874269   145159      86650          35   \n",
       "4        Germany  23437145  132953  23416663   132942      20482          11   \n",
       "\n",
       "   Fatality Rate      Continent  \n",
       "0           1.23  North America  \n",
       "1           1.21           Asia  \n",
       "2           2.19  South America  \n",
       "3           0.52         Europe  \n",
       "4           0.57         Europe  "
      ]
     },
     "execution_count": 13,
     "metadata": {},
     "output_type": "execute_result"
    }
   ],
   "source": [
    "#hide\n",
    "for c in 'Cases, Deaths'.split(', '):\n",
    "    df_table[f'{c} (+)'] = (df_table[c] - df_table[f'P{c}']).clip(0)\n",
    "    #Clip ça veut dire, les chiffres negatif sont interdit\n",
    "df_table['Fatality Rate'] = (100* df_table['Deaths']/ df_table['Cases']).round(2)\n",
    "df_table['Continent'] = df_table['Country/Region'].map(mapping['map.continent'])\n",
    "df_table.head(5)"
   ]
  },
  {
   "cell_type": "code",
   "execution_count": 14,
   "id": "aboriginal-bulgaria",
   "metadata": {
    "execution": {
     "iopub.execute_input": "2022-04-19T00:35:53.725449Z",
     "iopub.status.busy": "2022-04-19T00:35:53.724860Z",
     "iopub.status.idle": "2022-04-19T00:35:53.726577Z",
     "shell.execute_reply": "2022-04-19T00:35:53.726972Z"
    },
    "papermill": {
     "duration": 0.038903,
     "end_time": "2022-04-19T00:35:53.727123",
     "exception": false,
     "start_time": "2022-04-19T00:35:53.688220",
     "status": "completed"
    },
    "tags": []
   },
   "outputs": [],
   "source": [
    "#hide\n",
    "#delete problematic countries from table\n",
    "df_table = df_table[~df_table['Country/Region'].isin(['Cape Verde', 'Cruise Ship', 'Kosovo'])]"
   ]
  },
  {
   "cell_type": "code",
   "execution_count": 15,
   "id": "fantastic-effect",
   "metadata": {
    "execution": {
     "iopub.execute_input": "2022-04-19T00:35:53.791991Z",
     "iopub.status.busy": "2022-04-19T00:35:53.791454Z",
     "iopub.status.idle": "2022-04-19T00:35:53.814184Z",
     "shell.execute_reply": "2022-04-19T00:35:53.813689Z"
    },
    "papermill": {
     "duration": 0.056344,
     "end_time": "2022-04-19T00:35:53.814328",
     "exception": false,
     "start_time": "2022-04-19T00:35:53.757984",
     "status": "completed"
    },
    "tags": []
   },
   "outputs": [
    {
     "data": {
      "text/html": [
       "<div>\n",
       "<style scoped>\n",
       "    .dataframe tbody tr th:only-of-type {\n",
       "        vertical-align: middle;\n",
       "    }\n",
       "\n",
       "    .dataframe tbody tr th {\n",
       "        vertical-align: top;\n",
       "    }\n",
       "\n",
       "    .dataframe thead th {\n",
       "        text-align: right;\n",
       "    }\n",
       "</style>\n",
       "<table border=\"1\" class=\"dataframe\">\n",
       "  <thead>\n",
       "    <tr style=\"text-align: right;\">\n",
       "      <th></th>\n",
       "      <th>Country/Region</th>\n",
       "      <th>Cases</th>\n",
       "      <th>Deaths</th>\n",
       "      <th>PCases</th>\n",
       "      <th>PDeaths</th>\n",
       "      <th>Cases (+)</th>\n",
       "      <th>Deaths (+)</th>\n",
       "      <th>Fatality Rate</th>\n",
       "      <th>Continent</th>\n",
       "    </tr>\n",
       "  </thead>\n",
       "  <tbody>\n",
       "    <tr>\n",
       "      <th>0</th>\n",
       "      <td>US</td>\n",
       "      <td>80632301</td>\n",
       "      <td>988618</td>\n",
       "      <td>80625120</td>\n",
       "      <td>988609</td>\n",
       "      <td>7181</td>\n",
       "      <td>9</td>\n",
       "      <td>1.2</td>\n",
       "      <td>North America</td>\n",
       "    </tr>\n",
       "    <tr>\n",
       "      <th>1</th>\n",
       "      <td>India</td>\n",
       "      <td>43044280</td>\n",
       "      <td>521965</td>\n",
       "      <td>43042097</td>\n",
       "      <td>521751</td>\n",
       "      <td>2183</td>\n",
       "      <td>214</td>\n",
       "      <td>1.2</td>\n",
       "      <td>Asia</td>\n",
       "    </tr>\n",
       "    <tr>\n",
       "      <th>2</th>\n",
       "      <td>Brazil</td>\n",
       "      <td>30252618</td>\n",
       "      <td>662207</td>\n",
       "      <td>30250077</td>\n",
       "      <td>662185</td>\n",
       "      <td>2541</td>\n",
       "      <td>22</td>\n",
       "      <td>2.2</td>\n",
       "      <td>South America</td>\n",
       "    </tr>\n",
       "    <tr>\n",
       "      <th>3</th>\n",
       "      <td>France</td>\n",
       "      <td>27960919</td>\n",
       "      <td>145194</td>\n",
       "      <td>27874269</td>\n",
       "      <td>145159</td>\n",
       "      <td>86650</td>\n",
       "      <td>35</td>\n",
       "      <td>0.5</td>\n",
       "      <td>Europe</td>\n",
       "    </tr>\n",
       "    <tr>\n",
       "      <th>4</th>\n",
       "      <td>Germany</td>\n",
       "      <td>23437145</td>\n",
       "      <td>132953</td>\n",
       "      <td>23416663</td>\n",
       "      <td>132942</td>\n",
       "      <td>20482</td>\n",
       "      <td>11</td>\n",
       "      <td>0.6</td>\n",
       "      <td>Europe</td>\n",
       "    </tr>\n",
       "  </tbody>\n",
       "</table>\n",
       "</div>"
      ],
      "text/plain": [
       "  Country/Region     Cases  Deaths    PCases  PDeaths  Cases (+)  Deaths (+)  \\\n",
       "0             US  80632301  988618  80625120   988609       7181           9   \n",
       "1          India  43044280  521965  43042097   521751       2183         214   \n",
       "2         Brazil  30252618  662207  30250077   662185       2541          22   \n",
       "3         France  27960919  145194  27874269   145159      86650          35   \n",
       "4        Germany  23437145  132953  23416663   132942      20482          11   \n",
       "\n",
       "   Fatality Rate      Continent  \n",
       "0            1.2  North America  \n",
       "1            1.2           Asia  \n",
       "2            2.2  South America  \n",
       "3            0.5         Europe  \n",
       "4            0.6         Europe  "
      ]
     },
     "execution_count": 15,
     "metadata": {},
     "output_type": "execute_result"
    }
   ],
   "source": [
    "#hide\n",
    "df_table = (pd.DataFrame(dict(Cases=dfc_cases, Deaths=dfc_deaths, PCases=dfp_cases, PDeaths=dfp_deaths))\n",
    "             .sort_values(by=['Cases', 'Deaths'], ascending=[False, False])\n",
    "             .reset_index())\n",
    "df_table.rename(columns={'index': 'Country/Region'}, inplace=True)\n",
    "for c in 'Cases, Deaths'.split(', '):\n",
    "    df_table[f'{c} (+)'] = (df_table[c] - df_table[f'P{c}']).clip(0)  # DATA BUG\n",
    "df_table['Fatality Rate'] = (100 * df_table['Deaths'] / df_table['Cases']).round(1)\n",
    "df_table['Continent'] = df_table['Country/Region'].map(mapping['map.continent'])\n",
    "df_table.head(5)"
   ]
  },
  {
   "cell_type": "code",
   "execution_count": 16,
   "id": "fewer-occasion",
   "metadata": {
    "execution": {
     "iopub.execute_input": "2022-04-19T00:35:53.884219Z",
     "iopub.status.busy": "2022-04-19T00:35:53.883633Z",
     "iopub.status.idle": "2022-04-19T00:35:53.885368Z",
     "shell.execute_reply": "2022-04-19T00:35:53.885758Z"
    },
    "papermill": {
     "duration": 0.039274,
     "end_time": "2022-04-19T00:35:53.885901",
     "exception": false,
     "start_time": "2022-04-19T00:35:53.846627",
     "status": "completed"
    },
    "tags": []
   },
   "outputs": [],
   "source": [
    "#hide\n",
    "#delete problematic countries from table\n",
    "df_table = df_table[~df_table['Country/Region'].isin(['Cape Verde', 'Cruise Ship', 'Kosovo'])]"
   ]
  },
  {
   "cell_type": "code",
   "execution_count": 17,
   "id": "related-center",
   "metadata": {
    "execution": {
     "iopub.execute_input": "2022-04-19T00:35:53.957607Z",
     "iopub.status.busy": "2022-04-19T00:35:53.957041Z",
     "iopub.status.idle": "2022-04-19T00:35:53.969451Z",
     "shell.execute_reply": "2022-04-19T00:35:53.968984Z"
    },
    "papermill": {
     "duration": 0.052173,
     "end_time": "2022-04-19T00:35:53.969575",
     "exception": false,
     "start_time": "2022-04-19T00:35:53.917402",
     "status": "completed"
    },
    "tags": []
   },
   "outputs": [],
   "source": [
    "#hide\n",
    "metrics = [df_table.columns[index] for index in [1,2,5,6]]\n",
    "# s_china = df_table[df_table['Country/Region'].eq('China')][metrics].sum().add_prefix('China ')\n",
    "s_us = df_table[df_table['Country/Region'].eq('US')][metrics].sum().add_prefix('US ')\n",
    "s_eu = df_table[df_table['Continent'].eq('Europe')][metrics].sum().add_prefix('EU ')\n",
    "s_ind = df_table[df_table['Country/Region'].eq('India')][metrics].sum().add_prefix('India ')\n",
    "summary = {'updated': pd.to_datetime(dt_today), 'since': pd.to_datetime(dt_yday)}\n",
    "summary = {'updated': pd.to_datetime(dt_today), 'since': pd.to_datetime(dt_yday)}\n",
    "summary = {**summary, **df_table[metrics].sum(), **s_ind, **s_us, **s_eu}"
   ]
  },
  {
   "cell_type": "code",
   "execution_count": 18,
   "id": "engaging-syndrome",
   "metadata": {
    "execution": {
     "iopub.execute_input": "2022-04-19T00:35:54.038885Z",
     "iopub.status.busy": "2022-04-19T00:35:54.038320Z",
     "iopub.status.idle": "2022-04-19T00:35:54.057229Z",
     "shell.execute_reply": "2022-04-19T00:35:54.056719Z"
    },
    "papermill": {
     "duration": 0.055831,
     "end_time": "2022-04-19T00:35:54.057369",
     "exception": false,
     "start_time": "2022-04-19T00:35:54.001538",
     "status": "completed"
    },
    "tags": []
   },
   "outputs": [],
   "source": [
    "#hide\n",
    "dft_ct_new_cases = dft_cases.groupby(COL_REGION)[dt_cols].sum().diff(axis=1).fillna(0).astype(int)"
   ]
  },
  {
   "cell_type": "code",
   "execution_count": 19,
   "id": "neutral-assignment",
   "metadata": {
    "execution": {
     "iopub.execute_input": "2022-04-19T00:35:54.130151Z",
     "iopub.status.busy": "2022-04-19T00:35:54.129576Z",
     "iopub.status.idle": "2022-04-19T00:35:54.132544Z",
     "shell.execute_reply": "2022-04-19T00:35:54.132123Z"
    },
    "papermill": {
     "duration": 0.04294,
     "end_time": "2022-04-19T00:35:54.132673",
     "exception": false,
     "start_time": "2022-04-19T00:35:54.089733",
     "status": "completed"
    },
    "tags": []
   },
   "outputs": [],
   "source": [
    "#hide\n",
    "everydaycases = dft_ct_new_cases.cumsum(axis=1)"
   ]
  },
  {
   "cell_type": "code",
   "execution_count": 20,
   "id": "parliamentary-calgary",
   "metadata": {
    "execution": {
     "iopub.execute_input": "2022-04-19T00:35:54.200443Z",
     "iopub.status.busy": "2022-04-19T00:35:54.199886Z",
     "iopub.status.idle": "2022-04-19T00:35:54.761227Z",
     "shell.execute_reply": "2022-04-19T00:35:54.761719Z"
    },
    "papermill": {
     "duration": 0.597616,
     "end_time": "2022-04-19T00:35:54.761893",
     "exception": false,
     "start_time": "2022-04-19T00:35:54.164277",
     "status": "completed"
    },
    "tags": []
   },
   "outputs": [],
   "source": [
    "#hide\n",
    "import pandas as pd\n",
    "import matplotlib.pyplot as plt\n",
    "import matplotlib.ticker as ticker\n",
    "import matplotlib.animation as animation\n",
    "from IPython.display import HTML"
   ]
  },
  {
   "cell_type": "code",
   "execution_count": 21,
   "id": "lasting-extraction",
   "metadata": {
    "execution": {
     "iopub.execute_input": "2022-04-19T00:35:54.832475Z",
     "iopub.status.busy": "2022-04-19T00:35:54.831925Z",
     "iopub.status.idle": "2022-04-19T00:35:54.838655Z",
     "shell.execute_reply": "2022-04-19T00:35:54.838197Z"
    },
    "papermill": {
     "duration": 0.04456,
     "end_time": "2022-04-19T00:35:54.838788",
     "exception": false,
     "start_time": "2022-04-19T00:35:54.794228",
     "status": "completed"
    },
    "tags": []
   },
   "outputs": [],
   "source": [
    "#hide\n",
    "t = everydaycases.stack()"
   ]
  },
  {
   "cell_type": "code",
   "execution_count": 22,
   "id": "premier-sleeve",
   "metadata": {
    "execution": {
     "iopub.execute_input": "2022-04-19T00:35:54.907084Z",
     "iopub.status.busy": "2022-04-19T00:35:54.906510Z",
     "iopub.status.idle": "2022-04-19T00:35:54.917628Z",
     "shell.execute_reply": "2022-04-19T00:35:54.917174Z"
    },
    "papermill": {
     "duration": 0.047262,
     "end_time": "2022-04-19T00:35:54.917752",
     "exception": false,
     "start_time": "2022-04-19T00:35:54.870490",
     "status": "completed"
    },
    "tags": []
   },
   "outputs": [],
   "source": [
    "#hide\n",
    "g = t.reset_index(['Country/Region'])"
   ]
  },
  {
   "cell_type": "code",
   "execution_count": 23,
   "id": "distributed-pittsburgh",
   "metadata": {
    "execution": {
     "iopub.execute_input": "2022-04-19T00:35:54.985258Z",
     "iopub.status.busy": "2022-04-19T00:35:54.984617Z",
     "iopub.status.idle": "2022-04-19T00:35:54.986011Z",
     "shell.execute_reply": "2022-04-19T00:35:54.986598Z"
    },
    "papermill": {
     "duration": 0.037617,
     "end_time": "2022-04-19T00:35:54.986760",
     "exception": false,
     "start_time": "2022-04-19T00:35:54.949143",
     "status": "completed"
    },
    "tags": []
   },
   "outputs": [],
   "source": [
    "#hide\n",
    "g.index.name = 'date'"
   ]
  },
  {
   "cell_type": "code",
   "execution_count": 24,
   "id": "naked-donor",
   "metadata": {
    "execution": {
     "iopub.execute_input": "2022-04-19T00:35:55.054543Z",
     "iopub.status.busy": "2022-04-19T00:35:55.053869Z",
     "iopub.status.idle": "2022-04-19T00:35:55.055315Z",
     "shell.execute_reply": "2022-04-19T00:35:55.055889Z"
    },
    "papermill": {
     "duration": 0.037152,
     "end_time": "2022-04-19T00:35:55.056039",
     "exception": false,
     "start_time": "2022-04-19T00:35:55.018887",
     "status": "completed"
    },
    "tags": []
   },
   "outputs": [],
   "source": [
    "# #hide\n",
    "# g = g.reset_index(['date'])"
   ]
  },
  {
   "cell_type": "code",
   "execution_count": 25,
   "id": "incomplete-mustang",
   "metadata": {
    "execution": {
     "iopub.execute_input": "2022-04-19T00:35:55.123860Z",
     "iopub.status.busy": "2022-04-19T00:35:55.123288Z",
     "iopub.status.idle": "2022-04-19T00:35:55.126517Z",
     "shell.execute_reply": "2022-04-19T00:35:55.126916Z"
    },
    "papermill": {
     "duration": 0.038967,
     "end_time": "2022-04-19T00:35:55.127060",
     "exception": false,
     "start_time": "2022-04-19T00:35:55.088093",
     "status": "completed"
    },
    "tags": []
   },
   "outputs": [],
   "source": [
    "#hide\n",
    "# g.head()"
   ]
  },
  {
   "cell_type": "code",
   "execution_count": 26,
   "id": "specific-kruger",
   "metadata": {
    "execution": {
     "iopub.execute_input": "2022-04-19T00:35:55.194223Z",
     "iopub.status.busy": "2022-04-19T00:35:55.193578Z",
     "iopub.status.idle": "2022-04-19T00:35:55.194952Z",
     "shell.execute_reply": "2022-04-19T00:35:55.195447Z"
    },
    "papermill": {
     "duration": 0.036962,
     "end_time": "2022-04-19T00:35:55.195591",
     "exception": false,
     "start_time": "2022-04-19T00:35:55.158629",
     "status": "completed"
    },
    "tags": []
   },
   "outputs": [],
   "source": [
    "#hide\n",
    "# g.columns = ['date','country','cases']"
   ]
  },
  {
   "cell_type": "code",
   "execution_count": 27,
   "id": "tender-conversion",
   "metadata": {
    "execution": {
     "iopub.execute_input": "2022-04-19T00:35:55.262633Z",
     "iopub.status.busy": "2022-04-19T00:35:55.261980Z",
     "iopub.status.idle": "2022-04-19T00:35:55.263406Z",
     "shell.execute_reply": "2022-04-19T00:35:55.263962Z"
    },
    "papermill": {
     "duration": 0.037098,
     "end_time": "2022-04-19T00:35:55.264107",
     "exception": false,
     "start_time": "2022-04-19T00:35:55.227009",
     "status": "completed"
    },
    "tags": []
   },
   "outputs": [],
   "source": [
    "#hide\n",
    "# g['continent'] = g.country"
   ]
  },
  {
   "cell_type": "code",
   "execution_count": 28,
   "id": "substantial-wilderness",
   "metadata": {
    "execution": {
     "iopub.execute_input": "2022-04-19T00:35:55.331962Z",
     "iopub.status.busy": "2022-04-19T00:35:55.331323Z",
     "iopub.status.idle": "2022-04-19T00:35:55.332810Z",
     "shell.execute_reply": "2022-04-19T00:35:55.333308Z"
    },
    "papermill": {
     "duration": 0.037519,
     "end_time": "2022-04-19T00:35:55.333462",
     "exception": false,
     "start_time": "2022-04-19T00:35:55.295943",
     "status": "completed"
    },
    "tags": []
   },
   "outputs": [],
   "source": [
    "#hide\n",
    "# cols = list(g.columns.values)"
   ]
  },
  {
   "cell_type": "code",
   "execution_count": 29,
   "id": "solved-farming",
   "metadata": {
    "execution": {
     "iopub.execute_input": "2022-04-19T00:35:55.400753Z",
     "iopub.status.busy": "2022-04-19T00:35:55.400117Z",
     "iopub.status.idle": "2022-04-19T00:35:55.401558Z",
     "shell.execute_reply": "2022-04-19T00:35:55.402051Z"
    },
    "papermill": {
     "duration": 0.036913,
     "end_time": "2022-04-19T00:35:55.402202",
     "exception": false,
     "start_time": "2022-04-19T00:35:55.365289",
     "status": "completed"
    },
    "tags": []
   },
   "outputs": [],
   "source": [
    "#hide\n",
    "# cols.insert(0, cols.pop())"
   ]
  },
  {
   "cell_type": "code",
   "execution_count": 30,
   "id": "executed-adoption",
   "metadata": {
    "execution": {
     "iopub.execute_input": "2022-04-19T00:35:55.470041Z",
     "iopub.status.busy": "2022-04-19T00:35:55.469464Z",
     "iopub.status.idle": "2022-04-19T00:35:55.473237Z",
     "shell.execute_reply": "2022-04-19T00:35:55.472812Z"
    },
    "papermill": {
     "duration": 0.039063,
     "end_time": "2022-04-19T00:35:55.473360",
     "exception": false,
     "start_time": "2022-04-19T00:35:55.434297",
     "status": "completed"
    },
    "tags": []
   },
   "outputs": [],
   "source": [
    "#hide\n",
    "# g = g[cols]"
   ]
  },
  {
   "cell_type": "code",
   "execution_count": 31,
   "id": "subject-dublin",
   "metadata": {
    "execution": {
     "iopub.execute_input": "2022-04-19T00:35:55.540361Z",
     "iopub.status.busy": "2022-04-19T00:35:55.539794Z",
     "iopub.status.idle": "2022-04-19T00:35:55.541769Z",
     "shell.execute_reply": "2022-04-19T00:35:55.541249Z"
    },
    "papermill": {
     "duration": 0.037096,
     "end_time": "2022-04-19T00:35:55.541893",
     "exception": false,
     "start_time": "2022-04-19T00:35:55.504797",
     "status": "completed"
    },
    "tags": []
   },
   "outputs": [],
   "source": [
    "#hide\n",
    "# g['continent'] = g['continent'].map(mapping['map.continent'])"
   ]
  },
  {
   "cell_type": "code",
   "execution_count": 32,
   "id": "freelance-scout",
   "metadata": {
    "execution": {
     "iopub.execute_input": "2022-04-19T00:35:55.609206Z",
     "iopub.status.busy": "2022-04-19T00:35:55.608554Z",
     "iopub.status.idle": "2022-04-19T00:35:55.611995Z",
     "shell.execute_reply": "2022-04-19T00:35:55.612387Z"
    },
    "papermill": {
     "duration": 0.039019,
     "end_time": "2022-04-19T00:35:55.612540",
     "exception": false,
     "start_time": "2022-04-19T00:35:55.573521",
     "status": "completed"
    },
    "tags": []
   },
   "outputs": [],
   "source": [
    "#hide\n",
    "# g.head()"
   ]
  },
  {
   "cell_type": "code",
   "execution_count": 33,
   "id": "limited-engine",
   "metadata": {
    "execution": {
     "iopub.execute_input": "2022-04-19T00:35:55.679432Z",
     "iopub.status.busy": "2022-04-19T00:35:55.678792Z",
     "iopub.status.idle": "2022-04-19T00:35:55.680714Z",
     "shell.execute_reply": "2022-04-19T00:35:55.680133Z"
    },
    "papermill": {
     "duration": 0.037046,
     "end_time": "2022-04-19T00:35:55.680849",
     "exception": false,
     "start_time": "2022-04-19T00:35:55.643803",
     "status": "completed"
    },
    "tags": []
   },
   "outputs": [],
   "source": [
    "# hide\n",
    "# g['date'] = g['date'].astype('datetime64[ns]')"
   ]
  },
  {
   "cell_type": "code",
   "execution_count": 34,
   "id": "sophisticated-supervisor",
   "metadata": {
    "execution": {
     "iopub.execute_input": "2022-04-19T00:35:55.748293Z",
     "iopub.status.busy": "2022-04-19T00:35:55.747658Z",
     "iopub.status.idle": "2022-04-19T00:35:55.751019Z",
     "shell.execute_reply": "2022-04-19T00:35:55.751465Z"
    },
    "papermill": {
     "duration": 0.03895,
     "end_time": "2022-04-19T00:35:55.751621",
     "exception": false,
     "start_time": "2022-04-19T00:35:55.712671",
     "status": "completed"
    },
    "tags": []
   },
   "outputs": [],
   "source": [
    "#hide\n",
    "# g['date'] = g.date.dt.dayofyear"
   ]
  },
  {
   "cell_type": "code",
   "execution_count": 35,
   "id": "inside-dubai",
   "metadata": {
    "execution": {
     "iopub.execute_input": "2022-04-19T00:35:55.818355Z",
     "iopub.status.busy": "2022-04-19T00:35:55.817822Z",
     "iopub.status.idle": "2022-04-19T00:35:55.819778Z",
     "shell.execute_reply": "2022-04-19T00:35:55.820191Z"
    },
    "papermill": {
     "duration": 0.037318,
     "end_time": "2022-04-19T00:35:55.820331",
     "exception": false,
     "start_time": "2022-04-19T00:35:55.783013",
     "status": "completed"
    },
    "tags": []
   },
   "outputs": [],
   "source": [
    "#hide\n",
    "# g = g.rename(columns= {'continent':'group','country':'name','cases':'value'})"
   ]
  },
  {
   "cell_type": "code",
   "execution_count": 36,
   "id": "fleet-motorcycle",
   "metadata": {
    "execution": {
     "iopub.execute_input": "2022-04-19T00:35:55.887659Z",
     "iopub.status.busy": "2022-04-19T00:35:55.887025Z",
     "iopub.status.idle": "2022-04-19T00:35:55.888289Z",
     "shell.execute_reply": "2022-04-19T00:35:55.888844Z"
    },
    "papermill": {
     "duration": 0.03713,
     "end_time": "2022-04-19T00:35:55.888998",
     "exception": false,
     "start_time": "2022-04-19T00:35:55.851868",
     "status": "completed"
    },
    "tags": []
   },
   "outputs": [],
   "source": [
    "#hide\n",
    "# cols = ['name','group','day','value']"
   ]
  },
  {
   "cell_type": "code",
   "execution_count": 37,
   "id": "continued-sleeping",
   "metadata": {
    "execution": {
     "iopub.execute_input": "2022-04-19T00:35:55.956729Z",
     "iopub.status.busy": "2022-04-19T00:35:55.956159Z",
     "iopub.status.idle": "2022-04-19T00:35:55.958235Z",
     "shell.execute_reply": "2022-04-19T00:35:55.957712Z"
    },
    "papermill": {
     "duration": 0.037192,
     "end_time": "2022-04-19T00:35:55.958354",
     "exception": false,
     "start_time": "2022-04-19T00:35:55.921162",
     "status": "completed"
    },
    "tags": []
   },
   "outputs": [],
   "source": [
    "#hide\n",
    "# g.rename(columns= {'date':'day'},inplace = True)"
   ]
  },
  {
   "cell_type": "code",
   "execution_count": 38,
   "id": "major-fight",
   "metadata": {
    "execution": {
     "iopub.execute_input": "2022-04-19T00:35:56.025742Z",
     "iopub.status.busy": "2022-04-19T00:35:56.025105Z",
     "iopub.status.idle": "2022-04-19T00:35:56.028494Z",
     "shell.execute_reply": "2022-04-19T00:35:56.028888Z"
    },
    "papermill": {
     "duration": 0.039047,
     "end_time": "2022-04-19T00:35:56.029035",
     "exception": false,
     "start_time": "2022-04-19T00:35:55.989988",
     "status": "completed"
    },
    "tags": []
   },
   "outputs": [],
   "source": [
    "#hide\n",
    "# g = g[cols]"
   ]
  },
  {
   "cell_type": "code",
   "execution_count": 39,
   "id": "structured-mobile",
   "metadata": {
    "execution": {
     "iopub.execute_input": "2022-04-19T00:35:56.095808Z",
     "iopub.status.busy": "2022-04-19T00:35:56.095168Z",
     "iopub.status.idle": "2022-04-19T00:35:56.096528Z",
     "shell.execute_reply": "2022-04-19T00:35:56.097086Z"
    },
    "papermill": {
     "duration": 0.036761,
     "end_time": "2022-04-19T00:35:56.097242",
     "exception": false,
     "start_time": "2022-04-19T00:35:56.060481",
     "status": "completed"
    },
    "tags": []
   },
   "outputs": [],
   "source": [
    "# #hide\n",
    "# g = g[g.group.notna()]"
   ]
  },
  {
   "cell_type": "code",
   "execution_count": 40,
   "id": "determined-closing",
   "metadata": {
    "execution": {
     "iopub.execute_input": "2022-04-19T00:35:56.164941Z",
     "iopub.status.busy": "2022-04-19T00:35:56.164278Z",
     "iopub.status.idle": "2022-04-19T00:35:56.165738Z",
     "shell.execute_reply": "2022-04-19T00:35:56.166233Z"
    },
    "papermill": {
     "duration": 0.037392,
     "end_time": "2022-04-19T00:35:56.166389",
     "exception": false,
     "start_time": "2022-04-19T00:35:56.128997",
     "status": "completed"
    },
    "tags": []
   },
   "outputs": [],
   "source": [
    "# #hide\n",
    "# colors = dict(zip(\n",
    "#     [\"Oceania\", \"Europe\", \"Asia\", \"South America\", \"Middle East\", \"North America\", \"Africa\"],\n",
    "#     [\"#adb0ff\", \"#ffb3ff\", \"#90d595\", \"#e48381\", \"#aafbff\", \"#f7bb5f\", \"#eafb50\"]\n",
    "# ))\n",
    "# group_lk = g.set_index('name')['group'].to_dict()"
   ]
  },
  {
   "cell_type": "code",
   "execution_count": null,
   "id": "gross-drinking",
   "metadata": {
    "papermill": {
     "duration": 0.031196,
     "end_time": "2022-04-19T00:35:56.229240",
     "exception": false,
     "start_time": "2022-04-19T00:35:56.198044",
     "status": "completed"
    },
    "tags": []
   },
   "outputs": [],
   "source": []
  },
  {
   "cell_type": "code",
   "execution_count": 41,
   "id": "subject-macintosh",
   "metadata": {
    "execution": {
     "iopub.execute_input": "2022-04-19T00:35:56.296506Z",
     "iopub.status.busy": "2022-04-19T00:35:56.295868Z",
     "iopub.status.idle": "2022-04-19T00:35:56.297253Z",
     "shell.execute_reply": "2022-04-19T00:35:56.297820Z"
    },
    "papermill": {
     "duration": 0.037392,
     "end_time": "2022-04-19T00:35:56.297976",
     "exception": false,
     "start_time": "2022-04-19T00:35:56.260584",
     "status": "completed"
    },
    "tags": []
   },
   "outputs": [],
   "source": [
    "# #hide\n",
    "# fig, ax = plt.subplots(figsize=(15, 8))\n",
    "\n",
    "# def draw_barchart(current_day):\n",
    "#     dff = g[g['day'].eq(current_day)].sort_values(by='value', ascending=True).tail(10)\n",
    "#     ax.clear()\n",
    "#     ax.barh(dff['name'], dff['value'], color=[colors[group_lk[x]] for x in dff['name']])\n",
    "#     dx = dff['value'].max() / 200\n",
    "    \n",
    "#     for i, (value, name) in enumerate(zip(dff['value'], dff['name'])):\n",
    "#         ax.text(value-dx, i,     name,           size=14, weight=600, ha='right', va='bottom')\n",
    "#         ax.text(value-dx, i-.25, group_lk[name], size=10, color='#444444', ha='right', va='baseline')\n",
    "#         ax.text(value+dx, i,     f'{value:,.0f}',  size=14, ha='left',  va='center')\n",
    "#     ax.text(1, 0.4, current_day, transform=ax.transAxes, color='#777777', size=46, ha='right', weight=800)\n",
    "#     ax.text(0, 1.06, 'Population (thousands)', transform=ax.transAxes, size=12, color='#777777')\n",
    "#     ax.xaxis.set_major_formatter(ticker.StrMethodFormatter('{x:,.0f}'))\n",
    "#     ax.xaxis.set_ticks_position('top')\n",
    "#     ax.tick_params(axis='x', colors='#777777', labelsize=12)\n",
    "#     ax.set_yticks([])\n",
    "#     ax.margins(0, 0.01)\n",
    "#     ax.grid(which='major', axis='x', linestyle='-')\n",
    "#     ax.set_axisbelow(True)\n",
    "    \n",
    "#     ax.text(0, 1.15, 'Coronavirus',\n",
    "#             transform=ax.transAxes, size=24, weight=600, ha='left', va='top')\n",
    "# #     ax.text(1, 0, 'by @pratapvardhan; credit @jburnmurdoch', transform=ax.transAxes, color='#777777', ha='right',\n",
    "# #             bbox=dict(facecolor='white', alpha=0.8, edgecolor='white'))\n",
    "#     plt.box(False)"
   ]
  },
  {
   "cell_type": "code",
   "execution_count": 42,
   "id": "sexual-wages",
   "metadata": {
    "execution": {
     "iopub.execute_input": "2022-04-19T00:35:56.365562Z",
     "iopub.status.busy": "2022-04-19T00:35:56.364930Z",
     "iopub.status.idle": "2022-04-19T00:35:56.368373Z",
     "shell.execute_reply": "2022-04-19T00:35:56.368828Z"
    },
    "papermill": {
     "duration": 0.038961,
     "end_time": "2022-04-19T00:35:56.368977",
     "exception": false,
     "start_time": "2022-04-19T00:35:56.330016",
     "status": "completed"
    },
    "tags": []
   },
   "outputs": [],
   "source": [
    "# #hide_input\n",
    "# fig, ax = plt.subplots(figsize=(15, 8))\n",
    "# animator = animation.FuncAnimation(fig, draw_barchart, frames=range(g.day.values.min(), g.day.values.max()))\n",
    "# HTML(animator.to_jshtml())\n",
    "# # or use animator.to_html5_video() or animator.save() "
   ]
  },
  {
   "cell_type": "code",
   "execution_count": null,
   "id": "australian-container",
   "metadata": {
    "papermill": {
     "duration": 0.030964,
     "end_time": "2022-04-19T00:35:56.431692",
     "exception": false,
     "start_time": "2022-04-19T00:35:56.400728",
     "status": "completed"
    },
    "tags": []
   },
   "outputs": [],
   "source": []
  },
  {
   "cell_type": "code",
   "execution_count": null,
   "id": "mediterranean-pontiac",
   "metadata": {
    "papermill": {
     "duration": 0.030718,
     "end_time": "2022-04-19T00:35:56.493386",
     "exception": false,
     "start_time": "2022-04-19T00:35:56.462668",
     "status": "completed"
    },
    "tags": []
   },
   "outputs": [],
   "source": []
  },
  {
   "cell_type": "code",
   "execution_count": null,
   "id": "aging-legislature",
   "metadata": {
    "papermill": {
     "duration": 0.030913,
     "end_time": "2022-04-19T00:35:56.555450",
     "exception": false,
     "start_time": "2022-04-19T00:35:56.524537",
     "status": "completed"
    },
    "tags": []
   },
   "outputs": [],
   "source": []
  }
 ],
 "metadata": {
  "kernelspec": {
   "display_name": "Python 3",
   "language": "python",
   "name": "python3"
  },
  "language_info": {
   "codemirror_mode": {
    "name": "ipython",
    "version": 3
   },
   "file_extension": ".py",
   "mimetype": "text/x-python",
   "name": "python",
   "nbconvert_exporter": "python",
   "pygments_lexer": "ipython3",
   "version": "3.6.15"
  },
  "papermill": {
   "duration": 5.873466,
   "end_time": "2022-04-19T00:35:56.904615",
   "environment_variables": {},
   "exception": null,
   "input_path": "2020-03-21-covid19exp.ipynb",
   "output_path": "2020-03-21-covid19exp.ipynb",
   "parameters": {},
   "start_time": "2022-04-19T00:35:51.031149",
   "version": "2.0.0"
  }
 },
 "nbformat": 4,
 "nbformat_minor": 5
}