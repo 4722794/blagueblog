{
 "cells": [
  {
   "cell_type": "markdown",
   "id": "muslim-click",
   "metadata": {
    "papermill": {
     "duration": 0.048978,
     "end_time": "2021-10-02T12:11:43.121328",
     "exception": false,
     "start_time": "2021-10-02T12:11:43.072350",
     "status": "completed"
    },
    "tags": []
   },
   "source": [
    "# COVID-19 Case Race\n",
    "> A race chart to see rising cases around the world\n",
    "\n",
    "- author: Hargun Oberoi\n",
    "- image: images/covid-overview.png\n",
    "- hide: false\n",
    "- badges: false"
   ]
  },
  {
   "cell_type": "code",
   "execution_count": 1,
   "id": "proof-material",
   "metadata": {
    "execution": {
     "iopub.execute_input": "2021-10-02T12:11:43.219707Z",
     "iopub.status.busy": "2021-10-02T12:11:43.218937Z",
     "iopub.status.idle": "2021-10-02T12:11:43.673618Z",
     "shell.execute_reply": "2021-10-02T12:11:43.672637Z"
    },
    "papermill": {
     "duration": 0.51035,
     "end_time": "2021-10-02T12:11:43.673883",
     "exception": false,
     "start_time": "2021-10-02T12:11:43.163533",
     "status": "completed"
    },
    "tags": []
   },
   "outputs": [],
   "source": [
    "#hide\n",
    "import numpy as np\n",
    "import pandas as pd\n",
    "from jinja2 import Template\n",
    "from IPython.display import HTML"
   ]
  },
  {
   "cell_type": "code",
   "execution_count": 2,
   "id": "developed-terminology",
   "metadata": {
    "execution": {
     "iopub.execute_input": "2021-10-02T12:11:43.768926Z",
     "iopub.status.busy": "2021-10-02T12:11:43.768145Z",
     "iopub.status.idle": "2021-10-02T12:11:43.770208Z",
     "shell.execute_reply": "2021-10-02T12:11:43.770961Z"
    },
    "papermill": {
     "duration": 0.052006,
     "end_time": "2021-10-02T12:11:43.771160",
     "exception": false,
     "start_time": "2021-10-02T12:11:43.719154",
     "status": "completed"
    },
    "tags": []
   },
   "outputs": [],
   "source": [
    "#hide\n",
    "\n",
    "# FETCH\n",
    "base_url = 'https://raw.githubusercontent.com/pratapvardhan/notebooks/master/covid19/'\n",
    "paths = {\n",
    "    'mapping': base_url + 'mapping_countries.csv',\n",
    "    'overview': base_url + 'overview.tpl'\n",
    "}"
   ]
  },
  {
   "cell_type": "code",
   "execution_count": 3,
   "id": "dynamic-saver",
   "metadata": {
    "execution": {
     "iopub.execute_input": "2021-10-02T12:11:43.873463Z",
     "iopub.status.busy": "2021-10-02T12:11:43.872776Z",
     "iopub.status.idle": "2021-10-02T12:11:43.876439Z",
     "shell.execute_reply": "2021-10-02T12:11:43.875632Z"
    },
    "papermill": {
     "duration": 0.057442,
     "end_time": "2021-10-02T12:11:43.876581",
     "exception": false,
     "start_time": "2021-10-02T12:11:43.819139",
     "status": "completed"
    },
    "tags": []
   },
   "outputs": [
    {
     "data": {
      "text/plain": [
       "'https://raw.githubusercontent.com/pratapvardhan/notebooks/master/covid19/mapping_countries.csv'"
      ]
     },
     "execution_count": 3,
     "metadata": {},
     "output_type": "execute_result"
    }
   ],
   "source": [
    "#hide\n",
    "paths['mapping']"
   ]
  },
  {
   "cell_type": "code",
   "execution_count": 4,
   "id": "urban-software",
   "metadata": {
    "execution": {
     "iopub.execute_input": "2021-10-02T12:11:43.966975Z",
     "iopub.status.busy": "2021-10-02T12:11:43.966143Z",
     "iopub.status.idle": "2021-10-02T12:11:43.969025Z",
     "shell.execute_reply": "2021-10-02T12:11:43.968252Z"
    },
    "papermill": {
     "duration": 0.049789,
     "end_time": "2021-10-02T12:11:43.969154",
     "exception": false,
     "start_time": "2021-10-02T12:11:43.919365",
     "status": "completed"
    },
    "tags": []
   },
   "outputs": [],
   "source": [
    "#hide\n",
    "def get_mappings(url):\n",
    "    df = pd.read_csv(url)\n",
    "    return {\n",
    "        'df': df,\n",
    "        'replace.country': dict(df.dropna(subset=['Name']).set_index('Country')['Name']),\n",
    "        'map.continent': dict(df.set_index('Name')['Continent'])\n",
    "    }"
   ]
  },
  {
   "cell_type": "code",
   "execution_count": 5,
   "id": "intimate-machinery",
   "metadata": {
    "execution": {
     "iopub.execute_input": "2021-10-02T12:11:44.061988Z",
     "iopub.status.busy": "2021-10-02T12:11:44.061188Z",
     "iopub.status.idle": "2021-10-02T12:11:44.111558Z",
     "shell.execute_reply": "2021-10-02T12:11:44.110895Z"
    },
    "papermill": {
     "duration": 0.098144,
     "end_time": "2021-10-02T12:11:44.111696",
     "exception": false,
     "start_time": "2021-10-02T12:11:44.013552",
     "status": "completed"
    },
    "tags": []
   },
   "outputs": [],
   "source": [
    "#hide\n",
    "mapping = get_mappings(paths['mapping'])"
   ]
  },
  {
   "cell_type": "code",
   "execution_count": 6,
   "id": "certified-tactics",
   "metadata": {
    "execution": {
     "iopub.execute_input": "2021-10-02T12:11:44.204983Z",
     "iopub.status.busy": "2021-10-02T12:11:44.204275Z",
     "iopub.status.idle": "2021-10-02T12:11:44.206832Z",
     "shell.execute_reply": "2021-10-02T12:11:44.206172Z"
    },
    "papermill": {
     "duration": 0.050314,
     "end_time": "2021-10-02T12:11:44.206963",
     "exception": false,
     "start_time": "2021-10-02T12:11:44.156649",
     "status": "completed"
    },
    "tags": []
   },
   "outputs": [],
   "source": [
    "#hide\n",
    "def get_template(path):\n",
    "    from urllib.parse import urlparse\n",
    "    if bool(urlparse(path).netloc):\n",
    "        from urllib.request import urlopen\n",
    "        return urlopen(path).read().decode('utf8')\n",
    "    return open(path).read()"
   ]
  },
  {
   "cell_type": "code",
   "execution_count": 7,
   "id": "realistic-blast",
   "metadata": {
    "execution": {
     "iopub.execute_input": "2021-10-02T12:11:44.301157Z",
     "iopub.status.busy": "2021-10-02T12:11:44.300432Z",
     "iopub.status.idle": "2021-10-02T12:11:44.304549Z",
     "shell.execute_reply": "2021-10-02T12:11:44.303946Z"
    },
    "papermill": {
     "duration": 0.054613,
     "end_time": "2021-10-02T12:11:44.304688",
     "exception": false,
     "start_time": "2021-10-02T12:11:44.250075",
     "status": "completed"
    },
    "tags": []
   },
   "outputs": [],
   "source": [
    "#hide\n",
    "def get_frame(name):\n",
    "    url = (\n",
    "        'https://raw.githubusercontent.com/CSSEGISandData/COVID-19/master/csse_covid_19_data/'\n",
    "        f'csse_covid_19_time_series/time_series_covid19_{name}_global.csv')\n",
    "    df = pd.read_csv(url)\n",
    "    # rename countries\n",
    "    df['Country/Region'] = df['Country/Region'].replace(mapping['replace.country'])\n",
    "    return df"
   ]
  },
  {
   "cell_type": "code",
   "execution_count": 8,
   "id": "affiliated-characterization",
   "metadata": {
    "execution": {
     "iopub.execute_input": "2021-10-02T12:11:44.397015Z",
     "iopub.status.busy": "2021-10-02T12:11:44.396271Z",
     "iopub.status.idle": "2021-10-02T12:11:44.399159Z",
     "shell.execute_reply": "2021-10-02T12:11:44.398546Z"
    },
    "papermill": {
     "duration": 0.050939,
     "end_time": "2021-10-02T12:11:44.399315",
     "exception": false,
     "start_time": "2021-10-02T12:11:44.348376",
     "status": "completed"
    },
    "tags": []
   },
   "outputs": [],
   "source": [
    "#hide\n",
    "def get_dates(df):\n",
    "    dt_cols = df.columns[~df.columns.isin(['Province/State', 'Country/Region', 'Lat', 'Long'])]\n",
    "    LAST_DATE_I = -1\n",
    "    # sometimes last column may be empty, then go backwards\n",
    "    for i in range(-1, -len(dt_cols), -1):\n",
    "        if not df[dt_cols[i]].fillna(0).eq(0).all():\n",
    "            LAST_DATE_I = i\n",
    "            break\n",
    "    return LAST_DATE_I, dt_cols"
   ]
  },
  {
   "cell_type": "code",
   "execution_count": 9,
   "id": "recent-optimization",
   "metadata": {
    "execution": {
     "iopub.execute_input": "2021-10-02T12:11:44.489761Z",
     "iopub.status.busy": "2021-10-02T12:11:44.489095Z",
     "iopub.status.idle": "2021-10-02T12:11:44.965714Z",
     "shell.execute_reply": "2021-10-02T12:11:44.966329Z"
    },
    "papermill": {
     "duration": 0.52423,
     "end_time": "2021-10-02T12:11:44.966573",
     "exception": false,
     "start_time": "2021-10-02T12:11:44.442343",
     "status": "completed"
    },
    "tags": []
   },
   "outputs": [],
   "source": [
    "#hide\n",
    "COL_REGION = 'Country/Region'\n",
    "# Confirmed, Recovered, Deaths\n",
    "df = get_frame('confirmed')\n",
    "# dft_: timeseries, dfc_: today country agg\n",
    "dft_cases = df\n",
    "dft_deaths = get_frame('deaths')\n",
    "dft_recovered = get_frame('recovered')\n",
    "LAST_DATE_I, dt_cols = get_dates(df)"
   ]
  },
  {
   "cell_type": "code",
   "execution_count": 10,
   "id": "absolute-copper",
   "metadata": {
    "execution": {
     "iopub.execute_input": "2021-10-02T12:11:45.068590Z",
     "iopub.status.busy": "2021-10-02T12:11:45.067755Z",
     "iopub.status.idle": "2021-10-02T12:11:45.070031Z",
     "shell.execute_reply": "2021-10-02T12:11:45.070828Z"
    },
    "papermill": {
     "duration": 0.059278,
     "end_time": "2021-10-02T12:11:45.071065",
     "exception": false,
     "start_time": "2021-10-02T12:11:45.011787",
     "status": "completed"
    },
    "tags": []
   },
   "outputs": [],
   "source": [
    "#hide\n",
    "LAST_DATE_I, dt_cols = get_dates(df)\n",
    "dt_today =dt_cols[LAST_DATE_I]\n",
    "# dt_5day = dt_cols[LAST_DATE_I - 5]\n",
    "dt_yday = dt_cols[LAST_DATE_I - 1]"
   ]
  },
  {
   "cell_type": "code",
   "execution_count": 11,
   "id": "restricted-sheriff",
   "metadata": {
    "execution": {
     "iopub.execute_input": "2021-10-02T12:11:45.171680Z",
     "iopub.status.busy": "2021-10-02T12:11:45.165777Z",
     "iopub.status.idle": "2021-10-02T12:11:45.175474Z",
     "shell.execute_reply": "2021-10-02T12:11:45.174363Z"
    },
    "papermill": {
     "duration": 0.063014,
     "end_time": "2021-10-02T12:11:45.175661",
     "exception": false,
     "start_time": "2021-10-02T12:11:45.112647",
     "status": "completed"
    },
    "tags": []
   },
   "outputs": [],
   "source": [
    "#hide\n",
    "dfc_cases = dft_cases.groupby(COL_REGION)[dt_today].sum()\n",
    "dfc_deaths = dft_deaths.groupby(COL_REGION)[dt_today].sum()\n",
    "# dfp_cases = dft_cases.groupby(COL_REGION)[dt_5day].sum()\n",
    "# dfp_deaths = dft_deaths.groupby(COL_REGION)[dt_5day].sum()\n",
    "dfp_cases = dft_cases.groupby(COL_REGION)[dt_yday].sum()\n",
    "dfp_deaths = dft_deaths.groupby(COL_REGION)[dt_yday].sum()"
   ]
  },
  {
   "cell_type": "code",
   "execution_count": 12,
   "id": "deluxe-hepatitis",
   "metadata": {
    "execution": {
     "iopub.execute_input": "2021-10-02T12:11:45.277853Z",
     "iopub.status.busy": "2021-10-02T12:11:45.277083Z",
     "iopub.status.idle": "2021-10-02T12:11:45.282921Z",
     "shell.execute_reply": "2021-10-02T12:11:45.282308Z"
    },
    "papermill": {
     "duration": 0.059387,
     "end_time": "2021-10-02T12:11:45.283053",
     "exception": false,
     "start_time": "2021-10-02T12:11:45.223666",
     "status": "completed"
    },
    "tags": []
   },
   "outputs": [],
   "source": [
    "#hide\n",
    "df_table = (pd.DataFrame(dict(Cases = dfc_cases, Deaths = dfc_deaths, PCases = dfp_cases, PDeaths = dfp_deaths))\n",
    "            .sort_values(by = ['Cases','Deaths'], ascending = [False, False])\n",
    "            .reset_index())"
   ]
  },
  {
   "cell_type": "code",
   "execution_count": 13,
   "id": "educational-chancellor",
   "metadata": {
    "execution": {
     "iopub.execute_input": "2021-10-02T12:11:45.401690Z",
     "iopub.status.busy": "2021-10-02T12:11:45.400910Z",
     "iopub.status.idle": "2021-10-02T12:11:45.412602Z",
     "shell.execute_reply": "2021-10-02T12:11:45.413386Z"
    },
    "papermill": {
     "duration": 0.08678,
     "end_time": "2021-10-02T12:11:45.413559",
     "exception": false,
     "start_time": "2021-10-02T12:11:45.326779",
     "status": "completed"
    },
    "tags": []
   },
   "outputs": [
    {
     "data": {
      "text/html": [
       "<div>\n",
       "<style scoped>\n",
       "    .dataframe tbody tr th:only-of-type {\n",
       "        vertical-align: middle;\n",
       "    }\n",
       "\n",
       "    .dataframe tbody tr th {\n",
       "        vertical-align: top;\n",
       "    }\n",
       "\n",
       "    .dataframe thead th {\n",
       "        text-align: right;\n",
       "    }\n",
       "</style>\n",
       "<table border=\"1\" class=\"dataframe\">\n",
       "  <thead>\n",
       "    <tr style=\"text-align: right;\">\n",
       "      <th></th>\n",
       "      <th>Country/Region</th>\n",
       "      <th>Cases</th>\n",
       "      <th>Deaths</th>\n",
       "      <th>PCases</th>\n",
       "      <th>PDeaths</th>\n",
       "      <th>Cases (+)</th>\n",
       "      <th>Deaths (+)</th>\n",
       "      <th>Fatality Rate</th>\n",
       "      <th>Continent</th>\n",
       "    </tr>\n",
       "  </thead>\n",
       "  <tbody>\n",
       "    <tr>\n",
       "      <th>0</th>\n",
       "      <td>US</td>\n",
       "      <td>43618627</td>\n",
       "      <td>700285</td>\n",
       "      <td>43460343</td>\n",
       "      <td>697851</td>\n",
       "      <td>158284</td>\n",
       "      <td>2434</td>\n",
       "      <td>1.61</td>\n",
       "      <td>North America</td>\n",
       "    </tr>\n",
       "    <tr>\n",
       "      <th>1</th>\n",
       "      <td>India</td>\n",
       "      <td>33791061</td>\n",
       "      <td>448573</td>\n",
       "      <td>33766707</td>\n",
       "      <td>448339</td>\n",
       "      <td>24354</td>\n",
       "      <td>234</td>\n",
       "      <td>1.33</td>\n",
       "      <td>Asia</td>\n",
       "    </tr>\n",
       "    <tr>\n",
       "      <th>2</th>\n",
       "      <td>Brazil</td>\n",
       "      <td>21445651</td>\n",
       "      <td>597255</td>\n",
       "      <td>21427073</td>\n",
       "      <td>596749</td>\n",
       "      <td>18578</td>\n",
       "      <td>506</td>\n",
       "      <td>2.78</td>\n",
       "      <td>South America</td>\n",
       "    </tr>\n",
       "    <tr>\n",
       "      <th>3</th>\n",
       "      <td>United Kingdom</td>\n",
       "      <td>7878571</td>\n",
       "      <td>137171</td>\n",
       "      <td>7843887</td>\n",
       "      <td>137043</td>\n",
       "      <td>34684</td>\n",
       "      <td>128</td>\n",
       "      <td>1.74</td>\n",
       "      <td>Europe</td>\n",
       "    </tr>\n",
       "    <tr>\n",
       "      <th>4</th>\n",
       "      <td>Russia</td>\n",
       "      <td>7425057</td>\n",
       "      <td>204424</td>\n",
       "      <td>7401104</td>\n",
       "      <td>203549</td>\n",
       "      <td>23953</td>\n",
       "      <td>875</td>\n",
       "      <td>2.75</td>\n",
       "      <td>Europe</td>\n",
       "    </tr>\n",
       "  </tbody>\n",
       "</table>\n",
       "</div>"
      ],
      "text/plain": [
       "   Country/Region     Cases  Deaths    PCases  PDeaths  Cases (+)  Deaths (+)  \\\n",
       "0              US  43618627  700285  43460343   697851     158284        2434   \n",
       "1           India  33791061  448573  33766707   448339      24354         234   \n",
       "2          Brazil  21445651  597255  21427073   596749      18578         506   \n",
       "3  United Kingdom   7878571  137171   7843887   137043      34684         128   \n",
       "4          Russia   7425057  204424   7401104   203549      23953         875   \n",
       "\n",
       "   Fatality Rate      Continent  \n",
       "0           1.61  North America  \n",
       "1           1.33           Asia  \n",
       "2           2.78  South America  \n",
       "3           1.74         Europe  \n",
       "4           2.75         Europe  "
      ]
     },
     "execution_count": 13,
     "metadata": {},
     "output_type": "execute_result"
    }
   ],
   "source": [
    "#hide\n",
    "for c in 'Cases, Deaths'.split(', '):\n",
    "    df_table[f'{c} (+)'] = (df_table[c] - df_table[f'P{c}']).clip(0)\n",
    "    #Clip ça veut dire, les chiffres negatif sont interdit\n",
    "df_table['Fatality Rate'] = (100* df_table['Deaths']/ df_table['Cases']).round(2)\n",
    "df_table['Continent'] = df_table['Country/Region'].map(mapping['map.continent'])\n",
    "df_table.head(5)"
   ]
  },
  {
   "cell_type": "code",
   "execution_count": 14,
   "id": "aboriginal-bulgaria",
   "metadata": {
    "execution": {
     "iopub.execute_input": "2021-10-02T12:11:45.519058Z",
     "iopub.status.busy": "2021-10-02T12:11:45.518365Z",
     "iopub.status.idle": "2021-10-02T12:11:45.520683Z",
     "shell.execute_reply": "2021-10-02T12:11:45.521339Z"
    },
    "papermill": {
     "duration": 0.058142,
     "end_time": "2021-10-02T12:11:45.521599",
     "exception": false,
     "start_time": "2021-10-02T12:11:45.463457",
     "status": "completed"
    },
    "tags": []
   },
   "outputs": [],
   "source": [
    "#hide\n",
    "#delete problematic countries from table\n",
    "df_table = df_table[~df_table['Country/Region'].isin(['Cape Verde', 'Cruise Ship', 'Kosovo'])]"
   ]
  },
  {
   "cell_type": "code",
   "execution_count": 15,
   "id": "fantastic-effect",
   "metadata": {
    "execution": {
     "iopub.execute_input": "2021-10-02T12:11:45.621037Z",
     "iopub.status.busy": "2021-10-02T12:11:45.620284Z",
     "iopub.status.idle": "2021-10-02T12:11:45.653330Z",
     "shell.execute_reply": "2021-10-02T12:11:45.652651Z"
    },
    "papermill": {
     "duration": 0.082981,
     "end_time": "2021-10-02T12:11:45.653479",
     "exception": false,
     "start_time": "2021-10-02T12:11:45.570498",
     "status": "completed"
    },
    "tags": []
   },
   "outputs": [
    {
     "data": {
      "text/html": [
       "<div>\n",
       "<style scoped>\n",
       "    .dataframe tbody tr th:only-of-type {\n",
       "        vertical-align: middle;\n",
       "    }\n",
       "\n",
       "    .dataframe tbody tr th {\n",
       "        vertical-align: top;\n",
       "    }\n",
       "\n",
       "    .dataframe thead th {\n",
       "        text-align: right;\n",
       "    }\n",
       "</style>\n",
       "<table border=\"1\" class=\"dataframe\">\n",
       "  <thead>\n",
       "    <tr style=\"text-align: right;\">\n",
       "      <th></th>\n",
       "      <th>Country/Region</th>\n",
       "      <th>Cases</th>\n",
       "      <th>Deaths</th>\n",
       "      <th>PCases</th>\n",
       "      <th>PDeaths</th>\n",
       "      <th>Cases (+)</th>\n",
       "      <th>Deaths (+)</th>\n",
       "      <th>Fatality Rate</th>\n",
       "      <th>Continent</th>\n",
       "    </tr>\n",
       "  </thead>\n",
       "  <tbody>\n",
       "    <tr>\n",
       "      <th>0</th>\n",
       "      <td>US</td>\n",
       "      <td>43618627</td>\n",
       "      <td>700285</td>\n",
       "      <td>43460343</td>\n",
       "      <td>697851</td>\n",
       "      <td>158284</td>\n",
       "      <td>2434</td>\n",
       "      <td>1.6</td>\n",
       "      <td>North America</td>\n",
       "    </tr>\n",
       "    <tr>\n",
       "      <th>1</th>\n",
       "      <td>India</td>\n",
       "      <td>33791061</td>\n",
       "      <td>448573</td>\n",
       "      <td>33766707</td>\n",
       "      <td>448339</td>\n",
       "      <td>24354</td>\n",
       "      <td>234</td>\n",
       "      <td>1.3</td>\n",
       "      <td>Asia</td>\n",
       "    </tr>\n",
       "    <tr>\n",
       "      <th>2</th>\n",
       "      <td>Brazil</td>\n",
       "      <td>21445651</td>\n",
       "      <td>597255</td>\n",
       "      <td>21427073</td>\n",
       "      <td>596749</td>\n",
       "      <td>18578</td>\n",
       "      <td>506</td>\n",
       "      <td>2.8</td>\n",
       "      <td>South America</td>\n",
       "    </tr>\n",
       "    <tr>\n",
       "      <th>3</th>\n",
       "      <td>United Kingdom</td>\n",
       "      <td>7878571</td>\n",
       "      <td>137171</td>\n",
       "      <td>7843887</td>\n",
       "      <td>137043</td>\n",
       "      <td>34684</td>\n",
       "      <td>128</td>\n",
       "      <td>1.7</td>\n",
       "      <td>Europe</td>\n",
       "    </tr>\n",
       "    <tr>\n",
       "      <th>4</th>\n",
       "      <td>Russia</td>\n",
       "      <td>7425057</td>\n",
       "      <td>204424</td>\n",
       "      <td>7401104</td>\n",
       "      <td>203549</td>\n",
       "      <td>23953</td>\n",
       "      <td>875</td>\n",
       "      <td>2.8</td>\n",
       "      <td>Europe</td>\n",
       "    </tr>\n",
       "  </tbody>\n",
       "</table>\n",
       "</div>"
      ],
      "text/plain": [
       "   Country/Region     Cases  Deaths    PCases  PDeaths  Cases (+)  Deaths (+)  \\\n",
       "0              US  43618627  700285  43460343   697851     158284        2434   \n",
       "1           India  33791061  448573  33766707   448339      24354         234   \n",
       "2          Brazil  21445651  597255  21427073   596749      18578         506   \n",
       "3  United Kingdom   7878571  137171   7843887   137043      34684         128   \n",
       "4          Russia   7425057  204424   7401104   203549      23953         875   \n",
       "\n",
       "   Fatality Rate      Continent  \n",
       "0            1.6  North America  \n",
       "1            1.3           Asia  \n",
       "2            2.8  South America  \n",
       "3            1.7         Europe  \n",
       "4            2.8         Europe  "
      ]
     },
     "execution_count": 15,
     "metadata": {},
     "output_type": "execute_result"
    }
   ],
   "source": [
    "#hide\n",
    "df_table = (pd.DataFrame(dict(Cases=dfc_cases, Deaths=dfc_deaths, PCases=dfp_cases, PDeaths=dfp_deaths))\n",
    "             .sort_values(by=['Cases', 'Deaths'], ascending=[False, False])\n",
    "             .reset_index())\n",
    "df_table.rename(columns={'index': 'Country/Region'}, inplace=True)\n",
    "for c in 'Cases, Deaths'.split(', '):\n",
    "    df_table[f'{c} (+)'] = (df_table[c] - df_table[f'P{c}']).clip(0)  # DATA BUG\n",
    "df_table['Fatality Rate'] = (100 * df_table['Deaths'] / df_table['Cases']).round(1)\n",
    "df_table['Continent'] = df_table['Country/Region'].map(mapping['map.continent'])\n",
    "df_table.head(5)"
   ]
  },
  {
   "cell_type": "code",
   "execution_count": 16,
   "id": "fewer-occasion",
   "metadata": {
    "execution": {
     "iopub.execute_input": "2021-10-02T12:11:45.746813Z",
     "iopub.status.busy": "2021-10-02T12:11:45.745484Z",
     "iopub.status.idle": "2021-10-02T12:11:45.753604Z",
     "shell.execute_reply": "2021-10-02T12:11:45.754141Z"
    },
    "papermill": {
     "duration": 0.056599,
     "end_time": "2021-10-02T12:11:45.754332",
     "exception": false,
     "start_time": "2021-10-02T12:11:45.697733",
     "status": "completed"
    },
    "tags": []
   },
   "outputs": [],
   "source": [
    "#hide\n",
    "#delete problematic countries from table\n",
    "df_table = df_table[~df_table['Country/Region'].isin(['Cape Verde', 'Cruise Ship', 'Kosovo'])]"
   ]
  },
  {
   "cell_type": "code",
   "execution_count": 17,
   "id": "related-center",
   "metadata": {
    "execution": {
     "iopub.execute_input": "2021-10-02T12:11:45.875179Z",
     "iopub.status.busy": "2021-10-02T12:11:45.874413Z",
     "iopub.status.idle": "2021-10-02T12:11:45.877706Z",
     "shell.execute_reply": "2021-10-02T12:11:45.876996Z"
    },
    "papermill": {
     "duration": 0.075516,
     "end_time": "2021-10-02T12:11:45.877854",
     "exception": false,
     "start_time": "2021-10-02T12:11:45.802338",
     "status": "completed"
    },
    "tags": []
   },
   "outputs": [],
   "source": [
    "#hide\n",
    "metrics = [df_table.columns[index] for index in [1,2,5,6]]\n",
    "# s_china = df_table[df_table['Country/Region'].eq('China')][metrics].sum().add_prefix('China ')\n",
    "s_us = df_table[df_table['Country/Region'].eq('US')][metrics].sum().add_prefix('US ')\n",
    "s_eu = df_table[df_table['Continent'].eq('Europe')][metrics].sum().add_prefix('EU ')\n",
    "s_ind = df_table[df_table['Country/Region'].eq('India')][metrics].sum().add_prefix('India ')\n",
    "summary = {'updated': pd.to_datetime(dt_today), 'since': pd.to_datetime(dt_yday)}\n",
    "summary = {'updated': pd.to_datetime(dt_today), 'since': pd.to_datetime(dt_yday)}\n",
    "summary = {**summary, **df_table[metrics].sum(), **s_ind, **s_us, **s_eu}"
   ]
  },
  {
   "cell_type": "code",
   "execution_count": 18,
   "id": "engaging-syndrome",
   "metadata": {
    "execution": {
     "iopub.execute_input": "2021-10-02T12:11:45.970488Z",
     "iopub.status.busy": "2021-10-02T12:11:45.969740Z",
     "iopub.status.idle": "2021-10-02T12:11:45.987274Z",
     "shell.execute_reply": "2021-10-02T12:11:45.986692Z"
    },
    "papermill": {
     "duration": 0.067059,
     "end_time": "2021-10-02T12:11:45.987420",
     "exception": false,
     "start_time": "2021-10-02T12:11:45.920361",
     "status": "completed"
    },
    "tags": []
   },
   "outputs": [],
   "source": [
    "#hide\n",
    "dft_ct_new_cases = dft_cases.groupby(COL_REGION)[dt_cols].sum().diff(axis=1).fillna(0).astype(int)"
   ]
  },
  {
   "cell_type": "code",
   "execution_count": 19,
   "id": "neutral-assignment",
   "metadata": {
    "execution": {
     "iopub.execute_input": "2021-10-02T12:11:46.081580Z",
     "iopub.status.busy": "2021-10-02T12:11:46.080884Z",
     "iopub.status.idle": "2021-10-02T12:11:46.083564Z",
     "shell.execute_reply": "2021-10-02T12:11:46.082890Z"
    },
    "papermill": {
     "duration": 0.053562,
     "end_time": "2021-10-02T12:11:46.083718",
     "exception": false,
     "start_time": "2021-10-02T12:11:46.030156",
     "status": "completed"
    },
    "tags": []
   },
   "outputs": [],
   "source": [
    "#hide\n",
    "everydaycases = dft_ct_new_cases.cumsum(axis=1)"
   ]
  },
  {
   "cell_type": "code",
   "execution_count": 20,
   "id": "parliamentary-calgary",
   "metadata": {
    "execution": {
     "iopub.execute_input": "2021-10-02T12:11:46.175430Z",
     "iopub.status.busy": "2021-10-02T12:11:46.174685Z",
     "iopub.status.idle": "2021-10-02T12:11:46.993443Z",
     "shell.execute_reply": "2021-10-02T12:11:46.994052Z"
    },
    "papermill": {
     "duration": 0.868724,
     "end_time": "2021-10-02T12:11:46.994271",
     "exception": false,
     "start_time": "2021-10-02T12:11:46.125547",
     "status": "completed"
    },
    "tags": []
   },
   "outputs": [],
   "source": [
    "#hide\n",
    "import pandas as pd\n",
    "import matplotlib.pyplot as plt\n",
    "import matplotlib.ticker as ticker\n",
    "import matplotlib.animation as animation\n",
    "from IPython.display import HTML"
   ]
  },
  {
   "cell_type": "code",
   "execution_count": 21,
   "id": "lasting-extraction",
   "metadata": {
    "execution": {
     "iopub.execute_input": "2021-10-02T12:11:47.092715Z",
     "iopub.status.busy": "2021-10-02T12:11:47.091886Z",
     "iopub.status.idle": "2021-10-02T12:11:47.099208Z",
     "shell.execute_reply": "2021-10-02T12:11:47.098537Z"
    },
    "papermill": {
     "duration": 0.059857,
     "end_time": "2021-10-02T12:11:47.099360",
     "exception": false,
     "start_time": "2021-10-02T12:11:47.039503",
     "status": "completed"
    },
    "tags": []
   },
   "outputs": [],
   "source": [
    "#hide\n",
    "t = everydaycases.stack()"
   ]
  },
  {
   "cell_type": "code",
   "execution_count": 22,
   "id": "premier-sleeve",
   "metadata": {
    "execution": {
     "iopub.execute_input": "2021-10-02T12:11:47.196528Z",
     "iopub.status.busy": "2021-10-02T12:11:47.195736Z",
     "iopub.status.idle": "2021-10-02T12:11:47.207614Z",
     "shell.execute_reply": "2021-10-02T12:11:47.206880Z"
    },
    "papermill": {
     "duration": 0.063631,
     "end_time": "2021-10-02T12:11:47.207764",
     "exception": false,
     "start_time": "2021-10-02T12:11:47.144133",
     "status": "completed"
    },
    "tags": []
   },
   "outputs": [],
   "source": [
    "#hide\n",
    "g = t.reset_index(['Country/Region'])"
   ]
  },
  {
   "cell_type": "code",
   "execution_count": 23,
   "id": "distributed-pittsburgh",
   "metadata": {
    "execution": {
     "iopub.execute_input": "2021-10-02T12:11:47.315589Z",
     "iopub.status.busy": "2021-10-02T12:11:47.314042Z",
     "iopub.status.idle": "2021-10-02T12:11:47.316510Z",
     "shell.execute_reply": "2021-10-02T12:11:47.317549Z"
    },
    "papermill": {
     "duration": 0.057981,
     "end_time": "2021-10-02T12:11:47.317732",
     "exception": false,
     "start_time": "2021-10-02T12:11:47.259751",
     "status": "completed"
    },
    "tags": []
   },
   "outputs": [],
   "source": [
    "#hide\n",
    "g.index.name = 'date'"
   ]
  },
  {
   "cell_type": "code",
   "execution_count": 24,
   "id": "naked-donor",
   "metadata": {
    "execution": {
     "iopub.execute_input": "2021-10-02T12:11:47.410320Z",
     "iopub.status.busy": "2021-10-02T12:11:47.408836Z",
     "iopub.status.idle": "2021-10-02T12:11:47.411273Z",
     "shell.execute_reply": "2021-10-02T12:11:47.411847Z"
    },
    "papermill": {
     "duration": 0.052203,
     "end_time": "2021-10-02T12:11:47.412010",
     "exception": false,
     "start_time": "2021-10-02T12:11:47.359807",
     "status": "completed"
    },
    "tags": []
   },
   "outputs": [],
   "source": [
    "# #hide\n",
    "# g = g.reset_index(['date'])"
   ]
  },
  {
   "cell_type": "code",
   "execution_count": 25,
   "id": "incomplete-mustang",
   "metadata": {
    "execution": {
     "iopub.execute_input": "2021-10-02T12:11:47.515392Z",
     "iopub.status.busy": "2021-10-02T12:11:47.514685Z",
     "iopub.status.idle": "2021-10-02T12:11:47.516143Z",
     "shell.execute_reply": "2021-10-02T12:11:47.516955Z"
    },
    "papermill": {
     "duration": 0.058501,
     "end_time": "2021-10-02T12:11:47.517129",
     "exception": false,
     "start_time": "2021-10-02T12:11:47.458628",
     "status": "completed"
    },
    "tags": []
   },
   "outputs": [],
   "source": [
    "#hide\n",
    "# g.head()"
   ]
  },
  {
   "cell_type": "code",
   "execution_count": 26,
   "id": "specific-kruger",
   "metadata": {
    "execution": {
     "iopub.execute_input": "2021-10-02T12:11:47.612346Z",
     "iopub.status.busy": "2021-10-02T12:11:47.611634Z",
     "iopub.status.idle": "2021-10-02T12:11:47.613653Z",
     "shell.execute_reply": "2021-10-02T12:11:47.614302Z"
    },
    "papermill": {
     "duration": 0.053608,
     "end_time": "2021-10-02T12:11:47.614507",
     "exception": false,
     "start_time": "2021-10-02T12:11:47.560899",
     "status": "completed"
    },
    "tags": []
   },
   "outputs": [],
   "source": [
    "#hide\n",
    "# g.columns = ['date','country','cases']"
   ]
  },
  {
   "cell_type": "code",
   "execution_count": 27,
   "id": "tender-conversion",
   "metadata": {
    "execution": {
     "iopub.execute_input": "2021-10-02T12:11:47.706860Z",
     "iopub.status.busy": "2021-10-02T12:11:47.705952Z",
     "iopub.status.idle": "2021-10-02T12:11:47.707728Z",
     "shell.execute_reply": "2021-10-02T12:11:47.708472Z"
    },
    "papermill": {
     "duration": 0.052244,
     "end_time": "2021-10-02T12:11:47.708625",
     "exception": false,
     "start_time": "2021-10-02T12:11:47.656381",
     "status": "completed"
    },
    "tags": []
   },
   "outputs": [],
   "source": [
    "#hide\n",
    "# g['continent'] = g.country"
   ]
  },
  {
   "cell_type": "code",
   "execution_count": 28,
   "id": "substantial-wilderness",
   "metadata": {
    "execution": {
     "iopub.execute_input": "2021-10-02T12:11:47.801764Z",
     "iopub.status.busy": "2021-10-02T12:11:47.800968Z",
     "iopub.status.idle": "2021-10-02T12:11:47.802914Z",
     "shell.execute_reply": "2021-10-02T12:11:47.803435Z"
    },
    "papermill": {
     "duration": 0.05187,
     "end_time": "2021-10-02T12:11:47.803592",
     "exception": false,
     "start_time": "2021-10-02T12:11:47.751722",
     "status": "completed"
    },
    "tags": []
   },
   "outputs": [],
   "source": [
    "#hide\n",
    "# cols = list(g.columns.values)"
   ]
  },
  {
   "cell_type": "code",
   "execution_count": 29,
   "id": "solved-farming",
   "metadata": {
    "execution": {
     "iopub.execute_input": "2021-10-02T12:11:47.896697Z",
     "iopub.status.busy": "2021-10-02T12:11:47.895849Z",
     "iopub.status.idle": "2021-10-02T12:11:47.897454Z",
     "shell.execute_reply": "2021-10-02T12:11:47.898102Z"
    },
    "papermill": {
     "duration": 0.051148,
     "end_time": "2021-10-02T12:11:47.898354",
     "exception": false,
     "start_time": "2021-10-02T12:11:47.847206",
     "status": "completed"
    },
    "tags": []
   },
   "outputs": [],
   "source": [
    "#hide\n",
    "# cols.insert(0, cols.pop())"
   ]
  },
  {
   "cell_type": "code",
   "execution_count": 30,
   "id": "executed-adoption",
   "metadata": {
    "execution": {
     "iopub.execute_input": "2021-10-02T12:11:47.992456Z",
     "iopub.status.busy": "2021-10-02T12:11:47.991621Z",
     "iopub.status.idle": "2021-10-02T12:11:47.993646Z",
     "shell.execute_reply": "2021-10-02T12:11:47.994274Z"
    },
    "papermill": {
     "duration": 0.052154,
     "end_time": "2021-10-02T12:11:47.994462",
     "exception": false,
     "start_time": "2021-10-02T12:11:47.942308",
     "status": "completed"
    },
    "tags": []
   },
   "outputs": [],
   "source": [
    "#hide\n",
    "# g = g[cols]"
   ]
  },
  {
   "cell_type": "code",
   "execution_count": 31,
   "id": "subject-dublin",
   "metadata": {
    "execution": {
     "iopub.execute_input": "2021-10-02T12:11:48.089465Z",
     "iopub.status.busy": "2021-10-02T12:11:48.088773Z",
     "iopub.status.idle": "2021-10-02T12:11:48.090784Z",
     "shell.execute_reply": "2021-10-02T12:11:48.091705Z"
    },
    "papermill": {
     "duration": 0.053949,
     "end_time": "2021-10-02T12:11:48.091897",
     "exception": false,
     "start_time": "2021-10-02T12:11:48.037948",
     "status": "completed"
    },
    "tags": []
   },
   "outputs": [],
   "source": [
    "#hide\n",
    "# g['continent'] = g['continent'].map(mapping['map.continent'])"
   ]
  },
  {
   "cell_type": "code",
   "execution_count": 32,
   "id": "freelance-scout",
   "metadata": {
    "execution": {
     "iopub.execute_input": "2021-10-02T12:11:48.186321Z",
     "iopub.status.busy": "2021-10-02T12:11:48.184591Z",
     "iopub.status.idle": "2021-10-02T12:11:48.187145Z",
     "shell.execute_reply": "2021-10-02T12:11:48.187699Z"
    },
    "papermill": {
     "duration": 0.053189,
     "end_time": "2021-10-02T12:11:48.187906",
     "exception": false,
     "start_time": "2021-10-02T12:11:48.134717",
     "status": "completed"
    },
    "tags": []
   },
   "outputs": [],
   "source": [
    "#hide\n",
    "# g.head()"
   ]
  },
  {
   "cell_type": "code",
   "execution_count": 33,
   "id": "limited-engine",
   "metadata": {
    "execution": {
     "iopub.execute_input": "2021-10-02T12:11:48.277028Z",
     "iopub.status.busy": "2021-10-02T12:11:48.276277Z",
     "iopub.status.idle": "2021-10-02T12:11:48.279092Z",
     "shell.execute_reply": "2021-10-02T12:11:48.278389Z"
    },
    "papermill": {
     "duration": 0.049339,
     "end_time": "2021-10-02T12:11:48.279235",
     "exception": false,
     "start_time": "2021-10-02T12:11:48.229896",
     "status": "completed"
    },
    "tags": []
   },
   "outputs": [],
   "source": [
    "# hide\n",
    "# g['date'] = g['date'].astype('datetime64[ns]')"
   ]
  },
  {
   "cell_type": "code",
   "execution_count": 34,
   "id": "sophisticated-supervisor",
   "metadata": {
    "execution": {
     "iopub.execute_input": "2021-10-02T12:11:48.368751Z",
     "iopub.status.busy": "2021-10-02T12:11:48.367991Z",
     "iopub.status.idle": "2021-10-02T12:11:48.370660Z",
     "shell.execute_reply": "2021-10-02T12:11:48.370077Z"
    },
    "papermill": {
     "duration": 0.04905,
     "end_time": "2021-10-02T12:11:48.370789",
     "exception": false,
     "start_time": "2021-10-02T12:11:48.321739",
     "status": "completed"
    },
    "tags": []
   },
   "outputs": [],
   "source": [
    "#hide\n",
    "# g['date'] = g.date.dt.dayofyear"
   ]
  },
  {
   "cell_type": "code",
   "execution_count": 35,
   "id": "inside-dubai",
   "metadata": {
    "execution": {
     "iopub.execute_input": "2021-10-02T12:11:48.460986Z",
     "iopub.status.busy": "2021-10-02T12:11:48.460195Z",
     "iopub.status.idle": "2021-10-02T12:11:48.462853Z",
     "shell.execute_reply": "2021-10-02T12:11:48.462292Z"
    },
    "papermill": {
     "duration": 0.048469,
     "end_time": "2021-10-02T12:11:48.462987",
     "exception": false,
     "start_time": "2021-10-02T12:11:48.414518",
     "status": "completed"
    },
    "tags": []
   },
   "outputs": [],
   "source": [
    "#hide\n",
    "# g = g.rename(columns= {'continent':'group','country':'name','cases':'value'})"
   ]
  },
  {
   "cell_type": "code",
   "execution_count": 36,
   "id": "fleet-motorcycle",
   "metadata": {
    "execution": {
     "iopub.execute_input": "2021-10-02T12:11:48.553736Z",
     "iopub.status.busy": "2021-10-02T12:11:48.553056Z",
     "iopub.status.idle": "2021-10-02T12:11:48.556036Z",
     "shell.execute_reply": "2021-10-02T12:11:48.555356Z"
    },
    "papermill": {
     "duration": 0.04949,
     "end_time": "2021-10-02T12:11:48.556345",
     "exception": false,
     "start_time": "2021-10-02T12:11:48.506855",
     "status": "completed"
    },
    "tags": []
   },
   "outputs": [],
   "source": [
    "#hide\n",
    "# cols = ['name','group','day','value']"
   ]
  },
  {
   "cell_type": "code",
   "execution_count": 37,
   "id": "continued-sleeping",
   "metadata": {
    "execution": {
     "iopub.execute_input": "2021-10-02T12:11:48.647326Z",
     "iopub.status.busy": "2021-10-02T12:11:48.646661Z",
     "iopub.status.idle": "2021-10-02T12:11:48.648870Z",
     "shell.execute_reply": "2021-10-02T12:11:48.649445Z"
    },
    "papermill": {
     "duration": 0.049502,
     "end_time": "2021-10-02T12:11:48.649628",
     "exception": false,
     "start_time": "2021-10-02T12:11:48.600126",
     "status": "completed"
    },
    "tags": []
   },
   "outputs": [],
   "source": [
    "#hide\n",
    "# g.rename(columns= {'date':'day'},inplace = True)"
   ]
  },
  {
   "cell_type": "code",
   "execution_count": 38,
   "id": "major-fight",
   "metadata": {
    "execution": {
     "iopub.execute_input": "2021-10-02T12:11:48.747984Z",
     "iopub.status.busy": "2021-10-02T12:11:48.747287Z",
     "iopub.status.idle": "2021-10-02T12:11:48.750151Z",
     "shell.execute_reply": "2021-10-02T12:11:48.750824Z"
    },
    "papermill": {
     "duration": 0.05529,
     "end_time": "2021-10-02T12:11:48.750974",
     "exception": false,
     "start_time": "2021-10-02T12:11:48.695684",
     "status": "completed"
    },
    "tags": []
   },
   "outputs": [],
   "source": [
    "#hide\n",
    "# g = g[cols]"
   ]
  },
  {
   "cell_type": "code",
   "execution_count": 39,
   "id": "structured-mobile",
   "metadata": {
    "execution": {
     "iopub.execute_input": "2021-10-02T12:11:48.855874Z",
     "iopub.status.busy": "2021-10-02T12:11:48.855077Z",
     "iopub.status.idle": "2021-10-02T12:11:48.857870Z",
     "shell.execute_reply": "2021-10-02T12:11:48.857297Z"
    },
    "papermill": {
     "duration": 0.056959,
     "end_time": "2021-10-02T12:11:48.858002",
     "exception": false,
     "start_time": "2021-10-02T12:11:48.801043",
     "status": "completed"
    },
    "tags": []
   },
   "outputs": [],
   "source": [
    "# #hide\n",
    "# g = g[g.group.notna()]"
   ]
  },
  {
   "cell_type": "code",
   "execution_count": 40,
   "id": "determined-closing",
   "metadata": {
    "execution": {
     "iopub.execute_input": "2021-10-02T12:11:48.955585Z",
     "iopub.status.busy": "2021-10-02T12:11:48.954839Z",
     "iopub.status.idle": "2021-10-02T12:11:48.957428Z",
     "shell.execute_reply": "2021-10-02T12:11:48.956854Z"
    },
    "papermill": {
     "duration": 0.053609,
     "end_time": "2021-10-02T12:11:48.957561",
     "exception": false,
     "start_time": "2021-10-02T12:11:48.903952",
     "status": "completed"
    },
    "tags": []
   },
   "outputs": [],
   "source": [
    "# #hide\n",
    "# colors = dict(zip(\n",
    "#     [\"Oceania\", \"Europe\", \"Asia\", \"South America\", \"Middle East\", \"North America\", \"Africa\"],\n",
    "#     [\"#adb0ff\", \"#ffb3ff\", \"#90d595\", \"#e48381\", \"#aafbff\", \"#f7bb5f\", \"#eafb50\"]\n",
    "# ))\n",
    "# group_lk = g.set_index('name')['group'].to_dict()"
   ]
  },
  {
   "cell_type": "code",
   "execution_count": null,
   "id": "gross-drinking",
   "metadata": {
    "papermill": {
     "duration": 0.047588,
     "end_time": "2021-10-02T12:11:49.051132",
     "exception": false,
     "start_time": "2021-10-02T12:11:49.003544",
     "status": "completed"
    },
    "tags": []
   },
   "outputs": [],
   "source": []
  },
  {
   "cell_type": "code",
   "execution_count": 41,
   "id": "subject-macintosh",
   "metadata": {
    "execution": {
     "iopub.execute_input": "2021-10-02T12:11:49.149803Z",
     "iopub.status.busy": "2021-10-02T12:11:49.149075Z",
     "iopub.status.idle": "2021-10-02T12:11:49.152034Z",
     "shell.execute_reply": "2021-10-02T12:11:49.151362Z"
    },
    "papermill": {
     "duration": 0.055538,
     "end_time": "2021-10-02T12:11:49.152169",
     "exception": false,
     "start_time": "2021-10-02T12:11:49.096631",
     "status": "completed"
    },
    "tags": []
   },
   "outputs": [],
   "source": [
    "# #hide\n",
    "# fig, ax = plt.subplots(figsize=(15, 8))\n",
    "\n",
    "# def draw_barchart(current_day):\n",
    "#     dff = g[g['day'].eq(current_day)].sort_values(by='value', ascending=True).tail(10)\n",
    "#     ax.clear()\n",
    "#     ax.barh(dff['name'], dff['value'], color=[colors[group_lk[x]] for x in dff['name']])\n",
    "#     dx = dff['value'].max() / 200\n",
    "    \n",
    "#     for i, (value, name) in enumerate(zip(dff['value'], dff['name'])):\n",
    "#         ax.text(value-dx, i,     name,           size=14, weight=600, ha='right', va='bottom')\n",
    "#         ax.text(value-dx, i-.25, group_lk[name], size=10, color='#444444', ha='right', va='baseline')\n",
    "#         ax.text(value+dx, i,     f'{value:,.0f}',  size=14, ha='left',  va='center')\n",
    "#     ax.text(1, 0.4, current_day, transform=ax.transAxes, color='#777777', size=46, ha='right', weight=800)\n",
    "#     ax.text(0, 1.06, 'Population (thousands)', transform=ax.transAxes, size=12, color='#777777')\n",
    "#     ax.xaxis.set_major_formatter(ticker.StrMethodFormatter('{x:,.0f}'))\n",
    "#     ax.xaxis.set_ticks_position('top')\n",
    "#     ax.tick_params(axis='x', colors='#777777', labelsize=12)\n",
    "#     ax.set_yticks([])\n",
    "#     ax.margins(0, 0.01)\n",
    "#     ax.grid(which='major', axis='x', linestyle='-')\n",
    "#     ax.set_axisbelow(True)\n",
    "    \n",
    "#     ax.text(0, 1.15, 'Coronavirus',\n",
    "#             transform=ax.transAxes, size=24, weight=600, ha='left', va='top')\n",
    "# #     ax.text(1, 0, 'by @pratapvardhan; credit @jburnmurdoch', transform=ax.transAxes, color='#777777', ha='right',\n",
    "# #             bbox=dict(facecolor='white', alpha=0.8, edgecolor='white'))\n",
    "#     plt.box(False)"
   ]
  },
  {
   "cell_type": "code",
   "execution_count": 42,
   "id": "sexual-wages",
   "metadata": {
    "execution": {
     "iopub.execute_input": "2021-10-02T12:11:49.251263Z",
     "iopub.status.busy": "2021-10-02T12:11:49.250447Z",
     "iopub.status.idle": "2021-10-02T12:11:49.252755Z",
     "shell.execute_reply": "2021-10-02T12:11:49.253343Z"
    },
    "papermill": {
     "duration": 0.053107,
     "end_time": "2021-10-02T12:11:49.253491",
     "exception": false,
     "start_time": "2021-10-02T12:11:49.200384",
     "status": "completed"
    },
    "tags": []
   },
   "outputs": [],
   "source": [
    "# #hide_input\n",
    "# fig, ax = plt.subplots(figsize=(15, 8))\n",
    "# animator = animation.FuncAnimation(fig, draw_barchart, frames=range(g.day.values.min(), g.day.values.max()))\n",
    "# HTML(animator.to_jshtml())\n",
    "# # or use animator.to_html5_video() or animator.save() "
   ]
  },
  {
   "cell_type": "code",
   "execution_count": null,
   "id": "australian-container",
   "metadata": {
    "papermill": {
     "duration": 0.043753,
     "end_time": "2021-10-02T12:11:49.344143",
     "exception": false,
     "start_time": "2021-10-02T12:11:49.300390",
     "status": "completed"
    },
    "tags": []
   },
   "outputs": [],
   "source": []
  },
  {
   "cell_type": "code",
   "execution_count": null,
   "id": "mediterranean-pontiac",
   "metadata": {
    "papermill": {
     "duration": 0.047586,
     "end_time": "2021-10-02T12:11:49.442739",
     "exception": false,
     "start_time": "2021-10-02T12:11:49.395153",
     "status": "completed"
    },
    "tags": []
   },
   "outputs": [],
   "source": []
  },
  {
   "cell_type": "code",
   "execution_count": null,
   "id": "aging-legislature",
   "metadata": {
    "papermill": {
     "duration": 0.045193,
     "end_time": "2021-10-02T12:11:49.539404",
     "exception": false,
     "start_time": "2021-10-02T12:11:49.494211",
     "status": "completed"
    },
    "tags": []
   },
   "outputs": [],
   "source": []
  }
 ],
 "metadata": {
  "kernelspec": {
   "display_name": "Python 3",
   "language": "python",
   "name": "python3"
  },
  "language_info": {
   "codemirror_mode": {
    "name": "ipython",
    "version": 3
   },
   "file_extension": ".py",
   "mimetype": "text/x-python",
   "name": "python",
   "nbconvert_exporter": "python",
   "pygments_lexer": "ipython3",
   "version": "3.6.15"
  },
  "papermill": {
   "duration": 8.157142,
   "end_time": "2021-10-02T12:11:49.993190",
   "environment_variables": {},
   "exception": null,
   "input_path": "2020-03-21-covid19exp.ipynb",
   "output_path": "2020-03-21-covid19exp.ipynb",
   "parameters": {},
   "start_time": "2021-10-02T12:11:41.836048",
   "version": "2.0.0"
  }
 },
 "nbformat": 4,
 "nbformat_minor": 5
}