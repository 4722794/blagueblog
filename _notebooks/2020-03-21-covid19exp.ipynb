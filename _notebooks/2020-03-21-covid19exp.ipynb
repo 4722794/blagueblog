{
 "cells": [
  {
   "cell_type": "markdown",
   "id": "muslim-click",
   "metadata": {
    "papermill": {
     "duration": 0.036608,
     "end_time": "2021-05-17T00:24:07.584549",
     "exception": false,
     "start_time": "2021-05-17T00:24:07.547941",
     "status": "completed"
    },
    "tags": []
   },
   "source": [
    "# COVID-19 Case Race\n",
    "> A race chart to see rising cases around the world\n",
    "\n",
    "- author: Hargun Oberoi\n",
    "- image: images/covid-overview.png\n",
    "- hide: false\n",
    "- badges: false"
   ]
  },
  {
   "cell_type": "code",
   "execution_count": 1,
   "id": "proof-material",
   "metadata": {
    "execution": {
     "iopub.execute_input": "2021-05-17T00:24:07.660773Z",
     "iopub.status.busy": "2021-05-17T00:24:07.659841Z",
     "iopub.status.idle": "2021-05-17T00:24:08.039689Z",
     "shell.execute_reply": "2021-05-17T00:24:08.038444Z"
    },
    "papermill": {
     "duration": 0.422855,
     "end_time": "2021-05-17T00:24:08.039852",
     "exception": false,
     "start_time": "2021-05-17T00:24:07.616997",
     "status": "completed"
    },
    "tags": []
   },
   "outputs": [],
   "source": [
    "#hide\n",
    "import numpy as np\n",
    "import pandas as pd\n",
    "from jinja2 import Template\n",
    "from IPython.display import HTML"
   ]
  },
  {
   "cell_type": "code",
   "execution_count": 2,
   "id": "developed-terminology",
   "metadata": {
    "execution": {
     "iopub.execute_input": "2021-05-17T00:24:08.118785Z",
     "iopub.status.busy": "2021-05-17T00:24:08.118177Z",
     "iopub.status.idle": "2021-05-17T00:24:08.120596Z",
     "shell.execute_reply": "2021-05-17T00:24:08.120076Z"
    },
    "papermill": {
     "duration": 0.043527,
     "end_time": "2021-05-17T00:24:08.120719",
     "exception": false,
     "start_time": "2021-05-17T00:24:08.077192",
     "status": "completed"
    },
    "tags": []
   },
   "outputs": [],
   "source": [
    "#hide\n",
    "\n",
    "# FETCH\n",
    "base_url = 'https://raw.githubusercontent.com/pratapvardhan/notebooks/master/covid19/'\n",
    "paths = {\n",
    "    'mapping': base_url + 'mapping_countries.csv',\n",
    "    'overview': base_url + 'overview.tpl'\n",
    "}"
   ]
  },
  {
   "cell_type": "code",
   "execution_count": 3,
   "id": "dynamic-saver",
   "metadata": {
    "execution": {
     "iopub.execute_input": "2021-05-17T00:24:08.209039Z",
     "iopub.status.busy": "2021-05-17T00:24:08.208362Z",
     "iopub.status.idle": "2021-05-17T00:24:08.211849Z",
     "shell.execute_reply": "2021-05-17T00:24:08.211261Z"
    },
    "papermill": {
     "duration": 0.052185,
     "end_time": "2021-05-17T00:24:08.212022",
     "exception": false,
     "start_time": "2021-05-17T00:24:08.159837",
     "status": "completed"
    },
    "tags": []
   },
   "outputs": [
    {
     "data": {
      "text/plain": [
       "'https://raw.githubusercontent.com/pratapvardhan/notebooks/master/covid19/mapping_countries.csv'"
      ]
     },
     "execution_count": 3,
     "metadata": {},
     "output_type": "execute_result"
    }
   ],
   "source": [
    "#hide\n",
    "paths['mapping']"
   ]
  },
  {
   "cell_type": "code",
   "execution_count": 4,
   "id": "urban-software",
   "metadata": {
    "execution": {
     "iopub.execute_input": "2021-05-17T00:24:08.293688Z",
     "iopub.status.busy": "2021-05-17T00:24:08.293055Z",
     "iopub.status.idle": "2021-05-17T00:24:08.295883Z",
     "shell.execute_reply": "2021-05-17T00:24:08.295270Z"
    },
    "papermill": {
     "duration": 0.047297,
     "end_time": "2021-05-17T00:24:08.296060",
     "exception": false,
     "start_time": "2021-05-17T00:24:08.248763",
     "status": "completed"
    },
    "tags": []
   },
   "outputs": [],
   "source": [
    "#hide\n",
    "def get_mappings(url):\n",
    "    df = pd.read_csv(url)\n",
    "    return {\n",
    "        'df': df,\n",
    "        'replace.country': dict(df.dropna(subset=['Name']).set_index('Country')['Name']),\n",
    "        'map.continent': dict(df.set_index('Name')['Continent'])\n",
    "    }"
   ]
  },
  {
   "cell_type": "code",
   "execution_count": 5,
   "id": "intimate-machinery",
   "metadata": {
    "execution": {
     "iopub.execute_input": "2021-05-17T00:24:08.380356Z",
     "iopub.status.busy": "2021-05-17T00:24:08.379687Z",
     "iopub.status.idle": "2021-05-17T00:24:08.423440Z",
     "shell.execute_reply": "2021-05-17T00:24:08.422822Z"
    },
    "papermill": {
     "duration": 0.089175,
     "end_time": "2021-05-17T00:24:08.423600",
     "exception": false,
     "start_time": "2021-05-17T00:24:08.334425",
     "status": "completed"
    },
    "tags": []
   },
   "outputs": [],
   "source": [
    "#hide\n",
    "mapping = get_mappings(paths['mapping'])"
   ]
  },
  {
   "cell_type": "code",
   "execution_count": 6,
   "id": "certified-tactics",
   "metadata": {
    "execution": {
     "iopub.execute_input": "2021-05-17T00:24:08.506598Z",
     "iopub.status.busy": "2021-05-17T00:24:08.505805Z",
     "iopub.status.idle": "2021-05-17T00:24:08.508809Z",
     "shell.execute_reply": "2021-05-17T00:24:08.508288Z"
    },
    "papermill": {
     "duration": 0.045617,
     "end_time": "2021-05-17T00:24:08.508947",
     "exception": false,
     "start_time": "2021-05-17T00:24:08.463330",
     "status": "completed"
    },
    "tags": []
   },
   "outputs": [],
   "source": [
    "#hide\n",
    "def get_template(path):\n",
    "    from urllib.parse import urlparse\n",
    "    if bool(urlparse(path).netloc):\n",
    "        from urllib.request import urlopen\n",
    "        return urlopen(path).read().decode('utf8')\n",
    "    return open(path).read()"
   ]
  },
  {
   "cell_type": "code",
   "execution_count": 7,
   "id": "realistic-blast",
   "metadata": {
    "execution": {
     "iopub.execute_input": "2021-05-17T00:24:08.589573Z",
     "iopub.status.busy": "2021-05-17T00:24:08.588907Z",
     "iopub.status.idle": "2021-05-17T00:24:08.591055Z",
     "shell.execute_reply": "2021-05-17T00:24:08.591608Z"
    },
    "papermill": {
     "duration": 0.04484,
     "end_time": "2021-05-17T00:24:08.591738",
     "exception": false,
     "start_time": "2021-05-17T00:24:08.546898",
     "status": "completed"
    },
    "tags": []
   },
   "outputs": [],
   "source": [
    "#hide\n",
    "def get_frame(name):\n",
    "    url = (\n",
    "        'https://raw.githubusercontent.com/CSSEGISandData/COVID-19/master/csse_covid_19_data/'\n",
    "        f'csse_covid_19_time_series/time_series_covid19_{name}_global.csv')\n",
    "    df = pd.read_csv(url)\n",
    "    # rename countries\n",
    "    df['Country/Region'] = df['Country/Region'].replace(mapping['replace.country'])\n",
    "    return df"
   ]
  },
  {
   "cell_type": "code",
   "execution_count": 8,
   "id": "affiliated-characterization",
   "metadata": {
    "execution": {
     "iopub.execute_input": "2021-05-17T00:24:08.672084Z",
     "iopub.status.busy": "2021-05-17T00:24:08.671503Z",
     "iopub.status.idle": "2021-05-17T00:24:08.673189Z",
     "shell.execute_reply": "2021-05-17T00:24:08.673759Z"
    },
    "papermill": {
     "duration": 0.045417,
     "end_time": "2021-05-17T00:24:08.673891",
     "exception": false,
     "start_time": "2021-05-17T00:24:08.628474",
     "status": "completed"
    },
    "tags": []
   },
   "outputs": [],
   "source": [
    "#hide\n",
    "def get_dates(df):\n",
    "    dt_cols = df.columns[~df.columns.isin(['Province/State', 'Country/Region', 'Lat', 'Long'])]\n",
    "    LAST_DATE_I = -1\n",
    "    # sometimes last column may be empty, then go backwards\n",
    "    for i in range(-1, -len(dt_cols), -1):\n",
    "        if not df[dt_cols[i]].fillna(0).eq(0).all():\n",
    "            LAST_DATE_I = i\n",
    "            break\n",
    "    return LAST_DATE_I, dt_cols"
   ]
  },
  {
   "cell_type": "code",
   "execution_count": 9,
   "id": "recent-optimization",
   "metadata": {
    "execution": {
     "iopub.execute_input": "2021-05-17T00:24:08.751779Z",
     "iopub.status.busy": "2021-05-17T00:24:08.751061Z",
     "iopub.status.idle": "2021-05-17T00:24:09.155042Z",
     "shell.execute_reply": "2021-05-17T00:24:09.154480Z"
    },
    "papermill": {
     "duration": 0.446301,
     "end_time": "2021-05-17T00:24:09.155183",
     "exception": false,
     "start_time": "2021-05-17T00:24:08.708882",
     "status": "completed"
    },
    "tags": []
   },
   "outputs": [],
   "source": [
    "#hide\n",
    "COL_REGION = 'Country/Region'\n",
    "# Confirmed, Recovered, Deaths\n",
    "df = get_frame('confirmed')\n",
    "# dft_: timeseries, dfc_: today country agg\n",
    "dft_cases = df\n",
    "dft_deaths = get_frame('deaths')\n",
    "dft_recovered = get_frame('recovered')\n",
    "LAST_DATE_I, dt_cols = get_dates(df)"
   ]
  },
  {
   "cell_type": "code",
   "execution_count": 10,
   "id": "absolute-copper",
   "metadata": {
    "execution": {
     "iopub.execute_input": "2021-05-17T00:24:09.239935Z",
     "iopub.status.busy": "2021-05-17T00:24:09.239249Z",
     "iopub.status.idle": "2021-05-17T00:24:09.243202Z",
     "shell.execute_reply": "2021-05-17T00:24:09.243653Z"
    },
    "papermill": {
     "duration": 0.050842,
     "end_time": "2021-05-17T00:24:09.243875",
     "exception": false,
     "start_time": "2021-05-17T00:24:09.193033",
     "status": "completed"
    },
    "tags": []
   },
   "outputs": [],
   "source": [
    "#hide\n",
    "LAST_DATE_I, dt_cols = get_dates(df)\n",
    "dt_today =dt_cols[LAST_DATE_I]\n",
    "# dt_5day = dt_cols[LAST_DATE_I - 5]\n",
    "dt_yday = dt_cols[LAST_DATE_I - 1]"
   ]
  },
  {
   "cell_type": "code",
   "execution_count": 11,
   "id": "restricted-sheriff",
   "metadata": {
    "execution": {
     "iopub.execute_input": "2021-05-17T00:24:09.335413Z",
     "iopub.status.busy": "2021-05-17T00:24:09.334460Z",
     "iopub.status.idle": "2021-05-17T00:24:09.340977Z",
     "shell.execute_reply": "2021-05-17T00:24:09.340393Z"
    },
    "papermill": {
     "duration": 0.05625,
     "end_time": "2021-05-17T00:24:09.341122",
     "exception": false,
     "start_time": "2021-05-17T00:24:09.284872",
     "status": "completed"
    },
    "tags": []
   },
   "outputs": [],
   "source": [
    "#hide\n",
    "dfc_cases = dft_cases.groupby(COL_REGION)[dt_today].sum()\n",
    "dfc_deaths = dft_deaths.groupby(COL_REGION)[dt_today].sum()\n",
    "# dfp_cases = dft_cases.groupby(COL_REGION)[dt_5day].sum()\n",
    "# dfp_deaths = dft_deaths.groupby(COL_REGION)[dt_5day].sum()\n",
    "dfp_cases = dft_cases.groupby(COL_REGION)[dt_yday].sum()\n",
    "dfp_deaths = dft_deaths.groupby(COL_REGION)[dt_yday].sum()"
   ]
  },
  {
   "cell_type": "code",
   "execution_count": 12,
   "id": "deluxe-hepatitis",
   "metadata": {
    "execution": {
     "iopub.execute_input": "2021-05-17T00:24:09.428916Z",
     "iopub.status.busy": "2021-05-17T00:24:09.428241Z",
     "iopub.status.idle": "2021-05-17T00:24:09.433904Z",
     "shell.execute_reply": "2021-05-17T00:24:09.434536Z"
    },
    "papermill": {
     "duration": 0.052907,
     "end_time": "2021-05-17T00:24:09.434728",
     "exception": false,
     "start_time": "2021-05-17T00:24:09.381821",
     "status": "completed"
    },
    "tags": []
   },
   "outputs": [],
   "source": [
    "#hide\n",
    "df_table = (pd.DataFrame(dict(Cases = dfc_cases, Deaths = dfc_deaths, PCases = dfp_cases, PDeaths = dfp_deaths))\n",
    "            .sort_values(by = ['Cases','Deaths'], ascending = [False, False])\n",
    "            .reset_index())"
   ]
  },
  {
   "cell_type": "code",
   "execution_count": 13,
   "id": "educational-chancellor",
   "metadata": {
    "execution": {
     "iopub.execute_input": "2021-05-17T00:24:09.536628Z",
     "iopub.status.busy": "2021-05-17T00:24:09.531011Z",
     "iopub.status.idle": "2021-05-17T00:24:09.546022Z",
     "shell.execute_reply": "2021-05-17T00:24:09.546619Z"
    },
    "papermill": {
     "duration": 0.072631,
     "end_time": "2021-05-17T00:24:09.546776",
     "exception": false,
     "start_time": "2021-05-17T00:24:09.474145",
     "status": "completed"
    },
    "tags": []
   },
   "outputs": [
    {
     "data": {
      "text/html": [
       "<div>\n",
       "<style scoped>\n",
       "    .dataframe tbody tr th:only-of-type {\n",
       "        vertical-align: middle;\n",
       "    }\n",
       "\n",
       "    .dataframe tbody tr th {\n",
       "        vertical-align: top;\n",
       "    }\n",
       "\n",
       "    .dataframe thead th {\n",
       "        text-align: right;\n",
       "    }\n",
       "</style>\n",
       "<table border=\"1\" class=\"dataframe\">\n",
       "  <thead>\n",
       "    <tr style=\"text-align: right;\">\n",
       "      <th></th>\n",
       "      <th>Country/Region</th>\n",
       "      <th>Cases</th>\n",
       "      <th>Deaths</th>\n",
       "      <th>PCases</th>\n",
       "      <th>PDeaths</th>\n",
       "      <th>Cases (+)</th>\n",
       "      <th>Deaths (+)</th>\n",
       "      <th>Fatality Rate</th>\n",
       "      <th>Continent</th>\n",
       "    </tr>\n",
       "  </thead>\n",
       "  <tbody>\n",
       "    <tr>\n",
       "      <th>0</th>\n",
       "      <td>US</td>\n",
       "      <td>32923982</td>\n",
       "      <td>585708</td>\n",
       "      <td>32895169</td>\n",
       "      <td>585232</td>\n",
       "      <td>28813</td>\n",
       "      <td>476</td>\n",
       "      <td>1.78</td>\n",
       "      <td>North America</td>\n",
       "    </tr>\n",
       "    <tr>\n",
       "      <th>1</th>\n",
       "      <td>India</td>\n",
       "      <td>24684077</td>\n",
       "      <td>270284</td>\n",
       "      <td>24372907</td>\n",
       "      <td>266207</td>\n",
       "      <td>311170</td>\n",
       "      <td>4077</td>\n",
       "      <td>1.09</td>\n",
       "      <td>Asia</td>\n",
       "    </tr>\n",
       "    <tr>\n",
       "      <th>2</th>\n",
       "      <td>Brazil</td>\n",
       "      <td>15586534</td>\n",
       "      <td>434715</td>\n",
       "      <td>15519525</td>\n",
       "      <td>432628</td>\n",
       "      <td>67009</td>\n",
       "      <td>2087</td>\n",
       "      <td>2.79</td>\n",
       "      <td>South America</td>\n",
       "    </tr>\n",
       "    <tr>\n",
       "      <th>3</th>\n",
       "      <td>France</td>\n",
       "      <td>5925071</td>\n",
       "      <td>107696</td>\n",
       "      <td>5909386</td>\n",
       "      <td>107584</td>\n",
       "      <td>15685</td>\n",
       "      <td>112</td>\n",
       "      <td>1.82</td>\n",
       "      <td>Europe</td>\n",
       "    </tr>\n",
       "    <tr>\n",
       "      <th>4</th>\n",
       "      <td>Turkey</td>\n",
       "      <td>5106862</td>\n",
       "      <td>44537</td>\n",
       "      <td>5095390</td>\n",
       "      <td>44301</td>\n",
       "      <td>11472</td>\n",
       "      <td>236</td>\n",
       "      <td>0.87</td>\n",
       "      <td>Asia</td>\n",
       "    </tr>\n",
       "  </tbody>\n",
       "</table>\n",
       "</div>"
      ],
      "text/plain": [
       "  Country/Region     Cases  Deaths    PCases  PDeaths  Cases (+)  Deaths (+)  \\\n",
       "0             US  32923982  585708  32895169   585232      28813         476   \n",
       "1          India  24684077  270284  24372907   266207     311170        4077   \n",
       "2         Brazil  15586534  434715  15519525   432628      67009        2087   \n",
       "3         France   5925071  107696   5909386   107584      15685         112   \n",
       "4         Turkey   5106862   44537   5095390    44301      11472         236   \n",
       "\n",
       "   Fatality Rate      Continent  \n",
       "0           1.78  North America  \n",
       "1           1.09           Asia  \n",
       "2           2.79  South America  \n",
       "3           1.82         Europe  \n",
       "4           0.87           Asia  "
      ]
     },
     "execution_count": 13,
     "metadata": {},
     "output_type": "execute_result"
    }
   ],
   "source": [
    "#hide\n",
    "for c in 'Cases, Deaths'.split(', '):\n",
    "    df_table[f'{c} (+)'] = (df_table[c] - df_table[f'P{c}']).clip(0)\n",
    "    #Clip ça veut dire, les chiffres negatif sont interdit\n",
    "df_table['Fatality Rate'] = (100* df_table['Deaths']/ df_table['Cases']).round(2)\n",
    "df_table['Continent'] = df_table['Country/Region'].map(mapping['map.continent'])\n",
    "df_table.head(5)"
   ]
  },
  {
   "cell_type": "code",
   "execution_count": 14,
   "id": "aboriginal-bulgaria",
   "metadata": {
    "execution": {
     "iopub.execute_input": "2021-05-17T00:24:09.629866Z",
     "iopub.status.busy": "2021-05-17T00:24:09.629241Z",
     "iopub.status.idle": "2021-05-17T00:24:09.631947Z",
     "shell.execute_reply": "2021-05-17T00:24:09.632506Z"
    },
    "papermill": {
     "duration": 0.046546,
     "end_time": "2021-05-17T00:24:09.632666",
     "exception": false,
     "start_time": "2021-05-17T00:24:09.586120",
     "status": "completed"
    },
    "tags": []
   },
   "outputs": [],
   "source": [
    "#hide\n",
    "#delete problematic countries from table\n",
    "df_table = df_table[~df_table['Country/Region'].isin(['Cape Verde', 'Cruise Ship', 'Kosovo'])]"
   ]
  },
  {
   "cell_type": "code",
   "execution_count": 15,
   "id": "fantastic-effect",
   "metadata": {
    "execution": {
     "iopub.execute_input": "2021-05-17T00:24:09.714558Z",
     "iopub.status.busy": "2021-05-17T00:24:09.713771Z",
     "iopub.status.idle": "2021-05-17T00:24:09.735388Z",
     "shell.execute_reply": "2021-05-17T00:24:09.735938Z"
    },
    "papermill": {
     "duration": 0.06966,
     "end_time": "2021-05-17T00:24:09.736101",
     "exception": false,
     "start_time": "2021-05-17T00:24:09.666441",
     "status": "completed"
    },
    "tags": []
   },
   "outputs": [
    {
     "data": {
      "text/html": [
       "<div>\n",
       "<style scoped>\n",
       "    .dataframe tbody tr th:only-of-type {\n",
       "        vertical-align: middle;\n",
       "    }\n",
       "\n",
       "    .dataframe tbody tr th {\n",
       "        vertical-align: top;\n",
       "    }\n",
       "\n",
       "    .dataframe thead th {\n",
       "        text-align: right;\n",
       "    }\n",
       "</style>\n",
       "<table border=\"1\" class=\"dataframe\">\n",
       "  <thead>\n",
       "    <tr style=\"text-align: right;\">\n",
       "      <th></th>\n",
       "      <th>Country/Region</th>\n",
       "      <th>Cases</th>\n",
       "      <th>Deaths</th>\n",
       "      <th>PCases</th>\n",
       "      <th>PDeaths</th>\n",
       "      <th>Cases (+)</th>\n",
       "      <th>Deaths (+)</th>\n",
       "      <th>Fatality Rate</th>\n",
       "      <th>Continent</th>\n",
       "    </tr>\n",
       "  </thead>\n",
       "  <tbody>\n",
       "    <tr>\n",
       "      <th>0</th>\n",
       "      <td>US</td>\n",
       "      <td>32923982</td>\n",
       "      <td>585708</td>\n",
       "      <td>32895169</td>\n",
       "      <td>585232</td>\n",
       "      <td>28813</td>\n",
       "      <td>476</td>\n",
       "      <td>1.8</td>\n",
       "      <td>North America</td>\n",
       "    </tr>\n",
       "    <tr>\n",
       "      <th>1</th>\n",
       "      <td>India</td>\n",
       "      <td>24684077</td>\n",
       "      <td>270284</td>\n",
       "      <td>24372907</td>\n",
       "      <td>266207</td>\n",
       "      <td>311170</td>\n",
       "      <td>4077</td>\n",
       "      <td>1.1</td>\n",
       "      <td>Asia</td>\n",
       "    </tr>\n",
       "    <tr>\n",
       "      <th>2</th>\n",
       "      <td>Brazil</td>\n",
       "      <td>15586534</td>\n",
       "      <td>434715</td>\n",
       "      <td>15519525</td>\n",
       "      <td>432628</td>\n",
       "      <td>67009</td>\n",
       "      <td>2087</td>\n",
       "      <td>2.8</td>\n",
       "      <td>South America</td>\n",
       "    </tr>\n",
       "    <tr>\n",
       "      <th>3</th>\n",
       "      <td>France</td>\n",
       "      <td>5925071</td>\n",
       "      <td>107696</td>\n",
       "      <td>5909386</td>\n",
       "      <td>107584</td>\n",
       "      <td>15685</td>\n",
       "      <td>112</td>\n",
       "      <td>1.8</td>\n",
       "      <td>Europe</td>\n",
       "    </tr>\n",
       "    <tr>\n",
       "      <th>4</th>\n",
       "      <td>Turkey</td>\n",
       "      <td>5106862</td>\n",
       "      <td>44537</td>\n",
       "      <td>5095390</td>\n",
       "      <td>44301</td>\n",
       "      <td>11472</td>\n",
       "      <td>236</td>\n",
       "      <td>0.9</td>\n",
       "      <td>Asia</td>\n",
       "    </tr>\n",
       "  </tbody>\n",
       "</table>\n",
       "</div>"
      ],
      "text/plain": [
       "  Country/Region     Cases  Deaths    PCases  PDeaths  Cases (+)  Deaths (+)  \\\n",
       "0             US  32923982  585708  32895169   585232      28813         476   \n",
       "1          India  24684077  270284  24372907   266207     311170        4077   \n",
       "2         Brazil  15586534  434715  15519525   432628      67009        2087   \n",
       "3         France   5925071  107696   5909386   107584      15685         112   \n",
       "4         Turkey   5106862   44537   5095390    44301      11472         236   \n",
       "\n",
       "   Fatality Rate      Continent  \n",
       "0            1.8  North America  \n",
       "1            1.1           Asia  \n",
       "2            2.8  South America  \n",
       "3            1.8         Europe  \n",
       "4            0.9           Asia  "
      ]
     },
     "execution_count": 15,
     "metadata": {},
     "output_type": "execute_result"
    }
   ],
   "source": [
    "#hide\n",
    "df_table = (pd.DataFrame(dict(Cases=dfc_cases, Deaths=dfc_deaths, PCases=dfp_cases, PDeaths=dfp_deaths))\n",
    "             .sort_values(by=['Cases', 'Deaths'], ascending=[False, False])\n",
    "             .reset_index())\n",
    "df_table.rename(columns={'index': 'Country/Region'}, inplace=True)\n",
    "for c in 'Cases, Deaths'.split(', '):\n",
    "    df_table[f'{c} (+)'] = (df_table[c] - df_table[f'P{c}']).clip(0)  # DATA BUG\n",
    "df_table['Fatality Rate'] = (100 * df_table['Deaths'] / df_table['Cases']).round(1)\n",
    "df_table['Continent'] = df_table['Country/Region'].map(mapping['map.continent'])\n",
    "df_table.head(5)"
   ]
  },
  {
   "cell_type": "code",
   "execution_count": 16,
   "id": "fewer-occasion",
   "metadata": {
    "execution": {
     "iopub.execute_input": "2021-05-17T00:24:09.820985Z",
     "iopub.status.busy": "2021-05-17T00:24:09.820364Z",
     "iopub.status.idle": "2021-05-17T00:24:09.822360Z",
     "shell.execute_reply": "2021-05-17T00:24:09.823054Z"
    },
    "papermill": {
     "duration": 0.049448,
     "end_time": "2021-05-17T00:24:09.823631",
     "exception": false,
     "start_time": "2021-05-17T00:24:09.774183",
     "status": "completed"
    },
    "tags": []
   },
   "outputs": [],
   "source": [
    "#hide\n",
    "#delete problematic countries from table\n",
    "df_table = df_table[~df_table['Country/Region'].isin(['Cape Verde', 'Cruise Ship', 'Kosovo'])]"
   ]
  },
  {
   "cell_type": "code",
   "execution_count": 17,
   "id": "related-center",
   "metadata": {
    "execution": {
     "iopub.execute_input": "2021-05-17T00:24:09.922744Z",
     "iopub.status.busy": "2021-05-17T00:24:09.922089Z",
     "iopub.status.idle": "2021-05-17T00:24:09.925015Z",
     "shell.execute_reply": "2021-05-17T00:24:09.924516Z"
    },
    "papermill": {
     "duration": 0.063491,
     "end_time": "2021-05-17T00:24:09.925230",
     "exception": false,
     "start_time": "2021-05-17T00:24:09.861739",
     "status": "completed"
    },
    "tags": []
   },
   "outputs": [],
   "source": [
    "#hide\n",
    "metrics = [df_table.columns[index] for index in [1,2,5,6]]\n",
    "# s_china = df_table[df_table['Country/Region'].eq('China')][metrics].sum().add_prefix('China ')\n",
    "s_us = df_table[df_table['Country/Region'].eq('US')][metrics].sum().add_prefix('US ')\n",
    "s_eu = df_table[df_table['Continent'].eq('Europe')][metrics].sum().add_prefix('EU ')\n",
    "s_ind = df_table[df_table['Country/Region'].eq('India')][metrics].sum().add_prefix('India ')\n",
    "summary = {'updated': pd.to_datetime(dt_today), 'since': pd.to_datetime(dt_yday)}\n",
    "summary = {'updated': pd.to_datetime(dt_today), 'since': pd.to_datetime(dt_yday)}\n",
    "summary = {**summary, **df_table[metrics].sum(), **s_ind, **s_us, **s_eu}"
   ]
  },
  {
   "cell_type": "code",
   "execution_count": 18,
   "id": "engaging-syndrome",
   "metadata": {
    "execution": {
     "iopub.execute_input": "2021-05-17T00:24:10.012242Z",
     "iopub.status.busy": "2021-05-17T00:24:10.011495Z",
     "iopub.status.idle": "2021-05-17T00:24:10.025112Z",
     "shell.execute_reply": "2021-05-17T00:24:10.024597Z"
    },
    "papermill": {
     "duration": 0.061577,
     "end_time": "2021-05-17T00:24:10.025283",
     "exception": false,
     "start_time": "2021-05-17T00:24:09.963706",
     "status": "completed"
    },
    "tags": []
   },
   "outputs": [],
   "source": [
    "#hide\n",
    "dft_ct_new_cases = dft_cases.groupby(COL_REGION)[dt_cols].sum().diff(axis=1).fillna(0).astype(int)"
   ]
  },
  {
   "cell_type": "code",
   "execution_count": 19,
   "id": "neutral-assignment",
   "metadata": {
    "execution": {
     "iopub.execute_input": "2021-05-17T00:24:10.111280Z",
     "iopub.status.busy": "2021-05-17T00:24:10.110692Z",
     "iopub.status.idle": "2021-05-17T00:24:10.112976Z",
     "shell.execute_reply": "2021-05-17T00:24:10.113464Z"
    },
    "papermill": {
     "duration": 0.049197,
     "end_time": "2021-05-17T00:24:10.113613",
     "exception": false,
     "start_time": "2021-05-17T00:24:10.064416",
     "status": "completed"
    },
    "tags": []
   },
   "outputs": [],
   "source": [
    "#hide\n",
    "everydaycases = dft_ct_new_cases.cumsum(axis=1)"
   ]
  },
  {
   "cell_type": "code",
   "execution_count": 20,
   "id": "parliamentary-calgary",
   "metadata": {
    "execution": {
     "iopub.execute_input": "2021-05-17T00:24:10.196189Z",
     "iopub.status.busy": "2021-05-17T00:24:10.195528Z",
     "iopub.status.idle": "2021-05-17T00:24:11.004349Z",
     "shell.execute_reply": "2021-05-17T00:24:11.003751Z"
    },
    "papermill": {
     "duration": 0.851419,
     "end_time": "2021-05-17T00:24:11.004516",
     "exception": false,
     "start_time": "2021-05-17T00:24:10.153097",
     "status": "completed"
    },
    "tags": []
   },
   "outputs": [],
   "source": [
    "#hide\n",
    "import pandas as pd\n",
    "import matplotlib.pyplot as plt\n",
    "import matplotlib.ticker as ticker\n",
    "import matplotlib.animation as animation\n",
    "from IPython.display import HTML"
   ]
  },
  {
   "cell_type": "code",
   "execution_count": 21,
   "id": "lasting-extraction",
   "metadata": {
    "execution": {
     "iopub.execute_input": "2021-05-17T00:24:11.093158Z",
     "iopub.status.busy": "2021-05-17T00:24:11.092476Z",
     "iopub.status.idle": "2021-05-17T00:24:11.098240Z",
     "shell.execute_reply": "2021-05-17T00:24:11.098940Z"
    },
    "papermill": {
     "duration": 0.052956,
     "end_time": "2021-05-17T00:24:11.099112",
     "exception": false,
     "start_time": "2021-05-17T00:24:11.046156",
     "status": "completed"
    },
    "tags": []
   },
   "outputs": [],
   "source": [
    "#hide\n",
    "t = everydaycases.stack()"
   ]
  },
  {
   "cell_type": "code",
   "execution_count": 22,
   "id": "premier-sleeve",
   "metadata": {
    "execution": {
     "iopub.execute_input": "2021-05-17T00:24:11.186692Z",
     "iopub.status.busy": "2021-05-17T00:24:11.186040Z",
     "iopub.status.idle": "2021-05-17T00:24:11.194417Z",
     "shell.execute_reply": "2021-05-17T00:24:11.195073Z"
    },
    "papermill": {
     "duration": 0.054916,
     "end_time": "2021-05-17T00:24:11.195234",
     "exception": false,
     "start_time": "2021-05-17T00:24:11.140318",
     "status": "completed"
    },
    "tags": []
   },
   "outputs": [],
   "source": [
    "#hide\n",
    "g = t.reset_index(['Country/Region'])"
   ]
  },
  {
   "cell_type": "code",
   "execution_count": 23,
   "id": "distributed-pittsburgh",
   "metadata": {
    "execution": {
     "iopub.execute_input": "2021-05-17T00:24:11.282330Z",
     "iopub.status.busy": "2021-05-17T00:24:11.281671Z",
     "iopub.status.idle": "2021-05-17T00:24:11.283534Z",
     "shell.execute_reply": "2021-05-17T00:24:11.284201Z"
    },
    "papermill": {
     "duration": 0.04801,
     "end_time": "2021-05-17T00:24:11.284359",
     "exception": false,
     "start_time": "2021-05-17T00:24:11.236349",
     "status": "completed"
    },
    "tags": []
   },
   "outputs": [],
   "source": [
    "#hide\n",
    "g.index.name = 'date'"
   ]
  },
  {
   "cell_type": "code",
   "execution_count": 24,
   "id": "naked-donor",
   "metadata": {
    "execution": {
     "iopub.execute_input": "2021-05-17T00:24:11.372892Z",
     "iopub.status.busy": "2021-05-17T00:24:11.372215Z",
     "iopub.status.idle": "2021-05-17T00:24:11.374248Z",
     "shell.execute_reply": "2021-05-17T00:24:11.374871Z"
    },
    "papermill": {
     "duration": 0.048674,
     "end_time": "2021-05-17T00:24:11.375078",
     "exception": false,
     "start_time": "2021-05-17T00:24:11.326404",
     "status": "completed"
    },
    "tags": []
   },
   "outputs": [],
   "source": [
    "# #hide\n",
    "# g = g.reset_index(['date'])"
   ]
  },
  {
   "cell_type": "code",
   "execution_count": 25,
   "id": "incomplete-mustang",
   "metadata": {
    "execution": {
     "iopub.execute_input": "2021-05-17T00:24:11.461244Z",
     "iopub.status.busy": "2021-05-17T00:24:11.460528Z",
     "iopub.status.idle": "2021-05-17T00:24:11.462743Z",
     "shell.execute_reply": "2021-05-17T00:24:11.463286Z"
    },
    "papermill": {
     "duration": 0.047231,
     "end_time": "2021-05-17T00:24:11.463447",
     "exception": false,
     "start_time": "2021-05-17T00:24:11.416216",
     "status": "completed"
    },
    "tags": []
   },
   "outputs": [],
   "source": [
    "#hide\n",
    "# g.head()"
   ]
  },
  {
   "cell_type": "code",
   "execution_count": 26,
   "id": "specific-kruger",
   "metadata": {
    "execution": {
     "iopub.execute_input": "2021-05-17T00:24:11.549821Z",
     "iopub.status.busy": "2021-05-17T00:24:11.549200Z",
     "iopub.status.idle": "2021-05-17T00:24:11.551166Z",
     "shell.execute_reply": "2021-05-17T00:24:11.551749Z"
    },
    "papermill": {
     "duration": 0.047259,
     "end_time": "2021-05-17T00:24:11.551893",
     "exception": false,
     "start_time": "2021-05-17T00:24:11.504634",
     "status": "completed"
    },
    "tags": []
   },
   "outputs": [],
   "source": [
    "#hide\n",
    "# g.columns = ['date','country','cases']"
   ]
  },
  {
   "cell_type": "code",
   "execution_count": 27,
   "id": "tender-conversion",
   "metadata": {
    "execution": {
     "iopub.execute_input": "2021-05-17T00:24:11.635516Z",
     "iopub.status.busy": "2021-05-17T00:24:11.634811Z",
     "iopub.status.idle": "2021-05-17T00:24:11.637511Z",
     "shell.execute_reply": "2021-05-17T00:24:11.636884Z"
    },
    "papermill": {
     "duration": 0.046313,
     "end_time": "2021-05-17T00:24:11.637662",
     "exception": false,
     "start_time": "2021-05-17T00:24:11.591349",
     "status": "completed"
    },
    "tags": []
   },
   "outputs": [],
   "source": [
    "#hide\n",
    "# g['continent'] = g.country"
   ]
  },
  {
   "cell_type": "code",
   "execution_count": 28,
   "id": "substantial-wilderness",
   "metadata": {
    "execution": {
     "iopub.execute_input": "2021-05-17T00:24:11.724873Z",
     "iopub.status.busy": "2021-05-17T00:24:11.724184Z",
     "iopub.status.idle": "2021-05-17T00:24:11.726885Z",
     "shell.execute_reply": "2021-05-17T00:24:11.726262Z"
    },
    "papermill": {
     "duration": 0.047868,
     "end_time": "2021-05-17T00:24:11.727061",
     "exception": false,
     "start_time": "2021-05-17T00:24:11.679193",
     "status": "completed"
    },
    "tags": []
   },
   "outputs": [],
   "source": [
    "#hide\n",
    "# cols = list(g.columns.values)"
   ]
  },
  {
   "cell_type": "code",
   "execution_count": 29,
   "id": "solved-farming",
   "metadata": {
    "execution": {
     "iopub.execute_input": "2021-05-17T00:24:11.814989Z",
     "iopub.status.busy": "2021-05-17T00:24:11.814238Z",
     "iopub.status.idle": "2021-05-17T00:24:11.816921Z",
     "shell.execute_reply": "2021-05-17T00:24:11.816227Z"
    },
    "papermill": {
     "duration": 0.047993,
     "end_time": "2021-05-17T00:24:11.817093",
     "exception": false,
     "start_time": "2021-05-17T00:24:11.769100",
     "status": "completed"
    },
    "tags": []
   },
   "outputs": [],
   "source": [
    "#hide\n",
    "# cols.insert(0, cols.pop())"
   ]
  },
  {
   "cell_type": "code",
   "execution_count": 30,
   "id": "executed-adoption",
   "metadata": {
    "execution": {
     "iopub.execute_input": "2021-05-17T00:24:11.905587Z",
     "iopub.status.busy": "2021-05-17T00:24:11.904821Z",
     "iopub.status.idle": "2021-05-17T00:24:11.906996Z",
     "shell.execute_reply": "2021-05-17T00:24:11.907546Z"
    },
    "papermill": {
     "duration": 0.048774,
     "end_time": "2021-05-17T00:24:11.907697",
     "exception": false,
     "start_time": "2021-05-17T00:24:11.858923",
     "status": "completed"
    },
    "tags": []
   },
   "outputs": [],
   "source": [
    "#hide\n",
    "# g = g[cols]"
   ]
  },
  {
   "cell_type": "code",
   "execution_count": 31,
   "id": "subject-dublin",
   "metadata": {
    "execution": {
     "iopub.execute_input": "2021-05-17T00:24:11.995676Z",
     "iopub.status.busy": "2021-05-17T00:24:11.994993Z",
     "iopub.status.idle": "2021-05-17T00:24:11.997643Z",
     "shell.execute_reply": "2021-05-17T00:24:11.997053Z"
    },
    "papermill": {
     "duration": 0.047983,
     "end_time": "2021-05-17T00:24:11.997783",
     "exception": false,
     "start_time": "2021-05-17T00:24:11.949800",
     "status": "completed"
    },
    "tags": []
   },
   "outputs": [],
   "source": [
    "#hide\n",
    "# g['continent'] = g['continent'].map(mapping['map.continent'])"
   ]
  },
  {
   "cell_type": "code",
   "execution_count": 32,
   "id": "freelance-scout",
   "metadata": {
    "execution": {
     "iopub.execute_input": "2021-05-17T00:24:12.081828Z",
     "iopub.status.busy": "2021-05-17T00:24:12.081131Z",
     "iopub.status.idle": "2021-05-17T00:24:12.083136Z",
     "shell.execute_reply": "2021-05-17T00:24:12.083654Z"
    },
    "papermill": {
     "duration": 0.047063,
     "end_time": "2021-05-17T00:24:12.083808",
     "exception": false,
     "start_time": "2021-05-17T00:24:12.036745",
     "status": "completed"
    },
    "tags": []
   },
   "outputs": [],
   "source": [
    "#hide\n",
    "# g.head()"
   ]
  },
  {
   "cell_type": "code",
   "execution_count": 33,
   "id": "limited-engine",
   "metadata": {
    "execution": {
     "iopub.execute_input": "2021-05-17T00:24:12.173763Z",
     "iopub.status.busy": "2021-05-17T00:24:12.172995Z",
     "iopub.status.idle": "2021-05-17T00:24:12.174958Z",
     "shell.execute_reply": "2021-05-17T00:24:12.175461Z"
    },
    "papermill": {
     "duration": 0.046941,
     "end_time": "2021-05-17T00:24:12.175613",
     "exception": false,
     "start_time": "2021-05-17T00:24:12.128672",
     "status": "completed"
    },
    "tags": []
   },
   "outputs": [],
   "source": [
    "# hide\n",
    "# g['date'] = g['date'].astype('datetime64[ns]')"
   ]
  },
  {
   "cell_type": "code",
   "execution_count": 34,
   "id": "sophisticated-supervisor",
   "metadata": {
    "execution": {
     "iopub.execute_input": "2021-05-17T00:24:12.262802Z",
     "iopub.status.busy": "2021-05-17T00:24:12.262139Z",
     "iopub.status.idle": "2021-05-17T00:24:12.264535Z",
     "shell.execute_reply": "2021-05-17T00:24:12.264022Z"
    },
    "papermill": {
     "duration": 0.047114,
     "end_time": "2021-05-17T00:24:12.264663",
     "exception": false,
     "start_time": "2021-05-17T00:24:12.217549",
     "status": "completed"
    },
    "tags": []
   },
   "outputs": [],
   "source": [
    "#hide\n",
    "# g['date'] = g.date.dt.dayofyear"
   ]
  },
  {
   "cell_type": "code",
   "execution_count": 35,
   "id": "inside-dubai",
   "metadata": {
    "execution": {
     "iopub.execute_input": "2021-05-17T00:24:12.351835Z",
     "iopub.status.busy": "2021-05-17T00:24:12.351089Z",
     "iopub.status.idle": "2021-05-17T00:24:12.353866Z",
     "shell.execute_reply": "2021-05-17T00:24:12.353262Z"
    },
    "papermill": {
     "duration": 0.047789,
     "end_time": "2021-05-17T00:24:12.354040",
     "exception": false,
     "start_time": "2021-05-17T00:24:12.306251",
     "status": "completed"
    },
    "tags": []
   },
   "outputs": [],
   "source": [
    "#hide\n",
    "# g = g.rename(columns= {'continent':'group','country':'name','cases':'value'})"
   ]
  },
  {
   "cell_type": "code",
   "execution_count": 36,
   "id": "fleet-motorcycle",
   "metadata": {
    "execution": {
     "iopub.execute_input": "2021-05-17T00:24:12.440534Z",
     "iopub.status.busy": "2021-05-17T00:24:12.439860Z",
     "iopub.status.idle": "2021-05-17T00:24:12.442109Z",
     "shell.execute_reply": "2021-05-17T00:24:12.442738Z"
    },
    "papermill": {
     "duration": 0.048002,
     "end_time": "2021-05-17T00:24:12.442901",
     "exception": false,
     "start_time": "2021-05-17T00:24:12.394899",
     "status": "completed"
    },
    "tags": []
   },
   "outputs": [],
   "source": [
    "#hide\n",
    "# cols = ['name','group','day','value']"
   ]
  },
  {
   "cell_type": "code",
   "execution_count": 37,
   "id": "continued-sleeping",
   "metadata": {
    "execution": {
     "iopub.execute_input": "2021-05-17T00:24:12.529976Z",
     "iopub.status.busy": "2021-05-17T00:24:12.529302Z",
     "iopub.status.idle": "2021-05-17T00:24:12.532299Z",
     "shell.execute_reply": "2021-05-17T00:24:12.531664Z"
    },
    "papermill": {
     "duration": 0.049236,
     "end_time": "2021-05-17T00:24:12.532430",
     "exception": false,
     "start_time": "2021-05-17T00:24:12.483194",
     "status": "completed"
    },
    "tags": []
   },
   "outputs": [],
   "source": [
    "#hide\n",
    "# g.rename(columns= {'date':'day'},inplace = True)"
   ]
  },
  {
   "cell_type": "code",
   "execution_count": 38,
   "id": "major-fight",
   "metadata": {
    "execution": {
     "iopub.execute_input": "2021-05-17T00:24:12.618980Z",
     "iopub.status.busy": "2021-05-17T00:24:12.618284Z",
     "iopub.status.idle": "2021-05-17T00:24:12.620765Z",
     "shell.execute_reply": "2021-05-17T00:24:12.620165Z"
    },
    "papermill": {
     "duration": 0.046651,
     "end_time": "2021-05-17T00:24:12.620913",
     "exception": false,
     "start_time": "2021-05-17T00:24:12.574262",
     "status": "completed"
    },
    "tags": []
   },
   "outputs": [],
   "source": [
    "#hide\n",
    "# g = g[cols]"
   ]
  },
  {
   "cell_type": "code",
   "execution_count": 39,
   "id": "structured-mobile",
   "metadata": {
    "execution": {
     "iopub.execute_input": "2021-05-17T00:24:12.709529Z",
     "iopub.status.busy": "2021-05-17T00:24:12.708832Z",
     "iopub.status.idle": "2021-05-17T00:24:12.711374Z",
     "shell.execute_reply": "2021-05-17T00:24:12.710793Z"
    },
    "papermill": {
     "duration": 0.049278,
     "end_time": "2021-05-17T00:24:12.711515",
     "exception": false,
     "start_time": "2021-05-17T00:24:12.662237",
     "status": "completed"
    },
    "tags": []
   },
   "outputs": [],
   "source": [
    "# #hide\n",
    "# g = g[g.group.notna()]"
   ]
  },
  {
   "cell_type": "code",
   "execution_count": 40,
   "id": "determined-closing",
   "metadata": {
    "execution": {
     "iopub.execute_input": "2021-05-17T00:24:12.798336Z",
     "iopub.status.busy": "2021-05-17T00:24:12.797650Z",
     "iopub.status.idle": "2021-05-17T00:24:12.799566Z",
     "shell.execute_reply": "2021-05-17T00:24:12.800114Z"
    },
    "papermill": {
     "duration": 0.047912,
     "end_time": "2021-05-17T00:24:12.800281",
     "exception": false,
     "start_time": "2021-05-17T00:24:12.752369",
     "status": "completed"
    },
    "tags": []
   },
   "outputs": [],
   "source": [
    "# #hide\n",
    "# colors = dict(zip(\n",
    "#     [\"Oceania\", \"Europe\", \"Asia\", \"South America\", \"Middle East\", \"North America\", \"Africa\"],\n",
    "#     [\"#adb0ff\", \"#ffb3ff\", \"#90d595\", \"#e48381\", \"#aafbff\", \"#f7bb5f\", \"#eafb50\"]\n",
    "# ))\n",
    "# group_lk = g.set_index('name')['group'].to_dict()"
   ]
  },
  {
   "cell_type": "code",
   "execution_count": null,
   "id": "gross-drinking",
   "metadata": {
    "papermill": {
     "duration": 0.041017,
     "end_time": "2021-05-17T00:24:12.883702",
     "exception": false,
     "start_time": "2021-05-17T00:24:12.842685",
     "status": "completed"
    },
    "tags": []
   },
   "outputs": [],
   "source": []
  },
  {
   "cell_type": "code",
   "execution_count": 41,
   "id": "subject-macintosh",
   "metadata": {
    "execution": {
     "iopub.execute_input": "2021-05-17T00:24:12.971856Z",
     "iopub.status.busy": "2021-05-17T00:24:12.971149Z",
     "iopub.status.idle": "2021-05-17T00:24:12.973694Z",
     "shell.execute_reply": "2021-05-17T00:24:12.973111Z"
    },
    "papermill": {
     "duration": 0.049084,
     "end_time": "2021-05-17T00:24:12.973847",
     "exception": false,
     "start_time": "2021-05-17T00:24:12.924763",
     "status": "completed"
    },
    "tags": []
   },
   "outputs": [],
   "source": [
    "# #hide\n",
    "# fig, ax = plt.subplots(figsize=(15, 8))\n",
    "\n",
    "# def draw_barchart(current_day):\n",
    "#     dff = g[g['day'].eq(current_day)].sort_values(by='value', ascending=True).tail(10)\n",
    "#     ax.clear()\n",
    "#     ax.barh(dff['name'], dff['value'], color=[colors[group_lk[x]] for x in dff['name']])\n",
    "#     dx = dff['value'].max() / 200\n",
    "    \n",
    "#     for i, (value, name) in enumerate(zip(dff['value'], dff['name'])):\n",
    "#         ax.text(value-dx, i,     name,           size=14, weight=600, ha='right', va='bottom')\n",
    "#         ax.text(value-dx, i-.25, group_lk[name], size=10, color='#444444', ha='right', va='baseline')\n",
    "#         ax.text(value+dx, i,     f'{value:,.0f}',  size=14, ha='left',  va='center')\n",
    "#     ax.text(1, 0.4, current_day, transform=ax.transAxes, color='#777777', size=46, ha='right', weight=800)\n",
    "#     ax.text(0, 1.06, 'Population (thousands)', transform=ax.transAxes, size=12, color='#777777')\n",
    "#     ax.xaxis.set_major_formatter(ticker.StrMethodFormatter('{x:,.0f}'))\n",
    "#     ax.xaxis.set_ticks_position('top')\n",
    "#     ax.tick_params(axis='x', colors='#777777', labelsize=12)\n",
    "#     ax.set_yticks([])\n",
    "#     ax.margins(0, 0.01)\n",
    "#     ax.grid(which='major', axis='x', linestyle='-')\n",
    "#     ax.set_axisbelow(True)\n",
    "    \n",
    "#     ax.text(0, 1.15, 'Coronavirus',\n",
    "#             transform=ax.transAxes, size=24, weight=600, ha='left', va='top')\n",
    "# #     ax.text(1, 0, 'by @pratapvardhan; credit @jburnmurdoch', transform=ax.transAxes, color='#777777', ha='right',\n",
    "# #             bbox=dict(facecolor='white', alpha=0.8, edgecolor='white'))\n",
    "#     plt.box(False)"
   ]
  },
  {
   "cell_type": "code",
   "execution_count": 42,
   "id": "sexual-wages",
   "metadata": {
    "execution": {
     "iopub.execute_input": "2021-05-17T00:24:13.061934Z",
     "iopub.status.busy": "2021-05-17T00:24:13.061253Z",
     "iopub.status.idle": "2021-05-17T00:24:13.063167Z",
     "shell.execute_reply": "2021-05-17T00:24:13.063804Z"
    },
    "papermill": {
     "duration": 0.047999,
     "end_time": "2021-05-17T00:24:13.063968",
     "exception": false,
     "start_time": "2021-05-17T00:24:13.015969",
     "status": "completed"
    },
    "tags": []
   },
   "outputs": [],
   "source": [
    "# #hide_input\n",
    "# fig, ax = plt.subplots(figsize=(15, 8))\n",
    "# animator = animation.FuncAnimation(fig, draw_barchart, frames=range(g.day.values.min(), g.day.values.max()))\n",
    "# HTML(animator.to_jshtml())\n",
    "# # or use animator.to_html5_video() or animator.save() "
   ]
  },
  {
   "cell_type": "code",
   "execution_count": null,
   "id": "australian-container",
   "metadata": {
    "papermill": {
     "duration": 0.041323,
     "end_time": "2021-05-17T00:24:13.147175",
     "exception": false,
     "start_time": "2021-05-17T00:24:13.105852",
     "status": "completed"
    },
    "tags": []
   },
   "outputs": [],
   "source": []
  },
  {
   "cell_type": "code",
   "execution_count": null,
   "id": "mediterranean-pontiac",
   "metadata": {
    "papermill": {
     "duration": 0.040596,
     "end_time": "2021-05-17T00:24:13.228763",
     "exception": false,
     "start_time": "2021-05-17T00:24:13.188167",
     "status": "completed"
    },
    "tags": []
   },
   "outputs": [],
   "source": []
  },
  {
   "cell_type": "code",
   "execution_count": null,
   "id": "aging-legislature",
   "metadata": {
    "papermill": {
     "duration": 0.040739,
     "end_time": "2021-05-17T00:24:13.310608",
     "exception": false,
     "start_time": "2021-05-17T00:24:13.269869",
     "status": "completed"
    },
    "tags": []
   },
   "outputs": [],
   "source": []
  }
 ],
 "metadata": {
  "kernelspec": {
   "display_name": "Python 3",
   "language": "python",
   "name": "python3"
  },
  "language_info": {
   "codemirror_mode": {
    "name": "ipython",
    "version": 3
   },
   "file_extension": ".py",
   "mimetype": "text/x-python",
   "name": "python",
   "nbconvert_exporter": "python",
   "pygments_lexer": "ipython3",
   "version": "3.6.13"
  },
  "papermill": {
   "duration": 7.351173,
   "end_time": "2021-05-17T00:24:13.759380",
   "environment_variables": {},
   "exception": null,
   "input_path": "2020-03-21-covid19exp.ipynb",
   "output_path": "2020-03-21-covid19exp.ipynb",
   "parameters": {},
   "start_time": "2021-05-17T00:24:06.408207",
   "version": "2.0.0"
  }
 },
 "nbformat": 4,
 "nbformat_minor": 5
}