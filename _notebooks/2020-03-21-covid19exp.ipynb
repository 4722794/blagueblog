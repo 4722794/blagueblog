{
 "cells": [
  {
   "cell_type": "markdown",
   "id": "muslim-click",
   "metadata": {
    "papermill": {
     "duration": 0.035208,
     "end_time": "2022-06-04T00:40:52.062247",
     "exception": false,
     "start_time": "2022-06-04T00:40:52.027039",
     "status": "completed"
    },
    "tags": []
   },
   "source": [
    "# COVID-19 Case Race\n",
    "> A race chart to see rising cases around the world\n",
    "\n",
    "- author: Hargun Oberoi\n",
    "- image: images/covid-overview.png\n",
    "- hide: false\n",
    "- badges: false"
   ]
  },
  {
   "cell_type": "code",
   "execution_count": 1,
   "id": "proof-material",
   "metadata": {
    "execution": {
     "iopub.execute_input": "2022-06-04T00:40:52.137592Z",
     "iopub.status.busy": "2022-06-04T00:40:52.137012Z",
     "iopub.status.idle": "2022-06-04T00:40:52.448419Z",
     "shell.execute_reply": "2022-06-04T00:40:52.447936Z"
    },
    "papermill": {
     "duration": 0.355622,
     "end_time": "2022-06-04T00:40:52.448548",
     "exception": false,
     "start_time": "2022-06-04T00:40:52.092926",
     "status": "completed"
    },
    "tags": []
   },
   "outputs": [],
   "source": [
    "#hide\n",
    "import numpy as np\n",
    "import pandas as pd\n",
    "from jinja2 import Template\n",
    "from IPython.display import HTML"
   ]
  },
  {
   "cell_type": "code",
   "execution_count": 2,
   "id": "developed-terminology",
   "metadata": {
    "execution": {
     "iopub.execute_input": "2022-06-04T00:40:52.518309Z",
     "iopub.status.busy": "2022-06-04T00:40:52.517716Z",
     "iopub.status.idle": "2022-06-04T00:40:52.519991Z",
     "shell.execute_reply": "2022-06-04T00:40:52.519452Z"
    },
    "papermill": {
     "duration": 0.041121,
     "end_time": "2022-06-04T00:40:52.520093",
     "exception": false,
     "start_time": "2022-06-04T00:40:52.478972",
     "status": "completed"
    },
    "tags": []
   },
   "outputs": [],
   "source": [
    "#hide\n",
    "\n",
    "# FETCH\n",
    "base_url = 'https://raw.githubusercontent.com/pratapvardhan/notebooks/master/covid19/'\n",
    "paths = {\n",
    "    'mapping': base_url + 'mapping_countries.csv',\n",
    "    'overview': base_url + 'overview.tpl'\n",
    "}"
   ]
  },
  {
   "cell_type": "code",
   "execution_count": 3,
   "id": "dynamic-saver",
   "metadata": {
    "execution": {
     "iopub.execute_input": "2022-06-04T00:40:52.589373Z",
     "iopub.status.busy": "2022-06-04T00:40:52.588802Z",
     "iopub.status.idle": "2022-06-04T00:40:52.591855Z",
     "shell.execute_reply": "2022-06-04T00:40:52.591413Z"
    },
    "papermill": {
     "duration": 0.041798,
     "end_time": "2022-06-04T00:40:52.591955",
     "exception": false,
     "start_time": "2022-06-04T00:40:52.550157",
     "status": "completed"
    },
    "tags": []
   },
   "outputs": [
    {
     "data": {
      "text/plain": [
       "'https://raw.githubusercontent.com/pratapvardhan/notebooks/master/covid19/mapping_countries.csv'"
      ]
     },
     "execution_count": 3,
     "metadata": {},
     "output_type": "execute_result"
    }
   ],
   "source": [
    "#hide\n",
    "paths['mapping']"
   ]
  },
  {
   "cell_type": "code",
   "execution_count": 4,
   "id": "urban-software",
   "metadata": {
    "execution": {
     "iopub.execute_input": "2022-06-04T00:40:52.657763Z",
     "iopub.status.busy": "2022-06-04T00:40:52.657201Z",
     "iopub.status.idle": "2022-06-04T00:40:52.659933Z",
     "shell.execute_reply": "2022-06-04T00:40:52.659492Z"
    },
    "papermill": {
     "duration": 0.037656,
     "end_time": "2022-06-04T00:40:52.660033",
     "exception": false,
     "start_time": "2022-06-04T00:40:52.622377",
     "status": "completed"
    },
    "tags": []
   },
   "outputs": [],
   "source": [
    "#hide\n",
    "def get_mappings(url):\n",
    "    df = pd.read_csv(url)\n",
    "    return {\n",
    "        'df': df,\n",
    "        'replace.country': dict(df.dropna(subset=['Name']).set_index('Country')['Name']),\n",
    "        'map.continent': dict(df.set_index('Name')['Continent'])\n",
    "    }"
   ]
  },
  {
   "cell_type": "code",
   "execution_count": 5,
   "id": "intimate-machinery",
   "metadata": {
    "execution": {
     "iopub.execute_input": "2022-06-04T00:40:52.726065Z",
     "iopub.status.busy": "2022-06-04T00:40:52.725482Z",
     "iopub.status.idle": "2022-06-04T00:40:52.771279Z",
     "shell.execute_reply": "2022-06-04T00:40:52.771733Z"
    },
    "papermill": {
     "duration": 0.08138,
     "end_time": "2022-06-04T00:40:52.771860",
     "exception": false,
     "start_time": "2022-06-04T00:40:52.690480",
     "status": "completed"
    },
    "tags": []
   },
   "outputs": [],
   "source": [
    "#hide\n",
    "mapping = get_mappings(paths['mapping'])"
   ]
  },
  {
   "cell_type": "code",
   "execution_count": 6,
   "id": "certified-tactics",
   "metadata": {
    "execution": {
     "iopub.execute_input": "2022-06-04T00:40:52.837637Z",
     "iopub.status.busy": "2022-06-04T00:40:52.837042Z",
     "iopub.status.idle": "2022-06-04T00:40:52.839456Z",
     "shell.execute_reply": "2022-06-04T00:40:52.838912Z"
    },
    "papermill": {
     "duration": 0.037273,
     "end_time": "2022-06-04T00:40:52.839559",
     "exception": false,
     "start_time": "2022-06-04T00:40:52.802286",
     "status": "completed"
    },
    "tags": []
   },
   "outputs": [],
   "source": [
    "#hide\n",
    "def get_template(path):\n",
    "    from urllib.parse import urlparse\n",
    "    if bool(urlparse(path).netloc):\n",
    "        from urllib.request import urlopen\n",
    "        return urlopen(path).read().decode('utf8')\n",
    "    return open(path).read()"
   ]
  },
  {
   "cell_type": "code",
   "execution_count": 7,
   "id": "realistic-blast",
   "metadata": {
    "execution": {
     "iopub.execute_input": "2022-06-04T00:40:52.909499Z",
     "iopub.status.busy": "2022-06-04T00:40:52.908920Z",
     "iopub.status.idle": "2022-06-04T00:40:52.911161Z",
     "shell.execute_reply": "2022-06-04T00:40:52.910639Z"
    },
    "papermill": {
     "duration": 0.04132,
     "end_time": "2022-06-04T00:40:52.911262",
     "exception": false,
     "start_time": "2022-06-04T00:40:52.869942",
     "status": "completed"
    },
    "tags": []
   },
   "outputs": [],
   "source": [
    "#hide\n",
    "def get_frame(name):\n",
    "    url = (\n",
    "        'https://raw.githubusercontent.com/CSSEGISandData/COVID-19/master/csse_covid_19_data/'\n",
    "        f'csse_covid_19_time_series/time_series_covid19_{name}_global.csv')\n",
    "    df = pd.read_csv(url)\n",
    "    # rename countries\n",
    "    df['Country/Region'] = df['Country/Region'].replace(mapping['replace.country'])\n",
    "    return df"
   ]
  },
  {
   "cell_type": "code",
   "execution_count": 8,
   "id": "affiliated-characterization",
   "metadata": {
    "execution": {
     "iopub.execute_input": "2022-06-04T00:40:52.977834Z",
     "iopub.status.busy": "2022-06-04T00:40:52.977246Z",
     "iopub.status.idle": "2022-06-04T00:40:52.979702Z",
     "shell.execute_reply": "2022-06-04T00:40:52.979256Z"
    },
    "papermill": {
     "duration": 0.038085,
     "end_time": "2022-06-04T00:40:52.979803",
     "exception": false,
     "start_time": "2022-06-04T00:40:52.941718",
     "status": "completed"
    },
    "tags": []
   },
   "outputs": [],
   "source": [
    "#hide\n",
    "def get_dates(df):\n",
    "    dt_cols = df.columns[~df.columns.isin(['Province/State', 'Country/Region', 'Lat', 'Long'])]\n",
    "    LAST_DATE_I = -1\n",
    "    # sometimes last column may be empty, then go backwards\n",
    "    for i in range(-1, -len(dt_cols), -1):\n",
    "        if not df[dt_cols[i]].fillna(0).eq(0).all():\n",
    "            LAST_DATE_I = i\n",
    "            break\n",
    "    return LAST_DATE_I, dt_cols"
   ]
  },
  {
   "cell_type": "code",
   "execution_count": 9,
   "id": "recent-optimization",
   "metadata": {
    "execution": {
     "iopub.execute_input": "2022-06-04T00:40:53.049201Z",
     "iopub.status.busy": "2022-06-04T00:40:53.048606Z",
     "iopub.status.idle": "2022-06-04T00:40:53.566596Z",
     "shell.execute_reply": "2022-06-04T00:40:53.566087Z"
    },
    "papermill": {
     "duration": 0.552422,
     "end_time": "2022-06-04T00:40:53.566719",
     "exception": false,
     "start_time": "2022-06-04T00:40:53.014297",
     "status": "completed"
    },
    "tags": []
   },
   "outputs": [],
   "source": [
    "#hide\n",
    "COL_REGION = 'Country/Region'\n",
    "# Confirmed, Recovered, Deaths\n",
    "df = get_frame('confirmed')\n",
    "# dft_: timeseries, dfc_: today country agg\n",
    "dft_cases = df\n",
    "dft_deaths = get_frame('deaths')\n",
    "dft_recovered = get_frame('recovered')\n",
    "LAST_DATE_I, dt_cols = get_dates(df)"
   ]
  },
  {
   "cell_type": "code",
   "execution_count": 10,
   "id": "absolute-copper",
   "metadata": {
    "execution": {
     "iopub.execute_input": "2022-06-04T00:40:53.640859Z",
     "iopub.status.busy": "2022-06-04T00:40:53.640287Z",
     "iopub.status.idle": "2022-06-04T00:40:53.642566Z",
     "shell.execute_reply": "2022-06-04T00:40:53.642095Z"
    },
    "papermill": {
     "duration": 0.04539,
     "end_time": "2022-06-04T00:40:53.642670",
     "exception": false,
     "start_time": "2022-06-04T00:40:53.597280",
     "status": "completed"
    },
    "tags": []
   },
   "outputs": [],
   "source": [
    "#hide\n",
    "LAST_DATE_I, dt_cols = get_dates(df)\n",
    "dt_today =dt_cols[LAST_DATE_I]\n",
    "# dt_5day = dt_cols[LAST_DATE_I - 5]\n",
    "dt_yday = dt_cols[LAST_DATE_I - 1]"
   ]
  },
  {
   "cell_type": "code",
   "execution_count": 11,
   "id": "restricted-sheriff",
   "metadata": {
    "execution": {
     "iopub.execute_input": "2022-06-04T00:40:53.712961Z",
     "iopub.status.busy": "2022-06-04T00:40:53.712394Z",
     "iopub.status.idle": "2022-06-04T00:40:53.719456Z",
     "shell.execute_reply": "2022-06-04T00:40:53.718995Z"
    },
    "papermill": {
     "duration": 0.046637,
     "end_time": "2022-06-04T00:40:53.719561",
     "exception": false,
     "start_time": "2022-06-04T00:40:53.672924",
     "status": "completed"
    },
    "tags": []
   },
   "outputs": [],
   "source": [
    "#hide\n",
    "dfc_cases = dft_cases.groupby(COL_REGION)[dt_today].sum()\n",
    "dfc_deaths = dft_deaths.groupby(COL_REGION)[dt_today].sum()\n",
    "# dfp_cases = dft_cases.groupby(COL_REGION)[dt_5day].sum()\n",
    "# dfp_deaths = dft_deaths.groupby(COL_REGION)[dt_5day].sum()\n",
    "dfp_cases = dft_cases.groupby(COL_REGION)[dt_yday].sum()\n",
    "dfp_deaths = dft_deaths.groupby(COL_REGION)[dt_yday].sum()"
   ]
  },
  {
   "cell_type": "code",
   "execution_count": 12,
   "id": "deluxe-hepatitis",
   "metadata": {
    "execution": {
     "iopub.execute_input": "2022-06-04T00:40:53.786375Z",
     "iopub.status.busy": "2022-06-04T00:40:53.785783Z",
     "iopub.status.idle": "2022-06-04T00:40:53.790889Z",
     "shell.execute_reply": "2022-06-04T00:40:53.790422Z"
    },
    "papermill": {
     "duration": 0.041045,
     "end_time": "2022-06-04T00:40:53.790994",
     "exception": false,
     "start_time": "2022-06-04T00:40:53.749949",
     "status": "completed"
    },
    "tags": []
   },
   "outputs": [],
   "source": [
    "#hide\n",
    "df_table = (pd.DataFrame(dict(Cases = dfc_cases, Deaths = dfc_deaths, PCases = dfp_cases, PDeaths = dfp_deaths))\n",
    "            .sort_values(by = ['Cases','Deaths'], ascending = [False, False])\n",
    "            .reset_index())"
   ]
  },
  {
   "cell_type": "code",
   "execution_count": 13,
   "id": "educational-chancellor",
   "metadata": {
    "execution": {
     "iopub.execute_input": "2022-06-04T00:40:53.872432Z",
     "iopub.status.busy": "2022-06-04T00:40:53.871833Z",
     "iopub.status.idle": "2022-06-04T00:40:53.880429Z",
     "shell.execute_reply": "2022-06-04T00:40:53.879979Z"
    },
    "papermill": {
     "duration": 0.055167,
     "end_time": "2022-06-04T00:40:53.880533",
     "exception": false,
     "start_time": "2022-06-04T00:40:53.825366",
     "status": "completed"
    },
    "tags": []
   },
   "outputs": [
    {
     "data": {
      "text/html": [
       "<div>\n",
       "<style scoped>\n",
       "    .dataframe tbody tr th:only-of-type {\n",
       "        vertical-align: middle;\n",
       "    }\n",
       "\n",
       "    .dataframe tbody tr th {\n",
       "        vertical-align: top;\n",
       "    }\n",
       "\n",
       "    .dataframe thead th {\n",
       "        text-align: right;\n",
       "    }\n",
       "</style>\n",
       "<table border=\"1\" class=\"dataframe\">\n",
       "  <thead>\n",
       "    <tr style=\"text-align: right;\">\n",
       "      <th></th>\n",
       "      <th>Country/Region</th>\n",
       "      <th>Cases</th>\n",
       "      <th>Deaths</th>\n",
       "      <th>PCases</th>\n",
       "      <th>PDeaths</th>\n",
       "      <th>Cases (+)</th>\n",
       "      <th>Deaths (+)</th>\n",
       "      <th>Fatality Rate</th>\n",
       "      <th>Continent</th>\n",
       "    </tr>\n",
       "  </thead>\n",
       "  <tbody>\n",
       "    <tr>\n",
       "      <th>0</th>\n",
       "      <td>US</td>\n",
       "      <td>84570325</td>\n",
       "      <td>1008031</td>\n",
       "      <td>84451901</td>\n",
       "      <td>1007714</td>\n",
       "      <td>118424</td>\n",
       "      <td>317</td>\n",
       "      <td>1.19</td>\n",
       "      <td>North America</td>\n",
       "    </tr>\n",
       "    <tr>\n",
       "      <th>1</th>\n",
       "      <td>India</td>\n",
       "      <td>43168585</td>\n",
       "      <td>524651</td>\n",
       "      <td>43164544</td>\n",
       "      <td>524641</td>\n",
       "      <td>4041</td>\n",
       "      <td>10</td>\n",
       "      <td>1.22</td>\n",
       "      <td>Asia</td>\n",
       "    </tr>\n",
       "    <tr>\n",
       "      <th>2</th>\n",
       "      <td>Brazil</td>\n",
       "      <td>31101290</td>\n",
       "      <td>666930</td>\n",
       "      <td>31060017</td>\n",
       "      <td>666801</td>\n",
       "      <td>41273</td>\n",
       "      <td>129</td>\n",
       "      <td>2.14</td>\n",
       "      <td>South America</td>\n",
       "    </tr>\n",
       "    <tr>\n",
       "      <th>3</th>\n",
       "      <td>France</td>\n",
       "      <td>29763546</td>\n",
       "      <td>149465</td>\n",
       "      <td>29738170</td>\n",
       "      <td>149424</td>\n",
       "      <td>25376</td>\n",
       "      <td>41</td>\n",
       "      <td>0.50</td>\n",
       "      <td>Europe</td>\n",
       "    </tr>\n",
       "    <tr>\n",
       "      <th>4</th>\n",
       "      <td>Germany</td>\n",
       "      <td>26452148</td>\n",
       "      <td>139313</td>\n",
       "      <td>26409455</td>\n",
       "      <td>139222</td>\n",
       "      <td>42693</td>\n",
       "      <td>91</td>\n",
       "      <td>0.53</td>\n",
       "      <td>Europe</td>\n",
       "    </tr>\n",
       "  </tbody>\n",
       "</table>\n",
       "</div>"
      ],
      "text/plain": [
       "  Country/Region     Cases   Deaths    PCases  PDeaths  Cases (+)  Deaths (+)  \\\n",
       "0             US  84570325  1008031  84451901  1007714     118424         317   \n",
       "1          India  43168585   524651  43164544   524641       4041          10   \n",
       "2         Brazil  31101290   666930  31060017   666801      41273         129   \n",
       "3         France  29763546   149465  29738170   149424      25376          41   \n",
       "4        Germany  26452148   139313  26409455   139222      42693          91   \n",
       "\n",
       "   Fatality Rate      Continent  \n",
       "0           1.19  North America  \n",
       "1           1.22           Asia  \n",
       "2           2.14  South America  \n",
       "3           0.50         Europe  \n",
       "4           0.53         Europe  "
      ]
     },
     "execution_count": 13,
     "metadata": {},
     "output_type": "execute_result"
    }
   ],
   "source": [
    "#hide\n",
    "for c in 'Cases, Deaths'.split(', '):\n",
    "    df_table[f'{c} (+)'] = (df_table[c] - df_table[f'P{c}']).clip(0)\n",
    "    #Clip ça veut dire, les chiffres negatif sont interdit\n",
    "df_table['Fatality Rate'] = (100* df_table['Deaths']/ df_table['Cases']).round(2)\n",
    "df_table['Continent'] = df_table['Country/Region'].map(mapping['map.continent'])\n",
    "df_table.head(5)"
   ]
  },
  {
   "cell_type": "code",
   "execution_count": 14,
   "id": "aboriginal-bulgaria",
   "metadata": {
    "execution": {
     "iopub.execute_input": "2022-06-04T00:40:53.947991Z",
     "iopub.status.busy": "2022-06-04T00:40:53.947405Z",
     "iopub.status.idle": "2022-06-04T00:40:53.949860Z",
     "shell.execute_reply": "2022-06-04T00:40:53.949338Z"
    },
    "papermill": {
     "duration": 0.038381,
     "end_time": "2022-06-04T00:40:53.949964",
     "exception": false,
     "start_time": "2022-06-04T00:40:53.911583",
     "status": "completed"
    },
    "tags": []
   },
   "outputs": [],
   "source": [
    "#hide\n",
    "#delete problematic countries from table\n",
    "df_table = df_table[~df_table['Country/Region'].isin(['Cape Verde', 'Cruise Ship', 'Kosovo'])]"
   ]
  },
  {
   "cell_type": "code",
   "execution_count": 15,
   "id": "fantastic-effect",
   "metadata": {
    "execution": {
     "iopub.execute_input": "2022-06-04T00:40:54.019472Z",
     "iopub.status.busy": "2022-06-04T00:40:54.018908Z",
     "iopub.status.idle": "2022-06-04T00:40:54.035880Z",
     "shell.execute_reply": "2022-06-04T00:40:54.036347Z"
    },
    "papermill": {
     "duration": 0.055738,
     "end_time": "2022-06-04T00:40:54.036472",
     "exception": false,
     "start_time": "2022-06-04T00:40:53.980734",
     "status": "completed"
    },
    "tags": []
   },
   "outputs": [
    {
     "data": {
      "text/html": [
       "<div>\n",
       "<style scoped>\n",
       "    .dataframe tbody tr th:only-of-type {\n",
       "        vertical-align: middle;\n",
       "    }\n",
       "\n",
       "    .dataframe tbody tr th {\n",
       "        vertical-align: top;\n",
       "    }\n",
       "\n",
       "    .dataframe thead th {\n",
       "        text-align: right;\n",
       "    }\n",
       "</style>\n",
       "<table border=\"1\" class=\"dataframe\">\n",
       "  <thead>\n",
       "    <tr style=\"text-align: right;\">\n",
       "      <th></th>\n",
       "      <th>Country/Region</th>\n",
       "      <th>Cases</th>\n",
       "      <th>Deaths</th>\n",
       "      <th>PCases</th>\n",
       "      <th>PDeaths</th>\n",
       "      <th>Cases (+)</th>\n",
       "      <th>Deaths (+)</th>\n",
       "      <th>Fatality Rate</th>\n",
       "      <th>Continent</th>\n",
       "    </tr>\n",
       "  </thead>\n",
       "  <tbody>\n",
       "    <tr>\n",
       "      <th>0</th>\n",
       "      <td>US</td>\n",
       "      <td>84570325</td>\n",
       "      <td>1008031</td>\n",
       "      <td>84451901</td>\n",
       "      <td>1007714</td>\n",
       "      <td>118424</td>\n",
       "      <td>317</td>\n",
       "      <td>1.2</td>\n",
       "      <td>North America</td>\n",
       "    </tr>\n",
       "    <tr>\n",
       "      <th>1</th>\n",
       "      <td>India</td>\n",
       "      <td>43168585</td>\n",
       "      <td>524651</td>\n",
       "      <td>43164544</td>\n",
       "      <td>524641</td>\n",
       "      <td>4041</td>\n",
       "      <td>10</td>\n",
       "      <td>1.2</td>\n",
       "      <td>Asia</td>\n",
       "    </tr>\n",
       "    <tr>\n",
       "      <th>2</th>\n",
       "      <td>Brazil</td>\n",
       "      <td>31101290</td>\n",
       "      <td>666930</td>\n",
       "      <td>31060017</td>\n",
       "      <td>666801</td>\n",
       "      <td>41273</td>\n",
       "      <td>129</td>\n",
       "      <td>2.1</td>\n",
       "      <td>South America</td>\n",
       "    </tr>\n",
       "    <tr>\n",
       "      <th>3</th>\n",
       "      <td>France</td>\n",
       "      <td>29763546</td>\n",
       "      <td>149465</td>\n",
       "      <td>29738170</td>\n",
       "      <td>149424</td>\n",
       "      <td>25376</td>\n",
       "      <td>41</td>\n",
       "      <td>0.5</td>\n",
       "      <td>Europe</td>\n",
       "    </tr>\n",
       "    <tr>\n",
       "      <th>4</th>\n",
       "      <td>Germany</td>\n",
       "      <td>26452148</td>\n",
       "      <td>139313</td>\n",
       "      <td>26409455</td>\n",
       "      <td>139222</td>\n",
       "      <td>42693</td>\n",
       "      <td>91</td>\n",
       "      <td>0.5</td>\n",
       "      <td>Europe</td>\n",
       "    </tr>\n",
       "  </tbody>\n",
       "</table>\n",
       "</div>"
      ],
      "text/plain": [
       "  Country/Region     Cases   Deaths    PCases  PDeaths  Cases (+)  Deaths (+)  \\\n",
       "0             US  84570325  1008031  84451901  1007714     118424         317   \n",
       "1          India  43168585   524651  43164544   524641       4041          10   \n",
       "2         Brazil  31101290   666930  31060017   666801      41273         129   \n",
       "3         France  29763546   149465  29738170   149424      25376          41   \n",
       "4        Germany  26452148   139313  26409455   139222      42693          91   \n",
       "\n",
       "   Fatality Rate      Continent  \n",
       "0            1.2  North America  \n",
       "1            1.2           Asia  \n",
       "2            2.1  South America  \n",
       "3            0.5         Europe  \n",
       "4            0.5         Europe  "
      ]
     },
     "execution_count": 15,
     "metadata": {},
     "output_type": "execute_result"
    }
   ],
   "source": [
    "#hide\n",
    "df_table = (pd.DataFrame(dict(Cases=dfc_cases, Deaths=dfc_deaths, PCases=dfp_cases, PDeaths=dfp_deaths))\n",
    "             .sort_values(by=['Cases', 'Deaths'], ascending=[False, False])\n",
    "             .reset_index())\n",
    "df_table.rename(columns={'index': 'Country/Region'}, inplace=True)\n",
    "for c in 'Cases, Deaths'.split(', '):\n",
    "    df_table[f'{c} (+)'] = (df_table[c] - df_table[f'P{c}']).clip(0)  # DATA BUG\n",
    "df_table['Fatality Rate'] = (100 * df_table['Deaths'] / df_table['Cases']).round(1)\n",
    "df_table['Continent'] = df_table['Country/Region'].map(mapping['map.continent'])\n",
    "df_table.head(5)"
   ]
  },
  {
   "cell_type": "code",
   "execution_count": 16,
   "id": "fewer-occasion",
   "metadata": {
    "execution": {
     "iopub.execute_input": "2022-06-04T00:40:54.107466Z",
     "iopub.status.busy": "2022-06-04T00:40:54.106895Z",
     "iopub.status.idle": "2022-06-04T00:40:54.109265Z",
     "shell.execute_reply": "2022-06-04T00:40:54.108735Z"
    },
    "papermill": {
     "duration": 0.041546,
     "end_time": "2022-06-04T00:40:54.109367",
     "exception": false,
     "start_time": "2022-06-04T00:40:54.067821",
     "status": "completed"
    },
    "tags": []
   },
   "outputs": [],
   "source": [
    "#hide\n",
    "#delete problematic countries from table\n",
    "df_table = df_table[~df_table['Country/Region'].isin(['Cape Verde', 'Cruise Ship', 'Kosovo'])]"
   ]
  },
  {
   "cell_type": "code",
   "execution_count": 17,
   "id": "related-center",
   "metadata": {
    "execution": {
     "iopub.execute_input": "2022-06-04T00:40:54.188895Z",
     "iopub.status.busy": "2022-06-04T00:40:54.181541Z",
     "iopub.status.idle": "2022-06-04T00:40:54.190823Z",
     "shell.execute_reply": "2022-06-04T00:40:54.191238Z"
    },
    "papermill": {
     "duration": 0.050771,
     "end_time": "2022-06-04T00:40:54.191365",
     "exception": false,
     "start_time": "2022-06-04T00:40:54.140594",
     "status": "completed"
    },
    "tags": []
   },
   "outputs": [],
   "source": [
    "#hide\n",
    "metrics = [df_table.columns[index] for index in [1,2,5,6]]\n",
    "# s_china = df_table[df_table['Country/Region'].eq('China')][metrics].sum().add_prefix('China ')\n",
    "s_us = df_table[df_table['Country/Region'].eq('US')][metrics].sum().add_prefix('US ')\n",
    "s_eu = df_table[df_table['Continent'].eq('Europe')][metrics].sum().add_prefix('EU ')\n",
    "s_ind = df_table[df_table['Country/Region'].eq('India')][metrics].sum().add_prefix('India ')\n",
    "summary = {'updated': pd.to_datetime(dt_today), 'since': pd.to_datetime(dt_yday)}\n",
    "summary = {'updated': pd.to_datetime(dt_today), 'since': pd.to_datetime(dt_yday)}\n",
    "summary = {**summary, **df_table[metrics].sum(), **s_ind, **s_us, **s_eu}"
   ]
  },
  {
   "cell_type": "code",
   "execution_count": 18,
   "id": "engaging-syndrome",
   "metadata": {
    "execution": {
     "iopub.execute_input": "2022-06-04T00:40:54.263347Z",
     "iopub.status.busy": "2022-06-04T00:40:54.262795Z",
     "iopub.status.idle": "2022-06-04T00:40:54.280115Z",
     "shell.execute_reply": "2022-06-04T00:40:54.279649Z"
    },
    "papermill": {
     "duration": 0.053418,
     "end_time": "2022-06-04T00:40:54.280226",
     "exception": false,
     "start_time": "2022-06-04T00:40:54.226808",
     "status": "completed"
    },
    "tags": []
   },
   "outputs": [],
   "source": [
    "#hide\n",
    "dft_ct_new_cases = dft_cases.groupby(COL_REGION)[dt_cols].sum().diff(axis=1).fillna(0).astype(int)"
   ]
  },
  {
   "cell_type": "code",
   "execution_count": 19,
   "id": "neutral-assignment",
   "metadata": {
    "execution": {
     "iopub.execute_input": "2022-06-04T00:40:54.353027Z",
     "iopub.status.busy": "2022-06-04T00:40:54.352456Z",
     "iopub.status.idle": "2022-06-04T00:40:54.354843Z",
     "shell.execute_reply": "2022-06-04T00:40:54.354313Z"
    },
    "papermill": {
     "duration": 0.039122,
     "end_time": "2022-06-04T00:40:54.354944",
     "exception": false,
     "start_time": "2022-06-04T00:40:54.315822",
     "status": "completed"
    },
    "tags": []
   },
   "outputs": [],
   "source": [
    "#hide\n",
    "everydaycases = dft_ct_new_cases.cumsum(axis=1)"
   ]
  },
  {
   "cell_type": "code",
   "execution_count": 20,
   "id": "parliamentary-calgary",
   "metadata": {
    "execution": {
     "iopub.execute_input": "2022-06-04T00:40:54.424344Z",
     "iopub.status.busy": "2022-06-04T00:40:54.423772Z",
     "iopub.status.idle": "2022-06-04T00:40:54.972661Z",
     "shell.execute_reply": "2022-06-04T00:40:54.972160Z"
    },
    "papermill": {
     "duration": 0.586053,
     "end_time": "2022-06-04T00:40:54.972772",
     "exception": false,
     "start_time": "2022-06-04T00:40:54.386719",
     "status": "completed"
    },
    "tags": []
   },
   "outputs": [],
   "source": [
    "#hide\n",
    "import pandas as pd\n",
    "import matplotlib.pyplot as plt\n",
    "import matplotlib.ticker as ticker\n",
    "import matplotlib.animation as animation\n",
    "from IPython.display import HTML"
   ]
  },
  {
   "cell_type": "code",
   "execution_count": 21,
   "id": "lasting-extraction",
   "metadata": {
    "execution": {
     "iopub.execute_input": "2022-06-04T00:40:55.041783Z",
     "iopub.status.busy": "2022-06-04T00:40:55.041212Z",
     "iopub.status.idle": "2022-06-04T00:40:55.047704Z",
     "shell.execute_reply": "2022-06-04T00:40:55.047148Z"
    },
    "papermill": {
     "duration": 0.043712,
     "end_time": "2022-06-04T00:40:55.047811",
     "exception": false,
     "start_time": "2022-06-04T00:40:55.004099",
     "status": "completed"
    },
    "tags": []
   },
   "outputs": [],
   "source": [
    "#hide\n",
    "t = everydaycases.stack()"
   ]
  },
  {
   "cell_type": "code",
   "execution_count": 22,
   "id": "premier-sleeve",
   "metadata": {
    "execution": {
     "iopub.execute_input": "2022-06-04T00:40:55.119478Z",
     "iopub.status.busy": "2022-06-04T00:40:55.118908Z",
     "iopub.status.idle": "2022-06-04T00:40:55.129590Z",
     "shell.execute_reply": "2022-06-04T00:40:55.129114Z"
    },
    "papermill": {
     "duration": 0.050431,
     "end_time": "2022-06-04T00:40:55.129697",
     "exception": false,
     "start_time": "2022-06-04T00:40:55.079266",
     "status": "completed"
    },
    "tags": []
   },
   "outputs": [],
   "source": [
    "#hide\n",
    "g = t.reset_index(['Country/Region'])"
   ]
  },
  {
   "cell_type": "code",
   "execution_count": 23,
   "id": "distributed-pittsburgh",
   "metadata": {
    "execution": {
     "iopub.execute_input": "2022-06-04T00:40:55.196069Z",
     "iopub.status.busy": "2022-06-04T00:40:55.195506Z",
     "iopub.status.idle": "2022-06-04T00:40:55.197833Z",
     "shell.execute_reply": "2022-06-04T00:40:55.197303Z"
    },
    "papermill": {
     "duration": 0.037008,
     "end_time": "2022-06-04T00:40:55.197933",
     "exception": false,
     "start_time": "2022-06-04T00:40:55.160925",
     "status": "completed"
    },
    "tags": []
   },
   "outputs": [],
   "source": [
    "#hide\n",
    "g.index.name = 'date'"
   ]
  },
  {
   "cell_type": "code",
   "execution_count": 24,
   "id": "naked-donor",
   "metadata": {
    "execution": {
     "iopub.execute_input": "2022-06-04T00:40:55.264443Z",
     "iopub.status.busy": "2022-06-04T00:40:55.263887Z",
     "iopub.status.idle": "2022-06-04T00:40:55.265701Z",
     "shell.execute_reply": "2022-06-04T00:40:55.266099Z"
    },
    "papermill": {
     "duration": 0.03696,
     "end_time": "2022-06-04T00:40:55.266238",
     "exception": false,
     "start_time": "2022-06-04T00:40:55.229278",
     "status": "completed"
    },
    "tags": []
   },
   "outputs": [],
   "source": [
    "# #hide\n",
    "# g = g.reset_index(['date'])"
   ]
  },
  {
   "cell_type": "code",
   "execution_count": 25,
   "id": "incomplete-mustang",
   "metadata": {
    "execution": {
     "iopub.execute_input": "2022-06-04T00:40:55.332424Z",
     "iopub.status.busy": "2022-06-04T00:40:55.331852Z",
     "iopub.status.idle": "2022-06-04T00:40:55.334291Z",
     "shell.execute_reply": "2022-06-04T00:40:55.333750Z"
    },
    "papermill": {
     "duration": 0.036904,
     "end_time": "2022-06-04T00:40:55.334393",
     "exception": false,
     "start_time": "2022-06-04T00:40:55.297489",
     "status": "completed"
    },
    "tags": []
   },
   "outputs": [],
   "source": [
    "#hide\n",
    "# g.head()"
   ]
  },
  {
   "cell_type": "code",
   "execution_count": 26,
   "id": "specific-kruger",
   "metadata": {
    "execution": {
     "iopub.execute_input": "2022-06-04T00:40:55.405506Z",
     "iopub.status.busy": "2022-06-04T00:40:55.404934Z",
     "iopub.status.idle": "2022-06-04T00:40:55.407030Z",
     "shell.execute_reply": "2022-06-04T00:40:55.407427Z"
    },
    "papermill": {
     "duration": 0.041817,
     "end_time": "2022-06-04T00:40:55.407548",
     "exception": false,
     "start_time": "2022-06-04T00:40:55.365731",
     "status": "completed"
    },
    "tags": []
   },
   "outputs": [],
   "source": [
    "#hide\n",
    "# g.columns = ['date','country','cases']"
   ]
  },
  {
   "cell_type": "code",
   "execution_count": 27,
   "id": "tender-conversion",
   "metadata": {
    "execution": {
     "iopub.execute_input": "2022-06-04T00:40:55.473721Z",
     "iopub.status.busy": "2022-06-04T00:40:55.473135Z",
     "iopub.status.idle": "2022-06-04T00:40:55.475493Z",
     "shell.execute_reply": "2022-06-04T00:40:55.474968Z"
    },
    "papermill": {
     "duration": 0.036767,
     "end_time": "2022-06-04T00:40:55.475593",
     "exception": false,
     "start_time": "2022-06-04T00:40:55.438826",
     "status": "completed"
    },
    "tags": []
   },
   "outputs": [],
   "source": [
    "#hide\n",
    "# g['continent'] = g.country"
   ]
  },
  {
   "cell_type": "code",
   "execution_count": 28,
   "id": "substantial-wilderness",
   "metadata": {
    "execution": {
     "iopub.execute_input": "2022-06-04T00:40:55.546682Z",
     "iopub.status.busy": "2022-06-04T00:40:55.546087Z",
     "iopub.status.idle": "2022-06-04T00:40:55.548360Z",
     "shell.execute_reply": "2022-06-04T00:40:55.547829Z"
    },
    "papermill": {
     "duration": 0.03713,
     "end_time": "2022-06-04T00:40:55.548462",
     "exception": false,
     "start_time": "2022-06-04T00:40:55.511332",
     "status": "completed"
    },
    "tags": []
   },
   "outputs": [],
   "source": [
    "#hide\n",
    "# cols = list(g.columns.values)"
   ]
  },
  {
   "cell_type": "code",
   "execution_count": 29,
   "id": "solved-farming",
   "metadata": {
    "execution": {
     "iopub.execute_input": "2022-06-04T00:40:55.618690Z",
     "iopub.status.busy": "2022-06-04T00:40:55.618087Z",
     "iopub.status.idle": "2022-06-04T00:40:55.620400Z",
     "shell.execute_reply": "2022-06-04T00:40:55.619963Z"
    },
    "papermill": {
     "duration": 0.040693,
     "end_time": "2022-06-04T00:40:55.620501",
     "exception": false,
     "start_time": "2022-06-04T00:40:55.579808",
     "status": "completed"
    },
    "tags": []
   },
   "outputs": [],
   "source": [
    "#hide\n",
    "# cols.insert(0, cols.pop())"
   ]
  },
  {
   "cell_type": "code",
   "execution_count": 30,
   "id": "executed-adoption",
   "metadata": {
    "execution": {
     "iopub.execute_input": "2022-06-04T00:40:55.686674Z",
     "iopub.status.busy": "2022-06-04T00:40:55.686076Z",
     "iopub.status.idle": "2022-06-04T00:40:55.688300Z",
     "shell.execute_reply": "2022-06-04T00:40:55.687769Z"
    },
    "papermill": {
     "duration": 0.036618,
     "end_time": "2022-06-04T00:40:55.688401",
     "exception": false,
     "start_time": "2022-06-04T00:40:55.651783",
     "status": "completed"
    },
    "tags": []
   },
   "outputs": [],
   "source": [
    "#hide\n",
    "# g = g[cols]"
   ]
  },
  {
   "cell_type": "code",
   "execution_count": 31,
   "id": "subject-dublin",
   "metadata": {
    "execution": {
     "iopub.execute_input": "2022-06-04T00:40:55.754469Z",
     "iopub.status.busy": "2022-06-04T00:40:55.753875Z",
     "iopub.status.idle": "2022-06-04T00:40:55.756249Z",
     "shell.execute_reply": "2022-06-04T00:40:55.755719Z"
    },
    "papermill": {
     "duration": 0.036764,
     "end_time": "2022-06-04T00:40:55.756350",
     "exception": false,
     "start_time": "2022-06-04T00:40:55.719586",
     "status": "completed"
    },
    "tags": []
   },
   "outputs": [],
   "source": [
    "#hide\n",
    "# g['continent'] = g['continent'].map(mapping['map.continent'])"
   ]
  },
  {
   "cell_type": "code",
   "execution_count": 32,
   "id": "freelance-scout",
   "metadata": {
    "execution": {
     "iopub.execute_input": "2022-06-04T00:40:55.826149Z",
     "iopub.status.busy": "2022-06-04T00:40:55.825589Z",
     "iopub.status.idle": "2022-06-04T00:40:55.828605Z",
     "shell.execute_reply": "2022-06-04T00:40:55.829036Z"
    },
    "papermill": {
     "duration": 0.041332,
     "end_time": "2022-06-04T00:40:55.829153",
     "exception": false,
     "start_time": "2022-06-04T00:40:55.787821",
     "status": "completed"
    },
    "tags": []
   },
   "outputs": [],
   "source": [
    "#hide\n",
    "# g.head()"
   ]
  },
  {
   "cell_type": "code",
   "execution_count": 33,
   "id": "limited-engine",
   "metadata": {
    "execution": {
     "iopub.execute_input": "2022-06-04T00:40:55.895059Z",
     "iopub.status.busy": "2022-06-04T00:40:55.894482Z",
     "iopub.status.idle": "2022-06-04T00:40:55.896875Z",
     "shell.execute_reply": "2022-06-04T00:40:55.896424Z"
    },
    "papermill": {
     "duration": 0.036635,
     "end_time": "2022-06-04T00:40:55.896974",
     "exception": false,
     "start_time": "2022-06-04T00:40:55.860339",
     "status": "completed"
    },
    "tags": []
   },
   "outputs": [],
   "source": [
    "# hide\n",
    "# g['date'] = g['date'].astype('datetime64[ns]')"
   ]
  },
  {
   "cell_type": "code",
   "execution_count": 34,
   "id": "sophisticated-supervisor",
   "metadata": {
    "execution": {
     "iopub.execute_input": "2022-06-04T00:40:55.964149Z",
     "iopub.status.busy": "2022-06-04T00:40:55.963564Z",
     "iopub.status.idle": "2022-06-04T00:40:55.964922Z",
     "shell.execute_reply": "2022-06-04T00:40:55.965354Z"
    },
    "papermill": {
     "duration": 0.037158,
     "end_time": "2022-06-04T00:40:55.965467",
     "exception": false,
     "start_time": "2022-06-04T00:40:55.928309",
     "status": "completed"
    },
    "tags": []
   },
   "outputs": [],
   "source": [
    "#hide\n",
    "# g['date'] = g.date.dt.dayofyear"
   ]
  },
  {
   "cell_type": "code",
   "execution_count": 35,
   "id": "inside-dubai",
   "metadata": {
    "execution": {
     "iopub.execute_input": "2022-06-04T00:40:56.035813Z",
     "iopub.status.busy": "2022-06-04T00:40:56.035241Z",
     "iopub.status.idle": "2022-06-04T00:40:56.037549Z",
     "shell.execute_reply": "2022-06-04T00:40:56.037023Z"
    },
    "papermill": {
     "duration": 0.040792,
     "end_time": "2022-06-04T00:40:56.037647",
     "exception": false,
     "start_time": "2022-06-04T00:40:55.996855",
     "status": "completed"
    },
    "tags": []
   },
   "outputs": [],
   "source": [
    "#hide\n",
    "# g = g.rename(columns= {'continent':'group','country':'name','cases':'value'})"
   ]
  },
  {
   "cell_type": "code",
   "execution_count": 36,
   "id": "fleet-motorcycle",
   "metadata": {
    "execution": {
     "iopub.execute_input": "2022-06-04T00:40:56.105729Z",
     "iopub.status.busy": "2022-06-04T00:40:56.105158Z",
     "iopub.status.idle": "2022-06-04T00:40:56.107574Z",
     "shell.execute_reply": "2022-06-04T00:40:56.107135Z"
    },
    "papermill": {
     "duration": 0.038724,
     "end_time": "2022-06-04T00:40:56.107673",
     "exception": false,
     "start_time": "2022-06-04T00:40:56.068949",
     "status": "completed"
    },
    "tags": []
   },
   "outputs": [],
   "source": [
    "#hide\n",
    "# cols = ['name','group','day','value']"
   ]
  },
  {
   "cell_type": "code",
   "execution_count": 37,
   "id": "continued-sleeping",
   "metadata": {
    "execution": {
     "iopub.execute_input": "2022-06-04T00:40:56.173597Z",
     "iopub.status.busy": "2022-06-04T00:40:56.173018Z",
     "iopub.status.idle": "2022-06-04T00:40:56.175378Z",
     "shell.execute_reply": "2022-06-04T00:40:56.174848Z"
    },
    "papermill": {
     "duration": 0.03661,
     "end_time": "2022-06-04T00:40:56.175480",
     "exception": false,
     "start_time": "2022-06-04T00:40:56.138870",
     "status": "completed"
    },
    "tags": []
   },
   "outputs": [],
   "source": [
    "#hide\n",
    "# g.rename(columns= {'date':'day'},inplace = True)"
   ]
  },
  {
   "cell_type": "code",
   "execution_count": 38,
   "id": "major-fight",
   "metadata": {
    "execution": {
     "iopub.execute_input": "2022-06-04T00:40:56.245530Z",
     "iopub.status.busy": "2022-06-04T00:40:56.244964Z",
     "iopub.status.idle": "2022-06-04T00:40:56.247206Z",
     "shell.execute_reply": "2022-06-04T00:40:56.247623Z"
    },
    "papermill": {
     "duration": 0.036838,
     "end_time": "2022-06-04T00:40:56.247742",
     "exception": false,
     "start_time": "2022-06-04T00:40:56.210904",
     "status": "completed"
    },
    "tags": []
   },
   "outputs": [],
   "source": [
    "#hide\n",
    "# g = g[cols]"
   ]
  },
  {
   "cell_type": "code",
   "execution_count": 39,
   "id": "structured-mobile",
   "metadata": {
    "execution": {
     "iopub.execute_input": "2022-06-04T00:40:56.318247Z",
     "iopub.status.busy": "2022-06-04T00:40:56.317642Z",
     "iopub.status.idle": "2022-06-04T00:40:56.320160Z",
     "shell.execute_reply": "2022-06-04T00:40:56.319693Z"
    },
    "papermill": {
     "duration": 0.041238,
     "end_time": "2022-06-04T00:40:56.320260",
     "exception": false,
     "start_time": "2022-06-04T00:40:56.279022",
     "status": "completed"
    },
    "tags": []
   },
   "outputs": [],
   "source": [
    "# #hide\n",
    "# g = g[g.group.notna()]"
   ]
  },
  {
   "cell_type": "code",
   "execution_count": 40,
   "id": "determined-closing",
   "metadata": {
    "execution": {
     "iopub.execute_input": "2022-06-04T00:40:56.386664Z",
     "iopub.status.busy": "2022-06-04T00:40:56.386052Z",
     "iopub.status.idle": "2022-06-04T00:40:56.388706Z",
     "shell.execute_reply": "2022-06-04T00:40:56.388260Z"
    },
    "papermill": {
     "duration": 0.037256,
     "end_time": "2022-06-04T00:40:56.388807",
     "exception": false,
     "start_time": "2022-06-04T00:40:56.351551",
     "status": "completed"
    },
    "tags": []
   },
   "outputs": [],
   "source": [
    "# #hide\n",
    "# colors = dict(zip(\n",
    "#     [\"Oceania\", \"Europe\", \"Asia\", \"South America\", \"Middle East\", \"North America\", \"Africa\"],\n",
    "#     [\"#adb0ff\", \"#ffb3ff\", \"#90d595\", \"#e48381\", \"#aafbff\", \"#f7bb5f\", \"#eafb50\"]\n",
    "# ))\n",
    "# group_lk = g.set_index('name')['group'].to_dict()"
   ]
  },
  {
   "cell_type": "code",
   "execution_count": null,
   "id": "gross-drinking",
   "metadata": {
    "papermill": {
     "duration": 0.031109,
     "end_time": "2022-06-04T00:40:56.451792",
     "exception": false,
     "start_time": "2022-06-04T00:40:56.420683",
     "status": "completed"
    },
    "tags": []
   },
   "outputs": [],
   "source": []
  },
  {
   "cell_type": "code",
   "execution_count": 41,
   "id": "subject-macintosh",
   "metadata": {
    "execution": {
     "iopub.execute_input": "2022-06-04T00:40:56.518457Z",
     "iopub.status.busy": "2022-06-04T00:40:56.517836Z",
     "iopub.status.idle": "2022-06-04T00:40:56.520259Z",
     "shell.execute_reply": "2022-06-04T00:40:56.519809Z"
    },
    "papermill": {
     "duration": 0.037324,
     "end_time": "2022-06-04T00:40:56.520362",
     "exception": false,
     "start_time": "2022-06-04T00:40:56.483038",
     "status": "completed"
    },
    "tags": []
   },
   "outputs": [],
   "source": [
    "# #hide\n",
    "# fig, ax = plt.subplots(figsize=(15, 8))\n",
    "\n",
    "# def draw_barchart(current_day):\n",
    "#     dff = g[g['day'].eq(current_day)].sort_values(by='value', ascending=True).tail(10)\n",
    "#     ax.clear()\n",
    "#     ax.barh(dff['name'], dff['value'], color=[colors[group_lk[x]] for x in dff['name']])\n",
    "#     dx = dff['value'].max() / 200\n",
    "    \n",
    "#     for i, (value, name) in enumerate(zip(dff['value'], dff['name'])):\n",
    "#         ax.text(value-dx, i,     name,           size=14, weight=600, ha='right', va='bottom')\n",
    "#         ax.text(value-dx, i-.25, group_lk[name], size=10, color='#444444', ha='right', va='baseline')\n",
    "#         ax.text(value+dx, i,     f'{value:,.0f}',  size=14, ha='left',  va='center')\n",
    "#     ax.text(1, 0.4, current_day, transform=ax.transAxes, color='#777777', size=46, ha='right', weight=800)\n",
    "#     ax.text(0, 1.06, 'Population (thousands)', transform=ax.transAxes, size=12, color='#777777')\n",
    "#     ax.xaxis.set_major_formatter(ticker.StrMethodFormatter('{x:,.0f}'))\n",
    "#     ax.xaxis.set_ticks_position('top')\n",
    "#     ax.tick_params(axis='x', colors='#777777', labelsize=12)\n",
    "#     ax.set_yticks([])\n",
    "#     ax.margins(0, 0.01)\n",
    "#     ax.grid(which='major', axis='x', linestyle='-')\n",
    "#     ax.set_axisbelow(True)\n",
    "    \n",
    "#     ax.text(0, 1.15, 'Coronavirus',\n",
    "#             transform=ax.transAxes, size=24, weight=600, ha='left', va='top')\n",
    "# #     ax.text(1, 0, 'by @pratapvardhan; credit @jburnmurdoch', transform=ax.transAxes, color='#777777', ha='right',\n",
    "# #             bbox=dict(facecolor='white', alpha=0.8, edgecolor='white'))\n",
    "#     plt.box(False)"
   ]
  },
  {
   "cell_type": "code",
   "execution_count": 42,
   "id": "sexual-wages",
   "metadata": {
    "execution": {
     "iopub.execute_input": "2022-06-04T00:40:56.586560Z",
     "iopub.status.busy": "2022-06-04T00:40:56.585958Z",
     "iopub.status.idle": "2022-06-04T00:40:56.588401Z",
     "shell.execute_reply": "2022-06-04T00:40:56.587948Z"
    },
    "papermill": {
     "duration": 0.036869,
     "end_time": "2022-06-04T00:40:56.588503",
     "exception": false,
     "start_time": "2022-06-04T00:40:56.551634",
     "status": "completed"
    },
    "tags": []
   },
   "outputs": [],
   "source": [
    "# #hide_input\n",
    "# fig, ax = plt.subplots(figsize=(15, 8))\n",
    "# animator = animation.FuncAnimation(fig, draw_barchart, frames=range(g.day.values.min(), g.day.values.max()))\n",
    "# HTML(animator.to_jshtml())\n",
    "# # or use animator.to_html5_video() or animator.save() "
   ]
  },
  {
   "cell_type": "code",
   "execution_count": null,
   "id": "australian-container",
   "metadata": {
    "papermill": {
     "duration": 0.03116,
     "end_time": "2022-06-04T00:40:56.651456",
     "exception": false,
     "start_time": "2022-06-04T00:40:56.620296",
     "status": "completed"
    },
    "tags": []
   },
   "outputs": [],
   "source": []
  },
  {
   "cell_type": "code",
   "execution_count": null,
   "id": "mediterranean-pontiac",
   "metadata": {
    "papermill": {
     "duration": 0.031139,
     "end_time": "2022-06-04T00:40:56.714133",
     "exception": false,
     "start_time": "2022-06-04T00:40:56.682994",
     "status": "completed"
    },
    "tags": []
   },
   "outputs": [],
   "source": []
  },
  {
   "cell_type": "code",
   "execution_count": null,
   "id": "aging-legislature",
   "metadata": {
    "papermill": {
     "duration": 0.031092,
     "end_time": "2022-06-04T00:40:56.780487",
     "exception": false,
     "start_time": "2022-06-04T00:40:56.749395",
     "status": "completed"
    },
    "tags": []
   },
   "outputs": [],
   "source": []
  }
 ],
 "metadata": {
  "kernelspec": {
   "display_name": "Python 3",
   "language": "python",
   "name": "python3"
  },
  "language_info": {
   "codemirror_mode": {
    "name": "ipython",
    "version": 3
   },
   "file_extension": ".py",
   "mimetype": "text/x-python",
   "name": "python",
   "nbconvert_exporter": "python",
   "pygments_lexer": "ipython3",
   "version": "3.6.15"
  },
  "papermill": {
   "duration": 6.038761,
   "end_time": "2022-06-04T00:40:57.128752",
   "environment_variables": {},
   "exception": null,
   "input_path": "2020-03-21-covid19exp.ipynb",
   "output_path": "2020-03-21-covid19exp.ipynb",
   "parameters": {},
   "start_time": "2022-06-04T00:40:51.089991",
   "version": "2.0.0"
  }
 },
 "nbformat": 4,
 "nbformat_minor": 5
}