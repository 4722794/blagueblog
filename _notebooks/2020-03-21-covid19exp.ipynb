{
 "cells": [
  {
   "cell_type": "markdown",
   "id": "muslim-click",
   "metadata": {
    "papermill": {
     "duration": 0.051373,
     "end_time": "2021-02-11T12:07:28.731404",
     "exception": false,
     "start_time": "2021-02-11T12:07:28.680031",
     "status": "completed"
    },
    "tags": []
   },
   "source": [
    "# COVID-19 Case Race\n",
    "> A race chart to see rising cases around the world\n",
    "\n",
    "- author: Hargun Oberoi\n",
    "- image: images/covid-overview.png\n",
    "- hide: false\n",
    "- badges: false"
   ]
  },
  {
   "cell_type": "code",
   "execution_count": 1,
   "id": "proof-material",
   "metadata": {
    "execution": {
     "iopub.execute_input": "2021-02-11T12:07:28.830995Z",
     "iopub.status.busy": "2021-02-11T12:07:28.830255Z",
     "iopub.status.idle": "2021-02-11T12:07:29.217066Z",
     "shell.execute_reply": "2021-02-11T12:07:29.216490Z"
    },
    "papermill": {
     "duration": 0.438133,
     "end_time": "2021-02-11T12:07:29.217244",
     "exception": false,
     "start_time": "2021-02-11T12:07:28.779111",
     "status": "completed"
    },
    "tags": []
   },
   "outputs": [],
   "source": [
    "#hide\n",
    "import numpy as np\n",
    "import pandas as pd\n",
    "from jinja2 import Template\n",
    "from IPython.display import HTML"
   ]
  },
  {
   "cell_type": "code",
   "execution_count": 2,
   "id": "developed-terminology",
   "metadata": {
    "execution": {
     "iopub.execute_input": "2021-02-11T12:07:29.303400Z",
     "iopub.status.busy": "2021-02-11T12:07:29.302652Z",
     "iopub.status.idle": "2021-02-11T12:07:29.305406Z",
     "shell.execute_reply": "2021-02-11T12:07:29.304543Z"
    },
    "papermill": {
     "duration": 0.049473,
     "end_time": "2021-02-11T12:07:29.305553",
     "exception": false,
     "start_time": "2021-02-11T12:07:29.256080",
     "status": "completed"
    },
    "tags": []
   },
   "outputs": [],
   "source": [
    "#hide\n",
    "\n",
    "# FETCH\n",
    "base_url = 'https://raw.githubusercontent.com/pratapvardhan/notebooks/master/covid19/'\n",
    "paths = {\n",
    "    'mapping': base_url + 'mapping_countries.csv',\n",
    "    'overview': base_url + 'overview.tpl'\n",
    "}"
   ]
  },
  {
   "cell_type": "code",
   "execution_count": 3,
   "id": "dynamic-saver",
   "metadata": {
    "execution": {
     "iopub.execute_input": "2021-02-11T12:07:29.407631Z",
     "iopub.status.busy": "2021-02-11T12:07:29.406796Z",
     "iopub.status.idle": "2021-02-11T12:07:29.415269Z",
     "shell.execute_reply": "2021-02-11T12:07:29.413717Z"
    },
    "papermill": {
     "duration": 0.068688,
     "end_time": "2021-02-11T12:07:29.415490",
     "exception": false,
     "start_time": "2021-02-11T12:07:29.346802",
     "status": "completed"
    },
    "tags": []
   },
   "outputs": [
    {
     "data": {
      "text/plain": [
       "'https://raw.githubusercontent.com/pratapvardhan/notebooks/master/covid19/mapping_countries.csv'"
      ]
     },
     "execution_count": 3,
     "metadata": {},
     "output_type": "execute_result"
    }
   ],
   "source": [
    "#hide\n",
    "paths['mapping']"
   ]
  },
  {
   "cell_type": "code",
   "execution_count": 4,
   "id": "urban-software",
   "metadata": {
    "execution": {
     "iopub.execute_input": "2021-02-11T12:07:29.517607Z",
     "iopub.status.busy": "2021-02-11T12:07:29.516666Z",
     "iopub.status.idle": "2021-02-11T12:07:29.518543Z",
     "shell.execute_reply": "2021-02-11T12:07:29.519153Z"
    },
    "papermill": {
     "duration": 0.059348,
     "end_time": "2021-02-11T12:07:29.519339",
     "exception": false,
     "start_time": "2021-02-11T12:07:29.459991",
     "status": "completed"
    },
    "tags": []
   },
   "outputs": [],
   "source": [
    "#hide\n",
    "def get_mappings(url):\n",
    "    df = pd.read_csv(url)\n",
    "    return {\n",
    "        'df': df,\n",
    "        'replace.country': dict(df.dropna(subset=['Name']).set_index('Country')['Name']),\n",
    "        'map.continent': dict(df.set_index('Name')['Continent'])\n",
    "    }"
   ]
  },
  {
   "cell_type": "code",
   "execution_count": 5,
   "id": "intimate-machinery",
   "metadata": {
    "execution": {
     "iopub.execute_input": "2021-02-11T12:07:29.628645Z",
     "iopub.status.busy": "2021-02-11T12:07:29.627942Z",
     "iopub.status.idle": "2021-02-11T12:07:29.666273Z",
     "shell.execute_reply": "2021-02-11T12:07:29.665700Z"
    },
    "papermill": {
     "duration": 0.094455,
     "end_time": "2021-02-11T12:07:29.666454",
     "exception": false,
     "start_time": "2021-02-11T12:07:29.571999",
     "status": "completed"
    },
    "tags": []
   },
   "outputs": [],
   "source": [
    "#hide\n",
    "mapping = get_mappings(paths['mapping'])"
   ]
  },
  {
   "cell_type": "code",
   "execution_count": 6,
   "id": "certified-tactics",
   "metadata": {
    "execution": {
     "iopub.execute_input": "2021-02-11T12:07:29.766381Z",
     "iopub.status.busy": "2021-02-11T12:07:29.765574Z",
     "iopub.status.idle": "2021-02-11T12:07:29.768455Z",
     "shell.execute_reply": "2021-02-11T12:07:29.767923Z"
    },
    "papermill": {
     "duration": 0.051568,
     "end_time": "2021-02-11T12:07:29.768577",
     "exception": false,
     "start_time": "2021-02-11T12:07:29.717009",
     "status": "completed"
    },
    "tags": []
   },
   "outputs": [],
   "source": [
    "#hide\n",
    "def get_template(path):\n",
    "    from urllib.parse import urlparse\n",
    "    if bool(urlparse(path).netloc):\n",
    "        from urllib.request import urlopen\n",
    "        return urlopen(path).read().decode('utf8')\n",
    "    return open(path).read()"
   ]
  },
  {
   "cell_type": "code",
   "execution_count": 7,
   "id": "realistic-blast",
   "metadata": {
    "execution": {
     "iopub.execute_input": "2021-02-11T12:07:29.866364Z",
     "iopub.status.busy": "2021-02-11T12:07:29.865618Z",
     "iopub.status.idle": "2021-02-11T12:07:29.868560Z",
     "shell.execute_reply": "2021-02-11T12:07:29.868012Z"
    },
    "papermill": {
     "duration": 0.057107,
     "end_time": "2021-02-11T12:07:29.868703",
     "exception": false,
     "start_time": "2021-02-11T12:07:29.811596",
     "status": "completed"
    },
    "tags": []
   },
   "outputs": [],
   "source": [
    "#hide\n",
    "def get_frame(name):\n",
    "    url = (\n",
    "        'https://raw.githubusercontent.com/CSSEGISandData/COVID-19/master/csse_covid_19_data/'\n",
    "        f'csse_covid_19_time_series/time_series_covid19_{name}_global.csv')\n",
    "    df = pd.read_csv(url)\n",
    "    # rename countries\n",
    "    df['Country/Region'] = df['Country/Region'].replace(mapping['replace.country'])\n",
    "    return df"
   ]
  },
  {
   "cell_type": "code",
   "execution_count": 8,
   "id": "affiliated-characterization",
   "metadata": {
    "execution": {
     "iopub.execute_input": "2021-02-11T12:07:29.963603Z",
     "iopub.status.busy": "2021-02-11T12:07:29.962831Z",
     "iopub.status.idle": "2021-02-11T12:07:29.965466Z",
     "shell.execute_reply": "2021-02-11T12:07:29.964810Z"
    },
    "papermill": {
     "duration": 0.047972,
     "end_time": "2021-02-11T12:07:29.965619",
     "exception": false,
     "start_time": "2021-02-11T12:07:29.917647",
     "status": "completed"
    },
    "tags": []
   },
   "outputs": [],
   "source": [
    "#hide\n",
    "def get_dates(df):\n",
    "    dt_cols = df.columns[~df.columns.isin(['Province/State', 'Country/Region', 'Lat', 'Long'])]\n",
    "    LAST_DATE_I = -1\n",
    "    # sometimes last column may be empty, then go backwards\n",
    "    for i in range(-1, -len(dt_cols), -1):\n",
    "        if not df[dt_cols[i]].fillna(0).eq(0).all():\n",
    "            LAST_DATE_I = i\n",
    "            break\n",
    "    return LAST_DATE_I, dt_cols"
   ]
  },
  {
   "cell_type": "code",
   "execution_count": 9,
   "id": "recent-optimization",
   "metadata": {
    "execution": {
     "iopub.execute_input": "2021-02-11T12:07:30.046793Z",
     "iopub.status.busy": "2021-02-11T12:07:30.046083Z",
     "iopub.status.idle": "2021-02-11T12:07:30.392139Z",
     "shell.execute_reply": "2021-02-11T12:07:30.391523Z"
    },
    "papermill": {
     "duration": 0.389167,
     "end_time": "2021-02-11T12:07:30.392281",
     "exception": false,
     "start_time": "2021-02-11T12:07:30.003114",
     "status": "completed"
    },
    "tags": []
   },
   "outputs": [],
   "source": [
    "#hide\n",
    "COL_REGION = 'Country/Region'\n",
    "# Confirmed, Recovered, Deaths\n",
    "df = get_frame('confirmed')\n",
    "# dft_: timeseries, dfc_: today country agg\n",
    "dft_cases = df\n",
    "dft_deaths = get_frame('deaths')\n",
    "dft_recovered = get_frame('recovered')\n",
    "LAST_DATE_I, dt_cols = get_dates(df)"
   ]
  },
  {
   "cell_type": "code",
   "execution_count": 10,
   "id": "absolute-copper",
   "metadata": {
    "execution": {
     "iopub.execute_input": "2021-02-11T12:07:30.491576Z",
     "iopub.status.busy": "2021-02-11T12:07:30.490857Z",
     "iopub.status.idle": "2021-02-11T12:07:30.493044Z",
     "shell.execute_reply": "2021-02-11T12:07:30.493686Z"
    },
    "papermill": {
     "duration": 0.052515,
     "end_time": "2021-02-11T12:07:30.493843",
     "exception": false,
     "start_time": "2021-02-11T12:07:30.441328",
     "status": "completed"
    },
    "tags": []
   },
   "outputs": [],
   "source": [
    "#hide\n",
    "LAST_DATE_I, dt_cols = get_dates(df)\n",
    "dt_today =dt_cols[LAST_DATE_I]\n",
    "# dt_5day = dt_cols[LAST_DATE_I - 5]\n",
    "dt_yday = dt_cols[LAST_DATE_I - 1]"
   ]
  },
  {
   "cell_type": "code",
   "execution_count": 11,
   "id": "restricted-sheriff",
   "metadata": {
    "execution": {
     "iopub.execute_input": "2021-02-11T12:07:30.592489Z",
     "iopub.status.busy": "2021-02-11T12:07:30.591791Z",
     "iopub.status.idle": "2021-02-11T12:07:30.600225Z",
     "shell.execute_reply": "2021-02-11T12:07:30.601175Z"
    },
    "papermill": {
     "duration": 0.062346,
     "end_time": "2021-02-11T12:07:30.601363",
     "exception": false,
     "start_time": "2021-02-11T12:07:30.539017",
     "status": "completed"
    },
    "tags": []
   },
   "outputs": [],
   "source": [
    "#hide\n",
    "dfc_cases = dft_cases.groupby(COL_REGION)[dt_today].sum()\n",
    "dfc_deaths = dft_deaths.groupby(COL_REGION)[dt_today].sum()\n",
    "# dfp_cases = dft_cases.groupby(COL_REGION)[dt_5day].sum()\n",
    "# dfp_deaths = dft_deaths.groupby(COL_REGION)[dt_5day].sum()\n",
    "dfp_cases = dft_cases.groupby(COL_REGION)[dt_yday].sum()\n",
    "dfp_deaths = dft_deaths.groupby(COL_REGION)[dt_yday].sum()"
   ]
  },
  {
   "cell_type": "code",
   "execution_count": 12,
   "id": "deluxe-hepatitis",
   "metadata": {
    "execution": {
     "iopub.execute_input": "2021-02-11T12:07:30.703257Z",
     "iopub.status.busy": "2021-02-11T12:07:30.702487Z",
     "iopub.status.idle": "2021-02-11T12:07:30.708375Z",
     "shell.execute_reply": "2021-02-11T12:07:30.709074Z"
    },
    "papermill": {
     "duration": 0.064871,
     "end_time": "2021-02-11T12:07:30.709229",
     "exception": false,
     "start_time": "2021-02-11T12:07:30.644358",
     "status": "completed"
    },
    "tags": []
   },
   "outputs": [],
   "source": [
    "#hide\n",
    "df_table = (pd.DataFrame(dict(Cases = dfc_cases, Deaths = dfc_deaths, PCases = dfp_cases, PDeaths = dfp_deaths))\n",
    "            .sort_values(by = ['Cases','Deaths'], ascending = [False, False])\n",
    "            .reset_index())"
   ]
  },
  {
   "cell_type": "code",
   "execution_count": 13,
   "id": "educational-chancellor",
   "metadata": {
    "execution": {
     "iopub.execute_input": "2021-02-11T12:07:30.808038Z",
     "iopub.status.busy": "2021-02-11T12:07:30.807248Z",
     "iopub.status.idle": "2021-02-11T12:07:30.816045Z",
     "shell.execute_reply": "2021-02-11T12:07:30.815526Z"
    },
    "papermill": {
     "duration": 0.067635,
     "end_time": "2021-02-11T12:07:30.816170",
     "exception": false,
     "start_time": "2021-02-11T12:07:30.748535",
     "status": "completed"
    },
    "tags": []
   },
   "outputs": [
    {
     "data": {
      "text/html": [
       "<div>\n",
       "<style scoped>\n",
       "    .dataframe tbody tr th:only-of-type {\n",
       "        vertical-align: middle;\n",
       "    }\n",
       "\n",
       "    .dataframe tbody tr th {\n",
       "        vertical-align: top;\n",
       "    }\n",
       "\n",
       "    .dataframe thead th {\n",
       "        text-align: right;\n",
       "    }\n",
       "</style>\n",
       "<table border=\"1\" class=\"dataframe\">\n",
       "  <thead>\n",
       "    <tr style=\"text-align: right;\">\n",
       "      <th></th>\n",
       "      <th>Country/Region</th>\n",
       "      <th>Cases</th>\n",
       "      <th>Deaths</th>\n",
       "      <th>PCases</th>\n",
       "      <th>PDeaths</th>\n",
       "      <th>Cases (+)</th>\n",
       "      <th>Deaths (+)</th>\n",
       "      <th>Fatality Rate</th>\n",
       "      <th>Continent</th>\n",
       "    </tr>\n",
       "  </thead>\n",
       "  <tbody>\n",
       "    <tr>\n",
       "      <th>0</th>\n",
       "      <td>US</td>\n",
       "      <td>27287159</td>\n",
       "      <td>471567</td>\n",
       "      <td>27192455</td>\n",
       "      <td>468203</td>\n",
       "      <td>94704</td>\n",
       "      <td>3364</td>\n",
       "      <td>1.73</td>\n",
       "      <td>North America</td>\n",
       "    </tr>\n",
       "    <tr>\n",
       "      <th>1</th>\n",
       "      <td>India</td>\n",
       "      <td>10871294</td>\n",
       "      <td>155360</td>\n",
       "      <td>10858371</td>\n",
       "      <td>155252</td>\n",
       "      <td>12923</td>\n",
       "      <td>108</td>\n",
       "      <td>1.43</td>\n",
       "      <td>Asia</td>\n",
       "    </tr>\n",
       "    <tr>\n",
       "      <th>2</th>\n",
       "      <td>Brazil</td>\n",
       "      <td>9659167</td>\n",
       "      <td>234850</td>\n",
       "      <td>9599565</td>\n",
       "      <td>233520</td>\n",
       "      <td>59602</td>\n",
       "      <td>1330</td>\n",
       "      <td>2.43</td>\n",
       "      <td>South America</td>\n",
       "    </tr>\n",
       "    <tr>\n",
       "      <th>3</th>\n",
       "      <td>United Kingdom</td>\n",
       "      <td>3996833</td>\n",
       "      <td>115068</td>\n",
       "      <td>3983756</td>\n",
       "      <td>114066</td>\n",
       "      <td>13077</td>\n",
       "      <td>1002</td>\n",
       "      <td>2.88</td>\n",
       "      <td>Europe</td>\n",
       "    </tr>\n",
       "    <tr>\n",
       "      <th>4</th>\n",
       "      <td>Russia</td>\n",
       "      <td>3968228</td>\n",
       "      <td>76873</td>\n",
       "      <td>3953970</td>\n",
       "      <td>76347</td>\n",
       "      <td>14258</td>\n",
       "      <td>526</td>\n",
       "      <td>1.94</td>\n",
       "      <td>Europe</td>\n",
       "    </tr>\n",
       "  </tbody>\n",
       "</table>\n",
       "</div>"
      ],
      "text/plain": [
       "   Country/Region     Cases  Deaths    PCases  PDeaths  Cases (+)  Deaths (+)  \\\n",
       "0              US  27287159  471567  27192455   468203      94704        3364   \n",
       "1           India  10871294  155360  10858371   155252      12923         108   \n",
       "2          Brazil   9659167  234850   9599565   233520      59602        1330   \n",
       "3  United Kingdom   3996833  115068   3983756   114066      13077        1002   \n",
       "4          Russia   3968228   76873   3953970    76347      14258         526   \n",
       "\n",
       "   Fatality Rate      Continent  \n",
       "0           1.73  North America  \n",
       "1           1.43           Asia  \n",
       "2           2.43  South America  \n",
       "3           2.88         Europe  \n",
       "4           1.94         Europe  "
      ]
     },
     "execution_count": 13,
     "metadata": {},
     "output_type": "execute_result"
    }
   ],
   "source": [
    "#hide\n",
    "for c in 'Cases, Deaths'.split(', '):\n",
    "    df_table[f'{c} (+)'] = (df_table[c] - df_table[f'P{c}']).clip(0)\n",
    "    #Clip ça veut dire, les chiffres negatif sont interdit\n",
    "df_table['Fatality Rate'] = (100* df_table['Deaths']/ df_table['Cases']).round(2)\n",
    "df_table['Continent'] = df_table['Country/Region'].map(mapping['map.continent'])\n",
    "df_table.head(5)"
   ]
  },
  {
   "cell_type": "code",
   "execution_count": 14,
   "id": "aboriginal-bulgaria",
   "metadata": {
    "execution": {
     "iopub.execute_input": "2021-02-11T12:07:30.901866Z",
     "iopub.status.busy": "2021-02-11T12:07:30.901221Z",
     "iopub.status.idle": "2021-02-11T12:07:30.903190Z",
     "shell.execute_reply": "2021-02-11T12:07:30.903913Z"
    },
    "papermill": {
     "duration": 0.046008,
     "end_time": "2021-02-11T12:07:30.904048",
     "exception": false,
     "start_time": "2021-02-11T12:07:30.858040",
     "status": "completed"
    },
    "tags": []
   },
   "outputs": [],
   "source": [
    "#hide\n",
    "#delete problematic countries from table\n",
    "df_table = df_table[~df_table['Country/Region'].isin(['Cape Verde', 'Cruise Ship', 'Kosovo'])]"
   ]
  },
  {
   "cell_type": "code",
   "execution_count": 15,
   "id": "fantastic-effect",
   "metadata": {
    "execution": {
     "iopub.execute_input": "2021-02-11T12:07:30.994330Z",
     "iopub.status.busy": "2021-02-11T12:07:30.993729Z",
     "iopub.status.idle": "2021-02-11T12:07:31.016961Z",
     "shell.execute_reply": "2021-02-11T12:07:31.016396Z"
    },
    "papermill": {
     "duration": 0.070767,
     "end_time": "2021-02-11T12:07:31.017085",
     "exception": false,
     "start_time": "2021-02-11T12:07:30.946318",
     "status": "completed"
    },
    "tags": []
   },
   "outputs": [
    {
     "data": {
      "text/html": [
       "<div>\n",
       "<style scoped>\n",
       "    .dataframe tbody tr th:only-of-type {\n",
       "        vertical-align: middle;\n",
       "    }\n",
       "\n",
       "    .dataframe tbody tr th {\n",
       "        vertical-align: top;\n",
       "    }\n",
       "\n",
       "    .dataframe thead th {\n",
       "        text-align: right;\n",
       "    }\n",
       "</style>\n",
       "<table border=\"1\" class=\"dataframe\">\n",
       "  <thead>\n",
       "    <tr style=\"text-align: right;\">\n",
       "      <th></th>\n",
       "      <th>Country/Region</th>\n",
       "      <th>Cases</th>\n",
       "      <th>Deaths</th>\n",
       "      <th>PCases</th>\n",
       "      <th>PDeaths</th>\n",
       "      <th>Cases (+)</th>\n",
       "      <th>Deaths (+)</th>\n",
       "      <th>Fatality Rate</th>\n",
       "      <th>Continent</th>\n",
       "    </tr>\n",
       "  </thead>\n",
       "  <tbody>\n",
       "    <tr>\n",
       "      <th>0</th>\n",
       "      <td>US</td>\n",
       "      <td>27287159</td>\n",
       "      <td>471567</td>\n",
       "      <td>27192455</td>\n",
       "      <td>468203</td>\n",
       "      <td>94704</td>\n",
       "      <td>3364</td>\n",
       "      <td>1.7</td>\n",
       "      <td>North America</td>\n",
       "    </tr>\n",
       "    <tr>\n",
       "      <th>1</th>\n",
       "      <td>India</td>\n",
       "      <td>10871294</td>\n",
       "      <td>155360</td>\n",
       "      <td>10858371</td>\n",
       "      <td>155252</td>\n",
       "      <td>12923</td>\n",
       "      <td>108</td>\n",
       "      <td>1.4</td>\n",
       "      <td>Asia</td>\n",
       "    </tr>\n",
       "    <tr>\n",
       "      <th>2</th>\n",
       "      <td>Brazil</td>\n",
       "      <td>9659167</td>\n",
       "      <td>234850</td>\n",
       "      <td>9599565</td>\n",
       "      <td>233520</td>\n",
       "      <td>59602</td>\n",
       "      <td>1330</td>\n",
       "      <td>2.4</td>\n",
       "      <td>South America</td>\n",
       "    </tr>\n",
       "    <tr>\n",
       "      <th>3</th>\n",
       "      <td>United Kingdom</td>\n",
       "      <td>3996833</td>\n",
       "      <td>115068</td>\n",
       "      <td>3983756</td>\n",
       "      <td>114066</td>\n",
       "      <td>13077</td>\n",
       "      <td>1002</td>\n",
       "      <td>2.9</td>\n",
       "      <td>Europe</td>\n",
       "    </tr>\n",
       "    <tr>\n",
       "      <th>4</th>\n",
       "      <td>Russia</td>\n",
       "      <td>3968228</td>\n",
       "      <td>76873</td>\n",
       "      <td>3953970</td>\n",
       "      <td>76347</td>\n",
       "      <td>14258</td>\n",
       "      <td>526</td>\n",
       "      <td>1.9</td>\n",
       "      <td>Europe</td>\n",
       "    </tr>\n",
       "  </tbody>\n",
       "</table>\n",
       "</div>"
      ],
      "text/plain": [
       "   Country/Region     Cases  Deaths    PCases  PDeaths  Cases (+)  Deaths (+)  \\\n",
       "0              US  27287159  471567  27192455   468203      94704        3364   \n",
       "1           India  10871294  155360  10858371   155252      12923         108   \n",
       "2          Brazil   9659167  234850   9599565   233520      59602        1330   \n",
       "3  United Kingdom   3996833  115068   3983756   114066      13077        1002   \n",
       "4          Russia   3968228   76873   3953970    76347      14258         526   \n",
       "\n",
       "   Fatality Rate      Continent  \n",
       "0            1.7  North America  \n",
       "1            1.4           Asia  \n",
       "2            2.4  South America  \n",
       "3            2.9         Europe  \n",
       "4            1.9         Europe  "
      ]
     },
     "execution_count": 15,
     "metadata": {},
     "output_type": "execute_result"
    }
   ],
   "source": [
    "#hide\n",
    "df_table = (pd.DataFrame(dict(Cases=dfc_cases, Deaths=dfc_deaths, PCases=dfp_cases, PDeaths=dfp_deaths))\n",
    "             .sort_values(by=['Cases', 'Deaths'], ascending=[False, False])\n",
    "             .reset_index())\n",
    "df_table.rename(columns={'index': 'Country/Region'}, inplace=True)\n",
    "for c in 'Cases, Deaths'.split(', '):\n",
    "    df_table[f'{c} (+)'] = (df_table[c] - df_table[f'P{c}']).clip(0)  # DATA BUG\n",
    "df_table['Fatality Rate'] = (100 * df_table['Deaths'] / df_table['Cases']).round(1)\n",
    "df_table['Continent'] = df_table['Country/Region'].map(mapping['map.continent'])\n",
    "df_table.head(5)"
   ]
  },
  {
   "cell_type": "code",
   "execution_count": 16,
   "id": "fewer-occasion",
   "metadata": {
    "execution": {
     "iopub.execute_input": "2021-02-11T12:07:31.100138Z",
     "iopub.status.busy": "2021-02-11T12:07:31.099431Z",
     "iopub.status.idle": "2021-02-11T12:07:31.102485Z",
     "shell.execute_reply": "2021-02-11T12:07:31.101875Z"
    },
    "papermill": {
     "duration": 0.046063,
     "end_time": "2021-02-11T12:07:31.102608",
     "exception": false,
     "start_time": "2021-02-11T12:07:31.056545",
     "status": "completed"
    },
    "tags": []
   },
   "outputs": [],
   "source": [
    "#hide\n",
    "#delete problematic countries from table\n",
    "df_table = df_table[~df_table['Country/Region'].isin(['Cape Verde', 'Cruise Ship', 'Kosovo'])]"
   ]
  },
  {
   "cell_type": "code",
   "execution_count": 17,
   "id": "related-center",
   "metadata": {
    "execution": {
     "iopub.execute_input": "2021-02-11T12:07:31.205582Z",
     "iopub.status.busy": "2021-02-11T12:07:31.204882Z",
     "iopub.status.idle": "2021-02-11T12:07:31.207431Z",
     "shell.execute_reply": "2021-02-11T12:07:31.208102Z"
    },
    "papermill": {
     "duration": 0.066791,
     "end_time": "2021-02-11T12:07:31.208310",
     "exception": false,
     "start_time": "2021-02-11T12:07:31.141519",
     "status": "completed"
    },
    "tags": []
   },
   "outputs": [],
   "source": [
    "#hide\n",
    "metrics = [df_table.columns[index] for index in [1,2,5,6]]\n",
    "# s_china = df_table[df_table['Country/Region'].eq('China')][metrics].sum().add_prefix('China ')\n",
    "s_us = df_table[df_table['Country/Region'].eq('US')][metrics].sum().add_prefix('US ')\n",
    "s_eu = df_table[df_table['Continent'].eq('Europe')][metrics].sum().add_prefix('EU ')\n",
    "s_ind = df_table[df_table['Country/Region'].eq('India')][metrics].sum().add_prefix('India ')\n",
    "summary = {'updated': pd.to_datetime(dt_today), 'since': pd.to_datetime(dt_yday)}\n",
    "summary = {'updated': pd.to_datetime(dt_today), 'since': pd.to_datetime(dt_yday)}\n",
    "summary = {**summary, **df_table[metrics].sum(), **s_ind, **s_us, **s_eu}"
   ]
  },
  {
   "cell_type": "code",
   "execution_count": 18,
   "id": "engaging-syndrome",
   "metadata": {
    "execution": {
     "iopub.execute_input": "2021-02-11T12:07:31.301375Z",
     "iopub.status.busy": "2021-02-11T12:07:31.300660Z",
     "iopub.status.idle": "2021-02-11T12:07:31.314363Z",
     "shell.execute_reply": "2021-02-11T12:07:31.314930Z"
    },
    "papermill": {
     "duration": 0.062126,
     "end_time": "2021-02-11T12:07:31.315084",
     "exception": false,
     "start_time": "2021-02-11T12:07:31.252958",
     "status": "completed"
    },
    "tags": []
   },
   "outputs": [],
   "source": [
    "#hide\n",
    "dft_ct_new_cases = dft_cases.groupby(COL_REGION)[dt_cols].sum().diff(axis=1).fillna(0).astype(int)"
   ]
  },
  {
   "cell_type": "code",
   "execution_count": 19,
   "id": "neutral-assignment",
   "metadata": {
    "execution": {
     "iopub.execute_input": "2021-02-11T12:07:31.399360Z",
     "iopub.status.busy": "2021-02-11T12:07:31.398547Z",
     "iopub.status.idle": "2021-02-11T12:07:31.400554Z",
     "shell.execute_reply": "2021-02-11T12:07:31.401142Z"
    },
    "papermill": {
     "duration": 0.046206,
     "end_time": "2021-02-11T12:07:31.401289",
     "exception": false,
     "start_time": "2021-02-11T12:07:31.355083",
     "status": "completed"
    },
    "tags": []
   },
   "outputs": [],
   "source": [
    "#hide\n",
    "everydaycases = dft_ct_new_cases.cumsum(axis=1)"
   ]
  },
  {
   "cell_type": "code",
   "execution_count": 20,
   "id": "parliamentary-calgary",
   "metadata": {
    "execution": {
     "iopub.execute_input": "2021-02-11T12:07:31.484580Z",
     "iopub.status.busy": "2021-02-11T12:07:31.483898Z",
     "iopub.status.idle": "2021-02-11T12:07:33.745420Z",
     "shell.execute_reply": "2021-02-11T12:07:33.743846Z"
    },
    "papermill": {
     "duration": 2.306419,
     "end_time": "2021-02-11T12:07:33.745589",
     "exception": false,
     "start_time": "2021-02-11T12:07:31.439170",
     "status": "completed"
    },
    "tags": []
   },
   "outputs": [],
   "source": [
    "#hide\n",
    "import pandas as pd\n",
    "import matplotlib.pyplot as plt\n",
    "import matplotlib.ticker as ticker\n",
    "import matplotlib.animation as animation\n",
    "from IPython.display import HTML"
   ]
  },
  {
   "cell_type": "code",
   "execution_count": 21,
   "id": "lasting-extraction",
   "metadata": {
    "execution": {
     "iopub.execute_input": "2021-02-11T12:07:33.830659Z",
     "iopub.status.busy": "2021-02-11T12:07:33.830023Z",
     "iopub.status.idle": "2021-02-11T12:07:33.835203Z",
     "shell.execute_reply": "2021-02-11T12:07:33.835734Z"
    },
    "papermill": {
     "duration": 0.051155,
     "end_time": "2021-02-11T12:07:33.835903",
     "exception": false,
     "start_time": "2021-02-11T12:07:33.784748",
     "status": "completed"
    },
    "tags": []
   },
   "outputs": [],
   "source": [
    "#hide\n",
    "t = everydaycases.stack()"
   ]
  },
  {
   "cell_type": "code",
   "execution_count": 22,
   "id": "premier-sleeve",
   "metadata": {
    "execution": {
     "iopub.execute_input": "2021-02-11T12:07:33.936698Z",
     "iopub.status.busy": "2021-02-11T12:07:33.936082Z",
     "iopub.status.idle": "2021-02-11T12:07:33.946253Z",
     "shell.execute_reply": "2021-02-11T12:07:33.945605Z"
    },
    "papermill": {
     "duration": 0.066588,
     "end_time": "2021-02-11T12:07:33.946375",
     "exception": false,
     "start_time": "2021-02-11T12:07:33.879787",
     "status": "completed"
    },
    "tags": []
   },
   "outputs": [],
   "source": [
    "#hide\n",
    "g = t.reset_index(['Country/Region'])"
   ]
  },
  {
   "cell_type": "code",
   "execution_count": 23,
   "id": "distributed-pittsburgh",
   "metadata": {
    "execution": {
     "iopub.execute_input": "2021-02-11T12:07:34.052540Z",
     "iopub.status.busy": "2021-02-11T12:07:34.051862Z",
     "iopub.status.idle": "2021-02-11T12:07:34.054450Z",
     "shell.execute_reply": "2021-02-11T12:07:34.055927Z"
    },
    "papermill": {
     "duration": 0.060776,
     "end_time": "2021-02-11T12:07:34.056320",
     "exception": false,
     "start_time": "2021-02-11T12:07:33.995544",
     "status": "completed"
    },
    "tags": []
   },
   "outputs": [],
   "source": [
    "#hide\n",
    "g.index.name = 'date'"
   ]
  },
  {
   "cell_type": "code",
   "execution_count": 24,
   "id": "naked-donor",
   "metadata": {
    "execution": {
     "iopub.execute_input": "2021-02-11T12:07:34.150770Z",
     "iopub.status.busy": "2021-02-11T12:07:34.150150Z",
     "iopub.status.idle": "2021-02-11T12:07:34.153228Z",
     "shell.execute_reply": "2021-02-11T12:07:34.152523Z"
    },
    "papermill": {
     "duration": 0.051162,
     "end_time": "2021-02-11T12:07:34.153362",
     "exception": false,
     "start_time": "2021-02-11T12:07:34.102200",
     "status": "completed"
    },
    "tags": []
   },
   "outputs": [],
   "source": [
    "# #hide\n",
    "# g = g.reset_index(['date'])"
   ]
  },
  {
   "cell_type": "code",
   "execution_count": 25,
   "id": "incomplete-mustang",
   "metadata": {
    "execution": {
     "iopub.execute_input": "2021-02-11T12:07:34.265463Z",
     "iopub.status.busy": "2021-02-11T12:07:34.264825Z",
     "iopub.status.idle": "2021-02-11T12:07:34.266839Z",
     "shell.execute_reply": "2021-02-11T12:07:34.267493Z"
    },
    "papermill": {
     "duration": 0.063196,
     "end_time": "2021-02-11T12:07:34.267648",
     "exception": false,
     "start_time": "2021-02-11T12:07:34.204452",
     "status": "completed"
    },
    "tags": []
   },
   "outputs": [],
   "source": [
    "#hide\n",
    "# g.head()"
   ]
  },
  {
   "cell_type": "code",
   "execution_count": 26,
   "id": "specific-kruger",
   "metadata": {
    "execution": {
     "iopub.execute_input": "2021-02-11T12:07:34.351911Z",
     "iopub.status.busy": "2021-02-11T12:07:34.350991Z",
     "iopub.status.idle": "2021-02-11T12:07:34.352884Z",
     "shell.execute_reply": "2021-02-11T12:07:34.353425Z"
    },
    "papermill": {
     "duration": 0.046164,
     "end_time": "2021-02-11T12:07:34.353563",
     "exception": false,
     "start_time": "2021-02-11T12:07:34.307399",
     "status": "completed"
    },
    "tags": []
   },
   "outputs": [],
   "source": [
    "#hide\n",
    "# g.columns = ['date','country','cases']"
   ]
  },
  {
   "cell_type": "code",
   "execution_count": 27,
   "id": "tender-conversion",
   "metadata": {
    "execution": {
     "iopub.execute_input": "2021-02-11T12:07:34.437280Z",
     "iopub.status.busy": "2021-02-11T12:07:34.436664Z",
     "iopub.status.idle": "2021-02-11T12:07:34.439405Z",
     "shell.execute_reply": "2021-02-11T12:07:34.440057Z"
    },
    "papermill": {
     "duration": 0.047674,
     "end_time": "2021-02-11T12:07:34.440193",
     "exception": false,
     "start_time": "2021-02-11T12:07:34.392519",
     "status": "completed"
    },
    "tags": []
   },
   "outputs": [],
   "source": [
    "#hide\n",
    "# g['continent'] = g.country"
   ]
  },
  {
   "cell_type": "code",
   "execution_count": 28,
   "id": "substantial-wilderness",
   "metadata": {
    "execution": {
     "iopub.execute_input": "2021-02-11T12:07:34.520787Z",
     "iopub.status.busy": "2021-02-11T12:07:34.520091Z",
     "iopub.status.idle": "2021-02-11T12:07:34.522768Z",
     "shell.execute_reply": "2021-02-11T12:07:34.522216Z"
    },
    "papermill": {
     "duration": 0.044903,
     "end_time": "2021-02-11T12:07:34.522898",
     "exception": false,
     "start_time": "2021-02-11T12:07:34.477995",
     "status": "completed"
    },
    "tags": []
   },
   "outputs": [],
   "source": [
    "#hide\n",
    "# cols = list(g.columns.values)"
   ]
  },
  {
   "cell_type": "code",
   "execution_count": 29,
   "id": "solved-farming",
   "metadata": {
    "execution": {
     "iopub.execute_input": "2021-02-11T12:07:34.609246Z",
     "iopub.status.busy": "2021-02-11T12:07:34.608552Z",
     "iopub.status.idle": "2021-02-11T12:07:34.611017Z",
     "shell.execute_reply": "2021-02-11T12:07:34.611692Z"
    },
    "papermill": {
     "duration": 0.048115,
     "end_time": "2021-02-11T12:07:34.611843",
     "exception": false,
     "start_time": "2021-02-11T12:07:34.563728",
     "status": "completed"
    },
    "tags": []
   },
   "outputs": [],
   "source": [
    "#hide\n",
    "# cols.insert(0, cols.pop())"
   ]
  },
  {
   "cell_type": "code",
   "execution_count": 30,
   "id": "executed-adoption",
   "metadata": {
    "execution": {
     "iopub.execute_input": "2021-02-11T12:07:34.706083Z",
     "iopub.status.busy": "2021-02-11T12:07:34.705086Z",
     "iopub.status.idle": "2021-02-11T12:07:34.707862Z",
     "shell.execute_reply": "2021-02-11T12:07:34.708413Z"
    },
    "papermill": {
     "duration": 0.052898,
     "end_time": "2021-02-11T12:07:34.708584",
     "exception": false,
     "start_time": "2021-02-11T12:07:34.655686",
     "status": "completed"
    },
    "tags": []
   },
   "outputs": [],
   "source": [
    "#hide\n",
    "# g = g[cols]"
   ]
  },
  {
   "cell_type": "code",
   "execution_count": 31,
   "id": "subject-dublin",
   "metadata": {
    "execution": {
     "iopub.execute_input": "2021-02-11T12:07:34.796639Z",
     "iopub.status.busy": "2021-02-11T12:07:34.795961Z",
     "iopub.status.idle": "2021-02-11T12:07:34.798705Z",
     "shell.execute_reply": "2021-02-11T12:07:34.798146Z"
    },
    "papermill": {
     "duration": 0.050658,
     "end_time": "2021-02-11T12:07:34.798845",
     "exception": false,
     "start_time": "2021-02-11T12:07:34.748187",
     "status": "completed"
    },
    "tags": []
   },
   "outputs": [],
   "source": [
    "#hide\n",
    "# g['continent'] = g['continent'].map(mapping['map.continent'])"
   ]
  },
  {
   "cell_type": "code",
   "execution_count": 32,
   "id": "freelance-scout",
   "metadata": {
    "execution": {
     "iopub.execute_input": "2021-02-11T12:07:34.897328Z",
     "iopub.status.busy": "2021-02-11T12:07:34.896673Z",
     "iopub.status.idle": "2021-02-11T12:07:34.899326Z",
     "shell.execute_reply": "2021-02-11T12:07:34.898709Z"
    },
    "papermill": {
     "duration": 0.053808,
     "end_time": "2021-02-11T12:07:34.899453",
     "exception": false,
     "start_time": "2021-02-11T12:07:34.845645",
     "status": "completed"
    },
    "tags": []
   },
   "outputs": [],
   "source": [
    "#hide\n",
    "# g.head()"
   ]
  },
  {
   "cell_type": "code",
   "execution_count": 33,
   "id": "limited-engine",
   "metadata": {
    "execution": {
     "iopub.execute_input": "2021-02-11T12:07:34.984066Z",
     "iopub.status.busy": "2021-02-11T12:07:34.983183Z",
     "iopub.status.idle": "2021-02-11T12:07:34.985800Z",
     "shell.execute_reply": "2021-02-11T12:07:34.985184Z"
    },
    "papermill": {
     "duration": 0.047198,
     "end_time": "2021-02-11T12:07:34.985924",
     "exception": false,
     "start_time": "2021-02-11T12:07:34.938726",
     "status": "completed"
    },
    "tags": []
   },
   "outputs": [],
   "source": [
    "# hide\n",
    "# g['date'] = g['date'].astype('datetime64[ns]')"
   ]
  },
  {
   "cell_type": "code",
   "execution_count": 34,
   "id": "sophisticated-supervisor",
   "metadata": {
    "execution": {
     "iopub.execute_input": "2021-02-11T12:07:35.070091Z",
     "iopub.status.busy": "2021-02-11T12:07:35.069367Z",
     "iopub.status.idle": "2021-02-11T12:07:35.075214Z",
     "shell.execute_reply": "2021-02-11T12:07:35.074605Z"
    },
    "papermill": {
     "duration": 0.049556,
     "end_time": "2021-02-11T12:07:35.075364",
     "exception": false,
     "start_time": "2021-02-11T12:07:35.025808",
     "status": "completed"
    },
    "tags": []
   },
   "outputs": [],
   "source": [
    "#hide\n",
    "# g['date'] = g.date.dt.dayofyear"
   ]
  },
  {
   "cell_type": "code",
   "execution_count": 35,
   "id": "inside-dubai",
   "metadata": {
    "execution": {
     "iopub.execute_input": "2021-02-11T12:07:35.169336Z",
     "iopub.status.busy": "2021-02-11T12:07:35.168710Z",
     "iopub.status.idle": "2021-02-11T12:07:35.171200Z",
     "shell.execute_reply": "2021-02-11T12:07:35.170674Z"
    },
    "papermill": {
     "duration": 0.04771,
     "end_time": "2021-02-11T12:07:35.171344",
     "exception": false,
     "start_time": "2021-02-11T12:07:35.123634",
     "status": "completed"
    },
    "tags": []
   },
   "outputs": [],
   "source": [
    "#hide\n",
    "# g = g.rename(columns= {'continent':'group','country':'name','cases':'value'})"
   ]
  },
  {
   "cell_type": "code",
   "execution_count": 36,
   "id": "fleet-motorcycle",
   "metadata": {
    "execution": {
     "iopub.execute_input": "2021-02-11T12:07:35.259183Z",
     "iopub.status.busy": "2021-02-11T12:07:35.258461Z",
     "iopub.status.idle": "2021-02-11T12:07:35.260726Z",
     "shell.execute_reply": "2021-02-11T12:07:35.261233Z"
    },
    "papermill": {
     "duration": 0.044918,
     "end_time": "2021-02-11T12:07:35.261395",
     "exception": false,
     "start_time": "2021-02-11T12:07:35.216477",
     "status": "completed"
    },
    "tags": []
   },
   "outputs": [],
   "source": [
    "#hide\n",
    "# cols = ['name','group','day','value']"
   ]
  },
  {
   "cell_type": "code",
   "execution_count": 37,
   "id": "continued-sleeping",
   "metadata": {
    "execution": {
     "iopub.execute_input": "2021-02-11T12:07:35.360684Z",
     "iopub.status.busy": "2021-02-11T12:07:35.359956Z",
     "iopub.status.idle": "2021-02-11T12:07:35.362875Z",
     "shell.execute_reply": "2021-02-11T12:07:35.362201Z"
    },
    "papermill": {
     "duration": 0.056421,
     "end_time": "2021-02-11T12:07:35.362999",
     "exception": false,
     "start_time": "2021-02-11T12:07:35.306578",
     "status": "completed"
    },
    "tags": []
   },
   "outputs": [],
   "source": [
    "#hide\n",
    "# g.rename(columns= {'date':'day'},inplace = True)"
   ]
  },
  {
   "cell_type": "code",
   "execution_count": 38,
   "id": "major-fight",
   "metadata": {
    "execution": {
     "iopub.execute_input": "2021-02-11T12:07:35.456110Z",
     "iopub.status.busy": "2021-02-11T12:07:35.455488Z",
     "iopub.status.idle": "2021-02-11T12:07:35.458126Z",
     "shell.execute_reply": "2021-02-11T12:07:35.457599Z"
    },
    "papermill": {
     "duration": 0.050173,
     "end_time": "2021-02-11T12:07:35.458252",
     "exception": false,
     "start_time": "2021-02-11T12:07:35.408079",
     "status": "completed"
    },
    "tags": []
   },
   "outputs": [],
   "source": [
    "#hide\n",
    "# g = g[cols]"
   ]
  },
  {
   "cell_type": "code",
   "execution_count": 39,
   "id": "structured-mobile",
   "metadata": {
    "execution": {
     "iopub.execute_input": "2021-02-11T12:07:35.556784Z",
     "iopub.status.busy": "2021-02-11T12:07:35.555561Z",
     "iopub.status.idle": "2021-02-11T12:07:35.558171Z",
     "shell.execute_reply": "2021-02-11T12:07:35.558753Z"
    },
    "papermill": {
     "duration": 0.057462,
     "end_time": "2021-02-11T12:07:35.558895",
     "exception": false,
     "start_time": "2021-02-11T12:07:35.501433",
     "status": "completed"
    },
    "tags": []
   },
   "outputs": [],
   "source": [
    "# #hide\n",
    "# g = g[g.group.notna()]"
   ]
  },
  {
   "cell_type": "code",
   "execution_count": 40,
   "id": "determined-closing",
   "metadata": {
    "execution": {
     "iopub.execute_input": "2021-02-11T12:07:35.660097Z",
     "iopub.status.busy": "2021-02-11T12:07:35.659429Z",
     "iopub.status.idle": "2021-02-11T12:07:35.661284Z",
     "shell.execute_reply": "2021-02-11T12:07:35.661772Z"
    },
    "papermill": {
     "duration": 0.054926,
     "end_time": "2021-02-11T12:07:35.661902",
     "exception": false,
     "start_time": "2021-02-11T12:07:35.606976",
     "status": "completed"
    },
    "tags": []
   },
   "outputs": [],
   "source": [
    "# #hide\n",
    "# colors = dict(zip(\n",
    "#     [\"Oceania\", \"Europe\", \"Asia\", \"South America\", \"Middle East\", \"North America\", \"Africa\"],\n",
    "#     [\"#adb0ff\", \"#ffb3ff\", \"#90d595\", \"#e48381\", \"#aafbff\", \"#f7bb5f\", \"#eafb50\"]\n",
    "# ))\n",
    "# group_lk = g.set_index('name')['group'].to_dict()"
   ]
  },
  {
   "cell_type": "code",
   "execution_count": null,
   "id": "gross-drinking",
   "metadata": {
    "papermill": {
     "duration": 0.041862,
     "end_time": "2021-02-11T12:07:35.750391",
     "exception": false,
     "start_time": "2021-02-11T12:07:35.708529",
     "status": "completed"
    },
    "tags": []
   },
   "outputs": [],
   "source": []
  },
  {
   "cell_type": "code",
   "execution_count": 41,
   "id": "subject-macintosh",
   "metadata": {
    "execution": {
     "iopub.execute_input": "2021-02-11T12:07:35.841596Z",
     "iopub.status.busy": "2021-02-11T12:07:35.840996Z",
     "iopub.status.idle": "2021-02-11T12:07:35.842349Z",
     "shell.execute_reply": "2021-02-11T12:07:35.842999Z"
    },
    "papermill": {
     "duration": 0.04924,
     "end_time": "2021-02-11T12:07:35.843165",
     "exception": false,
     "start_time": "2021-02-11T12:07:35.793925",
     "status": "completed"
    },
    "tags": []
   },
   "outputs": [],
   "source": [
    "# #hide\n",
    "# fig, ax = plt.subplots(figsize=(15, 8))\n",
    "\n",
    "# def draw_barchart(current_day):\n",
    "#     dff = g[g['day'].eq(current_day)].sort_values(by='value', ascending=True).tail(10)\n",
    "#     ax.clear()\n",
    "#     ax.barh(dff['name'], dff['value'], color=[colors[group_lk[x]] for x in dff['name']])\n",
    "#     dx = dff['value'].max() / 200\n",
    "    \n",
    "#     for i, (value, name) in enumerate(zip(dff['value'], dff['name'])):\n",
    "#         ax.text(value-dx, i,     name,           size=14, weight=600, ha='right', va='bottom')\n",
    "#         ax.text(value-dx, i-.25, group_lk[name], size=10, color='#444444', ha='right', va='baseline')\n",
    "#         ax.text(value+dx, i,     f'{value:,.0f}',  size=14, ha='left',  va='center')\n",
    "#     ax.text(1, 0.4, current_day, transform=ax.transAxes, color='#777777', size=46, ha='right', weight=800)\n",
    "#     ax.text(0, 1.06, 'Population (thousands)', transform=ax.transAxes, size=12, color='#777777')\n",
    "#     ax.xaxis.set_major_formatter(ticker.StrMethodFormatter('{x:,.0f}'))\n",
    "#     ax.xaxis.set_ticks_position('top')\n",
    "#     ax.tick_params(axis='x', colors='#777777', labelsize=12)\n",
    "#     ax.set_yticks([])\n",
    "#     ax.margins(0, 0.01)\n",
    "#     ax.grid(which='major', axis='x', linestyle='-')\n",
    "#     ax.set_axisbelow(True)\n",
    "    \n",
    "#     ax.text(0, 1.15, 'Coronavirus',\n",
    "#             transform=ax.transAxes, size=24, weight=600, ha='left', va='top')\n",
    "# #     ax.text(1, 0, 'by @pratapvardhan; credit @jburnmurdoch', transform=ax.transAxes, color='#777777', ha='right',\n",
    "# #             bbox=dict(facecolor='white', alpha=0.8, edgecolor='white'))\n",
    "#     plt.box(False)"
   ]
  },
  {
   "cell_type": "code",
   "execution_count": 42,
   "id": "sexual-wages",
   "metadata": {
    "execution": {
     "iopub.execute_input": "2021-02-11T12:07:35.929889Z",
     "iopub.status.busy": "2021-02-11T12:07:35.929180Z",
     "iopub.status.idle": "2021-02-11T12:07:35.933099Z",
     "shell.execute_reply": "2021-02-11T12:07:35.932521Z"
    },
    "papermill": {
     "duration": 0.047399,
     "end_time": "2021-02-11T12:07:35.933264",
     "exception": false,
     "start_time": "2021-02-11T12:07:35.885865",
     "status": "completed"
    },
    "tags": []
   },
   "outputs": [],
   "source": [
    "# #hide_input\n",
    "# fig, ax = plt.subplots(figsize=(15, 8))\n",
    "# animator = animation.FuncAnimation(fig, draw_barchart, frames=range(g.day.values.min(), g.day.values.max()))\n",
    "# HTML(animator.to_jshtml())\n",
    "# # or use animator.to_html5_video() or animator.save() "
   ]
  },
  {
   "cell_type": "code",
   "execution_count": null,
   "id": "australian-container",
   "metadata": {
    "papermill": {
     "duration": 0.047773,
     "end_time": "2021-02-11T12:07:36.026144",
     "exception": false,
     "start_time": "2021-02-11T12:07:35.978371",
     "status": "completed"
    },
    "tags": []
   },
   "outputs": [],
   "source": []
  },
  {
   "cell_type": "code",
   "execution_count": null,
   "id": "mediterranean-pontiac",
   "metadata": {
    "papermill": {
     "duration": 0.038862,
     "end_time": "2021-02-11T12:07:36.107895",
     "exception": false,
     "start_time": "2021-02-11T12:07:36.069033",
     "status": "completed"
    },
    "tags": []
   },
   "outputs": [],
   "source": []
  },
  {
   "cell_type": "code",
   "execution_count": null,
   "id": "aging-legislature",
   "metadata": {
    "papermill": {
     "duration": 0.037969,
     "end_time": "2021-02-11T12:07:36.191254",
     "exception": false,
     "start_time": "2021-02-11T12:07:36.153285",
     "status": "completed"
    },
    "tags": []
   },
   "outputs": [],
   "source": []
  }
 ],
 "metadata": {
  "kernelspec": {
   "display_name": "Python 3",
   "language": "python",
   "name": "python3"
  },
  "language_info": {
   "codemirror_mode": {
    "name": "ipython",
    "version": 3
   },
   "file_extension": ".py",
   "mimetype": "text/x-python",
   "name": "python",
   "nbconvert_exporter": "python",
   "pygments_lexer": "ipython3",
   "version": "3.6.12"
  },
  "papermill": {
   "duration": 9.338753,
   "end_time": "2021-02-11T12:07:36.541927",
   "environment_variables": {},
   "exception": null,
   "input_path": "2020-03-21-covid19exp.ipynb",
   "output_path": "2020-03-21-covid19exp.ipynb",
   "parameters": {},
   "start_time": "2021-02-11T12:07:27.203174",
   "version": "2.0.0"
  }
 },
 "nbformat": 4,
 "nbformat_minor": 5
}