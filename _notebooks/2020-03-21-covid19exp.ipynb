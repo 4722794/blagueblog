{
 "cells": [
  {
   "cell_type": "markdown",
   "id": "muslim-click",
   "metadata": {
    "papermill": {
     "duration": 0.03443,
     "end_time": "2021-03-05T12:07:10.284830",
     "exception": false,
     "start_time": "2021-03-05T12:07:10.250400",
     "status": "completed"
    },
    "tags": []
   },
   "source": [
    "# COVID-19 Case Race\n",
    "> A race chart to see rising cases around the world\n",
    "\n",
    "- author: Hargun Oberoi\n",
    "- image: images/covid-overview.png\n",
    "- hide: false\n",
    "- badges: false"
   ]
  },
  {
   "cell_type": "code",
   "execution_count": 1,
   "id": "proof-material",
   "metadata": {
    "execution": {
     "iopub.execute_input": "2021-03-05T12:07:10.353309Z",
     "iopub.status.busy": "2021-03-05T12:07:10.352756Z",
     "iopub.status.idle": "2021-03-05T12:07:10.631180Z",
     "shell.execute_reply": "2021-03-05T12:07:10.630386Z"
    },
    "papermill": {
     "duration": 0.315595,
     "end_time": "2021-03-05T12:07:10.631339",
     "exception": false,
     "start_time": "2021-03-05T12:07:10.315744",
     "status": "completed"
    },
    "tags": []
   },
   "outputs": [],
   "source": [
    "#hide\n",
    "import numpy as np\n",
    "import pandas as pd\n",
    "from jinja2 import Template\n",
    "from IPython.display import HTML"
   ]
  },
  {
   "cell_type": "code",
   "execution_count": 2,
   "id": "developed-terminology",
   "metadata": {
    "execution": {
     "iopub.execute_input": "2021-03-05T12:07:10.692175Z",
     "iopub.status.busy": "2021-03-05T12:07:10.691648Z",
     "iopub.status.idle": "2021-03-05T12:07:10.693818Z",
     "shell.execute_reply": "2021-03-05T12:07:10.693380Z"
    },
    "papermill": {
     "duration": 0.033898,
     "end_time": "2021-03-05T12:07:10.693917",
     "exception": false,
     "start_time": "2021-03-05T12:07:10.660019",
     "status": "completed"
    },
    "tags": []
   },
   "outputs": [],
   "source": [
    "#hide\n",
    "\n",
    "# FETCH\n",
    "base_url = 'https://raw.githubusercontent.com/pratapvardhan/notebooks/master/covid19/'\n",
    "paths = {\n",
    "    'mapping': base_url + 'mapping_countries.csv',\n",
    "    'overview': base_url + 'overview.tpl'\n",
    "}"
   ]
  },
  {
   "cell_type": "code",
   "execution_count": 3,
   "id": "dynamic-saver",
   "metadata": {
    "execution": {
     "iopub.execute_input": "2021-03-05T12:07:10.759720Z",
     "iopub.status.busy": "2021-03-05T12:07:10.758559Z",
     "iopub.status.idle": "2021-03-05T12:07:10.763383Z",
     "shell.execute_reply": "2021-03-05T12:07:10.762601Z"
    },
    "papermill": {
     "duration": 0.040803,
     "end_time": "2021-03-05T12:07:10.763513",
     "exception": false,
     "start_time": "2021-03-05T12:07:10.722710",
     "status": "completed"
    },
    "tags": []
   },
   "outputs": [
    {
     "data": {
      "text/plain": [
       "'https://raw.githubusercontent.com/pratapvardhan/notebooks/master/covid19/mapping_countries.csv'"
      ]
     },
     "execution_count": 3,
     "metadata": {},
     "output_type": "execute_result"
    }
   ],
   "source": [
    "#hide\n",
    "paths['mapping']"
   ]
  },
  {
   "cell_type": "code",
   "execution_count": 4,
   "id": "urban-software",
   "metadata": {
    "execution": {
     "iopub.execute_input": "2021-03-05T12:07:10.828894Z",
     "iopub.status.busy": "2021-03-05T12:07:10.828380Z",
     "iopub.status.idle": "2021-03-05T12:07:10.832535Z",
     "shell.execute_reply": "2021-03-05T12:07:10.831609Z"
    },
    "papermill": {
     "duration": 0.038031,
     "end_time": "2021-03-05T12:07:10.832636",
     "exception": false,
     "start_time": "2021-03-05T12:07:10.794605",
     "status": "completed"
    },
    "tags": []
   },
   "outputs": [],
   "source": [
    "#hide\n",
    "def get_mappings(url):\n",
    "    df = pd.read_csv(url)\n",
    "    return {\n",
    "        'df': df,\n",
    "        'replace.country': dict(df.dropna(subset=['Name']).set_index('Country')['Name']),\n",
    "        'map.continent': dict(df.set_index('Name')['Continent'])\n",
    "    }"
   ]
  },
  {
   "cell_type": "code",
   "execution_count": 5,
   "id": "intimate-machinery",
   "metadata": {
    "execution": {
     "iopub.execute_input": "2021-03-05T12:07:10.895233Z",
     "iopub.status.busy": "2021-03-05T12:07:10.894716Z",
     "iopub.status.idle": "2021-03-05T12:07:10.936199Z",
     "shell.execute_reply": "2021-03-05T12:07:10.935763Z"
    },
    "papermill": {
     "duration": 0.074739,
     "end_time": "2021-03-05T12:07:10.936299",
     "exception": false,
     "start_time": "2021-03-05T12:07:10.861560",
     "status": "completed"
    },
    "tags": []
   },
   "outputs": [],
   "source": [
    "#hide\n",
    "mapping = get_mappings(paths['mapping'])"
   ]
  },
  {
   "cell_type": "code",
   "execution_count": 6,
   "id": "certified-tactics",
   "metadata": {
    "execution": {
     "iopub.execute_input": "2021-03-05T12:07:10.997831Z",
     "iopub.status.busy": "2021-03-05T12:07:10.997313Z",
     "iopub.status.idle": "2021-03-05T12:07:10.999590Z",
     "shell.execute_reply": "2021-03-05T12:07:10.999155Z"
    },
    "papermill": {
     "duration": 0.034711,
     "end_time": "2021-03-05T12:07:10.999693",
     "exception": false,
     "start_time": "2021-03-05T12:07:10.964982",
     "status": "completed"
    },
    "tags": []
   },
   "outputs": [],
   "source": [
    "#hide\n",
    "def get_template(path):\n",
    "    from urllib.parse import urlparse\n",
    "    if bool(urlparse(path).netloc):\n",
    "        from urllib.request import urlopen\n",
    "        return urlopen(path).read().decode('utf8')\n",
    "    return open(path).read()"
   ]
  },
  {
   "cell_type": "code",
   "execution_count": 7,
   "id": "realistic-blast",
   "metadata": {
    "execution": {
     "iopub.execute_input": "2021-03-05T12:07:11.061558Z",
     "iopub.status.busy": "2021-03-05T12:07:11.061039Z",
     "iopub.status.idle": "2021-03-05T12:07:11.063330Z",
     "shell.execute_reply": "2021-03-05T12:07:11.062867Z"
    },
    "papermill": {
     "duration": 0.035258,
     "end_time": "2021-03-05T12:07:11.063431",
     "exception": false,
     "start_time": "2021-03-05T12:07:11.028173",
     "status": "completed"
    },
    "tags": []
   },
   "outputs": [],
   "source": [
    "#hide\n",
    "def get_frame(name):\n",
    "    url = (\n",
    "        'https://raw.githubusercontent.com/CSSEGISandData/COVID-19/master/csse_covid_19_data/'\n",
    "        f'csse_covid_19_time_series/time_series_covid19_{name}_global.csv')\n",
    "    df = pd.read_csv(url)\n",
    "    # rename countries\n",
    "    df['Country/Region'] = df['Country/Region'].replace(mapping['replace.country'])\n",
    "    return df"
   ]
  },
  {
   "cell_type": "code",
   "execution_count": 8,
   "id": "affiliated-characterization",
   "metadata": {
    "execution": {
     "iopub.execute_input": "2021-03-05T12:07:11.127382Z",
     "iopub.status.busy": "2021-03-05T12:07:11.126840Z",
     "iopub.status.idle": "2021-03-05T12:07:11.128714Z",
     "shell.execute_reply": "2021-03-05T12:07:11.129135Z"
    },
    "papermill": {
     "duration": 0.036059,
     "end_time": "2021-03-05T12:07:11.129265",
     "exception": false,
     "start_time": "2021-03-05T12:07:11.093206",
     "status": "completed"
    },
    "tags": []
   },
   "outputs": [],
   "source": [
    "#hide\n",
    "def get_dates(df):\n",
    "    dt_cols = df.columns[~df.columns.isin(['Province/State', 'Country/Region', 'Lat', 'Long'])]\n",
    "    LAST_DATE_I = -1\n",
    "    # sometimes last column may be empty, then go backwards\n",
    "    for i in range(-1, -len(dt_cols), -1):\n",
    "        if not df[dt_cols[i]].fillna(0).eq(0).all():\n",
    "            LAST_DATE_I = i\n",
    "            break\n",
    "    return LAST_DATE_I, dt_cols"
   ]
  },
  {
   "cell_type": "code",
   "execution_count": 9,
   "id": "recent-optimization",
   "metadata": {
    "execution": {
     "iopub.execute_input": "2021-03-05T12:07:11.191737Z",
     "iopub.status.busy": "2021-03-05T12:07:11.191168Z",
     "iopub.status.idle": "2021-03-05T12:07:11.528519Z",
     "shell.execute_reply": "2021-03-05T12:07:11.527795Z"
    },
    "papermill": {
     "duration": 0.369889,
     "end_time": "2021-03-05T12:07:11.528636",
     "exception": false,
     "start_time": "2021-03-05T12:07:11.158747",
     "status": "completed"
    },
    "tags": []
   },
   "outputs": [],
   "source": [
    "#hide\n",
    "COL_REGION = 'Country/Region'\n",
    "# Confirmed, Recovered, Deaths\n",
    "df = get_frame('confirmed')\n",
    "# dft_: timeseries, dfc_: today country agg\n",
    "dft_cases = df\n",
    "dft_deaths = get_frame('deaths')\n",
    "dft_recovered = get_frame('recovered')\n",
    "LAST_DATE_I, dt_cols = get_dates(df)"
   ]
  },
  {
   "cell_type": "code",
   "execution_count": 10,
   "id": "absolute-copper",
   "metadata": {
    "execution": {
     "iopub.execute_input": "2021-03-05T12:07:11.592404Z",
     "iopub.status.busy": "2021-03-05T12:07:11.591870Z",
     "iopub.status.idle": "2021-03-05T12:07:11.593791Z",
     "shell.execute_reply": "2021-03-05T12:07:11.594201Z"
    },
    "papermill": {
     "duration": 0.035774,
     "end_time": "2021-03-05T12:07:11.594317",
     "exception": false,
     "start_time": "2021-03-05T12:07:11.558543",
     "status": "completed"
    },
    "tags": []
   },
   "outputs": [],
   "source": [
    "#hide\n",
    "LAST_DATE_I, dt_cols = get_dates(df)\n",
    "dt_today =dt_cols[LAST_DATE_I]\n",
    "# dt_5day = dt_cols[LAST_DATE_I - 5]\n",
    "dt_yday = dt_cols[LAST_DATE_I - 1]"
   ]
  },
  {
   "cell_type": "code",
   "execution_count": 11,
   "id": "restricted-sheriff",
   "metadata": {
    "execution": {
     "iopub.execute_input": "2021-03-05T12:07:11.658408Z",
     "iopub.status.busy": "2021-03-05T12:07:11.657876Z",
     "iopub.status.idle": "2021-03-05T12:07:11.665084Z",
     "shell.execute_reply": "2021-03-05T12:07:11.665601Z"
    },
    "papermill": {
     "duration": 0.042163,
     "end_time": "2021-03-05T12:07:11.665715",
     "exception": false,
     "start_time": "2021-03-05T12:07:11.623552",
     "status": "completed"
    },
    "tags": []
   },
   "outputs": [],
   "source": [
    "#hide\n",
    "dfc_cases = dft_cases.groupby(COL_REGION)[dt_today].sum()\n",
    "dfc_deaths = dft_deaths.groupby(COL_REGION)[dt_today].sum()\n",
    "# dfp_cases = dft_cases.groupby(COL_REGION)[dt_5day].sum()\n",
    "# dfp_deaths = dft_deaths.groupby(COL_REGION)[dt_5day].sum()\n",
    "dfp_cases = dft_cases.groupby(COL_REGION)[dt_yday].sum()\n",
    "dfp_deaths = dft_deaths.groupby(COL_REGION)[dt_yday].sum()"
   ]
  },
  {
   "cell_type": "code",
   "execution_count": 12,
   "id": "deluxe-hepatitis",
   "metadata": {
    "execution": {
     "iopub.execute_input": "2021-03-05T12:07:11.729227Z",
     "iopub.status.busy": "2021-03-05T12:07:11.728694Z",
     "iopub.status.idle": "2021-03-05T12:07:11.733100Z",
     "shell.execute_reply": "2021-03-05T12:07:11.733500Z"
    },
    "papermill": {
     "duration": 0.038726,
     "end_time": "2021-03-05T12:07:11.733620",
     "exception": false,
     "start_time": "2021-03-05T12:07:11.694894",
     "status": "completed"
    },
    "tags": []
   },
   "outputs": [],
   "source": [
    "#hide\n",
    "df_table = (pd.DataFrame(dict(Cases = dfc_cases, Deaths = dfc_deaths, PCases = dfp_cases, PDeaths = dfp_deaths))\n",
    "            .sort_values(by = ['Cases','Deaths'], ascending = [False, False])\n",
    "            .reset_index())"
   ]
  },
  {
   "cell_type": "code",
   "execution_count": 13,
   "id": "educational-chancellor",
   "metadata": {
    "execution": {
     "iopub.execute_input": "2021-03-05T12:07:11.810125Z",
     "iopub.status.busy": "2021-03-05T12:07:11.809479Z",
     "iopub.status.idle": "2021-03-05T12:07:11.816842Z",
     "shell.execute_reply": "2021-03-05T12:07:11.816405Z"
    },
    "papermill": {
     "duration": 0.054437,
     "end_time": "2021-03-05T12:07:11.816942",
     "exception": false,
     "start_time": "2021-03-05T12:07:11.762505",
     "status": "completed"
    },
    "tags": []
   },
   "outputs": [
    {
     "data": {
      "text/html": [
       "<div>\n",
       "<style scoped>\n",
       "    .dataframe tbody tr th:only-of-type {\n",
       "        vertical-align: middle;\n",
       "    }\n",
       "\n",
       "    .dataframe tbody tr th {\n",
       "        vertical-align: top;\n",
       "    }\n",
       "\n",
       "    .dataframe thead th {\n",
       "        text-align: right;\n",
       "    }\n",
       "</style>\n",
       "<table border=\"1\" class=\"dataframe\">\n",
       "  <thead>\n",
       "    <tr style=\"text-align: right;\">\n",
       "      <th></th>\n",
       "      <th>Country/Region</th>\n",
       "      <th>Cases</th>\n",
       "      <th>Deaths</th>\n",
       "      <th>PCases</th>\n",
       "      <th>PDeaths</th>\n",
       "      <th>Cases (+)</th>\n",
       "      <th>Deaths (+)</th>\n",
       "      <th>Fatality Rate</th>\n",
       "      <th>Continent</th>\n",
       "    </tr>\n",
       "  </thead>\n",
       "  <tbody>\n",
       "    <tr>\n",
       "      <th>0</th>\n",
       "      <td>US</td>\n",
       "      <td>28827144</td>\n",
       "      <td>520356</td>\n",
       "      <td>28759980</td>\n",
       "      <td>518453</td>\n",
       "      <td>67164</td>\n",
       "      <td>1903</td>\n",
       "      <td>1.81</td>\n",
       "      <td>North America</td>\n",
       "    </tr>\n",
       "    <tr>\n",
       "      <th>1</th>\n",
       "      <td>India</td>\n",
       "      <td>11173761</td>\n",
       "      <td>157548</td>\n",
       "      <td>11156923</td>\n",
       "      <td>157435</td>\n",
       "      <td>16838</td>\n",
       "      <td>113</td>\n",
       "      <td>1.41</td>\n",
       "      <td>Asia</td>\n",
       "    </tr>\n",
       "    <tr>\n",
       "      <th>2</th>\n",
       "      <td>Brazil</td>\n",
       "      <td>10793732</td>\n",
       "      <td>260970</td>\n",
       "      <td>10718630</td>\n",
       "      <td>259271</td>\n",
       "      <td>75102</td>\n",
       "      <td>1699</td>\n",
       "      <td>2.42</td>\n",
       "      <td>South America</td>\n",
       "    </tr>\n",
       "    <tr>\n",
       "      <th>3</th>\n",
       "      <td>Russia</td>\n",
       "      <td>4241970</td>\n",
       "      <td>86368</td>\n",
       "      <td>4230707</td>\n",
       "      <td>85901</td>\n",
       "      <td>11263</td>\n",
       "      <td>467</td>\n",
       "      <td>2.04</td>\n",
       "      <td>Europe</td>\n",
       "    </tr>\n",
       "    <tr>\n",
       "      <th>4</th>\n",
       "      <td>United Kingdom</td>\n",
       "      <td>4213764</td>\n",
       "      <td>124259</td>\n",
       "      <td>4207120</td>\n",
       "      <td>124017</td>\n",
       "      <td>6644</td>\n",
       "      <td>242</td>\n",
       "      <td>2.95</td>\n",
       "      <td>Europe</td>\n",
       "    </tr>\n",
       "  </tbody>\n",
       "</table>\n",
       "</div>"
      ],
      "text/plain": [
       "   Country/Region     Cases  Deaths    PCases  PDeaths  Cases (+)  Deaths (+)  \\\n",
       "0              US  28827144  520356  28759980   518453      67164        1903   \n",
       "1           India  11173761  157548  11156923   157435      16838         113   \n",
       "2          Brazil  10793732  260970  10718630   259271      75102        1699   \n",
       "3          Russia   4241970   86368   4230707    85901      11263         467   \n",
       "4  United Kingdom   4213764  124259   4207120   124017       6644         242   \n",
       "\n",
       "   Fatality Rate      Continent  \n",
       "0           1.81  North America  \n",
       "1           1.41           Asia  \n",
       "2           2.42  South America  \n",
       "3           2.04         Europe  \n",
       "4           2.95         Europe  "
      ]
     },
     "execution_count": 13,
     "metadata": {},
     "output_type": "execute_result"
    }
   ],
   "source": [
    "#hide\n",
    "for c in 'Cases, Deaths'.split(', '):\n",
    "    df_table[f'{c} (+)'] = (df_table[c] - df_table[f'P{c}']).clip(0)\n",
    "    #Clip ça veut dire, les chiffres negatif sont interdit\n",
    "df_table['Fatality Rate'] = (100* df_table['Deaths']/ df_table['Cases']).round(2)\n",
    "df_table['Continent'] = df_table['Country/Region'].map(mapping['map.continent'])\n",
    "df_table.head(5)"
   ]
  },
  {
   "cell_type": "code",
   "execution_count": 14,
   "id": "aboriginal-bulgaria",
   "metadata": {
    "execution": {
     "iopub.execute_input": "2021-03-05T12:07:11.878987Z",
     "iopub.status.busy": "2021-03-05T12:07:11.878474Z",
     "iopub.status.idle": "2021-03-05T12:07:11.880948Z",
     "shell.execute_reply": "2021-03-05T12:07:11.881441Z"
    },
    "papermill": {
     "duration": 0.035582,
     "end_time": "2021-03-05T12:07:11.881551",
     "exception": false,
     "start_time": "2021-03-05T12:07:11.845969",
     "status": "completed"
    },
    "tags": []
   },
   "outputs": [],
   "source": [
    "#hide\n",
    "#delete problematic countries from table\n",
    "df_table = df_table[~df_table['Country/Region'].isin(['Cape Verde', 'Cruise Ship', 'Kosovo'])]"
   ]
  },
  {
   "cell_type": "code",
   "execution_count": 15,
   "id": "fantastic-effect",
   "metadata": {
    "execution": {
     "iopub.execute_input": "2021-03-05T12:07:11.948258Z",
     "iopub.status.busy": "2021-03-05T12:07:11.947667Z",
     "iopub.status.idle": "2021-03-05T12:07:11.965982Z",
     "shell.execute_reply": "2021-03-05T12:07:11.965318Z"
    },
    "papermill": {
     "duration": 0.054505,
     "end_time": "2021-03-05T12:07:11.966087",
     "exception": false,
     "start_time": "2021-03-05T12:07:11.911582",
     "status": "completed"
    },
    "tags": []
   },
   "outputs": [
    {
     "data": {
      "text/html": [
       "<div>\n",
       "<style scoped>\n",
       "    .dataframe tbody tr th:only-of-type {\n",
       "        vertical-align: middle;\n",
       "    }\n",
       "\n",
       "    .dataframe tbody tr th {\n",
       "        vertical-align: top;\n",
       "    }\n",
       "\n",
       "    .dataframe thead th {\n",
       "        text-align: right;\n",
       "    }\n",
       "</style>\n",
       "<table border=\"1\" class=\"dataframe\">\n",
       "  <thead>\n",
       "    <tr style=\"text-align: right;\">\n",
       "      <th></th>\n",
       "      <th>Country/Region</th>\n",
       "      <th>Cases</th>\n",
       "      <th>Deaths</th>\n",
       "      <th>PCases</th>\n",
       "      <th>PDeaths</th>\n",
       "      <th>Cases (+)</th>\n",
       "      <th>Deaths (+)</th>\n",
       "      <th>Fatality Rate</th>\n",
       "      <th>Continent</th>\n",
       "    </tr>\n",
       "  </thead>\n",
       "  <tbody>\n",
       "    <tr>\n",
       "      <th>0</th>\n",
       "      <td>US</td>\n",
       "      <td>28827144</td>\n",
       "      <td>520356</td>\n",
       "      <td>28759980</td>\n",
       "      <td>518453</td>\n",
       "      <td>67164</td>\n",
       "      <td>1903</td>\n",
       "      <td>1.8</td>\n",
       "      <td>North America</td>\n",
       "    </tr>\n",
       "    <tr>\n",
       "      <th>1</th>\n",
       "      <td>India</td>\n",
       "      <td>11173761</td>\n",
       "      <td>157548</td>\n",
       "      <td>11156923</td>\n",
       "      <td>157435</td>\n",
       "      <td>16838</td>\n",
       "      <td>113</td>\n",
       "      <td>1.4</td>\n",
       "      <td>Asia</td>\n",
       "    </tr>\n",
       "    <tr>\n",
       "      <th>2</th>\n",
       "      <td>Brazil</td>\n",
       "      <td>10793732</td>\n",
       "      <td>260970</td>\n",
       "      <td>10718630</td>\n",
       "      <td>259271</td>\n",
       "      <td>75102</td>\n",
       "      <td>1699</td>\n",
       "      <td>2.4</td>\n",
       "      <td>South America</td>\n",
       "    </tr>\n",
       "    <tr>\n",
       "      <th>3</th>\n",
       "      <td>Russia</td>\n",
       "      <td>4241970</td>\n",
       "      <td>86368</td>\n",
       "      <td>4230707</td>\n",
       "      <td>85901</td>\n",
       "      <td>11263</td>\n",
       "      <td>467</td>\n",
       "      <td>2.0</td>\n",
       "      <td>Europe</td>\n",
       "    </tr>\n",
       "    <tr>\n",
       "      <th>4</th>\n",
       "      <td>United Kingdom</td>\n",
       "      <td>4213764</td>\n",
       "      <td>124259</td>\n",
       "      <td>4207120</td>\n",
       "      <td>124017</td>\n",
       "      <td>6644</td>\n",
       "      <td>242</td>\n",
       "      <td>2.9</td>\n",
       "      <td>Europe</td>\n",
       "    </tr>\n",
       "  </tbody>\n",
       "</table>\n",
       "</div>"
      ],
      "text/plain": [
       "   Country/Region     Cases  Deaths    PCases  PDeaths  Cases (+)  Deaths (+)  \\\n",
       "0              US  28827144  520356  28759980   518453      67164        1903   \n",
       "1           India  11173761  157548  11156923   157435      16838         113   \n",
       "2          Brazil  10793732  260970  10718630   259271      75102        1699   \n",
       "3          Russia   4241970   86368   4230707    85901      11263         467   \n",
       "4  United Kingdom   4213764  124259   4207120   124017       6644         242   \n",
       "\n",
       "   Fatality Rate      Continent  \n",
       "0            1.8  North America  \n",
       "1            1.4           Asia  \n",
       "2            2.4  South America  \n",
       "3            2.0         Europe  \n",
       "4            2.9         Europe  "
      ]
     },
     "execution_count": 15,
     "metadata": {},
     "output_type": "execute_result"
    }
   ],
   "source": [
    "#hide\n",
    "df_table = (pd.DataFrame(dict(Cases=dfc_cases, Deaths=dfc_deaths, PCases=dfp_cases, PDeaths=dfp_deaths))\n",
    "             .sort_values(by=['Cases', 'Deaths'], ascending=[False, False])\n",
    "             .reset_index())\n",
    "df_table.rename(columns={'index': 'Country/Region'}, inplace=True)\n",
    "for c in 'Cases, Deaths'.split(', '):\n",
    "    df_table[f'{c} (+)'] = (df_table[c] - df_table[f'P{c}']).clip(0)  # DATA BUG\n",
    "df_table['Fatality Rate'] = (100 * df_table['Deaths'] / df_table['Cases']).round(1)\n",
    "df_table['Continent'] = df_table['Country/Region'].map(mapping['map.continent'])\n",
    "df_table.head(5)"
   ]
  },
  {
   "cell_type": "code",
   "execution_count": 16,
   "id": "fewer-occasion",
   "metadata": {
    "execution": {
     "iopub.execute_input": "2021-03-05T12:07:12.029602Z",
     "iopub.status.busy": "2021-03-05T12:07:12.029092Z",
     "iopub.status.idle": "2021-03-05T12:07:12.031081Z",
     "shell.execute_reply": "2021-03-05T12:07:12.031594Z"
    },
    "papermill": {
     "duration": 0.036207,
     "end_time": "2021-03-05T12:07:12.031707",
     "exception": false,
     "start_time": "2021-03-05T12:07:11.995500",
     "status": "completed"
    },
    "tags": []
   },
   "outputs": [],
   "source": [
    "#hide\n",
    "#delete problematic countries from table\n",
    "df_table = df_table[~df_table['Country/Region'].isin(['Cape Verde', 'Cruise Ship', 'Kosovo'])]"
   ]
  },
  {
   "cell_type": "code",
   "execution_count": 17,
   "id": "related-center",
   "metadata": {
    "execution": {
     "iopub.execute_input": "2021-03-05T12:07:12.108811Z",
     "iopub.status.busy": "2021-03-05T12:07:12.108271Z",
     "iopub.status.idle": "2021-03-05T12:07:12.110616Z",
     "shell.execute_reply": "2021-03-05T12:07:12.110040Z"
    },
    "papermill": {
     "duration": 0.048573,
     "end_time": "2021-03-05T12:07:12.110726",
     "exception": false,
     "start_time": "2021-03-05T12:07:12.062153",
     "status": "completed"
    },
    "tags": []
   },
   "outputs": [],
   "source": [
    "#hide\n",
    "metrics = [df_table.columns[index] for index in [1,2,5,6]]\n",
    "# s_china = df_table[df_table['Country/Region'].eq('China')][metrics].sum().add_prefix('China ')\n",
    "s_us = df_table[df_table['Country/Region'].eq('US')][metrics].sum().add_prefix('US ')\n",
    "s_eu = df_table[df_table['Continent'].eq('Europe')][metrics].sum().add_prefix('EU ')\n",
    "s_ind = df_table[df_table['Country/Region'].eq('India')][metrics].sum().add_prefix('India ')\n",
    "summary = {'updated': pd.to_datetime(dt_today), 'since': pd.to_datetime(dt_yday)}\n",
    "summary = {'updated': pd.to_datetime(dt_today), 'since': pd.to_datetime(dt_yday)}\n",
    "summary = {**summary, **df_table[metrics].sum(), **s_ind, **s_us, **s_eu}"
   ]
  },
  {
   "cell_type": "code",
   "execution_count": 18,
   "id": "engaging-syndrome",
   "metadata": {
    "execution": {
     "iopub.execute_input": "2021-03-05T12:07:12.176943Z",
     "iopub.status.busy": "2021-03-05T12:07:12.176409Z",
     "iopub.status.idle": "2021-03-05T12:07:12.186072Z",
     "shell.execute_reply": "2021-03-05T12:07:12.186532Z"
    },
    "papermill": {
     "duration": 0.045564,
     "end_time": "2021-03-05T12:07:12.186649",
     "exception": false,
     "start_time": "2021-03-05T12:07:12.141085",
     "status": "completed"
    },
    "tags": []
   },
   "outputs": [],
   "source": [
    "#hide\n",
    "dft_ct_new_cases = dft_cases.groupby(COL_REGION)[dt_cols].sum().diff(axis=1).fillna(0).astype(int)"
   ]
  },
  {
   "cell_type": "code",
   "execution_count": 19,
   "id": "neutral-assignment",
   "metadata": {
    "execution": {
     "iopub.execute_input": "2021-03-05T12:07:12.254295Z",
     "iopub.status.busy": "2021-03-05T12:07:12.253673Z",
     "iopub.status.idle": "2021-03-05T12:07:12.255670Z",
     "shell.execute_reply": "2021-03-05T12:07:12.256365Z"
    },
    "papermill": {
     "duration": 0.038774,
     "end_time": "2021-03-05T12:07:12.256516",
     "exception": false,
     "start_time": "2021-03-05T12:07:12.217742",
     "status": "completed"
    },
    "tags": []
   },
   "outputs": [],
   "source": [
    "#hide\n",
    "everydaycases = dft_ct_new_cases.cumsum(axis=1)"
   ]
  },
  {
   "cell_type": "code",
   "execution_count": 20,
   "id": "parliamentary-calgary",
   "metadata": {
    "execution": {
     "iopub.execute_input": "2021-03-05T12:07:12.329430Z",
     "iopub.status.busy": "2021-03-05T12:07:12.328845Z",
     "iopub.status.idle": "2021-03-05T12:07:14.509405Z",
     "shell.execute_reply": "2021-03-05T12:07:14.508555Z"
    },
    "papermill": {
     "duration": 2.218806,
     "end_time": "2021-03-05T12:07:14.509532",
     "exception": false,
     "start_time": "2021-03-05T12:07:12.290726",
     "status": "completed"
    },
    "tags": []
   },
   "outputs": [],
   "source": [
    "#hide\n",
    "import pandas as pd\n",
    "import matplotlib.pyplot as plt\n",
    "import matplotlib.ticker as ticker\n",
    "import matplotlib.animation as animation\n",
    "from IPython.display import HTML"
   ]
  },
  {
   "cell_type": "code",
   "execution_count": 21,
   "id": "lasting-extraction",
   "metadata": {
    "execution": {
     "iopub.execute_input": "2021-03-05T12:07:14.574927Z",
     "iopub.status.busy": "2021-03-05T12:07:14.573922Z",
     "iopub.status.idle": "2021-03-05T12:07:14.578958Z",
     "shell.execute_reply": "2021-03-05T12:07:14.578485Z"
    },
    "papermill": {
     "duration": 0.038912,
     "end_time": "2021-03-05T12:07:14.579068",
     "exception": false,
     "start_time": "2021-03-05T12:07:14.540156",
     "status": "completed"
    },
    "tags": []
   },
   "outputs": [],
   "source": [
    "#hide\n",
    "t = everydaycases.stack()"
   ]
  },
  {
   "cell_type": "code",
   "execution_count": 22,
   "id": "premier-sleeve",
   "metadata": {
    "execution": {
     "iopub.execute_input": "2021-03-05T12:07:14.645247Z",
     "iopub.status.busy": "2021-03-05T12:07:14.644688Z",
     "iopub.status.idle": "2021-03-05T12:07:14.650410Z",
     "shell.execute_reply": "2021-03-05T12:07:14.650935Z"
    },
    "papermill": {
     "duration": 0.040494,
     "end_time": "2021-03-05T12:07:14.651051",
     "exception": false,
     "start_time": "2021-03-05T12:07:14.610557",
     "status": "completed"
    },
    "tags": []
   },
   "outputs": [],
   "source": [
    "#hide\n",
    "g = t.reset_index(['Country/Region'])"
   ]
  },
  {
   "cell_type": "code",
   "execution_count": 23,
   "id": "distributed-pittsburgh",
   "metadata": {
    "execution": {
     "iopub.execute_input": "2021-03-05T12:07:14.722141Z",
     "iopub.status.busy": "2021-03-05T12:07:14.721474Z",
     "iopub.status.idle": "2021-03-05T12:07:14.723615Z",
     "shell.execute_reply": "2021-03-05T12:07:14.723051Z"
    },
    "papermill": {
     "duration": 0.036726,
     "end_time": "2021-03-05T12:07:14.723723",
     "exception": false,
     "start_time": "2021-03-05T12:07:14.686997",
     "status": "completed"
    },
    "tags": []
   },
   "outputs": [],
   "source": [
    "#hide\n",
    "g.index.name = 'date'"
   ]
  },
  {
   "cell_type": "code",
   "execution_count": 24,
   "id": "naked-donor",
   "metadata": {
    "execution": {
     "iopub.execute_input": "2021-03-05T12:07:14.789230Z",
     "iopub.status.busy": "2021-03-05T12:07:14.788704Z",
     "iopub.status.idle": "2021-03-05T12:07:14.790622Z",
     "shell.execute_reply": "2021-03-05T12:07:14.791099Z"
    },
    "papermill": {
     "duration": 0.036784,
     "end_time": "2021-03-05T12:07:14.791235",
     "exception": false,
     "start_time": "2021-03-05T12:07:14.754451",
     "status": "completed"
    },
    "tags": []
   },
   "outputs": [],
   "source": [
    "# #hide\n",
    "# g = g.reset_index(['date'])"
   ]
  },
  {
   "cell_type": "code",
   "execution_count": 25,
   "id": "incomplete-mustang",
   "metadata": {
    "execution": {
     "iopub.execute_input": "2021-03-05T12:07:14.857983Z",
     "iopub.status.busy": "2021-03-05T12:07:14.857457Z",
     "iopub.status.idle": "2021-03-05T12:07:14.859725Z",
     "shell.execute_reply": "2021-03-05T12:07:14.859260Z"
    },
    "papermill": {
     "duration": 0.038575,
     "end_time": "2021-03-05T12:07:14.859827",
     "exception": false,
     "start_time": "2021-03-05T12:07:14.821252",
     "status": "completed"
    },
    "tags": []
   },
   "outputs": [],
   "source": [
    "#hide\n",
    "# g.head()"
   ]
  },
  {
   "cell_type": "code",
   "execution_count": 26,
   "id": "specific-kruger",
   "metadata": {
    "execution": {
     "iopub.execute_input": "2021-03-05T12:07:14.925227Z",
     "iopub.status.busy": "2021-03-05T12:07:14.924705Z",
     "iopub.status.idle": "2021-03-05T12:07:14.926431Z",
     "shell.execute_reply": "2021-03-05T12:07:14.926931Z"
    },
    "papermill": {
     "duration": 0.03604,
     "end_time": "2021-03-05T12:07:14.927043",
     "exception": false,
     "start_time": "2021-03-05T12:07:14.891003",
     "status": "completed"
    },
    "tags": []
   },
   "outputs": [],
   "source": [
    "#hide\n",
    "# g.columns = ['date','country','cases']"
   ]
  },
  {
   "cell_type": "code",
   "execution_count": 27,
   "id": "tender-conversion",
   "metadata": {
    "execution": {
     "iopub.execute_input": "2021-03-05T12:07:14.990726Z",
     "iopub.status.busy": "2021-03-05T12:07:14.990205Z",
     "iopub.status.idle": "2021-03-05T12:07:14.992001Z",
     "shell.execute_reply": "2021-03-05T12:07:14.992496Z"
    },
    "papermill": {
     "duration": 0.035467,
     "end_time": "2021-03-05T12:07:14.992611",
     "exception": false,
     "start_time": "2021-03-05T12:07:14.957144",
     "status": "completed"
    },
    "tags": []
   },
   "outputs": [],
   "source": [
    "#hide\n",
    "# g['continent'] = g.country"
   ]
  },
  {
   "cell_type": "code",
   "execution_count": 28,
   "id": "substantial-wilderness",
   "metadata": {
    "execution": {
     "iopub.execute_input": "2021-03-05T12:07:15.064278Z",
     "iopub.status.busy": "2021-03-05T12:07:15.063756Z",
     "iopub.status.idle": "2021-03-05T12:07:15.065603Z",
     "shell.execute_reply": "2021-03-05T12:07:15.066056Z"
    },
    "papermill": {
     "duration": 0.04369,
     "end_time": "2021-03-05T12:07:15.066170",
     "exception": false,
     "start_time": "2021-03-05T12:07:15.022480",
     "status": "completed"
    },
    "tags": []
   },
   "outputs": [],
   "source": [
    "#hide\n",
    "# cols = list(g.columns.values)"
   ]
  },
  {
   "cell_type": "code",
   "execution_count": 29,
   "id": "solved-farming",
   "metadata": {
    "execution": {
     "iopub.execute_input": "2021-03-05T12:07:15.129580Z",
     "iopub.status.busy": "2021-03-05T12:07:15.129014Z",
     "iopub.status.idle": "2021-03-05T12:07:15.132576Z",
     "shell.execute_reply": "2021-03-05T12:07:15.132130Z"
    },
    "papermill": {
     "duration": 0.036514,
     "end_time": "2021-03-05T12:07:15.132678",
     "exception": false,
     "start_time": "2021-03-05T12:07:15.096164",
     "status": "completed"
    },
    "tags": []
   },
   "outputs": [],
   "source": [
    "#hide\n",
    "# cols.insert(0, cols.pop())"
   ]
  },
  {
   "cell_type": "code",
   "execution_count": 30,
   "id": "executed-adoption",
   "metadata": {
    "execution": {
     "iopub.execute_input": "2021-03-05T12:07:15.197486Z",
     "iopub.status.busy": "2021-03-05T12:07:15.196933Z",
     "iopub.status.idle": "2021-03-05T12:07:15.198794Z",
     "shell.execute_reply": "2021-03-05T12:07:15.199197Z"
    },
    "papermill": {
     "duration": 0.036439,
     "end_time": "2021-03-05T12:07:15.199336",
     "exception": false,
     "start_time": "2021-03-05T12:07:15.162897",
     "status": "completed"
    },
    "tags": []
   },
   "outputs": [],
   "source": [
    "#hide\n",
    "# g = g[cols]"
   ]
  },
  {
   "cell_type": "code",
   "execution_count": 31,
   "id": "subject-dublin",
   "metadata": {
    "execution": {
     "iopub.execute_input": "2021-03-05T12:07:15.263430Z",
     "iopub.status.busy": "2021-03-05T12:07:15.262871Z",
     "iopub.status.idle": "2021-03-05T12:07:15.264787Z",
     "shell.execute_reply": "2021-03-05T12:07:15.264345Z"
    },
    "papermill": {
     "duration": 0.035609,
     "end_time": "2021-03-05T12:07:15.264889",
     "exception": false,
     "start_time": "2021-03-05T12:07:15.229280",
     "status": "completed"
    },
    "tags": []
   },
   "outputs": [],
   "source": [
    "#hide\n",
    "# g['continent'] = g['continent'].map(mapping['map.continent'])"
   ]
  },
  {
   "cell_type": "code",
   "execution_count": 32,
   "id": "freelance-scout",
   "metadata": {
    "execution": {
     "iopub.execute_input": "2021-03-05T12:07:15.328583Z",
     "iopub.status.busy": "2021-03-05T12:07:15.327841Z",
     "iopub.status.idle": "2021-03-05T12:07:15.330184Z",
     "shell.execute_reply": "2021-03-05T12:07:15.329731Z"
    },
    "papermill": {
     "duration": 0.035746,
     "end_time": "2021-03-05T12:07:15.330288",
     "exception": false,
     "start_time": "2021-03-05T12:07:15.294542",
     "status": "completed"
    },
    "tags": []
   },
   "outputs": [],
   "source": [
    "#hide\n",
    "# g.head()"
   ]
  },
  {
   "cell_type": "code",
   "execution_count": 33,
   "id": "limited-engine",
   "metadata": {
    "execution": {
     "iopub.execute_input": "2021-03-05T12:07:15.394524Z",
     "iopub.status.busy": "2021-03-05T12:07:15.394003Z",
     "iopub.status.idle": "2021-03-05T12:07:15.396339Z",
     "shell.execute_reply": "2021-03-05T12:07:15.395893Z"
    },
    "papermill": {
     "duration": 0.035246,
     "end_time": "2021-03-05T12:07:15.396441",
     "exception": false,
     "start_time": "2021-03-05T12:07:15.361195",
     "status": "completed"
    },
    "tags": []
   },
   "outputs": [],
   "source": [
    "# hide\n",
    "# g['date'] = g['date'].astype('datetime64[ns]')"
   ]
  },
  {
   "cell_type": "code",
   "execution_count": 34,
   "id": "sophisticated-supervisor",
   "metadata": {
    "execution": {
     "iopub.execute_input": "2021-03-05T12:07:15.460108Z",
     "iopub.status.busy": "2021-03-05T12:07:15.459582Z",
     "iopub.status.idle": "2021-03-05T12:07:15.461334Z",
     "shell.execute_reply": "2021-03-05T12:07:15.461788Z"
    },
    "papermill": {
     "duration": 0.034968,
     "end_time": "2021-03-05T12:07:15.461901",
     "exception": false,
     "start_time": "2021-03-05T12:07:15.426933",
     "status": "completed"
    },
    "tags": []
   },
   "outputs": [],
   "source": [
    "#hide\n",
    "# g['date'] = g.date.dt.dayofyear"
   ]
  },
  {
   "cell_type": "code",
   "execution_count": 35,
   "id": "inside-dubai",
   "metadata": {
    "execution": {
     "iopub.execute_input": "2021-03-05T12:07:15.527936Z",
     "iopub.status.busy": "2021-03-05T12:07:15.527204Z",
     "iopub.status.idle": "2021-03-05T12:07:15.529542Z",
     "shell.execute_reply": "2021-03-05T12:07:15.529017Z"
    },
    "papermill": {
     "duration": 0.036764,
     "end_time": "2021-03-05T12:07:15.529645",
     "exception": false,
     "start_time": "2021-03-05T12:07:15.492881",
     "status": "completed"
    },
    "tags": []
   },
   "outputs": [],
   "source": [
    "#hide\n",
    "# g = g.rename(columns= {'continent':'group','country':'name','cases':'value'})"
   ]
  },
  {
   "cell_type": "code",
   "execution_count": 36,
   "id": "fleet-motorcycle",
   "metadata": {
    "execution": {
     "iopub.execute_input": "2021-03-05T12:07:15.594382Z",
     "iopub.status.busy": "2021-03-05T12:07:15.593831Z",
     "iopub.status.idle": "2021-03-05T12:07:15.595851Z",
     "shell.execute_reply": "2021-03-05T12:07:15.596245Z"
    },
    "papermill": {
     "duration": 0.037054,
     "end_time": "2021-03-05T12:07:15.596356",
     "exception": false,
     "start_time": "2021-03-05T12:07:15.559302",
     "status": "completed"
    },
    "tags": []
   },
   "outputs": [],
   "source": [
    "#hide\n",
    "# cols = ['name','group','day','value']"
   ]
  },
  {
   "cell_type": "code",
   "execution_count": 37,
   "id": "continued-sleeping",
   "metadata": {
    "execution": {
     "iopub.execute_input": "2021-03-05T12:07:15.657893Z",
     "iopub.status.busy": "2021-03-05T12:07:15.657375Z",
     "iopub.status.idle": "2021-03-05T12:07:15.659187Z",
     "shell.execute_reply": "2021-03-05T12:07:15.659627Z"
    },
    "papermill": {
     "duration": 0.033977,
     "end_time": "2021-03-05T12:07:15.659738",
     "exception": false,
     "start_time": "2021-03-05T12:07:15.625761",
     "status": "completed"
    },
    "tags": []
   },
   "outputs": [],
   "source": [
    "#hide\n",
    "# g.rename(columns= {'date':'day'},inplace = True)"
   ]
  },
  {
   "cell_type": "code",
   "execution_count": 38,
   "id": "major-fight",
   "metadata": {
    "execution": {
     "iopub.execute_input": "2021-03-05T12:07:15.721683Z",
     "iopub.status.busy": "2021-03-05T12:07:15.721172Z",
     "iopub.status.idle": "2021-03-05T12:07:15.722899Z",
     "shell.execute_reply": "2021-03-05T12:07:15.723402Z"
    },
    "papermill": {
     "duration": 0.034517,
     "end_time": "2021-03-05T12:07:15.723515",
     "exception": false,
     "start_time": "2021-03-05T12:07:15.688998",
     "status": "completed"
    },
    "tags": []
   },
   "outputs": [],
   "source": [
    "#hide\n",
    "# g = g[cols]"
   ]
  },
  {
   "cell_type": "code",
   "execution_count": 39,
   "id": "structured-mobile",
   "metadata": {
    "execution": {
     "iopub.execute_input": "2021-03-05T12:07:15.785672Z",
     "iopub.status.busy": "2021-03-05T12:07:15.785154Z",
     "iopub.status.idle": "2021-03-05T12:07:15.786891Z",
     "shell.execute_reply": "2021-03-05T12:07:15.787392Z"
    },
    "papermill": {
     "duration": 0.034158,
     "end_time": "2021-03-05T12:07:15.787503",
     "exception": false,
     "start_time": "2021-03-05T12:07:15.753345",
     "status": "completed"
    },
    "tags": []
   },
   "outputs": [],
   "source": [
    "# #hide\n",
    "# g = g[g.group.notna()]"
   ]
  },
  {
   "cell_type": "code",
   "execution_count": 40,
   "id": "determined-closing",
   "metadata": {
    "execution": {
     "iopub.execute_input": "2021-03-05T12:07:15.851677Z",
     "iopub.status.busy": "2021-03-05T12:07:15.851102Z",
     "iopub.status.idle": "2021-03-05T12:07:15.852824Z",
     "shell.execute_reply": "2021-03-05T12:07:15.853266Z"
    },
    "papermill": {
     "duration": 0.036293,
     "end_time": "2021-03-05T12:07:15.853375",
     "exception": false,
     "start_time": "2021-03-05T12:07:15.817082",
     "status": "completed"
    },
    "tags": []
   },
   "outputs": [],
   "source": [
    "# #hide\n",
    "# colors = dict(zip(\n",
    "#     [\"Oceania\", \"Europe\", \"Asia\", \"South America\", \"Middle East\", \"North America\", \"Africa\"],\n",
    "#     [\"#adb0ff\", \"#ffb3ff\", \"#90d595\", \"#e48381\", \"#aafbff\", \"#f7bb5f\", \"#eafb50\"]\n",
    "# ))\n",
    "# group_lk = g.set_index('name')['group'].to_dict()"
   ]
  },
  {
   "cell_type": "code",
   "execution_count": null,
   "id": "gross-drinking",
   "metadata": {
    "papermill": {
     "duration": 0.029467,
     "end_time": "2021-03-05T12:07:15.912899",
     "exception": false,
     "start_time": "2021-03-05T12:07:15.883432",
     "status": "completed"
    },
    "tags": []
   },
   "outputs": [],
   "source": []
  },
  {
   "cell_type": "code",
   "execution_count": 41,
   "id": "subject-macintosh",
   "metadata": {
    "execution": {
     "iopub.execute_input": "2021-03-05T12:07:15.975577Z",
     "iopub.status.busy": "2021-03-05T12:07:15.975018Z",
     "iopub.status.idle": "2021-03-05T12:07:15.976885Z",
     "shell.execute_reply": "2021-03-05T12:07:15.977331Z"
    },
    "papermill": {
     "duration": 0.035053,
     "end_time": "2021-03-05T12:07:15.977442",
     "exception": false,
     "start_time": "2021-03-05T12:07:15.942389",
     "status": "completed"
    },
    "tags": []
   },
   "outputs": [],
   "source": [
    "# #hide\n",
    "# fig, ax = plt.subplots(figsize=(15, 8))\n",
    "\n",
    "# def draw_barchart(current_day):\n",
    "#     dff = g[g['day'].eq(current_day)].sort_values(by='value', ascending=True).tail(10)\n",
    "#     ax.clear()\n",
    "#     ax.barh(dff['name'], dff['value'], color=[colors[group_lk[x]] for x in dff['name']])\n",
    "#     dx = dff['value'].max() / 200\n",
    "    \n",
    "#     for i, (value, name) in enumerate(zip(dff['value'], dff['name'])):\n",
    "#         ax.text(value-dx, i,     name,           size=14, weight=600, ha='right', va='bottom')\n",
    "#         ax.text(value-dx, i-.25, group_lk[name], size=10, color='#444444', ha='right', va='baseline')\n",
    "#         ax.text(value+dx, i,     f'{value:,.0f}',  size=14, ha='left',  va='center')\n",
    "#     ax.text(1, 0.4, current_day, transform=ax.transAxes, color='#777777', size=46, ha='right', weight=800)\n",
    "#     ax.text(0, 1.06, 'Population (thousands)', transform=ax.transAxes, size=12, color='#777777')\n",
    "#     ax.xaxis.set_major_formatter(ticker.StrMethodFormatter('{x:,.0f}'))\n",
    "#     ax.xaxis.set_ticks_position('top')\n",
    "#     ax.tick_params(axis='x', colors='#777777', labelsize=12)\n",
    "#     ax.set_yticks([])\n",
    "#     ax.margins(0, 0.01)\n",
    "#     ax.grid(which='major', axis='x', linestyle='-')\n",
    "#     ax.set_axisbelow(True)\n",
    "    \n",
    "#     ax.text(0, 1.15, 'Coronavirus',\n",
    "#             transform=ax.transAxes, size=24, weight=600, ha='left', va='top')\n",
    "# #     ax.text(1, 0, 'by @pratapvardhan; credit @jburnmurdoch', transform=ax.transAxes, color='#777777', ha='right',\n",
    "# #             bbox=dict(facecolor='white', alpha=0.8, edgecolor='white'))\n",
    "#     plt.box(False)"
   ]
  },
  {
   "cell_type": "code",
   "execution_count": 42,
   "id": "sexual-wages",
   "metadata": {
    "execution": {
     "iopub.execute_input": "2021-03-05T12:07:16.039463Z",
     "iopub.status.busy": "2021-03-05T12:07:16.038914Z",
     "iopub.status.idle": "2021-03-05T12:07:16.040743Z",
     "shell.execute_reply": "2021-03-05T12:07:16.041161Z"
    },
    "papermill": {
     "duration": 0.034101,
     "end_time": "2021-03-05T12:07:16.041270",
     "exception": false,
     "start_time": "2021-03-05T12:07:16.007169",
     "status": "completed"
    },
    "tags": []
   },
   "outputs": [],
   "source": [
    "# #hide_input\n",
    "# fig, ax = plt.subplots(figsize=(15, 8))\n",
    "# animator = animation.FuncAnimation(fig, draw_barchart, frames=range(g.day.values.min(), g.day.values.max()))\n",
    "# HTML(animator.to_jshtml())\n",
    "# # or use animator.to_html5_video() or animator.save() "
   ]
  },
  {
   "cell_type": "code",
   "execution_count": null,
   "id": "australian-container",
   "metadata": {
    "papermill": {
     "duration": 0.030529,
     "end_time": "2021-03-05T12:07:16.101688",
     "exception": false,
     "start_time": "2021-03-05T12:07:16.071159",
     "status": "completed"
    },
    "tags": []
   },
   "outputs": [],
   "source": []
  },
  {
   "cell_type": "code",
   "execution_count": null,
   "id": "mediterranean-pontiac",
   "metadata": {
    "papermill": {
     "duration": 0.030137,
     "end_time": "2021-03-05T12:07:16.162078",
     "exception": false,
     "start_time": "2021-03-05T12:07:16.131941",
     "status": "completed"
    },
    "tags": []
   },
   "outputs": [],
   "source": []
  },
  {
   "cell_type": "code",
   "execution_count": null,
   "id": "aging-legislature",
   "metadata": {
    "papermill": {
     "duration": 0.029643,
     "end_time": "2021-03-05T12:07:16.221362",
     "exception": false,
     "start_time": "2021-03-05T12:07:16.191719",
     "status": "completed"
    },
    "tags": []
   },
   "outputs": [],
   "source": []
  }
 ],
 "metadata": {
  "kernelspec": {
   "display_name": "Python 3",
   "language": "python",
   "name": "python3"
  },
  "language_info": {
   "codemirror_mode": {
    "name": "ipython",
    "version": 3
   },
   "file_extension": ".py",
   "mimetype": "text/x-python",
   "name": "python",
   "nbconvert_exporter": "python",
   "pygments_lexer": "ipython3",
   "version": "3.6.13"
  },
  "papermill": {
   "duration": 7.558365,
   "end_time": "2021-03-05T12:07:16.556709",
   "environment_variables": {},
   "exception": null,
   "input_path": "2020-03-21-covid19exp.ipynb",
   "output_path": "2020-03-21-covid19exp.ipynb",
   "parameters": {},
   "start_time": "2021-03-05T12:07:08.998344",
   "version": "2.0.0"
  }
 },
 "nbformat": 4,
 "nbformat_minor": 5
}