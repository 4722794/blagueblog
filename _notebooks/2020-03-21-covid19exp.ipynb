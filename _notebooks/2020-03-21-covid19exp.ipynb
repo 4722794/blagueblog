{
 "cells": [
  {
   "cell_type": "markdown",
   "metadata": {
    "papermill": {
     "duration": 0.057477,
     "end_time": "2020-12-26T00:17:27.073353",
     "exception": false,
     "start_time": "2020-12-26T00:17:27.015876",
     "status": "completed"
    },
    "tags": []
   },
   "source": [
    "# COVID-19 Case Race\n",
    "> A race chart to see rising cases around the world\n",
    "\n",
    "- author: Hargun Oberoi\n",
    "- image: images/covid-overview.png\n",
    "- hide: false\n",
    "- badges: false"
   ]
  },
  {
   "cell_type": "code",
   "execution_count": 1,
   "metadata": {
    "execution": {
     "iopub.execute_input": "2020-12-26T00:17:27.180650Z",
     "iopub.status.busy": "2020-12-26T00:17:27.179862Z",
     "iopub.status.idle": "2020-12-26T00:17:27.571207Z",
     "shell.execute_reply": "2020-12-26T00:17:27.569422Z"
    },
    "papermill": {
     "duration": 0.452989,
     "end_time": "2020-12-26T00:17:27.571630",
     "exception": false,
     "start_time": "2020-12-26T00:17:27.118641",
     "status": "completed"
    },
    "tags": []
   },
   "outputs": [],
   "source": [
    "#hide\n",
    "import numpy as np\n",
    "import pandas as pd\n",
    "from jinja2 import Template\n",
    "from IPython.display import HTML"
   ]
  },
  {
   "cell_type": "code",
   "execution_count": 2,
   "metadata": {
    "execution": {
     "iopub.execute_input": "2020-12-26T00:17:27.654825Z",
     "iopub.status.busy": "2020-12-26T00:17:27.654121Z",
     "iopub.status.idle": "2020-12-26T00:17:27.656222Z",
     "shell.execute_reply": "2020-12-26T00:17:27.656804Z"
    },
    "papermill": {
     "duration": 0.046584,
     "end_time": "2020-12-26T00:17:27.656981",
     "exception": false,
     "start_time": "2020-12-26T00:17:27.610397",
     "status": "completed"
    },
    "tags": []
   },
   "outputs": [],
   "source": [
    "#hide\n",
    "\n",
    "# FETCH\n",
    "base_url = 'https://raw.githubusercontent.com/pratapvardhan/notebooks/master/covid19/'\n",
    "paths = {\n",
    "    'mapping': base_url + 'mapping_countries.csv',\n",
    "    'overview': base_url + 'overview.tpl'\n",
    "}"
   ]
  },
  {
   "cell_type": "code",
   "execution_count": 3,
   "metadata": {
    "execution": {
     "iopub.execute_input": "2020-12-26T00:17:27.741488Z",
     "iopub.status.busy": "2020-12-26T00:17:27.740796Z",
     "iopub.status.idle": "2020-12-26T00:17:27.744192Z",
     "shell.execute_reply": "2020-12-26T00:17:27.743499Z"
    },
    "papermill": {
     "duration": 0.049838,
     "end_time": "2020-12-26T00:17:27.744327",
     "exception": false,
     "start_time": "2020-12-26T00:17:27.694489",
     "status": "completed"
    },
    "tags": []
   },
   "outputs": [
    {
     "data": {
      "text/plain": [
       "'https://raw.githubusercontent.com/pratapvardhan/notebooks/master/covid19/mapping_countries.csv'"
      ]
     },
     "execution_count": 3,
     "metadata": {},
     "output_type": "execute_result"
    }
   ],
   "source": [
    "#hide\n",
    "paths['mapping']"
   ]
  },
  {
   "cell_type": "code",
   "execution_count": 4,
   "metadata": {
    "execution": {
     "iopub.execute_input": "2020-12-26T00:17:27.820040Z",
     "iopub.status.busy": "2020-12-26T00:17:27.819336Z",
     "iopub.status.idle": "2020-12-26T00:17:27.825013Z",
     "shell.execute_reply": "2020-12-26T00:17:27.825767Z"
    },
    "papermill": {
     "duration": 0.046216,
     "end_time": "2020-12-26T00:17:27.826014",
     "exception": false,
     "start_time": "2020-12-26T00:17:27.779798",
     "status": "completed"
    },
    "tags": []
   },
   "outputs": [],
   "source": [
    "#hide\n",
    "def get_mappings(url):\n",
    "    df = pd.read_csv(url)\n",
    "    return {\n",
    "        'df': df,\n",
    "        'replace.country': dict(df.dropna(subset=['Name']).set_index('Country')['Name']),\n",
    "        'map.continent': dict(df.set_index('Name')['Continent'])\n",
    "    }"
   ]
  },
  {
   "cell_type": "code",
   "execution_count": 5,
   "metadata": {
    "execution": {
     "iopub.execute_input": "2020-12-26T00:17:27.903362Z",
     "iopub.status.busy": "2020-12-26T00:17:27.902666Z",
     "iopub.status.idle": "2020-12-26T00:17:27.939480Z",
     "shell.execute_reply": "2020-12-26T00:17:27.940054Z"
    },
    "papermill": {
     "duration": 0.077469,
     "end_time": "2020-12-26T00:17:27.940234",
     "exception": false,
     "start_time": "2020-12-26T00:17:27.862765",
     "status": "completed"
    },
    "tags": []
   },
   "outputs": [],
   "source": [
    "#hide\n",
    "mapping = get_mappings(paths['mapping'])"
   ]
  },
  {
   "cell_type": "code",
   "execution_count": 6,
   "metadata": {
    "execution": {
     "iopub.execute_input": "2020-12-26T00:17:28.019063Z",
     "iopub.status.busy": "2020-12-26T00:17:28.018338Z",
     "iopub.status.idle": "2020-12-26T00:17:28.022188Z",
     "shell.execute_reply": "2020-12-26T00:17:28.021574Z"
    },
    "papermill": {
     "duration": 0.046134,
     "end_time": "2020-12-26T00:17:28.022344",
     "exception": false,
     "start_time": "2020-12-26T00:17:27.976210",
     "status": "completed"
    },
    "tags": []
   },
   "outputs": [],
   "source": [
    "#hide\n",
    "def get_template(path):\n",
    "    from urllib.parse import urlparse\n",
    "    if bool(urlparse(path).netloc):\n",
    "        from urllib.request import urlopen\n",
    "        return urlopen(path).read().decode('utf8')\n",
    "    return open(path).read()"
   ]
  },
  {
   "cell_type": "code",
   "execution_count": 7,
   "metadata": {
    "execution": {
     "iopub.execute_input": "2020-12-26T00:17:28.116492Z",
     "iopub.status.busy": "2020-12-26T00:17:28.115682Z",
     "iopub.status.idle": "2020-12-26T00:17:28.117866Z",
     "shell.execute_reply": "2020-12-26T00:17:28.118707Z"
    },
    "papermill": {
     "duration": 0.050139,
     "end_time": "2020-12-26T00:17:28.118943",
     "exception": false,
     "start_time": "2020-12-26T00:17:28.068804",
     "status": "completed"
    },
    "tags": []
   },
   "outputs": [],
   "source": [
    "#hide\n",
    "def get_frame(name):\n",
    "    url = (\n",
    "        'https://raw.githubusercontent.com/CSSEGISandData/COVID-19/master/csse_covid_19_data/'\n",
    "        f'csse_covid_19_time_series/time_series_covid19_{name}_global.csv')\n",
    "    df = pd.read_csv(url)\n",
    "    # rename countries\n",
    "    df['Country/Region'] = df['Country/Region'].replace(mapping['replace.country'])\n",
    "    return df"
   ]
  },
  {
   "cell_type": "code",
   "execution_count": 8,
   "metadata": {
    "execution": {
     "iopub.execute_input": "2020-12-26T00:17:28.199698Z",
     "iopub.status.busy": "2020-12-26T00:17:28.199031Z",
     "iopub.status.idle": "2020-12-26T00:17:28.201241Z",
     "shell.execute_reply": "2020-12-26T00:17:28.201871Z"
    },
    "papermill": {
     "duration": 0.043862,
     "end_time": "2020-12-26T00:17:28.202032",
     "exception": false,
     "start_time": "2020-12-26T00:17:28.158170",
     "status": "completed"
    },
    "tags": []
   },
   "outputs": [],
   "source": [
    "#hide\n",
    "def get_dates(df):\n",
    "    dt_cols = df.columns[~df.columns.isin(['Province/State', 'Country/Region', 'Lat', 'Long'])]\n",
    "    LAST_DATE_I = -1\n",
    "    # sometimes last column may be empty, then go backwards\n",
    "    for i in range(-1, -len(dt_cols), -1):\n",
    "        if not df[dt_cols[i]].fillna(0).eq(0).all():\n",
    "            LAST_DATE_I = i\n",
    "            break\n",
    "    return LAST_DATE_I, dt_cols"
   ]
  },
  {
   "cell_type": "code",
   "execution_count": 9,
   "metadata": {
    "execution": {
     "iopub.execute_input": "2020-12-26T00:17:28.280270Z",
     "iopub.status.busy": "2020-12-26T00:17:28.279474Z",
     "iopub.status.idle": "2020-12-26T00:17:28.562347Z",
     "shell.execute_reply": "2020-12-26T00:17:28.561170Z"
    },
    "papermill": {
     "duration": 0.325925,
     "end_time": "2020-12-26T00:17:28.562517",
     "exception": false,
     "start_time": "2020-12-26T00:17:28.236592",
     "status": "completed"
    },
    "tags": []
   },
   "outputs": [],
   "source": [
    "#hide\n",
    "COL_REGION = 'Country/Region'\n",
    "# Confirmed, Recovered, Deaths\n",
    "df = get_frame('confirmed')\n",
    "# dft_: timeseries, dfc_: today country agg\n",
    "dft_cases = df\n",
    "dft_deaths = get_frame('deaths')\n",
    "dft_recovered = get_frame('recovered')\n",
    "LAST_DATE_I, dt_cols = get_dates(df)"
   ]
  },
  {
   "cell_type": "code",
   "execution_count": 10,
   "metadata": {
    "execution": {
     "iopub.execute_input": "2020-12-26T00:17:28.640662Z",
     "iopub.status.busy": "2020-12-26T00:17:28.639838Z",
     "iopub.status.idle": "2020-12-26T00:17:28.641989Z",
     "shell.execute_reply": "2020-12-26T00:17:28.642907Z"
    },
    "papermill": {
     "duration": 0.044824,
     "end_time": "2020-12-26T00:17:28.643074",
     "exception": false,
     "start_time": "2020-12-26T00:17:28.598250",
     "status": "completed"
    },
    "tags": []
   },
   "outputs": [],
   "source": [
    "#hide\n",
    "LAST_DATE_I, dt_cols = get_dates(df)\n",
    "dt_today =dt_cols[LAST_DATE_I]\n",
    "# dt_5day = dt_cols[LAST_DATE_I - 5]\n",
    "dt_yday = dt_cols[LAST_DATE_I - 1]"
   ]
  },
  {
   "cell_type": "code",
   "execution_count": 11,
   "metadata": {
    "execution": {
     "iopub.execute_input": "2020-12-26T00:17:28.724116Z",
     "iopub.status.busy": "2020-12-26T00:17:28.723329Z",
     "iopub.status.idle": "2020-12-26T00:17:28.731058Z",
     "shell.execute_reply": "2020-12-26T00:17:28.730471Z"
    },
    "papermill": {
     "duration": 0.050929,
     "end_time": "2020-12-26T00:17:28.731221",
     "exception": false,
     "start_time": "2020-12-26T00:17:28.680292",
     "status": "completed"
    },
    "tags": []
   },
   "outputs": [],
   "source": [
    "#hide\n",
    "dfc_cases = dft_cases.groupby(COL_REGION)[dt_today].sum()\n",
    "dfc_deaths = dft_deaths.groupby(COL_REGION)[dt_today].sum()\n",
    "# dfp_cases = dft_cases.groupby(COL_REGION)[dt_5day].sum()\n",
    "# dfp_deaths = dft_deaths.groupby(COL_REGION)[dt_5day].sum()\n",
    "dfp_cases = dft_cases.groupby(COL_REGION)[dt_yday].sum()\n",
    "dfp_deaths = dft_deaths.groupby(COL_REGION)[dt_yday].sum()"
   ]
  },
  {
   "cell_type": "code",
   "execution_count": 12,
   "metadata": {
    "execution": {
     "iopub.execute_input": "2020-12-26T00:17:28.813979Z",
     "iopub.status.busy": "2020-12-26T00:17:28.813270Z",
     "iopub.status.idle": "2020-12-26T00:17:28.819556Z",
     "shell.execute_reply": "2020-12-26T00:17:28.820149Z"
    },
    "papermill": {
     "duration": 0.053761,
     "end_time": "2020-12-26T00:17:28.820326",
     "exception": false,
     "start_time": "2020-12-26T00:17:28.766565",
     "status": "completed"
    },
    "tags": []
   },
   "outputs": [],
   "source": [
    "#hide\n",
    "df_table = (pd.DataFrame(dict(Cases = dfc_cases, Deaths = dfc_deaths, PCases = dfp_cases, PDeaths = dfp_deaths))\n",
    "            .sort_values(by = ['Cases','Deaths'], ascending = [False, False])\n",
    "            .reset_index())"
   ]
  },
  {
   "cell_type": "code",
   "execution_count": 13,
   "metadata": {
    "execution": {
     "iopub.execute_input": "2020-12-26T00:17:28.912942Z",
     "iopub.status.busy": "2020-12-26T00:17:28.912182Z",
     "iopub.status.idle": "2020-12-26T00:17:28.921419Z",
     "shell.execute_reply": "2020-12-26T00:17:28.920750Z"
    },
    "papermill": {
     "duration": 0.06627,
     "end_time": "2020-12-26T00:17:28.921567",
     "exception": false,
     "start_time": "2020-12-26T00:17:28.855297",
     "status": "completed"
    },
    "tags": []
   },
   "outputs": [
    {
     "data": {
      "text/html": [
       "<div>\n",
       "<style scoped>\n",
       "    .dataframe tbody tr th:only-of-type {\n",
       "        vertical-align: middle;\n",
       "    }\n",
       "\n",
       "    .dataframe tbody tr th {\n",
       "        vertical-align: top;\n",
       "    }\n",
       "\n",
       "    .dataframe thead th {\n",
       "        text-align: right;\n",
       "    }\n",
       "</style>\n",
       "<table border=\"1\" class=\"dataframe\">\n",
       "  <thead>\n",
       "    <tr style=\"text-align: right;\">\n",
       "      <th></th>\n",
       "      <th>Country/Region</th>\n",
       "      <th>Cases</th>\n",
       "      <th>Deaths</th>\n",
       "      <th>PCases</th>\n",
       "      <th>PDeaths</th>\n",
       "      <th>Cases (+)</th>\n",
       "      <th>Deaths (+)</th>\n",
       "      <th>Fatality Rate</th>\n",
       "      <th>Continent</th>\n",
       "    </tr>\n",
       "  </thead>\n",
       "  <tbody>\n",
       "    <tr>\n",
       "      <th>0</th>\n",
       "      <td>US</td>\n",
       "      <td>18650454</td>\n",
       "      <td>329023</td>\n",
       "      <td>18458373</td>\n",
       "      <td>326124</td>\n",
       "      <td>192081</td>\n",
       "      <td>2899</td>\n",
       "      <td>1.76</td>\n",
       "      <td>North America</td>\n",
       "    </tr>\n",
       "    <tr>\n",
       "      <th>1</th>\n",
       "      <td>India</td>\n",
       "      <td>10146845</td>\n",
       "      <td>147092</td>\n",
       "      <td>10123778</td>\n",
       "      <td>146756</td>\n",
       "      <td>23067</td>\n",
       "      <td>336</td>\n",
       "      <td>1.45</td>\n",
       "      <td>Asia</td>\n",
       "    </tr>\n",
       "    <tr>\n",
       "      <th>2</th>\n",
       "      <td>Brazil</td>\n",
       "      <td>7423945</td>\n",
       "      <td>189982</td>\n",
       "      <td>7365517</td>\n",
       "      <td>189220</td>\n",
       "      <td>58428</td>\n",
       "      <td>762</td>\n",
       "      <td>2.56</td>\n",
       "      <td>South America</td>\n",
       "    </tr>\n",
       "    <tr>\n",
       "      <th>3</th>\n",
       "      <td>Russia</td>\n",
       "      <td>2934695</td>\n",
       "      <td>52434</td>\n",
       "      <td>2905196</td>\n",
       "      <td>51810</td>\n",
       "      <td>29499</td>\n",
       "      <td>624</td>\n",
       "      <td>1.79</td>\n",
       "      <td>Europe</td>\n",
       "    </tr>\n",
       "    <tr>\n",
       "      <th>4</th>\n",
       "      <td>France</td>\n",
       "      <td>2584333</td>\n",
       "      <td>62389</td>\n",
       "      <td>2562615</td>\n",
       "      <td>62098</td>\n",
       "      <td>21718</td>\n",
       "      <td>291</td>\n",
       "      <td>2.41</td>\n",
       "      <td>Europe</td>\n",
       "    </tr>\n",
       "  </tbody>\n",
       "</table>\n",
       "</div>"
      ],
      "text/plain": [
       "  Country/Region     Cases  Deaths    PCases  PDeaths  Cases (+)  Deaths (+)  \\\n",
       "0             US  18650454  329023  18458373   326124     192081        2899   \n",
       "1          India  10146845  147092  10123778   146756      23067         336   \n",
       "2         Brazil   7423945  189982   7365517   189220      58428         762   \n",
       "3         Russia   2934695   52434   2905196    51810      29499         624   \n",
       "4         France   2584333   62389   2562615    62098      21718         291   \n",
       "\n",
       "   Fatality Rate      Continent  \n",
       "0           1.76  North America  \n",
       "1           1.45           Asia  \n",
       "2           2.56  South America  \n",
       "3           1.79         Europe  \n",
       "4           2.41         Europe  "
      ]
     },
     "execution_count": 13,
     "metadata": {},
     "output_type": "execute_result"
    }
   ],
   "source": [
    "#hide\n",
    "for c in 'Cases, Deaths'.split(', '):\n",
    "    df_table[f'{c} (+)'] = (df_table[c] - df_table[f'P{c}']).clip(0)\n",
    "    #Clip ça veut dire, les chiffres negatif sont interdit\n",
    "df_table['Fatality Rate'] = (100* df_table['Deaths']/ df_table['Cases']).round(2)\n",
    "df_table['Continent'] = df_table['Country/Region'].map(mapping['map.continent'])\n",
    "df_table.head(5)"
   ]
  },
  {
   "cell_type": "code",
   "execution_count": 14,
   "metadata": {
    "execution": {
     "iopub.execute_input": "2020-12-26T00:17:29.000164Z",
     "iopub.status.busy": "2020-12-26T00:17:28.999477Z",
     "iopub.status.idle": "2020-12-26T00:17:29.002045Z",
     "shell.execute_reply": "2020-12-26T00:17:29.001448Z"
    },
    "papermill": {
     "duration": 0.044311,
     "end_time": "2020-12-26T00:17:29.002189",
     "exception": false,
     "start_time": "2020-12-26T00:17:28.957878",
     "status": "completed"
    },
    "tags": []
   },
   "outputs": [],
   "source": [
    "#hide\n",
    "#delete problematic countries from table\n",
    "df_table = df_table[~df_table['Country/Region'].isin(['Cape Verde', 'Cruise Ship', 'Kosovo'])]"
   ]
  },
  {
   "cell_type": "code",
   "execution_count": 15,
   "metadata": {
    "execution": {
     "iopub.execute_input": "2020-12-26T00:17:29.102461Z",
     "iopub.status.busy": "2020-12-26T00:17:29.101181Z",
     "iopub.status.idle": "2020-12-26T00:17:29.123915Z",
     "shell.execute_reply": "2020-12-26T00:17:29.124504Z"
    },
    "papermill": {
     "duration": 0.082549,
     "end_time": "2020-12-26T00:17:29.124705",
     "exception": false,
     "start_time": "2020-12-26T00:17:29.042156",
     "status": "completed"
    },
    "tags": []
   },
   "outputs": [
    {
     "data": {
      "text/html": [
       "<div>\n",
       "<style scoped>\n",
       "    .dataframe tbody tr th:only-of-type {\n",
       "        vertical-align: middle;\n",
       "    }\n",
       "\n",
       "    .dataframe tbody tr th {\n",
       "        vertical-align: top;\n",
       "    }\n",
       "\n",
       "    .dataframe thead th {\n",
       "        text-align: right;\n",
       "    }\n",
       "</style>\n",
       "<table border=\"1\" class=\"dataframe\">\n",
       "  <thead>\n",
       "    <tr style=\"text-align: right;\">\n",
       "      <th></th>\n",
       "      <th>Country/Region</th>\n",
       "      <th>Cases</th>\n",
       "      <th>Deaths</th>\n",
       "      <th>PCases</th>\n",
       "      <th>PDeaths</th>\n",
       "      <th>Cases (+)</th>\n",
       "      <th>Deaths (+)</th>\n",
       "      <th>Fatality Rate</th>\n",
       "      <th>Continent</th>\n",
       "    </tr>\n",
       "  </thead>\n",
       "  <tbody>\n",
       "    <tr>\n",
       "      <th>0</th>\n",
       "      <td>US</td>\n",
       "      <td>18650454</td>\n",
       "      <td>329023</td>\n",
       "      <td>18458373</td>\n",
       "      <td>326124</td>\n",
       "      <td>192081</td>\n",
       "      <td>2899</td>\n",
       "      <td>1.8</td>\n",
       "      <td>North America</td>\n",
       "    </tr>\n",
       "    <tr>\n",
       "      <th>1</th>\n",
       "      <td>India</td>\n",
       "      <td>10146845</td>\n",
       "      <td>147092</td>\n",
       "      <td>10123778</td>\n",
       "      <td>146756</td>\n",
       "      <td>23067</td>\n",
       "      <td>336</td>\n",
       "      <td>1.4</td>\n",
       "      <td>Asia</td>\n",
       "    </tr>\n",
       "    <tr>\n",
       "      <th>2</th>\n",
       "      <td>Brazil</td>\n",
       "      <td>7423945</td>\n",
       "      <td>189982</td>\n",
       "      <td>7365517</td>\n",
       "      <td>189220</td>\n",
       "      <td>58428</td>\n",
       "      <td>762</td>\n",
       "      <td>2.6</td>\n",
       "      <td>South America</td>\n",
       "    </tr>\n",
       "    <tr>\n",
       "      <th>3</th>\n",
       "      <td>Russia</td>\n",
       "      <td>2934695</td>\n",
       "      <td>52434</td>\n",
       "      <td>2905196</td>\n",
       "      <td>51810</td>\n",
       "      <td>29499</td>\n",
       "      <td>624</td>\n",
       "      <td>1.8</td>\n",
       "      <td>Europe</td>\n",
       "    </tr>\n",
       "    <tr>\n",
       "      <th>4</th>\n",
       "      <td>France</td>\n",
       "      <td>2584333</td>\n",
       "      <td>62389</td>\n",
       "      <td>2562615</td>\n",
       "      <td>62098</td>\n",
       "      <td>21718</td>\n",
       "      <td>291</td>\n",
       "      <td>2.4</td>\n",
       "      <td>Europe</td>\n",
       "    </tr>\n",
       "  </tbody>\n",
       "</table>\n",
       "</div>"
      ],
      "text/plain": [
       "  Country/Region     Cases  Deaths    PCases  PDeaths  Cases (+)  Deaths (+)  \\\n",
       "0             US  18650454  329023  18458373   326124     192081        2899   \n",
       "1          India  10146845  147092  10123778   146756      23067         336   \n",
       "2         Brazil   7423945  189982   7365517   189220      58428         762   \n",
       "3         Russia   2934695   52434   2905196    51810      29499         624   \n",
       "4         France   2584333   62389   2562615    62098      21718         291   \n",
       "\n",
       "   Fatality Rate      Continent  \n",
       "0            1.8  North America  \n",
       "1            1.4           Asia  \n",
       "2            2.6  South America  \n",
       "3            1.8         Europe  \n",
       "4            2.4         Europe  "
      ]
     },
     "execution_count": 15,
     "metadata": {},
     "output_type": "execute_result"
    }
   ],
   "source": [
    "#hide\n",
    "df_table = (pd.DataFrame(dict(Cases=dfc_cases, Deaths=dfc_deaths, PCases=dfp_cases, PDeaths=dfp_deaths))\n",
    "             .sort_values(by=['Cases', 'Deaths'], ascending=[False, False])\n",
    "             .reset_index())\n",
    "df_table.rename(columns={'index': 'Country/Region'}, inplace=True)\n",
    "for c in 'Cases, Deaths'.split(', '):\n",
    "    df_table[f'{c} (+)'] = (df_table[c] - df_table[f'P{c}']).clip(0)  # DATA BUG\n",
    "df_table['Fatality Rate'] = (100 * df_table['Deaths'] / df_table['Cases']).round(1)\n",
    "df_table['Continent'] = df_table['Country/Region'].map(mapping['map.continent'])\n",
    "df_table.head(5)"
   ]
  },
  {
   "cell_type": "code",
   "execution_count": 16,
   "metadata": {
    "execution": {
     "iopub.execute_input": "2020-12-26T00:17:29.207532Z",
     "iopub.status.busy": "2020-12-26T00:17:29.206840Z",
     "iopub.status.idle": "2020-12-26T00:17:29.209896Z",
     "shell.execute_reply": "2020-12-26T00:17:29.210535Z"
    },
    "papermill": {
     "duration": 0.045906,
     "end_time": "2020-12-26T00:17:29.210708",
     "exception": false,
     "start_time": "2020-12-26T00:17:29.164802",
     "status": "completed"
    },
    "tags": []
   },
   "outputs": [],
   "source": [
    "#hide\n",
    "#delete problematic countries from table\n",
    "df_table = df_table[~df_table['Country/Region'].isin(['Cape Verde', 'Cruise Ship', 'Kosovo'])]"
   ]
  },
  {
   "cell_type": "code",
   "execution_count": 17,
   "metadata": {
    "execution": {
     "iopub.execute_input": "2020-12-26T00:17:29.311145Z",
     "iopub.status.busy": "2020-12-26T00:17:29.310325Z",
     "iopub.status.idle": "2020-12-26T00:17:29.312097Z",
     "shell.execute_reply": "2020-12-26T00:17:29.312826Z"
    },
    "papermill": {
     "duration": 0.064991,
     "end_time": "2020-12-26T00:17:29.313027",
     "exception": false,
     "start_time": "2020-12-26T00:17:29.248036",
     "status": "completed"
    },
    "tags": []
   },
   "outputs": [],
   "source": [
    "#hide\n",
    "metrics = [df_table.columns[index] for index in [1,2,5,6]]\n",
    "# s_china = df_table[df_table['Country/Region'].eq('China')][metrics].sum().add_prefix('China ')\n",
    "s_us = df_table[df_table['Country/Region'].eq('US')][metrics].sum().add_prefix('US ')\n",
    "s_eu = df_table[df_table['Continent'].eq('Europe')][metrics].sum().add_prefix('EU ')\n",
    "s_ind = df_table[df_table['Country/Region'].eq('India')][metrics].sum().add_prefix('India ')\n",
    "summary = {'updated': pd.to_datetime(dt_today), 'since': pd.to_datetime(dt_yday)}\n",
    "summary = {'updated': pd.to_datetime(dt_today), 'since': pd.to_datetime(dt_yday)}\n",
    "summary = {**summary, **df_table[metrics].sum(), **s_ind, **s_us, **s_eu}"
   ]
  },
  {
   "cell_type": "code",
   "execution_count": 18,
   "metadata": {
    "execution": {
     "iopub.execute_input": "2020-12-26T00:17:29.397655Z",
     "iopub.status.busy": "2020-12-26T00:17:29.396950Z",
     "iopub.status.idle": "2020-12-26T00:17:29.411877Z",
     "shell.execute_reply": "2020-12-26T00:17:29.412463Z"
    },
    "papermill": {
     "duration": 0.05932,
     "end_time": "2020-12-26T00:17:29.412663",
     "exception": false,
     "start_time": "2020-12-26T00:17:29.353343",
     "status": "completed"
    },
    "tags": []
   },
   "outputs": [],
   "source": [
    "#hide\n",
    "dft_ct_new_cases = dft_cases.groupby(COL_REGION)[dt_cols].sum().diff(axis=1).fillna(0).astype(int)"
   ]
  },
  {
   "cell_type": "code",
   "execution_count": 19,
   "metadata": {
    "execution": {
     "iopub.execute_input": "2020-12-26T00:17:29.495683Z",
     "iopub.status.busy": "2020-12-26T00:17:29.494962Z",
     "iopub.status.idle": "2020-12-26T00:17:29.496740Z",
     "shell.execute_reply": "2020-12-26T00:17:29.497486Z"
    },
    "papermill": {
     "duration": 0.048182,
     "end_time": "2020-12-26T00:17:29.497704",
     "exception": false,
     "start_time": "2020-12-26T00:17:29.449522",
     "status": "completed"
    },
    "tags": []
   },
   "outputs": [],
   "source": [
    "#hide\n",
    "everydaycases = dft_ct_new_cases.cumsum(axis=1)"
   ]
  },
  {
   "cell_type": "code",
   "execution_count": 20,
   "metadata": {
    "execution": {
     "iopub.execute_input": "2020-12-26T00:17:29.576618Z",
     "iopub.status.busy": "2020-12-26T00:17:29.575932Z",
     "iopub.status.idle": "2020-12-26T00:17:30.682502Z",
     "shell.execute_reply": "2020-12-26T00:17:30.681902Z"
    },
    "papermill": {
     "duration": 1.148361,
     "end_time": "2020-12-26T00:17:30.682675",
     "exception": false,
     "start_time": "2020-12-26T00:17:29.534314",
     "status": "completed"
    },
    "tags": []
   },
   "outputs": [],
   "source": [
    "#hide\n",
    "import pandas as pd\n",
    "import matplotlib.pyplot as plt\n",
    "import matplotlib.ticker as ticker\n",
    "import matplotlib.animation as animation\n",
    "from IPython.display import HTML"
   ]
  },
  {
   "cell_type": "code",
   "execution_count": 21,
   "metadata": {
    "execution": {
     "iopub.execute_input": "2020-12-26T00:17:30.760285Z",
     "iopub.status.busy": "2020-12-26T00:17:30.759562Z",
     "iopub.status.idle": "2020-12-26T00:17:30.764334Z",
     "shell.execute_reply": "2020-12-26T00:17:30.764957Z"
    },
    "papermill": {
     "duration": 0.046697,
     "end_time": "2020-12-26T00:17:30.765125",
     "exception": false,
     "start_time": "2020-12-26T00:17:30.718428",
     "status": "completed"
    },
    "tags": []
   },
   "outputs": [],
   "source": [
    "#hide\n",
    "t = everydaycases.stack()"
   ]
  },
  {
   "cell_type": "code",
   "execution_count": 22,
   "metadata": {
    "execution": {
     "iopub.execute_input": "2020-12-26T00:17:30.845216Z",
     "iopub.status.busy": "2020-12-26T00:17:30.844500Z",
     "iopub.status.idle": "2020-12-26T00:17:30.852452Z",
     "shell.execute_reply": "2020-12-26T00:17:30.853069Z"
    },
    "papermill": {
     "duration": 0.050163,
     "end_time": "2020-12-26T00:17:30.853245",
     "exception": false,
     "start_time": "2020-12-26T00:17:30.803082",
     "status": "completed"
    },
    "tags": []
   },
   "outputs": [],
   "source": [
    "#hide\n",
    "g = t.reset_index(['Country/Region'])"
   ]
  },
  {
   "cell_type": "code",
   "execution_count": 23,
   "metadata": {
    "execution": {
     "iopub.execute_input": "2020-12-26T00:17:30.932085Z",
     "iopub.status.busy": "2020-12-26T00:17:30.931374Z",
     "iopub.status.idle": "2020-12-26T00:17:30.933398Z",
     "shell.execute_reply": "2020-12-26T00:17:30.934122Z"
    },
    "papermill": {
     "duration": 0.043222,
     "end_time": "2020-12-26T00:17:30.934306",
     "exception": false,
     "start_time": "2020-12-26T00:17:30.891084",
     "status": "completed"
    },
    "tags": []
   },
   "outputs": [],
   "source": [
    "#hide\n",
    "g.index.name = 'date'"
   ]
  },
  {
   "cell_type": "code",
   "execution_count": 24,
   "metadata": {
    "execution": {
     "iopub.execute_input": "2020-12-26T00:17:31.019692Z",
     "iopub.status.busy": "2020-12-26T00:17:31.018864Z",
     "iopub.status.idle": "2020-12-26T00:17:31.020810Z",
     "shell.execute_reply": "2020-12-26T00:17:31.021456Z"
    },
    "papermill": {
     "duration": 0.052215,
     "end_time": "2020-12-26T00:17:31.021631",
     "exception": false,
     "start_time": "2020-12-26T00:17:30.969416",
     "status": "completed"
    },
    "tags": []
   },
   "outputs": [],
   "source": [
    "# #hide\n",
    "# g = g.reset_index(['date'])"
   ]
  },
  {
   "cell_type": "code",
   "execution_count": 25,
   "metadata": {
    "execution": {
     "iopub.execute_input": "2020-12-26T00:17:31.108965Z",
     "iopub.status.busy": "2020-12-26T00:17:31.108240Z",
     "iopub.status.idle": "2020-12-26T00:17:31.110680Z",
     "shell.execute_reply": "2020-12-26T00:17:31.110004Z"
    },
    "papermill": {
     "duration": 0.050792,
     "end_time": "2020-12-26T00:17:31.110827",
     "exception": false,
     "start_time": "2020-12-26T00:17:31.060035",
     "status": "completed"
    },
    "tags": []
   },
   "outputs": [],
   "source": [
    "#hide\n",
    "# g.head()"
   ]
  },
  {
   "cell_type": "code",
   "execution_count": 26,
   "metadata": {
    "execution": {
     "iopub.execute_input": "2020-12-26T00:17:31.190676Z",
     "iopub.status.busy": "2020-12-26T00:17:31.189995Z",
     "iopub.status.idle": "2020-12-26T00:17:31.193355Z",
     "shell.execute_reply": "2020-12-26T00:17:31.192731Z"
    },
    "papermill": {
     "duration": 0.047834,
     "end_time": "2020-12-26T00:17:31.193619",
     "exception": false,
     "start_time": "2020-12-26T00:17:31.145785",
     "status": "completed"
    },
    "tags": []
   },
   "outputs": [],
   "source": [
    "#hide\n",
    "# g.columns = ['date','country','cases']"
   ]
  },
  {
   "cell_type": "code",
   "execution_count": 27,
   "metadata": {
    "execution": {
     "iopub.execute_input": "2020-12-26T00:17:31.274283Z",
     "iopub.status.busy": "2020-12-26T00:17:31.273584Z",
     "iopub.status.idle": "2020-12-26T00:17:31.275571Z",
     "shell.execute_reply": "2020-12-26T00:17:31.276158Z"
    },
    "papermill": {
     "duration": 0.043192,
     "end_time": "2020-12-26T00:17:31.276352",
     "exception": false,
     "start_time": "2020-12-26T00:17:31.233160",
     "status": "completed"
    },
    "tags": []
   },
   "outputs": [],
   "source": [
    "#hide\n",
    "# g['continent'] = g.country"
   ]
  },
  {
   "cell_type": "code",
   "execution_count": 28,
   "metadata": {
    "execution": {
     "iopub.execute_input": "2020-12-26T00:17:31.354274Z",
     "iopub.status.busy": "2020-12-26T00:17:31.353580Z",
     "iopub.status.idle": "2020-12-26T00:17:31.355728Z",
     "shell.execute_reply": "2020-12-26T00:17:31.356244Z"
    },
    "papermill": {
     "duration": 0.044031,
     "end_time": "2020-12-26T00:17:31.356433",
     "exception": false,
     "start_time": "2020-12-26T00:17:31.312402",
     "status": "completed"
    },
    "tags": []
   },
   "outputs": [],
   "source": [
    "#hide\n",
    "# cols = list(g.columns.values)"
   ]
  },
  {
   "cell_type": "code",
   "execution_count": 29,
   "metadata": {
    "execution": {
     "iopub.execute_input": "2020-12-26T00:17:31.436289Z",
     "iopub.status.busy": "2020-12-26T00:17:31.435613Z",
     "iopub.status.idle": "2020-12-26T00:17:31.438233Z",
     "shell.execute_reply": "2020-12-26T00:17:31.437684Z"
    },
    "papermill": {
     "duration": 0.042455,
     "end_time": "2020-12-26T00:17:31.438364",
     "exception": false,
     "start_time": "2020-12-26T00:17:31.395909",
     "status": "completed"
    },
    "tags": []
   },
   "outputs": [],
   "source": [
    "#hide\n",
    "# cols.insert(0, cols.pop())"
   ]
  },
  {
   "cell_type": "code",
   "execution_count": 30,
   "metadata": {
    "execution": {
     "iopub.execute_input": "2020-12-26T00:17:31.513130Z",
     "iopub.status.busy": "2020-12-26T00:17:31.512399Z",
     "iopub.status.idle": "2020-12-26T00:17:31.515608Z",
     "shell.execute_reply": "2020-12-26T00:17:31.516117Z"
    },
    "papermill": {
     "duration": 0.04282,
     "end_time": "2020-12-26T00:17:31.516295",
     "exception": false,
     "start_time": "2020-12-26T00:17:31.473475",
     "status": "completed"
    },
    "tags": []
   },
   "outputs": [],
   "source": [
    "#hide\n",
    "# g = g[cols]"
   ]
  },
  {
   "cell_type": "code",
   "execution_count": 31,
   "metadata": {
    "execution": {
     "iopub.execute_input": "2020-12-26T00:17:31.598039Z",
     "iopub.status.busy": "2020-12-26T00:17:31.597379Z",
     "iopub.status.idle": "2020-12-26T00:17:31.601525Z",
     "shell.execute_reply": "2020-12-26T00:17:31.600925Z"
    },
    "papermill": {
     "duration": 0.042571,
     "end_time": "2020-12-26T00:17:31.601676",
     "exception": false,
     "start_time": "2020-12-26T00:17:31.559105",
     "status": "completed"
    },
    "tags": []
   },
   "outputs": [],
   "source": [
    "#hide\n",
    "# g['continent'] = g['continent'].map(mapping['map.continent'])"
   ]
  },
  {
   "cell_type": "code",
   "execution_count": 32,
   "metadata": {
    "execution": {
     "iopub.execute_input": "2020-12-26T00:17:31.676022Z",
     "iopub.status.busy": "2020-12-26T00:17:31.675110Z",
     "iopub.status.idle": "2020-12-26T00:17:31.681579Z",
     "shell.execute_reply": "2020-12-26T00:17:31.679924Z"
    },
    "papermill": {
     "duration": 0.045652,
     "end_time": "2020-12-26T00:17:31.682002",
     "exception": false,
     "start_time": "2020-12-26T00:17:31.636350",
     "status": "completed"
    },
    "tags": []
   },
   "outputs": [],
   "source": [
    "#hide\n",
    "# g.head()"
   ]
  },
  {
   "cell_type": "code",
   "execution_count": 33,
   "metadata": {
    "execution": {
     "iopub.execute_input": "2020-12-26T00:17:31.758886Z",
     "iopub.status.busy": "2020-12-26T00:17:31.758207Z",
     "iopub.status.idle": "2020-12-26T00:17:31.759819Z",
     "shell.execute_reply": "2020-12-26T00:17:31.760457Z"
    },
    "papermill": {
     "duration": 0.04245,
     "end_time": "2020-12-26T00:17:31.760657",
     "exception": false,
     "start_time": "2020-12-26T00:17:31.718207",
     "status": "completed"
    },
    "tags": []
   },
   "outputs": [],
   "source": [
    "# hide\n",
    "# g['date'] = g['date'].astype('datetime64[ns]')"
   ]
  },
  {
   "cell_type": "code",
   "execution_count": 34,
   "metadata": {
    "execution": {
     "iopub.execute_input": "2020-12-26T00:17:31.834269Z",
     "iopub.status.busy": "2020-12-26T00:17:31.833522Z",
     "iopub.status.idle": "2020-12-26T00:17:31.836294Z",
     "shell.execute_reply": "2020-12-26T00:17:31.835700Z"
    },
    "papermill": {
     "duration": 0.041324,
     "end_time": "2020-12-26T00:17:31.836470",
     "exception": false,
     "start_time": "2020-12-26T00:17:31.795146",
     "status": "completed"
    },
    "tags": []
   },
   "outputs": [],
   "source": [
    "#hide\n",
    "# g['date'] = g.date.dt.dayofyear"
   ]
  },
  {
   "cell_type": "code",
   "execution_count": 35,
   "metadata": {
    "execution": {
     "iopub.execute_input": "2020-12-26T00:17:31.915340Z",
     "iopub.status.busy": "2020-12-26T00:17:31.914572Z",
     "iopub.status.idle": "2020-12-26T00:17:31.917236Z",
     "shell.execute_reply": "2020-12-26T00:17:31.916589Z"
    },
    "papermill": {
     "duration": 0.041967,
     "end_time": "2020-12-26T00:17:31.917378",
     "exception": false,
     "start_time": "2020-12-26T00:17:31.875411",
     "status": "completed"
    },
    "tags": []
   },
   "outputs": [],
   "source": [
    "#hide\n",
    "# g = g.rename(columns= {'continent':'group','country':'name','cases':'value'})"
   ]
  },
  {
   "cell_type": "code",
   "execution_count": 36,
   "metadata": {
    "execution": {
     "iopub.execute_input": "2020-12-26T00:17:32.386427Z",
     "iopub.status.busy": "2020-12-26T00:17:32.384427Z",
     "iopub.status.idle": "2020-12-26T00:17:32.389809Z",
     "shell.execute_reply": "2020-12-26T00:17:32.390340Z"
    },
    "papermill": {
     "duration": 0.437014,
     "end_time": "2020-12-26T00:17:32.390493",
     "exception": false,
     "start_time": "2020-12-26T00:17:31.953479",
     "status": "completed"
    },
    "tags": []
   },
   "outputs": [],
   "source": [
    "#hide\n",
    "# cols = ['name','group','day','value']"
   ]
  },
  {
   "cell_type": "code",
   "execution_count": 37,
   "metadata": {
    "execution": {
     "iopub.execute_input": "2020-12-26T00:17:32.466163Z",
     "iopub.status.busy": "2020-12-26T00:17:32.465360Z",
     "iopub.status.idle": "2020-12-26T00:17:32.467444Z",
     "shell.execute_reply": "2020-12-26T00:17:32.467990Z"
    },
    "papermill": {
     "duration": 0.042563,
     "end_time": "2020-12-26T00:17:32.468164",
     "exception": false,
     "start_time": "2020-12-26T00:17:32.425601",
     "status": "completed"
    },
    "tags": []
   },
   "outputs": [],
   "source": [
    "#hide\n",
    "# g.rename(columns= {'date':'day'},inplace = True)"
   ]
  },
  {
   "cell_type": "code",
   "execution_count": 38,
   "metadata": {
    "execution": {
     "iopub.execute_input": "2020-12-26T00:17:32.545785Z",
     "iopub.status.busy": "2020-12-26T00:17:32.545103Z",
     "iopub.status.idle": "2020-12-26T00:17:32.549445Z",
     "shell.execute_reply": "2020-12-26T00:17:32.548882Z"
    },
    "papermill": {
     "duration": 0.045758,
     "end_time": "2020-12-26T00:17:32.549582",
     "exception": false,
     "start_time": "2020-12-26T00:17:32.503824",
     "status": "completed"
    },
    "tags": []
   },
   "outputs": [],
   "source": [
    "#hide\n",
    "# g = g[cols]"
   ]
  },
  {
   "cell_type": "code",
   "execution_count": 39,
   "metadata": {
    "execution": {
     "iopub.execute_input": "2020-12-26T00:17:32.624043Z",
     "iopub.status.busy": "2020-12-26T00:17:32.623376Z",
     "iopub.status.idle": "2020-12-26T00:17:32.627303Z",
     "shell.execute_reply": "2020-12-26T00:17:32.627801Z"
    },
    "papermill": {
     "duration": 0.043596,
     "end_time": "2020-12-26T00:17:32.627977",
     "exception": false,
     "start_time": "2020-12-26T00:17:32.584381",
     "status": "completed"
    },
    "tags": []
   },
   "outputs": [],
   "source": [
    "# #hide\n",
    "# g = g[g.group.notna()]"
   ]
  },
  {
   "cell_type": "code",
   "execution_count": 40,
   "metadata": {
    "execution": {
     "iopub.execute_input": "2020-12-26T00:17:32.707712Z",
     "iopub.status.busy": "2020-12-26T00:17:32.706933Z",
     "iopub.status.idle": "2020-12-26T00:17:32.709193Z",
     "shell.execute_reply": "2020-12-26T00:17:32.708470Z"
    },
    "papermill": {
     "duration": 0.045004,
     "end_time": "2020-12-26T00:17:32.709343",
     "exception": false,
     "start_time": "2020-12-26T00:17:32.664339",
     "status": "completed"
    },
    "tags": []
   },
   "outputs": [],
   "source": [
    "# #hide\n",
    "# colors = dict(zip(\n",
    "#     [\"Oceania\", \"Europe\", \"Asia\", \"South America\", \"Middle East\", \"North America\", \"Africa\"],\n",
    "#     [\"#adb0ff\", \"#ffb3ff\", \"#90d595\", \"#e48381\", \"#aafbff\", \"#f7bb5f\", \"#eafb50\"]\n",
    "# ))\n",
    "# group_lk = g.set_index('name')['group'].to_dict()"
   ]
  },
  {
   "cell_type": "code",
   "execution_count": null,
   "metadata": {
    "papermill": {
     "duration": 0.035328,
     "end_time": "2020-12-26T00:17:32.781070",
     "exception": false,
     "start_time": "2020-12-26T00:17:32.745742",
     "status": "completed"
    },
    "tags": []
   },
   "outputs": [],
   "source": []
  },
  {
   "cell_type": "code",
   "execution_count": 41,
   "metadata": {
    "execution": {
     "iopub.execute_input": "2020-12-26T00:17:32.868118Z",
     "iopub.status.busy": "2020-12-26T00:17:32.867438Z",
     "iopub.status.idle": "2020-12-26T00:17:32.870106Z",
     "shell.execute_reply": "2020-12-26T00:17:32.869527Z"
    },
    "papermill": {
     "duration": 0.053882,
     "end_time": "2020-12-26T00:17:32.870244",
     "exception": false,
     "start_time": "2020-12-26T00:17:32.816362",
     "status": "completed"
    },
    "tags": []
   },
   "outputs": [],
   "source": [
    "# #hide\n",
    "# fig, ax = plt.subplots(figsize=(15, 8))\n",
    "\n",
    "# def draw_barchart(current_day):\n",
    "#     dff = g[g['day'].eq(current_day)].sort_values(by='value', ascending=True).tail(10)\n",
    "#     ax.clear()\n",
    "#     ax.barh(dff['name'], dff['value'], color=[colors[group_lk[x]] for x in dff['name']])\n",
    "#     dx = dff['value'].max() / 200\n",
    "    \n",
    "#     for i, (value, name) in enumerate(zip(dff['value'], dff['name'])):\n",
    "#         ax.text(value-dx, i,     name,           size=14, weight=600, ha='right', va='bottom')\n",
    "#         ax.text(value-dx, i-.25, group_lk[name], size=10, color='#444444', ha='right', va='baseline')\n",
    "#         ax.text(value+dx, i,     f'{value:,.0f}',  size=14, ha='left',  va='center')\n",
    "#     ax.text(1, 0.4, current_day, transform=ax.transAxes, color='#777777', size=46, ha='right', weight=800)\n",
    "#     ax.text(0, 1.06, 'Population (thousands)', transform=ax.transAxes, size=12, color='#777777')\n",
    "#     ax.xaxis.set_major_formatter(ticker.StrMethodFormatter('{x:,.0f}'))\n",
    "#     ax.xaxis.set_ticks_position('top')\n",
    "#     ax.tick_params(axis='x', colors='#777777', labelsize=12)\n",
    "#     ax.set_yticks([])\n",
    "#     ax.margins(0, 0.01)\n",
    "#     ax.grid(which='major', axis='x', linestyle='-')\n",
    "#     ax.set_axisbelow(True)\n",
    "    \n",
    "#     ax.text(0, 1.15, 'Coronavirus',\n",
    "#             transform=ax.transAxes, size=24, weight=600, ha='left', va='top')\n",
    "# #     ax.text(1, 0, 'by @pratapvardhan; credit @jburnmurdoch', transform=ax.transAxes, color='#777777', ha='right',\n",
    "# #             bbox=dict(facecolor='white', alpha=0.8, edgecolor='white'))\n",
    "#     plt.box(False)"
   ]
  },
  {
   "cell_type": "code",
   "execution_count": 42,
   "metadata": {
    "execution": {
     "iopub.execute_input": "2020-12-26T00:17:32.947338Z",
     "iopub.status.busy": "2020-12-26T00:17:32.946570Z",
     "iopub.status.idle": "2020-12-26T00:17:32.950205Z",
     "shell.execute_reply": "2020-12-26T00:17:32.950755Z"
    },
    "papermill": {
     "duration": 0.044621,
     "end_time": "2020-12-26T00:17:32.950909",
     "exception": false,
     "start_time": "2020-12-26T00:17:32.906288",
     "status": "completed"
    },
    "tags": []
   },
   "outputs": [],
   "source": [
    "# #hide_input\n",
    "# fig, ax = plt.subplots(figsize=(15, 8))\n",
    "# animator = animation.FuncAnimation(fig, draw_barchart, frames=range(g.day.values.min(), g.day.values.max()))\n",
    "# HTML(animator.to_jshtml())\n",
    "# # or use animator.to_html5_video() or animator.save() "
   ]
  },
  {
   "cell_type": "code",
   "execution_count": null,
   "metadata": {
    "papermill": {
     "duration": 0.03614,
     "end_time": "2020-12-26T00:17:33.023557",
     "exception": false,
     "start_time": "2020-12-26T00:17:32.987417",
     "status": "completed"
    },
    "tags": []
   },
   "outputs": [],
   "source": []
  },
  {
   "cell_type": "code",
   "execution_count": null,
   "metadata": {
    "papermill": {
     "duration": 0.042479,
     "end_time": "2020-12-26T00:17:33.102343",
     "exception": false,
     "start_time": "2020-12-26T00:17:33.059864",
     "status": "completed"
    },
    "tags": []
   },
   "outputs": [],
   "source": []
  },
  {
   "cell_type": "code",
   "execution_count": null,
   "metadata": {
    "papermill": {
     "duration": 0.038946,
     "end_time": "2020-12-26T00:17:33.178352",
     "exception": false,
     "start_time": "2020-12-26T00:17:33.139406",
     "status": "completed"
    },
    "tags": []
   },
   "outputs": [],
   "source": []
  }
 ],
 "metadata": {
  "kernelspec": {
   "display_name": "Python 3",
   "language": "python",
   "name": "python3"
  },
  "language_info": {
   "codemirror_mode": {
    "name": "ipython",
    "version": 3
   },
   "file_extension": ".py",
   "mimetype": "text/x-python",
   "name": "python",
   "nbconvert_exporter": "python",
   "pygments_lexer": "ipython3",
   "version": "3.6.12"
  },
  "papermill": {
   "duration": 7.678062,
   "end_time": "2020-12-26T00:17:33.522234",
   "environment_variables": {},
   "exception": null,
   "input_path": "2020-03-21-covid19exp.ipynb",
   "output_path": "2020-03-21-covid19exp.ipynb",
   "parameters": {},
   "start_time": "2020-12-26T00:17:25.844172",
   "version": "2.0.0"
  }
 },
 "nbformat": 4,
 "nbformat_minor": 4
}