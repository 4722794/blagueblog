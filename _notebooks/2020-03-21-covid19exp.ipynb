{
 "cells": [
  {
   "cell_type": "markdown",
   "id": "muslim-click",
   "metadata": {
    "papermill": {
     "duration": 0.037274,
     "end_time": "2021-02-15T00:10:51.163091",
     "exception": false,
     "start_time": "2021-02-15T00:10:51.125817",
     "status": "completed"
    },
    "tags": []
   },
   "source": [
    "# COVID-19 Case Race\n",
    "> A race chart to see rising cases around the world\n",
    "\n",
    "- author: Hargun Oberoi\n",
    "- image: images/covid-overview.png\n",
    "- hide: false\n",
    "- badges: false"
   ]
  },
  {
   "cell_type": "code",
   "execution_count": 1,
   "id": "proof-material",
   "metadata": {
    "execution": {
     "iopub.execute_input": "2021-02-15T00:10:51.241767Z",
     "iopub.status.busy": "2021-02-15T00:10:51.241057Z",
     "iopub.status.idle": "2021-02-15T00:10:51.548753Z",
     "shell.execute_reply": "2021-02-15T00:10:51.547927Z"
    },
    "papermill": {
     "duration": 0.348466,
     "end_time": "2021-02-15T00:10:51.548893",
     "exception": false,
     "start_time": "2021-02-15T00:10:51.200427",
     "status": "completed"
    },
    "tags": []
   },
   "outputs": [],
   "source": [
    "#hide\n",
    "import numpy as np\n",
    "import pandas as pd\n",
    "from jinja2 import Template\n",
    "from IPython.display import HTML"
   ]
  },
  {
   "cell_type": "code",
   "execution_count": 2,
   "id": "developed-terminology",
   "metadata": {
    "execution": {
     "iopub.execute_input": "2021-02-15T00:10:51.621594Z",
     "iopub.status.busy": "2021-02-15T00:10:51.621029Z",
     "iopub.status.idle": "2021-02-15T00:10:51.623117Z",
     "shell.execute_reply": "2021-02-15T00:10:51.622645Z"
    },
    "papermill": {
     "duration": 0.036279,
     "end_time": "2021-02-15T00:10:51.623225",
     "exception": false,
     "start_time": "2021-02-15T00:10:51.586946",
     "status": "completed"
    },
    "tags": []
   },
   "outputs": [],
   "source": [
    "#hide\n",
    "\n",
    "# FETCH\n",
    "base_url = 'https://raw.githubusercontent.com/pratapvardhan/notebooks/master/covid19/'\n",
    "paths = {\n",
    "    'mapping': base_url + 'mapping_countries.csv',\n",
    "    'overview': base_url + 'overview.tpl'\n",
    "}"
   ]
  },
  {
   "cell_type": "code",
   "execution_count": 3,
   "id": "dynamic-saver",
   "metadata": {
    "execution": {
     "iopub.execute_input": "2021-02-15T00:10:51.691826Z",
     "iopub.status.busy": "2021-02-15T00:10:51.691288Z",
     "iopub.status.idle": "2021-02-15T00:10:51.694036Z",
     "shell.execute_reply": "2021-02-15T00:10:51.694462Z"
    },
    "papermill": {
     "duration": 0.040439,
     "end_time": "2021-02-15T00:10:51.694571",
     "exception": false,
     "start_time": "2021-02-15T00:10:51.654132",
     "status": "completed"
    },
    "tags": []
   },
   "outputs": [
    {
     "data": {
      "text/plain": [
       "'https://raw.githubusercontent.com/pratapvardhan/notebooks/master/covid19/mapping_countries.csv'"
      ]
     },
     "execution_count": 3,
     "metadata": {},
     "output_type": "execute_result"
    }
   ],
   "source": [
    "#hide\n",
    "paths['mapping']"
   ]
  },
  {
   "cell_type": "code",
   "execution_count": 4,
   "id": "urban-software",
   "metadata": {
    "execution": {
     "iopub.execute_input": "2021-02-15T00:10:51.761035Z",
     "iopub.status.busy": "2021-02-15T00:10:51.760312Z",
     "iopub.status.idle": "2021-02-15T00:10:51.762249Z",
     "shell.execute_reply": "2021-02-15T00:10:51.762952Z"
    },
    "papermill": {
     "duration": 0.038123,
     "end_time": "2021-02-15T00:10:51.763150",
     "exception": false,
     "start_time": "2021-02-15T00:10:51.725027",
     "status": "completed"
    },
    "tags": []
   },
   "outputs": [],
   "source": [
    "#hide\n",
    "def get_mappings(url):\n",
    "    df = pd.read_csv(url)\n",
    "    return {\n",
    "        'df': df,\n",
    "        'replace.country': dict(df.dropna(subset=['Name']).set_index('Country')['Name']),\n",
    "        'map.continent': dict(df.set_index('Name')['Continent'])\n",
    "    }"
   ]
  },
  {
   "cell_type": "code",
   "execution_count": 5,
   "id": "intimate-machinery",
   "metadata": {
    "execution": {
     "iopub.execute_input": "2021-02-15T00:10:51.841587Z",
     "iopub.status.busy": "2021-02-15T00:10:51.840759Z",
     "iopub.status.idle": "2021-02-15T00:10:51.878317Z",
     "shell.execute_reply": "2021-02-15T00:10:51.877775Z"
    },
    "papermill": {
     "duration": 0.079264,
     "end_time": "2021-02-15T00:10:51.878427",
     "exception": false,
     "start_time": "2021-02-15T00:10:51.799163",
     "status": "completed"
    },
    "tags": []
   },
   "outputs": [],
   "source": [
    "#hide\n",
    "mapping = get_mappings(paths['mapping'])"
   ]
  },
  {
   "cell_type": "code",
   "execution_count": 6,
   "id": "certified-tactics",
   "metadata": {
    "execution": {
     "iopub.execute_input": "2021-02-15T00:10:51.951029Z",
     "iopub.status.busy": "2021-02-15T00:10:51.950432Z",
     "iopub.status.idle": "2021-02-15T00:10:51.952865Z",
     "shell.execute_reply": "2021-02-15T00:10:51.952378Z"
    },
    "papermill": {
     "duration": 0.042869,
     "end_time": "2021-02-15T00:10:51.952977",
     "exception": false,
     "start_time": "2021-02-15T00:10:51.910108",
     "status": "completed"
    },
    "tags": []
   },
   "outputs": [],
   "source": [
    "#hide\n",
    "def get_template(path):\n",
    "    from urllib.parse import urlparse\n",
    "    if bool(urlparse(path).netloc):\n",
    "        from urllib.request import urlopen\n",
    "        return urlopen(path).read().decode('utf8')\n",
    "    return open(path).read()"
   ]
  },
  {
   "cell_type": "code",
   "execution_count": 7,
   "id": "realistic-blast",
   "metadata": {
    "execution": {
     "iopub.execute_input": "2021-02-15T00:10:52.017936Z",
     "iopub.status.busy": "2021-02-15T00:10:52.017386Z",
     "iopub.status.idle": "2021-02-15T00:10:52.019349Z",
     "shell.execute_reply": "2021-02-15T00:10:52.019870Z"
    },
    "papermill": {
     "duration": 0.035763,
     "end_time": "2021-02-15T00:10:52.019986",
     "exception": false,
     "start_time": "2021-02-15T00:10:51.984223",
     "status": "completed"
    },
    "tags": []
   },
   "outputs": [],
   "source": [
    "#hide\n",
    "def get_frame(name):\n",
    "    url = (\n",
    "        'https://raw.githubusercontent.com/CSSEGISandData/COVID-19/master/csse_covid_19_data/'\n",
    "        f'csse_covid_19_time_series/time_series_covid19_{name}_global.csv')\n",
    "    df = pd.read_csv(url)\n",
    "    # rename countries\n",
    "    df['Country/Region'] = df['Country/Region'].replace(mapping['replace.country'])\n",
    "    return df"
   ]
  },
  {
   "cell_type": "code",
   "execution_count": 8,
   "id": "affiliated-characterization",
   "metadata": {
    "execution": {
     "iopub.execute_input": "2021-02-15T00:10:52.086274Z",
     "iopub.status.busy": "2021-02-15T00:10:52.085713Z",
     "iopub.status.idle": "2021-02-15T00:10:52.088051Z",
     "shell.execute_reply": "2021-02-15T00:10:52.087552Z"
    },
    "papermill": {
     "duration": 0.039347,
     "end_time": "2021-02-15T00:10:52.088261",
     "exception": false,
     "start_time": "2021-02-15T00:10:52.048914",
     "status": "completed"
    },
    "tags": []
   },
   "outputs": [],
   "source": [
    "#hide\n",
    "def get_dates(df):\n",
    "    dt_cols = df.columns[~df.columns.isin(['Province/State', 'Country/Region', 'Lat', 'Long'])]\n",
    "    LAST_DATE_I = -1\n",
    "    # sometimes last column may be empty, then go backwards\n",
    "    for i in range(-1, -len(dt_cols), -1):\n",
    "        if not df[dt_cols[i]].fillna(0).eq(0).all():\n",
    "            LAST_DATE_I = i\n",
    "            break\n",
    "    return LAST_DATE_I, dt_cols"
   ]
  },
  {
   "cell_type": "code",
   "execution_count": 9,
   "id": "recent-optimization",
   "metadata": {
    "execution": {
     "iopub.execute_input": "2021-02-15T00:10:52.152555Z",
     "iopub.status.busy": "2021-02-15T00:10:52.151812Z",
     "iopub.status.idle": "2021-02-15T00:10:52.441102Z",
     "shell.execute_reply": "2021-02-15T00:10:52.440588Z"
    },
    "papermill": {
     "duration": 0.323471,
     "end_time": "2021-02-15T00:10:52.441232",
     "exception": false,
     "start_time": "2021-02-15T00:10:52.117761",
     "status": "completed"
    },
    "tags": []
   },
   "outputs": [],
   "source": [
    "#hide\n",
    "COL_REGION = 'Country/Region'\n",
    "# Confirmed, Recovered, Deaths\n",
    "df = get_frame('confirmed')\n",
    "# dft_: timeseries, dfc_: today country agg\n",
    "dft_cases = df\n",
    "dft_deaths = get_frame('deaths')\n",
    "dft_recovered = get_frame('recovered')\n",
    "LAST_DATE_I, dt_cols = get_dates(df)"
   ]
  },
  {
   "cell_type": "code",
   "execution_count": 10,
   "id": "absolute-copper",
   "metadata": {
    "execution": {
     "iopub.execute_input": "2021-02-15T00:10:52.508666Z",
     "iopub.status.busy": "2021-02-15T00:10:52.508142Z",
     "iopub.status.idle": "2021-02-15T00:10:52.509838Z",
     "shell.execute_reply": "2021-02-15T00:10:52.510479Z"
    },
    "papermill": {
     "duration": 0.036671,
     "end_time": "2021-02-15T00:10:52.510596",
     "exception": false,
     "start_time": "2021-02-15T00:10:52.473925",
     "status": "completed"
    },
    "tags": []
   },
   "outputs": [],
   "source": [
    "#hide\n",
    "LAST_DATE_I, dt_cols = get_dates(df)\n",
    "dt_today =dt_cols[LAST_DATE_I]\n",
    "# dt_5day = dt_cols[LAST_DATE_I - 5]\n",
    "dt_yday = dt_cols[LAST_DATE_I - 1]"
   ]
  },
  {
   "cell_type": "code",
   "execution_count": 11,
   "id": "restricted-sheriff",
   "metadata": {
    "execution": {
     "iopub.execute_input": "2021-02-15T00:10:52.574655Z",
     "iopub.status.busy": "2021-02-15T00:10:52.573915Z",
     "iopub.status.idle": "2021-02-15T00:10:52.581803Z",
     "shell.execute_reply": "2021-02-15T00:10:52.582292Z"
    },
    "papermill": {
     "duration": 0.042681,
     "end_time": "2021-02-15T00:10:52.582404",
     "exception": false,
     "start_time": "2021-02-15T00:10:52.539723",
     "status": "completed"
    },
    "tags": []
   },
   "outputs": [],
   "source": [
    "#hide\n",
    "dfc_cases = dft_cases.groupby(COL_REGION)[dt_today].sum()\n",
    "dfc_deaths = dft_deaths.groupby(COL_REGION)[dt_today].sum()\n",
    "# dfp_cases = dft_cases.groupby(COL_REGION)[dt_5day].sum()\n",
    "# dfp_deaths = dft_deaths.groupby(COL_REGION)[dt_5day].sum()\n",
    "dfp_cases = dft_cases.groupby(COL_REGION)[dt_yday].sum()\n",
    "dfp_deaths = dft_deaths.groupby(COL_REGION)[dt_yday].sum()"
   ]
  },
  {
   "cell_type": "code",
   "execution_count": 12,
   "id": "deluxe-hepatitis",
   "metadata": {
    "execution": {
     "iopub.execute_input": "2021-02-15T00:10:52.648864Z",
     "iopub.status.busy": "2021-02-15T00:10:52.648297Z",
     "iopub.status.idle": "2021-02-15T00:10:52.653329Z",
     "shell.execute_reply": "2021-02-15T00:10:52.652761Z"
    },
    "papermill": {
     "duration": 0.039616,
     "end_time": "2021-02-15T00:10:52.653440",
     "exception": false,
     "start_time": "2021-02-15T00:10:52.613824",
     "status": "completed"
    },
    "tags": []
   },
   "outputs": [],
   "source": [
    "#hide\n",
    "df_table = (pd.DataFrame(dict(Cases = dfc_cases, Deaths = dfc_deaths, PCases = dfp_cases, PDeaths = dfp_deaths))\n",
    "            .sort_values(by = ['Cases','Deaths'], ascending = [False, False])\n",
    "            .reset_index())"
   ]
  },
  {
   "cell_type": "code",
   "execution_count": 13,
   "id": "educational-chancellor",
   "metadata": {
    "execution": {
     "iopub.execute_input": "2021-02-15T00:10:52.732993Z",
     "iopub.status.busy": "2021-02-15T00:10:52.732461Z",
     "iopub.status.idle": "2021-02-15T00:10:52.740304Z",
     "shell.execute_reply": "2021-02-15T00:10:52.739847Z"
    },
    "papermill": {
     "duration": 0.054457,
     "end_time": "2021-02-15T00:10:52.740409",
     "exception": false,
     "start_time": "2021-02-15T00:10:52.685952",
     "status": "completed"
    },
    "tags": []
   },
   "outputs": [
    {
     "data": {
      "text/html": [
       "<div>\n",
       "<style scoped>\n",
       "    .dataframe tbody tr th:only-of-type {\n",
       "        vertical-align: middle;\n",
       "    }\n",
       "\n",
       "    .dataframe tbody tr th {\n",
       "        vertical-align: top;\n",
       "    }\n",
       "\n",
       "    .dataframe thead th {\n",
       "        text-align: right;\n",
       "    }\n",
       "</style>\n",
       "<table border=\"1\" class=\"dataframe\">\n",
       "  <thead>\n",
       "    <tr style=\"text-align: right;\">\n",
       "      <th></th>\n",
       "      <th>Country/Region</th>\n",
       "      <th>Cases</th>\n",
       "      <th>Deaths</th>\n",
       "      <th>PCases</th>\n",
       "      <th>PDeaths</th>\n",
       "      <th>Cases (+)</th>\n",
       "      <th>Deaths (+)</th>\n",
       "      <th>Fatality Rate</th>\n",
       "      <th>Continent</th>\n",
       "    </tr>\n",
       "  </thead>\n",
       "  <tbody>\n",
       "    <tr>\n",
       "      <th>0</th>\n",
       "      <td>US</td>\n",
       "      <td>27575344</td>\n",
       "      <td>484248</td>\n",
       "      <td>27492023</td>\n",
       "      <td>480887</td>\n",
       "      <td>83321</td>\n",
       "      <td>3361</td>\n",
       "      <td>1.76</td>\n",
       "      <td>North America</td>\n",
       "    </tr>\n",
       "    <tr>\n",
       "      <th>1</th>\n",
       "      <td>India</td>\n",
       "      <td>10904940</td>\n",
       "      <td>155642</td>\n",
       "      <td>10892746</td>\n",
       "      <td>155550</td>\n",
       "      <td>12194</td>\n",
       "      <td>92</td>\n",
       "      <td>1.43</td>\n",
       "      <td>Asia</td>\n",
       "    </tr>\n",
       "    <tr>\n",
       "      <th>2</th>\n",
       "      <td>Brazil</td>\n",
       "      <td>9809754</td>\n",
       "      <td>238532</td>\n",
       "      <td>9765455</td>\n",
       "      <td>237489</td>\n",
       "      <td>44299</td>\n",
       "      <td>1043</td>\n",
       "      <td>2.43</td>\n",
       "      <td>South America</td>\n",
       "    </tr>\n",
       "    <tr>\n",
       "      <th>3</th>\n",
       "      <td>United Kingdom</td>\n",
       "      <td>4038929</td>\n",
       "      <td>117128</td>\n",
       "      <td>4025574</td>\n",
       "      <td>116507</td>\n",
       "      <td>13355</td>\n",
       "      <td>621</td>\n",
       "      <td>2.90</td>\n",
       "      <td>Europe</td>\n",
       "    </tr>\n",
       "    <tr>\n",
       "      <th>4</th>\n",
       "      <td>Russia</td>\n",
       "      <td>4012538</td>\n",
       "      <td>78403</td>\n",
       "      <td>3997898</td>\n",
       "      <td>77911</td>\n",
       "      <td>14640</td>\n",
       "      <td>492</td>\n",
       "      <td>1.95</td>\n",
       "      <td>Europe</td>\n",
       "    </tr>\n",
       "  </tbody>\n",
       "</table>\n",
       "</div>"
      ],
      "text/plain": [
       "   Country/Region     Cases  Deaths    PCases  PDeaths  Cases (+)  Deaths (+)  \\\n",
       "0              US  27575344  484248  27492023   480887      83321        3361   \n",
       "1           India  10904940  155642  10892746   155550      12194          92   \n",
       "2          Brazil   9809754  238532   9765455   237489      44299        1043   \n",
       "3  United Kingdom   4038929  117128   4025574   116507      13355         621   \n",
       "4          Russia   4012538   78403   3997898    77911      14640         492   \n",
       "\n",
       "   Fatality Rate      Continent  \n",
       "0           1.76  North America  \n",
       "1           1.43           Asia  \n",
       "2           2.43  South America  \n",
       "3           2.90         Europe  \n",
       "4           1.95         Europe  "
      ]
     },
     "execution_count": 13,
     "metadata": {},
     "output_type": "execute_result"
    }
   ],
   "source": [
    "#hide\n",
    "for c in 'Cases, Deaths'.split(', '):\n",
    "    df_table[f'{c} (+)'] = (df_table[c] - df_table[f'P{c}']).clip(0)\n",
    "    #Clip ça veut dire, les chiffres negatif sont interdit\n",
    "df_table['Fatality Rate'] = (100* df_table['Deaths']/ df_table['Cases']).round(2)\n",
    "df_table['Continent'] = df_table['Country/Region'].map(mapping['map.continent'])\n",
    "df_table.head(5)"
   ]
  },
  {
   "cell_type": "code",
   "execution_count": 14,
   "id": "aboriginal-bulgaria",
   "metadata": {
    "execution": {
     "iopub.execute_input": "2021-02-15T00:10:52.805585Z",
     "iopub.status.busy": "2021-02-15T00:10:52.805021Z",
     "iopub.status.idle": "2021-02-15T00:10:52.807932Z",
     "shell.execute_reply": "2021-02-15T00:10:52.808595Z"
    },
    "papermill": {
     "duration": 0.037485,
     "end_time": "2021-02-15T00:10:52.808713",
     "exception": false,
     "start_time": "2021-02-15T00:10:52.771228",
     "status": "completed"
    },
    "tags": []
   },
   "outputs": [],
   "source": [
    "#hide\n",
    "#delete problematic countries from table\n",
    "df_table = df_table[~df_table['Country/Region'].isin(['Cape Verde', 'Cruise Ship', 'Kosovo'])]"
   ]
  },
  {
   "cell_type": "code",
   "execution_count": 15,
   "id": "fantastic-effect",
   "metadata": {
    "execution": {
     "iopub.execute_input": "2021-02-15T00:10:52.879049Z",
     "iopub.status.busy": "2021-02-15T00:10:52.878520Z",
     "iopub.status.idle": "2021-02-15T00:10:52.898437Z",
     "shell.execute_reply": "2021-02-15T00:10:52.897951Z"
    },
    "papermill": {
     "duration": 0.055996,
     "end_time": "2021-02-15T00:10:52.898543",
     "exception": false,
     "start_time": "2021-02-15T00:10:52.842547",
     "status": "completed"
    },
    "tags": []
   },
   "outputs": [
    {
     "data": {
      "text/html": [
       "<div>\n",
       "<style scoped>\n",
       "    .dataframe tbody tr th:only-of-type {\n",
       "        vertical-align: middle;\n",
       "    }\n",
       "\n",
       "    .dataframe tbody tr th {\n",
       "        vertical-align: top;\n",
       "    }\n",
       "\n",
       "    .dataframe thead th {\n",
       "        text-align: right;\n",
       "    }\n",
       "</style>\n",
       "<table border=\"1\" class=\"dataframe\">\n",
       "  <thead>\n",
       "    <tr style=\"text-align: right;\">\n",
       "      <th></th>\n",
       "      <th>Country/Region</th>\n",
       "      <th>Cases</th>\n",
       "      <th>Deaths</th>\n",
       "      <th>PCases</th>\n",
       "      <th>PDeaths</th>\n",
       "      <th>Cases (+)</th>\n",
       "      <th>Deaths (+)</th>\n",
       "      <th>Fatality Rate</th>\n",
       "      <th>Continent</th>\n",
       "    </tr>\n",
       "  </thead>\n",
       "  <tbody>\n",
       "    <tr>\n",
       "      <th>0</th>\n",
       "      <td>US</td>\n",
       "      <td>27575344</td>\n",
       "      <td>484248</td>\n",
       "      <td>27492023</td>\n",
       "      <td>480887</td>\n",
       "      <td>83321</td>\n",
       "      <td>3361</td>\n",
       "      <td>1.8</td>\n",
       "      <td>North America</td>\n",
       "    </tr>\n",
       "    <tr>\n",
       "      <th>1</th>\n",
       "      <td>India</td>\n",
       "      <td>10904940</td>\n",
       "      <td>155642</td>\n",
       "      <td>10892746</td>\n",
       "      <td>155550</td>\n",
       "      <td>12194</td>\n",
       "      <td>92</td>\n",
       "      <td>1.4</td>\n",
       "      <td>Asia</td>\n",
       "    </tr>\n",
       "    <tr>\n",
       "      <th>2</th>\n",
       "      <td>Brazil</td>\n",
       "      <td>9809754</td>\n",
       "      <td>238532</td>\n",
       "      <td>9765455</td>\n",
       "      <td>237489</td>\n",
       "      <td>44299</td>\n",
       "      <td>1043</td>\n",
       "      <td>2.4</td>\n",
       "      <td>South America</td>\n",
       "    </tr>\n",
       "    <tr>\n",
       "      <th>3</th>\n",
       "      <td>United Kingdom</td>\n",
       "      <td>4038929</td>\n",
       "      <td>117128</td>\n",
       "      <td>4025574</td>\n",
       "      <td>116507</td>\n",
       "      <td>13355</td>\n",
       "      <td>621</td>\n",
       "      <td>2.9</td>\n",
       "      <td>Europe</td>\n",
       "    </tr>\n",
       "    <tr>\n",
       "      <th>4</th>\n",
       "      <td>Russia</td>\n",
       "      <td>4012538</td>\n",
       "      <td>78403</td>\n",
       "      <td>3997898</td>\n",
       "      <td>77911</td>\n",
       "      <td>14640</td>\n",
       "      <td>492</td>\n",
       "      <td>2.0</td>\n",
       "      <td>Europe</td>\n",
       "    </tr>\n",
       "  </tbody>\n",
       "</table>\n",
       "</div>"
      ],
      "text/plain": [
       "   Country/Region     Cases  Deaths    PCases  PDeaths  Cases (+)  Deaths (+)  \\\n",
       "0              US  27575344  484248  27492023   480887      83321        3361   \n",
       "1           India  10904940  155642  10892746   155550      12194          92   \n",
       "2          Brazil   9809754  238532   9765455   237489      44299        1043   \n",
       "3  United Kingdom   4038929  117128   4025574   116507      13355         621   \n",
       "4          Russia   4012538   78403   3997898    77911      14640         492   \n",
       "\n",
       "   Fatality Rate      Continent  \n",
       "0            1.8  North America  \n",
       "1            1.4           Asia  \n",
       "2            2.4  South America  \n",
       "3            2.9         Europe  \n",
       "4            2.0         Europe  "
      ]
     },
     "execution_count": 15,
     "metadata": {},
     "output_type": "execute_result"
    }
   ],
   "source": [
    "#hide\n",
    "df_table = (pd.DataFrame(dict(Cases=dfc_cases, Deaths=dfc_deaths, PCases=dfp_cases, PDeaths=dfp_deaths))\n",
    "             .sort_values(by=['Cases', 'Deaths'], ascending=[False, False])\n",
    "             .reset_index())\n",
    "df_table.rename(columns={'index': 'Country/Region'}, inplace=True)\n",
    "for c in 'Cases, Deaths'.split(', '):\n",
    "    df_table[f'{c} (+)'] = (df_table[c] - df_table[f'P{c}']).clip(0)  # DATA BUG\n",
    "df_table['Fatality Rate'] = (100 * df_table['Deaths'] / df_table['Cases']).round(1)\n",
    "df_table['Continent'] = df_table['Country/Region'].map(mapping['map.continent'])\n",
    "df_table.head(5)"
   ]
  },
  {
   "cell_type": "code",
   "execution_count": 16,
   "id": "fewer-occasion",
   "metadata": {
    "execution": {
     "iopub.execute_input": "2021-02-15T00:10:52.967301Z",
     "iopub.status.busy": "2021-02-15T00:10:52.966771Z",
     "iopub.status.idle": "2021-02-15T00:10:52.968528Z",
     "shell.execute_reply": "2021-02-15T00:10:52.969040Z"
    },
    "papermill": {
     "duration": 0.038042,
     "end_time": "2021-02-15T00:10:52.969154",
     "exception": false,
     "start_time": "2021-02-15T00:10:52.931112",
     "status": "completed"
    },
    "tags": []
   },
   "outputs": [],
   "source": [
    "#hide\n",
    "#delete problematic countries from table\n",
    "df_table = df_table[~df_table['Country/Region'].isin(['Cape Verde', 'Cruise Ship', 'Kosovo'])]"
   ]
  },
  {
   "cell_type": "code",
   "execution_count": 17,
   "id": "related-center",
   "metadata": {
    "execution": {
     "iopub.execute_input": "2021-02-15T00:10:53.046011Z",
     "iopub.status.busy": "2021-02-15T00:10:53.045479Z",
     "iopub.status.idle": "2021-02-15T00:10:53.047597Z",
     "shell.execute_reply": "2021-02-15T00:10:53.048127Z"
    },
    "papermill": {
     "duration": 0.048772,
     "end_time": "2021-02-15T00:10:53.048241",
     "exception": false,
     "start_time": "2021-02-15T00:10:52.999469",
     "status": "completed"
    },
    "tags": []
   },
   "outputs": [],
   "source": [
    "#hide\n",
    "metrics = [df_table.columns[index] for index in [1,2,5,6]]\n",
    "# s_china = df_table[df_table['Country/Region'].eq('China')][metrics].sum().add_prefix('China ')\n",
    "s_us = df_table[df_table['Country/Region'].eq('US')][metrics].sum().add_prefix('US ')\n",
    "s_eu = df_table[df_table['Continent'].eq('Europe')][metrics].sum().add_prefix('EU ')\n",
    "s_ind = df_table[df_table['Country/Region'].eq('India')][metrics].sum().add_prefix('India ')\n",
    "summary = {'updated': pd.to_datetime(dt_today), 'since': pd.to_datetime(dt_yday)}\n",
    "summary = {'updated': pd.to_datetime(dt_today), 'since': pd.to_datetime(dt_yday)}\n",
    "summary = {**summary, **df_table[metrics].sum(), **s_ind, **s_us, **s_eu}"
   ]
  },
  {
   "cell_type": "code",
   "execution_count": 18,
   "id": "engaging-syndrome",
   "metadata": {
    "execution": {
     "iopub.execute_input": "2021-02-15T00:10:53.122160Z",
     "iopub.status.busy": "2021-02-15T00:10:53.121342Z",
     "iopub.status.idle": "2021-02-15T00:10:53.131079Z",
     "shell.execute_reply": "2021-02-15T00:10:53.130605Z"
    },
    "papermill": {
     "duration": 0.048375,
     "end_time": "2021-02-15T00:10:53.131216",
     "exception": false,
     "start_time": "2021-02-15T00:10:53.082841",
     "status": "completed"
    },
    "tags": []
   },
   "outputs": [],
   "source": [
    "#hide\n",
    "dft_ct_new_cases = dft_cases.groupby(COL_REGION)[dt_cols].sum().diff(axis=1).fillna(0).astype(int)"
   ]
  },
  {
   "cell_type": "code",
   "execution_count": 19,
   "id": "neutral-assignment",
   "metadata": {
    "execution": {
     "iopub.execute_input": "2021-02-15T00:10:53.201679Z",
     "iopub.status.busy": "2021-02-15T00:10:53.201110Z",
     "iopub.status.idle": "2021-02-15T00:10:53.202887Z",
     "shell.execute_reply": "2021-02-15T00:10:53.203459Z"
    },
    "papermill": {
     "duration": 0.041445,
     "end_time": "2021-02-15T00:10:53.203581",
     "exception": false,
     "start_time": "2021-02-15T00:10:53.162136",
     "status": "completed"
    },
    "tags": []
   },
   "outputs": [],
   "source": [
    "#hide\n",
    "everydaycases = dft_ct_new_cases.cumsum(axis=1)"
   ]
  },
  {
   "cell_type": "code",
   "execution_count": 20,
   "id": "parliamentary-calgary",
   "metadata": {
    "execution": {
     "iopub.execute_input": "2021-02-15T00:10:53.272446Z",
     "iopub.status.busy": "2021-02-15T00:10:53.271696Z",
     "iopub.status.idle": "2021-02-15T00:10:54.826614Z",
     "shell.execute_reply": "2021-02-15T00:10:54.826115Z"
    },
    "papermill": {
     "duration": 1.591426,
     "end_time": "2021-02-15T00:10:54.826737",
     "exception": false,
     "start_time": "2021-02-15T00:10:53.235311",
     "status": "completed"
    },
    "tags": []
   },
   "outputs": [],
   "source": [
    "#hide\n",
    "import pandas as pd\n",
    "import matplotlib.pyplot as plt\n",
    "import matplotlib.ticker as ticker\n",
    "import matplotlib.animation as animation\n",
    "from IPython.display import HTML"
   ]
  },
  {
   "cell_type": "code",
   "execution_count": 21,
   "id": "lasting-extraction",
   "metadata": {
    "execution": {
     "iopub.execute_input": "2021-02-15T00:10:54.891351Z",
     "iopub.status.busy": "2021-02-15T00:10:54.890821Z",
     "iopub.status.idle": "2021-02-15T00:10:54.895314Z",
     "shell.execute_reply": "2021-02-15T00:10:54.895855Z"
    },
    "papermill": {
     "duration": 0.039147,
     "end_time": "2021-02-15T00:10:54.895975",
     "exception": false,
     "start_time": "2021-02-15T00:10:54.856828",
     "status": "completed"
    },
    "tags": []
   },
   "outputs": [],
   "source": [
    "#hide\n",
    "t = everydaycases.stack()"
   ]
  },
  {
   "cell_type": "code",
   "execution_count": 22,
   "id": "premier-sleeve",
   "metadata": {
    "execution": {
     "iopub.execute_input": "2021-02-15T00:10:54.961175Z",
     "iopub.status.busy": "2021-02-15T00:10:54.960603Z",
     "iopub.status.idle": "2021-02-15T00:10:54.966709Z",
     "shell.execute_reply": "2021-02-15T00:10:54.967219Z"
    },
    "papermill": {
     "duration": 0.041276,
     "end_time": "2021-02-15T00:10:54.967343",
     "exception": false,
     "start_time": "2021-02-15T00:10:54.926067",
     "status": "completed"
    },
    "tags": []
   },
   "outputs": [],
   "source": [
    "#hide\n",
    "g = t.reset_index(['Country/Region'])"
   ]
  },
  {
   "cell_type": "code",
   "execution_count": 23,
   "id": "distributed-pittsburgh",
   "metadata": {
    "execution": {
     "iopub.execute_input": "2021-02-15T00:10:55.037838Z",
     "iopub.status.busy": "2021-02-15T00:10:55.037268Z",
     "iopub.status.idle": "2021-02-15T00:10:55.039548Z",
     "shell.execute_reply": "2021-02-15T00:10:55.039100Z"
    },
    "papermill": {
     "duration": 0.03556,
     "end_time": "2021-02-15T00:10:55.039649",
     "exception": false,
     "start_time": "2021-02-15T00:10:55.004089",
     "status": "completed"
    },
    "tags": []
   },
   "outputs": [],
   "source": [
    "#hide\n",
    "g.index.name = 'date'"
   ]
  },
  {
   "cell_type": "code",
   "execution_count": 24,
   "id": "naked-donor",
   "metadata": {
    "execution": {
     "iopub.execute_input": "2021-02-15T00:10:55.113402Z",
     "iopub.status.busy": "2021-02-15T00:10:55.112839Z",
     "iopub.status.idle": "2021-02-15T00:10:55.114795Z",
     "shell.execute_reply": "2021-02-15T00:10:55.115284Z"
    },
    "papermill": {
     "duration": 0.038186,
     "end_time": "2021-02-15T00:10:55.115437",
     "exception": false,
     "start_time": "2021-02-15T00:10:55.077251",
     "status": "completed"
    },
    "tags": []
   },
   "outputs": [],
   "source": [
    "# #hide\n",
    "# g = g.reset_index(['date'])"
   ]
  },
  {
   "cell_type": "code",
   "execution_count": 25,
   "id": "incomplete-mustang",
   "metadata": {
    "execution": {
     "iopub.execute_input": "2021-02-15T00:10:55.187718Z",
     "iopub.status.busy": "2021-02-15T00:10:55.187174Z",
     "iopub.status.idle": "2021-02-15T00:10:55.189439Z",
     "shell.execute_reply": "2021-02-15T00:10:55.188969Z"
    },
    "papermill": {
     "duration": 0.039787,
     "end_time": "2021-02-15T00:10:55.189550",
     "exception": false,
     "start_time": "2021-02-15T00:10:55.149763",
     "status": "completed"
    },
    "tags": []
   },
   "outputs": [],
   "source": [
    "#hide\n",
    "# g.head()"
   ]
  },
  {
   "cell_type": "code",
   "execution_count": 26,
   "id": "specific-kruger",
   "metadata": {
    "execution": {
     "iopub.execute_input": "2021-02-15T00:10:55.264541Z",
     "iopub.status.busy": "2021-02-15T00:10:55.263855Z",
     "iopub.status.idle": "2021-02-15T00:10:55.265680Z",
     "shell.execute_reply": "2021-02-15T00:10:55.266269Z"
    },
    "papermill": {
     "duration": 0.040086,
     "end_time": "2021-02-15T00:10:55.266413",
     "exception": false,
     "start_time": "2021-02-15T00:10:55.226327",
     "status": "completed"
    },
    "tags": []
   },
   "outputs": [],
   "source": [
    "#hide\n",
    "# g.columns = ['date','country','cases']"
   ]
  },
  {
   "cell_type": "code",
   "execution_count": 27,
   "id": "tender-conversion",
   "metadata": {
    "execution": {
     "iopub.execute_input": "2021-02-15T00:10:55.338538Z",
     "iopub.status.busy": "2021-02-15T00:10:55.337767Z",
     "iopub.status.idle": "2021-02-15T00:10:55.339929Z",
     "shell.execute_reply": "2021-02-15T00:10:55.340458Z"
    },
    "papermill": {
     "duration": 0.039385,
     "end_time": "2021-02-15T00:10:55.340575",
     "exception": false,
     "start_time": "2021-02-15T00:10:55.301190",
     "status": "completed"
    },
    "tags": []
   },
   "outputs": [],
   "source": [
    "#hide\n",
    "# g['continent'] = g.country"
   ]
  },
  {
   "cell_type": "code",
   "execution_count": 28,
   "id": "substantial-wilderness",
   "metadata": {
    "execution": {
     "iopub.execute_input": "2021-02-15T00:10:55.411010Z",
     "iopub.status.busy": "2021-02-15T00:10:55.410449Z",
     "iopub.status.idle": "2021-02-15T00:10:55.412331Z",
     "shell.execute_reply": "2021-02-15T00:10:55.412796Z"
    },
    "papermill": {
     "duration": 0.038472,
     "end_time": "2021-02-15T00:10:55.412920",
     "exception": false,
     "start_time": "2021-02-15T00:10:55.374448",
     "status": "completed"
    },
    "tags": []
   },
   "outputs": [],
   "source": [
    "#hide\n",
    "# cols = list(g.columns.values)"
   ]
  },
  {
   "cell_type": "code",
   "execution_count": 29,
   "id": "solved-farming",
   "metadata": {
    "execution": {
     "iopub.execute_input": "2021-02-15T00:10:55.477300Z",
     "iopub.status.busy": "2021-02-15T00:10:55.476739Z",
     "iopub.status.idle": "2021-02-15T00:10:55.478813Z",
     "shell.execute_reply": "2021-02-15T00:10:55.479366Z"
    },
    "papermill": {
     "duration": 0.036093,
     "end_time": "2021-02-15T00:10:55.479482",
     "exception": false,
     "start_time": "2021-02-15T00:10:55.443389",
     "status": "completed"
    },
    "tags": []
   },
   "outputs": [],
   "source": [
    "#hide\n",
    "# cols.insert(0, cols.pop())"
   ]
  },
  {
   "cell_type": "code",
   "execution_count": 30,
   "id": "executed-adoption",
   "metadata": {
    "execution": {
     "iopub.execute_input": "2021-02-15T00:10:55.542752Z",
     "iopub.status.busy": "2021-02-15T00:10:55.541893Z",
     "iopub.status.idle": "2021-02-15T00:10:55.543950Z",
     "shell.execute_reply": "2021-02-15T00:10:55.544407Z"
    },
    "papermill": {
     "duration": 0.034928,
     "end_time": "2021-02-15T00:10:55.544521",
     "exception": false,
     "start_time": "2021-02-15T00:10:55.509593",
     "status": "completed"
    },
    "tags": []
   },
   "outputs": [],
   "source": [
    "#hide\n",
    "# g = g[cols]"
   ]
  },
  {
   "cell_type": "code",
   "execution_count": 31,
   "id": "subject-dublin",
   "metadata": {
    "execution": {
     "iopub.execute_input": "2021-02-15T00:10:55.608905Z",
     "iopub.status.busy": "2021-02-15T00:10:55.608349Z",
     "iopub.status.idle": "2021-02-15T00:10:55.610738Z",
     "shell.execute_reply": "2021-02-15T00:10:55.610219Z"
    },
    "papermill": {
     "duration": 0.035713,
     "end_time": "2021-02-15T00:10:55.610854",
     "exception": false,
     "start_time": "2021-02-15T00:10:55.575141",
     "status": "completed"
    },
    "tags": []
   },
   "outputs": [],
   "source": [
    "#hide\n",
    "# g['continent'] = g['continent'].map(mapping['map.continent'])"
   ]
  },
  {
   "cell_type": "code",
   "execution_count": 32,
   "id": "freelance-scout",
   "metadata": {
    "execution": {
     "iopub.execute_input": "2021-02-15T00:10:55.677351Z",
     "iopub.status.busy": "2021-02-15T00:10:55.676699Z",
     "iopub.status.idle": "2021-02-15T00:10:55.678974Z",
     "shell.execute_reply": "2021-02-15T00:10:55.678475Z"
    },
    "papermill": {
     "duration": 0.035814,
     "end_time": "2021-02-15T00:10:55.679082",
     "exception": false,
     "start_time": "2021-02-15T00:10:55.643268",
     "status": "completed"
    },
    "tags": []
   },
   "outputs": [],
   "source": [
    "#hide\n",
    "# g.head()"
   ]
  },
  {
   "cell_type": "code",
   "execution_count": 33,
   "id": "limited-engine",
   "metadata": {
    "execution": {
     "iopub.execute_input": "2021-02-15T00:10:55.744415Z",
     "iopub.status.busy": "2021-02-15T00:10:55.743835Z",
     "iopub.status.idle": "2021-02-15T00:10:55.745904Z",
     "shell.execute_reply": "2021-02-15T00:10:55.746514Z"
    },
    "papermill": {
     "duration": 0.036306,
     "end_time": "2021-02-15T00:10:55.746642",
     "exception": false,
     "start_time": "2021-02-15T00:10:55.710336",
     "status": "completed"
    },
    "tags": []
   },
   "outputs": [],
   "source": [
    "# hide\n",
    "# g['date'] = g['date'].astype('datetime64[ns]')"
   ]
  },
  {
   "cell_type": "code",
   "execution_count": 34,
   "id": "sophisticated-supervisor",
   "metadata": {
    "execution": {
     "iopub.execute_input": "2021-02-15T00:10:55.808524Z",
     "iopub.status.busy": "2021-02-15T00:10:55.807685Z",
     "iopub.status.idle": "2021-02-15T00:10:55.809654Z",
     "shell.execute_reply": "2021-02-15T00:10:55.810077Z"
    },
    "papermill": {
     "duration": 0.03439,
     "end_time": "2021-02-15T00:10:55.810187",
     "exception": false,
     "start_time": "2021-02-15T00:10:55.775797",
     "status": "completed"
    },
    "tags": []
   },
   "outputs": [],
   "source": [
    "#hide\n",
    "# g['date'] = g.date.dt.dayofyear"
   ]
  },
  {
   "cell_type": "code",
   "execution_count": 35,
   "id": "inside-dubai",
   "metadata": {
    "execution": {
     "iopub.execute_input": "2021-02-15T00:10:55.874057Z",
     "iopub.status.busy": "2021-02-15T00:10:55.873312Z",
     "iopub.status.idle": "2021-02-15T00:10:55.875773Z",
     "shell.execute_reply": "2021-02-15T00:10:55.875149Z"
    },
    "papermill": {
     "duration": 0.036077,
     "end_time": "2021-02-15T00:10:55.875912",
     "exception": false,
     "start_time": "2021-02-15T00:10:55.839835",
     "status": "completed"
    },
    "tags": []
   },
   "outputs": [],
   "source": [
    "#hide\n",
    "# g = g.rename(columns= {'continent':'group','country':'name','cases':'value'})"
   ]
  },
  {
   "cell_type": "code",
   "execution_count": 36,
   "id": "fleet-motorcycle",
   "metadata": {
    "execution": {
     "iopub.execute_input": "2021-02-15T00:10:55.940839Z",
     "iopub.status.busy": "2021-02-15T00:10:55.940307Z",
     "iopub.status.idle": "2021-02-15T00:10:55.942045Z",
     "shell.execute_reply": "2021-02-15T00:10:55.942537Z"
    },
    "papermill": {
     "duration": 0.035747,
     "end_time": "2021-02-15T00:10:55.942650",
     "exception": false,
     "start_time": "2021-02-15T00:10:55.906903",
     "status": "completed"
    },
    "tags": []
   },
   "outputs": [],
   "source": [
    "#hide\n",
    "# cols = ['name','group','day','value']"
   ]
  },
  {
   "cell_type": "code",
   "execution_count": 37,
   "id": "continued-sleeping",
   "metadata": {
    "execution": {
     "iopub.execute_input": "2021-02-15T00:10:56.011851Z",
     "iopub.status.busy": "2021-02-15T00:10:56.011084Z",
     "iopub.status.idle": "2021-02-15T00:10:56.014065Z",
     "shell.execute_reply": "2021-02-15T00:10:56.013429Z"
    },
    "papermill": {
     "duration": 0.041402,
     "end_time": "2021-02-15T00:10:56.014165",
     "exception": false,
     "start_time": "2021-02-15T00:10:55.972763",
     "status": "completed"
    },
    "tags": []
   },
   "outputs": [],
   "source": [
    "#hide\n",
    "# g.rename(columns= {'date':'day'},inplace = True)"
   ]
  },
  {
   "cell_type": "code",
   "execution_count": 38,
   "id": "major-fight",
   "metadata": {
    "execution": {
     "iopub.execute_input": "2021-02-15T00:10:56.085794Z",
     "iopub.status.busy": "2021-02-15T00:10:56.085230Z",
     "iopub.status.idle": "2021-02-15T00:10:56.087499Z",
     "shell.execute_reply": "2021-02-15T00:10:56.087002Z"
    },
    "papermill": {
     "duration": 0.038303,
     "end_time": "2021-02-15T00:10:56.087608",
     "exception": false,
     "start_time": "2021-02-15T00:10:56.049305",
     "status": "completed"
    },
    "tags": []
   },
   "outputs": [],
   "source": [
    "#hide\n",
    "# g = g[cols]"
   ]
  },
  {
   "cell_type": "code",
   "execution_count": 39,
   "id": "structured-mobile",
   "metadata": {
    "execution": {
     "iopub.execute_input": "2021-02-15T00:10:56.155829Z",
     "iopub.status.busy": "2021-02-15T00:10:56.155057Z",
     "iopub.status.idle": "2021-02-15T00:10:56.157622Z",
     "shell.execute_reply": "2021-02-15T00:10:56.157115Z"
    },
    "papermill": {
     "duration": 0.037442,
     "end_time": "2021-02-15T00:10:56.157733",
     "exception": false,
     "start_time": "2021-02-15T00:10:56.120291",
     "status": "completed"
    },
    "tags": []
   },
   "outputs": [],
   "source": [
    "# #hide\n",
    "# g = g[g.group.notna()]"
   ]
  },
  {
   "cell_type": "code",
   "execution_count": 40,
   "id": "determined-closing",
   "metadata": {
    "execution": {
     "iopub.execute_input": "2021-02-15T00:10:56.228551Z",
     "iopub.status.busy": "2021-02-15T00:10:56.227963Z",
     "iopub.status.idle": "2021-02-15T00:10:56.229804Z",
     "shell.execute_reply": "2021-02-15T00:10:56.230543Z"
    },
    "papermill": {
     "duration": 0.039813,
     "end_time": "2021-02-15T00:10:56.230746",
     "exception": false,
     "start_time": "2021-02-15T00:10:56.190933",
     "status": "completed"
    },
    "tags": []
   },
   "outputs": [],
   "source": [
    "# #hide\n",
    "# colors = dict(zip(\n",
    "#     [\"Oceania\", \"Europe\", \"Asia\", \"South America\", \"Middle East\", \"North America\", \"Africa\"],\n",
    "#     [\"#adb0ff\", \"#ffb3ff\", \"#90d595\", \"#e48381\", \"#aafbff\", \"#f7bb5f\", \"#eafb50\"]\n",
    "# ))\n",
    "# group_lk = g.set_index('name')['group'].to_dict()"
   ]
  },
  {
   "cell_type": "code",
   "execution_count": null,
   "id": "gross-drinking",
   "metadata": {
    "papermill": {
     "duration": 0.034819,
     "end_time": "2021-02-15T00:10:56.298961",
     "exception": false,
     "start_time": "2021-02-15T00:10:56.264142",
     "status": "completed"
    },
    "tags": []
   },
   "outputs": [],
   "source": []
  },
  {
   "cell_type": "code",
   "execution_count": 41,
   "id": "subject-macintosh",
   "metadata": {
    "execution": {
     "iopub.execute_input": "2021-02-15T00:10:56.369900Z",
     "iopub.status.busy": "2021-02-15T00:10:56.369170Z",
     "iopub.status.idle": "2021-02-15T00:10:56.371788Z",
     "shell.execute_reply": "2021-02-15T00:10:56.371254Z"
    },
    "papermill": {
     "duration": 0.039331,
     "end_time": "2021-02-15T00:10:56.371905",
     "exception": false,
     "start_time": "2021-02-15T00:10:56.332574",
     "status": "completed"
    },
    "tags": []
   },
   "outputs": [],
   "source": [
    "# #hide\n",
    "# fig, ax = plt.subplots(figsize=(15, 8))\n",
    "\n",
    "# def draw_barchart(current_day):\n",
    "#     dff = g[g['day'].eq(current_day)].sort_values(by='value', ascending=True).tail(10)\n",
    "#     ax.clear()\n",
    "#     ax.barh(dff['name'], dff['value'], color=[colors[group_lk[x]] for x in dff['name']])\n",
    "#     dx = dff['value'].max() / 200\n",
    "    \n",
    "#     for i, (value, name) in enumerate(zip(dff['value'], dff['name'])):\n",
    "#         ax.text(value-dx, i,     name,           size=14, weight=600, ha='right', va='bottom')\n",
    "#         ax.text(value-dx, i-.25, group_lk[name], size=10, color='#444444', ha='right', va='baseline')\n",
    "#         ax.text(value+dx, i,     f'{value:,.0f}',  size=14, ha='left',  va='center')\n",
    "#     ax.text(1, 0.4, current_day, transform=ax.transAxes, color='#777777', size=46, ha='right', weight=800)\n",
    "#     ax.text(0, 1.06, 'Population (thousands)', transform=ax.transAxes, size=12, color='#777777')\n",
    "#     ax.xaxis.set_major_formatter(ticker.StrMethodFormatter('{x:,.0f}'))\n",
    "#     ax.xaxis.set_ticks_position('top')\n",
    "#     ax.tick_params(axis='x', colors='#777777', labelsize=12)\n",
    "#     ax.set_yticks([])\n",
    "#     ax.margins(0, 0.01)\n",
    "#     ax.grid(which='major', axis='x', linestyle='-')\n",
    "#     ax.set_axisbelow(True)\n",
    "    \n",
    "#     ax.text(0, 1.15, 'Coronavirus',\n",
    "#             transform=ax.transAxes, size=24, weight=600, ha='left', va='top')\n",
    "# #     ax.text(1, 0, 'by @pratapvardhan; credit @jburnmurdoch', transform=ax.transAxes, color='#777777', ha='right',\n",
    "# #             bbox=dict(facecolor='white', alpha=0.8, edgecolor='white'))\n",
    "#     plt.box(False)"
   ]
  },
  {
   "cell_type": "code",
   "execution_count": 42,
   "id": "sexual-wages",
   "metadata": {
    "execution": {
     "iopub.execute_input": "2021-02-15T00:10:56.443447Z",
     "iopub.status.busy": "2021-02-15T00:10:56.442860Z",
     "iopub.status.idle": "2021-02-15T00:10:56.444925Z",
     "shell.execute_reply": "2021-02-15T00:10:56.445420Z"
    },
    "papermill": {
     "duration": 0.039545,
     "end_time": "2021-02-15T00:10:56.445550",
     "exception": false,
     "start_time": "2021-02-15T00:10:56.406005",
     "status": "completed"
    },
    "tags": []
   },
   "outputs": [],
   "source": [
    "# #hide_input\n",
    "# fig, ax = plt.subplots(figsize=(15, 8))\n",
    "# animator = animation.FuncAnimation(fig, draw_barchart, frames=range(g.day.values.min(), g.day.values.max()))\n",
    "# HTML(animator.to_jshtml())\n",
    "# # or use animator.to_html5_video() or animator.save() "
   ]
  },
  {
   "cell_type": "code",
   "execution_count": null,
   "id": "australian-container",
   "metadata": {
    "papermill": {
     "duration": 0.032664,
     "end_time": "2021-02-15T00:10:56.511963",
     "exception": false,
     "start_time": "2021-02-15T00:10:56.479299",
     "status": "completed"
    },
    "tags": []
   },
   "outputs": [],
   "source": []
  },
  {
   "cell_type": "code",
   "execution_count": null,
   "id": "mediterranean-pontiac",
   "metadata": {
    "papermill": {
     "duration": 0.033235,
     "end_time": "2021-02-15T00:10:56.577984",
     "exception": false,
     "start_time": "2021-02-15T00:10:56.544749",
     "status": "completed"
    },
    "tags": []
   },
   "outputs": [],
   "source": []
  },
  {
   "cell_type": "code",
   "execution_count": null,
   "id": "aging-legislature",
   "metadata": {
    "papermill": {
     "duration": 0.032531,
     "end_time": "2021-02-15T00:10:56.643325",
     "exception": false,
     "start_time": "2021-02-15T00:10:56.610794",
     "status": "completed"
    },
    "tags": []
   },
   "outputs": [],
   "source": []
  }
 ],
 "metadata": {
  "kernelspec": {
   "display_name": "Python 3",
   "language": "python",
   "name": "python3"
  },
  "language_info": {
   "codemirror_mode": {
    "name": "ipython",
    "version": 3
   },
   "file_extension": ".py",
   "mimetype": "text/x-python",
   "name": "python",
   "nbconvert_exporter": "python",
   "pygments_lexer": "ipython3",
   "version": "3.6.12"
  },
  "papermill": {
   "duration": 6.936484,
   "end_time": "2021-02-15T00:10:56.983075",
   "environment_variables": {},
   "exception": null,
   "input_path": "2020-03-21-covid19exp.ipynb",
   "output_path": "2020-03-21-covid19exp.ipynb",
   "parameters": {},
   "start_time": "2021-02-15T00:10:50.046591",
   "version": "2.0.0"
  }
 },
 "nbformat": 4,
 "nbformat_minor": 5
}