{
 "cells": [
  {
   "cell_type": "markdown",
   "id": "muslim-click",
   "metadata": {
    "papermill": {
     "duration": 0.040336,
     "end_time": "2021-11-18T00:24:52.438768",
     "exception": false,
     "start_time": "2021-11-18T00:24:52.398432",
     "status": "completed"
    },
    "tags": []
   },
   "source": [
    "# COVID-19 Case Race\n",
    "> A race chart to see rising cases around the world\n",
    "\n",
    "- author: Hargun Oberoi\n",
    "- image: images/covid-overview.png\n",
    "- hide: false\n",
    "- badges: false"
   ]
  },
  {
   "cell_type": "code",
   "execution_count": 1,
   "id": "proof-material",
   "metadata": {
    "execution": {
     "iopub.execute_input": "2021-11-18T00:24:52.520481Z",
     "iopub.status.busy": "2021-11-18T00:24:52.519863Z",
     "iopub.status.idle": "2021-11-18T00:24:52.917144Z",
     "shell.execute_reply": "2021-11-18T00:24:52.915555Z"
    },
    "papermill": {
     "duration": 0.44346,
     "end_time": "2021-11-18T00:24:52.917414",
     "exception": false,
     "start_time": "2021-11-18T00:24:52.473954",
     "status": "completed"
    },
    "tags": []
   },
   "outputs": [],
   "source": [
    "#hide\n",
    "import numpy as np\n",
    "import pandas as pd\n",
    "from jinja2 import Template\n",
    "from IPython.display import HTML"
   ]
  },
  {
   "cell_type": "code",
   "execution_count": 2,
   "id": "developed-terminology",
   "metadata": {
    "execution": {
     "iopub.execute_input": "2021-11-18T00:24:52.991697Z",
     "iopub.status.busy": "2021-11-18T00:24:52.991073Z",
     "iopub.status.idle": "2021-11-18T00:24:52.993828Z",
     "shell.execute_reply": "2021-11-18T00:24:52.994313Z"
    },
    "papermill": {
     "duration": 0.040368,
     "end_time": "2021-11-18T00:24:52.994462",
     "exception": false,
     "start_time": "2021-11-18T00:24:52.954094",
     "status": "completed"
    },
    "tags": []
   },
   "outputs": [],
   "source": [
    "#hide\n",
    "\n",
    "# FETCH\n",
    "base_url = 'https://raw.githubusercontent.com/pratapvardhan/notebooks/master/covid19/'\n",
    "paths = {\n",
    "    'mapping': base_url + 'mapping_countries.csv',\n",
    "    'overview': base_url + 'overview.tpl'\n",
    "}"
   ]
  },
  {
   "cell_type": "code",
   "execution_count": 3,
   "id": "dynamic-saver",
   "metadata": {
    "execution": {
     "iopub.execute_input": "2021-11-18T00:24:53.072348Z",
     "iopub.status.busy": "2021-11-18T00:24:53.071714Z",
     "iopub.status.idle": "2021-11-18T00:24:53.074511Z",
     "shell.execute_reply": "2021-11-18T00:24:53.075023Z"
    },
    "papermill": {
     "duration": 0.04837,
     "end_time": "2021-11-18T00:24:53.075163",
     "exception": false,
     "start_time": "2021-11-18T00:24:53.026793",
     "status": "completed"
    },
    "tags": []
   },
   "outputs": [
    {
     "data": {
      "text/plain": [
       "'https://raw.githubusercontent.com/pratapvardhan/notebooks/master/covid19/mapping_countries.csv'"
      ]
     },
     "execution_count": 3,
     "metadata": {},
     "output_type": "execute_result"
    }
   ],
   "source": [
    "#hide\n",
    "paths['mapping']"
   ]
  },
  {
   "cell_type": "code",
   "execution_count": 4,
   "id": "urban-software",
   "metadata": {
    "execution": {
     "iopub.execute_input": "2021-11-18T00:24:53.149264Z",
     "iopub.status.busy": "2021-11-18T00:24:53.148670Z",
     "iopub.status.idle": "2021-11-18T00:24:53.152051Z",
     "shell.execute_reply": "2021-11-18T00:24:53.152508Z"
    },
    "papermill": {
     "duration": 0.044518,
     "end_time": "2021-11-18T00:24:53.152662",
     "exception": false,
     "start_time": "2021-11-18T00:24:53.108144",
     "status": "completed"
    },
    "tags": []
   },
   "outputs": [],
   "source": [
    "#hide\n",
    "def get_mappings(url):\n",
    "    df = pd.read_csv(url)\n",
    "    return {\n",
    "        'df': df,\n",
    "        'replace.country': dict(df.dropna(subset=['Name']).set_index('Country')['Name']),\n",
    "        'map.continent': dict(df.set_index('Name')['Continent'])\n",
    "    }"
   ]
  },
  {
   "cell_type": "code",
   "execution_count": 5,
   "id": "intimate-machinery",
   "metadata": {
    "execution": {
     "iopub.execute_input": "2021-11-18T00:24:53.225432Z",
     "iopub.status.busy": "2021-11-18T00:24:53.224767Z",
     "iopub.status.idle": "2021-11-18T00:24:53.260129Z",
     "shell.execute_reply": "2021-11-18T00:24:53.258905Z"
    },
    "papermill": {
     "duration": 0.074101,
     "end_time": "2021-11-18T00:24:53.260275",
     "exception": false,
     "start_time": "2021-11-18T00:24:53.186174",
     "status": "completed"
    },
    "tags": []
   },
   "outputs": [],
   "source": [
    "#hide\n",
    "mapping = get_mappings(paths['mapping'])"
   ]
  },
  {
   "cell_type": "code",
   "execution_count": 6,
   "id": "certified-tactics",
   "metadata": {
    "execution": {
     "iopub.execute_input": "2021-11-18T00:24:53.331281Z",
     "iopub.status.busy": "2021-11-18T00:24:53.330635Z",
     "iopub.status.idle": "2021-11-18T00:24:53.334171Z",
     "shell.execute_reply": "2021-11-18T00:24:53.333688Z"
    },
    "papermill": {
     "duration": 0.040516,
     "end_time": "2021-11-18T00:24:53.334306",
     "exception": false,
     "start_time": "2021-11-18T00:24:53.293790",
     "status": "completed"
    },
    "tags": []
   },
   "outputs": [],
   "source": [
    "#hide\n",
    "def get_template(path):\n",
    "    from urllib.parse import urlparse\n",
    "    if bool(urlparse(path).netloc):\n",
    "        from urllib.request import urlopen\n",
    "        return urlopen(path).read().decode('utf8')\n",
    "    return open(path).read()"
   ]
  },
  {
   "cell_type": "code",
   "execution_count": 7,
   "id": "realistic-blast",
   "metadata": {
    "execution": {
     "iopub.execute_input": "2021-11-18T00:24:53.406055Z",
     "iopub.status.busy": "2021-11-18T00:24:53.405414Z",
     "iopub.status.idle": "2021-11-18T00:24:53.408448Z",
     "shell.execute_reply": "2021-11-18T00:24:53.407819Z"
    },
    "papermill": {
     "duration": 0.041186,
     "end_time": "2021-11-18T00:24:53.408617",
     "exception": false,
     "start_time": "2021-11-18T00:24:53.367431",
     "status": "completed"
    },
    "tags": []
   },
   "outputs": [],
   "source": [
    "#hide\n",
    "def get_frame(name):\n",
    "    url = (\n",
    "        'https://raw.githubusercontent.com/CSSEGISandData/COVID-19/master/csse_covid_19_data/'\n",
    "        f'csse_covid_19_time_series/time_series_covid19_{name}_global.csv')\n",
    "    df = pd.read_csv(url)\n",
    "    # rename countries\n",
    "    df['Country/Region'] = df['Country/Region'].replace(mapping['replace.country'])\n",
    "    return df"
   ]
  },
  {
   "cell_type": "code",
   "execution_count": 8,
   "id": "affiliated-characterization",
   "metadata": {
    "execution": {
     "iopub.execute_input": "2021-11-18T00:24:53.485470Z",
     "iopub.status.busy": "2021-11-18T00:24:53.484827Z",
     "iopub.status.idle": "2021-11-18T00:24:53.487434Z",
     "shell.execute_reply": "2021-11-18T00:24:53.486949Z"
    },
    "papermill": {
     "duration": 0.043893,
     "end_time": "2021-11-18T00:24:53.487613",
     "exception": false,
     "start_time": "2021-11-18T00:24:53.443720",
     "status": "completed"
    },
    "tags": []
   },
   "outputs": [],
   "source": [
    "#hide\n",
    "def get_dates(df):\n",
    "    dt_cols = df.columns[~df.columns.isin(['Province/State', 'Country/Region', 'Lat', 'Long'])]\n",
    "    LAST_DATE_I = -1\n",
    "    # sometimes last column may be empty, then go backwards\n",
    "    for i in range(-1, -len(dt_cols), -1):\n",
    "        if not df[dt_cols[i]].fillna(0).eq(0).all():\n",
    "            LAST_DATE_I = i\n",
    "            break\n",
    "    return LAST_DATE_I, dt_cols"
   ]
  },
  {
   "cell_type": "code",
   "execution_count": 9,
   "id": "recent-optimization",
   "metadata": {
    "execution": {
     "iopub.execute_input": "2021-11-18T00:24:53.561903Z",
     "iopub.status.busy": "2021-11-18T00:24:53.561274Z",
     "iopub.status.idle": "2021-11-18T00:24:53.894746Z",
     "shell.execute_reply": "2021-11-18T00:24:53.894101Z"
    },
    "papermill": {
     "duration": 0.373513,
     "end_time": "2021-11-18T00:24:53.894881",
     "exception": false,
     "start_time": "2021-11-18T00:24:53.521368",
     "status": "completed"
    },
    "tags": []
   },
   "outputs": [],
   "source": [
    "#hide\n",
    "COL_REGION = 'Country/Region'\n",
    "# Confirmed, Recovered, Deaths\n",
    "df = get_frame('confirmed')\n",
    "# dft_: timeseries, dfc_: today country agg\n",
    "dft_cases = df\n",
    "dft_deaths = get_frame('deaths')\n",
    "dft_recovered = get_frame('recovered')\n",
    "LAST_DATE_I, dt_cols = get_dates(df)"
   ]
  },
  {
   "cell_type": "code",
   "execution_count": 10,
   "id": "absolute-copper",
   "metadata": {
    "execution": {
     "iopub.execute_input": "2021-11-18T00:24:53.970288Z",
     "iopub.status.busy": "2021-11-18T00:24:53.969680Z",
     "iopub.status.idle": "2021-11-18T00:24:53.971414Z",
     "shell.execute_reply": "2021-11-18T00:24:53.971969Z"
    },
    "papermill": {
     "duration": 0.044306,
     "end_time": "2021-11-18T00:24:53.972125",
     "exception": false,
     "start_time": "2021-11-18T00:24:53.927819",
     "status": "completed"
    },
    "tags": []
   },
   "outputs": [],
   "source": [
    "#hide\n",
    "LAST_DATE_I, dt_cols = get_dates(df)\n",
    "dt_today =dt_cols[LAST_DATE_I]\n",
    "# dt_5day = dt_cols[LAST_DATE_I - 5]\n",
    "dt_yday = dt_cols[LAST_DATE_I - 1]"
   ]
  },
  {
   "cell_type": "code",
   "execution_count": 11,
   "id": "restricted-sheriff",
   "metadata": {
    "execution": {
     "iopub.execute_input": "2021-11-18T00:24:54.046268Z",
     "iopub.status.busy": "2021-11-18T00:24:54.045690Z",
     "iopub.status.idle": "2021-11-18T00:24:54.051431Z",
     "shell.execute_reply": "2021-11-18T00:24:54.051929Z"
    },
    "papermill": {
     "duration": 0.048389,
     "end_time": "2021-11-18T00:24:54.052087",
     "exception": false,
     "start_time": "2021-11-18T00:24:54.003698",
     "status": "completed"
    },
    "tags": []
   },
   "outputs": [],
   "source": [
    "#hide\n",
    "dfc_cases = dft_cases.groupby(COL_REGION)[dt_today].sum()\n",
    "dfc_deaths = dft_deaths.groupby(COL_REGION)[dt_today].sum()\n",
    "# dfp_cases = dft_cases.groupby(COL_REGION)[dt_5day].sum()\n",
    "# dfp_deaths = dft_deaths.groupby(COL_REGION)[dt_5day].sum()\n",
    "dfp_cases = dft_cases.groupby(COL_REGION)[dt_yday].sum()\n",
    "dfp_deaths = dft_deaths.groupby(COL_REGION)[dt_yday].sum()"
   ]
  },
  {
   "cell_type": "code",
   "execution_count": 12,
   "id": "deluxe-hepatitis",
   "metadata": {
    "execution": {
     "iopub.execute_input": "2021-11-18T00:24:54.125201Z",
     "iopub.status.busy": "2021-11-18T00:24:54.124581Z",
     "iopub.status.idle": "2021-11-18T00:24:54.129535Z",
     "shell.execute_reply": "2021-11-18T00:24:54.129049Z"
    },
    "papermill": {
     "duration": 0.045186,
     "end_time": "2021-11-18T00:24:54.129669",
     "exception": false,
     "start_time": "2021-11-18T00:24:54.084483",
     "status": "completed"
    },
    "tags": []
   },
   "outputs": [],
   "source": [
    "#hide\n",
    "df_table = (pd.DataFrame(dict(Cases = dfc_cases, Deaths = dfc_deaths, PCases = dfp_cases, PDeaths = dfp_deaths))\n",
    "            .sort_values(by = ['Cases','Deaths'], ascending = [False, False])\n",
    "            .reset_index())"
   ]
  },
  {
   "cell_type": "code",
   "execution_count": 13,
   "id": "educational-chancellor",
   "metadata": {
    "execution": {
     "iopub.execute_input": "2021-11-18T00:24:54.209065Z",
     "iopub.status.busy": "2021-11-18T00:24:54.208486Z",
     "iopub.status.idle": "2021-11-18T00:24:54.223823Z",
     "shell.execute_reply": "2021-11-18T00:24:54.223284Z"
    },
    "papermill": {
     "duration": 0.061785,
     "end_time": "2021-11-18T00:24:54.223964",
     "exception": false,
     "start_time": "2021-11-18T00:24:54.162179",
     "status": "completed"
    },
    "tags": []
   },
   "outputs": [
    {
     "data": {
      "text/html": [
       "<div>\n",
       "<style scoped>\n",
       "    .dataframe tbody tr th:only-of-type {\n",
       "        vertical-align: middle;\n",
       "    }\n",
       "\n",
       "    .dataframe tbody tr th {\n",
       "        vertical-align: top;\n",
       "    }\n",
       "\n",
       "    .dataframe thead th {\n",
       "        text-align: right;\n",
       "    }\n",
       "</style>\n",
       "<table border=\"1\" class=\"dataframe\">\n",
       "  <thead>\n",
       "    <tr style=\"text-align: right;\">\n",
       "      <th></th>\n",
       "      <th>Country/Region</th>\n",
       "      <th>Cases</th>\n",
       "      <th>Deaths</th>\n",
       "      <th>PCases</th>\n",
       "      <th>PDeaths</th>\n",
       "      <th>Cases (+)</th>\n",
       "      <th>Deaths (+)</th>\n",
       "      <th>Fatality Rate</th>\n",
       "      <th>Continent</th>\n",
       "    </tr>\n",
       "  </thead>\n",
       "  <tbody>\n",
       "    <tr>\n",
       "      <th>0</th>\n",
       "      <td>US</td>\n",
       "      <td>47309008</td>\n",
       "      <td>765811</td>\n",
       "      <td>47221527</td>\n",
       "      <td>764363</td>\n",
       "      <td>87481</td>\n",
       "      <td>1448</td>\n",
       "      <td>1.62</td>\n",
       "      <td>North America</td>\n",
       "    </tr>\n",
       "    <tr>\n",
       "      <th>1</th>\n",
       "      <td>India</td>\n",
       "      <td>34466598</td>\n",
       "      <td>464153</td>\n",
       "      <td>34456401</td>\n",
       "      <td>463852</td>\n",
       "      <td>10197</td>\n",
       "      <td>301</td>\n",
       "      <td>1.35</td>\n",
       "      <td>Asia</td>\n",
       "    </tr>\n",
       "    <tr>\n",
       "      <th>2</th>\n",
       "      <td>Brazil</td>\n",
       "      <td>21965684</td>\n",
       "      <td>611478</td>\n",
       "      <td>21960766</td>\n",
       "      <td>611346</td>\n",
       "      <td>4918</td>\n",
       "      <td>132</td>\n",
       "      <td>2.78</td>\n",
       "      <td>South America</td>\n",
       "    </tr>\n",
       "    <tr>\n",
       "      <th>3</th>\n",
       "      <td>United Kingdom</td>\n",
       "      <td>9686363</td>\n",
       "      <td>143598</td>\n",
       "      <td>9649233</td>\n",
       "      <td>143384</td>\n",
       "      <td>37130</td>\n",
       "      <td>214</td>\n",
       "      <td>1.48</td>\n",
       "      <td>Europe</td>\n",
       "    </tr>\n",
       "    <tr>\n",
       "      <th>4</th>\n",
       "      <td>Russia</td>\n",
       "      <td>8991748</td>\n",
       "      <td>253009</td>\n",
       "      <td>8956136</td>\n",
       "      <td>251796</td>\n",
       "      <td>35612</td>\n",
       "      <td>1213</td>\n",
       "      <td>2.81</td>\n",
       "      <td>Europe</td>\n",
       "    </tr>\n",
       "  </tbody>\n",
       "</table>\n",
       "</div>"
      ],
      "text/plain": [
       "   Country/Region     Cases  Deaths    PCases  PDeaths  Cases (+)  Deaths (+)  \\\n",
       "0              US  47309008  765811  47221527   764363      87481        1448   \n",
       "1           India  34466598  464153  34456401   463852      10197         301   \n",
       "2          Brazil  21965684  611478  21960766   611346       4918         132   \n",
       "3  United Kingdom   9686363  143598   9649233   143384      37130         214   \n",
       "4          Russia   8991748  253009   8956136   251796      35612        1213   \n",
       "\n",
       "   Fatality Rate      Continent  \n",
       "0           1.62  North America  \n",
       "1           1.35           Asia  \n",
       "2           2.78  South America  \n",
       "3           1.48         Europe  \n",
       "4           2.81         Europe  "
      ]
     },
     "execution_count": 13,
     "metadata": {},
     "output_type": "execute_result"
    }
   ],
   "source": [
    "#hide\n",
    "for c in 'Cases, Deaths'.split(', '):\n",
    "    df_table[f'{c} (+)'] = (df_table[c] - df_table[f'P{c}']).clip(0)\n",
    "    #Clip ça veut dire, les chiffres negatif sont interdit\n",
    "df_table['Fatality Rate'] = (100* df_table['Deaths']/ df_table['Cases']).round(2)\n",
    "df_table['Continent'] = df_table['Country/Region'].map(mapping['map.continent'])\n",
    "df_table.head(5)"
   ]
  },
  {
   "cell_type": "code",
   "execution_count": 14,
   "id": "aboriginal-bulgaria",
   "metadata": {
    "execution": {
     "iopub.execute_input": "2021-11-18T00:24:54.298566Z",
     "iopub.status.busy": "2021-11-18T00:24:54.297920Z",
     "iopub.status.idle": "2021-11-18T00:24:54.300537Z",
     "shell.execute_reply": "2021-11-18T00:24:54.301039Z"
    },
    "papermill": {
     "duration": 0.043982,
     "end_time": "2021-11-18T00:24:54.301186",
     "exception": false,
     "start_time": "2021-11-18T00:24:54.257204",
     "status": "completed"
    },
    "tags": []
   },
   "outputs": [],
   "source": [
    "#hide\n",
    "#delete problematic countries from table\n",
    "df_table = df_table[~df_table['Country/Region'].isin(['Cape Verde', 'Cruise Ship', 'Kosovo'])]"
   ]
  },
  {
   "cell_type": "code",
   "execution_count": 15,
   "id": "fantastic-effect",
   "metadata": {
    "execution": {
     "iopub.execute_input": "2021-11-18T00:24:54.377687Z",
     "iopub.status.busy": "2021-11-18T00:24:54.377100Z",
     "iopub.status.idle": "2021-11-18T00:24:54.395575Z",
     "shell.execute_reply": "2021-11-18T00:24:54.395092Z"
    },
    "papermill": {
     "duration": 0.061052,
     "end_time": "2021-11-18T00:24:54.395706",
     "exception": false,
     "start_time": "2021-11-18T00:24:54.334654",
     "status": "completed"
    },
    "tags": []
   },
   "outputs": [
    {
     "data": {
      "text/html": [
       "<div>\n",
       "<style scoped>\n",
       "    .dataframe tbody tr th:only-of-type {\n",
       "        vertical-align: middle;\n",
       "    }\n",
       "\n",
       "    .dataframe tbody tr th {\n",
       "        vertical-align: top;\n",
       "    }\n",
       "\n",
       "    .dataframe thead th {\n",
       "        text-align: right;\n",
       "    }\n",
       "</style>\n",
       "<table border=\"1\" class=\"dataframe\">\n",
       "  <thead>\n",
       "    <tr style=\"text-align: right;\">\n",
       "      <th></th>\n",
       "      <th>Country/Region</th>\n",
       "      <th>Cases</th>\n",
       "      <th>Deaths</th>\n",
       "      <th>PCases</th>\n",
       "      <th>PDeaths</th>\n",
       "      <th>Cases (+)</th>\n",
       "      <th>Deaths (+)</th>\n",
       "      <th>Fatality Rate</th>\n",
       "      <th>Continent</th>\n",
       "    </tr>\n",
       "  </thead>\n",
       "  <tbody>\n",
       "    <tr>\n",
       "      <th>0</th>\n",
       "      <td>US</td>\n",
       "      <td>47309008</td>\n",
       "      <td>765811</td>\n",
       "      <td>47221527</td>\n",
       "      <td>764363</td>\n",
       "      <td>87481</td>\n",
       "      <td>1448</td>\n",
       "      <td>1.6</td>\n",
       "      <td>North America</td>\n",
       "    </tr>\n",
       "    <tr>\n",
       "      <th>1</th>\n",
       "      <td>India</td>\n",
       "      <td>34466598</td>\n",
       "      <td>464153</td>\n",
       "      <td>34456401</td>\n",
       "      <td>463852</td>\n",
       "      <td>10197</td>\n",
       "      <td>301</td>\n",
       "      <td>1.3</td>\n",
       "      <td>Asia</td>\n",
       "    </tr>\n",
       "    <tr>\n",
       "      <th>2</th>\n",
       "      <td>Brazil</td>\n",
       "      <td>21965684</td>\n",
       "      <td>611478</td>\n",
       "      <td>21960766</td>\n",
       "      <td>611346</td>\n",
       "      <td>4918</td>\n",
       "      <td>132</td>\n",
       "      <td>2.8</td>\n",
       "      <td>South America</td>\n",
       "    </tr>\n",
       "    <tr>\n",
       "      <th>3</th>\n",
       "      <td>United Kingdom</td>\n",
       "      <td>9686363</td>\n",
       "      <td>143598</td>\n",
       "      <td>9649233</td>\n",
       "      <td>143384</td>\n",
       "      <td>37130</td>\n",
       "      <td>214</td>\n",
       "      <td>1.5</td>\n",
       "      <td>Europe</td>\n",
       "    </tr>\n",
       "    <tr>\n",
       "      <th>4</th>\n",
       "      <td>Russia</td>\n",
       "      <td>8991748</td>\n",
       "      <td>253009</td>\n",
       "      <td>8956136</td>\n",
       "      <td>251796</td>\n",
       "      <td>35612</td>\n",
       "      <td>1213</td>\n",
       "      <td>2.8</td>\n",
       "      <td>Europe</td>\n",
       "    </tr>\n",
       "  </tbody>\n",
       "</table>\n",
       "</div>"
      ],
      "text/plain": [
       "   Country/Region     Cases  Deaths    PCases  PDeaths  Cases (+)  Deaths (+)  \\\n",
       "0              US  47309008  765811  47221527   764363      87481        1448   \n",
       "1           India  34466598  464153  34456401   463852      10197         301   \n",
       "2          Brazil  21965684  611478  21960766   611346       4918         132   \n",
       "3  United Kingdom   9686363  143598   9649233   143384      37130         214   \n",
       "4          Russia   8991748  253009   8956136   251796      35612        1213   \n",
       "\n",
       "   Fatality Rate      Continent  \n",
       "0            1.6  North America  \n",
       "1            1.3           Asia  \n",
       "2            2.8  South America  \n",
       "3            1.5         Europe  \n",
       "4            2.8         Europe  "
      ]
     },
     "execution_count": 15,
     "metadata": {},
     "output_type": "execute_result"
    }
   ],
   "source": [
    "#hide\n",
    "df_table = (pd.DataFrame(dict(Cases=dfc_cases, Deaths=dfc_deaths, PCases=dfp_cases, PDeaths=dfp_deaths))\n",
    "             .sort_values(by=['Cases', 'Deaths'], ascending=[False, False])\n",
    "             .reset_index())\n",
    "df_table.rename(columns={'index': 'Country/Region'}, inplace=True)\n",
    "for c in 'Cases, Deaths'.split(', '):\n",
    "    df_table[f'{c} (+)'] = (df_table[c] - df_table[f'P{c}']).clip(0)  # DATA BUG\n",
    "df_table['Fatality Rate'] = (100 * df_table['Deaths'] / df_table['Cases']).round(1)\n",
    "df_table['Continent'] = df_table['Country/Region'].map(mapping['map.continent'])\n",
    "df_table.head(5)"
   ]
  },
  {
   "cell_type": "code",
   "execution_count": 16,
   "id": "fewer-occasion",
   "metadata": {
    "execution": {
     "iopub.execute_input": "2021-11-18T00:24:54.470525Z",
     "iopub.status.busy": "2021-11-18T00:24:54.469930Z",
     "iopub.status.idle": "2021-11-18T00:24:54.472307Z",
     "shell.execute_reply": "2021-11-18T00:24:54.471696Z"
    },
    "papermill": {
     "duration": 0.043225,
     "end_time": "2021-11-18T00:24:54.472436",
     "exception": false,
     "start_time": "2021-11-18T00:24:54.429211",
     "status": "completed"
    },
    "tags": []
   },
   "outputs": [],
   "source": [
    "#hide\n",
    "#delete problematic countries from table\n",
    "df_table = df_table[~df_table['Country/Region'].isin(['Cape Verde', 'Cruise Ship', 'Kosovo'])]"
   ]
  },
  {
   "cell_type": "code",
   "execution_count": 17,
   "id": "related-center",
   "metadata": {
    "execution": {
     "iopub.execute_input": "2021-11-18T00:24:54.555924Z",
     "iopub.status.busy": "2021-11-18T00:24:54.555283Z",
     "iopub.status.idle": "2021-11-18T00:24:54.564276Z",
     "shell.execute_reply": "2021-11-18T00:24:54.563783Z"
    },
    "papermill": {
     "duration": 0.058365,
     "end_time": "2021-11-18T00:24:54.564402",
     "exception": false,
     "start_time": "2021-11-18T00:24:54.506037",
     "status": "completed"
    },
    "tags": []
   },
   "outputs": [],
   "source": [
    "#hide\n",
    "metrics = [df_table.columns[index] for index in [1,2,5,6]]\n",
    "# s_china = df_table[df_table['Country/Region'].eq('China')][metrics].sum().add_prefix('China ')\n",
    "s_us = df_table[df_table['Country/Region'].eq('US')][metrics].sum().add_prefix('US ')\n",
    "s_eu = df_table[df_table['Continent'].eq('Europe')][metrics].sum().add_prefix('EU ')\n",
    "s_ind = df_table[df_table['Country/Region'].eq('India')][metrics].sum().add_prefix('India ')\n",
    "summary = {'updated': pd.to_datetime(dt_today), 'since': pd.to_datetime(dt_yday)}\n",
    "summary = {'updated': pd.to_datetime(dt_today), 'since': pd.to_datetime(dt_yday)}\n",
    "summary = {**summary, **df_table[metrics].sum(), **s_ind, **s_us, **s_eu}"
   ]
  },
  {
   "cell_type": "code",
   "execution_count": 18,
   "id": "engaging-syndrome",
   "metadata": {
    "execution": {
     "iopub.execute_input": "2021-11-18T00:24:54.640108Z",
     "iopub.status.busy": "2021-11-18T00:24:54.639426Z",
     "iopub.status.idle": "2021-11-18T00:24:54.658887Z",
     "shell.execute_reply": "2021-11-18T00:24:54.658328Z"
    },
    "papermill": {
     "duration": 0.061082,
     "end_time": "2021-11-18T00:24:54.659024",
     "exception": false,
     "start_time": "2021-11-18T00:24:54.597942",
     "status": "completed"
    },
    "tags": []
   },
   "outputs": [],
   "source": [
    "#hide\n",
    "dft_ct_new_cases = dft_cases.groupby(COL_REGION)[dt_cols].sum().diff(axis=1).fillna(0).astype(int)"
   ]
  },
  {
   "cell_type": "code",
   "execution_count": 19,
   "id": "neutral-assignment",
   "metadata": {
    "execution": {
     "iopub.execute_input": "2021-11-18T00:24:54.735701Z",
     "iopub.status.busy": "2021-11-18T00:24:54.735047Z",
     "iopub.status.idle": "2021-11-18T00:24:54.737580Z",
     "shell.execute_reply": "2021-11-18T00:24:54.738053Z"
    },
    "papermill": {
     "duration": 0.044498,
     "end_time": "2021-11-18T00:24:54.738205",
     "exception": false,
     "start_time": "2021-11-18T00:24:54.693707",
     "status": "completed"
    },
    "tags": []
   },
   "outputs": [],
   "source": [
    "#hide\n",
    "everydaycases = dft_ct_new_cases.cumsum(axis=1)"
   ]
  },
  {
   "cell_type": "code",
   "execution_count": 20,
   "id": "parliamentary-calgary",
   "metadata": {
    "execution": {
     "iopub.execute_input": "2021-11-18T00:24:54.811669Z",
     "iopub.status.busy": "2021-11-18T00:24:54.811034Z",
     "iopub.status.idle": "2021-11-18T00:24:55.430121Z",
     "shell.execute_reply": "2021-11-18T00:24:55.429242Z"
    },
    "papermill": {
     "duration": 0.657347,
     "end_time": "2021-11-18T00:24:55.430343",
     "exception": false,
     "start_time": "2021-11-18T00:24:54.772996",
     "status": "completed"
    },
    "tags": []
   },
   "outputs": [],
   "source": [
    "#hide\n",
    "import pandas as pd\n",
    "import matplotlib.pyplot as plt\n",
    "import matplotlib.ticker as ticker\n",
    "import matplotlib.animation as animation\n",
    "from IPython.display import HTML"
   ]
  },
  {
   "cell_type": "code",
   "execution_count": 21,
   "id": "lasting-extraction",
   "metadata": {
    "execution": {
     "iopub.execute_input": "2021-11-18T00:24:55.507028Z",
     "iopub.status.busy": "2021-11-18T00:24:55.506419Z",
     "iopub.status.idle": "2021-11-18T00:24:55.512376Z",
     "shell.execute_reply": "2021-11-18T00:24:55.512817Z"
    },
    "papermill": {
     "duration": 0.047549,
     "end_time": "2021-11-18T00:24:55.512988",
     "exception": false,
     "start_time": "2021-11-18T00:24:55.465439",
     "status": "completed"
    },
    "tags": []
   },
   "outputs": [],
   "source": [
    "#hide\n",
    "t = everydaycases.stack()"
   ]
  },
  {
   "cell_type": "code",
   "execution_count": 22,
   "id": "premier-sleeve",
   "metadata": {
    "execution": {
     "iopub.execute_input": "2021-11-18T00:24:55.585980Z",
     "iopub.status.busy": "2021-11-18T00:24:55.585360Z",
     "iopub.status.idle": "2021-11-18T00:24:55.595802Z",
     "shell.execute_reply": "2021-11-18T00:24:55.595269Z"
    },
    "papermill": {
     "duration": 0.049582,
     "end_time": "2021-11-18T00:24:55.595943",
     "exception": false,
     "start_time": "2021-11-18T00:24:55.546361",
     "status": "completed"
    },
    "tags": []
   },
   "outputs": [],
   "source": [
    "#hide\n",
    "g = t.reset_index(['Country/Region'])"
   ]
  },
  {
   "cell_type": "code",
   "execution_count": 23,
   "id": "distributed-pittsburgh",
   "metadata": {
    "execution": {
     "iopub.execute_input": "2021-11-18T00:24:55.668866Z",
     "iopub.status.busy": "2021-11-18T00:24:55.668275Z",
     "iopub.status.idle": "2021-11-18T00:24:55.670447Z",
     "shell.execute_reply": "2021-11-18T00:24:55.670031Z"
    },
    "papermill": {
     "duration": 0.040637,
     "end_time": "2021-11-18T00:24:55.670581",
     "exception": false,
     "start_time": "2021-11-18T00:24:55.629944",
     "status": "completed"
    },
    "tags": []
   },
   "outputs": [],
   "source": [
    "#hide\n",
    "g.index.name = 'date'"
   ]
  },
  {
   "cell_type": "code",
   "execution_count": 24,
   "id": "naked-donor",
   "metadata": {
    "execution": {
     "iopub.execute_input": "2021-11-18T00:24:55.743463Z",
     "iopub.status.busy": "2021-11-18T00:24:55.742383Z",
     "iopub.status.idle": "2021-11-18T00:24:55.747776Z",
     "shell.execute_reply": "2021-11-18T00:24:55.746930Z"
    },
    "papermill": {
     "duration": 0.043823,
     "end_time": "2021-11-18T00:24:55.747925",
     "exception": false,
     "start_time": "2021-11-18T00:24:55.704102",
     "status": "completed"
    },
    "tags": []
   },
   "outputs": [],
   "source": [
    "# #hide\n",
    "# g = g.reset_index(['date'])"
   ]
  },
  {
   "cell_type": "code",
   "execution_count": 25,
   "id": "incomplete-mustang",
   "metadata": {
    "execution": {
     "iopub.execute_input": "2021-11-18T00:24:55.820528Z",
     "iopub.status.busy": "2021-11-18T00:24:55.819903Z",
     "iopub.status.idle": "2021-11-18T00:24:55.821453Z",
     "shell.execute_reply": "2021-11-18T00:24:55.822003Z"
    },
    "papermill": {
     "duration": 0.040356,
     "end_time": "2021-11-18T00:24:55.822155",
     "exception": false,
     "start_time": "2021-11-18T00:24:55.781799",
     "status": "completed"
    },
    "tags": []
   },
   "outputs": [],
   "source": [
    "#hide\n",
    "# g.head()"
   ]
  },
  {
   "cell_type": "code",
   "execution_count": 26,
   "id": "specific-kruger",
   "metadata": {
    "execution": {
     "iopub.execute_input": "2021-11-18T00:24:55.900377Z",
     "iopub.status.busy": "2021-11-18T00:24:55.899748Z",
     "iopub.status.idle": "2021-11-18T00:24:55.901636Z",
     "shell.execute_reply": "2021-11-18T00:24:55.902434Z"
    },
    "papermill": {
     "duration": 0.044198,
     "end_time": "2021-11-18T00:24:55.902615",
     "exception": false,
     "start_time": "2021-11-18T00:24:55.858417",
     "status": "completed"
    },
    "tags": []
   },
   "outputs": [],
   "source": [
    "#hide\n",
    "# g.columns = ['date','country','cases']"
   ]
  },
  {
   "cell_type": "code",
   "execution_count": 27,
   "id": "tender-conversion",
   "metadata": {
    "execution": {
     "iopub.execute_input": "2021-11-18T00:24:55.980075Z",
     "iopub.status.busy": "2021-11-18T00:24:55.978944Z",
     "iopub.status.idle": "2021-11-18T00:24:55.982961Z",
     "shell.execute_reply": "2021-11-18T00:24:55.982454Z"
    },
    "papermill": {
     "duration": 0.044223,
     "end_time": "2021-11-18T00:24:55.983102",
     "exception": false,
     "start_time": "2021-11-18T00:24:55.938879",
     "status": "completed"
    },
    "tags": []
   },
   "outputs": [],
   "source": [
    "#hide\n",
    "# g['continent'] = g.country"
   ]
  },
  {
   "cell_type": "code",
   "execution_count": 28,
   "id": "substantial-wilderness",
   "metadata": {
    "execution": {
     "iopub.execute_input": "2021-11-18T00:24:56.058009Z",
     "iopub.status.busy": "2021-11-18T00:24:56.057374Z",
     "iopub.status.idle": "2021-11-18T00:24:56.059859Z",
     "shell.execute_reply": "2021-11-18T00:24:56.060348Z"
    },
    "papermill": {
     "duration": 0.042144,
     "end_time": "2021-11-18T00:24:56.060504",
     "exception": false,
     "start_time": "2021-11-18T00:24:56.018360",
     "status": "completed"
    },
    "tags": []
   },
   "outputs": [],
   "source": [
    "#hide\n",
    "# cols = list(g.columns.values)"
   ]
  },
  {
   "cell_type": "code",
   "execution_count": 29,
   "id": "solved-farming",
   "metadata": {
    "execution": {
     "iopub.execute_input": "2021-11-18T00:24:56.134659Z",
     "iopub.status.busy": "2021-11-18T00:24:56.134050Z",
     "iopub.status.idle": "2021-11-18T00:24:56.136861Z",
     "shell.execute_reply": "2021-11-18T00:24:56.136377Z"
    },
    "papermill": {
     "duration": 0.041814,
     "end_time": "2021-11-18T00:24:56.136996",
     "exception": false,
     "start_time": "2021-11-18T00:24:56.095182",
     "status": "completed"
    },
    "tags": []
   },
   "outputs": [],
   "source": [
    "#hide\n",
    "# cols.insert(0, cols.pop())"
   ]
  },
  {
   "cell_type": "code",
   "execution_count": 30,
   "id": "executed-adoption",
   "metadata": {
    "execution": {
     "iopub.execute_input": "2021-11-18T00:24:56.209996Z",
     "iopub.status.busy": "2021-11-18T00:24:56.209022Z",
     "iopub.status.idle": "2021-11-18T00:24:56.212578Z",
     "shell.execute_reply": "2021-11-18T00:24:56.211787Z"
    },
    "papermill": {
     "duration": 0.040714,
     "end_time": "2021-11-18T00:24:56.212766",
     "exception": false,
     "start_time": "2021-11-18T00:24:56.172052",
     "status": "completed"
    },
    "tags": []
   },
   "outputs": [],
   "source": [
    "#hide\n",
    "# g = g[cols]"
   ]
  },
  {
   "cell_type": "code",
   "execution_count": 31,
   "id": "subject-dublin",
   "metadata": {
    "execution": {
     "iopub.execute_input": "2021-11-18T00:24:56.288985Z",
     "iopub.status.busy": "2021-11-18T00:24:56.288350Z",
     "iopub.status.idle": "2021-11-18T00:24:56.292495Z",
     "shell.execute_reply": "2021-11-18T00:24:56.292007Z"
    },
    "papermill": {
     "duration": 0.043908,
     "end_time": "2021-11-18T00:24:56.292630",
     "exception": false,
     "start_time": "2021-11-18T00:24:56.248722",
     "status": "completed"
    },
    "tags": []
   },
   "outputs": [],
   "source": [
    "#hide\n",
    "# g['continent'] = g['continent'].map(mapping['map.continent'])"
   ]
  },
  {
   "cell_type": "code",
   "execution_count": 32,
   "id": "freelance-scout",
   "metadata": {
    "execution": {
     "iopub.execute_input": "2021-11-18T00:24:56.365372Z",
     "iopub.status.busy": "2021-11-18T00:24:56.364768Z",
     "iopub.status.idle": "2021-11-18T00:24:56.367804Z",
     "shell.execute_reply": "2021-11-18T00:24:56.367216Z"
    },
    "papermill": {
     "duration": 0.040644,
     "end_time": "2021-11-18T00:24:56.367939",
     "exception": false,
     "start_time": "2021-11-18T00:24:56.327295",
     "status": "completed"
    },
    "tags": []
   },
   "outputs": [],
   "source": [
    "#hide\n",
    "# g.head()"
   ]
  },
  {
   "cell_type": "code",
   "execution_count": 33,
   "id": "limited-engine",
   "metadata": {
    "execution": {
     "iopub.execute_input": "2021-11-18T00:24:56.438151Z",
     "iopub.status.busy": "2021-11-18T00:24:56.437563Z",
     "iopub.status.idle": "2021-11-18T00:24:56.439685Z",
     "shell.execute_reply": "2021-11-18T00:24:56.440128Z"
    },
    "papermill": {
     "duration": 0.04011,
     "end_time": "2021-11-18T00:24:56.440280",
     "exception": false,
     "start_time": "2021-11-18T00:24:56.400170",
     "status": "completed"
    },
    "tags": []
   },
   "outputs": [],
   "source": [
    "# hide\n",
    "# g['date'] = g['date'].astype('datetime64[ns]')"
   ]
  },
  {
   "cell_type": "code",
   "execution_count": 34,
   "id": "sophisticated-supervisor",
   "metadata": {
    "execution": {
     "iopub.execute_input": "2021-11-18T00:24:56.513067Z",
     "iopub.status.busy": "2021-11-18T00:24:56.512440Z",
     "iopub.status.idle": "2021-11-18T00:24:56.514371Z",
     "shell.execute_reply": "2021-11-18T00:24:56.514940Z"
    },
    "papermill": {
     "duration": 0.041541,
     "end_time": "2021-11-18T00:24:56.515090",
     "exception": false,
     "start_time": "2021-11-18T00:24:56.473549",
     "status": "completed"
    },
    "tags": []
   },
   "outputs": [],
   "source": [
    "#hide\n",
    "# g['date'] = g.date.dt.dayofyear"
   ]
  },
  {
   "cell_type": "code",
   "execution_count": 35,
   "id": "inside-dubai",
   "metadata": {
    "execution": {
     "iopub.execute_input": "2021-11-18T00:24:56.588916Z",
     "iopub.status.busy": "2021-11-18T00:24:56.587836Z",
     "iopub.status.idle": "2021-11-18T00:24:56.590506Z",
     "shell.execute_reply": "2021-11-18T00:24:56.591293Z"
    },
    "papermill": {
     "duration": 0.04232,
     "end_time": "2021-11-18T00:24:56.591583",
     "exception": false,
     "start_time": "2021-11-18T00:24:56.549263",
     "status": "completed"
    },
    "tags": []
   },
   "outputs": [],
   "source": [
    "#hide\n",
    "# g = g.rename(columns= {'continent':'group','country':'name','cases':'value'})"
   ]
  },
  {
   "cell_type": "code",
   "execution_count": 36,
   "id": "fleet-motorcycle",
   "metadata": {
    "execution": {
     "iopub.execute_input": "2021-11-18T00:24:56.665579Z",
     "iopub.status.busy": "2021-11-18T00:24:56.664941Z",
     "iopub.status.idle": "2021-11-18T00:24:56.666834Z",
     "shell.execute_reply": "2021-11-18T00:24:56.667288Z"
    },
    "papermill": {
     "duration": 0.040678,
     "end_time": "2021-11-18T00:24:56.667441",
     "exception": false,
     "start_time": "2021-11-18T00:24:56.626763",
     "status": "completed"
    },
    "tags": []
   },
   "outputs": [],
   "source": [
    "#hide\n",
    "# cols = ['name','group','day','value']"
   ]
  },
  {
   "cell_type": "code",
   "execution_count": 37,
   "id": "continued-sleeping",
   "metadata": {
    "execution": {
     "iopub.execute_input": "2021-11-18T00:24:56.741823Z",
     "iopub.status.busy": "2021-11-18T00:24:56.740755Z",
     "iopub.status.idle": "2021-11-18T00:24:56.745440Z",
     "shell.execute_reply": "2021-11-18T00:24:56.745869Z"
    },
    "papermill": {
     "duration": 0.044884,
     "end_time": "2021-11-18T00:24:56.746017",
     "exception": false,
     "start_time": "2021-11-18T00:24:56.701133",
     "status": "completed"
    },
    "tags": []
   },
   "outputs": [],
   "source": [
    "#hide\n",
    "# g.rename(columns= {'date':'day'},inplace = True)"
   ]
  },
  {
   "cell_type": "code",
   "execution_count": 38,
   "id": "major-fight",
   "metadata": {
    "execution": {
     "iopub.execute_input": "2021-11-18T00:24:56.819136Z",
     "iopub.status.busy": "2021-11-18T00:24:56.818549Z",
     "iopub.status.idle": "2021-11-18T00:24:56.820903Z",
     "shell.execute_reply": "2021-11-18T00:24:56.821478Z"
    },
    "papermill": {
     "duration": 0.041236,
     "end_time": "2021-11-18T00:24:56.821633",
     "exception": false,
     "start_time": "2021-11-18T00:24:56.780397",
     "status": "completed"
    },
    "tags": []
   },
   "outputs": [],
   "source": [
    "#hide\n",
    "# g = g[cols]"
   ]
  },
  {
   "cell_type": "code",
   "execution_count": 39,
   "id": "structured-mobile",
   "metadata": {
    "execution": {
     "iopub.execute_input": "2021-11-18T00:24:56.895238Z",
     "iopub.status.busy": "2021-11-18T00:24:56.894612Z",
     "iopub.status.idle": "2021-11-18T00:24:56.897402Z",
     "shell.execute_reply": "2021-11-18T00:24:56.897882Z"
    },
    "papermill": {
     "duration": 0.041899,
     "end_time": "2021-11-18T00:24:56.898031",
     "exception": false,
     "start_time": "2021-11-18T00:24:56.856132",
     "status": "completed"
    },
    "tags": []
   },
   "outputs": [],
   "source": [
    "# #hide\n",
    "# g = g[g.group.notna()]"
   ]
  },
  {
   "cell_type": "code",
   "execution_count": 40,
   "id": "determined-closing",
   "metadata": {
    "execution": {
     "iopub.execute_input": "2021-11-18T00:24:56.971567Z",
     "iopub.status.busy": "2021-11-18T00:24:56.970810Z",
     "iopub.status.idle": "2021-11-18T00:24:56.972283Z",
     "shell.execute_reply": "2021-11-18T00:24:56.972919Z"
    },
    "papermill": {
     "duration": 0.04,
     "end_time": "2021-11-18T00:24:56.973081",
     "exception": false,
     "start_time": "2021-11-18T00:24:56.933081",
     "status": "completed"
    },
    "tags": []
   },
   "outputs": [],
   "source": [
    "# #hide\n",
    "# colors = dict(zip(\n",
    "#     [\"Oceania\", \"Europe\", \"Asia\", \"South America\", \"Middle East\", \"North America\", \"Africa\"],\n",
    "#     [\"#adb0ff\", \"#ffb3ff\", \"#90d595\", \"#e48381\", \"#aafbff\", \"#f7bb5f\", \"#eafb50\"]\n",
    "# ))\n",
    "# group_lk = g.set_index('name')['group'].to_dict()"
   ]
  },
  {
   "cell_type": "code",
   "execution_count": null,
   "id": "gross-drinking",
   "metadata": {
    "papermill": {
     "duration": 0.034125,
     "end_time": "2021-11-18T00:24:57.042222",
     "exception": false,
     "start_time": "2021-11-18T00:24:57.008097",
     "status": "completed"
    },
    "tags": []
   },
   "outputs": [],
   "source": []
  },
  {
   "cell_type": "code",
   "execution_count": 41,
   "id": "subject-macintosh",
   "metadata": {
    "execution": {
     "iopub.execute_input": "2021-11-18T00:24:57.118752Z",
     "iopub.status.busy": "2021-11-18T00:24:57.117641Z",
     "iopub.status.idle": "2021-11-18T00:24:57.122426Z",
     "shell.execute_reply": "2021-11-18T00:24:57.121934Z"
    },
    "papermill": {
     "duration": 0.045637,
     "end_time": "2021-11-18T00:24:57.122560",
     "exception": false,
     "start_time": "2021-11-18T00:24:57.076923",
     "status": "completed"
    },
    "tags": []
   },
   "outputs": [],
   "source": [
    "# #hide\n",
    "# fig, ax = plt.subplots(figsize=(15, 8))\n",
    "\n",
    "# def draw_barchart(current_day):\n",
    "#     dff = g[g['day'].eq(current_day)].sort_values(by='value', ascending=True).tail(10)\n",
    "#     ax.clear()\n",
    "#     ax.barh(dff['name'], dff['value'], color=[colors[group_lk[x]] for x in dff['name']])\n",
    "#     dx = dff['value'].max() / 200\n",
    "    \n",
    "#     for i, (value, name) in enumerate(zip(dff['value'], dff['name'])):\n",
    "#         ax.text(value-dx, i,     name,           size=14, weight=600, ha='right', va='bottom')\n",
    "#         ax.text(value-dx, i-.25, group_lk[name], size=10, color='#444444', ha='right', va='baseline')\n",
    "#         ax.text(value+dx, i,     f'{value:,.0f}',  size=14, ha='left',  va='center')\n",
    "#     ax.text(1, 0.4, current_day, transform=ax.transAxes, color='#777777', size=46, ha='right', weight=800)\n",
    "#     ax.text(0, 1.06, 'Population (thousands)', transform=ax.transAxes, size=12, color='#777777')\n",
    "#     ax.xaxis.set_major_formatter(ticker.StrMethodFormatter('{x:,.0f}'))\n",
    "#     ax.xaxis.set_ticks_position('top')\n",
    "#     ax.tick_params(axis='x', colors='#777777', labelsize=12)\n",
    "#     ax.set_yticks([])\n",
    "#     ax.margins(0, 0.01)\n",
    "#     ax.grid(which='major', axis='x', linestyle='-')\n",
    "#     ax.set_axisbelow(True)\n",
    "    \n",
    "#     ax.text(0, 1.15, 'Coronavirus',\n",
    "#             transform=ax.transAxes, size=24, weight=600, ha='left', va='top')\n",
    "# #     ax.text(1, 0, 'by @pratapvardhan; credit @jburnmurdoch', transform=ax.transAxes, color='#777777', ha='right',\n",
    "# #             bbox=dict(facecolor='white', alpha=0.8, edgecolor='white'))\n",
    "#     plt.box(False)"
   ]
  },
  {
   "cell_type": "code",
   "execution_count": 42,
   "id": "sexual-wages",
   "metadata": {
    "execution": {
     "iopub.execute_input": "2021-11-18T00:24:57.195776Z",
     "iopub.status.busy": "2021-11-18T00:24:57.195100Z",
     "iopub.status.idle": "2021-11-18T00:24:57.197780Z",
     "shell.execute_reply": "2021-11-18T00:24:57.198259Z"
    },
    "papermill": {
     "duration": 0.041477,
     "end_time": "2021-11-18T00:24:57.198419",
     "exception": false,
     "start_time": "2021-11-18T00:24:57.156942",
     "status": "completed"
    },
    "tags": []
   },
   "outputs": [],
   "source": [
    "# #hide_input\n",
    "# fig, ax = plt.subplots(figsize=(15, 8))\n",
    "# animator = animation.FuncAnimation(fig, draw_barchart, frames=range(g.day.values.min(), g.day.values.max()))\n",
    "# HTML(animator.to_jshtml())\n",
    "# # or use animator.to_html5_video() or animator.save() "
   ]
  },
  {
   "cell_type": "code",
   "execution_count": null,
   "id": "australian-container",
   "metadata": {
    "papermill": {
     "duration": 0.033741,
     "end_time": "2021-11-18T00:24:57.266544",
     "exception": false,
     "start_time": "2021-11-18T00:24:57.232803",
     "status": "completed"
    },
    "tags": []
   },
   "outputs": [],
   "source": []
  },
  {
   "cell_type": "code",
   "execution_count": null,
   "id": "mediterranean-pontiac",
   "metadata": {
    "papermill": {
     "duration": 0.033959,
     "end_time": "2021-11-18T00:24:57.334043",
     "exception": false,
     "start_time": "2021-11-18T00:24:57.300084",
     "status": "completed"
    },
    "tags": []
   },
   "outputs": [],
   "source": []
  },
  {
   "cell_type": "code",
   "execution_count": null,
   "id": "aging-legislature",
   "metadata": {
    "papermill": {
     "duration": 0.034095,
     "end_time": "2021-11-18T00:24:57.403104",
     "exception": false,
     "start_time": "2021-11-18T00:24:57.369009",
     "status": "completed"
    },
    "tags": []
   },
   "outputs": [],
   "source": []
  }
 ],
 "metadata": {
  "kernelspec": {
   "display_name": "Python 3",
   "language": "python",
   "name": "python3"
  },
  "language_info": {
   "codemirror_mode": {
    "name": "ipython",
    "version": 3
   },
   "file_extension": ".py",
   "mimetype": "text/x-python",
   "name": "python",
   "nbconvert_exporter": "python",
   "pygments_lexer": "ipython3",
   "version": "3.6.15"
  },
  "papermill": {
   "duration": 6.736263,
   "end_time": "2021-11-18T00:24:57.846813",
   "environment_variables": {},
   "exception": null,
   "input_path": "2020-03-21-covid19exp.ipynb",
   "output_path": "2020-03-21-covid19exp.ipynb",
   "parameters": {},
   "start_time": "2021-11-18T00:24:51.110550",
   "version": "2.0.0"
  }
 },
 "nbformat": 4,
 "nbformat_minor": 5
}