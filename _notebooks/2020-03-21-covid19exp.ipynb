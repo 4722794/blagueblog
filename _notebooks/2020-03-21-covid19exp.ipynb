{
 "cells": [
  {
   "cell_type": "markdown",
   "id": "muslim-click",
   "metadata": {
    "papermill": {
     "duration": 0.046233,
     "end_time": "2021-08-28T00:21:10.338292",
     "exception": false,
     "start_time": "2021-08-28T00:21:10.292059",
     "status": "completed"
    },
    "tags": []
   },
   "source": [
    "# COVID-19 Case Race\n",
    "> A race chart to see rising cases around the world\n",
    "\n",
    "- author: Hargun Oberoi\n",
    "- image: images/covid-overview.png\n",
    "- hide: false\n",
    "- badges: false"
   ]
  },
  {
   "cell_type": "code",
   "execution_count": 1,
   "id": "proof-material",
   "metadata": {
    "execution": {
     "iopub.execute_input": "2021-08-28T00:21:10.436101Z",
     "iopub.status.busy": "2021-08-28T00:21:10.435429Z",
     "iopub.status.idle": "2021-08-28T00:21:10.858562Z",
     "shell.execute_reply": "2021-08-28T00:21:10.858038Z"
    },
    "papermill": {
     "duration": 0.477043,
     "end_time": "2021-08-28T00:21:10.858712",
     "exception": false,
     "start_time": "2021-08-28T00:21:10.381669",
     "status": "completed"
    },
    "tags": []
   },
   "outputs": [],
   "source": [
    "#hide\n",
    "import numpy as np\n",
    "import pandas as pd\n",
    "from jinja2 import Template\n",
    "from IPython.display import HTML"
   ]
  },
  {
   "cell_type": "code",
   "execution_count": 2,
   "id": "developed-terminology",
   "metadata": {
    "execution": {
     "iopub.execute_input": "2021-08-28T00:21:10.946108Z",
     "iopub.status.busy": "2021-08-28T00:21:10.945481Z",
     "iopub.status.idle": "2021-08-28T00:21:10.950021Z",
     "shell.execute_reply": "2021-08-28T00:21:10.949327Z"
    },
    "papermill": {
     "duration": 0.049462,
     "end_time": "2021-08-28T00:21:10.950192",
     "exception": false,
     "start_time": "2021-08-28T00:21:10.900730",
     "status": "completed"
    },
    "tags": []
   },
   "outputs": [],
   "source": [
    "#hide\n",
    "\n",
    "# FETCH\n",
    "base_url = 'https://raw.githubusercontent.com/pratapvardhan/notebooks/master/covid19/'\n",
    "paths = {\n",
    "    'mapping': base_url + 'mapping_countries.csv',\n",
    "    'overview': base_url + 'overview.tpl'\n",
    "}"
   ]
  },
  {
   "cell_type": "code",
   "execution_count": 3,
   "id": "dynamic-saver",
   "metadata": {
    "execution": {
     "iopub.execute_input": "2021-08-28T00:21:11.036079Z",
     "iopub.status.busy": "2021-08-28T00:21:11.035439Z",
     "iopub.status.idle": "2021-08-28T00:21:11.041437Z",
     "shell.execute_reply": "2021-08-28T00:21:11.041918Z"
    },
    "papermill": {
     "duration": 0.052566,
     "end_time": "2021-08-28T00:21:11.042071",
     "exception": false,
     "start_time": "2021-08-28T00:21:10.989505",
     "status": "completed"
    },
    "tags": []
   },
   "outputs": [
    {
     "data": {
      "text/plain": [
       "'https://raw.githubusercontent.com/pratapvardhan/notebooks/master/covid19/mapping_countries.csv'"
      ]
     },
     "execution_count": 3,
     "metadata": {},
     "output_type": "execute_result"
    }
   ],
   "source": [
    "#hide\n",
    "paths['mapping']"
   ]
  },
  {
   "cell_type": "code",
   "execution_count": 4,
   "id": "urban-software",
   "metadata": {
    "execution": {
     "iopub.execute_input": "2021-08-28T00:21:11.129699Z",
     "iopub.status.busy": "2021-08-28T00:21:11.128871Z",
     "iopub.status.idle": "2021-08-28T00:21:11.131016Z",
     "shell.execute_reply": "2021-08-28T00:21:11.131634Z"
    },
    "papermill": {
     "duration": 0.047541,
     "end_time": "2021-08-28T00:21:11.131778",
     "exception": false,
     "start_time": "2021-08-28T00:21:11.084237",
     "status": "completed"
    },
    "tags": []
   },
   "outputs": [],
   "source": [
    "#hide\n",
    "def get_mappings(url):\n",
    "    df = pd.read_csv(url)\n",
    "    return {\n",
    "        'df': df,\n",
    "        'replace.country': dict(df.dropna(subset=['Name']).set_index('Country')['Name']),\n",
    "        'map.continent': dict(df.set_index('Name')['Continent'])\n",
    "    }"
   ]
  },
  {
   "cell_type": "code",
   "execution_count": 5,
   "id": "intimate-machinery",
   "metadata": {
    "execution": {
     "iopub.execute_input": "2021-08-28T00:21:11.214541Z",
     "iopub.status.busy": "2021-08-28T00:21:11.213833Z",
     "iopub.status.idle": "2021-08-28T00:21:11.255929Z",
     "shell.execute_reply": "2021-08-28T00:21:11.255327Z"
    },
    "papermill": {
     "duration": 0.085077,
     "end_time": "2021-08-28T00:21:11.256077",
     "exception": false,
     "start_time": "2021-08-28T00:21:11.171000",
     "status": "completed"
    },
    "tags": []
   },
   "outputs": [],
   "source": [
    "#hide\n",
    "mapping = get_mappings(paths['mapping'])"
   ]
  },
  {
   "cell_type": "code",
   "execution_count": 6,
   "id": "certified-tactics",
   "metadata": {
    "execution": {
     "iopub.execute_input": "2021-08-28T00:21:11.342570Z",
     "iopub.status.busy": "2021-08-28T00:21:11.341921Z",
     "iopub.status.idle": "2021-08-28T00:21:11.343855Z",
     "shell.execute_reply": "2021-08-28T00:21:11.344469Z"
    },
    "papermill": {
     "duration": 0.045474,
     "end_time": "2021-08-28T00:21:11.344606",
     "exception": false,
     "start_time": "2021-08-28T00:21:11.299132",
     "status": "completed"
    },
    "tags": []
   },
   "outputs": [],
   "source": [
    "#hide\n",
    "def get_template(path):\n",
    "    from urllib.parse import urlparse\n",
    "    if bool(urlparse(path).netloc):\n",
    "        from urllib.request import urlopen\n",
    "        return urlopen(path).read().decode('utf8')\n",
    "    return open(path).read()"
   ]
  },
  {
   "cell_type": "code",
   "execution_count": 7,
   "id": "realistic-blast",
   "metadata": {
    "execution": {
     "iopub.execute_input": "2021-08-28T00:21:11.426554Z",
     "iopub.status.busy": "2021-08-28T00:21:11.424380Z",
     "iopub.status.idle": "2021-08-28T00:21:11.428831Z",
     "shell.execute_reply": "2021-08-28T00:21:11.429443Z"
    },
    "papermill": {
     "duration": 0.046513,
     "end_time": "2021-08-28T00:21:11.429597",
     "exception": false,
     "start_time": "2021-08-28T00:21:11.383084",
     "status": "completed"
    },
    "tags": []
   },
   "outputs": [],
   "source": [
    "#hide\n",
    "def get_frame(name):\n",
    "    url = (\n",
    "        'https://raw.githubusercontent.com/CSSEGISandData/COVID-19/master/csse_covid_19_data/'\n",
    "        f'csse_covid_19_time_series/time_series_covid19_{name}_global.csv')\n",
    "    df = pd.read_csv(url)\n",
    "    # rename countries\n",
    "    df['Country/Region'] = df['Country/Region'].replace(mapping['replace.country'])\n",
    "    return df"
   ]
  },
  {
   "cell_type": "code",
   "execution_count": 8,
   "id": "affiliated-characterization",
   "metadata": {
    "execution": {
     "iopub.execute_input": "2021-08-28T00:21:11.516357Z",
     "iopub.status.busy": "2021-08-28T00:21:11.515673Z",
     "iopub.status.idle": "2021-08-28T00:21:11.518188Z",
     "shell.execute_reply": "2021-08-28T00:21:11.517401Z"
    },
    "papermill": {
     "duration": 0.052396,
     "end_time": "2021-08-28T00:21:11.518325",
     "exception": false,
     "start_time": "2021-08-28T00:21:11.465929",
     "status": "completed"
    },
    "tags": []
   },
   "outputs": [],
   "source": [
    "#hide\n",
    "def get_dates(df):\n",
    "    dt_cols = df.columns[~df.columns.isin(['Province/State', 'Country/Region', 'Lat', 'Long'])]\n",
    "    LAST_DATE_I = -1\n",
    "    # sometimes last column may be empty, then go backwards\n",
    "    for i in range(-1, -len(dt_cols), -1):\n",
    "        if not df[dt_cols[i]].fillna(0).eq(0).all():\n",
    "            LAST_DATE_I = i\n",
    "            break\n",
    "    return LAST_DATE_I, dt_cols"
   ]
  },
  {
   "cell_type": "code",
   "execution_count": 9,
   "id": "recent-optimization",
   "metadata": {
    "execution": {
     "iopub.execute_input": "2021-08-28T00:21:11.619926Z",
     "iopub.status.busy": "2021-08-28T00:21:11.619204Z",
     "iopub.status.idle": "2021-08-28T00:21:12.062283Z",
     "shell.execute_reply": "2021-08-28T00:21:12.061251Z"
    },
    "papermill": {
     "duration": 0.499975,
     "end_time": "2021-08-28T00:21:12.062422",
     "exception": false,
     "start_time": "2021-08-28T00:21:11.562447",
     "status": "completed"
    },
    "tags": []
   },
   "outputs": [],
   "source": [
    "#hide\n",
    "COL_REGION = 'Country/Region'\n",
    "# Confirmed, Recovered, Deaths\n",
    "df = get_frame('confirmed')\n",
    "# dft_: timeseries, dfc_: today country agg\n",
    "dft_cases = df\n",
    "dft_deaths = get_frame('deaths')\n",
    "dft_recovered = get_frame('recovered')\n",
    "LAST_DATE_I, dt_cols = get_dates(df)"
   ]
  },
  {
   "cell_type": "code",
   "execution_count": 10,
   "id": "absolute-copper",
   "metadata": {
    "execution": {
     "iopub.execute_input": "2021-08-28T00:21:12.153032Z",
     "iopub.status.busy": "2021-08-28T00:21:12.151552Z",
     "iopub.status.idle": "2021-08-28T00:21:12.153717Z",
     "shell.execute_reply": "2021-08-28T00:21:12.154439Z"
    },
    "papermill": {
     "duration": 0.052382,
     "end_time": "2021-08-28T00:21:12.154662",
     "exception": false,
     "start_time": "2021-08-28T00:21:12.102280",
     "status": "completed"
    },
    "tags": []
   },
   "outputs": [],
   "source": [
    "#hide\n",
    "LAST_DATE_I, dt_cols = get_dates(df)\n",
    "dt_today =dt_cols[LAST_DATE_I]\n",
    "# dt_5day = dt_cols[LAST_DATE_I - 5]\n",
    "dt_yday = dt_cols[LAST_DATE_I - 1]"
   ]
  },
  {
   "cell_type": "code",
   "execution_count": 11,
   "id": "restricted-sheriff",
   "metadata": {
    "execution": {
     "iopub.execute_input": "2021-08-28T00:21:12.238989Z",
     "iopub.status.busy": "2021-08-28T00:21:12.238296Z",
     "iopub.status.idle": "2021-08-28T00:21:12.246324Z",
     "shell.execute_reply": "2021-08-28T00:21:12.245850Z"
    },
    "papermill": {
     "duration": 0.052344,
     "end_time": "2021-08-28T00:21:12.246457",
     "exception": false,
     "start_time": "2021-08-28T00:21:12.194113",
     "status": "completed"
    },
    "tags": []
   },
   "outputs": [],
   "source": [
    "#hide\n",
    "dfc_cases = dft_cases.groupby(COL_REGION)[dt_today].sum()\n",
    "dfc_deaths = dft_deaths.groupby(COL_REGION)[dt_today].sum()\n",
    "# dfp_cases = dft_cases.groupby(COL_REGION)[dt_5day].sum()\n",
    "# dfp_deaths = dft_deaths.groupby(COL_REGION)[dt_5day].sum()\n",
    "dfp_cases = dft_cases.groupby(COL_REGION)[dt_yday].sum()\n",
    "dfp_deaths = dft_deaths.groupby(COL_REGION)[dt_yday].sum()"
   ]
  },
  {
   "cell_type": "code",
   "execution_count": 12,
   "id": "deluxe-hepatitis",
   "metadata": {
    "execution": {
     "iopub.execute_input": "2021-08-28T00:21:12.328974Z",
     "iopub.status.busy": "2021-08-28T00:21:12.328249Z",
     "iopub.status.idle": "2021-08-28T00:21:12.333713Z",
     "shell.execute_reply": "2021-08-28T00:21:12.333226Z"
    },
    "papermill": {
     "duration": 0.049678,
     "end_time": "2021-08-28T00:21:12.333830",
     "exception": false,
     "start_time": "2021-08-28T00:21:12.284152",
     "status": "completed"
    },
    "tags": []
   },
   "outputs": [],
   "source": [
    "#hide\n",
    "df_table = (pd.DataFrame(dict(Cases = dfc_cases, Deaths = dfc_deaths, PCases = dfp_cases, PDeaths = dfp_deaths))\n",
    "            .sort_values(by = ['Cases','Deaths'], ascending = [False, False])\n",
    "            .reset_index())"
   ]
  },
  {
   "cell_type": "code",
   "execution_count": 13,
   "id": "educational-chancellor",
   "metadata": {
    "execution": {
     "iopub.execute_input": "2021-08-28T00:21:12.439547Z",
     "iopub.status.busy": "2021-08-28T00:21:12.433229Z",
     "iopub.status.idle": "2021-08-28T00:21:12.443755Z",
     "shell.execute_reply": "2021-08-28T00:21:12.444590Z"
    },
    "papermill": {
     "duration": 0.070311,
     "end_time": "2021-08-28T00:21:12.444741",
     "exception": false,
     "start_time": "2021-08-28T00:21:12.374430",
     "status": "completed"
    },
    "tags": []
   },
   "outputs": [
    {
     "data": {
      "text/html": [
       "<div>\n",
       "<style scoped>\n",
       "    .dataframe tbody tr th:only-of-type {\n",
       "        vertical-align: middle;\n",
       "    }\n",
       "\n",
       "    .dataframe tbody tr th {\n",
       "        vertical-align: top;\n",
       "    }\n",
       "\n",
       "    .dataframe thead th {\n",
       "        text-align: right;\n",
       "    }\n",
       "</style>\n",
       "<table border=\"1\" class=\"dataframe\">\n",
       "  <thead>\n",
       "    <tr style=\"text-align: right;\">\n",
       "      <th></th>\n",
       "      <th>Country/Region</th>\n",
       "      <th>Cases</th>\n",
       "      <th>Deaths</th>\n",
       "      <th>PCases</th>\n",
       "      <th>PDeaths</th>\n",
       "      <th>Cases (+)</th>\n",
       "      <th>Deaths (+)</th>\n",
       "      <th>Fatality Rate</th>\n",
       "      <th>Continent</th>\n",
       "    </tr>\n",
       "  </thead>\n",
       "  <tbody>\n",
       "    <tr>\n",
       "      <th>0</th>\n",
       "      <td>US</td>\n",
       "      <td>38384360</td>\n",
       "      <td>633564</td>\n",
       "      <td>38223029</td>\n",
       "      <td>632272</td>\n",
       "      <td>161331</td>\n",
       "      <td>1292</td>\n",
       "      <td>1.65</td>\n",
       "      <td>North America</td>\n",
       "    </tr>\n",
       "    <tr>\n",
       "      <th>1</th>\n",
       "      <td>India</td>\n",
       "      <td>32603188</td>\n",
       "      <td>436861</td>\n",
       "      <td>32558530</td>\n",
       "      <td>436365</td>\n",
       "      <td>44658</td>\n",
       "      <td>496</td>\n",
       "      <td>1.34</td>\n",
       "      <td>Asia</td>\n",
       "    </tr>\n",
       "    <tr>\n",
       "      <th>2</th>\n",
       "      <td>Brazil</td>\n",
       "      <td>20676561</td>\n",
       "      <td>577565</td>\n",
       "      <td>20645537</td>\n",
       "      <td>576645</td>\n",
       "      <td>31024</td>\n",
       "      <td>920</td>\n",
       "      <td>2.79</td>\n",
       "      <td>South America</td>\n",
       "    </tr>\n",
       "    <tr>\n",
       "      <th>3</th>\n",
       "      <td>France</td>\n",
       "      <td>6777676</td>\n",
       "      <td>114269</td>\n",
       "      <td>6757783</td>\n",
       "      <td>114144</td>\n",
       "      <td>19893</td>\n",
       "      <td>125</td>\n",
       "      <td>1.69</td>\n",
       "      <td>Europe</td>\n",
       "    </tr>\n",
       "    <tr>\n",
       "      <th>4</th>\n",
       "      <td>Russia</td>\n",
       "      <td>6728699</td>\n",
       "      <td>176127</td>\n",
       "      <td>6709605</td>\n",
       "      <td>175328</td>\n",
       "      <td>19094</td>\n",
       "      <td>799</td>\n",
       "      <td>2.62</td>\n",
       "      <td>Europe</td>\n",
       "    </tr>\n",
       "  </tbody>\n",
       "</table>\n",
       "</div>"
      ],
      "text/plain": [
       "  Country/Region     Cases  Deaths    PCases  PDeaths  Cases (+)  Deaths (+)  \\\n",
       "0             US  38384360  633564  38223029   632272     161331        1292   \n",
       "1          India  32603188  436861  32558530   436365      44658         496   \n",
       "2         Brazil  20676561  577565  20645537   576645      31024         920   \n",
       "3         France   6777676  114269   6757783   114144      19893         125   \n",
       "4         Russia   6728699  176127   6709605   175328      19094         799   \n",
       "\n",
       "   Fatality Rate      Continent  \n",
       "0           1.65  North America  \n",
       "1           1.34           Asia  \n",
       "2           2.79  South America  \n",
       "3           1.69         Europe  \n",
       "4           2.62         Europe  "
      ]
     },
     "execution_count": 13,
     "metadata": {},
     "output_type": "execute_result"
    }
   ],
   "source": [
    "#hide\n",
    "for c in 'Cases, Deaths'.split(', '):\n",
    "    df_table[f'{c} (+)'] = (df_table[c] - df_table[f'P{c}']).clip(0)\n",
    "    #Clip ça veut dire, les chiffres negatif sont interdit\n",
    "df_table['Fatality Rate'] = (100* df_table['Deaths']/ df_table['Cases']).round(2)\n",
    "df_table['Continent'] = df_table['Country/Region'].map(mapping['map.continent'])\n",
    "df_table.head(5)"
   ]
  },
  {
   "cell_type": "code",
   "execution_count": 14,
   "id": "aboriginal-bulgaria",
   "metadata": {
    "execution": {
     "iopub.execute_input": "2021-08-28T00:21:12.529407Z",
     "iopub.status.busy": "2021-08-28T00:21:12.528724Z",
     "iopub.status.idle": "2021-08-28T00:21:12.548621Z",
     "shell.execute_reply": "2021-08-28T00:21:12.548027Z"
    },
    "papermill": {
     "duration": 0.063794,
     "end_time": "2021-08-28T00:21:12.548761",
     "exception": false,
     "start_time": "2021-08-28T00:21:12.484967",
     "status": "completed"
    },
    "tags": []
   },
   "outputs": [],
   "source": [
    "#hide\n",
    "#delete problematic countries from table\n",
    "df_table = df_table[~df_table['Country/Region'].isin(['Cape Verde', 'Cruise Ship', 'Kosovo'])]"
   ]
  },
  {
   "cell_type": "code",
   "execution_count": 15,
   "id": "fantastic-effect",
   "metadata": {
    "execution": {
     "iopub.execute_input": "2021-08-28T00:21:12.649897Z",
     "iopub.status.busy": "2021-08-28T00:21:12.649202Z",
     "iopub.status.idle": "2021-08-28T00:21:12.673525Z",
     "shell.execute_reply": "2021-08-28T00:21:12.672938Z"
    },
    "papermill": {
     "duration": 0.075786,
     "end_time": "2021-08-28T00:21:12.673663",
     "exception": false,
     "start_time": "2021-08-28T00:21:12.597877",
     "status": "completed"
    },
    "tags": []
   },
   "outputs": [
    {
     "data": {
      "text/html": [
       "<div>\n",
       "<style scoped>\n",
       "    .dataframe tbody tr th:only-of-type {\n",
       "        vertical-align: middle;\n",
       "    }\n",
       "\n",
       "    .dataframe tbody tr th {\n",
       "        vertical-align: top;\n",
       "    }\n",
       "\n",
       "    .dataframe thead th {\n",
       "        text-align: right;\n",
       "    }\n",
       "</style>\n",
       "<table border=\"1\" class=\"dataframe\">\n",
       "  <thead>\n",
       "    <tr style=\"text-align: right;\">\n",
       "      <th></th>\n",
       "      <th>Country/Region</th>\n",
       "      <th>Cases</th>\n",
       "      <th>Deaths</th>\n",
       "      <th>PCases</th>\n",
       "      <th>PDeaths</th>\n",
       "      <th>Cases (+)</th>\n",
       "      <th>Deaths (+)</th>\n",
       "      <th>Fatality Rate</th>\n",
       "      <th>Continent</th>\n",
       "    </tr>\n",
       "  </thead>\n",
       "  <tbody>\n",
       "    <tr>\n",
       "      <th>0</th>\n",
       "      <td>US</td>\n",
       "      <td>38384360</td>\n",
       "      <td>633564</td>\n",
       "      <td>38223029</td>\n",
       "      <td>632272</td>\n",
       "      <td>161331</td>\n",
       "      <td>1292</td>\n",
       "      <td>1.7</td>\n",
       "      <td>North America</td>\n",
       "    </tr>\n",
       "    <tr>\n",
       "      <th>1</th>\n",
       "      <td>India</td>\n",
       "      <td>32603188</td>\n",
       "      <td>436861</td>\n",
       "      <td>32558530</td>\n",
       "      <td>436365</td>\n",
       "      <td>44658</td>\n",
       "      <td>496</td>\n",
       "      <td>1.3</td>\n",
       "      <td>Asia</td>\n",
       "    </tr>\n",
       "    <tr>\n",
       "      <th>2</th>\n",
       "      <td>Brazil</td>\n",
       "      <td>20676561</td>\n",
       "      <td>577565</td>\n",
       "      <td>20645537</td>\n",
       "      <td>576645</td>\n",
       "      <td>31024</td>\n",
       "      <td>920</td>\n",
       "      <td>2.8</td>\n",
       "      <td>South America</td>\n",
       "    </tr>\n",
       "    <tr>\n",
       "      <th>3</th>\n",
       "      <td>France</td>\n",
       "      <td>6777676</td>\n",
       "      <td>114269</td>\n",
       "      <td>6757783</td>\n",
       "      <td>114144</td>\n",
       "      <td>19893</td>\n",
       "      <td>125</td>\n",
       "      <td>1.7</td>\n",
       "      <td>Europe</td>\n",
       "    </tr>\n",
       "    <tr>\n",
       "      <th>4</th>\n",
       "      <td>Russia</td>\n",
       "      <td>6728699</td>\n",
       "      <td>176127</td>\n",
       "      <td>6709605</td>\n",
       "      <td>175328</td>\n",
       "      <td>19094</td>\n",
       "      <td>799</td>\n",
       "      <td>2.6</td>\n",
       "      <td>Europe</td>\n",
       "    </tr>\n",
       "  </tbody>\n",
       "</table>\n",
       "</div>"
      ],
      "text/plain": [
       "  Country/Region     Cases  Deaths    PCases  PDeaths  Cases (+)  Deaths (+)  \\\n",
       "0             US  38384360  633564  38223029   632272     161331        1292   \n",
       "1          India  32603188  436861  32558530   436365      44658         496   \n",
       "2         Brazil  20676561  577565  20645537   576645      31024         920   \n",
       "3         France   6777676  114269   6757783   114144      19893         125   \n",
       "4         Russia   6728699  176127   6709605   175328      19094         799   \n",
       "\n",
       "   Fatality Rate      Continent  \n",
       "0            1.7  North America  \n",
       "1            1.3           Asia  \n",
       "2            2.8  South America  \n",
       "3            1.7         Europe  \n",
       "4            2.6         Europe  "
      ]
     },
     "execution_count": 15,
     "metadata": {},
     "output_type": "execute_result"
    }
   ],
   "source": [
    "#hide\n",
    "df_table = (pd.DataFrame(dict(Cases=dfc_cases, Deaths=dfc_deaths, PCases=dfp_cases, PDeaths=dfp_deaths))\n",
    "             .sort_values(by=['Cases', 'Deaths'], ascending=[False, False])\n",
    "             .reset_index())\n",
    "df_table.rename(columns={'index': 'Country/Region'}, inplace=True)\n",
    "for c in 'Cases, Deaths'.split(', '):\n",
    "    df_table[f'{c} (+)'] = (df_table[c] - df_table[f'P{c}']).clip(0)  # DATA BUG\n",
    "df_table['Fatality Rate'] = (100 * df_table['Deaths'] / df_table['Cases']).round(1)\n",
    "df_table['Continent'] = df_table['Country/Region'].map(mapping['map.continent'])\n",
    "df_table.head(5)"
   ]
  },
  {
   "cell_type": "code",
   "execution_count": 16,
   "id": "fewer-occasion",
   "metadata": {
    "execution": {
     "iopub.execute_input": "2021-08-28T00:21:12.762538Z",
     "iopub.status.busy": "2021-08-28T00:21:12.761911Z",
     "iopub.status.idle": "2021-08-28T00:21:12.765320Z",
     "shell.execute_reply": "2021-08-28T00:21:12.764850Z"
    },
    "papermill": {
     "duration": 0.050654,
     "end_time": "2021-08-28T00:21:12.765443",
     "exception": false,
     "start_time": "2021-08-28T00:21:12.714789",
     "status": "completed"
    },
    "tags": []
   },
   "outputs": [],
   "source": [
    "#hide\n",
    "#delete problematic countries from table\n",
    "df_table = df_table[~df_table['Country/Region'].isin(['Cape Verde', 'Cruise Ship', 'Kosovo'])]"
   ]
  },
  {
   "cell_type": "code",
   "execution_count": 17,
   "id": "related-center",
   "metadata": {
    "execution": {
     "iopub.execute_input": "2021-08-28T00:21:12.869378Z",
     "iopub.status.busy": "2021-08-28T00:21:12.868705Z",
     "iopub.status.idle": "2021-08-28T00:21:12.870486Z",
     "shell.execute_reply": "2021-08-28T00:21:12.871033Z"
    },
    "papermill": {
     "duration": 0.066003,
     "end_time": "2021-08-28T00:21:12.871185",
     "exception": false,
     "start_time": "2021-08-28T00:21:12.805182",
     "status": "completed"
    },
    "tags": []
   },
   "outputs": [],
   "source": [
    "#hide\n",
    "metrics = [df_table.columns[index] for index in [1,2,5,6]]\n",
    "# s_china = df_table[df_table['Country/Region'].eq('China')][metrics].sum().add_prefix('China ')\n",
    "s_us = df_table[df_table['Country/Region'].eq('US')][metrics].sum().add_prefix('US ')\n",
    "s_eu = df_table[df_table['Continent'].eq('Europe')][metrics].sum().add_prefix('EU ')\n",
    "s_ind = df_table[df_table['Country/Region'].eq('India')][metrics].sum().add_prefix('India ')\n",
    "summary = {'updated': pd.to_datetime(dt_today), 'since': pd.to_datetime(dt_yday)}\n",
    "summary = {'updated': pd.to_datetime(dt_today), 'since': pd.to_datetime(dt_yday)}\n",
    "summary = {**summary, **df_table[metrics].sum(), **s_ind, **s_us, **s_eu}"
   ]
  },
  {
   "cell_type": "code",
   "execution_count": 18,
   "id": "engaging-syndrome",
   "metadata": {
    "execution": {
     "iopub.execute_input": "2021-08-28T00:21:12.960362Z",
     "iopub.status.busy": "2021-08-28T00:21:12.959759Z",
     "iopub.status.idle": "2021-08-28T00:21:12.974534Z",
     "shell.execute_reply": "2021-08-28T00:21:12.975081Z"
    },
    "papermill": {
     "duration": 0.061423,
     "end_time": "2021-08-28T00:21:12.975261",
     "exception": false,
     "start_time": "2021-08-28T00:21:12.913838",
     "status": "completed"
    },
    "tags": []
   },
   "outputs": [],
   "source": [
    "#hide\n",
    "dft_ct_new_cases = dft_cases.groupby(COL_REGION)[dt_cols].sum().diff(axis=1).fillna(0).astype(int)"
   ]
  },
  {
   "cell_type": "code",
   "execution_count": 19,
   "id": "neutral-assignment",
   "metadata": {
    "execution": {
     "iopub.execute_input": "2021-08-28T00:21:13.063550Z",
     "iopub.status.busy": "2021-08-28T00:21:13.062909Z",
     "iopub.status.idle": "2021-08-28T00:21:13.079929Z",
     "shell.execute_reply": "2021-08-28T00:21:13.079344Z"
    },
    "papermill": {
     "duration": 0.062278,
     "end_time": "2021-08-28T00:21:13.080068",
     "exception": false,
     "start_time": "2021-08-28T00:21:13.017790",
     "status": "completed"
    },
    "tags": []
   },
   "outputs": [],
   "source": [
    "#hide\n",
    "everydaycases = dft_ct_new_cases.cumsum(axis=1)"
   ]
  },
  {
   "cell_type": "code",
   "execution_count": 20,
   "id": "parliamentary-calgary",
   "metadata": {
    "execution": {
     "iopub.execute_input": "2021-08-28T00:21:13.168336Z",
     "iopub.status.busy": "2021-08-28T00:21:13.167741Z",
     "iopub.status.idle": "2021-08-28T00:21:13.869313Z",
     "shell.execute_reply": "2021-08-28T00:21:13.868698Z"
    },
    "papermill": {
     "duration": 0.745858,
     "end_time": "2021-08-28T00:21:13.869453",
     "exception": false,
     "start_time": "2021-08-28T00:21:13.123595",
     "status": "completed"
    },
    "tags": []
   },
   "outputs": [],
   "source": [
    "#hide\n",
    "import pandas as pd\n",
    "import matplotlib.pyplot as plt\n",
    "import matplotlib.ticker as ticker\n",
    "import matplotlib.animation as animation\n",
    "from IPython.display import HTML"
   ]
  },
  {
   "cell_type": "code",
   "execution_count": 21,
   "id": "lasting-extraction",
   "metadata": {
    "execution": {
     "iopub.execute_input": "2021-08-28T00:21:13.960752Z",
     "iopub.status.busy": "2021-08-28T00:21:13.960037Z",
     "iopub.status.idle": "2021-08-28T00:21:13.966432Z",
     "shell.execute_reply": "2021-08-28T00:21:13.966933Z"
    },
    "papermill": {
     "duration": 0.05331,
     "end_time": "2021-08-28T00:21:13.967129",
     "exception": false,
     "start_time": "2021-08-28T00:21:13.913819",
     "status": "completed"
    },
    "tags": []
   },
   "outputs": [],
   "source": [
    "#hide\n",
    "t = everydaycases.stack()"
   ]
  },
  {
   "cell_type": "code",
   "execution_count": 22,
   "id": "premier-sleeve",
   "metadata": {
    "execution": {
     "iopub.execute_input": "2021-08-28T00:21:14.054496Z",
     "iopub.status.busy": "2021-08-28T00:21:14.053887Z",
     "iopub.status.idle": "2021-08-28T00:21:14.063720Z",
     "shell.execute_reply": "2021-08-28T00:21:14.064301Z"
    },
    "papermill": {
     "duration": 0.054983,
     "end_time": "2021-08-28T00:21:14.064456",
     "exception": false,
     "start_time": "2021-08-28T00:21:14.009473",
     "status": "completed"
    },
    "tags": []
   },
   "outputs": [],
   "source": [
    "#hide\n",
    "g = t.reset_index(['Country/Region'])"
   ]
  },
  {
   "cell_type": "code",
   "execution_count": 23,
   "id": "distributed-pittsburgh",
   "metadata": {
    "execution": {
     "iopub.execute_input": "2021-08-28T00:21:14.152157Z",
     "iopub.status.busy": "2021-08-28T00:21:14.150581Z",
     "iopub.status.idle": "2021-08-28T00:21:14.152918Z",
     "shell.execute_reply": "2021-08-28T00:21:14.153575Z"
    },
    "papermill": {
     "duration": 0.048491,
     "end_time": "2021-08-28T00:21:14.153743",
     "exception": false,
     "start_time": "2021-08-28T00:21:14.105252",
     "status": "completed"
    },
    "tags": []
   },
   "outputs": [],
   "source": [
    "#hide\n",
    "g.index.name = 'date'"
   ]
  },
  {
   "cell_type": "code",
   "execution_count": 24,
   "id": "naked-donor",
   "metadata": {
    "execution": {
     "iopub.execute_input": "2021-08-28T00:21:14.242473Z",
     "iopub.status.busy": "2021-08-28T00:21:14.240879Z",
     "iopub.status.idle": "2021-08-28T00:21:14.243227Z",
     "shell.execute_reply": "2021-08-28T00:21:14.243735Z"
    },
    "papermill": {
     "duration": 0.047323,
     "end_time": "2021-08-28T00:21:14.243876",
     "exception": false,
     "start_time": "2021-08-28T00:21:14.196553",
     "status": "completed"
    },
    "tags": []
   },
   "outputs": [],
   "source": [
    "# #hide\n",
    "# g = g.reset_index(['date'])"
   ]
  },
  {
   "cell_type": "code",
   "execution_count": 25,
   "id": "incomplete-mustang",
   "metadata": {
    "execution": {
     "iopub.execute_input": "2021-08-28T00:21:14.328585Z",
     "iopub.status.busy": "2021-08-28T00:21:14.327811Z",
     "iopub.status.idle": "2021-08-28T00:21:14.330434Z",
     "shell.execute_reply": "2021-08-28T00:21:14.329805Z"
    },
    "papermill": {
     "duration": 0.047297,
     "end_time": "2021-08-28T00:21:14.330555",
     "exception": false,
     "start_time": "2021-08-28T00:21:14.283258",
     "status": "completed"
    },
    "tags": []
   },
   "outputs": [],
   "source": [
    "#hide\n",
    "# g.head()"
   ]
  },
  {
   "cell_type": "code",
   "execution_count": 26,
   "id": "specific-kruger",
   "metadata": {
    "execution": {
     "iopub.execute_input": "2021-08-28T00:21:14.414890Z",
     "iopub.status.busy": "2021-08-28T00:21:14.414286Z",
     "iopub.status.idle": "2021-08-28T00:21:14.417433Z",
     "shell.execute_reply": "2021-08-28T00:21:14.416847Z"
    },
    "papermill": {
     "duration": 0.048218,
     "end_time": "2021-08-28T00:21:14.417564",
     "exception": false,
     "start_time": "2021-08-28T00:21:14.369346",
     "status": "completed"
    },
    "tags": []
   },
   "outputs": [],
   "source": [
    "#hide\n",
    "# g.columns = ['date','country','cases']"
   ]
  },
  {
   "cell_type": "code",
   "execution_count": 27,
   "id": "tender-conversion",
   "metadata": {
    "execution": {
     "iopub.execute_input": "2021-08-28T00:21:14.498795Z",
     "iopub.status.busy": "2021-08-28T00:21:14.498114Z",
     "iopub.status.idle": "2021-08-28T00:21:14.500491Z",
     "shell.execute_reply": "2021-08-28T00:21:14.499897Z"
    },
    "papermill": {
     "duration": 0.045937,
     "end_time": "2021-08-28T00:21:14.500607",
     "exception": false,
     "start_time": "2021-08-28T00:21:14.454670",
     "status": "completed"
    },
    "tags": []
   },
   "outputs": [],
   "source": [
    "#hide\n",
    "# g['continent'] = g.country"
   ]
  },
  {
   "cell_type": "code",
   "execution_count": 28,
   "id": "substantial-wilderness",
   "metadata": {
    "execution": {
     "iopub.execute_input": "2021-08-28T00:21:14.584564Z",
     "iopub.status.busy": "2021-08-28T00:21:14.583929Z",
     "iopub.status.idle": "2021-08-28T00:21:14.586098Z",
     "shell.execute_reply": "2021-08-28T00:21:14.586556Z"
    },
    "papermill": {
     "duration": 0.046661,
     "end_time": "2021-08-28T00:21:14.586693",
     "exception": false,
     "start_time": "2021-08-28T00:21:14.540032",
     "status": "completed"
    },
    "tags": []
   },
   "outputs": [],
   "source": [
    "#hide\n",
    "# cols = list(g.columns.values)"
   ]
  },
  {
   "cell_type": "code",
   "execution_count": 29,
   "id": "solved-farming",
   "metadata": {
    "execution": {
     "iopub.execute_input": "2021-08-28T00:21:14.672114Z",
     "iopub.status.busy": "2021-08-28T00:21:14.671434Z",
     "iopub.status.idle": "2021-08-28T00:21:14.673278Z",
     "shell.execute_reply": "2021-08-28T00:21:14.673911Z"
    },
    "papermill": {
     "duration": 0.046822,
     "end_time": "2021-08-28T00:21:14.674079",
     "exception": false,
     "start_time": "2021-08-28T00:21:14.627257",
     "status": "completed"
    },
    "tags": []
   },
   "outputs": [],
   "source": [
    "#hide\n",
    "# cols.insert(0, cols.pop())"
   ]
  },
  {
   "cell_type": "code",
   "execution_count": 30,
   "id": "executed-adoption",
   "metadata": {
    "execution": {
     "iopub.execute_input": "2021-08-28T00:21:14.757075Z",
     "iopub.status.busy": "2021-08-28T00:21:14.756345Z",
     "iopub.status.idle": "2021-08-28T00:21:14.758945Z",
     "shell.execute_reply": "2021-08-28T00:21:14.758306Z"
    },
    "papermill": {
     "duration": 0.047433,
     "end_time": "2021-08-28T00:21:14.759095",
     "exception": false,
     "start_time": "2021-08-28T00:21:14.711662",
     "status": "completed"
    },
    "tags": []
   },
   "outputs": [],
   "source": [
    "#hide\n",
    "# g = g[cols]"
   ]
  },
  {
   "cell_type": "code",
   "execution_count": 31,
   "id": "subject-dublin",
   "metadata": {
    "execution": {
     "iopub.execute_input": "2021-08-28T00:21:14.852308Z",
     "iopub.status.busy": "2021-08-28T00:21:14.851566Z",
     "iopub.status.idle": "2021-08-28T00:21:14.854086Z",
     "shell.execute_reply": "2021-08-28T00:21:14.853521Z"
    },
    "papermill": {
     "duration": 0.054948,
     "end_time": "2021-08-28T00:21:14.854215",
     "exception": false,
     "start_time": "2021-08-28T00:21:14.799267",
     "status": "completed"
    },
    "tags": []
   },
   "outputs": [],
   "source": [
    "#hide\n",
    "# g['continent'] = g['continent'].map(mapping['map.continent'])"
   ]
  },
  {
   "cell_type": "code",
   "execution_count": 32,
   "id": "freelance-scout",
   "metadata": {
    "execution": {
     "iopub.execute_input": "2021-08-28T00:21:14.939333Z",
     "iopub.status.busy": "2021-08-28T00:21:14.938604Z",
     "iopub.status.idle": "2021-08-28T00:21:14.949312Z",
     "shell.execute_reply": "2021-08-28T00:21:14.950100Z"
    },
    "papermill": {
     "duration": 0.056329,
     "end_time": "2021-08-28T00:21:14.950308",
     "exception": false,
     "start_time": "2021-08-28T00:21:14.893979",
     "status": "completed"
    },
    "tags": []
   },
   "outputs": [],
   "source": [
    "#hide\n",
    "# g.head()"
   ]
  },
  {
   "cell_type": "code",
   "execution_count": 33,
   "id": "limited-engine",
   "metadata": {
    "execution": {
     "iopub.execute_input": "2021-08-28T00:21:15.031326Z",
     "iopub.status.busy": "2021-08-28T00:21:15.030415Z",
     "iopub.status.idle": "2021-08-28T00:21:15.033344Z",
     "shell.execute_reply": "2021-08-28T00:21:15.032578Z"
    },
    "papermill": {
     "duration": 0.045267,
     "end_time": "2021-08-28T00:21:15.033481",
     "exception": false,
     "start_time": "2021-08-28T00:21:14.988214",
     "status": "completed"
    },
    "tags": []
   },
   "outputs": [],
   "source": [
    "# hide\n",
    "# g['date'] = g['date'].astype('datetime64[ns]')"
   ]
  },
  {
   "cell_type": "code",
   "execution_count": 34,
   "id": "sophisticated-supervisor",
   "metadata": {
    "execution": {
     "iopub.execute_input": "2021-08-28T00:21:15.118090Z",
     "iopub.status.busy": "2021-08-28T00:21:15.117495Z",
     "iopub.status.idle": "2021-08-28T00:21:15.119607Z",
     "shell.execute_reply": "2021-08-28T00:21:15.120215Z"
    },
    "papermill": {
     "duration": 0.045866,
     "end_time": "2021-08-28T00:21:15.120369",
     "exception": false,
     "start_time": "2021-08-28T00:21:15.074503",
     "status": "completed"
    },
    "tags": []
   },
   "outputs": [],
   "source": [
    "#hide\n",
    "# g['date'] = g.date.dt.dayofyear"
   ]
  },
  {
   "cell_type": "code",
   "execution_count": 35,
   "id": "inside-dubai",
   "metadata": {
    "execution": {
     "iopub.execute_input": "2021-08-28T00:21:15.205068Z",
     "iopub.status.busy": "2021-08-28T00:21:15.204306Z",
     "iopub.status.idle": "2021-08-28T00:21:15.206211Z",
     "shell.execute_reply": "2021-08-28T00:21:15.206706Z"
    },
    "papermill": {
     "duration": 0.04703,
     "end_time": "2021-08-28T00:21:15.206870",
     "exception": false,
     "start_time": "2021-08-28T00:21:15.159840",
     "status": "completed"
    },
    "tags": []
   },
   "outputs": [],
   "source": [
    "#hide\n",
    "# g = g.rename(columns= {'continent':'group','country':'name','cases':'value'})"
   ]
  },
  {
   "cell_type": "code",
   "execution_count": 36,
   "id": "fleet-motorcycle",
   "metadata": {
    "execution": {
     "iopub.execute_input": "2021-08-28T00:21:15.301092Z",
     "iopub.status.busy": "2021-08-28T00:21:15.300331Z",
     "iopub.status.idle": "2021-08-28T00:21:15.302885Z",
     "shell.execute_reply": "2021-08-28T00:21:15.302291Z"
    },
    "papermill": {
     "duration": 0.055488,
     "end_time": "2021-08-28T00:21:15.303016",
     "exception": false,
     "start_time": "2021-08-28T00:21:15.247528",
     "status": "completed"
    },
    "tags": []
   },
   "outputs": [],
   "source": [
    "#hide\n",
    "# cols = ['name','group','day','value']"
   ]
  },
  {
   "cell_type": "code",
   "execution_count": 37,
   "id": "continued-sleeping",
   "metadata": {
    "execution": {
     "iopub.execute_input": "2021-08-28T00:21:15.389495Z",
     "iopub.status.busy": "2021-08-28T00:21:15.388816Z",
     "iopub.status.idle": "2021-08-28T00:21:15.391489Z",
     "shell.execute_reply": "2021-08-28T00:21:15.390866Z"
    },
    "papermill": {
     "duration": 0.048252,
     "end_time": "2021-08-28T00:21:15.391687",
     "exception": false,
     "start_time": "2021-08-28T00:21:15.343435",
     "status": "completed"
    },
    "tags": []
   },
   "outputs": [],
   "source": [
    "#hide\n",
    "# g.rename(columns= {'date':'day'},inplace = True)"
   ]
  },
  {
   "cell_type": "code",
   "execution_count": 38,
   "id": "major-fight",
   "metadata": {
    "execution": {
     "iopub.execute_input": "2021-08-28T00:21:15.477897Z",
     "iopub.status.busy": "2021-08-28T00:21:15.477171Z",
     "iopub.status.idle": "2021-08-28T00:21:15.480789Z",
     "shell.execute_reply": "2021-08-28T00:21:15.480210Z"
    },
    "papermill": {
     "duration": 0.047787,
     "end_time": "2021-08-28T00:21:15.480923",
     "exception": false,
     "start_time": "2021-08-28T00:21:15.433136",
     "status": "completed"
    },
    "tags": []
   },
   "outputs": [],
   "source": [
    "#hide\n",
    "# g = g[cols]"
   ]
  },
  {
   "cell_type": "code",
   "execution_count": 39,
   "id": "structured-mobile",
   "metadata": {
    "execution": {
     "iopub.execute_input": "2021-08-28T00:21:15.568551Z",
     "iopub.status.busy": "2021-08-28T00:21:15.567855Z",
     "iopub.status.idle": "2021-08-28T00:21:15.570952Z",
     "shell.execute_reply": "2021-08-28T00:21:15.571443Z"
    },
    "papermill": {
     "duration": 0.048157,
     "end_time": "2021-08-28T00:21:15.571586",
     "exception": false,
     "start_time": "2021-08-28T00:21:15.523429",
     "status": "completed"
    },
    "tags": []
   },
   "outputs": [],
   "source": [
    "# #hide\n",
    "# g = g[g.group.notna()]"
   ]
  },
  {
   "cell_type": "code",
   "execution_count": 40,
   "id": "determined-closing",
   "metadata": {
    "execution": {
     "iopub.execute_input": "2021-08-28T00:21:15.665776Z",
     "iopub.status.busy": "2021-08-28T00:21:15.665108Z",
     "iopub.status.idle": "2021-08-28T00:21:15.667057Z",
     "shell.execute_reply": "2021-08-28T00:21:15.667688Z"
    },
    "papermill": {
     "duration": 0.047292,
     "end_time": "2021-08-28T00:21:15.667857",
     "exception": false,
     "start_time": "2021-08-28T00:21:15.620565",
     "status": "completed"
    },
    "tags": []
   },
   "outputs": [],
   "source": [
    "# #hide\n",
    "# colors = dict(zip(\n",
    "#     [\"Oceania\", \"Europe\", \"Asia\", \"South America\", \"Middle East\", \"North America\", \"Africa\"],\n",
    "#     [\"#adb0ff\", \"#ffb3ff\", \"#90d595\", \"#e48381\", \"#aafbff\", \"#f7bb5f\", \"#eafb50\"]\n",
    "# ))\n",
    "# group_lk = g.set_index('name')['group'].to_dict()"
   ]
  },
  {
   "cell_type": "code",
   "execution_count": null,
   "id": "gross-drinking",
   "metadata": {
    "papermill": {
     "duration": 0.037366,
     "end_time": "2021-08-28T00:21:15.758246",
     "exception": false,
     "start_time": "2021-08-28T00:21:15.720880",
     "status": "completed"
    },
    "tags": []
   },
   "outputs": [],
   "source": []
  },
  {
   "cell_type": "code",
   "execution_count": 41,
   "id": "subject-macintosh",
   "metadata": {
    "execution": {
     "iopub.execute_input": "2021-08-28T00:21:15.847339Z",
     "iopub.status.busy": "2021-08-28T00:21:15.846721Z",
     "iopub.status.idle": "2021-08-28T00:21:15.849162Z",
     "shell.execute_reply": "2021-08-28T00:21:15.848559Z"
    },
    "papermill": {
     "duration": 0.047802,
     "end_time": "2021-08-28T00:21:15.849372",
     "exception": false,
     "start_time": "2021-08-28T00:21:15.801570",
     "status": "completed"
    },
    "tags": []
   },
   "outputs": [],
   "source": [
    "# #hide\n",
    "# fig, ax = plt.subplots(figsize=(15, 8))\n",
    "\n",
    "# def draw_barchart(current_day):\n",
    "#     dff = g[g['day'].eq(current_day)].sort_values(by='value', ascending=True).tail(10)\n",
    "#     ax.clear()\n",
    "#     ax.barh(dff['name'], dff['value'], color=[colors[group_lk[x]] for x in dff['name']])\n",
    "#     dx = dff['value'].max() / 200\n",
    "    \n",
    "#     for i, (value, name) in enumerate(zip(dff['value'], dff['name'])):\n",
    "#         ax.text(value-dx, i,     name,           size=14, weight=600, ha='right', va='bottom')\n",
    "#         ax.text(value-dx, i-.25, group_lk[name], size=10, color='#444444', ha='right', va='baseline')\n",
    "#         ax.text(value+dx, i,     f'{value:,.0f}',  size=14, ha='left',  va='center')\n",
    "#     ax.text(1, 0.4, current_day, transform=ax.transAxes, color='#777777', size=46, ha='right', weight=800)\n",
    "#     ax.text(0, 1.06, 'Population (thousands)', transform=ax.transAxes, size=12, color='#777777')\n",
    "#     ax.xaxis.set_major_formatter(ticker.StrMethodFormatter('{x:,.0f}'))\n",
    "#     ax.xaxis.set_ticks_position('top')\n",
    "#     ax.tick_params(axis='x', colors='#777777', labelsize=12)\n",
    "#     ax.set_yticks([])\n",
    "#     ax.margins(0, 0.01)\n",
    "#     ax.grid(which='major', axis='x', linestyle='-')\n",
    "#     ax.set_axisbelow(True)\n",
    "    \n",
    "#     ax.text(0, 1.15, 'Coronavirus',\n",
    "#             transform=ax.transAxes, size=24, weight=600, ha='left', va='top')\n",
    "# #     ax.text(1, 0, 'by @pratapvardhan; credit @jburnmurdoch', transform=ax.transAxes, color='#777777', ha='right',\n",
    "# #             bbox=dict(facecolor='white', alpha=0.8, edgecolor='white'))\n",
    "#     plt.box(False)"
   ]
  },
  {
   "cell_type": "code",
   "execution_count": 42,
   "id": "sexual-wages",
   "metadata": {
    "execution": {
     "iopub.execute_input": "2021-08-28T00:21:15.940990Z",
     "iopub.status.busy": "2021-08-28T00:21:15.940283Z",
     "iopub.status.idle": "2021-08-28T00:21:15.943344Z",
     "shell.execute_reply": "2021-08-28T00:21:15.943916Z"
    },
    "papermill": {
     "duration": 0.055105,
     "end_time": "2021-08-28T00:21:15.944081",
     "exception": false,
     "start_time": "2021-08-28T00:21:15.888976",
     "status": "completed"
    },
    "tags": []
   },
   "outputs": [],
   "source": [
    "# #hide_input\n",
    "# fig, ax = plt.subplots(figsize=(15, 8))\n",
    "# animator = animation.FuncAnimation(fig, draw_barchart, frames=range(g.day.values.min(), g.day.values.max()))\n",
    "# HTML(animator.to_jshtml())\n",
    "# # or use animator.to_html5_video() or animator.save() "
   ]
  },
  {
   "cell_type": "code",
   "execution_count": null,
   "id": "australian-container",
   "metadata": {
    "papermill": {
     "duration": 0.048007,
     "end_time": "2021-08-28T00:21:16.038224",
     "exception": false,
     "start_time": "2021-08-28T00:21:15.990217",
     "status": "completed"
    },
    "tags": []
   },
   "outputs": [],
   "source": []
  },
  {
   "cell_type": "code",
   "execution_count": null,
   "id": "mediterranean-pontiac",
   "metadata": {
    "papermill": {
     "duration": 0.047936,
     "end_time": "2021-08-28T00:21:16.134321",
     "exception": false,
     "start_time": "2021-08-28T00:21:16.086385",
     "status": "completed"
    },
    "tags": []
   },
   "outputs": [],
   "source": []
  },
  {
   "cell_type": "code",
   "execution_count": null,
   "id": "aging-legislature",
   "metadata": {
    "papermill": {
     "duration": 0.041059,
     "end_time": "2021-08-28T00:21:16.217773",
     "exception": false,
     "start_time": "2021-08-28T00:21:16.176714",
     "status": "completed"
    },
    "tags": []
   },
   "outputs": [],
   "source": []
  }
 ],
 "metadata": {
  "kernelspec": {
   "display_name": "Python 3",
   "language": "python",
   "name": "python3"
  },
  "language_info": {
   "codemirror_mode": {
    "name": "ipython",
    "version": 3
   },
   "file_extension": ".py",
   "mimetype": "text/x-python",
   "name": "python",
   "nbconvert_exporter": "python",
   "pygments_lexer": "ipython3",
   "version": "3.6.14"
  },
  "papermill": {
   "duration": 7.688955,
   "end_time": "2021-08-28T00:21:16.672680",
   "environment_variables": {},
   "exception": null,
   "input_path": "2020-03-21-covid19exp.ipynb",
   "output_path": "2020-03-21-covid19exp.ipynb",
   "parameters": {},
   "start_time": "2021-08-28T00:21:08.983725",
   "version": "2.0.0"
  }
 },
 "nbformat": 4,
 "nbformat_minor": 5
}