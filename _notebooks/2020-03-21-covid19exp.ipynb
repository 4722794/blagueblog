{
 "cells": [
  {
   "cell_type": "markdown",
   "id": "muslim-click",
   "metadata": {
    "papermill": {
     "duration": 0.041576,
     "end_time": "2021-02-06T00:10:43.659413",
     "exception": false,
     "start_time": "2021-02-06T00:10:43.617837",
     "status": "completed"
    },
    "tags": []
   },
   "source": [
    "# COVID-19 Case Race\n",
    "> A race chart to see rising cases around the world\n",
    "\n",
    "- author: Hargun Oberoi\n",
    "- image: images/covid-overview.png\n",
    "- hide: false\n",
    "- badges: false"
   ]
  },
  {
   "cell_type": "code",
   "execution_count": 1,
   "id": "proof-material",
   "metadata": {
    "execution": {
     "iopub.execute_input": "2021-02-06T00:10:43.744683Z",
     "iopub.status.busy": "2021-02-06T00:10:43.743993Z",
     "iopub.status.idle": "2021-02-06T00:10:44.098419Z",
     "shell.execute_reply": "2021-02-06T00:10:44.098957Z"
    },
    "papermill": {
     "duration": 0.401633,
     "end_time": "2021-02-06T00:10:44.099289",
     "exception": false,
     "start_time": "2021-02-06T00:10:43.697656",
     "status": "completed"
    },
    "tags": []
   },
   "outputs": [],
   "source": [
    "#hide\n",
    "import numpy as np\n",
    "import pandas as pd\n",
    "from jinja2 import Template\n",
    "from IPython.display import HTML"
   ]
  },
  {
   "cell_type": "code",
   "execution_count": 2,
   "id": "developed-terminology",
   "metadata": {
    "execution": {
     "iopub.execute_input": "2021-02-06T00:10:44.179454Z",
     "iopub.status.busy": "2021-02-06T00:10:44.178746Z",
     "iopub.status.idle": "2021-02-06T00:10:44.180614Z",
     "shell.execute_reply": "2021-02-06T00:10:44.181181Z"
    },
    "papermill": {
     "duration": 0.044355,
     "end_time": "2021-02-06T00:10:44.181330",
     "exception": false,
     "start_time": "2021-02-06T00:10:44.136975",
     "status": "completed"
    },
    "tags": []
   },
   "outputs": [],
   "source": [
    "#hide\n",
    "\n",
    "# FETCH\n",
    "base_url = 'https://raw.githubusercontent.com/pratapvardhan/notebooks/master/covid19/'\n",
    "paths = {\n",
    "    'mapping': base_url + 'mapping_countries.csv',\n",
    "    'overview': base_url + 'overview.tpl'\n",
    "}"
   ]
  },
  {
   "cell_type": "code",
   "execution_count": 3,
   "id": "dynamic-saver",
   "metadata": {
    "execution": {
     "iopub.execute_input": "2021-02-06T00:10:44.267145Z",
     "iopub.status.busy": "2021-02-06T00:10:44.266450Z",
     "iopub.status.idle": "2021-02-06T00:10:44.268889Z",
     "shell.execute_reply": "2021-02-06T00:10:44.269545Z"
    },
    "papermill": {
     "duration": 0.051413,
     "end_time": "2021-02-06T00:10:44.269701",
     "exception": false,
     "start_time": "2021-02-06T00:10:44.218288",
     "status": "completed"
    },
    "tags": []
   },
   "outputs": [
    {
     "data": {
      "text/plain": [
       "'https://raw.githubusercontent.com/pratapvardhan/notebooks/master/covid19/mapping_countries.csv'"
      ]
     },
     "execution_count": 3,
     "metadata": {},
     "output_type": "execute_result"
    }
   ],
   "source": [
    "#hide\n",
    "paths['mapping']"
   ]
  },
  {
   "cell_type": "code",
   "execution_count": 4,
   "id": "urban-software",
   "metadata": {
    "execution": {
     "iopub.execute_input": "2021-02-06T00:10:44.351696Z",
     "iopub.status.busy": "2021-02-06T00:10:44.350967Z",
     "iopub.status.idle": "2021-02-06T00:10:44.353535Z",
     "shell.execute_reply": "2021-02-06T00:10:44.352952Z"
    },
    "papermill": {
     "duration": 0.046901,
     "end_time": "2021-02-06T00:10:44.353665",
     "exception": false,
     "start_time": "2021-02-06T00:10:44.306764",
     "status": "completed"
    },
    "tags": []
   },
   "outputs": [],
   "source": [
    "#hide\n",
    "def get_mappings(url):\n",
    "    df = pd.read_csv(url)\n",
    "    return {\n",
    "        'df': df,\n",
    "        'replace.country': dict(df.dropna(subset=['Name']).set_index('Country')['Name']),\n",
    "        'map.continent': dict(df.set_index('Name')['Continent'])\n",
    "    }"
   ]
  },
  {
   "cell_type": "code",
   "execution_count": 5,
   "id": "intimate-machinery",
   "metadata": {
    "execution": {
     "iopub.execute_input": "2021-02-06T00:10:44.439889Z",
     "iopub.status.busy": "2021-02-06T00:10:44.439223Z",
     "iopub.status.idle": "2021-02-06T00:10:44.477292Z",
     "shell.execute_reply": "2021-02-06T00:10:44.477824Z"
    },
    "papermill": {
     "duration": 0.087004,
     "end_time": "2021-02-06T00:10:44.478003",
     "exception": false,
     "start_time": "2021-02-06T00:10:44.390999",
     "status": "completed"
    },
    "tags": []
   },
   "outputs": [],
   "source": [
    "#hide\n",
    "mapping = get_mappings(paths['mapping'])"
   ]
  },
  {
   "cell_type": "code",
   "execution_count": 6,
   "id": "certified-tactics",
   "metadata": {
    "execution": {
     "iopub.execute_input": "2021-02-06T00:10:44.559393Z",
     "iopub.status.busy": "2021-02-06T00:10:44.558661Z",
     "iopub.status.idle": "2021-02-06T00:10:44.560665Z",
     "shell.execute_reply": "2021-02-06T00:10:44.561245Z"
    },
    "papermill": {
     "duration": 0.044925,
     "end_time": "2021-02-06T00:10:44.561397",
     "exception": false,
     "start_time": "2021-02-06T00:10:44.516472",
     "status": "completed"
    },
    "tags": []
   },
   "outputs": [],
   "source": [
    "#hide\n",
    "def get_template(path):\n",
    "    from urllib.parse import urlparse\n",
    "    if bool(urlparse(path).netloc):\n",
    "        from urllib.request import urlopen\n",
    "        return urlopen(path).read().decode('utf8')\n",
    "    return open(path).read()"
   ]
  },
  {
   "cell_type": "code",
   "execution_count": 7,
   "id": "realistic-blast",
   "metadata": {
    "execution": {
     "iopub.execute_input": "2021-02-06T00:10:44.642576Z",
     "iopub.status.busy": "2021-02-06T00:10:44.641891Z",
     "iopub.status.idle": "2021-02-06T00:10:44.643863Z",
     "shell.execute_reply": "2021-02-06T00:10:44.644508Z"
    },
    "papermill": {
     "duration": 0.045668,
     "end_time": "2021-02-06T00:10:44.644663",
     "exception": false,
     "start_time": "2021-02-06T00:10:44.598995",
     "status": "completed"
    },
    "tags": []
   },
   "outputs": [],
   "source": [
    "#hide\n",
    "def get_frame(name):\n",
    "    url = (\n",
    "        'https://raw.githubusercontent.com/CSSEGISandData/COVID-19/master/csse_covid_19_data/'\n",
    "        f'csse_covid_19_time_series/time_series_covid19_{name}_global.csv')\n",
    "    df = pd.read_csv(url)\n",
    "    # rename countries\n",
    "    df['Country/Region'] = df['Country/Region'].replace(mapping['replace.country'])\n",
    "    return df"
   ]
  },
  {
   "cell_type": "code",
   "execution_count": 8,
   "id": "affiliated-characterization",
   "metadata": {
    "execution": {
     "iopub.execute_input": "2021-02-06T00:10:44.726745Z",
     "iopub.status.busy": "2021-02-06T00:10:44.726074Z",
     "iopub.status.idle": "2021-02-06T00:10:44.728511Z",
     "shell.execute_reply": "2021-02-06T00:10:44.727957Z"
    },
    "papermill": {
     "duration": 0.046099,
     "end_time": "2021-02-06T00:10:44.728640",
     "exception": false,
     "start_time": "2021-02-06T00:10:44.682541",
     "status": "completed"
    },
    "tags": []
   },
   "outputs": [],
   "source": [
    "#hide\n",
    "def get_dates(df):\n",
    "    dt_cols = df.columns[~df.columns.isin(['Province/State', 'Country/Region', 'Lat', 'Long'])]\n",
    "    LAST_DATE_I = -1\n",
    "    # sometimes last column may be empty, then go backwards\n",
    "    for i in range(-1, -len(dt_cols), -1):\n",
    "        if not df[dt_cols[i]].fillna(0).eq(0).all():\n",
    "            LAST_DATE_I = i\n",
    "            break\n",
    "    return LAST_DATE_I, dt_cols"
   ]
  },
  {
   "cell_type": "code",
   "execution_count": 9,
   "id": "recent-optimization",
   "metadata": {
    "execution": {
     "iopub.execute_input": "2021-02-06T00:10:44.809043Z",
     "iopub.status.busy": "2021-02-06T00:10:44.808385Z",
     "iopub.status.idle": "2021-02-06T00:10:45.136004Z",
     "shell.execute_reply": "2021-02-06T00:10:45.134888Z"
    },
    "papermill": {
     "duration": 0.370048,
     "end_time": "2021-02-06T00:10:45.136165",
     "exception": false,
     "start_time": "2021-02-06T00:10:44.766117",
     "status": "completed"
    },
    "tags": []
   },
   "outputs": [],
   "source": [
    "#hide\n",
    "COL_REGION = 'Country/Region'\n",
    "# Confirmed, Recovered, Deaths\n",
    "df = get_frame('confirmed')\n",
    "# dft_: timeseries, dfc_: today country agg\n",
    "dft_cases = df\n",
    "dft_deaths = get_frame('deaths')\n",
    "dft_recovered = get_frame('recovered')\n",
    "LAST_DATE_I, dt_cols = get_dates(df)"
   ]
  },
  {
   "cell_type": "code",
   "execution_count": 10,
   "id": "absolute-copper",
   "metadata": {
    "execution": {
     "iopub.execute_input": "2021-02-06T00:10:45.221777Z",
     "iopub.status.busy": "2021-02-06T00:10:45.221125Z",
     "iopub.status.idle": "2021-02-06T00:10:45.223554Z",
     "shell.execute_reply": "2021-02-06T00:10:45.222960Z"
    },
    "papermill": {
     "duration": 0.047492,
     "end_time": "2021-02-06T00:10:45.223691",
     "exception": false,
     "start_time": "2021-02-06T00:10:45.176199",
     "status": "completed"
    },
    "tags": []
   },
   "outputs": [],
   "source": [
    "#hide\n",
    "LAST_DATE_I, dt_cols = get_dates(df)\n",
    "dt_today =dt_cols[LAST_DATE_I]\n",
    "# dt_5day = dt_cols[LAST_DATE_I - 5]\n",
    "dt_yday = dt_cols[LAST_DATE_I - 1]"
   ]
  },
  {
   "cell_type": "code",
   "execution_count": 11,
   "id": "restricted-sheriff",
   "metadata": {
    "execution": {
     "iopub.execute_input": "2021-02-06T00:10:45.308460Z",
     "iopub.status.busy": "2021-02-06T00:10:45.307806Z",
     "iopub.status.idle": "2021-02-06T00:10:45.313257Z",
     "shell.execute_reply": "2021-02-06T00:10:45.312715Z"
    },
    "papermill": {
     "duration": 0.051708,
     "end_time": "2021-02-06T00:10:45.313403",
     "exception": false,
     "start_time": "2021-02-06T00:10:45.261695",
     "status": "completed"
    },
    "tags": []
   },
   "outputs": [],
   "source": [
    "#hide\n",
    "dfc_cases = dft_cases.groupby(COL_REGION)[dt_today].sum()\n",
    "dfc_deaths = dft_deaths.groupby(COL_REGION)[dt_today].sum()\n",
    "# dfp_cases = dft_cases.groupby(COL_REGION)[dt_5day].sum()\n",
    "# dfp_deaths = dft_deaths.groupby(COL_REGION)[dt_5day].sum()\n",
    "dfp_cases = dft_cases.groupby(COL_REGION)[dt_yday].sum()\n",
    "dfp_deaths = dft_deaths.groupby(COL_REGION)[dt_yday].sum()"
   ]
  },
  {
   "cell_type": "code",
   "execution_count": 12,
   "id": "deluxe-hepatitis",
   "metadata": {
    "execution": {
     "iopub.execute_input": "2021-02-06T00:10:45.397750Z",
     "iopub.status.busy": "2021-02-06T00:10:45.397100Z",
     "iopub.status.idle": "2021-02-06T00:10:45.401862Z",
     "shell.execute_reply": "2021-02-06T00:10:45.402450Z"
    },
    "papermill": {
     "duration": 0.050809,
     "end_time": "2021-02-06T00:10:45.402594",
     "exception": false,
     "start_time": "2021-02-06T00:10:45.351785",
     "status": "completed"
    },
    "tags": []
   },
   "outputs": [],
   "source": [
    "#hide\n",
    "df_table = (pd.DataFrame(dict(Cases = dfc_cases, Deaths = dfc_deaths, PCases = dfp_cases, PDeaths = dfp_deaths))\n",
    "            .sort_values(by = ['Cases','Deaths'], ascending = [False, False])\n",
    "            .reset_index())"
   ]
  },
  {
   "cell_type": "code",
   "execution_count": 13,
   "id": "educational-chancellor",
   "metadata": {
    "execution": {
     "iopub.execute_input": "2021-02-06T00:10:45.503306Z",
     "iopub.status.busy": "2021-02-06T00:10:45.490815Z",
     "iopub.status.idle": "2021-02-06T00:10:45.506220Z",
     "shell.execute_reply": "2021-02-06T00:10:45.506879Z"
    },
    "papermill": {
     "duration": 0.067359,
     "end_time": "2021-02-06T00:10:45.507071",
     "exception": false,
     "start_time": "2021-02-06T00:10:45.439712",
     "status": "completed"
    },
    "tags": []
   },
   "outputs": [
    {
     "data": {
      "text/html": [
       "<div>\n",
       "<style scoped>\n",
       "    .dataframe tbody tr th:only-of-type {\n",
       "        vertical-align: middle;\n",
       "    }\n",
       "\n",
       "    .dataframe tbody tr th {\n",
       "        vertical-align: top;\n",
       "    }\n",
       "\n",
       "    .dataframe thead th {\n",
       "        text-align: right;\n",
       "    }\n",
       "</style>\n",
       "<table border=\"1\" class=\"dataframe\">\n",
       "  <thead>\n",
       "    <tr style=\"text-align: right;\">\n",
       "      <th></th>\n",
       "      <th>Country/Region</th>\n",
       "      <th>Cases</th>\n",
       "      <th>Deaths</th>\n",
       "      <th>PCases</th>\n",
       "      <th>PDeaths</th>\n",
       "      <th>Cases (+)</th>\n",
       "      <th>Deaths (+)</th>\n",
       "      <th>Fatality Rate</th>\n",
       "      <th>Continent</th>\n",
       "    </tr>\n",
       "  </thead>\n",
       "  <tbody>\n",
       "    <tr>\n",
       "      <th>0</th>\n",
       "      <td>US</td>\n",
       "      <td>26680214</td>\n",
       "      <td>455881</td>\n",
       "      <td>26557026</td>\n",
       "      <td>450797</td>\n",
       "      <td>123188</td>\n",
       "      <td>5084</td>\n",
       "      <td>1.71</td>\n",
       "      <td>North America</td>\n",
       "    </tr>\n",
       "    <tr>\n",
       "      <th>1</th>\n",
       "      <td>India</td>\n",
       "      <td>10802591</td>\n",
       "      <td>154823</td>\n",
       "      <td>10790183</td>\n",
       "      <td>154703</td>\n",
       "      <td>12408</td>\n",
       "      <td>120</td>\n",
       "      <td>1.43</td>\n",
       "      <td>Asia</td>\n",
       "    </tr>\n",
       "    <tr>\n",
       "      <th>2</th>\n",
       "      <td>Brazil</td>\n",
       "      <td>9396293</td>\n",
       "      <td>228795</td>\n",
       "      <td>9339420</td>\n",
       "      <td>227563</td>\n",
       "      <td>56873</td>\n",
       "      <td>1232</td>\n",
       "      <td>2.43</td>\n",
       "      <td>South America</td>\n",
       "    </tr>\n",
       "    <tr>\n",
       "      <th>3</th>\n",
       "      <td>United Kingdom</td>\n",
       "      <td>3903706</td>\n",
       "      <td>110462</td>\n",
       "      <td>3882972</td>\n",
       "      <td>109547</td>\n",
       "      <td>20734</td>\n",
       "      <td>915</td>\n",
       "      <td>2.83</td>\n",
       "      <td>Europe</td>\n",
       "    </tr>\n",
       "    <tr>\n",
       "      <th>4</th>\n",
       "      <td>Russia</td>\n",
       "      <td>3874830</td>\n",
       "      <td>74005</td>\n",
       "      <td>3858367</td>\n",
       "      <td>73497</td>\n",
       "      <td>16463</td>\n",
       "      <td>508</td>\n",
       "      <td>1.91</td>\n",
       "      <td>Europe</td>\n",
       "    </tr>\n",
       "  </tbody>\n",
       "</table>\n",
       "</div>"
      ],
      "text/plain": [
       "   Country/Region     Cases  Deaths    PCases  PDeaths  Cases (+)  Deaths (+)  \\\n",
       "0              US  26680214  455881  26557026   450797     123188        5084   \n",
       "1           India  10802591  154823  10790183   154703      12408         120   \n",
       "2          Brazil   9396293  228795   9339420   227563      56873        1232   \n",
       "3  United Kingdom   3903706  110462   3882972   109547      20734         915   \n",
       "4          Russia   3874830   74005   3858367    73497      16463         508   \n",
       "\n",
       "   Fatality Rate      Continent  \n",
       "0           1.71  North America  \n",
       "1           1.43           Asia  \n",
       "2           2.43  South America  \n",
       "3           2.83         Europe  \n",
       "4           1.91         Europe  "
      ]
     },
     "execution_count": 13,
     "metadata": {},
     "output_type": "execute_result"
    }
   ],
   "source": [
    "#hide\n",
    "for c in 'Cases, Deaths'.split(', '):\n",
    "    df_table[f'{c} (+)'] = (df_table[c] - df_table[f'P{c}']).clip(0)\n",
    "    #Clip ça veut dire, les chiffres negatif sont interdit\n",
    "df_table['Fatality Rate'] = (100* df_table['Deaths']/ df_table['Cases']).round(2)\n",
    "df_table['Continent'] = df_table['Country/Region'].map(mapping['map.continent'])\n",
    "df_table.head(5)"
   ]
  },
  {
   "cell_type": "code",
   "execution_count": 14,
   "id": "aboriginal-bulgaria",
   "metadata": {
    "execution": {
     "iopub.execute_input": "2021-02-06T00:10:45.588640Z",
     "iopub.status.busy": "2021-02-06T00:10:45.587972Z",
     "iopub.status.idle": "2021-02-06T00:10:45.590371Z",
     "shell.execute_reply": "2021-02-06T00:10:45.590903Z"
    },
    "papermill": {
     "duration": 0.046117,
     "end_time": "2021-02-06T00:10:45.591094",
     "exception": false,
     "start_time": "2021-02-06T00:10:45.544977",
     "status": "completed"
    },
    "tags": []
   },
   "outputs": [],
   "source": [
    "#hide\n",
    "#delete problematic countries from table\n",
    "df_table = df_table[~df_table['Country/Region'].isin(['Cape Verde', 'Cruise Ship', 'Kosovo'])]"
   ]
  },
  {
   "cell_type": "code",
   "execution_count": 15,
   "id": "fantastic-effect",
   "metadata": {
    "execution": {
     "iopub.execute_input": "2021-02-06T00:10:45.677845Z",
     "iopub.status.busy": "2021-02-06T00:10:45.677183Z",
     "iopub.status.idle": "2021-02-06T00:10:45.697555Z",
     "shell.execute_reply": "2021-02-06T00:10:45.696998Z"
    },
    "papermill": {
     "duration": 0.068332,
     "end_time": "2021-02-06T00:10:45.697693",
     "exception": false,
     "start_time": "2021-02-06T00:10:45.629361",
     "status": "completed"
    },
    "tags": []
   },
   "outputs": [
    {
     "data": {
      "text/html": [
       "<div>\n",
       "<style scoped>\n",
       "    .dataframe tbody tr th:only-of-type {\n",
       "        vertical-align: middle;\n",
       "    }\n",
       "\n",
       "    .dataframe tbody tr th {\n",
       "        vertical-align: top;\n",
       "    }\n",
       "\n",
       "    .dataframe thead th {\n",
       "        text-align: right;\n",
       "    }\n",
       "</style>\n",
       "<table border=\"1\" class=\"dataframe\">\n",
       "  <thead>\n",
       "    <tr style=\"text-align: right;\">\n",
       "      <th></th>\n",
       "      <th>Country/Region</th>\n",
       "      <th>Cases</th>\n",
       "      <th>Deaths</th>\n",
       "      <th>PCases</th>\n",
       "      <th>PDeaths</th>\n",
       "      <th>Cases (+)</th>\n",
       "      <th>Deaths (+)</th>\n",
       "      <th>Fatality Rate</th>\n",
       "      <th>Continent</th>\n",
       "    </tr>\n",
       "  </thead>\n",
       "  <tbody>\n",
       "    <tr>\n",
       "      <th>0</th>\n",
       "      <td>US</td>\n",
       "      <td>26680214</td>\n",
       "      <td>455881</td>\n",
       "      <td>26557026</td>\n",
       "      <td>450797</td>\n",
       "      <td>123188</td>\n",
       "      <td>5084</td>\n",
       "      <td>1.7</td>\n",
       "      <td>North America</td>\n",
       "    </tr>\n",
       "    <tr>\n",
       "      <th>1</th>\n",
       "      <td>India</td>\n",
       "      <td>10802591</td>\n",
       "      <td>154823</td>\n",
       "      <td>10790183</td>\n",
       "      <td>154703</td>\n",
       "      <td>12408</td>\n",
       "      <td>120</td>\n",
       "      <td>1.4</td>\n",
       "      <td>Asia</td>\n",
       "    </tr>\n",
       "    <tr>\n",
       "      <th>2</th>\n",
       "      <td>Brazil</td>\n",
       "      <td>9396293</td>\n",
       "      <td>228795</td>\n",
       "      <td>9339420</td>\n",
       "      <td>227563</td>\n",
       "      <td>56873</td>\n",
       "      <td>1232</td>\n",
       "      <td>2.4</td>\n",
       "      <td>South America</td>\n",
       "    </tr>\n",
       "    <tr>\n",
       "      <th>3</th>\n",
       "      <td>United Kingdom</td>\n",
       "      <td>3903706</td>\n",
       "      <td>110462</td>\n",
       "      <td>3882972</td>\n",
       "      <td>109547</td>\n",
       "      <td>20734</td>\n",
       "      <td>915</td>\n",
       "      <td>2.8</td>\n",
       "      <td>Europe</td>\n",
       "    </tr>\n",
       "    <tr>\n",
       "      <th>4</th>\n",
       "      <td>Russia</td>\n",
       "      <td>3874830</td>\n",
       "      <td>74005</td>\n",
       "      <td>3858367</td>\n",
       "      <td>73497</td>\n",
       "      <td>16463</td>\n",
       "      <td>508</td>\n",
       "      <td>1.9</td>\n",
       "      <td>Europe</td>\n",
       "    </tr>\n",
       "  </tbody>\n",
       "</table>\n",
       "</div>"
      ],
      "text/plain": [
       "   Country/Region     Cases  Deaths    PCases  PDeaths  Cases (+)  Deaths (+)  \\\n",
       "0              US  26680214  455881  26557026   450797     123188        5084   \n",
       "1           India  10802591  154823  10790183   154703      12408         120   \n",
       "2          Brazil   9396293  228795   9339420   227563      56873        1232   \n",
       "3  United Kingdom   3903706  110462   3882972   109547      20734         915   \n",
       "4          Russia   3874830   74005   3858367    73497      16463         508   \n",
       "\n",
       "   Fatality Rate      Continent  \n",
       "0            1.7  North America  \n",
       "1            1.4           Asia  \n",
       "2            2.4  South America  \n",
       "3            2.8         Europe  \n",
       "4            1.9         Europe  "
      ]
     },
     "execution_count": 15,
     "metadata": {},
     "output_type": "execute_result"
    }
   ],
   "source": [
    "#hide\n",
    "df_table = (pd.DataFrame(dict(Cases=dfc_cases, Deaths=dfc_deaths, PCases=dfp_cases, PDeaths=dfp_deaths))\n",
    "             .sort_values(by=['Cases', 'Deaths'], ascending=[False, False])\n",
    "             .reset_index())\n",
    "df_table.rename(columns={'index': 'Country/Region'}, inplace=True)\n",
    "for c in 'Cases, Deaths'.split(', '):\n",
    "    df_table[f'{c} (+)'] = (df_table[c] - df_table[f'P{c}']).clip(0)  # DATA BUG\n",
    "df_table['Fatality Rate'] = (100 * df_table['Deaths'] / df_table['Cases']).round(1)\n",
    "df_table['Continent'] = df_table['Country/Region'].map(mapping['map.continent'])\n",
    "df_table.head(5)"
   ]
  },
  {
   "cell_type": "code",
   "execution_count": 16,
   "id": "fewer-occasion",
   "metadata": {
    "execution": {
     "iopub.execute_input": "2021-02-06T00:10:45.783070Z",
     "iopub.status.busy": "2021-02-06T00:10:45.782389Z",
     "iopub.status.idle": "2021-02-06T00:10:45.784254Z",
     "shell.execute_reply": "2021-02-06T00:10:45.784880Z"
    },
    "papermill": {
     "duration": 0.048255,
     "end_time": "2021-02-06T00:10:45.785032",
     "exception": false,
     "start_time": "2021-02-06T00:10:45.736777",
     "status": "completed"
    },
    "tags": []
   },
   "outputs": [],
   "source": [
    "#hide\n",
    "#delete problematic countries from table\n",
    "df_table = df_table[~df_table['Country/Region'].isin(['Cape Verde', 'Cruise Ship', 'Kosovo'])]"
   ]
  },
  {
   "cell_type": "code",
   "execution_count": 17,
   "id": "related-center",
   "metadata": {
    "execution": {
     "iopub.execute_input": "2021-02-06T00:10:45.891292Z",
     "iopub.status.busy": "2021-02-06T00:10:45.890572Z",
     "iopub.status.idle": "2021-02-06T00:10:45.892173Z",
     "shell.execute_reply": "2021-02-06T00:10:45.892819Z"
    },
    "papermill": {
     "duration": 0.070178,
     "end_time": "2021-02-06T00:10:45.892988",
     "exception": false,
     "start_time": "2021-02-06T00:10:45.822810",
     "status": "completed"
    },
    "tags": []
   },
   "outputs": [],
   "source": [
    "#hide\n",
    "metrics = [df_table.columns[index] for index in [1,2,5,6]]\n",
    "# s_china = df_table[df_table['Country/Region'].eq('China')][metrics].sum().add_prefix('China ')\n",
    "s_us = df_table[df_table['Country/Region'].eq('US')][metrics].sum().add_prefix('US ')\n",
    "s_eu = df_table[df_table['Continent'].eq('Europe')][metrics].sum().add_prefix('EU ')\n",
    "s_ind = df_table[df_table['Country/Region'].eq('India')][metrics].sum().add_prefix('India ')\n",
    "summary = {'updated': pd.to_datetime(dt_today), 'since': pd.to_datetime(dt_yday)}\n",
    "summary = {'updated': pd.to_datetime(dt_today), 'since': pd.to_datetime(dt_yday)}\n",
    "summary = {**summary, **df_table[metrics].sum(), **s_ind, **s_us, **s_eu}"
   ]
  },
  {
   "cell_type": "code",
   "execution_count": 18,
   "id": "engaging-syndrome",
   "metadata": {
    "execution": {
     "iopub.execute_input": "2021-02-06T00:10:45.974318Z",
     "iopub.status.busy": "2021-02-06T00:10:45.973676Z",
     "iopub.status.idle": "2021-02-06T00:10:45.987785Z",
     "shell.execute_reply": "2021-02-06T00:10:45.987234Z"
    },
    "papermill": {
     "duration": 0.057097,
     "end_time": "2021-02-06T00:10:45.987935",
     "exception": false,
     "start_time": "2021-02-06T00:10:45.930838",
     "status": "completed"
    },
    "tags": []
   },
   "outputs": [],
   "source": [
    "#hide\n",
    "dft_ct_new_cases = dft_cases.groupby(COL_REGION)[dt_cols].sum().diff(axis=1).fillna(0).astype(int)"
   ]
  },
  {
   "cell_type": "code",
   "execution_count": 19,
   "id": "neutral-assignment",
   "metadata": {
    "execution": {
     "iopub.execute_input": "2021-02-06T00:10:46.072649Z",
     "iopub.status.busy": "2021-02-06T00:10:46.071995Z",
     "iopub.status.idle": "2021-02-06T00:10:46.074457Z",
     "shell.execute_reply": "2021-02-06T00:10:46.073899Z"
    },
    "papermill": {
     "duration": 0.046837,
     "end_time": "2021-02-06T00:10:46.074597",
     "exception": false,
     "start_time": "2021-02-06T00:10:46.027760",
     "status": "completed"
    },
    "tags": []
   },
   "outputs": [],
   "source": [
    "#hide\n",
    "everydaycases = dft_ct_new_cases.cumsum(axis=1)"
   ]
  },
  {
   "cell_type": "code",
   "execution_count": 20,
   "id": "parliamentary-calgary",
   "metadata": {
    "execution": {
     "iopub.execute_input": "2021-02-06T00:10:46.157341Z",
     "iopub.status.busy": "2021-02-06T00:10:46.156689Z",
     "iopub.status.idle": "2021-02-06T00:10:47.489487Z",
     "shell.execute_reply": "2021-02-06T00:10:47.488904Z"
    },
    "papermill": {
     "duration": 1.375973,
     "end_time": "2021-02-06T00:10:47.489643",
     "exception": false,
     "start_time": "2021-02-06T00:10:46.113670",
     "status": "completed"
    },
    "tags": []
   },
   "outputs": [],
   "source": [
    "#hide\n",
    "import pandas as pd\n",
    "import matplotlib.pyplot as plt\n",
    "import matplotlib.ticker as ticker\n",
    "import matplotlib.animation as animation\n",
    "from IPython.display import HTML"
   ]
  },
  {
   "cell_type": "code",
   "execution_count": 21,
   "id": "lasting-extraction",
   "metadata": {
    "execution": {
     "iopub.execute_input": "2021-02-06T00:10:47.574200Z",
     "iopub.status.busy": "2021-02-06T00:10:47.573544Z",
     "iopub.status.idle": "2021-02-06T00:10:47.579424Z",
     "shell.execute_reply": "2021-02-06T00:10:47.579946Z"
    },
    "papermill": {
     "duration": 0.050931,
     "end_time": "2021-02-06T00:10:47.580112",
     "exception": false,
     "start_time": "2021-02-06T00:10:47.529181",
     "status": "completed"
    },
    "tags": []
   },
   "outputs": [],
   "source": [
    "#hide\n",
    "t = everydaycases.stack()"
   ]
  },
  {
   "cell_type": "code",
   "execution_count": 22,
   "id": "premier-sleeve",
   "metadata": {
    "execution": {
     "iopub.execute_input": "2021-02-06T00:10:47.663592Z",
     "iopub.status.busy": "2021-02-06T00:10:47.662888Z",
     "iopub.status.idle": "2021-02-06T00:10:47.670215Z",
     "shell.execute_reply": "2021-02-06T00:10:47.670904Z"
    },
    "papermill": {
     "duration": 0.050899,
     "end_time": "2021-02-06T00:10:47.671137",
     "exception": false,
     "start_time": "2021-02-06T00:10:47.620238",
     "status": "completed"
    },
    "tags": []
   },
   "outputs": [],
   "source": [
    "#hide\n",
    "g = t.reset_index(['Country/Region'])"
   ]
  },
  {
   "cell_type": "code",
   "execution_count": 23,
   "id": "distributed-pittsburgh",
   "metadata": {
    "execution": {
     "iopub.execute_input": "2021-02-06T00:10:47.752021Z",
     "iopub.status.busy": "2021-02-06T00:10:47.751377Z",
     "iopub.status.idle": "2021-02-06T00:10:47.753714Z",
     "shell.execute_reply": "2021-02-06T00:10:47.753082Z"
    },
    "papermill": {
     "duration": 0.044819,
     "end_time": "2021-02-06T00:10:47.753849",
     "exception": false,
     "start_time": "2021-02-06T00:10:47.709030",
     "status": "completed"
    },
    "tags": []
   },
   "outputs": [],
   "source": [
    "#hide\n",
    "g.index.name = 'date'"
   ]
  },
  {
   "cell_type": "code",
   "execution_count": 24,
   "id": "naked-donor",
   "metadata": {
    "execution": {
     "iopub.execute_input": "2021-02-06T00:10:47.835401Z",
     "iopub.status.busy": "2021-02-06T00:10:47.834301Z",
     "iopub.status.idle": "2021-02-06T00:10:47.836033Z",
     "shell.execute_reply": "2021-02-06T00:10:47.836635Z"
    },
    "papermill": {
     "duration": 0.044266,
     "end_time": "2021-02-06T00:10:47.836804",
     "exception": false,
     "start_time": "2021-02-06T00:10:47.792538",
     "status": "completed"
    },
    "tags": []
   },
   "outputs": [],
   "source": [
    "# #hide\n",
    "# g = g.reset_index(['date'])"
   ]
  },
  {
   "cell_type": "code",
   "execution_count": 25,
   "id": "incomplete-mustang",
   "metadata": {
    "execution": {
     "iopub.execute_input": "2021-02-06T00:10:47.917284Z",
     "iopub.status.busy": "2021-02-06T00:10:47.916622Z",
     "iopub.status.idle": "2021-02-06T00:10:47.926101Z",
     "shell.execute_reply": "2021-02-06T00:10:47.926722Z"
    },
    "papermill": {
     "duration": 0.051184,
     "end_time": "2021-02-06T00:10:47.926878",
     "exception": false,
     "start_time": "2021-02-06T00:10:47.875694",
     "status": "completed"
    },
    "tags": []
   },
   "outputs": [],
   "source": [
    "#hide\n",
    "# g.head()"
   ]
  },
  {
   "cell_type": "code",
   "execution_count": 26,
   "id": "specific-kruger",
   "metadata": {
    "execution": {
     "iopub.execute_input": "2021-02-06T00:10:48.010573Z",
     "iopub.status.busy": "2021-02-06T00:10:48.009807Z",
     "iopub.status.idle": "2021-02-06T00:10:48.012073Z",
     "shell.execute_reply": "2021-02-06T00:10:48.014398Z"
    },
    "papermill": {
     "duration": 0.050501,
     "end_time": "2021-02-06T00:10:48.014552",
     "exception": false,
     "start_time": "2021-02-06T00:10:47.964051",
     "status": "completed"
    },
    "tags": []
   },
   "outputs": [],
   "source": [
    "#hide\n",
    "# g.columns = ['date','country','cases']"
   ]
  },
  {
   "cell_type": "code",
   "execution_count": 27,
   "id": "tender-conversion",
   "metadata": {
    "execution": {
     "iopub.execute_input": "2021-02-06T00:10:48.096463Z",
     "iopub.status.busy": "2021-02-06T00:10:48.095808Z",
     "iopub.status.idle": "2021-02-06T00:10:48.098177Z",
     "shell.execute_reply": "2021-02-06T00:10:48.097535Z"
    },
    "papermill": {
     "duration": 0.044205,
     "end_time": "2021-02-06T00:10:48.098310",
     "exception": false,
     "start_time": "2021-02-06T00:10:48.054105",
     "status": "completed"
    },
    "tags": []
   },
   "outputs": [],
   "source": [
    "#hide\n",
    "# g['continent'] = g.country"
   ]
  },
  {
   "cell_type": "code",
   "execution_count": 28,
   "id": "substantial-wilderness",
   "metadata": {
    "execution": {
     "iopub.execute_input": "2021-02-06T00:10:48.178181Z",
     "iopub.status.busy": "2021-02-06T00:10:48.177536Z",
     "iopub.status.idle": "2021-02-06T00:10:48.179993Z",
     "shell.execute_reply": "2021-02-06T00:10:48.179455Z"
    },
    "papermill": {
     "duration": 0.043716,
     "end_time": "2021-02-06T00:10:48.180136",
     "exception": false,
     "start_time": "2021-02-06T00:10:48.136420",
     "status": "completed"
    },
    "tags": []
   },
   "outputs": [],
   "source": [
    "#hide\n",
    "# cols = list(g.columns.values)"
   ]
  },
  {
   "cell_type": "code",
   "execution_count": 29,
   "id": "solved-farming",
   "metadata": {
    "execution": {
     "iopub.execute_input": "2021-02-06T00:10:48.260084Z",
     "iopub.status.busy": "2021-02-06T00:10:48.259418Z",
     "iopub.status.idle": "2021-02-06T00:10:48.261862Z",
     "shell.execute_reply": "2021-02-06T00:10:48.261308Z"
    },
    "papermill": {
     "duration": 0.044158,
     "end_time": "2021-02-06T00:10:48.261998",
     "exception": false,
     "start_time": "2021-02-06T00:10:48.217840",
     "status": "completed"
    },
    "tags": []
   },
   "outputs": [],
   "source": [
    "#hide\n",
    "# cols.insert(0, cols.pop())"
   ]
  },
  {
   "cell_type": "code",
   "execution_count": 30,
   "id": "executed-adoption",
   "metadata": {
    "execution": {
     "iopub.execute_input": "2021-02-06T00:10:48.346948Z",
     "iopub.status.busy": "2021-02-06T00:10:48.346280Z",
     "iopub.status.idle": "2021-02-06T00:10:48.348820Z",
     "shell.execute_reply": "2021-02-06T00:10:48.349404Z"
    },
    "papermill": {
     "duration": 0.044971,
     "end_time": "2021-02-06T00:10:48.349546",
     "exception": false,
     "start_time": "2021-02-06T00:10:48.304575",
     "status": "completed"
    },
    "tags": []
   },
   "outputs": [],
   "source": [
    "#hide\n",
    "# g = g[cols]"
   ]
  },
  {
   "cell_type": "code",
   "execution_count": 31,
   "id": "subject-dublin",
   "metadata": {
    "execution": {
     "iopub.execute_input": "2021-02-06T00:10:48.430390Z",
     "iopub.status.busy": "2021-02-06T00:10:48.429743Z",
     "iopub.status.idle": "2021-02-06T00:10:48.432264Z",
     "shell.execute_reply": "2021-02-06T00:10:48.431706Z"
    },
    "papermill": {
     "duration": 0.044472,
     "end_time": "2021-02-06T00:10:48.432390",
     "exception": false,
     "start_time": "2021-02-06T00:10:48.387918",
     "status": "completed"
    },
    "tags": []
   },
   "outputs": [],
   "source": [
    "#hide\n",
    "# g['continent'] = g['continent'].map(mapping['map.continent'])"
   ]
  },
  {
   "cell_type": "code",
   "execution_count": 32,
   "id": "freelance-scout",
   "metadata": {
    "execution": {
     "iopub.execute_input": "2021-02-06T00:10:48.512190Z",
     "iopub.status.busy": "2021-02-06T00:10:48.511547Z",
     "iopub.status.idle": "2021-02-06T00:10:48.513763Z",
     "shell.execute_reply": "2021-02-06T00:10:48.514331Z"
    },
    "papermill": {
     "duration": 0.044078,
     "end_time": "2021-02-06T00:10:48.514481",
     "exception": false,
     "start_time": "2021-02-06T00:10:48.470403",
     "status": "completed"
    },
    "tags": []
   },
   "outputs": [],
   "source": [
    "#hide\n",
    "# g.head()"
   ]
  },
  {
   "cell_type": "code",
   "execution_count": 33,
   "id": "limited-engine",
   "metadata": {
    "execution": {
     "iopub.execute_input": "2021-02-06T00:10:48.593951Z",
     "iopub.status.busy": "2021-02-06T00:10:48.593299Z",
     "iopub.status.idle": "2021-02-06T00:10:48.595827Z",
     "shell.execute_reply": "2021-02-06T00:10:48.595261Z"
    },
    "papermill": {
     "duration": 0.044298,
     "end_time": "2021-02-06T00:10:48.595958",
     "exception": false,
     "start_time": "2021-02-06T00:10:48.551660",
     "status": "completed"
    },
    "tags": []
   },
   "outputs": [],
   "source": [
    "# hide\n",
    "# g['date'] = g['date'].astype('datetime64[ns]')"
   ]
  },
  {
   "cell_type": "code",
   "execution_count": 34,
   "id": "sophisticated-supervisor",
   "metadata": {
    "execution": {
     "iopub.execute_input": "2021-02-06T00:10:48.676476Z",
     "iopub.status.busy": "2021-02-06T00:10:48.675818Z",
     "iopub.status.idle": "2021-02-06T00:10:48.678190Z",
     "shell.execute_reply": "2021-02-06T00:10:48.677631Z"
    },
    "papermill": {
     "duration": 0.043969,
     "end_time": "2021-02-06T00:10:48.678325",
     "exception": false,
     "start_time": "2021-02-06T00:10:48.634356",
     "status": "completed"
    },
    "tags": []
   },
   "outputs": [],
   "source": [
    "#hide\n",
    "# g['date'] = g.date.dt.dayofyear"
   ]
  },
  {
   "cell_type": "code",
   "execution_count": 35,
   "id": "inside-dubai",
   "metadata": {
    "execution": {
     "iopub.execute_input": "2021-02-06T00:10:48.759377Z",
     "iopub.status.busy": "2021-02-06T00:10:48.758665Z",
     "iopub.status.idle": "2021-02-06T00:10:48.760577Z",
     "shell.execute_reply": "2021-02-06T00:10:48.761154Z"
    },
    "papermill": {
     "duration": 0.044427,
     "end_time": "2021-02-06T00:10:48.761322",
     "exception": false,
     "start_time": "2021-02-06T00:10:48.716895",
     "status": "completed"
    },
    "tags": []
   },
   "outputs": [],
   "source": [
    "#hide\n",
    "# g = g.rename(columns= {'continent':'group','country':'name','cases':'value'})"
   ]
  },
  {
   "cell_type": "code",
   "execution_count": 36,
   "id": "fleet-motorcycle",
   "metadata": {
    "execution": {
     "iopub.execute_input": "2021-02-06T00:10:48.843919Z",
     "iopub.status.busy": "2021-02-06T00:10:48.843242Z",
     "iopub.status.idle": "2021-02-06T00:10:48.845083Z",
     "shell.execute_reply": "2021-02-06T00:10:48.845673Z"
    },
    "papermill": {
     "duration": 0.044432,
     "end_time": "2021-02-06T00:10:48.845819",
     "exception": false,
     "start_time": "2021-02-06T00:10:48.801387",
     "status": "completed"
    },
    "tags": []
   },
   "outputs": [],
   "source": [
    "#hide\n",
    "# cols = ['name','group','day','value']"
   ]
  },
  {
   "cell_type": "code",
   "execution_count": 37,
   "id": "continued-sleeping",
   "metadata": {
    "execution": {
     "iopub.execute_input": "2021-02-06T00:10:48.929143Z",
     "iopub.status.busy": "2021-02-06T00:10:48.928460Z",
     "iopub.status.idle": "2021-02-06T00:10:48.930352Z",
     "shell.execute_reply": "2021-02-06T00:10:48.930918Z"
    },
    "papermill": {
     "duration": 0.04501,
     "end_time": "2021-02-06T00:10:48.931093",
     "exception": false,
     "start_time": "2021-02-06T00:10:48.886083",
     "status": "completed"
    },
    "tags": []
   },
   "outputs": [],
   "source": [
    "#hide\n",
    "# g.rename(columns= {'date':'day'},inplace = True)"
   ]
  },
  {
   "cell_type": "code",
   "execution_count": 38,
   "id": "major-fight",
   "metadata": {
    "execution": {
     "iopub.execute_input": "2021-02-06T00:10:49.011333Z",
     "iopub.status.busy": "2021-02-06T00:10:49.010628Z",
     "iopub.status.idle": "2021-02-06T00:10:49.013104Z",
     "shell.execute_reply": "2021-02-06T00:10:49.012555Z"
    },
    "papermill": {
     "duration": 0.044546,
     "end_time": "2021-02-06T00:10:49.013857",
     "exception": false,
     "start_time": "2021-02-06T00:10:48.969311",
     "status": "completed"
    },
    "tags": []
   },
   "outputs": [],
   "source": [
    "#hide\n",
    "# g = g[cols]"
   ]
  },
  {
   "cell_type": "code",
   "execution_count": 39,
   "id": "structured-mobile",
   "metadata": {
    "execution": {
     "iopub.execute_input": "2021-02-06T00:10:49.098157Z",
     "iopub.status.busy": "2021-02-06T00:10:49.097509Z",
     "iopub.status.idle": "2021-02-06T00:10:49.099945Z",
     "shell.execute_reply": "2021-02-06T00:10:49.099378Z"
    },
    "papermill": {
     "duration": 0.047845,
     "end_time": "2021-02-06T00:10:49.100094",
     "exception": false,
     "start_time": "2021-02-06T00:10:49.052249",
     "status": "completed"
    },
    "tags": []
   },
   "outputs": [],
   "source": [
    "# #hide\n",
    "# g = g[g.group.notna()]"
   ]
  },
  {
   "cell_type": "code",
   "execution_count": 40,
   "id": "determined-closing",
   "metadata": {
    "execution": {
     "iopub.execute_input": "2021-02-06T00:10:49.671832Z",
     "iopub.status.busy": "2021-02-06T00:10:49.671141Z",
     "iopub.status.idle": "2021-02-06T00:10:49.673207Z",
     "shell.execute_reply": "2021-02-06T00:10:49.673730Z"
    },
    "papermill": {
     "duration": 0.045073,
     "end_time": "2021-02-06T00:10:49.673893",
     "exception": false,
     "start_time": "2021-02-06T00:10:49.628820",
     "status": "completed"
    },
    "tags": []
   },
   "outputs": [],
   "source": [
    "# #hide\n",
    "# colors = dict(zip(\n",
    "#     [\"Oceania\", \"Europe\", \"Asia\", \"South America\", \"Middle East\", \"North America\", \"Africa\"],\n",
    "#     [\"#adb0ff\", \"#ffb3ff\", \"#90d595\", \"#e48381\", \"#aafbff\", \"#f7bb5f\", \"#eafb50\"]\n",
    "# ))\n",
    "# group_lk = g.set_index('name')['group'].to_dict()"
   ]
  },
  {
   "cell_type": "code",
   "execution_count": null,
   "id": "gross-drinking",
   "metadata": {
    "papermill": {
     "duration": 0.041428,
     "end_time": "2021-02-06T00:10:49.873960",
     "exception": false,
     "start_time": "2021-02-06T00:10:49.832532",
     "status": "completed"
    },
    "tags": []
   },
   "outputs": [],
   "source": []
  },
  {
   "cell_type": "code",
   "execution_count": 41,
   "id": "subject-macintosh",
   "metadata": {
    "execution": {
     "iopub.execute_input": "2021-02-06T00:10:49.952830Z",
     "iopub.status.busy": "2021-02-06T00:10:49.952167Z",
     "iopub.status.idle": "2021-02-06T00:10:49.954492Z",
     "shell.execute_reply": "2021-02-06T00:10:49.954967Z"
    },
    "papermill": {
     "duration": 0.043427,
     "end_time": "2021-02-06T00:10:49.955133",
     "exception": false,
     "start_time": "2021-02-06T00:10:49.911706",
     "status": "completed"
    },
    "tags": []
   },
   "outputs": [],
   "source": [
    "# #hide\n",
    "# fig, ax = plt.subplots(figsize=(15, 8))\n",
    "\n",
    "# def draw_barchart(current_day):\n",
    "#     dff = g[g['day'].eq(current_day)].sort_values(by='value', ascending=True).tail(10)\n",
    "#     ax.clear()\n",
    "#     ax.barh(dff['name'], dff['value'], color=[colors[group_lk[x]] for x in dff['name']])\n",
    "#     dx = dff['value'].max() / 200\n",
    "    \n",
    "#     for i, (value, name) in enumerate(zip(dff['value'], dff['name'])):\n",
    "#         ax.text(value-dx, i,     name,           size=14, weight=600, ha='right', va='bottom')\n",
    "#         ax.text(value-dx, i-.25, group_lk[name], size=10, color='#444444', ha='right', va='baseline')\n",
    "#         ax.text(value+dx, i,     f'{value:,.0f}',  size=14, ha='left',  va='center')\n",
    "#     ax.text(1, 0.4, current_day, transform=ax.transAxes, color='#777777', size=46, ha='right', weight=800)\n",
    "#     ax.text(0, 1.06, 'Population (thousands)', transform=ax.transAxes, size=12, color='#777777')\n",
    "#     ax.xaxis.set_major_formatter(ticker.StrMethodFormatter('{x:,.0f}'))\n",
    "#     ax.xaxis.set_ticks_position('top')\n",
    "#     ax.tick_params(axis='x', colors='#777777', labelsize=12)\n",
    "#     ax.set_yticks([])\n",
    "#     ax.margins(0, 0.01)\n",
    "#     ax.grid(which='major', axis='x', linestyle='-')\n",
    "#     ax.set_axisbelow(True)\n",
    "    \n",
    "#     ax.text(0, 1.15, 'Coronavirus',\n",
    "#             transform=ax.transAxes, size=24, weight=600, ha='left', va='top')\n",
    "# #     ax.text(1, 0, 'by @pratapvardhan; credit @jburnmurdoch', transform=ax.transAxes, color='#777777', ha='right',\n",
    "# #             bbox=dict(facecolor='white', alpha=0.8, edgecolor='white'))\n",
    "#     plt.box(False)"
   ]
  },
  {
   "cell_type": "code",
   "execution_count": 42,
   "id": "sexual-wages",
   "metadata": {
    "execution": {
     "iopub.execute_input": "2021-02-06T00:10:50.035756Z",
     "iopub.status.busy": "2021-02-06T00:10:50.035108Z",
     "iopub.status.idle": "2021-02-06T00:10:50.037499Z",
     "shell.execute_reply": "2021-02-06T00:10:50.038066Z"
    },
    "papermill": {
     "duration": 0.045025,
     "end_time": "2021-02-06T00:10:50.038236",
     "exception": false,
     "start_time": "2021-02-06T00:10:49.993211",
     "status": "completed"
    },
    "tags": []
   },
   "outputs": [],
   "source": [
    "# #hide_input\n",
    "# fig, ax = plt.subplots(figsize=(15, 8))\n",
    "# animator = animation.FuncAnimation(fig, draw_barchart, frames=range(g.day.values.min(), g.day.values.max()))\n",
    "# HTML(animator.to_jshtml())\n",
    "# # or use animator.to_html5_video() or animator.save() "
   ]
  },
  {
   "cell_type": "code",
   "execution_count": null,
   "id": "australian-container",
   "metadata": {
    "papermill": {
     "duration": 0.037643,
     "end_time": "2021-02-06T00:10:50.113275",
     "exception": false,
     "start_time": "2021-02-06T00:10:50.075632",
     "status": "completed"
    },
    "tags": []
   },
   "outputs": [],
   "source": []
  },
  {
   "cell_type": "code",
   "execution_count": null,
   "id": "mediterranean-pontiac",
   "metadata": {
    "papermill": {
     "duration": 0.03804,
     "end_time": "2021-02-06T00:10:50.189481",
     "exception": false,
     "start_time": "2021-02-06T00:10:50.151441",
     "status": "completed"
    },
    "tags": []
   },
   "outputs": [],
   "source": []
  },
  {
   "cell_type": "code",
   "execution_count": null,
   "id": "aging-legislature",
   "metadata": {
    "papermill": {
     "duration": 0.037908,
     "end_time": "2021-02-06T00:10:50.265337",
     "exception": false,
     "start_time": "2021-02-06T00:10:50.227429",
     "status": "completed"
    },
    "tags": []
   },
   "outputs": [],
   "source": []
  }
 ],
 "metadata": {
  "kernelspec": {
   "display_name": "Python 3",
   "language": "python",
   "name": "python3"
  },
  "language_info": {
   "codemirror_mode": {
    "name": "ipython",
    "version": 3
   },
   "file_extension": ".py",
   "mimetype": "text/x-python",
   "name": "python",
   "nbconvert_exporter": "python",
   "pygments_lexer": "ipython3",
   "version": "3.6.12"
  },
  "papermill": {
   "duration": 8.413098,
   "end_time": "2021-02-06T00:10:50.709874",
   "environment_variables": {},
   "exception": null,
   "input_path": "2020-03-21-covid19exp.ipynb",
   "output_path": "2020-03-21-covid19exp.ipynb",
   "parameters": {},
   "start_time": "2021-02-06T00:10:42.296776",
   "version": "2.0.0"
  }
 },
 "nbformat": 4,
 "nbformat_minor": 5
}