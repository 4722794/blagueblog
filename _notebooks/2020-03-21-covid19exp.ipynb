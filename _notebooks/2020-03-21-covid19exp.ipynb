{
 "cells": [
  {
   "cell_type": "markdown",
   "id": "muslim-click",
   "metadata": {
    "papermill": {
     "duration": 0.043852,
     "end_time": "2021-09-25T12:10:30.222541",
     "exception": false,
     "start_time": "2021-09-25T12:10:30.178689",
     "status": "completed"
    },
    "tags": []
   },
   "source": [
    "# COVID-19 Case Race\n",
    "> A race chart to see rising cases around the world\n",
    "\n",
    "- author: Hargun Oberoi\n",
    "- image: images/covid-overview.png\n",
    "- hide: false\n",
    "- badges: false"
   ]
  },
  {
   "cell_type": "code",
   "execution_count": 1,
   "id": "proof-material",
   "metadata": {
    "execution": {
     "iopub.execute_input": "2021-09-25T12:10:30.308389Z",
     "iopub.status.busy": "2021-09-25T12:10:30.307776Z",
     "iopub.status.idle": "2021-09-25T12:10:30.700752Z",
     "shell.execute_reply": "2021-09-25T12:10:30.700208Z"
    },
    "papermill": {
     "duration": 0.440952,
     "end_time": "2021-09-25T12:10:30.700953",
     "exception": false,
     "start_time": "2021-09-25T12:10:30.260001",
     "status": "completed"
    },
    "tags": []
   },
   "outputs": [],
   "source": [
    "#hide\n",
    "import numpy as np\n",
    "import pandas as pd\n",
    "from jinja2 import Template\n",
    "from IPython.display import HTML"
   ]
  },
  {
   "cell_type": "code",
   "execution_count": 2,
   "id": "developed-terminology",
   "metadata": {
    "execution": {
     "iopub.execute_input": "2021-09-25T12:10:30.782619Z",
     "iopub.status.busy": "2021-09-25T12:10:30.781845Z",
     "iopub.status.idle": "2021-09-25T12:10:30.783930Z",
     "shell.execute_reply": "2021-09-25T12:10:30.784390Z"
    },
    "papermill": {
     "duration": 0.045661,
     "end_time": "2021-09-25T12:10:30.784519",
     "exception": false,
     "start_time": "2021-09-25T12:10:30.738858",
     "status": "completed"
    },
    "tags": []
   },
   "outputs": [],
   "source": [
    "#hide\n",
    "\n",
    "# FETCH\n",
    "base_url = 'https://raw.githubusercontent.com/pratapvardhan/notebooks/master/covid19/'\n",
    "paths = {\n",
    "    'mapping': base_url + 'mapping_countries.csv',\n",
    "    'overview': base_url + 'overview.tpl'\n",
    "}"
   ]
  },
  {
   "cell_type": "code",
   "execution_count": 3,
   "id": "dynamic-saver",
   "metadata": {
    "execution": {
     "iopub.execute_input": "2021-09-25T12:10:30.874843Z",
     "iopub.status.busy": "2021-09-25T12:10:30.871185Z",
     "iopub.status.idle": "2021-09-25T12:10:30.877808Z",
     "shell.execute_reply": "2021-09-25T12:10:30.878335Z"
    },
    "papermill": {
     "duration": 0.055981,
     "end_time": "2021-09-25T12:10:30.878477",
     "exception": false,
     "start_time": "2021-09-25T12:10:30.822496",
     "status": "completed"
    },
    "tags": []
   },
   "outputs": [
    {
     "data": {
      "text/plain": [
       "'https://raw.githubusercontent.com/pratapvardhan/notebooks/master/covid19/mapping_countries.csv'"
      ]
     },
     "execution_count": 3,
     "metadata": {},
     "output_type": "execute_result"
    }
   ],
   "source": [
    "#hide\n",
    "paths['mapping']"
   ]
  },
  {
   "cell_type": "code",
   "execution_count": 4,
   "id": "urban-software",
   "metadata": {
    "execution": {
     "iopub.execute_input": "2021-09-25T12:10:30.958927Z",
     "iopub.status.busy": "2021-09-25T12:10:30.958323Z",
     "iopub.status.idle": "2021-09-25T12:10:30.960320Z",
     "shell.execute_reply": "2021-09-25T12:10:30.961069Z"
    },
    "papermill": {
     "duration": 0.045819,
     "end_time": "2021-09-25T12:10:30.961208",
     "exception": false,
     "start_time": "2021-09-25T12:10:30.915389",
     "status": "completed"
    },
    "tags": []
   },
   "outputs": [],
   "source": [
    "#hide\n",
    "def get_mappings(url):\n",
    "    df = pd.read_csv(url)\n",
    "    return {\n",
    "        'df': df,\n",
    "        'replace.country': dict(df.dropna(subset=['Name']).set_index('Country')['Name']),\n",
    "        'map.continent': dict(df.set_index('Name')['Continent'])\n",
    "    }"
   ]
  },
  {
   "cell_type": "code",
   "execution_count": 5,
   "id": "intimate-machinery",
   "metadata": {
    "execution": {
     "iopub.execute_input": "2021-09-25T12:10:31.041553Z",
     "iopub.status.busy": "2021-09-25T12:10:31.040888Z",
     "iopub.status.idle": "2021-09-25T12:10:31.079399Z",
     "shell.execute_reply": "2021-09-25T12:10:31.079959Z"
    },
    "papermill": {
     "duration": 0.081485,
     "end_time": "2021-09-25T12:10:31.080116",
     "exception": false,
     "start_time": "2021-09-25T12:10:30.998631",
     "status": "completed"
    },
    "tags": []
   },
   "outputs": [],
   "source": [
    "#hide\n",
    "mapping = get_mappings(paths['mapping'])"
   ]
  },
  {
   "cell_type": "code",
   "execution_count": 6,
   "id": "certified-tactics",
   "metadata": {
    "execution": {
     "iopub.execute_input": "2021-09-25T12:10:31.163489Z",
     "iopub.status.busy": "2021-09-25T12:10:31.162788Z",
     "iopub.status.idle": "2021-09-25T12:10:31.165455Z",
     "shell.execute_reply": "2021-09-25T12:10:31.164910Z"
    },
    "papermill": {
     "duration": 0.045844,
     "end_time": "2021-09-25T12:10:31.165621",
     "exception": false,
     "start_time": "2021-09-25T12:10:31.119777",
     "status": "completed"
    },
    "tags": []
   },
   "outputs": [],
   "source": [
    "#hide\n",
    "def get_template(path):\n",
    "    from urllib.parse import urlparse\n",
    "    if bool(urlparse(path).netloc):\n",
    "        from urllib.request import urlopen\n",
    "        return urlopen(path).read().decode('utf8')\n",
    "    return open(path).read()"
   ]
  },
  {
   "cell_type": "code",
   "execution_count": 7,
   "id": "realistic-blast",
   "metadata": {
    "execution": {
     "iopub.execute_input": "2021-09-25T12:10:31.245587Z",
     "iopub.status.busy": "2021-09-25T12:10:31.244988Z",
     "iopub.status.idle": "2021-09-25T12:10:31.247544Z",
     "shell.execute_reply": "2021-09-25T12:10:31.247029Z"
    },
    "papermill": {
     "duration": 0.044814,
     "end_time": "2021-09-25T12:10:31.247658",
     "exception": false,
     "start_time": "2021-09-25T12:10:31.202844",
     "status": "completed"
    },
    "tags": []
   },
   "outputs": [],
   "source": [
    "#hide\n",
    "def get_frame(name):\n",
    "    url = (\n",
    "        'https://raw.githubusercontent.com/CSSEGISandData/COVID-19/master/csse_covid_19_data/'\n",
    "        f'csse_covid_19_time_series/time_series_covid19_{name}_global.csv')\n",
    "    df = pd.read_csv(url)\n",
    "    # rename countries\n",
    "    df['Country/Region'] = df['Country/Region'].replace(mapping['replace.country'])\n",
    "    return df"
   ]
  },
  {
   "cell_type": "code",
   "execution_count": 8,
   "id": "affiliated-characterization",
   "metadata": {
    "execution": {
     "iopub.execute_input": "2021-09-25T12:10:31.330138Z",
     "iopub.status.busy": "2021-09-25T12:10:31.329512Z",
     "iopub.status.idle": "2021-09-25T12:10:31.332018Z",
     "shell.execute_reply": "2021-09-25T12:10:31.331557Z"
    },
    "papermill": {
     "duration": 0.046559,
     "end_time": "2021-09-25T12:10:31.332133",
     "exception": false,
     "start_time": "2021-09-25T12:10:31.285574",
     "status": "completed"
    },
    "tags": []
   },
   "outputs": [],
   "source": [
    "#hide\n",
    "def get_dates(df):\n",
    "    dt_cols = df.columns[~df.columns.isin(['Province/State', 'Country/Region', 'Lat', 'Long'])]\n",
    "    LAST_DATE_I = -1\n",
    "    # sometimes last column may be empty, then go backwards\n",
    "    for i in range(-1, -len(dt_cols), -1):\n",
    "        if not df[dt_cols[i]].fillna(0).eq(0).all():\n",
    "            LAST_DATE_I = i\n",
    "            break\n",
    "    return LAST_DATE_I, dt_cols"
   ]
  },
  {
   "cell_type": "code",
   "execution_count": 9,
   "id": "recent-optimization",
   "metadata": {
    "execution": {
     "iopub.execute_input": "2021-09-25T12:10:31.412951Z",
     "iopub.status.busy": "2021-09-25T12:10:31.412230Z",
     "iopub.status.idle": "2021-09-25T12:10:31.768217Z",
     "shell.execute_reply": "2021-09-25T12:10:31.767538Z"
    },
    "papermill": {
     "duration": 0.398787,
     "end_time": "2021-09-25T12:10:31.768399",
     "exception": false,
     "start_time": "2021-09-25T12:10:31.369612",
     "status": "completed"
    },
    "tags": []
   },
   "outputs": [],
   "source": [
    "#hide\n",
    "COL_REGION = 'Country/Region'\n",
    "# Confirmed, Recovered, Deaths\n",
    "df = get_frame('confirmed')\n",
    "# dft_: timeseries, dfc_: today country agg\n",
    "dft_cases = df\n",
    "dft_deaths = get_frame('deaths')\n",
    "dft_recovered = get_frame('recovered')\n",
    "LAST_DATE_I, dt_cols = get_dates(df)"
   ]
  },
  {
   "cell_type": "code",
   "execution_count": 10,
   "id": "absolute-copper",
   "metadata": {
    "execution": {
     "iopub.execute_input": "2021-09-25T12:10:31.847926Z",
     "iopub.status.busy": "2021-09-25T12:10:31.847311Z",
     "iopub.status.idle": "2021-09-25T12:10:31.850301Z",
     "shell.execute_reply": "2021-09-25T12:10:31.849742Z"
    },
    "papermill": {
     "duration": 0.044145,
     "end_time": "2021-09-25T12:10:31.850415",
     "exception": false,
     "start_time": "2021-09-25T12:10:31.806270",
     "status": "completed"
    },
    "tags": []
   },
   "outputs": [],
   "source": [
    "#hide\n",
    "LAST_DATE_I, dt_cols = get_dates(df)\n",
    "dt_today =dt_cols[LAST_DATE_I]\n",
    "# dt_5day = dt_cols[LAST_DATE_I - 5]\n",
    "dt_yday = dt_cols[LAST_DATE_I - 1]"
   ]
  },
  {
   "cell_type": "code",
   "execution_count": 11,
   "id": "restricted-sheriff",
   "metadata": {
    "execution": {
     "iopub.execute_input": "2021-09-25T12:10:31.930756Z",
     "iopub.status.busy": "2021-09-25T12:10:31.930005Z",
     "iopub.status.idle": "2021-09-25T12:10:31.939042Z",
     "shell.execute_reply": "2021-09-25T12:10:31.939991Z"
    },
    "papermill": {
     "duration": 0.05296,
     "end_time": "2021-09-25T12:10:31.940221",
     "exception": false,
     "start_time": "2021-09-25T12:10:31.887261",
     "status": "completed"
    },
    "tags": []
   },
   "outputs": [],
   "source": [
    "#hide\n",
    "dfc_cases = dft_cases.groupby(COL_REGION)[dt_today].sum()\n",
    "dfc_deaths = dft_deaths.groupby(COL_REGION)[dt_today].sum()\n",
    "# dfp_cases = dft_cases.groupby(COL_REGION)[dt_5day].sum()\n",
    "# dfp_deaths = dft_deaths.groupby(COL_REGION)[dt_5day].sum()\n",
    "dfp_cases = dft_cases.groupby(COL_REGION)[dt_yday].sum()\n",
    "dfp_deaths = dft_deaths.groupby(COL_REGION)[dt_yday].sum()"
   ]
  },
  {
   "cell_type": "code",
   "execution_count": 12,
   "id": "deluxe-hepatitis",
   "metadata": {
    "execution": {
     "iopub.execute_input": "2021-09-25T12:10:32.021675Z",
     "iopub.status.busy": "2021-09-25T12:10:32.021080Z",
     "iopub.status.idle": "2021-09-25T12:10:32.026607Z",
     "shell.execute_reply": "2021-09-25T12:10:32.026017Z"
    },
    "papermill": {
     "duration": 0.048452,
     "end_time": "2021-09-25T12:10:32.026745",
     "exception": false,
     "start_time": "2021-09-25T12:10:31.978293",
     "status": "completed"
    },
    "tags": []
   },
   "outputs": [],
   "source": [
    "#hide\n",
    "df_table = (pd.DataFrame(dict(Cases = dfc_cases, Deaths = dfc_deaths, PCases = dfp_cases, PDeaths = dfp_deaths))\n",
    "            .sort_values(by = ['Cases','Deaths'], ascending = [False, False])\n",
    "            .reset_index())"
   ]
  },
  {
   "cell_type": "code",
   "execution_count": 13,
   "id": "educational-chancellor",
   "metadata": {
    "execution": {
     "iopub.execute_input": "2021-09-25T12:10:32.124682Z",
     "iopub.status.busy": "2021-09-25T12:10:32.123980Z",
     "iopub.status.idle": "2021-09-25T12:10:32.132648Z",
     "shell.execute_reply": "2021-09-25T12:10:32.133176Z"
    },
    "papermill": {
     "duration": 0.068178,
     "end_time": "2021-09-25T12:10:32.133333",
     "exception": false,
     "start_time": "2021-09-25T12:10:32.065155",
     "status": "completed"
    },
    "tags": []
   },
   "outputs": [
    {
     "data": {
      "text/html": [
       "<div>\n",
       "<style scoped>\n",
       "    .dataframe tbody tr th:only-of-type {\n",
       "        vertical-align: middle;\n",
       "    }\n",
       "\n",
       "    .dataframe tbody tr th {\n",
       "        vertical-align: top;\n",
       "    }\n",
       "\n",
       "    .dataframe thead th {\n",
       "        text-align: right;\n",
       "    }\n",
       "</style>\n",
       "<table border=\"1\" class=\"dataframe\">\n",
       "  <thead>\n",
       "    <tr style=\"text-align: right;\">\n",
       "      <th></th>\n",
       "      <th>Country/Region</th>\n",
       "      <th>Cases</th>\n",
       "      <th>Deaths</th>\n",
       "      <th>PCases</th>\n",
       "      <th>PDeaths</th>\n",
       "      <th>Cases (+)</th>\n",
       "      <th>Deaths (+)</th>\n",
       "      <th>Fatality Rate</th>\n",
       "      <th>Continent</th>\n",
       "    </tr>\n",
       "  </thead>\n",
       "  <tbody>\n",
       "    <tr>\n",
       "      <th>0</th>\n",
       "      <td>US</td>\n",
       "      <td>42853724</td>\n",
       "      <td>687084</td>\n",
       "      <td>42672241</td>\n",
       "      <td>684349</td>\n",
       "      <td>181483</td>\n",
       "      <td>2735</td>\n",
       "      <td>1.60</td>\n",
       "      <td>North America</td>\n",
       "    </tr>\n",
       "    <tr>\n",
       "      <th>1</th>\n",
       "      <td>India</td>\n",
       "      <td>33624419</td>\n",
       "      <td>446658</td>\n",
       "      <td>33594803</td>\n",
       "      <td>446368</td>\n",
       "      <td>29616</td>\n",
       "      <td>290</td>\n",
       "      <td>1.33</td>\n",
       "      <td>Asia</td>\n",
       "    </tr>\n",
       "    <tr>\n",
       "      <th>2</th>\n",
       "      <td>Brazil</td>\n",
       "      <td>21327616</td>\n",
       "      <td>593663</td>\n",
       "      <td>21308178</td>\n",
       "      <td>592964</td>\n",
       "      <td>19438</td>\n",
       "      <td>699</td>\n",
       "      <td>2.78</td>\n",
       "      <td>South America</td>\n",
       "    </tr>\n",
       "    <tr>\n",
       "      <th>3</th>\n",
       "      <td>United Kingdom</td>\n",
       "      <td>7637314</td>\n",
       "      <td>136336</td>\n",
       "      <td>7601598</td>\n",
       "      <td>136156</td>\n",
       "      <td>35716</td>\n",
       "      <td>180</td>\n",
       "      <td>1.79</td>\n",
       "      <td>Europe</td>\n",
       "    </tr>\n",
       "    <tr>\n",
       "      <th>4</th>\n",
       "      <td>Russia</td>\n",
       "      <td>7269514</td>\n",
       "      <td>198644</td>\n",
       "      <td>7248572</td>\n",
       "      <td>197834</td>\n",
       "      <td>20942</td>\n",
       "      <td>810</td>\n",
       "      <td>2.73</td>\n",
       "      <td>Europe</td>\n",
       "    </tr>\n",
       "  </tbody>\n",
       "</table>\n",
       "</div>"
      ],
      "text/plain": [
       "   Country/Region     Cases  Deaths    PCases  PDeaths  Cases (+)  Deaths (+)  \\\n",
       "0              US  42853724  687084  42672241   684349     181483        2735   \n",
       "1           India  33624419  446658  33594803   446368      29616         290   \n",
       "2          Brazil  21327616  593663  21308178   592964      19438         699   \n",
       "3  United Kingdom   7637314  136336   7601598   136156      35716         180   \n",
       "4          Russia   7269514  198644   7248572   197834      20942         810   \n",
       "\n",
       "   Fatality Rate      Continent  \n",
       "0           1.60  North America  \n",
       "1           1.33           Asia  \n",
       "2           2.78  South America  \n",
       "3           1.79         Europe  \n",
       "4           2.73         Europe  "
      ]
     },
     "execution_count": 13,
     "metadata": {},
     "output_type": "execute_result"
    }
   ],
   "source": [
    "#hide\n",
    "for c in 'Cases, Deaths'.split(', '):\n",
    "    df_table[f'{c} (+)'] = (df_table[c] - df_table[f'P{c}']).clip(0)\n",
    "    #Clip ça veut dire, les chiffres negatif sont interdit\n",
    "df_table['Fatality Rate'] = (100* df_table['Deaths']/ df_table['Cases']).round(2)\n",
    "df_table['Continent'] = df_table['Country/Region'].map(mapping['map.continent'])\n",
    "df_table.head(5)"
   ]
  },
  {
   "cell_type": "code",
   "execution_count": 14,
   "id": "aboriginal-bulgaria",
   "metadata": {
    "execution": {
     "iopub.execute_input": "2021-09-25T12:10:32.218069Z",
     "iopub.status.busy": "2021-09-25T12:10:32.217334Z",
     "iopub.status.idle": "2021-09-25T12:10:32.220280Z",
     "shell.execute_reply": "2021-09-25T12:10:32.220923Z"
    },
    "papermill": {
     "duration": 0.047874,
     "end_time": "2021-09-25T12:10:32.221079",
     "exception": false,
     "start_time": "2021-09-25T12:10:32.173205",
     "status": "completed"
    },
    "tags": []
   },
   "outputs": [],
   "source": [
    "#hide\n",
    "#delete problematic countries from table\n",
    "df_table = df_table[~df_table['Country/Region'].isin(['Cape Verde', 'Cruise Ship', 'Kosovo'])]"
   ]
  },
  {
   "cell_type": "code",
   "execution_count": 15,
   "id": "fantastic-effect",
   "metadata": {
    "execution": {
     "iopub.execute_input": "2021-09-25T12:10:32.307893Z",
     "iopub.status.busy": "2021-09-25T12:10:32.307232Z",
     "iopub.status.idle": "2021-09-25T12:10:32.329963Z",
     "shell.execute_reply": "2021-09-25T12:10:32.330481Z"
    },
    "papermill": {
     "duration": 0.070275,
     "end_time": "2021-09-25T12:10:32.330623",
     "exception": false,
     "start_time": "2021-09-25T12:10:32.260348",
     "status": "completed"
    },
    "tags": []
   },
   "outputs": [
    {
     "data": {
      "text/html": [
       "<div>\n",
       "<style scoped>\n",
       "    .dataframe tbody tr th:only-of-type {\n",
       "        vertical-align: middle;\n",
       "    }\n",
       "\n",
       "    .dataframe tbody tr th {\n",
       "        vertical-align: top;\n",
       "    }\n",
       "\n",
       "    .dataframe thead th {\n",
       "        text-align: right;\n",
       "    }\n",
       "</style>\n",
       "<table border=\"1\" class=\"dataframe\">\n",
       "  <thead>\n",
       "    <tr style=\"text-align: right;\">\n",
       "      <th></th>\n",
       "      <th>Country/Region</th>\n",
       "      <th>Cases</th>\n",
       "      <th>Deaths</th>\n",
       "      <th>PCases</th>\n",
       "      <th>PDeaths</th>\n",
       "      <th>Cases (+)</th>\n",
       "      <th>Deaths (+)</th>\n",
       "      <th>Fatality Rate</th>\n",
       "      <th>Continent</th>\n",
       "    </tr>\n",
       "  </thead>\n",
       "  <tbody>\n",
       "    <tr>\n",
       "      <th>0</th>\n",
       "      <td>US</td>\n",
       "      <td>42853724</td>\n",
       "      <td>687084</td>\n",
       "      <td>42672241</td>\n",
       "      <td>684349</td>\n",
       "      <td>181483</td>\n",
       "      <td>2735</td>\n",
       "      <td>1.6</td>\n",
       "      <td>North America</td>\n",
       "    </tr>\n",
       "    <tr>\n",
       "      <th>1</th>\n",
       "      <td>India</td>\n",
       "      <td>33624419</td>\n",
       "      <td>446658</td>\n",
       "      <td>33594803</td>\n",
       "      <td>446368</td>\n",
       "      <td>29616</td>\n",
       "      <td>290</td>\n",
       "      <td>1.3</td>\n",
       "      <td>Asia</td>\n",
       "    </tr>\n",
       "    <tr>\n",
       "      <th>2</th>\n",
       "      <td>Brazil</td>\n",
       "      <td>21327616</td>\n",
       "      <td>593663</td>\n",
       "      <td>21308178</td>\n",
       "      <td>592964</td>\n",
       "      <td>19438</td>\n",
       "      <td>699</td>\n",
       "      <td>2.8</td>\n",
       "      <td>South America</td>\n",
       "    </tr>\n",
       "    <tr>\n",
       "      <th>3</th>\n",
       "      <td>United Kingdom</td>\n",
       "      <td>7637314</td>\n",
       "      <td>136336</td>\n",
       "      <td>7601598</td>\n",
       "      <td>136156</td>\n",
       "      <td>35716</td>\n",
       "      <td>180</td>\n",
       "      <td>1.8</td>\n",
       "      <td>Europe</td>\n",
       "    </tr>\n",
       "    <tr>\n",
       "      <th>4</th>\n",
       "      <td>Russia</td>\n",
       "      <td>7269514</td>\n",
       "      <td>198644</td>\n",
       "      <td>7248572</td>\n",
       "      <td>197834</td>\n",
       "      <td>20942</td>\n",
       "      <td>810</td>\n",
       "      <td>2.7</td>\n",
       "      <td>Europe</td>\n",
       "    </tr>\n",
       "  </tbody>\n",
       "</table>\n",
       "</div>"
      ],
      "text/plain": [
       "   Country/Region     Cases  Deaths    PCases  PDeaths  Cases (+)  Deaths (+)  \\\n",
       "0              US  42853724  687084  42672241   684349     181483        2735   \n",
       "1           India  33624419  446658  33594803   446368      29616         290   \n",
       "2          Brazil  21327616  593663  21308178   592964      19438         699   \n",
       "3  United Kingdom   7637314  136336   7601598   136156      35716         180   \n",
       "4          Russia   7269514  198644   7248572   197834      20942         810   \n",
       "\n",
       "   Fatality Rate      Continent  \n",
       "0            1.6  North America  \n",
       "1            1.3           Asia  \n",
       "2            2.8  South America  \n",
       "3            1.8         Europe  \n",
       "4            2.7         Europe  "
      ]
     },
     "execution_count": 15,
     "metadata": {},
     "output_type": "execute_result"
    }
   ],
   "source": [
    "#hide\n",
    "df_table = (pd.DataFrame(dict(Cases=dfc_cases, Deaths=dfc_deaths, PCases=dfp_cases, PDeaths=dfp_deaths))\n",
    "             .sort_values(by=['Cases', 'Deaths'], ascending=[False, False])\n",
    "             .reset_index())\n",
    "df_table.rename(columns={'index': 'Country/Region'}, inplace=True)\n",
    "for c in 'Cases, Deaths'.split(', '):\n",
    "    df_table[f'{c} (+)'] = (df_table[c] - df_table[f'P{c}']).clip(0)  # DATA BUG\n",
    "df_table['Fatality Rate'] = (100 * df_table['Deaths'] / df_table['Cases']).round(1)\n",
    "df_table['Continent'] = df_table['Country/Region'].map(mapping['map.continent'])\n",
    "df_table.head(5)"
   ]
  },
  {
   "cell_type": "code",
   "execution_count": 16,
   "id": "fewer-occasion",
   "metadata": {
    "execution": {
     "iopub.execute_input": "2021-09-25T12:10:32.411465Z",
     "iopub.status.busy": "2021-09-25T12:10:32.410817Z",
     "iopub.status.idle": "2021-09-25T12:10:32.413720Z",
     "shell.execute_reply": "2021-09-25T12:10:32.414493Z"
    },
    "papermill": {
     "duration": 0.046492,
     "end_time": "2021-09-25T12:10:32.414631",
     "exception": false,
     "start_time": "2021-09-25T12:10:32.368139",
     "status": "completed"
    },
    "tags": []
   },
   "outputs": [],
   "source": [
    "#hide\n",
    "#delete problematic countries from table\n",
    "df_table = df_table[~df_table['Country/Region'].isin(['Cape Verde', 'Cruise Ship', 'Kosovo'])]"
   ]
  },
  {
   "cell_type": "code",
   "execution_count": 17,
   "id": "related-center",
   "metadata": {
    "execution": {
     "iopub.execute_input": "2021-09-25T12:10:32.513369Z",
     "iopub.status.busy": "2021-09-25T12:10:32.512474Z",
     "iopub.status.idle": "2021-09-25T12:10:32.516010Z",
     "shell.execute_reply": "2021-09-25T12:10:32.515416Z"
    },
    "papermill": {
     "duration": 0.063923,
     "end_time": "2021-09-25T12:10:32.516126",
     "exception": false,
     "start_time": "2021-09-25T12:10:32.452203",
     "status": "completed"
    },
    "tags": []
   },
   "outputs": [],
   "source": [
    "#hide\n",
    "metrics = [df_table.columns[index] for index in [1,2,5,6]]\n",
    "# s_china = df_table[df_table['Country/Region'].eq('China')][metrics].sum().add_prefix('China ')\n",
    "s_us = df_table[df_table['Country/Region'].eq('US')][metrics].sum().add_prefix('US ')\n",
    "s_eu = df_table[df_table['Continent'].eq('Europe')][metrics].sum().add_prefix('EU ')\n",
    "s_ind = df_table[df_table['Country/Region'].eq('India')][metrics].sum().add_prefix('India ')\n",
    "summary = {'updated': pd.to_datetime(dt_today), 'since': pd.to_datetime(dt_yday)}\n",
    "summary = {'updated': pd.to_datetime(dt_today), 'since': pd.to_datetime(dt_yday)}\n",
    "summary = {**summary, **df_table[metrics].sum(), **s_ind, **s_us, **s_eu}"
   ]
  },
  {
   "cell_type": "code",
   "execution_count": 18,
   "id": "engaging-syndrome",
   "metadata": {
    "execution": {
     "iopub.execute_input": "2021-09-25T12:10:32.599332Z",
     "iopub.status.busy": "2021-09-25T12:10:32.598680Z",
     "iopub.status.idle": "2021-09-25T12:10:32.613847Z",
     "shell.execute_reply": "2021-09-25T12:10:32.614360Z"
    },
    "papermill": {
     "duration": 0.058959,
     "end_time": "2021-09-25T12:10:32.614523",
     "exception": false,
     "start_time": "2021-09-25T12:10:32.555564",
     "status": "completed"
    },
    "tags": []
   },
   "outputs": [],
   "source": [
    "#hide\n",
    "dft_ct_new_cases = dft_cases.groupby(COL_REGION)[dt_cols].sum().diff(axis=1).fillna(0).astype(int)"
   ]
  },
  {
   "cell_type": "code",
   "execution_count": 19,
   "id": "neutral-assignment",
   "metadata": {
    "execution": {
     "iopub.execute_input": "2021-09-25T12:10:32.699152Z",
     "iopub.status.busy": "2021-09-25T12:10:32.698435Z",
     "iopub.status.idle": "2021-09-25T12:10:32.700910Z",
     "shell.execute_reply": "2021-09-25T12:10:32.701477Z"
    },
    "papermill": {
     "duration": 0.047709,
     "end_time": "2021-09-25T12:10:32.701626",
     "exception": false,
     "start_time": "2021-09-25T12:10:32.653917",
     "status": "completed"
    },
    "tags": []
   },
   "outputs": [],
   "source": [
    "#hide\n",
    "everydaycases = dft_ct_new_cases.cumsum(axis=1)"
   ]
  },
  {
   "cell_type": "code",
   "execution_count": 20,
   "id": "parliamentary-calgary",
   "metadata": {
    "execution": {
     "iopub.execute_input": "2021-09-25T12:10:32.781981Z",
     "iopub.status.busy": "2021-09-25T12:10:32.781252Z",
     "iopub.status.idle": "2021-09-25T12:10:33.411141Z",
     "shell.execute_reply": "2021-09-25T12:10:33.411613Z"
    },
    "papermill": {
     "duration": 0.672225,
     "end_time": "2021-09-25T12:10:33.411818",
     "exception": false,
     "start_time": "2021-09-25T12:10:32.739593",
     "status": "completed"
    },
    "tags": []
   },
   "outputs": [],
   "source": [
    "#hide\n",
    "import pandas as pd\n",
    "import matplotlib.pyplot as plt\n",
    "import matplotlib.ticker as ticker\n",
    "import matplotlib.animation as animation\n",
    "from IPython.display import HTML"
   ]
  },
  {
   "cell_type": "code",
   "execution_count": 21,
   "id": "lasting-extraction",
   "metadata": {
    "execution": {
     "iopub.execute_input": "2021-09-25T12:10:33.496204Z",
     "iopub.status.busy": "2021-09-25T12:10:33.495332Z",
     "iopub.status.idle": "2021-09-25T12:10:33.501723Z",
     "shell.execute_reply": "2021-09-25T12:10:33.501207Z"
    },
    "papermill": {
     "duration": 0.052132,
     "end_time": "2021-09-25T12:10:33.501843",
     "exception": false,
     "start_time": "2021-09-25T12:10:33.449711",
     "status": "completed"
    },
    "tags": []
   },
   "outputs": [],
   "source": [
    "#hide\n",
    "t = everydaycases.stack()"
   ]
  },
  {
   "cell_type": "code",
   "execution_count": 22,
   "id": "premier-sleeve",
   "metadata": {
    "execution": {
     "iopub.execute_input": "2021-09-25T12:10:33.582866Z",
     "iopub.status.busy": "2021-09-25T12:10:33.582065Z",
     "iopub.status.idle": "2021-09-25T12:10:33.591448Z",
     "shell.execute_reply": "2021-09-25T12:10:33.590905Z"
    },
    "papermill": {
     "duration": 0.05105,
     "end_time": "2021-09-25T12:10:33.591565",
     "exception": false,
     "start_time": "2021-09-25T12:10:33.540515",
     "status": "completed"
    },
    "tags": []
   },
   "outputs": [],
   "source": [
    "#hide\n",
    "g = t.reset_index(['Country/Region'])"
   ]
  },
  {
   "cell_type": "code",
   "execution_count": 23,
   "id": "distributed-pittsburgh",
   "metadata": {
    "execution": {
     "iopub.execute_input": "2021-09-25T12:10:33.670908Z",
     "iopub.status.busy": "2021-09-25T12:10:33.670166Z",
     "iopub.status.idle": "2021-09-25T12:10:33.672744Z",
     "shell.execute_reply": "2021-09-25T12:10:33.672234Z"
    },
    "papermill": {
     "duration": 0.043934,
     "end_time": "2021-09-25T12:10:33.672867",
     "exception": false,
     "start_time": "2021-09-25T12:10:33.628933",
     "status": "completed"
    },
    "tags": []
   },
   "outputs": [],
   "source": [
    "#hide\n",
    "g.index.name = 'date'"
   ]
  },
  {
   "cell_type": "code",
   "execution_count": 24,
   "id": "naked-donor",
   "metadata": {
    "execution": {
     "iopub.execute_input": "2021-09-25T12:10:33.752813Z",
     "iopub.status.busy": "2021-09-25T12:10:33.752180Z",
     "iopub.status.idle": "2021-09-25T12:10:33.754609Z",
     "shell.execute_reply": "2021-09-25T12:10:33.754061Z"
    },
    "papermill": {
     "duration": 0.043519,
     "end_time": "2021-09-25T12:10:33.754742",
     "exception": false,
     "start_time": "2021-09-25T12:10:33.711223",
     "status": "completed"
    },
    "tags": []
   },
   "outputs": [],
   "source": [
    "# #hide\n",
    "# g = g.reset_index(['date'])"
   ]
  },
  {
   "cell_type": "code",
   "execution_count": 25,
   "id": "incomplete-mustang",
   "metadata": {
    "execution": {
     "iopub.execute_input": "2021-09-25T12:10:33.834884Z",
     "iopub.status.busy": "2021-09-25T12:10:33.834070Z",
     "iopub.status.idle": "2021-09-25T12:10:33.836367Z",
     "shell.execute_reply": "2021-09-25T12:10:33.837010Z"
    },
    "papermill": {
     "duration": 0.044498,
     "end_time": "2021-09-25T12:10:33.837182",
     "exception": false,
     "start_time": "2021-09-25T12:10:33.792684",
     "status": "completed"
    },
    "tags": []
   },
   "outputs": [],
   "source": [
    "#hide\n",
    "# g.head()"
   ]
  },
  {
   "cell_type": "code",
   "execution_count": 26,
   "id": "specific-kruger",
   "metadata": {
    "execution": {
     "iopub.execute_input": "2021-09-25T12:10:33.917670Z",
     "iopub.status.busy": "2021-09-25T12:10:33.917053Z",
     "iopub.status.idle": "2021-09-25T12:10:33.919221Z",
     "shell.execute_reply": "2021-09-25T12:10:33.920054Z"
    },
    "papermill": {
     "duration": 0.045349,
     "end_time": "2021-09-25T12:10:33.920265",
     "exception": false,
     "start_time": "2021-09-25T12:10:33.874916",
     "status": "completed"
    },
    "tags": []
   },
   "outputs": [],
   "source": [
    "#hide\n",
    "# g.columns = ['date','country','cases']"
   ]
  },
  {
   "cell_type": "code",
   "execution_count": 27,
   "id": "tender-conversion",
   "metadata": {
    "execution": {
     "iopub.execute_input": "2021-09-25T12:10:34.003664Z",
     "iopub.status.busy": "2021-09-25T12:10:34.002869Z",
     "iopub.status.idle": "2021-09-25T12:10:34.006332Z",
     "shell.execute_reply": "2021-09-25T12:10:34.005146Z"
    },
    "papermill": {
     "duration": 0.047243,
     "end_time": "2021-09-25T12:10:34.006522",
     "exception": false,
     "start_time": "2021-09-25T12:10:33.959279",
     "status": "completed"
    },
    "tags": []
   },
   "outputs": [],
   "source": [
    "#hide\n",
    "# g['continent'] = g.country"
   ]
  },
  {
   "cell_type": "code",
   "execution_count": 28,
   "id": "substantial-wilderness",
   "metadata": {
    "execution": {
     "iopub.execute_input": "2021-09-25T12:10:34.090123Z",
     "iopub.status.busy": "2021-09-25T12:10:34.089419Z",
     "iopub.status.idle": "2021-09-25T12:10:34.091617Z",
     "shell.execute_reply": "2021-09-25T12:10:34.092130Z"
    },
    "papermill": {
     "duration": 0.046555,
     "end_time": "2021-09-25T12:10:34.092276",
     "exception": false,
     "start_time": "2021-09-25T12:10:34.045721",
     "status": "completed"
    },
    "tags": []
   },
   "outputs": [],
   "source": [
    "#hide\n",
    "# cols = list(g.columns.values)"
   ]
  },
  {
   "cell_type": "code",
   "execution_count": 29,
   "id": "solved-farming",
   "metadata": {
    "execution": {
     "iopub.execute_input": "2021-09-25T12:10:34.172285Z",
     "iopub.status.busy": "2021-09-25T12:10:34.171462Z",
     "iopub.status.idle": "2021-09-25T12:10:34.174165Z",
     "shell.execute_reply": "2021-09-25T12:10:34.173584Z"
    },
    "papermill": {
     "duration": 0.043723,
     "end_time": "2021-09-25T12:10:34.174335",
     "exception": false,
     "start_time": "2021-09-25T12:10:34.130612",
     "status": "completed"
    },
    "tags": []
   },
   "outputs": [],
   "source": [
    "#hide\n",
    "# cols.insert(0, cols.pop())"
   ]
  },
  {
   "cell_type": "code",
   "execution_count": 30,
   "id": "executed-adoption",
   "metadata": {
    "execution": {
     "iopub.execute_input": "2021-09-25T12:10:34.255025Z",
     "iopub.status.busy": "2021-09-25T12:10:34.254412Z",
     "iopub.status.idle": "2021-09-25T12:10:34.256846Z",
     "shell.execute_reply": "2021-09-25T12:10:34.256331Z"
    },
    "papermill": {
     "duration": 0.043427,
     "end_time": "2021-09-25T12:10:34.256967",
     "exception": false,
     "start_time": "2021-09-25T12:10:34.213540",
     "status": "completed"
    },
    "tags": []
   },
   "outputs": [],
   "source": [
    "#hide\n",
    "# g = g[cols]"
   ]
  },
  {
   "cell_type": "code",
   "execution_count": 31,
   "id": "subject-dublin",
   "metadata": {
    "execution": {
     "iopub.execute_input": "2021-09-25T12:10:34.341031Z",
     "iopub.status.busy": "2021-09-25T12:10:34.340362Z",
     "iopub.status.idle": "2021-09-25T12:10:34.342855Z",
     "shell.execute_reply": "2021-09-25T12:10:34.342310Z"
    },
    "papermill": {
     "duration": 0.046257,
     "end_time": "2021-09-25T12:10:34.342982",
     "exception": false,
     "start_time": "2021-09-25T12:10:34.296725",
     "status": "completed"
    },
    "tags": []
   },
   "outputs": [],
   "source": [
    "#hide\n",
    "# g['continent'] = g['continent'].map(mapping['map.continent'])"
   ]
  },
  {
   "cell_type": "code",
   "execution_count": 32,
   "id": "freelance-scout",
   "metadata": {
    "execution": {
     "iopub.execute_input": "2021-09-25T12:10:34.427071Z",
     "iopub.status.busy": "2021-09-25T12:10:34.426462Z",
     "iopub.status.idle": "2021-09-25T12:10:34.428818Z",
     "shell.execute_reply": "2021-09-25T12:10:34.428315Z"
    },
    "papermill": {
     "duration": 0.045239,
     "end_time": "2021-09-25T12:10:34.428959",
     "exception": false,
     "start_time": "2021-09-25T12:10:34.383720",
     "status": "completed"
    },
    "tags": []
   },
   "outputs": [],
   "source": [
    "#hide\n",
    "# g.head()"
   ]
  },
  {
   "cell_type": "code",
   "execution_count": 33,
   "id": "limited-engine",
   "metadata": {
    "execution": {
     "iopub.execute_input": "2021-09-25T12:10:34.509841Z",
     "iopub.status.busy": "2021-09-25T12:10:34.509127Z",
     "iopub.status.idle": "2021-09-25T12:10:34.510644Z",
     "shell.execute_reply": "2021-09-25T12:10:34.511243Z"
    },
    "papermill": {
     "duration": 0.044734,
     "end_time": "2021-09-25T12:10:34.511379",
     "exception": false,
     "start_time": "2021-09-25T12:10:34.466645",
     "status": "completed"
    },
    "tags": []
   },
   "outputs": [],
   "source": [
    "# hide\n",
    "# g['date'] = g['date'].astype('datetime64[ns]')"
   ]
  },
  {
   "cell_type": "code",
   "execution_count": 34,
   "id": "sophisticated-supervisor",
   "metadata": {
    "execution": {
     "iopub.execute_input": "2021-09-25T12:10:34.590863Z",
     "iopub.status.busy": "2021-09-25T12:10:34.590052Z",
     "iopub.status.idle": "2021-09-25T12:10:34.593036Z",
     "shell.execute_reply": "2021-09-25T12:10:34.592416Z"
    },
    "papermill": {
     "duration": 0.044249,
     "end_time": "2021-09-25T12:10:34.593154",
     "exception": false,
     "start_time": "2021-09-25T12:10:34.548905",
     "status": "completed"
    },
    "tags": []
   },
   "outputs": [],
   "source": [
    "#hide\n",
    "# g['date'] = g.date.dt.dayofyear"
   ]
  },
  {
   "cell_type": "code",
   "execution_count": 35,
   "id": "inside-dubai",
   "metadata": {
    "execution": {
     "iopub.execute_input": "2021-09-25T12:10:34.672932Z",
     "iopub.status.busy": "2021-09-25T12:10:34.672297Z",
     "iopub.status.idle": "2021-09-25T12:10:34.674915Z",
     "shell.execute_reply": "2021-09-25T12:10:34.674267Z"
    },
    "papermill": {
     "duration": 0.043132,
     "end_time": "2021-09-25T12:10:34.675023",
     "exception": false,
     "start_time": "2021-09-25T12:10:34.631891",
     "status": "completed"
    },
    "tags": []
   },
   "outputs": [],
   "source": [
    "#hide\n",
    "# g = g.rename(columns= {'continent':'group','country':'name','cases':'value'})"
   ]
  },
  {
   "cell_type": "code",
   "execution_count": 36,
   "id": "fleet-motorcycle",
   "metadata": {
    "execution": {
     "iopub.execute_input": "2021-09-25T12:10:34.756905Z",
     "iopub.status.busy": "2021-09-25T12:10:34.756178Z",
     "iopub.status.idle": "2021-09-25T12:10:34.759215Z",
     "shell.execute_reply": "2021-09-25T12:10:34.758677Z"
    },
    "papermill": {
     "duration": 0.044078,
     "end_time": "2021-09-25T12:10:34.759330",
     "exception": false,
     "start_time": "2021-09-25T12:10:34.715252",
     "status": "completed"
    },
    "tags": []
   },
   "outputs": [],
   "source": [
    "#hide\n",
    "# cols = ['name','group','day','value']"
   ]
  },
  {
   "cell_type": "code",
   "execution_count": 37,
   "id": "continued-sleeping",
   "metadata": {
    "execution": {
     "iopub.execute_input": "2021-09-25T12:10:34.840391Z",
     "iopub.status.busy": "2021-09-25T12:10:34.839628Z",
     "iopub.status.idle": "2021-09-25T12:10:34.842481Z",
     "shell.execute_reply": "2021-09-25T12:10:34.841828Z"
    },
    "papermill": {
     "duration": 0.044904,
     "end_time": "2021-09-25T12:10:34.842601",
     "exception": false,
     "start_time": "2021-09-25T12:10:34.797697",
     "status": "completed"
    },
    "tags": []
   },
   "outputs": [],
   "source": [
    "#hide\n",
    "# g.rename(columns= {'date':'day'},inplace = True)"
   ]
  },
  {
   "cell_type": "code",
   "execution_count": 38,
   "id": "major-fight",
   "metadata": {
    "execution": {
     "iopub.execute_input": "2021-09-25T12:10:34.921414Z",
     "iopub.status.busy": "2021-09-25T12:10:34.920773Z",
     "iopub.status.idle": "2021-09-25T12:10:34.923743Z",
     "shell.execute_reply": "2021-09-25T12:10:34.923209Z"
    },
    "papermill": {
     "duration": 0.043742,
     "end_time": "2021-09-25T12:10:34.923889",
     "exception": false,
     "start_time": "2021-09-25T12:10:34.880147",
     "status": "completed"
    },
    "tags": []
   },
   "outputs": [],
   "source": [
    "#hide\n",
    "# g = g[cols]"
   ]
  },
  {
   "cell_type": "code",
   "execution_count": 39,
   "id": "structured-mobile",
   "metadata": {
    "execution": {
     "iopub.execute_input": "2021-09-25T12:10:35.006808Z",
     "iopub.status.busy": "2021-09-25T12:10:35.006107Z",
     "iopub.status.idle": "2021-09-25T12:10:35.008628Z",
     "shell.execute_reply": "2021-09-25T12:10:35.008108Z"
    },
    "papermill": {
     "duration": 0.0456,
     "end_time": "2021-09-25T12:10:35.008750",
     "exception": false,
     "start_time": "2021-09-25T12:10:34.963150",
     "status": "completed"
    },
    "tags": []
   },
   "outputs": [],
   "source": [
    "# #hide\n",
    "# g = g[g.group.notna()]"
   ]
  },
  {
   "cell_type": "code",
   "execution_count": 40,
   "id": "determined-closing",
   "metadata": {
    "execution": {
     "iopub.execute_input": "2021-09-25T12:10:35.088922Z",
     "iopub.status.busy": "2021-09-25T12:10:35.088282Z",
     "iopub.status.idle": "2021-09-25T12:10:35.092183Z",
     "shell.execute_reply": "2021-09-25T12:10:35.090505Z"
    },
    "papermill": {
     "duration": 0.046605,
     "end_time": "2021-09-25T12:10:35.092348",
     "exception": false,
     "start_time": "2021-09-25T12:10:35.045743",
     "status": "completed"
    },
    "tags": []
   },
   "outputs": [],
   "source": [
    "# #hide\n",
    "# colors = dict(zip(\n",
    "#     [\"Oceania\", \"Europe\", \"Asia\", \"South America\", \"Middle East\", \"North America\", \"Africa\"],\n",
    "#     [\"#adb0ff\", \"#ffb3ff\", \"#90d595\", \"#e48381\", \"#aafbff\", \"#f7bb5f\", \"#eafb50\"]\n",
    "# ))\n",
    "# group_lk = g.set_index('name')['group'].to_dict()"
   ]
  },
  {
   "cell_type": "code",
   "execution_count": null,
   "id": "gross-drinking",
   "metadata": {
    "papermill": {
     "duration": 0.037351,
     "end_time": "2021-09-25T12:10:35.166627",
     "exception": false,
     "start_time": "2021-09-25T12:10:35.129276",
     "status": "completed"
    },
    "tags": []
   },
   "outputs": [],
   "source": []
  },
  {
   "cell_type": "code",
   "execution_count": 41,
   "id": "subject-macintosh",
   "metadata": {
    "execution": {
     "iopub.execute_input": "2021-09-25T12:10:35.246386Z",
     "iopub.status.busy": "2021-09-25T12:10:35.245676Z",
     "iopub.status.idle": "2021-09-25T12:10:35.248731Z",
     "shell.execute_reply": "2021-09-25T12:10:35.248201Z"
    },
    "papermill": {
     "duration": 0.043809,
     "end_time": "2021-09-25T12:10:35.248917",
     "exception": false,
     "start_time": "2021-09-25T12:10:35.205108",
     "status": "completed"
    },
    "tags": []
   },
   "outputs": [],
   "source": [
    "# #hide\n",
    "# fig, ax = plt.subplots(figsize=(15, 8))\n",
    "\n",
    "# def draw_barchart(current_day):\n",
    "#     dff = g[g['day'].eq(current_day)].sort_values(by='value', ascending=True).tail(10)\n",
    "#     ax.clear()\n",
    "#     ax.barh(dff['name'], dff['value'], color=[colors[group_lk[x]] for x in dff['name']])\n",
    "#     dx = dff['value'].max() / 200\n",
    "    \n",
    "#     for i, (value, name) in enumerate(zip(dff['value'], dff['name'])):\n",
    "#         ax.text(value-dx, i,     name,           size=14, weight=600, ha='right', va='bottom')\n",
    "#         ax.text(value-dx, i-.25, group_lk[name], size=10, color='#444444', ha='right', va='baseline')\n",
    "#         ax.text(value+dx, i,     f'{value:,.0f}',  size=14, ha='left',  va='center')\n",
    "#     ax.text(1, 0.4, current_day, transform=ax.transAxes, color='#777777', size=46, ha='right', weight=800)\n",
    "#     ax.text(0, 1.06, 'Population (thousands)', transform=ax.transAxes, size=12, color='#777777')\n",
    "#     ax.xaxis.set_major_formatter(ticker.StrMethodFormatter('{x:,.0f}'))\n",
    "#     ax.xaxis.set_ticks_position('top')\n",
    "#     ax.tick_params(axis='x', colors='#777777', labelsize=12)\n",
    "#     ax.set_yticks([])\n",
    "#     ax.margins(0, 0.01)\n",
    "#     ax.grid(which='major', axis='x', linestyle='-')\n",
    "#     ax.set_axisbelow(True)\n",
    "    \n",
    "#     ax.text(0, 1.15, 'Coronavirus',\n",
    "#             transform=ax.transAxes, size=24, weight=600, ha='left', va='top')\n",
    "# #     ax.text(1, 0, 'by @pratapvardhan; credit @jburnmurdoch', transform=ax.transAxes, color='#777777', ha='right',\n",
    "# #             bbox=dict(facecolor='white', alpha=0.8, edgecolor='white'))\n",
    "#     plt.box(False)"
   ]
  },
  {
   "cell_type": "code",
   "execution_count": 42,
   "id": "sexual-wages",
   "metadata": {
    "execution": {
     "iopub.execute_input": "2021-09-25T12:10:35.329900Z",
     "iopub.status.busy": "2021-09-25T12:10:35.329239Z",
     "iopub.status.idle": "2021-09-25T12:10:35.331896Z",
     "shell.execute_reply": "2021-09-25T12:10:35.331275Z"
    },
    "papermill": {
     "duration": 0.044261,
     "end_time": "2021-09-25T12:10:35.332018",
     "exception": false,
     "start_time": "2021-09-25T12:10:35.287757",
     "status": "completed"
    },
    "tags": []
   },
   "outputs": [],
   "source": [
    "# #hide_input\n",
    "# fig, ax = plt.subplots(figsize=(15, 8))\n",
    "# animator = animation.FuncAnimation(fig, draw_barchart, frames=range(g.day.values.min(), g.day.values.max()))\n",
    "# HTML(animator.to_jshtml())\n",
    "# # or use animator.to_html5_video() or animator.save() "
   ]
  },
  {
   "cell_type": "code",
   "execution_count": null,
   "id": "australian-container",
   "metadata": {
    "papermill": {
     "duration": 0.037683,
     "end_time": "2021-09-25T12:10:35.408921",
     "exception": false,
     "start_time": "2021-09-25T12:10:35.371238",
     "status": "completed"
    },
    "tags": []
   },
   "outputs": [],
   "source": []
  },
  {
   "cell_type": "code",
   "execution_count": null,
   "id": "mediterranean-pontiac",
   "metadata": {
    "papermill": {
     "duration": 0.038249,
     "end_time": "2021-09-25T12:10:35.484555",
     "exception": false,
     "start_time": "2021-09-25T12:10:35.446306",
     "status": "completed"
    },
    "tags": []
   },
   "outputs": [],
   "source": []
  },
  {
   "cell_type": "code",
   "execution_count": null,
   "id": "aging-legislature",
   "metadata": {
    "papermill": {
     "duration": 0.038485,
     "end_time": "2021-09-25T12:10:35.561202",
     "exception": false,
     "start_time": "2021-09-25T12:10:35.522717",
     "status": "completed"
    },
    "tags": []
   },
   "outputs": [],
   "source": []
  }
 ],
 "metadata": {
  "kernelspec": {
   "display_name": "Python 3",
   "language": "python",
   "name": "python3"
  },
  "language_info": {
   "codemirror_mode": {
    "name": "ipython",
    "version": 3
   },
   "file_extension": ".py",
   "mimetype": "text/x-python",
   "name": "python",
   "nbconvert_exporter": "python",
   "pygments_lexer": "ipython3",
   "version": "3.6.15"
  },
  "papermill": {
   "duration": 6.848285,
   "end_time": "2021-09-25T12:10:35.908755",
   "environment_variables": {},
   "exception": null,
   "input_path": "2020-03-21-covid19exp.ipynb",
   "output_path": "2020-03-21-covid19exp.ipynb",
   "parameters": {},
   "start_time": "2021-09-25T12:10:29.060470",
   "version": "2.0.0"
  }
 },
 "nbformat": 4,
 "nbformat_minor": 5
}