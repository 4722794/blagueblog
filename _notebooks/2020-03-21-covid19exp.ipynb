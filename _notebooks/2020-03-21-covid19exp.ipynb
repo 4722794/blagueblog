{
 "cells": [
  {
   "cell_type": "markdown",
   "id": "muslim-click",
   "metadata": {
    "papermill": {
     "duration": 0.038349,
     "end_time": "2022-06-10T00:43:42.538015",
     "exception": false,
     "start_time": "2022-06-10T00:43:42.499666",
     "status": "completed"
    },
    "tags": []
   },
   "source": [
    "# COVID-19 Case Race\n",
    "> A race chart to see rising cases around the world\n",
    "\n",
    "- author: Hargun Oberoi\n",
    "- image: images/covid-overview.png\n",
    "- hide: false\n",
    "- badges: false"
   ]
  },
  {
   "cell_type": "code",
   "execution_count": 1,
   "id": "proof-material",
   "metadata": {
    "execution": {
     "iopub.execute_input": "2022-06-10T00:43:42.607588Z",
     "iopub.status.busy": "2022-06-10T00:43:42.606886Z",
     "iopub.status.idle": "2022-06-10T00:43:42.960286Z",
     "shell.execute_reply": "2022-06-10T00:43:42.959281Z"
    },
    "papermill": {
     "duration": 0.393533,
     "end_time": "2022-06-10T00:43:42.960530",
     "exception": false,
     "start_time": "2022-06-10T00:43:42.566997",
     "status": "completed"
    },
    "tags": []
   },
   "outputs": [],
   "source": [
    "#hide\n",
    "import numpy as np\n",
    "import pandas as pd\n",
    "from jinja2 import Template\n",
    "from IPython.display import HTML"
   ]
  },
  {
   "cell_type": "code",
   "execution_count": 2,
   "id": "developed-terminology",
   "metadata": {
    "execution": {
     "iopub.execute_input": "2022-06-10T00:43:43.029768Z",
     "iopub.status.busy": "2022-06-10T00:43:43.029128Z",
     "iopub.status.idle": "2022-06-10T00:43:43.032466Z",
     "shell.execute_reply": "2022-06-10T00:43:43.033082Z"
    },
    "papermill": {
     "duration": 0.039934,
     "end_time": "2022-06-10T00:43:43.033202",
     "exception": false,
     "start_time": "2022-06-10T00:43:42.993268",
     "status": "completed"
    },
    "tags": []
   },
   "outputs": [],
   "source": [
    "#hide\n",
    "\n",
    "# FETCH\n",
    "base_url = 'https://raw.githubusercontent.com/pratapvardhan/notebooks/master/covid19/'\n",
    "paths = {\n",
    "    'mapping': base_url + 'mapping_countries.csv',\n",
    "    'overview': base_url + 'overview.tpl'\n",
    "}"
   ]
  },
  {
   "cell_type": "code",
   "execution_count": 3,
   "id": "dynamic-saver",
   "metadata": {
    "execution": {
     "iopub.execute_input": "2022-06-10T00:43:43.105160Z",
     "iopub.status.busy": "2022-06-10T00:43:43.104504Z",
     "iopub.status.idle": "2022-06-10T00:43:43.109275Z",
     "shell.execute_reply": "2022-06-10T00:43:43.109798Z"
    },
    "papermill": {
     "duration": 0.047329,
     "end_time": "2022-06-10T00:43:43.109948",
     "exception": false,
     "start_time": "2022-06-10T00:43:43.062619",
     "status": "completed"
    },
    "tags": []
   },
   "outputs": [
    {
     "data": {
      "text/plain": [
       "'https://raw.githubusercontent.com/pratapvardhan/notebooks/master/covid19/mapping_countries.csv'"
      ]
     },
     "execution_count": 3,
     "metadata": {},
     "output_type": "execute_result"
    }
   ],
   "source": [
    "#hide\n",
    "paths['mapping']"
   ]
  },
  {
   "cell_type": "code",
   "execution_count": 4,
   "id": "urban-software",
   "metadata": {
    "execution": {
     "iopub.execute_input": "2022-06-10T00:43:43.179059Z",
     "iopub.status.busy": "2022-06-10T00:43:43.178444Z",
     "iopub.status.idle": "2022-06-10T00:43:43.181497Z",
     "shell.execute_reply": "2022-06-10T00:43:43.180947Z"
    },
    "papermill": {
     "duration": 0.040298,
     "end_time": "2022-06-10T00:43:43.181622",
     "exception": false,
     "start_time": "2022-06-10T00:43:43.141324",
     "status": "completed"
    },
    "tags": []
   },
   "outputs": [],
   "source": [
    "#hide\n",
    "def get_mappings(url):\n",
    "    df = pd.read_csv(url)\n",
    "    return {\n",
    "        'df': df,\n",
    "        'replace.country': dict(df.dropna(subset=['Name']).set_index('Country')['Name']),\n",
    "        'map.continent': dict(df.set_index('Name')['Continent'])\n",
    "    }"
   ]
  },
  {
   "cell_type": "code",
   "execution_count": 5,
   "id": "intimate-machinery",
   "metadata": {
    "execution": {
     "iopub.execute_input": "2022-06-10T00:43:43.249749Z",
     "iopub.status.busy": "2022-06-10T00:43:43.249115Z",
     "iopub.status.idle": "2022-06-10T00:43:43.291363Z",
     "shell.execute_reply": "2022-06-10T00:43:43.290509Z"
    },
    "papermill": {
     "duration": 0.08038,
     "end_time": "2022-06-10T00:43:43.291553",
     "exception": false,
     "start_time": "2022-06-10T00:43:43.211173",
     "status": "completed"
    },
    "tags": []
   },
   "outputs": [],
   "source": [
    "#hide\n",
    "mapping = get_mappings(paths['mapping'])"
   ]
  },
  {
   "cell_type": "code",
   "execution_count": 6,
   "id": "certified-tactics",
   "metadata": {
    "execution": {
     "iopub.execute_input": "2022-06-10T00:43:43.360611Z",
     "iopub.status.busy": "2022-06-10T00:43:43.359985Z",
     "iopub.status.idle": "2022-06-10T00:43:43.362801Z",
     "shell.execute_reply": "2022-06-10T00:43:43.362295Z"
    },
    "papermill": {
     "duration": 0.038749,
     "end_time": "2022-06-10T00:43:43.362918",
     "exception": false,
     "start_time": "2022-06-10T00:43:43.324169",
     "status": "completed"
    },
    "tags": []
   },
   "outputs": [],
   "source": [
    "#hide\n",
    "def get_template(path):\n",
    "    from urllib.parse import urlparse\n",
    "    if bool(urlparse(path).netloc):\n",
    "        from urllib.request import urlopen\n",
    "        return urlopen(path).read().decode('utf8')\n",
    "    return open(path).read()"
   ]
  },
  {
   "cell_type": "code",
   "execution_count": 7,
   "id": "realistic-blast",
   "metadata": {
    "execution": {
     "iopub.execute_input": "2022-06-10T00:43:43.431089Z",
     "iopub.status.busy": "2022-06-10T00:43:43.430384Z",
     "iopub.status.idle": "2022-06-10T00:43:43.432846Z",
     "shell.execute_reply": "2022-06-10T00:43:43.432307Z"
    },
    "papermill": {
     "duration": 0.039529,
     "end_time": "2022-06-10T00:43:43.432957",
     "exception": false,
     "start_time": "2022-06-10T00:43:43.393428",
     "status": "completed"
    },
    "tags": []
   },
   "outputs": [],
   "source": [
    "#hide\n",
    "def get_frame(name):\n",
    "    url = (\n",
    "        'https://raw.githubusercontent.com/CSSEGISandData/COVID-19/master/csse_covid_19_data/'\n",
    "        f'csse_covid_19_time_series/time_series_covid19_{name}_global.csv')\n",
    "    df = pd.read_csv(url)\n",
    "    # rename countries\n",
    "    df['Country/Region'] = df['Country/Region'].replace(mapping['replace.country'])\n",
    "    return df"
   ]
  },
  {
   "cell_type": "code",
   "execution_count": 8,
   "id": "affiliated-characterization",
   "metadata": {
    "execution": {
     "iopub.execute_input": "2022-06-10T00:43:43.503757Z",
     "iopub.status.busy": "2022-06-10T00:43:43.503052Z",
     "iopub.status.idle": "2022-06-10T00:43:43.505578Z",
     "shell.execute_reply": "2022-06-10T00:43:43.505054Z"
    },
    "papermill": {
     "duration": 0.041662,
     "end_time": "2022-06-10T00:43:43.505683",
     "exception": false,
     "start_time": "2022-06-10T00:43:43.464021",
     "status": "completed"
    },
    "tags": []
   },
   "outputs": [],
   "source": [
    "#hide\n",
    "def get_dates(df):\n",
    "    dt_cols = df.columns[~df.columns.isin(['Province/State', 'Country/Region', 'Lat', 'Long'])]\n",
    "    LAST_DATE_I = -1\n",
    "    # sometimes last column may be empty, then go backwards\n",
    "    for i in range(-1, -len(dt_cols), -1):\n",
    "        if not df[dt_cols[i]].fillna(0).eq(0).all():\n",
    "            LAST_DATE_I = i\n",
    "            break\n",
    "    return LAST_DATE_I, dt_cols"
   ]
  },
  {
   "cell_type": "code",
   "execution_count": 9,
   "id": "recent-optimization",
   "metadata": {
    "execution": {
     "iopub.execute_input": "2022-06-10T00:43:43.574800Z",
     "iopub.status.busy": "2022-06-10T00:43:43.574153Z",
     "iopub.status.idle": "2022-06-10T00:43:44.052584Z",
     "shell.execute_reply": "2022-06-10T00:43:44.053123Z"
    },
    "papermill": {
     "duration": 0.517034,
     "end_time": "2022-06-10T00:43:44.053279",
     "exception": false,
     "start_time": "2022-06-10T00:43:43.536245",
     "status": "completed"
    },
    "tags": []
   },
   "outputs": [],
   "source": [
    "#hide\n",
    "COL_REGION = 'Country/Region'\n",
    "# Confirmed, Recovered, Deaths\n",
    "df = get_frame('confirmed')\n",
    "# dft_: timeseries, dfc_: today country agg\n",
    "dft_cases = df\n",
    "dft_deaths = get_frame('deaths')\n",
    "dft_recovered = get_frame('recovered')\n",
    "LAST_DATE_I, dt_cols = get_dates(df)"
   ]
  },
  {
   "cell_type": "code",
   "execution_count": 10,
   "id": "absolute-copper",
   "metadata": {
    "execution": {
     "iopub.execute_input": "2022-06-10T00:43:44.124479Z",
     "iopub.status.busy": "2022-06-10T00:43:44.123753Z",
     "iopub.status.idle": "2022-06-10T00:43:44.126499Z",
     "shell.execute_reply": "2022-06-10T00:43:44.127086Z"
    },
    "papermill": {
     "duration": 0.041733,
     "end_time": "2022-06-10T00:43:44.127237",
     "exception": false,
     "start_time": "2022-06-10T00:43:44.085504",
     "status": "completed"
    },
    "tags": []
   },
   "outputs": [],
   "source": [
    "#hide\n",
    "LAST_DATE_I, dt_cols = get_dates(df)\n",
    "dt_today =dt_cols[LAST_DATE_I]\n",
    "# dt_5day = dt_cols[LAST_DATE_I - 5]\n",
    "dt_yday = dt_cols[LAST_DATE_I - 1]"
   ]
  },
  {
   "cell_type": "code",
   "execution_count": 11,
   "id": "restricted-sheriff",
   "metadata": {
    "execution": {
     "iopub.execute_input": "2022-06-10T00:43:44.196675Z",
     "iopub.status.busy": "2022-06-10T00:43:44.196045Z",
     "iopub.status.idle": "2022-06-10T00:43:44.205755Z",
     "shell.execute_reply": "2022-06-10T00:43:44.205246Z"
    },
    "papermill": {
     "duration": 0.046887,
     "end_time": "2022-06-10T00:43:44.205868",
     "exception": false,
     "start_time": "2022-06-10T00:43:44.158981",
     "status": "completed"
    },
    "tags": []
   },
   "outputs": [],
   "source": [
    "#hide\n",
    "dfc_cases = dft_cases.groupby(COL_REGION)[dt_today].sum()\n",
    "dfc_deaths = dft_deaths.groupby(COL_REGION)[dt_today].sum()\n",
    "# dfp_cases = dft_cases.groupby(COL_REGION)[dt_5day].sum()\n",
    "# dfp_deaths = dft_deaths.groupby(COL_REGION)[dt_5day].sum()\n",
    "dfp_cases = dft_cases.groupby(COL_REGION)[dt_yday].sum()\n",
    "dfp_deaths = dft_deaths.groupby(COL_REGION)[dt_yday].sum()"
   ]
  },
  {
   "cell_type": "code",
   "execution_count": 12,
   "id": "deluxe-hepatitis",
   "metadata": {
    "execution": {
     "iopub.execute_input": "2022-06-10T00:43:44.275625Z",
     "iopub.status.busy": "2022-06-10T00:43:44.274939Z",
     "iopub.status.idle": "2022-06-10T00:43:44.280941Z",
     "shell.execute_reply": "2022-06-10T00:43:44.280433Z"
    },
    "papermill": {
     "duration": 0.043838,
     "end_time": "2022-06-10T00:43:44.281079",
     "exception": false,
     "start_time": "2022-06-10T00:43:44.237241",
     "status": "completed"
    },
    "tags": []
   },
   "outputs": [],
   "source": [
    "#hide\n",
    "df_table = (pd.DataFrame(dict(Cases = dfc_cases, Deaths = dfc_deaths, PCases = dfp_cases, PDeaths = dfp_deaths))\n",
    "            .sort_values(by = ['Cases','Deaths'], ascending = [False, False])\n",
    "            .reset_index())"
   ]
  },
  {
   "cell_type": "code",
   "execution_count": 13,
   "id": "educational-chancellor",
   "metadata": {
    "execution": {
     "iopub.execute_input": "2022-06-10T00:43:44.366668Z",
     "iopub.status.busy": "2022-06-10T00:43:44.366020Z",
     "iopub.status.idle": "2022-06-10T00:43:44.374922Z",
     "shell.execute_reply": "2022-06-10T00:43:44.374347Z"
    },
    "papermill": {
     "duration": 0.062086,
     "end_time": "2022-06-10T00:43:44.375046",
     "exception": false,
     "start_time": "2022-06-10T00:43:44.312960",
     "status": "completed"
    },
    "tags": []
   },
   "outputs": [
    {
     "data": {
      "text/html": [
       "<div>\n",
       "<style scoped>\n",
       "    .dataframe tbody tr th:only-of-type {\n",
       "        vertical-align: middle;\n",
       "    }\n",
       "\n",
       "    .dataframe tbody tr th {\n",
       "        vertical-align: top;\n",
       "    }\n",
       "\n",
       "    .dataframe thead th {\n",
       "        text-align: right;\n",
       "    }\n",
       "</style>\n",
       "<table border=\"1\" class=\"dataframe\">\n",
       "  <thead>\n",
       "    <tr style=\"text-align: right;\">\n",
       "      <th></th>\n",
       "      <th>Country/Region</th>\n",
       "      <th>Cases</th>\n",
       "      <th>Deaths</th>\n",
       "      <th>PCases</th>\n",
       "      <th>PDeaths</th>\n",
       "      <th>Cases (+)</th>\n",
       "      <th>Deaths (+)</th>\n",
       "      <th>Fatality Rate</th>\n",
       "      <th>Continent</th>\n",
       "    </tr>\n",
       "  </thead>\n",
       "  <tbody>\n",
       "    <tr>\n",
       "      <th>0</th>\n",
       "      <td>US</td>\n",
       "      <td>85214036</td>\n",
       "      <td>1010520</td>\n",
       "      <td>85003945</td>\n",
       "      <td>1009326</td>\n",
       "      <td>210091</td>\n",
       "      <td>1194</td>\n",
       "      <td>1.19</td>\n",
       "      <td>North America</td>\n",
       "    </tr>\n",
       "    <tr>\n",
       "      <th>1</th>\n",
       "      <td>India</td>\n",
       "      <td>43197522</td>\n",
       "      <td>524723</td>\n",
       "      <td>43190282</td>\n",
       "      <td>524715</td>\n",
       "      <td>7240</td>\n",
       "      <td>8</td>\n",
       "      <td>1.21</td>\n",
       "      <td>Asia</td>\n",
       "    </tr>\n",
       "    <tr>\n",
       "      <th>2</th>\n",
       "      <td>Brazil</td>\n",
       "      <td>31315777</td>\n",
       "      <td>667647</td>\n",
       "      <td>31266163</td>\n",
       "      <td>667348</td>\n",
       "      <td>49614</td>\n",
       "      <td>299</td>\n",
       "      <td>2.13</td>\n",
       "      <td>South America</td>\n",
       "    </tr>\n",
       "    <tr>\n",
       "      <th>3</th>\n",
       "      <td>France</td>\n",
       "      <td>29906452</td>\n",
       "      <td>149707</td>\n",
       "      <td>29852463</td>\n",
       "      <td>149630</td>\n",
       "      <td>53989</td>\n",
       "      <td>77</td>\n",
       "      <td>0.50</td>\n",
       "      <td>Europe</td>\n",
       "    </tr>\n",
       "    <tr>\n",
       "      <th>4</th>\n",
       "      <td>Germany</td>\n",
       "      <td>26660652</td>\n",
       "      <td>139623</td>\n",
       "      <td>26583016</td>\n",
       "      <td>139533</td>\n",
       "      <td>77636</td>\n",
       "      <td>90</td>\n",
       "      <td>0.52</td>\n",
       "      <td>Europe</td>\n",
       "    </tr>\n",
       "  </tbody>\n",
       "</table>\n",
       "</div>"
      ],
      "text/plain": [
       "  Country/Region     Cases   Deaths    PCases  PDeaths  Cases (+)  Deaths (+)  \\\n",
       "0             US  85214036  1010520  85003945  1009326     210091        1194   \n",
       "1          India  43197522   524723  43190282   524715       7240           8   \n",
       "2         Brazil  31315777   667647  31266163   667348      49614         299   \n",
       "3         France  29906452   149707  29852463   149630      53989          77   \n",
       "4        Germany  26660652   139623  26583016   139533      77636          90   \n",
       "\n",
       "   Fatality Rate      Continent  \n",
       "0           1.19  North America  \n",
       "1           1.21           Asia  \n",
       "2           2.13  South America  \n",
       "3           0.50         Europe  \n",
       "4           0.52         Europe  "
      ]
     },
     "execution_count": 13,
     "metadata": {},
     "output_type": "execute_result"
    }
   ],
   "source": [
    "#hide\n",
    "for c in 'Cases, Deaths'.split(', '):\n",
    "    df_table[f'{c} (+)'] = (df_table[c] - df_table[f'P{c}']).clip(0)\n",
    "    #Clip ça veut dire, les chiffres negatif sont interdit\n",
    "df_table['Fatality Rate'] = (100* df_table['Deaths']/ df_table['Cases']).round(2)\n",
    "df_table['Continent'] = df_table['Country/Region'].map(mapping['map.continent'])\n",
    "df_table.head(5)"
   ]
  },
  {
   "cell_type": "code",
   "execution_count": 14,
   "id": "aboriginal-bulgaria",
   "metadata": {
    "execution": {
     "iopub.execute_input": "2022-06-10T00:43:44.447946Z",
     "iopub.status.busy": "2022-06-10T00:43:44.447223Z",
     "iopub.status.idle": "2022-06-10T00:43:44.449570Z",
     "shell.execute_reply": "2022-06-10T00:43:44.450063Z"
    },
    "papermill": {
     "duration": 0.043082,
     "end_time": "2022-06-10T00:43:44.450211",
     "exception": false,
     "start_time": "2022-06-10T00:43:44.407129",
     "status": "completed"
    },
    "tags": []
   },
   "outputs": [],
   "source": [
    "#hide\n",
    "#delete problematic countries from table\n",
    "df_table = df_table[~df_table['Country/Region'].isin(['Cape Verde', 'Cruise Ship', 'Kosovo'])]"
   ]
  },
  {
   "cell_type": "code",
   "execution_count": 15,
   "id": "fantastic-effect",
   "metadata": {
    "execution": {
     "iopub.execute_input": "2022-06-10T00:43:44.524016Z",
     "iopub.status.busy": "2022-06-10T00:43:44.523355Z",
     "iopub.status.idle": "2022-06-10T00:43:44.542480Z",
     "shell.execute_reply": "2022-06-10T00:43:44.543239Z"
    },
    "papermill": {
     "duration": 0.061073,
     "end_time": "2022-06-10T00:43:44.543433",
     "exception": false,
     "start_time": "2022-06-10T00:43:44.482360",
     "status": "completed"
    },
    "tags": []
   },
   "outputs": [
    {
     "data": {
      "text/html": [
       "<div>\n",
       "<style scoped>\n",
       "    .dataframe tbody tr th:only-of-type {\n",
       "        vertical-align: middle;\n",
       "    }\n",
       "\n",
       "    .dataframe tbody tr th {\n",
       "        vertical-align: top;\n",
       "    }\n",
       "\n",
       "    .dataframe thead th {\n",
       "        text-align: right;\n",
       "    }\n",
       "</style>\n",
       "<table border=\"1\" class=\"dataframe\">\n",
       "  <thead>\n",
       "    <tr style=\"text-align: right;\">\n",
       "      <th></th>\n",
       "      <th>Country/Region</th>\n",
       "      <th>Cases</th>\n",
       "      <th>Deaths</th>\n",
       "      <th>PCases</th>\n",
       "      <th>PDeaths</th>\n",
       "      <th>Cases (+)</th>\n",
       "      <th>Deaths (+)</th>\n",
       "      <th>Fatality Rate</th>\n",
       "      <th>Continent</th>\n",
       "    </tr>\n",
       "  </thead>\n",
       "  <tbody>\n",
       "    <tr>\n",
       "      <th>0</th>\n",
       "      <td>US</td>\n",
       "      <td>85214036</td>\n",
       "      <td>1010520</td>\n",
       "      <td>85003945</td>\n",
       "      <td>1009326</td>\n",
       "      <td>210091</td>\n",
       "      <td>1194</td>\n",
       "      <td>1.2</td>\n",
       "      <td>North America</td>\n",
       "    </tr>\n",
       "    <tr>\n",
       "      <th>1</th>\n",
       "      <td>India</td>\n",
       "      <td>43197522</td>\n",
       "      <td>524723</td>\n",
       "      <td>43190282</td>\n",
       "      <td>524715</td>\n",
       "      <td>7240</td>\n",
       "      <td>8</td>\n",
       "      <td>1.2</td>\n",
       "      <td>Asia</td>\n",
       "    </tr>\n",
       "    <tr>\n",
       "      <th>2</th>\n",
       "      <td>Brazil</td>\n",
       "      <td>31315777</td>\n",
       "      <td>667647</td>\n",
       "      <td>31266163</td>\n",
       "      <td>667348</td>\n",
       "      <td>49614</td>\n",
       "      <td>299</td>\n",
       "      <td>2.1</td>\n",
       "      <td>South America</td>\n",
       "    </tr>\n",
       "    <tr>\n",
       "      <th>3</th>\n",
       "      <td>France</td>\n",
       "      <td>29906452</td>\n",
       "      <td>149707</td>\n",
       "      <td>29852463</td>\n",
       "      <td>149630</td>\n",
       "      <td>53989</td>\n",
       "      <td>77</td>\n",
       "      <td>0.5</td>\n",
       "      <td>Europe</td>\n",
       "    </tr>\n",
       "    <tr>\n",
       "      <th>4</th>\n",
       "      <td>Germany</td>\n",
       "      <td>26660652</td>\n",
       "      <td>139623</td>\n",
       "      <td>26583016</td>\n",
       "      <td>139533</td>\n",
       "      <td>77636</td>\n",
       "      <td>90</td>\n",
       "      <td>0.5</td>\n",
       "      <td>Europe</td>\n",
       "    </tr>\n",
       "  </tbody>\n",
       "</table>\n",
       "</div>"
      ],
      "text/plain": [
       "  Country/Region     Cases   Deaths    PCases  PDeaths  Cases (+)  Deaths (+)  \\\n",
       "0             US  85214036  1010520  85003945  1009326     210091        1194   \n",
       "1          India  43197522   524723  43190282   524715       7240           8   \n",
       "2         Brazil  31315777   667647  31266163   667348      49614         299   \n",
       "3         France  29906452   149707  29852463   149630      53989          77   \n",
       "4        Germany  26660652   139623  26583016   139533      77636          90   \n",
       "\n",
       "   Fatality Rate      Continent  \n",
       "0            1.2  North America  \n",
       "1            1.2           Asia  \n",
       "2            2.1  South America  \n",
       "3            0.5         Europe  \n",
       "4            0.5         Europe  "
      ]
     },
     "execution_count": 15,
     "metadata": {},
     "output_type": "execute_result"
    }
   ],
   "source": [
    "#hide\n",
    "df_table = (pd.DataFrame(dict(Cases=dfc_cases, Deaths=dfc_deaths, PCases=dfp_cases, PDeaths=dfp_deaths))\n",
    "             .sort_values(by=['Cases', 'Deaths'], ascending=[False, False])\n",
    "             .reset_index())\n",
    "df_table.rename(columns={'index': 'Country/Region'}, inplace=True)\n",
    "for c in 'Cases, Deaths'.split(', '):\n",
    "    df_table[f'{c} (+)'] = (df_table[c] - df_table[f'P{c}']).clip(0)  # DATA BUG\n",
    "df_table['Fatality Rate'] = (100 * df_table['Deaths'] / df_table['Cases']).round(1)\n",
    "df_table['Continent'] = df_table['Country/Region'].map(mapping['map.continent'])\n",
    "df_table.head(5)"
   ]
  },
  {
   "cell_type": "code",
   "execution_count": 16,
   "id": "fewer-occasion",
   "metadata": {
    "execution": {
     "iopub.execute_input": "2022-06-10T00:43:44.618882Z",
     "iopub.status.busy": "2022-06-10T00:43:44.617623Z",
     "iopub.status.idle": "2022-06-10T00:43:44.619649Z",
     "shell.execute_reply": "2022-06-10T00:43:44.620153Z"
    },
    "papermill": {
     "duration": 0.043192,
     "end_time": "2022-06-10T00:43:44.620295",
     "exception": false,
     "start_time": "2022-06-10T00:43:44.577103",
     "status": "completed"
    },
    "tags": []
   },
   "outputs": [],
   "source": [
    "#hide\n",
    "#delete problematic countries from table\n",
    "df_table = df_table[~df_table['Country/Region'].isin(['Cape Verde', 'Cruise Ship', 'Kosovo'])]"
   ]
  },
  {
   "cell_type": "code",
   "execution_count": 17,
   "id": "related-center",
   "metadata": {
    "execution": {
     "iopub.execute_input": "2022-06-10T00:43:44.694468Z",
     "iopub.status.busy": "2022-06-10T00:43:44.693841Z",
     "iopub.status.idle": "2022-06-10T00:43:44.708483Z",
     "shell.execute_reply": "2022-06-10T00:43:44.707974Z"
    },
    "papermill": {
     "duration": 0.055875,
     "end_time": "2022-06-10T00:43:44.708598",
     "exception": false,
     "start_time": "2022-06-10T00:43:44.652723",
     "status": "completed"
    },
    "tags": []
   },
   "outputs": [],
   "source": [
    "#hide\n",
    "metrics = [df_table.columns[index] for index in [1,2,5,6]]\n",
    "# s_china = df_table[df_table['Country/Region'].eq('China')][metrics].sum().add_prefix('China ')\n",
    "s_us = df_table[df_table['Country/Region'].eq('US')][metrics].sum().add_prefix('US ')\n",
    "s_eu = df_table[df_table['Continent'].eq('Europe')][metrics].sum().add_prefix('EU ')\n",
    "s_ind = df_table[df_table['Country/Region'].eq('India')][metrics].sum().add_prefix('India ')\n",
    "summary = {'updated': pd.to_datetime(dt_today), 'since': pd.to_datetime(dt_yday)}\n",
    "summary = {'updated': pd.to_datetime(dt_today), 'since': pd.to_datetime(dt_yday)}\n",
    "summary = {**summary, **df_table[metrics].sum(), **s_ind, **s_us, **s_eu}"
   ]
  },
  {
   "cell_type": "code",
   "execution_count": 18,
   "id": "engaging-syndrome",
   "metadata": {
    "execution": {
     "iopub.execute_input": "2022-06-10T00:43:44.781403Z",
     "iopub.status.busy": "2022-06-10T00:43:44.780717Z",
     "iopub.status.idle": "2022-06-10T00:43:44.801701Z",
     "shell.execute_reply": "2022-06-10T00:43:44.801146Z"
    },
    "papermill": {
     "duration": 0.060545,
     "end_time": "2022-06-10T00:43:44.801827",
     "exception": false,
     "start_time": "2022-06-10T00:43:44.741282",
     "status": "completed"
    },
    "tags": []
   },
   "outputs": [],
   "source": [
    "#hide\n",
    "dft_ct_new_cases = dft_cases.groupby(COL_REGION)[dt_cols].sum().diff(axis=1).fillna(0).astype(int)"
   ]
  },
  {
   "cell_type": "code",
   "execution_count": 19,
   "id": "neutral-assignment",
   "metadata": {
    "execution": {
     "iopub.execute_input": "2022-06-10T00:43:44.871425Z",
     "iopub.status.busy": "2022-06-10T00:43:44.870651Z",
     "iopub.status.idle": "2022-06-10T00:43:44.872541Z",
     "shell.execute_reply": "2022-06-10T00:43:44.872015Z"
    },
    "papermill": {
     "duration": 0.039827,
     "end_time": "2022-06-10T00:43:44.872661",
     "exception": false,
     "start_time": "2022-06-10T00:43:44.832834",
     "status": "completed"
    },
    "tags": []
   },
   "outputs": [],
   "source": [
    "#hide\n",
    "everydaycases = dft_ct_new_cases.cumsum(axis=1)"
   ]
  },
  {
   "cell_type": "code",
   "execution_count": 20,
   "id": "parliamentary-calgary",
   "metadata": {
    "execution": {
     "iopub.execute_input": "2022-06-10T00:43:44.941519Z",
     "iopub.status.busy": "2022-06-10T00:43:44.940405Z",
     "iopub.status.idle": "2022-06-10T00:43:45.553725Z",
     "shell.execute_reply": "2022-06-10T00:43:45.553130Z"
    },
    "papermill": {
     "duration": 0.649529,
     "end_time": "2022-06-10T00:43:45.553854",
     "exception": false,
     "start_time": "2022-06-10T00:43:44.904325",
     "status": "completed"
    },
    "tags": []
   },
   "outputs": [],
   "source": [
    "#hide\n",
    "import pandas as pd\n",
    "import matplotlib.pyplot as plt\n",
    "import matplotlib.ticker as ticker\n",
    "import matplotlib.animation as animation\n",
    "from IPython.display import HTML"
   ]
  },
  {
   "cell_type": "code",
   "execution_count": 21,
   "id": "lasting-extraction",
   "metadata": {
    "execution": {
     "iopub.execute_input": "2022-06-10T00:43:45.627695Z",
     "iopub.status.busy": "2022-06-10T00:43:45.626978Z",
     "iopub.status.idle": "2022-06-10T00:43:45.633747Z",
     "shell.execute_reply": "2022-06-10T00:43:45.634387Z"
    },
    "papermill": {
     "duration": 0.04694,
     "end_time": "2022-06-10T00:43:45.634540",
     "exception": false,
     "start_time": "2022-06-10T00:43:45.587600",
     "status": "completed"
    },
    "tags": []
   },
   "outputs": [],
   "source": [
    "#hide\n",
    "t = everydaycases.stack()"
   ]
  },
  {
   "cell_type": "code",
   "execution_count": 22,
   "id": "premier-sleeve",
   "metadata": {
    "execution": {
     "iopub.execute_input": "2022-06-10T00:43:45.705838Z",
     "iopub.status.busy": "2022-06-10T00:43:45.705197Z",
     "iopub.status.idle": "2022-06-10T00:43:45.717424Z",
     "shell.execute_reply": "2022-06-10T00:43:45.716866Z"
    },
    "papermill": {
     "duration": 0.05065,
     "end_time": "2022-06-10T00:43:45.717553",
     "exception": false,
     "start_time": "2022-06-10T00:43:45.666903",
     "status": "completed"
    },
    "tags": []
   },
   "outputs": [],
   "source": [
    "#hide\n",
    "g = t.reset_index(['Country/Region'])"
   ]
  },
  {
   "cell_type": "code",
   "execution_count": 23,
   "id": "distributed-pittsburgh",
   "metadata": {
    "execution": {
     "iopub.execute_input": "2022-06-10T00:43:45.789203Z",
     "iopub.status.busy": "2022-06-10T00:43:45.788527Z",
     "iopub.status.idle": "2022-06-10T00:43:45.791742Z",
     "shell.execute_reply": "2022-06-10T00:43:45.791166Z"
    },
    "papermill": {
     "duration": 0.041157,
     "end_time": "2022-06-10T00:43:45.791857",
     "exception": false,
     "start_time": "2022-06-10T00:43:45.750700",
     "status": "completed"
    },
    "tags": []
   },
   "outputs": [],
   "source": [
    "#hide\n",
    "g.index.name = 'date'"
   ]
  },
  {
   "cell_type": "code",
   "execution_count": 24,
   "id": "naked-donor",
   "metadata": {
    "execution": {
     "iopub.execute_input": "2022-06-10T00:43:45.863216Z",
     "iopub.status.busy": "2022-06-10T00:43:45.861982Z",
     "iopub.status.idle": "2022-06-10T00:43:45.864513Z",
     "shell.execute_reply": "2022-06-10T00:43:45.865404Z"
    },
    "papermill": {
     "duration": 0.041189,
     "end_time": "2022-06-10T00:43:45.865627",
     "exception": false,
     "start_time": "2022-06-10T00:43:45.824438",
     "status": "completed"
    },
    "tags": []
   },
   "outputs": [],
   "source": [
    "# #hide\n",
    "# g = g.reset_index(['date'])"
   ]
  },
  {
   "cell_type": "code",
   "execution_count": 25,
   "id": "incomplete-mustang",
   "metadata": {
    "execution": {
     "iopub.execute_input": "2022-06-10T00:43:45.938296Z",
     "iopub.status.busy": "2022-06-10T00:43:45.937129Z",
     "iopub.status.idle": "2022-06-10T00:43:45.939317Z",
     "shell.execute_reply": "2022-06-10T00:43:45.939843Z"
    },
    "papermill": {
     "duration": 0.040347,
     "end_time": "2022-06-10T00:43:45.939984",
     "exception": false,
     "start_time": "2022-06-10T00:43:45.899637",
     "status": "completed"
    },
    "tags": []
   },
   "outputs": [],
   "source": [
    "#hide\n",
    "# g.head()"
   ]
  },
  {
   "cell_type": "code",
   "execution_count": 26,
   "id": "specific-kruger",
   "metadata": {
    "execution": {
     "iopub.execute_input": "2022-06-10T00:43:46.011420Z",
     "iopub.status.busy": "2022-06-10T00:43:46.010703Z",
     "iopub.status.idle": "2022-06-10T00:43:46.012306Z",
     "shell.execute_reply": "2022-06-10T00:43:46.012879Z"
    },
    "papermill": {
     "duration": 0.039414,
     "end_time": "2022-06-10T00:43:46.013007",
     "exception": false,
     "start_time": "2022-06-10T00:43:45.973593",
     "status": "completed"
    },
    "tags": []
   },
   "outputs": [],
   "source": [
    "#hide\n",
    "# g.columns = ['date','country','cases']"
   ]
  },
  {
   "cell_type": "code",
   "execution_count": 27,
   "id": "tender-conversion",
   "metadata": {
    "execution": {
     "iopub.execute_input": "2022-06-10T00:43:46.084358Z",
     "iopub.status.busy": "2022-06-10T00:43:46.083667Z",
     "iopub.status.idle": "2022-06-10T00:43:46.088323Z",
     "shell.execute_reply": "2022-06-10T00:43:46.087813Z"
    },
    "papermill": {
     "duration": 0.042559,
     "end_time": "2022-06-10T00:43:46.088443",
     "exception": false,
     "start_time": "2022-06-10T00:43:46.045884",
     "status": "completed"
    },
    "tags": []
   },
   "outputs": [],
   "source": [
    "#hide\n",
    "# g['continent'] = g.country"
   ]
  },
  {
   "cell_type": "code",
   "execution_count": 28,
   "id": "substantial-wilderness",
   "metadata": {
    "execution": {
     "iopub.execute_input": "2022-06-10T00:43:46.161231Z",
     "iopub.status.busy": "2022-06-10T00:43:46.160063Z",
     "iopub.status.idle": "2022-06-10T00:43:46.162497Z",
     "shell.execute_reply": "2022-06-10T00:43:46.163131Z"
    },
    "papermill": {
     "duration": 0.041335,
     "end_time": "2022-06-10T00:43:46.163273",
     "exception": false,
     "start_time": "2022-06-10T00:43:46.121938",
     "status": "completed"
    },
    "tags": []
   },
   "outputs": [],
   "source": [
    "#hide\n",
    "# cols = list(g.columns.values)"
   ]
  },
  {
   "cell_type": "code",
   "execution_count": 29,
   "id": "solved-farming",
   "metadata": {
    "execution": {
     "iopub.execute_input": "2022-06-10T00:43:46.233817Z",
     "iopub.status.busy": "2022-06-10T00:43:46.232654Z",
     "iopub.status.idle": "2022-06-10T00:43:46.237349Z",
     "shell.execute_reply": "2022-06-10T00:43:46.236836Z"
    },
    "papermill": {
     "duration": 0.04231,
     "end_time": "2022-06-10T00:43:46.237462",
     "exception": false,
     "start_time": "2022-06-10T00:43:46.195152",
     "status": "completed"
    },
    "tags": []
   },
   "outputs": [],
   "source": [
    "#hide\n",
    "# cols.insert(0, cols.pop())"
   ]
  },
  {
   "cell_type": "code",
   "execution_count": 30,
   "id": "executed-adoption",
   "metadata": {
    "execution": {
     "iopub.execute_input": "2022-06-10T00:43:46.306259Z",
     "iopub.status.busy": "2022-06-10T00:43:46.305587Z",
     "iopub.status.idle": "2022-06-10T00:43:46.308004Z",
     "shell.execute_reply": "2022-06-10T00:43:46.307385Z"
    },
    "papermill": {
     "duration": 0.038221,
     "end_time": "2022-06-10T00:43:46.308118",
     "exception": false,
     "start_time": "2022-06-10T00:43:46.269897",
     "status": "completed"
    },
    "tags": []
   },
   "outputs": [],
   "source": [
    "#hide\n",
    "# g = g[cols]"
   ]
  },
  {
   "cell_type": "code",
   "execution_count": 31,
   "id": "subject-dublin",
   "metadata": {
    "execution": {
     "iopub.execute_input": "2022-06-10T00:43:46.379263Z",
     "iopub.status.busy": "2022-06-10T00:43:46.378455Z",
     "iopub.status.idle": "2022-06-10T00:43:46.381441Z",
     "shell.execute_reply": "2022-06-10T00:43:46.380724Z"
    },
    "papermill": {
     "duration": 0.040726,
     "end_time": "2022-06-10T00:43:46.381576",
     "exception": false,
     "start_time": "2022-06-10T00:43:46.340850",
     "status": "completed"
    },
    "tags": []
   },
   "outputs": [],
   "source": [
    "#hide\n",
    "# g['continent'] = g['continent'].map(mapping['map.continent'])"
   ]
  },
  {
   "cell_type": "code",
   "execution_count": 32,
   "id": "freelance-scout",
   "metadata": {
    "execution": {
     "iopub.execute_input": "2022-06-10T00:43:46.454891Z",
     "iopub.status.busy": "2022-06-10T00:43:46.453614Z",
     "iopub.status.idle": "2022-06-10T00:43:46.458612Z",
     "shell.execute_reply": "2022-06-10T00:43:46.458044Z"
    },
    "papermill": {
     "duration": 0.043321,
     "end_time": "2022-06-10T00:43:46.458758",
     "exception": false,
     "start_time": "2022-06-10T00:43:46.415437",
     "status": "completed"
    },
    "tags": []
   },
   "outputs": [],
   "source": [
    "#hide\n",
    "# g.head()"
   ]
  },
  {
   "cell_type": "code",
   "execution_count": 33,
   "id": "limited-engine",
   "metadata": {
    "execution": {
     "iopub.execute_input": "2022-06-10T00:43:46.531150Z",
     "iopub.status.busy": "2022-06-10T00:43:46.530423Z",
     "iopub.status.idle": "2022-06-10T00:43:46.533085Z",
     "shell.execute_reply": "2022-06-10T00:43:46.532336Z"
    },
    "papermill": {
     "duration": 0.040672,
     "end_time": "2022-06-10T00:43:46.533212",
     "exception": false,
     "start_time": "2022-06-10T00:43:46.492540",
     "status": "completed"
    },
    "tags": []
   },
   "outputs": [],
   "source": [
    "# hide\n",
    "# g['date'] = g['date'].astype('datetime64[ns]')"
   ]
  },
  {
   "cell_type": "code",
   "execution_count": 34,
   "id": "sophisticated-supervisor",
   "metadata": {
    "execution": {
     "iopub.execute_input": "2022-06-10T00:43:46.604701Z",
     "iopub.status.busy": "2022-06-10T00:43:46.604037Z",
     "iopub.status.idle": "2022-06-10T00:43:46.608138Z",
     "shell.execute_reply": "2022-06-10T00:43:46.607589Z"
    },
    "papermill": {
     "duration": 0.041454,
     "end_time": "2022-06-10T00:43:46.608252",
     "exception": false,
     "start_time": "2022-06-10T00:43:46.566798",
     "status": "completed"
    },
    "tags": []
   },
   "outputs": [],
   "source": [
    "#hide\n",
    "# g['date'] = g.date.dt.dayofyear"
   ]
  },
  {
   "cell_type": "code",
   "execution_count": 35,
   "id": "inside-dubai",
   "metadata": {
    "execution": {
     "iopub.execute_input": "2022-06-10T00:43:46.679891Z",
     "iopub.status.busy": "2022-06-10T00:43:46.679022Z",
     "iopub.status.idle": "2022-06-10T00:43:46.682629Z",
     "shell.execute_reply": "2022-06-10T00:43:46.683171Z"
    },
    "papermill": {
     "duration": 0.041231,
     "end_time": "2022-06-10T00:43:46.683321",
     "exception": false,
     "start_time": "2022-06-10T00:43:46.642090",
     "status": "completed"
    },
    "tags": []
   },
   "outputs": [],
   "source": [
    "#hide\n",
    "# g = g.rename(columns= {'continent':'group','country':'name','cases':'value'})"
   ]
  },
  {
   "cell_type": "code",
   "execution_count": 36,
   "id": "fleet-motorcycle",
   "metadata": {
    "execution": {
     "iopub.execute_input": "2022-06-10T00:43:46.752459Z",
     "iopub.status.busy": "2022-06-10T00:43:46.751738Z",
     "iopub.status.idle": "2022-06-10T00:43:46.754668Z",
     "shell.execute_reply": "2022-06-10T00:43:46.754145Z"
    },
    "papermill": {
     "duration": 0.039044,
     "end_time": "2022-06-10T00:43:46.754824",
     "exception": false,
     "start_time": "2022-06-10T00:43:46.715780",
     "status": "completed"
    },
    "tags": []
   },
   "outputs": [],
   "source": [
    "#hide\n",
    "# cols = ['name','group','day','value']"
   ]
  },
  {
   "cell_type": "code",
   "execution_count": 37,
   "id": "continued-sleeping",
   "metadata": {
    "execution": {
     "iopub.execute_input": "2022-06-10T00:43:46.824968Z",
     "iopub.status.busy": "2022-06-10T00:43:46.824300Z",
     "iopub.status.idle": "2022-06-10T00:43:46.827691Z",
     "shell.execute_reply": "2022-06-10T00:43:46.827027Z"
    },
    "papermill": {
     "duration": 0.040184,
     "end_time": "2022-06-10T00:43:46.827809",
     "exception": false,
     "start_time": "2022-06-10T00:43:46.787625",
     "status": "completed"
    },
    "tags": []
   },
   "outputs": [],
   "source": [
    "#hide\n",
    "# g.rename(columns= {'date':'day'},inplace = True)"
   ]
  },
  {
   "cell_type": "code",
   "execution_count": 38,
   "id": "major-fight",
   "metadata": {
    "execution": {
     "iopub.execute_input": "2022-06-10T00:43:46.901706Z",
     "iopub.status.busy": "2022-06-10T00:43:46.900271Z",
     "iopub.status.idle": "2022-06-10T00:43:46.903104Z",
     "shell.execute_reply": "2022-06-10T00:43:46.904009Z"
    },
    "papermill": {
     "duration": 0.041959,
     "end_time": "2022-06-10T00:43:46.904237",
     "exception": false,
     "start_time": "2022-06-10T00:43:46.862278",
     "status": "completed"
    },
    "tags": []
   },
   "outputs": [],
   "source": [
    "#hide\n",
    "# g = g[cols]"
   ]
  },
  {
   "cell_type": "code",
   "execution_count": 39,
   "id": "structured-mobile",
   "metadata": {
    "execution": {
     "iopub.execute_input": "2022-06-10T00:43:46.975693Z",
     "iopub.status.busy": "2022-06-10T00:43:46.974976Z",
     "iopub.status.idle": "2022-06-10T00:43:46.977133Z",
     "shell.execute_reply": "2022-06-10T00:43:46.977624Z"
    },
    "papermill": {
     "duration": 0.039894,
     "end_time": "2022-06-10T00:43:46.977767",
     "exception": false,
     "start_time": "2022-06-10T00:43:46.937873",
     "status": "completed"
    },
    "tags": []
   },
   "outputs": [],
   "source": [
    "# #hide\n",
    "# g = g[g.group.notna()]"
   ]
  },
  {
   "cell_type": "code",
   "execution_count": 40,
   "id": "determined-closing",
   "metadata": {
    "execution": {
     "iopub.execute_input": "2022-06-10T00:43:47.050317Z",
     "iopub.status.busy": "2022-06-10T00:43:47.049374Z",
     "iopub.status.idle": "2022-06-10T00:43:47.051338Z",
     "shell.execute_reply": "2022-06-10T00:43:47.052051Z"
    },
    "papermill": {
     "duration": 0.040244,
     "end_time": "2022-06-10T00:43:47.052223",
     "exception": false,
     "start_time": "2022-06-10T00:43:47.011979",
     "status": "completed"
    },
    "tags": []
   },
   "outputs": [],
   "source": [
    "# #hide\n",
    "# colors = dict(zip(\n",
    "#     [\"Oceania\", \"Europe\", \"Asia\", \"South America\", \"Middle East\", \"North America\", \"Africa\"],\n",
    "#     [\"#adb0ff\", \"#ffb3ff\", \"#90d595\", \"#e48381\", \"#aafbff\", \"#f7bb5f\", \"#eafb50\"]\n",
    "# ))\n",
    "# group_lk = g.set_index('name')['group'].to_dict()"
   ]
  },
  {
   "cell_type": "code",
   "execution_count": null,
   "id": "gross-drinking",
   "metadata": {
    "papermill": {
     "duration": 0.033055,
     "end_time": "2022-06-10T00:43:47.120236",
     "exception": false,
     "start_time": "2022-06-10T00:43:47.087181",
     "status": "completed"
    },
    "tags": []
   },
   "outputs": [],
   "source": []
  },
  {
   "cell_type": "code",
   "execution_count": 41,
   "id": "subject-macintosh",
   "metadata": {
    "execution": {
     "iopub.execute_input": "2022-06-10T00:43:47.192081Z",
     "iopub.status.busy": "2022-06-10T00:43:47.191355Z",
     "iopub.status.idle": "2022-06-10T00:43:47.194019Z",
     "shell.execute_reply": "2022-06-10T00:43:47.194612Z"
    },
    "papermill": {
     "duration": 0.041195,
     "end_time": "2022-06-10T00:43:47.194787",
     "exception": false,
     "start_time": "2022-06-10T00:43:47.153592",
     "status": "completed"
    },
    "tags": []
   },
   "outputs": [],
   "source": [
    "# #hide\n",
    "# fig, ax = plt.subplots(figsize=(15, 8))\n",
    "\n",
    "# def draw_barchart(current_day):\n",
    "#     dff = g[g['day'].eq(current_day)].sort_values(by='value', ascending=True).tail(10)\n",
    "#     ax.clear()\n",
    "#     ax.barh(dff['name'], dff['value'], color=[colors[group_lk[x]] for x in dff['name']])\n",
    "#     dx = dff['value'].max() / 200\n",
    "    \n",
    "#     for i, (value, name) in enumerate(zip(dff['value'], dff['name'])):\n",
    "#         ax.text(value-dx, i,     name,           size=14, weight=600, ha='right', va='bottom')\n",
    "#         ax.text(value-dx, i-.25, group_lk[name], size=10, color='#444444', ha='right', va='baseline')\n",
    "#         ax.text(value+dx, i,     f'{value:,.0f}',  size=14, ha='left',  va='center')\n",
    "#     ax.text(1, 0.4, current_day, transform=ax.transAxes, color='#777777', size=46, ha='right', weight=800)\n",
    "#     ax.text(0, 1.06, 'Population (thousands)', transform=ax.transAxes, size=12, color='#777777')\n",
    "#     ax.xaxis.set_major_formatter(ticker.StrMethodFormatter('{x:,.0f}'))\n",
    "#     ax.xaxis.set_ticks_position('top')\n",
    "#     ax.tick_params(axis='x', colors='#777777', labelsize=12)\n",
    "#     ax.set_yticks([])\n",
    "#     ax.margins(0, 0.01)\n",
    "#     ax.grid(which='major', axis='x', linestyle='-')\n",
    "#     ax.set_axisbelow(True)\n",
    "    \n",
    "#     ax.text(0, 1.15, 'Coronavirus',\n",
    "#             transform=ax.transAxes, size=24, weight=600, ha='left', va='top')\n",
    "# #     ax.text(1, 0, 'by @pratapvardhan; credit @jburnmurdoch', transform=ax.transAxes, color='#777777', ha='right',\n",
    "# #             bbox=dict(facecolor='white', alpha=0.8, edgecolor='white'))\n",
    "#     plt.box(False)"
   ]
  },
  {
   "cell_type": "code",
   "execution_count": 42,
   "id": "sexual-wages",
   "metadata": {
    "execution": {
     "iopub.execute_input": "2022-06-10T00:43:47.265602Z",
     "iopub.status.busy": "2022-06-10T00:43:47.264898Z",
     "iopub.status.idle": "2022-06-10T00:43:47.267759Z",
     "shell.execute_reply": "2022-06-10T00:43:47.268427Z"
    },
    "papermill": {
     "duration": 0.041292,
     "end_time": "2022-06-10T00:43:47.268570",
     "exception": false,
     "start_time": "2022-06-10T00:43:47.227278",
     "status": "completed"
    },
    "tags": []
   },
   "outputs": [],
   "source": [
    "# #hide_input\n",
    "# fig, ax = plt.subplots(figsize=(15, 8))\n",
    "# animator = animation.FuncAnimation(fig, draw_barchart, frames=range(g.day.values.min(), g.day.values.max()))\n",
    "# HTML(animator.to_jshtml())\n",
    "# # or use animator.to_html5_video() or animator.save() "
   ]
  },
  {
   "cell_type": "code",
   "execution_count": null,
   "id": "australian-container",
   "metadata": {
    "papermill": {
     "duration": 0.03412,
     "end_time": "2022-06-10T00:43:47.336324",
     "exception": false,
     "start_time": "2022-06-10T00:43:47.302204",
     "status": "completed"
    },
    "tags": []
   },
   "outputs": [],
   "source": []
  },
  {
   "cell_type": "code",
   "execution_count": null,
   "id": "mediterranean-pontiac",
   "metadata": {
    "papermill": {
     "duration": 0.032191,
     "end_time": "2022-06-10T00:43:47.401738",
     "exception": false,
     "start_time": "2022-06-10T00:43:47.369547",
     "status": "completed"
    },
    "tags": []
   },
   "outputs": [],
   "source": []
  },
  {
   "cell_type": "code",
   "execution_count": null,
   "id": "aging-legislature",
   "metadata": {
    "papermill": {
     "duration": 0.033591,
     "end_time": "2022-06-10T00:43:47.469514",
     "exception": false,
     "start_time": "2022-06-10T00:43:47.435923",
     "status": "completed"
    },
    "tags": []
   },
   "outputs": [],
   "source": []
  }
 ],
 "metadata": {
  "kernelspec": {
   "display_name": "Python 3",
   "language": "python",
   "name": "python3"
  },
  "language_info": {
   "codemirror_mode": {
    "name": "ipython",
    "version": 3
   },
   "file_extension": ".py",
   "mimetype": "text/x-python",
   "name": "python",
   "nbconvert_exporter": "python",
   "pygments_lexer": "ipython3",
   "version": "3.6.15"
  },
  "papermill": {
   "duration": 6.693465,
   "end_time": "2022-06-10T00:43:47.921226",
   "environment_variables": {},
   "exception": null,
   "input_path": "2020-03-21-covid19exp.ipynb",
   "output_path": "2020-03-21-covid19exp.ipynb",
   "parameters": {},
   "start_time": "2022-06-10T00:43:41.227761",
   "version": "2.0.0"
  }
 },
 "nbformat": 4,
 "nbformat_minor": 5
}