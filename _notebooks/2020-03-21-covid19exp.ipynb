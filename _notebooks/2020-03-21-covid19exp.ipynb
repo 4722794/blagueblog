{
 "cells": [
  {
   "cell_type": "markdown",
   "id": "muslim-click",
   "metadata": {
    "papermill": {
     "duration": 0.034607,
     "end_time": "2022-08-31T00:56:56.654629",
     "exception": false,
     "start_time": "2022-08-31T00:56:56.620022",
     "status": "completed"
    },
    "tags": []
   },
   "source": [
    "# COVID-19 Case Race\n",
    "> A race chart to see rising cases around the world\n",
    "\n",
    "- author: Hargun Oberoi\n",
    "- image: images/covid-overview.png\n",
    "- hide: false\n",
    "- badges: false"
   ]
  },
  {
   "cell_type": "code",
   "execution_count": 1,
   "id": "proof-material",
   "metadata": {
    "execution": {
     "iopub.execute_input": "2022-08-31T00:56:56.723724Z",
     "iopub.status.busy": "2022-08-31T00:56:56.723128Z",
     "iopub.status.idle": "2022-08-31T00:56:57.029506Z",
     "shell.execute_reply": "2022-08-31T00:56:57.028535Z"
    },
    "papermill": {
     "duration": 0.344835,
     "end_time": "2022-08-31T00:56:57.029646",
     "exception": false,
     "start_time": "2022-08-31T00:56:56.684811",
     "status": "completed"
    },
    "tags": []
   },
   "outputs": [],
   "source": [
    "#hide\n",
    "import numpy as np\n",
    "import pandas as pd\n",
    "from jinja2 import Template\n",
    "from IPython.display import HTML"
   ]
  },
  {
   "cell_type": "code",
   "execution_count": 2,
   "id": "developed-terminology",
   "metadata": {
    "execution": {
     "iopub.execute_input": "2022-08-31T00:56:57.093259Z",
     "iopub.status.busy": "2022-08-31T00:56:57.092696Z",
     "iopub.status.idle": "2022-08-31T00:56:57.094889Z",
     "shell.execute_reply": "2022-08-31T00:56:57.094347Z"
    },
    "papermill": {
     "duration": 0.035552,
     "end_time": "2022-08-31T00:56:57.094986",
     "exception": false,
     "start_time": "2022-08-31T00:56:57.059434",
     "status": "completed"
    },
    "tags": []
   },
   "outputs": [],
   "source": [
    "#hide\n",
    "\n",
    "# FETCH\n",
    "base_url = 'https://raw.githubusercontent.com/pratapvardhan/notebooks/master/covid19/'\n",
    "paths = {\n",
    "    'mapping': base_url + 'mapping_countries.csv',\n",
    "    'overview': base_url + 'overview.tpl'\n",
    "}"
   ]
  },
  {
   "cell_type": "code",
   "execution_count": 3,
   "id": "dynamic-saver",
   "metadata": {
    "execution": {
     "iopub.execute_input": "2022-08-31T00:56:57.163058Z",
     "iopub.status.busy": "2022-08-31T00:56:57.162467Z",
     "iopub.status.idle": "2022-08-31T00:56:57.164607Z",
     "shell.execute_reply": "2022-08-31T00:56:57.165169Z"
    },
    "papermill": {
     "duration": 0.040612,
     "end_time": "2022-08-31T00:56:57.165285",
     "exception": false,
     "start_time": "2022-08-31T00:56:57.124673",
     "status": "completed"
    },
    "tags": []
   },
   "outputs": [
    {
     "data": {
      "text/plain": [
       "'https://raw.githubusercontent.com/pratapvardhan/notebooks/master/covid19/mapping_countries.csv'"
      ]
     },
     "execution_count": 3,
     "metadata": {},
     "output_type": "execute_result"
    }
   ],
   "source": [
    "#hide\n",
    "paths['mapping']"
   ]
  },
  {
   "cell_type": "code",
   "execution_count": 4,
   "id": "urban-software",
   "metadata": {
    "execution": {
     "iopub.execute_input": "2022-08-31T00:56:57.229666Z",
     "iopub.status.busy": "2022-08-31T00:56:57.229091Z",
     "iopub.status.idle": "2022-08-31T00:56:57.231612Z",
     "shell.execute_reply": "2022-08-31T00:56:57.231144Z"
    },
    "papermill": {
     "duration": 0.036359,
     "end_time": "2022-08-31T00:56:57.231708",
     "exception": false,
     "start_time": "2022-08-31T00:56:57.195349",
     "status": "completed"
    },
    "tags": []
   },
   "outputs": [],
   "source": [
    "#hide\n",
    "def get_mappings(url):\n",
    "    df = pd.read_csv(url)\n",
    "    return {\n",
    "        'df': df,\n",
    "        'replace.country': dict(df.dropna(subset=['Name']).set_index('Country')['Name']),\n",
    "        'map.continent': dict(df.set_index('Name')['Continent'])\n",
    "    }"
   ]
  },
  {
   "cell_type": "code",
   "execution_count": 5,
   "id": "intimate-machinery",
   "metadata": {
    "execution": {
     "iopub.execute_input": "2022-08-31T00:56:57.295550Z",
     "iopub.status.busy": "2022-08-31T00:56:57.294967Z",
     "iopub.status.idle": "2022-08-31T00:56:57.332126Z",
     "shell.execute_reply": "2022-08-31T00:56:57.331670Z"
    },
    "papermill": {
     "duration": 0.07075,
     "end_time": "2022-08-31T00:56:57.332219",
     "exception": false,
     "start_time": "2022-08-31T00:56:57.261469",
     "status": "completed"
    },
    "tags": []
   },
   "outputs": [],
   "source": [
    "#hide\n",
    "mapping = get_mappings(paths['mapping'])"
   ]
  },
  {
   "cell_type": "code",
   "execution_count": 6,
   "id": "certified-tactics",
   "metadata": {
    "execution": {
     "iopub.execute_input": "2022-08-31T00:56:57.396211Z",
     "iopub.status.busy": "2022-08-31T00:56:57.395641Z",
     "iopub.status.idle": "2022-08-31T00:56:57.397968Z",
     "shell.execute_reply": "2022-08-31T00:56:57.397533Z"
    },
    "papermill": {
     "duration": 0.03599,
     "end_time": "2022-08-31T00:56:57.398059",
     "exception": false,
     "start_time": "2022-08-31T00:56:57.362069",
     "status": "completed"
    },
    "tags": []
   },
   "outputs": [],
   "source": [
    "#hide\n",
    "def get_template(path):\n",
    "    from urllib.parse import urlparse\n",
    "    if bool(urlparse(path).netloc):\n",
    "        from urllib.request import urlopen\n",
    "        return urlopen(path).read().decode('utf8')\n",
    "    return open(path).read()"
   ]
  },
  {
   "cell_type": "code",
   "execution_count": 7,
   "id": "realistic-blast",
   "metadata": {
    "execution": {
     "iopub.execute_input": "2022-08-31T00:56:57.461809Z",
     "iopub.status.busy": "2022-08-31T00:56:57.461253Z",
     "iopub.status.idle": "2022-08-31T00:56:57.463469Z",
     "shell.execute_reply": "2022-08-31T00:56:57.463911Z"
    },
    "papermill": {
     "duration": 0.036109,
     "end_time": "2022-08-31T00:56:57.464017",
     "exception": false,
     "start_time": "2022-08-31T00:56:57.427908",
     "status": "completed"
    },
    "tags": []
   },
   "outputs": [],
   "source": [
    "#hide\n",
    "def get_frame(name):\n",
    "    url = (\n",
    "        'https://raw.githubusercontent.com/CSSEGISandData/COVID-19/master/csse_covid_19_data/'\n",
    "        f'csse_covid_19_time_series/time_series_covid19_{name}_global.csv')\n",
    "    df = pd.read_csv(url)\n",
    "    # rename countries\n",
    "    df['Country/Region'] = df['Country/Region'].replace(mapping['replace.country'])\n",
    "    return df"
   ]
  },
  {
   "cell_type": "code",
   "execution_count": 8,
   "id": "affiliated-characterization",
   "metadata": {
    "execution": {
     "iopub.execute_input": "2022-08-31T00:56:57.528364Z",
     "iopub.status.busy": "2022-08-31T00:56:57.527799Z",
     "iopub.status.idle": "2022-08-31T00:56:57.530037Z",
     "shell.execute_reply": "2022-08-31T00:56:57.530457Z"
    },
    "papermill": {
     "duration": 0.036703,
     "end_time": "2022-08-31T00:56:57.530561",
     "exception": false,
     "start_time": "2022-08-31T00:56:57.493858",
     "status": "completed"
    },
    "tags": []
   },
   "outputs": [],
   "source": [
    "#hide\n",
    "def get_dates(df):\n",
    "    dt_cols = df.columns[~df.columns.isin(['Province/State', 'Country/Region', 'Lat', 'Long'])]\n",
    "    LAST_DATE_I = -1\n",
    "    # sometimes last column may be empty, then go backwards\n",
    "    for i in range(-1, -len(dt_cols), -1):\n",
    "        if not df[dt_cols[i]].fillna(0).eq(0).all():\n",
    "            LAST_DATE_I = i\n",
    "            break\n",
    "    return LAST_DATE_I, dt_cols"
   ]
  },
  {
   "cell_type": "code",
   "execution_count": 9,
   "id": "recent-optimization",
   "metadata": {
    "execution": {
     "iopub.execute_input": "2022-08-31T00:56:57.594173Z",
     "iopub.status.busy": "2022-08-31T00:56:57.593586Z",
     "iopub.status.idle": "2022-08-31T00:56:58.059374Z",
     "shell.execute_reply": "2022-08-31T00:56:58.058855Z"
    },
    "papermill": {
     "duration": 0.499331,
     "end_time": "2022-08-31T00:56:58.059509",
     "exception": false,
     "start_time": "2022-08-31T00:56:57.560178",
     "status": "completed"
    },
    "tags": []
   },
   "outputs": [],
   "source": [
    "#hide\n",
    "COL_REGION = 'Country/Region'\n",
    "# Confirmed, Recovered, Deaths\n",
    "df = get_frame('confirmed')\n",
    "# dft_: timeseries, dfc_: today country agg\n",
    "dft_cases = df\n",
    "dft_deaths = get_frame('deaths')\n",
    "dft_recovered = get_frame('recovered')\n",
    "LAST_DATE_I, dt_cols = get_dates(df)"
   ]
  },
  {
   "cell_type": "code",
   "execution_count": 10,
   "id": "absolute-copper",
   "metadata": {
    "execution": {
     "iopub.execute_input": "2022-08-31T00:56:58.124044Z",
     "iopub.status.busy": "2022-08-31T00:56:58.123352Z",
     "iopub.status.idle": "2022-08-31T00:56:58.125629Z",
     "shell.execute_reply": "2022-08-31T00:56:58.126086Z"
    },
    "papermill": {
     "duration": 0.036499,
     "end_time": "2022-08-31T00:56:58.126198",
     "exception": false,
     "start_time": "2022-08-31T00:56:58.089699",
     "status": "completed"
    },
    "tags": []
   },
   "outputs": [],
   "source": [
    "#hide\n",
    "LAST_DATE_I, dt_cols = get_dates(df)\n",
    "dt_today =dt_cols[LAST_DATE_I]\n",
    "# dt_5day = dt_cols[LAST_DATE_I - 5]\n",
    "dt_yday = dt_cols[LAST_DATE_I - 1]"
   ]
  },
  {
   "cell_type": "code",
   "execution_count": 11,
   "id": "restricted-sheriff",
   "metadata": {
    "execution": {
     "iopub.execute_input": "2022-08-31T00:56:58.191550Z",
     "iopub.status.busy": "2022-08-31T00:56:58.190951Z",
     "iopub.status.idle": "2022-08-31T00:56:58.196906Z",
     "shell.execute_reply": "2022-08-31T00:56:58.196370Z"
    },
    "papermill": {
     "duration": 0.041212,
     "end_time": "2022-08-31T00:56:58.197003",
     "exception": false,
     "start_time": "2022-08-31T00:56:58.155791",
     "status": "completed"
    },
    "tags": []
   },
   "outputs": [],
   "source": [
    "#hide\n",
    "dfc_cases = dft_cases.groupby(COL_REGION)[dt_today].sum()\n",
    "dfc_deaths = dft_deaths.groupby(COL_REGION)[dt_today].sum()\n",
    "# dfp_cases = dft_cases.groupby(COL_REGION)[dt_5day].sum()\n",
    "# dfp_deaths = dft_deaths.groupby(COL_REGION)[dt_5day].sum()\n",
    "dfp_cases = dft_cases.groupby(COL_REGION)[dt_yday].sum()\n",
    "dfp_deaths = dft_deaths.groupby(COL_REGION)[dt_yday].sum()"
   ]
  },
  {
   "cell_type": "code",
   "execution_count": 12,
   "id": "deluxe-hepatitis",
   "metadata": {
    "execution": {
     "iopub.execute_input": "2022-08-31T00:56:58.262859Z",
     "iopub.status.busy": "2022-08-31T00:56:58.260527Z",
     "iopub.status.idle": "2022-08-31T00:56:58.264943Z",
     "shell.execute_reply": "2022-08-31T00:56:58.265344Z"
    },
    "papermill": {
     "duration": 0.03859,
     "end_time": "2022-08-31T00:56:58.265453",
     "exception": false,
     "start_time": "2022-08-31T00:56:58.226863",
     "status": "completed"
    },
    "tags": []
   },
   "outputs": [],
   "source": [
    "#hide\n",
    "df_table = (pd.DataFrame(dict(Cases = dfc_cases, Deaths = dfc_deaths, PCases = dfp_cases, PDeaths = dfp_deaths))\n",
    "            .sort_values(by = ['Cases','Deaths'], ascending = [False, False])\n",
    "            .reset_index())"
   ]
  },
  {
   "cell_type": "code",
   "execution_count": 13,
   "id": "educational-chancellor",
   "metadata": {
    "execution": {
     "iopub.execute_input": "2022-08-31T00:56:58.336870Z",
     "iopub.status.busy": "2022-08-31T00:56:58.336312Z",
     "iopub.status.idle": "2022-08-31T00:56:58.348054Z",
     "shell.execute_reply": "2022-08-31T00:56:58.347619Z"
    },
    "papermill": {
     "duration": 0.052897,
     "end_time": "2022-08-31T00:56:58.348152",
     "exception": false,
     "start_time": "2022-08-31T00:56:58.295255",
     "status": "completed"
    },
    "tags": []
   },
   "outputs": [
    {
     "data": {
      "text/html": [
       "<div>\n",
       "<style scoped>\n",
       "    .dataframe tbody tr th:only-of-type {\n",
       "        vertical-align: middle;\n",
       "    }\n",
       "\n",
       "    .dataframe tbody tr th {\n",
       "        vertical-align: top;\n",
       "    }\n",
       "\n",
       "    .dataframe thead th {\n",
       "        text-align: right;\n",
       "    }\n",
       "</style>\n",
       "<table border=\"1\" class=\"dataframe\">\n",
       "  <thead>\n",
       "    <tr style=\"text-align: right;\">\n",
       "      <th></th>\n",
       "      <th>Country/Region</th>\n",
       "      <th>Cases</th>\n",
       "      <th>Deaths</th>\n",
       "      <th>PCases</th>\n",
       "      <th>PDeaths</th>\n",
       "      <th>Cases (+)</th>\n",
       "      <th>Deaths (+)</th>\n",
       "      <th>Fatality Rate</th>\n",
       "      <th>Continent</th>\n",
       "    </tr>\n",
       "  </thead>\n",
       "  <tbody>\n",
       "    <tr>\n",
       "      <th>0</th>\n",
       "      <td>US</td>\n",
       "      <td>94285683</td>\n",
       "      <td>1044373</td>\n",
       "      <td>94196390</td>\n",
       "      <td>1043881</td>\n",
       "      <td>89293</td>\n",
       "      <td>492</td>\n",
       "      <td>1.11</td>\n",
       "      <td>North America</td>\n",
       "    </tr>\n",
       "    <tr>\n",
       "      <th>1</th>\n",
       "      <td>India</td>\n",
       "      <td>44415723</td>\n",
       "      <td>527799</td>\n",
       "      <td>44415723</td>\n",
       "      <td>527799</td>\n",
       "      <td>0</td>\n",
       "      <td>0</td>\n",
       "      <td>1.19</td>\n",
       "      <td>Asia</td>\n",
       "    </tr>\n",
       "    <tr>\n",
       "      <th>2</th>\n",
       "      <td>France</td>\n",
       "      <td>34698583</td>\n",
       "      <td>155007</td>\n",
       "      <td>34662834</td>\n",
       "      <td>154897</td>\n",
       "      <td>35749</td>\n",
       "      <td>110</td>\n",
       "      <td>0.45</td>\n",
       "      <td>Europe</td>\n",
       "    </tr>\n",
       "    <tr>\n",
       "      <th>3</th>\n",
       "      <td>Brazil</td>\n",
       "      <td>34397205</td>\n",
       "      <td>683622</td>\n",
       "      <td>34368909</td>\n",
       "      <td>683397</td>\n",
       "      <td>28296</td>\n",
       "      <td>225</td>\n",
       "      <td>1.99</td>\n",
       "      <td>South America</td>\n",
       "    </tr>\n",
       "    <tr>\n",
       "      <th>4</th>\n",
       "      <td>Germany</td>\n",
       "      <td>32095854</td>\n",
       "      <td>147223</td>\n",
       "      <td>32041350</td>\n",
       "      <td>147104</td>\n",
       "      <td>54504</td>\n",
       "      <td>119</td>\n",
       "      <td>0.46</td>\n",
       "      <td>Europe</td>\n",
       "    </tr>\n",
       "  </tbody>\n",
       "</table>\n",
       "</div>"
      ],
      "text/plain": [
       "  Country/Region     Cases   Deaths    PCases  PDeaths  Cases (+)  Deaths (+)  \\\n",
       "0             US  94285683  1044373  94196390  1043881      89293         492   \n",
       "1          India  44415723   527799  44415723   527799          0           0   \n",
       "2         France  34698583   155007  34662834   154897      35749         110   \n",
       "3         Brazil  34397205   683622  34368909   683397      28296         225   \n",
       "4        Germany  32095854   147223  32041350   147104      54504         119   \n",
       "\n",
       "   Fatality Rate      Continent  \n",
       "0           1.11  North America  \n",
       "1           1.19           Asia  \n",
       "2           0.45         Europe  \n",
       "3           1.99  South America  \n",
       "4           0.46         Europe  "
      ]
     },
     "execution_count": 13,
     "metadata": {},
     "output_type": "execute_result"
    }
   ],
   "source": [
    "#hide\n",
    "for c in 'Cases, Deaths'.split(', '):\n",
    "    df_table[f'{c} (+)'] = (df_table[c] - df_table[f'P{c}']).clip(0)\n",
    "    #Clip ça veut dire, les chiffres negatif sont interdit\n",
    "df_table['Fatality Rate'] = (100* df_table['Deaths']/ df_table['Cases']).round(2)\n",
    "df_table['Continent'] = df_table['Country/Region'].map(mapping['map.continent'])\n",
    "df_table.head(5)"
   ]
  },
  {
   "cell_type": "code",
   "execution_count": 14,
   "id": "aboriginal-bulgaria",
   "metadata": {
    "execution": {
     "iopub.execute_input": "2022-08-31T00:56:58.413121Z",
     "iopub.status.busy": "2022-08-31T00:56:58.412568Z",
     "iopub.status.idle": "2022-08-31T00:56:58.415181Z",
     "shell.execute_reply": "2022-08-31T00:56:58.414652Z"
    },
    "papermill": {
     "duration": 0.036941,
     "end_time": "2022-08-31T00:56:58.415275",
     "exception": false,
     "start_time": "2022-08-31T00:56:58.378334",
     "status": "completed"
    },
    "tags": []
   },
   "outputs": [],
   "source": [
    "#hide\n",
    "#delete problematic countries from table\n",
    "df_table = df_table[~df_table['Country/Region'].isin(['Cape Verde', 'Cruise Ship', 'Kosovo'])]"
   ]
  },
  {
   "cell_type": "code",
   "execution_count": 15,
   "id": "fantastic-effect",
   "metadata": {
    "execution": {
     "iopub.execute_input": "2022-08-31T00:56:58.482293Z",
     "iopub.status.busy": "2022-08-31T00:56:58.481735Z",
     "iopub.status.idle": "2022-08-31T00:56:58.497936Z",
     "shell.execute_reply": "2022-08-31T00:56:58.498390Z"
    },
    "papermill": {
     "duration": 0.053112,
     "end_time": "2022-08-31T00:56:58.498496",
     "exception": false,
     "start_time": "2022-08-31T00:56:58.445384",
     "status": "completed"
    },
    "tags": []
   },
   "outputs": [
    {
     "data": {
      "text/html": [
       "<div>\n",
       "<style scoped>\n",
       "    .dataframe tbody tr th:only-of-type {\n",
       "        vertical-align: middle;\n",
       "    }\n",
       "\n",
       "    .dataframe tbody tr th {\n",
       "        vertical-align: top;\n",
       "    }\n",
       "\n",
       "    .dataframe thead th {\n",
       "        text-align: right;\n",
       "    }\n",
       "</style>\n",
       "<table border=\"1\" class=\"dataframe\">\n",
       "  <thead>\n",
       "    <tr style=\"text-align: right;\">\n",
       "      <th></th>\n",
       "      <th>Country/Region</th>\n",
       "      <th>Cases</th>\n",
       "      <th>Deaths</th>\n",
       "      <th>PCases</th>\n",
       "      <th>PDeaths</th>\n",
       "      <th>Cases (+)</th>\n",
       "      <th>Deaths (+)</th>\n",
       "      <th>Fatality Rate</th>\n",
       "      <th>Continent</th>\n",
       "    </tr>\n",
       "  </thead>\n",
       "  <tbody>\n",
       "    <tr>\n",
       "      <th>0</th>\n",
       "      <td>US</td>\n",
       "      <td>94285683</td>\n",
       "      <td>1044373</td>\n",
       "      <td>94196390</td>\n",
       "      <td>1043881</td>\n",
       "      <td>89293</td>\n",
       "      <td>492</td>\n",
       "      <td>1.1</td>\n",
       "      <td>North America</td>\n",
       "    </tr>\n",
       "    <tr>\n",
       "      <th>1</th>\n",
       "      <td>India</td>\n",
       "      <td>44415723</td>\n",
       "      <td>527799</td>\n",
       "      <td>44415723</td>\n",
       "      <td>527799</td>\n",
       "      <td>0</td>\n",
       "      <td>0</td>\n",
       "      <td>1.2</td>\n",
       "      <td>Asia</td>\n",
       "    </tr>\n",
       "    <tr>\n",
       "      <th>2</th>\n",
       "      <td>France</td>\n",
       "      <td>34698583</td>\n",
       "      <td>155007</td>\n",
       "      <td>34662834</td>\n",
       "      <td>154897</td>\n",
       "      <td>35749</td>\n",
       "      <td>110</td>\n",
       "      <td>0.4</td>\n",
       "      <td>Europe</td>\n",
       "    </tr>\n",
       "    <tr>\n",
       "      <th>3</th>\n",
       "      <td>Brazil</td>\n",
       "      <td>34397205</td>\n",
       "      <td>683622</td>\n",
       "      <td>34368909</td>\n",
       "      <td>683397</td>\n",
       "      <td>28296</td>\n",
       "      <td>225</td>\n",
       "      <td>2.0</td>\n",
       "      <td>South America</td>\n",
       "    </tr>\n",
       "    <tr>\n",
       "      <th>4</th>\n",
       "      <td>Germany</td>\n",
       "      <td>32095854</td>\n",
       "      <td>147223</td>\n",
       "      <td>32041350</td>\n",
       "      <td>147104</td>\n",
       "      <td>54504</td>\n",
       "      <td>119</td>\n",
       "      <td>0.5</td>\n",
       "      <td>Europe</td>\n",
       "    </tr>\n",
       "  </tbody>\n",
       "</table>\n",
       "</div>"
      ],
      "text/plain": [
       "  Country/Region     Cases   Deaths    PCases  PDeaths  Cases (+)  Deaths (+)  \\\n",
       "0             US  94285683  1044373  94196390  1043881      89293         492   \n",
       "1          India  44415723   527799  44415723   527799          0           0   \n",
       "2         France  34698583   155007  34662834   154897      35749         110   \n",
       "3         Brazil  34397205   683622  34368909   683397      28296         225   \n",
       "4        Germany  32095854   147223  32041350   147104      54504         119   \n",
       "\n",
       "   Fatality Rate      Continent  \n",
       "0            1.1  North America  \n",
       "1            1.2           Asia  \n",
       "2            0.4         Europe  \n",
       "3            2.0  South America  \n",
       "4            0.5         Europe  "
      ]
     },
     "execution_count": 15,
     "metadata": {},
     "output_type": "execute_result"
    }
   ],
   "source": [
    "#hide\n",
    "df_table = (pd.DataFrame(dict(Cases=dfc_cases, Deaths=dfc_deaths, PCases=dfp_cases, PDeaths=dfp_deaths))\n",
    "             .sort_values(by=['Cases', 'Deaths'], ascending=[False, False])\n",
    "             .reset_index())\n",
    "df_table.rename(columns={'index': 'Country/Region'}, inplace=True)\n",
    "for c in 'Cases, Deaths'.split(', '):\n",
    "    df_table[f'{c} (+)'] = (df_table[c] - df_table[f'P{c}']).clip(0)  # DATA BUG\n",
    "df_table['Fatality Rate'] = (100 * df_table['Deaths'] / df_table['Cases']).round(1)\n",
    "df_table['Continent'] = df_table['Country/Region'].map(mapping['map.continent'])\n",
    "df_table.head(5)"
   ]
  },
  {
   "cell_type": "code",
   "execution_count": 16,
   "id": "fewer-occasion",
   "metadata": {
    "execution": {
     "iopub.execute_input": "2022-08-31T00:56:58.566027Z",
     "iopub.status.busy": "2022-08-31T00:56:58.564769Z",
     "iopub.status.idle": "2022-08-31T00:56:58.566710Z",
     "shell.execute_reply": "2022-08-31T00:56:58.567133Z"
    },
    "papermill": {
     "duration": 0.037826,
     "end_time": "2022-08-31T00:56:58.567242",
     "exception": false,
     "start_time": "2022-08-31T00:56:58.529416",
     "status": "completed"
    },
    "tags": []
   },
   "outputs": [],
   "source": [
    "#hide\n",
    "#delete problematic countries from table\n",
    "df_table = df_table[~df_table['Country/Region'].isin(['Cape Verde', 'Cruise Ship', 'Kosovo'])]"
   ]
  },
  {
   "cell_type": "code",
   "execution_count": 17,
   "id": "related-center",
   "metadata": {
    "execution": {
     "iopub.execute_input": "2022-08-31T00:56:58.638305Z",
     "iopub.status.busy": "2022-08-31T00:56:58.637760Z",
     "iopub.status.idle": "2022-08-31T00:56:58.646863Z",
     "shell.execute_reply": "2022-08-31T00:56:58.647314Z"
    },
    "papermill": {
     "duration": 0.049415,
     "end_time": "2022-08-31T00:56:58.647421",
     "exception": false,
     "start_time": "2022-08-31T00:56:58.598006",
     "status": "completed"
    },
    "tags": []
   },
   "outputs": [],
   "source": [
    "#hide\n",
    "metrics = [df_table.columns[index] for index in [1,2,5,6]]\n",
    "# s_china = df_table[df_table['Country/Region'].eq('China')][metrics].sum().add_prefix('China ')\n",
    "s_us = df_table[df_table['Country/Region'].eq('US')][metrics].sum().add_prefix('US ')\n",
    "s_eu = df_table[df_table['Continent'].eq('Europe')][metrics].sum().add_prefix('EU ')\n",
    "s_ind = df_table[df_table['Country/Region'].eq('India')][metrics].sum().add_prefix('India ')\n",
    "summary = {'updated': pd.to_datetime(dt_today), 'since': pd.to_datetime(dt_yday)}\n",
    "summary = {'updated': pd.to_datetime(dt_today), 'since': pd.to_datetime(dt_yday)}\n",
    "summary = {**summary, **df_table[metrics].sum(), **s_ind, **s_us, **s_eu}"
   ]
  },
  {
   "cell_type": "code",
   "execution_count": 18,
   "id": "engaging-syndrome",
   "metadata": {
    "execution": {
     "iopub.execute_input": "2022-08-31T00:56:58.713115Z",
     "iopub.status.busy": "2022-08-31T00:56:58.712568Z",
     "iopub.status.idle": "2022-08-31T00:56:58.730409Z",
     "shell.execute_reply": "2022-08-31T00:56:58.730863Z"
    },
    "papermill": {
     "duration": 0.05283,
     "end_time": "2022-08-31T00:56:58.730970",
     "exception": false,
     "start_time": "2022-08-31T00:56:58.678140",
     "status": "completed"
    },
    "tags": []
   },
   "outputs": [],
   "source": [
    "#hide\n",
    "dft_ct_new_cases = dft_cases.groupby(COL_REGION)[dt_cols].sum().diff(axis=1).fillna(0).astype(int)"
   ]
  },
  {
   "cell_type": "code",
   "execution_count": 19,
   "id": "neutral-assignment",
   "metadata": {
    "execution": {
     "iopub.execute_input": "2022-08-31T00:56:58.797476Z",
     "iopub.status.busy": "2022-08-31T00:56:58.796906Z",
     "iopub.status.idle": "2022-08-31T00:56:58.799126Z",
     "shell.execute_reply": "2022-08-31T00:56:58.799559Z"
    },
    "papermill": {
     "duration": 0.038007,
     "end_time": "2022-08-31T00:56:58.799670",
     "exception": false,
     "start_time": "2022-08-31T00:56:58.761663",
     "status": "completed"
    },
    "tags": []
   },
   "outputs": [],
   "source": [
    "#hide\n",
    "everydaycases = dft_ct_new_cases.cumsum(axis=1)"
   ]
  },
  {
   "cell_type": "code",
   "execution_count": 20,
   "id": "parliamentary-calgary",
   "metadata": {
    "execution": {
     "iopub.execute_input": "2022-08-31T00:56:58.864546Z",
     "iopub.status.busy": "2022-08-31T00:56:58.863987Z",
     "iopub.status.idle": "2022-08-31T00:56:59.399715Z",
     "shell.execute_reply": "2022-08-31T00:56:59.399205Z"
    },
    "papermill": {
     "duration": 0.569462,
     "end_time": "2022-08-31T00:56:59.399832",
     "exception": false,
     "start_time": "2022-08-31T00:56:58.830370",
     "status": "completed"
    },
    "tags": []
   },
   "outputs": [],
   "source": [
    "#hide\n",
    "import pandas as pd\n",
    "import matplotlib.pyplot as plt\n",
    "import matplotlib.ticker as ticker\n",
    "import matplotlib.animation as animation\n",
    "from IPython.display import HTML"
   ]
  },
  {
   "cell_type": "code",
   "execution_count": 21,
   "id": "lasting-extraction",
   "metadata": {
    "execution": {
     "iopub.execute_input": "2022-08-31T00:56:59.467727Z",
     "iopub.status.busy": "2022-08-31T00:56:59.467140Z",
     "iopub.status.idle": "2022-08-31T00:56:59.474763Z",
     "shell.execute_reply": "2022-08-31T00:56:59.474222Z"
    },
    "papermill": {
     "duration": 0.043931,
     "end_time": "2022-08-31T00:56:59.474863",
     "exception": false,
     "start_time": "2022-08-31T00:56:59.430932",
     "status": "completed"
    },
    "tags": []
   },
   "outputs": [],
   "source": [
    "#hide\n",
    "t = everydaycases.stack()"
   ]
  },
  {
   "cell_type": "code",
   "execution_count": 22,
   "id": "premier-sleeve",
   "metadata": {
    "execution": {
     "iopub.execute_input": "2022-08-31T00:56:59.539873Z",
     "iopub.status.busy": "2022-08-31T00:56:59.539289Z",
     "iopub.status.idle": "2022-08-31T00:56:59.550807Z",
     "shell.execute_reply": "2022-08-31T00:56:59.550240Z"
    },
    "papermill": {
     "duration": 0.045266,
     "end_time": "2022-08-31T00:56:59.550908",
     "exception": false,
     "start_time": "2022-08-31T00:56:59.505642",
     "status": "completed"
    },
    "tags": []
   },
   "outputs": [],
   "source": [
    "#hide\n",
    "g = t.reset_index(['Country/Region'])"
   ]
  },
  {
   "cell_type": "code",
   "execution_count": 23,
   "id": "distributed-pittsburgh",
   "metadata": {
    "execution": {
     "iopub.execute_input": "2022-08-31T00:56:59.615915Z",
     "iopub.status.busy": "2022-08-31T00:56:59.615324Z",
     "iopub.status.idle": "2022-08-31T00:56:59.617825Z",
     "shell.execute_reply": "2022-08-31T00:56:59.617204Z"
    },
    "papermill": {
     "duration": 0.036418,
     "end_time": "2022-08-31T00:56:59.617922",
     "exception": false,
     "start_time": "2022-08-31T00:56:59.581504",
     "status": "completed"
    },
    "tags": []
   },
   "outputs": [],
   "source": [
    "#hide\n",
    "g.index.name = 'date'"
   ]
  },
  {
   "cell_type": "code",
   "execution_count": 24,
   "id": "naked-donor",
   "metadata": {
    "execution": {
     "iopub.execute_input": "2022-08-31T00:56:59.682282Z",
     "iopub.status.busy": "2022-08-31T00:56:59.681732Z",
     "iopub.status.idle": "2022-08-31T00:56:59.685273Z",
     "shell.execute_reply": "2022-08-31T00:56:59.684799Z"
    },
    "papermill": {
     "duration": 0.036799,
     "end_time": "2022-08-31T00:56:59.685370",
     "exception": false,
     "start_time": "2022-08-31T00:56:59.648571",
     "status": "completed"
    },
    "tags": []
   },
   "outputs": [],
   "source": [
    "# #hide\n",
    "# g = g.reset_index(['date'])"
   ]
  },
  {
   "cell_type": "code",
   "execution_count": 25,
   "id": "incomplete-mustang",
   "metadata": {
    "execution": {
     "iopub.execute_input": "2022-08-31T00:56:59.749944Z",
     "iopub.status.busy": "2022-08-31T00:56:59.749376Z",
     "iopub.status.idle": "2022-08-31T00:56:59.751745Z",
     "shell.execute_reply": "2022-08-31T00:56:59.751196Z"
    },
    "papermill": {
     "duration": 0.035838,
     "end_time": "2022-08-31T00:56:59.751842",
     "exception": false,
     "start_time": "2022-08-31T00:56:59.716004",
     "status": "completed"
    },
    "tags": []
   },
   "outputs": [],
   "source": [
    "#hide\n",
    "# g.head()"
   ]
  },
  {
   "cell_type": "code",
   "execution_count": 26,
   "id": "specific-kruger",
   "metadata": {
    "execution": {
     "iopub.execute_input": "2022-08-31T00:56:59.816441Z",
     "iopub.status.busy": "2022-08-31T00:56:59.815876Z",
     "iopub.status.idle": "2022-08-31T00:56:59.818353Z",
     "shell.execute_reply": "2022-08-31T00:56:59.817829Z"
    },
    "papermill": {
     "duration": 0.035882,
     "end_time": "2022-08-31T00:56:59.818448",
     "exception": false,
     "start_time": "2022-08-31T00:56:59.782566",
     "status": "completed"
    },
    "tags": []
   },
   "outputs": [],
   "source": [
    "#hide\n",
    "# g.columns = ['date','country','cases']"
   ]
  },
  {
   "cell_type": "code",
   "execution_count": 27,
   "id": "tender-conversion",
   "metadata": {
    "execution": {
     "iopub.execute_input": "2022-08-31T00:56:59.882881Z",
     "iopub.status.busy": "2022-08-31T00:56:59.882309Z",
     "iopub.status.idle": "2022-08-31T00:56:59.884816Z",
     "shell.execute_reply": "2022-08-31T00:56:59.884292Z"
    },
    "papermill": {
     "duration": 0.03592,
     "end_time": "2022-08-31T00:56:59.884910",
     "exception": false,
     "start_time": "2022-08-31T00:56:59.848990",
     "status": "completed"
    },
    "tags": []
   },
   "outputs": [],
   "source": [
    "#hide\n",
    "# g['continent'] = g.country"
   ]
  },
  {
   "cell_type": "code",
   "execution_count": 28,
   "id": "substantial-wilderness",
   "metadata": {
    "execution": {
     "iopub.execute_input": "2022-08-31T00:56:59.949852Z",
     "iopub.status.busy": "2022-08-31T00:56:59.949296Z",
     "iopub.status.idle": "2022-08-31T00:56:59.951843Z",
     "shell.execute_reply": "2022-08-31T00:56:59.951301Z"
    },
    "papermill": {
     "duration": 0.036171,
     "end_time": "2022-08-31T00:56:59.951939",
     "exception": false,
     "start_time": "2022-08-31T00:56:59.915768",
     "status": "completed"
    },
    "tags": []
   },
   "outputs": [],
   "source": [
    "#hide\n",
    "# cols = list(g.columns.values)"
   ]
  },
  {
   "cell_type": "code",
   "execution_count": 29,
   "id": "solved-farming",
   "metadata": {
    "execution": {
     "iopub.execute_input": "2022-08-31T00:57:00.016742Z",
     "iopub.status.busy": "2022-08-31T00:57:00.016192Z",
     "iopub.status.idle": "2022-08-31T00:57:00.018578Z",
     "shell.execute_reply": "2022-08-31T00:57:00.018055Z"
    },
    "papermill": {
     "duration": 0.03575,
     "end_time": "2022-08-31T00:57:00.018671",
     "exception": false,
     "start_time": "2022-08-31T00:56:59.982921",
     "status": "completed"
    },
    "tags": []
   },
   "outputs": [],
   "source": [
    "#hide\n",
    "# cols.insert(0, cols.pop())"
   ]
  },
  {
   "cell_type": "code",
   "execution_count": 30,
   "id": "executed-adoption",
   "metadata": {
    "execution": {
     "iopub.execute_input": "2022-08-31T00:57:00.083314Z",
     "iopub.status.busy": "2022-08-31T00:57:00.082745Z",
     "iopub.status.idle": "2022-08-31T00:57:00.085217Z",
     "shell.execute_reply": "2022-08-31T00:57:00.084691Z"
    },
    "papermill": {
     "duration": 0.035952,
     "end_time": "2022-08-31T00:57:00.085311",
     "exception": false,
     "start_time": "2022-08-31T00:57:00.049359",
     "status": "completed"
    },
    "tags": []
   },
   "outputs": [],
   "source": [
    "#hide\n",
    "# g = g[cols]"
   ]
  },
  {
   "cell_type": "code",
   "execution_count": 31,
   "id": "subject-dublin",
   "metadata": {
    "execution": {
     "iopub.execute_input": "2022-08-31T00:57:00.149808Z",
     "iopub.status.busy": "2022-08-31T00:57:00.149234Z",
     "iopub.status.idle": "2022-08-31T00:57:00.151683Z",
     "shell.execute_reply": "2022-08-31T00:57:00.151133Z"
    },
    "papermill": {
     "duration": 0.035734,
     "end_time": "2022-08-31T00:57:00.151781",
     "exception": false,
     "start_time": "2022-08-31T00:57:00.116047",
     "status": "completed"
    },
    "tags": []
   },
   "outputs": [],
   "source": [
    "#hide\n",
    "# g['continent'] = g['continent'].map(mapping['map.continent'])"
   ]
  },
  {
   "cell_type": "code",
   "execution_count": 32,
   "id": "freelance-scout",
   "metadata": {
    "execution": {
     "iopub.execute_input": "2022-08-31T00:57:00.216202Z",
     "iopub.status.busy": "2022-08-31T00:57:00.215640Z",
     "iopub.status.idle": "2022-08-31T00:57:00.218086Z",
     "shell.execute_reply": "2022-08-31T00:57:00.217558Z"
    },
    "papermill": {
     "duration": 0.03566,
     "end_time": "2022-08-31T00:57:00.218178",
     "exception": false,
     "start_time": "2022-08-31T00:57:00.182518",
     "status": "completed"
    },
    "tags": []
   },
   "outputs": [],
   "source": [
    "#hide\n",
    "# g.head()"
   ]
  },
  {
   "cell_type": "code",
   "execution_count": 33,
   "id": "limited-engine",
   "metadata": {
    "execution": {
     "iopub.execute_input": "2022-08-31T00:57:00.282648Z",
     "iopub.status.busy": "2022-08-31T00:57:00.282075Z",
     "iopub.status.idle": "2022-08-31T00:57:00.284140Z",
     "shell.execute_reply": "2022-08-31T00:57:00.284559Z"
    },
    "papermill": {
     "duration": 0.035844,
     "end_time": "2022-08-31T00:57:00.284664",
     "exception": false,
     "start_time": "2022-08-31T00:57:00.248820",
     "status": "completed"
    },
    "tags": []
   },
   "outputs": [],
   "source": [
    "# hide\n",
    "# g['date'] = g['date'].astype('datetime64[ns]')"
   ]
  },
  {
   "cell_type": "code",
   "execution_count": 34,
   "id": "sophisticated-supervisor",
   "metadata": {
    "execution": {
     "iopub.execute_input": "2022-08-31T00:57:00.349311Z",
     "iopub.status.busy": "2022-08-31T00:57:00.348744Z",
     "iopub.status.idle": "2022-08-31T00:57:00.351385Z",
     "shell.execute_reply": "2022-08-31T00:57:00.350663Z"
    },
    "papermill": {
     "duration": 0.036046,
     "end_time": "2022-08-31T00:57:00.351498",
     "exception": false,
     "start_time": "2022-08-31T00:57:00.315452",
     "status": "completed"
    },
    "tags": []
   },
   "outputs": [],
   "source": [
    "#hide\n",
    "# g['date'] = g.date.dt.dayofyear"
   ]
  },
  {
   "cell_type": "code",
   "execution_count": 35,
   "id": "inside-dubai",
   "metadata": {
    "execution": {
     "iopub.execute_input": "2022-08-31T00:57:00.416063Z",
     "iopub.status.busy": "2022-08-31T00:57:00.415479Z",
     "iopub.status.idle": "2022-08-31T00:57:00.417548Z",
     "shell.execute_reply": "2022-08-31T00:57:00.417962Z"
    },
    "papermill": {
     "duration": 0.035912,
     "end_time": "2022-08-31T00:57:00.418065",
     "exception": false,
     "start_time": "2022-08-31T00:57:00.382153",
     "status": "completed"
    },
    "tags": []
   },
   "outputs": [],
   "source": [
    "#hide\n",
    "# g = g.rename(columns= {'continent':'group','country':'name','cases':'value'})"
   ]
  },
  {
   "cell_type": "code",
   "execution_count": 36,
   "id": "fleet-motorcycle",
   "metadata": {
    "execution": {
     "iopub.execute_input": "2022-08-31T00:57:00.482522Z",
     "iopub.status.busy": "2022-08-31T00:57:00.481945Z",
     "iopub.status.idle": "2022-08-31T00:57:00.484373Z",
     "shell.execute_reply": "2022-08-31T00:57:00.483908Z"
    },
    "papermill": {
     "duration": 0.035658,
     "end_time": "2022-08-31T00:57:00.484466",
     "exception": false,
     "start_time": "2022-08-31T00:57:00.448808",
     "status": "completed"
    },
    "tags": []
   },
   "outputs": [],
   "source": [
    "#hide\n",
    "# cols = ['name','group','day','value']"
   ]
  },
  {
   "cell_type": "code",
   "execution_count": 37,
   "id": "continued-sleeping",
   "metadata": {
    "execution": {
     "iopub.execute_input": "2022-08-31T00:57:00.548700Z",
     "iopub.status.busy": "2022-08-31T00:57:00.548138Z",
     "iopub.status.idle": "2022-08-31T00:57:00.550542Z",
     "shell.execute_reply": "2022-08-31T00:57:00.550016Z"
    },
    "papermill": {
     "duration": 0.035677,
     "end_time": "2022-08-31T00:57:00.550636",
     "exception": false,
     "start_time": "2022-08-31T00:57:00.514959",
     "status": "completed"
    },
    "tags": []
   },
   "outputs": [],
   "source": [
    "#hide\n",
    "# g.rename(columns= {'date':'day'},inplace = True)"
   ]
  },
  {
   "cell_type": "code",
   "execution_count": 38,
   "id": "major-fight",
   "metadata": {
    "execution": {
     "iopub.execute_input": "2022-08-31T00:57:00.614939Z",
     "iopub.status.busy": "2022-08-31T00:57:00.614373Z",
     "iopub.status.idle": "2022-08-31T00:57:00.616986Z",
     "shell.execute_reply": "2022-08-31T00:57:00.616296Z"
    },
    "papermill": {
     "duration": 0.035655,
     "end_time": "2022-08-31T00:57:00.617088",
     "exception": false,
     "start_time": "2022-08-31T00:57:00.581433",
     "status": "completed"
    },
    "tags": []
   },
   "outputs": [],
   "source": [
    "#hide\n",
    "# g = g[cols]"
   ]
  },
  {
   "cell_type": "code",
   "execution_count": 39,
   "id": "structured-mobile",
   "metadata": {
    "execution": {
     "iopub.execute_input": "2022-08-31T00:57:00.681438Z",
     "iopub.status.busy": "2022-08-31T00:57:00.680868Z",
     "iopub.status.idle": "2022-08-31T00:57:00.683280Z",
     "shell.execute_reply": "2022-08-31T00:57:00.682845Z"
    },
    "papermill": {
     "duration": 0.035668,
     "end_time": "2022-08-31T00:57:00.683372",
     "exception": false,
     "start_time": "2022-08-31T00:57:00.647704",
     "status": "completed"
    },
    "tags": []
   },
   "outputs": [],
   "source": [
    "# #hide\n",
    "# g = g[g.group.notna()]"
   ]
  },
  {
   "cell_type": "code",
   "execution_count": 40,
   "id": "determined-closing",
   "metadata": {
    "execution": {
     "iopub.execute_input": "2022-08-31T00:57:00.747937Z",
     "iopub.status.busy": "2022-08-31T00:57:00.747341Z",
     "iopub.status.idle": "2022-08-31T00:57:00.749680Z",
     "shell.execute_reply": "2022-08-31T00:57:00.749155Z"
    },
    "papermill": {
     "duration": 0.035578,
     "end_time": "2022-08-31T00:57:00.749774",
     "exception": false,
     "start_time": "2022-08-31T00:57:00.714196",
     "status": "completed"
    },
    "tags": []
   },
   "outputs": [],
   "source": [
    "# #hide\n",
    "# colors = dict(zip(\n",
    "#     [\"Oceania\", \"Europe\", \"Asia\", \"South America\", \"Middle East\", \"North America\", \"Africa\"],\n",
    "#     [\"#adb0ff\", \"#ffb3ff\", \"#90d595\", \"#e48381\", \"#aafbff\", \"#f7bb5f\", \"#eafb50\"]\n",
    "# ))\n",
    "# group_lk = g.set_index('name')['group'].to_dict()"
   ]
  },
  {
   "cell_type": "code",
   "execution_count": null,
   "id": "gross-drinking",
   "metadata": {
    "papermill": {
     "duration": 0.030451,
     "end_time": "2022-08-31T00:57:00.810816",
     "exception": false,
     "start_time": "2022-08-31T00:57:00.780365",
     "status": "completed"
    },
    "tags": []
   },
   "outputs": [],
   "source": []
  },
  {
   "cell_type": "code",
   "execution_count": 41,
   "id": "subject-macintosh",
   "metadata": {
    "execution": {
     "iopub.execute_input": "2022-08-31T00:57:00.875877Z",
     "iopub.status.busy": "2022-08-31T00:57:00.875258Z",
     "iopub.status.idle": "2022-08-31T00:57:00.877589Z",
     "shell.execute_reply": "2022-08-31T00:57:00.877062Z"
    },
    "papermill": {
     "duration": 0.036201,
     "end_time": "2022-08-31T00:57:00.877680",
     "exception": false,
     "start_time": "2022-08-31T00:57:00.841479",
     "status": "completed"
    },
    "tags": []
   },
   "outputs": [],
   "source": [
    "# #hide\n",
    "# fig, ax = plt.subplots(figsize=(15, 8))\n",
    "\n",
    "# def draw_barchart(current_day):\n",
    "#     dff = g[g['day'].eq(current_day)].sort_values(by='value', ascending=True).tail(10)\n",
    "#     ax.clear()\n",
    "#     ax.barh(dff['name'], dff['value'], color=[colors[group_lk[x]] for x in dff['name']])\n",
    "#     dx = dff['value'].max() / 200\n",
    "    \n",
    "#     for i, (value, name) in enumerate(zip(dff['value'], dff['name'])):\n",
    "#         ax.text(value-dx, i,     name,           size=14, weight=600, ha='right', va='bottom')\n",
    "#         ax.text(value-dx, i-.25, group_lk[name], size=10, color='#444444', ha='right', va='baseline')\n",
    "#         ax.text(value+dx, i,     f'{value:,.0f}',  size=14, ha='left',  va='center')\n",
    "#     ax.text(1, 0.4, current_day, transform=ax.transAxes, color='#777777', size=46, ha='right', weight=800)\n",
    "#     ax.text(0, 1.06, 'Population (thousands)', transform=ax.transAxes, size=12, color='#777777')\n",
    "#     ax.xaxis.set_major_formatter(ticker.StrMethodFormatter('{x:,.0f}'))\n",
    "#     ax.xaxis.set_ticks_position('top')\n",
    "#     ax.tick_params(axis='x', colors='#777777', labelsize=12)\n",
    "#     ax.set_yticks([])\n",
    "#     ax.margins(0, 0.01)\n",
    "#     ax.grid(which='major', axis='x', linestyle='-')\n",
    "#     ax.set_axisbelow(True)\n",
    "    \n",
    "#     ax.text(0, 1.15, 'Coronavirus',\n",
    "#             transform=ax.transAxes, size=24, weight=600, ha='left', va='top')\n",
    "# #     ax.text(1, 0, 'by @pratapvardhan; credit @jburnmurdoch', transform=ax.transAxes, color='#777777', ha='right',\n",
    "# #             bbox=dict(facecolor='white', alpha=0.8, edgecolor='white'))\n",
    "#     plt.box(False)"
   ]
  },
  {
   "cell_type": "code",
   "execution_count": 42,
   "id": "sexual-wages",
   "metadata": {
    "execution": {
     "iopub.execute_input": "2022-08-31T00:57:00.942213Z",
     "iopub.status.busy": "2022-08-31T00:57:00.941638Z",
     "iopub.status.idle": "2022-08-31T00:57:00.944072Z",
     "shell.execute_reply": "2022-08-31T00:57:00.943629Z"
    },
    "papermill": {
     "duration": 0.035794,
     "end_time": "2022-08-31T00:57:00.944164",
     "exception": false,
     "start_time": "2022-08-31T00:57:00.908370",
     "status": "completed"
    },
    "tags": []
   },
   "outputs": [],
   "source": [
    "# #hide_input\n",
    "# fig, ax = plt.subplots(figsize=(15, 8))\n",
    "# animator = animation.FuncAnimation(fig, draw_barchart, frames=range(g.day.values.min(), g.day.values.max()))\n",
    "# HTML(animator.to_jshtml())\n",
    "# # or use animator.to_html5_video() or animator.save() "
   ]
  },
  {
   "cell_type": "code",
   "execution_count": null,
   "id": "australian-container",
   "metadata": {
    "papermill": {
     "duration": 0.030927,
     "end_time": "2022-08-31T00:57:01.005852",
     "exception": false,
     "start_time": "2022-08-31T00:57:00.974925",
     "status": "completed"
    },
    "tags": []
   },
   "outputs": [],
   "source": []
  },
  {
   "cell_type": "code",
   "execution_count": null,
   "id": "mediterranean-pontiac",
   "metadata": {
    "papermill": {
     "duration": 0.030473,
     "end_time": "2022-08-31T00:57:01.066852",
     "exception": false,
     "start_time": "2022-08-31T00:57:01.036379",
     "status": "completed"
    },
    "tags": []
   },
   "outputs": [],
   "source": []
  },
  {
   "cell_type": "code",
   "execution_count": null,
   "id": "aging-legislature",
   "metadata": {
    "papermill": {
     "duration": 0.030533,
     "end_time": "2022-08-31T00:57:01.128247",
     "exception": false,
     "start_time": "2022-08-31T00:57:01.097714",
     "status": "completed"
    },
    "tags": []
   },
   "outputs": [],
   "source": []
  }
 ],
 "metadata": {
  "kernelspec": {
   "display_name": "Python 3",
   "language": "python",
   "name": "python3"
  },
  "language_info": {
   "codemirror_mode": {
    "name": "ipython",
    "version": 3
   },
   "file_extension": ".py",
   "mimetype": "text/x-python",
   "name": "python",
   "nbconvert_exporter": "python",
   "pygments_lexer": "ipython3",
   "version": "3.6.15"
  },
  "papermill": {
   "duration": 5.778937,
   "end_time": "2022-08-31T00:57:01.477184",
   "environment_variables": {},
   "exception": null,
   "input_path": "2020-03-21-covid19exp.ipynb",
   "output_path": "2020-03-21-covid19exp.ipynb",
   "parameters": {},
   "start_time": "2022-08-31T00:56:55.698247",
   "version": "2.0.0"
  }
 },
 "nbformat": 4,
 "nbformat_minor": 5
}