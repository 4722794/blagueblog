{
 "cells": [
  {
   "cell_type": "markdown",
   "id": "muslim-click",
   "metadata": {
    "papermill": {
     "duration": 0.043771,
     "end_time": "2022-03-20T00:33:56.607699",
     "exception": false,
     "start_time": "2022-03-20T00:33:56.563928",
     "status": "completed"
    },
    "tags": []
   },
   "source": [
    "# COVID-19 Case Race\n",
    "> A race chart to see rising cases around the world\n",
    "\n",
    "- author: Hargun Oberoi\n",
    "- image: images/covid-overview.png\n",
    "- hide: false\n",
    "- badges: false"
   ]
  },
  {
   "cell_type": "code",
   "execution_count": 1,
   "id": "proof-material",
   "metadata": {
    "execution": {
     "iopub.execute_input": "2022-03-20T00:33:56.700848Z",
     "iopub.status.busy": "2022-03-20T00:33:56.700131Z",
     "iopub.status.idle": "2022-03-20T00:33:57.150405Z",
     "shell.execute_reply": "2022-03-20T00:33:57.149797Z"
    },
    "papermill": {
     "duration": 0.501136,
     "end_time": "2022-03-20T00:33:57.150595",
     "exception": false,
     "start_time": "2022-03-20T00:33:56.649459",
     "status": "completed"
    },
    "tags": []
   },
   "outputs": [],
   "source": [
    "#hide\n",
    "import numpy as np\n",
    "import pandas as pd\n",
    "from jinja2 import Template\n",
    "from IPython.display import HTML"
   ]
  },
  {
   "cell_type": "code",
   "execution_count": 2,
   "id": "developed-terminology",
   "metadata": {
    "execution": {
     "iopub.execute_input": "2022-03-20T00:33:57.235981Z",
     "iopub.status.busy": "2022-03-20T00:33:57.235220Z",
     "iopub.status.idle": "2022-03-20T00:33:57.239388Z",
     "shell.execute_reply": "2022-03-20T00:33:57.239933Z"
    },
    "papermill": {
     "duration": 0.051088,
     "end_time": "2022-03-20T00:33:57.240112",
     "exception": false,
     "start_time": "2022-03-20T00:33:57.189024",
     "status": "completed"
    },
    "tags": []
   },
   "outputs": [],
   "source": [
    "#hide\n",
    "\n",
    "# FETCH\n",
    "base_url = 'https://raw.githubusercontent.com/pratapvardhan/notebooks/master/covid19/'\n",
    "paths = {\n",
    "    'mapping': base_url + 'mapping_countries.csv',\n",
    "    'overview': base_url + 'overview.tpl'\n",
    "}"
   ]
  },
  {
   "cell_type": "code",
   "execution_count": 3,
   "id": "dynamic-saver",
   "metadata": {
    "execution": {
     "iopub.execute_input": "2022-03-20T00:33:57.332361Z",
     "iopub.status.busy": "2022-03-20T00:33:57.331602Z",
     "iopub.status.idle": "2022-03-20T00:33:57.334669Z",
     "shell.execute_reply": "2022-03-20T00:33:57.335226Z"
    },
    "papermill": {
     "duration": 0.056026,
     "end_time": "2022-03-20T00:33:57.335399",
     "exception": false,
     "start_time": "2022-03-20T00:33:57.279373",
     "status": "completed"
    },
    "tags": []
   },
   "outputs": [
    {
     "data": {
      "text/plain": [
       "'https://raw.githubusercontent.com/pratapvardhan/notebooks/master/covid19/mapping_countries.csv'"
      ]
     },
     "execution_count": 3,
     "metadata": {},
     "output_type": "execute_result"
    }
   ],
   "source": [
    "#hide\n",
    "paths['mapping']"
   ]
  },
  {
   "cell_type": "code",
   "execution_count": 4,
   "id": "urban-software",
   "metadata": {
    "execution": {
     "iopub.execute_input": "2022-03-20T00:33:57.421211Z",
     "iopub.status.busy": "2022-03-20T00:33:57.420386Z",
     "iopub.status.idle": "2022-03-20T00:33:57.424885Z",
     "shell.execute_reply": "2022-03-20T00:33:57.424365Z"
    },
    "papermill": {
     "duration": 0.049627,
     "end_time": "2022-03-20T00:33:57.425051",
     "exception": false,
     "start_time": "2022-03-20T00:33:57.375424",
     "status": "completed"
    },
    "tags": []
   },
   "outputs": [],
   "source": [
    "#hide\n",
    "def get_mappings(url):\n",
    "    df = pd.read_csv(url)\n",
    "    return {\n",
    "        'df': df,\n",
    "        'replace.country': dict(df.dropna(subset=['Name']).set_index('Country')['Name']),\n",
    "        'map.continent': dict(df.set_index('Name')['Continent'])\n",
    "    }"
   ]
  },
  {
   "cell_type": "code",
   "execution_count": 5,
   "id": "intimate-machinery",
   "metadata": {
    "execution": {
     "iopub.execute_input": "2022-03-20T00:33:57.511043Z",
     "iopub.status.busy": "2022-03-20T00:33:57.510306Z",
     "iopub.status.idle": "2022-03-20T00:33:57.542529Z",
     "shell.execute_reply": "2022-03-20T00:33:57.543129Z"
    },
    "papermill": {
     "duration": 0.079122,
     "end_time": "2022-03-20T00:33:57.543311",
     "exception": false,
     "start_time": "2022-03-20T00:33:57.464189",
     "status": "completed"
    },
    "tags": []
   },
   "outputs": [],
   "source": [
    "#hide\n",
    "mapping = get_mappings(paths['mapping'])"
   ]
  },
  {
   "cell_type": "code",
   "execution_count": 6,
   "id": "certified-tactics",
   "metadata": {
    "execution": {
     "iopub.execute_input": "2022-03-20T00:33:57.633439Z",
     "iopub.status.busy": "2022-03-20T00:33:57.632659Z",
     "iopub.status.idle": "2022-03-20T00:33:57.635501Z",
     "shell.execute_reply": "2022-03-20T00:33:57.634930Z"
    },
    "papermill": {
     "duration": 0.049963,
     "end_time": "2022-03-20T00:33:57.635646",
     "exception": false,
     "start_time": "2022-03-20T00:33:57.585683",
     "status": "completed"
    },
    "tags": []
   },
   "outputs": [],
   "source": [
    "#hide\n",
    "def get_template(path):\n",
    "    from urllib.parse import urlparse\n",
    "    if bool(urlparse(path).netloc):\n",
    "        from urllib.request import urlopen\n",
    "        return urlopen(path).read().decode('utf8')\n",
    "    return open(path).read()"
   ]
  },
  {
   "cell_type": "code",
   "execution_count": 7,
   "id": "realistic-blast",
   "metadata": {
    "execution": {
     "iopub.execute_input": "2022-03-20T00:33:57.722699Z",
     "iopub.status.busy": "2022-03-20T00:33:57.721913Z",
     "iopub.status.idle": "2022-03-20T00:33:57.724589Z",
     "shell.execute_reply": "2022-03-20T00:33:57.724046Z"
    },
    "papermill": {
     "duration": 0.049115,
     "end_time": "2022-03-20T00:33:57.724753",
     "exception": false,
     "start_time": "2022-03-20T00:33:57.675638",
     "status": "completed"
    },
    "tags": []
   },
   "outputs": [],
   "source": [
    "#hide\n",
    "def get_frame(name):\n",
    "    url = (\n",
    "        'https://raw.githubusercontent.com/CSSEGISandData/COVID-19/master/csse_covid_19_data/'\n",
    "        f'csse_covid_19_time_series/time_series_covid19_{name}_global.csv')\n",
    "    df = pd.read_csv(url)\n",
    "    # rename countries\n",
    "    df['Country/Region'] = df['Country/Region'].replace(mapping['replace.country'])\n",
    "    return df"
   ]
  },
  {
   "cell_type": "code",
   "execution_count": 8,
   "id": "affiliated-characterization",
   "metadata": {
    "execution": {
     "iopub.execute_input": "2022-03-20T00:33:57.812232Z",
     "iopub.status.busy": "2022-03-20T00:33:57.811455Z",
     "iopub.status.idle": "2022-03-20T00:33:57.816387Z",
     "shell.execute_reply": "2022-03-20T00:33:57.815529Z"
    },
    "papermill": {
     "duration": 0.051587,
     "end_time": "2022-03-20T00:33:57.816555",
     "exception": false,
     "start_time": "2022-03-20T00:33:57.764968",
     "status": "completed"
    },
    "tags": []
   },
   "outputs": [],
   "source": [
    "#hide\n",
    "def get_dates(df):\n",
    "    dt_cols = df.columns[~df.columns.isin(['Province/State', 'Country/Region', 'Lat', 'Long'])]\n",
    "    LAST_DATE_I = -1\n",
    "    # sometimes last column may be empty, then go backwards\n",
    "    for i in range(-1, -len(dt_cols), -1):\n",
    "        if not df[dt_cols[i]].fillna(0).eq(0).all():\n",
    "            LAST_DATE_I = i\n",
    "            break\n",
    "    return LAST_DATE_I, dt_cols"
   ]
  },
  {
   "cell_type": "code",
   "execution_count": 9,
   "id": "recent-optimization",
   "metadata": {
    "execution": {
     "iopub.execute_input": "2022-03-20T00:33:57.902097Z",
     "iopub.status.busy": "2022-03-20T00:33:57.901419Z",
     "iopub.status.idle": "2022-03-20T00:33:58.354838Z",
     "shell.execute_reply": "2022-03-20T00:33:58.354174Z"
    },
    "papermill": {
     "duration": 0.498806,
     "end_time": "2022-03-20T00:33:58.355000",
     "exception": false,
     "start_time": "2022-03-20T00:33:57.856194",
     "status": "completed"
    },
    "tags": []
   },
   "outputs": [],
   "source": [
    "#hide\n",
    "COL_REGION = 'Country/Region'\n",
    "# Confirmed, Recovered, Deaths\n",
    "df = get_frame('confirmed')\n",
    "# dft_: timeseries, dfc_: today country agg\n",
    "dft_cases = df\n",
    "dft_deaths = get_frame('deaths')\n",
    "dft_recovered = get_frame('recovered')\n",
    "LAST_DATE_I, dt_cols = get_dates(df)"
   ]
  },
  {
   "cell_type": "code",
   "execution_count": 10,
   "id": "absolute-copper",
   "metadata": {
    "execution": {
     "iopub.execute_input": "2022-03-20T00:33:58.443376Z",
     "iopub.status.busy": "2022-03-20T00:33:58.442626Z",
     "iopub.status.idle": "2022-03-20T00:33:58.446567Z",
     "shell.execute_reply": "2022-03-20T00:33:58.445881Z"
    },
    "papermill": {
     "duration": 0.051156,
     "end_time": "2022-03-20T00:33:58.446756",
     "exception": false,
     "start_time": "2022-03-20T00:33:58.395600",
     "status": "completed"
    },
    "tags": []
   },
   "outputs": [],
   "source": [
    "#hide\n",
    "LAST_DATE_I, dt_cols = get_dates(df)\n",
    "dt_today =dt_cols[LAST_DATE_I]\n",
    "# dt_5day = dt_cols[LAST_DATE_I - 5]\n",
    "dt_yday = dt_cols[LAST_DATE_I - 1]"
   ]
  },
  {
   "cell_type": "code",
   "execution_count": 11,
   "id": "restricted-sheriff",
   "metadata": {
    "execution": {
     "iopub.execute_input": "2022-03-20T00:33:58.538040Z",
     "iopub.status.busy": "2022-03-20T00:33:58.536782Z",
     "iopub.status.idle": "2022-03-20T00:33:58.543787Z",
     "shell.execute_reply": "2022-03-20T00:33:58.544396Z"
    },
    "papermill": {
     "duration": 0.057109,
     "end_time": "2022-03-20T00:33:58.544572",
     "exception": false,
     "start_time": "2022-03-20T00:33:58.487463",
     "status": "completed"
    },
    "tags": []
   },
   "outputs": [],
   "source": [
    "#hide\n",
    "dfc_cases = dft_cases.groupby(COL_REGION)[dt_today].sum()\n",
    "dfc_deaths = dft_deaths.groupby(COL_REGION)[dt_today].sum()\n",
    "# dfp_cases = dft_cases.groupby(COL_REGION)[dt_5day].sum()\n",
    "# dfp_deaths = dft_deaths.groupby(COL_REGION)[dt_5day].sum()\n",
    "dfp_cases = dft_cases.groupby(COL_REGION)[dt_yday].sum()\n",
    "dfp_deaths = dft_deaths.groupby(COL_REGION)[dt_yday].sum()"
   ]
  },
  {
   "cell_type": "code",
   "execution_count": 12,
   "id": "deluxe-hepatitis",
   "metadata": {
    "execution": {
     "iopub.execute_input": "2022-03-20T00:33:58.634886Z",
     "iopub.status.busy": "2022-03-20T00:33:58.634109Z",
     "iopub.status.idle": "2022-03-20T00:33:58.639910Z",
     "shell.execute_reply": "2022-03-20T00:33:58.639337Z"
    },
    "papermill": {
     "duration": 0.055048,
     "end_time": "2022-03-20T00:33:58.640082",
     "exception": false,
     "start_time": "2022-03-20T00:33:58.585034",
     "status": "completed"
    },
    "tags": []
   },
   "outputs": [],
   "source": [
    "#hide\n",
    "df_table = (pd.DataFrame(dict(Cases = dfc_cases, Deaths = dfc_deaths, PCases = dfp_cases, PDeaths = dfp_deaths))\n",
    "            .sort_values(by = ['Cases','Deaths'], ascending = [False, False])\n",
    "            .reset_index())"
   ]
  },
  {
   "cell_type": "code",
   "execution_count": 13,
   "id": "educational-chancellor",
   "metadata": {
    "execution": {
     "iopub.execute_input": "2022-03-20T00:33:58.742810Z",
     "iopub.status.busy": "2022-03-20T00:33:58.742027Z",
     "iopub.status.idle": "2022-03-20T00:33:58.751777Z",
     "shell.execute_reply": "2022-03-20T00:33:58.751185Z"
    },
    "papermill": {
     "duration": 0.072772,
     "end_time": "2022-03-20T00:33:58.751921",
     "exception": false,
     "start_time": "2022-03-20T00:33:58.679149",
     "status": "completed"
    },
    "tags": []
   },
   "outputs": [
    {
     "data": {
      "text/html": [
       "<div>\n",
       "<style scoped>\n",
       "    .dataframe tbody tr th:only-of-type {\n",
       "        vertical-align: middle;\n",
       "    }\n",
       "\n",
       "    .dataframe tbody tr th {\n",
       "        vertical-align: top;\n",
       "    }\n",
       "\n",
       "    .dataframe thead th {\n",
       "        text-align: right;\n",
       "    }\n",
       "</style>\n",
       "<table border=\"1\" class=\"dataframe\">\n",
       "  <thead>\n",
       "    <tr style=\"text-align: right;\">\n",
       "      <th></th>\n",
       "      <th>Country/Region</th>\n",
       "      <th>Cases</th>\n",
       "      <th>Deaths</th>\n",
       "      <th>PCases</th>\n",
       "      <th>PDeaths</th>\n",
       "      <th>Cases (+)</th>\n",
       "      <th>Deaths (+)</th>\n",
       "      <th>Fatality Rate</th>\n",
       "      <th>Continent</th>\n",
       "    </tr>\n",
       "  </thead>\n",
       "  <tbody>\n",
       "    <tr>\n",
       "      <th>0</th>\n",
       "      <td>US</td>\n",
       "      <td>79717247</td>\n",
       "      <td>970806</td>\n",
       "      <td>79683737</td>\n",
       "      <td>970009</td>\n",
       "      <td>33510</td>\n",
       "      <td>797</td>\n",
       "      <td>1.22</td>\n",
       "      <td>North America</td>\n",
       "    </tr>\n",
       "    <tr>\n",
       "      <th>1</th>\n",
       "      <td>India</td>\n",
       "      <td>43006080</td>\n",
       "      <td>516352</td>\n",
       "      <td>43004005</td>\n",
       "      <td>516281</td>\n",
       "      <td>2075</td>\n",
       "      <td>71</td>\n",
       "      <td>1.20</td>\n",
       "      <td>Asia</td>\n",
       "    </tr>\n",
       "    <tr>\n",
       "      <th>2</th>\n",
       "      <td>Brazil</td>\n",
       "      <td>29584800</td>\n",
       "      <td>657098</td>\n",
       "      <td>29532810</td>\n",
       "      <td>656693</td>\n",
       "      <td>51990</td>\n",
       "      <td>405</td>\n",
       "      <td>2.22</td>\n",
       "      <td>South America</td>\n",
       "    </tr>\n",
       "    <tr>\n",
       "      <th>3</th>\n",
       "      <td>France</td>\n",
       "      <td>24143852</td>\n",
       "      <td>141869</td>\n",
       "      <td>24046195</td>\n",
       "      <td>141757</td>\n",
       "      <td>97657</td>\n",
       "      <td>112</td>\n",
       "      <td>0.59</td>\n",
       "      <td>Europe</td>\n",
       "    </tr>\n",
       "    <tr>\n",
       "      <th>4</th>\n",
       "      <td>United Kingdom</td>\n",
       "      <td>20243940</td>\n",
       "      <td>164099</td>\n",
       "      <td>20150847</td>\n",
       "      <td>163972</td>\n",
       "      <td>93093</td>\n",
       "      <td>127</td>\n",
       "      <td>0.81</td>\n",
       "      <td>Europe</td>\n",
       "    </tr>\n",
       "  </tbody>\n",
       "</table>\n",
       "</div>"
      ],
      "text/plain": [
       "   Country/Region     Cases  Deaths    PCases  PDeaths  Cases (+)  Deaths (+)  \\\n",
       "0              US  79717247  970806  79683737   970009      33510         797   \n",
       "1           India  43006080  516352  43004005   516281       2075          71   \n",
       "2          Brazil  29584800  657098  29532810   656693      51990         405   \n",
       "3          France  24143852  141869  24046195   141757      97657         112   \n",
       "4  United Kingdom  20243940  164099  20150847   163972      93093         127   \n",
       "\n",
       "   Fatality Rate      Continent  \n",
       "0           1.22  North America  \n",
       "1           1.20           Asia  \n",
       "2           2.22  South America  \n",
       "3           0.59         Europe  \n",
       "4           0.81         Europe  "
      ]
     },
     "execution_count": 13,
     "metadata": {},
     "output_type": "execute_result"
    }
   ],
   "source": [
    "#hide\n",
    "for c in 'Cases, Deaths'.split(', '):\n",
    "    df_table[f'{c} (+)'] = (df_table[c] - df_table[f'P{c}']).clip(0)\n",
    "    #Clip ça veut dire, les chiffres negatif sont interdit\n",
    "df_table['Fatality Rate'] = (100* df_table['Deaths']/ df_table['Cases']).round(2)\n",
    "df_table['Continent'] = df_table['Country/Region'].map(mapping['map.continent'])\n",
    "df_table.head(5)"
   ]
  },
  {
   "cell_type": "code",
   "execution_count": 14,
   "id": "aboriginal-bulgaria",
   "metadata": {
    "execution": {
     "iopub.execute_input": "2022-03-20T00:33:58.839951Z",
     "iopub.status.busy": "2022-03-20T00:33:58.839077Z",
     "iopub.status.idle": "2022-03-20T00:33:58.841034Z",
     "shell.execute_reply": "2022-03-20T00:33:58.841611Z"
    },
    "papermill": {
     "duration": 0.049506,
     "end_time": "2022-03-20T00:33:58.841826",
     "exception": false,
     "start_time": "2022-03-20T00:33:58.792320",
     "status": "completed"
    },
    "tags": []
   },
   "outputs": [],
   "source": [
    "#hide\n",
    "#delete problematic countries from table\n",
    "df_table = df_table[~df_table['Country/Region'].isin(['Cape Verde', 'Cruise Ship', 'Kosovo'])]"
   ]
  },
  {
   "cell_type": "code",
   "execution_count": 15,
   "id": "fantastic-effect",
   "metadata": {
    "execution": {
     "iopub.execute_input": "2022-03-20T00:33:58.934590Z",
     "iopub.status.busy": "2022-03-20T00:33:58.933860Z",
     "iopub.status.idle": "2022-03-20T00:33:58.956785Z",
     "shell.execute_reply": "2022-03-20T00:33:58.957380Z"
    },
    "papermill": {
     "duration": 0.073558,
     "end_time": "2022-03-20T00:33:58.957559",
     "exception": false,
     "start_time": "2022-03-20T00:33:58.884001",
     "status": "completed"
    },
    "tags": []
   },
   "outputs": [
    {
     "data": {
      "text/html": [
       "<div>\n",
       "<style scoped>\n",
       "    .dataframe tbody tr th:only-of-type {\n",
       "        vertical-align: middle;\n",
       "    }\n",
       "\n",
       "    .dataframe tbody tr th {\n",
       "        vertical-align: top;\n",
       "    }\n",
       "\n",
       "    .dataframe thead th {\n",
       "        text-align: right;\n",
       "    }\n",
       "</style>\n",
       "<table border=\"1\" class=\"dataframe\">\n",
       "  <thead>\n",
       "    <tr style=\"text-align: right;\">\n",
       "      <th></th>\n",
       "      <th>Country/Region</th>\n",
       "      <th>Cases</th>\n",
       "      <th>Deaths</th>\n",
       "      <th>PCases</th>\n",
       "      <th>PDeaths</th>\n",
       "      <th>Cases (+)</th>\n",
       "      <th>Deaths (+)</th>\n",
       "      <th>Fatality Rate</th>\n",
       "      <th>Continent</th>\n",
       "    </tr>\n",
       "  </thead>\n",
       "  <tbody>\n",
       "    <tr>\n",
       "      <th>0</th>\n",
       "      <td>US</td>\n",
       "      <td>79717247</td>\n",
       "      <td>970806</td>\n",
       "      <td>79683737</td>\n",
       "      <td>970009</td>\n",
       "      <td>33510</td>\n",
       "      <td>797</td>\n",
       "      <td>1.2</td>\n",
       "      <td>North America</td>\n",
       "    </tr>\n",
       "    <tr>\n",
       "      <th>1</th>\n",
       "      <td>India</td>\n",
       "      <td>43006080</td>\n",
       "      <td>516352</td>\n",
       "      <td>43004005</td>\n",
       "      <td>516281</td>\n",
       "      <td>2075</td>\n",
       "      <td>71</td>\n",
       "      <td>1.2</td>\n",
       "      <td>Asia</td>\n",
       "    </tr>\n",
       "    <tr>\n",
       "      <th>2</th>\n",
       "      <td>Brazil</td>\n",
       "      <td>29584800</td>\n",
       "      <td>657098</td>\n",
       "      <td>29532810</td>\n",
       "      <td>656693</td>\n",
       "      <td>51990</td>\n",
       "      <td>405</td>\n",
       "      <td>2.2</td>\n",
       "      <td>South America</td>\n",
       "    </tr>\n",
       "    <tr>\n",
       "      <th>3</th>\n",
       "      <td>France</td>\n",
       "      <td>24143852</td>\n",
       "      <td>141869</td>\n",
       "      <td>24046195</td>\n",
       "      <td>141757</td>\n",
       "      <td>97657</td>\n",
       "      <td>112</td>\n",
       "      <td>0.6</td>\n",
       "      <td>Europe</td>\n",
       "    </tr>\n",
       "    <tr>\n",
       "      <th>4</th>\n",
       "      <td>United Kingdom</td>\n",
       "      <td>20243940</td>\n",
       "      <td>164099</td>\n",
       "      <td>20150847</td>\n",
       "      <td>163972</td>\n",
       "      <td>93093</td>\n",
       "      <td>127</td>\n",
       "      <td>0.8</td>\n",
       "      <td>Europe</td>\n",
       "    </tr>\n",
       "  </tbody>\n",
       "</table>\n",
       "</div>"
      ],
      "text/plain": [
       "   Country/Region     Cases  Deaths    PCases  PDeaths  Cases (+)  Deaths (+)  \\\n",
       "0              US  79717247  970806  79683737   970009      33510         797   \n",
       "1           India  43006080  516352  43004005   516281       2075          71   \n",
       "2          Brazil  29584800  657098  29532810   656693      51990         405   \n",
       "3          France  24143852  141869  24046195   141757      97657         112   \n",
       "4  United Kingdom  20243940  164099  20150847   163972      93093         127   \n",
       "\n",
       "   Fatality Rate      Continent  \n",
       "0            1.2  North America  \n",
       "1            1.2           Asia  \n",
       "2            2.2  South America  \n",
       "3            0.6         Europe  \n",
       "4            0.8         Europe  "
      ]
     },
     "execution_count": 15,
     "metadata": {},
     "output_type": "execute_result"
    }
   ],
   "source": [
    "#hide\n",
    "df_table = (pd.DataFrame(dict(Cases=dfc_cases, Deaths=dfc_deaths, PCases=dfp_cases, PDeaths=dfp_deaths))\n",
    "             .sort_values(by=['Cases', 'Deaths'], ascending=[False, False])\n",
    "             .reset_index())\n",
    "df_table.rename(columns={'index': 'Country/Region'}, inplace=True)\n",
    "for c in 'Cases, Deaths'.split(', '):\n",
    "    df_table[f'{c} (+)'] = (df_table[c] - df_table[f'P{c}']).clip(0)  # DATA BUG\n",
    "df_table['Fatality Rate'] = (100 * df_table['Deaths'] / df_table['Cases']).round(1)\n",
    "df_table['Continent'] = df_table['Country/Region'].map(mapping['map.continent'])\n",
    "df_table.head(5)"
   ]
  },
  {
   "cell_type": "code",
   "execution_count": 16,
   "id": "fewer-occasion",
   "metadata": {
    "execution": {
     "iopub.execute_input": "2022-03-20T00:33:59.048442Z",
     "iopub.status.busy": "2022-03-20T00:33:59.047729Z",
     "iopub.status.idle": "2022-03-20T00:33:59.051768Z",
     "shell.execute_reply": "2022-03-20T00:33:59.052553Z"
    },
    "papermill": {
     "duration": 0.053058,
     "end_time": "2022-03-20T00:33:59.052743",
     "exception": false,
     "start_time": "2022-03-20T00:33:58.999685",
     "status": "completed"
    },
    "tags": []
   },
   "outputs": [],
   "source": [
    "#hide\n",
    "#delete problematic countries from table\n",
    "df_table = df_table[~df_table['Country/Region'].isin(['Cape Verde', 'Cruise Ship', 'Kosovo'])]"
   ]
  },
  {
   "cell_type": "code",
   "execution_count": 17,
   "id": "related-center",
   "metadata": {
    "execution": {
     "iopub.execute_input": "2022-03-20T00:33:59.149185Z",
     "iopub.status.busy": "2022-03-20T00:33:59.148472Z",
     "iopub.status.idle": "2022-03-20T00:33:59.161599Z",
     "shell.execute_reply": "2022-03-20T00:33:59.160988Z"
    },
    "papermill": {
     "duration": 0.068509,
     "end_time": "2022-03-20T00:33:59.161753",
     "exception": false,
     "start_time": "2022-03-20T00:33:59.093244",
     "status": "completed"
    },
    "tags": []
   },
   "outputs": [],
   "source": [
    "#hide\n",
    "metrics = [df_table.columns[index] for index in [1,2,5,6]]\n",
    "# s_china = df_table[df_table['Country/Region'].eq('China')][metrics].sum().add_prefix('China ')\n",
    "s_us = df_table[df_table['Country/Region'].eq('US')][metrics].sum().add_prefix('US ')\n",
    "s_eu = df_table[df_table['Continent'].eq('Europe')][metrics].sum().add_prefix('EU ')\n",
    "s_ind = df_table[df_table['Country/Region'].eq('India')][metrics].sum().add_prefix('India ')\n",
    "summary = {'updated': pd.to_datetime(dt_today), 'since': pd.to_datetime(dt_yday)}\n",
    "summary = {'updated': pd.to_datetime(dt_today), 'since': pd.to_datetime(dt_yday)}\n",
    "summary = {**summary, **df_table[metrics].sum(), **s_ind, **s_us, **s_eu}"
   ]
  },
  {
   "cell_type": "code",
   "execution_count": 18,
   "id": "engaging-syndrome",
   "metadata": {
    "execution": {
     "iopub.execute_input": "2022-03-20T00:33:59.249649Z",
     "iopub.status.busy": "2022-03-20T00:33:59.248906Z",
     "iopub.status.idle": "2022-03-20T00:33:59.267587Z",
     "shell.execute_reply": "2022-03-20T00:33:59.266981Z"
    },
    "papermill": {
     "duration": 0.065942,
     "end_time": "2022-03-20T00:33:59.267765",
     "exception": false,
     "start_time": "2022-03-20T00:33:59.201823",
     "status": "completed"
    },
    "tags": []
   },
   "outputs": [],
   "source": [
    "#hide\n",
    "dft_ct_new_cases = dft_cases.groupby(COL_REGION)[dt_cols].sum().diff(axis=1).fillna(0).astype(int)"
   ]
  },
  {
   "cell_type": "code",
   "execution_count": 19,
   "id": "neutral-assignment",
   "metadata": {
    "execution": {
     "iopub.execute_input": "2022-03-20T00:33:59.357589Z",
     "iopub.status.busy": "2022-03-20T00:33:59.356898Z",
     "iopub.status.idle": "2022-03-20T00:33:59.359569Z",
     "shell.execute_reply": "2022-03-20T00:33:59.359009Z"
    },
    "papermill": {
     "duration": 0.05079,
     "end_time": "2022-03-20T00:33:59.359716",
     "exception": false,
     "start_time": "2022-03-20T00:33:59.308926",
     "status": "completed"
    },
    "tags": []
   },
   "outputs": [],
   "source": [
    "#hide\n",
    "everydaycases = dft_ct_new_cases.cumsum(axis=1)"
   ]
  },
  {
   "cell_type": "code",
   "execution_count": 20,
   "id": "parliamentary-calgary",
   "metadata": {
    "execution": {
     "iopub.execute_input": "2022-03-20T00:33:59.449660Z",
     "iopub.status.busy": "2022-03-20T00:33:59.448930Z",
     "iopub.status.idle": "2022-03-20T00:34:00.251774Z",
     "shell.execute_reply": "2022-03-20T00:34:00.251113Z"
    },
    "papermill": {
     "duration": 0.84991,
     "end_time": "2022-03-20T00:34:00.251946",
     "exception": false,
     "start_time": "2022-03-20T00:33:59.402036",
     "status": "completed"
    },
    "tags": []
   },
   "outputs": [],
   "source": [
    "#hide\n",
    "import pandas as pd\n",
    "import matplotlib.pyplot as plt\n",
    "import matplotlib.ticker as ticker\n",
    "import matplotlib.animation as animation\n",
    "from IPython.display import HTML"
   ]
  },
  {
   "cell_type": "code",
   "execution_count": 21,
   "id": "lasting-extraction",
   "metadata": {
    "execution": {
     "iopub.execute_input": "2022-03-20T00:34:00.341854Z",
     "iopub.status.busy": "2022-03-20T00:34:00.341157Z",
     "iopub.status.idle": "2022-03-20T00:34:00.349368Z",
     "shell.execute_reply": "2022-03-20T00:34:00.348689Z"
    },
    "papermill": {
     "duration": 0.056197,
     "end_time": "2022-03-20T00:34:00.349519",
     "exception": false,
     "start_time": "2022-03-20T00:34:00.293322",
     "status": "completed"
    },
    "tags": []
   },
   "outputs": [],
   "source": [
    "#hide\n",
    "t = everydaycases.stack()"
   ]
  },
  {
   "cell_type": "code",
   "execution_count": 22,
   "id": "premier-sleeve",
   "metadata": {
    "execution": {
     "iopub.execute_input": "2022-03-20T00:34:00.438256Z",
     "iopub.status.busy": "2022-03-20T00:34:00.437461Z",
     "iopub.status.idle": "2022-03-20T00:34:00.450590Z",
     "shell.execute_reply": "2022-03-20T00:34:00.449969Z"
    },
    "papermill": {
     "duration": 0.059797,
     "end_time": "2022-03-20T00:34:00.450774",
     "exception": false,
     "start_time": "2022-03-20T00:34:00.390977",
     "status": "completed"
    },
    "tags": []
   },
   "outputs": [],
   "source": [
    "#hide\n",
    "g = t.reset_index(['Country/Region'])"
   ]
  },
  {
   "cell_type": "code",
   "execution_count": 23,
   "id": "distributed-pittsburgh",
   "metadata": {
    "execution": {
     "iopub.execute_input": "2022-03-20T00:34:00.538595Z",
     "iopub.status.busy": "2022-03-20T00:34:00.537889Z",
     "iopub.status.idle": "2022-03-20T00:34:00.542453Z",
     "shell.execute_reply": "2022-03-20T00:34:00.541747Z"
    },
    "papermill": {
     "duration": 0.050417,
     "end_time": "2022-03-20T00:34:00.542598",
     "exception": false,
     "start_time": "2022-03-20T00:34:00.492181",
     "status": "completed"
    },
    "tags": []
   },
   "outputs": [],
   "source": [
    "#hide\n",
    "g.index.name = 'date'"
   ]
  },
  {
   "cell_type": "code",
   "execution_count": 24,
   "id": "naked-donor",
   "metadata": {
    "execution": {
     "iopub.execute_input": "2022-03-20T00:34:00.630675Z",
     "iopub.status.busy": "2022-03-20T00:34:00.629790Z",
     "iopub.status.idle": "2022-03-20T00:34:00.633754Z",
     "shell.execute_reply": "2022-03-20T00:34:00.634332Z"
    },
    "papermill": {
     "duration": 0.049997,
     "end_time": "2022-03-20T00:34:00.634532",
     "exception": false,
     "start_time": "2022-03-20T00:34:00.584535",
     "status": "completed"
    },
    "tags": []
   },
   "outputs": [],
   "source": [
    "# #hide\n",
    "# g = g.reset_index(['date'])"
   ]
  },
  {
   "cell_type": "code",
   "execution_count": 25,
   "id": "incomplete-mustang",
   "metadata": {
    "execution": {
     "iopub.execute_input": "2022-03-20T00:34:00.724109Z",
     "iopub.status.busy": "2022-03-20T00:34:00.723345Z",
     "iopub.status.idle": "2022-03-20T00:34:00.725761Z",
     "shell.execute_reply": "2022-03-20T00:34:00.726298Z"
    },
    "papermill": {
     "duration": 0.049459,
     "end_time": "2022-03-20T00:34:00.726472",
     "exception": false,
     "start_time": "2022-03-20T00:34:00.677013",
     "status": "completed"
    },
    "tags": []
   },
   "outputs": [],
   "source": [
    "#hide\n",
    "# g.head()"
   ]
  },
  {
   "cell_type": "code",
   "execution_count": 26,
   "id": "specific-kruger",
   "metadata": {
    "execution": {
     "iopub.execute_input": "2022-03-20T00:34:00.814162Z",
     "iopub.status.busy": "2022-03-20T00:34:00.813436Z",
     "iopub.status.idle": "2022-03-20T00:34:00.816131Z",
     "shell.execute_reply": "2022-03-20T00:34:00.815445Z"
    },
    "papermill": {
     "duration": 0.04805,
     "end_time": "2022-03-20T00:34:00.816288",
     "exception": false,
     "start_time": "2022-03-20T00:34:00.768238",
     "status": "completed"
    },
    "tags": []
   },
   "outputs": [],
   "source": [
    "#hide\n",
    "# g.columns = ['date','country','cases']"
   ]
  },
  {
   "cell_type": "code",
   "execution_count": 27,
   "id": "tender-conversion",
   "metadata": {
    "execution": {
     "iopub.execute_input": "2022-03-20T00:34:00.903454Z",
     "iopub.status.busy": "2022-03-20T00:34:00.902619Z",
     "iopub.status.idle": "2022-03-20T00:34:00.904686Z",
     "shell.execute_reply": "2022-03-20T00:34:00.905405Z"
    },
    "papermill": {
     "duration": 0.048008,
     "end_time": "2022-03-20T00:34:00.905575",
     "exception": false,
     "start_time": "2022-03-20T00:34:00.857567",
     "status": "completed"
    },
    "tags": []
   },
   "outputs": [],
   "source": [
    "#hide\n",
    "# g['continent'] = g.country"
   ]
  },
  {
   "cell_type": "code",
   "execution_count": 28,
   "id": "substantial-wilderness",
   "metadata": {
    "execution": {
     "iopub.execute_input": "2022-03-20T00:34:00.993077Z",
     "iopub.status.busy": "2022-03-20T00:34:00.992351Z",
     "iopub.status.idle": "2022-03-20T00:34:00.995109Z",
     "shell.execute_reply": "2022-03-20T00:34:00.994363Z"
    },
    "papermill": {
     "duration": 0.048432,
     "end_time": "2022-03-20T00:34:00.995290",
     "exception": false,
     "start_time": "2022-03-20T00:34:00.946858",
     "status": "completed"
    },
    "tags": []
   },
   "outputs": [],
   "source": [
    "#hide\n",
    "# cols = list(g.columns.values)"
   ]
  },
  {
   "cell_type": "code",
   "execution_count": 29,
   "id": "solved-farming",
   "metadata": {
    "execution": {
     "iopub.execute_input": "2022-03-20T00:34:01.082732Z",
     "iopub.status.busy": "2022-03-20T00:34:01.081942Z",
     "iopub.status.idle": "2022-03-20T00:34:01.086337Z",
     "shell.execute_reply": "2022-03-20T00:34:01.085759Z"
    },
    "papermill": {
     "duration": 0.049485,
     "end_time": "2022-03-20T00:34:01.086516",
     "exception": false,
     "start_time": "2022-03-20T00:34:01.037031",
     "status": "completed"
    },
    "tags": []
   },
   "outputs": [],
   "source": [
    "#hide\n",
    "# cols.insert(0, cols.pop())"
   ]
  },
  {
   "cell_type": "code",
   "execution_count": 30,
   "id": "executed-adoption",
   "metadata": {
    "execution": {
     "iopub.execute_input": "2022-03-20T00:34:01.173860Z",
     "iopub.status.busy": "2022-03-20T00:34:01.173164Z",
     "iopub.status.idle": "2022-03-20T00:34:01.177346Z",
     "shell.execute_reply": "2022-03-20T00:34:01.177876Z"
    },
    "papermill": {
     "duration": 0.051277,
     "end_time": "2022-03-20T00:34:01.178050",
     "exception": false,
     "start_time": "2022-03-20T00:34:01.126773",
     "status": "completed"
    },
    "tags": []
   },
   "outputs": [],
   "source": [
    "#hide\n",
    "# g = g[cols]"
   ]
  },
  {
   "cell_type": "code",
   "execution_count": 31,
   "id": "subject-dublin",
   "metadata": {
    "execution": {
     "iopub.execute_input": "2022-03-20T00:34:01.268816Z",
     "iopub.status.busy": "2022-03-20T00:34:01.268068Z",
     "iopub.status.idle": "2022-03-20T00:34:01.270621Z",
     "shell.execute_reply": "2022-03-20T00:34:01.269926Z"
    },
    "papermill": {
     "duration": 0.047446,
     "end_time": "2022-03-20T00:34:01.270802",
     "exception": false,
     "start_time": "2022-03-20T00:34:01.223356",
     "status": "completed"
    },
    "tags": []
   },
   "outputs": [],
   "source": [
    "#hide\n",
    "# g['continent'] = g['continent'].map(mapping['map.continent'])"
   ]
  },
  {
   "cell_type": "code",
   "execution_count": 32,
   "id": "freelance-scout",
   "metadata": {
    "execution": {
     "iopub.execute_input": "2022-03-20T00:34:01.357668Z",
     "iopub.status.busy": "2022-03-20T00:34:01.356958Z",
     "iopub.status.idle": "2022-03-20T00:34:01.359262Z",
     "shell.execute_reply": "2022-03-20T00:34:01.359772Z"
    },
    "papermill": {
     "duration": 0.047947,
     "end_time": "2022-03-20T00:34:01.359941",
     "exception": false,
     "start_time": "2022-03-20T00:34:01.311994",
     "status": "completed"
    },
    "tags": []
   },
   "outputs": [],
   "source": [
    "#hide\n",
    "# g.head()"
   ]
  },
  {
   "cell_type": "code",
   "execution_count": 33,
   "id": "limited-engine",
   "metadata": {
    "execution": {
     "iopub.execute_input": "2022-03-20T00:34:01.446419Z",
     "iopub.status.busy": "2022-03-20T00:34:01.445714Z",
     "iopub.status.idle": "2022-03-20T00:34:01.447959Z",
     "shell.execute_reply": "2022-03-20T00:34:01.448487Z"
    },
    "papermill": {
     "duration": 0.04769,
     "end_time": "2022-03-20T00:34:01.448678",
     "exception": false,
     "start_time": "2022-03-20T00:34:01.400988",
     "status": "completed"
    },
    "tags": []
   },
   "outputs": [],
   "source": [
    "# hide\n",
    "# g['date'] = g['date'].astype('datetime64[ns]')"
   ]
  },
  {
   "cell_type": "code",
   "execution_count": 34,
   "id": "sophisticated-supervisor",
   "metadata": {
    "execution": {
     "iopub.execute_input": "2022-03-20T00:34:01.548844Z",
     "iopub.status.busy": "2022-03-20T00:34:01.547805Z",
     "iopub.status.idle": "2022-03-20T00:34:01.549588Z",
     "shell.execute_reply": "2022-03-20T00:34:01.550462Z"
    },
    "papermill": {
     "duration": 0.057935,
     "end_time": "2022-03-20T00:34:01.550672",
     "exception": false,
     "start_time": "2022-03-20T00:34:01.492737",
     "status": "completed"
    },
    "tags": []
   },
   "outputs": [],
   "source": [
    "#hide\n",
    "# g['date'] = g.date.dt.dayofyear"
   ]
  },
  {
   "cell_type": "code",
   "execution_count": 35,
   "id": "inside-dubai",
   "metadata": {
    "execution": {
     "iopub.execute_input": "2022-03-20T00:34:01.642343Z",
     "iopub.status.busy": "2022-03-20T00:34:01.641618Z",
     "iopub.status.idle": "2022-03-20T00:34:01.644296Z",
     "shell.execute_reply": "2022-03-20T00:34:01.643572Z"
    },
    "papermill": {
     "duration": 0.048335,
     "end_time": "2022-03-20T00:34:01.644441",
     "exception": false,
     "start_time": "2022-03-20T00:34:01.596106",
     "status": "completed"
    },
    "tags": []
   },
   "outputs": [],
   "source": [
    "#hide\n",
    "# g = g.rename(columns= {'continent':'group','country':'name','cases':'value'})"
   ]
  },
  {
   "cell_type": "code",
   "execution_count": 36,
   "id": "fleet-motorcycle",
   "metadata": {
    "execution": {
     "iopub.execute_input": "2022-03-20T00:34:01.735398Z",
     "iopub.status.busy": "2022-03-20T00:34:01.734714Z",
     "iopub.status.idle": "2022-03-20T00:34:01.736826Z",
     "shell.execute_reply": "2022-03-20T00:34:01.737352Z"
    },
    "papermill": {
     "duration": 0.05103,
     "end_time": "2022-03-20T00:34:01.737525",
     "exception": false,
     "start_time": "2022-03-20T00:34:01.686495",
     "status": "completed"
    },
    "tags": []
   },
   "outputs": [],
   "source": [
    "#hide\n",
    "# cols = ['name','group','day','value']"
   ]
  },
  {
   "cell_type": "code",
   "execution_count": 37,
   "id": "continued-sleeping",
   "metadata": {
    "execution": {
     "iopub.execute_input": "2022-03-20T00:34:01.825841Z",
     "iopub.status.busy": "2022-03-20T00:34:01.825119Z",
     "iopub.status.idle": "2022-03-20T00:34:01.827863Z",
     "shell.execute_reply": "2022-03-20T00:34:01.827239Z"
    },
    "papermill": {
     "duration": 0.048558,
     "end_time": "2022-03-20T00:34:01.828009",
     "exception": false,
     "start_time": "2022-03-20T00:34:01.779451",
     "status": "completed"
    },
    "tags": []
   },
   "outputs": [],
   "source": [
    "#hide\n",
    "# g.rename(columns= {'date':'day'},inplace = True)"
   ]
  },
  {
   "cell_type": "code",
   "execution_count": 38,
   "id": "major-fight",
   "metadata": {
    "execution": {
     "iopub.execute_input": "2022-03-20T00:34:01.917074Z",
     "iopub.status.busy": "2022-03-20T00:34:01.916240Z",
     "iopub.status.idle": "2022-03-20T00:34:01.921099Z",
     "shell.execute_reply": "2022-03-20T00:34:01.920505Z"
    },
    "papermill": {
     "duration": 0.051202,
     "end_time": "2022-03-20T00:34:01.921248",
     "exception": false,
     "start_time": "2022-03-20T00:34:01.870046",
     "status": "completed"
    },
    "tags": []
   },
   "outputs": [],
   "source": [
    "#hide\n",
    "# g = g[cols]"
   ]
  },
  {
   "cell_type": "code",
   "execution_count": 39,
   "id": "structured-mobile",
   "metadata": {
    "execution": {
     "iopub.execute_input": "2022-03-20T00:34:02.011844Z",
     "iopub.status.busy": "2022-03-20T00:34:02.011026Z",
     "iopub.status.idle": "2022-03-20T00:34:02.013045Z",
     "shell.execute_reply": "2022-03-20T00:34:02.012469Z"
    },
    "papermill": {
     "duration": 0.049798,
     "end_time": "2022-03-20T00:34:02.013193",
     "exception": false,
     "start_time": "2022-03-20T00:34:01.963395",
     "status": "completed"
    },
    "tags": []
   },
   "outputs": [],
   "source": [
    "# #hide\n",
    "# g = g[g.group.notna()]"
   ]
  },
  {
   "cell_type": "code",
   "execution_count": 40,
   "id": "determined-closing",
   "metadata": {
    "execution": {
     "iopub.execute_input": "2022-03-20T00:34:02.100391Z",
     "iopub.status.busy": "2022-03-20T00:34:02.099681Z",
     "iopub.status.idle": "2022-03-20T00:34:02.102377Z",
     "shell.execute_reply": "2022-03-20T00:34:02.101788Z"
    },
    "papermill": {
     "duration": 0.048379,
     "end_time": "2022-03-20T00:34:02.102527",
     "exception": false,
     "start_time": "2022-03-20T00:34:02.054148",
     "status": "completed"
    },
    "tags": []
   },
   "outputs": [],
   "source": [
    "# #hide\n",
    "# colors = dict(zip(\n",
    "#     [\"Oceania\", \"Europe\", \"Asia\", \"South America\", \"Middle East\", \"North America\", \"Africa\"],\n",
    "#     [\"#adb0ff\", \"#ffb3ff\", \"#90d595\", \"#e48381\", \"#aafbff\", \"#f7bb5f\", \"#eafb50\"]\n",
    "# ))\n",
    "# group_lk = g.set_index('name')['group'].to_dict()"
   ]
  },
  {
   "cell_type": "code",
   "execution_count": null,
   "id": "gross-drinking",
   "metadata": {
    "papermill": {
     "duration": 0.042892,
     "end_time": "2022-03-20T00:34:02.187715",
     "exception": false,
     "start_time": "2022-03-20T00:34:02.144823",
     "status": "completed"
    },
    "tags": []
   },
   "outputs": [],
   "source": []
  },
  {
   "cell_type": "code",
   "execution_count": 41,
   "id": "subject-macintosh",
   "metadata": {
    "execution": {
     "iopub.execute_input": "2022-03-20T00:34:02.279184Z",
     "iopub.status.busy": "2022-03-20T00:34:02.278406Z",
     "iopub.status.idle": "2022-03-20T00:34:02.281292Z",
     "shell.execute_reply": "2022-03-20T00:34:02.280724Z"
    },
    "papermill": {
     "duration": 0.050121,
     "end_time": "2022-03-20T00:34:02.281435",
     "exception": false,
     "start_time": "2022-03-20T00:34:02.231314",
     "status": "completed"
    },
    "tags": []
   },
   "outputs": [],
   "source": [
    "# #hide\n",
    "# fig, ax = plt.subplots(figsize=(15, 8))\n",
    "\n",
    "# def draw_barchart(current_day):\n",
    "#     dff = g[g['day'].eq(current_day)].sort_values(by='value', ascending=True).tail(10)\n",
    "#     ax.clear()\n",
    "#     ax.barh(dff['name'], dff['value'], color=[colors[group_lk[x]] for x in dff['name']])\n",
    "#     dx = dff['value'].max() / 200\n",
    "    \n",
    "#     for i, (value, name) in enumerate(zip(dff['value'], dff['name'])):\n",
    "#         ax.text(value-dx, i,     name,           size=14, weight=600, ha='right', va='bottom')\n",
    "#         ax.text(value-dx, i-.25, group_lk[name], size=10, color='#444444', ha='right', va='baseline')\n",
    "#         ax.text(value+dx, i,     f'{value:,.0f}',  size=14, ha='left',  va='center')\n",
    "#     ax.text(1, 0.4, current_day, transform=ax.transAxes, color='#777777', size=46, ha='right', weight=800)\n",
    "#     ax.text(0, 1.06, 'Population (thousands)', transform=ax.transAxes, size=12, color='#777777')\n",
    "#     ax.xaxis.set_major_formatter(ticker.StrMethodFormatter('{x:,.0f}'))\n",
    "#     ax.xaxis.set_ticks_position('top')\n",
    "#     ax.tick_params(axis='x', colors='#777777', labelsize=12)\n",
    "#     ax.set_yticks([])\n",
    "#     ax.margins(0, 0.01)\n",
    "#     ax.grid(which='major', axis='x', linestyle='-')\n",
    "#     ax.set_axisbelow(True)\n",
    "    \n",
    "#     ax.text(0, 1.15, 'Coronavirus',\n",
    "#             transform=ax.transAxes, size=24, weight=600, ha='left', va='top')\n",
    "# #     ax.text(1, 0, 'by @pratapvardhan; credit @jburnmurdoch', transform=ax.transAxes, color='#777777', ha='right',\n",
    "# #             bbox=dict(facecolor='white', alpha=0.8, edgecolor='white'))\n",
    "#     plt.box(False)"
   ]
  },
  {
   "cell_type": "code",
   "execution_count": 42,
   "id": "sexual-wages",
   "metadata": {
    "execution": {
     "iopub.execute_input": "2022-03-20T00:34:02.370607Z",
     "iopub.status.busy": "2022-03-20T00:34:02.369791Z",
     "iopub.status.idle": "2022-03-20T00:34:02.372870Z",
     "shell.execute_reply": "2022-03-20T00:34:02.372300Z"
    },
    "papermill": {
     "duration": 0.049493,
     "end_time": "2022-03-20T00:34:02.373034",
     "exception": false,
     "start_time": "2022-03-20T00:34:02.323541",
     "status": "completed"
    },
    "tags": []
   },
   "outputs": [],
   "source": [
    "# #hide_input\n",
    "# fig, ax = plt.subplots(figsize=(15, 8))\n",
    "# animator = animation.FuncAnimation(fig, draw_barchart, frames=range(g.day.values.min(), g.day.values.max()))\n",
    "# HTML(animator.to_jshtml())\n",
    "# # or use animator.to_html5_video() or animator.save() "
   ]
  },
  {
   "cell_type": "code",
   "execution_count": null,
   "id": "australian-container",
   "metadata": {
    "papermill": {
     "duration": 0.040768,
     "end_time": "2022-03-20T00:34:02.454968",
     "exception": false,
     "start_time": "2022-03-20T00:34:02.414200",
     "status": "completed"
    },
    "tags": []
   },
   "outputs": [],
   "source": []
  },
  {
   "cell_type": "code",
   "execution_count": null,
   "id": "mediterranean-pontiac",
   "metadata": {
    "papermill": {
     "duration": 0.041884,
     "end_time": "2022-03-20T00:34:02.538180",
     "exception": false,
     "start_time": "2022-03-20T00:34:02.496296",
     "status": "completed"
    },
    "tags": []
   },
   "outputs": [],
   "source": []
  },
  {
   "cell_type": "code",
   "execution_count": null,
   "id": "aging-legislature",
   "metadata": {
    "papermill": {
     "duration": 0.042071,
     "end_time": "2022-03-20T00:34:02.622067",
     "exception": false,
     "start_time": "2022-03-20T00:34:02.579996",
     "status": "completed"
    },
    "tags": []
   },
   "outputs": [],
   "source": []
  }
 ],
 "metadata": {
  "kernelspec": {
   "display_name": "Python 3",
   "language": "python",
   "name": "python3"
  },
  "language_info": {
   "codemirror_mode": {
    "name": "ipython",
    "version": 3
   },
   "file_extension": ".py",
   "mimetype": "text/x-python",
   "name": "python",
   "nbconvert_exporter": "python",
   "pygments_lexer": "ipython3",
   "version": "3.6.15"
  },
  "papermill": {
   "duration": 7.777058,
   "end_time": "2022-03-20T00:34:03.083452",
   "environment_variables": {},
   "exception": null,
   "input_path": "2020-03-21-covid19exp.ipynb",
   "output_path": "2020-03-21-covid19exp.ipynb",
   "parameters": {},
   "start_time": "2022-03-20T00:33:55.306394",
   "version": "2.0.0"
  }
 },
 "nbformat": 4,
 "nbformat_minor": 5
}