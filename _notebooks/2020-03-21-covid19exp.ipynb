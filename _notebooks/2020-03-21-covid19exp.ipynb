{
 "cells": [
  {
   "cell_type": "markdown",
   "id": "muslim-click",
   "metadata": {
    "papermill": {
     "duration": 0.039315,
     "end_time": "2022-01-05T00:29:03.649244",
     "exception": false,
     "start_time": "2022-01-05T00:29:03.609929",
     "status": "completed"
    },
    "tags": []
   },
   "source": [
    "# COVID-19 Case Race\n",
    "> A race chart to see rising cases around the world\n",
    "\n",
    "- author: Hargun Oberoi\n",
    "- image: images/covid-overview.png\n",
    "- hide: false\n",
    "- badges: false"
   ]
  },
  {
   "cell_type": "code",
   "execution_count": 1,
   "id": "proof-material",
   "metadata": {
    "execution": {
     "iopub.execute_input": "2022-01-05T00:29:03.760681Z",
     "iopub.status.busy": "2022-01-05T00:29:03.759937Z",
     "iopub.status.idle": "2022-01-05T00:29:04.167387Z",
     "shell.execute_reply": "2022-01-05T00:29:04.168205Z"
    },
    "papermill": {
     "duration": 0.463671,
     "end_time": "2022-01-05T00:29:04.168453",
     "exception": false,
     "start_time": "2022-01-05T00:29:03.704782",
     "status": "completed"
    },
    "tags": []
   },
   "outputs": [],
   "source": [
    "#hide\n",
    "import numpy as np\n",
    "import pandas as pd\n",
    "from jinja2 import Template\n",
    "from IPython.display import HTML"
   ]
  },
  {
   "cell_type": "code",
   "execution_count": 2,
   "id": "developed-terminology",
   "metadata": {
    "execution": {
     "iopub.execute_input": "2022-01-05T00:29:04.252254Z",
     "iopub.status.busy": "2022-01-05T00:29:04.251524Z",
     "iopub.status.idle": "2022-01-05T00:29:04.256232Z",
     "shell.execute_reply": "2022-01-05T00:29:04.255683Z"
    },
    "papermill": {
     "duration": 0.050001,
     "end_time": "2022-01-05T00:29:04.256368",
     "exception": false,
     "start_time": "2022-01-05T00:29:04.206367",
     "status": "completed"
    },
    "tags": []
   },
   "outputs": [],
   "source": [
    "#hide\n",
    "\n",
    "# FETCH\n",
    "base_url = 'https://raw.githubusercontent.com/pratapvardhan/notebooks/master/covid19/'\n",
    "paths = {\n",
    "    'mapping': base_url + 'mapping_countries.csv',\n",
    "    'overview': base_url + 'overview.tpl'\n",
    "}"
   ]
  },
  {
   "cell_type": "code",
   "execution_count": 3,
   "id": "dynamic-saver",
   "metadata": {
    "execution": {
     "iopub.execute_input": "2022-01-05T00:29:04.345376Z",
     "iopub.status.busy": "2022-01-05T00:29:04.344715Z",
     "iopub.status.idle": "2022-01-05T00:29:04.347691Z",
     "shell.execute_reply": "2022-01-05T00:29:04.348249Z"
    },
    "papermill": {
     "duration": 0.052537,
     "end_time": "2022-01-05T00:29:04.348430",
     "exception": false,
     "start_time": "2022-01-05T00:29:04.295893",
     "status": "completed"
    },
    "tags": []
   },
   "outputs": [
    {
     "data": {
      "text/plain": [
       "'https://raw.githubusercontent.com/pratapvardhan/notebooks/master/covid19/mapping_countries.csv'"
      ]
     },
     "execution_count": 3,
     "metadata": {},
     "output_type": "execute_result"
    }
   ],
   "source": [
    "#hide\n",
    "paths['mapping']"
   ]
  },
  {
   "cell_type": "code",
   "execution_count": 4,
   "id": "urban-software",
   "metadata": {
    "execution": {
     "iopub.execute_input": "2022-01-05T00:29:04.426881Z",
     "iopub.status.busy": "2022-01-05T00:29:04.426032Z",
     "iopub.status.idle": "2022-01-05T00:29:04.429785Z",
     "shell.execute_reply": "2022-01-05T00:29:04.429144Z"
    },
    "papermill": {
     "duration": 0.044291,
     "end_time": "2022-01-05T00:29:04.429924",
     "exception": false,
     "start_time": "2022-01-05T00:29:04.385633",
     "status": "completed"
    },
    "tags": []
   },
   "outputs": [],
   "source": [
    "#hide\n",
    "def get_mappings(url):\n",
    "    df = pd.read_csv(url)\n",
    "    return {\n",
    "        'df': df,\n",
    "        'replace.country': dict(df.dropna(subset=['Name']).set_index('Country')['Name']),\n",
    "        'map.continent': dict(df.set_index('Name')['Continent'])\n",
    "    }"
   ]
  },
  {
   "cell_type": "code",
   "execution_count": 5,
   "id": "intimate-machinery",
   "metadata": {
    "execution": {
     "iopub.execute_input": "2022-01-05T00:29:04.505586Z",
     "iopub.status.busy": "2022-01-05T00:29:04.504806Z",
     "iopub.status.idle": "2022-01-05T00:29:04.546937Z",
     "shell.execute_reply": "2022-01-05T00:29:04.546163Z"
    },
    "papermill": {
     "duration": 0.081521,
     "end_time": "2022-01-05T00:29:04.547164",
     "exception": false,
     "start_time": "2022-01-05T00:29:04.465643",
     "status": "completed"
    },
    "tags": []
   },
   "outputs": [],
   "source": [
    "#hide\n",
    "mapping = get_mappings(paths['mapping'])"
   ]
  },
  {
   "cell_type": "code",
   "execution_count": 6,
   "id": "certified-tactics",
   "metadata": {
    "execution": {
     "iopub.execute_input": "2022-01-05T00:29:04.625297Z",
     "iopub.status.busy": "2022-01-05T00:29:04.624724Z",
     "iopub.status.idle": "2022-01-05T00:29:04.628128Z",
     "shell.execute_reply": "2022-01-05T00:29:04.628615Z"
    },
    "papermill": {
     "duration": 0.046717,
     "end_time": "2022-01-05T00:29:04.628761",
     "exception": false,
     "start_time": "2022-01-05T00:29:04.582044",
     "status": "completed"
    },
    "tags": []
   },
   "outputs": [],
   "source": [
    "#hide\n",
    "def get_template(path):\n",
    "    from urllib.parse import urlparse\n",
    "    if bool(urlparse(path).netloc):\n",
    "        from urllib.request import urlopen\n",
    "        return urlopen(path).read().decode('utf8')\n",
    "    return open(path).read()"
   ]
  },
  {
   "cell_type": "code",
   "execution_count": 7,
   "id": "realistic-blast",
   "metadata": {
    "execution": {
     "iopub.execute_input": "2022-01-05T00:29:04.710253Z",
     "iopub.status.busy": "2022-01-05T00:29:04.709530Z",
     "iopub.status.idle": "2022-01-05T00:29:04.711849Z",
     "shell.execute_reply": "2022-01-05T00:29:04.711100Z"
    },
    "papermill": {
     "duration": 0.044443,
     "end_time": "2022-01-05T00:29:04.712006",
     "exception": false,
     "start_time": "2022-01-05T00:29:04.667563",
     "status": "completed"
    },
    "tags": []
   },
   "outputs": [],
   "source": [
    "#hide\n",
    "def get_frame(name):\n",
    "    url = (\n",
    "        'https://raw.githubusercontent.com/CSSEGISandData/COVID-19/master/csse_covid_19_data/'\n",
    "        f'csse_covid_19_time_series/time_series_covid19_{name}_global.csv')\n",
    "    df = pd.read_csv(url)\n",
    "    # rename countries\n",
    "    df['Country/Region'] = df['Country/Region'].replace(mapping['replace.country'])\n",
    "    return df"
   ]
  },
  {
   "cell_type": "code",
   "execution_count": 8,
   "id": "affiliated-characterization",
   "metadata": {
    "execution": {
     "iopub.execute_input": "2022-01-05T00:29:04.790605Z",
     "iopub.status.busy": "2022-01-05T00:29:04.789908Z",
     "iopub.status.idle": "2022-01-05T00:29:04.793239Z",
     "shell.execute_reply": "2022-01-05T00:29:04.793778Z"
    },
    "papermill": {
     "duration": 0.04391,
     "end_time": "2022-01-05T00:29:04.793933",
     "exception": false,
     "start_time": "2022-01-05T00:29:04.750023",
     "status": "completed"
    },
    "tags": []
   },
   "outputs": [],
   "source": [
    "#hide\n",
    "def get_dates(df):\n",
    "    dt_cols = df.columns[~df.columns.isin(['Province/State', 'Country/Region', 'Lat', 'Long'])]\n",
    "    LAST_DATE_I = -1\n",
    "    # sometimes last column may be empty, then go backwards\n",
    "    for i in range(-1, -len(dt_cols), -1):\n",
    "        if not df[dt_cols[i]].fillna(0).eq(0).all():\n",
    "            LAST_DATE_I = i\n",
    "            break\n",
    "    return LAST_DATE_I, dt_cols"
   ]
  },
  {
   "cell_type": "code",
   "execution_count": 9,
   "id": "recent-optimization",
   "metadata": {
    "execution": {
     "iopub.execute_input": "2022-01-05T00:29:04.866594Z",
     "iopub.status.busy": "2022-01-05T00:29:04.865900Z",
     "iopub.status.idle": "2022-01-05T00:29:05.328588Z",
     "shell.execute_reply": "2022-01-05T00:29:05.327965Z"
    },
    "papermill": {
     "duration": 0.500789,
     "end_time": "2022-01-05T00:29:05.328766",
     "exception": false,
     "start_time": "2022-01-05T00:29:04.827977",
     "status": "completed"
    },
    "tags": []
   },
   "outputs": [],
   "source": [
    "#hide\n",
    "COL_REGION = 'Country/Region'\n",
    "# Confirmed, Recovered, Deaths\n",
    "df = get_frame('confirmed')\n",
    "# dft_: timeseries, dfc_: today country agg\n",
    "dft_cases = df\n",
    "dft_deaths = get_frame('deaths')\n",
    "dft_recovered = get_frame('recovered')\n",
    "LAST_DATE_I, dt_cols = get_dates(df)"
   ]
  },
  {
   "cell_type": "code",
   "execution_count": 10,
   "id": "absolute-copper",
   "metadata": {
    "execution": {
     "iopub.execute_input": "2022-01-05T00:29:05.409235Z",
     "iopub.status.busy": "2022-01-05T00:29:05.408629Z",
     "iopub.status.idle": "2022-01-05T00:29:05.412343Z",
     "shell.execute_reply": "2022-01-05T00:29:05.412901Z"
    },
    "papermill": {
     "duration": 0.046638,
     "end_time": "2022-01-05T00:29:05.413079",
     "exception": false,
     "start_time": "2022-01-05T00:29:05.366441",
     "status": "completed"
    },
    "tags": []
   },
   "outputs": [],
   "source": [
    "#hide\n",
    "LAST_DATE_I, dt_cols = get_dates(df)\n",
    "dt_today =dt_cols[LAST_DATE_I]\n",
    "# dt_5day = dt_cols[LAST_DATE_I - 5]\n",
    "dt_yday = dt_cols[LAST_DATE_I - 1]"
   ]
  },
  {
   "cell_type": "code",
   "execution_count": 11,
   "id": "restricted-sheriff",
   "metadata": {
    "execution": {
     "iopub.execute_input": "2022-01-05T00:29:05.500648Z",
     "iopub.status.busy": "2022-01-05T00:29:05.499147Z",
     "iopub.status.idle": "2022-01-05T00:29:05.504239Z",
     "shell.execute_reply": "2022-01-05T00:29:05.503225Z"
    },
    "papermill": {
     "duration": 0.054438,
     "end_time": "2022-01-05T00:29:05.504404",
     "exception": false,
     "start_time": "2022-01-05T00:29:05.449966",
     "status": "completed"
    },
    "tags": []
   },
   "outputs": [],
   "source": [
    "#hide\n",
    "dfc_cases = dft_cases.groupby(COL_REGION)[dt_today].sum()\n",
    "dfc_deaths = dft_deaths.groupby(COL_REGION)[dt_today].sum()\n",
    "# dfp_cases = dft_cases.groupby(COL_REGION)[dt_5day].sum()\n",
    "# dfp_deaths = dft_deaths.groupby(COL_REGION)[dt_5day].sum()\n",
    "dfp_cases = dft_cases.groupby(COL_REGION)[dt_yday].sum()\n",
    "dfp_deaths = dft_deaths.groupby(COL_REGION)[dt_yday].sum()"
   ]
  },
  {
   "cell_type": "code",
   "execution_count": 12,
   "id": "deluxe-hepatitis",
   "metadata": {
    "execution": {
     "iopub.execute_input": "2022-01-05T00:29:05.590314Z",
     "iopub.status.busy": "2022-01-05T00:29:05.588086Z",
     "iopub.status.idle": "2022-01-05T00:29:05.593291Z",
     "shell.execute_reply": "2022-01-05T00:29:05.592800Z"
    },
    "papermill": {
     "duration": 0.050267,
     "end_time": "2022-01-05T00:29:05.593439",
     "exception": false,
     "start_time": "2022-01-05T00:29:05.543172",
     "status": "completed"
    },
    "tags": []
   },
   "outputs": [],
   "source": [
    "#hide\n",
    "df_table = (pd.DataFrame(dict(Cases = dfc_cases, Deaths = dfc_deaths, PCases = dfp_cases, PDeaths = dfp_deaths))\n",
    "            .sort_values(by = ['Cases','Deaths'], ascending = [False, False])\n",
    "            .reset_index())"
   ]
  },
  {
   "cell_type": "code",
   "execution_count": 13,
   "id": "educational-chancellor",
   "metadata": {
    "execution": {
     "iopub.execute_input": "2022-01-05T00:29:05.686275Z",
     "iopub.status.busy": "2022-01-05T00:29:05.685458Z",
     "iopub.status.idle": "2022-01-05T00:29:05.700219Z",
     "shell.execute_reply": "2022-01-05T00:29:05.699700Z"
    },
    "papermill": {
     "duration": 0.067812,
     "end_time": "2022-01-05T00:29:05.700346",
     "exception": false,
     "start_time": "2022-01-05T00:29:05.632534",
     "status": "completed"
    },
    "tags": []
   },
   "outputs": [
    {
     "data": {
      "text/html": [
       "<div>\n",
       "<style scoped>\n",
       "    .dataframe tbody tr th:only-of-type {\n",
       "        vertical-align: middle;\n",
       "    }\n",
       "\n",
       "    .dataframe tbody tr th {\n",
       "        vertical-align: top;\n",
       "    }\n",
       "\n",
       "    .dataframe thead th {\n",
       "        text-align: right;\n",
       "    }\n",
       "</style>\n",
       "<table border=\"1\" class=\"dataframe\">\n",
       "  <thead>\n",
       "    <tr style=\"text-align: right;\">\n",
       "      <th></th>\n",
       "      <th>Country/Region</th>\n",
       "      <th>Cases</th>\n",
       "      <th>Deaths</th>\n",
       "      <th>PCases</th>\n",
       "      <th>PDeaths</th>\n",
       "      <th>Cases (+)</th>\n",
       "      <th>Deaths (+)</th>\n",
       "      <th>Fatality Rate</th>\n",
       "      <th>Continent</th>\n",
       "    </tr>\n",
       "  </thead>\n",
       "  <tbody>\n",
       "    <tr>\n",
       "      <th>0</th>\n",
       "      <td>US</td>\n",
       "      <td>56189547</td>\n",
       "      <td>827748</td>\n",
       "      <td>55106998</td>\n",
       "      <td>826060</td>\n",
       "      <td>1082549</td>\n",
       "      <td>1688</td>\n",
       "      <td>1.47</td>\n",
       "      <td>North America</td>\n",
       "    </tr>\n",
       "    <tr>\n",
       "      <th>1</th>\n",
       "      <td>India</td>\n",
       "      <td>34960261</td>\n",
       "      <td>482017</td>\n",
       "      <td>34922882</td>\n",
       "      <td>481893</td>\n",
       "      <td>37379</td>\n",
       "      <td>124</td>\n",
       "      <td>1.38</td>\n",
       "      <td>Asia</td>\n",
       "    </tr>\n",
       "    <tr>\n",
       "      <th>2</th>\n",
       "      <td>Brazil</td>\n",
       "      <td>22309081</td>\n",
       "      <td>619473</td>\n",
       "      <td>22297427</td>\n",
       "      <td>619401</td>\n",
       "      <td>11654</td>\n",
       "      <td>72</td>\n",
       "      <td>2.78</td>\n",
       "      <td>South America</td>\n",
       "    </tr>\n",
       "    <tr>\n",
       "      <th>3</th>\n",
       "      <td>United Kingdom</td>\n",
       "      <td>13497515</td>\n",
       "      <td>149367</td>\n",
       "      <td>13309651</td>\n",
       "      <td>149324</td>\n",
       "      <td>187864</td>\n",
       "      <td>43</td>\n",
       "      <td>1.11</td>\n",
       "      <td>Europe</td>\n",
       "    </tr>\n",
       "    <tr>\n",
       "      <th>4</th>\n",
       "      <td>France</td>\n",
       "      <td>10422830</td>\n",
       "      <td>125200</td>\n",
       "      <td>10355341</td>\n",
       "      <td>124930</td>\n",
       "      <td>67489</td>\n",
       "      <td>270</td>\n",
       "      <td>1.20</td>\n",
       "      <td>Europe</td>\n",
       "    </tr>\n",
       "  </tbody>\n",
       "</table>\n",
       "</div>"
      ],
      "text/plain": [
       "   Country/Region     Cases  Deaths    PCases  PDeaths  Cases (+)  Deaths (+)  \\\n",
       "0              US  56189547  827748  55106998   826060    1082549        1688   \n",
       "1           India  34960261  482017  34922882   481893      37379         124   \n",
       "2          Brazil  22309081  619473  22297427   619401      11654          72   \n",
       "3  United Kingdom  13497515  149367  13309651   149324     187864          43   \n",
       "4          France  10422830  125200  10355341   124930      67489         270   \n",
       "\n",
       "   Fatality Rate      Continent  \n",
       "0           1.47  North America  \n",
       "1           1.38           Asia  \n",
       "2           2.78  South America  \n",
       "3           1.11         Europe  \n",
       "4           1.20         Europe  "
      ]
     },
     "execution_count": 13,
     "metadata": {},
     "output_type": "execute_result"
    }
   ],
   "source": [
    "#hide\n",
    "for c in 'Cases, Deaths'.split(', '):\n",
    "    df_table[f'{c} (+)'] = (df_table[c] - df_table[f'P{c}']).clip(0)\n",
    "    #Clip ça veut dire, les chiffres negatif sont interdit\n",
    "df_table['Fatality Rate'] = (100* df_table['Deaths']/ df_table['Cases']).round(2)\n",
    "df_table['Continent'] = df_table['Country/Region'].map(mapping['map.continent'])\n",
    "df_table.head(5)"
   ]
  },
  {
   "cell_type": "code",
   "execution_count": 14,
   "id": "aboriginal-bulgaria",
   "metadata": {
    "execution": {
     "iopub.execute_input": "2022-01-05T00:29:05.774404Z",
     "iopub.status.busy": "2022-01-05T00:29:05.773723Z",
     "iopub.status.idle": "2022-01-05T00:29:05.779222Z",
     "shell.execute_reply": "2022-01-05T00:29:05.779675Z"
    },
    "papermill": {
     "duration": 0.042692,
     "end_time": "2022-01-05T00:29:05.779806",
     "exception": false,
     "start_time": "2022-01-05T00:29:05.737114",
     "status": "completed"
    },
    "tags": []
   },
   "outputs": [],
   "source": [
    "#hide\n",
    "#delete problematic countries from table\n",
    "df_table = df_table[~df_table['Country/Region'].isin(['Cape Verde', 'Cruise Ship', 'Kosovo'])]"
   ]
  },
  {
   "cell_type": "code",
   "execution_count": 15,
   "id": "fantastic-effect",
   "metadata": {
    "execution": {
     "iopub.execute_input": "2022-01-05T00:29:05.857701Z",
     "iopub.status.busy": "2022-01-05T00:29:05.854911Z",
     "iopub.status.idle": "2022-01-05T00:29:05.879958Z",
     "shell.execute_reply": "2022-01-05T00:29:05.879463Z"
    },
    "papermill": {
     "duration": 0.068428,
     "end_time": "2022-01-05T00:29:05.880071",
     "exception": false,
     "start_time": "2022-01-05T00:29:05.811643",
     "status": "completed"
    },
    "tags": []
   },
   "outputs": [
    {
     "data": {
      "text/html": [
       "<div>\n",
       "<style scoped>\n",
       "    .dataframe tbody tr th:only-of-type {\n",
       "        vertical-align: middle;\n",
       "    }\n",
       "\n",
       "    .dataframe tbody tr th {\n",
       "        vertical-align: top;\n",
       "    }\n",
       "\n",
       "    .dataframe thead th {\n",
       "        text-align: right;\n",
       "    }\n",
       "</style>\n",
       "<table border=\"1\" class=\"dataframe\">\n",
       "  <thead>\n",
       "    <tr style=\"text-align: right;\">\n",
       "      <th></th>\n",
       "      <th>Country/Region</th>\n",
       "      <th>Cases</th>\n",
       "      <th>Deaths</th>\n",
       "      <th>PCases</th>\n",
       "      <th>PDeaths</th>\n",
       "      <th>Cases (+)</th>\n",
       "      <th>Deaths (+)</th>\n",
       "      <th>Fatality Rate</th>\n",
       "      <th>Continent</th>\n",
       "    </tr>\n",
       "  </thead>\n",
       "  <tbody>\n",
       "    <tr>\n",
       "      <th>0</th>\n",
       "      <td>US</td>\n",
       "      <td>56189547</td>\n",
       "      <td>827748</td>\n",
       "      <td>55106998</td>\n",
       "      <td>826060</td>\n",
       "      <td>1082549</td>\n",
       "      <td>1688</td>\n",
       "      <td>1.5</td>\n",
       "      <td>North America</td>\n",
       "    </tr>\n",
       "    <tr>\n",
       "      <th>1</th>\n",
       "      <td>India</td>\n",
       "      <td>34960261</td>\n",
       "      <td>482017</td>\n",
       "      <td>34922882</td>\n",
       "      <td>481893</td>\n",
       "      <td>37379</td>\n",
       "      <td>124</td>\n",
       "      <td>1.4</td>\n",
       "      <td>Asia</td>\n",
       "    </tr>\n",
       "    <tr>\n",
       "      <th>2</th>\n",
       "      <td>Brazil</td>\n",
       "      <td>22309081</td>\n",
       "      <td>619473</td>\n",
       "      <td>22297427</td>\n",
       "      <td>619401</td>\n",
       "      <td>11654</td>\n",
       "      <td>72</td>\n",
       "      <td>2.8</td>\n",
       "      <td>South America</td>\n",
       "    </tr>\n",
       "    <tr>\n",
       "      <th>3</th>\n",
       "      <td>United Kingdom</td>\n",
       "      <td>13497515</td>\n",
       "      <td>149367</td>\n",
       "      <td>13309651</td>\n",
       "      <td>149324</td>\n",
       "      <td>187864</td>\n",
       "      <td>43</td>\n",
       "      <td>1.1</td>\n",
       "      <td>Europe</td>\n",
       "    </tr>\n",
       "    <tr>\n",
       "      <th>4</th>\n",
       "      <td>France</td>\n",
       "      <td>10422830</td>\n",
       "      <td>125200</td>\n",
       "      <td>10355341</td>\n",
       "      <td>124930</td>\n",
       "      <td>67489</td>\n",
       "      <td>270</td>\n",
       "      <td>1.2</td>\n",
       "      <td>Europe</td>\n",
       "    </tr>\n",
       "  </tbody>\n",
       "</table>\n",
       "</div>"
      ],
      "text/plain": [
       "   Country/Region     Cases  Deaths    PCases  PDeaths  Cases (+)  Deaths (+)  \\\n",
       "0              US  56189547  827748  55106998   826060    1082549        1688   \n",
       "1           India  34960261  482017  34922882   481893      37379         124   \n",
       "2          Brazil  22309081  619473  22297427   619401      11654          72   \n",
       "3  United Kingdom  13497515  149367  13309651   149324     187864          43   \n",
       "4          France  10422830  125200  10355341   124930      67489         270   \n",
       "\n",
       "   Fatality Rate      Continent  \n",
       "0            1.5  North America  \n",
       "1            1.4           Asia  \n",
       "2            2.8  South America  \n",
       "3            1.1         Europe  \n",
       "4            1.2         Europe  "
      ]
     },
     "execution_count": 15,
     "metadata": {},
     "output_type": "execute_result"
    }
   ],
   "source": [
    "#hide\n",
    "df_table = (pd.DataFrame(dict(Cases=dfc_cases, Deaths=dfc_deaths, PCases=dfp_cases, PDeaths=dfp_deaths))\n",
    "             .sort_values(by=['Cases', 'Deaths'], ascending=[False, False])\n",
    "             .reset_index())\n",
    "df_table.rename(columns={'index': 'Country/Region'}, inplace=True)\n",
    "for c in 'Cases, Deaths'.split(', '):\n",
    "    df_table[f'{c} (+)'] = (df_table[c] - df_table[f'P{c}']).clip(0)  # DATA BUG\n",
    "df_table['Fatality Rate'] = (100 * df_table['Deaths'] / df_table['Cases']).round(1)\n",
    "df_table['Continent'] = df_table['Country/Region'].map(mapping['map.continent'])\n",
    "df_table.head(5)"
   ]
  },
  {
   "cell_type": "code",
   "execution_count": 16,
   "id": "fewer-occasion",
   "metadata": {
    "execution": {
     "iopub.execute_input": "2022-01-05T00:29:05.952252Z",
     "iopub.status.busy": "2022-01-05T00:29:05.951639Z",
     "iopub.status.idle": "2022-01-05T00:29:05.953829Z",
     "shell.execute_reply": "2022-01-05T00:29:05.954438Z"
    },
    "papermill": {
     "duration": 0.040216,
     "end_time": "2022-01-05T00:29:05.954576",
     "exception": false,
     "start_time": "2022-01-05T00:29:05.914360",
     "status": "completed"
    },
    "tags": []
   },
   "outputs": [],
   "source": [
    "#hide\n",
    "#delete problematic countries from table\n",
    "df_table = df_table[~df_table['Country/Region'].isin(['Cape Verde', 'Cruise Ship', 'Kosovo'])]"
   ]
  },
  {
   "cell_type": "code",
   "execution_count": 17,
   "id": "related-center",
   "metadata": {
    "execution": {
     "iopub.execute_input": "2022-01-05T00:29:06.030863Z",
     "iopub.status.busy": "2022-01-05T00:29:06.030314Z",
     "iopub.status.idle": "2022-01-05T00:29:06.044281Z",
     "shell.execute_reply": "2022-01-05T00:29:06.044737Z"
    },
    "papermill": {
     "duration": 0.055485,
     "end_time": "2022-01-05T00:29:06.044890",
     "exception": false,
     "start_time": "2022-01-05T00:29:05.989405",
     "status": "completed"
    },
    "tags": []
   },
   "outputs": [],
   "source": [
    "#hide\n",
    "metrics = [df_table.columns[index] for index in [1,2,5,6]]\n",
    "# s_china = df_table[df_table['Country/Region'].eq('China')][metrics].sum().add_prefix('China ')\n",
    "s_us = df_table[df_table['Country/Region'].eq('US')][metrics].sum().add_prefix('US ')\n",
    "s_eu = df_table[df_table['Continent'].eq('Europe')][metrics].sum().add_prefix('EU ')\n",
    "s_ind = df_table[df_table['Country/Region'].eq('India')][metrics].sum().add_prefix('India ')\n",
    "summary = {'updated': pd.to_datetime(dt_today), 'since': pd.to_datetime(dt_yday)}\n",
    "summary = {'updated': pd.to_datetime(dt_today), 'since': pd.to_datetime(dt_yday)}\n",
    "summary = {**summary, **df_table[metrics].sum(), **s_ind, **s_us, **s_eu}"
   ]
  },
  {
   "cell_type": "code",
   "execution_count": 18,
   "id": "engaging-syndrome",
   "metadata": {
    "execution": {
     "iopub.execute_input": "2022-01-05T00:29:06.119165Z",
     "iopub.status.busy": "2022-01-05T00:29:06.118594Z",
     "iopub.status.idle": "2022-01-05T00:29:06.132440Z",
     "shell.execute_reply": "2022-01-05T00:29:06.131960Z"
    },
    "papermill": {
     "duration": 0.052855,
     "end_time": "2022-01-05T00:29:06.132548",
     "exception": false,
     "start_time": "2022-01-05T00:29:06.079693",
     "status": "completed"
    },
    "tags": []
   },
   "outputs": [],
   "source": [
    "#hide\n",
    "dft_ct_new_cases = dft_cases.groupby(COL_REGION)[dt_cols].sum().diff(axis=1).fillna(0).astype(int)"
   ]
  },
  {
   "cell_type": "code",
   "execution_count": 19,
   "id": "neutral-assignment",
   "metadata": {
    "execution": {
     "iopub.execute_input": "2022-01-05T00:29:06.210589Z",
     "iopub.status.busy": "2022-01-05T00:29:06.209756Z",
     "iopub.status.idle": "2022-01-05T00:29:06.211196Z",
     "shell.execute_reply": "2022-01-05T00:29:06.211801Z"
    },
    "papermill": {
     "duration": 0.045473,
     "end_time": "2022-01-05T00:29:06.211939",
     "exception": false,
     "start_time": "2022-01-05T00:29:06.166466",
     "status": "completed"
    },
    "tags": []
   },
   "outputs": [],
   "source": [
    "#hide\n",
    "everydaycases = dft_ct_new_cases.cumsum(axis=1)"
   ]
  },
  {
   "cell_type": "code",
   "execution_count": 20,
   "id": "parliamentary-calgary",
   "metadata": {
    "execution": {
     "iopub.execute_input": "2022-01-05T00:29:06.293141Z",
     "iopub.status.busy": "2022-01-05T00:29:06.292562Z",
     "iopub.status.idle": "2022-01-05T00:29:06.993824Z",
     "shell.execute_reply": "2022-01-05T00:29:06.992828Z"
    },
    "papermill": {
     "duration": 0.742541,
     "end_time": "2022-01-05T00:29:06.993952",
     "exception": false,
     "start_time": "2022-01-05T00:29:06.251411",
     "status": "completed"
    },
    "tags": []
   },
   "outputs": [],
   "source": [
    "#hide\n",
    "import pandas as pd\n",
    "import matplotlib.pyplot as plt\n",
    "import matplotlib.ticker as ticker\n",
    "import matplotlib.animation as animation\n",
    "from IPython.display import HTML"
   ]
  },
  {
   "cell_type": "code",
   "execution_count": 21,
   "id": "lasting-extraction",
   "metadata": {
    "execution": {
     "iopub.execute_input": "2022-01-05T00:29:07.070477Z",
     "iopub.status.busy": "2022-01-05T00:29:07.069762Z",
     "iopub.status.idle": "2022-01-05T00:29:07.076511Z",
     "shell.execute_reply": "2022-01-05T00:29:07.077080Z"
    },
    "papermill": {
     "duration": 0.049707,
     "end_time": "2022-01-05T00:29:07.077224",
     "exception": false,
     "start_time": "2022-01-05T00:29:07.027517",
     "status": "completed"
    },
    "tags": []
   },
   "outputs": [],
   "source": [
    "#hide\n",
    "t = everydaycases.stack()"
   ]
  },
  {
   "cell_type": "code",
   "execution_count": 22,
   "id": "premier-sleeve",
   "metadata": {
    "execution": {
     "iopub.execute_input": "2022-01-05T00:29:07.149864Z",
     "iopub.status.busy": "2022-01-05T00:29:07.149301Z",
     "iopub.status.idle": "2022-01-05T00:29:07.159151Z",
     "shell.execute_reply": "2022-01-05T00:29:07.159756Z"
    },
    "papermill": {
     "duration": 0.047954,
     "end_time": "2022-01-05T00:29:07.159879",
     "exception": false,
     "start_time": "2022-01-05T00:29:07.111925",
     "status": "completed"
    },
    "tags": []
   },
   "outputs": [],
   "source": [
    "#hide\n",
    "g = t.reset_index(['Country/Region'])"
   ]
  },
  {
   "cell_type": "code",
   "execution_count": 23,
   "id": "distributed-pittsburgh",
   "metadata": {
    "execution": {
     "iopub.execute_input": "2022-01-05T00:29:07.242141Z",
     "iopub.status.busy": "2022-01-05T00:29:07.241532Z",
     "iopub.status.idle": "2022-01-05T00:29:07.243957Z",
     "shell.execute_reply": "2022-01-05T00:29:07.243461Z"
    },
    "papermill": {
     "duration": 0.044466,
     "end_time": "2022-01-05T00:29:07.244117",
     "exception": false,
     "start_time": "2022-01-05T00:29:07.199651",
     "status": "completed"
    },
    "tags": []
   },
   "outputs": [],
   "source": [
    "#hide\n",
    "g.index.name = 'date'"
   ]
  },
  {
   "cell_type": "code",
   "execution_count": 24,
   "id": "naked-donor",
   "metadata": {
    "execution": {
     "iopub.execute_input": "2022-01-05T00:29:07.320029Z",
     "iopub.status.busy": "2022-01-05T00:29:07.319250Z",
     "iopub.status.idle": "2022-01-05T00:29:07.323342Z",
     "shell.execute_reply": "2022-01-05T00:29:07.323828Z"
    },
    "papermill": {
     "duration": 0.044556,
     "end_time": "2022-01-05T00:29:07.323970",
     "exception": false,
     "start_time": "2022-01-05T00:29:07.279414",
     "status": "completed"
    },
    "tags": []
   },
   "outputs": [],
   "source": [
    "# #hide\n",
    "# g = g.reset_index(['date'])"
   ]
  },
  {
   "cell_type": "code",
   "execution_count": 25,
   "id": "incomplete-mustang",
   "metadata": {
    "execution": {
     "iopub.execute_input": "2022-01-05T00:29:07.408065Z",
     "iopub.status.busy": "2022-01-05T00:29:07.407499Z",
     "iopub.status.idle": "2022-01-05T00:29:07.410125Z",
     "shell.execute_reply": "2022-01-05T00:29:07.409578Z"
    },
    "papermill": {
     "duration": 0.045903,
     "end_time": "2022-01-05T00:29:07.410252",
     "exception": false,
     "start_time": "2022-01-05T00:29:07.364349",
     "status": "completed"
    },
    "tags": []
   },
   "outputs": [],
   "source": [
    "#hide\n",
    "# g.head()"
   ]
  },
  {
   "cell_type": "code",
   "execution_count": 26,
   "id": "specific-kruger",
   "metadata": {
    "execution": {
     "iopub.execute_input": "2022-01-05T00:29:07.490086Z",
     "iopub.status.busy": "2022-01-05T00:29:07.489469Z",
     "iopub.status.idle": "2022-01-05T00:29:07.492906Z",
     "shell.execute_reply": "2022-01-05T00:29:07.493358Z"
    },
    "papermill": {
     "duration": 0.047663,
     "end_time": "2022-01-05T00:29:07.493535",
     "exception": false,
     "start_time": "2022-01-05T00:29:07.445872",
     "status": "completed"
    },
    "tags": []
   },
   "outputs": [],
   "source": [
    "#hide\n",
    "# g.columns = ['date','country','cases']"
   ]
  },
  {
   "cell_type": "code",
   "execution_count": 27,
   "id": "tender-conversion",
   "metadata": {
    "execution": {
     "iopub.execute_input": "2022-01-05T00:29:07.574329Z",
     "iopub.status.busy": "2022-01-05T00:29:07.573562Z",
     "iopub.status.idle": "2022-01-05T00:29:07.577392Z",
     "shell.execute_reply": "2022-01-05T00:29:07.576890Z"
    },
    "papermill": {
     "duration": 0.046608,
     "end_time": "2022-01-05T00:29:07.577531",
     "exception": false,
     "start_time": "2022-01-05T00:29:07.530923",
     "status": "completed"
    },
    "tags": []
   },
   "outputs": [],
   "source": [
    "#hide\n",
    "# g['continent'] = g.country"
   ]
  },
  {
   "cell_type": "code",
   "execution_count": 28,
   "id": "substantial-wilderness",
   "metadata": {
    "execution": {
     "iopub.execute_input": "2022-01-05T00:29:07.662907Z",
     "iopub.status.busy": "2022-01-05T00:29:07.662053Z",
     "iopub.status.idle": "2022-01-05T00:29:07.667365Z",
     "shell.execute_reply": "2022-01-05T00:29:07.666806Z"
    },
    "papermill": {
     "duration": 0.051679,
     "end_time": "2022-01-05T00:29:07.667506",
     "exception": false,
     "start_time": "2022-01-05T00:29:07.615827",
     "status": "completed"
    },
    "tags": []
   },
   "outputs": [],
   "source": [
    "#hide\n",
    "# cols = list(g.columns.values)"
   ]
  },
  {
   "cell_type": "code",
   "execution_count": 29,
   "id": "solved-farming",
   "metadata": {
    "execution": {
     "iopub.execute_input": "2022-01-05T00:29:07.748047Z",
     "iopub.status.busy": "2022-01-05T00:29:07.747406Z",
     "iopub.status.idle": "2022-01-05T00:29:07.751563Z",
     "shell.execute_reply": "2022-01-05T00:29:07.751039Z"
    },
    "papermill": {
     "duration": 0.045656,
     "end_time": "2022-01-05T00:29:07.751691",
     "exception": false,
     "start_time": "2022-01-05T00:29:07.706035",
     "status": "completed"
    },
    "tags": []
   },
   "outputs": [],
   "source": [
    "#hide\n",
    "# cols.insert(0, cols.pop())"
   ]
  },
  {
   "cell_type": "code",
   "execution_count": 30,
   "id": "executed-adoption",
   "metadata": {
    "execution": {
     "iopub.execute_input": "2022-01-05T00:29:07.829848Z",
     "iopub.status.busy": "2022-01-05T00:29:07.829244Z",
     "iopub.status.idle": "2022-01-05T00:29:07.831810Z",
     "shell.execute_reply": "2022-01-05T00:29:07.831093Z"
    },
    "papermill": {
     "duration": 0.042982,
     "end_time": "2022-01-05T00:29:07.831925",
     "exception": false,
     "start_time": "2022-01-05T00:29:07.788943",
     "status": "completed"
    },
    "tags": []
   },
   "outputs": [],
   "source": [
    "#hide\n",
    "# g = g[cols]"
   ]
  },
  {
   "cell_type": "code",
   "execution_count": 31,
   "id": "subject-dublin",
   "metadata": {
    "execution": {
     "iopub.execute_input": "2022-01-05T00:29:07.909845Z",
     "iopub.status.busy": "2022-01-05T00:29:07.909209Z",
     "iopub.status.idle": "2022-01-05T00:29:07.912811Z",
     "shell.execute_reply": "2022-01-05T00:29:07.913290Z"
    },
    "papermill": {
     "duration": 0.044699,
     "end_time": "2022-01-05T00:29:07.913437",
     "exception": false,
     "start_time": "2022-01-05T00:29:07.868738",
     "status": "completed"
    },
    "tags": []
   },
   "outputs": [],
   "source": [
    "#hide\n",
    "# g['continent'] = g['continent'].map(mapping['map.continent'])"
   ]
  },
  {
   "cell_type": "code",
   "execution_count": 32,
   "id": "freelance-scout",
   "metadata": {
    "execution": {
     "iopub.execute_input": "2022-01-05T00:29:07.988377Z",
     "iopub.status.busy": "2022-01-05T00:29:07.987815Z",
     "iopub.status.idle": "2022-01-05T00:29:07.989788Z",
     "shell.execute_reply": "2022-01-05T00:29:07.989094Z"
    },
    "papermill": {
     "duration": 0.040333,
     "end_time": "2022-01-05T00:29:07.989911",
     "exception": false,
     "start_time": "2022-01-05T00:29:07.949578",
     "status": "completed"
    },
    "tags": []
   },
   "outputs": [],
   "source": [
    "#hide\n",
    "# g.head()"
   ]
  },
  {
   "cell_type": "code",
   "execution_count": 33,
   "id": "limited-engine",
   "metadata": {
    "execution": {
     "iopub.execute_input": "2022-01-05T00:29:08.066931Z",
     "iopub.status.busy": "2022-01-05T00:29:08.066019Z",
     "iopub.status.idle": "2022-01-05T00:29:08.069914Z",
     "shell.execute_reply": "2022-01-05T00:29:08.069277Z"
    },
    "papermill": {
     "duration": 0.043507,
     "end_time": "2022-01-05T00:29:08.070050",
     "exception": false,
     "start_time": "2022-01-05T00:29:08.026543",
     "status": "completed"
    },
    "tags": []
   },
   "outputs": [],
   "source": [
    "# hide\n",
    "# g['date'] = g['date'].astype('datetime64[ns]')"
   ]
  },
  {
   "cell_type": "code",
   "execution_count": 34,
   "id": "sophisticated-supervisor",
   "metadata": {
    "execution": {
     "iopub.execute_input": "2022-01-05T00:29:08.145082Z",
     "iopub.status.busy": "2022-01-05T00:29:08.144531Z",
     "iopub.status.idle": "2022-01-05T00:29:08.148311Z",
     "shell.execute_reply": "2022-01-05T00:29:08.148748Z"
    },
    "papermill": {
     "duration": 0.041125,
     "end_time": "2022-01-05T00:29:08.148868",
     "exception": false,
     "start_time": "2022-01-05T00:29:08.107743",
     "status": "completed"
    },
    "tags": []
   },
   "outputs": [],
   "source": [
    "#hide\n",
    "# g['date'] = g.date.dt.dayofyear"
   ]
  },
  {
   "cell_type": "code",
   "execution_count": 35,
   "id": "inside-dubai",
   "metadata": {
    "execution": {
     "iopub.execute_input": "2022-01-05T00:29:08.223035Z",
     "iopub.status.busy": "2022-01-05T00:29:08.222446Z",
     "iopub.status.idle": "2022-01-05T00:29:08.224296Z",
     "shell.execute_reply": "2022-01-05T00:29:08.224698Z"
    },
    "papermill": {
     "duration": 0.04258,
     "end_time": "2022-01-05T00:29:08.224821",
     "exception": false,
     "start_time": "2022-01-05T00:29:08.182241",
     "status": "completed"
    },
    "tags": []
   },
   "outputs": [],
   "source": [
    "#hide\n",
    "# g = g.rename(columns= {'continent':'group','country':'name','cases':'value'})"
   ]
  },
  {
   "cell_type": "code",
   "execution_count": 36,
   "id": "fleet-motorcycle",
   "metadata": {
    "execution": {
     "iopub.execute_input": "2022-01-05T00:29:08.300822Z",
     "iopub.status.busy": "2022-01-05T00:29:08.300269Z",
     "iopub.status.idle": "2022-01-05T00:29:08.303678Z",
     "shell.execute_reply": "2022-01-05T00:29:08.304140Z"
    },
    "papermill": {
     "duration": 0.041709,
     "end_time": "2022-01-05T00:29:08.304310",
     "exception": false,
     "start_time": "2022-01-05T00:29:08.262601",
     "status": "completed"
    },
    "tags": []
   },
   "outputs": [],
   "source": [
    "#hide\n",
    "# cols = ['name','group','day','value']"
   ]
  },
  {
   "cell_type": "code",
   "execution_count": 37,
   "id": "continued-sleeping",
   "metadata": {
    "execution": {
     "iopub.execute_input": "2022-01-05T00:29:08.380888Z",
     "iopub.status.busy": "2022-01-05T00:29:08.380320Z",
     "iopub.status.idle": "2022-01-05T00:29:08.382993Z",
     "shell.execute_reply": "2022-01-05T00:29:08.381868Z"
    },
    "papermill": {
     "duration": 0.041293,
     "end_time": "2022-01-05T00:29:08.383131",
     "exception": false,
     "start_time": "2022-01-05T00:29:08.341838",
     "status": "completed"
    },
    "tags": []
   },
   "outputs": [],
   "source": [
    "#hide\n",
    "# g.rename(columns= {'date':'day'},inplace = True)"
   ]
  },
  {
   "cell_type": "code",
   "execution_count": 38,
   "id": "major-fight",
   "metadata": {
    "execution": {
     "iopub.execute_input": "2022-01-05T00:29:08.460347Z",
     "iopub.status.busy": "2022-01-05T00:29:08.459730Z",
     "iopub.status.idle": "2022-01-05T00:29:08.463339Z",
     "shell.execute_reply": "2022-01-05T00:29:08.463835Z"
    },
    "papermill": {
     "duration": 0.044169,
     "end_time": "2022-01-05T00:29:08.463969",
     "exception": false,
     "start_time": "2022-01-05T00:29:08.419800",
     "status": "completed"
    },
    "tags": []
   },
   "outputs": [],
   "source": [
    "#hide\n",
    "# g = g[cols]"
   ]
  },
  {
   "cell_type": "code",
   "execution_count": 39,
   "id": "structured-mobile",
   "metadata": {
    "execution": {
     "iopub.execute_input": "2022-01-05T00:29:08.540331Z",
     "iopub.status.busy": "2022-01-05T00:29:08.539737Z",
     "iopub.status.idle": "2022-01-05T00:29:08.541801Z",
     "shell.execute_reply": "2022-01-05T00:29:08.541106Z"
    },
    "papermill": {
     "duration": 0.042401,
     "end_time": "2022-01-05T00:29:08.541928",
     "exception": false,
     "start_time": "2022-01-05T00:29:08.499527",
     "status": "completed"
    },
    "tags": []
   },
   "outputs": [],
   "source": [
    "# #hide\n",
    "# g = g[g.group.notna()]"
   ]
  },
  {
   "cell_type": "code",
   "execution_count": 40,
   "id": "determined-closing",
   "metadata": {
    "execution": {
     "iopub.execute_input": "2022-01-05T00:29:08.620207Z",
     "iopub.status.busy": "2022-01-05T00:29:08.619446Z",
     "iopub.status.idle": "2022-01-05T00:29:08.623302Z",
     "shell.execute_reply": "2022-01-05T00:29:08.622514Z"
    },
    "papermill": {
     "duration": 0.047069,
     "end_time": "2022-01-05T00:29:08.623556",
     "exception": false,
     "start_time": "2022-01-05T00:29:08.576487",
     "status": "completed"
    },
    "tags": []
   },
   "outputs": [],
   "source": [
    "# #hide\n",
    "# colors = dict(zip(\n",
    "#     [\"Oceania\", \"Europe\", \"Asia\", \"South America\", \"Middle East\", \"North America\", \"Africa\"],\n",
    "#     [\"#adb0ff\", \"#ffb3ff\", \"#90d595\", \"#e48381\", \"#aafbff\", \"#f7bb5f\", \"#eafb50\"]\n",
    "# ))\n",
    "# group_lk = g.set_index('name')['group'].to_dict()"
   ]
  },
  {
   "cell_type": "code",
   "execution_count": null,
   "id": "gross-drinking",
   "metadata": {
    "papermill": {
     "duration": 0.039864,
     "end_time": "2022-01-05T00:29:08.700915",
     "exception": false,
     "start_time": "2022-01-05T00:29:08.661051",
     "status": "completed"
    },
    "tags": []
   },
   "outputs": [],
   "source": []
  },
  {
   "cell_type": "code",
   "execution_count": 41,
   "id": "subject-macintosh",
   "metadata": {
    "execution": {
     "iopub.execute_input": "2022-01-05T00:29:08.783435Z",
     "iopub.status.busy": "2022-01-05T00:29:08.782597Z",
     "iopub.status.idle": "2022-01-05T00:29:08.785225Z",
     "shell.execute_reply": "2022-01-05T00:29:08.785775Z"
    },
    "papermill": {
     "duration": 0.045584,
     "end_time": "2022-01-05T00:29:08.785929",
     "exception": false,
     "start_time": "2022-01-05T00:29:08.740345",
     "status": "completed"
    },
    "tags": []
   },
   "outputs": [],
   "source": [
    "# #hide\n",
    "# fig, ax = plt.subplots(figsize=(15, 8))\n",
    "\n",
    "# def draw_barchart(current_day):\n",
    "#     dff = g[g['day'].eq(current_day)].sort_values(by='value', ascending=True).tail(10)\n",
    "#     ax.clear()\n",
    "#     ax.barh(dff['name'], dff['value'], color=[colors[group_lk[x]] for x in dff['name']])\n",
    "#     dx = dff['value'].max() / 200\n",
    "    \n",
    "#     for i, (value, name) in enumerate(zip(dff['value'], dff['name'])):\n",
    "#         ax.text(value-dx, i,     name,           size=14, weight=600, ha='right', va='bottom')\n",
    "#         ax.text(value-dx, i-.25, group_lk[name], size=10, color='#444444', ha='right', va='baseline')\n",
    "#         ax.text(value+dx, i,     f'{value:,.0f}',  size=14, ha='left',  va='center')\n",
    "#     ax.text(1, 0.4, current_day, transform=ax.transAxes, color='#777777', size=46, ha='right', weight=800)\n",
    "#     ax.text(0, 1.06, 'Population (thousands)', transform=ax.transAxes, size=12, color='#777777')\n",
    "#     ax.xaxis.set_major_formatter(ticker.StrMethodFormatter('{x:,.0f}'))\n",
    "#     ax.xaxis.set_ticks_position('top')\n",
    "#     ax.tick_params(axis='x', colors='#777777', labelsize=12)\n",
    "#     ax.set_yticks([])\n",
    "#     ax.margins(0, 0.01)\n",
    "#     ax.grid(which='major', axis='x', linestyle='-')\n",
    "#     ax.set_axisbelow(True)\n",
    "    \n",
    "#     ax.text(0, 1.15, 'Coronavirus',\n",
    "#             transform=ax.transAxes, size=24, weight=600, ha='left', va='top')\n",
    "# #     ax.text(1, 0, 'by @pratapvardhan; credit @jburnmurdoch', transform=ax.transAxes, color='#777777', ha='right',\n",
    "# #             bbox=dict(facecolor='white', alpha=0.8, edgecolor='white'))\n",
    "#     plt.box(False)"
   ]
  },
  {
   "cell_type": "code",
   "execution_count": 42,
   "id": "sexual-wages",
   "metadata": {
    "execution": {
     "iopub.execute_input": "2022-01-05T00:29:08.865987Z",
     "iopub.status.busy": "2022-01-05T00:29:08.865396Z",
     "iopub.status.idle": "2022-01-05T00:29:08.869370Z",
     "shell.execute_reply": "2022-01-05T00:29:08.868894Z"
    },
    "papermill": {
     "duration": 0.043619,
     "end_time": "2022-01-05T00:29:08.869508",
     "exception": false,
     "start_time": "2022-01-05T00:29:08.825889",
     "status": "completed"
    },
    "tags": []
   },
   "outputs": [],
   "source": [
    "# #hide_input\n",
    "# fig, ax = plt.subplots(figsize=(15, 8))\n",
    "# animator = animation.FuncAnimation(fig, draw_barchart, frames=range(g.day.values.min(), g.day.values.max()))\n",
    "# HTML(animator.to_jshtml())\n",
    "# # or use animator.to_html5_video() or animator.save() "
   ]
  },
  {
   "cell_type": "code",
   "execution_count": null,
   "id": "australian-container",
   "metadata": {
    "papermill": {
     "duration": 0.03576,
     "end_time": "2022-01-05T00:29:08.941677",
     "exception": false,
     "start_time": "2022-01-05T00:29:08.905917",
     "status": "completed"
    },
    "tags": []
   },
   "outputs": [],
   "source": []
  },
  {
   "cell_type": "code",
   "execution_count": null,
   "id": "mediterranean-pontiac",
   "metadata": {
    "papermill": {
     "duration": 0.033569,
     "end_time": "2022-01-05T00:29:09.014705",
     "exception": false,
     "start_time": "2022-01-05T00:29:08.981136",
     "status": "completed"
    },
    "tags": []
   },
   "outputs": [],
   "source": []
  },
  {
   "cell_type": "code",
   "execution_count": null,
   "id": "aging-legislature",
   "metadata": {
    "papermill": {
     "duration": 0.042724,
     "end_time": "2022-01-05T00:29:09.098155",
     "exception": false,
     "start_time": "2022-01-05T00:29:09.055431",
     "status": "completed"
    },
    "tags": []
   },
   "outputs": [],
   "source": []
  }
 ],
 "metadata": {
  "kernelspec": {
   "display_name": "Python 3",
   "language": "python",
   "name": "python3"
  },
  "language_info": {
   "codemirror_mode": {
    "name": "ipython",
    "version": 3
   },
   "file_extension": ".py",
   "mimetype": "text/x-python",
   "name": "python",
   "nbconvert_exporter": "python",
   "pygments_lexer": "ipython3",
   "version": "3.6.15"
  },
  "papermill": {
   "duration": 7.193985,
   "end_time": "2022-01-05T00:29:09.470791",
   "environment_variables": {},
   "exception": null,
   "input_path": "2020-03-21-covid19exp.ipynb",
   "output_path": "2020-03-21-covid19exp.ipynb",
   "parameters": {},
   "start_time": "2022-01-05T00:29:02.276806",
   "version": "2.0.0"
  }
 },
 "nbformat": 4,
 "nbformat_minor": 5
}