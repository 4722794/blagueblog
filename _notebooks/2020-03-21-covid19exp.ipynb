{
 "cells": [
  {
   "cell_type": "markdown",
   "id": "muslim-click",
   "metadata": {
    "papermill": {
     "duration": 0.034377,
     "end_time": "2022-07-18T00:44:55.480732",
     "exception": false,
     "start_time": "2022-07-18T00:44:55.446355",
     "status": "completed"
    },
    "tags": []
   },
   "source": [
    "# COVID-19 Case Race\n",
    "> A race chart to see rising cases around the world\n",
    "\n",
    "- author: Hargun Oberoi\n",
    "- image: images/covid-overview.png\n",
    "- hide: false\n",
    "- badges: false"
   ]
  },
  {
   "cell_type": "code",
   "execution_count": 1,
   "id": "proof-material",
   "metadata": {
    "execution": {
     "iopub.execute_input": "2022-07-18T00:44:55.551819Z",
     "iopub.status.busy": "2022-07-18T00:44:55.551211Z",
     "iopub.status.idle": "2022-07-18T00:44:55.867738Z",
     "shell.execute_reply": "2022-07-18T00:44:55.867155Z"
    },
    "papermill": {
     "duration": 0.356008,
     "end_time": "2022-07-18T00:44:55.867891",
     "exception": false,
     "start_time": "2022-07-18T00:44:55.511883",
     "status": "completed"
    },
    "tags": []
   },
   "outputs": [],
   "source": [
    "#hide\n",
    "import numpy as np\n",
    "import pandas as pd\n",
    "from jinja2 import Template\n",
    "from IPython.display import HTML"
   ]
  },
  {
   "cell_type": "code",
   "execution_count": 2,
   "id": "developed-terminology",
   "metadata": {
    "execution": {
     "iopub.execute_input": "2022-07-18T00:44:55.932298Z",
     "iopub.status.busy": "2022-07-18T00:44:55.931632Z",
     "iopub.status.idle": "2022-07-18T00:44:55.933924Z",
     "shell.execute_reply": "2022-07-18T00:44:55.933346Z"
    },
    "papermill": {
     "duration": 0.035985,
     "end_time": "2022-07-18T00:44:55.934028",
     "exception": false,
     "start_time": "2022-07-18T00:44:55.898043",
     "status": "completed"
    },
    "tags": []
   },
   "outputs": [],
   "source": [
    "#hide\n",
    "\n",
    "# FETCH\n",
    "base_url = 'https://raw.githubusercontent.com/pratapvardhan/notebooks/master/covid19/'\n",
    "paths = {\n",
    "    'mapping': base_url + 'mapping_countries.csv',\n",
    "    'overview': base_url + 'overview.tpl'\n",
    "}"
   ]
  },
  {
   "cell_type": "code",
   "execution_count": 3,
   "id": "dynamic-saver",
   "metadata": {
    "execution": {
     "iopub.execute_input": "2022-07-18T00:44:56.003271Z",
     "iopub.status.busy": "2022-07-18T00:44:56.002703Z",
     "iopub.status.idle": "2022-07-18T00:44:56.005874Z",
     "shell.execute_reply": "2022-07-18T00:44:56.006420Z"
    },
    "papermill": {
     "duration": 0.041986,
     "end_time": "2022-07-18T00:44:56.006532",
     "exception": false,
     "start_time": "2022-07-18T00:44:55.964546",
     "status": "completed"
    },
    "tags": []
   },
   "outputs": [
    {
     "data": {
      "text/plain": [
       "'https://raw.githubusercontent.com/pratapvardhan/notebooks/master/covid19/mapping_countries.csv'"
      ]
     },
     "execution_count": 3,
     "metadata": {},
     "output_type": "execute_result"
    }
   ],
   "source": [
    "#hide\n",
    "paths['mapping']"
   ]
  },
  {
   "cell_type": "code",
   "execution_count": 4,
   "id": "urban-software",
   "metadata": {
    "execution": {
     "iopub.execute_input": "2022-07-18T00:44:56.071230Z",
     "iopub.status.busy": "2022-07-18T00:44:56.070548Z",
     "iopub.status.idle": "2022-07-18T00:44:56.073102Z",
     "shell.execute_reply": "2022-07-18T00:44:56.072573Z"
    },
    "papermill": {
     "duration": 0.037252,
     "end_time": "2022-07-18T00:44:56.073225",
     "exception": false,
     "start_time": "2022-07-18T00:44:56.035973",
     "status": "completed"
    },
    "tags": []
   },
   "outputs": [],
   "source": [
    "#hide\n",
    "def get_mappings(url):\n",
    "    df = pd.read_csv(url)\n",
    "    return {\n",
    "        'df': df,\n",
    "        'replace.country': dict(df.dropna(subset=['Name']).set_index('Country')['Name']),\n",
    "        'map.continent': dict(df.set_index('Name')['Continent'])\n",
    "    }"
   ]
  },
  {
   "cell_type": "code",
   "execution_count": 5,
   "id": "intimate-machinery",
   "metadata": {
    "execution": {
     "iopub.execute_input": "2022-07-18T00:44:56.137590Z",
     "iopub.status.busy": "2022-07-18T00:44:56.136986Z",
     "iopub.status.idle": "2022-07-18T00:44:56.199057Z",
     "shell.execute_reply": "2022-07-18T00:44:56.198555Z"
    },
    "papermill": {
     "duration": 0.09631,
     "end_time": "2022-07-18T00:44:56.199171",
     "exception": false,
     "start_time": "2022-07-18T00:44:56.102861",
     "status": "completed"
    },
    "tags": []
   },
   "outputs": [],
   "source": [
    "#hide\n",
    "mapping = get_mappings(paths['mapping'])"
   ]
  },
  {
   "cell_type": "code",
   "execution_count": 6,
   "id": "certified-tactics",
   "metadata": {
    "execution": {
     "iopub.execute_input": "2022-07-18T00:44:56.263404Z",
     "iopub.status.busy": "2022-07-18T00:44:56.262828Z",
     "iopub.status.idle": "2022-07-18T00:44:56.265205Z",
     "shell.execute_reply": "2022-07-18T00:44:56.265762Z"
    },
    "papermill": {
     "duration": 0.03706,
     "end_time": "2022-07-18T00:44:56.265884",
     "exception": false,
     "start_time": "2022-07-18T00:44:56.228824",
     "status": "completed"
    },
    "tags": []
   },
   "outputs": [],
   "source": [
    "#hide\n",
    "def get_template(path):\n",
    "    from urllib.parse import urlparse\n",
    "    if bool(urlparse(path).netloc):\n",
    "        from urllib.request import urlopen\n",
    "        return urlopen(path).read().decode('utf8')\n",
    "    return open(path).read()"
   ]
  },
  {
   "cell_type": "code",
   "execution_count": 7,
   "id": "realistic-blast",
   "metadata": {
    "execution": {
     "iopub.execute_input": "2022-07-18T00:44:56.329594Z",
     "iopub.status.busy": "2022-07-18T00:44:56.328889Z",
     "iopub.status.idle": "2022-07-18T00:44:56.331236Z",
     "shell.execute_reply": "2022-07-18T00:44:56.330644Z"
    },
    "papermill": {
     "duration": 0.036177,
     "end_time": "2022-07-18T00:44:56.331341",
     "exception": false,
     "start_time": "2022-07-18T00:44:56.295164",
     "status": "completed"
    },
    "tags": []
   },
   "outputs": [],
   "source": [
    "#hide\n",
    "def get_frame(name):\n",
    "    url = (\n",
    "        'https://raw.githubusercontent.com/CSSEGISandData/COVID-19/master/csse_covid_19_data/'\n",
    "        f'csse_covid_19_time_series/time_series_covid19_{name}_global.csv')\n",
    "    df = pd.read_csv(url)\n",
    "    # rename countries\n",
    "    df['Country/Region'] = df['Country/Region'].replace(mapping['replace.country'])\n",
    "    return df"
   ]
  },
  {
   "cell_type": "code",
   "execution_count": 8,
   "id": "affiliated-characterization",
   "metadata": {
    "execution": {
     "iopub.execute_input": "2022-07-18T00:44:56.396055Z",
     "iopub.status.busy": "2022-07-18T00:44:56.395460Z",
     "iopub.status.idle": "2022-07-18T00:44:56.397594Z",
     "shell.execute_reply": "2022-07-18T00:44:56.398014Z"
    },
    "papermill": {
     "duration": 0.037299,
     "end_time": "2022-07-18T00:44:56.398136",
     "exception": false,
     "start_time": "2022-07-18T00:44:56.360837",
     "status": "completed"
    },
    "tags": []
   },
   "outputs": [],
   "source": [
    "#hide\n",
    "def get_dates(df):\n",
    "    dt_cols = df.columns[~df.columns.isin(['Province/State', 'Country/Region', 'Lat', 'Long'])]\n",
    "    LAST_DATE_I = -1\n",
    "    # sometimes last column may be empty, then go backwards\n",
    "    for i in range(-1, -len(dt_cols), -1):\n",
    "        if not df[dt_cols[i]].fillna(0).eq(0).all():\n",
    "            LAST_DATE_I = i\n",
    "            break\n",
    "    return LAST_DATE_I, dt_cols"
   ]
  },
  {
   "cell_type": "code",
   "execution_count": 9,
   "id": "recent-optimization",
   "metadata": {
    "execution": {
     "iopub.execute_input": "2022-07-18T00:44:56.462086Z",
     "iopub.status.busy": "2022-07-18T00:44:56.461500Z",
     "iopub.status.idle": "2022-07-18T00:44:57.099822Z",
     "shell.execute_reply": "2022-07-18T00:44:57.099216Z"
    },
    "papermill": {
     "duration": 0.67253,
     "end_time": "2022-07-18T00:44:57.099968",
     "exception": false,
     "start_time": "2022-07-18T00:44:56.427438",
     "status": "completed"
    },
    "tags": []
   },
   "outputs": [],
   "source": [
    "#hide\n",
    "COL_REGION = 'Country/Region'\n",
    "# Confirmed, Recovered, Deaths\n",
    "df = get_frame('confirmed')\n",
    "# dft_: timeseries, dfc_: today country agg\n",
    "dft_cases = df\n",
    "dft_deaths = get_frame('deaths')\n",
    "dft_recovered = get_frame('recovered')\n",
    "LAST_DATE_I, dt_cols = get_dates(df)"
   ]
  },
  {
   "cell_type": "code",
   "execution_count": 10,
   "id": "absolute-copper",
   "metadata": {
    "execution": {
     "iopub.execute_input": "2022-07-18T00:44:57.165589Z",
     "iopub.status.busy": "2022-07-18T00:44:57.164975Z",
     "iopub.status.idle": "2022-07-18T00:44:57.167250Z",
     "shell.execute_reply": "2022-07-18T00:44:57.167795Z"
    },
    "papermill": {
     "duration": 0.037233,
     "end_time": "2022-07-18T00:44:57.167918",
     "exception": false,
     "start_time": "2022-07-18T00:44:57.130685",
     "status": "completed"
    },
    "tags": []
   },
   "outputs": [],
   "source": [
    "#hide\n",
    "LAST_DATE_I, dt_cols = get_dates(df)\n",
    "dt_today =dt_cols[LAST_DATE_I]\n",
    "# dt_5day = dt_cols[LAST_DATE_I - 5]\n",
    "dt_yday = dt_cols[LAST_DATE_I - 1]"
   ]
  },
  {
   "cell_type": "code",
   "execution_count": 11,
   "id": "restricted-sheriff",
   "metadata": {
    "execution": {
     "iopub.execute_input": "2022-07-18T00:44:57.231724Z",
     "iopub.status.busy": "2022-07-18T00:44:57.231157Z",
     "iopub.status.idle": "2022-07-18T00:44:57.239227Z",
     "shell.execute_reply": "2022-07-18T00:44:57.239678Z"
    },
    "papermill": {
     "duration": 0.042612,
     "end_time": "2022-07-18T00:44:57.239804",
     "exception": false,
     "start_time": "2022-07-18T00:44:57.197192",
     "status": "completed"
    },
    "tags": []
   },
   "outputs": [],
   "source": [
    "#hide\n",
    "dfc_cases = dft_cases.groupby(COL_REGION)[dt_today].sum()\n",
    "dfc_deaths = dft_deaths.groupby(COL_REGION)[dt_today].sum()\n",
    "# dfp_cases = dft_cases.groupby(COL_REGION)[dt_5day].sum()\n",
    "# dfp_deaths = dft_deaths.groupby(COL_REGION)[dt_5day].sum()\n",
    "dfp_cases = dft_cases.groupby(COL_REGION)[dt_yday].sum()\n",
    "dfp_deaths = dft_deaths.groupby(COL_REGION)[dt_yday].sum()"
   ]
  },
  {
   "cell_type": "code",
   "execution_count": 12,
   "id": "deluxe-hepatitis",
   "metadata": {
    "execution": {
     "iopub.execute_input": "2022-07-18T00:44:57.305420Z",
     "iopub.status.busy": "2022-07-18T00:44:57.304811Z",
     "iopub.status.idle": "2022-07-18T00:44:57.309793Z",
     "shell.execute_reply": "2022-07-18T00:44:57.310343Z"
    },
    "papermill": {
     "duration": 0.040968,
     "end_time": "2022-07-18T00:44:57.310468",
     "exception": false,
     "start_time": "2022-07-18T00:44:57.269500",
     "status": "completed"
    },
    "tags": []
   },
   "outputs": [],
   "source": [
    "#hide\n",
    "df_table = (pd.DataFrame(dict(Cases = dfc_cases, Deaths = dfc_deaths, PCases = dfp_cases, PDeaths = dfp_deaths))\n",
    "            .sort_values(by = ['Cases','Deaths'], ascending = [False, False])\n",
    "            .reset_index())"
   ]
  },
  {
   "cell_type": "code",
   "execution_count": 13,
   "id": "educational-chancellor",
   "metadata": {
    "execution": {
     "iopub.execute_input": "2022-07-18T00:44:57.386820Z",
     "iopub.status.busy": "2022-07-18T00:44:57.386246Z",
     "iopub.status.idle": "2022-07-18T00:44:57.394207Z",
     "shell.execute_reply": "2022-07-18T00:44:57.393645Z"
    },
    "papermill": {
     "duration": 0.054609,
     "end_time": "2022-07-18T00:44:57.394314",
     "exception": false,
     "start_time": "2022-07-18T00:44:57.339705",
     "status": "completed"
    },
    "tags": []
   },
   "outputs": [
    {
     "data": {
      "text/html": [
       "<div>\n",
       "<style scoped>\n",
       "    .dataframe tbody tr th:only-of-type {\n",
       "        vertical-align: middle;\n",
       "    }\n",
       "\n",
       "    .dataframe tbody tr th {\n",
       "        vertical-align: top;\n",
       "    }\n",
       "\n",
       "    .dataframe thead th {\n",
       "        text-align: right;\n",
       "    }\n",
       "</style>\n",
       "<table border=\"1\" class=\"dataframe\">\n",
       "  <thead>\n",
       "    <tr style=\"text-align: right;\">\n",
       "      <th></th>\n",
       "      <th>Country/Region</th>\n",
       "      <th>Cases</th>\n",
       "      <th>Deaths</th>\n",
       "      <th>PCases</th>\n",
       "      <th>PDeaths</th>\n",
       "      <th>Cases (+)</th>\n",
       "      <th>Deaths (+)</th>\n",
       "      <th>Fatality Rate</th>\n",
       "      <th>Continent</th>\n",
       "    </tr>\n",
       "  </thead>\n",
       "  <tbody>\n",
       "    <tr>\n",
       "      <th>0</th>\n",
       "      <td>US</td>\n",
       "      <td>89521016</td>\n",
       "      <td>1023788</td>\n",
       "      <td>89453076</td>\n",
       "      <td>1023736</td>\n",
       "      <td>67940</td>\n",
       "      <td>52</td>\n",
       "      <td>1.14</td>\n",
       "      <td>North America</td>\n",
       "    </tr>\n",
       "    <tr>\n",
       "      <th>1</th>\n",
       "      <td>India</td>\n",
       "      <td>43750599</td>\n",
       "      <td>525709</td>\n",
       "      <td>43730071</td>\n",
       "      <td>525660</td>\n",
       "      <td>20528</td>\n",
       "      <td>49</td>\n",
       "      <td>1.20</td>\n",
       "      <td>Asia</td>\n",
       "    </tr>\n",
       "    <tr>\n",
       "      <th>2</th>\n",
       "      <td>Brazil</td>\n",
       "      <td>33290266</td>\n",
       "      <td>675295</td>\n",
       "      <td>33250117</td>\n",
       "      <td>675090</td>\n",
       "      <td>40149</td>\n",
       "      <td>205</td>\n",
       "      <td>2.03</td>\n",
       "      <td>South America</td>\n",
       "    </tr>\n",
       "    <tr>\n",
       "      <th>3</th>\n",
       "      <td>France</td>\n",
       "      <td>32881809</td>\n",
       "      <td>151454</td>\n",
       "      <td>32881809</td>\n",
       "      <td>151454</td>\n",
       "      <td>0</td>\n",
       "      <td>0</td>\n",
       "      <td>0.46</td>\n",
       "      <td>Europe</td>\n",
       "    </tr>\n",
       "    <tr>\n",
       "      <th>4</th>\n",
       "      <td>Germany</td>\n",
       "      <td>29692989</td>\n",
       "      <td>142533</td>\n",
       "      <td>29692989</td>\n",
       "      <td>142533</td>\n",
       "      <td>0</td>\n",
       "      <td>0</td>\n",
       "      <td>0.48</td>\n",
       "      <td>Europe</td>\n",
       "    </tr>\n",
       "  </tbody>\n",
       "</table>\n",
       "</div>"
      ],
      "text/plain": [
       "  Country/Region     Cases   Deaths    PCases  PDeaths  Cases (+)  Deaths (+)  \\\n",
       "0             US  89521016  1023788  89453076  1023736      67940          52   \n",
       "1          India  43750599   525709  43730071   525660      20528          49   \n",
       "2         Brazil  33290266   675295  33250117   675090      40149         205   \n",
       "3         France  32881809   151454  32881809   151454          0           0   \n",
       "4        Germany  29692989   142533  29692989   142533          0           0   \n",
       "\n",
       "   Fatality Rate      Continent  \n",
       "0           1.14  North America  \n",
       "1           1.20           Asia  \n",
       "2           2.03  South America  \n",
       "3           0.46         Europe  \n",
       "4           0.48         Europe  "
      ]
     },
     "execution_count": 13,
     "metadata": {},
     "output_type": "execute_result"
    }
   ],
   "source": [
    "#hide\n",
    "for c in 'Cases, Deaths'.split(', '):\n",
    "    df_table[f'{c} (+)'] = (df_table[c] - df_table[f'P{c}']).clip(0)\n",
    "    #Clip ça veut dire, les chiffres negatif sont interdit\n",
    "df_table['Fatality Rate'] = (100* df_table['Deaths']/ df_table['Cases']).round(2)\n",
    "df_table['Continent'] = df_table['Country/Region'].map(mapping['map.continent'])\n",
    "df_table.head(5)"
   ]
  },
  {
   "cell_type": "code",
   "execution_count": 14,
   "id": "aboriginal-bulgaria",
   "metadata": {
    "execution": {
     "iopub.execute_input": "2022-07-18T00:44:57.459074Z",
     "iopub.status.busy": "2022-07-18T00:44:57.458510Z",
     "iopub.status.idle": "2022-07-18T00:44:57.461412Z",
     "shell.execute_reply": "2022-07-18T00:44:57.461962Z"
    },
    "papermill": {
     "duration": 0.037797,
     "end_time": "2022-07-18T00:44:57.462079",
     "exception": false,
     "start_time": "2022-07-18T00:44:57.424282",
     "status": "completed"
    },
    "tags": []
   },
   "outputs": [],
   "source": [
    "#hide\n",
    "#delete problematic countries from table\n",
    "df_table = df_table[~df_table['Country/Region'].isin(['Cape Verde', 'Cruise Ship', 'Kosovo'])]"
   ]
  },
  {
   "cell_type": "code",
   "execution_count": 15,
   "id": "fantastic-effect",
   "metadata": {
    "execution": {
     "iopub.execute_input": "2022-07-18T00:44:57.528540Z",
     "iopub.status.busy": "2022-07-18T00:44:57.527971Z",
     "iopub.status.idle": "2022-07-18T00:44:57.546248Z",
     "shell.execute_reply": "2022-07-18T00:44:57.545721Z"
    },
    "papermill": {
     "duration": 0.054589,
     "end_time": "2022-07-18T00:44:57.546364",
     "exception": false,
     "start_time": "2022-07-18T00:44:57.491775",
     "status": "completed"
    },
    "tags": []
   },
   "outputs": [
    {
     "data": {
      "text/html": [
       "<div>\n",
       "<style scoped>\n",
       "    .dataframe tbody tr th:only-of-type {\n",
       "        vertical-align: middle;\n",
       "    }\n",
       "\n",
       "    .dataframe tbody tr th {\n",
       "        vertical-align: top;\n",
       "    }\n",
       "\n",
       "    .dataframe thead th {\n",
       "        text-align: right;\n",
       "    }\n",
       "</style>\n",
       "<table border=\"1\" class=\"dataframe\">\n",
       "  <thead>\n",
       "    <tr style=\"text-align: right;\">\n",
       "      <th></th>\n",
       "      <th>Country/Region</th>\n",
       "      <th>Cases</th>\n",
       "      <th>Deaths</th>\n",
       "      <th>PCases</th>\n",
       "      <th>PDeaths</th>\n",
       "      <th>Cases (+)</th>\n",
       "      <th>Deaths (+)</th>\n",
       "      <th>Fatality Rate</th>\n",
       "      <th>Continent</th>\n",
       "    </tr>\n",
       "  </thead>\n",
       "  <tbody>\n",
       "    <tr>\n",
       "      <th>0</th>\n",
       "      <td>US</td>\n",
       "      <td>89521016</td>\n",
       "      <td>1023788</td>\n",
       "      <td>89453076</td>\n",
       "      <td>1023736</td>\n",
       "      <td>67940</td>\n",
       "      <td>52</td>\n",
       "      <td>1.1</td>\n",
       "      <td>North America</td>\n",
       "    </tr>\n",
       "    <tr>\n",
       "      <th>1</th>\n",
       "      <td>India</td>\n",
       "      <td>43750599</td>\n",
       "      <td>525709</td>\n",
       "      <td>43730071</td>\n",
       "      <td>525660</td>\n",
       "      <td>20528</td>\n",
       "      <td>49</td>\n",
       "      <td>1.2</td>\n",
       "      <td>Asia</td>\n",
       "    </tr>\n",
       "    <tr>\n",
       "      <th>2</th>\n",
       "      <td>Brazil</td>\n",
       "      <td>33290266</td>\n",
       "      <td>675295</td>\n",
       "      <td>33250117</td>\n",
       "      <td>675090</td>\n",
       "      <td>40149</td>\n",
       "      <td>205</td>\n",
       "      <td>2.0</td>\n",
       "      <td>South America</td>\n",
       "    </tr>\n",
       "    <tr>\n",
       "      <th>3</th>\n",
       "      <td>France</td>\n",
       "      <td>32881809</td>\n",
       "      <td>151454</td>\n",
       "      <td>32881809</td>\n",
       "      <td>151454</td>\n",
       "      <td>0</td>\n",
       "      <td>0</td>\n",
       "      <td>0.5</td>\n",
       "      <td>Europe</td>\n",
       "    </tr>\n",
       "    <tr>\n",
       "      <th>4</th>\n",
       "      <td>Germany</td>\n",
       "      <td>29692989</td>\n",
       "      <td>142533</td>\n",
       "      <td>29692989</td>\n",
       "      <td>142533</td>\n",
       "      <td>0</td>\n",
       "      <td>0</td>\n",
       "      <td>0.5</td>\n",
       "      <td>Europe</td>\n",
       "    </tr>\n",
       "  </tbody>\n",
       "</table>\n",
       "</div>"
      ],
      "text/plain": [
       "  Country/Region     Cases   Deaths    PCases  PDeaths  Cases (+)  Deaths (+)  \\\n",
       "0             US  89521016  1023788  89453076  1023736      67940          52   \n",
       "1          India  43750599   525709  43730071   525660      20528          49   \n",
       "2         Brazil  33290266   675295  33250117   675090      40149         205   \n",
       "3         France  32881809   151454  32881809   151454          0           0   \n",
       "4        Germany  29692989   142533  29692989   142533          0           0   \n",
       "\n",
       "   Fatality Rate      Continent  \n",
       "0            1.1  North America  \n",
       "1            1.2           Asia  \n",
       "2            2.0  South America  \n",
       "3            0.5         Europe  \n",
       "4            0.5         Europe  "
      ]
     },
     "execution_count": 15,
     "metadata": {},
     "output_type": "execute_result"
    }
   ],
   "source": [
    "#hide\n",
    "df_table = (pd.DataFrame(dict(Cases=dfc_cases, Deaths=dfc_deaths, PCases=dfp_cases, PDeaths=dfp_deaths))\n",
    "             .sort_values(by=['Cases', 'Deaths'], ascending=[False, False])\n",
    "             .reset_index())\n",
    "df_table.rename(columns={'index': 'Country/Region'}, inplace=True)\n",
    "for c in 'Cases, Deaths'.split(', '):\n",
    "    df_table[f'{c} (+)'] = (df_table[c] - df_table[f'P{c}']).clip(0)  # DATA BUG\n",
    "df_table['Fatality Rate'] = (100 * df_table['Deaths'] / df_table['Cases']).round(1)\n",
    "df_table['Continent'] = df_table['Country/Region'].map(mapping['map.continent'])\n",
    "df_table.head(5)"
   ]
  },
  {
   "cell_type": "code",
   "execution_count": 16,
   "id": "fewer-occasion",
   "metadata": {
    "execution": {
     "iopub.execute_input": "2022-07-18T00:44:57.612844Z",
     "iopub.status.busy": "2022-07-18T00:44:57.612267Z",
     "iopub.status.idle": "2022-07-18T00:44:57.615238Z",
     "shell.execute_reply": "2022-07-18T00:44:57.615794Z"
    },
    "papermill": {
     "duration": 0.038286,
     "end_time": "2022-07-18T00:44:57.615914",
     "exception": false,
     "start_time": "2022-07-18T00:44:57.577628",
     "status": "completed"
    },
    "tags": []
   },
   "outputs": [],
   "source": [
    "#hide\n",
    "#delete problematic countries from table\n",
    "df_table = df_table[~df_table['Country/Region'].isin(['Cape Verde', 'Cruise Ship', 'Kosovo'])]"
   ]
  },
  {
   "cell_type": "code",
   "execution_count": 17,
   "id": "related-center",
   "metadata": {
    "execution": {
     "iopub.execute_input": "2022-07-18T00:44:57.683607Z",
     "iopub.status.busy": "2022-07-18T00:44:57.682896Z",
     "iopub.status.idle": "2022-07-18T00:44:57.696783Z",
     "shell.execute_reply": "2022-07-18T00:44:57.696143Z"
    },
    "papermill": {
     "duration": 0.050847,
     "end_time": "2022-07-18T00:44:57.696902",
     "exception": false,
     "start_time": "2022-07-18T00:44:57.646055",
     "status": "completed"
    },
    "tags": []
   },
   "outputs": [],
   "source": [
    "#hide\n",
    "metrics = [df_table.columns[index] for index in [1,2,5,6]]\n",
    "# s_china = df_table[df_table['Country/Region'].eq('China')][metrics].sum().add_prefix('China ')\n",
    "s_us = df_table[df_table['Country/Region'].eq('US')][metrics].sum().add_prefix('US ')\n",
    "s_eu = df_table[df_table['Continent'].eq('Europe')][metrics].sum().add_prefix('EU ')\n",
    "s_ind = df_table[df_table['Country/Region'].eq('India')][metrics].sum().add_prefix('India ')\n",
    "summary = {'updated': pd.to_datetime(dt_today), 'since': pd.to_datetime(dt_yday)}\n",
    "summary = {'updated': pd.to_datetime(dt_today), 'since': pd.to_datetime(dt_yday)}\n",
    "summary = {**summary, **df_table[metrics].sum(), **s_ind, **s_us, **s_eu}"
   ]
  },
  {
   "cell_type": "code",
   "execution_count": 18,
   "id": "engaging-syndrome",
   "metadata": {
    "execution": {
     "iopub.execute_input": "2022-07-18T00:44:57.763580Z",
     "iopub.status.busy": "2022-07-18T00:44:57.763014Z",
     "iopub.status.idle": "2022-07-18T00:44:57.782768Z",
     "shell.execute_reply": "2022-07-18T00:44:57.782288Z"
    },
    "papermill": {
     "duration": 0.054374,
     "end_time": "2022-07-18T00:44:57.782877",
     "exception": false,
     "start_time": "2022-07-18T00:44:57.728503",
     "status": "completed"
    },
    "tags": []
   },
   "outputs": [],
   "source": [
    "#hide\n",
    "dft_ct_new_cases = dft_cases.groupby(COL_REGION)[dt_cols].sum().diff(axis=1).fillna(0).astype(int)"
   ]
  },
  {
   "cell_type": "code",
   "execution_count": 19,
   "id": "neutral-assignment",
   "metadata": {
    "execution": {
     "iopub.execute_input": "2022-07-18T00:44:57.849894Z",
     "iopub.status.busy": "2022-07-18T00:44:57.849297Z",
     "iopub.status.idle": "2022-07-18T00:44:57.851754Z",
     "shell.execute_reply": "2022-07-18T00:44:57.851196Z"
    },
    "papermill": {
     "duration": 0.038167,
     "end_time": "2022-07-18T00:44:57.851860",
     "exception": false,
     "start_time": "2022-07-18T00:44:57.813693",
     "status": "completed"
    },
    "tags": []
   },
   "outputs": [],
   "source": [
    "#hide\n",
    "everydaycases = dft_ct_new_cases.cumsum(axis=1)"
   ]
  },
  {
   "cell_type": "code",
   "execution_count": 20,
   "id": "parliamentary-calgary",
   "metadata": {
    "execution": {
     "iopub.execute_input": "2022-07-18T00:44:57.917019Z",
     "iopub.status.busy": "2022-07-18T00:44:57.916441Z",
     "iopub.status.idle": "2022-07-18T00:44:58.452192Z",
     "shell.execute_reply": "2022-07-18T00:44:58.451599Z"
    },
    "papermill": {
     "duration": 0.570113,
     "end_time": "2022-07-18T00:44:58.452320",
     "exception": false,
     "start_time": "2022-07-18T00:44:57.882207",
     "status": "completed"
    },
    "tags": []
   },
   "outputs": [],
   "source": [
    "#hide\n",
    "import pandas as pd\n",
    "import matplotlib.pyplot as plt\n",
    "import matplotlib.ticker as ticker\n",
    "import matplotlib.animation as animation\n",
    "from IPython.display import HTML"
   ]
  },
  {
   "cell_type": "code",
   "execution_count": 21,
   "id": "lasting-extraction",
   "metadata": {
    "execution": {
     "iopub.execute_input": "2022-07-18T00:44:58.519990Z",
     "iopub.status.busy": "2022-07-18T00:44:58.519413Z",
     "iopub.status.idle": "2022-07-18T00:44:58.526587Z",
     "shell.execute_reply": "2022-07-18T00:44:58.527055Z"
    },
    "papermill": {
     "duration": 0.043955,
     "end_time": "2022-07-18T00:44:58.527176",
     "exception": false,
     "start_time": "2022-07-18T00:44:58.483221",
     "status": "completed"
    },
    "tags": []
   },
   "outputs": [],
   "source": [
    "#hide\n",
    "t = everydaycases.stack()"
   ]
  },
  {
   "cell_type": "code",
   "execution_count": 22,
   "id": "premier-sleeve",
   "metadata": {
    "execution": {
     "iopub.execute_input": "2022-07-18T00:44:58.590497Z",
     "iopub.status.busy": "2022-07-18T00:44:58.589922Z",
     "iopub.status.idle": "2022-07-18T00:44:58.604561Z",
     "shell.execute_reply": "2022-07-18T00:44:58.604083Z"
    },
    "papermill": {
     "duration": 0.047115,
     "end_time": "2022-07-18T00:44:58.604669",
     "exception": false,
     "start_time": "2022-07-18T00:44:58.557554",
     "status": "completed"
    },
    "tags": []
   },
   "outputs": [],
   "source": [
    "#hide\n",
    "g = t.reset_index(['Country/Region'])"
   ]
  },
  {
   "cell_type": "code",
   "execution_count": 23,
   "id": "distributed-pittsburgh",
   "metadata": {
    "execution": {
     "iopub.execute_input": "2022-07-18T00:44:58.668983Z",
     "iopub.status.busy": "2022-07-18T00:44:58.668316Z",
     "iopub.status.idle": "2022-07-18T00:44:58.670850Z",
     "shell.execute_reply": "2022-07-18T00:44:58.670392Z"
    },
    "papermill": {
     "duration": 0.03619,
     "end_time": "2022-07-18T00:44:58.670957",
     "exception": false,
     "start_time": "2022-07-18T00:44:58.634767",
     "status": "completed"
    },
    "tags": []
   },
   "outputs": [],
   "source": [
    "#hide\n",
    "g.index.name = 'date'"
   ]
  },
  {
   "cell_type": "code",
   "execution_count": 24,
   "id": "naked-donor",
   "metadata": {
    "execution": {
     "iopub.execute_input": "2022-07-18T00:44:58.735594Z",
     "iopub.status.busy": "2022-07-18T00:44:58.734909Z",
     "iopub.status.idle": "2022-07-18T00:44:58.737514Z",
     "shell.execute_reply": "2022-07-18T00:44:58.736840Z"
    },
    "papermill": {
     "duration": 0.036342,
     "end_time": "2022-07-18T00:44:58.737635",
     "exception": false,
     "start_time": "2022-07-18T00:44:58.701293",
     "status": "completed"
    },
    "tags": []
   },
   "outputs": [],
   "source": [
    "# #hide\n",
    "# g = g.reset_index(['date'])"
   ]
  },
  {
   "cell_type": "code",
   "execution_count": 25,
   "id": "incomplete-mustang",
   "metadata": {
    "execution": {
     "iopub.execute_input": "2022-07-18T00:44:58.802285Z",
     "iopub.status.busy": "2022-07-18T00:44:58.801698Z",
     "iopub.status.idle": "2022-07-18T00:44:58.804265Z",
     "shell.execute_reply": "2022-07-18T00:44:58.803800Z"
    },
    "papermill": {
     "duration": 0.036013,
     "end_time": "2022-07-18T00:44:58.804371",
     "exception": false,
     "start_time": "2022-07-18T00:44:58.768358",
     "status": "completed"
    },
    "tags": []
   },
   "outputs": [],
   "source": [
    "#hide\n",
    "# g.head()"
   ]
  },
  {
   "cell_type": "code",
   "execution_count": 26,
   "id": "specific-kruger",
   "metadata": {
    "execution": {
     "iopub.execute_input": "2022-07-18T00:44:58.868726Z",
     "iopub.status.busy": "2022-07-18T00:44:58.868152Z",
     "iopub.status.idle": "2022-07-18T00:44:58.870478Z",
     "shell.execute_reply": "2022-07-18T00:44:58.870919Z"
    },
    "papermill": {
     "duration": 0.035981,
     "end_time": "2022-07-18T00:44:58.871038",
     "exception": false,
     "start_time": "2022-07-18T00:44:58.835057",
     "status": "completed"
    },
    "tags": []
   },
   "outputs": [],
   "source": [
    "#hide\n",
    "# g.columns = ['date','country','cases']"
   ]
  },
  {
   "cell_type": "code",
   "execution_count": 27,
   "id": "tender-conversion",
   "metadata": {
    "execution": {
     "iopub.execute_input": "2022-07-18T00:44:58.935370Z",
     "iopub.status.busy": "2022-07-18T00:44:58.934760Z",
     "iopub.status.idle": "2022-07-18T00:44:58.938650Z",
     "shell.execute_reply": "2022-07-18T00:44:58.938178Z"
    },
    "papermill": {
     "duration": 0.037601,
     "end_time": "2022-07-18T00:44:58.938758",
     "exception": false,
     "start_time": "2022-07-18T00:44:58.901157",
     "status": "completed"
    },
    "tags": []
   },
   "outputs": [],
   "source": [
    "#hide\n",
    "# g['continent'] = g.country"
   ]
  },
  {
   "cell_type": "code",
   "execution_count": 28,
   "id": "substantial-wilderness",
   "metadata": {
    "execution": {
     "iopub.execute_input": "2022-07-18T00:44:59.004669Z",
     "iopub.status.busy": "2022-07-18T00:44:59.004076Z",
     "iopub.status.idle": "2022-07-18T00:44:59.006562Z",
     "shell.execute_reply": "2022-07-18T00:44:59.006114Z"
    },
    "papermill": {
     "duration": 0.037383,
     "end_time": "2022-07-18T00:44:59.006673",
     "exception": false,
     "start_time": "2022-07-18T00:44:58.969290",
     "status": "completed"
    },
    "tags": []
   },
   "outputs": [],
   "source": [
    "#hide\n",
    "# cols = list(g.columns.values)"
   ]
  },
  {
   "cell_type": "code",
   "execution_count": 29,
   "id": "solved-farming",
   "metadata": {
    "execution": {
     "iopub.execute_input": "2022-07-18T00:44:59.074802Z",
     "iopub.status.busy": "2022-07-18T00:44:59.074131Z",
     "iopub.status.idle": "2022-07-18T00:44:59.077922Z",
     "shell.execute_reply": "2022-07-18T00:44:59.078340Z"
    },
    "papermill": {
     "duration": 0.040698,
     "end_time": "2022-07-18T00:44:59.078462",
     "exception": false,
     "start_time": "2022-07-18T00:44:59.037764",
     "status": "completed"
    },
    "tags": []
   },
   "outputs": [],
   "source": [
    "#hide\n",
    "# cols.insert(0, cols.pop())"
   ]
  },
  {
   "cell_type": "code",
   "execution_count": 30,
   "id": "executed-adoption",
   "metadata": {
    "execution": {
     "iopub.execute_input": "2022-07-18T00:44:59.142951Z",
     "iopub.status.busy": "2022-07-18T00:44:59.142336Z",
     "iopub.status.idle": "2022-07-18T00:44:59.144620Z",
     "shell.execute_reply": "2022-07-18T00:44:59.145061Z"
    },
    "papermill": {
     "duration": 0.036393,
     "end_time": "2022-07-18T00:44:59.145196",
     "exception": false,
     "start_time": "2022-07-18T00:44:59.108803",
     "status": "completed"
    },
    "tags": []
   },
   "outputs": [],
   "source": [
    "#hide\n",
    "# g = g[cols]"
   ]
  },
  {
   "cell_type": "code",
   "execution_count": 31,
   "id": "subject-dublin",
   "metadata": {
    "execution": {
     "iopub.execute_input": "2022-07-18T00:44:59.213496Z",
     "iopub.status.busy": "2022-07-18T00:44:59.212780Z",
     "iopub.status.idle": "2022-07-18T00:44:59.215310Z",
     "shell.execute_reply": "2022-07-18T00:44:59.214783Z"
    },
    "papermill": {
     "duration": 0.037743,
     "end_time": "2022-07-18T00:44:59.215427",
     "exception": false,
     "start_time": "2022-07-18T00:44:59.177684",
     "status": "completed"
    },
    "tags": []
   },
   "outputs": [],
   "source": [
    "#hide\n",
    "# g['continent'] = g['continent'].map(mapping['map.continent'])"
   ]
  },
  {
   "cell_type": "code",
   "execution_count": 32,
   "id": "freelance-scout",
   "metadata": {
    "execution": {
     "iopub.execute_input": "2022-07-18T00:44:59.280148Z",
     "iopub.status.busy": "2022-07-18T00:44:59.279549Z",
     "iopub.status.idle": "2022-07-18T00:44:59.281549Z",
     "shell.execute_reply": "2022-07-18T00:44:59.282093Z"
    },
    "papermill": {
     "duration": 0.035878,
     "end_time": "2022-07-18T00:44:59.282220",
     "exception": false,
     "start_time": "2022-07-18T00:44:59.246342",
     "status": "completed"
    },
    "tags": []
   },
   "outputs": [],
   "source": [
    "#hide\n",
    "# g.head()"
   ]
  },
  {
   "cell_type": "code",
   "execution_count": 33,
   "id": "limited-engine",
   "metadata": {
    "execution": {
     "iopub.execute_input": "2022-07-18T00:44:59.353168Z",
     "iopub.status.busy": "2022-07-18T00:44:59.352466Z",
     "iopub.status.idle": "2022-07-18T00:44:59.355006Z",
     "shell.execute_reply": "2022-07-18T00:44:59.354477Z"
    },
    "papermill": {
     "duration": 0.036204,
     "end_time": "2022-07-18T00:44:59.355125",
     "exception": false,
     "start_time": "2022-07-18T00:44:59.318921",
     "status": "completed"
    },
    "tags": []
   },
   "outputs": [],
   "source": [
    "# hide\n",
    "# g['date'] = g['date'].astype('datetime64[ns]')"
   ]
  },
  {
   "cell_type": "code",
   "execution_count": 34,
   "id": "sophisticated-supervisor",
   "metadata": {
    "execution": {
     "iopub.execute_input": "2022-07-18T00:44:59.420934Z",
     "iopub.status.busy": "2022-07-18T00:44:59.420263Z",
     "iopub.status.idle": "2022-07-18T00:44:59.424504Z",
     "shell.execute_reply": "2022-07-18T00:44:59.424034Z"
    },
    "papermill": {
     "duration": 0.03803,
     "end_time": "2022-07-18T00:44:59.424611",
     "exception": false,
     "start_time": "2022-07-18T00:44:59.386581",
     "status": "completed"
    },
    "tags": []
   },
   "outputs": [],
   "source": [
    "#hide\n",
    "# g['date'] = g.date.dt.dayofyear"
   ]
  },
  {
   "cell_type": "code",
   "execution_count": 35,
   "id": "inside-dubai",
   "metadata": {
    "execution": {
     "iopub.execute_input": "2022-07-18T00:44:59.489151Z",
     "iopub.status.busy": "2022-07-18T00:44:59.488440Z",
     "iopub.status.idle": "2022-07-18T00:44:59.490547Z",
     "shell.execute_reply": "2022-07-18T00:44:59.491025Z"
    },
    "papermill": {
     "duration": 0.036348,
     "end_time": "2022-07-18T00:44:59.491169",
     "exception": false,
     "start_time": "2022-07-18T00:44:59.454821",
     "status": "completed"
    },
    "tags": []
   },
   "outputs": [],
   "source": [
    "#hide\n",
    "# g = g.rename(columns= {'continent':'group','country':'name','cases':'value'})"
   ]
  },
  {
   "cell_type": "code",
   "execution_count": 36,
   "id": "fleet-motorcycle",
   "metadata": {
    "execution": {
     "iopub.execute_input": "2022-07-18T00:44:59.555653Z",
     "iopub.status.busy": "2022-07-18T00:44:59.555069Z",
     "iopub.status.idle": "2022-07-18T00:44:59.557619Z",
     "shell.execute_reply": "2022-07-18T00:44:59.557139Z"
    },
    "papermill": {
     "duration": 0.035836,
     "end_time": "2022-07-18T00:44:59.557724",
     "exception": false,
     "start_time": "2022-07-18T00:44:59.521888",
     "status": "completed"
    },
    "tags": []
   },
   "outputs": [],
   "source": [
    "#hide\n",
    "# cols = ['name','group','day','value']"
   ]
  },
  {
   "cell_type": "code",
   "execution_count": 37,
   "id": "continued-sleeping",
   "metadata": {
    "execution": {
     "iopub.execute_input": "2022-07-18T00:44:59.622673Z",
     "iopub.status.busy": "2022-07-18T00:44:59.622109Z",
     "iopub.status.idle": "2022-07-18T00:44:59.624284Z",
     "shell.execute_reply": "2022-07-18T00:44:59.624829Z"
    },
    "papermill": {
     "duration": 0.036866,
     "end_time": "2022-07-18T00:44:59.624949",
     "exception": false,
     "start_time": "2022-07-18T00:44:59.588083",
     "status": "completed"
    },
    "tags": []
   },
   "outputs": [],
   "source": [
    "#hide\n",
    "# g.rename(columns= {'date':'day'},inplace = True)"
   ]
  },
  {
   "cell_type": "code",
   "execution_count": 38,
   "id": "major-fight",
   "metadata": {
    "execution": {
     "iopub.execute_input": "2022-07-18T00:44:59.688863Z",
     "iopub.status.busy": "2022-07-18T00:44:59.688280Z",
     "iopub.status.idle": "2022-07-18T00:44:59.690845Z",
     "shell.execute_reply": "2022-07-18T00:44:59.690381Z"
    },
    "papermill": {
     "duration": 0.035742,
     "end_time": "2022-07-18T00:44:59.690947",
     "exception": false,
     "start_time": "2022-07-18T00:44:59.655205",
     "status": "completed"
    },
    "tags": []
   },
   "outputs": [],
   "source": [
    "#hide\n",
    "# g = g[cols]"
   ]
  },
  {
   "cell_type": "code",
   "execution_count": 39,
   "id": "structured-mobile",
   "metadata": {
    "execution": {
     "iopub.execute_input": "2022-07-18T00:44:59.754858Z",
     "iopub.status.busy": "2022-07-18T00:44:59.754207Z",
     "iopub.status.idle": "2022-07-18T00:44:59.756651Z",
     "shell.execute_reply": "2022-07-18T00:44:59.756019Z"
    },
    "papermill": {
     "duration": 0.035584,
     "end_time": "2022-07-18T00:44:59.756766",
     "exception": false,
     "start_time": "2022-07-18T00:44:59.721182",
     "status": "completed"
    },
    "tags": []
   },
   "outputs": [],
   "source": [
    "# #hide\n",
    "# g = g[g.group.notna()]"
   ]
  },
  {
   "cell_type": "code",
   "execution_count": 40,
   "id": "determined-closing",
   "metadata": {
    "execution": {
     "iopub.execute_input": "2022-07-18T00:44:59.824308Z",
     "iopub.status.busy": "2022-07-18T00:44:59.823638Z",
     "iopub.status.idle": "2022-07-18T00:44:59.826437Z",
     "shell.execute_reply": "2022-07-18T00:44:59.825492Z"
    },
    "papermill": {
     "duration": 0.036063,
     "end_time": "2022-07-18T00:44:59.826588",
     "exception": false,
     "start_time": "2022-07-18T00:44:59.790525",
     "status": "completed"
    },
    "tags": []
   },
   "outputs": [],
   "source": [
    "# #hide\n",
    "# colors = dict(zip(\n",
    "#     [\"Oceania\", \"Europe\", \"Asia\", \"South America\", \"Middle East\", \"North America\", \"Africa\"],\n",
    "#     [\"#adb0ff\", \"#ffb3ff\", \"#90d595\", \"#e48381\", \"#aafbff\", \"#f7bb5f\", \"#eafb50\"]\n",
    "# ))\n",
    "# group_lk = g.set_index('name')['group'].to_dict()"
   ]
  },
  {
   "cell_type": "code",
   "execution_count": null,
   "id": "gross-drinking",
   "metadata": {
    "papermill": {
     "duration": 0.030245,
     "end_time": "2022-07-18T00:44:59.887472",
     "exception": false,
     "start_time": "2022-07-18T00:44:59.857227",
     "status": "completed"
    },
    "tags": []
   },
   "outputs": [],
   "source": []
  },
  {
   "cell_type": "code",
   "execution_count": 41,
   "id": "subject-macintosh",
   "metadata": {
    "execution": {
     "iopub.execute_input": "2022-07-18T00:44:59.952953Z",
     "iopub.status.busy": "2022-07-18T00:44:59.952325Z",
     "iopub.status.idle": "2022-07-18T00:44:59.954329Z",
     "shell.execute_reply": "2022-07-18T00:44:59.954776Z"
    },
    "papermill": {
     "duration": 0.036953,
     "end_time": "2022-07-18T00:44:59.954904",
     "exception": false,
     "start_time": "2022-07-18T00:44:59.917951",
     "status": "completed"
    },
    "tags": []
   },
   "outputs": [],
   "source": [
    "# #hide\n",
    "# fig, ax = plt.subplots(figsize=(15, 8))\n",
    "\n",
    "# def draw_barchart(current_day):\n",
    "#     dff = g[g['day'].eq(current_day)].sort_values(by='value', ascending=True).tail(10)\n",
    "#     ax.clear()\n",
    "#     ax.barh(dff['name'], dff['value'], color=[colors[group_lk[x]] for x in dff['name']])\n",
    "#     dx = dff['value'].max() / 200\n",
    "    \n",
    "#     for i, (value, name) in enumerate(zip(dff['value'], dff['name'])):\n",
    "#         ax.text(value-dx, i,     name,           size=14, weight=600, ha='right', va='bottom')\n",
    "#         ax.text(value-dx, i-.25, group_lk[name], size=10, color='#444444', ha='right', va='baseline')\n",
    "#         ax.text(value+dx, i,     f'{value:,.0f}',  size=14, ha='left',  va='center')\n",
    "#     ax.text(1, 0.4, current_day, transform=ax.transAxes, color='#777777', size=46, ha='right', weight=800)\n",
    "#     ax.text(0, 1.06, 'Population (thousands)', transform=ax.transAxes, size=12, color='#777777')\n",
    "#     ax.xaxis.set_major_formatter(ticker.StrMethodFormatter('{x:,.0f}'))\n",
    "#     ax.xaxis.set_ticks_position('top')\n",
    "#     ax.tick_params(axis='x', colors='#777777', labelsize=12)\n",
    "#     ax.set_yticks([])\n",
    "#     ax.margins(0, 0.01)\n",
    "#     ax.grid(which='major', axis='x', linestyle='-')\n",
    "#     ax.set_axisbelow(True)\n",
    "    \n",
    "#     ax.text(0, 1.15, 'Coronavirus',\n",
    "#             transform=ax.transAxes, size=24, weight=600, ha='left', va='top')\n",
    "# #     ax.text(1, 0, 'by @pratapvardhan; credit @jburnmurdoch', transform=ax.transAxes, color='#777777', ha='right',\n",
    "# #             bbox=dict(facecolor='white', alpha=0.8, edgecolor='white'))\n",
    "#     plt.box(False)"
   ]
  },
  {
   "cell_type": "code",
   "execution_count": 42,
   "id": "sexual-wages",
   "metadata": {
    "execution": {
     "iopub.execute_input": "2022-07-18T00:45:00.019722Z",
     "iopub.status.busy": "2022-07-18T00:45:00.019127Z",
     "iopub.status.idle": "2022-07-18T00:45:00.021351Z",
     "shell.execute_reply": "2022-07-18T00:45:00.021826Z"
    },
    "papermill": {
     "duration": 0.0366,
     "end_time": "2022-07-18T00:45:00.021955",
     "exception": false,
     "start_time": "2022-07-18T00:44:59.985355",
     "status": "completed"
    },
    "tags": []
   },
   "outputs": [],
   "source": [
    "# #hide_input\n",
    "# fig, ax = plt.subplots(figsize=(15, 8))\n",
    "# animator = animation.FuncAnimation(fig, draw_barchart, frames=range(g.day.values.min(), g.day.values.max()))\n",
    "# HTML(animator.to_jshtml())\n",
    "# # or use animator.to_html5_video() or animator.save() "
   ]
  },
  {
   "cell_type": "code",
   "execution_count": null,
   "id": "australian-container",
   "metadata": {
    "papermill": {
     "duration": 0.030446,
     "end_time": "2022-07-18T00:45:00.083067",
     "exception": false,
     "start_time": "2022-07-18T00:45:00.052621",
     "status": "completed"
    },
    "tags": []
   },
   "outputs": [],
   "source": []
  },
  {
   "cell_type": "code",
   "execution_count": null,
   "id": "mediterranean-pontiac",
   "metadata": {
    "papermill": {
     "duration": 0.030245,
     "end_time": "2022-07-18T00:45:00.143550",
     "exception": false,
     "start_time": "2022-07-18T00:45:00.113305",
     "status": "completed"
    },
    "tags": []
   },
   "outputs": [],
   "source": []
  },
  {
   "cell_type": "code",
   "execution_count": null,
   "id": "aging-legislature",
   "metadata": {
    "papermill": {
     "duration": 0.030105,
     "end_time": "2022-07-18T00:45:00.204208",
     "exception": false,
     "start_time": "2022-07-18T00:45:00.174103",
     "status": "completed"
    },
    "tags": []
   },
   "outputs": [],
   "source": []
  }
 ],
 "metadata": {
  "kernelspec": {
   "display_name": "Python 3",
   "language": "python",
   "name": "python3"
  },
  "language_info": {
   "codemirror_mode": {
    "name": "ipython",
    "version": 3
   },
   "file_extension": ".py",
   "mimetype": "text/x-python",
   "name": "python",
   "nbconvert_exporter": "python",
   "pygments_lexer": "ipython3",
   "version": "3.6.15"
  },
  "papermill": {
   "duration": 6.041577,
   "end_time": "2022-07-18T00:45:00.554462",
   "environment_variables": {},
   "exception": null,
   "input_path": "2020-03-21-covid19exp.ipynb",
   "output_path": "2020-03-21-covid19exp.ipynb",
   "parameters": {},
   "start_time": "2022-07-18T00:44:54.512885",
   "version": "2.0.0"
  }
 },
 "nbformat": 4,
 "nbformat_minor": 5
}