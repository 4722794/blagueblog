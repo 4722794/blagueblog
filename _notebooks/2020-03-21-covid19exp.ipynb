{
 "cells": [
  {
   "cell_type": "markdown",
   "id": "muslim-click",
   "metadata": {
    "papermill": {
     "duration": 0.04118,
     "end_time": "2021-05-07T12:07:32.925222",
     "exception": false,
     "start_time": "2021-05-07T12:07:32.884042",
     "status": "completed"
    },
    "tags": []
   },
   "source": [
    "# COVID-19 Case Race\n",
    "> A race chart to see rising cases around the world\n",
    "\n",
    "- author: Hargun Oberoi\n",
    "- image: images/covid-overview.png\n",
    "- hide: false\n",
    "- badges: false"
   ]
  },
  {
   "cell_type": "code",
   "execution_count": 1,
   "id": "proof-material",
   "metadata": {
    "execution": {
     "iopub.execute_input": "2021-05-07T12:07:33.009845Z",
     "iopub.status.busy": "2021-05-07T12:07:33.009159Z",
     "iopub.status.idle": "2021-05-07T12:07:33.356051Z",
     "shell.execute_reply": "2021-05-07T12:07:33.355439Z"
    },
    "papermill": {
     "duration": 0.393754,
     "end_time": "2021-05-07T12:07:33.356277",
     "exception": false,
     "start_time": "2021-05-07T12:07:32.962523",
     "status": "completed"
    },
    "tags": []
   },
   "outputs": [],
   "source": [
    "#hide\n",
    "import numpy as np\n",
    "import pandas as pd\n",
    "from jinja2 import Template\n",
    "from IPython.display import HTML"
   ]
  },
  {
   "cell_type": "code",
   "execution_count": 2,
   "id": "developed-terminology",
   "metadata": {
    "execution": {
     "iopub.execute_input": "2021-05-07T12:07:33.437470Z",
     "iopub.status.busy": "2021-05-07T12:07:33.436426Z",
     "iopub.status.idle": "2021-05-07T12:07:33.438381Z",
     "shell.execute_reply": "2021-05-07T12:07:33.438917Z"
    },
    "papermill": {
     "duration": 0.044908,
     "end_time": "2021-05-07T12:07:33.439046",
     "exception": false,
     "start_time": "2021-05-07T12:07:33.394138",
     "status": "completed"
    },
    "tags": []
   },
   "outputs": [],
   "source": [
    "#hide\n",
    "\n",
    "# FETCH\n",
    "base_url = 'https://raw.githubusercontent.com/pratapvardhan/notebooks/master/covid19/'\n",
    "paths = {\n",
    "    'mapping': base_url + 'mapping_countries.csv',\n",
    "    'overview': base_url + 'overview.tpl'\n",
    "}"
   ]
  },
  {
   "cell_type": "code",
   "execution_count": 3,
   "id": "dynamic-saver",
   "metadata": {
    "execution": {
     "iopub.execute_input": "2021-05-07T12:07:33.520145Z",
     "iopub.status.busy": "2021-05-07T12:07:33.517401Z",
     "iopub.status.idle": "2021-05-07T12:07:33.523482Z",
     "shell.execute_reply": "2021-05-07T12:07:33.522916Z"
    },
    "papermill": {
     "duration": 0.04949,
     "end_time": "2021-05-07T12:07:33.523603",
     "exception": false,
     "start_time": "2021-05-07T12:07:33.474113",
     "status": "completed"
    },
    "tags": []
   },
   "outputs": [
    {
     "data": {
      "text/plain": [
       "'https://raw.githubusercontent.com/pratapvardhan/notebooks/master/covid19/mapping_countries.csv'"
      ]
     },
     "execution_count": 3,
     "metadata": {},
     "output_type": "execute_result"
    }
   ],
   "source": [
    "#hide\n",
    "paths['mapping']"
   ]
  },
  {
   "cell_type": "code",
   "execution_count": 4,
   "id": "urban-software",
   "metadata": {
    "execution": {
     "iopub.execute_input": "2021-05-07T12:07:33.601634Z",
     "iopub.status.busy": "2021-05-07T12:07:33.600997Z",
     "iopub.status.idle": "2021-05-07T12:07:33.603129Z",
     "shell.execute_reply": "2021-05-07T12:07:33.603666Z"
    },
    "papermill": {
     "duration": 0.044436,
     "end_time": "2021-05-07T12:07:33.603785",
     "exception": false,
     "start_time": "2021-05-07T12:07:33.559349",
     "status": "completed"
    },
    "tags": []
   },
   "outputs": [],
   "source": [
    "#hide\n",
    "def get_mappings(url):\n",
    "    df = pd.read_csv(url)\n",
    "    return {\n",
    "        'df': df,\n",
    "        'replace.country': dict(df.dropna(subset=['Name']).set_index('Country')['Name']),\n",
    "        'map.continent': dict(df.set_index('Name')['Continent'])\n",
    "    }"
   ]
  },
  {
   "cell_type": "code",
   "execution_count": 5,
   "id": "intimate-machinery",
   "metadata": {
    "execution": {
     "iopub.execute_input": "2021-05-07T12:07:33.681582Z",
     "iopub.status.busy": "2021-05-07T12:07:33.681000Z",
     "iopub.status.idle": "2021-05-07T12:07:33.720370Z",
     "shell.execute_reply": "2021-05-07T12:07:33.720879Z"
    },
    "papermill": {
     "duration": 0.08114,
     "end_time": "2021-05-07T12:07:33.721005",
     "exception": false,
     "start_time": "2021-05-07T12:07:33.639865",
     "status": "completed"
    },
    "tags": []
   },
   "outputs": [],
   "source": [
    "#hide\n",
    "mapping = get_mappings(paths['mapping'])"
   ]
  },
  {
   "cell_type": "code",
   "execution_count": 6,
   "id": "certified-tactics",
   "metadata": {
    "execution": {
     "iopub.execute_input": "2021-05-07T12:07:33.796624Z",
     "iopub.status.busy": "2021-05-07T12:07:33.795905Z",
     "iopub.status.idle": "2021-05-07T12:07:33.798380Z",
     "shell.execute_reply": "2021-05-07T12:07:33.798818Z"
    },
    "papermill": {
     "duration": 0.043583,
     "end_time": "2021-05-07T12:07:33.798949",
     "exception": false,
     "start_time": "2021-05-07T12:07:33.755366",
     "status": "completed"
    },
    "tags": []
   },
   "outputs": [],
   "source": [
    "#hide\n",
    "def get_template(path):\n",
    "    from urllib.parse import urlparse\n",
    "    if bool(urlparse(path).netloc):\n",
    "        from urllib.request import urlopen\n",
    "        return urlopen(path).read().decode('utf8')\n",
    "    return open(path).read()"
   ]
  },
  {
   "cell_type": "code",
   "execution_count": 7,
   "id": "realistic-blast",
   "metadata": {
    "execution": {
     "iopub.execute_input": "2021-05-07T12:07:33.876810Z",
     "iopub.status.busy": "2021-05-07T12:07:33.876235Z",
     "iopub.status.idle": "2021-05-07T12:07:33.878561Z",
     "shell.execute_reply": "2021-05-07T12:07:33.878094Z"
    },
    "papermill": {
     "duration": 0.045209,
     "end_time": "2021-05-07T12:07:33.878672",
     "exception": false,
     "start_time": "2021-05-07T12:07:33.833463",
     "status": "completed"
    },
    "tags": []
   },
   "outputs": [],
   "source": [
    "#hide\n",
    "def get_frame(name):\n",
    "    url = (\n",
    "        'https://raw.githubusercontent.com/CSSEGISandData/COVID-19/master/csse_covid_19_data/'\n",
    "        f'csse_covid_19_time_series/time_series_covid19_{name}_global.csv')\n",
    "    df = pd.read_csv(url)\n",
    "    # rename countries\n",
    "    df['Country/Region'] = df['Country/Region'].replace(mapping['replace.country'])\n",
    "    return df"
   ]
  },
  {
   "cell_type": "code",
   "execution_count": 8,
   "id": "affiliated-characterization",
   "metadata": {
    "execution": {
     "iopub.execute_input": "2021-05-07T12:07:33.955720Z",
     "iopub.status.busy": "2021-05-07T12:07:33.955162Z",
     "iopub.status.idle": "2021-05-07T12:07:33.957075Z",
     "shell.execute_reply": "2021-05-07T12:07:33.957749Z"
    },
    "papermill": {
     "duration": 0.042986,
     "end_time": "2021-05-07T12:07:33.957866",
     "exception": false,
     "start_time": "2021-05-07T12:07:33.914880",
     "status": "completed"
    },
    "tags": []
   },
   "outputs": [],
   "source": [
    "#hide\n",
    "def get_dates(df):\n",
    "    dt_cols = df.columns[~df.columns.isin(['Province/State', 'Country/Region', 'Lat', 'Long'])]\n",
    "    LAST_DATE_I = -1\n",
    "    # sometimes last column may be empty, then go backwards\n",
    "    for i in range(-1, -len(dt_cols), -1):\n",
    "        if not df[dt_cols[i]].fillna(0).eq(0).all():\n",
    "            LAST_DATE_I = i\n",
    "            break\n",
    "    return LAST_DATE_I, dt_cols"
   ]
  },
  {
   "cell_type": "code",
   "execution_count": 9,
   "id": "recent-optimization",
   "metadata": {
    "execution": {
     "iopub.execute_input": "2021-05-07T12:07:34.033934Z",
     "iopub.status.busy": "2021-05-07T12:07:34.033161Z",
     "iopub.status.idle": "2021-05-07T12:07:34.424912Z",
     "shell.execute_reply": "2021-05-07T12:07:34.424324Z"
    },
    "papermill": {
     "duration": 0.430881,
     "end_time": "2021-05-07T12:07:34.425068",
     "exception": false,
     "start_time": "2021-05-07T12:07:33.994187",
     "status": "completed"
    },
    "tags": []
   },
   "outputs": [],
   "source": [
    "#hide\n",
    "COL_REGION = 'Country/Region'\n",
    "# Confirmed, Recovered, Deaths\n",
    "df = get_frame('confirmed')\n",
    "# dft_: timeseries, dfc_: today country agg\n",
    "dft_cases = df\n",
    "dft_deaths = get_frame('deaths')\n",
    "dft_recovered = get_frame('recovered')\n",
    "LAST_DATE_I, dt_cols = get_dates(df)"
   ]
  },
  {
   "cell_type": "code",
   "execution_count": 10,
   "id": "absolute-copper",
   "metadata": {
    "execution": {
     "iopub.execute_input": "2021-05-07T12:07:34.509143Z",
     "iopub.status.busy": "2021-05-07T12:07:34.508310Z",
     "iopub.status.idle": "2021-05-07T12:07:34.510957Z",
     "shell.execute_reply": "2021-05-07T12:07:34.510370Z"
    },
    "papermill": {
     "duration": 0.046721,
     "end_time": "2021-05-07T12:07:34.511090",
     "exception": false,
     "start_time": "2021-05-07T12:07:34.464369",
     "status": "completed"
    },
    "tags": []
   },
   "outputs": [],
   "source": [
    "#hide\n",
    "LAST_DATE_I, dt_cols = get_dates(df)\n",
    "dt_today =dt_cols[LAST_DATE_I]\n",
    "# dt_5day = dt_cols[LAST_DATE_I - 5]\n",
    "dt_yday = dt_cols[LAST_DATE_I - 1]"
   ]
  },
  {
   "cell_type": "code",
   "execution_count": 11,
   "id": "restricted-sheriff",
   "metadata": {
    "execution": {
     "iopub.execute_input": "2021-05-07T12:07:34.600364Z",
     "iopub.status.busy": "2021-05-07T12:07:34.597637Z",
     "iopub.status.idle": "2021-05-07T12:07:34.605967Z",
     "shell.execute_reply": "2021-05-07T12:07:34.606502Z"
    },
    "papermill": {
     "duration": 0.056799,
     "end_time": "2021-05-07T12:07:34.606653",
     "exception": false,
     "start_time": "2021-05-07T12:07:34.549854",
     "status": "completed"
    },
    "tags": []
   },
   "outputs": [],
   "source": [
    "#hide\n",
    "dfc_cases = dft_cases.groupby(COL_REGION)[dt_today].sum()\n",
    "dfc_deaths = dft_deaths.groupby(COL_REGION)[dt_today].sum()\n",
    "# dfp_cases = dft_cases.groupby(COL_REGION)[dt_5day].sum()\n",
    "# dfp_deaths = dft_deaths.groupby(COL_REGION)[dt_5day].sum()\n",
    "dfp_cases = dft_cases.groupby(COL_REGION)[dt_yday].sum()\n",
    "dfp_deaths = dft_deaths.groupby(COL_REGION)[dt_yday].sum()"
   ]
  },
  {
   "cell_type": "code",
   "execution_count": 12,
   "id": "deluxe-hepatitis",
   "metadata": {
    "execution": {
     "iopub.execute_input": "2021-05-07T12:07:34.689211Z",
     "iopub.status.busy": "2021-05-07T12:07:34.688624Z",
     "iopub.status.idle": "2021-05-07T12:07:34.694429Z",
     "shell.execute_reply": "2021-05-07T12:07:34.693983Z"
    },
    "papermill": {
     "duration": 0.048289,
     "end_time": "2021-05-07T12:07:34.694537",
     "exception": false,
     "start_time": "2021-05-07T12:07:34.646248",
     "status": "completed"
    },
    "tags": []
   },
   "outputs": [],
   "source": [
    "#hide\n",
    "df_table = (pd.DataFrame(dict(Cases = dfc_cases, Deaths = dfc_deaths, PCases = dfp_cases, PDeaths = dfp_deaths))\n",
    "            .sort_values(by = ['Cases','Deaths'], ascending = [False, False])\n",
    "            .reset_index())"
   ]
  },
  {
   "cell_type": "code",
   "execution_count": 13,
   "id": "educational-chancellor",
   "metadata": {
    "execution": {
     "iopub.execute_input": "2021-05-07T12:07:34.788037Z",
     "iopub.status.busy": "2021-05-07T12:07:34.787317Z",
     "iopub.status.idle": "2021-05-07T12:07:34.796229Z",
     "shell.execute_reply": "2021-05-07T12:07:34.796750Z"
    },
    "papermill": {
     "duration": 0.064962,
     "end_time": "2021-05-07T12:07:34.796879",
     "exception": false,
     "start_time": "2021-05-07T12:07:34.731917",
     "status": "completed"
    },
    "tags": []
   },
   "outputs": [
    {
     "data": {
      "text/html": [
       "<div>\n",
       "<style scoped>\n",
       "    .dataframe tbody tr th:only-of-type {\n",
       "        vertical-align: middle;\n",
       "    }\n",
       "\n",
       "    .dataframe tbody tr th {\n",
       "        vertical-align: top;\n",
       "    }\n",
       "\n",
       "    .dataframe thead th {\n",
       "        text-align: right;\n",
       "    }\n",
       "</style>\n",
       "<table border=\"1\" class=\"dataframe\">\n",
       "  <thead>\n",
       "    <tr style=\"text-align: right;\">\n",
       "      <th></th>\n",
       "      <th>Country/Region</th>\n",
       "      <th>Cases</th>\n",
       "      <th>Deaths</th>\n",
       "      <th>PCases</th>\n",
       "      <th>PDeaths</th>\n",
       "      <th>Cases (+)</th>\n",
       "      <th>Deaths (+)</th>\n",
       "      <th>Fatality Rate</th>\n",
       "      <th>Continent</th>\n",
       "    </tr>\n",
       "  </thead>\n",
       "  <tbody>\n",
       "    <tr>\n",
       "      <th>0</th>\n",
       "      <td>US</td>\n",
       "      <td>32604810</td>\n",
       "      <td>580064</td>\n",
       "      <td>32557444</td>\n",
       "      <td>579275</td>\n",
       "      <td>47366</td>\n",
       "      <td>789</td>\n",
       "      <td>1.78</td>\n",
       "      <td>North America</td>\n",
       "    </tr>\n",
       "    <tr>\n",
       "      <th>1</th>\n",
       "      <td>India</td>\n",
       "      <td>21491598</td>\n",
       "      <td>234083</td>\n",
       "      <td>21077410</td>\n",
       "      <td>230168</td>\n",
       "      <td>414188</td>\n",
       "      <td>3915</td>\n",
       "      <td>1.09</td>\n",
       "      <td>Asia</td>\n",
       "    </tr>\n",
       "    <tr>\n",
       "      <th>2</th>\n",
       "      <td>Brazil</td>\n",
       "      <td>15003563</td>\n",
       "      <td>416949</td>\n",
       "      <td>14930183</td>\n",
       "      <td>414399</td>\n",
       "      <td>73380</td>\n",
       "      <td>2550</td>\n",
       "      <td>2.78</td>\n",
       "      <td>South America</td>\n",
       "    </tr>\n",
       "    <tr>\n",
       "      <th>3</th>\n",
       "      <td>France</td>\n",
       "      <td>5789283</td>\n",
       "      <td>106011</td>\n",
       "      <td>5767541</td>\n",
       "      <td>105792</td>\n",
       "      <td>21742</td>\n",
       "      <td>219</td>\n",
       "      <td>1.83</td>\n",
       "      <td>Europe</td>\n",
       "    </tr>\n",
       "    <tr>\n",
       "      <th>4</th>\n",
       "      <td>Turkey</td>\n",
       "      <td>4977982</td>\n",
       "      <td>42187</td>\n",
       "      <td>4955594</td>\n",
       "      <td>41883</td>\n",
       "      <td>22388</td>\n",
       "      <td>304</td>\n",
       "      <td>0.85</td>\n",
       "      <td>Asia</td>\n",
       "    </tr>\n",
       "  </tbody>\n",
       "</table>\n",
       "</div>"
      ],
      "text/plain": [
       "  Country/Region     Cases  Deaths    PCases  PDeaths  Cases (+)  Deaths (+)  \\\n",
       "0             US  32604810  580064  32557444   579275      47366         789   \n",
       "1          India  21491598  234083  21077410   230168     414188        3915   \n",
       "2         Brazil  15003563  416949  14930183   414399      73380        2550   \n",
       "3         France   5789283  106011   5767541   105792      21742         219   \n",
       "4         Turkey   4977982   42187   4955594    41883      22388         304   \n",
       "\n",
       "   Fatality Rate      Continent  \n",
       "0           1.78  North America  \n",
       "1           1.09           Asia  \n",
       "2           2.78  South America  \n",
       "3           1.83         Europe  \n",
       "4           0.85           Asia  "
      ]
     },
     "execution_count": 13,
     "metadata": {},
     "output_type": "execute_result"
    }
   ],
   "source": [
    "#hide\n",
    "for c in 'Cases, Deaths'.split(', '):\n",
    "    df_table[f'{c} (+)'] = (df_table[c] - df_table[f'P{c}']).clip(0)\n",
    "    #Clip ça veut dire, les chiffres negatif sont interdit\n",
    "df_table['Fatality Rate'] = (100* df_table['Deaths']/ df_table['Cases']).round(2)\n",
    "df_table['Continent'] = df_table['Country/Region'].map(mapping['map.continent'])\n",
    "df_table.head(5)"
   ]
  },
  {
   "cell_type": "code",
   "execution_count": 14,
   "id": "aboriginal-bulgaria",
   "metadata": {
    "execution": {
     "iopub.execute_input": "2021-05-07T12:07:34.876577Z",
     "iopub.status.busy": "2021-05-07T12:07:34.875980Z",
     "iopub.status.idle": "2021-05-07T12:07:34.878271Z",
     "shell.execute_reply": "2021-05-07T12:07:34.878795Z"
    },
    "papermill": {
     "duration": 0.043653,
     "end_time": "2021-05-07T12:07:34.878924",
     "exception": false,
     "start_time": "2021-05-07T12:07:34.835271",
     "status": "completed"
    },
    "tags": []
   },
   "outputs": [],
   "source": [
    "#hide\n",
    "#delete problematic countries from table\n",
    "df_table = df_table[~df_table['Country/Region'].isin(['Cape Verde', 'Cruise Ship', 'Kosovo'])]"
   ]
  },
  {
   "cell_type": "code",
   "execution_count": 15,
   "id": "fantastic-effect",
   "metadata": {
    "execution": {
     "iopub.execute_input": "2021-05-07T12:07:34.963242Z",
     "iopub.status.busy": "2021-05-07T12:07:34.962410Z",
     "iopub.status.idle": "2021-05-07T12:07:34.985487Z",
     "shell.execute_reply": "2021-05-07T12:07:34.986031Z"
    },
    "papermill": {
     "duration": 0.068427,
     "end_time": "2021-05-07T12:07:34.986180",
     "exception": false,
     "start_time": "2021-05-07T12:07:34.917753",
     "status": "completed"
    },
    "tags": []
   },
   "outputs": [
    {
     "data": {
      "text/html": [
       "<div>\n",
       "<style scoped>\n",
       "    .dataframe tbody tr th:only-of-type {\n",
       "        vertical-align: middle;\n",
       "    }\n",
       "\n",
       "    .dataframe tbody tr th {\n",
       "        vertical-align: top;\n",
       "    }\n",
       "\n",
       "    .dataframe thead th {\n",
       "        text-align: right;\n",
       "    }\n",
       "</style>\n",
       "<table border=\"1\" class=\"dataframe\">\n",
       "  <thead>\n",
       "    <tr style=\"text-align: right;\">\n",
       "      <th></th>\n",
       "      <th>Country/Region</th>\n",
       "      <th>Cases</th>\n",
       "      <th>Deaths</th>\n",
       "      <th>PCases</th>\n",
       "      <th>PDeaths</th>\n",
       "      <th>Cases (+)</th>\n",
       "      <th>Deaths (+)</th>\n",
       "      <th>Fatality Rate</th>\n",
       "      <th>Continent</th>\n",
       "    </tr>\n",
       "  </thead>\n",
       "  <tbody>\n",
       "    <tr>\n",
       "      <th>0</th>\n",
       "      <td>US</td>\n",
       "      <td>32604810</td>\n",
       "      <td>580064</td>\n",
       "      <td>32557444</td>\n",
       "      <td>579275</td>\n",
       "      <td>47366</td>\n",
       "      <td>789</td>\n",
       "      <td>1.8</td>\n",
       "      <td>North America</td>\n",
       "    </tr>\n",
       "    <tr>\n",
       "      <th>1</th>\n",
       "      <td>India</td>\n",
       "      <td>21491598</td>\n",
       "      <td>234083</td>\n",
       "      <td>21077410</td>\n",
       "      <td>230168</td>\n",
       "      <td>414188</td>\n",
       "      <td>3915</td>\n",
       "      <td>1.1</td>\n",
       "      <td>Asia</td>\n",
       "    </tr>\n",
       "    <tr>\n",
       "      <th>2</th>\n",
       "      <td>Brazil</td>\n",
       "      <td>15003563</td>\n",
       "      <td>416949</td>\n",
       "      <td>14930183</td>\n",
       "      <td>414399</td>\n",
       "      <td>73380</td>\n",
       "      <td>2550</td>\n",
       "      <td>2.8</td>\n",
       "      <td>South America</td>\n",
       "    </tr>\n",
       "    <tr>\n",
       "      <th>3</th>\n",
       "      <td>France</td>\n",
       "      <td>5789283</td>\n",
       "      <td>106011</td>\n",
       "      <td>5767541</td>\n",
       "      <td>105792</td>\n",
       "      <td>21742</td>\n",
       "      <td>219</td>\n",
       "      <td>1.8</td>\n",
       "      <td>Europe</td>\n",
       "    </tr>\n",
       "    <tr>\n",
       "      <th>4</th>\n",
       "      <td>Turkey</td>\n",
       "      <td>4977982</td>\n",
       "      <td>42187</td>\n",
       "      <td>4955594</td>\n",
       "      <td>41883</td>\n",
       "      <td>22388</td>\n",
       "      <td>304</td>\n",
       "      <td>0.8</td>\n",
       "      <td>Asia</td>\n",
       "    </tr>\n",
       "  </tbody>\n",
       "</table>\n",
       "</div>"
      ],
      "text/plain": [
       "  Country/Region     Cases  Deaths    PCases  PDeaths  Cases (+)  Deaths (+)  \\\n",
       "0             US  32604810  580064  32557444   579275      47366         789   \n",
       "1          India  21491598  234083  21077410   230168     414188        3915   \n",
       "2         Brazil  15003563  416949  14930183   414399      73380        2550   \n",
       "3         France   5789283  106011   5767541   105792      21742         219   \n",
       "4         Turkey   4977982   42187   4955594    41883      22388         304   \n",
       "\n",
       "   Fatality Rate      Continent  \n",
       "0            1.8  North America  \n",
       "1            1.1           Asia  \n",
       "2            2.8  South America  \n",
       "3            1.8         Europe  \n",
       "4            0.8           Asia  "
      ]
     },
     "execution_count": 15,
     "metadata": {},
     "output_type": "execute_result"
    }
   ],
   "source": [
    "#hide\n",
    "df_table = (pd.DataFrame(dict(Cases=dfc_cases, Deaths=dfc_deaths, PCases=dfp_cases, PDeaths=dfp_deaths))\n",
    "             .sort_values(by=['Cases', 'Deaths'], ascending=[False, False])\n",
    "             .reset_index())\n",
    "df_table.rename(columns={'index': 'Country/Region'}, inplace=True)\n",
    "for c in 'Cases, Deaths'.split(', '):\n",
    "    df_table[f'{c} (+)'] = (df_table[c] - df_table[f'P{c}']).clip(0)  # DATA BUG\n",
    "df_table['Fatality Rate'] = (100 * df_table['Deaths'] / df_table['Cases']).round(1)\n",
    "df_table['Continent'] = df_table['Country/Region'].map(mapping['map.continent'])\n",
    "df_table.head(5)"
   ]
  },
  {
   "cell_type": "code",
   "execution_count": 16,
   "id": "fewer-occasion",
   "metadata": {
    "execution": {
     "iopub.execute_input": "2021-05-07T12:07:35.067676Z",
     "iopub.status.busy": "2021-05-07T12:07:35.066824Z",
     "iopub.status.idle": "2021-05-07T12:07:35.070018Z",
     "shell.execute_reply": "2021-05-07T12:07:35.069334Z"
    },
    "papermill": {
     "duration": 0.046333,
     "end_time": "2021-05-07T12:07:35.070235",
     "exception": false,
     "start_time": "2021-05-07T12:07:35.023902",
     "status": "completed"
    },
    "tags": []
   },
   "outputs": [],
   "source": [
    "#hide\n",
    "#delete problematic countries from table\n",
    "df_table = df_table[~df_table['Country/Region'].isin(['Cape Verde', 'Cruise Ship', 'Kosovo'])]"
   ]
  },
  {
   "cell_type": "code",
   "execution_count": 17,
   "id": "related-center",
   "metadata": {
    "execution": {
     "iopub.execute_input": "2021-05-07T12:07:35.160918Z",
     "iopub.status.busy": "2021-05-07T12:07:35.160268Z",
     "iopub.status.idle": "2021-05-07T12:07:35.175790Z",
     "shell.execute_reply": "2021-05-07T12:07:35.175085Z"
    },
    "papermill": {
     "duration": 0.065557,
     "end_time": "2021-05-07T12:07:35.175932",
     "exception": false,
     "start_time": "2021-05-07T12:07:35.110375",
     "status": "completed"
    },
    "tags": []
   },
   "outputs": [],
   "source": [
    "#hide\n",
    "metrics = [df_table.columns[index] for index in [1,2,5,6]]\n",
    "# s_china = df_table[df_table['Country/Region'].eq('China')][metrics].sum().add_prefix('China ')\n",
    "s_us = df_table[df_table['Country/Region'].eq('US')][metrics].sum().add_prefix('US ')\n",
    "s_eu = df_table[df_table['Continent'].eq('Europe')][metrics].sum().add_prefix('EU ')\n",
    "s_ind = df_table[df_table['Country/Region'].eq('India')][metrics].sum().add_prefix('India ')\n",
    "summary = {'updated': pd.to_datetime(dt_today), 'since': pd.to_datetime(dt_yday)}\n",
    "summary = {'updated': pd.to_datetime(dt_today), 'since': pd.to_datetime(dt_yday)}\n",
    "summary = {**summary, **df_table[metrics].sum(), **s_ind, **s_us, **s_eu}"
   ]
  },
  {
   "cell_type": "code",
   "execution_count": 18,
   "id": "engaging-syndrome",
   "metadata": {
    "execution": {
     "iopub.execute_input": "2021-05-07T12:07:35.261473Z",
     "iopub.status.busy": "2021-05-07T12:07:35.260884Z",
     "iopub.status.idle": "2021-05-07T12:07:35.273661Z",
     "shell.execute_reply": "2021-05-07T12:07:35.274165Z"
    },
    "papermill": {
     "duration": 0.057719,
     "end_time": "2021-05-07T12:07:35.274308",
     "exception": false,
     "start_time": "2021-05-07T12:07:35.216589",
     "status": "completed"
    },
    "tags": []
   },
   "outputs": [],
   "source": [
    "#hide\n",
    "dft_ct_new_cases = dft_cases.groupby(COL_REGION)[dt_cols].sum().diff(axis=1).fillna(0).astype(int)"
   ]
  },
  {
   "cell_type": "code",
   "execution_count": 19,
   "id": "neutral-assignment",
   "metadata": {
    "execution": {
     "iopub.execute_input": "2021-05-07T12:07:35.363360Z",
     "iopub.status.busy": "2021-05-07T12:07:35.362796Z",
     "iopub.status.idle": "2021-05-07T12:07:35.371065Z",
     "shell.execute_reply": "2021-05-07T12:07:35.370577Z"
    },
    "papermill": {
     "duration": 0.051578,
     "end_time": "2021-05-07T12:07:35.371181",
     "exception": false,
     "start_time": "2021-05-07T12:07:35.319603",
     "status": "completed"
    },
    "tags": []
   },
   "outputs": [],
   "source": [
    "#hide\n",
    "everydaycases = dft_ct_new_cases.cumsum(axis=1)"
   ]
  },
  {
   "cell_type": "code",
   "execution_count": 20,
   "id": "parliamentary-calgary",
   "metadata": {
    "execution": {
     "iopub.execute_input": "2021-05-07T12:07:35.456623Z",
     "iopub.status.busy": "2021-05-07T12:07:35.455919Z",
     "iopub.status.idle": "2021-05-07T12:07:36.070964Z",
     "shell.execute_reply": "2021-05-07T12:07:36.070247Z"
    },
    "papermill": {
     "duration": 0.658815,
     "end_time": "2021-05-07T12:07:36.071096",
     "exception": false,
     "start_time": "2021-05-07T12:07:35.412281",
     "status": "completed"
    },
    "tags": []
   },
   "outputs": [],
   "source": [
    "#hide\n",
    "import pandas as pd\n",
    "import matplotlib.pyplot as plt\n",
    "import matplotlib.ticker as ticker\n",
    "import matplotlib.animation as animation\n",
    "from IPython.display import HTML"
   ]
  },
  {
   "cell_type": "code",
   "execution_count": 21,
   "id": "lasting-extraction",
   "metadata": {
    "execution": {
     "iopub.execute_input": "2021-05-07T12:07:36.151672Z",
     "iopub.status.busy": "2021-05-07T12:07:36.151007Z",
     "iopub.status.idle": "2021-05-07T12:07:36.156913Z",
     "shell.execute_reply": "2021-05-07T12:07:36.157602Z"
    },
    "papermill": {
     "duration": 0.0491,
     "end_time": "2021-05-07T12:07:36.157750",
     "exception": false,
     "start_time": "2021-05-07T12:07:36.108650",
     "status": "completed"
    },
    "tags": []
   },
   "outputs": [],
   "source": [
    "#hide\n",
    "t = everydaycases.stack()"
   ]
  },
  {
   "cell_type": "code",
   "execution_count": 22,
   "id": "premier-sleeve",
   "metadata": {
    "execution": {
     "iopub.execute_input": "2021-05-07T12:07:36.240067Z",
     "iopub.status.busy": "2021-05-07T12:07:36.239452Z",
     "iopub.status.idle": "2021-05-07T12:07:36.247397Z",
     "shell.execute_reply": "2021-05-07T12:07:36.248123Z"
    },
    "papermill": {
     "duration": 0.053163,
     "end_time": "2021-05-07T12:07:36.248244",
     "exception": false,
     "start_time": "2021-05-07T12:07:36.195081",
     "status": "completed"
    },
    "tags": []
   },
   "outputs": [],
   "source": [
    "#hide\n",
    "g = t.reset_index(['Country/Region'])"
   ]
  },
  {
   "cell_type": "code",
   "execution_count": 23,
   "id": "distributed-pittsburgh",
   "metadata": {
    "execution": {
     "iopub.execute_input": "2021-05-07T12:07:36.326990Z",
     "iopub.status.busy": "2021-05-07T12:07:36.326339Z",
     "iopub.status.idle": "2021-05-07T12:07:36.329068Z",
     "shell.execute_reply": "2021-05-07T12:07:36.328529Z"
    },
    "papermill": {
     "duration": 0.042692,
     "end_time": "2021-05-07T12:07:36.329252",
     "exception": false,
     "start_time": "2021-05-07T12:07:36.286560",
     "status": "completed"
    },
    "tags": []
   },
   "outputs": [],
   "source": [
    "#hide\n",
    "g.index.name = 'date'"
   ]
  },
  {
   "cell_type": "code",
   "execution_count": 24,
   "id": "naked-donor",
   "metadata": {
    "execution": {
     "iopub.execute_input": "2021-05-07T12:07:36.406745Z",
     "iopub.status.busy": "2021-05-07T12:07:36.406041Z",
     "iopub.status.idle": "2021-05-07T12:07:36.408177Z",
     "shell.execute_reply": "2021-05-07T12:07:36.408719Z"
    },
    "papermill": {
     "duration": 0.041714,
     "end_time": "2021-05-07T12:07:36.408830",
     "exception": false,
     "start_time": "2021-05-07T12:07:36.367116",
     "status": "completed"
    },
    "tags": []
   },
   "outputs": [],
   "source": [
    "# #hide\n",
    "# g = g.reset_index(['date'])"
   ]
  },
  {
   "cell_type": "code",
   "execution_count": 25,
   "id": "incomplete-mustang",
   "metadata": {
    "execution": {
     "iopub.execute_input": "2021-05-07T12:07:36.492186Z",
     "iopub.status.busy": "2021-05-07T12:07:36.491580Z",
     "iopub.status.idle": "2021-05-07T12:07:36.493552Z",
     "shell.execute_reply": "2021-05-07T12:07:36.494102Z"
    },
    "papermill": {
     "duration": 0.046131,
     "end_time": "2021-05-07T12:07:36.494237",
     "exception": false,
     "start_time": "2021-05-07T12:07:36.448106",
     "status": "completed"
    },
    "tags": []
   },
   "outputs": [],
   "source": [
    "#hide\n",
    "# g.head()"
   ]
  },
  {
   "cell_type": "code",
   "execution_count": 26,
   "id": "specific-kruger",
   "metadata": {
    "execution": {
     "iopub.execute_input": "2021-05-07T12:07:36.575509Z",
     "iopub.status.busy": "2021-05-07T12:07:36.574819Z",
     "iopub.status.idle": "2021-05-07T12:07:36.577452Z",
     "shell.execute_reply": "2021-05-07T12:07:36.576664Z"
    },
    "papermill": {
     "duration": 0.044138,
     "end_time": "2021-05-07T12:07:36.577622",
     "exception": false,
     "start_time": "2021-05-07T12:07:36.533484",
     "status": "completed"
    },
    "tags": []
   },
   "outputs": [],
   "source": [
    "#hide\n",
    "# g.columns = ['date','country','cases']"
   ]
  },
  {
   "cell_type": "code",
   "execution_count": 27,
   "id": "tender-conversion",
   "metadata": {
    "execution": {
     "iopub.execute_input": "2021-05-07T12:07:36.659553Z",
     "iopub.status.busy": "2021-05-07T12:07:36.658820Z",
     "iopub.status.idle": "2021-05-07T12:07:36.661426Z",
     "shell.execute_reply": "2021-05-07T12:07:36.660916Z"
    },
    "papermill": {
     "duration": 0.045131,
     "end_time": "2021-05-07T12:07:36.661543",
     "exception": false,
     "start_time": "2021-05-07T12:07:36.616412",
     "status": "completed"
    },
    "tags": []
   },
   "outputs": [],
   "source": [
    "#hide\n",
    "# g['continent'] = g.country"
   ]
  },
  {
   "cell_type": "code",
   "execution_count": 28,
   "id": "substantial-wilderness",
   "metadata": {
    "execution": {
     "iopub.execute_input": "2021-05-07T12:07:36.742132Z",
     "iopub.status.busy": "2021-05-07T12:07:36.741493Z",
     "iopub.status.idle": "2021-05-07T12:07:36.744118Z",
     "shell.execute_reply": "2021-05-07T12:07:36.743518Z"
    },
    "papermill": {
     "duration": 0.045603,
     "end_time": "2021-05-07T12:07:36.744228",
     "exception": false,
     "start_time": "2021-05-07T12:07:36.698625",
     "status": "completed"
    },
    "tags": []
   },
   "outputs": [],
   "source": [
    "#hide\n",
    "# cols = list(g.columns.values)"
   ]
  },
  {
   "cell_type": "code",
   "execution_count": 29,
   "id": "solved-farming",
   "metadata": {
    "execution": {
     "iopub.execute_input": "2021-05-07T12:07:36.823737Z",
     "iopub.status.busy": "2021-05-07T12:07:36.822943Z",
     "iopub.status.idle": "2021-05-07T12:07:36.825259Z",
     "shell.execute_reply": "2021-05-07T12:07:36.825763Z"
    },
    "papermill": {
     "duration": 0.043159,
     "end_time": "2021-05-07T12:07:36.825920",
     "exception": false,
     "start_time": "2021-05-07T12:07:36.782761",
     "status": "completed"
    },
    "tags": []
   },
   "outputs": [],
   "source": [
    "#hide\n",
    "# cols.insert(0, cols.pop())"
   ]
  },
  {
   "cell_type": "code",
   "execution_count": 30,
   "id": "executed-adoption",
   "metadata": {
    "execution": {
     "iopub.execute_input": "2021-05-07T12:07:36.906902Z",
     "iopub.status.busy": "2021-05-07T12:07:36.906181Z",
     "iopub.status.idle": "2021-05-07T12:07:36.908333Z",
     "shell.execute_reply": "2021-05-07T12:07:36.908823Z"
    },
    "papermill": {
     "duration": 0.044417,
     "end_time": "2021-05-07T12:07:36.908953",
     "exception": false,
     "start_time": "2021-05-07T12:07:36.864536",
     "status": "completed"
    },
    "tags": []
   },
   "outputs": [],
   "source": [
    "#hide\n",
    "# g = g[cols]"
   ]
  },
  {
   "cell_type": "code",
   "execution_count": 31,
   "id": "subject-dublin",
   "metadata": {
    "execution": {
     "iopub.execute_input": "2021-05-07T12:07:36.985467Z",
     "iopub.status.busy": "2021-05-07T12:07:36.984759Z",
     "iopub.status.idle": "2021-05-07T12:07:36.987375Z",
     "shell.execute_reply": "2021-05-07T12:07:36.986894Z"
    },
    "papermill": {
     "duration": 0.041349,
     "end_time": "2021-05-07T12:07:36.987557",
     "exception": false,
     "start_time": "2021-05-07T12:07:36.946208",
     "status": "completed"
    },
    "tags": []
   },
   "outputs": [],
   "source": [
    "#hide\n",
    "# g['continent'] = g['continent'].map(mapping['map.continent'])"
   ]
  },
  {
   "cell_type": "code",
   "execution_count": 32,
   "id": "freelance-scout",
   "metadata": {
    "execution": {
     "iopub.execute_input": "2021-05-07T12:07:37.071572Z",
     "iopub.status.busy": "2021-05-07T12:07:37.070968Z",
     "iopub.status.idle": "2021-05-07T12:07:37.074564Z",
     "shell.execute_reply": "2021-05-07T12:07:37.075116Z"
    },
    "papermill": {
     "duration": 0.050522,
     "end_time": "2021-05-07T12:07:37.075247",
     "exception": false,
     "start_time": "2021-05-07T12:07:37.024725",
     "status": "completed"
    },
    "tags": []
   },
   "outputs": [],
   "source": [
    "#hide\n",
    "# g.head()"
   ]
  },
  {
   "cell_type": "code",
   "execution_count": 33,
   "id": "limited-engine",
   "metadata": {
    "execution": {
     "iopub.execute_input": "2021-05-07T12:07:37.151397Z",
     "iopub.status.busy": "2021-05-07T12:07:37.150672Z",
     "iopub.status.idle": "2021-05-07T12:07:37.153187Z",
     "shell.execute_reply": "2021-05-07T12:07:37.152722Z"
    },
    "papermill": {
     "duration": 0.041996,
     "end_time": "2021-05-07T12:07:37.153327",
     "exception": false,
     "start_time": "2021-05-07T12:07:37.111331",
     "status": "completed"
    },
    "tags": []
   },
   "outputs": [],
   "source": [
    "# hide\n",
    "# g['date'] = g['date'].astype('datetime64[ns]')"
   ]
  },
  {
   "cell_type": "code",
   "execution_count": 34,
   "id": "sophisticated-supervisor",
   "metadata": {
    "execution": {
     "iopub.execute_input": "2021-05-07T12:07:37.226744Z",
     "iopub.status.busy": "2021-05-07T12:07:37.225866Z",
     "iopub.status.idle": "2021-05-07T12:07:37.227979Z",
     "shell.execute_reply": "2021-05-07T12:07:37.228475Z"
    },
    "papermill": {
     "duration": 0.040252,
     "end_time": "2021-05-07T12:07:37.228588",
     "exception": false,
     "start_time": "2021-05-07T12:07:37.188336",
     "status": "completed"
    },
    "tags": []
   },
   "outputs": [],
   "source": [
    "#hide\n",
    "# g['date'] = g.date.dt.dayofyear"
   ]
  },
  {
   "cell_type": "code",
   "execution_count": 35,
   "id": "inside-dubai",
   "metadata": {
    "execution": {
     "iopub.execute_input": "2021-05-07T12:07:37.310621Z",
     "iopub.status.busy": "2021-05-07T12:07:37.310004Z",
     "iopub.status.idle": "2021-05-07T12:07:37.312129Z",
     "shell.execute_reply": "2021-05-07T12:07:37.312623Z"
    },
    "papermill": {
     "duration": 0.042792,
     "end_time": "2021-05-07T12:07:37.312747",
     "exception": false,
     "start_time": "2021-05-07T12:07:37.269955",
     "status": "completed"
    },
    "tags": []
   },
   "outputs": [],
   "source": [
    "#hide\n",
    "# g = g.rename(columns= {'continent':'group','country':'name','cases':'value'})"
   ]
  },
  {
   "cell_type": "code",
   "execution_count": 36,
   "id": "fleet-motorcycle",
   "metadata": {
    "execution": {
     "iopub.execute_input": "2021-05-07T12:07:37.391050Z",
     "iopub.status.busy": "2021-05-07T12:07:37.390465Z",
     "iopub.status.idle": "2021-05-07T12:07:37.392960Z",
     "shell.execute_reply": "2021-05-07T12:07:37.392480Z"
    },
    "papermill": {
     "duration": 0.042182,
     "end_time": "2021-05-07T12:07:37.393095",
     "exception": false,
     "start_time": "2021-05-07T12:07:37.350913",
     "status": "completed"
    },
    "tags": []
   },
   "outputs": [],
   "source": [
    "#hide\n",
    "# cols = ['name','group','day','value']"
   ]
  },
  {
   "cell_type": "code",
   "execution_count": 37,
   "id": "continued-sleeping",
   "metadata": {
    "execution": {
     "iopub.execute_input": "2021-05-07T12:07:37.472549Z",
     "iopub.status.busy": "2021-05-07T12:07:37.469625Z",
     "iopub.status.idle": "2021-05-07T12:07:37.477283Z",
     "shell.execute_reply": "2021-05-07T12:07:37.478115Z"
    },
    "papermill": {
     "duration": 0.049707,
     "end_time": "2021-05-07T12:07:37.478333",
     "exception": false,
     "start_time": "2021-05-07T12:07:37.428626",
     "status": "completed"
    },
    "tags": []
   },
   "outputs": [],
   "source": [
    "#hide\n",
    "# g.rename(columns= {'date':'day'},inplace = True)"
   ]
  },
  {
   "cell_type": "code",
   "execution_count": 38,
   "id": "major-fight",
   "metadata": {
    "execution": {
     "iopub.execute_input": "2021-05-07T12:07:37.556005Z",
     "iopub.status.busy": "2021-05-07T12:07:37.554819Z",
     "iopub.status.idle": "2021-05-07T12:07:37.556766Z",
     "shell.execute_reply": "2021-05-07T12:07:37.557385Z"
    },
    "papermill": {
     "duration": 0.042126,
     "end_time": "2021-05-07T12:07:37.557530",
     "exception": false,
     "start_time": "2021-05-07T12:07:37.515404",
     "status": "completed"
    },
    "tags": []
   },
   "outputs": [],
   "source": [
    "#hide\n",
    "# g = g[cols]"
   ]
  },
  {
   "cell_type": "code",
   "execution_count": 39,
   "id": "structured-mobile",
   "metadata": {
    "execution": {
     "iopub.execute_input": "2021-05-07T12:07:37.637834Z",
     "iopub.status.busy": "2021-05-07T12:07:37.637264Z",
     "iopub.status.idle": "2021-05-07T12:07:37.639306Z",
     "shell.execute_reply": "2021-05-07T12:07:37.640053Z"
    },
    "papermill": {
     "duration": 0.043956,
     "end_time": "2021-05-07T12:07:37.640210",
     "exception": false,
     "start_time": "2021-05-07T12:07:37.596254",
     "status": "completed"
    },
    "tags": []
   },
   "outputs": [],
   "source": [
    "# #hide\n",
    "# g = g[g.group.notna()]"
   ]
  },
  {
   "cell_type": "code",
   "execution_count": 40,
   "id": "determined-closing",
   "metadata": {
    "execution": {
     "iopub.execute_input": "2021-05-07T12:07:37.719725Z",
     "iopub.status.busy": "2021-05-07T12:07:37.719044Z",
     "iopub.status.idle": "2021-05-07T12:07:37.722095Z",
     "shell.execute_reply": "2021-05-07T12:07:37.721526Z"
    },
    "papermill": {
     "duration": 0.043368,
     "end_time": "2021-05-07T12:07:37.722198",
     "exception": false,
     "start_time": "2021-05-07T12:07:37.678830",
     "status": "completed"
    },
    "tags": []
   },
   "outputs": [],
   "source": [
    "# #hide\n",
    "# colors = dict(zip(\n",
    "#     [\"Oceania\", \"Europe\", \"Asia\", \"South America\", \"Middle East\", \"North America\", \"Africa\"],\n",
    "#     [\"#adb0ff\", \"#ffb3ff\", \"#90d595\", \"#e48381\", \"#aafbff\", \"#f7bb5f\", \"#eafb50\"]\n",
    "# ))\n",
    "# group_lk = g.set_index('name')['group'].to_dict()"
   ]
  },
  {
   "cell_type": "code",
   "execution_count": null,
   "id": "gross-drinking",
   "metadata": {
    "papermill": {
     "duration": 0.037001,
     "end_time": "2021-05-07T12:07:37.796686",
     "exception": false,
     "start_time": "2021-05-07T12:07:37.759685",
     "status": "completed"
    },
    "tags": []
   },
   "outputs": [],
   "source": []
  },
  {
   "cell_type": "code",
   "execution_count": 41,
   "id": "subject-macintosh",
   "metadata": {
    "execution": {
     "iopub.execute_input": "2021-05-07T12:07:37.874068Z",
     "iopub.status.busy": "2021-05-07T12:07:37.873475Z",
     "iopub.status.idle": "2021-05-07T12:07:37.875555Z",
     "shell.execute_reply": "2021-05-07T12:07:37.876005Z"
    },
    "papermill": {
     "duration": 0.045033,
     "end_time": "2021-05-07T12:07:37.876146",
     "exception": false,
     "start_time": "2021-05-07T12:07:37.831113",
     "status": "completed"
    },
    "tags": []
   },
   "outputs": [],
   "source": [
    "# #hide\n",
    "# fig, ax = plt.subplots(figsize=(15, 8))\n",
    "\n",
    "# def draw_barchart(current_day):\n",
    "#     dff = g[g['day'].eq(current_day)].sort_values(by='value', ascending=True).tail(10)\n",
    "#     ax.clear()\n",
    "#     ax.barh(dff['name'], dff['value'], color=[colors[group_lk[x]] for x in dff['name']])\n",
    "#     dx = dff['value'].max() / 200\n",
    "    \n",
    "#     for i, (value, name) in enumerate(zip(dff['value'], dff['name'])):\n",
    "#         ax.text(value-dx, i,     name,           size=14, weight=600, ha='right', va='bottom')\n",
    "#         ax.text(value-dx, i-.25, group_lk[name], size=10, color='#444444', ha='right', va='baseline')\n",
    "#         ax.text(value+dx, i,     f'{value:,.0f}',  size=14, ha='left',  va='center')\n",
    "#     ax.text(1, 0.4, current_day, transform=ax.transAxes, color='#777777', size=46, ha='right', weight=800)\n",
    "#     ax.text(0, 1.06, 'Population (thousands)', transform=ax.transAxes, size=12, color='#777777')\n",
    "#     ax.xaxis.set_major_formatter(ticker.StrMethodFormatter('{x:,.0f}'))\n",
    "#     ax.xaxis.set_ticks_position('top')\n",
    "#     ax.tick_params(axis='x', colors='#777777', labelsize=12)\n",
    "#     ax.set_yticks([])\n",
    "#     ax.margins(0, 0.01)\n",
    "#     ax.grid(which='major', axis='x', linestyle='-')\n",
    "#     ax.set_axisbelow(True)\n",
    "    \n",
    "#     ax.text(0, 1.15, 'Coronavirus',\n",
    "#             transform=ax.transAxes, size=24, weight=600, ha='left', va='top')\n",
    "# #     ax.text(1, 0, 'by @pratapvardhan; credit @jburnmurdoch', transform=ax.transAxes, color='#777777', ha='right',\n",
    "# #             bbox=dict(facecolor='white', alpha=0.8, edgecolor='white'))\n",
    "#     plt.box(False)"
   ]
  },
  {
   "cell_type": "code",
   "execution_count": 42,
   "id": "sexual-wages",
   "metadata": {
    "execution": {
     "iopub.execute_input": "2021-05-07T12:07:37.959905Z",
     "iopub.status.busy": "2021-05-07T12:07:37.959299Z",
     "iopub.status.idle": "2021-05-07T12:07:37.962151Z",
     "shell.execute_reply": "2021-05-07T12:07:37.961653Z"
    },
    "papermill": {
     "duration": 0.049205,
     "end_time": "2021-05-07T12:07:37.962263",
     "exception": false,
     "start_time": "2021-05-07T12:07:37.913058",
     "status": "completed"
    },
    "tags": []
   },
   "outputs": [],
   "source": [
    "# #hide_input\n",
    "# fig, ax = plt.subplots(figsize=(15, 8))\n",
    "# animator = animation.FuncAnimation(fig, draw_barchart, frames=range(g.day.values.min(), g.day.values.max()))\n",
    "# HTML(animator.to_jshtml())\n",
    "# # or use animator.to_html5_video() or animator.save() "
   ]
  },
  {
   "cell_type": "code",
   "execution_count": null,
   "id": "australian-container",
   "metadata": {
    "papermill": {
     "duration": 0.035576,
     "end_time": "2021-05-07T12:07:38.034439",
     "exception": false,
     "start_time": "2021-05-07T12:07:37.998863",
     "status": "completed"
    },
    "tags": []
   },
   "outputs": [],
   "source": []
  },
  {
   "cell_type": "code",
   "execution_count": null,
   "id": "mediterranean-pontiac",
   "metadata": {
    "papermill": {
     "duration": 0.034307,
     "end_time": "2021-05-07T12:07:38.103863",
     "exception": false,
     "start_time": "2021-05-07T12:07:38.069556",
     "status": "completed"
    },
    "tags": []
   },
   "outputs": [],
   "source": []
  },
  {
   "cell_type": "code",
   "execution_count": null,
   "id": "aging-legislature",
   "metadata": {
    "papermill": {
     "duration": 0.037637,
     "end_time": "2021-05-07T12:07:38.178144",
     "exception": false,
     "start_time": "2021-05-07T12:07:38.140507",
     "status": "completed"
    },
    "tags": []
   },
   "outputs": [],
   "source": []
  }
 ],
 "metadata": {
  "kernelspec": {
   "display_name": "Python 3",
   "language": "python",
   "name": "python3"
  },
  "language_info": {
   "codemirror_mode": {
    "name": "ipython",
    "version": 3
   },
   "file_extension": ".py",
   "mimetype": "text/x-python",
   "name": "python",
   "nbconvert_exporter": "python",
   "pygments_lexer": "ipython3",
   "version": "3.6.13"
  },
  "papermill": {
   "duration": 6.739071,
   "end_time": "2021-05-07T12:07:38.522555",
   "environment_variables": {},
   "exception": null,
   "input_path": "2020-03-21-covid19exp.ipynb",
   "output_path": "2020-03-21-covid19exp.ipynb",
   "parameters": {},
   "start_time": "2021-05-07T12:07:31.783484",
   "version": "2.0.0"
  }
 },
 "nbformat": 4,
 "nbformat_minor": 5
}