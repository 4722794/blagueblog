{
 "cells": [
  {
   "cell_type": "markdown",
   "id": "muslim-click",
   "metadata": {
    "papermill": {
     "duration": 0.034359,
     "end_time": "2022-11-24T12:17:54.004437",
     "exception": false,
     "start_time": "2022-11-24T12:17:53.970078",
     "status": "completed"
    },
    "tags": []
   },
   "source": [
    "# COVID-19 Case Race\n",
    "> A race chart to see rising cases around the world\n",
    "\n",
    "- author: Hargun Oberoi\n",
    "- image: images/covid-overview.png\n",
    "- hide: false\n",
    "- badges: false"
   ]
  },
  {
   "cell_type": "code",
   "execution_count": 1,
   "id": "proof-material",
   "metadata": {
    "execution": {
     "iopub.execute_input": "2022-11-24T12:17:54.073345Z",
     "iopub.status.busy": "2022-11-24T12:17:54.072773Z",
     "iopub.status.idle": "2022-11-24T12:17:54.379586Z",
     "shell.execute_reply": "2022-11-24T12:17:54.379059Z"
    },
    "papermill": {
     "duration": 0.345333,
     "end_time": "2022-11-24T12:17:54.379718",
     "exception": false,
     "start_time": "2022-11-24T12:17:54.034385",
     "status": "completed"
    },
    "tags": []
   },
   "outputs": [],
   "source": [
    "#hide\n",
    "import numpy as np\n",
    "import pandas as pd\n",
    "from jinja2 import Template\n",
    "from IPython.display import HTML"
   ]
  },
  {
   "cell_type": "code",
   "execution_count": 2,
   "id": "developed-terminology",
   "metadata": {
    "execution": {
     "iopub.execute_input": "2022-11-24T12:17:54.444250Z",
     "iopub.status.busy": "2022-11-24T12:17:54.443654Z",
     "iopub.status.idle": "2022-11-24T12:17:54.446336Z",
     "shell.execute_reply": "2022-11-24T12:17:54.446740Z"
    },
    "papermill": {
     "duration": 0.037315,
     "end_time": "2022-11-24T12:17:54.446859",
     "exception": false,
     "start_time": "2022-11-24T12:17:54.409544",
     "status": "completed"
    },
    "tags": []
   },
   "outputs": [],
   "source": [
    "#hide\n",
    "\n",
    "# FETCH\n",
    "base_url = 'https://raw.githubusercontent.com/pratapvardhan/notebooks/master/covid19/'\n",
    "paths = {\n",
    "    'mapping': base_url + 'mapping_countries.csv',\n",
    "    'overview': base_url + 'overview.tpl'\n",
    "}"
   ]
  },
  {
   "cell_type": "code",
   "execution_count": 3,
   "id": "dynamic-saver",
   "metadata": {
    "execution": {
     "iopub.execute_input": "2022-11-24T12:17:54.514326Z",
     "iopub.status.busy": "2022-11-24T12:17:54.513228Z",
     "iopub.status.idle": "2022-11-24T12:17:54.516735Z",
     "shell.execute_reply": "2022-11-24T12:17:54.517251Z"
    },
    "papermill": {
     "duration": 0.041044,
     "end_time": "2022-11-24T12:17:54.517361",
     "exception": false,
     "start_time": "2022-11-24T12:17:54.476317",
     "status": "completed"
    },
    "tags": []
   },
   "outputs": [
    {
     "data": {
      "text/plain": [
       "'https://raw.githubusercontent.com/pratapvardhan/notebooks/master/covid19/mapping_countries.csv'"
      ]
     },
     "execution_count": 3,
     "metadata": {},
     "output_type": "execute_result"
    }
   ],
   "source": [
    "#hide\n",
    "paths['mapping']"
   ]
  },
  {
   "cell_type": "code",
   "execution_count": 4,
   "id": "urban-software",
   "metadata": {
    "execution": {
     "iopub.execute_input": "2022-11-24T12:17:54.582236Z",
     "iopub.status.busy": "2022-11-24T12:17:54.581669Z",
     "iopub.status.idle": "2022-11-24T12:17:54.583246Z",
     "shell.execute_reply": "2022-11-24T12:17:54.583755Z"
    },
    "papermill": {
     "duration": 0.036536,
     "end_time": "2022-11-24T12:17:54.583864",
     "exception": false,
     "start_time": "2022-11-24T12:17:54.547328",
     "status": "completed"
    },
    "tags": []
   },
   "outputs": [],
   "source": [
    "#hide\n",
    "def get_mappings(url):\n",
    "    df = pd.read_csv(url)\n",
    "    return {\n",
    "        'df': df,\n",
    "        'replace.country': dict(df.dropna(subset=['Name']).set_index('Country')['Name']),\n",
    "        'map.continent': dict(df.set_index('Name')['Continent'])\n",
    "    }"
   ]
  },
  {
   "cell_type": "code",
   "execution_count": 5,
   "id": "intimate-machinery",
   "metadata": {
    "execution": {
     "iopub.execute_input": "2022-11-24T12:17:54.648425Z",
     "iopub.status.busy": "2022-11-24T12:17:54.647858Z",
     "iopub.status.idle": "2022-11-24T12:17:54.686025Z",
     "shell.execute_reply": "2022-11-24T12:17:54.685555Z"
    },
    "papermill": {
     "duration": 0.07247,
     "end_time": "2022-11-24T12:17:54.686127",
     "exception": false,
     "start_time": "2022-11-24T12:17:54.613657",
     "status": "completed"
    },
    "tags": []
   },
   "outputs": [],
   "source": [
    "#hide\n",
    "mapping = get_mappings(paths['mapping'])"
   ]
  },
  {
   "cell_type": "code",
   "execution_count": 6,
   "id": "certified-tactics",
   "metadata": {
    "execution": {
     "iopub.execute_input": "2022-11-24T12:17:54.750380Z",
     "iopub.status.busy": "2022-11-24T12:17:54.749826Z",
     "iopub.status.idle": "2022-11-24T12:17:54.752072Z",
     "shell.execute_reply": "2022-11-24T12:17:54.752527Z"
    },
    "papermill": {
     "duration": 0.036622,
     "end_time": "2022-11-24T12:17:54.752640",
     "exception": false,
     "start_time": "2022-11-24T12:17:54.716018",
     "status": "completed"
    },
    "tags": []
   },
   "outputs": [],
   "source": [
    "#hide\n",
    "def get_template(path):\n",
    "    from urllib.parse import urlparse\n",
    "    if bool(urlparse(path).netloc):\n",
    "        from urllib.request import urlopen\n",
    "        return urlopen(path).read().decode('utf8')\n",
    "    return open(path).read()"
   ]
  },
  {
   "cell_type": "code",
   "execution_count": 7,
   "id": "realistic-blast",
   "metadata": {
    "execution": {
     "iopub.execute_input": "2022-11-24T12:17:54.816626Z",
     "iopub.status.busy": "2022-11-24T12:17:54.816058Z",
     "iopub.status.idle": "2022-11-24T12:17:54.818411Z",
     "shell.execute_reply": "2022-11-24T12:17:54.817868Z"
    },
    "papermill": {
     "duration": 0.036059,
     "end_time": "2022-11-24T12:17:54.818509",
     "exception": false,
     "start_time": "2022-11-24T12:17:54.782450",
     "status": "completed"
    },
    "tags": []
   },
   "outputs": [],
   "source": [
    "#hide\n",
    "def get_frame(name):\n",
    "    url = (\n",
    "        'https://raw.githubusercontent.com/CSSEGISandData/COVID-19/master/csse_covid_19_data/'\n",
    "        f'csse_covid_19_time_series/time_series_covid19_{name}_global.csv')\n",
    "    df = pd.read_csv(url)\n",
    "    # rename countries\n",
    "    df['Country/Region'] = df['Country/Region'].replace(mapping['replace.country'])\n",
    "    return df"
   ]
  },
  {
   "cell_type": "code",
   "execution_count": 8,
   "id": "affiliated-characterization",
   "metadata": {
    "execution": {
     "iopub.execute_input": "2022-11-24T12:17:54.883588Z",
     "iopub.status.busy": "2022-11-24T12:17:54.882986Z",
     "iopub.status.idle": "2022-11-24T12:17:54.886087Z",
     "shell.execute_reply": "2022-11-24T12:17:54.885637Z"
    },
    "papermill": {
     "duration": 0.037775,
     "end_time": "2022-11-24T12:17:54.886182",
     "exception": false,
     "start_time": "2022-11-24T12:17:54.848407",
     "status": "completed"
    },
    "tags": []
   },
   "outputs": [],
   "source": [
    "#hide\n",
    "def get_dates(df):\n",
    "    dt_cols = df.columns[~df.columns.isin(['Province/State', 'Country/Region', 'Lat', 'Long'])]\n",
    "    LAST_DATE_I = -1\n",
    "    # sometimes last column may be empty, then go backwards\n",
    "    for i in range(-1, -len(dt_cols), -1):\n",
    "        if not df[dt_cols[i]].fillna(0).eq(0).all():\n",
    "            LAST_DATE_I = i\n",
    "            break\n",
    "    return LAST_DATE_I, dt_cols"
   ]
  },
  {
   "cell_type": "code",
   "execution_count": 9,
   "id": "recent-optimization",
   "metadata": {
    "execution": {
     "iopub.execute_input": "2022-11-24T12:17:54.949638Z",
     "iopub.status.busy": "2022-11-24T12:17:54.949071Z",
     "iopub.status.idle": "2022-11-24T12:17:55.429494Z",
     "shell.execute_reply": "2022-11-24T12:17:55.429012Z"
    },
    "papermill": {
     "duration": 0.513819,
     "end_time": "2022-11-24T12:17:55.429611",
     "exception": false,
     "start_time": "2022-11-24T12:17:54.915792",
     "status": "completed"
    },
    "tags": []
   },
   "outputs": [],
   "source": [
    "#hide\n",
    "COL_REGION = 'Country/Region'\n",
    "# Confirmed, Recovered, Deaths\n",
    "df = get_frame('confirmed')\n",
    "# dft_: timeseries, dfc_: today country agg\n",
    "dft_cases = df\n",
    "dft_deaths = get_frame('deaths')\n",
    "dft_recovered = get_frame('recovered')\n",
    "LAST_DATE_I, dt_cols = get_dates(df)"
   ]
  },
  {
   "cell_type": "code",
   "execution_count": 10,
   "id": "absolute-copper",
   "metadata": {
    "execution": {
     "iopub.execute_input": "2022-11-24T12:17:55.494628Z",
     "iopub.status.busy": "2022-11-24T12:17:55.494075Z",
     "iopub.status.idle": "2022-11-24T12:17:55.495966Z",
     "shell.execute_reply": "2022-11-24T12:17:55.496478Z"
    },
    "papermill": {
     "duration": 0.036767,
     "end_time": "2022-11-24T12:17:55.496587",
     "exception": false,
     "start_time": "2022-11-24T12:17:55.459820",
     "status": "completed"
    },
    "tags": []
   },
   "outputs": [],
   "source": [
    "#hide\n",
    "LAST_DATE_I, dt_cols = get_dates(df)\n",
    "dt_today =dt_cols[LAST_DATE_I]\n",
    "# dt_5day = dt_cols[LAST_DATE_I - 5]\n",
    "dt_yday = dt_cols[LAST_DATE_I - 1]"
   ]
  },
  {
   "cell_type": "code",
   "execution_count": 11,
   "id": "restricted-sheriff",
   "metadata": {
    "execution": {
     "iopub.execute_input": "2022-11-24T12:17:55.560609Z",
     "iopub.status.busy": "2022-11-24T12:17:55.560042Z",
     "iopub.status.idle": "2022-11-24T12:17:55.566664Z",
     "shell.execute_reply": "2022-11-24T12:17:55.567201Z"
    },
    "papermill": {
     "duration": 0.041067,
     "end_time": "2022-11-24T12:17:55.567312",
     "exception": false,
     "start_time": "2022-11-24T12:17:55.526245",
     "status": "completed"
    },
    "tags": []
   },
   "outputs": [],
   "source": [
    "#hide\n",
    "dfc_cases = dft_cases.groupby(COL_REGION)[dt_today].sum()\n",
    "dfc_deaths = dft_deaths.groupby(COL_REGION)[dt_today].sum()\n",
    "# dfp_cases = dft_cases.groupby(COL_REGION)[dt_5day].sum()\n",
    "# dfp_deaths = dft_deaths.groupby(COL_REGION)[dt_5day].sum()\n",
    "dfp_cases = dft_cases.groupby(COL_REGION)[dt_yday].sum()\n",
    "dfp_deaths = dft_deaths.groupby(COL_REGION)[dt_yday].sum()"
   ]
  },
  {
   "cell_type": "code",
   "execution_count": 12,
   "id": "deluxe-hepatitis",
   "metadata": {
    "execution": {
     "iopub.execute_input": "2022-11-24T12:17:55.632385Z",
     "iopub.status.busy": "2022-11-24T12:17:55.631832Z",
     "iopub.status.idle": "2022-11-24T12:17:55.636448Z",
     "shell.execute_reply": "2022-11-24T12:17:55.635923Z"
    },
    "papermill": {
     "duration": 0.039496,
     "end_time": "2022-11-24T12:17:55.636547",
     "exception": false,
     "start_time": "2022-11-24T12:17:55.597051",
     "status": "completed"
    },
    "tags": []
   },
   "outputs": [],
   "source": [
    "#hide\n",
    "df_table = (pd.DataFrame(dict(Cases = dfc_cases, Deaths = dfc_deaths, PCases = dfp_cases, PDeaths = dfp_deaths))\n",
    "            .sort_values(by = ['Cases','Deaths'], ascending = [False, False])\n",
    "            .reset_index())"
   ]
  },
  {
   "cell_type": "code",
   "execution_count": 13,
   "id": "educational-chancellor",
   "metadata": {
    "execution": {
     "iopub.execute_input": "2022-11-24T12:17:55.712304Z",
     "iopub.status.busy": "2022-11-24T12:17:55.711745Z",
     "iopub.status.idle": "2022-11-24T12:17:55.718928Z",
     "shell.execute_reply": "2022-11-24T12:17:55.719402Z"
    },
    "papermill": {
     "duration": 0.053158,
     "end_time": "2022-11-24T12:17:55.719517",
     "exception": false,
     "start_time": "2022-11-24T12:17:55.666359",
     "status": "completed"
    },
    "tags": []
   },
   "outputs": [
    {
     "data": {
      "text/html": [
       "<div>\n",
       "<style scoped>\n",
       "    .dataframe tbody tr th:only-of-type {\n",
       "        vertical-align: middle;\n",
       "    }\n",
       "\n",
       "    .dataframe tbody tr th {\n",
       "        vertical-align: top;\n",
       "    }\n",
       "\n",
       "    .dataframe thead th {\n",
       "        text-align: right;\n",
       "    }\n",
       "</style>\n",
       "<table border=\"1\" class=\"dataframe\">\n",
       "  <thead>\n",
       "    <tr style=\"text-align: right;\">\n",
       "      <th></th>\n",
       "      <th>Country/Region</th>\n",
       "      <th>Cases</th>\n",
       "      <th>Deaths</th>\n",
       "      <th>PCases</th>\n",
       "      <th>PDeaths</th>\n",
       "      <th>Cases (+)</th>\n",
       "      <th>Deaths (+)</th>\n",
       "      <th>Fatality Rate</th>\n",
       "      <th>Continent</th>\n",
       "    </tr>\n",
       "  </thead>\n",
       "  <tbody>\n",
       "    <tr>\n",
       "      <th>0</th>\n",
       "      <td>US</td>\n",
       "      <td>98503462</td>\n",
       "      <td>1078929</td>\n",
       "      <td>98392076</td>\n",
       "      <td>1077836</td>\n",
       "      <td>111386</td>\n",
       "      <td>1093</td>\n",
       "      <td>1.10</td>\n",
       "      <td>North America</td>\n",
       "    </tr>\n",
       "    <tr>\n",
       "      <th>1</th>\n",
       "      <td>India</td>\n",
       "      <td>44671708</td>\n",
       "      <td>530601</td>\n",
       "      <td>44671300</td>\n",
       "      <td>530596</td>\n",
       "      <td>408</td>\n",
       "      <td>5</td>\n",
       "      <td>1.19</td>\n",
       "      <td>Asia</td>\n",
       "    </tr>\n",
       "    <tr>\n",
       "      <th>2</th>\n",
       "      <td>France</td>\n",
       "      <td>37690658</td>\n",
       "      <td>159551</td>\n",
       "      <td>37641319</td>\n",
       "      <td>159467</td>\n",
       "      <td>49339</td>\n",
       "      <td>84</td>\n",
       "      <td>0.42</td>\n",
       "      <td>Europe</td>\n",
       "    </tr>\n",
       "    <tr>\n",
       "      <th>3</th>\n",
       "      <td>Germany</td>\n",
       "      <td>36318461</td>\n",
       "      <td>157114</td>\n",
       "      <td>36280371</td>\n",
       "      <td>156951</td>\n",
       "      <td>38090</td>\n",
       "      <td>163</td>\n",
       "      <td>0.43</td>\n",
       "      <td>Europe</td>\n",
       "    </tr>\n",
       "    <tr>\n",
       "      <th>4</th>\n",
       "      <td>Brazil</td>\n",
       "      <td>35082036</td>\n",
       "      <td>689272</td>\n",
       "      <td>35052152</td>\n",
       "      <td>689155</td>\n",
       "      <td>29884</td>\n",
       "      <td>117</td>\n",
       "      <td>1.96</td>\n",
       "      <td>South America</td>\n",
       "    </tr>\n",
       "  </tbody>\n",
       "</table>\n",
       "</div>"
      ],
      "text/plain": [
       "  Country/Region     Cases   Deaths    PCases  PDeaths  Cases (+)  Deaths (+)  \\\n",
       "0             US  98503462  1078929  98392076  1077836     111386        1093   \n",
       "1          India  44671708   530601  44671300   530596        408           5   \n",
       "2         France  37690658   159551  37641319   159467      49339          84   \n",
       "3        Germany  36318461   157114  36280371   156951      38090         163   \n",
       "4         Brazil  35082036   689272  35052152   689155      29884         117   \n",
       "\n",
       "   Fatality Rate      Continent  \n",
       "0           1.10  North America  \n",
       "1           1.19           Asia  \n",
       "2           0.42         Europe  \n",
       "3           0.43         Europe  \n",
       "4           1.96  South America  "
      ]
     },
     "execution_count": 13,
     "metadata": {},
     "output_type": "execute_result"
    }
   ],
   "source": [
    "#hide\n",
    "for c in 'Cases, Deaths'.split(', '):\n",
    "    df_table[f'{c} (+)'] = (df_table[c] - df_table[f'P{c}']).clip(0)\n",
    "    #Clip ça veut dire, les chiffres negatif sont interdit\n",
    "df_table['Fatality Rate'] = (100* df_table['Deaths']/ df_table['Cases']).round(2)\n",
    "df_table['Continent'] = df_table['Country/Region'].map(mapping['map.continent'])\n",
    "df_table.head(5)"
   ]
  },
  {
   "cell_type": "code",
   "execution_count": 14,
   "id": "aboriginal-bulgaria",
   "metadata": {
    "execution": {
     "iopub.execute_input": "2022-11-24T12:17:55.784759Z",
     "iopub.status.busy": "2022-11-24T12:17:55.784175Z",
     "iopub.status.idle": "2022-11-24T12:17:55.785941Z",
     "shell.execute_reply": "2022-11-24T12:17:55.786357Z"
    },
    "papermill": {
     "duration": 0.036658,
     "end_time": "2022-11-24T12:17:55.786465",
     "exception": false,
     "start_time": "2022-11-24T12:17:55.749807",
     "status": "completed"
    },
    "tags": []
   },
   "outputs": [],
   "source": [
    "#hide\n",
    "#delete problematic countries from table\n",
    "df_table = df_table[~df_table['Country/Region'].isin(['Cape Verde', 'Cruise Ship', 'Kosovo'])]"
   ]
  },
  {
   "cell_type": "code",
   "execution_count": 15,
   "id": "fantastic-effect",
   "metadata": {
    "execution": {
     "iopub.execute_input": "2022-11-24T12:17:55.849023Z",
     "iopub.status.busy": "2022-11-24T12:17:55.848473Z",
     "iopub.status.idle": "2022-11-24T12:17:55.869465Z",
     "shell.execute_reply": "2022-11-24T12:17:55.868907Z"
    },
    "papermill": {
     "duration": 0.052934,
     "end_time": "2022-11-24T12:17:55.869565",
     "exception": false,
     "start_time": "2022-11-24T12:17:55.816631",
     "status": "completed"
    },
    "tags": []
   },
   "outputs": [
    {
     "data": {
      "text/html": [
       "<div>\n",
       "<style scoped>\n",
       "    .dataframe tbody tr th:only-of-type {\n",
       "        vertical-align: middle;\n",
       "    }\n",
       "\n",
       "    .dataframe tbody tr th {\n",
       "        vertical-align: top;\n",
       "    }\n",
       "\n",
       "    .dataframe thead th {\n",
       "        text-align: right;\n",
       "    }\n",
       "</style>\n",
       "<table border=\"1\" class=\"dataframe\">\n",
       "  <thead>\n",
       "    <tr style=\"text-align: right;\">\n",
       "      <th></th>\n",
       "      <th>Country/Region</th>\n",
       "      <th>Cases</th>\n",
       "      <th>Deaths</th>\n",
       "      <th>PCases</th>\n",
       "      <th>PDeaths</th>\n",
       "      <th>Cases (+)</th>\n",
       "      <th>Deaths (+)</th>\n",
       "      <th>Fatality Rate</th>\n",
       "      <th>Continent</th>\n",
       "    </tr>\n",
       "  </thead>\n",
       "  <tbody>\n",
       "    <tr>\n",
       "      <th>0</th>\n",
       "      <td>US</td>\n",
       "      <td>98503462</td>\n",
       "      <td>1078929</td>\n",
       "      <td>98392076</td>\n",
       "      <td>1077836</td>\n",
       "      <td>111386</td>\n",
       "      <td>1093</td>\n",
       "      <td>1.1</td>\n",
       "      <td>North America</td>\n",
       "    </tr>\n",
       "    <tr>\n",
       "      <th>1</th>\n",
       "      <td>India</td>\n",
       "      <td>44671708</td>\n",
       "      <td>530601</td>\n",
       "      <td>44671300</td>\n",
       "      <td>530596</td>\n",
       "      <td>408</td>\n",
       "      <td>5</td>\n",
       "      <td>1.2</td>\n",
       "      <td>Asia</td>\n",
       "    </tr>\n",
       "    <tr>\n",
       "      <th>2</th>\n",
       "      <td>France</td>\n",
       "      <td>37690658</td>\n",
       "      <td>159551</td>\n",
       "      <td>37641319</td>\n",
       "      <td>159467</td>\n",
       "      <td>49339</td>\n",
       "      <td>84</td>\n",
       "      <td>0.4</td>\n",
       "      <td>Europe</td>\n",
       "    </tr>\n",
       "    <tr>\n",
       "      <th>3</th>\n",
       "      <td>Germany</td>\n",
       "      <td>36318461</td>\n",
       "      <td>157114</td>\n",
       "      <td>36280371</td>\n",
       "      <td>156951</td>\n",
       "      <td>38090</td>\n",
       "      <td>163</td>\n",
       "      <td>0.4</td>\n",
       "      <td>Europe</td>\n",
       "    </tr>\n",
       "    <tr>\n",
       "      <th>4</th>\n",
       "      <td>Brazil</td>\n",
       "      <td>35082036</td>\n",
       "      <td>689272</td>\n",
       "      <td>35052152</td>\n",
       "      <td>689155</td>\n",
       "      <td>29884</td>\n",
       "      <td>117</td>\n",
       "      <td>2.0</td>\n",
       "      <td>South America</td>\n",
       "    </tr>\n",
       "  </tbody>\n",
       "</table>\n",
       "</div>"
      ],
      "text/plain": [
       "  Country/Region     Cases   Deaths    PCases  PDeaths  Cases (+)  Deaths (+)  \\\n",
       "0             US  98503462  1078929  98392076  1077836     111386        1093   \n",
       "1          India  44671708   530601  44671300   530596        408           5   \n",
       "2         France  37690658   159551  37641319   159467      49339          84   \n",
       "3        Germany  36318461   157114  36280371   156951      38090         163   \n",
       "4         Brazil  35082036   689272  35052152   689155      29884         117   \n",
       "\n",
       "   Fatality Rate      Continent  \n",
       "0            1.1  North America  \n",
       "1            1.2           Asia  \n",
       "2            0.4         Europe  \n",
       "3            0.4         Europe  \n",
       "4            2.0  South America  "
      ]
     },
     "execution_count": 15,
     "metadata": {},
     "output_type": "execute_result"
    }
   ],
   "source": [
    "#hide\n",
    "df_table = (pd.DataFrame(dict(Cases=dfc_cases, Deaths=dfc_deaths, PCases=dfp_cases, PDeaths=dfp_deaths))\n",
    "             .sort_values(by=['Cases', 'Deaths'], ascending=[False, False])\n",
    "             .reset_index())\n",
    "df_table.rename(columns={'index': 'Country/Region'}, inplace=True)\n",
    "for c in 'Cases, Deaths'.split(', '):\n",
    "    df_table[f'{c} (+)'] = (df_table[c] - df_table[f'P{c}']).clip(0)  # DATA BUG\n",
    "df_table['Fatality Rate'] = (100 * df_table['Deaths'] / df_table['Cases']).round(1)\n",
    "df_table['Continent'] = df_table['Country/Region'].map(mapping['map.continent'])\n",
    "df_table.head(5)"
   ]
  },
  {
   "cell_type": "code",
   "execution_count": 16,
   "id": "fewer-occasion",
   "metadata": {
    "execution": {
     "iopub.execute_input": "2022-11-24T12:17:55.935622Z",
     "iopub.status.busy": "2022-11-24T12:17:55.935040Z",
     "iopub.status.idle": "2022-11-24T12:17:55.937696Z",
     "shell.execute_reply": "2022-11-24T12:17:55.937254Z"
    },
    "papermill": {
     "duration": 0.037427,
     "end_time": "2022-11-24T12:17:55.937792",
     "exception": false,
     "start_time": "2022-11-24T12:17:55.900365",
     "status": "completed"
    },
    "tags": []
   },
   "outputs": [],
   "source": [
    "#hide\n",
    "#delete problematic countries from table\n",
    "df_table = df_table[~df_table['Country/Region'].isin(['Cape Verde', 'Cruise Ship', 'Kosovo'])]"
   ]
  },
  {
   "cell_type": "code",
   "execution_count": 17,
   "id": "related-center",
   "metadata": {
    "execution": {
     "iopub.execute_input": "2022-11-24T12:17:56.015142Z",
     "iopub.status.busy": "2022-11-24T12:17:56.014565Z",
     "iopub.status.idle": "2022-11-24T12:17:56.017013Z",
     "shell.execute_reply": "2022-11-24T12:17:56.016494Z"
    },
    "papermill": {
     "duration": 0.048886,
     "end_time": "2022-11-24T12:17:56.017116",
     "exception": false,
     "start_time": "2022-11-24T12:17:55.968230",
     "status": "completed"
    },
    "tags": []
   },
   "outputs": [],
   "source": [
    "#hide\n",
    "metrics = [df_table.columns[index] for index in [1,2,5,6]]\n",
    "# s_china = df_table[df_table['Country/Region'].eq('China')][metrics].sum().add_prefix('China ')\n",
    "s_us = df_table[df_table['Country/Region'].eq('US')][metrics].sum().add_prefix('US ')\n",
    "s_eu = df_table[df_table['Continent'].eq('Europe')][metrics].sum().add_prefix('EU ')\n",
    "s_ind = df_table[df_table['Country/Region'].eq('India')][metrics].sum().add_prefix('India ')\n",
    "summary = {'updated': pd.to_datetime(dt_today), 'since': pd.to_datetime(dt_yday)}\n",
    "summary = {'updated': pd.to_datetime(dt_today), 'since': pd.to_datetime(dt_yday)}\n",
    "summary = {**summary, **df_table[metrics].sum(), **s_ind, **s_us, **s_eu}"
   ]
  },
  {
   "cell_type": "code",
   "execution_count": 18,
   "id": "engaging-syndrome",
   "metadata": {
    "execution": {
     "iopub.execute_input": "2022-11-24T12:17:56.080857Z",
     "iopub.status.busy": "2022-11-24T12:17:56.080293Z",
     "iopub.status.idle": "2022-11-24T12:17:56.102846Z",
     "shell.execute_reply": "2022-11-24T12:17:56.102392Z"
    },
    "papermill": {
     "duration": 0.055306,
     "end_time": "2022-11-24T12:17:56.102945",
     "exception": false,
     "start_time": "2022-11-24T12:17:56.047639",
     "status": "completed"
    },
    "tags": []
   },
   "outputs": [],
   "source": [
    "#hide\n",
    "dft_ct_new_cases = dft_cases.groupby(COL_REGION)[dt_cols].sum().diff(axis=1).fillna(0).astype(int)"
   ]
  },
  {
   "cell_type": "code",
   "execution_count": 19,
   "id": "neutral-assignment",
   "metadata": {
    "execution": {
     "iopub.execute_input": "2022-11-24T12:17:56.169209Z",
     "iopub.status.busy": "2022-11-24T12:17:56.168645Z",
     "iopub.status.idle": "2022-11-24T12:17:56.172149Z",
     "shell.execute_reply": "2022-11-24T12:17:56.172567Z"
    },
    "papermill": {
     "duration": 0.039252,
     "end_time": "2022-11-24T12:17:56.172684",
     "exception": false,
     "start_time": "2022-11-24T12:17:56.133432",
     "status": "completed"
    },
    "tags": []
   },
   "outputs": [],
   "source": [
    "#hide\n",
    "everydaycases = dft_ct_new_cases.cumsum(axis=1)"
   ]
  },
  {
   "cell_type": "code",
   "execution_count": 20,
   "id": "parliamentary-calgary",
   "metadata": {
    "execution": {
     "iopub.execute_input": "2022-11-24T12:17:56.240362Z",
     "iopub.status.busy": "2022-11-24T12:17:56.237021Z",
     "iopub.status.idle": "2022-11-24T12:17:56.770007Z",
     "shell.execute_reply": "2022-11-24T12:17:56.769062Z"
    },
    "papermill": {
     "duration": 0.566908,
     "end_time": "2022-11-24T12:17:56.770126",
     "exception": false,
     "start_time": "2022-11-24T12:17:56.203218",
     "status": "completed"
    },
    "tags": []
   },
   "outputs": [],
   "source": [
    "#hide\n",
    "import pandas as pd\n",
    "import matplotlib.pyplot as plt\n",
    "import matplotlib.ticker as ticker\n",
    "import matplotlib.animation as animation\n",
    "from IPython.display import HTML"
   ]
  },
  {
   "cell_type": "code",
   "execution_count": 21,
   "id": "lasting-extraction",
   "metadata": {
    "execution": {
     "iopub.execute_input": "2022-11-24T12:17:56.837239Z",
     "iopub.status.busy": "2022-11-24T12:17:56.836671Z",
     "iopub.status.idle": "2022-11-24T12:17:56.844158Z",
     "shell.execute_reply": "2022-11-24T12:17:56.843725Z"
    },
    "papermill": {
     "duration": 0.043406,
     "end_time": "2022-11-24T12:17:56.844255",
     "exception": false,
     "start_time": "2022-11-24T12:17:56.800849",
     "status": "completed"
    },
    "tags": []
   },
   "outputs": [],
   "source": [
    "#hide\n",
    "t = everydaycases.stack()"
   ]
  },
  {
   "cell_type": "code",
   "execution_count": 22,
   "id": "premier-sleeve",
   "metadata": {
    "execution": {
     "iopub.execute_input": "2022-11-24T12:17:56.909040Z",
     "iopub.status.busy": "2022-11-24T12:17:56.908485Z",
     "iopub.status.idle": "2022-11-24T12:17:56.919517Z",
     "shell.execute_reply": "2022-11-24T12:17:56.919928Z"
    },
    "papermill": {
     "duration": 0.045182,
     "end_time": "2022-11-24T12:17:56.920040",
     "exception": false,
     "start_time": "2022-11-24T12:17:56.874858",
     "status": "completed"
    },
    "tags": []
   },
   "outputs": [],
   "source": [
    "#hide\n",
    "g = t.reset_index(['Country/Region'])"
   ]
  },
  {
   "cell_type": "code",
   "execution_count": 23,
   "id": "distributed-pittsburgh",
   "metadata": {
    "execution": {
     "iopub.execute_input": "2022-11-24T12:17:56.984363Z",
     "iopub.status.busy": "2022-11-24T12:17:56.983801Z",
     "iopub.status.idle": "2022-11-24T12:17:56.987649Z",
     "shell.execute_reply": "2022-11-24T12:17:56.987191Z"
    },
    "papermill": {
     "duration": 0.037337,
     "end_time": "2022-11-24T12:17:56.987746",
     "exception": false,
     "start_time": "2022-11-24T12:17:56.950409",
     "status": "completed"
    },
    "tags": []
   },
   "outputs": [],
   "source": [
    "#hide\n",
    "g.index.name = 'date'"
   ]
  },
  {
   "cell_type": "code",
   "execution_count": 24,
   "id": "naked-donor",
   "metadata": {
    "execution": {
     "iopub.execute_input": "2022-11-24T12:17:57.052360Z",
     "iopub.status.busy": "2022-11-24T12:17:57.051781Z",
     "iopub.status.idle": "2022-11-24T12:17:57.054029Z",
     "shell.execute_reply": "2022-11-24T12:17:57.053595Z"
    },
    "papermill": {
     "duration": 0.035705,
     "end_time": "2022-11-24T12:17:57.054125",
     "exception": false,
     "start_time": "2022-11-24T12:17:57.018420",
     "status": "completed"
    },
    "tags": []
   },
   "outputs": [],
   "source": [
    "# #hide\n",
    "# g = g.reset_index(['date'])"
   ]
  },
  {
   "cell_type": "code",
   "execution_count": 25,
   "id": "incomplete-mustang",
   "metadata": {
    "execution": {
     "iopub.execute_input": "2022-11-24T12:17:57.118820Z",
     "iopub.status.busy": "2022-11-24T12:17:57.118239Z",
     "iopub.status.idle": "2022-11-24T12:17:57.120903Z",
     "shell.execute_reply": "2022-11-24T12:17:57.120303Z"
    },
    "papermill": {
     "duration": 0.036268,
     "end_time": "2022-11-24T12:17:57.121003",
     "exception": false,
     "start_time": "2022-11-24T12:17:57.084735",
     "status": "completed"
    },
    "tags": []
   },
   "outputs": [],
   "source": [
    "#hide\n",
    "# g.head()"
   ]
  },
  {
   "cell_type": "code",
   "execution_count": 26,
   "id": "specific-kruger",
   "metadata": {
    "execution": {
     "iopub.execute_input": "2022-11-24T12:17:57.185887Z",
     "iopub.status.busy": "2022-11-24T12:17:57.185331Z",
     "iopub.status.idle": "2022-11-24T12:17:57.187386Z",
     "shell.execute_reply": "2022-11-24T12:17:57.186832Z"
    },
    "papermill": {
     "duration": 0.035332,
     "end_time": "2022-11-24T12:17:57.187484",
     "exception": false,
     "start_time": "2022-11-24T12:17:57.152152",
     "status": "completed"
    },
    "tags": []
   },
   "outputs": [],
   "source": [
    "#hide\n",
    "# g.columns = ['date','country','cases']"
   ]
  },
  {
   "cell_type": "code",
   "execution_count": 27,
   "id": "tender-conversion",
   "metadata": {
    "execution": {
     "iopub.execute_input": "2022-11-24T12:17:57.251578Z",
     "iopub.status.busy": "2022-11-24T12:17:57.250986Z",
     "iopub.status.idle": "2022-11-24T12:17:57.253220Z",
     "shell.execute_reply": "2022-11-24T12:17:57.252704Z"
    },
    "papermill": {
     "duration": 0.035342,
     "end_time": "2022-11-24T12:17:57.253315",
     "exception": false,
     "start_time": "2022-11-24T12:17:57.217973",
     "status": "completed"
    },
    "tags": []
   },
   "outputs": [],
   "source": [
    "#hide\n",
    "# g['continent'] = g.country"
   ]
  },
  {
   "cell_type": "code",
   "execution_count": 28,
   "id": "substantial-wilderness",
   "metadata": {
    "execution": {
     "iopub.execute_input": "2022-11-24T12:17:57.317634Z",
     "iopub.status.busy": "2022-11-24T12:17:57.317065Z",
     "iopub.status.idle": "2022-11-24T12:17:57.319523Z",
     "shell.execute_reply": "2022-11-24T12:17:57.318976Z"
    },
    "papermill": {
     "duration": 0.035668,
     "end_time": "2022-11-24T12:17:57.319619",
     "exception": false,
     "start_time": "2022-11-24T12:17:57.283951",
     "status": "completed"
    },
    "tags": []
   },
   "outputs": [],
   "source": [
    "#hide\n",
    "# cols = list(g.columns.values)"
   ]
  },
  {
   "cell_type": "code",
   "execution_count": 29,
   "id": "solved-farming",
   "metadata": {
    "execution": {
     "iopub.execute_input": "2022-11-24T12:17:57.384203Z",
     "iopub.status.busy": "2022-11-24T12:17:57.383637Z",
     "iopub.status.idle": "2022-11-24T12:17:57.386068Z",
     "shell.execute_reply": "2022-11-24T12:17:57.385537Z"
    },
    "papermill": {
     "duration": 0.035784,
     "end_time": "2022-11-24T12:17:57.386162",
     "exception": false,
     "start_time": "2022-11-24T12:17:57.350378",
     "status": "completed"
    },
    "tags": []
   },
   "outputs": [],
   "source": [
    "#hide\n",
    "# cols.insert(0, cols.pop())"
   ]
  },
  {
   "cell_type": "code",
   "execution_count": 30,
   "id": "executed-adoption",
   "metadata": {
    "execution": {
     "iopub.execute_input": "2022-11-24T12:17:57.450425Z",
     "iopub.status.busy": "2022-11-24T12:17:57.449854Z",
     "iopub.status.idle": "2022-11-24T12:17:57.452541Z",
     "shell.execute_reply": "2022-11-24T12:17:57.451716Z"
    },
    "papermill": {
     "duration": 0.035882,
     "end_time": "2022-11-24T12:17:57.452640",
     "exception": false,
     "start_time": "2022-11-24T12:17:57.416758",
     "status": "completed"
    },
    "tags": []
   },
   "outputs": [],
   "source": [
    "#hide\n",
    "# g = g[cols]"
   ]
  },
  {
   "cell_type": "code",
   "execution_count": 31,
   "id": "subject-dublin",
   "metadata": {
    "execution": {
     "iopub.execute_input": "2022-11-24T12:17:57.516839Z",
     "iopub.status.busy": "2022-11-24T12:17:57.516276Z",
     "iopub.status.idle": "2022-11-24T12:17:57.518692Z",
     "shell.execute_reply": "2022-11-24T12:17:57.518258Z"
    },
    "papermill": {
     "duration": 0.035559,
     "end_time": "2022-11-24T12:17:57.518785",
     "exception": false,
     "start_time": "2022-11-24T12:17:57.483226",
     "status": "completed"
    },
    "tags": []
   },
   "outputs": [],
   "source": [
    "#hide\n",
    "# g['continent'] = g['continent'].map(mapping['map.continent'])"
   ]
  },
  {
   "cell_type": "code",
   "execution_count": 32,
   "id": "freelance-scout",
   "metadata": {
    "execution": {
     "iopub.execute_input": "2022-11-24T12:17:57.584139Z",
     "iopub.status.busy": "2022-11-24T12:17:57.583572Z",
     "iopub.status.idle": "2022-11-24T12:17:57.585977Z",
     "shell.execute_reply": "2022-11-24T12:17:57.585446Z"
    },
    "papermill": {
     "duration": 0.035776,
     "end_time": "2022-11-24T12:17:57.586070",
     "exception": false,
     "start_time": "2022-11-24T12:17:57.550294",
     "status": "completed"
    },
    "tags": []
   },
   "outputs": [],
   "source": [
    "#hide\n",
    "# g.head()"
   ]
  },
  {
   "cell_type": "code",
   "execution_count": 33,
   "id": "limited-engine",
   "metadata": {
    "execution": {
     "iopub.execute_input": "2022-11-24T12:17:57.650123Z",
     "iopub.status.busy": "2022-11-24T12:17:57.649551Z",
     "iopub.status.idle": "2022-11-24T12:17:57.651712Z",
     "shell.execute_reply": "2022-11-24T12:17:57.652109Z"
    },
    "papermill": {
     "duration": 0.03574,
     "end_time": "2022-11-24T12:17:57.652220",
     "exception": false,
     "start_time": "2022-11-24T12:17:57.616480",
     "status": "completed"
    },
    "tags": []
   },
   "outputs": [],
   "source": [
    "# hide\n",
    "# g['date'] = g['date'].astype('datetime64[ns]')"
   ]
  },
  {
   "cell_type": "code",
   "execution_count": 34,
   "id": "sophisticated-supervisor",
   "metadata": {
    "execution": {
     "iopub.execute_input": "2022-11-24T12:17:57.716310Z",
     "iopub.status.busy": "2022-11-24T12:17:57.715745Z",
     "iopub.status.idle": "2022-11-24T12:17:57.717624Z",
     "shell.execute_reply": "2022-11-24T12:17:57.717114Z"
    },
    "papermill": {
     "duration": 0.03494,
     "end_time": "2022-11-24T12:17:57.717716",
     "exception": false,
     "start_time": "2022-11-24T12:17:57.682776",
     "status": "completed"
    },
    "tags": []
   },
   "outputs": [],
   "source": [
    "#hide\n",
    "# g['date'] = g.date.dt.dayofyear"
   ]
  },
  {
   "cell_type": "code",
   "execution_count": 35,
   "id": "inside-dubai",
   "metadata": {
    "execution": {
     "iopub.execute_input": "2022-11-24T12:17:57.782054Z",
     "iopub.status.busy": "2022-11-24T12:17:57.781486Z",
     "iopub.status.idle": "2022-11-24T12:17:57.783398Z",
     "shell.execute_reply": "2022-11-24T12:17:57.782862Z"
    },
    "papermill": {
     "duration": 0.035303,
     "end_time": "2022-11-24T12:17:57.783493",
     "exception": false,
     "start_time": "2022-11-24T12:17:57.748190",
     "status": "completed"
    },
    "tags": []
   },
   "outputs": [],
   "source": [
    "#hide\n",
    "# g = g.rename(columns= {'continent':'group','country':'name','cases':'value'})"
   ]
  },
  {
   "cell_type": "code",
   "execution_count": 36,
   "id": "fleet-motorcycle",
   "metadata": {
    "execution": {
     "iopub.execute_input": "2022-11-24T12:17:57.847478Z",
     "iopub.status.busy": "2022-11-24T12:17:57.846891Z",
     "iopub.status.idle": "2022-11-24T12:17:57.849155Z",
     "shell.execute_reply": "2022-11-24T12:17:57.848726Z"
    },
    "papermill": {
     "duration": 0.035252,
     "end_time": "2022-11-24T12:17:57.849246",
     "exception": false,
     "start_time": "2022-11-24T12:17:57.813994",
     "status": "completed"
    },
    "tags": []
   },
   "outputs": [],
   "source": [
    "#hide\n",
    "# cols = ['name','group','day','value']"
   ]
  },
  {
   "cell_type": "code",
   "execution_count": 37,
   "id": "continued-sleeping",
   "metadata": {
    "execution": {
     "iopub.execute_input": "2022-11-24T12:17:57.913213Z",
     "iopub.status.busy": "2022-11-24T12:17:57.912645Z",
     "iopub.status.idle": "2022-11-24T12:17:57.914711Z",
     "shell.execute_reply": "2022-11-24T12:17:57.915121Z"
    },
    "papermill": {
     "duration": 0.035519,
     "end_time": "2022-11-24T12:17:57.915233",
     "exception": false,
     "start_time": "2022-11-24T12:17:57.879714",
     "status": "completed"
    },
    "tags": []
   },
   "outputs": [],
   "source": [
    "#hide\n",
    "# g.rename(columns= {'date':'day'},inplace = True)"
   ]
  },
  {
   "cell_type": "code",
   "execution_count": 38,
   "id": "major-fight",
   "metadata": {
    "execution": {
     "iopub.execute_input": "2022-11-24T12:17:57.979183Z",
     "iopub.status.busy": "2022-11-24T12:17:57.978596Z",
     "iopub.status.idle": "2022-11-24T12:17:57.980498Z",
     "shell.execute_reply": "2022-11-24T12:17:57.979993Z"
    },
    "papermill": {
     "duration": 0.034769,
     "end_time": "2022-11-24T12:17:57.980589",
     "exception": false,
     "start_time": "2022-11-24T12:17:57.945820",
     "status": "completed"
    },
    "tags": []
   },
   "outputs": [],
   "source": [
    "#hide\n",
    "# g = g[cols]"
   ]
  },
  {
   "cell_type": "code",
   "execution_count": 39,
   "id": "structured-mobile",
   "metadata": {
    "execution": {
     "iopub.execute_input": "2022-11-24T12:17:58.044541Z",
     "iopub.status.busy": "2022-11-24T12:17:58.043992Z",
     "iopub.status.idle": "2022-11-24T12:17:58.045896Z",
     "shell.execute_reply": "2022-11-24T12:17:58.045387Z"
    },
    "papermill": {
     "duration": 0.03499,
     "end_time": "2022-11-24T12:17:58.045987",
     "exception": false,
     "start_time": "2022-11-24T12:17:58.010997",
     "status": "completed"
    },
    "tags": []
   },
   "outputs": [],
   "source": [
    "# #hide\n",
    "# g = g[g.group.notna()]"
   ]
  },
  {
   "cell_type": "code",
   "execution_count": 40,
   "id": "determined-closing",
   "metadata": {
    "execution": {
     "iopub.execute_input": "2022-11-24T12:17:58.110565Z",
     "iopub.status.busy": "2022-11-24T12:17:58.109995Z",
     "iopub.status.idle": "2022-11-24T12:17:58.112624Z",
     "shell.execute_reply": "2022-11-24T12:17:58.111916Z"
    },
    "papermill": {
     "duration": 0.036032,
     "end_time": "2022-11-24T12:17:58.112720",
     "exception": false,
     "start_time": "2022-11-24T12:17:58.076688",
     "status": "completed"
    },
    "tags": []
   },
   "outputs": [],
   "source": [
    "# #hide\n",
    "# colors = dict(zip(\n",
    "#     [\"Oceania\", \"Europe\", \"Asia\", \"South America\", \"Middle East\", \"North America\", \"Africa\"],\n",
    "#     [\"#adb0ff\", \"#ffb3ff\", \"#90d595\", \"#e48381\", \"#aafbff\", \"#f7bb5f\", \"#eafb50\"]\n",
    "# ))\n",
    "# group_lk = g.set_index('name')['group'].to_dict()"
   ]
  },
  {
   "cell_type": "code",
   "execution_count": null,
   "id": "gross-drinking",
   "metadata": {
    "papermill": {
     "duration": 0.030506,
     "end_time": "2022-11-24T12:17:58.173760",
     "exception": false,
     "start_time": "2022-11-24T12:17:58.143254",
     "status": "completed"
    },
    "tags": []
   },
   "outputs": [],
   "source": []
  },
  {
   "cell_type": "code",
   "execution_count": 41,
   "id": "subject-macintosh",
   "metadata": {
    "execution": {
     "iopub.execute_input": "2022-11-24T12:17:58.239037Z",
     "iopub.status.busy": "2022-11-24T12:17:58.238451Z",
     "iopub.status.idle": "2022-11-24T12:17:58.240800Z",
     "shell.execute_reply": "2022-11-24T12:17:58.240363Z"
    },
    "papermill": {
     "duration": 0.036482,
     "end_time": "2022-11-24T12:17:58.240894",
     "exception": false,
     "start_time": "2022-11-24T12:17:58.204412",
     "status": "completed"
    },
    "tags": []
   },
   "outputs": [],
   "source": [
    "# #hide\n",
    "# fig, ax = plt.subplots(figsize=(15, 8))\n",
    "\n",
    "# def draw_barchart(current_day):\n",
    "#     dff = g[g['day'].eq(current_day)].sort_values(by='value', ascending=True).tail(10)\n",
    "#     ax.clear()\n",
    "#     ax.barh(dff['name'], dff['value'], color=[colors[group_lk[x]] for x in dff['name']])\n",
    "#     dx = dff['value'].max() / 200\n",
    "    \n",
    "#     for i, (value, name) in enumerate(zip(dff['value'], dff['name'])):\n",
    "#         ax.text(value-dx, i,     name,           size=14, weight=600, ha='right', va='bottom')\n",
    "#         ax.text(value-dx, i-.25, group_lk[name], size=10, color='#444444', ha='right', va='baseline')\n",
    "#         ax.text(value+dx, i,     f'{value:,.0f}',  size=14, ha='left',  va='center')\n",
    "#     ax.text(1, 0.4, current_day, transform=ax.transAxes, color='#777777', size=46, ha='right', weight=800)\n",
    "#     ax.text(0, 1.06, 'Population (thousands)', transform=ax.transAxes, size=12, color='#777777')\n",
    "#     ax.xaxis.set_major_formatter(ticker.StrMethodFormatter('{x:,.0f}'))\n",
    "#     ax.xaxis.set_ticks_position('top')\n",
    "#     ax.tick_params(axis='x', colors='#777777', labelsize=12)\n",
    "#     ax.set_yticks([])\n",
    "#     ax.margins(0, 0.01)\n",
    "#     ax.grid(which='major', axis='x', linestyle='-')\n",
    "#     ax.set_axisbelow(True)\n",
    "    \n",
    "#     ax.text(0, 1.15, 'Coronavirus',\n",
    "#             transform=ax.transAxes, size=24, weight=600, ha='left', va='top')\n",
    "# #     ax.text(1, 0, 'by @pratapvardhan; credit @jburnmurdoch', transform=ax.transAxes, color='#777777', ha='right',\n",
    "# #             bbox=dict(facecolor='white', alpha=0.8, edgecolor='white'))\n",
    "#     plt.box(False)"
   ]
  },
  {
   "cell_type": "code",
   "execution_count": 42,
   "id": "sexual-wages",
   "metadata": {
    "execution": {
     "iopub.execute_input": "2022-11-24T12:17:58.305257Z",
     "iopub.status.busy": "2022-11-24T12:17:58.304703Z",
     "iopub.status.idle": "2022-11-24T12:17:58.307057Z",
     "shell.execute_reply": "2022-11-24T12:17:58.306627Z"
    },
    "papermill": {
     "duration": 0.035625,
     "end_time": "2022-11-24T12:17:58.307168",
     "exception": false,
     "start_time": "2022-11-24T12:17:58.271543",
     "status": "completed"
    },
    "tags": []
   },
   "outputs": [],
   "source": [
    "# #hide_input\n",
    "# fig, ax = plt.subplots(figsize=(15, 8))\n",
    "# animator = animation.FuncAnimation(fig, draw_barchart, frames=range(g.day.values.min(), g.day.values.max()))\n",
    "# HTML(animator.to_jshtml())\n",
    "# # or use animator.to_html5_video() or animator.save() "
   ]
  },
  {
   "cell_type": "code",
   "execution_count": null,
   "id": "australian-container",
   "metadata": {
    "papermill": {
     "duration": 0.03054,
     "end_time": "2022-11-24T12:17:58.368654",
     "exception": false,
     "start_time": "2022-11-24T12:17:58.338114",
     "status": "completed"
    },
    "tags": []
   },
   "outputs": [],
   "source": []
  },
  {
   "cell_type": "code",
   "execution_count": null,
   "id": "mediterranean-pontiac",
   "metadata": {
    "papermill": {
     "duration": 0.030537,
     "end_time": "2022-11-24T12:17:58.429714",
     "exception": false,
     "start_time": "2022-11-24T12:17:58.399177",
     "status": "completed"
    },
    "tags": []
   },
   "outputs": [],
   "source": []
  },
  {
   "cell_type": "code",
   "execution_count": null,
   "id": "aging-legislature",
   "metadata": {
    "papermill": {
     "duration": 0.030426,
     "end_time": "2022-11-24T12:17:58.490784",
     "exception": false,
     "start_time": "2022-11-24T12:17:58.460358",
     "status": "completed"
    },
    "tags": []
   },
   "outputs": [],
   "source": []
  }
 ],
 "metadata": {
  "kernelspec": {
   "display_name": "Python 3",
   "language": "python",
   "name": "python3"
  },
  "language_info": {
   "codemirror_mode": {
    "name": "ipython",
    "version": 3
   },
   "file_extension": ".py",
   "mimetype": "text/x-python",
   "name": "python",
   "nbconvert_exporter": "python",
   "pygments_lexer": "ipython3",
   "version": "3.6.15"
  },
  "papermill": {
   "duration": 5.793488,
   "end_time": "2022-11-24T12:17:58.838527",
   "environment_variables": {},
   "exception": null,
   "input_path": "2020-03-21-covid19exp.ipynb",
   "output_path": "2020-03-21-covid19exp.ipynb",
   "parameters": {},
   "start_time": "2022-11-24T12:17:53.045039",
   "version": "2.0.0"
  }
 },
 "nbformat": 4,
 "nbformat_minor": 5
}