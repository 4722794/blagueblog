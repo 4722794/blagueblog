{
 "cells": [
  {
   "cell_type": "markdown",
   "id": "muslim-click",
   "metadata": {
    "papermill": {
     "duration": 0.033952,
     "end_time": "2022-05-21T12:15:06.938149",
     "exception": false,
     "start_time": "2022-05-21T12:15:06.904197",
     "status": "completed"
    },
    "tags": []
   },
   "source": [
    "# COVID-19 Case Race\n",
    "> A race chart to see rising cases around the world\n",
    "\n",
    "- author: Hargun Oberoi\n",
    "- image: images/covid-overview.png\n",
    "- hide: false\n",
    "- badges: false"
   ]
  },
  {
   "cell_type": "code",
   "execution_count": 1,
   "id": "proof-material",
   "metadata": {
    "execution": {
     "iopub.execute_input": "2022-05-21T12:15:07.012914Z",
     "iopub.status.busy": "2022-05-21T12:15:07.012296Z",
     "iopub.status.idle": "2022-05-21T12:15:07.332346Z",
     "shell.execute_reply": "2022-05-21T12:15:07.331813Z"
    },
    "papermill": {
     "duration": 0.362888,
     "end_time": "2022-05-21T12:15:07.332489",
     "exception": false,
     "start_time": "2022-05-21T12:15:06.969601",
     "status": "completed"
    },
    "tags": []
   },
   "outputs": [],
   "source": [
    "#hide\n",
    "import numpy as np\n",
    "import pandas as pd\n",
    "from jinja2 import Template\n",
    "from IPython.display import HTML"
   ]
  },
  {
   "cell_type": "code",
   "execution_count": 2,
   "id": "developed-terminology",
   "metadata": {
    "execution": {
     "iopub.execute_input": "2022-05-21T12:15:07.397287Z",
     "iopub.status.busy": "2022-05-21T12:15:07.396572Z",
     "iopub.status.idle": "2022-05-21T12:15:07.398309Z",
     "shell.execute_reply": "2022-05-21T12:15:07.398854Z"
    },
    "papermill": {
     "duration": 0.036862,
     "end_time": "2022-05-21T12:15:07.398997",
     "exception": false,
     "start_time": "2022-05-21T12:15:07.362135",
     "status": "completed"
    },
    "tags": []
   },
   "outputs": [],
   "source": [
    "#hide\n",
    "\n",
    "# FETCH\n",
    "base_url = 'https://raw.githubusercontent.com/pratapvardhan/notebooks/master/covid19/'\n",
    "paths = {\n",
    "    'mapping': base_url + 'mapping_countries.csv',\n",
    "    'overview': base_url + 'overview.tpl'\n",
    "}"
   ]
  },
  {
   "cell_type": "code",
   "execution_count": 3,
   "id": "dynamic-saver",
   "metadata": {
    "execution": {
     "iopub.execute_input": "2022-05-21T12:15:07.467532Z",
     "iopub.status.busy": "2022-05-21T12:15:07.466941Z",
     "iopub.status.idle": "2022-05-21T12:15:07.470094Z",
     "shell.execute_reply": "2022-05-21T12:15:07.470576Z"
    },
    "papermill": {
     "duration": 0.042339,
     "end_time": "2022-05-21T12:15:07.470707",
     "exception": false,
     "start_time": "2022-05-21T12:15:07.428368",
     "status": "completed"
    },
    "tags": []
   },
   "outputs": [
    {
     "data": {
      "text/plain": [
       "'https://raw.githubusercontent.com/pratapvardhan/notebooks/master/covid19/mapping_countries.csv'"
      ]
     },
     "execution_count": 3,
     "metadata": {},
     "output_type": "execute_result"
    }
   ],
   "source": [
    "#hide\n",
    "paths['mapping']"
   ]
  },
  {
   "cell_type": "code",
   "execution_count": 4,
   "id": "urban-software",
   "metadata": {
    "execution": {
     "iopub.execute_input": "2022-05-21T12:15:07.535911Z",
     "iopub.status.busy": "2022-05-21T12:15:07.535325Z",
     "iopub.status.idle": "2022-05-21T12:15:07.537121Z",
     "shell.execute_reply": "2022-05-21T12:15:07.537666Z"
    },
    "papermill": {
     "duration": 0.037357,
     "end_time": "2022-05-21T12:15:07.537801",
     "exception": false,
     "start_time": "2022-05-21T12:15:07.500444",
     "status": "completed"
    },
    "tags": []
   },
   "outputs": [],
   "source": [
    "#hide\n",
    "def get_mappings(url):\n",
    "    df = pd.read_csv(url)\n",
    "    return {\n",
    "        'df': df,\n",
    "        'replace.country': dict(df.dropna(subset=['Name']).set_index('Country')['Name']),\n",
    "        'map.continent': dict(df.set_index('Name')['Continent'])\n",
    "    }"
   ]
  },
  {
   "cell_type": "code",
   "execution_count": 5,
   "id": "intimate-machinery",
   "metadata": {
    "execution": {
     "iopub.execute_input": "2022-05-21T12:15:07.603247Z",
     "iopub.status.busy": "2022-05-21T12:15:07.602649Z",
     "iopub.status.idle": "2022-05-21T12:15:07.652617Z",
     "shell.execute_reply": "2022-05-21T12:15:07.653164Z"
    },
    "papermill": {
     "duration": 0.085752,
     "end_time": "2022-05-21T12:15:07.653318",
     "exception": false,
     "start_time": "2022-05-21T12:15:07.567566",
     "status": "completed"
    },
    "tags": []
   },
   "outputs": [],
   "source": [
    "#hide\n",
    "mapping = get_mappings(paths['mapping'])"
   ]
  },
  {
   "cell_type": "code",
   "execution_count": 6,
   "id": "certified-tactics",
   "metadata": {
    "execution": {
     "iopub.execute_input": "2022-05-21T12:15:07.719739Z",
     "iopub.status.busy": "2022-05-21T12:15:07.719126Z",
     "iopub.status.idle": "2022-05-21T12:15:07.721931Z",
     "shell.execute_reply": "2022-05-21T12:15:07.721446Z"
    },
    "papermill": {
     "duration": 0.038451,
     "end_time": "2022-05-21T12:15:07.722071",
     "exception": false,
     "start_time": "2022-05-21T12:15:07.683620",
     "status": "completed"
    },
    "tags": []
   },
   "outputs": [],
   "source": [
    "#hide\n",
    "def get_template(path):\n",
    "    from urllib.parse import urlparse\n",
    "    if bool(urlparse(path).netloc):\n",
    "        from urllib.request import urlopen\n",
    "        return urlopen(path).read().decode('utf8')\n",
    "    return open(path).read()"
   ]
  },
  {
   "cell_type": "code",
   "execution_count": 7,
   "id": "realistic-blast",
   "metadata": {
    "execution": {
     "iopub.execute_input": "2022-05-21T12:15:07.786448Z",
     "iopub.status.busy": "2022-05-21T12:15:07.785826Z",
     "iopub.status.idle": "2022-05-21T12:15:07.788783Z",
     "shell.execute_reply": "2022-05-21T12:15:07.788312Z"
    },
    "papermill": {
     "duration": 0.03728,
     "end_time": "2022-05-21T12:15:07.788893",
     "exception": false,
     "start_time": "2022-05-21T12:15:07.751613",
     "status": "completed"
    },
    "tags": []
   },
   "outputs": [],
   "source": [
    "#hide\n",
    "def get_frame(name):\n",
    "    url = (\n",
    "        'https://raw.githubusercontent.com/CSSEGISandData/COVID-19/master/csse_covid_19_data/'\n",
    "        f'csse_covid_19_time_series/time_series_covid19_{name}_global.csv')\n",
    "    df = pd.read_csv(url)\n",
    "    # rename countries\n",
    "    df['Country/Region'] = df['Country/Region'].replace(mapping['replace.country'])\n",
    "    return df"
   ]
  },
  {
   "cell_type": "code",
   "execution_count": 8,
   "id": "affiliated-characterization",
   "metadata": {
    "execution": {
     "iopub.execute_input": "2022-05-21T12:15:07.855258Z",
     "iopub.status.busy": "2022-05-21T12:15:07.854541Z",
     "iopub.status.idle": "2022-05-21T12:15:07.856242Z",
     "shell.execute_reply": "2022-05-21T12:15:07.856786Z"
    },
    "papermill": {
     "duration": 0.038174,
     "end_time": "2022-05-21T12:15:07.856937",
     "exception": false,
     "start_time": "2022-05-21T12:15:07.818763",
     "status": "completed"
    },
    "tags": []
   },
   "outputs": [],
   "source": [
    "#hide\n",
    "def get_dates(df):\n",
    "    dt_cols = df.columns[~df.columns.isin(['Province/State', 'Country/Region', 'Lat', 'Long'])]\n",
    "    LAST_DATE_I = -1\n",
    "    # sometimes last column may be empty, then go backwards\n",
    "    for i in range(-1, -len(dt_cols), -1):\n",
    "        if not df[dt_cols[i]].fillna(0).eq(0).all():\n",
    "            LAST_DATE_I = i\n",
    "            break\n",
    "    return LAST_DATE_I, dt_cols"
   ]
  },
  {
   "cell_type": "code",
   "execution_count": 9,
   "id": "recent-optimization",
   "metadata": {
    "execution": {
     "iopub.execute_input": "2022-05-21T12:15:07.922211Z",
     "iopub.status.busy": "2022-05-21T12:15:07.921572Z",
     "iopub.status.idle": "2022-05-21T12:15:08.392299Z",
     "shell.execute_reply": "2022-05-21T12:15:08.391674Z"
    },
    "papermill": {
     "duration": 0.505164,
     "end_time": "2022-05-21T12:15:08.392435",
     "exception": false,
     "start_time": "2022-05-21T12:15:07.887271",
     "status": "completed"
    },
    "tags": []
   },
   "outputs": [],
   "source": [
    "#hide\n",
    "COL_REGION = 'Country/Region'\n",
    "# Confirmed, Recovered, Deaths\n",
    "df = get_frame('confirmed')\n",
    "# dft_: timeseries, dfc_: today country agg\n",
    "dft_cases = df\n",
    "dft_deaths = get_frame('deaths')\n",
    "dft_recovered = get_frame('recovered')\n",
    "LAST_DATE_I, dt_cols = get_dates(df)"
   ]
  },
  {
   "cell_type": "code",
   "execution_count": 10,
   "id": "absolute-copper",
   "metadata": {
    "execution": {
     "iopub.execute_input": "2022-05-21T12:15:08.459345Z",
     "iopub.status.busy": "2022-05-21T12:15:08.458640Z",
     "iopub.status.idle": "2022-05-21T12:15:08.461227Z",
     "shell.execute_reply": "2022-05-21T12:15:08.460734Z"
    },
    "papermill": {
     "duration": 0.038052,
     "end_time": "2022-05-21T12:15:08.461330",
     "exception": false,
     "start_time": "2022-05-21T12:15:08.423278",
     "status": "completed"
    },
    "tags": []
   },
   "outputs": [],
   "source": [
    "#hide\n",
    "LAST_DATE_I, dt_cols = get_dates(df)\n",
    "dt_today =dt_cols[LAST_DATE_I]\n",
    "# dt_5day = dt_cols[LAST_DATE_I - 5]\n",
    "dt_yday = dt_cols[LAST_DATE_I - 1]"
   ]
  },
  {
   "cell_type": "code",
   "execution_count": 11,
   "id": "restricted-sheriff",
   "metadata": {
    "execution": {
     "iopub.execute_input": "2022-05-21T12:15:08.522947Z",
     "iopub.status.busy": "2022-05-21T12:15:08.522390Z",
     "iopub.status.idle": "2022-05-21T12:15:08.527436Z",
     "shell.execute_reply": "2022-05-21T12:15:08.527008Z"
    },
    "papermill": {
     "duration": 0.039987,
     "end_time": "2022-05-21T12:15:08.527539",
     "exception": false,
     "start_time": "2022-05-21T12:15:08.487552",
     "status": "completed"
    },
    "tags": []
   },
   "outputs": [],
   "source": [
    "#hide\n",
    "dfc_cases = dft_cases.groupby(COL_REGION)[dt_today].sum()\n",
    "dfc_deaths = dft_deaths.groupby(COL_REGION)[dt_today].sum()\n",
    "# dfp_cases = dft_cases.groupby(COL_REGION)[dt_5day].sum()\n",
    "# dfp_deaths = dft_deaths.groupby(COL_REGION)[dt_5day].sum()\n",
    "dfp_cases = dft_cases.groupby(COL_REGION)[dt_yday].sum()\n",
    "dfp_deaths = dft_deaths.groupby(COL_REGION)[dt_yday].sum()"
   ]
  },
  {
   "cell_type": "code",
   "execution_count": 12,
   "id": "deluxe-hepatitis",
   "metadata": {
    "execution": {
     "iopub.execute_input": "2022-05-21T12:15:08.586103Z",
     "iopub.status.busy": "2022-05-21T12:15:08.585559Z",
     "iopub.status.idle": "2022-05-21T12:15:08.589794Z",
     "shell.execute_reply": "2022-05-21T12:15:08.590334Z"
    },
    "papermill": {
     "duration": 0.036753,
     "end_time": "2022-05-21T12:15:08.590458",
     "exception": false,
     "start_time": "2022-05-21T12:15:08.553705",
     "status": "completed"
    },
    "tags": []
   },
   "outputs": [],
   "source": [
    "#hide\n",
    "df_table = (pd.DataFrame(dict(Cases = dfc_cases, Deaths = dfc_deaths, PCases = dfp_cases, PDeaths = dfp_deaths))\n",
    "            .sort_values(by = ['Cases','Deaths'], ascending = [False, False])\n",
    "            .reset_index())"
   ]
  },
  {
   "cell_type": "code",
   "execution_count": 13,
   "id": "educational-chancellor",
   "metadata": {
    "execution": {
     "iopub.execute_input": "2022-05-21T12:15:08.661532Z",
     "iopub.status.busy": "2022-05-21T12:15:08.645966Z",
     "iopub.status.idle": "2022-05-21T12:15:08.671172Z",
     "shell.execute_reply": "2022-05-21T12:15:08.670669Z"
    },
    "papermill": {
     "duration": 0.054587,
     "end_time": "2022-05-21T12:15:08.671290",
     "exception": false,
     "start_time": "2022-05-21T12:15:08.616703",
     "status": "completed"
    },
    "tags": []
   },
   "outputs": [
    {
     "data": {
      "text/html": [
       "<div>\n",
       "<style scoped>\n",
       "    .dataframe tbody tr th:only-of-type {\n",
       "        vertical-align: middle;\n",
       "    }\n",
       "\n",
       "    .dataframe tbody tr th {\n",
       "        vertical-align: top;\n",
       "    }\n",
       "\n",
       "    .dataframe thead th {\n",
       "        text-align: right;\n",
       "    }\n",
       "</style>\n",
       "<table border=\"1\" class=\"dataframe\">\n",
       "  <thead>\n",
       "    <tr style=\"text-align: right;\">\n",
       "      <th></th>\n",
       "      <th>Country/Region</th>\n",
       "      <th>Cases</th>\n",
       "      <th>Deaths</th>\n",
       "      <th>PCases</th>\n",
       "      <th>PDeaths</th>\n",
       "      <th>Cases (+)</th>\n",
       "      <th>Deaths (+)</th>\n",
       "      <th>Fatality Rate</th>\n",
       "      <th>Continent</th>\n",
       "    </tr>\n",
       "  </thead>\n",
       "  <tbody>\n",
       "    <tr>\n",
       "      <th>0</th>\n",
       "      <td>US</td>\n",
       "      <td>83237592</td>\n",
       "      <td>1002020</td>\n",
       "      <td>83060959</td>\n",
       "      <td>1001606</td>\n",
       "      <td>176633</td>\n",
       "      <td>414</td>\n",
       "      <td>1.20</td>\n",
       "      <td>North America</td>\n",
       "    </tr>\n",
       "    <tr>\n",
       "      <th>1</th>\n",
       "      <td>India</td>\n",
       "      <td>43134145</td>\n",
       "      <td>524348</td>\n",
       "      <td>43131822</td>\n",
       "      <td>524323</td>\n",
       "      <td>2323</td>\n",
       "      <td>25</td>\n",
       "      <td>1.22</td>\n",
       "      <td>Asia</td>\n",
       "    </tr>\n",
       "    <tr>\n",
       "      <th>2</th>\n",
       "      <td>Brazil</td>\n",
       "      <td>30762413</td>\n",
       "      <td>665722</td>\n",
       "      <td>30701900</td>\n",
       "      <td>665216</td>\n",
       "      <td>60513</td>\n",
       "      <td>506</td>\n",
       "      <td>2.16</td>\n",
       "      <td>South America</td>\n",
       "    </tr>\n",
       "    <tr>\n",
       "      <th>3</th>\n",
       "      <td>France</td>\n",
       "      <td>29541498</td>\n",
       "      <td>148818</td>\n",
       "      <td>29517146</td>\n",
       "      <td>148753</td>\n",
       "      <td>24352</td>\n",
       "      <td>65</td>\n",
       "      <td>0.50</td>\n",
       "      <td>Europe</td>\n",
       "    </tr>\n",
       "    <tr>\n",
       "      <th>4</th>\n",
       "      <td>Germany</td>\n",
       "      <td>26040460</td>\n",
       "      <td>138324</td>\n",
       "      <td>25998085</td>\n",
       "      <td>138204</td>\n",
       "      <td>42375</td>\n",
       "      <td>120</td>\n",
       "      <td>0.53</td>\n",
       "      <td>Europe</td>\n",
       "    </tr>\n",
       "  </tbody>\n",
       "</table>\n",
       "</div>"
      ],
      "text/plain": [
       "  Country/Region     Cases   Deaths    PCases  PDeaths  Cases (+)  Deaths (+)  \\\n",
       "0             US  83237592  1002020  83060959  1001606     176633         414   \n",
       "1          India  43134145   524348  43131822   524323       2323          25   \n",
       "2         Brazil  30762413   665722  30701900   665216      60513         506   \n",
       "3         France  29541498   148818  29517146   148753      24352          65   \n",
       "4        Germany  26040460   138324  25998085   138204      42375         120   \n",
       "\n",
       "   Fatality Rate      Continent  \n",
       "0           1.20  North America  \n",
       "1           1.22           Asia  \n",
       "2           2.16  South America  \n",
       "3           0.50         Europe  \n",
       "4           0.53         Europe  "
      ]
     },
     "execution_count": 13,
     "metadata": {},
     "output_type": "execute_result"
    }
   ],
   "source": [
    "#hide\n",
    "for c in 'Cases, Deaths'.split(', '):\n",
    "    df_table[f'{c} (+)'] = (df_table[c] - df_table[f'P{c}']).clip(0)\n",
    "    #Clip ça veut dire, les chiffres negatif sont interdit\n",
    "df_table['Fatality Rate'] = (100* df_table['Deaths']/ df_table['Cases']).round(2)\n",
    "df_table['Continent'] = df_table['Country/Region'].map(mapping['map.continent'])\n",
    "df_table.head(5)"
   ]
  },
  {
   "cell_type": "code",
   "execution_count": 14,
   "id": "aboriginal-bulgaria",
   "metadata": {
    "execution": {
     "iopub.execute_input": "2022-05-21T12:15:08.732037Z",
     "iopub.status.busy": "2022-05-21T12:15:08.731462Z",
     "iopub.status.idle": "2022-05-21T12:15:08.734696Z",
     "shell.execute_reply": "2022-05-21T12:15:08.734224Z"
    },
    "papermill": {
     "duration": 0.035669,
     "end_time": "2022-05-21T12:15:08.734804",
     "exception": false,
     "start_time": "2022-05-21T12:15:08.699135",
     "status": "completed"
    },
    "tags": []
   },
   "outputs": [],
   "source": [
    "#hide\n",
    "#delete problematic countries from table\n",
    "df_table = df_table[~df_table['Country/Region'].isin(['Cape Verde', 'Cruise Ship', 'Kosovo'])]"
   ]
  },
  {
   "cell_type": "code",
   "execution_count": 15,
   "id": "fantastic-effect",
   "metadata": {
    "execution": {
     "iopub.execute_input": "2022-05-21T12:15:08.796697Z",
     "iopub.status.busy": "2022-05-21T12:15:08.796169Z",
     "iopub.status.idle": "2022-05-21T12:15:08.814316Z",
     "shell.execute_reply": "2022-05-21T12:15:08.813668Z"
    },
    "papermill": {
     "duration": 0.052819,
     "end_time": "2022-05-21T12:15:08.814445",
     "exception": false,
     "start_time": "2022-05-21T12:15:08.761626",
     "status": "completed"
    },
    "tags": []
   },
   "outputs": [
    {
     "data": {
      "text/html": [
       "<div>\n",
       "<style scoped>\n",
       "    .dataframe tbody tr th:only-of-type {\n",
       "        vertical-align: middle;\n",
       "    }\n",
       "\n",
       "    .dataframe tbody tr th {\n",
       "        vertical-align: top;\n",
       "    }\n",
       "\n",
       "    .dataframe thead th {\n",
       "        text-align: right;\n",
       "    }\n",
       "</style>\n",
       "<table border=\"1\" class=\"dataframe\">\n",
       "  <thead>\n",
       "    <tr style=\"text-align: right;\">\n",
       "      <th></th>\n",
       "      <th>Country/Region</th>\n",
       "      <th>Cases</th>\n",
       "      <th>Deaths</th>\n",
       "      <th>PCases</th>\n",
       "      <th>PDeaths</th>\n",
       "      <th>Cases (+)</th>\n",
       "      <th>Deaths (+)</th>\n",
       "      <th>Fatality Rate</th>\n",
       "      <th>Continent</th>\n",
       "    </tr>\n",
       "  </thead>\n",
       "  <tbody>\n",
       "    <tr>\n",
       "      <th>0</th>\n",
       "      <td>US</td>\n",
       "      <td>83237592</td>\n",
       "      <td>1002020</td>\n",
       "      <td>83060959</td>\n",
       "      <td>1001606</td>\n",
       "      <td>176633</td>\n",
       "      <td>414</td>\n",
       "      <td>1.2</td>\n",
       "      <td>North America</td>\n",
       "    </tr>\n",
       "    <tr>\n",
       "      <th>1</th>\n",
       "      <td>India</td>\n",
       "      <td>43134145</td>\n",
       "      <td>524348</td>\n",
       "      <td>43131822</td>\n",
       "      <td>524323</td>\n",
       "      <td>2323</td>\n",
       "      <td>25</td>\n",
       "      <td>1.2</td>\n",
       "      <td>Asia</td>\n",
       "    </tr>\n",
       "    <tr>\n",
       "      <th>2</th>\n",
       "      <td>Brazil</td>\n",
       "      <td>30762413</td>\n",
       "      <td>665722</td>\n",
       "      <td>30701900</td>\n",
       "      <td>665216</td>\n",
       "      <td>60513</td>\n",
       "      <td>506</td>\n",
       "      <td>2.2</td>\n",
       "      <td>South America</td>\n",
       "    </tr>\n",
       "    <tr>\n",
       "      <th>3</th>\n",
       "      <td>France</td>\n",
       "      <td>29541498</td>\n",
       "      <td>148818</td>\n",
       "      <td>29517146</td>\n",
       "      <td>148753</td>\n",
       "      <td>24352</td>\n",
       "      <td>65</td>\n",
       "      <td>0.5</td>\n",
       "      <td>Europe</td>\n",
       "    </tr>\n",
       "    <tr>\n",
       "      <th>4</th>\n",
       "      <td>Germany</td>\n",
       "      <td>26040460</td>\n",
       "      <td>138324</td>\n",
       "      <td>25998085</td>\n",
       "      <td>138204</td>\n",
       "      <td>42375</td>\n",
       "      <td>120</td>\n",
       "      <td>0.5</td>\n",
       "      <td>Europe</td>\n",
       "    </tr>\n",
       "  </tbody>\n",
       "</table>\n",
       "</div>"
      ],
      "text/plain": [
       "  Country/Region     Cases   Deaths    PCases  PDeaths  Cases (+)  Deaths (+)  \\\n",
       "0             US  83237592  1002020  83060959  1001606     176633         414   \n",
       "1          India  43134145   524348  43131822   524323       2323          25   \n",
       "2         Brazil  30762413   665722  30701900   665216      60513         506   \n",
       "3         France  29541498   148818  29517146   148753      24352          65   \n",
       "4        Germany  26040460   138324  25998085   138204      42375         120   \n",
       "\n",
       "   Fatality Rate      Continent  \n",
       "0            1.2  North America  \n",
       "1            1.2           Asia  \n",
       "2            2.2  South America  \n",
       "3            0.5         Europe  \n",
       "4            0.5         Europe  "
      ]
     },
     "execution_count": 15,
     "metadata": {},
     "output_type": "execute_result"
    }
   ],
   "source": [
    "#hide\n",
    "df_table = (pd.DataFrame(dict(Cases=dfc_cases, Deaths=dfc_deaths, PCases=dfp_cases, PDeaths=dfp_deaths))\n",
    "             .sort_values(by=['Cases', 'Deaths'], ascending=[False, False])\n",
    "             .reset_index())\n",
    "df_table.rename(columns={'index': 'Country/Region'}, inplace=True)\n",
    "for c in 'Cases, Deaths'.split(', '):\n",
    "    df_table[f'{c} (+)'] = (df_table[c] - df_table[f'P{c}']).clip(0)  # DATA BUG\n",
    "df_table['Fatality Rate'] = (100 * df_table['Deaths'] / df_table['Cases']).round(1)\n",
    "df_table['Continent'] = df_table['Country/Region'].map(mapping['map.continent'])\n",
    "df_table.head(5)"
   ]
  },
  {
   "cell_type": "code",
   "execution_count": 16,
   "id": "fewer-occasion",
   "metadata": {
    "execution": {
     "iopub.execute_input": "2022-05-21T12:15:08.875684Z",
     "iopub.status.busy": "2022-05-21T12:15:08.875154Z",
     "iopub.status.idle": "2022-05-21T12:15:08.877819Z",
     "shell.execute_reply": "2022-05-21T12:15:08.878356Z"
    },
    "papermill": {
     "duration": 0.03593,
     "end_time": "2022-05-21T12:15:08.878480",
     "exception": false,
     "start_time": "2022-05-21T12:15:08.842550",
     "status": "completed"
    },
    "tags": []
   },
   "outputs": [],
   "source": [
    "#hide\n",
    "#delete problematic countries from table\n",
    "df_table = df_table[~df_table['Country/Region'].isin(['Cape Verde', 'Cruise Ship', 'Kosovo'])]"
   ]
  },
  {
   "cell_type": "code",
   "execution_count": 17,
   "id": "related-center",
   "metadata": {
    "execution": {
     "iopub.execute_input": "2022-05-21T12:15:08.951896Z",
     "iopub.status.busy": "2022-05-21T12:15:08.951311Z",
     "iopub.status.idle": "2022-05-21T12:15:08.953231Z",
     "shell.execute_reply": "2022-05-21T12:15:08.953638Z"
    },
    "papermill": {
     "duration": 0.048233,
     "end_time": "2022-05-21T12:15:08.953767",
     "exception": false,
     "start_time": "2022-05-21T12:15:08.905534",
     "status": "completed"
    },
    "tags": []
   },
   "outputs": [],
   "source": [
    "#hide\n",
    "metrics = [df_table.columns[index] for index in [1,2,5,6]]\n",
    "# s_china = df_table[df_table['Country/Region'].eq('China')][metrics].sum().add_prefix('China ')\n",
    "s_us = df_table[df_table['Country/Region'].eq('US')][metrics].sum().add_prefix('US ')\n",
    "s_eu = df_table[df_table['Continent'].eq('Europe')][metrics].sum().add_prefix('EU ')\n",
    "s_ind = df_table[df_table['Country/Region'].eq('India')][metrics].sum().add_prefix('India ')\n",
    "summary = {'updated': pd.to_datetime(dt_today), 'since': pd.to_datetime(dt_yday)}\n",
    "summary = {'updated': pd.to_datetime(dt_today), 'since': pd.to_datetime(dt_yday)}\n",
    "summary = {**summary, **df_table[metrics].sum(), **s_ind, **s_us, **s_eu}"
   ]
  },
  {
   "cell_type": "code",
   "execution_count": 18,
   "id": "engaging-syndrome",
   "metadata": {
    "execution": {
     "iopub.execute_input": "2022-05-21T12:15:09.013706Z",
     "iopub.status.busy": "2022-05-21T12:15:09.013088Z",
     "iopub.status.idle": "2022-05-21T12:15:09.033425Z",
     "shell.execute_reply": "2022-05-21T12:15:09.032589Z"
    },
    "papermill": {
     "duration": 0.05237,
     "end_time": "2022-05-21T12:15:09.033557",
     "exception": false,
     "start_time": "2022-05-21T12:15:08.981187",
     "status": "completed"
    },
    "tags": []
   },
   "outputs": [],
   "source": [
    "#hide\n",
    "dft_ct_new_cases = dft_cases.groupby(COL_REGION)[dt_cols].sum().diff(axis=1).fillna(0).astype(int)"
   ]
  },
  {
   "cell_type": "code",
   "execution_count": 19,
   "id": "neutral-assignment",
   "metadata": {
    "execution": {
     "iopub.execute_input": "2022-05-21T12:15:09.101575Z",
     "iopub.status.busy": "2022-05-21T12:15:09.099200Z",
     "iopub.status.idle": "2022-05-21T12:15:09.103766Z",
     "shell.execute_reply": "2022-05-21T12:15:09.104329Z"
    },
    "papermill": {
     "duration": 0.039957,
     "end_time": "2022-05-21T12:15:09.104466",
     "exception": false,
     "start_time": "2022-05-21T12:15:09.064509",
     "status": "completed"
    },
    "tags": []
   },
   "outputs": [],
   "source": [
    "#hide\n",
    "everydaycases = dft_ct_new_cases.cumsum(axis=1)"
   ]
  },
  {
   "cell_type": "code",
   "execution_count": 20,
   "id": "parliamentary-calgary",
   "metadata": {
    "execution": {
     "iopub.execute_input": "2022-05-21T12:15:09.170356Z",
     "iopub.status.busy": "2022-05-21T12:15:09.169729Z",
     "iopub.status.idle": "2022-05-21T12:15:09.656251Z",
     "shell.execute_reply": "2022-05-21T12:15:09.656676Z"
    },
    "papermill": {
     "duration": 0.521585,
     "end_time": "2022-05-21T12:15:09.656823",
     "exception": false,
     "start_time": "2022-05-21T12:15:09.135238",
     "status": "completed"
    },
    "tags": []
   },
   "outputs": [],
   "source": [
    "#hide\n",
    "import pandas as pd\n",
    "import matplotlib.pyplot as plt\n",
    "import matplotlib.ticker as ticker\n",
    "import matplotlib.animation as animation\n",
    "from IPython.display import HTML"
   ]
  },
  {
   "cell_type": "code",
   "execution_count": 21,
   "id": "lasting-extraction",
   "metadata": {
    "execution": {
     "iopub.execute_input": "2022-05-21T12:15:09.726720Z",
     "iopub.status.busy": "2022-05-21T12:15:09.726110Z",
     "iopub.status.idle": "2022-05-21T12:15:09.733117Z",
     "shell.execute_reply": "2022-05-21T12:15:09.732635Z"
    },
    "papermill": {
     "duration": 0.043992,
     "end_time": "2022-05-21T12:15:09.733230",
     "exception": false,
     "start_time": "2022-05-21T12:15:09.689238",
     "status": "completed"
    },
    "tags": []
   },
   "outputs": [],
   "source": [
    "#hide\n",
    "t = everydaycases.stack()"
   ]
  },
  {
   "cell_type": "code",
   "execution_count": 22,
   "id": "premier-sleeve",
   "metadata": {
    "execution": {
     "iopub.execute_input": "2022-05-21T12:15:09.799927Z",
     "iopub.status.busy": "2022-05-21T12:15:09.799309Z",
     "iopub.status.idle": "2022-05-21T12:15:09.810123Z",
     "shell.execute_reply": "2022-05-21T12:15:09.810618Z"
    },
    "papermill": {
     "duration": 0.046551,
     "end_time": "2022-05-21T12:15:09.810760",
     "exception": false,
     "start_time": "2022-05-21T12:15:09.764209",
     "status": "completed"
    },
    "tags": []
   },
   "outputs": [],
   "source": [
    "#hide\n",
    "g = t.reset_index(['Country/Region'])"
   ]
  },
  {
   "cell_type": "code",
   "execution_count": 23,
   "id": "distributed-pittsburgh",
   "metadata": {
    "execution": {
     "iopub.execute_input": "2022-05-21T12:15:09.877232Z",
     "iopub.status.busy": "2022-05-21T12:15:09.876536Z",
     "iopub.status.idle": "2022-05-21T12:15:09.879223Z",
     "shell.execute_reply": "2022-05-21T12:15:09.878699Z"
    },
    "papermill": {
     "duration": 0.037841,
     "end_time": "2022-05-21T12:15:09.879357",
     "exception": false,
     "start_time": "2022-05-21T12:15:09.841516",
     "status": "completed"
    },
    "tags": []
   },
   "outputs": [],
   "source": [
    "#hide\n",
    "g.index.name = 'date'"
   ]
  },
  {
   "cell_type": "code",
   "execution_count": 24,
   "id": "naked-donor",
   "metadata": {
    "execution": {
     "iopub.execute_input": "2022-05-21T12:15:09.945939Z",
     "iopub.status.busy": "2022-05-21T12:15:09.945305Z",
     "iopub.status.idle": "2022-05-21T12:15:09.948864Z",
     "shell.execute_reply": "2022-05-21T12:15:09.949298Z"
    },
    "papermill": {
     "duration": 0.0388,
     "end_time": "2022-05-21T12:15:09.949439",
     "exception": false,
     "start_time": "2022-05-21T12:15:09.910639",
     "status": "completed"
    },
    "tags": []
   },
   "outputs": [],
   "source": [
    "# #hide\n",
    "# g = g.reset_index(['date'])"
   ]
  },
  {
   "cell_type": "code",
   "execution_count": 25,
   "id": "incomplete-mustang",
   "metadata": {
    "execution": {
     "iopub.execute_input": "2022-05-21T12:15:10.014945Z",
     "iopub.status.busy": "2022-05-21T12:15:10.014350Z",
     "iopub.status.idle": "2022-05-21T12:15:10.016956Z",
     "shell.execute_reply": "2022-05-21T12:15:10.016377Z"
    },
    "papermill": {
     "duration": 0.036885,
     "end_time": "2022-05-21T12:15:10.017068",
     "exception": false,
     "start_time": "2022-05-21T12:15:09.980183",
     "status": "completed"
    },
    "tags": []
   },
   "outputs": [],
   "source": [
    "#hide\n",
    "# g.head()"
   ]
  },
  {
   "cell_type": "code",
   "execution_count": 26,
   "id": "specific-kruger",
   "metadata": {
    "execution": {
     "iopub.execute_input": "2022-05-21T12:15:10.082705Z",
     "iopub.status.busy": "2022-05-21T12:15:10.082137Z",
     "iopub.status.idle": "2022-05-21T12:15:10.084611Z",
     "shell.execute_reply": "2022-05-21T12:15:10.084100Z"
    },
    "papermill": {
     "duration": 0.036771,
     "end_time": "2022-05-21T12:15:10.084712",
     "exception": false,
     "start_time": "2022-05-21T12:15:10.047941",
     "status": "completed"
    },
    "tags": []
   },
   "outputs": [],
   "source": [
    "#hide\n",
    "# g.columns = ['date','country','cases']"
   ]
  },
  {
   "cell_type": "code",
   "execution_count": 27,
   "id": "tender-conversion",
   "metadata": {
    "execution": {
     "iopub.execute_input": "2022-05-21T12:15:10.143084Z",
     "iopub.status.busy": "2022-05-21T12:15:10.142367Z",
     "iopub.status.idle": "2022-05-21T12:15:10.145308Z",
     "shell.execute_reply": "2022-05-21T12:15:10.144758Z"
    },
    "papermill": {
     "duration": 0.03365,
     "end_time": "2022-05-21T12:15:10.145433",
     "exception": false,
     "start_time": "2022-05-21T12:15:10.111783",
     "status": "completed"
    },
    "tags": []
   },
   "outputs": [],
   "source": [
    "#hide\n",
    "# g['continent'] = g.country"
   ]
  },
  {
   "cell_type": "code",
   "execution_count": 28,
   "id": "substantial-wilderness",
   "metadata": {
    "execution": {
     "iopub.execute_input": "2022-05-21T12:15:10.211433Z",
     "iopub.status.busy": "2022-05-21T12:15:10.210738Z",
     "iopub.status.idle": "2022-05-21T12:15:10.213228Z",
     "shell.execute_reply": "2022-05-21T12:15:10.212570Z"
    },
    "papermill": {
     "duration": 0.036858,
     "end_time": "2022-05-21T12:15:10.213358",
     "exception": false,
     "start_time": "2022-05-21T12:15:10.176500",
     "status": "completed"
    },
    "tags": []
   },
   "outputs": [],
   "source": [
    "#hide\n",
    "# cols = list(g.columns.values)"
   ]
  },
  {
   "cell_type": "code",
   "execution_count": 29,
   "id": "solved-farming",
   "metadata": {
    "execution": {
     "iopub.execute_input": "2022-05-21T12:15:10.273719Z",
     "iopub.status.busy": "2022-05-21T12:15:10.273002Z",
     "iopub.status.idle": "2022-05-21T12:15:10.276605Z",
     "shell.execute_reply": "2022-05-21T12:15:10.277119Z"
    },
    "papermill": {
     "duration": 0.03569,
     "end_time": "2022-05-21T12:15:10.277270",
     "exception": false,
     "start_time": "2022-05-21T12:15:10.241580",
     "status": "completed"
    },
    "tags": []
   },
   "outputs": [],
   "source": [
    "#hide\n",
    "# cols.insert(0, cols.pop())"
   ]
  },
  {
   "cell_type": "code",
   "execution_count": 30,
   "id": "executed-adoption",
   "metadata": {
    "execution": {
     "iopub.execute_input": "2022-05-21T12:15:10.343580Z",
     "iopub.status.busy": "2022-05-21T12:15:10.342877Z",
     "iopub.status.idle": "2022-05-21T12:15:10.346744Z",
     "shell.execute_reply": "2022-05-21T12:15:10.347236Z"
    },
    "papermill": {
     "duration": 0.038987,
     "end_time": "2022-05-21T12:15:10.347389",
     "exception": false,
     "start_time": "2022-05-21T12:15:10.308402",
     "status": "completed"
    },
    "tags": []
   },
   "outputs": [],
   "source": [
    "#hide\n",
    "# g = g[cols]"
   ]
  },
  {
   "cell_type": "code",
   "execution_count": 31,
   "id": "subject-dublin",
   "metadata": {
    "execution": {
     "iopub.execute_input": "2022-05-21T12:15:10.407071Z",
     "iopub.status.busy": "2022-05-21T12:15:10.406363Z",
     "iopub.status.idle": "2022-05-21T12:15:10.410159Z",
     "shell.execute_reply": "2022-05-21T12:15:10.410656Z"
    },
    "papermill": {
     "duration": 0.035402,
     "end_time": "2022-05-21T12:15:10.410811",
     "exception": false,
     "start_time": "2022-05-21T12:15:10.375409",
     "status": "completed"
    },
    "tags": []
   },
   "outputs": [],
   "source": [
    "#hide\n",
    "# g['continent'] = g['continent'].map(mapping['map.continent'])"
   ]
  },
  {
   "cell_type": "code",
   "execution_count": 32,
   "id": "freelance-scout",
   "metadata": {
    "execution": {
     "iopub.execute_input": "2022-05-21T12:15:10.476840Z",
     "iopub.status.busy": "2022-05-21T12:15:10.476257Z",
     "iopub.status.idle": "2022-05-21T12:15:10.478377Z",
     "shell.execute_reply": "2022-05-21T12:15:10.478824Z"
    },
    "papermill": {
     "duration": 0.037311,
     "end_time": "2022-05-21T12:15:10.478957",
     "exception": false,
     "start_time": "2022-05-21T12:15:10.441646",
     "status": "completed"
    },
    "tags": []
   },
   "outputs": [],
   "source": [
    "#hide\n",
    "# g.head()"
   ]
  },
  {
   "cell_type": "code",
   "execution_count": 33,
   "id": "limited-engine",
   "metadata": {
    "execution": {
     "iopub.execute_input": "2022-05-21T12:15:10.544673Z",
     "iopub.status.busy": "2022-05-21T12:15:10.544043Z",
     "iopub.status.idle": "2022-05-21T12:15:10.546503Z",
     "shell.execute_reply": "2022-05-21T12:15:10.545875Z"
    },
    "papermill": {
     "duration": 0.036892,
     "end_time": "2022-05-21T12:15:10.546620",
     "exception": false,
     "start_time": "2022-05-21T12:15:10.509728",
     "status": "completed"
    },
    "tags": []
   },
   "outputs": [],
   "source": [
    "# hide\n",
    "# g['date'] = g['date'].astype('datetime64[ns]')"
   ]
  },
  {
   "cell_type": "code",
   "execution_count": 34,
   "id": "sophisticated-supervisor",
   "metadata": {
    "execution": {
     "iopub.execute_input": "2022-05-21T12:15:10.613200Z",
     "iopub.status.busy": "2022-05-21T12:15:10.612609Z",
     "iopub.status.idle": "2022-05-21T12:15:10.615449Z",
     "shell.execute_reply": "2022-05-21T12:15:10.614969Z"
    },
    "papermill": {
     "duration": 0.03765,
     "end_time": "2022-05-21T12:15:10.615562",
     "exception": false,
     "start_time": "2022-05-21T12:15:10.577912",
     "status": "completed"
    },
    "tags": []
   },
   "outputs": [],
   "source": [
    "#hide\n",
    "# g['date'] = g.date.dt.dayofyear"
   ]
  },
  {
   "cell_type": "code",
   "execution_count": 35,
   "id": "inside-dubai",
   "metadata": {
    "execution": {
     "iopub.execute_input": "2022-05-21T12:15:10.681296Z",
     "iopub.status.busy": "2022-05-21T12:15:10.680591Z",
     "iopub.status.idle": "2022-05-21T12:15:10.682387Z",
     "shell.execute_reply": "2022-05-21T12:15:10.682938Z"
    },
    "papermill": {
     "duration": 0.036757,
     "end_time": "2022-05-21T12:15:10.683086",
     "exception": false,
     "start_time": "2022-05-21T12:15:10.646329",
     "status": "completed"
    },
    "tags": []
   },
   "outputs": [],
   "source": [
    "#hide\n",
    "# g = g.rename(columns= {'continent':'group','country':'name','cases':'value'})"
   ]
  },
  {
   "cell_type": "code",
   "execution_count": 36,
   "id": "fleet-motorcycle",
   "metadata": {
    "execution": {
     "iopub.execute_input": "2022-05-21T12:15:10.749330Z",
     "iopub.status.busy": "2022-05-21T12:15:10.748718Z",
     "iopub.status.idle": "2022-05-21T12:15:10.752440Z",
     "shell.execute_reply": "2022-05-21T12:15:10.752876Z"
    },
    "papermill": {
     "duration": 0.038666,
     "end_time": "2022-05-21T12:15:10.753019",
     "exception": false,
     "start_time": "2022-05-21T12:15:10.714353",
     "status": "completed"
    },
    "tags": []
   },
   "outputs": [],
   "source": [
    "#hide\n",
    "# cols = ['name','group','day','value']"
   ]
  },
  {
   "cell_type": "code",
   "execution_count": 37,
   "id": "continued-sleeping",
   "metadata": {
    "execution": {
     "iopub.execute_input": "2022-05-21T12:15:10.819165Z",
     "iopub.status.busy": "2022-05-21T12:15:10.818497Z",
     "iopub.status.idle": "2022-05-21T12:15:10.820811Z",
     "shell.execute_reply": "2022-05-21T12:15:10.820235Z"
    },
    "papermill": {
     "duration": 0.036974,
     "end_time": "2022-05-21T12:15:10.820926",
     "exception": false,
     "start_time": "2022-05-21T12:15:10.783952",
     "status": "completed"
    },
    "tags": []
   },
   "outputs": [],
   "source": [
    "#hide\n",
    "# g.rename(columns= {'date':'day'},inplace = True)"
   ]
  },
  {
   "cell_type": "code",
   "execution_count": 38,
   "id": "major-fight",
   "metadata": {
    "execution": {
     "iopub.execute_input": "2022-05-21T12:15:10.887229Z",
     "iopub.status.busy": "2022-05-21T12:15:10.886670Z",
     "iopub.status.idle": "2022-05-21T12:15:10.889190Z",
     "shell.execute_reply": "2022-05-21T12:15:10.888759Z"
    },
    "papermill": {
     "duration": 0.037485,
     "end_time": "2022-05-21T12:15:10.889291",
     "exception": false,
     "start_time": "2022-05-21T12:15:10.851806",
     "status": "completed"
    },
    "tags": []
   },
   "outputs": [],
   "source": [
    "#hide\n",
    "# g = g[cols]"
   ]
  },
  {
   "cell_type": "code",
   "execution_count": 39,
   "id": "structured-mobile",
   "metadata": {
    "execution": {
     "iopub.execute_input": "2022-05-21T12:15:10.947995Z",
     "iopub.status.busy": "2022-05-21T12:15:10.947378Z",
     "iopub.status.idle": "2022-05-21T12:15:10.950857Z",
     "shell.execute_reply": "2022-05-21T12:15:10.951243Z"
    },
    "papermill": {
     "duration": 0.034959,
     "end_time": "2022-05-21T12:15:10.951368",
     "exception": false,
     "start_time": "2022-05-21T12:15:10.916409",
     "status": "completed"
    },
    "tags": []
   },
   "outputs": [],
   "source": [
    "# #hide\n",
    "# g = g[g.group.notna()]"
   ]
  },
  {
   "cell_type": "code",
   "execution_count": 40,
   "id": "determined-closing",
   "metadata": {
    "execution": {
     "iopub.execute_input": "2022-05-21T12:15:11.010019Z",
     "iopub.status.busy": "2022-05-21T12:15:11.009291Z",
     "iopub.status.idle": "2022-05-21T12:15:11.011912Z",
     "shell.execute_reply": "2022-05-21T12:15:11.011382Z"
    },
    "papermill": {
     "duration": 0.033375,
     "end_time": "2022-05-21T12:15:11.012014",
     "exception": false,
     "start_time": "2022-05-21T12:15:10.978639",
     "status": "completed"
    },
    "tags": []
   },
   "outputs": [],
   "source": [
    "# #hide\n",
    "# colors = dict(zip(\n",
    "#     [\"Oceania\", \"Europe\", \"Asia\", \"South America\", \"Middle East\", \"North America\", \"Africa\"],\n",
    "#     [\"#adb0ff\", \"#ffb3ff\", \"#90d595\", \"#e48381\", \"#aafbff\", \"#f7bb5f\", \"#eafb50\"]\n",
    "# ))\n",
    "# group_lk = g.set_index('name')['group'].to_dict()"
   ]
  },
  {
   "cell_type": "code",
   "execution_count": null,
   "id": "gross-drinking",
   "metadata": {
    "papermill": {
     "duration": 0.027195,
     "end_time": "2022-05-21T12:15:11.066164",
     "exception": false,
     "start_time": "2022-05-21T12:15:11.038969",
     "status": "completed"
    },
    "tags": []
   },
   "outputs": [],
   "source": []
  },
  {
   "cell_type": "code",
   "execution_count": 41,
   "id": "subject-macintosh",
   "metadata": {
    "execution": {
     "iopub.execute_input": "2022-05-21T12:15:11.125333Z",
     "iopub.status.busy": "2022-05-21T12:15:11.124795Z",
     "iopub.status.idle": "2022-05-21T12:15:11.126808Z",
     "shell.execute_reply": "2022-05-21T12:15:11.127222Z"
    },
    "papermill": {
     "duration": 0.033959,
     "end_time": "2022-05-21T12:15:11.127342",
     "exception": false,
     "start_time": "2022-05-21T12:15:11.093383",
     "status": "completed"
    },
    "tags": []
   },
   "outputs": [],
   "source": [
    "# #hide\n",
    "# fig, ax = plt.subplots(figsize=(15, 8))\n",
    "\n",
    "# def draw_barchart(current_day):\n",
    "#     dff = g[g['day'].eq(current_day)].sort_values(by='value', ascending=True).tail(10)\n",
    "#     ax.clear()\n",
    "#     ax.barh(dff['name'], dff['value'], color=[colors[group_lk[x]] for x in dff['name']])\n",
    "#     dx = dff['value'].max() / 200\n",
    "    \n",
    "#     for i, (value, name) in enumerate(zip(dff['value'], dff['name'])):\n",
    "#         ax.text(value-dx, i,     name,           size=14, weight=600, ha='right', va='bottom')\n",
    "#         ax.text(value-dx, i-.25, group_lk[name], size=10, color='#444444', ha='right', va='baseline')\n",
    "#         ax.text(value+dx, i,     f'{value:,.0f}',  size=14, ha='left',  va='center')\n",
    "#     ax.text(1, 0.4, current_day, transform=ax.transAxes, color='#777777', size=46, ha='right', weight=800)\n",
    "#     ax.text(0, 1.06, 'Population (thousands)', transform=ax.transAxes, size=12, color='#777777')\n",
    "#     ax.xaxis.set_major_formatter(ticker.StrMethodFormatter('{x:,.0f}'))\n",
    "#     ax.xaxis.set_ticks_position('top')\n",
    "#     ax.tick_params(axis='x', colors='#777777', labelsize=12)\n",
    "#     ax.set_yticks([])\n",
    "#     ax.margins(0, 0.01)\n",
    "#     ax.grid(which='major', axis='x', linestyle='-')\n",
    "#     ax.set_axisbelow(True)\n",
    "    \n",
    "#     ax.text(0, 1.15, 'Coronavirus',\n",
    "#             transform=ax.transAxes, size=24, weight=600, ha='left', va='top')\n",
    "# #     ax.text(1, 0, 'by @pratapvardhan; credit @jburnmurdoch', transform=ax.transAxes, color='#777777', ha='right',\n",
    "# #             bbox=dict(facecolor='white', alpha=0.8, edgecolor='white'))\n",
    "#     plt.box(False)"
   ]
  },
  {
   "cell_type": "code",
   "execution_count": 42,
   "id": "sexual-wages",
   "metadata": {
    "execution": {
     "iopub.execute_input": "2022-05-21T12:15:11.185403Z",
     "iopub.status.busy": "2022-05-21T12:15:11.184849Z",
     "iopub.status.idle": "2022-05-21T12:15:11.188668Z",
     "shell.execute_reply": "2022-05-21T12:15:11.188249Z"
    },
    "papermill": {
     "duration": 0.034306,
     "end_time": "2022-05-21T12:15:11.188765",
     "exception": false,
     "start_time": "2022-05-21T12:15:11.154459",
     "status": "completed"
    },
    "tags": []
   },
   "outputs": [],
   "source": [
    "# #hide_input\n",
    "# fig, ax = plt.subplots(figsize=(15, 8))\n",
    "# animator = animation.FuncAnimation(fig, draw_barchart, frames=range(g.day.values.min(), g.day.values.max()))\n",
    "# HTML(animator.to_jshtml())\n",
    "# # or use animator.to_html5_video() or animator.save() "
   ]
  },
  {
   "cell_type": "code",
   "execution_count": null,
   "id": "australian-container",
   "metadata": {
    "papermill": {
     "duration": 0.027064,
     "end_time": "2022-05-21T12:15:11.242874",
     "exception": false,
     "start_time": "2022-05-21T12:15:11.215810",
     "status": "completed"
    },
    "tags": []
   },
   "outputs": [],
   "source": []
  },
  {
   "cell_type": "code",
   "execution_count": null,
   "id": "mediterranean-pontiac",
   "metadata": {
    "papermill": {
     "duration": 0.026992,
     "end_time": "2022-05-21T12:15:11.297267",
     "exception": false,
     "start_time": "2022-05-21T12:15:11.270275",
     "status": "completed"
    },
    "tags": []
   },
   "outputs": [],
   "source": []
  },
  {
   "cell_type": "code",
   "execution_count": null,
   "id": "aging-legislature",
   "metadata": {
    "papermill": {
     "duration": 0.026773,
     "end_time": "2022-05-21T12:15:11.351231",
     "exception": false,
     "start_time": "2022-05-21T12:15:11.324458",
     "status": "completed"
    },
    "tags": []
   },
   "outputs": [],
   "source": []
  }
 ],
 "metadata": {
  "kernelspec": {
   "display_name": "Python 3",
   "language": "python",
   "name": "python3"
  },
  "language_info": {
   "codemirror_mode": {
    "name": "ipython",
    "version": 3
   },
   "file_extension": ".py",
   "mimetype": "text/x-python",
   "name": "python",
   "nbconvert_exporter": "python",
   "pygments_lexer": "ipython3",
   "version": "3.6.15"
  },
  "papermill": {
   "duration": 5.704926,
   "end_time": "2022-05-21T12:15:11.695546",
   "environment_variables": {},
   "exception": null,
   "input_path": "2020-03-21-covid19exp.ipynb",
   "output_path": "2020-03-21-covid19exp.ipynb",
   "parameters": {},
   "start_time": "2022-05-21T12:15:05.990620",
   "version": "2.0.0"
  }
 },
 "nbformat": 4,
 "nbformat_minor": 5
}