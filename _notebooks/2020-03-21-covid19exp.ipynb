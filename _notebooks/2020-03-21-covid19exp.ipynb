{
 "cells": [
  {
   "cell_type": "markdown",
   "id": "muslim-click",
   "metadata": {
    "papermill": {
     "duration": 0.043286,
     "end_time": "2021-10-14T00:24:10.839874",
     "exception": false,
     "start_time": "2021-10-14T00:24:10.796588",
     "status": "completed"
    },
    "tags": []
   },
   "source": [
    "# COVID-19 Case Race\n",
    "> A race chart to see rising cases around the world\n",
    "\n",
    "- author: Hargun Oberoi\n",
    "- image: images/covid-overview.png\n",
    "- hide: false\n",
    "- badges: false"
   ]
  },
  {
   "cell_type": "code",
   "execution_count": 1,
   "id": "proof-material",
   "metadata": {
    "execution": {
     "iopub.execute_input": "2021-10-14T00:24:10.948545Z",
     "iopub.status.busy": "2021-10-14T00:24:10.947700Z",
     "iopub.status.idle": "2021-10-14T00:24:11.374892Z",
     "shell.execute_reply": "2021-10-14T00:24:11.374174Z"
    },
    "papermill": {
     "duration": 0.493399,
     "end_time": "2021-10-14T00:24:11.375062",
     "exception": false,
     "start_time": "2021-10-14T00:24:10.881663",
     "status": "completed"
    },
    "tags": []
   },
   "outputs": [],
   "source": [
    "#hide\n",
    "import numpy as np\n",
    "import pandas as pd\n",
    "from jinja2 import Template\n",
    "from IPython.display import HTML"
   ]
  },
  {
   "cell_type": "code",
   "execution_count": 2,
   "id": "developed-terminology",
   "metadata": {
    "execution": {
     "iopub.execute_input": "2021-10-14T00:24:11.461219Z",
     "iopub.status.busy": "2021-10-14T00:24:11.460396Z",
     "iopub.status.idle": "2021-10-14T00:24:11.462104Z",
     "shell.execute_reply": "2021-10-14T00:24:11.462706Z"
    },
    "papermill": {
     "duration": 0.048295,
     "end_time": "2021-10-14T00:24:11.462850",
     "exception": false,
     "start_time": "2021-10-14T00:24:11.414555",
     "status": "completed"
    },
    "tags": []
   },
   "outputs": [],
   "source": [
    "#hide\n",
    "\n",
    "# FETCH\n",
    "base_url = 'https://raw.githubusercontent.com/pratapvardhan/notebooks/master/covid19/'\n",
    "paths = {\n",
    "    'mapping': base_url + 'mapping_countries.csv',\n",
    "    'overview': base_url + 'overview.tpl'\n",
    "}"
   ]
  },
  {
   "cell_type": "code",
   "execution_count": 3,
   "id": "dynamic-saver",
   "metadata": {
    "execution": {
     "iopub.execute_input": "2021-10-14T00:24:11.554484Z",
     "iopub.status.busy": "2021-10-14T00:24:11.553420Z",
     "iopub.status.idle": "2021-10-14T00:24:11.556578Z",
     "shell.execute_reply": "2021-10-14T00:24:11.557113Z"
    },
    "papermill": {
     "duration": 0.054813,
     "end_time": "2021-10-14T00:24:11.557262",
     "exception": false,
     "start_time": "2021-10-14T00:24:11.502449",
     "status": "completed"
    },
    "tags": []
   },
   "outputs": [
    {
     "data": {
      "text/plain": [
       "'https://raw.githubusercontent.com/pratapvardhan/notebooks/master/covid19/mapping_countries.csv'"
      ]
     },
     "execution_count": 3,
     "metadata": {},
     "output_type": "execute_result"
    }
   ],
   "source": [
    "#hide\n",
    "paths['mapping']"
   ]
  },
  {
   "cell_type": "code",
   "execution_count": 4,
   "id": "urban-software",
   "metadata": {
    "execution": {
     "iopub.execute_input": "2021-10-14T00:24:11.663091Z",
     "iopub.status.busy": "2021-10-14T00:24:11.662279Z",
     "iopub.status.idle": "2021-10-14T00:24:11.669093Z",
     "shell.execute_reply": "2021-10-14T00:24:11.668204Z"
    },
    "papermill": {
     "duration": 0.060229,
     "end_time": "2021-10-14T00:24:11.669281",
     "exception": false,
     "start_time": "2021-10-14T00:24:11.609052",
     "status": "completed"
    },
    "tags": []
   },
   "outputs": [],
   "source": [
    "#hide\n",
    "def get_mappings(url):\n",
    "    df = pd.read_csv(url)\n",
    "    return {\n",
    "        'df': df,\n",
    "        'replace.country': dict(df.dropna(subset=['Name']).set_index('Country')['Name']),\n",
    "        'map.continent': dict(df.set_index('Name')['Continent'])\n",
    "    }"
   ]
  },
  {
   "cell_type": "code",
   "execution_count": 5,
   "id": "intimate-machinery",
   "metadata": {
    "execution": {
     "iopub.execute_input": "2021-10-14T00:24:11.754964Z",
     "iopub.status.busy": "2021-10-14T00:24:11.754295Z",
     "iopub.status.idle": "2021-10-14T00:24:11.808927Z",
     "shell.execute_reply": "2021-10-14T00:24:11.809422Z"
    },
    "papermill": {
     "duration": 0.10031,
     "end_time": "2021-10-14T00:24:11.809586",
     "exception": false,
     "start_time": "2021-10-14T00:24:11.709276",
     "status": "completed"
    },
    "tags": []
   },
   "outputs": [],
   "source": [
    "#hide\n",
    "mapping = get_mappings(paths['mapping'])"
   ]
  },
  {
   "cell_type": "code",
   "execution_count": 6,
   "id": "certified-tactics",
   "metadata": {
    "execution": {
     "iopub.execute_input": "2021-10-14T00:24:11.897005Z",
     "iopub.status.busy": "2021-10-14T00:24:11.896345Z",
     "iopub.status.idle": "2021-10-14T00:24:11.898147Z",
     "shell.execute_reply": "2021-10-14T00:24:11.898796Z"
    },
    "papermill": {
     "duration": 0.04928,
     "end_time": "2021-10-14T00:24:11.898960",
     "exception": false,
     "start_time": "2021-10-14T00:24:11.849680",
     "status": "completed"
    },
    "tags": []
   },
   "outputs": [],
   "source": [
    "#hide\n",
    "def get_template(path):\n",
    "    from urllib.parse import urlparse\n",
    "    if bool(urlparse(path).netloc):\n",
    "        from urllib.request import urlopen\n",
    "        return urlopen(path).read().decode('utf8')\n",
    "    return open(path).read()"
   ]
  },
  {
   "cell_type": "code",
   "execution_count": 7,
   "id": "realistic-blast",
   "metadata": {
    "execution": {
     "iopub.execute_input": "2021-10-14T00:24:11.983370Z",
     "iopub.status.busy": "2021-10-14T00:24:11.982553Z",
     "iopub.status.idle": "2021-10-14T00:24:11.984396Z",
     "shell.execute_reply": "2021-10-14T00:24:11.984957Z"
    },
    "papermill": {
     "duration": 0.047939,
     "end_time": "2021-10-14T00:24:11.985109",
     "exception": false,
     "start_time": "2021-10-14T00:24:11.937170",
     "status": "completed"
    },
    "tags": []
   },
   "outputs": [],
   "source": [
    "#hide\n",
    "def get_frame(name):\n",
    "    url = (\n",
    "        'https://raw.githubusercontent.com/CSSEGISandData/COVID-19/master/csse_covid_19_data/'\n",
    "        f'csse_covid_19_time_series/time_series_covid19_{name}_global.csv')\n",
    "    df = pd.read_csv(url)\n",
    "    # rename countries\n",
    "    df['Country/Region'] = df['Country/Region'].replace(mapping['replace.country'])\n",
    "    return df"
   ]
  },
  {
   "cell_type": "code",
   "execution_count": 8,
   "id": "affiliated-characterization",
   "metadata": {
    "execution": {
     "iopub.execute_input": "2021-10-14T00:24:12.074759Z",
     "iopub.status.busy": "2021-10-14T00:24:12.073867Z",
     "iopub.status.idle": "2021-10-14T00:24:12.075751Z",
     "shell.execute_reply": "2021-10-14T00:24:12.076336Z"
    },
    "papermill": {
     "duration": 0.050137,
     "end_time": "2021-10-14T00:24:12.076573",
     "exception": false,
     "start_time": "2021-10-14T00:24:12.026436",
     "status": "completed"
    },
    "tags": []
   },
   "outputs": [],
   "source": [
    "#hide\n",
    "def get_dates(df):\n",
    "    dt_cols = df.columns[~df.columns.isin(['Province/State', 'Country/Region', 'Lat', 'Long'])]\n",
    "    LAST_DATE_I = -1\n",
    "    # sometimes last column may be empty, then go backwards\n",
    "    for i in range(-1, -len(dt_cols), -1):\n",
    "        if not df[dt_cols[i]].fillna(0).eq(0).all():\n",
    "            LAST_DATE_I = i\n",
    "            break\n",
    "    return LAST_DATE_I, dt_cols"
   ]
  },
  {
   "cell_type": "code",
   "execution_count": 9,
   "id": "recent-optimization",
   "metadata": {
    "execution": {
     "iopub.execute_input": "2021-10-14T00:24:12.169580Z",
     "iopub.status.busy": "2021-10-14T00:24:12.168962Z",
     "iopub.status.idle": "2021-10-14T00:24:12.622359Z",
     "shell.execute_reply": "2021-10-14T00:24:12.621801Z"
    },
    "papermill": {
     "duration": 0.495177,
     "end_time": "2021-10-14T00:24:12.622497",
     "exception": false,
     "start_time": "2021-10-14T00:24:12.127320",
     "status": "completed"
    },
    "tags": []
   },
   "outputs": [],
   "source": [
    "#hide\n",
    "COL_REGION = 'Country/Region'\n",
    "# Confirmed, Recovered, Deaths\n",
    "df = get_frame('confirmed')\n",
    "# dft_: timeseries, dfc_: today country agg\n",
    "dft_cases = df\n",
    "dft_deaths = get_frame('deaths')\n",
    "dft_recovered = get_frame('recovered')\n",
    "LAST_DATE_I, dt_cols = get_dates(df)"
   ]
  },
  {
   "cell_type": "code",
   "execution_count": 10,
   "id": "absolute-copper",
   "metadata": {
    "execution": {
     "iopub.execute_input": "2021-10-14T00:24:12.707925Z",
     "iopub.status.busy": "2021-10-14T00:24:12.707104Z",
     "iopub.status.idle": "2021-10-14T00:24:12.709074Z",
     "shell.execute_reply": "2021-10-14T00:24:12.709665Z"
    },
    "papermill": {
     "duration": 0.048092,
     "end_time": "2021-10-14T00:24:12.709809",
     "exception": false,
     "start_time": "2021-10-14T00:24:12.661717",
     "status": "completed"
    },
    "tags": []
   },
   "outputs": [],
   "source": [
    "#hide\n",
    "LAST_DATE_I, dt_cols = get_dates(df)\n",
    "dt_today =dt_cols[LAST_DATE_I]\n",
    "# dt_5day = dt_cols[LAST_DATE_I - 5]\n",
    "dt_yday = dt_cols[LAST_DATE_I - 1]"
   ]
  },
  {
   "cell_type": "code",
   "execution_count": 11,
   "id": "restricted-sheriff",
   "metadata": {
    "execution": {
     "iopub.execute_input": "2021-10-14T00:24:12.794604Z",
     "iopub.status.busy": "2021-10-14T00:24:12.793971Z",
     "iopub.status.idle": "2021-10-14T00:24:12.803084Z",
     "shell.execute_reply": "2021-10-14T00:24:12.803622Z"
    },
    "papermill": {
     "duration": 0.055047,
     "end_time": "2021-10-14T00:24:12.803762",
     "exception": false,
     "start_time": "2021-10-14T00:24:12.748715",
     "status": "completed"
    },
    "tags": []
   },
   "outputs": [],
   "source": [
    "#hide\n",
    "dfc_cases = dft_cases.groupby(COL_REGION)[dt_today].sum()\n",
    "dfc_deaths = dft_deaths.groupby(COL_REGION)[dt_today].sum()\n",
    "# dfp_cases = dft_cases.groupby(COL_REGION)[dt_5day].sum()\n",
    "# dfp_deaths = dft_deaths.groupby(COL_REGION)[dt_5day].sum()\n",
    "dfp_cases = dft_cases.groupby(COL_REGION)[dt_yday].sum()\n",
    "dfp_deaths = dft_deaths.groupby(COL_REGION)[dt_yday].sum()"
   ]
  },
  {
   "cell_type": "code",
   "execution_count": 12,
   "id": "deluxe-hepatitis",
   "metadata": {
    "execution": {
     "iopub.execute_input": "2021-10-14T00:24:12.886635Z",
     "iopub.status.busy": "2021-10-14T00:24:12.885938Z",
     "iopub.status.idle": "2021-10-14T00:24:12.891672Z",
     "shell.execute_reply": "2021-10-14T00:24:12.891065Z"
    },
    "papermill": {
     "duration": 0.050567,
     "end_time": "2021-10-14T00:24:12.891907",
     "exception": false,
     "start_time": "2021-10-14T00:24:12.841340",
     "status": "completed"
    },
    "tags": []
   },
   "outputs": [],
   "source": [
    "#hide\n",
    "df_table = (pd.DataFrame(dict(Cases = dfc_cases, Deaths = dfc_deaths, PCases = dfp_cases, PDeaths = dfp_deaths))\n",
    "            .sort_values(by = ['Cases','Deaths'], ascending = [False, False])\n",
    "            .reset_index())"
   ]
  },
  {
   "cell_type": "code",
   "execution_count": 13,
   "id": "educational-chancellor",
   "metadata": {
    "execution": {
     "iopub.execute_input": "2021-10-14T00:24:12.978289Z",
     "iopub.status.busy": "2021-10-14T00:24:12.977655Z",
     "iopub.status.idle": "2021-10-14T00:24:13.000960Z",
     "shell.execute_reply": "2021-10-14T00:24:13.002056Z"
    },
    "papermill": {
     "duration": 0.072874,
     "end_time": "2021-10-14T00:24:13.002264",
     "exception": false,
     "start_time": "2021-10-14T00:24:12.929390",
     "status": "completed"
    },
    "tags": []
   },
   "outputs": [
    {
     "data": {
      "text/html": [
       "<div>\n",
       "<style scoped>\n",
       "    .dataframe tbody tr th:only-of-type {\n",
       "        vertical-align: middle;\n",
       "    }\n",
       "\n",
       "    .dataframe tbody tr th {\n",
       "        vertical-align: top;\n",
       "    }\n",
       "\n",
       "    .dataframe thead th {\n",
       "        text-align: right;\n",
       "    }\n",
       "</style>\n",
       "<table border=\"1\" class=\"dataframe\">\n",
       "  <thead>\n",
       "    <tr style=\"text-align: right;\">\n",
       "      <th></th>\n",
       "      <th>Country/Region</th>\n",
       "      <th>Cases</th>\n",
       "      <th>Deaths</th>\n",
       "      <th>PCases</th>\n",
       "      <th>PDeaths</th>\n",
       "      <th>Cases (+)</th>\n",
       "      <th>Deaths (+)</th>\n",
       "      <th>Fatality Rate</th>\n",
       "      <th>Continent</th>\n",
       "    </tr>\n",
       "  </thead>\n",
       "  <tbody>\n",
       "    <tr>\n",
       "      <th>0</th>\n",
       "      <td>US</td>\n",
       "      <td>44562693</td>\n",
       "      <td>716471</td>\n",
       "      <td>44456385</td>\n",
       "      <td>714055</td>\n",
       "      <td>106308</td>\n",
       "      <td>2416</td>\n",
       "      <td>1.61</td>\n",
       "      <td>North America</td>\n",
       "    </tr>\n",
       "    <tr>\n",
       "      <th>1</th>\n",
       "      <td>India</td>\n",
       "      <td>34001743</td>\n",
       "      <td>451189</td>\n",
       "      <td>33985920</td>\n",
       "      <td>450963</td>\n",
       "      <td>15823</td>\n",
       "      <td>226</td>\n",
       "      <td>1.33</td>\n",
       "      <td>Asia</td>\n",
       "    </tr>\n",
       "    <tr>\n",
       "      <th>2</th>\n",
       "      <td>Brazil</td>\n",
       "      <td>21590097</td>\n",
       "      <td>601398</td>\n",
       "      <td>21582738</td>\n",
       "      <td>601213</td>\n",
       "      <td>7359</td>\n",
       "      <td>185</td>\n",
       "      <td>2.79</td>\n",
       "      <td>South America</td>\n",
       "    </tr>\n",
       "    <tr>\n",
       "      <th>3</th>\n",
       "      <td>United Kingdom</td>\n",
       "      <td>8270182</td>\n",
       "      <td>138351</td>\n",
       "      <td>8232327</td>\n",
       "      <td>138167</td>\n",
       "      <td>37855</td>\n",
       "      <td>184</td>\n",
       "      <td>1.67</td>\n",
       "      <td>Europe</td>\n",
       "    </tr>\n",
       "    <tr>\n",
       "      <th>4</th>\n",
       "      <td>Russia</td>\n",
       "      <td>7714973</td>\n",
       "      <td>214476</td>\n",
       "      <td>7687559</td>\n",
       "      <td>213522</td>\n",
       "      <td>27414</td>\n",
       "      <td>954</td>\n",
       "      <td>2.78</td>\n",
       "      <td>Europe</td>\n",
       "    </tr>\n",
       "  </tbody>\n",
       "</table>\n",
       "</div>"
      ],
      "text/plain": [
       "   Country/Region     Cases  Deaths    PCases  PDeaths  Cases (+)  Deaths (+)  \\\n",
       "0              US  44562693  716471  44456385   714055     106308        2416   \n",
       "1           India  34001743  451189  33985920   450963      15823         226   \n",
       "2          Brazil  21590097  601398  21582738   601213       7359         185   \n",
       "3  United Kingdom   8270182  138351   8232327   138167      37855         184   \n",
       "4          Russia   7714973  214476   7687559   213522      27414         954   \n",
       "\n",
       "   Fatality Rate      Continent  \n",
       "0           1.61  North America  \n",
       "1           1.33           Asia  \n",
       "2           2.79  South America  \n",
       "3           1.67         Europe  \n",
       "4           2.78         Europe  "
      ]
     },
     "execution_count": 13,
     "metadata": {},
     "output_type": "execute_result"
    }
   ],
   "source": [
    "#hide\n",
    "for c in 'Cases, Deaths'.split(', '):\n",
    "    df_table[f'{c} (+)'] = (df_table[c] - df_table[f'P{c}']).clip(0)\n",
    "    #Clip ça veut dire, les chiffres negatif sont interdit\n",
    "df_table['Fatality Rate'] = (100* df_table['Deaths']/ df_table['Cases']).round(2)\n",
    "df_table['Continent'] = df_table['Country/Region'].map(mapping['map.continent'])\n",
    "df_table.head(5)"
   ]
  },
  {
   "cell_type": "code",
   "execution_count": 14,
   "id": "aboriginal-bulgaria",
   "metadata": {
    "execution": {
     "iopub.execute_input": "2021-10-14T00:24:13.091839Z",
     "iopub.status.busy": "2021-10-14T00:24:13.090999Z",
     "iopub.status.idle": "2021-10-14T00:24:13.093168Z",
     "shell.execute_reply": "2021-10-14T00:24:13.093670Z"
    },
    "papermill": {
     "duration": 0.050508,
     "end_time": "2021-10-14T00:24:13.093833",
     "exception": false,
     "start_time": "2021-10-14T00:24:13.043325",
     "status": "completed"
    },
    "tags": []
   },
   "outputs": [],
   "source": [
    "#hide\n",
    "#delete problematic countries from table\n",
    "df_table = df_table[~df_table['Country/Region'].isin(['Cape Verde', 'Cruise Ship', 'Kosovo'])]"
   ]
  },
  {
   "cell_type": "code",
   "execution_count": 15,
   "id": "fantastic-effect",
   "metadata": {
    "execution": {
     "iopub.execute_input": "2021-10-14T00:24:13.181418Z",
     "iopub.status.busy": "2021-10-14T00:24:13.180717Z",
     "iopub.status.idle": "2021-10-14T00:24:13.202757Z",
     "shell.execute_reply": "2021-10-14T00:24:13.203226Z"
    },
    "papermill": {
     "duration": 0.070717,
     "end_time": "2021-10-14T00:24:13.203390",
     "exception": false,
     "start_time": "2021-10-14T00:24:13.132673",
     "status": "completed"
    },
    "tags": []
   },
   "outputs": [
    {
     "data": {
      "text/html": [
       "<div>\n",
       "<style scoped>\n",
       "    .dataframe tbody tr th:only-of-type {\n",
       "        vertical-align: middle;\n",
       "    }\n",
       "\n",
       "    .dataframe tbody tr th {\n",
       "        vertical-align: top;\n",
       "    }\n",
       "\n",
       "    .dataframe thead th {\n",
       "        text-align: right;\n",
       "    }\n",
       "</style>\n",
       "<table border=\"1\" class=\"dataframe\">\n",
       "  <thead>\n",
       "    <tr style=\"text-align: right;\">\n",
       "      <th></th>\n",
       "      <th>Country/Region</th>\n",
       "      <th>Cases</th>\n",
       "      <th>Deaths</th>\n",
       "      <th>PCases</th>\n",
       "      <th>PDeaths</th>\n",
       "      <th>Cases (+)</th>\n",
       "      <th>Deaths (+)</th>\n",
       "      <th>Fatality Rate</th>\n",
       "      <th>Continent</th>\n",
       "    </tr>\n",
       "  </thead>\n",
       "  <tbody>\n",
       "    <tr>\n",
       "      <th>0</th>\n",
       "      <td>US</td>\n",
       "      <td>44562693</td>\n",
       "      <td>716471</td>\n",
       "      <td>44456385</td>\n",
       "      <td>714055</td>\n",
       "      <td>106308</td>\n",
       "      <td>2416</td>\n",
       "      <td>1.6</td>\n",
       "      <td>North America</td>\n",
       "    </tr>\n",
       "    <tr>\n",
       "      <th>1</th>\n",
       "      <td>India</td>\n",
       "      <td>34001743</td>\n",
       "      <td>451189</td>\n",
       "      <td>33985920</td>\n",
       "      <td>450963</td>\n",
       "      <td>15823</td>\n",
       "      <td>226</td>\n",
       "      <td>1.3</td>\n",
       "      <td>Asia</td>\n",
       "    </tr>\n",
       "    <tr>\n",
       "      <th>2</th>\n",
       "      <td>Brazil</td>\n",
       "      <td>21590097</td>\n",
       "      <td>601398</td>\n",
       "      <td>21582738</td>\n",
       "      <td>601213</td>\n",
       "      <td>7359</td>\n",
       "      <td>185</td>\n",
       "      <td>2.8</td>\n",
       "      <td>South America</td>\n",
       "    </tr>\n",
       "    <tr>\n",
       "      <th>3</th>\n",
       "      <td>United Kingdom</td>\n",
       "      <td>8270182</td>\n",
       "      <td>138351</td>\n",
       "      <td>8232327</td>\n",
       "      <td>138167</td>\n",
       "      <td>37855</td>\n",
       "      <td>184</td>\n",
       "      <td>1.7</td>\n",
       "      <td>Europe</td>\n",
       "    </tr>\n",
       "    <tr>\n",
       "      <th>4</th>\n",
       "      <td>Russia</td>\n",
       "      <td>7714973</td>\n",
       "      <td>214476</td>\n",
       "      <td>7687559</td>\n",
       "      <td>213522</td>\n",
       "      <td>27414</td>\n",
       "      <td>954</td>\n",
       "      <td>2.8</td>\n",
       "      <td>Europe</td>\n",
       "    </tr>\n",
       "  </tbody>\n",
       "</table>\n",
       "</div>"
      ],
      "text/plain": [
       "   Country/Region     Cases  Deaths    PCases  PDeaths  Cases (+)  Deaths (+)  \\\n",
       "0              US  44562693  716471  44456385   714055     106308        2416   \n",
       "1           India  34001743  451189  33985920   450963      15823         226   \n",
       "2          Brazil  21590097  601398  21582738   601213       7359         185   \n",
       "3  United Kingdom   8270182  138351   8232327   138167      37855         184   \n",
       "4          Russia   7714973  214476   7687559   213522      27414         954   \n",
       "\n",
       "   Fatality Rate      Continent  \n",
       "0            1.6  North America  \n",
       "1            1.3           Asia  \n",
       "2            2.8  South America  \n",
       "3            1.7         Europe  \n",
       "4            2.8         Europe  "
      ]
     },
     "execution_count": 15,
     "metadata": {},
     "output_type": "execute_result"
    }
   ],
   "source": [
    "#hide\n",
    "df_table = (pd.DataFrame(dict(Cases=dfc_cases, Deaths=dfc_deaths, PCases=dfp_cases, PDeaths=dfp_deaths))\n",
    "             .sort_values(by=['Cases', 'Deaths'], ascending=[False, False])\n",
    "             .reset_index())\n",
    "df_table.rename(columns={'index': 'Country/Region'}, inplace=True)\n",
    "for c in 'Cases, Deaths'.split(', '):\n",
    "    df_table[f'{c} (+)'] = (df_table[c] - df_table[f'P{c}']).clip(0)  # DATA BUG\n",
    "df_table['Fatality Rate'] = (100 * df_table['Deaths'] / df_table['Cases']).round(1)\n",
    "df_table['Continent'] = df_table['Country/Region'].map(mapping['map.continent'])\n",
    "df_table.head(5)"
   ]
  },
  {
   "cell_type": "code",
   "execution_count": 16,
   "id": "fewer-occasion",
   "metadata": {
    "execution": {
     "iopub.execute_input": "2021-10-14T00:24:13.296032Z",
     "iopub.status.busy": "2021-10-14T00:24:13.295392Z",
     "iopub.status.idle": "2021-10-14T00:24:13.299432Z",
     "shell.execute_reply": "2021-10-14T00:24:13.298823Z"
    },
    "papermill": {
     "duration": 0.048645,
     "end_time": "2021-10-14T00:24:13.299557",
     "exception": false,
     "start_time": "2021-10-14T00:24:13.250912",
     "status": "completed"
    },
    "tags": []
   },
   "outputs": [],
   "source": [
    "#hide\n",
    "#delete problematic countries from table\n",
    "df_table = df_table[~df_table['Country/Region'].isin(['Cape Verde', 'Cruise Ship', 'Kosovo'])]"
   ]
  },
  {
   "cell_type": "code",
   "execution_count": 17,
   "id": "related-center",
   "metadata": {
    "execution": {
     "iopub.execute_input": "2021-10-14T00:24:13.400256Z",
     "iopub.status.busy": "2021-10-14T00:24:13.399580Z",
     "iopub.status.idle": "2021-10-14T00:24:13.401390Z",
     "shell.execute_reply": "2021-10-14T00:24:13.401915Z"
    },
    "papermill": {
     "duration": 0.064152,
     "end_time": "2021-10-14T00:24:13.402061",
     "exception": false,
     "start_time": "2021-10-14T00:24:13.337909",
     "status": "completed"
    },
    "tags": []
   },
   "outputs": [],
   "source": [
    "#hide\n",
    "metrics = [df_table.columns[index] for index in [1,2,5,6]]\n",
    "# s_china = df_table[df_table['Country/Region'].eq('China')][metrics].sum().add_prefix('China ')\n",
    "s_us = df_table[df_table['Country/Region'].eq('US')][metrics].sum().add_prefix('US ')\n",
    "s_eu = df_table[df_table['Continent'].eq('Europe')][metrics].sum().add_prefix('EU ')\n",
    "s_ind = df_table[df_table['Country/Region'].eq('India')][metrics].sum().add_prefix('India ')\n",
    "summary = {'updated': pd.to_datetime(dt_today), 'since': pd.to_datetime(dt_yday)}\n",
    "summary = {'updated': pd.to_datetime(dt_today), 'since': pd.to_datetime(dt_yday)}\n",
    "summary = {**summary, **df_table[metrics].sum(), **s_ind, **s_us, **s_eu}"
   ]
  },
  {
   "cell_type": "code",
   "execution_count": 18,
   "id": "engaging-syndrome",
   "metadata": {
    "execution": {
     "iopub.execute_input": "2021-10-14T00:24:13.487384Z",
     "iopub.status.busy": "2021-10-14T00:24:13.486692Z",
     "iopub.status.idle": "2021-10-14T00:24:13.502153Z",
     "shell.execute_reply": "2021-10-14T00:24:13.502712Z"
    },
    "papermill": {
     "duration": 0.05968,
     "end_time": "2021-10-14T00:24:13.502874",
     "exception": false,
     "start_time": "2021-10-14T00:24:13.443194",
     "status": "completed"
    },
    "tags": []
   },
   "outputs": [],
   "source": [
    "#hide\n",
    "dft_ct_new_cases = dft_cases.groupby(COL_REGION)[dt_cols].sum().diff(axis=1).fillna(0).astype(int)"
   ]
  },
  {
   "cell_type": "code",
   "execution_count": 19,
   "id": "neutral-assignment",
   "metadata": {
    "execution": {
     "iopub.execute_input": "2021-10-14T00:24:13.588314Z",
     "iopub.status.busy": "2021-10-14T00:24:13.587581Z",
     "iopub.status.idle": "2021-10-14T00:24:13.590071Z",
     "shell.execute_reply": "2021-10-14T00:24:13.589447Z"
    },
    "papermill": {
     "duration": 0.048654,
     "end_time": "2021-10-14T00:24:13.590329",
     "exception": false,
     "start_time": "2021-10-14T00:24:13.541675",
     "status": "completed"
    },
    "tags": []
   },
   "outputs": [],
   "source": [
    "#hide\n",
    "everydaycases = dft_ct_new_cases.cumsum(axis=1)"
   ]
  },
  {
   "cell_type": "code",
   "execution_count": 20,
   "id": "parliamentary-calgary",
   "metadata": {
    "execution": {
     "iopub.execute_input": "2021-10-14T00:24:13.685245Z",
     "iopub.status.busy": "2021-10-14T00:24:13.684437Z",
     "iopub.status.idle": "2021-10-14T00:24:14.568905Z",
     "shell.execute_reply": "2021-10-14T00:24:14.568232Z"
    },
    "papermill": {
     "duration": 0.930581,
     "end_time": "2021-10-14T00:24:14.569104",
     "exception": false,
     "start_time": "2021-10-14T00:24:13.638523",
     "status": "completed"
    },
    "tags": []
   },
   "outputs": [],
   "source": [
    "#hide\n",
    "import pandas as pd\n",
    "import matplotlib.pyplot as plt\n",
    "import matplotlib.ticker as ticker\n",
    "import matplotlib.animation as animation\n",
    "from IPython.display import HTML"
   ]
  },
  {
   "cell_type": "code",
   "execution_count": 21,
   "id": "lasting-extraction",
   "metadata": {
    "execution": {
     "iopub.execute_input": "2021-10-14T00:24:14.665028Z",
     "iopub.status.busy": "2021-10-14T00:24:14.664285Z",
     "iopub.status.idle": "2021-10-14T00:24:14.671004Z",
     "shell.execute_reply": "2021-10-14T00:24:14.670153Z"
    },
    "papermill": {
     "duration": 0.053381,
     "end_time": "2021-10-14T00:24:14.671143",
     "exception": false,
     "start_time": "2021-10-14T00:24:14.617762",
     "status": "completed"
    },
    "tags": []
   },
   "outputs": [],
   "source": [
    "#hide\n",
    "t = everydaycases.stack()"
   ]
  },
  {
   "cell_type": "code",
   "execution_count": 22,
   "id": "premier-sleeve",
   "metadata": {
    "execution": {
     "iopub.execute_input": "2021-10-14T00:24:14.763490Z",
     "iopub.status.busy": "2021-10-14T00:24:14.762609Z",
     "iopub.status.idle": "2021-10-14T00:24:14.775238Z",
     "shell.execute_reply": "2021-10-14T00:24:14.774661Z"
    },
    "papermill": {
     "duration": 0.058067,
     "end_time": "2021-10-14T00:24:14.775384",
     "exception": false,
     "start_time": "2021-10-14T00:24:14.717317",
     "status": "completed"
    },
    "tags": []
   },
   "outputs": [],
   "source": [
    "#hide\n",
    "g = t.reset_index(['Country/Region'])"
   ]
  },
  {
   "cell_type": "code",
   "execution_count": 23,
   "id": "distributed-pittsburgh",
   "metadata": {
    "execution": {
     "iopub.execute_input": "2021-10-14T00:24:14.861923Z",
     "iopub.status.busy": "2021-10-14T00:24:14.860368Z",
     "iopub.status.idle": "2021-10-14T00:24:14.862619Z",
     "shell.execute_reply": "2021-10-14T00:24:14.863105Z"
    },
    "papermill": {
     "duration": 0.047521,
     "end_time": "2021-10-14T00:24:14.863285",
     "exception": false,
     "start_time": "2021-10-14T00:24:14.815764",
     "status": "completed"
    },
    "tags": []
   },
   "outputs": [],
   "source": [
    "#hide\n",
    "g.index.name = 'date'"
   ]
  },
  {
   "cell_type": "code",
   "execution_count": 24,
   "id": "naked-donor",
   "metadata": {
    "execution": {
     "iopub.execute_input": "2021-10-14T00:24:14.949036Z",
     "iopub.status.busy": "2021-10-14T00:24:14.947621Z",
     "iopub.status.idle": "2021-10-14T00:24:14.949852Z",
     "shell.execute_reply": "2021-10-14T00:24:14.950659Z"
    },
    "papermill": {
     "duration": 0.047246,
     "end_time": "2021-10-14T00:24:14.950877",
     "exception": false,
     "start_time": "2021-10-14T00:24:14.903631",
     "status": "completed"
    },
    "tags": []
   },
   "outputs": [],
   "source": [
    "# #hide\n",
    "# g = g.reset_index(['date'])"
   ]
  },
  {
   "cell_type": "code",
   "execution_count": 25,
   "id": "incomplete-mustang",
   "metadata": {
    "execution": {
     "iopub.execute_input": "2021-10-14T00:24:15.040451Z",
     "iopub.status.busy": "2021-10-14T00:24:15.038962Z",
     "iopub.status.idle": "2021-10-14T00:24:15.041290Z",
     "shell.execute_reply": "2021-10-14T00:24:15.041815Z"
    },
    "papermill": {
     "duration": 0.052127,
     "end_time": "2021-10-14T00:24:15.042036",
     "exception": false,
     "start_time": "2021-10-14T00:24:14.989909",
     "status": "completed"
    },
    "tags": []
   },
   "outputs": [],
   "source": [
    "#hide\n",
    "# g.head()"
   ]
  },
  {
   "cell_type": "code",
   "execution_count": 26,
   "id": "specific-kruger",
   "metadata": {
    "execution": {
     "iopub.execute_input": "2021-10-14T00:24:15.137439Z",
     "iopub.status.busy": "2021-10-14T00:24:15.136680Z",
     "iopub.status.idle": "2021-10-14T00:24:15.138636Z",
     "shell.execute_reply": "2021-10-14T00:24:15.139182Z"
    },
    "papermill": {
     "duration": 0.048135,
     "end_time": "2021-10-14T00:24:15.139341",
     "exception": false,
     "start_time": "2021-10-14T00:24:15.091206",
     "status": "completed"
    },
    "tags": []
   },
   "outputs": [],
   "source": [
    "#hide\n",
    "# g.columns = ['date','country','cases']"
   ]
  },
  {
   "cell_type": "code",
   "execution_count": 27,
   "id": "tender-conversion",
   "metadata": {
    "execution": {
     "iopub.execute_input": "2021-10-14T00:24:15.224713Z",
     "iopub.status.busy": "2021-10-14T00:24:15.223897Z",
     "iopub.status.idle": "2021-10-14T00:24:15.226588Z",
     "shell.execute_reply": "2021-10-14T00:24:15.225901Z"
    },
    "papermill": {
     "duration": 0.046157,
     "end_time": "2021-10-14T00:24:15.226759",
     "exception": false,
     "start_time": "2021-10-14T00:24:15.180602",
     "status": "completed"
    },
    "tags": []
   },
   "outputs": [],
   "source": [
    "#hide\n",
    "# g['continent'] = g.country"
   ]
  },
  {
   "cell_type": "code",
   "execution_count": 28,
   "id": "substantial-wilderness",
   "metadata": {
    "execution": {
     "iopub.execute_input": "2021-10-14T00:24:15.319750Z",
     "iopub.status.busy": "2021-10-14T00:24:15.319064Z",
     "iopub.status.idle": "2021-10-14T00:24:15.320785Z",
     "shell.execute_reply": "2021-10-14T00:24:15.321425Z"
    },
    "papermill": {
     "duration": 0.046385,
     "end_time": "2021-10-14T00:24:15.321571",
     "exception": false,
     "start_time": "2021-10-14T00:24:15.275186",
     "status": "completed"
    },
    "tags": []
   },
   "outputs": [],
   "source": [
    "#hide\n",
    "# cols = list(g.columns.values)"
   ]
  },
  {
   "cell_type": "code",
   "execution_count": 29,
   "id": "solved-farming",
   "metadata": {
    "execution": {
     "iopub.execute_input": "2021-10-14T00:24:15.404363Z",
     "iopub.status.busy": "2021-10-14T00:24:15.403672Z",
     "iopub.status.idle": "2021-10-14T00:24:15.405663Z",
     "shell.execute_reply": "2021-10-14T00:24:15.406208Z"
    },
    "papermill": {
     "duration": 0.045636,
     "end_time": "2021-10-14T00:24:15.406352",
     "exception": false,
     "start_time": "2021-10-14T00:24:15.360716",
     "status": "completed"
    },
    "tags": []
   },
   "outputs": [],
   "source": [
    "#hide\n",
    "# cols.insert(0, cols.pop())"
   ]
  },
  {
   "cell_type": "code",
   "execution_count": 30,
   "id": "executed-adoption",
   "metadata": {
    "execution": {
     "iopub.execute_input": "2021-10-14T00:24:15.489105Z",
     "iopub.status.busy": "2021-10-14T00:24:15.488415Z",
     "iopub.status.idle": "2021-10-14T00:24:15.491046Z",
     "shell.execute_reply": "2021-10-14T00:24:15.490268Z"
    },
    "papermill": {
     "duration": 0.04598,
     "end_time": "2021-10-14T00:24:15.491171",
     "exception": false,
     "start_time": "2021-10-14T00:24:15.445191",
     "status": "completed"
    },
    "tags": []
   },
   "outputs": [],
   "source": [
    "#hide\n",
    "# g = g[cols]"
   ]
  },
  {
   "cell_type": "code",
   "execution_count": 31,
   "id": "subject-dublin",
   "metadata": {
    "execution": {
     "iopub.execute_input": "2021-10-14T00:24:15.571565Z",
     "iopub.status.busy": "2021-10-14T00:24:15.570626Z",
     "iopub.status.idle": "2021-10-14T00:24:15.572798Z",
     "shell.execute_reply": "2021-10-14T00:24:15.573271Z"
    },
    "papermill": {
     "duration": 0.0446,
     "end_time": "2021-10-14T00:24:15.573412",
     "exception": false,
     "start_time": "2021-10-14T00:24:15.528812",
     "status": "completed"
    },
    "tags": []
   },
   "outputs": [],
   "source": [
    "#hide\n",
    "# g['continent'] = g['continent'].map(mapping['map.continent'])"
   ]
  },
  {
   "cell_type": "code",
   "execution_count": 32,
   "id": "freelance-scout",
   "metadata": {
    "execution": {
     "iopub.execute_input": "2021-10-14T00:24:15.655590Z",
     "iopub.status.busy": "2021-10-14T00:24:15.654931Z",
     "iopub.status.idle": "2021-10-14T00:24:15.657449Z",
     "shell.execute_reply": "2021-10-14T00:24:15.656826Z"
    },
    "papermill": {
     "duration": 0.044526,
     "end_time": "2021-10-14T00:24:15.657571",
     "exception": false,
     "start_time": "2021-10-14T00:24:15.613045",
     "status": "completed"
    },
    "tags": []
   },
   "outputs": [],
   "source": [
    "#hide\n",
    "# g.head()"
   ]
  },
  {
   "cell_type": "code",
   "execution_count": 33,
   "id": "limited-engine",
   "metadata": {
    "execution": {
     "iopub.execute_input": "2021-10-14T00:24:15.741974Z",
     "iopub.status.busy": "2021-10-14T00:24:15.741289Z",
     "iopub.status.idle": "2021-10-14T00:24:15.744081Z",
     "shell.execute_reply": "2021-10-14T00:24:15.743352Z"
    },
    "papermill": {
     "duration": 0.047256,
     "end_time": "2021-10-14T00:24:15.744253",
     "exception": false,
     "start_time": "2021-10-14T00:24:15.696997",
     "status": "completed"
    },
    "tags": []
   },
   "outputs": [],
   "source": [
    "# hide\n",
    "# g['date'] = g['date'].astype('datetime64[ns]')"
   ]
  },
  {
   "cell_type": "code",
   "execution_count": 34,
   "id": "sophisticated-supervisor",
   "metadata": {
    "execution": {
     "iopub.execute_input": "2021-10-14T00:24:15.828971Z",
     "iopub.status.busy": "2021-10-14T00:24:15.828308Z",
     "iopub.status.idle": "2021-10-14T00:24:15.830765Z",
     "shell.execute_reply": "2021-10-14T00:24:15.830195Z"
    },
    "papermill": {
     "duration": 0.047326,
     "end_time": "2021-10-14T00:24:15.830978",
     "exception": false,
     "start_time": "2021-10-14T00:24:15.783652",
     "status": "completed"
    },
    "tags": []
   },
   "outputs": [],
   "source": [
    "#hide\n",
    "# g['date'] = g.date.dt.dayofyear"
   ]
  },
  {
   "cell_type": "code",
   "execution_count": 35,
   "id": "inside-dubai",
   "metadata": {
    "execution": {
     "iopub.execute_input": "2021-10-14T00:24:15.917428Z",
     "iopub.status.busy": "2021-10-14T00:24:15.916706Z",
     "iopub.status.idle": "2021-10-14T00:24:15.919311Z",
     "shell.execute_reply": "2021-10-14T00:24:15.918741Z"
    },
    "papermill": {
     "duration": 0.047981,
     "end_time": "2021-10-14T00:24:15.919458",
     "exception": false,
     "start_time": "2021-10-14T00:24:15.871477",
     "status": "completed"
    },
    "tags": []
   },
   "outputs": [],
   "source": [
    "#hide\n",
    "# g = g.rename(columns= {'continent':'group','country':'name','cases':'value'})"
   ]
  },
  {
   "cell_type": "code",
   "execution_count": 36,
   "id": "fleet-motorcycle",
   "metadata": {
    "execution": {
     "iopub.execute_input": "2021-10-14T00:24:16.006887Z",
     "iopub.status.busy": "2021-10-14T00:24:16.005992Z",
     "iopub.status.idle": "2021-10-14T00:24:16.008367Z",
     "shell.execute_reply": "2021-10-14T00:24:16.008902Z"
    },
    "papermill": {
     "duration": 0.046343,
     "end_time": "2021-10-14T00:24:16.009045",
     "exception": false,
     "start_time": "2021-10-14T00:24:15.962702",
     "status": "completed"
    },
    "tags": []
   },
   "outputs": [],
   "source": [
    "#hide\n",
    "# cols = ['name','group','day','value']"
   ]
  },
  {
   "cell_type": "code",
   "execution_count": 37,
   "id": "continued-sleeping",
   "metadata": {
    "execution": {
     "iopub.execute_input": "2021-10-14T00:24:16.093071Z",
     "iopub.status.busy": "2021-10-14T00:24:16.092387Z",
     "iopub.status.idle": "2021-10-14T00:24:16.093936Z",
     "shell.execute_reply": "2021-10-14T00:24:16.094481Z"
    },
    "papermill": {
     "duration": 0.046751,
     "end_time": "2021-10-14T00:24:16.094624",
     "exception": false,
     "start_time": "2021-10-14T00:24:16.047873",
     "status": "completed"
    },
    "tags": []
   },
   "outputs": [],
   "source": [
    "#hide\n",
    "# g.rename(columns= {'date':'day'},inplace = True)"
   ]
  },
  {
   "cell_type": "code",
   "execution_count": 38,
   "id": "major-fight",
   "metadata": {
    "execution": {
     "iopub.execute_input": "2021-10-14T00:24:16.179289Z",
     "iopub.status.busy": "2021-10-14T00:24:16.178561Z",
     "iopub.status.idle": "2021-10-14T00:24:16.180326Z",
     "shell.execute_reply": "2021-10-14T00:24:16.180910Z"
    },
    "papermill": {
     "duration": 0.046669,
     "end_time": "2021-10-14T00:24:16.181064",
     "exception": false,
     "start_time": "2021-10-14T00:24:16.134395",
     "status": "completed"
    },
    "tags": []
   },
   "outputs": [],
   "source": [
    "#hide\n",
    "# g = g[cols]"
   ]
  },
  {
   "cell_type": "code",
   "execution_count": 39,
   "id": "structured-mobile",
   "metadata": {
    "execution": {
     "iopub.execute_input": "2021-10-14T00:24:16.265350Z",
     "iopub.status.busy": "2021-10-14T00:24:16.264659Z",
     "iopub.status.idle": "2021-10-14T00:24:16.267247Z",
     "shell.execute_reply": "2021-10-14T00:24:16.266632Z"
    },
    "papermill": {
     "duration": 0.047396,
     "end_time": "2021-10-14T00:24:16.267380",
     "exception": false,
     "start_time": "2021-10-14T00:24:16.219984",
     "status": "completed"
    },
    "tags": []
   },
   "outputs": [],
   "source": [
    "# #hide\n",
    "# g = g[g.group.notna()]"
   ]
  },
  {
   "cell_type": "code",
   "execution_count": 40,
   "id": "determined-closing",
   "metadata": {
    "execution": {
     "iopub.execute_input": "2021-10-14T00:24:16.352286Z",
     "iopub.status.busy": "2021-10-14T00:24:16.351545Z",
     "iopub.status.idle": "2021-10-14T00:24:16.353232Z",
     "shell.execute_reply": "2021-10-14T00:24:16.353779Z"
    },
    "papermill": {
     "duration": 0.04676,
     "end_time": "2021-10-14T00:24:16.353925",
     "exception": false,
     "start_time": "2021-10-14T00:24:16.307165",
     "status": "completed"
    },
    "tags": []
   },
   "outputs": [],
   "source": [
    "# #hide\n",
    "# colors = dict(zip(\n",
    "#     [\"Oceania\", \"Europe\", \"Asia\", \"South America\", \"Middle East\", \"North America\", \"Africa\"],\n",
    "#     [\"#adb0ff\", \"#ffb3ff\", \"#90d595\", \"#e48381\", \"#aafbff\", \"#f7bb5f\", \"#eafb50\"]\n",
    "# ))\n",
    "# group_lk = g.set_index('name')['group'].to_dict()"
   ]
  },
  {
   "cell_type": "code",
   "execution_count": null,
   "id": "gross-drinking",
   "metadata": {
    "papermill": {
     "duration": 0.040879,
     "end_time": "2021-10-14T00:24:16.433442",
     "exception": false,
     "start_time": "2021-10-14T00:24:16.392563",
     "status": "completed"
    },
    "tags": []
   },
   "outputs": [],
   "source": []
  },
  {
   "cell_type": "code",
   "execution_count": 41,
   "id": "subject-macintosh",
   "metadata": {
    "execution": {
     "iopub.execute_input": "2021-10-14T00:24:16.527101Z",
     "iopub.status.busy": "2021-10-14T00:24:16.526436Z",
     "iopub.status.idle": "2021-10-14T00:24:16.528352Z",
     "shell.execute_reply": "2021-10-14T00:24:16.528876Z"
    },
    "papermill": {
     "duration": 0.047555,
     "end_time": "2021-10-14T00:24:16.529025",
     "exception": false,
     "start_time": "2021-10-14T00:24:16.481470",
     "status": "completed"
    },
    "tags": []
   },
   "outputs": [],
   "source": [
    "# #hide\n",
    "# fig, ax = plt.subplots(figsize=(15, 8))\n",
    "\n",
    "# def draw_barchart(current_day):\n",
    "#     dff = g[g['day'].eq(current_day)].sort_values(by='value', ascending=True).tail(10)\n",
    "#     ax.clear()\n",
    "#     ax.barh(dff['name'], dff['value'], color=[colors[group_lk[x]] for x in dff['name']])\n",
    "#     dx = dff['value'].max() / 200\n",
    "    \n",
    "#     for i, (value, name) in enumerate(zip(dff['value'], dff['name'])):\n",
    "#         ax.text(value-dx, i,     name,           size=14, weight=600, ha='right', va='bottom')\n",
    "#         ax.text(value-dx, i-.25, group_lk[name], size=10, color='#444444', ha='right', va='baseline')\n",
    "#         ax.text(value+dx, i,     f'{value:,.0f}',  size=14, ha='left',  va='center')\n",
    "#     ax.text(1, 0.4, current_day, transform=ax.transAxes, color='#777777', size=46, ha='right', weight=800)\n",
    "#     ax.text(0, 1.06, 'Population (thousands)', transform=ax.transAxes, size=12, color='#777777')\n",
    "#     ax.xaxis.set_major_formatter(ticker.StrMethodFormatter('{x:,.0f}'))\n",
    "#     ax.xaxis.set_ticks_position('top')\n",
    "#     ax.tick_params(axis='x', colors='#777777', labelsize=12)\n",
    "#     ax.set_yticks([])\n",
    "#     ax.margins(0, 0.01)\n",
    "#     ax.grid(which='major', axis='x', linestyle='-')\n",
    "#     ax.set_axisbelow(True)\n",
    "    \n",
    "#     ax.text(0, 1.15, 'Coronavirus',\n",
    "#             transform=ax.transAxes, size=24, weight=600, ha='left', va='top')\n",
    "# #     ax.text(1, 0, 'by @pratapvardhan; credit @jburnmurdoch', transform=ax.transAxes, color='#777777', ha='right',\n",
    "# #             bbox=dict(facecolor='white', alpha=0.8, edgecolor='white'))\n",
    "#     plt.box(False)"
   ]
  },
  {
   "cell_type": "code",
   "execution_count": 42,
   "id": "sexual-wages",
   "metadata": {
    "execution": {
     "iopub.execute_input": "2021-10-14T00:24:16.613205Z",
     "iopub.status.busy": "2021-10-14T00:24:16.612329Z",
     "iopub.status.idle": "2021-10-14T00:24:16.615454Z",
     "shell.execute_reply": "2021-10-14T00:24:16.614929Z"
    },
    "papermill": {
     "duration": 0.047497,
     "end_time": "2021-10-14T00:24:16.615580",
     "exception": false,
     "start_time": "2021-10-14T00:24:16.568083",
     "status": "completed"
    },
    "tags": []
   },
   "outputs": [],
   "source": [
    "# #hide_input\n",
    "# fig, ax = plt.subplots(figsize=(15, 8))\n",
    "# animator = animation.FuncAnimation(fig, draw_barchart, frames=range(g.day.values.min(), g.day.values.max()))\n",
    "# HTML(animator.to_jshtml())\n",
    "# # or use animator.to_html5_video() or animator.save() "
   ]
  },
  {
   "cell_type": "code",
   "execution_count": null,
   "id": "australian-container",
   "metadata": {
    "papermill": {
     "duration": 0.038306,
     "end_time": "2021-10-14T00:24:16.694618",
     "exception": false,
     "start_time": "2021-10-14T00:24:16.656312",
     "status": "completed"
    },
    "tags": []
   },
   "outputs": [],
   "source": []
  },
  {
   "cell_type": "code",
   "execution_count": null,
   "id": "mediterranean-pontiac",
   "metadata": {
    "papermill": {
     "duration": 0.045383,
     "end_time": "2021-10-14T00:24:16.778095",
     "exception": false,
     "start_time": "2021-10-14T00:24:16.732712",
     "status": "completed"
    },
    "tags": []
   },
   "outputs": [],
   "source": []
  },
  {
   "cell_type": "code",
   "execution_count": null,
   "id": "aging-legislature",
   "metadata": {
    "papermill": {
     "duration": 0.038717,
     "end_time": "2021-10-14T00:24:16.856485",
     "exception": false,
     "start_time": "2021-10-14T00:24:16.817768",
     "status": "completed"
    },
    "tags": []
   },
   "outputs": [],
   "source": []
  }
 ],
 "metadata": {
  "kernelspec": {
   "display_name": "Python 3",
   "language": "python",
   "name": "python3"
  },
  "language_info": {
   "codemirror_mode": {
    "name": "ipython",
    "version": 3
   },
   "file_extension": ".py",
   "mimetype": "text/x-python",
   "name": "python",
   "nbconvert_exporter": "python",
   "pygments_lexer": "ipython3",
   "version": "3.6.15"
  },
  "papermill": {
   "duration": 7.559814,
   "end_time": "2021-10-14T00:24:17.206879",
   "environment_variables": {},
   "exception": null,
   "input_path": "2020-03-21-covid19exp.ipynb",
   "output_path": "2020-03-21-covid19exp.ipynb",
   "parameters": {},
   "start_time": "2021-10-14T00:24:09.647065",
   "version": "2.0.0"
  }
 },
 "nbformat": 4,
 "nbformat_minor": 5
}