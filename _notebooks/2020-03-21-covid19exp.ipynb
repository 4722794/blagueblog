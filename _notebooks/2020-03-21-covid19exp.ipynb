{
 "cells": [
  {
   "cell_type": "markdown",
   "metadata": {
    "papermill": {
     "duration": 0.03488,
     "end_time": "2020-12-09T12:07:23.400482",
     "exception": false,
     "start_time": "2020-12-09T12:07:23.365602",
     "status": "completed"
    },
    "tags": []
   },
   "source": [
    "# COVID-19 Case Race\n",
    "> A race chart to see rising cases around the world\n",
    "\n",
    "- author: Hargun Oberoi\n",
    "- image: images/covid-overview.png\n",
    "- hide: false\n",
    "- badges: false"
   ]
  },
  {
   "cell_type": "code",
   "execution_count": 1,
   "metadata": {
    "execution": {
     "iopub.execute_input": "2020-12-09T12:07:23.469229Z",
     "iopub.status.busy": "2020-12-09T12:07:23.468616Z",
     "iopub.status.idle": "2020-12-09T12:07:23.875469Z",
     "shell.execute_reply": "2020-12-09T12:07:23.874846Z"
    },
    "papermill": {
     "duration": 0.442651,
     "end_time": "2020-12-09T12:07:23.875643",
     "exception": false,
     "start_time": "2020-12-09T12:07:23.432992",
     "status": "completed"
    },
    "tags": []
   },
   "outputs": [],
   "source": [
    "#hide\n",
    "import numpy as np\n",
    "import pandas as pd\n",
    "from jinja2 import Template\n",
    "from IPython.display import HTML"
   ]
  },
  {
   "cell_type": "code",
   "execution_count": 2,
   "metadata": {
    "execution": {
     "iopub.execute_input": "2020-12-09T12:07:23.949100Z",
     "iopub.status.busy": "2020-12-09T12:07:23.948464Z",
     "iopub.status.idle": "2020-12-09T12:07:23.951034Z",
     "shell.execute_reply": "2020-12-09T12:07:23.950506Z"
    },
    "papermill": {
     "duration": 0.044058,
     "end_time": "2020-12-09T12:07:23.951169",
     "exception": false,
     "start_time": "2020-12-09T12:07:23.907111",
     "status": "completed"
    },
    "tags": []
   },
   "outputs": [],
   "source": [
    "#hide\n",
    "\n",
    "# FETCH\n",
    "base_url = 'https://raw.githubusercontent.com/pratapvardhan/notebooks/master/covid19/'\n",
    "paths = {\n",
    "    'mapping': base_url + 'mapping_countries.csv',\n",
    "    'overview': base_url + 'overview.tpl'\n",
    "}"
   ]
  },
  {
   "cell_type": "code",
   "execution_count": 3,
   "metadata": {
    "execution": {
     "iopub.execute_input": "2020-12-09T12:07:24.023659Z",
     "iopub.status.busy": "2020-12-09T12:07:24.020987Z",
     "iopub.status.idle": "2020-12-09T12:07:24.026750Z",
     "shell.execute_reply": "2020-12-09T12:07:24.026257Z"
    },
    "papermill": {
     "duration": 0.045451,
     "end_time": "2020-12-09T12:07:24.026891",
     "exception": false,
     "start_time": "2020-12-09T12:07:23.981440",
     "status": "completed"
    },
    "tags": []
   },
   "outputs": [
    {
     "data": {
      "text/plain": [
       "'https://raw.githubusercontent.com/pratapvardhan/notebooks/master/covid19/mapping_countries.csv'"
      ]
     },
     "execution_count": 3,
     "metadata": {},
     "output_type": "execute_result"
    }
   ],
   "source": [
    "#hide\n",
    "paths['mapping']"
   ]
  },
  {
   "cell_type": "code",
   "execution_count": 4,
   "metadata": {
    "execution": {
     "iopub.execute_input": "2020-12-09T12:07:24.099645Z",
     "iopub.status.busy": "2020-12-09T12:07:24.098917Z",
     "iopub.status.idle": "2020-12-09T12:07:24.100329Z",
     "shell.execute_reply": "2020-12-09T12:07:24.100894Z"
    },
    "papermill": {
     "duration": 0.042017,
     "end_time": "2020-12-09T12:07:24.101120",
     "exception": false,
     "start_time": "2020-12-09T12:07:24.059103",
     "status": "completed"
    },
    "tags": []
   },
   "outputs": [],
   "source": [
    "#hide\n",
    "def get_mappings(url):\n",
    "    df = pd.read_csv(url)\n",
    "    return {\n",
    "        'df': df,\n",
    "        'replace.country': dict(df.dropna(subset=['Name']).set_index('Country')['Name']),\n",
    "        'map.continent': dict(df.set_index('Name')['Continent'])\n",
    "    }"
   ]
  },
  {
   "cell_type": "code",
   "execution_count": 5,
   "metadata": {
    "execution": {
     "iopub.execute_input": "2020-12-09T12:07:24.170021Z",
     "iopub.status.busy": "2020-12-09T12:07:24.169402Z",
     "iopub.status.idle": "2020-12-09T12:07:24.249060Z",
     "shell.execute_reply": "2020-12-09T12:07:24.249550Z"
    },
    "papermill": {
     "duration": 0.118282,
     "end_time": "2020-12-09T12:07:24.249730",
     "exception": false,
     "start_time": "2020-12-09T12:07:24.131448",
     "status": "completed"
    },
    "tags": []
   },
   "outputs": [],
   "source": [
    "#hide\n",
    "mapping = get_mappings(paths['mapping'])"
   ]
  },
  {
   "cell_type": "code",
   "execution_count": 6,
   "metadata": {
    "execution": {
     "iopub.execute_input": "2020-12-09T12:07:24.317737Z",
     "iopub.status.busy": "2020-12-09T12:07:24.317101Z",
     "iopub.status.idle": "2020-12-09T12:07:24.319393Z",
     "shell.execute_reply": "2020-12-09T12:07:24.318906Z"
    },
    "papermill": {
     "duration": 0.038435,
     "end_time": "2020-12-09T12:07:24.319531",
     "exception": false,
     "start_time": "2020-12-09T12:07:24.281096",
     "status": "completed"
    },
    "tags": []
   },
   "outputs": [],
   "source": [
    "#hide\n",
    "def get_template(path):\n",
    "    from urllib.parse import urlparse\n",
    "    if bool(urlparse(path).netloc):\n",
    "        from urllib.request import urlopen\n",
    "        return urlopen(path).read().decode('utf8')\n",
    "    return open(path).read()"
   ]
  },
  {
   "cell_type": "code",
   "execution_count": 7,
   "metadata": {
    "execution": {
     "iopub.execute_input": "2020-12-09T12:07:24.386622Z",
     "iopub.status.busy": "2020-12-09T12:07:24.385916Z",
     "iopub.status.idle": "2020-12-09T12:07:24.389002Z",
     "shell.execute_reply": "2020-12-09T12:07:24.389585Z"
    },
    "papermill": {
     "duration": 0.039508,
     "end_time": "2020-12-09T12:07:24.389752",
     "exception": false,
     "start_time": "2020-12-09T12:07:24.350244",
     "status": "completed"
    },
    "tags": []
   },
   "outputs": [],
   "source": [
    "#hide\n",
    "def get_frame(name):\n",
    "    url = (\n",
    "        'https://raw.githubusercontent.com/CSSEGISandData/COVID-19/master/csse_covid_19_data/'\n",
    "        f'csse_covid_19_time_series/time_series_covid19_{name}_global.csv')\n",
    "    df = pd.read_csv(url)\n",
    "    # rename countries\n",
    "    df['Country/Region'] = df['Country/Region'].replace(mapping['replace.country'])\n",
    "    return df"
   ]
  },
  {
   "cell_type": "code",
   "execution_count": 8,
   "metadata": {
    "execution": {
     "iopub.execute_input": "2020-12-09T12:07:24.463146Z",
     "iopub.status.busy": "2020-12-09T12:07:24.462526Z",
     "iopub.status.idle": "2020-12-09T12:07:24.464771Z",
     "shell.execute_reply": "2020-12-09T12:07:24.464265Z"
    },
    "papermill": {
     "duration": 0.044266,
     "end_time": "2020-12-09T12:07:24.464906",
     "exception": false,
     "start_time": "2020-12-09T12:07:24.420640",
     "status": "completed"
    },
    "tags": []
   },
   "outputs": [],
   "source": [
    "#hide\n",
    "def get_dates(df):\n",
    "    dt_cols = df.columns[~df.columns.isin(['Province/State', 'Country/Region', 'Lat', 'Long'])]\n",
    "    LAST_DATE_I = -1\n",
    "    # sometimes last column may be empty, then go backwards\n",
    "    for i in range(-1, -len(dt_cols), -1):\n",
    "        if not df[dt_cols[i]].fillna(0).eq(0).all():\n",
    "            LAST_DATE_I = i\n",
    "            break\n",
    "    return LAST_DATE_I, dt_cols"
   ]
  },
  {
   "cell_type": "code",
   "execution_count": 9,
   "metadata": {
    "execution": {
     "iopub.execute_input": "2020-12-09T12:07:24.540970Z",
     "iopub.status.busy": "2020-12-09T12:07:24.540103Z",
     "iopub.status.idle": "2020-12-09T12:07:25.042705Z",
     "shell.execute_reply": "2020-12-09T12:07:25.039431Z"
    },
    "papermill": {
     "duration": 0.539715,
     "end_time": "2020-12-09T12:07:25.042913",
     "exception": false,
     "start_time": "2020-12-09T12:07:24.503198",
     "status": "completed"
    },
    "tags": []
   },
   "outputs": [],
   "source": [
    "#hide\n",
    "COL_REGION = 'Country/Region'\n",
    "# Confirmed, Recovered, Deaths\n",
    "df = get_frame('confirmed')\n",
    "# dft_: timeseries, dfc_: today country agg\n",
    "dft_cases = df\n",
    "dft_deaths = get_frame('deaths')\n",
    "dft_recovered = get_frame('recovered')\n",
    "LAST_DATE_I, dt_cols = get_dates(df)"
   ]
  },
  {
   "cell_type": "code",
   "execution_count": 10,
   "metadata": {
    "execution": {
     "iopub.execute_input": "2020-12-09T12:07:25.127465Z",
     "iopub.status.busy": "2020-12-09T12:07:25.126830Z",
     "iopub.status.idle": "2020-12-09T12:07:25.129709Z",
     "shell.execute_reply": "2020-12-09T12:07:25.129093Z"
    },
    "papermill": {
     "duration": 0.050801,
     "end_time": "2020-12-09T12:07:25.129868",
     "exception": false,
     "start_time": "2020-12-09T12:07:25.079067",
     "status": "completed"
    },
    "tags": []
   },
   "outputs": [],
   "source": [
    "#hide\n",
    "LAST_DATE_I, dt_cols = get_dates(df)\n",
    "dt_today =dt_cols[LAST_DATE_I]\n",
    "# dt_5day = dt_cols[LAST_DATE_I - 5]\n",
    "dt_yday = dt_cols[LAST_DATE_I - 1]"
   ]
  },
  {
   "cell_type": "code",
   "execution_count": 11,
   "metadata": {
    "execution": {
     "iopub.execute_input": "2020-12-09T12:07:25.199864Z",
     "iopub.status.busy": "2020-12-09T12:07:25.199243Z",
     "iopub.status.idle": "2020-12-09T12:07:25.207160Z",
     "shell.execute_reply": "2020-12-09T12:07:25.206670Z"
    },
    "papermill": {
     "duration": 0.045262,
     "end_time": "2020-12-09T12:07:25.207305",
     "exception": false,
     "start_time": "2020-12-09T12:07:25.162043",
     "status": "completed"
    },
    "tags": []
   },
   "outputs": [],
   "source": [
    "#hide\n",
    "dfc_cases = dft_cases.groupby(COL_REGION)[dt_today].sum()\n",
    "dfc_deaths = dft_deaths.groupby(COL_REGION)[dt_today].sum()\n",
    "# dfp_cases = dft_cases.groupby(COL_REGION)[dt_5day].sum()\n",
    "# dfp_deaths = dft_deaths.groupby(COL_REGION)[dt_5day].sum()\n",
    "dfp_cases = dft_cases.groupby(COL_REGION)[dt_yday].sum()\n",
    "dfp_deaths = dft_deaths.groupby(COL_REGION)[dt_yday].sum()"
   ]
  },
  {
   "cell_type": "code",
   "execution_count": 12,
   "metadata": {
    "execution": {
     "iopub.execute_input": "2020-12-09T12:07:25.280932Z",
     "iopub.status.busy": "2020-12-09T12:07:25.280321Z",
     "iopub.status.idle": "2020-12-09T12:07:25.285123Z",
     "shell.execute_reply": "2020-12-09T12:07:25.285576Z"
    },
    "papermill": {
     "duration": 0.042946,
     "end_time": "2020-12-09T12:07:25.285734",
     "exception": false,
     "start_time": "2020-12-09T12:07:25.242788",
     "status": "completed"
    },
    "tags": []
   },
   "outputs": [],
   "source": [
    "#hide\n",
    "df_table = (pd.DataFrame(dict(Cases = dfc_cases, Deaths = dfc_deaths, PCases = dfp_cases, PDeaths = dfp_deaths))\n",
    "            .sort_values(by = ['Cases','Deaths'], ascending = [False, False])\n",
    "            .reset_index())"
   ]
  },
  {
   "cell_type": "code",
   "execution_count": 13,
   "metadata": {
    "execution": {
     "iopub.execute_input": "2020-12-09T12:07:25.361803Z",
     "iopub.status.busy": "2020-12-09T12:07:25.361188Z",
     "iopub.status.idle": "2020-12-09T12:07:25.380481Z",
     "shell.execute_reply": "2020-12-09T12:07:25.381138Z"
    },
    "papermill": {
     "duration": 0.060566,
     "end_time": "2020-12-09T12:07:25.381322",
     "exception": false,
     "start_time": "2020-12-09T12:07:25.320756",
     "status": "completed"
    },
    "tags": []
   },
   "outputs": [
    {
     "data": {
      "text/html": [
       "<div>\n",
       "<style scoped>\n",
       "    .dataframe tbody tr th:only-of-type {\n",
       "        vertical-align: middle;\n",
       "    }\n",
       "\n",
       "    .dataframe tbody tr th {\n",
       "        vertical-align: top;\n",
       "    }\n",
       "\n",
       "    .dataframe thead th {\n",
       "        text-align: right;\n",
       "    }\n",
       "</style>\n",
       "<table border=\"1\" class=\"dataframe\">\n",
       "  <thead>\n",
       "    <tr style=\"text-align: right;\">\n",
       "      <th></th>\n",
       "      <th>Country/Region</th>\n",
       "      <th>Cases</th>\n",
       "      <th>Deaths</th>\n",
       "      <th>PCases</th>\n",
       "      <th>PDeaths</th>\n",
       "      <th>Cases (+)</th>\n",
       "      <th>Deaths (+)</th>\n",
       "      <th>Fatality Rate</th>\n",
       "      <th>Continent</th>\n",
       "    </tr>\n",
       "  </thead>\n",
       "  <tbody>\n",
       "    <tr>\n",
       "      <th>0</th>\n",
       "      <td>US</td>\n",
       "      <td>15165159</td>\n",
       "      <td>286249</td>\n",
       "      <td>14949299</td>\n",
       "      <td>283703</td>\n",
       "      <td>215860</td>\n",
       "      <td>2546</td>\n",
       "      <td>1.89</td>\n",
       "      <td>North America</td>\n",
       "    </tr>\n",
       "    <tr>\n",
       "      <th>1</th>\n",
       "      <td>India</td>\n",
       "      <td>9735850</td>\n",
       "      <td>141360</td>\n",
       "      <td>9703770</td>\n",
       "      <td>140958</td>\n",
       "      <td>32080</td>\n",
       "      <td>402</td>\n",
       "      <td>1.45</td>\n",
       "      <td>Asia</td>\n",
       "    </tr>\n",
       "    <tr>\n",
       "      <th>2</th>\n",
       "      <td>Brazil</td>\n",
       "      <td>6674999</td>\n",
       "      <td>178159</td>\n",
       "      <td>6623911</td>\n",
       "      <td>177317</td>\n",
       "      <td>51088</td>\n",
       "      <td>842</td>\n",
       "      <td>2.67</td>\n",
       "      <td>South America</td>\n",
       "    </tr>\n",
       "    <tr>\n",
       "      <th>3</th>\n",
       "      <td>Russia</td>\n",
       "      <td>2492713</td>\n",
       "      <td>43674</td>\n",
       "      <td>2466961</td>\n",
       "      <td>43122</td>\n",
       "      <td>25752</td>\n",
       "      <td>552</td>\n",
       "      <td>1.75</td>\n",
       "      <td>Europe</td>\n",
       "    </tr>\n",
       "    <tr>\n",
       "      <th>4</th>\n",
       "      <td>France</td>\n",
       "      <td>2363196</td>\n",
       "      <td>56453</td>\n",
       "      <td>2349059</td>\n",
       "      <td>55613</td>\n",
       "      <td>14137</td>\n",
       "      <td>840</td>\n",
       "      <td>2.39</td>\n",
       "      <td>Europe</td>\n",
       "    </tr>\n",
       "  </tbody>\n",
       "</table>\n",
       "</div>"
      ],
      "text/plain": [
       "  Country/Region     Cases  Deaths    PCases  PDeaths  Cases (+)  Deaths (+)  \\\n",
       "0             US  15165159  286249  14949299   283703     215860        2546   \n",
       "1          India   9735850  141360   9703770   140958      32080         402   \n",
       "2         Brazil   6674999  178159   6623911   177317      51088         842   \n",
       "3         Russia   2492713   43674   2466961    43122      25752         552   \n",
       "4         France   2363196   56453   2349059    55613      14137         840   \n",
       "\n",
       "   Fatality Rate      Continent  \n",
       "0           1.89  North America  \n",
       "1           1.45           Asia  \n",
       "2           2.67  South America  \n",
       "3           1.75         Europe  \n",
       "4           2.39         Europe  "
      ]
     },
     "execution_count": 13,
     "metadata": {},
     "output_type": "execute_result"
    }
   ],
   "source": [
    "#hide\n",
    "for c in 'Cases, Deaths'.split(', '):\n",
    "    df_table[f'{c} (+)'] = (df_table[c] - df_table[f'P{c}']).clip(0)\n",
    "    #Clip ça veut dire, les chiffres negatif sont interdit\n",
    "df_table['Fatality Rate'] = (100* df_table['Deaths']/ df_table['Cases']).round(2)\n",
    "df_table['Continent'] = df_table['Country/Region'].map(mapping['map.continent'])\n",
    "df_table.head(5)"
   ]
  },
  {
   "cell_type": "code",
   "execution_count": 14,
   "metadata": {
    "execution": {
     "iopub.execute_input": "2020-12-09T12:07:25.456018Z",
     "iopub.status.busy": "2020-12-09T12:07:25.455395Z",
     "iopub.status.idle": "2020-12-09T12:07:25.457741Z",
     "shell.execute_reply": "2020-12-09T12:07:25.457253Z"
    },
    "papermill": {
     "duration": 0.04454,
     "end_time": "2020-12-09T12:07:25.457874",
     "exception": false,
     "start_time": "2020-12-09T12:07:25.413334",
     "status": "completed"
    },
    "tags": []
   },
   "outputs": [],
   "source": [
    "#hide\n",
    "#delete problematic countries from table\n",
    "df_table = df_table[~df_table['Country/Region'].isin(['Cape Verde', 'Cruise Ship', 'Kosovo'])]"
   ]
  },
  {
   "cell_type": "code",
   "execution_count": 15,
   "metadata": {
    "execution": {
     "iopub.execute_input": "2020-12-09T12:07:25.530025Z",
     "iopub.status.busy": "2020-12-09T12:07:25.529410Z",
     "iopub.status.idle": "2020-12-09T12:07:25.549769Z",
     "shell.execute_reply": "2020-12-09T12:07:25.549242Z"
    },
    "papermill": {
     "duration": 0.061296,
     "end_time": "2020-12-09T12:07:25.549913",
     "exception": false,
     "start_time": "2020-12-09T12:07:25.488617",
     "status": "completed"
    },
    "tags": []
   },
   "outputs": [
    {
     "data": {
      "text/html": [
       "<div>\n",
       "<style scoped>\n",
       "    .dataframe tbody tr th:only-of-type {\n",
       "        vertical-align: middle;\n",
       "    }\n",
       "\n",
       "    .dataframe tbody tr th {\n",
       "        vertical-align: top;\n",
       "    }\n",
       "\n",
       "    .dataframe thead th {\n",
       "        text-align: right;\n",
       "    }\n",
       "</style>\n",
       "<table border=\"1\" class=\"dataframe\">\n",
       "  <thead>\n",
       "    <tr style=\"text-align: right;\">\n",
       "      <th></th>\n",
       "      <th>Country/Region</th>\n",
       "      <th>Cases</th>\n",
       "      <th>Deaths</th>\n",
       "      <th>PCases</th>\n",
       "      <th>PDeaths</th>\n",
       "      <th>Cases (+)</th>\n",
       "      <th>Deaths (+)</th>\n",
       "      <th>Fatality Rate</th>\n",
       "      <th>Continent</th>\n",
       "    </tr>\n",
       "  </thead>\n",
       "  <tbody>\n",
       "    <tr>\n",
       "      <th>0</th>\n",
       "      <td>US</td>\n",
       "      <td>15165159</td>\n",
       "      <td>286249</td>\n",
       "      <td>14949299</td>\n",
       "      <td>283703</td>\n",
       "      <td>215860</td>\n",
       "      <td>2546</td>\n",
       "      <td>1.9</td>\n",
       "      <td>North America</td>\n",
       "    </tr>\n",
       "    <tr>\n",
       "      <th>1</th>\n",
       "      <td>India</td>\n",
       "      <td>9735850</td>\n",
       "      <td>141360</td>\n",
       "      <td>9703770</td>\n",
       "      <td>140958</td>\n",
       "      <td>32080</td>\n",
       "      <td>402</td>\n",
       "      <td>1.5</td>\n",
       "      <td>Asia</td>\n",
       "    </tr>\n",
       "    <tr>\n",
       "      <th>2</th>\n",
       "      <td>Brazil</td>\n",
       "      <td>6674999</td>\n",
       "      <td>178159</td>\n",
       "      <td>6623911</td>\n",
       "      <td>177317</td>\n",
       "      <td>51088</td>\n",
       "      <td>842</td>\n",
       "      <td>2.7</td>\n",
       "      <td>South America</td>\n",
       "    </tr>\n",
       "    <tr>\n",
       "      <th>3</th>\n",
       "      <td>Russia</td>\n",
       "      <td>2492713</td>\n",
       "      <td>43674</td>\n",
       "      <td>2466961</td>\n",
       "      <td>43122</td>\n",
       "      <td>25752</td>\n",
       "      <td>552</td>\n",
       "      <td>1.8</td>\n",
       "      <td>Europe</td>\n",
       "    </tr>\n",
       "    <tr>\n",
       "      <th>4</th>\n",
       "      <td>France</td>\n",
       "      <td>2363196</td>\n",
       "      <td>56453</td>\n",
       "      <td>2349059</td>\n",
       "      <td>55613</td>\n",
       "      <td>14137</td>\n",
       "      <td>840</td>\n",
       "      <td>2.4</td>\n",
       "      <td>Europe</td>\n",
       "    </tr>\n",
       "  </tbody>\n",
       "</table>\n",
       "</div>"
      ],
      "text/plain": [
       "  Country/Region     Cases  Deaths    PCases  PDeaths  Cases (+)  Deaths (+)  \\\n",
       "0             US  15165159  286249  14949299   283703     215860        2546   \n",
       "1          India   9735850  141360   9703770   140958      32080         402   \n",
       "2         Brazil   6674999  178159   6623911   177317      51088         842   \n",
       "3         Russia   2492713   43674   2466961    43122      25752         552   \n",
       "4         France   2363196   56453   2349059    55613      14137         840   \n",
       "\n",
       "   Fatality Rate      Continent  \n",
       "0            1.9  North America  \n",
       "1            1.5           Asia  \n",
       "2            2.7  South America  \n",
       "3            1.8         Europe  \n",
       "4            2.4         Europe  "
      ]
     },
     "execution_count": 15,
     "metadata": {},
     "output_type": "execute_result"
    }
   ],
   "source": [
    "#hide\n",
    "df_table = (pd.DataFrame(dict(Cases=dfc_cases, Deaths=dfc_deaths, PCases=dfp_cases, PDeaths=dfp_deaths))\n",
    "             .sort_values(by=['Cases', 'Deaths'], ascending=[False, False])\n",
    "             .reset_index())\n",
    "df_table.rename(columns={'index': 'Country/Region'}, inplace=True)\n",
    "for c in 'Cases, Deaths'.split(', '):\n",
    "    df_table[f'{c} (+)'] = (df_table[c] - df_table[f'P{c}']).clip(0)  # DATA BUG\n",
    "df_table['Fatality Rate'] = (100 * df_table['Deaths'] / df_table['Cases']).round(1)\n",
    "df_table['Continent'] = df_table['Country/Region'].map(mapping['map.continent'])\n",
    "df_table.head(5)"
   ]
  },
  {
   "cell_type": "code",
   "execution_count": 16,
   "metadata": {
    "execution": {
     "iopub.execute_input": "2020-12-09T12:07:25.620485Z",
     "iopub.status.busy": "2020-12-09T12:07:25.619870Z",
     "iopub.status.idle": "2020-12-09T12:07:25.622291Z",
     "shell.execute_reply": "2020-12-09T12:07:25.621760Z"
    },
    "papermill": {
     "duration": 0.04089,
     "end_time": "2020-12-09T12:07:25.622437",
     "exception": false,
     "start_time": "2020-12-09T12:07:25.581547",
     "status": "completed"
    },
    "tags": []
   },
   "outputs": [],
   "source": [
    "#hide\n",
    "#delete problematic countries from table\n",
    "df_table = df_table[~df_table['Country/Region'].isin(['Cape Verde', 'Cruise Ship', 'Kosovo'])]"
   ]
  },
  {
   "cell_type": "code",
   "execution_count": 17,
   "metadata": {
    "execution": {
     "iopub.execute_input": "2020-12-09T12:07:25.708387Z",
     "iopub.status.busy": "2020-12-09T12:07:25.707750Z",
     "iopub.status.idle": "2020-12-09T12:07:25.709408Z",
     "shell.execute_reply": "2020-12-09T12:07:25.709891Z"
    },
    "papermill": {
     "duration": 0.055323,
     "end_time": "2020-12-09T12:07:25.710051",
     "exception": false,
     "start_time": "2020-12-09T12:07:25.654728",
     "status": "completed"
    },
    "tags": []
   },
   "outputs": [],
   "source": [
    "#hide\n",
    "metrics = [df_table.columns[index] for index in [1,2,5,6]]\n",
    "# s_china = df_table[df_table['Country/Region'].eq('China')][metrics].sum().add_prefix('China ')\n",
    "s_us = df_table[df_table['Country/Region'].eq('US')][metrics].sum().add_prefix('US ')\n",
    "s_eu = df_table[df_table['Continent'].eq('Europe')][metrics].sum().add_prefix('EU ')\n",
    "s_ind = df_table[df_table['Country/Region'].eq('India')][metrics].sum().add_prefix('India ')\n",
    "summary = {'updated': pd.to_datetime(dt_today), 'since': pd.to_datetime(dt_yday)}\n",
    "summary = {'updated': pd.to_datetime(dt_today), 'since': pd.to_datetime(dt_yday)}\n",
    "summary = {**summary, **df_table[metrics].sum(), **s_ind, **s_us, **s_eu}"
   ]
  },
  {
   "cell_type": "code",
   "execution_count": 18,
   "metadata": {
    "execution": {
     "iopub.execute_input": "2020-12-09T12:07:25.783955Z",
     "iopub.status.busy": "2020-12-09T12:07:25.783332Z",
     "iopub.status.idle": "2020-12-09T12:07:25.793279Z",
     "shell.execute_reply": "2020-12-09T12:07:25.792676Z"
    },
    "papermill": {
     "duration": 0.051047,
     "end_time": "2020-12-09T12:07:25.793449",
     "exception": false,
     "start_time": "2020-12-09T12:07:25.742402",
     "status": "completed"
    },
    "tags": []
   },
   "outputs": [],
   "source": [
    "#hide\n",
    "dft_ct_new_cases = dft_cases.groupby(COL_REGION)[dt_cols].sum().diff(axis=1).fillna(0).astype(int)"
   ]
  },
  {
   "cell_type": "code",
   "execution_count": 19,
   "metadata": {
    "execution": {
     "iopub.execute_input": "2020-12-09T12:07:25.866740Z",
     "iopub.status.busy": "2020-12-09T12:07:25.866033Z",
     "iopub.status.idle": "2020-12-09T12:07:25.867780Z",
     "shell.execute_reply": "2020-12-09T12:07:25.868312Z"
    },
    "papermill": {
     "duration": 0.041219,
     "end_time": "2020-12-09T12:07:25.868489",
     "exception": false,
     "start_time": "2020-12-09T12:07:25.827270",
     "status": "completed"
    },
    "tags": []
   },
   "outputs": [],
   "source": [
    "#hide\n",
    "everydaycases = dft_ct_new_cases.cumsum(axis=1)"
   ]
  },
  {
   "cell_type": "code",
   "execution_count": 20,
   "metadata": {
    "execution": {
     "iopub.execute_input": "2020-12-09T12:07:25.938910Z",
     "iopub.status.busy": "2020-12-09T12:07:25.938195Z",
     "iopub.status.idle": "2020-12-09T12:07:27.021675Z",
     "shell.execute_reply": "2020-12-09T12:07:27.022197Z"
    },
    "papermill": {
     "duration": 1.121843,
     "end_time": "2020-12-09T12:07:27.022442",
     "exception": false,
     "start_time": "2020-12-09T12:07:25.900599",
     "status": "completed"
    },
    "tags": []
   },
   "outputs": [],
   "source": [
    "#hide\n",
    "import pandas as pd\n",
    "import matplotlib.pyplot as plt\n",
    "import matplotlib.ticker as ticker\n",
    "import matplotlib.animation as animation\n",
    "from IPython.display import HTML"
   ]
  },
  {
   "cell_type": "code",
   "execution_count": 21,
   "metadata": {
    "execution": {
     "iopub.execute_input": "2020-12-09T12:07:27.098767Z",
     "iopub.status.busy": "2020-12-09T12:07:27.098056Z",
     "iopub.status.idle": "2020-12-09T12:07:27.104238Z",
     "shell.execute_reply": "2020-12-09T12:07:27.103739Z"
    },
    "papermill": {
     "duration": 0.049421,
     "end_time": "2020-12-09T12:07:27.104387",
     "exception": false,
     "start_time": "2020-12-09T12:07:27.054966",
     "status": "completed"
    },
    "tags": []
   },
   "outputs": [],
   "source": [
    "#hide\n",
    "t = everydaycases.stack()"
   ]
  },
  {
   "cell_type": "code",
   "execution_count": 22,
   "metadata": {
    "execution": {
     "iopub.execute_input": "2020-12-09T12:07:27.172590Z",
     "iopub.status.busy": "2020-12-09T12:07:27.171987Z",
     "iopub.status.idle": "2020-12-09T12:07:27.178907Z",
     "shell.execute_reply": "2020-12-09T12:07:27.178411Z"
    },
    "papermill": {
     "duration": 0.04296,
     "end_time": "2020-12-09T12:07:27.179045",
     "exception": false,
     "start_time": "2020-12-09T12:07:27.136085",
     "status": "completed"
    },
    "tags": []
   },
   "outputs": [],
   "source": [
    "#hide\n",
    "g = t.reset_index(['Country/Region'])"
   ]
  },
  {
   "cell_type": "code",
   "execution_count": 23,
   "metadata": {
    "execution": {
     "iopub.execute_input": "2020-12-09T12:07:27.251384Z",
     "iopub.status.busy": "2020-12-09T12:07:27.249895Z",
     "iopub.status.idle": "2020-12-09T12:07:27.252129Z",
     "shell.execute_reply": "2020-12-09T12:07:27.252611Z"
    },
    "papermill": {
     "duration": 0.04182,
     "end_time": "2020-12-09T12:07:27.252782",
     "exception": false,
     "start_time": "2020-12-09T12:07:27.210962",
     "status": "completed"
    },
    "tags": []
   },
   "outputs": [],
   "source": [
    "#hide\n",
    "g.index.name = 'date'"
   ]
  },
  {
   "cell_type": "code",
   "execution_count": 24,
   "metadata": {
    "execution": {
     "iopub.execute_input": "2020-12-09T12:07:27.321921Z",
     "iopub.status.busy": "2020-12-09T12:07:27.321170Z",
     "iopub.status.idle": "2020-12-09T12:07:27.322604Z",
     "shell.execute_reply": "2020-12-09T12:07:27.323504Z"
    },
    "papermill": {
     "duration": 0.038895,
     "end_time": "2020-12-09T12:07:27.323665",
     "exception": false,
     "start_time": "2020-12-09T12:07:27.284770",
     "status": "completed"
    },
    "tags": []
   },
   "outputs": [],
   "source": [
    "# #hide\n",
    "# g = g.reset_index(['date'])"
   ]
  },
  {
   "cell_type": "code",
   "execution_count": 25,
   "metadata": {
    "execution": {
     "iopub.execute_input": "2020-12-09T12:07:27.394010Z",
     "iopub.status.busy": "2020-12-09T12:07:27.393383Z",
     "iopub.status.idle": "2020-12-09T12:07:27.398617Z",
     "shell.execute_reply": "2020-12-09T12:07:27.399304Z"
    },
    "papermill": {
     "duration": 0.042869,
     "end_time": "2020-12-09T12:07:27.399493",
     "exception": false,
     "start_time": "2020-12-09T12:07:27.356624",
     "status": "completed"
    },
    "tags": []
   },
   "outputs": [],
   "source": [
    "#hide\n",
    "# g.head()"
   ]
  },
  {
   "cell_type": "code",
   "execution_count": 26,
   "metadata": {
    "execution": {
     "iopub.execute_input": "2020-12-09T12:07:27.467780Z",
     "iopub.status.busy": "2020-12-09T12:07:27.467159Z",
     "iopub.status.idle": "2020-12-09T12:07:27.469766Z",
     "shell.execute_reply": "2020-12-09T12:07:27.469280Z"
    },
    "papermill": {
     "duration": 0.038229,
     "end_time": "2020-12-09T12:07:27.469909",
     "exception": false,
     "start_time": "2020-12-09T12:07:27.431680",
     "status": "completed"
    },
    "tags": []
   },
   "outputs": [],
   "source": [
    "#hide\n",
    "# g.columns = ['date','country','cases']"
   ]
  },
  {
   "cell_type": "code",
   "execution_count": 27,
   "metadata": {
    "execution": {
     "iopub.execute_input": "2020-12-09T12:07:27.537732Z",
     "iopub.status.busy": "2020-12-09T12:07:27.537124Z",
     "iopub.status.idle": "2020-12-09T12:07:27.539404Z",
     "shell.execute_reply": "2020-12-09T12:07:27.540001Z"
    },
    "papermill": {
     "duration": 0.038762,
     "end_time": "2020-12-09T12:07:27.540168",
     "exception": false,
     "start_time": "2020-12-09T12:07:27.501406",
     "status": "completed"
    },
    "tags": []
   },
   "outputs": [],
   "source": [
    "#hide\n",
    "# g['continent'] = g.country"
   ]
  },
  {
   "cell_type": "code",
   "execution_count": 28,
   "metadata": {
    "execution": {
     "iopub.execute_input": "2020-12-09T12:07:27.608102Z",
     "iopub.status.busy": "2020-12-09T12:07:27.607504Z",
     "iopub.status.idle": "2020-12-09T12:07:27.609778Z",
     "shell.execute_reply": "2020-12-09T12:07:27.609271Z"
    },
    "papermill": {
     "duration": 0.037795,
     "end_time": "2020-12-09T12:07:27.609911",
     "exception": false,
     "start_time": "2020-12-09T12:07:27.572116",
     "status": "completed"
    },
    "tags": []
   },
   "outputs": [],
   "source": [
    "#hide\n",
    "# cols = list(g.columns.values)"
   ]
  },
  {
   "cell_type": "code",
   "execution_count": 29,
   "metadata": {
    "execution": {
     "iopub.execute_input": "2020-12-09T12:07:27.687840Z",
     "iopub.status.busy": "2020-12-09T12:07:27.687116Z",
     "iopub.status.idle": "2020-12-09T12:07:27.691245Z",
     "shell.execute_reply": "2020-12-09T12:07:27.691789Z"
    },
    "papermill": {
     "duration": 0.046123,
     "end_time": "2020-12-09T12:07:27.691972",
     "exception": false,
     "start_time": "2020-12-09T12:07:27.645849",
     "status": "completed"
    },
    "tags": []
   },
   "outputs": [],
   "source": [
    "#hide\n",
    "# cols.insert(0, cols.pop())"
   ]
  },
  {
   "cell_type": "code",
   "execution_count": 30,
   "metadata": {
    "execution": {
     "iopub.execute_input": "2020-12-09T12:07:27.761511Z",
     "iopub.status.busy": "2020-12-09T12:07:27.760900Z",
     "iopub.status.idle": "2020-12-09T12:07:27.763504Z",
     "shell.execute_reply": "2020-12-09T12:07:27.763019Z"
    },
    "papermill": {
     "duration": 0.04,
     "end_time": "2020-12-09T12:07:27.763641",
     "exception": false,
     "start_time": "2020-12-09T12:07:27.723641",
     "status": "completed"
    },
    "tags": []
   },
   "outputs": [],
   "source": [
    "#hide\n",
    "# g = g[cols]"
   ]
  },
  {
   "cell_type": "code",
   "execution_count": 31,
   "metadata": {
    "execution": {
     "iopub.execute_input": "2020-12-09T12:07:27.843298Z",
     "iopub.status.busy": "2020-12-09T12:07:27.842189Z",
     "iopub.status.idle": "2020-12-09T12:07:27.844011Z",
     "shell.execute_reply": "2020-12-09T12:07:27.844496Z"
    },
    "papermill": {
     "duration": 0.048822,
     "end_time": "2020-12-09T12:07:27.844669",
     "exception": false,
     "start_time": "2020-12-09T12:07:27.795847",
     "status": "completed"
    },
    "tags": []
   },
   "outputs": [],
   "source": [
    "#hide\n",
    "# g['continent'] = g['continent'].map(mapping['map.continent'])"
   ]
  },
  {
   "cell_type": "code",
   "execution_count": 32,
   "metadata": {
    "execution": {
     "iopub.execute_input": "2020-12-09T12:07:27.914553Z",
     "iopub.status.busy": "2020-12-09T12:07:27.913504Z",
     "iopub.status.idle": "2020-12-09T12:07:27.915142Z",
     "shell.execute_reply": "2020-12-09T12:07:27.915700Z"
    },
    "papermill": {
     "duration": 0.037394,
     "end_time": "2020-12-09T12:07:27.915850",
     "exception": false,
     "start_time": "2020-12-09T12:07:27.878456",
     "status": "completed"
    },
    "tags": []
   },
   "outputs": [],
   "source": [
    "#hide\n",
    "# g.head()"
   ]
  },
  {
   "cell_type": "code",
   "execution_count": 33,
   "metadata": {
    "execution": {
     "iopub.execute_input": "2020-12-09T12:07:27.983389Z",
     "iopub.status.busy": "2020-12-09T12:07:27.982665Z",
     "iopub.status.idle": "2020-12-09T12:07:27.986327Z",
     "shell.execute_reply": "2020-12-09T12:07:27.986861Z"
    },
    "papermill": {
     "duration": 0.039631,
     "end_time": "2020-12-09T12:07:27.987027",
     "exception": false,
     "start_time": "2020-12-09T12:07:27.947396",
     "status": "completed"
    },
    "tags": []
   },
   "outputs": [],
   "source": [
    "# hide\n",
    "# g['date'] = g['date'].astype('datetime64[ns]')"
   ]
  },
  {
   "cell_type": "code",
   "execution_count": 34,
   "metadata": {
    "execution": {
     "iopub.execute_input": "2020-12-09T12:07:28.067962Z",
     "iopub.status.busy": "2020-12-09T12:07:28.054348Z",
     "iopub.status.idle": "2020-12-09T12:07:28.069063Z",
     "shell.execute_reply": "2020-12-09T12:07:28.068574Z"
    },
    "papermill": {
     "duration": 0.049893,
     "end_time": "2020-12-09T12:07:28.069207",
     "exception": false,
     "start_time": "2020-12-09T12:07:28.019314",
     "status": "completed"
    },
    "tags": []
   },
   "outputs": [],
   "source": [
    "#hide\n",
    "# g['date'] = g.date.dt.dayofyear"
   ]
  },
  {
   "cell_type": "code",
   "execution_count": 35,
   "metadata": {
    "execution": {
     "iopub.execute_input": "2020-12-09T12:07:28.143289Z",
     "iopub.status.busy": "2020-12-09T12:07:28.142629Z",
     "iopub.status.idle": "2020-12-09T12:07:28.145456Z",
     "shell.execute_reply": "2020-12-09T12:07:28.145978Z"
    },
    "papermill": {
     "duration": 0.04079,
     "end_time": "2020-12-09T12:07:28.146199",
     "exception": false,
     "start_time": "2020-12-09T12:07:28.105409",
     "status": "completed"
    },
    "tags": []
   },
   "outputs": [],
   "source": [
    "#hide\n",
    "# g = g.rename(columns= {'continent':'group','country':'name','cases':'value'})"
   ]
  },
  {
   "cell_type": "code",
   "execution_count": 36,
   "metadata": {
    "execution": {
     "iopub.execute_input": "2020-12-09T12:07:28.215526Z",
     "iopub.status.busy": "2020-12-09T12:07:28.214861Z",
     "iopub.status.idle": "2020-12-09T12:07:28.216242Z",
     "shell.execute_reply": "2020-12-09T12:07:28.216800Z"
    },
    "papermill": {
     "duration": 0.038983,
     "end_time": "2020-12-09T12:07:28.216954",
     "exception": false,
     "start_time": "2020-12-09T12:07:28.177971",
     "status": "completed"
    },
    "tags": []
   },
   "outputs": [],
   "source": [
    "#hide\n",
    "# cols = ['name','group','day','value']"
   ]
  },
  {
   "cell_type": "code",
   "execution_count": 37,
   "metadata": {
    "execution": {
     "iopub.execute_input": "2020-12-09T12:07:28.286046Z",
     "iopub.status.busy": "2020-12-09T12:07:28.285453Z",
     "iopub.status.idle": "2020-12-09T12:07:28.287394Z",
     "shell.execute_reply": "2020-12-09T12:07:28.287846Z"
    },
    "papermill": {
     "duration": 0.038484,
     "end_time": "2020-12-09T12:07:28.288002",
     "exception": false,
     "start_time": "2020-12-09T12:07:28.249518",
     "status": "completed"
    },
    "tags": []
   },
   "outputs": [],
   "source": [
    "#hide\n",
    "# g.rename(columns= {'date':'day'},inplace = True)"
   ]
  },
  {
   "cell_type": "code",
   "execution_count": 38,
   "metadata": {
    "execution": {
     "iopub.execute_input": "2020-12-09T12:07:28.365260Z",
     "iopub.status.busy": "2020-12-09T12:07:28.364518Z",
     "iopub.status.idle": "2020-12-09T12:07:28.366152Z",
     "shell.execute_reply": "2020-12-09T12:07:28.366669Z"
    },
    "papermill": {
     "duration": 0.046377,
     "end_time": "2020-12-09T12:07:28.366817",
     "exception": false,
     "start_time": "2020-12-09T12:07:28.320440",
     "status": "completed"
    },
    "tags": []
   },
   "outputs": [],
   "source": [
    "#hide\n",
    "# g = g[cols]"
   ]
  },
  {
   "cell_type": "code",
   "execution_count": 39,
   "metadata": {
    "execution": {
     "iopub.execute_input": "2020-12-09T12:07:28.441012Z",
     "iopub.status.busy": "2020-12-09T12:07:28.440374Z",
     "iopub.status.idle": "2020-12-09T12:07:28.442672Z",
     "shell.execute_reply": "2020-12-09T12:07:28.442030Z"
    },
    "papermill": {
     "duration": 0.043511,
     "end_time": "2020-12-09T12:07:28.442817",
     "exception": false,
     "start_time": "2020-12-09T12:07:28.399306",
     "status": "completed"
    },
    "tags": []
   },
   "outputs": [],
   "source": [
    "# #hide\n",
    "# g = g[g.group.notna()]"
   ]
  },
  {
   "cell_type": "code",
   "execution_count": 40,
   "metadata": {
    "execution": {
     "iopub.execute_input": "2020-12-09T12:07:28.516471Z",
     "iopub.status.busy": "2020-12-09T12:07:28.515300Z",
     "iopub.status.idle": "2020-12-09T12:07:28.517348Z",
     "shell.execute_reply": "2020-12-09T12:07:28.517990Z"
    },
    "papermill": {
     "duration": 0.043735,
     "end_time": "2020-12-09T12:07:28.518222",
     "exception": false,
     "start_time": "2020-12-09T12:07:28.474487",
     "status": "completed"
    },
    "tags": []
   },
   "outputs": [],
   "source": [
    "# #hide\n",
    "# colors = dict(zip(\n",
    "#     [\"Oceania\", \"Europe\", \"Asia\", \"South America\", \"Middle East\", \"North America\", \"Africa\"],\n",
    "#     [\"#adb0ff\", \"#ffb3ff\", \"#90d595\", \"#e48381\", \"#aafbff\", \"#f7bb5f\", \"#eafb50\"]\n",
    "# ))\n",
    "# group_lk = g.set_index('name')['group'].to_dict()"
   ]
  },
  {
   "cell_type": "code",
   "execution_count": null,
   "metadata": {
    "papermill": {
     "duration": 0.031566,
     "end_time": "2020-12-09T12:07:28.581538",
     "exception": false,
     "start_time": "2020-12-09T12:07:28.549972",
     "status": "completed"
    },
    "tags": []
   },
   "outputs": [],
   "source": []
  },
  {
   "cell_type": "code",
   "execution_count": 41,
   "metadata": {
    "execution": {
     "iopub.execute_input": "2020-12-09T12:07:28.650535Z",
     "iopub.status.busy": "2020-12-09T12:07:28.649858Z",
     "iopub.status.idle": "2020-12-09T12:07:28.652144Z",
     "shell.execute_reply": "2020-12-09T12:07:28.651632Z"
    },
    "papermill": {
     "duration": 0.038875,
     "end_time": "2020-12-09T12:07:28.652277",
     "exception": false,
     "start_time": "2020-12-09T12:07:28.613402",
     "status": "completed"
    },
    "tags": []
   },
   "outputs": [],
   "source": [
    "# #hide\n",
    "# fig, ax = plt.subplots(figsize=(15, 8))\n",
    "\n",
    "# def draw_barchart(current_day):\n",
    "#     dff = g[g['day'].eq(current_day)].sort_values(by='value', ascending=True).tail(10)\n",
    "#     ax.clear()\n",
    "#     ax.barh(dff['name'], dff['value'], color=[colors[group_lk[x]] for x in dff['name']])\n",
    "#     dx = dff['value'].max() / 200\n",
    "    \n",
    "#     for i, (value, name) in enumerate(zip(dff['value'], dff['name'])):\n",
    "#         ax.text(value-dx, i,     name,           size=14, weight=600, ha='right', va='bottom')\n",
    "#         ax.text(value-dx, i-.25, group_lk[name], size=10, color='#444444', ha='right', va='baseline')\n",
    "#         ax.text(value+dx, i,     f'{value:,.0f}',  size=14, ha='left',  va='center')\n",
    "#     ax.text(1, 0.4, current_day, transform=ax.transAxes, color='#777777', size=46, ha='right', weight=800)\n",
    "#     ax.text(0, 1.06, 'Population (thousands)', transform=ax.transAxes, size=12, color='#777777')\n",
    "#     ax.xaxis.set_major_formatter(ticker.StrMethodFormatter('{x:,.0f}'))\n",
    "#     ax.xaxis.set_ticks_position('top')\n",
    "#     ax.tick_params(axis='x', colors='#777777', labelsize=12)\n",
    "#     ax.set_yticks([])\n",
    "#     ax.margins(0, 0.01)\n",
    "#     ax.grid(which='major', axis='x', linestyle='-')\n",
    "#     ax.set_axisbelow(True)\n",
    "    \n",
    "#     ax.text(0, 1.15, 'Coronavirus',\n",
    "#             transform=ax.transAxes, size=24, weight=600, ha='left', va='top')\n",
    "# #     ax.text(1, 0, 'by @pratapvardhan; credit @jburnmurdoch', transform=ax.transAxes, color='#777777', ha='right',\n",
    "# #             bbox=dict(facecolor='white', alpha=0.8, edgecolor='white'))\n",
    "#     plt.box(False)"
   ]
  },
  {
   "cell_type": "code",
   "execution_count": 42,
   "metadata": {
    "execution": {
     "iopub.execute_input": "2020-12-09T12:07:28.721062Z",
     "iopub.status.busy": "2020-12-09T12:07:28.720455Z",
     "iopub.status.idle": "2020-12-09T12:07:28.722968Z",
     "shell.execute_reply": "2020-12-09T12:07:28.722450Z"
    },
    "papermill": {
     "duration": 0.038165,
     "end_time": "2020-12-09T12:07:28.723101",
     "exception": false,
     "start_time": "2020-12-09T12:07:28.684936",
     "status": "completed"
    },
    "tags": []
   },
   "outputs": [],
   "source": [
    "# #hide_input\n",
    "# fig, ax = plt.subplots(figsize=(15, 8))\n",
    "# animator = animation.FuncAnimation(fig, draw_barchart, frames=range(g.day.values.min(), g.day.values.max()))\n",
    "# HTML(animator.to_jshtml())\n",
    "# # or use animator.to_html5_video() or animator.save() "
   ]
  },
  {
   "cell_type": "code",
   "execution_count": null,
   "metadata": {
    "papermill": {
     "duration": 0.029792,
     "end_time": "2020-12-09T12:07:28.784364",
     "exception": false,
     "start_time": "2020-12-09T12:07:28.754572",
     "status": "completed"
    },
    "tags": []
   },
   "outputs": [],
   "source": []
  },
  {
   "cell_type": "code",
   "execution_count": null,
   "metadata": {
    "papermill": {
     "duration": 0.030771,
     "end_time": "2020-12-09T12:07:28.846796",
     "exception": false,
     "start_time": "2020-12-09T12:07:28.816025",
     "status": "completed"
    },
    "tags": []
   },
   "outputs": [],
   "source": []
  },
  {
   "cell_type": "code",
   "execution_count": null,
   "metadata": {
    "papermill": {
     "duration": 0.031413,
     "end_time": "2020-12-09T12:07:28.913383",
     "exception": false,
     "start_time": "2020-12-09T12:07:28.881970",
     "status": "completed"
    },
    "tags": []
   },
   "outputs": [],
   "source": []
  }
 ],
 "metadata": {
  "kernelspec": {
   "display_name": "Python 3",
   "language": "python",
   "name": "python3"
  },
  "language_info": {
   "codemirror_mode": {
    "name": "ipython",
    "version": 3
   },
   "file_extension": ".py",
   "mimetype": "text/x-python",
   "name": "python",
   "nbconvert_exporter": "python",
   "pygments_lexer": "ipython3",
   "version": "3.6.12"
  },
  "papermill": {
   "duration": 7.115824,
   "end_time": "2020-12-09T12:07:29.359512",
   "environment_variables": {},
   "exception": null,
   "input_path": "2020-03-21-covid19exp.ipynb",
   "output_path": "2020-03-21-covid19exp.ipynb",
   "parameters": {},
   "start_time": "2020-12-09T12:07:22.243688",
   "version": "2.0.0"
  }
 },
 "nbformat": 4,
 "nbformat_minor": 4
}