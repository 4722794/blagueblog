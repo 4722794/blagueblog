{
 "cells": [
  {
   "cell_type": "markdown",
   "id": "muslim-click",
   "metadata": {
    "papermill": {
     "duration": 0.035903,
     "end_time": "2022-09-25T00:49:31.342620",
     "exception": false,
     "start_time": "2022-09-25T00:49:31.306717",
     "status": "completed"
    },
    "tags": []
   },
   "source": [
    "# COVID-19 Case Race\n",
    "> A race chart to see rising cases around the world\n",
    "\n",
    "- author: Hargun Oberoi\n",
    "- image: images/covid-overview.png\n",
    "- hide: false\n",
    "- badges: false"
   ]
  },
  {
   "cell_type": "code",
   "execution_count": 1,
   "id": "proof-material",
   "metadata": {
    "execution": {
     "iopub.execute_input": "2022-09-25T00:49:31.410205Z",
     "iopub.status.busy": "2022-09-25T00:49:31.409583Z",
     "iopub.status.idle": "2022-09-25T00:49:31.735086Z",
     "shell.execute_reply": "2022-09-25T00:49:31.734204Z"
    },
    "papermill": {
     "duration": 0.362867,
     "end_time": "2022-09-25T00:49:31.735234",
     "exception": false,
     "start_time": "2022-09-25T00:49:31.372367",
     "status": "completed"
    },
    "tags": []
   },
   "outputs": [],
   "source": [
    "#hide\n",
    "import numpy as np\n",
    "import pandas as pd\n",
    "from jinja2 import Template\n",
    "from IPython.display import HTML"
   ]
  },
  {
   "cell_type": "code",
   "execution_count": 2,
   "id": "developed-terminology",
   "metadata": {
    "execution": {
     "iopub.execute_input": "2022-09-25T00:49:31.798199Z",
     "iopub.status.busy": "2022-09-25T00:49:31.797573Z",
     "iopub.status.idle": "2022-09-25T00:49:31.800283Z",
     "shell.execute_reply": "2022-09-25T00:49:31.799806Z"
    },
    "papermill": {
     "duration": 0.035831,
     "end_time": "2022-09-25T00:49:31.800391",
     "exception": false,
     "start_time": "2022-09-25T00:49:31.764560",
     "status": "completed"
    },
    "tags": []
   },
   "outputs": [],
   "source": [
    "#hide\n",
    "\n",
    "# FETCH\n",
    "base_url = 'https://raw.githubusercontent.com/pratapvardhan/notebooks/master/covid19/'\n",
    "paths = {\n",
    "    'mapping': base_url + 'mapping_countries.csv',\n",
    "    'overview': base_url + 'overview.tpl'\n",
    "}"
   ]
  },
  {
   "cell_type": "code",
   "execution_count": 3,
   "id": "dynamic-saver",
   "metadata": {
    "execution": {
     "iopub.execute_input": "2022-09-25T00:49:31.867410Z",
     "iopub.status.busy": "2022-09-25T00:49:31.866836Z",
     "iopub.status.idle": "2022-09-25T00:49:31.869917Z",
     "shell.execute_reply": "2022-09-25T00:49:31.870462Z"
    },
    "papermill": {
     "duration": 0.041345,
     "end_time": "2022-09-25T00:49:31.870578",
     "exception": false,
     "start_time": "2022-09-25T00:49:31.829233",
     "status": "completed"
    },
    "tags": []
   },
   "outputs": [
    {
     "data": {
      "text/plain": [
       "'https://raw.githubusercontent.com/pratapvardhan/notebooks/master/covid19/mapping_countries.csv'"
      ]
     },
     "execution_count": 3,
     "metadata": {},
     "output_type": "execute_result"
    }
   ],
   "source": [
    "#hide\n",
    "paths['mapping']"
   ]
  },
  {
   "cell_type": "code",
   "execution_count": 4,
   "id": "urban-software",
   "metadata": {
    "execution": {
     "iopub.execute_input": "2022-09-25T00:49:31.933925Z",
     "iopub.status.busy": "2022-09-25T00:49:31.933329Z",
     "iopub.status.idle": "2022-09-25T00:49:31.935676Z",
     "shell.execute_reply": "2022-09-25T00:49:31.936213Z"
    },
    "papermill": {
     "duration": 0.03653,
     "end_time": "2022-09-25T00:49:31.936329",
     "exception": false,
     "start_time": "2022-09-25T00:49:31.899799",
     "status": "completed"
    },
    "tags": []
   },
   "outputs": [],
   "source": [
    "#hide\n",
    "def get_mappings(url):\n",
    "    df = pd.read_csv(url)\n",
    "    return {\n",
    "        'df': df,\n",
    "        'replace.country': dict(df.dropna(subset=['Name']).set_index('Country')['Name']),\n",
    "        'map.continent': dict(df.set_index('Name')['Continent'])\n",
    "    }"
   ]
  },
  {
   "cell_type": "code",
   "execution_count": 5,
   "id": "intimate-machinery",
   "metadata": {
    "execution": {
     "iopub.execute_input": "2022-09-25T00:49:31.999551Z",
     "iopub.status.busy": "2022-09-25T00:49:31.998977Z",
     "iopub.status.idle": "2022-09-25T00:49:32.038319Z",
     "shell.execute_reply": "2022-09-25T00:49:32.037268Z"
    },
    "papermill": {
     "duration": 0.07302,
     "end_time": "2022-09-25T00:49:32.038432",
     "exception": false,
     "start_time": "2022-09-25T00:49:31.965412",
     "status": "completed"
    },
    "tags": []
   },
   "outputs": [],
   "source": [
    "#hide\n",
    "mapping = get_mappings(paths['mapping'])"
   ]
  },
  {
   "cell_type": "code",
   "execution_count": 6,
   "id": "certified-tactics",
   "metadata": {
    "execution": {
     "iopub.execute_input": "2022-09-25T00:49:32.102685Z",
     "iopub.status.busy": "2022-09-25T00:49:32.102087Z",
     "iopub.status.idle": "2022-09-25T00:49:32.104520Z",
     "shell.execute_reply": "2022-09-25T00:49:32.104995Z"
    },
    "papermill": {
     "duration": 0.037148,
     "end_time": "2022-09-25T00:49:32.105119",
     "exception": false,
     "start_time": "2022-09-25T00:49:32.067971",
     "status": "completed"
    },
    "tags": []
   },
   "outputs": [],
   "source": [
    "#hide\n",
    "def get_template(path):\n",
    "    from urllib.parse import urlparse\n",
    "    if bool(urlparse(path).netloc):\n",
    "        from urllib.request import urlopen\n",
    "        return urlopen(path).read().decode('utf8')\n",
    "    return open(path).read()"
   ]
  },
  {
   "cell_type": "code",
   "execution_count": 7,
   "id": "realistic-blast",
   "metadata": {
    "execution": {
     "iopub.execute_input": "2022-09-25T00:49:32.168306Z",
     "iopub.status.busy": "2022-09-25T00:49:32.167724Z",
     "iopub.status.idle": "2022-09-25T00:49:32.170337Z",
     "shell.execute_reply": "2022-09-25T00:49:32.169841Z"
    },
    "papermill": {
     "duration": 0.036186,
     "end_time": "2022-09-25T00:49:32.170441",
     "exception": false,
     "start_time": "2022-09-25T00:49:32.134255",
     "status": "completed"
    },
    "tags": []
   },
   "outputs": [],
   "source": [
    "#hide\n",
    "def get_frame(name):\n",
    "    url = (\n",
    "        'https://raw.githubusercontent.com/CSSEGISandData/COVID-19/master/csse_covid_19_data/'\n",
    "        f'csse_covid_19_time_series/time_series_covid19_{name}_global.csv')\n",
    "    df = pd.read_csv(url)\n",
    "    # rename countries\n",
    "    df['Country/Region'] = df['Country/Region'].replace(mapping['replace.country'])\n",
    "    return df"
   ]
  },
  {
   "cell_type": "code",
   "execution_count": 8,
   "id": "affiliated-characterization",
   "metadata": {
    "execution": {
     "iopub.execute_input": "2022-09-25T00:49:32.235043Z",
     "iopub.status.busy": "2022-09-25T00:49:32.234381Z",
     "iopub.status.idle": "2022-09-25T00:49:32.236927Z",
     "shell.execute_reply": "2022-09-25T00:49:32.236252Z"
    },
    "papermill": {
     "duration": 0.037285,
     "end_time": "2022-09-25T00:49:32.237231",
     "exception": false,
     "start_time": "2022-09-25T00:49:32.199946",
     "status": "completed"
    },
    "tags": []
   },
   "outputs": [],
   "source": [
    "#hide\n",
    "def get_dates(df):\n",
    "    dt_cols = df.columns[~df.columns.isin(['Province/State', 'Country/Region', 'Lat', 'Long'])]\n",
    "    LAST_DATE_I = -1\n",
    "    # sometimes last column may be empty, then go backwards\n",
    "    for i in range(-1, -len(dt_cols), -1):\n",
    "        if not df[dt_cols[i]].fillna(0).eq(0).all():\n",
    "            LAST_DATE_I = i\n",
    "            break\n",
    "    return LAST_DATE_I, dt_cols"
   ]
  },
  {
   "cell_type": "code",
   "execution_count": 9,
   "id": "recent-optimization",
   "metadata": {
    "execution": {
     "iopub.execute_input": "2022-09-25T00:49:32.301844Z",
     "iopub.status.busy": "2022-09-25T00:49:32.301268Z",
     "iopub.status.idle": "2022-09-25T00:49:32.769364Z",
     "shell.execute_reply": "2022-09-25T00:49:32.768794Z"
    },
    "papermill": {
     "duration": 0.501208,
     "end_time": "2022-09-25T00:49:32.769501",
     "exception": false,
     "start_time": "2022-09-25T00:49:32.268293",
     "status": "completed"
    },
    "tags": []
   },
   "outputs": [],
   "source": [
    "#hide\n",
    "COL_REGION = 'Country/Region'\n",
    "# Confirmed, Recovered, Deaths\n",
    "df = get_frame('confirmed')\n",
    "# dft_: timeseries, dfc_: today country agg\n",
    "dft_cases = df\n",
    "dft_deaths = get_frame('deaths')\n",
    "dft_recovered = get_frame('recovered')\n",
    "LAST_DATE_I, dt_cols = get_dates(df)"
   ]
  },
  {
   "cell_type": "code",
   "execution_count": 10,
   "id": "absolute-copper",
   "metadata": {
    "execution": {
     "iopub.execute_input": "2022-09-25T00:49:32.838080Z",
     "iopub.status.busy": "2022-09-25T00:49:32.837371Z",
     "iopub.status.idle": "2022-09-25T00:49:32.839782Z",
     "shell.execute_reply": "2022-09-25T00:49:32.840257Z"
    },
    "papermill": {
     "duration": 0.039736,
     "end_time": "2022-09-25T00:49:32.840375",
     "exception": false,
     "start_time": "2022-09-25T00:49:32.800639",
     "status": "completed"
    },
    "tags": []
   },
   "outputs": [],
   "source": [
    "#hide\n",
    "LAST_DATE_I, dt_cols = get_dates(df)\n",
    "dt_today =dt_cols[LAST_DATE_I]\n",
    "# dt_5day = dt_cols[LAST_DATE_I - 5]\n",
    "dt_yday = dt_cols[LAST_DATE_I - 1]"
   ]
  },
  {
   "cell_type": "code",
   "execution_count": 11,
   "id": "restricted-sheriff",
   "metadata": {
    "execution": {
     "iopub.execute_input": "2022-09-25T00:49:32.905850Z",
     "iopub.status.busy": "2022-09-25T00:49:32.905278Z",
     "iopub.status.idle": "2022-09-25T00:49:32.913357Z",
     "shell.execute_reply": "2022-09-25T00:49:32.913834Z"
    },
    "papermill": {
     "duration": 0.043124,
     "end_time": "2022-09-25T00:49:32.913971",
     "exception": false,
     "start_time": "2022-09-25T00:49:32.870847",
     "status": "completed"
    },
    "tags": []
   },
   "outputs": [],
   "source": [
    "#hide\n",
    "dfc_cases = dft_cases.groupby(COL_REGION)[dt_today].sum()\n",
    "dfc_deaths = dft_deaths.groupby(COL_REGION)[dt_today].sum()\n",
    "# dfp_cases = dft_cases.groupby(COL_REGION)[dt_5day].sum()\n",
    "# dfp_deaths = dft_deaths.groupby(COL_REGION)[dt_5day].sum()\n",
    "dfp_cases = dft_cases.groupby(COL_REGION)[dt_yday].sum()\n",
    "dfp_deaths = dft_deaths.groupby(COL_REGION)[dt_yday].sum()"
   ]
  },
  {
   "cell_type": "code",
   "execution_count": 12,
   "id": "deluxe-hepatitis",
   "metadata": {
    "execution": {
     "iopub.execute_input": "2022-09-25T00:49:32.980129Z",
     "iopub.status.busy": "2022-09-25T00:49:32.979560Z",
     "iopub.status.idle": "2022-09-25T00:49:32.984528Z",
     "shell.execute_reply": "2022-09-25T00:49:32.984062Z"
    },
    "papermill": {
     "duration": 0.041097,
     "end_time": "2022-09-25T00:49:32.984631",
     "exception": false,
     "start_time": "2022-09-25T00:49:32.943534",
     "status": "completed"
    },
    "tags": []
   },
   "outputs": [],
   "source": [
    "#hide\n",
    "df_table = (pd.DataFrame(dict(Cases = dfc_cases, Deaths = dfc_deaths, PCases = dfp_cases, PDeaths = dfp_deaths))\n",
    "            .sort_values(by = ['Cases','Deaths'], ascending = [False, False])\n",
    "            .reset_index())"
   ]
  },
  {
   "cell_type": "code",
   "execution_count": 13,
   "id": "educational-chancellor",
   "metadata": {
    "execution": {
     "iopub.execute_input": "2022-09-25T00:49:33.059725Z",
     "iopub.status.busy": "2022-09-25T00:49:33.055851Z",
     "iopub.status.idle": "2022-09-25T00:49:33.067891Z",
     "shell.execute_reply": "2022-09-25T00:49:33.068314Z"
    },
    "papermill": {
     "duration": 0.054221,
     "end_time": "2022-09-25T00:49:33.068433",
     "exception": false,
     "start_time": "2022-09-25T00:49:33.014212",
     "status": "completed"
    },
    "tags": []
   },
   "outputs": [
    {
     "data": {
      "text/html": [
       "<div>\n",
       "<style scoped>\n",
       "    .dataframe tbody tr th:only-of-type {\n",
       "        vertical-align: middle;\n",
       "    }\n",
       "\n",
       "    .dataframe tbody tr th {\n",
       "        vertical-align: top;\n",
       "    }\n",
       "\n",
       "    .dataframe thead th {\n",
       "        text-align: right;\n",
       "    }\n",
       "</style>\n",
       "<table border=\"1\" class=\"dataframe\">\n",
       "  <thead>\n",
       "    <tr style=\"text-align: right;\">\n",
       "      <th></th>\n",
       "      <th>Country/Region</th>\n",
       "      <th>Cases</th>\n",
       "      <th>Deaths</th>\n",
       "      <th>PCases</th>\n",
       "      <th>PDeaths</th>\n",
       "      <th>Cases (+)</th>\n",
       "      <th>Deaths (+)</th>\n",
       "      <th>Fatality Rate</th>\n",
       "      <th>Continent</th>\n",
       "    </tr>\n",
       "  </thead>\n",
       "  <tbody>\n",
       "    <tr>\n",
       "      <th>0</th>\n",
       "      <td>US</td>\n",
       "      <td>96056075</td>\n",
       "      <td>1056372</td>\n",
       "      <td>95970915</td>\n",
       "      <td>1055922</td>\n",
       "      <td>85160</td>\n",
       "      <td>450</td>\n",
       "      <td>1.10</td>\n",
       "      <td>North America</td>\n",
       "    </tr>\n",
       "    <tr>\n",
       "      <th>1</th>\n",
       "      <td>India</td>\n",
       "      <td>44563337</td>\n",
       "      <td>528487</td>\n",
       "      <td>44558425</td>\n",
       "      <td>528449</td>\n",
       "      <td>4912</td>\n",
       "      <td>38</td>\n",
       "      <td>1.19</td>\n",
       "      <td>Asia</td>\n",
       "    </tr>\n",
       "    <tr>\n",
       "      <th>2</th>\n",
       "      <td>France</td>\n",
       "      <td>35304648</td>\n",
       "      <td>155927</td>\n",
       "      <td>35267124</td>\n",
       "      <td>155894</td>\n",
       "      <td>37524</td>\n",
       "      <td>33</td>\n",
       "      <td>0.44</td>\n",
       "      <td>Europe</td>\n",
       "    </tr>\n",
       "    <tr>\n",
       "      <th>3</th>\n",
       "      <td>Brazil</td>\n",
       "      <td>34624427</td>\n",
       "      <td>685750</td>\n",
       "      <td>34616655</td>\n",
       "      <td>685677</td>\n",
       "      <td>7772</td>\n",
       "      <td>73</td>\n",
       "      <td>1.98</td>\n",
       "      <td>South America</td>\n",
       "    </tr>\n",
       "    <tr>\n",
       "      <th>4</th>\n",
       "      <td>Germany</td>\n",
       "      <td>32952050</td>\n",
       "      <td>149458</td>\n",
       "      <td>32905086</td>\n",
       "      <td>149368</td>\n",
       "      <td>46964</td>\n",
       "      <td>90</td>\n",
       "      <td>0.45</td>\n",
       "      <td>Europe</td>\n",
       "    </tr>\n",
       "  </tbody>\n",
       "</table>\n",
       "</div>"
      ],
      "text/plain": [
       "  Country/Region     Cases   Deaths    PCases  PDeaths  Cases (+)  Deaths (+)  \\\n",
       "0             US  96056075  1056372  95970915  1055922      85160         450   \n",
       "1          India  44563337   528487  44558425   528449       4912          38   \n",
       "2         France  35304648   155927  35267124   155894      37524          33   \n",
       "3         Brazil  34624427   685750  34616655   685677       7772          73   \n",
       "4        Germany  32952050   149458  32905086   149368      46964          90   \n",
       "\n",
       "   Fatality Rate      Continent  \n",
       "0           1.10  North America  \n",
       "1           1.19           Asia  \n",
       "2           0.44         Europe  \n",
       "3           1.98  South America  \n",
       "4           0.45         Europe  "
      ]
     },
     "execution_count": 13,
     "metadata": {},
     "output_type": "execute_result"
    }
   ],
   "source": [
    "#hide\n",
    "for c in 'Cases, Deaths'.split(', '):\n",
    "    df_table[f'{c} (+)'] = (df_table[c] - df_table[f'P{c}']).clip(0)\n",
    "    #Clip ça veut dire, les chiffres negatif sont interdit\n",
    "df_table['Fatality Rate'] = (100* df_table['Deaths']/ df_table['Cases']).round(2)\n",
    "df_table['Continent'] = df_table['Country/Region'].map(mapping['map.continent'])\n",
    "df_table.head(5)"
   ]
  },
  {
   "cell_type": "code",
   "execution_count": 14,
   "id": "aboriginal-bulgaria",
   "metadata": {
    "execution": {
     "iopub.execute_input": "2022-09-25T00:49:33.136130Z",
     "iopub.status.busy": "2022-09-25T00:49:33.135557Z",
     "iopub.status.idle": "2022-09-25T00:49:33.138710Z",
     "shell.execute_reply": "2022-09-25T00:49:33.139185Z"
    },
    "papermill": {
     "duration": 0.039022,
     "end_time": "2022-09-25T00:49:33.139303",
     "exception": false,
     "start_time": "2022-09-25T00:49:33.100281",
     "status": "completed"
    },
    "tags": []
   },
   "outputs": [],
   "source": [
    "#hide\n",
    "#delete problematic countries from table\n",
    "df_table = df_table[~df_table['Country/Region'].isin(['Cape Verde', 'Cruise Ship', 'Kosovo'])]"
   ]
  },
  {
   "cell_type": "code",
   "execution_count": 15,
   "id": "fantastic-effect",
   "metadata": {
    "execution": {
     "iopub.execute_input": "2022-09-25T00:49:33.205837Z",
     "iopub.status.busy": "2022-09-25T00:49:33.205264Z",
     "iopub.status.idle": "2022-09-25T00:49:33.222662Z",
     "shell.execute_reply": "2022-09-25T00:49:33.223136Z"
    },
    "papermill": {
     "duration": 0.054367,
     "end_time": "2022-09-25T00:49:33.223253",
     "exception": false,
     "start_time": "2022-09-25T00:49:33.168886",
     "status": "completed"
    },
    "tags": []
   },
   "outputs": [
    {
     "data": {
      "text/html": [
       "<div>\n",
       "<style scoped>\n",
       "    .dataframe tbody tr th:only-of-type {\n",
       "        vertical-align: middle;\n",
       "    }\n",
       "\n",
       "    .dataframe tbody tr th {\n",
       "        vertical-align: top;\n",
       "    }\n",
       "\n",
       "    .dataframe thead th {\n",
       "        text-align: right;\n",
       "    }\n",
       "</style>\n",
       "<table border=\"1\" class=\"dataframe\">\n",
       "  <thead>\n",
       "    <tr style=\"text-align: right;\">\n",
       "      <th></th>\n",
       "      <th>Country/Region</th>\n",
       "      <th>Cases</th>\n",
       "      <th>Deaths</th>\n",
       "      <th>PCases</th>\n",
       "      <th>PDeaths</th>\n",
       "      <th>Cases (+)</th>\n",
       "      <th>Deaths (+)</th>\n",
       "      <th>Fatality Rate</th>\n",
       "      <th>Continent</th>\n",
       "    </tr>\n",
       "  </thead>\n",
       "  <tbody>\n",
       "    <tr>\n",
       "      <th>0</th>\n",
       "      <td>US</td>\n",
       "      <td>96056075</td>\n",
       "      <td>1056372</td>\n",
       "      <td>95970915</td>\n",
       "      <td>1055922</td>\n",
       "      <td>85160</td>\n",
       "      <td>450</td>\n",
       "      <td>1.1</td>\n",
       "      <td>North America</td>\n",
       "    </tr>\n",
       "    <tr>\n",
       "      <th>1</th>\n",
       "      <td>India</td>\n",
       "      <td>44563337</td>\n",
       "      <td>528487</td>\n",
       "      <td>44558425</td>\n",
       "      <td>528449</td>\n",
       "      <td>4912</td>\n",
       "      <td>38</td>\n",
       "      <td>1.2</td>\n",
       "      <td>Asia</td>\n",
       "    </tr>\n",
       "    <tr>\n",
       "      <th>2</th>\n",
       "      <td>France</td>\n",
       "      <td>35304648</td>\n",
       "      <td>155927</td>\n",
       "      <td>35267124</td>\n",
       "      <td>155894</td>\n",
       "      <td>37524</td>\n",
       "      <td>33</td>\n",
       "      <td>0.4</td>\n",
       "      <td>Europe</td>\n",
       "    </tr>\n",
       "    <tr>\n",
       "      <th>3</th>\n",
       "      <td>Brazil</td>\n",
       "      <td>34624427</td>\n",
       "      <td>685750</td>\n",
       "      <td>34616655</td>\n",
       "      <td>685677</td>\n",
       "      <td>7772</td>\n",
       "      <td>73</td>\n",
       "      <td>2.0</td>\n",
       "      <td>South America</td>\n",
       "    </tr>\n",
       "    <tr>\n",
       "      <th>4</th>\n",
       "      <td>Germany</td>\n",
       "      <td>32952050</td>\n",
       "      <td>149458</td>\n",
       "      <td>32905086</td>\n",
       "      <td>149368</td>\n",
       "      <td>46964</td>\n",
       "      <td>90</td>\n",
       "      <td>0.5</td>\n",
       "      <td>Europe</td>\n",
       "    </tr>\n",
       "  </tbody>\n",
       "</table>\n",
       "</div>"
      ],
      "text/plain": [
       "  Country/Region     Cases   Deaths    PCases  PDeaths  Cases (+)  Deaths (+)  \\\n",
       "0             US  96056075  1056372  95970915  1055922      85160         450   \n",
       "1          India  44563337   528487  44558425   528449       4912          38   \n",
       "2         France  35304648   155927  35267124   155894      37524          33   \n",
       "3         Brazil  34624427   685750  34616655   685677       7772          73   \n",
       "4        Germany  32952050   149458  32905086   149368      46964          90   \n",
       "\n",
       "   Fatality Rate      Continent  \n",
       "0            1.1  North America  \n",
       "1            1.2           Asia  \n",
       "2            0.4         Europe  \n",
       "3            2.0  South America  \n",
       "4            0.5         Europe  "
      ]
     },
     "execution_count": 15,
     "metadata": {},
     "output_type": "execute_result"
    }
   ],
   "source": [
    "#hide\n",
    "df_table = (pd.DataFrame(dict(Cases=dfc_cases, Deaths=dfc_deaths, PCases=dfp_cases, PDeaths=dfp_deaths))\n",
    "             .sort_values(by=['Cases', 'Deaths'], ascending=[False, False])\n",
    "             .reset_index())\n",
    "df_table.rename(columns={'index': 'Country/Region'}, inplace=True)\n",
    "for c in 'Cases, Deaths'.split(', '):\n",
    "    df_table[f'{c} (+)'] = (df_table[c] - df_table[f'P{c}']).clip(0)  # DATA BUG\n",
    "df_table['Fatality Rate'] = (100 * df_table['Deaths'] / df_table['Cases']).round(1)\n",
    "df_table['Continent'] = df_table['Country/Region'].map(mapping['map.continent'])\n",
    "df_table.head(5)"
   ]
  },
  {
   "cell_type": "code",
   "execution_count": 16,
   "id": "fewer-occasion",
   "metadata": {
    "execution": {
     "iopub.execute_input": "2022-09-25T00:49:33.288908Z",
     "iopub.status.busy": "2022-09-25T00:49:33.288339Z",
     "iopub.status.idle": "2022-09-25T00:49:33.291465Z",
     "shell.execute_reply": "2022-09-25T00:49:33.291941Z"
    },
    "papermill": {
     "duration": 0.038436,
     "end_time": "2022-09-25T00:49:33.292058",
     "exception": false,
     "start_time": "2022-09-25T00:49:33.253622",
     "status": "completed"
    },
    "tags": []
   },
   "outputs": [],
   "source": [
    "#hide\n",
    "#delete problematic countries from table\n",
    "df_table = df_table[~df_table['Country/Region'].isin(['Cape Verde', 'Cruise Ship', 'Kosovo'])]"
   ]
  },
  {
   "cell_type": "code",
   "execution_count": 17,
   "id": "related-center",
   "metadata": {
    "execution": {
     "iopub.execute_input": "2022-09-25T00:49:33.360307Z",
     "iopub.status.busy": "2022-09-25T00:49:33.359632Z",
     "iopub.status.idle": "2022-09-25T00:49:33.372053Z",
     "shell.execute_reply": "2022-09-25T00:49:33.371578Z"
    },
    "papermill": {
     "duration": 0.050016,
     "end_time": "2022-09-25T00:49:33.372156",
     "exception": false,
     "start_time": "2022-09-25T00:49:33.322140",
     "status": "completed"
    },
    "tags": []
   },
   "outputs": [],
   "source": [
    "#hide\n",
    "metrics = [df_table.columns[index] for index in [1,2,5,6]]\n",
    "# s_china = df_table[df_table['Country/Region'].eq('China')][metrics].sum().add_prefix('China ')\n",
    "s_us = df_table[df_table['Country/Region'].eq('US')][metrics].sum().add_prefix('US ')\n",
    "s_eu = df_table[df_table['Continent'].eq('Europe')][metrics].sum().add_prefix('EU ')\n",
    "s_ind = df_table[df_table['Country/Region'].eq('India')][metrics].sum().add_prefix('India ')\n",
    "summary = {'updated': pd.to_datetime(dt_today), 'since': pd.to_datetime(dt_yday)}\n",
    "summary = {'updated': pd.to_datetime(dt_today), 'since': pd.to_datetime(dt_yday)}\n",
    "summary = {**summary, **df_table[metrics].sum(), **s_ind, **s_us, **s_eu}"
   ]
  },
  {
   "cell_type": "code",
   "execution_count": 18,
   "id": "engaging-syndrome",
   "metadata": {
    "execution": {
     "iopub.execute_input": "2022-09-25T00:49:33.436950Z",
     "iopub.status.busy": "2022-09-25T00:49:33.436377Z",
     "iopub.status.idle": "2022-09-25T00:49:33.455544Z",
     "shell.execute_reply": "2022-09-25T00:49:33.455072Z"
    },
    "papermill": {
     "duration": 0.053201,
     "end_time": "2022-09-25T00:49:33.455648",
     "exception": false,
     "start_time": "2022-09-25T00:49:33.402447",
     "status": "completed"
    },
    "tags": []
   },
   "outputs": [],
   "source": [
    "#hide\n",
    "dft_ct_new_cases = dft_cases.groupby(COL_REGION)[dt_cols].sum().diff(axis=1).fillna(0).astype(int)"
   ]
  },
  {
   "cell_type": "code",
   "execution_count": 19,
   "id": "neutral-assignment",
   "metadata": {
    "execution": {
     "iopub.execute_input": "2022-09-25T00:49:33.522057Z",
     "iopub.status.busy": "2022-09-25T00:49:33.521458Z",
     "iopub.status.idle": "2022-09-25T00:49:33.524015Z",
     "shell.execute_reply": "2022-09-25T00:49:33.524488Z"
    },
    "papermill": {
     "duration": 0.03869,
     "end_time": "2022-09-25T00:49:33.524606",
     "exception": false,
     "start_time": "2022-09-25T00:49:33.485916",
     "status": "completed"
    },
    "tags": []
   },
   "outputs": [],
   "source": [
    "#hide\n",
    "everydaycases = dft_ct_new_cases.cumsum(axis=1)"
   ]
  },
  {
   "cell_type": "code",
   "execution_count": 20,
   "id": "parliamentary-calgary",
   "metadata": {
    "execution": {
     "iopub.execute_input": "2022-09-25T00:49:33.589725Z",
     "iopub.status.busy": "2022-09-25T00:49:33.589135Z",
     "iopub.status.idle": "2022-09-25T00:49:34.133225Z",
     "shell.execute_reply": "2022-09-25T00:49:34.133689Z"
    },
    "papermill": {
     "duration": 0.578707,
     "end_time": "2022-09-25T00:49:34.133837",
     "exception": false,
     "start_time": "2022-09-25T00:49:33.555130",
     "status": "completed"
    },
    "tags": []
   },
   "outputs": [],
   "source": [
    "#hide\n",
    "import pandas as pd\n",
    "import matplotlib.pyplot as plt\n",
    "import matplotlib.ticker as ticker\n",
    "import matplotlib.animation as animation\n",
    "from IPython.display import HTML"
   ]
  },
  {
   "cell_type": "code",
   "execution_count": 21,
   "id": "lasting-extraction",
   "metadata": {
    "execution": {
     "iopub.execute_input": "2022-09-25T00:49:34.203104Z",
     "iopub.status.busy": "2022-09-25T00:49:34.202516Z",
     "iopub.status.idle": "2022-09-25T00:49:34.210019Z",
     "shell.execute_reply": "2022-09-25T00:49:34.209505Z"
    },
    "papermill": {
     "duration": 0.045439,
     "end_time": "2022-09-25T00:49:34.210130",
     "exception": false,
     "start_time": "2022-09-25T00:49:34.164691",
     "status": "completed"
    },
    "tags": []
   },
   "outputs": [],
   "source": [
    "#hide\n",
    "t = everydaycases.stack()"
   ]
  },
  {
   "cell_type": "code",
   "execution_count": 22,
   "id": "premier-sleeve",
   "metadata": {
    "execution": {
     "iopub.execute_input": "2022-09-25T00:49:34.275736Z",
     "iopub.status.busy": "2022-09-25T00:49:34.275166Z",
     "iopub.status.idle": "2022-09-25T00:49:34.287669Z",
     "shell.execute_reply": "2022-09-25T00:49:34.287197Z"
    },
    "papermill": {
     "duration": 0.046808,
     "end_time": "2022-09-25T00:49:34.287777",
     "exception": false,
     "start_time": "2022-09-25T00:49:34.240969",
     "status": "completed"
    },
    "tags": []
   },
   "outputs": [],
   "source": [
    "#hide\n",
    "g = t.reset_index(['Country/Region'])"
   ]
  },
  {
   "cell_type": "code",
   "execution_count": 23,
   "id": "distributed-pittsburgh",
   "metadata": {
    "execution": {
     "iopub.execute_input": "2022-09-25T00:49:34.353147Z",
     "iopub.status.busy": "2022-09-25T00:49:34.352494Z",
     "iopub.status.idle": "2022-09-25T00:49:34.355070Z",
     "shell.execute_reply": "2022-09-25T00:49:34.354428Z"
    },
    "papermill": {
     "duration": 0.036842,
     "end_time": "2022-09-25T00:49:34.355185",
     "exception": false,
     "start_time": "2022-09-25T00:49:34.318343",
     "status": "completed"
    },
    "tags": []
   },
   "outputs": [],
   "source": [
    "#hide\n",
    "g.index.name = 'date'"
   ]
  },
  {
   "cell_type": "code",
   "execution_count": 24,
   "id": "naked-donor",
   "metadata": {
    "execution": {
     "iopub.execute_input": "2022-09-25T00:49:34.419419Z",
     "iopub.status.busy": "2022-09-25T00:49:34.418829Z",
     "iopub.status.idle": "2022-09-25T00:49:34.421470Z",
     "shell.execute_reply": "2022-09-25T00:49:34.420919Z"
    },
    "papermill": {
     "duration": 0.035792,
     "end_time": "2022-09-25T00:49:34.421575",
     "exception": false,
     "start_time": "2022-09-25T00:49:34.385783",
     "status": "completed"
    },
    "tags": []
   },
   "outputs": [],
   "source": [
    "# #hide\n",
    "# g = g.reset_index(['date'])"
   ]
  },
  {
   "cell_type": "code",
   "execution_count": 25,
   "id": "incomplete-mustang",
   "metadata": {
    "execution": {
     "iopub.execute_input": "2022-09-25T00:49:34.486421Z",
     "iopub.status.busy": "2022-09-25T00:49:34.485797Z",
     "iopub.status.idle": "2022-09-25T00:49:34.488019Z",
     "shell.execute_reply": "2022-09-25T00:49:34.488572Z"
    },
    "papermill": {
     "duration": 0.035997,
     "end_time": "2022-09-25T00:49:34.488690",
     "exception": false,
     "start_time": "2022-09-25T00:49:34.452693",
     "status": "completed"
    },
    "tags": []
   },
   "outputs": [],
   "source": [
    "#hide\n",
    "# g.head()"
   ]
  },
  {
   "cell_type": "code",
   "execution_count": 26,
   "id": "specific-kruger",
   "metadata": {
    "execution": {
     "iopub.execute_input": "2022-09-25T00:49:34.552660Z",
     "iopub.status.busy": "2022-09-25T00:49:34.552007Z",
     "iopub.status.idle": "2022-09-25T00:49:34.556096Z",
     "shell.execute_reply": "2022-09-25T00:49:34.556582Z"
    },
    "papermill": {
     "duration": 0.037764,
     "end_time": "2022-09-25T00:49:34.556717",
     "exception": false,
     "start_time": "2022-09-25T00:49:34.518953",
     "status": "completed"
    },
    "tags": []
   },
   "outputs": [],
   "source": [
    "#hide\n",
    "# g.columns = ['date','country','cases']"
   ]
  },
  {
   "cell_type": "code",
   "execution_count": 27,
   "id": "tender-conversion",
   "metadata": {
    "execution": {
     "iopub.execute_input": "2022-09-25T00:49:34.623645Z",
     "iopub.status.busy": "2022-09-25T00:49:34.622980Z",
     "iopub.status.idle": "2022-09-25T00:49:34.625503Z",
     "shell.execute_reply": "2022-09-25T00:49:34.624868Z"
    },
    "papermill": {
     "duration": 0.036294,
     "end_time": "2022-09-25T00:49:34.625619",
     "exception": false,
     "start_time": "2022-09-25T00:49:34.589325",
     "status": "completed"
    },
    "tags": []
   },
   "outputs": [],
   "source": [
    "#hide\n",
    "# g['continent'] = g.country"
   ]
  },
  {
   "cell_type": "code",
   "execution_count": 28,
   "id": "substantial-wilderness",
   "metadata": {
    "execution": {
     "iopub.execute_input": "2022-09-25T00:49:34.690161Z",
     "iopub.status.busy": "2022-09-25T00:49:34.689557Z",
     "iopub.status.idle": "2022-09-25T00:49:34.692244Z",
     "shell.execute_reply": "2022-09-25T00:49:34.691701Z"
    },
    "papermill": {
     "duration": 0.035721,
     "end_time": "2022-09-25T00:49:34.692344",
     "exception": false,
     "start_time": "2022-09-25T00:49:34.656623",
     "status": "completed"
    },
    "tags": []
   },
   "outputs": [],
   "source": [
    "#hide\n",
    "# cols = list(g.columns.values)"
   ]
  },
  {
   "cell_type": "code",
   "execution_count": 29,
   "id": "solved-farming",
   "metadata": {
    "execution": {
     "iopub.execute_input": "2022-09-25T00:49:34.756009Z",
     "iopub.status.busy": "2022-09-25T00:49:34.755443Z",
     "iopub.status.idle": "2022-09-25T00:49:34.757767Z",
     "shell.execute_reply": "2022-09-25T00:49:34.758241Z"
    },
    "papermill": {
     "duration": 0.035825,
     "end_time": "2022-09-25T00:49:34.758354",
     "exception": false,
     "start_time": "2022-09-25T00:49:34.722529",
     "status": "completed"
    },
    "tags": []
   },
   "outputs": [],
   "source": [
    "#hide\n",
    "# cols.insert(0, cols.pop())"
   ]
  },
  {
   "cell_type": "code",
   "execution_count": 30,
   "id": "executed-adoption",
   "metadata": {
    "execution": {
     "iopub.execute_input": "2022-09-25T00:49:34.822102Z",
     "iopub.status.busy": "2022-09-25T00:49:34.821412Z",
     "iopub.status.idle": "2022-09-25T00:49:34.825372Z",
     "shell.execute_reply": "2022-09-25T00:49:34.825796Z"
    },
    "papermill": {
     "duration": 0.037359,
     "end_time": "2022-09-25T00:49:34.825931",
     "exception": false,
     "start_time": "2022-09-25T00:49:34.788572",
     "status": "completed"
    },
    "tags": []
   },
   "outputs": [],
   "source": [
    "#hide\n",
    "# g = g[cols]"
   ]
  },
  {
   "cell_type": "code",
   "execution_count": 31,
   "id": "subject-dublin",
   "metadata": {
    "execution": {
     "iopub.execute_input": "2022-09-25T00:49:34.891064Z",
     "iopub.status.busy": "2022-09-25T00:49:34.890497Z",
     "iopub.status.idle": "2022-09-25T00:49:34.892862Z",
     "shell.execute_reply": "2022-09-25T00:49:34.892309Z"
    },
    "papermill": {
     "duration": 0.036264,
     "end_time": "2022-09-25T00:49:34.893082",
     "exception": false,
     "start_time": "2022-09-25T00:49:34.856818",
     "status": "completed"
    },
    "tags": []
   },
   "outputs": [],
   "source": [
    "#hide\n",
    "# g['continent'] = g['continent'].map(mapping['map.continent'])"
   ]
  },
  {
   "cell_type": "code",
   "execution_count": 32,
   "id": "freelance-scout",
   "metadata": {
    "execution": {
     "iopub.execute_input": "2022-09-25T00:49:34.958683Z",
     "iopub.status.busy": "2022-09-25T00:49:34.958023Z",
     "iopub.status.idle": "2022-09-25T00:49:34.960013Z",
     "shell.execute_reply": "2022-09-25T00:49:34.959392Z"
    },
    "papermill": {
     "duration": 0.035658,
     "end_time": "2022-09-25T00:49:34.960125",
     "exception": false,
     "start_time": "2022-09-25T00:49:34.924467",
     "status": "completed"
    },
    "tags": []
   },
   "outputs": [],
   "source": [
    "#hide\n",
    "# g.head()"
   ]
  },
  {
   "cell_type": "code",
   "execution_count": 33,
   "id": "limited-engine",
   "metadata": {
    "execution": {
     "iopub.execute_input": "2022-09-25T00:49:35.024990Z",
     "iopub.status.busy": "2022-09-25T00:49:35.024141Z",
     "iopub.status.idle": "2022-09-25T00:49:35.028257Z",
     "shell.execute_reply": "2022-09-25T00:49:35.027785Z"
    },
    "papermill": {
     "duration": 0.037523,
     "end_time": "2022-09-25T00:49:35.028362",
     "exception": false,
     "start_time": "2022-09-25T00:49:34.990839",
     "status": "completed"
    },
    "tags": []
   },
   "outputs": [],
   "source": [
    "# hide\n",
    "# g['date'] = g['date'].astype('datetime64[ns]')"
   ]
  },
  {
   "cell_type": "code",
   "execution_count": 34,
   "id": "sophisticated-supervisor",
   "metadata": {
    "execution": {
     "iopub.execute_input": "2022-09-25T00:49:35.092827Z",
     "iopub.status.busy": "2022-09-25T00:49:35.092164Z",
     "iopub.status.idle": "2022-09-25T00:49:35.095804Z",
     "shell.execute_reply": "2022-09-25T00:49:35.096256Z"
    },
    "papermill": {
     "duration": 0.037636,
     "end_time": "2022-09-25T00:49:35.096374",
     "exception": false,
     "start_time": "2022-09-25T00:49:35.058738",
     "status": "completed"
    },
    "tags": []
   },
   "outputs": [],
   "source": [
    "#hide\n",
    "# g['date'] = g.date.dt.dayofyear"
   ]
  },
  {
   "cell_type": "code",
   "execution_count": 35,
   "id": "inside-dubai",
   "metadata": {
    "execution": {
     "iopub.execute_input": "2022-09-25T00:49:35.160135Z",
     "iopub.status.busy": "2022-09-25T00:49:35.159481Z",
     "iopub.status.idle": "2022-09-25T00:49:35.163757Z",
     "shell.execute_reply": "2022-09-25T00:49:35.163287Z"
    },
    "papermill": {
     "duration": 0.037406,
     "end_time": "2022-09-25T00:49:35.163860",
     "exception": false,
     "start_time": "2022-09-25T00:49:35.126454",
     "status": "completed"
    },
    "tags": []
   },
   "outputs": [],
   "source": [
    "#hide\n",
    "# g = g.rename(columns= {'continent':'group','country':'name','cases':'value'})"
   ]
  },
  {
   "cell_type": "code",
   "execution_count": 36,
   "id": "fleet-motorcycle",
   "metadata": {
    "execution": {
     "iopub.execute_input": "2022-09-25T00:49:35.227873Z",
     "iopub.status.busy": "2022-09-25T00:49:35.227289Z",
     "iopub.status.idle": "2022-09-25T00:49:35.231037Z",
     "shell.execute_reply": "2022-09-25T00:49:35.231486Z"
    },
    "papermill": {
     "duration": 0.037396,
     "end_time": "2022-09-25T00:49:35.231603",
     "exception": false,
     "start_time": "2022-09-25T00:49:35.194207",
     "status": "completed"
    },
    "tags": []
   },
   "outputs": [],
   "source": [
    "#hide\n",
    "# cols = ['name','group','day','value']"
   ]
  },
  {
   "cell_type": "code",
   "execution_count": 37,
   "id": "continued-sleeping",
   "metadata": {
    "execution": {
     "iopub.execute_input": "2022-09-25T00:49:35.295549Z",
     "iopub.status.busy": "2022-09-25T00:49:35.294884Z",
     "iopub.status.idle": "2022-09-25T00:49:35.297450Z",
     "shell.execute_reply": "2022-09-25T00:49:35.296813Z"
    },
    "papermill": {
     "duration": 0.035812,
     "end_time": "2022-09-25T00:49:35.297562",
     "exception": false,
     "start_time": "2022-09-25T00:49:35.261750",
     "status": "completed"
    },
    "tags": []
   },
   "outputs": [],
   "source": [
    "#hide\n",
    "# g.rename(columns= {'date':'day'},inplace = True)"
   ]
  },
  {
   "cell_type": "code",
   "execution_count": 38,
   "id": "major-fight",
   "metadata": {
    "execution": {
     "iopub.execute_input": "2022-09-25T00:49:35.361676Z",
     "iopub.status.busy": "2022-09-25T00:49:35.361007Z",
     "iopub.status.idle": "2022-09-25T00:49:35.365410Z",
     "shell.execute_reply": "2022-09-25T00:49:35.364903Z"
    },
    "papermill": {
     "duration": 0.037405,
     "end_time": "2022-09-25T00:49:35.365526",
     "exception": false,
     "start_time": "2022-09-25T00:49:35.328121",
     "status": "completed"
    },
    "tags": []
   },
   "outputs": [],
   "source": [
    "#hide\n",
    "# g = g[cols]"
   ]
  },
  {
   "cell_type": "code",
   "execution_count": 39,
   "id": "structured-mobile",
   "metadata": {
    "execution": {
     "iopub.execute_input": "2022-09-25T00:49:35.429406Z",
     "iopub.status.busy": "2022-09-25T00:49:35.428786Z",
     "iopub.status.idle": "2022-09-25T00:49:35.431147Z",
     "shell.execute_reply": "2022-09-25T00:49:35.430589Z"
    },
    "papermill": {
     "duration": 0.035236,
     "end_time": "2022-09-25T00:49:35.431247",
     "exception": false,
     "start_time": "2022-09-25T00:49:35.396011",
     "status": "completed"
    },
    "tags": []
   },
   "outputs": [],
   "source": [
    "# #hide\n",
    "# g = g[g.group.notna()]"
   ]
  },
  {
   "cell_type": "code",
   "execution_count": 40,
   "id": "determined-closing",
   "metadata": {
    "execution": {
     "iopub.execute_input": "2022-09-25T00:49:35.495413Z",
     "iopub.status.busy": "2022-09-25T00:49:35.494741Z",
     "iopub.status.idle": "2022-09-25T00:49:35.499423Z",
     "shell.execute_reply": "2022-09-25T00:49:35.498915Z"
    },
    "papermill": {
     "duration": 0.037947,
     "end_time": "2022-09-25T00:49:35.499540",
     "exception": false,
     "start_time": "2022-09-25T00:49:35.461593",
     "status": "completed"
    },
    "tags": []
   },
   "outputs": [],
   "source": [
    "# #hide\n",
    "# colors = dict(zip(\n",
    "#     [\"Oceania\", \"Europe\", \"Asia\", \"South America\", \"Middle East\", \"North America\", \"Africa\"],\n",
    "#     [\"#adb0ff\", \"#ffb3ff\", \"#90d595\", \"#e48381\", \"#aafbff\", \"#f7bb5f\", \"#eafb50\"]\n",
    "# ))\n",
    "# group_lk = g.set_index('name')['group'].to_dict()"
   ]
  },
  {
   "cell_type": "code",
   "execution_count": null,
   "id": "gross-drinking",
   "metadata": {
    "papermill": {
     "duration": 0.030605,
     "end_time": "2022-09-25T00:49:35.560275",
     "exception": false,
     "start_time": "2022-09-25T00:49:35.529670",
     "status": "completed"
    },
    "tags": []
   },
   "outputs": [],
   "source": []
  },
  {
   "cell_type": "code",
   "execution_count": 41,
   "id": "subject-macintosh",
   "metadata": {
    "execution": {
     "iopub.execute_input": "2022-09-25T00:49:35.625172Z",
     "iopub.status.busy": "2022-09-25T00:49:35.624575Z",
     "iopub.status.idle": "2022-09-25T00:49:35.626983Z",
     "shell.execute_reply": "2022-09-25T00:49:35.627430Z"
    },
    "papermill": {
     "duration": 0.036876,
     "end_time": "2022-09-25T00:49:35.627552",
     "exception": false,
     "start_time": "2022-09-25T00:49:35.590676",
     "status": "completed"
    },
    "tags": []
   },
   "outputs": [],
   "source": [
    "# #hide\n",
    "# fig, ax = plt.subplots(figsize=(15, 8))\n",
    "\n",
    "# def draw_barchart(current_day):\n",
    "#     dff = g[g['day'].eq(current_day)].sort_values(by='value', ascending=True).tail(10)\n",
    "#     ax.clear()\n",
    "#     ax.barh(dff['name'], dff['value'], color=[colors[group_lk[x]] for x in dff['name']])\n",
    "#     dx = dff['value'].max() / 200\n",
    "    \n",
    "#     for i, (value, name) in enumerate(zip(dff['value'], dff['name'])):\n",
    "#         ax.text(value-dx, i,     name,           size=14, weight=600, ha='right', va='bottom')\n",
    "#         ax.text(value-dx, i-.25, group_lk[name], size=10, color='#444444', ha='right', va='baseline')\n",
    "#         ax.text(value+dx, i,     f'{value:,.0f}',  size=14, ha='left',  va='center')\n",
    "#     ax.text(1, 0.4, current_day, transform=ax.transAxes, color='#777777', size=46, ha='right', weight=800)\n",
    "#     ax.text(0, 1.06, 'Population (thousands)', transform=ax.transAxes, size=12, color='#777777')\n",
    "#     ax.xaxis.set_major_formatter(ticker.StrMethodFormatter('{x:,.0f}'))\n",
    "#     ax.xaxis.set_ticks_position('top')\n",
    "#     ax.tick_params(axis='x', colors='#777777', labelsize=12)\n",
    "#     ax.set_yticks([])\n",
    "#     ax.margins(0, 0.01)\n",
    "#     ax.grid(which='major', axis='x', linestyle='-')\n",
    "#     ax.set_axisbelow(True)\n",
    "    \n",
    "#     ax.text(0, 1.15, 'Coronavirus',\n",
    "#             transform=ax.transAxes, size=24, weight=600, ha='left', va='top')\n",
    "# #     ax.text(1, 0, 'by @pratapvardhan; credit @jburnmurdoch', transform=ax.transAxes, color='#777777', ha='right',\n",
    "# #             bbox=dict(facecolor='white', alpha=0.8, edgecolor='white'))\n",
    "#     plt.box(False)"
   ]
  },
  {
   "cell_type": "code",
   "execution_count": 42,
   "id": "sexual-wages",
   "metadata": {
    "execution": {
     "iopub.execute_input": "2022-09-25T00:49:35.691463Z",
     "iopub.status.busy": "2022-09-25T00:49:35.690809Z",
     "iopub.status.idle": "2022-09-25T00:49:35.693186Z",
     "shell.execute_reply": "2022-09-25T00:49:35.692721Z"
    },
    "papermill": {
     "duration": 0.035674,
     "end_time": "2022-09-25T00:49:35.693287",
     "exception": false,
     "start_time": "2022-09-25T00:49:35.657613",
     "status": "completed"
    },
    "tags": []
   },
   "outputs": [],
   "source": [
    "# #hide_input\n",
    "# fig, ax = plt.subplots(figsize=(15, 8))\n",
    "# animator = animation.FuncAnimation(fig, draw_barchart, frames=range(g.day.values.min(), g.day.values.max()))\n",
    "# HTML(animator.to_jshtml())\n",
    "# # or use animator.to_html5_video() or animator.save() "
   ]
  },
  {
   "cell_type": "code",
   "execution_count": null,
   "id": "australian-container",
   "metadata": {
    "papermill": {
     "duration": 0.03005,
     "end_time": "2022-09-25T00:49:35.755725",
     "exception": false,
     "start_time": "2022-09-25T00:49:35.725675",
     "status": "completed"
    },
    "tags": []
   },
   "outputs": [],
   "source": []
  },
  {
   "cell_type": "code",
   "execution_count": null,
   "id": "mediterranean-pontiac",
   "metadata": {
    "papermill": {
     "duration": 0.030076,
     "end_time": "2022-09-25T00:49:35.815795",
     "exception": false,
     "start_time": "2022-09-25T00:49:35.785719",
     "status": "completed"
    },
    "tags": []
   },
   "outputs": [],
   "source": []
  },
  {
   "cell_type": "code",
   "execution_count": null,
   "id": "aging-legislature",
   "metadata": {
    "papermill": {
     "duration": 0.030139,
     "end_time": "2022-09-25T00:49:35.876292",
     "exception": false,
     "start_time": "2022-09-25T00:49:35.846153",
     "status": "completed"
    },
    "tags": []
   },
   "outputs": [],
   "source": []
  }
 ],
 "metadata": {
  "kernelspec": {
   "display_name": "Python 3",
   "language": "python",
   "name": "python3"
  },
  "language_info": {
   "codemirror_mode": {
    "name": "ipython",
    "version": 3
   },
   "file_extension": ".py",
   "mimetype": "text/x-python",
   "name": "python",
   "nbconvert_exporter": "python",
   "pygments_lexer": "ipython3",
   "version": "3.6.15"
  },
  "papermill": {
   "duration": 5.962478,
   "end_time": "2022-09-25T00:49:36.224983",
   "environment_variables": {},
   "exception": null,
   "input_path": "2020-03-21-covid19exp.ipynb",
   "output_path": "2020-03-21-covid19exp.ipynb",
   "parameters": {},
   "start_time": "2022-09-25T00:49:30.262505",
   "version": "2.0.0"
  }
 },
 "nbformat": 4,
 "nbformat_minor": 5
}