{
 "cells": [
  {
   "cell_type": "markdown",
   "id": "muslim-click",
   "metadata": {
    "papermill": {
     "duration": 0.033507,
     "end_time": "2021-12-20T12:13:12.239092",
     "exception": false,
     "start_time": "2021-12-20T12:13:12.205585",
     "status": "completed"
    },
    "tags": []
   },
   "source": [
    "# COVID-19 Case Race\n",
    "> A race chart to see rising cases around the world\n",
    "\n",
    "- author: Hargun Oberoi\n",
    "- image: images/covid-overview.png\n",
    "- hide: false\n",
    "- badges: false"
   ]
  },
  {
   "cell_type": "code",
   "execution_count": 1,
   "id": "proof-material",
   "metadata": {
    "execution": {
     "iopub.execute_input": "2021-12-20T12:13:12.307780Z",
     "iopub.status.busy": "2021-12-20T12:13:12.307248Z",
     "iopub.status.idle": "2021-12-20T12:13:12.625811Z",
     "shell.execute_reply": "2021-12-20T12:13:12.625267Z"
    },
    "papermill": {
     "duration": 0.357028,
     "end_time": "2021-12-20T12:13:12.625965",
     "exception": false,
     "start_time": "2021-12-20T12:13:12.268937",
     "status": "completed"
    },
    "tags": []
   },
   "outputs": [],
   "source": [
    "#hide\n",
    "import numpy as np\n",
    "import pandas as pd\n",
    "from jinja2 import Template\n",
    "from IPython.display import HTML"
   ]
  },
  {
   "cell_type": "code",
   "execution_count": 2,
   "id": "developed-terminology",
   "metadata": {
    "execution": {
     "iopub.execute_input": "2021-12-20T12:13:12.691131Z",
     "iopub.status.busy": "2021-12-20T12:13:12.690603Z",
     "iopub.status.idle": "2021-12-20T12:13:12.692972Z",
     "shell.execute_reply": "2021-12-20T12:13:12.692534Z"
    },
    "papermill": {
     "duration": 0.03761,
     "end_time": "2021-12-20T12:13:12.693080",
     "exception": false,
     "start_time": "2021-12-20T12:13:12.655470",
     "status": "completed"
    },
    "tags": []
   },
   "outputs": [],
   "source": [
    "#hide\n",
    "\n",
    "# FETCH\n",
    "base_url = 'https://raw.githubusercontent.com/pratapvardhan/notebooks/master/covid19/'\n",
    "paths = {\n",
    "    'mapping': base_url + 'mapping_countries.csv',\n",
    "    'overview': base_url + 'overview.tpl'\n",
    "}"
   ]
  },
  {
   "cell_type": "code",
   "execution_count": 3,
   "id": "dynamic-saver",
   "metadata": {
    "execution": {
     "iopub.execute_input": "2021-12-20T12:13:12.761529Z",
     "iopub.status.busy": "2021-12-20T12:13:12.761046Z",
     "iopub.status.idle": "2021-12-20T12:13:12.763425Z",
     "shell.execute_reply": "2021-12-20T12:13:12.763769Z"
    },
    "papermill": {
     "duration": 0.041517,
     "end_time": "2021-12-20T12:13:12.763907",
     "exception": false,
     "start_time": "2021-12-20T12:13:12.722390",
     "status": "completed"
    },
    "tags": []
   },
   "outputs": [
    {
     "data": {
      "text/plain": [
       "'https://raw.githubusercontent.com/pratapvardhan/notebooks/master/covid19/mapping_countries.csv'"
      ]
     },
     "execution_count": 3,
     "metadata": {},
     "output_type": "execute_result"
    }
   ],
   "source": [
    "#hide\n",
    "paths['mapping']"
   ]
  },
  {
   "cell_type": "code",
   "execution_count": 4,
   "id": "urban-software",
   "metadata": {
    "execution": {
     "iopub.execute_input": "2021-12-20T12:13:12.821736Z",
     "iopub.status.busy": "2021-12-20T12:13:12.821195Z",
     "iopub.status.idle": "2021-12-20T12:13:12.823271Z",
     "shell.execute_reply": "2021-12-20T12:13:12.823707Z"
    },
    "papermill": {
     "duration": 0.033695,
     "end_time": "2021-12-20T12:13:12.823838",
     "exception": false,
     "start_time": "2021-12-20T12:13:12.790143",
     "status": "completed"
    },
    "tags": []
   },
   "outputs": [],
   "source": [
    "#hide\n",
    "def get_mappings(url):\n",
    "    df = pd.read_csv(url)\n",
    "    return {\n",
    "        'df': df,\n",
    "        'replace.country': dict(df.dropna(subset=['Name']).set_index('Country')['Name']),\n",
    "        'map.continent': dict(df.set_index('Name')['Continent'])\n",
    "    }"
   ]
  },
  {
   "cell_type": "code",
   "execution_count": 5,
   "id": "intimate-machinery",
   "metadata": {
    "execution": {
     "iopub.execute_input": "2021-12-20T12:13:12.888142Z",
     "iopub.status.busy": "2021-12-20T12:13:12.887595Z",
     "iopub.status.idle": "2021-12-20T12:13:12.953902Z",
     "shell.execute_reply": "2021-12-20T12:13:12.954379Z"
    },
    "papermill": {
     "duration": 0.101094,
     "end_time": "2021-12-20T12:13:12.954542",
     "exception": false,
     "start_time": "2021-12-20T12:13:12.853448",
     "status": "completed"
    },
    "tags": []
   },
   "outputs": [],
   "source": [
    "#hide\n",
    "mapping = get_mappings(paths['mapping'])"
   ]
  },
  {
   "cell_type": "code",
   "execution_count": 6,
   "id": "certified-tactics",
   "metadata": {
    "execution": {
     "iopub.execute_input": "2021-12-20T12:13:13.020472Z",
     "iopub.status.busy": "2021-12-20T12:13:13.019813Z",
     "iopub.status.idle": "2021-12-20T12:13:13.021209Z",
     "shell.execute_reply": "2021-12-20T12:13:13.021747Z"
    },
    "papermill": {
     "duration": 0.036619,
     "end_time": "2021-12-20T12:13:13.021893",
     "exception": false,
     "start_time": "2021-12-20T12:13:12.985274",
     "status": "completed"
    },
    "tags": []
   },
   "outputs": [],
   "source": [
    "#hide\n",
    "def get_template(path):\n",
    "    from urllib.parse import urlparse\n",
    "    if bool(urlparse(path).netloc):\n",
    "        from urllib.request import urlopen\n",
    "        return urlopen(path).read().decode('utf8')\n",
    "    return open(path).read()"
   ]
  },
  {
   "cell_type": "code",
   "execution_count": 7,
   "id": "realistic-blast",
   "metadata": {
    "execution": {
     "iopub.execute_input": "2021-12-20T12:13:13.079396Z",
     "iopub.status.busy": "2021-12-20T12:13:13.078861Z",
     "iopub.status.idle": "2021-12-20T12:13:13.082421Z",
     "shell.execute_reply": "2021-12-20T12:13:13.082011Z"
    },
    "papermill": {
     "duration": 0.034232,
     "end_time": "2021-12-20T12:13:13.082532",
     "exception": false,
     "start_time": "2021-12-20T12:13:13.048300",
     "status": "completed"
    },
    "tags": []
   },
   "outputs": [],
   "source": [
    "#hide\n",
    "def get_frame(name):\n",
    "    url = (\n",
    "        'https://raw.githubusercontent.com/CSSEGISandData/COVID-19/master/csse_covid_19_data/'\n",
    "        f'csse_covid_19_time_series/time_series_covid19_{name}_global.csv')\n",
    "    df = pd.read_csv(url)\n",
    "    # rename countries\n",
    "    df['Country/Region'] = df['Country/Region'].replace(mapping['replace.country'])\n",
    "    return df"
   ]
  },
  {
   "cell_type": "code",
   "execution_count": 8,
   "id": "affiliated-characterization",
   "metadata": {
    "execution": {
     "iopub.execute_input": "2021-12-20T12:13:13.147457Z",
     "iopub.status.busy": "2021-12-20T12:13:13.146944Z",
     "iopub.status.idle": "2021-12-20T12:13:13.149332Z",
     "shell.execute_reply": "2021-12-20T12:13:13.148924Z"
    },
    "papermill": {
     "duration": 0.037182,
     "end_time": "2021-12-20T12:13:13.149441",
     "exception": false,
     "start_time": "2021-12-20T12:13:13.112259",
     "status": "completed"
    },
    "tags": []
   },
   "outputs": [],
   "source": [
    "#hide\n",
    "def get_dates(df):\n",
    "    dt_cols = df.columns[~df.columns.isin(['Province/State', 'Country/Region', 'Lat', 'Long'])]\n",
    "    LAST_DATE_I = -1\n",
    "    # sometimes last column may be empty, then go backwards\n",
    "    for i in range(-1, -len(dt_cols), -1):\n",
    "        if not df[dt_cols[i]].fillna(0).eq(0).all():\n",
    "            LAST_DATE_I = i\n",
    "            break\n",
    "    return LAST_DATE_I, dt_cols"
   ]
  },
  {
   "cell_type": "code",
   "execution_count": 9,
   "id": "recent-optimization",
   "metadata": {
    "execution": {
     "iopub.execute_input": "2021-12-20T12:13:13.213125Z",
     "iopub.status.busy": "2021-12-20T12:13:13.212186Z",
     "iopub.status.idle": "2021-12-20T12:13:13.816605Z",
     "shell.execute_reply": "2021-12-20T12:13:13.816093Z"
    },
    "papermill": {
     "duration": 0.637943,
     "end_time": "2021-12-20T12:13:13.816725",
     "exception": false,
     "start_time": "2021-12-20T12:13:13.178782",
     "status": "completed"
    },
    "tags": []
   },
   "outputs": [],
   "source": [
    "#hide\n",
    "COL_REGION = 'Country/Region'\n",
    "# Confirmed, Recovered, Deaths\n",
    "df = get_frame('confirmed')\n",
    "# dft_: timeseries, dfc_: today country agg\n",
    "dft_cases = df\n",
    "dft_deaths = get_frame('deaths')\n",
    "dft_recovered = get_frame('recovered')\n",
    "LAST_DATE_I, dt_cols = get_dates(df)"
   ]
  },
  {
   "cell_type": "code",
   "execution_count": 10,
   "id": "absolute-copper",
   "metadata": {
    "execution": {
     "iopub.execute_input": "2021-12-20T12:13:13.882395Z",
     "iopub.status.busy": "2021-12-20T12:13:13.881788Z",
     "iopub.status.idle": "2021-12-20T12:13:13.883288Z",
     "shell.execute_reply": "2021-12-20T12:13:13.883721Z"
    },
    "papermill": {
     "duration": 0.037192,
     "end_time": "2021-12-20T12:13:13.883865",
     "exception": false,
     "start_time": "2021-12-20T12:13:13.846673",
     "status": "completed"
    },
    "tags": []
   },
   "outputs": [],
   "source": [
    "#hide\n",
    "LAST_DATE_I, dt_cols = get_dates(df)\n",
    "dt_today =dt_cols[LAST_DATE_I]\n",
    "# dt_5day = dt_cols[LAST_DATE_I - 5]\n",
    "dt_yday = dt_cols[LAST_DATE_I - 1]"
   ]
  },
  {
   "cell_type": "code",
   "execution_count": 11,
   "id": "restricted-sheriff",
   "metadata": {
    "execution": {
     "iopub.execute_input": "2021-12-20T12:13:13.950866Z",
     "iopub.status.busy": "2021-12-20T12:13:13.950350Z",
     "iopub.status.idle": "2021-12-20T12:13:13.955790Z",
     "shell.execute_reply": "2021-12-20T12:13:13.955374Z"
    },
    "papermill": {
     "duration": 0.042126,
     "end_time": "2021-12-20T12:13:13.955902",
     "exception": false,
     "start_time": "2021-12-20T12:13:13.913776",
     "status": "completed"
    },
    "tags": []
   },
   "outputs": [],
   "source": [
    "#hide\n",
    "dfc_cases = dft_cases.groupby(COL_REGION)[dt_today].sum()\n",
    "dfc_deaths = dft_deaths.groupby(COL_REGION)[dt_today].sum()\n",
    "# dfp_cases = dft_cases.groupby(COL_REGION)[dt_5day].sum()\n",
    "# dfp_deaths = dft_deaths.groupby(COL_REGION)[dt_5day].sum()\n",
    "dfp_cases = dft_cases.groupby(COL_REGION)[dt_yday].sum()\n",
    "dfp_deaths = dft_deaths.groupby(COL_REGION)[dt_yday].sum()"
   ]
  },
  {
   "cell_type": "code",
   "execution_count": 12,
   "id": "deluxe-hepatitis",
   "metadata": {
    "execution": {
     "iopub.execute_input": "2021-12-20T12:13:14.021048Z",
     "iopub.status.busy": "2021-12-20T12:13:14.020536Z",
     "iopub.status.idle": "2021-12-20T12:13:14.024923Z",
     "shell.execute_reply": "2021-12-20T12:13:14.024410Z"
    },
    "papermill": {
     "duration": 0.039541,
     "end_time": "2021-12-20T12:13:14.025033",
     "exception": false,
     "start_time": "2021-12-20T12:13:13.985492",
     "status": "completed"
    },
    "tags": []
   },
   "outputs": [],
   "source": [
    "#hide\n",
    "df_table = (pd.DataFrame(dict(Cases = dfc_cases, Deaths = dfc_deaths, PCases = dfp_cases, PDeaths = dfp_deaths))\n",
    "            .sort_values(by = ['Cases','Deaths'], ascending = [False, False])\n",
    "            .reset_index())"
   ]
  },
  {
   "cell_type": "code",
   "execution_count": 13,
   "id": "educational-chancellor",
   "metadata": {
    "execution": {
     "iopub.execute_input": "2021-12-20T12:13:14.112023Z",
     "iopub.status.busy": "2021-12-20T12:13:14.111456Z",
     "iopub.status.idle": "2021-12-20T12:13:14.133536Z",
     "shell.execute_reply": "2021-12-20T12:13:14.133112Z"
    },
    "papermill": {
     "duration": 0.079232,
     "end_time": "2021-12-20T12:13:14.133656",
     "exception": false,
     "start_time": "2021-12-20T12:13:14.054424",
     "status": "completed"
    },
    "tags": []
   },
   "outputs": [
    {
     "data": {
      "text/html": [
       "<div>\n",
       "<style scoped>\n",
       "    .dataframe tbody tr th:only-of-type {\n",
       "        vertical-align: middle;\n",
       "    }\n",
       "\n",
       "    .dataframe tbody tr th {\n",
       "        vertical-align: top;\n",
       "    }\n",
       "\n",
       "    .dataframe thead th {\n",
       "        text-align: right;\n",
       "    }\n",
       "</style>\n",
       "<table border=\"1\" class=\"dataframe\">\n",
       "  <thead>\n",
       "    <tr style=\"text-align: right;\">\n",
       "      <th></th>\n",
       "      <th>Country/Region</th>\n",
       "      <th>Cases</th>\n",
       "      <th>Deaths</th>\n",
       "      <th>PCases</th>\n",
       "      <th>PDeaths</th>\n",
       "      <th>Cases (+)</th>\n",
       "      <th>Deaths (+)</th>\n",
       "      <th>Fatality Rate</th>\n",
       "      <th>Continent</th>\n",
       "    </tr>\n",
       "  </thead>\n",
       "  <tbody>\n",
       "    <tr>\n",
       "      <th>0</th>\n",
       "      <td>US</td>\n",
       "      <td>50846828</td>\n",
       "      <td>806439</td>\n",
       "      <td>50776013</td>\n",
       "      <td>806302</td>\n",
       "      <td>70815</td>\n",
       "      <td>137</td>\n",
       "      <td>1.59</td>\n",
       "      <td>North America</td>\n",
       "    </tr>\n",
       "    <tr>\n",
       "      <th>1</th>\n",
       "      <td>India</td>\n",
       "      <td>34746838</td>\n",
       "      <td>477554</td>\n",
       "      <td>34733194</td>\n",
       "      <td>477158</td>\n",
       "      <td>13644</td>\n",
       "      <td>396</td>\n",
       "      <td>1.37</td>\n",
       "      <td>Asia</td>\n",
       "    </tr>\n",
       "    <tr>\n",
       "      <th>2</th>\n",
       "      <td>Brazil</td>\n",
       "      <td>22213762</td>\n",
       "      <td>617803</td>\n",
       "      <td>22204941</td>\n",
       "      <td>617395</td>\n",
       "      <td>8821</td>\n",
       "      <td>408</td>\n",
       "      <td>2.78</td>\n",
       "      <td>South America</td>\n",
       "    </tr>\n",
       "    <tr>\n",
       "      <th>3</th>\n",
       "      <td>United Kingdom</td>\n",
       "      <td>11425657</td>\n",
       "      <td>147679</td>\n",
       "      <td>11343594</td>\n",
       "      <td>147634</td>\n",
       "      <td>82063</td>\n",
       "      <td>45</td>\n",
       "      <td>1.29</td>\n",
       "      <td>Europe</td>\n",
       "    </tr>\n",
       "    <tr>\n",
       "      <th>4</th>\n",
       "      <td>Russia</td>\n",
       "      <td>10037546</td>\n",
       "      <td>291336</td>\n",
       "      <td>10009866</td>\n",
       "      <td>290340</td>\n",
       "      <td>27680</td>\n",
       "      <td>996</td>\n",
       "      <td>2.90</td>\n",
       "      <td>Europe</td>\n",
       "    </tr>\n",
       "  </tbody>\n",
       "</table>\n",
       "</div>"
      ],
      "text/plain": [
       "   Country/Region     Cases  Deaths    PCases  PDeaths  Cases (+)  Deaths (+)  \\\n",
       "0              US  50846828  806439  50776013   806302      70815         137   \n",
       "1           India  34746838  477554  34733194   477158      13644         396   \n",
       "2          Brazil  22213762  617803  22204941   617395       8821         408   \n",
       "3  United Kingdom  11425657  147679  11343594   147634      82063          45   \n",
       "4          Russia  10037546  291336  10009866   290340      27680         996   \n",
       "\n",
       "   Fatality Rate      Continent  \n",
       "0           1.59  North America  \n",
       "1           1.37           Asia  \n",
       "2           2.78  South America  \n",
       "3           1.29         Europe  \n",
       "4           2.90         Europe  "
      ]
     },
     "execution_count": 13,
     "metadata": {},
     "output_type": "execute_result"
    }
   ],
   "source": [
    "#hide\n",
    "for c in 'Cases, Deaths'.split(', '):\n",
    "    df_table[f'{c} (+)'] = (df_table[c] - df_table[f'P{c}']).clip(0)\n",
    "    #Clip ça veut dire, les chiffres negatif sont interdit\n",
    "df_table['Fatality Rate'] = (100* df_table['Deaths']/ df_table['Cases']).round(2)\n",
    "df_table['Continent'] = df_table['Country/Region'].map(mapping['map.continent'])\n",
    "df_table.head(5)"
   ]
  },
  {
   "cell_type": "code",
   "execution_count": 14,
   "id": "aboriginal-bulgaria",
   "metadata": {
    "execution": {
     "iopub.execute_input": "2021-12-20T12:13:14.361833Z",
     "iopub.status.busy": "2021-12-20T12:13:14.361283Z",
     "iopub.status.idle": "2021-12-20T12:13:14.363417Z",
     "shell.execute_reply": "2021-12-20T12:13:14.362915Z"
    },
    "papermill": {
     "duration": 0.073421,
     "end_time": "2021-12-20T12:13:14.363532",
     "exception": false,
     "start_time": "2021-12-20T12:13:14.290111",
     "status": "completed"
    },
    "tags": []
   },
   "outputs": [],
   "source": [
    "#hide\n",
    "#delete problematic countries from table\n",
    "df_table = df_table[~df_table['Country/Region'].isin(['Cape Verde', 'Cruise Ship', 'Kosovo'])]"
   ]
  },
  {
   "cell_type": "code",
   "execution_count": 15,
   "id": "fantastic-effect",
   "metadata": {
    "execution": {
     "iopub.execute_input": "2021-12-20T12:13:14.502891Z",
     "iopub.status.busy": "2021-12-20T12:13:14.502299Z",
     "iopub.status.idle": "2021-12-20T12:13:14.522175Z",
     "shell.execute_reply": "2021-12-20T12:13:14.522592Z"
    },
    "papermill": {
     "duration": 0.066182,
     "end_time": "2021-12-20T12:13:14.522730",
     "exception": false,
     "start_time": "2021-12-20T12:13:14.456548",
     "status": "completed"
    },
    "tags": []
   },
   "outputs": [
    {
     "data": {
      "text/html": [
       "<div>\n",
       "<style scoped>\n",
       "    .dataframe tbody tr th:only-of-type {\n",
       "        vertical-align: middle;\n",
       "    }\n",
       "\n",
       "    .dataframe tbody tr th {\n",
       "        vertical-align: top;\n",
       "    }\n",
       "\n",
       "    .dataframe thead th {\n",
       "        text-align: right;\n",
       "    }\n",
       "</style>\n",
       "<table border=\"1\" class=\"dataframe\">\n",
       "  <thead>\n",
       "    <tr style=\"text-align: right;\">\n",
       "      <th></th>\n",
       "      <th>Country/Region</th>\n",
       "      <th>Cases</th>\n",
       "      <th>Deaths</th>\n",
       "      <th>PCases</th>\n",
       "      <th>PDeaths</th>\n",
       "      <th>Cases (+)</th>\n",
       "      <th>Deaths (+)</th>\n",
       "      <th>Fatality Rate</th>\n",
       "      <th>Continent</th>\n",
       "    </tr>\n",
       "  </thead>\n",
       "  <tbody>\n",
       "    <tr>\n",
       "      <th>0</th>\n",
       "      <td>US</td>\n",
       "      <td>50846828</td>\n",
       "      <td>806439</td>\n",
       "      <td>50776013</td>\n",
       "      <td>806302</td>\n",
       "      <td>70815</td>\n",
       "      <td>137</td>\n",
       "      <td>1.6</td>\n",
       "      <td>North America</td>\n",
       "    </tr>\n",
       "    <tr>\n",
       "      <th>1</th>\n",
       "      <td>India</td>\n",
       "      <td>34746838</td>\n",
       "      <td>477554</td>\n",
       "      <td>34733194</td>\n",
       "      <td>477158</td>\n",
       "      <td>13644</td>\n",
       "      <td>396</td>\n",
       "      <td>1.4</td>\n",
       "      <td>Asia</td>\n",
       "    </tr>\n",
       "    <tr>\n",
       "      <th>2</th>\n",
       "      <td>Brazil</td>\n",
       "      <td>22213762</td>\n",
       "      <td>617803</td>\n",
       "      <td>22204941</td>\n",
       "      <td>617395</td>\n",
       "      <td>8821</td>\n",
       "      <td>408</td>\n",
       "      <td>2.8</td>\n",
       "      <td>South America</td>\n",
       "    </tr>\n",
       "    <tr>\n",
       "      <th>3</th>\n",
       "      <td>United Kingdom</td>\n",
       "      <td>11425657</td>\n",
       "      <td>147679</td>\n",
       "      <td>11343594</td>\n",
       "      <td>147634</td>\n",
       "      <td>82063</td>\n",
       "      <td>45</td>\n",
       "      <td>1.3</td>\n",
       "      <td>Europe</td>\n",
       "    </tr>\n",
       "    <tr>\n",
       "      <th>4</th>\n",
       "      <td>Russia</td>\n",
       "      <td>10037546</td>\n",
       "      <td>291336</td>\n",
       "      <td>10009866</td>\n",
       "      <td>290340</td>\n",
       "      <td>27680</td>\n",
       "      <td>996</td>\n",
       "      <td>2.9</td>\n",
       "      <td>Europe</td>\n",
       "    </tr>\n",
       "  </tbody>\n",
       "</table>\n",
       "</div>"
      ],
      "text/plain": [
       "   Country/Region     Cases  Deaths    PCases  PDeaths  Cases (+)  Deaths (+)  \\\n",
       "0              US  50846828  806439  50776013   806302      70815         137   \n",
       "1           India  34746838  477554  34733194   477158      13644         396   \n",
       "2          Brazil  22213762  617803  22204941   617395       8821         408   \n",
       "3  United Kingdom  11425657  147679  11343594   147634      82063          45   \n",
       "4          Russia  10037546  291336  10009866   290340      27680         996   \n",
       "\n",
       "   Fatality Rate      Continent  \n",
       "0            1.6  North America  \n",
       "1            1.4           Asia  \n",
       "2            2.8  South America  \n",
       "3            1.3         Europe  \n",
       "4            2.9         Europe  "
      ]
     },
     "execution_count": 15,
     "metadata": {},
     "output_type": "execute_result"
    }
   ],
   "source": [
    "#hide\n",
    "df_table = (pd.DataFrame(dict(Cases=dfc_cases, Deaths=dfc_deaths, PCases=dfp_cases, PDeaths=dfp_deaths))\n",
    "             .sort_values(by=['Cases', 'Deaths'], ascending=[False, False])\n",
    "             .reset_index())\n",
    "df_table.rename(columns={'index': 'Country/Region'}, inplace=True)\n",
    "for c in 'Cases, Deaths'.split(', '):\n",
    "    df_table[f'{c} (+)'] = (df_table[c] - df_table[f'P{c}']).clip(0)  # DATA BUG\n",
    "df_table['Fatality Rate'] = (100 * df_table['Deaths'] / df_table['Cases']).round(1)\n",
    "df_table['Continent'] = df_table['Country/Region'].map(mapping['map.continent'])\n",
    "df_table.head(5)"
   ]
  },
  {
   "cell_type": "code",
   "execution_count": 16,
   "id": "fewer-occasion",
   "metadata": {
    "execution": {
     "iopub.execute_input": "2021-12-20T12:13:14.701543Z",
     "iopub.status.busy": "2021-12-20T12:13:14.700985Z",
     "iopub.status.idle": "2021-12-20T12:13:14.704359Z",
     "shell.execute_reply": "2021-12-20T12:13:14.704757Z"
    },
    "papermill": {
     "duration": 0.151137,
     "end_time": "2021-12-20T12:13:14.704898",
     "exception": false,
     "start_time": "2021-12-20T12:13:14.553761",
     "status": "completed"
    },
    "tags": []
   },
   "outputs": [],
   "source": [
    "#hide\n",
    "#delete problematic countries from table\n",
    "df_table = df_table[~df_table['Country/Region'].isin(['Cape Verde', 'Cruise Ship', 'Kosovo'])]"
   ]
  },
  {
   "cell_type": "code",
   "execution_count": 17,
   "id": "related-center",
   "metadata": {
    "execution": {
     "iopub.execute_input": "2021-12-20T12:13:14.883883Z",
     "iopub.status.busy": "2021-12-20T12:13:14.882500Z",
     "iopub.status.idle": "2021-12-20T12:13:14.884498Z",
     "shell.execute_reply": "2021-12-20T12:13:14.884898Z"
    },
    "papermill": {
     "duration": 0.086075,
     "end_time": "2021-12-20T12:13:14.885033",
     "exception": false,
     "start_time": "2021-12-20T12:13:14.798958",
     "status": "completed"
    },
    "tags": []
   },
   "outputs": [],
   "source": [
    "#hide\n",
    "metrics = [df_table.columns[index] for index in [1,2,5,6]]\n",
    "# s_china = df_table[df_table['Country/Region'].eq('China')][metrics].sum().add_prefix('China ')\n",
    "s_us = df_table[df_table['Country/Region'].eq('US')][metrics].sum().add_prefix('US ')\n",
    "s_eu = df_table[df_table['Continent'].eq('Europe')][metrics].sum().add_prefix('EU ')\n",
    "s_ind = df_table[df_table['Country/Region'].eq('India')][metrics].sum().add_prefix('India ')\n",
    "summary = {'updated': pd.to_datetime(dt_today), 'since': pd.to_datetime(dt_yday)}\n",
    "summary = {'updated': pd.to_datetime(dt_today), 'since': pd.to_datetime(dt_yday)}\n",
    "summary = {**summary, **df_table[metrics].sum(), **s_ind, **s_us, **s_eu}"
   ]
  },
  {
   "cell_type": "code",
   "execution_count": 18,
   "id": "engaging-syndrome",
   "metadata": {
    "execution": {
     "iopub.execute_input": "2021-12-20T12:13:14.998918Z",
     "iopub.status.busy": "2021-12-20T12:13:14.998057Z",
     "iopub.status.idle": "2021-12-20T12:13:15.011306Z",
     "shell.execute_reply": "2021-12-20T12:13:15.010841Z"
    },
    "papermill": {
     "duration": 0.052301,
     "end_time": "2021-12-20T12:13:15.011425",
     "exception": false,
     "start_time": "2021-12-20T12:13:14.959124",
     "status": "completed"
    },
    "tags": []
   },
   "outputs": [],
   "source": [
    "#hide\n",
    "dft_ct_new_cases = dft_cases.groupby(COL_REGION)[dt_cols].sum().diff(axis=1).fillna(0).astype(int)"
   ]
  },
  {
   "cell_type": "code",
   "execution_count": 19,
   "id": "neutral-assignment",
   "metadata": {
    "execution": {
     "iopub.execute_input": "2021-12-20T12:13:15.078641Z",
     "iopub.status.busy": "2021-12-20T12:13:15.078123Z",
     "iopub.status.idle": "2021-12-20T12:13:15.081599Z",
     "shell.execute_reply": "2021-12-20T12:13:15.081222Z"
    },
    "papermill": {
     "duration": 0.039727,
     "end_time": "2021-12-20T12:13:15.081704",
     "exception": false,
     "start_time": "2021-12-20T12:13:15.041977",
     "status": "completed"
    },
    "tags": []
   },
   "outputs": [],
   "source": [
    "#hide\n",
    "everydaycases = dft_ct_new_cases.cumsum(axis=1)"
   ]
  },
  {
   "cell_type": "code",
   "execution_count": 20,
   "id": "parliamentary-calgary",
   "metadata": {
    "execution": {
     "iopub.execute_input": "2021-12-20T12:13:15.140382Z",
     "iopub.status.busy": "2021-12-20T12:13:15.138932Z",
     "iopub.status.idle": "2021-12-20T12:13:15.754038Z",
     "shell.execute_reply": "2021-12-20T12:13:15.753500Z"
    },
    "papermill": {
     "duration": 0.645553,
     "end_time": "2021-12-20T12:13:15.754184",
     "exception": false,
     "start_time": "2021-12-20T12:13:15.108631",
     "status": "completed"
    },
    "tags": []
   },
   "outputs": [],
   "source": [
    "#hide\n",
    "import pandas as pd\n",
    "import matplotlib.pyplot as plt\n",
    "import matplotlib.ticker as ticker\n",
    "import matplotlib.animation as animation\n",
    "from IPython.display import HTML"
   ]
  },
  {
   "cell_type": "code",
   "execution_count": 21,
   "id": "lasting-extraction",
   "metadata": {
    "execution": {
     "iopub.execute_input": "2021-12-20T12:13:15.822073Z",
     "iopub.status.busy": "2021-12-20T12:13:15.821539Z",
     "iopub.status.idle": "2021-12-20T12:13:15.827314Z",
     "shell.execute_reply": "2021-12-20T12:13:15.827754Z"
    },
    "papermill": {
     "duration": 0.042799,
     "end_time": "2021-12-20T12:13:15.827890",
     "exception": false,
     "start_time": "2021-12-20T12:13:15.785091",
     "status": "completed"
    },
    "tags": []
   },
   "outputs": [],
   "source": [
    "#hide\n",
    "t = everydaycases.stack()"
   ]
  },
  {
   "cell_type": "code",
   "execution_count": 22,
   "id": "premier-sleeve",
   "metadata": {
    "execution": {
     "iopub.execute_input": "2021-12-20T12:13:15.893298Z",
     "iopub.status.busy": "2021-12-20T12:13:15.892764Z",
     "iopub.status.idle": "2021-12-20T12:13:15.902603Z",
     "shell.execute_reply": "2021-12-20T12:13:15.902995Z"
    },
    "papermill": {
     "duration": 0.044773,
     "end_time": "2021-12-20T12:13:15.903136",
     "exception": false,
     "start_time": "2021-12-20T12:13:15.858363",
     "status": "completed"
    },
    "tags": []
   },
   "outputs": [],
   "source": [
    "#hide\n",
    "g = t.reset_index(['Country/Region'])"
   ]
  },
  {
   "cell_type": "code",
   "execution_count": 23,
   "id": "distributed-pittsburgh",
   "metadata": {
    "execution": {
     "iopub.execute_input": "2021-12-20T12:13:15.969234Z",
     "iopub.status.busy": "2021-12-20T12:13:15.968082Z",
     "iopub.status.idle": "2021-12-20T12:13:15.969820Z",
     "shell.execute_reply": "2021-12-20T12:13:15.970220Z"
    },
    "papermill": {
     "duration": 0.036784,
     "end_time": "2021-12-20T12:13:15.970352",
     "exception": false,
     "start_time": "2021-12-20T12:13:15.933568",
     "status": "completed"
    },
    "tags": []
   },
   "outputs": [],
   "source": [
    "#hide\n",
    "g.index.name = 'date'"
   ]
  },
  {
   "cell_type": "code",
   "execution_count": 24,
   "id": "naked-donor",
   "metadata": {
    "execution": {
     "iopub.execute_input": "2021-12-20T12:13:16.035123Z",
     "iopub.status.busy": "2021-12-20T12:13:16.034490Z",
     "iopub.status.idle": "2021-12-20T12:13:16.038245Z",
     "shell.execute_reply": "2021-12-20T12:13:16.038689Z"
    },
    "papermill": {
     "duration": 0.038143,
     "end_time": "2021-12-20T12:13:16.038843",
     "exception": false,
     "start_time": "2021-12-20T12:13:16.000700",
     "status": "completed"
    },
    "tags": []
   },
   "outputs": [],
   "source": [
    "# #hide\n",
    "# g = g.reset_index(['date'])"
   ]
  },
  {
   "cell_type": "code",
   "execution_count": 25,
   "id": "incomplete-mustang",
   "metadata": {
    "execution": {
     "iopub.execute_input": "2021-12-20T12:13:16.103856Z",
     "iopub.status.busy": "2021-12-20T12:13:16.103313Z",
     "iopub.status.idle": "2021-12-20T12:13:16.105332Z",
     "shell.execute_reply": "2021-12-20T12:13:16.104821Z"
    },
    "papermill": {
     "duration": 0.03568,
     "end_time": "2021-12-20T12:13:16.105450",
     "exception": false,
     "start_time": "2021-12-20T12:13:16.069770",
     "status": "completed"
    },
    "tags": []
   },
   "outputs": [],
   "source": [
    "#hide\n",
    "# g.head()"
   ]
  },
  {
   "cell_type": "code",
   "execution_count": 26,
   "id": "specific-kruger",
   "metadata": {
    "execution": {
     "iopub.execute_input": "2021-12-20T12:13:16.172287Z",
     "iopub.status.busy": "2021-12-20T12:13:16.171741Z",
     "iopub.status.idle": "2021-12-20T12:13:16.174684Z",
     "shell.execute_reply": "2021-12-20T12:13:16.174308Z"
    },
    "papermill": {
     "duration": 0.037869,
     "end_time": "2021-12-20T12:13:16.174792",
     "exception": false,
     "start_time": "2021-12-20T12:13:16.136923",
     "status": "completed"
    },
    "tags": []
   },
   "outputs": [],
   "source": [
    "#hide\n",
    "# g.columns = ['date','country','cases']"
   ]
  },
  {
   "cell_type": "code",
   "execution_count": 27,
   "id": "tender-conversion",
   "metadata": {
    "execution": {
     "iopub.execute_input": "2021-12-20T12:13:16.232791Z",
     "iopub.status.busy": "2021-12-20T12:13:16.232313Z",
     "iopub.status.idle": "2021-12-20T12:13:16.234554Z",
     "shell.execute_reply": "2021-12-20T12:13:16.234183Z"
    },
    "papermill": {
     "duration": 0.032872,
     "end_time": "2021-12-20T12:13:16.234660",
     "exception": false,
     "start_time": "2021-12-20T12:13:16.201788",
     "status": "completed"
    },
    "tags": []
   },
   "outputs": [],
   "source": [
    "#hide\n",
    "# g['continent'] = g.country"
   ]
  },
  {
   "cell_type": "code",
   "execution_count": 28,
   "id": "substantial-wilderness",
   "metadata": {
    "execution": {
     "iopub.execute_input": "2021-12-20T12:13:16.295329Z",
     "iopub.status.busy": "2021-12-20T12:13:16.294847Z",
     "iopub.status.idle": "2021-12-20T12:13:16.297492Z",
     "shell.execute_reply": "2021-12-20T12:13:16.297123Z"
    },
    "papermill": {
     "duration": 0.035982,
     "end_time": "2021-12-20T12:13:16.297597",
     "exception": false,
     "start_time": "2021-12-20T12:13:16.261615",
     "status": "completed"
    },
    "tags": []
   },
   "outputs": [],
   "source": [
    "#hide\n",
    "# cols = list(g.columns.values)"
   ]
  },
  {
   "cell_type": "code",
   "execution_count": 29,
   "id": "solved-farming",
   "metadata": {
    "execution": {
     "iopub.execute_input": "2021-12-20T12:13:16.355040Z",
     "iopub.status.busy": "2021-12-20T12:13:16.354485Z",
     "iopub.status.idle": "2021-12-20T12:13:16.358161Z",
     "shell.execute_reply": "2021-12-20T12:13:16.357744Z"
    },
    "papermill": {
     "duration": 0.033814,
     "end_time": "2021-12-20T12:13:16.358278",
     "exception": false,
     "start_time": "2021-12-20T12:13:16.324464",
     "status": "completed"
    },
    "tags": []
   },
   "outputs": [],
   "source": [
    "#hide\n",
    "# cols.insert(0, cols.pop())"
   ]
  },
  {
   "cell_type": "code",
   "execution_count": 30,
   "id": "executed-adoption",
   "metadata": {
    "execution": {
     "iopub.execute_input": "2021-12-20T12:13:16.427832Z",
     "iopub.status.busy": "2021-12-20T12:13:16.427225Z",
     "iopub.status.idle": "2021-12-20T12:13:16.429025Z",
     "shell.execute_reply": "2021-12-20T12:13:16.428525Z"
    },
    "papermill": {
     "duration": 0.034597,
     "end_time": "2021-12-20T12:13:16.429137",
     "exception": false,
     "start_time": "2021-12-20T12:13:16.394540",
     "status": "completed"
    },
    "tags": []
   },
   "outputs": [],
   "source": [
    "#hide\n",
    "# g = g[cols]"
   ]
  },
  {
   "cell_type": "code",
   "execution_count": 31,
   "id": "subject-dublin",
   "metadata": {
    "execution": {
     "iopub.execute_input": "2021-12-20T12:13:16.494020Z",
     "iopub.status.busy": "2021-12-20T12:13:16.493399Z",
     "iopub.status.idle": "2021-12-20T12:13:16.494835Z",
     "shell.execute_reply": "2021-12-20T12:13:16.495324Z"
    },
    "papermill": {
     "duration": 0.035818,
     "end_time": "2021-12-20T12:13:16.495468",
     "exception": false,
     "start_time": "2021-12-20T12:13:16.459650",
     "status": "completed"
    },
    "tags": []
   },
   "outputs": [],
   "source": [
    "#hide\n",
    "# g['continent'] = g['continent'].map(mapping['map.continent'])"
   ]
  },
  {
   "cell_type": "code",
   "execution_count": 32,
   "id": "freelance-scout",
   "metadata": {
    "execution": {
     "iopub.execute_input": "2021-12-20T12:13:16.560591Z",
     "iopub.status.busy": "2021-12-20T12:13:16.560038Z",
     "iopub.status.idle": "2021-12-20T12:13:16.562128Z",
     "shell.execute_reply": "2021-12-20T12:13:16.561705Z"
    },
    "papermill": {
     "duration": 0.036092,
     "end_time": "2021-12-20T12:13:16.562241",
     "exception": false,
     "start_time": "2021-12-20T12:13:16.526149",
     "status": "completed"
    },
    "tags": []
   },
   "outputs": [],
   "source": [
    "#hide\n",
    "# g.head()"
   ]
  },
  {
   "cell_type": "code",
   "execution_count": 33,
   "id": "limited-engine",
   "metadata": {
    "execution": {
     "iopub.execute_input": "2021-12-20T12:13:16.627286Z",
     "iopub.status.busy": "2021-12-20T12:13:16.626760Z",
     "iopub.status.idle": "2021-12-20T12:13:16.630503Z",
     "shell.execute_reply": "2021-12-20T12:13:16.630089Z"
    },
    "papermill": {
     "duration": 0.037522,
     "end_time": "2021-12-20T12:13:16.630619",
     "exception": false,
     "start_time": "2021-12-20T12:13:16.593097",
     "status": "completed"
    },
    "tags": []
   },
   "outputs": [],
   "source": [
    "# hide\n",
    "# g['date'] = g['date'].astype('datetime64[ns]')"
   ]
  },
  {
   "cell_type": "code",
   "execution_count": 34,
   "id": "sophisticated-supervisor",
   "metadata": {
    "execution": {
     "iopub.execute_input": "2021-12-20T12:13:16.695166Z",
     "iopub.status.busy": "2021-12-20T12:13:16.694583Z",
     "iopub.status.idle": "2021-12-20T12:13:16.696786Z",
     "shell.execute_reply": "2021-12-20T12:13:16.696210Z"
    },
    "papermill": {
     "duration": 0.035907,
     "end_time": "2021-12-20T12:13:16.696907",
     "exception": false,
     "start_time": "2021-12-20T12:13:16.661000",
     "status": "completed"
    },
    "tags": []
   },
   "outputs": [],
   "source": [
    "#hide\n",
    "# g['date'] = g.date.dt.dayofyear"
   ]
  },
  {
   "cell_type": "code",
   "execution_count": 35,
   "id": "inside-dubai",
   "metadata": {
    "execution": {
     "iopub.execute_input": "2021-12-20T12:13:16.762016Z",
     "iopub.status.busy": "2021-12-20T12:13:16.761402Z",
     "iopub.status.idle": "2021-12-20T12:13:16.762799Z",
     "shell.execute_reply": "2021-12-20T12:13:16.763188Z"
    },
    "papermill": {
     "duration": 0.035548,
     "end_time": "2021-12-20T12:13:16.763312",
     "exception": false,
     "start_time": "2021-12-20T12:13:16.727764",
     "status": "completed"
    },
    "tags": []
   },
   "outputs": [],
   "source": [
    "#hide\n",
    "# g = g.rename(columns= {'continent':'group','country':'name','cases':'value'})"
   ]
  },
  {
   "cell_type": "code",
   "execution_count": 36,
   "id": "fleet-motorcycle",
   "metadata": {
    "execution": {
     "iopub.execute_input": "2021-12-20T12:13:16.820866Z",
     "iopub.status.busy": "2021-12-20T12:13:16.820247Z",
     "iopub.status.idle": "2021-12-20T12:13:16.823487Z",
     "shell.execute_reply": "2021-12-20T12:13:16.823857Z"
    },
    "papermill": {
     "duration": 0.033904,
     "end_time": "2021-12-20T12:13:16.823999",
     "exception": false,
     "start_time": "2021-12-20T12:13:16.790095",
     "status": "completed"
    },
    "tags": []
   },
   "outputs": [],
   "source": [
    "#hide\n",
    "# cols = ['name','group','day','value']"
   ]
  },
  {
   "cell_type": "code",
   "execution_count": 37,
   "id": "continued-sleeping",
   "metadata": {
    "execution": {
     "iopub.execute_input": "2021-12-20T12:13:16.881647Z",
     "iopub.status.busy": "2021-12-20T12:13:16.881032Z",
     "iopub.status.idle": "2021-12-20T12:13:16.884347Z",
     "shell.execute_reply": "2021-12-20T12:13:16.884738Z"
    },
    "papermill": {
     "duration": 0.03392,
     "end_time": "2021-12-20T12:13:16.884868",
     "exception": false,
     "start_time": "2021-12-20T12:13:16.850948",
     "status": "completed"
    },
    "tags": []
   },
   "outputs": [],
   "source": [
    "#hide\n",
    "# g.rename(columns= {'date':'day'},inplace = True)"
   ]
  },
  {
   "cell_type": "code",
   "execution_count": 38,
   "id": "major-fight",
   "metadata": {
    "execution": {
     "iopub.execute_input": "2021-12-20T12:13:16.948999Z",
     "iopub.status.busy": "2021-12-20T12:13:16.948378Z",
     "iopub.status.idle": "2021-12-20T12:13:16.952384Z",
     "shell.execute_reply": "2021-12-20T12:13:16.951873Z"
    },
    "papermill": {
     "duration": 0.037574,
     "end_time": "2021-12-20T12:13:16.952513",
     "exception": false,
     "start_time": "2021-12-20T12:13:16.914939",
     "status": "completed"
    },
    "tags": []
   },
   "outputs": [],
   "source": [
    "#hide\n",
    "# g = g[cols]"
   ]
  },
  {
   "cell_type": "code",
   "execution_count": 39,
   "id": "structured-mobile",
   "metadata": {
    "execution": {
     "iopub.execute_input": "2021-12-20T12:13:17.017311Z",
     "iopub.status.busy": "2021-12-20T12:13:17.016767Z",
     "iopub.status.idle": "2021-12-20T12:13:17.018566Z",
     "shell.execute_reply": "2021-12-20T12:13:17.018060Z"
    },
    "papermill": {
     "duration": 0.03548,
     "end_time": "2021-12-20T12:13:17.018679",
     "exception": false,
     "start_time": "2021-12-20T12:13:16.983199",
     "status": "completed"
    },
    "tags": []
   },
   "outputs": [],
   "source": [
    "# #hide\n",
    "# g = g[g.group.notna()]"
   ]
  },
  {
   "cell_type": "code",
   "execution_count": 40,
   "id": "determined-closing",
   "metadata": {
    "execution": {
     "iopub.execute_input": "2021-12-20T12:13:17.083583Z",
     "iopub.status.busy": "2021-12-20T12:13:17.082956Z",
     "iopub.status.idle": "2021-12-20T12:13:17.084931Z",
     "shell.execute_reply": "2021-12-20T12:13:17.084353Z"
    },
    "papermill": {
     "duration": 0.035926,
     "end_time": "2021-12-20T12:13:17.085056",
     "exception": false,
     "start_time": "2021-12-20T12:13:17.049130",
     "status": "completed"
    },
    "tags": []
   },
   "outputs": [],
   "source": [
    "# #hide\n",
    "# colors = dict(zip(\n",
    "#     [\"Oceania\", \"Europe\", \"Asia\", \"South America\", \"Middle East\", \"North America\", \"Africa\"],\n",
    "#     [\"#adb0ff\", \"#ffb3ff\", \"#90d595\", \"#e48381\", \"#aafbff\", \"#f7bb5f\", \"#eafb50\"]\n",
    "# ))\n",
    "# group_lk = g.set_index('name')['group'].to_dict()"
   ]
  },
  {
   "cell_type": "code",
   "execution_count": null,
   "id": "gross-drinking",
   "metadata": {
    "papermill": {
     "duration": 0.030252,
     "end_time": "2021-12-20T12:13:17.145951",
     "exception": false,
     "start_time": "2021-12-20T12:13:17.115699",
     "status": "completed"
    },
    "tags": []
   },
   "outputs": [],
   "source": []
  },
  {
   "cell_type": "code",
   "execution_count": 41,
   "id": "subject-macintosh",
   "metadata": {
    "execution": {
     "iopub.execute_input": "2021-12-20T12:13:17.210692Z",
     "iopub.status.busy": "2021-12-20T12:13:17.210206Z",
     "iopub.status.idle": "2021-12-20T12:13:17.213123Z",
     "shell.execute_reply": "2021-12-20T12:13:17.213467Z"
    },
    "papermill": {
     "duration": 0.037416,
     "end_time": "2021-12-20T12:13:17.213587",
     "exception": false,
     "start_time": "2021-12-20T12:13:17.176171",
     "status": "completed"
    },
    "tags": []
   },
   "outputs": [],
   "source": [
    "# #hide\n",
    "# fig, ax = plt.subplots(figsize=(15, 8))\n",
    "\n",
    "# def draw_barchart(current_day):\n",
    "#     dff = g[g['day'].eq(current_day)].sort_values(by='value', ascending=True).tail(10)\n",
    "#     ax.clear()\n",
    "#     ax.barh(dff['name'], dff['value'], color=[colors[group_lk[x]] for x in dff['name']])\n",
    "#     dx = dff['value'].max() / 200\n",
    "    \n",
    "#     for i, (value, name) in enumerate(zip(dff['value'], dff['name'])):\n",
    "#         ax.text(value-dx, i,     name,           size=14, weight=600, ha='right', va='bottom')\n",
    "#         ax.text(value-dx, i-.25, group_lk[name], size=10, color='#444444', ha='right', va='baseline')\n",
    "#         ax.text(value+dx, i,     f'{value:,.0f}',  size=14, ha='left',  va='center')\n",
    "#     ax.text(1, 0.4, current_day, transform=ax.transAxes, color='#777777', size=46, ha='right', weight=800)\n",
    "#     ax.text(0, 1.06, 'Population (thousands)', transform=ax.transAxes, size=12, color='#777777')\n",
    "#     ax.xaxis.set_major_formatter(ticker.StrMethodFormatter('{x:,.0f}'))\n",
    "#     ax.xaxis.set_ticks_position('top')\n",
    "#     ax.tick_params(axis='x', colors='#777777', labelsize=12)\n",
    "#     ax.set_yticks([])\n",
    "#     ax.margins(0, 0.01)\n",
    "#     ax.grid(which='major', axis='x', linestyle='-')\n",
    "#     ax.set_axisbelow(True)\n",
    "    \n",
    "#     ax.text(0, 1.15, 'Coronavirus',\n",
    "#             transform=ax.transAxes, size=24, weight=600, ha='left', va='top')\n",
    "# #     ax.text(1, 0, 'by @pratapvardhan; credit @jburnmurdoch', transform=ax.transAxes, color='#777777', ha='right',\n",
    "# #             bbox=dict(facecolor='white', alpha=0.8, edgecolor='white'))\n",
    "#     plt.box(False)"
   ]
  },
  {
   "cell_type": "code",
   "execution_count": 42,
   "id": "sexual-wages",
   "metadata": {
    "execution": {
     "iopub.execute_input": "2021-12-20T12:13:17.270972Z",
     "iopub.status.busy": "2021-12-20T12:13:17.270434Z",
     "iopub.status.idle": "2021-12-20T12:13:17.273595Z",
     "shell.execute_reply": "2021-12-20T12:13:17.273981Z"
    },
    "papermill": {
     "duration": 0.033671,
     "end_time": "2021-12-20T12:13:17.274114",
     "exception": false,
     "start_time": "2021-12-20T12:13:17.240443",
     "status": "completed"
    },
    "tags": []
   },
   "outputs": [],
   "source": [
    "# #hide_input\n",
    "# fig, ax = plt.subplots(figsize=(15, 8))\n",
    "# animator = animation.FuncAnimation(fig, draw_barchart, frames=range(g.day.values.min(), g.day.values.max()))\n",
    "# HTML(animator.to_jshtml())\n",
    "# # or use animator.to_html5_video() or animator.save() "
   ]
  },
  {
   "cell_type": "code",
   "execution_count": null,
   "id": "australian-container",
   "metadata": {
    "papermill": {
     "duration": 0.030128,
     "end_time": "2021-12-20T12:13:17.334547",
     "exception": false,
     "start_time": "2021-12-20T12:13:17.304419",
     "status": "completed"
    },
    "tags": []
   },
   "outputs": [],
   "source": []
  },
  {
   "cell_type": "code",
   "execution_count": null,
   "id": "mediterranean-pontiac",
   "metadata": {
    "papermill": {
     "duration": 0.030191,
     "end_time": "2021-12-20T12:13:17.395247",
     "exception": false,
     "start_time": "2021-12-20T12:13:17.365056",
     "status": "completed"
    },
    "tags": []
   },
   "outputs": [],
   "source": []
  },
  {
   "cell_type": "code",
   "execution_count": null,
   "id": "aging-legislature",
   "metadata": {
    "papermill": {
     "duration": 0.030094,
     "end_time": "2021-12-20T12:13:17.455619",
     "exception": false,
     "start_time": "2021-12-20T12:13:17.425525",
     "status": "completed"
    },
    "tags": []
   },
   "outputs": [],
   "source": []
  }
 ],
 "metadata": {
  "kernelspec": {
   "display_name": "Python 3",
   "language": "python",
   "name": "python3"
  },
  "language_info": {
   "codemirror_mode": {
    "name": "ipython",
    "version": 3
   },
   "file_extension": ".py",
   "mimetype": "text/x-python",
   "name": "python",
   "nbconvert_exporter": "python",
   "pygments_lexer": "ipython3",
   "version": "3.6.15"
  },
  "papermill": {
   "duration": 6.522481,
   "end_time": "2021-12-20T12:13:17.794722",
   "environment_variables": {},
   "exception": null,
   "input_path": "2020-03-21-covid19exp.ipynb",
   "output_path": "2020-03-21-covid19exp.ipynb",
   "parameters": {},
   "start_time": "2021-12-20T12:13:11.272241",
   "version": "2.0.0"
  }
 },
 "nbformat": 4,
 "nbformat_minor": 5
}