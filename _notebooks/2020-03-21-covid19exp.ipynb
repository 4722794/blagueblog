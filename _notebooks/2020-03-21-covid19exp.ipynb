{
 "cells": [
  {
   "cell_type": "markdown",
   "id": "muslim-click",
   "metadata": {
    "papermill": {
     "duration": 0.033762,
     "end_time": "2022-06-28T00:43:42.819849",
     "exception": false,
     "start_time": "2022-06-28T00:43:42.786087",
     "status": "completed"
    },
    "tags": []
   },
   "source": [
    "# COVID-19 Case Race\n",
    "> A race chart to see rising cases around the world\n",
    "\n",
    "- author: Hargun Oberoi\n",
    "- image: images/covid-overview.png\n",
    "- hide: false\n",
    "- badges: false"
   ]
  },
  {
   "cell_type": "code",
   "execution_count": 1,
   "id": "proof-material",
   "metadata": {
    "execution": {
     "iopub.execute_input": "2022-06-28T00:43:42.892060Z",
     "iopub.status.busy": "2022-06-28T00:43:42.891488Z",
     "iopub.status.idle": "2022-06-28T00:43:43.205313Z",
     "shell.execute_reply": "2022-06-28T00:43:43.205778Z"
    },
    "papermill": {
     "duration": 0.353443,
     "end_time": "2022-06-28T00:43:43.205934",
     "exception": false,
     "start_time": "2022-06-28T00:43:42.852491",
     "status": "completed"
    },
    "tags": []
   },
   "outputs": [],
   "source": [
    "#hide\n",
    "import numpy as np\n",
    "import pandas as pd\n",
    "from jinja2 import Template\n",
    "from IPython.display import HTML"
   ]
  },
  {
   "cell_type": "code",
   "execution_count": 2,
   "id": "developed-terminology",
   "metadata": {
    "execution": {
     "iopub.execute_input": "2022-06-28T00:43:43.271239Z",
     "iopub.status.busy": "2022-06-28T00:43:43.270663Z",
     "iopub.status.idle": "2022-06-28T00:43:43.273269Z",
     "shell.execute_reply": "2022-06-28T00:43:43.272712Z"
    },
    "papermill": {
     "duration": 0.037171,
     "end_time": "2022-06-28T00:43:43.273376",
     "exception": false,
     "start_time": "2022-06-28T00:43:43.236205",
     "status": "completed"
    },
    "tags": []
   },
   "outputs": [],
   "source": [
    "#hide\n",
    "\n",
    "# FETCH\n",
    "base_url = 'https://raw.githubusercontent.com/pratapvardhan/notebooks/master/covid19/'\n",
    "paths = {\n",
    "    'mapping': base_url + 'mapping_countries.csv',\n",
    "    'overview': base_url + 'overview.tpl'\n",
    "}"
   ]
  },
  {
   "cell_type": "code",
   "execution_count": 3,
   "id": "dynamic-saver",
   "metadata": {
    "execution": {
     "iopub.execute_input": "2022-06-28T00:43:43.342466Z",
     "iopub.status.busy": "2022-06-28T00:43:43.341895Z",
     "iopub.status.idle": "2022-06-28T00:43:43.344982Z",
     "shell.execute_reply": "2022-06-28T00:43:43.345465Z"
    },
    "papermill": {
     "duration": 0.04225,
     "end_time": "2022-06-28T00:43:43.345589",
     "exception": false,
     "start_time": "2022-06-28T00:43:43.303339",
     "status": "completed"
    },
    "tags": []
   },
   "outputs": [
    {
     "data": {
      "text/plain": [
       "'https://raw.githubusercontent.com/pratapvardhan/notebooks/master/covid19/mapping_countries.csv'"
      ]
     },
     "execution_count": 3,
     "metadata": {},
     "output_type": "execute_result"
    }
   ],
   "source": [
    "#hide\n",
    "paths['mapping']"
   ]
  },
  {
   "cell_type": "code",
   "execution_count": 4,
   "id": "urban-software",
   "metadata": {
    "execution": {
     "iopub.execute_input": "2022-06-28T00:43:43.411292Z",
     "iopub.status.busy": "2022-06-28T00:43:43.410712Z",
     "iopub.status.idle": "2022-06-28T00:43:43.413012Z",
     "shell.execute_reply": "2022-06-28T00:43:43.413459Z"
    },
    "papermill": {
     "duration": 0.037491,
     "end_time": "2022-06-28T00:43:43.413580",
     "exception": false,
     "start_time": "2022-06-28T00:43:43.376089",
     "status": "completed"
    },
    "tags": []
   },
   "outputs": [],
   "source": [
    "#hide\n",
    "def get_mappings(url):\n",
    "    df = pd.read_csv(url)\n",
    "    return {\n",
    "        'df': df,\n",
    "        'replace.country': dict(df.dropna(subset=['Name']).set_index('Country')['Name']),\n",
    "        'map.continent': dict(df.set_index('Name')['Continent'])\n",
    "    }"
   ]
  },
  {
   "cell_type": "code",
   "execution_count": 5,
   "id": "intimate-machinery",
   "metadata": {
    "execution": {
     "iopub.execute_input": "2022-06-28T00:43:43.479328Z",
     "iopub.status.busy": "2022-06-28T00:43:43.478749Z",
     "iopub.status.idle": "2022-06-28T00:43:43.526472Z",
     "shell.execute_reply": "2022-06-28T00:43:43.525895Z"
    },
    "papermill": {
     "duration": 0.082725,
     "end_time": "2022-06-28T00:43:43.526584",
     "exception": false,
     "start_time": "2022-06-28T00:43:43.443859",
     "status": "completed"
    },
    "tags": []
   },
   "outputs": [],
   "source": [
    "#hide\n",
    "mapping = get_mappings(paths['mapping'])"
   ]
  },
  {
   "cell_type": "code",
   "execution_count": 6,
   "id": "certified-tactics",
   "metadata": {
    "execution": {
     "iopub.execute_input": "2022-06-28T00:43:43.592613Z",
     "iopub.status.busy": "2022-06-28T00:43:43.592022Z",
     "iopub.status.idle": "2022-06-28T00:43:43.594132Z",
     "shell.execute_reply": "2022-06-28T00:43:43.594582Z"
    },
    "papermill": {
     "duration": 0.037404,
     "end_time": "2022-06-28T00:43:43.594709",
     "exception": false,
     "start_time": "2022-06-28T00:43:43.557305",
     "status": "completed"
    },
    "tags": []
   },
   "outputs": [],
   "source": [
    "#hide\n",
    "def get_template(path):\n",
    "    from urllib.parse import urlparse\n",
    "    if bool(urlparse(path).netloc):\n",
    "        from urllib.request import urlopen\n",
    "        return urlopen(path).read().decode('utf8')\n",
    "    return open(path).read()"
   ]
  },
  {
   "cell_type": "code",
   "execution_count": 7,
   "id": "realistic-blast",
   "metadata": {
    "execution": {
     "iopub.execute_input": "2022-06-28T00:43:43.660172Z",
     "iopub.status.busy": "2022-06-28T00:43:43.659592Z",
     "iopub.status.idle": "2022-06-28T00:43:43.662109Z",
     "shell.execute_reply": "2022-06-28T00:43:43.661647Z"
    },
    "papermill": {
     "duration": 0.037142,
     "end_time": "2022-06-28T00:43:43.662213",
     "exception": false,
     "start_time": "2022-06-28T00:43:43.625071",
     "status": "completed"
    },
    "tags": []
   },
   "outputs": [],
   "source": [
    "#hide\n",
    "def get_frame(name):\n",
    "    url = (\n",
    "        'https://raw.githubusercontent.com/CSSEGISandData/COVID-19/master/csse_covid_19_data/'\n",
    "        f'csse_covid_19_time_series/time_series_covid19_{name}_global.csv')\n",
    "    df = pd.read_csv(url)\n",
    "    # rename countries\n",
    "    df['Country/Region'] = df['Country/Region'].replace(mapping['replace.country'])\n",
    "    return df"
   ]
  },
  {
   "cell_type": "code",
   "execution_count": 8,
   "id": "affiliated-characterization",
   "metadata": {
    "execution": {
     "iopub.execute_input": "2022-06-28T00:43:43.728789Z",
     "iopub.status.busy": "2022-06-28T00:43:43.728203Z",
     "iopub.status.idle": "2022-06-28T00:43:43.730761Z",
     "shell.execute_reply": "2022-06-28T00:43:43.730298Z"
    },
    "papermill": {
     "duration": 0.038093,
     "end_time": "2022-06-28T00:43:43.730865",
     "exception": false,
     "start_time": "2022-06-28T00:43:43.692772",
     "status": "completed"
    },
    "tags": []
   },
   "outputs": [],
   "source": [
    "#hide\n",
    "def get_dates(df):\n",
    "    dt_cols = df.columns[~df.columns.isin(['Province/State', 'Country/Region', 'Lat', 'Long'])]\n",
    "    LAST_DATE_I = -1\n",
    "    # sometimes last column may be empty, then go backwards\n",
    "    for i in range(-1, -len(dt_cols), -1):\n",
    "        if not df[dt_cols[i]].fillna(0).eq(0).all():\n",
    "            LAST_DATE_I = i\n",
    "            break\n",
    "    return LAST_DATE_I, dt_cols"
   ]
  },
  {
   "cell_type": "code",
   "execution_count": 9,
   "id": "recent-optimization",
   "metadata": {
    "execution": {
     "iopub.execute_input": "2022-06-28T00:43:43.796563Z",
     "iopub.status.busy": "2022-06-28T00:43:43.795976Z",
     "iopub.status.idle": "2022-06-28T00:43:44.240785Z",
     "shell.execute_reply": "2022-06-28T00:43:44.240275Z"
    },
    "papermill": {
     "duration": 0.479706,
     "end_time": "2022-06-28T00:43:44.240900",
     "exception": false,
     "start_time": "2022-06-28T00:43:43.761194",
     "status": "completed"
    },
    "tags": []
   },
   "outputs": [],
   "source": [
    "#hide\n",
    "COL_REGION = 'Country/Region'\n",
    "# Confirmed, Recovered, Deaths\n",
    "df = get_frame('confirmed')\n",
    "# dft_: timeseries, dfc_: today country agg\n",
    "dft_cases = df\n",
    "dft_deaths = get_frame('deaths')\n",
    "dft_recovered = get_frame('recovered')\n",
    "LAST_DATE_I, dt_cols = get_dates(df)"
   ]
  },
  {
   "cell_type": "code",
   "execution_count": 10,
   "id": "absolute-copper",
   "metadata": {
    "execution": {
     "iopub.execute_input": "2022-06-28T00:43:44.307065Z",
     "iopub.status.busy": "2022-06-28T00:43:44.306501Z",
     "iopub.status.idle": "2022-06-28T00:43:44.309250Z",
     "shell.execute_reply": "2022-06-28T00:43:44.308782Z"
    },
    "papermill": {
     "duration": 0.037904,
     "end_time": "2022-06-28T00:43:44.309356",
     "exception": false,
     "start_time": "2022-06-28T00:43:44.271452",
     "status": "completed"
    },
    "tags": []
   },
   "outputs": [],
   "source": [
    "#hide\n",
    "LAST_DATE_I, dt_cols = get_dates(df)\n",
    "dt_today =dt_cols[LAST_DATE_I]\n",
    "# dt_5day = dt_cols[LAST_DATE_I - 5]\n",
    "dt_yday = dt_cols[LAST_DATE_I - 1]"
   ]
  },
  {
   "cell_type": "code",
   "execution_count": 11,
   "id": "restricted-sheriff",
   "metadata": {
    "execution": {
     "iopub.execute_input": "2022-06-28T00:43:44.374952Z",
     "iopub.status.busy": "2022-06-28T00:43:44.374382Z",
     "iopub.status.idle": "2022-06-28T00:43:44.381615Z",
     "shell.execute_reply": "2022-06-28T00:43:44.382086Z"
    },
    "papermill": {
     "duration": 0.042667,
     "end_time": "2022-06-28T00:43:44.382214",
     "exception": false,
     "start_time": "2022-06-28T00:43:44.339547",
     "status": "completed"
    },
    "tags": []
   },
   "outputs": [],
   "source": [
    "#hide\n",
    "dfc_cases = dft_cases.groupby(COL_REGION)[dt_today].sum()\n",
    "dfc_deaths = dft_deaths.groupby(COL_REGION)[dt_today].sum()\n",
    "# dfp_cases = dft_cases.groupby(COL_REGION)[dt_5day].sum()\n",
    "# dfp_deaths = dft_deaths.groupby(COL_REGION)[dt_5day].sum()\n",
    "dfp_cases = dft_cases.groupby(COL_REGION)[dt_yday].sum()\n",
    "dfp_deaths = dft_deaths.groupby(COL_REGION)[dt_yday].sum()"
   ]
  },
  {
   "cell_type": "code",
   "execution_count": 12,
   "id": "deluxe-hepatitis",
   "metadata": {
    "execution": {
     "iopub.execute_input": "2022-06-28T00:43:44.448635Z",
     "iopub.status.busy": "2022-06-28T00:43:44.448082Z",
     "iopub.status.idle": "2022-06-28T00:43:44.452392Z",
     "shell.execute_reply": "2022-06-28T00:43:44.452845Z"
    },
    "papermill": {
     "duration": 0.040416,
     "end_time": "2022-06-28T00:43:44.452963",
     "exception": false,
     "start_time": "2022-06-28T00:43:44.412547",
     "status": "completed"
    },
    "tags": []
   },
   "outputs": [],
   "source": [
    "#hide\n",
    "df_table = (pd.DataFrame(dict(Cases = dfc_cases, Deaths = dfc_deaths, PCases = dfp_cases, PDeaths = dfp_deaths))\n",
    "            .sort_values(by = ['Cases','Deaths'], ascending = [False, False])\n",
    "            .reset_index())"
   ]
  },
  {
   "cell_type": "code",
   "execution_count": 13,
   "id": "educational-chancellor",
   "metadata": {
    "execution": {
     "iopub.execute_input": "2022-06-28T00:43:44.530370Z",
     "iopub.status.busy": "2022-06-28T00:43:44.529791Z",
     "iopub.status.idle": "2022-06-28T00:43:44.537845Z",
     "shell.execute_reply": "2022-06-28T00:43:44.537295Z"
    },
    "papermill": {
     "duration": 0.05469,
     "end_time": "2022-06-28T00:43:44.537953",
     "exception": false,
     "start_time": "2022-06-28T00:43:44.483263",
     "status": "completed"
    },
    "tags": []
   },
   "outputs": [
    {
     "data": {
      "text/html": [
       "<div>\n",
       "<style scoped>\n",
       "    .dataframe tbody tr th:only-of-type {\n",
       "        vertical-align: middle;\n",
       "    }\n",
       "\n",
       "    .dataframe tbody tr th {\n",
       "        vertical-align: top;\n",
       "    }\n",
       "\n",
       "    .dataframe thead th {\n",
       "        text-align: right;\n",
       "    }\n",
       "</style>\n",
       "<table border=\"1\" class=\"dataframe\">\n",
       "  <thead>\n",
       "    <tr style=\"text-align: right;\">\n",
       "      <th></th>\n",
       "      <th>Country/Region</th>\n",
       "      <th>Cases</th>\n",
       "      <th>Deaths</th>\n",
       "      <th>PCases</th>\n",
       "      <th>PDeaths</th>\n",
       "      <th>Cases (+)</th>\n",
       "      <th>Deaths (+)</th>\n",
       "      <th>Fatality Rate</th>\n",
       "      <th>Continent</th>\n",
       "    </tr>\n",
       "  </thead>\n",
       "  <tbody>\n",
       "    <tr>\n",
       "      <th>0</th>\n",
       "      <td>US</td>\n",
       "      <td>86967639</td>\n",
       "      <td>1015938</td>\n",
       "      <td>86949088</td>\n",
       "      <td>1015933</td>\n",
       "      <td>18551</td>\n",
       "      <td>5</td>\n",
       "      <td>1.17</td>\n",
       "      <td>North America</td>\n",
       "    </tr>\n",
       "    <tr>\n",
       "      <th>1</th>\n",
       "      <td>India</td>\n",
       "      <td>43407046</td>\n",
       "      <td>525020</td>\n",
       "      <td>43389973</td>\n",
       "      <td>524999</td>\n",
       "      <td>17073</td>\n",
       "      <td>21</td>\n",
       "      <td>1.21</td>\n",
       "      <td>Asia</td>\n",
       "    </tr>\n",
       "    <tr>\n",
       "      <th>2</th>\n",
       "      <td>Brazil</td>\n",
       "      <td>32023166</td>\n",
       "      <td>670229</td>\n",
       "      <td>32023166</td>\n",
       "      <td>670229</td>\n",
       "      <td>0</td>\n",
       "      <td>0</td>\n",
       "      <td>2.09</td>\n",
       "      <td>South America</td>\n",
       "    </tr>\n",
       "    <tr>\n",
       "      <th>3</th>\n",
       "      <td>France</td>\n",
       "      <td>30714200</td>\n",
       "      <td>150356</td>\n",
       "      <td>30714200</td>\n",
       "      <td>150356</td>\n",
       "      <td>0</td>\n",
       "      <td>0</td>\n",
       "      <td>0.49</td>\n",
       "      <td>Europe</td>\n",
       "    </tr>\n",
       "    <tr>\n",
       "      <th>4</th>\n",
       "      <td>Germany</td>\n",
       "      <td>27771911</td>\n",
       "      <td>140734</td>\n",
       "      <td>27771112</td>\n",
       "      <td>140734</td>\n",
       "      <td>799</td>\n",
       "      <td>0</td>\n",
       "      <td>0.51</td>\n",
       "      <td>Europe</td>\n",
       "    </tr>\n",
       "  </tbody>\n",
       "</table>\n",
       "</div>"
      ],
      "text/plain": [
       "  Country/Region     Cases   Deaths    PCases  PDeaths  Cases (+)  Deaths (+)  \\\n",
       "0             US  86967639  1015938  86949088  1015933      18551           5   \n",
       "1          India  43407046   525020  43389973   524999      17073          21   \n",
       "2         Brazil  32023166   670229  32023166   670229          0           0   \n",
       "3         France  30714200   150356  30714200   150356          0           0   \n",
       "4        Germany  27771911   140734  27771112   140734        799           0   \n",
       "\n",
       "   Fatality Rate      Continent  \n",
       "0           1.17  North America  \n",
       "1           1.21           Asia  \n",
       "2           2.09  South America  \n",
       "3           0.49         Europe  \n",
       "4           0.51         Europe  "
      ]
     },
     "execution_count": 13,
     "metadata": {},
     "output_type": "execute_result"
    }
   ],
   "source": [
    "#hide\n",
    "for c in 'Cases, Deaths'.split(', '):\n",
    "    df_table[f'{c} (+)'] = (df_table[c] - df_table[f'P{c}']).clip(0)\n",
    "    #Clip ça veut dire, les chiffres negatif sont interdit\n",
    "df_table['Fatality Rate'] = (100* df_table['Deaths']/ df_table['Cases']).round(2)\n",
    "df_table['Continent'] = df_table['Country/Region'].map(mapping['map.continent'])\n",
    "df_table.head(5)"
   ]
  },
  {
   "cell_type": "code",
   "execution_count": 14,
   "id": "aboriginal-bulgaria",
   "metadata": {
    "execution": {
     "iopub.execute_input": "2022-06-28T00:43:44.605294Z",
     "iopub.status.busy": "2022-06-28T00:43:44.604692Z",
     "iopub.status.idle": "2022-06-28T00:43:44.607112Z",
     "shell.execute_reply": "2022-06-28T00:43:44.606564Z"
    },
    "papermill": {
     "duration": 0.038306,
     "end_time": "2022-06-28T00:43:44.607218",
     "exception": false,
     "start_time": "2022-06-28T00:43:44.568912",
     "status": "completed"
    },
    "tags": []
   },
   "outputs": [],
   "source": [
    "#hide\n",
    "#delete problematic countries from table\n",
    "df_table = df_table[~df_table['Country/Region'].isin(['Cape Verde', 'Cruise Ship', 'Kosovo'])]"
   ]
  },
  {
   "cell_type": "code",
   "execution_count": 15,
   "id": "fantastic-effect",
   "metadata": {
    "execution": {
     "iopub.execute_input": "2022-06-28T00:43:44.676559Z",
     "iopub.status.busy": "2022-06-28T00:43:44.675997Z",
     "iopub.status.idle": "2022-06-28T00:43:44.693247Z",
     "shell.execute_reply": "2022-06-28T00:43:44.693713Z"
    },
    "papermill": {
     "duration": 0.055693,
     "end_time": "2022-06-28T00:43:44.693842",
     "exception": false,
     "start_time": "2022-06-28T00:43:44.638149",
     "status": "completed"
    },
    "tags": []
   },
   "outputs": [
    {
     "data": {
      "text/html": [
       "<div>\n",
       "<style scoped>\n",
       "    .dataframe tbody tr th:only-of-type {\n",
       "        vertical-align: middle;\n",
       "    }\n",
       "\n",
       "    .dataframe tbody tr th {\n",
       "        vertical-align: top;\n",
       "    }\n",
       "\n",
       "    .dataframe thead th {\n",
       "        text-align: right;\n",
       "    }\n",
       "</style>\n",
       "<table border=\"1\" class=\"dataframe\">\n",
       "  <thead>\n",
       "    <tr style=\"text-align: right;\">\n",
       "      <th></th>\n",
       "      <th>Country/Region</th>\n",
       "      <th>Cases</th>\n",
       "      <th>Deaths</th>\n",
       "      <th>PCases</th>\n",
       "      <th>PDeaths</th>\n",
       "      <th>Cases (+)</th>\n",
       "      <th>Deaths (+)</th>\n",
       "      <th>Fatality Rate</th>\n",
       "      <th>Continent</th>\n",
       "    </tr>\n",
       "  </thead>\n",
       "  <tbody>\n",
       "    <tr>\n",
       "      <th>0</th>\n",
       "      <td>US</td>\n",
       "      <td>86967639</td>\n",
       "      <td>1015938</td>\n",
       "      <td>86949088</td>\n",
       "      <td>1015933</td>\n",
       "      <td>18551</td>\n",
       "      <td>5</td>\n",
       "      <td>1.2</td>\n",
       "      <td>North America</td>\n",
       "    </tr>\n",
       "    <tr>\n",
       "      <th>1</th>\n",
       "      <td>India</td>\n",
       "      <td>43407046</td>\n",
       "      <td>525020</td>\n",
       "      <td>43389973</td>\n",
       "      <td>524999</td>\n",
       "      <td>17073</td>\n",
       "      <td>21</td>\n",
       "      <td>1.2</td>\n",
       "      <td>Asia</td>\n",
       "    </tr>\n",
       "    <tr>\n",
       "      <th>2</th>\n",
       "      <td>Brazil</td>\n",
       "      <td>32023166</td>\n",
       "      <td>670229</td>\n",
       "      <td>32023166</td>\n",
       "      <td>670229</td>\n",
       "      <td>0</td>\n",
       "      <td>0</td>\n",
       "      <td>2.1</td>\n",
       "      <td>South America</td>\n",
       "    </tr>\n",
       "    <tr>\n",
       "      <th>3</th>\n",
       "      <td>France</td>\n",
       "      <td>30714200</td>\n",
       "      <td>150356</td>\n",
       "      <td>30714200</td>\n",
       "      <td>150356</td>\n",
       "      <td>0</td>\n",
       "      <td>0</td>\n",
       "      <td>0.5</td>\n",
       "      <td>Europe</td>\n",
       "    </tr>\n",
       "    <tr>\n",
       "      <th>4</th>\n",
       "      <td>Germany</td>\n",
       "      <td>27771911</td>\n",
       "      <td>140734</td>\n",
       "      <td>27771112</td>\n",
       "      <td>140734</td>\n",
       "      <td>799</td>\n",
       "      <td>0</td>\n",
       "      <td>0.5</td>\n",
       "      <td>Europe</td>\n",
       "    </tr>\n",
       "  </tbody>\n",
       "</table>\n",
       "</div>"
      ],
      "text/plain": [
       "  Country/Region     Cases   Deaths    PCases  PDeaths  Cases (+)  Deaths (+)  \\\n",
       "0             US  86967639  1015938  86949088  1015933      18551           5   \n",
       "1          India  43407046   525020  43389973   524999      17073          21   \n",
       "2         Brazil  32023166   670229  32023166   670229          0           0   \n",
       "3         France  30714200   150356  30714200   150356          0           0   \n",
       "4        Germany  27771911   140734  27771112   140734        799           0   \n",
       "\n",
       "   Fatality Rate      Continent  \n",
       "0            1.2  North America  \n",
       "1            1.2           Asia  \n",
       "2            2.1  South America  \n",
       "3            0.5         Europe  \n",
       "4            0.5         Europe  "
      ]
     },
     "execution_count": 15,
     "metadata": {},
     "output_type": "execute_result"
    }
   ],
   "source": [
    "#hide\n",
    "df_table = (pd.DataFrame(dict(Cases=dfc_cases, Deaths=dfc_deaths, PCases=dfp_cases, PDeaths=dfp_deaths))\n",
    "             .sort_values(by=['Cases', 'Deaths'], ascending=[False, False])\n",
    "             .reset_index())\n",
    "df_table.rename(columns={'index': 'Country/Region'}, inplace=True)\n",
    "for c in 'Cases, Deaths'.split(', '):\n",
    "    df_table[f'{c} (+)'] = (df_table[c] - df_table[f'P{c}']).clip(0)  # DATA BUG\n",
    "df_table['Fatality Rate'] = (100 * df_table['Deaths'] / df_table['Cases']).round(1)\n",
    "df_table['Continent'] = df_table['Country/Region'].map(mapping['map.continent'])\n",
    "df_table.head(5)"
   ]
  },
  {
   "cell_type": "code",
   "execution_count": 16,
   "id": "fewer-occasion",
   "metadata": {
    "execution": {
     "iopub.execute_input": "2022-06-28T00:43:44.762217Z",
     "iopub.status.busy": "2022-06-28T00:43:44.761616Z",
     "iopub.status.idle": "2022-06-28T00:43:44.764003Z",
     "shell.execute_reply": "2022-06-28T00:43:44.763552Z"
    },
    "papermill": {
     "duration": 0.038781,
     "end_time": "2022-06-28T00:43:44.764109",
     "exception": false,
     "start_time": "2022-06-28T00:43:44.725328",
     "status": "completed"
    },
    "tags": []
   },
   "outputs": [],
   "source": [
    "#hide\n",
    "#delete problematic countries from table\n",
    "df_table = df_table[~df_table['Country/Region'].isin(['Cape Verde', 'Cruise Ship', 'Kosovo'])]"
   ]
  },
  {
   "cell_type": "code",
   "execution_count": 17,
   "id": "related-center",
   "metadata": {
    "execution": {
     "iopub.execute_input": "2022-06-28T00:43:44.844276Z",
     "iopub.status.busy": "2022-06-28T00:43:44.843663Z",
     "iopub.status.idle": "2022-06-28T00:43:44.846027Z",
     "shell.execute_reply": "2022-06-28T00:43:44.845558Z"
    },
    "papermill": {
     "duration": 0.050667,
     "end_time": "2022-06-28T00:43:44.846134",
     "exception": false,
     "start_time": "2022-06-28T00:43:44.795467",
     "status": "completed"
    },
    "tags": []
   },
   "outputs": [],
   "source": [
    "#hide\n",
    "metrics = [df_table.columns[index] for index in [1,2,5,6]]\n",
    "# s_china = df_table[df_table['Country/Region'].eq('China')][metrics].sum().add_prefix('China ')\n",
    "s_us = df_table[df_table['Country/Region'].eq('US')][metrics].sum().add_prefix('US ')\n",
    "s_eu = df_table[df_table['Continent'].eq('Europe')][metrics].sum().add_prefix('EU ')\n",
    "s_ind = df_table[df_table['Country/Region'].eq('India')][metrics].sum().add_prefix('India ')\n",
    "summary = {'updated': pd.to_datetime(dt_today), 'since': pd.to_datetime(dt_yday)}\n",
    "summary = {'updated': pd.to_datetime(dt_today), 'since': pd.to_datetime(dt_yday)}\n",
    "summary = {**summary, **df_table[metrics].sum(), **s_ind, **s_us, **s_eu}"
   ]
  },
  {
   "cell_type": "code",
   "execution_count": 18,
   "id": "engaging-syndrome",
   "metadata": {
    "execution": {
     "iopub.execute_input": "2022-06-28T00:43:44.913730Z",
     "iopub.status.busy": "2022-06-28T00:43:44.913156Z",
     "iopub.status.idle": "2022-06-28T00:43:44.931435Z",
     "shell.execute_reply": "2022-06-28T00:43:44.930969Z"
    },
    "papermill": {
     "duration": 0.05414,
     "end_time": "2022-06-28T00:43:44.931550",
     "exception": false,
     "start_time": "2022-06-28T00:43:44.877410",
     "status": "completed"
    },
    "tags": []
   },
   "outputs": [],
   "source": [
    "#hide\n",
    "dft_ct_new_cases = dft_cases.groupby(COL_REGION)[dt_cols].sum().diff(axis=1).fillna(0).astype(int)"
   ]
  },
  {
   "cell_type": "code",
   "execution_count": 19,
   "id": "neutral-assignment",
   "metadata": {
    "execution": {
     "iopub.execute_input": "2022-06-28T00:43:44.999877Z",
     "iopub.status.busy": "2022-06-28T00:43:44.999320Z",
     "iopub.status.idle": "2022-06-28T00:43:45.001605Z",
     "shell.execute_reply": "2022-06-28T00:43:45.002036Z"
    },
    "papermill": {
     "duration": 0.039416,
     "end_time": "2022-06-28T00:43:45.002156",
     "exception": false,
     "start_time": "2022-06-28T00:43:44.962740",
     "status": "completed"
    },
    "tags": []
   },
   "outputs": [],
   "source": [
    "#hide\n",
    "everydaycases = dft_ct_new_cases.cumsum(axis=1)"
   ]
  },
  {
   "cell_type": "code",
   "execution_count": 20,
   "id": "parliamentary-calgary",
   "metadata": {
    "execution": {
     "iopub.execute_input": "2022-06-28T00:43:45.068618Z",
     "iopub.status.busy": "2022-06-28T00:43:45.068054Z",
     "iopub.status.idle": "2022-06-28T00:43:45.613352Z",
     "shell.execute_reply": "2022-06-28T00:43:45.612833Z"
    },
    "papermill": {
     "duration": 0.580108,
     "end_time": "2022-06-28T00:43:45.613474",
     "exception": false,
     "start_time": "2022-06-28T00:43:45.033366",
     "status": "completed"
    },
    "tags": []
   },
   "outputs": [],
   "source": [
    "#hide\n",
    "import pandas as pd\n",
    "import matplotlib.pyplot as plt\n",
    "import matplotlib.ticker as ticker\n",
    "import matplotlib.animation as animation\n",
    "from IPython.display import HTML"
   ]
  },
  {
   "cell_type": "code",
   "execution_count": 21,
   "id": "lasting-extraction",
   "metadata": {
    "execution": {
     "iopub.execute_input": "2022-06-28T00:43:45.682262Z",
     "iopub.status.busy": "2022-06-28T00:43:45.681703Z",
     "iopub.status.idle": "2022-06-28T00:43:45.688234Z",
     "shell.execute_reply": "2022-06-28T00:43:45.687779Z"
    },
    "papermill": {
     "duration": 0.043359,
     "end_time": "2022-06-28T00:43:45.688339",
     "exception": false,
     "start_time": "2022-06-28T00:43:45.644980",
     "status": "completed"
    },
    "tags": []
   },
   "outputs": [],
   "source": [
    "#hide\n",
    "t = everydaycases.stack()"
   ]
  },
  {
   "cell_type": "code",
   "execution_count": 22,
   "id": "premier-sleeve",
   "metadata": {
    "execution": {
     "iopub.execute_input": "2022-06-28T00:43:45.755254Z",
     "iopub.status.busy": "2022-06-28T00:43:45.754681Z",
     "iopub.status.idle": "2022-06-28T00:43:45.765508Z",
     "shell.execute_reply": "2022-06-28T00:43:45.765961Z"
    },
    "papermill": {
     "duration": 0.04632,
     "end_time": "2022-06-28T00:43:45.766089",
     "exception": false,
     "start_time": "2022-06-28T00:43:45.719769",
     "status": "completed"
    },
    "tags": []
   },
   "outputs": [],
   "source": [
    "#hide\n",
    "g = t.reset_index(['Country/Region'])"
   ]
  },
  {
   "cell_type": "code",
   "execution_count": 23,
   "id": "distributed-pittsburgh",
   "metadata": {
    "execution": {
     "iopub.execute_input": "2022-06-28T00:43:45.832387Z",
     "iopub.status.busy": "2022-06-28T00:43:45.831822Z",
     "iopub.status.idle": "2022-06-28T00:43:45.834268Z",
     "shell.execute_reply": "2022-06-28T00:43:45.833721Z"
    },
    "papermill": {
     "duration": 0.037139,
     "end_time": "2022-06-28T00:43:45.834371",
     "exception": false,
     "start_time": "2022-06-28T00:43:45.797232",
     "status": "completed"
    },
    "tags": []
   },
   "outputs": [],
   "source": [
    "#hide\n",
    "g.index.name = 'date'"
   ]
  },
  {
   "cell_type": "code",
   "execution_count": 24,
   "id": "naked-donor",
   "metadata": {
    "execution": {
     "iopub.execute_input": "2022-06-28T00:43:45.900498Z",
     "iopub.status.busy": "2022-06-28T00:43:45.899927Z",
     "iopub.status.idle": "2022-06-28T00:43:45.902465Z",
     "shell.execute_reply": "2022-06-28T00:43:45.901927Z"
    },
    "papermill": {
     "duration": 0.036759,
     "end_time": "2022-06-28T00:43:45.902572",
     "exception": false,
     "start_time": "2022-06-28T00:43:45.865813",
     "status": "completed"
    },
    "tags": []
   },
   "outputs": [],
   "source": [
    "# #hide\n",
    "# g = g.reset_index(['date'])"
   ]
  },
  {
   "cell_type": "code",
   "execution_count": 25,
   "id": "incomplete-mustang",
   "metadata": {
    "execution": {
     "iopub.execute_input": "2022-06-28T00:43:45.968739Z",
     "iopub.status.busy": "2022-06-28T00:43:45.968169Z",
     "iopub.status.idle": "2022-06-28T00:43:45.970682Z",
     "shell.execute_reply": "2022-06-28T00:43:45.970255Z"
    },
    "papermill": {
     "duration": 0.036944,
     "end_time": "2022-06-28T00:43:45.970787",
     "exception": false,
     "start_time": "2022-06-28T00:43:45.933843",
     "status": "completed"
    },
    "tags": []
   },
   "outputs": [],
   "source": [
    "#hide\n",
    "# g.head()"
   ]
  },
  {
   "cell_type": "code",
   "execution_count": 26,
   "id": "specific-kruger",
   "metadata": {
    "execution": {
     "iopub.execute_input": "2022-06-28T00:43:46.036955Z",
     "iopub.status.busy": "2022-06-28T00:43:46.036374Z",
     "iopub.status.idle": "2022-06-28T00:43:46.038827Z",
     "shell.execute_reply": "2022-06-28T00:43:46.038299Z"
    },
    "papermill": {
     "duration": 0.036852,
     "end_time": "2022-06-28T00:43:46.038929",
     "exception": false,
     "start_time": "2022-06-28T00:43:46.002077",
     "status": "completed"
    },
    "tags": []
   },
   "outputs": [],
   "source": [
    "#hide\n",
    "# g.columns = ['date','country','cases']"
   ]
  },
  {
   "cell_type": "code",
   "execution_count": 27,
   "id": "tender-conversion",
   "metadata": {
    "execution": {
     "iopub.execute_input": "2022-06-28T00:43:46.104947Z",
     "iopub.status.busy": "2022-06-28T00:43:46.104366Z",
     "iopub.status.idle": "2022-06-28T00:43:46.106801Z",
     "shell.execute_reply": "2022-06-28T00:43:46.106359Z"
    },
    "papermill": {
     "duration": 0.036598,
     "end_time": "2022-06-28T00:43:46.106899",
     "exception": false,
     "start_time": "2022-06-28T00:43:46.070301",
     "status": "completed"
    },
    "tags": []
   },
   "outputs": [],
   "source": [
    "#hide\n",
    "# g['continent'] = g.country"
   ]
  },
  {
   "cell_type": "code",
   "execution_count": 28,
   "id": "substantial-wilderness",
   "metadata": {
    "execution": {
     "iopub.execute_input": "2022-06-28T00:43:46.173644Z",
     "iopub.status.busy": "2022-06-28T00:43:46.173037Z",
     "iopub.status.idle": "2022-06-28T00:43:46.175371Z",
     "shell.execute_reply": "2022-06-28T00:43:46.174842Z"
    },
    "papermill": {
     "duration": 0.036721,
     "end_time": "2022-06-28T00:43:46.175472",
     "exception": false,
     "start_time": "2022-06-28T00:43:46.138751",
     "status": "completed"
    },
    "tags": []
   },
   "outputs": [],
   "source": [
    "#hide\n",
    "# cols = list(g.columns.values)"
   ]
  },
  {
   "cell_type": "code",
   "execution_count": 29,
   "id": "solved-farming",
   "metadata": {
    "execution": {
     "iopub.execute_input": "2022-06-28T00:43:46.241541Z",
     "iopub.status.busy": "2022-06-28T00:43:46.240926Z",
     "iopub.status.idle": "2022-06-28T00:43:46.243386Z",
     "shell.execute_reply": "2022-06-28T00:43:46.242936Z"
    },
    "papermill": {
     "duration": 0.036708,
     "end_time": "2022-06-28T00:43:46.243490",
     "exception": false,
     "start_time": "2022-06-28T00:43:46.206782",
     "status": "completed"
    },
    "tags": []
   },
   "outputs": [],
   "source": [
    "#hide\n",
    "# cols.insert(0, cols.pop())"
   ]
  },
  {
   "cell_type": "code",
   "execution_count": 30,
   "id": "executed-adoption",
   "metadata": {
    "execution": {
     "iopub.execute_input": "2022-06-28T00:43:46.309473Z",
     "iopub.status.busy": "2022-06-28T00:43:46.308873Z",
     "iopub.status.idle": "2022-06-28T00:43:46.312060Z",
     "shell.execute_reply": "2022-06-28T00:43:46.311524Z"
    },
    "papermill": {
     "duration": 0.03734,
     "end_time": "2022-06-28T00:43:46.312162",
     "exception": false,
     "start_time": "2022-06-28T00:43:46.274822",
     "status": "completed"
    },
    "tags": []
   },
   "outputs": [],
   "source": [
    "#hide\n",
    "# g = g[cols]"
   ]
  },
  {
   "cell_type": "code",
   "execution_count": 31,
   "id": "subject-dublin",
   "metadata": {
    "execution": {
     "iopub.execute_input": "2022-06-28T00:43:46.378056Z",
     "iopub.status.busy": "2022-06-28T00:43:46.377482Z",
     "iopub.status.idle": "2022-06-28T00:43:46.379840Z",
     "shell.execute_reply": "2022-06-28T00:43:46.379300Z"
    },
    "papermill": {
     "duration": 0.036689,
     "end_time": "2022-06-28T00:43:46.379944",
     "exception": false,
     "start_time": "2022-06-28T00:43:46.343255",
     "status": "completed"
    },
    "tags": []
   },
   "outputs": [],
   "source": [
    "#hide\n",
    "# g['continent'] = g['continent'].map(mapping['map.continent'])"
   ]
  },
  {
   "cell_type": "code",
   "execution_count": 32,
   "id": "freelance-scout",
   "metadata": {
    "execution": {
     "iopub.execute_input": "2022-06-28T00:43:46.446022Z",
     "iopub.status.busy": "2022-06-28T00:43:46.445425Z",
     "iopub.status.idle": "2022-06-28T00:43:46.447429Z",
     "shell.execute_reply": "2022-06-28T00:43:46.447832Z"
    },
    "papermill": {
     "duration": 0.036721,
     "end_time": "2022-06-28T00:43:46.447955",
     "exception": false,
     "start_time": "2022-06-28T00:43:46.411234",
     "status": "completed"
    },
    "tags": []
   },
   "outputs": [],
   "source": [
    "#hide\n",
    "# g.head()"
   ]
  },
  {
   "cell_type": "code",
   "execution_count": 33,
   "id": "limited-engine",
   "metadata": {
    "execution": {
     "iopub.execute_input": "2022-06-28T00:43:46.513695Z",
     "iopub.status.busy": "2022-06-28T00:43:46.513093Z",
     "iopub.status.idle": "2022-06-28T00:43:46.515401Z",
     "shell.execute_reply": "2022-06-28T00:43:46.514870Z"
    },
    "papermill": {
     "duration": 0.036512,
     "end_time": "2022-06-28T00:43:46.515503",
     "exception": false,
     "start_time": "2022-06-28T00:43:46.478991",
     "status": "completed"
    },
    "tags": []
   },
   "outputs": [],
   "source": [
    "# hide\n",
    "# g['date'] = g['date'].astype('datetime64[ns]')"
   ]
  },
  {
   "cell_type": "code",
   "execution_count": 34,
   "id": "sophisticated-supervisor",
   "metadata": {
    "execution": {
     "iopub.execute_input": "2022-06-28T00:43:46.581724Z",
     "iopub.status.busy": "2022-06-28T00:43:46.581083Z",
     "iopub.status.idle": "2022-06-28T00:43:46.583430Z",
     "shell.execute_reply": "2022-06-28T00:43:46.582904Z"
    },
    "papermill": {
     "duration": 0.03672,
     "end_time": "2022-06-28T00:43:46.583530",
     "exception": false,
     "start_time": "2022-06-28T00:43:46.546810",
     "status": "completed"
    },
    "tags": []
   },
   "outputs": [],
   "source": [
    "#hide\n",
    "# g['date'] = g.date.dt.dayofyear"
   ]
  },
  {
   "cell_type": "code",
   "execution_count": 35,
   "id": "inside-dubai",
   "metadata": {
    "execution": {
     "iopub.execute_input": "2022-06-28T00:43:46.649484Z",
     "iopub.status.busy": "2022-06-28T00:43:46.648858Z",
     "iopub.status.idle": "2022-06-28T00:43:46.651250Z",
     "shell.execute_reply": "2022-06-28T00:43:46.650723Z"
    },
    "papermill": {
     "duration": 0.036524,
     "end_time": "2022-06-28T00:43:46.651351",
     "exception": false,
     "start_time": "2022-06-28T00:43:46.614827",
     "status": "completed"
    },
    "tags": []
   },
   "outputs": [],
   "source": [
    "#hide\n",
    "# g = g.rename(columns= {'continent':'group','country':'name','cases':'value'})"
   ]
  },
  {
   "cell_type": "code",
   "execution_count": 36,
   "id": "fleet-motorcycle",
   "metadata": {
    "execution": {
     "iopub.execute_input": "2022-06-28T00:43:46.717647Z",
     "iopub.status.busy": "2022-06-28T00:43:46.717038Z",
     "iopub.status.idle": "2022-06-28T00:43:46.719455Z",
     "shell.execute_reply": "2022-06-28T00:43:46.719007Z"
    },
    "papermill": {
     "duration": 0.036946,
     "end_time": "2022-06-28T00:43:46.719555",
     "exception": false,
     "start_time": "2022-06-28T00:43:46.682609",
     "status": "completed"
    },
    "tags": []
   },
   "outputs": [],
   "source": [
    "#hide\n",
    "# cols = ['name','group','day','value']"
   ]
  },
  {
   "cell_type": "code",
   "execution_count": 37,
   "id": "continued-sleeping",
   "metadata": {
    "execution": {
     "iopub.execute_input": "2022-06-28T00:43:46.785773Z",
     "iopub.status.busy": "2022-06-28T00:43:46.785182Z",
     "iopub.status.idle": "2022-06-28T00:43:46.787596Z",
     "shell.execute_reply": "2022-06-28T00:43:46.787154Z"
    },
    "papermill": {
     "duration": 0.037015,
     "end_time": "2022-06-28T00:43:46.787697",
     "exception": false,
     "start_time": "2022-06-28T00:43:46.750682",
     "status": "completed"
    },
    "tags": []
   },
   "outputs": [],
   "source": [
    "#hide\n",
    "# g.rename(columns= {'date':'day'},inplace = True)"
   ]
  },
  {
   "cell_type": "code",
   "execution_count": 38,
   "id": "major-fight",
   "metadata": {
    "execution": {
     "iopub.execute_input": "2022-06-28T00:43:46.853575Z",
     "iopub.status.busy": "2022-06-28T00:43:46.852954Z",
     "iopub.status.idle": "2022-06-28T00:43:46.855425Z",
     "shell.execute_reply": "2022-06-28T00:43:46.854905Z"
    },
    "papermill": {
     "duration": 0.036686,
     "end_time": "2022-06-28T00:43:46.855527",
     "exception": false,
     "start_time": "2022-06-28T00:43:46.818841",
     "status": "completed"
    },
    "tags": []
   },
   "outputs": [],
   "source": [
    "#hide\n",
    "# g = g[cols]"
   ]
  },
  {
   "cell_type": "code",
   "execution_count": 39,
   "id": "structured-mobile",
   "metadata": {
    "execution": {
     "iopub.execute_input": "2022-06-28T00:43:46.921380Z",
     "iopub.status.busy": "2022-06-28T00:43:46.920757Z",
     "iopub.status.idle": "2022-06-28T00:43:46.923258Z",
     "shell.execute_reply": "2022-06-28T00:43:46.922804Z"
    },
    "papermill": {
     "duration": 0.03673,
     "end_time": "2022-06-28T00:43:46.923362",
     "exception": false,
     "start_time": "2022-06-28T00:43:46.886632",
     "status": "completed"
    },
    "tags": []
   },
   "outputs": [],
   "source": [
    "# #hide\n",
    "# g = g[g.group.notna()]"
   ]
  },
  {
   "cell_type": "code",
   "execution_count": 40,
   "id": "determined-closing",
   "metadata": {
    "execution": {
     "iopub.execute_input": "2022-06-28T00:43:46.992252Z",
     "iopub.status.busy": "2022-06-28T00:43:46.991666Z",
     "iopub.status.idle": "2022-06-28T00:43:46.994123Z",
     "shell.execute_reply": "2022-06-28T00:43:46.993678Z"
    },
    "papermill": {
     "duration": 0.039405,
     "end_time": "2022-06-28T00:43:46.994224",
     "exception": false,
     "start_time": "2022-06-28T00:43:46.954819",
     "status": "completed"
    },
    "tags": []
   },
   "outputs": [],
   "source": [
    "# #hide\n",
    "# colors = dict(zip(\n",
    "#     [\"Oceania\", \"Europe\", \"Asia\", \"South America\", \"Middle East\", \"North America\", \"Africa\"],\n",
    "#     [\"#adb0ff\", \"#ffb3ff\", \"#90d595\", \"#e48381\", \"#aafbff\", \"#f7bb5f\", \"#eafb50\"]\n",
    "# ))\n",
    "# group_lk = g.set_index('name')['group'].to_dict()"
   ]
  },
  {
   "cell_type": "code",
   "execution_count": null,
   "id": "gross-drinking",
   "metadata": {
    "papermill": {
     "duration": 0.030979,
     "end_time": "2022-06-28T00:43:47.056322",
     "exception": false,
     "start_time": "2022-06-28T00:43:47.025343",
     "status": "completed"
    },
    "tags": []
   },
   "outputs": [],
   "source": []
  },
  {
   "cell_type": "code",
   "execution_count": 41,
   "id": "subject-macintosh",
   "metadata": {
    "execution": {
     "iopub.execute_input": "2022-06-28T00:43:47.123033Z",
     "iopub.status.busy": "2022-06-28T00:43:47.122443Z",
     "iopub.status.idle": "2022-06-28T00:43:47.124823Z",
     "shell.execute_reply": "2022-06-28T00:43:47.124291Z"
    },
    "papermill": {
     "duration": 0.037389,
     "end_time": "2022-06-28T00:43:47.124927",
     "exception": false,
     "start_time": "2022-06-28T00:43:47.087538",
     "status": "completed"
    },
    "tags": []
   },
   "outputs": [],
   "source": [
    "# #hide\n",
    "# fig, ax = plt.subplots(figsize=(15, 8))\n",
    "\n",
    "# def draw_barchart(current_day):\n",
    "#     dff = g[g['day'].eq(current_day)].sort_values(by='value', ascending=True).tail(10)\n",
    "#     ax.clear()\n",
    "#     ax.barh(dff['name'], dff['value'], color=[colors[group_lk[x]] for x in dff['name']])\n",
    "#     dx = dff['value'].max() / 200\n",
    "    \n",
    "#     for i, (value, name) in enumerate(zip(dff['value'], dff['name'])):\n",
    "#         ax.text(value-dx, i,     name,           size=14, weight=600, ha='right', va='bottom')\n",
    "#         ax.text(value-dx, i-.25, group_lk[name], size=10, color='#444444', ha='right', va='baseline')\n",
    "#         ax.text(value+dx, i,     f'{value:,.0f}',  size=14, ha='left',  va='center')\n",
    "#     ax.text(1, 0.4, current_day, transform=ax.transAxes, color='#777777', size=46, ha='right', weight=800)\n",
    "#     ax.text(0, 1.06, 'Population (thousands)', transform=ax.transAxes, size=12, color='#777777')\n",
    "#     ax.xaxis.set_major_formatter(ticker.StrMethodFormatter('{x:,.0f}'))\n",
    "#     ax.xaxis.set_ticks_position('top')\n",
    "#     ax.tick_params(axis='x', colors='#777777', labelsize=12)\n",
    "#     ax.set_yticks([])\n",
    "#     ax.margins(0, 0.01)\n",
    "#     ax.grid(which='major', axis='x', linestyle='-')\n",
    "#     ax.set_axisbelow(True)\n",
    "    \n",
    "#     ax.text(0, 1.15, 'Coronavirus',\n",
    "#             transform=ax.transAxes, size=24, weight=600, ha='left', va='top')\n",
    "# #     ax.text(1, 0, 'by @pratapvardhan; credit @jburnmurdoch', transform=ax.transAxes, color='#777777', ha='right',\n",
    "# #             bbox=dict(facecolor='white', alpha=0.8, edgecolor='white'))\n",
    "#     plt.box(False)"
   ]
  },
  {
   "cell_type": "code",
   "execution_count": 42,
   "id": "sexual-wages",
   "metadata": {
    "execution": {
     "iopub.execute_input": "2022-06-28T00:43:47.191298Z",
     "iopub.status.busy": "2022-06-28T00:43:47.190717Z",
     "iopub.status.idle": "2022-06-28T00:43:47.193111Z",
     "shell.execute_reply": "2022-06-28T00:43:47.192569Z"
    },
    "papermill": {
     "duration": 0.036775,
     "end_time": "2022-06-28T00:43:47.193235",
     "exception": false,
     "start_time": "2022-06-28T00:43:47.156460",
     "status": "completed"
    },
    "tags": []
   },
   "outputs": [],
   "source": [
    "# #hide_input\n",
    "# fig, ax = plt.subplots(figsize=(15, 8))\n",
    "# animator = animation.FuncAnimation(fig, draw_barchart, frames=range(g.day.values.min(), g.day.values.max()))\n",
    "# HTML(animator.to_jshtml())\n",
    "# # or use animator.to_html5_video() or animator.save() "
   ]
  },
  {
   "cell_type": "code",
   "execution_count": null,
   "id": "australian-container",
   "metadata": {
    "papermill": {
     "duration": 0.031271,
     "end_time": "2022-06-28T00:43:47.255872",
     "exception": false,
     "start_time": "2022-06-28T00:43:47.224601",
     "status": "completed"
    },
    "tags": []
   },
   "outputs": [],
   "source": []
  },
  {
   "cell_type": "code",
   "execution_count": null,
   "id": "mediterranean-pontiac",
   "metadata": {
    "papermill": {
     "duration": 0.030884,
     "end_time": "2022-06-28T00:43:47.317850",
     "exception": false,
     "start_time": "2022-06-28T00:43:47.286966",
     "status": "completed"
    },
    "tags": []
   },
   "outputs": [],
   "source": []
  },
  {
   "cell_type": "code",
   "execution_count": null,
   "id": "aging-legislature",
   "metadata": {
    "papermill": {
     "duration": 0.03116,
     "end_time": "2022-06-28T00:43:47.380343",
     "exception": false,
     "start_time": "2022-06-28T00:43:47.349183",
     "status": "completed"
    },
    "tags": []
   },
   "outputs": [],
   "source": []
  }
 ],
 "metadata": {
  "kernelspec": {
   "display_name": "Python 3",
   "language": "python",
   "name": "python3"
  },
  "language_info": {
   "codemirror_mode": {
    "name": "ipython",
    "version": 3
   },
   "file_extension": ".py",
   "mimetype": "text/x-python",
   "name": "python",
   "nbconvert_exporter": "python",
   "pygments_lexer": "ipython3",
   "version": "3.6.15"
  },
  "papermill": {
   "duration": 5.880094,
   "end_time": "2022-06-28T00:43:47.728616",
   "environment_variables": {},
   "exception": null,
   "input_path": "2020-03-21-covid19exp.ipynb",
   "output_path": "2020-03-21-covid19exp.ipynb",
   "parameters": {},
   "start_time": "2022-06-28T00:43:41.848522",
   "version": "2.0.0"
  }
 },
 "nbformat": 4,
 "nbformat_minor": 5
}