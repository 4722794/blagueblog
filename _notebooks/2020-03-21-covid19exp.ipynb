{
 "cells": [
  {
   "cell_type": "markdown",
   "id": "muslim-click",
   "metadata": {
    "papermill": {
     "duration": 0.044155,
     "end_time": "2021-05-21T12:12:07.905966",
     "exception": false,
     "start_time": "2021-05-21T12:12:07.861811",
     "status": "completed"
    },
    "tags": []
   },
   "source": [
    "# COVID-19 Case Race\n",
    "> A race chart to see rising cases around the world\n",
    "\n",
    "- author: Hargun Oberoi\n",
    "- image: images/covid-overview.png\n",
    "- hide: false\n",
    "- badges: false"
   ]
  },
  {
   "cell_type": "code",
   "execution_count": 1,
   "id": "proof-material",
   "metadata": {
    "execution": {
     "iopub.execute_input": "2021-05-21T12:12:07.997120Z",
     "iopub.status.busy": "2021-05-21T12:12:07.996356Z",
     "iopub.status.idle": "2021-05-21T12:12:08.421395Z",
     "shell.execute_reply": "2021-05-21T12:12:08.420473Z"
    },
    "papermill": {
     "duration": 0.475867,
     "end_time": "2021-05-21T12:12:08.421554",
     "exception": false,
     "start_time": "2021-05-21T12:12:07.945687",
     "status": "completed"
    },
    "tags": []
   },
   "outputs": [],
   "source": [
    "#hide\n",
    "import numpy as np\n",
    "import pandas as pd\n",
    "from jinja2 import Template\n",
    "from IPython.display import HTML"
   ]
  },
  {
   "cell_type": "code",
   "execution_count": 2,
   "id": "developed-terminology",
   "metadata": {
    "execution": {
     "iopub.execute_input": "2021-05-21T12:12:08.508393Z",
     "iopub.status.busy": "2021-05-21T12:12:08.507718Z",
     "iopub.status.idle": "2021-05-21T12:12:08.510045Z",
     "shell.execute_reply": "2021-05-21T12:12:08.509431Z"
    },
    "papermill": {
     "duration": 0.047608,
     "end_time": "2021-05-21T12:12:08.510172",
     "exception": false,
     "start_time": "2021-05-21T12:12:08.462564",
     "status": "completed"
    },
    "tags": []
   },
   "outputs": [],
   "source": [
    "#hide\n",
    "\n",
    "# FETCH\n",
    "base_url = 'https://raw.githubusercontent.com/pratapvardhan/notebooks/master/covid19/'\n",
    "paths = {\n",
    "    'mapping': base_url + 'mapping_countries.csv',\n",
    "    'overview': base_url + 'overview.tpl'\n",
    "}"
   ]
  },
  {
   "cell_type": "code",
   "execution_count": 3,
   "id": "dynamic-saver",
   "metadata": {
    "execution": {
     "iopub.execute_input": "2021-05-21T12:12:08.599226Z",
     "iopub.status.busy": "2021-05-21T12:12:08.598064Z",
     "iopub.status.idle": "2021-05-21T12:12:08.610262Z",
     "shell.execute_reply": "2021-05-21T12:12:08.608715Z"
    },
    "papermill": {
     "duration": 0.060662,
     "end_time": "2021-05-21T12:12:08.610403",
     "exception": false,
     "start_time": "2021-05-21T12:12:08.549741",
     "status": "completed"
    },
    "tags": []
   },
   "outputs": [
    {
     "data": {
      "text/plain": [
       "'https://raw.githubusercontent.com/pratapvardhan/notebooks/master/covid19/mapping_countries.csv'"
      ]
     },
     "execution_count": 3,
     "metadata": {},
     "output_type": "execute_result"
    }
   ],
   "source": [
    "#hide\n",
    "paths['mapping']"
   ]
  },
  {
   "cell_type": "code",
   "execution_count": 4,
   "id": "urban-software",
   "metadata": {
    "execution": {
     "iopub.execute_input": "2021-05-21T12:12:08.699518Z",
     "iopub.status.busy": "2021-05-21T12:12:08.698526Z",
     "iopub.status.idle": "2021-05-21T12:12:08.700261Z",
     "shell.execute_reply": "2021-05-21T12:12:08.700932Z"
    },
    "papermill": {
     "duration": 0.049278,
     "end_time": "2021-05-21T12:12:08.701076",
     "exception": false,
     "start_time": "2021-05-21T12:12:08.651798",
     "status": "completed"
    },
    "tags": []
   },
   "outputs": [],
   "source": [
    "#hide\n",
    "def get_mappings(url):\n",
    "    df = pd.read_csv(url)\n",
    "    return {\n",
    "        'df': df,\n",
    "        'replace.country': dict(df.dropna(subset=['Name']).set_index('Country')['Name']),\n",
    "        'map.continent': dict(df.set_index('Name')['Continent'])\n",
    "    }"
   ]
  },
  {
   "cell_type": "code",
   "execution_count": 5,
   "id": "intimate-machinery",
   "metadata": {
    "execution": {
     "iopub.execute_input": "2021-05-21T12:12:08.796327Z",
     "iopub.status.busy": "2021-05-21T12:12:08.795661Z",
     "iopub.status.idle": "2021-05-21T12:12:08.827331Z",
     "shell.execute_reply": "2021-05-21T12:12:08.826660Z"
    },
    "papermill": {
     "duration": 0.079197,
     "end_time": "2021-05-21T12:12:08.827474",
     "exception": false,
     "start_time": "2021-05-21T12:12:08.748277",
     "status": "completed"
    },
    "tags": []
   },
   "outputs": [],
   "source": [
    "#hide\n",
    "mapping = get_mappings(paths['mapping'])"
   ]
  },
  {
   "cell_type": "code",
   "execution_count": 6,
   "id": "certified-tactics",
   "metadata": {
    "execution": {
     "iopub.execute_input": "2021-05-21T12:12:08.913741Z",
     "iopub.status.busy": "2021-05-21T12:12:08.912895Z",
     "iopub.status.idle": "2021-05-21T12:12:08.915623Z",
     "shell.execute_reply": "2021-05-21T12:12:08.916350Z"
    },
    "papermill": {
     "duration": 0.047523,
     "end_time": "2021-05-21T12:12:08.916512",
     "exception": false,
     "start_time": "2021-05-21T12:12:08.868989",
     "status": "completed"
    },
    "tags": []
   },
   "outputs": [],
   "source": [
    "#hide\n",
    "def get_template(path):\n",
    "    from urllib.parse import urlparse\n",
    "    if bool(urlparse(path).netloc):\n",
    "        from urllib.request import urlopen\n",
    "        return urlopen(path).read().decode('utf8')\n",
    "    return open(path).read()"
   ]
  },
  {
   "cell_type": "code",
   "execution_count": 7,
   "id": "realistic-blast",
   "metadata": {
    "execution": {
     "iopub.execute_input": "2021-05-21T12:12:09.004527Z",
     "iopub.status.busy": "2021-05-21T12:12:09.003871Z",
     "iopub.status.idle": "2021-05-21T12:12:09.006339Z",
     "shell.execute_reply": "2021-05-21T12:12:09.005702Z"
    },
    "papermill": {
     "duration": 0.047764,
     "end_time": "2021-05-21T12:12:09.006479",
     "exception": false,
     "start_time": "2021-05-21T12:12:08.958715",
     "status": "completed"
    },
    "tags": []
   },
   "outputs": [],
   "source": [
    "#hide\n",
    "def get_frame(name):\n",
    "    url = (\n",
    "        'https://raw.githubusercontent.com/CSSEGISandData/COVID-19/master/csse_covid_19_data/'\n",
    "        f'csse_covid_19_time_series/time_series_covid19_{name}_global.csv')\n",
    "    df = pd.read_csv(url)\n",
    "    # rename countries\n",
    "    df['Country/Region'] = df['Country/Region'].replace(mapping['replace.country'])\n",
    "    return df"
   ]
  },
  {
   "cell_type": "code",
   "execution_count": 8,
   "id": "affiliated-characterization",
   "metadata": {
    "execution": {
     "iopub.execute_input": "2021-05-21T12:12:09.098754Z",
     "iopub.status.busy": "2021-05-21T12:12:09.098034Z",
     "iopub.status.idle": "2021-05-21T12:12:09.100943Z",
     "shell.execute_reply": "2021-05-21T12:12:09.100116Z"
    },
    "papermill": {
     "duration": 0.052995,
     "end_time": "2021-05-21T12:12:09.101082",
     "exception": false,
     "start_time": "2021-05-21T12:12:09.048087",
     "status": "completed"
    },
    "tags": []
   },
   "outputs": [],
   "source": [
    "#hide\n",
    "def get_dates(df):\n",
    "    dt_cols = df.columns[~df.columns.isin(['Province/State', 'Country/Region', 'Lat', 'Long'])]\n",
    "    LAST_DATE_I = -1\n",
    "    # sometimes last column may be empty, then go backwards\n",
    "    for i in range(-1, -len(dt_cols), -1):\n",
    "        if not df[dt_cols[i]].fillna(0).eq(0).all():\n",
    "            LAST_DATE_I = i\n",
    "            break\n",
    "    return LAST_DATE_I, dt_cols"
   ]
  },
  {
   "cell_type": "code",
   "execution_count": 9,
   "id": "recent-optimization",
   "metadata": {
    "execution": {
     "iopub.execute_input": "2021-05-21T12:12:09.193529Z",
     "iopub.status.busy": "2021-05-21T12:12:09.192316Z",
     "iopub.status.idle": "2021-05-21T12:12:09.521485Z",
     "shell.execute_reply": "2021-05-21T12:12:09.522024Z"
    },
    "papermill": {
     "duration": 0.379232,
     "end_time": "2021-05-21T12:12:09.522474",
     "exception": false,
     "start_time": "2021-05-21T12:12:09.143242",
     "status": "completed"
    },
    "tags": []
   },
   "outputs": [],
   "source": [
    "#hide\n",
    "COL_REGION = 'Country/Region'\n",
    "# Confirmed, Recovered, Deaths\n",
    "df = get_frame('confirmed')\n",
    "# dft_: timeseries, dfc_: today country agg\n",
    "dft_cases = df\n",
    "dft_deaths = get_frame('deaths')\n",
    "dft_recovered = get_frame('recovered')\n",
    "LAST_DATE_I, dt_cols = get_dates(df)"
   ]
  },
  {
   "cell_type": "code",
   "execution_count": 10,
   "id": "absolute-copper",
   "metadata": {
    "execution": {
     "iopub.execute_input": "2021-05-21T12:12:09.613075Z",
     "iopub.status.busy": "2021-05-21T12:12:09.612307Z",
     "iopub.status.idle": "2021-05-21T12:12:09.615021Z",
     "shell.execute_reply": "2021-05-21T12:12:09.614350Z"
    },
    "papermill": {
     "duration": 0.051755,
     "end_time": "2021-05-21T12:12:09.615154",
     "exception": false,
     "start_time": "2021-05-21T12:12:09.563399",
     "status": "completed"
    },
    "tags": []
   },
   "outputs": [],
   "source": [
    "#hide\n",
    "LAST_DATE_I, dt_cols = get_dates(df)\n",
    "dt_today =dt_cols[LAST_DATE_I]\n",
    "# dt_5day = dt_cols[LAST_DATE_I - 5]\n",
    "dt_yday = dt_cols[LAST_DATE_I - 1]"
   ]
  },
  {
   "cell_type": "code",
   "execution_count": 11,
   "id": "restricted-sheriff",
   "metadata": {
    "execution": {
     "iopub.execute_input": "2021-05-21T12:12:09.718422Z",
     "iopub.status.busy": "2021-05-21T12:12:09.717644Z",
     "iopub.status.idle": "2021-05-21T12:12:09.727998Z",
     "shell.execute_reply": "2021-05-21T12:12:09.727097Z"
    },
    "papermill": {
     "duration": 0.063533,
     "end_time": "2021-05-21T12:12:09.728138",
     "exception": false,
     "start_time": "2021-05-21T12:12:09.664605",
     "status": "completed"
    },
    "tags": []
   },
   "outputs": [],
   "source": [
    "#hide\n",
    "dfc_cases = dft_cases.groupby(COL_REGION)[dt_today].sum()\n",
    "dfc_deaths = dft_deaths.groupby(COL_REGION)[dt_today].sum()\n",
    "# dfp_cases = dft_cases.groupby(COL_REGION)[dt_5day].sum()\n",
    "# dfp_deaths = dft_deaths.groupby(COL_REGION)[dt_5day].sum()\n",
    "dfp_cases = dft_cases.groupby(COL_REGION)[dt_yday].sum()\n",
    "dfp_deaths = dft_deaths.groupby(COL_REGION)[dt_yday].sum()"
   ]
  },
  {
   "cell_type": "code",
   "execution_count": 12,
   "id": "deluxe-hepatitis",
   "metadata": {
    "execution": {
     "iopub.execute_input": "2021-05-21T12:12:09.839198Z",
     "iopub.status.busy": "2021-05-21T12:12:09.838470Z",
     "iopub.status.idle": "2021-05-21T12:12:09.843653Z",
     "shell.execute_reply": "2021-05-21T12:12:09.844308Z"
    },
    "papermill": {
     "duration": 0.058092,
     "end_time": "2021-05-21T12:12:09.844478",
     "exception": false,
     "start_time": "2021-05-21T12:12:09.786386",
     "status": "completed"
    },
    "tags": []
   },
   "outputs": [],
   "source": [
    "#hide\n",
    "df_table = (pd.DataFrame(dict(Cases = dfc_cases, Deaths = dfc_deaths, PCases = dfp_cases, PDeaths = dfp_deaths))\n",
    "            .sort_values(by = ['Cases','Deaths'], ascending = [False, False])\n",
    "            .reset_index())"
   ]
  },
  {
   "cell_type": "code",
   "execution_count": 13,
   "id": "educational-chancellor",
   "metadata": {
    "execution": {
     "iopub.execute_input": "2021-05-21T12:12:09.933215Z",
     "iopub.status.busy": "2021-05-21T12:12:09.932387Z",
     "iopub.status.idle": "2021-05-21T12:12:09.955934Z",
     "shell.execute_reply": "2021-05-21T12:12:09.956636Z"
    },
    "papermill": {
     "duration": 0.072001,
     "end_time": "2021-05-21T12:12:09.956781",
     "exception": false,
     "start_time": "2021-05-21T12:12:09.884780",
     "status": "completed"
    },
    "tags": []
   },
   "outputs": [
    {
     "data": {
      "text/html": [
       "<div>\n",
       "<style scoped>\n",
       "    .dataframe tbody tr th:only-of-type {\n",
       "        vertical-align: middle;\n",
       "    }\n",
       "\n",
       "    .dataframe tbody tr th {\n",
       "        vertical-align: top;\n",
       "    }\n",
       "\n",
       "    .dataframe thead th {\n",
       "        text-align: right;\n",
       "    }\n",
       "</style>\n",
       "<table border=\"1\" class=\"dataframe\">\n",
       "  <thead>\n",
       "    <tr style=\"text-align: right;\">\n",
       "      <th></th>\n",
       "      <th>Country/Region</th>\n",
       "      <th>Cases</th>\n",
       "      <th>Deaths</th>\n",
       "      <th>PCases</th>\n",
       "      <th>PDeaths</th>\n",
       "      <th>Cases (+)</th>\n",
       "      <th>Deaths (+)</th>\n",
       "      <th>Fatality Rate</th>\n",
       "      <th>Continent</th>\n",
       "    </tr>\n",
       "  </thead>\n",
       "  <tbody>\n",
       "    <tr>\n",
       "      <th>0</th>\n",
       "      <td>US</td>\n",
       "      <td>33056765</td>\n",
       "      <td>588539</td>\n",
       "      <td>33026624</td>\n",
       "      <td>587874</td>\n",
       "      <td>30141</td>\n",
       "      <td>665</td>\n",
       "      <td>1.78</td>\n",
       "      <td>North America</td>\n",
       "    </tr>\n",
       "    <tr>\n",
       "      <th>1</th>\n",
       "      <td>India</td>\n",
       "      <td>26031991</td>\n",
       "      <td>291331</td>\n",
       "      <td>25772440</td>\n",
       "      <td>287122</td>\n",
       "      <td>259551</td>\n",
       "      <td>4209</td>\n",
       "      <td>1.12</td>\n",
       "      <td>Asia</td>\n",
       "    </tr>\n",
       "    <tr>\n",
       "      <th>2</th>\n",
       "      <td>Brazil</td>\n",
       "      <td>15894094</td>\n",
       "      <td>444094</td>\n",
       "      <td>15812055</td>\n",
       "      <td>441691</td>\n",
       "      <td>82039</td>\n",
       "      <td>2403</td>\n",
       "      <td>2.79</td>\n",
       "      <td>South America</td>\n",
       "    </tr>\n",
       "    <tr>\n",
       "      <th>3</th>\n",
       "      <td>France</td>\n",
       "      <td>5979099</td>\n",
       "      <td>108343</td>\n",
       "      <td>5978650</td>\n",
       "      <td>108342</td>\n",
       "      <td>449</td>\n",
       "      <td>1</td>\n",
       "      <td>1.81</td>\n",
       "      <td>Europe</td>\n",
       "    </tr>\n",
       "    <tr>\n",
       "      <th>4</th>\n",
       "      <td>Turkey</td>\n",
       "      <td>5160423</td>\n",
       "      <td>45626</td>\n",
       "      <td>5151038</td>\n",
       "      <td>45419</td>\n",
       "      <td>9385</td>\n",
       "      <td>207</td>\n",
       "      <td>0.88</td>\n",
       "      <td>Asia</td>\n",
       "    </tr>\n",
       "  </tbody>\n",
       "</table>\n",
       "</div>"
      ],
      "text/plain": [
       "  Country/Region     Cases  Deaths    PCases  PDeaths  Cases (+)  Deaths (+)  \\\n",
       "0             US  33056765  588539  33026624   587874      30141         665   \n",
       "1          India  26031991  291331  25772440   287122     259551        4209   \n",
       "2         Brazil  15894094  444094  15812055   441691      82039        2403   \n",
       "3         France   5979099  108343   5978650   108342        449           1   \n",
       "4         Turkey   5160423   45626   5151038    45419       9385         207   \n",
       "\n",
       "   Fatality Rate      Continent  \n",
       "0           1.78  North America  \n",
       "1           1.12           Asia  \n",
       "2           2.79  South America  \n",
       "3           1.81         Europe  \n",
       "4           0.88           Asia  "
      ]
     },
     "execution_count": 13,
     "metadata": {},
     "output_type": "execute_result"
    }
   ],
   "source": [
    "#hide\n",
    "for c in 'Cases, Deaths'.split(', '):\n",
    "    df_table[f'{c} (+)'] = (df_table[c] - df_table[f'P{c}']).clip(0)\n",
    "    #Clip ça veut dire, les chiffres negatif sont interdit\n",
    "df_table['Fatality Rate'] = (100* df_table['Deaths']/ df_table['Cases']).round(2)\n",
    "df_table['Continent'] = df_table['Country/Region'].map(mapping['map.continent'])\n",
    "df_table.head(5)"
   ]
  },
  {
   "cell_type": "code",
   "execution_count": 14,
   "id": "aboriginal-bulgaria",
   "metadata": {
    "execution": {
     "iopub.execute_input": "2021-05-21T12:12:10.050976Z",
     "iopub.status.busy": "2021-05-21T12:12:10.050366Z",
     "iopub.status.idle": "2021-05-21T12:12:10.053243Z",
     "shell.execute_reply": "2021-05-21T12:12:10.053841Z"
    },
    "papermill": {
     "duration": 0.05135,
     "end_time": "2021-05-21T12:12:10.054020",
     "exception": false,
     "start_time": "2021-05-21T12:12:10.002670",
     "status": "completed"
    },
    "tags": []
   },
   "outputs": [],
   "source": [
    "#hide\n",
    "#delete problematic countries from table\n",
    "df_table = df_table[~df_table['Country/Region'].isin(['Cape Verde', 'Cruise Ship', 'Kosovo'])]"
   ]
  },
  {
   "cell_type": "code",
   "execution_count": 15,
   "id": "fantastic-effect",
   "metadata": {
    "execution": {
     "iopub.execute_input": "2021-05-21T12:12:10.157382Z",
     "iopub.status.busy": "2021-05-21T12:12:10.156680Z",
     "iopub.status.idle": "2021-05-21T12:12:10.178912Z",
     "shell.execute_reply": "2021-05-21T12:12:10.179594Z"
    },
    "papermill": {
     "duration": 0.076568,
     "end_time": "2021-05-21T12:12:10.179861",
     "exception": false,
     "start_time": "2021-05-21T12:12:10.103293",
     "status": "completed"
    },
    "tags": []
   },
   "outputs": [
    {
     "data": {
      "text/html": [
       "<div>\n",
       "<style scoped>\n",
       "    .dataframe tbody tr th:only-of-type {\n",
       "        vertical-align: middle;\n",
       "    }\n",
       "\n",
       "    .dataframe tbody tr th {\n",
       "        vertical-align: top;\n",
       "    }\n",
       "\n",
       "    .dataframe thead th {\n",
       "        text-align: right;\n",
       "    }\n",
       "</style>\n",
       "<table border=\"1\" class=\"dataframe\">\n",
       "  <thead>\n",
       "    <tr style=\"text-align: right;\">\n",
       "      <th></th>\n",
       "      <th>Country/Region</th>\n",
       "      <th>Cases</th>\n",
       "      <th>Deaths</th>\n",
       "      <th>PCases</th>\n",
       "      <th>PDeaths</th>\n",
       "      <th>Cases (+)</th>\n",
       "      <th>Deaths (+)</th>\n",
       "      <th>Fatality Rate</th>\n",
       "      <th>Continent</th>\n",
       "    </tr>\n",
       "  </thead>\n",
       "  <tbody>\n",
       "    <tr>\n",
       "      <th>0</th>\n",
       "      <td>US</td>\n",
       "      <td>33056765</td>\n",
       "      <td>588539</td>\n",
       "      <td>33026624</td>\n",
       "      <td>587874</td>\n",
       "      <td>30141</td>\n",
       "      <td>665</td>\n",
       "      <td>1.8</td>\n",
       "      <td>North America</td>\n",
       "    </tr>\n",
       "    <tr>\n",
       "      <th>1</th>\n",
       "      <td>India</td>\n",
       "      <td>26031991</td>\n",
       "      <td>291331</td>\n",
       "      <td>25772440</td>\n",
       "      <td>287122</td>\n",
       "      <td>259551</td>\n",
       "      <td>4209</td>\n",
       "      <td>1.1</td>\n",
       "      <td>Asia</td>\n",
       "    </tr>\n",
       "    <tr>\n",
       "      <th>2</th>\n",
       "      <td>Brazil</td>\n",
       "      <td>15894094</td>\n",
       "      <td>444094</td>\n",
       "      <td>15812055</td>\n",
       "      <td>441691</td>\n",
       "      <td>82039</td>\n",
       "      <td>2403</td>\n",
       "      <td>2.8</td>\n",
       "      <td>South America</td>\n",
       "    </tr>\n",
       "    <tr>\n",
       "      <th>3</th>\n",
       "      <td>France</td>\n",
       "      <td>5979099</td>\n",
       "      <td>108343</td>\n",
       "      <td>5978650</td>\n",
       "      <td>108342</td>\n",
       "      <td>449</td>\n",
       "      <td>1</td>\n",
       "      <td>1.8</td>\n",
       "      <td>Europe</td>\n",
       "    </tr>\n",
       "    <tr>\n",
       "      <th>4</th>\n",
       "      <td>Turkey</td>\n",
       "      <td>5160423</td>\n",
       "      <td>45626</td>\n",
       "      <td>5151038</td>\n",
       "      <td>45419</td>\n",
       "      <td>9385</td>\n",
       "      <td>207</td>\n",
       "      <td>0.9</td>\n",
       "      <td>Asia</td>\n",
       "    </tr>\n",
       "  </tbody>\n",
       "</table>\n",
       "</div>"
      ],
      "text/plain": [
       "  Country/Region     Cases  Deaths    PCases  PDeaths  Cases (+)  Deaths (+)  \\\n",
       "0             US  33056765  588539  33026624   587874      30141         665   \n",
       "1          India  26031991  291331  25772440   287122     259551        4209   \n",
       "2         Brazil  15894094  444094  15812055   441691      82039        2403   \n",
       "3         France   5979099  108343   5978650   108342        449           1   \n",
       "4         Turkey   5160423   45626   5151038    45419       9385         207   \n",
       "\n",
       "   Fatality Rate      Continent  \n",
       "0            1.8  North America  \n",
       "1            1.1           Asia  \n",
       "2            2.8  South America  \n",
       "3            1.8         Europe  \n",
       "4            0.9           Asia  "
      ]
     },
     "execution_count": 15,
     "metadata": {},
     "output_type": "execute_result"
    }
   ],
   "source": [
    "#hide\n",
    "df_table = (pd.DataFrame(dict(Cases=dfc_cases, Deaths=dfc_deaths, PCases=dfp_cases, PDeaths=dfp_deaths))\n",
    "             .sort_values(by=['Cases', 'Deaths'], ascending=[False, False])\n",
    "             .reset_index())\n",
    "df_table.rename(columns={'index': 'Country/Region'}, inplace=True)\n",
    "for c in 'Cases, Deaths'.split(', '):\n",
    "    df_table[f'{c} (+)'] = (df_table[c] - df_table[f'P{c}']).clip(0)  # DATA BUG\n",
    "df_table['Fatality Rate'] = (100 * df_table['Deaths'] / df_table['Cases']).round(1)\n",
    "df_table['Continent'] = df_table['Country/Region'].map(mapping['map.continent'])\n",
    "df_table.head(5)"
   ]
  },
  {
   "cell_type": "code",
   "execution_count": 16,
   "id": "fewer-occasion",
   "metadata": {
    "execution": {
     "iopub.execute_input": "2021-05-21T12:12:10.271197Z",
     "iopub.status.busy": "2021-05-21T12:12:10.270468Z",
     "iopub.status.idle": "2021-05-21T12:12:10.274105Z",
     "shell.execute_reply": "2021-05-21T12:12:10.274792Z"
    },
    "papermill": {
     "duration": 0.051937,
     "end_time": "2021-05-21T12:12:10.274968",
     "exception": false,
     "start_time": "2021-05-21T12:12:10.223031",
     "status": "completed"
    },
    "tags": []
   },
   "outputs": [],
   "source": [
    "#hide\n",
    "#delete problematic countries from table\n",
    "df_table = df_table[~df_table['Country/Region'].isin(['Cape Verde', 'Cruise Ship', 'Kosovo'])]"
   ]
  },
  {
   "cell_type": "code",
   "execution_count": 17,
   "id": "related-center",
   "metadata": {
    "execution": {
     "iopub.execute_input": "2021-05-21T12:12:10.383885Z",
     "iopub.status.busy": "2021-05-21T12:12:10.383139Z",
     "iopub.status.idle": "2021-05-21T12:12:10.387694Z",
     "shell.execute_reply": "2021-05-21T12:12:10.387119Z"
    },
    "papermill": {
     "duration": 0.069477,
     "end_time": "2021-05-21T12:12:10.387835",
     "exception": false,
     "start_time": "2021-05-21T12:12:10.318358",
     "status": "completed"
    },
    "tags": []
   },
   "outputs": [],
   "source": [
    "#hide\n",
    "metrics = [df_table.columns[index] for index in [1,2,5,6]]\n",
    "# s_china = df_table[df_table['Country/Region'].eq('China')][metrics].sum().add_prefix('China ')\n",
    "s_us = df_table[df_table['Country/Region'].eq('US')][metrics].sum().add_prefix('US ')\n",
    "s_eu = df_table[df_table['Continent'].eq('Europe')][metrics].sum().add_prefix('EU ')\n",
    "s_ind = df_table[df_table['Country/Region'].eq('India')][metrics].sum().add_prefix('India ')\n",
    "summary = {'updated': pd.to_datetime(dt_today), 'since': pd.to_datetime(dt_yday)}\n",
    "summary = {'updated': pd.to_datetime(dt_today), 'since': pd.to_datetime(dt_yday)}\n",
    "summary = {**summary, **df_table[metrics].sum(), **s_ind, **s_us, **s_eu}"
   ]
  },
  {
   "cell_type": "code",
   "execution_count": 18,
   "id": "engaging-syndrome",
   "metadata": {
    "execution": {
     "iopub.execute_input": "2021-05-21T12:12:10.480911Z",
     "iopub.status.busy": "2021-05-21T12:12:10.480231Z",
     "iopub.status.idle": "2021-05-21T12:12:10.493560Z",
     "shell.execute_reply": "2021-05-21T12:12:10.494229Z"
    },
    "papermill": {
     "duration": 0.063412,
     "end_time": "2021-05-21T12:12:10.494389",
     "exception": false,
     "start_time": "2021-05-21T12:12:10.430977",
     "status": "completed"
    },
    "tags": []
   },
   "outputs": [],
   "source": [
    "#hide\n",
    "dft_ct_new_cases = dft_cases.groupby(COL_REGION)[dt_cols].sum().diff(axis=1).fillna(0).astype(int)"
   ]
  },
  {
   "cell_type": "code",
   "execution_count": 19,
   "id": "neutral-assignment",
   "metadata": {
    "execution": {
     "iopub.execute_input": "2021-05-21T12:12:10.589379Z",
     "iopub.status.busy": "2021-05-21T12:12:10.588503Z",
     "iopub.status.idle": "2021-05-21T12:12:10.590104Z",
     "shell.execute_reply": "2021-05-21T12:12:10.590686Z"
    },
    "papermill": {
     "duration": 0.053504,
     "end_time": "2021-05-21T12:12:10.590857",
     "exception": false,
     "start_time": "2021-05-21T12:12:10.537353",
     "status": "completed"
    },
    "tags": []
   },
   "outputs": [],
   "source": [
    "#hide\n",
    "everydaycases = dft_ct_new_cases.cumsum(axis=1)"
   ]
  },
  {
   "cell_type": "code",
   "execution_count": 20,
   "id": "parliamentary-calgary",
   "metadata": {
    "execution": {
     "iopub.execute_input": "2021-05-21T12:12:10.683624Z",
     "iopub.status.busy": "2021-05-21T12:12:10.682661Z",
     "iopub.status.idle": "2021-05-21T12:12:11.372444Z",
     "shell.execute_reply": "2021-05-21T12:12:11.371780Z"
    },
    "papermill": {
     "duration": 0.738921,
     "end_time": "2021-05-21T12:12:11.372638",
     "exception": false,
     "start_time": "2021-05-21T12:12:10.633717",
     "status": "completed"
    },
    "tags": []
   },
   "outputs": [],
   "source": [
    "#hide\n",
    "import pandas as pd\n",
    "import matplotlib.pyplot as plt\n",
    "import matplotlib.ticker as ticker\n",
    "import matplotlib.animation as animation\n",
    "from IPython.display import HTML"
   ]
  },
  {
   "cell_type": "code",
   "execution_count": 21,
   "id": "lasting-extraction",
   "metadata": {
    "execution": {
     "iopub.execute_input": "2021-05-21T12:12:11.476438Z",
     "iopub.status.busy": "2021-05-21T12:12:11.475767Z",
     "iopub.status.idle": "2021-05-21T12:12:11.481847Z",
     "shell.execute_reply": "2021-05-21T12:12:11.482523Z"
    },
    "papermill": {
     "duration": 0.05743,
     "end_time": "2021-05-21T12:12:11.482734",
     "exception": false,
     "start_time": "2021-05-21T12:12:11.425304",
     "status": "completed"
    },
    "tags": []
   },
   "outputs": [],
   "source": [
    "#hide\n",
    "t = everydaycases.stack()"
   ]
  },
  {
   "cell_type": "code",
   "execution_count": 22,
   "id": "premier-sleeve",
   "metadata": {
    "execution": {
     "iopub.execute_input": "2021-05-21T12:12:11.580168Z",
     "iopub.status.busy": "2021-05-21T12:12:11.579439Z",
     "iopub.status.idle": "2021-05-21T12:12:11.590316Z",
     "shell.execute_reply": "2021-05-21T12:12:11.590945Z"
    },
    "papermill": {
     "duration": 0.064538,
     "end_time": "2021-05-21T12:12:11.591126",
     "exception": false,
     "start_time": "2021-05-21T12:12:11.526588",
     "status": "completed"
    },
    "tags": []
   },
   "outputs": [],
   "source": [
    "#hide\n",
    "g = t.reset_index(['Country/Region'])"
   ]
  },
  {
   "cell_type": "code",
   "execution_count": 23,
   "id": "distributed-pittsburgh",
   "metadata": {
    "execution": {
     "iopub.execute_input": "2021-05-21T12:12:11.685323Z",
     "iopub.status.busy": "2021-05-21T12:12:11.684579Z",
     "iopub.status.idle": "2021-05-21T12:12:11.686757Z",
     "shell.execute_reply": "2021-05-21T12:12:11.687472Z"
    },
    "papermill": {
     "duration": 0.053461,
     "end_time": "2021-05-21T12:12:11.687626",
     "exception": false,
     "start_time": "2021-05-21T12:12:11.634165",
     "status": "completed"
    },
    "tags": []
   },
   "outputs": [],
   "source": [
    "#hide\n",
    "g.index.name = 'date'"
   ]
  },
  {
   "cell_type": "code",
   "execution_count": 24,
   "id": "naked-donor",
   "metadata": {
    "execution": {
     "iopub.execute_input": "2021-05-21T12:12:11.781328Z",
     "iopub.status.busy": "2021-05-21T12:12:11.780624Z",
     "iopub.status.idle": "2021-05-21T12:12:11.783104Z",
     "shell.execute_reply": "2021-05-21T12:12:11.783760Z"
    },
    "papermill": {
     "duration": 0.053153,
     "end_time": "2021-05-21T12:12:11.783914",
     "exception": false,
     "start_time": "2021-05-21T12:12:11.730761",
     "status": "completed"
    },
    "tags": []
   },
   "outputs": [],
   "source": [
    "# #hide\n",
    "# g = g.reset_index(['date'])"
   ]
  },
  {
   "cell_type": "code",
   "execution_count": 25,
   "id": "incomplete-mustang",
   "metadata": {
    "execution": {
     "iopub.execute_input": "2021-05-21T12:12:11.879222Z",
     "iopub.status.busy": "2021-05-21T12:12:11.878352Z",
     "iopub.status.idle": "2021-05-21T12:12:11.881154Z",
     "shell.execute_reply": "2021-05-21T12:12:11.880561Z"
    },
    "papermill": {
     "duration": 0.053397,
     "end_time": "2021-05-21T12:12:11.881286",
     "exception": false,
     "start_time": "2021-05-21T12:12:11.827889",
     "status": "completed"
    },
    "tags": []
   },
   "outputs": [],
   "source": [
    "#hide\n",
    "# g.head()"
   ]
  },
  {
   "cell_type": "code",
   "execution_count": 26,
   "id": "specific-kruger",
   "metadata": {
    "execution": {
     "iopub.execute_input": "2021-05-21T12:12:11.969221Z",
     "iopub.status.busy": "2021-05-21T12:12:11.968557Z",
     "iopub.status.idle": "2021-05-21T12:12:11.970564Z",
     "shell.execute_reply": "2021-05-21T12:12:11.971112Z"
    },
    "papermill": {
     "duration": 0.048681,
     "end_time": "2021-05-21T12:12:11.971277",
     "exception": false,
     "start_time": "2021-05-21T12:12:11.922596",
     "status": "completed"
    },
    "tags": []
   },
   "outputs": [],
   "source": [
    "#hide\n",
    "# g.columns = ['date','country','cases']"
   ]
  },
  {
   "cell_type": "code",
   "execution_count": 27,
   "id": "tender-conversion",
   "metadata": {
    "execution": {
     "iopub.execute_input": "2021-05-21T12:12:12.060673Z",
     "iopub.status.busy": "2021-05-21T12:12:12.060003Z",
     "iopub.status.idle": "2021-05-21T12:12:12.061920Z",
     "shell.execute_reply": "2021-05-21T12:12:12.062626Z"
    },
    "papermill": {
     "duration": 0.049413,
     "end_time": "2021-05-21T12:12:12.062773",
     "exception": false,
     "start_time": "2021-05-21T12:12:12.013360",
     "status": "completed"
    },
    "tags": []
   },
   "outputs": [],
   "source": [
    "#hide\n",
    "# g['continent'] = g.country"
   ]
  },
  {
   "cell_type": "code",
   "execution_count": 28,
   "id": "substantial-wilderness",
   "metadata": {
    "execution": {
     "iopub.execute_input": "2021-05-21T12:12:12.167670Z",
     "iopub.status.busy": "2021-05-21T12:12:12.166992Z",
     "iopub.status.idle": "2021-05-21T12:12:12.170587Z",
     "shell.execute_reply": "2021-05-21T12:12:12.169895Z"
    },
    "papermill": {
     "duration": 0.058078,
     "end_time": "2021-05-21T12:12:12.170721",
     "exception": false,
     "start_time": "2021-05-21T12:12:12.112643",
     "status": "completed"
    },
    "tags": []
   },
   "outputs": [],
   "source": [
    "#hide\n",
    "# cols = list(g.columns.values)"
   ]
  },
  {
   "cell_type": "code",
   "execution_count": 29,
   "id": "solved-farming",
   "metadata": {
    "execution": {
     "iopub.execute_input": "2021-05-21T12:12:12.261263Z",
     "iopub.status.busy": "2021-05-21T12:12:12.260592Z",
     "iopub.status.idle": "2021-05-21T12:12:12.263341Z",
     "shell.execute_reply": "2021-05-21T12:12:12.262436Z"
    },
    "papermill": {
     "duration": 0.04954,
     "end_time": "2021-05-21T12:12:12.264067",
     "exception": false,
     "start_time": "2021-05-21T12:12:12.214527",
     "status": "completed"
    },
    "tags": []
   },
   "outputs": [],
   "source": [
    "#hide\n",
    "# cols.insert(0, cols.pop())"
   ]
  },
  {
   "cell_type": "code",
   "execution_count": 30,
   "id": "executed-adoption",
   "metadata": {
    "execution": {
     "iopub.execute_input": "2021-05-21T12:12:12.350443Z",
     "iopub.status.busy": "2021-05-21T12:12:12.349705Z",
     "iopub.status.idle": "2021-05-21T12:12:12.352620Z",
     "shell.execute_reply": "2021-05-21T12:12:12.351986Z"
    },
    "papermill": {
     "duration": 0.047846,
     "end_time": "2021-05-21T12:12:12.352745",
     "exception": false,
     "start_time": "2021-05-21T12:12:12.304899",
     "status": "completed"
    },
    "tags": []
   },
   "outputs": [],
   "source": [
    "#hide\n",
    "# g = g[cols]"
   ]
  },
  {
   "cell_type": "code",
   "execution_count": 31,
   "id": "subject-dublin",
   "metadata": {
    "execution": {
     "iopub.execute_input": "2021-05-21T12:12:12.440620Z",
     "iopub.status.busy": "2021-05-21T12:12:12.439909Z",
     "iopub.status.idle": "2021-05-21T12:12:12.441856Z",
     "shell.execute_reply": "2021-05-21T12:12:12.442425Z"
    },
    "papermill": {
     "duration": 0.047447,
     "end_time": "2021-05-21T12:12:12.442632",
     "exception": false,
     "start_time": "2021-05-21T12:12:12.395185",
     "status": "completed"
    },
    "tags": []
   },
   "outputs": [],
   "source": [
    "#hide\n",
    "# g['continent'] = g['continent'].map(mapping['map.continent'])"
   ]
  },
  {
   "cell_type": "code",
   "execution_count": 32,
   "id": "freelance-scout",
   "metadata": {
    "execution": {
     "iopub.execute_input": "2021-05-21T12:12:12.530843Z",
     "iopub.status.busy": "2021-05-21T12:12:12.530181Z",
     "iopub.status.idle": "2021-05-21T12:12:12.532676Z",
     "shell.execute_reply": "2021-05-21T12:12:12.531935Z"
    },
    "papermill": {
     "duration": 0.049216,
     "end_time": "2021-05-21T12:12:12.532840",
     "exception": false,
     "start_time": "2021-05-21T12:12:12.483624",
     "status": "completed"
    },
    "tags": []
   },
   "outputs": [],
   "source": [
    "#hide\n",
    "# g.head()"
   ]
  },
  {
   "cell_type": "code",
   "execution_count": 33,
   "id": "limited-engine",
   "metadata": {
    "execution": {
     "iopub.execute_input": "2021-05-21T12:12:12.624673Z",
     "iopub.status.busy": "2021-05-21T12:12:12.624016Z",
     "iopub.status.idle": "2021-05-21T12:12:12.625932Z",
     "shell.execute_reply": "2021-05-21T12:12:12.626727Z"
    },
    "papermill": {
     "duration": 0.051476,
     "end_time": "2021-05-21T12:12:12.626903",
     "exception": false,
     "start_time": "2021-05-21T12:12:12.575427",
     "status": "completed"
    },
    "tags": []
   },
   "outputs": [],
   "source": [
    "# hide\n",
    "# g['date'] = g['date'].astype('datetime64[ns]')"
   ]
  },
  {
   "cell_type": "code",
   "execution_count": 34,
   "id": "sophisticated-supervisor",
   "metadata": {
    "execution": {
     "iopub.execute_input": "2021-05-21T12:12:12.716067Z",
     "iopub.status.busy": "2021-05-21T12:12:12.715440Z",
     "iopub.status.idle": "2021-05-21T12:12:12.717401Z",
     "shell.execute_reply": "2021-05-21T12:12:12.717939Z"
    },
    "papermill": {
     "duration": 0.048845,
     "end_time": "2021-05-21T12:12:12.718079",
     "exception": false,
     "start_time": "2021-05-21T12:12:12.669234",
     "status": "completed"
    },
    "tags": []
   },
   "outputs": [],
   "source": [
    "#hide\n",
    "# g['date'] = g.date.dt.dayofyear"
   ]
  },
  {
   "cell_type": "code",
   "execution_count": 35,
   "id": "inside-dubai",
   "metadata": {
    "execution": {
     "iopub.execute_input": "2021-05-21T12:12:12.806447Z",
     "iopub.status.busy": "2021-05-21T12:12:12.805787Z",
     "iopub.status.idle": "2021-05-21T12:12:12.808775Z",
     "shell.execute_reply": "2021-05-21T12:12:12.808208Z"
    },
    "papermill": {
     "duration": 0.050039,
     "end_time": "2021-05-21T12:12:12.808953",
     "exception": false,
     "start_time": "2021-05-21T12:12:12.758914",
     "status": "completed"
    },
    "tags": []
   },
   "outputs": [],
   "source": [
    "#hide\n",
    "# g = g.rename(columns= {'continent':'group','country':'name','cases':'value'})"
   ]
  },
  {
   "cell_type": "code",
   "execution_count": 36,
   "id": "fleet-motorcycle",
   "metadata": {
    "execution": {
     "iopub.execute_input": "2021-05-21T12:12:12.895490Z",
     "iopub.status.busy": "2021-05-21T12:12:12.894740Z",
     "iopub.status.idle": "2021-05-21T12:12:12.897908Z",
     "shell.execute_reply": "2021-05-21T12:12:12.897077Z"
    },
    "papermill": {
     "duration": 0.048083,
     "end_time": "2021-05-21T12:12:12.898031",
     "exception": false,
     "start_time": "2021-05-21T12:12:12.849948",
     "status": "completed"
    },
    "tags": []
   },
   "outputs": [],
   "source": [
    "#hide\n",
    "# cols = ['name','group','day','value']"
   ]
  },
  {
   "cell_type": "code",
   "execution_count": 37,
   "id": "continued-sleeping",
   "metadata": {
    "execution": {
     "iopub.execute_input": "2021-05-21T12:12:12.990268Z",
     "iopub.status.busy": "2021-05-21T12:12:12.989169Z",
     "iopub.status.idle": "2021-05-21T12:12:12.991054Z",
     "shell.execute_reply": "2021-05-21T12:12:12.991791Z"
    },
    "papermill": {
     "duration": 0.050644,
     "end_time": "2021-05-21T12:12:12.991950",
     "exception": false,
     "start_time": "2021-05-21T12:12:12.941306",
     "status": "completed"
    },
    "tags": []
   },
   "outputs": [],
   "source": [
    "#hide\n",
    "# g.rename(columns= {'date':'day'},inplace = True)"
   ]
  },
  {
   "cell_type": "code",
   "execution_count": 38,
   "id": "major-fight",
   "metadata": {
    "execution": {
     "iopub.execute_input": "2021-05-21T12:12:13.082491Z",
     "iopub.status.busy": "2021-05-21T12:12:13.081616Z",
     "iopub.status.idle": "2021-05-21T12:12:13.083594Z",
     "shell.execute_reply": "2021-05-21T12:12:13.084226Z"
    },
    "papermill": {
     "duration": 0.049886,
     "end_time": "2021-05-21T12:12:13.084392",
     "exception": false,
     "start_time": "2021-05-21T12:12:13.034506",
     "status": "completed"
    },
    "tags": []
   },
   "outputs": [],
   "source": [
    "#hide\n",
    "# g = g[cols]"
   ]
  },
  {
   "cell_type": "code",
   "execution_count": 39,
   "id": "structured-mobile",
   "metadata": {
    "execution": {
     "iopub.execute_input": "2021-05-21T12:12:13.178767Z",
     "iopub.status.busy": "2021-05-21T12:12:13.178121Z",
     "iopub.status.idle": "2021-05-21T12:12:13.180895Z",
     "shell.execute_reply": "2021-05-21T12:12:13.180317Z"
    },
    "papermill": {
     "duration": 0.051801,
     "end_time": "2021-05-21T12:12:13.181028",
     "exception": false,
     "start_time": "2021-05-21T12:12:13.129227",
     "status": "completed"
    },
    "tags": []
   },
   "outputs": [],
   "source": [
    "# #hide\n",
    "# g = g[g.group.notna()]"
   ]
  },
  {
   "cell_type": "code",
   "execution_count": 40,
   "id": "determined-closing",
   "metadata": {
    "execution": {
     "iopub.execute_input": "2021-05-21T12:12:13.271931Z",
     "iopub.status.busy": "2021-05-21T12:12:13.271256Z",
     "iopub.status.idle": "2021-05-21T12:12:13.273518Z",
     "shell.execute_reply": "2021-05-21T12:12:13.274207Z"
    },
    "papermill": {
     "duration": 0.050708,
     "end_time": "2021-05-21T12:12:13.274360",
     "exception": false,
     "start_time": "2021-05-21T12:12:13.223652",
     "status": "completed"
    },
    "tags": []
   },
   "outputs": [],
   "source": [
    "# #hide\n",
    "# colors = dict(zip(\n",
    "#     [\"Oceania\", \"Europe\", \"Asia\", \"South America\", \"Middle East\", \"North America\", \"Africa\"],\n",
    "#     [\"#adb0ff\", \"#ffb3ff\", \"#90d595\", \"#e48381\", \"#aafbff\", \"#f7bb5f\", \"#eafb50\"]\n",
    "# ))\n",
    "# group_lk = g.set_index('name')['group'].to_dict()"
   ]
  },
  {
   "cell_type": "code",
   "execution_count": null,
   "id": "gross-drinking",
   "metadata": {
    "papermill": {
     "duration": 0.041178,
     "end_time": "2021-05-21T12:12:13.357937",
     "exception": false,
     "start_time": "2021-05-21T12:12:13.316759",
     "status": "completed"
    },
    "tags": []
   },
   "outputs": [],
   "source": []
  },
  {
   "cell_type": "code",
   "execution_count": 41,
   "id": "subject-macintosh",
   "metadata": {
    "execution": {
     "iopub.execute_input": "2021-05-21T12:12:13.445392Z",
     "iopub.status.busy": "2021-05-21T12:12:13.444649Z",
     "iopub.status.idle": "2021-05-21T12:12:13.446506Z",
     "shell.execute_reply": "2021-05-21T12:12:13.447048Z"
    },
    "papermill": {
     "duration": 0.048598,
     "end_time": "2021-05-21T12:12:13.447190",
     "exception": false,
     "start_time": "2021-05-21T12:12:13.398592",
     "status": "completed"
    },
    "tags": []
   },
   "outputs": [],
   "source": [
    "# #hide\n",
    "# fig, ax = plt.subplots(figsize=(15, 8))\n",
    "\n",
    "# def draw_barchart(current_day):\n",
    "#     dff = g[g['day'].eq(current_day)].sort_values(by='value', ascending=True).tail(10)\n",
    "#     ax.clear()\n",
    "#     ax.barh(dff['name'], dff['value'], color=[colors[group_lk[x]] for x in dff['name']])\n",
    "#     dx = dff['value'].max() / 200\n",
    "    \n",
    "#     for i, (value, name) in enumerate(zip(dff['value'], dff['name'])):\n",
    "#         ax.text(value-dx, i,     name,           size=14, weight=600, ha='right', va='bottom')\n",
    "#         ax.text(value-dx, i-.25, group_lk[name], size=10, color='#444444', ha='right', va='baseline')\n",
    "#         ax.text(value+dx, i,     f'{value:,.0f}',  size=14, ha='left',  va='center')\n",
    "#     ax.text(1, 0.4, current_day, transform=ax.transAxes, color='#777777', size=46, ha='right', weight=800)\n",
    "#     ax.text(0, 1.06, 'Population (thousands)', transform=ax.transAxes, size=12, color='#777777')\n",
    "#     ax.xaxis.set_major_formatter(ticker.StrMethodFormatter('{x:,.0f}'))\n",
    "#     ax.xaxis.set_ticks_position('top')\n",
    "#     ax.tick_params(axis='x', colors='#777777', labelsize=12)\n",
    "#     ax.set_yticks([])\n",
    "#     ax.margins(0, 0.01)\n",
    "#     ax.grid(which='major', axis='x', linestyle='-')\n",
    "#     ax.set_axisbelow(True)\n",
    "    \n",
    "#     ax.text(0, 1.15, 'Coronavirus',\n",
    "#             transform=ax.transAxes, size=24, weight=600, ha='left', va='top')\n",
    "# #     ax.text(1, 0, 'by @pratapvardhan; credit @jburnmurdoch', transform=ax.transAxes, color='#777777', ha='right',\n",
    "# #             bbox=dict(facecolor='white', alpha=0.8, edgecolor='white'))\n",
    "#     plt.box(False)"
   ]
  },
  {
   "cell_type": "code",
   "execution_count": 42,
   "id": "sexual-wages",
   "metadata": {
    "execution": {
     "iopub.execute_input": "2021-05-21T12:12:13.540302Z",
     "iopub.status.busy": "2021-05-21T12:12:13.539547Z",
     "iopub.status.idle": "2021-05-21T12:12:13.541811Z",
     "shell.execute_reply": "2021-05-21T12:12:13.542489Z"
    },
    "papermill": {
     "duration": 0.051703,
     "end_time": "2021-05-21T12:12:13.542630",
     "exception": false,
     "start_time": "2021-05-21T12:12:13.490927",
     "status": "completed"
    },
    "tags": []
   },
   "outputs": [],
   "source": [
    "# #hide_input\n",
    "# fig, ax = plt.subplots(figsize=(15, 8))\n",
    "# animator = animation.FuncAnimation(fig, draw_barchart, frames=range(g.day.values.min(), g.day.values.max()))\n",
    "# HTML(animator.to_jshtml())\n",
    "# # or use animator.to_html5_video() or animator.save() "
   ]
  },
  {
   "cell_type": "code",
   "execution_count": null,
   "id": "australian-container",
   "metadata": {
    "papermill": {
     "duration": 0.045673,
     "end_time": "2021-05-21T12:12:13.630447",
     "exception": false,
     "start_time": "2021-05-21T12:12:13.584774",
     "status": "completed"
    },
    "tags": []
   },
   "outputs": [],
   "source": []
  },
  {
   "cell_type": "code",
   "execution_count": null,
   "id": "mediterranean-pontiac",
   "metadata": {
    "papermill": {
     "duration": 0.045068,
     "end_time": "2021-05-21T12:12:13.722489",
     "exception": false,
     "start_time": "2021-05-21T12:12:13.677421",
     "status": "completed"
    },
    "tags": []
   },
   "outputs": [],
   "source": []
  },
  {
   "cell_type": "code",
   "execution_count": null,
   "id": "aging-legislature",
   "metadata": {
    "papermill": {
     "duration": 0.043492,
     "end_time": "2021-05-21T12:12:13.808640",
     "exception": false,
     "start_time": "2021-05-21T12:12:13.765148",
     "status": "completed"
    },
    "tags": []
   },
   "outputs": [],
   "source": []
  }
 ],
 "metadata": {
  "kernelspec": {
   "display_name": "Python 3",
   "language": "python",
   "name": "python3"
  },
  "language_info": {
   "codemirror_mode": {
    "name": "ipython",
    "version": 3
   },
   "file_extension": ".py",
   "mimetype": "text/x-python",
   "name": "python",
   "nbconvert_exporter": "python",
   "pygments_lexer": "ipython3",
   "version": "3.6.13"
  },
  "papermill": {
   "duration": 8.411342,
   "end_time": "2021-05-21T12:12:15.111402",
   "environment_variables": {},
   "exception": null,
   "input_path": "2020-03-21-covid19exp.ipynb",
   "output_path": "2020-03-21-covid19exp.ipynb",
   "parameters": {},
   "start_time": "2021-05-21T12:12:06.700060",
   "version": "2.0.0"
  }
 },
 "nbformat": 4,
 "nbformat_minor": 5
}