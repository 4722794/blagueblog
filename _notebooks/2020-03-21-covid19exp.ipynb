{
 "cells": [
  {
   "cell_type": "markdown",
   "id": "muslim-click",
   "metadata": {
    "papermill": {
     "duration": 0.033956,
     "end_time": "2022-03-12T12:13:06.091629",
     "exception": false,
     "start_time": "2022-03-12T12:13:06.057673",
     "status": "completed"
    },
    "tags": []
   },
   "source": [
    "# COVID-19 Case Race\n",
    "> A race chart to see rising cases around the world\n",
    "\n",
    "- author: Hargun Oberoi\n",
    "- image: images/covid-overview.png\n",
    "- hide: false\n",
    "- badges: false"
   ]
  },
  {
   "cell_type": "code",
   "execution_count": 1,
   "id": "proof-material",
   "metadata": {
    "execution": {
     "iopub.execute_input": "2022-03-12T12:13:06.162166Z",
     "iopub.status.busy": "2022-03-12T12:13:06.160045Z",
     "iopub.status.idle": "2022-03-12T12:13:06.477412Z",
     "shell.execute_reply": "2022-03-12T12:13:06.476881Z"
    },
    "papermill": {
     "duration": 0.354454,
     "end_time": "2022-03-12T12:13:06.477560",
     "exception": false,
     "start_time": "2022-03-12T12:13:06.123106",
     "status": "completed"
    },
    "tags": []
   },
   "outputs": [],
   "source": [
    "#hide\n",
    "import numpy as np\n",
    "import pandas as pd\n",
    "from jinja2 import Template\n",
    "from IPython.display import HTML"
   ]
  },
  {
   "cell_type": "code",
   "execution_count": 2,
   "id": "developed-terminology",
   "metadata": {
    "execution": {
     "iopub.execute_input": "2022-03-12T12:13:06.542696Z",
     "iopub.status.busy": "2022-03-12T12:13:06.542088Z",
     "iopub.status.idle": "2022-03-12T12:13:06.543613Z",
     "shell.execute_reply": "2022-03-12T12:13:06.544056Z"
    },
    "papermill": {
     "duration": 0.036587,
     "end_time": "2022-03-12T12:13:06.544192",
     "exception": false,
     "start_time": "2022-03-12T12:13:06.507605",
     "status": "completed"
    },
    "tags": []
   },
   "outputs": [],
   "source": [
    "#hide\n",
    "\n",
    "# FETCH\n",
    "base_url = 'https://raw.githubusercontent.com/pratapvardhan/notebooks/master/covid19/'\n",
    "paths = {\n",
    "    'mapping': base_url + 'mapping_countries.csv',\n",
    "    'overview': base_url + 'overview.tpl'\n",
    "}"
   ]
  },
  {
   "cell_type": "code",
   "execution_count": 3,
   "id": "dynamic-saver",
   "metadata": {
    "execution": {
     "iopub.execute_input": "2022-03-12T12:13:06.613669Z",
     "iopub.status.busy": "2022-03-12T12:13:06.613143Z",
     "iopub.status.idle": "2022-03-12T12:13:06.615867Z",
     "shell.execute_reply": "2022-03-12T12:13:06.616245Z"
    },
    "papermill": {
     "duration": 0.04202,
     "end_time": "2022-03-12T12:13:06.616369",
     "exception": false,
     "start_time": "2022-03-12T12:13:06.574349",
     "status": "completed"
    },
    "tags": []
   },
   "outputs": [
    {
     "data": {
      "text/plain": [
       "'https://raw.githubusercontent.com/pratapvardhan/notebooks/master/covid19/mapping_countries.csv'"
      ]
     },
     "execution_count": 3,
     "metadata": {},
     "output_type": "execute_result"
    }
   ],
   "source": [
    "#hide\n",
    "paths['mapping']"
   ]
  },
  {
   "cell_type": "code",
   "execution_count": 4,
   "id": "urban-software",
   "metadata": {
    "execution": {
     "iopub.execute_input": "2022-03-12T12:13:06.681565Z",
     "iopub.status.busy": "2022-03-12T12:13:06.680966Z",
     "iopub.status.idle": "2022-03-12T12:13:06.682412Z",
     "shell.execute_reply": "2022-03-12T12:13:06.682814Z"
    },
    "papermill": {
     "duration": 0.036576,
     "end_time": "2022-03-12T12:13:06.682956",
     "exception": false,
     "start_time": "2022-03-12T12:13:06.646380",
     "status": "completed"
    },
    "tags": []
   },
   "outputs": [],
   "source": [
    "#hide\n",
    "def get_mappings(url):\n",
    "    df = pd.read_csv(url)\n",
    "    return {\n",
    "        'df': df,\n",
    "        'replace.country': dict(df.dropna(subset=['Name']).set_index('Country')['Name']),\n",
    "        'map.continent': dict(df.set_index('Name')['Continent'])\n",
    "    }"
   ]
  },
  {
   "cell_type": "code",
   "execution_count": 5,
   "id": "intimate-machinery",
   "metadata": {
    "execution": {
     "iopub.execute_input": "2022-03-12T12:13:06.748122Z",
     "iopub.status.busy": "2022-03-12T12:13:06.747608Z",
     "iopub.status.idle": "2022-03-12T12:13:06.808892Z",
     "shell.execute_reply": "2022-03-12T12:13:06.808403Z"
    },
    "papermill": {
     "duration": 0.096194,
     "end_time": "2022-03-12T12:13:06.809019",
     "exception": false,
     "start_time": "2022-03-12T12:13:06.712825",
     "status": "completed"
    },
    "tags": []
   },
   "outputs": [],
   "source": [
    "#hide\n",
    "mapping = get_mappings(paths['mapping'])"
   ]
  },
  {
   "cell_type": "code",
   "execution_count": 6,
   "id": "certified-tactics",
   "metadata": {
    "execution": {
     "iopub.execute_input": "2022-03-12T12:13:06.874848Z",
     "iopub.status.busy": "2022-03-12T12:13:06.874325Z",
     "iopub.status.idle": "2022-03-12T12:13:06.876498Z",
     "shell.execute_reply": "2022-03-12T12:13:06.876096Z"
    },
    "papermill": {
     "duration": 0.036909,
     "end_time": "2022-03-12T12:13:06.876605",
     "exception": false,
     "start_time": "2022-03-12T12:13:06.839696",
     "status": "completed"
    },
    "tags": []
   },
   "outputs": [],
   "source": [
    "#hide\n",
    "def get_template(path):\n",
    "    from urllib.parse import urlparse\n",
    "    if bool(urlparse(path).netloc):\n",
    "        from urllib.request import urlopen\n",
    "        return urlopen(path).read().decode('utf8')\n",
    "    return open(path).read()"
   ]
  },
  {
   "cell_type": "code",
   "execution_count": 7,
   "id": "realistic-blast",
   "metadata": {
    "execution": {
     "iopub.execute_input": "2022-03-12T12:13:06.941325Z",
     "iopub.status.busy": "2022-03-12T12:13:06.940812Z",
     "iopub.status.idle": "2022-03-12T12:13:06.944299Z",
     "shell.execute_reply": "2022-03-12T12:13:06.943874Z"
    },
    "papermill": {
     "duration": 0.03781,
     "end_time": "2022-03-12T12:13:06.944401",
     "exception": false,
     "start_time": "2022-03-12T12:13:06.906591",
     "status": "completed"
    },
    "tags": []
   },
   "outputs": [],
   "source": [
    "#hide\n",
    "def get_frame(name):\n",
    "    url = (\n",
    "        'https://raw.githubusercontent.com/CSSEGISandData/COVID-19/master/csse_covid_19_data/'\n",
    "        f'csse_covid_19_time_series/time_series_covid19_{name}_global.csv')\n",
    "    df = pd.read_csv(url)\n",
    "    # rename countries\n",
    "    df['Country/Region'] = df['Country/Region'].replace(mapping['replace.country'])\n",
    "    return df"
   ]
  },
  {
   "cell_type": "code",
   "execution_count": 8,
   "id": "affiliated-characterization",
   "metadata": {
    "execution": {
     "iopub.execute_input": "2022-03-12T12:13:07.009440Z",
     "iopub.status.busy": "2022-03-12T12:13:07.008923Z",
     "iopub.status.idle": "2022-03-12T12:13:07.011130Z",
     "shell.execute_reply": "2022-03-12T12:13:07.010696Z"
    },
    "papermill": {
     "duration": 0.037027,
     "end_time": "2022-03-12T12:13:07.011238",
     "exception": false,
     "start_time": "2022-03-12T12:13:06.974211",
     "status": "completed"
    },
    "tags": []
   },
   "outputs": [],
   "source": [
    "#hide\n",
    "def get_dates(df):\n",
    "    dt_cols = df.columns[~df.columns.isin(['Province/State', 'Country/Region', 'Lat', 'Long'])]\n",
    "    LAST_DATE_I = -1\n",
    "    # sometimes last column may be empty, then go backwards\n",
    "    for i in range(-1, -len(dt_cols), -1):\n",
    "        if not df[dt_cols[i]].fillna(0).eq(0).all():\n",
    "            LAST_DATE_I = i\n",
    "            break\n",
    "    return LAST_DATE_I, dt_cols"
   ]
  },
  {
   "cell_type": "code",
   "execution_count": 9,
   "id": "recent-optimization",
   "metadata": {
    "execution": {
     "iopub.execute_input": "2022-03-12T12:13:07.075653Z",
     "iopub.status.busy": "2022-03-12T12:13:07.075123Z",
     "iopub.status.idle": "2022-03-12T12:13:07.658683Z",
     "shell.execute_reply": "2022-03-12T12:13:07.659209Z"
    },
    "papermill": {
     "duration": 0.618122,
     "end_time": "2022-03-12T12:13:07.659376",
     "exception": false,
     "start_time": "2022-03-12T12:13:07.041254",
     "status": "completed"
    },
    "tags": []
   },
   "outputs": [],
   "source": [
    "#hide\n",
    "COL_REGION = 'Country/Region'\n",
    "# Confirmed, Recovered, Deaths\n",
    "df = get_frame('confirmed')\n",
    "# dft_: timeseries, dfc_: today country agg\n",
    "dft_cases = df\n",
    "dft_deaths = get_frame('deaths')\n",
    "dft_recovered = get_frame('recovered')\n",
    "LAST_DATE_I, dt_cols = get_dates(df)"
   ]
  },
  {
   "cell_type": "code",
   "execution_count": 10,
   "id": "absolute-copper",
   "metadata": {
    "execution": {
     "iopub.execute_input": "2022-03-12T12:13:07.725936Z",
     "iopub.status.busy": "2022-03-12T12:13:07.725338Z",
     "iopub.status.idle": "2022-03-12T12:13:07.728922Z",
     "shell.execute_reply": "2022-03-12T12:13:07.728520Z"
    },
    "papermill": {
     "duration": 0.038345,
     "end_time": "2022-03-12T12:13:07.729026",
     "exception": false,
     "start_time": "2022-03-12T12:13:07.690681",
     "status": "completed"
    },
    "tags": []
   },
   "outputs": [],
   "source": [
    "#hide\n",
    "LAST_DATE_I, dt_cols = get_dates(df)\n",
    "dt_today =dt_cols[LAST_DATE_I]\n",
    "# dt_5day = dt_cols[LAST_DATE_I - 5]\n",
    "dt_yday = dt_cols[LAST_DATE_I - 1]"
   ]
  },
  {
   "cell_type": "code",
   "execution_count": 11,
   "id": "restricted-sheriff",
   "metadata": {
    "execution": {
     "iopub.execute_input": "2022-03-12T12:13:07.796671Z",
     "iopub.status.busy": "2022-03-12T12:13:07.796085Z",
     "iopub.status.idle": "2022-03-12T12:13:07.800468Z",
     "shell.execute_reply": "2022-03-12T12:13:07.800045Z"
    },
    "papermill": {
     "duration": 0.041478,
     "end_time": "2022-03-12T12:13:07.800571",
     "exception": false,
     "start_time": "2022-03-12T12:13:07.759093",
     "status": "completed"
    },
    "tags": []
   },
   "outputs": [],
   "source": [
    "#hide\n",
    "dfc_cases = dft_cases.groupby(COL_REGION)[dt_today].sum()\n",
    "dfc_deaths = dft_deaths.groupby(COL_REGION)[dt_today].sum()\n",
    "# dfp_cases = dft_cases.groupby(COL_REGION)[dt_5day].sum()\n",
    "# dfp_deaths = dft_deaths.groupby(COL_REGION)[dt_5day].sum()\n",
    "dfp_cases = dft_cases.groupby(COL_REGION)[dt_yday].sum()\n",
    "dfp_deaths = dft_deaths.groupby(COL_REGION)[dt_yday].sum()"
   ]
  },
  {
   "cell_type": "code",
   "execution_count": 12,
   "id": "deluxe-hepatitis",
   "metadata": {
    "execution": {
     "iopub.execute_input": "2022-03-12T12:13:07.866388Z",
     "iopub.status.busy": "2022-03-12T12:13:07.865880Z",
     "iopub.status.idle": "2022-03-12T12:13:07.870065Z",
     "shell.execute_reply": "2022-03-12T12:13:07.870494Z"
    },
    "papermill": {
     "duration": 0.040129,
     "end_time": "2022-03-12T12:13:07.870613",
     "exception": false,
     "start_time": "2022-03-12T12:13:07.830484",
     "status": "completed"
    },
    "tags": []
   },
   "outputs": [],
   "source": [
    "#hide\n",
    "df_table = (pd.DataFrame(dict(Cases = dfc_cases, Deaths = dfc_deaths, PCases = dfp_cases, PDeaths = dfp_deaths))\n",
    "            .sort_values(by = ['Cases','Deaths'], ascending = [False, False])\n",
    "            .reset_index())"
   ]
  },
  {
   "cell_type": "code",
   "execution_count": 13,
   "id": "educational-chancellor",
   "metadata": {
    "execution": {
     "iopub.execute_input": "2022-03-12T12:13:07.947408Z",
     "iopub.status.busy": "2022-03-12T12:13:07.946847Z",
     "iopub.status.idle": "2022-03-12T12:13:07.954310Z",
     "shell.execute_reply": "2022-03-12T12:13:07.953907Z"
    },
    "papermill": {
     "duration": 0.053887,
     "end_time": "2022-03-12T12:13:07.954416",
     "exception": false,
     "start_time": "2022-03-12T12:13:07.900529",
     "status": "completed"
    },
    "tags": []
   },
   "outputs": [
    {
     "data": {
      "text/html": [
       "<div>\n",
       "<style scoped>\n",
       "    .dataframe tbody tr th:only-of-type {\n",
       "        vertical-align: middle;\n",
       "    }\n",
       "\n",
       "    .dataframe tbody tr th {\n",
       "        vertical-align: top;\n",
       "    }\n",
       "\n",
       "    .dataframe thead th {\n",
       "        text-align: right;\n",
       "    }\n",
       "</style>\n",
       "<table border=\"1\" class=\"dataframe\">\n",
       "  <thead>\n",
       "    <tr style=\"text-align: right;\">\n",
       "      <th></th>\n",
       "      <th>Country/Region</th>\n",
       "      <th>Cases</th>\n",
       "      <th>Deaths</th>\n",
       "      <th>PCases</th>\n",
       "      <th>PDeaths</th>\n",
       "      <th>Cases (+)</th>\n",
       "      <th>Deaths (+)</th>\n",
       "      <th>Fatality Rate</th>\n",
       "      <th>Continent</th>\n",
       "    </tr>\n",
       "  </thead>\n",
       "  <tbody>\n",
       "    <tr>\n",
       "      <th>0</th>\n",
       "      <td>US</td>\n",
       "      <td>79507030</td>\n",
       "      <td>967165</td>\n",
       "      <td>79454920</td>\n",
       "      <td>965464</td>\n",
       "      <td>52110</td>\n",
       "      <td>1701</td>\n",
       "      <td>1.22</td>\n",
       "      <td>North America</td>\n",
       "    </tr>\n",
       "    <tr>\n",
       "      <th>1</th>\n",
       "      <td>India</td>\n",
       "      <td>42987875</td>\n",
       "      <td>515803</td>\n",
       "      <td>42984261</td>\n",
       "      <td>515714</td>\n",
       "      <td>3614</td>\n",
       "      <td>89</td>\n",
       "      <td>1.20</td>\n",
       "      <td>Asia</td>\n",
       "    </tr>\n",
       "    <tr>\n",
       "      <th>2</th>\n",
       "      <td>Brazil</td>\n",
       "      <td>29313228</td>\n",
       "      <td>654843</td>\n",
       "      <td>29259206</td>\n",
       "      <td>654380</td>\n",
       "      <td>54022</td>\n",
       "      <td>463</td>\n",
       "      <td>2.23</td>\n",
       "      <td>South America</td>\n",
       "    </tr>\n",
       "    <tr>\n",
       "      <th>3</th>\n",
       "      <td>France</td>\n",
       "      <td>23565274</td>\n",
       "      <td>141054</td>\n",
       "      <td>23492815</td>\n",
       "      <td>140904</td>\n",
       "      <td>72459</td>\n",
       "      <td>150</td>\n",
       "      <td>0.60</td>\n",
       "      <td>Europe</td>\n",
       "    </tr>\n",
       "    <tr>\n",
       "      <th>4</th>\n",
       "      <td>United Kingdom</td>\n",
       "      <td>19673347</td>\n",
       "      <td>163317</td>\n",
       "      <td>19600293</td>\n",
       "      <td>163203</td>\n",
       "      <td>73054</td>\n",
       "      <td>114</td>\n",
       "      <td>0.83</td>\n",
       "      <td>Europe</td>\n",
       "    </tr>\n",
       "  </tbody>\n",
       "</table>\n",
       "</div>"
      ],
      "text/plain": [
       "   Country/Region     Cases  Deaths    PCases  PDeaths  Cases (+)  Deaths (+)  \\\n",
       "0              US  79507030  967165  79454920   965464      52110        1701   \n",
       "1           India  42987875  515803  42984261   515714       3614          89   \n",
       "2          Brazil  29313228  654843  29259206   654380      54022         463   \n",
       "3          France  23565274  141054  23492815   140904      72459         150   \n",
       "4  United Kingdom  19673347  163317  19600293   163203      73054         114   \n",
       "\n",
       "   Fatality Rate      Continent  \n",
       "0           1.22  North America  \n",
       "1           1.20           Asia  \n",
       "2           2.23  South America  \n",
       "3           0.60         Europe  \n",
       "4           0.83         Europe  "
      ]
     },
     "execution_count": 13,
     "metadata": {},
     "output_type": "execute_result"
    }
   ],
   "source": [
    "#hide\n",
    "for c in 'Cases, Deaths'.split(', '):\n",
    "    df_table[f'{c} (+)'] = (df_table[c] - df_table[f'P{c}']).clip(0)\n",
    "    #Clip ça veut dire, les chiffres negatif sont interdit\n",
    "df_table['Fatality Rate'] = (100* df_table['Deaths']/ df_table['Cases']).round(2)\n",
    "df_table['Continent'] = df_table['Country/Region'].map(mapping['map.continent'])\n",
    "df_table.head(5)"
   ]
  },
  {
   "cell_type": "code",
   "execution_count": 14,
   "id": "aboriginal-bulgaria",
   "metadata": {
    "execution": {
     "iopub.execute_input": "2022-03-12T12:13:08.019860Z",
     "iopub.status.busy": "2022-03-12T12:13:08.019341Z",
     "iopub.status.idle": "2022-03-12T12:13:08.021430Z",
     "shell.execute_reply": "2022-03-12T12:13:08.021035Z"
    },
    "papermill": {
     "duration": 0.0367,
     "end_time": "2022-03-12T12:13:08.021529",
     "exception": false,
     "start_time": "2022-03-12T12:13:07.984829",
     "status": "completed"
    },
    "tags": []
   },
   "outputs": [],
   "source": [
    "#hide\n",
    "#delete problematic countries from table\n",
    "df_table = df_table[~df_table['Country/Region'].isin(['Cape Verde', 'Cruise Ship', 'Kosovo'])]"
   ]
  },
  {
   "cell_type": "code",
   "execution_count": 15,
   "id": "fantastic-effect",
   "metadata": {
    "execution": {
     "iopub.execute_input": "2022-03-12T12:13:08.089711Z",
     "iopub.status.busy": "2022-03-12T12:13:08.089210Z",
     "iopub.status.idle": "2022-03-12T12:13:08.105815Z",
     "shell.execute_reply": "2022-03-12T12:13:08.105405Z"
    },
    "papermill": {
     "duration": 0.054095,
     "end_time": "2022-03-12T12:13:08.105920",
     "exception": false,
     "start_time": "2022-03-12T12:13:08.051825",
     "status": "completed"
    },
    "tags": []
   },
   "outputs": [
    {
     "data": {
      "text/html": [
       "<div>\n",
       "<style scoped>\n",
       "    .dataframe tbody tr th:only-of-type {\n",
       "        vertical-align: middle;\n",
       "    }\n",
       "\n",
       "    .dataframe tbody tr th {\n",
       "        vertical-align: top;\n",
       "    }\n",
       "\n",
       "    .dataframe thead th {\n",
       "        text-align: right;\n",
       "    }\n",
       "</style>\n",
       "<table border=\"1\" class=\"dataframe\">\n",
       "  <thead>\n",
       "    <tr style=\"text-align: right;\">\n",
       "      <th></th>\n",
       "      <th>Country/Region</th>\n",
       "      <th>Cases</th>\n",
       "      <th>Deaths</th>\n",
       "      <th>PCases</th>\n",
       "      <th>PDeaths</th>\n",
       "      <th>Cases (+)</th>\n",
       "      <th>Deaths (+)</th>\n",
       "      <th>Fatality Rate</th>\n",
       "      <th>Continent</th>\n",
       "    </tr>\n",
       "  </thead>\n",
       "  <tbody>\n",
       "    <tr>\n",
       "      <th>0</th>\n",
       "      <td>US</td>\n",
       "      <td>79507030</td>\n",
       "      <td>967165</td>\n",
       "      <td>79454920</td>\n",
       "      <td>965464</td>\n",
       "      <td>52110</td>\n",
       "      <td>1701</td>\n",
       "      <td>1.2</td>\n",
       "      <td>North America</td>\n",
       "    </tr>\n",
       "    <tr>\n",
       "      <th>1</th>\n",
       "      <td>India</td>\n",
       "      <td>42987875</td>\n",
       "      <td>515803</td>\n",
       "      <td>42984261</td>\n",
       "      <td>515714</td>\n",
       "      <td>3614</td>\n",
       "      <td>89</td>\n",
       "      <td>1.2</td>\n",
       "      <td>Asia</td>\n",
       "    </tr>\n",
       "    <tr>\n",
       "      <th>2</th>\n",
       "      <td>Brazil</td>\n",
       "      <td>29313228</td>\n",
       "      <td>654843</td>\n",
       "      <td>29259206</td>\n",
       "      <td>654380</td>\n",
       "      <td>54022</td>\n",
       "      <td>463</td>\n",
       "      <td>2.2</td>\n",
       "      <td>South America</td>\n",
       "    </tr>\n",
       "    <tr>\n",
       "      <th>3</th>\n",
       "      <td>France</td>\n",
       "      <td>23565274</td>\n",
       "      <td>141054</td>\n",
       "      <td>23492815</td>\n",
       "      <td>140904</td>\n",
       "      <td>72459</td>\n",
       "      <td>150</td>\n",
       "      <td>0.6</td>\n",
       "      <td>Europe</td>\n",
       "    </tr>\n",
       "    <tr>\n",
       "      <th>4</th>\n",
       "      <td>United Kingdom</td>\n",
       "      <td>19673347</td>\n",
       "      <td>163317</td>\n",
       "      <td>19600293</td>\n",
       "      <td>163203</td>\n",
       "      <td>73054</td>\n",
       "      <td>114</td>\n",
       "      <td>0.8</td>\n",
       "      <td>Europe</td>\n",
       "    </tr>\n",
       "  </tbody>\n",
       "</table>\n",
       "</div>"
      ],
      "text/plain": [
       "   Country/Region     Cases  Deaths    PCases  PDeaths  Cases (+)  Deaths (+)  \\\n",
       "0              US  79507030  967165  79454920   965464      52110        1701   \n",
       "1           India  42987875  515803  42984261   515714       3614          89   \n",
       "2          Brazil  29313228  654843  29259206   654380      54022         463   \n",
       "3          France  23565274  141054  23492815   140904      72459         150   \n",
       "4  United Kingdom  19673347  163317  19600293   163203      73054         114   \n",
       "\n",
       "   Fatality Rate      Continent  \n",
       "0            1.2  North America  \n",
       "1            1.2           Asia  \n",
       "2            2.2  South America  \n",
       "3            0.6         Europe  \n",
       "4            0.8         Europe  "
      ]
     },
     "execution_count": 15,
     "metadata": {},
     "output_type": "execute_result"
    }
   ],
   "source": [
    "#hide\n",
    "df_table = (pd.DataFrame(dict(Cases=dfc_cases, Deaths=dfc_deaths, PCases=dfp_cases, PDeaths=dfp_deaths))\n",
    "             .sort_values(by=['Cases', 'Deaths'], ascending=[False, False])\n",
    "             .reset_index())\n",
    "df_table.rename(columns={'index': 'Country/Region'}, inplace=True)\n",
    "for c in 'Cases, Deaths'.split(', '):\n",
    "    df_table[f'{c} (+)'] = (df_table[c] - df_table[f'P{c}']).clip(0)  # DATA BUG\n",
    "df_table['Fatality Rate'] = (100 * df_table['Deaths'] / df_table['Cases']).round(1)\n",
    "df_table['Continent'] = df_table['Country/Region'].map(mapping['map.continent'])\n",
    "df_table.head(5)"
   ]
  },
  {
   "cell_type": "code",
   "execution_count": 16,
   "id": "fewer-occasion",
   "metadata": {
    "execution": {
     "iopub.execute_input": "2022-03-12T12:13:08.172979Z",
     "iopub.status.busy": "2022-03-12T12:13:08.172464Z",
     "iopub.status.idle": "2022-03-12T12:13:08.174595Z",
     "shell.execute_reply": "2022-03-12T12:13:08.174197Z"
    },
    "papermill": {
     "duration": 0.037694,
     "end_time": "2022-03-12T12:13:08.174696",
     "exception": false,
     "start_time": "2022-03-12T12:13:08.137002",
     "status": "completed"
    },
    "tags": []
   },
   "outputs": [],
   "source": [
    "#hide\n",
    "#delete problematic countries from table\n",
    "df_table = df_table[~df_table['Country/Region'].isin(['Cape Verde', 'Cruise Ship', 'Kosovo'])]"
   ]
  },
  {
   "cell_type": "code",
   "execution_count": 17,
   "id": "related-center",
   "metadata": {
    "execution": {
     "iopub.execute_input": "2022-03-12T12:13:08.248029Z",
     "iopub.status.busy": "2022-03-12T12:13:08.247518Z",
     "iopub.status.idle": "2022-03-12T12:13:08.255115Z",
     "shell.execute_reply": "2022-03-12T12:13:08.254664Z"
    },
    "papermill": {
     "duration": 0.049679,
     "end_time": "2022-03-12T12:13:08.255219",
     "exception": false,
     "start_time": "2022-03-12T12:13:08.205540",
     "status": "completed"
    },
    "tags": []
   },
   "outputs": [],
   "source": [
    "#hide\n",
    "metrics = [df_table.columns[index] for index in [1,2,5,6]]\n",
    "# s_china = df_table[df_table['Country/Region'].eq('China')][metrics].sum().add_prefix('China ')\n",
    "s_us = df_table[df_table['Country/Region'].eq('US')][metrics].sum().add_prefix('US ')\n",
    "s_eu = df_table[df_table['Continent'].eq('Europe')][metrics].sum().add_prefix('EU ')\n",
    "s_ind = df_table[df_table['Country/Region'].eq('India')][metrics].sum().add_prefix('India ')\n",
    "summary = {'updated': pd.to_datetime(dt_today), 'since': pd.to_datetime(dt_yday)}\n",
    "summary = {'updated': pd.to_datetime(dt_today), 'since': pd.to_datetime(dt_yday)}\n",
    "summary = {**summary, **df_table[metrics].sum(), **s_ind, **s_us, **s_eu}"
   ]
  },
  {
   "cell_type": "code",
   "execution_count": 18,
   "id": "engaging-syndrome",
   "metadata": {
    "execution": {
     "iopub.execute_input": "2022-03-12T12:13:08.321876Z",
     "iopub.status.busy": "2022-03-12T12:13:08.321376Z",
     "iopub.status.idle": "2022-03-12T12:13:08.335868Z",
     "shell.execute_reply": "2022-03-12T12:13:08.336278Z"
    },
    "papermill": {
     "duration": 0.050197,
     "end_time": "2022-03-12T12:13:08.336400",
     "exception": false,
     "start_time": "2022-03-12T12:13:08.286203",
     "status": "completed"
    },
    "tags": []
   },
   "outputs": [],
   "source": [
    "#hide\n",
    "dft_ct_new_cases = dft_cases.groupby(COL_REGION)[dt_cols].sum().diff(axis=1).fillna(0).astype(int)"
   ]
  },
  {
   "cell_type": "code",
   "execution_count": 19,
   "id": "neutral-assignment",
   "metadata": {
    "execution": {
     "iopub.execute_input": "2022-03-12T12:13:08.404208Z",
     "iopub.status.busy": "2022-03-12T12:13:08.403618Z",
     "iopub.status.idle": "2022-03-12T12:13:08.405674Z",
     "shell.execute_reply": "2022-03-12T12:13:08.405175Z"
    },
    "papermill": {
     "duration": 0.03838,
     "end_time": "2022-03-12T12:13:08.405778",
     "exception": false,
     "start_time": "2022-03-12T12:13:08.367398",
     "status": "completed"
    },
    "tags": []
   },
   "outputs": [],
   "source": [
    "#hide\n",
    "everydaycases = dft_ct_new_cases.cumsum(axis=1)"
   ]
  },
  {
   "cell_type": "code",
   "execution_count": 20,
   "id": "parliamentary-calgary",
   "metadata": {
    "execution": {
     "iopub.execute_input": "2022-03-12T12:13:08.472181Z",
     "iopub.status.busy": "2022-03-12T12:13:08.471672Z",
     "iopub.status.idle": "2022-03-12T12:13:09.051582Z",
     "shell.execute_reply": "2022-03-12T12:13:09.051061Z"
    },
    "papermill": {
     "duration": 0.614737,
     "end_time": "2022-03-12T12:13:09.051716",
     "exception": false,
     "start_time": "2022-03-12T12:13:08.436979",
     "status": "completed"
    },
    "tags": []
   },
   "outputs": [],
   "source": [
    "#hide\n",
    "import pandas as pd\n",
    "import matplotlib.pyplot as plt\n",
    "import matplotlib.ticker as ticker\n",
    "import matplotlib.animation as animation\n",
    "from IPython.display import HTML"
   ]
  },
  {
   "cell_type": "code",
   "execution_count": 21,
   "id": "lasting-extraction",
   "metadata": {
    "execution": {
     "iopub.execute_input": "2022-03-12T12:13:09.124284Z",
     "iopub.status.busy": "2022-03-12T12:13:09.123692Z",
     "iopub.status.idle": "2022-03-12T12:13:09.135914Z",
     "shell.execute_reply": "2022-03-12T12:13:09.136293Z"
    },
    "papermill": {
     "duration": 0.052309,
     "end_time": "2022-03-12T12:13:09.136424",
     "exception": false,
     "start_time": "2022-03-12T12:13:09.084115",
     "status": "completed"
    },
    "tags": []
   },
   "outputs": [],
   "source": [
    "#hide\n",
    "t = everydaycases.stack()"
   ]
  },
  {
   "cell_type": "code",
   "execution_count": 22,
   "id": "premier-sleeve",
   "metadata": {
    "execution": {
     "iopub.execute_input": "2022-03-12T12:13:09.203151Z",
     "iopub.status.busy": "2022-03-12T12:13:09.202608Z",
     "iopub.status.idle": "2022-03-12T12:13:09.213469Z",
     "shell.execute_reply": "2022-03-12T12:13:09.213062Z"
    },
    "papermill": {
     "duration": 0.045741,
     "end_time": "2022-03-12T12:13:09.213578",
     "exception": false,
     "start_time": "2022-03-12T12:13:09.167837",
     "status": "completed"
    },
    "tags": []
   },
   "outputs": [],
   "source": [
    "#hide\n",
    "g = t.reset_index(['Country/Region'])"
   ]
  },
  {
   "cell_type": "code",
   "execution_count": 23,
   "id": "distributed-pittsburgh",
   "metadata": {
    "execution": {
     "iopub.execute_input": "2022-03-12T12:13:09.279822Z",
     "iopub.status.busy": "2022-03-12T12:13:09.279289Z",
     "iopub.status.idle": "2022-03-12T12:13:09.281288Z",
     "shell.execute_reply": "2022-03-12T12:13:09.280798Z"
    },
    "papermill": {
     "duration": 0.036849,
     "end_time": "2022-03-12T12:13:09.281396",
     "exception": false,
     "start_time": "2022-03-12T12:13:09.244547",
     "status": "completed"
    },
    "tags": []
   },
   "outputs": [],
   "source": [
    "#hide\n",
    "g.index.name = 'date'"
   ]
  },
  {
   "cell_type": "code",
   "execution_count": 24,
   "id": "naked-donor",
   "metadata": {
    "execution": {
     "iopub.execute_input": "2022-03-12T12:13:09.347307Z",
     "iopub.status.busy": "2022-03-12T12:13:09.346671Z",
     "iopub.status.idle": "2022-03-12T12:13:09.348228Z",
     "shell.execute_reply": "2022-03-12T12:13:09.348659Z"
    },
    "papermill": {
     "duration": 0.03636,
     "end_time": "2022-03-12T12:13:09.348799",
     "exception": false,
     "start_time": "2022-03-12T12:13:09.312439",
     "status": "completed"
    },
    "tags": []
   },
   "outputs": [],
   "source": [
    "# #hide\n",
    "# g = g.reset_index(['date'])"
   ]
  },
  {
   "cell_type": "code",
   "execution_count": 25,
   "id": "incomplete-mustang",
   "metadata": {
    "execution": {
     "iopub.execute_input": "2022-03-12T12:13:09.414910Z",
     "iopub.status.busy": "2022-03-12T12:13:09.414375Z",
     "iopub.status.idle": "2022-03-12T12:13:09.416259Z",
     "shell.execute_reply": "2022-03-12T12:13:09.416738Z"
    },
    "papermill": {
     "duration": 0.036747,
     "end_time": "2022-03-12T12:13:09.416858",
     "exception": false,
     "start_time": "2022-03-12T12:13:09.380111",
     "status": "completed"
    },
    "tags": []
   },
   "outputs": [],
   "source": [
    "#hide\n",
    "# g.head()"
   ]
  },
  {
   "cell_type": "code",
   "execution_count": 26,
   "id": "specific-kruger",
   "metadata": {
    "execution": {
     "iopub.execute_input": "2022-03-12T12:13:09.483079Z",
     "iopub.status.busy": "2022-03-12T12:13:09.482513Z",
     "iopub.status.idle": "2022-03-12T12:13:09.484542Z",
     "shell.execute_reply": "2022-03-12T12:13:09.484133Z"
    },
    "papermill": {
     "duration": 0.036393,
     "end_time": "2022-03-12T12:13:09.484651",
     "exception": false,
     "start_time": "2022-03-12T12:13:09.448258",
     "status": "completed"
    },
    "tags": []
   },
   "outputs": [],
   "source": [
    "#hide\n",
    "# g.columns = ['date','country','cases']"
   ]
  },
  {
   "cell_type": "code",
   "execution_count": 27,
   "id": "tender-conversion",
   "metadata": {
    "execution": {
     "iopub.execute_input": "2022-03-12T12:13:09.550370Z",
     "iopub.status.busy": "2022-03-12T12:13:09.549757Z",
     "iopub.status.idle": "2022-03-12T12:13:09.551300Z",
     "shell.execute_reply": "2022-03-12T12:13:09.551730Z"
    },
    "papermill": {
     "duration": 0.036069,
     "end_time": "2022-03-12T12:13:09.551872",
     "exception": false,
     "start_time": "2022-03-12T12:13:09.515803",
     "status": "completed"
    },
    "tags": []
   },
   "outputs": [],
   "source": [
    "#hide\n",
    "# g['continent'] = g.country"
   ]
  },
  {
   "cell_type": "code",
   "execution_count": 28,
   "id": "substantial-wilderness",
   "metadata": {
    "execution": {
     "iopub.execute_input": "2022-03-12T12:13:09.617970Z",
     "iopub.status.busy": "2022-03-12T12:13:09.617382Z",
     "iopub.status.idle": "2022-03-12T12:13:09.621218Z",
     "shell.execute_reply": "2022-03-12T12:13:09.620753Z"
    },
    "papermill": {
     "duration": 0.038029,
     "end_time": "2022-03-12T12:13:09.621338",
     "exception": false,
     "start_time": "2022-03-12T12:13:09.583309",
     "status": "completed"
    },
    "tags": []
   },
   "outputs": [],
   "source": [
    "#hide\n",
    "# cols = list(g.columns.values)"
   ]
  },
  {
   "cell_type": "code",
   "execution_count": 29,
   "id": "solved-farming",
   "metadata": {
    "execution": {
     "iopub.execute_input": "2022-03-12T12:13:09.687306Z",
     "iopub.status.busy": "2022-03-12T12:13:09.686696Z",
     "iopub.status.idle": "2022-03-12T12:13:09.688424Z",
     "shell.execute_reply": "2022-03-12T12:13:09.688856Z"
    },
    "papermill": {
     "duration": 0.036411,
     "end_time": "2022-03-12T12:13:09.688993",
     "exception": false,
     "start_time": "2022-03-12T12:13:09.652582",
     "status": "completed"
    },
    "tags": []
   },
   "outputs": [],
   "source": [
    "#hide\n",
    "# cols.insert(0, cols.pop())"
   ]
  },
  {
   "cell_type": "code",
   "execution_count": 30,
   "id": "executed-adoption",
   "metadata": {
    "execution": {
     "iopub.execute_input": "2022-03-12T12:13:09.754994Z",
     "iopub.status.busy": "2022-03-12T12:13:09.754378Z",
     "iopub.status.idle": "2022-03-12T12:13:09.757686Z",
     "shell.execute_reply": "2022-03-12T12:13:09.757281Z"
    },
    "papermill": {
     "duration": 0.037024,
     "end_time": "2022-03-12T12:13:09.757793",
     "exception": false,
     "start_time": "2022-03-12T12:13:09.720769",
     "status": "completed"
    },
    "tags": []
   },
   "outputs": [],
   "source": [
    "#hide\n",
    "# g = g[cols]"
   ]
  },
  {
   "cell_type": "code",
   "execution_count": 31,
   "id": "subject-dublin",
   "metadata": {
    "execution": {
     "iopub.execute_input": "2022-03-12T12:13:09.823040Z",
     "iopub.status.busy": "2022-03-12T12:13:09.822431Z",
     "iopub.status.idle": "2022-03-12T12:13:09.824514Z",
     "shell.execute_reply": "2022-03-12T12:13:09.823953Z"
    },
    "papermill": {
     "duration": 0.035996,
     "end_time": "2022-03-12T12:13:09.824627",
     "exception": false,
     "start_time": "2022-03-12T12:13:09.788631",
     "status": "completed"
    },
    "tags": []
   },
   "outputs": [],
   "source": [
    "#hide\n",
    "# g['continent'] = g['continent'].map(mapping['map.continent'])"
   ]
  },
  {
   "cell_type": "code",
   "execution_count": 32,
   "id": "freelance-scout",
   "metadata": {
    "execution": {
     "iopub.execute_input": "2022-03-12T12:13:09.890102Z",
     "iopub.status.busy": "2022-03-12T12:13:09.889605Z",
     "iopub.status.idle": "2022-03-12T12:13:09.891869Z",
     "shell.execute_reply": "2022-03-12T12:13:09.891468Z"
    },
    "papermill": {
     "duration": 0.035996,
     "end_time": "2022-03-12T12:13:09.891973",
     "exception": false,
     "start_time": "2022-03-12T12:13:09.855977",
     "status": "completed"
    },
    "tags": []
   },
   "outputs": [],
   "source": [
    "#hide\n",
    "# g.head()"
   ]
  },
  {
   "cell_type": "code",
   "execution_count": 33,
   "id": "limited-engine",
   "metadata": {
    "execution": {
     "iopub.execute_input": "2022-03-12T12:13:09.957156Z",
     "iopub.status.busy": "2022-03-12T12:13:09.956572Z",
     "iopub.status.idle": "2022-03-12T12:13:09.959887Z",
     "shell.execute_reply": "2022-03-12T12:13:09.960276Z"
    },
    "papermill": {
     "duration": 0.037787,
     "end_time": "2022-03-12T12:13:09.960401",
     "exception": false,
     "start_time": "2022-03-12T12:13:09.922614",
     "status": "completed"
    },
    "tags": []
   },
   "outputs": [],
   "source": [
    "# hide\n",
    "# g['date'] = g['date'].astype('datetime64[ns]')"
   ]
  },
  {
   "cell_type": "code",
   "execution_count": 34,
   "id": "sophisticated-supervisor",
   "metadata": {
    "execution": {
     "iopub.execute_input": "2022-03-12T12:13:10.026814Z",
     "iopub.status.busy": "2022-03-12T12:13:10.026299Z",
     "iopub.status.idle": "2022-03-12T12:13:10.028629Z",
     "shell.execute_reply": "2022-03-12T12:13:10.028226Z"
    },
    "papermill": {
     "duration": 0.037386,
     "end_time": "2022-03-12T12:13:10.028736",
     "exception": false,
     "start_time": "2022-03-12T12:13:09.991350",
     "status": "completed"
    },
    "tags": []
   },
   "outputs": [],
   "source": [
    "#hide\n",
    "# g['date'] = g.date.dt.dayofyear"
   ]
  },
  {
   "cell_type": "code",
   "execution_count": 35,
   "id": "inside-dubai",
   "metadata": {
    "execution": {
     "iopub.execute_input": "2022-03-12T12:13:10.094280Z",
     "iopub.status.busy": "2022-03-12T12:13:10.093679Z",
     "iopub.status.idle": "2022-03-12T12:13:10.095743Z",
     "shell.execute_reply": "2022-03-12T12:13:10.095174Z"
    },
    "papermill": {
     "duration": 0.03637,
     "end_time": "2022-03-12T12:13:10.095858",
     "exception": false,
     "start_time": "2022-03-12T12:13:10.059488",
     "status": "completed"
    },
    "tags": []
   },
   "outputs": [],
   "source": [
    "#hide\n",
    "# g = g.rename(columns= {'continent':'group','country':'name','cases':'value'})"
   ]
  },
  {
   "cell_type": "code",
   "execution_count": 36,
   "id": "fleet-motorcycle",
   "metadata": {
    "execution": {
     "iopub.execute_input": "2022-03-12T12:13:10.161987Z",
     "iopub.status.busy": "2022-03-12T12:13:10.161399Z",
     "iopub.status.idle": "2022-03-12T12:13:10.163572Z",
     "shell.execute_reply": "2022-03-12T12:13:10.163141Z"
    },
    "papermill": {
     "duration": 0.03611,
     "end_time": "2022-03-12T12:13:10.163676",
     "exception": false,
     "start_time": "2022-03-12T12:13:10.127566",
     "status": "completed"
    },
    "tags": []
   },
   "outputs": [],
   "source": [
    "#hide\n",
    "# cols = ['name','group','day','value']"
   ]
  },
  {
   "cell_type": "code",
   "execution_count": 37,
   "id": "continued-sleeping",
   "metadata": {
    "execution": {
     "iopub.execute_input": "2022-03-12T12:13:10.229236Z",
     "iopub.status.busy": "2022-03-12T12:13:10.228641Z",
     "iopub.status.idle": "2022-03-12T12:13:10.230108Z",
     "shell.execute_reply": "2022-03-12T12:13:10.230560Z"
    },
    "papermill": {
     "duration": 0.03607,
     "end_time": "2022-03-12T12:13:10.230691",
     "exception": false,
     "start_time": "2022-03-12T12:13:10.194621",
     "status": "completed"
    },
    "tags": []
   },
   "outputs": [],
   "source": [
    "#hide\n",
    "# g.rename(columns= {'date':'day'},inplace = True)"
   ]
  },
  {
   "cell_type": "code",
   "execution_count": 38,
   "id": "major-fight",
   "metadata": {
    "execution": {
     "iopub.execute_input": "2022-03-12T12:13:10.296799Z",
     "iopub.status.busy": "2022-03-12T12:13:10.296186Z",
     "iopub.status.idle": "2022-03-12T12:13:10.297666Z",
     "shell.execute_reply": "2022-03-12T12:13:10.298126Z"
    },
    "papermill": {
     "duration": 0.036345,
     "end_time": "2022-03-12T12:13:10.298262",
     "exception": false,
     "start_time": "2022-03-12T12:13:10.261917",
     "status": "completed"
    },
    "tags": []
   },
   "outputs": [],
   "source": [
    "#hide\n",
    "# g = g[cols]"
   ]
  },
  {
   "cell_type": "code",
   "execution_count": 39,
   "id": "structured-mobile",
   "metadata": {
    "execution": {
     "iopub.execute_input": "2022-03-12T12:13:10.364580Z",
     "iopub.status.busy": "2022-03-12T12:13:10.363991Z",
     "iopub.status.idle": "2022-03-12T12:13:10.365429Z",
     "shell.execute_reply": "2022-03-12T12:13:10.365826Z"
    },
    "papermill": {
     "duration": 0.035995,
     "end_time": "2022-03-12T12:13:10.365945",
     "exception": false,
     "start_time": "2022-03-12T12:13:10.329950",
     "status": "completed"
    },
    "tags": []
   },
   "outputs": [],
   "source": [
    "# #hide\n",
    "# g = g[g.group.notna()]"
   ]
  },
  {
   "cell_type": "code",
   "execution_count": 40,
   "id": "determined-closing",
   "metadata": {
    "execution": {
     "iopub.execute_input": "2022-03-12T12:13:10.431739Z",
     "iopub.status.busy": "2022-03-12T12:13:10.431108Z",
     "iopub.status.idle": "2022-03-12T12:13:10.432557Z",
     "shell.execute_reply": "2022-03-12T12:13:10.433045Z"
    },
    "papermill": {
     "duration": 0.036112,
     "end_time": "2022-03-12T12:13:10.433182",
     "exception": false,
     "start_time": "2022-03-12T12:13:10.397070",
     "status": "completed"
    },
    "tags": []
   },
   "outputs": [],
   "source": [
    "# #hide\n",
    "# colors = dict(zip(\n",
    "#     [\"Oceania\", \"Europe\", \"Asia\", \"South America\", \"Middle East\", \"North America\", \"Africa\"],\n",
    "#     [\"#adb0ff\", \"#ffb3ff\", \"#90d595\", \"#e48381\", \"#aafbff\", \"#f7bb5f\", \"#eafb50\"]\n",
    "# ))\n",
    "# group_lk = g.set_index('name')['group'].to_dict()"
   ]
  },
  {
   "cell_type": "code",
   "execution_count": null,
   "id": "gross-drinking",
   "metadata": {
    "papermill": {
     "duration": 0.030962,
     "end_time": "2022-03-12T12:13:10.495801",
     "exception": false,
     "start_time": "2022-03-12T12:13:10.464839",
     "status": "completed"
    },
    "tags": []
   },
   "outputs": [],
   "source": []
  },
  {
   "cell_type": "code",
   "execution_count": 41,
   "id": "subject-macintosh",
   "metadata": {
    "execution": {
     "iopub.execute_input": "2022-03-12T12:13:10.561884Z",
     "iopub.status.busy": "2022-03-12T12:13:10.561360Z",
     "iopub.status.idle": "2022-03-12T12:13:10.563381Z",
     "shell.execute_reply": "2022-03-12T12:13:10.563861Z"
    },
    "papermill": {
     "duration": 0.037243,
     "end_time": "2022-03-12T12:13:10.563986",
     "exception": false,
     "start_time": "2022-03-12T12:13:10.526743",
     "status": "completed"
    },
    "tags": []
   },
   "outputs": [],
   "source": [
    "# #hide\n",
    "# fig, ax = plt.subplots(figsize=(15, 8))\n",
    "\n",
    "# def draw_barchart(current_day):\n",
    "#     dff = g[g['day'].eq(current_day)].sort_values(by='value', ascending=True).tail(10)\n",
    "#     ax.clear()\n",
    "#     ax.barh(dff['name'], dff['value'], color=[colors[group_lk[x]] for x in dff['name']])\n",
    "#     dx = dff['value'].max() / 200\n",
    "    \n",
    "#     for i, (value, name) in enumerate(zip(dff['value'], dff['name'])):\n",
    "#         ax.text(value-dx, i,     name,           size=14, weight=600, ha='right', va='bottom')\n",
    "#         ax.text(value-dx, i-.25, group_lk[name], size=10, color='#444444', ha='right', va='baseline')\n",
    "#         ax.text(value+dx, i,     f'{value:,.0f}',  size=14, ha='left',  va='center')\n",
    "#     ax.text(1, 0.4, current_day, transform=ax.transAxes, color='#777777', size=46, ha='right', weight=800)\n",
    "#     ax.text(0, 1.06, 'Population (thousands)', transform=ax.transAxes, size=12, color='#777777')\n",
    "#     ax.xaxis.set_major_formatter(ticker.StrMethodFormatter('{x:,.0f}'))\n",
    "#     ax.xaxis.set_ticks_position('top')\n",
    "#     ax.tick_params(axis='x', colors='#777777', labelsize=12)\n",
    "#     ax.set_yticks([])\n",
    "#     ax.margins(0, 0.01)\n",
    "#     ax.grid(which='major', axis='x', linestyle='-')\n",
    "#     ax.set_axisbelow(True)\n",
    "    \n",
    "#     ax.text(0, 1.15, 'Coronavirus',\n",
    "#             transform=ax.transAxes, size=24, weight=600, ha='left', va='top')\n",
    "# #     ax.text(1, 0, 'by @pratapvardhan; credit @jburnmurdoch', transform=ax.transAxes, color='#777777', ha='right',\n",
    "# #             bbox=dict(facecolor='white', alpha=0.8, edgecolor='white'))\n",
    "#     plt.box(False)"
   ]
  },
  {
   "cell_type": "code",
   "execution_count": 42,
   "id": "sexual-wages",
   "metadata": {
    "execution": {
     "iopub.execute_input": "2022-03-12T12:13:10.629476Z",
     "iopub.status.busy": "2022-03-12T12:13:10.628868Z",
     "iopub.status.idle": "2022-03-12T12:13:10.630248Z",
     "shell.execute_reply": "2022-03-12T12:13:10.630672Z"
    },
    "papermill": {
     "duration": 0.036057,
     "end_time": "2022-03-12T12:13:10.630794",
     "exception": false,
     "start_time": "2022-03-12T12:13:10.594737",
     "status": "completed"
    },
    "tags": []
   },
   "outputs": [],
   "source": [
    "# #hide_input\n",
    "# fig, ax = plt.subplots(figsize=(15, 8))\n",
    "# animator = animation.FuncAnimation(fig, draw_barchart, frames=range(g.day.values.min(), g.day.values.max()))\n",
    "# HTML(animator.to_jshtml())\n",
    "# # or use animator.to_html5_video() or animator.save() "
   ]
  },
  {
   "cell_type": "code",
   "execution_count": null,
   "id": "australian-container",
   "metadata": {
    "papermill": {
     "duration": 0.030815,
     "end_time": "2022-03-12T12:13:10.692396",
     "exception": false,
     "start_time": "2022-03-12T12:13:10.661581",
     "status": "completed"
    },
    "tags": []
   },
   "outputs": [],
   "source": []
  },
  {
   "cell_type": "code",
   "execution_count": null,
   "id": "mediterranean-pontiac",
   "metadata": {
    "papermill": {
     "duration": 0.03081,
     "end_time": "2022-03-12T12:13:10.754045",
     "exception": false,
     "start_time": "2022-03-12T12:13:10.723235",
     "status": "completed"
    },
    "tags": []
   },
   "outputs": [],
   "source": []
  },
  {
   "cell_type": "code",
   "execution_count": null,
   "id": "aging-legislature",
   "metadata": {
    "papermill": {
     "duration": 0.030795,
     "end_time": "2022-03-12T12:13:10.815862",
     "exception": false,
     "start_time": "2022-03-12T12:13:10.785067",
     "status": "completed"
    },
    "tags": []
   },
   "outputs": [],
   "source": []
  }
 ],
 "metadata": {
  "kernelspec": {
   "display_name": "Python 3",
   "language": "python",
   "name": "python3"
  },
  "language_info": {
   "codemirror_mode": {
    "name": "ipython",
    "version": 3
   },
   "file_extension": ".py",
   "mimetype": "text/x-python",
   "name": "python",
   "nbconvert_exporter": "python",
   "pygments_lexer": "ipython3",
   "version": "3.6.15"
  },
  "papermill": {
   "duration": 6.031496,
   "end_time": "2022-03-12T12:13:11.166009",
   "environment_variables": {},
   "exception": null,
   "input_path": "2020-03-21-covid19exp.ipynb",
   "output_path": "2020-03-21-covid19exp.ipynb",
   "parameters": {},
   "start_time": "2022-03-12T12:13:05.134513",
   "version": "2.0.0"
  }
 },
 "nbformat": 4,
 "nbformat_minor": 5
}