{
 "cells": [
  {
   "cell_type": "markdown",
   "id": "muslim-click",
   "metadata": {
    "papermill": {
     "duration": 0.041713,
     "end_time": "2022-01-07T12:13:30.717348",
     "exception": false,
     "start_time": "2022-01-07T12:13:30.675635",
     "status": "completed"
    },
    "tags": []
   },
   "source": [
    "# COVID-19 Case Race\n",
    "> A race chart to see rising cases around the world\n",
    "\n",
    "- author: Hargun Oberoi\n",
    "- image: images/covid-overview.png\n",
    "- hide: false\n",
    "- badges: false"
   ]
  },
  {
   "cell_type": "code",
   "execution_count": 1,
   "id": "proof-material",
   "metadata": {
    "execution": {
     "iopub.execute_input": "2022-01-07T12:13:30.802898Z",
     "iopub.status.busy": "2022-01-07T12:13:30.802208Z",
     "iopub.status.idle": "2022-01-07T12:13:31.221196Z",
     "shell.execute_reply": "2022-01-07T12:13:31.221714Z"
    },
    "papermill": {
     "duration": 0.467949,
     "end_time": "2022-01-07T12:13:31.221911",
     "exception": false,
     "start_time": "2022-01-07T12:13:30.753962",
     "status": "completed"
    },
    "tags": []
   },
   "outputs": [],
   "source": [
    "#hide\n",
    "import numpy as np\n",
    "import pandas as pd\n",
    "from jinja2 import Template\n",
    "from IPython.display import HTML"
   ]
  },
  {
   "cell_type": "code",
   "execution_count": 2,
   "id": "developed-terminology",
   "metadata": {
    "execution": {
     "iopub.execute_input": "2022-01-07T12:13:31.303808Z",
     "iopub.status.busy": "2022-01-07T12:13:31.303172Z",
     "iopub.status.idle": "2022-01-07T12:13:31.306103Z",
     "shell.execute_reply": "2022-01-07T12:13:31.305017Z"
    },
    "papermill": {
     "duration": 0.046145,
     "end_time": "2022-01-07T12:13:31.306270",
     "exception": false,
     "start_time": "2022-01-07T12:13:31.260125",
     "status": "completed"
    },
    "tags": []
   },
   "outputs": [],
   "source": [
    "#hide\n",
    "\n",
    "# FETCH\n",
    "base_url = 'https://raw.githubusercontent.com/pratapvardhan/notebooks/master/covid19/'\n",
    "paths = {\n",
    "    'mapping': base_url + 'mapping_countries.csv',\n",
    "    'overview': base_url + 'overview.tpl'\n",
    "}"
   ]
  },
  {
   "cell_type": "code",
   "execution_count": 3,
   "id": "dynamic-saver",
   "metadata": {
    "execution": {
     "iopub.execute_input": "2022-01-07T12:13:31.391936Z",
     "iopub.status.busy": "2022-01-07T12:13:31.391299Z",
     "iopub.status.idle": "2022-01-07T12:13:31.394091Z",
     "shell.execute_reply": "2022-01-07T12:13:31.394715Z"
    },
    "papermill": {
     "duration": 0.051622,
     "end_time": "2022-01-07T12:13:31.394880",
     "exception": false,
     "start_time": "2022-01-07T12:13:31.343258",
     "status": "completed"
    },
    "tags": []
   },
   "outputs": [
    {
     "data": {
      "text/plain": [
       "'https://raw.githubusercontent.com/pratapvardhan/notebooks/master/covid19/mapping_countries.csv'"
      ]
     },
     "execution_count": 3,
     "metadata": {},
     "output_type": "execute_result"
    }
   ],
   "source": [
    "#hide\n",
    "paths['mapping']"
   ]
  },
  {
   "cell_type": "code",
   "execution_count": 4,
   "id": "urban-software",
   "metadata": {
    "execution": {
     "iopub.execute_input": "2022-01-07T12:13:31.477819Z",
     "iopub.status.busy": "2022-01-07T12:13:31.477074Z",
     "iopub.status.idle": "2022-01-07T12:13:31.479189Z",
     "shell.execute_reply": "2022-01-07T12:13:31.479806Z"
    },
    "papermill": {
     "duration": 0.045177,
     "end_time": "2022-01-07T12:13:31.479968",
     "exception": false,
     "start_time": "2022-01-07T12:13:31.434791",
     "status": "completed"
    },
    "tags": []
   },
   "outputs": [],
   "source": [
    "#hide\n",
    "def get_mappings(url):\n",
    "    df = pd.read_csv(url)\n",
    "    return {\n",
    "        'df': df,\n",
    "        'replace.country': dict(df.dropna(subset=['Name']).set_index('Country')['Name']),\n",
    "        'map.continent': dict(df.set_index('Name')['Continent'])\n",
    "    }"
   ]
  },
  {
   "cell_type": "code",
   "execution_count": 5,
   "id": "intimate-machinery",
   "metadata": {
    "execution": {
     "iopub.execute_input": "2022-01-07T12:13:31.561455Z",
     "iopub.status.busy": "2022-01-07T12:13:31.560777Z",
     "iopub.status.idle": "2022-01-07T12:13:31.602052Z",
     "shell.execute_reply": "2022-01-07T12:13:31.601502Z"
    },
    "papermill": {
     "duration": 0.085405,
     "end_time": "2022-01-07T12:13:31.602191",
     "exception": false,
     "start_time": "2022-01-07T12:13:31.516786",
     "status": "completed"
    },
    "tags": []
   },
   "outputs": [],
   "source": [
    "#hide\n",
    "mapping = get_mappings(paths['mapping'])"
   ]
  },
  {
   "cell_type": "code",
   "execution_count": 6,
   "id": "certified-tactics",
   "metadata": {
    "execution": {
     "iopub.execute_input": "2022-01-07T12:13:31.681882Z",
     "iopub.status.busy": "2022-01-07T12:13:31.681214Z",
     "iopub.status.idle": "2022-01-07T12:13:31.683757Z",
     "shell.execute_reply": "2022-01-07T12:13:31.683168Z"
    },
    "papermill": {
     "duration": 0.04622,
     "end_time": "2022-01-07T12:13:31.683903",
     "exception": false,
     "start_time": "2022-01-07T12:13:31.637683",
     "status": "completed"
    },
    "tags": []
   },
   "outputs": [],
   "source": [
    "#hide\n",
    "def get_template(path):\n",
    "    from urllib.parse import urlparse\n",
    "    if bool(urlparse(path).netloc):\n",
    "        from urllib.request import urlopen\n",
    "        return urlopen(path).read().decode('utf8')\n",
    "    return open(path).read()"
   ]
  },
  {
   "cell_type": "code",
   "execution_count": 7,
   "id": "realistic-blast",
   "metadata": {
    "execution": {
     "iopub.execute_input": "2022-01-07T12:13:31.778237Z",
     "iopub.status.busy": "2022-01-07T12:13:31.772032Z",
     "iopub.status.idle": "2022-01-07T12:13:31.779453Z",
     "shell.execute_reply": "2022-01-07T12:13:31.778896Z"
    },
    "papermill": {
     "duration": 0.051767,
     "end_time": "2022-01-07T12:13:31.779677",
     "exception": false,
     "start_time": "2022-01-07T12:13:31.727910",
     "status": "completed"
    },
    "tags": []
   },
   "outputs": [],
   "source": [
    "#hide\n",
    "def get_frame(name):\n",
    "    url = (\n",
    "        'https://raw.githubusercontent.com/CSSEGISandData/COVID-19/master/csse_covid_19_data/'\n",
    "        f'csse_covid_19_time_series/time_series_covid19_{name}_global.csv')\n",
    "    df = pd.read_csv(url)\n",
    "    # rename countries\n",
    "    df['Country/Region'] = df['Country/Region'].replace(mapping['replace.country'])\n",
    "    return df"
   ]
  },
  {
   "cell_type": "code",
   "execution_count": 8,
   "id": "affiliated-characterization",
   "metadata": {
    "execution": {
     "iopub.execute_input": "2022-01-07T12:13:31.866338Z",
     "iopub.status.busy": "2022-01-07T12:13:31.865681Z",
     "iopub.status.idle": "2022-01-07T12:13:31.868557Z",
     "shell.execute_reply": "2022-01-07T12:13:31.867856Z"
    },
    "papermill": {
     "duration": 0.045498,
     "end_time": "2022-01-07T12:13:31.868680",
     "exception": false,
     "start_time": "2022-01-07T12:13:31.823182",
     "status": "completed"
    },
    "tags": []
   },
   "outputs": [],
   "source": [
    "#hide\n",
    "def get_dates(df):\n",
    "    dt_cols = df.columns[~df.columns.isin(['Province/State', 'Country/Region', 'Lat', 'Long'])]\n",
    "    LAST_DATE_I = -1\n",
    "    # sometimes last column may be empty, then go backwards\n",
    "    for i in range(-1, -len(dt_cols), -1):\n",
    "        if not df[dt_cols[i]].fillna(0).eq(0).all():\n",
    "            LAST_DATE_I = i\n",
    "            break\n",
    "    return LAST_DATE_I, dt_cols"
   ]
  },
  {
   "cell_type": "code",
   "execution_count": 9,
   "id": "recent-optimization",
   "metadata": {
    "execution": {
     "iopub.execute_input": "2022-01-07T12:13:31.966276Z",
     "iopub.status.busy": "2022-01-07T12:13:31.965595Z",
     "iopub.status.idle": "2022-01-07T12:13:32.421694Z",
     "shell.execute_reply": "2022-01-07T12:13:32.420586Z"
    },
    "papermill": {
     "duration": 0.500145,
     "end_time": "2022-01-07T12:13:32.421832",
     "exception": false,
     "start_time": "2022-01-07T12:13:31.921687",
     "status": "completed"
    },
    "tags": []
   },
   "outputs": [],
   "source": [
    "#hide\n",
    "COL_REGION = 'Country/Region'\n",
    "# Confirmed, Recovered, Deaths\n",
    "df = get_frame('confirmed')\n",
    "# dft_: timeseries, dfc_: today country agg\n",
    "dft_cases = df\n",
    "dft_deaths = get_frame('deaths')\n",
    "dft_recovered = get_frame('recovered')\n",
    "LAST_DATE_I, dt_cols = get_dates(df)"
   ]
  },
  {
   "cell_type": "code",
   "execution_count": 10,
   "id": "absolute-copper",
   "metadata": {
    "execution": {
     "iopub.execute_input": "2022-01-07T12:13:32.505685Z",
     "iopub.status.busy": "2022-01-07T12:13:32.504949Z",
     "iopub.status.idle": "2022-01-07T12:13:32.506992Z",
     "shell.execute_reply": "2022-01-07T12:13:32.507566Z"
    },
    "papermill": {
     "duration": 0.046403,
     "end_time": "2022-01-07T12:13:32.507701",
     "exception": false,
     "start_time": "2022-01-07T12:13:32.461298",
     "status": "completed"
    },
    "tags": []
   },
   "outputs": [],
   "source": [
    "#hide\n",
    "LAST_DATE_I, dt_cols = get_dates(df)\n",
    "dt_today =dt_cols[LAST_DATE_I]\n",
    "# dt_5day = dt_cols[LAST_DATE_I - 5]\n",
    "dt_yday = dt_cols[LAST_DATE_I - 1]"
   ]
  },
  {
   "cell_type": "code",
   "execution_count": 11,
   "id": "restricted-sheriff",
   "metadata": {
    "execution": {
     "iopub.execute_input": "2022-01-07T12:13:32.592514Z",
     "iopub.status.busy": "2022-01-07T12:13:32.591888Z",
     "iopub.status.idle": "2022-01-07T12:13:32.599670Z",
     "shell.execute_reply": "2022-01-07T12:13:32.599154Z"
    },
    "papermill": {
     "duration": 0.055581,
     "end_time": "2022-01-07T12:13:32.599808",
     "exception": false,
     "start_time": "2022-01-07T12:13:32.544227",
     "status": "completed"
    },
    "tags": []
   },
   "outputs": [],
   "source": [
    "#hide\n",
    "dfc_cases = dft_cases.groupby(COL_REGION)[dt_today].sum()\n",
    "dfc_deaths = dft_deaths.groupby(COL_REGION)[dt_today].sum()\n",
    "# dfp_cases = dft_cases.groupby(COL_REGION)[dt_5day].sum()\n",
    "# dfp_deaths = dft_deaths.groupby(COL_REGION)[dt_5day].sum()\n",
    "dfp_cases = dft_cases.groupby(COL_REGION)[dt_yday].sum()\n",
    "dfp_deaths = dft_deaths.groupby(COL_REGION)[dt_yday].sum()"
   ]
  },
  {
   "cell_type": "code",
   "execution_count": 12,
   "id": "deluxe-hepatitis",
   "metadata": {
    "execution": {
     "iopub.execute_input": "2022-01-07T12:13:32.683919Z",
     "iopub.status.busy": "2022-01-07T12:13:32.683238Z",
     "iopub.status.idle": "2022-01-07T12:13:32.689094Z",
     "shell.execute_reply": "2022-01-07T12:13:32.688472Z"
    },
    "papermill": {
     "duration": 0.051947,
     "end_time": "2022-01-07T12:13:32.689223",
     "exception": false,
     "start_time": "2022-01-07T12:13:32.637276",
     "status": "completed"
    },
    "tags": []
   },
   "outputs": [],
   "source": [
    "#hide\n",
    "df_table = (pd.DataFrame(dict(Cases = dfc_cases, Deaths = dfc_deaths, PCases = dfp_cases, PDeaths = dfp_deaths))\n",
    "            .sort_values(by = ['Cases','Deaths'], ascending = [False, False])\n",
    "            .reset_index())"
   ]
  },
  {
   "cell_type": "code",
   "execution_count": 13,
   "id": "educational-chancellor",
   "metadata": {
    "execution": {
     "iopub.execute_input": "2022-01-07T12:13:32.793272Z",
     "iopub.status.busy": "2022-01-07T12:13:32.792463Z",
     "iopub.status.idle": "2022-01-07T12:13:32.801138Z",
     "shell.execute_reply": "2022-01-07T12:13:32.801761Z"
    },
    "papermill": {
     "duration": 0.069785,
     "end_time": "2022-01-07T12:13:32.801913",
     "exception": false,
     "start_time": "2022-01-07T12:13:32.732128",
     "status": "completed"
    },
    "tags": []
   },
   "outputs": [
    {
     "data": {
      "text/html": [
       "<div>\n",
       "<style scoped>\n",
       "    .dataframe tbody tr th:only-of-type {\n",
       "        vertical-align: middle;\n",
       "    }\n",
       "\n",
       "    .dataframe tbody tr th {\n",
       "        vertical-align: top;\n",
       "    }\n",
       "\n",
       "    .dataframe thead th {\n",
       "        text-align: right;\n",
       "    }\n",
       "</style>\n",
       "<table border=\"1\" class=\"dataframe\">\n",
       "  <thead>\n",
       "    <tr style=\"text-align: right;\">\n",
       "      <th></th>\n",
       "      <th>Country/Region</th>\n",
       "      <th>Cases</th>\n",
       "      <th>Deaths</th>\n",
       "      <th>PCases</th>\n",
       "      <th>PDeaths</th>\n",
       "      <th>Cases (+)</th>\n",
       "      <th>Deaths (+)</th>\n",
       "      <th>Fatality Rate</th>\n",
       "      <th>Continent</th>\n",
       "    </tr>\n",
       "  </thead>\n",
       "  <tbody>\n",
       "    <tr>\n",
       "      <th>0</th>\n",
       "      <td>US</td>\n",
       "      <td>58487697</td>\n",
       "      <td>833988</td>\n",
       "      <td>57700873</td>\n",
       "      <td>832118</td>\n",
       "      <td>786824</td>\n",
       "      <td>1870</td>\n",
       "      <td>1.43</td>\n",
       "      <td>North America</td>\n",
       "    </tr>\n",
       "    <tr>\n",
       "      <th>1</th>\n",
       "      <td>India</td>\n",
       "      <td>35226386</td>\n",
       "      <td>483178</td>\n",
       "      <td>35109286</td>\n",
       "      <td>482876</td>\n",
       "      <td>117100</td>\n",
       "      <td>302</td>\n",
       "      <td>1.37</td>\n",
       "      <td>Asia</td>\n",
       "    </tr>\n",
       "    <tr>\n",
       "      <th>2</th>\n",
       "      <td>Brazil</td>\n",
       "      <td>22328252</td>\n",
       "      <td>619654</td>\n",
       "      <td>22328252</td>\n",
       "      <td>619654</td>\n",
       "      <td>0</td>\n",
       "      <td>0</td>\n",
       "      <td>2.78</td>\n",
       "      <td>South America</td>\n",
       "    </tr>\n",
       "    <tr>\n",
       "      <th>3</th>\n",
       "      <td>United Kingdom</td>\n",
       "      <td>14100750</td>\n",
       "      <td>149993</td>\n",
       "      <td>13918510</td>\n",
       "      <td>149761</td>\n",
       "      <td>182240</td>\n",
       "      <td>232</td>\n",
       "      <td>1.06</td>\n",
       "      <td>Europe</td>\n",
       "    </tr>\n",
       "    <tr>\n",
       "      <th>4</th>\n",
       "      <td>France</td>\n",
       "      <td>11290010</td>\n",
       "      <td>126002</td>\n",
       "      <td>11027112</td>\n",
       "      <td>125797</td>\n",
       "      <td>262898</td>\n",
       "      <td>205</td>\n",
       "      <td>1.12</td>\n",
       "      <td>Europe</td>\n",
       "    </tr>\n",
       "  </tbody>\n",
       "</table>\n",
       "</div>"
      ],
      "text/plain": [
       "   Country/Region     Cases  Deaths    PCases  PDeaths  Cases (+)  Deaths (+)  \\\n",
       "0              US  58487697  833988  57700873   832118     786824        1870   \n",
       "1           India  35226386  483178  35109286   482876     117100         302   \n",
       "2          Brazil  22328252  619654  22328252   619654          0           0   \n",
       "3  United Kingdom  14100750  149993  13918510   149761     182240         232   \n",
       "4          France  11290010  126002  11027112   125797     262898         205   \n",
       "\n",
       "   Fatality Rate      Continent  \n",
       "0           1.43  North America  \n",
       "1           1.37           Asia  \n",
       "2           2.78  South America  \n",
       "3           1.06         Europe  \n",
       "4           1.12         Europe  "
      ]
     },
     "execution_count": 13,
     "metadata": {},
     "output_type": "execute_result"
    }
   ],
   "source": [
    "#hide\n",
    "for c in 'Cases, Deaths'.split(', '):\n",
    "    df_table[f'{c} (+)'] = (df_table[c] - df_table[f'P{c}']).clip(0)\n",
    "    #Clip ça veut dire, les chiffres negatif sont interdit\n",
    "df_table['Fatality Rate'] = (100* df_table['Deaths']/ df_table['Cases']).round(2)\n",
    "df_table['Continent'] = df_table['Country/Region'].map(mapping['map.continent'])\n",
    "df_table.head(5)"
   ]
  },
  {
   "cell_type": "code",
   "execution_count": 14,
   "id": "aboriginal-bulgaria",
   "metadata": {
    "execution": {
     "iopub.execute_input": "2022-01-07T12:13:32.888285Z",
     "iopub.status.busy": "2022-01-07T12:13:32.887494Z",
     "iopub.status.idle": "2022-01-07T12:13:32.889247Z",
     "shell.execute_reply": "2022-01-07T12:13:32.889824Z"
    },
    "papermill": {
     "duration": 0.048763,
     "end_time": "2022-01-07T12:13:32.890002",
     "exception": false,
     "start_time": "2022-01-07T12:13:32.841239",
     "status": "completed"
    },
    "tags": []
   },
   "outputs": [],
   "source": [
    "#hide\n",
    "#delete problematic countries from table\n",
    "df_table = df_table[~df_table['Country/Region'].isin(['Cape Verde', 'Cruise Ship', 'Kosovo'])]"
   ]
  },
  {
   "cell_type": "code",
   "execution_count": 15,
   "id": "fantastic-effect",
   "metadata": {
    "execution": {
     "iopub.execute_input": "2022-01-07T12:13:32.978480Z",
     "iopub.status.busy": "2022-01-07T12:13:32.977826Z",
     "iopub.status.idle": "2022-01-07T12:13:32.999442Z",
     "shell.execute_reply": "2022-01-07T12:13:33.000080Z"
    },
    "papermill": {
     "duration": 0.071274,
     "end_time": "2022-01-07T12:13:33.000294",
     "exception": false,
     "start_time": "2022-01-07T12:13:32.929020",
     "status": "completed"
    },
    "tags": []
   },
   "outputs": [
    {
     "data": {
      "text/html": [
       "<div>\n",
       "<style scoped>\n",
       "    .dataframe tbody tr th:only-of-type {\n",
       "        vertical-align: middle;\n",
       "    }\n",
       "\n",
       "    .dataframe tbody tr th {\n",
       "        vertical-align: top;\n",
       "    }\n",
       "\n",
       "    .dataframe thead th {\n",
       "        text-align: right;\n",
       "    }\n",
       "</style>\n",
       "<table border=\"1\" class=\"dataframe\">\n",
       "  <thead>\n",
       "    <tr style=\"text-align: right;\">\n",
       "      <th></th>\n",
       "      <th>Country/Region</th>\n",
       "      <th>Cases</th>\n",
       "      <th>Deaths</th>\n",
       "      <th>PCases</th>\n",
       "      <th>PDeaths</th>\n",
       "      <th>Cases (+)</th>\n",
       "      <th>Deaths (+)</th>\n",
       "      <th>Fatality Rate</th>\n",
       "      <th>Continent</th>\n",
       "    </tr>\n",
       "  </thead>\n",
       "  <tbody>\n",
       "    <tr>\n",
       "      <th>0</th>\n",
       "      <td>US</td>\n",
       "      <td>58487697</td>\n",
       "      <td>833988</td>\n",
       "      <td>57700873</td>\n",
       "      <td>832118</td>\n",
       "      <td>786824</td>\n",
       "      <td>1870</td>\n",
       "      <td>1.4</td>\n",
       "      <td>North America</td>\n",
       "    </tr>\n",
       "    <tr>\n",
       "      <th>1</th>\n",
       "      <td>India</td>\n",
       "      <td>35226386</td>\n",
       "      <td>483178</td>\n",
       "      <td>35109286</td>\n",
       "      <td>482876</td>\n",
       "      <td>117100</td>\n",
       "      <td>302</td>\n",
       "      <td>1.4</td>\n",
       "      <td>Asia</td>\n",
       "    </tr>\n",
       "    <tr>\n",
       "      <th>2</th>\n",
       "      <td>Brazil</td>\n",
       "      <td>22328252</td>\n",
       "      <td>619654</td>\n",
       "      <td>22328252</td>\n",
       "      <td>619654</td>\n",
       "      <td>0</td>\n",
       "      <td>0</td>\n",
       "      <td>2.8</td>\n",
       "      <td>South America</td>\n",
       "    </tr>\n",
       "    <tr>\n",
       "      <th>3</th>\n",
       "      <td>United Kingdom</td>\n",
       "      <td>14100750</td>\n",
       "      <td>149993</td>\n",
       "      <td>13918510</td>\n",
       "      <td>149761</td>\n",
       "      <td>182240</td>\n",
       "      <td>232</td>\n",
       "      <td>1.1</td>\n",
       "      <td>Europe</td>\n",
       "    </tr>\n",
       "    <tr>\n",
       "      <th>4</th>\n",
       "      <td>France</td>\n",
       "      <td>11290010</td>\n",
       "      <td>126002</td>\n",
       "      <td>11027112</td>\n",
       "      <td>125797</td>\n",
       "      <td>262898</td>\n",
       "      <td>205</td>\n",
       "      <td>1.1</td>\n",
       "      <td>Europe</td>\n",
       "    </tr>\n",
       "  </tbody>\n",
       "</table>\n",
       "</div>"
      ],
      "text/plain": [
       "   Country/Region     Cases  Deaths    PCases  PDeaths  Cases (+)  Deaths (+)  \\\n",
       "0              US  58487697  833988  57700873   832118     786824        1870   \n",
       "1           India  35226386  483178  35109286   482876     117100         302   \n",
       "2          Brazil  22328252  619654  22328252   619654          0           0   \n",
       "3  United Kingdom  14100750  149993  13918510   149761     182240         232   \n",
       "4          France  11290010  126002  11027112   125797     262898         205   \n",
       "\n",
       "   Fatality Rate      Continent  \n",
       "0            1.4  North America  \n",
       "1            1.4           Asia  \n",
       "2            2.8  South America  \n",
       "3            1.1         Europe  \n",
       "4            1.1         Europe  "
      ]
     },
     "execution_count": 15,
     "metadata": {},
     "output_type": "execute_result"
    }
   ],
   "source": [
    "#hide\n",
    "df_table = (pd.DataFrame(dict(Cases=dfc_cases, Deaths=dfc_deaths, PCases=dfp_cases, PDeaths=dfp_deaths))\n",
    "             .sort_values(by=['Cases', 'Deaths'], ascending=[False, False])\n",
    "             .reset_index())\n",
    "df_table.rename(columns={'index': 'Country/Region'}, inplace=True)\n",
    "for c in 'Cases, Deaths'.split(', '):\n",
    "    df_table[f'{c} (+)'] = (df_table[c] - df_table[f'P{c}']).clip(0)  # DATA BUG\n",
    "df_table['Fatality Rate'] = (100 * df_table['Deaths'] / df_table['Cases']).round(1)\n",
    "df_table['Continent'] = df_table['Country/Region'].map(mapping['map.continent'])\n",
    "df_table.head(5)"
   ]
  },
  {
   "cell_type": "code",
   "execution_count": 16,
   "id": "fewer-occasion",
   "metadata": {
    "execution": {
     "iopub.execute_input": "2022-01-07T12:13:33.090388Z",
     "iopub.status.busy": "2022-01-07T12:13:33.089595Z",
     "iopub.status.idle": "2022-01-07T12:13:33.092047Z",
     "shell.execute_reply": "2022-01-07T12:13:33.092579Z"
    },
    "papermill": {
     "duration": 0.0518,
     "end_time": "2022-01-07T12:13:33.092757",
     "exception": false,
     "start_time": "2022-01-07T12:13:33.040957",
     "status": "completed"
    },
    "tags": []
   },
   "outputs": [],
   "source": [
    "#hide\n",
    "#delete problematic countries from table\n",
    "df_table = df_table[~df_table['Country/Region'].isin(['Cape Verde', 'Cruise Ship', 'Kosovo'])]"
   ]
  },
  {
   "cell_type": "code",
   "execution_count": 17,
   "id": "related-center",
   "metadata": {
    "execution": {
     "iopub.execute_input": "2022-01-07T12:13:33.195316Z",
     "iopub.status.busy": "2022-01-07T12:13:33.194664Z",
     "iopub.status.idle": "2022-01-07T12:13:33.198346Z",
     "shell.execute_reply": "2022-01-07T12:13:33.199069Z"
    },
    "papermill": {
     "duration": 0.067876,
     "end_time": "2022-01-07T12:13:33.199255",
     "exception": false,
     "start_time": "2022-01-07T12:13:33.131379",
     "status": "completed"
    },
    "tags": []
   },
   "outputs": [],
   "source": [
    "#hide\n",
    "metrics = [df_table.columns[index] for index in [1,2,5,6]]\n",
    "# s_china = df_table[df_table['Country/Region'].eq('China')][metrics].sum().add_prefix('China ')\n",
    "s_us = df_table[df_table['Country/Region'].eq('US')][metrics].sum().add_prefix('US ')\n",
    "s_eu = df_table[df_table['Continent'].eq('Europe')][metrics].sum().add_prefix('EU ')\n",
    "s_ind = df_table[df_table['Country/Region'].eq('India')][metrics].sum().add_prefix('India ')\n",
    "summary = {'updated': pd.to_datetime(dt_today), 'since': pd.to_datetime(dt_yday)}\n",
    "summary = {'updated': pd.to_datetime(dt_today), 'since': pd.to_datetime(dt_yday)}\n",
    "summary = {**summary, **df_table[metrics].sum(), **s_ind, **s_us, **s_eu}"
   ]
  },
  {
   "cell_type": "code",
   "execution_count": 18,
   "id": "engaging-syndrome",
   "metadata": {
    "execution": {
     "iopub.execute_input": "2022-01-07T12:13:33.285939Z",
     "iopub.status.busy": "2022-01-07T12:13:33.283239Z",
     "iopub.status.idle": "2022-01-07T12:13:33.297745Z",
     "shell.execute_reply": "2022-01-07T12:13:33.298265Z"
    },
    "papermill": {
     "duration": 0.060109,
     "end_time": "2022-01-07T12:13:33.298429",
     "exception": false,
     "start_time": "2022-01-07T12:13:33.238320",
     "status": "completed"
    },
    "tags": []
   },
   "outputs": [],
   "source": [
    "#hide\n",
    "dft_ct_new_cases = dft_cases.groupby(COL_REGION)[dt_cols].sum().diff(axis=1).fillna(0).astype(int)"
   ]
  },
  {
   "cell_type": "code",
   "execution_count": 19,
   "id": "neutral-assignment",
   "metadata": {
    "execution": {
     "iopub.execute_input": "2022-01-07T12:13:33.381783Z",
     "iopub.status.busy": "2022-01-07T12:13:33.381123Z",
     "iopub.status.idle": "2022-01-07T12:13:33.383728Z",
     "shell.execute_reply": "2022-01-07T12:13:33.383201Z"
    },
    "papermill": {
     "duration": 0.047842,
     "end_time": "2022-01-07T12:13:33.383856",
     "exception": false,
     "start_time": "2022-01-07T12:13:33.336014",
     "status": "completed"
    },
    "tags": []
   },
   "outputs": [],
   "source": [
    "#hide\n",
    "everydaycases = dft_ct_new_cases.cumsum(axis=1)"
   ]
  },
  {
   "cell_type": "code",
   "execution_count": 20,
   "id": "parliamentary-calgary",
   "metadata": {
    "execution": {
     "iopub.execute_input": "2022-01-07T12:13:33.466410Z",
     "iopub.status.busy": "2022-01-07T12:13:33.465725Z",
     "iopub.status.idle": "2022-01-07T12:13:34.170497Z",
     "shell.execute_reply": "2022-01-07T12:13:34.169844Z"
    },
    "papermill": {
     "duration": 0.74797,
     "end_time": "2022-01-07T12:13:34.170662",
     "exception": false,
     "start_time": "2022-01-07T12:13:33.422692",
     "status": "completed"
    },
    "tags": []
   },
   "outputs": [],
   "source": [
    "#hide\n",
    "import pandas as pd\n",
    "import matplotlib.pyplot as plt\n",
    "import matplotlib.ticker as ticker\n",
    "import matplotlib.animation as animation\n",
    "from IPython.display import HTML"
   ]
  },
  {
   "cell_type": "code",
   "execution_count": 21,
   "id": "lasting-extraction",
   "metadata": {
    "execution": {
     "iopub.execute_input": "2022-01-07T12:13:34.256554Z",
     "iopub.status.busy": "2022-01-07T12:13:34.255917Z",
     "iopub.status.idle": "2022-01-07T12:13:34.262535Z",
     "shell.execute_reply": "2022-01-07T12:13:34.263025Z"
    },
    "papermill": {
     "duration": 0.050691,
     "end_time": "2022-01-07T12:13:34.263168",
     "exception": false,
     "start_time": "2022-01-07T12:13:34.212477",
     "status": "completed"
    },
    "tags": []
   },
   "outputs": [],
   "source": [
    "#hide\n",
    "t = everydaycases.stack()"
   ]
  },
  {
   "cell_type": "code",
   "execution_count": 22,
   "id": "premier-sleeve",
   "metadata": {
    "execution": {
     "iopub.execute_input": "2022-01-07T12:13:34.345864Z",
     "iopub.status.busy": "2022-01-07T12:13:34.345199Z",
     "iopub.status.idle": "2022-01-07T12:13:34.355310Z",
     "shell.execute_reply": "2022-01-07T12:13:34.355782Z"
    },
    "papermill": {
     "duration": 0.053072,
     "end_time": "2022-01-07T12:13:34.355947",
     "exception": false,
     "start_time": "2022-01-07T12:13:34.302875",
     "status": "completed"
    },
    "tags": []
   },
   "outputs": [],
   "source": [
    "#hide\n",
    "g = t.reset_index(['Country/Region'])"
   ]
  },
  {
   "cell_type": "code",
   "execution_count": 23,
   "id": "distributed-pittsburgh",
   "metadata": {
    "execution": {
     "iopub.execute_input": "2022-01-07T12:13:34.437845Z",
     "iopub.status.busy": "2022-01-07T12:13:34.437204Z",
     "iopub.status.idle": "2022-01-07T12:13:34.438766Z",
     "shell.execute_reply": "2022-01-07T12:13:34.439342Z"
    },
    "papermill": {
     "duration": 0.045077,
     "end_time": "2022-01-07T12:13:34.439508",
     "exception": false,
     "start_time": "2022-01-07T12:13:34.394431",
     "status": "completed"
    },
    "tags": []
   },
   "outputs": [],
   "source": [
    "#hide\n",
    "g.index.name = 'date'"
   ]
  },
  {
   "cell_type": "code",
   "execution_count": 24,
   "id": "naked-donor",
   "metadata": {
    "execution": {
     "iopub.execute_input": "2022-01-07T12:13:34.521627Z",
     "iopub.status.busy": "2022-01-07T12:13:34.520959Z",
     "iopub.status.idle": "2022-01-07T12:13:34.523877Z",
     "shell.execute_reply": "2022-01-07T12:13:34.524402Z"
    },
    "papermill": {
     "duration": 0.04524,
     "end_time": "2022-01-07T12:13:34.524563",
     "exception": false,
     "start_time": "2022-01-07T12:13:34.479323",
     "status": "completed"
    },
    "tags": []
   },
   "outputs": [],
   "source": [
    "# #hide\n",
    "# g = g.reset_index(['date'])"
   ]
  },
  {
   "cell_type": "code",
   "execution_count": 25,
   "id": "incomplete-mustang",
   "metadata": {
    "execution": {
     "iopub.execute_input": "2022-01-07T12:13:34.604957Z",
     "iopub.status.busy": "2022-01-07T12:13:34.604205Z",
     "iopub.status.idle": "2022-01-07T12:13:34.606916Z",
     "shell.execute_reply": "2022-01-07T12:13:34.606284Z"
    },
    "papermill": {
     "duration": 0.044294,
     "end_time": "2022-01-07T12:13:34.607039",
     "exception": false,
     "start_time": "2022-01-07T12:13:34.562745",
     "status": "completed"
    },
    "tags": []
   },
   "outputs": [],
   "source": [
    "#hide\n",
    "# g.head()"
   ]
  },
  {
   "cell_type": "code",
   "execution_count": 26,
   "id": "specific-kruger",
   "metadata": {
    "execution": {
     "iopub.execute_input": "2022-01-07T12:13:34.687987Z",
     "iopub.status.busy": "2022-01-07T12:13:34.687322Z",
     "iopub.status.idle": "2022-01-07T12:13:34.689841Z",
     "shell.execute_reply": "2022-01-07T12:13:34.689332Z"
    },
    "papermill": {
     "duration": 0.044171,
     "end_time": "2022-01-07T12:13:34.689990",
     "exception": false,
     "start_time": "2022-01-07T12:13:34.645819",
     "status": "completed"
    },
    "tags": []
   },
   "outputs": [],
   "source": [
    "#hide\n",
    "# g.columns = ['date','country','cases']"
   ]
  },
  {
   "cell_type": "code",
   "execution_count": 27,
   "id": "tender-conversion",
   "metadata": {
    "execution": {
     "iopub.execute_input": "2022-01-07T12:13:34.779259Z",
     "iopub.status.busy": "2022-01-07T12:13:34.778581Z",
     "iopub.status.idle": "2022-01-07T12:13:34.781380Z",
     "shell.execute_reply": "2022-01-07T12:13:34.780779Z"
    },
    "papermill": {
     "duration": 0.053426,
     "end_time": "2022-01-07T12:13:34.781502",
     "exception": false,
     "start_time": "2022-01-07T12:13:34.728076",
     "status": "completed"
    },
    "tags": []
   },
   "outputs": [],
   "source": [
    "#hide\n",
    "# g['continent'] = g.country"
   ]
  },
  {
   "cell_type": "code",
   "execution_count": 28,
   "id": "substantial-wilderness",
   "metadata": {
    "execution": {
     "iopub.execute_input": "2022-01-07T12:13:34.859943Z",
     "iopub.status.busy": "2022-01-07T12:13:34.859219Z",
     "iopub.status.idle": "2022-01-07T12:13:34.863658Z",
     "shell.execute_reply": "2022-01-07T12:13:34.863103Z"
    },
    "papermill": {
     "duration": 0.045968,
     "end_time": "2022-01-07T12:13:34.863790",
     "exception": false,
     "start_time": "2022-01-07T12:13:34.817822",
     "status": "completed"
    },
    "tags": []
   },
   "outputs": [],
   "source": [
    "#hide\n",
    "# cols = list(g.columns.values)"
   ]
  },
  {
   "cell_type": "code",
   "execution_count": 29,
   "id": "solved-farming",
   "metadata": {
    "execution": {
     "iopub.execute_input": "2022-01-07T12:13:34.946838Z",
     "iopub.status.busy": "2022-01-07T12:13:34.946120Z",
     "iopub.status.idle": "2022-01-07T12:13:34.948878Z",
     "shell.execute_reply": "2022-01-07T12:13:34.948207Z"
    },
    "papermill": {
     "duration": 0.045162,
     "end_time": "2022-01-07T12:13:34.949003",
     "exception": false,
     "start_time": "2022-01-07T12:13:34.903841",
     "status": "completed"
    },
    "tags": []
   },
   "outputs": [],
   "source": [
    "#hide\n",
    "# cols.insert(0, cols.pop())"
   ]
  },
  {
   "cell_type": "code",
   "execution_count": 30,
   "id": "executed-adoption",
   "metadata": {
    "execution": {
     "iopub.execute_input": "2022-01-07T12:13:35.031095Z",
     "iopub.status.busy": "2022-01-07T12:13:35.030365Z",
     "iopub.status.idle": "2022-01-07T12:13:35.033171Z",
     "shell.execute_reply": "2022-01-07T12:13:35.032592Z"
    },
    "papermill": {
     "duration": 0.045001,
     "end_time": "2022-01-07T12:13:35.033296",
     "exception": false,
     "start_time": "2022-01-07T12:13:34.988295",
     "status": "completed"
    },
    "tags": []
   },
   "outputs": [],
   "source": [
    "#hide\n",
    "# g = g[cols]"
   ]
  },
  {
   "cell_type": "code",
   "execution_count": 31,
   "id": "subject-dublin",
   "metadata": {
    "execution": {
     "iopub.execute_input": "2022-01-07T12:13:35.116542Z",
     "iopub.status.busy": "2022-01-07T12:13:35.115918Z",
     "iopub.status.idle": "2022-01-07T12:13:35.119692Z",
     "shell.execute_reply": "2022-01-07T12:13:35.120320Z"
    },
    "papermill": {
     "duration": 0.046695,
     "end_time": "2022-01-07T12:13:35.120489",
     "exception": false,
     "start_time": "2022-01-07T12:13:35.073794",
     "status": "completed"
    },
    "tags": []
   },
   "outputs": [],
   "source": [
    "#hide\n",
    "# g['continent'] = g['continent'].map(mapping['map.continent'])"
   ]
  },
  {
   "cell_type": "code",
   "execution_count": 32,
   "id": "freelance-scout",
   "metadata": {
    "execution": {
     "iopub.execute_input": "2022-01-07T12:13:35.200643Z",
     "iopub.status.busy": "2022-01-07T12:13:35.200034Z",
     "iopub.status.idle": "2022-01-07T12:13:35.202751Z",
     "shell.execute_reply": "2022-01-07T12:13:35.201938Z"
    },
    "papermill": {
     "duration": 0.044505,
     "end_time": "2022-01-07T12:13:35.202895",
     "exception": false,
     "start_time": "2022-01-07T12:13:35.158390",
     "status": "completed"
    },
    "tags": []
   },
   "outputs": [],
   "source": [
    "#hide\n",
    "# g.head()"
   ]
  },
  {
   "cell_type": "code",
   "execution_count": 33,
   "id": "limited-engine",
   "metadata": {
    "execution": {
     "iopub.execute_input": "2022-01-07T12:13:35.285436Z",
     "iopub.status.busy": "2022-01-07T12:13:35.284781Z",
     "iopub.status.idle": "2022-01-07T12:13:35.286953Z",
     "shell.execute_reply": "2022-01-07T12:13:35.287576Z"
    },
    "papermill": {
     "duration": 0.045193,
     "end_time": "2022-01-07T12:13:35.287724",
     "exception": false,
     "start_time": "2022-01-07T12:13:35.242531",
     "status": "completed"
    },
    "tags": []
   },
   "outputs": [],
   "source": [
    "# hide\n",
    "# g['date'] = g['date'].astype('datetime64[ns]')"
   ]
  },
  {
   "cell_type": "code",
   "execution_count": 34,
   "id": "sophisticated-supervisor",
   "metadata": {
    "execution": {
     "iopub.execute_input": "2022-01-07T12:13:35.371199Z",
     "iopub.status.busy": "2022-01-07T12:13:35.370578Z",
     "iopub.status.idle": "2022-01-07T12:13:35.377536Z",
     "shell.execute_reply": "2022-01-07T12:13:35.378263Z"
    },
    "papermill": {
     "duration": 0.051292,
     "end_time": "2022-01-07T12:13:35.378408",
     "exception": false,
     "start_time": "2022-01-07T12:13:35.327116",
     "status": "completed"
    },
    "tags": []
   },
   "outputs": [],
   "source": [
    "#hide\n",
    "# g['date'] = g.date.dt.dayofyear"
   ]
  },
  {
   "cell_type": "code",
   "execution_count": 35,
   "id": "inside-dubai",
   "metadata": {
    "execution": {
     "iopub.execute_input": "2022-01-07T12:13:35.459172Z",
     "iopub.status.busy": "2022-01-07T12:13:35.458569Z",
     "iopub.status.idle": "2022-01-07T12:13:35.460643Z",
     "shell.execute_reply": "2022-01-07T12:13:35.461180Z"
    },
    "papermill": {
     "duration": 0.044711,
     "end_time": "2022-01-07T12:13:35.461320",
     "exception": false,
     "start_time": "2022-01-07T12:13:35.416609",
     "status": "completed"
    },
    "tags": []
   },
   "outputs": [],
   "source": [
    "#hide\n",
    "# g = g.rename(columns= {'continent':'group','country':'name','cases':'value'})"
   ]
  },
  {
   "cell_type": "code",
   "execution_count": 36,
   "id": "fleet-motorcycle",
   "metadata": {
    "execution": {
     "iopub.execute_input": "2022-01-07T12:13:35.539646Z",
     "iopub.status.busy": "2022-01-07T12:13:35.538958Z",
     "iopub.status.idle": "2022-01-07T12:13:35.541516Z",
     "shell.execute_reply": "2022-01-07T12:13:35.540983Z"
    },
    "papermill": {
     "duration": 0.043589,
     "end_time": "2022-01-07T12:13:35.541660",
     "exception": false,
     "start_time": "2022-01-07T12:13:35.498071",
     "status": "completed"
    },
    "tags": []
   },
   "outputs": [],
   "source": [
    "#hide\n",
    "# cols = ['name','group','day','value']"
   ]
  },
  {
   "cell_type": "code",
   "execution_count": 37,
   "id": "continued-sleeping",
   "metadata": {
    "execution": {
     "iopub.execute_input": "2022-01-07T12:13:35.620387Z",
     "iopub.status.busy": "2022-01-07T12:13:35.619784Z",
     "iopub.status.idle": "2022-01-07T12:13:35.621666Z",
     "shell.execute_reply": "2022-01-07T12:13:35.622153Z"
    },
    "papermill": {
     "duration": 0.042287,
     "end_time": "2022-01-07T12:13:35.622305",
     "exception": false,
     "start_time": "2022-01-07T12:13:35.580018",
     "status": "completed"
    },
    "tags": []
   },
   "outputs": [],
   "source": [
    "#hide\n",
    "# g.rename(columns= {'date':'day'},inplace = True)"
   ]
  },
  {
   "cell_type": "code",
   "execution_count": 38,
   "id": "major-fight",
   "metadata": {
    "execution": {
     "iopub.execute_input": "2022-01-07T12:13:35.704527Z",
     "iopub.status.busy": "2022-01-07T12:13:35.703815Z",
     "iopub.status.idle": "2022-01-07T12:13:35.708342Z",
     "shell.execute_reply": "2022-01-07T12:13:35.708865Z"
    },
    "papermill": {
     "duration": 0.049145,
     "end_time": "2022-01-07T12:13:35.709046",
     "exception": false,
     "start_time": "2022-01-07T12:13:35.659901",
     "status": "completed"
    },
    "tags": []
   },
   "outputs": [],
   "source": [
    "#hide\n",
    "# g = g[cols]"
   ]
  },
  {
   "cell_type": "code",
   "execution_count": 39,
   "id": "structured-mobile",
   "metadata": {
    "execution": {
     "iopub.execute_input": "2022-01-07T12:13:35.794584Z",
     "iopub.status.busy": "2022-01-07T12:13:35.793849Z",
     "iopub.status.idle": "2022-01-07T12:13:35.797863Z",
     "shell.execute_reply": "2022-01-07T12:13:35.798510Z"
    },
    "papermill": {
     "duration": 0.049118,
     "end_time": "2022-01-07T12:13:35.798696",
     "exception": false,
     "start_time": "2022-01-07T12:13:35.749578",
     "status": "completed"
    },
    "tags": []
   },
   "outputs": [],
   "source": [
    "# #hide\n",
    "# g = g[g.group.notna()]"
   ]
  },
  {
   "cell_type": "code",
   "execution_count": 40,
   "id": "determined-closing",
   "metadata": {
    "execution": {
     "iopub.execute_input": "2022-01-07T12:13:35.882502Z",
     "iopub.status.busy": "2022-01-07T12:13:35.881731Z",
     "iopub.status.idle": "2022-01-07T12:13:35.884588Z",
     "shell.execute_reply": "2022-01-07T12:13:35.883987Z"
    },
    "papermill": {
     "duration": 0.046369,
     "end_time": "2022-01-07T12:13:35.884756",
     "exception": false,
     "start_time": "2022-01-07T12:13:35.838387",
     "status": "completed"
    },
    "tags": []
   },
   "outputs": [],
   "source": [
    "# #hide\n",
    "# colors = dict(zip(\n",
    "#     [\"Oceania\", \"Europe\", \"Asia\", \"South America\", \"Middle East\", \"North America\", \"Africa\"],\n",
    "#     [\"#adb0ff\", \"#ffb3ff\", \"#90d595\", \"#e48381\", \"#aafbff\", \"#f7bb5f\", \"#eafb50\"]\n",
    "# ))\n",
    "# group_lk = g.set_index('name')['group'].to_dict()"
   ]
  },
  {
   "cell_type": "code",
   "execution_count": null,
   "id": "gross-drinking",
   "metadata": {
    "papermill": {
     "duration": 0.039629,
     "end_time": "2022-01-07T12:13:35.966682",
     "exception": false,
     "start_time": "2022-01-07T12:13:35.927053",
     "status": "completed"
    },
    "tags": []
   },
   "outputs": [],
   "source": []
  },
  {
   "cell_type": "code",
   "execution_count": 41,
   "id": "subject-macintosh",
   "metadata": {
    "execution": {
     "iopub.execute_input": "2022-01-07T12:13:36.050289Z",
     "iopub.status.busy": "2022-01-07T12:13:36.049567Z",
     "iopub.status.idle": "2022-01-07T12:13:36.059679Z",
     "shell.execute_reply": "2022-01-07T12:13:36.057302Z"
    },
    "papermill": {
     "duration": 0.054633,
     "end_time": "2022-01-07T12:13:36.059828",
     "exception": false,
     "start_time": "2022-01-07T12:13:36.005195",
     "status": "completed"
    },
    "tags": []
   },
   "outputs": [],
   "source": [
    "# #hide\n",
    "# fig, ax = plt.subplots(figsize=(15, 8))\n",
    "\n",
    "# def draw_barchart(current_day):\n",
    "#     dff = g[g['day'].eq(current_day)].sort_values(by='value', ascending=True).tail(10)\n",
    "#     ax.clear()\n",
    "#     ax.barh(dff['name'], dff['value'], color=[colors[group_lk[x]] for x in dff['name']])\n",
    "#     dx = dff['value'].max() / 200\n",
    "    \n",
    "#     for i, (value, name) in enumerate(zip(dff['value'], dff['name'])):\n",
    "#         ax.text(value-dx, i,     name,           size=14, weight=600, ha='right', va='bottom')\n",
    "#         ax.text(value-dx, i-.25, group_lk[name], size=10, color='#444444', ha='right', va='baseline')\n",
    "#         ax.text(value+dx, i,     f'{value:,.0f}',  size=14, ha='left',  va='center')\n",
    "#     ax.text(1, 0.4, current_day, transform=ax.transAxes, color='#777777', size=46, ha='right', weight=800)\n",
    "#     ax.text(0, 1.06, 'Population (thousands)', transform=ax.transAxes, size=12, color='#777777')\n",
    "#     ax.xaxis.set_major_formatter(ticker.StrMethodFormatter('{x:,.0f}'))\n",
    "#     ax.xaxis.set_ticks_position('top')\n",
    "#     ax.tick_params(axis='x', colors='#777777', labelsize=12)\n",
    "#     ax.set_yticks([])\n",
    "#     ax.margins(0, 0.01)\n",
    "#     ax.grid(which='major', axis='x', linestyle='-')\n",
    "#     ax.set_axisbelow(True)\n",
    "    \n",
    "#     ax.text(0, 1.15, 'Coronavirus',\n",
    "#             transform=ax.transAxes, size=24, weight=600, ha='left', va='top')\n",
    "# #     ax.text(1, 0, 'by @pratapvardhan; credit @jburnmurdoch', transform=ax.transAxes, color='#777777', ha='right',\n",
    "# #             bbox=dict(facecolor='white', alpha=0.8, edgecolor='white'))\n",
    "#     plt.box(False)"
   ]
  },
  {
   "cell_type": "code",
   "execution_count": 42,
   "id": "sexual-wages",
   "metadata": {
    "execution": {
     "iopub.execute_input": "2022-01-07T12:13:36.144467Z",
     "iopub.status.busy": "2022-01-07T12:13:36.143667Z",
     "iopub.status.idle": "2022-01-07T12:13:36.146334Z",
     "shell.execute_reply": "2022-01-07T12:13:36.145763Z"
    },
    "papermill": {
     "duration": 0.046287,
     "end_time": "2022-01-07T12:13:36.146464",
     "exception": false,
     "start_time": "2022-01-07T12:13:36.100177",
     "status": "completed"
    },
    "tags": []
   },
   "outputs": [],
   "source": [
    "# #hide_input\n",
    "# fig, ax = plt.subplots(figsize=(15, 8))\n",
    "# animator = animation.FuncAnimation(fig, draw_barchart, frames=range(g.day.values.min(), g.day.values.max()))\n",
    "# HTML(animator.to_jshtml())\n",
    "# # or use animator.to_html5_video() or animator.save() "
   ]
  },
  {
   "cell_type": "code",
   "execution_count": null,
   "id": "australian-container",
   "metadata": {
    "papermill": {
     "duration": 0.037547,
     "end_time": "2022-01-07T12:13:36.222961",
     "exception": false,
     "start_time": "2022-01-07T12:13:36.185414",
     "status": "completed"
    },
    "tags": []
   },
   "outputs": [],
   "source": []
  },
  {
   "cell_type": "code",
   "execution_count": null,
   "id": "mediterranean-pontiac",
   "metadata": {
    "papermill": {
     "duration": 0.037139,
     "end_time": "2022-01-07T12:13:36.302280",
     "exception": false,
     "start_time": "2022-01-07T12:13:36.265141",
     "status": "completed"
    },
    "tags": []
   },
   "outputs": [],
   "source": []
  },
  {
   "cell_type": "code",
   "execution_count": null,
   "id": "aging-legislature",
   "metadata": {
    "papermill": {
     "duration": 0.038388,
     "end_time": "2022-01-07T12:13:36.382390",
     "exception": false,
     "start_time": "2022-01-07T12:13:36.344002",
     "status": "completed"
    },
    "tags": []
   },
   "outputs": [],
   "source": []
  }
 ],
 "metadata": {
  "kernelspec": {
   "display_name": "Python 3",
   "language": "python",
   "name": "python3"
  },
  "language_info": {
   "codemirror_mode": {
    "name": "ipython",
    "version": 3
   },
   "file_extension": ".py",
   "mimetype": "text/x-python",
   "name": "python",
   "nbconvert_exporter": "python",
   "pygments_lexer": "ipython3",
   "version": "3.6.15"
  },
  "papermill": {
   "duration": 7.381689,
   "end_time": "2022-01-07T12:13:36.730862",
   "environment_variables": {},
   "exception": null,
   "input_path": "2020-03-21-covid19exp.ipynb",
   "output_path": "2020-03-21-covid19exp.ipynb",
   "parameters": {},
   "start_time": "2022-01-07T12:13:29.349173",
   "version": "2.0.0"
  }
 },
 "nbformat": 4,
 "nbformat_minor": 5
}