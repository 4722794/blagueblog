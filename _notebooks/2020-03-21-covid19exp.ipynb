{
 "cells": [
  {
   "cell_type": "markdown",
   "id": "muslim-click",
   "metadata": {
    "papermill": {
     "duration": 0.039876,
     "end_time": "2021-04-04T12:04:11.173264",
     "exception": false,
     "start_time": "2021-04-04T12:04:11.133388",
     "status": "completed"
    },
    "tags": []
   },
   "source": [
    "# COVID-19 Case Race\n",
    "> A race chart to see rising cases around the world\n",
    "\n",
    "- author: Hargun Oberoi\n",
    "- image: images/covid-overview.png\n",
    "- hide: false\n",
    "- badges: false"
   ]
  },
  {
   "cell_type": "code",
   "execution_count": 1,
   "id": "proof-material",
   "metadata": {
    "execution": {
     "iopub.execute_input": "2021-04-04T12:04:11.253852Z",
     "iopub.status.busy": "2021-04-04T12:04:11.253190Z",
     "iopub.status.idle": "2021-04-04T12:04:11.582859Z",
     "shell.execute_reply": "2021-04-04T12:04:11.582244Z"
    },
    "papermill": {
     "duration": 0.374843,
     "end_time": "2021-04-04T12:04:11.583005",
     "exception": false,
     "start_time": "2021-04-04T12:04:11.208162",
     "status": "completed"
    },
    "tags": []
   },
   "outputs": [],
   "source": [
    "#hide\n",
    "import numpy as np\n",
    "import pandas as pd\n",
    "from jinja2 import Template\n",
    "from IPython.display import HTML"
   ]
  },
  {
   "cell_type": "code",
   "execution_count": 2,
   "id": "developed-terminology",
   "metadata": {
    "execution": {
     "iopub.execute_input": "2021-04-04T12:04:11.658638Z",
     "iopub.status.busy": "2021-04-04T12:04:11.658023Z",
     "iopub.status.idle": "2021-04-04T12:04:11.659989Z",
     "shell.execute_reply": "2021-04-04T12:04:11.660679Z"
    },
    "papermill": {
     "duration": 0.041967,
     "end_time": "2021-04-04T12:04:11.660791",
     "exception": false,
     "start_time": "2021-04-04T12:04:11.618824",
     "status": "completed"
    },
    "tags": []
   },
   "outputs": [],
   "source": [
    "#hide\n",
    "\n",
    "# FETCH\n",
    "base_url = 'https://raw.githubusercontent.com/pratapvardhan/notebooks/master/covid19/'\n",
    "paths = {\n",
    "    'mapping': base_url + 'mapping_countries.csv',\n",
    "    'overview': base_url + 'overview.tpl'\n",
    "}"
   ]
  },
  {
   "cell_type": "code",
   "execution_count": 3,
   "id": "dynamic-saver",
   "metadata": {
    "execution": {
     "iopub.execute_input": "2021-04-04T12:04:11.737779Z",
     "iopub.status.busy": "2021-04-04T12:04:11.735511Z",
     "iopub.status.idle": "2021-04-04T12:04:11.741318Z",
     "shell.execute_reply": "2021-04-04T12:04:11.740836Z"
    },
    "papermill": {
     "duration": 0.046939,
     "end_time": "2021-04-04T12:04:11.741422",
     "exception": false,
     "start_time": "2021-04-04T12:04:11.694483",
     "status": "completed"
    },
    "tags": []
   },
   "outputs": [
    {
     "data": {
      "text/plain": [
       "'https://raw.githubusercontent.com/pratapvardhan/notebooks/master/covid19/mapping_countries.csv'"
      ]
     },
     "execution_count": 3,
     "metadata": {},
     "output_type": "execute_result"
    }
   ],
   "source": [
    "#hide\n",
    "paths['mapping']"
   ]
  },
  {
   "cell_type": "code",
   "execution_count": 4,
   "id": "urban-software",
   "metadata": {
    "execution": {
     "iopub.execute_input": "2021-04-04T12:04:11.817337Z",
     "iopub.status.busy": "2021-04-04T12:04:11.816607Z",
     "iopub.status.idle": "2021-04-04T12:04:11.819402Z",
     "shell.execute_reply": "2021-04-04T12:04:11.818925Z"
    },
    "papermill": {
     "duration": 0.041118,
     "end_time": "2021-04-04T12:04:11.819505",
     "exception": false,
     "start_time": "2021-04-04T12:04:11.778387",
     "status": "completed"
    },
    "tags": []
   },
   "outputs": [],
   "source": [
    "#hide\n",
    "def get_mappings(url):\n",
    "    df = pd.read_csv(url)\n",
    "    return {\n",
    "        'df': df,\n",
    "        'replace.country': dict(df.dropna(subset=['Name']).set_index('Country')['Name']),\n",
    "        'map.continent': dict(df.set_index('Name')['Continent'])\n",
    "    }"
   ]
  },
  {
   "cell_type": "code",
   "execution_count": 5,
   "id": "intimate-machinery",
   "metadata": {
    "execution": {
     "iopub.execute_input": "2021-04-04T12:04:11.893729Z",
     "iopub.status.busy": "2021-04-04T12:04:11.893129Z",
     "iopub.status.idle": "2021-04-04T12:04:11.936932Z",
     "shell.execute_reply": "2021-04-04T12:04:11.936145Z"
    },
    "papermill": {
     "duration": 0.08189,
     "end_time": "2021-04-04T12:04:11.937115",
     "exception": false,
     "start_time": "2021-04-04T12:04:11.855225",
     "status": "completed"
    },
    "tags": []
   },
   "outputs": [],
   "source": [
    "#hide\n",
    "mapping = get_mappings(paths['mapping'])"
   ]
  },
  {
   "cell_type": "code",
   "execution_count": 6,
   "id": "certified-tactics",
   "metadata": {
    "execution": {
     "iopub.execute_input": "2021-04-04T12:04:12.015069Z",
     "iopub.status.busy": "2021-04-04T12:04:12.014407Z",
     "iopub.status.idle": "2021-04-04T12:04:12.017030Z",
     "shell.execute_reply": "2021-04-04T12:04:12.016525Z"
    },
    "papermill": {
     "duration": 0.043539,
     "end_time": "2021-04-04T12:04:12.017138",
     "exception": false,
     "start_time": "2021-04-04T12:04:11.973599",
     "status": "completed"
    },
    "tags": []
   },
   "outputs": [],
   "source": [
    "#hide\n",
    "def get_template(path):\n",
    "    from urllib.parse import urlparse\n",
    "    if bool(urlparse(path).netloc):\n",
    "        from urllib.request import urlopen\n",
    "        return urlopen(path).read().decode('utf8')\n",
    "    return open(path).read()"
   ]
  },
  {
   "cell_type": "code",
   "execution_count": 7,
   "id": "realistic-blast",
   "metadata": {
    "execution": {
     "iopub.execute_input": "2021-04-04T12:04:12.094538Z",
     "iopub.status.busy": "2021-04-04T12:04:12.093861Z",
     "iopub.status.idle": "2021-04-04T12:04:12.095733Z",
     "shell.execute_reply": "2021-04-04T12:04:12.096348Z"
    },
    "papermill": {
     "duration": 0.043421,
     "end_time": "2021-04-04T12:04:12.096496",
     "exception": false,
     "start_time": "2021-04-04T12:04:12.053075",
     "status": "completed"
    },
    "tags": []
   },
   "outputs": [],
   "source": [
    "#hide\n",
    "def get_frame(name):\n",
    "    url = (\n",
    "        'https://raw.githubusercontent.com/CSSEGISandData/COVID-19/master/csse_covid_19_data/'\n",
    "        f'csse_covid_19_time_series/time_series_covid19_{name}_global.csv')\n",
    "    df = pd.read_csv(url)\n",
    "    # rename countries\n",
    "    df['Country/Region'] = df['Country/Region'].replace(mapping['replace.country'])\n",
    "    return df"
   ]
  },
  {
   "cell_type": "code",
   "execution_count": 8,
   "id": "affiliated-characterization",
   "metadata": {
    "execution": {
     "iopub.execute_input": "2021-04-04T12:04:12.176794Z",
     "iopub.status.busy": "2021-04-04T12:04:12.176157Z",
     "iopub.status.idle": "2021-04-04T12:04:12.179015Z",
     "shell.execute_reply": "2021-04-04T12:04:12.178498Z"
    },
    "papermill": {
     "duration": 0.045942,
     "end_time": "2021-04-04T12:04:12.179141",
     "exception": false,
     "start_time": "2021-04-04T12:04:12.133199",
     "status": "completed"
    },
    "tags": []
   },
   "outputs": [],
   "source": [
    "#hide\n",
    "def get_dates(df):\n",
    "    dt_cols = df.columns[~df.columns.isin(['Province/State', 'Country/Region', 'Lat', 'Long'])]\n",
    "    LAST_DATE_I = -1\n",
    "    # sometimes last column may be empty, then go backwards\n",
    "    for i in range(-1, -len(dt_cols), -1):\n",
    "        if not df[dt_cols[i]].fillna(0).eq(0).all():\n",
    "            LAST_DATE_I = i\n",
    "            break\n",
    "    return LAST_DATE_I, dt_cols"
   ]
  },
  {
   "cell_type": "code",
   "execution_count": 9,
   "id": "recent-optimization",
   "metadata": {
    "execution": {
     "iopub.execute_input": "2021-04-04T12:04:12.249940Z",
     "iopub.status.busy": "2021-04-04T12:04:12.248877Z",
     "iopub.status.idle": "2021-04-04T12:04:12.590190Z",
     "shell.execute_reply": "2021-04-04T12:04:12.590660Z"
    },
    "papermill": {
     "duration": 0.378601,
     "end_time": "2021-04-04T12:04:12.590801",
     "exception": false,
     "start_time": "2021-04-04T12:04:12.212200",
     "status": "completed"
    },
    "tags": []
   },
   "outputs": [],
   "source": [
    "#hide\n",
    "COL_REGION = 'Country/Region'\n",
    "# Confirmed, Recovered, Deaths\n",
    "df = get_frame('confirmed')\n",
    "# dft_: timeseries, dfc_: today country agg\n",
    "dft_cases = df\n",
    "dft_deaths = get_frame('deaths')\n",
    "dft_recovered = get_frame('recovered')\n",
    "LAST_DATE_I, dt_cols = get_dates(df)"
   ]
  },
  {
   "cell_type": "code",
   "execution_count": 10,
   "id": "absolute-copper",
   "metadata": {
    "execution": {
     "iopub.execute_input": "2021-04-04T12:04:12.667853Z",
     "iopub.status.busy": "2021-04-04T12:04:12.667266Z",
     "iopub.status.idle": "2021-04-04T12:04:12.670273Z",
     "shell.execute_reply": "2021-04-04T12:04:12.669596Z"
    },
    "papermill": {
     "duration": 0.04559,
     "end_time": "2021-04-04T12:04:12.670463",
     "exception": false,
     "start_time": "2021-04-04T12:04:12.624873",
     "status": "completed"
    },
    "tags": []
   },
   "outputs": [],
   "source": [
    "#hide\n",
    "LAST_DATE_I, dt_cols = get_dates(df)\n",
    "dt_today =dt_cols[LAST_DATE_I]\n",
    "# dt_5day = dt_cols[LAST_DATE_I - 5]\n",
    "dt_yday = dt_cols[LAST_DATE_I - 1]"
   ]
  },
  {
   "cell_type": "code",
   "execution_count": 11,
   "id": "restricted-sheriff",
   "metadata": {
    "execution": {
     "iopub.execute_input": "2021-04-04T12:04:12.755507Z",
     "iopub.status.busy": "2021-04-04T12:04:12.754915Z",
     "iopub.status.idle": "2021-04-04T12:04:12.764054Z",
     "shell.execute_reply": "2021-04-04T12:04:12.763532Z"
    },
    "papermill": {
     "duration": 0.051713,
     "end_time": "2021-04-04T12:04:12.764205",
     "exception": false,
     "start_time": "2021-04-04T12:04:12.712492",
     "status": "completed"
    },
    "tags": []
   },
   "outputs": [],
   "source": [
    "#hide\n",
    "dfc_cases = dft_cases.groupby(COL_REGION)[dt_today].sum()\n",
    "dfc_deaths = dft_deaths.groupby(COL_REGION)[dt_today].sum()\n",
    "# dfp_cases = dft_cases.groupby(COL_REGION)[dt_5day].sum()\n",
    "# dfp_deaths = dft_deaths.groupby(COL_REGION)[dt_5day].sum()\n",
    "dfp_cases = dft_cases.groupby(COL_REGION)[dt_yday].sum()\n",
    "dfp_deaths = dft_deaths.groupby(COL_REGION)[dt_yday].sum()"
   ]
  },
  {
   "cell_type": "code",
   "execution_count": 12,
   "id": "deluxe-hepatitis",
   "metadata": {
    "execution": {
     "iopub.execute_input": "2021-04-04T12:04:12.845301Z",
     "iopub.status.busy": "2021-04-04T12:04:12.844684Z",
     "iopub.status.idle": "2021-04-04T12:04:12.849372Z",
     "shell.execute_reply": "2021-04-04T12:04:12.850375Z"
    },
    "papermill": {
     "duration": 0.049114,
     "end_time": "2021-04-04T12:04:12.850509",
     "exception": false,
     "start_time": "2021-04-04T12:04:12.801395",
     "status": "completed"
    },
    "tags": []
   },
   "outputs": [],
   "source": [
    "#hide\n",
    "df_table = (pd.DataFrame(dict(Cases = dfc_cases, Deaths = dfc_deaths, PCases = dfp_cases, PDeaths = dfp_deaths))\n",
    "            .sort_values(by = ['Cases','Deaths'], ascending = [False, False])\n",
    "            .reset_index())"
   ]
  },
  {
   "cell_type": "code",
   "execution_count": 13,
   "id": "educational-chancellor",
   "metadata": {
    "execution": {
     "iopub.execute_input": "2021-04-04T12:04:12.941616Z",
     "iopub.status.busy": "2021-04-04T12:04:12.941025Z",
     "iopub.status.idle": "2021-04-04T12:04:12.949385Z",
     "shell.execute_reply": "2021-04-04T12:04:12.949908Z"
    },
    "papermill": {
     "duration": 0.063694,
     "end_time": "2021-04-04T12:04:12.950023",
     "exception": false,
     "start_time": "2021-04-04T12:04:12.886329",
     "status": "completed"
    },
    "tags": []
   },
   "outputs": [
    {
     "data": {
      "text/html": [
       "<div>\n",
       "<style scoped>\n",
       "    .dataframe tbody tr th:only-of-type {\n",
       "        vertical-align: middle;\n",
       "    }\n",
       "\n",
       "    .dataframe tbody tr th {\n",
       "        vertical-align: top;\n",
       "    }\n",
       "\n",
       "    .dataframe thead th {\n",
       "        text-align: right;\n",
       "    }\n",
       "</style>\n",
       "<table border=\"1\" class=\"dataframe\">\n",
       "  <thead>\n",
       "    <tr style=\"text-align: right;\">\n",
       "      <th></th>\n",
       "      <th>Country/Region</th>\n",
       "      <th>Cases</th>\n",
       "      <th>Deaths</th>\n",
       "      <th>PCases</th>\n",
       "      <th>PDeaths</th>\n",
       "      <th>Cases (+)</th>\n",
       "      <th>Deaths (+)</th>\n",
       "      <th>Fatality Rate</th>\n",
       "      <th>Continent</th>\n",
       "    </tr>\n",
       "  </thead>\n",
       "  <tbody>\n",
       "    <tr>\n",
       "      <th>0</th>\n",
       "      <td>US</td>\n",
       "      <td>30671844</td>\n",
       "      <td>554779</td>\n",
       "      <td>30609690</td>\n",
       "      <td>554103</td>\n",
       "      <td>62154</td>\n",
       "      <td>676</td>\n",
       "      <td>1.81</td>\n",
       "      <td>North America</td>\n",
       "    </tr>\n",
       "    <tr>\n",
       "      <th>1</th>\n",
       "      <td>Brazil</td>\n",
       "      <td>12953597</td>\n",
       "      <td>330193</td>\n",
       "      <td>12910082</td>\n",
       "      <td>328206</td>\n",
       "      <td>43515</td>\n",
       "      <td>1987</td>\n",
       "      <td>2.55</td>\n",
       "      <td>South America</td>\n",
       "    </tr>\n",
       "    <tr>\n",
       "      <th>2</th>\n",
       "      <td>India</td>\n",
       "      <td>12485509</td>\n",
       "      <td>164623</td>\n",
       "      <td>12392260</td>\n",
       "      <td>164110</td>\n",
       "      <td>93249</td>\n",
       "      <td>513</td>\n",
       "      <td>1.32</td>\n",
       "      <td>Asia</td>\n",
       "    </tr>\n",
       "    <tr>\n",
       "      <th>3</th>\n",
       "      <td>France</td>\n",
       "      <td>4802545</td>\n",
       "      <td>96439</td>\n",
       "      <td>4802457</td>\n",
       "      <td>96438</td>\n",
       "      <td>88</td>\n",
       "      <td>1</td>\n",
       "      <td>2.01</td>\n",
       "      <td>Europe</td>\n",
       "    </tr>\n",
       "    <tr>\n",
       "      <th>4</th>\n",
       "      <td>Russia</td>\n",
       "      <td>4520879</td>\n",
       "      <td>98363</td>\n",
       "      <td>4511973</td>\n",
       "      <td>97986</td>\n",
       "      <td>8906</td>\n",
       "      <td>377</td>\n",
       "      <td>2.18</td>\n",
       "      <td>Europe</td>\n",
       "    </tr>\n",
       "  </tbody>\n",
       "</table>\n",
       "</div>"
      ],
      "text/plain": [
       "  Country/Region     Cases  Deaths    PCases  PDeaths  Cases (+)  Deaths (+)  \\\n",
       "0             US  30671844  554779  30609690   554103      62154         676   \n",
       "1         Brazil  12953597  330193  12910082   328206      43515        1987   \n",
       "2          India  12485509  164623  12392260   164110      93249         513   \n",
       "3         France   4802545   96439   4802457    96438         88           1   \n",
       "4         Russia   4520879   98363   4511973    97986       8906         377   \n",
       "\n",
       "   Fatality Rate      Continent  \n",
       "0           1.81  North America  \n",
       "1           2.55  South America  \n",
       "2           1.32           Asia  \n",
       "3           2.01         Europe  \n",
       "4           2.18         Europe  "
      ]
     },
     "execution_count": 13,
     "metadata": {},
     "output_type": "execute_result"
    }
   ],
   "source": [
    "#hide\n",
    "for c in 'Cases, Deaths'.split(', '):\n",
    "    df_table[f'{c} (+)'] = (df_table[c] - df_table[f'P{c}']).clip(0)\n",
    "    #Clip ça veut dire, les chiffres negatif sont interdit\n",
    "df_table['Fatality Rate'] = (100* df_table['Deaths']/ df_table['Cases']).round(2)\n",
    "df_table['Continent'] = df_table['Country/Region'].map(mapping['map.continent'])\n",
    "df_table.head(5)"
   ]
  },
  {
   "cell_type": "code",
   "execution_count": 14,
   "id": "aboriginal-bulgaria",
   "metadata": {
    "execution": {
     "iopub.execute_input": "2021-04-04T12:04:13.026961Z",
     "iopub.status.busy": "2021-04-04T12:04:13.026330Z",
     "iopub.status.idle": "2021-04-04T12:04:13.029843Z",
     "shell.execute_reply": "2021-04-04T12:04:13.029361Z"
    },
    "papermill": {
     "duration": 0.044206,
     "end_time": "2021-04-04T12:04:13.029947",
     "exception": false,
     "start_time": "2021-04-04T12:04:12.985741",
     "status": "completed"
    },
    "tags": []
   },
   "outputs": [],
   "source": [
    "#hide\n",
    "#delete problematic countries from table\n",
    "df_table = df_table[~df_table['Country/Region'].isin(['Cape Verde', 'Cruise Ship', 'Kosovo'])]"
   ]
  },
  {
   "cell_type": "code",
   "execution_count": 15,
   "id": "fantastic-effect",
   "metadata": {
    "execution": {
     "iopub.execute_input": "2021-04-04T12:04:13.111798Z",
     "iopub.status.busy": "2021-04-04T12:04:13.111194Z",
     "iopub.status.idle": "2021-04-04T12:04:13.134647Z",
     "shell.execute_reply": "2021-04-04T12:04:13.134120Z"
    },
    "papermill": {
     "duration": 0.069193,
     "end_time": "2021-04-04T12:04:13.134760",
     "exception": false,
     "start_time": "2021-04-04T12:04:13.065567",
     "status": "completed"
    },
    "tags": []
   },
   "outputs": [
    {
     "data": {
      "text/html": [
       "<div>\n",
       "<style scoped>\n",
       "    .dataframe tbody tr th:only-of-type {\n",
       "        vertical-align: middle;\n",
       "    }\n",
       "\n",
       "    .dataframe tbody tr th {\n",
       "        vertical-align: top;\n",
       "    }\n",
       "\n",
       "    .dataframe thead th {\n",
       "        text-align: right;\n",
       "    }\n",
       "</style>\n",
       "<table border=\"1\" class=\"dataframe\">\n",
       "  <thead>\n",
       "    <tr style=\"text-align: right;\">\n",
       "      <th></th>\n",
       "      <th>Country/Region</th>\n",
       "      <th>Cases</th>\n",
       "      <th>Deaths</th>\n",
       "      <th>PCases</th>\n",
       "      <th>PDeaths</th>\n",
       "      <th>Cases (+)</th>\n",
       "      <th>Deaths (+)</th>\n",
       "      <th>Fatality Rate</th>\n",
       "      <th>Continent</th>\n",
       "    </tr>\n",
       "  </thead>\n",
       "  <tbody>\n",
       "    <tr>\n",
       "      <th>0</th>\n",
       "      <td>US</td>\n",
       "      <td>30671844</td>\n",
       "      <td>554779</td>\n",
       "      <td>30609690</td>\n",
       "      <td>554103</td>\n",
       "      <td>62154</td>\n",
       "      <td>676</td>\n",
       "      <td>1.8</td>\n",
       "      <td>North America</td>\n",
       "    </tr>\n",
       "    <tr>\n",
       "      <th>1</th>\n",
       "      <td>Brazil</td>\n",
       "      <td>12953597</td>\n",
       "      <td>330193</td>\n",
       "      <td>12910082</td>\n",
       "      <td>328206</td>\n",
       "      <td>43515</td>\n",
       "      <td>1987</td>\n",
       "      <td>2.5</td>\n",
       "      <td>South America</td>\n",
       "    </tr>\n",
       "    <tr>\n",
       "      <th>2</th>\n",
       "      <td>India</td>\n",
       "      <td>12485509</td>\n",
       "      <td>164623</td>\n",
       "      <td>12392260</td>\n",
       "      <td>164110</td>\n",
       "      <td>93249</td>\n",
       "      <td>513</td>\n",
       "      <td>1.3</td>\n",
       "      <td>Asia</td>\n",
       "    </tr>\n",
       "    <tr>\n",
       "      <th>3</th>\n",
       "      <td>France</td>\n",
       "      <td>4802545</td>\n",
       "      <td>96439</td>\n",
       "      <td>4802457</td>\n",
       "      <td>96438</td>\n",
       "      <td>88</td>\n",
       "      <td>1</td>\n",
       "      <td>2.0</td>\n",
       "      <td>Europe</td>\n",
       "    </tr>\n",
       "    <tr>\n",
       "      <th>4</th>\n",
       "      <td>Russia</td>\n",
       "      <td>4520879</td>\n",
       "      <td>98363</td>\n",
       "      <td>4511973</td>\n",
       "      <td>97986</td>\n",
       "      <td>8906</td>\n",
       "      <td>377</td>\n",
       "      <td>2.2</td>\n",
       "      <td>Europe</td>\n",
       "    </tr>\n",
       "  </tbody>\n",
       "</table>\n",
       "</div>"
      ],
      "text/plain": [
       "  Country/Region     Cases  Deaths    PCases  PDeaths  Cases (+)  Deaths (+)  \\\n",
       "0             US  30671844  554779  30609690   554103      62154         676   \n",
       "1         Brazil  12953597  330193  12910082   328206      43515        1987   \n",
       "2          India  12485509  164623  12392260   164110      93249         513   \n",
       "3         France   4802545   96439   4802457    96438         88           1   \n",
       "4         Russia   4520879   98363   4511973    97986       8906         377   \n",
       "\n",
       "   Fatality Rate      Continent  \n",
       "0            1.8  North America  \n",
       "1            2.5  South America  \n",
       "2            1.3           Asia  \n",
       "3            2.0         Europe  \n",
       "4            2.2         Europe  "
      ]
     },
     "execution_count": 15,
     "metadata": {},
     "output_type": "execute_result"
    }
   ],
   "source": [
    "#hide\n",
    "df_table = (pd.DataFrame(dict(Cases=dfc_cases, Deaths=dfc_deaths, PCases=dfp_cases, PDeaths=dfp_deaths))\n",
    "             .sort_values(by=['Cases', 'Deaths'], ascending=[False, False])\n",
    "             .reset_index())\n",
    "df_table.rename(columns={'index': 'Country/Region'}, inplace=True)\n",
    "for c in 'Cases, Deaths'.split(', '):\n",
    "    df_table[f'{c} (+)'] = (df_table[c] - df_table[f'P{c}']).clip(0)  # DATA BUG\n",
    "df_table['Fatality Rate'] = (100 * df_table['Deaths'] / df_table['Cases']).round(1)\n",
    "df_table['Continent'] = df_table['Country/Region'].map(mapping['map.continent'])\n",
    "df_table.head(5)"
   ]
  },
  {
   "cell_type": "code",
   "execution_count": 16,
   "id": "fewer-occasion",
   "metadata": {
    "execution": {
     "iopub.execute_input": "2021-04-04T12:04:13.212441Z",
     "iopub.status.busy": "2021-04-04T12:04:13.211843Z",
     "iopub.status.idle": "2021-04-04T12:04:13.215146Z",
     "shell.execute_reply": "2021-04-04T12:04:13.214675Z"
    },
    "papermill": {
     "duration": 0.044769,
     "end_time": "2021-04-04T12:04:13.215252",
     "exception": false,
     "start_time": "2021-04-04T12:04:13.170483",
     "status": "completed"
    },
    "tags": []
   },
   "outputs": [],
   "source": [
    "#hide\n",
    "#delete problematic countries from table\n",
    "df_table = df_table[~df_table['Country/Region'].isin(['Cape Verde', 'Cruise Ship', 'Kosovo'])]"
   ]
  },
  {
   "cell_type": "code",
   "execution_count": 17,
   "id": "related-center",
   "metadata": {
    "execution": {
     "iopub.execute_input": "2021-04-04T12:04:13.296302Z",
     "iopub.status.busy": "2021-04-04T12:04:13.295643Z",
     "iopub.status.idle": "2021-04-04T12:04:13.310521Z",
     "shell.execute_reply": "2021-04-04T12:04:13.311133Z"
    },
    "papermill": {
     "duration": 0.059886,
     "end_time": "2021-04-04T12:04:13.311254",
     "exception": false,
     "start_time": "2021-04-04T12:04:13.251368",
     "status": "completed"
    },
    "tags": []
   },
   "outputs": [],
   "source": [
    "#hide\n",
    "metrics = [df_table.columns[index] for index in [1,2,5,6]]\n",
    "# s_china = df_table[df_table['Country/Region'].eq('China')][metrics].sum().add_prefix('China ')\n",
    "s_us = df_table[df_table['Country/Region'].eq('US')][metrics].sum().add_prefix('US ')\n",
    "s_eu = df_table[df_table['Continent'].eq('Europe')][metrics].sum().add_prefix('EU ')\n",
    "s_ind = df_table[df_table['Country/Region'].eq('India')][metrics].sum().add_prefix('India ')\n",
    "summary = {'updated': pd.to_datetime(dt_today), 'since': pd.to_datetime(dt_yday)}\n",
    "summary = {'updated': pd.to_datetime(dt_today), 'since': pd.to_datetime(dt_yday)}\n",
    "summary = {**summary, **df_table[metrics].sum(), **s_ind, **s_us, **s_eu}"
   ]
  },
  {
   "cell_type": "code",
   "execution_count": 18,
   "id": "engaging-syndrome",
   "metadata": {
    "execution": {
     "iopub.execute_input": "2021-04-04T12:04:13.394251Z",
     "iopub.status.busy": "2021-04-04T12:04:13.393399Z",
     "iopub.status.idle": "2021-04-04T12:04:13.405589Z",
     "shell.execute_reply": "2021-04-04T12:04:13.406154Z"
    },
    "papermill": {
     "duration": 0.057386,
     "end_time": "2021-04-04T12:04:13.406287",
     "exception": false,
     "start_time": "2021-04-04T12:04:13.348901",
     "status": "completed"
    },
    "tags": []
   },
   "outputs": [],
   "source": [
    "#hide\n",
    "dft_ct_new_cases = dft_cases.groupby(COL_REGION)[dt_cols].sum().diff(axis=1).fillna(0).astype(int)"
   ]
  },
  {
   "cell_type": "code",
   "execution_count": 19,
   "id": "neutral-assignment",
   "metadata": {
    "execution": {
     "iopub.execute_input": "2021-04-04T12:04:13.486242Z",
     "iopub.status.busy": "2021-04-04T12:04:13.485674Z",
     "iopub.status.idle": "2021-04-04T12:04:13.487586Z",
     "shell.execute_reply": "2021-04-04T12:04:13.488206Z"
    },
    "papermill": {
     "duration": 0.044289,
     "end_time": "2021-04-04T12:04:13.488356",
     "exception": false,
     "start_time": "2021-04-04T12:04:13.444067",
     "status": "completed"
    },
    "tags": []
   },
   "outputs": [],
   "source": [
    "#hide\n",
    "everydaycases = dft_ct_new_cases.cumsum(axis=1)"
   ]
  },
  {
   "cell_type": "code",
   "execution_count": 20,
   "id": "parliamentary-calgary",
   "metadata": {
    "execution": {
     "iopub.execute_input": "2021-04-04T12:04:13.571111Z",
     "iopub.status.busy": "2021-04-04T12:04:13.570420Z",
     "iopub.status.idle": "2021-04-04T12:04:16.597558Z",
     "shell.execute_reply": "2021-04-04T12:04:16.597060Z"
    },
    "papermill": {
     "duration": 3.070959,
     "end_time": "2021-04-04T12:04:16.597685",
     "exception": false,
     "start_time": "2021-04-04T12:04:13.526726",
     "status": "completed"
    },
    "tags": []
   },
   "outputs": [],
   "source": [
    "#hide\n",
    "import pandas as pd\n",
    "import matplotlib.pyplot as plt\n",
    "import matplotlib.ticker as ticker\n",
    "import matplotlib.animation as animation\n",
    "from IPython.display import HTML"
   ]
  },
  {
   "cell_type": "code",
   "execution_count": 21,
   "id": "lasting-extraction",
   "metadata": {
    "execution": {
     "iopub.execute_input": "2021-04-04T12:04:16.683721Z",
     "iopub.status.busy": "2021-04-04T12:04:16.683039Z",
     "iopub.status.idle": "2021-04-04T12:04:16.688243Z",
     "shell.execute_reply": "2021-04-04T12:04:16.689056Z"
    },
    "papermill": {
     "duration": 0.052484,
     "end_time": "2021-04-04T12:04:16.689187",
     "exception": false,
     "start_time": "2021-04-04T12:04:16.636703",
     "status": "completed"
    },
    "tags": []
   },
   "outputs": [],
   "source": [
    "#hide\n",
    "t = everydaycases.stack()"
   ]
  },
  {
   "cell_type": "code",
   "execution_count": 22,
   "id": "premier-sleeve",
   "metadata": {
    "execution": {
     "iopub.execute_input": "2021-04-04T12:04:16.775164Z",
     "iopub.status.busy": "2021-04-04T12:04:16.774573Z",
     "iopub.status.idle": "2021-04-04T12:04:16.782422Z",
     "shell.execute_reply": "2021-04-04T12:04:16.781917Z"
    },
    "papermill": {
     "duration": 0.049705,
     "end_time": "2021-04-04T12:04:16.782556",
     "exception": false,
     "start_time": "2021-04-04T12:04:16.732851",
     "status": "completed"
    },
    "tags": []
   },
   "outputs": [],
   "source": [
    "#hide\n",
    "g = t.reset_index(['Country/Region'])"
   ]
  },
  {
   "cell_type": "code",
   "execution_count": 23,
   "id": "distributed-pittsburgh",
   "metadata": {
    "execution": {
     "iopub.execute_input": "2021-04-04T12:04:16.862655Z",
     "iopub.status.busy": "2021-04-04T12:04:16.862036Z",
     "iopub.status.idle": "2021-04-04T12:04:16.864510Z",
     "shell.execute_reply": "2021-04-04T12:04:16.863953Z"
    },
    "papermill": {
     "duration": 0.044381,
     "end_time": "2021-04-04T12:04:16.864621",
     "exception": false,
     "start_time": "2021-04-04T12:04:16.820240",
     "status": "completed"
    },
    "tags": []
   },
   "outputs": [],
   "source": [
    "#hide\n",
    "g.index.name = 'date'"
   ]
  },
  {
   "cell_type": "code",
   "execution_count": 24,
   "id": "naked-donor",
   "metadata": {
    "execution": {
     "iopub.execute_input": "2021-04-04T12:04:16.944228Z",
     "iopub.status.busy": "2021-04-04T12:04:16.943359Z",
     "iopub.status.idle": "2021-04-04T12:04:16.946167Z",
     "shell.execute_reply": "2021-04-04T12:04:16.945600Z"
    },
    "papermill": {
     "duration": 0.044611,
     "end_time": "2021-04-04T12:04:16.946285",
     "exception": false,
     "start_time": "2021-04-04T12:04:16.901674",
     "status": "completed"
    },
    "tags": []
   },
   "outputs": [],
   "source": [
    "# #hide\n",
    "# g = g.reset_index(['date'])"
   ]
  },
  {
   "cell_type": "code",
   "execution_count": 25,
   "id": "incomplete-mustang",
   "metadata": {
    "execution": {
     "iopub.execute_input": "2021-04-04T12:04:17.028693Z",
     "iopub.status.busy": "2021-04-04T12:04:17.028009Z",
     "iopub.status.idle": "2021-04-04T12:04:17.030122Z",
     "shell.execute_reply": "2021-04-04T12:04:17.030689Z"
    },
    "papermill": {
     "duration": 0.044759,
     "end_time": "2021-04-04T12:04:17.030839",
     "exception": false,
     "start_time": "2021-04-04T12:04:16.986080",
     "status": "completed"
    },
    "tags": []
   },
   "outputs": [],
   "source": [
    "#hide\n",
    "# g.head()"
   ]
  },
  {
   "cell_type": "code",
   "execution_count": 26,
   "id": "specific-kruger",
   "metadata": {
    "execution": {
     "iopub.execute_input": "2021-04-04T12:04:17.109037Z",
     "iopub.status.busy": "2021-04-04T12:04:17.108439Z",
     "iopub.status.idle": "2021-04-04T12:04:17.110873Z",
     "shell.execute_reply": "2021-04-04T12:04:17.110289Z"
    },
    "papermill": {
     "duration": 0.043175,
     "end_time": "2021-04-04T12:04:17.110977",
     "exception": false,
     "start_time": "2021-04-04T12:04:17.067802",
     "status": "completed"
    },
    "tags": []
   },
   "outputs": [],
   "source": [
    "#hide\n",
    "# g.columns = ['date','country','cases']"
   ]
  },
  {
   "cell_type": "code",
   "execution_count": 27,
   "id": "tender-conversion",
   "metadata": {
    "execution": {
     "iopub.execute_input": "2021-04-04T12:04:17.191108Z",
     "iopub.status.busy": "2021-04-04T12:04:17.190524Z",
     "iopub.status.idle": "2021-04-04T12:04:17.193051Z",
     "shell.execute_reply": "2021-04-04T12:04:17.192424Z"
    },
    "papermill": {
     "duration": 0.043286,
     "end_time": "2021-04-04T12:04:17.193158",
     "exception": false,
     "start_time": "2021-04-04T12:04:17.149872",
     "status": "completed"
    },
    "tags": []
   },
   "outputs": [],
   "source": [
    "#hide\n",
    "# g['continent'] = g.country"
   ]
  },
  {
   "cell_type": "code",
   "execution_count": 28,
   "id": "substantial-wilderness",
   "metadata": {
    "execution": {
     "iopub.execute_input": "2021-04-04T12:04:17.273554Z",
     "iopub.status.busy": "2021-04-04T12:04:17.272941Z",
     "iopub.status.idle": "2021-04-04T12:04:17.275389Z",
     "shell.execute_reply": "2021-04-04T12:04:17.274883Z"
    },
    "papermill": {
     "duration": 0.044658,
     "end_time": "2021-04-04T12:04:17.275516",
     "exception": false,
     "start_time": "2021-04-04T12:04:17.230858",
     "status": "completed"
    },
    "tags": []
   },
   "outputs": [],
   "source": [
    "#hide\n",
    "# cols = list(g.columns.values)"
   ]
  },
  {
   "cell_type": "code",
   "execution_count": 29,
   "id": "solved-farming",
   "metadata": {
    "execution": {
     "iopub.execute_input": "2021-04-04T12:04:17.354683Z",
     "iopub.status.busy": "2021-04-04T12:04:17.354094Z",
     "iopub.status.idle": "2021-04-04T12:04:17.356029Z",
     "shell.execute_reply": "2021-04-04T12:04:17.356613Z"
    },
    "papermill": {
     "duration": 0.043116,
     "end_time": "2021-04-04T12:04:17.356740",
     "exception": false,
     "start_time": "2021-04-04T12:04:17.313624",
     "status": "completed"
    },
    "tags": []
   },
   "outputs": [],
   "source": [
    "#hide\n",
    "# cols.insert(0, cols.pop())"
   ]
  },
  {
   "cell_type": "code",
   "execution_count": 30,
   "id": "executed-adoption",
   "metadata": {
    "execution": {
     "iopub.execute_input": "2021-04-04T12:04:17.441996Z",
     "iopub.status.busy": "2021-04-04T12:04:17.441307Z",
     "iopub.status.idle": "2021-04-04T12:04:17.446044Z",
     "shell.execute_reply": "2021-04-04T12:04:17.445472Z"
    },
    "papermill": {
     "duration": 0.047389,
     "end_time": "2021-04-04T12:04:17.446168",
     "exception": false,
     "start_time": "2021-04-04T12:04:17.398779",
     "status": "completed"
    },
    "tags": []
   },
   "outputs": [],
   "source": [
    "#hide\n",
    "# g = g[cols]"
   ]
  },
  {
   "cell_type": "code",
   "execution_count": 31,
   "id": "subject-dublin",
   "metadata": {
    "execution": {
     "iopub.execute_input": "2021-04-04T12:04:17.527289Z",
     "iopub.status.busy": "2021-04-04T12:04:17.526670Z",
     "iopub.status.idle": "2021-04-04T12:04:17.529432Z",
     "shell.execute_reply": "2021-04-04T12:04:17.528908Z"
    },
    "papermill": {
     "duration": 0.045898,
     "end_time": "2021-04-04T12:04:17.529544",
     "exception": false,
     "start_time": "2021-04-04T12:04:17.483646",
     "status": "completed"
    },
    "tags": []
   },
   "outputs": [],
   "source": [
    "#hide\n",
    "# g['continent'] = g['continent'].map(mapping['map.continent'])"
   ]
  },
  {
   "cell_type": "code",
   "execution_count": 32,
   "id": "freelance-scout",
   "metadata": {
    "execution": {
     "iopub.execute_input": "2021-04-04T12:04:17.608240Z",
     "iopub.status.busy": "2021-04-04T12:04:17.607666Z",
     "iopub.status.idle": "2021-04-04T12:04:17.610074Z",
     "shell.execute_reply": "2021-04-04T12:04:17.609532Z"
    },
    "papermill": {
     "duration": 0.043332,
     "end_time": "2021-04-04T12:04:17.610226",
     "exception": false,
     "start_time": "2021-04-04T12:04:17.566894",
     "status": "completed"
    },
    "tags": []
   },
   "outputs": [],
   "source": [
    "#hide\n",
    "# g.head()"
   ]
  },
  {
   "cell_type": "code",
   "execution_count": 33,
   "id": "limited-engine",
   "metadata": {
    "execution": {
     "iopub.execute_input": "2021-04-04T12:04:17.690451Z",
     "iopub.status.busy": "2021-04-04T12:04:17.689750Z",
     "iopub.status.idle": "2021-04-04T12:04:17.692199Z",
     "shell.execute_reply": "2021-04-04T12:04:17.692749Z"
    },
    "papermill": {
     "duration": 0.044627,
     "end_time": "2021-04-04T12:04:17.692876",
     "exception": false,
     "start_time": "2021-04-04T12:04:17.648249",
     "status": "completed"
    },
    "tags": []
   },
   "outputs": [],
   "source": [
    "# hide\n",
    "# g['date'] = g['date'].astype('datetime64[ns]')"
   ]
  },
  {
   "cell_type": "code",
   "execution_count": 34,
   "id": "sophisticated-supervisor",
   "metadata": {
    "execution": {
     "iopub.execute_input": "2021-04-04T12:04:17.788275Z",
     "iopub.status.busy": "2021-04-04T12:04:17.787427Z",
     "iopub.status.idle": "2021-04-04T12:04:17.789944Z",
     "shell.execute_reply": "2021-04-04T12:04:17.789317Z"
    },
    "papermill": {
     "duration": 0.049561,
     "end_time": "2021-04-04T12:04:17.790067",
     "exception": false,
     "start_time": "2021-04-04T12:04:17.740506",
     "status": "completed"
    },
    "tags": []
   },
   "outputs": [],
   "source": [
    "#hide\n",
    "# g['date'] = g.date.dt.dayofyear"
   ]
  },
  {
   "cell_type": "code",
   "execution_count": 35,
   "id": "inside-dubai",
   "metadata": {
    "execution": {
     "iopub.execute_input": "2021-04-04T12:04:17.870803Z",
     "iopub.status.busy": "2021-04-04T12:04:17.870214Z",
     "iopub.status.idle": "2021-04-04T12:04:17.872387Z",
     "shell.execute_reply": "2021-04-04T12:04:17.872881Z"
    },
    "papermill": {
     "duration": 0.04361,
     "end_time": "2021-04-04T12:04:17.873010",
     "exception": false,
     "start_time": "2021-04-04T12:04:17.829400",
     "status": "completed"
    },
    "tags": []
   },
   "outputs": [],
   "source": [
    "#hide\n",
    "# g = g.rename(columns= {'continent':'group','country':'name','cases':'value'})"
   ]
  },
  {
   "cell_type": "code",
   "execution_count": 36,
   "id": "fleet-motorcycle",
   "metadata": {
    "execution": {
     "iopub.execute_input": "2021-04-04T12:04:17.951031Z",
     "iopub.status.busy": "2021-04-04T12:04:17.950313Z",
     "iopub.status.idle": "2021-04-04T12:04:17.952449Z",
     "shell.execute_reply": "2021-04-04T12:04:17.951821Z"
    },
    "papermill": {
     "duration": 0.04268,
     "end_time": "2021-04-04T12:04:17.952563",
     "exception": false,
     "start_time": "2021-04-04T12:04:17.909883",
     "status": "completed"
    },
    "tags": []
   },
   "outputs": [],
   "source": [
    "#hide\n",
    "# cols = ['name','group','day','value']"
   ]
  },
  {
   "cell_type": "code",
   "execution_count": 37,
   "id": "continued-sleeping",
   "metadata": {
    "execution": {
     "iopub.execute_input": "2021-04-04T12:04:18.033010Z",
     "iopub.status.busy": "2021-04-04T12:04:18.032402Z",
     "iopub.status.idle": "2021-04-04T12:04:18.034792Z",
     "shell.execute_reply": "2021-04-04T12:04:18.034271Z"
    },
    "papermill": {
     "duration": 0.043493,
     "end_time": "2021-04-04T12:04:18.034926",
     "exception": false,
     "start_time": "2021-04-04T12:04:17.991433",
     "status": "completed"
    },
    "tags": []
   },
   "outputs": [],
   "source": [
    "#hide\n",
    "# g.rename(columns= {'date':'day'},inplace = True)"
   ]
  },
  {
   "cell_type": "code",
   "execution_count": 38,
   "id": "major-fight",
   "metadata": {
    "execution": {
     "iopub.execute_input": "2021-04-04T12:04:18.113844Z",
     "iopub.status.busy": "2021-04-04T12:04:18.113228Z",
     "iopub.status.idle": "2021-04-04T12:04:18.116195Z",
     "shell.execute_reply": "2021-04-04T12:04:18.115422Z"
    },
    "papermill": {
     "duration": 0.043325,
     "end_time": "2021-04-04T12:04:18.116377",
     "exception": false,
     "start_time": "2021-04-04T12:04:18.073052",
     "status": "completed"
    },
    "tags": []
   },
   "outputs": [],
   "source": [
    "#hide\n",
    "# g = g[cols]"
   ]
  },
  {
   "cell_type": "code",
   "execution_count": 39,
   "id": "structured-mobile",
   "metadata": {
    "execution": {
     "iopub.execute_input": "2021-04-04T12:04:18.208246Z",
     "iopub.status.busy": "2021-04-04T12:04:18.207481Z",
     "iopub.status.idle": "2021-04-04T12:04:18.210916Z",
     "shell.execute_reply": "2021-04-04T12:04:18.210320Z"
    },
    "papermill": {
     "duration": 0.048046,
     "end_time": "2021-04-04T12:04:18.211042",
     "exception": false,
     "start_time": "2021-04-04T12:04:18.162996",
     "status": "completed"
    },
    "tags": []
   },
   "outputs": [],
   "source": [
    "# #hide\n",
    "# g = g[g.group.notna()]"
   ]
  },
  {
   "cell_type": "code",
   "execution_count": 40,
   "id": "determined-closing",
   "metadata": {
    "execution": {
     "iopub.execute_input": "2021-04-04T12:04:18.294199Z",
     "iopub.status.busy": "2021-04-04T12:04:18.293626Z",
     "iopub.status.idle": "2021-04-04T12:04:18.296127Z",
     "shell.execute_reply": "2021-04-04T12:04:18.295634Z"
    },
    "papermill": {
     "duration": 0.044657,
     "end_time": "2021-04-04T12:04:18.296327",
     "exception": false,
     "start_time": "2021-04-04T12:04:18.251670",
     "status": "completed"
    },
    "tags": []
   },
   "outputs": [],
   "source": [
    "# #hide\n",
    "# colors = dict(zip(\n",
    "#     [\"Oceania\", \"Europe\", \"Asia\", \"South America\", \"Middle East\", \"North America\", \"Africa\"],\n",
    "#     [\"#adb0ff\", \"#ffb3ff\", \"#90d595\", \"#e48381\", \"#aafbff\", \"#f7bb5f\", \"#eafb50\"]\n",
    "# ))\n",
    "# group_lk = g.set_index('name')['group'].to_dict()"
   ]
  },
  {
   "cell_type": "code",
   "execution_count": null,
   "id": "gross-drinking",
   "metadata": {
    "papermill": {
     "duration": 0.040678,
     "end_time": "2021-04-04T12:04:18.378802",
     "exception": false,
     "start_time": "2021-04-04T12:04:18.338124",
     "status": "completed"
    },
    "tags": []
   },
   "outputs": [],
   "source": []
  },
  {
   "cell_type": "code",
   "execution_count": 41,
   "id": "subject-macintosh",
   "metadata": {
    "execution": {
     "iopub.execute_input": "2021-04-04T12:04:18.459461Z",
     "iopub.status.busy": "2021-04-04T12:04:18.458722Z",
     "iopub.status.idle": "2021-04-04T12:04:18.463213Z",
     "shell.execute_reply": "2021-04-04T12:04:18.463705Z"
    },
    "papermill": {
     "duration": 0.04736,
     "end_time": "2021-04-04T12:04:18.463871",
     "exception": false,
     "start_time": "2021-04-04T12:04:18.416511",
     "status": "completed"
    },
    "tags": []
   },
   "outputs": [],
   "source": [
    "# #hide\n",
    "# fig, ax = plt.subplots(figsize=(15, 8))\n",
    "\n",
    "# def draw_barchart(current_day):\n",
    "#     dff = g[g['day'].eq(current_day)].sort_values(by='value', ascending=True).tail(10)\n",
    "#     ax.clear()\n",
    "#     ax.barh(dff['name'], dff['value'], color=[colors[group_lk[x]] for x in dff['name']])\n",
    "#     dx = dff['value'].max() / 200\n",
    "    \n",
    "#     for i, (value, name) in enumerate(zip(dff['value'], dff['name'])):\n",
    "#         ax.text(value-dx, i,     name,           size=14, weight=600, ha='right', va='bottom')\n",
    "#         ax.text(value-dx, i-.25, group_lk[name], size=10, color='#444444', ha='right', va='baseline')\n",
    "#         ax.text(value+dx, i,     f'{value:,.0f}',  size=14, ha='left',  va='center')\n",
    "#     ax.text(1, 0.4, current_day, transform=ax.transAxes, color='#777777', size=46, ha='right', weight=800)\n",
    "#     ax.text(0, 1.06, 'Population (thousands)', transform=ax.transAxes, size=12, color='#777777')\n",
    "#     ax.xaxis.set_major_formatter(ticker.StrMethodFormatter('{x:,.0f}'))\n",
    "#     ax.xaxis.set_ticks_position('top')\n",
    "#     ax.tick_params(axis='x', colors='#777777', labelsize=12)\n",
    "#     ax.set_yticks([])\n",
    "#     ax.margins(0, 0.01)\n",
    "#     ax.grid(which='major', axis='x', linestyle='-')\n",
    "#     ax.set_axisbelow(True)\n",
    "    \n",
    "#     ax.text(0, 1.15, 'Coronavirus',\n",
    "#             transform=ax.transAxes, size=24, weight=600, ha='left', va='top')\n",
    "# #     ax.text(1, 0, 'by @pratapvardhan; credit @jburnmurdoch', transform=ax.transAxes, color='#777777', ha='right',\n",
    "# #             bbox=dict(facecolor='white', alpha=0.8, edgecolor='white'))\n",
    "#     plt.box(False)"
   ]
  },
  {
   "cell_type": "code",
   "execution_count": 42,
   "id": "sexual-wages",
   "metadata": {
    "execution": {
     "iopub.execute_input": "2021-04-04T12:04:18.545916Z",
     "iopub.status.busy": "2021-04-04T12:04:18.544447Z",
     "iopub.status.idle": "2021-04-04T12:04:18.546640Z",
     "shell.execute_reply": "2021-04-04T12:04:18.547163Z"
    },
    "papermill": {
     "duration": 0.045143,
     "end_time": "2021-04-04T12:04:18.547291",
     "exception": false,
     "start_time": "2021-04-04T12:04:18.502148",
     "status": "completed"
    },
    "tags": []
   },
   "outputs": [],
   "source": [
    "# #hide_input\n",
    "# fig, ax = plt.subplots(figsize=(15, 8))\n",
    "# animator = animation.FuncAnimation(fig, draw_barchart, frames=range(g.day.values.min(), g.day.values.max()))\n",
    "# HTML(animator.to_jshtml())\n",
    "# # or use animator.to_html5_video() or animator.save() "
   ]
  },
  {
   "cell_type": "code",
   "execution_count": null,
   "id": "australian-container",
   "metadata": {
    "papermill": {
     "duration": 0.03625,
     "end_time": "2021-04-04T12:04:18.621119",
     "exception": false,
     "start_time": "2021-04-04T12:04:18.584869",
     "status": "completed"
    },
    "tags": []
   },
   "outputs": [],
   "source": []
  },
  {
   "cell_type": "code",
   "execution_count": null,
   "id": "mediterranean-pontiac",
   "metadata": {
    "papermill": {
     "duration": 0.040669,
     "end_time": "2021-04-04T12:04:18.698777",
     "exception": false,
     "start_time": "2021-04-04T12:04:18.658108",
     "status": "completed"
    },
    "tags": []
   },
   "outputs": [],
   "source": []
  },
  {
   "cell_type": "code",
   "execution_count": null,
   "id": "aging-legislature",
   "metadata": {
    "papermill": {
     "duration": 0.039534,
     "end_time": "2021-04-04T12:04:18.779367",
     "exception": false,
     "start_time": "2021-04-04T12:04:18.739833",
     "status": "completed"
    },
    "tags": []
   },
   "outputs": [],
   "source": []
  }
 ],
 "metadata": {
  "kernelspec": {
   "display_name": "Python 3",
   "language": "python",
   "name": "python3"
  },
  "language_info": {
   "codemirror_mode": {
    "name": "ipython",
    "version": 3
   },
   "file_extension": ".py",
   "mimetype": "text/x-python",
   "name": "python",
   "nbconvert_exporter": "python",
   "pygments_lexer": "ipython3",
   "version": "3.6.13"
  },
  "papermill": {
   "duration": 9.115937,
   "end_time": "2021-04-04T12:04:19.126369",
   "environment_variables": {},
   "exception": null,
   "input_path": "2020-03-21-covid19exp.ipynb",
   "output_path": "2020-03-21-covid19exp.ipynb",
   "parameters": {},
   "start_time": "2021-04-04T12:04:10.010432",
   "version": "2.0.0"
  }
 },
 "nbformat": 4,
 "nbformat_minor": 5
}