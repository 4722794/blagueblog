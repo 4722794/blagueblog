{
 "cells": [
  {
   "cell_type": "markdown",
   "id": "muslim-click",
   "metadata": {
    "papermill": {
     "duration": 0.04226,
     "end_time": "2021-04-08T00:07:58.116871",
     "exception": false,
     "start_time": "2021-04-08T00:07:58.074611",
     "status": "completed"
    },
    "tags": []
   },
   "source": [
    "# COVID-19 Case Race\n",
    "> A race chart to see rising cases around the world\n",
    "\n",
    "- author: Hargun Oberoi\n",
    "- image: images/covid-overview.png\n",
    "- hide: false\n",
    "- badges: false"
   ]
  },
  {
   "cell_type": "code",
   "execution_count": 1,
   "id": "proof-material",
   "metadata": {
    "execution": {
     "iopub.execute_input": "2021-04-08T00:07:58.202751Z",
     "iopub.status.busy": "2021-04-08T00:07:58.202036Z",
     "iopub.status.idle": "2021-04-08T00:07:58.547998Z",
     "shell.execute_reply": "2021-04-08T00:07:58.548638Z"
    },
    "papermill": {
     "duration": 0.393006,
     "end_time": "2021-04-08T00:07:58.548822",
     "exception": false,
     "start_time": "2021-04-08T00:07:58.155816",
     "status": "completed"
    },
    "tags": []
   },
   "outputs": [],
   "source": [
    "#hide\n",
    "import numpy as np\n",
    "import pandas as pd\n",
    "from jinja2 import Template\n",
    "from IPython.display import HTML"
   ]
  },
  {
   "cell_type": "code",
   "execution_count": 2,
   "id": "developed-terminology",
   "metadata": {
    "execution": {
     "iopub.execute_input": "2021-04-08T00:07:58.625216Z",
     "iopub.status.busy": "2021-04-08T00:07:58.624590Z",
     "iopub.status.idle": "2021-04-08T00:07:58.628401Z",
     "shell.execute_reply": "2021-04-08T00:07:58.627835Z"
    },
    "papermill": {
     "duration": 0.043444,
     "end_time": "2021-04-08T00:07:58.628525",
     "exception": false,
     "start_time": "2021-04-08T00:07:58.585081",
     "status": "completed"
    },
    "tags": []
   },
   "outputs": [],
   "source": [
    "#hide\n",
    "\n",
    "# FETCH\n",
    "base_url = 'https://raw.githubusercontent.com/pratapvardhan/notebooks/master/covid19/'\n",
    "paths = {\n",
    "    'mapping': base_url + 'mapping_countries.csv',\n",
    "    'overview': base_url + 'overview.tpl'\n",
    "}"
   ]
  },
  {
   "cell_type": "code",
   "execution_count": 3,
   "id": "dynamic-saver",
   "metadata": {
    "execution": {
     "iopub.execute_input": "2021-04-08T00:07:58.715327Z",
     "iopub.status.busy": "2021-04-08T00:07:58.714194Z",
     "iopub.status.idle": "2021-04-08T00:07:58.717870Z",
     "shell.execute_reply": "2021-04-08T00:07:58.717391Z"
    },
    "papermill": {
     "duration": 0.050766,
     "end_time": "2021-04-08T00:07:58.717988",
     "exception": false,
     "start_time": "2021-04-08T00:07:58.667222",
     "status": "completed"
    },
    "tags": []
   },
   "outputs": [
    {
     "data": {
      "text/plain": [
       "'https://raw.githubusercontent.com/pratapvardhan/notebooks/master/covid19/mapping_countries.csv'"
      ]
     },
     "execution_count": 3,
     "metadata": {},
     "output_type": "execute_result"
    }
   ],
   "source": [
    "#hide\n",
    "paths['mapping']"
   ]
  },
  {
   "cell_type": "code",
   "execution_count": 4,
   "id": "urban-software",
   "metadata": {
    "execution": {
     "iopub.execute_input": "2021-04-08T00:07:58.799875Z",
     "iopub.status.busy": "2021-04-08T00:07:58.799056Z",
     "iopub.status.idle": "2021-04-08T00:07:58.803314Z",
     "shell.execute_reply": "2021-04-08T00:07:58.802609Z"
    },
    "papermill": {
     "duration": 0.050642,
     "end_time": "2021-04-08T00:07:58.803471",
     "exception": false,
     "start_time": "2021-04-08T00:07:58.752829",
     "status": "completed"
    },
    "tags": []
   },
   "outputs": [],
   "source": [
    "#hide\n",
    "def get_mappings(url):\n",
    "    df = pd.read_csv(url)\n",
    "    return {\n",
    "        'df': df,\n",
    "        'replace.country': dict(df.dropna(subset=['Name']).set_index('Country')['Name']),\n",
    "        'map.continent': dict(df.set_index('Name')['Continent'])\n",
    "    }"
   ]
  },
  {
   "cell_type": "code",
   "execution_count": 5,
   "id": "intimate-machinery",
   "metadata": {
    "execution": {
     "iopub.execute_input": "2021-04-08T00:07:58.882151Z",
     "iopub.status.busy": "2021-04-08T00:07:58.881542Z",
     "iopub.status.idle": "2021-04-08T00:07:58.943639Z",
     "shell.execute_reply": "2021-04-08T00:07:58.943077Z"
    },
    "papermill": {
     "duration": 0.102494,
     "end_time": "2021-04-08T00:07:58.943782",
     "exception": false,
     "start_time": "2021-04-08T00:07:58.841288",
     "status": "completed"
    },
    "tags": []
   },
   "outputs": [],
   "source": [
    "#hide\n",
    "mapping = get_mappings(paths['mapping'])"
   ]
  },
  {
   "cell_type": "code",
   "execution_count": 6,
   "id": "certified-tactics",
   "metadata": {
    "execution": {
     "iopub.execute_input": "2021-04-08T00:07:59.022320Z",
     "iopub.status.busy": "2021-04-08T00:07:59.021670Z",
     "iopub.status.idle": "2021-04-08T00:07:59.025610Z",
     "shell.execute_reply": "2021-04-08T00:07:59.025099Z"
    },
    "papermill": {
     "duration": 0.044089,
     "end_time": "2021-04-08T00:07:59.025728",
     "exception": false,
     "start_time": "2021-04-08T00:07:58.981639",
     "status": "completed"
    },
    "tags": []
   },
   "outputs": [],
   "source": [
    "#hide\n",
    "def get_template(path):\n",
    "    from urllib.parse import urlparse\n",
    "    if bool(urlparse(path).netloc):\n",
    "        from urllib.request import urlopen\n",
    "        return urlopen(path).read().decode('utf8')\n",
    "    return open(path).read()"
   ]
  },
  {
   "cell_type": "code",
   "execution_count": 7,
   "id": "realistic-blast",
   "metadata": {
    "execution": {
     "iopub.execute_input": "2021-04-08T00:07:59.113550Z",
     "iopub.status.busy": "2021-04-08T00:07:59.112922Z",
     "iopub.status.idle": "2021-04-08T00:07:59.116509Z",
     "shell.execute_reply": "2021-04-08T00:07:59.117056Z"
    },
    "papermill": {
     "duration": 0.051249,
     "end_time": "2021-04-08T00:07:59.117203",
     "exception": false,
     "start_time": "2021-04-08T00:07:59.065954",
     "status": "completed"
    },
    "tags": []
   },
   "outputs": [],
   "source": [
    "#hide\n",
    "def get_frame(name):\n",
    "    url = (\n",
    "        'https://raw.githubusercontent.com/CSSEGISandData/COVID-19/master/csse_covid_19_data/'\n",
    "        f'csse_covid_19_time_series/time_series_covid19_{name}_global.csv')\n",
    "    df = pd.read_csv(url)\n",
    "    # rename countries\n",
    "    df['Country/Region'] = df['Country/Region'].replace(mapping['replace.country'])\n",
    "    return df"
   ]
  },
  {
   "cell_type": "code",
   "execution_count": 8,
   "id": "affiliated-characterization",
   "metadata": {
    "execution": {
     "iopub.execute_input": "2021-04-08T00:07:59.198923Z",
     "iopub.status.busy": "2021-04-08T00:07:59.197542Z",
     "iopub.status.idle": "2021-04-08T00:07:59.199636Z",
     "shell.execute_reply": "2021-04-08T00:07:59.200158Z"
    },
    "papermill": {
     "duration": 0.044871,
     "end_time": "2021-04-08T00:07:59.200302",
     "exception": false,
     "start_time": "2021-04-08T00:07:59.155431",
     "status": "completed"
    },
    "tags": []
   },
   "outputs": [],
   "source": [
    "#hide\n",
    "def get_dates(df):\n",
    "    dt_cols = df.columns[~df.columns.isin(['Province/State', 'Country/Region', 'Lat', 'Long'])]\n",
    "    LAST_DATE_I = -1\n",
    "    # sometimes last column may be empty, then go backwards\n",
    "    for i in range(-1, -len(dt_cols), -1):\n",
    "        if not df[dt_cols[i]].fillna(0).eq(0).all():\n",
    "            LAST_DATE_I = i\n",
    "            break\n",
    "    return LAST_DATE_I, dt_cols"
   ]
  },
  {
   "cell_type": "code",
   "execution_count": 9,
   "id": "recent-optimization",
   "metadata": {
    "execution": {
     "iopub.execute_input": "2021-04-08T00:07:59.276693Z",
     "iopub.status.busy": "2021-04-08T00:07:59.275566Z",
     "iopub.status.idle": "2021-04-08T00:07:59.784498Z",
     "shell.execute_reply": "2021-04-08T00:07:59.783951Z"
    },
    "papermill": {
     "duration": 0.548481,
     "end_time": "2021-04-08T00:07:59.784637",
     "exception": false,
     "start_time": "2021-04-08T00:07:59.236156",
     "status": "completed"
    },
    "tags": []
   },
   "outputs": [],
   "source": [
    "#hide\n",
    "COL_REGION = 'Country/Region'\n",
    "# Confirmed, Recovered, Deaths\n",
    "df = get_frame('confirmed')\n",
    "# dft_: timeseries, dfc_: today country agg\n",
    "dft_cases = df\n",
    "dft_deaths = get_frame('deaths')\n",
    "dft_recovered = get_frame('recovered')\n",
    "LAST_DATE_I, dt_cols = get_dates(df)"
   ]
  },
  {
   "cell_type": "code",
   "execution_count": 10,
   "id": "absolute-copper",
   "metadata": {
    "execution": {
     "iopub.execute_input": "2021-04-08T00:07:59.863885Z",
     "iopub.status.busy": "2021-04-08T00:07:59.863249Z",
     "iopub.status.idle": "2021-04-08T00:07:59.865610Z",
     "shell.execute_reply": "2021-04-08T00:07:59.865071Z"
    },
    "papermill": {
     "duration": 0.042024,
     "end_time": "2021-04-08T00:07:59.865743",
     "exception": false,
     "start_time": "2021-04-08T00:07:59.823719",
     "status": "completed"
    },
    "tags": []
   },
   "outputs": [],
   "source": [
    "#hide\n",
    "LAST_DATE_I, dt_cols = get_dates(df)\n",
    "dt_today =dt_cols[LAST_DATE_I]\n",
    "# dt_5day = dt_cols[LAST_DATE_I - 5]\n",
    "dt_yday = dt_cols[LAST_DATE_I - 1]"
   ]
  },
  {
   "cell_type": "code",
   "execution_count": 11,
   "id": "restricted-sheriff",
   "metadata": {
    "execution": {
     "iopub.execute_input": "2021-04-08T00:07:59.952636Z",
     "iopub.status.busy": "2021-04-08T00:07:59.949735Z",
     "iopub.status.idle": "2021-04-08T00:07:59.956532Z",
     "shell.execute_reply": "2021-04-08T00:07:59.956005Z"
    },
    "papermill": {
     "duration": 0.051295,
     "end_time": "2021-04-08T00:07:59.956657",
     "exception": false,
     "start_time": "2021-04-08T00:07:59.905362",
     "status": "completed"
    },
    "tags": []
   },
   "outputs": [],
   "source": [
    "#hide\n",
    "dfc_cases = dft_cases.groupby(COL_REGION)[dt_today].sum()\n",
    "dfc_deaths = dft_deaths.groupby(COL_REGION)[dt_today].sum()\n",
    "# dfp_cases = dft_cases.groupby(COL_REGION)[dt_5day].sum()\n",
    "# dfp_deaths = dft_deaths.groupby(COL_REGION)[dt_5day].sum()\n",
    "dfp_cases = dft_cases.groupby(COL_REGION)[dt_yday].sum()\n",
    "dfp_deaths = dft_deaths.groupby(COL_REGION)[dt_yday].sum()"
   ]
  },
  {
   "cell_type": "code",
   "execution_count": 12,
   "id": "deluxe-hepatitis",
   "metadata": {
    "execution": {
     "iopub.execute_input": "2021-04-08T00:08:00.038273Z",
     "iopub.status.busy": "2021-04-08T00:08:00.037486Z",
     "iopub.status.idle": "2021-04-08T00:08:00.042484Z",
     "shell.execute_reply": "2021-04-08T00:08:00.041821Z"
    },
    "papermill": {
     "duration": 0.051685,
     "end_time": "2021-04-08T00:08:00.042938",
     "exception": false,
     "start_time": "2021-04-08T00:07:59.991253",
     "status": "completed"
    },
    "tags": []
   },
   "outputs": [],
   "source": [
    "#hide\n",
    "df_table = (pd.DataFrame(dict(Cases = dfc_cases, Deaths = dfc_deaths, PCases = dfp_cases, PDeaths = dfp_deaths))\n",
    "            .sort_values(by = ['Cases','Deaths'], ascending = [False, False])\n",
    "            .reset_index())"
   ]
  },
  {
   "cell_type": "code",
   "execution_count": 13,
   "id": "educational-chancellor",
   "metadata": {
    "execution": {
     "iopub.execute_input": "2021-04-08T00:08:00.140466Z",
     "iopub.status.busy": "2021-04-08T00:08:00.139855Z",
     "iopub.status.idle": "2021-04-08T00:08:00.148086Z",
     "shell.execute_reply": "2021-04-08T00:08:00.147477Z"
    },
    "papermill": {
     "duration": 0.066293,
     "end_time": "2021-04-08T00:08:00.148211",
     "exception": false,
     "start_time": "2021-04-08T00:08:00.081918",
     "status": "completed"
    },
    "tags": []
   },
   "outputs": [
    {
     "data": {
      "text/html": [
       "<div>\n",
       "<style scoped>\n",
       "    .dataframe tbody tr th:only-of-type {\n",
       "        vertical-align: middle;\n",
       "    }\n",
       "\n",
       "    .dataframe tbody tr th {\n",
       "        vertical-align: top;\n",
       "    }\n",
       "\n",
       "    .dataframe thead th {\n",
       "        text-align: right;\n",
       "    }\n",
       "</style>\n",
       "<table border=\"1\" class=\"dataframe\">\n",
       "  <thead>\n",
       "    <tr style=\"text-align: right;\">\n",
       "      <th></th>\n",
       "      <th>Country/Region</th>\n",
       "      <th>Cases</th>\n",
       "      <th>Deaths</th>\n",
       "      <th>PCases</th>\n",
       "      <th>PDeaths</th>\n",
       "      <th>Cases (+)</th>\n",
       "      <th>Deaths (+)</th>\n",
       "      <th>Fatality Rate</th>\n",
       "      <th>Continent</th>\n",
       "    </tr>\n",
       "  </thead>\n",
       "  <tbody>\n",
       "    <tr>\n",
       "      <th>0</th>\n",
       "      <td>US</td>\n",
       "      <td>30847348</td>\n",
       "      <td>556546</td>\n",
       "      <td>30785390</td>\n",
       "      <td>555711</td>\n",
       "      <td>61958</td>\n",
       "      <td>835</td>\n",
       "      <td>1.80</td>\n",
       "      <td>North America</td>\n",
       "    </tr>\n",
       "    <tr>\n",
       "      <th>1</th>\n",
       "      <td>Brazil</td>\n",
       "      <td>13100580</td>\n",
       "      <td>336947</td>\n",
       "      <td>13013601</td>\n",
       "      <td>332752</td>\n",
       "      <td>86979</td>\n",
       "      <td>4195</td>\n",
       "      <td>2.57</td>\n",
       "      <td>South America</td>\n",
       "    </tr>\n",
       "    <tr>\n",
       "      <th>2</th>\n",
       "      <td>India</td>\n",
       "      <td>12801785</td>\n",
       "      <td>166177</td>\n",
       "      <td>12686049</td>\n",
       "      <td>165547</td>\n",
       "      <td>115736</td>\n",
       "      <td>630</td>\n",
       "      <td>1.30</td>\n",
       "      <td>Asia</td>\n",
       "    </tr>\n",
       "    <tr>\n",
       "      <th>3</th>\n",
       "      <td>France</td>\n",
       "      <td>4902025</td>\n",
       "      <td>97431</td>\n",
       "      <td>4893971</td>\n",
       "      <td>97005</td>\n",
       "      <td>8054</td>\n",
       "      <td>426</td>\n",
       "      <td>1.99</td>\n",
       "      <td>Europe</td>\n",
       "    </tr>\n",
       "    <tr>\n",
       "      <th>4</th>\n",
       "      <td>Russia</td>\n",
       "      <td>4546307</td>\n",
       "      <td>99431</td>\n",
       "      <td>4538101</td>\n",
       "      <td>99049</td>\n",
       "      <td>8206</td>\n",
       "      <td>382</td>\n",
       "      <td>2.19</td>\n",
       "      <td>Europe</td>\n",
       "    </tr>\n",
       "  </tbody>\n",
       "</table>\n",
       "</div>"
      ],
      "text/plain": [
       "  Country/Region     Cases  Deaths    PCases  PDeaths  Cases (+)  Deaths (+)  \\\n",
       "0             US  30847348  556546  30785390   555711      61958         835   \n",
       "1         Brazil  13100580  336947  13013601   332752      86979        4195   \n",
       "2          India  12801785  166177  12686049   165547     115736         630   \n",
       "3         France   4902025   97431   4893971    97005       8054         426   \n",
       "4         Russia   4546307   99431   4538101    99049       8206         382   \n",
       "\n",
       "   Fatality Rate      Continent  \n",
       "0           1.80  North America  \n",
       "1           2.57  South America  \n",
       "2           1.30           Asia  \n",
       "3           1.99         Europe  \n",
       "4           2.19         Europe  "
      ]
     },
     "execution_count": 13,
     "metadata": {},
     "output_type": "execute_result"
    }
   ],
   "source": [
    "#hide\n",
    "for c in 'Cases, Deaths'.split(', '):\n",
    "    df_table[f'{c} (+)'] = (df_table[c] - df_table[f'P{c}']).clip(0)\n",
    "    #Clip ça veut dire, les chiffres negatif sont interdit\n",
    "df_table['Fatality Rate'] = (100* df_table['Deaths']/ df_table['Cases']).round(2)\n",
    "df_table['Continent'] = df_table['Country/Region'].map(mapping['map.continent'])\n",
    "df_table.head(5)"
   ]
  },
  {
   "cell_type": "code",
   "execution_count": 14,
   "id": "aboriginal-bulgaria",
   "metadata": {
    "execution": {
     "iopub.execute_input": "2021-04-08T00:08:00.221174Z",
     "iopub.status.busy": "2021-04-08T00:08:00.220598Z",
     "iopub.status.idle": "2021-04-08T00:08:00.222981Z",
     "shell.execute_reply": "2021-04-08T00:08:00.222496Z"
    },
    "papermill": {
     "duration": 0.040567,
     "end_time": "2021-04-08T00:08:00.223092",
     "exception": false,
     "start_time": "2021-04-08T00:08:00.182525",
     "status": "completed"
    },
    "tags": []
   },
   "outputs": [],
   "source": [
    "#hide\n",
    "#delete problematic countries from table\n",
    "df_table = df_table[~df_table['Country/Region'].isin(['Cape Verde', 'Cruise Ship', 'Kosovo'])]"
   ]
  },
  {
   "cell_type": "code",
   "execution_count": 15,
   "id": "fantastic-effect",
   "metadata": {
    "execution": {
     "iopub.execute_input": "2021-04-08T00:08:00.304409Z",
     "iopub.status.busy": "2021-04-08T00:08:00.303745Z",
     "iopub.status.idle": "2021-04-08T00:08:00.325897Z",
     "shell.execute_reply": "2021-04-08T00:08:00.326395Z"
    },
    "papermill": {
     "duration": 0.067622,
     "end_time": "2021-04-08T00:08:00.326534",
     "exception": false,
     "start_time": "2021-04-08T00:08:00.258912",
     "status": "completed"
    },
    "tags": []
   },
   "outputs": [
    {
     "data": {
      "text/html": [
       "<div>\n",
       "<style scoped>\n",
       "    .dataframe tbody tr th:only-of-type {\n",
       "        vertical-align: middle;\n",
       "    }\n",
       "\n",
       "    .dataframe tbody tr th {\n",
       "        vertical-align: top;\n",
       "    }\n",
       "\n",
       "    .dataframe thead th {\n",
       "        text-align: right;\n",
       "    }\n",
       "</style>\n",
       "<table border=\"1\" class=\"dataframe\">\n",
       "  <thead>\n",
       "    <tr style=\"text-align: right;\">\n",
       "      <th></th>\n",
       "      <th>Country/Region</th>\n",
       "      <th>Cases</th>\n",
       "      <th>Deaths</th>\n",
       "      <th>PCases</th>\n",
       "      <th>PDeaths</th>\n",
       "      <th>Cases (+)</th>\n",
       "      <th>Deaths (+)</th>\n",
       "      <th>Fatality Rate</th>\n",
       "      <th>Continent</th>\n",
       "    </tr>\n",
       "  </thead>\n",
       "  <tbody>\n",
       "    <tr>\n",
       "      <th>0</th>\n",
       "      <td>US</td>\n",
       "      <td>30847348</td>\n",
       "      <td>556546</td>\n",
       "      <td>30785390</td>\n",
       "      <td>555711</td>\n",
       "      <td>61958</td>\n",
       "      <td>835</td>\n",
       "      <td>1.8</td>\n",
       "      <td>North America</td>\n",
       "    </tr>\n",
       "    <tr>\n",
       "      <th>1</th>\n",
       "      <td>Brazil</td>\n",
       "      <td>13100580</td>\n",
       "      <td>336947</td>\n",
       "      <td>13013601</td>\n",
       "      <td>332752</td>\n",
       "      <td>86979</td>\n",
       "      <td>4195</td>\n",
       "      <td>2.6</td>\n",
       "      <td>South America</td>\n",
       "    </tr>\n",
       "    <tr>\n",
       "      <th>2</th>\n",
       "      <td>India</td>\n",
       "      <td>12801785</td>\n",
       "      <td>166177</td>\n",
       "      <td>12686049</td>\n",
       "      <td>165547</td>\n",
       "      <td>115736</td>\n",
       "      <td>630</td>\n",
       "      <td>1.3</td>\n",
       "      <td>Asia</td>\n",
       "    </tr>\n",
       "    <tr>\n",
       "      <th>3</th>\n",
       "      <td>France</td>\n",
       "      <td>4902025</td>\n",
       "      <td>97431</td>\n",
       "      <td>4893971</td>\n",
       "      <td>97005</td>\n",
       "      <td>8054</td>\n",
       "      <td>426</td>\n",
       "      <td>2.0</td>\n",
       "      <td>Europe</td>\n",
       "    </tr>\n",
       "    <tr>\n",
       "      <th>4</th>\n",
       "      <td>Russia</td>\n",
       "      <td>4546307</td>\n",
       "      <td>99431</td>\n",
       "      <td>4538101</td>\n",
       "      <td>99049</td>\n",
       "      <td>8206</td>\n",
       "      <td>382</td>\n",
       "      <td>2.2</td>\n",
       "      <td>Europe</td>\n",
       "    </tr>\n",
       "  </tbody>\n",
       "</table>\n",
       "</div>"
      ],
      "text/plain": [
       "  Country/Region     Cases  Deaths    PCases  PDeaths  Cases (+)  Deaths (+)  \\\n",
       "0             US  30847348  556546  30785390   555711      61958         835   \n",
       "1         Brazil  13100580  336947  13013601   332752      86979        4195   \n",
       "2          India  12801785  166177  12686049   165547     115736         630   \n",
       "3         France   4902025   97431   4893971    97005       8054         426   \n",
       "4         Russia   4546307   99431   4538101    99049       8206         382   \n",
       "\n",
       "   Fatality Rate      Continent  \n",
       "0            1.8  North America  \n",
       "1            2.6  South America  \n",
       "2            1.3           Asia  \n",
       "3            2.0         Europe  \n",
       "4            2.2         Europe  "
      ]
     },
     "execution_count": 15,
     "metadata": {},
     "output_type": "execute_result"
    }
   ],
   "source": [
    "#hide\n",
    "df_table = (pd.DataFrame(dict(Cases=dfc_cases, Deaths=dfc_deaths, PCases=dfp_cases, PDeaths=dfp_deaths))\n",
    "             .sort_values(by=['Cases', 'Deaths'], ascending=[False, False])\n",
    "             .reset_index())\n",
    "df_table.rename(columns={'index': 'Country/Region'}, inplace=True)\n",
    "for c in 'Cases, Deaths'.split(', '):\n",
    "    df_table[f'{c} (+)'] = (df_table[c] - df_table[f'P{c}']).clip(0)  # DATA BUG\n",
    "df_table['Fatality Rate'] = (100 * df_table['Deaths'] / df_table['Cases']).round(1)\n",
    "df_table['Continent'] = df_table['Country/Region'].map(mapping['map.continent'])\n",
    "df_table.head(5)"
   ]
  },
  {
   "cell_type": "code",
   "execution_count": 16,
   "id": "fewer-occasion",
   "metadata": {
    "execution": {
     "iopub.execute_input": "2021-04-08T00:08:00.408807Z",
     "iopub.status.busy": "2021-04-08T00:08:00.408200Z",
     "iopub.status.idle": "2021-04-08T00:08:00.410374Z",
     "shell.execute_reply": "2021-04-08T00:08:00.409807Z"
    },
    "papermill": {
     "duration": 0.044833,
     "end_time": "2021-04-08T00:08:00.410489",
     "exception": false,
     "start_time": "2021-04-08T00:08:00.365656",
     "status": "completed"
    },
    "tags": []
   },
   "outputs": [],
   "source": [
    "#hide\n",
    "#delete problematic countries from table\n",
    "df_table = df_table[~df_table['Country/Region'].isin(['Cape Verde', 'Cruise Ship', 'Kosovo'])]"
   ]
  },
  {
   "cell_type": "code",
   "execution_count": 17,
   "id": "related-center",
   "metadata": {
    "execution": {
     "iopub.execute_input": "2021-04-08T00:08:00.505217Z",
     "iopub.status.busy": "2021-04-08T00:08:00.504647Z",
     "iopub.status.idle": "2021-04-08T00:08:00.507193Z",
     "shell.execute_reply": "2021-04-08T00:08:00.506712Z"
    },
    "papermill": {
     "duration": 0.059638,
     "end_time": "2021-04-08T00:08:00.507307",
     "exception": false,
     "start_time": "2021-04-08T00:08:00.447669",
     "status": "completed"
    },
    "tags": []
   },
   "outputs": [],
   "source": [
    "#hide\n",
    "metrics = [df_table.columns[index] for index in [1,2,5,6]]\n",
    "# s_china = df_table[df_table['Country/Region'].eq('China')][metrics].sum().add_prefix('China ')\n",
    "s_us = df_table[df_table['Country/Region'].eq('US')][metrics].sum().add_prefix('US ')\n",
    "s_eu = df_table[df_table['Continent'].eq('Europe')][metrics].sum().add_prefix('EU ')\n",
    "s_ind = df_table[df_table['Country/Region'].eq('India')][metrics].sum().add_prefix('India ')\n",
    "summary = {'updated': pd.to_datetime(dt_today), 'since': pd.to_datetime(dt_yday)}\n",
    "summary = {'updated': pd.to_datetime(dt_today), 'since': pd.to_datetime(dt_yday)}\n",
    "summary = {**summary, **df_table[metrics].sum(), **s_ind, **s_us, **s_eu}"
   ]
  },
  {
   "cell_type": "code",
   "execution_count": 18,
   "id": "engaging-syndrome",
   "metadata": {
    "execution": {
     "iopub.execute_input": "2021-04-08T00:08:00.585750Z",
     "iopub.status.busy": "2021-04-08T00:08:00.585130Z",
     "iopub.status.idle": "2021-04-08T00:08:00.596543Z",
     "shell.execute_reply": "2021-04-08T00:08:00.597069Z"
    },
    "papermill": {
     "duration": 0.054233,
     "end_time": "2021-04-08T00:08:00.597214",
     "exception": false,
     "start_time": "2021-04-08T00:08:00.542981",
     "status": "completed"
    },
    "tags": []
   },
   "outputs": [],
   "source": [
    "#hide\n",
    "dft_ct_new_cases = dft_cases.groupby(COL_REGION)[dt_cols].sum().diff(axis=1).fillna(0).astype(int)"
   ]
  },
  {
   "cell_type": "code",
   "execution_count": 19,
   "id": "neutral-assignment",
   "metadata": {
    "execution": {
     "iopub.execute_input": "2021-04-08T00:08:00.675935Z",
     "iopub.status.busy": "2021-04-08T00:08:00.675285Z",
     "iopub.status.idle": "2021-04-08T00:08:00.677123Z",
     "shell.execute_reply": "2021-04-08T00:08:00.677639Z"
    },
    "papermill": {
     "duration": 0.044302,
     "end_time": "2021-04-08T00:08:00.677777",
     "exception": false,
     "start_time": "2021-04-08T00:08:00.633475",
     "status": "completed"
    },
    "tags": []
   },
   "outputs": [],
   "source": [
    "#hide\n",
    "everydaycases = dft_ct_new_cases.cumsum(axis=1)"
   ]
  },
  {
   "cell_type": "code",
   "execution_count": 20,
   "id": "parliamentary-calgary",
   "metadata": {
    "execution": {
     "iopub.execute_input": "2021-04-08T00:08:00.754521Z",
     "iopub.status.busy": "2021-04-08T00:08:00.753910Z",
     "iopub.status.idle": "2021-04-08T00:08:01.487339Z",
     "shell.execute_reply": "2021-04-08T00:08:01.486794Z"
    },
    "papermill": {
     "duration": 0.774647,
     "end_time": "2021-04-08T00:08:01.487515",
     "exception": false,
     "start_time": "2021-04-08T00:08:00.712868",
     "status": "completed"
    },
    "tags": []
   },
   "outputs": [],
   "source": [
    "#hide\n",
    "import pandas as pd\n",
    "import matplotlib.pyplot as plt\n",
    "import matplotlib.ticker as ticker\n",
    "import matplotlib.animation as animation\n",
    "from IPython.display import HTML"
   ]
  },
  {
   "cell_type": "code",
   "execution_count": 21,
   "id": "lasting-extraction",
   "metadata": {
    "execution": {
     "iopub.execute_input": "2021-04-08T00:08:01.571742Z",
     "iopub.status.busy": "2021-04-08T00:08:01.571064Z",
     "iopub.status.idle": "2021-04-08T00:08:01.576697Z",
     "shell.execute_reply": "2021-04-08T00:08:01.576165Z"
    },
    "papermill": {
     "duration": 0.050529,
     "end_time": "2021-04-08T00:08:01.576823",
     "exception": false,
     "start_time": "2021-04-08T00:08:01.526294",
     "status": "completed"
    },
    "tags": []
   },
   "outputs": [],
   "source": [
    "#hide\n",
    "t = everydaycases.stack()"
   ]
  },
  {
   "cell_type": "code",
   "execution_count": 22,
   "id": "premier-sleeve",
   "metadata": {
    "execution": {
     "iopub.execute_input": "2021-04-08T00:08:01.658106Z",
     "iopub.status.busy": "2021-04-08T00:08:01.657466Z",
     "iopub.status.idle": "2021-04-08T00:08:01.666715Z",
     "shell.execute_reply": "2021-04-08T00:08:01.667254Z"
    },
    "papermill": {
     "duration": 0.052684,
     "end_time": "2021-04-08T00:08:01.667408",
     "exception": false,
     "start_time": "2021-04-08T00:08:01.614724",
     "status": "completed"
    },
    "tags": []
   },
   "outputs": [],
   "source": [
    "#hide\n",
    "g = t.reset_index(['Country/Region'])"
   ]
  },
  {
   "cell_type": "code",
   "execution_count": 23,
   "id": "distributed-pittsburgh",
   "metadata": {
    "execution": {
     "iopub.execute_input": "2021-04-08T00:08:01.748349Z",
     "iopub.status.busy": "2021-04-08T00:08:01.747710Z",
     "iopub.status.idle": "2021-04-08T00:08:01.750751Z",
     "shell.execute_reply": "2021-04-08T00:08:01.750138Z"
    },
    "papermill": {
     "duration": 0.044793,
     "end_time": "2021-04-08T00:08:01.750877",
     "exception": false,
     "start_time": "2021-04-08T00:08:01.706084",
     "status": "completed"
    },
    "tags": []
   },
   "outputs": [],
   "source": [
    "#hide\n",
    "g.index.name = 'date'"
   ]
  },
  {
   "cell_type": "code",
   "execution_count": 24,
   "id": "naked-donor",
   "metadata": {
    "execution": {
     "iopub.execute_input": "2021-04-08T00:08:01.835466Z",
     "iopub.status.busy": "2021-04-08T00:08:01.834819Z",
     "iopub.status.idle": "2021-04-08T00:08:01.837323Z",
     "shell.execute_reply": "2021-04-08T00:08:01.836760Z"
    },
    "papermill": {
     "duration": 0.046046,
     "end_time": "2021-04-08T00:08:01.837446",
     "exception": false,
     "start_time": "2021-04-08T00:08:01.791400",
     "status": "completed"
    },
    "tags": []
   },
   "outputs": [],
   "source": [
    "# #hide\n",
    "# g = g.reset_index(['date'])"
   ]
  },
  {
   "cell_type": "code",
   "execution_count": 25,
   "id": "incomplete-mustang",
   "metadata": {
    "execution": {
     "iopub.execute_input": "2021-04-08T00:08:01.917048Z",
     "iopub.status.busy": "2021-04-08T00:08:01.916373Z",
     "iopub.status.idle": "2021-04-08T00:08:01.918441Z",
     "shell.execute_reply": "2021-04-08T00:08:01.918925Z"
    },
    "papermill": {
     "duration": 0.045579,
     "end_time": "2021-04-08T00:08:01.919070",
     "exception": false,
     "start_time": "2021-04-08T00:08:01.873491",
     "status": "completed"
    },
    "tags": []
   },
   "outputs": [],
   "source": [
    "#hide\n",
    "# g.head()"
   ]
  },
  {
   "cell_type": "code",
   "execution_count": 26,
   "id": "specific-kruger",
   "metadata": {
    "execution": {
     "iopub.execute_input": "2021-04-08T00:08:01.998998Z",
     "iopub.status.busy": "2021-04-08T00:08:01.998348Z",
     "iopub.status.idle": "2021-04-08T00:08:02.000859Z",
     "shell.execute_reply": "2021-04-08T00:08:02.000291Z"
    },
    "papermill": {
     "duration": 0.044174,
     "end_time": "2021-04-08T00:08:02.000989",
     "exception": false,
     "start_time": "2021-04-08T00:08:01.956815",
     "status": "completed"
    },
    "tags": []
   },
   "outputs": [],
   "source": [
    "#hide\n",
    "# g.columns = ['date','country','cases']"
   ]
  },
  {
   "cell_type": "code",
   "execution_count": 27,
   "id": "tender-conversion",
   "metadata": {
    "execution": {
     "iopub.execute_input": "2021-04-08T00:08:02.084790Z",
     "iopub.status.busy": "2021-04-08T00:08:02.084147Z",
     "iopub.status.idle": "2021-04-08T00:08:02.085956Z",
     "shell.execute_reply": "2021-04-08T00:08:02.086577Z"
    },
    "papermill": {
     "duration": 0.049179,
     "end_time": "2021-04-08T00:08:02.086731",
     "exception": false,
     "start_time": "2021-04-08T00:08:02.037552",
     "status": "completed"
    },
    "tags": []
   },
   "outputs": [],
   "source": [
    "#hide\n",
    "# g['continent'] = g.country"
   ]
  },
  {
   "cell_type": "code",
   "execution_count": 28,
   "id": "substantial-wilderness",
   "metadata": {
    "execution": {
     "iopub.execute_input": "2021-04-08T00:08:02.174283Z",
     "iopub.status.busy": "2021-04-08T00:08:02.173541Z",
     "iopub.status.idle": "2021-04-08T00:08:02.176085Z",
     "shell.execute_reply": "2021-04-08T00:08:02.175515Z"
    },
    "papermill": {
     "duration": 0.045824,
     "end_time": "2021-04-08T00:08:02.176213",
     "exception": false,
     "start_time": "2021-04-08T00:08:02.130389",
     "status": "completed"
    },
    "tags": []
   },
   "outputs": [],
   "source": [
    "#hide\n",
    "# cols = list(g.columns.values)"
   ]
  },
  {
   "cell_type": "code",
   "execution_count": 29,
   "id": "solved-farming",
   "metadata": {
    "execution": {
     "iopub.execute_input": "2021-04-08T00:08:02.257437Z",
     "iopub.status.busy": "2021-04-08T00:08:02.256788Z",
     "iopub.status.idle": "2021-04-08T00:08:02.259257Z",
     "shell.execute_reply": "2021-04-08T00:08:02.258688Z"
    },
    "papermill": {
     "duration": 0.043883,
     "end_time": "2021-04-08T00:08:02.259395",
     "exception": false,
     "start_time": "2021-04-08T00:08:02.215512",
     "status": "completed"
    },
    "tags": []
   },
   "outputs": [],
   "source": [
    "#hide\n",
    "# cols.insert(0, cols.pop())"
   ]
  },
  {
   "cell_type": "code",
   "execution_count": 30,
   "id": "executed-adoption",
   "metadata": {
    "execution": {
     "iopub.execute_input": "2021-04-08T00:08:02.340606Z",
     "iopub.status.busy": "2021-04-08T00:08:02.339940Z",
     "iopub.status.idle": "2021-04-08T00:08:02.342344Z",
     "shell.execute_reply": "2021-04-08T00:08:02.341713Z"
    },
    "papermill": {
     "duration": 0.045009,
     "end_time": "2021-04-08T00:08:02.342471",
     "exception": false,
     "start_time": "2021-04-08T00:08:02.297462",
     "status": "completed"
    },
    "tags": []
   },
   "outputs": [],
   "source": [
    "#hide\n",
    "# g = g[cols]"
   ]
  },
  {
   "cell_type": "code",
   "execution_count": 31,
   "id": "subject-dublin",
   "metadata": {
    "execution": {
     "iopub.execute_input": "2021-04-08T00:08:02.422665Z",
     "iopub.status.busy": "2021-04-08T00:08:02.422007Z",
     "iopub.status.idle": "2021-04-08T00:08:02.424495Z",
     "shell.execute_reply": "2021-04-08T00:08:02.423934Z"
    },
    "papermill": {
     "duration": 0.044623,
     "end_time": "2021-04-08T00:08:02.424629",
     "exception": false,
     "start_time": "2021-04-08T00:08:02.380006",
     "status": "completed"
    },
    "tags": []
   },
   "outputs": [],
   "source": [
    "#hide\n",
    "# g['continent'] = g['continent'].map(mapping['map.continent'])"
   ]
  },
  {
   "cell_type": "code",
   "execution_count": 32,
   "id": "freelance-scout",
   "metadata": {
    "execution": {
     "iopub.execute_input": "2021-04-08T00:08:02.508949Z",
     "iopub.status.busy": "2021-04-08T00:08:02.507610Z",
     "iopub.status.idle": "2021-04-08T00:08:02.509641Z",
     "shell.execute_reply": "2021-04-08T00:08:02.510167Z"
    },
    "papermill": {
     "duration": 0.045929,
     "end_time": "2021-04-08T00:08:02.510565",
     "exception": false,
     "start_time": "2021-04-08T00:08:02.464636",
     "status": "completed"
    },
    "tags": []
   },
   "outputs": [],
   "source": [
    "#hide\n",
    "# g.head()"
   ]
  },
  {
   "cell_type": "code",
   "execution_count": 33,
   "id": "limited-engine",
   "metadata": {
    "execution": {
     "iopub.execute_input": "2021-04-08T00:08:02.597068Z",
     "iopub.status.busy": "2021-04-08T00:08:02.596415Z",
     "iopub.status.idle": "2021-04-08T00:08:02.598498Z",
     "shell.execute_reply": "2021-04-08T00:08:02.599001Z"
    },
    "papermill": {
     "duration": 0.049189,
     "end_time": "2021-04-08T00:08:02.599151",
     "exception": false,
     "start_time": "2021-04-08T00:08:02.549962",
     "status": "completed"
    },
    "tags": []
   },
   "outputs": [],
   "source": [
    "# hide\n",
    "# g['date'] = g['date'].astype('datetime64[ns]')"
   ]
  },
  {
   "cell_type": "code",
   "execution_count": 34,
   "id": "sophisticated-supervisor",
   "metadata": {
    "execution": {
     "iopub.execute_input": "2021-04-08T00:08:02.683772Z",
     "iopub.status.busy": "2021-04-08T00:08:02.683104Z",
     "iopub.status.idle": "2021-04-08T00:08:02.685056Z",
     "shell.execute_reply": "2021-04-08T00:08:02.685584Z"
    },
    "papermill": {
     "duration": 0.045829,
     "end_time": "2021-04-08T00:08:02.685740",
     "exception": false,
     "start_time": "2021-04-08T00:08:02.639911",
     "status": "completed"
    },
    "tags": []
   },
   "outputs": [],
   "source": [
    "#hide\n",
    "# g['date'] = g.date.dt.dayofyear"
   ]
  },
  {
   "cell_type": "code",
   "execution_count": 35,
   "id": "inside-dubai",
   "metadata": {
    "execution": {
     "iopub.execute_input": "2021-04-08T00:08:02.764954Z",
     "iopub.status.busy": "2021-04-08T00:08:02.764310Z",
     "iopub.status.idle": "2021-04-08T00:08:02.766576Z",
     "shell.execute_reply": "2021-04-08T00:08:02.767170Z"
    },
    "papermill": {
     "duration": 0.043462,
     "end_time": "2021-04-08T00:08:02.767319",
     "exception": false,
     "start_time": "2021-04-08T00:08:02.723857",
     "status": "completed"
    },
    "tags": []
   },
   "outputs": [],
   "source": [
    "#hide\n",
    "# g = g.rename(columns= {'continent':'group','country':'name','cases':'value'})"
   ]
  },
  {
   "cell_type": "code",
   "execution_count": 36,
   "id": "fleet-motorcycle",
   "metadata": {
    "execution": {
     "iopub.execute_input": "2021-04-08T00:08:02.844808Z",
     "iopub.status.busy": "2021-04-08T00:08:02.844163Z",
     "iopub.status.idle": "2021-04-08T00:08:02.846607Z",
     "shell.execute_reply": "2021-04-08T00:08:02.846101Z"
    },
    "papermill": {
     "duration": 0.042123,
     "end_time": "2021-04-08T00:08:02.846721",
     "exception": false,
     "start_time": "2021-04-08T00:08:02.804598",
     "status": "completed"
    },
    "tags": []
   },
   "outputs": [],
   "source": [
    "#hide\n",
    "# cols = ['name','group','day','value']"
   ]
  },
  {
   "cell_type": "code",
   "execution_count": 37,
   "id": "continued-sleeping",
   "metadata": {
    "execution": {
     "iopub.execute_input": "2021-04-08T00:08:02.925828Z",
     "iopub.status.busy": "2021-04-08T00:08:02.925186Z",
     "iopub.status.idle": "2021-04-08T00:08:02.927016Z",
     "shell.execute_reply": "2021-04-08T00:08:02.927710Z"
    },
    "papermill": {
     "duration": 0.044346,
     "end_time": "2021-04-08T00:08:02.927857",
     "exception": false,
     "start_time": "2021-04-08T00:08:02.883511",
     "status": "completed"
    },
    "tags": []
   },
   "outputs": [],
   "source": [
    "#hide\n",
    "# g.rename(columns= {'date':'day'},inplace = True)"
   ]
  },
  {
   "cell_type": "code",
   "execution_count": 38,
   "id": "major-fight",
   "metadata": {
    "execution": {
     "iopub.execute_input": "2021-04-08T00:08:03.017091Z",
     "iopub.status.busy": "2021-04-08T00:08:03.016452Z",
     "iopub.status.idle": "2021-04-08T00:08:03.019675Z",
     "shell.execute_reply": "2021-04-08T00:08:03.020199Z"
    },
    "papermill": {
     "duration": 0.050483,
     "end_time": "2021-04-08T00:08:03.020346",
     "exception": false,
     "start_time": "2021-04-08T00:08:02.969863",
     "status": "completed"
    },
    "tags": []
   },
   "outputs": [],
   "source": [
    "#hide\n",
    "# g = g[cols]"
   ]
  },
  {
   "cell_type": "code",
   "execution_count": 39,
   "id": "structured-mobile",
   "metadata": {
    "execution": {
     "iopub.execute_input": "2021-04-08T00:08:03.108158Z",
     "iopub.status.busy": "2021-04-08T00:08:03.107496Z",
     "iopub.status.idle": "2021-04-08T00:08:03.109826Z",
     "shell.execute_reply": "2021-04-08T00:08:03.109208Z"
    },
    "papermill": {
     "duration": 0.04798,
     "end_time": "2021-04-08T00:08:03.109951",
     "exception": false,
     "start_time": "2021-04-08T00:08:03.061971",
     "status": "completed"
    },
    "tags": []
   },
   "outputs": [],
   "source": [
    "# #hide\n",
    "# g = g[g.group.notna()]"
   ]
  },
  {
   "cell_type": "code",
   "execution_count": 40,
   "id": "determined-closing",
   "metadata": {
    "execution": {
     "iopub.execute_input": "2021-04-08T00:08:03.201198Z",
     "iopub.status.busy": "2021-04-08T00:08:03.200456Z",
     "iopub.status.idle": "2021-04-08T00:08:03.202484Z",
     "shell.execute_reply": "2021-04-08T00:08:03.201918Z"
    },
    "papermill": {
     "duration": 0.052382,
     "end_time": "2021-04-08T00:08:03.202613",
     "exception": false,
     "start_time": "2021-04-08T00:08:03.150231",
     "status": "completed"
    },
    "tags": []
   },
   "outputs": [],
   "source": [
    "# #hide\n",
    "# colors = dict(zip(\n",
    "#     [\"Oceania\", \"Europe\", \"Asia\", \"South America\", \"Middle East\", \"North America\", \"Africa\"],\n",
    "#     [\"#adb0ff\", \"#ffb3ff\", \"#90d595\", \"#e48381\", \"#aafbff\", \"#f7bb5f\", \"#eafb50\"]\n",
    "# ))\n",
    "# group_lk = g.set_index('name')['group'].to_dict()"
   ]
  },
  {
   "cell_type": "code",
   "execution_count": null,
   "id": "gross-drinking",
   "metadata": {
    "papermill": {
     "duration": 0.041697,
     "end_time": "2021-04-08T00:08:03.289401",
     "exception": false,
     "start_time": "2021-04-08T00:08:03.247704",
     "status": "completed"
    },
    "tags": []
   },
   "outputs": [],
   "source": []
  },
  {
   "cell_type": "code",
   "execution_count": 41,
   "id": "subject-macintosh",
   "metadata": {
    "execution": {
     "iopub.execute_input": "2021-04-08T00:08:03.378618Z",
     "iopub.status.busy": "2021-04-08T00:08:03.377916Z",
     "iopub.status.idle": "2021-04-08T00:08:03.380631Z",
     "shell.execute_reply": "2021-04-08T00:08:03.380086Z"
    },
    "papermill": {
     "duration": 0.048531,
     "end_time": "2021-04-08T00:08:03.380755",
     "exception": false,
     "start_time": "2021-04-08T00:08:03.332224",
     "status": "completed"
    },
    "tags": []
   },
   "outputs": [],
   "source": [
    "# #hide\n",
    "# fig, ax = plt.subplots(figsize=(15, 8))\n",
    "\n",
    "# def draw_barchart(current_day):\n",
    "#     dff = g[g['day'].eq(current_day)].sort_values(by='value', ascending=True).tail(10)\n",
    "#     ax.clear()\n",
    "#     ax.barh(dff['name'], dff['value'], color=[colors[group_lk[x]] for x in dff['name']])\n",
    "#     dx = dff['value'].max() / 200\n",
    "    \n",
    "#     for i, (value, name) in enumerate(zip(dff['value'], dff['name'])):\n",
    "#         ax.text(value-dx, i,     name,           size=14, weight=600, ha='right', va='bottom')\n",
    "#         ax.text(value-dx, i-.25, group_lk[name], size=10, color='#444444', ha='right', va='baseline')\n",
    "#         ax.text(value+dx, i,     f'{value:,.0f}',  size=14, ha='left',  va='center')\n",
    "#     ax.text(1, 0.4, current_day, transform=ax.transAxes, color='#777777', size=46, ha='right', weight=800)\n",
    "#     ax.text(0, 1.06, 'Population (thousands)', transform=ax.transAxes, size=12, color='#777777')\n",
    "#     ax.xaxis.set_major_formatter(ticker.StrMethodFormatter('{x:,.0f}'))\n",
    "#     ax.xaxis.set_ticks_position('top')\n",
    "#     ax.tick_params(axis='x', colors='#777777', labelsize=12)\n",
    "#     ax.set_yticks([])\n",
    "#     ax.margins(0, 0.01)\n",
    "#     ax.grid(which='major', axis='x', linestyle='-')\n",
    "#     ax.set_axisbelow(True)\n",
    "    \n",
    "#     ax.text(0, 1.15, 'Coronavirus',\n",
    "#             transform=ax.transAxes, size=24, weight=600, ha='left', va='top')\n",
    "# #     ax.text(1, 0, 'by @pratapvardhan; credit @jburnmurdoch', transform=ax.transAxes, color='#777777', ha='right',\n",
    "# #             bbox=dict(facecolor='white', alpha=0.8, edgecolor='white'))\n",
    "#     plt.box(False)"
   ]
  },
  {
   "cell_type": "code",
   "execution_count": 42,
   "id": "sexual-wages",
   "metadata": {
    "execution": {
     "iopub.execute_input": "2021-04-08T00:08:03.461948Z",
     "iopub.status.busy": "2021-04-08T00:08:03.461332Z",
     "iopub.status.idle": "2021-04-08T00:08:03.463815Z",
     "shell.execute_reply": "2021-04-08T00:08:03.463068Z"
    },
    "papermill": {
     "duration": 0.046038,
     "end_time": "2021-04-08T00:08:03.463949",
     "exception": false,
     "start_time": "2021-04-08T00:08:03.417911",
     "status": "completed"
    },
    "tags": []
   },
   "outputs": [],
   "source": [
    "# #hide_input\n",
    "# fig, ax = plt.subplots(figsize=(15, 8))\n",
    "# animator = animation.FuncAnimation(fig, draw_barchart, frames=range(g.day.values.min(), g.day.values.max()))\n",
    "# HTML(animator.to_jshtml())\n",
    "# # or use animator.to_html5_video() or animator.save() "
   ]
  },
  {
   "cell_type": "code",
   "execution_count": null,
   "id": "australian-container",
   "metadata": {
    "papermill": {
     "duration": 0.038425,
     "end_time": "2021-04-08T00:08:03.540254",
     "exception": false,
     "start_time": "2021-04-08T00:08:03.501829",
     "status": "completed"
    },
    "tags": []
   },
   "outputs": [],
   "source": []
  },
  {
   "cell_type": "code",
   "execution_count": null,
   "id": "mediterranean-pontiac",
   "metadata": {
    "papermill": {
     "duration": 0.037565,
     "end_time": "2021-04-08T00:08:03.613262",
     "exception": false,
     "start_time": "2021-04-08T00:08:03.575697",
     "status": "completed"
    },
    "tags": []
   },
   "outputs": [],
   "source": []
  },
  {
   "cell_type": "code",
   "execution_count": null,
   "id": "aging-legislature",
   "metadata": {
    "papermill": {
     "duration": 0.037915,
     "end_time": "2021-04-08T00:08:03.691153",
     "exception": false,
     "start_time": "2021-04-08T00:08:03.653238",
     "status": "completed"
    },
    "tags": []
   },
   "outputs": [],
   "source": []
  }
 ],
 "metadata": {
  "kernelspec": {
   "display_name": "Python 3",
   "language": "python",
   "name": "python3"
  },
  "language_info": {
   "codemirror_mode": {
    "name": "ipython",
    "version": 3
   },
   "file_extension": ".py",
   "mimetype": "text/x-python",
   "name": "python",
   "nbconvert_exporter": "python",
   "pygments_lexer": "ipython3",
   "version": "3.6.13"
  },
  "papermill": {
   "duration": 7.042805,
   "end_time": "2021-04-08T00:08:04.035672",
   "environment_variables": {},
   "exception": null,
   "input_path": "2020-03-21-covid19exp.ipynb",
   "output_path": "2020-03-21-covid19exp.ipynb",
   "parameters": {},
   "start_time": "2021-04-08T00:07:56.992867",
   "version": "2.0.0"
  }
 },
 "nbformat": 4,
 "nbformat_minor": 5
}