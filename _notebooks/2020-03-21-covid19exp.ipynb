{
 "cells": [
  {
   "cell_type": "markdown",
   "id": "muslim-click",
   "metadata": {
    "papermill": {
     "duration": 0.03679,
     "end_time": "2021-11-24T12:12:08.193728",
     "exception": false,
     "start_time": "2021-11-24T12:12:08.156938",
     "status": "completed"
    },
    "tags": []
   },
   "source": [
    "# COVID-19 Case Race\n",
    "> A race chart to see rising cases around the world\n",
    "\n",
    "- author: Hargun Oberoi\n",
    "- image: images/covid-overview.png\n",
    "- hide: false\n",
    "- badges: false"
   ]
  },
  {
   "cell_type": "code",
   "execution_count": 1,
   "id": "proof-material",
   "metadata": {
    "execution": {
     "iopub.execute_input": "2021-11-24T12:12:08.267018Z",
     "iopub.status.busy": "2021-11-24T12:12:08.266426Z",
     "iopub.status.idle": "2021-11-24T12:12:08.604051Z",
     "shell.execute_reply": "2021-11-24T12:12:08.603127Z"
    },
    "papermill": {
     "duration": 0.380498,
     "end_time": "2021-11-24T12:12:08.604296",
     "exception": false,
     "start_time": "2021-11-24T12:12:08.223798",
     "status": "completed"
    },
    "tags": []
   },
   "outputs": [],
   "source": [
    "#hide\n",
    "import numpy as np\n",
    "import pandas as pd\n",
    "from jinja2 import Template\n",
    "from IPython.display import HTML"
   ]
  },
  {
   "cell_type": "code",
   "execution_count": 2,
   "id": "developed-terminology",
   "metadata": {
    "execution": {
     "iopub.execute_input": "2021-11-24T12:12:08.672707Z",
     "iopub.status.busy": "2021-11-24T12:12:08.672129Z",
     "iopub.status.idle": "2021-11-24T12:12:08.674888Z",
     "shell.execute_reply": "2021-11-24T12:12:08.675458Z"
    },
    "papermill": {
     "duration": 0.03918,
     "end_time": "2021-11-24T12:12:08.675577",
     "exception": false,
     "start_time": "2021-11-24T12:12:08.636397",
     "status": "completed"
    },
    "tags": []
   },
   "outputs": [],
   "source": [
    "#hide\n",
    "\n",
    "# FETCH\n",
    "base_url = 'https://raw.githubusercontent.com/pratapvardhan/notebooks/master/covid19/'\n",
    "paths = {\n",
    "    'mapping': base_url + 'mapping_countries.csv',\n",
    "    'overview': base_url + 'overview.tpl'\n",
    "}"
   ]
  },
  {
   "cell_type": "code",
   "execution_count": 3,
   "id": "dynamic-saver",
   "metadata": {
    "execution": {
     "iopub.execute_input": "2021-11-24T12:12:08.743409Z",
     "iopub.status.busy": "2021-11-24T12:12:08.742826Z",
     "iopub.status.idle": "2021-11-24T12:12:08.745658Z",
     "shell.execute_reply": "2021-11-24T12:12:08.746105Z"
    },
    "papermill": {
     "duration": 0.042705,
     "end_time": "2021-11-24T12:12:08.746242",
     "exception": false,
     "start_time": "2021-11-24T12:12:08.703537",
     "status": "completed"
    },
    "tags": []
   },
   "outputs": [
    {
     "data": {
      "text/plain": [
       "'https://raw.githubusercontent.com/pratapvardhan/notebooks/master/covid19/mapping_countries.csv'"
      ]
     },
     "execution_count": 3,
     "metadata": {},
     "output_type": "execute_result"
    }
   ],
   "source": [
    "#hide\n",
    "paths['mapping']"
   ]
  },
  {
   "cell_type": "code",
   "execution_count": 4,
   "id": "urban-software",
   "metadata": {
    "execution": {
     "iopub.execute_input": "2021-11-24T12:12:08.810650Z",
     "iopub.status.busy": "2021-11-24T12:12:08.810161Z",
     "iopub.status.idle": "2021-11-24T12:12:08.813283Z",
     "shell.execute_reply": "2021-11-24T12:12:08.813701Z"
    },
    "papermill": {
     "duration": 0.039115,
     "end_time": "2021-11-24T12:12:08.813852",
     "exception": false,
     "start_time": "2021-11-24T12:12:08.774737",
     "status": "completed"
    },
    "tags": []
   },
   "outputs": [],
   "source": [
    "#hide\n",
    "def get_mappings(url):\n",
    "    df = pd.read_csv(url)\n",
    "    return {\n",
    "        'df': df,\n",
    "        'replace.country': dict(df.dropna(subset=['Name']).set_index('Country')['Name']),\n",
    "        'map.continent': dict(df.set_index('Name')['Continent'])\n",
    "    }"
   ]
  },
  {
   "cell_type": "code",
   "execution_count": 5,
   "id": "intimate-machinery",
   "metadata": {
    "execution": {
     "iopub.execute_input": "2021-11-24T12:12:08.881472Z",
     "iopub.status.busy": "2021-11-24T12:12:08.880921Z",
     "iopub.status.idle": "2021-11-24T12:12:08.913291Z",
     "shell.execute_reply": "2021-11-24T12:12:08.912449Z"
    },
    "papermill": {
     "duration": 0.069356,
     "end_time": "2021-11-24T12:12:08.913500",
     "exception": false,
     "start_time": "2021-11-24T12:12:08.844144",
     "status": "completed"
    },
    "tags": []
   },
   "outputs": [],
   "source": [
    "#hide\n",
    "mapping = get_mappings(paths['mapping'])"
   ]
  },
  {
   "cell_type": "code",
   "execution_count": 6,
   "id": "certified-tactics",
   "metadata": {
    "execution": {
     "iopub.execute_input": "2021-11-24T12:12:08.989458Z",
     "iopub.status.busy": "2021-11-24T12:12:08.988410Z",
     "iopub.status.idle": "2021-11-24T12:12:08.993192Z",
     "shell.execute_reply": "2021-11-24T12:12:08.992713Z"
    },
    "papermill": {
     "duration": 0.04647,
     "end_time": "2021-11-24T12:12:08.993316",
     "exception": false,
     "start_time": "2021-11-24T12:12:08.946846",
     "status": "completed"
    },
    "tags": []
   },
   "outputs": [],
   "source": [
    "#hide\n",
    "def get_template(path):\n",
    "    from urllib.parse import urlparse\n",
    "    if bool(urlparse(path).netloc):\n",
    "        from urllib.request import urlopen\n",
    "        return urlopen(path).read().decode('utf8')\n",
    "    return open(path).read()"
   ]
  },
  {
   "cell_type": "code",
   "execution_count": 7,
   "id": "realistic-blast",
   "metadata": {
    "execution": {
     "iopub.execute_input": "2021-11-24T12:12:09.065722Z",
     "iopub.status.busy": "2021-11-24T12:12:09.065131Z",
     "iopub.status.idle": "2021-11-24T12:12:09.067398Z",
     "shell.execute_reply": "2021-11-24T12:12:09.067930Z"
    },
    "papermill": {
     "duration": 0.041151,
     "end_time": "2021-11-24T12:12:09.068057",
     "exception": false,
     "start_time": "2021-11-24T12:12:09.026906",
     "status": "completed"
    },
    "tags": []
   },
   "outputs": [],
   "source": [
    "#hide\n",
    "def get_frame(name):\n",
    "    url = (\n",
    "        'https://raw.githubusercontent.com/CSSEGISandData/COVID-19/master/csse_covid_19_data/'\n",
    "        f'csse_covid_19_time_series/time_series_covid19_{name}_global.csv')\n",
    "    df = pd.read_csv(url)\n",
    "    # rename countries\n",
    "    df['Country/Region'] = df['Country/Region'].replace(mapping['replace.country'])\n",
    "    return df"
   ]
  },
  {
   "cell_type": "code",
   "execution_count": 8,
   "id": "affiliated-characterization",
   "metadata": {
    "execution": {
     "iopub.execute_input": "2021-11-24T12:12:09.136257Z",
     "iopub.status.busy": "2021-11-24T12:12:09.135770Z",
     "iopub.status.idle": "2021-11-24T12:12:09.137938Z",
     "shell.execute_reply": "2021-11-24T12:12:09.137501Z"
    },
    "papermill": {
     "duration": 0.040437,
     "end_time": "2021-11-24T12:12:09.138049",
     "exception": false,
     "start_time": "2021-11-24T12:12:09.097612",
     "status": "completed"
    },
    "tags": []
   },
   "outputs": [],
   "source": [
    "#hide\n",
    "def get_dates(df):\n",
    "    dt_cols = df.columns[~df.columns.isin(['Province/State', 'Country/Region', 'Lat', 'Long'])]\n",
    "    LAST_DATE_I = -1\n",
    "    # sometimes last column may be empty, then go backwards\n",
    "    for i in range(-1, -len(dt_cols), -1):\n",
    "        if not df[dt_cols[i]].fillna(0).eq(0).all():\n",
    "            LAST_DATE_I = i\n",
    "            break\n",
    "    return LAST_DATE_I, dt_cols"
   ]
  },
  {
   "cell_type": "code",
   "execution_count": 9,
   "id": "recent-optimization",
   "metadata": {
    "execution": {
     "iopub.execute_input": "2021-11-24T12:12:09.205477Z",
     "iopub.status.busy": "2021-11-24T12:12:09.204684Z",
     "iopub.status.idle": "2021-11-24T12:12:09.517952Z",
     "shell.execute_reply": "2021-11-24T12:12:09.517359Z"
    },
    "papermill": {
     "duration": 0.350281,
     "end_time": "2021-11-24T12:12:09.518088",
     "exception": false,
     "start_time": "2021-11-24T12:12:09.167807",
     "status": "completed"
    },
    "tags": []
   },
   "outputs": [],
   "source": [
    "#hide\n",
    "COL_REGION = 'Country/Region'\n",
    "# Confirmed, Recovered, Deaths\n",
    "df = get_frame('confirmed')\n",
    "# dft_: timeseries, dfc_: today country agg\n",
    "dft_cases = df\n",
    "dft_deaths = get_frame('deaths')\n",
    "dft_recovered = get_frame('recovered')\n",
    "LAST_DATE_I, dt_cols = get_dates(df)"
   ]
  },
  {
   "cell_type": "code",
   "execution_count": 10,
   "id": "absolute-copper",
   "metadata": {
    "execution": {
     "iopub.execute_input": "2021-11-24T12:12:09.591836Z",
     "iopub.status.busy": "2021-11-24T12:12:09.591232Z",
     "iopub.status.idle": "2021-11-24T12:12:09.593882Z",
     "shell.execute_reply": "2021-11-24T12:12:09.593381Z"
    },
    "papermill": {
     "duration": 0.043256,
     "end_time": "2021-11-24T12:12:09.594007",
     "exception": false,
     "start_time": "2021-11-24T12:12:09.550751",
     "status": "completed"
    },
    "tags": []
   },
   "outputs": [],
   "source": [
    "#hide\n",
    "LAST_DATE_I, dt_cols = get_dates(df)\n",
    "dt_today =dt_cols[LAST_DATE_I]\n",
    "# dt_5day = dt_cols[LAST_DATE_I - 5]\n",
    "dt_yday = dt_cols[LAST_DATE_I - 1]"
   ]
  },
  {
   "cell_type": "code",
   "execution_count": 11,
   "id": "restricted-sheriff",
   "metadata": {
    "execution": {
     "iopub.execute_input": "2021-11-24T12:12:09.668783Z",
     "iopub.status.busy": "2021-11-24T12:12:09.668185Z",
     "iopub.status.idle": "2021-11-24T12:12:09.676550Z",
     "shell.execute_reply": "2021-11-24T12:12:09.676104Z"
    },
    "papermill": {
     "duration": 0.04899,
     "end_time": "2021-11-24T12:12:09.676668",
     "exception": false,
     "start_time": "2021-11-24T12:12:09.627678",
     "status": "completed"
    },
    "tags": []
   },
   "outputs": [],
   "source": [
    "#hide\n",
    "dfc_cases = dft_cases.groupby(COL_REGION)[dt_today].sum()\n",
    "dfc_deaths = dft_deaths.groupby(COL_REGION)[dt_today].sum()\n",
    "# dfp_cases = dft_cases.groupby(COL_REGION)[dt_5day].sum()\n",
    "# dfp_deaths = dft_deaths.groupby(COL_REGION)[dt_5day].sum()\n",
    "dfp_cases = dft_cases.groupby(COL_REGION)[dt_yday].sum()\n",
    "dfp_deaths = dft_deaths.groupby(COL_REGION)[dt_yday].sum()"
   ]
  },
  {
   "cell_type": "code",
   "execution_count": 12,
   "id": "deluxe-hepatitis",
   "metadata": {
    "execution": {
     "iopub.execute_input": "2021-11-24T12:12:09.744400Z",
     "iopub.status.busy": "2021-11-24T12:12:09.743901Z",
     "iopub.status.idle": "2021-11-24T12:12:09.748014Z",
     "shell.execute_reply": "2021-11-24T12:12:09.748526Z"
    },
    "papermill": {
     "duration": 0.040765,
     "end_time": "2021-11-24T12:12:09.748654",
     "exception": false,
     "start_time": "2021-11-24T12:12:09.707889",
     "status": "completed"
    },
    "tags": []
   },
   "outputs": [],
   "source": [
    "#hide\n",
    "df_table = (pd.DataFrame(dict(Cases = dfc_cases, Deaths = dfc_deaths, PCases = dfp_cases, PDeaths = dfp_deaths))\n",
    "            .sort_values(by = ['Cases','Deaths'], ascending = [False, False])\n",
    "            .reset_index())"
   ]
  },
  {
   "cell_type": "code",
   "execution_count": 13,
   "id": "educational-chancellor",
   "metadata": {
    "execution": {
     "iopub.execute_input": "2021-11-24T12:12:09.822977Z",
     "iopub.status.busy": "2021-11-24T12:12:09.822489Z",
     "iopub.status.idle": "2021-11-24T12:12:09.835860Z",
     "shell.execute_reply": "2021-11-24T12:12:09.835382Z"
    },
    "papermill": {
     "duration": 0.058485,
     "end_time": "2021-11-24T12:12:09.835971",
     "exception": false,
     "start_time": "2021-11-24T12:12:09.777486",
     "status": "completed"
    },
    "tags": []
   },
   "outputs": [
    {
     "data": {
      "text/html": [
       "<div>\n",
       "<style scoped>\n",
       "    .dataframe tbody tr th:only-of-type {\n",
       "        vertical-align: middle;\n",
       "    }\n",
       "\n",
       "    .dataframe tbody tr th {\n",
       "        vertical-align: top;\n",
       "    }\n",
       "\n",
       "    .dataframe thead th {\n",
       "        text-align: right;\n",
       "    }\n",
       "</style>\n",
       "<table border=\"1\" class=\"dataframe\">\n",
       "  <thead>\n",
       "    <tr style=\"text-align: right;\">\n",
       "      <th></th>\n",
       "      <th>Country/Region</th>\n",
       "      <th>Cases</th>\n",
       "      <th>Deaths</th>\n",
       "      <th>PCases</th>\n",
       "      <th>PDeaths</th>\n",
       "      <th>Cases (+)</th>\n",
       "      <th>Deaths (+)</th>\n",
       "      <th>Fatality Rate</th>\n",
       "      <th>Continent</th>\n",
       "    </tr>\n",
       "  </thead>\n",
       "  <tbody>\n",
       "    <tr>\n",
       "      <th>0</th>\n",
       "      <td>US</td>\n",
       "      <td>47980780</td>\n",
       "      <td>773770</td>\n",
       "      <td>47888171</td>\n",
       "      <td>772344</td>\n",
       "      <td>92609</td>\n",
       "      <td>1426</td>\n",
       "      <td>1.61</td>\n",
       "      <td>North America</td>\n",
       "    </tr>\n",
       "    <tr>\n",
       "      <th>1</th>\n",
       "      <td>India</td>\n",
       "      <td>34535763</td>\n",
       "      <td>466584</td>\n",
       "      <td>34526480</td>\n",
       "      <td>466147</td>\n",
       "      <td>9283</td>\n",
       "      <td>437</td>\n",
       "      <td>1.35</td>\n",
       "      <td>Asia</td>\n",
       "    </tr>\n",
       "    <tr>\n",
       "      <th>2</th>\n",
       "      <td>Brazil</td>\n",
       "      <td>22030182</td>\n",
       "      <td>613066</td>\n",
       "      <td>22019870</td>\n",
       "      <td>612782</td>\n",
       "      <td>10312</td>\n",
       "      <td>284</td>\n",
       "      <td>2.78</td>\n",
       "      <td>South America</td>\n",
       "    </tr>\n",
       "    <tr>\n",
       "      <th>3</th>\n",
       "      <td>United Kingdom</td>\n",
       "      <td>9985879</td>\n",
       "      <td>144579</td>\n",
       "      <td>9942859</td>\n",
       "      <td>144414</td>\n",
       "      <td>43020</td>\n",
       "      <td>165</td>\n",
       "      <td>1.45</td>\n",
       "      <td>Europe</td>\n",
       "    </tr>\n",
       "    <tr>\n",
       "      <th>4</th>\n",
       "      <td>Russia</td>\n",
       "      <td>9238330</td>\n",
       "      <td>261526</td>\n",
       "      <td>9205431</td>\n",
       "      <td>260319</td>\n",
       "      <td>32899</td>\n",
       "      <td>1207</td>\n",
       "      <td>2.83</td>\n",
       "      <td>Europe</td>\n",
       "    </tr>\n",
       "  </tbody>\n",
       "</table>\n",
       "</div>"
      ],
      "text/plain": [
       "   Country/Region     Cases  Deaths    PCases  PDeaths  Cases (+)  Deaths (+)  \\\n",
       "0              US  47980780  773770  47888171   772344      92609        1426   \n",
       "1           India  34535763  466584  34526480   466147       9283         437   \n",
       "2          Brazil  22030182  613066  22019870   612782      10312         284   \n",
       "3  United Kingdom   9985879  144579   9942859   144414      43020         165   \n",
       "4          Russia   9238330  261526   9205431   260319      32899        1207   \n",
       "\n",
       "   Fatality Rate      Continent  \n",
       "0           1.61  North America  \n",
       "1           1.35           Asia  \n",
       "2           2.78  South America  \n",
       "3           1.45         Europe  \n",
       "4           2.83         Europe  "
      ]
     },
     "execution_count": 13,
     "metadata": {},
     "output_type": "execute_result"
    }
   ],
   "source": [
    "#hide\n",
    "for c in 'Cases, Deaths'.split(', '):\n",
    "    df_table[f'{c} (+)'] = (df_table[c] - df_table[f'P{c}']).clip(0)\n",
    "    #Clip ça veut dire, les chiffres negatif sont interdit\n",
    "df_table['Fatality Rate'] = (100* df_table['Deaths']/ df_table['Cases']).round(2)\n",
    "df_table['Continent'] = df_table['Country/Region'].map(mapping['map.continent'])\n",
    "df_table.head(5)"
   ]
  },
  {
   "cell_type": "code",
   "execution_count": 14,
   "id": "aboriginal-bulgaria",
   "metadata": {
    "execution": {
     "iopub.execute_input": "2021-11-24T12:12:09.902638Z",
     "iopub.status.busy": "2021-11-24T12:12:09.902051Z",
     "iopub.status.idle": "2021-11-24T12:12:09.904910Z",
     "shell.execute_reply": "2021-11-24T12:12:09.905296Z"
    },
    "papermill": {
     "duration": 0.040783,
     "end_time": "2021-11-24T12:12:09.905408",
     "exception": false,
     "start_time": "2021-11-24T12:12:09.864625",
     "status": "completed"
    },
    "tags": []
   },
   "outputs": [],
   "source": [
    "#hide\n",
    "#delete problematic countries from table\n",
    "df_table = df_table[~df_table['Country/Region'].isin(['Cape Verde', 'Cruise Ship', 'Kosovo'])]"
   ]
  },
  {
   "cell_type": "code",
   "execution_count": 15,
   "id": "fantastic-effect",
   "metadata": {
    "execution": {
     "iopub.execute_input": "2021-11-24T12:12:09.975299Z",
     "iopub.status.busy": "2021-11-24T12:12:09.973943Z",
     "iopub.status.idle": "2021-11-24T12:12:09.993684Z",
     "shell.execute_reply": "2021-11-24T12:12:09.993087Z"
    },
    "papermill": {
     "duration": 0.057728,
     "end_time": "2021-11-24T12:12:09.993807",
     "exception": false,
     "start_time": "2021-11-24T12:12:09.936079",
     "status": "completed"
    },
    "tags": []
   },
   "outputs": [
    {
     "data": {
      "text/html": [
       "<div>\n",
       "<style scoped>\n",
       "    .dataframe tbody tr th:only-of-type {\n",
       "        vertical-align: middle;\n",
       "    }\n",
       "\n",
       "    .dataframe tbody tr th {\n",
       "        vertical-align: top;\n",
       "    }\n",
       "\n",
       "    .dataframe thead th {\n",
       "        text-align: right;\n",
       "    }\n",
       "</style>\n",
       "<table border=\"1\" class=\"dataframe\">\n",
       "  <thead>\n",
       "    <tr style=\"text-align: right;\">\n",
       "      <th></th>\n",
       "      <th>Country/Region</th>\n",
       "      <th>Cases</th>\n",
       "      <th>Deaths</th>\n",
       "      <th>PCases</th>\n",
       "      <th>PDeaths</th>\n",
       "      <th>Cases (+)</th>\n",
       "      <th>Deaths (+)</th>\n",
       "      <th>Fatality Rate</th>\n",
       "      <th>Continent</th>\n",
       "    </tr>\n",
       "  </thead>\n",
       "  <tbody>\n",
       "    <tr>\n",
       "      <th>0</th>\n",
       "      <td>US</td>\n",
       "      <td>47980780</td>\n",
       "      <td>773770</td>\n",
       "      <td>47888171</td>\n",
       "      <td>772344</td>\n",
       "      <td>92609</td>\n",
       "      <td>1426</td>\n",
       "      <td>1.6</td>\n",
       "      <td>North America</td>\n",
       "    </tr>\n",
       "    <tr>\n",
       "      <th>1</th>\n",
       "      <td>India</td>\n",
       "      <td>34535763</td>\n",
       "      <td>466584</td>\n",
       "      <td>34526480</td>\n",
       "      <td>466147</td>\n",
       "      <td>9283</td>\n",
       "      <td>437</td>\n",
       "      <td>1.4</td>\n",
       "      <td>Asia</td>\n",
       "    </tr>\n",
       "    <tr>\n",
       "      <th>2</th>\n",
       "      <td>Brazil</td>\n",
       "      <td>22030182</td>\n",
       "      <td>613066</td>\n",
       "      <td>22019870</td>\n",
       "      <td>612782</td>\n",
       "      <td>10312</td>\n",
       "      <td>284</td>\n",
       "      <td>2.8</td>\n",
       "      <td>South America</td>\n",
       "    </tr>\n",
       "    <tr>\n",
       "      <th>3</th>\n",
       "      <td>United Kingdom</td>\n",
       "      <td>9985879</td>\n",
       "      <td>144579</td>\n",
       "      <td>9942859</td>\n",
       "      <td>144414</td>\n",
       "      <td>43020</td>\n",
       "      <td>165</td>\n",
       "      <td>1.4</td>\n",
       "      <td>Europe</td>\n",
       "    </tr>\n",
       "    <tr>\n",
       "      <th>4</th>\n",
       "      <td>Russia</td>\n",
       "      <td>9238330</td>\n",
       "      <td>261526</td>\n",
       "      <td>9205431</td>\n",
       "      <td>260319</td>\n",
       "      <td>32899</td>\n",
       "      <td>1207</td>\n",
       "      <td>2.8</td>\n",
       "      <td>Europe</td>\n",
       "    </tr>\n",
       "  </tbody>\n",
       "</table>\n",
       "</div>"
      ],
      "text/plain": [
       "   Country/Region     Cases  Deaths    PCases  PDeaths  Cases (+)  Deaths (+)  \\\n",
       "0              US  47980780  773770  47888171   772344      92609        1426   \n",
       "1           India  34535763  466584  34526480   466147       9283         437   \n",
       "2          Brazil  22030182  613066  22019870   612782      10312         284   \n",
       "3  United Kingdom   9985879  144579   9942859   144414      43020         165   \n",
       "4          Russia   9238330  261526   9205431   260319      32899        1207   \n",
       "\n",
       "   Fatality Rate      Continent  \n",
       "0            1.6  North America  \n",
       "1            1.4           Asia  \n",
       "2            2.8  South America  \n",
       "3            1.4         Europe  \n",
       "4            2.8         Europe  "
      ]
     },
     "execution_count": 15,
     "metadata": {},
     "output_type": "execute_result"
    }
   ],
   "source": [
    "#hide\n",
    "df_table = (pd.DataFrame(dict(Cases=dfc_cases, Deaths=dfc_deaths, PCases=dfp_cases, PDeaths=dfp_deaths))\n",
    "             .sort_values(by=['Cases', 'Deaths'], ascending=[False, False])\n",
    "             .reset_index())\n",
    "df_table.rename(columns={'index': 'Country/Region'}, inplace=True)\n",
    "for c in 'Cases, Deaths'.split(', '):\n",
    "    df_table[f'{c} (+)'] = (df_table[c] - df_table[f'P{c}']).clip(0)  # DATA BUG\n",
    "df_table['Fatality Rate'] = (100 * df_table['Deaths'] / df_table['Cases']).round(1)\n",
    "df_table['Continent'] = df_table['Country/Region'].map(mapping['map.continent'])\n",
    "df_table.head(5)"
   ]
  },
  {
   "cell_type": "code",
   "execution_count": 16,
   "id": "fewer-occasion",
   "metadata": {
    "execution": {
     "iopub.execute_input": "2021-11-24T12:12:10.062598Z",
     "iopub.status.busy": "2021-11-24T12:12:10.062041Z",
     "iopub.status.idle": "2021-11-24T12:12:10.065848Z",
     "shell.execute_reply": "2021-11-24T12:12:10.065367Z"
    },
    "papermill": {
     "duration": 0.040128,
     "end_time": "2021-11-24T12:12:10.065970",
     "exception": false,
     "start_time": "2021-11-24T12:12:10.025842",
     "status": "completed"
    },
    "tags": []
   },
   "outputs": [],
   "source": [
    "#hide\n",
    "#delete problematic countries from table\n",
    "df_table = df_table[~df_table['Country/Region'].isin(['Cape Verde', 'Cruise Ship', 'Kosovo'])]"
   ]
  },
  {
   "cell_type": "code",
   "execution_count": 17,
   "id": "related-center",
   "metadata": {
    "execution": {
     "iopub.execute_input": "2021-11-24T12:12:10.139395Z",
     "iopub.status.busy": "2021-11-24T12:12:10.135836Z",
     "iopub.status.idle": "2021-11-24T12:12:10.152130Z",
     "shell.execute_reply": "2021-11-24T12:12:10.151634Z"
    },
    "papermill": {
     "duration": 0.054173,
     "end_time": "2021-11-24T12:12:10.152248",
     "exception": false,
     "start_time": "2021-11-24T12:12:10.098075",
     "status": "completed"
    },
    "tags": []
   },
   "outputs": [],
   "source": [
    "#hide\n",
    "metrics = [df_table.columns[index] for index in [1,2,5,6]]\n",
    "# s_china = df_table[df_table['Country/Region'].eq('China')][metrics].sum().add_prefix('China ')\n",
    "s_us = df_table[df_table['Country/Region'].eq('US')][metrics].sum().add_prefix('US ')\n",
    "s_eu = df_table[df_table['Continent'].eq('Europe')][metrics].sum().add_prefix('EU ')\n",
    "s_ind = df_table[df_table['Country/Region'].eq('India')][metrics].sum().add_prefix('India ')\n",
    "summary = {'updated': pd.to_datetime(dt_today), 'since': pd.to_datetime(dt_yday)}\n",
    "summary = {'updated': pd.to_datetime(dt_today), 'since': pd.to_datetime(dt_yday)}\n",
    "summary = {**summary, **df_table[metrics].sum(), **s_ind, **s_us, **s_eu}"
   ]
  },
  {
   "cell_type": "code",
   "execution_count": 18,
   "id": "engaging-syndrome",
   "metadata": {
    "execution": {
     "iopub.execute_input": "2021-11-24T12:12:10.228749Z",
     "iopub.status.busy": "2021-11-24T12:12:10.228140Z",
     "iopub.status.idle": "2021-11-24T12:12:10.244715Z",
     "shell.execute_reply": "2021-11-24T12:12:10.244206Z"
    },
    "papermill": {
     "duration": 0.05817,
     "end_time": "2021-11-24T12:12:10.244851",
     "exception": false,
     "start_time": "2021-11-24T12:12:10.186681",
     "status": "completed"
    },
    "tags": []
   },
   "outputs": [],
   "source": [
    "#hide\n",
    "dft_ct_new_cases = dft_cases.groupby(COL_REGION)[dt_cols].sum().diff(axis=1).fillna(0).astype(int)"
   ]
  },
  {
   "cell_type": "code",
   "execution_count": 19,
   "id": "neutral-assignment",
   "metadata": {
    "execution": {
     "iopub.execute_input": "2021-11-24T12:12:10.312834Z",
     "iopub.status.busy": "2021-11-24T12:12:10.312271Z",
     "iopub.status.idle": "2021-11-24T12:12:10.314619Z",
     "shell.execute_reply": "2021-11-24T12:12:10.314177Z"
    },
    "papermill": {
     "duration": 0.038477,
     "end_time": "2021-11-24T12:12:10.314742",
     "exception": false,
     "start_time": "2021-11-24T12:12:10.276265",
     "status": "completed"
    },
    "tags": []
   },
   "outputs": [],
   "source": [
    "#hide\n",
    "everydaycases = dft_ct_new_cases.cumsum(axis=1)"
   ]
  },
  {
   "cell_type": "code",
   "execution_count": 20,
   "id": "parliamentary-calgary",
   "metadata": {
    "execution": {
     "iopub.execute_input": "2021-11-24T12:12:10.383527Z",
     "iopub.status.busy": "2021-11-24T12:12:10.382992Z",
     "iopub.status.idle": "2021-11-24T12:12:11.124446Z",
     "shell.execute_reply": "2021-11-24T12:12:11.123913Z"
    },
    "papermill": {
     "duration": 0.779088,
     "end_time": "2021-11-24T12:12:11.124584",
     "exception": false,
     "start_time": "2021-11-24T12:12:10.345496",
     "status": "completed"
    },
    "tags": []
   },
   "outputs": [],
   "source": [
    "#hide\n",
    "import pandas as pd\n",
    "import matplotlib.pyplot as plt\n",
    "import matplotlib.ticker as ticker\n",
    "import matplotlib.animation as animation\n",
    "from IPython.display import HTML"
   ]
  },
  {
   "cell_type": "code",
   "execution_count": 21,
   "id": "lasting-extraction",
   "metadata": {
    "execution": {
     "iopub.execute_input": "2021-11-24T12:12:11.231251Z",
     "iopub.status.busy": "2021-11-24T12:12:11.230591Z",
     "iopub.status.idle": "2021-11-24T12:12:11.235372Z",
     "shell.execute_reply": "2021-11-24T12:12:11.234869Z"
    },
    "papermill": {
     "duration": 0.075594,
     "end_time": "2021-11-24T12:12:11.235506",
     "exception": false,
     "start_time": "2021-11-24T12:12:11.159912",
     "status": "completed"
    },
    "tags": []
   },
   "outputs": [],
   "source": [
    "#hide\n",
    "t = everydaycases.stack()"
   ]
  },
  {
   "cell_type": "code",
   "execution_count": 22,
   "id": "premier-sleeve",
   "metadata": {
    "execution": {
     "iopub.execute_input": "2021-11-24T12:12:11.304391Z",
     "iopub.status.busy": "2021-11-24T12:12:11.303910Z",
     "iopub.status.idle": "2021-11-24T12:12:11.314088Z",
     "shell.execute_reply": "2021-11-24T12:12:11.313613Z"
    },
    "papermill": {
     "duration": 0.044443,
     "end_time": "2021-11-24T12:12:11.314217",
     "exception": false,
     "start_time": "2021-11-24T12:12:11.269774",
     "status": "completed"
    },
    "tags": []
   },
   "outputs": [],
   "source": [
    "#hide\n",
    "g = t.reset_index(['Country/Region'])"
   ]
  },
  {
   "cell_type": "code",
   "execution_count": 23,
   "id": "distributed-pittsburgh",
   "metadata": {
    "execution": {
     "iopub.execute_input": "2021-11-24T12:12:11.381838Z",
     "iopub.status.busy": "2021-11-24T12:12:11.381260Z",
     "iopub.status.idle": "2021-11-24T12:12:11.385784Z",
     "shell.execute_reply": "2021-11-24T12:12:11.384798Z"
    },
    "papermill": {
     "duration": 0.039918,
     "end_time": "2021-11-24T12:12:11.385903",
     "exception": false,
     "start_time": "2021-11-24T12:12:11.345985",
     "status": "completed"
    },
    "tags": []
   },
   "outputs": [],
   "source": [
    "#hide\n",
    "g.index.name = 'date'"
   ]
  },
  {
   "cell_type": "code",
   "execution_count": 24,
   "id": "naked-donor",
   "metadata": {
    "execution": {
     "iopub.execute_input": "2021-11-24T12:12:11.453149Z",
     "iopub.status.busy": "2021-11-24T12:12:11.452128Z",
     "iopub.status.idle": "2021-11-24T12:12:11.454075Z",
     "shell.execute_reply": "2021-11-24T12:12:11.454742Z"
    },
    "papermill": {
     "duration": 0.03789,
     "end_time": "2021-11-24T12:12:11.454931",
     "exception": false,
     "start_time": "2021-11-24T12:12:11.417041",
     "status": "completed"
    },
    "tags": []
   },
   "outputs": [],
   "source": [
    "# #hide\n",
    "# g = g.reset_index(['date'])"
   ]
  },
  {
   "cell_type": "code",
   "execution_count": 25,
   "id": "incomplete-mustang",
   "metadata": {
    "execution": {
     "iopub.execute_input": "2021-11-24T12:12:11.523119Z",
     "iopub.status.busy": "2021-11-24T12:12:11.522604Z",
     "iopub.status.idle": "2021-11-24T12:12:11.524959Z",
     "shell.execute_reply": "2021-11-24T12:12:11.525419Z"
    },
    "papermill": {
     "duration": 0.036663,
     "end_time": "2021-11-24T12:12:11.525570",
     "exception": false,
     "start_time": "2021-11-24T12:12:11.488907",
     "status": "completed"
    },
    "tags": []
   },
   "outputs": [],
   "source": [
    "#hide\n",
    "# g.head()"
   ]
  },
  {
   "cell_type": "code",
   "execution_count": 26,
   "id": "specific-kruger",
   "metadata": {
    "execution": {
     "iopub.execute_input": "2021-11-24T12:12:11.588854Z",
     "iopub.status.busy": "2021-11-24T12:12:11.588308Z",
     "iopub.status.idle": "2021-11-24T12:12:11.590555Z",
     "shell.execute_reply": "2021-11-24T12:12:11.590994Z"
    },
    "papermill": {
     "duration": 0.035341,
     "end_time": "2021-11-24T12:12:11.591138",
     "exception": false,
     "start_time": "2021-11-24T12:12:11.555797",
     "status": "completed"
    },
    "tags": []
   },
   "outputs": [],
   "source": [
    "#hide\n",
    "# g.columns = ['date','country','cases']"
   ]
  },
  {
   "cell_type": "code",
   "execution_count": 27,
   "id": "tender-conversion",
   "metadata": {
    "execution": {
     "iopub.execute_input": "2021-11-24T12:12:11.654872Z",
     "iopub.status.busy": "2021-11-24T12:12:11.654391Z",
     "iopub.status.idle": "2021-11-24T12:12:11.657102Z",
     "shell.execute_reply": "2021-11-24T12:12:11.657662Z"
    },
    "papermill": {
     "duration": 0.036882,
     "end_time": "2021-11-24T12:12:11.657783",
     "exception": false,
     "start_time": "2021-11-24T12:12:11.620901",
     "status": "completed"
    },
    "tags": []
   },
   "outputs": [],
   "source": [
    "#hide\n",
    "# g['continent'] = g.country"
   ]
  },
  {
   "cell_type": "code",
   "execution_count": 28,
   "id": "substantial-wilderness",
   "metadata": {
    "execution": {
     "iopub.execute_input": "2021-11-24T12:12:11.719001Z",
     "iopub.status.busy": "2021-11-24T12:12:11.718524Z",
     "iopub.status.idle": "2021-11-24T12:12:11.720861Z",
     "shell.execute_reply": "2021-11-24T12:12:11.721331Z"
    },
    "papermill": {
     "duration": 0.034755,
     "end_time": "2021-11-24T12:12:11.721439",
     "exception": false,
     "start_time": "2021-11-24T12:12:11.686684",
     "status": "completed"
    },
    "tags": []
   },
   "outputs": [],
   "source": [
    "#hide\n",
    "# cols = list(g.columns.values)"
   ]
  },
  {
   "cell_type": "code",
   "execution_count": 29,
   "id": "solved-farming",
   "metadata": {
    "execution": {
     "iopub.execute_input": "2021-11-24T12:12:11.785084Z",
     "iopub.status.busy": "2021-11-24T12:12:11.784594Z",
     "iopub.status.idle": "2021-11-24T12:12:11.786846Z",
     "shell.execute_reply": "2021-11-24T12:12:11.787329Z"
    },
    "papermill": {
     "duration": 0.036134,
     "end_time": "2021-11-24T12:12:11.787436",
     "exception": false,
     "start_time": "2021-11-24T12:12:11.751302",
     "status": "completed"
    },
    "tags": []
   },
   "outputs": [],
   "source": [
    "#hide\n",
    "# cols.insert(0, cols.pop())"
   ]
  },
  {
   "cell_type": "code",
   "execution_count": 30,
   "id": "executed-adoption",
   "metadata": {
    "execution": {
     "iopub.execute_input": "2021-11-24T12:12:11.849881Z",
     "iopub.status.busy": "2021-11-24T12:12:11.849334Z",
     "iopub.status.idle": "2021-11-24T12:12:11.851905Z",
     "shell.execute_reply": "2021-11-24T12:12:11.852466Z"
    },
    "papermill": {
     "duration": 0.03591,
     "end_time": "2021-11-24T12:12:11.852584",
     "exception": false,
     "start_time": "2021-11-24T12:12:11.816674",
     "status": "completed"
    },
    "tags": []
   },
   "outputs": [],
   "source": [
    "#hide\n",
    "# g = g[cols]"
   ]
  },
  {
   "cell_type": "code",
   "execution_count": 31,
   "id": "subject-dublin",
   "metadata": {
    "execution": {
     "iopub.execute_input": "2021-11-24T12:12:11.917164Z",
     "iopub.status.busy": "2021-11-24T12:12:11.916688Z",
     "iopub.status.idle": "2021-11-24T12:12:11.919605Z",
     "shell.execute_reply": "2021-11-24T12:12:11.920061Z"
    },
    "papermill": {
     "duration": 0.037509,
     "end_time": "2021-11-24T12:12:11.920166",
     "exception": false,
     "start_time": "2021-11-24T12:12:11.882657",
     "status": "completed"
    },
    "tags": []
   },
   "outputs": [],
   "source": [
    "#hide\n",
    "# g['continent'] = g['continent'].map(mapping['map.continent'])"
   ]
  },
  {
   "cell_type": "code",
   "execution_count": 32,
   "id": "freelance-scout",
   "metadata": {
    "execution": {
     "iopub.execute_input": "2021-11-24T12:12:11.988470Z",
     "iopub.status.busy": "2021-11-24T12:12:11.987915Z",
     "iopub.status.idle": "2021-11-24T12:12:11.990377Z",
     "shell.execute_reply": "2021-11-24T12:12:11.990903Z"
    },
    "papermill": {
     "duration": 0.039676,
     "end_time": "2021-11-24T12:12:11.991052",
     "exception": false,
     "start_time": "2021-11-24T12:12:11.951376",
     "status": "completed"
    },
    "tags": []
   },
   "outputs": [],
   "source": [
    "#hide\n",
    "# g.head()"
   ]
  },
  {
   "cell_type": "code",
   "execution_count": 33,
   "id": "limited-engine",
   "metadata": {
    "execution": {
     "iopub.execute_input": "2021-11-24T12:12:12.056692Z",
     "iopub.status.busy": "2021-11-24T12:12:12.056130Z",
     "iopub.status.idle": "2021-11-24T12:12:12.058208Z",
     "shell.execute_reply": "2021-11-24T12:12:12.057743Z"
    },
    "papermill": {
     "duration": 0.036362,
     "end_time": "2021-11-24T12:12:12.058319",
     "exception": false,
     "start_time": "2021-11-24T12:12:12.021957",
     "status": "completed"
    },
    "tags": []
   },
   "outputs": [],
   "source": [
    "# hide\n",
    "# g['date'] = g['date'].astype('datetime64[ns]')"
   ]
  },
  {
   "cell_type": "code",
   "execution_count": 34,
   "id": "sophisticated-supervisor",
   "metadata": {
    "execution": {
     "iopub.execute_input": "2021-11-24T12:12:12.130941Z",
     "iopub.status.busy": "2021-11-24T12:12:12.129869Z",
     "iopub.status.idle": "2021-11-24T12:12:12.131975Z",
     "shell.execute_reply": "2021-11-24T12:12:12.132501Z"
    },
    "papermill": {
     "duration": 0.041174,
     "end_time": "2021-11-24T12:12:12.132632",
     "exception": false,
     "start_time": "2021-11-24T12:12:12.091458",
     "status": "completed"
    },
    "tags": []
   },
   "outputs": [],
   "source": [
    "#hide\n",
    "# g['date'] = g.date.dt.dayofyear"
   ]
  },
  {
   "cell_type": "code",
   "execution_count": 35,
   "id": "inside-dubai",
   "metadata": {
    "execution": {
     "iopub.execute_input": "2021-11-24T12:12:12.204951Z",
     "iopub.status.busy": "2021-11-24T12:12:12.203913Z",
     "iopub.status.idle": "2021-11-24T12:12:12.208507Z",
     "shell.execute_reply": "2021-11-24T12:12:12.208945Z"
    },
    "papermill": {
     "duration": 0.043033,
     "end_time": "2021-11-24T12:12:12.209075",
     "exception": false,
     "start_time": "2021-11-24T12:12:12.166042",
     "status": "completed"
    },
    "tags": []
   },
   "outputs": [],
   "source": [
    "#hide\n",
    "# g = g.rename(columns= {'continent':'group','country':'name','cases':'value'})"
   ]
  },
  {
   "cell_type": "code",
   "execution_count": 36,
   "id": "fleet-motorcycle",
   "metadata": {
    "execution": {
     "iopub.execute_input": "2021-11-24T12:12:12.280809Z",
     "iopub.status.busy": "2021-11-24T12:12:12.280274Z",
     "iopub.status.idle": "2021-11-24T12:12:12.284106Z",
     "shell.execute_reply": "2021-11-24T12:12:12.283661Z"
    },
    "papermill": {
     "duration": 0.040887,
     "end_time": "2021-11-24T12:12:12.284254",
     "exception": false,
     "start_time": "2021-11-24T12:12:12.243367",
     "status": "completed"
    },
    "tags": []
   },
   "outputs": [],
   "source": [
    "#hide\n",
    "# cols = ['name','group','day','value']"
   ]
  },
  {
   "cell_type": "code",
   "execution_count": 37,
   "id": "continued-sleeping",
   "metadata": {
    "execution": {
     "iopub.execute_input": "2021-11-24T12:12:12.349957Z",
     "iopub.status.busy": "2021-11-24T12:12:12.348966Z",
     "iopub.status.idle": "2021-11-24T12:12:12.351063Z",
     "shell.execute_reply": "2021-11-24T12:12:12.351532Z"
    },
    "papermill": {
     "duration": 0.037342,
     "end_time": "2021-11-24T12:12:12.351641",
     "exception": false,
     "start_time": "2021-11-24T12:12:12.314299",
     "status": "completed"
    },
    "tags": []
   },
   "outputs": [],
   "source": [
    "#hide\n",
    "# g.rename(columns= {'date':'day'},inplace = True)"
   ]
  },
  {
   "cell_type": "code",
   "execution_count": 38,
   "id": "major-fight",
   "metadata": {
    "execution": {
     "iopub.execute_input": "2021-11-24T12:12:12.418866Z",
     "iopub.status.busy": "2021-11-24T12:12:12.417910Z",
     "iopub.status.idle": "2021-11-24T12:12:12.422515Z",
     "shell.execute_reply": "2021-11-24T12:12:12.422108Z"
    },
    "papermill": {
     "duration": 0.039389,
     "end_time": "2021-11-24T12:12:12.422609",
     "exception": false,
     "start_time": "2021-11-24T12:12:12.383220",
     "status": "completed"
    },
    "tags": []
   },
   "outputs": [],
   "source": [
    "#hide\n",
    "# g = g[cols]"
   ]
  },
  {
   "cell_type": "code",
   "execution_count": 39,
   "id": "structured-mobile",
   "metadata": {
    "execution": {
     "iopub.execute_input": "2021-11-24T12:12:12.493377Z",
     "iopub.status.busy": "2021-11-24T12:12:12.492755Z",
     "iopub.status.idle": "2021-11-24T12:12:12.496507Z",
     "shell.execute_reply": "2021-11-24T12:12:12.496056Z"
    },
    "papermill": {
     "duration": 0.041945,
     "end_time": "2021-11-24T12:12:12.496618",
     "exception": false,
     "start_time": "2021-11-24T12:12:12.454673",
     "status": "completed"
    },
    "tags": []
   },
   "outputs": [],
   "source": [
    "# #hide\n",
    "# g = g[g.group.notna()]"
   ]
  },
  {
   "cell_type": "code",
   "execution_count": 40,
   "id": "determined-closing",
   "metadata": {
    "execution": {
     "iopub.execute_input": "2021-11-24T12:12:12.567223Z",
     "iopub.status.busy": "2021-11-24T12:12:12.566182Z",
     "iopub.status.idle": "2021-11-24T12:12:12.568295Z",
     "shell.execute_reply": "2021-11-24T12:12:12.569065Z"
    },
    "papermill": {
     "duration": 0.039398,
     "end_time": "2021-11-24T12:12:12.569277",
     "exception": false,
     "start_time": "2021-11-24T12:12:12.529879",
     "status": "completed"
    },
    "tags": []
   },
   "outputs": [],
   "source": [
    "# #hide\n",
    "# colors = dict(zip(\n",
    "#     [\"Oceania\", \"Europe\", \"Asia\", \"South America\", \"Middle East\", \"North America\", \"Africa\"],\n",
    "#     [\"#adb0ff\", \"#ffb3ff\", \"#90d595\", \"#e48381\", \"#aafbff\", \"#f7bb5f\", \"#eafb50\"]\n",
    "# ))\n",
    "# group_lk = g.set_index('name')['group'].to_dict()"
   ]
  },
  {
   "cell_type": "code",
   "execution_count": null,
   "id": "gross-drinking",
   "metadata": {
    "papermill": {
     "duration": 0.032781,
     "end_time": "2021-11-24T12:12:12.637704",
     "exception": false,
     "start_time": "2021-11-24T12:12:12.604923",
     "status": "completed"
    },
    "tags": []
   },
   "outputs": [],
   "source": []
  },
  {
   "cell_type": "code",
   "execution_count": 41,
   "id": "subject-macintosh",
   "metadata": {
    "execution": {
     "iopub.execute_input": "2021-11-24T12:12:12.708206Z",
     "iopub.status.busy": "2021-11-24T12:12:12.707606Z",
     "iopub.status.idle": "2021-11-24T12:12:12.709752Z",
     "shell.execute_reply": "2021-11-24T12:12:12.709172Z"
    },
    "papermill": {
     "duration": 0.039115,
     "end_time": "2021-11-24T12:12:12.709871",
     "exception": false,
     "start_time": "2021-11-24T12:12:12.670756",
     "status": "completed"
    },
    "tags": []
   },
   "outputs": [],
   "source": [
    "# #hide\n",
    "# fig, ax = plt.subplots(figsize=(15, 8))\n",
    "\n",
    "# def draw_barchart(current_day):\n",
    "#     dff = g[g['day'].eq(current_day)].sort_values(by='value', ascending=True).tail(10)\n",
    "#     ax.clear()\n",
    "#     ax.barh(dff['name'], dff['value'], color=[colors[group_lk[x]] for x in dff['name']])\n",
    "#     dx = dff['value'].max() / 200\n",
    "    \n",
    "#     for i, (value, name) in enumerate(zip(dff['value'], dff['name'])):\n",
    "#         ax.text(value-dx, i,     name,           size=14, weight=600, ha='right', va='bottom')\n",
    "#         ax.text(value-dx, i-.25, group_lk[name], size=10, color='#444444', ha='right', va='baseline')\n",
    "#         ax.text(value+dx, i,     f'{value:,.0f}',  size=14, ha='left',  va='center')\n",
    "#     ax.text(1, 0.4, current_day, transform=ax.transAxes, color='#777777', size=46, ha='right', weight=800)\n",
    "#     ax.text(0, 1.06, 'Population (thousands)', transform=ax.transAxes, size=12, color='#777777')\n",
    "#     ax.xaxis.set_major_formatter(ticker.StrMethodFormatter('{x:,.0f}'))\n",
    "#     ax.xaxis.set_ticks_position('top')\n",
    "#     ax.tick_params(axis='x', colors='#777777', labelsize=12)\n",
    "#     ax.set_yticks([])\n",
    "#     ax.margins(0, 0.01)\n",
    "#     ax.grid(which='major', axis='x', linestyle='-')\n",
    "#     ax.set_axisbelow(True)\n",
    "    \n",
    "#     ax.text(0, 1.15, 'Coronavirus',\n",
    "#             transform=ax.transAxes, size=24, weight=600, ha='left', va='top')\n",
    "# #     ax.text(1, 0, 'by @pratapvardhan; credit @jburnmurdoch', transform=ax.transAxes, color='#777777', ha='right',\n",
    "# #             bbox=dict(facecolor='white', alpha=0.8, edgecolor='white'))\n",
    "#     plt.box(False)"
   ]
  },
  {
   "cell_type": "code",
   "execution_count": 42,
   "id": "sexual-wages",
   "metadata": {
    "execution": {
     "iopub.execute_input": "2021-11-24T12:12:12.778991Z",
     "iopub.status.busy": "2021-11-24T12:12:12.778500Z",
     "iopub.status.idle": "2021-11-24T12:12:12.780833Z",
     "shell.execute_reply": "2021-11-24T12:12:12.780370Z"
    },
    "papermill": {
     "duration": 0.03821,
     "end_time": "2021-11-24T12:12:12.780941",
     "exception": false,
     "start_time": "2021-11-24T12:12:12.742731",
     "status": "completed"
    },
    "tags": []
   },
   "outputs": [],
   "source": [
    "# #hide_input\n",
    "# fig, ax = plt.subplots(figsize=(15, 8))\n",
    "# animator = animation.FuncAnimation(fig, draw_barchart, frames=range(g.day.values.min(), g.day.values.max()))\n",
    "# HTML(animator.to_jshtml())\n",
    "# # or use animator.to_html5_video() or animator.save() "
   ]
  },
  {
   "cell_type": "code",
   "execution_count": null,
   "id": "australian-container",
   "metadata": {
    "papermill": {
     "duration": 0.033271,
     "end_time": "2021-11-24T12:12:12.846354",
     "exception": false,
     "start_time": "2021-11-24T12:12:12.813083",
     "status": "completed"
    },
    "tags": []
   },
   "outputs": [],
   "source": []
  },
  {
   "cell_type": "code",
   "execution_count": null,
   "id": "mediterranean-pontiac",
   "metadata": {
    "papermill": {
     "duration": 0.030623,
     "end_time": "2021-11-24T12:12:12.908673",
     "exception": false,
     "start_time": "2021-11-24T12:12:12.878050",
     "status": "completed"
    },
    "tags": []
   },
   "outputs": [],
   "source": []
  },
  {
   "cell_type": "code",
   "execution_count": null,
   "id": "aging-legislature",
   "metadata": {
    "papermill": {
     "duration": 0.032138,
     "end_time": "2021-11-24T12:12:12.972239",
     "exception": false,
     "start_time": "2021-11-24T12:12:12.940101",
     "status": "completed"
    },
    "tags": []
   },
   "outputs": [],
   "source": []
  }
 ],
 "metadata": {
  "kernelspec": {
   "display_name": "Python 3",
   "language": "python",
   "name": "python3"
  },
  "language_info": {
   "codemirror_mode": {
    "name": "ipython",
    "version": 3
   },
   "file_extension": ".py",
   "mimetype": "text/x-python",
   "name": "python",
   "nbconvert_exporter": "python",
   "pygments_lexer": "ipython3",
   "version": "3.6.15"
  },
  "papermill": {
   "duration": 6.522823,
   "end_time": "2021-11-24T12:12:13.415942",
   "environment_variables": {},
   "exception": null,
   "input_path": "2020-03-21-covid19exp.ipynb",
   "output_path": "2020-03-21-covid19exp.ipynb",
   "parameters": {},
   "start_time": "2021-11-24T12:12:06.893119",
   "version": "2.0.0"
  }
 },
 "nbformat": 4,
 "nbformat_minor": 5
}