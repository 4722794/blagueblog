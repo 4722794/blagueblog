{
 "cells": [
  {
   "cell_type": "markdown",
   "metadata": {
    "papermill": {
     "duration": 0.032401,
     "end_time": "2021-01-02T12:07:47.656802",
     "exception": false,
     "start_time": "2021-01-02T12:07:47.624401",
     "status": "completed"
    },
    "tags": []
   },
   "source": [
    "# COVID-19 Case Race\n",
    "> A race chart to see rising cases around the world\n",
    "\n",
    "- author: Hargun Oberoi\n",
    "- image: images/covid-overview.png\n",
    "- hide: false\n",
    "- badges: false"
   ]
  },
  {
   "cell_type": "code",
   "execution_count": 1,
   "metadata": {
    "execution": {
     "iopub.execute_input": "2021-01-02T12:07:47.724696Z",
     "iopub.status.busy": "2021-01-02T12:07:47.722856Z",
     "iopub.status.idle": "2021-01-02T12:07:48.057692Z",
     "shell.execute_reply": "2021-01-02T12:07:48.057137Z"
    },
    "papermill": {
     "duration": 0.373853,
     "end_time": "2021-01-02T12:07:48.057847",
     "exception": false,
     "start_time": "2021-01-02T12:07:47.683994",
     "status": "completed"
    },
    "tags": []
   },
   "outputs": [],
   "source": [
    "#hide\n",
    "import numpy as np\n",
    "import pandas as pd\n",
    "from jinja2 import Template\n",
    "from IPython.display import HTML"
   ]
  },
  {
   "cell_type": "code",
   "execution_count": 2,
   "metadata": {
    "execution": {
     "iopub.execute_input": "2021-01-02T12:07:48.121441Z",
     "iopub.status.busy": "2021-01-02T12:07:48.120745Z",
     "iopub.status.idle": "2021-01-02T12:07:48.123292Z",
     "shell.execute_reply": "2021-01-02T12:07:48.122707Z"
    },
    "papermill": {
     "duration": 0.036267,
     "end_time": "2021-01-02T12:07:48.123470",
     "exception": false,
     "start_time": "2021-01-02T12:07:48.087203",
     "status": "completed"
    },
    "tags": []
   },
   "outputs": [],
   "source": [
    "#hide\n",
    "\n",
    "# FETCH\n",
    "base_url = 'https://raw.githubusercontent.com/pratapvardhan/notebooks/master/covid19/'\n",
    "paths = {\n",
    "    'mapping': base_url + 'mapping_countries.csv',\n",
    "    'overview': base_url + 'overview.tpl'\n",
    "}"
   ]
  },
  {
   "cell_type": "code",
   "execution_count": 3,
   "metadata": {
    "execution": {
     "iopub.execute_input": "2021-01-02T12:07:48.194555Z",
     "iopub.status.busy": "2021-01-02T12:07:48.193882Z",
     "iopub.status.idle": "2021-01-02T12:07:48.196712Z",
     "shell.execute_reply": "2021-01-02T12:07:48.197269Z"
    },
    "papermill": {
     "duration": 0.044044,
     "end_time": "2021-01-02T12:07:48.197430",
     "exception": false,
     "start_time": "2021-01-02T12:07:48.153386",
     "status": "completed"
    },
    "tags": []
   },
   "outputs": [
    {
     "data": {
      "text/plain": [
       "'https://raw.githubusercontent.com/pratapvardhan/notebooks/master/covid19/mapping_countries.csv'"
      ]
     },
     "execution_count": 3,
     "metadata": {},
     "output_type": "execute_result"
    }
   ],
   "source": [
    "#hide\n",
    "paths['mapping']"
   ]
  },
  {
   "cell_type": "code",
   "execution_count": 4,
   "metadata": {
    "execution": {
     "iopub.execute_input": "2021-01-02T12:07:48.263625Z",
     "iopub.status.busy": "2021-01-02T12:07:48.262988Z",
     "iopub.status.idle": "2021-01-02T12:07:48.265630Z",
     "shell.execute_reply": "2021-01-02T12:07:48.265080Z"
    },
    "papermill": {
     "duration": 0.039648,
     "end_time": "2021-01-02T12:07:48.265756",
     "exception": false,
     "start_time": "2021-01-02T12:07:48.226108",
     "status": "completed"
    },
    "tags": []
   },
   "outputs": [],
   "source": [
    "#hide\n",
    "def get_mappings(url):\n",
    "    df = pd.read_csv(url)\n",
    "    return {\n",
    "        'df': df,\n",
    "        'replace.country': dict(df.dropna(subset=['Name']).set_index('Country')['Name']),\n",
    "        'map.continent': dict(df.set_index('Name')['Continent'])\n",
    "    }"
   ]
  },
  {
   "cell_type": "code",
   "execution_count": 5,
   "metadata": {
    "execution": {
     "iopub.execute_input": "2021-01-02T12:07:48.331635Z",
     "iopub.status.busy": "2021-01-02T12:07:48.330797Z",
     "iopub.status.idle": "2021-01-02T12:07:48.387058Z",
     "shell.execute_reply": "2021-01-02T12:07:48.386435Z"
    },
    "papermill": {
     "duration": 0.091221,
     "end_time": "2021-01-02T12:07:48.387227",
     "exception": false,
     "start_time": "2021-01-02T12:07:48.296006",
     "status": "completed"
    },
    "tags": []
   },
   "outputs": [],
   "source": [
    "#hide\n",
    "mapping = get_mappings(paths['mapping'])"
   ]
  },
  {
   "cell_type": "code",
   "execution_count": 6,
   "metadata": {
    "execution": {
     "iopub.execute_input": "2021-01-02T12:07:48.453935Z",
     "iopub.status.busy": "2021-01-02T12:07:48.453386Z",
     "iopub.status.idle": "2021-01-02T12:07:48.456572Z",
     "shell.execute_reply": "2021-01-02T12:07:48.456109Z"
    },
    "papermill": {
     "duration": 0.036975,
     "end_time": "2021-01-02T12:07:48.456686",
     "exception": false,
     "start_time": "2021-01-02T12:07:48.419711",
     "status": "completed"
    },
    "tags": []
   },
   "outputs": [],
   "source": [
    "#hide\n",
    "def get_template(path):\n",
    "    from urllib.parse import urlparse\n",
    "    if bool(urlparse(path).netloc):\n",
    "        from urllib.request import urlopen\n",
    "        return urlopen(path).read().decode('utf8')\n",
    "    return open(path).read()"
   ]
  },
  {
   "cell_type": "code",
   "execution_count": 7,
   "metadata": {
    "execution": {
     "iopub.execute_input": "2021-01-02T12:07:48.523838Z",
     "iopub.status.busy": "2021-01-02T12:07:48.523043Z",
     "iopub.status.idle": "2021-01-02T12:07:48.525062Z",
     "shell.execute_reply": "2021-01-02T12:07:48.525527Z"
    },
    "papermill": {
     "duration": 0.038238,
     "end_time": "2021-01-02T12:07:48.525657",
     "exception": false,
     "start_time": "2021-01-02T12:07:48.487419",
     "status": "completed"
    },
    "tags": []
   },
   "outputs": [],
   "source": [
    "#hide\n",
    "def get_frame(name):\n",
    "    url = (\n",
    "        'https://raw.githubusercontent.com/CSSEGISandData/COVID-19/master/csse_covid_19_data/'\n",
    "        f'csse_covid_19_time_series/time_series_covid19_{name}_global.csv')\n",
    "    df = pd.read_csv(url)\n",
    "    # rename countries\n",
    "    df['Country/Region'] = df['Country/Region'].replace(mapping['replace.country'])\n",
    "    return df"
   ]
  },
  {
   "cell_type": "code",
   "execution_count": 8,
   "metadata": {
    "execution": {
     "iopub.execute_input": "2021-01-02T12:07:48.587960Z",
     "iopub.status.busy": "2021-01-02T12:07:48.587372Z",
     "iopub.status.idle": "2021-01-02T12:07:48.589259Z",
     "shell.execute_reply": "2021-01-02T12:07:48.589951Z"
    },
    "papermill": {
     "duration": 0.036792,
     "end_time": "2021-01-02T12:07:48.590088",
     "exception": false,
     "start_time": "2021-01-02T12:07:48.553296",
     "status": "completed"
    },
    "tags": []
   },
   "outputs": [],
   "source": [
    "#hide\n",
    "def get_dates(df):\n",
    "    dt_cols = df.columns[~df.columns.isin(['Province/State', 'Country/Region', 'Lat', 'Long'])]\n",
    "    LAST_DATE_I = -1\n",
    "    # sometimes last column may be empty, then go backwards\n",
    "    for i in range(-1, -len(dt_cols), -1):\n",
    "        if not df[dt_cols[i]].fillna(0).eq(0).all():\n",
    "            LAST_DATE_I = i\n",
    "            break\n",
    "    return LAST_DATE_I, dt_cols"
   ]
  },
  {
   "cell_type": "code",
   "execution_count": 9,
   "metadata": {
    "execution": {
     "iopub.execute_input": "2021-01-02T12:07:48.652945Z",
     "iopub.status.busy": "2021-01-02T12:07:48.652289Z",
     "iopub.status.idle": "2021-01-02T12:07:49.034382Z",
     "shell.execute_reply": "2021-01-02T12:07:49.033634Z"
    },
    "papermill": {
     "duration": 0.417711,
     "end_time": "2021-01-02T12:07:49.034522",
     "exception": false,
     "start_time": "2021-01-02T12:07:48.616811",
     "status": "completed"
    },
    "tags": []
   },
   "outputs": [],
   "source": [
    "#hide\n",
    "COL_REGION = 'Country/Region'\n",
    "# Confirmed, Recovered, Deaths\n",
    "df = get_frame('confirmed')\n",
    "# dft_: timeseries, dfc_: today country agg\n",
    "dft_cases = df\n",
    "dft_deaths = get_frame('deaths')\n",
    "dft_recovered = get_frame('recovered')\n",
    "LAST_DATE_I, dt_cols = get_dates(df)"
   ]
  },
  {
   "cell_type": "code",
   "execution_count": 10,
   "metadata": {
    "execution": {
     "iopub.execute_input": "2021-01-02T12:07:49.096633Z",
     "iopub.status.busy": "2021-01-02T12:07:49.095800Z",
     "iopub.status.idle": "2021-01-02T12:07:49.098579Z",
     "shell.execute_reply": "2021-01-02T12:07:49.098118Z"
    },
    "papermill": {
     "duration": 0.035071,
     "end_time": "2021-01-02T12:07:49.098692",
     "exception": false,
     "start_time": "2021-01-02T12:07:49.063621",
     "status": "completed"
    },
    "tags": []
   },
   "outputs": [],
   "source": [
    "#hide\n",
    "LAST_DATE_I, dt_cols = get_dates(df)\n",
    "dt_today =dt_cols[LAST_DATE_I]\n",
    "# dt_5day = dt_cols[LAST_DATE_I - 5]\n",
    "dt_yday = dt_cols[LAST_DATE_I - 1]"
   ]
  },
  {
   "cell_type": "code",
   "execution_count": 11,
   "metadata": {
    "execution": {
     "iopub.execute_input": "2021-01-02T12:07:49.158758Z",
     "iopub.status.busy": "2021-01-02T12:07:49.158030Z",
     "iopub.status.idle": "2021-01-02T12:07:49.167294Z",
     "shell.execute_reply": "2021-01-02T12:07:49.167900Z"
    },
    "papermill": {
     "duration": 0.042589,
     "end_time": "2021-01-02T12:07:49.168052",
     "exception": false,
     "start_time": "2021-01-02T12:07:49.125463",
     "status": "completed"
    },
    "tags": []
   },
   "outputs": [],
   "source": [
    "#hide\n",
    "dfc_cases = dft_cases.groupby(COL_REGION)[dt_today].sum()\n",
    "dfc_deaths = dft_deaths.groupby(COL_REGION)[dt_today].sum()\n",
    "# dfp_cases = dft_cases.groupby(COL_REGION)[dt_5day].sum()\n",
    "# dfp_deaths = dft_deaths.groupby(COL_REGION)[dt_5day].sum()\n",
    "dfp_cases = dft_cases.groupby(COL_REGION)[dt_yday].sum()\n",
    "dfp_deaths = dft_deaths.groupby(COL_REGION)[dt_yday].sum()"
   ]
  },
  {
   "cell_type": "code",
   "execution_count": 12,
   "metadata": {
    "execution": {
     "iopub.execute_input": "2021-01-02T12:07:49.235025Z",
     "iopub.status.busy": "2021-01-02T12:07:49.234352Z",
     "iopub.status.idle": "2021-01-02T12:07:49.239437Z",
     "shell.execute_reply": "2021-01-02T12:07:49.240046Z"
    },
    "papermill": {
     "duration": 0.042454,
     "end_time": "2021-01-02T12:07:49.240202",
     "exception": false,
     "start_time": "2021-01-02T12:07:49.197748",
     "status": "completed"
    },
    "tags": []
   },
   "outputs": [],
   "source": [
    "#hide\n",
    "df_table = (pd.DataFrame(dict(Cases = dfc_cases, Deaths = dfc_deaths, PCases = dfp_cases, PDeaths = dfp_deaths))\n",
    "            .sort_values(by = ['Cases','Deaths'], ascending = [False, False])\n",
    "            .reset_index())"
   ]
  },
  {
   "cell_type": "code",
   "execution_count": 13,
   "metadata": {
    "execution": {
     "iopub.execute_input": "2021-01-02T12:07:49.322020Z",
     "iopub.status.busy": "2021-01-02T12:07:49.321475Z",
     "iopub.status.idle": "2021-01-02T12:07:49.328648Z",
     "shell.execute_reply": "2021-01-02T12:07:49.329164Z"
    },
    "papermill": {
     "duration": 0.056382,
     "end_time": "2021-01-02T12:07:49.329296",
     "exception": false,
     "start_time": "2021-01-02T12:07:49.272914",
     "status": "completed"
    },
    "tags": []
   },
   "outputs": [
    {
     "data": {
      "text/html": [
       "<div>\n",
       "<style scoped>\n",
       "    .dataframe tbody tr th:only-of-type {\n",
       "        vertical-align: middle;\n",
       "    }\n",
       "\n",
       "    .dataframe tbody tr th {\n",
       "        vertical-align: top;\n",
       "    }\n",
       "\n",
       "    .dataframe thead th {\n",
       "        text-align: right;\n",
       "    }\n",
       "</style>\n",
       "<table border=\"1\" class=\"dataframe\">\n",
       "  <thead>\n",
       "    <tr style=\"text-align: right;\">\n",
       "      <th></th>\n",
       "      <th>Country/Region</th>\n",
       "      <th>Cases</th>\n",
       "      <th>Deaths</th>\n",
       "      <th>PCases</th>\n",
       "      <th>PDeaths</th>\n",
       "      <th>Cases (+)</th>\n",
       "      <th>Deaths (+)</th>\n",
       "      <th>Fatality Rate</th>\n",
       "      <th>Continent</th>\n",
       "    </tr>\n",
       "  </thead>\n",
       "  <tbody>\n",
       "    <tr>\n",
       "      <th>0</th>\n",
       "      <td>US</td>\n",
       "      <td>20128693</td>\n",
       "      <td>347788</td>\n",
       "      <td>19968087</td>\n",
       "      <td>345737</td>\n",
       "      <td>160606</td>\n",
       "      <td>2051</td>\n",
       "      <td>1.73</td>\n",
       "      <td>North America</td>\n",
       "    </tr>\n",
       "    <tr>\n",
       "      <th>1</th>\n",
       "      <td>India</td>\n",
       "      <td>10286709</td>\n",
       "      <td>148994</td>\n",
       "      <td>10266674</td>\n",
       "      <td>148738</td>\n",
       "      <td>20035</td>\n",
       "      <td>256</td>\n",
       "      <td>1.45</td>\n",
       "      <td>Asia</td>\n",
       "    </tr>\n",
       "    <tr>\n",
       "      <th>2</th>\n",
       "      <td>Brazil</td>\n",
       "      <td>7700578</td>\n",
       "      <td>195411</td>\n",
       "      <td>7675973</td>\n",
       "      <td>194949</td>\n",
       "      <td>24605</td>\n",
       "      <td>462</td>\n",
       "      <td>2.54</td>\n",
       "      <td>South America</td>\n",
       "    </tr>\n",
       "    <tr>\n",
       "      <th>3</th>\n",
       "      <td>Russia</td>\n",
       "      <td>3153960</td>\n",
       "      <td>56798</td>\n",
       "      <td>3127347</td>\n",
       "      <td>56271</td>\n",
       "      <td>26613</td>\n",
       "      <td>527</td>\n",
       "      <td>1.80</td>\n",
       "      <td>Europe</td>\n",
       "    </tr>\n",
       "    <tr>\n",
       "      <th>4</th>\n",
       "      <td>France</td>\n",
       "      <td>2697014</td>\n",
       "      <td>64892</td>\n",
       "      <td>2677666</td>\n",
       "      <td>64759</td>\n",
       "      <td>19348</td>\n",
       "      <td>133</td>\n",
       "      <td>2.41</td>\n",
       "      <td>Europe</td>\n",
       "    </tr>\n",
       "  </tbody>\n",
       "</table>\n",
       "</div>"
      ],
      "text/plain": [
       "  Country/Region     Cases  Deaths    PCases  PDeaths  Cases (+)  Deaths (+)  \\\n",
       "0             US  20128693  347788  19968087   345737     160606        2051   \n",
       "1          India  10286709  148994  10266674   148738      20035         256   \n",
       "2         Brazil   7700578  195411   7675973   194949      24605         462   \n",
       "3         Russia   3153960   56798   3127347    56271      26613         527   \n",
       "4         France   2697014   64892   2677666    64759      19348         133   \n",
       "\n",
       "   Fatality Rate      Continent  \n",
       "0           1.73  North America  \n",
       "1           1.45           Asia  \n",
       "2           2.54  South America  \n",
       "3           1.80         Europe  \n",
       "4           2.41         Europe  "
      ]
     },
     "execution_count": 13,
     "metadata": {},
     "output_type": "execute_result"
    }
   ],
   "source": [
    "#hide\n",
    "for c in 'Cases, Deaths'.split(', '):\n",
    "    df_table[f'{c} (+)'] = (df_table[c] - df_table[f'P{c}']).clip(0)\n",
    "    #Clip ça veut dire, les chiffres negatif sont interdit\n",
    "df_table['Fatality Rate'] = (100* df_table['Deaths']/ df_table['Cases']).round(2)\n",
    "df_table['Continent'] = df_table['Country/Region'].map(mapping['map.continent'])\n",
    "df_table.head(5)"
   ]
  },
  {
   "cell_type": "code",
   "execution_count": 14,
   "metadata": {
    "execution": {
     "iopub.execute_input": "2021-01-02T12:07:49.393105Z",
     "iopub.status.busy": "2021-01-02T12:07:49.392288Z",
     "iopub.status.idle": "2021-01-02T12:07:49.396052Z",
     "shell.execute_reply": "2021-01-02T12:07:49.395511Z"
    },
    "papermill": {
     "duration": 0.038116,
     "end_time": "2021-01-02T12:07:49.396177",
     "exception": false,
     "start_time": "2021-01-02T12:07:49.358061",
     "status": "completed"
    },
    "tags": []
   },
   "outputs": [],
   "source": [
    "#hide\n",
    "#delete problematic countries from table\n",
    "df_table = df_table[~df_table['Country/Region'].isin(['Cape Verde', 'Cruise Ship', 'Kosovo'])]"
   ]
  },
  {
   "cell_type": "code",
   "execution_count": 15,
   "metadata": {
    "execution": {
     "iopub.execute_input": "2021-01-02T12:07:49.463159Z",
     "iopub.status.busy": "2021-01-02T12:07:49.462572Z",
     "iopub.status.idle": "2021-01-02T12:07:49.484198Z",
     "shell.execute_reply": "2021-01-02T12:07:49.483734Z"
    },
    "papermill": {
     "duration": 0.057288,
     "end_time": "2021-01-02T12:07:49.484312",
     "exception": false,
     "start_time": "2021-01-02T12:07:49.427024",
     "status": "completed"
    },
    "tags": []
   },
   "outputs": [
    {
     "data": {
      "text/html": [
       "<div>\n",
       "<style scoped>\n",
       "    .dataframe tbody tr th:only-of-type {\n",
       "        vertical-align: middle;\n",
       "    }\n",
       "\n",
       "    .dataframe tbody tr th {\n",
       "        vertical-align: top;\n",
       "    }\n",
       "\n",
       "    .dataframe thead th {\n",
       "        text-align: right;\n",
       "    }\n",
       "</style>\n",
       "<table border=\"1\" class=\"dataframe\">\n",
       "  <thead>\n",
       "    <tr style=\"text-align: right;\">\n",
       "      <th></th>\n",
       "      <th>Country/Region</th>\n",
       "      <th>Cases</th>\n",
       "      <th>Deaths</th>\n",
       "      <th>PCases</th>\n",
       "      <th>PDeaths</th>\n",
       "      <th>Cases (+)</th>\n",
       "      <th>Deaths (+)</th>\n",
       "      <th>Fatality Rate</th>\n",
       "      <th>Continent</th>\n",
       "    </tr>\n",
       "  </thead>\n",
       "  <tbody>\n",
       "    <tr>\n",
       "      <th>0</th>\n",
       "      <td>US</td>\n",
       "      <td>20128693</td>\n",
       "      <td>347788</td>\n",
       "      <td>19968087</td>\n",
       "      <td>345737</td>\n",
       "      <td>160606</td>\n",
       "      <td>2051</td>\n",
       "      <td>1.7</td>\n",
       "      <td>North America</td>\n",
       "    </tr>\n",
       "    <tr>\n",
       "      <th>1</th>\n",
       "      <td>India</td>\n",
       "      <td>10286709</td>\n",
       "      <td>148994</td>\n",
       "      <td>10266674</td>\n",
       "      <td>148738</td>\n",
       "      <td>20035</td>\n",
       "      <td>256</td>\n",
       "      <td>1.4</td>\n",
       "      <td>Asia</td>\n",
       "    </tr>\n",
       "    <tr>\n",
       "      <th>2</th>\n",
       "      <td>Brazil</td>\n",
       "      <td>7700578</td>\n",
       "      <td>195411</td>\n",
       "      <td>7675973</td>\n",
       "      <td>194949</td>\n",
       "      <td>24605</td>\n",
       "      <td>462</td>\n",
       "      <td>2.5</td>\n",
       "      <td>South America</td>\n",
       "    </tr>\n",
       "    <tr>\n",
       "      <th>3</th>\n",
       "      <td>Russia</td>\n",
       "      <td>3153960</td>\n",
       "      <td>56798</td>\n",
       "      <td>3127347</td>\n",
       "      <td>56271</td>\n",
       "      <td>26613</td>\n",
       "      <td>527</td>\n",
       "      <td>1.8</td>\n",
       "      <td>Europe</td>\n",
       "    </tr>\n",
       "    <tr>\n",
       "      <th>4</th>\n",
       "      <td>France</td>\n",
       "      <td>2697014</td>\n",
       "      <td>64892</td>\n",
       "      <td>2677666</td>\n",
       "      <td>64759</td>\n",
       "      <td>19348</td>\n",
       "      <td>133</td>\n",
       "      <td>2.4</td>\n",
       "      <td>Europe</td>\n",
       "    </tr>\n",
       "  </tbody>\n",
       "</table>\n",
       "</div>"
      ],
      "text/plain": [
       "  Country/Region     Cases  Deaths    PCases  PDeaths  Cases (+)  Deaths (+)  \\\n",
       "0             US  20128693  347788  19968087   345737     160606        2051   \n",
       "1          India  10286709  148994  10266674   148738      20035         256   \n",
       "2         Brazil   7700578  195411   7675973   194949      24605         462   \n",
       "3         Russia   3153960   56798   3127347    56271      26613         527   \n",
       "4         France   2697014   64892   2677666    64759      19348         133   \n",
       "\n",
       "   Fatality Rate      Continent  \n",
       "0            1.7  North America  \n",
       "1            1.4           Asia  \n",
       "2            2.5  South America  \n",
       "3            1.8         Europe  \n",
       "4            2.4         Europe  "
      ]
     },
     "execution_count": 15,
     "metadata": {},
     "output_type": "execute_result"
    }
   ],
   "source": [
    "#hide\n",
    "df_table = (pd.DataFrame(dict(Cases=dfc_cases, Deaths=dfc_deaths, PCases=dfp_cases, PDeaths=dfp_deaths))\n",
    "             .sort_values(by=['Cases', 'Deaths'], ascending=[False, False])\n",
    "             .reset_index())\n",
    "df_table.rename(columns={'index': 'Country/Region'}, inplace=True)\n",
    "for c in 'Cases, Deaths'.split(', '):\n",
    "    df_table[f'{c} (+)'] = (df_table[c] - df_table[f'P{c}']).clip(0)  # DATA BUG\n",
    "df_table['Fatality Rate'] = (100 * df_table['Deaths'] / df_table['Cases']).round(1)\n",
    "df_table['Continent'] = df_table['Country/Region'].map(mapping['map.continent'])\n",
    "df_table.head(5)"
   ]
  },
  {
   "cell_type": "code",
   "execution_count": 16,
   "metadata": {
    "execution": {
     "iopub.execute_input": "2021-01-02T12:07:49.544752Z",
     "iopub.status.busy": "2021-01-02T12:07:49.544123Z",
     "iopub.status.idle": "2021-01-02T12:07:49.547345Z",
     "shell.execute_reply": "2021-01-02T12:07:49.546871Z"
    },
    "papermill": {
     "duration": 0.035169,
     "end_time": "2021-01-02T12:07:49.547454",
     "exception": false,
     "start_time": "2021-01-02T12:07:49.512285",
     "status": "completed"
    },
    "tags": []
   },
   "outputs": [],
   "source": [
    "#hide\n",
    "#delete problematic countries from table\n",
    "df_table = df_table[~df_table['Country/Region'].isin(['Cape Verde', 'Cruise Ship', 'Kosovo'])]"
   ]
  },
  {
   "cell_type": "code",
   "execution_count": 17,
   "metadata": {
    "execution": {
     "iopub.execute_input": "2021-01-02T12:07:49.618761Z",
     "iopub.status.busy": "2021-01-02T12:07:49.618047Z",
     "iopub.status.idle": "2021-01-02T12:07:49.630267Z",
     "shell.execute_reply": "2021-01-02T12:07:49.630742Z"
    },
    "papermill": {
     "duration": 0.051889,
     "end_time": "2021-01-02T12:07:49.630870",
     "exception": false,
     "start_time": "2021-01-02T12:07:49.578981",
     "status": "completed"
    },
    "tags": []
   },
   "outputs": [],
   "source": [
    "#hide\n",
    "metrics = [df_table.columns[index] for index in [1,2,5,6]]\n",
    "# s_china = df_table[df_table['Country/Region'].eq('China')][metrics].sum().add_prefix('China ')\n",
    "s_us = df_table[df_table['Country/Region'].eq('US')][metrics].sum().add_prefix('US ')\n",
    "s_eu = df_table[df_table['Continent'].eq('Europe')][metrics].sum().add_prefix('EU ')\n",
    "s_ind = df_table[df_table['Country/Region'].eq('India')][metrics].sum().add_prefix('India ')\n",
    "summary = {'updated': pd.to_datetime(dt_today), 'since': pd.to_datetime(dt_yday)}\n",
    "summary = {'updated': pd.to_datetime(dt_today), 'since': pd.to_datetime(dt_yday)}\n",
    "summary = {**summary, **df_table[metrics].sum(), **s_ind, **s_us, **s_eu}"
   ]
  },
  {
   "cell_type": "code",
   "execution_count": 18,
   "metadata": {
    "execution": {
     "iopub.execute_input": "2021-01-02T12:07:49.696661Z",
     "iopub.status.busy": "2021-01-02T12:07:49.696056Z",
     "iopub.status.idle": "2021-01-02T12:07:49.706132Z",
     "shell.execute_reply": "2021-01-02T12:07:49.706801Z"
    },
    "papermill": {
     "duration": 0.047019,
     "end_time": "2021-01-02T12:07:49.706960",
     "exception": false,
     "start_time": "2021-01-02T12:07:49.659941",
     "status": "completed"
    },
    "tags": []
   },
   "outputs": [],
   "source": [
    "#hide\n",
    "dft_ct_new_cases = dft_cases.groupby(COL_REGION)[dt_cols].sum().diff(axis=1).fillna(0).astype(int)"
   ]
  },
  {
   "cell_type": "code",
   "execution_count": 19,
   "metadata": {
    "execution": {
     "iopub.execute_input": "2021-01-02T12:07:49.770348Z",
     "iopub.status.busy": "2021-01-02T12:07:49.769682Z",
     "iopub.status.idle": "2021-01-02T12:07:49.772068Z",
     "shell.execute_reply": "2021-01-02T12:07:49.772557Z"
    },
    "papermill": {
     "duration": 0.036429,
     "end_time": "2021-01-02T12:07:49.772683",
     "exception": false,
     "start_time": "2021-01-02T12:07:49.736254",
     "status": "completed"
    },
    "tags": []
   },
   "outputs": [],
   "source": [
    "#hide\n",
    "everydaycases = dft_ct_new_cases.cumsum(axis=1)"
   ]
  },
  {
   "cell_type": "code",
   "execution_count": 20,
   "metadata": {
    "execution": {
     "iopub.execute_input": "2021-01-02T12:07:49.836447Z",
     "iopub.status.busy": "2021-01-02T12:07:49.835753Z",
     "iopub.status.idle": "2021-01-02T12:07:50.804981Z",
     "shell.execute_reply": "2021-01-02T12:07:50.804326Z"
    },
    "papermill": {
     "duration": 1.001487,
     "end_time": "2021-01-02T12:07:50.805142",
     "exception": false,
     "start_time": "2021-01-02T12:07:49.803655",
     "status": "completed"
    },
    "tags": []
   },
   "outputs": [],
   "source": [
    "#hide\n",
    "import pandas as pd\n",
    "import matplotlib.pyplot as plt\n",
    "import matplotlib.ticker as ticker\n",
    "import matplotlib.animation as animation\n",
    "from IPython.display import HTML"
   ]
  },
  {
   "cell_type": "code",
   "execution_count": 21,
   "metadata": {
    "execution": {
     "iopub.execute_input": "2021-01-02T12:07:50.868631Z",
     "iopub.status.busy": "2021-01-02T12:07:50.867982Z",
     "iopub.status.idle": "2021-01-02T12:07:50.872225Z",
     "shell.execute_reply": "2021-01-02T12:07:50.872810Z"
    },
    "papermill": {
     "duration": 0.037471,
     "end_time": "2021-01-02T12:07:50.872957",
     "exception": false,
     "start_time": "2021-01-02T12:07:50.835486",
     "status": "completed"
    },
    "tags": []
   },
   "outputs": [],
   "source": [
    "#hide\n",
    "t = everydaycases.stack()"
   ]
  },
  {
   "cell_type": "code",
   "execution_count": 22,
   "metadata": {
    "execution": {
     "iopub.execute_input": "2021-01-02T12:07:50.941186Z",
     "iopub.status.busy": "2021-01-02T12:07:50.940515Z",
     "iopub.status.idle": "2021-01-02T12:07:50.947691Z",
     "shell.execute_reply": "2021-01-02T12:07:50.947172Z"
    },
    "papermill": {
     "duration": 0.043975,
     "end_time": "2021-01-02T12:07:50.947819",
     "exception": false,
     "start_time": "2021-01-02T12:07:50.903844",
     "status": "completed"
    },
    "tags": []
   },
   "outputs": [],
   "source": [
    "#hide\n",
    "g = t.reset_index(['Country/Region'])"
   ]
  },
  {
   "cell_type": "code",
   "execution_count": 23,
   "metadata": {
    "execution": {
     "iopub.execute_input": "2021-01-02T12:07:51.014559Z",
     "iopub.status.busy": "2021-01-02T12:07:51.013948Z",
     "iopub.status.idle": "2021-01-02T12:07:51.016134Z",
     "shell.execute_reply": "2021-01-02T12:07:51.015580Z"
    },
    "papermill": {
     "duration": 0.040084,
     "end_time": "2021-01-02T12:07:51.016269",
     "exception": false,
     "start_time": "2021-01-02T12:07:50.976185",
     "status": "completed"
    },
    "tags": []
   },
   "outputs": [],
   "source": [
    "#hide\n",
    "g.index.name = 'date'"
   ]
  },
  {
   "cell_type": "code",
   "execution_count": 24,
   "metadata": {
    "execution": {
     "iopub.execute_input": "2021-01-02T12:07:51.079494Z",
     "iopub.status.busy": "2021-01-02T12:07:51.078906Z",
     "iopub.status.idle": "2021-01-02T12:07:51.081363Z",
     "shell.execute_reply": "2021-01-02T12:07:51.080743Z"
    },
    "papermill": {
     "duration": 0.036558,
     "end_time": "2021-01-02T12:07:51.081490",
     "exception": false,
     "start_time": "2021-01-02T12:07:51.044932",
     "status": "completed"
    },
    "tags": []
   },
   "outputs": [],
   "source": [
    "# #hide\n",
    "# g = g.reset_index(['date'])"
   ]
  },
  {
   "cell_type": "code",
   "execution_count": 25,
   "metadata": {
    "execution": {
     "iopub.execute_input": "2021-01-02T12:07:51.147848Z",
     "iopub.status.busy": "2021-01-02T12:07:51.147178Z",
     "iopub.status.idle": "2021-01-02T12:07:51.149328Z",
     "shell.execute_reply": "2021-01-02T12:07:51.149787Z"
    },
    "papermill": {
     "duration": 0.03658,
     "end_time": "2021-01-02T12:07:51.149936",
     "exception": false,
     "start_time": "2021-01-02T12:07:51.113356",
     "status": "completed"
    },
    "tags": []
   },
   "outputs": [],
   "source": [
    "#hide\n",
    "# g.head()"
   ]
  },
  {
   "cell_type": "code",
   "execution_count": 26,
   "metadata": {
    "execution": {
     "iopub.execute_input": "2021-01-02T12:07:51.212808Z",
     "iopub.status.busy": "2021-01-02T12:07:51.212137Z",
     "iopub.status.idle": "2021-01-02T12:07:51.217237Z",
     "shell.execute_reply": "2021-01-02T12:07:51.217700Z"
    },
    "papermill": {
     "duration": 0.038542,
     "end_time": "2021-01-02T12:07:51.217886",
     "exception": false,
     "start_time": "2021-01-02T12:07:51.179344",
     "status": "completed"
    },
    "tags": []
   },
   "outputs": [],
   "source": [
    "#hide\n",
    "# g.columns = ['date','country','cases']"
   ]
  },
  {
   "cell_type": "code",
   "execution_count": 27,
   "metadata": {
    "execution": {
     "iopub.execute_input": "2021-01-02T12:07:51.286153Z",
     "iopub.status.busy": "2021-01-02T12:07:51.285501Z",
     "iopub.status.idle": "2021-01-02T12:07:51.287784Z",
     "shell.execute_reply": "2021-01-02T12:07:51.288252Z"
    },
    "papermill": {
     "duration": 0.038418,
     "end_time": "2021-01-02T12:07:51.288382",
     "exception": false,
     "start_time": "2021-01-02T12:07:51.249964",
     "status": "completed"
    },
    "tags": []
   },
   "outputs": [],
   "source": [
    "#hide\n",
    "# g['continent'] = g.country"
   ]
  },
  {
   "cell_type": "code",
   "execution_count": 28,
   "metadata": {
    "execution": {
     "iopub.execute_input": "2021-01-02T12:07:51.353547Z",
     "iopub.status.busy": "2021-01-02T12:07:51.352877Z",
     "iopub.status.idle": "2021-01-02T12:07:51.354782Z",
     "shell.execute_reply": "2021-01-02T12:07:51.355278Z"
    },
    "papermill": {
     "duration": 0.037571,
     "end_time": "2021-01-02T12:07:51.355408",
     "exception": false,
     "start_time": "2021-01-02T12:07:51.317837",
     "status": "completed"
    },
    "tags": []
   },
   "outputs": [],
   "source": [
    "#hide\n",
    "# cols = list(g.columns.values)"
   ]
  },
  {
   "cell_type": "code",
   "execution_count": 29,
   "metadata": {
    "execution": {
     "iopub.execute_input": "2021-01-02T12:07:51.418305Z",
     "iopub.status.busy": "2021-01-02T12:07:51.417384Z",
     "iopub.status.idle": "2021-01-02T12:07:51.420319Z",
     "shell.execute_reply": "2021-01-02T12:07:51.419842Z"
    },
    "papermill": {
     "duration": 0.035866,
     "end_time": "2021-01-02T12:07:51.420437",
     "exception": false,
     "start_time": "2021-01-02T12:07:51.384571",
     "status": "completed"
    },
    "tags": []
   },
   "outputs": [],
   "source": [
    "#hide\n",
    "# cols.insert(0, cols.pop())"
   ]
  },
  {
   "cell_type": "code",
   "execution_count": 30,
   "metadata": {
    "execution": {
     "iopub.execute_input": "2021-01-02T12:07:51.489453Z",
     "iopub.status.busy": "2021-01-02T12:07:51.488834Z",
     "iopub.status.idle": "2021-01-02T12:07:51.490808Z",
     "shell.execute_reply": "2021-01-02T12:07:51.491295Z"
    },
    "papermill": {
     "duration": 0.035877,
     "end_time": "2021-01-02T12:07:51.491447",
     "exception": false,
     "start_time": "2021-01-02T12:07:51.455570",
     "status": "completed"
    },
    "tags": []
   },
   "outputs": [],
   "source": [
    "#hide\n",
    "# g = g[cols]"
   ]
  },
  {
   "cell_type": "code",
   "execution_count": 31,
   "metadata": {
    "execution": {
     "iopub.execute_input": "2021-01-02T12:07:51.552220Z",
     "iopub.status.busy": "2021-01-02T12:07:51.551694Z",
     "iopub.status.idle": "2021-01-02T12:07:51.553849Z",
     "shell.execute_reply": "2021-01-02T12:07:51.553393Z"
    },
    "papermill": {
     "duration": 0.033836,
     "end_time": "2021-01-02T12:07:51.553960",
     "exception": false,
     "start_time": "2021-01-02T12:07:51.520124",
     "status": "completed"
    },
    "tags": []
   },
   "outputs": [],
   "source": [
    "#hide\n",
    "# g['continent'] = g['continent'].map(mapping['map.continent'])"
   ]
  },
  {
   "cell_type": "code",
   "execution_count": 32,
   "metadata": {
    "execution": {
     "iopub.execute_input": "2021-01-02T12:07:51.613422Z",
     "iopub.status.busy": "2021-01-02T12:07:51.612875Z",
     "iopub.status.idle": "2021-01-02T12:07:51.615318Z",
     "shell.execute_reply": "2021-01-02T12:07:51.614866Z"
    },
    "papermill": {
     "duration": 0.032939,
     "end_time": "2021-01-02T12:07:51.615424",
     "exception": false,
     "start_time": "2021-01-02T12:07:51.582485",
     "status": "completed"
    },
    "tags": []
   },
   "outputs": [],
   "source": [
    "#hide\n",
    "# g.head()"
   ]
  },
  {
   "cell_type": "code",
   "execution_count": 33,
   "metadata": {
    "execution": {
     "iopub.execute_input": "2021-01-02T12:07:51.675598Z",
     "iopub.status.busy": "2021-01-02T12:07:51.675032Z",
     "iopub.status.idle": "2021-01-02T12:07:51.677196Z",
     "shell.execute_reply": "2021-01-02T12:07:51.676714Z"
    },
    "papermill": {
     "duration": 0.034692,
     "end_time": "2021-01-02T12:07:51.677316",
     "exception": false,
     "start_time": "2021-01-02T12:07:51.642624",
     "status": "completed"
    },
    "tags": []
   },
   "outputs": [],
   "source": [
    "# hide\n",
    "# g['date'] = g['date'].astype('datetime64[ns]')"
   ]
  },
  {
   "cell_type": "code",
   "execution_count": 34,
   "metadata": {
    "execution": {
     "iopub.execute_input": "2021-01-02T12:07:51.739048Z",
     "iopub.status.busy": "2021-01-02T12:07:51.738404Z",
     "iopub.status.idle": "2021-01-02T12:07:51.740694Z",
     "shell.execute_reply": "2021-01-02T12:07:51.740074Z"
    },
    "papermill": {
     "duration": 0.033966,
     "end_time": "2021-01-02T12:07:51.740823",
     "exception": false,
     "start_time": "2021-01-02T12:07:51.706857",
     "status": "completed"
    },
    "tags": []
   },
   "outputs": [],
   "source": [
    "#hide\n",
    "# g['date'] = g.date.dt.dayofyear"
   ]
  },
  {
   "cell_type": "code",
   "execution_count": 35,
   "metadata": {
    "execution": {
     "iopub.execute_input": "2021-01-02T12:07:51.801672Z",
     "iopub.status.busy": "2021-01-02T12:07:51.801041Z",
     "iopub.status.idle": "2021-01-02T12:07:51.803316Z",
     "shell.execute_reply": "2021-01-02T12:07:51.803861Z"
    },
    "papermill": {
     "duration": 0.033791,
     "end_time": "2021-01-02T12:07:51.803993",
     "exception": false,
     "start_time": "2021-01-02T12:07:51.770202",
     "status": "completed"
    },
    "tags": []
   },
   "outputs": [],
   "source": [
    "#hide\n",
    "# g = g.rename(columns= {'continent':'group','country':'name','cases':'value'})"
   ]
  },
  {
   "cell_type": "code",
   "execution_count": 36,
   "metadata": {
    "execution": {
     "iopub.execute_input": "2021-01-02T12:07:51.866073Z",
     "iopub.status.busy": "2021-01-02T12:07:51.865424Z",
     "iopub.status.idle": "2021-01-02T12:07:51.868861Z",
     "shell.execute_reply": "2021-01-02T12:07:51.869732Z"
    },
    "papermill": {
     "duration": 0.03611,
     "end_time": "2021-01-02T12:07:51.869971",
     "exception": false,
     "start_time": "2021-01-02T12:07:51.833861",
     "status": "completed"
    },
    "tags": []
   },
   "outputs": [],
   "source": [
    "#hide\n",
    "# cols = ['name','group','day','value']"
   ]
  },
  {
   "cell_type": "code",
   "execution_count": 37,
   "metadata": {
    "execution": {
     "iopub.execute_input": "2021-01-02T12:07:51.934430Z",
     "iopub.status.busy": "2021-01-02T12:07:51.933400Z",
     "iopub.status.idle": "2021-01-02T12:07:51.935477Z",
     "shell.execute_reply": "2021-01-02T12:07:51.936006Z"
    },
    "papermill": {
     "duration": 0.034861,
     "end_time": "2021-01-02T12:07:51.936144",
     "exception": false,
     "start_time": "2021-01-02T12:07:51.901283",
     "status": "completed"
    },
    "tags": []
   },
   "outputs": [],
   "source": [
    "#hide\n",
    "# g.rename(columns= {'date':'day'},inplace = True)"
   ]
  },
  {
   "cell_type": "code",
   "execution_count": 38,
   "metadata": {
    "execution": {
     "iopub.execute_input": "2021-01-02T12:07:52.001267Z",
     "iopub.status.busy": "2021-01-02T12:07:52.000618Z",
     "iopub.status.idle": "2021-01-02T12:07:52.003203Z",
     "shell.execute_reply": "2021-01-02T12:07:52.002608Z"
    },
    "papermill": {
     "duration": 0.03516,
     "end_time": "2021-01-02T12:07:52.003325",
     "exception": false,
     "start_time": "2021-01-02T12:07:51.968165",
     "status": "completed"
    },
    "tags": []
   },
   "outputs": [],
   "source": [
    "#hide\n",
    "# g = g[cols]"
   ]
  },
  {
   "cell_type": "code",
   "execution_count": 39,
   "metadata": {
    "execution": {
     "iopub.execute_input": "2021-01-02T12:07:52.071617Z",
     "iopub.status.busy": "2021-01-02T12:07:52.070874Z",
     "iopub.status.idle": "2021-01-02T12:07:52.073520Z",
     "shell.execute_reply": "2021-01-02T12:07:52.073008Z"
    },
    "papermill": {
     "duration": 0.03807,
     "end_time": "2021-01-02T12:07:52.073639",
     "exception": false,
     "start_time": "2021-01-02T12:07:52.035569",
     "status": "completed"
    },
    "tags": []
   },
   "outputs": [],
   "source": [
    "# #hide\n",
    "# g = g[g.group.notna()]"
   ]
  },
  {
   "cell_type": "code",
   "execution_count": 40,
   "metadata": {
    "execution": {
     "iopub.execute_input": "2021-01-02T12:07:52.141130Z",
     "iopub.status.busy": "2021-01-02T12:07:52.140532Z",
     "iopub.status.idle": "2021-01-02T12:07:52.142389Z",
     "shell.execute_reply": "2021-01-02T12:07:52.142904Z"
    },
    "papermill": {
     "duration": 0.03569,
     "end_time": "2021-01-02T12:07:52.143036",
     "exception": false,
     "start_time": "2021-01-02T12:07:52.107346",
     "status": "completed"
    },
    "tags": []
   },
   "outputs": [],
   "source": [
    "# #hide\n",
    "# colors = dict(zip(\n",
    "#     [\"Oceania\", \"Europe\", \"Asia\", \"South America\", \"Middle East\", \"North America\", \"Africa\"],\n",
    "#     [\"#adb0ff\", \"#ffb3ff\", \"#90d595\", \"#e48381\", \"#aafbff\", \"#f7bb5f\", \"#eafb50\"]\n",
    "# ))\n",
    "# group_lk = g.set_index('name')['group'].to_dict()"
   ]
  },
  {
   "cell_type": "code",
   "execution_count": null,
   "metadata": {
    "papermill": {
     "duration": 0.031218,
     "end_time": "2021-01-02T12:07:52.204863",
     "exception": false,
     "start_time": "2021-01-02T12:07:52.173645",
     "status": "completed"
    },
    "tags": []
   },
   "outputs": [],
   "source": []
  },
  {
   "cell_type": "code",
   "execution_count": 41,
   "metadata": {
    "execution": {
     "iopub.execute_input": "2021-01-02T12:07:52.267304Z",
     "iopub.status.busy": "2021-01-02T12:07:52.266633Z",
     "iopub.status.idle": "2021-01-02T12:07:52.268940Z",
     "shell.execute_reply": "2021-01-02T12:07:52.268459Z"
    },
    "papermill": {
     "duration": 0.035398,
     "end_time": "2021-01-02T12:07:52.269059",
     "exception": false,
     "start_time": "2021-01-02T12:07:52.233661",
     "status": "completed"
    },
    "tags": []
   },
   "outputs": [],
   "source": [
    "# #hide\n",
    "# fig, ax = plt.subplots(figsize=(15, 8))\n",
    "\n",
    "# def draw_barchart(current_day):\n",
    "#     dff = g[g['day'].eq(current_day)].sort_values(by='value', ascending=True).tail(10)\n",
    "#     ax.clear()\n",
    "#     ax.barh(dff['name'], dff['value'], color=[colors[group_lk[x]] for x in dff['name']])\n",
    "#     dx = dff['value'].max() / 200\n",
    "    \n",
    "#     for i, (value, name) in enumerate(zip(dff['value'], dff['name'])):\n",
    "#         ax.text(value-dx, i,     name,           size=14, weight=600, ha='right', va='bottom')\n",
    "#         ax.text(value-dx, i-.25, group_lk[name], size=10, color='#444444', ha='right', va='baseline')\n",
    "#         ax.text(value+dx, i,     f'{value:,.0f}',  size=14, ha='left',  va='center')\n",
    "#     ax.text(1, 0.4, current_day, transform=ax.transAxes, color='#777777', size=46, ha='right', weight=800)\n",
    "#     ax.text(0, 1.06, 'Population (thousands)', transform=ax.transAxes, size=12, color='#777777')\n",
    "#     ax.xaxis.set_major_formatter(ticker.StrMethodFormatter('{x:,.0f}'))\n",
    "#     ax.xaxis.set_ticks_position('top')\n",
    "#     ax.tick_params(axis='x', colors='#777777', labelsize=12)\n",
    "#     ax.set_yticks([])\n",
    "#     ax.margins(0, 0.01)\n",
    "#     ax.grid(which='major', axis='x', linestyle='-')\n",
    "#     ax.set_axisbelow(True)\n",
    "    \n",
    "#     ax.text(0, 1.15, 'Coronavirus',\n",
    "#             transform=ax.transAxes, size=24, weight=600, ha='left', va='top')\n",
    "# #     ax.text(1, 0, 'by @pratapvardhan; credit @jburnmurdoch', transform=ax.transAxes, color='#777777', ha='right',\n",
    "# #             bbox=dict(facecolor='white', alpha=0.8, edgecolor='white'))\n",
    "#     plt.box(False)"
   ]
  },
  {
   "cell_type": "code",
   "execution_count": 42,
   "metadata": {
    "execution": {
     "iopub.execute_input": "2021-01-02T12:07:52.331773Z",
     "iopub.status.busy": "2021-01-02T12:07:52.331103Z",
     "iopub.status.idle": "2021-01-02T12:07:52.333685Z",
     "shell.execute_reply": "2021-01-02T12:07:52.333147Z"
    },
    "papermill": {
     "duration": 0.036029,
     "end_time": "2021-01-02T12:07:52.333812",
     "exception": false,
     "start_time": "2021-01-02T12:07:52.297783",
     "status": "completed"
    },
    "tags": []
   },
   "outputs": [],
   "source": [
    "# #hide_input\n",
    "# fig, ax = plt.subplots(figsize=(15, 8))\n",
    "# animator = animation.FuncAnimation(fig, draw_barchart, frames=range(g.day.values.min(), g.day.values.max()))\n",
    "# HTML(animator.to_jshtml())\n",
    "# # or use animator.to_html5_video() or animator.save() "
   ]
  },
  {
   "cell_type": "code",
   "execution_count": null,
   "metadata": {
    "papermill": {
     "duration": 0.027642,
     "end_time": "2021-01-02T12:07:52.391524",
     "exception": false,
     "start_time": "2021-01-02T12:07:52.363882",
     "status": "completed"
    },
    "tags": []
   },
   "outputs": [],
   "source": []
  },
  {
   "cell_type": "code",
   "execution_count": null,
   "metadata": {
    "papermill": {
     "duration": 0.02949,
     "end_time": "2021-01-02T12:07:52.450946",
     "exception": false,
     "start_time": "2021-01-02T12:07:52.421456",
     "status": "completed"
    },
    "tags": []
   },
   "outputs": [],
   "source": []
  },
  {
   "cell_type": "code",
   "execution_count": null,
   "metadata": {
    "papermill": {
     "duration": 0.028368,
     "end_time": "2021-01-02T12:07:52.509848",
     "exception": false,
     "start_time": "2021-01-02T12:07:52.481480",
     "status": "completed"
    },
    "tags": []
   },
   "outputs": [],
   "source": []
  }
 ],
 "metadata": {
  "kernelspec": {
   "display_name": "Python 3",
   "language": "python",
   "name": "python3"
  },
  "language_info": {
   "codemirror_mode": {
    "name": "ipython",
    "version": 3
   },
   "file_extension": ".py",
   "mimetype": "text/x-python",
   "name": "python",
   "nbconvert_exporter": "python",
   "pygments_lexer": "ipython3",
   "version": "3.6.12"
  },
  "papermill": {
   "duration": 6.297839,
   "end_time": "2021-01-02T12:07:52.845379",
   "environment_variables": {},
   "exception": null,
   "input_path": "2020-03-21-covid19exp.ipynb",
   "output_path": "2020-03-21-covid19exp.ipynb",
   "parameters": {},
   "start_time": "2021-01-02T12:07:46.547540",
   "version": "2.0.0"
  }
 },
 "nbformat": 4,
 "nbformat_minor": 4
}