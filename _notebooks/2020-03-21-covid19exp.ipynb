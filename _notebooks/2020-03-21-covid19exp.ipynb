{
 "cells": [
  {
   "cell_type": "markdown",
   "id": "muslim-click",
   "metadata": {
    "papermill": {
     "duration": 0.045636,
     "end_time": "2021-03-27T12:04:16.797917",
     "exception": false,
     "start_time": "2021-03-27T12:04:16.752281",
     "status": "completed"
    },
    "tags": []
   },
   "source": [
    "# COVID-19 Case Race\n",
    "> A race chart to see rising cases around the world\n",
    "\n",
    "- author: Hargun Oberoi\n",
    "- image: images/covid-overview.png\n",
    "- hide: false\n",
    "- badges: false"
   ]
  },
  {
   "cell_type": "code",
   "execution_count": 1,
   "id": "proof-material",
   "metadata": {
    "execution": {
     "iopub.execute_input": "2021-03-27T12:04:16.886023Z",
     "iopub.status.busy": "2021-03-27T12:04:16.885399Z",
     "iopub.status.idle": "2021-03-27T12:04:17.253218Z",
     "shell.execute_reply": "2021-03-27T12:04:17.252635Z"
    },
    "papermill": {
     "duration": 0.412304,
     "end_time": "2021-03-27T12:04:17.253376",
     "exception": false,
     "start_time": "2021-03-27T12:04:16.841072",
     "status": "completed"
    },
    "tags": []
   },
   "outputs": [],
   "source": [
    "#hide\n",
    "import numpy as np\n",
    "import pandas as pd\n",
    "from jinja2 import Template\n",
    "from IPython.display import HTML"
   ]
  },
  {
   "cell_type": "code",
   "execution_count": 2,
   "id": "developed-terminology",
   "metadata": {
    "execution": {
     "iopub.execute_input": "2021-03-27T12:04:17.334415Z",
     "iopub.status.busy": "2021-03-27T12:04:17.333809Z",
     "iopub.status.idle": "2021-03-27T12:04:17.335033Z",
     "shell.execute_reply": "2021-03-27T12:04:17.335490Z"
    },
    "papermill": {
     "duration": 0.043026,
     "end_time": "2021-03-27T12:04:17.335651",
     "exception": false,
     "start_time": "2021-03-27T12:04:17.292625",
     "status": "completed"
    },
    "tags": []
   },
   "outputs": [],
   "source": [
    "#hide\n",
    "\n",
    "# FETCH\n",
    "base_url = 'https://raw.githubusercontent.com/pratapvardhan/notebooks/master/covid19/'\n",
    "paths = {\n",
    "    'mapping': base_url + 'mapping_countries.csv',\n",
    "    'overview': base_url + 'overview.tpl'\n",
    "}"
   ]
  },
  {
   "cell_type": "code",
   "execution_count": 3,
   "id": "dynamic-saver",
   "metadata": {
    "execution": {
     "iopub.execute_input": "2021-03-27T12:04:17.427430Z",
     "iopub.status.busy": "2021-03-27T12:04:17.426728Z",
     "iopub.status.idle": "2021-03-27T12:04:17.435678Z",
     "shell.execute_reply": "2021-03-27T12:04:17.435142Z"
    },
    "papermill": {
     "duration": 0.057992,
     "end_time": "2021-03-27T12:04:17.435810",
     "exception": false,
     "start_time": "2021-03-27T12:04:17.377818",
     "status": "completed"
    },
    "tags": []
   },
   "outputs": [
    {
     "data": {
      "text/plain": [
       "'https://raw.githubusercontent.com/pratapvardhan/notebooks/master/covid19/mapping_countries.csv'"
      ]
     },
     "execution_count": 3,
     "metadata": {},
     "output_type": "execute_result"
    }
   ],
   "source": [
    "#hide\n",
    "paths['mapping']"
   ]
  },
  {
   "cell_type": "code",
   "execution_count": 4,
   "id": "urban-software",
   "metadata": {
    "execution": {
     "iopub.execute_input": "2021-03-27T12:04:17.514520Z",
     "iopub.status.busy": "2021-03-27T12:04:17.513925Z",
     "iopub.status.idle": "2021-03-27T12:04:17.517551Z",
     "shell.execute_reply": "2021-03-27T12:04:17.518091Z"
    },
    "papermill": {
     "duration": 0.047331,
     "end_time": "2021-03-27T12:04:17.518235",
     "exception": false,
     "start_time": "2021-03-27T12:04:17.470904",
     "status": "completed"
    },
    "tags": []
   },
   "outputs": [],
   "source": [
    "#hide\n",
    "def get_mappings(url):\n",
    "    df = pd.read_csv(url)\n",
    "    return {\n",
    "        'df': df,\n",
    "        'replace.country': dict(df.dropna(subset=['Name']).set_index('Country')['Name']),\n",
    "        'map.continent': dict(df.set_index('Name')['Continent'])\n",
    "    }"
   ]
  },
  {
   "cell_type": "code",
   "execution_count": 5,
   "id": "intimate-machinery",
   "metadata": {
    "execution": {
     "iopub.execute_input": "2021-03-27T12:04:17.595538Z",
     "iopub.status.busy": "2021-03-27T12:04:17.594782Z",
     "iopub.status.idle": "2021-03-27T12:04:17.666625Z",
     "shell.execute_reply": "2021-03-27T12:04:17.665873Z"
    },
    "papermill": {
     "duration": 0.113971,
     "end_time": "2021-03-27T12:04:17.666761",
     "exception": false,
     "start_time": "2021-03-27T12:04:17.552790",
     "status": "completed"
    },
    "tags": []
   },
   "outputs": [],
   "source": [
    "#hide\n",
    "mapping = get_mappings(paths['mapping'])"
   ]
  },
  {
   "cell_type": "code",
   "execution_count": 6,
   "id": "certified-tactics",
   "metadata": {
    "execution": {
     "iopub.execute_input": "2021-03-27T12:04:17.746567Z",
     "iopub.status.busy": "2021-03-27T12:04:17.745921Z",
     "iopub.status.idle": "2021-03-27T12:04:17.748257Z",
     "shell.execute_reply": "2021-03-27T12:04:17.747737Z"
    },
    "papermill": {
     "duration": 0.043002,
     "end_time": "2021-03-27T12:04:17.748387",
     "exception": false,
     "start_time": "2021-03-27T12:04:17.705385",
     "status": "completed"
    },
    "tags": []
   },
   "outputs": [],
   "source": [
    "#hide\n",
    "def get_template(path):\n",
    "    from urllib.parse import urlparse\n",
    "    if bool(urlparse(path).netloc):\n",
    "        from urllib.request import urlopen\n",
    "        return urlopen(path).read().decode('utf8')\n",
    "    return open(path).read()"
   ]
  },
  {
   "cell_type": "code",
   "execution_count": 7,
   "id": "realistic-blast",
   "metadata": {
    "execution": {
     "iopub.execute_input": "2021-03-27T12:04:17.844243Z",
     "iopub.status.busy": "2021-03-27T12:04:17.843473Z",
     "iopub.status.idle": "2021-03-27T12:04:17.845846Z",
     "shell.execute_reply": "2021-03-27T12:04:17.846353Z"
    },
    "papermill": {
     "duration": 0.055384,
     "end_time": "2021-03-27T12:04:17.846504",
     "exception": false,
     "start_time": "2021-03-27T12:04:17.791120",
     "status": "completed"
    },
    "tags": []
   },
   "outputs": [],
   "source": [
    "#hide\n",
    "def get_frame(name):\n",
    "    url = (\n",
    "        'https://raw.githubusercontent.com/CSSEGISandData/COVID-19/master/csse_covid_19_data/'\n",
    "        f'csse_covid_19_time_series/time_series_covid19_{name}_global.csv')\n",
    "    df = pd.read_csv(url)\n",
    "    # rename countries\n",
    "    df['Country/Region'] = df['Country/Region'].replace(mapping['replace.country'])\n",
    "    return df"
   ]
  },
  {
   "cell_type": "code",
   "execution_count": 8,
   "id": "affiliated-characterization",
   "metadata": {
    "execution": {
     "iopub.execute_input": "2021-03-27T12:04:17.924304Z",
     "iopub.status.busy": "2021-03-27T12:04:17.923679Z",
     "iopub.status.idle": "2021-03-27T12:04:17.925455Z",
     "shell.execute_reply": "2021-03-27T12:04:17.925951Z"
    },
    "papermill": {
     "duration": 0.044842,
     "end_time": "2021-03-27T12:04:17.926096",
     "exception": false,
     "start_time": "2021-03-27T12:04:17.881254",
     "status": "completed"
    },
    "tags": []
   },
   "outputs": [],
   "source": [
    "#hide\n",
    "def get_dates(df):\n",
    "    dt_cols = df.columns[~df.columns.isin(['Province/State', 'Country/Region', 'Lat', 'Long'])]\n",
    "    LAST_DATE_I = -1\n",
    "    # sometimes last column may be empty, then go backwards\n",
    "    for i in range(-1, -len(dt_cols), -1):\n",
    "        if not df[dt_cols[i]].fillna(0).eq(0).all():\n",
    "            LAST_DATE_I = i\n",
    "            break\n",
    "    return LAST_DATE_I, dt_cols"
   ]
  },
  {
   "cell_type": "code",
   "execution_count": 9,
   "id": "recent-optimization",
   "metadata": {
    "execution": {
     "iopub.execute_input": "2021-03-27T12:04:18.004499Z",
     "iopub.status.busy": "2021-03-27T12:04:18.003622Z",
     "iopub.status.idle": "2021-03-27T12:04:18.565325Z",
     "shell.execute_reply": "2021-03-27T12:04:18.566142Z"
    },
    "papermill": {
     "duration": 0.605318,
     "end_time": "2021-03-27T12:04:18.566304",
     "exception": false,
     "start_time": "2021-03-27T12:04:17.960986",
     "status": "completed"
    },
    "tags": []
   },
   "outputs": [],
   "source": [
    "#hide\n",
    "COL_REGION = 'Country/Region'\n",
    "# Confirmed, Recovered, Deaths\n",
    "df = get_frame('confirmed')\n",
    "# dft_: timeseries, dfc_: today country agg\n",
    "dft_cases = df\n",
    "dft_deaths = get_frame('deaths')\n",
    "dft_recovered = get_frame('recovered')\n",
    "LAST_DATE_I, dt_cols = get_dates(df)"
   ]
  },
  {
   "cell_type": "code",
   "execution_count": 10,
   "id": "absolute-copper",
   "metadata": {
    "execution": {
     "iopub.execute_input": "2021-03-27T12:04:18.640969Z",
     "iopub.status.busy": "2021-03-27T12:04:18.640361Z",
     "iopub.status.idle": "2021-03-27T12:04:18.642155Z",
     "shell.execute_reply": "2021-03-27T12:04:18.642652Z"
    },
    "papermill": {
     "duration": 0.041902,
     "end_time": "2021-03-27T12:04:18.642795",
     "exception": false,
     "start_time": "2021-03-27T12:04:18.600893",
     "status": "completed"
    },
    "tags": []
   },
   "outputs": [],
   "source": [
    "#hide\n",
    "LAST_DATE_I, dt_cols = get_dates(df)\n",
    "dt_today =dt_cols[LAST_DATE_I]\n",
    "# dt_5day = dt_cols[LAST_DATE_I - 5]\n",
    "dt_yday = dt_cols[LAST_DATE_I - 1]"
   ]
  },
  {
   "cell_type": "code",
   "execution_count": 11,
   "id": "restricted-sheriff",
   "metadata": {
    "execution": {
     "iopub.execute_input": "2021-03-27T12:04:18.717769Z",
     "iopub.status.busy": "2021-03-27T12:04:18.717164Z",
     "iopub.status.idle": "2021-03-27T12:04:18.728884Z",
     "shell.execute_reply": "2021-03-27T12:04:18.729396Z"
    },
    "papermill": {
     "duration": 0.052465,
     "end_time": "2021-03-27T12:04:18.729544",
     "exception": false,
     "start_time": "2021-03-27T12:04:18.677079",
     "status": "completed"
    },
    "tags": []
   },
   "outputs": [],
   "source": [
    "#hide\n",
    "dfc_cases = dft_cases.groupby(COL_REGION)[dt_today].sum()\n",
    "dfc_deaths = dft_deaths.groupby(COL_REGION)[dt_today].sum()\n",
    "# dfp_cases = dft_cases.groupby(COL_REGION)[dt_5day].sum()\n",
    "# dfp_deaths = dft_deaths.groupby(COL_REGION)[dt_5day].sum()\n",
    "dfp_cases = dft_cases.groupby(COL_REGION)[dt_yday].sum()\n",
    "dfp_deaths = dft_deaths.groupby(COL_REGION)[dt_yday].sum()"
   ]
  },
  {
   "cell_type": "code",
   "execution_count": 12,
   "id": "deluxe-hepatitis",
   "metadata": {
    "execution": {
     "iopub.execute_input": "2021-03-27T12:04:18.806297Z",
     "iopub.status.busy": "2021-03-27T12:04:18.805676Z",
     "iopub.status.idle": "2021-03-27T12:04:18.810540Z",
     "shell.execute_reply": "2021-03-27T12:04:18.810035Z"
    },
    "papermill": {
     "duration": 0.046354,
     "end_time": "2021-03-27T12:04:18.810669",
     "exception": false,
     "start_time": "2021-03-27T12:04:18.764315",
     "status": "completed"
    },
    "tags": []
   },
   "outputs": [],
   "source": [
    "#hide\n",
    "df_table = (pd.DataFrame(dict(Cases = dfc_cases, Deaths = dfc_deaths, PCases = dfp_cases, PDeaths = dfp_deaths))\n",
    "            .sort_values(by = ['Cases','Deaths'], ascending = [False, False])\n",
    "            .reset_index())"
   ]
  },
  {
   "cell_type": "code",
   "execution_count": 13,
   "id": "educational-chancellor",
   "metadata": {
    "execution": {
     "iopub.execute_input": "2021-03-27T12:04:18.912609Z",
     "iopub.status.busy": "2021-03-27T12:04:18.911958Z",
     "iopub.status.idle": "2021-03-27T12:04:18.923377Z",
     "shell.execute_reply": "2021-03-27T12:04:18.922880Z"
    },
    "papermill": {
     "duration": 0.074126,
     "end_time": "2021-03-27T12:04:18.923509",
     "exception": false,
     "start_time": "2021-03-27T12:04:18.849383",
     "status": "completed"
    },
    "tags": []
   },
   "outputs": [
    {
     "data": {
      "text/html": [
       "<div>\n",
       "<style scoped>\n",
       "    .dataframe tbody tr th:only-of-type {\n",
       "        vertical-align: middle;\n",
       "    }\n",
       "\n",
       "    .dataframe tbody tr th {\n",
       "        vertical-align: top;\n",
       "    }\n",
       "\n",
       "    .dataframe thead th {\n",
       "        text-align: right;\n",
       "    }\n",
       "</style>\n",
       "<table border=\"1\" class=\"dataframe\">\n",
       "  <thead>\n",
       "    <tr style=\"text-align: right;\">\n",
       "      <th></th>\n",
       "      <th>Country/Region</th>\n",
       "      <th>Cases</th>\n",
       "      <th>Deaths</th>\n",
       "      <th>PCases</th>\n",
       "      <th>PDeaths</th>\n",
       "      <th>Cases (+)</th>\n",
       "      <th>Deaths (+)</th>\n",
       "      <th>Fatality Rate</th>\n",
       "      <th>Continent</th>\n",
       "    </tr>\n",
       "  </thead>\n",
       "  <tbody>\n",
       "    <tr>\n",
       "      <th>0</th>\n",
       "      <td>US</td>\n",
       "      <td>30159998</td>\n",
       "      <td>548087</td>\n",
       "      <td>30079282</td>\n",
       "      <td>546822</td>\n",
       "      <td>80716</td>\n",
       "      <td>1265</td>\n",
       "      <td>1.82</td>\n",
       "      <td>North America</td>\n",
       "    </tr>\n",
       "    <tr>\n",
       "      <th>1</th>\n",
       "      <td>Brazil</td>\n",
       "      <td>12404414</td>\n",
       "      <td>307112</td>\n",
       "      <td>12320169</td>\n",
       "      <td>303462</td>\n",
       "      <td>84245</td>\n",
       "      <td>3650</td>\n",
       "      <td>2.48</td>\n",
       "      <td>South America</td>\n",
       "    </tr>\n",
       "    <tr>\n",
       "      <th>2</th>\n",
       "      <td>India</td>\n",
       "      <td>11908910</td>\n",
       "      <td>161240</td>\n",
       "      <td>11846652</td>\n",
       "      <td>160949</td>\n",
       "      <td>62258</td>\n",
       "      <td>291</td>\n",
       "      <td>1.35</td>\n",
       "      <td>Asia</td>\n",
       "    </tr>\n",
       "    <tr>\n",
       "      <th>3</th>\n",
       "      <td>France</td>\n",
       "      <td>4526530</td>\n",
       "      <td>94432</td>\n",
       "      <td>4484659</td>\n",
       "      <td>93535</td>\n",
       "      <td>41871</td>\n",
       "      <td>897</td>\n",
       "      <td>2.09</td>\n",
       "      <td>Europe</td>\n",
       "    </tr>\n",
       "    <tr>\n",
       "      <th>4</th>\n",
       "      <td>Russia</td>\n",
       "      <td>4451565</td>\n",
       "      <td>95410</td>\n",
       "      <td>4442492</td>\n",
       "      <td>95010</td>\n",
       "      <td>9073</td>\n",
       "      <td>400</td>\n",
       "      <td>2.14</td>\n",
       "      <td>Europe</td>\n",
       "    </tr>\n",
       "  </tbody>\n",
       "</table>\n",
       "</div>"
      ],
      "text/plain": [
       "  Country/Region     Cases  Deaths    PCases  PDeaths  Cases (+)  Deaths (+)  \\\n",
       "0             US  30159998  548087  30079282   546822      80716        1265   \n",
       "1         Brazil  12404414  307112  12320169   303462      84245        3650   \n",
       "2          India  11908910  161240  11846652   160949      62258         291   \n",
       "3         France   4526530   94432   4484659    93535      41871         897   \n",
       "4         Russia   4451565   95410   4442492    95010       9073         400   \n",
       "\n",
       "   Fatality Rate      Continent  \n",
       "0           1.82  North America  \n",
       "1           2.48  South America  \n",
       "2           1.35           Asia  \n",
       "3           2.09         Europe  \n",
       "4           2.14         Europe  "
      ]
     },
     "execution_count": 13,
     "metadata": {},
     "output_type": "execute_result"
    }
   ],
   "source": [
    "#hide\n",
    "for c in 'Cases, Deaths'.split(', '):\n",
    "    df_table[f'{c} (+)'] = (df_table[c] - df_table[f'P{c}']).clip(0)\n",
    "    #Clip ça veut dire, les chiffres negatif sont interdit\n",
    "df_table['Fatality Rate'] = (100* df_table['Deaths']/ df_table['Cases']).round(2)\n",
    "df_table['Continent'] = df_table['Country/Region'].map(mapping['map.continent'])\n",
    "df_table.head(5)"
   ]
  },
  {
   "cell_type": "code",
   "execution_count": 14,
   "id": "aboriginal-bulgaria",
   "metadata": {
    "execution": {
     "iopub.execute_input": "2021-03-27T12:04:18.999711Z",
     "iopub.status.busy": "2021-03-27T12:04:18.999100Z",
     "iopub.status.idle": "2021-03-27T12:04:19.000803Z",
     "shell.execute_reply": "2021-03-27T12:04:19.001354Z"
    },
    "papermill": {
     "duration": 0.043111,
     "end_time": "2021-03-27T12:04:19.001492",
     "exception": false,
     "start_time": "2021-03-27T12:04:18.958381",
     "status": "completed"
    },
    "tags": []
   },
   "outputs": [],
   "source": [
    "#hide\n",
    "#delete problematic countries from table\n",
    "df_table = df_table[~df_table['Country/Region'].isin(['Cape Verde', 'Cruise Ship', 'Kosovo'])]"
   ]
  },
  {
   "cell_type": "code",
   "execution_count": 15,
   "id": "fantastic-effect",
   "metadata": {
    "execution": {
     "iopub.execute_input": "2021-03-27T12:04:19.078823Z",
     "iopub.status.busy": "2021-03-27T12:04:19.078055Z",
     "iopub.status.idle": "2021-03-27T12:04:19.096200Z",
     "shell.execute_reply": "2021-03-27T12:04:19.096641Z"
    },
    "papermill": {
     "duration": 0.060969,
     "end_time": "2021-03-27T12:04:19.096784",
     "exception": false,
     "start_time": "2021-03-27T12:04:19.035815",
     "status": "completed"
    },
    "tags": []
   },
   "outputs": [
    {
     "data": {
      "text/html": [
       "<div>\n",
       "<style scoped>\n",
       "    .dataframe tbody tr th:only-of-type {\n",
       "        vertical-align: middle;\n",
       "    }\n",
       "\n",
       "    .dataframe tbody tr th {\n",
       "        vertical-align: top;\n",
       "    }\n",
       "\n",
       "    .dataframe thead th {\n",
       "        text-align: right;\n",
       "    }\n",
       "</style>\n",
       "<table border=\"1\" class=\"dataframe\">\n",
       "  <thead>\n",
       "    <tr style=\"text-align: right;\">\n",
       "      <th></th>\n",
       "      <th>Country/Region</th>\n",
       "      <th>Cases</th>\n",
       "      <th>Deaths</th>\n",
       "      <th>PCases</th>\n",
       "      <th>PDeaths</th>\n",
       "      <th>Cases (+)</th>\n",
       "      <th>Deaths (+)</th>\n",
       "      <th>Fatality Rate</th>\n",
       "      <th>Continent</th>\n",
       "    </tr>\n",
       "  </thead>\n",
       "  <tbody>\n",
       "    <tr>\n",
       "      <th>0</th>\n",
       "      <td>US</td>\n",
       "      <td>30159998</td>\n",
       "      <td>548087</td>\n",
       "      <td>30079282</td>\n",
       "      <td>546822</td>\n",
       "      <td>80716</td>\n",
       "      <td>1265</td>\n",
       "      <td>1.8</td>\n",
       "      <td>North America</td>\n",
       "    </tr>\n",
       "    <tr>\n",
       "      <th>1</th>\n",
       "      <td>Brazil</td>\n",
       "      <td>12404414</td>\n",
       "      <td>307112</td>\n",
       "      <td>12320169</td>\n",
       "      <td>303462</td>\n",
       "      <td>84245</td>\n",
       "      <td>3650</td>\n",
       "      <td>2.5</td>\n",
       "      <td>South America</td>\n",
       "    </tr>\n",
       "    <tr>\n",
       "      <th>2</th>\n",
       "      <td>India</td>\n",
       "      <td>11908910</td>\n",
       "      <td>161240</td>\n",
       "      <td>11846652</td>\n",
       "      <td>160949</td>\n",
       "      <td>62258</td>\n",
       "      <td>291</td>\n",
       "      <td>1.4</td>\n",
       "      <td>Asia</td>\n",
       "    </tr>\n",
       "    <tr>\n",
       "      <th>3</th>\n",
       "      <td>France</td>\n",
       "      <td>4526530</td>\n",
       "      <td>94432</td>\n",
       "      <td>4484659</td>\n",
       "      <td>93535</td>\n",
       "      <td>41871</td>\n",
       "      <td>897</td>\n",
       "      <td>2.1</td>\n",
       "      <td>Europe</td>\n",
       "    </tr>\n",
       "    <tr>\n",
       "      <th>4</th>\n",
       "      <td>Russia</td>\n",
       "      <td>4451565</td>\n",
       "      <td>95410</td>\n",
       "      <td>4442492</td>\n",
       "      <td>95010</td>\n",
       "      <td>9073</td>\n",
       "      <td>400</td>\n",
       "      <td>2.1</td>\n",
       "      <td>Europe</td>\n",
       "    </tr>\n",
       "  </tbody>\n",
       "</table>\n",
       "</div>"
      ],
      "text/plain": [
       "  Country/Region     Cases  Deaths    PCases  PDeaths  Cases (+)  Deaths (+)  \\\n",
       "0             US  30159998  548087  30079282   546822      80716        1265   \n",
       "1         Brazil  12404414  307112  12320169   303462      84245        3650   \n",
       "2          India  11908910  161240  11846652   160949      62258         291   \n",
       "3         France   4526530   94432   4484659    93535      41871         897   \n",
       "4         Russia   4451565   95410   4442492    95010       9073         400   \n",
       "\n",
       "   Fatality Rate      Continent  \n",
       "0            1.8  North America  \n",
       "1            2.5  South America  \n",
       "2            1.4           Asia  \n",
       "3            2.1         Europe  \n",
       "4            2.1         Europe  "
      ]
     },
     "execution_count": 15,
     "metadata": {},
     "output_type": "execute_result"
    }
   ],
   "source": [
    "#hide\n",
    "df_table = (pd.DataFrame(dict(Cases=dfc_cases, Deaths=dfc_deaths, PCases=dfp_cases, PDeaths=dfp_deaths))\n",
    "             .sort_values(by=['Cases', 'Deaths'], ascending=[False, False])\n",
    "             .reset_index())\n",
    "df_table.rename(columns={'index': 'Country/Region'}, inplace=True)\n",
    "for c in 'Cases, Deaths'.split(', '):\n",
    "    df_table[f'{c} (+)'] = (df_table[c] - df_table[f'P{c}']).clip(0)  # DATA BUG\n",
    "df_table['Fatality Rate'] = (100 * df_table['Deaths'] / df_table['Cases']).round(1)\n",
    "df_table['Continent'] = df_table['Country/Region'].map(mapping['map.continent'])\n",
    "df_table.head(5)"
   ]
  },
  {
   "cell_type": "code",
   "execution_count": 16,
   "id": "fewer-occasion",
   "metadata": {
    "execution": {
     "iopub.execute_input": "2021-03-27T12:04:19.194819Z",
     "iopub.status.busy": "2021-03-27T12:04:19.194212Z",
     "iopub.status.idle": "2021-03-27T12:04:19.196609Z",
     "shell.execute_reply": "2021-03-27T12:04:19.197084Z"
    },
    "papermill": {
     "duration": 0.048874,
     "end_time": "2021-03-27T12:04:19.197345",
     "exception": false,
     "start_time": "2021-03-27T12:04:19.148471",
     "status": "completed"
    },
    "tags": []
   },
   "outputs": [],
   "source": [
    "#hide\n",
    "#delete problematic countries from table\n",
    "df_table = df_table[~df_table['Country/Region'].isin(['Cape Verde', 'Cruise Ship', 'Kosovo'])]"
   ]
  },
  {
   "cell_type": "code",
   "execution_count": 17,
   "id": "related-center",
   "metadata": {
    "execution": {
     "iopub.execute_input": "2021-03-27T12:04:19.277489Z",
     "iopub.status.busy": "2021-03-27T12:04:19.276886Z",
     "iopub.status.idle": "2021-03-27T12:04:19.299852Z",
     "shell.execute_reply": "2021-03-27T12:04:19.301172Z"
    },
    "papermill": {
     "duration": 0.061546,
     "end_time": "2021-03-27T12:04:19.301343",
     "exception": false,
     "start_time": "2021-03-27T12:04:19.239797",
     "status": "completed"
    },
    "tags": []
   },
   "outputs": [],
   "source": [
    "#hide\n",
    "metrics = [df_table.columns[index] for index in [1,2,5,6]]\n",
    "# s_china = df_table[df_table['Country/Region'].eq('China')][metrics].sum().add_prefix('China ')\n",
    "s_us = df_table[df_table['Country/Region'].eq('US')][metrics].sum().add_prefix('US ')\n",
    "s_eu = df_table[df_table['Continent'].eq('Europe')][metrics].sum().add_prefix('EU ')\n",
    "s_ind = df_table[df_table['Country/Region'].eq('India')][metrics].sum().add_prefix('India ')\n",
    "summary = {'updated': pd.to_datetime(dt_today), 'since': pd.to_datetime(dt_yday)}\n",
    "summary = {'updated': pd.to_datetime(dt_today), 'since': pd.to_datetime(dt_yday)}\n",
    "summary = {**summary, **df_table[metrics].sum(), **s_ind, **s_us, **s_eu}"
   ]
  },
  {
   "cell_type": "code",
   "execution_count": 18,
   "id": "engaging-syndrome",
   "metadata": {
    "execution": {
     "iopub.execute_input": "2021-03-27T12:04:19.380795Z",
     "iopub.status.busy": "2021-03-27T12:04:19.380193Z",
     "iopub.status.idle": "2021-03-27T12:04:19.391367Z",
     "shell.execute_reply": "2021-03-27T12:04:19.391846Z"
    },
    "papermill": {
     "duration": 0.052706,
     "end_time": "2021-03-27T12:04:19.392000",
     "exception": false,
     "start_time": "2021-03-27T12:04:19.339294",
     "status": "completed"
    },
    "tags": []
   },
   "outputs": [],
   "source": [
    "#hide\n",
    "dft_ct_new_cases = dft_cases.groupby(COL_REGION)[dt_cols].sum().diff(axis=1).fillna(0).astype(int)"
   ]
  },
  {
   "cell_type": "code",
   "execution_count": 19,
   "id": "neutral-assignment",
   "metadata": {
    "execution": {
     "iopub.execute_input": "2021-03-27T12:04:19.468390Z",
     "iopub.status.busy": "2021-03-27T12:04:19.467620Z",
     "iopub.status.idle": "2021-03-27T12:04:19.469175Z",
     "shell.execute_reply": "2021-03-27T12:04:19.469776Z"
    },
    "papermill": {
     "duration": 0.042985,
     "end_time": "2021-03-27T12:04:19.469934",
     "exception": false,
     "start_time": "2021-03-27T12:04:19.426949",
     "status": "completed"
    },
    "tags": []
   },
   "outputs": [],
   "source": [
    "#hide\n",
    "everydaycases = dft_ct_new_cases.cumsum(axis=1)"
   ]
  },
  {
   "cell_type": "code",
   "execution_count": 20,
   "id": "parliamentary-calgary",
   "metadata": {
    "execution": {
     "iopub.execute_input": "2021-03-27T12:04:19.561804Z",
     "iopub.status.busy": "2021-03-27T12:04:19.560317Z",
     "iopub.status.idle": "2021-03-27T12:04:20.290861Z",
     "shell.execute_reply": "2021-03-27T12:04:20.291331Z"
    },
    "papermill": {
     "duration": 0.780946,
     "end_time": "2021-03-27T12:04:20.291493",
     "exception": false,
     "start_time": "2021-03-27T12:04:19.510547",
     "status": "completed"
    },
    "tags": []
   },
   "outputs": [],
   "source": [
    "#hide\n",
    "import pandas as pd\n",
    "import matplotlib.pyplot as plt\n",
    "import matplotlib.ticker as ticker\n",
    "import matplotlib.animation as animation\n",
    "from IPython.display import HTML"
   ]
  },
  {
   "cell_type": "code",
   "execution_count": 21,
   "id": "lasting-extraction",
   "metadata": {
    "execution": {
     "iopub.execute_input": "2021-03-27T12:04:20.388412Z",
     "iopub.status.busy": "2021-03-27T12:04:20.387761Z",
     "iopub.status.idle": "2021-03-27T12:04:20.393698Z",
     "shell.execute_reply": "2021-03-27T12:04:20.393204Z"
    },
    "papermill": {
     "duration": 0.057392,
     "end_time": "2021-03-27T12:04:20.393830",
     "exception": false,
     "start_time": "2021-03-27T12:04:20.336438",
     "status": "completed"
    },
    "tags": []
   },
   "outputs": [],
   "source": [
    "#hide\n",
    "t = everydaycases.stack()"
   ]
  },
  {
   "cell_type": "code",
   "execution_count": 22,
   "id": "premier-sleeve",
   "metadata": {
    "execution": {
     "iopub.execute_input": "2021-03-27T12:04:20.477315Z",
     "iopub.status.busy": "2021-03-27T12:04:20.476726Z",
     "iopub.status.idle": "2021-03-27T12:04:20.484772Z",
     "shell.execute_reply": "2021-03-27T12:04:20.484144Z"
    },
    "papermill": {
     "duration": 0.048314,
     "end_time": "2021-03-27T12:04:20.484915",
     "exception": false,
     "start_time": "2021-03-27T12:04:20.436601",
     "status": "completed"
    },
    "tags": []
   },
   "outputs": [],
   "source": [
    "#hide\n",
    "g = t.reset_index(['Country/Region'])"
   ]
  },
  {
   "cell_type": "code",
   "execution_count": 23,
   "id": "distributed-pittsburgh",
   "metadata": {
    "execution": {
     "iopub.execute_input": "2021-03-27T12:04:20.561327Z",
     "iopub.status.busy": "2021-03-27T12:04:20.560624Z",
     "iopub.status.idle": "2021-03-27T12:04:20.562147Z",
     "shell.execute_reply": "2021-03-27T12:04:20.562897Z"
    },
    "papermill": {
     "duration": 0.042339,
     "end_time": "2021-03-27T12:04:20.563076",
     "exception": false,
     "start_time": "2021-03-27T12:04:20.520737",
     "status": "completed"
    },
    "tags": []
   },
   "outputs": [],
   "source": [
    "#hide\n",
    "g.index.name = 'date'"
   ]
  },
  {
   "cell_type": "code",
   "execution_count": 24,
   "id": "naked-donor",
   "metadata": {
    "execution": {
     "iopub.execute_input": "2021-03-27T12:04:20.640018Z",
     "iopub.status.busy": "2021-03-27T12:04:20.639398Z",
     "iopub.status.idle": "2021-03-27T12:04:20.642196Z",
     "shell.execute_reply": "2021-03-27T12:04:20.642700Z"
    },
    "papermill": {
     "duration": 0.043101,
     "end_time": "2021-03-27T12:04:20.642842",
     "exception": false,
     "start_time": "2021-03-27T12:04:20.599741",
     "status": "completed"
    },
    "tags": []
   },
   "outputs": [],
   "source": [
    "# #hide\n",
    "# g = g.reset_index(['date'])"
   ]
  },
  {
   "cell_type": "code",
   "execution_count": 25,
   "id": "incomplete-mustang",
   "metadata": {
    "execution": {
     "iopub.execute_input": "2021-03-27T12:04:20.724808Z",
     "iopub.status.busy": "2021-03-27T12:04:20.724200Z",
     "iopub.status.idle": "2021-03-27T12:04:20.726503Z",
     "shell.execute_reply": "2021-03-27T12:04:20.726001Z"
    },
    "papermill": {
     "duration": 0.043609,
     "end_time": "2021-03-27T12:04:20.726629",
     "exception": false,
     "start_time": "2021-03-27T12:04:20.683020",
     "status": "completed"
    },
    "tags": []
   },
   "outputs": [],
   "source": [
    "#hide\n",
    "# g.head()"
   ]
  },
  {
   "cell_type": "code",
   "execution_count": 26,
   "id": "specific-kruger",
   "metadata": {
    "execution": {
     "iopub.execute_input": "2021-03-27T12:04:20.837085Z",
     "iopub.status.busy": "2021-03-27T12:04:20.836471Z",
     "iopub.status.idle": "2021-03-27T12:04:20.838724Z",
     "shell.execute_reply": "2021-03-27T12:04:20.838250Z"
    },
    "papermill": {
     "duration": 0.048246,
     "end_time": "2021-03-27T12:04:20.838848",
     "exception": false,
     "start_time": "2021-03-27T12:04:20.790602",
     "status": "completed"
    },
    "tags": []
   },
   "outputs": [],
   "source": [
    "#hide\n",
    "# g.columns = ['date','country','cases']"
   ]
  },
  {
   "cell_type": "code",
   "execution_count": 27,
   "id": "tender-conversion",
   "metadata": {
    "execution": {
     "iopub.execute_input": "2021-03-27T12:04:20.921150Z",
     "iopub.status.busy": "2021-03-27T12:04:20.920547Z",
     "iopub.status.idle": "2021-03-27T12:04:20.921994Z",
     "shell.execute_reply": "2021-03-27T12:04:20.922510Z"
    },
    "papermill": {
     "duration": 0.045887,
     "end_time": "2021-03-27T12:04:20.922655",
     "exception": false,
     "start_time": "2021-03-27T12:04:20.876768",
     "status": "completed"
    },
    "tags": []
   },
   "outputs": [],
   "source": [
    "#hide\n",
    "# g['continent'] = g.country"
   ]
  },
  {
   "cell_type": "code",
   "execution_count": 28,
   "id": "substantial-wilderness",
   "metadata": {
    "execution": {
     "iopub.execute_input": "2021-03-27T12:04:21.005795Z",
     "iopub.status.busy": "2021-03-27T12:04:21.005202Z",
     "iopub.status.idle": "2021-03-27T12:04:21.007007Z",
     "shell.execute_reply": "2021-03-27T12:04:21.007450Z"
    },
    "papermill": {
     "duration": 0.043147,
     "end_time": "2021-03-27T12:04:21.007689",
     "exception": false,
     "start_time": "2021-03-27T12:04:20.964542",
     "status": "completed"
    },
    "tags": []
   },
   "outputs": [],
   "source": [
    "#hide\n",
    "# cols = list(g.columns.values)"
   ]
  },
  {
   "cell_type": "code",
   "execution_count": 29,
   "id": "solved-farming",
   "metadata": {
    "execution": {
     "iopub.execute_input": "2021-03-27T12:04:21.100811Z",
     "iopub.status.busy": "2021-03-27T12:04:21.100192Z",
     "iopub.status.idle": "2021-03-27T12:04:21.103658Z",
     "shell.execute_reply": "2021-03-27T12:04:21.102968Z"
    },
    "papermill": {
     "duration": 0.048353,
     "end_time": "2021-03-27T12:04:21.103810",
     "exception": false,
     "start_time": "2021-03-27T12:04:21.055457",
     "status": "completed"
    },
    "tags": []
   },
   "outputs": [],
   "source": [
    "#hide\n",
    "# cols.insert(0, cols.pop())"
   ]
  },
  {
   "cell_type": "code",
   "execution_count": 30,
   "id": "executed-adoption",
   "metadata": {
    "execution": {
     "iopub.execute_input": "2021-03-27T12:04:21.188914Z",
     "iopub.status.busy": "2021-03-27T12:04:21.188307Z",
     "iopub.status.idle": "2021-03-27T12:04:21.195734Z",
     "shell.execute_reply": "2021-03-27T12:04:21.195201Z"
    },
    "papermill": {
     "duration": 0.047494,
     "end_time": "2021-03-27T12:04:21.195862",
     "exception": false,
     "start_time": "2021-03-27T12:04:21.148368",
     "status": "completed"
    },
    "tags": []
   },
   "outputs": [],
   "source": [
    "#hide\n",
    "# g = g[cols]"
   ]
  },
  {
   "cell_type": "code",
   "execution_count": 31,
   "id": "subject-dublin",
   "metadata": {
    "execution": {
     "iopub.execute_input": "2021-03-27T12:04:21.270747Z",
     "iopub.status.busy": "2021-03-27T12:04:21.269823Z",
     "iopub.status.idle": "2021-03-27T12:04:21.274310Z",
     "shell.execute_reply": "2021-03-27T12:04:21.274825Z"
    },
    "papermill": {
     "duration": 0.044068,
     "end_time": "2021-03-27T12:04:21.274987",
     "exception": false,
     "start_time": "2021-03-27T12:04:21.230919",
     "status": "completed"
    },
    "tags": []
   },
   "outputs": [],
   "source": [
    "#hide\n",
    "# g['continent'] = g['continent'].map(mapping['map.continent'])"
   ]
  },
  {
   "cell_type": "code",
   "execution_count": 32,
   "id": "freelance-scout",
   "metadata": {
    "execution": {
     "iopub.execute_input": "2021-03-27T12:04:21.353436Z",
     "iopub.status.busy": "2021-03-27T12:04:21.352806Z",
     "iopub.status.idle": "2021-03-27T12:04:21.355127Z",
     "shell.execute_reply": "2021-03-27T12:04:21.354609Z"
    },
    "papermill": {
     "duration": 0.041377,
     "end_time": "2021-03-27T12:04:21.355255",
     "exception": false,
     "start_time": "2021-03-27T12:04:21.313878",
     "status": "completed"
    },
    "tags": []
   },
   "outputs": [],
   "source": [
    "#hide\n",
    "# g.head()"
   ]
  },
  {
   "cell_type": "code",
   "execution_count": 33,
   "id": "limited-engine",
   "metadata": {
    "execution": {
     "iopub.execute_input": "2021-03-27T12:04:21.445008Z",
     "iopub.status.busy": "2021-03-27T12:04:21.444400Z",
     "iopub.status.idle": "2021-03-27T12:04:21.446747Z",
     "shell.execute_reply": "2021-03-27T12:04:21.446264Z"
    },
    "papermill": {
     "duration": 0.047615,
     "end_time": "2021-03-27T12:04:21.446875",
     "exception": false,
     "start_time": "2021-03-27T12:04:21.399260",
     "status": "completed"
    },
    "tags": []
   },
   "outputs": [],
   "source": [
    "# hide\n",
    "# g['date'] = g['date'].astype('datetime64[ns]')"
   ]
  },
  {
   "cell_type": "code",
   "execution_count": 34,
   "id": "sophisticated-supervisor",
   "metadata": {
    "execution": {
     "iopub.execute_input": "2021-03-27T12:04:21.523819Z",
     "iopub.status.busy": "2021-03-27T12:04:21.523167Z",
     "iopub.status.idle": "2021-03-27T12:04:21.524611Z",
     "shell.execute_reply": "2021-03-27T12:04:21.525149Z"
    },
    "papermill": {
     "duration": 0.042297,
     "end_time": "2021-03-27T12:04:21.525295",
     "exception": false,
     "start_time": "2021-03-27T12:04:21.482998",
     "status": "completed"
    },
    "tags": []
   },
   "outputs": [],
   "source": [
    "#hide\n",
    "# g['date'] = g.date.dt.dayofyear"
   ]
  },
  {
   "cell_type": "code",
   "execution_count": 35,
   "id": "inside-dubai",
   "metadata": {
    "execution": {
     "iopub.execute_input": "2021-03-27T12:04:21.604686Z",
     "iopub.status.busy": "2021-03-27T12:04:21.604074Z",
     "iopub.status.idle": "2021-03-27T12:04:21.606438Z",
     "shell.execute_reply": "2021-03-27T12:04:21.605943Z"
    },
    "papermill": {
     "duration": 0.044929,
     "end_time": "2021-03-27T12:04:21.606564",
     "exception": false,
     "start_time": "2021-03-27T12:04:21.561635",
     "status": "completed"
    },
    "tags": []
   },
   "outputs": [],
   "source": [
    "#hide\n",
    "# g = g.rename(columns= {'continent':'group','country':'name','cases':'value'})"
   ]
  },
  {
   "cell_type": "code",
   "execution_count": 36,
   "id": "fleet-motorcycle",
   "metadata": {
    "execution": {
     "iopub.execute_input": "2021-03-27T12:04:21.691746Z",
     "iopub.status.busy": "2021-03-27T12:04:21.690874Z",
     "iopub.status.idle": "2021-03-27T12:04:21.696707Z",
     "shell.execute_reply": "2021-03-27T12:04:21.696099Z"
    },
    "papermill": {
     "duration": 0.047303,
     "end_time": "2021-03-27T12:04:21.696848",
     "exception": false,
     "start_time": "2021-03-27T12:04:21.649545",
     "status": "completed"
    },
    "tags": []
   },
   "outputs": [],
   "source": [
    "#hide\n",
    "# cols = ['name','group','day','value']"
   ]
  },
  {
   "cell_type": "code",
   "execution_count": 37,
   "id": "continued-sleeping",
   "metadata": {
    "execution": {
     "iopub.execute_input": "2021-03-27T12:04:21.790129Z",
     "iopub.status.busy": "2021-03-27T12:04:21.789508Z",
     "iopub.status.idle": "2021-03-27T12:04:21.792224Z",
     "shell.execute_reply": "2021-03-27T12:04:21.791740Z"
    },
    "papermill": {
     "duration": 0.054115,
     "end_time": "2021-03-27T12:04:21.792353",
     "exception": false,
     "start_time": "2021-03-27T12:04:21.738238",
     "status": "completed"
    },
    "tags": []
   },
   "outputs": [],
   "source": [
    "#hide\n",
    "# g.rename(columns= {'date':'day'},inplace = True)"
   ]
  },
  {
   "cell_type": "code",
   "execution_count": 38,
   "id": "major-fight",
   "metadata": {
    "execution": {
     "iopub.execute_input": "2021-03-27T12:04:21.895804Z",
     "iopub.status.busy": "2021-03-27T12:04:21.895051Z",
     "iopub.status.idle": "2021-03-27T12:04:21.896739Z",
     "shell.execute_reply": "2021-03-27T12:04:21.897206Z"
    },
    "papermill": {
     "duration": 0.055187,
     "end_time": "2021-03-27T12:04:21.897351",
     "exception": false,
     "start_time": "2021-03-27T12:04:21.842164",
     "status": "completed"
    },
    "tags": []
   },
   "outputs": [],
   "source": [
    "#hide\n",
    "# g = g[cols]"
   ]
  },
  {
   "cell_type": "code",
   "execution_count": 39,
   "id": "structured-mobile",
   "metadata": {
    "execution": {
     "iopub.execute_input": "2021-03-27T12:04:21.993270Z",
     "iopub.status.busy": "2021-03-27T12:04:21.991837Z",
     "iopub.status.idle": "2021-03-27T12:04:21.994871Z",
     "shell.execute_reply": "2021-03-27T12:04:21.995332Z"
    },
    "papermill": {
     "duration": 0.05268,
     "end_time": "2021-03-27T12:04:21.995488",
     "exception": false,
     "start_time": "2021-03-27T12:04:21.942808",
     "status": "completed"
    },
    "tags": []
   },
   "outputs": [],
   "source": [
    "# #hide\n",
    "# g = g[g.group.notna()]"
   ]
  },
  {
   "cell_type": "code",
   "execution_count": 40,
   "id": "determined-closing",
   "metadata": {
    "execution": {
     "iopub.execute_input": "2021-03-27T12:04:22.349854Z",
     "iopub.status.busy": "2021-03-27T12:04:22.349213Z",
     "iopub.status.idle": "2021-03-27T12:04:22.351385Z",
     "shell.execute_reply": "2021-03-27T12:04:22.350806Z"
    },
    "papermill": {
     "duration": 0.051668,
     "end_time": "2021-03-27T12:04:22.351509",
     "exception": false,
     "start_time": "2021-03-27T12:04:22.299841",
     "status": "completed"
    },
    "tags": []
   },
   "outputs": [],
   "source": [
    "# #hide\n",
    "# colors = dict(zip(\n",
    "#     [\"Oceania\", \"Europe\", \"Asia\", \"South America\", \"Middle East\", \"North America\", \"Africa\"],\n",
    "#     [\"#adb0ff\", \"#ffb3ff\", \"#90d595\", \"#e48381\", \"#aafbff\", \"#f7bb5f\", \"#eafb50\"]\n",
    "# ))\n",
    "# group_lk = g.set_index('name')['group'].to_dict()"
   ]
  },
  {
   "cell_type": "code",
   "execution_count": null,
   "id": "gross-drinking",
   "metadata": {
    "papermill": {
     "duration": 0.034914,
     "end_time": "2021-03-27T12:04:22.421762",
     "exception": false,
     "start_time": "2021-03-27T12:04:22.386848",
     "status": "completed"
    },
    "tags": []
   },
   "outputs": [],
   "source": []
  },
  {
   "cell_type": "code",
   "execution_count": 41,
   "id": "subject-macintosh",
   "metadata": {
    "execution": {
     "iopub.execute_input": "2021-03-27T12:04:22.496710Z",
     "iopub.status.busy": "2021-03-27T12:04:22.496087Z",
     "iopub.status.idle": "2021-03-27T12:04:22.500251Z",
     "shell.execute_reply": "2021-03-27T12:04:22.502506Z"
    },
    "papermill": {
     "duration": 0.045866,
     "end_time": "2021-03-27T12:04:22.502849",
     "exception": false,
     "start_time": "2021-03-27T12:04:22.456983",
     "status": "completed"
    },
    "tags": []
   },
   "outputs": [],
   "source": [
    "# #hide\n",
    "# fig, ax = plt.subplots(figsize=(15, 8))\n",
    "\n",
    "# def draw_barchart(current_day):\n",
    "#     dff = g[g['day'].eq(current_day)].sort_values(by='value', ascending=True).tail(10)\n",
    "#     ax.clear()\n",
    "#     ax.barh(dff['name'], dff['value'], color=[colors[group_lk[x]] for x in dff['name']])\n",
    "#     dx = dff['value'].max() / 200\n",
    "    \n",
    "#     for i, (value, name) in enumerate(zip(dff['value'], dff['name'])):\n",
    "#         ax.text(value-dx, i,     name,           size=14, weight=600, ha='right', va='bottom')\n",
    "#         ax.text(value-dx, i-.25, group_lk[name], size=10, color='#444444', ha='right', va='baseline')\n",
    "#         ax.text(value+dx, i,     f'{value:,.0f}',  size=14, ha='left',  va='center')\n",
    "#     ax.text(1, 0.4, current_day, transform=ax.transAxes, color='#777777', size=46, ha='right', weight=800)\n",
    "#     ax.text(0, 1.06, 'Population (thousands)', transform=ax.transAxes, size=12, color='#777777')\n",
    "#     ax.xaxis.set_major_formatter(ticker.StrMethodFormatter('{x:,.0f}'))\n",
    "#     ax.xaxis.set_ticks_position('top')\n",
    "#     ax.tick_params(axis='x', colors='#777777', labelsize=12)\n",
    "#     ax.set_yticks([])\n",
    "#     ax.margins(0, 0.01)\n",
    "#     ax.grid(which='major', axis='x', linestyle='-')\n",
    "#     ax.set_axisbelow(True)\n",
    "    \n",
    "#     ax.text(0, 1.15, 'Coronavirus',\n",
    "#             transform=ax.transAxes, size=24, weight=600, ha='left', va='top')\n",
    "# #     ax.text(1, 0, 'by @pratapvardhan; credit @jburnmurdoch', transform=ax.transAxes, color='#777777', ha='right',\n",
    "# #             bbox=dict(facecolor='white', alpha=0.8, edgecolor='white'))\n",
    "#     plt.box(False)"
   ]
  },
  {
   "cell_type": "code",
   "execution_count": 42,
   "id": "sexual-wages",
   "metadata": {
    "execution": {
     "iopub.execute_input": "2021-03-27T12:04:22.579031Z",
     "iopub.status.busy": "2021-03-27T12:04:22.577875Z",
     "iopub.status.idle": "2021-03-27T12:04:22.579951Z",
     "shell.execute_reply": "2021-03-27T12:04:22.580525Z"
    },
    "papermill": {
     "duration": 0.042073,
     "end_time": "2021-03-27T12:04:22.580733",
     "exception": false,
     "start_time": "2021-03-27T12:04:22.538660",
     "status": "completed"
    },
    "tags": []
   },
   "outputs": [],
   "source": [
    "# #hide_input\n",
    "# fig, ax = plt.subplots(figsize=(15, 8))\n",
    "# animator = animation.FuncAnimation(fig, draw_barchart, frames=range(g.day.values.min(), g.day.values.max()))\n",
    "# HTML(animator.to_jshtml())\n",
    "# # or use animator.to_html5_video() or animator.save() "
   ]
  },
  {
   "cell_type": "code",
   "execution_count": null,
   "id": "australian-container",
   "metadata": {
    "papermill": {
     "duration": 0.042858,
     "end_time": "2021-03-27T12:04:22.665576",
     "exception": false,
     "start_time": "2021-03-27T12:04:22.622718",
     "status": "completed"
    },
    "tags": []
   },
   "outputs": [],
   "source": []
  },
  {
   "cell_type": "code",
   "execution_count": null,
   "id": "mediterranean-pontiac",
   "metadata": {
    "papermill": {
     "duration": 0.035939,
     "end_time": "2021-03-27T12:04:22.748031",
     "exception": false,
     "start_time": "2021-03-27T12:04:22.712092",
     "status": "completed"
    },
    "tags": []
   },
   "outputs": [],
   "source": []
  },
  {
   "cell_type": "code",
   "execution_count": null,
   "id": "aging-legislature",
   "metadata": {
    "papermill": {
     "duration": 0.040485,
     "end_time": "2021-03-27T12:04:22.830090",
     "exception": false,
     "start_time": "2021-03-27T12:04:22.789605",
     "status": "completed"
    },
    "tags": []
   },
   "outputs": [],
   "source": []
  }
 ],
 "metadata": {
  "kernelspec": {
   "display_name": "Python 3",
   "language": "python",
   "name": "python3"
  },
  "language_info": {
   "codemirror_mode": {
    "name": "ipython",
    "version": 3
   },
   "file_extension": ".py",
   "mimetype": "text/x-python",
   "name": "python",
   "nbconvert_exporter": "python",
   "pygments_lexer": "ipython3",
   "version": "3.6.13"
  },
  "papermill": {
   "duration": 7.703524,
   "end_time": "2021-03-27T12:04:23.274427",
   "environment_variables": {},
   "exception": null,
   "input_path": "2020-03-21-covid19exp.ipynb",
   "output_path": "2020-03-21-covid19exp.ipynb",
   "parameters": {},
   "start_time": "2021-03-27T12:04:15.570903",
   "version": "2.0.0"
  }
 },
 "nbformat": 4,
 "nbformat_minor": 5
}