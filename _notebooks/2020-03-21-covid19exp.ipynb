{
 "cells": [
  {
   "cell_type": "markdown",
   "id": "muslim-click",
   "metadata": {
    "papermill": {
     "duration": 0.034814,
     "end_time": "2022-08-07T12:15:01.304601",
     "exception": false,
     "start_time": "2022-08-07T12:15:01.269787",
     "status": "completed"
    },
    "tags": []
   },
   "source": [
    "# COVID-19 Case Race\n",
    "> A race chart to see rising cases around the world\n",
    "\n",
    "- author: Hargun Oberoi\n",
    "- image: images/covid-overview.png\n",
    "- hide: false\n",
    "- badges: false"
   ]
  },
  {
   "cell_type": "code",
   "execution_count": 1,
   "id": "proof-material",
   "metadata": {
    "execution": {
     "iopub.execute_input": "2022-08-07T12:15:01.374454Z",
     "iopub.status.busy": "2022-08-07T12:15:01.372961Z",
     "iopub.status.idle": "2022-08-07T12:15:01.689946Z",
     "shell.execute_reply": "2022-08-07T12:15:01.689424Z"
    },
    "papermill": {
     "duration": 0.354803,
     "end_time": "2022-08-07T12:15:01.690075",
     "exception": false,
     "start_time": "2022-08-07T12:15:01.335272",
     "status": "completed"
    },
    "tags": []
   },
   "outputs": [],
   "source": [
    "#hide\n",
    "import numpy as np\n",
    "import pandas as pd\n",
    "from jinja2 import Template\n",
    "from IPython.display import HTML"
   ]
  },
  {
   "cell_type": "code",
   "execution_count": 2,
   "id": "developed-terminology",
   "metadata": {
    "execution": {
     "iopub.execute_input": "2022-08-07T12:15:01.755312Z",
     "iopub.status.busy": "2022-08-07T12:15:01.754719Z",
     "iopub.status.idle": "2022-08-07T12:15:01.757200Z",
     "shell.execute_reply": "2022-08-07T12:15:01.756751Z"
    },
    "papermill": {
     "duration": 0.037072,
     "end_time": "2022-08-07T12:15:01.757303",
     "exception": false,
     "start_time": "2022-08-07T12:15:01.720231",
     "status": "completed"
    },
    "tags": []
   },
   "outputs": [],
   "source": [
    "#hide\n",
    "\n",
    "# FETCH\n",
    "base_url = 'https://raw.githubusercontent.com/pratapvardhan/notebooks/master/covid19/'\n",
    "paths = {\n",
    "    'mapping': base_url + 'mapping_countries.csv',\n",
    "    'overview': base_url + 'overview.tpl'\n",
    "}"
   ]
  },
  {
   "cell_type": "code",
   "execution_count": 3,
   "id": "dynamic-saver",
   "metadata": {
    "execution": {
     "iopub.execute_input": "2022-08-07T12:15:01.826162Z",
     "iopub.status.busy": "2022-08-07T12:15:01.825612Z",
     "iopub.status.idle": "2022-08-07T12:15:01.829124Z",
     "shell.execute_reply": "2022-08-07T12:15:01.828671Z"
    },
    "papermill": {
     "duration": 0.041863,
     "end_time": "2022-08-07T12:15:01.829225",
     "exception": false,
     "start_time": "2022-08-07T12:15:01.787362",
     "status": "completed"
    },
    "tags": []
   },
   "outputs": [
    {
     "data": {
      "text/plain": [
       "'https://raw.githubusercontent.com/pratapvardhan/notebooks/master/covid19/mapping_countries.csv'"
      ]
     },
     "execution_count": 3,
     "metadata": {},
     "output_type": "execute_result"
    }
   ],
   "source": [
    "#hide\n",
    "paths['mapping']"
   ]
  },
  {
   "cell_type": "code",
   "execution_count": 4,
   "id": "urban-software",
   "metadata": {
    "execution": {
     "iopub.execute_input": "2022-08-07T12:15:01.894986Z",
     "iopub.status.busy": "2022-08-07T12:15:01.894393Z",
     "iopub.status.idle": "2022-08-07T12:15:01.896836Z",
     "shell.execute_reply": "2022-08-07T12:15:01.896389Z"
    },
    "papermill": {
     "duration": 0.037385,
     "end_time": "2022-08-07T12:15:01.896936",
     "exception": false,
     "start_time": "2022-08-07T12:15:01.859551",
     "status": "completed"
    },
    "tags": []
   },
   "outputs": [],
   "source": [
    "#hide\n",
    "def get_mappings(url):\n",
    "    df = pd.read_csv(url)\n",
    "    return {\n",
    "        'df': df,\n",
    "        'replace.country': dict(df.dropna(subset=['Name']).set_index('Country')['Name']),\n",
    "        'map.continent': dict(df.set_index('Name')['Continent'])\n",
    "    }"
   ]
  },
  {
   "cell_type": "code",
   "execution_count": 5,
   "id": "intimate-machinery",
   "metadata": {
    "execution": {
     "iopub.execute_input": "2022-08-07T12:15:01.962419Z",
     "iopub.status.busy": "2022-08-07T12:15:01.961859Z",
     "iopub.status.idle": "2022-08-07T12:15:02.007658Z",
     "shell.execute_reply": "2022-08-07T12:15:02.007176Z"
    },
    "papermill": {
     "duration": 0.080677,
     "end_time": "2022-08-07T12:15:02.007764",
     "exception": false,
     "start_time": "2022-08-07T12:15:01.927087",
     "status": "completed"
    },
    "tags": []
   },
   "outputs": [],
   "source": [
    "#hide\n",
    "mapping = get_mappings(paths['mapping'])"
   ]
  },
  {
   "cell_type": "code",
   "execution_count": 6,
   "id": "certified-tactics",
   "metadata": {
    "execution": {
     "iopub.execute_input": "2022-08-07T12:15:02.073948Z",
     "iopub.status.busy": "2022-08-07T12:15:02.073378Z",
     "iopub.status.idle": "2022-08-07T12:15:02.075353Z",
     "shell.execute_reply": "2022-08-07T12:15:02.075776Z"
    },
    "papermill": {
     "duration": 0.037523,
     "end_time": "2022-08-07T12:15:02.075914",
     "exception": false,
     "start_time": "2022-08-07T12:15:02.038391",
     "status": "completed"
    },
    "tags": []
   },
   "outputs": [],
   "source": [
    "#hide\n",
    "def get_template(path):\n",
    "    from urllib.parse import urlparse\n",
    "    if bool(urlparse(path).netloc):\n",
    "        from urllib.request import urlopen\n",
    "        return urlopen(path).read().decode('utf8')\n",
    "    return open(path).read()"
   ]
  },
  {
   "cell_type": "code",
   "execution_count": 7,
   "id": "realistic-blast",
   "metadata": {
    "execution": {
     "iopub.execute_input": "2022-08-07T12:15:02.141376Z",
     "iopub.status.busy": "2022-08-07T12:15:02.140773Z",
     "iopub.status.idle": "2022-08-07T12:15:02.143185Z",
     "shell.execute_reply": "2022-08-07T12:15:02.142651Z"
    },
    "papermill": {
     "duration": 0.037085,
     "end_time": "2022-08-07T12:15:02.143289",
     "exception": false,
     "start_time": "2022-08-07T12:15:02.106204",
     "status": "completed"
    },
    "tags": []
   },
   "outputs": [],
   "source": [
    "#hide\n",
    "def get_frame(name):\n",
    "    url = (\n",
    "        'https://raw.githubusercontent.com/CSSEGISandData/COVID-19/master/csse_covid_19_data/'\n",
    "        f'csse_covid_19_time_series/time_series_covid19_{name}_global.csv')\n",
    "    df = pd.read_csv(url)\n",
    "    # rename countries\n",
    "    df['Country/Region'] = df['Country/Region'].replace(mapping['replace.country'])\n",
    "    return df"
   ]
  },
  {
   "cell_type": "code",
   "execution_count": 8,
   "id": "affiliated-characterization",
   "metadata": {
    "execution": {
     "iopub.execute_input": "2022-08-07T12:15:02.210238Z",
     "iopub.status.busy": "2022-08-07T12:15:02.209647Z",
     "iopub.status.idle": "2022-08-07T12:15:02.213261Z",
     "shell.execute_reply": "2022-08-07T12:15:02.213684Z"
    },
    "papermill": {
     "duration": 0.040071,
     "end_time": "2022-08-07T12:15:02.213810",
     "exception": false,
     "start_time": "2022-08-07T12:15:02.173739",
     "status": "completed"
    },
    "tags": []
   },
   "outputs": [],
   "source": [
    "#hide\n",
    "def get_dates(df):\n",
    "    dt_cols = df.columns[~df.columns.isin(['Province/State', 'Country/Region', 'Lat', 'Long'])]\n",
    "    LAST_DATE_I = -1\n",
    "    # sometimes last column may be empty, then go backwards\n",
    "    for i in range(-1, -len(dt_cols), -1):\n",
    "        if not df[dt_cols[i]].fillna(0).eq(0).all():\n",
    "            LAST_DATE_I = i\n",
    "            break\n",
    "    return LAST_DATE_I, dt_cols"
   ]
  },
  {
   "cell_type": "code",
   "execution_count": 9,
   "id": "recent-optimization",
   "metadata": {
    "execution": {
     "iopub.execute_input": "2022-08-07T12:15:02.279009Z",
     "iopub.status.busy": "2022-08-07T12:15:02.278437Z",
     "iopub.status.idle": "2022-08-07T12:15:02.804661Z",
     "shell.execute_reply": "2022-08-07T12:15:02.803530Z"
    },
    "papermill": {
     "duration": 0.560752,
     "end_time": "2022-08-07T12:15:02.804784",
     "exception": false,
     "start_time": "2022-08-07T12:15:02.244032",
     "status": "completed"
    },
    "tags": []
   },
   "outputs": [],
   "source": [
    "#hide\n",
    "COL_REGION = 'Country/Region'\n",
    "# Confirmed, Recovered, Deaths\n",
    "df = get_frame('confirmed')\n",
    "# dft_: timeseries, dfc_: today country agg\n",
    "dft_cases = df\n",
    "dft_deaths = get_frame('deaths')\n",
    "dft_recovered = get_frame('recovered')\n",
    "LAST_DATE_I, dt_cols = get_dates(df)"
   ]
  },
  {
   "cell_type": "code",
   "execution_count": 10,
   "id": "absolute-copper",
   "metadata": {
    "execution": {
     "iopub.execute_input": "2022-08-07T12:15:02.871762Z",
     "iopub.status.busy": "2022-08-07T12:15:02.871178Z",
     "iopub.status.idle": "2022-08-07T12:15:02.873458Z",
     "shell.execute_reply": "2022-08-07T12:15:02.873009Z"
    },
    "papermill": {
     "duration": 0.038427,
     "end_time": "2022-08-07T12:15:02.873571",
     "exception": false,
     "start_time": "2022-08-07T12:15:02.835144",
     "status": "completed"
    },
    "tags": []
   },
   "outputs": [],
   "source": [
    "#hide\n",
    "LAST_DATE_I, dt_cols = get_dates(df)\n",
    "dt_today =dt_cols[LAST_DATE_I]\n",
    "# dt_5day = dt_cols[LAST_DATE_I - 5]\n",
    "dt_yday = dt_cols[LAST_DATE_I - 1]"
   ]
  },
  {
   "cell_type": "code",
   "execution_count": 11,
   "id": "restricted-sheriff",
   "metadata": {
    "execution": {
     "iopub.execute_input": "2022-08-07T12:15:02.941260Z",
     "iopub.status.busy": "2022-08-07T12:15:02.940698Z",
     "iopub.status.idle": "2022-08-07T12:15:02.947863Z",
     "shell.execute_reply": "2022-08-07T12:15:02.947296Z"
    },
    "papermill": {
     "duration": 0.044184,
     "end_time": "2022-08-07T12:15:02.947970",
     "exception": false,
     "start_time": "2022-08-07T12:15:02.903786",
     "status": "completed"
    },
    "tags": []
   },
   "outputs": [],
   "source": [
    "#hide\n",
    "dfc_cases = dft_cases.groupby(COL_REGION)[dt_today].sum()\n",
    "dfc_deaths = dft_deaths.groupby(COL_REGION)[dt_today].sum()\n",
    "# dfp_cases = dft_cases.groupby(COL_REGION)[dt_5day].sum()\n",
    "# dfp_deaths = dft_deaths.groupby(COL_REGION)[dt_5day].sum()\n",
    "dfp_cases = dft_cases.groupby(COL_REGION)[dt_yday].sum()\n",
    "dfp_deaths = dft_deaths.groupby(COL_REGION)[dt_yday].sum()"
   ]
  },
  {
   "cell_type": "code",
   "execution_count": 12,
   "id": "deluxe-hepatitis",
   "metadata": {
    "execution": {
     "iopub.execute_input": "2022-08-07T12:15:03.011802Z",
     "iopub.status.busy": "2022-08-07T12:15:03.011208Z",
     "iopub.status.idle": "2022-08-07T12:15:03.017998Z",
     "shell.execute_reply": "2022-08-07T12:15:03.018419Z"
    },
    "papermill": {
     "duration": 0.039908,
     "end_time": "2022-08-07T12:15:03.018538",
     "exception": false,
     "start_time": "2022-08-07T12:15:02.978630",
     "status": "completed"
    },
    "tags": []
   },
   "outputs": [],
   "source": [
    "#hide\n",
    "df_table = (pd.DataFrame(dict(Cases = dfc_cases, Deaths = dfc_deaths, PCases = dfp_cases, PDeaths = dfp_deaths))\n",
    "            .sort_values(by = ['Cases','Deaths'], ascending = [False, False])\n",
    "            .reset_index())"
   ]
  },
  {
   "cell_type": "code",
   "execution_count": 13,
   "id": "educational-chancellor",
   "metadata": {
    "execution": {
     "iopub.execute_input": "2022-08-07T12:15:03.091471Z",
     "iopub.status.busy": "2022-08-07T12:15:03.090894Z",
     "iopub.status.idle": "2022-08-07T12:15:03.103898Z",
     "shell.execute_reply": "2022-08-07T12:15:03.103417Z"
    },
    "papermill": {
     "duration": 0.055383,
     "end_time": "2022-08-07T12:15:03.104004",
     "exception": false,
     "start_time": "2022-08-07T12:15:03.048621",
     "status": "completed"
    },
    "tags": []
   },
   "outputs": [
    {
     "data": {
      "text/html": [
       "<div>\n",
       "<style scoped>\n",
       "    .dataframe tbody tr th:only-of-type {\n",
       "        vertical-align: middle;\n",
       "    }\n",
       "\n",
       "    .dataframe tbody tr th {\n",
       "        vertical-align: top;\n",
       "    }\n",
       "\n",
       "    .dataframe thead th {\n",
       "        text-align: right;\n",
       "    }\n",
       "</style>\n",
       "<table border=\"1\" class=\"dataframe\">\n",
       "  <thead>\n",
       "    <tr style=\"text-align: right;\">\n",
       "      <th></th>\n",
       "      <th>Country/Region</th>\n",
       "      <th>Cases</th>\n",
       "      <th>Deaths</th>\n",
       "      <th>PCases</th>\n",
       "      <th>PDeaths</th>\n",
       "      <th>Cases (+)</th>\n",
       "      <th>Deaths (+)</th>\n",
       "      <th>Fatality Rate</th>\n",
       "      <th>Continent</th>\n",
       "    </tr>\n",
       "  </thead>\n",
       "  <tbody>\n",
       "    <tr>\n",
       "      <th>0</th>\n",
       "      <td>US</td>\n",
       "      <td>92197380</td>\n",
       "      <td>1034152</td>\n",
       "      <td>92090455</td>\n",
       "      <td>1033516</td>\n",
       "      <td>106925</td>\n",
       "      <td>636</td>\n",
       "      <td>1.12</td>\n",
       "      <td>North America</td>\n",
       "    </tr>\n",
       "    <tr>\n",
       "      <th>1</th>\n",
       "      <td>India</td>\n",
       "      <td>44145709</td>\n",
       "      <td>526689</td>\n",
       "      <td>44126994</td>\n",
       "      <td>526649</td>\n",
       "      <td>18715</td>\n",
       "      <td>40</td>\n",
       "      <td>1.19</td>\n",
       "      <td>Asia</td>\n",
       "    </tr>\n",
       "    <tr>\n",
       "      <th>2</th>\n",
       "      <td>France</td>\n",
       "      <td>34237067</td>\n",
       "      <td>153577</td>\n",
       "      <td>34237067</td>\n",
       "      <td>153577</td>\n",
       "      <td>0</td>\n",
       "      <td>0</td>\n",
       "      <td>0.45</td>\n",
       "      <td>Europe</td>\n",
       "    </tr>\n",
       "    <tr>\n",
       "      <th>3</th>\n",
       "      <td>Brazil</td>\n",
       "      <td>34011173</td>\n",
       "      <td>679939</td>\n",
       "      <td>33994470</td>\n",
       "      <td>679758</td>\n",
       "      <td>16703</td>\n",
       "      <td>181</td>\n",
       "      <td>2.00</td>\n",
       "      <td>South America</td>\n",
       "    </tr>\n",
       "    <tr>\n",
       "      <th>4</th>\n",
       "      <td>Germany</td>\n",
       "      <td>31228314</td>\n",
       "      <td>144858</td>\n",
       "      <td>31228314</td>\n",
       "      <td>144858</td>\n",
       "      <td>0</td>\n",
       "      <td>0</td>\n",
       "      <td>0.46</td>\n",
       "      <td>Europe</td>\n",
       "    </tr>\n",
       "  </tbody>\n",
       "</table>\n",
       "</div>"
      ],
      "text/plain": [
       "  Country/Region     Cases   Deaths    PCases  PDeaths  Cases (+)  Deaths (+)  \\\n",
       "0             US  92197380  1034152  92090455  1033516     106925         636   \n",
       "1          India  44145709   526689  44126994   526649      18715          40   \n",
       "2         France  34237067   153577  34237067   153577          0           0   \n",
       "3         Brazil  34011173   679939  33994470   679758      16703         181   \n",
       "4        Germany  31228314   144858  31228314   144858          0           0   \n",
       "\n",
       "   Fatality Rate      Continent  \n",
       "0           1.12  North America  \n",
       "1           1.19           Asia  \n",
       "2           0.45         Europe  \n",
       "3           2.00  South America  \n",
       "4           0.46         Europe  "
      ]
     },
     "execution_count": 13,
     "metadata": {},
     "output_type": "execute_result"
    }
   ],
   "source": [
    "#hide\n",
    "for c in 'Cases, Deaths'.split(', '):\n",
    "    df_table[f'{c} (+)'] = (df_table[c] - df_table[f'P{c}']).clip(0)\n",
    "    #Clip ça veut dire, les chiffres negatif sont interdit\n",
    "df_table['Fatality Rate'] = (100* df_table['Deaths']/ df_table['Cases']).round(2)\n",
    "df_table['Continent'] = df_table['Country/Region'].map(mapping['map.continent'])\n",
    "df_table.head(5)"
   ]
  },
  {
   "cell_type": "code",
   "execution_count": 14,
   "id": "aboriginal-bulgaria",
   "metadata": {
    "execution": {
     "iopub.execute_input": "2022-08-07T12:15:03.171235Z",
     "iopub.status.busy": "2022-08-07T12:15:03.170679Z",
     "iopub.status.idle": "2022-08-07T12:15:03.172647Z",
     "shell.execute_reply": "2022-08-07T12:15:03.173057Z"
    },
    "papermill": {
     "duration": 0.038383,
     "end_time": "2022-08-07T12:15:03.173181",
     "exception": false,
     "start_time": "2022-08-07T12:15:03.134798",
     "status": "completed"
    },
    "tags": []
   },
   "outputs": [],
   "source": [
    "#hide\n",
    "#delete problematic countries from table\n",
    "df_table = df_table[~df_table['Country/Region'].isin(['Cape Verde', 'Cruise Ship', 'Kosovo'])]"
   ]
  },
  {
   "cell_type": "code",
   "execution_count": 15,
   "id": "fantastic-effect",
   "metadata": {
    "execution": {
     "iopub.execute_input": "2022-08-07T12:15:03.272168Z",
     "iopub.status.busy": "2022-08-07T12:15:03.271270Z",
     "iopub.status.idle": "2022-08-07T12:15:03.291818Z",
     "shell.execute_reply": "2022-08-07T12:15:03.291253Z"
    },
    "papermill": {
     "duration": 0.088066,
     "end_time": "2022-08-07T12:15:03.291945",
     "exception": false,
     "start_time": "2022-08-07T12:15:03.203879",
     "status": "completed"
    },
    "tags": []
   },
   "outputs": [
    {
     "data": {
      "text/html": [
       "<div>\n",
       "<style scoped>\n",
       "    .dataframe tbody tr th:only-of-type {\n",
       "        vertical-align: middle;\n",
       "    }\n",
       "\n",
       "    .dataframe tbody tr th {\n",
       "        vertical-align: top;\n",
       "    }\n",
       "\n",
       "    .dataframe thead th {\n",
       "        text-align: right;\n",
       "    }\n",
       "</style>\n",
       "<table border=\"1\" class=\"dataframe\">\n",
       "  <thead>\n",
       "    <tr style=\"text-align: right;\">\n",
       "      <th></th>\n",
       "      <th>Country/Region</th>\n",
       "      <th>Cases</th>\n",
       "      <th>Deaths</th>\n",
       "      <th>PCases</th>\n",
       "      <th>PDeaths</th>\n",
       "      <th>Cases (+)</th>\n",
       "      <th>Deaths (+)</th>\n",
       "      <th>Fatality Rate</th>\n",
       "      <th>Continent</th>\n",
       "    </tr>\n",
       "  </thead>\n",
       "  <tbody>\n",
       "    <tr>\n",
       "      <th>0</th>\n",
       "      <td>US</td>\n",
       "      <td>92197380</td>\n",
       "      <td>1034152</td>\n",
       "      <td>92090455</td>\n",
       "      <td>1033516</td>\n",
       "      <td>106925</td>\n",
       "      <td>636</td>\n",
       "      <td>1.1</td>\n",
       "      <td>North America</td>\n",
       "    </tr>\n",
       "    <tr>\n",
       "      <th>1</th>\n",
       "      <td>India</td>\n",
       "      <td>44145709</td>\n",
       "      <td>526689</td>\n",
       "      <td>44126994</td>\n",
       "      <td>526649</td>\n",
       "      <td>18715</td>\n",
       "      <td>40</td>\n",
       "      <td>1.2</td>\n",
       "      <td>Asia</td>\n",
       "    </tr>\n",
       "    <tr>\n",
       "      <th>2</th>\n",
       "      <td>France</td>\n",
       "      <td>34237067</td>\n",
       "      <td>153577</td>\n",
       "      <td>34237067</td>\n",
       "      <td>153577</td>\n",
       "      <td>0</td>\n",
       "      <td>0</td>\n",
       "      <td>0.4</td>\n",
       "      <td>Europe</td>\n",
       "    </tr>\n",
       "    <tr>\n",
       "      <th>3</th>\n",
       "      <td>Brazil</td>\n",
       "      <td>34011173</td>\n",
       "      <td>679939</td>\n",
       "      <td>33994470</td>\n",
       "      <td>679758</td>\n",
       "      <td>16703</td>\n",
       "      <td>181</td>\n",
       "      <td>2.0</td>\n",
       "      <td>South America</td>\n",
       "    </tr>\n",
       "    <tr>\n",
       "      <th>4</th>\n",
       "      <td>Germany</td>\n",
       "      <td>31228314</td>\n",
       "      <td>144858</td>\n",
       "      <td>31228314</td>\n",
       "      <td>144858</td>\n",
       "      <td>0</td>\n",
       "      <td>0</td>\n",
       "      <td>0.5</td>\n",
       "      <td>Europe</td>\n",
       "    </tr>\n",
       "  </tbody>\n",
       "</table>\n",
       "</div>"
      ],
      "text/plain": [
       "  Country/Region     Cases   Deaths    PCases  PDeaths  Cases (+)  Deaths (+)  \\\n",
       "0             US  92197380  1034152  92090455  1033516     106925         636   \n",
       "1          India  44145709   526689  44126994   526649      18715          40   \n",
       "2         France  34237067   153577  34237067   153577          0           0   \n",
       "3         Brazil  34011173   679939  33994470   679758      16703         181   \n",
       "4        Germany  31228314   144858  31228314   144858          0           0   \n",
       "\n",
       "   Fatality Rate      Continent  \n",
       "0            1.1  North America  \n",
       "1            1.2           Asia  \n",
       "2            0.4         Europe  \n",
       "3            2.0  South America  \n",
       "4            0.5         Europe  "
      ]
     },
     "execution_count": 15,
     "metadata": {},
     "output_type": "execute_result"
    }
   ],
   "source": [
    "#hide\n",
    "df_table = (pd.DataFrame(dict(Cases=dfc_cases, Deaths=dfc_deaths, PCases=dfp_cases, PDeaths=dfp_deaths))\n",
    "             .sort_values(by=['Cases', 'Deaths'], ascending=[False, False])\n",
    "             .reset_index())\n",
    "df_table.rename(columns={'index': 'Country/Region'}, inplace=True)\n",
    "for c in 'Cases, Deaths'.split(', '):\n",
    "    df_table[f'{c} (+)'] = (df_table[c] - df_table[f'P{c}']).clip(0)  # DATA BUG\n",
    "df_table['Fatality Rate'] = (100 * df_table['Deaths'] / df_table['Cases']).round(1)\n",
    "df_table['Continent'] = df_table['Country/Region'].map(mapping['map.continent'])\n",
    "df_table.head(5)"
   ]
  },
  {
   "cell_type": "code",
   "execution_count": 16,
   "id": "fewer-occasion",
   "metadata": {
    "execution": {
     "iopub.execute_input": "2022-08-07T12:15:03.373125Z",
     "iopub.status.busy": "2022-08-07T12:15:03.372568Z",
     "iopub.status.idle": "2022-08-07T12:15:03.374814Z",
     "shell.execute_reply": "2022-08-07T12:15:03.374362Z"
    },
    "papermill": {
     "duration": 0.048526,
     "end_time": "2022-08-07T12:15:03.374914",
     "exception": false,
     "start_time": "2022-08-07T12:15:03.326388",
     "status": "completed"
    },
    "tags": []
   },
   "outputs": [],
   "source": [
    "#hide\n",
    "#delete problematic countries from table\n",
    "df_table = df_table[~df_table['Country/Region'].isin(['Cape Verde', 'Cruise Ship', 'Kosovo'])]"
   ]
  },
  {
   "cell_type": "code",
   "execution_count": 17,
   "id": "related-center",
   "metadata": {
    "execution": {
     "iopub.execute_input": "2022-08-07T12:15:03.465112Z",
     "iopub.status.busy": "2022-08-07T12:15:03.464537Z",
     "iopub.status.idle": "2022-08-07T12:15:03.466519Z",
     "shell.execute_reply": "2022-08-07T12:15:03.466939Z"
    },
    "papermill": {
     "duration": 0.050967,
     "end_time": "2022-08-07T12:15:03.467061",
     "exception": false,
     "start_time": "2022-08-07T12:15:03.416094",
     "status": "completed"
    },
    "tags": []
   },
   "outputs": [],
   "source": [
    "#hide\n",
    "metrics = [df_table.columns[index] for index in [1,2,5,6]]\n",
    "# s_china = df_table[df_table['Country/Region'].eq('China')][metrics].sum().add_prefix('China ')\n",
    "s_us = df_table[df_table['Country/Region'].eq('US')][metrics].sum().add_prefix('US ')\n",
    "s_eu = df_table[df_table['Continent'].eq('Europe')][metrics].sum().add_prefix('EU ')\n",
    "s_ind = df_table[df_table['Country/Region'].eq('India')][metrics].sum().add_prefix('India ')\n",
    "summary = {'updated': pd.to_datetime(dt_today), 'since': pd.to_datetime(dt_yday)}\n",
    "summary = {'updated': pd.to_datetime(dt_today), 'since': pd.to_datetime(dt_yday)}\n",
    "summary = {**summary, **df_table[metrics].sum(), **s_ind, **s_us, **s_eu}"
   ]
  },
  {
   "cell_type": "code",
   "execution_count": 18,
   "id": "engaging-syndrome",
   "metadata": {
    "execution": {
     "iopub.execute_input": "2022-08-07T12:15:03.534327Z",
     "iopub.status.busy": "2022-08-07T12:15:03.533760Z",
     "iopub.status.idle": "2022-08-07T12:15:03.552475Z",
     "shell.execute_reply": "2022-08-07T12:15:03.552005Z"
    },
    "papermill": {
     "duration": 0.054313,
     "end_time": "2022-08-07T12:15:03.552582",
     "exception": false,
     "start_time": "2022-08-07T12:15:03.498269",
     "status": "completed"
    },
    "tags": []
   },
   "outputs": [],
   "source": [
    "#hide\n",
    "dft_ct_new_cases = dft_cases.groupby(COL_REGION)[dt_cols].sum().diff(axis=1).fillna(0).astype(int)"
   ]
  },
  {
   "cell_type": "code",
   "execution_count": 19,
   "id": "neutral-assignment",
   "metadata": {
    "execution": {
     "iopub.execute_input": "2022-08-07T12:15:03.621240Z",
     "iopub.status.busy": "2022-08-07T12:15:03.620672Z",
     "iopub.status.idle": "2022-08-07T12:15:03.622527Z",
     "shell.execute_reply": "2022-08-07T12:15:03.622943Z"
    },
    "papermill": {
     "duration": 0.039343,
     "end_time": "2022-08-07T12:15:03.623060",
     "exception": false,
     "start_time": "2022-08-07T12:15:03.583717",
     "status": "completed"
    },
    "tags": []
   },
   "outputs": [],
   "source": [
    "#hide\n",
    "everydaycases = dft_ct_new_cases.cumsum(axis=1)"
   ]
  },
  {
   "cell_type": "code",
   "execution_count": 20,
   "id": "parliamentary-calgary",
   "metadata": {
    "execution": {
     "iopub.execute_input": "2022-08-07T12:15:03.689722Z",
     "iopub.status.busy": "2022-08-07T12:15:03.689146Z",
     "iopub.status.idle": "2022-08-07T12:15:04.231665Z",
     "shell.execute_reply": "2022-08-07T12:15:04.231151Z"
    },
    "papermill": {
     "duration": 0.577461,
     "end_time": "2022-08-07T12:15:04.231793",
     "exception": false,
     "start_time": "2022-08-07T12:15:03.654332",
     "status": "completed"
    },
    "tags": []
   },
   "outputs": [],
   "source": [
    "#hide\n",
    "import pandas as pd\n",
    "import matplotlib.pyplot as plt\n",
    "import matplotlib.ticker as ticker\n",
    "import matplotlib.animation as animation\n",
    "from IPython.display import HTML"
   ]
  },
  {
   "cell_type": "code",
   "execution_count": 21,
   "id": "lasting-extraction",
   "metadata": {
    "execution": {
     "iopub.execute_input": "2022-08-07T12:15:04.300632Z",
     "iopub.status.busy": "2022-08-07T12:15:04.300049Z",
     "iopub.status.idle": "2022-08-07T12:15:04.306733Z",
     "shell.execute_reply": "2022-08-07T12:15:04.306279Z"
    },
    "papermill": {
     "duration": 0.043769,
     "end_time": "2022-08-07T12:15:04.306835",
     "exception": false,
     "start_time": "2022-08-07T12:15:04.263066",
     "status": "completed"
    },
    "tags": []
   },
   "outputs": [],
   "source": [
    "#hide\n",
    "t = everydaycases.stack()"
   ]
  },
  {
   "cell_type": "code",
   "execution_count": 22,
   "id": "premier-sleeve",
   "metadata": {
    "execution": {
     "iopub.execute_input": "2022-08-07T12:15:04.373538Z",
     "iopub.status.busy": "2022-08-07T12:15:04.372955Z",
     "iopub.status.idle": "2022-08-07T12:15:04.384505Z",
     "shell.execute_reply": "2022-08-07T12:15:04.383941Z"
    },
    "papermill": {
     "duration": 0.046457,
     "end_time": "2022-08-07T12:15:04.384609",
     "exception": false,
     "start_time": "2022-08-07T12:15:04.338152",
     "status": "completed"
    },
    "tags": []
   },
   "outputs": [],
   "source": [
    "#hide\n",
    "g = t.reset_index(['Country/Region'])"
   ]
  },
  {
   "cell_type": "code",
   "execution_count": 23,
   "id": "distributed-pittsburgh",
   "metadata": {
    "execution": {
     "iopub.execute_input": "2022-08-07T12:15:04.451121Z",
     "iopub.status.busy": "2022-08-07T12:15:04.450539Z",
     "iopub.status.idle": "2022-08-07T12:15:04.453371Z",
     "shell.execute_reply": "2022-08-07T12:15:04.452808Z"
    },
    "papermill": {
     "duration": 0.037521,
     "end_time": "2022-08-07T12:15:04.453476",
     "exception": false,
     "start_time": "2022-08-07T12:15:04.415955",
     "status": "completed"
    },
    "tags": []
   },
   "outputs": [],
   "source": [
    "#hide\n",
    "g.index.name = 'date'"
   ]
  },
  {
   "cell_type": "code",
   "execution_count": 24,
   "id": "naked-donor",
   "metadata": {
    "execution": {
     "iopub.execute_input": "2022-08-07T12:15:04.520735Z",
     "iopub.status.busy": "2022-08-07T12:15:04.519529Z",
     "iopub.status.idle": "2022-08-07T12:15:04.521380Z",
     "shell.execute_reply": "2022-08-07T12:15:04.521792Z"
    },
    "papermill": {
     "duration": 0.037193,
     "end_time": "2022-08-07T12:15:04.521905",
     "exception": false,
     "start_time": "2022-08-07T12:15:04.484712",
     "status": "completed"
    },
    "tags": []
   },
   "outputs": [],
   "source": [
    "# #hide\n",
    "# g = g.reset_index(['date'])"
   ]
  },
  {
   "cell_type": "code",
   "execution_count": 25,
   "id": "incomplete-mustang",
   "metadata": {
    "execution": {
     "iopub.execute_input": "2022-08-07T12:15:04.588462Z",
     "iopub.status.busy": "2022-08-07T12:15:04.587230Z",
     "iopub.status.idle": "2022-08-07T12:15:04.589094Z",
     "shell.execute_reply": "2022-08-07T12:15:04.589505Z"
    },
    "papermill": {
     "duration": 0.036644,
     "end_time": "2022-08-07T12:15:04.589618",
     "exception": false,
     "start_time": "2022-08-07T12:15:04.552974",
     "status": "completed"
    },
    "tags": []
   },
   "outputs": [],
   "source": [
    "#hide\n",
    "# g.head()"
   ]
  },
  {
   "cell_type": "code",
   "execution_count": 26,
   "id": "specific-kruger",
   "metadata": {
    "execution": {
     "iopub.execute_input": "2022-08-07T12:15:04.655694Z",
     "iopub.status.busy": "2022-08-07T12:15:04.655095Z",
     "iopub.status.idle": "2022-08-07T12:15:04.658742Z",
     "shell.execute_reply": "2022-08-07T12:15:04.659164Z"
    },
    "papermill": {
     "duration": 0.038259,
     "end_time": "2022-08-07T12:15:04.659286",
     "exception": false,
     "start_time": "2022-08-07T12:15:04.621027",
     "status": "completed"
    },
    "tags": []
   },
   "outputs": [],
   "source": [
    "#hide\n",
    "# g.columns = ['date','country','cases']"
   ]
  },
  {
   "cell_type": "code",
   "execution_count": 27,
   "id": "tender-conversion",
   "metadata": {
    "execution": {
     "iopub.execute_input": "2022-08-07T12:15:04.725209Z",
     "iopub.status.busy": "2022-08-07T12:15:04.724634Z",
     "iopub.status.idle": "2022-08-07T12:15:04.726879Z",
     "shell.execute_reply": "2022-08-07T12:15:04.727321Z"
    },
    "papermill": {
     "duration": 0.037156,
     "end_time": "2022-08-07T12:15:04.727447",
     "exception": false,
     "start_time": "2022-08-07T12:15:04.690291",
     "status": "completed"
    },
    "tags": []
   },
   "outputs": [],
   "source": [
    "#hide\n",
    "# g['continent'] = g.country"
   ]
  },
  {
   "cell_type": "code",
   "execution_count": 28,
   "id": "substantial-wilderness",
   "metadata": {
    "execution": {
     "iopub.execute_input": "2022-08-07T12:15:04.793527Z",
     "iopub.status.busy": "2022-08-07T12:15:04.792965Z",
     "iopub.status.idle": "2022-08-07T12:15:04.795310Z",
     "shell.execute_reply": "2022-08-07T12:15:04.794761Z"
    },
    "papermill": {
     "duration": 0.036658,
     "end_time": "2022-08-07T12:15:04.795409",
     "exception": false,
     "start_time": "2022-08-07T12:15:04.758751",
     "status": "completed"
    },
    "tags": []
   },
   "outputs": [],
   "source": [
    "#hide\n",
    "# cols = list(g.columns.values)"
   ]
  },
  {
   "cell_type": "code",
   "execution_count": 29,
   "id": "solved-farming",
   "metadata": {
    "execution": {
     "iopub.execute_input": "2022-08-07T12:15:04.861475Z",
     "iopub.status.busy": "2022-08-07T12:15:04.860902Z",
     "iopub.status.idle": "2022-08-07T12:15:04.862847Z",
     "shell.execute_reply": "2022-08-07T12:15:04.863262Z"
    },
    "papermill": {
     "duration": 0.036771,
     "end_time": "2022-08-07T12:15:04.863376",
     "exception": false,
     "start_time": "2022-08-07T12:15:04.826605",
     "status": "completed"
    },
    "tags": []
   },
   "outputs": [],
   "source": [
    "#hide\n",
    "# cols.insert(0, cols.pop())"
   ]
  },
  {
   "cell_type": "code",
   "execution_count": 30,
   "id": "executed-adoption",
   "metadata": {
    "execution": {
     "iopub.execute_input": "2022-08-07T12:15:04.929172Z",
     "iopub.status.busy": "2022-08-07T12:15:04.928573Z",
     "iopub.status.idle": "2022-08-07T12:15:04.931160Z",
     "shell.execute_reply": "2022-08-07T12:15:04.930721Z"
    },
    "papermill": {
     "duration": 0.036646,
     "end_time": "2022-08-07T12:15:04.931259",
     "exception": false,
     "start_time": "2022-08-07T12:15:04.894613",
     "status": "completed"
    },
    "tags": []
   },
   "outputs": [],
   "source": [
    "#hide\n",
    "# g = g[cols]"
   ]
  },
  {
   "cell_type": "code",
   "execution_count": 31,
   "id": "subject-dublin",
   "metadata": {
    "execution": {
     "iopub.execute_input": "2022-08-07T12:15:04.996945Z",
     "iopub.status.busy": "2022-08-07T12:15:04.996377Z",
     "iopub.status.idle": "2022-08-07T12:15:04.998834Z",
     "shell.execute_reply": "2022-08-07T12:15:04.998302Z"
    },
    "papermill": {
     "duration": 0.036662,
     "end_time": "2022-08-07T12:15:04.998934",
     "exception": false,
     "start_time": "2022-08-07T12:15:04.962272",
     "status": "completed"
    },
    "tags": []
   },
   "outputs": [],
   "source": [
    "#hide\n",
    "# g['continent'] = g['continent'].map(mapping['map.continent'])"
   ]
  },
  {
   "cell_type": "code",
   "execution_count": 32,
   "id": "freelance-scout",
   "metadata": {
    "execution": {
     "iopub.execute_input": "2022-08-07T12:15:05.064909Z",
     "iopub.status.busy": "2022-08-07T12:15:05.064341Z",
     "iopub.status.idle": "2022-08-07T12:15:05.066801Z",
     "shell.execute_reply": "2022-08-07T12:15:05.066361Z"
    },
    "papermill": {
     "duration": 0.036625,
     "end_time": "2022-08-07T12:15:05.066900",
     "exception": false,
     "start_time": "2022-08-07T12:15:05.030275",
     "status": "completed"
    },
    "tags": []
   },
   "outputs": [],
   "source": [
    "#hide\n",
    "# g.head()"
   ]
  },
  {
   "cell_type": "code",
   "execution_count": 33,
   "id": "limited-engine",
   "metadata": {
    "execution": {
     "iopub.execute_input": "2022-08-07T12:15:05.132691Z",
     "iopub.status.busy": "2022-08-07T12:15:05.132122Z",
     "iopub.status.idle": "2022-08-07T12:15:05.134574Z",
     "shell.execute_reply": "2022-08-07T12:15:05.134046Z"
    },
    "papermill": {
     "duration": 0.03678,
     "end_time": "2022-08-07T12:15:05.134675",
     "exception": false,
     "start_time": "2022-08-07T12:15:05.097895",
     "status": "completed"
    },
    "tags": []
   },
   "outputs": [],
   "source": [
    "# hide\n",
    "# g['date'] = g['date'].astype('datetime64[ns]')"
   ]
  },
  {
   "cell_type": "code",
   "execution_count": 34,
   "id": "sophisticated-supervisor",
   "metadata": {
    "execution": {
     "iopub.execute_input": "2022-08-07T12:15:05.201227Z",
     "iopub.status.busy": "2022-08-07T12:15:05.200619Z",
     "iopub.status.idle": "2022-08-07T12:15:05.203133Z",
     "shell.execute_reply": "2022-08-07T12:15:05.202587Z"
    },
    "papermill": {
     "duration": 0.037219,
     "end_time": "2022-08-07T12:15:05.203235",
     "exception": false,
     "start_time": "2022-08-07T12:15:05.166016",
     "status": "completed"
    },
    "tags": []
   },
   "outputs": [],
   "source": [
    "#hide\n",
    "# g['date'] = g.date.dt.dayofyear"
   ]
  },
  {
   "cell_type": "code",
   "execution_count": 35,
   "id": "inside-dubai",
   "metadata": {
    "execution": {
     "iopub.execute_input": "2022-08-07T12:15:05.269108Z",
     "iopub.status.busy": "2022-08-07T12:15:05.268476Z",
     "iopub.status.idle": "2022-08-07T12:15:05.271095Z",
     "shell.execute_reply": "2022-08-07T12:15:05.270597Z"
    },
    "papermill": {
     "duration": 0.036788,
     "end_time": "2022-08-07T12:15:05.271197",
     "exception": false,
     "start_time": "2022-08-07T12:15:05.234409",
     "status": "completed"
    },
    "tags": []
   },
   "outputs": [],
   "source": [
    "#hide\n",
    "# g = g.rename(columns= {'continent':'group','country':'name','cases':'value'})"
   ]
  },
  {
   "cell_type": "code",
   "execution_count": 36,
   "id": "fleet-motorcycle",
   "metadata": {
    "execution": {
     "iopub.execute_input": "2022-08-07T12:15:05.337021Z",
     "iopub.status.busy": "2022-08-07T12:15:05.336446Z",
     "iopub.status.idle": "2022-08-07T12:15:05.338490Z",
     "shell.execute_reply": "2022-08-07T12:15:05.338889Z"
    },
    "papermill": {
     "duration": 0.036666,
     "end_time": "2022-08-07T12:15:05.339005",
     "exception": false,
     "start_time": "2022-08-07T12:15:05.302339",
     "status": "completed"
    },
    "tags": []
   },
   "outputs": [],
   "source": [
    "#hide\n",
    "# cols = ['name','group','day','value']"
   ]
  },
  {
   "cell_type": "code",
   "execution_count": 37,
   "id": "continued-sleeping",
   "metadata": {
    "execution": {
     "iopub.execute_input": "2022-08-07T12:15:05.404951Z",
     "iopub.status.busy": "2022-08-07T12:15:05.404378Z",
     "iopub.status.idle": "2022-08-07T12:15:05.406803Z",
     "shell.execute_reply": "2022-08-07T12:15:05.406338Z"
    },
    "papermill": {
     "duration": 0.036731,
     "end_time": "2022-08-07T12:15:05.406900",
     "exception": false,
     "start_time": "2022-08-07T12:15:05.370169",
     "status": "completed"
    },
    "tags": []
   },
   "outputs": [],
   "source": [
    "#hide\n",
    "# g.rename(columns= {'date':'day'},inplace = True)"
   ]
  },
  {
   "cell_type": "code",
   "execution_count": 38,
   "id": "major-fight",
   "metadata": {
    "execution": {
     "iopub.execute_input": "2022-08-07T12:15:05.473024Z",
     "iopub.status.busy": "2022-08-07T12:15:05.472450Z",
     "iopub.status.idle": "2022-08-07T12:15:05.474896Z",
     "shell.execute_reply": "2022-08-07T12:15:05.474363Z"
    },
    "papermill": {
     "duration": 0.036839,
     "end_time": "2022-08-07T12:15:05.474995",
     "exception": false,
     "start_time": "2022-08-07T12:15:05.438156",
     "status": "completed"
    },
    "tags": []
   },
   "outputs": [],
   "source": [
    "#hide\n",
    "# g = g[cols]"
   ]
  },
  {
   "cell_type": "code",
   "execution_count": 39,
   "id": "structured-mobile",
   "metadata": {
    "execution": {
     "iopub.execute_input": "2022-08-07T12:15:05.540715Z",
     "iopub.status.busy": "2022-08-07T12:15:05.540136Z",
     "iopub.status.idle": "2022-08-07T12:15:05.542580Z",
     "shell.execute_reply": "2022-08-07T12:15:05.542043Z"
    },
    "papermill": {
     "duration": 0.036648,
     "end_time": "2022-08-07T12:15:05.542681",
     "exception": false,
     "start_time": "2022-08-07T12:15:05.506033",
     "status": "completed"
    },
    "tags": []
   },
   "outputs": [],
   "source": [
    "# #hide\n",
    "# g = g[g.group.notna()]"
   ]
  },
  {
   "cell_type": "code",
   "execution_count": 40,
   "id": "determined-closing",
   "metadata": {
    "execution": {
     "iopub.execute_input": "2022-08-07T12:15:05.608888Z",
     "iopub.status.busy": "2022-08-07T12:15:05.608308Z",
     "iopub.status.idle": "2022-08-07T12:15:05.610661Z",
     "shell.execute_reply": "2022-08-07T12:15:05.610131Z"
    },
    "papermill": {
     "duration": 0.036809,
     "end_time": "2022-08-07T12:15:05.610760",
     "exception": false,
     "start_time": "2022-08-07T12:15:05.573951",
     "status": "completed"
    },
    "tags": []
   },
   "outputs": [],
   "source": [
    "# #hide\n",
    "# colors = dict(zip(\n",
    "#     [\"Oceania\", \"Europe\", \"Asia\", \"South America\", \"Middle East\", \"North America\", \"Africa\"],\n",
    "#     [\"#adb0ff\", \"#ffb3ff\", \"#90d595\", \"#e48381\", \"#aafbff\", \"#f7bb5f\", \"#eafb50\"]\n",
    "# ))\n",
    "# group_lk = g.set_index('name')['group'].to_dict()"
   ]
  },
  {
   "cell_type": "code",
   "execution_count": null,
   "id": "gross-drinking",
   "metadata": {
    "papermill": {
     "duration": 0.030961,
     "end_time": "2022-08-07T12:15:05.673213",
     "exception": false,
     "start_time": "2022-08-07T12:15:05.642252",
     "status": "completed"
    },
    "tags": []
   },
   "outputs": [],
   "source": []
  },
  {
   "cell_type": "code",
   "execution_count": 41,
   "id": "subject-macintosh",
   "metadata": {
    "execution": {
     "iopub.execute_input": "2022-08-07T12:15:05.739649Z",
     "iopub.status.busy": "2022-08-07T12:15:05.739064Z",
     "iopub.status.idle": "2022-08-07T12:15:05.741291Z",
     "shell.execute_reply": "2022-08-07T12:15:05.741689Z"
    },
    "papermill": {
     "duration": 0.037479,
     "end_time": "2022-08-07T12:15:05.741805",
     "exception": false,
     "start_time": "2022-08-07T12:15:05.704326",
     "status": "completed"
    },
    "tags": []
   },
   "outputs": [],
   "source": [
    "# #hide\n",
    "# fig, ax = plt.subplots(figsize=(15, 8))\n",
    "\n",
    "# def draw_barchart(current_day):\n",
    "#     dff = g[g['day'].eq(current_day)].sort_values(by='value', ascending=True).tail(10)\n",
    "#     ax.clear()\n",
    "#     ax.barh(dff['name'], dff['value'], color=[colors[group_lk[x]] for x in dff['name']])\n",
    "#     dx = dff['value'].max() / 200\n",
    "    \n",
    "#     for i, (value, name) in enumerate(zip(dff['value'], dff['name'])):\n",
    "#         ax.text(value-dx, i,     name,           size=14, weight=600, ha='right', va='bottom')\n",
    "#         ax.text(value-dx, i-.25, group_lk[name], size=10, color='#444444', ha='right', va='baseline')\n",
    "#         ax.text(value+dx, i,     f'{value:,.0f}',  size=14, ha='left',  va='center')\n",
    "#     ax.text(1, 0.4, current_day, transform=ax.transAxes, color='#777777', size=46, ha='right', weight=800)\n",
    "#     ax.text(0, 1.06, 'Population (thousands)', transform=ax.transAxes, size=12, color='#777777')\n",
    "#     ax.xaxis.set_major_formatter(ticker.StrMethodFormatter('{x:,.0f}'))\n",
    "#     ax.xaxis.set_ticks_position('top')\n",
    "#     ax.tick_params(axis='x', colors='#777777', labelsize=12)\n",
    "#     ax.set_yticks([])\n",
    "#     ax.margins(0, 0.01)\n",
    "#     ax.grid(which='major', axis='x', linestyle='-')\n",
    "#     ax.set_axisbelow(True)\n",
    "    \n",
    "#     ax.text(0, 1.15, 'Coronavirus',\n",
    "#             transform=ax.transAxes, size=24, weight=600, ha='left', va='top')\n",
    "# #     ax.text(1, 0, 'by @pratapvardhan; credit @jburnmurdoch', transform=ax.transAxes, color='#777777', ha='right',\n",
    "# #             bbox=dict(facecolor='white', alpha=0.8, edgecolor='white'))\n",
    "#     plt.box(False)"
   ]
  },
  {
   "cell_type": "code",
   "execution_count": 42,
   "id": "sexual-wages",
   "metadata": {
    "execution": {
     "iopub.execute_input": "2022-08-07T12:15:05.807668Z",
     "iopub.status.busy": "2022-08-07T12:15:05.807098Z",
     "iopub.status.idle": "2022-08-07T12:15:05.809133Z",
     "shell.execute_reply": "2022-08-07T12:15:05.808585Z"
    },
    "papermill": {
     "duration": 0.036401,
     "end_time": "2022-08-07T12:15:05.809234",
     "exception": false,
     "start_time": "2022-08-07T12:15:05.772833",
     "status": "completed"
    },
    "tags": []
   },
   "outputs": [],
   "source": [
    "# #hide_input\n",
    "# fig, ax = plt.subplots(figsize=(15, 8))\n",
    "# animator = animation.FuncAnimation(fig, draw_barchart, frames=range(g.day.values.min(), g.day.values.max()))\n",
    "# HTML(animator.to_jshtml())\n",
    "# # or use animator.to_html5_video() or animator.save() "
   ]
  },
  {
   "cell_type": "code",
   "execution_count": null,
   "id": "australian-container",
   "metadata": {
    "papermill": {
     "duration": 0.031017,
     "end_time": "2022-08-07T12:15:05.871428",
     "exception": false,
     "start_time": "2022-08-07T12:15:05.840411",
     "status": "completed"
    },
    "tags": []
   },
   "outputs": [],
   "source": []
  },
  {
   "cell_type": "code",
   "execution_count": null,
   "id": "mediterranean-pontiac",
   "metadata": {
    "papermill": {
     "duration": 0.030849,
     "end_time": "2022-08-07T12:15:05.933330",
     "exception": false,
     "start_time": "2022-08-07T12:15:05.902481",
     "status": "completed"
    },
    "tags": []
   },
   "outputs": [],
   "source": []
  },
  {
   "cell_type": "code",
   "execution_count": null,
   "id": "aging-legislature",
   "metadata": {
    "papermill": {
     "duration": 0.030909,
     "end_time": "2022-08-07T12:15:05.995436",
     "exception": false,
     "start_time": "2022-08-07T12:15:05.964527",
     "status": "completed"
    },
    "tags": []
   },
   "outputs": [],
   "source": []
  }
 ],
 "metadata": {
  "kernelspec": {
   "display_name": "Python 3",
   "language": "python",
   "name": "python3"
  },
  "language_info": {
   "codemirror_mode": {
    "name": "ipython",
    "version": 3
   },
   "file_extension": ".py",
   "mimetype": "text/x-python",
   "name": "python",
   "nbconvert_exporter": "python",
   "pygments_lexer": "ipython3",
   "version": "3.6.15"
  },
  "papermill": {
   "duration": 6.01807,
   "end_time": "2022-08-07T12:15:06.345512",
   "environment_variables": {},
   "exception": null,
   "input_path": "2020-03-21-covid19exp.ipynb",
   "output_path": "2020-03-21-covid19exp.ipynb",
   "parameters": {},
   "start_time": "2022-08-07T12:15:00.327442",
   "version": "2.0.0"
  }
 },
 "nbformat": 4,
 "nbformat_minor": 5
}