{
 "cells": [
  {
   "cell_type": "markdown",
   "id": "muslim-click",
   "metadata": {
    "papermill": {
     "duration": 0.04386,
     "end_time": "2021-09-24T00:22:49.651221",
     "exception": false,
     "start_time": "2021-09-24T00:22:49.607361",
     "status": "completed"
    },
    "tags": []
   },
   "source": [
    "# COVID-19 Case Race\n",
    "> A race chart to see rising cases around the world\n",
    "\n",
    "- author: Hargun Oberoi\n",
    "- image: images/covid-overview.png\n",
    "- hide: false\n",
    "- badges: false"
   ]
  },
  {
   "cell_type": "code",
   "execution_count": 1,
   "id": "proof-material",
   "metadata": {
    "execution": {
     "iopub.execute_input": "2021-09-24T00:22:49.739686Z",
     "iopub.status.busy": "2021-09-24T00:22:49.739043Z",
     "iopub.status.idle": "2021-09-24T00:22:50.168992Z",
     "shell.execute_reply": "2021-09-24T00:22:50.170284Z"
    },
    "papermill": {
     "duration": 0.480948,
     "end_time": "2021-09-24T00:22:50.170500",
     "exception": false,
     "start_time": "2021-09-24T00:22:49.689552",
     "status": "completed"
    },
    "tags": []
   },
   "outputs": [],
   "source": [
    "#hide\n",
    "import numpy as np\n",
    "import pandas as pd\n",
    "from jinja2 import Template\n",
    "from IPython.display import HTML"
   ]
  },
  {
   "cell_type": "code",
   "execution_count": 2,
   "id": "developed-terminology",
   "metadata": {
    "execution": {
     "iopub.execute_input": "2021-09-24T00:22:50.255857Z",
     "iopub.status.busy": "2021-09-24T00:22:50.255173Z",
     "iopub.status.idle": "2021-09-24T00:22:50.257787Z",
     "shell.execute_reply": "2021-09-24T00:22:50.256999Z"
    },
    "papermill": {
     "duration": 0.048452,
     "end_time": "2021-09-24T00:22:50.257942",
     "exception": false,
     "start_time": "2021-09-24T00:22:50.209490",
     "status": "completed"
    },
    "tags": []
   },
   "outputs": [],
   "source": [
    "#hide\n",
    "\n",
    "# FETCH\n",
    "base_url = 'https://raw.githubusercontent.com/pratapvardhan/notebooks/master/covid19/'\n",
    "paths = {\n",
    "    'mapping': base_url + 'mapping_countries.csv',\n",
    "    'overview': base_url + 'overview.tpl'\n",
    "}"
   ]
  },
  {
   "cell_type": "code",
   "execution_count": 3,
   "id": "dynamic-saver",
   "metadata": {
    "execution": {
     "iopub.execute_input": "2021-09-24T00:22:50.347875Z",
     "iopub.status.busy": "2021-09-24T00:22:50.347093Z",
     "iopub.status.idle": "2021-09-24T00:22:50.350174Z",
     "shell.execute_reply": "2021-09-24T00:22:50.350754Z"
    },
    "papermill": {
     "duration": 0.054637,
     "end_time": "2021-09-24T00:22:50.350903",
     "exception": false,
     "start_time": "2021-09-24T00:22:50.296266",
     "status": "completed"
    },
    "tags": []
   },
   "outputs": [
    {
     "data": {
      "text/plain": [
       "'https://raw.githubusercontent.com/pratapvardhan/notebooks/master/covid19/mapping_countries.csv'"
      ]
     },
     "execution_count": 3,
     "metadata": {},
     "output_type": "execute_result"
    }
   ],
   "source": [
    "#hide\n",
    "paths['mapping']"
   ]
  },
  {
   "cell_type": "code",
   "execution_count": 4,
   "id": "urban-software",
   "metadata": {
    "execution": {
     "iopub.execute_input": "2021-09-24T00:22:50.434010Z",
     "iopub.status.busy": "2021-09-24T00:22:50.433368Z",
     "iopub.status.idle": "2021-09-24T00:22:50.435883Z",
     "shell.execute_reply": "2021-09-24T00:22:50.435242Z"
    },
    "papermill": {
     "duration": 0.047178,
     "end_time": "2021-09-24T00:22:50.436010",
     "exception": false,
     "start_time": "2021-09-24T00:22:50.388832",
     "status": "completed"
    },
    "tags": []
   },
   "outputs": [],
   "source": [
    "#hide\n",
    "def get_mappings(url):\n",
    "    df = pd.read_csv(url)\n",
    "    return {\n",
    "        'df': df,\n",
    "        'replace.country': dict(df.dropna(subset=['Name']).set_index('Country')['Name']),\n",
    "        'map.continent': dict(df.set_index('Name')['Continent'])\n",
    "    }"
   ]
  },
  {
   "cell_type": "code",
   "execution_count": 5,
   "id": "intimate-machinery",
   "metadata": {
    "execution": {
     "iopub.execute_input": "2021-09-24T00:22:50.519091Z",
     "iopub.status.busy": "2021-09-24T00:22:50.518370Z",
     "iopub.status.idle": "2021-09-24T00:22:50.562417Z",
     "shell.execute_reply": "2021-09-24T00:22:50.562981Z"
    },
    "papermill": {
     "duration": 0.088994,
     "end_time": "2021-09-24T00:22:50.563148",
     "exception": false,
     "start_time": "2021-09-24T00:22:50.474154",
     "status": "completed"
    },
    "tags": []
   },
   "outputs": [],
   "source": [
    "#hide\n",
    "mapping = get_mappings(paths['mapping'])"
   ]
  },
  {
   "cell_type": "code",
   "execution_count": 6,
   "id": "certified-tactics",
   "metadata": {
    "execution": {
     "iopub.execute_input": "2021-09-24T00:22:50.646793Z",
     "iopub.status.busy": "2021-09-24T00:22:50.646043Z",
     "iopub.status.idle": "2021-09-24T00:22:50.648543Z",
     "shell.execute_reply": "2021-09-24T00:22:50.647867Z"
    },
    "papermill": {
     "duration": 0.046635,
     "end_time": "2021-09-24T00:22:50.648668",
     "exception": false,
     "start_time": "2021-09-24T00:22:50.602033",
     "status": "completed"
    },
    "tags": []
   },
   "outputs": [],
   "source": [
    "#hide\n",
    "def get_template(path):\n",
    "    from urllib.parse import urlparse\n",
    "    if bool(urlparse(path).netloc):\n",
    "        from urllib.request import urlopen\n",
    "        return urlopen(path).read().decode('utf8')\n",
    "    return open(path).read()"
   ]
  },
  {
   "cell_type": "code",
   "execution_count": 7,
   "id": "realistic-blast",
   "metadata": {
    "execution": {
     "iopub.execute_input": "2021-09-24T00:22:50.734451Z",
     "iopub.status.busy": "2021-09-24T00:22:50.733770Z",
     "iopub.status.idle": "2021-09-24T00:22:50.740029Z",
     "shell.execute_reply": "2021-09-24T00:22:50.739497Z"
    },
    "papermill": {
     "duration": 0.052497,
     "end_time": "2021-09-24T00:22:50.740220",
     "exception": false,
     "start_time": "2021-09-24T00:22:50.687723",
     "status": "completed"
    },
    "tags": []
   },
   "outputs": [],
   "source": [
    "#hide\n",
    "def get_frame(name):\n",
    "    url = (\n",
    "        'https://raw.githubusercontent.com/CSSEGISandData/COVID-19/master/csse_covid_19_data/'\n",
    "        f'csse_covid_19_time_series/time_series_covid19_{name}_global.csv')\n",
    "    df = pd.read_csv(url)\n",
    "    # rename countries\n",
    "    df['Country/Region'] = df['Country/Region'].replace(mapping['replace.country'])\n",
    "    return df"
   ]
  },
  {
   "cell_type": "code",
   "execution_count": 8,
   "id": "affiliated-characterization",
   "metadata": {
    "execution": {
     "iopub.execute_input": "2021-09-24T00:22:50.824391Z",
     "iopub.status.busy": "2021-09-24T00:22:50.823622Z",
     "iopub.status.idle": "2021-09-24T00:22:50.825585Z",
     "shell.execute_reply": "2021-09-24T00:22:50.826160Z"
    },
    "papermill": {
     "duration": 0.046767,
     "end_time": "2021-09-24T00:22:50.826295",
     "exception": false,
     "start_time": "2021-09-24T00:22:50.779528",
     "status": "completed"
    },
    "tags": []
   },
   "outputs": [],
   "source": [
    "#hide\n",
    "def get_dates(df):\n",
    "    dt_cols = df.columns[~df.columns.isin(['Province/State', 'Country/Region', 'Lat', 'Long'])]\n",
    "    LAST_DATE_I = -1\n",
    "    # sometimes last column may be empty, then go backwards\n",
    "    for i in range(-1, -len(dt_cols), -1):\n",
    "        if not df[dt_cols[i]].fillna(0).eq(0).all():\n",
    "            LAST_DATE_I = i\n",
    "            break\n",
    "    return LAST_DATE_I, dt_cols"
   ]
  },
  {
   "cell_type": "code",
   "execution_count": 9,
   "id": "recent-optimization",
   "metadata": {
    "execution": {
     "iopub.execute_input": "2021-09-24T00:22:50.915046Z",
     "iopub.status.busy": "2021-09-24T00:22:50.913821Z",
     "iopub.status.idle": "2021-09-24T00:22:51.350513Z",
     "shell.execute_reply": "2021-09-24T00:22:51.349117Z"
    },
    "papermill": {
     "duration": 0.480491,
     "end_time": "2021-09-24T00:22:51.350698",
     "exception": false,
     "start_time": "2021-09-24T00:22:50.870207",
     "status": "completed"
    },
    "tags": []
   },
   "outputs": [],
   "source": [
    "#hide\n",
    "COL_REGION = 'Country/Region'\n",
    "# Confirmed, Recovered, Deaths\n",
    "df = get_frame('confirmed')\n",
    "# dft_: timeseries, dfc_: today country agg\n",
    "dft_cases = df\n",
    "dft_deaths = get_frame('deaths')\n",
    "dft_recovered = get_frame('recovered')\n",
    "LAST_DATE_I, dt_cols = get_dates(df)"
   ]
  },
  {
   "cell_type": "code",
   "execution_count": 10,
   "id": "absolute-copper",
   "metadata": {
    "execution": {
     "iopub.execute_input": "2021-09-24T00:22:51.439551Z",
     "iopub.status.busy": "2021-09-24T00:22:51.438848Z",
     "iopub.status.idle": "2021-09-24T00:22:51.440957Z",
     "shell.execute_reply": "2021-09-24T00:22:51.441653Z"
    },
    "papermill": {
     "duration": 0.050758,
     "end_time": "2021-09-24T00:22:51.441839",
     "exception": false,
     "start_time": "2021-09-24T00:22:51.391081",
     "status": "completed"
    },
    "tags": []
   },
   "outputs": [],
   "source": [
    "#hide\n",
    "LAST_DATE_I, dt_cols = get_dates(df)\n",
    "dt_today =dt_cols[LAST_DATE_I]\n",
    "# dt_5day = dt_cols[LAST_DATE_I - 5]\n",
    "dt_yday = dt_cols[LAST_DATE_I - 1]"
   ]
  },
  {
   "cell_type": "code",
   "execution_count": 11,
   "id": "restricted-sheriff",
   "metadata": {
    "execution": {
     "iopub.execute_input": "2021-09-24T00:22:51.530918Z",
     "iopub.status.busy": "2021-09-24T00:22:51.530126Z",
     "iopub.status.idle": "2021-09-24T00:22:51.538470Z",
     "shell.execute_reply": "2021-09-24T00:22:51.537832Z"
    },
    "papermill": {
     "duration": 0.055592,
     "end_time": "2021-09-24T00:22:51.538599",
     "exception": false,
     "start_time": "2021-09-24T00:22:51.483007",
     "status": "completed"
    },
    "tags": []
   },
   "outputs": [],
   "source": [
    "#hide\n",
    "dfc_cases = dft_cases.groupby(COL_REGION)[dt_today].sum()\n",
    "dfc_deaths = dft_deaths.groupby(COL_REGION)[dt_today].sum()\n",
    "# dfp_cases = dft_cases.groupby(COL_REGION)[dt_5day].sum()\n",
    "# dfp_deaths = dft_deaths.groupby(COL_REGION)[dt_5day].sum()\n",
    "dfp_cases = dft_cases.groupby(COL_REGION)[dt_yday].sum()\n",
    "dfp_deaths = dft_deaths.groupby(COL_REGION)[dt_yday].sum()"
   ]
  },
  {
   "cell_type": "code",
   "execution_count": 12,
   "id": "deluxe-hepatitis",
   "metadata": {
    "execution": {
     "iopub.execute_input": "2021-09-24T00:22:51.625603Z",
     "iopub.status.busy": "2021-09-24T00:22:51.624876Z",
     "iopub.status.idle": "2021-09-24T00:22:51.630164Z",
     "shell.execute_reply": "2021-09-24T00:22:51.630719Z"
    },
    "papermill": {
     "duration": 0.050819,
     "end_time": "2021-09-24T00:22:51.630919",
     "exception": false,
     "start_time": "2021-09-24T00:22:51.580100",
     "status": "completed"
    },
    "tags": []
   },
   "outputs": [],
   "source": [
    "#hide\n",
    "df_table = (pd.DataFrame(dict(Cases = dfc_cases, Deaths = dfc_deaths, PCases = dfp_cases, PDeaths = dfp_deaths))\n",
    "            .sort_values(by = ['Cases','Deaths'], ascending = [False, False])\n",
    "            .reset_index())"
   ]
  },
  {
   "cell_type": "code",
   "execution_count": 13,
   "id": "educational-chancellor",
   "metadata": {
    "execution": {
     "iopub.execute_input": "2021-09-24T00:22:51.730491Z",
     "iopub.status.busy": "2021-09-24T00:22:51.729847Z",
     "iopub.status.idle": "2021-09-24T00:22:51.739018Z",
     "shell.execute_reply": "2021-09-24T00:22:51.739619Z"
    },
    "papermill": {
     "duration": 0.070591,
     "end_time": "2021-09-24T00:22:51.739772",
     "exception": false,
     "start_time": "2021-09-24T00:22:51.669181",
     "status": "completed"
    },
    "tags": []
   },
   "outputs": [
    {
     "data": {
      "text/html": [
       "<div>\n",
       "<style scoped>\n",
       "    .dataframe tbody tr th:only-of-type {\n",
       "        vertical-align: middle;\n",
       "    }\n",
       "\n",
       "    .dataframe tbody tr th {\n",
       "        vertical-align: top;\n",
       "    }\n",
       "\n",
       "    .dataframe thead th {\n",
       "        text-align: right;\n",
       "    }\n",
       "</style>\n",
       "<table border=\"1\" class=\"dataframe\">\n",
       "  <thead>\n",
       "    <tr style=\"text-align: right;\">\n",
       "      <th></th>\n",
       "      <th>Country/Region</th>\n",
       "      <th>Cases</th>\n",
       "      <th>Deaths</th>\n",
       "      <th>PCases</th>\n",
       "      <th>PDeaths</th>\n",
       "      <th>Cases (+)</th>\n",
       "      <th>Deaths (+)</th>\n",
       "      <th>Fatality Rate</th>\n",
       "      <th>Continent</th>\n",
       "    </tr>\n",
       "  </thead>\n",
       "  <tbody>\n",
       "    <tr>\n",
       "      <th>0</th>\n",
       "      <td>US</td>\n",
       "      <td>42543510</td>\n",
       "      <td>681192</td>\n",
       "      <td>42410607</td>\n",
       "      <td>678407</td>\n",
       "      <td>132903</td>\n",
       "      <td>2785</td>\n",
       "      <td>1.60</td>\n",
       "      <td>North America</td>\n",
       "    </tr>\n",
       "    <tr>\n",
       "      <th>1</th>\n",
       "      <td>India</td>\n",
       "      <td>33563421</td>\n",
       "      <td>446050</td>\n",
       "      <td>33531498</td>\n",
       "      <td>445768</td>\n",
       "      <td>31923</td>\n",
       "      <td>282</td>\n",
       "      <td>1.33</td>\n",
       "      <td>Asia</td>\n",
       "    </tr>\n",
       "    <tr>\n",
       "      <th>2</th>\n",
       "      <td>Brazil</td>\n",
       "      <td>21283567</td>\n",
       "      <td>592316</td>\n",
       "      <td>21247094</td>\n",
       "      <td>591440</td>\n",
       "      <td>36473</td>\n",
       "      <td>876</td>\n",
       "      <td>2.78</td>\n",
       "      <td>South America</td>\n",
       "    </tr>\n",
       "    <tr>\n",
       "      <th>3</th>\n",
       "      <td>United Kingdom</td>\n",
       "      <td>7565751</td>\n",
       "      <td>135961</td>\n",
       "      <td>7531922</td>\n",
       "      <td>135793</td>\n",
       "      <td>33829</td>\n",
       "      <td>168</td>\n",
       "      <td>1.80</td>\n",
       "      <td>Europe</td>\n",
       "    </tr>\n",
       "    <tr>\n",
       "      <th>4</th>\n",
       "      <td>Russia</td>\n",
       "      <td>7227549</td>\n",
       "      <td>197032</td>\n",
       "      <td>7208241</td>\n",
       "      <td>196235</td>\n",
       "      <td>19308</td>\n",
       "      <td>797</td>\n",
       "      <td>2.73</td>\n",
       "      <td>Europe</td>\n",
       "    </tr>\n",
       "  </tbody>\n",
       "</table>\n",
       "</div>"
      ],
      "text/plain": [
       "   Country/Region     Cases  Deaths    PCases  PDeaths  Cases (+)  Deaths (+)  \\\n",
       "0              US  42543510  681192  42410607   678407     132903        2785   \n",
       "1           India  33563421  446050  33531498   445768      31923         282   \n",
       "2          Brazil  21283567  592316  21247094   591440      36473         876   \n",
       "3  United Kingdom   7565751  135961   7531922   135793      33829         168   \n",
       "4          Russia   7227549  197032   7208241   196235      19308         797   \n",
       "\n",
       "   Fatality Rate      Continent  \n",
       "0           1.60  North America  \n",
       "1           1.33           Asia  \n",
       "2           2.78  South America  \n",
       "3           1.80         Europe  \n",
       "4           2.73         Europe  "
      ]
     },
     "execution_count": 13,
     "metadata": {},
     "output_type": "execute_result"
    }
   ],
   "source": [
    "#hide\n",
    "for c in 'Cases, Deaths'.split(', '):\n",
    "    df_table[f'{c} (+)'] = (df_table[c] - df_table[f'P{c}']).clip(0)\n",
    "    #Clip ça veut dire, les chiffres negatif sont interdit\n",
    "df_table['Fatality Rate'] = (100* df_table['Deaths']/ df_table['Cases']).round(2)\n",
    "df_table['Continent'] = df_table['Country/Region'].map(mapping['map.continent'])\n",
    "df_table.head(5)"
   ]
  },
  {
   "cell_type": "code",
   "execution_count": 14,
   "id": "aboriginal-bulgaria",
   "metadata": {
    "execution": {
     "iopub.execute_input": "2021-09-24T00:22:51.832129Z",
     "iopub.status.busy": "2021-09-24T00:22:51.827815Z",
     "iopub.status.idle": "2021-09-24T00:22:51.832914Z",
     "shell.execute_reply": "2021-09-24T00:22:51.833432Z"
    },
    "papermill": {
     "duration": 0.051464,
     "end_time": "2021-09-24T00:22:51.833574",
     "exception": false,
     "start_time": "2021-09-24T00:22:51.782110",
     "status": "completed"
    },
    "tags": []
   },
   "outputs": [],
   "source": [
    "#hide\n",
    "#delete problematic countries from table\n",
    "df_table = df_table[~df_table['Country/Region'].isin(['Cape Verde', 'Cruise Ship', 'Kosovo'])]"
   ]
  },
  {
   "cell_type": "code",
   "execution_count": 15,
   "id": "fantastic-effect",
   "metadata": {
    "execution": {
     "iopub.execute_input": "2021-09-24T00:22:51.939616Z",
     "iopub.status.busy": "2021-09-24T00:22:51.938912Z",
     "iopub.status.idle": "2021-09-24T00:22:51.963139Z",
     "shell.execute_reply": "2021-09-24T00:22:51.962468Z"
    },
    "papermill": {
     "duration": 0.077405,
     "end_time": "2021-09-24T00:22:51.963270",
     "exception": false,
     "start_time": "2021-09-24T00:22:51.885865",
     "status": "completed"
    },
    "tags": []
   },
   "outputs": [
    {
     "data": {
      "text/html": [
       "<div>\n",
       "<style scoped>\n",
       "    .dataframe tbody tr th:only-of-type {\n",
       "        vertical-align: middle;\n",
       "    }\n",
       "\n",
       "    .dataframe tbody tr th {\n",
       "        vertical-align: top;\n",
       "    }\n",
       "\n",
       "    .dataframe thead th {\n",
       "        text-align: right;\n",
       "    }\n",
       "</style>\n",
       "<table border=\"1\" class=\"dataframe\">\n",
       "  <thead>\n",
       "    <tr style=\"text-align: right;\">\n",
       "      <th></th>\n",
       "      <th>Country/Region</th>\n",
       "      <th>Cases</th>\n",
       "      <th>Deaths</th>\n",
       "      <th>PCases</th>\n",
       "      <th>PDeaths</th>\n",
       "      <th>Cases (+)</th>\n",
       "      <th>Deaths (+)</th>\n",
       "      <th>Fatality Rate</th>\n",
       "      <th>Continent</th>\n",
       "    </tr>\n",
       "  </thead>\n",
       "  <tbody>\n",
       "    <tr>\n",
       "      <th>0</th>\n",
       "      <td>US</td>\n",
       "      <td>42543510</td>\n",
       "      <td>681192</td>\n",
       "      <td>42410607</td>\n",
       "      <td>678407</td>\n",
       "      <td>132903</td>\n",
       "      <td>2785</td>\n",
       "      <td>1.6</td>\n",
       "      <td>North America</td>\n",
       "    </tr>\n",
       "    <tr>\n",
       "      <th>1</th>\n",
       "      <td>India</td>\n",
       "      <td>33563421</td>\n",
       "      <td>446050</td>\n",
       "      <td>33531498</td>\n",
       "      <td>445768</td>\n",
       "      <td>31923</td>\n",
       "      <td>282</td>\n",
       "      <td>1.3</td>\n",
       "      <td>Asia</td>\n",
       "    </tr>\n",
       "    <tr>\n",
       "      <th>2</th>\n",
       "      <td>Brazil</td>\n",
       "      <td>21283567</td>\n",
       "      <td>592316</td>\n",
       "      <td>21247094</td>\n",
       "      <td>591440</td>\n",
       "      <td>36473</td>\n",
       "      <td>876</td>\n",
       "      <td>2.8</td>\n",
       "      <td>South America</td>\n",
       "    </tr>\n",
       "    <tr>\n",
       "      <th>3</th>\n",
       "      <td>United Kingdom</td>\n",
       "      <td>7565751</td>\n",
       "      <td>135961</td>\n",
       "      <td>7531922</td>\n",
       "      <td>135793</td>\n",
       "      <td>33829</td>\n",
       "      <td>168</td>\n",
       "      <td>1.8</td>\n",
       "      <td>Europe</td>\n",
       "    </tr>\n",
       "    <tr>\n",
       "      <th>4</th>\n",
       "      <td>Russia</td>\n",
       "      <td>7227549</td>\n",
       "      <td>197032</td>\n",
       "      <td>7208241</td>\n",
       "      <td>196235</td>\n",
       "      <td>19308</td>\n",
       "      <td>797</td>\n",
       "      <td>2.7</td>\n",
       "      <td>Europe</td>\n",
       "    </tr>\n",
       "  </tbody>\n",
       "</table>\n",
       "</div>"
      ],
      "text/plain": [
       "   Country/Region     Cases  Deaths    PCases  PDeaths  Cases (+)  Deaths (+)  \\\n",
       "0              US  42543510  681192  42410607   678407     132903        2785   \n",
       "1           India  33563421  446050  33531498   445768      31923         282   \n",
       "2          Brazil  21283567  592316  21247094   591440      36473         876   \n",
       "3  United Kingdom   7565751  135961   7531922   135793      33829         168   \n",
       "4          Russia   7227549  197032   7208241   196235      19308         797   \n",
       "\n",
       "   Fatality Rate      Continent  \n",
       "0            1.6  North America  \n",
       "1            1.3           Asia  \n",
       "2            2.8  South America  \n",
       "3            1.8         Europe  \n",
       "4            2.7         Europe  "
      ]
     },
     "execution_count": 15,
     "metadata": {},
     "output_type": "execute_result"
    }
   ],
   "source": [
    "#hide\n",
    "df_table = (pd.DataFrame(dict(Cases=dfc_cases, Deaths=dfc_deaths, PCases=dfp_cases, PDeaths=dfp_deaths))\n",
    "             .sort_values(by=['Cases', 'Deaths'], ascending=[False, False])\n",
    "             .reset_index())\n",
    "df_table.rename(columns={'index': 'Country/Region'}, inplace=True)\n",
    "for c in 'Cases, Deaths'.split(', '):\n",
    "    df_table[f'{c} (+)'] = (df_table[c] - df_table[f'P{c}']).clip(0)  # DATA BUG\n",
    "df_table['Fatality Rate'] = (100 * df_table['Deaths'] / df_table['Cases']).round(1)\n",
    "df_table['Continent'] = df_table['Country/Region'].map(mapping['map.continent'])\n",
    "df_table.head(5)"
   ]
  },
  {
   "cell_type": "code",
   "execution_count": 16,
   "id": "fewer-occasion",
   "metadata": {
    "execution": {
     "iopub.execute_input": "2021-09-24T00:22:52.051295Z",
     "iopub.status.busy": "2021-09-24T00:22:52.050544Z",
     "iopub.status.idle": "2021-09-24T00:22:52.054542Z",
     "shell.execute_reply": "2021-09-24T00:22:52.053631Z"
    },
    "papermill": {
     "duration": 0.04941,
     "end_time": "2021-09-24T00:22:52.054753",
     "exception": false,
     "start_time": "2021-09-24T00:22:52.005343",
     "status": "completed"
    },
    "tags": []
   },
   "outputs": [],
   "source": [
    "#hide\n",
    "#delete problematic countries from table\n",
    "df_table = df_table[~df_table['Country/Region'].isin(['Cape Verde', 'Cruise Ship', 'Kosovo'])]"
   ]
  },
  {
   "cell_type": "code",
   "execution_count": 17,
   "id": "related-center",
   "metadata": {
    "execution": {
     "iopub.execute_input": "2021-09-24T00:22:52.163726Z",
     "iopub.status.busy": "2021-09-24T00:22:52.163030Z",
     "iopub.status.idle": "2021-09-24T00:22:52.165288Z",
     "shell.execute_reply": "2021-09-24T00:22:52.164661Z"
    },
    "papermill": {
     "duration": 0.067533,
     "end_time": "2021-09-24T00:22:52.165440",
     "exception": false,
     "start_time": "2021-09-24T00:22:52.097907",
     "status": "completed"
    },
    "tags": []
   },
   "outputs": [],
   "source": [
    "#hide\n",
    "metrics = [df_table.columns[index] for index in [1,2,5,6]]\n",
    "# s_china = df_table[df_table['Country/Region'].eq('China')][metrics].sum().add_prefix('China ')\n",
    "s_us = df_table[df_table['Country/Region'].eq('US')][metrics].sum().add_prefix('US ')\n",
    "s_eu = df_table[df_table['Continent'].eq('Europe')][metrics].sum().add_prefix('EU ')\n",
    "s_ind = df_table[df_table['Country/Region'].eq('India')][metrics].sum().add_prefix('India ')\n",
    "summary = {'updated': pd.to_datetime(dt_today), 'since': pd.to_datetime(dt_yday)}\n",
    "summary = {'updated': pd.to_datetime(dt_today), 'since': pd.to_datetime(dt_yday)}\n",
    "summary = {**summary, **df_table[metrics].sum(), **s_ind, **s_us, **s_eu}"
   ]
  },
  {
   "cell_type": "code",
   "execution_count": 18,
   "id": "engaging-syndrome",
   "metadata": {
    "execution": {
     "iopub.execute_input": "2021-09-24T00:22:52.253295Z",
     "iopub.status.busy": "2021-09-24T00:22:52.252647Z",
     "iopub.status.idle": "2021-09-24T00:22:52.266399Z",
     "shell.execute_reply": "2021-09-24T00:22:52.266988Z"
    },
    "papermill": {
     "duration": 0.060143,
     "end_time": "2021-09-24T00:22:52.267151",
     "exception": false,
     "start_time": "2021-09-24T00:22:52.207008",
     "status": "completed"
    },
    "tags": []
   },
   "outputs": [],
   "source": [
    "#hide\n",
    "dft_ct_new_cases = dft_cases.groupby(COL_REGION)[dt_cols].sum().diff(axis=1).fillna(0).astype(int)"
   ]
  },
  {
   "cell_type": "code",
   "execution_count": 19,
   "id": "neutral-assignment",
   "metadata": {
    "execution": {
     "iopub.execute_input": "2021-09-24T00:22:52.353219Z",
     "iopub.status.busy": "2021-09-24T00:22:52.352450Z",
     "iopub.status.idle": "2021-09-24T00:22:52.356373Z",
     "shell.execute_reply": "2021-09-24T00:22:52.356897Z"
    },
    "papermill": {
     "duration": 0.050655,
     "end_time": "2021-09-24T00:22:52.357127",
     "exception": false,
     "start_time": "2021-09-24T00:22:52.306472",
     "status": "completed"
    },
    "tags": []
   },
   "outputs": [],
   "source": [
    "#hide\n",
    "everydaycases = dft_ct_new_cases.cumsum(axis=1)"
   ]
  },
  {
   "cell_type": "code",
   "execution_count": 20,
   "id": "parliamentary-calgary",
   "metadata": {
    "execution": {
     "iopub.execute_input": "2021-09-24T00:22:52.443315Z",
     "iopub.status.busy": "2021-09-24T00:22:52.442450Z",
     "iopub.status.idle": "2021-09-24T00:22:53.110606Z",
     "shell.execute_reply": "2021-09-24T00:22:53.111350Z"
    },
    "papermill": {
     "duration": 0.713886,
     "end_time": "2021-09-24T00:22:53.111520",
     "exception": false,
     "start_time": "2021-09-24T00:22:52.397634",
     "status": "completed"
    },
    "tags": []
   },
   "outputs": [],
   "source": [
    "#hide\n",
    "import pandas as pd\n",
    "import matplotlib.pyplot as plt\n",
    "import matplotlib.ticker as ticker\n",
    "import matplotlib.animation as animation\n",
    "from IPython.display import HTML"
   ]
  },
  {
   "cell_type": "code",
   "execution_count": 21,
   "id": "lasting-extraction",
   "metadata": {
    "execution": {
     "iopub.execute_input": "2021-09-24T00:22:53.199101Z",
     "iopub.status.busy": "2021-09-24T00:22:53.198444Z",
     "iopub.status.idle": "2021-09-24T00:22:53.204530Z",
     "shell.execute_reply": "2021-09-24T00:22:53.205218Z"
    },
    "papermill": {
     "duration": 0.054287,
     "end_time": "2021-09-24T00:22:53.205365",
     "exception": false,
     "start_time": "2021-09-24T00:22:53.151078",
     "status": "completed"
    },
    "tags": []
   },
   "outputs": [],
   "source": [
    "#hide\n",
    "t = everydaycases.stack()"
   ]
  },
  {
   "cell_type": "code",
   "execution_count": 22,
   "id": "premier-sleeve",
   "metadata": {
    "execution": {
     "iopub.execute_input": "2021-09-24T00:22:53.294142Z",
     "iopub.status.busy": "2021-09-24T00:22:53.293389Z",
     "iopub.status.idle": "2021-09-24T00:22:53.303232Z",
     "shell.execute_reply": "2021-09-24T00:22:53.303781Z"
    },
    "papermill": {
     "duration": 0.060326,
     "end_time": "2021-09-24T00:22:53.303951",
     "exception": false,
     "start_time": "2021-09-24T00:22:53.243625",
     "status": "completed"
    },
    "tags": []
   },
   "outputs": [],
   "source": [
    "#hide\n",
    "g = t.reset_index(['Country/Region'])"
   ]
  },
  {
   "cell_type": "code",
   "execution_count": 23,
   "id": "distributed-pittsburgh",
   "metadata": {
    "execution": {
     "iopub.execute_input": "2021-09-24T00:22:53.393779Z",
     "iopub.status.busy": "2021-09-24T00:22:53.393122Z",
     "iopub.status.idle": "2021-09-24T00:22:53.397649Z",
     "shell.execute_reply": "2021-09-24T00:22:53.396869Z"
    },
    "papermill": {
     "duration": 0.052525,
     "end_time": "2021-09-24T00:22:53.397795",
     "exception": false,
     "start_time": "2021-09-24T00:22:53.345270",
     "status": "completed"
    },
    "tags": []
   },
   "outputs": [],
   "source": [
    "#hide\n",
    "g.index.name = 'date'"
   ]
  },
  {
   "cell_type": "code",
   "execution_count": 24,
   "id": "naked-donor",
   "metadata": {
    "execution": {
     "iopub.execute_input": "2021-09-24T00:22:53.483328Z",
     "iopub.status.busy": "2021-09-24T00:22:53.481673Z",
     "iopub.status.idle": "2021-09-24T00:22:53.484126Z",
     "shell.execute_reply": "2021-09-24T00:22:53.484709Z"
    },
    "papermill": {
     "duration": 0.047147,
     "end_time": "2021-09-24T00:22:53.484878",
     "exception": false,
     "start_time": "2021-09-24T00:22:53.437731",
     "status": "completed"
    },
    "tags": []
   },
   "outputs": [],
   "source": [
    "# #hide\n",
    "# g = g.reset_index(['date'])"
   ]
  },
  {
   "cell_type": "code",
   "execution_count": 25,
   "id": "incomplete-mustang",
   "metadata": {
    "execution": {
     "iopub.execute_input": "2021-09-24T00:22:53.574591Z",
     "iopub.status.busy": "2021-09-24T00:22:53.573129Z",
     "iopub.status.idle": "2021-09-24T00:22:53.575368Z",
     "shell.execute_reply": "2021-09-24T00:22:53.575873Z"
    },
    "papermill": {
     "duration": 0.051317,
     "end_time": "2021-09-24T00:22:53.576035",
     "exception": false,
     "start_time": "2021-09-24T00:22:53.524718",
     "status": "completed"
    },
    "tags": []
   },
   "outputs": [],
   "source": [
    "#hide\n",
    "# g.head()"
   ]
  },
  {
   "cell_type": "code",
   "execution_count": 26,
   "id": "specific-kruger",
   "metadata": {
    "execution": {
     "iopub.execute_input": "2021-09-24T00:22:53.672295Z",
     "iopub.status.busy": "2021-09-24T00:22:53.671577Z",
     "iopub.status.idle": "2021-09-24T00:22:53.674285Z",
     "shell.execute_reply": "2021-09-24T00:22:53.673657Z"
    },
    "papermill": {
     "duration": 0.048759,
     "end_time": "2021-09-24T00:22:53.674435",
     "exception": false,
     "start_time": "2021-09-24T00:22:53.625676",
     "status": "completed"
    },
    "tags": []
   },
   "outputs": [],
   "source": [
    "#hide\n",
    "# g.columns = ['date','country','cases']"
   ]
  },
  {
   "cell_type": "code",
   "execution_count": 27,
   "id": "tender-conversion",
   "metadata": {
    "execution": {
     "iopub.execute_input": "2021-09-24T00:22:53.765636Z",
     "iopub.status.busy": "2021-09-24T00:22:53.764857Z",
     "iopub.status.idle": "2021-09-24T00:22:53.767620Z",
     "shell.execute_reply": "2021-09-24T00:22:53.766899Z"
    },
    "papermill": {
     "duration": 0.047653,
     "end_time": "2021-09-24T00:22:53.767746",
     "exception": false,
     "start_time": "2021-09-24T00:22:53.720093",
     "status": "completed"
    },
    "tags": []
   },
   "outputs": [],
   "source": [
    "#hide\n",
    "# g['continent'] = g.country"
   ]
  },
  {
   "cell_type": "code",
   "execution_count": 28,
   "id": "substantial-wilderness",
   "metadata": {
    "execution": {
     "iopub.execute_input": "2021-09-24T00:22:53.853980Z",
     "iopub.status.busy": "2021-09-24T00:22:53.852614Z",
     "iopub.status.idle": "2021-09-24T00:22:53.856691Z",
     "shell.execute_reply": "2021-09-24T00:22:53.856132Z"
    },
    "papermill": {
     "duration": 0.049615,
     "end_time": "2021-09-24T00:22:53.856812",
     "exception": false,
     "start_time": "2021-09-24T00:22:53.807197",
     "status": "completed"
    },
    "tags": []
   },
   "outputs": [],
   "source": [
    "#hide\n",
    "# cols = list(g.columns.values)"
   ]
  },
  {
   "cell_type": "code",
   "execution_count": 29,
   "id": "solved-farming",
   "metadata": {
    "execution": {
     "iopub.execute_input": "2021-09-24T00:22:53.950833Z",
     "iopub.status.busy": "2021-09-24T00:22:53.950114Z",
     "iopub.status.idle": "2021-09-24T00:22:53.952617Z",
     "shell.execute_reply": "2021-09-24T00:22:53.951904Z"
    },
    "papermill": {
     "duration": 0.056206,
     "end_time": "2021-09-24T00:22:53.952747",
     "exception": false,
     "start_time": "2021-09-24T00:22:53.896541",
     "status": "completed"
    },
    "tags": []
   },
   "outputs": [],
   "source": [
    "#hide\n",
    "# cols.insert(0, cols.pop())"
   ]
  },
  {
   "cell_type": "code",
   "execution_count": 30,
   "id": "executed-adoption",
   "metadata": {
    "execution": {
     "iopub.execute_input": "2021-09-24T00:22:54.045306Z",
     "iopub.status.busy": "2021-09-24T00:22:54.044516Z",
     "iopub.status.idle": "2021-09-24T00:22:54.046381Z",
     "shell.execute_reply": "2021-09-24T00:22:54.046986Z"
    },
    "papermill": {
     "duration": 0.047793,
     "end_time": "2021-09-24T00:22:54.047138",
     "exception": false,
     "start_time": "2021-09-24T00:22:53.999345",
     "status": "completed"
    },
    "tags": []
   },
   "outputs": [],
   "source": [
    "#hide\n",
    "# g = g[cols]"
   ]
  },
  {
   "cell_type": "code",
   "execution_count": 31,
   "id": "subject-dublin",
   "metadata": {
    "execution": {
     "iopub.execute_input": "2021-09-24T00:22:54.133034Z",
     "iopub.status.busy": "2021-09-24T00:22:54.132346Z",
     "iopub.status.idle": "2021-09-24T00:22:54.134981Z",
     "shell.execute_reply": "2021-09-24T00:22:54.139324Z"
    },
    "papermill": {
     "duration": 0.051863,
     "end_time": "2021-09-24T00:22:54.139498",
     "exception": false,
     "start_time": "2021-09-24T00:22:54.087635",
     "status": "completed"
    },
    "tags": []
   },
   "outputs": [],
   "source": [
    "#hide\n",
    "# g['continent'] = g['continent'].map(mapping['map.continent'])"
   ]
  },
  {
   "cell_type": "code",
   "execution_count": 32,
   "id": "freelance-scout",
   "metadata": {
    "execution": {
     "iopub.execute_input": "2021-09-24T00:22:54.226963Z",
     "iopub.status.busy": "2021-09-24T00:22:54.226197Z",
     "iopub.status.idle": "2021-09-24T00:22:54.228316Z",
     "shell.execute_reply": "2021-09-24T00:22:54.228910Z"
    },
    "papermill": {
     "duration": 0.048908,
     "end_time": "2021-09-24T00:22:54.229089",
     "exception": false,
     "start_time": "2021-09-24T00:22:54.180181",
     "status": "completed"
    },
    "tags": []
   },
   "outputs": [],
   "source": [
    "#hide\n",
    "# g.head()"
   ]
  },
  {
   "cell_type": "code",
   "execution_count": 33,
   "id": "limited-engine",
   "metadata": {
    "execution": {
     "iopub.execute_input": "2021-09-24T00:22:54.313994Z",
     "iopub.status.busy": "2021-09-24T00:22:54.313190Z",
     "iopub.status.idle": "2021-09-24T00:22:54.316141Z",
     "shell.execute_reply": "2021-09-24T00:22:54.315592Z"
    },
    "papermill": {
     "duration": 0.047282,
     "end_time": "2021-09-24T00:22:54.316272",
     "exception": false,
     "start_time": "2021-09-24T00:22:54.268990",
     "status": "completed"
    },
    "tags": []
   },
   "outputs": [],
   "source": [
    "# hide\n",
    "# g['date'] = g['date'].astype('datetime64[ns]')"
   ]
  },
  {
   "cell_type": "code",
   "execution_count": 34,
   "id": "sophisticated-supervisor",
   "metadata": {
    "execution": {
     "iopub.execute_input": "2021-09-24T00:22:54.406120Z",
     "iopub.status.busy": "2021-09-24T00:22:54.405403Z",
     "iopub.status.idle": "2021-09-24T00:22:54.407217Z",
     "shell.execute_reply": "2021-09-24T00:22:54.407783Z"
    },
    "papermill": {
     "duration": 0.050332,
     "end_time": "2021-09-24T00:22:54.407945",
     "exception": false,
     "start_time": "2021-09-24T00:22:54.357613",
     "status": "completed"
    },
    "tags": []
   },
   "outputs": [],
   "source": [
    "#hide\n",
    "# g['date'] = g.date.dt.dayofyear"
   ]
  },
  {
   "cell_type": "code",
   "execution_count": 35,
   "id": "inside-dubai",
   "metadata": {
    "execution": {
     "iopub.execute_input": "2021-09-24T00:22:54.492517Z",
     "iopub.status.busy": "2021-09-24T00:22:54.491732Z",
     "iopub.status.idle": "2021-09-24T00:22:54.494560Z",
     "shell.execute_reply": "2021-09-24T00:22:54.493814Z"
    },
    "papermill": {
     "duration": 0.047448,
     "end_time": "2021-09-24T00:22:54.494737",
     "exception": false,
     "start_time": "2021-09-24T00:22:54.447289",
     "status": "completed"
    },
    "tags": []
   },
   "outputs": [],
   "source": [
    "#hide\n",
    "# g = g.rename(columns= {'continent':'group','country':'name','cases':'value'})"
   ]
  },
  {
   "cell_type": "code",
   "execution_count": 36,
   "id": "fleet-motorcycle",
   "metadata": {
    "execution": {
     "iopub.execute_input": "2021-09-24T00:22:54.579326Z",
     "iopub.status.busy": "2021-09-24T00:22:54.578579Z",
     "iopub.status.idle": "2021-09-24T00:22:54.581539Z",
     "shell.execute_reply": "2021-09-24T00:22:54.581009Z"
    },
    "papermill": {
     "duration": 0.045954,
     "end_time": "2021-09-24T00:22:54.581674",
     "exception": false,
     "start_time": "2021-09-24T00:22:54.535720",
     "status": "completed"
    },
    "tags": []
   },
   "outputs": [],
   "source": [
    "#hide\n",
    "# cols = ['name','group','day','value']"
   ]
  },
  {
   "cell_type": "code",
   "execution_count": 37,
   "id": "continued-sleeping",
   "metadata": {
    "execution": {
     "iopub.execute_input": "2021-09-24T00:22:54.666256Z",
     "iopub.status.busy": "2021-09-24T00:22:54.665612Z",
     "iopub.status.idle": "2021-09-24T00:22:54.667753Z",
     "shell.execute_reply": "2021-09-24T00:22:54.668244Z"
    },
    "papermill": {
     "duration": 0.045132,
     "end_time": "2021-09-24T00:22:54.668381",
     "exception": false,
     "start_time": "2021-09-24T00:22:54.623249",
     "status": "completed"
    },
    "tags": []
   },
   "outputs": [],
   "source": [
    "#hide\n",
    "# g.rename(columns= {'date':'day'},inplace = True)"
   ]
  },
  {
   "cell_type": "code",
   "execution_count": 38,
   "id": "major-fight",
   "metadata": {
    "execution": {
     "iopub.execute_input": "2021-09-24T00:22:54.752724Z",
     "iopub.status.busy": "2021-09-24T00:22:54.752112Z",
     "iopub.status.idle": "2021-09-24T00:22:54.754708Z",
     "shell.execute_reply": "2021-09-24T00:22:54.755396Z"
    },
    "papermill": {
     "duration": 0.046756,
     "end_time": "2021-09-24T00:22:54.755562",
     "exception": false,
     "start_time": "2021-09-24T00:22:54.708806",
     "status": "completed"
    },
    "tags": []
   },
   "outputs": [],
   "source": [
    "#hide\n",
    "# g = g[cols]"
   ]
  },
  {
   "cell_type": "code",
   "execution_count": 39,
   "id": "structured-mobile",
   "metadata": {
    "execution": {
     "iopub.execute_input": "2021-09-24T00:22:54.843056Z",
     "iopub.status.busy": "2021-09-24T00:22:54.842369Z",
     "iopub.status.idle": "2021-09-24T00:22:54.844347Z",
     "shell.execute_reply": "2021-09-24T00:22:54.844887Z"
    },
    "papermill": {
     "duration": 0.052138,
     "end_time": "2021-09-24T00:22:54.845096",
     "exception": false,
     "start_time": "2021-09-24T00:22:54.792958",
     "status": "completed"
    },
    "tags": []
   },
   "outputs": [],
   "source": [
    "# #hide\n",
    "# g = g[g.group.notna()]"
   ]
  },
  {
   "cell_type": "code",
   "execution_count": 40,
   "id": "determined-closing",
   "metadata": {
    "execution": {
     "iopub.execute_input": "2021-09-24T00:22:54.929203Z",
     "iopub.status.busy": "2021-09-24T00:22:54.928552Z",
     "iopub.status.idle": "2021-09-24T00:22:54.931181Z",
     "shell.execute_reply": "2021-09-24T00:22:54.930506Z"
    },
    "papermill": {
     "duration": 0.046127,
     "end_time": "2021-09-24T00:22:54.931324",
     "exception": false,
     "start_time": "2021-09-24T00:22:54.885197",
     "status": "completed"
    },
    "tags": []
   },
   "outputs": [],
   "source": [
    "# #hide\n",
    "# colors = dict(zip(\n",
    "#     [\"Oceania\", \"Europe\", \"Asia\", \"South America\", \"Middle East\", \"North America\", \"Africa\"],\n",
    "#     [\"#adb0ff\", \"#ffb3ff\", \"#90d595\", \"#e48381\", \"#aafbff\", \"#f7bb5f\", \"#eafb50\"]\n",
    "# ))\n",
    "# group_lk = g.set_index('name')['group'].to_dict()"
   ]
  },
  {
   "cell_type": "code",
   "execution_count": null,
   "id": "gross-drinking",
   "metadata": {
    "papermill": {
     "duration": 0.03864,
     "end_time": "2021-09-24T00:22:55.006231",
     "exception": false,
     "start_time": "2021-09-24T00:22:54.967591",
     "status": "completed"
    },
    "tags": []
   },
   "outputs": [],
   "source": []
  },
  {
   "cell_type": "code",
   "execution_count": 41,
   "id": "subject-macintosh",
   "metadata": {
    "execution": {
     "iopub.execute_input": "2021-09-24T00:22:55.092383Z",
     "iopub.status.busy": "2021-09-24T00:22:55.091717Z",
     "iopub.status.idle": "2021-09-24T00:22:55.094216Z",
     "shell.execute_reply": "2021-09-24T00:22:55.093581Z"
    },
    "papermill": {
     "duration": 0.047654,
     "end_time": "2021-09-24T00:22:55.094346",
     "exception": false,
     "start_time": "2021-09-24T00:22:55.046692",
     "status": "completed"
    },
    "tags": []
   },
   "outputs": [],
   "source": [
    "# #hide\n",
    "# fig, ax = plt.subplots(figsize=(15, 8))\n",
    "\n",
    "# def draw_barchart(current_day):\n",
    "#     dff = g[g['day'].eq(current_day)].sort_values(by='value', ascending=True).tail(10)\n",
    "#     ax.clear()\n",
    "#     ax.barh(dff['name'], dff['value'], color=[colors[group_lk[x]] for x in dff['name']])\n",
    "#     dx = dff['value'].max() / 200\n",
    "    \n",
    "#     for i, (value, name) in enumerate(zip(dff['value'], dff['name'])):\n",
    "#         ax.text(value-dx, i,     name,           size=14, weight=600, ha='right', va='bottom')\n",
    "#         ax.text(value-dx, i-.25, group_lk[name], size=10, color='#444444', ha='right', va='baseline')\n",
    "#         ax.text(value+dx, i,     f'{value:,.0f}',  size=14, ha='left',  va='center')\n",
    "#     ax.text(1, 0.4, current_day, transform=ax.transAxes, color='#777777', size=46, ha='right', weight=800)\n",
    "#     ax.text(0, 1.06, 'Population (thousands)', transform=ax.transAxes, size=12, color='#777777')\n",
    "#     ax.xaxis.set_major_formatter(ticker.StrMethodFormatter('{x:,.0f}'))\n",
    "#     ax.xaxis.set_ticks_position('top')\n",
    "#     ax.tick_params(axis='x', colors='#777777', labelsize=12)\n",
    "#     ax.set_yticks([])\n",
    "#     ax.margins(0, 0.01)\n",
    "#     ax.grid(which='major', axis='x', linestyle='-')\n",
    "#     ax.set_axisbelow(True)\n",
    "    \n",
    "#     ax.text(0, 1.15, 'Coronavirus',\n",
    "#             transform=ax.transAxes, size=24, weight=600, ha='left', va='top')\n",
    "# #     ax.text(1, 0, 'by @pratapvardhan; credit @jburnmurdoch', transform=ax.transAxes, color='#777777', ha='right',\n",
    "# #             bbox=dict(facecolor='white', alpha=0.8, edgecolor='white'))\n",
    "#     plt.box(False)"
   ]
  },
  {
   "cell_type": "code",
   "execution_count": 42,
   "id": "sexual-wages",
   "metadata": {
    "execution": {
     "iopub.execute_input": "2021-09-24T00:22:55.181291Z",
     "iopub.status.busy": "2021-09-24T00:22:55.180518Z",
     "iopub.status.idle": "2021-09-24T00:22:55.183473Z",
     "shell.execute_reply": "2021-09-24T00:22:55.182899Z"
    },
    "papermill": {
     "duration": 0.049206,
     "end_time": "2021-09-24T00:22:55.183607",
     "exception": false,
     "start_time": "2021-09-24T00:22:55.134401",
     "status": "completed"
    },
    "tags": []
   },
   "outputs": [],
   "source": [
    "# #hide_input\n",
    "# fig, ax = plt.subplots(figsize=(15, 8))\n",
    "# animator = animation.FuncAnimation(fig, draw_barchart, frames=range(g.day.values.min(), g.day.values.max()))\n",
    "# HTML(animator.to_jshtml())\n",
    "# # or use animator.to_html5_video() or animator.save() "
   ]
  },
  {
   "cell_type": "code",
   "execution_count": null,
   "id": "australian-container",
   "metadata": {
    "papermill": {
     "duration": 0.039294,
     "end_time": "2021-09-24T00:22:55.263480",
     "exception": false,
     "start_time": "2021-09-24T00:22:55.224186",
     "status": "completed"
    },
    "tags": []
   },
   "outputs": [],
   "source": []
  },
  {
   "cell_type": "code",
   "execution_count": null,
   "id": "mediterranean-pontiac",
   "metadata": {
    "papermill": {
     "duration": 0.043675,
     "end_time": "2021-09-24T00:22:55.345278",
     "exception": false,
     "start_time": "2021-09-24T00:22:55.301603",
     "status": "completed"
    },
    "tags": []
   },
   "outputs": [],
   "source": []
  },
  {
   "cell_type": "code",
   "execution_count": null,
   "id": "aging-legislature",
   "metadata": {
    "papermill": {
     "duration": 0.039999,
     "end_time": "2021-09-24T00:22:55.424800",
     "exception": false,
     "start_time": "2021-09-24T00:22:55.384801",
     "status": "completed"
    },
    "tags": []
   },
   "outputs": [],
   "source": []
  }
 ],
 "metadata": {
  "kernelspec": {
   "display_name": "Python 3",
   "language": "python",
   "name": "python3"
  },
  "language_info": {
   "codemirror_mode": {
    "name": "ipython",
    "version": 3
   },
   "file_extension": ".py",
   "mimetype": "text/x-python",
   "name": "python",
   "nbconvert_exporter": "python",
   "pygments_lexer": "ipython3",
   "version": "3.6.15"
  },
  "papermill": {
   "duration": 7.324762,
   "end_time": "2021-09-24T00:22:55.771093",
   "environment_variables": {},
   "exception": null,
   "input_path": "2020-03-21-covid19exp.ipynb",
   "output_path": "2020-03-21-covid19exp.ipynb",
   "parameters": {},
   "start_time": "2021-09-24T00:22:48.446331",
   "version": "2.0.0"
  }
 },
 "nbformat": 4,
 "nbformat_minor": 5
}