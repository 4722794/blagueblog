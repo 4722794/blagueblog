{
 "cells": [
  {
   "cell_type": "markdown",
   "id": "muslim-click",
   "metadata": {
    "papermill": {
     "duration": 0.039428,
     "end_time": "2021-01-24T12:23:54.478891",
     "exception": false,
     "start_time": "2021-01-24T12:23:54.439463",
     "status": "completed"
    },
    "tags": []
   },
   "source": [
    "# COVID-19 Case Race\n",
    "> A race chart to see rising cases around the world\n",
    "\n",
    "- author: Hargun Oberoi\n",
    "- image: images/covid-overview.png\n",
    "- hide: false\n",
    "- badges: false"
   ]
  },
  {
   "cell_type": "code",
   "execution_count": 1,
   "id": "proof-material",
   "metadata": {
    "execution": {
     "iopub.execute_input": "2021-01-24T12:23:54.562538Z",
     "iopub.status.busy": "2021-01-24T12:23:54.559292Z",
     "iopub.status.idle": "2021-01-24T12:23:54.926773Z",
     "shell.execute_reply": "2021-01-24T12:23:54.925645Z"
    },
    "papermill": {
     "duration": 0.411939,
     "end_time": "2021-01-24T12:23:54.926974",
     "exception": false,
     "start_time": "2021-01-24T12:23:54.515035",
     "status": "completed"
    },
    "tags": []
   },
   "outputs": [],
   "source": [
    "#hide\n",
    "import numpy as np\n",
    "import pandas as pd\n",
    "from jinja2 import Template\n",
    "from IPython.display import HTML"
   ]
  },
  {
   "cell_type": "code",
   "execution_count": 2,
   "id": "developed-terminology",
   "metadata": {
    "execution": {
     "iopub.execute_input": "2021-01-24T12:23:55.003376Z",
     "iopub.status.busy": "2021-01-24T12:23:55.002767Z",
     "iopub.status.idle": "2021-01-24T12:23:55.004978Z",
     "shell.execute_reply": "2021-01-24T12:23:55.004505Z"
    },
    "papermill": {
     "duration": 0.042045,
     "end_time": "2021-01-24T12:23:55.005109",
     "exception": false,
     "start_time": "2021-01-24T12:23:54.963064",
     "status": "completed"
    },
    "tags": []
   },
   "outputs": [],
   "source": [
    "#hide\n",
    "\n",
    "# FETCH\n",
    "base_url = 'https://raw.githubusercontent.com/pratapvardhan/notebooks/master/covid19/'\n",
    "paths = {\n",
    "    'mapping': base_url + 'mapping_countries.csv',\n",
    "    'overview': base_url + 'overview.tpl'\n",
    "}"
   ]
  },
  {
   "cell_type": "code",
   "execution_count": 3,
   "id": "dynamic-saver",
   "metadata": {
    "execution": {
     "iopub.execute_input": "2021-01-24T12:23:55.082722Z",
     "iopub.status.busy": "2021-01-24T12:23:55.080763Z",
     "iopub.status.idle": "2021-01-24T12:23:55.085831Z",
     "shell.execute_reply": "2021-01-24T12:23:55.085360Z"
    },
    "papermill": {
     "duration": 0.047312,
     "end_time": "2021-01-24T12:23:55.085962",
     "exception": false,
     "start_time": "2021-01-24T12:23:55.038650",
     "status": "completed"
    },
    "tags": []
   },
   "outputs": [
    {
     "data": {
      "text/plain": [
       "'https://raw.githubusercontent.com/pratapvardhan/notebooks/master/covid19/mapping_countries.csv'"
      ]
     },
     "execution_count": 3,
     "metadata": {},
     "output_type": "execute_result"
    }
   ],
   "source": [
    "#hide\n",
    "paths['mapping']"
   ]
  },
  {
   "cell_type": "code",
   "execution_count": 4,
   "id": "urban-software",
   "metadata": {
    "execution": {
     "iopub.execute_input": "2021-01-24T12:23:55.169826Z",
     "iopub.status.busy": "2021-01-24T12:23:55.169220Z",
     "iopub.status.idle": "2021-01-24T12:23:55.171567Z",
     "shell.execute_reply": "2021-01-24T12:23:55.171058Z"
    },
    "papermill": {
     "duration": 0.049708,
     "end_time": "2021-01-24T12:23:55.171699",
     "exception": false,
     "start_time": "2021-01-24T12:23:55.121991",
     "status": "completed"
    },
    "tags": []
   },
   "outputs": [],
   "source": [
    "#hide\n",
    "def get_mappings(url):\n",
    "    df = pd.read_csv(url)\n",
    "    return {\n",
    "        'df': df,\n",
    "        'replace.country': dict(df.dropna(subset=['Name']).set_index('Country')['Name']),\n",
    "        'map.continent': dict(df.set_index('Name')['Continent'])\n",
    "    }"
   ]
  },
  {
   "cell_type": "code",
   "execution_count": 5,
   "id": "intimate-machinery",
   "metadata": {
    "execution": {
     "iopub.execute_input": "2021-01-24T12:23:55.246911Z",
     "iopub.status.busy": "2021-01-24T12:23:55.246310Z",
     "iopub.status.idle": "2021-01-24T12:23:55.291747Z",
     "shell.execute_reply": "2021-01-24T12:23:55.290902Z"
    },
    "papermill": {
     "duration": 0.08635,
     "end_time": "2021-01-24T12:23:55.292080",
     "exception": false,
     "start_time": "2021-01-24T12:23:55.205730",
     "status": "completed"
    },
    "tags": []
   },
   "outputs": [],
   "source": [
    "#hide\n",
    "mapping = get_mappings(paths['mapping'])"
   ]
  },
  {
   "cell_type": "code",
   "execution_count": 6,
   "id": "certified-tactics",
   "metadata": {
    "execution": {
     "iopub.execute_input": "2021-01-24T12:23:55.375799Z",
     "iopub.status.busy": "2021-01-24T12:23:55.375185Z",
     "iopub.status.idle": "2021-01-24T12:23:55.380491Z",
     "shell.execute_reply": "2021-01-24T12:23:55.381065Z"
    },
    "papermill": {
     "duration": 0.049855,
     "end_time": "2021-01-24T12:23:55.381231",
     "exception": false,
     "start_time": "2021-01-24T12:23:55.331376",
     "status": "completed"
    },
    "tags": []
   },
   "outputs": [],
   "source": [
    "#hide\n",
    "def get_template(path):\n",
    "    from urllib.parse import urlparse\n",
    "    if bool(urlparse(path).netloc):\n",
    "        from urllib.request import urlopen\n",
    "        return urlopen(path).read().decode('utf8')\n",
    "    return open(path).read()"
   ]
  },
  {
   "cell_type": "code",
   "execution_count": 7,
   "id": "realistic-blast",
   "metadata": {
    "execution": {
     "iopub.execute_input": "2021-01-24T12:23:55.458761Z",
     "iopub.status.busy": "2021-01-24T12:23:55.458174Z",
     "iopub.status.idle": "2021-01-24T12:23:55.460310Z",
     "shell.execute_reply": "2021-01-24T12:23:55.459709Z"
    },
    "papermill": {
     "duration": 0.041409,
     "end_time": "2021-01-24T12:23:55.460437",
     "exception": false,
     "start_time": "2021-01-24T12:23:55.419028",
     "status": "completed"
    },
    "tags": []
   },
   "outputs": [],
   "source": [
    "#hide\n",
    "def get_frame(name):\n",
    "    url = (\n",
    "        'https://raw.githubusercontent.com/CSSEGISandData/COVID-19/master/csse_covid_19_data/'\n",
    "        f'csse_covid_19_time_series/time_series_covid19_{name}_global.csv')\n",
    "    df = pd.read_csv(url)\n",
    "    # rename countries\n",
    "    df['Country/Region'] = df['Country/Region'].replace(mapping['replace.country'])\n",
    "    return df"
   ]
  },
  {
   "cell_type": "code",
   "execution_count": 8,
   "id": "affiliated-characterization",
   "metadata": {
    "execution": {
     "iopub.execute_input": "2021-01-24T12:23:55.546150Z",
     "iopub.status.busy": "2021-01-24T12:23:55.545556Z",
     "iopub.status.idle": "2021-01-24T12:23:55.547309Z",
     "shell.execute_reply": "2021-01-24T12:23:55.547750Z"
    },
    "papermill": {
     "duration": 0.042668,
     "end_time": "2021-01-24T12:23:55.547899",
     "exception": false,
     "start_time": "2021-01-24T12:23:55.505231",
     "status": "completed"
    },
    "tags": []
   },
   "outputs": [],
   "source": [
    "#hide\n",
    "def get_dates(df):\n",
    "    dt_cols = df.columns[~df.columns.isin(['Province/State', 'Country/Region', 'Lat', 'Long'])]\n",
    "    LAST_DATE_I = -1\n",
    "    # sometimes last column may be empty, then go backwards\n",
    "    for i in range(-1, -len(dt_cols), -1):\n",
    "        if not df[dt_cols[i]].fillna(0).eq(0).all():\n",
    "            LAST_DATE_I = i\n",
    "            break\n",
    "    return LAST_DATE_I, dt_cols"
   ]
  },
  {
   "cell_type": "code",
   "execution_count": 9,
   "id": "recent-optimization",
   "metadata": {
    "execution": {
     "iopub.execute_input": "2021-01-24T12:23:55.622030Z",
     "iopub.status.busy": "2021-01-24T12:23:55.620997Z",
     "iopub.status.idle": "2021-01-24T12:23:55.964309Z",
     "shell.execute_reply": "2021-01-24T12:23:55.964820Z"
    },
    "papermill": {
     "duration": 0.383691,
     "end_time": "2021-01-24T12:23:55.964980",
     "exception": false,
     "start_time": "2021-01-24T12:23:55.581289",
     "status": "completed"
    },
    "tags": []
   },
   "outputs": [],
   "source": [
    "#hide\n",
    "COL_REGION = 'Country/Region'\n",
    "# Confirmed, Recovered, Deaths\n",
    "df = get_frame('confirmed')\n",
    "# dft_: timeseries, dfc_: today country agg\n",
    "dft_cases = df\n",
    "dft_deaths = get_frame('deaths')\n",
    "dft_recovered = get_frame('recovered')\n",
    "LAST_DATE_I, dt_cols = get_dates(df)"
   ]
  },
  {
   "cell_type": "code",
   "execution_count": 10,
   "id": "absolute-copper",
   "metadata": {
    "execution": {
     "iopub.execute_input": "2021-01-24T12:23:56.037496Z",
     "iopub.status.busy": "2021-01-24T12:23:56.036898Z",
     "iopub.status.idle": "2021-01-24T12:23:56.039164Z",
     "shell.execute_reply": "2021-01-24T12:23:56.038668Z"
    },
    "papermill": {
     "duration": 0.040584,
     "end_time": "2021-01-24T12:23:56.039289",
     "exception": false,
     "start_time": "2021-01-24T12:23:55.998705",
     "status": "completed"
    },
    "tags": []
   },
   "outputs": [],
   "source": [
    "#hide\n",
    "LAST_DATE_I, dt_cols = get_dates(df)\n",
    "dt_today =dt_cols[LAST_DATE_I]\n",
    "# dt_5day = dt_cols[LAST_DATE_I - 5]\n",
    "dt_yday = dt_cols[LAST_DATE_I - 1]"
   ]
  },
  {
   "cell_type": "code",
   "execution_count": 11,
   "id": "restricted-sheriff",
   "metadata": {
    "execution": {
     "iopub.execute_input": "2021-01-24T12:23:56.118762Z",
     "iopub.status.busy": "2021-01-24T12:23:56.118170Z",
     "iopub.status.idle": "2021-01-24T12:23:56.127781Z",
     "shell.execute_reply": "2021-01-24T12:23:56.127291Z"
    },
    "papermill": {
     "duration": 0.05166,
     "end_time": "2021-01-24T12:23:56.127921",
     "exception": false,
     "start_time": "2021-01-24T12:23:56.076261",
     "status": "completed"
    },
    "tags": []
   },
   "outputs": [],
   "source": [
    "#hide\n",
    "dfc_cases = dft_cases.groupby(COL_REGION)[dt_today].sum()\n",
    "dfc_deaths = dft_deaths.groupby(COL_REGION)[dt_today].sum()\n",
    "# dfp_cases = dft_cases.groupby(COL_REGION)[dt_5day].sum()\n",
    "# dfp_deaths = dft_deaths.groupby(COL_REGION)[dt_5day].sum()\n",
    "dfp_cases = dft_cases.groupby(COL_REGION)[dt_yday].sum()\n",
    "dfp_deaths = dft_deaths.groupby(COL_REGION)[dt_yday].sum()"
   ]
  },
  {
   "cell_type": "code",
   "execution_count": 12,
   "id": "deluxe-hepatitis",
   "metadata": {
    "execution": {
     "iopub.execute_input": "2021-01-24T12:23:56.206256Z",
     "iopub.status.busy": "2021-01-24T12:23:56.205661Z",
     "iopub.status.idle": "2021-01-24T12:23:56.209369Z",
     "shell.execute_reply": "2021-01-24T12:23:56.209811Z"
    },
    "papermill": {
     "duration": 0.046698,
     "end_time": "2021-01-24T12:23:56.209968",
     "exception": false,
     "start_time": "2021-01-24T12:23:56.163270",
     "status": "completed"
    },
    "tags": []
   },
   "outputs": [],
   "source": [
    "#hide\n",
    "df_table = (pd.DataFrame(dict(Cases = dfc_cases, Deaths = dfc_deaths, PCases = dfp_cases, PDeaths = dfp_deaths))\n",
    "            .sort_values(by = ['Cases','Deaths'], ascending = [False, False])\n",
    "            .reset_index())"
   ]
  },
  {
   "cell_type": "code",
   "execution_count": 13,
   "id": "educational-chancellor",
   "metadata": {
    "execution": {
     "iopub.execute_input": "2021-01-24T12:23:56.301147Z",
     "iopub.status.busy": "2021-01-24T12:23:56.300530Z",
     "iopub.status.idle": "2021-01-24T12:23:56.308153Z",
     "shell.execute_reply": "2021-01-24T12:23:56.308721Z"
    },
    "papermill": {
     "duration": 0.065335,
     "end_time": "2021-01-24T12:23:56.308879",
     "exception": false,
     "start_time": "2021-01-24T12:23:56.243544",
     "status": "completed"
    },
    "tags": []
   },
   "outputs": [
    {
     "data": {
      "text/html": [
       "<div>\n",
       "<style scoped>\n",
       "    .dataframe tbody tr th:only-of-type {\n",
       "        vertical-align: middle;\n",
       "    }\n",
       "\n",
       "    .dataframe tbody tr th {\n",
       "        vertical-align: top;\n",
       "    }\n",
       "\n",
       "    .dataframe thead th {\n",
       "        text-align: right;\n",
       "    }\n",
       "</style>\n",
       "<table border=\"1\" class=\"dataframe\">\n",
       "  <thead>\n",
       "    <tr style=\"text-align: right;\">\n",
       "      <th></th>\n",
       "      <th>Country/Region</th>\n",
       "      <th>Cases</th>\n",
       "      <th>Deaths</th>\n",
       "      <th>PCases</th>\n",
       "      <th>PDeaths</th>\n",
       "      <th>Cases (+)</th>\n",
       "      <th>Deaths (+)</th>\n",
       "      <th>Fatality Rate</th>\n",
       "      <th>Continent</th>\n",
       "    </tr>\n",
       "  </thead>\n",
       "  <tbody>\n",
       "    <tr>\n",
       "      <th>0</th>\n",
       "      <td>US</td>\n",
       "      <td>24994463</td>\n",
       "      <td>417439</td>\n",
       "      <td>24821813</td>\n",
       "      <td>414107</td>\n",
       "      <td>172650</td>\n",
       "      <td>3332</td>\n",
       "      <td>1.67</td>\n",
       "      <td>North America</td>\n",
       "    </tr>\n",
       "    <tr>\n",
       "      <th>1</th>\n",
       "      <td>India</td>\n",
       "      <td>10654533</td>\n",
       "      <td>153339</td>\n",
       "      <td>10639684</td>\n",
       "      <td>153184</td>\n",
       "      <td>14849</td>\n",
       "      <td>155</td>\n",
       "      <td>1.44</td>\n",
       "      <td>Asia</td>\n",
       "    </tr>\n",
       "    <tr>\n",
       "      <th>2</th>\n",
       "      <td>Brazil</td>\n",
       "      <td>8816254</td>\n",
       "      <td>216445</td>\n",
       "      <td>8753920</td>\n",
       "      <td>215243</td>\n",
       "      <td>62334</td>\n",
       "      <td>1202</td>\n",
       "      <td>2.46</td>\n",
       "      <td>South America</td>\n",
       "    </tr>\n",
       "    <tr>\n",
       "      <th>3</th>\n",
       "      <td>Russia</td>\n",
       "      <td>3658447</td>\n",
       "      <td>67919</td>\n",
       "      <td>3637862</td>\n",
       "      <td>67376</td>\n",
       "      <td>20585</td>\n",
       "      <td>543</td>\n",
       "      <td>1.86</td>\n",
       "      <td>Europe</td>\n",
       "    </tr>\n",
       "    <tr>\n",
       "      <th>4</th>\n",
       "      <td>United Kingdom</td>\n",
       "      <td>3627746</td>\n",
       "      <td>97518</td>\n",
       "      <td>3594094</td>\n",
       "      <td>96166</td>\n",
       "      <td>33652</td>\n",
       "      <td>1352</td>\n",
       "      <td>2.69</td>\n",
       "      <td>Europe</td>\n",
       "    </tr>\n",
       "  </tbody>\n",
       "</table>\n",
       "</div>"
      ],
      "text/plain": [
       "   Country/Region     Cases  Deaths    PCases  PDeaths  Cases (+)  Deaths (+)  \\\n",
       "0              US  24994463  417439  24821813   414107     172650        3332   \n",
       "1           India  10654533  153339  10639684   153184      14849         155   \n",
       "2          Brazil   8816254  216445   8753920   215243      62334        1202   \n",
       "3          Russia   3658447   67919   3637862    67376      20585         543   \n",
       "4  United Kingdom   3627746   97518   3594094    96166      33652        1352   \n",
       "\n",
       "   Fatality Rate      Continent  \n",
       "0           1.67  North America  \n",
       "1           1.44           Asia  \n",
       "2           2.46  South America  \n",
       "3           1.86         Europe  \n",
       "4           2.69         Europe  "
      ]
     },
     "execution_count": 13,
     "metadata": {},
     "output_type": "execute_result"
    }
   ],
   "source": [
    "#hide\n",
    "for c in 'Cases, Deaths'.split(', '):\n",
    "    df_table[f'{c} (+)'] = (df_table[c] - df_table[f'P{c}']).clip(0)\n",
    "    #Clip ça veut dire, les chiffres negatif sont interdit\n",
    "df_table['Fatality Rate'] = (100* df_table['Deaths']/ df_table['Cases']).round(2)\n",
    "df_table['Continent'] = df_table['Country/Region'].map(mapping['map.continent'])\n",
    "df_table.head(5)"
   ]
  },
  {
   "cell_type": "code",
   "execution_count": 14,
   "id": "aboriginal-bulgaria",
   "metadata": {
    "execution": {
     "iopub.execute_input": "2021-01-24T12:23:56.384722Z",
     "iopub.status.busy": "2021-01-24T12:23:56.384119Z",
     "iopub.status.idle": "2021-01-24T12:23:56.388412Z",
     "shell.execute_reply": "2021-01-24T12:23:56.388893Z"
    },
    "papermill": {
     "duration": 0.045734,
     "end_time": "2021-01-24T12:23:56.389043",
     "exception": false,
     "start_time": "2021-01-24T12:23:56.343309",
     "status": "completed"
    },
    "tags": []
   },
   "outputs": [],
   "source": [
    "#hide\n",
    "#delete problematic countries from table\n",
    "df_table = df_table[~df_table['Country/Region'].isin(['Cape Verde', 'Cruise Ship', 'Kosovo'])]"
   ]
  },
  {
   "cell_type": "code",
   "execution_count": 15,
   "id": "fantastic-effect",
   "metadata": {
    "execution": {
     "iopub.execute_input": "2021-01-24T12:23:56.472879Z",
     "iopub.status.busy": "2021-01-24T12:23:56.467263Z",
     "iopub.status.idle": "2021-01-24T12:23:56.490293Z",
     "shell.execute_reply": "2021-01-24T12:23:56.489800Z"
    },
    "papermill": {
     "duration": 0.067013,
     "end_time": "2021-01-24T12:23:56.490431",
     "exception": false,
     "start_time": "2021-01-24T12:23:56.423418",
     "status": "completed"
    },
    "tags": []
   },
   "outputs": [
    {
     "data": {
      "text/html": [
       "<div>\n",
       "<style scoped>\n",
       "    .dataframe tbody tr th:only-of-type {\n",
       "        vertical-align: middle;\n",
       "    }\n",
       "\n",
       "    .dataframe tbody tr th {\n",
       "        vertical-align: top;\n",
       "    }\n",
       "\n",
       "    .dataframe thead th {\n",
       "        text-align: right;\n",
       "    }\n",
       "</style>\n",
       "<table border=\"1\" class=\"dataframe\">\n",
       "  <thead>\n",
       "    <tr style=\"text-align: right;\">\n",
       "      <th></th>\n",
       "      <th>Country/Region</th>\n",
       "      <th>Cases</th>\n",
       "      <th>Deaths</th>\n",
       "      <th>PCases</th>\n",
       "      <th>PDeaths</th>\n",
       "      <th>Cases (+)</th>\n",
       "      <th>Deaths (+)</th>\n",
       "      <th>Fatality Rate</th>\n",
       "      <th>Continent</th>\n",
       "    </tr>\n",
       "  </thead>\n",
       "  <tbody>\n",
       "    <tr>\n",
       "      <th>0</th>\n",
       "      <td>US</td>\n",
       "      <td>24994463</td>\n",
       "      <td>417439</td>\n",
       "      <td>24821813</td>\n",
       "      <td>414107</td>\n",
       "      <td>172650</td>\n",
       "      <td>3332</td>\n",
       "      <td>1.7</td>\n",
       "      <td>North America</td>\n",
       "    </tr>\n",
       "    <tr>\n",
       "      <th>1</th>\n",
       "      <td>India</td>\n",
       "      <td>10654533</td>\n",
       "      <td>153339</td>\n",
       "      <td>10639684</td>\n",
       "      <td>153184</td>\n",
       "      <td>14849</td>\n",
       "      <td>155</td>\n",
       "      <td>1.4</td>\n",
       "      <td>Asia</td>\n",
       "    </tr>\n",
       "    <tr>\n",
       "      <th>2</th>\n",
       "      <td>Brazil</td>\n",
       "      <td>8816254</td>\n",
       "      <td>216445</td>\n",
       "      <td>8753920</td>\n",
       "      <td>215243</td>\n",
       "      <td>62334</td>\n",
       "      <td>1202</td>\n",
       "      <td>2.5</td>\n",
       "      <td>South America</td>\n",
       "    </tr>\n",
       "    <tr>\n",
       "      <th>3</th>\n",
       "      <td>Russia</td>\n",
       "      <td>3658447</td>\n",
       "      <td>67919</td>\n",
       "      <td>3637862</td>\n",
       "      <td>67376</td>\n",
       "      <td>20585</td>\n",
       "      <td>543</td>\n",
       "      <td>1.9</td>\n",
       "      <td>Europe</td>\n",
       "    </tr>\n",
       "    <tr>\n",
       "      <th>4</th>\n",
       "      <td>United Kingdom</td>\n",
       "      <td>3627746</td>\n",
       "      <td>97518</td>\n",
       "      <td>3594094</td>\n",
       "      <td>96166</td>\n",
       "      <td>33652</td>\n",
       "      <td>1352</td>\n",
       "      <td>2.7</td>\n",
       "      <td>Europe</td>\n",
       "    </tr>\n",
       "  </tbody>\n",
       "</table>\n",
       "</div>"
      ],
      "text/plain": [
       "   Country/Region     Cases  Deaths    PCases  PDeaths  Cases (+)  Deaths (+)  \\\n",
       "0              US  24994463  417439  24821813   414107     172650        3332   \n",
       "1           India  10654533  153339  10639684   153184      14849         155   \n",
       "2          Brazil   8816254  216445   8753920   215243      62334        1202   \n",
       "3          Russia   3658447   67919   3637862    67376      20585         543   \n",
       "4  United Kingdom   3627746   97518   3594094    96166      33652        1352   \n",
       "\n",
       "   Fatality Rate      Continent  \n",
       "0            1.7  North America  \n",
       "1            1.4           Asia  \n",
       "2            2.5  South America  \n",
       "3            1.9         Europe  \n",
       "4            2.7         Europe  "
      ]
     },
     "execution_count": 15,
     "metadata": {},
     "output_type": "execute_result"
    }
   ],
   "source": [
    "#hide\n",
    "df_table = (pd.DataFrame(dict(Cases=dfc_cases, Deaths=dfc_deaths, PCases=dfp_cases, PDeaths=dfp_deaths))\n",
    "             .sort_values(by=['Cases', 'Deaths'], ascending=[False, False])\n",
    "             .reset_index())\n",
    "df_table.rename(columns={'index': 'Country/Region'}, inplace=True)\n",
    "for c in 'Cases, Deaths'.split(', '):\n",
    "    df_table[f'{c} (+)'] = (df_table[c] - df_table[f'P{c}']).clip(0)  # DATA BUG\n",
    "df_table['Fatality Rate'] = (100 * df_table['Deaths'] / df_table['Cases']).round(1)\n",
    "df_table['Continent'] = df_table['Country/Region'].map(mapping['map.continent'])\n",
    "df_table.head(5)"
   ]
  },
  {
   "cell_type": "code",
   "execution_count": 16,
   "id": "fewer-occasion",
   "metadata": {
    "execution": {
     "iopub.execute_input": "2021-01-24T12:23:56.566149Z",
     "iopub.status.busy": "2021-01-24T12:23:56.565561Z",
     "iopub.status.idle": "2021-01-24T12:23:56.567695Z",
     "shell.execute_reply": "2021-01-24T12:23:56.567126Z"
    },
    "papermill": {
     "duration": 0.042637,
     "end_time": "2021-01-24T12:23:56.567819",
     "exception": false,
     "start_time": "2021-01-24T12:23:56.525182",
     "status": "completed"
    },
    "tags": []
   },
   "outputs": [],
   "source": [
    "#hide\n",
    "#delete problematic countries from table\n",
    "df_table = df_table[~df_table['Country/Region'].isin(['Cape Verde', 'Cruise Ship', 'Kosovo'])]"
   ]
  },
  {
   "cell_type": "code",
   "execution_count": 17,
   "id": "related-center",
   "metadata": {
    "execution": {
     "iopub.execute_input": "2021-01-24T12:23:56.652361Z",
     "iopub.status.busy": "2021-01-24T12:23:56.651705Z",
     "iopub.status.idle": "2021-01-24T12:23:56.662537Z",
     "shell.execute_reply": "2021-01-24T12:23:56.662048Z"
    },
    "papermill": {
     "duration": 0.060577,
     "end_time": "2021-01-24T12:23:56.662677",
     "exception": false,
     "start_time": "2021-01-24T12:23:56.602100",
     "status": "completed"
    },
    "tags": []
   },
   "outputs": [],
   "source": [
    "#hide\n",
    "metrics = [df_table.columns[index] for index in [1,2,5,6]]\n",
    "# s_china = df_table[df_table['Country/Region'].eq('China')][metrics].sum().add_prefix('China ')\n",
    "s_us = df_table[df_table['Country/Region'].eq('US')][metrics].sum().add_prefix('US ')\n",
    "s_eu = df_table[df_table['Continent'].eq('Europe')][metrics].sum().add_prefix('EU ')\n",
    "s_ind = df_table[df_table['Country/Region'].eq('India')][metrics].sum().add_prefix('India ')\n",
    "summary = {'updated': pd.to_datetime(dt_today), 'since': pd.to_datetime(dt_yday)}\n",
    "summary = {'updated': pd.to_datetime(dt_today), 'since': pd.to_datetime(dt_yday)}\n",
    "summary = {**summary, **df_table[metrics].sum(), **s_ind, **s_us, **s_eu}"
   ]
  },
  {
   "cell_type": "code",
   "execution_count": 18,
   "id": "engaging-syndrome",
   "metadata": {
    "execution": {
     "iopub.execute_input": "2021-01-24T12:23:56.742225Z",
     "iopub.status.busy": "2021-01-24T12:23:56.741618Z",
     "iopub.status.idle": "2021-01-24T12:23:56.751459Z",
     "shell.execute_reply": "2021-01-24T12:23:56.750951Z"
    },
    "papermill": {
     "duration": 0.05353,
     "end_time": "2021-01-24T12:23:56.751591",
     "exception": false,
     "start_time": "2021-01-24T12:23:56.698061",
     "status": "completed"
    },
    "tags": []
   },
   "outputs": [],
   "source": [
    "#hide\n",
    "dft_ct_new_cases = dft_cases.groupby(COL_REGION)[dt_cols].sum().diff(axis=1).fillna(0).astype(int)"
   ]
  },
  {
   "cell_type": "code",
   "execution_count": 19,
   "id": "neutral-assignment",
   "metadata": {
    "execution": {
     "iopub.execute_input": "2021-01-24T12:23:56.828538Z",
     "iopub.status.busy": "2021-01-24T12:23:56.827896Z",
     "iopub.status.idle": "2021-01-24T12:23:56.831587Z",
     "shell.execute_reply": "2021-01-24T12:23:56.831116Z"
    },
    "papermill": {
     "duration": 0.045654,
     "end_time": "2021-01-24T12:23:56.831716",
     "exception": false,
     "start_time": "2021-01-24T12:23:56.786062",
     "status": "completed"
    },
    "tags": []
   },
   "outputs": [],
   "source": [
    "#hide\n",
    "everydaycases = dft_ct_new_cases.cumsum(axis=1)"
   ]
  },
  {
   "cell_type": "code",
   "execution_count": 20,
   "id": "parliamentary-calgary",
   "metadata": {
    "execution": {
     "iopub.execute_input": "2021-01-24T12:23:56.907483Z",
     "iopub.status.busy": "2021-01-24T12:23:56.906867Z",
     "iopub.status.idle": "2021-01-24T12:23:57.909100Z",
     "shell.execute_reply": "2021-01-24T12:23:57.908567Z"
    },
    "papermill": {
     "duration": 1.042828,
     "end_time": "2021-01-24T12:23:57.909242",
     "exception": false,
     "start_time": "2021-01-24T12:23:56.866414",
     "status": "completed"
    },
    "tags": []
   },
   "outputs": [],
   "source": [
    "#hide\n",
    "import pandas as pd\n",
    "import matplotlib.pyplot as plt\n",
    "import matplotlib.ticker as ticker\n",
    "import matplotlib.animation as animation\n",
    "from IPython.display import HTML"
   ]
  },
  {
   "cell_type": "code",
   "execution_count": 21,
   "id": "lasting-extraction",
   "metadata": {
    "execution": {
     "iopub.execute_input": "2021-01-24T12:23:57.990122Z",
     "iopub.status.busy": "2021-01-24T12:23:57.989511Z",
     "iopub.status.idle": "2021-01-24T12:23:57.994879Z",
     "shell.execute_reply": "2021-01-24T12:23:57.994120Z"
    },
    "papermill": {
     "duration": 0.047831,
     "end_time": "2021-01-24T12:23:57.995101",
     "exception": false,
     "start_time": "2021-01-24T12:23:57.947270",
     "status": "completed"
    },
    "tags": []
   },
   "outputs": [],
   "source": [
    "#hide\n",
    "t = everydaycases.stack()"
   ]
  },
  {
   "cell_type": "code",
   "execution_count": 22,
   "id": "premier-sleeve",
   "metadata": {
    "execution": {
     "iopub.execute_input": "2021-01-24T12:23:58.070993Z",
     "iopub.status.busy": "2021-01-24T12:23:58.070401Z",
     "iopub.status.idle": "2021-01-24T12:23:58.077884Z",
     "shell.execute_reply": "2021-01-24T12:23:58.077401Z"
    },
    "papermill": {
     "duration": 0.047534,
     "end_time": "2021-01-24T12:23:58.078016",
     "exception": false,
     "start_time": "2021-01-24T12:23:58.030482",
     "status": "completed"
    },
    "tags": []
   },
   "outputs": [],
   "source": [
    "#hide\n",
    "g = t.reset_index(['Country/Region'])"
   ]
  },
  {
   "cell_type": "code",
   "execution_count": 23,
   "id": "distributed-pittsburgh",
   "metadata": {
    "execution": {
     "iopub.execute_input": "2021-01-24T12:23:58.159184Z",
     "iopub.status.busy": "2021-01-24T12:23:58.158333Z",
     "iopub.status.idle": "2021-01-24T12:23:58.159805Z",
     "shell.execute_reply": "2021-01-24T12:23:58.160290Z"
    },
    "papermill": {
     "duration": 0.041863,
     "end_time": "2021-01-24T12:23:58.160437",
     "exception": false,
     "start_time": "2021-01-24T12:23:58.118574",
     "status": "completed"
    },
    "tags": []
   },
   "outputs": [],
   "source": [
    "#hide\n",
    "g.index.name = 'date'"
   ]
  },
  {
   "cell_type": "code",
   "execution_count": 24,
   "id": "naked-donor",
   "metadata": {
    "execution": {
     "iopub.execute_input": "2021-01-24T12:23:58.233247Z",
     "iopub.status.busy": "2021-01-24T12:23:58.232649Z",
     "iopub.status.idle": "2021-01-24T12:23:58.235524Z",
     "shell.execute_reply": "2021-01-24T12:23:58.235020Z"
    },
    "papermill": {
     "duration": 0.040718,
     "end_time": "2021-01-24T12:23:58.235653",
     "exception": false,
     "start_time": "2021-01-24T12:23:58.194935",
     "status": "completed"
    },
    "tags": []
   },
   "outputs": [],
   "source": [
    "# #hide\n",
    "# g = g.reset_index(['date'])"
   ]
  },
  {
   "cell_type": "code",
   "execution_count": 25,
   "id": "incomplete-mustang",
   "metadata": {
    "execution": {
     "iopub.execute_input": "2021-01-24T12:23:58.308247Z",
     "iopub.status.busy": "2021-01-24T12:23:58.307630Z",
     "iopub.status.idle": "2021-01-24T12:23:58.309344Z",
     "shell.execute_reply": "2021-01-24T12:23:58.309891Z"
    },
    "papermill": {
     "duration": 0.039898,
     "end_time": "2021-01-24T12:23:58.310034",
     "exception": false,
     "start_time": "2021-01-24T12:23:58.270136",
     "status": "completed"
    },
    "tags": []
   },
   "outputs": [],
   "source": [
    "#hide\n",
    "# g.head()"
   ]
  },
  {
   "cell_type": "code",
   "execution_count": 26,
   "id": "specific-kruger",
   "metadata": {
    "execution": {
     "iopub.execute_input": "2021-01-24T12:23:58.383217Z",
     "iopub.status.busy": "2021-01-24T12:23:58.382627Z",
     "iopub.status.idle": "2021-01-24T12:23:58.384556Z",
     "shell.execute_reply": "2021-01-24T12:23:58.385025Z"
    },
    "papermill": {
     "duration": 0.040614,
     "end_time": "2021-01-24T12:23:58.385176",
     "exception": false,
     "start_time": "2021-01-24T12:23:58.344562",
     "status": "completed"
    },
    "tags": []
   },
   "outputs": [],
   "source": [
    "#hide\n",
    "# g.columns = ['date','country','cases']"
   ]
  },
  {
   "cell_type": "code",
   "execution_count": 27,
   "id": "tender-conversion",
   "metadata": {
    "execution": {
     "iopub.execute_input": "2021-01-24T12:23:58.458861Z",
     "iopub.status.busy": "2021-01-24T12:23:58.457983Z",
     "iopub.status.idle": "2021-01-24T12:23:58.459631Z",
     "shell.execute_reply": "2021-01-24T12:23:58.460235Z"
    },
    "papermill": {
     "duration": 0.040884,
     "end_time": "2021-01-24T12:23:58.460413",
     "exception": false,
     "start_time": "2021-01-24T12:23:58.419529",
     "status": "completed"
    },
    "tags": []
   },
   "outputs": [],
   "source": [
    "#hide\n",
    "# g['continent'] = g.country"
   ]
  },
  {
   "cell_type": "code",
   "execution_count": 28,
   "id": "substantial-wilderness",
   "metadata": {
    "execution": {
     "iopub.execute_input": "2021-01-24T12:23:58.538445Z",
     "iopub.status.busy": "2021-01-24T12:23:58.537841Z",
     "iopub.status.idle": "2021-01-24T12:23:58.540655Z",
     "shell.execute_reply": "2021-01-24T12:23:58.540176Z"
    },
    "papermill": {
     "duration": 0.043632,
     "end_time": "2021-01-24T12:23:58.540789",
     "exception": false,
     "start_time": "2021-01-24T12:23:58.497157",
     "status": "completed"
    },
    "tags": []
   },
   "outputs": [],
   "source": [
    "#hide\n",
    "# cols = list(g.columns.values)"
   ]
  },
  {
   "cell_type": "code",
   "execution_count": 29,
   "id": "solved-farming",
   "metadata": {
    "execution": {
     "iopub.execute_input": "2021-01-24T12:23:58.614578Z",
     "iopub.status.busy": "2021-01-24T12:23:58.613998Z",
     "iopub.status.idle": "2021-01-24T12:23:58.616118Z",
     "shell.execute_reply": "2021-01-24T12:23:58.616676Z"
    },
    "papermill": {
     "duration": 0.041238,
     "end_time": "2021-01-24T12:23:58.616826",
     "exception": false,
     "start_time": "2021-01-24T12:23:58.575588",
     "status": "completed"
    },
    "tags": []
   },
   "outputs": [],
   "source": [
    "#hide\n",
    "# cols.insert(0, cols.pop())"
   ]
  },
  {
   "cell_type": "code",
   "execution_count": 30,
   "id": "executed-adoption",
   "metadata": {
    "execution": {
     "iopub.execute_input": "2021-01-24T12:23:58.690629Z",
     "iopub.status.busy": "2021-01-24T12:23:58.689921Z",
     "iopub.status.idle": "2021-01-24T12:23:58.693730Z",
     "shell.execute_reply": "2021-01-24T12:23:58.693236Z"
    },
    "papermill": {
     "duration": 0.042605,
     "end_time": "2021-01-24T12:23:58.693864",
     "exception": false,
     "start_time": "2021-01-24T12:23:58.651259",
     "status": "completed"
    },
    "tags": []
   },
   "outputs": [],
   "source": [
    "#hide\n",
    "# g = g[cols]"
   ]
  },
  {
   "cell_type": "code",
   "execution_count": 31,
   "id": "subject-dublin",
   "metadata": {
    "execution": {
     "iopub.execute_input": "2021-01-24T12:23:58.767604Z",
     "iopub.status.busy": "2021-01-24T12:23:58.767000Z",
     "iopub.status.idle": "2021-01-24T12:23:58.769840Z",
     "shell.execute_reply": "2021-01-24T12:23:58.769319Z"
    },
    "papermill": {
     "duration": 0.041695,
     "end_time": "2021-01-24T12:23:58.769970",
     "exception": false,
     "start_time": "2021-01-24T12:23:58.728275",
     "status": "completed"
    },
    "tags": []
   },
   "outputs": [],
   "source": [
    "#hide\n",
    "# g['continent'] = g['continent'].map(mapping['map.continent'])"
   ]
  },
  {
   "cell_type": "code",
   "execution_count": 32,
   "id": "freelance-scout",
   "metadata": {
    "execution": {
     "iopub.execute_input": "2021-01-24T12:23:58.843921Z",
     "iopub.status.busy": "2021-01-24T12:23:58.843328Z",
     "iopub.status.idle": "2021-01-24T12:23:58.845783Z",
     "shell.execute_reply": "2021-01-24T12:23:58.846335Z"
    },
    "papermill": {
     "duration": 0.04195,
     "end_time": "2021-01-24T12:23:58.846479",
     "exception": false,
     "start_time": "2021-01-24T12:23:58.804529",
     "status": "completed"
    },
    "tags": []
   },
   "outputs": [],
   "source": [
    "#hide\n",
    "# g.head()"
   ]
  },
  {
   "cell_type": "code",
   "execution_count": 33,
   "id": "limited-engine",
   "metadata": {
    "execution": {
     "iopub.execute_input": "2021-01-24T12:23:58.920478Z",
     "iopub.status.busy": "2021-01-24T12:23:58.919469Z",
     "iopub.status.idle": "2021-01-24T12:23:58.922118Z",
     "shell.execute_reply": "2021-01-24T12:23:58.921617Z"
    },
    "papermill": {
     "duration": 0.041512,
     "end_time": "2021-01-24T12:23:58.922243",
     "exception": false,
     "start_time": "2021-01-24T12:23:58.880731",
     "status": "completed"
    },
    "tags": []
   },
   "outputs": [],
   "source": [
    "# hide\n",
    "# g['date'] = g['date'].astype('datetime64[ns]')"
   ]
  },
  {
   "cell_type": "code",
   "execution_count": 34,
   "id": "sophisticated-supervisor",
   "metadata": {
    "execution": {
     "iopub.execute_input": "2021-01-24T12:23:58.996240Z",
     "iopub.status.busy": "2021-01-24T12:23:58.995603Z",
     "iopub.status.idle": "2021-01-24T12:23:58.998655Z",
     "shell.execute_reply": "2021-01-24T12:23:58.998179Z"
    },
    "papermill": {
     "duration": 0.042024,
     "end_time": "2021-01-24T12:23:58.998787",
     "exception": false,
     "start_time": "2021-01-24T12:23:58.956763",
     "status": "completed"
    },
    "tags": []
   },
   "outputs": [],
   "source": [
    "#hide\n",
    "# g['date'] = g.date.dt.dayofyear"
   ]
  },
  {
   "cell_type": "code",
   "execution_count": 35,
   "id": "inside-dubai",
   "metadata": {
    "execution": {
     "iopub.execute_input": "2021-01-24T12:23:59.072502Z",
     "iopub.status.busy": "2021-01-24T12:23:59.071886Z",
     "iopub.status.idle": "2021-01-24T12:23:59.074513Z",
     "shell.execute_reply": "2021-01-24T12:23:59.074043Z"
    },
    "papermill": {
     "duration": 0.041466,
     "end_time": "2021-01-24T12:23:59.074641",
     "exception": false,
     "start_time": "2021-01-24T12:23:59.033175",
     "status": "completed"
    },
    "tags": []
   },
   "outputs": [],
   "source": [
    "#hide\n",
    "# g = g.rename(columns= {'continent':'group','country':'name','cases':'value'})"
   ]
  },
  {
   "cell_type": "code",
   "execution_count": 36,
   "id": "fleet-motorcycle",
   "metadata": {
    "execution": {
     "iopub.execute_input": "2021-01-24T12:23:59.149134Z",
     "iopub.status.busy": "2021-01-24T12:23:59.148512Z",
     "iopub.status.idle": "2021-01-24T12:23:59.151487Z",
     "shell.execute_reply": "2021-01-24T12:23:59.151011Z"
    },
    "papermill": {
     "duration": 0.042076,
     "end_time": "2021-01-24T12:23:59.151620",
     "exception": false,
     "start_time": "2021-01-24T12:23:59.109544",
     "status": "completed"
    },
    "tags": []
   },
   "outputs": [],
   "source": [
    "#hide\n",
    "# cols = ['name','group','day','value']"
   ]
  },
  {
   "cell_type": "code",
   "execution_count": 37,
   "id": "continued-sleeping",
   "metadata": {
    "execution": {
     "iopub.execute_input": "2021-01-24T12:23:59.225763Z",
     "iopub.status.busy": "2021-01-24T12:23:59.225167Z",
     "iopub.status.idle": "2021-01-24T12:23:59.226367Z",
     "shell.execute_reply": "2021-01-24T12:23:59.226913Z"
    },
    "papermill": {
     "duration": 0.040932,
     "end_time": "2021-01-24T12:23:59.227057",
     "exception": false,
     "start_time": "2021-01-24T12:23:59.186125",
     "status": "completed"
    },
    "tags": []
   },
   "outputs": [],
   "source": [
    "#hide\n",
    "# g.rename(columns= {'date':'day'},inplace = True)"
   ]
  },
  {
   "cell_type": "code",
   "execution_count": 38,
   "id": "major-fight",
   "metadata": {
    "execution": {
     "iopub.execute_input": "2021-01-24T12:23:59.299740Z",
     "iopub.status.busy": "2021-01-24T12:23:59.299152Z",
     "iopub.status.idle": "2021-01-24T12:23:59.301381Z",
     "shell.execute_reply": "2021-01-24T12:23:59.300887Z"
    },
    "papermill": {
     "duration": 0.039944,
     "end_time": "2021-01-24T12:23:59.301507",
     "exception": false,
     "start_time": "2021-01-24T12:23:59.261563",
     "status": "completed"
    },
    "tags": []
   },
   "outputs": [],
   "source": [
    "#hide\n",
    "# g = g[cols]"
   ]
  },
  {
   "cell_type": "code",
   "execution_count": 39,
   "id": "structured-mobile",
   "metadata": {
    "execution": {
     "iopub.execute_input": "2021-01-24T12:23:59.374739Z",
     "iopub.status.busy": "2021-01-24T12:23:59.374128Z",
     "iopub.status.idle": "2021-01-24T12:23:59.376320Z",
     "shell.execute_reply": "2021-01-24T12:23:59.376832Z"
    },
    "papermill": {
     "duration": 0.041043,
     "end_time": "2021-01-24T12:23:59.376984",
     "exception": false,
     "start_time": "2021-01-24T12:23:59.335941",
     "status": "completed"
    },
    "tags": []
   },
   "outputs": [],
   "source": [
    "# #hide\n",
    "# g = g[g.group.notna()]"
   ]
  },
  {
   "cell_type": "code",
   "execution_count": 40,
   "id": "determined-closing",
   "metadata": {
    "execution": {
     "iopub.execute_input": "2021-01-24T12:23:59.450117Z",
     "iopub.status.busy": "2021-01-24T12:23:59.449524Z",
     "iopub.status.idle": "2021-01-24T12:23:59.451744Z",
     "shell.execute_reply": "2021-01-24T12:23:59.451249Z"
    },
    "papermill": {
     "duration": 0.040216,
     "end_time": "2021-01-24T12:23:59.451868",
     "exception": false,
     "start_time": "2021-01-24T12:23:59.411652",
     "status": "completed"
    },
    "tags": []
   },
   "outputs": [],
   "source": [
    "# #hide\n",
    "# colors = dict(zip(\n",
    "#     [\"Oceania\", \"Europe\", \"Asia\", \"South America\", \"Middle East\", \"North America\", \"Africa\"],\n",
    "#     [\"#adb0ff\", \"#ffb3ff\", \"#90d595\", \"#e48381\", \"#aafbff\", \"#f7bb5f\", \"#eafb50\"]\n",
    "# ))\n",
    "# group_lk = g.set_index('name')['group'].to_dict()"
   ]
  },
  {
   "cell_type": "code",
   "execution_count": null,
   "id": "gross-drinking",
   "metadata": {
    "papermill": {
     "duration": 0.034329,
     "end_time": "2021-01-24T12:23:59.520528",
     "exception": false,
     "start_time": "2021-01-24T12:23:59.486199",
     "status": "completed"
    },
    "tags": []
   },
   "outputs": [],
   "source": []
  },
  {
   "cell_type": "code",
   "execution_count": 41,
   "id": "subject-macintosh",
   "metadata": {
    "execution": {
     "iopub.execute_input": "2021-01-24T12:23:59.594015Z",
     "iopub.status.busy": "2021-01-24T12:23:59.593346Z",
     "iopub.status.idle": "2021-01-24T12:23:59.594853Z",
     "shell.execute_reply": "2021-01-24T12:23:59.595388Z"
    },
    "papermill": {
     "duration": 0.040564,
     "end_time": "2021-01-24T12:23:59.595545",
     "exception": false,
     "start_time": "2021-01-24T12:23:59.554981",
     "status": "completed"
    },
    "tags": []
   },
   "outputs": [],
   "source": [
    "# #hide\n",
    "# fig, ax = plt.subplots(figsize=(15, 8))\n",
    "\n",
    "# def draw_barchart(current_day):\n",
    "#     dff = g[g['day'].eq(current_day)].sort_values(by='value', ascending=True).tail(10)\n",
    "#     ax.clear()\n",
    "#     ax.barh(dff['name'], dff['value'], color=[colors[group_lk[x]] for x in dff['name']])\n",
    "#     dx = dff['value'].max() / 200\n",
    "    \n",
    "#     for i, (value, name) in enumerate(zip(dff['value'], dff['name'])):\n",
    "#         ax.text(value-dx, i,     name,           size=14, weight=600, ha='right', va='bottom')\n",
    "#         ax.text(value-dx, i-.25, group_lk[name], size=10, color='#444444', ha='right', va='baseline')\n",
    "#         ax.text(value+dx, i,     f'{value:,.0f}',  size=14, ha='left',  va='center')\n",
    "#     ax.text(1, 0.4, current_day, transform=ax.transAxes, color='#777777', size=46, ha='right', weight=800)\n",
    "#     ax.text(0, 1.06, 'Population (thousands)', transform=ax.transAxes, size=12, color='#777777')\n",
    "#     ax.xaxis.set_major_formatter(ticker.StrMethodFormatter('{x:,.0f}'))\n",
    "#     ax.xaxis.set_ticks_position('top')\n",
    "#     ax.tick_params(axis='x', colors='#777777', labelsize=12)\n",
    "#     ax.set_yticks([])\n",
    "#     ax.margins(0, 0.01)\n",
    "#     ax.grid(which='major', axis='x', linestyle='-')\n",
    "#     ax.set_axisbelow(True)\n",
    "    \n",
    "#     ax.text(0, 1.15, 'Coronavirus',\n",
    "#             transform=ax.transAxes, size=24, weight=600, ha='left', va='top')\n",
    "# #     ax.text(1, 0, 'by @pratapvardhan; credit @jburnmurdoch', transform=ax.transAxes, color='#777777', ha='right',\n",
    "# #             bbox=dict(facecolor='white', alpha=0.8, edgecolor='white'))\n",
    "#     plt.box(False)"
   ]
  },
  {
   "cell_type": "code",
   "execution_count": 42,
   "id": "sexual-wages",
   "metadata": {
    "execution": {
     "iopub.execute_input": "2021-01-24T12:23:59.672876Z",
     "iopub.status.busy": "2021-01-24T12:23:59.672276Z",
     "iopub.status.idle": "2021-01-24T12:23:59.674735Z",
     "shell.execute_reply": "2021-01-24T12:23:59.674240Z"
    },
    "papermill": {
     "duration": 0.043162,
     "end_time": "2021-01-24T12:23:59.674861",
     "exception": false,
     "start_time": "2021-01-24T12:23:59.631699",
     "status": "completed"
    },
    "tags": []
   },
   "outputs": [],
   "source": [
    "# #hide_input\n",
    "# fig, ax = plt.subplots(figsize=(15, 8))\n",
    "# animator = animation.FuncAnimation(fig, draw_barchart, frames=range(g.day.values.min(), g.day.values.max()))\n",
    "# HTML(animator.to_jshtml())\n",
    "# # or use animator.to_html5_video() or animator.save() "
   ]
  },
  {
   "cell_type": "code",
   "execution_count": null,
   "id": "australian-container",
   "metadata": {
    "papermill": {
     "duration": 0.042546,
     "end_time": "2021-01-24T12:23:59.753460",
     "exception": false,
     "start_time": "2021-01-24T12:23:59.710914",
     "status": "completed"
    },
    "tags": []
   },
   "outputs": [],
   "source": []
  },
  {
   "cell_type": "code",
   "execution_count": null,
   "id": "mediterranean-pontiac",
   "metadata": {
    "papermill": {
     "duration": 0.035318,
     "end_time": "2021-01-24T12:23:59.827279",
     "exception": false,
     "start_time": "2021-01-24T12:23:59.791961",
     "status": "completed"
    },
    "tags": []
   },
   "outputs": [],
   "source": []
  },
  {
   "cell_type": "code",
   "execution_count": null,
   "id": "aging-legislature",
   "metadata": {
    "papermill": {
     "duration": 0.035566,
     "end_time": "2021-01-24T12:23:59.898214",
     "exception": false,
     "start_time": "2021-01-24T12:23:59.862648",
     "status": "completed"
    },
    "tags": []
   },
   "outputs": [],
   "source": []
  }
 ],
 "metadata": {
  "kernelspec": {
   "display_name": "Python 3",
   "language": "python",
   "name": "python3"
  },
  "language_info": {
   "codemirror_mode": {
    "name": "ipython",
    "version": 3
   },
   "file_extension": ".py",
   "mimetype": "text/x-python",
   "name": "python",
   "nbconvert_exporter": "python",
   "pygments_lexer": "ipython3",
   "version": "3.6.12"
  },
  "papermill": {
   "duration": 7.014421,
   "end_time": "2021-01-24T12:24:00.348295",
   "environment_variables": {},
   "exception": null,
   "input_path": "2020-03-21-covid19exp.ipynb",
   "output_path": "2020-03-21-covid19exp.ipynb",
   "parameters": {},
   "start_time": "2021-01-24T12:23:53.333874",
   "version": "2.0.0"
  }
 },
 "nbformat": 4,
 "nbformat_minor": 5
}