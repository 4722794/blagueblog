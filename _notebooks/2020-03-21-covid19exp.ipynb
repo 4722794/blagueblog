{
 "cells": [
  {
   "cell_type": "markdown",
   "id": "muslim-click",
   "metadata": {
    "papermill": {
     "duration": 0.042415,
     "end_time": "2021-10-28T12:12:45.103951",
     "exception": false,
     "start_time": "2021-10-28T12:12:45.061536",
     "status": "completed"
    },
    "tags": []
   },
   "source": [
    "# COVID-19 Case Race\n",
    "> A race chart to see rising cases around the world\n",
    "\n",
    "- author: Hargun Oberoi\n",
    "- image: images/covid-overview.png\n",
    "- hide: false\n",
    "- badges: false"
   ]
  },
  {
   "cell_type": "code",
   "execution_count": 1,
   "id": "proof-material",
   "metadata": {
    "execution": {
     "iopub.execute_input": "2021-10-28T12:12:45.183701Z",
     "iopub.status.busy": "2021-10-28T12:12:45.183033Z",
     "iopub.status.idle": "2021-10-28T12:12:45.561611Z",
     "shell.execute_reply": "2021-10-28T12:12:45.560569Z"
    },
    "papermill": {
     "duration": 0.423072,
     "end_time": "2021-10-28T12:12:45.561781",
     "exception": false,
     "start_time": "2021-10-28T12:12:45.138709",
     "status": "completed"
    },
    "tags": []
   },
   "outputs": [],
   "source": [
    "#hide\n",
    "import numpy as np\n",
    "import pandas as pd\n",
    "from jinja2 import Template\n",
    "from IPython.display import HTML"
   ]
  },
  {
   "cell_type": "code",
   "execution_count": 2,
   "id": "developed-terminology",
   "metadata": {
    "execution": {
     "iopub.execute_input": "2021-10-28T12:12:45.635918Z",
     "iopub.status.busy": "2021-10-28T12:12:45.635284Z",
     "iopub.status.idle": "2021-10-28T12:12:45.639348Z",
     "shell.execute_reply": "2021-10-28T12:12:45.638405Z"
    },
    "papermill": {
     "duration": 0.042664,
     "end_time": "2021-10-28T12:12:45.639567",
     "exception": false,
     "start_time": "2021-10-28T12:12:45.596903",
     "status": "completed"
    },
    "tags": []
   },
   "outputs": [],
   "source": [
    "#hide\n",
    "\n",
    "# FETCH\n",
    "base_url = 'https://raw.githubusercontent.com/pratapvardhan/notebooks/master/covid19/'\n",
    "paths = {\n",
    "    'mapping': base_url + 'mapping_countries.csv',\n",
    "    'overview': base_url + 'overview.tpl'\n",
    "}"
   ]
  },
  {
   "cell_type": "code",
   "execution_count": 3,
   "id": "dynamic-saver",
   "metadata": {
    "execution": {
     "iopub.execute_input": "2021-10-28T12:12:45.727093Z",
     "iopub.status.busy": "2021-10-28T12:12:45.726273Z",
     "iopub.status.idle": "2021-10-28T12:12:45.728843Z",
     "shell.execute_reply": "2021-10-28T12:12:45.729388Z"
    },
    "papermill": {
     "duration": 0.05438,
     "end_time": "2021-10-28T12:12:45.729544",
     "exception": false,
     "start_time": "2021-10-28T12:12:45.675164",
     "status": "completed"
    },
    "tags": []
   },
   "outputs": [
    {
     "data": {
      "text/plain": [
       "'https://raw.githubusercontent.com/pratapvardhan/notebooks/master/covid19/mapping_countries.csv'"
      ]
     },
     "execution_count": 3,
     "metadata": {},
     "output_type": "execute_result"
    }
   ],
   "source": [
    "#hide\n",
    "paths['mapping']"
   ]
  },
  {
   "cell_type": "code",
   "execution_count": 4,
   "id": "urban-software",
   "metadata": {
    "execution": {
     "iopub.execute_input": "2021-10-28T12:12:45.804788Z",
     "iopub.status.busy": "2021-10-28T12:12:45.804166Z",
     "iopub.status.idle": "2021-10-28T12:12:45.807002Z",
     "shell.execute_reply": "2021-10-28T12:12:45.807457Z"
    },
    "papermill": {
     "duration": 0.042926,
     "end_time": "2021-10-28T12:12:45.807613",
     "exception": false,
     "start_time": "2021-10-28T12:12:45.764687",
     "status": "completed"
    },
    "tags": []
   },
   "outputs": [],
   "source": [
    "#hide\n",
    "def get_mappings(url):\n",
    "    df = pd.read_csv(url)\n",
    "    return {\n",
    "        'df': df,\n",
    "        'replace.country': dict(df.dropna(subset=['Name']).set_index('Country')['Name']),\n",
    "        'map.continent': dict(df.set_index('Name')['Continent'])\n",
    "    }"
   ]
  },
  {
   "cell_type": "code",
   "execution_count": 5,
   "id": "intimate-machinery",
   "metadata": {
    "execution": {
     "iopub.execute_input": "2021-10-28T12:12:45.881836Z",
     "iopub.status.busy": "2021-10-28T12:12:45.881224Z",
     "iopub.status.idle": "2021-10-28T12:12:45.914128Z",
     "shell.execute_reply": "2021-10-28T12:12:45.914630Z"
    },
    "papermill": {
     "duration": 0.073451,
     "end_time": "2021-10-28T12:12:45.914791",
     "exception": false,
     "start_time": "2021-10-28T12:12:45.841340",
     "status": "completed"
    },
    "tags": []
   },
   "outputs": [],
   "source": [
    "#hide\n",
    "mapping = get_mappings(paths['mapping'])"
   ]
  },
  {
   "cell_type": "code",
   "execution_count": 6,
   "id": "certified-tactics",
   "metadata": {
    "execution": {
     "iopub.execute_input": "2021-10-28T12:12:45.995139Z",
     "iopub.status.busy": "2021-10-28T12:12:45.994509Z",
     "iopub.status.idle": "2021-10-28T12:12:45.996855Z",
     "shell.execute_reply": "2021-10-28T12:12:45.996364Z"
    },
    "papermill": {
     "duration": 0.043866,
     "end_time": "2021-10-28T12:12:45.996978",
     "exception": false,
     "start_time": "2021-10-28T12:12:45.953112",
     "status": "completed"
    },
    "tags": []
   },
   "outputs": [],
   "source": [
    "#hide\n",
    "def get_template(path):\n",
    "    from urllib.parse import urlparse\n",
    "    if bool(urlparse(path).netloc):\n",
    "        from urllib.request import urlopen\n",
    "        return urlopen(path).read().decode('utf8')\n",
    "    return open(path).read()"
   ]
  },
  {
   "cell_type": "code",
   "execution_count": 7,
   "id": "realistic-blast",
   "metadata": {
    "execution": {
     "iopub.execute_input": "2021-10-28T12:12:46.071271Z",
     "iopub.status.busy": "2021-10-28T12:12:46.070335Z",
     "iopub.status.idle": "2021-10-28T12:12:46.072187Z",
     "shell.execute_reply": "2021-10-28T12:12:46.073052Z"
    },
    "papermill": {
     "duration": 0.042623,
     "end_time": "2021-10-28T12:12:46.073277",
     "exception": false,
     "start_time": "2021-10-28T12:12:46.030654",
     "status": "completed"
    },
    "tags": []
   },
   "outputs": [],
   "source": [
    "#hide\n",
    "def get_frame(name):\n",
    "    url = (\n",
    "        'https://raw.githubusercontent.com/CSSEGISandData/COVID-19/master/csse_covid_19_data/'\n",
    "        f'csse_covid_19_time_series/time_series_covid19_{name}_global.csv')\n",
    "    df = pd.read_csv(url)\n",
    "    # rename countries\n",
    "    df['Country/Region'] = df['Country/Region'].replace(mapping['replace.country'])\n",
    "    return df"
   ]
  },
  {
   "cell_type": "code",
   "execution_count": 8,
   "id": "affiliated-characterization",
   "metadata": {
    "execution": {
     "iopub.execute_input": "2021-10-28T12:12:46.154069Z",
     "iopub.status.busy": "2021-10-28T12:12:46.153451Z",
     "iopub.status.idle": "2021-10-28T12:12:46.155345Z",
     "shell.execute_reply": "2021-10-28T12:12:46.155874Z"
    },
    "papermill": {
     "duration": 0.044657,
     "end_time": "2021-10-28T12:12:46.156076",
     "exception": false,
     "start_time": "2021-10-28T12:12:46.111419",
     "status": "completed"
    },
    "tags": []
   },
   "outputs": [],
   "source": [
    "#hide\n",
    "def get_dates(df):\n",
    "    dt_cols = df.columns[~df.columns.isin(['Province/State', 'Country/Region', 'Lat', 'Long'])]\n",
    "    LAST_DATE_I = -1\n",
    "    # sometimes last column may be empty, then go backwards\n",
    "    for i in range(-1, -len(dt_cols), -1):\n",
    "        if not df[dt_cols[i]].fillna(0).eq(0).all():\n",
    "            LAST_DATE_I = i\n",
    "            break\n",
    "    return LAST_DATE_I, dt_cols"
   ]
  },
  {
   "cell_type": "code",
   "execution_count": 9,
   "id": "recent-optimization",
   "metadata": {
    "execution": {
     "iopub.execute_input": "2021-10-28T12:12:46.233575Z",
     "iopub.status.busy": "2021-10-28T12:12:46.232953Z",
     "iopub.status.idle": "2021-10-28T12:12:46.574599Z",
     "shell.execute_reply": "2021-10-28T12:12:46.575155Z"
    },
    "papermill": {
     "duration": 0.383029,
     "end_time": "2021-10-28T12:12:46.575325",
     "exception": false,
     "start_time": "2021-10-28T12:12:46.192296",
     "status": "completed"
    },
    "tags": []
   },
   "outputs": [],
   "source": [
    "#hide\n",
    "COL_REGION = 'Country/Region'\n",
    "# Confirmed, Recovered, Deaths\n",
    "df = get_frame('confirmed')\n",
    "# dft_: timeseries, dfc_: today country agg\n",
    "dft_cases = df\n",
    "dft_deaths = get_frame('deaths')\n",
    "dft_recovered = get_frame('recovered')\n",
    "LAST_DATE_I, dt_cols = get_dates(df)"
   ]
  },
  {
   "cell_type": "code",
   "execution_count": 10,
   "id": "absolute-copper",
   "metadata": {
    "execution": {
     "iopub.execute_input": "2021-10-28T12:12:46.658823Z",
     "iopub.status.busy": "2021-10-28T12:12:46.658208Z",
     "iopub.status.idle": "2021-10-28T12:12:46.660556Z",
     "shell.execute_reply": "2021-10-28T12:12:46.659986Z"
    },
    "papermill": {
     "duration": 0.045446,
     "end_time": "2021-10-28T12:12:46.660691",
     "exception": false,
     "start_time": "2021-10-28T12:12:46.615245",
     "status": "completed"
    },
    "tags": []
   },
   "outputs": [],
   "source": [
    "#hide\n",
    "LAST_DATE_I, dt_cols = get_dates(df)\n",
    "dt_today =dt_cols[LAST_DATE_I]\n",
    "# dt_5day = dt_cols[LAST_DATE_I - 5]\n",
    "dt_yday = dt_cols[LAST_DATE_I - 1]"
   ]
  },
  {
   "cell_type": "code",
   "execution_count": 11,
   "id": "restricted-sheriff",
   "metadata": {
    "execution": {
     "iopub.execute_input": "2021-10-28T12:12:46.746322Z",
     "iopub.status.busy": "2021-10-28T12:12:46.745689Z",
     "iopub.status.idle": "2021-10-28T12:12:46.753926Z",
     "shell.execute_reply": "2021-10-28T12:12:46.753209Z"
    },
    "papermill": {
     "duration": 0.051924,
     "end_time": "2021-10-28T12:12:46.754067",
     "exception": false,
     "start_time": "2021-10-28T12:12:46.702143",
     "status": "completed"
    },
    "tags": []
   },
   "outputs": [],
   "source": [
    "#hide\n",
    "dfc_cases = dft_cases.groupby(COL_REGION)[dt_today].sum()\n",
    "dfc_deaths = dft_deaths.groupby(COL_REGION)[dt_today].sum()\n",
    "# dfp_cases = dft_cases.groupby(COL_REGION)[dt_5day].sum()\n",
    "# dfp_deaths = dft_deaths.groupby(COL_REGION)[dt_5day].sum()\n",
    "dfp_cases = dft_cases.groupby(COL_REGION)[dt_yday].sum()\n",
    "dfp_deaths = dft_deaths.groupby(COL_REGION)[dt_yday].sum()"
   ]
  },
  {
   "cell_type": "code",
   "execution_count": 12,
   "id": "deluxe-hepatitis",
   "metadata": {
    "execution": {
     "iopub.execute_input": "2021-10-28T12:12:46.837573Z",
     "iopub.status.busy": "2021-10-28T12:12:46.836919Z",
     "iopub.status.idle": "2021-10-28T12:12:46.843291Z",
     "shell.execute_reply": "2021-10-28T12:12:46.842741Z"
    },
    "papermill": {
     "duration": 0.050363,
     "end_time": "2021-10-28T12:12:46.843423",
     "exception": false,
     "start_time": "2021-10-28T12:12:46.793060",
     "status": "completed"
    },
    "tags": []
   },
   "outputs": [],
   "source": [
    "#hide\n",
    "df_table = (pd.DataFrame(dict(Cases = dfc_cases, Deaths = dfc_deaths, PCases = dfp_cases, PDeaths = dfp_deaths))\n",
    "            .sort_values(by = ['Cases','Deaths'], ascending = [False, False])\n",
    "            .reset_index())"
   ]
  },
  {
   "cell_type": "code",
   "execution_count": 13,
   "id": "educational-chancellor",
   "metadata": {
    "execution": {
     "iopub.execute_input": "2021-10-28T12:12:46.948842Z",
     "iopub.status.busy": "2021-10-28T12:12:46.942457Z",
     "iopub.status.idle": "2021-10-28T12:12:46.952267Z",
     "shell.execute_reply": "2021-10-28T12:12:46.951761Z"
    },
    "papermill": {
     "duration": 0.07285,
     "end_time": "2021-10-28T12:12:46.952392",
     "exception": false,
     "start_time": "2021-10-28T12:12:46.879542",
     "status": "completed"
    },
    "tags": []
   },
   "outputs": [
    {
     "data": {
      "text/html": [
       "<div>\n",
       "<style scoped>\n",
       "    .dataframe tbody tr th:only-of-type {\n",
       "        vertical-align: middle;\n",
       "    }\n",
       "\n",
       "    .dataframe tbody tr th {\n",
       "        vertical-align: top;\n",
       "    }\n",
       "\n",
       "    .dataframe thead th {\n",
       "        text-align: right;\n",
       "    }\n",
       "</style>\n",
       "<table border=\"1\" class=\"dataframe\">\n",
       "  <thead>\n",
       "    <tr style=\"text-align: right;\">\n",
       "      <th></th>\n",
       "      <th>Country/Region</th>\n",
       "      <th>Cases</th>\n",
       "      <th>Deaths</th>\n",
       "      <th>PCases</th>\n",
       "      <th>PDeaths</th>\n",
       "      <th>Cases (+)</th>\n",
       "      <th>Deaths (+)</th>\n",
       "      <th>Fatality Rate</th>\n",
       "      <th>Continent</th>\n",
       "    </tr>\n",
       "  </thead>\n",
       "  <tbody>\n",
       "    <tr>\n",
       "      <th>0</th>\n",
       "      <td>US</td>\n",
       "      <td>45703978</td>\n",
       "      <td>741231</td>\n",
       "      <td>45627021</td>\n",
       "      <td>739090</td>\n",
       "      <td>76957</td>\n",
       "      <td>2141</td>\n",
       "      <td>1.62</td>\n",
       "      <td>North America</td>\n",
       "    </tr>\n",
       "    <tr>\n",
       "      <th>1</th>\n",
       "      <td>India</td>\n",
       "      <td>34231809</td>\n",
       "      <td>456386</td>\n",
       "      <td>34215653</td>\n",
       "      <td>455653</td>\n",
       "      <td>16156</td>\n",
       "      <td>733</td>\n",
       "      <td>1.33</td>\n",
       "      <td>Asia</td>\n",
       "    </tr>\n",
       "    <tr>\n",
       "      <th>2</th>\n",
       "      <td>Brazil</td>\n",
       "      <td>21766168</td>\n",
       "      <td>606679</td>\n",
       "      <td>21748984</td>\n",
       "      <td>606246</td>\n",
       "      <td>17184</td>\n",
       "      <td>433</td>\n",
       "      <td>2.79</td>\n",
       "      <td>South America</td>\n",
       "    </tr>\n",
       "    <tr>\n",
       "      <th>3</th>\n",
       "      <td>United Kingdom</td>\n",
       "      <td>8938965</td>\n",
       "      <td>140462</td>\n",
       "      <td>8894843</td>\n",
       "      <td>140253</td>\n",
       "      <td>44122</td>\n",
       "      <td>209</td>\n",
       "      <td>1.57</td>\n",
       "      <td>Europe</td>\n",
       "    </tr>\n",
       "    <tr>\n",
       "      <th>4</th>\n",
       "      <td>Russia</td>\n",
       "      <td>8220975</td>\n",
       "      <td>229672</td>\n",
       "      <td>8185400</td>\n",
       "      <td>228581</td>\n",
       "      <td>35575</td>\n",
       "      <td>1091</td>\n",
       "      <td>2.79</td>\n",
       "      <td>Europe</td>\n",
       "    </tr>\n",
       "  </tbody>\n",
       "</table>\n",
       "</div>"
      ],
      "text/plain": [
       "   Country/Region     Cases  Deaths    PCases  PDeaths  Cases (+)  Deaths (+)  \\\n",
       "0              US  45703978  741231  45627021   739090      76957        2141   \n",
       "1           India  34231809  456386  34215653   455653      16156         733   \n",
       "2          Brazil  21766168  606679  21748984   606246      17184         433   \n",
       "3  United Kingdom   8938965  140462   8894843   140253      44122         209   \n",
       "4          Russia   8220975  229672   8185400   228581      35575        1091   \n",
       "\n",
       "   Fatality Rate      Continent  \n",
       "0           1.62  North America  \n",
       "1           1.33           Asia  \n",
       "2           2.79  South America  \n",
       "3           1.57         Europe  \n",
       "4           2.79         Europe  "
      ]
     },
     "execution_count": 13,
     "metadata": {},
     "output_type": "execute_result"
    }
   ],
   "source": [
    "#hide\n",
    "for c in 'Cases, Deaths'.split(', '):\n",
    "    df_table[f'{c} (+)'] = (df_table[c] - df_table[f'P{c}']).clip(0)\n",
    "    #Clip ça veut dire, les chiffres negatif sont interdit\n",
    "df_table['Fatality Rate'] = (100* df_table['Deaths']/ df_table['Cases']).round(2)\n",
    "df_table['Continent'] = df_table['Country/Region'].map(mapping['map.continent'])\n",
    "df_table.head(5)"
   ]
  },
  {
   "cell_type": "code",
   "execution_count": 14,
   "id": "aboriginal-bulgaria",
   "metadata": {
    "execution": {
     "iopub.execute_input": "2021-10-28T12:12:47.036795Z",
     "iopub.status.busy": "2021-10-28T12:12:47.036188Z",
     "iopub.status.idle": "2021-10-28T12:12:47.038387Z",
     "shell.execute_reply": "2021-10-28T12:12:47.037877Z"
    },
    "papermill": {
     "duration": 0.04976,
     "end_time": "2021-10-28T12:12:47.038516",
     "exception": false,
     "start_time": "2021-10-28T12:12:46.988756",
     "status": "completed"
    },
    "tags": []
   },
   "outputs": [],
   "source": [
    "#hide\n",
    "#delete problematic countries from table\n",
    "df_table = df_table[~df_table['Country/Region'].isin(['Cape Verde', 'Cruise Ship', 'Kosovo'])]"
   ]
  },
  {
   "cell_type": "code",
   "execution_count": 15,
   "id": "fantastic-effect",
   "metadata": {
    "execution": {
     "iopub.execute_input": "2021-10-28T12:12:47.117380Z",
     "iopub.status.busy": "2021-10-28T12:12:47.115889Z",
     "iopub.status.idle": "2021-10-28T12:12:47.136620Z",
     "shell.execute_reply": "2021-10-28T12:12:47.137185Z"
    },
    "papermill": {
     "duration": 0.064563,
     "end_time": "2021-10-28T12:12:47.137337",
     "exception": false,
     "start_time": "2021-10-28T12:12:47.072774",
     "status": "completed"
    },
    "tags": []
   },
   "outputs": [
    {
     "data": {
      "text/html": [
       "<div>\n",
       "<style scoped>\n",
       "    .dataframe tbody tr th:only-of-type {\n",
       "        vertical-align: middle;\n",
       "    }\n",
       "\n",
       "    .dataframe tbody tr th {\n",
       "        vertical-align: top;\n",
       "    }\n",
       "\n",
       "    .dataframe thead th {\n",
       "        text-align: right;\n",
       "    }\n",
       "</style>\n",
       "<table border=\"1\" class=\"dataframe\">\n",
       "  <thead>\n",
       "    <tr style=\"text-align: right;\">\n",
       "      <th></th>\n",
       "      <th>Country/Region</th>\n",
       "      <th>Cases</th>\n",
       "      <th>Deaths</th>\n",
       "      <th>PCases</th>\n",
       "      <th>PDeaths</th>\n",
       "      <th>Cases (+)</th>\n",
       "      <th>Deaths (+)</th>\n",
       "      <th>Fatality Rate</th>\n",
       "      <th>Continent</th>\n",
       "    </tr>\n",
       "  </thead>\n",
       "  <tbody>\n",
       "    <tr>\n",
       "      <th>0</th>\n",
       "      <td>US</td>\n",
       "      <td>45703978</td>\n",
       "      <td>741231</td>\n",
       "      <td>45627021</td>\n",
       "      <td>739090</td>\n",
       "      <td>76957</td>\n",
       "      <td>2141</td>\n",
       "      <td>1.6</td>\n",
       "      <td>North America</td>\n",
       "    </tr>\n",
       "    <tr>\n",
       "      <th>1</th>\n",
       "      <td>India</td>\n",
       "      <td>34231809</td>\n",
       "      <td>456386</td>\n",
       "      <td>34215653</td>\n",
       "      <td>455653</td>\n",
       "      <td>16156</td>\n",
       "      <td>733</td>\n",
       "      <td>1.3</td>\n",
       "      <td>Asia</td>\n",
       "    </tr>\n",
       "    <tr>\n",
       "      <th>2</th>\n",
       "      <td>Brazil</td>\n",
       "      <td>21766168</td>\n",
       "      <td>606679</td>\n",
       "      <td>21748984</td>\n",
       "      <td>606246</td>\n",
       "      <td>17184</td>\n",
       "      <td>433</td>\n",
       "      <td>2.8</td>\n",
       "      <td>South America</td>\n",
       "    </tr>\n",
       "    <tr>\n",
       "      <th>3</th>\n",
       "      <td>United Kingdom</td>\n",
       "      <td>8938965</td>\n",
       "      <td>140462</td>\n",
       "      <td>8894843</td>\n",
       "      <td>140253</td>\n",
       "      <td>44122</td>\n",
       "      <td>209</td>\n",
       "      <td>1.6</td>\n",
       "      <td>Europe</td>\n",
       "    </tr>\n",
       "    <tr>\n",
       "      <th>4</th>\n",
       "      <td>Russia</td>\n",
       "      <td>8220975</td>\n",
       "      <td>229672</td>\n",
       "      <td>8185400</td>\n",
       "      <td>228581</td>\n",
       "      <td>35575</td>\n",
       "      <td>1091</td>\n",
       "      <td>2.8</td>\n",
       "      <td>Europe</td>\n",
       "    </tr>\n",
       "  </tbody>\n",
       "</table>\n",
       "</div>"
      ],
      "text/plain": [
       "   Country/Region     Cases  Deaths    PCases  PDeaths  Cases (+)  Deaths (+)  \\\n",
       "0              US  45703978  741231  45627021   739090      76957        2141   \n",
       "1           India  34231809  456386  34215653   455653      16156         733   \n",
       "2          Brazil  21766168  606679  21748984   606246      17184         433   \n",
       "3  United Kingdom   8938965  140462   8894843   140253      44122         209   \n",
       "4          Russia   8220975  229672   8185400   228581      35575        1091   \n",
       "\n",
       "   Fatality Rate      Continent  \n",
       "0            1.6  North America  \n",
       "1            1.3           Asia  \n",
       "2            2.8  South America  \n",
       "3            1.6         Europe  \n",
       "4            2.8         Europe  "
      ]
     },
     "execution_count": 15,
     "metadata": {},
     "output_type": "execute_result"
    }
   ],
   "source": [
    "#hide\n",
    "df_table = (pd.DataFrame(dict(Cases=dfc_cases, Deaths=dfc_deaths, PCases=dfp_cases, PDeaths=dfp_deaths))\n",
    "             .sort_values(by=['Cases', 'Deaths'], ascending=[False, False])\n",
    "             .reset_index())\n",
    "df_table.rename(columns={'index': 'Country/Region'}, inplace=True)\n",
    "for c in 'Cases, Deaths'.split(', '):\n",
    "    df_table[f'{c} (+)'] = (df_table[c] - df_table[f'P{c}']).clip(0)  # DATA BUG\n",
    "df_table['Fatality Rate'] = (100 * df_table['Deaths'] / df_table['Cases']).round(1)\n",
    "df_table['Continent'] = df_table['Country/Region'].map(mapping['map.continent'])\n",
    "df_table.head(5)"
   ]
  },
  {
   "cell_type": "code",
   "execution_count": 16,
   "id": "fewer-occasion",
   "metadata": {
    "execution": {
     "iopub.execute_input": "2021-10-28T12:12:47.216132Z",
     "iopub.status.busy": "2021-10-28T12:12:47.215413Z",
     "iopub.status.idle": "2021-10-28T12:12:47.216902Z",
     "shell.execute_reply": "2021-10-28T12:12:47.217525Z"
    },
    "papermill": {
     "duration": 0.045402,
     "end_time": "2021-10-28T12:12:47.217688",
     "exception": false,
     "start_time": "2021-10-28T12:12:47.172286",
     "status": "completed"
    },
    "tags": []
   },
   "outputs": [],
   "source": [
    "#hide\n",
    "#delete problematic countries from table\n",
    "df_table = df_table[~df_table['Country/Region'].isin(['Cape Verde', 'Cruise Ship', 'Kosovo'])]"
   ]
  },
  {
   "cell_type": "code",
   "execution_count": 17,
   "id": "related-center",
   "metadata": {
    "execution": {
     "iopub.execute_input": "2021-10-28T12:12:47.301149Z",
     "iopub.status.busy": "2021-10-28T12:12:47.300547Z",
     "iopub.status.idle": "2021-10-28T12:12:47.315095Z",
     "shell.execute_reply": "2021-10-28T12:12:47.315576Z"
    },
    "papermill": {
     "duration": 0.058048,
     "end_time": "2021-10-28T12:12:47.315740",
     "exception": false,
     "start_time": "2021-10-28T12:12:47.257692",
     "status": "completed"
    },
    "tags": []
   },
   "outputs": [],
   "source": [
    "#hide\n",
    "metrics = [df_table.columns[index] for index in [1,2,5,6]]\n",
    "# s_china = df_table[df_table['Country/Region'].eq('China')][metrics].sum().add_prefix('China ')\n",
    "s_us = df_table[df_table['Country/Region'].eq('US')][metrics].sum().add_prefix('US ')\n",
    "s_eu = df_table[df_table['Continent'].eq('Europe')][metrics].sum().add_prefix('EU ')\n",
    "s_ind = df_table[df_table['Country/Region'].eq('India')][metrics].sum().add_prefix('India ')\n",
    "summary = {'updated': pd.to_datetime(dt_today), 'since': pd.to_datetime(dt_yday)}\n",
    "summary = {'updated': pd.to_datetime(dt_today), 'since': pd.to_datetime(dt_yday)}\n",
    "summary = {**summary, **df_table[metrics].sum(), **s_ind, **s_us, **s_eu}"
   ]
  },
  {
   "cell_type": "code",
   "execution_count": 18,
   "id": "engaging-syndrome",
   "metadata": {
    "execution": {
     "iopub.execute_input": "2021-10-28T12:12:47.390861Z",
     "iopub.status.busy": "2021-10-28T12:12:47.390251Z",
     "iopub.status.idle": "2021-10-28T12:12:47.405873Z",
     "shell.execute_reply": "2021-10-28T12:12:47.405378Z"
    },
    "papermill": {
     "duration": 0.055621,
     "end_time": "2021-10-28T12:12:47.406009",
     "exception": false,
     "start_time": "2021-10-28T12:12:47.350388",
     "status": "completed"
    },
    "tags": []
   },
   "outputs": [],
   "source": [
    "#hide\n",
    "dft_ct_new_cases = dft_cases.groupby(COL_REGION)[dt_cols].sum().diff(axis=1).fillna(0).astype(int)"
   ]
  },
  {
   "cell_type": "code",
   "execution_count": 19,
   "id": "neutral-assignment",
   "metadata": {
    "execution": {
     "iopub.execute_input": "2021-10-28T12:12:47.483334Z",
     "iopub.status.busy": "2021-10-28T12:12:47.482679Z",
     "iopub.status.idle": "2021-10-28T12:12:47.484882Z",
     "shell.execute_reply": "2021-10-28T12:12:47.484298Z"
    },
    "papermill": {
     "duration": 0.044333,
     "end_time": "2021-10-28T12:12:47.485010",
     "exception": false,
     "start_time": "2021-10-28T12:12:47.440677",
     "status": "completed"
    },
    "tags": []
   },
   "outputs": [],
   "source": [
    "#hide\n",
    "everydaycases = dft_ct_new_cases.cumsum(axis=1)"
   ]
  },
  {
   "cell_type": "code",
   "execution_count": 20,
   "id": "parliamentary-calgary",
   "metadata": {
    "execution": {
     "iopub.execute_input": "2021-10-28T12:12:47.571612Z",
     "iopub.status.busy": "2021-10-28T12:12:47.570952Z",
     "iopub.status.idle": "2021-10-28T12:12:48.310531Z",
     "shell.execute_reply": "2021-10-28T12:12:48.311056Z"
    },
    "papermill": {
     "duration": 0.784866,
     "end_time": "2021-10-28T12:12:48.311233",
     "exception": false,
     "start_time": "2021-10-28T12:12:47.526367",
     "status": "completed"
    },
    "tags": []
   },
   "outputs": [],
   "source": [
    "#hide\n",
    "import pandas as pd\n",
    "import matplotlib.pyplot as plt\n",
    "import matplotlib.ticker as ticker\n",
    "import matplotlib.animation as animation\n",
    "from IPython.display import HTML"
   ]
  },
  {
   "cell_type": "code",
   "execution_count": 21,
   "id": "lasting-extraction",
   "metadata": {
    "execution": {
     "iopub.execute_input": "2021-10-28T12:12:48.405109Z",
     "iopub.status.busy": "2021-10-28T12:12:48.404476Z",
     "iopub.status.idle": "2021-10-28T12:12:48.414037Z",
     "shell.execute_reply": "2021-10-28T12:12:48.412367Z"
    },
    "papermill": {
     "duration": 0.058313,
     "end_time": "2021-10-28T12:12:48.414195",
     "exception": false,
     "start_time": "2021-10-28T12:12:48.355882",
     "status": "completed"
    },
    "tags": []
   },
   "outputs": [],
   "source": [
    "#hide\n",
    "t = everydaycases.stack()"
   ]
  },
  {
   "cell_type": "code",
   "execution_count": 22,
   "id": "premier-sleeve",
   "metadata": {
    "execution": {
     "iopub.execute_input": "2021-10-28T12:12:48.521933Z",
     "iopub.status.busy": "2021-10-28T12:12:48.520849Z",
     "iopub.status.idle": "2021-10-28T12:12:48.531490Z",
     "shell.execute_reply": "2021-10-28T12:12:48.531969Z"
    },
    "papermill": {
     "duration": 0.067219,
     "end_time": "2021-10-28T12:12:48.532135",
     "exception": false,
     "start_time": "2021-10-28T12:12:48.464916",
     "status": "completed"
    },
    "tags": []
   },
   "outputs": [],
   "source": [
    "#hide\n",
    "g = t.reset_index(['Country/Region'])"
   ]
  },
  {
   "cell_type": "code",
   "execution_count": 23,
   "id": "distributed-pittsburgh",
   "metadata": {
    "execution": {
     "iopub.execute_input": "2021-10-28T12:12:48.606731Z",
     "iopub.status.busy": "2021-10-28T12:12:48.606122Z",
     "iopub.status.idle": "2021-10-28T12:12:48.608024Z",
     "shell.execute_reply": "2021-10-28T12:12:48.608496Z"
    },
    "papermill": {
     "duration": 0.041365,
     "end_time": "2021-10-28T12:12:48.608643",
     "exception": false,
     "start_time": "2021-10-28T12:12:48.567278",
     "status": "completed"
    },
    "tags": []
   },
   "outputs": [],
   "source": [
    "#hide\n",
    "g.index.name = 'date'"
   ]
  },
  {
   "cell_type": "code",
   "execution_count": 24,
   "id": "naked-donor",
   "metadata": {
    "execution": {
     "iopub.execute_input": "2021-10-28T12:12:48.682435Z",
     "iopub.status.busy": "2021-10-28T12:12:48.681820Z",
     "iopub.status.idle": "2021-10-28T12:12:48.684621Z",
     "shell.execute_reply": "2021-10-28T12:12:48.684140Z"
    },
    "papermill": {
     "duration": 0.041522,
     "end_time": "2021-10-28T12:12:48.684751",
     "exception": false,
     "start_time": "2021-10-28T12:12:48.643229",
     "status": "completed"
    },
    "tags": []
   },
   "outputs": [],
   "source": [
    "# #hide\n",
    "# g = g.reset_index(['date'])"
   ]
  },
  {
   "cell_type": "code",
   "execution_count": 25,
   "id": "incomplete-mustang",
   "metadata": {
    "execution": {
     "iopub.execute_input": "2021-10-28T12:12:48.758392Z",
     "iopub.status.busy": "2021-10-28T12:12:48.757788Z",
     "iopub.status.idle": "2021-10-28T12:12:48.760060Z",
     "shell.execute_reply": "2021-10-28T12:12:48.759562Z"
    },
    "papermill": {
     "duration": 0.040673,
     "end_time": "2021-10-28T12:12:48.760186",
     "exception": false,
     "start_time": "2021-10-28T12:12:48.719513",
     "status": "completed"
    },
    "tags": []
   },
   "outputs": [],
   "source": [
    "#hide\n",
    "# g.head()"
   ]
  },
  {
   "cell_type": "code",
   "execution_count": 26,
   "id": "specific-kruger",
   "metadata": {
    "execution": {
     "iopub.execute_input": "2021-10-28T12:12:48.834562Z",
     "iopub.status.busy": "2021-10-28T12:12:48.833947Z",
     "iopub.status.idle": "2021-10-28T12:12:48.835769Z",
     "shell.execute_reply": "2021-10-28T12:12:48.836243Z"
    },
    "papermill": {
     "duration": 0.041711,
     "end_time": "2021-10-28T12:12:48.836392",
     "exception": false,
     "start_time": "2021-10-28T12:12:48.794681",
     "status": "completed"
    },
    "tags": []
   },
   "outputs": [],
   "source": [
    "#hide\n",
    "# g.columns = ['date','country','cases']"
   ]
  },
  {
   "cell_type": "code",
   "execution_count": 27,
   "id": "tender-conversion",
   "metadata": {
    "execution": {
     "iopub.execute_input": "2021-10-28T12:12:48.910063Z",
     "iopub.status.busy": "2021-10-28T12:12:48.909455Z",
     "iopub.status.idle": "2021-10-28T12:12:48.913432Z",
     "shell.execute_reply": "2021-10-28T12:12:48.912921Z"
    },
    "papermill": {
     "duration": 0.042301,
     "end_time": "2021-10-28T12:12:48.913562",
     "exception": false,
     "start_time": "2021-10-28T12:12:48.871261",
     "status": "completed"
    },
    "tags": []
   },
   "outputs": [],
   "source": [
    "#hide\n",
    "# g['continent'] = g.country"
   ]
  },
  {
   "cell_type": "code",
   "execution_count": 28,
   "id": "substantial-wilderness",
   "metadata": {
    "execution": {
     "iopub.execute_input": "2021-10-28T12:12:48.987500Z",
     "iopub.status.busy": "2021-10-28T12:12:48.986850Z",
     "iopub.status.idle": "2021-10-28T12:12:48.990082Z",
     "shell.execute_reply": "2021-10-28T12:12:48.989576Z"
    },
    "papermill": {
     "duration": 0.04192,
     "end_time": "2021-10-28T12:12:48.990209",
     "exception": false,
     "start_time": "2021-10-28T12:12:48.948289",
     "status": "completed"
    },
    "tags": []
   },
   "outputs": [],
   "source": [
    "#hide\n",
    "# cols = list(g.columns.values)"
   ]
  },
  {
   "cell_type": "code",
   "execution_count": 29,
   "id": "solved-farming",
   "metadata": {
    "execution": {
     "iopub.execute_input": "2021-10-28T12:12:49.063977Z",
     "iopub.status.busy": "2021-10-28T12:12:49.063351Z",
     "iopub.status.idle": "2021-10-28T12:12:49.065195Z",
     "shell.execute_reply": "2021-10-28T12:12:49.065670Z"
    },
    "papermill": {
     "duration": 0.040849,
     "end_time": "2021-10-28T12:12:49.065819",
     "exception": false,
     "start_time": "2021-10-28T12:12:49.024970",
     "status": "completed"
    },
    "tags": []
   },
   "outputs": [],
   "source": [
    "#hide\n",
    "# cols.insert(0, cols.pop())"
   ]
  },
  {
   "cell_type": "code",
   "execution_count": 30,
   "id": "executed-adoption",
   "metadata": {
    "execution": {
     "iopub.execute_input": "2021-10-28T12:12:49.143518Z",
     "iopub.status.busy": "2021-10-28T12:12:49.142861Z",
     "iopub.status.idle": "2021-10-28T12:12:49.145609Z",
     "shell.execute_reply": "2021-10-28T12:12:49.145123Z"
    },
    "papermill": {
     "duration": 0.045007,
     "end_time": "2021-10-28T12:12:49.145742",
     "exception": false,
     "start_time": "2021-10-28T12:12:49.100735",
     "status": "completed"
    },
    "tags": []
   },
   "outputs": [],
   "source": [
    "#hide\n",
    "# g = g[cols]"
   ]
  },
  {
   "cell_type": "code",
   "execution_count": 31,
   "id": "subject-dublin",
   "metadata": {
    "execution": {
     "iopub.execute_input": "2021-10-28T12:12:49.220605Z",
     "iopub.status.busy": "2021-10-28T12:12:49.219992Z",
     "iopub.status.idle": "2021-10-28T12:12:49.221947Z",
     "shell.execute_reply": "2021-10-28T12:12:49.222393Z"
    },
    "papermill": {
     "duration": 0.041647,
     "end_time": "2021-10-28T12:12:49.222547",
     "exception": false,
     "start_time": "2021-10-28T12:12:49.180900",
     "status": "completed"
    },
    "tags": []
   },
   "outputs": [],
   "source": [
    "#hide\n",
    "# g['continent'] = g['continent'].map(mapping['map.continent'])"
   ]
  },
  {
   "cell_type": "code",
   "execution_count": 32,
   "id": "freelance-scout",
   "metadata": {
    "execution": {
     "iopub.execute_input": "2021-10-28T12:12:49.297056Z",
     "iopub.status.busy": "2021-10-28T12:12:49.296457Z",
     "iopub.status.idle": "2021-10-28T12:12:49.299292Z",
     "shell.execute_reply": "2021-10-28T12:12:49.298783Z"
    },
    "papermill": {
     "duration": 0.04222,
     "end_time": "2021-10-28T12:12:49.299426",
     "exception": false,
     "start_time": "2021-10-28T12:12:49.257206",
     "status": "completed"
    },
    "tags": []
   },
   "outputs": [],
   "source": [
    "#hide\n",
    "# g.head()"
   ]
  },
  {
   "cell_type": "code",
   "execution_count": 33,
   "id": "limited-engine",
   "metadata": {
    "execution": {
     "iopub.execute_input": "2021-10-28T12:12:49.373107Z",
     "iopub.status.busy": "2021-10-28T12:12:49.372502Z",
     "iopub.status.idle": "2021-10-28T12:12:49.374849Z",
     "shell.execute_reply": "2021-10-28T12:12:49.374347Z"
    },
    "papermill": {
     "duration": 0.040798,
     "end_time": "2021-10-28T12:12:49.374996",
     "exception": false,
     "start_time": "2021-10-28T12:12:49.334198",
     "status": "completed"
    },
    "tags": []
   },
   "outputs": [],
   "source": [
    "# hide\n",
    "# g['date'] = g['date'].astype('datetime64[ns]')"
   ]
  },
  {
   "cell_type": "code",
   "execution_count": 34,
   "id": "sophisticated-supervisor",
   "metadata": {
    "execution": {
     "iopub.execute_input": "2021-10-28T12:12:49.448482Z",
     "iopub.status.busy": "2021-10-28T12:12:49.447880Z",
     "iopub.status.idle": "2021-10-28T12:12:49.450229Z",
     "shell.execute_reply": "2021-10-28T12:12:49.450703Z"
    },
    "papermill": {
     "duration": 0.041292,
     "end_time": "2021-10-28T12:12:49.450853",
     "exception": false,
     "start_time": "2021-10-28T12:12:49.409561",
     "status": "completed"
    },
    "tags": []
   },
   "outputs": [],
   "source": [
    "#hide\n",
    "# g['date'] = g.date.dt.dayofyear"
   ]
  },
  {
   "cell_type": "code",
   "execution_count": 35,
   "id": "inside-dubai",
   "metadata": {
    "execution": {
     "iopub.execute_input": "2021-10-28T12:12:49.525001Z",
     "iopub.status.busy": "2021-10-28T12:12:49.524392Z",
     "iopub.status.idle": "2021-10-28T12:12:49.527306Z",
     "shell.execute_reply": "2021-10-28T12:12:49.527815Z"
    },
    "papermill": {
     "duration": 0.042355,
     "end_time": "2021-10-28T12:12:49.527964",
     "exception": false,
     "start_time": "2021-10-28T12:12:49.485609",
     "status": "completed"
    },
    "tags": []
   },
   "outputs": [],
   "source": [
    "#hide\n",
    "# g = g.rename(columns= {'continent':'group','country':'name','cases':'value'})"
   ]
  },
  {
   "cell_type": "code",
   "execution_count": 36,
   "id": "fleet-motorcycle",
   "metadata": {
    "execution": {
     "iopub.execute_input": "2021-10-28T12:12:49.601902Z",
     "iopub.status.busy": "2021-10-28T12:12:49.601297Z",
     "iopub.status.idle": "2021-10-28T12:12:49.603531Z",
     "shell.execute_reply": "2021-10-28T12:12:49.604079Z"
    },
    "papermill": {
     "duration": 0.041718,
     "end_time": "2021-10-28T12:12:49.604227",
     "exception": false,
     "start_time": "2021-10-28T12:12:49.562509",
     "status": "completed"
    },
    "tags": []
   },
   "outputs": [],
   "source": [
    "#hide\n",
    "# cols = ['name','group','day','value']"
   ]
  },
  {
   "cell_type": "code",
   "execution_count": 37,
   "id": "continued-sleeping",
   "metadata": {
    "execution": {
     "iopub.execute_input": "2021-10-28T12:12:49.678682Z",
     "iopub.status.busy": "2021-10-28T12:12:49.678024Z",
     "iopub.status.idle": "2021-10-28T12:12:49.680686Z",
     "shell.execute_reply": "2021-10-28T12:12:49.680201Z"
    },
    "papermill": {
     "duration": 0.041815,
     "end_time": "2021-10-28T12:12:49.680817",
     "exception": false,
     "start_time": "2021-10-28T12:12:49.639002",
     "status": "completed"
    },
    "tags": []
   },
   "outputs": [],
   "source": [
    "#hide\n",
    "# g.rename(columns= {'date':'day'},inplace = True)"
   ]
  },
  {
   "cell_type": "code",
   "execution_count": 38,
   "id": "major-fight",
   "metadata": {
    "execution": {
     "iopub.execute_input": "2021-10-28T12:12:49.754406Z",
     "iopub.status.busy": "2021-10-28T12:12:49.753800Z",
     "iopub.status.idle": "2021-10-28T12:12:49.756024Z",
     "shell.execute_reply": "2021-10-28T12:12:49.755434Z"
    },
    "papermill": {
     "duration": 0.040435,
     "end_time": "2021-10-28T12:12:49.756155",
     "exception": false,
     "start_time": "2021-10-28T12:12:49.715720",
     "status": "completed"
    },
    "tags": []
   },
   "outputs": [],
   "source": [
    "#hide\n",
    "# g = g[cols]"
   ]
  },
  {
   "cell_type": "code",
   "execution_count": 39,
   "id": "structured-mobile",
   "metadata": {
    "execution": {
     "iopub.execute_input": "2021-10-28T12:12:49.829842Z",
     "iopub.status.busy": "2021-10-28T12:12:49.829238Z",
     "iopub.status.idle": "2021-10-28T12:12:49.831555Z",
     "shell.execute_reply": "2021-10-28T12:12:49.831047Z"
    },
    "papermill": {
     "duration": 0.040862,
     "end_time": "2021-10-28T12:12:49.831682",
     "exception": false,
     "start_time": "2021-10-28T12:12:49.790820",
     "status": "completed"
    },
    "tags": []
   },
   "outputs": [],
   "source": [
    "# #hide\n",
    "# g = g[g.group.notna()]"
   ]
  },
  {
   "cell_type": "code",
   "execution_count": 40,
   "id": "determined-closing",
   "metadata": {
    "execution": {
     "iopub.execute_input": "2021-10-28T12:12:49.905296Z",
     "iopub.status.busy": "2021-10-28T12:12:49.904685Z",
     "iopub.status.idle": "2021-10-28T12:12:49.906987Z",
     "shell.execute_reply": "2021-10-28T12:12:49.906475Z"
    },
    "papermill": {
     "duration": 0.040863,
     "end_time": "2021-10-28T12:12:49.907121",
     "exception": false,
     "start_time": "2021-10-28T12:12:49.866258",
     "status": "completed"
    },
    "tags": []
   },
   "outputs": [],
   "source": [
    "# #hide\n",
    "# colors = dict(zip(\n",
    "#     [\"Oceania\", \"Europe\", \"Asia\", \"South America\", \"Middle East\", \"North America\", \"Africa\"],\n",
    "#     [\"#adb0ff\", \"#ffb3ff\", \"#90d595\", \"#e48381\", \"#aafbff\", \"#f7bb5f\", \"#eafb50\"]\n",
    "# ))\n",
    "# group_lk = g.set_index('name')['group'].to_dict()"
   ]
  },
  {
   "cell_type": "code",
   "execution_count": null,
   "id": "gross-drinking",
   "metadata": {
    "papermill": {
     "duration": 0.034666,
     "end_time": "2021-10-28T12:12:49.976431",
     "exception": false,
     "start_time": "2021-10-28T12:12:49.941765",
     "status": "completed"
    },
    "tags": []
   },
   "outputs": [],
   "source": []
  },
  {
   "cell_type": "code",
   "execution_count": 41,
   "id": "subject-macintosh",
   "metadata": {
    "execution": {
     "iopub.execute_input": "2021-10-28T12:12:50.050253Z",
     "iopub.status.busy": "2021-10-28T12:12:50.049639Z",
     "iopub.status.idle": "2021-10-28T12:12:50.052006Z",
     "shell.execute_reply": "2021-10-28T12:12:50.052453Z"
    },
    "papermill": {
     "duration": 0.041587,
     "end_time": "2021-10-28T12:12:50.052610",
     "exception": false,
     "start_time": "2021-10-28T12:12:50.011023",
     "status": "completed"
    },
    "tags": []
   },
   "outputs": [],
   "source": [
    "# #hide\n",
    "# fig, ax = plt.subplots(figsize=(15, 8))\n",
    "\n",
    "# def draw_barchart(current_day):\n",
    "#     dff = g[g['day'].eq(current_day)].sort_values(by='value', ascending=True).tail(10)\n",
    "#     ax.clear()\n",
    "#     ax.barh(dff['name'], dff['value'], color=[colors[group_lk[x]] for x in dff['name']])\n",
    "#     dx = dff['value'].max() / 200\n",
    "    \n",
    "#     for i, (value, name) in enumerate(zip(dff['value'], dff['name'])):\n",
    "#         ax.text(value-dx, i,     name,           size=14, weight=600, ha='right', va='bottom')\n",
    "#         ax.text(value-dx, i-.25, group_lk[name], size=10, color='#444444', ha='right', va='baseline')\n",
    "#         ax.text(value+dx, i,     f'{value:,.0f}',  size=14, ha='left',  va='center')\n",
    "#     ax.text(1, 0.4, current_day, transform=ax.transAxes, color='#777777', size=46, ha='right', weight=800)\n",
    "#     ax.text(0, 1.06, 'Population (thousands)', transform=ax.transAxes, size=12, color='#777777')\n",
    "#     ax.xaxis.set_major_formatter(ticker.StrMethodFormatter('{x:,.0f}'))\n",
    "#     ax.xaxis.set_ticks_position('top')\n",
    "#     ax.tick_params(axis='x', colors='#777777', labelsize=12)\n",
    "#     ax.set_yticks([])\n",
    "#     ax.margins(0, 0.01)\n",
    "#     ax.grid(which='major', axis='x', linestyle='-')\n",
    "#     ax.set_axisbelow(True)\n",
    "    \n",
    "#     ax.text(0, 1.15, 'Coronavirus',\n",
    "#             transform=ax.transAxes, size=24, weight=600, ha='left', va='top')\n",
    "# #     ax.text(1, 0, 'by @pratapvardhan; credit @jburnmurdoch', transform=ax.transAxes, color='#777777', ha='right',\n",
    "# #             bbox=dict(facecolor='white', alpha=0.8, edgecolor='white'))\n",
    "#     plt.box(False)"
   ]
  },
  {
   "cell_type": "code",
   "execution_count": 42,
   "id": "sexual-wages",
   "metadata": {
    "execution": {
     "iopub.execute_input": "2021-10-28T12:12:50.126543Z",
     "iopub.status.busy": "2021-10-28T12:12:50.125913Z",
     "iopub.status.idle": "2021-10-28T12:12:50.130583Z",
     "shell.execute_reply": "2021-10-28T12:12:50.131096Z"
    },
    "papermill": {
     "duration": 0.043826,
     "end_time": "2021-10-28T12:12:50.131254",
     "exception": false,
     "start_time": "2021-10-28T12:12:50.087428",
     "status": "completed"
    },
    "tags": []
   },
   "outputs": [],
   "source": [
    "# #hide_input\n",
    "# fig, ax = plt.subplots(figsize=(15, 8))\n",
    "# animator = animation.FuncAnimation(fig, draw_barchart, frames=range(g.day.values.min(), g.day.values.max()))\n",
    "# HTML(animator.to_jshtml())\n",
    "# # or use animator.to_html5_video() or animator.save() "
   ]
  },
  {
   "cell_type": "code",
   "execution_count": null,
   "id": "australian-container",
   "metadata": {
    "papermill": {
     "duration": 0.034524,
     "end_time": "2021-10-28T12:12:50.200376",
     "exception": false,
     "start_time": "2021-10-28T12:12:50.165852",
     "status": "completed"
    },
    "tags": []
   },
   "outputs": [],
   "source": []
  },
  {
   "cell_type": "code",
   "execution_count": null,
   "id": "mediterranean-pontiac",
   "metadata": {
    "papermill": {
     "duration": 0.034504,
     "end_time": "2021-10-28T12:12:50.269743",
     "exception": false,
     "start_time": "2021-10-28T12:12:50.235239",
     "status": "completed"
    },
    "tags": []
   },
   "outputs": [],
   "source": []
  },
  {
   "cell_type": "code",
   "execution_count": null,
   "id": "aging-legislature",
   "metadata": {
    "papermill": {
     "duration": 0.034586,
     "end_time": "2021-10-28T12:12:50.339274",
     "exception": false,
     "start_time": "2021-10-28T12:12:50.304688",
     "status": "completed"
    },
    "tags": []
   },
   "outputs": [],
   "source": []
  }
 ],
 "metadata": {
  "kernelspec": {
   "display_name": "Python 3",
   "language": "python",
   "name": "python3"
  },
  "language_info": {
   "codemirror_mode": {
    "name": "ipython",
    "version": 3
   },
   "file_extension": ".py",
   "mimetype": "text/x-python",
   "name": "python",
   "nbconvert_exporter": "python",
   "pygments_lexer": "ipython3",
   "version": "3.6.15"
  },
  "papermill": {
   "duration": 6.847702,
   "end_time": "2021-10-28T12:12:50.783174",
   "environment_variables": {},
   "exception": null,
   "input_path": "2020-03-21-covid19exp.ipynb",
   "output_path": "2020-03-21-covid19exp.ipynb",
   "parameters": {},
   "start_time": "2021-10-28T12:12:43.935472",
   "version": "2.0.0"
  }
 },
 "nbformat": 4,
 "nbformat_minor": 5
}