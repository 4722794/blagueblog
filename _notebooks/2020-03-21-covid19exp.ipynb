{
 "cells": [
  {
   "cell_type": "markdown",
   "metadata": {
    "papermill": {
     "duration": 0.036507,
     "end_time": "2021-01-15T12:24:30.517947",
     "exception": false,
     "start_time": "2021-01-15T12:24:30.481440",
     "status": "completed"
    },
    "tags": []
   },
   "source": [
    "# COVID-19 Case Race\n",
    "> A race chart to see rising cases around the world\n",
    "\n",
    "- author: Hargun Oberoi\n",
    "- image: images/covid-overview.png\n",
    "- hide: false\n",
    "- badges: false"
   ]
  },
  {
   "cell_type": "code",
   "execution_count": 1,
   "metadata": {
    "execution": {
     "iopub.execute_input": "2021-01-15T12:24:30.600139Z",
     "iopub.status.busy": "2021-01-15T12:24:30.599481Z",
     "iopub.status.idle": "2021-01-15T12:24:30.962470Z",
     "shell.execute_reply": "2021-01-15T12:24:30.961881Z"
    },
    "papermill": {
     "duration": 0.407906,
     "end_time": "2021-01-15T12:24:30.962629",
     "exception": false,
     "start_time": "2021-01-15T12:24:30.554723",
     "status": "completed"
    },
    "tags": []
   },
   "outputs": [],
   "source": [
    "#hide\n",
    "import numpy as np\n",
    "import pandas as pd\n",
    "from jinja2 import Template\n",
    "from IPython.display import HTML"
   ]
  },
  {
   "cell_type": "code",
   "execution_count": 2,
   "metadata": {
    "execution": {
     "iopub.execute_input": "2021-01-15T12:24:31.037594Z",
     "iopub.status.busy": "2021-01-15T12:24:31.036783Z",
     "iopub.status.idle": "2021-01-15T12:24:31.039372Z",
     "shell.execute_reply": "2021-01-15T12:24:31.038825Z"
    },
    "papermill": {
     "duration": 0.041675,
     "end_time": "2021-01-15T12:24:31.039514",
     "exception": false,
     "start_time": "2021-01-15T12:24:30.997839",
     "status": "completed"
    },
    "tags": []
   },
   "outputs": [],
   "source": [
    "#hide\n",
    "\n",
    "# FETCH\n",
    "base_url = 'https://raw.githubusercontent.com/pratapvardhan/notebooks/master/covid19/'\n",
    "paths = {\n",
    "    'mapping': base_url + 'mapping_countries.csv',\n",
    "    'overview': base_url + 'overview.tpl'\n",
    "}"
   ]
  },
  {
   "cell_type": "code",
   "execution_count": 3,
   "metadata": {
    "execution": {
     "iopub.execute_input": "2021-01-15T12:24:31.121293Z",
     "iopub.status.busy": "2021-01-15T12:24:31.120554Z",
     "iopub.status.idle": "2021-01-15T12:24:31.125287Z",
     "shell.execute_reply": "2021-01-15T12:24:31.125778Z"
    },
    "papermill": {
     "duration": 0.050478,
     "end_time": "2021-01-15T12:24:31.125953",
     "exception": false,
     "start_time": "2021-01-15T12:24:31.075475",
     "status": "completed"
    },
    "tags": []
   },
   "outputs": [
    {
     "data": {
      "text/plain": [
       "'https://raw.githubusercontent.com/pratapvardhan/notebooks/master/covid19/mapping_countries.csv'"
      ]
     },
     "execution_count": 3,
     "metadata": {},
     "output_type": "execute_result"
    }
   ],
   "source": [
    "#hide\n",
    "paths['mapping']"
   ]
  },
  {
   "cell_type": "code",
   "execution_count": 4,
   "metadata": {
    "execution": {
     "iopub.execute_input": "2021-01-15T12:24:31.202468Z",
     "iopub.status.busy": "2021-01-15T12:24:31.201774Z",
     "iopub.status.idle": "2021-01-15T12:24:31.204626Z",
     "shell.execute_reply": "2021-01-15T12:24:31.204159Z"
    },
    "papermill": {
     "duration": 0.0424,
     "end_time": "2021-01-15T12:24:31.204761",
     "exception": false,
     "start_time": "2021-01-15T12:24:31.162361",
     "status": "completed"
    },
    "tags": []
   },
   "outputs": [],
   "source": [
    "#hide\n",
    "def get_mappings(url):\n",
    "    df = pd.read_csv(url)\n",
    "    return {\n",
    "        'df': df,\n",
    "        'replace.country': dict(df.dropna(subset=['Name']).set_index('Country')['Name']),\n",
    "        'map.continent': dict(df.set_index('Name')['Continent'])\n",
    "    }"
   ]
  },
  {
   "cell_type": "code",
   "execution_count": 5,
   "metadata": {
    "execution": {
     "iopub.execute_input": "2021-01-15T12:24:31.275957Z",
     "iopub.status.busy": "2021-01-15T12:24:31.275208Z",
     "iopub.status.idle": "2021-01-15T12:24:31.322527Z",
     "shell.execute_reply": "2021-01-15T12:24:31.323213Z"
    },
    "papermill": {
     "duration": 0.087018,
     "end_time": "2021-01-15T12:24:31.323449",
     "exception": false,
     "start_time": "2021-01-15T12:24:31.236431",
     "status": "completed"
    },
    "tags": []
   },
   "outputs": [],
   "source": [
    "#hide\n",
    "mapping = get_mappings(paths['mapping'])"
   ]
  },
  {
   "cell_type": "code",
   "execution_count": 6,
   "metadata": {
    "execution": {
     "iopub.execute_input": "2021-01-15T12:24:31.395978Z",
     "iopub.status.busy": "2021-01-15T12:24:31.395284Z",
     "iopub.status.idle": "2021-01-15T12:24:31.397792Z",
     "shell.execute_reply": "2021-01-15T12:24:31.397071Z"
    },
    "papermill": {
     "duration": 0.042644,
     "end_time": "2021-01-15T12:24:31.397953",
     "exception": false,
     "start_time": "2021-01-15T12:24:31.355309",
     "status": "completed"
    },
    "tags": []
   },
   "outputs": [],
   "source": [
    "#hide\n",
    "def get_template(path):\n",
    "    from urllib.parse import urlparse\n",
    "    if bool(urlparse(path).netloc):\n",
    "        from urllib.request import urlopen\n",
    "        return urlopen(path).read().decode('utf8')\n",
    "    return open(path).read()"
   ]
  },
  {
   "cell_type": "code",
   "execution_count": 7,
   "metadata": {
    "execution": {
     "iopub.execute_input": "2021-01-15T12:24:31.466018Z",
     "iopub.status.busy": "2021-01-15T12:24:31.465426Z",
     "iopub.status.idle": "2021-01-15T12:24:31.467836Z",
     "shell.execute_reply": "2021-01-15T12:24:31.467303Z"
    },
    "papermill": {
     "duration": 0.037663,
     "end_time": "2021-01-15T12:24:31.467975",
     "exception": false,
     "start_time": "2021-01-15T12:24:31.430312",
     "status": "completed"
    },
    "tags": []
   },
   "outputs": [],
   "source": [
    "#hide\n",
    "def get_frame(name):\n",
    "    url = (\n",
    "        'https://raw.githubusercontent.com/CSSEGISandData/COVID-19/master/csse_covid_19_data/'\n",
    "        f'csse_covid_19_time_series/time_series_covid19_{name}_global.csv')\n",
    "    df = pd.read_csv(url)\n",
    "    # rename countries\n",
    "    df['Country/Region'] = df['Country/Region'].replace(mapping['replace.country'])\n",
    "    return df"
   ]
  },
  {
   "cell_type": "code",
   "execution_count": 8,
   "metadata": {
    "execution": {
     "iopub.execute_input": "2021-01-15T12:24:31.543252Z",
     "iopub.status.busy": "2021-01-15T12:24:31.542620Z",
     "iopub.status.idle": "2021-01-15T12:24:31.545342Z",
     "shell.execute_reply": "2021-01-15T12:24:31.544811Z"
    },
    "papermill": {
     "duration": 0.044032,
     "end_time": "2021-01-15T12:24:31.545512",
     "exception": false,
     "start_time": "2021-01-15T12:24:31.501480",
     "status": "completed"
    },
    "tags": []
   },
   "outputs": [],
   "source": [
    "#hide\n",
    "def get_dates(df):\n",
    "    dt_cols = df.columns[~df.columns.isin(['Province/State', 'Country/Region', 'Lat', 'Long'])]\n",
    "    LAST_DATE_I = -1\n",
    "    # sometimes last column may be empty, then go backwards\n",
    "    for i in range(-1, -len(dt_cols), -1):\n",
    "        if not df[dt_cols[i]].fillna(0).eq(0).all():\n",
    "            LAST_DATE_I = i\n",
    "            break\n",
    "    return LAST_DATE_I, dt_cols"
   ]
  },
  {
   "cell_type": "code",
   "execution_count": 9,
   "metadata": {
    "execution": {
     "iopub.execute_input": "2021-01-15T12:24:31.618576Z",
     "iopub.status.busy": "2021-01-15T12:24:31.618006Z",
     "iopub.status.idle": "2021-01-15T12:24:32.300679Z",
     "shell.execute_reply": "2021-01-15T12:24:32.300092Z"
    },
    "papermill": {
     "duration": 0.721262,
     "end_time": "2021-01-15T12:24:32.300854",
     "exception": false,
     "start_time": "2021-01-15T12:24:31.579592",
     "status": "completed"
    },
    "tags": []
   },
   "outputs": [],
   "source": [
    "#hide\n",
    "COL_REGION = 'Country/Region'\n",
    "# Confirmed, Recovered, Deaths\n",
    "df = get_frame('confirmed')\n",
    "# dft_: timeseries, dfc_: today country agg\n",
    "dft_cases = df\n",
    "dft_deaths = get_frame('deaths')\n",
    "dft_recovered = get_frame('recovered')\n",
    "LAST_DATE_I, dt_cols = get_dates(df)"
   ]
  },
  {
   "cell_type": "code",
   "execution_count": 10,
   "metadata": {
    "execution": {
     "iopub.execute_input": "2021-01-15T12:24:32.382123Z",
     "iopub.status.busy": "2021-01-15T12:24:32.381457Z",
     "iopub.status.idle": "2021-01-15T12:24:32.383500Z",
     "shell.execute_reply": "2021-01-15T12:24:32.384111Z"
    },
    "papermill": {
     "duration": 0.045576,
     "end_time": "2021-01-15T12:24:32.384282",
     "exception": false,
     "start_time": "2021-01-15T12:24:32.338706",
     "status": "completed"
    },
    "tags": []
   },
   "outputs": [],
   "source": [
    "#hide\n",
    "LAST_DATE_I, dt_cols = get_dates(df)\n",
    "dt_today =dt_cols[LAST_DATE_I]\n",
    "# dt_5day = dt_cols[LAST_DATE_I - 5]\n",
    "dt_yday = dt_cols[LAST_DATE_I - 1]"
   ]
  },
  {
   "cell_type": "code",
   "execution_count": 11,
   "metadata": {
    "execution": {
     "iopub.execute_input": "2021-01-15T12:24:32.552103Z",
     "iopub.status.busy": "2021-01-15T12:24:32.551339Z",
     "iopub.status.idle": "2021-01-15T12:24:32.557342Z",
     "shell.execute_reply": "2021-01-15T12:24:32.556744Z"
    },
    "papermill": {
     "duration": 0.136402,
     "end_time": "2021-01-15T12:24:32.557497",
     "exception": false,
     "start_time": "2021-01-15T12:24:32.421095",
     "status": "completed"
    },
    "tags": []
   },
   "outputs": [],
   "source": [
    "#hide\n",
    "dfc_cases = dft_cases.groupby(COL_REGION)[dt_today].sum()\n",
    "dfc_deaths = dft_deaths.groupby(COL_REGION)[dt_today].sum()\n",
    "# dfp_cases = dft_cases.groupby(COL_REGION)[dt_5day].sum()\n",
    "# dfp_deaths = dft_deaths.groupby(COL_REGION)[dt_5day].sum()\n",
    "dfp_cases = dft_cases.groupby(COL_REGION)[dt_yday].sum()\n",
    "dfp_deaths = dft_deaths.groupby(COL_REGION)[dt_yday].sum()"
   ]
  },
  {
   "cell_type": "code",
   "execution_count": 12,
   "metadata": {
    "execution": {
     "iopub.execute_input": "2021-01-15T12:24:32.702363Z",
     "iopub.status.busy": "2021-01-15T12:24:32.701667Z",
     "iopub.status.idle": "2021-01-15T12:24:32.712272Z",
     "shell.execute_reply": "2021-01-15T12:24:32.706855Z"
    },
    "papermill": {
     "duration": 0.065958,
     "end_time": "2021-01-15T12:24:32.712477",
     "exception": false,
     "start_time": "2021-01-15T12:24:32.646519",
     "status": "completed"
    },
    "tags": []
   },
   "outputs": [],
   "source": [
    "#hide\n",
    "df_table = (pd.DataFrame(dict(Cases = dfc_cases, Deaths = dfc_deaths, PCases = dfp_cases, PDeaths = dfp_deaths))\n",
    "            .sort_values(by = ['Cases','Deaths'], ascending = [False, False])\n",
    "            .reset_index())"
   ]
  },
  {
   "cell_type": "code",
   "execution_count": 13,
   "metadata": {
    "execution": {
     "iopub.execute_input": "2021-01-15T12:24:32.902680Z",
     "iopub.status.busy": "2021-01-15T12:24:32.902070Z",
     "iopub.status.idle": "2021-01-15T12:24:32.912626Z",
     "shell.execute_reply": "2021-01-15T12:24:32.913199Z"
    },
    "papermill": {
     "duration": 0.126983,
     "end_time": "2021-01-15T12:24:32.913376",
     "exception": false,
     "start_time": "2021-01-15T12:24:32.786393",
     "status": "completed"
    },
    "tags": []
   },
   "outputs": [
    {
     "data": {
      "text/html": [
       "<div>\n",
       "<style scoped>\n",
       "    .dataframe tbody tr th:only-of-type {\n",
       "        vertical-align: middle;\n",
       "    }\n",
       "\n",
       "    .dataframe tbody tr th {\n",
       "        vertical-align: top;\n",
       "    }\n",
       "\n",
       "    .dataframe thead th {\n",
       "        text-align: right;\n",
       "    }\n",
       "</style>\n",
       "<table border=\"1\" class=\"dataframe\">\n",
       "  <thead>\n",
       "    <tr style=\"text-align: right;\">\n",
       "      <th></th>\n",
       "      <th>Country/Region</th>\n",
       "      <th>Cases</th>\n",
       "      <th>Deaths</th>\n",
       "      <th>PCases</th>\n",
       "      <th>PDeaths</th>\n",
       "      <th>Cases (+)</th>\n",
       "      <th>Deaths (+)</th>\n",
       "      <th>Fatality Rate</th>\n",
       "      <th>Continent</th>\n",
       "    </tr>\n",
       "  </thead>\n",
       "  <tbody>\n",
       "    <tr>\n",
       "      <th>0</th>\n",
       "      <td>US</td>\n",
       "      <td>23313101</td>\n",
       "      <td>388692</td>\n",
       "      <td>23077846</td>\n",
       "      <td>384764</td>\n",
       "      <td>235255</td>\n",
       "      <td>3928</td>\n",
       "      <td>1.67</td>\n",
       "      <td>North America</td>\n",
       "    </tr>\n",
       "    <tr>\n",
       "      <th>1</th>\n",
       "      <td>India</td>\n",
       "      <td>10512093</td>\n",
       "      <td>151727</td>\n",
       "      <td>10512093</td>\n",
       "      <td>151727</td>\n",
       "      <td>0</td>\n",
       "      <td>0</td>\n",
       "      <td>1.44</td>\n",
       "      <td>Asia</td>\n",
       "    </tr>\n",
       "    <tr>\n",
       "      <th>2</th>\n",
       "      <td>Brazil</td>\n",
       "      <td>8324294</td>\n",
       "      <td>207095</td>\n",
       "      <td>8256536</td>\n",
       "      <td>205964</td>\n",
       "      <td>67758</td>\n",
       "      <td>1131</td>\n",
       "      <td>2.49</td>\n",
       "      <td>South America</td>\n",
       "    </tr>\n",
       "    <tr>\n",
       "      <th>3</th>\n",
       "      <td>Russia</td>\n",
       "      <td>3459237</td>\n",
       "      <td>63016</td>\n",
       "      <td>3434934</td>\n",
       "      <td>62463</td>\n",
       "      <td>24303</td>\n",
       "      <td>553</td>\n",
       "      <td>1.82</td>\n",
       "      <td>Europe</td>\n",
       "    </tr>\n",
       "    <tr>\n",
       "      <th>4</th>\n",
       "      <td>United Kingdom</td>\n",
       "      <td>3269757</td>\n",
       "      <td>86163</td>\n",
       "      <td>3220953</td>\n",
       "      <td>84910</td>\n",
       "      <td>48804</td>\n",
       "      <td>1253</td>\n",
       "      <td>2.64</td>\n",
       "      <td>Europe</td>\n",
       "    </tr>\n",
       "  </tbody>\n",
       "</table>\n",
       "</div>"
      ],
      "text/plain": [
       "   Country/Region     Cases  Deaths    PCases  PDeaths  Cases (+)  Deaths (+)  \\\n",
       "0              US  23313101  388692  23077846   384764     235255        3928   \n",
       "1           India  10512093  151727  10512093   151727          0           0   \n",
       "2          Brazil   8324294  207095   8256536   205964      67758        1131   \n",
       "3          Russia   3459237   63016   3434934    62463      24303         553   \n",
       "4  United Kingdom   3269757   86163   3220953    84910      48804        1253   \n",
       "\n",
       "   Fatality Rate      Continent  \n",
       "0           1.67  North America  \n",
       "1           1.44           Asia  \n",
       "2           2.49  South America  \n",
       "3           1.82         Europe  \n",
       "4           2.64         Europe  "
      ]
     },
     "execution_count": 13,
     "metadata": {},
     "output_type": "execute_result"
    }
   ],
   "source": [
    "#hide\n",
    "for c in 'Cases, Deaths'.split(', '):\n",
    "    df_table[f'{c} (+)'] = (df_table[c] - df_table[f'P{c}']).clip(0)\n",
    "    #Clip ça veut dire, les chiffres negatif sont interdit\n",
    "df_table['Fatality Rate'] = (100* df_table['Deaths']/ df_table['Cases']).round(2)\n",
    "df_table['Continent'] = df_table['Country/Region'].map(mapping['map.continent'])\n",
    "df_table.head(5)"
   ]
  },
  {
   "cell_type": "code",
   "execution_count": 14,
   "metadata": {
    "execution": {
     "iopub.execute_input": "2021-01-15T12:24:33.045230Z",
     "iopub.status.busy": "2021-01-15T12:24:33.042664Z",
     "iopub.status.idle": "2021-01-15T12:24:33.046006Z",
     "shell.execute_reply": "2021-01-15T12:24:33.046585Z"
    },
    "papermill": {
     "duration": 0.097134,
     "end_time": "2021-01-15T12:24:33.046738",
     "exception": false,
     "start_time": "2021-01-15T12:24:32.949604",
     "status": "completed"
    },
    "tags": []
   },
   "outputs": [],
   "source": [
    "#hide\n",
    "#delete problematic countries from table\n",
    "df_table = df_table[~df_table['Country/Region'].isin(['Cape Verde', 'Cruise Ship', 'Kosovo'])]"
   ]
  },
  {
   "cell_type": "code",
   "execution_count": 15,
   "metadata": {
    "execution": {
     "iopub.execute_input": "2021-01-15T12:24:33.296317Z",
     "iopub.status.busy": "2021-01-15T12:24:33.295538Z",
     "iopub.status.idle": "2021-01-15T12:24:33.318730Z",
     "shell.execute_reply": "2021-01-15T12:24:33.319291Z"
    },
    "papermill": {
     "duration": 0.114805,
     "end_time": "2021-01-15T12:24:33.319479",
     "exception": false,
     "start_time": "2021-01-15T12:24:33.204674",
     "status": "completed"
    },
    "tags": []
   },
   "outputs": [
    {
     "data": {
      "text/html": [
       "<div>\n",
       "<style scoped>\n",
       "    .dataframe tbody tr th:only-of-type {\n",
       "        vertical-align: middle;\n",
       "    }\n",
       "\n",
       "    .dataframe tbody tr th {\n",
       "        vertical-align: top;\n",
       "    }\n",
       "\n",
       "    .dataframe thead th {\n",
       "        text-align: right;\n",
       "    }\n",
       "</style>\n",
       "<table border=\"1\" class=\"dataframe\">\n",
       "  <thead>\n",
       "    <tr style=\"text-align: right;\">\n",
       "      <th></th>\n",
       "      <th>Country/Region</th>\n",
       "      <th>Cases</th>\n",
       "      <th>Deaths</th>\n",
       "      <th>PCases</th>\n",
       "      <th>PDeaths</th>\n",
       "      <th>Cases (+)</th>\n",
       "      <th>Deaths (+)</th>\n",
       "      <th>Fatality Rate</th>\n",
       "      <th>Continent</th>\n",
       "    </tr>\n",
       "  </thead>\n",
       "  <tbody>\n",
       "    <tr>\n",
       "      <th>0</th>\n",
       "      <td>US</td>\n",
       "      <td>23313101</td>\n",
       "      <td>388692</td>\n",
       "      <td>23077846</td>\n",
       "      <td>384764</td>\n",
       "      <td>235255</td>\n",
       "      <td>3928</td>\n",
       "      <td>1.7</td>\n",
       "      <td>North America</td>\n",
       "    </tr>\n",
       "    <tr>\n",
       "      <th>1</th>\n",
       "      <td>India</td>\n",
       "      <td>10512093</td>\n",
       "      <td>151727</td>\n",
       "      <td>10512093</td>\n",
       "      <td>151727</td>\n",
       "      <td>0</td>\n",
       "      <td>0</td>\n",
       "      <td>1.4</td>\n",
       "      <td>Asia</td>\n",
       "    </tr>\n",
       "    <tr>\n",
       "      <th>2</th>\n",
       "      <td>Brazil</td>\n",
       "      <td>8324294</td>\n",
       "      <td>207095</td>\n",
       "      <td>8256536</td>\n",
       "      <td>205964</td>\n",
       "      <td>67758</td>\n",
       "      <td>1131</td>\n",
       "      <td>2.5</td>\n",
       "      <td>South America</td>\n",
       "    </tr>\n",
       "    <tr>\n",
       "      <th>3</th>\n",
       "      <td>Russia</td>\n",
       "      <td>3459237</td>\n",
       "      <td>63016</td>\n",
       "      <td>3434934</td>\n",
       "      <td>62463</td>\n",
       "      <td>24303</td>\n",
       "      <td>553</td>\n",
       "      <td>1.8</td>\n",
       "      <td>Europe</td>\n",
       "    </tr>\n",
       "    <tr>\n",
       "      <th>4</th>\n",
       "      <td>United Kingdom</td>\n",
       "      <td>3269757</td>\n",
       "      <td>86163</td>\n",
       "      <td>3220953</td>\n",
       "      <td>84910</td>\n",
       "      <td>48804</td>\n",
       "      <td>1253</td>\n",
       "      <td>2.6</td>\n",
       "      <td>Europe</td>\n",
       "    </tr>\n",
       "  </tbody>\n",
       "</table>\n",
       "</div>"
      ],
      "text/plain": [
       "   Country/Region     Cases  Deaths    PCases  PDeaths  Cases (+)  Deaths (+)  \\\n",
       "0              US  23313101  388692  23077846   384764     235255        3928   \n",
       "1           India  10512093  151727  10512093   151727          0           0   \n",
       "2          Brazil   8324294  207095   8256536   205964      67758        1131   \n",
       "3          Russia   3459237   63016   3434934    62463      24303         553   \n",
       "4  United Kingdom   3269757   86163   3220953    84910      48804        1253   \n",
       "\n",
       "   Fatality Rate      Continent  \n",
       "0            1.7  North America  \n",
       "1            1.4           Asia  \n",
       "2            2.5  South America  \n",
       "3            1.8         Europe  \n",
       "4            2.6         Europe  "
      ]
     },
     "execution_count": 15,
     "metadata": {},
     "output_type": "execute_result"
    }
   ],
   "source": [
    "#hide\n",
    "df_table = (pd.DataFrame(dict(Cases=dfc_cases, Deaths=dfc_deaths, PCases=dfp_cases, PDeaths=dfp_deaths))\n",
    "             .sort_values(by=['Cases', 'Deaths'], ascending=[False, False])\n",
    "             .reset_index())\n",
    "df_table.rename(columns={'index': 'Country/Region'}, inplace=True)\n",
    "for c in 'Cases, Deaths'.split(', '):\n",
    "    df_table[f'{c} (+)'] = (df_table[c] - df_table[f'P{c}']).clip(0)  # DATA BUG\n",
    "df_table['Fatality Rate'] = (100 * df_table['Deaths'] / df_table['Cases']).round(1)\n",
    "df_table['Continent'] = df_table['Country/Region'].map(mapping['map.continent'])\n",
    "df_table.head(5)"
   ]
  },
  {
   "cell_type": "code",
   "execution_count": 16,
   "metadata": {
    "execution": {
     "iopub.execute_input": "2021-01-15T12:24:33.394511Z",
     "iopub.status.busy": "2021-01-15T12:24:33.393809Z",
     "iopub.status.idle": "2021-01-15T12:24:33.397744Z",
     "shell.execute_reply": "2021-01-15T12:24:33.397206Z"
    },
    "papermill": {
     "duration": 0.043603,
     "end_time": "2021-01-15T12:24:33.397901",
     "exception": false,
     "start_time": "2021-01-15T12:24:33.354298",
     "status": "completed"
    },
    "tags": []
   },
   "outputs": [],
   "source": [
    "#hide\n",
    "#delete problematic countries from table\n",
    "df_table = df_table[~df_table['Country/Region'].isin(['Cape Verde', 'Cruise Ship', 'Kosovo'])]"
   ]
  },
  {
   "cell_type": "code",
   "execution_count": 17,
   "metadata": {
    "execution": {
     "iopub.execute_input": "2021-01-15T12:24:33.479051Z",
     "iopub.status.busy": "2021-01-15T12:24:33.478449Z",
     "iopub.status.idle": "2021-01-15T12:24:33.488941Z",
     "shell.execute_reply": "2021-01-15T12:24:33.489775Z"
    },
    "papermill": {
     "duration": 0.057486,
     "end_time": "2021-01-15T12:24:33.489927",
     "exception": false,
     "start_time": "2021-01-15T12:24:33.432441",
     "status": "completed"
    },
    "tags": []
   },
   "outputs": [],
   "source": [
    "#hide\n",
    "metrics = [df_table.columns[index] for index in [1,2,5,6]]\n",
    "# s_china = df_table[df_table['Country/Region'].eq('China')][metrics].sum().add_prefix('China ')\n",
    "s_us = df_table[df_table['Country/Region'].eq('US')][metrics].sum().add_prefix('US ')\n",
    "s_eu = df_table[df_table['Continent'].eq('Europe')][metrics].sum().add_prefix('EU ')\n",
    "s_ind = df_table[df_table['Country/Region'].eq('India')][metrics].sum().add_prefix('India ')\n",
    "summary = {'updated': pd.to_datetime(dt_today), 'since': pd.to_datetime(dt_yday)}\n",
    "summary = {'updated': pd.to_datetime(dt_today), 'since': pd.to_datetime(dt_yday)}\n",
    "summary = {**summary, **df_table[metrics].sum(), **s_ind, **s_us, **s_eu}"
   ]
  },
  {
   "cell_type": "code",
   "execution_count": 18,
   "metadata": {
    "execution": {
     "iopub.execute_input": "2021-01-15T12:24:33.564201Z",
     "iopub.status.busy": "2021-01-15T12:24:33.563589Z",
     "iopub.status.idle": "2021-01-15T12:24:33.573674Z",
     "shell.execute_reply": "2021-01-15T12:24:33.574207Z"
    },
    "papermill": {
     "duration": 0.051691,
     "end_time": "2021-01-15T12:24:33.574368",
     "exception": false,
     "start_time": "2021-01-15T12:24:33.522677",
     "status": "completed"
    },
    "tags": []
   },
   "outputs": [],
   "source": [
    "#hide\n",
    "dft_ct_new_cases = dft_cases.groupby(COL_REGION)[dt_cols].sum().diff(axis=1).fillna(0).astype(int)"
   ]
  },
  {
   "cell_type": "code",
   "execution_count": 19,
   "metadata": {
    "execution": {
     "iopub.execute_input": "2021-01-15T12:24:33.649792Z",
     "iopub.status.busy": "2021-01-15T12:24:33.649213Z",
     "iopub.status.idle": "2021-01-15T12:24:33.653907Z",
     "shell.execute_reply": "2021-01-15T12:24:33.653446Z"
    },
    "papermill": {
     "duration": 0.043157,
     "end_time": "2021-01-15T12:24:33.654025",
     "exception": false,
     "start_time": "2021-01-15T12:24:33.610868",
     "status": "completed"
    },
    "tags": []
   },
   "outputs": [],
   "source": [
    "#hide\n",
    "everydaycases = dft_ct_new_cases.cumsum(axis=1)"
   ]
  },
  {
   "cell_type": "code",
   "execution_count": 20,
   "metadata": {
    "execution": {
     "iopub.execute_input": "2021-01-15T12:24:33.728680Z",
     "iopub.status.busy": "2021-01-15T12:24:33.727990Z",
     "iopub.status.idle": "2021-01-15T12:24:37.447913Z",
     "shell.execute_reply": "2021-01-15T12:24:37.447179Z"
    },
    "papermill": {
     "duration": 3.758188,
     "end_time": "2021-01-15T12:24:37.448070",
     "exception": false,
     "start_time": "2021-01-15T12:24:33.689882",
     "status": "completed"
    },
    "tags": []
   },
   "outputs": [],
   "source": [
    "#hide\n",
    "import pandas as pd\n",
    "import matplotlib.pyplot as plt\n",
    "import matplotlib.ticker as ticker\n",
    "import matplotlib.animation as animation\n",
    "from IPython.display import HTML"
   ]
  },
  {
   "cell_type": "code",
   "execution_count": 21,
   "metadata": {
    "execution": {
     "iopub.execute_input": "2021-01-15T12:24:37.523081Z",
     "iopub.status.busy": "2021-01-15T12:24:37.522446Z",
     "iopub.status.idle": "2021-01-15T12:24:37.527480Z",
     "shell.execute_reply": "2021-01-15T12:24:37.526915Z"
    },
    "papermill": {
     "duration": 0.044155,
     "end_time": "2021-01-15T12:24:37.527623",
     "exception": false,
     "start_time": "2021-01-15T12:24:37.483468",
     "status": "completed"
    },
    "tags": []
   },
   "outputs": [],
   "source": [
    "#hide\n",
    "t = everydaycases.stack()"
   ]
  },
  {
   "cell_type": "code",
   "execution_count": 22,
   "metadata": {
    "execution": {
     "iopub.execute_input": "2021-01-15T12:24:37.598377Z",
     "iopub.status.busy": "2021-01-15T12:24:37.597588Z",
     "iopub.status.idle": "2021-01-15T12:24:37.604433Z",
     "shell.execute_reply": "2021-01-15T12:24:37.603965Z"
    },
    "papermill": {
     "duration": 0.043697,
     "end_time": "2021-01-15T12:24:37.604558",
     "exception": false,
     "start_time": "2021-01-15T12:24:37.560861",
     "status": "completed"
    },
    "tags": []
   },
   "outputs": [],
   "source": [
    "#hide\n",
    "g = t.reset_index(['Country/Region'])"
   ]
  },
  {
   "cell_type": "code",
   "execution_count": 23,
   "metadata": {
    "execution": {
     "iopub.execute_input": "2021-01-15T12:24:37.685139Z",
     "iopub.status.busy": "2021-01-15T12:24:37.684524Z",
     "iopub.status.idle": "2021-01-15T12:24:37.687150Z",
     "shell.execute_reply": "2021-01-15T12:24:37.686556Z"
    },
    "papermill": {
     "duration": 0.041279,
     "end_time": "2021-01-15T12:24:37.687295",
     "exception": false,
     "start_time": "2021-01-15T12:24:37.646016",
     "status": "completed"
    },
    "tags": []
   },
   "outputs": [],
   "source": [
    "#hide\n",
    "g.index.name = 'date'"
   ]
  },
  {
   "cell_type": "code",
   "execution_count": 24,
   "metadata": {
    "execution": {
     "iopub.execute_input": "2021-01-15T12:24:37.757201Z",
     "iopub.status.busy": "2021-01-15T12:24:37.756668Z",
     "iopub.status.idle": "2021-01-15T12:24:37.759474Z",
     "shell.execute_reply": "2021-01-15T12:24:37.760244Z"
    },
    "papermill": {
     "duration": 0.041006,
     "end_time": "2021-01-15T12:24:37.760392",
     "exception": false,
     "start_time": "2021-01-15T12:24:37.719386",
     "status": "completed"
    },
    "tags": []
   },
   "outputs": [],
   "source": [
    "# #hide\n",
    "# g = g.reset_index(['date'])"
   ]
  },
  {
   "cell_type": "code",
   "execution_count": 25,
   "metadata": {
    "execution": {
     "iopub.execute_input": "2021-01-15T12:24:37.826997Z",
     "iopub.status.busy": "2021-01-15T12:24:37.826059Z",
     "iopub.status.idle": "2021-01-15T12:24:37.828848Z",
     "shell.execute_reply": "2021-01-15T12:24:37.828399Z"
    },
    "papermill": {
     "duration": 0.037442,
     "end_time": "2021-01-15T12:24:37.828963",
     "exception": false,
     "start_time": "2021-01-15T12:24:37.791521",
     "status": "completed"
    },
    "tags": []
   },
   "outputs": [],
   "source": [
    "#hide\n",
    "# g.head()"
   ]
  },
  {
   "cell_type": "code",
   "execution_count": 26,
   "metadata": {
    "execution": {
     "iopub.execute_input": "2021-01-15T12:24:37.898025Z",
     "iopub.status.busy": "2021-01-15T12:24:37.897440Z",
     "iopub.status.idle": "2021-01-15T12:24:37.898858Z",
     "shell.execute_reply": "2021-01-15T12:24:37.899398Z"
    },
    "papermill": {
     "duration": 0.037543,
     "end_time": "2021-01-15T12:24:37.899525",
     "exception": false,
     "start_time": "2021-01-15T12:24:37.861982",
     "status": "completed"
    },
    "tags": []
   },
   "outputs": [],
   "source": [
    "#hide\n",
    "# g.columns = ['date','country','cases']"
   ]
  },
  {
   "cell_type": "code",
   "execution_count": 27,
   "metadata": {
    "execution": {
     "iopub.execute_input": "2021-01-15T12:24:37.967051Z",
     "iopub.status.busy": "2021-01-15T12:24:37.966485Z",
     "iopub.status.idle": "2021-01-15T12:24:37.968741Z",
     "shell.execute_reply": "2021-01-15T12:24:37.969390Z"
    },
    "papermill": {
     "duration": 0.039298,
     "end_time": "2021-01-15T12:24:37.969577",
     "exception": false,
     "start_time": "2021-01-15T12:24:37.930279",
     "status": "completed"
    },
    "tags": []
   },
   "outputs": [],
   "source": [
    "#hide\n",
    "# g['continent'] = g.country"
   ]
  },
  {
   "cell_type": "code",
   "execution_count": 28,
   "metadata": {
    "execution": {
     "iopub.execute_input": "2021-01-15T12:24:38.041590Z",
     "iopub.status.busy": "2021-01-15T12:24:38.040971Z",
     "iopub.status.idle": "2021-01-15T12:24:38.042742Z",
     "shell.execute_reply": "2021-01-15T12:24:38.043301Z"
    },
    "papermill": {
     "duration": 0.040399,
     "end_time": "2021-01-15T12:24:38.043473",
     "exception": false,
     "start_time": "2021-01-15T12:24:38.003074",
     "status": "completed"
    },
    "tags": []
   },
   "outputs": [],
   "source": [
    "#hide\n",
    "# cols = list(g.columns.values)"
   ]
  },
  {
   "cell_type": "code",
   "execution_count": 29,
   "metadata": {
    "execution": {
     "iopub.execute_input": "2021-01-15T12:24:38.118322Z",
     "iopub.status.busy": "2021-01-15T12:24:38.117744Z",
     "iopub.status.idle": "2021-01-15T12:24:38.120401Z",
     "shell.execute_reply": "2021-01-15T12:24:38.119814Z"
    },
    "papermill": {
     "duration": 0.040647,
     "end_time": "2021-01-15T12:24:38.120553",
     "exception": false,
     "start_time": "2021-01-15T12:24:38.079906",
     "status": "completed"
    },
    "tags": []
   },
   "outputs": [],
   "source": [
    "#hide\n",
    "# cols.insert(0, cols.pop())"
   ]
  },
  {
   "cell_type": "code",
   "execution_count": 30,
   "metadata": {
    "execution": {
     "iopub.execute_input": "2021-01-15T12:24:38.198949Z",
     "iopub.status.busy": "2021-01-15T12:24:38.198238Z",
     "iopub.status.idle": "2021-01-15T12:24:38.200339Z",
     "shell.execute_reply": "2021-01-15T12:24:38.200816Z"
    },
    "papermill": {
     "duration": 0.046429,
     "end_time": "2021-01-15T12:24:38.200948",
     "exception": false,
     "start_time": "2021-01-15T12:24:38.154519",
     "status": "completed"
    },
    "tags": []
   },
   "outputs": [],
   "source": [
    "#hide\n",
    "# g = g[cols]"
   ]
  },
  {
   "cell_type": "code",
   "execution_count": 31,
   "metadata": {
    "execution": {
     "iopub.execute_input": "2021-01-15T12:24:38.268484Z",
     "iopub.status.busy": "2021-01-15T12:24:38.267875Z",
     "iopub.status.idle": "2021-01-15T12:24:38.271632Z",
     "shell.execute_reply": "2021-01-15T12:24:38.269472Z"
    },
    "papermill": {
     "duration": 0.039365,
     "end_time": "2021-01-15T12:24:38.271812",
     "exception": false,
     "start_time": "2021-01-15T12:24:38.232447",
     "status": "completed"
    },
    "tags": []
   },
   "outputs": [],
   "source": [
    "#hide\n",
    "# g['continent'] = g['continent'].map(mapping['map.continent'])"
   ]
  },
  {
   "cell_type": "code",
   "execution_count": 32,
   "metadata": {
    "execution": {
     "iopub.execute_input": "2021-01-15T12:24:38.498090Z",
     "iopub.status.busy": "2021-01-15T12:24:38.497290Z",
     "iopub.status.idle": "2021-01-15T12:24:38.499271Z",
     "shell.execute_reply": "2021-01-15T12:24:38.500026Z"
    },
    "papermill": {
     "duration": 0.191265,
     "end_time": "2021-01-15T12:24:38.500241",
     "exception": false,
     "start_time": "2021-01-15T12:24:38.308976",
     "status": "completed"
    },
    "tags": []
   },
   "outputs": [],
   "source": [
    "#hide\n",
    "# g.head()"
   ]
  },
  {
   "cell_type": "code",
   "execution_count": 33,
   "metadata": {
    "execution": {
     "iopub.execute_input": "2021-01-15T12:24:38.683273Z",
     "iopub.status.busy": "2021-01-15T12:24:38.682587Z",
     "iopub.status.idle": "2021-01-15T12:24:38.684936Z",
     "shell.execute_reply": "2021-01-15T12:24:38.684340Z"
    },
    "papermill": {
     "duration": 0.037658,
     "end_time": "2021-01-15T12:24:38.685054",
     "exception": false,
     "start_time": "2021-01-15T12:24:38.647396",
     "status": "completed"
    },
    "tags": []
   },
   "outputs": [],
   "source": [
    "# hide\n",
    "# g['date'] = g['date'].astype('datetime64[ns]')"
   ]
  },
  {
   "cell_type": "code",
   "execution_count": 34,
   "metadata": {
    "execution": {
     "iopub.execute_input": "2021-01-15T12:24:38.758654Z",
     "iopub.status.busy": "2021-01-15T12:24:38.757945Z",
     "iopub.status.idle": "2021-01-15T12:24:38.761811Z",
     "shell.execute_reply": "2021-01-15T12:24:38.762353Z"
    },
    "papermill": {
     "duration": 0.040475,
     "end_time": "2021-01-15T12:24:38.762502",
     "exception": false,
     "start_time": "2021-01-15T12:24:38.722027",
     "status": "completed"
    },
    "tags": []
   },
   "outputs": [],
   "source": [
    "#hide\n",
    "# g['date'] = g.date.dt.dayofyear"
   ]
  },
  {
   "cell_type": "code",
   "execution_count": 35,
   "metadata": {
    "execution": {
     "iopub.execute_input": "2021-01-15T12:24:38.834470Z",
     "iopub.status.busy": "2021-01-15T12:24:38.833861Z",
     "iopub.status.idle": "2021-01-15T12:24:38.836246Z",
     "shell.execute_reply": "2021-01-15T12:24:38.835610Z"
    },
    "papermill": {
     "duration": 0.040218,
     "end_time": "2021-01-15T12:24:38.836385",
     "exception": false,
     "start_time": "2021-01-15T12:24:38.796167",
     "status": "completed"
    },
    "tags": []
   },
   "outputs": [],
   "source": [
    "#hide\n",
    "# g = g.rename(columns= {'continent':'group','country':'name','cases':'value'})"
   ]
  },
  {
   "cell_type": "code",
   "execution_count": 36,
   "metadata": {
    "execution": {
     "iopub.execute_input": "2021-01-15T12:24:38.906773Z",
     "iopub.status.busy": "2021-01-15T12:24:38.906205Z",
     "iopub.status.idle": "2021-01-15T12:24:38.908505Z",
     "shell.execute_reply": "2021-01-15T12:24:38.907969Z"
    },
    "papermill": {
     "duration": 0.037932,
     "end_time": "2021-01-15T12:24:38.908637",
     "exception": false,
     "start_time": "2021-01-15T12:24:38.870705",
     "status": "completed"
    },
    "tags": []
   },
   "outputs": [],
   "source": [
    "#hide\n",
    "# cols = ['name','group','day','value']"
   ]
  },
  {
   "cell_type": "code",
   "execution_count": 37,
   "metadata": {
    "execution": {
     "iopub.execute_input": "2021-01-15T12:24:38.973479Z",
     "iopub.status.busy": "2021-01-15T12:24:38.972680Z",
     "iopub.status.idle": "2021-01-15T12:24:38.974853Z",
     "shell.execute_reply": "2021-01-15T12:24:38.975308Z"
    },
    "papermill": {
     "duration": 0.035442,
     "end_time": "2021-01-15T12:24:38.975451",
     "exception": false,
     "start_time": "2021-01-15T12:24:38.940009",
     "status": "completed"
    },
    "tags": []
   },
   "outputs": [],
   "source": [
    "#hide\n",
    "# g.rename(columns= {'date':'day'},inplace = True)"
   ]
  },
  {
   "cell_type": "code",
   "execution_count": 38,
   "metadata": {
    "execution": {
     "iopub.execute_input": "2021-01-15T12:24:39.038296Z",
     "iopub.status.busy": "2021-01-15T12:24:39.037664Z",
     "iopub.status.idle": "2021-01-15T12:24:39.039706Z",
     "shell.execute_reply": "2021-01-15T12:24:39.040157Z"
    },
    "papermill": {
     "duration": 0.035718,
     "end_time": "2021-01-15T12:24:39.040311",
     "exception": false,
     "start_time": "2021-01-15T12:24:39.004593",
     "status": "completed"
    },
    "tags": []
   },
   "outputs": [],
   "source": [
    "#hide\n",
    "# g = g[cols]"
   ]
  },
  {
   "cell_type": "code",
   "execution_count": 39,
   "metadata": {
    "execution": {
     "iopub.execute_input": "2021-01-15T12:24:39.112493Z",
     "iopub.status.busy": "2021-01-15T12:24:39.111875Z",
     "iopub.status.idle": "2021-01-15T12:24:39.113834Z",
     "shell.execute_reply": "2021-01-15T12:24:39.114350Z"
    },
    "papermill": {
     "duration": 0.0407,
     "end_time": "2021-01-15T12:24:39.114527",
     "exception": false,
     "start_time": "2021-01-15T12:24:39.073827",
     "status": "completed"
    },
    "tags": []
   },
   "outputs": [],
   "source": [
    "# #hide\n",
    "# g = g[g.group.notna()]"
   ]
  },
  {
   "cell_type": "code",
   "execution_count": 40,
   "metadata": {
    "execution": {
     "iopub.execute_input": "2021-01-15T12:24:39.187274Z",
     "iopub.status.busy": "2021-01-15T12:24:39.186590Z",
     "iopub.status.idle": "2021-01-15T12:24:39.188262Z",
     "shell.execute_reply": "2021-01-15T12:24:39.188723Z"
    },
    "papermill": {
     "duration": 0.040358,
     "end_time": "2021-01-15T12:24:39.188856",
     "exception": false,
     "start_time": "2021-01-15T12:24:39.148498",
     "status": "completed"
    },
    "tags": []
   },
   "outputs": [],
   "source": [
    "# #hide\n",
    "# colors = dict(zip(\n",
    "#     [\"Oceania\", \"Europe\", \"Asia\", \"South America\", \"Middle East\", \"North America\", \"Africa\"],\n",
    "#     [\"#adb0ff\", \"#ffb3ff\", \"#90d595\", \"#e48381\", \"#aafbff\", \"#f7bb5f\", \"#eafb50\"]\n",
    "# ))\n",
    "# group_lk = g.set_index('name')['group'].to_dict()"
   ]
  },
  {
   "cell_type": "code",
   "execution_count": null,
   "metadata": {
    "papermill": {
     "duration": 0.03444,
     "end_time": "2021-01-15T12:24:39.256546",
     "exception": false,
     "start_time": "2021-01-15T12:24:39.222106",
     "status": "completed"
    },
    "tags": []
   },
   "outputs": [],
   "source": []
  },
  {
   "cell_type": "code",
   "execution_count": 41,
   "metadata": {
    "execution": {
     "iopub.execute_input": "2021-01-15T12:24:39.328254Z",
     "iopub.status.busy": "2021-01-15T12:24:39.326709Z",
     "iopub.status.idle": "2021-01-15T12:24:39.328957Z",
     "shell.execute_reply": "2021-01-15T12:24:39.329481Z"
    },
    "papermill": {
     "duration": 0.039103,
     "end_time": "2021-01-15T12:24:39.329689",
     "exception": false,
     "start_time": "2021-01-15T12:24:39.290586",
     "status": "completed"
    },
    "tags": []
   },
   "outputs": [],
   "source": [
    "# #hide\n",
    "# fig, ax = plt.subplots(figsize=(15, 8))\n",
    "\n",
    "# def draw_barchart(current_day):\n",
    "#     dff = g[g['day'].eq(current_day)].sort_values(by='value', ascending=True).tail(10)\n",
    "#     ax.clear()\n",
    "#     ax.barh(dff['name'], dff['value'], color=[colors[group_lk[x]] for x in dff['name']])\n",
    "#     dx = dff['value'].max() / 200\n",
    "    \n",
    "#     for i, (value, name) in enumerate(zip(dff['value'], dff['name'])):\n",
    "#         ax.text(value-dx, i,     name,           size=14, weight=600, ha='right', va='bottom')\n",
    "#         ax.text(value-dx, i-.25, group_lk[name], size=10, color='#444444', ha='right', va='baseline')\n",
    "#         ax.text(value+dx, i,     f'{value:,.0f}',  size=14, ha='left',  va='center')\n",
    "#     ax.text(1, 0.4, current_day, transform=ax.transAxes, color='#777777', size=46, ha='right', weight=800)\n",
    "#     ax.text(0, 1.06, 'Population (thousands)', transform=ax.transAxes, size=12, color='#777777')\n",
    "#     ax.xaxis.set_major_formatter(ticker.StrMethodFormatter('{x:,.0f}'))\n",
    "#     ax.xaxis.set_ticks_position('top')\n",
    "#     ax.tick_params(axis='x', colors='#777777', labelsize=12)\n",
    "#     ax.set_yticks([])\n",
    "#     ax.margins(0, 0.01)\n",
    "#     ax.grid(which='major', axis='x', linestyle='-')\n",
    "#     ax.set_axisbelow(True)\n",
    "    \n",
    "#     ax.text(0, 1.15, 'Coronavirus',\n",
    "#             transform=ax.transAxes, size=24, weight=600, ha='left', va='top')\n",
    "# #     ax.text(1, 0, 'by @pratapvardhan; credit @jburnmurdoch', transform=ax.transAxes, color='#777777', ha='right',\n",
    "# #             bbox=dict(facecolor='white', alpha=0.8, edgecolor='white'))\n",
    "#     plt.box(False)"
   ]
  },
  {
   "cell_type": "code",
   "execution_count": 42,
   "metadata": {
    "execution": {
     "iopub.execute_input": "2021-01-15T12:24:39.404019Z",
     "iopub.status.busy": "2021-01-15T12:24:39.403326Z",
     "iopub.status.idle": "2021-01-15T12:24:39.405635Z",
     "shell.execute_reply": "2021-01-15T12:24:39.406181Z"
    },
    "papermill": {
     "duration": 0.04001,
     "end_time": "2021-01-15T12:24:39.406330",
     "exception": false,
     "start_time": "2021-01-15T12:24:39.366320",
     "status": "completed"
    },
    "tags": []
   },
   "outputs": [],
   "source": [
    "# #hide_input\n",
    "# fig, ax = plt.subplots(figsize=(15, 8))\n",
    "# animator = animation.FuncAnimation(fig, draw_barchart, frames=range(g.day.values.min(), g.day.values.max()))\n",
    "# HTML(animator.to_jshtml())\n",
    "# # or use animator.to_html5_video() or animator.save() "
   ]
  },
  {
   "cell_type": "code",
   "execution_count": null,
   "metadata": {
    "papermill": {
     "duration": 0.035729,
     "end_time": "2021-01-15T12:24:39.478510",
     "exception": false,
     "start_time": "2021-01-15T12:24:39.442781",
     "status": "completed"
    },
    "tags": []
   },
   "outputs": [],
   "source": []
  },
  {
   "cell_type": "code",
   "execution_count": null,
   "metadata": {
    "papermill": {
     "duration": 0.032903,
     "end_time": "2021-01-15T12:24:39.547237",
     "exception": false,
     "start_time": "2021-01-15T12:24:39.514334",
     "status": "completed"
    },
    "tags": []
   },
   "outputs": [],
   "source": []
  },
  {
   "cell_type": "code",
   "execution_count": null,
   "metadata": {
    "papermill": {
     "duration": 0.034111,
     "end_time": "2021-01-15T12:24:39.613673",
     "exception": false,
     "start_time": "2021-01-15T12:24:39.579562",
     "status": "completed"
    },
    "tags": []
   },
   "outputs": [],
   "source": []
  }
 ],
 "metadata": {
  "kernelspec": {
   "display_name": "Python 3",
   "language": "python",
   "name": "python3"
  },
  "language_info": {
   "codemirror_mode": {
    "name": "ipython",
    "version": 3
   },
   "file_extension": ".py",
   "mimetype": "text/x-python",
   "name": "python",
   "nbconvert_exporter": "python",
   "pygments_lexer": "ipython3",
   "version": "3.6.12"
  },
  "papermill": {
   "duration": 10.726042,
   "end_time": "2021-01-15T12:24:40.056122",
   "environment_variables": {},
   "exception": null,
   "input_path": "2020-03-21-covid19exp.ipynb",
   "output_path": "2020-03-21-covid19exp.ipynb",
   "parameters": {},
   "start_time": "2021-01-15T12:24:29.330080",
   "version": "2.0.0"
  }
 },
 "nbformat": 4,
 "nbformat_minor": 4
}