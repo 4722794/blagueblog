{
 "cells": [
  {
   "cell_type": "markdown",
   "id": "muslim-click",
   "metadata": {
    "papermill": {
     "duration": 0.039516,
     "end_time": "2021-01-23T12:22:32.101634",
     "exception": false,
     "start_time": "2021-01-23T12:22:32.062118",
     "status": "completed"
    },
    "tags": []
   },
   "source": [
    "# COVID-19 Case Race\n",
    "> A race chart to see rising cases around the world\n",
    "\n",
    "- author: Hargun Oberoi\n",
    "- image: images/covid-overview.png\n",
    "- hide: false\n",
    "- badges: false"
   ]
  },
  {
   "cell_type": "code",
   "execution_count": 1,
   "id": "proof-material",
   "metadata": {
    "execution": {
     "iopub.execute_input": "2021-01-23T12:22:32.173449Z",
     "iopub.status.busy": "2021-01-23T12:22:32.172909Z",
     "iopub.status.idle": "2021-01-23T12:22:32.477053Z",
     "shell.execute_reply": "2021-01-23T12:22:32.476576Z"
    },
    "papermill": {
     "duration": 0.342665,
     "end_time": "2021-01-23T12:22:32.477196",
     "exception": false,
     "start_time": "2021-01-23T12:22:32.134531",
     "status": "completed"
    },
    "tags": []
   },
   "outputs": [],
   "source": [
    "#hide\n",
    "import numpy as np\n",
    "import pandas as pd\n",
    "from jinja2 import Template\n",
    "from IPython.display import HTML"
   ]
  },
  {
   "cell_type": "code",
   "execution_count": 2,
   "id": "developed-terminology",
   "metadata": {
    "execution": {
     "iopub.execute_input": "2021-01-23T12:22:32.542097Z",
     "iopub.status.busy": "2021-01-23T12:22:32.541536Z",
     "iopub.status.idle": "2021-01-23T12:22:32.543877Z",
     "shell.execute_reply": "2021-01-23T12:22:32.543308Z"
    },
    "papermill": {
     "duration": 0.036768,
     "end_time": "2021-01-23T12:22:32.544003",
     "exception": false,
     "start_time": "2021-01-23T12:22:32.507235",
     "status": "completed"
    },
    "tags": []
   },
   "outputs": [],
   "source": [
    "#hide\n",
    "\n",
    "# FETCH\n",
    "base_url = 'https://raw.githubusercontent.com/pratapvardhan/notebooks/master/covid19/'\n",
    "paths = {\n",
    "    'mapping': base_url + 'mapping_countries.csv',\n",
    "    'overview': base_url + 'overview.tpl'\n",
    "}"
   ]
  },
  {
   "cell_type": "code",
   "execution_count": 3,
   "id": "dynamic-saver",
   "metadata": {
    "execution": {
     "iopub.execute_input": "2021-01-23T12:22:32.618546Z",
     "iopub.status.busy": "2021-01-23T12:22:32.617908Z",
     "iopub.status.idle": "2021-01-23T12:22:32.621217Z",
     "shell.execute_reply": "2021-01-23T12:22:32.620753Z"
    },
    "papermill": {
     "duration": 0.046139,
     "end_time": "2021-01-23T12:22:32.621322",
     "exception": false,
     "start_time": "2021-01-23T12:22:32.575183",
     "status": "completed"
    },
    "tags": []
   },
   "outputs": [
    {
     "data": {
      "text/plain": [
       "'https://raw.githubusercontent.com/pratapvardhan/notebooks/master/covid19/mapping_countries.csv'"
      ]
     },
     "execution_count": 3,
     "metadata": {},
     "output_type": "execute_result"
    }
   ],
   "source": [
    "#hide\n",
    "paths['mapping']"
   ]
  },
  {
   "cell_type": "code",
   "execution_count": 4,
   "id": "urban-software",
   "metadata": {
    "execution": {
     "iopub.execute_input": "2021-01-23T12:22:32.691587Z",
     "iopub.status.busy": "2021-01-23T12:22:32.691039Z",
     "iopub.status.idle": "2021-01-23T12:22:32.692491Z",
     "shell.execute_reply": "2021-01-23T12:22:32.692947Z"
    },
    "papermill": {
     "duration": 0.041844,
     "end_time": "2021-01-23T12:22:32.693088",
     "exception": false,
     "start_time": "2021-01-23T12:22:32.651244",
     "status": "completed"
    },
    "tags": []
   },
   "outputs": [],
   "source": [
    "#hide\n",
    "def get_mappings(url):\n",
    "    df = pd.read_csv(url)\n",
    "    return {\n",
    "        'df': df,\n",
    "        'replace.country': dict(df.dropna(subset=['Name']).set_index('Country')['Name']),\n",
    "        'map.continent': dict(df.set_index('Name')['Continent'])\n",
    "    }"
   ]
  },
  {
   "cell_type": "code",
   "execution_count": 5,
   "id": "intimate-machinery",
   "metadata": {
    "execution": {
     "iopub.execute_input": "2021-01-23T12:22:32.756338Z",
     "iopub.status.busy": "2021-01-23T12:22:32.755814Z",
     "iopub.status.idle": "2021-01-23T12:22:32.818556Z",
     "shell.execute_reply": "2021-01-23T12:22:32.818966Z"
    },
    "papermill": {
     "duration": 0.096718,
     "end_time": "2021-01-23T12:22:32.819089",
     "exception": false,
     "start_time": "2021-01-23T12:22:32.722371",
     "status": "completed"
    },
    "tags": []
   },
   "outputs": [],
   "source": [
    "#hide\n",
    "mapping = get_mappings(paths['mapping'])"
   ]
  },
  {
   "cell_type": "code",
   "execution_count": 6,
   "id": "certified-tactics",
   "metadata": {
    "execution": {
     "iopub.execute_input": "2021-01-23T12:22:32.884468Z",
     "iopub.status.busy": "2021-01-23T12:22:32.883919Z",
     "iopub.status.idle": "2021-01-23T12:22:32.886103Z",
     "shell.execute_reply": "2021-01-23T12:22:32.885682Z"
    },
    "papermill": {
     "duration": 0.035709,
     "end_time": "2021-01-23T12:22:32.886211",
     "exception": false,
     "start_time": "2021-01-23T12:22:32.850502",
     "status": "completed"
    },
    "tags": []
   },
   "outputs": [],
   "source": [
    "#hide\n",
    "def get_template(path):\n",
    "    from urllib.parse import urlparse\n",
    "    if bool(urlparse(path).netloc):\n",
    "        from urllib.request import urlopen\n",
    "        return urlopen(path).read().decode('utf8')\n",
    "    return open(path).read()"
   ]
  },
  {
   "cell_type": "code",
   "execution_count": 7,
   "id": "realistic-blast",
   "metadata": {
    "execution": {
     "iopub.execute_input": "2021-01-23T12:22:32.949625Z",
     "iopub.status.busy": "2021-01-23T12:22:32.949029Z",
     "iopub.status.idle": "2021-01-23T12:22:32.950924Z",
     "shell.execute_reply": "2021-01-23T12:22:32.951455Z"
    },
    "papermill": {
     "duration": 0.035591,
     "end_time": "2021-01-23T12:22:32.951569",
     "exception": false,
     "start_time": "2021-01-23T12:22:32.915978",
     "status": "completed"
    },
    "tags": []
   },
   "outputs": [],
   "source": [
    "#hide\n",
    "def get_frame(name):\n",
    "    url = (\n",
    "        'https://raw.githubusercontent.com/CSSEGISandData/COVID-19/master/csse_covid_19_data/'\n",
    "        f'csse_covid_19_time_series/time_series_covid19_{name}_global.csv')\n",
    "    df = pd.read_csv(url)\n",
    "    # rename countries\n",
    "    df['Country/Region'] = df['Country/Region'].replace(mapping['replace.country'])\n",
    "    return df"
   ]
  },
  {
   "cell_type": "code",
   "execution_count": 8,
   "id": "affiliated-characterization",
   "metadata": {
    "execution": {
     "iopub.execute_input": "2021-01-23T12:22:33.015733Z",
     "iopub.status.busy": "2021-01-23T12:22:33.015223Z",
     "iopub.status.idle": "2021-01-23T12:22:33.017002Z",
     "shell.execute_reply": "2021-01-23T12:22:33.017462Z"
    },
    "papermill": {
     "duration": 0.036903,
     "end_time": "2021-01-23T12:22:33.017600",
     "exception": false,
     "start_time": "2021-01-23T12:22:32.980697",
     "status": "completed"
    },
    "tags": []
   },
   "outputs": [],
   "source": [
    "#hide\n",
    "def get_dates(df):\n",
    "    dt_cols = df.columns[~df.columns.isin(['Province/State', 'Country/Region', 'Lat', 'Long'])]\n",
    "    LAST_DATE_I = -1\n",
    "    # sometimes last column may be empty, then go backwards\n",
    "    for i in range(-1, -len(dt_cols), -1):\n",
    "        if not df[dt_cols[i]].fillna(0).eq(0).all():\n",
    "            LAST_DATE_I = i\n",
    "            break\n",
    "    return LAST_DATE_I, dt_cols"
   ]
  },
  {
   "cell_type": "code",
   "execution_count": 9,
   "id": "recent-optimization",
   "metadata": {
    "execution": {
     "iopub.execute_input": "2021-01-23T12:22:33.082053Z",
     "iopub.status.busy": "2021-01-23T12:22:33.081306Z",
     "iopub.status.idle": "2021-01-23T12:22:33.535141Z",
     "shell.execute_reply": "2021-01-23T12:22:33.534420Z"
    },
    "papermill": {
     "duration": 0.488633,
     "end_time": "2021-01-23T12:22:33.535280",
     "exception": false,
     "start_time": "2021-01-23T12:22:33.046647",
     "status": "completed"
    },
    "tags": []
   },
   "outputs": [],
   "source": [
    "#hide\n",
    "COL_REGION = 'Country/Region'\n",
    "# Confirmed, Recovered, Deaths\n",
    "df = get_frame('confirmed')\n",
    "# dft_: timeseries, dfc_: today country agg\n",
    "dft_cases = df\n",
    "dft_deaths = get_frame('deaths')\n",
    "dft_recovered = get_frame('recovered')\n",
    "LAST_DATE_I, dt_cols = get_dates(df)"
   ]
  },
  {
   "cell_type": "code",
   "execution_count": 10,
   "id": "absolute-copper",
   "metadata": {
    "execution": {
     "iopub.execute_input": "2021-01-23T12:22:33.605057Z",
     "iopub.status.busy": "2021-01-23T12:22:33.604486Z",
     "iopub.status.idle": "2021-01-23T12:22:33.606160Z",
     "shell.execute_reply": "2021-01-23T12:22:33.606661Z"
    },
    "papermill": {
     "duration": 0.039618,
     "end_time": "2021-01-23T12:22:33.606813",
     "exception": false,
     "start_time": "2021-01-23T12:22:33.567195",
     "status": "completed"
    },
    "tags": []
   },
   "outputs": [],
   "source": [
    "#hide\n",
    "LAST_DATE_I, dt_cols = get_dates(df)\n",
    "dt_today =dt_cols[LAST_DATE_I]\n",
    "# dt_5day = dt_cols[LAST_DATE_I - 5]\n",
    "dt_yday = dt_cols[LAST_DATE_I - 1]"
   ]
  },
  {
   "cell_type": "code",
   "execution_count": 11,
   "id": "restricted-sheriff",
   "metadata": {
    "execution": {
     "iopub.execute_input": "2021-01-23T12:22:33.676152Z",
     "iopub.status.busy": "2021-01-23T12:22:33.675541Z",
     "iopub.status.idle": "2021-01-23T12:22:33.684628Z",
     "shell.execute_reply": "2021-01-23T12:22:33.684102Z"
    },
    "papermill": {
     "duration": 0.045712,
     "end_time": "2021-01-23T12:22:33.684759",
     "exception": false,
     "start_time": "2021-01-23T12:22:33.639047",
     "status": "completed"
    },
    "tags": []
   },
   "outputs": [],
   "source": [
    "#hide\n",
    "dfc_cases = dft_cases.groupby(COL_REGION)[dt_today].sum()\n",
    "dfc_deaths = dft_deaths.groupby(COL_REGION)[dt_today].sum()\n",
    "# dfp_cases = dft_cases.groupby(COL_REGION)[dt_5day].sum()\n",
    "# dfp_deaths = dft_deaths.groupby(COL_REGION)[dt_5day].sum()\n",
    "dfp_cases = dft_cases.groupby(COL_REGION)[dt_yday].sum()\n",
    "dfp_deaths = dft_deaths.groupby(COL_REGION)[dt_yday].sum()"
   ]
  },
  {
   "cell_type": "code",
   "execution_count": 12,
   "id": "deluxe-hepatitis",
   "metadata": {
    "execution": {
     "iopub.execute_input": "2021-01-23T12:22:33.752838Z",
     "iopub.status.busy": "2021-01-23T12:22:33.752124Z",
     "iopub.status.idle": "2021-01-23T12:22:33.756549Z",
     "shell.execute_reply": "2021-01-23T12:22:33.757078Z"
    },
    "papermill": {
     "duration": 0.041569,
     "end_time": "2021-01-23T12:22:33.757205",
     "exception": false,
     "start_time": "2021-01-23T12:22:33.715636",
     "status": "completed"
    },
    "tags": []
   },
   "outputs": [],
   "source": [
    "#hide\n",
    "df_table = (pd.DataFrame(dict(Cases = dfc_cases, Deaths = dfc_deaths, PCases = dfp_cases, PDeaths = dfp_deaths))\n",
    "            .sort_values(by = ['Cases','Deaths'], ascending = [False, False])\n",
    "            .reset_index())"
   ]
  },
  {
   "cell_type": "code",
   "execution_count": 13,
   "id": "educational-chancellor",
   "metadata": {
    "execution": {
     "iopub.execute_input": "2021-01-23T12:22:33.837732Z",
     "iopub.status.busy": "2021-01-23T12:22:33.837157Z",
     "iopub.status.idle": "2021-01-23T12:22:33.844880Z",
     "shell.execute_reply": "2021-01-23T12:22:33.845410Z"
    },
    "papermill": {
     "duration": 0.057156,
     "end_time": "2021-01-23T12:22:33.845594",
     "exception": false,
     "start_time": "2021-01-23T12:22:33.788438",
     "status": "completed"
    },
    "tags": []
   },
   "outputs": [
    {
     "data": {
      "text/html": [
       "<div>\n",
       "<style scoped>\n",
       "    .dataframe tbody tr th:only-of-type {\n",
       "        vertical-align: middle;\n",
       "    }\n",
       "\n",
       "    .dataframe tbody tr th {\n",
       "        vertical-align: top;\n",
       "    }\n",
       "\n",
       "    .dataframe thead th {\n",
       "        text-align: right;\n",
       "    }\n",
       "</style>\n",
       "<table border=\"1\" class=\"dataframe\">\n",
       "  <thead>\n",
       "    <tr style=\"text-align: right;\">\n",
       "      <th></th>\n",
       "      <th>Country/Region</th>\n",
       "      <th>Cases</th>\n",
       "      <th>Deaths</th>\n",
       "      <th>PCases</th>\n",
       "      <th>PDeaths</th>\n",
       "      <th>Cases (+)</th>\n",
       "      <th>Deaths (+)</th>\n",
       "      <th>Fatality Rate</th>\n",
       "      <th>Continent</th>\n",
       "    </tr>\n",
       "  </thead>\n",
       "  <tbody>\n",
       "    <tr>\n",
       "      <th>0</th>\n",
       "      <td>US</td>\n",
       "      <td>24821813</td>\n",
       "      <td>414107</td>\n",
       "      <td>24631888</td>\n",
       "      <td>410349</td>\n",
       "      <td>189925</td>\n",
       "      <td>3758</td>\n",
       "      <td>1.67</td>\n",
       "      <td>North America</td>\n",
       "    </tr>\n",
       "    <tr>\n",
       "      <th>1</th>\n",
       "      <td>India</td>\n",
       "      <td>10639684</td>\n",
       "      <td>153184</td>\n",
       "      <td>10625428</td>\n",
       "      <td>153032</td>\n",
       "      <td>14256</td>\n",
       "      <td>152</td>\n",
       "      <td>1.44</td>\n",
       "      <td>Asia</td>\n",
       "    </tr>\n",
       "    <tr>\n",
       "      <th>2</th>\n",
       "      <td>Brazil</td>\n",
       "      <td>8753920</td>\n",
       "      <td>215243</td>\n",
       "      <td>8697368</td>\n",
       "      <td>214147</td>\n",
       "      <td>56552</td>\n",
       "      <td>1096</td>\n",
       "      <td>2.46</td>\n",
       "      <td>South America</td>\n",
       "    </tr>\n",
       "    <tr>\n",
       "      <th>3</th>\n",
       "      <td>Russia</td>\n",
       "      <td>3637862</td>\n",
       "      <td>67376</td>\n",
       "      <td>3616680</td>\n",
       "      <td>66810</td>\n",
       "      <td>21182</td>\n",
       "      <td>566</td>\n",
       "      <td>1.85</td>\n",
       "      <td>Europe</td>\n",
       "    </tr>\n",
       "    <tr>\n",
       "      <th>4</th>\n",
       "      <td>United Kingdom</td>\n",
       "      <td>3594094</td>\n",
       "      <td>96166</td>\n",
       "      <td>3553773</td>\n",
       "      <td>94765</td>\n",
       "      <td>40321</td>\n",
       "      <td>1401</td>\n",
       "      <td>2.68</td>\n",
       "      <td>Europe</td>\n",
       "    </tr>\n",
       "  </tbody>\n",
       "</table>\n",
       "</div>"
      ],
      "text/plain": [
       "   Country/Region     Cases  Deaths    PCases  PDeaths  Cases (+)  Deaths (+)  \\\n",
       "0              US  24821813  414107  24631888   410349     189925        3758   \n",
       "1           India  10639684  153184  10625428   153032      14256         152   \n",
       "2          Brazil   8753920  215243   8697368   214147      56552        1096   \n",
       "3          Russia   3637862   67376   3616680    66810      21182         566   \n",
       "4  United Kingdom   3594094   96166   3553773    94765      40321        1401   \n",
       "\n",
       "   Fatality Rate      Continent  \n",
       "0           1.67  North America  \n",
       "1           1.44           Asia  \n",
       "2           2.46  South America  \n",
       "3           1.85         Europe  \n",
       "4           2.68         Europe  "
      ]
     },
     "execution_count": 13,
     "metadata": {},
     "output_type": "execute_result"
    }
   ],
   "source": [
    "#hide\n",
    "for c in 'Cases, Deaths'.split(', '):\n",
    "    df_table[f'{c} (+)'] = (df_table[c] - df_table[f'P{c}']).clip(0)\n",
    "    #Clip ça veut dire, les chiffres negatif sont interdit\n",
    "df_table['Fatality Rate'] = (100* df_table['Deaths']/ df_table['Cases']).round(2)\n",
    "df_table['Continent'] = df_table['Country/Region'].map(mapping['map.continent'])\n",
    "df_table.head(5)"
   ]
  },
  {
   "cell_type": "code",
   "execution_count": 14,
   "id": "aboriginal-bulgaria",
   "metadata": {
    "execution": {
     "iopub.execute_input": "2021-01-23T12:22:33.911516Z",
     "iopub.status.busy": "2021-01-23T12:22:33.910996Z",
     "iopub.status.idle": "2021-01-23T12:22:33.913202Z",
     "shell.execute_reply": "2021-01-23T12:22:33.912665Z"
    },
    "papermill": {
     "duration": 0.038086,
     "end_time": "2021-01-23T12:22:33.913308",
     "exception": false,
     "start_time": "2021-01-23T12:22:33.875222",
     "status": "completed"
    },
    "tags": []
   },
   "outputs": [],
   "source": [
    "#hide\n",
    "#delete problematic countries from table\n",
    "df_table = df_table[~df_table['Country/Region'].isin(['Cape Verde', 'Cruise Ship', 'Kosovo'])]"
   ]
  },
  {
   "cell_type": "code",
   "execution_count": 15,
   "id": "fantastic-effect",
   "metadata": {
    "execution": {
     "iopub.execute_input": "2021-01-23T12:22:33.978992Z",
     "iopub.status.busy": "2021-01-23T12:22:33.978450Z",
     "iopub.status.idle": "2021-01-23T12:22:33.996930Z",
     "shell.execute_reply": "2021-01-23T12:22:33.996449Z"
    },
    "papermill": {
     "duration": 0.054102,
     "end_time": "2021-01-23T12:22:33.997054",
     "exception": false,
     "start_time": "2021-01-23T12:22:33.942952",
     "status": "completed"
    },
    "tags": []
   },
   "outputs": [
    {
     "data": {
      "text/html": [
       "<div>\n",
       "<style scoped>\n",
       "    .dataframe tbody tr th:only-of-type {\n",
       "        vertical-align: middle;\n",
       "    }\n",
       "\n",
       "    .dataframe tbody tr th {\n",
       "        vertical-align: top;\n",
       "    }\n",
       "\n",
       "    .dataframe thead th {\n",
       "        text-align: right;\n",
       "    }\n",
       "</style>\n",
       "<table border=\"1\" class=\"dataframe\">\n",
       "  <thead>\n",
       "    <tr style=\"text-align: right;\">\n",
       "      <th></th>\n",
       "      <th>Country/Region</th>\n",
       "      <th>Cases</th>\n",
       "      <th>Deaths</th>\n",
       "      <th>PCases</th>\n",
       "      <th>PDeaths</th>\n",
       "      <th>Cases (+)</th>\n",
       "      <th>Deaths (+)</th>\n",
       "      <th>Fatality Rate</th>\n",
       "      <th>Continent</th>\n",
       "    </tr>\n",
       "  </thead>\n",
       "  <tbody>\n",
       "    <tr>\n",
       "      <th>0</th>\n",
       "      <td>US</td>\n",
       "      <td>24821813</td>\n",
       "      <td>414107</td>\n",
       "      <td>24631888</td>\n",
       "      <td>410349</td>\n",
       "      <td>189925</td>\n",
       "      <td>3758</td>\n",
       "      <td>1.7</td>\n",
       "      <td>North America</td>\n",
       "    </tr>\n",
       "    <tr>\n",
       "      <th>1</th>\n",
       "      <td>India</td>\n",
       "      <td>10639684</td>\n",
       "      <td>153184</td>\n",
       "      <td>10625428</td>\n",
       "      <td>153032</td>\n",
       "      <td>14256</td>\n",
       "      <td>152</td>\n",
       "      <td>1.4</td>\n",
       "      <td>Asia</td>\n",
       "    </tr>\n",
       "    <tr>\n",
       "      <th>2</th>\n",
       "      <td>Brazil</td>\n",
       "      <td>8753920</td>\n",
       "      <td>215243</td>\n",
       "      <td>8697368</td>\n",
       "      <td>214147</td>\n",
       "      <td>56552</td>\n",
       "      <td>1096</td>\n",
       "      <td>2.5</td>\n",
       "      <td>South America</td>\n",
       "    </tr>\n",
       "    <tr>\n",
       "      <th>3</th>\n",
       "      <td>Russia</td>\n",
       "      <td>3637862</td>\n",
       "      <td>67376</td>\n",
       "      <td>3616680</td>\n",
       "      <td>66810</td>\n",
       "      <td>21182</td>\n",
       "      <td>566</td>\n",
       "      <td>1.9</td>\n",
       "      <td>Europe</td>\n",
       "    </tr>\n",
       "    <tr>\n",
       "      <th>4</th>\n",
       "      <td>United Kingdom</td>\n",
       "      <td>3594094</td>\n",
       "      <td>96166</td>\n",
       "      <td>3553773</td>\n",
       "      <td>94765</td>\n",
       "      <td>40321</td>\n",
       "      <td>1401</td>\n",
       "      <td>2.7</td>\n",
       "      <td>Europe</td>\n",
       "    </tr>\n",
       "  </tbody>\n",
       "</table>\n",
       "</div>"
      ],
      "text/plain": [
       "   Country/Region     Cases  Deaths    PCases  PDeaths  Cases (+)  Deaths (+)  \\\n",
       "0              US  24821813  414107  24631888   410349     189925        3758   \n",
       "1           India  10639684  153184  10625428   153032      14256         152   \n",
       "2          Brazil   8753920  215243   8697368   214147      56552        1096   \n",
       "3          Russia   3637862   67376   3616680    66810      21182         566   \n",
       "4  United Kingdom   3594094   96166   3553773    94765      40321        1401   \n",
       "\n",
       "   Fatality Rate      Continent  \n",
       "0            1.7  North America  \n",
       "1            1.4           Asia  \n",
       "2            2.5  South America  \n",
       "3            1.9         Europe  \n",
       "4            2.7         Europe  "
      ]
     },
     "execution_count": 15,
     "metadata": {},
     "output_type": "execute_result"
    }
   ],
   "source": [
    "#hide\n",
    "df_table = (pd.DataFrame(dict(Cases=dfc_cases, Deaths=dfc_deaths, PCases=dfp_cases, PDeaths=dfp_deaths))\n",
    "             .sort_values(by=['Cases', 'Deaths'], ascending=[False, False])\n",
    "             .reset_index())\n",
    "df_table.rename(columns={'index': 'Country/Region'}, inplace=True)\n",
    "for c in 'Cases, Deaths'.split(', '):\n",
    "    df_table[f'{c} (+)'] = (df_table[c] - df_table[f'P{c}']).clip(0)  # DATA BUG\n",
    "df_table['Fatality Rate'] = (100 * df_table['Deaths'] / df_table['Cases']).round(1)\n",
    "df_table['Continent'] = df_table['Country/Region'].map(mapping['map.continent'])\n",
    "df_table.head(5)"
   ]
  },
  {
   "cell_type": "code",
   "execution_count": 16,
   "id": "fewer-occasion",
   "metadata": {
    "execution": {
     "iopub.execute_input": "2021-01-23T12:22:34.064554Z",
     "iopub.status.busy": "2021-01-23T12:22:34.063930Z",
     "iopub.status.idle": "2021-01-23T12:22:34.066357Z",
     "shell.execute_reply": "2021-01-23T12:22:34.066837Z"
    },
    "papermill": {
     "duration": 0.039769,
     "end_time": "2021-01-23T12:22:34.066960",
     "exception": false,
     "start_time": "2021-01-23T12:22:34.027191",
     "status": "completed"
    },
    "tags": []
   },
   "outputs": [],
   "source": [
    "#hide\n",
    "#delete problematic countries from table\n",
    "df_table = df_table[~df_table['Country/Region'].isin(['Cape Verde', 'Cruise Ship', 'Kosovo'])]"
   ]
  },
  {
   "cell_type": "code",
   "execution_count": 17,
   "id": "related-center",
   "metadata": {
    "execution": {
     "iopub.execute_input": "2021-01-23T12:22:34.137964Z",
     "iopub.status.busy": "2021-01-23T12:22:34.137434Z",
     "iopub.status.idle": "2021-01-23T12:22:34.150842Z",
     "shell.execute_reply": "2021-01-23T12:22:34.151274Z"
    },
    "papermill": {
     "duration": 0.053612,
     "end_time": "2021-01-23T12:22:34.151393",
     "exception": false,
     "start_time": "2021-01-23T12:22:34.097781",
     "status": "completed"
    },
    "tags": []
   },
   "outputs": [],
   "source": [
    "#hide\n",
    "metrics = [df_table.columns[index] for index in [1,2,5,6]]\n",
    "# s_china = df_table[df_table['Country/Region'].eq('China')][metrics].sum().add_prefix('China ')\n",
    "s_us = df_table[df_table['Country/Region'].eq('US')][metrics].sum().add_prefix('US ')\n",
    "s_eu = df_table[df_table['Continent'].eq('Europe')][metrics].sum().add_prefix('EU ')\n",
    "s_ind = df_table[df_table['Country/Region'].eq('India')][metrics].sum().add_prefix('India ')\n",
    "summary = {'updated': pd.to_datetime(dt_today), 'since': pd.to_datetime(dt_yday)}\n",
    "summary = {'updated': pd.to_datetime(dt_today), 'since': pd.to_datetime(dt_yday)}\n",
    "summary = {**summary, **df_table[metrics].sum(), **s_ind, **s_us, **s_eu}"
   ]
  },
  {
   "cell_type": "code",
   "execution_count": 18,
   "id": "engaging-syndrome",
   "metadata": {
    "execution": {
     "iopub.execute_input": "2021-01-23T12:22:34.218592Z",
     "iopub.status.busy": "2021-01-23T12:22:34.217989Z",
     "iopub.status.idle": "2021-01-23T12:22:34.228819Z",
     "shell.execute_reply": "2021-01-23T12:22:34.228339Z"
    },
    "papermill": {
     "duration": 0.047946,
     "end_time": "2021-01-23T12:22:34.228933",
     "exception": false,
     "start_time": "2021-01-23T12:22:34.180987",
     "status": "completed"
    },
    "tags": []
   },
   "outputs": [],
   "source": [
    "#hide\n",
    "dft_ct_new_cases = dft_cases.groupby(COL_REGION)[dt_cols].sum().diff(axis=1).fillna(0).astype(int)"
   ]
  },
  {
   "cell_type": "code",
   "execution_count": 19,
   "id": "neutral-assignment",
   "metadata": {
    "execution": {
     "iopub.execute_input": "2021-01-23T12:22:34.296706Z",
     "iopub.status.busy": "2021-01-23T12:22:34.296121Z",
     "iopub.status.idle": "2021-01-23T12:22:34.298390Z",
     "shell.execute_reply": "2021-01-23T12:22:34.297828Z"
    },
    "papermill": {
     "duration": 0.038868,
     "end_time": "2021-01-23T12:22:34.298502",
     "exception": false,
     "start_time": "2021-01-23T12:22:34.259634",
     "status": "completed"
    },
    "tags": []
   },
   "outputs": [],
   "source": [
    "#hide\n",
    "everydaycases = dft_ct_new_cases.cumsum(axis=1)"
   ]
  },
  {
   "cell_type": "code",
   "execution_count": 20,
   "id": "parliamentary-calgary",
   "metadata": {
    "execution": {
     "iopub.execute_input": "2021-01-23T12:22:34.364415Z",
     "iopub.status.busy": "2021-01-23T12:22:34.363857Z",
     "iopub.status.idle": "2021-01-23T12:22:35.271488Z",
     "shell.execute_reply": "2021-01-23T12:22:35.270981Z"
    },
    "papermill": {
     "duration": 0.94137,
     "end_time": "2021-01-23T12:22:35.271614",
     "exception": false,
     "start_time": "2021-01-23T12:22:34.330244",
     "status": "completed"
    },
    "tags": []
   },
   "outputs": [],
   "source": [
    "#hide\n",
    "import pandas as pd\n",
    "import matplotlib.pyplot as plt\n",
    "import matplotlib.ticker as ticker\n",
    "import matplotlib.animation as animation\n",
    "from IPython.display import HTML"
   ]
  },
  {
   "cell_type": "code",
   "execution_count": 21,
   "id": "lasting-extraction",
   "metadata": {
    "execution": {
     "iopub.execute_input": "2021-01-23T12:22:35.342199Z",
     "iopub.status.busy": "2021-01-23T12:22:35.341660Z",
     "iopub.status.idle": "2021-01-23T12:22:35.346519Z",
     "shell.execute_reply": "2021-01-23T12:22:35.345768Z"
    },
    "papermill": {
     "duration": 0.041641,
     "end_time": "2021-01-23T12:22:35.346637",
     "exception": false,
     "start_time": "2021-01-23T12:22:35.304996",
     "status": "completed"
    },
    "tags": []
   },
   "outputs": [],
   "source": [
    "#hide\n",
    "t = everydaycases.stack()"
   ]
  },
  {
   "cell_type": "code",
   "execution_count": 22,
   "id": "premier-sleeve",
   "metadata": {
    "execution": {
     "iopub.execute_input": "2021-01-23T12:22:35.413305Z",
     "iopub.status.busy": "2021-01-23T12:22:35.412736Z",
     "iopub.status.idle": "2021-01-23T12:22:35.418681Z",
     "shell.execute_reply": "2021-01-23T12:22:35.418244Z"
    },
    "papermill": {
     "duration": 0.040892,
     "end_time": "2021-01-23T12:22:35.418845",
     "exception": false,
     "start_time": "2021-01-23T12:22:35.377953",
     "status": "completed"
    },
    "tags": []
   },
   "outputs": [],
   "source": [
    "#hide\n",
    "g = t.reset_index(['Country/Region'])"
   ]
  },
  {
   "cell_type": "code",
   "execution_count": 23,
   "id": "distributed-pittsburgh",
   "metadata": {
    "execution": {
     "iopub.execute_input": "2021-01-23T12:22:35.484061Z",
     "iopub.status.busy": "2021-01-23T12:22:35.483502Z",
     "iopub.status.idle": "2021-01-23T12:22:35.485435Z",
     "shell.execute_reply": "2021-01-23T12:22:35.485906Z"
    },
    "papermill": {
     "duration": 0.036043,
     "end_time": "2021-01-23T12:22:35.486019",
     "exception": false,
     "start_time": "2021-01-23T12:22:35.449976",
     "status": "completed"
    },
    "tags": []
   },
   "outputs": [],
   "source": [
    "#hide\n",
    "g.index.name = 'date'"
   ]
  },
  {
   "cell_type": "code",
   "execution_count": 24,
   "id": "naked-donor",
   "metadata": {
    "execution": {
     "iopub.execute_input": "2021-01-23T12:22:35.550493Z",
     "iopub.status.busy": "2021-01-23T12:22:35.549841Z",
     "iopub.status.idle": "2021-01-23T12:22:35.551417Z",
     "shell.execute_reply": "2021-01-23T12:22:35.551890Z"
    },
    "papermill": {
     "duration": 0.035572,
     "end_time": "2021-01-23T12:22:35.552015",
     "exception": false,
     "start_time": "2021-01-23T12:22:35.516443",
     "status": "completed"
    },
    "tags": []
   },
   "outputs": [],
   "source": [
    "# #hide\n",
    "# g = g.reset_index(['date'])"
   ]
  },
  {
   "cell_type": "code",
   "execution_count": 25,
   "id": "incomplete-mustang",
   "metadata": {
    "execution": {
     "iopub.execute_input": "2021-01-23T12:22:35.617361Z",
     "iopub.status.busy": "2021-01-23T12:22:35.616848Z",
     "iopub.status.idle": "2021-01-23T12:22:35.619072Z",
     "shell.execute_reply": "2021-01-23T12:22:35.618637Z"
    },
    "papermill": {
     "duration": 0.0358,
     "end_time": "2021-01-23T12:22:35.619173",
     "exception": false,
     "start_time": "2021-01-23T12:22:35.583373",
     "status": "completed"
    },
    "tags": []
   },
   "outputs": [],
   "source": [
    "#hide\n",
    "# g.head()"
   ]
  },
  {
   "cell_type": "code",
   "execution_count": 26,
   "id": "specific-kruger",
   "metadata": {
    "execution": {
     "iopub.execute_input": "2021-01-23T12:22:35.684966Z",
     "iopub.status.busy": "2021-01-23T12:22:35.684379Z",
     "iopub.status.idle": "2021-01-23T12:22:35.686616Z",
     "shell.execute_reply": "2021-01-23T12:22:35.686176Z"
    },
    "papermill": {
     "duration": 0.037639,
     "end_time": "2021-01-23T12:22:35.686718",
     "exception": false,
     "start_time": "2021-01-23T12:22:35.649079",
     "status": "completed"
    },
    "tags": []
   },
   "outputs": [],
   "source": [
    "#hide\n",
    "# g.columns = ['date','country','cases']"
   ]
  },
  {
   "cell_type": "code",
   "execution_count": 27,
   "id": "tender-conversion",
   "metadata": {
    "execution": {
     "iopub.execute_input": "2021-01-23T12:22:35.750742Z",
     "iopub.status.busy": "2021-01-23T12:22:35.750115Z",
     "iopub.status.idle": "2021-01-23T12:22:35.752410Z",
     "shell.execute_reply": "2021-01-23T12:22:35.751764Z"
    },
    "papermill": {
     "duration": 0.035802,
     "end_time": "2021-01-23T12:22:35.752549",
     "exception": false,
     "start_time": "2021-01-23T12:22:35.716747",
     "status": "completed"
    },
    "tags": []
   },
   "outputs": [],
   "source": [
    "#hide\n",
    "# g['continent'] = g.country"
   ]
  },
  {
   "cell_type": "code",
   "execution_count": 28,
   "id": "substantial-wilderness",
   "metadata": {
    "execution": {
     "iopub.execute_input": "2021-01-23T12:22:35.816841Z",
     "iopub.status.busy": "2021-01-23T12:22:35.816242Z",
     "iopub.status.idle": "2021-01-23T12:22:35.818334Z",
     "shell.execute_reply": "2021-01-23T12:22:35.817886Z"
    },
    "papermill": {
     "duration": 0.035293,
     "end_time": "2021-01-23T12:22:35.818436",
     "exception": false,
     "start_time": "2021-01-23T12:22:35.783143",
     "status": "completed"
    },
    "tags": []
   },
   "outputs": [],
   "source": [
    "#hide\n",
    "# cols = list(g.columns.values)"
   ]
  },
  {
   "cell_type": "code",
   "execution_count": 29,
   "id": "solved-farming",
   "metadata": {
    "execution": {
     "iopub.execute_input": "2021-01-23T12:22:35.882068Z",
     "iopub.status.busy": "2021-01-23T12:22:35.881370Z",
     "iopub.status.idle": "2021-01-23T12:22:35.883749Z",
     "shell.execute_reply": "2021-01-23T12:22:35.883250Z"
    },
    "papermill": {
     "duration": 0.036203,
     "end_time": "2021-01-23T12:22:35.883861",
     "exception": false,
     "start_time": "2021-01-23T12:22:35.847658",
     "status": "completed"
    },
    "tags": []
   },
   "outputs": [],
   "source": [
    "#hide\n",
    "# cols.insert(0, cols.pop())"
   ]
  },
  {
   "cell_type": "code",
   "execution_count": 30,
   "id": "executed-adoption",
   "metadata": {
    "execution": {
     "iopub.execute_input": "2021-01-23T12:22:35.947073Z",
     "iopub.status.busy": "2021-01-23T12:22:35.946534Z",
     "iopub.status.idle": "2021-01-23T12:22:35.948550Z",
     "shell.execute_reply": "2021-01-23T12:22:35.948043Z"
    },
    "papermill": {
     "duration": 0.034647,
     "end_time": "2021-01-23T12:22:35.948658",
     "exception": false,
     "start_time": "2021-01-23T12:22:35.914011",
     "status": "completed"
    },
    "tags": []
   },
   "outputs": [],
   "source": [
    "#hide\n",
    "# g = g[cols]"
   ]
  },
  {
   "cell_type": "code",
   "execution_count": 31,
   "id": "subject-dublin",
   "metadata": {
    "execution": {
     "iopub.execute_input": "2021-01-23T12:22:36.013443Z",
     "iopub.status.busy": "2021-01-23T12:22:36.012853Z",
     "iopub.status.idle": "2021-01-23T12:22:36.015347Z",
     "shell.execute_reply": "2021-01-23T12:22:36.014827Z"
    },
    "papermill": {
     "duration": 0.035508,
     "end_time": "2021-01-23T12:22:36.015455",
     "exception": false,
     "start_time": "2021-01-23T12:22:35.979947",
     "status": "completed"
    },
    "tags": []
   },
   "outputs": [],
   "source": [
    "#hide\n",
    "# g['continent'] = g['continent'].map(mapping['map.continent'])"
   ]
  },
  {
   "cell_type": "code",
   "execution_count": 32,
   "id": "freelance-scout",
   "metadata": {
    "execution": {
     "iopub.execute_input": "2021-01-23T12:22:36.078609Z",
     "iopub.status.busy": "2021-01-23T12:22:36.078076Z",
     "iopub.status.idle": "2021-01-23T12:22:36.080073Z",
     "shell.execute_reply": "2021-01-23T12:22:36.079451Z"
    },
    "papermill": {
     "duration": 0.035027,
     "end_time": "2021-01-23T12:22:36.080211",
     "exception": false,
     "start_time": "2021-01-23T12:22:36.045184",
     "status": "completed"
    },
    "tags": []
   },
   "outputs": [],
   "source": [
    "#hide\n",
    "# g.head()"
   ]
  },
  {
   "cell_type": "code",
   "execution_count": 33,
   "id": "limited-engine",
   "metadata": {
    "execution": {
     "iopub.execute_input": "2021-01-23T12:22:36.146303Z",
     "iopub.status.busy": "2021-01-23T12:22:36.145763Z",
     "iopub.status.idle": "2021-01-23T12:22:36.148202Z",
     "shell.execute_reply": "2021-01-23T12:22:36.147752Z"
    },
    "papermill": {
     "duration": 0.036929,
     "end_time": "2021-01-23T12:22:36.148308",
     "exception": false,
     "start_time": "2021-01-23T12:22:36.111379",
     "status": "completed"
    },
    "tags": []
   },
   "outputs": [],
   "source": [
    "# hide\n",
    "# g['date'] = g['date'].astype('datetime64[ns]')"
   ]
  },
  {
   "cell_type": "code",
   "execution_count": 34,
   "id": "sophisticated-supervisor",
   "metadata": {
    "execution": {
     "iopub.execute_input": "2021-01-23T12:22:36.216838Z",
     "iopub.status.busy": "2021-01-23T12:22:36.216320Z",
     "iopub.status.idle": "2021-01-23T12:22:36.218192Z",
     "shell.execute_reply": "2021-01-23T12:22:36.218623Z"
    },
    "papermill": {
     "duration": 0.039024,
     "end_time": "2021-01-23T12:22:36.218739",
     "exception": false,
     "start_time": "2021-01-23T12:22:36.179715",
     "status": "completed"
    },
    "tags": []
   },
   "outputs": [],
   "source": [
    "#hide\n",
    "# g['date'] = g.date.dt.dayofyear"
   ]
  },
  {
   "cell_type": "code",
   "execution_count": 35,
   "id": "inside-dubai",
   "metadata": {
    "execution": {
     "iopub.execute_input": "2021-01-23T12:22:36.282601Z",
     "iopub.status.busy": "2021-01-23T12:22:36.282033Z",
     "iopub.status.idle": "2021-01-23T12:22:36.286131Z",
     "shell.execute_reply": "2021-01-23T12:22:36.285583Z"
    },
    "papermill": {
     "duration": 0.037206,
     "end_time": "2021-01-23T12:22:36.286261",
     "exception": false,
     "start_time": "2021-01-23T12:22:36.249055",
     "status": "completed"
    },
    "tags": []
   },
   "outputs": [],
   "source": [
    "#hide\n",
    "# g = g.rename(columns= {'continent':'group','country':'name','cases':'value'})"
   ]
  },
  {
   "cell_type": "code",
   "execution_count": 36,
   "id": "fleet-motorcycle",
   "metadata": {
    "execution": {
     "iopub.execute_input": "2021-01-23T12:22:36.352133Z",
     "iopub.status.busy": "2021-01-23T12:22:36.350961Z",
     "iopub.status.idle": "2021-01-23T12:22:36.352708Z",
     "shell.execute_reply": "2021-01-23T12:22:36.353137Z"
    },
    "papermill": {
     "duration": 0.036049,
     "end_time": "2021-01-23T12:22:36.353253",
     "exception": false,
     "start_time": "2021-01-23T12:22:36.317204",
     "status": "completed"
    },
    "tags": []
   },
   "outputs": [],
   "source": [
    "#hide\n",
    "# cols = ['name','group','day','value']"
   ]
  },
  {
   "cell_type": "code",
   "execution_count": 37,
   "id": "continued-sleeping",
   "metadata": {
    "execution": {
     "iopub.execute_input": "2021-01-23T12:22:36.422949Z",
     "iopub.status.busy": "2021-01-23T12:22:36.421805Z",
     "iopub.status.idle": "2021-01-23T12:22:36.423526Z",
     "shell.execute_reply": "2021-01-23T12:22:36.423955Z"
    },
    "papermill": {
     "duration": 0.039973,
     "end_time": "2021-01-23T12:22:36.424166",
     "exception": false,
     "start_time": "2021-01-23T12:22:36.384193",
     "status": "completed"
    },
    "tags": []
   },
   "outputs": [],
   "source": [
    "#hide\n",
    "# g.rename(columns= {'date':'day'},inplace = True)"
   ]
  },
  {
   "cell_type": "code",
   "execution_count": 38,
   "id": "major-fight",
   "metadata": {
    "execution": {
     "iopub.execute_input": "2021-01-23T12:22:36.489603Z",
     "iopub.status.busy": "2021-01-23T12:22:36.488946Z",
     "iopub.status.idle": "2021-01-23T12:22:36.491376Z",
     "shell.execute_reply": "2021-01-23T12:22:36.490858Z"
    },
    "papermill": {
     "duration": 0.037063,
     "end_time": "2021-01-23T12:22:36.491480",
     "exception": false,
     "start_time": "2021-01-23T12:22:36.454417",
     "status": "completed"
    },
    "tags": []
   },
   "outputs": [],
   "source": [
    "#hide\n",
    "# g = g[cols]"
   ]
  },
  {
   "cell_type": "code",
   "execution_count": 39,
   "id": "structured-mobile",
   "metadata": {
    "execution": {
     "iopub.execute_input": "2021-01-23T12:22:36.558566Z",
     "iopub.status.busy": "2021-01-23T12:22:36.557971Z",
     "iopub.status.idle": "2021-01-23T12:22:36.560022Z",
     "shell.execute_reply": "2021-01-23T12:22:36.560440Z"
    },
    "papermill": {
     "duration": 0.035885,
     "end_time": "2021-01-23T12:22:36.560557",
     "exception": false,
     "start_time": "2021-01-23T12:22:36.524672",
     "status": "completed"
    },
    "tags": []
   },
   "outputs": [],
   "source": [
    "# #hide\n",
    "# g = g[g.group.notna()]"
   ]
  },
  {
   "cell_type": "code",
   "execution_count": 40,
   "id": "determined-closing",
   "metadata": {
    "execution": {
     "iopub.execute_input": "2021-01-23T12:22:36.623038Z",
     "iopub.status.busy": "2021-01-23T12:22:36.622485Z",
     "iopub.status.idle": "2021-01-23T12:22:36.624650Z",
     "shell.execute_reply": "2021-01-23T12:22:36.624208Z"
    },
    "papermill": {
     "duration": 0.034503,
     "end_time": "2021-01-23T12:22:36.624758",
     "exception": false,
     "start_time": "2021-01-23T12:22:36.590255",
     "status": "completed"
    },
    "tags": []
   },
   "outputs": [],
   "source": [
    "# #hide\n",
    "# colors = dict(zip(\n",
    "#     [\"Oceania\", \"Europe\", \"Asia\", \"South America\", \"Middle East\", \"North America\", \"Africa\"],\n",
    "#     [\"#adb0ff\", \"#ffb3ff\", \"#90d595\", \"#e48381\", \"#aafbff\", \"#f7bb5f\", \"#eafb50\"]\n",
    "# ))\n",
    "# group_lk = g.set_index('name')['group'].to_dict()"
   ]
  },
  {
   "cell_type": "code",
   "execution_count": null,
   "id": "gross-drinking",
   "metadata": {
    "papermill": {
     "duration": 0.029868,
     "end_time": "2021-01-23T12:22:36.685975",
     "exception": false,
     "start_time": "2021-01-23T12:22:36.656107",
     "status": "completed"
    },
    "tags": []
   },
   "outputs": [],
   "source": []
  },
  {
   "cell_type": "code",
   "execution_count": 41,
   "id": "subject-macintosh",
   "metadata": {
    "execution": {
     "iopub.execute_input": "2021-01-23T12:22:36.754397Z",
     "iopub.status.busy": "2021-01-23T12:22:36.753809Z",
     "iopub.status.idle": "2021-01-23T12:22:36.756102Z",
     "shell.execute_reply": "2021-01-23T12:22:36.755664Z"
    },
    "papermill": {
     "duration": 0.036715,
     "end_time": "2021-01-23T12:22:36.756203",
     "exception": false,
     "start_time": "2021-01-23T12:22:36.719488",
     "status": "completed"
    },
    "tags": []
   },
   "outputs": [],
   "source": [
    "# #hide\n",
    "# fig, ax = plt.subplots(figsize=(15, 8))\n",
    "\n",
    "# def draw_barchart(current_day):\n",
    "#     dff = g[g['day'].eq(current_day)].sort_values(by='value', ascending=True).tail(10)\n",
    "#     ax.clear()\n",
    "#     ax.barh(dff['name'], dff['value'], color=[colors[group_lk[x]] for x in dff['name']])\n",
    "#     dx = dff['value'].max() / 200\n",
    "    \n",
    "#     for i, (value, name) in enumerate(zip(dff['value'], dff['name'])):\n",
    "#         ax.text(value-dx, i,     name,           size=14, weight=600, ha='right', va='bottom')\n",
    "#         ax.text(value-dx, i-.25, group_lk[name], size=10, color='#444444', ha='right', va='baseline')\n",
    "#         ax.text(value+dx, i,     f'{value:,.0f}',  size=14, ha='left',  va='center')\n",
    "#     ax.text(1, 0.4, current_day, transform=ax.transAxes, color='#777777', size=46, ha='right', weight=800)\n",
    "#     ax.text(0, 1.06, 'Population (thousands)', transform=ax.transAxes, size=12, color='#777777')\n",
    "#     ax.xaxis.set_major_formatter(ticker.StrMethodFormatter('{x:,.0f}'))\n",
    "#     ax.xaxis.set_ticks_position('top')\n",
    "#     ax.tick_params(axis='x', colors='#777777', labelsize=12)\n",
    "#     ax.set_yticks([])\n",
    "#     ax.margins(0, 0.01)\n",
    "#     ax.grid(which='major', axis='x', linestyle='-')\n",
    "#     ax.set_axisbelow(True)\n",
    "    \n",
    "#     ax.text(0, 1.15, 'Coronavirus',\n",
    "#             transform=ax.transAxes, size=24, weight=600, ha='left', va='top')\n",
    "# #     ax.text(1, 0, 'by @pratapvardhan; credit @jburnmurdoch', transform=ax.transAxes, color='#777777', ha='right',\n",
    "# #             bbox=dict(facecolor='white', alpha=0.8, edgecolor='white'))\n",
    "#     plt.box(False)"
   ]
  },
  {
   "cell_type": "code",
   "execution_count": 42,
   "id": "sexual-wages",
   "metadata": {
    "execution": {
     "iopub.execute_input": "2021-01-23T12:22:36.820032Z",
     "iopub.status.busy": "2021-01-23T12:22:36.819459Z",
     "iopub.status.idle": "2021-01-23T12:22:36.821547Z",
     "shell.execute_reply": "2021-01-23T12:22:36.822014Z"
    },
    "papermill": {
     "duration": 0.035832,
     "end_time": "2021-01-23T12:22:36.822125",
     "exception": false,
     "start_time": "2021-01-23T12:22:36.786293",
     "status": "completed"
    },
    "tags": []
   },
   "outputs": [],
   "source": [
    "# #hide_input\n",
    "# fig, ax = plt.subplots(figsize=(15, 8))\n",
    "# animator = animation.FuncAnimation(fig, draw_barchart, frames=range(g.day.values.min(), g.day.values.max()))\n",
    "# HTML(animator.to_jshtml())\n",
    "# # or use animator.to_html5_video() or animator.save() "
   ]
  },
  {
   "cell_type": "code",
   "execution_count": null,
   "id": "australian-container",
   "metadata": {
    "papermill": {
     "duration": 0.029393,
     "end_time": "2021-01-23T12:22:36.880704",
     "exception": false,
     "start_time": "2021-01-23T12:22:36.851311",
     "status": "completed"
    },
    "tags": []
   },
   "outputs": [],
   "source": []
  },
  {
   "cell_type": "code",
   "execution_count": null,
   "id": "mediterranean-pontiac",
   "metadata": {
    "papermill": {
     "duration": 0.030337,
     "end_time": "2021-01-23T12:22:36.941549",
     "exception": false,
     "start_time": "2021-01-23T12:22:36.911212",
     "status": "completed"
    },
    "tags": []
   },
   "outputs": [],
   "source": []
  },
  {
   "cell_type": "code",
   "execution_count": null,
   "id": "aging-legislature",
   "metadata": {
    "papermill": {
     "duration": 0.029577,
     "end_time": "2021-01-23T12:22:37.001191",
     "exception": false,
     "start_time": "2021-01-23T12:22:36.971614",
     "status": "completed"
    },
    "tags": []
   },
   "outputs": [],
   "source": []
  }
 ],
 "metadata": {
  "kernelspec": {
   "display_name": "Python 3",
   "language": "python",
   "name": "python3"
  },
  "language_info": {
   "codemirror_mode": {
    "name": "ipython",
    "version": 3
   },
   "file_extension": ".py",
   "mimetype": "text/x-python",
   "name": "python",
   "nbconvert_exporter": "python",
   "pygments_lexer": "ipython3",
   "version": "3.6.12"
  },
  "papermill": {
   "duration": 6.549975,
   "end_time": "2021-01-23T12:22:37.341370",
   "environment_variables": {},
   "exception": null,
   "input_path": "2020-03-21-covid19exp.ipynb",
   "output_path": "2020-03-21-covid19exp.ipynb",
   "parameters": {},
   "start_time": "2021-01-23T12:22:30.791395",
   "version": "2.0.0"
  }
 },
 "nbformat": 4,
 "nbformat_minor": 5
}