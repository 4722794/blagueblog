{
 "cells": [
  {
   "cell_type": "markdown",
   "id": "muslim-click",
   "metadata": {
    "papermill": {
     "duration": 0.05418,
     "end_time": "2021-04-06T12:03:49.848060",
     "exception": false,
     "start_time": "2021-04-06T12:03:49.793880",
     "status": "completed"
    },
    "tags": []
   },
   "source": [
    "# COVID-19 Case Race\n",
    "> A race chart to see rising cases around the world\n",
    "\n",
    "- author: Hargun Oberoi\n",
    "- image: images/covid-overview.png\n",
    "- hide: false\n",
    "- badges: false"
   ]
  },
  {
   "cell_type": "code",
   "execution_count": 1,
   "id": "proof-material",
   "metadata": {
    "execution": {
     "iopub.execute_input": "2021-04-06T12:03:49.933677Z",
     "iopub.status.busy": "2021-04-06T12:03:49.933058Z",
     "iopub.status.idle": "2021-04-06T12:03:50.306279Z",
     "shell.execute_reply": "2021-04-06T12:03:50.305621Z"
    },
    "papermill": {
     "duration": 0.419318,
     "end_time": "2021-04-06T12:03:50.306425",
     "exception": false,
     "start_time": "2021-04-06T12:03:49.887107",
     "status": "completed"
    },
    "tags": []
   },
   "outputs": [],
   "source": [
    "#hide\n",
    "import numpy as np\n",
    "import pandas as pd\n",
    "from jinja2 import Template\n",
    "from IPython.display import HTML"
   ]
  },
  {
   "cell_type": "code",
   "execution_count": 2,
   "id": "developed-terminology",
   "metadata": {
    "execution": {
     "iopub.execute_input": "2021-04-06T12:03:50.387133Z",
     "iopub.status.busy": "2021-04-06T12:03:50.386502Z",
     "iopub.status.idle": "2021-04-06T12:03:50.389189Z",
     "shell.execute_reply": "2021-04-06T12:03:50.388548Z"
    },
    "papermill": {
     "duration": 0.045627,
     "end_time": "2021-04-06T12:03:50.389483",
     "exception": false,
     "start_time": "2021-04-06T12:03:50.343856",
     "status": "completed"
    },
    "tags": []
   },
   "outputs": [],
   "source": [
    "#hide\n",
    "\n",
    "# FETCH\n",
    "base_url = 'https://raw.githubusercontent.com/pratapvardhan/notebooks/master/covid19/'\n",
    "paths = {\n",
    "    'mapping': base_url + 'mapping_countries.csv',\n",
    "    'overview': base_url + 'overview.tpl'\n",
    "}"
   ]
  },
  {
   "cell_type": "code",
   "execution_count": 3,
   "id": "dynamic-saver",
   "metadata": {
    "execution": {
     "iopub.execute_input": "2021-04-06T12:03:50.475109Z",
     "iopub.status.busy": "2021-04-06T12:03:50.474361Z",
     "iopub.status.idle": "2021-04-06T12:03:50.480226Z",
     "shell.execute_reply": "2021-04-06T12:03:50.479756Z"
    },
    "papermill": {
     "duration": 0.054216,
     "end_time": "2021-04-06T12:03:50.480352",
     "exception": false,
     "start_time": "2021-04-06T12:03:50.426136",
     "status": "completed"
    },
    "tags": []
   },
   "outputs": [
    {
     "data": {
      "text/plain": [
       "'https://raw.githubusercontent.com/pratapvardhan/notebooks/master/covid19/mapping_countries.csv'"
      ]
     },
     "execution_count": 3,
     "metadata": {},
     "output_type": "execute_result"
    }
   ],
   "source": [
    "#hide\n",
    "paths['mapping']"
   ]
  },
  {
   "cell_type": "code",
   "execution_count": 4,
   "id": "urban-software",
   "metadata": {
    "execution": {
     "iopub.execute_input": "2021-04-06T12:03:50.568934Z",
     "iopub.status.busy": "2021-04-06T12:03:50.568187Z",
     "iopub.status.idle": "2021-04-06T12:03:50.569981Z",
     "shell.execute_reply": "2021-04-06T12:03:50.570700Z"
    },
    "papermill": {
     "duration": 0.053955,
     "end_time": "2021-04-06T12:03:50.570848",
     "exception": false,
     "start_time": "2021-04-06T12:03:50.516893",
     "status": "completed"
    },
    "tags": []
   },
   "outputs": [],
   "source": [
    "#hide\n",
    "def get_mappings(url):\n",
    "    df = pd.read_csv(url)\n",
    "    return {\n",
    "        'df': df,\n",
    "        'replace.country': dict(df.dropna(subset=['Name']).set_index('Country')['Name']),\n",
    "        'map.continent': dict(df.set_index('Name')['Continent'])\n",
    "    }"
   ]
  },
  {
   "cell_type": "code",
   "execution_count": 5,
   "id": "intimate-machinery",
   "metadata": {
    "execution": {
     "iopub.execute_input": "2021-04-06T12:03:50.658648Z",
     "iopub.status.busy": "2021-04-06T12:03:50.658056Z",
     "iopub.status.idle": "2021-04-06T12:03:50.689706Z",
     "shell.execute_reply": "2021-04-06T12:03:50.690337Z"
    },
    "papermill": {
     "duration": 0.078005,
     "end_time": "2021-04-06T12:03:50.690522",
     "exception": false,
     "start_time": "2021-04-06T12:03:50.612517",
     "status": "completed"
    },
    "tags": []
   },
   "outputs": [],
   "source": [
    "#hide\n",
    "mapping = get_mappings(paths['mapping'])"
   ]
  },
  {
   "cell_type": "code",
   "execution_count": 6,
   "id": "certified-tactics",
   "metadata": {
    "execution": {
     "iopub.execute_input": "2021-04-06T12:03:50.765513Z",
     "iopub.status.busy": "2021-04-06T12:03:50.764856Z",
     "iopub.status.idle": "2021-04-06T12:03:50.767166Z",
     "shell.execute_reply": "2021-04-06T12:03:50.766670Z"
    },
    "papermill": {
     "duration": 0.04133,
     "end_time": "2021-04-06T12:03:50.767291",
     "exception": false,
     "start_time": "2021-04-06T12:03:50.725961",
     "status": "completed"
    },
    "tags": []
   },
   "outputs": [],
   "source": [
    "#hide\n",
    "def get_template(path):\n",
    "    from urllib.parse import urlparse\n",
    "    if bool(urlparse(path).netloc):\n",
    "        from urllib.request import urlopen\n",
    "        return urlopen(path).read().decode('utf8')\n",
    "    return open(path).read()"
   ]
  },
  {
   "cell_type": "code",
   "execution_count": 7,
   "id": "realistic-blast",
   "metadata": {
    "execution": {
     "iopub.execute_input": "2021-04-06T12:03:50.841096Z",
     "iopub.status.busy": "2021-04-06T12:03:50.840503Z",
     "iopub.status.idle": "2021-04-06T12:03:50.843039Z",
     "shell.execute_reply": "2021-04-06T12:03:50.842565Z"
    },
    "papermill": {
     "duration": 0.041783,
     "end_time": "2021-04-06T12:03:50.843170",
     "exception": false,
     "start_time": "2021-04-06T12:03:50.801387",
     "status": "completed"
    },
    "tags": []
   },
   "outputs": [],
   "source": [
    "#hide\n",
    "def get_frame(name):\n",
    "    url = (\n",
    "        'https://raw.githubusercontent.com/CSSEGISandData/COVID-19/master/csse_covid_19_data/'\n",
    "        f'csse_covid_19_time_series/time_series_covid19_{name}_global.csv')\n",
    "    df = pd.read_csv(url)\n",
    "    # rename countries\n",
    "    df['Country/Region'] = df['Country/Region'].replace(mapping['replace.country'])\n",
    "    return df"
   ]
  },
  {
   "cell_type": "code",
   "execution_count": 8,
   "id": "affiliated-characterization",
   "metadata": {
    "execution": {
     "iopub.execute_input": "2021-04-06T12:03:50.919510Z",
     "iopub.status.busy": "2021-04-06T12:03:50.918922Z",
     "iopub.status.idle": "2021-04-06T12:03:50.921236Z",
     "shell.execute_reply": "2021-04-06T12:03:50.920744Z"
    },
    "papermill": {
     "duration": 0.044116,
     "end_time": "2021-04-06T12:03:50.921381",
     "exception": false,
     "start_time": "2021-04-06T12:03:50.877265",
     "status": "completed"
    },
    "tags": []
   },
   "outputs": [],
   "source": [
    "#hide\n",
    "def get_dates(df):\n",
    "    dt_cols = df.columns[~df.columns.isin(['Province/State', 'Country/Region', 'Lat', 'Long'])]\n",
    "    LAST_DATE_I = -1\n",
    "    # sometimes last column may be empty, then go backwards\n",
    "    for i in range(-1, -len(dt_cols), -1):\n",
    "        if not df[dt_cols[i]].fillna(0).eq(0).all():\n",
    "            LAST_DATE_I = i\n",
    "            break\n",
    "    return LAST_DATE_I, dt_cols"
   ]
  },
  {
   "cell_type": "code",
   "execution_count": 9,
   "id": "recent-optimization",
   "metadata": {
    "execution": {
     "iopub.execute_input": "2021-04-06T12:03:50.994835Z",
     "iopub.status.busy": "2021-04-06T12:03:50.994250Z",
     "iopub.status.idle": "2021-04-06T12:03:51.271351Z",
     "shell.execute_reply": "2021-04-06T12:03:51.270828Z"
    },
    "papermill": {
     "duration": 0.316325,
     "end_time": "2021-04-06T12:03:51.271489",
     "exception": false,
     "start_time": "2021-04-06T12:03:50.955164",
     "status": "completed"
    },
    "tags": []
   },
   "outputs": [],
   "source": [
    "#hide\n",
    "COL_REGION = 'Country/Region'\n",
    "# Confirmed, Recovered, Deaths\n",
    "df = get_frame('confirmed')\n",
    "# dft_: timeseries, dfc_: today country agg\n",
    "dft_cases = df\n",
    "dft_deaths = get_frame('deaths')\n",
    "dft_recovered = get_frame('recovered')\n",
    "LAST_DATE_I, dt_cols = get_dates(df)"
   ]
  },
  {
   "cell_type": "code",
   "execution_count": 10,
   "id": "absolute-copper",
   "metadata": {
    "execution": {
     "iopub.execute_input": "2021-04-06T12:03:51.348159Z",
     "iopub.status.busy": "2021-04-06T12:03:51.347548Z",
     "iopub.status.idle": "2021-04-06T12:03:51.349458Z",
     "shell.execute_reply": "2021-04-06T12:03:51.349953Z"
    },
    "papermill": {
     "duration": 0.04127,
     "end_time": "2021-04-06T12:03:51.350095",
     "exception": false,
     "start_time": "2021-04-06T12:03:51.308825",
     "status": "completed"
    },
    "tags": []
   },
   "outputs": [],
   "source": [
    "#hide\n",
    "LAST_DATE_I, dt_cols = get_dates(df)\n",
    "dt_today =dt_cols[LAST_DATE_I]\n",
    "# dt_5day = dt_cols[LAST_DATE_I - 5]\n",
    "dt_yday = dt_cols[LAST_DATE_I - 1]"
   ]
  },
  {
   "cell_type": "code",
   "execution_count": 11,
   "id": "restricted-sheriff",
   "metadata": {
    "execution": {
     "iopub.execute_input": "2021-04-06T12:03:51.430002Z",
     "iopub.status.busy": "2021-04-06T12:03:51.429404Z",
     "iopub.status.idle": "2021-04-06T12:03:51.438179Z",
     "shell.execute_reply": "2021-04-06T12:03:51.437652Z"
    },
    "papermill": {
     "duration": 0.053003,
     "end_time": "2021-04-06T12:03:51.438309",
     "exception": false,
     "start_time": "2021-04-06T12:03:51.385306",
     "status": "completed"
    },
    "tags": []
   },
   "outputs": [],
   "source": [
    "#hide\n",
    "dfc_cases = dft_cases.groupby(COL_REGION)[dt_today].sum()\n",
    "dfc_deaths = dft_deaths.groupby(COL_REGION)[dt_today].sum()\n",
    "# dfp_cases = dft_cases.groupby(COL_REGION)[dt_5day].sum()\n",
    "# dfp_deaths = dft_deaths.groupby(COL_REGION)[dt_5day].sum()\n",
    "dfp_cases = dft_cases.groupby(COL_REGION)[dt_yday].sum()\n",
    "dfp_deaths = dft_deaths.groupby(COL_REGION)[dt_yday].sum()"
   ]
  },
  {
   "cell_type": "code",
   "execution_count": 12,
   "id": "deluxe-hepatitis",
   "metadata": {
    "execution": {
     "iopub.execute_input": "2021-04-06T12:03:51.523437Z",
     "iopub.status.busy": "2021-04-06T12:03:51.522844Z",
     "iopub.status.idle": "2021-04-06T12:03:51.530313Z",
     "shell.execute_reply": "2021-04-06T12:03:51.530835Z"
    },
    "papermill": {
     "duration": 0.055509,
     "end_time": "2021-04-06T12:03:51.530986",
     "exception": false,
     "start_time": "2021-04-06T12:03:51.475477",
     "status": "completed"
    },
    "tags": []
   },
   "outputs": [],
   "source": [
    "#hide\n",
    "df_table = (pd.DataFrame(dict(Cases = dfc_cases, Deaths = dfc_deaths, PCases = dfp_cases, PDeaths = dfp_deaths))\n",
    "            .sort_values(by = ['Cases','Deaths'], ascending = [False, False])\n",
    "            .reset_index())"
   ]
  },
  {
   "cell_type": "code",
   "execution_count": 13,
   "id": "educational-chancellor",
   "metadata": {
    "execution": {
     "iopub.execute_input": "2021-04-06T12:03:51.631418Z",
     "iopub.status.busy": "2021-04-06T12:03:51.630776Z",
     "iopub.status.idle": "2021-04-06T12:03:51.639790Z",
     "shell.execute_reply": "2021-04-06T12:03:51.638857Z"
    },
    "papermill": {
     "duration": 0.073595,
     "end_time": "2021-04-06T12:03:51.639925",
     "exception": false,
     "start_time": "2021-04-06T12:03:51.566330",
     "status": "completed"
    },
    "tags": []
   },
   "outputs": [
    {
     "data": {
      "text/html": [
       "<div>\n",
       "<style scoped>\n",
       "    .dataframe tbody tr th:only-of-type {\n",
       "        vertical-align: middle;\n",
       "    }\n",
       "\n",
       "    .dataframe tbody tr th {\n",
       "        vertical-align: top;\n",
       "    }\n",
       "\n",
       "    .dataframe thead th {\n",
       "        text-align: right;\n",
       "    }\n",
       "</style>\n",
       "<table border=\"1\" class=\"dataframe\">\n",
       "  <thead>\n",
       "    <tr style=\"text-align: right;\">\n",
       "      <th></th>\n",
       "      <th>Country/Region</th>\n",
       "      <th>Cases</th>\n",
       "      <th>Deaths</th>\n",
       "      <th>PCases</th>\n",
       "      <th>PDeaths</th>\n",
       "      <th>Cases (+)</th>\n",
       "      <th>Deaths (+)</th>\n",
       "      <th>Fatality Rate</th>\n",
       "      <th>Continent</th>\n",
       "    </tr>\n",
       "  </thead>\n",
       "  <tbody>\n",
       "    <tr>\n",
       "      <th>0</th>\n",
       "      <td>US</td>\n",
       "      <td>30785201</td>\n",
       "      <td>555608</td>\n",
       "      <td>30706126</td>\n",
       "      <td>555001</td>\n",
       "      <td>79075</td>\n",
       "      <td>607</td>\n",
       "      <td>1.80</td>\n",
       "      <td>North America</td>\n",
       "    </tr>\n",
       "    <tr>\n",
       "      <th>1</th>\n",
       "      <td>Brazil</td>\n",
       "      <td>13013601</td>\n",
       "      <td>332752</td>\n",
       "      <td>12984956</td>\n",
       "      <td>331433</td>\n",
       "      <td>28645</td>\n",
       "      <td>1319</td>\n",
       "      <td>2.56</td>\n",
       "      <td>South America</td>\n",
       "    </tr>\n",
       "    <tr>\n",
       "      <th>2</th>\n",
       "      <td>India</td>\n",
       "      <td>12686049</td>\n",
       "      <td>165547</td>\n",
       "      <td>12589067</td>\n",
       "      <td>165101</td>\n",
       "      <td>96982</td>\n",
       "      <td>446</td>\n",
       "      <td>1.30</td>\n",
       "      <td>Asia</td>\n",
       "    </tr>\n",
       "    <tr>\n",
       "      <th>3</th>\n",
       "      <td>France</td>\n",
       "      <td>4893971</td>\n",
       "      <td>97005</td>\n",
       "      <td>4883174</td>\n",
       "      <td>96808</td>\n",
       "      <td>10797</td>\n",
       "      <td>197</td>\n",
       "      <td>1.98</td>\n",
       "      <td>Europe</td>\n",
       "    </tr>\n",
       "    <tr>\n",
       "      <th>4</th>\n",
       "      <td>Russia</td>\n",
       "      <td>4538101</td>\n",
       "      <td>99049</td>\n",
       "      <td>4529576</td>\n",
       "      <td>98713</td>\n",
       "      <td>8525</td>\n",
       "      <td>336</td>\n",
       "      <td>2.18</td>\n",
       "      <td>Europe</td>\n",
       "    </tr>\n",
       "  </tbody>\n",
       "</table>\n",
       "</div>"
      ],
      "text/plain": [
       "  Country/Region     Cases  Deaths    PCases  PDeaths  Cases (+)  Deaths (+)  \\\n",
       "0             US  30785201  555608  30706126   555001      79075         607   \n",
       "1         Brazil  13013601  332752  12984956   331433      28645        1319   \n",
       "2          India  12686049  165547  12589067   165101      96982         446   \n",
       "3         France   4893971   97005   4883174    96808      10797         197   \n",
       "4         Russia   4538101   99049   4529576    98713       8525         336   \n",
       "\n",
       "   Fatality Rate      Continent  \n",
       "0           1.80  North America  \n",
       "1           2.56  South America  \n",
       "2           1.30           Asia  \n",
       "3           1.98         Europe  \n",
       "4           2.18         Europe  "
      ]
     },
     "execution_count": 13,
     "metadata": {},
     "output_type": "execute_result"
    }
   ],
   "source": [
    "#hide\n",
    "for c in 'Cases, Deaths'.split(', '):\n",
    "    df_table[f'{c} (+)'] = (df_table[c] - df_table[f'P{c}']).clip(0)\n",
    "    #Clip ça veut dire, les chiffres negatif sont interdit\n",
    "df_table['Fatality Rate'] = (100* df_table['Deaths']/ df_table['Cases']).round(2)\n",
    "df_table['Continent'] = df_table['Country/Region'].map(mapping['map.continent'])\n",
    "df_table.head(5)"
   ]
  },
  {
   "cell_type": "code",
   "execution_count": 14,
   "id": "aboriginal-bulgaria",
   "metadata": {
    "execution": {
     "iopub.execute_input": "2021-04-06T12:03:51.727599Z",
     "iopub.status.busy": "2021-04-06T12:03:51.726994Z",
     "iopub.status.idle": "2021-04-06T12:03:51.729003Z",
     "shell.execute_reply": "2021-04-06T12:03:51.729520Z"
    },
    "papermill": {
     "duration": 0.045529,
     "end_time": "2021-04-06T12:03:51.729666",
     "exception": false,
     "start_time": "2021-04-06T12:03:51.684137",
     "status": "completed"
    },
    "tags": []
   },
   "outputs": [],
   "source": [
    "#hide\n",
    "#delete problematic countries from table\n",
    "df_table = df_table[~df_table['Country/Region'].isin(['Cape Verde', 'Cruise Ship', 'Kosovo'])]"
   ]
  },
  {
   "cell_type": "code",
   "execution_count": 15,
   "id": "fantastic-effect",
   "metadata": {
    "execution": {
     "iopub.execute_input": "2021-04-06T12:03:51.817265Z",
     "iopub.status.busy": "2021-04-06T12:03:51.816652Z",
     "iopub.status.idle": "2021-04-06T12:03:51.837258Z",
     "shell.execute_reply": "2021-04-06T12:03:51.836763Z"
    },
    "papermill": {
     "duration": 0.070019,
     "end_time": "2021-04-06T12:03:51.837399",
     "exception": false,
     "start_time": "2021-04-06T12:03:51.767380",
     "status": "completed"
    },
    "tags": []
   },
   "outputs": [
    {
     "data": {
      "text/html": [
       "<div>\n",
       "<style scoped>\n",
       "    .dataframe tbody tr th:only-of-type {\n",
       "        vertical-align: middle;\n",
       "    }\n",
       "\n",
       "    .dataframe tbody tr th {\n",
       "        vertical-align: top;\n",
       "    }\n",
       "\n",
       "    .dataframe thead th {\n",
       "        text-align: right;\n",
       "    }\n",
       "</style>\n",
       "<table border=\"1\" class=\"dataframe\">\n",
       "  <thead>\n",
       "    <tr style=\"text-align: right;\">\n",
       "      <th></th>\n",
       "      <th>Country/Region</th>\n",
       "      <th>Cases</th>\n",
       "      <th>Deaths</th>\n",
       "      <th>PCases</th>\n",
       "      <th>PDeaths</th>\n",
       "      <th>Cases (+)</th>\n",
       "      <th>Deaths (+)</th>\n",
       "      <th>Fatality Rate</th>\n",
       "      <th>Continent</th>\n",
       "    </tr>\n",
       "  </thead>\n",
       "  <tbody>\n",
       "    <tr>\n",
       "      <th>0</th>\n",
       "      <td>US</td>\n",
       "      <td>30785201</td>\n",
       "      <td>555608</td>\n",
       "      <td>30706126</td>\n",
       "      <td>555001</td>\n",
       "      <td>79075</td>\n",
       "      <td>607</td>\n",
       "      <td>1.8</td>\n",
       "      <td>North America</td>\n",
       "    </tr>\n",
       "    <tr>\n",
       "      <th>1</th>\n",
       "      <td>Brazil</td>\n",
       "      <td>13013601</td>\n",
       "      <td>332752</td>\n",
       "      <td>12984956</td>\n",
       "      <td>331433</td>\n",
       "      <td>28645</td>\n",
       "      <td>1319</td>\n",
       "      <td>2.6</td>\n",
       "      <td>South America</td>\n",
       "    </tr>\n",
       "    <tr>\n",
       "      <th>2</th>\n",
       "      <td>India</td>\n",
       "      <td>12686049</td>\n",
       "      <td>165547</td>\n",
       "      <td>12589067</td>\n",
       "      <td>165101</td>\n",
       "      <td>96982</td>\n",
       "      <td>446</td>\n",
       "      <td>1.3</td>\n",
       "      <td>Asia</td>\n",
       "    </tr>\n",
       "    <tr>\n",
       "      <th>3</th>\n",
       "      <td>France</td>\n",
       "      <td>4893971</td>\n",
       "      <td>97005</td>\n",
       "      <td>4883174</td>\n",
       "      <td>96808</td>\n",
       "      <td>10797</td>\n",
       "      <td>197</td>\n",
       "      <td>2.0</td>\n",
       "      <td>Europe</td>\n",
       "    </tr>\n",
       "    <tr>\n",
       "      <th>4</th>\n",
       "      <td>Russia</td>\n",
       "      <td>4538101</td>\n",
       "      <td>99049</td>\n",
       "      <td>4529576</td>\n",
       "      <td>98713</td>\n",
       "      <td>8525</td>\n",
       "      <td>336</td>\n",
       "      <td>2.2</td>\n",
       "      <td>Europe</td>\n",
       "    </tr>\n",
       "  </tbody>\n",
       "</table>\n",
       "</div>"
      ],
      "text/plain": [
       "  Country/Region     Cases  Deaths    PCases  PDeaths  Cases (+)  Deaths (+)  \\\n",
       "0             US  30785201  555608  30706126   555001      79075         607   \n",
       "1         Brazil  13013601  332752  12984956   331433      28645        1319   \n",
       "2          India  12686049  165547  12589067   165101      96982         446   \n",
       "3         France   4893971   97005   4883174    96808      10797         197   \n",
       "4         Russia   4538101   99049   4529576    98713       8525         336   \n",
       "\n",
       "   Fatality Rate      Continent  \n",
       "0            1.8  North America  \n",
       "1            2.6  South America  \n",
       "2            1.3           Asia  \n",
       "3            2.0         Europe  \n",
       "4            2.2         Europe  "
      ]
     },
     "execution_count": 15,
     "metadata": {},
     "output_type": "execute_result"
    }
   ],
   "source": [
    "#hide\n",
    "df_table = (pd.DataFrame(dict(Cases=dfc_cases, Deaths=dfc_deaths, PCases=dfp_cases, PDeaths=dfp_deaths))\n",
    "             .sort_values(by=['Cases', 'Deaths'], ascending=[False, False])\n",
    "             .reset_index())\n",
    "df_table.rename(columns={'index': 'Country/Region'}, inplace=True)\n",
    "for c in 'Cases, Deaths'.split(', '):\n",
    "    df_table[f'{c} (+)'] = (df_table[c] - df_table[f'P{c}']).clip(0)  # DATA BUG\n",
    "df_table['Fatality Rate'] = (100 * df_table['Deaths'] / df_table['Cases']).round(1)\n",
    "df_table['Continent'] = df_table['Country/Region'].map(mapping['map.continent'])\n",
    "df_table.head(5)"
   ]
  },
  {
   "cell_type": "code",
   "execution_count": 16,
   "id": "fewer-occasion",
   "metadata": {
    "execution": {
     "iopub.execute_input": "2021-04-06T12:03:51.927207Z",
     "iopub.status.busy": "2021-04-06T12:03:51.926560Z",
     "iopub.status.idle": "2021-04-06T12:03:51.928243Z",
     "shell.execute_reply": "2021-04-06T12:03:51.928728Z"
    },
    "papermill": {
     "duration": 0.046163,
     "end_time": "2021-04-06T12:03:51.928868",
     "exception": false,
     "start_time": "2021-04-06T12:03:51.882705",
     "status": "completed"
    },
    "tags": []
   },
   "outputs": [],
   "source": [
    "#hide\n",
    "#delete problematic countries from table\n",
    "df_table = df_table[~df_table['Country/Region'].isin(['Cape Verde', 'Cruise Ship', 'Kosovo'])]"
   ]
  },
  {
   "cell_type": "code",
   "execution_count": 17,
   "id": "related-center",
   "metadata": {
    "execution": {
     "iopub.execute_input": "2021-04-06T12:03:52.010439Z",
     "iopub.status.busy": "2021-04-06T12:03:52.009849Z",
     "iopub.status.idle": "2021-04-06T12:03:52.025867Z",
     "shell.execute_reply": "2021-04-06T12:03:52.025362Z"
    },
    "papermill": {
     "duration": 0.059907,
     "end_time": "2021-04-06T12:03:52.025996",
     "exception": false,
     "start_time": "2021-04-06T12:03:51.966089",
     "status": "completed"
    },
    "tags": []
   },
   "outputs": [],
   "source": [
    "#hide\n",
    "metrics = [df_table.columns[index] for index in [1,2,5,6]]\n",
    "# s_china = df_table[df_table['Country/Region'].eq('China')][metrics].sum().add_prefix('China ')\n",
    "s_us = df_table[df_table['Country/Region'].eq('US')][metrics].sum().add_prefix('US ')\n",
    "s_eu = df_table[df_table['Continent'].eq('Europe')][metrics].sum().add_prefix('EU ')\n",
    "s_ind = df_table[df_table['Country/Region'].eq('India')][metrics].sum().add_prefix('India ')\n",
    "summary = {'updated': pd.to_datetime(dt_today), 'since': pd.to_datetime(dt_yday)}\n",
    "summary = {'updated': pd.to_datetime(dt_today), 'since': pd.to_datetime(dt_yday)}\n",
    "summary = {**summary, **df_table[metrics].sum(), **s_ind, **s_us, **s_eu}"
   ]
  },
  {
   "cell_type": "code",
   "execution_count": 18,
   "id": "engaging-syndrome",
   "metadata": {
    "execution": {
     "iopub.execute_input": "2021-04-06T12:03:52.109382Z",
     "iopub.status.busy": "2021-04-06T12:03:52.108724Z",
     "iopub.status.idle": "2021-04-06T12:03:52.122716Z",
     "shell.execute_reply": "2021-04-06T12:03:52.122163Z"
    },
    "papermill": {
     "duration": 0.057052,
     "end_time": "2021-04-06T12:03:52.122845",
     "exception": false,
     "start_time": "2021-04-06T12:03:52.065793",
     "status": "completed"
    },
    "tags": []
   },
   "outputs": [],
   "source": [
    "#hide\n",
    "dft_ct_new_cases = dft_cases.groupby(COL_REGION)[dt_cols].sum().diff(axis=1).fillna(0).astype(int)"
   ]
  },
  {
   "cell_type": "code",
   "execution_count": 19,
   "id": "neutral-assignment",
   "metadata": {
    "execution": {
     "iopub.execute_input": "2021-04-06T12:03:52.206934Z",
     "iopub.status.busy": "2021-04-06T12:03:52.206309Z",
     "iopub.status.idle": "2021-04-06T12:03:52.208084Z",
     "shell.execute_reply": "2021-04-06T12:03:52.208541Z"
    },
    "papermill": {
     "duration": 0.047668,
     "end_time": "2021-04-06T12:03:52.208777",
     "exception": false,
     "start_time": "2021-04-06T12:03:52.161109",
     "status": "completed"
    },
    "tags": []
   },
   "outputs": [],
   "source": [
    "#hide\n",
    "everydaycases = dft_ct_new_cases.cumsum(axis=1)"
   ]
  },
  {
   "cell_type": "code",
   "execution_count": 20,
   "id": "parliamentary-calgary",
   "metadata": {
    "execution": {
     "iopub.execute_input": "2021-04-06T12:03:52.290318Z",
     "iopub.status.busy": "2021-04-06T12:03:52.289565Z",
     "iopub.status.idle": "2021-04-06T12:03:52.928210Z",
     "shell.execute_reply": "2021-04-06T12:03:52.927695Z"
    },
    "papermill": {
     "duration": 0.680746,
     "end_time": "2021-04-06T12:03:52.928345",
     "exception": false,
     "start_time": "2021-04-06T12:03:52.247599",
     "status": "completed"
    },
    "tags": []
   },
   "outputs": [],
   "source": [
    "#hide\n",
    "import pandas as pd\n",
    "import matplotlib.pyplot as plt\n",
    "import matplotlib.ticker as ticker\n",
    "import matplotlib.animation as animation\n",
    "from IPython.display import HTML"
   ]
  },
  {
   "cell_type": "code",
   "execution_count": 21,
   "id": "lasting-extraction",
   "metadata": {
    "execution": {
     "iopub.execute_input": "2021-04-06T12:03:53.012388Z",
     "iopub.status.busy": "2021-04-06T12:03:53.011658Z",
     "iopub.status.idle": "2021-04-06T12:03:53.017304Z",
     "shell.execute_reply": "2021-04-06T12:03:53.017919Z"
    },
    "papermill": {
     "duration": 0.050709,
     "end_time": "2021-04-06T12:03:53.018122",
     "exception": false,
     "start_time": "2021-04-06T12:03:52.967413",
     "status": "completed"
    },
    "tags": []
   },
   "outputs": [],
   "source": [
    "#hide\n",
    "t = everydaycases.stack()"
   ]
  },
  {
   "cell_type": "code",
   "execution_count": 22,
   "id": "premier-sleeve",
   "metadata": {
    "execution": {
     "iopub.execute_input": "2021-04-06T12:03:53.105764Z",
     "iopub.status.busy": "2021-04-06T12:03:53.105128Z",
     "iopub.status.idle": "2021-04-06T12:03:53.114290Z",
     "shell.execute_reply": "2021-04-06T12:03:53.114889Z"
    },
    "papermill": {
     "duration": 0.058062,
     "end_time": "2021-04-06T12:03:53.115054",
     "exception": false,
     "start_time": "2021-04-06T12:03:53.056992",
     "status": "completed"
    },
    "tags": []
   },
   "outputs": [],
   "source": [
    "#hide\n",
    "g = t.reset_index(['Country/Region'])"
   ]
  },
  {
   "cell_type": "code",
   "execution_count": 23,
   "id": "distributed-pittsburgh",
   "metadata": {
    "execution": {
     "iopub.execute_input": "2021-04-06T12:03:53.197248Z",
     "iopub.status.busy": "2021-04-06T12:03:53.196662Z",
     "iopub.status.idle": "2021-04-06T12:03:53.199179Z",
     "shell.execute_reply": "2021-04-06T12:03:53.198685Z"
    },
    "papermill": {
     "duration": 0.04428,
     "end_time": "2021-04-06T12:03:53.199301",
     "exception": false,
     "start_time": "2021-04-06T12:03:53.155021",
     "status": "completed"
    },
    "tags": []
   },
   "outputs": [],
   "source": [
    "#hide\n",
    "g.index.name = 'date'"
   ]
  },
  {
   "cell_type": "code",
   "execution_count": 24,
   "id": "naked-donor",
   "metadata": {
    "execution": {
     "iopub.execute_input": "2021-04-06T12:03:53.273024Z",
     "iopub.status.busy": "2021-04-06T12:03:53.272442Z",
     "iopub.status.idle": "2021-04-06T12:03:53.274437Z",
     "shell.execute_reply": "2021-04-06T12:03:53.274914Z"
    },
    "papermill": {
     "duration": 0.040806,
     "end_time": "2021-04-06T12:03:53.275057",
     "exception": false,
     "start_time": "2021-04-06T12:03:53.234251",
     "status": "completed"
    },
    "tags": []
   },
   "outputs": [],
   "source": [
    "# #hide\n",
    "# g = g.reset_index(['date'])"
   ]
  },
  {
   "cell_type": "code",
   "execution_count": 25,
   "id": "incomplete-mustang",
   "metadata": {
    "execution": {
     "iopub.execute_input": "2021-04-06T12:03:53.356746Z",
     "iopub.status.busy": "2021-04-06T12:03:53.356152Z",
     "iopub.status.idle": "2021-04-06T12:03:53.357986Z",
     "shell.execute_reply": "2021-04-06T12:03:53.358530Z"
    },
    "papermill": {
     "duration": 0.04886,
     "end_time": "2021-04-06T12:03:53.358685",
     "exception": false,
     "start_time": "2021-04-06T12:03:53.309825",
     "status": "completed"
    },
    "tags": []
   },
   "outputs": [],
   "source": [
    "#hide\n",
    "# g.head()"
   ]
  },
  {
   "cell_type": "code",
   "execution_count": 26,
   "id": "specific-kruger",
   "metadata": {
    "execution": {
     "iopub.execute_input": "2021-04-06T12:03:53.439784Z",
     "iopub.status.busy": "2021-04-06T12:03:53.439058Z",
     "iopub.status.idle": "2021-04-06T12:03:53.440991Z",
     "shell.execute_reply": "2021-04-06T12:03:53.441484Z"
    },
    "papermill": {
     "duration": 0.046698,
     "end_time": "2021-04-06T12:03:53.441634",
     "exception": false,
     "start_time": "2021-04-06T12:03:53.394936",
     "status": "completed"
    },
    "tags": []
   },
   "outputs": [],
   "source": [
    "#hide\n",
    "# g.columns = ['date','country','cases']"
   ]
  },
  {
   "cell_type": "code",
   "execution_count": 27,
   "id": "tender-conversion",
   "metadata": {
    "execution": {
     "iopub.execute_input": "2021-04-06T12:03:53.521810Z",
     "iopub.status.busy": "2021-04-06T12:03:53.521037Z",
     "iopub.status.idle": "2021-04-06T12:03:53.522843Z",
     "shell.execute_reply": "2021-04-06T12:03:53.523396Z"
    },
    "papermill": {
     "duration": 0.044255,
     "end_time": "2021-04-06T12:03:53.523537",
     "exception": false,
     "start_time": "2021-04-06T12:03:53.479282",
     "status": "completed"
    },
    "tags": []
   },
   "outputs": [],
   "source": [
    "#hide\n",
    "# g['continent'] = g.country"
   ]
  },
  {
   "cell_type": "code",
   "execution_count": 28,
   "id": "substantial-wilderness",
   "metadata": {
    "execution": {
     "iopub.execute_input": "2021-04-06T12:03:53.605796Z",
     "iopub.status.busy": "2021-04-06T12:03:53.605033Z",
     "iopub.status.idle": "2021-04-06T12:03:53.607387Z",
     "shell.execute_reply": "2021-04-06T12:03:53.606924Z"
    },
    "papermill": {
     "duration": 0.042385,
     "end_time": "2021-04-06T12:03:53.607511",
     "exception": false,
     "start_time": "2021-04-06T12:03:53.565126",
     "status": "completed"
    },
    "tags": []
   },
   "outputs": [],
   "source": [
    "#hide\n",
    "# cols = list(g.columns.values)"
   ]
  },
  {
   "cell_type": "code",
   "execution_count": 29,
   "id": "solved-farming",
   "metadata": {
    "execution": {
     "iopub.execute_input": "2021-04-06T12:03:53.703749Z",
     "iopub.status.busy": "2021-04-06T12:03:53.703132Z",
     "iopub.status.idle": "2021-04-06T12:03:53.705623Z",
     "shell.execute_reply": "2021-04-06T12:03:53.706202Z"
    },
    "papermill": {
     "duration": 0.05739,
     "end_time": "2021-04-06T12:03:53.706345",
     "exception": false,
     "start_time": "2021-04-06T12:03:53.648955",
     "status": "completed"
    },
    "tags": []
   },
   "outputs": [],
   "source": [
    "#hide\n",
    "# cols.insert(0, cols.pop())"
   ]
  },
  {
   "cell_type": "code",
   "execution_count": 30,
   "id": "executed-adoption",
   "metadata": {
    "execution": {
     "iopub.execute_input": "2021-04-06T12:03:53.786234Z",
     "iopub.status.busy": "2021-04-06T12:03:53.785638Z",
     "iopub.status.idle": "2021-04-06T12:03:53.787818Z",
     "shell.execute_reply": "2021-04-06T12:03:53.787328Z"
    },
    "papermill": {
     "duration": 0.042343,
     "end_time": "2021-04-06T12:03:53.787939",
     "exception": false,
     "start_time": "2021-04-06T12:03:53.745596",
     "status": "completed"
    },
    "tags": []
   },
   "outputs": [],
   "source": [
    "#hide\n",
    "# g = g[cols]"
   ]
  },
  {
   "cell_type": "code",
   "execution_count": 31,
   "id": "subject-dublin",
   "metadata": {
    "execution": {
     "iopub.execute_input": "2021-04-06T12:03:53.872828Z",
     "iopub.status.busy": "2021-04-06T12:03:53.872031Z",
     "iopub.status.idle": "2021-04-06T12:03:53.873698Z",
     "shell.execute_reply": "2021-04-06T12:03:53.874263Z"
    },
    "papermill": {
     "duration": 0.047986,
     "end_time": "2021-04-06T12:03:53.874415",
     "exception": false,
     "start_time": "2021-04-06T12:03:53.826429",
     "status": "completed"
    },
    "tags": []
   },
   "outputs": [],
   "source": [
    "#hide\n",
    "# g['continent'] = g['continent'].map(mapping['map.continent'])"
   ]
  },
  {
   "cell_type": "code",
   "execution_count": 32,
   "id": "freelance-scout",
   "metadata": {
    "execution": {
     "iopub.execute_input": "2021-04-06T12:03:53.957834Z",
     "iopub.status.busy": "2021-04-06T12:03:53.957136Z",
     "iopub.status.idle": "2021-04-06T12:03:53.959010Z",
     "shell.execute_reply": "2021-04-06T12:03:53.959451Z"
    },
    "papermill": {
     "duration": 0.046969,
     "end_time": "2021-04-06T12:03:53.959599",
     "exception": false,
     "start_time": "2021-04-06T12:03:53.912630",
     "status": "completed"
    },
    "tags": []
   },
   "outputs": [],
   "source": [
    "#hide\n",
    "# g.head()"
   ]
  },
  {
   "cell_type": "code",
   "execution_count": 33,
   "id": "limited-engine",
   "metadata": {
    "execution": {
     "iopub.execute_input": "2021-04-06T12:03:54.041302Z",
     "iopub.status.busy": "2021-04-06T12:03:54.040707Z",
     "iopub.status.idle": "2021-04-06T12:03:54.042993Z",
     "shell.execute_reply": "2021-04-06T12:03:54.042418Z"
    },
    "papermill": {
     "duration": 0.046377,
     "end_time": "2021-04-06T12:03:54.043208",
     "exception": false,
     "start_time": "2021-04-06T12:03:53.996831",
     "status": "completed"
    },
    "tags": []
   },
   "outputs": [],
   "source": [
    "# hide\n",
    "# g['date'] = g['date'].astype('datetime64[ns]')"
   ]
  },
  {
   "cell_type": "code",
   "execution_count": 34,
   "id": "sophisticated-supervisor",
   "metadata": {
    "execution": {
     "iopub.execute_input": "2021-04-06T12:03:54.125752Z",
     "iopub.status.busy": "2021-04-06T12:03:54.125091Z",
     "iopub.status.idle": "2021-04-06T12:03:54.127678Z",
     "shell.execute_reply": "2021-04-06T12:03:54.127211Z"
    },
    "papermill": {
     "duration": 0.044607,
     "end_time": "2021-04-06T12:03:54.127801",
     "exception": false,
     "start_time": "2021-04-06T12:03:54.083194",
     "status": "completed"
    },
    "tags": []
   },
   "outputs": [],
   "source": [
    "#hide\n",
    "# g['date'] = g.date.dt.dayofyear"
   ]
  },
  {
   "cell_type": "code",
   "execution_count": 35,
   "id": "inside-dubai",
   "metadata": {
    "execution": {
     "iopub.execute_input": "2021-04-06T12:03:54.211196Z",
     "iopub.status.busy": "2021-04-06T12:03:54.210490Z",
     "iopub.status.idle": "2021-04-06T12:03:54.213313Z",
     "shell.execute_reply": "2021-04-06T12:03:54.212830Z"
    },
    "papermill": {
     "duration": 0.045254,
     "end_time": "2021-04-06T12:03:54.213473",
     "exception": false,
     "start_time": "2021-04-06T12:03:54.168219",
     "status": "completed"
    },
    "tags": []
   },
   "outputs": [],
   "source": [
    "#hide\n",
    "# g = g.rename(columns= {'continent':'group','country':'name','cases':'value'})"
   ]
  },
  {
   "cell_type": "code",
   "execution_count": 36,
   "id": "fleet-motorcycle",
   "metadata": {
    "execution": {
     "iopub.execute_input": "2021-04-06T12:03:54.292437Z",
     "iopub.status.busy": "2021-04-06T12:03:54.291717Z",
     "iopub.status.idle": "2021-04-06T12:03:54.294075Z",
     "shell.execute_reply": "2021-04-06T12:03:54.293571Z"
    },
    "papermill": {
     "duration": 0.04322,
     "end_time": "2021-04-06T12:03:54.294196",
     "exception": false,
     "start_time": "2021-04-06T12:03:54.250976",
     "status": "completed"
    },
    "tags": []
   },
   "outputs": [],
   "source": [
    "#hide\n",
    "# cols = ['name','group','day','value']"
   ]
  },
  {
   "cell_type": "code",
   "execution_count": 37,
   "id": "continued-sleeping",
   "metadata": {
    "execution": {
     "iopub.execute_input": "2021-04-06T12:03:54.374997Z",
     "iopub.status.busy": "2021-04-06T12:03:54.374372Z",
     "iopub.status.idle": "2021-04-06T12:03:54.376693Z",
     "shell.execute_reply": "2021-04-06T12:03:54.376171Z"
    },
    "papermill": {
     "duration": 0.042915,
     "end_time": "2021-04-06T12:03:54.376840",
     "exception": false,
     "start_time": "2021-04-06T12:03:54.333925",
     "status": "completed"
    },
    "tags": []
   },
   "outputs": [],
   "source": [
    "#hide\n",
    "# g.rename(columns= {'date':'day'},inplace = True)"
   ]
  },
  {
   "cell_type": "code",
   "execution_count": 38,
   "id": "major-fight",
   "metadata": {
    "execution": {
     "iopub.execute_input": "2021-04-06T12:03:54.457423Z",
     "iopub.status.busy": "2021-04-06T12:03:54.456763Z",
     "iopub.status.idle": "2021-04-06T12:03:54.458667Z",
     "shell.execute_reply": "2021-04-06T12:03:54.459116Z"
    },
    "papermill": {
     "duration": 0.044171,
     "end_time": "2021-04-06T12:03:54.459358",
     "exception": false,
     "start_time": "2021-04-06T12:03:54.415187",
     "status": "completed"
    },
    "tags": []
   },
   "outputs": [],
   "source": [
    "#hide\n",
    "# g = g[cols]"
   ]
  },
  {
   "cell_type": "code",
   "execution_count": 39,
   "id": "structured-mobile",
   "metadata": {
    "execution": {
     "iopub.execute_input": "2021-04-06T12:03:54.538636Z",
     "iopub.status.busy": "2021-04-06T12:03:54.537887Z",
     "iopub.status.idle": "2021-04-06T12:03:54.539477Z",
     "shell.execute_reply": "2021-04-06T12:03:54.540145Z"
    },
    "papermill": {
     "duration": 0.044548,
     "end_time": "2021-04-06T12:03:54.540292",
     "exception": false,
     "start_time": "2021-04-06T12:03:54.495744",
     "status": "completed"
    },
    "tags": []
   },
   "outputs": [],
   "source": [
    "# #hide\n",
    "# g = g[g.group.notna()]"
   ]
  },
  {
   "cell_type": "code",
   "execution_count": 40,
   "id": "determined-closing",
   "metadata": {
    "execution": {
     "iopub.execute_input": "2021-04-06T12:03:54.617938Z",
     "iopub.status.busy": "2021-04-06T12:03:54.617269Z",
     "iopub.status.idle": "2021-04-06T12:03:54.619254Z",
     "shell.execute_reply": "2021-04-06T12:03:54.619699Z"
    },
    "papermill": {
     "duration": 0.042802,
     "end_time": "2021-04-06T12:03:54.619844",
     "exception": false,
     "start_time": "2021-04-06T12:03:54.577042",
     "status": "completed"
    },
    "tags": []
   },
   "outputs": [],
   "source": [
    "# #hide\n",
    "# colors = dict(zip(\n",
    "#     [\"Oceania\", \"Europe\", \"Asia\", \"South America\", \"Middle East\", \"North America\", \"Africa\"],\n",
    "#     [\"#adb0ff\", \"#ffb3ff\", \"#90d595\", \"#e48381\", \"#aafbff\", \"#f7bb5f\", \"#eafb50\"]\n",
    "# ))\n",
    "# group_lk = g.set_index('name')['group'].to_dict()"
   ]
  },
  {
   "cell_type": "code",
   "execution_count": null,
   "id": "gross-drinking",
   "metadata": {
    "papermill": {
     "duration": 0.034591,
     "end_time": "2021-04-06T12:03:54.689224",
     "exception": false,
     "start_time": "2021-04-06T12:03:54.654633",
     "status": "completed"
    },
    "tags": []
   },
   "outputs": [],
   "source": []
  },
  {
   "cell_type": "code",
   "execution_count": 41,
   "id": "subject-macintosh",
   "metadata": {
    "execution": {
     "iopub.execute_input": "2021-04-06T12:03:54.763365Z",
     "iopub.status.busy": "2021-04-06T12:03:54.762727Z",
     "iopub.status.idle": "2021-04-06T12:03:54.764758Z",
     "shell.execute_reply": "2021-04-06T12:03:54.765218Z"
    },
    "papermill": {
     "duration": 0.041432,
     "end_time": "2021-04-06T12:03:54.765384",
     "exception": false,
     "start_time": "2021-04-06T12:03:54.723952",
     "status": "completed"
    },
    "tags": []
   },
   "outputs": [],
   "source": [
    "# #hide\n",
    "# fig, ax = plt.subplots(figsize=(15, 8))\n",
    "\n",
    "# def draw_barchart(current_day):\n",
    "#     dff = g[g['day'].eq(current_day)].sort_values(by='value', ascending=True).tail(10)\n",
    "#     ax.clear()\n",
    "#     ax.barh(dff['name'], dff['value'], color=[colors[group_lk[x]] for x in dff['name']])\n",
    "#     dx = dff['value'].max() / 200\n",
    "    \n",
    "#     for i, (value, name) in enumerate(zip(dff['value'], dff['name'])):\n",
    "#         ax.text(value-dx, i,     name,           size=14, weight=600, ha='right', va='bottom')\n",
    "#         ax.text(value-dx, i-.25, group_lk[name], size=10, color='#444444', ha='right', va='baseline')\n",
    "#         ax.text(value+dx, i,     f'{value:,.0f}',  size=14, ha='left',  va='center')\n",
    "#     ax.text(1, 0.4, current_day, transform=ax.transAxes, color='#777777', size=46, ha='right', weight=800)\n",
    "#     ax.text(0, 1.06, 'Population (thousands)', transform=ax.transAxes, size=12, color='#777777')\n",
    "#     ax.xaxis.set_major_formatter(ticker.StrMethodFormatter('{x:,.0f}'))\n",
    "#     ax.xaxis.set_ticks_position('top')\n",
    "#     ax.tick_params(axis='x', colors='#777777', labelsize=12)\n",
    "#     ax.set_yticks([])\n",
    "#     ax.margins(0, 0.01)\n",
    "#     ax.grid(which='major', axis='x', linestyle='-')\n",
    "#     ax.set_axisbelow(True)\n",
    "    \n",
    "#     ax.text(0, 1.15, 'Coronavirus',\n",
    "#             transform=ax.transAxes, size=24, weight=600, ha='left', va='top')\n",
    "# #     ax.text(1, 0, 'by @pratapvardhan; credit @jburnmurdoch', transform=ax.transAxes, color='#777777', ha='right',\n",
    "# #             bbox=dict(facecolor='white', alpha=0.8, edgecolor='white'))\n",
    "#     plt.box(False)"
   ]
  },
  {
   "cell_type": "code",
   "execution_count": 42,
   "id": "sexual-wages",
   "metadata": {
    "execution": {
     "iopub.execute_input": "2021-04-06T12:03:54.844384Z",
     "iopub.status.busy": "2021-04-06T12:03:54.843753Z",
     "iopub.status.idle": "2021-04-06T12:03:54.845619Z",
     "shell.execute_reply": "2021-04-06T12:03:54.846072Z"
    },
    "papermill": {
     "duration": 0.04543,
     "end_time": "2021-04-06T12:03:54.846220",
     "exception": false,
     "start_time": "2021-04-06T12:03:54.800790",
     "status": "completed"
    },
    "tags": []
   },
   "outputs": [],
   "source": [
    "# #hide_input\n",
    "# fig, ax = plt.subplots(figsize=(15, 8))\n",
    "# animator = animation.FuncAnimation(fig, draw_barchart, frames=range(g.day.values.min(), g.day.values.max()))\n",
    "# HTML(animator.to_jshtml())\n",
    "# # or use animator.to_html5_video() or animator.save() "
   ]
  },
  {
   "cell_type": "code",
   "execution_count": null,
   "id": "australian-container",
   "metadata": {
    "papermill": {
     "duration": 0.049448,
     "end_time": "2021-04-06T12:03:54.937811",
     "exception": false,
     "start_time": "2021-04-06T12:03:54.888363",
     "status": "completed"
    },
    "tags": []
   },
   "outputs": [],
   "source": []
  },
  {
   "cell_type": "code",
   "execution_count": null,
   "id": "mediterranean-pontiac",
   "metadata": {
    "papermill": {
     "duration": 0.035089,
     "end_time": "2021-04-06T12:03:55.011569",
     "exception": false,
     "start_time": "2021-04-06T12:03:54.976480",
     "status": "completed"
    },
    "tags": []
   },
   "outputs": [],
   "source": []
  },
  {
   "cell_type": "code",
   "execution_count": null,
   "id": "aging-legislature",
   "metadata": {
    "papermill": {
     "duration": 0.034614,
     "end_time": "2021-04-06T12:03:55.081687",
     "exception": false,
     "start_time": "2021-04-06T12:03:55.047073",
     "status": "completed"
    },
    "tags": []
   },
   "outputs": [],
   "source": []
  }
 ],
 "metadata": {
  "kernelspec": {
   "display_name": "Python 3",
   "language": "python",
   "name": "python3"
  },
  "language_info": {
   "codemirror_mode": {
    "name": "ipython",
    "version": 3
   },
   "file_extension": ".py",
   "mimetype": "text/x-python",
   "name": "python",
   "nbconvert_exporter": "python",
   "pygments_lexer": "ipython3",
   "version": "3.6.13"
  },
  "papermill": {
   "duration": 6.753541,
   "end_time": "2021-04-06T12:03:55.423051",
   "environment_variables": {},
   "exception": null,
   "input_path": "2020-03-21-covid19exp.ipynb",
   "output_path": "2020-03-21-covid19exp.ipynb",
   "parameters": {},
   "start_time": "2021-04-06T12:03:48.669510",
   "version": "2.0.0"
  }
 },
 "nbformat": 4,
 "nbformat_minor": 5
}