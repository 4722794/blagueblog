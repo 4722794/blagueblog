{
 "cells": [
  {
   "cell_type": "markdown",
   "id": "muslim-click",
   "metadata": {
    "papermill": {
     "duration": 0.044697,
     "end_time": "2022-08-02T12:23:39.505355",
     "exception": false,
     "start_time": "2022-08-02T12:23:39.460658",
     "status": "completed"
    },
    "tags": []
   },
   "source": [
    "# COVID-19 Case Race\n",
    "> A race chart to see rising cases around the world\n",
    "\n",
    "- author: Hargun Oberoi\n",
    "- image: images/covid-overview.png\n",
    "- hide: false\n",
    "- badges: false"
   ]
  },
  {
   "cell_type": "code",
   "execution_count": 1,
   "id": "proof-material",
   "metadata": {
    "execution": {
     "iopub.execute_input": "2022-08-02T12:23:39.597835Z",
     "iopub.status.busy": "2022-08-02T12:23:39.597020Z",
     "iopub.status.idle": "2022-08-02T12:23:40.017389Z",
     "shell.execute_reply": "2022-08-02T12:23:40.016693Z"
    },
    "papermill": {
     "duration": 0.471522,
     "end_time": "2022-08-02T12:23:40.017571",
     "exception": false,
     "start_time": "2022-08-02T12:23:39.546049",
     "status": "completed"
    },
    "tags": []
   },
   "outputs": [],
   "source": [
    "#hide\n",
    "import numpy as np\n",
    "import pandas as pd\n",
    "from jinja2 import Template\n",
    "from IPython.display import HTML"
   ]
  },
  {
   "cell_type": "code",
   "execution_count": 2,
   "id": "developed-terminology",
   "metadata": {
    "execution": {
     "iopub.execute_input": "2022-08-02T12:23:40.103552Z",
     "iopub.status.busy": "2022-08-02T12:23:40.102779Z",
     "iopub.status.idle": "2022-08-02T12:23:40.107802Z",
     "shell.execute_reply": "2022-08-02T12:23:40.107109Z"
    },
    "papermill": {
     "duration": 0.050551,
     "end_time": "2022-08-02T12:23:40.107948",
     "exception": false,
     "start_time": "2022-08-02T12:23:40.057397",
     "status": "completed"
    },
    "tags": []
   },
   "outputs": [],
   "source": [
    "#hide\n",
    "\n",
    "# FETCH\n",
    "base_url = 'https://raw.githubusercontent.com/pratapvardhan/notebooks/master/covid19/'\n",
    "paths = {\n",
    "    'mapping': base_url + 'mapping_countries.csv',\n",
    "    'overview': base_url + 'overview.tpl'\n",
    "}"
   ]
  },
  {
   "cell_type": "code",
   "execution_count": 3,
   "id": "dynamic-saver",
   "metadata": {
    "execution": {
     "iopub.execute_input": "2022-08-02T12:23:40.195718Z",
     "iopub.status.busy": "2022-08-02T12:23:40.190604Z",
     "iopub.status.idle": "2022-08-02T12:23:40.203070Z",
     "shell.execute_reply": "2022-08-02T12:23:40.203763Z"
    },
    "papermill": {
     "duration": 0.0554,
     "end_time": "2022-08-02T12:23:40.203900",
     "exception": false,
     "start_time": "2022-08-02T12:23:40.148500",
     "status": "completed"
    },
    "tags": []
   },
   "outputs": [
    {
     "data": {
      "text/plain": [
       "'https://raw.githubusercontent.com/pratapvardhan/notebooks/master/covid19/mapping_countries.csv'"
      ]
     },
     "execution_count": 3,
     "metadata": {},
     "output_type": "execute_result"
    }
   ],
   "source": [
    "#hide\n",
    "paths['mapping']"
   ]
  },
  {
   "cell_type": "code",
   "execution_count": 4,
   "id": "urban-software",
   "metadata": {
    "execution": {
     "iopub.execute_input": "2022-08-02T12:23:40.291096Z",
     "iopub.status.busy": "2022-08-02T12:23:40.290349Z",
     "iopub.status.idle": "2022-08-02T12:23:40.293720Z",
     "shell.execute_reply": "2022-08-02T12:23:40.293142Z"
    },
    "papermill": {
     "duration": 0.050561,
     "end_time": "2022-08-02T12:23:40.293853",
     "exception": false,
     "start_time": "2022-08-02T12:23:40.243292",
     "status": "completed"
    },
    "tags": []
   },
   "outputs": [],
   "source": [
    "#hide\n",
    "def get_mappings(url):\n",
    "    df = pd.read_csv(url)\n",
    "    return {\n",
    "        'df': df,\n",
    "        'replace.country': dict(df.dropna(subset=['Name']).set_index('Country')['Name']),\n",
    "        'map.continent': dict(df.set_index('Name')['Continent'])\n",
    "    }"
   ]
  },
  {
   "cell_type": "code",
   "execution_count": 5,
   "id": "intimate-machinery",
   "metadata": {
    "execution": {
     "iopub.execute_input": "2022-08-02T12:23:40.380028Z",
     "iopub.status.busy": "2022-08-02T12:23:40.379104Z",
     "iopub.status.idle": "2022-08-02T12:23:40.410778Z",
     "shell.execute_reply": "2022-08-02T12:23:40.411387Z"
    },
    "papermill": {
     "duration": 0.077735,
     "end_time": "2022-08-02T12:23:40.411558",
     "exception": false,
     "start_time": "2022-08-02T12:23:40.333823",
     "status": "completed"
    },
    "tags": []
   },
   "outputs": [],
   "source": [
    "#hide\n",
    "mapping = get_mappings(paths['mapping'])"
   ]
  },
  {
   "cell_type": "code",
   "execution_count": 6,
   "id": "certified-tactics",
   "metadata": {
    "execution": {
     "iopub.execute_input": "2022-08-02T12:23:40.497523Z",
     "iopub.status.busy": "2022-08-02T12:23:40.496488Z",
     "iopub.status.idle": "2022-08-02T12:23:40.500127Z",
     "shell.execute_reply": "2022-08-02T12:23:40.499423Z"
    },
    "papermill": {
     "duration": 0.04983,
     "end_time": "2022-08-02T12:23:40.500265",
     "exception": false,
     "start_time": "2022-08-02T12:23:40.450435",
     "status": "completed"
    },
    "tags": []
   },
   "outputs": [],
   "source": [
    "#hide\n",
    "def get_template(path):\n",
    "    from urllib.parse import urlparse\n",
    "    if bool(urlparse(path).netloc):\n",
    "        from urllib.request import urlopen\n",
    "        return urlopen(path).read().decode('utf8')\n",
    "    return open(path).read()"
   ]
  },
  {
   "cell_type": "code",
   "execution_count": 7,
   "id": "realistic-blast",
   "metadata": {
    "execution": {
     "iopub.execute_input": "2022-08-02T12:23:40.585443Z",
     "iopub.status.busy": "2022-08-02T12:23:40.584581Z",
     "iopub.status.idle": "2022-08-02T12:23:40.588015Z",
     "shell.execute_reply": "2022-08-02T12:23:40.587249Z"
    },
    "papermill": {
     "duration": 0.048356,
     "end_time": "2022-08-02T12:23:40.588165",
     "exception": false,
     "start_time": "2022-08-02T12:23:40.539809",
     "status": "completed"
    },
    "tags": []
   },
   "outputs": [],
   "source": [
    "#hide\n",
    "def get_frame(name):\n",
    "    url = (\n",
    "        'https://raw.githubusercontent.com/CSSEGISandData/COVID-19/master/csse_covid_19_data/'\n",
    "        f'csse_covid_19_time_series/time_series_covid19_{name}_global.csv')\n",
    "    df = pd.read_csv(url)\n",
    "    # rename countries\n",
    "    df['Country/Region'] = df['Country/Region'].replace(mapping['replace.country'])\n",
    "    return df"
   ]
  },
  {
   "cell_type": "code",
   "execution_count": 8,
   "id": "affiliated-characterization",
   "metadata": {
    "execution": {
     "iopub.execute_input": "2022-08-02T12:23:40.677353Z",
     "iopub.status.busy": "2022-08-02T12:23:40.676582Z",
     "iopub.status.idle": "2022-08-02T12:23:40.681861Z",
     "shell.execute_reply": "2022-08-02T12:23:40.680961Z"
    },
    "papermill": {
     "duration": 0.052987,
     "end_time": "2022-08-02T12:23:40.682010",
     "exception": false,
     "start_time": "2022-08-02T12:23:40.629023",
     "status": "completed"
    },
    "tags": []
   },
   "outputs": [],
   "source": [
    "#hide\n",
    "def get_dates(df):\n",
    "    dt_cols = df.columns[~df.columns.isin(['Province/State', 'Country/Region', 'Lat', 'Long'])]\n",
    "    LAST_DATE_I = -1\n",
    "    # sometimes last column may be empty, then go backwards\n",
    "    for i in range(-1, -len(dt_cols), -1):\n",
    "        if not df[dt_cols[i]].fillna(0).eq(0).all():\n",
    "            LAST_DATE_I = i\n",
    "            break\n",
    "    return LAST_DATE_I, dt_cols"
   ]
  },
  {
   "cell_type": "code",
   "execution_count": 9,
   "id": "recent-optimization",
   "metadata": {
    "execution": {
     "iopub.execute_input": "2022-08-02T12:23:40.768626Z",
     "iopub.status.busy": "2022-08-02T12:23:40.767883Z",
     "iopub.status.idle": "2022-08-02T12:23:41.256530Z",
     "shell.execute_reply": "2022-08-02T12:23:41.255091Z"
    },
    "papermill": {
     "duration": 0.533661,
     "end_time": "2022-08-02T12:23:41.256784",
     "exception": false,
     "start_time": "2022-08-02T12:23:40.723123",
     "status": "completed"
    },
    "tags": []
   },
   "outputs": [],
   "source": [
    "#hide\n",
    "COL_REGION = 'Country/Region'\n",
    "# Confirmed, Recovered, Deaths\n",
    "df = get_frame('confirmed')\n",
    "# dft_: timeseries, dfc_: today country agg\n",
    "dft_cases = df\n",
    "dft_deaths = get_frame('deaths')\n",
    "dft_recovered = get_frame('recovered')\n",
    "LAST_DATE_I, dt_cols = get_dates(df)"
   ]
  },
  {
   "cell_type": "code",
   "execution_count": 10,
   "id": "absolute-copper",
   "metadata": {
    "execution": {
     "iopub.execute_input": "2022-08-02T12:23:41.348544Z",
     "iopub.status.busy": "2022-08-02T12:23:41.347811Z",
     "iopub.status.idle": "2022-08-02T12:23:41.350930Z",
     "shell.execute_reply": "2022-08-02T12:23:41.350251Z"
    },
    "papermill": {
     "duration": 0.050144,
     "end_time": "2022-08-02T12:23:41.351108",
     "exception": false,
     "start_time": "2022-08-02T12:23:41.300964",
     "status": "completed"
    },
    "tags": []
   },
   "outputs": [],
   "source": [
    "#hide\n",
    "LAST_DATE_I, dt_cols = get_dates(df)\n",
    "dt_today =dt_cols[LAST_DATE_I]\n",
    "# dt_5day = dt_cols[LAST_DATE_I - 5]\n",
    "dt_yday = dt_cols[LAST_DATE_I - 1]"
   ]
  },
  {
   "cell_type": "code",
   "execution_count": 11,
   "id": "restricted-sheriff",
   "metadata": {
    "execution": {
     "iopub.execute_input": "2022-08-02T12:23:41.445117Z",
     "iopub.status.busy": "2022-08-02T12:23:41.444389Z",
     "iopub.status.idle": "2022-08-02T12:23:41.453222Z",
     "shell.execute_reply": "2022-08-02T12:23:41.452511Z"
    },
    "papermill": {
     "duration": 0.059907,
     "end_time": "2022-08-02T12:23:41.453356",
     "exception": false,
     "start_time": "2022-08-02T12:23:41.393449",
     "status": "completed"
    },
    "tags": []
   },
   "outputs": [],
   "source": [
    "#hide\n",
    "dfc_cases = dft_cases.groupby(COL_REGION)[dt_today].sum()\n",
    "dfc_deaths = dft_deaths.groupby(COL_REGION)[dt_today].sum()\n",
    "# dfp_cases = dft_cases.groupby(COL_REGION)[dt_5day].sum()\n",
    "# dfp_deaths = dft_deaths.groupby(COL_REGION)[dt_5day].sum()\n",
    "dfp_cases = dft_cases.groupby(COL_REGION)[dt_yday].sum()\n",
    "dfp_deaths = dft_deaths.groupby(COL_REGION)[dt_yday].sum()"
   ]
  },
  {
   "cell_type": "code",
   "execution_count": 12,
   "id": "deluxe-hepatitis",
   "metadata": {
    "execution": {
     "iopub.execute_input": "2022-08-02T12:23:41.544294Z",
     "iopub.status.busy": "2022-08-02T12:23:41.543567Z",
     "iopub.status.idle": "2022-08-02T12:23:41.549109Z",
     "shell.execute_reply": "2022-08-02T12:23:41.550128Z"
    },
    "papermill": {
     "duration": 0.056708,
     "end_time": "2022-08-02T12:23:41.550301",
     "exception": false,
     "start_time": "2022-08-02T12:23:41.493593",
     "status": "completed"
    },
    "tags": []
   },
   "outputs": [],
   "source": [
    "#hide\n",
    "df_table = (pd.DataFrame(dict(Cases = dfc_cases, Deaths = dfc_deaths, PCases = dfp_cases, PDeaths = dfp_deaths))\n",
    "            .sort_values(by = ['Cases','Deaths'], ascending = [False, False])\n",
    "            .reset_index())"
   ]
  },
  {
   "cell_type": "code",
   "execution_count": 13,
   "id": "educational-chancellor",
   "metadata": {
    "execution": {
     "iopub.execute_input": "2022-08-02T12:23:41.661801Z",
     "iopub.status.busy": "2022-08-02T12:23:41.655090Z",
     "iopub.status.idle": "2022-08-02T12:23:41.665704Z",
     "shell.execute_reply": "2022-08-02T12:23:41.666304Z"
    },
    "papermill": {
     "duration": 0.076592,
     "end_time": "2022-08-02T12:23:41.666485",
     "exception": false,
     "start_time": "2022-08-02T12:23:41.589893",
     "status": "completed"
    },
    "tags": []
   },
   "outputs": [
    {
     "data": {
      "text/html": [
       "<div>\n",
       "<style scoped>\n",
       "    .dataframe tbody tr th:only-of-type {\n",
       "        vertical-align: middle;\n",
       "    }\n",
       "\n",
       "    .dataframe tbody tr th {\n",
       "        vertical-align: top;\n",
       "    }\n",
       "\n",
       "    .dataframe thead th {\n",
       "        text-align: right;\n",
       "    }\n",
       "</style>\n",
       "<table border=\"1\" class=\"dataframe\">\n",
       "  <thead>\n",
       "    <tr style=\"text-align: right;\">\n",
       "      <th></th>\n",
       "      <th>Country/Region</th>\n",
       "      <th>Cases</th>\n",
       "      <th>Deaths</th>\n",
       "      <th>PCases</th>\n",
       "      <th>PDeaths</th>\n",
       "      <th>Cases (+)</th>\n",
       "      <th>Deaths (+)</th>\n",
       "      <th>Fatality Rate</th>\n",
       "      <th>Continent</th>\n",
       "    </tr>\n",
       "  </thead>\n",
       "  <tbody>\n",
       "    <tr>\n",
       "      <th>0</th>\n",
       "      <td>US</td>\n",
       "      <td>91472835</td>\n",
       "      <td>1030498</td>\n",
       "      <td>91331830</td>\n",
       "      <td>1029939</td>\n",
       "      <td>141005</td>\n",
       "      <td>559</td>\n",
       "      <td>1.13</td>\n",
       "      <td>North America</td>\n",
       "    </tr>\n",
       "    <tr>\n",
       "      <th>1</th>\n",
       "      <td>India</td>\n",
       "      <td>44050009</td>\n",
       "      <td>526430</td>\n",
       "      <td>44036275</td>\n",
       "      <td>526396</td>\n",
       "      <td>13734</td>\n",
       "      <td>34</td>\n",
       "      <td>1.20</td>\n",
       "      <td>Asia</td>\n",
       "    </tr>\n",
       "    <tr>\n",
       "      <th>2</th>\n",
       "      <td>France</td>\n",
       "      <td>34077286</td>\n",
       "      <td>153219</td>\n",
       "      <td>33997224</td>\n",
       "      <td>153023</td>\n",
       "      <td>80062</td>\n",
       "      <td>196</td>\n",
       "      <td>0.45</td>\n",
       "      <td>Europe</td>\n",
       "    </tr>\n",
       "    <tr>\n",
       "      <th>3</th>\n",
       "      <td>Brazil</td>\n",
       "      <td>33855964</td>\n",
       "      <td>678715</td>\n",
       "      <td>33833900</td>\n",
       "      <td>678514</td>\n",
       "      <td>22064</td>\n",
       "      <td>201</td>\n",
       "      <td>2.00</td>\n",
       "      <td>South America</td>\n",
       "    </tr>\n",
       "    <tr>\n",
       "      <th>4</th>\n",
       "      <td>Germany</td>\n",
       "      <td>30956873</td>\n",
       "      <td>144150</td>\n",
       "      <td>30854175</td>\n",
       "      <td>143979</td>\n",
       "      <td>102698</td>\n",
       "      <td>171</td>\n",
       "      <td>0.47</td>\n",
       "      <td>Europe</td>\n",
       "    </tr>\n",
       "  </tbody>\n",
       "</table>\n",
       "</div>"
      ],
      "text/plain": [
       "  Country/Region     Cases   Deaths    PCases  PDeaths  Cases (+)  Deaths (+)  \\\n",
       "0             US  91472835  1030498  91331830  1029939     141005         559   \n",
       "1          India  44050009   526430  44036275   526396      13734          34   \n",
       "2         France  34077286   153219  33997224   153023      80062         196   \n",
       "3         Brazil  33855964   678715  33833900   678514      22064         201   \n",
       "4        Germany  30956873   144150  30854175   143979     102698         171   \n",
       "\n",
       "   Fatality Rate      Continent  \n",
       "0           1.13  North America  \n",
       "1           1.20           Asia  \n",
       "2           0.45         Europe  \n",
       "3           2.00  South America  \n",
       "4           0.47         Europe  "
      ]
     },
     "execution_count": 13,
     "metadata": {},
     "output_type": "execute_result"
    }
   ],
   "source": [
    "#hide\n",
    "for c in 'Cases, Deaths'.split(', '):\n",
    "    df_table[f'{c} (+)'] = (df_table[c] - df_table[f'P{c}']).clip(0)\n",
    "    #Clip ça veut dire, les chiffres negatif sont interdit\n",
    "df_table['Fatality Rate'] = (100* df_table['Deaths']/ df_table['Cases']).round(2)\n",
    "df_table['Continent'] = df_table['Country/Region'].map(mapping['map.continent'])\n",
    "df_table.head(5)"
   ]
  },
  {
   "cell_type": "code",
   "execution_count": 14,
   "id": "aboriginal-bulgaria",
   "metadata": {
    "execution": {
     "iopub.execute_input": "2022-08-02T12:23:41.754462Z",
     "iopub.status.busy": "2022-08-02T12:23:41.753811Z",
     "iopub.status.idle": "2022-08-02T12:23:41.756994Z",
     "shell.execute_reply": "2022-08-02T12:23:41.757895Z"
    },
    "papermill": {
     "duration": 0.052309,
     "end_time": "2022-08-02T12:23:41.758034",
     "exception": false,
     "start_time": "2022-08-02T12:23:41.705725",
     "status": "completed"
    },
    "tags": []
   },
   "outputs": [],
   "source": [
    "#hide\n",
    "#delete problematic countries from table\n",
    "df_table = df_table[~df_table['Country/Region'].isin(['Cape Verde', 'Cruise Ship', 'Kosovo'])]"
   ]
  },
  {
   "cell_type": "code",
   "execution_count": 15,
   "id": "fantastic-effect",
   "metadata": {
    "execution": {
     "iopub.execute_input": "2022-08-02T12:23:41.848288Z",
     "iopub.status.busy": "2022-08-02T12:23:41.847626Z",
     "iopub.status.idle": "2022-08-02T12:23:41.872289Z",
     "shell.execute_reply": "2022-08-02T12:23:41.873223Z"
    },
    "papermill": {
     "duration": 0.075376,
     "end_time": "2022-08-02T12:23:41.873384",
     "exception": false,
     "start_time": "2022-08-02T12:23:41.798008",
     "status": "completed"
    },
    "tags": []
   },
   "outputs": [
    {
     "data": {
      "text/html": [
       "<div>\n",
       "<style scoped>\n",
       "    .dataframe tbody tr th:only-of-type {\n",
       "        vertical-align: middle;\n",
       "    }\n",
       "\n",
       "    .dataframe tbody tr th {\n",
       "        vertical-align: top;\n",
       "    }\n",
       "\n",
       "    .dataframe thead th {\n",
       "        text-align: right;\n",
       "    }\n",
       "</style>\n",
       "<table border=\"1\" class=\"dataframe\">\n",
       "  <thead>\n",
       "    <tr style=\"text-align: right;\">\n",
       "      <th></th>\n",
       "      <th>Country/Region</th>\n",
       "      <th>Cases</th>\n",
       "      <th>Deaths</th>\n",
       "      <th>PCases</th>\n",
       "      <th>PDeaths</th>\n",
       "      <th>Cases (+)</th>\n",
       "      <th>Deaths (+)</th>\n",
       "      <th>Fatality Rate</th>\n",
       "      <th>Continent</th>\n",
       "    </tr>\n",
       "  </thead>\n",
       "  <tbody>\n",
       "    <tr>\n",
       "      <th>0</th>\n",
       "      <td>US</td>\n",
       "      <td>91472835</td>\n",
       "      <td>1030498</td>\n",
       "      <td>91331830</td>\n",
       "      <td>1029939</td>\n",
       "      <td>141005</td>\n",
       "      <td>559</td>\n",
       "      <td>1.1</td>\n",
       "      <td>North America</td>\n",
       "    </tr>\n",
       "    <tr>\n",
       "      <th>1</th>\n",
       "      <td>India</td>\n",
       "      <td>44050009</td>\n",
       "      <td>526430</td>\n",
       "      <td>44036275</td>\n",
       "      <td>526396</td>\n",
       "      <td>13734</td>\n",
       "      <td>34</td>\n",
       "      <td>1.2</td>\n",
       "      <td>Asia</td>\n",
       "    </tr>\n",
       "    <tr>\n",
       "      <th>2</th>\n",
       "      <td>France</td>\n",
       "      <td>34077286</td>\n",
       "      <td>153219</td>\n",
       "      <td>33997224</td>\n",
       "      <td>153023</td>\n",
       "      <td>80062</td>\n",
       "      <td>196</td>\n",
       "      <td>0.4</td>\n",
       "      <td>Europe</td>\n",
       "    </tr>\n",
       "    <tr>\n",
       "      <th>3</th>\n",
       "      <td>Brazil</td>\n",
       "      <td>33855964</td>\n",
       "      <td>678715</td>\n",
       "      <td>33833900</td>\n",
       "      <td>678514</td>\n",
       "      <td>22064</td>\n",
       "      <td>201</td>\n",
       "      <td>2.0</td>\n",
       "      <td>South America</td>\n",
       "    </tr>\n",
       "    <tr>\n",
       "      <th>4</th>\n",
       "      <td>Germany</td>\n",
       "      <td>30956873</td>\n",
       "      <td>144150</td>\n",
       "      <td>30854175</td>\n",
       "      <td>143979</td>\n",
       "      <td>102698</td>\n",
       "      <td>171</td>\n",
       "      <td>0.5</td>\n",
       "      <td>Europe</td>\n",
       "    </tr>\n",
       "  </tbody>\n",
       "</table>\n",
       "</div>"
      ],
      "text/plain": [
       "  Country/Region     Cases   Deaths    PCases  PDeaths  Cases (+)  Deaths (+)  \\\n",
       "0             US  91472835  1030498  91331830  1029939     141005         559   \n",
       "1          India  44050009   526430  44036275   526396      13734          34   \n",
       "2         France  34077286   153219  33997224   153023      80062         196   \n",
       "3         Brazil  33855964   678715  33833900   678514      22064         201   \n",
       "4        Germany  30956873   144150  30854175   143979     102698         171   \n",
       "\n",
       "   Fatality Rate      Continent  \n",
       "0            1.1  North America  \n",
       "1            1.2           Asia  \n",
       "2            0.4         Europe  \n",
       "3            2.0  South America  \n",
       "4            0.5         Europe  "
      ]
     },
     "execution_count": 15,
     "metadata": {},
     "output_type": "execute_result"
    }
   ],
   "source": [
    "#hide\n",
    "df_table = (pd.DataFrame(dict(Cases=dfc_cases, Deaths=dfc_deaths, PCases=dfp_cases, PDeaths=dfp_deaths))\n",
    "             .sort_values(by=['Cases', 'Deaths'], ascending=[False, False])\n",
    "             .reset_index())\n",
    "df_table.rename(columns={'index': 'Country/Region'}, inplace=True)\n",
    "for c in 'Cases, Deaths'.split(', '):\n",
    "    df_table[f'{c} (+)'] = (df_table[c] - df_table[f'P{c}']).clip(0)  # DATA BUG\n",
    "df_table['Fatality Rate'] = (100 * df_table['Deaths'] / df_table['Cases']).round(1)\n",
    "df_table['Continent'] = df_table['Country/Region'].map(mapping['map.continent'])\n",
    "df_table.head(5)"
   ]
  },
  {
   "cell_type": "code",
   "execution_count": 16,
   "id": "fewer-occasion",
   "metadata": {
    "execution": {
     "iopub.execute_input": "2022-08-02T12:23:41.965048Z",
     "iopub.status.busy": "2022-08-02T12:23:41.964240Z",
     "iopub.status.idle": "2022-08-02T12:23:41.967729Z",
     "shell.execute_reply": "2022-08-02T12:23:41.966802Z"
    },
    "papermill": {
     "duration": 0.051611,
     "end_time": "2022-08-02T12:23:41.967877",
     "exception": false,
     "start_time": "2022-08-02T12:23:41.916266",
     "status": "completed"
    },
    "tags": []
   },
   "outputs": [],
   "source": [
    "#hide\n",
    "#delete problematic countries from table\n",
    "df_table = df_table[~df_table['Country/Region'].isin(['Cape Verde', 'Cruise Ship', 'Kosovo'])]"
   ]
  },
  {
   "cell_type": "code",
   "execution_count": 17,
   "id": "related-center",
   "metadata": {
    "execution": {
     "iopub.execute_input": "2022-08-02T12:23:42.075560Z",
     "iopub.status.busy": "2022-08-02T12:23:42.074758Z",
     "iopub.status.idle": "2022-08-02T12:23:42.079918Z",
     "shell.execute_reply": "2022-08-02T12:23:42.080524Z"
    },
    "papermill": {
     "duration": 0.072652,
     "end_time": "2022-08-02T12:23:42.080688",
     "exception": false,
     "start_time": "2022-08-02T12:23:42.008036",
     "status": "completed"
    },
    "tags": []
   },
   "outputs": [],
   "source": [
    "#hide\n",
    "metrics = [df_table.columns[index] for index in [1,2,5,6]]\n",
    "# s_china = df_table[df_table['Country/Region'].eq('China')][metrics].sum().add_prefix('China ')\n",
    "s_us = df_table[df_table['Country/Region'].eq('US')][metrics].sum().add_prefix('US ')\n",
    "s_eu = df_table[df_table['Continent'].eq('Europe')][metrics].sum().add_prefix('EU ')\n",
    "s_ind = df_table[df_table['Country/Region'].eq('India')][metrics].sum().add_prefix('India ')\n",
    "summary = {'updated': pd.to_datetime(dt_today), 'since': pd.to_datetime(dt_yday)}\n",
    "summary = {'updated': pd.to_datetime(dt_today), 'since': pd.to_datetime(dt_yday)}\n",
    "summary = {**summary, **df_table[metrics].sum(), **s_ind, **s_us, **s_eu}"
   ]
  },
  {
   "cell_type": "code",
   "execution_count": 18,
   "id": "engaging-syndrome",
   "metadata": {
    "execution": {
     "iopub.execute_input": "2022-08-02T12:23:42.170025Z",
     "iopub.status.busy": "2022-08-02T12:23:42.169277Z",
     "iopub.status.idle": "2022-08-02T12:23:42.193069Z",
     "shell.execute_reply": "2022-08-02T12:23:42.192335Z"
    },
    "papermill": {
     "duration": 0.071887,
     "end_time": "2022-08-02T12:23:42.193228",
     "exception": false,
     "start_time": "2022-08-02T12:23:42.121341",
     "status": "completed"
    },
    "tags": []
   },
   "outputs": [],
   "source": [
    "#hide\n",
    "dft_ct_new_cases = dft_cases.groupby(COL_REGION)[dt_cols].sum().diff(axis=1).fillna(0).astype(int)"
   ]
  },
  {
   "cell_type": "code",
   "execution_count": 19,
   "id": "neutral-assignment",
   "metadata": {
    "execution": {
     "iopub.execute_input": "2022-08-02T12:23:42.286868Z",
     "iopub.status.busy": "2022-08-02T12:23:42.285929Z",
     "iopub.status.idle": "2022-08-02T12:23:42.288925Z",
     "shell.execute_reply": "2022-08-02T12:23:42.289685Z"
    },
    "papermill": {
     "duration": 0.054767,
     "end_time": "2022-08-02T12:23:42.289847",
     "exception": false,
     "start_time": "2022-08-02T12:23:42.235080",
     "status": "completed"
    },
    "tags": []
   },
   "outputs": [],
   "source": [
    "#hide\n",
    "everydaycases = dft_ct_new_cases.cumsum(axis=1)"
   ]
  },
  {
   "cell_type": "code",
   "execution_count": 20,
   "id": "parliamentary-calgary",
   "metadata": {
    "execution": {
     "iopub.execute_input": "2022-08-02T12:23:42.377416Z",
     "iopub.status.busy": "2022-08-02T12:23:42.376611Z",
     "iopub.status.idle": "2022-08-02T12:23:43.048903Z",
     "shell.execute_reply": "2022-08-02T12:23:43.049447Z"
    },
    "papermill": {
     "duration": 0.718969,
     "end_time": "2022-08-02T12:23:43.049635",
     "exception": false,
     "start_time": "2022-08-02T12:23:42.330666",
     "status": "completed"
    },
    "tags": []
   },
   "outputs": [],
   "source": [
    "#hide\n",
    "import pandas as pd\n",
    "import matplotlib.pyplot as plt\n",
    "import matplotlib.ticker as ticker\n",
    "import matplotlib.animation as animation\n",
    "from IPython.display import HTML"
   ]
  },
  {
   "cell_type": "code",
   "execution_count": 21,
   "id": "lasting-extraction",
   "metadata": {
    "execution": {
     "iopub.execute_input": "2022-08-02T12:23:43.141715Z",
     "iopub.status.busy": "2022-08-02T12:23:43.140506Z",
     "iopub.status.idle": "2022-08-02T12:23:43.148266Z",
     "shell.execute_reply": "2022-08-02T12:23:43.148977Z"
    },
    "papermill": {
     "duration": 0.056397,
     "end_time": "2022-08-02T12:23:43.149117",
     "exception": false,
     "start_time": "2022-08-02T12:23:43.092720",
     "status": "completed"
    },
    "tags": []
   },
   "outputs": [],
   "source": [
    "#hide\n",
    "t = everydaycases.stack()"
   ]
  },
  {
   "cell_type": "code",
   "execution_count": 22,
   "id": "premier-sleeve",
   "metadata": {
    "execution": {
     "iopub.execute_input": "2022-08-02T12:23:43.237946Z",
     "iopub.status.busy": "2022-08-02T12:23:43.237174Z",
     "iopub.status.idle": "2022-08-02T12:23:43.250233Z",
     "shell.execute_reply": "2022-08-02T12:23:43.251173Z"
    },
    "papermill": {
     "duration": 0.061193,
     "end_time": "2022-08-02T12:23:43.251445",
     "exception": false,
     "start_time": "2022-08-02T12:23:43.190252",
     "status": "completed"
    },
    "tags": []
   },
   "outputs": [],
   "source": [
    "#hide\n",
    "g = t.reset_index(['Country/Region'])"
   ]
  },
  {
   "cell_type": "code",
   "execution_count": 23,
   "id": "distributed-pittsburgh",
   "metadata": {
    "execution": {
     "iopub.execute_input": "2022-08-02T12:23:43.338723Z",
     "iopub.status.busy": "2022-08-02T12:23:43.337812Z",
     "iopub.status.idle": "2022-08-02T12:23:43.341092Z",
     "shell.execute_reply": "2022-08-02T12:23:43.340547Z"
    },
    "papermill": {
     "duration": 0.048216,
     "end_time": "2022-08-02T12:23:43.341242",
     "exception": false,
     "start_time": "2022-08-02T12:23:43.293026",
     "status": "completed"
    },
    "tags": []
   },
   "outputs": [],
   "source": [
    "#hide\n",
    "g.index.name = 'date'"
   ]
  },
  {
   "cell_type": "code",
   "execution_count": 24,
   "id": "naked-donor",
   "metadata": {
    "execution": {
     "iopub.execute_input": "2022-08-02T12:23:43.430278Z",
     "iopub.status.busy": "2022-08-02T12:23:43.429536Z",
     "iopub.status.idle": "2022-08-02T12:23:43.432693Z",
     "shell.execute_reply": "2022-08-02T12:23:43.431888Z"
    },
    "papermill": {
     "duration": 0.050454,
     "end_time": "2022-08-02T12:23:43.432860",
     "exception": false,
     "start_time": "2022-08-02T12:23:43.382406",
     "status": "completed"
    },
    "tags": []
   },
   "outputs": [],
   "source": [
    "# #hide\n",
    "# g = g.reset_index(['date'])"
   ]
  },
  {
   "cell_type": "code",
   "execution_count": 25,
   "id": "incomplete-mustang",
   "metadata": {
    "execution": {
     "iopub.execute_input": "2022-08-02T12:23:43.522732Z",
     "iopub.status.busy": "2022-08-02T12:23:43.522033Z",
     "iopub.status.idle": "2022-08-02T12:23:43.525328Z",
     "shell.execute_reply": "2022-08-02T12:23:43.524527Z"
    },
    "papermill": {
     "duration": 0.050434,
     "end_time": "2022-08-02T12:23:43.525470",
     "exception": false,
     "start_time": "2022-08-02T12:23:43.475036",
     "status": "completed"
    },
    "tags": []
   },
   "outputs": [],
   "source": [
    "#hide\n",
    "# g.head()"
   ]
  },
  {
   "cell_type": "code",
   "execution_count": 26,
   "id": "specific-kruger",
   "metadata": {
    "execution": {
     "iopub.execute_input": "2022-08-02T12:23:43.616114Z",
     "iopub.status.busy": "2022-08-02T12:23:43.615244Z",
     "iopub.status.idle": "2022-08-02T12:23:43.619023Z",
     "shell.execute_reply": "2022-08-02T12:23:43.618135Z"
    },
    "papermill": {
     "duration": 0.051128,
     "end_time": "2022-08-02T12:23:43.619180",
     "exception": false,
     "start_time": "2022-08-02T12:23:43.568052",
     "status": "completed"
    },
    "tags": []
   },
   "outputs": [],
   "source": [
    "#hide\n",
    "# g.columns = ['date','country','cases']"
   ]
  },
  {
   "cell_type": "code",
   "execution_count": 27,
   "id": "tender-conversion",
   "metadata": {
    "execution": {
     "iopub.execute_input": "2022-08-02T12:23:43.708442Z",
     "iopub.status.busy": "2022-08-02T12:23:43.707708Z",
     "iopub.status.idle": "2022-08-02T12:23:43.710458Z",
     "shell.execute_reply": "2022-08-02T12:23:43.710971Z"
    },
    "papermill": {
     "duration": 0.048695,
     "end_time": "2022-08-02T12:23:43.711160",
     "exception": false,
     "start_time": "2022-08-02T12:23:43.662465",
     "status": "completed"
    },
    "tags": []
   },
   "outputs": [],
   "source": [
    "#hide\n",
    "# g['continent'] = g.country"
   ]
  },
  {
   "cell_type": "code",
   "execution_count": 28,
   "id": "substantial-wilderness",
   "metadata": {
    "execution": {
     "iopub.execute_input": "2022-08-02T12:23:43.802017Z",
     "iopub.status.busy": "2022-08-02T12:23:43.801275Z",
     "iopub.status.idle": "2022-08-02T12:23:43.806356Z",
     "shell.execute_reply": "2022-08-02T12:23:43.806961Z"
    },
    "papermill": {
     "duration": 0.052178,
     "end_time": "2022-08-02T12:23:43.807220",
     "exception": false,
     "start_time": "2022-08-02T12:23:43.755042",
     "status": "completed"
    },
    "tags": []
   },
   "outputs": [],
   "source": [
    "#hide\n",
    "# cols = list(g.columns.values)"
   ]
  },
  {
   "cell_type": "code",
   "execution_count": 29,
   "id": "solved-farming",
   "metadata": {
    "execution": {
     "iopub.execute_input": "2022-08-02T12:23:43.892719Z",
     "iopub.status.busy": "2022-08-02T12:23:43.892038Z",
     "iopub.status.idle": "2022-08-02T12:23:43.894793Z",
     "shell.execute_reply": "2022-08-02T12:23:43.895283Z"
    },
    "papermill": {
     "duration": 0.047256,
     "end_time": "2022-08-02T12:23:43.895451",
     "exception": false,
     "start_time": "2022-08-02T12:23:43.848195",
     "status": "completed"
    },
    "tags": []
   },
   "outputs": [],
   "source": [
    "#hide\n",
    "# cols.insert(0, cols.pop())"
   ]
  },
  {
   "cell_type": "code",
   "execution_count": 30,
   "id": "executed-adoption",
   "metadata": {
    "execution": {
     "iopub.execute_input": "2022-08-02T12:23:43.985620Z",
     "iopub.status.busy": "2022-08-02T12:23:43.984798Z",
     "iopub.status.idle": "2022-08-02T12:23:43.988397Z",
     "shell.execute_reply": "2022-08-02T12:23:43.987709Z"
    },
    "papermill": {
     "duration": 0.050446,
     "end_time": "2022-08-02T12:23:43.988689",
     "exception": false,
     "start_time": "2022-08-02T12:23:43.938243",
     "status": "completed"
    },
    "tags": []
   },
   "outputs": [],
   "source": [
    "#hide\n",
    "# g = g[cols]"
   ]
  },
  {
   "cell_type": "code",
   "execution_count": 31,
   "id": "subject-dublin",
   "metadata": {
    "execution": {
     "iopub.execute_input": "2022-08-02T12:23:44.078283Z",
     "iopub.status.busy": "2022-08-02T12:23:44.077153Z",
     "iopub.status.idle": "2022-08-02T12:23:44.079411Z",
     "shell.execute_reply": "2022-08-02T12:23:44.079978Z"
    },
    "papermill": {
     "duration": 0.050196,
     "end_time": "2022-08-02T12:23:44.080129",
     "exception": false,
     "start_time": "2022-08-02T12:23:44.029933",
     "status": "completed"
    },
    "tags": []
   },
   "outputs": [],
   "source": [
    "#hide\n",
    "# g['continent'] = g['continent'].map(mapping['map.continent'])"
   ]
  },
  {
   "cell_type": "code",
   "execution_count": 32,
   "id": "freelance-scout",
   "metadata": {
    "execution": {
     "iopub.execute_input": "2022-08-02T12:23:44.172172Z",
     "iopub.status.busy": "2022-08-02T12:23:44.171228Z",
     "iopub.status.idle": "2022-08-02T12:23:44.174830Z",
     "shell.execute_reply": "2022-08-02T12:23:44.174201Z"
    },
    "papermill": {
     "duration": 0.053959,
     "end_time": "2022-08-02T12:23:44.174967",
     "exception": false,
     "start_time": "2022-08-02T12:23:44.121008",
     "status": "completed"
    },
    "tags": []
   },
   "outputs": [],
   "source": [
    "#hide\n",
    "# g.head()"
   ]
  },
  {
   "cell_type": "code",
   "execution_count": 33,
   "id": "limited-engine",
   "metadata": {
    "execution": {
     "iopub.execute_input": "2022-08-02T12:23:44.262999Z",
     "iopub.status.busy": "2022-08-02T12:23:44.262261Z",
     "iopub.status.idle": "2022-08-02T12:23:44.265713Z",
     "shell.execute_reply": "2022-08-02T12:23:44.265102Z"
    },
    "papermill": {
     "duration": 0.050484,
     "end_time": "2022-08-02T12:23:44.265857",
     "exception": false,
     "start_time": "2022-08-02T12:23:44.215373",
     "status": "completed"
    },
    "tags": []
   },
   "outputs": [],
   "source": [
    "# hide\n",
    "# g['date'] = g['date'].astype('datetime64[ns]')"
   ]
  },
  {
   "cell_type": "code",
   "execution_count": 34,
   "id": "sophisticated-supervisor",
   "metadata": {
    "execution": {
     "iopub.execute_input": "2022-08-02T12:23:44.355100Z",
     "iopub.status.busy": "2022-08-02T12:23:44.354228Z",
     "iopub.status.idle": "2022-08-02T12:23:44.357824Z",
     "shell.execute_reply": "2022-08-02T12:23:44.357125Z"
    },
    "papermill": {
     "duration": 0.051289,
     "end_time": "2022-08-02T12:23:44.357955",
     "exception": false,
     "start_time": "2022-08-02T12:23:44.306666",
     "status": "completed"
    },
    "tags": []
   },
   "outputs": [],
   "source": [
    "#hide\n",
    "# g['date'] = g.date.dt.dayofyear"
   ]
  },
  {
   "cell_type": "code",
   "execution_count": 35,
   "id": "inside-dubai",
   "metadata": {
    "execution": {
     "iopub.execute_input": "2022-08-02T12:23:44.451165Z",
     "iopub.status.busy": "2022-08-02T12:23:44.450401Z",
     "iopub.status.idle": "2022-08-02T12:23:44.453522Z",
     "shell.execute_reply": "2022-08-02T12:23:44.452934Z"
    },
    "papermill": {
     "duration": 0.052223,
     "end_time": "2022-08-02T12:23:44.453646",
     "exception": false,
     "start_time": "2022-08-02T12:23:44.401423",
     "status": "completed"
    },
    "tags": []
   },
   "outputs": [],
   "source": [
    "#hide\n",
    "# g = g.rename(columns= {'continent':'group','country':'name','cases':'value'})"
   ]
  },
  {
   "cell_type": "code",
   "execution_count": 36,
   "id": "fleet-motorcycle",
   "metadata": {
    "execution": {
     "iopub.execute_input": "2022-08-02T12:23:44.541180Z",
     "iopub.status.busy": "2022-08-02T12:23:44.540419Z",
     "iopub.status.idle": "2022-08-02T12:23:44.544142Z",
     "shell.execute_reply": "2022-08-02T12:23:44.543287Z"
    },
    "papermill": {
     "duration": 0.051057,
     "end_time": "2022-08-02T12:23:44.544291",
     "exception": false,
     "start_time": "2022-08-02T12:23:44.493234",
     "status": "completed"
    },
    "tags": []
   },
   "outputs": [],
   "source": [
    "#hide\n",
    "# cols = ['name','group','day','value']"
   ]
  },
  {
   "cell_type": "code",
   "execution_count": 37,
   "id": "continued-sleeping",
   "metadata": {
    "execution": {
     "iopub.execute_input": "2022-08-02T12:23:44.635809Z",
     "iopub.status.busy": "2022-08-02T12:23:44.634933Z",
     "iopub.status.idle": "2022-08-02T12:23:44.638951Z",
     "shell.execute_reply": "2022-08-02T12:23:44.638243Z"
    },
    "papermill": {
     "duration": 0.050183,
     "end_time": "2022-08-02T12:23:44.639084",
     "exception": false,
     "start_time": "2022-08-02T12:23:44.588901",
     "status": "completed"
    },
    "tags": []
   },
   "outputs": [],
   "source": [
    "#hide\n",
    "# g.rename(columns= {'date':'day'},inplace = True)"
   ]
  },
  {
   "cell_type": "code",
   "execution_count": 38,
   "id": "major-fight",
   "metadata": {
    "execution": {
     "iopub.execute_input": "2022-08-02T12:23:44.728169Z",
     "iopub.status.busy": "2022-08-02T12:23:44.727300Z",
     "iopub.status.idle": "2022-08-02T12:23:44.729867Z",
     "shell.execute_reply": "2022-08-02T12:23:44.730393Z"
    },
    "papermill": {
     "duration": 0.049333,
     "end_time": "2022-08-02T12:23:44.730543",
     "exception": false,
     "start_time": "2022-08-02T12:23:44.681210",
     "status": "completed"
    },
    "tags": []
   },
   "outputs": [],
   "source": [
    "#hide\n",
    "# g = g[cols]"
   ]
  },
  {
   "cell_type": "code",
   "execution_count": 39,
   "id": "structured-mobile",
   "metadata": {
    "execution": {
     "iopub.execute_input": "2022-08-02T12:23:44.819547Z",
     "iopub.status.busy": "2022-08-02T12:23:44.818725Z",
     "iopub.status.idle": "2022-08-02T12:23:44.821640Z",
     "shell.execute_reply": "2022-08-02T12:23:44.821053Z"
    },
    "papermill": {
     "duration": 0.049379,
     "end_time": "2022-08-02T12:23:44.821775",
     "exception": false,
     "start_time": "2022-08-02T12:23:44.772396",
     "status": "completed"
    },
    "tags": []
   },
   "outputs": [],
   "source": [
    "# #hide\n",
    "# g = g[g.group.notna()]"
   ]
  },
  {
   "cell_type": "code",
   "execution_count": 40,
   "id": "determined-closing",
   "metadata": {
    "execution": {
     "iopub.execute_input": "2022-08-02T12:23:44.907511Z",
     "iopub.status.busy": "2022-08-02T12:23:44.906775Z",
     "iopub.status.idle": "2022-08-02T12:23:44.910010Z",
     "shell.execute_reply": "2022-08-02T12:23:44.909274Z"
    },
    "papermill": {
     "duration": 0.047635,
     "end_time": "2022-08-02T12:23:44.910153",
     "exception": false,
     "start_time": "2022-08-02T12:23:44.862518",
     "status": "completed"
    },
    "tags": []
   },
   "outputs": [],
   "source": [
    "# #hide\n",
    "# colors = dict(zip(\n",
    "#     [\"Oceania\", \"Europe\", \"Asia\", \"South America\", \"Middle East\", \"North America\", \"Africa\"],\n",
    "#     [\"#adb0ff\", \"#ffb3ff\", \"#90d595\", \"#e48381\", \"#aafbff\", \"#f7bb5f\", \"#eafb50\"]\n",
    "# ))\n",
    "# group_lk = g.set_index('name')['group'].to_dict()"
   ]
  },
  {
   "cell_type": "code",
   "execution_count": null,
   "id": "gross-drinking",
   "metadata": {
    "papermill": {
     "duration": 0.0423,
     "end_time": "2022-08-02T12:23:44.995922",
     "exception": false,
     "start_time": "2022-08-02T12:23:44.953622",
     "status": "completed"
    },
    "tags": []
   },
   "outputs": [],
   "source": []
  },
  {
   "cell_type": "code",
   "execution_count": 41,
   "id": "subject-macintosh",
   "metadata": {
    "execution": {
     "iopub.execute_input": "2022-08-02T12:23:45.088147Z",
     "iopub.status.busy": "2022-08-02T12:23:45.087343Z",
     "iopub.status.idle": "2022-08-02T12:23:45.091027Z",
     "shell.execute_reply": "2022-08-02T12:23:45.090255Z"
    },
    "papermill": {
     "duration": 0.052908,
     "end_time": "2022-08-02T12:23:45.091246",
     "exception": false,
     "start_time": "2022-08-02T12:23:45.038338",
     "status": "completed"
    },
    "tags": []
   },
   "outputs": [],
   "source": [
    "# #hide\n",
    "# fig, ax = plt.subplots(figsize=(15, 8))\n",
    "\n",
    "# def draw_barchart(current_day):\n",
    "#     dff = g[g['day'].eq(current_day)].sort_values(by='value', ascending=True).tail(10)\n",
    "#     ax.clear()\n",
    "#     ax.barh(dff['name'], dff['value'], color=[colors[group_lk[x]] for x in dff['name']])\n",
    "#     dx = dff['value'].max() / 200\n",
    "    \n",
    "#     for i, (value, name) in enumerate(zip(dff['value'], dff['name'])):\n",
    "#         ax.text(value-dx, i,     name,           size=14, weight=600, ha='right', va='bottom')\n",
    "#         ax.text(value-dx, i-.25, group_lk[name], size=10, color='#444444', ha='right', va='baseline')\n",
    "#         ax.text(value+dx, i,     f'{value:,.0f}',  size=14, ha='left',  va='center')\n",
    "#     ax.text(1, 0.4, current_day, transform=ax.transAxes, color='#777777', size=46, ha='right', weight=800)\n",
    "#     ax.text(0, 1.06, 'Population (thousands)', transform=ax.transAxes, size=12, color='#777777')\n",
    "#     ax.xaxis.set_major_formatter(ticker.StrMethodFormatter('{x:,.0f}'))\n",
    "#     ax.xaxis.set_ticks_position('top')\n",
    "#     ax.tick_params(axis='x', colors='#777777', labelsize=12)\n",
    "#     ax.set_yticks([])\n",
    "#     ax.margins(0, 0.01)\n",
    "#     ax.grid(which='major', axis='x', linestyle='-')\n",
    "#     ax.set_axisbelow(True)\n",
    "    \n",
    "#     ax.text(0, 1.15, 'Coronavirus',\n",
    "#             transform=ax.transAxes, size=24, weight=600, ha='left', va='top')\n",
    "# #     ax.text(1, 0, 'by @pratapvardhan; credit @jburnmurdoch', transform=ax.transAxes, color='#777777', ha='right',\n",
    "# #             bbox=dict(facecolor='white', alpha=0.8, edgecolor='white'))\n",
    "#     plt.box(False)"
   ]
  },
  {
   "cell_type": "code",
   "execution_count": 42,
   "id": "sexual-wages",
   "metadata": {
    "execution": {
     "iopub.execute_input": "2022-08-02T12:23:45.185556Z",
     "iopub.status.busy": "2022-08-02T12:23:45.184609Z",
     "iopub.status.idle": "2022-08-02T12:23:45.188893Z",
     "shell.execute_reply": "2022-08-02T12:23:45.188292Z"
    },
    "papermill": {
     "duration": 0.052692,
     "end_time": "2022-08-02T12:23:45.189030",
     "exception": false,
     "start_time": "2022-08-02T12:23:45.136338",
     "status": "completed"
    },
    "tags": []
   },
   "outputs": [],
   "source": [
    "# #hide_input\n",
    "# fig, ax = plt.subplots(figsize=(15, 8))\n",
    "# animator = animation.FuncAnimation(fig, draw_barchart, frames=range(g.day.values.min(), g.day.values.max()))\n",
    "# HTML(animator.to_jshtml())\n",
    "# # or use animator.to_html5_video() or animator.save() "
   ]
  },
  {
   "cell_type": "code",
   "execution_count": null,
   "id": "australian-container",
   "metadata": {
    "papermill": {
     "duration": 0.04119,
     "end_time": "2022-08-02T12:23:45.271717",
     "exception": false,
     "start_time": "2022-08-02T12:23:45.230527",
     "status": "completed"
    },
    "tags": []
   },
   "outputs": [],
   "source": []
  },
  {
   "cell_type": "code",
   "execution_count": null,
   "id": "mediterranean-pontiac",
   "metadata": {
    "papermill": {
     "duration": 0.040098,
     "end_time": "2022-08-02T12:23:45.352501",
     "exception": false,
     "start_time": "2022-08-02T12:23:45.312403",
     "status": "completed"
    },
    "tags": []
   },
   "outputs": [],
   "source": []
  },
  {
   "cell_type": "code",
   "execution_count": null,
   "id": "aging-legislature",
   "metadata": {
    "papermill": {
     "duration": 0.040028,
     "end_time": "2022-08-02T12:23:45.436596",
     "exception": false,
     "start_time": "2022-08-02T12:23:45.396568",
     "status": "completed"
    },
    "tags": []
   },
   "outputs": [],
   "source": []
  }
 ],
 "metadata": {
  "kernelspec": {
   "display_name": "Python 3",
   "language": "python",
   "name": "python3"
  },
  "language_info": {
   "codemirror_mode": {
    "name": "ipython",
    "version": 3
   },
   "file_extension": ".py",
   "mimetype": "text/x-python",
   "name": "python",
   "nbconvert_exporter": "python",
   "pygments_lexer": "ipython3",
   "version": "3.6.15"
  },
  "papermill": {
   "duration": 7.833187,
   "end_time": "2022-08-02T12:23:45.898118",
   "environment_variables": {},
   "exception": null,
   "input_path": "2020-03-21-covid19exp.ipynb",
   "output_path": "2020-03-21-covid19exp.ipynb",
   "parameters": {},
   "start_time": "2022-08-02T12:23:38.064931",
   "version": "2.0.0"
  }
 },
 "nbformat": 4,
 "nbformat_minor": 5
}