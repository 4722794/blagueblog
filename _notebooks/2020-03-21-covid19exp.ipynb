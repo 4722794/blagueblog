{
 "cells": [
  {
   "cell_type": "markdown",
   "id": "muslim-click",
   "metadata": {
    "papermill": {
     "duration": 0.042898,
     "end_time": "2021-06-11T12:10:10.360589",
     "exception": false,
     "start_time": "2021-06-11T12:10:10.317691",
     "status": "completed"
    },
    "tags": []
   },
   "source": [
    "# COVID-19 Case Race\n",
    "> A race chart to see rising cases around the world\n",
    "\n",
    "- author: Hargun Oberoi\n",
    "- image: images/covid-overview.png\n",
    "- hide: false\n",
    "- badges: false"
   ]
  },
  {
   "cell_type": "code",
   "execution_count": 1,
   "id": "proof-material",
   "metadata": {
    "execution": {
     "iopub.execute_input": "2021-06-11T12:10:10.453333Z",
     "iopub.status.busy": "2021-06-11T12:10:10.452658Z",
     "iopub.status.idle": "2021-06-11T12:10:10.836241Z",
     "shell.execute_reply": "2021-06-11T12:10:10.835635Z"
    },
    "papermill": {
     "duration": 0.432877,
     "end_time": "2021-06-11T12:10:10.836402",
     "exception": false,
     "start_time": "2021-06-11T12:10:10.403525",
     "status": "completed"
    },
    "tags": []
   },
   "outputs": [],
   "source": [
    "#hide\n",
    "import numpy as np\n",
    "import pandas as pd\n",
    "from jinja2 import Template\n",
    "from IPython.display import HTML"
   ]
  },
  {
   "cell_type": "code",
   "execution_count": 2,
   "id": "developed-terminology",
   "metadata": {
    "execution": {
     "iopub.execute_input": "2021-06-11T12:10:10.918614Z",
     "iopub.status.busy": "2021-06-11T12:10:10.917834Z",
     "iopub.status.idle": "2021-06-11T12:10:10.920430Z",
     "shell.execute_reply": "2021-06-11T12:10:10.919835Z"
    },
    "papermill": {
     "duration": 0.045497,
     "end_time": "2021-06-11T12:10:10.920553",
     "exception": false,
     "start_time": "2021-06-11T12:10:10.875056",
     "status": "completed"
    },
    "tags": []
   },
   "outputs": [],
   "source": [
    "#hide\n",
    "\n",
    "# FETCH\n",
    "base_url = 'https://raw.githubusercontent.com/pratapvardhan/notebooks/master/covid19/'\n",
    "paths = {\n",
    "    'mapping': base_url + 'mapping_countries.csv',\n",
    "    'overview': base_url + 'overview.tpl'\n",
    "}"
   ]
  },
  {
   "cell_type": "code",
   "execution_count": 3,
   "id": "dynamic-saver",
   "metadata": {
    "execution": {
     "iopub.execute_input": "2021-06-11T12:10:11.008800Z",
     "iopub.status.busy": "2021-06-11T12:10:11.008086Z",
     "iopub.status.idle": "2021-06-11T12:10:11.010576Z",
     "shell.execute_reply": "2021-06-11T12:10:11.011190Z"
    },
    "papermill": {
     "duration": 0.051918,
     "end_time": "2021-06-11T12:10:11.011399",
     "exception": false,
     "start_time": "2021-06-11T12:10:10.959481",
     "status": "completed"
    },
    "tags": []
   },
   "outputs": [
    {
     "data": {
      "text/plain": [
       "'https://raw.githubusercontent.com/pratapvardhan/notebooks/master/covid19/mapping_countries.csv'"
      ]
     },
     "execution_count": 3,
     "metadata": {},
     "output_type": "execute_result"
    }
   ],
   "source": [
    "#hide\n",
    "paths['mapping']"
   ]
  },
  {
   "cell_type": "code",
   "execution_count": 4,
   "id": "urban-software",
   "metadata": {
    "execution": {
     "iopub.execute_input": "2021-06-11T12:10:11.101254Z",
     "iopub.status.busy": "2021-06-11T12:10:11.100610Z",
     "iopub.status.idle": "2021-06-11T12:10:11.102399Z",
     "shell.execute_reply": "2021-06-11T12:10:11.103012Z"
    },
    "papermill": {
     "duration": 0.053334,
     "end_time": "2021-06-11T12:10:11.103156",
     "exception": false,
     "start_time": "2021-06-11T12:10:11.049822",
     "status": "completed"
    },
    "tags": []
   },
   "outputs": [],
   "source": [
    "#hide\n",
    "def get_mappings(url):\n",
    "    df = pd.read_csv(url)\n",
    "    return {\n",
    "        'df': df,\n",
    "        'replace.country': dict(df.dropna(subset=['Name']).set_index('Country')['Name']),\n",
    "        'map.continent': dict(df.set_index('Name')['Continent'])\n",
    "    }"
   ]
  },
  {
   "cell_type": "code",
   "execution_count": 5,
   "id": "intimate-machinery",
   "metadata": {
    "execution": {
     "iopub.execute_input": "2021-06-11T12:10:11.186200Z",
     "iopub.status.busy": "2021-06-11T12:10:11.185578Z",
     "iopub.status.idle": "2021-06-11T12:10:11.239815Z",
     "shell.execute_reply": "2021-06-11T12:10:11.239280Z"
    },
    "papermill": {
     "duration": 0.098166,
     "end_time": "2021-06-11T12:10:11.239983",
     "exception": false,
     "start_time": "2021-06-11T12:10:11.141817",
     "status": "completed"
    },
    "tags": []
   },
   "outputs": [],
   "source": [
    "#hide\n",
    "mapping = get_mappings(paths['mapping'])"
   ]
  },
  {
   "cell_type": "code",
   "execution_count": 6,
   "id": "certified-tactics",
   "metadata": {
    "execution": {
     "iopub.execute_input": "2021-06-11T12:10:11.326884Z",
     "iopub.status.busy": "2021-06-11T12:10:11.325535Z",
     "iopub.status.idle": "2021-06-11T12:10:11.328312Z",
     "shell.execute_reply": "2021-06-11T12:10:11.328771Z"
    },
    "papermill": {
     "duration": 0.05156,
     "end_time": "2021-06-11T12:10:11.328895",
     "exception": false,
     "start_time": "2021-06-11T12:10:11.277335",
     "status": "completed"
    },
    "tags": []
   },
   "outputs": [],
   "source": [
    "#hide\n",
    "def get_template(path):\n",
    "    from urllib.parse import urlparse\n",
    "    if bool(urlparse(path).netloc):\n",
    "        from urllib.request import urlopen\n",
    "        return urlopen(path).read().decode('utf8')\n",
    "    return open(path).read()"
   ]
  },
  {
   "cell_type": "code",
   "execution_count": 7,
   "id": "realistic-blast",
   "metadata": {
    "execution": {
     "iopub.execute_input": "2021-06-11T12:10:11.411380Z",
     "iopub.status.busy": "2021-06-11T12:10:11.410706Z",
     "iopub.status.idle": "2021-06-11T12:10:11.412106Z",
     "shell.execute_reply": "2021-06-11T12:10:11.412572Z"
    },
    "papermill": {
     "duration": 0.047676,
     "end_time": "2021-06-11T12:10:11.412699",
     "exception": false,
     "start_time": "2021-06-11T12:10:11.365023",
     "status": "completed"
    },
    "tags": []
   },
   "outputs": [],
   "source": [
    "#hide\n",
    "def get_frame(name):\n",
    "    url = (\n",
    "        'https://raw.githubusercontent.com/CSSEGISandData/COVID-19/master/csse_covid_19_data/'\n",
    "        f'csse_covid_19_time_series/time_series_covid19_{name}_global.csv')\n",
    "    df = pd.read_csv(url)\n",
    "    # rename countries\n",
    "    df['Country/Region'] = df['Country/Region'].replace(mapping['replace.country'])\n",
    "    return df"
   ]
  },
  {
   "cell_type": "code",
   "execution_count": 8,
   "id": "affiliated-characterization",
   "metadata": {
    "execution": {
     "iopub.execute_input": "2021-06-11T12:10:11.494301Z",
     "iopub.status.busy": "2021-06-11T12:10:11.493654Z",
     "iopub.status.idle": "2021-06-11T12:10:11.496206Z",
     "shell.execute_reply": "2021-06-11T12:10:11.495626Z"
    },
    "papermill": {
     "duration": 0.045933,
     "end_time": "2021-06-11T12:10:11.496324",
     "exception": false,
     "start_time": "2021-06-11T12:10:11.450391",
     "status": "completed"
    },
    "tags": []
   },
   "outputs": [],
   "source": [
    "#hide\n",
    "def get_dates(df):\n",
    "    dt_cols = df.columns[~df.columns.isin(['Province/State', 'Country/Region', 'Lat', 'Long'])]\n",
    "    LAST_DATE_I = -1\n",
    "    # sometimes last column may be empty, then go backwards\n",
    "    for i in range(-1, -len(dt_cols), -1):\n",
    "        if not df[dt_cols[i]].fillna(0).eq(0).all():\n",
    "            LAST_DATE_I = i\n",
    "            break\n",
    "    return LAST_DATE_I, dt_cols"
   ]
  },
  {
   "cell_type": "code",
   "execution_count": 9,
   "id": "recent-optimization",
   "metadata": {
    "execution": {
     "iopub.execute_input": "2021-06-11T12:10:11.578327Z",
     "iopub.status.busy": "2021-06-11T12:10:11.577696Z",
     "iopub.status.idle": "2021-06-11T12:10:12.122835Z",
     "shell.execute_reply": "2021-06-11T12:10:12.122268Z"
    },
    "papermill": {
     "duration": 0.586511,
     "end_time": "2021-06-11T12:10:12.122978",
     "exception": false,
     "start_time": "2021-06-11T12:10:11.536467",
     "status": "completed"
    },
    "tags": []
   },
   "outputs": [],
   "source": [
    "#hide\n",
    "COL_REGION = 'Country/Region'\n",
    "# Confirmed, Recovered, Deaths\n",
    "df = get_frame('confirmed')\n",
    "# dft_: timeseries, dfc_: today country agg\n",
    "dft_cases = df\n",
    "dft_deaths = get_frame('deaths')\n",
    "dft_recovered = get_frame('recovered')\n",
    "LAST_DATE_I, dt_cols = get_dates(df)"
   ]
  },
  {
   "cell_type": "code",
   "execution_count": 10,
   "id": "absolute-copper",
   "metadata": {
    "execution": {
     "iopub.execute_input": "2021-06-11T12:10:12.222589Z",
     "iopub.status.busy": "2021-06-11T12:10:12.221520Z",
     "iopub.status.idle": "2021-06-11T12:10:12.224462Z",
     "shell.execute_reply": "2021-06-11T12:10:12.223791Z"
    },
    "papermill": {
     "duration": 0.046236,
     "end_time": "2021-06-11T12:10:12.224679",
     "exception": false,
     "start_time": "2021-06-11T12:10:12.178443",
     "status": "completed"
    },
    "tags": []
   },
   "outputs": [],
   "source": [
    "#hide\n",
    "LAST_DATE_I, dt_cols = get_dates(df)\n",
    "dt_today =dt_cols[LAST_DATE_I]\n",
    "# dt_5day = dt_cols[LAST_DATE_I - 5]\n",
    "dt_yday = dt_cols[LAST_DATE_I - 1]"
   ]
  },
  {
   "cell_type": "code",
   "execution_count": 11,
   "id": "restricted-sheriff",
   "metadata": {
    "execution": {
     "iopub.execute_input": "2021-06-11T12:10:12.312922Z",
     "iopub.status.busy": "2021-06-11T12:10:12.310893Z",
     "iopub.status.idle": "2021-06-11T12:10:12.317997Z",
     "shell.execute_reply": "2021-06-11T12:10:12.317442Z"
    },
    "papermill": {
     "duration": 0.053445,
     "end_time": "2021-06-11T12:10:12.318121",
     "exception": false,
     "start_time": "2021-06-11T12:10:12.264676",
     "status": "completed"
    },
    "tags": []
   },
   "outputs": [],
   "source": [
    "#hide\n",
    "dfc_cases = dft_cases.groupby(COL_REGION)[dt_today].sum()\n",
    "dfc_deaths = dft_deaths.groupby(COL_REGION)[dt_today].sum()\n",
    "# dfp_cases = dft_cases.groupby(COL_REGION)[dt_5day].sum()\n",
    "# dfp_deaths = dft_deaths.groupby(COL_REGION)[dt_5day].sum()\n",
    "dfp_cases = dft_cases.groupby(COL_REGION)[dt_yday].sum()\n",
    "dfp_deaths = dft_deaths.groupby(COL_REGION)[dt_yday].sum()"
   ]
  },
  {
   "cell_type": "code",
   "execution_count": 12,
   "id": "deluxe-hepatitis",
   "metadata": {
    "execution": {
     "iopub.execute_input": "2021-06-11T12:10:12.406826Z",
     "iopub.status.busy": "2021-06-11T12:10:12.405685Z",
     "iopub.status.idle": "2021-06-11T12:10:12.411986Z",
     "shell.execute_reply": "2021-06-11T12:10:12.412680Z"
    },
    "papermill": {
     "duration": 0.053889,
     "end_time": "2021-06-11T12:10:12.412931",
     "exception": false,
     "start_time": "2021-06-11T12:10:12.359042",
     "status": "completed"
    },
    "tags": []
   },
   "outputs": [],
   "source": [
    "#hide\n",
    "df_table = (pd.DataFrame(dict(Cases = dfc_cases, Deaths = dfc_deaths, PCases = dfp_cases, PDeaths = dfp_deaths))\n",
    "            .sort_values(by = ['Cases','Deaths'], ascending = [False, False])\n",
    "            .reset_index())"
   ]
  },
  {
   "cell_type": "code",
   "execution_count": 13,
   "id": "educational-chancellor",
   "metadata": {
    "execution": {
     "iopub.execute_input": "2021-06-11T12:10:12.518026Z",
     "iopub.status.busy": "2021-06-11T12:10:12.517276Z",
     "iopub.status.idle": "2021-06-11T12:10:12.525743Z",
     "shell.execute_reply": "2021-06-11T12:10:12.526416Z"
    },
    "papermill": {
     "duration": 0.070563,
     "end_time": "2021-06-11T12:10:12.526569",
     "exception": false,
     "start_time": "2021-06-11T12:10:12.456006",
     "status": "completed"
    },
    "tags": []
   },
   "outputs": [
    {
     "data": {
      "text/html": [
       "<div>\n",
       "<style scoped>\n",
       "    .dataframe tbody tr th:only-of-type {\n",
       "        vertical-align: middle;\n",
       "    }\n",
       "\n",
       "    .dataframe tbody tr th {\n",
       "        vertical-align: top;\n",
       "    }\n",
       "\n",
       "    .dataframe thead th {\n",
       "        text-align: right;\n",
       "    }\n",
       "</style>\n",
       "<table border=\"1\" class=\"dataframe\">\n",
       "  <thead>\n",
       "    <tr style=\"text-align: right;\">\n",
       "      <th></th>\n",
       "      <th>Country/Region</th>\n",
       "      <th>Cases</th>\n",
       "      <th>Deaths</th>\n",
       "      <th>PCases</th>\n",
       "      <th>PDeaths</th>\n",
       "      <th>Cases (+)</th>\n",
       "      <th>Deaths (+)</th>\n",
       "      <th>Fatality Rate</th>\n",
       "      <th>Continent</th>\n",
       "    </tr>\n",
       "  </thead>\n",
       "  <tbody>\n",
       "    <tr>\n",
       "      <th>0</th>\n",
       "      <td>US</td>\n",
       "      <td>33426310</td>\n",
       "      <td>598744</td>\n",
       "      <td>33411893</td>\n",
       "      <td>598764</td>\n",
       "      <td>14417</td>\n",
       "      <td>0</td>\n",
       "      <td>1.79</td>\n",
       "      <td>North America</td>\n",
       "    </tr>\n",
       "    <tr>\n",
       "      <th>1</th>\n",
       "      <td>India</td>\n",
       "      <td>29274823</td>\n",
       "      <td>363079</td>\n",
       "      <td>29182532</td>\n",
       "      <td>355705</td>\n",
       "      <td>92291</td>\n",
       "      <td>7374</td>\n",
       "      <td>1.24</td>\n",
       "      <td>Asia</td>\n",
       "    </tr>\n",
       "    <tr>\n",
       "      <th>2</th>\n",
       "      <td>Brazil</td>\n",
       "      <td>17210969</td>\n",
       "      <td>482019</td>\n",
       "      <td>17122877</td>\n",
       "      <td>479515</td>\n",
       "      <td>88092</td>\n",
       "      <td>2504</td>\n",
       "      <td>2.80</td>\n",
       "      <td>South America</td>\n",
       "    </tr>\n",
       "    <tr>\n",
       "      <th>3</th>\n",
       "      <td>France</td>\n",
       "      <td>5791608</td>\n",
       "      <td>110432</td>\n",
       "      <td>5787125</td>\n",
       "      <td>110364</td>\n",
       "      <td>4483</td>\n",
       "      <td>68</td>\n",
       "      <td>1.91</td>\n",
       "      <td>Europe</td>\n",
       "    </tr>\n",
       "    <tr>\n",
       "      <th>4</th>\n",
       "      <td>Turkey</td>\n",
       "      <td>5313098</td>\n",
       "      <td>48524</td>\n",
       "      <td>5306690</td>\n",
       "      <td>48428</td>\n",
       "      <td>6408</td>\n",
       "      <td>96</td>\n",
       "      <td>0.91</td>\n",
       "      <td>Asia</td>\n",
       "    </tr>\n",
       "  </tbody>\n",
       "</table>\n",
       "</div>"
      ],
      "text/plain": [
       "  Country/Region     Cases  Deaths    PCases  PDeaths  Cases (+)  Deaths (+)  \\\n",
       "0             US  33426310  598744  33411893   598764      14417           0   \n",
       "1          India  29274823  363079  29182532   355705      92291        7374   \n",
       "2         Brazil  17210969  482019  17122877   479515      88092        2504   \n",
       "3         France   5791608  110432   5787125   110364       4483          68   \n",
       "4         Turkey   5313098   48524   5306690    48428       6408          96   \n",
       "\n",
       "   Fatality Rate      Continent  \n",
       "0           1.79  North America  \n",
       "1           1.24           Asia  \n",
       "2           2.80  South America  \n",
       "3           1.91         Europe  \n",
       "4           0.91           Asia  "
      ]
     },
     "execution_count": 13,
     "metadata": {},
     "output_type": "execute_result"
    }
   ],
   "source": [
    "#hide\n",
    "for c in 'Cases, Deaths'.split(', '):\n",
    "    df_table[f'{c} (+)'] = (df_table[c] - df_table[f'P{c}']).clip(0)\n",
    "    #Clip ça veut dire, les chiffres negatif sont interdit\n",
    "df_table['Fatality Rate'] = (100* df_table['Deaths']/ df_table['Cases']).round(2)\n",
    "df_table['Continent'] = df_table['Country/Region'].map(mapping['map.continent'])\n",
    "df_table.head(5)"
   ]
  },
  {
   "cell_type": "code",
   "execution_count": 14,
   "id": "aboriginal-bulgaria",
   "metadata": {
    "execution": {
     "iopub.execute_input": "2021-06-11T12:10:12.621053Z",
     "iopub.status.busy": "2021-06-11T12:10:12.620406Z",
     "iopub.status.idle": "2021-06-11T12:10:12.622723Z",
     "shell.execute_reply": "2021-06-11T12:10:12.622159Z"
    },
    "papermill": {
     "duration": 0.051161,
     "end_time": "2021-06-11T12:10:12.622850",
     "exception": false,
     "start_time": "2021-06-11T12:10:12.571689",
     "status": "completed"
    },
    "tags": []
   },
   "outputs": [],
   "source": [
    "#hide\n",
    "#delete problematic countries from table\n",
    "df_table = df_table[~df_table['Country/Region'].isin(['Cape Verde', 'Cruise Ship', 'Kosovo'])]"
   ]
  },
  {
   "cell_type": "code",
   "execution_count": 15,
   "id": "fantastic-effect",
   "metadata": {
    "execution": {
     "iopub.execute_input": "2021-06-11T12:10:12.713625Z",
     "iopub.status.busy": "2021-06-11T12:10:12.712983Z",
     "iopub.status.idle": "2021-06-11T12:10:12.736138Z",
     "shell.execute_reply": "2021-06-11T12:10:12.735533Z"
    },
    "papermill": {
     "duration": 0.07215,
     "end_time": "2021-06-11T12:10:12.736271",
     "exception": false,
     "start_time": "2021-06-11T12:10:12.664121",
     "status": "completed"
    },
    "tags": []
   },
   "outputs": [
    {
     "data": {
      "text/html": [
       "<div>\n",
       "<style scoped>\n",
       "    .dataframe tbody tr th:only-of-type {\n",
       "        vertical-align: middle;\n",
       "    }\n",
       "\n",
       "    .dataframe tbody tr th {\n",
       "        vertical-align: top;\n",
       "    }\n",
       "\n",
       "    .dataframe thead th {\n",
       "        text-align: right;\n",
       "    }\n",
       "</style>\n",
       "<table border=\"1\" class=\"dataframe\">\n",
       "  <thead>\n",
       "    <tr style=\"text-align: right;\">\n",
       "      <th></th>\n",
       "      <th>Country/Region</th>\n",
       "      <th>Cases</th>\n",
       "      <th>Deaths</th>\n",
       "      <th>PCases</th>\n",
       "      <th>PDeaths</th>\n",
       "      <th>Cases (+)</th>\n",
       "      <th>Deaths (+)</th>\n",
       "      <th>Fatality Rate</th>\n",
       "      <th>Continent</th>\n",
       "    </tr>\n",
       "  </thead>\n",
       "  <tbody>\n",
       "    <tr>\n",
       "      <th>0</th>\n",
       "      <td>US</td>\n",
       "      <td>33426310</td>\n",
       "      <td>598744</td>\n",
       "      <td>33411893</td>\n",
       "      <td>598764</td>\n",
       "      <td>14417</td>\n",
       "      <td>0</td>\n",
       "      <td>1.8</td>\n",
       "      <td>North America</td>\n",
       "    </tr>\n",
       "    <tr>\n",
       "      <th>1</th>\n",
       "      <td>India</td>\n",
       "      <td>29274823</td>\n",
       "      <td>363079</td>\n",
       "      <td>29182532</td>\n",
       "      <td>355705</td>\n",
       "      <td>92291</td>\n",
       "      <td>7374</td>\n",
       "      <td>1.2</td>\n",
       "      <td>Asia</td>\n",
       "    </tr>\n",
       "    <tr>\n",
       "      <th>2</th>\n",
       "      <td>Brazil</td>\n",
       "      <td>17210969</td>\n",
       "      <td>482019</td>\n",
       "      <td>17122877</td>\n",
       "      <td>479515</td>\n",
       "      <td>88092</td>\n",
       "      <td>2504</td>\n",
       "      <td>2.8</td>\n",
       "      <td>South America</td>\n",
       "    </tr>\n",
       "    <tr>\n",
       "      <th>3</th>\n",
       "      <td>France</td>\n",
       "      <td>5791608</td>\n",
       "      <td>110432</td>\n",
       "      <td>5787125</td>\n",
       "      <td>110364</td>\n",
       "      <td>4483</td>\n",
       "      <td>68</td>\n",
       "      <td>1.9</td>\n",
       "      <td>Europe</td>\n",
       "    </tr>\n",
       "    <tr>\n",
       "      <th>4</th>\n",
       "      <td>Turkey</td>\n",
       "      <td>5313098</td>\n",
       "      <td>48524</td>\n",
       "      <td>5306690</td>\n",
       "      <td>48428</td>\n",
       "      <td>6408</td>\n",
       "      <td>96</td>\n",
       "      <td>0.9</td>\n",
       "      <td>Asia</td>\n",
       "    </tr>\n",
       "  </tbody>\n",
       "</table>\n",
       "</div>"
      ],
      "text/plain": [
       "  Country/Region     Cases  Deaths    PCases  PDeaths  Cases (+)  Deaths (+)  \\\n",
       "0             US  33426310  598744  33411893   598764      14417           0   \n",
       "1          India  29274823  363079  29182532   355705      92291        7374   \n",
       "2         Brazil  17210969  482019  17122877   479515      88092        2504   \n",
       "3         France   5791608  110432   5787125   110364       4483          68   \n",
       "4         Turkey   5313098   48524   5306690    48428       6408          96   \n",
       "\n",
       "   Fatality Rate      Continent  \n",
       "0            1.8  North America  \n",
       "1            1.2           Asia  \n",
       "2            2.8  South America  \n",
       "3            1.9         Europe  \n",
       "4            0.9           Asia  "
      ]
     },
     "execution_count": 15,
     "metadata": {},
     "output_type": "execute_result"
    }
   ],
   "source": [
    "#hide\n",
    "df_table = (pd.DataFrame(dict(Cases=dfc_cases, Deaths=dfc_deaths, PCases=dfp_cases, PDeaths=dfp_deaths))\n",
    "             .sort_values(by=['Cases', 'Deaths'], ascending=[False, False])\n",
    "             .reset_index())\n",
    "df_table.rename(columns={'index': 'Country/Region'}, inplace=True)\n",
    "for c in 'Cases, Deaths'.split(', '):\n",
    "    df_table[f'{c} (+)'] = (df_table[c] - df_table[f'P{c}']).clip(0)  # DATA BUG\n",
    "df_table['Fatality Rate'] = (100 * df_table['Deaths'] / df_table['Cases']).round(1)\n",
    "df_table['Continent'] = df_table['Country/Region'].map(mapping['map.continent'])\n",
    "df_table.head(5)"
   ]
  },
  {
   "cell_type": "code",
   "execution_count": 16,
   "id": "fewer-occasion",
   "metadata": {
    "execution": {
     "iopub.execute_input": "2021-06-11T12:10:12.828632Z",
     "iopub.status.busy": "2021-06-11T12:10:12.827837Z",
     "iopub.status.idle": "2021-06-11T12:10:12.830334Z",
     "shell.execute_reply": "2021-06-11T12:10:12.829783Z"
    },
    "papermill": {
     "duration": 0.050789,
     "end_time": "2021-06-11T12:10:12.830462",
     "exception": false,
     "start_time": "2021-06-11T12:10:12.779673",
     "status": "completed"
    },
    "tags": []
   },
   "outputs": [],
   "source": [
    "#hide\n",
    "#delete problematic countries from table\n",
    "df_table = df_table[~df_table['Country/Region'].isin(['Cape Verde', 'Cruise Ship', 'Kosovo'])]"
   ]
  },
  {
   "cell_type": "code",
   "execution_count": 17,
   "id": "related-center",
   "metadata": {
    "execution": {
     "iopub.execute_input": "2021-06-11T12:10:12.927530Z",
     "iopub.status.busy": "2021-06-11T12:10:12.926363Z",
     "iopub.status.idle": "2021-06-11T12:10:12.934765Z",
     "shell.execute_reply": "2021-06-11T12:10:12.935334Z"
    },
    "papermill": {
     "duration": 0.06249,
     "end_time": "2021-06-11T12:10:12.935495",
     "exception": false,
     "start_time": "2021-06-11T12:10:12.873005",
     "status": "completed"
    },
    "tags": []
   },
   "outputs": [],
   "source": [
    "#hide\n",
    "metrics = [df_table.columns[index] for index in [1,2,5,6]]\n",
    "# s_china = df_table[df_table['Country/Region'].eq('China')][metrics].sum().add_prefix('China ')\n",
    "s_us = df_table[df_table['Country/Region'].eq('US')][metrics].sum().add_prefix('US ')\n",
    "s_eu = df_table[df_table['Continent'].eq('Europe')][metrics].sum().add_prefix('EU ')\n",
    "s_ind = df_table[df_table['Country/Region'].eq('India')][metrics].sum().add_prefix('India ')\n",
    "summary = {'updated': pd.to_datetime(dt_today), 'since': pd.to_datetime(dt_yday)}\n",
    "summary = {'updated': pd.to_datetime(dt_today), 'since': pd.to_datetime(dt_yday)}\n",
    "summary = {**summary, **df_table[metrics].sum(), **s_ind, **s_us, **s_eu}"
   ]
  },
  {
   "cell_type": "code",
   "execution_count": 18,
   "id": "engaging-syndrome",
   "metadata": {
    "execution": {
     "iopub.execute_input": "2021-06-11T12:10:13.019934Z",
     "iopub.status.busy": "2021-06-11T12:10:13.019301Z",
     "iopub.status.idle": "2021-06-11T12:10:13.032226Z",
     "shell.execute_reply": "2021-06-11T12:10:13.031670Z"
    },
    "papermill": {
     "duration": 0.058102,
     "end_time": "2021-06-11T12:10:13.032367",
     "exception": false,
     "start_time": "2021-06-11T12:10:12.974265",
     "status": "completed"
    },
    "tags": []
   },
   "outputs": [],
   "source": [
    "#hide\n",
    "dft_ct_new_cases = dft_cases.groupby(COL_REGION)[dt_cols].sum().diff(axis=1).fillna(0).astype(int)"
   ]
  },
  {
   "cell_type": "code",
   "execution_count": 19,
   "id": "neutral-assignment",
   "metadata": {
    "execution": {
     "iopub.execute_input": "2021-06-11T12:10:13.123487Z",
     "iopub.status.busy": "2021-06-11T12:10:13.122844Z",
     "iopub.status.idle": "2021-06-11T12:10:13.125274Z",
     "shell.execute_reply": "2021-06-11T12:10:13.124719Z"
    },
    "papermill": {
     "duration": 0.050605,
     "end_time": "2021-06-11T12:10:13.125404",
     "exception": false,
     "start_time": "2021-06-11T12:10:13.074799",
     "status": "completed"
    },
    "tags": []
   },
   "outputs": [],
   "source": [
    "#hide\n",
    "everydaycases = dft_ct_new_cases.cumsum(axis=1)"
   ]
  },
  {
   "cell_type": "code",
   "execution_count": 20,
   "id": "parliamentary-calgary",
   "metadata": {
    "execution": {
     "iopub.execute_input": "2021-06-11T12:10:13.208608Z",
     "iopub.status.busy": "2021-06-11T12:10:13.207939Z",
     "iopub.status.idle": "2021-06-11T12:10:13.827358Z",
     "shell.execute_reply": "2021-06-11T12:10:13.826764Z"
    },
    "papermill": {
     "duration": 0.662852,
     "end_time": "2021-06-11T12:10:13.827534",
     "exception": false,
     "start_time": "2021-06-11T12:10:13.164682",
     "status": "completed"
    },
    "tags": []
   },
   "outputs": [],
   "source": [
    "#hide\n",
    "import pandas as pd\n",
    "import matplotlib.pyplot as plt\n",
    "import matplotlib.ticker as ticker\n",
    "import matplotlib.animation as animation\n",
    "from IPython.display import HTML"
   ]
  },
  {
   "cell_type": "code",
   "execution_count": 21,
   "id": "lasting-extraction",
   "metadata": {
    "execution": {
     "iopub.execute_input": "2021-06-11T12:10:13.910858Z",
     "iopub.status.busy": "2021-06-11T12:10:13.910171Z",
     "iopub.status.idle": "2021-06-11T12:10:13.915518Z",
     "shell.execute_reply": "2021-06-11T12:10:13.916324Z"
    },
    "papermill": {
     "duration": 0.049102,
     "end_time": "2021-06-11T12:10:13.916474",
     "exception": false,
     "start_time": "2021-06-11T12:10:13.867372",
     "status": "completed"
    },
    "tags": []
   },
   "outputs": [],
   "source": [
    "#hide\n",
    "t = everydaycases.stack()"
   ]
  },
  {
   "cell_type": "code",
   "execution_count": 22,
   "id": "premier-sleeve",
   "metadata": {
    "execution": {
     "iopub.execute_input": "2021-06-11T12:10:14.002644Z",
     "iopub.status.busy": "2021-06-11T12:10:14.001999Z",
     "iopub.status.idle": "2021-06-11T12:10:14.009903Z",
     "shell.execute_reply": "2021-06-11T12:10:14.010554Z"
    },
    "papermill": {
     "duration": 0.052753,
     "end_time": "2021-06-11T12:10:14.010696",
     "exception": false,
     "start_time": "2021-06-11T12:10:13.957943",
     "status": "completed"
    },
    "tags": []
   },
   "outputs": [],
   "source": [
    "#hide\n",
    "g = t.reset_index(['Country/Region'])"
   ]
  },
  {
   "cell_type": "code",
   "execution_count": 23,
   "id": "distributed-pittsburgh",
   "metadata": {
    "execution": {
     "iopub.execute_input": "2021-06-11T12:10:14.093870Z",
     "iopub.status.busy": "2021-06-11T12:10:14.093226Z",
     "iopub.status.idle": "2021-06-11T12:10:14.095629Z",
     "shell.execute_reply": "2021-06-11T12:10:14.095099Z"
    },
    "papermill": {
     "duration": 0.04507,
     "end_time": "2021-06-11T12:10:14.095750",
     "exception": false,
     "start_time": "2021-06-11T12:10:14.050680",
     "status": "completed"
    },
    "tags": []
   },
   "outputs": [],
   "source": [
    "#hide\n",
    "g.index.name = 'date'"
   ]
  },
  {
   "cell_type": "code",
   "execution_count": 24,
   "id": "naked-donor",
   "metadata": {
    "execution": {
     "iopub.execute_input": "2021-06-11T12:10:14.177907Z",
     "iopub.status.busy": "2021-06-11T12:10:14.176561Z",
     "iopub.status.idle": "2021-06-11T12:10:14.178620Z",
     "shell.execute_reply": "2021-06-11T12:10:14.179947Z"
    },
    "papermill": {
     "duration": 0.045538,
     "end_time": "2021-06-11T12:10:14.180115",
     "exception": false,
     "start_time": "2021-06-11T12:10:14.134577",
     "status": "completed"
    },
    "tags": []
   },
   "outputs": [],
   "source": [
    "# #hide\n",
    "# g = g.reset_index(['date'])"
   ]
  },
  {
   "cell_type": "code",
   "execution_count": 25,
   "id": "incomplete-mustang",
   "metadata": {
    "execution": {
     "iopub.execute_input": "2021-06-11T12:10:14.261712Z",
     "iopub.status.busy": "2021-06-11T12:10:14.260363Z",
     "iopub.status.idle": "2021-06-11T12:10:14.262410Z",
     "shell.execute_reply": "2021-06-11T12:10:14.262931Z"
    },
    "papermill": {
     "duration": 0.045031,
     "end_time": "2021-06-11T12:10:14.263074",
     "exception": false,
     "start_time": "2021-06-11T12:10:14.218043",
     "status": "completed"
    },
    "tags": []
   },
   "outputs": [],
   "source": [
    "#hide\n",
    "# g.head()"
   ]
  },
  {
   "cell_type": "code",
   "execution_count": 26,
   "id": "specific-kruger",
   "metadata": {
    "execution": {
     "iopub.execute_input": "2021-06-11T12:10:14.343304Z",
     "iopub.status.busy": "2021-06-11T12:10:14.341924Z",
     "iopub.status.idle": "2021-06-11T12:10:14.344003Z",
     "shell.execute_reply": "2021-06-11T12:10:14.344511Z"
    },
    "papermill": {
     "duration": 0.043567,
     "end_time": "2021-06-11T12:10:14.344650",
     "exception": false,
     "start_time": "2021-06-11T12:10:14.301083",
     "status": "completed"
    },
    "tags": []
   },
   "outputs": [],
   "source": [
    "#hide\n",
    "# g.columns = ['date','country','cases']"
   ]
  },
  {
   "cell_type": "code",
   "execution_count": 27,
   "id": "tender-conversion",
   "metadata": {
    "execution": {
     "iopub.execute_input": "2021-06-11T12:10:14.427771Z",
     "iopub.status.busy": "2021-06-11T12:10:14.426425Z",
     "iopub.status.idle": "2021-06-11T12:10:14.428502Z",
     "shell.execute_reply": "2021-06-11T12:10:14.429008Z"
    },
    "papermill": {
     "duration": 0.04454,
     "end_time": "2021-06-11T12:10:14.429146",
     "exception": false,
     "start_time": "2021-06-11T12:10:14.384606",
     "status": "completed"
    },
    "tags": []
   },
   "outputs": [],
   "source": [
    "#hide\n",
    "# g['continent'] = g.country"
   ]
  },
  {
   "cell_type": "code",
   "execution_count": 28,
   "id": "substantial-wilderness",
   "metadata": {
    "execution": {
     "iopub.execute_input": "2021-06-11T12:10:14.523664Z",
     "iopub.status.busy": "2021-06-11T12:10:14.521633Z",
     "iopub.status.idle": "2021-06-11T12:10:14.524388Z",
     "shell.execute_reply": "2021-06-11T12:10:14.524914Z"
    },
    "papermill": {
     "duration": 0.047425,
     "end_time": "2021-06-11T12:10:14.525063",
     "exception": false,
     "start_time": "2021-06-11T12:10:14.477638",
     "status": "completed"
    },
    "tags": []
   },
   "outputs": [],
   "source": [
    "#hide\n",
    "# cols = list(g.columns.values)"
   ]
  },
  {
   "cell_type": "code",
   "execution_count": 29,
   "id": "solved-farming",
   "metadata": {
    "execution": {
     "iopub.execute_input": "2021-06-11T12:10:14.608847Z",
     "iopub.status.busy": "2021-06-11T12:10:14.608197Z",
     "iopub.status.idle": "2021-06-11T12:10:14.610655Z",
     "shell.execute_reply": "2021-06-11T12:10:14.610082Z"
    },
    "papermill": {
     "duration": 0.046552,
     "end_time": "2021-06-11T12:10:14.610780",
     "exception": false,
     "start_time": "2021-06-11T12:10:14.564228",
     "status": "completed"
    },
    "tags": []
   },
   "outputs": [],
   "source": [
    "#hide\n",
    "# cols.insert(0, cols.pop())"
   ]
  },
  {
   "cell_type": "code",
   "execution_count": 30,
   "id": "executed-adoption",
   "metadata": {
    "execution": {
     "iopub.execute_input": "2021-06-11T12:10:14.694991Z",
     "iopub.status.busy": "2021-06-11T12:10:14.694254Z",
     "iopub.status.idle": "2021-06-11T12:10:14.696230Z",
     "shell.execute_reply": "2021-06-11T12:10:14.696766Z"
    },
    "papermill": {
     "duration": 0.046225,
     "end_time": "2021-06-11T12:10:14.696951",
     "exception": false,
     "start_time": "2021-06-11T12:10:14.650726",
     "status": "completed"
    },
    "tags": []
   },
   "outputs": [],
   "source": [
    "#hide\n",
    "# g = g[cols]"
   ]
  },
  {
   "cell_type": "code",
   "execution_count": 31,
   "id": "subject-dublin",
   "metadata": {
    "execution": {
     "iopub.execute_input": "2021-06-11T12:10:14.779304Z",
     "iopub.status.busy": "2021-06-11T12:10:14.778470Z",
     "iopub.status.idle": "2021-06-11T12:10:14.780443Z",
     "shell.execute_reply": "2021-06-11T12:10:14.781149Z"
    },
    "papermill": {
     "duration": 0.044879,
     "end_time": "2021-06-11T12:10:14.781296",
     "exception": false,
     "start_time": "2021-06-11T12:10:14.736417",
     "status": "completed"
    },
    "tags": []
   },
   "outputs": [],
   "source": [
    "#hide\n",
    "# g['continent'] = g['continent'].map(mapping['map.continent'])"
   ]
  },
  {
   "cell_type": "code",
   "execution_count": 32,
   "id": "freelance-scout",
   "metadata": {
    "execution": {
     "iopub.execute_input": "2021-06-11T12:10:14.867360Z",
     "iopub.status.busy": "2021-06-11T12:10:14.866696Z",
     "iopub.status.idle": "2021-06-11T12:10:14.868546Z",
     "shell.execute_reply": "2021-06-11T12:10:14.869068Z"
    },
    "papermill": {
     "duration": 0.046822,
     "end_time": "2021-06-11T12:10:14.869204",
     "exception": false,
     "start_time": "2021-06-11T12:10:14.822382",
     "status": "completed"
    },
    "tags": []
   },
   "outputs": [],
   "source": [
    "#hide\n",
    "# g.head()"
   ]
  },
  {
   "cell_type": "code",
   "execution_count": 33,
   "id": "limited-engine",
   "metadata": {
    "execution": {
     "iopub.execute_input": "2021-06-11T12:10:14.979153Z",
     "iopub.status.busy": "2021-06-11T12:10:14.978504Z",
     "iopub.status.idle": "2021-06-11T12:10:14.979780Z",
     "shell.execute_reply": "2021-06-11T12:10:14.980427Z"
    },
    "papermill": {
     "duration": 0.063094,
     "end_time": "2021-06-11T12:10:14.980571",
     "exception": false,
     "start_time": "2021-06-11T12:10:14.917477",
     "status": "completed"
    },
    "tags": []
   },
   "outputs": [],
   "source": [
    "# hide\n",
    "# g['date'] = g['date'].astype('datetime64[ns]')"
   ]
  },
  {
   "cell_type": "code",
   "execution_count": 34,
   "id": "sophisticated-supervisor",
   "metadata": {
    "execution": {
     "iopub.execute_input": "2021-06-11T12:10:15.066893Z",
     "iopub.status.busy": "2021-06-11T12:10:15.066216Z",
     "iopub.status.idle": "2021-06-11T12:10:15.068895Z",
     "shell.execute_reply": "2021-06-11T12:10:15.068120Z"
    },
    "papermill": {
     "duration": 0.049192,
     "end_time": "2021-06-11T12:10:15.069021",
     "exception": false,
     "start_time": "2021-06-11T12:10:15.019829",
     "status": "completed"
    },
    "tags": []
   },
   "outputs": [],
   "source": [
    "#hide\n",
    "# g['date'] = g.date.dt.dayofyear"
   ]
  },
  {
   "cell_type": "code",
   "execution_count": 35,
   "id": "inside-dubai",
   "metadata": {
    "execution": {
     "iopub.execute_input": "2021-06-11T12:10:15.150412Z",
     "iopub.status.busy": "2021-06-11T12:10:15.149724Z",
     "iopub.status.idle": "2021-06-11T12:10:15.152004Z",
     "shell.execute_reply": "2021-06-11T12:10:15.151380Z"
    },
    "papermill": {
     "duration": 0.043868,
     "end_time": "2021-06-11T12:10:15.152134",
     "exception": false,
     "start_time": "2021-06-11T12:10:15.108266",
     "status": "completed"
    },
    "tags": []
   },
   "outputs": [],
   "source": [
    "#hide\n",
    "# g = g.rename(columns= {'continent':'group','country':'name','cases':'value'})"
   ]
  },
  {
   "cell_type": "code",
   "execution_count": 36,
   "id": "fleet-motorcycle",
   "metadata": {
    "execution": {
     "iopub.execute_input": "2021-06-11T12:10:15.232082Z",
     "iopub.status.busy": "2021-06-11T12:10:15.230702Z",
     "iopub.status.idle": "2021-06-11T12:10:15.232885Z",
     "shell.execute_reply": "2021-06-11T12:10:15.233437Z"
    },
    "papermill": {
     "duration": 0.043993,
     "end_time": "2021-06-11T12:10:15.233589",
     "exception": false,
     "start_time": "2021-06-11T12:10:15.189596",
     "status": "completed"
    },
    "tags": []
   },
   "outputs": [],
   "source": [
    "#hide\n",
    "# cols = ['name','group','day','value']"
   ]
  },
  {
   "cell_type": "code",
   "execution_count": 37,
   "id": "continued-sleeping",
   "metadata": {
    "execution": {
     "iopub.execute_input": "2021-06-11T12:10:15.314696Z",
     "iopub.status.busy": "2021-06-11T12:10:15.314072Z",
     "iopub.status.idle": "2021-06-11T12:10:15.316071Z",
     "shell.execute_reply": "2021-06-11T12:10:15.316661Z"
    },
    "papermill": {
     "duration": 0.043888,
     "end_time": "2021-06-11T12:10:15.316795",
     "exception": false,
     "start_time": "2021-06-11T12:10:15.272907",
     "status": "completed"
    },
    "tags": []
   },
   "outputs": [],
   "source": [
    "#hide\n",
    "# g.rename(columns= {'date':'day'},inplace = True)"
   ]
  },
  {
   "cell_type": "code",
   "execution_count": 38,
   "id": "major-fight",
   "metadata": {
    "execution": {
     "iopub.execute_input": "2021-06-11T12:10:15.399113Z",
     "iopub.status.busy": "2021-06-11T12:10:15.398477Z",
     "iopub.status.idle": "2021-06-11T12:10:15.400847Z",
     "shell.execute_reply": "2021-06-11T12:10:15.400208Z"
    },
    "papermill": {
     "duration": 0.045041,
     "end_time": "2021-06-11T12:10:15.400971",
     "exception": false,
     "start_time": "2021-06-11T12:10:15.355930",
     "status": "completed"
    },
    "tags": []
   },
   "outputs": [],
   "source": [
    "#hide\n",
    "# g = g[cols]"
   ]
  },
  {
   "cell_type": "code",
   "execution_count": 39,
   "id": "structured-mobile",
   "metadata": {
    "execution": {
     "iopub.execute_input": "2021-06-11T12:10:15.489070Z",
     "iopub.status.busy": "2021-06-11T12:10:15.488421Z",
     "iopub.status.idle": "2021-06-11T12:10:15.490710Z",
     "shell.execute_reply": "2021-06-11T12:10:15.491275Z"
    },
    "papermill": {
     "duration": 0.050908,
     "end_time": "2021-06-11T12:10:15.491421",
     "exception": false,
     "start_time": "2021-06-11T12:10:15.440513",
     "status": "completed"
    },
    "tags": []
   },
   "outputs": [],
   "source": [
    "# #hide\n",
    "# g = g[g.group.notna()]"
   ]
  },
  {
   "cell_type": "code",
   "execution_count": 40,
   "id": "determined-closing",
   "metadata": {
    "execution": {
     "iopub.execute_input": "2021-06-11T12:10:15.574482Z",
     "iopub.status.busy": "2021-06-11T12:10:15.572919Z",
     "iopub.status.idle": "2021-06-11T12:10:15.576139Z",
     "shell.execute_reply": "2021-06-11T12:10:15.575543Z"
    },
    "papermill": {
     "duration": 0.045631,
     "end_time": "2021-06-11T12:10:15.576271",
     "exception": false,
     "start_time": "2021-06-11T12:10:15.530640",
     "status": "completed"
    },
    "tags": []
   },
   "outputs": [],
   "source": [
    "# #hide\n",
    "# colors = dict(zip(\n",
    "#     [\"Oceania\", \"Europe\", \"Asia\", \"South America\", \"Middle East\", \"North America\", \"Africa\"],\n",
    "#     [\"#adb0ff\", \"#ffb3ff\", \"#90d595\", \"#e48381\", \"#aafbff\", \"#f7bb5f\", \"#eafb50\"]\n",
    "# ))\n",
    "# group_lk = g.set_index('name')['group'].to_dict()"
   ]
  },
  {
   "cell_type": "code",
   "execution_count": null,
   "id": "gross-drinking",
   "metadata": {
    "papermill": {
     "duration": 0.038894,
     "end_time": "2021-06-11T12:10:15.653552",
     "exception": false,
     "start_time": "2021-06-11T12:10:15.614658",
     "status": "completed"
    },
    "tags": []
   },
   "outputs": [],
   "source": []
  },
  {
   "cell_type": "code",
   "execution_count": 41,
   "id": "subject-macintosh",
   "metadata": {
    "execution": {
     "iopub.execute_input": "2021-06-11T12:10:15.735865Z",
     "iopub.status.busy": "2021-06-11T12:10:15.735177Z",
     "iopub.status.idle": "2021-06-11T12:10:15.736807Z",
     "shell.execute_reply": "2021-06-11T12:10:15.737447Z"
    },
    "papermill": {
     "duration": 0.045169,
     "end_time": "2021-06-11T12:10:15.737591",
     "exception": false,
     "start_time": "2021-06-11T12:10:15.692422",
     "status": "completed"
    },
    "tags": []
   },
   "outputs": [],
   "source": [
    "# #hide\n",
    "# fig, ax = plt.subplots(figsize=(15, 8))\n",
    "\n",
    "# def draw_barchart(current_day):\n",
    "#     dff = g[g['day'].eq(current_day)].sort_values(by='value', ascending=True).tail(10)\n",
    "#     ax.clear()\n",
    "#     ax.barh(dff['name'], dff['value'], color=[colors[group_lk[x]] for x in dff['name']])\n",
    "#     dx = dff['value'].max() / 200\n",
    "    \n",
    "#     for i, (value, name) in enumerate(zip(dff['value'], dff['name'])):\n",
    "#         ax.text(value-dx, i,     name,           size=14, weight=600, ha='right', va='bottom')\n",
    "#         ax.text(value-dx, i-.25, group_lk[name], size=10, color='#444444', ha='right', va='baseline')\n",
    "#         ax.text(value+dx, i,     f'{value:,.0f}',  size=14, ha='left',  va='center')\n",
    "#     ax.text(1, 0.4, current_day, transform=ax.transAxes, color='#777777', size=46, ha='right', weight=800)\n",
    "#     ax.text(0, 1.06, 'Population (thousands)', transform=ax.transAxes, size=12, color='#777777')\n",
    "#     ax.xaxis.set_major_formatter(ticker.StrMethodFormatter('{x:,.0f}'))\n",
    "#     ax.xaxis.set_ticks_position('top')\n",
    "#     ax.tick_params(axis='x', colors='#777777', labelsize=12)\n",
    "#     ax.set_yticks([])\n",
    "#     ax.margins(0, 0.01)\n",
    "#     ax.grid(which='major', axis='x', linestyle='-')\n",
    "#     ax.set_axisbelow(True)\n",
    "    \n",
    "#     ax.text(0, 1.15, 'Coronavirus',\n",
    "#             transform=ax.transAxes, size=24, weight=600, ha='left', va='top')\n",
    "# #     ax.text(1, 0, 'by @pratapvardhan; credit @jburnmurdoch', transform=ax.transAxes, color='#777777', ha='right',\n",
    "# #             bbox=dict(facecolor='white', alpha=0.8, edgecolor='white'))\n",
    "#     plt.box(False)"
   ]
  },
  {
   "cell_type": "code",
   "execution_count": 42,
   "id": "sexual-wages",
   "metadata": {
    "execution": {
     "iopub.execute_input": "2021-06-11T12:10:15.819881Z",
     "iopub.status.busy": "2021-06-11T12:10:15.819237Z",
     "iopub.status.idle": "2021-06-11T12:10:15.821150Z",
     "shell.execute_reply": "2021-06-11T12:10:15.821708Z"
    },
    "papermill": {
     "duration": 0.044837,
     "end_time": "2021-06-11T12:10:15.821851",
     "exception": false,
     "start_time": "2021-06-11T12:10:15.777014",
     "status": "completed"
    },
    "tags": []
   },
   "outputs": [],
   "source": [
    "# #hide_input\n",
    "# fig, ax = plt.subplots(figsize=(15, 8))\n",
    "# animator = animation.FuncAnimation(fig, draw_barchart, frames=range(g.day.values.min(), g.day.values.max()))\n",
    "# HTML(animator.to_jshtml())\n",
    "# # or use animator.to_html5_video() or animator.save() "
   ]
  },
  {
   "cell_type": "code",
   "execution_count": null,
   "id": "australian-container",
   "metadata": {
    "papermill": {
     "duration": 0.039203,
     "end_time": "2021-06-11T12:10:15.899689",
     "exception": false,
     "start_time": "2021-06-11T12:10:15.860486",
     "status": "completed"
    },
    "tags": []
   },
   "outputs": [],
   "source": []
  },
  {
   "cell_type": "code",
   "execution_count": null,
   "id": "mediterranean-pontiac",
   "metadata": {
    "papermill": {
     "duration": 0.040728,
     "end_time": "2021-06-11T12:10:15.979208",
     "exception": false,
     "start_time": "2021-06-11T12:10:15.938480",
     "status": "completed"
    },
    "tags": []
   },
   "outputs": [],
   "source": []
  },
  {
   "cell_type": "code",
   "execution_count": null,
   "id": "aging-legislature",
   "metadata": {
    "papermill": {
     "duration": 0.037136,
     "end_time": "2021-06-11T12:10:16.056182",
     "exception": false,
     "start_time": "2021-06-11T12:10:16.019046",
     "status": "completed"
    },
    "tags": []
   },
   "outputs": [],
   "source": []
  }
 ],
 "metadata": {
  "kernelspec": {
   "display_name": "Python 3",
   "language": "python",
   "name": "python3"
  },
  "language_info": {
   "codemirror_mode": {
    "name": "ipython",
    "version": 3
   },
   "file_extension": ".py",
   "mimetype": "text/x-python",
   "name": "python",
   "nbconvert_exporter": "python",
   "pygments_lexer": "ipython3",
   "version": "3.6.13"
  },
  "papermill": {
   "duration": 7.37926,
   "end_time": "2021-06-11T12:10:16.402737",
   "environment_variables": {},
   "exception": null,
   "input_path": "2020-03-21-covid19exp.ipynb",
   "output_path": "2020-03-21-covid19exp.ipynb",
   "parameters": {},
   "start_time": "2021-06-11T12:10:09.023477",
   "version": "2.0.0"
  }
 },
 "nbformat": 4,
 "nbformat_minor": 5
}