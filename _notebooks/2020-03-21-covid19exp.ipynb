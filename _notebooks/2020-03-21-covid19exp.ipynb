{
 "cells": [
  {
   "cell_type": "markdown",
   "id": "muslim-click",
   "metadata": {
    "papermill": {
     "duration": 0.04129,
     "end_time": "2021-12-21T12:12:53.951438",
     "exception": false,
     "start_time": "2021-12-21T12:12:53.910148",
     "status": "completed"
    },
    "tags": []
   },
   "source": [
    "# COVID-19 Case Race\n",
    "> A race chart to see rising cases around the world\n",
    "\n",
    "- author: Hargun Oberoi\n",
    "- image: images/covid-overview.png\n",
    "- hide: false\n",
    "- badges: false"
   ]
  },
  {
   "cell_type": "code",
   "execution_count": 1,
   "id": "proof-material",
   "metadata": {
    "execution": {
     "iopub.execute_input": "2021-12-21T12:12:54.034337Z",
     "iopub.status.busy": "2021-12-21T12:12:54.033673Z",
     "iopub.status.idle": "2021-12-21T12:12:54.467142Z",
     "shell.execute_reply": "2021-12-21T12:12:54.466556Z"
    },
    "papermill": {
     "duration": 0.478685,
     "end_time": "2021-12-21T12:12:54.467289",
     "exception": false,
     "start_time": "2021-12-21T12:12:53.988604",
     "status": "completed"
    },
    "tags": []
   },
   "outputs": [],
   "source": [
    "#hide\n",
    "import numpy as np\n",
    "import pandas as pd\n",
    "from jinja2 import Template\n",
    "from IPython.display import HTML"
   ]
  },
  {
   "cell_type": "code",
   "execution_count": 2,
   "id": "developed-terminology",
   "metadata": {
    "execution": {
     "iopub.execute_input": "2021-12-21T12:12:54.549067Z",
     "iopub.status.busy": "2021-12-21T12:12:54.548319Z",
     "iopub.status.idle": "2021-12-21T12:12:54.551758Z",
     "shell.execute_reply": "2021-12-21T12:12:54.551303Z"
    },
    "papermill": {
     "duration": 0.045189,
     "end_time": "2021-12-21T12:12:54.551892",
     "exception": false,
     "start_time": "2021-12-21T12:12:54.506703",
     "status": "completed"
    },
    "tags": []
   },
   "outputs": [],
   "source": [
    "#hide\n",
    "\n",
    "# FETCH\n",
    "base_url = 'https://raw.githubusercontent.com/pratapvardhan/notebooks/master/covid19/'\n",
    "paths = {\n",
    "    'mapping': base_url + 'mapping_countries.csv',\n",
    "    'overview': base_url + 'overview.tpl'\n",
    "}"
   ]
  },
  {
   "cell_type": "code",
   "execution_count": 3,
   "id": "dynamic-saver",
   "metadata": {
    "execution": {
     "iopub.execute_input": "2021-12-21T12:12:54.638460Z",
     "iopub.status.busy": "2021-12-21T12:12:54.636852Z",
     "iopub.status.idle": "2021-12-21T12:12:54.640853Z",
     "shell.execute_reply": "2021-12-21T12:12:54.640228Z"
    },
    "papermill": {
     "duration": 0.052837,
     "end_time": "2021-12-21T12:12:54.640981",
     "exception": false,
     "start_time": "2021-12-21T12:12:54.588144",
     "status": "completed"
    },
    "tags": []
   },
   "outputs": [
    {
     "data": {
      "text/plain": [
       "'https://raw.githubusercontent.com/pratapvardhan/notebooks/master/covid19/mapping_countries.csv'"
      ]
     },
     "execution_count": 3,
     "metadata": {},
     "output_type": "execute_result"
    }
   ],
   "source": [
    "#hide\n",
    "paths['mapping']"
   ]
  },
  {
   "cell_type": "code",
   "execution_count": 4,
   "id": "urban-software",
   "metadata": {
    "execution": {
     "iopub.execute_input": "2021-12-21T12:12:54.722737Z",
     "iopub.status.busy": "2021-12-21T12:12:54.721237Z",
     "iopub.status.idle": "2021-12-21T12:12:54.723460Z",
     "shell.execute_reply": "2021-12-21T12:12:54.724038Z"
    },
    "papermill": {
     "duration": 0.045508,
     "end_time": "2021-12-21T12:12:54.724185",
     "exception": false,
     "start_time": "2021-12-21T12:12:54.678677",
     "status": "completed"
    },
    "tags": []
   },
   "outputs": [],
   "source": [
    "#hide\n",
    "def get_mappings(url):\n",
    "    df = pd.read_csv(url)\n",
    "    return {\n",
    "        'df': df,\n",
    "        'replace.country': dict(df.dropna(subset=['Name']).set_index('Country')['Name']),\n",
    "        'map.continent': dict(df.set_index('Name')['Continent'])\n",
    "    }"
   ]
  },
  {
   "cell_type": "code",
   "execution_count": 5,
   "id": "intimate-machinery",
   "metadata": {
    "execution": {
     "iopub.execute_input": "2021-12-21T12:12:54.805672Z",
     "iopub.status.busy": "2021-12-21T12:12:54.804976Z",
     "iopub.status.idle": "2021-12-21T12:12:54.835021Z",
     "shell.execute_reply": "2021-12-21T12:12:54.835583Z"
    },
    "papermill": {
     "duration": 0.072435,
     "end_time": "2021-12-21T12:12:54.835724",
     "exception": false,
     "start_time": "2021-12-21T12:12:54.763289",
     "status": "completed"
    },
    "tags": []
   },
   "outputs": [],
   "source": [
    "#hide\n",
    "mapping = get_mappings(paths['mapping'])"
   ]
  },
  {
   "cell_type": "code",
   "execution_count": 6,
   "id": "certified-tactics",
   "metadata": {
    "execution": {
     "iopub.execute_input": "2021-12-21T12:12:54.914596Z",
     "iopub.status.busy": "2021-12-21T12:12:54.913879Z",
     "iopub.status.idle": "2021-12-21T12:12:54.917777Z",
     "shell.execute_reply": "2021-12-21T12:12:54.918255Z"
    },
    "papermill": {
     "duration": 0.04471,
     "end_time": "2021-12-21T12:12:54.918451",
     "exception": false,
     "start_time": "2021-12-21T12:12:54.873741",
     "status": "completed"
    },
    "tags": []
   },
   "outputs": [],
   "source": [
    "#hide\n",
    "def get_template(path):\n",
    "    from urllib.parse import urlparse\n",
    "    if bool(urlparse(path).netloc):\n",
    "        from urllib.request import urlopen\n",
    "        return urlopen(path).read().decode('utf8')\n",
    "    return open(path).read()"
   ]
  },
  {
   "cell_type": "code",
   "execution_count": 7,
   "id": "realistic-blast",
   "metadata": {
    "execution": {
     "iopub.execute_input": "2021-12-21T12:12:54.999695Z",
     "iopub.status.busy": "2021-12-21T12:12:54.999080Z",
     "iopub.status.idle": "2021-12-21T12:12:55.002006Z",
     "shell.execute_reply": "2021-12-21T12:12:55.001387Z"
    },
    "papermill": {
     "duration": 0.047456,
     "end_time": "2021-12-21T12:12:55.002136",
     "exception": false,
     "start_time": "2021-12-21T12:12:54.954680",
     "status": "completed"
    },
    "tags": []
   },
   "outputs": [],
   "source": [
    "#hide\n",
    "def get_frame(name):\n",
    "    url = (\n",
    "        'https://raw.githubusercontent.com/CSSEGISandData/COVID-19/master/csse_covid_19_data/'\n",
    "        f'csse_covid_19_time_series/time_series_covid19_{name}_global.csv')\n",
    "    df = pd.read_csv(url)\n",
    "    # rename countries\n",
    "    df['Country/Region'] = df['Country/Region'].replace(mapping['replace.country'])\n",
    "    return df"
   ]
  },
  {
   "cell_type": "code",
   "execution_count": 8,
   "id": "affiliated-characterization",
   "metadata": {
    "execution": {
     "iopub.execute_input": "2021-12-21T12:12:55.092824Z",
     "iopub.status.busy": "2021-12-21T12:12:55.091942Z",
     "iopub.status.idle": "2021-12-21T12:12:55.093970Z",
     "shell.execute_reply": "2021-12-21T12:12:55.093422Z"
    },
    "papermill": {
     "duration": 0.056008,
     "end_time": "2021-12-21T12:12:55.094093",
     "exception": false,
     "start_time": "2021-12-21T12:12:55.038085",
     "status": "completed"
    },
    "tags": []
   },
   "outputs": [],
   "source": [
    "#hide\n",
    "def get_dates(df):\n",
    "    dt_cols = df.columns[~df.columns.isin(['Province/State', 'Country/Region', 'Lat', 'Long'])]\n",
    "    LAST_DATE_I = -1\n",
    "    # sometimes last column may be empty, then go backwards\n",
    "    for i in range(-1, -len(dt_cols), -1):\n",
    "        if not df[dt_cols[i]].fillna(0).eq(0).all():\n",
    "            LAST_DATE_I = i\n",
    "            break\n",
    "    return LAST_DATE_I, dt_cols"
   ]
  },
  {
   "cell_type": "code",
   "execution_count": 9,
   "id": "recent-optimization",
   "metadata": {
    "execution": {
     "iopub.execute_input": "2021-12-21T12:12:55.175514Z",
     "iopub.status.busy": "2021-12-21T12:12:55.174883Z",
     "iopub.status.idle": "2021-12-21T12:12:55.558764Z",
     "shell.execute_reply": "2021-12-21T12:12:55.559291Z"
    },
    "papermill": {
     "duration": 0.42635,
     "end_time": "2021-12-21T12:12:55.559451",
     "exception": false,
     "start_time": "2021-12-21T12:12:55.133101",
     "status": "completed"
    },
    "tags": []
   },
   "outputs": [],
   "source": [
    "#hide\n",
    "COL_REGION = 'Country/Region'\n",
    "# Confirmed, Recovered, Deaths\n",
    "df = get_frame('confirmed')\n",
    "# dft_: timeseries, dfc_: today country agg\n",
    "dft_cases = df\n",
    "dft_deaths = get_frame('deaths')\n",
    "dft_recovered = get_frame('recovered')\n",
    "LAST_DATE_I, dt_cols = get_dates(df)"
   ]
  },
  {
   "cell_type": "code",
   "execution_count": 10,
   "id": "absolute-copper",
   "metadata": {
    "execution": {
     "iopub.execute_input": "2021-12-21T12:12:55.639552Z",
     "iopub.status.busy": "2021-12-21T12:12:55.638134Z",
     "iopub.status.idle": "2021-12-21T12:12:55.640314Z",
     "shell.execute_reply": "2021-12-21T12:12:55.640844Z"
    },
    "papermill": {
     "duration": 0.045218,
     "end_time": "2021-12-21T12:12:55.641030",
     "exception": false,
     "start_time": "2021-12-21T12:12:55.595812",
     "status": "completed"
    },
    "tags": []
   },
   "outputs": [],
   "source": [
    "#hide\n",
    "LAST_DATE_I, dt_cols = get_dates(df)\n",
    "dt_today =dt_cols[LAST_DATE_I]\n",
    "# dt_5day = dt_cols[LAST_DATE_I - 5]\n",
    "dt_yday = dt_cols[LAST_DATE_I - 1]"
   ]
  },
  {
   "cell_type": "code",
   "execution_count": 11,
   "id": "restricted-sheriff",
   "metadata": {
    "execution": {
     "iopub.execute_input": "2021-12-21T12:12:55.729122Z",
     "iopub.status.busy": "2021-12-21T12:12:55.728434Z",
     "iopub.status.idle": "2021-12-21T12:12:55.736322Z",
     "shell.execute_reply": "2021-12-21T12:12:55.736821Z"
    },
    "papermill": {
     "duration": 0.055813,
     "end_time": "2021-12-21T12:12:55.737023",
     "exception": false,
     "start_time": "2021-12-21T12:12:55.681210",
     "status": "completed"
    },
    "tags": []
   },
   "outputs": [],
   "source": [
    "#hide\n",
    "dfc_cases = dft_cases.groupby(COL_REGION)[dt_today].sum()\n",
    "dfc_deaths = dft_deaths.groupby(COL_REGION)[dt_today].sum()\n",
    "# dfp_cases = dft_cases.groupby(COL_REGION)[dt_5day].sum()\n",
    "# dfp_deaths = dft_deaths.groupby(COL_REGION)[dt_5day].sum()\n",
    "dfp_cases = dft_cases.groupby(COL_REGION)[dt_yday].sum()\n",
    "dfp_deaths = dft_deaths.groupby(COL_REGION)[dt_yday].sum()"
   ]
  },
  {
   "cell_type": "code",
   "execution_count": 12,
   "id": "deluxe-hepatitis",
   "metadata": {
    "execution": {
     "iopub.execute_input": "2021-12-21T12:12:55.834437Z",
     "iopub.status.busy": "2021-12-21T12:12:55.833839Z",
     "iopub.status.idle": "2021-12-21T12:12:55.838992Z",
     "shell.execute_reply": "2021-12-21T12:12:55.839816Z"
    },
    "papermill": {
     "duration": 0.049127,
     "end_time": "2021-12-21T12:12:55.839957",
     "exception": false,
     "start_time": "2021-12-21T12:12:55.790830",
     "status": "completed"
    },
    "tags": []
   },
   "outputs": [],
   "source": [
    "#hide\n",
    "df_table = (pd.DataFrame(dict(Cases = dfc_cases, Deaths = dfc_deaths, PCases = dfp_cases, PDeaths = dfp_deaths))\n",
    "            .sort_values(by = ['Cases','Deaths'], ascending = [False, False])\n",
    "            .reset_index())"
   ]
  },
  {
   "cell_type": "code",
   "execution_count": 13,
   "id": "educational-chancellor",
   "metadata": {
    "execution": {
     "iopub.execute_input": "2021-12-21T12:12:55.939710Z",
     "iopub.status.busy": "2021-12-21T12:12:55.938790Z",
     "iopub.status.idle": "2021-12-21T12:12:55.948479Z",
     "shell.execute_reply": "2021-12-21T12:12:55.949112Z"
    },
    "papermill": {
     "duration": 0.071965,
     "end_time": "2021-12-21T12:12:55.949249",
     "exception": false,
     "start_time": "2021-12-21T12:12:55.877284",
     "status": "completed"
    },
    "tags": []
   },
   "outputs": [
    {
     "data": {
      "text/html": [
       "<div>\n",
       "<style scoped>\n",
       "    .dataframe tbody tr th:only-of-type {\n",
       "        vertical-align: middle;\n",
       "    }\n",
       "\n",
       "    .dataframe tbody tr th {\n",
       "        vertical-align: top;\n",
       "    }\n",
       "\n",
       "    .dataframe thead th {\n",
       "        text-align: right;\n",
       "    }\n",
       "</style>\n",
       "<table border=\"1\" class=\"dataframe\">\n",
       "  <thead>\n",
       "    <tr style=\"text-align: right;\">\n",
       "      <th></th>\n",
       "      <th>Country/Region</th>\n",
       "      <th>Cases</th>\n",
       "      <th>Deaths</th>\n",
       "      <th>PCases</th>\n",
       "      <th>PDeaths</th>\n",
       "      <th>Cases (+)</th>\n",
       "      <th>Deaths (+)</th>\n",
       "      <th>Fatality Rate</th>\n",
       "      <th>Continent</th>\n",
       "    </tr>\n",
       "  </thead>\n",
       "  <tbody>\n",
       "    <tr>\n",
       "      <th>0</th>\n",
       "      <td>US</td>\n",
       "      <td>51100782</td>\n",
       "      <td>807952</td>\n",
       "      <td>50846828</td>\n",
       "      <td>806439</td>\n",
       "      <td>253954</td>\n",
       "      <td>1513</td>\n",
       "      <td>1.58</td>\n",
       "      <td>North America</td>\n",
       "    </tr>\n",
       "    <tr>\n",
       "      <th>1</th>\n",
       "      <td>India</td>\n",
       "      <td>34752164</td>\n",
       "      <td>478007</td>\n",
       "      <td>34746838</td>\n",
       "      <td>477554</td>\n",
       "      <td>5326</td>\n",
       "      <td>453</td>\n",
       "      <td>1.38</td>\n",
       "      <td>Asia</td>\n",
       "    </tr>\n",
       "    <tr>\n",
       "      <th>2</th>\n",
       "      <td>Brazil</td>\n",
       "      <td>22215856</td>\n",
       "      <td>617873</td>\n",
       "      <td>22213762</td>\n",
       "      <td>617803</td>\n",
       "      <td>2094</td>\n",
       "      <td>70</td>\n",
       "      <td>2.78</td>\n",
       "      <td>South America</td>\n",
       "    </tr>\n",
       "    <tr>\n",
       "      <th>3</th>\n",
       "      <td>United Kingdom</td>\n",
       "      <td>11518255</td>\n",
       "      <td>147723</td>\n",
       "      <td>11425657</td>\n",
       "      <td>147679</td>\n",
       "      <td>92598</td>\n",
       "      <td>44</td>\n",
       "      <td>1.28</td>\n",
       "      <td>Europe</td>\n",
       "    </tr>\n",
       "    <tr>\n",
       "      <th>4</th>\n",
       "      <td>Russia</td>\n",
       "      <td>10064290</td>\n",
       "      <td>292331</td>\n",
       "      <td>10037546</td>\n",
       "      <td>291336</td>\n",
       "      <td>26744</td>\n",
       "      <td>995</td>\n",
       "      <td>2.90</td>\n",
       "      <td>Europe</td>\n",
       "    </tr>\n",
       "  </tbody>\n",
       "</table>\n",
       "</div>"
      ],
      "text/plain": [
       "   Country/Region     Cases  Deaths    PCases  PDeaths  Cases (+)  Deaths (+)  \\\n",
       "0              US  51100782  807952  50846828   806439     253954        1513   \n",
       "1           India  34752164  478007  34746838   477554       5326         453   \n",
       "2          Brazil  22215856  617873  22213762   617803       2094          70   \n",
       "3  United Kingdom  11518255  147723  11425657   147679      92598          44   \n",
       "4          Russia  10064290  292331  10037546   291336      26744         995   \n",
       "\n",
       "   Fatality Rate      Continent  \n",
       "0           1.58  North America  \n",
       "1           1.38           Asia  \n",
       "2           2.78  South America  \n",
       "3           1.28         Europe  \n",
       "4           2.90         Europe  "
      ]
     },
     "execution_count": 13,
     "metadata": {},
     "output_type": "execute_result"
    }
   ],
   "source": [
    "#hide\n",
    "for c in 'Cases, Deaths'.split(', '):\n",
    "    df_table[f'{c} (+)'] = (df_table[c] - df_table[f'P{c}']).clip(0)\n",
    "    #Clip ça veut dire, les chiffres negatif sont interdit\n",
    "df_table['Fatality Rate'] = (100* df_table['Deaths']/ df_table['Cases']).round(2)\n",
    "df_table['Continent'] = df_table['Country/Region'].map(mapping['map.continent'])\n",
    "df_table.head(5)"
   ]
  },
  {
   "cell_type": "code",
   "execution_count": 14,
   "id": "aboriginal-bulgaria",
   "metadata": {
    "execution": {
     "iopub.execute_input": "2021-12-21T12:12:56.029579Z",
     "iopub.status.busy": "2021-12-21T12:12:56.029004Z",
     "iopub.status.idle": "2021-12-21T12:12:56.032186Z",
     "shell.execute_reply": "2021-12-21T12:12:56.032899Z"
    },
    "papermill": {
     "duration": 0.046849,
     "end_time": "2021-12-21T12:12:56.033026",
     "exception": false,
     "start_time": "2021-12-21T12:12:55.986177",
     "status": "completed"
    },
    "tags": []
   },
   "outputs": [],
   "source": [
    "#hide\n",
    "#delete problematic countries from table\n",
    "df_table = df_table[~df_table['Country/Region'].isin(['Cape Verde', 'Cruise Ship', 'Kosovo'])]"
   ]
  },
  {
   "cell_type": "code",
   "execution_count": 15,
   "id": "fantastic-effect",
   "metadata": {
    "execution": {
     "iopub.execute_input": "2021-12-21T12:12:56.117812Z",
     "iopub.status.busy": "2021-12-21T12:12:56.117154Z",
     "iopub.status.idle": "2021-12-21T12:12:56.141775Z",
     "shell.execute_reply": "2021-12-21T12:12:56.141261Z"
    },
    "papermill": {
     "duration": 0.069697,
     "end_time": "2021-12-21T12:12:56.141904",
     "exception": false,
     "start_time": "2021-12-21T12:12:56.072207",
     "status": "completed"
    },
    "tags": []
   },
   "outputs": [
    {
     "data": {
      "text/html": [
       "<div>\n",
       "<style scoped>\n",
       "    .dataframe tbody tr th:only-of-type {\n",
       "        vertical-align: middle;\n",
       "    }\n",
       "\n",
       "    .dataframe tbody tr th {\n",
       "        vertical-align: top;\n",
       "    }\n",
       "\n",
       "    .dataframe thead th {\n",
       "        text-align: right;\n",
       "    }\n",
       "</style>\n",
       "<table border=\"1\" class=\"dataframe\">\n",
       "  <thead>\n",
       "    <tr style=\"text-align: right;\">\n",
       "      <th></th>\n",
       "      <th>Country/Region</th>\n",
       "      <th>Cases</th>\n",
       "      <th>Deaths</th>\n",
       "      <th>PCases</th>\n",
       "      <th>PDeaths</th>\n",
       "      <th>Cases (+)</th>\n",
       "      <th>Deaths (+)</th>\n",
       "      <th>Fatality Rate</th>\n",
       "      <th>Continent</th>\n",
       "    </tr>\n",
       "  </thead>\n",
       "  <tbody>\n",
       "    <tr>\n",
       "      <th>0</th>\n",
       "      <td>US</td>\n",
       "      <td>51100782</td>\n",
       "      <td>807952</td>\n",
       "      <td>50846828</td>\n",
       "      <td>806439</td>\n",
       "      <td>253954</td>\n",
       "      <td>1513</td>\n",
       "      <td>1.6</td>\n",
       "      <td>North America</td>\n",
       "    </tr>\n",
       "    <tr>\n",
       "      <th>1</th>\n",
       "      <td>India</td>\n",
       "      <td>34752164</td>\n",
       "      <td>478007</td>\n",
       "      <td>34746838</td>\n",
       "      <td>477554</td>\n",
       "      <td>5326</td>\n",
       "      <td>453</td>\n",
       "      <td>1.4</td>\n",
       "      <td>Asia</td>\n",
       "    </tr>\n",
       "    <tr>\n",
       "      <th>2</th>\n",
       "      <td>Brazil</td>\n",
       "      <td>22215856</td>\n",
       "      <td>617873</td>\n",
       "      <td>22213762</td>\n",
       "      <td>617803</td>\n",
       "      <td>2094</td>\n",
       "      <td>70</td>\n",
       "      <td>2.8</td>\n",
       "      <td>South America</td>\n",
       "    </tr>\n",
       "    <tr>\n",
       "      <th>3</th>\n",
       "      <td>United Kingdom</td>\n",
       "      <td>11518255</td>\n",
       "      <td>147723</td>\n",
       "      <td>11425657</td>\n",
       "      <td>147679</td>\n",
       "      <td>92598</td>\n",
       "      <td>44</td>\n",
       "      <td>1.3</td>\n",
       "      <td>Europe</td>\n",
       "    </tr>\n",
       "    <tr>\n",
       "      <th>4</th>\n",
       "      <td>Russia</td>\n",
       "      <td>10064290</td>\n",
       "      <td>292331</td>\n",
       "      <td>10037546</td>\n",
       "      <td>291336</td>\n",
       "      <td>26744</td>\n",
       "      <td>995</td>\n",
       "      <td>2.9</td>\n",
       "      <td>Europe</td>\n",
       "    </tr>\n",
       "  </tbody>\n",
       "</table>\n",
       "</div>"
      ],
      "text/plain": [
       "   Country/Region     Cases  Deaths    PCases  PDeaths  Cases (+)  Deaths (+)  \\\n",
       "0              US  51100782  807952  50846828   806439     253954        1513   \n",
       "1           India  34752164  478007  34746838   477554       5326         453   \n",
       "2          Brazil  22215856  617873  22213762   617803       2094          70   \n",
       "3  United Kingdom  11518255  147723  11425657   147679      92598          44   \n",
       "4          Russia  10064290  292331  10037546   291336      26744         995   \n",
       "\n",
       "   Fatality Rate      Continent  \n",
       "0            1.6  North America  \n",
       "1            1.4           Asia  \n",
       "2            2.8  South America  \n",
       "3            1.3         Europe  \n",
       "4            2.9         Europe  "
      ]
     },
     "execution_count": 15,
     "metadata": {},
     "output_type": "execute_result"
    }
   ],
   "source": [
    "#hide\n",
    "df_table = (pd.DataFrame(dict(Cases=dfc_cases, Deaths=dfc_deaths, PCases=dfp_cases, PDeaths=dfp_deaths))\n",
    "             .sort_values(by=['Cases', 'Deaths'], ascending=[False, False])\n",
    "             .reset_index())\n",
    "df_table.rename(columns={'index': 'Country/Region'}, inplace=True)\n",
    "for c in 'Cases, Deaths'.split(', '):\n",
    "    df_table[f'{c} (+)'] = (df_table[c] - df_table[f'P{c}']).clip(0)  # DATA BUG\n",
    "df_table['Fatality Rate'] = (100 * df_table['Deaths'] / df_table['Cases']).round(1)\n",
    "df_table['Continent'] = df_table['Country/Region'].map(mapping['map.continent'])\n",
    "df_table.head(5)"
   ]
  },
  {
   "cell_type": "code",
   "execution_count": 16,
   "id": "fewer-occasion",
   "metadata": {
    "execution": {
     "iopub.execute_input": "2021-12-21T12:12:56.229119Z",
     "iopub.status.busy": "2021-12-21T12:12:56.228224Z",
     "iopub.status.idle": "2021-12-21T12:12:56.231703Z",
     "shell.execute_reply": "2021-12-21T12:12:56.231163Z"
    },
    "papermill": {
     "duration": 0.052838,
     "end_time": "2021-12-21T12:12:56.231841",
     "exception": false,
     "start_time": "2021-12-21T12:12:56.179003",
     "status": "completed"
    },
    "tags": []
   },
   "outputs": [],
   "source": [
    "#hide\n",
    "#delete problematic countries from table\n",
    "df_table = df_table[~df_table['Country/Region'].isin(['Cape Verde', 'Cruise Ship', 'Kosovo'])]"
   ]
  },
  {
   "cell_type": "code",
   "execution_count": 17,
   "id": "related-center",
   "metadata": {
    "execution": {
     "iopub.execute_input": "2021-12-21T12:12:56.333326Z",
     "iopub.status.busy": "2021-12-21T12:12:56.332529Z",
     "iopub.status.idle": "2021-12-21T12:12:56.343584Z",
     "shell.execute_reply": "2021-12-21T12:12:56.344084Z"
    },
    "papermill": {
     "duration": 0.069259,
     "end_time": "2021-12-21T12:12:56.344232",
     "exception": false,
     "start_time": "2021-12-21T12:12:56.274973",
     "status": "completed"
    },
    "tags": []
   },
   "outputs": [],
   "source": [
    "#hide\n",
    "metrics = [df_table.columns[index] for index in [1,2,5,6]]\n",
    "# s_china = df_table[df_table['Country/Region'].eq('China')][metrics].sum().add_prefix('China ')\n",
    "s_us = df_table[df_table['Country/Region'].eq('US')][metrics].sum().add_prefix('US ')\n",
    "s_eu = df_table[df_table['Continent'].eq('Europe')][metrics].sum().add_prefix('EU ')\n",
    "s_ind = df_table[df_table['Country/Region'].eq('India')][metrics].sum().add_prefix('India ')\n",
    "summary = {'updated': pd.to_datetime(dt_today), 'since': pd.to_datetime(dt_yday)}\n",
    "summary = {'updated': pd.to_datetime(dt_today), 'since': pd.to_datetime(dt_yday)}\n",
    "summary = {**summary, **df_table[metrics].sum(), **s_ind, **s_us, **s_eu}"
   ]
  },
  {
   "cell_type": "code",
   "execution_count": 18,
   "id": "engaging-syndrome",
   "metadata": {
    "execution": {
     "iopub.execute_input": "2021-12-21T12:12:56.431392Z",
     "iopub.status.busy": "2021-12-21T12:12:56.430550Z",
     "iopub.status.idle": "2021-12-21T12:12:56.445982Z",
     "shell.execute_reply": "2021-12-21T12:12:56.446682Z"
    },
    "papermill": {
     "duration": 0.062397,
     "end_time": "2021-12-21T12:12:56.446855",
     "exception": false,
     "start_time": "2021-12-21T12:12:56.384458",
     "status": "completed"
    },
    "tags": []
   },
   "outputs": [],
   "source": [
    "#hide\n",
    "dft_ct_new_cases = dft_cases.groupby(COL_REGION)[dt_cols].sum().diff(axis=1).fillna(0).astype(int)"
   ]
  },
  {
   "cell_type": "code",
   "execution_count": 19,
   "id": "neutral-assignment",
   "metadata": {
    "execution": {
     "iopub.execute_input": "2021-12-21T12:12:56.534382Z",
     "iopub.status.busy": "2021-12-21T12:12:56.533732Z",
     "iopub.status.idle": "2021-12-21T12:12:56.535761Z",
     "shell.execute_reply": "2021-12-21T12:12:56.536546Z"
    },
    "papermill": {
     "duration": 0.047977,
     "end_time": "2021-12-21T12:12:56.536708",
     "exception": false,
     "start_time": "2021-12-21T12:12:56.488731",
     "status": "completed"
    },
    "tags": []
   },
   "outputs": [],
   "source": [
    "#hide\n",
    "everydaycases = dft_ct_new_cases.cumsum(axis=1)"
   ]
  },
  {
   "cell_type": "code",
   "execution_count": 20,
   "id": "parliamentary-calgary",
   "metadata": {
    "execution": {
     "iopub.execute_input": "2021-12-21T12:12:56.617904Z",
     "iopub.status.busy": "2021-12-21T12:12:56.616698Z",
     "iopub.status.idle": "2021-12-21T12:12:57.323832Z",
     "shell.execute_reply": "2021-12-21T12:12:57.323193Z"
    },
    "papermill": {
     "duration": 0.750341,
     "end_time": "2021-12-21T12:12:57.323985",
     "exception": false,
     "start_time": "2021-12-21T12:12:56.573644",
     "status": "completed"
    },
    "tags": []
   },
   "outputs": [],
   "source": [
    "#hide\n",
    "import pandas as pd\n",
    "import matplotlib.pyplot as plt\n",
    "import matplotlib.ticker as ticker\n",
    "import matplotlib.animation as animation\n",
    "from IPython.display import HTML"
   ]
  },
  {
   "cell_type": "code",
   "execution_count": 21,
   "id": "lasting-extraction",
   "metadata": {
    "execution": {
     "iopub.execute_input": "2021-12-21T12:12:57.408336Z",
     "iopub.status.busy": "2021-12-21T12:12:57.407720Z",
     "iopub.status.idle": "2021-12-21T12:12:57.415365Z",
     "shell.execute_reply": "2021-12-21T12:12:57.416124Z"
    },
    "papermill": {
     "duration": 0.052967,
     "end_time": "2021-12-21T12:12:57.416314",
     "exception": false,
     "start_time": "2021-12-21T12:12:57.363347",
     "status": "completed"
    },
    "tags": []
   },
   "outputs": [],
   "source": [
    "#hide\n",
    "t = everydaycases.stack()"
   ]
  },
  {
   "cell_type": "code",
   "execution_count": 22,
   "id": "premier-sleeve",
   "metadata": {
    "execution": {
     "iopub.execute_input": "2021-12-21T12:12:57.498801Z",
     "iopub.status.busy": "2021-12-21T12:12:57.496640Z",
     "iopub.status.idle": "2021-12-21T12:12:57.511203Z",
     "shell.execute_reply": "2021-12-21T12:12:57.510595Z"
    },
    "papermill": {
     "duration": 0.058994,
     "end_time": "2021-12-21T12:12:57.511350",
     "exception": false,
     "start_time": "2021-12-21T12:12:57.452356",
     "status": "completed"
    },
    "tags": []
   },
   "outputs": [],
   "source": [
    "#hide\n",
    "g = t.reset_index(['Country/Region'])"
   ]
  },
  {
   "cell_type": "code",
   "execution_count": 23,
   "id": "distributed-pittsburgh",
   "metadata": {
    "execution": {
     "iopub.execute_input": "2021-12-21T12:12:57.594023Z",
     "iopub.status.busy": "2021-12-21T12:12:57.593332Z",
     "iopub.status.idle": "2021-12-21T12:12:57.595892Z",
     "shell.execute_reply": "2021-12-21T12:12:57.595368Z"
    },
    "papermill": {
     "duration": 0.045968,
     "end_time": "2021-12-21T12:12:57.596023",
     "exception": false,
     "start_time": "2021-12-21T12:12:57.550055",
     "status": "completed"
    },
    "tags": []
   },
   "outputs": [],
   "source": [
    "#hide\n",
    "g.index.name = 'date'"
   ]
  },
  {
   "cell_type": "code",
   "execution_count": 24,
   "id": "naked-donor",
   "metadata": {
    "execution": {
     "iopub.execute_input": "2021-12-21T12:12:57.678379Z",
     "iopub.status.busy": "2021-12-21T12:12:57.677674Z",
     "iopub.status.idle": "2021-12-21T12:12:57.682413Z",
     "shell.execute_reply": "2021-12-21T12:12:57.681907Z"
    },
    "papermill": {
     "duration": 0.045692,
     "end_time": "2021-12-21T12:12:57.682553",
     "exception": false,
     "start_time": "2021-12-21T12:12:57.636861",
     "status": "completed"
    },
    "tags": []
   },
   "outputs": [],
   "source": [
    "# #hide\n",
    "# g = g.reset_index(['date'])"
   ]
  },
  {
   "cell_type": "code",
   "execution_count": 25,
   "id": "incomplete-mustang",
   "metadata": {
    "execution": {
     "iopub.execute_input": "2021-12-21T12:12:57.765321Z",
     "iopub.status.busy": "2021-12-21T12:12:57.763922Z",
     "iopub.status.idle": "2021-12-21T12:12:57.765994Z",
     "shell.execute_reply": "2021-12-21T12:12:57.766620Z"
    },
    "papermill": {
     "duration": 0.044952,
     "end_time": "2021-12-21T12:12:57.766751",
     "exception": false,
     "start_time": "2021-12-21T12:12:57.721799",
     "status": "completed"
    },
    "tags": []
   },
   "outputs": [],
   "source": [
    "#hide\n",
    "# g.head()"
   ]
  },
  {
   "cell_type": "code",
   "execution_count": 26,
   "id": "specific-kruger",
   "metadata": {
    "execution": {
     "iopub.execute_input": "2021-12-21T12:12:57.850177Z",
     "iopub.status.busy": "2021-12-21T12:12:57.849500Z",
     "iopub.status.idle": "2021-12-21T12:12:57.851702Z",
     "shell.execute_reply": "2021-12-21T12:12:57.850955Z"
    },
    "papermill": {
     "duration": 0.046676,
     "end_time": "2021-12-21T12:12:57.851925",
     "exception": false,
     "start_time": "2021-12-21T12:12:57.805249",
     "status": "completed"
    },
    "tags": []
   },
   "outputs": [],
   "source": [
    "#hide\n",
    "# g.columns = ['date','country','cases']"
   ]
  },
  {
   "cell_type": "code",
   "execution_count": 27,
   "id": "tender-conversion",
   "metadata": {
    "execution": {
     "iopub.execute_input": "2021-12-21T12:12:57.929376Z",
     "iopub.status.busy": "2021-12-21T12:12:57.928589Z",
     "iopub.status.idle": "2021-12-21T12:12:57.931254Z",
     "shell.execute_reply": "2021-12-21T12:12:57.930641Z"
    },
    "papermill": {
     "duration": 0.042494,
     "end_time": "2021-12-21T12:12:57.931403",
     "exception": false,
     "start_time": "2021-12-21T12:12:57.888909",
     "status": "completed"
    },
    "tags": []
   },
   "outputs": [],
   "source": [
    "#hide\n",
    "# g['continent'] = g.country"
   ]
  },
  {
   "cell_type": "code",
   "execution_count": 28,
   "id": "substantial-wilderness",
   "metadata": {
    "execution": {
     "iopub.execute_input": "2021-12-21T12:12:58.012323Z",
     "iopub.status.busy": "2021-12-21T12:12:58.011636Z",
     "iopub.status.idle": "2021-12-21T12:12:58.016106Z",
     "shell.execute_reply": "2021-12-21T12:12:58.015449Z"
    },
    "papermill": {
     "duration": 0.045761,
     "end_time": "2021-12-21T12:12:58.016423",
     "exception": false,
     "start_time": "2021-12-21T12:12:57.970662",
     "status": "completed"
    },
    "tags": []
   },
   "outputs": [],
   "source": [
    "#hide\n",
    "# cols = list(g.columns.values)"
   ]
  },
  {
   "cell_type": "code",
   "execution_count": 29,
   "id": "solved-farming",
   "metadata": {
    "execution": {
     "iopub.execute_input": "2021-12-21T12:12:58.110027Z",
     "iopub.status.busy": "2021-12-21T12:12:58.109397Z",
     "iopub.status.idle": "2021-12-21T12:12:58.111857Z",
     "shell.execute_reply": "2021-12-21T12:12:58.111199Z"
    },
    "papermill": {
     "duration": 0.046746,
     "end_time": "2021-12-21T12:12:58.111979",
     "exception": false,
     "start_time": "2021-12-21T12:12:58.065233",
     "status": "completed"
    },
    "tags": []
   },
   "outputs": [],
   "source": [
    "#hide\n",
    "# cols.insert(0, cols.pop())"
   ]
  },
  {
   "cell_type": "code",
   "execution_count": 30,
   "id": "executed-adoption",
   "metadata": {
    "execution": {
     "iopub.execute_input": "2021-12-21T12:12:58.189634Z",
     "iopub.status.busy": "2021-12-21T12:12:58.189010Z",
     "iopub.status.idle": "2021-12-21T12:12:58.192742Z",
     "shell.execute_reply": "2021-12-21T12:12:58.193237Z"
    },
    "papermill": {
     "duration": 0.044422,
     "end_time": "2021-12-21T12:12:58.193429",
     "exception": false,
     "start_time": "2021-12-21T12:12:58.149007",
     "status": "completed"
    },
    "tags": []
   },
   "outputs": [],
   "source": [
    "#hide\n",
    "# g = g[cols]"
   ]
  },
  {
   "cell_type": "code",
   "execution_count": 31,
   "id": "subject-dublin",
   "metadata": {
    "execution": {
     "iopub.execute_input": "2021-12-21T12:12:58.276158Z",
     "iopub.status.busy": "2021-12-21T12:12:58.275319Z",
     "iopub.status.idle": "2021-12-21T12:12:58.277857Z",
     "shell.execute_reply": "2021-12-21T12:12:58.277141Z"
    },
    "papermill": {
     "duration": 0.044959,
     "end_time": "2021-12-21T12:12:58.277984",
     "exception": false,
     "start_time": "2021-12-21T12:12:58.233025",
     "status": "completed"
    },
    "tags": []
   },
   "outputs": [],
   "source": [
    "#hide\n",
    "# g['continent'] = g['continent'].map(mapping['map.continent'])"
   ]
  },
  {
   "cell_type": "code",
   "execution_count": 32,
   "id": "freelance-scout",
   "metadata": {
    "execution": {
     "iopub.execute_input": "2021-12-21T12:12:58.361006Z",
     "iopub.status.busy": "2021-12-21T12:12:58.360336Z",
     "iopub.status.idle": "2021-12-21T12:12:58.362643Z",
     "shell.execute_reply": "2021-12-21T12:12:58.362038Z"
    },
    "papermill": {
     "duration": 0.04699,
     "end_time": "2021-12-21T12:12:58.362767",
     "exception": false,
     "start_time": "2021-12-21T12:12:58.315777",
     "status": "completed"
    },
    "tags": []
   },
   "outputs": [],
   "source": [
    "#hide\n",
    "# g.head()"
   ]
  },
  {
   "cell_type": "code",
   "execution_count": 33,
   "id": "limited-engine",
   "metadata": {
    "execution": {
     "iopub.execute_input": "2021-12-21T12:12:58.446698Z",
     "iopub.status.busy": "2021-12-21T12:12:58.445996Z",
     "iopub.status.idle": "2021-12-21T12:12:58.450192Z",
     "shell.execute_reply": "2021-12-21T12:12:58.450735Z"
    },
    "papermill": {
     "duration": 0.049262,
     "end_time": "2021-12-21T12:12:58.450883",
     "exception": false,
     "start_time": "2021-12-21T12:12:58.401621",
     "status": "completed"
    },
    "tags": []
   },
   "outputs": [],
   "source": [
    "# hide\n",
    "# g['date'] = g['date'].astype('datetime64[ns]')"
   ]
  },
  {
   "cell_type": "code",
   "execution_count": 34,
   "id": "sophisticated-supervisor",
   "metadata": {
    "execution": {
     "iopub.execute_input": "2021-12-21T12:12:58.531621Z",
     "iopub.status.busy": "2021-12-21T12:12:58.530982Z",
     "iopub.status.idle": "2021-12-21T12:12:58.533101Z",
     "shell.execute_reply": "2021-12-21T12:12:58.532465Z"
    },
    "papermill": {
     "duration": 0.044369,
     "end_time": "2021-12-21T12:12:58.533241",
     "exception": false,
     "start_time": "2021-12-21T12:12:58.488872",
     "status": "completed"
    },
    "tags": []
   },
   "outputs": [],
   "source": [
    "#hide\n",
    "# g['date'] = g.date.dt.dayofyear"
   ]
  },
  {
   "cell_type": "code",
   "execution_count": 35,
   "id": "inside-dubai",
   "metadata": {
    "execution": {
     "iopub.execute_input": "2021-12-21T12:12:58.618118Z",
     "iopub.status.busy": "2021-12-21T12:12:58.617459Z",
     "iopub.status.idle": "2021-12-21T12:12:58.619411Z",
     "shell.execute_reply": "2021-12-21T12:12:58.620040Z"
    },
    "papermill": {
     "duration": 0.046361,
     "end_time": "2021-12-21T12:12:58.620191",
     "exception": false,
     "start_time": "2021-12-21T12:12:58.573830",
     "status": "completed"
    },
    "tags": []
   },
   "outputs": [],
   "source": [
    "#hide\n",
    "# g = g.rename(columns= {'continent':'group','country':'name','cases':'value'})"
   ]
  },
  {
   "cell_type": "code",
   "execution_count": 36,
   "id": "fleet-motorcycle",
   "metadata": {
    "execution": {
     "iopub.execute_input": "2021-12-21T12:12:58.703699Z",
     "iopub.status.busy": "2021-12-21T12:12:58.703014Z",
     "iopub.status.idle": "2021-12-21T12:12:58.706746Z",
     "shell.execute_reply": "2021-12-21T12:12:58.707193Z"
    },
    "papermill": {
     "duration": 0.047263,
     "end_time": "2021-12-21T12:12:58.707348",
     "exception": false,
     "start_time": "2021-12-21T12:12:58.660085",
     "status": "completed"
    },
    "tags": []
   },
   "outputs": [],
   "source": [
    "#hide\n",
    "# cols = ['name','group','day','value']"
   ]
  },
  {
   "cell_type": "code",
   "execution_count": 37,
   "id": "continued-sleeping",
   "metadata": {
    "execution": {
     "iopub.execute_input": "2021-12-21T12:12:58.792259Z",
     "iopub.status.busy": "2021-12-21T12:12:58.791530Z",
     "iopub.status.idle": "2021-12-21T12:12:58.793899Z",
     "shell.execute_reply": "2021-12-21T12:12:58.793266Z"
    },
    "papermill": {
     "duration": 0.04856,
     "end_time": "2021-12-21T12:12:58.794114",
     "exception": false,
     "start_time": "2021-12-21T12:12:58.745554",
     "status": "completed"
    },
    "tags": []
   },
   "outputs": [],
   "source": [
    "#hide\n",
    "# g.rename(columns= {'date':'day'},inplace = True)"
   ]
  },
  {
   "cell_type": "code",
   "execution_count": 38,
   "id": "major-fight",
   "metadata": {
    "execution": {
     "iopub.execute_input": "2021-12-21T12:12:58.872314Z",
     "iopub.status.busy": "2021-12-21T12:12:58.871573Z",
     "iopub.status.idle": "2021-12-21T12:12:58.874279Z",
     "shell.execute_reply": "2021-12-21T12:12:58.873788Z"
    },
    "papermill": {
     "duration": 0.043783,
     "end_time": "2021-12-21T12:12:58.874439",
     "exception": false,
     "start_time": "2021-12-21T12:12:58.830656",
     "status": "completed"
    },
    "tags": []
   },
   "outputs": [],
   "source": [
    "#hide\n",
    "# g = g[cols]"
   ]
  },
  {
   "cell_type": "code",
   "execution_count": 39,
   "id": "structured-mobile",
   "metadata": {
    "execution": {
     "iopub.execute_input": "2021-12-21T12:12:58.969359Z",
     "iopub.status.busy": "2021-12-21T12:12:58.968526Z",
     "iopub.status.idle": "2021-12-21T12:12:58.970629Z",
     "shell.execute_reply": "2021-12-21T12:12:58.970017Z"
    },
    "papermill": {
     "duration": 0.045197,
     "end_time": "2021-12-21T12:12:58.970744",
     "exception": false,
     "start_time": "2021-12-21T12:12:58.925547",
     "status": "completed"
    },
    "tags": []
   },
   "outputs": [],
   "source": [
    "# #hide\n",
    "# g = g[g.group.notna()]"
   ]
  },
  {
   "cell_type": "code",
   "execution_count": 40,
   "id": "determined-closing",
   "metadata": {
    "execution": {
     "iopub.execute_input": "2021-12-21T12:12:59.052182Z",
     "iopub.status.busy": "2021-12-21T12:12:59.051536Z",
     "iopub.status.idle": "2021-12-21T12:12:59.055290Z",
     "shell.execute_reply": "2021-12-21T12:12:59.055981Z"
    },
    "papermill": {
     "duration": 0.046785,
     "end_time": "2021-12-21T12:12:59.056139",
     "exception": false,
     "start_time": "2021-12-21T12:12:59.009354",
     "status": "completed"
    },
    "tags": []
   },
   "outputs": [],
   "source": [
    "# #hide\n",
    "# colors = dict(zip(\n",
    "#     [\"Oceania\", \"Europe\", \"Asia\", \"South America\", \"Middle East\", \"North America\", \"Africa\"],\n",
    "#     [\"#adb0ff\", \"#ffb3ff\", \"#90d595\", \"#e48381\", \"#aafbff\", \"#f7bb5f\", \"#eafb50\"]\n",
    "# ))\n",
    "# group_lk = g.set_index('name')['group'].to_dict()"
   ]
  },
  {
   "cell_type": "code",
   "execution_count": null,
   "id": "gross-drinking",
   "metadata": {
    "papermill": {
     "duration": 0.038507,
     "end_time": "2021-12-21T12:12:59.134694",
     "exception": false,
     "start_time": "2021-12-21T12:12:59.096187",
     "status": "completed"
    },
    "tags": []
   },
   "outputs": [],
   "source": []
  },
  {
   "cell_type": "code",
   "execution_count": 41,
   "id": "subject-macintosh",
   "metadata": {
    "execution": {
     "iopub.execute_input": "2021-12-21T12:12:59.215083Z",
     "iopub.status.busy": "2021-12-21T12:12:59.214249Z",
     "iopub.status.idle": "2021-12-21T12:12:59.217183Z",
     "shell.execute_reply": "2021-12-21T12:12:59.216574Z"
    },
    "papermill": {
     "duration": 0.045464,
     "end_time": "2021-12-21T12:12:59.217313",
     "exception": false,
     "start_time": "2021-12-21T12:12:59.171849",
     "status": "completed"
    },
    "tags": []
   },
   "outputs": [],
   "source": [
    "# #hide\n",
    "# fig, ax = plt.subplots(figsize=(15, 8))\n",
    "\n",
    "# def draw_barchart(current_day):\n",
    "#     dff = g[g['day'].eq(current_day)].sort_values(by='value', ascending=True).tail(10)\n",
    "#     ax.clear()\n",
    "#     ax.barh(dff['name'], dff['value'], color=[colors[group_lk[x]] for x in dff['name']])\n",
    "#     dx = dff['value'].max() / 200\n",
    "    \n",
    "#     for i, (value, name) in enumerate(zip(dff['value'], dff['name'])):\n",
    "#         ax.text(value-dx, i,     name,           size=14, weight=600, ha='right', va='bottom')\n",
    "#         ax.text(value-dx, i-.25, group_lk[name], size=10, color='#444444', ha='right', va='baseline')\n",
    "#         ax.text(value+dx, i,     f'{value:,.0f}',  size=14, ha='left',  va='center')\n",
    "#     ax.text(1, 0.4, current_day, transform=ax.transAxes, color='#777777', size=46, ha='right', weight=800)\n",
    "#     ax.text(0, 1.06, 'Population (thousands)', transform=ax.transAxes, size=12, color='#777777')\n",
    "#     ax.xaxis.set_major_formatter(ticker.StrMethodFormatter('{x:,.0f}'))\n",
    "#     ax.xaxis.set_ticks_position('top')\n",
    "#     ax.tick_params(axis='x', colors='#777777', labelsize=12)\n",
    "#     ax.set_yticks([])\n",
    "#     ax.margins(0, 0.01)\n",
    "#     ax.grid(which='major', axis='x', linestyle='-')\n",
    "#     ax.set_axisbelow(True)\n",
    "    \n",
    "#     ax.text(0, 1.15, 'Coronavirus',\n",
    "#             transform=ax.transAxes, size=24, weight=600, ha='left', va='top')\n",
    "# #     ax.text(1, 0, 'by @pratapvardhan; credit @jburnmurdoch', transform=ax.transAxes, color='#777777', ha='right',\n",
    "# #             bbox=dict(facecolor='white', alpha=0.8, edgecolor='white'))\n",
    "#     plt.box(False)"
   ]
  },
  {
   "cell_type": "code",
   "execution_count": 42,
   "id": "sexual-wages",
   "metadata": {
    "execution": {
     "iopub.execute_input": "2021-12-21T12:12:59.301821Z",
     "iopub.status.busy": "2021-12-21T12:12:59.301128Z",
     "iopub.status.idle": "2021-12-21T12:12:59.304713Z",
     "shell.execute_reply": "2021-12-21T12:12:59.302907Z"
    },
    "papermill": {
     "duration": 0.047093,
     "end_time": "2021-12-21T12:12:59.304857",
     "exception": false,
     "start_time": "2021-12-21T12:12:59.257764",
     "status": "completed"
    },
    "tags": []
   },
   "outputs": [],
   "source": [
    "# #hide_input\n",
    "# fig, ax = plt.subplots(figsize=(15, 8))\n",
    "# animator = animation.FuncAnimation(fig, draw_barchart, frames=range(g.day.values.min(), g.day.values.max()))\n",
    "# HTML(animator.to_jshtml())\n",
    "# # or use animator.to_html5_video() or animator.save() "
   ]
  },
  {
   "cell_type": "code",
   "execution_count": null,
   "id": "australian-container",
   "metadata": {
    "papermill": {
     "duration": 0.039182,
     "end_time": "2021-12-21T12:12:59.385310",
     "exception": false,
     "start_time": "2021-12-21T12:12:59.346128",
     "status": "completed"
    },
    "tags": []
   },
   "outputs": [],
   "source": []
  },
  {
   "cell_type": "code",
   "execution_count": null,
   "id": "mediterranean-pontiac",
   "metadata": {
    "papermill": {
     "duration": 0.041347,
     "end_time": "2021-12-21T12:12:59.466051",
     "exception": false,
     "start_time": "2021-12-21T12:12:59.424704",
     "status": "completed"
    },
    "tags": []
   },
   "outputs": [],
   "source": []
  },
  {
   "cell_type": "code",
   "execution_count": null,
   "id": "aging-legislature",
   "metadata": {
    "papermill": {
     "duration": 0.042592,
     "end_time": "2021-12-21T12:12:59.546982",
     "exception": false,
     "start_time": "2021-12-21T12:12:59.504390",
     "status": "completed"
    },
    "tags": []
   },
   "outputs": [],
   "source": []
  }
 ],
 "metadata": {
  "kernelspec": {
   "display_name": "Python 3",
   "language": "python",
   "name": "python3"
  },
  "language_info": {
   "codemirror_mode": {
    "name": "ipython",
    "version": 3
   },
   "file_extension": ".py",
   "mimetype": "text/x-python",
   "name": "python",
   "nbconvert_exporter": "python",
   "pygments_lexer": "ipython3",
   "version": "3.6.15"
  },
  "papermill": {
   "duration": 7.419477,
   "end_time": "2021-12-21T12:13:00.001519",
   "environment_variables": {},
   "exception": null,
   "input_path": "2020-03-21-covid19exp.ipynb",
   "output_path": "2020-03-21-covid19exp.ipynb",
   "parameters": {},
   "start_time": "2021-12-21T12:12:52.582042",
   "version": "2.0.0"
  }
 },
 "nbformat": 4,
 "nbformat_minor": 5
}