{
 "cells": [
  {
   "cell_type": "markdown",
   "id": "muslim-click",
   "metadata": {
    "papermill": {
     "duration": 0.035921,
     "end_time": "2022-04-13T12:14:49.247860",
     "exception": false,
     "start_time": "2022-04-13T12:14:49.211939",
     "status": "completed"
    },
    "tags": []
   },
   "source": [
    "# COVID-19 Case Race\n",
    "> A race chart to see rising cases around the world\n",
    "\n",
    "- author: Hargun Oberoi\n",
    "- image: images/covid-overview.png\n",
    "- hide: false\n",
    "- badges: false"
   ]
  },
  {
   "cell_type": "code",
   "execution_count": 1,
   "id": "proof-material",
   "metadata": {
    "execution": {
     "iopub.execute_input": "2022-04-13T12:14:49.323298Z",
     "iopub.status.busy": "2022-04-13T12:14:49.322730Z",
     "iopub.status.idle": "2022-04-13T12:14:49.671200Z",
     "shell.execute_reply": "2022-04-13T12:14:49.670092Z"
    },
    "papermill": {
     "duration": 0.3916,
     "end_time": "2022-04-13T12:14:49.671432",
     "exception": false,
     "start_time": "2022-04-13T12:14:49.279832",
     "status": "completed"
    },
    "tags": []
   },
   "outputs": [],
   "source": [
    "#hide\n",
    "import numpy as np\n",
    "import pandas as pd\n",
    "from jinja2 import Template\n",
    "from IPython.display import HTML"
   ]
  },
  {
   "cell_type": "code",
   "execution_count": 2,
   "id": "developed-terminology",
   "metadata": {
    "execution": {
     "iopub.execute_input": "2022-04-13T12:14:49.740039Z",
     "iopub.status.busy": "2022-04-13T12:14:49.738971Z",
     "iopub.status.idle": "2022-04-13T12:14:49.743508Z",
     "shell.execute_reply": "2022-04-13T12:14:49.743967Z"
    },
    "papermill": {
     "duration": 0.043156,
     "end_time": "2022-04-13T12:14:49.744110",
     "exception": false,
     "start_time": "2022-04-13T12:14:49.700954",
     "status": "completed"
    },
    "tags": []
   },
   "outputs": [],
   "source": [
    "#hide\n",
    "\n",
    "# FETCH\n",
    "base_url = 'https://raw.githubusercontent.com/pratapvardhan/notebooks/master/covid19/'\n",
    "paths = {\n",
    "    'mapping': base_url + 'mapping_countries.csv',\n",
    "    'overview': base_url + 'overview.tpl'\n",
    "}"
   ]
  },
  {
   "cell_type": "code",
   "execution_count": 3,
   "id": "dynamic-saver",
   "metadata": {
    "execution": {
     "iopub.execute_input": "2022-04-13T12:14:49.819446Z",
     "iopub.status.busy": "2022-04-13T12:14:49.818876Z",
     "iopub.status.idle": "2022-04-13T12:14:49.822141Z",
     "shell.execute_reply": "2022-04-13T12:14:49.821669Z"
    },
    "papermill": {
     "duration": 0.047167,
     "end_time": "2022-04-13T12:14:49.822254",
     "exception": false,
     "start_time": "2022-04-13T12:14:49.775087",
     "status": "completed"
    },
    "tags": []
   },
   "outputs": [
    {
     "data": {
      "text/plain": [
       "'https://raw.githubusercontent.com/pratapvardhan/notebooks/master/covid19/mapping_countries.csv'"
      ]
     },
     "execution_count": 3,
     "metadata": {},
     "output_type": "execute_result"
    }
   ],
   "source": [
    "#hide\n",
    "paths['mapping']"
   ]
  },
  {
   "cell_type": "code",
   "execution_count": 4,
   "id": "urban-software",
   "metadata": {
    "execution": {
     "iopub.execute_input": "2022-04-13T12:14:49.891319Z",
     "iopub.status.busy": "2022-04-13T12:14:49.890774Z",
     "iopub.status.idle": "2022-04-13T12:14:49.893655Z",
     "shell.execute_reply": "2022-04-13T12:14:49.893186Z"
    },
    "papermill": {
     "duration": 0.040208,
     "end_time": "2022-04-13T12:14:49.893770",
     "exception": false,
     "start_time": "2022-04-13T12:14:49.853562",
     "status": "completed"
    },
    "tags": []
   },
   "outputs": [],
   "source": [
    "#hide\n",
    "def get_mappings(url):\n",
    "    df = pd.read_csv(url)\n",
    "    return {\n",
    "        'df': df,\n",
    "        'replace.country': dict(df.dropna(subset=['Name']).set_index('Country')['Name']),\n",
    "        'map.continent': dict(df.set_index('Name')['Continent'])\n",
    "    }"
   ]
  },
  {
   "cell_type": "code",
   "execution_count": 5,
   "id": "intimate-machinery",
   "metadata": {
    "execution": {
     "iopub.execute_input": "2022-04-13T12:14:49.964187Z",
     "iopub.status.busy": "2022-04-13T12:14:49.963637Z",
     "iopub.status.idle": "2022-04-13T12:14:49.994138Z",
     "shell.execute_reply": "2022-04-13T12:14:49.993204Z"
    },
    "papermill": {
     "duration": 0.068661,
     "end_time": "2022-04-13T12:14:49.994340",
     "exception": false,
     "start_time": "2022-04-13T12:14:49.925679",
     "status": "completed"
    },
    "tags": []
   },
   "outputs": [],
   "source": [
    "#hide\n",
    "mapping = get_mappings(paths['mapping'])"
   ]
  },
  {
   "cell_type": "code",
   "execution_count": 6,
   "id": "certified-tactics",
   "metadata": {
    "execution": {
     "iopub.execute_input": "2022-04-13T12:14:50.062416Z",
     "iopub.status.busy": "2022-04-13T12:14:50.061929Z",
     "iopub.status.idle": "2022-04-13T12:14:50.064436Z",
     "shell.execute_reply": "2022-04-13T12:14:50.064844Z"
    },
    "papermill": {
     "duration": 0.037229,
     "end_time": "2022-04-13T12:14:50.064955",
     "exception": false,
     "start_time": "2022-04-13T12:14:50.027726",
     "status": "completed"
    },
    "tags": []
   },
   "outputs": [],
   "source": [
    "#hide\n",
    "def get_template(path):\n",
    "    from urllib.parse import urlparse\n",
    "    if bool(urlparse(path).netloc):\n",
    "        from urllib.request import urlopen\n",
    "        return urlopen(path).read().decode('utf8')\n",
    "    return open(path).read()"
   ]
  },
  {
   "cell_type": "code",
   "execution_count": 7,
   "id": "realistic-blast",
   "metadata": {
    "execution": {
     "iopub.execute_input": "2022-04-13T12:14:50.131122Z",
     "iopub.status.busy": "2022-04-13T12:14:50.130640Z",
     "iopub.status.idle": "2022-04-13T12:14:50.132993Z",
     "shell.execute_reply": "2022-04-13T12:14:50.133553Z"
    },
    "papermill": {
     "duration": 0.038826,
     "end_time": "2022-04-13T12:14:50.133695",
     "exception": false,
     "start_time": "2022-04-13T12:14:50.094869",
     "status": "completed"
    },
    "tags": []
   },
   "outputs": [],
   "source": [
    "#hide\n",
    "def get_frame(name):\n",
    "    url = (\n",
    "        'https://raw.githubusercontent.com/CSSEGISandData/COVID-19/master/csse_covid_19_data/'\n",
    "        f'csse_covid_19_time_series/time_series_covid19_{name}_global.csv')\n",
    "    df = pd.read_csv(url)\n",
    "    # rename countries\n",
    "    df['Country/Region'] = df['Country/Region'].replace(mapping['replace.country'])\n",
    "    return df"
   ]
  },
  {
   "cell_type": "code",
   "execution_count": 8,
   "id": "affiliated-characterization",
   "metadata": {
    "execution": {
     "iopub.execute_input": "2022-04-13T12:14:50.198071Z",
     "iopub.status.busy": "2022-04-13T12:14:50.197117Z",
     "iopub.status.idle": "2022-04-13T12:14:50.199909Z",
     "shell.execute_reply": "2022-04-13T12:14:50.200353Z"
    },
    "papermill": {
     "duration": 0.038551,
     "end_time": "2022-04-13T12:14:50.200486",
     "exception": false,
     "start_time": "2022-04-13T12:14:50.161935",
     "status": "completed"
    },
    "tags": []
   },
   "outputs": [],
   "source": [
    "#hide\n",
    "def get_dates(df):\n",
    "    dt_cols = df.columns[~df.columns.isin(['Province/State', 'Country/Region', 'Lat', 'Long'])]\n",
    "    LAST_DATE_I = -1\n",
    "    # sometimes last column may be empty, then go backwards\n",
    "    for i in range(-1, -len(dt_cols), -1):\n",
    "        if not df[dt_cols[i]].fillna(0).eq(0).all():\n",
    "            LAST_DATE_I = i\n",
    "            break\n",
    "    return LAST_DATE_I, dt_cols"
   ]
  },
  {
   "cell_type": "code",
   "execution_count": 9,
   "id": "recent-optimization",
   "metadata": {
    "execution": {
     "iopub.execute_input": "2022-04-13T12:14:50.272480Z",
     "iopub.status.busy": "2022-04-13T12:14:50.271863Z",
     "iopub.status.idle": "2022-04-13T12:14:50.631926Z",
     "shell.execute_reply": "2022-04-13T12:14:50.631047Z"
    },
    "papermill": {
     "duration": 0.398636,
     "end_time": "2022-04-13T12:14:50.632147",
     "exception": false,
     "start_time": "2022-04-13T12:14:50.233511",
     "status": "completed"
    },
    "tags": []
   },
   "outputs": [],
   "source": [
    "#hide\n",
    "COL_REGION = 'Country/Region'\n",
    "# Confirmed, Recovered, Deaths\n",
    "df = get_frame('confirmed')\n",
    "# dft_: timeseries, dfc_: today country agg\n",
    "dft_cases = df\n",
    "dft_deaths = get_frame('deaths')\n",
    "dft_recovered = get_frame('recovered')\n",
    "LAST_DATE_I, dt_cols = get_dates(df)"
   ]
  },
  {
   "cell_type": "code",
   "execution_count": 10,
   "id": "absolute-copper",
   "metadata": {
    "execution": {
     "iopub.execute_input": "2022-04-13T12:14:50.703201Z",
     "iopub.status.busy": "2022-04-13T12:14:50.702149Z",
     "iopub.status.idle": "2022-04-13T12:14:50.706572Z",
     "shell.execute_reply": "2022-04-13T12:14:50.706097Z"
    },
    "papermill": {
     "duration": 0.043002,
     "end_time": "2022-04-13T12:14:50.706695",
     "exception": false,
     "start_time": "2022-04-13T12:14:50.663693",
     "status": "completed"
    },
    "tags": []
   },
   "outputs": [],
   "source": [
    "#hide\n",
    "LAST_DATE_I, dt_cols = get_dates(df)\n",
    "dt_today =dt_cols[LAST_DATE_I]\n",
    "# dt_5day = dt_cols[LAST_DATE_I - 5]\n",
    "dt_yday = dt_cols[LAST_DATE_I - 1]"
   ]
  },
  {
   "cell_type": "code",
   "execution_count": 11,
   "id": "restricted-sheriff",
   "metadata": {
    "execution": {
     "iopub.execute_input": "2022-04-13T12:14:50.774203Z",
     "iopub.status.busy": "2022-04-13T12:14:50.773605Z",
     "iopub.status.idle": "2022-04-13T12:14:50.782148Z",
     "shell.execute_reply": "2022-04-13T12:14:50.782587Z"
    },
    "papermill": {
     "duration": 0.045191,
     "end_time": "2022-04-13T12:14:50.782712",
     "exception": false,
     "start_time": "2022-04-13T12:14:50.737521",
     "status": "completed"
    },
    "tags": []
   },
   "outputs": [],
   "source": [
    "#hide\n",
    "dfc_cases = dft_cases.groupby(COL_REGION)[dt_today].sum()\n",
    "dfc_deaths = dft_deaths.groupby(COL_REGION)[dt_today].sum()\n",
    "# dfp_cases = dft_cases.groupby(COL_REGION)[dt_5day].sum()\n",
    "# dfp_deaths = dft_deaths.groupby(COL_REGION)[dt_5day].sum()\n",
    "dfp_cases = dft_cases.groupby(COL_REGION)[dt_yday].sum()\n",
    "dfp_deaths = dft_deaths.groupby(COL_REGION)[dt_yday].sum()"
   ]
  },
  {
   "cell_type": "code",
   "execution_count": 12,
   "id": "deluxe-hepatitis",
   "metadata": {
    "execution": {
     "iopub.execute_input": "2022-04-13T12:14:50.849054Z",
     "iopub.status.busy": "2022-04-13T12:14:50.848467Z",
     "iopub.status.idle": "2022-04-13T12:14:50.853084Z",
     "shell.execute_reply": "2022-04-13T12:14:50.852651Z"
    },
    "papermill": {
     "duration": 0.040524,
     "end_time": "2022-04-13T12:14:50.853193",
     "exception": false,
     "start_time": "2022-04-13T12:14:50.812669",
     "status": "completed"
    },
    "tags": []
   },
   "outputs": [],
   "source": [
    "#hide\n",
    "df_table = (pd.DataFrame(dict(Cases = dfc_cases, Deaths = dfc_deaths, PCases = dfp_cases, PDeaths = dfp_deaths))\n",
    "            .sort_values(by = ['Cases','Deaths'], ascending = [False, False])\n",
    "            .reset_index())"
   ]
  },
  {
   "cell_type": "code",
   "execution_count": 13,
   "id": "educational-chancellor",
   "metadata": {
    "execution": {
     "iopub.execute_input": "2022-04-13T12:14:50.928298Z",
     "iopub.status.busy": "2022-04-13T12:14:50.927727Z",
     "iopub.status.idle": "2022-04-13T12:14:50.937484Z",
     "shell.execute_reply": "2022-04-13T12:14:50.937022Z"
    },
    "papermill": {
     "duration": 0.056003,
     "end_time": "2022-04-13T12:14:50.937597",
     "exception": false,
     "start_time": "2022-04-13T12:14:50.881594",
     "status": "completed"
    },
    "tags": []
   },
   "outputs": [
    {
     "data": {
      "text/html": [
       "<div>\n",
       "<style scoped>\n",
       "    .dataframe tbody tr th:only-of-type {\n",
       "        vertical-align: middle;\n",
       "    }\n",
       "\n",
       "    .dataframe tbody tr th {\n",
       "        vertical-align: top;\n",
       "    }\n",
       "\n",
       "    .dataframe thead th {\n",
       "        text-align: right;\n",
       "    }\n",
       "</style>\n",
       "<table border=\"1\" class=\"dataframe\">\n",
       "  <thead>\n",
       "    <tr style=\"text-align: right;\">\n",
       "      <th></th>\n",
       "      <th>Country/Region</th>\n",
       "      <th>Cases</th>\n",
       "      <th>Deaths</th>\n",
       "      <th>PCases</th>\n",
       "      <th>PDeaths</th>\n",
       "      <th>Cases (+)</th>\n",
       "      <th>Deaths (+)</th>\n",
       "      <th>Fatality Rate</th>\n",
       "      <th>Continent</th>\n",
       "    </tr>\n",
       "  </thead>\n",
       "  <tbody>\n",
       "    <tr>\n",
       "      <th>0</th>\n",
       "      <td>US</td>\n",
       "      <td>80477797</td>\n",
       "      <td>986387</td>\n",
       "      <td>80449944</td>\n",
       "      <td>985826</td>\n",
       "      <td>27853</td>\n",
       "      <td>561</td>\n",
       "      <td>1.23</td>\n",
       "      <td>North America</td>\n",
       "    </tr>\n",
       "    <tr>\n",
       "      <th>1</th>\n",
       "      <td>India</td>\n",
       "      <td>43038016</td>\n",
       "      <td>521736</td>\n",
       "      <td>43036928</td>\n",
       "      <td>521710</td>\n",
       "      <td>1088</td>\n",
       "      <td>26</td>\n",
       "      <td>1.21</td>\n",
       "      <td>Asia</td>\n",
       "    </tr>\n",
       "    <tr>\n",
       "      <th>2</th>\n",
       "      <td>Brazil</td>\n",
       "      <td>30184286</td>\n",
       "      <td>661741</td>\n",
       "      <td>30161909</td>\n",
       "      <td>661576</td>\n",
       "      <td>22377</td>\n",
       "      <td>165</td>\n",
       "      <td>2.19</td>\n",
       "      <td>South America</td>\n",
       "    </tr>\n",
       "    <tr>\n",
       "      <th>3</th>\n",
       "      <td>France</td>\n",
       "      <td>27353225</td>\n",
       "      <td>144662</td>\n",
       "      <td>27162463</td>\n",
       "      <td>144503</td>\n",
       "      <td>190762</td>\n",
       "      <td>159</td>\n",
       "      <td>0.53</td>\n",
       "      <td>Europe</td>\n",
       "    </tr>\n",
       "    <tr>\n",
       "      <th>4</th>\n",
       "      <td>Germany</td>\n",
       "      <td>23017079</td>\n",
       "      <td>132378</td>\n",
       "      <td>22878428</td>\n",
       "      <td>132017</td>\n",
       "      <td>138651</td>\n",
       "      <td>361</td>\n",
       "      <td>0.58</td>\n",
       "      <td>Europe</td>\n",
       "    </tr>\n",
       "  </tbody>\n",
       "</table>\n",
       "</div>"
      ],
      "text/plain": [
       "  Country/Region     Cases  Deaths    PCases  PDeaths  Cases (+)  Deaths (+)  \\\n",
       "0             US  80477797  986387  80449944   985826      27853         561   \n",
       "1          India  43038016  521736  43036928   521710       1088          26   \n",
       "2         Brazil  30184286  661741  30161909   661576      22377         165   \n",
       "3         France  27353225  144662  27162463   144503     190762         159   \n",
       "4        Germany  23017079  132378  22878428   132017     138651         361   \n",
       "\n",
       "   Fatality Rate      Continent  \n",
       "0           1.23  North America  \n",
       "1           1.21           Asia  \n",
       "2           2.19  South America  \n",
       "3           0.53         Europe  \n",
       "4           0.58         Europe  "
      ]
     },
     "execution_count": 13,
     "metadata": {},
     "output_type": "execute_result"
    }
   ],
   "source": [
    "#hide\n",
    "for c in 'Cases, Deaths'.split(', '):\n",
    "    df_table[f'{c} (+)'] = (df_table[c] - df_table[f'P{c}']).clip(0)\n",
    "    #Clip ça veut dire, les chiffres negatif sont interdit\n",
    "df_table['Fatality Rate'] = (100* df_table['Deaths']/ df_table['Cases']).round(2)\n",
    "df_table['Continent'] = df_table['Country/Region'].map(mapping['map.continent'])\n",
    "df_table.head(5)"
   ]
  },
  {
   "cell_type": "code",
   "execution_count": 14,
   "id": "aboriginal-bulgaria",
   "metadata": {
    "execution": {
     "iopub.execute_input": "2022-04-13T12:14:51.006281Z",
     "iopub.status.busy": "2022-04-13T12:14:51.005210Z",
     "iopub.status.idle": "2022-04-13T12:14:51.008513Z",
     "shell.execute_reply": "2022-04-13T12:14:51.008030Z"
    },
    "papermill": {
     "duration": 0.040868,
     "end_time": "2022-04-13T12:14:51.008615",
     "exception": false,
     "start_time": "2022-04-13T12:14:50.967747",
     "status": "completed"
    },
    "tags": []
   },
   "outputs": [],
   "source": [
    "#hide\n",
    "#delete problematic countries from table\n",
    "df_table = df_table[~df_table['Country/Region'].isin(['Cape Verde', 'Cruise Ship', 'Kosovo'])]"
   ]
  },
  {
   "cell_type": "code",
   "execution_count": 15,
   "id": "fantastic-effect",
   "metadata": {
    "execution": {
     "iopub.execute_input": "2022-04-13T12:14:51.081355Z",
     "iopub.status.busy": "2022-04-13T12:14:51.078794Z",
     "iopub.status.idle": "2022-04-13T12:14:51.099118Z",
     "shell.execute_reply": "2022-04-13T12:14:51.098664Z"
    },
    "papermill": {
     "duration": 0.058974,
     "end_time": "2022-04-13T12:14:51.099222",
     "exception": false,
     "start_time": "2022-04-13T12:14:51.040248",
     "status": "completed"
    },
    "tags": []
   },
   "outputs": [
    {
     "data": {
      "text/html": [
       "<div>\n",
       "<style scoped>\n",
       "    .dataframe tbody tr th:only-of-type {\n",
       "        vertical-align: middle;\n",
       "    }\n",
       "\n",
       "    .dataframe tbody tr th {\n",
       "        vertical-align: top;\n",
       "    }\n",
       "\n",
       "    .dataframe thead th {\n",
       "        text-align: right;\n",
       "    }\n",
       "</style>\n",
       "<table border=\"1\" class=\"dataframe\">\n",
       "  <thead>\n",
       "    <tr style=\"text-align: right;\">\n",
       "      <th></th>\n",
       "      <th>Country/Region</th>\n",
       "      <th>Cases</th>\n",
       "      <th>Deaths</th>\n",
       "      <th>PCases</th>\n",
       "      <th>PDeaths</th>\n",
       "      <th>Cases (+)</th>\n",
       "      <th>Deaths (+)</th>\n",
       "      <th>Fatality Rate</th>\n",
       "      <th>Continent</th>\n",
       "    </tr>\n",
       "  </thead>\n",
       "  <tbody>\n",
       "    <tr>\n",
       "      <th>0</th>\n",
       "      <td>US</td>\n",
       "      <td>80477797</td>\n",
       "      <td>986387</td>\n",
       "      <td>80449944</td>\n",
       "      <td>985826</td>\n",
       "      <td>27853</td>\n",
       "      <td>561</td>\n",
       "      <td>1.2</td>\n",
       "      <td>North America</td>\n",
       "    </tr>\n",
       "    <tr>\n",
       "      <th>1</th>\n",
       "      <td>India</td>\n",
       "      <td>43038016</td>\n",
       "      <td>521736</td>\n",
       "      <td>43036928</td>\n",
       "      <td>521710</td>\n",
       "      <td>1088</td>\n",
       "      <td>26</td>\n",
       "      <td>1.2</td>\n",
       "      <td>Asia</td>\n",
       "    </tr>\n",
       "    <tr>\n",
       "      <th>2</th>\n",
       "      <td>Brazil</td>\n",
       "      <td>30184286</td>\n",
       "      <td>661741</td>\n",
       "      <td>30161909</td>\n",
       "      <td>661576</td>\n",
       "      <td>22377</td>\n",
       "      <td>165</td>\n",
       "      <td>2.2</td>\n",
       "      <td>South America</td>\n",
       "    </tr>\n",
       "    <tr>\n",
       "      <th>3</th>\n",
       "      <td>France</td>\n",
       "      <td>27353225</td>\n",
       "      <td>144662</td>\n",
       "      <td>27162463</td>\n",
       "      <td>144503</td>\n",
       "      <td>190762</td>\n",
       "      <td>159</td>\n",
       "      <td>0.5</td>\n",
       "      <td>Europe</td>\n",
       "    </tr>\n",
       "    <tr>\n",
       "      <th>4</th>\n",
       "      <td>Germany</td>\n",
       "      <td>23017079</td>\n",
       "      <td>132378</td>\n",
       "      <td>22878428</td>\n",
       "      <td>132017</td>\n",
       "      <td>138651</td>\n",
       "      <td>361</td>\n",
       "      <td>0.6</td>\n",
       "      <td>Europe</td>\n",
       "    </tr>\n",
       "  </tbody>\n",
       "</table>\n",
       "</div>"
      ],
      "text/plain": [
       "  Country/Region     Cases  Deaths    PCases  PDeaths  Cases (+)  Deaths (+)  \\\n",
       "0             US  80477797  986387  80449944   985826      27853         561   \n",
       "1          India  43038016  521736  43036928   521710       1088          26   \n",
       "2         Brazil  30184286  661741  30161909   661576      22377         165   \n",
       "3         France  27353225  144662  27162463   144503     190762         159   \n",
       "4        Germany  23017079  132378  22878428   132017     138651         361   \n",
       "\n",
       "   Fatality Rate      Continent  \n",
       "0            1.2  North America  \n",
       "1            1.2           Asia  \n",
       "2            2.2  South America  \n",
       "3            0.5         Europe  \n",
       "4            0.6         Europe  "
      ]
     },
     "execution_count": 15,
     "metadata": {},
     "output_type": "execute_result"
    }
   ],
   "source": [
    "#hide\n",
    "df_table = (pd.DataFrame(dict(Cases=dfc_cases, Deaths=dfc_deaths, PCases=dfp_cases, PDeaths=dfp_deaths))\n",
    "             .sort_values(by=['Cases', 'Deaths'], ascending=[False, False])\n",
    "             .reset_index())\n",
    "df_table.rename(columns={'index': 'Country/Region'}, inplace=True)\n",
    "for c in 'Cases, Deaths'.split(', '):\n",
    "    df_table[f'{c} (+)'] = (df_table[c] - df_table[f'P{c}']).clip(0)  # DATA BUG\n",
    "df_table['Fatality Rate'] = (100 * df_table['Deaths'] / df_table['Cases']).round(1)\n",
    "df_table['Continent'] = df_table['Country/Region'].map(mapping['map.continent'])\n",
    "df_table.head(5)"
   ]
  },
  {
   "cell_type": "code",
   "execution_count": 16,
   "id": "fewer-occasion",
   "metadata": {
    "execution": {
     "iopub.execute_input": "2022-04-13T12:14:51.166603Z",
     "iopub.status.busy": "2022-04-13T12:14:51.166034Z",
     "iopub.status.idle": "2022-04-13T12:14:51.168508Z",
     "shell.execute_reply": "2022-04-13T12:14:51.168967Z"
    },
    "papermill": {
     "duration": 0.037594,
     "end_time": "2022-04-13T12:14:51.169069",
     "exception": false,
     "start_time": "2022-04-13T12:14:51.131475",
     "status": "completed"
    },
    "tags": []
   },
   "outputs": [],
   "source": [
    "#hide\n",
    "#delete problematic countries from table\n",
    "df_table = df_table[~df_table['Country/Region'].isin(['Cape Verde', 'Cruise Ship', 'Kosovo'])]"
   ]
  },
  {
   "cell_type": "code",
   "execution_count": 17,
   "id": "related-center",
   "metadata": {
    "execution": {
     "iopub.execute_input": "2022-04-13T12:14:51.252040Z",
     "iopub.status.busy": "2022-04-13T12:14:51.251487Z",
     "iopub.status.idle": "2022-04-13T12:14:51.254059Z",
     "shell.execute_reply": "2022-04-13T12:14:51.253588Z"
    },
    "papermill": {
     "duration": 0.054955,
     "end_time": "2022-04-13T12:14:51.254174",
     "exception": false,
     "start_time": "2022-04-13T12:14:51.199219",
     "status": "completed"
    },
    "tags": []
   },
   "outputs": [],
   "source": [
    "#hide\n",
    "metrics = [df_table.columns[index] for index in [1,2,5,6]]\n",
    "# s_china = df_table[df_table['Country/Region'].eq('China')][metrics].sum().add_prefix('China ')\n",
    "s_us = df_table[df_table['Country/Region'].eq('US')][metrics].sum().add_prefix('US ')\n",
    "s_eu = df_table[df_table['Continent'].eq('Europe')][metrics].sum().add_prefix('EU ')\n",
    "s_ind = df_table[df_table['Country/Region'].eq('India')][metrics].sum().add_prefix('India ')\n",
    "summary = {'updated': pd.to_datetime(dt_today), 'since': pd.to_datetime(dt_yday)}\n",
    "summary = {'updated': pd.to_datetime(dt_today), 'since': pd.to_datetime(dt_yday)}\n",
    "summary = {**summary, **df_table[metrics].sum(), **s_ind, **s_us, **s_eu}"
   ]
  },
  {
   "cell_type": "code",
   "execution_count": 18,
   "id": "engaging-syndrome",
   "metadata": {
    "execution": {
     "iopub.execute_input": "2022-04-13T12:14:51.324004Z",
     "iopub.status.busy": "2022-04-13T12:14:51.323505Z",
     "iopub.status.idle": "2022-04-13T12:14:51.341897Z",
     "shell.execute_reply": "2022-04-13T12:14:51.341421Z"
    },
    "papermill": {
     "duration": 0.054591,
     "end_time": "2022-04-13T12:14:51.342011",
     "exception": false,
     "start_time": "2022-04-13T12:14:51.287420",
     "status": "completed"
    },
    "tags": []
   },
   "outputs": [],
   "source": [
    "#hide\n",
    "dft_ct_new_cases = dft_cases.groupby(COL_REGION)[dt_cols].sum().diff(axis=1).fillna(0).astype(int)"
   ]
  },
  {
   "cell_type": "code",
   "execution_count": 19,
   "id": "neutral-assignment",
   "metadata": {
    "execution": {
     "iopub.execute_input": "2022-04-13T12:14:51.409451Z",
     "iopub.status.busy": "2022-04-13T12:14:51.409002Z",
     "iopub.status.idle": "2022-04-13T12:14:51.414217Z",
     "shell.execute_reply": "2022-04-13T12:14:51.414605Z"
    },
    "papermill": {
     "duration": 0.040433,
     "end_time": "2022-04-13T12:14:51.414716",
     "exception": false,
     "start_time": "2022-04-13T12:14:51.374283",
     "status": "completed"
    },
    "tags": []
   },
   "outputs": [],
   "source": [
    "#hide\n",
    "everydaycases = dft_ct_new_cases.cumsum(axis=1)"
   ]
  },
  {
   "cell_type": "code",
   "execution_count": 20,
   "id": "parliamentary-calgary",
   "metadata": {
    "execution": {
     "iopub.execute_input": "2022-04-13T12:14:51.482606Z",
     "iopub.status.busy": "2022-04-13T12:14:51.481912Z",
     "iopub.status.idle": "2022-04-13T12:14:52.060900Z",
     "shell.execute_reply": "2022-04-13T12:14:52.060272Z"
    },
    "papermill": {
     "duration": 0.614503,
     "end_time": "2022-04-13T12:14:52.061024",
     "exception": false,
     "start_time": "2022-04-13T12:14:51.446521",
     "status": "completed"
    },
    "tags": []
   },
   "outputs": [],
   "source": [
    "#hide\n",
    "import pandas as pd\n",
    "import matplotlib.pyplot as plt\n",
    "import matplotlib.ticker as ticker\n",
    "import matplotlib.animation as animation\n",
    "from IPython.display import HTML"
   ]
  },
  {
   "cell_type": "code",
   "execution_count": 21,
   "id": "lasting-extraction",
   "metadata": {
    "execution": {
     "iopub.execute_input": "2022-04-13T12:14:52.130969Z",
     "iopub.status.busy": "2022-04-13T12:14:52.129940Z",
     "iopub.status.idle": "2022-04-13T12:14:52.136295Z",
     "shell.execute_reply": "2022-04-13T12:14:52.135592Z"
    },
    "papermill": {
     "duration": 0.043645,
     "end_time": "2022-04-13T12:14:52.136418",
     "exception": false,
     "start_time": "2022-04-13T12:14:52.092773",
     "status": "completed"
    },
    "tags": []
   },
   "outputs": [],
   "source": [
    "#hide\n",
    "t = everydaycases.stack()"
   ]
  },
  {
   "cell_type": "code",
   "execution_count": 22,
   "id": "premier-sleeve",
   "metadata": {
    "execution": {
     "iopub.execute_input": "2022-04-13T12:14:52.204019Z",
     "iopub.status.busy": "2022-04-13T12:14:52.203477Z",
     "iopub.status.idle": "2022-04-13T12:14:52.214542Z",
     "shell.execute_reply": "2022-04-13T12:14:52.214144Z"
    },
    "papermill": {
     "duration": 0.045666,
     "end_time": "2022-04-13T12:14:52.214646",
     "exception": false,
     "start_time": "2022-04-13T12:14:52.168980",
     "status": "completed"
    },
    "tags": []
   },
   "outputs": [],
   "source": [
    "#hide\n",
    "g = t.reset_index(['Country/Region'])"
   ]
  },
  {
   "cell_type": "code",
   "execution_count": 23,
   "id": "distributed-pittsburgh",
   "metadata": {
    "execution": {
     "iopub.execute_input": "2022-04-13T12:14:52.282745Z",
     "iopub.status.busy": "2022-04-13T12:14:52.281700Z",
     "iopub.status.idle": "2022-04-13T12:14:52.284013Z",
     "shell.execute_reply": "2022-04-13T12:14:52.284442Z"
    },
    "papermill": {
     "duration": 0.039133,
     "end_time": "2022-04-13T12:14:52.284564",
     "exception": false,
     "start_time": "2022-04-13T12:14:52.245431",
     "status": "completed"
    },
    "tags": []
   },
   "outputs": [],
   "source": [
    "#hide\n",
    "g.index.name = 'date'"
   ]
  },
  {
   "cell_type": "code",
   "execution_count": 24,
   "id": "naked-donor",
   "metadata": {
    "execution": {
     "iopub.execute_input": "2022-04-13T12:14:52.353048Z",
     "iopub.status.busy": "2022-04-13T12:14:52.352494Z",
     "iopub.status.idle": "2022-04-13T12:14:52.354584Z",
     "shell.execute_reply": "2022-04-13T12:14:52.354936Z"
    },
    "papermill": {
     "duration": 0.037267,
     "end_time": "2022-04-13T12:14:52.355044",
     "exception": false,
     "start_time": "2022-04-13T12:14:52.317777",
     "status": "completed"
    },
    "tags": []
   },
   "outputs": [],
   "source": [
    "# #hide\n",
    "# g = g.reset_index(['date'])"
   ]
  },
  {
   "cell_type": "code",
   "execution_count": 25,
   "id": "incomplete-mustang",
   "metadata": {
    "execution": {
     "iopub.execute_input": "2022-04-13T12:14:52.418371Z",
     "iopub.status.busy": "2022-04-13T12:14:52.417889Z",
     "iopub.status.idle": "2022-04-13T12:14:52.420237Z",
     "shell.execute_reply": "2022-04-13T12:14:52.420790Z"
    },
    "papermill": {
     "duration": 0.037533,
     "end_time": "2022-04-13T12:14:52.420917",
     "exception": false,
     "start_time": "2022-04-13T12:14:52.383384",
     "status": "completed"
    },
    "tags": []
   },
   "outputs": [],
   "source": [
    "#hide\n",
    "# g.head()"
   ]
  },
  {
   "cell_type": "code",
   "execution_count": 26,
   "id": "specific-kruger",
   "metadata": {
    "execution": {
     "iopub.execute_input": "2022-04-13T12:14:52.483641Z",
     "iopub.status.busy": "2022-04-13T12:14:52.483165Z",
     "iopub.status.idle": "2022-04-13T12:14:52.485324Z",
     "shell.execute_reply": "2022-04-13T12:14:52.485885Z"
    },
    "papermill": {
     "duration": 0.033291,
     "end_time": "2022-04-13T12:14:52.485995",
     "exception": false,
     "start_time": "2022-04-13T12:14:52.452704",
     "status": "completed"
    },
    "tags": []
   },
   "outputs": [],
   "source": [
    "#hide\n",
    "# g.columns = ['date','country','cases']"
   ]
  },
  {
   "cell_type": "code",
   "execution_count": 27,
   "id": "tender-conversion",
   "metadata": {
    "execution": {
     "iopub.execute_input": "2022-04-13T12:14:52.551804Z",
     "iopub.status.busy": "2022-04-13T12:14:52.550787Z",
     "iopub.status.idle": "2022-04-13T12:14:52.555700Z",
     "shell.execute_reply": "2022-04-13T12:14:52.556383Z"
    },
    "papermill": {
     "duration": 0.04057,
     "end_time": "2022-04-13T12:14:52.556491",
     "exception": false,
     "start_time": "2022-04-13T12:14:52.515921",
     "status": "completed"
    },
    "tags": []
   },
   "outputs": [],
   "source": [
    "#hide\n",
    "# g['continent'] = g.country"
   ]
  },
  {
   "cell_type": "code",
   "execution_count": 28,
   "id": "substantial-wilderness",
   "metadata": {
    "execution": {
     "iopub.execute_input": "2022-04-13T12:14:52.624093Z",
     "iopub.status.busy": "2022-04-13T12:14:52.623077Z",
     "iopub.status.idle": "2022-04-13T12:14:52.628002Z",
     "shell.execute_reply": "2022-04-13T12:14:52.628416Z"
    },
    "papermill": {
     "duration": 0.040886,
     "end_time": "2022-04-13T12:14:52.628538",
     "exception": false,
     "start_time": "2022-04-13T12:14:52.587652",
     "status": "completed"
    },
    "tags": []
   },
   "outputs": [],
   "source": [
    "#hide\n",
    "# cols = list(g.columns.values)"
   ]
  },
  {
   "cell_type": "code",
   "execution_count": 29,
   "id": "solved-farming",
   "metadata": {
    "execution": {
     "iopub.execute_input": "2022-04-13T12:14:52.694075Z",
     "iopub.status.busy": "2022-04-13T12:14:52.693523Z",
     "iopub.status.idle": "2022-04-13T12:14:52.695944Z",
     "shell.execute_reply": "2022-04-13T12:14:52.696408Z"
    },
    "papermill": {
     "duration": 0.036984,
     "end_time": "2022-04-13T12:14:52.696523",
     "exception": false,
     "start_time": "2022-04-13T12:14:52.659539",
     "status": "completed"
    },
    "tags": []
   },
   "outputs": [],
   "source": [
    "#hide\n",
    "# cols.insert(0, cols.pop())"
   ]
  },
  {
   "cell_type": "code",
   "execution_count": 30,
   "id": "executed-adoption",
   "metadata": {
    "execution": {
     "iopub.execute_input": "2022-04-13T12:14:52.762915Z",
     "iopub.status.busy": "2022-04-13T12:14:52.762440Z",
     "iopub.status.idle": "2022-04-13T12:14:52.765047Z",
     "shell.execute_reply": "2022-04-13T12:14:52.765522Z"
    },
    "papermill": {
     "duration": 0.038171,
     "end_time": "2022-04-13T12:14:52.765653",
     "exception": false,
     "start_time": "2022-04-13T12:14:52.727482",
     "status": "completed"
    },
    "tags": []
   },
   "outputs": [],
   "source": [
    "#hide\n",
    "# g = g[cols]"
   ]
  },
  {
   "cell_type": "code",
   "execution_count": 31,
   "id": "subject-dublin",
   "metadata": {
    "execution": {
     "iopub.execute_input": "2022-04-13T12:14:52.830713Z",
     "iopub.status.busy": "2022-04-13T12:14:52.830234Z",
     "iopub.status.idle": "2022-04-13T12:14:52.833584Z",
     "shell.execute_reply": "2022-04-13T12:14:52.834037Z"
    },
    "papermill": {
     "duration": 0.038711,
     "end_time": "2022-04-13T12:14:52.834166",
     "exception": false,
     "start_time": "2022-04-13T12:14:52.795455",
     "status": "completed"
    },
    "tags": []
   },
   "outputs": [],
   "source": [
    "#hide\n",
    "# g['continent'] = g['continent'].map(mapping['map.continent'])"
   ]
  },
  {
   "cell_type": "code",
   "execution_count": 32,
   "id": "freelance-scout",
   "metadata": {
    "execution": {
     "iopub.execute_input": "2022-04-13T12:14:52.901889Z",
     "iopub.status.busy": "2022-04-13T12:14:52.901264Z",
     "iopub.status.idle": "2022-04-13T12:14:52.903051Z",
     "shell.execute_reply": "2022-04-13T12:14:52.902495Z"
    },
    "papermill": {
     "duration": 0.037172,
     "end_time": "2022-04-13T12:14:52.903161",
     "exception": false,
     "start_time": "2022-04-13T12:14:52.865989",
     "status": "completed"
    },
    "tags": []
   },
   "outputs": [],
   "source": [
    "#hide\n",
    "# g.head()"
   ]
  },
  {
   "cell_type": "code",
   "execution_count": 33,
   "id": "limited-engine",
   "metadata": {
    "execution": {
     "iopub.execute_input": "2022-04-13T12:14:52.971935Z",
     "iopub.status.busy": "2022-04-13T12:14:52.971299Z",
     "iopub.status.idle": "2022-04-13T12:14:52.972653Z",
     "shell.execute_reply": "2022-04-13T12:14:52.973091Z"
    },
    "papermill": {
     "duration": 0.038553,
     "end_time": "2022-04-13T12:14:52.973193",
     "exception": false,
     "start_time": "2022-04-13T12:14:52.934640",
     "status": "completed"
    },
    "tags": []
   },
   "outputs": [],
   "source": [
    "# hide\n",
    "# g['date'] = g['date'].astype('datetime64[ns]')"
   ]
  },
  {
   "cell_type": "code",
   "execution_count": 34,
   "id": "sophisticated-supervisor",
   "metadata": {
    "execution": {
     "iopub.execute_input": "2022-04-13T12:14:53.038285Z",
     "iopub.status.busy": "2022-04-13T12:14:53.037696Z",
     "iopub.status.idle": "2022-04-13T12:14:53.040280Z",
     "shell.execute_reply": "2022-04-13T12:14:53.040842Z"
    },
    "papermill": {
     "duration": 0.036819,
     "end_time": "2022-04-13T12:14:53.040965",
     "exception": false,
     "start_time": "2022-04-13T12:14:53.004146",
     "status": "completed"
    },
    "tags": []
   },
   "outputs": [],
   "source": [
    "#hide\n",
    "# g['date'] = g.date.dt.dayofyear"
   ]
  },
  {
   "cell_type": "code",
   "execution_count": 35,
   "id": "inside-dubai",
   "metadata": {
    "execution": {
     "iopub.execute_input": "2022-04-13T12:14:53.113946Z",
     "iopub.status.busy": "2022-04-13T12:14:53.112954Z",
     "iopub.status.idle": "2022-04-13T12:14:53.116526Z",
     "shell.execute_reply": "2022-04-13T12:14:53.115935Z"
    },
    "papermill": {
     "duration": 0.042254,
     "end_time": "2022-04-13T12:14:53.116644",
     "exception": false,
     "start_time": "2022-04-13T12:14:53.074390",
     "status": "completed"
    },
    "tags": []
   },
   "outputs": [],
   "source": [
    "#hide\n",
    "# g = g.rename(columns= {'continent':'group','country':'name','cases':'value'})"
   ]
  },
  {
   "cell_type": "code",
   "execution_count": 36,
   "id": "fleet-motorcycle",
   "metadata": {
    "execution": {
     "iopub.execute_input": "2022-04-13T12:14:53.190284Z",
     "iopub.status.busy": "2022-04-13T12:14:53.189190Z",
     "iopub.status.idle": "2022-04-13T12:14:53.193664Z",
     "shell.execute_reply": "2022-04-13T12:14:53.192589Z"
    },
    "papermill": {
     "duration": 0.043455,
     "end_time": "2022-04-13T12:14:53.193869",
     "exception": false,
     "start_time": "2022-04-13T12:14:53.150414",
     "status": "completed"
    },
    "tags": []
   },
   "outputs": [],
   "source": [
    "#hide\n",
    "# cols = ['name','group','day','value']"
   ]
  },
  {
   "cell_type": "code",
   "execution_count": 37,
   "id": "continued-sleeping",
   "metadata": {
    "execution": {
     "iopub.execute_input": "2022-04-13T12:14:53.267381Z",
     "iopub.status.busy": "2022-04-13T12:14:53.266829Z",
     "iopub.status.idle": "2022-04-13T12:14:53.269330Z",
     "shell.execute_reply": "2022-04-13T12:14:53.268894Z"
    },
    "papermill": {
     "duration": 0.040892,
     "end_time": "2022-04-13T12:14:53.269469",
     "exception": false,
     "start_time": "2022-04-13T12:14:53.228577",
     "status": "completed"
    },
    "tags": []
   },
   "outputs": [],
   "source": [
    "#hide\n",
    "# g.rename(columns= {'date':'day'},inplace = True)"
   ]
  },
  {
   "cell_type": "code",
   "execution_count": 38,
   "id": "major-fight",
   "metadata": {
    "execution": {
     "iopub.execute_input": "2022-04-13T12:14:53.334485Z",
     "iopub.status.busy": "2022-04-13T12:14:53.333955Z",
     "iopub.status.idle": "2022-04-13T12:14:53.336400Z",
     "shell.execute_reply": "2022-04-13T12:14:53.336817Z"
    },
    "papermill": {
     "duration": 0.035822,
     "end_time": "2022-04-13T12:14:53.336941",
     "exception": false,
     "start_time": "2022-04-13T12:14:53.301119",
     "status": "completed"
    },
    "tags": []
   },
   "outputs": [],
   "source": [
    "#hide\n",
    "# g = g[cols]"
   ]
  },
  {
   "cell_type": "code",
   "execution_count": 39,
   "id": "structured-mobile",
   "metadata": {
    "execution": {
     "iopub.execute_input": "2022-04-13T12:14:53.402817Z",
     "iopub.status.busy": "2022-04-13T12:14:53.401590Z",
     "iopub.status.idle": "2022-04-13T12:14:53.403923Z",
     "shell.execute_reply": "2022-04-13T12:14:53.404731Z"
    },
    "papermill": {
     "duration": 0.036886,
     "end_time": "2022-04-13T12:14:53.404946",
     "exception": false,
     "start_time": "2022-04-13T12:14:53.368060",
     "status": "completed"
    },
    "tags": []
   },
   "outputs": [],
   "source": [
    "# #hide\n",
    "# g = g[g.group.notna()]"
   ]
  },
  {
   "cell_type": "code",
   "execution_count": 40,
   "id": "determined-closing",
   "metadata": {
    "execution": {
     "iopub.execute_input": "2022-04-13T12:14:53.470446Z",
     "iopub.status.busy": "2022-04-13T12:14:53.470020Z",
     "iopub.status.idle": "2022-04-13T12:14:53.472824Z",
     "shell.execute_reply": "2022-04-13T12:14:53.473262Z"
    },
    "papermill": {
     "duration": 0.038071,
     "end_time": "2022-04-13T12:14:53.473406",
     "exception": false,
     "start_time": "2022-04-13T12:14:53.435335",
     "status": "completed"
    },
    "tags": []
   },
   "outputs": [],
   "source": [
    "# #hide\n",
    "# colors = dict(zip(\n",
    "#     [\"Oceania\", \"Europe\", \"Asia\", \"South America\", \"Middle East\", \"North America\", \"Africa\"],\n",
    "#     [\"#adb0ff\", \"#ffb3ff\", \"#90d595\", \"#e48381\", \"#aafbff\", \"#f7bb5f\", \"#eafb50\"]\n",
    "# ))\n",
    "# group_lk = g.set_index('name')['group'].to_dict()"
   ]
  },
  {
   "cell_type": "code",
   "execution_count": null,
   "id": "gross-drinking",
   "metadata": {
    "papermill": {
     "duration": 0.028728,
     "end_time": "2022-04-13T12:14:53.531763",
     "exception": false,
     "start_time": "2022-04-13T12:14:53.503035",
     "status": "completed"
    },
    "tags": []
   },
   "outputs": [],
   "source": []
  },
  {
   "cell_type": "code",
   "execution_count": 41,
   "id": "subject-macintosh",
   "metadata": {
    "execution": {
     "iopub.execute_input": "2022-04-13T12:14:53.595968Z",
     "iopub.status.busy": "2022-04-13T12:14:53.595413Z",
     "iopub.status.idle": "2022-04-13T12:14:53.598668Z",
     "shell.execute_reply": "2022-04-13T12:14:53.598203Z"
    },
    "papermill": {
     "duration": 0.037422,
     "end_time": "2022-04-13T12:14:53.598783",
     "exception": false,
     "start_time": "2022-04-13T12:14:53.561361",
     "status": "completed"
    },
    "tags": []
   },
   "outputs": [],
   "source": [
    "# #hide\n",
    "# fig, ax = plt.subplots(figsize=(15, 8))\n",
    "\n",
    "# def draw_barchart(current_day):\n",
    "#     dff = g[g['day'].eq(current_day)].sort_values(by='value', ascending=True).tail(10)\n",
    "#     ax.clear()\n",
    "#     ax.barh(dff['name'], dff['value'], color=[colors[group_lk[x]] for x in dff['name']])\n",
    "#     dx = dff['value'].max() / 200\n",
    "    \n",
    "#     for i, (value, name) in enumerate(zip(dff['value'], dff['name'])):\n",
    "#         ax.text(value-dx, i,     name,           size=14, weight=600, ha='right', va='bottom')\n",
    "#         ax.text(value-dx, i-.25, group_lk[name], size=10, color='#444444', ha='right', va='baseline')\n",
    "#         ax.text(value+dx, i,     f'{value:,.0f}',  size=14, ha='left',  va='center')\n",
    "#     ax.text(1, 0.4, current_day, transform=ax.transAxes, color='#777777', size=46, ha='right', weight=800)\n",
    "#     ax.text(0, 1.06, 'Population (thousands)', transform=ax.transAxes, size=12, color='#777777')\n",
    "#     ax.xaxis.set_major_formatter(ticker.StrMethodFormatter('{x:,.0f}'))\n",
    "#     ax.xaxis.set_ticks_position('top')\n",
    "#     ax.tick_params(axis='x', colors='#777777', labelsize=12)\n",
    "#     ax.set_yticks([])\n",
    "#     ax.margins(0, 0.01)\n",
    "#     ax.grid(which='major', axis='x', linestyle='-')\n",
    "#     ax.set_axisbelow(True)\n",
    "    \n",
    "#     ax.text(0, 1.15, 'Coronavirus',\n",
    "#             transform=ax.transAxes, size=24, weight=600, ha='left', va='top')\n",
    "# #     ax.text(1, 0, 'by @pratapvardhan; credit @jburnmurdoch', transform=ax.transAxes, color='#777777', ha='right',\n",
    "# #             bbox=dict(facecolor='white', alpha=0.8, edgecolor='white'))\n",
    "#     plt.box(False)"
   ]
  },
  {
   "cell_type": "code",
   "execution_count": 42,
   "id": "sexual-wages",
   "metadata": {
    "execution": {
     "iopub.execute_input": "2022-04-13T12:14:53.661769Z",
     "iopub.status.busy": "2022-04-13T12:14:53.661175Z",
     "iopub.status.idle": "2022-04-13T12:14:53.663337Z",
     "shell.execute_reply": "2022-04-13T12:14:53.663793Z"
    },
    "papermill": {
     "duration": 0.034428,
     "end_time": "2022-04-13T12:14:53.663885",
     "exception": false,
     "start_time": "2022-04-13T12:14:53.629457",
     "status": "completed"
    },
    "tags": []
   },
   "outputs": [],
   "source": [
    "# #hide_input\n",
    "# fig, ax = plt.subplots(figsize=(15, 8))\n",
    "# animator = animation.FuncAnimation(fig, draw_barchart, frames=range(g.day.values.min(), g.day.values.max()))\n",
    "# HTML(animator.to_jshtml())\n",
    "# # or use animator.to_html5_video() or animator.save() "
   ]
  },
  {
   "cell_type": "code",
   "execution_count": null,
   "id": "australian-container",
   "metadata": {
    "papermill": {
     "duration": 0.031116,
     "end_time": "2022-04-13T12:14:53.724974",
     "exception": false,
     "start_time": "2022-04-13T12:14:53.693858",
     "status": "completed"
    },
    "tags": []
   },
   "outputs": [],
   "source": []
  },
  {
   "cell_type": "code",
   "execution_count": null,
   "id": "mediterranean-pontiac",
   "metadata": {
    "papermill": {
     "duration": 0.028648,
     "end_time": "2022-04-13T12:14:53.785875",
     "exception": false,
     "start_time": "2022-04-13T12:14:53.757227",
     "status": "completed"
    },
    "tags": []
   },
   "outputs": [],
   "source": []
  },
  {
   "cell_type": "code",
   "execution_count": null,
   "id": "aging-legislature",
   "metadata": {
    "papermill": {
     "duration": 0.03066,
     "end_time": "2022-04-13T12:14:53.848657",
     "exception": false,
     "start_time": "2022-04-13T12:14:53.817997",
     "status": "completed"
    },
    "tags": []
   },
   "outputs": [],
   "source": []
  }
 ],
 "metadata": {
  "kernelspec": {
   "display_name": "Python 3",
   "language": "python",
   "name": "python3"
  },
  "language_info": {
   "codemirror_mode": {
    "name": "ipython",
    "version": 3
   },
   "file_extension": ".py",
   "mimetype": "text/x-python",
   "name": "python",
   "nbconvert_exporter": "python",
   "pygments_lexer": "ipython3",
   "version": "3.6.15"
  },
  "papermill": {
   "duration": 6.255841,
   "end_time": "2022-04-13T12:14:54.198731",
   "environment_variables": {},
   "exception": null,
   "input_path": "2020-03-21-covid19exp.ipynb",
   "output_path": "2020-03-21-covid19exp.ipynb",
   "parameters": {},
   "start_time": "2022-04-13T12:14:47.942890",
   "version": "2.0.0"
  }
 },
 "nbformat": 4,
 "nbformat_minor": 5
}