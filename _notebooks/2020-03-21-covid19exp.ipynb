{
 "cells": [
  {
   "cell_type": "markdown",
   "id": "muslim-click",
   "metadata": {
    "papermill": {
     "duration": 0.043569,
     "end_time": "2022-11-23T12:17:06.461068",
     "exception": false,
     "start_time": "2022-11-23T12:17:06.417499",
     "status": "completed"
    },
    "tags": []
   },
   "source": [
    "# COVID-19 Case Race\n",
    "> A race chart to see rising cases around the world\n",
    "\n",
    "- author: Hargun Oberoi\n",
    "- image: images/covid-overview.png\n",
    "- hide: false\n",
    "- badges: false"
   ]
  },
  {
   "cell_type": "code",
   "execution_count": 1,
   "id": "proof-material",
   "metadata": {
    "execution": {
     "iopub.execute_input": "2022-11-23T12:17:06.549010Z",
     "iopub.status.busy": "2022-11-23T12:17:06.548239Z",
     "iopub.status.idle": "2022-11-23T12:17:06.917562Z",
     "shell.execute_reply": "2022-11-23T12:17:06.916902Z"
    },
    "papermill": {
     "duration": 0.415863,
     "end_time": "2022-11-23T12:17:06.917752",
     "exception": false,
     "start_time": "2022-11-23T12:17:06.501889",
     "status": "completed"
    },
    "tags": []
   },
   "outputs": [],
   "source": [
    "#hide\n",
    "import numpy as np\n",
    "import pandas as pd\n",
    "from jinja2 import Template\n",
    "from IPython.display import HTML"
   ]
  },
  {
   "cell_type": "code",
   "execution_count": 2,
   "id": "developed-terminology",
   "metadata": {
    "execution": {
     "iopub.execute_input": "2022-11-23T12:17:06.991747Z",
     "iopub.status.busy": "2022-11-23T12:17:06.991067Z",
     "iopub.status.idle": "2022-11-23T12:17:06.995559Z",
     "shell.execute_reply": "2022-11-23T12:17:06.995027Z"
    },
    "papermill": {
     "duration": 0.044031,
     "end_time": "2022-11-23T12:17:06.995670",
     "exception": false,
     "start_time": "2022-11-23T12:17:06.951639",
     "status": "completed"
    },
    "tags": []
   },
   "outputs": [],
   "source": [
    "#hide\n",
    "\n",
    "# FETCH\n",
    "base_url = 'https://raw.githubusercontent.com/pratapvardhan/notebooks/master/covid19/'\n",
    "paths = {\n",
    "    'mapping': base_url + 'mapping_countries.csv',\n",
    "    'overview': base_url + 'overview.tpl'\n",
    "}"
   ]
  },
  {
   "cell_type": "code",
   "execution_count": 3,
   "id": "dynamic-saver",
   "metadata": {
    "execution": {
     "iopub.execute_input": "2022-11-23T12:17:07.076037Z",
     "iopub.status.busy": "2022-11-23T12:17:07.075384Z",
     "iopub.status.idle": "2022-11-23T12:17:07.078709Z",
     "shell.execute_reply": "2022-11-23T12:17:07.079468Z"
    },
    "papermill": {
     "duration": 0.048632,
     "end_time": "2022-11-23T12:17:07.079616",
     "exception": false,
     "start_time": "2022-11-23T12:17:07.030984",
     "status": "completed"
    },
    "tags": []
   },
   "outputs": [
    {
     "data": {
      "text/plain": [
       "'https://raw.githubusercontent.com/pratapvardhan/notebooks/master/covid19/mapping_countries.csv'"
      ]
     },
     "execution_count": 3,
     "metadata": {},
     "output_type": "execute_result"
    }
   ],
   "source": [
    "#hide\n",
    "paths['mapping']"
   ]
  },
  {
   "cell_type": "code",
   "execution_count": 4,
   "id": "urban-software",
   "metadata": {
    "execution": {
     "iopub.execute_input": "2022-11-23T12:17:07.154259Z",
     "iopub.status.busy": "2022-11-23T12:17:07.151776Z",
     "iopub.status.idle": "2022-11-23T12:17:07.157218Z",
     "shell.execute_reply": "2022-11-23T12:17:07.156657Z"
    },
    "papermill": {
     "duration": 0.043946,
     "end_time": "2022-11-23T12:17:07.157333",
     "exception": false,
     "start_time": "2022-11-23T12:17:07.113387",
     "status": "completed"
    },
    "tags": []
   },
   "outputs": [],
   "source": [
    "#hide\n",
    "def get_mappings(url):\n",
    "    df = pd.read_csv(url)\n",
    "    return {\n",
    "        'df': df,\n",
    "        'replace.country': dict(df.dropna(subset=['Name']).set_index('Country')['Name']),\n",
    "        'map.continent': dict(df.set_index('Name')['Continent'])\n",
    "    }"
   ]
  },
  {
   "cell_type": "code",
   "execution_count": 5,
   "id": "intimate-machinery",
   "metadata": {
    "execution": {
     "iopub.execute_input": "2022-11-23T12:17:07.231228Z",
     "iopub.status.busy": "2022-11-23T12:17:07.230578Z",
     "iopub.status.idle": "2022-11-23T12:17:07.285706Z",
     "shell.execute_reply": "2022-11-23T12:17:07.285070Z"
    },
    "papermill": {
     "duration": 0.093644,
     "end_time": "2022-11-23T12:17:07.285833",
     "exception": false,
     "start_time": "2022-11-23T12:17:07.192189",
     "status": "completed"
    },
    "tags": []
   },
   "outputs": [],
   "source": [
    "#hide\n",
    "mapping = get_mappings(paths['mapping'])"
   ]
  },
  {
   "cell_type": "code",
   "execution_count": 6,
   "id": "certified-tactics",
   "metadata": {
    "execution": {
     "iopub.execute_input": "2022-11-23T12:17:07.361991Z",
     "iopub.status.busy": "2022-11-23T12:17:07.361298Z",
     "iopub.status.idle": "2022-11-23T12:17:07.364325Z",
     "shell.execute_reply": "2022-11-23T12:17:07.363781Z"
    },
    "papermill": {
     "duration": 0.043306,
     "end_time": "2022-11-23T12:17:07.364446",
     "exception": false,
     "start_time": "2022-11-23T12:17:07.321140",
     "status": "completed"
    },
    "tags": []
   },
   "outputs": [],
   "source": [
    "#hide\n",
    "def get_template(path):\n",
    "    from urllib.parse import urlparse\n",
    "    if bool(urlparse(path).netloc):\n",
    "        from urllib.request import urlopen\n",
    "        return urlopen(path).read().decode('utf8')\n",
    "    return open(path).read()"
   ]
  },
  {
   "cell_type": "code",
   "execution_count": 7,
   "id": "realistic-blast",
   "metadata": {
    "execution": {
     "iopub.execute_input": "2022-11-23T12:17:07.446109Z",
     "iopub.status.busy": "2022-11-23T12:17:07.445403Z",
     "iopub.status.idle": "2022-11-23T12:17:07.447906Z",
     "shell.execute_reply": "2022-11-23T12:17:07.448440Z"
    },
    "papermill": {
     "duration": 0.048238,
     "end_time": "2022-11-23T12:17:07.448575",
     "exception": false,
     "start_time": "2022-11-23T12:17:07.400337",
     "status": "completed"
    },
    "tags": []
   },
   "outputs": [],
   "source": [
    "#hide\n",
    "def get_frame(name):\n",
    "    url = (\n",
    "        'https://raw.githubusercontent.com/CSSEGISandData/COVID-19/master/csse_covid_19_data/'\n",
    "        f'csse_covid_19_time_series/time_series_covid19_{name}_global.csv')\n",
    "    df = pd.read_csv(url)\n",
    "    # rename countries\n",
    "    df['Country/Region'] = df['Country/Region'].replace(mapping['replace.country'])\n",
    "    return df"
   ]
  },
  {
   "cell_type": "code",
   "execution_count": 8,
   "id": "affiliated-characterization",
   "metadata": {
    "execution": {
     "iopub.execute_input": "2022-11-23T12:17:07.532138Z",
     "iopub.status.busy": "2022-11-23T12:17:07.531391Z",
     "iopub.status.idle": "2022-11-23T12:17:07.533893Z",
     "shell.execute_reply": "2022-11-23T12:17:07.534384Z"
    },
    "papermill": {
     "duration": 0.048367,
     "end_time": "2022-11-23T12:17:07.534524",
     "exception": false,
     "start_time": "2022-11-23T12:17:07.486157",
     "status": "completed"
    },
    "tags": []
   },
   "outputs": [],
   "source": [
    "#hide\n",
    "def get_dates(df):\n",
    "    dt_cols = df.columns[~df.columns.isin(['Province/State', 'Country/Region', 'Lat', 'Long'])]\n",
    "    LAST_DATE_I = -1\n",
    "    # sometimes last column may be empty, then go backwards\n",
    "    for i in range(-1, -len(dt_cols), -1):\n",
    "        if not df[dt_cols[i]].fillna(0).eq(0).all():\n",
    "            LAST_DATE_I = i\n",
    "            break\n",
    "    return LAST_DATE_I, dt_cols"
   ]
  },
  {
   "cell_type": "code",
   "execution_count": 9,
   "id": "recent-optimization",
   "metadata": {
    "execution": {
     "iopub.execute_input": "2022-11-23T12:17:07.616218Z",
     "iopub.status.busy": "2022-11-23T12:17:07.615529Z",
     "iopub.status.idle": "2022-11-23T12:17:08.233254Z",
     "shell.execute_reply": "2022-11-23T12:17:08.233792Z"
    },
    "papermill": {
     "duration": 0.662063,
     "end_time": "2022-11-23T12:17:08.233960",
     "exception": false,
     "start_time": "2022-11-23T12:17:07.571897",
     "status": "completed"
    },
    "tags": []
   },
   "outputs": [],
   "source": [
    "#hide\n",
    "COL_REGION = 'Country/Region'\n",
    "# Confirmed, Recovered, Deaths\n",
    "df = get_frame('confirmed')\n",
    "# dft_: timeseries, dfc_: today country agg\n",
    "dft_cases = df\n",
    "dft_deaths = get_frame('deaths')\n",
    "dft_recovered = get_frame('recovered')\n",
    "LAST_DATE_I, dt_cols = get_dates(df)"
   ]
  },
  {
   "cell_type": "code",
   "execution_count": 10,
   "id": "absolute-copper",
   "metadata": {
    "execution": {
     "iopub.execute_input": "2022-11-23T12:17:08.319906Z",
     "iopub.status.busy": "2022-11-23T12:17:08.318480Z",
     "iopub.status.idle": "2022-11-23T12:17:08.322236Z",
     "shell.execute_reply": "2022-11-23T12:17:08.322894Z"
    },
    "papermill": {
     "duration": 0.053235,
     "end_time": "2022-11-23T12:17:08.323032",
     "exception": false,
     "start_time": "2022-11-23T12:17:08.269797",
     "status": "completed"
    },
    "tags": []
   },
   "outputs": [],
   "source": [
    "#hide\n",
    "LAST_DATE_I, dt_cols = get_dates(df)\n",
    "dt_today =dt_cols[LAST_DATE_I]\n",
    "# dt_5day = dt_cols[LAST_DATE_I - 5]\n",
    "dt_yday = dt_cols[LAST_DATE_I - 1]"
   ]
  },
  {
   "cell_type": "code",
   "execution_count": 11,
   "id": "restricted-sheriff",
   "metadata": {
    "execution": {
     "iopub.execute_input": "2022-11-23T12:17:08.397723Z",
     "iopub.status.busy": "2022-11-23T12:17:08.397023Z",
     "iopub.status.idle": "2022-11-23T12:17:08.406291Z",
     "shell.execute_reply": "2022-11-23T12:17:08.406812Z"
    },
    "papermill": {
     "duration": 0.049608,
     "end_time": "2022-11-23T12:17:08.406939",
     "exception": false,
     "start_time": "2022-11-23T12:17:08.357331",
     "status": "completed"
    },
    "tags": []
   },
   "outputs": [],
   "source": [
    "#hide\n",
    "dfc_cases = dft_cases.groupby(COL_REGION)[dt_today].sum()\n",
    "dfc_deaths = dft_deaths.groupby(COL_REGION)[dt_today].sum()\n",
    "# dfp_cases = dft_cases.groupby(COL_REGION)[dt_5day].sum()\n",
    "# dfp_deaths = dft_deaths.groupby(COL_REGION)[dt_5day].sum()\n",
    "dfp_cases = dft_cases.groupby(COL_REGION)[dt_yday].sum()\n",
    "dfp_deaths = dft_deaths.groupby(COL_REGION)[dt_yday].sum()"
   ]
  },
  {
   "cell_type": "code",
   "execution_count": 12,
   "id": "deluxe-hepatitis",
   "metadata": {
    "execution": {
     "iopub.execute_input": "2022-11-23T12:17:08.485870Z",
     "iopub.status.busy": "2022-11-23T12:17:08.485171Z",
     "iopub.status.idle": "2022-11-23T12:17:08.491002Z",
     "shell.execute_reply": "2022-11-23T12:17:08.490384Z"
    },
    "papermill": {
     "duration": 0.047678,
     "end_time": "2022-11-23T12:17:08.491126",
     "exception": false,
     "start_time": "2022-11-23T12:17:08.443448",
     "status": "completed"
    },
    "tags": []
   },
   "outputs": [],
   "source": [
    "#hide\n",
    "df_table = (pd.DataFrame(dict(Cases = dfc_cases, Deaths = dfc_deaths, PCases = dfp_cases, PDeaths = dfp_deaths))\n",
    "            .sort_values(by = ['Cases','Deaths'], ascending = [False, False])\n",
    "            .reset_index())"
   ]
  },
  {
   "cell_type": "code",
   "execution_count": 13,
   "id": "educational-chancellor",
   "metadata": {
    "execution": {
     "iopub.execute_input": "2022-11-23T12:17:08.580425Z",
     "iopub.status.busy": "2022-11-23T12:17:08.579757Z",
     "iopub.status.idle": "2022-11-23T12:17:08.590351Z",
     "shell.execute_reply": "2022-11-23T12:17:08.589815Z"
    },
    "papermill": {
     "duration": 0.064392,
     "end_time": "2022-11-23T12:17:08.590469",
     "exception": false,
     "start_time": "2022-11-23T12:17:08.526077",
     "status": "completed"
    },
    "tags": []
   },
   "outputs": [
    {
     "data": {
      "text/html": [
       "<div>\n",
       "<style scoped>\n",
       "    .dataframe tbody tr th:only-of-type {\n",
       "        vertical-align: middle;\n",
       "    }\n",
       "\n",
       "    .dataframe tbody tr th {\n",
       "        vertical-align: top;\n",
       "    }\n",
       "\n",
       "    .dataframe thead th {\n",
       "        text-align: right;\n",
       "    }\n",
       "</style>\n",
       "<table border=\"1\" class=\"dataframe\">\n",
       "  <thead>\n",
       "    <tr style=\"text-align: right;\">\n",
       "      <th></th>\n",
       "      <th>Country/Region</th>\n",
       "      <th>Cases</th>\n",
       "      <th>Deaths</th>\n",
       "      <th>PCases</th>\n",
       "      <th>PDeaths</th>\n",
       "      <th>Cases (+)</th>\n",
       "      <th>Deaths (+)</th>\n",
       "      <th>Fatality Rate</th>\n",
       "      <th>Continent</th>\n",
       "    </tr>\n",
       "  </thead>\n",
       "  <tbody>\n",
       "    <tr>\n",
       "      <th>0</th>\n",
       "      <td>US</td>\n",
       "      <td>98386225</td>\n",
       "      <td>1077777</td>\n",
       "      <td>98351547</td>\n",
       "      <td>1077225</td>\n",
       "      <td>34678</td>\n",
       "      <td>552</td>\n",
       "      <td>1.10</td>\n",
       "      <td>North America</td>\n",
       "    </tr>\n",
       "    <tr>\n",
       "      <th>1</th>\n",
       "      <td>India</td>\n",
       "      <td>44671300</td>\n",
       "      <td>530596</td>\n",
       "      <td>44670940</td>\n",
       "      <td>530591</td>\n",
       "      <td>360</td>\n",
       "      <td>5</td>\n",
       "      <td>1.19</td>\n",
       "      <td>Asia</td>\n",
       "    </tr>\n",
       "    <tr>\n",
       "      <th>2</th>\n",
       "      <td>France</td>\n",
       "      <td>37641319</td>\n",
       "      <td>159467</td>\n",
       "      <td>37576243</td>\n",
       "      <td>159378</td>\n",
       "      <td>65076</td>\n",
       "      <td>89</td>\n",
       "      <td>0.42</td>\n",
       "      <td>Europe</td>\n",
       "    </tr>\n",
       "    <tr>\n",
       "      <th>3</th>\n",
       "      <td>Germany</td>\n",
       "      <td>36280371</td>\n",
       "      <td>156951</td>\n",
       "      <td>36247081</td>\n",
       "      <td>156812</td>\n",
       "      <td>33290</td>\n",
       "      <td>139</td>\n",
       "      <td>0.43</td>\n",
       "      <td>Europe</td>\n",
       "    </tr>\n",
       "    <tr>\n",
       "      <th>4</th>\n",
       "      <td>Brazil</td>\n",
       "      <td>35052152</td>\n",
       "      <td>689155</td>\n",
       "      <td>34999495</td>\n",
       "      <td>688907</td>\n",
       "      <td>52657</td>\n",
       "      <td>248</td>\n",
       "      <td>1.97</td>\n",
       "      <td>South America</td>\n",
       "    </tr>\n",
       "  </tbody>\n",
       "</table>\n",
       "</div>"
      ],
      "text/plain": [
       "  Country/Region     Cases   Deaths    PCases  PDeaths  Cases (+)  Deaths (+)  \\\n",
       "0             US  98386225  1077777  98351547  1077225      34678         552   \n",
       "1          India  44671300   530596  44670940   530591        360           5   \n",
       "2         France  37641319   159467  37576243   159378      65076          89   \n",
       "3        Germany  36280371   156951  36247081   156812      33290         139   \n",
       "4         Brazil  35052152   689155  34999495   688907      52657         248   \n",
       "\n",
       "   Fatality Rate      Continent  \n",
       "0           1.10  North America  \n",
       "1           1.19           Asia  \n",
       "2           0.42         Europe  \n",
       "3           0.43         Europe  \n",
       "4           1.97  South America  "
      ]
     },
     "execution_count": 13,
     "metadata": {},
     "output_type": "execute_result"
    }
   ],
   "source": [
    "#hide\n",
    "for c in 'Cases, Deaths'.split(', '):\n",
    "    df_table[f'{c} (+)'] = (df_table[c] - df_table[f'P{c}']).clip(0)\n",
    "    #Clip ça veut dire, les chiffres negatif sont interdit\n",
    "df_table['Fatality Rate'] = (100* df_table['Deaths']/ df_table['Cases']).round(2)\n",
    "df_table['Continent'] = df_table['Country/Region'].map(mapping['map.continent'])\n",
    "df_table.head(5)"
   ]
  },
  {
   "cell_type": "code",
   "execution_count": 14,
   "id": "aboriginal-bulgaria",
   "metadata": {
    "execution": {
     "iopub.execute_input": "2022-11-23T12:17:08.667063Z",
     "iopub.status.busy": "2022-11-23T12:17:08.666413Z",
     "iopub.status.idle": "2022-11-23T12:17:08.668785Z",
     "shell.execute_reply": "2022-11-23T12:17:08.669526Z"
    },
    "papermill": {
     "duration": 0.044486,
     "end_time": "2022-11-23T12:17:08.669661",
     "exception": false,
     "start_time": "2022-11-23T12:17:08.625175",
     "status": "completed"
    },
    "tags": []
   },
   "outputs": [],
   "source": [
    "#hide\n",
    "#delete problematic countries from table\n",
    "df_table = df_table[~df_table['Country/Region'].isin(['Cape Verde', 'Cruise Ship', 'Kosovo'])]"
   ]
  },
  {
   "cell_type": "code",
   "execution_count": 15,
   "id": "fantastic-effect",
   "metadata": {
    "execution": {
     "iopub.execute_input": "2022-11-23T12:17:08.748716Z",
     "iopub.status.busy": "2022-11-23T12:17:08.747846Z",
     "iopub.status.idle": "2022-11-23T12:17:08.769023Z",
     "shell.execute_reply": "2022-11-23T12:17:08.768464Z"
    },
    "papermill": {
     "duration": 0.065791,
     "end_time": "2022-11-23T12:17:08.769142",
     "exception": false,
     "start_time": "2022-11-23T12:17:08.703351",
     "status": "completed"
    },
    "tags": []
   },
   "outputs": [
    {
     "data": {
      "text/html": [
       "<div>\n",
       "<style scoped>\n",
       "    .dataframe tbody tr th:only-of-type {\n",
       "        vertical-align: middle;\n",
       "    }\n",
       "\n",
       "    .dataframe tbody tr th {\n",
       "        vertical-align: top;\n",
       "    }\n",
       "\n",
       "    .dataframe thead th {\n",
       "        text-align: right;\n",
       "    }\n",
       "</style>\n",
       "<table border=\"1\" class=\"dataframe\">\n",
       "  <thead>\n",
       "    <tr style=\"text-align: right;\">\n",
       "      <th></th>\n",
       "      <th>Country/Region</th>\n",
       "      <th>Cases</th>\n",
       "      <th>Deaths</th>\n",
       "      <th>PCases</th>\n",
       "      <th>PDeaths</th>\n",
       "      <th>Cases (+)</th>\n",
       "      <th>Deaths (+)</th>\n",
       "      <th>Fatality Rate</th>\n",
       "      <th>Continent</th>\n",
       "    </tr>\n",
       "  </thead>\n",
       "  <tbody>\n",
       "    <tr>\n",
       "      <th>0</th>\n",
       "      <td>US</td>\n",
       "      <td>98386225</td>\n",
       "      <td>1077777</td>\n",
       "      <td>98351547</td>\n",
       "      <td>1077225</td>\n",
       "      <td>34678</td>\n",
       "      <td>552</td>\n",
       "      <td>1.1</td>\n",
       "      <td>North America</td>\n",
       "    </tr>\n",
       "    <tr>\n",
       "      <th>1</th>\n",
       "      <td>India</td>\n",
       "      <td>44671300</td>\n",
       "      <td>530596</td>\n",
       "      <td>44670940</td>\n",
       "      <td>530591</td>\n",
       "      <td>360</td>\n",
       "      <td>5</td>\n",
       "      <td>1.2</td>\n",
       "      <td>Asia</td>\n",
       "    </tr>\n",
       "    <tr>\n",
       "      <th>2</th>\n",
       "      <td>France</td>\n",
       "      <td>37641319</td>\n",
       "      <td>159467</td>\n",
       "      <td>37576243</td>\n",
       "      <td>159378</td>\n",
       "      <td>65076</td>\n",
       "      <td>89</td>\n",
       "      <td>0.4</td>\n",
       "      <td>Europe</td>\n",
       "    </tr>\n",
       "    <tr>\n",
       "      <th>3</th>\n",
       "      <td>Germany</td>\n",
       "      <td>36280371</td>\n",
       "      <td>156951</td>\n",
       "      <td>36247081</td>\n",
       "      <td>156812</td>\n",
       "      <td>33290</td>\n",
       "      <td>139</td>\n",
       "      <td>0.4</td>\n",
       "      <td>Europe</td>\n",
       "    </tr>\n",
       "    <tr>\n",
       "      <th>4</th>\n",
       "      <td>Brazil</td>\n",
       "      <td>35052152</td>\n",
       "      <td>689155</td>\n",
       "      <td>34999495</td>\n",
       "      <td>688907</td>\n",
       "      <td>52657</td>\n",
       "      <td>248</td>\n",
       "      <td>2.0</td>\n",
       "      <td>South America</td>\n",
       "    </tr>\n",
       "  </tbody>\n",
       "</table>\n",
       "</div>"
      ],
      "text/plain": [
       "  Country/Region     Cases   Deaths    PCases  PDeaths  Cases (+)  Deaths (+)  \\\n",
       "0             US  98386225  1077777  98351547  1077225      34678         552   \n",
       "1          India  44671300   530596  44670940   530591        360           5   \n",
       "2         France  37641319   159467  37576243   159378      65076          89   \n",
       "3        Germany  36280371   156951  36247081   156812      33290         139   \n",
       "4         Brazil  35052152   689155  34999495   688907      52657         248   \n",
       "\n",
       "   Fatality Rate      Continent  \n",
       "0            1.1  North America  \n",
       "1            1.2           Asia  \n",
       "2            0.4         Europe  \n",
       "3            0.4         Europe  \n",
       "4            2.0  South America  "
      ]
     },
     "execution_count": 15,
     "metadata": {},
     "output_type": "execute_result"
    }
   ],
   "source": [
    "#hide\n",
    "df_table = (pd.DataFrame(dict(Cases=dfc_cases, Deaths=dfc_deaths, PCases=dfp_cases, PDeaths=dfp_deaths))\n",
    "             .sort_values(by=['Cases', 'Deaths'], ascending=[False, False])\n",
    "             .reset_index())\n",
    "df_table.rename(columns={'index': 'Country/Region'}, inplace=True)\n",
    "for c in 'Cases, Deaths'.split(', '):\n",
    "    df_table[f'{c} (+)'] = (df_table[c] - df_table[f'P{c}']).clip(0)  # DATA BUG\n",
    "df_table['Fatality Rate'] = (100 * df_table['Deaths'] / df_table['Cases']).round(1)\n",
    "df_table['Continent'] = df_table['Country/Region'].map(mapping['map.continent'])\n",
    "df_table.head(5)"
   ]
  },
  {
   "cell_type": "code",
   "execution_count": 16,
   "id": "fewer-occasion",
   "metadata": {
    "execution": {
     "iopub.execute_input": "2022-11-23T12:17:08.847691Z",
     "iopub.status.busy": "2022-11-23T12:17:08.847041Z",
     "iopub.status.idle": "2022-11-23T12:17:08.850051Z",
     "shell.execute_reply": "2022-11-23T12:17:08.850717Z"
    },
    "papermill": {
     "duration": 0.0443,
     "end_time": "2022-11-23T12:17:08.850851",
     "exception": false,
     "start_time": "2022-11-23T12:17:08.806551",
     "status": "completed"
    },
    "tags": []
   },
   "outputs": [],
   "source": [
    "#hide\n",
    "#delete problematic countries from table\n",
    "df_table = df_table[~df_table['Country/Region'].isin(['Cape Verde', 'Cruise Ship', 'Kosovo'])]"
   ]
  },
  {
   "cell_type": "code",
   "execution_count": 17,
   "id": "related-center",
   "metadata": {
    "execution": {
     "iopub.execute_input": "2022-11-23T12:17:08.942474Z",
     "iopub.status.busy": "2022-11-23T12:17:08.941810Z",
     "iopub.status.idle": "2022-11-23T12:17:08.944497Z",
     "shell.execute_reply": "2022-11-23T12:17:08.945154Z"
    },
    "papermill": {
     "duration": 0.059533,
     "end_time": "2022-11-23T12:17:08.945374",
     "exception": false,
     "start_time": "2022-11-23T12:17:08.885841",
     "status": "completed"
    },
    "tags": []
   },
   "outputs": [],
   "source": [
    "#hide\n",
    "metrics = [df_table.columns[index] for index in [1,2,5,6]]\n",
    "# s_china = df_table[df_table['Country/Region'].eq('China')][metrics].sum().add_prefix('China ')\n",
    "s_us = df_table[df_table['Country/Region'].eq('US')][metrics].sum().add_prefix('US ')\n",
    "s_eu = df_table[df_table['Continent'].eq('Europe')][metrics].sum().add_prefix('EU ')\n",
    "s_ind = df_table[df_table['Country/Region'].eq('India')][metrics].sum().add_prefix('India ')\n",
    "summary = {'updated': pd.to_datetime(dt_today), 'since': pd.to_datetime(dt_yday)}\n",
    "summary = {'updated': pd.to_datetime(dt_today), 'since': pd.to_datetime(dt_yday)}\n",
    "summary = {**summary, **df_table[metrics].sum(), **s_ind, **s_us, **s_eu}"
   ]
  },
  {
   "cell_type": "code",
   "execution_count": 18,
   "id": "engaging-syndrome",
   "metadata": {
    "execution": {
     "iopub.execute_input": "2022-11-23T12:17:09.020277Z",
     "iopub.status.busy": "2022-11-23T12:17:09.019586Z",
     "iopub.status.idle": "2022-11-23T12:17:09.040545Z",
     "shell.execute_reply": "2022-11-23T12:17:09.039870Z"
    },
    "papermill": {
     "duration": 0.060496,
     "end_time": "2022-11-23T12:17:09.040700",
     "exception": false,
     "start_time": "2022-11-23T12:17:08.980204",
     "status": "completed"
    },
    "tags": []
   },
   "outputs": [],
   "source": [
    "#hide\n",
    "dft_ct_new_cases = dft_cases.groupby(COL_REGION)[dt_cols].sum().diff(axis=1).fillna(0).astype(int)"
   ]
  },
  {
   "cell_type": "code",
   "execution_count": 19,
   "id": "neutral-assignment",
   "metadata": {
    "execution": {
     "iopub.execute_input": "2022-11-23T12:17:09.123038Z",
     "iopub.status.busy": "2022-11-23T12:17:09.122373Z",
     "iopub.status.idle": "2022-11-23T12:17:09.125534Z",
     "shell.execute_reply": "2022-11-23T12:17:09.124985Z"
    },
    "papermill": {
     "duration": 0.046786,
     "end_time": "2022-11-23T12:17:09.125654",
     "exception": false,
     "start_time": "2022-11-23T12:17:09.078868",
     "status": "completed"
    },
    "tags": []
   },
   "outputs": [],
   "source": [
    "#hide\n",
    "everydaycases = dft_ct_new_cases.cumsum(axis=1)"
   ]
  },
  {
   "cell_type": "code",
   "execution_count": 20,
   "id": "parliamentary-calgary",
   "metadata": {
    "execution": {
     "iopub.execute_input": "2022-11-23T12:17:09.205567Z",
     "iopub.status.busy": "2022-11-23T12:17:09.204892Z",
     "iopub.status.idle": "2022-11-23T12:17:09.845623Z",
     "shell.execute_reply": "2022-11-23T12:17:09.846201Z"
    },
    "papermill": {
     "duration": 0.681626,
     "end_time": "2022-11-23T12:17:09.846369",
     "exception": false,
     "start_time": "2022-11-23T12:17:09.164743",
     "status": "completed"
    },
    "tags": []
   },
   "outputs": [],
   "source": [
    "#hide\n",
    "import pandas as pd\n",
    "import matplotlib.pyplot as plt\n",
    "import matplotlib.ticker as ticker\n",
    "import matplotlib.animation as animation\n",
    "from IPython.display import HTML"
   ]
  },
  {
   "cell_type": "code",
   "execution_count": 21,
   "id": "lasting-extraction",
   "metadata": {
    "execution": {
     "iopub.execute_input": "2022-11-23T12:17:09.926188Z",
     "iopub.status.busy": "2022-11-23T12:17:09.925427Z",
     "iopub.status.idle": "2022-11-23T12:17:09.933514Z",
     "shell.execute_reply": "2022-11-23T12:17:09.932959Z"
    },
    "papermill": {
     "duration": 0.050959,
     "end_time": "2022-11-23T12:17:09.933642",
     "exception": false,
     "start_time": "2022-11-23T12:17:09.882683",
     "status": "completed"
    },
    "tags": []
   },
   "outputs": [],
   "source": [
    "#hide\n",
    "t = everydaycases.stack()"
   ]
  },
  {
   "cell_type": "code",
   "execution_count": 22,
   "id": "premier-sleeve",
   "metadata": {
    "execution": {
     "iopub.execute_input": "2022-11-23T12:17:10.009771Z",
     "iopub.status.busy": "2022-11-23T12:17:10.009058Z",
     "iopub.status.idle": "2022-11-23T12:17:10.022705Z",
     "shell.execute_reply": "2022-11-23T12:17:10.022161Z"
    },
    "papermill": {
     "duration": 0.052881,
     "end_time": "2022-11-23T12:17:10.022825",
     "exception": false,
     "start_time": "2022-11-23T12:17:09.969944",
     "status": "completed"
    },
    "tags": []
   },
   "outputs": [],
   "source": [
    "#hide\n",
    "g = t.reset_index(['Country/Region'])"
   ]
  },
  {
   "cell_type": "code",
   "execution_count": 23,
   "id": "distributed-pittsburgh",
   "metadata": {
    "execution": {
     "iopub.execute_input": "2022-11-23T12:17:10.100633Z",
     "iopub.status.busy": "2022-11-23T12:17:10.099960Z",
     "iopub.status.idle": "2022-11-23T12:17:10.103058Z",
     "shell.execute_reply": "2022-11-23T12:17:10.102443Z"
    },
    "papermill": {
     "duration": 0.044372,
     "end_time": "2022-11-23T12:17:10.103183",
     "exception": false,
     "start_time": "2022-11-23T12:17:10.058811",
     "status": "completed"
    },
    "tags": []
   },
   "outputs": [],
   "source": [
    "#hide\n",
    "g.index.name = 'date'"
   ]
  },
  {
   "cell_type": "code",
   "execution_count": 24,
   "id": "naked-donor",
   "metadata": {
    "execution": {
     "iopub.execute_input": "2022-11-23T12:17:10.182594Z",
     "iopub.status.busy": "2022-11-23T12:17:10.181857Z",
     "iopub.status.idle": "2022-11-23T12:17:10.184358Z",
     "shell.execute_reply": "2022-11-23T12:17:10.184958Z"
    },
    "papermill": {
     "duration": 0.045428,
     "end_time": "2022-11-23T12:17:10.185115",
     "exception": false,
     "start_time": "2022-11-23T12:17:10.139687",
     "status": "completed"
    },
    "tags": []
   },
   "outputs": [],
   "source": [
    "# #hide\n",
    "# g = g.reset_index(['date'])"
   ]
  },
  {
   "cell_type": "code",
   "execution_count": 25,
   "id": "incomplete-mustang",
   "metadata": {
    "execution": {
     "iopub.execute_input": "2022-11-23T12:17:10.262289Z",
     "iopub.status.busy": "2022-11-23T12:17:10.261627Z",
     "iopub.status.idle": "2022-11-23T12:17:10.264092Z",
     "shell.execute_reply": "2022-11-23T12:17:10.264580Z"
    },
    "papermill": {
     "duration": 0.042694,
     "end_time": "2022-11-23T12:17:10.264741",
     "exception": false,
     "start_time": "2022-11-23T12:17:10.222047",
     "status": "completed"
    },
    "tags": []
   },
   "outputs": [],
   "source": [
    "#hide\n",
    "# g.head()"
   ]
  },
  {
   "cell_type": "code",
   "execution_count": 26,
   "id": "specific-kruger",
   "metadata": {
    "execution": {
     "iopub.execute_input": "2022-11-23T12:17:10.339918Z",
     "iopub.status.busy": "2022-11-23T12:17:10.339183Z",
     "iopub.status.idle": "2022-11-23T12:17:10.340695Z",
     "shell.execute_reply": "2022-11-23T12:17:10.341339Z"
    },
    "papermill": {
     "duration": 0.041067,
     "end_time": "2022-11-23T12:17:10.341476",
     "exception": false,
     "start_time": "2022-11-23T12:17:10.300409",
     "status": "completed"
    },
    "tags": []
   },
   "outputs": [],
   "source": [
    "#hide\n",
    "# g.columns = ['date','country','cases']"
   ]
  },
  {
   "cell_type": "code",
   "execution_count": 27,
   "id": "tender-conversion",
   "metadata": {
    "execution": {
     "iopub.execute_input": "2022-11-23T12:17:10.416445Z",
     "iopub.status.busy": "2022-11-23T12:17:10.415385Z",
     "iopub.status.idle": "2022-11-23T12:17:10.419921Z",
     "shell.execute_reply": "2022-11-23T12:17:10.419413Z"
    },
    "papermill": {
     "duration": 0.043249,
     "end_time": "2022-11-23T12:17:10.420036",
     "exception": false,
     "start_time": "2022-11-23T12:17:10.376787",
     "status": "completed"
    },
    "tags": []
   },
   "outputs": [],
   "source": [
    "#hide\n",
    "# g['continent'] = g.country"
   ]
  },
  {
   "cell_type": "code",
   "execution_count": 28,
   "id": "substantial-wilderness",
   "metadata": {
    "execution": {
     "iopub.execute_input": "2022-11-23T12:17:10.496645Z",
     "iopub.status.busy": "2022-11-23T12:17:10.495825Z",
     "iopub.status.idle": "2022-11-23T12:17:10.498524Z",
     "shell.execute_reply": "2022-11-23T12:17:10.499046Z"
    },
    "papermill": {
     "duration": 0.042468,
     "end_time": "2022-11-23T12:17:10.499191",
     "exception": false,
     "start_time": "2022-11-23T12:17:10.456723",
     "status": "completed"
    },
    "tags": []
   },
   "outputs": [],
   "source": [
    "#hide\n",
    "# cols = list(g.columns.values)"
   ]
  },
  {
   "cell_type": "code",
   "execution_count": 29,
   "id": "solved-farming",
   "metadata": {
    "execution": {
     "iopub.execute_input": "2022-11-23T12:17:10.577549Z",
     "iopub.status.busy": "2022-11-23T12:17:10.576797Z",
     "iopub.status.idle": "2022-11-23T12:17:10.580061Z",
     "shell.execute_reply": "2022-11-23T12:17:10.579419Z"
    },
    "papermill": {
     "duration": 0.044866,
     "end_time": "2022-11-23T12:17:10.580196",
     "exception": false,
     "start_time": "2022-11-23T12:17:10.535330",
     "status": "completed"
    },
    "tags": []
   },
   "outputs": [],
   "source": [
    "#hide\n",
    "# cols.insert(0, cols.pop())"
   ]
  },
  {
   "cell_type": "code",
   "execution_count": 30,
   "id": "executed-adoption",
   "metadata": {
    "execution": {
     "iopub.execute_input": "2022-11-23T12:17:10.654355Z",
     "iopub.status.busy": "2022-11-23T12:17:10.653678Z",
     "iopub.status.idle": "2022-11-23T12:17:10.657290Z",
     "shell.execute_reply": "2022-11-23T12:17:10.656712Z"
    },
    "papermill": {
     "duration": 0.041942,
     "end_time": "2022-11-23T12:17:10.657434",
     "exception": false,
     "start_time": "2022-11-23T12:17:10.615492",
     "status": "completed"
    },
    "tags": []
   },
   "outputs": [],
   "source": [
    "#hide\n",
    "# g = g[cols]"
   ]
  },
  {
   "cell_type": "code",
   "execution_count": 31,
   "id": "subject-dublin",
   "metadata": {
    "execution": {
     "iopub.execute_input": "2022-11-23T12:17:10.732835Z",
     "iopub.status.busy": "2022-11-23T12:17:10.732106Z",
     "iopub.status.idle": "2022-11-23T12:17:10.735431Z",
     "shell.execute_reply": "2022-11-23T12:17:10.734902Z"
    },
    "papermill": {
     "duration": 0.041956,
     "end_time": "2022-11-23T12:17:10.735544",
     "exception": false,
     "start_time": "2022-11-23T12:17:10.693588",
     "status": "completed"
    },
    "tags": []
   },
   "outputs": [],
   "source": [
    "#hide\n",
    "# g['continent'] = g['continent'].map(mapping['map.continent'])"
   ]
  },
  {
   "cell_type": "code",
   "execution_count": 32,
   "id": "freelance-scout",
   "metadata": {
    "execution": {
     "iopub.execute_input": "2022-11-23T12:17:10.811739Z",
     "iopub.status.busy": "2022-11-23T12:17:10.811058Z",
     "iopub.status.idle": "2022-11-23T12:17:10.814713Z",
     "shell.execute_reply": "2022-11-23T12:17:10.814054Z"
    },
    "papermill": {
     "duration": 0.042066,
     "end_time": "2022-11-23T12:17:10.814830",
     "exception": false,
     "start_time": "2022-11-23T12:17:10.772764",
     "status": "completed"
    },
    "tags": []
   },
   "outputs": [],
   "source": [
    "#hide\n",
    "# g.head()"
   ]
  },
  {
   "cell_type": "code",
   "execution_count": 33,
   "id": "limited-engine",
   "metadata": {
    "execution": {
     "iopub.execute_input": "2022-11-23T12:17:10.891762Z",
     "iopub.status.busy": "2022-11-23T12:17:10.891039Z",
     "iopub.status.idle": "2022-11-23T12:17:10.893897Z",
     "shell.execute_reply": "2022-11-23T12:17:10.894390Z"
    },
    "papermill": {
     "duration": 0.043657,
     "end_time": "2022-11-23T12:17:10.894527",
     "exception": false,
     "start_time": "2022-11-23T12:17:10.850870",
     "status": "completed"
    },
    "tags": []
   },
   "outputs": [],
   "source": [
    "# hide\n",
    "# g['date'] = g['date'].astype('datetime64[ns]')"
   ]
  },
  {
   "cell_type": "code",
   "execution_count": 34,
   "id": "sophisticated-supervisor",
   "metadata": {
    "execution": {
     "iopub.execute_input": "2022-11-23T12:17:10.970689Z",
     "iopub.status.busy": "2022-11-23T12:17:10.970032Z",
     "iopub.status.idle": "2022-11-23T12:17:10.973233Z",
     "shell.execute_reply": "2022-11-23T12:17:10.972600Z"
    },
    "papermill": {
     "duration": 0.042545,
     "end_time": "2022-11-23T12:17:10.973364",
     "exception": false,
     "start_time": "2022-11-23T12:17:10.930819",
     "status": "completed"
    },
    "tags": []
   },
   "outputs": [],
   "source": [
    "#hide\n",
    "# g['date'] = g.date.dt.dayofyear"
   ]
  },
  {
   "cell_type": "code",
   "execution_count": 35,
   "id": "inside-dubai",
   "metadata": {
    "execution": {
     "iopub.execute_input": "2022-11-23T12:17:11.052764Z",
     "iopub.status.busy": "2022-11-23T12:17:11.051904Z",
     "iopub.status.idle": "2022-11-23T12:17:11.055894Z",
     "shell.execute_reply": "2022-11-23T12:17:11.055314Z"
    },
    "papermill": {
     "duration": 0.044452,
     "end_time": "2022-11-23T12:17:11.056016",
     "exception": false,
     "start_time": "2022-11-23T12:17:11.011564",
     "status": "completed"
    },
    "tags": []
   },
   "outputs": [],
   "source": [
    "#hide\n",
    "# g = g.rename(columns= {'continent':'group','country':'name','cases':'value'})"
   ]
  },
  {
   "cell_type": "code",
   "execution_count": 36,
   "id": "fleet-motorcycle",
   "metadata": {
    "execution": {
     "iopub.execute_input": "2022-11-23T12:17:11.135331Z",
     "iopub.status.busy": "2022-11-23T12:17:11.134590Z",
     "iopub.status.idle": "2022-11-23T12:17:11.137800Z",
     "shell.execute_reply": "2022-11-23T12:17:11.137265Z"
    },
    "papermill": {
     "duration": 0.04308,
     "end_time": "2022-11-23T12:17:11.137919",
     "exception": false,
     "start_time": "2022-11-23T12:17:11.094839",
     "status": "completed"
    },
    "tags": []
   },
   "outputs": [],
   "source": [
    "#hide\n",
    "# cols = ['name','group','day','value']"
   ]
  },
  {
   "cell_type": "code",
   "execution_count": 37,
   "id": "continued-sleeping",
   "metadata": {
    "execution": {
     "iopub.execute_input": "2022-11-23T12:17:11.214582Z",
     "iopub.status.busy": "2022-11-23T12:17:11.213900Z",
     "iopub.status.idle": "2022-11-23T12:17:11.217000Z",
     "shell.execute_reply": "2022-11-23T12:17:11.216421Z"
    },
    "papermill": {
     "duration": 0.041551,
     "end_time": "2022-11-23T12:17:11.217118",
     "exception": false,
     "start_time": "2022-11-23T12:17:11.175567",
     "status": "completed"
    },
    "tags": []
   },
   "outputs": [],
   "source": [
    "#hide\n",
    "# g.rename(columns= {'date':'day'},inplace = True)"
   ]
  },
  {
   "cell_type": "code",
   "execution_count": 38,
   "id": "major-fight",
   "metadata": {
    "execution": {
     "iopub.execute_input": "2022-11-23T12:17:11.294627Z",
     "iopub.status.busy": "2022-11-23T12:17:11.293967Z",
     "iopub.status.idle": "2022-11-23T12:17:11.297154Z",
     "shell.execute_reply": "2022-11-23T12:17:11.296515Z"
    },
    "papermill": {
     "duration": 0.044689,
     "end_time": "2022-11-23T12:17:11.297271",
     "exception": false,
     "start_time": "2022-11-23T12:17:11.252582",
     "status": "completed"
    },
    "tags": []
   },
   "outputs": [],
   "source": [
    "#hide\n",
    "# g = g[cols]"
   ]
  },
  {
   "cell_type": "code",
   "execution_count": 39,
   "id": "structured-mobile",
   "metadata": {
    "execution": {
     "iopub.execute_input": "2022-11-23T12:17:11.373277Z",
     "iopub.status.busy": "2022-11-23T12:17:11.372580Z",
     "iopub.status.idle": "2022-11-23T12:17:11.375020Z",
     "shell.execute_reply": "2022-11-23T12:17:11.375512Z"
    },
    "papermill": {
     "duration": 0.042706,
     "end_time": "2022-11-23T12:17:11.375648",
     "exception": false,
     "start_time": "2022-11-23T12:17:11.332942",
     "status": "completed"
    },
    "tags": []
   },
   "outputs": [],
   "source": [
    "# #hide\n",
    "# g = g[g.group.notna()]"
   ]
  },
  {
   "cell_type": "code",
   "execution_count": 40,
   "id": "determined-closing",
   "metadata": {
    "execution": {
     "iopub.execute_input": "2022-11-23T12:17:11.453257Z",
     "iopub.status.busy": "2022-11-23T12:17:11.452491Z",
     "iopub.status.idle": "2022-11-23T12:17:11.455606Z",
     "shell.execute_reply": "2022-11-23T12:17:11.454994Z"
    },
    "papermill": {
     "duration": 0.044012,
     "end_time": "2022-11-23T12:17:11.455738",
     "exception": false,
     "start_time": "2022-11-23T12:17:11.411726",
     "status": "completed"
    },
    "tags": []
   },
   "outputs": [],
   "source": [
    "# #hide\n",
    "# colors = dict(zip(\n",
    "#     [\"Oceania\", \"Europe\", \"Asia\", \"South America\", \"Middle East\", \"North America\", \"Africa\"],\n",
    "#     [\"#adb0ff\", \"#ffb3ff\", \"#90d595\", \"#e48381\", \"#aafbff\", \"#f7bb5f\", \"#eafb50\"]\n",
    "# ))\n",
    "# group_lk = g.set_index('name')['group'].to_dict()"
   ]
  },
  {
   "cell_type": "code",
   "execution_count": null,
   "id": "gross-drinking",
   "metadata": {
    "papermill": {
     "duration": 0.036655,
     "end_time": "2022-11-23T12:17:11.532502",
     "exception": false,
     "start_time": "2022-11-23T12:17:11.495847",
     "status": "completed"
    },
    "tags": []
   },
   "outputs": [],
   "source": []
  },
  {
   "cell_type": "code",
   "execution_count": 41,
   "id": "subject-macintosh",
   "metadata": {
    "execution": {
     "iopub.execute_input": "2022-11-23T12:17:11.611255Z",
     "iopub.status.busy": "2022-11-23T12:17:11.610574Z",
     "iopub.status.idle": "2022-11-23T12:17:11.613560Z",
     "shell.execute_reply": "2022-11-23T12:17:11.613020Z"
    },
    "papermill": {
     "duration": 0.042766,
     "end_time": "2022-11-23T12:17:11.613680",
     "exception": false,
     "start_time": "2022-11-23T12:17:11.570914",
     "status": "completed"
    },
    "tags": []
   },
   "outputs": [],
   "source": [
    "# #hide\n",
    "# fig, ax = plt.subplots(figsize=(15, 8))\n",
    "\n",
    "# def draw_barchart(current_day):\n",
    "#     dff = g[g['day'].eq(current_day)].sort_values(by='value', ascending=True).tail(10)\n",
    "#     ax.clear()\n",
    "#     ax.barh(dff['name'], dff['value'], color=[colors[group_lk[x]] for x in dff['name']])\n",
    "#     dx = dff['value'].max() / 200\n",
    "    \n",
    "#     for i, (value, name) in enumerate(zip(dff['value'], dff['name'])):\n",
    "#         ax.text(value-dx, i,     name,           size=14, weight=600, ha='right', va='bottom')\n",
    "#         ax.text(value-dx, i-.25, group_lk[name], size=10, color='#444444', ha='right', va='baseline')\n",
    "#         ax.text(value+dx, i,     f'{value:,.0f}',  size=14, ha='left',  va='center')\n",
    "#     ax.text(1, 0.4, current_day, transform=ax.transAxes, color='#777777', size=46, ha='right', weight=800)\n",
    "#     ax.text(0, 1.06, 'Population (thousands)', transform=ax.transAxes, size=12, color='#777777')\n",
    "#     ax.xaxis.set_major_formatter(ticker.StrMethodFormatter('{x:,.0f}'))\n",
    "#     ax.xaxis.set_ticks_position('top')\n",
    "#     ax.tick_params(axis='x', colors='#777777', labelsize=12)\n",
    "#     ax.set_yticks([])\n",
    "#     ax.margins(0, 0.01)\n",
    "#     ax.grid(which='major', axis='x', linestyle='-')\n",
    "#     ax.set_axisbelow(True)\n",
    "    \n",
    "#     ax.text(0, 1.15, 'Coronavirus',\n",
    "#             transform=ax.transAxes, size=24, weight=600, ha='left', va='top')\n",
    "# #     ax.text(1, 0, 'by @pratapvardhan; credit @jburnmurdoch', transform=ax.transAxes, color='#777777', ha='right',\n",
    "# #             bbox=dict(facecolor='white', alpha=0.8, edgecolor='white'))\n",
    "#     plt.box(False)"
   ]
  },
  {
   "cell_type": "code",
   "execution_count": 42,
   "id": "sexual-wages",
   "metadata": {
    "execution": {
     "iopub.execute_input": "2022-11-23T12:17:11.689441Z",
     "iopub.status.busy": "2022-11-23T12:17:11.688764Z",
     "iopub.status.idle": "2022-11-23T12:17:11.691926Z",
     "shell.execute_reply": "2022-11-23T12:17:11.692422Z"
    },
    "papermill": {
     "duration": 0.043953,
     "end_time": "2022-11-23T12:17:11.692560",
     "exception": false,
     "start_time": "2022-11-23T12:17:11.648607",
     "status": "completed"
    },
    "tags": []
   },
   "outputs": [],
   "source": [
    "# #hide_input\n",
    "# fig, ax = plt.subplots(figsize=(15, 8))\n",
    "# animator = animation.FuncAnimation(fig, draw_barchart, frames=range(g.day.values.min(), g.day.values.max()))\n",
    "# HTML(animator.to_jshtml())\n",
    "# # or use animator.to_html5_video() or animator.save() "
   ]
  },
  {
   "cell_type": "code",
   "execution_count": null,
   "id": "australian-container",
   "metadata": {
    "papermill": {
     "duration": 0.034844,
     "end_time": "2022-11-23T12:17:11.762925",
     "exception": false,
     "start_time": "2022-11-23T12:17:11.728081",
     "status": "completed"
    },
    "tags": []
   },
   "outputs": [],
   "source": []
  },
  {
   "cell_type": "code",
   "execution_count": null,
   "id": "mediterranean-pontiac",
   "metadata": {
    "papermill": {
     "duration": 0.035898,
     "end_time": "2022-11-23T12:17:11.838221",
     "exception": false,
     "start_time": "2022-11-23T12:17:11.802323",
     "status": "completed"
    },
    "tags": []
   },
   "outputs": [],
   "source": []
  },
  {
   "cell_type": "code",
   "execution_count": null,
   "id": "aging-legislature",
   "metadata": {
    "papermill": {
     "duration": 0.037627,
     "end_time": "2022-11-23T12:17:11.911576",
     "exception": false,
     "start_time": "2022-11-23T12:17:11.873949",
     "status": "completed"
    },
    "tags": []
   },
   "outputs": [],
   "source": []
  }
 ],
 "metadata": {
  "kernelspec": {
   "display_name": "Python 3",
   "language": "python",
   "name": "python3"
  },
  "language_info": {
   "codemirror_mode": {
    "name": "ipython",
    "version": 3
   },
   "file_extension": ".py",
   "mimetype": "text/x-python",
   "name": "python",
   "nbconvert_exporter": "python",
   "pygments_lexer": "ipython3",
   "version": "3.6.15"
  },
  "papermill": {
   "duration": 7.150066,
   "end_time": "2022-11-23T12:17:12.265858",
   "environment_variables": {},
   "exception": null,
   "input_path": "2020-03-21-covid19exp.ipynb",
   "output_path": "2020-03-21-covid19exp.ipynb",
   "parameters": {},
   "start_time": "2022-11-23T12:17:05.115792",
   "version": "2.0.0"
  }
 },
 "nbformat": 4,
 "nbformat_minor": 5
}