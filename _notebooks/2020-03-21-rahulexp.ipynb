{
 "cells": [
  {
   "cell_type": "markdown",
   "id": "substantial-verification",
   "metadata": {
    "papermill": {
     "duration": 0.022682,
     "end_time": "2022-04-18T12:16:25.401852",
     "exception": false,
     "start_time": "2022-04-18T12:16:25.379170",
     "status": "completed"
    },
    "tags": []
   },
   "source": [
    "# COVID-19 India Matplotlib Overview\n",
    "> Tracking coronavirus total cases, deaths and new cases in India\n",
    "\n",
    "- author: Hargun Oberoi\n",
    "- image: images/covid-overview.png\n",
    "- permalink: /covid-overview-linde-matplotlib/\n",
    "- hide: false\n",
    "- badges: false"
   ]
  },
  {
   "cell_type": "code",
   "execution_count": 1,
   "id": "fatty-craft",
   "metadata": {
    "execution": {
     "iopub.execute_input": "2022-04-18T12:16:25.451516Z",
     "iopub.status.busy": "2022-04-18T12:16:25.450688Z",
     "iopub.status.idle": "2022-04-18T12:16:26.522728Z",
     "shell.execute_reply": "2022-04-18T12:16:26.522099Z"
    },
    "papermill": {
     "duration": 1.101611,
     "end_time": "2022-04-18T12:16:26.522912",
     "exception": false,
     "start_time": "2022-04-18T12:16:25.421301",
     "status": "completed"
    },
    "tags": []
   },
   "outputs": [],
   "source": [
    "#hide\n",
    "import pandas as pd\n",
    "import numpy as np\n",
    "import requests\n",
    "import datetime as dt\n",
    "from jinja2 import Template\n",
    "from IPython.display import HTML\n",
    "import json\n",
    "import matplotlib.pyplot as plt\n",
    "import matplotlib.dates as mdates\n",
    "import matplotlib as mpl\n",
    "import seaborn as sns"
   ]
  },
  {
   "cell_type": "code",
   "execution_count": 2,
   "id": "regional-sierra",
   "metadata": {
    "execution": {
     "iopub.execute_input": "2022-04-18T12:16:26.571924Z",
     "iopub.status.busy": "2022-04-18T12:16:26.566781Z",
     "iopub.status.idle": "2022-04-18T12:16:26.666100Z",
     "shell.execute_reply": "2022-04-18T12:16:26.665505Z"
    },
    "papermill": {
     "duration": 0.123486,
     "end_time": "2022-04-18T12:16:26.666243",
     "exception": false,
     "start_time": "2022-04-18T12:16:26.542757",
     "status": "completed"
    },
    "tags": []
   },
   "outputs": [],
   "source": [
    "#hide\n",
    "url = 'https://raw.githubusercontent.com/hargun3045/dashboards/master/abb_dict.json'\n",
    "r = requests.get(url)\n",
    "abb_dict = r.json()"
   ]
  },
  {
   "cell_type": "code",
   "execution_count": 3,
   "id": "suburban-democracy",
   "metadata": {
    "execution": {
     "iopub.execute_input": "2022-04-18T12:16:26.713164Z",
     "iopub.status.busy": "2022-04-18T12:16:26.712388Z",
     "iopub.status.idle": "2022-04-18T12:16:26.716939Z",
     "shell.execute_reply": "2022-04-18T12:16:26.716334Z"
    },
    "papermill": {
     "duration": 0.031193,
     "end_time": "2022-04-18T12:16:26.717107",
     "exception": false,
     "start_time": "2022-04-18T12:16:26.685914",
     "status": "completed"
    },
    "tags": []
   },
   "outputs": [],
   "source": [
    "#hide\n",
    "#write a function that checks if all last index values are zero, and also selects the appropriate date columns\n",
    "def get_dates(df):\n",
    "    dt_cols = df.columns[~df.columns.isin(['stateABB','states'])]\n",
    "    valid_i = -1\n",
    "    for i in range(-1,-len(dt_cols),-1):\n",
    "        if not df[dt_cols[i]].fillna(0).eq(0).all():\n",
    "            valid_i = i\n",
    "            break\n",
    "    return valid_i, dt_cols"
   ]
  },
  {
   "cell_type": "code",
   "execution_count": 4,
   "id": "historical-pound",
   "metadata": {
    "execution": {
     "iopub.execute_input": "2022-04-18T12:16:26.764050Z",
     "iopub.status.busy": "2022-04-18T12:16:26.763210Z",
     "iopub.status.idle": "2022-04-18T12:16:26.766493Z",
     "shell.execute_reply": "2022-04-18T12:16:26.766976Z"
    },
    "papermill": {
     "duration": 0.03084,
     "end_time": "2022-04-18T12:16:26.767120",
     "exception": false,
     "start_time": "2022-04-18T12:16:26.736280",
     "status": "completed"
    },
    "tags": []
   },
   "outputs": [],
   "source": [
    "#hide\n",
    "def get_frame(name):\n",
    "#    pdb.set_trace()\n",
    "    url = f'http://api.covid19india.org/states_daily_csv/{name}.csv'\n",
    "    df = pd.read_csv(url)\n",
    "    df.set_index('date',inplace = True)\n",
    "    df = df.T\n",
    "    df = df.iloc[:-1,:]\n",
    "    df.fillna(0,inplace=True)\n",
    "    df = df[df.columns].astype(int)\n",
    "    df = df.rename_axis('stateABB').reset_index()\n",
    "    df['states'] = df['stateABB'].map(abb_dict)\n",
    "    df = df[[df.columns[-1]] + list(df.columns[:-1])]\n",
    "    df =df.iloc[1:,:]\n",
    "    df = df[df.states.notna()]\n",
    "    df.sort_values(by = [df.columns[-1]], ascending = False, inplace = True)\n",
    "    df.drop(['stateABB'],axis = 1)\n",
    "    df = df.groupby('states').sum().cumsum(axis=1)\n",
    "    df.reset_index(inplace = True)\n",
    "    return df"
   ]
  },
  {
   "cell_type": "code",
   "execution_count": 5,
   "id": "mechanical-andrews",
   "metadata": {
    "execution": {
     "iopub.execute_input": "2022-04-18T12:16:26.808819Z",
     "iopub.status.busy": "2022-04-18T12:16:26.808182Z",
     "iopub.status.idle": "2022-04-18T12:16:26.812881Z",
     "shell.execute_reply": "2022-04-18T12:16:26.812330Z"
    },
    "papermill": {
     "duration": 0.028071,
     "end_time": "2022-04-18T12:16:26.813004",
     "exception": false,
     "start_time": "2022-04-18T12:16:26.784933",
     "status": "completed"
    },
    "tags": []
   },
   "outputs": [],
   "source": [
    "#hide\n",
    "# dft_cases = get_frame('confirmed')\n",
    "# dft_deaths = get_frame('deceased')"
   ]
  },
  {
   "cell_type": "code",
   "execution_count": 6,
   "id": "needed-baseball",
   "metadata": {
    "execution": {
     "iopub.execute_input": "2022-04-18T12:16:26.853965Z",
     "iopub.status.busy": "2022-04-18T12:16:26.853224Z",
     "iopub.status.idle": "2022-04-18T12:16:26.855639Z",
     "shell.execute_reply": "2022-04-18T12:16:26.856245Z"
    },
    "papermill": {
     "duration": 0.024831,
     "end_time": "2022-04-18T12:16:26.856387",
     "exception": false,
     "start_time": "2022-04-18T12:16:26.831556",
     "status": "completed"
    },
    "tags": []
   },
   "outputs": [],
   "source": [
    "#hide\n",
    "# valid_i, dt_cols = get_dates(dft_cases)\n",
    "# dt_today = dt_cols[valid_i]\n",
    "# dt_yday = dt_cols[valid_i -1]"
   ]
  },
  {
   "cell_type": "code",
   "execution_count": 7,
   "id": "funded-dress",
   "metadata": {
    "execution": {
     "iopub.execute_input": "2022-04-18T12:16:26.897705Z",
     "iopub.status.busy": "2022-04-18T12:16:26.897024Z",
     "iopub.status.idle": "2022-04-18T12:16:26.899218Z",
     "shell.execute_reply": "2022-04-18T12:16:26.898586Z"
    },
    "papermill": {
     "duration": 0.024608,
     "end_time": "2022-04-18T12:16:26.899352",
     "exception": false,
     "start_time": "2022-04-18T12:16:26.874744",
     "status": "completed"
    },
    "tags": []
   },
   "outputs": [],
   "source": [
    "#hide\n",
    "# dfc_cases = dft_cases.groupby('states')[dt_today].sum()\n",
    "# dfc_deaths = dft_deaths.groupby('states')[dt_today].sum()\n",
    "# dfp_cases = dft_cases.groupby('states')[dt_yday].sum()\n",
    "# dfp_deaths = dft_deaths.groupby('states')[dt_yday].sum()"
   ]
  },
  {
   "cell_type": "code",
   "execution_count": 8,
   "id": "clear-occupation",
   "metadata": {
    "execution": {
     "iopub.execute_input": "2022-04-18T12:16:26.940819Z",
     "iopub.status.busy": "2022-04-18T12:16:26.940148Z",
     "iopub.status.idle": "2022-04-18T12:16:26.942896Z",
     "shell.execute_reply": "2022-04-18T12:16:26.943448Z"
    },
    "papermill": {
     "duration": 0.025297,
     "end_time": "2022-04-18T12:16:26.943582",
     "exception": false,
     "start_time": "2022-04-18T12:16:26.918285",
     "status": "completed"
    },
    "tags": []
   },
   "outputs": [],
   "source": [
    "# #hide\n",
    "# # Build the cases table\n",
    "# df_table = (pd.DataFrame(dict(Cases = dfc_cases, Deaths = dfc_deaths, PCases = dfp_cases, PDeaths = dfp_deaths))\n",
    "#             .sort_values(by = ['Cases','Deaths'], ascending = [False, False])\n",
    "#             .reset_index())\n",
    "# for c in 'Cases, Deaths'.split(', '):\n",
    "#     df_table[f'{c} (+)'] = (df_table[c] - df_table[f'P{c}']).clip(0)\n",
    "#     #Clip ça veut dire, les chiffres negatif sont interdit\n",
    "# df_table['Fatality Rate'] = (100* df_table['Deaths']/ df_table['Cases']).round(2)"
   ]
  },
  {
   "cell_type": "code",
   "execution_count": 9,
   "id": "sitting-flavor",
   "metadata": {
    "execution": {
     "iopub.execute_input": "2022-04-18T12:16:26.984278Z",
     "iopub.status.busy": "2022-04-18T12:16:26.983572Z",
     "iopub.status.idle": "2022-04-18T12:16:26.986142Z",
     "shell.execute_reply": "2022-04-18T12:16:26.985608Z"
    },
    "papermill": {
     "duration": 0.025109,
     "end_time": "2022-04-18T12:16:26.986261",
     "exception": false,
     "start_time": "2022-04-18T12:16:26.961152",
     "status": "completed"
    },
    "tags": []
   },
   "outputs": [],
   "source": [
    "# #hide\n",
    "# #Building the summary tab\n",
    "# metrics = [df_table.columns[index] for index in [1,2,5,6]]\n",
    "# s_mah = df_table[df_table.states == 'Maharashtra'][metrics].sum().add_prefix('MH ').astype(int)\n",
    "# s_del = df_table[df_table.states =='Delhi'][metrics].sum().add_prefix('DEL ').astype(int)\n",
    "# s_guj = df_table[df_table.states == 'Gujarat'][metrics].sum().add_prefix('GUJ ').astype(int)\n",
    "# summary = {'updated': pd.to_datetime(dt_today).date(), 'since': pd.to_datetime(dt_yday).date()}\n",
    "# summary = {**summary, **df_table[metrics].sum().astype(int), **s_mah, **s_del, **s_guj}"
   ]
  },
  {
   "cell_type": "code",
   "execution_count": 10,
   "id": "fatty-legislature",
   "metadata": {
    "execution": {
     "iopub.execute_input": "2022-04-18T12:16:27.033312Z",
     "iopub.status.busy": "2022-04-18T12:16:27.032668Z",
     "iopub.status.idle": "2022-04-18T12:16:27.034652Z",
     "shell.execute_reply": "2022-04-18T12:16:27.035177Z"
    },
    "papermill": {
     "duration": 0.029993,
     "end_time": "2022-04-18T12:16:27.035330",
     "exception": false,
     "start_time": "2022-04-18T12:16:27.005337",
     "status": "completed"
    },
    "tags": []
   },
   "outputs": [],
   "source": [
    "# #hide\n",
    "# def myconverter(obj):\n",
    "#         if isinstance(obj, np.integer):\n",
    "#             return int(obj)\n",
    "#         elif isinstance(obj, np.floating):\n",
    "#             return float(obj)\n",
    "#         elif isinstance(obj, np.ndarray):\n",
    "#             return obj.tolist()\n",
    "#         elif isinstance(obj, datetime.datetime):\n",
    "#             return obj.__str__()\n",
    "#         elif isinstance(obj, datetime.date):\n",
    "#             return obj.__str__()"
   ]
  },
  {
   "cell_type": "code",
   "execution_count": 11,
   "id": "passive-yellow",
   "metadata": {
    "execution": {
     "iopub.execute_input": "2022-04-18T12:16:27.086509Z",
     "iopub.status.busy": "2022-04-18T12:16:27.085709Z",
     "iopub.status.idle": "2022-04-18T12:16:27.091197Z",
     "shell.execute_reply": "2022-04-18T12:16:27.091764Z"
    },
    "papermill": {
     "duration": 0.039714,
     "end_time": "2022-04-18T12:16:27.091916",
     "exception": false,
     "start_time": "2022-04-18T12:16:27.052202",
     "status": "completed"
    },
    "tags": []
   },
   "outputs": [],
   "source": [
    "# #hide\n",
    "# #Data on new cases\n",
    "# dft_ct_new_cases = dft_cases.groupby('states')[dt_cols].sum().diff(axis=1).fillna(0).astype(int)\n",
    "# dft_ct_new_cases.sort_values(by = [dft_ct_new_cases.columns[-1]], ascending = False,inplace = True)"
   ]
  },
  {
   "cell_type": "code",
   "execution_count": 12,
   "id": "smart-somerset",
   "metadata": {
    "execution": {
     "iopub.execute_input": "2022-04-18T12:16:27.135154Z",
     "iopub.status.busy": "2022-04-18T12:16:27.134413Z",
     "iopub.status.idle": "2022-04-18T12:16:27.137218Z",
     "shell.execute_reply": "2022-04-18T12:16:27.136711Z"
    },
    "papermill": {
     "duration": 0.02562,
     "end_time": "2022-04-18T12:16:27.137359",
     "exception": false,
     "start_time": "2022-04-18T12:16:27.111739",
     "status": "completed"
    },
    "tags": []
   },
   "outputs": [],
   "source": [
    "# #hide\n",
    "# fig, ax = plt.subplots(facecolor='white',figsize = (14,4))\n",
    "\n",
    "# ax.axis([0, 10, 0, 10])\n",
    "\n",
    "# # This chunk is for overall\n",
    "# ax.text(0.5,1, f'India Summary', transform = fig.transFigure, fontsize = 30);\n",
    "# ax.text(0.38,0.5, f\"Latest update on: {summary['updated'].strftime('%B %d, %Y')} (+change since 24 hours)\", transform = fig.transFigure, fontsize = 16);\n",
    "\n",
    "# ax.text(0.1, 0.9,f'Confirmed Cases' , transform=ax.transAxes,fontsize = 16);\n",
    "# ax.text(1, 0.9,f'Deaths' , transform=ax.transAxes,fontsize = 16)\n",
    "\n",
    "# ax.text(0.1, 0.7,f\"{summary['Cases']}\" , transform=ax.transAxes,fontsize = 40);\n",
    "# ax.text(1, 0.7,f\"{summary['Deaths']}\" , transform=ax.transAxes,fontsize = 40)\n",
    "\n",
    "# ax.text(0.1, 0.6,f\"(+{summary['Cases (+)']})\" ,color='r', transform=ax.transAxes,fontsize = 20);\n",
    "# ax.text(1, 0.6,f\"(+{summary['Deaths (+)']})\" ,color ='r', transform=ax.transAxes,fontsize = 20)\n",
    "\n",
    "# ## End of chunk\n",
    "# ax.set_axis_off()"
   ]
  },
  {
   "cell_type": "code",
   "execution_count": 13,
   "id": "civilian-colombia",
   "metadata": {
    "execution": {
     "iopub.execute_input": "2022-04-18T12:16:27.180007Z",
     "iopub.status.busy": "2022-04-18T12:16:27.179204Z",
     "iopub.status.idle": "2022-04-18T12:16:27.181865Z",
     "shell.execute_reply": "2022-04-18T12:16:27.181284Z"
    },
    "papermill": {
     "duration": 0.02619,
     "end_time": "2022-04-18T12:16:27.181988",
     "exception": false,
     "start_time": "2022-04-18T12:16:27.155798",
     "status": "completed"
    },
    "tags": []
   },
   "outputs": [],
   "source": [
    "# #hide_input\n",
    "# overview = '''\n",
    "# <!-- #######  YAY,HTML!! #########-->\n",
    "# <h1 style=\"color: #5e9ca0; text-align: center;\">India</h1>\n",
    "# <p style=\"text-align: center;\">Last update: <strong>{update}</strong></p>\n",
    "# <p style=\"text-align: center;\">Confirmed cases:</p>\n",
    "# <h1 style=\"text-align: center;\">{cases} (<span style=\"color: #ff0000;\">+{new}</span>)</h1>\n",
    "# <p style=\"text-align: center;\">Confirmed deaths:</p>\n",
    "# <h1 style=\"text-align: center;\">{deaths} (<span style=\"color: #ff0000;\">+{dnew}</span>)</h1>\n",
    "# '''\n",
    "\n",
    "# update = summary['updated'].strftime('%B %d %Y')\n",
    "# cases = summary['Cases']\n",
    "# new = summary['Cases (+)']\n",
    "# deaths = summary['Deaths']\n",
    "# dnew = summary['Deaths (+)']\n",
    "\n",
    "# html = HTML(overview.format(update=update, cases=cases,new=new,deaths=deaths,dnew=dnew))\n",
    "\n",
    "# display(html)"
   ]
  },
  {
   "cell_type": "code",
   "execution_count": 14,
   "id": "editorial-community",
   "metadata": {
    "execution": {
     "iopub.execute_input": "2022-04-18T12:16:27.225647Z",
     "iopub.status.busy": "2022-04-18T12:16:27.224937Z",
     "iopub.status.idle": "2022-04-18T12:16:27.227215Z",
     "shell.execute_reply": "2022-04-18T12:16:27.227809Z"
    },
    "papermill": {
     "duration": 0.025711,
     "end_time": "2022-04-18T12:16:27.227944",
     "exception": false,
     "start_time": "2022-04-18T12:16:27.202233",
     "status": "completed"
    },
    "tags": []
   },
   "outputs": [],
   "source": [
    "# #hide\n",
    "# fig, ax = plt.subplots(facecolor='white',figsize = (14,4))\n",
    "\n",
    "# ax.axis([0, 10, 0, 10])\n",
    "\n",
    "# # This chunk is for overall\n",
    "# ax.text(0.4,0.9, f'India CoVID-19 Dashboard', transform = fig.transFigure, fontsize = 30);\n",
    "# ax.text(0.36,0.5, f\"Latest update on: {summary['updated'].strftime('%B %d, %Y')} (+change since 24 hours)\", transform = fig.transFigure, fontsize = 16);\n",
    "\n",
    "# ax.text(0.1, 0.9,f'Confirmed Cases' , transform=ax.transAxes,fontsize = 16);\n",
    "# ax.text(1, 0.9,f'Deaths' , transform=ax.transAxes,fontsize = 16)\n",
    "\n",
    "# ax.text(0.1, 0.7,f\"{summary['Cases']}\" , transform=ax.transAxes,fontsize = 40);\n",
    "# ax.text(1, 0.7,f\"{summary['Deaths']}\" , transform=ax.transAxes,fontsize = 40)\n",
    "\n",
    "# ax.text(0.1, 0.6,f\"(+{summary['Cases (+)']})\" ,color='r', transform=ax.transAxes,fontsize = 20);\n",
    "# ax.text(1, 0.6,f\"(+{summary['Deaths (+)']})\" ,color ='r', transform=ax.transAxes,fontsize = 20)\n",
    "\n",
    "# ## End of chunk\n",
    "\n",
    "# # Attempting Maharashtra Chunk\n",
    "\n",
    "# ax.text(0.25,0.3, f'Maharashtra', transform = fig.transFigure, fontsize = 20);\n",
    "\n",
    "# ax.text(0.05, 0.2,f'Cases' , transform=ax.transAxes,fontsize = 14);\n",
    "# ax.text(0.4, 0.2,f'Deaths' , transform=ax.transAxes,fontsize = 14)\n",
    "\n",
    "# ax.text(0.05, 0.1,f\"{summary['MH Cases']}\" , transform=ax.transAxes,fontsize = 20);\n",
    "# ax.text(0.4, 0.1,f\"{summary['MH Deaths']}\" , transform=ax.transAxes,fontsize = 20)\n",
    "\n",
    "# ax.text(0.05, 0.05,f\"(+{summary['MH Cases (+)']})\" ,color='r', transform=ax.transAxes,fontsize = 10);\n",
    "# ax.text(0.4, 0.05,f\"(+{summary['MH Deaths (+)']})\" ,color ='r', transform=ax.transAxes,fontsize = 10)\n",
    "\n",
    "# ## End Maharashtra Chunk\n",
    "\n",
    "# # Gujarat Chunk\n",
    "\n",
    "# ax.text(0.83,0.3, f'Gujarat', transform = fig.transFigure, fontsize = 20);\n",
    "\n",
    "# ax.text(0.75, 0.2,f'Cases' , transform=ax.transAxes,fontsize = 14);\n",
    "# ax.text(1.1, 0.2,f'Deaths' , transform=ax.transAxes,fontsize = 14)\n",
    "\n",
    "# ax.text(0.75, 0.1,f\"{summary['GUJ Cases']}\" , transform=ax.transAxes,fontsize = 20);\n",
    "# ax.text(1.1, 0.1,f\"{summary['GUJ Deaths']}\" , transform=ax.transAxes,fontsize = 20)\n",
    "\n",
    "# ax.text(0.75, 0.05,f\"(+{summary['GUJ Cases (+)']})\" ,color='r', transform=ax.transAxes,fontsize = 10);\n",
    "# ax.text(1.1, 0.05,f\"(+{summary['GUJ Deaths (+)']})\" ,color ='r', transform=ax.transAxes,fontsize = 10)\n",
    "\n",
    "# ax.set_axis_off()"
   ]
  },
  {
   "cell_type": "code",
   "execution_count": 15,
   "id": "accompanied-metadata",
   "metadata": {
    "execution": {
     "iopub.execute_input": "2022-04-18T12:16:27.268281Z",
     "iopub.status.busy": "2022-04-18T12:16:27.267600Z",
     "iopub.status.idle": "2022-04-18T12:16:27.272634Z",
     "shell.execute_reply": "2022-04-18T12:16:27.273153Z"
    },
    "papermill": {
     "duration": 0.026863,
     "end_time": "2022-04-18T12:16:27.273287",
     "exception": false,
     "start_time": "2022-04-18T12:16:27.246424",
     "status": "completed"
    },
    "tags": []
   },
   "outputs": [],
   "source": [
    "# #hide_input\n",
    "# df = dft_ct_new_cases\n",
    "# df.loc['Total'] = df.sum()\n",
    "# n = 10\n",
    "# ax = []\n",
    "# fig = plt.figure(constrained_layout=True, figsize = (16,32))\n",
    "# gs = fig.add_gridspec(n+2, 3)\n",
    "# # gs = fig.add_gridspec(2, 3)\n",
    "# ax1 = fig.add_subplot(gs[0, :])\n",
    "# ef = df.loc['Total'].reset_index()\n",
    "# ef['date'] = ef['date'].astype('datetime64[ns]')\n",
    "# ax1.bar(ef.date,ef.Total ,color = 'r',alpha=0.5)\n",
    "# ax1.xaxis.set_major_locator(mdates.WeekdayLocator())\n",
    "# ax1.xaxis.set_major_formatter(mdates.DateFormatter('%b %d'))\n",
    "# textstr = '\\n'.join((\n",
    "# f\"India Overview\",\n",
    "# f\"Total Cases: {summary['Cases']} (+{summary['Cases (+)']})\",\n",
    "# f\"Total Deaths: {summary['Deaths']}(+{summary['Deaths (+)']})\",\n",
    "# f\"Last updated: {dt_today}\"\n",
    "# ))\n",
    "# ax1.text(0.02, 0.50, textstr,transform = ax1.transAxes, fontsize = 20);\n",
    "\n",
    "\n",
    "# ax2 = fig.add_subplot(gs[1,0])\n",
    "# ef = df.loc['Maharashtra'].reset_index()\n",
    "# ef['date'] = ef['date'].astype('datetime64[ns]')\n",
    "# ax2.bar(ef.date, ef.Maharashtra,color = 'r',alpha=0.5)\n",
    "# ax2.set_title('Maharashtra')\n",
    "# ax2.xaxis.set_major_locator(mdates.WeekdayLocator())\n",
    "# ax2.xaxis.set_major_formatter(mdates.DateFormatter('%b %d'))\n",
    "# textstr = '\\n'.join((\n",
    "# f\"Maharashtra\",\n",
    "# f\"Total Cases: {summary['MH Cases']} (+{summary['MH Cases (+)']})\",\n",
    "# f\"Total Deaths: {summary['MH Deaths']}(+{summary['MH Deaths (+)']})\"\n",
    "# ))\n",
    "# ax2.text(0.02, 0.50, textstr,transform = ax2.transAxes, fontsize = 16);\n",
    "\n",
    "\n",
    "# ax3 = fig.add_subplot(gs[1,1])\n",
    "# ef = df.loc['Gujarat'].reset_index()\n",
    "# ef['date'] = ef['date'].astype('datetime64[ns]')\n",
    "# ax3.bar(ef.date, ef.Gujarat,color = 'r',alpha=0.5)\n",
    "# ax3.set_title('Gujarat')\n",
    "# ax3.xaxis.set_major_locator(mdates.WeekdayLocator())\n",
    "# ax3.xaxis.set_major_formatter(mdates.DateFormatter('%b %d'))\n",
    "# textstr = '\\n'.join((\n",
    "# f\"Gujarat\",\n",
    "# f\"Total Cases: {summary['GUJ Cases']} (+{summary['GUJ Cases (+)']})\",\n",
    "# f\"Total Deaths: {summary['GUJ Deaths']}(+{summary['GUJ Deaths (+)']})\"\n",
    "# ))\n",
    "# ax3.text(0.02, 0.50, textstr,transform = ax3.transAxes, fontsize = 16);\n",
    "\n",
    "# ax4 = fig.add_subplot(gs[1,2])\n",
    "# ef = df.loc['Delhi'].reset_index()\n",
    "# ef['date'] = ef['date'].astype('datetime64[ns]')\n",
    "# ax4.bar(ef.date, ef.Delhi,color = 'r',alpha=0.5)\n",
    "# ax4.set_title('Delhi')\n",
    "# ax4.xaxis.set_major_locator(mdates.WeekdayLocator())\n",
    "# ax4.xaxis.set_major_formatter(mdates.DateFormatter('%b %d'))\n",
    "# textstr = '\\n'.join((\n",
    "# f\"Delhi\",\n",
    "# f\"Total Cases: {summary['DEL Cases']} (+{summary['DEL Cases (+)']})\",\n",
    "# f\"Total Deaths: {summary['DEL Deaths']}(+{summary['DEL Deaths (+)']})\"\n",
    "# ))\n",
    "# ax4.text(0.02, 0.50, textstr,transform = ax4.transAxes, fontsize = 16);\n",
    "\n",
    "# for i in range(n):\n",
    "    \n",
    "#     ax.append(fig.add_subplot(gs[i+2,:]))\n",
    "#     ef = df.iloc[i+3].reset_index()\n",
    "#     ef['date'] = ef['date'].astype('datetime64[ns]')\n",
    "#     ax[i].bar(ef.date,ef.iloc[:,-1],color = 'r',alpha=0.5)\n",
    "#     ax[i].set_title(f'{ef.columns.values[-1]}')\n",
    "#     ax[i].xaxis.set_major_locator(mdates.WeekdayLocator())\n",
    "#     ax[i].xaxis.set_major_formatter(mdates.DateFormatter('%b %d'))\n",
    "    \n",
    "\n",
    "# sns.despine()"
   ]
  },
  {
   "cell_type": "code",
   "execution_count": 16,
   "id": "unsigned-leonard",
   "metadata": {
    "execution": {
     "iopub.execute_input": "2022-04-18T12:16:27.313083Z",
     "iopub.status.busy": "2022-04-18T12:16:27.312462Z",
     "iopub.status.idle": "2022-04-18T12:16:27.316075Z",
     "shell.execute_reply": "2022-04-18T12:16:27.316552Z"
    },
    "papermill": {
     "duration": 0.026245,
     "end_time": "2022-04-18T12:16:27.316692",
     "exception": false,
     "start_time": "2022-04-18T12:16:27.290447",
     "status": "completed"
    },
    "tags": []
   },
   "outputs": [],
   "source": [
    "#hide_input\n",
    "# print(df_table.head(20).to_string(index=False))"
   ]
  },
  {
   "cell_type": "code",
   "execution_count": 17,
   "id": "delayed-slovak",
   "metadata": {
    "execution": {
     "iopub.execute_input": "2022-04-18T12:16:27.358230Z",
     "iopub.status.busy": "2022-04-18T12:16:27.357432Z",
     "iopub.status.idle": "2022-04-18T12:16:27.359455Z",
     "shell.execute_reply": "2022-04-18T12:16:27.359943Z"
    },
    "papermill": {
     "duration": 0.024343,
     "end_time": "2022-04-18T12:16:27.360088",
     "exception": false,
     "start_time": "2022-04-18T12:16:27.335745",
     "status": "completed"
    },
    "tags": []
   },
   "outputs": [],
   "source": [
    "# #hide\n",
    "# fig, ax2 = plt.subplots(figsize = (12,4))\n",
    "# ef = df.loc['Maharashtra'].reset_index()\n",
    "# ef['date'] = ef['date'].astype('datetime64[ns]')\n",
    "# ax2.bar(ef.date, ef.Maharashtra, color = 'r', alpha = 0.5)\n",
    "# ax2.set_title('Maharashtra')\n",
    "# #set ticks every week\n",
    "# ax2.xaxis.set_major_locator(mdates.WeekdayLocator())\n",
    "# #set major ticks format\n",
    "# ax2.xaxis.set_major_formatter(mdates.DateFormatter('%b %d'))\n",
    "# textstr = '\\n'.join((\n",
    "# f\"Maharashtra\",\n",
    "# f\"Total Cases: {summary['MH Cases']} (+{summary['MH Cases (+)']})\",\n",
    "# f\"Total Deaths: {summary['MH Deaths']}(+{summary['MH Deaths (+)']})\"\n",
    "# ))\n",
    "# ax2.text(0.02, 0.50, textstr,transform = ax2.transAxes, fontsize = 16);"
   ]
  },
  {
   "cell_type": "code",
   "execution_count": null,
   "id": "acting-nigeria",
   "metadata": {
    "papermill": {
     "duration": 0.018674,
     "end_time": "2022-04-18T12:16:27.397842",
     "exception": false,
     "start_time": "2022-04-18T12:16:27.379168",
     "status": "completed"
    },
    "tags": []
   },
   "outputs": [],
   "source": []
  },
  {
   "cell_type": "code",
   "execution_count": null,
   "id": "hydraulic-metro",
   "metadata": {
    "papermill": {
     "duration": 0.018696,
     "end_time": "2022-04-18T12:16:27.434471",
     "exception": false,
     "start_time": "2022-04-18T12:16:27.415775",
     "status": "completed"
    },
    "tags": []
   },
   "outputs": [],
   "source": []
  },
  {
   "cell_type": "code",
   "execution_count": null,
   "id": "mexican-terminal",
   "metadata": {
    "papermill": {
     "duration": 0.017809,
     "end_time": "2022-04-18T12:16:27.470120",
     "exception": false,
     "start_time": "2022-04-18T12:16:27.452311",
     "status": "completed"
    },
    "tags": []
   },
   "outputs": [],
   "source": []
  },
  {
   "cell_type": "code",
   "execution_count": null,
   "id": "abroad-assurance",
   "metadata": {
    "papermill": {
     "duration": 0.018247,
     "end_time": "2022-04-18T12:16:27.507219",
     "exception": false,
     "start_time": "2022-04-18T12:16:27.488972",
     "status": "completed"
    },
    "tags": []
   },
   "outputs": [],
   "source": []
  }
 ],
 "metadata": {
  "kernelspec": {
   "display_name": "Python 3.7.3 64-bit",
   "metadata": {
    "interpreter": {
     "hash": "aee8b7b246df8f9039afb4144a1f6fd8d2ca17a180786b69acc140d282b71a49"
    }
   },
   "name": "python3"
  },
  "language_info": {
   "codemirror_mode": {
    "name": "ipython",
    "version": 3
   },
   "file_extension": ".py",
   "mimetype": "text/x-python",
   "name": "python",
   "nbconvert_exporter": "python",
   "pygments_lexer": "ipython3",
   "version": "3.6.15"
  },
  "papermill": {
   "duration": 3.893611,
   "end_time": "2022-04-18T12:16:27.943815",
   "environment_variables": {},
   "exception": null,
   "input_path": "2020-03-21-rahulexp.ipynb",
   "output_path": "2020-03-21-rahulexp.ipynb",
   "parameters": {},
   "start_time": "2022-04-18T12:16:24.050204",
   "version": "2.1.1"
  }
 },
 "nbformat": 4,
 "nbformat_minor": 5
}