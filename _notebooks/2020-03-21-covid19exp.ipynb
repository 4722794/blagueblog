{
 "cells": [
  {
   "cell_type": "markdown",
   "id": "muslim-click",
   "metadata": {
    "papermill": {
     "duration": 0.030183,
     "end_time": "2022-01-08T00:27:06.859114",
     "exception": false,
     "start_time": "2022-01-08T00:27:06.828931",
     "status": "completed"
    },
    "tags": []
   },
   "source": [
    "# COVID-19 Case Race\n",
    "> A race chart to see rising cases around the world\n",
    "\n",
    "- author: Hargun Oberoi\n",
    "- image: images/covid-overview.png\n",
    "- hide: false\n",
    "- badges: false"
   ]
  },
  {
   "cell_type": "code",
   "execution_count": 1,
   "id": "proof-material",
   "metadata": {
    "execution": {
     "iopub.execute_input": "2022-01-08T00:27:06.924202Z",
     "iopub.status.busy": "2022-01-08T00:27:06.923704Z",
     "iopub.status.idle": "2022-01-08T00:27:07.261954Z",
     "shell.execute_reply": "2022-01-08T00:27:07.262401Z"
    },
    "papermill": {
     "duration": 0.376345,
     "end_time": "2022-01-08T00:27:07.262603",
     "exception": false,
     "start_time": "2022-01-08T00:27:06.886258",
     "status": "completed"
    },
    "tags": []
   },
   "outputs": [],
   "source": [
    "#hide\n",
    "import numpy as np\n",
    "import pandas as pd\n",
    "from jinja2 import Template\n",
    "from IPython.display import HTML"
   ]
  },
  {
   "cell_type": "code",
   "execution_count": 2,
   "id": "developed-terminology",
   "metadata": {
    "execution": {
     "iopub.execute_input": "2022-01-08T00:27:07.328652Z",
     "iopub.status.busy": "2022-01-08T00:27:07.328018Z",
     "iopub.status.idle": "2022-01-08T00:27:07.329287Z",
     "shell.execute_reply": "2022-01-08T00:27:07.329720Z"
    },
    "papermill": {
     "duration": 0.036965,
     "end_time": "2022-01-08T00:27:07.329840",
     "exception": false,
     "start_time": "2022-01-08T00:27:07.292875",
     "status": "completed"
    },
    "tags": []
   },
   "outputs": [],
   "source": [
    "#hide\n",
    "\n",
    "# FETCH\n",
    "base_url = 'https://raw.githubusercontent.com/pratapvardhan/notebooks/master/covid19/'\n",
    "paths = {\n",
    "    'mapping': base_url + 'mapping_countries.csv',\n",
    "    'overview': base_url + 'overview.tpl'\n",
    "}"
   ]
  },
  {
   "cell_type": "code",
   "execution_count": 3,
   "id": "dynamic-saver",
   "metadata": {
    "execution": {
     "iopub.execute_input": "2022-01-08T00:27:07.392419Z",
     "iopub.status.busy": "2022-01-08T00:27:07.391874Z",
     "iopub.status.idle": "2022-01-08T00:27:07.393830Z",
     "shell.execute_reply": "2022-01-08T00:27:07.394317Z"
    },
    "papermill": {
     "duration": 0.037994,
     "end_time": "2022-01-08T00:27:07.394447",
     "exception": false,
     "start_time": "2022-01-08T00:27:07.356453",
     "status": "completed"
    },
    "tags": []
   },
   "outputs": [
    {
     "data": {
      "text/plain": [
       "'https://raw.githubusercontent.com/pratapvardhan/notebooks/master/covid19/mapping_countries.csv'"
      ]
     },
     "execution_count": 3,
     "metadata": {},
     "output_type": "execute_result"
    }
   ],
   "source": [
    "#hide\n",
    "paths['mapping']"
   ]
  },
  {
   "cell_type": "code",
   "execution_count": 4,
   "id": "urban-software",
   "metadata": {
    "execution": {
     "iopub.execute_input": "2022-01-08T00:27:07.460784Z",
     "iopub.status.busy": "2022-01-08T00:27:07.460115Z",
     "iopub.status.idle": "2022-01-08T00:27:07.461629Z",
     "shell.execute_reply": "2022-01-08T00:27:07.462124Z"
    },
    "papermill": {
     "duration": 0.037436,
     "end_time": "2022-01-08T00:27:07.462269",
     "exception": false,
     "start_time": "2022-01-08T00:27:07.424833",
     "status": "completed"
    },
    "tags": []
   },
   "outputs": [],
   "source": [
    "#hide\n",
    "def get_mappings(url):\n",
    "    df = pd.read_csv(url)\n",
    "    return {\n",
    "        'df': df,\n",
    "        'replace.country': dict(df.dropna(subset=['Name']).set_index('Country')['Name']),\n",
    "        'map.continent': dict(df.set_index('Name')['Continent'])\n",
    "    }"
   ]
  },
  {
   "cell_type": "code",
   "execution_count": 5,
   "id": "intimate-machinery",
   "metadata": {
    "execution": {
     "iopub.execute_input": "2022-01-08T00:27:07.521100Z",
     "iopub.status.busy": "2022-01-08T00:27:07.520621Z",
     "iopub.status.idle": "2022-01-08T00:27:07.549334Z",
     "shell.execute_reply": "2022-01-08T00:27:07.549810Z"
    },
    "papermill": {
     "duration": 0.061129,
     "end_time": "2022-01-08T00:27:07.549971",
     "exception": false,
     "start_time": "2022-01-08T00:27:07.488842",
     "status": "completed"
    },
    "tags": []
   },
   "outputs": [],
   "source": [
    "#hide\n",
    "mapping = get_mappings(paths['mapping'])"
   ]
  },
  {
   "cell_type": "code",
   "execution_count": 6,
   "id": "certified-tactics",
   "metadata": {
    "execution": {
     "iopub.execute_input": "2022-01-08T00:27:07.610226Z",
     "iopub.status.busy": "2022-01-08T00:27:07.609591Z",
     "iopub.status.idle": "2022-01-08T00:27:07.610922Z",
     "shell.execute_reply": "2022-01-08T00:27:07.611482Z"
    },
    "papermill": {
     "duration": 0.034016,
     "end_time": "2022-01-08T00:27:07.611629",
     "exception": false,
     "start_time": "2022-01-08T00:27:07.577613",
     "status": "completed"
    },
    "tags": []
   },
   "outputs": [],
   "source": [
    "#hide\n",
    "def get_template(path):\n",
    "    from urllib.parse import urlparse\n",
    "    if bool(urlparse(path).netloc):\n",
    "        from urllib.request import urlopen\n",
    "        return urlopen(path).read().decode('utf8')\n",
    "    return open(path).read()"
   ]
  },
  {
   "cell_type": "code",
   "execution_count": 7,
   "id": "realistic-blast",
   "metadata": {
    "execution": {
     "iopub.execute_input": "2022-01-08T00:27:07.677679Z",
     "iopub.status.busy": "2022-01-08T00:27:07.677144Z",
     "iopub.status.idle": "2022-01-08T00:27:07.678711Z",
     "shell.execute_reply": "2022-01-08T00:27:07.679130Z"
    },
    "papermill": {
     "duration": 0.037079,
     "end_time": "2022-01-08T00:27:07.679261",
     "exception": false,
     "start_time": "2022-01-08T00:27:07.642182",
     "status": "completed"
    },
    "tags": []
   },
   "outputs": [],
   "source": [
    "#hide\n",
    "def get_frame(name):\n",
    "    url = (\n",
    "        'https://raw.githubusercontent.com/CSSEGISandData/COVID-19/master/csse_covid_19_data/'\n",
    "        f'csse_covid_19_time_series/time_series_covid19_{name}_global.csv')\n",
    "    df = pd.read_csv(url)\n",
    "    # rename countries\n",
    "    df['Country/Region'] = df['Country/Region'].replace(mapping['replace.country'])\n",
    "    return df"
   ]
  },
  {
   "cell_type": "code",
   "execution_count": 8,
   "id": "affiliated-characterization",
   "metadata": {
    "execution": {
     "iopub.execute_input": "2022-01-08T00:27:07.745487Z",
     "iopub.status.busy": "2022-01-08T00:27:07.744972Z",
     "iopub.status.idle": "2022-01-08T00:27:07.747108Z",
     "shell.execute_reply": "2022-01-08T00:27:07.746726Z"
    },
    "papermill": {
     "duration": 0.037597,
     "end_time": "2022-01-08T00:27:07.747215",
     "exception": false,
     "start_time": "2022-01-08T00:27:07.709618",
     "status": "completed"
    },
    "tags": []
   },
   "outputs": [],
   "source": [
    "#hide\n",
    "def get_dates(df):\n",
    "    dt_cols = df.columns[~df.columns.isin(['Province/State', 'Country/Region', 'Lat', 'Long'])]\n",
    "    LAST_DATE_I = -1\n",
    "    # sometimes last column may be empty, then go backwards\n",
    "    for i in range(-1, -len(dt_cols), -1):\n",
    "        if not df[dt_cols[i]].fillna(0).eq(0).all():\n",
    "            LAST_DATE_I = i\n",
    "            break\n",
    "    return LAST_DATE_I, dt_cols"
   ]
  },
  {
   "cell_type": "code",
   "execution_count": 9,
   "id": "recent-optimization",
   "metadata": {
    "execution": {
     "iopub.execute_input": "2022-01-08T00:27:07.806174Z",
     "iopub.status.busy": "2022-01-08T00:27:07.805690Z",
     "iopub.status.idle": "2022-01-08T00:27:08.156079Z",
     "shell.execute_reply": "2022-01-08T00:27:08.156491Z"
    },
    "papermill": {
     "duration": 0.382727,
     "end_time": "2022-01-08T00:27:08.156643",
     "exception": false,
     "start_time": "2022-01-08T00:27:07.773916",
     "status": "completed"
    },
    "tags": []
   },
   "outputs": [],
   "source": [
    "#hide\n",
    "COL_REGION = 'Country/Region'\n",
    "# Confirmed, Recovered, Deaths\n",
    "df = get_frame('confirmed')\n",
    "# dft_: timeseries, dfc_: today country agg\n",
    "dft_cases = df\n",
    "dft_deaths = get_frame('deaths')\n",
    "dft_recovered = get_frame('recovered')\n",
    "LAST_DATE_I, dt_cols = get_dates(df)"
   ]
  },
  {
   "cell_type": "code",
   "execution_count": 10,
   "id": "absolute-copper",
   "metadata": {
    "execution": {
     "iopub.execute_input": "2022-01-08T00:27:08.216920Z",
     "iopub.status.busy": "2022-01-08T00:27:08.216343Z",
     "iopub.status.idle": "2022-01-08T00:27:08.219695Z",
     "shell.execute_reply": "2022-01-08T00:27:08.220085Z"
    },
    "papermill": {
     "duration": 0.036483,
     "end_time": "2022-01-08T00:27:08.220221",
     "exception": false,
     "start_time": "2022-01-08T00:27:08.183738",
     "status": "completed"
    },
    "tags": []
   },
   "outputs": [],
   "source": [
    "#hide\n",
    "LAST_DATE_I, dt_cols = get_dates(df)\n",
    "dt_today =dt_cols[LAST_DATE_I]\n",
    "# dt_5day = dt_cols[LAST_DATE_I - 5]\n",
    "dt_yday = dt_cols[LAST_DATE_I - 1]"
   ]
  },
  {
   "cell_type": "code",
   "execution_count": 11,
   "id": "restricted-sheriff",
   "metadata": {
    "execution": {
     "iopub.execute_input": "2022-01-08T00:27:08.288880Z",
     "iopub.status.busy": "2022-01-08T00:27:08.288339Z",
     "iopub.status.idle": "2022-01-08T00:27:08.293708Z",
     "shell.execute_reply": "2022-01-08T00:27:08.293301Z"
    },
    "papermill": {
     "duration": 0.043207,
     "end_time": "2022-01-08T00:27:08.293824",
     "exception": false,
     "start_time": "2022-01-08T00:27:08.250617",
     "status": "completed"
    },
    "tags": []
   },
   "outputs": [],
   "source": [
    "#hide\n",
    "dfc_cases = dft_cases.groupby(COL_REGION)[dt_today].sum()\n",
    "dfc_deaths = dft_deaths.groupby(COL_REGION)[dt_today].sum()\n",
    "# dfp_cases = dft_cases.groupby(COL_REGION)[dt_5day].sum()\n",
    "# dfp_deaths = dft_deaths.groupby(COL_REGION)[dt_5day].sum()\n",
    "dfp_cases = dft_cases.groupby(COL_REGION)[dt_yday].sum()\n",
    "dfp_deaths = dft_deaths.groupby(COL_REGION)[dt_yday].sum()"
   ]
  },
  {
   "cell_type": "code",
   "execution_count": 12,
   "id": "deluxe-hepatitis",
   "metadata": {
    "execution": {
     "iopub.execute_input": "2022-01-08T00:27:08.354733Z",
     "iopub.status.busy": "2022-01-08T00:27:08.354233Z",
     "iopub.status.idle": "2022-01-08T00:27:08.358112Z",
     "shell.execute_reply": "2022-01-08T00:27:08.358574Z"
    },
    "papermill": {
     "duration": 0.037685,
     "end_time": "2022-01-08T00:27:08.358701",
     "exception": false,
     "start_time": "2022-01-08T00:27:08.321016",
     "status": "completed"
    },
    "tags": []
   },
   "outputs": [],
   "source": [
    "#hide\n",
    "df_table = (pd.DataFrame(dict(Cases = dfc_cases, Deaths = dfc_deaths, PCases = dfp_cases, PDeaths = dfp_deaths))\n",
    "            .sort_values(by = ['Cases','Deaths'], ascending = [False, False])\n",
    "            .reset_index())"
   ]
  },
  {
   "cell_type": "code",
   "execution_count": 13,
   "id": "educational-chancellor",
   "metadata": {
    "execution": {
     "iopub.execute_input": "2022-01-08T00:27:08.433404Z",
     "iopub.status.busy": "2022-01-08T00:27:08.432916Z",
     "iopub.status.idle": "2022-01-08T00:27:08.440518Z",
     "shell.execute_reply": "2022-01-08T00:27:08.440144Z"
    },
    "papermill": {
     "duration": 0.055124,
     "end_time": "2022-01-08T00:27:08.440628",
     "exception": false,
     "start_time": "2022-01-08T00:27:08.385504",
     "status": "completed"
    },
    "tags": []
   },
   "outputs": [
    {
     "data": {
      "text/html": [
       "<div>\n",
       "<style scoped>\n",
       "    .dataframe tbody tr th:only-of-type {\n",
       "        vertical-align: middle;\n",
       "    }\n",
       "\n",
       "    .dataframe tbody tr th {\n",
       "        vertical-align: top;\n",
       "    }\n",
       "\n",
       "    .dataframe thead th {\n",
       "        text-align: right;\n",
       "    }\n",
       "</style>\n",
       "<table border=\"1\" class=\"dataframe\">\n",
       "  <thead>\n",
       "    <tr style=\"text-align: right;\">\n",
       "      <th></th>\n",
       "      <th>Country/Region</th>\n",
       "      <th>Cases</th>\n",
       "      <th>Deaths</th>\n",
       "      <th>PCases</th>\n",
       "      <th>PDeaths</th>\n",
       "      <th>Cases (+)</th>\n",
       "      <th>Deaths (+)</th>\n",
       "      <th>Fatality Rate</th>\n",
       "      <th>Continent</th>\n",
       "    </tr>\n",
       "  </thead>\n",
       "  <tbody>\n",
       "    <tr>\n",
       "      <th>0</th>\n",
       "      <td>US</td>\n",
       "      <td>58487697</td>\n",
       "      <td>833988</td>\n",
       "      <td>57700873</td>\n",
       "      <td>832118</td>\n",
       "      <td>786824</td>\n",
       "      <td>1870</td>\n",
       "      <td>1.43</td>\n",
       "      <td>North America</td>\n",
       "    </tr>\n",
       "    <tr>\n",
       "      <th>1</th>\n",
       "      <td>India</td>\n",
       "      <td>35226386</td>\n",
       "      <td>483178</td>\n",
       "      <td>35109286</td>\n",
       "      <td>482876</td>\n",
       "      <td>117100</td>\n",
       "      <td>302</td>\n",
       "      <td>1.37</td>\n",
       "      <td>Asia</td>\n",
       "    </tr>\n",
       "    <tr>\n",
       "      <th>2</th>\n",
       "      <td>Brazil</td>\n",
       "      <td>22328252</td>\n",
       "      <td>619654</td>\n",
       "      <td>22328252</td>\n",
       "      <td>619654</td>\n",
       "      <td>0</td>\n",
       "      <td>0</td>\n",
       "      <td>2.78</td>\n",
       "      <td>South America</td>\n",
       "    </tr>\n",
       "    <tr>\n",
       "      <th>3</th>\n",
       "      <td>United Kingdom</td>\n",
       "      <td>14100750</td>\n",
       "      <td>149993</td>\n",
       "      <td>13918510</td>\n",
       "      <td>149761</td>\n",
       "      <td>182240</td>\n",
       "      <td>232</td>\n",
       "      <td>1.06</td>\n",
       "      <td>Europe</td>\n",
       "    </tr>\n",
       "    <tr>\n",
       "      <th>4</th>\n",
       "      <td>France</td>\n",
       "      <td>11290010</td>\n",
       "      <td>126002</td>\n",
       "      <td>11027112</td>\n",
       "      <td>125797</td>\n",
       "      <td>262898</td>\n",
       "      <td>205</td>\n",
       "      <td>1.12</td>\n",
       "      <td>Europe</td>\n",
       "    </tr>\n",
       "  </tbody>\n",
       "</table>\n",
       "</div>"
      ],
      "text/plain": [
       "   Country/Region     Cases  Deaths    PCases  PDeaths  Cases (+)  Deaths (+)  \\\n",
       "0              US  58487697  833988  57700873   832118     786824        1870   \n",
       "1           India  35226386  483178  35109286   482876     117100         302   \n",
       "2          Brazil  22328252  619654  22328252   619654          0           0   \n",
       "3  United Kingdom  14100750  149993  13918510   149761     182240         232   \n",
       "4          France  11290010  126002  11027112   125797     262898         205   \n",
       "\n",
       "   Fatality Rate      Continent  \n",
       "0           1.43  North America  \n",
       "1           1.37           Asia  \n",
       "2           2.78  South America  \n",
       "3           1.06         Europe  \n",
       "4           1.12         Europe  "
      ]
     },
     "execution_count": 13,
     "metadata": {},
     "output_type": "execute_result"
    }
   ],
   "source": [
    "#hide\n",
    "for c in 'Cases, Deaths'.split(', '):\n",
    "    df_table[f'{c} (+)'] = (df_table[c] - df_table[f'P{c}']).clip(0)\n",
    "    #Clip ça veut dire, les chiffres negatif sont interdit\n",
    "df_table['Fatality Rate'] = (100* df_table['Deaths']/ df_table['Cases']).round(2)\n",
    "df_table['Continent'] = df_table['Country/Region'].map(mapping['map.continent'])\n",
    "df_table.head(5)"
   ]
  },
  {
   "cell_type": "code",
   "execution_count": 14,
   "id": "aboriginal-bulgaria",
   "metadata": {
    "execution": {
     "iopub.execute_input": "2022-01-08T00:27:08.500729Z",
     "iopub.status.busy": "2022-01-08T00:27:08.500254Z",
     "iopub.status.idle": "2022-01-08T00:27:08.502996Z",
     "shell.execute_reply": "2022-01-08T00:27:08.503383Z"
    },
    "papermill": {
     "duration": 0.035551,
     "end_time": "2022-01-08T00:27:08.503503",
     "exception": false,
     "start_time": "2022-01-08T00:27:08.467952",
     "status": "completed"
    },
    "tags": []
   },
   "outputs": [],
   "source": [
    "#hide\n",
    "#delete problematic countries from table\n",
    "df_table = df_table[~df_table['Country/Region'].isin(['Cape Verde', 'Cruise Ship', 'Kosovo'])]"
   ]
  },
  {
   "cell_type": "code",
   "execution_count": 15,
   "id": "fantastic-effect",
   "metadata": {
    "execution": {
     "iopub.execute_input": "2022-01-08T00:27:08.566807Z",
     "iopub.status.busy": "2022-01-08T00:27:08.566279Z",
     "iopub.status.idle": "2022-01-08T00:27:08.584588Z",
     "shell.execute_reply": "2022-01-08T00:27:08.584192Z"
    },
    "papermill": {
     "duration": 0.054321,
     "end_time": "2022-01-08T00:27:08.584695",
     "exception": false,
     "start_time": "2022-01-08T00:27:08.530374",
     "status": "completed"
    },
    "tags": []
   },
   "outputs": [
    {
     "data": {
      "text/html": [
       "<div>\n",
       "<style scoped>\n",
       "    .dataframe tbody tr th:only-of-type {\n",
       "        vertical-align: middle;\n",
       "    }\n",
       "\n",
       "    .dataframe tbody tr th {\n",
       "        vertical-align: top;\n",
       "    }\n",
       "\n",
       "    .dataframe thead th {\n",
       "        text-align: right;\n",
       "    }\n",
       "</style>\n",
       "<table border=\"1\" class=\"dataframe\">\n",
       "  <thead>\n",
       "    <tr style=\"text-align: right;\">\n",
       "      <th></th>\n",
       "      <th>Country/Region</th>\n",
       "      <th>Cases</th>\n",
       "      <th>Deaths</th>\n",
       "      <th>PCases</th>\n",
       "      <th>PDeaths</th>\n",
       "      <th>Cases (+)</th>\n",
       "      <th>Deaths (+)</th>\n",
       "      <th>Fatality Rate</th>\n",
       "      <th>Continent</th>\n",
       "    </tr>\n",
       "  </thead>\n",
       "  <tbody>\n",
       "    <tr>\n",
       "      <th>0</th>\n",
       "      <td>US</td>\n",
       "      <td>58487697</td>\n",
       "      <td>833988</td>\n",
       "      <td>57700873</td>\n",
       "      <td>832118</td>\n",
       "      <td>786824</td>\n",
       "      <td>1870</td>\n",
       "      <td>1.4</td>\n",
       "      <td>North America</td>\n",
       "    </tr>\n",
       "    <tr>\n",
       "      <th>1</th>\n",
       "      <td>India</td>\n",
       "      <td>35226386</td>\n",
       "      <td>483178</td>\n",
       "      <td>35109286</td>\n",
       "      <td>482876</td>\n",
       "      <td>117100</td>\n",
       "      <td>302</td>\n",
       "      <td>1.4</td>\n",
       "      <td>Asia</td>\n",
       "    </tr>\n",
       "    <tr>\n",
       "      <th>2</th>\n",
       "      <td>Brazil</td>\n",
       "      <td>22328252</td>\n",
       "      <td>619654</td>\n",
       "      <td>22328252</td>\n",
       "      <td>619654</td>\n",
       "      <td>0</td>\n",
       "      <td>0</td>\n",
       "      <td>2.8</td>\n",
       "      <td>South America</td>\n",
       "    </tr>\n",
       "    <tr>\n",
       "      <th>3</th>\n",
       "      <td>United Kingdom</td>\n",
       "      <td>14100750</td>\n",
       "      <td>149993</td>\n",
       "      <td>13918510</td>\n",
       "      <td>149761</td>\n",
       "      <td>182240</td>\n",
       "      <td>232</td>\n",
       "      <td>1.1</td>\n",
       "      <td>Europe</td>\n",
       "    </tr>\n",
       "    <tr>\n",
       "      <th>4</th>\n",
       "      <td>France</td>\n",
       "      <td>11290010</td>\n",
       "      <td>126002</td>\n",
       "      <td>11027112</td>\n",
       "      <td>125797</td>\n",
       "      <td>262898</td>\n",
       "      <td>205</td>\n",
       "      <td>1.1</td>\n",
       "      <td>Europe</td>\n",
       "    </tr>\n",
       "  </tbody>\n",
       "</table>\n",
       "</div>"
      ],
      "text/plain": [
       "   Country/Region     Cases  Deaths    PCases  PDeaths  Cases (+)  Deaths (+)  \\\n",
       "0              US  58487697  833988  57700873   832118     786824        1870   \n",
       "1           India  35226386  483178  35109286   482876     117100         302   \n",
       "2          Brazil  22328252  619654  22328252   619654          0           0   \n",
       "3  United Kingdom  14100750  149993  13918510   149761     182240         232   \n",
       "4          France  11290010  126002  11027112   125797     262898         205   \n",
       "\n",
       "   Fatality Rate      Continent  \n",
       "0            1.4  North America  \n",
       "1            1.4           Asia  \n",
       "2            2.8  South America  \n",
       "3            1.1         Europe  \n",
       "4            1.1         Europe  "
      ]
     },
     "execution_count": 15,
     "metadata": {},
     "output_type": "execute_result"
    }
   ],
   "source": [
    "#hide\n",
    "df_table = (pd.DataFrame(dict(Cases=dfc_cases, Deaths=dfc_deaths, PCases=dfp_cases, PDeaths=dfp_deaths))\n",
    "             .sort_values(by=['Cases', 'Deaths'], ascending=[False, False])\n",
    "             .reset_index())\n",
    "df_table.rename(columns={'index': 'Country/Region'}, inplace=True)\n",
    "for c in 'Cases, Deaths'.split(', '):\n",
    "    df_table[f'{c} (+)'] = (df_table[c] - df_table[f'P{c}']).clip(0)  # DATA BUG\n",
    "df_table['Fatality Rate'] = (100 * df_table['Deaths'] / df_table['Cases']).round(1)\n",
    "df_table['Continent'] = df_table['Country/Region'].map(mapping['map.continent'])\n",
    "df_table.head(5)"
   ]
  },
  {
   "cell_type": "code",
   "execution_count": 16,
   "id": "fewer-occasion",
   "metadata": {
    "execution": {
     "iopub.execute_input": "2022-01-08T00:27:08.645642Z",
     "iopub.status.busy": "2022-01-08T00:27:08.645150Z",
     "iopub.status.idle": "2022-01-08T00:27:08.646949Z",
     "shell.execute_reply": "2022-01-08T00:27:08.647315Z"
    },
    "papermill": {
     "duration": 0.035163,
     "end_time": "2022-01-08T00:27:08.647435",
     "exception": false,
     "start_time": "2022-01-08T00:27:08.612272",
     "status": "completed"
    },
    "tags": []
   },
   "outputs": [],
   "source": [
    "#hide\n",
    "#delete problematic countries from table\n",
    "df_table = df_table[~df_table['Country/Region'].isin(['Cape Verde', 'Cruise Ship', 'Kosovo'])]"
   ]
  },
  {
   "cell_type": "code",
   "execution_count": 17,
   "id": "related-center",
   "metadata": {
    "execution": {
     "iopub.execute_input": "2022-01-08T00:27:08.720478Z",
     "iopub.status.busy": "2022-01-08T00:27:08.719903Z",
     "iopub.status.idle": "2022-01-08T00:27:08.723379Z",
     "shell.execute_reply": "2022-01-08T00:27:08.722999Z"
    },
    "papermill": {
     "duration": 0.048664,
     "end_time": "2022-01-08T00:27:08.723490",
     "exception": false,
     "start_time": "2022-01-08T00:27:08.674826",
     "status": "completed"
    },
    "tags": []
   },
   "outputs": [],
   "source": [
    "#hide\n",
    "metrics = [df_table.columns[index] for index in [1,2,5,6]]\n",
    "# s_china = df_table[df_table['Country/Region'].eq('China')][metrics].sum().add_prefix('China ')\n",
    "s_us = df_table[df_table['Country/Region'].eq('US')][metrics].sum().add_prefix('US ')\n",
    "s_eu = df_table[df_table['Continent'].eq('Europe')][metrics].sum().add_prefix('EU ')\n",
    "s_ind = df_table[df_table['Country/Region'].eq('India')][metrics].sum().add_prefix('India ')\n",
    "summary = {'updated': pd.to_datetime(dt_today), 'since': pd.to_datetime(dt_yday)}\n",
    "summary = {'updated': pd.to_datetime(dt_today), 'since': pd.to_datetime(dt_yday)}\n",
    "summary = {**summary, **df_table[metrics].sum(), **s_ind, **s_us, **s_eu}"
   ]
  },
  {
   "cell_type": "code",
   "execution_count": 18,
   "id": "engaging-syndrome",
   "metadata": {
    "execution": {
     "iopub.execute_input": "2022-01-08T00:27:08.784436Z",
     "iopub.status.busy": "2022-01-08T00:27:08.783956Z",
     "iopub.status.idle": "2022-01-08T00:27:08.798137Z",
     "shell.execute_reply": "2022-01-08T00:27:08.798511Z"
    },
    "papermill": {
     "duration": 0.04761,
     "end_time": "2022-01-08T00:27:08.798660",
     "exception": false,
     "start_time": "2022-01-08T00:27:08.751050",
     "status": "completed"
    },
    "tags": []
   },
   "outputs": [],
   "source": [
    "#hide\n",
    "dft_ct_new_cases = dft_cases.groupby(COL_REGION)[dt_cols].sum().diff(axis=1).fillna(0).astype(int)"
   ]
  },
  {
   "cell_type": "code",
   "execution_count": 19,
   "id": "neutral-assignment",
   "metadata": {
    "execution": {
     "iopub.execute_input": "2022-01-08T00:27:08.860040Z",
     "iopub.status.busy": "2022-01-08T00:27:08.859568Z",
     "iopub.status.idle": "2022-01-08T00:27:08.861552Z",
     "shell.execute_reply": "2022-01-08T00:27:08.861942Z"
    },
    "papermill": {
     "duration": 0.035874,
     "end_time": "2022-01-08T00:27:08.862065",
     "exception": false,
     "start_time": "2022-01-08T00:27:08.826191",
     "status": "completed"
    },
    "tags": []
   },
   "outputs": [],
   "source": [
    "#hide\n",
    "everydaycases = dft_ct_new_cases.cumsum(axis=1)"
   ]
  },
  {
   "cell_type": "code",
   "execution_count": 20,
   "id": "parliamentary-calgary",
   "metadata": {
    "execution": {
     "iopub.execute_input": "2022-01-08T00:27:08.927195Z",
     "iopub.status.busy": "2022-01-08T00:27:08.926555Z",
     "iopub.status.idle": "2022-01-08T00:27:09.537892Z",
     "shell.execute_reply": "2022-01-08T00:27:09.537343Z"
    },
    "papermill": {
     "duration": 0.648526,
     "end_time": "2022-01-08T00:27:09.538084",
     "exception": false,
     "start_time": "2022-01-08T00:27:08.889558",
     "status": "completed"
    },
    "tags": []
   },
   "outputs": [],
   "source": [
    "#hide\n",
    "import pandas as pd\n",
    "import matplotlib.pyplot as plt\n",
    "import matplotlib.ticker as ticker\n",
    "import matplotlib.animation as animation\n",
    "from IPython.display import HTML"
   ]
  },
  {
   "cell_type": "code",
   "execution_count": 21,
   "id": "lasting-extraction",
   "metadata": {
    "execution": {
     "iopub.execute_input": "2022-01-08T00:27:09.600768Z",
     "iopub.status.busy": "2022-01-08T00:27:09.600293Z",
     "iopub.status.idle": "2022-01-08T00:27:09.606289Z",
     "shell.execute_reply": "2022-01-08T00:27:09.606758Z"
    },
    "papermill": {
     "duration": 0.040144,
     "end_time": "2022-01-08T00:27:09.606890",
     "exception": false,
     "start_time": "2022-01-08T00:27:09.566746",
     "status": "completed"
    },
    "tags": []
   },
   "outputs": [],
   "source": [
    "#hide\n",
    "t = everydaycases.stack()"
   ]
  },
  {
   "cell_type": "code",
   "execution_count": 22,
   "id": "premier-sleeve",
   "metadata": {
    "execution": {
     "iopub.execute_input": "2022-01-08T00:27:09.666426Z",
     "iopub.status.busy": "2022-01-08T00:27:09.665947Z",
     "iopub.status.idle": "2022-01-08T00:27:09.676415Z",
     "shell.execute_reply": "2022-01-08T00:27:09.675991Z"
    },
    "papermill": {
     "duration": 0.042062,
     "end_time": "2022-01-08T00:27:09.676525",
     "exception": false,
     "start_time": "2022-01-08T00:27:09.634463",
     "status": "completed"
    },
    "tags": []
   },
   "outputs": [],
   "source": [
    "#hide\n",
    "g = t.reset_index(['Country/Region'])"
   ]
  },
  {
   "cell_type": "code",
   "execution_count": 23,
   "id": "distributed-pittsburgh",
   "metadata": {
    "execution": {
     "iopub.execute_input": "2022-01-08T00:27:09.734876Z",
     "iopub.status.busy": "2022-01-08T00:27:09.734374Z",
     "iopub.status.idle": "2022-01-08T00:27:09.736720Z",
     "shell.execute_reply": "2022-01-08T00:27:09.736353Z"
    },
    "papermill": {
     "duration": 0.033039,
     "end_time": "2022-01-08T00:27:09.736824",
     "exception": false,
     "start_time": "2022-01-08T00:27:09.703785",
     "status": "completed"
    },
    "tags": []
   },
   "outputs": [],
   "source": [
    "#hide\n",
    "g.index.name = 'date'"
   ]
  },
  {
   "cell_type": "code",
   "execution_count": 24,
   "id": "naked-donor",
   "metadata": {
    "execution": {
     "iopub.execute_input": "2022-01-08T00:27:09.795464Z",
     "iopub.status.busy": "2022-01-08T00:27:09.794912Z",
     "iopub.status.idle": "2022-01-08T00:27:09.796907Z",
     "shell.execute_reply": "2022-01-08T00:27:09.796499Z"
    },
    "papermill": {
     "duration": 0.032849,
     "end_time": "2022-01-08T00:27:09.797020",
     "exception": false,
     "start_time": "2022-01-08T00:27:09.764171",
     "status": "completed"
    },
    "tags": []
   },
   "outputs": [],
   "source": [
    "# #hide\n",
    "# g = g.reset_index(['date'])"
   ]
  },
  {
   "cell_type": "code",
   "execution_count": 25,
   "id": "incomplete-mustang",
   "metadata": {
    "execution": {
     "iopub.execute_input": "2022-01-08T00:27:09.862969Z",
     "iopub.status.busy": "2022-01-08T00:27:09.862315Z",
     "iopub.status.idle": "2022-01-08T00:27:09.865443Z",
     "shell.execute_reply": "2022-01-08T00:27:09.865026Z"
    },
    "papermill": {
     "duration": 0.037693,
     "end_time": "2022-01-08T00:27:09.865544",
     "exception": false,
     "start_time": "2022-01-08T00:27:09.827851",
     "status": "completed"
    },
    "tags": []
   },
   "outputs": [],
   "source": [
    "#hide\n",
    "# g.head()"
   ]
  },
  {
   "cell_type": "code",
   "execution_count": 26,
   "id": "specific-kruger",
   "metadata": {
    "execution": {
     "iopub.execute_input": "2022-01-08T00:27:09.924664Z",
     "iopub.status.busy": "2022-01-08T00:27:09.924043Z",
     "iopub.status.idle": "2022-01-08T00:27:09.927488Z",
     "shell.execute_reply": "2022-01-08T00:27:09.927115Z"
    },
    "papermill": {
     "duration": 0.034446,
     "end_time": "2022-01-08T00:27:09.927592",
     "exception": false,
     "start_time": "2022-01-08T00:27:09.893146",
     "status": "completed"
    },
    "tags": []
   },
   "outputs": [],
   "source": [
    "#hide\n",
    "# g.columns = ['date','country','cases']"
   ]
  },
  {
   "cell_type": "code",
   "execution_count": 27,
   "id": "tender-conversion",
   "metadata": {
    "execution": {
     "iopub.execute_input": "2022-01-08T00:27:09.985911Z",
     "iopub.status.busy": "2022-01-08T00:27:09.985364Z",
     "iopub.status.idle": "2022-01-08T00:27:09.989076Z",
     "shell.execute_reply": "2022-01-08T00:27:09.988664Z"
    },
    "papermill": {
     "duration": 0.034386,
     "end_time": "2022-01-08T00:27:09.989191",
     "exception": false,
     "start_time": "2022-01-08T00:27:09.954805",
     "status": "completed"
    },
    "tags": []
   },
   "outputs": [],
   "source": [
    "#hide\n",
    "# g['continent'] = g.country"
   ]
  },
  {
   "cell_type": "code",
   "execution_count": 28,
   "id": "substantial-wilderness",
   "metadata": {
    "execution": {
     "iopub.execute_input": "2022-01-08T00:27:10.056111Z",
     "iopub.status.busy": "2022-01-08T00:27:10.055484Z",
     "iopub.status.idle": "2022-01-08T00:27:10.057540Z",
     "shell.execute_reply": "2022-01-08T00:27:10.056989Z"
    },
    "papermill": {
     "duration": 0.036855,
     "end_time": "2022-01-08T00:27:10.057647",
     "exception": false,
     "start_time": "2022-01-08T00:27:10.020792",
     "status": "completed"
    },
    "tags": []
   },
   "outputs": [],
   "source": [
    "#hide\n",
    "# cols = list(g.columns.values)"
   ]
  },
  {
   "cell_type": "code",
   "execution_count": 29,
   "id": "solved-farming",
   "metadata": {
    "execution": {
     "iopub.execute_input": "2022-01-08T00:27:10.116463Z",
     "iopub.status.busy": "2022-01-08T00:27:10.115850Z",
     "iopub.status.idle": "2022-01-08T00:27:10.117130Z",
     "shell.execute_reply": "2022-01-08T00:27:10.117677Z"
    },
    "papermill": {
     "duration": 0.032811,
     "end_time": "2022-01-08T00:27:10.117821",
     "exception": false,
     "start_time": "2022-01-08T00:27:10.085010",
     "status": "completed"
    },
    "tags": []
   },
   "outputs": [],
   "source": [
    "#hide\n",
    "# cols.insert(0, cols.pop())"
   ]
  },
  {
   "cell_type": "code",
   "execution_count": 30,
   "id": "executed-adoption",
   "metadata": {
    "execution": {
     "iopub.execute_input": "2022-01-08T00:27:10.184339Z",
     "iopub.status.busy": "2022-01-08T00:27:10.183710Z",
     "iopub.status.idle": "2022-01-08T00:27:10.187052Z",
     "shell.execute_reply": "2022-01-08T00:27:10.187443Z"
    },
    "papermill": {
     "duration": 0.038516,
     "end_time": "2022-01-08T00:27:10.187579",
     "exception": false,
     "start_time": "2022-01-08T00:27:10.149063",
     "status": "completed"
    },
    "tags": []
   },
   "outputs": [],
   "source": [
    "#hide\n",
    "# g = g[cols]"
   ]
  },
  {
   "cell_type": "code",
   "execution_count": 31,
   "id": "subject-dublin",
   "metadata": {
    "execution": {
     "iopub.execute_input": "2022-01-08T00:27:10.253977Z",
     "iopub.status.busy": "2022-01-08T00:27:10.253352Z",
     "iopub.status.idle": "2022-01-08T00:27:10.254861Z",
     "shell.execute_reply": "2022-01-08T00:27:10.255364Z"
    },
    "papermill": {
     "duration": 0.036814,
     "end_time": "2022-01-08T00:27:10.255511",
     "exception": false,
     "start_time": "2022-01-08T00:27:10.218697",
     "status": "completed"
    },
    "tags": []
   },
   "outputs": [],
   "source": [
    "#hide\n",
    "# g['continent'] = g['continent'].map(mapping['map.continent'])"
   ]
  },
  {
   "cell_type": "code",
   "execution_count": 32,
   "id": "freelance-scout",
   "metadata": {
    "execution": {
     "iopub.execute_input": "2022-01-08T00:27:10.315748Z",
     "iopub.status.busy": "2022-01-08T00:27:10.315110Z",
     "iopub.status.idle": "2022-01-08T00:27:10.317381Z",
     "shell.execute_reply": "2022-01-08T00:27:10.316860Z"
    },
    "papermill": {
     "duration": 0.033291,
     "end_time": "2022-01-08T00:27:10.317506",
     "exception": false,
     "start_time": "2022-01-08T00:27:10.284215",
     "status": "completed"
    },
    "tags": []
   },
   "outputs": [],
   "source": [
    "#hide\n",
    "# g.head()"
   ]
  },
  {
   "cell_type": "code",
   "execution_count": 33,
   "id": "limited-engine",
   "metadata": {
    "execution": {
     "iopub.execute_input": "2022-01-08T00:27:10.383739Z",
     "iopub.status.busy": "2022-01-08T00:27:10.383239Z",
     "iopub.status.idle": "2022-01-08T00:27:10.386407Z",
     "shell.execute_reply": "2022-01-08T00:27:10.385993Z"
    },
    "papermill": {
     "duration": 0.037588,
     "end_time": "2022-01-08T00:27:10.386511",
     "exception": false,
     "start_time": "2022-01-08T00:27:10.348923",
     "status": "completed"
    },
    "tags": []
   },
   "outputs": [],
   "source": [
    "# hide\n",
    "# g['date'] = g['date'].astype('datetime64[ns]')"
   ]
  },
  {
   "cell_type": "code",
   "execution_count": 34,
   "id": "sophisticated-supervisor",
   "metadata": {
    "execution": {
     "iopub.execute_input": "2022-01-08T00:27:10.445370Z",
     "iopub.status.busy": "2022-01-08T00:27:10.444767Z",
     "iopub.status.idle": "2022-01-08T00:27:10.448069Z",
     "shell.execute_reply": "2022-01-08T00:27:10.448513Z"
    },
    "papermill": {
     "duration": 0.034591,
     "end_time": "2022-01-08T00:27:10.448657",
     "exception": false,
     "start_time": "2022-01-08T00:27:10.414066",
     "status": "completed"
    },
    "tags": []
   },
   "outputs": [],
   "source": [
    "#hide\n",
    "# g['date'] = g.date.dt.dayofyear"
   ]
  },
  {
   "cell_type": "code",
   "execution_count": 35,
   "id": "inside-dubai",
   "metadata": {
    "execution": {
     "iopub.execute_input": "2022-01-08T00:27:10.514676Z",
     "iopub.status.busy": "2022-01-08T00:27:10.514164Z",
     "iopub.status.idle": "2022-01-08T00:27:10.516317Z",
     "shell.execute_reply": "2022-01-08T00:27:10.515947Z"
    },
    "papermill": {
     "duration": 0.036316,
     "end_time": "2022-01-08T00:27:10.516419",
     "exception": false,
     "start_time": "2022-01-08T00:27:10.480103",
     "status": "completed"
    },
    "tags": []
   },
   "outputs": [],
   "source": [
    "#hide\n",
    "# g = g.rename(columns= {'continent':'group','country':'name','cases':'value'})"
   ]
  },
  {
   "cell_type": "code",
   "execution_count": 36,
   "id": "fleet-motorcycle",
   "metadata": {
    "execution": {
     "iopub.execute_input": "2022-01-08T00:27:10.575613Z",
     "iopub.status.busy": "2022-01-08T00:27:10.575067Z",
     "iopub.status.idle": "2022-01-08T00:27:10.578129Z",
     "shell.execute_reply": "2022-01-08T00:27:10.578515Z"
    },
    "papermill": {
     "duration": 0.034821,
     "end_time": "2022-01-08T00:27:10.578670",
     "exception": false,
     "start_time": "2022-01-08T00:27:10.543849",
     "status": "completed"
    },
    "tags": []
   },
   "outputs": [],
   "source": [
    "#hide\n",
    "# cols = ['name','group','day','value']"
   ]
  },
  {
   "cell_type": "code",
   "execution_count": 37,
   "id": "continued-sleeping",
   "metadata": {
    "execution": {
     "iopub.execute_input": "2022-01-08T00:27:10.644553Z",
     "iopub.status.busy": "2022-01-08T00:27:10.643936Z",
     "iopub.status.idle": "2022-01-08T00:27:10.647570Z",
     "shell.execute_reply": "2022-01-08T00:27:10.647146Z"
    },
    "papermill": {
     "duration": 0.038091,
     "end_time": "2022-01-08T00:27:10.647688",
     "exception": false,
     "start_time": "2022-01-08T00:27:10.609597",
     "status": "completed"
    },
    "tags": []
   },
   "outputs": [],
   "source": [
    "#hide\n",
    "# g.rename(columns= {'date':'day'},inplace = True)"
   ]
  },
  {
   "cell_type": "code",
   "execution_count": 38,
   "id": "major-fight",
   "metadata": {
    "execution": {
     "iopub.execute_input": "2022-01-08T00:27:10.713890Z",
     "iopub.status.busy": "2022-01-08T00:27:10.713262Z",
     "iopub.status.idle": "2022-01-08T00:27:10.714790Z",
     "shell.execute_reply": "2022-01-08T00:27:10.715285Z"
    },
    "papermill": {
     "duration": 0.036714,
     "end_time": "2022-01-08T00:27:10.715427",
     "exception": false,
     "start_time": "2022-01-08T00:27:10.678713",
     "status": "completed"
    },
    "tags": []
   },
   "outputs": [],
   "source": [
    "#hide\n",
    "# g = g[cols]"
   ]
  },
  {
   "cell_type": "code",
   "execution_count": 39,
   "id": "structured-mobile",
   "metadata": {
    "execution": {
     "iopub.execute_input": "2022-01-08T00:27:10.774358Z",
     "iopub.status.busy": "2022-01-08T00:27:10.773744Z",
     "iopub.status.idle": "2022-01-08T00:27:10.777072Z",
     "shell.execute_reply": "2022-01-08T00:27:10.777513Z"
    },
    "papermill": {
     "duration": 0.034691,
     "end_time": "2022-01-08T00:27:10.777646",
     "exception": false,
     "start_time": "2022-01-08T00:27:10.742955",
     "status": "completed"
    },
    "tags": []
   },
   "outputs": [],
   "source": [
    "# #hide\n",
    "# g = g[g.group.notna()]"
   ]
  },
  {
   "cell_type": "code",
   "execution_count": 40,
   "id": "determined-closing",
   "metadata": {
    "execution": {
     "iopub.execute_input": "2022-01-08T00:27:10.844245Z",
     "iopub.status.busy": "2022-01-08T00:27:10.843619Z",
     "iopub.status.idle": "2022-01-08T00:27:10.845070Z",
     "shell.execute_reply": "2022-01-08T00:27:10.845533Z"
    },
    "papermill": {
     "duration": 0.036858,
     "end_time": "2022-01-08T00:27:10.845676",
     "exception": false,
     "start_time": "2022-01-08T00:27:10.808818",
     "status": "completed"
    },
    "tags": []
   },
   "outputs": [],
   "source": [
    "# #hide\n",
    "# colors = dict(zip(\n",
    "#     [\"Oceania\", \"Europe\", \"Asia\", \"South America\", \"Middle East\", \"North America\", \"Africa\"],\n",
    "#     [\"#adb0ff\", \"#ffb3ff\", \"#90d595\", \"#e48381\", \"#aafbff\", \"#f7bb5f\", \"#eafb50\"]\n",
    "# ))\n",
    "# group_lk = g.set_index('name')['group'].to_dict()"
   ]
  },
  {
   "cell_type": "code",
   "execution_count": null,
   "id": "gross-drinking",
   "metadata": {
    "papermill": {
     "duration": 0.027244,
     "end_time": "2022-01-08T00:27:10.900883",
     "exception": false,
     "start_time": "2022-01-08T00:27:10.873639",
     "status": "completed"
    },
    "tags": []
   },
   "outputs": [],
   "source": []
  },
  {
   "cell_type": "code",
   "execution_count": 41,
   "id": "subject-macintosh",
   "metadata": {
    "execution": {
     "iopub.execute_input": "2022-01-08T00:27:10.960039Z",
     "iopub.status.busy": "2022-01-08T00:27:10.959553Z",
     "iopub.status.idle": "2022-01-08T00:27:10.961643Z",
     "shell.execute_reply": "2022-01-08T00:27:10.962011Z"
    },
    "papermill": {
     "duration": 0.033875,
     "end_time": "2022-01-08T00:27:10.962132",
     "exception": false,
     "start_time": "2022-01-08T00:27:10.928257",
     "status": "completed"
    },
    "tags": []
   },
   "outputs": [],
   "source": [
    "# #hide\n",
    "# fig, ax = plt.subplots(figsize=(15, 8))\n",
    "\n",
    "# def draw_barchart(current_day):\n",
    "#     dff = g[g['day'].eq(current_day)].sort_values(by='value', ascending=True).tail(10)\n",
    "#     ax.clear()\n",
    "#     ax.barh(dff['name'], dff['value'], color=[colors[group_lk[x]] for x in dff['name']])\n",
    "#     dx = dff['value'].max() / 200\n",
    "    \n",
    "#     for i, (value, name) in enumerate(zip(dff['value'], dff['name'])):\n",
    "#         ax.text(value-dx, i,     name,           size=14, weight=600, ha='right', va='bottom')\n",
    "#         ax.text(value-dx, i-.25, group_lk[name], size=10, color='#444444', ha='right', va='baseline')\n",
    "#         ax.text(value+dx, i,     f'{value:,.0f}',  size=14, ha='left',  va='center')\n",
    "#     ax.text(1, 0.4, current_day, transform=ax.transAxes, color='#777777', size=46, ha='right', weight=800)\n",
    "#     ax.text(0, 1.06, 'Population (thousands)', transform=ax.transAxes, size=12, color='#777777')\n",
    "#     ax.xaxis.set_major_formatter(ticker.StrMethodFormatter('{x:,.0f}'))\n",
    "#     ax.xaxis.set_ticks_position('top')\n",
    "#     ax.tick_params(axis='x', colors='#777777', labelsize=12)\n",
    "#     ax.set_yticks([])\n",
    "#     ax.margins(0, 0.01)\n",
    "#     ax.grid(which='major', axis='x', linestyle='-')\n",
    "#     ax.set_axisbelow(True)\n",
    "    \n",
    "#     ax.text(0, 1.15, 'Coronavirus',\n",
    "#             transform=ax.transAxes, size=24, weight=600, ha='left', va='top')\n",
    "# #     ax.text(1, 0, 'by @pratapvardhan; credit @jburnmurdoch', transform=ax.transAxes, color='#777777', ha='right',\n",
    "# #             bbox=dict(facecolor='white', alpha=0.8, edgecolor='white'))\n",
    "#     plt.box(False)"
   ]
  },
  {
   "cell_type": "code",
   "execution_count": 42,
   "id": "sexual-wages",
   "metadata": {
    "execution": {
     "iopub.execute_input": "2022-01-08T00:27:11.021039Z",
     "iopub.status.busy": "2022-01-08T00:27:11.020494Z",
     "iopub.status.idle": "2022-01-08T00:27:11.022475Z",
     "shell.execute_reply": "2022-01-08T00:27:11.022041Z"
    },
    "papermill": {
     "duration": 0.03314,
     "end_time": "2022-01-08T00:27:11.022605",
     "exception": false,
     "start_time": "2022-01-08T00:27:10.989465",
     "status": "completed"
    },
    "tags": []
   },
   "outputs": [],
   "source": [
    "# #hide_input\n",
    "# fig, ax = plt.subplots(figsize=(15, 8))\n",
    "# animator = animation.FuncAnimation(fig, draw_barchart, frames=range(g.day.values.min(), g.day.values.max()))\n",
    "# HTML(animator.to_jshtml())\n",
    "# # or use animator.to_html5_video() or animator.save() "
   ]
  },
  {
   "cell_type": "code",
   "execution_count": null,
   "id": "australian-container",
   "metadata": {
    "papermill": {
     "duration": 0.031103,
     "end_time": "2022-01-08T00:27:11.084748",
     "exception": false,
     "start_time": "2022-01-08T00:27:11.053645",
     "status": "completed"
    },
    "tags": []
   },
   "outputs": [],
   "source": []
  },
  {
   "cell_type": "code",
   "execution_count": null,
   "id": "mediterranean-pontiac",
   "metadata": {
    "papermill": {
     "duration": 0.030819,
     "end_time": "2022-01-08T00:27:11.146411",
     "exception": false,
     "start_time": "2022-01-08T00:27:11.115592",
     "status": "completed"
    },
    "tags": []
   },
   "outputs": [],
   "source": []
  },
  {
   "cell_type": "code",
   "execution_count": null,
   "id": "aging-legislature",
   "metadata": {
    "papermill": {
     "duration": 0.030895,
     "end_time": "2022-01-08T00:27:11.208432",
     "exception": false,
     "start_time": "2022-01-08T00:27:11.177537",
     "status": "completed"
    },
    "tags": []
   },
   "outputs": [],
   "source": []
  }
 ],
 "metadata": {
  "kernelspec": {
   "display_name": "Python 3",
   "language": "python",
   "name": "python3"
  },
  "language_info": {
   "codemirror_mode": {
    "name": "ipython",
    "version": 3
   },
   "file_extension": ".py",
   "mimetype": "text/x-python",
   "name": "python",
   "nbconvert_exporter": "python",
   "pygments_lexer": "ipython3",
   "version": "3.6.15"
  },
  "papermill": {
   "duration": 5.939469,
   "end_time": "2022-01-08T00:27:11.648300",
   "environment_variables": {},
   "exception": null,
   "input_path": "2020-03-21-covid19exp.ipynb",
   "output_path": "2020-03-21-covid19exp.ipynb",
   "parameters": {},
   "start_time": "2022-01-08T00:27:05.708831",
   "version": "2.0.0"
  }
 },
 "nbformat": 4,
 "nbformat_minor": 5
}