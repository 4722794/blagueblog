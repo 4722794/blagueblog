{
 "cells": [
  {
   "cell_type": "markdown",
   "id": "muslim-click",
   "metadata": {
    "papermill": {
     "duration": 0.034867,
     "end_time": "2021-10-09T00:22:35.948019",
     "exception": false,
     "start_time": "2021-10-09T00:22:35.913152",
     "status": "completed"
    },
    "tags": []
   },
   "source": [
    "# COVID-19 Case Race\n",
    "> A race chart to see rising cases around the world\n",
    "\n",
    "- author: Hargun Oberoi\n",
    "- image: images/covid-overview.png\n",
    "- hide: false\n",
    "- badges: false"
   ]
  },
  {
   "cell_type": "code",
   "execution_count": 1,
   "id": "proof-material",
   "metadata": {
    "execution": {
     "iopub.execute_input": "2021-10-09T00:22:36.021103Z",
     "iopub.status.busy": "2021-10-09T00:22:36.014770Z",
     "iopub.status.idle": "2021-10-09T00:22:36.349329Z",
     "shell.execute_reply": "2021-10-09T00:22:36.348826Z"
    },
    "papermill": {
     "duration": 0.368881,
     "end_time": "2021-10-09T00:22:36.349476",
     "exception": false,
     "start_time": "2021-10-09T00:22:35.980595",
     "status": "completed"
    },
    "tags": []
   },
   "outputs": [],
   "source": [
    "#hide\n",
    "import numpy as np\n",
    "import pandas as pd\n",
    "from jinja2 import Template\n",
    "from IPython.display import HTML"
   ]
  },
  {
   "cell_type": "code",
   "execution_count": 2,
   "id": "developed-terminology",
   "metadata": {
    "execution": {
     "iopub.execute_input": "2021-10-09T00:22:36.421824Z",
     "iopub.status.busy": "2021-10-09T00:22:36.421106Z",
     "iopub.status.idle": "2021-10-09T00:22:36.423495Z",
     "shell.execute_reply": "2021-10-09T00:22:36.423946Z"
    },
    "papermill": {
     "duration": 0.041103,
     "end_time": "2021-10-09T00:22:36.424061",
     "exception": false,
     "start_time": "2021-10-09T00:22:36.382958",
     "status": "completed"
    },
    "tags": []
   },
   "outputs": [],
   "source": [
    "#hide\n",
    "\n",
    "# FETCH\n",
    "base_url = 'https://raw.githubusercontent.com/pratapvardhan/notebooks/master/covid19/'\n",
    "paths = {\n",
    "    'mapping': base_url + 'mapping_countries.csv',\n",
    "    'overview': base_url + 'overview.tpl'\n",
    "}"
   ]
  },
  {
   "cell_type": "code",
   "execution_count": 3,
   "id": "dynamic-saver",
   "metadata": {
    "execution": {
     "iopub.execute_input": "2021-10-09T00:22:36.495351Z",
     "iopub.status.busy": "2021-10-09T00:22:36.494803Z",
     "iopub.status.idle": "2021-10-09T00:22:36.498293Z",
     "shell.execute_reply": "2021-10-09T00:22:36.497670Z"
    },
    "papermill": {
     "duration": 0.042957,
     "end_time": "2021-10-09T00:22:36.498394",
     "exception": false,
     "start_time": "2021-10-09T00:22:36.455437",
     "status": "completed"
    },
    "tags": []
   },
   "outputs": [
    {
     "data": {
      "text/plain": [
       "'https://raw.githubusercontent.com/pratapvardhan/notebooks/master/covid19/mapping_countries.csv'"
      ]
     },
     "execution_count": 3,
     "metadata": {},
     "output_type": "execute_result"
    }
   ],
   "source": [
    "#hide\n",
    "paths['mapping']"
   ]
  },
  {
   "cell_type": "code",
   "execution_count": 4,
   "id": "urban-software",
   "metadata": {
    "execution": {
     "iopub.execute_input": "2021-10-09T00:22:36.566503Z",
     "iopub.status.busy": "2021-10-09T00:22:36.565970Z",
     "iopub.status.idle": "2021-10-09T00:22:36.568383Z",
     "shell.execute_reply": "2021-10-09T00:22:36.567838Z"
    },
    "papermill": {
     "duration": 0.038951,
     "end_time": "2021-10-09T00:22:36.568511",
     "exception": false,
     "start_time": "2021-10-09T00:22:36.529560",
     "status": "completed"
    },
    "tags": []
   },
   "outputs": [],
   "source": [
    "#hide\n",
    "def get_mappings(url):\n",
    "    df = pd.read_csv(url)\n",
    "    return {\n",
    "        'df': df,\n",
    "        'replace.country': dict(df.dropna(subset=['Name']).set_index('Country')['Name']),\n",
    "        'map.continent': dict(df.set_index('Name')['Continent'])\n",
    "    }"
   ]
  },
  {
   "cell_type": "code",
   "execution_count": 5,
   "id": "intimate-machinery",
   "metadata": {
    "execution": {
     "iopub.execute_input": "2021-10-09T00:22:36.637782Z",
     "iopub.status.busy": "2021-10-09T00:22:36.637248Z",
     "iopub.status.idle": "2021-10-09T00:22:36.675784Z",
     "shell.execute_reply": "2021-10-09T00:22:36.675309Z"
    },
    "papermill": {
     "duration": 0.075529,
     "end_time": "2021-10-09T00:22:36.675910",
     "exception": false,
     "start_time": "2021-10-09T00:22:36.600381",
     "status": "completed"
    },
    "tags": []
   },
   "outputs": [],
   "source": [
    "#hide\n",
    "mapping = get_mappings(paths['mapping'])"
   ]
  },
  {
   "cell_type": "code",
   "execution_count": 6,
   "id": "certified-tactics",
   "metadata": {
    "execution": {
     "iopub.execute_input": "2021-10-09T00:22:36.747782Z",
     "iopub.status.busy": "2021-10-09T00:22:36.747201Z",
     "iopub.status.idle": "2021-10-09T00:22:36.749943Z",
     "shell.execute_reply": "2021-10-09T00:22:36.749304Z"
    },
    "papermill": {
     "duration": 0.040658,
     "end_time": "2021-10-09T00:22:36.750051",
     "exception": false,
     "start_time": "2021-10-09T00:22:36.709393",
     "status": "completed"
    },
    "tags": []
   },
   "outputs": [],
   "source": [
    "#hide\n",
    "def get_template(path):\n",
    "    from urllib.parse import urlparse\n",
    "    if bool(urlparse(path).netloc):\n",
    "        from urllib.request import urlopen\n",
    "        return urlopen(path).read().decode('utf8')\n",
    "    return open(path).read()"
   ]
  },
  {
   "cell_type": "code",
   "execution_count": 7,
   "id": "realistic-blast",
   "metadata": {
    "execution": {
     "iopub.execute_input": "2021-10-09T00:22:36.819144Z",
     "iopub.status.busy": "2021-10-09T00:22:36.818568Z",
     "iopub.status.idle": "2021-10-09T00:22:36.820485Z",
     "shell.execute_reply": "2021-10-09T00:22:36.821083Z"
    },
    "papermill": {
     "duration": 0.038393,
     "end_time": "2021-10-09T00:22:36.821243",
     "exception": false,
     "start_time": "2021-10-09T00:22:36.782850",
     "status": "completed"
    },
    "tags": []
   },
   "outputs": [],
   "source": [
    "#hide\n",
    "def get_frame(name):\n",
    "    url = (\n",
    "        'https://raw.githubusercontent.com/CSSEGISandData/COVID-19/master/csse_covid_19_data/'\n",
    "        f'csse_covid_19_time_series/time_series_covid19_{name}_global.csv')\n",
    "    df = pd.read_csv(url)\n",
    "    # rename countries\n",
    "    df['Country/Region'] = df['Country/Region'].replace(mapping['replace.country'])\n",
    "    return df"
   ]
  },
  {
   "cell_type": "code",
   "execution_count": 8,
   "id": "affiliated-characterization",
   "metadata": {
    "execution": {
     "iopub.execute_input": "2021-10-09T00:22:36.889796Z",
     "iopub.status.busy": "2021-10-09T00:22:36.889223Z",
     "iopub.status.idle": "2021-10-09T00:22:36.891097Z",
     "shell.execute_reply": "2021-10-09T00:22:36.891640Z"
    },
    "papermill": {
     "duration": 0.038782,
     "end_time": "2021-10-09T00:22:36.891790",
     "exception": false,
     "start_time": "2021-10-09T00:22:36.853008",
     "status": "completed"
    },
    "tags": []
   },
   "outputs": [],
   "source": [
    "#hide\n",
    "def get_dates(df):\n",
    "    dt_cols = df.columns[~df.columns.isin(['Province/State', 'Country/Region', 'Lat', 'Long'])]\n",
    "    LAST_DATE_I = -1\n",
    "    # sometimes last column may be empty, then go backwards\n",
    "    for i in range(-1, -len(dt_cols), -1):\n",
    "        if not df[dt_cols[i]].fillna(0).eq(0).all():\n",
    "            LAST_DATE_I = i\n",
    "            break\n",
    "    return LAST_DATE_I, dt_cols"
   ]
  },
  {
   "cell_type": "code",
   "execution_count": 9,
   "id": "recent-optimization",
   "metadata": {
    "execution": {
     "iopub.execute_input": "2021-10-09T00:22:36.961233Z",
     "iopub.status.busy": "2021-10-09T00:22:36.960564Z",
     "iopub.status.idle": "2021-10-09T00:22:37.364554Z",
     "shell.execute_reply": "2021-10-09T00:22:37.365130Z"
    },
    "papermill": {
     "duration": 0.441738,
     "end_time": "2021-10-09T00:22:37.365375",
     "exception": false,
     "start_time": "2021-10-09T00:22:36.923637",
     "status": "completed"
    },
    "tags": []
   },
   "outputs": [],
   "source": [
    "#hide\n",
    "COL_REGION = 'Country/Region'\n",
    "# Confirmed, Recovered, Deaths\n",
    "df = get_frame('confirmed')\n",
    "# dft_: timeseries, dfc_: today country agg\n",
    "dft_cases = df\n",
    "dft_deaths = get_frame('deaths')\n",
    "dft_recovered = get_frame('recovered')\n",
    "LAST_DATE_I, dt_cols = get_dates(df)"
   ]
  },
  {
   "cell_type": "code",
   "execution_count": 10,
   "id": "absolute-copper",
   "metadata": {
    "execution": {
     "iopub.execute_input": "2021-10-09T00:22:37.441803Z",
     "iopub.status.busy": "2021-10-09T00:22:37.441142Z",
     "iopub.status.idle": "2021-10-09T00:22:37.444642Z",
     "shell.execute_reply": "2021-10-09T00:22:37.444150Z"
    },
    "papermill": {
     "duration": 0.042705,
     "end_time": "2021-10-09T00:22:37.444756",
     "exception": false,
     "start_time": "2021-10-09T00:22:37.402051",
     "status": "completed"
    },
    "tags": []
   },
   "outputs": [],
   "source": [
    "#hide\n",
    "LAST_DATE_I, dt_cols = get_dates(df)\n",
    "dt_today =dt_cols[LAST_DATE_I]\n",
    "# dt_5day = dt_cols[LAST_DATE_I - 5]\n",
    "dt_yday = dt_cols[LAST_DATE_I - 1]"
   ]
  },
  {
   "cell_type": "code",
   "execution_count": 11,
   "id": "restricted-sheriff",
   "metadata": {
    "execution": {
     "iopub.execute_input": "2021-10-09T00:22:37.561819Z",
     "iopub.status.busy": "2021-10-09T00:22:37.560878Z",
     "iopub.status.idle": "2021-10-09T00:22:37.571523Z",
     "shell.execute_reply": "2021-10-09T00:22:37.571070Z"
    },
    "papermill": {
     "duration": 0.061202,
     "end_time": "2021-10-09T00:22:37.571638",
     "exception": false,
     "start_time": "2021-10-09T00:22:37.510436",
     "status": "completed"
    },
    "tags": []
   },
   "outputs": [],
   "source": [
    "#hide\n",
    "dfc_cases = dft_cases.groupby(COL_REGION)[dt_today].sum()\n",
    "dfc_deaths = dft_deaths.groupby(COL_REGION)[dt_today].sum()\n",
    "# dfp_cases = dft_cases.groupby(COL_REGION)[dt_5day].sum()\n",
    "# dfp_deaths = dft_deaths.groupby(COL_REGION)[dt_5day].sum()\n",
    "dfp_cases = dft_cases.groupby(COL_REGION)[dt_yday].sum()\n",
    "dfp_deaths = dft_deaths.groupby(COL_REGION)[dt_yday].sum()"
   ]
  },
  {
   "cell_type": "code",
   "execution_count": 12,
   "id": "deluxe-hepatitis",
   "metadata": {
    "execution": {
     "iopub.execute_input": "2021-10-09T00:22:37.725626Z",
     "iopub.status.busy": "2021-10-09T00:22:37.725040Z",
     "iopub.status.idle": "2021-10-09T00:22:37.727245Z",
     "shell.execute_reply": "2021-10-09T00:22:37.727789Z"
    },
    "papermill": {
     "duration": 0.076097,
     "end_time": "2021-10-09T00:22:37.727918",
     "exception": false,
     "start_time": "2021-10-09T00:22:37.651821",
     "status": "completed"
    },
    "tags": []
   },
   "outputs": [],
   "source": [
    "#hide\n",
    "df_table = (pd.DataFrame(dict(Cases = dfc_cases, Deaths = dfc_deaths, PCases = dfp_cases, PDeaths = dfp_deaths))\n",
    "            .sort_values(by = ['Cases','Deaths'], ascending = [False, False])\n",
    "            .reset_index())"
   ]
  },
  {
   "cell_type": "code",
   "execution_count": 13,
   "id": "educational-chancellor",
   "metadata": {
    "execution": {
     "iopub.execute_input": "2021-10-09T00:22:37.922167Z",
     "iopub.status.busy": "2021-10-09T00:22:37.921344Z",
     "iopub.status.idle": "2021-10-09T00:22:37.946797Z",
     "shell.execute_reply": "2021-10-09T00:22:37.947383Z"
    },
    "papermill": {
     "duration": 0.181907,
     "end_time": "2021-10-09T00:22:37.947542",
     "exception": false,
     "start_time": "2021-10-09T00:22:37.765635",
     "status": "completed"
    },
    "tags": []
   },
   "outputs": [
    {
     "data": {
      "text/html": [
       "<div>\n",
       "<style scoped>\n",
       "    .dataframe tbody tr th:only-of-type {\n",
       "        vertical-align: middle;\n",
       "    }\n",
       "\n",
       "    .dataframe tbody tr th {\n",
       "        vertical-align: top;\n",
       "    }\n",
       "\n",
       "    .dataframe thead th {\n",
       "        text-align: right;\n",
       "    }\n",
       "</style>\n",
       "<table border=\"1\" class=\"dataframe\">\n",
       "  <thead>\n",
       "    <tr style=\"text-align: right;\">\n",
       "      <th></th>\n",
       "      <th>Country/Region</th>\n",
       "      <th>Cases</th>\n",
       "      <th>Deaths</th>\n",
       "      <th>PCases</th>\n",
       "      <th>PDeaths</th>\n",
       "      <th>Cases (+)</th>\n",
       "      <th>Deaths (+)</th>\n",
       "      <th>Fatality Rate</th>\n",
       "      <th>Continent</th>\n",
       "    </tr>\n",
       "  </thead>\n",
       "  <tbody>\n",
       "    <tr>\n",
       "      <th>0</th>\n",
       "      <td>US</td>\n",
       "      <td>44158910</td>\n",
       "      <td>710173</td>\n",
       "      <td>44058827</td>\n",
       "      <td>707781</td>\n",
       "      <td>100083</td>\n",
       "      <td>2392</td>\n",
       "      <td>1.61</td>\n",
       "      <td>North America</td>\n",
       "    </tr>\n",
       "    <tr>\n",
       "      <th>1</th>\n",
       "      <td>India</td>\n",
       "      <td>33915569</td>\n",
       "      <td>450127</td>\n",
       "      <td>33894312</td>\n",
       "      <td>449856</td>\n",
       "      <td>21257</td>\n",
       "      <td>271</td>\n",
       "      <td>1.33</td>\n",
       "      <td>Asia</td>\n",
       "    </tr>\n",
       "    <tr>\n",
       "      <th>2</th>\n",
       "      <td>Brazil</td>\n",
       "      <td>21532558</td>\n",
       "      <td>599810</td>\n",
       "      <td>21516967</td>\n",
       "      <td>599359</td>\n",
       "      <td>15591</td>\n",
       "      <td>451</td>\n",
       "      <td>2.79</td>\n",
       "      <td>South America</td>\n",
       "    </tr>\n",
       "    <tr>\n",
       "      <th>3</th>\n",
       "      <td>United Kingdom</td>\n",
       "      <td>8084322</td>\n",
       "      <td>137818</td>\n",
       "      <td>8044424</td>\n",
       "      <td>137694</td>\n",
       "      <td>39898</td>\n",
       "      <td>124</td>\n",
       "      <td>1.70</td>\n",
       "      <td>Europe</td>\n",
       "    </tr>\n",
       "    <tr>\n",
       "      <th>4</th>\n",
       "      <td>Russia</td>\n",
       "      <td>7575825</td>\n",
       "      <td>209752</td>\n",
       "      <td>7548944</td>\n",
       "      <td>208842</td>\n",
       "      <td>26881</td>\n",
       "      <td>910</td>\n",
       "      <td>2.77</td>\n",
       "      <td>Europe</td>\n",
       "    </tr>\n",
       "  </tbody>\n",
       "</table>\n",
       "</div>"
      ],
      "text/plain": [
       "   Country/Region     Cases  Deaths    PCases  PDeaths  Cases (+)  Deaths (+)  \\\n",
       "0              US  44158910  710173  44058827   707781     100083        2392   \n",
       "1           India  33915569  450127  33894312   449856      21257         271   \n",
       "2          Brazil  21532558  599810  21516967   599359      15591         451   \n",
       "3  United Kingdom   8084322  137818   8044424   137694      39898         124   \n",
       "4          Russia   7575825  209752   7548944   208842      26881         910   \n",
       "\n",
       "   Fatality Rate      Continent  \n",
       "0           1.61  North America  \n",
       "1           1.33           Asia  \n",
       "2           2.79  South America  \n",
       "3           1.70         Europe  \n",
       "4           2.77         Europe  "
      ]
     },
     "execution_count": 13,
     "metadata": {},
     "output_type": "execute_result"
    }
   ],
   "source": [
    "#hide\n",
    "for c in 'Cases, Deaths'.split(', '):\n",
    "    df_table[f'{c} (+)'] = (df_table[c] - df_table[f'P{c}']).clip(0)\n",
    "    #Clip ça veut dire, les chiffres negatif sont interdit\n",
    "df_table['Fatality Rate'] = (100* df_table['Deaths']/ df_table['Cases']).round(2)\n",
    "df_table['Continent'] = df_table['Country/Region'].map(mapping['map.continent'])\n",
    "df_table.head(5)"
   ]
  },
  {
   "cell_type": "code",
   "execution_count": 14,
   "id": "aboriginal-bulgaria",
   "metadata": {
    "execution": {
     "iopub.execute_input": "2021-10-09T00:22:38.032377Z",
     "iopub.status.busy": "2021-10-09T00:22:38.031826Z",
     "iopub.status.idle": "2021-10-09T00:22:38.034970Z",
     "shell.execute_reply": "2021-10-09T00:22:38.034215Z"
    },
    "papermill": {
     "duration": 0.041532,
     "end_time": "2021-10-09T00:22:38.035081",
     "exception": false,
     "start_time": "2021-10-09T00:22:37.993549",
     "status": "completed"
    },
    "tags": []
   },
   "outputs": [],
   "source": [
    "#hide\n",
    "#delete problematic countries from table\n",
    "df_table = df_table[~df_table['Country/Region'].isin(['Cape Verde', 'Cruise Ship', 'Kosovo'])]"
   ]
  },
  {
   "cell_type": "code",
   "execution_count": 15,
   "id": "fantastic-effect",
   "metadata": {
    "execution": {
     "iopub.execute_input": "2021-10-09T00:22:38.108492Z",
     "iopub.status.busy": "2021-10-09T00:22:38.107950Z",
     "iopub.status.idle": "2021-10-09T00:22:38.128136Z",
     "shell.execute_reply": "2021-10-09T00:22:38.127473Z"
    },
    "papermill": {
     "duration": 0.060033,
     "end_time": "2021-10-09T00:22:38.128258",
     "exception": false,
     "start_time": "2021-10-09T00:22:38.068225",
     "status": "completed"
    },
    "tags": []
   },
   "outputs": [
    {
     "data": {
      "text/html": [
       "<div>\n",
       "<style scoped>\n",
       "    .dataframe tbody tr th:only-of-type {\n",
       "        vertical-align: middle;\n",
       "    }\n",
       "\n",
       "    .dataframe tbody tr th {\n",
       "        vertical-align: top;\n",
       "    }\n",
       "\n",
       "    .dataframe thead th {\n",
       "        text-align: right;\n",
       "    }\n",
       "</style>\n",
       "<table border=\"1\" class=\"dataframe\">\n",
       "  <thead>\n",
       "    <tr style=\"text-align: right;\">\n",
       "      <th></th>\n",
       "      <th>Country/Region</th>\n",
       "      <th>Cases</th>\n",
       "      <th>Deaths</th>\n",
       "      <th>PCases</th>\n",
       "      <th>PDeaths</th>\n",
       "      <th>Cases (+)</th>\n",
       "      <th>Deaths (+)</th>\n",
       "      <th>Fatality Rate</th>\n",
       "      <th>Continent</th>\n",
       "    </tr>\n",
       "  </thead>\n",
       "  <tbody>\n",
       "    <tr>\n",
       "      <th>0</th>\n",
       "      <td>US</td>\n",
       "      <td>44158910</td>\n",
       "      <td>710173</td>\n",
       "      <td>44058827</td>\n",
       "      <td>707781</td>\n",
       "      <td>100083</td>\n",
       "      <td>2392</td>\n",
       "      <td>1.6</td>\n",
       "      <td>North America</td>\n",
       "    </tr>\n",
       "    <tr>\n",
       "      <th>1</th>\n",
       "      <td>India</td>\n",
       "      <td>33915569</td>\n",
       "      <td>450127</td>\n",
       "      <td>33894312</td>\n",
       "      <td>449856</td>\n",
       "      <td>21257</td>\n",
       "      <td>271</td>\n",
       "      <td>1.3</td>\n",
       "      <td>Asia</td>\n",
       "    </tr>\n",
       "    <tr>\n",
       "      <th>2</th>\n",
       "      <td>Brazil</td>\n",
       "      <td>21532558</td>\n",
       "      <td>599810</td>\n",
       "      <td>21516967</td>\n",
       "      <td>599359</td>\n",
       "      <td>15591</td>\n",
       "      <td>451</td>\n",
       "      <td>2.8</td>\n",
       "      <td>South America</td>\n",
       "    </tr>\n",
       "    <tr>\n",
       "      <th>3</th>\n",
       "      <td>United Kingdom</td>\n",
       "      <td>8084322</td>\n",
       "      <td>137818</td>\n",
       "      <td>8044424</td>\n",
       "      <td>137694</td>\n",
       "      <td>39898</td>\n",
       "      <td>124</td>\n",
       "      <td>1.7</td>\n",
       "      <td>Europe</td>\n",
       "    </tr>\n",
       "    <tr>\n",
       "      <th>4</th>\n",
       "      <td>Russia</td>\n",
       "      <td>7575825</td>\n",
       "      <td>209752</td>\n",
       "      <td>7548944</td>\n",
       "      <td>208842</td>\n",
       "      <td>26881</td>\n",
       "      <td>910</td>\n",
       "      <td>2.8</td>\n",
       "      <td>Europe</td>\n",
       "    </tr>\n",
       "  </tbody>\n",
       "</table>\n",
       "</div>"
      ],
      "text/plain": [
       "   Country/Region     Cases  Deaths    PCases  PDeaths  Cases (+)  Deaths (+)  \\\n",
       "0              US  44158910  710173  44058827   707781     100083        2392   \n",
       "1           India  33915569  450127  33894312   449856      21257         271   \n",
       "2          Brazil  21532558  599810  21516967   599359      15591         451   \n",
       "3  United Kingdom   8084322  137818   8044424   137694      39898         124   \n",
       "4          Russia   7575825  209752   7548944   208842      26881         910   \n",
       "\n",
       "   Fatality Rate      Continent  \n",
       "0            1.6  North America  \n",
       "1            1.3           Asia  \n",
       "2            2.8  South America  \n",
       "3            1.7         Europe  \n",
       "4            2.8         Europe  "
      ]
     },
     "execution_count": 15,
     "metadata": {},
     "output_type": "execute_result"
    }
   ],
   "source": [
    "#hide\n",
    "df_table = (pd.DataFrame(dict(Cases=dfc_cases, Deaths=dfc_deaths, PCases=dfp_cases, PDeaths=dfp_deaths))\n",
    "             .sort_values(by=['Cases', 'Deaths'], ascending=[False, False])\n",
    "             .reset_index())\n",
    "df_table.rename(columns={'index': 'Country/Region'}, inplace=True)\n",
    "for c in 'Cases, Deaths'.split(', '):\n",
    "    df_table[f'{c} (+)'] = (df_table[c] - df_table[f'P{c}']).clip(0)  # DATA BUG\n",
    "df_table['Fatality Rate'] = (100 * df_table['Deaths'] / df_table['Cases']).round(1)\n",
    "df_table['Continent'] = df_table['Country/Region'].map(mapping['map.continent'])\n",
    "df_table.head(5)"
   ]
  },
  {
   "cell_type": "code",
   "execution_count": 16,
   "id": "fewer-occasion",
   "metadata": {
    "execution": {
     "iopub.execute_input": "2021-10-09T00:22:38.198423Z",
     "iopub.status.busy": "2021-10-09T00:22:38.197826Z",
     "iopub.status.idle": "2021-10-09T00:22:38.200215Z",
     "shell.execute_reply": "2021-10-09T00:22:38.199776Z"
    },
    "papermill": {
     "duration": 0.038902,
     "end_time": "2021-10-09T00:22:38.200313",
     "exception": false,
     "start_time": "2021-10-09T00:22:38.161411",
     "status": "completed"
    },
    "tags": []
   },
   "outputs": [],
   "source": [
    "#hide\n",
    "#delete problematic countries from table\n",
    "df_table = df_table[~df_table['Country/Region'].isin(['Cape Verde', 'Cruise Ship', 'Kosovo'])]"
   ]
  },
  {
   "cell_type": "code",
   "execution_count": 17,
   "id": "related-center",
   "metadata": {
    "execution": {
     "iopub.execute_input": "2021-10-09T00:22:38.279024Z",
     "iopub.status.busy": "2021-10-09T00:22:38.278469Z",
     "iopub.status.idle": "2021-10-09T00:22:38.281020Z",
     "shell.execute_reply": "2021-10-09T00:22:38.280604Z"
    },
    "papermill": {
     "duration": 0.050074,
     "end_time": "2021-10-09T00:22:38.281119",
     "exception": false,
     "start_time": "2021-10-09T00:22:38.231045",
     "status": "completed"
    },
    "tags": []
   },
   "outputs": [],
   "source": [
    "#hide\n",
    "metrics = [df_table.columns[index] for index in [1,2,5,6]]\n",
    "# s_china = df_table[df_table['Country/Region'].eq('China')][metrics].sum().add_prefix('China ')\n",
    "s_us = df_table[df_table['Country/Region'].eq('US')][metrics].sum().add_prefix('US ')\n",
    "s_eu = df_table[df_table['Continent'].eq('Europe')][metrics].sum().add_prefix('EU ')\n",
    "s_ind = df_table[df_table['Country/Region'].eq('India')][metrics].sum().add_prefix('India ')\n",
    "summary = {'updated': pd.to_datetime(dt_today), 'since': pd.to_datetime(dt_yday)}\n",
    "summary = {'updated': pd.to_datetime(dt_today), 'since': pd.to_datetime(dt_yday)}\n",
    "summary = {**summary, **df_table[metrics].sum(), **s_ind, **s_us, **s_eu}"
   ]
  },
  {
   "cell_type": "code",
   "execution_count": 18,
   "id": "engaging-syndrome",
   "metadata": {
    "execution": {
     "iopub.execute_input": "2021-10-09T00:22:38.349285Z",
     "iopub.status.busy": "2021-10-09T00:22:38.348769Z",
     "iopub.status.idle": "2021-10-09T00:22:38.362578Z",
     "shell.execute_reply": "2021-10-09T00:22:38.363156Z"
    },
    "papermill": {
     "duration": 0.050658,
     "end_time": "2021-10-09T00:22:38.363296",
     "exception": false,
     "start_time": "2021-10-09T00:22:38.312638",
     "status": "completed"
    },
    "tags": []
   },
   "outputs": [],
   "source": [
    "#hide\n",
    "dft_ct_new_cases = dft_cases.groupby(COL_REGION)[dt_cols].sum().diff(axis=1).fillna(0).astype(int)"
   ]
  },
  {
   "cell_type": "code",
   "execution_count": 19,
   "id": "neutral-assignment",
   "metadata": {
    "execution": {
     "iopub.execute_input": "2021-10-09T00:22:38.430897Z",
     "iopub.status.busy": "2021-10-09T00:22:38.430362Z",
     "iopub.status.idle": "2021-10-09T00:22:38.432410Z",
     "shell.execute_reply": "2021-10-09T00:22:38.432903Z"
    },
    "papermill": {
     "duration": 0.037853,
     "end_time": "2021-10-09T00:22:38.433012",
     "exception": false,
     "start_time": "2021-10-09T00:22:38.395159",
     "status": "completed"
    },
    "tags": []
   },
   "outputs": [],
   "source": [
    "#hide\n",
    "everydaycases = dft_ct_new_cases.cumsum(axis=1)"
   ]
  },
  {
   "cell_type": "code",
   "execution_count": 20,
   "id": "parliamentary-calgary",
   "metadata": {
    "execution": {
     "iopub.execute_input": "2021-10-09T00:22:38.499371Z",
     "iopub.status.busy": "2021-10-09T00:22:38.498854Z",
     "iopub.status.idle": "2021-10-09T00:22:39.032974Z",
     "shell.execute_reply": "2021-10-09T00:22:39.032508Z"
    },
    "papermill": {
     "duration": 0.568649,
     "end_time": "2021-10-09T00:22:39.033096",
     "exception": false,
     "start_time": "2021-10-09T00:22:38.464447",
     "status": "completed"
    },
    "tags": []
   },
   "outputs": [],
   "source": [
    "#hide\n",
    "import pandas as pd\n",
    "import matplotlib.pyplot as plt\n",
    "import matplotlib.ticker as ticker\n",
    "import matplotlib.animation as animation\n",
    "from IPython.display import HTML"
   ]
  },
  {
   "cell_type": "code",
   "execution_count": 21,
   "id": "lasting-extraction",
   "metadata": {
    "execution": {
     "iopub.execute_input": "2021-10-09T00:22:39.102778Z",
     "iopub.status.busy": "2021-10-09T00:22:39.102234Z",
     "iopub.status.idle": "2021-10-09T00:22:39.108007Z",
     "shell.execute_reply": "2021-10-09T00:22:39.107569Z"
    },
    "papermill": {
     "duration": 0.041649,
     "end_time": "2021-10-09T00:22:39.108105",
     "exception": false,
     "start_time": "2021-10-09T00:22:39.066456",
     "status": "completed"
    },
    "tags": []
   },
   "outputs": [],
   "source": [
    "#hide\n",
    "t = everydaycases.stack()"
   ]
  },
  {
   "cell_type": "code",
   "execution_count": 22,
   "id": "premier-sleeve",
   "metadata": {
    "execution": {
     "iopub.execute_input": "2021-10-09T00:22:39.174357Z",
     "iopub.status.busy": "2021-10-09T00:22:39.173765Z",
     "iopub.status.idle": "2021-10-09T00:22:39.182849Z",
     "shell.execute_reply": "2021-10-09T00:22:39.182403Z"
    },
    "papermill": {
     "duration": 0.04393,
     "end_time": "2021-10-09T00:22:39.182949",
     "exception": false,
     "start_time": "2021-10-09T00:22:39.139019",
     "status": "completed"
    },
    "tags": []
   },
   "outputs": [],
   "source": [
    "#hide\n",
    "g = t.reset_index(['Country/Region'])"
   ]
  },
  {
   "cell_type": "code",
   "execution_count": 23,
   "id": "distributed-pittsburgh",
   "metadata": {
    "execution": {
     "iopub.execute_input": "2021-10-09T00:22:39.247781Z",
     "iopub.status.busy": "2021-10-09T00:22:39.247252Z",
     "iopub.status.idle": "2021-10-09T00:22:39.249190Z",
     "shell.execute_reply": "2021-10-09T00:22:39.249678Z"
    },
    "papermill": {
     "duration": 0.03619,
     "end_time": "2021-10-09T00:22:39.249786",
     "exception": false,
     "start_time": "2021-10-09T00:22:39.213596",
     "status": "completed"
    },
    "tags": []
   },
   "outputs": [],
   "source": [
    "#hide\n",
    "g.index.name = 'date'"
   ]
  },
  {
   "cell_type": "code",
   "execution_count": 24,
   "id": "naked-donor",
   "metadata": {
    "execution": {
     "iopub.execute_input": "2021-10-09T00:22:39.314822Z",
     "iopub.status.busy": "2021-10-09T00:22:39.314270Z",
     "iopub.status.idle": "2021-10-09T00:22:39.316481Z",
     "shell.execute_reply": "2021-10-09T00:22:39.317041Z"
    },
    "papermill": {
     "duration": 0.036513,
     "end_time": "2021-10-09T00:22:39.317151",
     "exception": false,
     "start_time": "2021-10-09T00:22:39.280638",
     "status": "completed"
    },
    "tags": []
   },
   "outputs": [],
   "source": [
    "# #hide\n",
    "# g = g.reset_index(['date'])"
   ]
  },
  {
   "cell_type": "code",
   "execution_count": 25,
   "id": "incomplete-mustang",
   "metadata": {
    "execution": {
     "iopub.execute_input": "2021-10-09T00:22:39.383217Z",
     "iopub.status.busy": "2021-10-09T00:22:39.382619Z",
     "iopub.status.idle": "2021-10-09T00:22:39.385006Z",
     "shell.execute_reply": "2021-10-09T00:22:39.384549Z"
    },
    "papermill": {
     "duration": 0.037137,
     "end_time": "2021-10-09T00:22:39.385106",
     "exception": false,
     "start_time": "2021-10-09T00:22:39.347969",
     "status": "completed"
    },
    "tags": []
   },
   "outputs": [],
   "source": [
    "#hide\n",
    "# g.head()"
   ]
  },
  {
   "cell_type": "code",
   "execution_count": 26,
   "id": "specific-kruger",
   "metadata": {
    "execution": {
     "iopub.execute_input": "2021-10-09T00:22:39.451728Z",
     "iopub.status.busy": "2021-10-09T00:22:39.451212Z",
     "iopub.status.idle": "2021-10-09T00:22:39.454269Z",
     "shell.execute_reply": "2021-10-09T00:22:39.453832Z"
    },
    "papermill": {
     "duration": 0.036863,
     "end_time": "2021-10-09T00:22:39.454366",
     "exception": false,
     "start_time": "2021-10-09T00:22:39.417503",
     "status": "completed"
    },
    "tags": []
   },
   "outputs": [],
   "source": [
    "#hide\n",
    "# g.columns = ['date','country','cases']"
   ]
  },
  {
   "cell_type": "code",
   "execution_count": 27,
   "id": "tender-conversion",
   "metadata": {
    "execution": {
     "iopub.execute_input": "2021-10-09T00:22:39.524457Z",
     "iopub.status.busy": "2021-10-09T00:22:39.523577Z",
     "iopub.status.idle": "2021-10-09T00:22:39.526317Z",
     "shell.execute_reply": "2021-10-09T00:22:39.525593Z"
    },
    "papermill": {
     "duration": 0.041424,
     "end_time": "2021-10-09T00:22:39.526432",
     "exception": false,
     "start_time": "2021-10-09T00:22:39.485008",
     "status": "completed"
    },
    "tags": []
   },
   "outputs": [],
   "source": [
    "#hide\n",
    "# g['continent'] = g.country"
   ]
  },
  {
   "cell_type": "code",
   "execution_count": 28,
   "id": "substantial-wilderness",
   "metadata": {
    "execution": {
     "iopub.execute_input": "2021-10-09T00:22:39.599400Z",
     "iopub.status.busy": "2021-10-09T00:22:39.598706Z",
     "iopub.status.idle": "2021-10-09T00:22:39.600683Z",
     "shell.execute_reply": "2021-10-09T00:22:39.601143Z"
    },
    "papermill": {
     "duration": 0.038936,
     "end_time": "2021-10-09T00:22:39.601302",
     "exception": false,
     "start_time": "2021-10-09T00:22:39.562366",
     "status": "completed"
    },
    "tags": []
   },
   "outputs": [],
   "source": [
    "#hide\n",
    "# cols = list(g.columns.values)"
   ]
  },
  {
   "cell_type": "code",
   "execution_count": 29,
   "id": "solved-farming",
   "metadata": {
    "execution": {
     "iopub.execute_input": "2021-10-09T00:22:39.671518Z",
     "iopub.status.busy": "2021-10-09T00:22:39.670907Z",
     "iopub.status.idle": "2021-10-09T00:22:39.672782Z",
     "shell.execute_reply": "2021-10-09T00:22:39.673244Z"
    },
    "papermill": {
     "duration": 0.037218,
     "end_time": "2021-10-09T00:22:39.673359",
     "exception": false,
     "start_time": "2021-10-09T00:22:39.636141",
     "status": "completed"
    },
    "tags": []
   },
   "outputs": [],
   "source": [
    "#hide\n",
    "# cols.insert(0, cols.pop())"
   ]
  },
  {
   "cell_type": "code",
   "execution_count": 30,
   "id": "executed-adoption",
   "metadata": {
    "execution": {
     "iopub.execute_input": "2021-10-09T00:22:39.746166Z",
     "iopub.status.busy": "2021-10-09T00:22:39.745563Z",
     "iopub.status.idle": "2021-10-09T00:22:39.747426Z",
     "shell.execute_reply": "2021-10-09T00:22:39.747937Z"
    },
    "papermill": {
     "duration": 0.037242,
     "end_time": "2021-10-09T00:22:39.748049",
     "exception": false,
     "start_time": "2021-10-09T00:22:39.710807",
     "status": "completed"
    },
    "tags": []
   },
   "outputs": [],
   "source": [
    "#hide\n",
    "# g = g[cols]"
   ]
  },
  {
   "cell_type": "code",
   "execution_count": 31,
   "id": "subject-dublin",
   "metadata": {
    "execution": {
     "iopub.execute_input": "2021-10-09T00:22:39.818371Z",
     "iopub.status.busy": "2021-10-09T00:22:39.817847Z",
     "iopub.status.idle": "2021-10-09T00:22:39.819808Z",
     "shell.execute_reply": "2021-10-09T00:22:39.820283Z"
    },
    "papermill": {
     "duration": 0.039961,
     "end_time": "2021-10-09T00:22:39.820444",
     "exception": false,
     "start_time": "2021-10-09T00:22:39.780483",
     "status": "completed"
    },
    "tags": []
   },
   "outputs": [],
   "source": [
    "#hide\n",
    "# g['continent'] = g['continent'].map(mapping['map.continent'])"
   ]
  },
  {
   "cell_type": "code",
   "execution_count": 32,
   "id": "freelance-scout",
   "metadata": {
    "execution": {
     "iopub.execute_input": "2021-10-09T00:22:39.886064Z",
     "iopub.status.busy": "2021-10-09T00:22:39.885546Z",
     "iopub.status.idle": "2021-10-09T00:22:39.887652Z",
     "shell.execute_reply": "2021-10-09T00:22:39.888144Z"
    },
    "papermill": {
     "duration": 0.036936,
     "end_time": "2021-10-09T00:22:39.888254",
     "exception": false,
     "start_time": "2021-10-09T00:22:39.851318",
     "status": "completed"
    },
    "tags": []
   },
   "outputs": [],
   "source": [
    "#hide\n",
    "# g.head()"
   ]
  },
  {
   "cell_type": "code",
   "execution_count": 33,
   "id": "limited-engine",
   "metadata": {
    "execution": {
     "iopub.execute_input": "2021-10-09T00:22:39.955927Z",
     "iopub.status.busy": "2021-10-09T00:22:39.955308Z",
     "iopub.status.idle": "2021-10-09T00:22:39.957350Z",
     "shell.execute_reply": "2021-10-09T00:22:39.957844Z"
    },
    "papermill": {
     "duration": 0.037482,
     "end_time": "2021-10-09T00:22:39.957955",
     "exception": false,
     "start_time": "2021-10-09T00:22:39.920473",
     "status": "completed"
    },
    "tags": []
   },
   "outputs": [],
   "source": [
    "# hide\n",
    "# g['date'] = g['date'].astype('datetime64[ns]')"
   ]
  },
  {
   "cell_type": "code",
   "execution_count": 34,
   "id": "sophisticated-supervisor",
   "metadata": {
    "execution": {
     "iopub.execute_input": "2021-10-09T00:22:40.022308Z",
     "iopub.status.busy": "2021-10-09T00:22:40.021793Z",
     "iopub.status.idle": "2021-10-09T00:22:40.023740Z",
     "shell.execute_reply": "2021-10-09T00:22:40.024502Z"
    },
    "papermill": {
     "duration": 0.035966,
     "end_time": "2021-10-09T00:22:40.024638",
     "exception": false,
     "start_time": "2021-10-09T00:22:39.988672",
     "status": "completed"
    },
    "tags": []
   },
   "outputs": [],
   "source": [
    "#hide\n",
    "# g['date'] = g.date.dt.dayofyear"
   ]
  },
  {
   "cell_type": "code",
   "execution_count": 35,
   "id": "inside-dubai",
   "metadata": {
    "execution": {
     "iopub.execute_input": "2021-10-09T00:22:40.092866Z",
     "iopub.status.busy": "2021-10-09T00:22:40.092356Z",
     "iopub.status.idle": "2021-10-09T00:22:40.094208Z",
     "shell.execute_reply": "2021-10-09T00:22:40.094864Z"
    },
    "papermill": {
     "duration": 0.037239,
     "end_time": "2021-10-09T00:22:40.095011",
     "exception": false,
     "start_time": "2021-10-09T00:22:40.057772",
     "status": "completed"
    },
    "tags": []
   },
   "outputs": [],
   "source": [
    "#hide\n",
    "# g = g.rename(columns= {'continent':'group','country':'name','cases':'value'})"
   ]
  },
  {
   "cell_type": "code",
   "execution_count": 36,
   "id": "fleet-motorcycle",
   "metadata": {
    "execution": {
     "iopub.execute_input": "2021-10-09T00:22:40.159846Z",
     "iopub.status.busy": "2021-10-09T00:22:40.159086Z",
     "iopub.status.idle": "2021-10-09T00:22:40.160895Z",
     "shell.execute_reply": "2021-10-09T00:22:40.161335Z"
    },
    "papermill": {
     "duration": 0.035713,
     "end_time": "2021-10-09T00:22:40.161443",
     "exception": false,
     "start_time": "2021-10-09T00:22:40.125730",
     "status": "completed"
    },
    "tags": []
   },
   "outputs": [],
   "source": [
    "#hide\n",
    "# cols = ['name','group','day','value']"
   ]
  },
  {
   "cell_type": "code",
   "execution_count": 37,
   "id": "continued-sleeping",
   "metadata": {
    "execution": {
     "iopub.execute_input": "2021-10-09T00:22:40.228513Z",
     "iopub.status.busy": "2021-10-09T00:22:40.227990Z",
     "iopub.status.idle": "2021-10-09T00:22:40.230667Z",
     "shell.execute_reply": "2021-10-09T00:22:40.230219Z"
    },
    "papermill": {
     "duration": 0.03702,
     "end_time": "2021-10-09T00:22:40.230768",
     "exception": false,
     "start_time": "2021-10-09T00:22:40.193748",
     "status": "completed"
    },
    "tags": []
   },
   "outputs": [],
   "source": [
    "#hide\n",
    "# g.rename(columns= {'date':'day'},inplace = True)"
   ]
  },
  {
   "cell_type": "code",
   "execution_count": 38,
   "id": "major-fight",
   "metadata": {
    "execution": {
     "iopub.execute_input": "2021-10-09T00:22:40.295755Z",
     "iopub.status.busy": "2021-10-09T00:22:40.295238Z",
     "iopub.status.idle": "2021-10-09T00:22:40.297830Z",
     "shell.execute_reply": "2021-10-09T00:22:40.297385Z"
    },
    "papermill": {
     "duration": 0.036423,
     "end_time": "2021-10-09T00:22:40.297927",
     "exception": false,
     "start_time": "2021-10-09T00:22:40.261504",
     "status": "completed"
    },
    "tags": []
   },
   "outputs": [],
   "source": [
    "#hide\n",
    "# g = g[cols]"
   ]
  },
  {
   "cell_type": "code",
   "execution_count": 39,
   "id": "structured-mobile",
   "metadata": {
    "execution": {
     "iopub.execute_input": "2021-10-09T00:22:40.363267Z",
     "iopub.status.busy": "2021-10-09T00:22:40.362749Z",
     "iopub.status.idle": "2021-10-09T00:22:40.364267Z",
     "shell.execute_reply": "2021-10-09T00:22:40.364712Z"
    },
    "papermill": {
     "duration": 0.036463,
     "end_time": "2021-10-09T00:22:40.364820",
     "exception": false,
     "start_time": "2021-10-09T00:22:40.328357",
     "status": "completed"
    },
    "tags": []
   },
   "outputs": [],
   "source": [
    "# #hide\n",
    "# g = g[g.group.notna()]"
   ]
  },
  {
   "cell_type": "code",
   "execution_count": 40,
   "id": "determined-closing",
   "metadata": {
    "execution": {
     "iopub.execute_input": "2021-10-09T00:22:40.431047Z",
     "iopub.status.busy": "2021-10-09T00:22:40.430353Z",
     "iopub.status.idle": "2021-10-09T00:22:40.432188Z",
     "shell.execute_reply": "2021-10-09T00:22:40.432639Z"
    },
    "papermill": {
     "duration": 0.035874,
     "end_time": "2021-10-09T00:22:40.432749",
     "exception": false,
     "start_time": "2021-10-09T00:22:40.396875",
     "status": "completed"
    },
    "tags": []
   },
   "outputs": [],
   "source": [
    "# #hide\n",
    "# colors = dict(zip(\n",
    "#     [\"Oceania\", \"Europe\", \"Asia\", \"South America\", \"Middle East\", \"North America\", \"Africa\"],\n",
    "#     [\"#adb0ff\", \"#ffb3ff\", \"#90d595\", \"#e48381\", \"#aafbff\", \"#f7bb5f\", \"#eafb50\"]\n",
    "# ))\n",
    "# group_lk = g.set_index('name')['group'].to_dict()"
   ]
  },
  {
   "cell_type": "code",
   "execution_count": null,
   "id": "gross-drinking",
   "metadata": {
    "papermill": {
     "duration": 0.031693,
     "end_time": "2021-10-09T00:22:40.494985",
     "exception": false,
     "start_time": "2021-10-09T00:22:40.463292",
     "status": "completed"
    },
    "tags": []
   },
   "outputs": [],
   "source": []
  },
  {
   "cell_type": "code",
   "execution_count": 41,
   "id": "subject-macintosh",
   "metadata": {
    "execution": {
     "iopub.execute_input": "2021-10-09T00:22:40.567444Z",
     "iopub.status.busy": "2021-10-09T00:22:40.566918Z",
     "iopub.status.idle": "2021-10-09T00:22:40.569305Z",
     "shell.execute_reply": "2021-10-09T00:22:40.568864Z"
    },
    "papermill": {
     "duration": 0.042035,
     "end_time": "2021-10-09T00:22:40.569404",
     "exception": false,
     "start_time": "2021-10-09T00:22:40.527369",
     "status": "completed"
    },
    "tags": []
   },
   "outputs": [],
   "source": [
    "# #hide\n",
    "# fig, ax = plt.subplots(figsize=(15, 8))\n",
    "\n",
    "# def draw_barchart(current_day):\n",
    "#     dff = g[g['day'].eq(current_day)].sort_values(by='value', ascending=True).tail(10)\n",
    "#     ax.clear()\n",
    "#     ax.barh(dff['name'], dff['value'], color=[colors[group_lk[x]] for x in dff['name']])\n",
    "#     dx = dff['value'].max() / 200\n",
    "    \n",
    "#     for i, (value, name) in enumerate(zip(dff['value'], dff['name'])):\n",
    "#         ax.text(value-dx, i,     name,           size=14, weight=600, ha='right', va='bottom')\n",
    "#         ax.text(value-dx, i-.25, group_lk[name], size=10, color='#444444', ha='right', va='baseline')\n",
    "#         ax.text(value+dx, i,     f'{value:,.0f}',  size=14, ha='left',  va='center')\n",
    "#     ax.text(1, 0.4, current_day, transform=ax.transAxes, color='#777777', size=46, ha='right', weight=800)\n",
    "#     ax.text(0, 1.06, 'Population (thousands)', transform=ax.transAxes, size=12, color='#777777')\n",
    "#     ax.xaxis.set_major_formatter(ticker.StrMethodFormatter('{x:,.0f}'))\n",
    "#     ax.xaxis.set_ticks_position('top')\n",
    "#     ax.tick_params(axis='x', colors='#777777', labelsize=12)\n",
    "#     ax.set_yticks([])\n",
    "#     ax.margins(0, 0.01)\n",
    "#     ax.grid(which='major', axis='x', linestyle='-')\n",
    "#     ax.set_axisbelow(True)\n",
    "    \n",
    "#     ax.text(0, 1.15, 'Coronavirus',\n",
    "#             transform=ax.transAxes, size=24, weight=600, ha='left', va='top')\n",
    "# #     ax.text(1, 0, 'by @pratapvardhan; credit @jburnmurdoch', transform=ax.transAxes, color='#777777', ha='right',\n",
    "# #             bbox=dict(facecolor='white', alpha=0.8, edgecolor='white'))\n",
    "#     plt.box(False)"
   ]
  },
  {
   "cell_type": "code",
   "execution_count": 42,
   "id": "sexual-wages",
   "metadata": {
    "execution": {
     "iopub.execute_input": "2021-10-09T00:22:40.637370Z",
     "iopub.status.busy": "2021-10-09T00:22:40.636853Z",
     "iopub.status.idle": "2021-10-09T00:22:40.638750Z",
     "shell.execute_reply": "2021-10-09T00:22:40.639176Z"
    },
    "papermill": {
     "duration": 0.037074,
     "end_time": "2021-10-09T00:22:40.639288",
     "exception": false,
     "start_time": "2021-10-09T00:22:40.602214",
     "status": "completed"
    },
    "tags": []
   },
   "outputs": [],
   "source": [
    "# #hide_input\n",
    "# fig, ax = plt.subplots(figsize=(15, 8))\n",
    "# animator = animation.FuncAnimation(fig, draw_barchart, frames=range(g.day.values.min(), g.day.values.max()))\n",
    "# HTML(animator.to_jshtml())\n",
    "# # or use animator.to_html5_video() or animator.save() "
   ]
  },
  {
   "cell_type": "code",
   "execution_count": null,
   "id": "australian-container",
   "metadata": {
    "papermill": {
     "duration": 0.032942,
     "end_time": "2021-10-09T00:22:40.706225",
     "exception": false,
     "start_time": "2021-10-09T00:22:40.673283",
     "status": "completed"
    },
    "tags": []
   },
   "outputs": [],
   "source": []
  },
  {
   "cell_type": "code",
   "execution_count": null,
   "id": "mediterranean-pontiac",
   "metadata": {
    "papermill": {
     "duration": 0.031343,
     "end_time": "2021-10-09T00:22:40.770359",
     "exception": false,
     "start_time": "2021-10-09T00:22:40.739016",
     "status": "completed"
    },
    "tags": []
   },
   "outputs": [],
   "source": []
  },
  {
   "cell_type": "code",
   "execution_count": null,
   "id": "aging-legislature",
   "metadata": {
    "papermill": {
     "duration": 0.031387,
     "end_time": "2021-10-09T00:22:40.834728",
     "exception": false,
     "start_time": "2021-10-09T00:22:40.803341",
     "status": "completed"
    },
    "tags": []
   },
   "outputs": [],
   "source": []
  }
 ],
 "metadata": {
  "kernelspec": {
   "display_name": "Python 3",
   "language": "python",
   "name": "python3"
  },
  "language_info": {
   "codemirror_mode": {
    "name": "ipython",
    "version": 3
   },
   "file_extension": ".py",
   "mimetype": "text/x-python",
   "name": "python",
   "nbconvert_exporter": "python",
   "pygments_lexer": "ipython3",
   "version": "3.6.15"
  },
  "papermill": {
   "duration": 6.323356,
   "end_time": "2021-10-09T00:22:41.173766",
   "environment_variables": {},
   "exception": null,
   "input_path": "2020-03-21-covid19exp.ipynb",
   "output_path": "2020-03-21-covid19exp.ipynb",
   "parameters": {},
   "start_time": "2021-10-09T00:22:34.850410",
   "version": "2.0.0"
  }
 },
 "nbformat": 4,
 "nbformat_minor": 5
}