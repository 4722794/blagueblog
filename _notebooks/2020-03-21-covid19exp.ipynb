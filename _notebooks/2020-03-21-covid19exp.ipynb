{
 "cells": [
  {
   "cell_type": "markdown",
   "id": "muslim-click",
   "metadata": {
    "papermill": {
     "duration": 0.040882,
     "end_time": "2021-05-10T12:08:02.872527",
     "exception": false,
     "start_time": "2021-05-10T12:08:02.831645",
     "status": "completed"
    },
    "tags": []
   },
   "source": [
    "# COVID-19 Case Race\n",
    "> A race chart to see rising cases around the world\n",
    "\n",
    "- author: Hargun Oberoi\n",
    "- image: images/covid-overview.png\n",
    "- hide: false\n",
    "- badges: false"
   ]
  },
  {
   "cell_type": "code",
   "execution_count": 1,
   "id": "proof-material",
   "metadata": {
    "execution": {
     "iopub.execute_input": "2021-05-10T12:08:02.958011Z",
     "iopub.status.busy": "2021-05-10T12:08:02.957092Z",
     "iopub.status.idle": "2021-05-10T12:08:03.326918Z",
     "shell.execute_reply": "2021-05-10T12:08:03.326393Z"
    },
    "papermill": {
     "duration": 0.417093,
     "end_time": "2021-05-10T12:08:03.327069",
     "exception": false,
     "start_time": "2021-05-10T12:08:02.909976",
     "status": "completed"
    },
    "tags": []
   },
   "outputs": [],
   "source": [
    "#hide\n",
    "import numpy as np\n",
    "import pandas as pd\n",
    "from jinja2 import Template\n",
    "from IPython.display import HTML"
   ]
  },
  {
   "cell_type": "code",
   "execution_count": 2,
   "id": "developed-terminology",
   "metadata": {
    "execution": {
     "iopub.execute_input": "2021-05-10T12:08:03.407273Z",
     "iopub.status.busy": "2021-05-10T12:08:03.406656Z",
     "iopub.status.idle": "2021-05-10T12:08:03.408963Z",
     "shell.execute_reply": "2021-05-10T12:08:03.409509Z"
    },
    "papermill": {
     "duration": 0.045665,
     "end_time": "2021-05-10T12:08:03.409651",
     "exception": false,
     "start_time": "2021-05-10T12:08:03.363986",
     "status": "completed"
    },
    "tags": []
   },
   "outputs": [],
   "source": [
    "#hide\n",
    "\n",
    "# FETCH\n",
    "base_url = 'https://raw.githubusercontent.com/pratapvardhan/notebooks/master/covid19/'\n",
    "paths = {\n",
    "    'mapping': base_url + 'mapping_countries.csv',\n",
    "    'overview': base_url + 'overview.tpl'\n",
    "}"
   ]
  },
  {
   "cell_type": "code",
   "execution_count": 3,
   "id": "dynamic-saver",
   "metadata": {
    "execution": {
     "iopub.execute_input": "2021-05-10T12:08:03.500404Z",
     "iopub.status.busy": "2021-05-10T12:08:03.499662Z",
     "iopub.status.idle": "2021-05-10T12:08:03.503166Z",
     "shell.execute_reply": "2021-05-10T12:08:03.502515Z"
    },
    "papermill": {
     "duration": 0.057101,
     "end_time": "2021-05-10T12:08:03.503298",
     "exception": false,
     "start_time": "2021-05-10T12:08:03.446197",
     "status": "completed"
    },
    "tags": []
   },
   "outputs": [
    {
     "data": {
      "text/plain": [
       "'https://raw.githubusercontent.com/pratapvardhan/notebooks/master/covid19/mapping_countries.csv'"
      ]
     },
     "execution_count": 3,
     "metadata": {},
     "output_type": "execute_result"
    }
   ],
   "source": [
    "#hide\n",
    "paths['mapping']"
   ]
  },
  {
   "cell_type": "code",
   "execution_count": 4,
   "id": "urban-software",
   "metadata": {
    "execution": {
     "iopub.execute_input": "2021-05-10T12:08:03.584939Z",
     "iopub.status.busy": "2021-05-10T12:08:03.584196Z",
     "iopub.status.idle": "2021-05-10T12:08:03.586400Z",
     "shell.execute_reply": "2021-05-10T12:08:03.586920Z"
    },
    "papermill": {
     "duration": 0.045892,
     "end_time": "2021-05-10T12:08:03.587054",
     "exception": false,
     "start_time": "2021-05-10T12:08:03.541162",
     "status": "completed"
    },
    "tags": []
   },
   "outputs": [],
   "source": [
    "#hide\n",
    "def get_mappings(url):\n",
    "    df = pd.read_csv(url)\n",
    "    return {\n",
    "        'df': df,\n",
    "        'replace.country': dict(df.dropna(subset=['Name']).set_index('Country')['Name']),\n",
    "        'map.continent': dict(df.set_index('Name')['Continent'])\n",
    "    }"
   ]
  },
  {
   "cell_type": "code",
   "execution_count": 5,
   "id": "intimate-machinery",
   "metadata": {
    "execution": {
     "iopub.execute_input": "2021-05-10T12:08:03.667646Z",
     "iopub.status.busy": "2021-05-10T12:08:03.666844Z",
     "iopub.status.idle": "2021-05-10T12:08:03.707789Z",
     "shell.execute_reply": "2021-05-10T12:08:03.708444Z"
    },
    "papermill": {
     "duration": 0.083855,
     "end_time": "2021-05-10T12:08:03.708600",
     "exception": false,
     "start_time": "2021-05-10T12:08:03.624745",
     "status": "completed"
    },
    "tags": []
   },
   "outputs": [],
   "source": [
    "#hide\n",
    "mapping = get_mappings(paths['mapping'])"
   ]
  },
  {
   "cell_type": "code",
   "execution_count": 6,
   "id": "certified-tactics",
   "metadata": {
    "execution": {
     "iopub.execute_input": "2021-05-10T12:08:03.788363Z",
     "iopub.status.busy": "2021-05-10T12:08:03.787681Z",
     "iopub.status.idle": "2021-05-10T12:08:03.790254Z",
     "shell.execute_reply": "2021-05-10T12:08:03.789668Z"
    },
    "papermill": {
     "duration": 0.04514,
     "end_time": "2021-05-10T12:08:03.790452",
     "exception": false,
     "start_time": "2021-05-10T12:08:03.745312",
     "status": "completed"
    },
    "tags": []
   },
   "outputs": [],
   "source": [
    "#hide\n",
    "def get_template(path):\n",
    "    from urllib.parse import urlparse\n",
    "    if bool(urlparse(path).netloc):\n",
    "        from urllib.request import urlopen\n",
    "        return urlopen(path).read().decode('utf8')\n",
    "    return open(path).read()"
   ]
  },
  {
   "cell_type": "code",
   "execution_count": 7,
   "id": "realistic-blast",
   "metadata": {
    "execution": {
     "iopub.execute_input": "2021-05-10T12:08:03.869942Z",
     "iopub.status.busy": "2021-05-10T12:08:03.869331Z",
     "iopub.status.idle": "2021-05-10T12:08:03.871522Z",
     "shell.execute_reply": "2021-05-10T12:08:03.870989Z"
    },
    "papermill": {
     "duration": 0.044444,
     "end_time": "2021-05-10T12:08:03.871628",
     "exception": false,
     "start_time": "2021-05-10T12:08:03.827184",
     "status": "completed"
    },
    "tags": []
   },
   "outputs": [],
   "source": [
    "#hide\n",
    "def get_frame(name):\n",
    "    url = (\n",
    "        'https://raw.githubusercontent.com/CSSEGISandData/COVID-19/master/csse_covid_19_data/'\n",
    "        f'csse_covid_19_time_series/time_series_covid19_{name}_global.csv')\n",
    "    df = pd.read_csv(url)\n",
    "    # rename countries\n",
    "    df['Country/Region'] = df['Country/Region'].replace(mapping['replace.country'])\n",
    "    return df"
   ]
  },
  {
   "cell_type": "code",
   "execution_count": 8,
   "id": "affiliated-characterization",
   "metadata": {
    "execution": {
     "iopub.execute_input": "2021-05-10T12:08:03.952480Z",
     "iopub.status.busy": "2021-05-10T12:08:03.951906Z",
     "iopub.status.idle": "2021-05-10T12:08:03.954007Z",
     "shell.execute_reply": "2021-05-10T12:08:03.954729Z"
    },
    "papermill": {
     "duration": 0.046215,
     "end_time": "2021-05-10T12:08:03.954856",
     "exception": false,
     "start_time": "2021-05-10T12:08:03.908641",
     "status": "completed"
    },
    "tags": []
   },
   "outputs": [],
   "source": [
    "#hide\n",
    "def get_dates(df):\n",
    "    dt_cols = df.columns[~df.columns.isin(['Province/State', 'Country/Region', 'Lat', 'Long'])]\n",
    "    LAST_DATE_I = -1\n",
    "    # sometimes last column may be empty, then go backwards\n",
    "    for i in range(-1, -len(dt_cols), -1):\n",
    "        if not df[dt_cols[i]].fillna(0).eq(0).all():\n",
    "            LAST_DATE_I = i\n",
    "            break\n",
    "    return LAST_DATE_I, dt_cols"
   ]
  },
  {
   "cell_type": "code",
   "execution_count": 9,
   "id": "recent-optimization",
   "metadata": {
    "execution": {
     "iopub.execute_input": "2021-05-10T12:08:04.033184Z",
     "iopub.status.busy": "2021-05-10T12:08:04.032590Z",
     "iopub.status.idle": "2021-05-10T12:08:04.400985Z",
     "shell.execute_reply": "2021-05-10T12:08:04.401492Z"
    },
    "papermill": {
     "duration": 0.411065,
     "end_time": "2021-05-10T12:08:04.401649",
     "exception": false,
     "start_time": "2021-05-10T12:08:03.990584",
     "status": "completed"
    },
    "tags": []
   },
   "outputs": [],
   "source": [
    "#hide\n",
    "COL_REGION = 'Country/Region'\n",
    "# Confirmed, Recovered, Deaths\n",
    "df = get_frame('confirmed')\n",
    "# dft_: timeseries, dfc_: today country agg\n",
    "dft_cases = df\n",
    "dft_deaths = get_frame('deaths')\n",
    "dft_recovered = get_frame('recovered')\n",
    "LAST_DATE_I, dt_cols = get_dates(df)"
   ]
  },
  {
   "cell_type": "code",
   "execution_count": 10,
   "id": "absolute-copper",
   "metadata": {
    "execution": {
     "iopub.execute_input": "2021-05-10T12:08:04.483843Z",
     "iopub.status.busy": "2021-05-10T12:08:04.483218Z",
     "iopub.status.idle": "2021-05-10T12:08:04.485758Z",
     "shell.execute_reply": "2021-05-10T12:08:04.485197Z"
    },
    "papermill": {
     "duration": 0.04579,
     "end_time": "2021-05-10T12:08:04.485920",
     "exception": false,
     "start_time": "2021-05-10T12:08:04.440130",
     "status": "completed"
    },
    "tags": []
   },
   "outputs": [],
   "source": [
    "#hide\n",
    "LAST_DATE_I, dt_cols = get_dates(df)\n",
    "dt_today =dt_cols[LAST_DATE_I]\n",
    "# dt_5day = dt_cols[LAST_DATE_I - 5]\n",
    "dt_yday = dt_cols[LAST_DATE_I - 1]"
   ]
  },
  {
   "cell_type": "code",
   "execution_count": 11,
   "id": "restricted-sheriff",
   "metadata": {
    "execution": {
     "iopub.execute_input": "2021-05-10T12:08:04.570070Z",
     "iopub.status.busy": "2021-05-10T12:08:04.569465Z",
     "iopub.status.idle": "2021-05-10T12:08:04.579072Z",
     "shell.execute_reply": "2021-05-10T12:08:04.579731Z"
    },
    "papermill": {
     "duration": 0.054521,
     "end_time": "2021-05-10T12:08:04.579869",
     "exception": false,
     "start_time": "2021-05-10T12:08:04.525348",
     "status": "completed"
    },
    "tags": []
   },
   "outputs": [],
   "source": [
    "#hide\n",
    "dfc_cases = dft_cases.groupby(COL_REGION)[dt_today].sum()\n",
    "dfc_deaths = dft_deaths.groupby(COL_REGION)[dt_today].sum()\n",
    "# dfp_cases = dft_cases.groupby(COL_REGION)[dt_5day].sum()\n",
    "# dfp_deaths = dft_deaths.groupby(COL_REGION)[dt_5day].sum()\n",
    "dfp_cases = dft_cases.groupby(COL_REGION)[dt_yday].sum()\n",
    "dfp_deaths = dft_deaths.groupby(COL_REGION)[dt_yday].sum()"
   ]
  },
  {
   "cell_type": "code",
   "execution_count": 12,
   "id": "deluxe-hepatitis",
   "metadata": {
    "execution": {
     "iopub.execute_input": "2021-05-10T12:08:04.665600Z",
     "iopub.status.busy": "2021-05-10T12:08:04.664979Z",
     "iopub.status.idle": "2021-05-10T12:08:04.670212Z",
     "shell.execute_reply": "2021-05-10T12:08:04.669702Z"
    },
    "papermill": {
     "duration": 0.052987,
     "end_time": "2021-05-10T12:08:04.670333",
     "exception": false,
     "start_time": "2021-05-10T12:08:04.617346",
     "status": "completed"
    },
    "tags": []
   },
   "outputs": [],
   "source": [
    "#hide\n",
    "df_table = (pd.DataFrame(dict(Cases = dfc_cases, Deaths = dfc_deaths, PCases = dfp_cases, PDeaths = dfp_deaths))\n",
    "            .sort_values(by = ['Cases','Deaths'], ascending = [False, False])\n",
    "            .reset_index())"
   ]
  },
  {
   "cell_type": "code",
   "execution_count": 13,
   "id": "educational-chancellor",
   "metadata": {
    "execution": {
     "iopub.execute_input": "2021-05-10T12:08:04.764786Z",
     "iopub.status.busy": "2021-05-10T12:08:04.764200Z",
     "iopub.status.idle": "2021-05-10T12:08:04.773358Z",
     "shell.execute_reply": "2021-05-10T12:08:04.772884Z"
    },
    "papermill": {
     "duration": 0.065745,
     "end_time": "2021-05-10T12:08:04.773564",
     "exception": false,
     "start_time": "2021-05-10T12:08:04.707819",
     "status": "completed"
    },
    "tags": []
   },
   "outputs": [
    {
     "data": {
      "text/html": [
       "<div>\n",
       "<style scoped>\n",
       "    .dataframe tbody tr th:only-of-type {\n",
       "        vertical-align: middle;\n",
       "    }\n",
       "\n",
       "    .dataframe tbody tr th {\n",
       "        vertical-align: top;\n",
       "    }\n",
       "\n",
       "    .dataframe thead th {\n",
       "        text-align: right;\n",
       "    }\n",
       "</style>\n",
       "<table border=\"1\" class=\"dataframe\">\n",
       "  <thead>\n",
       "    <tr style=\"text-align: right;\">\n",
       "      <th></th>\n",
       "      <th>Country/Region</th>\n",
       "      <th>Cases</th>\n",
       "      <th>Deaths</th>\n",
       "      <th>PCases</th>\n",
       "      <th>PDeaths</th>\n",
       "      <th>Cases (+)</th>\n",
       "      <th>Deaths (+)</th>\n",
       "      <th>Fatality Rate</th>\n",
       "      <th>Continent</th>\n",
       "    </tr>\n",
       "  </thead>\n",
       "  <tbody>\n",
       "    <tr>\n",
       "      <th>0</th>\n",
       "      <td>US</td>\n",
       "      <td>32707750</td>\n",
       "      <td>581754</td>\n",
       "      <td>32686358</td>\n",
       "      <td>581516</td>\n",
       "      <td>21392</td>\n",
       "      <td>238</td>\n",
       "      <td>1.78</td>\n",
       "      <td>North America</td>\n",
       "    </tr>\n",
       "    <tr>\n",
       "      <th>1</th>\n",
       "      <td>India</td>\n",
       "      <td>22662575</td>\n",
       "      <td>246116</td>\n",
       "      <td>22296081</td>\n",
       "      <td>242347</td>\n",
       "      <td>366494</td>\n",
       "      <td>3769</td>\n",
       "      <td>1.09</td>\n",
       "      <td>Asia</td>\n",
       "    </tr>\n",
       "    <tr>\n",
       "      <th>2</th>\n",
       "      <td>Brazil</td>\n",
       "      <td>15184790</td>\n",
       "      <td>422340</td>\n",
       "      <td>15145879</td>\n",
       "      <td>421316</td>\n",
       "      <td>38911</td>\n",
       "      <td>1024</td>\n",
       "      <td>2.78</td>\n",
       "      <td>South America</td>\n",
       "    </tr>\n",
       "    <tr>\n",
       "      <th>3</th>\n",
       "      <td>France</td>\n",
       "      <td>5838294</td>\n",
       "      <td>106553</td>\n",
       "      <td>5829166</td>\n",
       "      <td>106438</td>\n",
       "      <td>9128</td>\n",
       "      <td>115</td>\n",
       "      <td>1.83</td>\n",
       "      <td>Europe</td>\n",
       "    </tr>\n",
       "    <tr>\n",
       "      <th>4</th>\n",
       "      <td>Turkey</td>\n",
       "      <td>5031332</td>\n",
       "      <td>43029</td>\n",
       "      <td>5016141</td>\n",
       "      <td>42746</td>\n",
       "      <td>15191</td>\n",
       "      <td>283</td>\n",
       "      <td>0.86</td>\n",
       "      <td>Asia</td>\n",
       "    </tr>\n",
       "  </tbody>\n",
       "</table>\n",
       "</div>"
      ],
      "text/plain": [
       "  Country/Region     Cases  Deaths    PCases  PDeaths  Cases (+)  Deaths (+)  \\\n",
       "0             US  32707750  581754  32686358   581516      21392         238   \n",
       "1          India  22662575  246116  22296081   242347     366494        3769   \n",
       "2         Brazil  15184790  422340  15145879   421316      38911        1024   \n",
       "3         France   5838294  106553   5829166   106438       9128         115   \n",
       "4         Turkey   5031332   43029   5016141    42746      15191         283   \n",
       "\n",
       "   Fatality Rate      Continent  \n",
       "0           1.78  North America  \n",
       "1           1.09           Asia  \n",
       "2           2.78  South America  \n",
       "3           1.83         Europe  \n",
       "4           0.86           Asia  "
      ]
     },
     "execution_count": 13,
     "metadata": {},
     "output_type": "execute_result"
    }
   ],
   "source": [
    "#hide\n",
    "for c in 'Cases, Deaths'.split(', '):\n",
    "    df_table[f'{c} (+)'] = (df_table[c] - df_table[f'P{c}']).clip(0)\n",
    "    #Clip ça veut dire, les chiffres negatif sont interdit\n",
    "df_table['Fatality Rate'] = (100* df_table['Deaths']/ df_table['Cases']).round(2)\n",
    "df_table['Continent'] = df_table['Country/Region'].map(mapping['map.continent'])\n",
    "df_table.head(5)"
   ]
  },
  {
   "cell_type": "code",
   "execution_count": 14,
   "id": "aboriginal-bulgaria",
   "metadata": {
    "execution": {
     "iopub.execute_input": "2021-05-10T12:08:04.853725Z",
     "iopub.status.busy": "2021-05-10T12:08:04.853096Z",
     "iopub.status.idle": "2021-05-10T12:08:04.855611Z",
     "shell.execute_reply": "2021-05-10T12:08:04.855151Z"
    },
    "papermill": {
     "duration": 0.044352,
     "end_time": "2021-05-10T12:08:04.855716",
     "exception": false,
     "start_time": "2021-05-10T12:08:04.811364",
     "status": "completed"
    },
    "tags": []
   },
   "outputs": [],
   "source": [
    "#hide\n",
    "#delete problematic countries from table\n",
    "df_table = df_table[~df_table['Country/Region'].isin(['Cape Verde', 'Cruise Ship', 'Kosovo'])]"
   ]
  },
  {
   "cell_type": "code",
   "execution_count": 15,
   "id": "fantastic-effect",
   "metadata": {
    "execution": {
     "iopub.execute_input": "2021-05-10T12:08:04.942107Z",
     "iopub.status.busy": "2021-05-10T12:08:04.941495Z",
     "iopub.status.idle": "2021-05-10T12:08:04.963858Z",
     "shell.execute_reply": "2021-05-10T12:08:04.963354Z"
    },
    "papermill": {
     "duration": 0.068783,
     "end_time": "2021-05-10T12:08:04.963978",
     "exception": false,
     "start_time": "2021-05-10T12:08:04.895195",
     "status": "completed"
    },
    "tags": []
   },
   "outputs": [
    {
     "data": {
      "text/html": [
       "<div>\n",
       "<style scoped>\n",
       "    .dataframe tbody tr th:only-of-type {\n",
       "        vertical-align: middle;\n",
       "    }\n",
       "\n",
       "    .dataframe tbody tr th {\n",
       "        vertical-align: top;\n",
       "    }\n",
       "\n",
       "    .dataframe thead th {\n",
       "        text-align: right;\n",
       "    }\n",
       "</style>\n",
       "<table border=\"1\" class=\"dataframe\">\n",
       "  <thead>\n",
       "    <tr style=\"text-align: right;\">\n",
       "      <th></th>\n",
       "      <th>Country/Region</th>\n",
       "      <th>Cases</th>\n",
       "      <th>Deaths</th>\n",
       "      <th>PCases</th>\n",
       "      <th>PDeaths</th>\n",
       "      <th>Cases (+)</th>\n",
       "      <th>Deaths (+)</th>\n",
       "      <th>Fatality Rate</th>\n",
       "      <th>Continent</th>\n",
       "    </tr>\n",
       "  </thead>\n",
       "  <tbody>\n",
       "    <tr>\n",
       "      <th>0</th>\n",
       "      <td>US</td>\n",
       "      <td>32707750</td>\n",
       "      <td>581754</td>\n",
       "      <td>32686358</td>\n",
       "      <td>581516</td>\n",
       "      <td>21392</td>\n",
       "      <td>238</td>\n",
       "      <td>1.8</td>\n",
       "      <td>North America</td>\n",
       "    </tr>\n",
       "    <tr>\n",
       "      <th>1</th>\n",
       "      <td>India</td>\n",
       "      <td>22662575</td>\n",
       "      <td>246116</td>\n",
       "      <td>22296081</td>\n",
       "      <td>242347</td>\n",
       "      <td>366494</td>\n",
       "      <td>3769</td>\n",
       "      <td>1.1</td>\n",
       "      <td>Asia</td>\n",
       "    </tr>\n",
       "    <tr>\n",
       "      <th>2</th>\n",
       "      <td>Brazil</td>\n",
       "      <td>15184790</td>\n",
       "      <td>422340</td>\n",
       "      <td>15145879</td>\n",
       "      <td>421316</td>\n",
       "      <td>38911</td>\n",
       "      <td>1024</td>\n",
       "      <td>2.8</td>\n",
       "      <td>South America</td>\n",
       "    </tr>\n",
       "    <tr>\n",
       "      <th>3</th>\n",
       "      <td>France</td>\n",
       "      <td>5838294</td>\n",
       "      <td>106553</td>\n",
       "      <td>5829166</td>\n",
       "      <td>106438</td>\n",
       "      <td>9128</td>\n",
       "      <td>115</td>\n",
       "      <td>1.8</td>\n",
       "      <td>Europe</td>\n",
       "    </tr>\n",
       "    <tr>\n",
       "      <th>4</th>\n",
       "      <td>Turkey</td>\n",
       "      <td>5031332</td>\n",
       "      <td>43029</td>\n",
       "      <td>5016141</td>\n",
       "      <td>42746</td>\n",
       "      <td>15191</td>\n",
       "      <td>283</td>\n",
       "      <td>0.9</td>\n",
       "      <td>Asia</td>\n",
       "    </tr>\n",
       "  </tbody>\n",
       "</table>\n",
       "</div>"
      ],
      "text/plain": [
       "  Country/Region     Cases  Deaths    PCases  PDeaths  Cases (+)  Deaths (+)  \\\n",
       "0             US  32707750  581754  32686358   581516      21392         238   \n",
       "1          India  22662575  246116  22296081   242347     366494        3769   \n",
       "2         Brazil  15184790  422340  15145879   421316      38911        1024   \n",
       "3         France   5838294  106553   5829166   106438       9128         115   \n",
       "4         Turkey   5031332   43029   5016141    42746      15191         283   \n",
       "\n",
       "   Fatality Rate      Continent  \n",
       "0            1.8  North America  \n",
       "1            1.1           Asia  \n",
       "2            2.8  South America  \n",
       "3            1.8         Europe  \n",
       "4            0.9           Asia  "
      ]
     },
     "execution_count": 15,
     "metadata": {},
     "output_type": "execute_result"
    }
   ],
   "source": [
    "#hide\n",
    "df_table = (pd.DataFrame(dict(Cases=dfc_cases, Deaths=dfc_deaths, PCases=dfp_cases, PDeaths=dfp_deaths))\n",
    "             .sort_values(by=['Cases', 'Deaths'], ascending=[False, False])\n",
    "             .reset_index())\n",
    "df_table.rename(columns={'index': 'Country/Region'}, inplace=True)\n",
    "for c in 'Cases, Deaths'.split(', '):\n",
    "    df_table[f'{c} (+)'] = (df_table[c] - df_table[f'P{c}']).clip(0)  # DATA BUG\n",
    "df_table['Fatality Rate'] = (100 * df_table['Deaths'] / df_table['Cases']).round(1)\n",
    "df_table['Continent'] = df_table['Country/Region'].map(mapping['map.continent'])\n",
    "df_table.head(5)"
   ]
  },
  {
   "cell_type": "code",
   "execution_count": 16,
   "id": "fewer-occasion",
   "metadata": {
    "execution": {
     "iopub.execute_input": "2021-05-10T12:08:05.045448Z",
     "iopub.status.busy": "2021-05-10T12:08:05.044895Z",
     "iopub.status.idle": "2021-05-10T12:08:05.047970Z",
     "shell.execute_reply": "2021-05-10T12:08:05.048810Z"
    },
    "papermill": {
     "duration": 0.045994,
     "end_time": "2021-05-10T12:08:05.049040",
     "exception": false,
     "start_time": "2021-05-10T12:08:05.003046",
     "status": "completed"
    },
    "tags": []
   },
   "outputs": [],
   "source": [
    "#hide\n",
    "#delete problematic countries from table\n",
    "df_table = df_table[~df_table['Country/Region'].isin(['Cape Verde', 'Cruise Ship', 'Kosovo'])]"
   ]
  },
  {
   "cell_type": "code",
   "execution_count": 17,
   "id": "related-center",
   "metadata": {
    "execution": {
     "iopub.execute_input": "2021-05-10T12:08:05.136413Z",
     "iopub.status.busy": "2021-05-10T12:08:05.135706Z",
     "iopub.status.idle": "2021-05-10T12:08:05.150984Z",
     "shell.execute_reply": "2021-05-10T12:08:05.150425Z"
    },
    "papermill": {
     "duration": 0.06301,
     "end_time": "2021-05-10T12:08:05.151105",
     "exception": false,
     "start_time": "2021-05-10T12:08:05.088095",
     "status": "completed"
    },
    "tags": []
   },
   "outputs": [],
   "source": [
    "#hide\n",
    "metrics = [df_table.columns[index] for index in [1,2,5,6]]\n",
    "# s_china = df_table[df_table['Country/Region'].eq('China')][metrics].sum().add_prefix('China ')\n",
    "s_us = df_table[df_table['Country/Region'].eq('US')][metrics].sum().add_prefix('US ')\n",
    "s_eu = df_table[df_table['Continent'].eq('Europe')][metrics].sum().add_prefix('EU ')\n",
    "s_ind = df_table[df_table['Country/Region'].eq('India')][metrics].sum().add_prefix('India ')\n",
    "summary = {'updated': pd.to_datetime(dt_today), 'since': pd.to_datetime(dt_yday)}\n",
    "summary = {'updated': pd.to_datetime(dt_today), 'since': pd.to_datetime(dt_yday)}\n",
    "summary = {**summary, **df_table[metrics].sum(), **s_ind, **s_us, **s_eu}"
   ]
  },
  {
   "cell_type": "code",
   "execution_count": 18,
   "id": "engaging-syndrome",
   "metadata": {
    "execution": {
     "iopub.execute_input": "2021-05-10T12:08:05.234489Z",
     "iopub.status.busy": "2021-05-10T12:08:05.233867Z",
     "iopub.status.idle": "2021-05-10T12:08:05.247047Z",
     "shell.execute_reply": "2021-05-10T12:08:05.246520Z"
    },
    "papermill": {
     "duration": 0.056741,
     "end_time": "2021-05-10T12:08:05.247189",
     "exception": false,
     "start_time": "2021-05-10T12:08:05.190448",
     "status": "completed"
    },
    "tags": []
   },
   "outputs": [],
   "source": [
    "#hide\n",
    "dft_ct_new_cases = dft_cases.groupby(COL_REGION)[dt_cols].sum().diff(axis=1).fillna(0).astype(int)"
   ]
  },
  {
   "cell_type": "code",
   "execution_count": 19,
   "id": "neutral-assignment",
   "metadata": {
    "execution": {
     "iopub.execute_input": "2021-05-10T12:08:05.334049Z",
     "iopub.status.busy": "2021-05-10T12:08:05.333427Z",
     "iopub.status.idle": "2021-05-10T12:08:05.335970Z",
     "shell.execute_reply": "2021-05-10T12:08:05.335398Z"
    },
    "papermill": {
     "duration": 0.048844,
     "end_time": "2021-05-10T12:08:05.336154",
     "exception": false,
     "start_time": "2021-05-10T12:08:05.287310",
     "status": "completed"
    },
    "tags": []
   },
   "outputs": [],
   "source": [
    "#hide\n",
    "everydaycases = dft_ct_new_cases.cumsum(axis=1)"
   ]
  },
  {
   "cell_type": "code",
   "execution_count": 20,
   "id": "parliamentary-calgary",
   "metadata": {
    "execution": {
     "iopub.execute_input": "2021-05-10T12:08:05.422300Z",
     "iopub.status.busy": "2021-05-10T12:08:05.421617Z",
     "iopub.status.idle": "2021-05-10T12:08:06.000468Z",
     "shell.execute_reply": "2021-05-10T12:08:05.999787Z"
    },
    "papermill": {
     "duration": 0.62411,
     "end_time": "2021-05-10T12:08:06.000607",
     "exception": false,
     "start_time": "2021-05-10T12:08:05.376497",
     "status": "completed"
    },
    "tags": []
   },
   "outputs": [],
   "source": [
    "#hide\n",
    "import pandas as pd\n",
    "import matplotlib.pyplot as plt\n",
    "import matplotlib.ticker as ticker\n",
    "import matplotlib.animation as animation\n",
    "from IPython.display import HTML"
   ]
  },
  {
   "cell_type": "code",
   "execution_count": 21,
   "id": "lasting-extraction",
   "metadata": {
    "execution": {
     "iopub.execute_input": "2021-05-10T12:08:06.082975Z",
     "iopub.status.busy": "2021-05-10T12:08:06.082302Z",
     "iopub.status.idle": "2021-05-10T12:08:06.090890Z",
     "shell.execute_reply": "2021-05-10T12:08:06.090242Z"
    },
    "papermill": {
     "duration": 0.052197,
     "end_time": "2021-05-10T12:08:06.091046",
     "exception": false,
     "start_time": "2021-05-10T12:08:06.038849",
     "status": "completed"
    },
    "tags": []
   },
   "outputs": [],
   "source": [
    "#hide\n",
    "t = everydaycases.stack()"
   ]
  },
  {
   "cell_type": "code",
   "execution_count": 22,
   "id": "premier-sleeve",
   "metadata": {
    "execution": {
     "iopub.execute_input": "2021-05-10T12:08:06.175231Z",
     "iopub.status.busy": "2021-05-10T12:08:06.174620Z",
     "iopub.status.idle": "2021-05-10T12:08:06.182456Z",
     "shell.execute_reply": "2021-05-10T12:08:06.183074Z"
    },
    "papermill": {
     "duration": 0.05491,
     "end_time": "2021-05-10T12:08:06.183219",
     "exception": false,
     "start_time": "2021-05-10T12:08:06.128309",
     "status": "completed"
    },
    "tags": []
   },
   "outputs": [],
   "source": [
    "#hide\n",
    "g = t.reset_index(['Country/Region'])"
   ]
  },
  {
   "cell_type": "code",
   "execution_count": 23,
   "id": "distributed-pittsburgh",
   "metadata": {
    "execution": {
     "iopub.execute_input": "2021-05-10T12:08:06.265501Z",
     "iopub.status.busy": "2021-05-10T12:08:06.264867Z",
     "iopub.status.idle": "2021-05-10T12:08:06.267271Z",
     "shell.execute_reply": "2021-05-10T12:08:06.266593Z"
    },
    "papermill": {
     "duration": 0.046043,
     "end_time": "2021-05-10T12:08:06.267428",
     "exception": false,
     "start_time": "2021-05-10T12:08:06.221385",
     "status": "completed"
    },
    "tags": []
   },
   "outputs": [],
   "source": [
    "#hide\n",
    "g.index.name = 'date'"
   ]
  },
  {
   "cell_type": "code",
   "execution_count": 24,
   "id": "naked-donor",
   "metadata": {
    "execution": {
     "iopub.execute_input": "2021-05-10T12:08:06.347566Z",
     "iopub.status.busy": "2021-05-10T12:08:06.346856Z",
     "iopub.status.idle": "2021-05-10T12:08:06.349306Z",
     "shell.execute_reply": "2021-05-10T12:08:06.348842Z"
    },
    "papermill": {
     "duration": 0.044393,
     "end_time": "2021-05-10T12:08:06.349438",
     "exception": false,
     "start_time": "2021-05-10T12:08:06.305045",
     "status": "completed"
    },
    "tags": []
   },
   "outputs": [],
   "source": [
    "# #hide\n",
    "# g = g.reset_index(['date'])"
   ]
  },
  {
   "cell_type": "code",
   "execution_count": 25,
   "id": "incomplete-mustang",
   "metadata": {
    "execution": {
     "iopub.execute_input": "2021-05-10T12:08:06.430613Z",
     "iopub.status.busy": "2021-05-10T12:08:06.429992Z",
     "iopub.status.idle": "2021-05-10T12:08:06.432572Z",
     "shell.execute_reply": "2021-05-10T12:08:06.432072Z"
    },
    "papermill": {
     "duration": 0.04421,
     "end_time": "2021-05-10T12:08:06.432707",
     "exception": false,
     "start_time": "2021-05-10T12:08:06.388497",
     "status": "completed"
    },
    "tags": []
   },
   "outputs": [],
   "source": [
    "#hide\n",
    "# g.head()"
   ]
  },
  {
   "cell_type": "code",
   "execution_count": 26,
   "id": "specific-kruger",
   "metadata": {
    "execution": {
     "iopub.execute_input": "2021-05-10T12:08:06.516564Z",
     "iopub.status.busy": "2021-05-10T12:08:06.515978Z",
     "iopub.status.idle": "2021-05-10T12:08:06.518205Z",
     "shell.execute_reply": "2021-05-10T12:08:06.518773Z"
    },
    "papermill": {
     "duration": 0.045837,
     "end_time": "2021-05-10T12:08:06.518917",
     "exception": false,
     "start_time": "2021-05-10T12:08:06.473080",
     "status": "completed"
    },
    "tags": []
   },
   "outputs": [],
   "source": [
    "#hide\n",
    "# g.columns = ['date','country','cases']"
   ]
  },
  {
   "cell_type": "code",
   "execution_count": 27,
   "id": "tender-conversion",
   "metadata": {
    "execution": {
     "iopub.execute_input": "2021-05-10T12:08:06.602483Z",
     "iopub.status.busy": "2021-05-10T12:08:06.601891Z",
     "iopub.status.idle": "2021-05-10T12:08:06.604423Z",
     "shell.execute_reply": "2021-05-10T12:08:06.603825Z"
    },
    "papermill": {
     "duration": 0.048591,
     "end_time": "2021-05-10T12:08:06.604537",
     "exception": false,
     "start_time": "2021-05-10T12:08:06.555946",
     "status": "completed"
    },
    "tags": []
   },
   "outputs": [],
   "source": [
    "#hide\n",
    "# g['continent'] = g.country"
   ]
  },
  {
   "cell_type": "code",
   "execution_count": 28,
   "id": "substantial-wilderness",
   "metadata": {
    "execution": {
     "iopub.execute_input": "2021-05-10T12:08:06.686654Z",
     "iopub.status.busy": "2021-05-10T12:08:06.685861Z",
     "iopub.status.idle": "2021-05-10T12:08:06.688295Z",
     "shell.execute_reply": "2021-05-10T12:08:06.687747Z"
    },
    "papermill": {
     "duration": 0.045458,
     "end_time": "2021-05-10T12:08:06.688413",
     "exception": false,
     "start_time": "2021-05-10T12:08:06.642955",
     "status": "completed"
    },
    "tags": []
   },
   "outputs": [],
   "source": [
    "#hide\n",
    "# cols = list(g.columns.values)"
   ]
  },
  {
   "cell_type": "code",
   "execution_count": 29,
   "id": "solved-farming",
   "metadata": {
    "execution": {
     "iopub.execute_input": "2021-05-10T12:08:06.765871Z",
     "iopub.status.busy": "2021-05-10T12:08:06.765179Z",
     "iopub.status.idle": "2021-05-10T12:08:06.767847Z",
     "shell.execute_reply": "2021-05-10T12:08:06.768449Z"
    },
    "papermill": {
     "duration": 0.043447,
     "end_time": "2021-05-10T12:08:06.768572",
     "exception": false,
     "start_time": "2021-05-10T12:08:06.725125",
     "status": "completed"
    },
    "tags": []
   },
   "outputs": [],
   "source": [
    "#hide\n",
    "# cols.insert(0, cols.pop())"
   ]
  },
  {
   "cell_type": "code",
   "execution_count": 30,
   "id": "executed-adoption",
   "metadata": {
    "execution": {
     "iopub.execute_input": "2021-05-10T12:08:06.846334Z",
     "iopub.status.busy": "2021-05-10T12:08:06.845780Z",
     "iopub.status.idle": "2021-05-10T12:08:06.847815Z",
     "shell.execute_reply": "2021-05-10T12:08:06.847296Z"
    },
    "papermill": {
     "duration": 0.041631,
     "end_time": "2021-05-10T12:08:06.847918",
     "exception": false,
     "start_time": "2021-05-10T12:08:06.806287",
     "status": "completed"
    },
    "tags": []
   },
   "outputs": [],
   "source": [
    "#hide\n",
    "# g = g[cols]"
   ]
  },
  {
   "cell_type": "code",
   "execution_count": 31,
   "id": "subject-dublin",
   "metadata": {
    "execution": {
     "iopub.execute_input": "2021-05-10T12:08:06.924229Z",
     "iopub.status.busy": "2021-05-10T12:08:06.923624Z",
     "iopub.status.idle": "2021-05-10T12:08:06.925723Z",
     "shell.execute_reply": "2021-05-10T12:08:06.926457Z"
    },
    "papermill": {
     "duration": 0.041518,
     "end_time": "2021-05-10T12:08:06.926579",
     "exception": false,
     "start_time": "2021-05-10T12:08:06.885061",
     "status": "completed"
    },
    "tags": []
   },
   "outputs": [],
   "source": [
    "#hide\n",
    "# g['continent'] = g['continent'].map(mapping['map.continent'])"
   ]
  },
  {
   "cell_type": "code",
   "execution_count": 32,
   "id": "freelance-scout",
   "metadata": {
    "execution": {
     "iopub.execute_input": "2021-05-10T12:08:07.007451Z",
     "iopub.status.busy": "2021-05-10T12:08:07.006742Z",
     "iopub.status.idle": "2021-05-10T12:08:07.008378Z",
     "shell.execute_reply": "2021-05-10T12:08:07.008981Z"
    },
    "papermill": {
     "duration": 0.045167,
     "end_time": "2021-05-10T12:08:07.009119",
     "exception": false,
     "start_time": "2021-05-10T12:08:06.963952",
     "status": "completed"
    },
    "tags": []
   },
   "outputs": [],
   "source": [
    "#hide\n",
    "# g.head()"
   ]
  },
  {
   "cell_type": "code",
   "execution_count": 33,
   "id": "limited-engine",
   "metadata": {
    "execution": {
     "iopub.execute_input": "2021-05-10T12:08:07.090583Z",
     "iopub.status.busy": "2021-05-10T12:08:07.089978Z",
     "iopub.status.idle": "2021-05-10T12:08:07.092517Z",
     "shell.execute_reply": "2021-05-10T12:08:07.092055Z"
    },
    "papermill": {
     "duration": 0.046417,
     "end_time": "2021-05-10T12:08:07.092620",
     "exception": false,
     "start_time": "2021-05-10T12:08:07.046203",
     "status": "completed"
    },
    "tags": []
   },
   "outputs": [],
   "source": [
    "# hide\n",
    "# g['date'] = g['date'].astype('datetime64[ns]')"
   ]
  },
  {
   "cell_type": "code",
   "execution_count": 34,
   "id": "sophisticated-supervisor",
   "metadata": {
    "execution": {
     "iopub.execute_input": "2021-05-10T12:08:07.171261Z",
     "iopub.status.busy": "2021-05-10T12:08:07.170488Z",
     "iopub.status.idle": "2021-05-10T12:08:07.172831Z",
     "shell.execute_reply": "2021-05-10T12:08:07.173331Z"
    },
    "papermill": {
     "duration": 0.042101,
     "end_time": "2021-05-10T12:08:07.173446",
     "exception": false,
     "start_time": "2021-05-10T12:08:07.131345",
     "status": "completed"
    },
    "tags": []
   },
   "outputs": [],
   "source": [
    "#hide\n",
    "# g['date'] = g.date.dt.dayofyear"
   ]
  },
  {
   "cell_type": "code",
   "execution_count": 35,
   "id": "inside-dubai",
   "metadata": {
    "execution": {
     "iopub.execute_input": "2021-05-10T12:08:07.256070Z",
     "iopub.status.busy": "2021-05-10T12:08:07.255303Z",
     "iopub.status.idle": "2021-05-10T12:08:07.258431Z",
     "shell.execute_reply": "2021-05-10T12:08:07.257773Z"
    },
    "papermill": {
     "duration": 0.04585,
     "end_time": "2021-05-10T12:08:07.258685",
     "exception": false,
     "start_time": "2021-05-10T12:08:07.212835",
     "status": "completed"
    },
    "tags": []
   },
   "outputs": [],
   "source": [
    "#hide\n",
    "# g = g.rename(columns= {'continent':'group','country':'name','cases':'value'})"
   ]
  },
  {
   "cell_type": "code",
   "execution_count": 36,
   "id": "fleet-motorcycle",
   "metadata": {
    "execution": {
     "iopub.execute_input": "2021-05-10T12:08:07.343770Z",
     "iopub.status.busy": "2021-05-10T12:08:07.343148Z",
     "iopub.status.idle": "2021-05-10T12:08:07.345208Z",
     "shell.execute_reply": "2021-05-10T12:08:07.345690Z"
    },
    "papermill": {
     "duration": 0.046008,
     "end_time": "2021-05-10T12:08:07.345834",
     "exception": false,
     "start_time": "2021-05-10T12:08:07.299826",
     "status": "completed"
    },
    "tags": []
   },
   "outputs": [],
   "source": [
    "#hide\n",
    "# cols = ['name','group','day','value']"
   ]
  },
  {
   "cell_type": "code",
   "execution_count": 37,
   "id": "continued-sleeping",
   "metadata": {
    "execution": {
     "iopub.execute_input": "2021-05-10T12:08:07.428661Z",
     "iopub.status.busy": "2021-05-10T12:08:07.427917Z",
     "iopub.status.idle": "2021-05-10T12:08:07.430826Z",
     "shell.execute_reply": "2021-05-10T12:08:07.430153Z"
    },
    "papermill": {
     "duration": 0.046882,
     "end_time": "2021-05-10T12:08:07.430955",
     "exception": false,
     "start_time": "2021-05-10T12:08:07.384073",
     "status": "completed"
    },
    "tags": []
   },
   "outputs": [],
   "source": [
    "#hide\n",
    "# g.rename(columns= {'date':'day'},inplace = True)"
   ]
  },
  {
   "cell_type": "code",
   "execution_count": 38,
   "id": "major-fight",
   "metadata": {
    "execution": {
     "iopub.execute_input": "2021-05-10T12:08:07.521917Z",
     "iopub.status.busy": "2021-05-10T12:08:07.521282Z",
     "iopub.status.idle": "2021-05-10T12:08:07.523464Z",
     "shell.execute_reply": "2021-05-10T12:08:07.524035Z"
    },
    "papermill": {
     "duration": 0.046773,
     "end_time": "2021-05-10T12:08:07.524200",
     "exception": false,
     "start_time": "2021-05-10T12:08:07.477427",
     "status": "completed"
    },
    "tags": []
   },
   "outputs": [],
   "source": [
    "#hide\n",
    "# g = g[cols]"
   ]
  },
  {
   "cell_type": "code",
   "execution_count": 39,
   "id": "structured-mobile",
   "metadata": {
    "execution": {
     "iopub.execute_input": "2021-05-10T12:08:07.609158Z",
     "iopub.status.busy": "2021-05-10T12:08:07.608461Z",
     "iopub.status.idle": "2021-05-10T12:08:07.611116Z",
     "shell.execute_reply": "2021-05-10T12:08:07.610504Z"
    },
    "papermill": {
     "duration": 0.047772,
     "end_time": "2021-05-10T12:08:07.611486",
     "exception": false,
     "start_time": "2021-05-10T12:08:07.563714",
     "status": "completed"
    },
    "tags": []
   },
   "outputs": [],
   "source": [
    "# #hide\n",
    "# g = g[g.group.notna()]"
   ]
  },
  {
   "cell_type": "code",
   "execution_count": 40,
   "id": "determined-closing",
   "metadata": {
    "execution": {
     "iopub.execute_input": "2021-05-10T12:08:07.692929Z",
     "iopub.status.busy": "2021-05-10T12:08:07.692284Z",
     "iopub.status.idle": "2021-05-10T12:08:07.693854Z",
     "shell.execute_reply": "2021-05-10T12:08:07.694411Z"
    },
    "papermill": {
     "duration": 0.044309,
     "end_time": "2021-05-10T12:08:07.694543",
     "exception": false,
     "start_time": "2021-05-10T12:08:07.650234",
     "status": "completed"
    },
    "tags": []
   },
   "outputs": [],
   "source": [
    "# #hide\n",
    "# colors = dict(zip(\n",
    "#     [\"Oceania\", \"Europe\", \"Asia\", \"South America\", \"Middle East\", \"North America\", \"Africa\"],\n",
    "#     [\"#adb0ff\", \"#ffb3ff\", \"#90d595\", \"#e48381\", \"#aafbff\", \"#f7bb5f\", \"#eafb50\"]\n",
    "# ))\n",
    "# group_lk = g.set_index('name')['group'].to_dict()"
   ]
  },
  {
   "cell_type": "code",
   "execution_count": null,
   "id": "gross-drinking",
   "metadata": {
    "papermill": {
     "duration": 0.036329,
     "end_time": "2021-05-10T12:08:07.770313",
     "exception": false,
     "start_time": "2021-05-10T12:08:07.733984",
     "status": "completed"
    },
    "tags": []
   },
   "outputs": [],
   "source": []
  },
  {
   "cell_type": "code",
   "execution_count": 41,
   "id": "subject-macintosh",
   "metadata": {
    "execution": {
     "iopub.execute_input": "2021-05-10T12:08:07.850169Z",
     "iopub.status.busy": "2021-05-10T12:08:07.849567Z",
     "iopub.status.idle": "2021-05-10T12:08:07.851504Z",
     "shell.execute_reply": "2021-05-10T12:08:07.851986Z"
    },
    "papermill": {
     "duration": 0.043531,
     "end_time": "2021-05-10T12:08:07.852122",
     "exception": false,
     "start_time": "2021-05-10T12:08:07.808591",
     "status": "completed"
    },
    "tags": []
   },
   "outputs": [],
   "source": [
    "# #hide\n",
    "# fig, ax = plt.subplots(figsize=(15, 8))\n",
    "\n",
    "# def draw_barchart(current_day):\n",
    "#     dff = g[g['day'].eq(current_day)].sort_values(by='value', ascending=True).tail(10)\n",
    "#     ax.clear()\n",
    "#     ax.barh(dff['name'], dff['value'], color=[colors[group_lk[x]] for x in dff['name']])\n",
    "#     dx = dff['value'].max() / 200\n",
    "    \n",
    "#     for i, (value, name) in enumerate(zip(dff['value'], dff['name'])):\n",
    "#         ax.text(value-dx, i,     name,           size=14, weight=600, ha='right', va='bottom')\n",
    "#         ax.text(value-dx, i-.25, group_lk[name], size=10, color='#444444', ha='right', va='baseline')\n",
    "#         ax.text(value+dx, i,     f'{value:,.0f}',  size=14, ha='left',  va='center')\n",
    "#     ax.text(1, 0.4, current_day, transform=ax.transAxes, color='#777777', size=46, ha='right', weight=800)\n",
    "#     ax.text(0, 1.06, 'Population (thousands)', transform=ax.transAxes, size=12, color='#777777')\n",
    "#     ax.xaxis.set_major_formatter(ticker.StrMethodFormatter('{x:,.0f}'))\n",
    "#     ax.xaxis.set_ticks_position('top')\n",
    "#     ax.tick_params(axis='x', colors='#777777', labelsize=12)\n",
    "#     ax.set_yticks([])\n",
    "#     ax.margins(0, 0.01)\n",
    "#     ax.grid(which='major', axis='x', linestyle='-')\n",
    "#     ax.set_axisbelow(True)\n",
    "    \n",
    "#     ax.text(0, 1.15, 'Coronavirus',\n",
    "#             transform=ax.transAxes, size=24, weight=600, ha='left', va='top')\n",
    "# #     ax.text(1, 0, 'by @pratapvardhan; credit @jburnmurdoch', transform=ax.transAxes, color='#777777', ha='right',\n",
    "# #             bbox=dict(facecolor='white', alpha=0.8, edgecolor='white'))\n",
    "#     plt.box(False)"
   ]
  },
  {
   "cell_type": "code",
   "execution_count": 42,
   "id": "sexual-wages",
   "metadata": {
    "execution": {
     "iopub.execute_input": "2021-05-10T12:08:07.932240Z",
     "iopub.status.busy": "2021-05-10T12:08:07.931294Z",
     "iopub.status.idle": "2021-05-10T12:08:07.934742Z",
     "shell.execute_reply": "2021-05-10T12:08:07.934071Z"
    },
    "papermill": {
     "duration": 0.046154,
     "end_time": "2021-05-10T12:08:07.934851",
     "exception": false,
     "start_time": "2021-05-10T12:08:07.888697",
     "status": "completed"
    },
    "tags": []
   },
   "outputs": [],
   "source": [
    "# #hide_input\n",
    "# fig, ax = plt.subplots(figsize=(15, 8))\n",
    "# animator = animation.FuncAnimation(fig, draw_barchart, frames=range(g.day.values.min(), g.day.values.max()))\n",
    "# HTML(animator.to_jshtml())\n",
    "# # or use animator.to_html5_video() or animator.save() "
   ]
  },
  {
   "cell_type": "code",
   "execution_count": null,
   "id": "australian-container",
   "metadata": {
    "papermill": {
     "duration": 0.03907,
     "end_time": "2021-05-10T12:08:08.011759",
     "exception": false,
     "start_time": "2021-05-10T12:08:07.972689",
     "status": "completed"
    },
    "tags": []
   },
   "outputs": [],
   "source": []
  },
  {
   "cell_type": "code",
   "execution_count": null,
   "id": "mediterranean-pontiac",
   "metadata": {
    "papermill": {
     "duration": 0.039863,
     "end_time": "2021-05-10T12:08:08.088119",
     "exception": false,
     "start_time": "2021-05-10T12:08:08.048256",
     "status": "completed"
    },
    "tags": []
   },
   "outputs": [],
   "source": []
  },
  {
   "cell_type": "code",
   "execution_count": null,
   "id": "aging-legislature",
   "metadata": {
    "papermill": {
     "duration": 0.038626,
     "end_time": "2021-05-10T12:08:08.165059",
     "exception": false,
     "start_time": "2021-05-10T12:08:08.126433",
     "status": "completed"
    },
    "tags": []
   },
   "outputs": [],
   "source": []
  }
 ],
 "metadata": {
  "kernelspec": {
   "display_name": "Python 3",
   "language": "python",
   "name": "python3"
  },
  "language_info": {
   "codemirror_mode": {
    "name": "ipython",
    "version": 3
   },
   "file_extension": ".py",
   "mimetype": "text/x-python",
   "name": "python",
   "nbconvert_exporter": "python",
   "pygments_lexer": "ipython3",
   "version": "3.6.13"
  },
  "papermill": {
   "duration": 6.801518,
   "end_time": "2021-05-10T12:08:08.512341",
   "environment_variables": {},
   "exception": null,
   "input_path": "2020-03-21-covid19exp.ipynb",
   "output_path": "2020-03-21-covid19exp.ipynb",
   "parameters": {},
   "start_time": "2021-05-10T12:08:01.710823",
   "version": "2.0.0"
  }
 },
 "nbformat": 4,
 "nbformat_minor": 5
}