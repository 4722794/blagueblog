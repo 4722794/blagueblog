{
 "cells": [
  {
   "cell_type": "markdown",
   "id": "muslim-click",
   "metadata": {
    "papermill": {
     "duration": 0.038359,
     "end_time": "2022-03-07T12:14:36.226953",
     "exception": false,
     "start_time": "2022-03-07T12:14:36.188594",
     "status": "completed"
    },
    "tags": []
   },
   "source": [
    "# COVID-19 Case Race\n",
    "> A race chart to see rising cases around the world\n",
    "\n",
    "- author: Hargun Oberoi\n",
    "- image: images/covid-overview.png\n",
    "- hide: false\n",
    "- badges: false"
   ]
  },
  {
   "cell_type": "code",
   "execution_count": 1,
   "id": "proof-material",
   "metadata": {
    "execution": {
     "iopub.execute_input": "2022-03-07T12:14:36.306560Z",
     "iopub.status.busy": "2022-03-07T12:14:36.301466Z",
     "iopub.status.idle": "2022-03-07T12:14:36.664319Z",
     "shell.execute_reply": "2022-03-07T12:14:36.665184Z"
    },
    "papermill": {
     "duration": 0.40451,
     "end_time": "2022-03-07T12:14:36.665488",
     "exception": false,
     "start_time": "2022-03-07T12:14:36.260978",
     "status": "completed"
    },
    "tags": []
   },
   "outputs": [],
   "source": [
    "#hide\n",
    "import numpy as np\n",
    "import pandas as pd\n",
    "from jinja2 import Template\n",
    "from IPython.display import HTML"
   ]
  },
  {
   "cell_type": "code",
   "execution_count": 2,
   "id": "developed-terminology",
   "metadata": {
    "execution": {
     "iopub.execute_input": "2022-03-07T12:14:36.739573Z",
     "iopub.status.busy": "2022-03-07T12:14:36.738898Z",
     "iopub.status.idle": "2022-03-07T12:14:36.742387Z",
     "shell.execute_reply": "2022-03-07T12:14:36.742815Z"
    },
    "papermill": {
     "duration": 0.04404,
     "end_time": "2022-03-07T12:14:36.742977",
     "exception": false,
     "start_time": "2022-03-07T12:14:36.698937",
     "status": "completed"
    },
    "tags": []
   },
   "outputs": [],
   "source": [
    "#hide\n",
    "\n",
    "# FETCH\n",
    "base_url = 'https://raw.githubusercontent.com/pratapvardhan/notebooks/master/covid19/'\n",
    "paths = {\n",
    "    'mapping': base_url + 'mapping_countries.csv',\n",
    "    'overview': base_url + 'overview.tpl'\n",
    "}"
   ]
  },
  {
   "cell_type": "code",
   "execution_count": 3,
   "id": "dynamic-saver",
   "metadata": {
    "execution": {
     "iopub.execute_input": "2022-03-07T12:14:36.821861Z",
     "iopub.status.busy": "2022-03-07T12:14:36.820974Z",
     "iopub.status.idle": "2022-03-07T12:14:36.824685Z",
     "shell.execute_reply": "2022-03-07T12:14:36.825164Z"
    },
    "papermill": {
     "duration": 0.050206,
     "end_time": "2022-03-07T12:14:36.825309",
     "exception": false,
     "start_time": "2022-03-07T12:14:36.775103",
     "status": "completed"
    },
    "tags": []
   },
   "outputs": [
    {
     "data": {
      "text/plain": [
       "'https://raw.githubusercontent.com/pratapvardhan/notebooks/master/covid19/mapping_countries.csv'"
      ]
     },
     "execution_count": 3,
     "metadata": {},
     "output_type": "execute_result"
    }
   ],
   "source": [
    "#hide\n",
    "paths['mapping']"
   ]
  },
  {
   "cell_type": "code",
   "execution_count": 4,
   "id": "urban-software",
   "metadata": {
    "execution": {
     "iopub.execute_input": "2022-03-07T12:14:36.901532Z",
     "iopub.status.busy": "2022-03-07T12:14:36.900889Z",
     "iopub.status.idle": "2022-03-07T12:14:36.904810Z",
     "shell.execute_reply": "2022-03-07T12:14:36.904321Z"
    },
    "papermill": {
     "duration": 0.045683,
     "end_time": "2022-03-07T12:14:36.904940",
     "exception": false,
     "start_time": "2022-03-07T12:14:36.859257",
     "status": "completed"
    },
    "tags": []
   },
   "outputs": [],
   "source": [
    "#hide\n",
    "def get_mappings(url):\n",
    "    df = pd.read_csv(url)\n",
    "    return {\n",
    "        'df': df,\n",
    "        'replace.country': dict(df.dropna(subset=['Name']).set_index('Country')['Name']),\n",
    "        'map.continent': dict(df.set_index('Name')['Continent'])\n",
    "    }"
   ]
  },
  {
   "cell_type": "code",
   "execution_count": 5,
   "id": "intimate-machinery",
   "metadata": {
    "execution": {
     "iopub.execute_input": "2022-03-07T12:14:36.975602Z",
     "iopub.status.busy": "2022-03-07T12:14:36.974994Z",
     "iopub.status.idle": "2022-03-07T12:14:37.004009Z",
     "shell.execute_reply": "2022-03-07T12:14:37.003308Z"
    },
    "papermill": {
     "duration": 0.066413,
     "end_time": "2022-03-07T12:14:37.004168",
     "exception": false,
     "start_time": "2022-03-07T12:14:36.937755",
     "status": "completed"
    },
    "tags": []
   },
   "outputs": [],
   "source": [
    "#hide\n",
    "mapping = get_mappings(paths['mapping'])"
   ]
  },
  {
   "cell_type": "code",
   "execution_count": 6,
   "id": "certified-tactics",
   "metadata": {
    "execution": {
     "iopub.execute_input": "2022-03-07T12:14:37.075802Z",
     "iopub.status.busy": "2022-03-07T12:14:37.075203Z",
     "iopub.status.idle": "2022-03-07T12:14:37.076945Z",
     "shell.execute_reply": "2022-03-07T12:14:37.077392Z"
    },
    "papermill": {
     "duration": 0.039384,
     "end_time": "2022-03-07T12:14:37.077520",
     "exception": false,
     "start_time": "2022-03-07T12:14:37.038136",
     "status": "completed"
    },
    "tags": []
   },
   "outputs": [],
   "source": [
    "#hide\n",
    "def get_template(path):\n",
    "    from urllib.parse import urlparse\n",
    "    if bool(urlparse(path).netloc):\n",
    "        from urllib.request import urlopen\n",
    "        return urlopen(path).read().decode('utf8')\n",
    "    return open(path).read()"
   ]
  },
  {
   "cell_type": "code",
   "execution_count": 7,
   "id": "realistic-blast",
   "metadata": {
    "execution": {
     "iopub.execute_input": "2022-03-07T12:14:37.147942Z",
     "iopub.status.busy": "2022-03-07T12:14:37.147106Z",
     "iopub.status.idle": "2022-03-07T12:14:37.151965Z",
     "shell.execute_reply": "2022-03-07T12:14:37.151252Z"
    },
    "papermill": {
     "duration": 0.0427,
     "end_time": "2022-03-07T12:14:37.152120",
     "exception": false,
     "start_time": "2022-03-07T12:14:37.109420",
     "status": "completed"
    },
    "tags": []
   },
   "outputs": [],
   "source": [
    "#hide\n",
    "def get_frame(name):\n",
    "    url = (\n",
    "        'https://raw.githubusercontent.com/CSSEGISandData/COVID-19/master/csse_covid_19_data/'\n",
    "        f'csse_covid_19_time_series/time_series_covid19_{name}_global.csv')\n",
    "    df = pd.read_csv(url)\n",
    "    # rename countries\n",
    "    df['Country/Region'] = df['Country/Region'].replace(mapping['replace.country'])\n",
    "    return df"
   ]
  },
  {
   "cell_type": "code",
   "execution_count": 8,
   "id": "affiliated-characterization",
   "metadata": {
    "execution": {
     "iopub.execute_input": "2022-03-07T12:14:37.224882Z",
     "iopub.status.busy": "2022-03-07T12:14:37.224271Z",
     "iopub.status.idle": "2022-03-07T12:14:37.226119Z",
     "shell.execute_reply": "2022-03-07T12:14:37.226569Z"
    },
    "papermill": {
     "duration": 0.042285,
     "end_time": "2022-03-07T12:14:37.226707",
     "exception": false,
     "start_time": "2022-03-07T12:14:37.184422",
     "status": "completed"
    },
    "tags": []
   },
   "outputs": [],
   "source": [
    "#hide\n",
    "def get_dates(df):\n",
    "    dt_cols = df.columns[~df.columns.isin(['Province/State', 'Country/Region', 'Lat', 'Long'])]\n",
    "    LAST_DATE_I = -1\n",
    "    # sometimes last column may be empty, then go backwards\n",
    "    for i in range(-1, -len(dt_cols), -1):\n",
    "        if not df[dt_cols[i]].fillna(0).eq(0).all():\n",
    "            LAST_DATE_I = i\n",
    "            break\n",
    "    return LAST_DATE_I, dt_cols"
   ]
  },
  {
   "cell_type": "code",
   "execution_count": 9,
   "id": "recent-optimization",
   "metadata": {
    "execution": {
     "iopub.execute_input": "2022-03-07T12:14:37.296488Z",
     "iopub.status.busy": "2022-03-07T12:14:37.295880Z",
     "iopub.status.idle": "2022-03-07T12:14:37.654039Z",
     "shell.execute_reply": "2022-03-07T12:14:37.653284Z"
    },
    "papermill": {
     "duration": 0.395074,
     "end_time": "2022-03-07T12:14:37.654237",
     "exception": false,
     "start_time": "2022-03-07T12:14:37.259163",
     "status": "completed"
    },
    "tags": []
   },
   "outputs": [],
   "source": [
    "#hide\n",
    "COL_REGION = 'Country/Region'\n",
    "# Confirmed, Recovered, Deaths\n",
    "df = get_frame('confirmed')\n",
    "# dft_: timeseries, dfc_: today country agg\n",
    "dft_cases = df\n",
    "dft_deaths = get_frame('deaths')\n",
    "dft_recovered = get_frame('recovered')\n",
    "LAST_DATE_I, dt_cols = get_dates(df)"
   ]
  },
  {
   "cell_type": "code",
   "execution_count": 10,
   "id": "absolute-copper",
   "metadata": {
    "execution": {
     "iopub.execute_input": "2022-03-07T12:14:37.726466Z",
     "iopub.status.busy": "2022-03-07T12:14:37.725896Z",
     "iopub.status.idle": "2022-03-07T12:14:37.729874Z",
     "shell.execute_reply": "2022-03-07T12:14:37.730457Z"
    },
    "papermill": {
     "duration": 0.041715,
     "end_time": "2022-03-07T12:14:37.730597",
     "exception": false,
     "start_time": "2022-03-07T12:14:37.688882",
     "status": "completed"
    },
    "tags": []
   },
   "outputs": [],
   "source": [
    "#hide\n",
    "LAST_DATE_I, dt_cols = get_dates(df)\n",
    "dt_today =dt_cols[LAST_DATE_I]\n",
    "# dt_5day = dt_cols[LAST_DATE_I - 5]\n",
    "dt_yday = dt_cols[LAST_DATE_I - 1]"
   ]
  },
  {
   "cell_type": "code",
   "execution_count": 11,
   "id": "restricted-sheriff",
   "metadata": {
    "execution": {
     "iopub.execute_input": "2022-03-07T12:14:37.805366Z",
     "iopub.status.busy": "2022-03-07T12:14:37.802999Z",
     "iopub.status.idle": "2022-03-07T12:14:37.810178Z",
     "shell.execute_reply": "2022-03-07T12:14:37.809654Z"
    },
    "papermill": {
     "duration": 0.047235,
     "end_time": "2022-03-07T12:14:37.810298",
     "exception": false,
     "start_time": "2022-03-07T12:14:37.763063",
     "status": "completed"
    },
    "tags": []
   },
   "outputs": [],
   "source": [
    "#hide\n",
    "dfc_cases = dft_cases.groupby(COL_REGION)[dt_today].sum()\n",
    "dfc_deaths = dft_deaths.groupby(COL_REGION)[dt_today].sum()\n",
    "# dfp_cases = dft_cases.groupby(COL_REGION)[dt_5day].sum()\n",
    "# dfp_deaths = dft_deaths.groupby(COL_REGION)[dt_5day].sum()\n",
    "dfp_cases = dft_cases.groupby(COL_REGION)[dt_yday].sum()\n",
    "dfp_deaths = dft_deaths.groupby(COL_REGION)[dt_yday].sum()"
   ]
  },
  {
   "cell_type": "code",
   "execution_count": 12,
   "id": "deluxe-hepatitis",
   "metadata": {
    "execution": {
     "iopub.execute_input": "2022-03-07T12:14:37.884834Z",
     "iopub.status.busy": "2022-03-07T12:14:37.884233Z",
     "iopub.status.idle": "2022-03-07T12:14:37.888746Z",
     "shell.execute_reply": "2022-03-07T12:14:37.889209Z"
    },
    "papermill": {
     "duration": 0.046373,
     "end_time": "2022-03-07T12:14:37.889354",
     "exception": false,
     "start_time": "2022-03-07T12:14:37.842981",
     "status": "completed"
    },
    "tags": []
   },
   "outputs": [],
   "source": [
    "#hide\n",
    "df_table = (pd.DataFrame(dict(Cases = dfc_cases, Deaths = dfc_deaths, PCases = dfp_cases, PDeaths = dfp_deaths))\n",
    "            .sort_values(by = ['Cases','Deaths'], ascending = [False, False])\n",
    "            .reset_index())"
   ]
  },
  {
   "cell_type": "code",
   "execution_count": 13,
   "id": "educational-chancellor",
   "metadata": {
    "execution": {
     "iopub.execute_input": "2022-03-07T12:14:37.968472Z",
     "iopub.status.busy": "2022-03-07T12:14:37.967841Z",
     "iopub.status.idle": "2022-03-07T12:14:37.984391Z",
     "shell.execute_reply": "2022-03-07T12:14:37.983897Z"
    },
    "papermill": {
     "duration": 0.062536,
     "end_time": "2022-03-07T12:14:37.984521",
     "exception": false,
     "start_time": "2022-03-07T12:14:37.921985",
     "status": "completed"
    },
    "tags": []
   },
   "outputs": [
    {
     "data": {
      "text/html": [
       "<div>\n",
       "<style scoped>\n",
       "    .dataframe tbody tr th:only-of-type {\n",
       "        vertical-align: middle;\n",
       "    }\n",
       "\n",
       "    .dataframe tbody tr th {\n",
       "        vertical-align: top;\n",
       "    }\n",
       "\n",
       "    .dataframe thead th {\n",
       "        text-align: right;\n",
       "    }\n",
       "</style>\n",
       "<table border=\"1\" class=\"dataframe\">\n",
       "  <thead>\n",
       "    <tr style=\"text-align: right;\">\n",
       "      <th></th>\n",
       "      <th>Country/Region</th>\n",
       "      <th>Cases</th>\n",
       "      <th>Deaths</th>\n",
       "      <th>PCases</th>\n",
       "      <th>PDeaths</th>\n",
       "      <th>Cases (+)</th>\n",
       "      <th>Deaths (+)</th>\n",
       "      <th>Fatality Rate</th>\n",
       "      <th>Continent</th>\n",
       "    </tr>\n",
       "  </thead>\n",
       "  <tbody>\n",
       "    <tr>\n",
       "      <th>0</th>\n",
       "      <td>US</td>\n",
       "      <td>79271466</td>\n",
       "      <td>958621</td>\n",
       "      <td>79265726</td>\n",
       "      <td>958437</td>\n",
       "      <td>5740</td>\n",
       "      <td>184</td>\n",
       "      <td>1.21</td>\n",
       "      <td>North America</td>\n",
       "    </tr>\n",
       "    <tr>\n",
       "      <th>1</th>\n",
       "      <td>India</td>\n",
       "      <td>42967315</td>\n",
       "      <td>515102</td>\n",
       "      <td>42962953</td>\n",
       "      <td>515036</td>\n",
       "      <td>4362</td>\n",
       "      <td>66</td>\n",
       "      <td>1.20</td>\n",
       "      <td>Asia</td>\n",
       "    </tr>\n",
       "    <tr>\n",
       "      <th>2</th>\n",
       "      <td>Brazil</td>\n",
       "      <td>29056525</td>\n",
       "      <td>652438</td>\n",
       "      <td>29040800</td>\n",
       "      <td>652216</td>\n",
       "      <td>15725</td>\n",
       "      <td>222</td>\n",
       "      <td>2.25</td>\n",
       "      <td>South America</td>\n",
       "    </tr>\n",
       "    <tr>\n",
       "      <th>3</th>\n",
       "      <td>France</td>\n",
       "      <td>23236908</td>\n",
       "      <td>140296</td>\n",
       "      <td>23191580</td>\n",
       "      <td>140264</td>\n",
       "      <td>45328</td>\n",
       "      <td>32</td>\n",
       "      <td>0.60</td>\n",
       "      <td>Europe</td>\n",
       "    </tr>\n",
       "    <tr>\n",
       "      <th>4</th>\n",
       "      <td>United Kingdom</td>\n",
       "      <td>19256835</td>\n",
       "      <td>162582</td>\n",
       "      <td>19256835</td>\n",
       "      <td>162582</td>\n",
       "      <td>0</td>\n",
       "      <td>0</td>\n",
       "      <td>0.84</td>\n",
       "      <td>Europe</td>\n",
       "    </tr>\n",
       "  </tbody>\n",
       "</table>\n",
       "</div>"
      ],
      "text/plain": [
       "   Country/Region     Cases  Deaths    PCases  PDeaths  Cases (+)  Deaths (+)  \\\n",
       "0              US  79271466  958621  79265726   958437       5740         184   \n",
       "1           India  42967315  515102  42962953   515036       4362          66   \n",
       "2          Brazil  29056525  652438  29040800   652216      15725         222   \n",
       "3          France  23236908  140296  23191580   140264      45328          32   \n",
       "4  United Kingdom  19256835  162582  19256835   162582          0           0   \n",
       "\n",
       "   Fatality Rate      Continent  \n",
       "0           1.21  North America  \n",
       "1           1.20           Asia  \n",
       "2           2.25  South America  \n",
       "3           0.60         Europe  \n",
       "4           0.84         Europe  "
      ]
     },
     "execution_count": 13,
     "metadata": {},
     "output_type": "execute_result"
    }
   ],
   "source": [
    "#hide\n",
    "for c in 'Cases, Deaths'.split(', '):\n",
    "    df_table[f'{c} (+)'] = (df_table[c] - df_table[f'P{c}']).clip(0)\n",
    "    #Clip ça veut dire, les chiffres negatif sont interdit\n",
    "df_table['Fatality Rate'] = (100* df_table['Deaths']/ df_table['Cases']).round(2)\n",
    "df_table['Continent'] = df_table['Country/Region'].map(mapping['map.continent'])\n",
    "df_table.head(5)"
   ]
  },
  {
   "cell_type": "code",
   "execution_count": 14,
   "id": "aboriginal-bulgaria",
   "metadata": {
    "execution": {
     "iopub.execute_input": "2022-03-07T12:14:38.058144Z",
     "iopub.status.busy": "2022-03-07T12:14:38.057532Z",
     "iopub.status.idle": "2022-03-07T12:14:38.059786Z",
     "shell.execute_reply": "2022-03-07T12:14:38.060251Z"
    },
    "papermill": {
     "duration": 0.042771,
     "end_time": "2022-03-07T12:14:38.060401",
     "exception": false,
     "start_time": "2022-03-07T12:14:38.017630",
     "status": "completed"
    },
    "tags": []
   },
   "outputs": [],
   "source": [
    "#hide\n",
    "#delete problematic countries from table\n",
    "df_table = df_table[~df_table['Country/Region'].isin(['Cape Verde', 'Cruise Ship', 'Kosovo'])]"
   ]
  },
  {
   "cell_type": "code",
   "execution_count": 15,
   "id": "fantastic-effect",
   "metadata": {
    "execution": {
     "iopub.execute_input": "2022-03-07T12:14:38.133979Z",
     "iopub.status.busy": "2022-03-07T12:14:38.133377Z",
     "iopub.status.idle": "2022-03-07T12:14:38.152941Z",
     "shell.execute_reply": "2022-03-07T12:14:38.153427Z"
    },
    "papermill": {
     "duration": 0.060356,
     "end_time": "2022-03-07T12:14:38.153567",
     "exception": false,
     "start_time": "2022-03-07T12:14:38.093211",
     "status": "completed"
    },
    "tags": []
   },
   "outputs": [
    {
     "data": {
      "text/html": [
       "<div>\n",
       "<style scoped>\n",
       "    .dataframe tbody tr th:only-of-type {\n",
       "        vertical-align: middle;\n",
       "    }\n",
       "\n",
       "    .dataframe tbody tr th {\n",
       "        vertical-align: top;\n",
       "    }\n",
       "\n",
       "    .dataframe thead th {\n",
       "        text-align: right;\n",
       "    }\n",
       "</style>\n",
       "<table border=\"1\" class=\"dataframe\">\n",
       "  <thead>\n",
       "    <tr style=\"text-align: right;\">\n",
       "      <th></th>\n",
       "      <th>Country/Region</th>\n",
       "      <th>Cases</th>\n",
       "      <th>Deaths</th>\n",
       "      <th>PCases</th>\n",
       "      <th>PDeaths</th>\n",
       "      <th>Cases (+)</th>\n",
       "      <th>Deaths (+)</th>\n",
       "      <th>Fatality Rate</th>\n",
       "      <th>Continent</th>\n",
       "    </tr>\n",
       "  </thead>\n",
       "  <tbody>\n",
       "    <tr>\n",
       "      <th>0</th>\n",
       "      <td>US</td>\n",
       "      <td>79271466</td>\n",
       "      <td>958621</td>\n",
       "      <td>79265726</td>\n",
       "      <td>958437</td>\n",
       "      <td>5740</td>\n",
       "      <td>184</td>\n",
       "      <td>1.2</td>\n",
       "      <td>North America</td>\n",
       "    </tr>\n",
       "    <tr>\n",
       "      <th>1</th>\n",
       "      <td>India</td>\n",
       "      <td>42967315</td>\n",
       "      <td>515102</td>\n",
       "      <td>42962953</td>\n",
       "      <td>515036</td>\n",
       "      <td>4362</td>\n",
       "      <td>66</td>\n",
       "      <td>1.2</td>\n",
       "      <td>Asia</td>\n",
       "    </tr>\n",
       "    <tr>\n",
       "      <th>2</th>\n",
       "      <td>Brazil</td>\n",
       "      <td>29056525</td>\n",
       "      <td>652438</td>\n",
       "      <td>29040800</td>\n",
       "      <td>652216</td>\n",
       "      <td>15725</td>\n",
       "      <td>222</td>\n",
       "      <td>2.2</td>\n",
       "      <td>South America</td>\n",
       "    </tr>\n",
       "    <tr>\n",
       "      <th>3</th>\n",
       "      <td>France</td>\n",
       "      <td>23236908</td>\n",
       "      <td>140296</td>\n",
       "      <td>23191580</td>\n",
       "      <td>140264</td>\n",
       "      <td>45328</td>\n",
       "      <td>32</td>\n",
       "      <td>0.6</td>\n",
       "      <td>Europe</td>\n",
       "    </tr>\n",
       "    <tr>\n",
       "      <th>4</th>\n",
       "      <td>United Kingdom</td>\n",
       "      <td>19256835</td>\n",
       "      <td>162582</td>\n",
       "      <td>19256835</td>\n",
       "      <td>162582</td>\n",
       "      <td>0</td>\n",
       "      <td>0</td>\n",
       "      <td>0.8</td>\n",
       "      <td>Europe</td>\n",
       "    </tr>\n",
       "  </tbody>\n",
       "</table>\n",
       "</div>"
      ],
      "text/plain": [
       "   Country/Region     Cases  Deaths    PCases  PDeaths  Cases (+)  Deaths (+)  \\\n",
       "0              US  79271466  958621  79265726   958437       5740         184   \n",
       "1           India  42967315  515102  42962953   515036       4362          66   \n",
       "2          Brazil  29056525  652438  29040800   652216      15725         222   \n",
       "3          France  23236908  140296  23191580   140264      45328          32   \n",
       "4  United Kingdom  19256835  162582  19256835   162582          0           0   \n",
       "\n",
       "   Fatality Rate      Continent  \n",
       "0            1.2  North America  \n",
       "1            1.2           Asia  \n",
       "2            2.2  South America  \n",
       "3            0.6         Europe  \n",
       "4            0.8         Europe  "
      ]
     },
     "execution_count": 15,
     "metadata": {},
     "output_type": "execute_result"
    }
   ],
   "source": [
    "#hide\n",
    "df_table = (pd.DataFrame(dict(Cases=dfc_cases, Deaths=dfc_deaths, PCases=dfp_cases, PDeaths=dfp_deaths))\n",
    "             .sort_values(by=['Cases', 'Deaths'], ascending=[False, False])\n",
    "             .reset_index())\n",
    "df_table.rename(columns={'index': 'Country/Region'}, inplace=True)\n",
    "for c in 'Cases, Deaths'.split(', '):\n",
    "    df_table[f'{c} (+)'] = (df_table[c] - df_table[f'P{c}']).clip(0)  # DATA BUG\n",
    "df_table['Fatality Rate'] = (100 * df_table['Deaths'] / df_table['Cases']).round(1)\n",
    "df_table['Continent'] = df_table['Country/Region'].map(mapping['map.continent'])\n",
    "df_table.head(5)"
   ]
  },
  {
   "cell_type": "code",
   "execution_count": 16,
   "id": "fewer-occasion",
   "metadata": {
    "execution": {
     "iopub.execute_input": "2022-03-07T12:14:38.226075Z",
     "iopub.status.busy": "2022-03-07T12:14:38.225498Z",
     "iopub.status.idle": "2022-03-07T12:14:38.229022Z",
     "shell.execute_reply": "2022-03-07T12:14:38.229473Z"
    },
    "papermill": {
     "duration": 0.04332,
     "end_time": "2022-03-07T12:14:38.229611",
     "exception": false,
     "start_time": "2022-03-07T12:14:38.186291",
     "status": "completed"
    },
    "tags": []
   },
   "outputs": [],
   "source": [
    "#hide\n",
    "#delete problematic countries from table\n",
    "df_table = df_table[~df_table['Country/Region'].isin(['Cape Verde', 'Cruise Ship', 'Kosovo'])]"
   ]
  },
  {
   "cell_type": "code",
   "execution_count": 17,
   "id": "related-center",
   "metadata": {
    "execution": {
     "iopub.execute_input": "2022-03-07T12:14:38.304092Z",
     "iopub.status.busy": "2022-03-07T12:14:38.303495Z",
     "iopub.status.idle": "2022-03-07T12:14:38.316457Z",
     "shell.execute_reply": "2022-03-07T12:14:38.315944Z"
    },
    "papermill": {
     "duration": 0.054084,
     "end_time": "2022-03-07T12:14:38.316585",
     "exception": false,
     "start_time": "2022-03-07T12:14:38.262501",
     "status": "completed"
    },
    "tags": []
   },
   "outputs": [],
   "source": [
    "#hide\n",
    "metrics = [df_table.columns[index] for index in [1,2,5,6]]\n",
    "# s_china = df_table[df_table['Country/Region'].eq('China')][metrics].sum().add_prefix('China ')\n",
    "s_us = df_table[df_table['Country/Region'].eq('US')][metrics].sum().add_prefix('US ')\n",
    "s_eu = df_table[df_table['Continent'].eq('Europe')][metrics].sum().add_prefix('EU ')\n",
    "s_ind = df_table[df_table['Country/Region'].eq('India')][metrics].sum().add_prefix('India ')\n",
    "summary = {'updated': pd.to_datetime(dt_today), 'since': pd.to_datetime(dt_yday)}\n",
    "summary = {'updated': pd.to_datetime(dt_today), 'since': pd.to_datetime(dt_yday)}\n",
    "summary = {**summary, **df_table[metrics].sum(), **s_ind, **s_us, **s_eu}"
   ]
  },
  {
   "cell_type": "code",
   "execution_count": 18,
   "id": "engaging-syndrome",
   "metadata": {
    "execution": {
     "iopub.execute_input": "2022-03-07T12:14:38.395428Z",
     "iopub.status.busy": "2022-03-07T12:14:38.391488Z",
     "iopub.status.idle": "2022-03-07T12:14:38.410677Z",
     "shell.execute_reply": "2022-03-07T12:14:38.410189Z"
    },
    "papermill": {
     "duration": 0.05893,
     "end_time": "2022-03-07T12:14:38.410801",
     "exception": false,
     "start_time": "2022-03-07T12:14:38.351871",
     "status": "completed"
    },
    "tags": []
   },
   "outputs": [],
   "source": [
    "#hide\n",
    "dft_ct_new_cases = dft_cases.groupby(COL_REGION)[dt_cols].sum().diff(axis=1).fillna(0).astype(int)"
   ]
  },
  {
   "cell_type": "code",
   "execution_count": 19,
   "id": "neutral-assignment",
   "metadata": {
    "execution": {
     "iopub.execute_input": "2022-03-07T12:14:38.484677Z",
     "iopub.status.busy": "2022-03-07T12:14:38.484108Z",
     "iopub.status.idle": "2022-03-07T12:14:38.486798Z",
     "shell.execute_reply": "2022-03-07T12:14:38.486295Z"
    },
    "papermill": {
     "duration": 0.041764,
     "end_time": "2022-03-07T12:14:38.486913",
     "exception": false,
     "start_time": "2022-03-07T12:14:38.445149",
     "status": "completed"
    },
    "tags": []
   },
   "outputs": [],
   "source": [
    "#hide\n",
    "everydaycases = dft_ct_new_cases.cumsum(axis=1)"
   ]
  },
  {
   "cell_type": "code",
   "execution_count": 20,
   "id": "parliamentary-calgary",
   "metadata": {
    "execution": {
     "iopub.execute_input": "2022-03-07T12:14:38.560431Z",
     "iopub.status.busy": "2022-03-07T12:14:38.559802Z",
     "iopub.status.idle": "2022-03-07T12:14:39.213313Z",
     "shell.execute_reply": "2022-03-07T12:14:39.212593Z"
    },
    "papermill": {
     "duration": 0.692545,
     "end_time": "2022-03-07T12:14:39.213501",
     "exception": false,
     "start_time": "2022-03-07T12:14:38.520956",
     "status": "completed"
    },
    "tags": []
   },
   "outputs": [],
   "source": [
    "#hide\n",
    "import pandas as pd\n",
    "import matplotlib.pyplot as plt\n",
    "import matplotlib.ticker as ticker\n",
    "import matplotlib.animation as animation\n",
    "from IPython.display import HTML"
   ]
  },
  {
   "cell_type": "code",
   "execution_count": 21,
   "id": "lasting-extraction",
   "metadata": {
    "execution": {
     "iopub.execute_input": "2022-03-07T12:14:39.292520Z",
     "iopub.status.busy": "2022-03-07T12:14:39.291927Z",
     "iopub.status.idle": "2022-03-07T12:14:39.298356Z",
     "shell.execute_reply": "2022-03-07T12:14:39.297873Z"
    },
    "papermill": {
     "duration": 0.049451,
     "end_time": "2022-03-07T12:14:39.298494",
     "exception": false,
     "start_time": "2022-03-07T12:14:39.249043",
     "status": "completed"
    },
    "tags": []
   },
   "outputs": [],
   "source": [
    "#hide\n",
    "t = everydaycases.stack()"
   ]
  },
  {
   "cell_type": "code",
   "execution_count": 22,
   "id": "premier-sleeve",
   "metadata": {
    "execution": {
     "iopub.execute_input": "2022-03-07T12:14:39.369825Z",
     "iopub.status.busy": "2022-03-07T12:14:39.369215Z",
     "iopub.status.idle": "2022-03-07T12:14:39.381775Z",
     "shell.execute_reply": "2022-03-07T12:14:39.381262Z"
    },
    "papermill": {
     "duration": 0.05089,
     "end_time": "2022-03-07T12:14:39.381900",
     "exception": false,
     "start_time": "2022-03-07T12:14:39.331010",
     "status": "completed"
    },
    "tags": []
   },
   "outputs": [],
   "source": [
    "#hide\n",
    "g = t.reset_index(['Country/Region'])"
   ]
  },
  {
   "cell_type": "code",
   "execution_count": 23,
   "id": "distributed-pittsburgh",
   "metadata": {
    "execution": {
     "iopub.execute_input": "2022-03-07T12:14:39.454471Z",
     "iopub.status.busy": "2022-03-07T12:14:39.453870Z",
     "iopub.status.idle": "2022-03-07T12:14:39.457808Z",
     "shell.execute_reply": "2022-03-07T12:14:39.457335Z"
    },
    "papermill": {
     "duration": 0.042013,
     "end_time": "2022-03-07T12:14:39.457925",
     "exception": false,
     "start_time": "2022-03-07T12:14:39.415912",
     "status": "completed"
    },
    "tags": []
   },
   "outputs": [],
   "source": [
    "#hide\n",
    "g.index.name = 'date'"
   ]
  },
  {
   "cell_type": "code",
   "execution_count": 24,
   "id": "naked-donor",
   "metadata": {
    "execution": {
     "iopub.execute_input": "2022-03-07T12:14:39.532406Z",
     "iopub.status.busy": "2022-03-07T12:14:39.531219Z",
     "iopub.status.idle": "2022-03-07T12:14:39.534107Z",
     "shell.execute_reply": "2022-03-07T12:14:39.533305Z"
    },
    "papermill": {
     "duration": 0.041804,
     "end_time": "2022-03-07T12:14:39.534294",
     "exception": false,
     "start_time": "2022-03-07T12:14:39.492490",
     "status": "completed"
    },
    "tags": []
   },
   "outputs": [],
   "source": [
    "# #hide\n",
    "# g = g.reset_index(['date'])"
   ]
  },
  {
   "cell_type": "code",
   "execution_count": 25,
   "id": "incomplete-mustang",
   "metadata": {
    "execution": {
     "iopub.execute_input": "2022-03-07T12:14:39.604364Z",
     "iopub.status.busy": "2022-03-07T12:14:39.603763Z",
     "iopub.status.idle": "2022-03-07T12:14:39.606052Z",
     "shell.execute_reply": "2022-03-07T12:14:39.605556Z"
    },
    "papermill": {
     "duration": 0.037994,
     "end_time": "2022-03-07T12:14:39.606162",
     "exception": false,
     "start_time": "2022-03-07T12:14:39.568168",
     "status": "completed"
    },
    "tags": []
   },
   "outputs": [],
   "source": [
    "#hide\n",
    "# g.head()"
   ]
  },
  {
   "cell_type": "code",
   "execution_count": 26,
   "id": "specific-kruger",
   "metadata": {
    "execution": {
     "iopub.execute_input": "2022-03-07T12:14:39.676590Z",
     "iopub.status.busy": "2022-03-07T12:14:39.675985Z",
     "iopub.status.idle": "2022-03-07T12:14:39.678125Z",
     "shell.execute_reply": "2022-03-07T12:14:39.678639Z"
    },
    "papermill": {
     "duration": 0.038755,
     "end_time": "2022-03-07T12:14:39.678770",
     "exception": false,
     "start_time": "2022-03-07T12:14:39.640015",
     "status": "completed"
    },
    "tags": []
   },
   "outputs": [],
   "source": [
    "#hide\n",
    "# g.columns = ['date','country','cases']"
   ]
  },
  {
   "cell_type": "code",
   "execution_count": 27,
   "id": "tender-conversion",
   "metadata": {
    "execution": {
     "iopub.execute_input": "2022-03-07T12:14:39.748840Z",
     "iopub.status.busy": "2022-03-07T12:14:39.748255Z",
     "iopub.status.idle": "2022-03-07T12:14:39.750131Z",
     "shell.execute_reply": "2022-03-07T12:14:39.750674Z"
    },
    "papermill": {
     "duration": 0.03978,
     "end_time": "2022-03-07T12:14:39.750811",
     "exception": false,
     "start_time": "2022-03-07T12:14:39.711031",
     "status": "completed"
    },
    "tags": []
   },
   "outputs": [],
   "source": [
    "#hide\n",
    "# g['continent'] = g.country"
   ]
  },
  {
   "cell_type": "code",
   "execution_count": 28,
   "id": "substantial-wilderness",
   "metadata": {
    "execution": {
     "iopub.execute_input": "2022-03-07T12:14:39.821130Z",
     "iopub.status.busy": "2022-03-07T12:14:39.820310Z",
     "iopub.status.idle": "2022-03-07T12:14:39.824723Z",
     "shell.execute_reply": "2022-03-07T12:14:39.825339Z"
    },
    "papermill": {
     "duration": 0.0413,
     "end_time": "2022-03-07T12:14:39.825520",
     "exception": false,
     "start_time": "2022-03-07T12:14:39.784220",
     "status": "completed"
    },
    "tags": []
   },
   "outputs": [],
   "source": [
    "#hide\n",
    "# cols = list(g.columns.values)"
   ]
  },
  {
   "cell_type": "code",
   "execution_count": 29,
   "id": "solved-farming",
   "metadata": {
    "execution": {
     "iopub.execute_input": "2022-03-07T12:14:39.898780Z",
     "iopub.status.busy": "2022-03-07T12:14:39.898227Z",
     "iopub.status.idle": "2022-03-07T12:14:39.900747Z",
     "shell.execute_reply": "2022-03-07T12:14:39.900279Z"
    },
    "papermill": {
     "duration": 0.040468,
     "end_time": "2022-03-07T12:14:39.900856",
     "exception": false,
     "start_time": "2022-03-07T12:14:39.860388",
     "status": "completed"
    },
    "tags": []
   },
   "outputs": [],
   "source": [
    "#hide\n",
    "# cols.insert(0, cols.pop())"
   ]
  },
  {
   "cell_type": "code",
   "execution_count": 30,
   "id": "executed-adoption",
   "metadata": {
    "execution": {
     "iopub.execute_input": "2022-03-07T12:14:39.971187Z",
     "iopub.status.busy": "2022-03-07T12:14:39.970600Z",
     "iopub.status.idle": "2022-03-07T12:14:39.974055Z",
     "shell.execute_reply": "2022-03-07T12:14:39.974475Z"
    },
    "papermill": {
     "duration": 0.039996,
     "end_time": "2022-03-07T12:14:39.974602",
     "exception": false,
     "start_time": "2022-03-07T12:14:39.934606",
     "status": "completed"
    },
    "tags": []
   },
   "outputs": [],
   "source": [
    "#hide\n",
    "# g = g[cols]"
   ]
  },
  {
   "cell_type": "code",
   "execution_count": 31,
   "id": "subject-dublin",
   "metadata": {
    "execution": {
     "iopub.execute_input": "2022-03-07T12:14:40.044663Z",
     "iopub.status.busy": "2022-03-07T12:14:40.044109Z",
     "iopub.status.idle": "2022-03-07T12:14:40.047136Z",
     "shell.execute_reply": "2022-03-07T12:14:40.046668Z"
    },
    "papermill": {
     "duration": 0.039498,
     "end_time": "2022-03-07T12:14:40.047255",
     "exception": false,
     "start_time": "2022-03-07T12:14:40.007757",
     "status": "completed"
    },
    "tags": []
   },
   "outputs": [],
   "source": [
    "#hide\n",
    "# g['continent'] = g['continent'].map(mapping['map.continent'])"
   ]
  },
  {
   "cell_type": "code",
   "execution_count": 32,
   "id": "freelance-scout",
   "metadata": {
    "execution": {
     "iopub.execute_input": "2022-03-07T12:14:40.117193Z",
     "iopub.status.busy": "2022-03-07T12:14:40.116711Z",
     "iopub.status.idle": "2022-03-07T12:14:40.119264Z",
     "shell.execute_reply": "2022-03-07T12:14:40.119755Z"
    },
    "papermill": {
     "duration": 0.039646,
     "end_time": "2022-03-07T12:14:40.119880",
     "exception": false,
     "start_time": "2022-03-07T12:14:40.080234",
     "status": "completed"
    },
    "tags": []
   },
   "outputs": [],
   "source": [
    "#hide\n",
    "# g.head()"
   ]
  },
  {
   "cell_type": "code",
   "execution_count": 33,
   "id": "limited-engine",
   "metadata": {
    "execution": {
     "iopub.execute_input": "2022-03-07T12:14:40.190712Z",
     "iopub.status.busy": "2022-03-07T12:14:40.189674Z",
     "iopub.status.idle": "2022-03-07T12:14:40.194355Z",
     "shell.execute_reply": "2022-03-07T12:14:40.193860Z"
    },
    "papermill": {
     "duration": 0.04231,
     "end_time": "2022-03-07T12:14:40.194462",
     "exception": false,
     "start_time": "2022-03-07T12:14:40.152152",
     "status": "completed"
    },
    "tags": []
   },
   "outputs": [],
   "source": [
    "# hide\n",
    "# g['date'] = g['date'].astype('datetime64[ns]')"
   ]
  },
  {
   "cell_type": "code",
   "execution_count": 34,
   "id": "sophisticated-supervisor",
   "metadata": {
    "execution": {
     "iopub.execute_input": "2022-03-07T12:14:40.266783Z",
     "iopub.status.busy": "2022-03-07T12:14:40.265191Z",
     "iopub.status.idle": "2022-03-07T12:14:40.267639Z",
     "shell.execute_reply": "2022-03-07T12:14:40.268279Z"
    },
    "papermill": {
     "duration": 0.040449,
     "end_time": "2022-03-07T12:14:40.268445",
     "exception": false,
     "start_time": "2022-03-07T12:14:40.227996",
     "status": "completed"
    },
    "tags": []
   },
   "outputs": [],
   "source": [
    "#hide\n",
    "# g['date'] = g.date.dt.dayofyear"
   ]
  },
  {
   "cell_type": "code",
   "execution_count": 35,
   "id": "inside-dubai",
   "metadata": {
    "execution": {
     "iopub.execute_input": "2022-03-07T12:14:40.343189Z",
     "iopub.status.busy": "2022-03-07T12:14:40.342134Z",
     "iopub.status.idle": "2022-03-07T12:14:40.346416Z",
     "shell.execute_reply": "2022-03-07T12:14:40.346872Z"
    },
    "papermill": {
     "duration": 0.043295,
     "end_time": "2022-03-07T12:14:40.347009",
     "exception": false,
     "start_time": "2022-03-07T12:14:40.303714",
     "status": "completed"
    },
    "tags": []
   },
   "outputs": [],
   "source": [
    "#hide\n",
    "# g = g.rename(columns= {'continent':'group','country':'name','cases':'value'})"
   ]
  },
  {
   "cell_type": "code",
   "execution_count": 36,
   "id": "fleet-motorcycle",
   "metadata": {
    "execution": {
     "iopub.execute_input": "2022-03-07T12:14:40.419581Z",
     "iopub.status.busy": "2022-03-07T12:14:40.418549Z",
     "iopub.status.idle": "2022-03-07T12:14:40.420733Z",
     "shell.execute_reply": "2022-03-07T12:14:40.421552Z"
    },
    "papermill": {
     "duration": 0.040398,
     "end_time": "2022-03-07T12:14:40.421772",
     "exception": false,
     "start_time": "2022-03-07T12:14:40.381374",
     "status": "completed"
    },
    "tags": []
   },
   "outputs": [],
   "source": [
    "#hide\n",
    "# cols = ['name','group','day','value']"
   ]
  },
  {
   "cell_type": "code",
   "execution_count": 37,
   "id": "continued-sleeping",
   "metadata": {
    "execution": {
     "iopub.execute_input": "2022-03-07T12:14:40.495001Z",
     "iopub.status.busy": "2022-03-07T12:14:40.493945Z",
     "iopub.status.idle": "2022-03-07T12:14:40.498664Z",
     "shell.execute_reply": "2022-03-07T12:14:40.498229Z"
    },
    "papermill": {
     "duration": 0.041818,
     "end_time": "2022-03-07T12:14:40.498775",
     "exception": false,
     "start_time": "2022-03-07T12:14:40.456957",
     "status": "completed"
    },
    "tags": []
   },
   "outputs": [],
   "source": [
    "#hide\n",
    "# g.rename(columns= {'date':'day'},inplace = True)"
   ]
  },
  {
   "cell_type": "code",
   "execution_count": 38,
   "id": "major-fight",
   "metadata": {
    "execution": {
     "iopub.execute_input": "2022-03-07T12:14:40.569556Z",
     "iopub.status.busy": "2022-03-07T12:14:40.568506Z",
     "iopub.status.idle": "2022-03-07T12:14:40.570648Z",
     "shell.execute_reply": "2022-03-07T12:14:40.571462Z"
    },
    "papermill": {
     "duration": 0.03935,
     "end_time": "2022-03-07T12:14:40.571680",
     "exception": false,
     "start_time": "2022-03-07T12:14:40.532330",
     "status": "completed"
    },
    "tags": []
   },
   "outputs": [],
   "source": [
    "#hide\n",
    "# g = g[cols]"
   ]
  },
  {
   "cell_type": "code",
   "execution_count": 39,
   "id": "structured-mobile",
   "metadata": {
    "execution": {
     "iopub.execute_input": "2022-03-07T12:14:40.646408Z",
     "iopub.status.busy": "2022-03-07T12:14:40.645362Z",
     "iopub.status.idle": "2022-03-07T12:14:40.650079Z",
     "shell.execute_reply": "2022-03-07T12:14:40.649602Z"
    },
    "papermill": {
     "duration": 0.042924,
     "end_time": "2022-03-07T12:14:40.650200",
     "exception": false,
     "start_time": "2022-03-07T12:14:40.607276",
     "status": "completed"
    },
    "tags": []
   },
   "outputs": [],
   "source": [
    "# #hide\n",
    "# g = g[g.group.notna()]"
   ]
  },
  {
   "cell_type": "code",
   "execution_count": 40,
   "id": "determined-closing",
   "metadata": {
    "execution": {
     "iopub.execute_input": "2022-03-07T12:14:40.723589Z",
     "iopub.status.busy": "2022-03-07T12:14:40.722512Z",
     "iopub.status.idle": "2022-03-07T12:14:40.727342Z",
     "shell.execute_reply": "2022-03-07T12:14:40.728174Z"
    },
    "papermill": {
     "duration": 0.043638,
     "end_time": "2022-03-07T12:14:40.728408",
     "exception": false,
     "start_time": "2022-03-07T12:14:40.684770",
     "status": "completed"
    },
    "tags": []
   },
   "outputs": [],
   "source": [
    "# #hide\n",
    "# colors = dict(zip(\n",
    "#     [\"Oceania\", \"Europe\", \"Asia\", \"South America\", \"Middle East\", \"North America\", \"Africa\"],\n",
    "#     [\"#adb0ff\", \"#ffb3ff\", \"#90d595\", \"#e48381\", \"#aafbff\", \"#f7bb5f\", \"#eafb50\"]\n",
    "# ))\n",
    "# group_lk = g.set_index('name')['group'].to_dict()"
   ]
  },
  {
   "cell_type": "code",
   "execution_count": null,
   "id": "gross-drinking",
   "metadata": {
    "papermill": {
     "duration": 0.034261,
     "end_time": "2022-03-07T12:14:40.797489",
     "exception": false,
     "start_time": "2022-03-07T12:14:40.763228",
     "status": "completed"
    },
    "tags": []
   },
   "outputs": [],
   "source": []
  },
  {
   "cell_type": "code",
   "execution_count": 41,
   "id": "subject-macintosh",
   "metadata": {
    "execution": {
     "iopub.execute_input": "2022-03-07T12:14:40.872656Z",
     "iopub.status.busy": "2022-03-07T12:14:40.872030Z",
     "iopub.status.idle": "2022-03-07T12:14:40.874394Z",
     "shell.execute_reply": "2022-03-07T12:14:40.874845Z"
    },
    "papermill": {
     "duration": 0.042979,
     "end_time": "2022-03-07T12:14:40.874992",
     "exception": false,
     "start_time": "2022-03-07T12:14:40.832013",
     "status": "completed"
    },
    "tags": []
   },
   "outputs": [],
   "source": [
    "# #hide\n",
    "# fig, ax = plt.subplots(figsize=(15, 8))\n",
    "\n",
    "# def draw_barchart(current_day):\n",
    "#     dff = g[g['day'].eq(current_day)].sort_values(by='value', ascending=True).tail(10)\n",
    "#     ax.clear()\n",
    "#     ax.barh(dff['name'], dff['value'], color=[colors[group_lk[x]] for x in dff['name']])\n",
    "#     dx = dff['value'].max() / 200\n",
    "    \n",
    "#     for i, (value, name) in enumerate(zip(dff['value'], dff['name'])):\n",
    "#         ax.text(value-dx, i,     name,           size=14, weight=600, ha='right', va='bottom')\n",
    "#         ax.text(value-dx, i-.25, group_lk[name], size=10, color='#444444', ha='right', va='baseline')\n",
    "#         ax.text(value+dx, i,     f'{value:,.0f}',  size=14, ha='left',  va='center')\n",
    "#     ax.text(1, 0.4, current_day, transform=ax.transAxes, color='#777777', size=46, ha='right', weight=800)\n",
    "#     ax.text(0, 1.06, 'Population (thousands)', transform=ax.transAxes, size=12, color='#777777')\n",
    "#     ax.xaxis.set_major_formatter(ticker.StrMethodFormatter('{x:,.0f}'))\n",
    "#     ax.xaxis.set_ticks_position('top')\n",
    "#     ax.tick_params(axis='x', colors='#777777', labelsize=12)\n",
    "#     ax.set_yticks([])\n",
    "#     ax.margins(0, 0.01)\n",
    "#     ax.grid(which='major', axis='x', linestyle='-')\n",
    "#     ax.set_axisbelow(True)\n",
    "    \n",
    "#     ax.text(0, 1.15, 'Coronavirus',\n",
    "#             transform=ax.transAxes, size=24, weight=600, ha='left', va='top')\n",
    "# #     ax.text(1, 0, 'by @pratapvardhan; credit @jburnmurdoch', transform=ax.transAxes, color='#777777', ha='right',\n",
    "# #             bbox=dict(facecolor='white', alpha=0.8, edgecolor='white'))\n",
    "#     plt.box(False)"
   ]
  },
  {
   "cell_type": "code",
   "execution_count": 42,
   "id": "sexual-wages",
   "metadata": {
    "execution": {
     "iopub.execute_input": "2022-03-07T12:14:40.948802Z",
     "iopub.status.busy": "2022-03-07T12:14:40.948164Z",
     "iopub.status.idle": "2022-03-07T12:14:40.951176Z",
     "shell.execute_reply": "2022-03-07T12:14:40.951714Z"
    },
    "papermill": {
     "duration": 0.042404,
     "end_time": "2022-03-07T12:14:40.951861",
     "exception": false,
     "start_time": "2022-03-07T12:14:40.909457",
     "status": "completed"
    },
    "tags": []
   },
   "outputs": [],
   "source": [
    "# #hide_input\n",
    "# fig, ax = plt.subplots(figsize=(15, 8))\n",
    "# animator = animation.FuncAnimation(fig, draw_barchart, frames=range(g.day.values.min(), g.day.values.max()))\n",
    "# HTML(animator.to_jshtml())\n",
    "# # or use animator.to_html5_video() or animator.save() "
   ]
  },
  {
   "cell_type": "code",
   "execution_count": null,
   "id": "australian-container",
   "metadata": {
    "papermill": {
     "duration": 0.033035,
     "end_time": "2022-03-07T12:14:41.016952",
     "exception": false,
     "start_time": "2022-03-07T12:14:40.983917",
     "status": "completed"
    },
    "tags": []
   },
   "outputs": [],
   "source": []
  },
  {
   "cell_type": "code",
   "execution_count": null,
   "id": "mediterranean-pontiac",
   "metadata": {
    "papermill": {
     "duration": 0.033496,
     "end_time": "2022-03-07T12:14:41.084165",
     "exception": false,
     "start_time": "2022-03-07T12:14:41.050669",
     "status": "completed"
    },
    "tags": []
   },
   "outputs": [],
   "source": []
  },
  {
   "cell_type": "code",
   "execution_count": null,
   "id": "aging-legislature",
   "metadata": {
    "papermill": {
     "duration": 0.033904,
     "end_time": "2022-03-07T12:14:41.152499",
     "exception": false,
     "start_time": "2022-03-07T12:14:41.118595",
     "status": "completed"
    },
    "tags": []
   },
   "outputs": [],
   "source": []
  }
 ],
 "metadata": {
  "kernelspec": {
   "display_name": "Python 3",
   "language": "python",
   "name": "python3"
  },
  "language_info": {
   "codemirror_mode": {
    "name": "ipython",
    "version": 3
   },
   "file_extension": ".py",
   "mimetype": "text/x-python",
   "name": "python",
   "nbconvert_exporter": "python",
   "pygments_lexer": "ipython3",
   "version": "3.6.15"
  },
  "papermill": {
   "duration": 6.70349,
   "end_time": "2022-03-07T12:14:41.605533",
   "environment_variables": {},
   "exception": null,
   "input_path": "2020-03-21-covid19exp.ipynb",
   "output_path": "2020-03-21-covid19exp.ipynb",
   "parameters": {},
   "start_time": "2022-03-07T12:14:34.902043",
   "version": "2.0.0"
  }
 },
 "nbformat": 4,
 "nbformat_minor": 5
}