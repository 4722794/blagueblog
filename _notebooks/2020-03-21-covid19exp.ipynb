{
 "cells": [
  {
   "cell_type": "markdown",
   "id": "muslim-click",
   "metadata": {
    "papermill": {
     "duration": 0.03864,
     "end_time": "2021-04-07T00:06:26.281507",
     "exception": false,
     "start_time": "2021-04-07T00:06:26.242867",
     "status": "completed"
    },
    "tags": []
   },
   "source": [
    "# COVID-19 Case Race\n",
    "> A race chart to see rising cases around the world\n",
    "\n",
    "- author: Hargun Oberoi\n",
    "- image: images/covid-overview.png\n",
    "- hide: false\n",
    "- badges: false"
   ]
  },
  {
   "cell_type": "code",
   "execution_count": 1,
   "id": "proof-material",
   "metadata": {
    "execution": {
     "iopub.execute_input": "2021-04-07T00:06:26.360979Z",
     "iopub.status.busy": "2021-04-07T00:06:26.356233Z",
     "iopub.status.idle": "2021-04-07T00:06:26.715914Z",
     "shell.execute_reply": "2021-04-07T00:06:26.715018Z"
    },
    "papermill": {
     "duration": 0.401096,
     "end_time": "2021-04-07T00:06:26.716152",
     "exception": false,
     "start_time": "2021-04-07T00:06:26.315056",
     "status": "completed"
    },
    "tags": []
   },
   "outputs": [],
   "source": [
    "#hide\n",
    "import numpy as np\n",
    "import pandas as pd\n",
    "from jinja2 import Template\n",
    "from IPython.display import HTML"
   ]
  },
  {
   "cell_type": "code",
   "execution_count": 2,
   "id": "developed-terminology",
   "metadata": {
    "execution": {
     "iopub.execute_input": "2021-04-07T00:06:26.795078Z",
     "iopub.status.busy": "2021-04-07T00:06:26.794462Z",
     "iopub.status.idle": "2021-04-07T00:06:26.796802Z",
     "shell.execute_reply": "2021-04-07T00:06:26.796319Z"
    },
    "papermill": {
     "duration": 0.040447,
     "end_time": "2021-04-07T00:06:26.796924",
     "exception": false,
     "start_time": "2021-04-07T00:06:26.756477",
     "status": "completed"
    },
    "tags": []
   },
   "outputs": [],
   "source": [
    "#hide\n",
    "\n",
    "# FETCH\n",
    "base_url = 'https://raw.githubusercontent.com/pratapvardhan/notebooks/master/covid19/'\n",
    "paths = {\n",
    "    'mapping': base_url + 'mapping_countries.csv',\n",
    "    'overview': base_url + 'overview.tpl'\n",
    "}"
   ]
  },
  {
   "cell_type": "code",
   "execution_count": 3,
   "id": "dynamic-saver",
   "metadata": {
    "execution": {
     "iopub.execute_input": "2021-04-07T00:06:26.874680Z",
     "iopub.status.busy": "2021-04-07T00:06:26.874090Z",
     "iopub.status.idle": "2021-04-07T00:06:26.876333Z",
     "shell.execute_reply": "2021-04-07T00:06:26.876863Z"
    },
    "papermill": {
     "duration": 0.047351,
     "end_time": "2021-04-07T00:06:26.876995",
     "exception": false,
     "start_time": "2021-04-07T00:06:26.829644",
     "status": "completed"
    },
    "tags": []
   },
   "outputs": [
    {
     "data": {
      "text/plain": [
       "'https://raw.githubusercontent.com/pratapvardhan/notebooks/master/covid19/mapping_countries.csv'"
      ]
     },
     "execution_count": 3,
     "metadata": {},
     "output_type": "execute_result"
    }
   ],
   "source": [
    "#hide\n",
    "paths['mapping']"
   ]
  },
  {
   "cell_type": "code",
   "execution_count": 4,
   "id": "urban-software",
   "metadata": {
    "execution": {
     "iopub.execute_input": "2021-04-07T00:06:26.948144Z",
     "iopub.status.busy": "2021-04-07T00:06:26.947615Z",
     "iopub.status.idle": "2021-04-07T00:06:26.949760Z",
     "shell.execute_reply": "2021-04-07T00:06:26.949274Z"
    },
    "papermill": {
     "duration": 0.040498,
     "end_time": "2021-04-07T00:06:26.949961",
     "exception": false,
     "start_time": "2021-04-07T00:06:26.909463",
     "status": "completed"
    },
    "tags": []
   },
   "outputs": [],
   "source": [
    "#hide\n",
    "def get_mappings(url):\n",
    "    df = pd.read_csv(url)\n",
    "    return {\n",
    "        'df': df,\n",
    "        'replace.country': dict(df.dropna(subset=['Name']).set_index('Country')['Name']),\n",
    "        'map.continent': dict(df.set_index('Name')['Continent'])\n",
    "    }"
   ]
  },
  {
   "cell_type": "code",
   "execution_count": 5,
   "id": "intimate-machinery",
   "metadata": {
    "execution": {
     "iopub.execute_input": "2021-04-07T00:06:27.022355Z",
     "iopub.status.busy": "2021-04-07T00:06:27.021757Z",
     "iopub.status.idle": "2021-04-07T00:06:27.064800Z",
     "shell.execute_reply": "2021-04-07T00:06:27.064248Z"
    },
    "papermill": {
     "duration": 0.08225,
     "end_time": "2021-04-07T00:06:27.064938",
     "exception": false,
     "start_time": "2021-04-07T00:06:26.982688",
     "status": "completed"
    },
    "tags": []
   },
   "outputs": [],
   "source": [
    "#hide\n",
    "mapping = get_mappings(paths['mapping'])"
   ]
  },
  {
   "cell_type": "code",
   "execution_count": 6,
   "id": "certified-tactics",
   "metadata": {
    "execution": {
     "iopub.execute_input": "2021-04-07T00:06:27.140480Z",
     "iopub.status.busy": "2021-04-07T00:06:27.139896Z",
     "iopub.status.idle": "2021-04-07T00:06:27.144398Z",
     "shell.execute_reply": "2021-04-07T00:06:27.143881Z"
    },
    "papermill": {
     "duration": 0.044541,
     "end_time": "2021-04-07T00:06:27.144516",
     "exception": false,
     "start_time": "2021-04-07T00:06:27.099975",
     "status": "completed"
    },
    "tags": []
   },
   "outputs": [],
   "source": [
    "#hide\n",
    "def get_template(path):\n",
    "    from urllib.parse import urlparse\n",
    "    if bool(urlparse(path).netloc):\n",
    "        from urllib.request import urlopen\n",
    "        return urlopen(path).read().decode('utf8')\n",
    "    return open(path).read()"
   ]
  },
  {
   "cell_type": "code",
   "execution_count": 7,
   "id": "realistic-blast",
   "metadata": {
    "execution": {
     "iopub.execute_input": "2021-04-07T00:06:27.222232Z",
     "iopub.status.busy": "2021-04-07T00:06:27.221616Z",
     "iopub.status.idle": "2021-04-07T00:06:27.224585Z",
     "shell.execute_reply": "2021-04-07T00:06:27.225316Z"
    },
    "papermill": {
     "duration": 0.045835,
     "end_time": "2021-04-07T00:06:27.225463",
     "exception": false,
     "start_time": "2021-04-07T00:06:27.179628",
     "status": "completed"
    },
    "tags": []
   },
   "outputs": [],
   "source": [
    "#hide\n",
    "def get_frame(name):\n",
    "    url = (\n",
    "        'https://raw.githubusercontent.com/CSSEGISandData/COVID-19/master/csse_covid_19_data/'\n",
    "        f'csse_covid_19_time_series/time_series_covid19_{name}_global.csv')\n",
    "    df = pd.read_csv(url)\n",
    "    # rename countries\n",
    "    df['Country/Region'] = df['Country/Region'].replace(mapping['replace.country'])\n",
    "    return df"
   ]
  },
  {
   "cell_type": "code",
   "execution_count": 8,
   "id": "affiliated-characterization",
   "metadata": {
    "execution": {
     "iopub.execute_input": "2021-04-07T00:06:27.299324Z",
     "iopub.status.busy": "2021-04-07T00:06:27.298752Z",
     "iopub.status.idle": "2021-04-07T00:06:27.302059Z",
     "shell.execute_reply": "2021-04-07T00:06:27.301539Z"
    },
    "papermill": {
     "duration": 0.043933,
     "end_time": "2021-04-07T00:06:27.302175",
     "exception": false,
     "start_time": "2021-04-07T00:06:27.258242",
     "status": "completed"
    },
    "tags": []
   },
   "outputs": [],
   "source": [
    "#hide\n",
    "def get_dates(df):\n",
    "    dt_cols = df.columns[~df.columns.isin(['Province/State', 'Country/Region', 'Lat', 'Long'])]\n",
    "    LAST_DATE_I = -1\n",
    "    # sometimes last column may be empty, then go backwards\n",
    "    for i in range(-1, -len(dt_cols), -1):\n",
    "        if not df[dt_cols[i]].fillna(0).eq(0).all():\n",
    "            LAST_DATE_I = i\n",
    "            break\n",
    "    return LAST_DATE_I, dt_cols"
   ]
  },
  {
   "cell_type": "code",
   "execution_count": 9,
   "id": "recent-optimization",
   "metadata": {
    "execution": {
     "iopub.execute_input": "2021-04-07T00:06:27.372718Z",
     "iopub.status.busy": "2021-04-07T00:06:27.372073Z",
     "iopub.status.idle": "2021-04-07T00:06:27.685943Z",
     "shell.execute_reply": "2021-04-07T00:06:27.684637Z"
    },
    "papermill": {
     "duration": 0.351957,
     "end_time": "2021-04-07T00:06:27.686286",
     "exception": false,
     "start_time": "2021-04-07T00:06:27.334329",
     "status": "completed"
    },
    "tags": []
   },
   "outputs": [],
   "source": [
    "#hide\n",
    "COL_REGION = 'Country/Region'\n",
    "# Confirmed, Recovered, Deaths\n",
    "df = get_frame('confirmed')\n",
    "# dft_: timeseries, dfc_: today country agg\n",
    "dft_cases = df\n",
    "dft_deaths = get_frame('deaths')\n",
    "dft_recovered = get_frame('recovered')\n",
    "LAST_DATE_I, dt_cols = get_dates(df)"
   ]
  },
  {
   "cell_type": "code",
   "execution_count": 10,
   "id": "absolute-copper",
   "metadata": {
    "execution": {
     "iopub.execute_input": "2021-04-07T00:06:27.760838Z",
     "iopub.status.busy": "2021-04-07T00:06:27.760291Z",
     "iopub.status.idle": "2021-04-07T00:06:27.762692Z",
     "shell.execute_reply": "2021-04-07T00:06:27.762034Z"
    },
    "papermill": {
     "duration": 0.04199,
     "end_time": "2021-04-07T00:06:27.762820",
     "exception": false,
     "start_time": "2021-04-07T00:06:27.720830",
     "status": "completed"
    },
    "tags": []
   },
   "outputs": [],
   "source": [
    "#hide\n",
    "LAST_DATE_I, dt_cols = get_dates(df)\n",
    "dt_today =dt_cols[LAST_DATE_I]\n",
    "# dt_5day = dt_cols[LAST_DATE_I - 5]\n",
    "dt_yday = dt_cols[LAST_DATE_I - 1]"
   ]
  },
  {
   "cell_type": "code",
   "execution_count": 11,
   "id": "restricted-sheriff",
   "metadata": {
    "execution": {
     "iopub.execute_input": "2021-04-07T00:06:27.836006Z",
     "iopub.status.busy": "2021-04-07T00:06:27.835432Z",
     "iopub.status.idle": "2021-04-07T00:06:27.843316Z",
     "shell.execute_reply": "2021-04-07T00:06:27.842883Z"
    },
    "papermill": {
     "duration": 0.04845,
     "end_time": "2021-04-07T00:06:27.843428",
     "exception": false,
     "start_time": "2021-04-07T00:06:27.794978",
     "status": "completed"
    },
    "tags": []
   },
   "outputs": [],
   "source": [
    "#hide\n",
    "dfc_cases = dft_cases.groupby(COL_REGION)[dt_today].sum()\n",
    "dfc_deaths = dft_deaths.groupby(COL_REGION)[dt_today].sum()\n",
    "# dfp_cases = dft_cases.groupby(COL_REGION)[dt_5day].sum()\n",
    "# dfp_deaths = dft_deaths.groupby(COL_REGION)[dt_5day].sum()\n",
    "dfp_cases = dft_cases.groupby(COL_REGION)[dt_yday].sum()\n",
    "dfp_deaths = dft_deaths.groupby(COL_REGION)[dt_yday].sum()"
   ]
  },
  {
   "cell_type": "code",
   "execution_count": 12,
   "id": "deluxe-hepatitis",
   "metadata": {
    "execution": {
     "iopub.execute_input": "2021-04-07T00:06:27.917143Z",
     "iopub.status.busy": "2021-04-07T00:06:27.916614Z",
     "iopub.status.idle": "2021-04-07T00:06:27.922186Z",
     "shell.execute_reply": "2021-04-07T00:06:27.922655Z"
    },
    "papermill": {
     "duration": 0.046747,
     "end_time": "2021-04-07T00:06:27.922793",
     "exception": false,
     "start_time": "2021-04-07T00:06:27.876046",
     "status": "completed"
    },
    "tags": []
   },
   "outputs": [],
   "source": [
    "#hide\n",
    "df_table = (pd.DataFrame(dict(Cases = dfc_cases, Deaths = dfc_deaths, PCases = dfp_cases, PDeaths = dfp_deaths))\n",
    "            .sort_values(by = ['Cases','Deaths'], ascending = [False, False])\n",
    "            .reset_index())"
   ]
  },
  {
   "cell_type": "code",
   "execution_count": 13,
   "id": "educational-chancellor",
   "metadata": {
    "execution": {
     "iopub.execute_input": "2021-04-07T00:06:28.004676Z",
     "iopub.status.busy": "2021-04-07T00:06:28.004128Z",
     "iopub.status.idle": "2021-04-07T00:06:28.011636Z",
     "shell.execute_reply": "2021-04-07T00:06:28.011186Z"
    },
    "papermill": {
     "duration": 0.05757,
     "end_time": "2021-04-07T00:06:28.011740",
     "exception": false,
     "start_time": "2021-04-07T00:06:27.954170",
     "status": "completed"
    },
    "tags": []
   },
   "outputs": [
    {
     "data": {
      "text/html": [
       "<div>\n",
       "<style scoped>\n",
       "    .dataframe tbody tr th:only-of-type {\n",
       "        vertical-align: middle;\n",
       "    }\n",
       "\n",
       "    .dataframe tbody tr th {\n",
       "        vertical-align: top;\n",
       "    }\n",
       "\n",
       "    .dataframe thead th {\n",
       "        text-align: right;\n",
       "    }\n",
       "</style>\n",
       "<table border=\"1\" class=\"dataframe\">\n",
       "  <thead>\n",
       "    <tr style=\"text-align: right;\">\n",
       "      <th></th>\n",
       "      <th>Country/Region</th>\n",
       "      <th>Cases</th>\n",
       "      <th>Deaths</th>\n",
       "      <th>PCases</th>\n",
       "      <th>PDeaths</th>\n",
       "      <th>Cases (+)</th>\n",
       "      <th>Deaths (+)</th>\n",
       "      <th>Fatality Rate</th>\n",
       "      <th>Continent</th>\n",
       "    </tr>\n",
       "  </thead>\n",
       "  <tbody>\n",
       "    <tr>\n",
       "      <th>0</th>\n",
       "      <td>US</td>\n",
       "      <td>30785390</td>\n",
       "      <td>555613</td>\n",
       "      <td>30707596</td>\n",
       "      <td>555098</td>\n",
       "      <td>77794</td>\n",
       "      <td>515</td>\n",
       "      <td>1.80</td>\n",
       "      <td>North America</td>\n",
       "    </tr>\n",
       "    <tr>\n",
       "      <th>1</th>\n",
       "      <td>Brazil</td>\n",
       "      <td>13013601</td>\n",
       "      <td>332752</td>\n",
       "      <td>12984956</td>\n",
       "      <td>331433</td>\n",
       "      <td>28645</td>\n",
       "      <td>1319</td>\n",
       "      <td>2.56</td>\n",
       "      <td>South America</td>\n",
       "    </tr>\n",
       "    <tr>\n",
       "      <th>2</th>\n",
       "      <td>India</td>\n",
       "      <td>12686049</td>\n",
       "      <td>165547</td>\n",
       "      <td>12589067</td>\n",
       "      <td>165101</td>\n",
       "      <td>96982</td>\n",
       "      <td>446</td>\n",
       "      <td>1.30</td>\n",
       "      <td>Asia</td>\n",
       "    </tr>\n",
       "    <tr>\n",
       "      <th>3</th>\n",
       "      <td>France</td>\n",
       "      <td>4893971</td>\n",
       "      <td>97005</td>\n",
       "      <td>4883174</td>\n",
       "      <td>96808</td>\n",
       "      <td>10797</td>\n",
       "      <td>197</td>\n",
       "      <td>1.98</td>\n",
       "      <td>Europe</td>\n",
       "    </tr>\n",
       "    <tr>\n",
       "      <th>4</th>\n",
       "      <td>Russia</td>\n",
       "      <td>4538101</td>\n",
       "      <td>99049</td>\n",
       "      <td>4529576</td>\n",
       "      <td>98713</td>\n",
       "      <td>8525</td>\n",
       "      <td>336</td>\n",
       "      <td>2.18</td>\n",
       "      <td>Europe</td>\n",
       "    </tr>\n",
       "  </tbody>\n",
       "</table>\n",
       "</div>"
      ],
      "text/plain": [
       "  Country/Region     Cases  Deaths    PCases  PDeaths  Cases (+)  Deaths (+)  \\\n",
       "0             US  30785390  555613  30707596   555098      77794         515   \n",
       "1         Brazil  13013601  332752  12984956   331433      28645        1319   \n",
       "2          India  12686049  165547  12589067   165101      96982         446   \n",
       "3         France   4893971   97005   4883174    96808      10797         197   \n",
       "4         Russia   4538101   99049   4529576    98713       8525         336   \n",
       "\n",
       "   Fatality Rate      Continent  \n",
       "0           1.80  North America  \n",
       "1           2.56  South America  \n",
       "2           1.30           Asia  \n",
       "3           1.98         Europe  \n",
       "4           2.18         Europe  "
      ]
     },
     "execution_count": 13,
     "metadata": {},
     "output_type": "execute_result"
    }
   ],
   "source": [
    "#hide\n",
    "for c in 'Cases, Deaths'.split(', '):\n",
    "    df_table[f'{c} (+)'] = (df_table[c] - df_table[f'P{c}']).clip(0)\n",
    "    #Clip ça veut dire, les chiffres negatif sont interdit\n",
    "df_table['Fatality Rate'] = (100* df_table['Deaths']/ df_table['Cases']).round(2)\n",
    "df_table['Continent'] = df_table['Country/Region'].map(mapping['map.continent'])\n",
    "df_table.head(5)"
   ]
  },
  {
   "cell_type": "code",
   "execution_count": 14,
   "id": "aboriginal-bulgaria",
   "metadata": {
    "execution": {
     "iopub.execute_input": "2021-04-07T00:06:28.086155Z",
     "iopub.status.busy": "2021-04-07T00:06:28.085598Z",
     "iopub.status.idle": "2021-04-07T00:06:28.088301Z",
     "shell.execute_reply": "2021-04-07T00:06:28.088809Z"
    },
    "papermill": {
     "duration": 0.043736,
     "end_time": "2021-04-07T00:06:28.088927",
     "exception": false,
     "start_time": "2021-04-07T00:06:28.045191",
     "status": "completed"
    },
    "tags": []
   },
   "outputs": [],
   "source": [
    "#hide\n",
    "#delete problematic countries from table\n",
    "df_table = df_table[~df_table['Country/Region'].isin(['Cape Verde', 'Cruise Ship', 'Kosovo'])]"
   ]
  },
  {
   "cell_type": "code",
   "execution_count": 15,
   "id": "fantastic-effect",
   "metadata": {
    "execution": {
     "iopub.execute_input": "2021-04-07T00:06:28.172021Z",
     "iopub.status.busy": "2021-04-07T00:06:28.171444Z",
     "iopub.status.idle": "2021-04-07T00:06:28.190555Z",
     "shell.execute_reply": "2021-04-07T00:06:28.191000Z"
    },
    "papermill": {
     "duration": 0.068222,
     "end_time": "2021-04-07T00:06:28.191135",
     "exception": false,
     "start_time": "2021-04-07T00:06:28.122913",
     "status": "completed"
    },
    "tags": []
   },
   "outputs": [
    {
     "data": {
      "text/html": [
       "<div>\n",
       "<style scoped>\n",
       "    .dataframe tbody tr th:only-of-type {\n",
       "        vertical-align: middle;\n",
       "    }\n",
       "\n",
       "    .dataframe tbody tr th {\n",
       "        vertical-align: top;\n",
       "    }\n",
       "\n",
       "    .dataframe thead th {\n",
       "        text-align: right;\n",
       "    }\n",
       "</style>\n",
       "<table border=\"1\" class=\"dataframe\">\n",
       "  <thead>\n",
       "    <tr style=\"text-align: right;\">\n",
       "      <th></th>\n",
       "      <th>Country/Region</th>\n",
       "      <th>Cases</th>\n",
       "      <th>Deaths</th>\n",
       "      <th>PCases</th>\n",
       "      <th>PDeaths</th>\n",
       "      <th>Cases (+)</th>\n",
       "      <th>Deaths (+)</th>\n",
       "      <th>Fatality Rate</th>\n",
       "      <th>Continent</th>\n",
       "    </tr>\n",
       "  </thead>\n",
       "  <tbody>\n",
       "    <tr>\n",
       "      <th>0</th>\n",
       "      <td>US</td>\n",
       "      <td>30785390</td>\n",
       "      <td>555613</td>\n",
       "      <td>30707596</td>\n",
       "      <td>555098</td>\n",
       "      <td>77794</td>\n",
       "      <td>515</td>\n",
       "      <td>1.8</td>\n",
       "      <td>North America</td>\n",
       "    </tr>\n",
       "    <tr>\n",
       "      <th>1</th>\n",
       "      <td>Brazil</td>\n",
       "      <td>13013601</td>\n",
       "      <td>332752</td>\n",
       "      <td>12984956</td>\n",
       "      <td>331433</td>\n",
       "      <td>28645</td>\n",
       "      <td>1319</td>\n",
       "      <td>2.6</td>\n",
       "      <td>South America</td>\n",
       "    </tr>\n",
       "    <tr>\n",
       "      <th>2</th>\n",
       "      <td>India</td>\n",
       "      <td>12686049</td>\n",
       "      <td>165547</td>\n",
       "      <td>12589067</td>\n",
       "      <td>165101</td>\n",
       "      <td>96982</td>\n",
       "      <td>446</td>\n",
       "      <td>1.3</td>\n",
       "      <td>Asia</td>\n",
       "    </tr>\n",
       "    <tr>\n",
       "      <th>3</th>\n",
       "      <td>France</td>\n",
       "      <td>4893971</td>\n",
       "      <td>97005</td>\n",
       "      <td>4883174</td>\n",
       "      <td>96808</td>\n",
       "      <td>10797</td>\n",
       "      <td>197</td>\n",
       "      <td>2.0</td>\n",
       "      <td>Europe</td>\n",
       "    </tr>\n",
       "    <tr>\n",
       "      <th>4</th>\n",
       "      <td>Russia</td>\n",
       "      <td>4538101</td>\n",
       "      <td>99049</td>\n",
       "      <td>4529576</td>\n",
       "      <td>98713</td>\n",
       "      <td>8525</td>\n",
       "      <td>336</td>\n",
       "      <td>2.2</td>\n",
       "      <td>Europe</td>\n",
       "    </tr>\n",
       "  </tbody>\n",
       "</table>\n",
       "</div>"
      ],
      "text/plain": [
       "  Country/Region     Cases  Deaths    PCases  PDeaths  Cases (+)  Deaths (+)  \\\n",
       "0             US  30785390  555613  30707596   555098      77794         515   \n",
       "1         Brazil  13013601  332752  12984956   331433      28645        1319   \n",
       "2          India  12686049  165547  12589067   165101      96982         446   \n",
       "3         France   4893971   97005   4883174    96808      10797         197   \n",
       "4         Russia   4538101   99049   4529576    98713       8525         336   \n",
       "\n",
       "   Fatality Rate      Continent  \n",
       "0            1.8  North America  \n",
       "1            2.6  South America  \n",
       "2            1.3           Asia  \n",
       "3            2.0         Europe  \n",
       "4            2.2         Europe  "
      ]
     },
     "execution_count": 15,
     "metadata": {},
     "output_type": "execute_result"
    }
   ],
   "source": [
    "#hide\n",
    "df_table = (pd.DataFrame(dict(Cases=dfc_cases, Deaths=dfc_deaths, PCases=dfp_cases, PDeaths=dfp_deaths))\n",
    "             .sort_values(by=['Cases', 'Deaths'], ascending=[False, False])\n",
    "             .reset_index())\n",
    "df_table.rename(columns={'index': 'Country/Region'}, inplace=True)\n",
    "for c in 'Cases, Deaths'.split(', '):\n",
    "    df_table[f'{c} (+)'] = (df_table[c] - df_table[f'P{c}']).clip(0)  # DATA BUG\n",
    "df_table['Fatality Rate'] = (100 * df_table['Deaths'] / df_table['Cases']).round(1)\n",
    "df_table['Continent'] = df_table['Country/Region'].map(mapping['map.continent'])\n",
    "df_table.head(5)"
   ]
  },
  {
   "cell_type": "code",
   "execution_count": 16,
   "id": "fewer-occasion",
   "metadata": {
    "execution": {
     "iopub.execute_input": "2021-04-07T00:06:28.265319Z",
     "iopub.status.busy": "2021-04-07T00:06:28.264744Z",
     "iopub.status.idle": "2021-04-07T00:06:28.266975Z",
     "shell.execute_reply": "2021-04-07T00:06:28.266492Z"
    },
    "papermill": {
     "duration": 0.042272,
     "end_time": "2021-04-07T00:06:28.267085",
     "exception": false,
     "start_time": "2021-04-07T00:06:28.224813",
     "status": "completed"
    },
    "tags": []
   },
   "outputs": [],
   "source": [
    "#hide\n",
    "#delete problematic countries from table\n",
    "df_table = df_table[~df_table['Country/Region'].isin(['Cape Verde', 'Cruise Ship', 'Kosovo'])]"
   ]
  },
  {
   "cell_type": "code",
   "execution_count": 17,
   "id": "related-center",
   "metadata": {
    "execution": {
     "iopub.execute_input": "2021-04-07T00:06:28.344688Z",
     "iopub.status.busy": "2021-04-07T00:06:28.344110Z",
     "iopub.status.idle": "2021-04-07T00:06:28.358939Z",
     "shell.execute_reply": "2021-04-07T00:06:28.358449Z"
    },
    "papermill": {
     "duration": 0.056994,
     "end_time": "2021-04-07T00:06:28.359055",
     "exception": false,
     "start_time": "2021-04-07T00:06:28.302061",
     "status": "completed"
    },
    "tags": []
   },
   "outputs": [],
   "source": [
    "#hide\n",
    "metrics = [df_table.columns[index] for index in [1,2,5,6]]\n",
    "# s_china = df_table[df_table['Country/Region'].eq('China')][metrics].sum().add_prefix('China ')\n",
    "s_us = df_table[df_table['Country/Region'].eq('US')][metrics].sum().add_prefix('US ')\n",
    "s_eu = df_table[df_table['Continent'].eq('Europe')][metrics].sum().add_prefix('EU ')\n",
    "s_ind = df_table[df_table['Country/Region'].eq('India')][metrics].sum().add_prefix('India ')\n",
    "summary = {'updated': pd.to_datetime(dt_today), 'since': pd.to_datetime(dt_yday)}\n",
    "summary = {'updated': pd.to_datetime(dt_today), 'since': pd.to_datetime(dt_yday)}\n",
    "summary = {**summary, **df_table[metrics].sum(), **s_ind, **s_us, **s_eu}"
   ]
  },
  {
   "cell_type": "code",
   "execution_count": 18,
   "id": "engaging-syndrome",
   "metadata": {
    "execution": {
     "iopub.execute_input": "2021-04-07T00:06:28.434800Z",
     "iopub.status.busy": "2021-04-07T00:06:28.433807Z",
     "iopub.status.idle": "2021-04-07T00:06:28.447868Z",
     "shell.execute_reply": "2021-04-07T00:06:28.448361Z"
    },
    "papermill": {
     "duration": 0.054876,
     "end_time": "2021-04-07T00:06:28.448494",
     "exception": false,
     "start_time": "2021-04-07T00:06:28.393618",
     "status": "completed"
    },
    "tags": []
   },
   "outputs": [],
   "source": [
    "#hide\n",
    "dft_ct_new_cases = dft_cases.groupby(COL_REGION)[dt_cols].sum().diff(axis=1).fillna(0).astype(int)"
   ]
  },
  {
   "cell_type": "code",
   "execution_count": 19,
   "id": "neutral-assignment",
   "metadata": {
    "execution": {
     "iopub.execute_input": "2021-04-07T00:06:28.527246Z",
     "iopub.status.busy": "2021-04-07T00:06:28.526663Z",
     "iopub.status.idle": "2021-04-07T00:06:28.529373Z",
     "shell.execute_reply": "2021-04-07T00:06:28.529902Z"
    },
    "papermill": {
     "duration": 0.046274,
     "end_time": "2021-04-07T00:06:28.530044",
     "exception": false,
     "start_time": "2021-04-07T00:06:28.483770",
     "status": "completed"
    },
    "tags": []
   },
   "outputs": [],
   "source": [
    "#hide\n",
    "everydaycases = dft_ct_new_cases.cumsum(axis=1)"
   ]
  },
  {
   "cell_type": "code",
   "execution_count": 20,
   "id": "parliamentary-calgary",
   "metadata": {
    "execution": {
     "iopub.execute_input": "2021-04-07T00:06:28.604870Z",
     "iopub.status.busy": "2021-04-07T00:06:28.604289Z",
     "iopub.status.idle": "2021-04-07T00:06:29.283850Z",
     "shell.execute_reply": "2021-04-07T00:06:29.282981Z"
    },
    "papermill": {
     "duration": 0.719009,
     "end_time": "2021-04-07T00:06:29.284069",
     "exception": false,
     "start_time": "2021-04-07T00:06:28.565060",
     "status": "completed"
    },
    "tags": []
   },
   "outputs": [],
   "source": [
    "#hide\n",
    "import pandas as pd\n",
    "import matplotlib.pyplot as plt\n",
    "import matplotlib.ticker as ticker\n",
    "import matplotlib.animation as animation\n",
    "from IPython.display import HTML"
   ]
  },
  {
   "cell_type": "code",
   "execution_count": 21,
   "id": "lasting-extraction",
   "metadata": {
    "execution": {
     "iopub.execute_input": "2021-04-07T00:06:29.363967Z",
     "iopub.status.busy": "2021-04-07T00:06:29.363241Z",
     "iopub.status.idle": "2021-04-07T00:06:29.370140Z",
     "shell.execute_reply": "2021-04-07T00:06:29.369613Z"
    },
    "papermill": {
     "duration": 0.050219,
     "end_time": "2021-04-07T00:06:29.370264",
     "exception": false,
     "start_time": "2021-04-07T00:06:29.320045",
     "status": "completed"
    },
    "tags": []
   },
   "outputs": [],
   "source": [
    "#hide\n",
    "t = everydaycases.stack()"
   ]
  },
  {
   "cell_type": "code",
   "execution_count": 22,
   "id": "premier-sleeve",
   "metadata": {
    "execution": {
     "iopub.execute_input": "2021-04-07T00:06:29.454103Z",
     "iopub.status.busy": "2021-04-07T00:06:29.453492Z",
     "iopub.status.idle": "2021-04-07T00:06:29.462996Z",
     "shell.execute_reply": "2021-04-07T00:06:29.462521Z"
    },
    "papermill": {
     "duration": 0.057972,
     "end_time": "2021-04-07T00:06:29.463120",
     "exception": false,
     "start_time": "2021-04-07T00:06:29.405148",
     "status": "completed"
    },
    "tags": []
   },
   "outputs": [],
   "source": [
    "#hide\n",
    "g = t.reset_index(['Country/Region'])"
   ]
  },
  {
   "cell_type": "code",
   "execution_count": 23,
   "id": "distributed-pittsburgh",
   "metadata": {
    "execution": {
     "iopub.execute_input": "2021-04-07T00:06:29.539725Z",
     "iopub.status.busy": "2021-04-07T00:06:29.539146Z",
     "iopub.status.idle": "2021-04-07T00:06:29.541654Z",
     "shell.execute_reply": "2021-04-07T00:06:29.542245Z"
    },
    "papermill": {
     "duration": 0.04357,
     "end_time": "2021-04-07T00:06:29.542383",
     "exception": false,
     "start_time": "2021-04-07T00:06:29.498813",
     "status": "completed"
    },
    "tags": []
   },
   "outputs": [],
   "source": [
    "#hide\n",
    "g.index.name = 'date'"
   ]
  },
  {
   "cell_type": "code",
   "execution_count": 24,
   "id": "naked-donor",
   "metadata": {
    "execution": {
     "iopub.execute_input": "2021-04-07T00:06:29.617603Z",
     "iopub.status.busy": "2021-04-07T00:06:29.617025Z",
     "iopub.status.idle": "2021-04-07T00:06:29.619416Z",
     "shell.execute_reply": "2021-04-07T00:06:29.619906Z"
    },
    "papermill": {
     "duration": 0.042097,
     "end_time": "2021-04-07T00:06:29.620043",
     "exception": false,
     "start_time": "2021-04-07T00:06:29.577946",
     "status": "completed"
    },
    "tags": []
   },
   "outputs": [],
   "source": [
    "# #hide\n",
    "# g = g.reset_index(['date'])"
   ]
  },
  {
   "cell_type": "code",
   "execution_count": 25,
   "id": "incomplete-mustang",
   "metadata": {
    "execution": {
     "iopub.execute_input": "2021-04-07T00:06:29.693537Z",
     "iopub.status.busy": "2021-04-07T00:06:29.692961Z",
     "iopub.status.idle": "2021-04-07T00:06:29.694883Z",
     "shell.execute_reply": "2021-04-07T00:06:29.695442Z"
    },
    "papermill": {
     "duration": 0.041212,
     "end_time": "2021-04-07T00:06:29.695575",
     "exception": false,
     "start_time": "2021-04-07T00:06:29.654363",
     "status": "completed"
    },
    "tags": []
   },
   "outputs": [],
   "source": [
    "#hide\n",
    "# g.head()"
   ]
  },
  {
   "cell_type": "code",
   "execution_count": 26,
   "id": "specific-kruger",
   "metadata": {
    "execution": {
     "iopub.execute_input": "2021-04-07T00:06:29.768193Z",
     "iopub.status.busy": "2021-04-07T00:06:29.767663Z",
     "iopub.status.idle": "2021-04-07T00:06:29.769936Z",
     "shell.execute_reply": "2021-04-07T00:06:29.770465Z"
    },
    "papermill": {
     "duration": 0.041003,
     "end_time": "2021-04-07T00:06:29.770591",
     "exception": false,
     "start_time": "2021-04-07T00:06:29.729588",
     "status": "completed"
    },
    "tags": []
   },
   "outputs": [],
   "source": [
    "#hide\n",
    "# g.columns = ['date','country','cases']"
   ]
  },
  {
   "cell_type": "code",
   "execution_count": 27,
   "id": "tender-conversion",
   "metadata": {
    "execution": {
     "iopub.execute_input": "2021-04-07T00:06:29.842033Z",
     "iopub.status.busy": "2021-04-07T00:06:29.841450Z",
     "iopub.status.idle": "2021-04-07T00:06:29.843634Z",
     "shell.execute_reply": "2021-04-07T00:06:29.844091Z"
    },
    "papermill": {
     "duration": 0.040288,
     "end_time": "2021-04-07T00:06:29.844211",
     "exception": false,
     "start_time": "2021-04-07T00:06:29.803923",
     "status": "completed"
    },
    "tags": []
   },
   "outputs": [],
   "source": [
    "#hide\n",
    "# g['continent'] = g.country"
   ]
  },
  {
   "cell_type": "code",
   "execution_count": 28,
   "id": "substantial-wilderness",
   "metadata": {
    "execution": {
     "iopub.execute_input": "2021-04-07T00:06:29.915312Z",
     "iopub.status.busy": "2021-04-07T00:06:29.914742Z",
     "iopub.status.idle": "2021-04-07T00:06:29.916825Z",
     "shell.execute_reply": "2021-04-07T00:06:29.916271Z"
    },
    "papermill": {
     "duration": 0.038821,
     "end_time": "2021-04-07T00:06:29.916935",
     "exception": false,
     "start_time": "2021-04-07T00:06:29.878114",
     "status": "completed"
    },
    "tags": []
   },
   "outputs": [],
   "source": [
    "#hide\n",
    "# cols = list(g.columns.values)"
   ]
  },
  {
   "cell_type": "code",
   "execution_count": 29,
   "id": "solved-farming",
   "metadata": {
    "execution": {
     "iopub.execute_input": "2021-04-07T00:06:29.989068Z",
     "iopub.status.busy": "2021-04-07T00:06:29.988495Z",
     "iopub.status.idle": "2021-04-07T00:06:29.990332Z",
     "shell.execute_reply": "2021-04-07T00:06:29.990798Z"
    },
    "papermill": {
     "duration": 0.040265,
     "end_time": "2021-04-07T00:06:29.990931",
     "exception": false,
     "start_time": "2021-04-07T00:06:29.950666",
     "status": "completed"
    },
    "tags": []
   },
   "outputs": [],
   "source": [
    "#hide\n",
    "# cols.insert(0, cols.pop())"
   ]
  },
  {
   "cell_type": "code",
   "execution_count": 30,
   "id": "executed-adoption",
   "metadata": {
    "execution": {
     "iopub.execute_input": "2021-04-07T00:06:30.065949Z",
     "iopub.status.busy": "2021-04-07T00:06:30.065345Z",
     "iopub.status.idle": "2021-04-07T00:06:30.068086Z",
     "shell.execute_reply": "2021-04-07T00:06:30.067617Z"
    },
    "papermill": {
     "duration": 0.042329,
     "end_time": "2021-04-07T00:06:30.068210",
     "exception": false,
     "start_time": "2021-04-07T00:06:30.025881",
     "status": "completed"
    },
    "tags": []
   },
   "outputs": [],
   "source": [
    "#hide\n",
    "# g = g[cols]"
   ]
  },
  {
   "cell_type": "code",
   "execution_count": 31,
   "id": "subject-dublin",
   "metadata": {
    "execution": {
     "iopub.execute_input": "2021-04-07T00:06:30.144669Z",
     "iopub.status.busy": "2021-04-07T00:06:30.143649Z",
     "iopub.status.idle": "2021-04-07T00:06:30.145763Z",
     "shell.execute_reply": "2021-04-07T00:06:30.146464Z"
    },
    "papermill": {
     "duration": 0.04318,
     "end_time": "2021-04-07T00:06:30.146600",
     "exception": false,
     "start_time": "2021-04-07T00:06:30.103420",
     "status": "completed"
    },
    "tags": []
   },
   "outputs": [],
   "source": [
    "#hide\n",
    "# g['continent'] = g['continent'].map(mapping['map.continent'])"
   ]
  },
  {
   "cell_type": "code",
   "execution_count": 32,
   "id": "freelance-scout",
   "metadata": {
    "execution": {
     "iopub.execute_input": "2021-04-07T00:06:30.221542Z",
     "iopub.status.busy": "2021-04-07T00:06:30.220969Z",
     "iopub.status.idle": "2021-04-07T00:06:30.223191Z",
     "shell.execute_reply": "2021-04-07T00:06:30.222708Z"
    },
    "papermill": {
     "duration": 0.040652,
     "end_time": "2021-04-07T00:06:30.223310",
     "exception": false,
     "start_time": "2021-04-07T00:06:30.182658",
     "status": "completed"
    },
    "tags": []
   },
   "outputs": [],
   "source": [
    "#hide\n",
    "# g.head()"
   ]
  },
  {
   "cell_type": "code",
   "execution_count": 33,
   "id": "limited-engine",
   "metadata": {
    "execution": {
     "iopub.execute_input": "2021-04-07T00:06:30.298843Z",
     "iopub.status.busy": "2021-04-07T00:06:30.298271Z",
     "iopub.status.idle": "2021-04-07T00:06:30.300837Z",
     "shell.execute_reply": "2021-04-07T00:06:30.300353Z"
    },
    "papermill": {
     "duration": 0.041693,
     "end_time": "2021-04-07T00:06:30.300952",
     "exception": false,
     "start_time": "2021-04-07T00:06:30.259259",
     "status": "completed"
    },
    "tags": []
   },
   "outputs": [],
   "source": [
    "# hide\n",
    "# g['date'] = g['date'].astype('datetime64[ns]')"
   ]
  },
  {
   "cell_type": "code",
   "execution_count": 34,
   "id": "sophisticated-supervisor",
   "metadata": {
    "execution": {
     "iopub.execute_input": "2021-04-07T00:06:30.376583Z",
     "iopub.status.busy": "2021-04-07T00:06:30.376012Z",
     "iopub.status.idle": "2021-04-07T00:06:30.378318Z",
     "shell.execute_reply": "2021-04-07T00:06:30.378864Z"
    },
    "papermill": {
     "duration": 0.042042,
     "end_time": "2021-04-07T00:06:30.378993",
     "exception": false,
     "start_time": "2021-04-07T00:06:30.336951",
     "status": "completed"
    },
    "tags": []
   },
   "outputs": [],
   "source": [
    "#hide\n",
    "# g['date'] = g.date.dt.dayofyear"
   ]
  },
  {
   "cell_type": "code",
   "execution_count": 35,
   "id": "inside-dubai",
   "metadata": {
    "execution": {
     "iopub.execute_input": "2021-04-07T00:06:30.455861Z",
     "iopub.status.busy": "2021-04-07T00:06:30.455284Z",
     "iopub.status.idle": "2021-04-07T00:06:30.457626Z",
     "shell.execute_reply": "2021-04-07T00:06:30.458203Z"
    },
    "papermill": {
     "duration": 0.044503,
     "end_time": "2021-04-07T00:06:30.458344",
     "exception": false,
     "start_time": "2021-04-07T00:06:30.413841",
     "status": "completed"
    },
    "tags": []
   },
   "outputs": [],
   "source": [
    "#hide\n",
    "# g = g.rename(columns= {'continent':'group','country':'name','cases':'value'})"
   ]
  },
  {
   "cell_type": "code",
   "execution_count": 36,
   "id": "fleet-motorcycle",
   "metadata": {
    "execution": {
     "iopub.execute_input": "2021-04-07T00:06:30.533199Z",
     "iopub.status.busy": "2021-04-07T00:06:30.532622Z",
     "iopub.status.idle": "2021-04-07T00:06:30.534788Z",
     "shell.execute_reply": "2021-04-07T00:06:30.534224Z"
    },
    "papermill": {
     "duration": 0.041722,
     "end_time": "2021-04-07T00:06:30.534906",
     "exception": false,
     "start_time": "2021-04-07T00:06:30.493184",
     "status": "completed"
    },
    "tags": []
   },
   "outputs": [],
   "source": [
    "#hide\n",
    "# cols = ['name','group','day','value']"
   ]
  },
  {
   "cell_type": "code",
   "execution_count": 37,
   "id": "continued-sleeping",
   "metadata": {
    "execution": {
     "iopub.execute_input": "2021-04-07T00:06:30.610673Z",
     "iopub.status.busy": "2021-04-07T00:06:30.609614Z",
     "iopub.status.idle": "2021-04-07T00:06:30.611723Z",
     "shell.execute_reply": "2021-04-07T00:06:30.612434Z"
    },
    "papermill": {
     "duration": 0.042997,
     "end_time": "2021-04-07T00:06:30.612567",
     "exception": false,
     "start_time": "2021-04-07T00:06:30.569570",
     "status": "completed"
    },
    "tags": []
   },
   "outputs": [],
   "source": [
    "#hide\n",
    "# g.rename(columns= {'date':'day'},inplace = True)"
   ]
  },
  {
   "cell_type": "code",
   "execution_count": 38,
   "id": "major-fight",
   "metadata": {
    "execution": {
     "iopub.execute_input": "2021-04-07T00:06:30.690987Z",
     "iopub.status.busy": "2021-04-07T00:06:30.690405Z",
     "iopub.status.idle": "2021-04-07T00:06:30.704258Z",
     "shell.execute_reply": "2021-04-07T00:06:30.704728Z"
    },
    "papermill": {
     "duration": 0.057448,
     "end_time": "2021-04-07T00:06:30.704877",
     "exception": false,
     "start_time": "2021-04-07T00:06:30.647429",
     "status": "completed"
    },
    "tags": []
   },
   "outputs": [],
   "source": [
    "#hide\n",
    "# g = g[cols]"
   ]
  },
  {
   "cell_type": "code",
   "execution_count": 39,
   "id": "structured-mobile",
   "metadata": {
    "execution": {
     "iopub.execute_input": "2021-04-07T00:06:30.780714Z",
     "iopub.status.busy": "2021-04-07T00:06:30.780134Z",
     "iopub.status.idle": "2021-04-07T00:06:30.783185Z",
     "shell.execute_reply": "2021-04-07T00:06:30.782712Z"
    },
    "papermill": {
     "duration": 0.042092,
     "end_time": "2021-04-07T00:06:30.783306",
     "exception": false,
     "start_time": "2021-04-07T00:06:30.741214",
     "status": "completed"
    },
    "tags": []
   },
   "outputs": [],
   "source": [
    "# #hide\n",
    "# g = g[g.group.notna()]"
   ]
  },
  {
   "cell_type": "code",
   "execution_count": 40,
   "id": "determined-closing",
   "metadata": {
    "execution": {
     "iopub.execute_input": "2021-04-07T00:06:30.862822Z",
     "iopub.status.busy": "2021-04-07T00:06:30.862237Z",
     "iopub.status.idle": "2021-04-07T00:06:30.864117Z",
     "shell.execute_reply": "2021-04-07T00:06:30.864581Z"
    },
    "papermill": {
     "duration": 0.04329,
     "end_time": "2021-04-07T00:06:30.864714",
     "exception": false,
     "start_time": "2021-04-07T00:06:30.821424",
     "status": "completed"
    },
    "tags": []
   },
   "outputs": [],
   "source": [
    "# #hide\n",
    "# colors = dict(zip(\n",
    "#     [\"Oceania\", \"Europe\", \"Asia\", \"South America\", \"Middle East\", \"North America\", \"Africa\"],\n",
    "#     [\"#adb0ff\", \"#ffb3ff\", \"#90d595\", \"#e48381\", \"#aafbff\", \"#f7bb5f\", \"#eafb50\"]\n",
    "# ))\n",
    "# group_lk = g.set_index('name')['group'].to_dict()"
   ]
  },
  {
   "cell_type": "code",
   "execution_count": null,
   "id": "gross-drinking",
   "metadata": {
    "papermill": {
     "duration": 0.034561,
     "end_time": "2021-04-07T00:06:30.936091",
     "exception": false,
     "start_time": "2021-04-07T00:06:30.901530",
     "status": "completed"
    },
    "tags": []
   },
   "outputs": [],
   "source": []
  },
  {
   "cell_type": "code",
   "execution_count": 41,
   "id": "subject-macintosh",
   "metadata": {
    "execution": {
     "iopub.execute_input": "2021-04-07T00:06:31.009076Z",
     "iopub.status.busy": "2021-04-07T00:06:31.008472Z",
     "iopub.status.idle": "2021-04-07T00:06:31.010697Z",
     "shell.execute_reply": "2021-04-07T00:06:31.011190Z"
    },
    "papermill": {
     "duration": 0.041835,
     "end_time": "2021-04-07T00:06:31.011325",
     "exception": false,
     "start_time": "2021-04-07T00:06:30.969490",
     "status": "completed"
    },
    "tags": []
   },
   "outputs": [],
   "source": [
    "# #hide\n",
    "# fig, ax = plt.subplots(figsize=(15, 8))\n",
    "\n",
    "# def draw_barchart(current_day):\n",
    "#     dff = g[g['day'].eq(current_day)].sort_values(by='value', ascending=True).tail(10)\n",
    "#     ax.clear()\n",
    "#     ax.barh(dff['name'], dff['value'], color=[colors[group_lk[x]] for x in dff['name']])\n",
    "#     dx = dff['value'].max() / 200\n",
    "    \n",
    "#     for i, (value, name) in enumerate(zip(dff['value'], dff['name'])):\n",
    "#         ax.text(value-dx, i,     name,           size=14, weight=600, ha='right', va='bottom')\n",
    "#         ax.text(value-dx, i-.25, group_lk[name], size=10, color='#444444', ha='right', va='baseline')\n",
    "#         ax.text(value+dx, i,     f'{value:,.0f}',  size=14, ha='left',  va='center')\n",
    "#     ax.text(1, 0.4, current_day, transform=ax.transAxes, color='#777777', size=46, ha='right', weight=800)\n",
    "#     ax.text(0, 1.06, 'Population (thousands)', transform=ax.transAxes, size=12, color='#777777')\n",
    "#     ax.xaxis.set_major_formatter(ticker.StrMethodFormatter('{x:,.0f}'))\n",
    "#     ax.xaxis.set_ticks_position('top')\n",
    "#     ax.tick_params(axis='x', colors='#777777', labelsize=12)\n",
    "#     ax.set_yticks([])\n",
    "#     ax.margins(0, 0.01)\n",
    "#     ax.grid(which='major', axis='x', linestyle='-')\n",
    "#     ax.set_axisbelow(True)\n",
    "    \n",
    "#     ax.text(0, 1.15, 'Coronavirus',\n",
    "#             transform=ax.transAxes, size=24, weight=600, ha='left', va='top')\n",
    "# #     ax.text(1, 0, 'by @pratapvardhan; credit @jburnmurdoch', transform=ax.transAxes, color='#777777', ha='right',\n",
    "# #             bbox=dict(facecolor='white', alpha=0.8, edgecolor='white'))\n",
    "#     plt.box(False)"
   ]
  },
  {
   "cell_type": "code",
   "execution_count": 42,
   "id": "sexual-wages",
   "metadata": {
    "execution": {
     "iopub.execute_input": "2021-04-07T00:06:31.090932Z",
     "iopub.status.busy": "2021-04-07T00:06:31.090259Z",
     "iopub.status.idle": "2021-04-07T00:06:31.092523Z",
     "shell.execute_reply": "2021-04-07T00:06:31.091966Z"
    },
    "papermill": {
     "duration": 0.047799,
     "end_time": "2021-04-07T00:06:31.092636",
     "exception": false,
     "start_time": "2021-04-07T00:06:31.044837",
     "status": "completed"
    },
    "tags": []
   },
   "outputs": [],
   "source": [
    "# #hide_input\n",
    "# fig, ax = plt.subplots(figsize=(15, 8))\n",
    "# animator = animation.FuncAnimation(fig, draw_barchart, frames=range(g.day.values.min(), g.day.values.max()))\n",
    "# HTML(animator.to_jshtml())\n",
    "# # or use animator.to_html5_video() or animator.save() "
   ]
  },
  {
   "cell_type": "code",
   "execution_count": null,
   "id": "australian-container",
   "metadata": {
    "papermill": {
     "duration": 0.036191,
     "end_time": "2021-04-07T00:06:31.163613",
     "exception": false,
     "start_time": "2021-04-07T00:06:31.127422",
     "status": "completed"
    },
    "tags": []
   },
   "outputs": [],
   "source": []
  },
  {
   "cell_type": "code",
   "execution_count": null,
   "id": "mediterranean-pontiac",
   "metadata": {
    "papermill": {
     "duration": 0.035464,
     "end_time": "2021-04-07T00:06:31.235687",
     "exception": false,
     "start_time": "2021-04-07T00:06:31.200223",
     "status": "completed"
    },
    "tags": []
   },
   "outputs": [],
   "source": []
  },
  {
   "cell_type": "code",
   "execution_count": null,
   "id": "aging-legislature",
   "metadata": {
    "papermill": {
     "duration": 0.035021,
     "end_time": "2021-04-07T00:06:31.305555",
     "exception": false,
     "start_time": "2021-04-07T00:06:31.270534",
     "status": "completed"
    },
    "tags": []
   },
   "outputs": [],
   "source": []
  }
 ],
 "metadata": {
  "kernelspec": {
   "display_name": "Python 3",
   "language": "python",
   "name": "python3"
  },
  "language_info": {
   "codemirror_mode": {
    "name": "ipython",
    "version": 3
   },
   "file_extension": ".py",
   "mimetype": "text/x-python",
   "name": "python",
   "nbconvert_exporter": "python",
   "pygments_lexer": "ipython3",
   "version": "3.6.13"
  },
  "papermill": {
   "duration": 6.717612,
   "end_time": "2021-04-07T00:06:31.652717",
   "environment_variables": {},
   "exception": null,
   "input_path": "2020-03-21-covid19exp.ipynb",
   "output_path": "2020-03-21-covid19exp.ipynb",
   "parameters": {},
   "start_time": "2021-04-07T00:06:24.935105",
   "version": "2.0.0"
  }
 },
 "nbformat": 4,
 "nbformat_minor": 5
}