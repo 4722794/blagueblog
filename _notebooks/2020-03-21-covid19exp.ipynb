{
 "cells": [
  {
   "cell_type": "markdown",
   "id": "muslim-click",
   "metadata": {
    "papermill": {
     "duration": 0.033624,
     "end_time": "2021-01-25T00:40:28.521843",
     "exception": false,
     "start_time": "2021-01-25T00:40:28.488219",
     "status": "completed"
    },
    "tags": []
   },
   "source": [
    "# COVID-19 Case Race\n",
    "> A race chart to see rising cases around the world\n",
    "\n",
    "- author: Hargun Oberoi\n",
    "- image: images/covid-overview.png\n",
    "- hide: false\n",
    "- badges: false"
   ]
  },
  {
   "cell_type": "code",
   "execution_count": 1,
   "id": "proof-material",
   "metadata": {
    "execution": {
     "iopub.execute_input": "2021-01-25T00:40:28.589564Z",
     "iopub.status.busy": "2021-01-25T00:40:28.589084Z",
     "iopub.status.idle": "2021-01-25T00:40:28.876399Z",
     "shell.execute_reply": "2021-01-25T00:40:28.875363Z"
    },
    "papermill": {
     "duration": 0.327059,
     "end_time": "2021-01-25T00:40:28.876543",
     "exception": false,
     "start_time": "2021-01-25T00:40:28.549484",
     "status": "completed"
    },
    "tags": []
   },
   "outputs": [],
   "source": [
    "#hide\n",
    "import numpy as np\n",
    "import pandas as pd\n",
    "from jinja2 import Template\n",
    "from IPython.display import HTML"
   ]
  },
  {
   "cell_type": "code",
   "execution_count": 2,
   "id": "developed-terminology",
   "metadata": {
    "execution": {
     "iopub.execute_input": "2021-01-25T00:40:28.933040Z",
     "iopub.status.busy": "2021-01-25T00:40:28.932386Z",
     "iopub.status.idle": "2021-01-25T00:40:28.935090Z",
     "shell.execute_reply": "2021-01-25T00:40:28.934604Z"
    },
    "papermill": {
     "duration": 0.033351,
     "end_time": "2021-01-25T00:40:28.935211",
     "exception": false,
     "start_time": "2021-01-25T00:40:28.901860",
     "status": "completed"
    },
    "tags": []
   },
   "outputs": [],
   "source": [
    "#hide\n",
    "\n",
    "# FETCH\n",
    "base_url = 'https://raw.githubusercontent.com/pratapvardhan/notebooks/master/covid19/'\n",
    "paths = {\n",
    "    'mapping': base_url + 'mapping_countries.csv',\n",
    "    'overview': base_url + 'overview.tpl'\n",
    "}"
   ]
  },
  {
   "cell_type": "code",
   "execution_count": 3,
   "id": "dynamic-saver",
   "metadata": {
    "execution": {
     "iopub.execute_input": "2021-01-25T00:40:28.994849Z",
     "iopub.status.busy": "2021-01-25T00:40:28.994416Z",
     "iopub.status.idle": "2021-01-25T00:40:28.998299Z",
     "shell.execute_reply": "2021-01-25T00:40:28.998657Z"
    },
    "papermill": {
     "duration": 0.037728,
     "end_time": "2021-01-25T00:40:28.998761",
     "exception": false,
     "start_time": "2021-01-25T00:40:28.961033",
     "status": "completed"
    },
    "tags": []
   },
   "outputs": [
    {
     "data": {
      "text/plain": [
       "'https://raw.githubusercontent.com/pratapvardhan/notebooks/master/covid19/mapping_countries.csv'"
      ]
     },
     "execution_count": 3,
     "metadata": {},
     "output_type": "execute_result"
    }
   ],
   "source": [
    "#hide\n",
    "paths['mapping']"
   ]
  },
  {
   "cell_type": "code",
   "execution_count": 4,
   "id": "urban-software",
   "metadata": {
    "execution": {
     "iopub.execute_input": "2021-01-25T00:40:29.057315Z",
     "iopub.status.busy": "2021-01-25T00:40:29.056734Z",
     "iopub.status.idle": "2021-01-25T00:40:29.059964Z",
     "shell.execute_reply": "2021-01-25T00:40:29.059462Z"
    },
    "papermill": {
     "duration": 0.035869,
     "end_time": "2021-01-25T00:40:29.060084",
     "exception": false,
     "start_time": "2021-01-25T00:40:29.024215",
     "status": "completed"
    },
    "tags": []
   },
   "outputs": [],
   "source": [
    "#hide\n",
    "def get_mappings(url):\n",
    "    df = pd.read_csv(url)\n",
    "    return {\n",
    "        'df': df,\n",
    "        'replace.country': dict(df.dropna(subset=['Name']).set_index('Country')['Name']),\n",
    "        'map.continent': dict(df.set_index('Name')['Continent'])\n",
    "    }"
   ]
  },
  {
   "cell_type": "code",
   "execution_count": 5,
   "id": "intimate-machinery",
   "metadata": {
    "execution": {
     "iopub.execute_input": "2021-01-25T00:40:29.127589Z",
     "iopub.status.busy": "2021-01-25T00:40:29.127041Z",
     "iopub.status.idle": "2021-01-25T00:40:29.186960Z",
     "shell.execute_reply": "2021-01-25T00:40:29.186563Z"
    },
    "papermill": {
     "duration": 0.093898,
     "end_time": "2021-01-25T00:40:29.187068",
     "exception": false,
     "start_time": "2021-01-25T00:40:29.093170",
     "status": "completed"
    },
    "tags": []
   },
   "outputs": [],
   "source": [
    "#hide\n",
    "mapping = get_mappings(paths['mapping'])"
   ]
  },
  {
   "cell_type": "code",
   "execution_count": 6,
   "id": "certified-tactics",
   "metadata": {
    "execution": {
     "iopub.execute_input": "2021-01-25T00:40:29.249114Z",
     "iopub.status.busy": "2021-01-25T00:40:29.248632Z",
     "iopub.status.idle": "2021-01-25T00:40:29.250847Z",
     "shell.execute_reply": "2021-01-25T00:40:29.250399Z"
    },
    "papermill": {
     "duration": 0.036661,
     "end_time": "2021-01-25T00:40:29.250951",
     "exception": false,
     "start_time": "2021-01-25T00:40:29.214290",
     "status": "completed"
    },
    "tags": []
   },
   "outputs": [],
   "source": [
    "#hide\n",
    "def get_template(path):\n",
    "    from urllib.parse import urlparse\n",
    "    if bool(urlparse(path).netloc):\n",
    "        from urllib.request import urlopen\n",
    "        return urlopen(path).read().decode('utf8')\n",
    "    return open(path).read()"
   ]
  },
  {
   "cell_type": "code",
   "execution_count": 7,
   "id": "realistic-blast",
   "metadata": {
    "execution": {
     "iopub.execute_input": "2021-01-25T00:40:29.311063Z",
     "iopub.status.busy": "2021-01-25T00:40:29.310572Z",
     "iopub.status.idle": "2021-01-25T00:40:29.312441Z",
     "shell.execute_reply": "2021-01-25T00:40:29.311991Z"
    },
    "papermill": {
     "duration": 0.035268,
     "end_time": "2021-01-25T00:40:29.312550",
     "exception": false,
     "start_time": "2021-01-25T00:40:29.277282",
     "status": "completed"
    },
    "tags": []
   },
   "outputs": [],
   "source": [
    "#hide\n",
    "def get_frame(name):\n",
    "    url = (\n",
    "        'https://raw.githubusercontent.com/CSSEGISandData/COVID-19/master/csse_covid_19_data/'\n",
    "        f'csse_covid_19_time_series/time_series_covid19_{name}_global.csv')\n",
    "    df = pd.read_csv(url)\n",
    "    # rename countries\n",
    "    df['Country/Region'] = df['Country/Region'].replace(mapping['replace.country'])\n",
    "    return df"
   ]
  },
  {
   "cell_type": "code",
   "execution_count": 8,
   "id": "affiliated-characterization",
   "metadata": {
    "execution": {
     "iopub.execute_input": "2021-01-25T00:40:29.381401Z",
     "iopub.status.busy": "2021-01-25T00:40:29.380838Z",
     "iopub.status.idle": "2021-01-25T00:40:29.383218Z",
     "shell.execute_reply": "2021-01-25T00:40:29.382736Z"
    },
    "papermill": {
     "duration": 0.040917,
     "end_time": "2021-01-25T00:40:29.383335",
     "exception": false,
     "start_time": "2021-01-25T00:40:29.342418",
     "status": "completed"
    },
    "tags": []
   },
   "outputs": [],
   "source": [
    "#hide\n",
    "def get_dates(df):\n",
    "    dt_cols = df.columns[~df.columns.isin(['Province/State', 'Country/Region', 'Lat', 'Long'])]\n",
    "    LAST_DATE_I = -1\n",
    "    # sometimes last column may be empty, then go backwards\n",
    "    for i in range(-1, -len(dt_cols), -1):\n",
    "        if not df[dt_cols[i]].fillna(0).eq(0).all():\n",
    "            LAST_DATE_I = i\n",
    "            break\n",
    "    return LAST_DATE_I, dt_cols"
   ]
  },
  {
   "cell_type": "code",
   "execution_count": 9,
   "id": "recent-optimization",
   "metadata": {
    "execution": {
     "iopub.execute_input": "2021-01-25T00:40:29.444468Z",
     "iopub.status.busy": "2021-01-25T00:40:29.443899Z",
     "iopub.status.idle": "2021-01-25T00:40:29.827046Z",
     "shell.execute_reply": "2021-01-25T00:40:29.826469Z"
    },
    "papermill": {
     "duration": 0.415103,
     "end_time": "2021-01-25T00:40:29.827162",
     "exception": false,
     "start_time": "2021-01-25T00:40:29.412059",
     "status": "completed"
    },
    "tags": []
   },
   "outputs": [],
   "source": [
    "#hide\n",
    "COL_REGION = 'Country/Region'\n",
    "# Confirmed, Recovered, Deaths\n",
    "df = get_frame('confirmed')\n",
    "# dft_: timeseries, dfc_: today country agg\n",
    "dft_cases = df\n",
    "dft_deaths = get_frame('deaths')\n",
    "dft_recovered = get_frame('recovered')\n",
    "LAST_DATE_I, dt_cols = get_dates(df)"
   ]
  },
  {
   "cell_type": "code",
   "execution_count": 10,
   "id": "absolute-copper",
   "metadata": {
    "execution": {
     "iopub.execute_input": "2021-01-25T00:40:29.887399Z",
     "iopub.status.busy": "2021-01-25T00:40:29.886459Z",
     "iopub.status.idle": "2021-01-25T00:40:29.888027Z",
     "shell.execute_reply": "2021-01-25T00:40:29.888469Z"
    },
    "papermill": {
     "duration": 0.035424,
     "end_time": "2021-01-25T00:40:29.888594",
     "exception": false,
     "start_time": "2021-01-25T00:40:29.853170",
     "status": "completed"
    },
    "tags": []
   },
   "outputs": [],
   "source": [
    "#hide\n",
    "LAST_DATE_I, dt_cols = get_dates(df)\n",
    "dt_today =dt_cols[LAST_DATE_I]\n",
    "# dt_5day = dt_cols[LAST_DATE_I - 5]\n",
    "dt_yday = dt_cols[LAST_DATE_I - 1]"
   ]
  },
  {
   "cell_type": "code",
   "execution_count": 11,
   "id": "restricted-sheriff",
   "metadata": {
    "execution": {
     "iopub.execute_input": "2021-01-25T00:40:29.948689Z",
     "iopub.status.busy": "2021-01-25T00:40:29.946925Z",
     "iopub.status.idle": "2021-01-25T00:40:29.952850Z",
     "shell.execute_reply": "2021-01-25T00:40:29.952501Z"
    },
    "papermill": {
     "duration": 0.038942,
     "end_time": "2021-01-25T00:40:29.952937",
     "exception": false,
     "start_time": "2021-01-25T00:40:29.913995",
     "status": "completed"
    },
    "tags": []
   },
   "outputs": [],
   "source": [
    "#hide\n",
    "dfc_cases = dft_cases.groupby(COL_REGION)[dt_today].sum()\n",
    "dfc_deaths = dft_deaths.groupby(COL_REGION)[dt_today].sum()\n",
    "# dfp_cases = dft_cases.groupby(COL_REGION)[dt_5day].sum()\n",
    "# dfp_deaths = dft_deaths.groupby(COL_REGION)[dt_5day].sum()\n",
    "dfp_cases = dft_cases.groupby(COL_REGION)[dt_yday].sum()\n",
    "dfp_deaths = dft_deaths.groupby(COL_REGION)[dt_yday].sum()"
   ]
  },
  {
   "cell_type": "code",
   "execution_count": 12,
   "id": "deluxe-hepatitis",
   "metadata": {
    "execution": {
     "iopub.execute_input": "2021-01-25T00:40:30.010975Z",
     "iopub.status.busy": "2021-01-25T00:40:30.010560Z",
     "iopub.status.idle": "2021-01-25T00:40:30.014297Z",
     "shell.execute_reply": "2021-01-25T00:40:30.013899Z"
    },
    "papermill": {
     "duration": 0.035999,
     "end_time": "2021-01-25T00:40:30.014390",
     "exception": false,
     "start_time": "2021-01-25T00:40:29.978391",
     "status": "completed"
    },
    "tags": []
   },
   "outputs": [],
   "source": [
    "#hide\n",
    "df_table = (pd.DataFrame(dict(Cases = dfc_cases, Deaths = dfc_deaths, PCases = dfp_cases, PDeaths = dfp_deaths))\n",
    "            .sort_values(by = ['Cases','Deaths'], ascending = [False, False])\n",
    "            .reset_index())"
   ]
  },
  {
   "cell_type": "code",
   "execution_count": 13,
   "id": "educational-chancellor",
   "metadata": {
    "execution": {
     "iopub.execute_input": "2021-01-25T00:40:30.095198Z",
     "iopub.status.busy": "2021-01-25T00:40:30.094590Z",
     "iopub.status.idle": "2021-01-25T00:40:30.104590Z",
     "shell.execute_reply": "2021-01-25T00:40:30.104240Z"
    },
    "papermill": {
     "duration": 0.061785,
     "end_time": "2021-01-25T00:40:30.104680",
     "exception": false,
     "start_time": "2021-01-25T00:40:30.042895",
     "status": "completed"
    },
    "tags": []
   },
   "outputs": [
    {
     "data": {
      "text/html": [
       "<div>\n",
       "<style scoped>\n",
       "    .dataframe tbody tr th:only-of-type {\n",
       "        vertical-align: middle;\n",
       "    }\n",
       "\n",
       "    .dataframe tbody tr th {\n",
       "        vertical-align: top;\n",
       "    }\n",
       "\n",
       "    .dataframe thead th {\n",
       "        text-align: right;\n",
       "    }\n",
       "</style>\n",
       "<table border=\"1\" class=\"dataframe\">\n",
       "  <thead>\n",
       "    <tr style=\"text-align: right;\">\n",
       "      <th></th>\n",
       "      <th>Country/Region</th>\n",
       "      <th>Cases</th>\n",
       "      <th>Deaths</th>\n",
       "      <th>PCases</th>\n",
       "      <th>PDeaths</th>\n",
       "      <th>Cases (+)</th>\n",
       "      <th>Deaths (+)</th>\n",
       "      <th>Fatality Rate</th>\n",
       "      <th>Continent</th>\n",
       "    </tr>\n",
       "  </thead>\n",
       "  <tbody>\n",
       "    <tr>\n",
       "      <th>0</th>\n",
       "      <td>US</td>\n",
       "      <td>24994463</td>\n",
       "      <td>417439</td>\n",
       "      <td>24821813</td>\n",
       "      <td>414107</td>\n",
       "      <td>172650</td>\n",
       "      <td>3332</td>\n",
       "      <td>1.67</td>\n",
       "      <td>North America</td>\n",
       "    </tr>\n",
       "    <tr>\n",
       "      <th>1</th>\n",
       "      <td>India</td>\n",
       "      <td>10654533</td>\n",
       "      <td>153339</td>\n",
       "      <td>10639684</td>\n",
       "      <td>153184</td>\n",
       "      <td>14849</td>\n",
       "      <td>155</td>\n",
       "      <td>1.44</td>\n",
       "      <td>Asia</td>\n",
       "    </tr>\n",
       "    <tr>\n",
       "      <th>2</th>\n",
       "      <td>Brazil</td>\n",
       "      <td>8816254</td>\n",
       "      <td>216445</td>\n",
       "      <td>8753920</td>\n",
       "      <td>215243</td>\n",
       "      <td>62334</td>\n",
       "      <td>1202</td>\n",
       "      <td>2.46</td>\n",
       "      <td>South America</td>\n",
       "    </tr>\n",
       "    <tr>\n",
       "      <th>3</th>\n",
       "      <td>Russia</td>\n",
       "      <td>3658447</td>\n",
       "      <td>67919</td>\n",
       "      <td>3637862</td>\n",
       "      <td>67376</td>\n",
       "      <td>20585</td>\n",
       "      <td>543</td>\n",
       "      <td>1.86</td>\n",
       "      <td>Europe</td>\n",
       "    </tr>\n",
       "    <tr>\n",
       "      <th>4</th>\n",
       "      <td>United Kingdom</td>\n",
       "      <td>3627746</td>\n",
       "      <td>97518</td>\n",
       "      <td>3594094</td>\n",
       "      <td>96166</td>\n",
       "      <td>33652</td>\n",
       "      <td>1352</td>\n",
       "      <td>2.69</td>\n",
       "      <td>Europe</td>\n",
       "    </tr>\n",
       "  </tbody>\n",
       "</table>\n",
       "</div>"
      ],
      "text/plain": [
       "   Country/Region     Cases  Deaths    PCases  PDeaths  Cases (+)  Deaths (+)  \\\n",
       "0              US  24994463  417439  24821813   414107     172650        3332   \n",
       "1           India  10654533  153339  10639684   153184      14849         155   \n",
       "2          Brazil   8816254  216445   8753920   215243      62334        1202   \n",
       "3          Russia   3658447   67919   3637862    67376      20585         543   \n",
       "4  United Kingdom   3627746   97518   3594094    96166      33652        1352   \n",
       "\n",
       "   Fatality Rate      Continent  \n",
       "0           1.67  North America  \n",
       "1           1.44           Asia  \n",
       "2           2.46  South America  \n",
       "3           1.86         Europe  \n",
       "4           2.69         Europe  "
      ]
     },
     "execution_count": 13,
     "metadata": {},
     "output_type": "execute_result"
    }
   ],
   "source": [
    "#hide\n",
    "for c in 'Cases, Deaths'.split(', '):\n",
    "    df_table[f'{c} (+)'] = (df_table[c] - df_table[f'P{c}']).clip(0)\n",
    "    #Clip ça veut dire, les chiffres negatif sont interdit\n",
    "df_table['Fatality Rate'] = (100* df_table['Deaths']/ df_table['Cases']).round(2)\n",
    "df_table['Continent'] = df_table['Country/Region'].map(mapping['map.continent'])\n",
    "df_table.head(5)"
   ]
  },
  {
   "cell_type": "code",
   "execution_count": 14,
   "id": "aboriginal-bulgaria",
   "metadata": {
    "execution": {
     "iopub.execute_input": "2021-01-25T00:40:30.166985Z",
     "iopub.status.busy": "2021-01-25T00:40:30.166409Z",
     "iopub.status.idle": "2021-01-25T00:40:30.168661Z",
     "shell.execute_reply": "2021-01-25T00:40:30.169219Z"
    },
    "papermill": {
     "duration": 0.037017,
     "end_time": "2021-01-25T00:40:30.169354",
     "exception": false,
     "start_time": "2021-01-25T00:40:30.132337",
     "status": "completed"
    },
    "tags": []
   },
   "outputs": [],
   "source": [
    "#hide\n",
    "#delete problematic countries from table\n",
    "df_table = df_table[~df_table['Country/Region'].isin(['Cape Verde', 'Cruise Ship', 'Kosovo'])]"
   ]
  },
  {
   "cell_type": "code",
   "execution_count": 15,
   "id": "fantastic-effect",
   "metadata": {
    "execution": {
     "iopub.execute_input": "2021-01-25T00:40:30.234485Z",
     "iopub.status.busy": "2021-01-25T00:40:30.234018Z",
     "iopub.status.idle": "2021-01-25T00:40:30.248687Z",
     "shell.execute_reply": "2021-01-25T00:40:30.249088Z"
    },
    "papermill": {
     "duration": 0.053928,
     "end_time": "2021-01-25T00:40:30.249183",
     "exception": false,
     "start_time": "2021-01-25T00:40:30.195255",
     "status": "completed"
    },
    "tags": []
   },
   "outputs": [
    {
     "data": {
      "text/html": [
       "<div>\n",
       "<style scoped>\n",
       "    .dataframe tbody tr th:only-of-type {\n",
       "        vertical-align: middle;\n",
       "    }\n",
       "\n",
       "    .dataframe tbody tr th {\n",
       "        vertical-align: top;\n",
       "    }\n",
       "\n",
       "    .dataframe thead th {\n",
       "        text-align: right;\n",
       "    }\n",
       "</style>\n",
       "<table border=\"1\" class=\"dataframe\">\n",
       "  <thead>\n",
       "    <tr style=\"text-align: right;\">\n",
       "      <th></th>\n",
       "      <th>Country/Region</th>\n",
       "      <th>Cases</th>\n",
       "      <th>Deaths</th>\n",
       "      <th>PCases</th>\n",
       "      <th>PDeaths</th>\n",
       "      <th>Cases (+)</th>\n",
       "      <th>Deaths (+)</th>\n",
       "      <th>Fatality Rate</th>\n",
       "      <th>Continent</th>\n",
       "    </tr>\n",
       "  </thead>\n",
       "  <tbody>\n",
       "    <tr>\n",
       "      <th>0</th>\n",
       "      <td>US</td>\n",
       "      <td>24994463</td>\n",
       "      <td>417439</td>\n",
       "      <td>24821813</td>\n",
       "      <td>414107</td>\n",
       "      <td>172650</td>\n",
       "      <td>3332</td>\n",
       "      <td>1.7</td>\n",
       "      <td>North America</td>\n",
       "    </tr>\n",
       "    <tr>\n",
       "      <th>1</th>\n",
       "      <td>India</td>\n",
       "      <td>10654533</td>\n",
       "      <td>153339</td>\n",
       "      <td>10639684</td>\n",
       "      <td>153184</td>\n",
       "      <td>14849</td>\n",
       "      <td>155</td>\n",
       "      <td>1.4</td>\n",
       "      <td>Asia</td>\n",
       "    </tr>\n",
       "    <tr>\n",
       "      <th>2</th>\n",
       "      <td>Brazil</td>\n",
       "      <td>8816254</td>\n",
       "      <td>216445</td>\n",
       "      <td>8753920</td>\n",
       "      <td>215243</td>\n",
       "      <td>62334</td>\n",
       "      <td>1202</td>\n",
       "      <td>2.5</td>\n",
       "      <td>South America</td>\n",
       "    </tr>\n",
       "    <tr>\n",
       "      <th>3</th>\n",
       "      <td>Russia</td>\n",
       "      <td>3658447</td>\n",
       "      <td>67919</td>\n",
       "      <td>3637862</td>\n",
       "      <td>67376</td>\n",
       "      <td>20585</td>\n",
       "      <td>543</td>\n",
       "      <td>1.9</td>\n",
       "      <td>Europe</td>\n",
       "    </tr>\n",
       "    <tr>\n",
       "      <th>4</th>\n",
       "      <td>United Kingdom</td>\n",
       "      <td>3627746</td>\n",
       "      <td>97518</td>\n",
       "      <td>3594094</td>\n",
       "      <td>96166</td>\n",
       "      <td>33652</td>\n",
       "      <td>1352</td>\n",
       "      <td>2.7</td>\n",
       "      <td>Europe</td>\n",
       "    </tr>\n",
       "  </tbody>\n",
       "</table>\n",
       "</div>"
      ],
      "text/plain": [
       "   Country/Region     Cases  Deaths    PCases  PDeaths  Cases (+)  Deaths (+)  \\\n",
       "0              US  24994463  417439  24821813   414107     172650        3332   \n",
       "1           India  10654533  153339  10639684   153184      14849         155   \n",
       "2          Brazil   8816254  216445   8753920   215243      62334        1202   \n",
       "3          Russia   3658447   67919   3637862    67376      20585         543   \n",
       "4  United Kingdom   3627746   97518   3594094    96166      33652        1352   \n",
       "\n",
       "   Fatality Rate      Continent  \n",
       "0            1.7  North America  \n",
       "1            1.4           Asia  \n",
       "2            2.5  South America  \n",
       "3            1.9         Europe  \n",
       "4            2.7         Europe  "
      ]
     },
     "execution_count": 15,
     "metadata": {},
     "output_type": "execute_result"
    }
   ],
   "source": [
    "#hide\n",
    "df_table = (pd.DataFrame(dict(Cases=dfc_cases, Deaths=dfc_deaths, PCases=dfp_cases, PDeaths=dfp_deaths))\n",
    "             .sort_values(by=['Cases', 'Deaths'], ascending=[False, False])\n",
    "             .reset_index())\n",
    "df_table.rename(columns={'index': 'Country/Region'}, inplace=True)\n",
    "for c in 'Cases, Deaths'.split(', '):\n",
    "    df_table[f'{c} (+)'] = (df_table[c] - df_table[f'P{c}']).clip(0)  # DATA BUG\n",
    "df_table['Fatality Rate'] = (100 * df_table['Deaths'] / df_table['Cases']).round(1)\n",
    "df_table['Continent'] = df_table['Country/Region'].map(mapping['map.continent'])\n",
    "df_table.head(5)"
   ]
  },
  {
   "cell_type": "code",
   "execution_count": 16,
   "id": "fewer-occasion",
   "metadata": {
    "execution": {
     "iopub.execute_input": "2021-01-25T00:40:30.310500Z",
     "iopub.status.busy": "2021-01-25T00:40:30.310056Z",
     "iopub.status.idle": "2021-01-25T00:40:30.312003Z",
     "shell.execute_reply": "2021-01-25T00:40:30.311676Z"
    },
    "papermill": {
     "duration": 0.03643,
     "end_time": "2021-01-25T00:40:30.312088",
     "exception": false,
     "start_time": "2021-01-25T00:40:30.275658",
     "status": "completed"
    },
    "tags": []
   },
   "outputs": [],
   "source": [
    "#hide\n",
    "#delete problematic countries from table\n",
    "df_table = df_table[~df_table['Country/Region'].isin(['Cape Verde', 'Cruise Ship', 'Kosovo'])]"
   ]
  },
  {
   "cell_type": "code",
   "execution_count": 17,
   "id": "related-center",
   "metadata": {
    "execution": {
     "iopub.execute_input": "2021-01-25T00:40:30.383952Z",
     "iopub.status.busy": "2021-01-25T00:40:30.383477Z",
     "iopub.status.idle": "2021-01-25T00:40:30.385526Z",
     "shell.execute_reply": "2021-01-25T00:40:30.385067Z"
    },
    "papermill": {
     "duration": 0.047845,
     "end_time": "2021-01-25T00:40:30.385620",
     "exception": false,
     "start_time": "2021-01-25T00:40:30.337775",
     "status": "completed"
    },
    "tags": []
   },
   "outputs": [],
   "source": [
    "#hide\n",
    "metrics = [df_table.columns[index] for index in [1,2,5,6]]\n",
    "# s_china = df_table[df_table['Country/Region'].eq('China')][metrics].sum().add_prefix('China ')\n",
    "s_us = df_table[df_table['Country/Region'].eq('US')][metrics].sum().add_prefix('US ')\n",
    "s_eu = df_table[df_table['Continent'].eq('Europe')][metrics].sum().add_prefix('EU ')\n",
    "s_ind = df_table[df_table['Country/Region'].eq('India')][metrics].sum().add_prefix('India ')\n",
    "summary = {'updated': pd.to_datetime(dt_today), 'since': pd.to_datetime(dt_yday)}\n",
    "summary = {'updated': pd.to_datetime(dt_today), 'since': pd.to_datetime(dt_yday)}\n",
    "summary = {**summary, **df_table[metrics].sum(), **s_ind, **s_us, **s_eu}"
   ]
  },
  {
   "cell_type": "code",
   "execution_count": 18,
   "id": "engaging-syndrome",
   "metadata": {
    "execution": {
     "iopub.execute_input": "2021-01-25T00:40:30.448626Z",
     "iopub.status.busy": "2021-01-25T00:40:30.448218Z",
     "iopub.status.idle": "2021-01-25T00:40:30.460943Z",
     "shell.execute_reply": "2021-01-25T00:40:30.460539Z"
    },
    "papermill": {
     "duration": 0.046881,
     "end_time": "2021-01-25T00:40:30.461038",
     "exception": false,
     "start_time": "2021-01-25T00:40:30.414157",
     "status": "completed"
    },
    "tags": []
   },
   "outputs": [],
   "source": [
    "#hide\n",
    "dft_ct_new_cases = dft_cases.groupby(COL_REGION)[dt_cols].sum().diff(axis=1).fillna(0).astype(int)"
   ]
  },
  {
   "cell_type": "code",
   "execution_count": 19,
   "id": "neutral-assignment",
   "metadata": {
    "execution": {
     "iopub.execute_input": "2021-01-25T00:40:30.524696Z",
     "iopub.status.busy": "2021-01-25T00:40:30.524219Z",
     "iopub.status.idle": "2021-01-25T00:40:30.525767Z",
     "shell.execute_reply": "2021-01-25T00:40:30.526075Z"
    },
    "papermill": {
     "duration": 0.036664,
     "end_time": "2021-01-25T00:40:30.526174",
     "exception": false,
     "start_time": "2021-01-25T00:40:30.489510",
     "status": "completed"
    },
    "tags": []
   },
   "outputs": [],
   "source": [
    "#hide\n",
    "everydaycases = dft_ct_new_cases.cumsum(axis=1)"
   ]
  },
  {
   "cell_type": "code",
   "execution_count": 20,
   "id": "parliamentary-calgary",
   "metadata": {
    "execution": {
     "iopub.execute_input": "2021-01-25T00:40:30.588467Z",
     "iopub.status.busy": "2021-01-25T00:40:30.587923Z",
     "iopub.status.idle": "2021-01-25T00:40:31.487639Z",
     "shell.execute_reply": "2021-01-25T00:40:31.486917Z"
    },
    "papermill": {
     "duration": 0.931473,
     "end_time": "2021-01-25T00:40:31.487757",
     "exception": false,
     "start_time": "2021-01-25T00:40:30.556284",
     "status": "completed"
    },
    "tags": []
   },
   "outputs": [],
   "source": [
    "#hide\n",
    "import pandas as pd\n",
    "import matplotlib.pyplot as plt\n",
    "import matplotlib.ticker as ticker\n",
    "import matplotlib.animation as animation\n",
    "from IPython.display import HTML"
   ]
  },
  {
   "cell_type": "code",
   "execution_count": 21,
   "id": "lasting-extraction",
   "metadata": {
    "execution": {
     "iopub.execute_input": "2021-01-25T00:40:31.550232Z",
     "iopub.status.busy": "2021-01-25T00:40:31.549725Z",
     "iopub.status.idle": "2021-01-25T00:40:31.554683Z",
     "shell.execute_reply": "2021-01-25T00:40:31.554204Z"
    },
    "papermill": {
     "duration": 0.039221,
     "end_time": "2021-01-25T00:40:31.554795",
     "exception": false,
     "start_time": "2021-01-25T00:40:31.515574",
     "status": "completed"
    },
    "tags": []
   },
   "outputs": [],
   "source": [
    "#hide\n",
    "t = everydaycases.stack()"
   ]
  },
  {
   "cell_type": "code",
   "execution_count": 22,
   "id": "premier-sleeve",
   "metadata": {
    "execution": {
     "iopub.execute_input": "2021-01-25T00:40:31.616860Z",
     "iopub.status.busy": "2021-01-25T00:40:31.616266Z",
     "iopub.status.idle": "2021-01-25T00:40:31.622577Z",
     "shell.execute_reply": "2021-01-25T00:40:31.623055Z"
    },
    "papermill": {
     "duration": 0.039719,
     "end_time": "2021-01-25T00:40:31.623188",
     "exception": false,
     "start_time": "2021-01-25T00:40:31.583469",
     "status": "completed"
    },
    "tags": []
   },
   "outputs": [],
   "source": [
    "#hide\n",
    "g = t.reset_index(['Country/Region'])"
   ]
  },
  {
   "cell_type": "code",
   "execution_count": 23,
   "id": "distributed-pittsburgh",
   "metadata": {
    "execution": {
     "iopub.execute_input": "2021-01-25T00:40:31.684325Z",
     "iopub.status.busy": "2021-01-25T00:40:31.683681Z",
     "iopub.status.idle": "2021-01-25T00:40:31.686992Z",
     "shell.execute_reply": "2021-01-25T00:40:31.687408Z"
    },
    "papermill": {
     "duration": 0.035481,
     "end_time": "2021-01-25T00:40:31.687524",
     "exception": false,
     "start_time": "2021-01-25T00:40:31.652043",
     "status": "completed"
    },
    "tags": []
   },
   "outputs": [],
   "source": [
    "#hide\n",
    "g.index.name = 'date'"
   ]
  },
  {
   "cell_type": "code",
   "execution_count": 24,
   "id": "naked-donor",
   "metadata": {
    "execution": {
     "iopub.execute_input": "2021-01-25T00:40:31.750846Z",
     "iopub.status.busy": "2021-01-25T00:40:31.749570Z",
     "iopub.status.idle": "2021-01-25T00:40:31.751445Z",
     "shell.execute_reply": "2021-01-25T00:40:31.751870Z"
    },
    "papermill": {
     "duration": 0.036391,
     "end_time": "2021-01-25T00:40:31.751995",
     "exception": false,
     "start_time": "2021-01-25T00:40:31.715604",
     "status": "completed"
    },
    "tags": []
   },
   "outputs": [],
   "source": [
    "# #hide\n",
    "# g = g.reset_index(['date'])"
   ]
  },
  {
   "cell_type": "code",
   "execution_count": 25,
   "id": "incomplete-mustang",
   "metadata": {
    "execution": {
     "iopub.execute_input": "2021-01-25T00:40:31.817612Z",
     "iopub.status.busy": "2021-01-25T00:40:31.817030Z",
     "iopub.status.idle": "2021-01-25T00:40:31.820830Z",
     "shell.execute_reply": "2021-01-25T00:40:31.820393Z"
    },
    "papermill": {
     "duration": 0.037426,
     "end_time": "2021-01-25T00:40:31.820943",
     "exception": false,
     "start_time": "2021-01-25T00:40:31.783517",
     "status": "completed"
    },
    "tags": []
   },
   "outputs": [],
   "source": [
    "#hide\n",
    "# g.head()"
   ]
  },
  {
   "cell_type": "code",
   "execution_count": 26,
   "id": "specific-kruger",
   "metadata": {
    "execution": {
     "iopub.execute_input": "2021-01-25T00:40:31.887065Z",
     "iopub.status.busy": "2021-01-25T00:40:31.886078Z",
     "iopub.status.idle": "2021-01-25T00:40:31.888198Z",
     "shell.execute_reply": "2021-01-25T00:40:31.887728Z"
    },
    "papermill": {
     "duration": 0.036277,
     "end_time": "2021-01-25T00:40:31.888325",
     "exception": false,
     "start_time": "2021-01-25T00:40:31.852048",
     "status": "completed"
    },
    "tags": []
   },
   "outputs": [],
   "source": [
    "#hide\n",
    "# g.columns = ['date','country','cases']"
   ]
  },
  {
   "cell_type": "code",
   "execution_count": 27,
   "id": "tender-conversion",
   "metadata": {
    "execution": {
     "iopub.execute_input": "2021-01-25T00:40:31.952894Z",
     "iopub.status.busy": "2021-01-25T00:40:31.952243Z",
     "iopub.status.idle": "2021-01-25T00:40:31.953618Z",
     "shell.execute_reply": "2021-01-25T00:40:31.954217Z"
    },
    "papermill": {
     "duration": 0.035082,
     "end_time": "2021-01-25T00:40:31.954388",
     "exception": false,
     "start_time": "2021-01-25T00:40:31.919306",
     "status": "completed"
    },
    "tags": []
   },
   "outputs": [],
   "source": [
    "#hide\n",
    "# g['continent'] = g.country"
   ]
  },
  {
   "cell_type": "code",
   "execution_count": 28,
   "id": "substantial-wilderness",
   "metadata": {
    "execution": {
     "iopub.execute_input": "2021-01-25T00:40:32.014101Z",
     "iopub.status.busy": "2021-01-25T00:40:32.013581Z",
     "iopub.status.idle": "2021-01-25T00:40:32.015427Z",
     "shell.execute_reply": "2021-01-25T00:40:32.015791Z"
    },
    "papermill": {
     "duration": 0.032817,
     "end_time": "2021-01-25T00:40:32.015903",
     "exception": false,
     "start_time": "2021-01-25T00:40:31.983086",
     "status": "completed"
    },
    "tags": []
   },
   "outputs": [],
   "source": [
    "#hide\n",
    "# cols = list(g.columns.values)"
   ]
  },
  {
   "cell_type": "code",
   "execution_count": 29,
   "id": "solved-farming",
   "metadata": {
    "execution": {
     "iopub.execute_input": "2021-01-25T00:40:32.076587Z",
     "iopub.status.busy": "2021-01-25T00:40:32.075937Z",
     "iopub.status.idle": "2021-01-25T00:40:32.077825Z",
     "shell.execute_reply": "2021-01-25T00:40:32.077420Z"
    },
    "papermill": {
     "duration": 0.034977,
     "end_time": "2021-01-25T00:40:32.077910",
     "exception": false,
     "start_time": "2021-01-25T00:40:32.042933",
     "status": "completed"
    },
    "tags": []
   },
   "outputs": [],
   "source": [
    "#hide\n",
    "# cols.insert(0, cols.pop())"
   ]
  },
  {
   "cell_type": "code",
   "execution_count": 30,
   "id": "executed-adoption",
   "metadata": {
    "execution": {
     "iopub.execute_input": "2021-01-25T00:40:32.141221Z",
     "iopub.status.busy": "2021-01-25T00:40:32.140680Z",
     "iopub.status.idle": "2021-01-25T00:40:32.142969Z",
     "shell.execute_reply": "2021-01-25T00:40:32.143420Z"
    },
    "papermill": {
     "duration": 0.03578,
     "end_time": "2021-01-25T00:40:32.143538",
     "exception": false,
     "start_time": "2021-01-25T00:40:32.107758",
     "status": "completed"
    },
    "tags": []
   },
   "outputs": [],
   "source": [
    "#hide\n",
    "# g = g[cols]"
   ]
  },
  {
   "cell_type": "code",
   "execution_count": 31,
   "id": "subject-dublin",
   "metadata": {
    "execution": {
     "iopub.execute_input": "2021-01-25T00:40:32.212669Z",
     "iopub.status.busy": "2021-01-25T00:40:32.212194Z",
     "iopub.status.idle": "2021-01-25T00:40:32.214541Z",
     "shell.execute_reply": "2021-01-25T00:40:32.215405Z"
    },
    "papermill": {
     "duration": 0.037413,
     "end_time": "2021-01-25T00:40:32.215549",
     "exception": false,
     "start_time": "2021-01-25T00:40:32.178136",
     "status": "completed"
    },
    "tags": []
   },
   "outputs": [],
   "source": [
    "#hide\n",
    "# g['continent'] = g['continent'].map(mapping['map.continent'])"
   ]
  },
  {
   "cell_type": "code",
   "execution_count": 32,
   "id": "freelance-scout",
   "metadata": {
    "execution": {
     "iopub.execute_input": "2021-01-25T00:40:32.276034Z",
     "iopub.status.busy": "2021-01-25T00:40:32.275594Z",
     "iopub.status.idle": "2021-01-25T00:40:32.277769Z",
     "shell.execute_reply": "2021-01-25T00:40:32.278331Z"
    },
    "papermill": {
     "duration": 0.033846,
     "end_time": "2021-01-25T00:40:32.278464",
     "exception": false,
     "start_time": "2021-01-25T00:40:32.244618",
     "status": "completed"
    },
    "tags": []
   },
   "outputs": [],
   "source": [
    "#hide\n",
    "# g.head()"
   ]
  },
  {
   "cell_type": "code",
   "execution_count": 33,
   "id": "limited-engine",
   "metadata": {
    "execution": {
     "iopub.execute_input": "2021-01-25T00:40:32.339228Z",
     "iopub.status.busy": "2021-01-25T00:40:32.338820Z",
     "iopub.status.idle": "2021-01-25T00:40:32.341824Z",
     "shell.execute_reply": "2021-01-25T00:40:32.341267Z"
    },
    "papermill": {
     "duration": 0.035857,
     "end_time": "2021-01-25T00:40:32.341933",
     "exception": false,
     "start_time": "2021-01-25T00:40:32.306076",
     "status": "completed"
    },
    "tags": []
   },
   "outputs": [],
   "source": [
    "# hide\n",
    "# g['date'] = g['date'].astype('datetime64[ns]')"
   ]
  },
  {
   "cell_type": "code",
   "execution_count": 34,
   "id": "sophisticated-supervisor",
   "metadata": {
    "execution": {
     "iopub.execute_input": "2021-01-25T00:40:32.401676Z",
     "iopub.status.busy": "2021-01-25T00:40:32.401200Z",
     "iopub.status.idle": "2021-01-25T00:40:32.403430Z",
     "shell.execute_reply": "2021-01-25T00:40:32.403863Z"
    },
    "papermill": {
     "duration": 0.033461,
     "end_time": "2021-01-25T00:40:32.403987",
     "exception": false,
     "start_time": "2021-01-25T00:40:32.370526",
     "status": "completed"
    },
    "tags": []
   },
   "outputs": [],
   "source": [
    "#hide\n",
    "# g['date'] = g.date.dt.dayofyear"
   ]
  },
  {
   "cell_type": "code",
   "execution_count": 35,
   "id": "inside-dubai",
   "metadata": {
    "execution": {
     "iopub.execute_input": "2021-01-25T00:40:32.462670Z",
     "iopub.status.busy": "2021-01-25T00:40:32.462170Z",
     "iopub.status.idle": "2021-01-25T00:40:32.464984Z",
     "shell.execute_reply": "2021-01-25T00:40:32.464495Z"
    },
    "papermill": {
     "duration": 0.033596,
     "end_time": "2021-01-25T00:40:32.465152",
     "exception": false,
     "start_time": "2021-01-25T00:40:32.431556",
     "status": "completed"
    },
    "tags": []
   },
   "outputs": [],
   "source": [
    "#hide\n",
    "# g = g.rename(columns= {'continent':'group','country':'name','cases':'value'})"
   ]
  },
  {
   "cell_type": "code",
   "execution_count": 36,
   "id": "fleet-motorcycle",
   "metadata": {
    "execution": {
     "iopub.execute_input": "2021-01-25T00:40:32.533720Z",
     "iopub.status.busy": "2021-01-25T00:40:32.533180Z",
     "iopub.status.idle": "2021-01-25T00:40:32.535472Z",
     "shell.execute_reply": "2021-01-25T00:40:32.534889Z"
    },
    "papermill": {
     "duration": 0.043342,
     "end_time": "2021-01-25T00:40:32.535586",
     "exception": false,
     "start_time": "2021-01-25T00:40:32.492244",
     "status": "completed"
    },
    "tags": []
   },
   "outputs": [],
   "source": [
    "#hide\n",
    "# cols = ['name','group','day','value']"
   ]
  },
  {
   "cell_type": "code",
   "execution_count": 37,
   "id": "continued-sleeping",
   "metadata": {
    "execution": {
     "iopub.execute_input": "2021-01-25T00:40:32.594169Z",
     "iopub.status.busy": "2021-01-25T00:40:32.593761Z",
     "iopub.status.idle": "2021-01-25T00:40:32.596087Z",
     "shell.execute_reply": "2021-01-25T00:40:32.596529Z"
    },
    "papermill": {
     "duration": 0.032848,
     "end_time": "2021-01-25T00:40:32.596651",
     "exception": false,
     "start_time": "2021-01-25T00:40:32.563803",
     "status": "completed"
    },
    "tags": []
   },
   "outputs": [],
   "source": [
    "#hide\n",
    "# g.rename(columns= {'date':'day'},inplace = True)"
   ]
  },
  {
   "cell_type": "code",
   "execution_count": 38,
   "id": "major-fight",
   "metadata": {
    "execution": {
     "iopub.execute_input": "2021-01-25T00:40:32.662009Z",
     "iopub.status.busy": "2021-01-25T00:40:32.661285Z",
     "iopub.status.idle": "2021-01-25T00:40:32.663925Z",
     "shell.execute_reply": "2021-01-25T00:40:32.663505Z"
    },
    "papermill": {
     "duration": 0.039117,
     "end_time": "2021-01-25T00:40:32.664031",
     "exception": false,
     "start_time": "2021-01-25T00:40:32.624914",
     "status": "completed"
    },
    "tags": []
   },
   "outputs": [],
   "source": [
    "#hide\n",
    "# g = g[cols]"
   ]
  },
  {
   "cell_type": "code",
   "execution_count": 39,
   "id": "structured-mobile",
   "metadata": {
    "execution": {
     "iopub.execute_input": "2021-01-25T00:40:32.732299Z",
     "iopub.status.busy": "2021-01-25T00:40:32.731699Z",
     "iopub.status.idle": "2021-01-25T00:40:32.734455Z",
     "shell.execute_reply": "2021-01-25T00:40:32.734866Z"
    },
    "papermill": {
     "duration": 0.039301,
     "end_time": "2021-01-25T00:40:32.734997",
     "exception": false,
     "start_time": "2021-01-25T00:40:32.695696",
     "status": "completed"
    },
    "tags": []
   },
   "outputs": [],
   "source": [
    "# #hide\n",
    "# g = g[g.group.notna()]"
   ]
  },
  {
   "cell_type": "code",
   "execution_count": 40,
   "id": "determined-closing",
   "metadata": {
    "execution": {
     "iopub.execute_input": "2021-01-25T00:40:32.801203Z",
     "iopub.status.busy": "2021-01-25T00:40:32.800718Z",
     "iopub.status.idle": "2021-01-25T00:40:32.803258Z",
     "shell.execute_reply": "2021-01-25T00:40:32.802798Z"
    },
    "papermill": {
     "duration": 0.03814,
     "end_time": "2021-01-25T00:40:32.803375",
     "exception": false,
     "start_time": "2021-01-25T00:40:32.765235",
     "status": "completed"
    },
    "tags": []
   },
   "outputs": [],
   "source": [
    "# #hide\n",
    "# colors = dict(zip(\n",
    "#     [\"Oceania\", \"Europe\", \"Asia\", \"South America\", \"Middle East\", \"North America\", \"Africa\"],\n",
    "#     [\"#adb0ff\", \"#ffb3ff\", \"#90d595\", \"#e48381\", \"#aafbff\", \"#f7bb5f\", \"#eafb50\"]\n",
    "# ))\n",
    "# group_lk = g.set_index('name')['group'].to_dict()"
   ]
  },
  {
   "cell_type": "code",
   "execution_count": null,
   "id": "gross-drinking",
   "metadata": {
    "papermill": {
     "duration": 0.028006,
     "end_time": "2021-01-25T00:40:32.862389",
     "exception": false,
     "start_time": "2021-01-25T00:40:32.834383",
     "status": "completed"
    },
    "tags": []
   },
   "outputs": [],
   "source": []
  },
  {
   "cell_type": "code",
   "execution_count": 41,
   "id": "subject-macintosh",
   "metadata": {
    "execution": {
     "iopub.execute_input": "2021-01-25T00:40:32.925735Z",
     "iopub.status.busy": "2021-01-25T00:40:32.925240Z",
     "iopub.status.idle": "2021-01-25T00:40:32.928155Z",
     "shell.execute_reply": "2021-01-25T00:40:32.927731Z"
    },
    "papermill": {
     "duration": 0.035841,
     "end_time": "2021-01-25T00:40:32.928281",
     "exception": false,
     "start_time": "2021-01-25T00:40:32.892440",
     "status": "completed"
    },
    "tags": []
   },
   "outputs": [],
   "source": [
    "# #hide\n",
    "# fig, ax = plt.subplots(figsize=(15, 8))\n",
    "\n",
    "# def draw_barchart(current_day):\n",
    "#     dff = g[g['day'].eq(current_day)].sort_values(by='value', ascending=True).tail(10)\n",
    "#     ax.clear()\n",
    "#     ax.barh(dff['name'], dff['value'], color=[colors[group_lk[x]] for x in dff['name']])\n",
    "#     dx = dff['value'].max() / 200\n",
    "    \n",
    "#     for i, (value, name) in enumerate(zip(dff['value'], dff['name'])):\n",
    "#         ax.text(value-dx, i,     name,           size=14, weight=600, ha='right', va='bottom')\n",
    "#         ax.text(value-dx, i-.25, group_lk[name], size=10, color='#444444', ha='right', va='baseline')\n",
    "#         ax.text(value+dx, i,     f'{value:,.0f}',  size=14, ha='left',  va='center')\n",
    "#     ax.text(1, 0.4, current_day, transform=ax.transAxes, color='#777777', size=46, ha='right', weight=800)\n",
    "#     ax.text(0, 1.06, 'Population (thousands)', transform=ax.transAxes, size=12, color='#777777')\n",
    "#     ax.xaxis.set_major_formatter(ticker.StrMethodFormatter('{x:,.0f}'))\n",
    "#     ax.xaxis.set_ticks_position('top')\n",
    "#     ax.tick_params(axis='x', colors='#777777', labelsize=12)\n",
    "#     ax.set_yticks([])\n",
    "#     ax.margins(0, 0.01)\n",
    "#     ax.grid(which='major', axis='x', linestyle='-')\n",
    "#     ax.set_axisbelow(True)\n",
    "    \n",
    "#     ax.text(0, 1.15, 'Coronavirus',\n",
    "#             transform=ax.transAxes, size=24, weight=600, ha='left', va='top')\n",
    "# #     ax.text(1, 0, 'by @pratapvardhan; credit @jburnmurdoch', transform=ax.transAxes, color='#777777', ha='right',\n",
    "# #             bbox=dict(facecolor='white', alpha=0.8, edgecolor='white'))\n",
    "#     plt.box(False)"
   ]
  },
  {
   "cell_type": "code",
   "execution_count": 42,
   "id": "sexual-wages",
   "metadata": {
    "execution": {
     "iopub.execute_input": "2021-01-25T00:40:32.983473Z",
     "iopub.status.busy": "2021-01-25T00:40:32.983059Z",
     "iopub.status.idle": "2021-01-25T00:40:32.984990Z",
     "shell.execute_reply": "2021-01-25T00:40:32.984525Z"
    },
    "papermill": {
     "duration": 0.031062,
     "end_time": "2021-01-25T00:40:32.985087",
     "exception": false,
     "start_time": "2021-01-25T00:40:32.954025",
     "status": "completed"
    },
    "tags": []
   },
   "outputs": [],
   "source": [
    "# #hide_input\n",
    "# fig, ax = plt.subplots(figsize=(15, 8))\n",
    "# animator = animation.FuncAnimation(fig, draw_barchart, frames=range(g.day.values.min(), g.day.values.max()))\n",
    "# HTML(animator.to_jshtml())\n",
    "# # or use animator.to_html5_video() or animator.save() "
   ]
  },
  {
   "cell_type": "code",
   "execution_count": null,
   "id": "australian-container",
   "metadata": {
    "papermill": {
     "duration": 0.026875,
     "end_time": "2021-01-25T00:40:33.039338",
     "exception": false,
     "start_time": "2021-01-25T00:40:33.012463",
     "status": "completed"
    },
    "tags": []
   },
   "outputs": [],
   "source": []
  },
  {
   "cell_type": "code",
   "execution_count": null,
   "id": "mediterranean-pontiac",
   "metadata": {
    "papermill": {
     "duration": 0.026973,
     "end_time": "2021-01-25T00:40:33.096967",
     "exception": false,
     "start_time": "2021-01-25T00:40:33.069994",
     "status": "completed"
    },
    "tags": []
   },
   "outputs": [],
   "source": []
  },
  {
   "cell_type": "code",
   "execution_count": null,
   "id": "aging-legislature",
   "metadata": {
    "papermill": {
     "duration": 0.026834,
     "end_time": "2021-01-25T00:40:33.151168",
     "exception": false,
     "start_time": "2021-01-25T00:40:33.124334",
     "status": "completed"
    },
    "tags": []
   },
   "outputs": [],
   "source": []
  }
 ],
 "metadata": {
  "kernelspec": {
   "display_name": "Python 3",
   "language": "python",
   "name": "python3"
  },
  "language_info": {
   "codemirror_mode": {
    "name": "ipython",
    "version": 3
   },
   "file_extension": ".py",
   "mimetype": "text/x-python",
   "name": "python",
   "nbconvert_exporter": "python",
   "pygments_lexer": "ipython3",
   "version": "3.6.12"
  },
  "papermill": {
   "duration": 6.057839,
   "end_time": "2021-01-25T00:40:33.489892",
   "environment_variables": {},
   "exception": null,
   "input_path": "2020-03-21-covid19exp.ipynb",
   "output_path": "2020-03-21-covid19exp.ipynb",
   "parameters": {},
   "start_time": "2021-01-25T00:40:27.432053",
   "version": "2.0.0"
  }
 },
 "nbformat": 4,
 "nbformat_minor": 5
}