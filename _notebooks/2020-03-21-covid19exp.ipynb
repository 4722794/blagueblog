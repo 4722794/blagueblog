{
 "cells": [
  {
   "cell_type": "markdown",
   "id": "muslim-click",
   "metadata": {
    "papermill": {
     "duration": 0.033978,
     "end_time": "2022-01-27T00:25:32.988097",
     "exception": false,
     "start_time": "2022-01-27T00:25:32.954119",
     "status": "completed"
    },
    "tags": []
   },
   "source": [
    "# COVID-19 Case Race\n",
    "> A race chart to see rising cases around the world\n",
    "\n",
    "- author: Hargun Oberoi\n",
    "- image: images/covid-overview.png\n",
    "- hide: false\n",
    "- badges: false"
   ]
  },
  {
   "cell_type": "code",
   "execution_count": 1,
   "id": "proof-material",
   "metadata": {
    "execution": {
     "iopub.execute_input": "2022-01-27T00:25:33.061523Z",
     "iopub.status.busy": "2022-01-27T00:25:33.060900Z",
     "iopub.status.idle": "2022-01-27T00:25:33.394458Z",
     "shell.execute_reply": "2022-01-27T00:25:33.394953Z"
    },
    "papermill": {
     "duration": 0.375545,
     "end_time": "2022-01-27T00:25:33.395141",
     "exception": false,
     "start_time": "2022-01-27T00:25:33.019596",
     "status": "completed"
    },
    "tags": []
   },
   "outputs": [],
   "source": [
    "#hide\n",
    "import numpy as np\n",
    "import pandas as pd\n",
    "from jinja2 import Template\n",
    "from IPython.display import HTML"
   ]
  },
  {
   "cell_type": "code",
   "execution_count": 2,
   "id": "developed-terminology",
   "metadata": {
    "execution": {
     "iopub.execute_input": "2022-01-27T00:25:33.461685Z",
     "iopub.status.busy": "2022-01-27T00:25:33.461047Z",
     "iopub.status.idle": "2022-01-27T00:25:33.463768Z",
     "shell.execute_reply": "2022-01-27T00:25:33.463343Z"
    },
    "papermill": {
     "duration": 0.037761,
     "end_time": "2022-01-27T00:25:33.463884",
     "exception": false,
     "start_time": "2022-01-27T00:25:33.426123",
     "status": "completed"
    },
    "tags": []
   },
   "outputs": [],
   "source": [
    "#hide\n",
    "\n",
    "# FETCH\n",
    "base_url = 'https://raw.githubusercontent.com/pratapvardhan/notebooks/master/covid19/'\n",
    "paths = {\n",
    "    'mapping': base_url + 'mapping_countries.csv',\n",
    "    'overview': base_url + 'overview.tpl'\n",
    "}"
   ]
  },
  {
   "cell_type": "code",
   "execution_count": 3,
   "id": "dynamic-saver",
   "metadata": {
    "execution": {
     "iopub.execute_input": "2022-01-27T00:25:33.534122Z",
     "iopub.status.busy": "2022-01-27T00:25:33.531396Z",
     "iopub.status.idle": "2022-01-27T00:25:33.536760Z",
     "shell.execute_reply": "2022-01-27T00:25:33.537280Z"
    },
    "papermill": {
     "duration": 0.043707,
     "end_time": "2022-01-27T00:25:33.537413",
     "exception": false,
     "start_time": "2022-01-27T00:25:33.493706",
     "status": "completed"
    },
    "tags": []
   },
   "outputs": [
    {
     "data": {
      "text/plain": [
       "'https://raw.githubusercontent.com/pratapvardhan/notebooks/master/covid19/mapping_countries.csv'"
      ]
     },
     "execution_count": 3,
     "metadata": {},
     "output_type": "execute_result"
    }
   ],
   "source": [
    "#hide\n",
    "paths['mapping']"
   ]
  },
  {
   "cell_type": "code",
   "execution_count": 4,
   "id": "urban-software",
   "metadata": {
    "execution": {
     "iopub.execute_input": "2022-01-27T00:25:33.603165Z",
     "iopub.status.busy": "2022-01-27T00:25:33.602552Z",
     "iopub.status.idle": "2022-01-27T00:25:33.604063Z",
     "shell.execute_reply": "2022-01-27T00:25:33.604527Z"
    },
    "papermill": {
     "duration": 0.037184,
     "end_time": "2022-01-27T00:25:33.604671",
     "exception": false,
     "start_time": "2022-01-27T00:25:33.567487",
     "status": "completed"
    },
    "tags": []
   },
   "outputs": [],
   "source": [
    "#hide\n",
    "def get_mappings(url):\n",
    "    df = pd.read_csv(url)\n",
    "    return {\n",
    "        'df': df,\n",
    "        'replace.country': dict(df.dropna(subset=['Name']).set_index('Country')['Name']),\n",
    "        'map.continent': dict(df.set_index('Name')['Continent'])\n",
    "    }"
   ]
  },
  {
   "cell_type": "code",
   "execution_count": 5,
   "id": "intimate-machinery",
   "metadata": {
    "execution": {
     "iopub.execute_input": "2022-01-27T00:25:33.669769Z",
     "iopub.status.busy": "2022-01-27T00:25:33.669216Z",
     "iopub.status.idle": "2022-01-27T00:25:33.735226Z",
     "shell.execute_reply": "2022-01-27T00:25:33.734674Z"
    },
    "papermill": {
     "duration": 0.100911,
     "end_time": "2022-01-27T00:25:33.735360",
     "exception": false,
     "start_time": "2022-01-27T00:25:33.634449",
     "status": "completed"
    },
    "tags": []
   },
   "outputs": [],
   "source": [
    "#hide\n",
    "mapping = get_mappings(paths['mapping'])"
   ]
  },
  {
   "cell_type": "code",
   "execution_count": 6,
   "id": "certified-tactics",
   "metadata": {
    "execution": {
     "iopub.execute_input": "2022-01-27T00:25:33.801181Z",
     "iopub.status.busy": "2022-01-27T00:25:33.800585Z",
     "iopub.status.idle": "2022-01-27T00:25:33.802335Z",
     "shell.execute_reply": "2022-01-27T00:25:33.802724Z"
    },
    "papermill": {
     "duration": 0.037206,
     "end_time": "2022-01-27T00:25:33.802857",
     "exception": false,
     "start_time": "2022-01-27T00:25:33.765651",
     "status": "completed"
    },
    "tags": []
   },
   "outputs": [],
   "source": [
    "#hide\n",
    "def get_template(path):\n",
    "    from urllib.parse import urlparse\n",
    "    if bool(urlparse(path).netloc):\n",
    "        from urllib.request import urlopen\n",
    "        return urlopen(path).read().decode('utf8')\n",
    "    return open(path).read()"
   ]
  },
  {
   "cell_type": "code",
   "execution_count": 7,
   "id": "realistic-blast",
   "metadata": {
    "execution": {
     "iopub.execute_input": "2022-01-27T00:25:33.867936Z",
     "iopub.status.busy": "2022-01-27T00:25:33.867297Z",
     "iopub.status.idle": "2022-01-27T00:25:33.868754Z",
     "shell.execute_reply": "2022-01-27T00:25:33.869286Z"
    },
    "papermill": {
     "duration": 0.036698,
     "end_time": "2022-01-27T00:25:33.869432",
     "exception": false,
     "start_time": "2022-01-27T00:25:33.832734",
     "status": "completed"
    },
    "tags": []
   },
   "outputs": [],
   "source": [
    "#hide\n",
    "def get_frame(name):\n",
    "    url = (\n",
    "        'https://raw.githubusercontent.com/CSSEGISandData/COVID-19/master/csse_covid_19_data/'\n",
    "        f'csse_covid_19_time_series/time_series_covid19_{name}_global.csv')\n",
    "    df = pd.read_csv(url)\n",
    "    # rename countries\n",
    "    df['Country/Region'] = df['Country/Region'].replace(mapping['replace.country'])\n",
    "    return df"
   ]
  },
  {
   "cell_type": "code",
   "execution_count": 8,
   "id": "affiliated-characterization",
   "metadata": {
    "execution": {
     "iopub.execute_input": "2022-01-27T00:25:33.935753Z",
     "iopub.status.busy": "2022-01-27T00:25:33.935108Z",
     "iopub.status.idle": "2022-01-27T00:25:33.938583Z",
     "shell.execute_reply": "2022-01-27T00:25:33.939035Z"
    },
    "papermill": {
     "duration": 0.039779,
     "end_time": "2022-01-27T00:25:33.939185",
     "exception": false,
     "start_time": "2022-01-27T00:25:33.899406",
     "status": "completed"
    },
    "tags": []
   },
   "outputs": [],
   "source": [
    "#hide\n",
    "def get_dates(df):\n",
    "    dt_cols = df.columns[~df.columns.isin(['Province/State', 'Country/Region', 'Lat', 'Long'])]\n",
    "    LAST_DATE_I = -1\n",
    "    # sometimes last column may be empty, then go backwards\n",
    "    for i in range(-1, -len(dt_cols), -1):\n",
    "        if not df[dt_cols[i]].fillna(0).eq(0).all():\n",
    "            LAST_DATE_I = i\n",
    "            break\n",
    "    return LAST_DATE_I, dt_cols"
   ]
  },
  {
   "cell_type": "code",
   "execution_count": 9,
   "id": "recent-optimization",
   "metadata": {
    "execution": {
     "iopub.execute_input": "2022-01-27T00:25:34.003927Z",
     "iopub.status.busy": "2022-01-27T00:25:34.003384Z",
     "iopub.status.idle": "2022-01-27T00:25:34.607602Z",
     "shell.execute_reply": "2022-01-27T00:25:34.607084Z"
    },
    "papermill": {
     "duration": 0.638735,
     "end_time": "2022-01-27T00:25:34.607744",
     "exception": false,
     "start_time": "2022-01-27T00:25:33.969009",
     "status": "completed"
    },
    "tags": []
   },
   "outputs": [],
   "source": [
    "#hide\n",
    "COL_REGION = 'Country/Region'\n",
    "# Confirmed, Recovered, Deaths\n",
    "df = get_frame('confirmed')\n",
    "# dft_: timeseries, dfc_: today country agg\n",
    "dft_cases = df\n",
    "dft_deaths = get_frame('deaths')\n",
    "dft_recovered = get_frame('recovered')\n",
    "LAST_DATE_I, dt_cols = get_dates(df)"
   ]
  },
  {
   "cell_type": "code",
   "execution_count": 10,
   "id": "absolute-copper",
   "metadata": {
    "execution": {
     "iopub.execute_input": "2022-01-27T00:25:34.674419Z",
     "iopub.status.busy": "2022-01-27T00:25:34.673870Z",
     "iopub.status.idle": "2022-01-27T00:25:34.675561Z",
     "shell.execute_reply": "2022-01-27T00:25:34.675945Z"
    },
    "papermill": {
     "duration": 0.037771,
     "end_time": "2022-01-27T00:25:34.676080",
     "exception": false,
     "start_time": "2022-01-27T00:25:34.638309",
     "status": "completed"
    },
    "tags": []
   },
   "outputs": [],
   "source": [
    "#hide\n",
    "LAST_DATE_I, dt_cols = get_dates(df)\n",
    "dt_today =dt_cols[LAST_DATE_I]\n",
    "# dt_5day = dt_cols[LAST_DATE_I - 5]\n",
    "dt_yday = dt_cols[LAST_DATE_I - 1]"
   ]
  },
  {
   "cell_type": "code",
   "execution_count": 11,
   "id": "restricted-sheriff",
   "metadata": {
    "execution": {
     "iopub.execute_input": "2022-01-27T00:25:34.743705Z",
     "iopub.status.busy": "2022-01-27T00:25:34.743154Z",
     "iopub.status.idle": "2022-01-27T00:25:34.749045Z",
     "shell.execute_reply": "2022-01-27T00:25:34.748594Z"
    },
    "papermill": {
     "duration": 0.043139,
     "end_time": "2022-01-27T00:25:34.749168",
     "exception": false,
     "start_time": "2022-01-27T00:25:34.706029",
     "status": "completed"
    },
    "tags": []
   },
   "outputs": [],
   "source": [
    "#hide\n",
    "dfc_cases = dft_cases.groupby(COL_REGION)[dt_today].sum()\n",
    "dfc_deaths = dft_deaths.groupby(COL_REGION)[dt_today].sum()\n",
    "# dfp_cases = dft_cases.groupby(COL_REGION)[dt_5day].sum()\n",
    "# dfp_deaths = dft_deaths.groupby(COL_REGION)[dt_5day].sum()\n",
    "dfp_cases = dft_cases.groupby(COL_REGION)[dt_yday].sum()\n",
    "dfp_deaths = dft_deaths.groupby(COL_REGION)[dt_yday].sum()"
   ]
  },
  {
   "cell_type": "code",
   "execution_count": 12,
   "id": "deluxe-hepatitis",
   "metadata": {
    "execution": {
     "iopub.execute_input": "2022-01-27T00:25:34.815423Z",
     "iopub.status.busy": "2022-01-27T00:25:34.814898Z",
     "iopub.status.idle": "2022-01-27T00:25:34.819014Z",
     "shell.execute_reply": "2022-01-27T00:25:34.819511Z"
    },
    "papermill": {
     "duration": 0.040505,
     "end_time": "2022-01-27T00:25:34.819644",
     "exception": false,
     "start_time": "2022-01-27T00:25:34.779139",
     "status": "completed"
    },
    "tags": []
   },
   "outputs": [],
   "source": [
    "#hide\n",
    "df_table = (pd.DataFrame(dict(Cases = dfc_cases, Deaths = dfc_deaths, PCases = dfp_cases, PDeaths = dfp_deaths))\n",
    "            .sort_values(by = ['Cases','Deaths'], ascending = [False, False])\n",
    "            .reset_index())"
   ]
  },
  {
   "cell_type": "code",
   "execution_count": 13,
   "id": "educational-chancellor",
   "metadata": {
    "execution": {
     "iopub.execute_input": "2022-01-27T00:25:34.902064Z",
     "iopub.status.busy": "2022-01-27T00:25:34.897616Z",
     "iopub.status.idle": "2022-01-27T00:25:34.905111Z",
     "shell.execute_reply": "2022-01-27T00:25:34.904651Z"
    },
    "papermill": {
     "duration": 0.055754,
     "end_time": "2022-01-27T00:25:34.905235",
     "exception": false,
     "start_time": "2022-01-27T00:25:34.849481",
     "status": "completed"
    },
    "tags": []
   },
   "outputs": [
    {
     "data": {
      "text/html": [
       "<div>\n",
       "<style scoped>\n",
       "    .dataframe tbody tr th:only-of-type {\n",
       "        vertical-align: middle;\n",
       "    }\n",
       "\n",
       "    .dataframe tbody tr th {\n",
       "        vertical-align: top;\n",
       "    }\n",
       "\n",
       "    .dataframe thead th {\n",
       "        text-align: right;\n",
       "    }\n",
       "</style>\n",
       "<table border=\"1\" class=\"dataframe\">\n",
       "  <thead>\n",
       "    <tr style=\"text-align: right;\">\n",
       "      <th></th>\n",
       "      <th>Country/Region</th>\n",
       "      <th>Cases</th>\n",
       "      <th>Deaths</th>\n",
       "      <th>PCases</th>\n",
       "      <th>PDeaths</th>\n",
       "      <th>Cases (+)</th>\n",
       "      <th>Deaths (+)</th>\n",
       "      <th>Fatality Rate</th>\n",
       "      <th>Continent</th>\n",
       "    </tr>\n",
       "  </thead>\n",
       "  <tbody>\n",
       "    <tr>\n",
       "      <th>0</th>\n",
       "      <td>US</td>\n",
       "      <td>72257016</td>\n",
       "      <td>872025</td>\n",
       "      <td>71741698</td>\n",
       "      <td>869026</td>\n",
       "      <td>515318</td>\n",
       "      <td>2999</td>\n",
       "      <td>1.21</td>\n",
       "      <td>North America</td>\n",
       "    </tr>\n",
       "    <tr>\n",
       "      <th>1</th>\n",
       "      <td>India</td>\n",
       "      <td>40085116</td>\n",
       "      <td>491127</td>\n",
       "      <td>39799202</td>\n",
       "      <td>490462</td>\n",
       "      <td>285914</td>\n",
       "      <td>665</td>\n",
       "      <td>1.23</td>\n",
       "      <td>Asia</td>\n",
       "    </tr>\n",
       "    <tr>\n",
       "      <th>2</th>\n",
       "      <td>Brazil</td>\n",
       "      <td>24342322</td>\n",
       "      <td>624129</td>\n",
       "      <td>24142032</td>\n",
       "      <td>623636</td>\n",
       "      <td>200290</td>\n",
       "      <td>493</td>\n",
       "      <td>2.56</td>\n",
       "      <td>South America</td>\n",
       "    </tr>\n",
       "    <tr>\n",
       "      <th>3</th>\n",
       "      <td>France</td>\n",
       "      <td>17420569</td>\n",
       "      <td>130483</td>\n",
       "      <td>16917220</td>\n",
       "      <td>130013</td>\n",
       "      <td>503349</td>\n",
       "      <td>470</td>\n",
       "      <td>0.75</td>\n",
       "      <td>Europe</td>\n",
       "    </tr>\n",
       "    <tr>\n",
       "      <th>4</th>\n",
       "      <td>United Kingdom</td>\n",
       "      <td>16158455</td>\n",
       "      <td>154875</td>\n",
       "      <td>16063010</td>\n",
       "      <td>154430</td>\n",
       "      <td>95445</td>\n",
       "      <td>445</td>\n",
       "      <td>0.96</td>\n",
       "      <td>Europe</td>\n",
       "    </tr>\n",
       "  </tbody>\n",
       "</table>\n",
       "</div>"
      ],
      "text/plain": [
       "   Country/Region     Cases  Deaths    PCases  PDeaths  Cases (+)  Deaths (+)  \\\n",
       "0              US  72257016  872025  71741698   869026     515318        2999   \n",
       "1           India  40085116  491127  39799202   490462     285914         665   \n",
       "2          Brazil  24342322  624129  24142032   623636     200290         493   \n",
       "3          France  17420569  130483  16917220   130013     503349         470   \n",
       "4  United Kingdom  16158455  154875  16063010   154430      95445         445   \n",
       "\n",
       "   Fatality Rate      Continent  \n",
       "0           1.21  North America  \n",
       "1           1.23           Asia  \n",
       "2           2.56  South America  \n",
       "3           0.75         Europe  \n",
       "4           0.96         Europe  "
      ]
     },
     "execution_count": 13,
     "metadata": {},
     "output_type": "execute_result"
    }
   ],
   "source": [
    "#hide\n",
    "for c in 'Cases, Deaths'.split(', '):\n",
    "    df_table[f'{c} (+)'] = (df_table[c] - df_table[f'P{c}']).clip(0)\n",
    "    #Clip ça veut dire, les chiffres negatif sont interdit\n",
    "df_table['Fatality Rate'] = (100* df_table['Deaths']/ df_table['Cases']).round(2)\n",
    "df_table['Continent'] = df_table['Country/Region'].map(mapping['map.continent'])\n",
    "df_table.head(5)"
   ]
  },
  {
   "cell_type": "code",
   "execution_count": 14,
   "id": "aboriginal-bulgaria",
   "metadata": {
    "execution": {
     "iopub.execute_input": "2022-01-27T00:25:34.972324Z",
     "iopub.status.busy": "2022-01-27T00:25:34.971810Z",
     "iopub.status.idle": "2022-01-27T00:25:34.973836Z",
     "shell.execute_reply": "2022-01-27T00:25:34.974328Z"
    },
    "papermill": {
     "duration": 0.038744,
     "end_time": "2022-01-27T00:25:34.974455",
     "exception": false,
     "start_time": "2022-01-27T00:25:34.935711",
     "status": "completed"
    },
    "tags": []
   },
   "outputs": [],
   "source": [
    "#hide\n",
    "#delete problematic countries from table\n",
    "df_table = df_table[~df_table['Country/Region'].isin(['Cape Verde', 'Cruise Ship', 'Kosovo'])]"
   ]
  },
  {
   "cell_type": "code",
   "execution_count": 15,
   "id": "fantastic-effect",
   "metadata": {
    "execution": {
     "iopub.execute_input": "2022-01-27T00:25:35.042797Z",
     "iopub.status.busy": "2022-01-27T00:25:35.042265Z",
     "iopub.status.idle": "2022-01-27T00:25:35.059867Z",
     "shell.execute_reply": "2022-01-27T00:25:35.059444Z"
    },
    "papermill": {
     "duration": 0.055332,
     "end_time": "2022-01-27T00:25:35.059989",
     "exception": false,
     "start_time": "2022-01-27T00:25:35.004657",
     "status": "completed"
    },
    "tags": []
   },
   "outputs": [
    {
     "data": {
      "text/html": [
       "<div>\n",
       "<style scoped>\n",
       "    .dataframe tbody tr th:only-of-type {\n",
       "        vertical-align: middle;\n",
       "    }\n",
       "\n",
       "    .dataframe tbody tr th {\n",
       "        vertical-align: top;\n",
       "    }\n",
       "\n",
       "    .dataframe thead th {\n",
       "        text-align: right;\n",
       "    }\n",
       "</style>\n",
       "<table border=\"1\" class=\"dataframe\">\n",
       "  <thead>\n",
       "    <tr style=\"text-align: right;\">\n",
       "      <th></th>\n",
       "      <th>Country/Region</th>\n",
       "      <th>Cases</th>\n",
       "      <th>Deaths</th>\n",
       "      <th>PCases</th>\n",
       "      <th>PDeaths</th>\n",
       "      <th>Cases (+)</th>\n",
       "      <th>Deaths (+)</th>\n",
       "      <th>Fatality Rate</th>\n",
       "      <th>Continent</th>\n",
       "    </tr>\n",
       "  </thead>\n",
       "  <tbody>\n",
       "    <tr>\n",
       "      <th>0</th>\n",
       "      <td>US</td>\n",
       "      <td>72257016</td>\n",
       "      <td>872025</td>\n",
       "      <td>71741698</td>\n",
       "      <td>869026</td>\n",
       "      <td>515318</td>\n",
       "      <td>2999</td>\n",
       "      <td>1.2</td>\n",
       "      <td>North America</td>\n",
       "    </tr>\n",
       "    <tr>\n",
       "      <th>1</th>\n",
       "      <td>India</td>\n",
       "      <td>40085116</td>\n",
       "      <td>491127</td>\n",
       "      <td>39799202</td>\n",
       "      <td>490462</td>\n",
       "      <td>285914</td>\n",
       "      <td>665</td>\n",
       "      <td>1.2</td>\n",
       "      <td>Asia</td>\n",
       "    </tr>\n",
       "    <tr>\n",
       "      <th>2</th>\n",
       "      <td>Brazil</td>\n",
       "      <td>24342322</td>\n",
       "      <td>624129</td>\n",
       "      <td>24142032</td>\n",
       "      <td>623636</td>\n",
       "      <td>200290</td>\n",
       "      <td>493</td>\n",
       "      <td>2.6</td>\n",
       "      <td>South America</td>\n",
       "    </tr>\n",
       "    <tr>\n",
       "      <th>3</th>\n",
       "      <td>France</td>\n",
       "      <td>17420569</td>\n",
       "      <td>130483</td>\n",
       "      <td>16917220</td>\n",
       "      <td>130013</td>\n",
       "      <td>503349</td>\n",
       "      <td>470</td>\n",
       "      <td>0.7</td>\n",
       "      <td>Europe</td>\n",
       "    </tr>\n",
       "    <tr>\n",
       "      <th>4</th>\n",
       "      <td>United Kingdom</td>\n",
       "      <td>16158455</td>\n",
       "      <td>154875</td>\n",
       "      <td>16063010</td>\n",
       "      <td>154430</td>\n",
       "      <td>95445</td>\n",
       "      <td>445</td>\n",
       "      <td>1.0</td>\n",
       "      <td>Europe</td>\n",
       "    </tr>\n",
       "  </tbody>\n",
       "</table>\n",
       "</div>"
      ],
      "text/plain": [
       "   Country/Region     Cases  Deaths    PCases  PDeaths  Cases (+)  Deaths (+)  \\\n",
       "0              US  72257016  872025  71741698   869026     515318        2999   \n",
       "1           India  40085116  491127  39799202   490462     285914         665   \n",
       "2          Brazil  24342322  624129  24142032   623636     200290         493   \n",
       "3          France  17420569  130483  16917220   130013     503349         470   \n",
       "4  United Kingdom  16158455  154875  16063010   154430      95445         445   \n",
       "\n",
       "   Fatality Rate      Continent  \n",
       "0            1.2  North America  \n",
       "1            1.2           Asia  \n",
       "2            2.6  South America  \n",
       "3            0.7         Europe  \n",
       "4            1.0         Europe  "
      ]
     },
     "execution_count": 15,
     "metadata": {},
     "output_type": "execute_result"
    }
   ],
   "source": [
    "#hide\n",
    "df_table = (pd.DataFrame(dict(Cases=dfc_cases, Deaths=dfc_deaths, PCases=dfp_cases, PDeaths=dfp_deaths))\n",
    "             .sort_values(by=['Cases', 'Deaths'], ascending=[False, False])\n",
    "             .reset_index())\n",
    "df_table.rename(columns={'index': 'Country/Region'}, inplace=True)\n",
    "for c in 'Cases, Deaths'.split(', '):\n",
    "    df_table[f'{c} (+)'] = (df_table[c] - df_table[f'P{c}']).clip(0)  # DATA BUG\n",
    "df_table['Fatality Rate'] = (100 * df_table['Deaths'] / df_table['Cases']).round(1)\n",
    "df_table['Continent'] = df_table['Country/Region'].map(mapping['map.continent'])\n",
    "df_table.head(5)"
   ]
  },
  {
   "cell_type": "code",
   "execution_count": 16,
   "id": "fewer-occasion",
   "metadata": {
    "execution": {
     "iopub.execute_input": "2022-01-27T00:25:35.128165Z",
     "iopub.status.busy": "2022-01-27T00:25:35.127638Z",
     "iopub.status.idle": "2022-01-27T00:25:35.130223Z",
     "shell.execute_reply": "2022-01-27T00:25:35.129806Z"
    },
    "papermill": {
     "duration": 0.039007,
     "end_time": "2022-01-27T00:25:35.130340",
     "exception": false,
     "start_time": "2022-01-27T00:25:35.091333",
     "status": "completed"
    },
    "tags": []
   },
   "outputs": [],
   "source": [
    "#hide\n",
    "#delete problematic countries from table\n",
    "df_table = df_table[~df_table['Country/Region'].isin(['Cape Verde', 'Cruise Ship', 'Kosovo'])]"
   ]
  },
  {
   "cell_type": "code",
   "execution_count": 17,
   "id": "related-center",
   "metadata": {
    "execution": {
     "iopub.execute_input": "2022-01-27T00:25:35.210650Z",
     "iopub.status.busy": "2022-01-27T00:25:35.210009Z",
     "iopub.status.idle": "2022-01-27T00:25:35.212040Z",
     "shell.execute_reply": "2022-01-27T00:25:35.212429Z"
    },
    "papermill": {
     "duration": 0.051331,
     "end_time": "2022-01-27T00:25:35.212572",
     "exception": false,
     "start_time": "2022-01-27T00:25:35.161241",
     "status": "completed"
    },
    "tags": []
   },
   "outputs": [],
   "source": [
    "#hide\n",
    "metrics = [df_table.columns[index] for index in [1,2,5,6]]\n",
    "# s_china = df_table[df_table['Country/Region'].eq('China')][metrics].sum().add_prefix('China ')\n",
    "s_us = df_table[df_table['Country/Region'].eq('US')][metrics].sum().add_prefix('US ')\n",
    "s_eu = df_table[df_table['Continent'].eq('Europe')][metrics].sum().add_prefix('EU ')\n",
    "s_ind = df_table[df_table['Country/Region'].eq('India')][metrics].sum().add_prefix('India ')\n",
    "summary = {'updated': pd.to_datetime(dt_today), 'since': pd.to_datetime(dt_yday)}\n",
    "summary = {'updated': pd.to_datetime(dt_today), 'since': pd.to_datetime(dt_yday)}\n",
    "summary = {**summary, **df_table[metrics].sum(), **s_ind, **s_us, **s_eu}"
   ]
  },
  {
   "cell_type": "code",
   "execution_count": 18,
   "id": "engaging-syndrome",
   "metadata": {
    "execution": {
     "iopub.execute_input": "2022-01-27T00:25:35.282628Z",
     "iopub.status.busy": "2022-01-27T00:25:35.279210Z",
     "iopub.status.idle": "2022-01-27T00:25:35.296209Z",
     "shell.execute_reply": "2022-01-27T00:25:35.296620Z"
    },
    "papermill": {
     "duration": 0.053306,
     "end_time": "2022-01-27T00:25:35.296763",
     "exception": false,
     "start_time": "2022-01-27T00:25:35.243457",
     "status": "completed"
    },
    "tags": []
   },
   "outputs": [],
   "source": [
    "#hide\n",
    "dft_ct_new_cases = dft_cases.groupby(COL_REGION)[dt_cols].sum().diff(axis=1).fillna(0).astype(int)"
   ]
  },
  {
   "cell_type": "code",
   "execution_count": 19,
   "id": "neutral-assignment",
   "metadata": {
    "execution": {
     "iopub.execute_input": "2022-01-27T00:25:35.365030Z",
     "iopub.status.busy": "2022-01-27T00:25:35.364440Z",
     "iopub.status.idle": "2022-01-27T00:25:35.366574Z",
     "shell.execute_reply": "2022-01-27T00:25:35.366153Z"
    },
    "papermill": {
     "duration": 0.039042,
     "end_time": "2022-01-27T00:25:35.366691",
     "exception": false,
     "start_time": "2022-01-27T00:25:35.327649",
     "status": "completed"
    },
    "tags": []
   },
   "outputs": [],
   "source": [
    "#hide\n",
    "everydaycases = dft_ct_new_cases.cumsum(axis=1)"
   ]
  },
  {
   "cell_type": "code",
   "execution_count": 20,
   "id": "parliamentary-calgary",
   "metadata": {
    "execution": {
     "iopub.execute_input": "2022-01-27T00:25:35.433357Z",
     "iopub.status.busy": "2022-01-27T00:25:35.432772Z",
     "iopub.status.idle": "2022-01-27T00:25:36.070721Z",
     "shell.execute_reply": "2022-01-27T00:25:36.070191Z"
    },
    "papermill": {
     "duration": 0.672997,
     "end_time": "2022-01-27T00:25:36.070862",
     "exception": false,
     "start_time": "2022-01-27T00:25:35.397865",
     "status": "completed"
    },
    "tags": []
   },
   "outputs": [],
   "source": [
    "#hide\n",
    "import pandas as pd\n",
    "import matplotlib.pyplot as plt\n",
    "import matplotlib.ticker as ticker\n",
    "import matplotlib.animation as animation\n",
    "from IPython.display import HTML"
   ]
  },
  {
   "cell_type": "code",
   "execution_count": 21,
   "id": "lasting-extraction",
   "metadata": {
    "execution": {
     "iopub.execute_input": "2022-01-27T00:25:36.139563Z",
     "iopub.status.busy": "2022-01-27T00:25:36.139034Z",
     "iopub.status.idle": "2022-01-27T00:25:36.145075Z",
     "shell.execute_reply": "2022-01-27T00:25:36.145583Z"
    },
    "papermill": {
     "duration": 0.043274,
     "end_time": "2022-01-27T00:25:36.145721",
     "exception": false,
     "start_time": "2022-01-27T00:25:36.102447",
     "status": "completed"
    },
    "tags": []
   },
   "outputs": [],
   "source": [
    "#hide\n",
    "t = everydaycases.stack()"
   ]
  },
  {
   "cell_type": "code",
   "execution_count": 22,
   "id": "premier-sleeve",
   "metadata": {
    "execution": {
     "iopub.execute_input": "2022-01-27T00:25:36.213401Z",
     "iopub.status.busy": "2022-01-27T00:25:36.212506Z",
     "iopub.status.idle": "2022-01-27T00:25:36.222015Z",
     "shell.execute_reply": "2022-01-27T00:25:36.221581Z"
    },
    "papermill": {
     "duration": 0.04539,
     "end_time": "2022-01-27T00:25:36.222138",
     "exception": false,
     "start_time": "2022-01-27T00:25:36.176748",
     "status": "completed"
    },
    "tags": []
   },
   "outputs": [],
   "source": [
    "#hide\n",
    "g = t.reset_index(['Country/Region'])"
   ]
  },
  {
   "cell_type": "code",
   "execution_count": 23,
   "id": "distributed-pittsburgh",
   "metadata": {
    "execution": {
     "iopub.execute_input": "2022-01-27T00:25:36.288133Z",
     "iopub.status.busy": "2022-01-27T00:25:36.287585Z",
     "iopub.status.idle": "2022-01-27T00:25:36.291223Z",
     "shell.execute_reply": "2022-01-27T00:25:36.290807Z"
    },
    "papermill": {
     "duration": 0.038267,
     "end_time": "2022-01-27T00:25:36.291340",
     "exception": false,
     "start_time": "2022-01-27T00:25:36.253073",
     "status": "completed"
    },
    "tags": []
   },
   "outputs": [],
   "source": [
    "#hide\n",
    "g.index.name = 'date'"
   ]
  },
  {
   "cell_type": "code",
   "execution_count": 24,
   "id": "naked-donor",
   "metadata": {
    "execution": {
     "iopub.execute_input": "2022-01-27T00:25:36.357650Z",
     "iopub.status.busy": "2022-01-27T00:25:36.357104Z",
     "iopub.status.idle": "2022-01-27T00:25:36.359282Z",
     "shell.execute_reply": "2022-01-27T00:25:36.358763Z"
    },
    "papermill": {
     "duration": 0.036484,
     "end_time": "2022-01-27T00:25:36.359397",
     "exception": false,
     "start_time": "2022-01-27T00:25:36.322913",
     "status": "completed"
    },
    "tags": []
   },
   "outputs": [],
   "source": [
    "# #hide\n",
    "# g = g.reset_index(['date'])"
   ]
  },
  {
   "cell_type": "code",
   "execution_count": 25,
   "id": "incomplete-mustang",
   "metadata": {
    "execution": {
     "iopub.execute_input": "2022-01-27T00:25:36.425203Z",
     "iopub.status.busy": "2022-01-27T00:25:36.424526Z",
     "iopub.status.idle": "2022-01-27T00:25:36.429141Z",
     "shell.execute_reply": "2022-01-27T00:25:36.429563Z"
    },
    "papermill": {
     "duration": 0.039426,
     "end_time": "2022-01-27T00:25:36.429700",
     "exception": false,
     "start_time": "2022-01-27T00:25:36.390274",
     "status": "completed"
    },
    "tags": []
   },
   "outputs": [],
   "source": [
    "#hide\n",
    "# g.head()"
   ]
  },
  {
   "cell_type": "code",
   "execution_count": 26,
   "id": "specific-kruger",
   "metadata": {
    "execution": {
     "iopub.execute_input": "2022-01-27T00:25:36.495690Z",
     "iopub.status.busy": "2022-01-27T00:25:36.495056Z",
     "iopub.status.idle": "2022-01-27T00:25:36.498624Z",
     "shell.execute_reply": "2022-01-27T00:25:36.499073Z"
    },
    "papermill": {
     "duration": 0.038292,
     "end_time": "2022-01-27T00:25:36.499210",
     "exception": false,
     "start_time": "2022-01-27T00:25:36.460918",
     "status": "completed"
    },
    "tags": []
   },
   "outputs": [],
   "source": [
    "#hide\n",
    "# g.columns = ['date','country','cases']"
   ]
  },
  {
   "cell_type": "code",
   "execution_count": 27,
   "id": "tender-conversion",
   "metadata": {
    "execution": {
     "iopub.execute_input": "2022-01-27T00:25:36.564747Z",
     "iopub.status.busy": "2022-01-27T00:25:36.564134Z",
     "iopub.status.idle": "2022-01-27T00:25:36.566264Z",
     "shell.execute_reply": "2022-01-27T00:25:36.565676Z"
    },
    "papermill": {
     "duration": 0.03619,
     "end_time": "2022-01-27T00:25:36.566391",
     "exception": false,
     "start_time": "2022-01-27T00:25:36.530201",
     "status": "completed"
    },
    "tags": []
   },
   "outputs": [],
   "source": [
    "#hide\n",
    "# g['continent'] = g.country"
   ]
  },
  {
   "cell_type": "code",
   "execution_count": 28,
   "id": "substantial-wilderness",
   "metadata": {
    "execution": {
     "iopub.execute_input": "2022-01-27T00:25:36.632395Z",
     "iopub.status.busy": "2022-01-27T00:25:36.631833Z",
     "iopub.status.idle": "2022-01-27T00:25:36.635553Z",
     "shell.execute_reply": "2022-01-27T00:25:36.635132Z"
    },
    "papermill": {
     "duration": 0.037903,
     "end_time": "2022-01-27T00:25:36.635668",
     "exception": false,
     "start_time": "2022-01-27T00:25:36.597765",
     "status": "completed"
    },
    "tags": []
   },
   "outputs": [],
   "source": [
    "#hide\n",
    "# cols = list(g.columns.values)"
   ]
  },
  {
   "cell_type": "code",
   "execution_count": 29,
   "id": "solved-farming",
   "metadata": {
    "execution": {
     "iopub.execute_input": "2022-01-27T00:25:36.701465Z",
     "iopub.status.busy": "2022-01-27T00:25:36.700787Z",
     "iopub.status.idle": "2022-01-27T00:25:36.702553Z",
     "shell.execute_reply": "2022-01-27T00:25:36.702055Z"
    },
    "papermill": {
     "duration": 0.036089,
     "end_time": "2022-01-27T00:25:36.702664",
     "exception": false,
     "start_time": "2022-01-27T00:25:36.666575",
     "status": "completed"
    },
    "tags": []
   },
   "outputs": [],
   "source": [
    "#hide\n",
    "# cols.insert(0, cols.pop())"
   ]
  },
  {
   "cell_type": "code",
   "execution_count": 30,
   "id": "executed-adoption",
   "metadata": {
    "execution": {
     "iopub.execute_input": "2022-01-27T00:25:36.769345Z",
     "iopub.status.busy": "2022-01-27T00:25:36.768647Z",
     "iopub.status.idle": "2022-01-27T00:25:36.770617Z",
     "shell.execute_reply": "2022-01-27T00:25:36.770044Z"
    },
    "papermill": {
     "duration": 0.037035,
     "end_time": "2022-01-27T00:25:36.770741",
     "exception": false,
     "start_time": "2022-01-27T00:25:36.733706",
     "status": "completed"
    },
    "tags": []
   },
   "outputs": [],
   "source": [
    "#hide\n",
    "# g = g[cols]"
   ]
  },
  {
   "cell_type": "code",
   "execution_count": 31,
   "id": "subject-dublin",
   "metadata": {
    "execution": {
     "iopub.execute_input": "2022-01-27T00:25:36.836548Z",
     "iopub.status.busy": "2022-01-27T00:25:36.835979Z",
     "iopub.status.idle": "2022-01-27T00:25:36.839804Z",
     "shell.execute_reply": "2022-01-27T00:25:36.839358Z"
    },
    "papermill": {
     "duration": 0.038174,
     "end_time": "2022-01-27T00:25:36.839923",
     "exception": false,
     "start_time": "2022-01-27T00:25:36.801749",
     "status": "completed"
    },
    "tags": []
   },
   "outputs": [],
   "source": [
    "#hide\n",
    "# g['continent'] = g['continent'].map(mapping['map.continent'])"
   ]
  },
  {
   "cell_type": "code",
   "execution_count": 32,
   "id": "freelance-scout",
   "metadata": {
    "execution": {
     "iopub.execute_input": "2022-01-27T00:25:36.905970Z",
     "iopub.status.busy": "2022-01-27T00:25:36.905353Z",
     "iopub.status.idle": "2022-01-27T00:25:36.907027Z",
     "shell.execute_reply": "2022-01-27T00:25:36.906527Z"
    },
    "papermill": {
     "duration": 0.035969,
     "end_time": "2022-01-27T00:25:36.907140",
     "exception": false,
     "start_time": "2022-01-27T00:25:36.871171",
     "status": "completed"
    },
    "tags": []
   },
   "outputs": [],
   "source": [
    "#hide\n",
    "# g.head()"
   ]
  },
  {
   "cell_type": "code",
   "execution_count": 33,
   "id": "limited-engine",
   "metadata": {
    "execution": {
     "iopub.execute_input": "2022-01-27T00:25:36.972545Z",
     "iopub.status.busy": "2022-01-27T00:25:36.971883Z",
     "iopub.status.idle": "2022-01-27T00:25:36.975150Z",
     "shell.execute_reply": "2022-01-27T00:25:36.974677Z"
    },
    "papermill": {
     "duration": 0.037333,
     "end_time": "2022-01-27T00:25:36.975279",
     "exception": false,
     "start_time": "2022-01-27T00:25:36.937946",
     "status": "completed"
    },
    "tags": []
   },
   "outputs": [],
   "source": [
    "# hide\n",
    "# g['date'] = g['date'].astype('datetime64[ns]')"
   ]
  },
  {
   "cell_type": "code",
   "execution_count": 34,
   "id": "sophisticated-supervisor",
   "metadata": {
    "execution": {
     "iopub.execute_input": "2022-01-27T00:25:37.041227Z",
     "iopub.status.busy": "2022-01-27T00:25:37.040577Z",
     "iopub.status.idle": "2022-01-27T00:25:37.042105Z",
     "shell.execute_reply": "2022-01-27T00:25:37.042567Z"
    },
    "papermill": {
     "duration": 0.036231,
     "end_time": "2022-01-27T00:25:37.042709",
     "exception": false,
     "start_time": "2022-01-27T00:25:37.006478",
     "status": "completed"
    },
    "tags": []
   },
   "outputs": [],
   "source": [
    "#hide\n",
    "# g['date'] = g.date.dt.dayofyear"
   ]
  },
  {
   "cell_type": "code",
   "execution_count": 35,
   "id": "inside-dubai",
   "metadata": {
    "execution": {
     "iopub.execute_input": "2022-01-27T00:25:37.109213Z",
     "iopub.status.busy": "2022-01-27T00:25:37.108587Z",
     "iopub.status.idle": "2022-01-27T00:25:37.111768Z",
     "shell.execute_reply": "2022-01-27T00:25:37.111263Z"
    },
    "papermill": {
     "duration": 0.037768,
     "end_time": "2022-01-27T00:25:37.111882",
     "exception": false,
     "start_time": "2022-01-27T00:25:37.074114",
     "status": "completed"
    },
    "tags": []
   },
   "outputs": [],
   "source": [
    "#hide\n",
    "# g = g.rename(columns= {'continent':'group','country':'name','cases':'value'})"
   ]
  },
  {
   "cell_type": "code",
   "execution_count": 36,
   "id": "fleet-motorcycle",
   "metadata": {
    "execution": {
     "iopub.execute_input": "2022-01-27T00:25:37.177978Z",
     "iopub.status.busy": "2022-01-27T00:25:37.177365Z",
     "iopub.status.idle": "2022-01-27T00:25:37.178896Z",
     "shell.execute_reply": "2022-01-27T00:25:37.179335Z"
    },
    "papermill": {
     "duration": 0.036329,
     "end_time": "2022-01-27T00:25:37.179486",
     "exception": false,
     "start_time": "2022-01-27T00:25:37.143157",
     "status": "completed"
    },
    "tags": []
   },
   "outputs": [],
   "source": [
    "#hide\n",
    "# cols = ['name','group','day','value']"
   ]
  },
  {
   "cell_type": "code",
   "execution_count": 37,
   "id": "continued-sleeping",
   "metadata": {
    "execution": {
     "iopub.execute_input": "2022-01-27T00:25:37.245126Z",
     "iopub.status.busy": "2022-01-27T00:25:37.244479Z",
     "iopub.status.idle": "2022-01-27T00:25:37.247891Z",
     "shell.execute_reply": "2022-01-27T00:25:37.247417Z"
    },
    "papermill": {
     "duration": 0.037596,
     "end_time": "2022-01-27T00:25:37.248022",
     "exception": false,
     "start_time": "2022-01-27T00:25:37.210426",
     "status": "completed"
    },
    "tags": []
   },
   "outputs": [],
   "source": [
    "#hide\n",
    "# g.rename(columns= {'date':'day'},inplace = True)"
   ]
  },
  {
   "cell_type": "code",
   "execution_count": 38,
   "id": "major-fight",
   "metadata": {
    "execution": {
     "iopub.execute_input": "2022-01-27T00:25:37.314085Z",
     "iopub.status.busy": "2022-01-27T00:25:37.313557Z",
     "iopub.status.idle": "2022-01-27T00:25:37.315381Z",
     "shell.execute_reply": "2022-01-27T00:25:37.315776Z"
    },
    "papermill": {
     "duration": 0.036668,
     "end_time": "2022-01-27T00:25:37.315915",
     "exception": false,
     "start_time": "2022-01-27T00:25:37.279247",
     "status": "completed"
    },
    "tags": []
   },
   "outputs": [],
   "source": [
    "#hide\n",
    "# g = g[cols]"
   ]
  },
  {
   "cell_type": "code",
   "execution_count": 39,
   "id": "structured-mobile",
   "metadata": {
    "execution": {
     "iopub.execute_input": "2022-01-27T00:25:37.381341Z",
     "iopub.status.busy": "2022-01-27T00:25:37.380645Z",
     "iopub.status.idle": "2022-01-27T00:25:37.383850Z",
     "shell.execute_reply": "2022-01-27T00:25:37.383365Z"
    },
    "papermill": {
     "duration": 0.0374,
     "end_time": "2022-01-27T00:25:37.383964",
     "exception": false,
     "start_time": "2022-01-27T00:25:37.346564",
     "status": "completed"
    },
    "tags": []
   },
   "outputs": [],
   "source": [
    "# #hide\n",
    "# g = g[g.group.notna()]"
   ]
  },
  {
   "cell_type": "code",
   "execution_count": 40,
   "id": "determined-closing",
   "metadata": {
    "execution": {
     "iopub.execute_input": "2022-01-27T00:25:37.449886Z",
     "iopub.status.busy": "2022-01-27T00:25:37.449250Z",
     "iopub.status.idle": "2022-01-27T00:25:37.450754Z",
     "shell.execute_reply": "2022-01-27T00:25:37.451253Z"
    },
    "papermill": {
     "duration": 0.036431,
     "end_time": "2022-01-27T00:25:37.451402",
     "exception": false,
     "start_time": "2022-01-27T00:25:37.414971",
     "status": "completed"
    },
    "tags": []
   },
   "outputs": [],
   "source": [
    "# #hide\n",
    "# colors = dict(zip(\n",
    "#     [\"Oceania\", \"Europe\", \"Asia\", \"South America\", \"Middle East\", \"North America\", \"Africa\"],\n",
    "#     [\"#adb0ff\", \"#ffb3ff\", \"#90d595\", \"#e48381\", \"#aafbff\", \"#f7bb5f\", \"#eafb50\"]\n",
    "# ))\n",
    "# group_lk = g.set_index('name')['group'].to_dict()"
   ]
  },
  {
   "cell_type": "code",
   "execution_count": null,
   "id": "gross-drinking",
   "metadata": {
    "papermill": {
     "duration": 0.030561,
     "end_time": "2022-01-27T00:25:37.513192",
     "exception": false,
     "start_time": "2022-01-27T00:25:37.482631",
     "status": "completed"
    },
    "tags": []
   },
   "outputs": [],
   "source": []
  },
  {
   "cell_type": "code",
   "execution_count": 41,
   "id": "subject-macintosh",
   "metadata": {
    "execution": {
     "iopub.execute_input": "2022-01-27T00:25:37.579262Z",
     "iopub.status.busy": "2022-01-27T00:25:37.578718Z",
     "iopub.status.idle": "2022-01-27T00:25:37.580936Z",
     "shell.execute_reply": "2022-01-27T00:25:37.581384Z"
    },
    "papermill": {
     "duration": 0.037627,
     "end_time": "2022-01-27T00:25:37.581516",
     "exception": false,
     "start_time": "2022-01-27T00:25:37.543889",
     "status": "completed"
    },
    "tags": []
   },
   "outputs": [],
   "source": [
    "# #hide\n",
    "# fig, ax = plt.subplots(figsize=(15, 8))\n",
    "\n",
    "# def draw_barchart(current_day):\n",
    "#     dff = g[g['day'].eq(current_day)].sort_values(by='value', ascending=True).tail(10)\n",
    "#     ax.clear()\n",
    "#     ax.barh(dff['name'], dff['value'], color=[colors[group_lk[x]] for x in dff['name']])\n",
    "#     dx = dff['value'].max() / 200\n",
    "    \n",
    "#     for i, (value, name) in enumerate(zip(dff['value'], dff['name'])):\n",
    "#         ax.text(value-dx, i,     name,           size=14, weight=600, ha='right', va='bottom')\n",
    "#         ax.text(value-dx, i-.25, group_lk[name], size=10, color='#444444', ha='right', va='baseline')\n",
    "#         ax.text(value+dx, i,     f'{value:,.0f}',  size=14, ha='left',  va='center')\n",
    "#     ax.text(1, 0.4, current_day, transform=ax.transAxes, color='#777777', size=46, ha='right', weight=800)\n",
    "#     ax.text(0, 1.06, 'Population (thousands)', transform=ax.transAxes, size=12, color='#777777')\n",
    "#     ax.xaxis.set_major_formatter(ticker.StrMethodFormatter('{x:,.0f}'))\n",
    "#     ax.xaxis.set_ticks_position('top')\n",
    "#     ax.tick_params(axis='x', colors='#777777', labelsize=12)\n",
    "#     ax.set_yticks([])\n",
    "#     ax.margins(0, 0.01)\n",
    "#     ax.grid(which='major', axis='x', linestyle='-')\n",
    "#     ax.set_axisbelow(True)\n",
    "    \n",
    "#     ax.text(0, 1.15, 'Coronavirus',\n",
    "#             transform=ax.transAxes, size=24, weight=600, ha='left', va='top')\n",
    "# #     ax.text(1, 0, 'by @pratapvardhan; credit @jburnmurdoch', transform=ax.transAxes, color='#777777', ha='right',\n",
    "# #             bbox=dict(facecolor='white', alpha=0.8, edgecolor='white'))\n",
    "#     plt.box(False)"
   ]
  },
  {
   "cell_type": "code",
   "execution_count": 42,
   "id": "sexual-wages",
   "metadata": {
    "execution": {
     "iopub.execute_input": "2022-01-27T00:25:37.646921Z",
     "iopub.status.busy": "2022-01-27T00:25:37.646282Z",
     "iopub.status.idle": "2022-01-27T00:25:37.649645Z",
     "shell.execute_reply": "2022-01-27T00:25:37.650036Z"
    },
    "papermill": {
     "duration": 0.038032,
     "end_time": "2022-01-27T00:25:37.650171",
     "exception": false,
     "start_time": "2022-01-27T00:25:37.612139",
     "status": "completed"
    },
    "tags": []
   },
   "outputs": [],
   "source": [
    "# #hide_input\n",
    "# fig, ax = plt.subplots(figsize=(15, 8))\n",
    "# animator = animation.FuncAnimation(fig, draw_barchart, frames=range(g.day.values.min(), g.day.values.max()))\n",
    "# HTML(animator.to_jshtml())\n",
    "# # or use animator.to_html5_video() or animator.save() "
   ]
  },
  {
   "cell_type": "code",
   "execution_count": null,
   "id": "australian-container",
   "metadata": {
    "papermill": {
     "duration": 0.030581,
     "end_time": "2022-01-27T00:25:37.711643",
     "exception": false,
     "start_time": "2022-01-27T00:25:37.681062",
     "status": "completed"
    },
    "tags": []
   },
   "outputs": [],
   "source": []
  },
  {
   "cell_type": "code",
   "execution_count": null,
   "id": "mediterranean-pontiac",
   "metadata": {
    "papermill": {
     "duration": 0.030695,
     "end_time": "2022-01-27T00:25:37.773002",
     "exception": false,
     "start_time": "2022-01-27T00:25:37.742307",
     "status": "completed"
    },
    "tags": []
   },
   "outputs": [],
   "source": []
  },
  {
   "cell_type": "code",
   "execution_count": null,
   "id": "aging-legislature",
   "metadata": {
    "papermill": {
     "duration": 0.030677,
     "end_time": "2022-01-27T00:25:37.834585",
     "exception": false,
     "start_time": "2022-01-27T00:25:37.803908",
     "status": "completed"
    },
    "tags": []
   },
   "outputs": [],
   "source": []
  }
 ],
 "metadata": {
  "kernelspec": {
   "display_name": "Python 3",
   "language": "python",
   "name": "python3"
  },
  "language_info": {
   "codemirror_mode": {
    "name": "ipython",
    "version": 3
   },
   "file_extension": ".py",
   "mimetype": "text/x-python",
   "name": "python",
   "nbconvert_exporter": "python",
   "pygments_lexer": "ipython3",
   "version": "3.6.15"
  },
  "papermill": {
   "duration": 6.280116,
   "end_time": "2022-01-27T00:25:38.285179",
   "environment_variables": {},
   "exception": null,
   "input_path": "2020-03-21-covid19exp.ipynb",
   "output_path": "2020-03-21-covid19exp.ipynb",
   "parameters": {},
   "start_time": "2022-01-27T00:25:32.005063",
   "version": "2.0.0"
  }
 },
 "nbformat": 4,
 "nbformat_minor": 5
}