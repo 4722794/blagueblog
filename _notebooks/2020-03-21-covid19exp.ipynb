{
 "cells": [
  {
   "cell_type": "markdown",
   "id": "muslim-click",
   "metadata": {
    "papermill": {
     "duration": 0.036739,
     "end_time": "2021-09-02T12:11:14.623894",
     "exception": false,
     "start_time": "2021-09-02T12:11:14.587155",
     "status": "completed"
    },
    "tags": []
   },
   "source": [
    "# COVID-19 Case Race\n",
    "> A race chart to see rising cases around the world\n",
    "\n",
    "- author: Hargun Oberoi\n",
    "- image: images/covid-overview.png\n",
    "- hide: false\n",
    "- badges: false"
   ]
  },
  {
   "cell_type": "code",
   "execution_count": 1,
   "id": "proof-material",
   "metadata": {
    "execution": {
     "iopub.execute_input": "2021-09-02T12:11:14.699103Z",
     "iopub.status.busy": "2021-09-02T12:11:14.698470Z",
     "iopub.status.idle": "2021-09-02T12:11:15.049706Z",
     "shell.execute_reply": "2021-09-02T12:11:15.048564Z"
    },
    "papermill": {
     "duration": 0.393583,
     "end_time": "2021-09-02T12:11:15.049859",
     "exception": false,
     "start_time": "2021-09-02T12:11:14.656276",
     "status": "completed"
    },
    "tags": []
   },
   "outputs": [],
   "source": [
    "#hide\n",
    "import numpy as np\n",
    "import pandas as pd\n",
    "from jinja2 import Template\n",
    "from IPython.display import HTML"
   ]
  },
  {
   "cell_type": "code",
   "execution_count": 2,
   "id": "developed-terminology",
   "metadata": {
    "execution": {
     "iopub.execute_input": "2021-09-02T12:11:15.122090Z",
     "iopub.status.busy": "2021-09-02T12:11:15.121529Z",
     "iopub.status.idle": "2021-09-02T12:11:15.124126Z",
     "shell.execute_reply": "2021-09-02T12:11:15.123631Z"
    },
    "papermill": {
     "duration": 0.041754,
     "end_time": "2021-09-02T12:11:15.124244",
     "exception": false,
     "start_time": "2021-09-02T12:11:15.082490",
     "status": "completed"
    },
    "tags": []
   },
   "outputs": [],
   "source": [
    "#hide\n",
    "\n",
    "# FETCH\n",
    "base_url = 'https://raw.githubusercontent.com/pratapvardhan/notebooks/master/covid19/'\n",
    "paths = {\n",
    "    'mapping': base_url + 'mapping_countries.csv',\n",
    "    'overview': base_url + 'overview.tpl'\n",
    "}"
   ]
  },
  {
   "cell_type": "code",
   "execution_count": 3,
   "id": "dynamic-saver",
   "metadata": {
    "execution": {
     "iopub.execute_input": "2021-09-02T12:11:15.198553Z",
     "iopub.status.busy": "2021-09-02T12:11:15.197934Z",
     "iopub.status.idle": "2021-09-02T12:11:15.200070Z",
     "shell.execute_reply": "2021-09-02T12:11:15.200570Z"
    },
    "papermill": {
     "duration": 0.045452,
     "end_time": "2021-09-02T12:11:15.200721",
     "exception": false,
     "start_time": "2021-09-02T12:11:15.155269",
     "status": "completed"
    },
    "tags": []
   },
   "outputs": [
    {
     "data": {
      "text/plain": [
       "'https://raw.githubusercontent.com/pratapvardhan/notebooks/master/covid19/mapping_countries.csv'"
      ]
     },
     "execution_count": 3,
     "metadata": {},
     "output_type": "execute_result"
    }
   ],
   "source": [
    "#hide\n",
    "paths['mapping']"
   ]
  },
  {
   "cell_type": "code",
   "execution_count": 4,
   "id": "urban-software",
   "metadata": {
    "execution": {
     "iopub.execute_input": "2021-09-02T12:11:15.270053Z",
     "iopub.status.busy": "2021-09-02T12:11:15.269509Z",
     "iopub.status.idle": "2021-09-02T12:11:15.272272Z",
     "shell.execute_reply": "2021-09-02T12:11:15.272867Z"
    },
    "papermill": {
     "duration": 0.041804,
     "end_time": "2021-09-02T12:11:15.273010",
     "exception": false,
     "start_time": "2021-09-02T12:11:15.231206",
     "status": "completed"
    },
    "tags": []
   },
   "outputs": [],
   "source": [
    "#hide\n",
    "def get_mappings(url):\n",
    "    df = pd.read_csv(url)\n",
    "    return {\n",
    "        'df': df,\n",
    "        'replace.country': dict(df.dropna(subset=['Name']).set_index('Country')['Name']),\n",
    "        'map.continent': dict(df.set_index('Name')['Continent'])\n",
    "    }"
   ]
  },
  {
   "cell_type": "code",
   "execution_count": 5,
   "id": "intimate-machinery",
   "metadata": {
    "execution": {
     "iopub.execute_input": "2021-09-02T12:11:15.343532Z",
     "iopub.status.busy": "2021-09-02T12:11:15.342979Z",
     "iopub.status.idle": "2021-09-02T12:11:15.428220Z",
     "shell.execute_reply": "2021-09-02T12:11:15.429067Z"
    },
    "papermill": {
     "duration": 0.124477,
     "end_time": "2021-09-02T12:11:15.429320",
     "exception": false,
     "start_time": "2021-09-02T12:11:15.304843",
     "status": "completed"
    },
    "tags": []
   },
   "outputs": [],
   "source": [
    "#hide\n",
    "mapping = get_mappings(paths['mapping'])"
   ]
  },
  {
   "cell_type": "code",
   "execution_count": 6,
   "id": "certified-tactics",
   "metadata": {
    "execution": {
     "iopub.execute_input": "2021-09-02T12:11:15.504244Z",
     "iopub.status.busy": "2021-09-02T12:11:15.503639Z",
     "iopub.status.idle": "2021-09-02T12:11:15.506645Z",
     "shell.execute_reply": "2021-09-02T12:11:15.506099Z"
    },
    "papermill": {
     "duration": 0.042317,
     "end_time": "2021-09-02T12:11:15.506762",
     "exception": false,
     "start_time": "2021-09-02T12:11:15.464445",
     "status": "completed"
    },
    "tags": []
   },
   "outputs": [],
   "source": [
    "#hide\n",
    "def get_template(path):\n",
    "    from urllib.parse import urlparse\n",
    "    if bool(urlparse(path).netloc):\n",
    "        from urllib.request import urlopen\n",
    "        return urlopen(path).read().decode('utf8')\n",
    "    return open(path).read()"
   ]
  },
  {
   "cell_type": "code",
   "execution_count": 7,
   "id": "realistic-blast",
   "metadata": {
    "execution": {
     "iopub.execute_input": "2021-09-02T12:11:15.578288Z",
     "iopub.status.busy": "2021-09-02T12:11:15.577693Z",
     "iopub.status.idle": "2021-09-02T12:11:15.580328Z",
     "shell.execute_reply": "2021-09-02T12:11:15.579834Z"
    },
    "papermill": {
     "duration": 0.041087,
     "end_time": "2021-09-02T12:11:15.580447",
     "exception": false,
     "start_time": "2021-09-02T12:11:15.539360",
     "status": "completed"
    },
    "tags": []
   },
   "outputs": [],
   "source": [
    "#hide\n",
    "def get_frame(name):\n",
    "    url = (\n",
    "        'https://raw.githubusercontent.com/CSSEGISandData/COVID-19/master/csse_covid_19_data/'\n",
    "        f'csse_covid_19_time_series/time_series_covid19_{name}_global.csv')\n",
    "    df = pd.read_csv(url)\n",
    "    # rename countries\n",
    "    df['Country/Region'] = df['Country/Region'].replace(mapping['replace.country'])\n",
    "    return df"
   ]
  },
  {
   "cell_type": "code",
   "execution_count": 8,
   "id": "affiliated-characterization",
   "metadata": {
    "execution": {
     "iopub.execute_input": "2021-09-02T12:11:15.653700Z",
     "iopub.status.busy": "2021-09-02T12:11:15.653086Z",
     "iopub.status.idle": "2021-09-02T12:11:15.655259Z",
     "shell.execute_reply": "2021-09-02T12:11:15.654762Z"
    },
    "papermill": {
     "duration": 0.041928,
     "end_time": "2021-09-02T12:11:15.655383",
     "exception": false,
     "start_time": "2021-09-02T12:11:15.613455",
     "status": "completed"
    },
    "tags": []
   },
   "outputs": [],
   "source": [
    "#hide\n",
    "def get_dates(df):\n",
    "    dt_cols = df.columns[~df.columns.isin(['Province/State', 'Country/Region', 'Lat', 'Long'])]\n",
    "    LAST_DATE_I = -1\n",
    "    # sometimes last column may be empty, then go backwards\n",
    "    for i in range(-1, -len(dt_cols), -1):\n",
    "        if not df[dt_cols[i]].fillna(0).eq(0).all():\n",
    "            LAST_DATE_I = i\n",
    "            break\n",
    "    return LAST_DATE_I, dt_cols"
   ]
  },
  {
   "cell_type": "code",
   "execution_count": 9,
   "id": "recent-optimization",
   "metadata": {
    "execution": {
     "iopub.execute_input": "2021-09-02T12:11:15.724574Z",
     "iopub.status.busy": "2021-09-02T12:11:15.724031Z",
     "iopub.status.idle": "2021-09-02T12:11:16.385170Z",
     "shell.execute_reply": "2021-09-02T12:11:16.384116Z"
    },
    "papermill": {
     "duration": 0.697775,
     "end_time": "2021-09-02T12:11:16.385316",
     "exception": false,
     "start_time": "2021-09-02T12:11:15.687541",
     "status": "completed"
    },
    "tags": []
   },
   "outputs": [],
   "source": [
    "#hide\n",
    "COL_REGION = 'Country/Region'\n",
    "# Confirmed, Recovered, Deaths\n",
    "df = get_frame('confirmed')\n",
    "# dft_: timeseries, dfc_: today country agg\n",
    "dft_cases = df\n",
    "dft_deaths = get_frame('deaths')\n",
    "dft_recovered = get_frame('recovered')\n",
    "LAST_DATE_I, dt_cols = get_dates(df)"
   ]
  },
  {
   "cell_type": "code",
   "execution_count": 10,
   "id": "absolute-copper",
   "metadata": {
    "execution": {
     "iopub.execute_input": "2021-09-02T12:11:16.453339Z",
     "iopub.status.busy": "2021-09-02T12:11:16.452845Z",
     "iopub.status.idle": "2021-09-02T12:11:16.454805Z",
     "shell.execute_reply": "2021-09-02T12:11:16.454395Z"
    },
    "papermill": {
     "duration": 0.037327,
     "end_time": "2021-09-02T12:11:16.454909",
     "exception": false,
     "start_time": "2021-09-02T12:11:16.417582",
     "status": "completed"
    },
    "tags": []
   },
   "outputs": [],
   "source": [
    "#hide\n",
    "LAST_DATE_I, dt_cols = get_dates(df)\n",
    "dt_today =dt_cols[LAST_DATE_I]\n",
    "# dt_5day = dt_cols[LAST_DATE_I - 5]\n",
    "dt_yday = dt_cols[LAST_DATE_I - 1]"
   ]
  },
  {
   "cell_type": "code",
   "execution_count": 11,
   "id": "restricted-sheriff",
   "metadata": {
    "execution": {
     "iopub.execute_input": "2021-09-02T12:11:16.520955Z",
     "iopub.status.busy": "2021-09-02T12:11:16.520333Z",
     "iopub.status.idle": "2021-09-02T12:11:16.527886Z",
     "shell.execute_reply": "2021-09-02T12:11:16.528397Z"
    },
    "papermill": {
     "duration": 0.043591,
     "end_time": "2021-09-02T12:11:16.528533",
     "exception": false,
     "start_time": "2021-09-02T12:11:16.484942",
     "status": "completed"
    },
    "tags": []
   },
   "outputs": [],
   "source": [
    "#hide\n",
    "dfc_cases = dft_cases.groupby(COL_REGION)[dt_today].sum()\n",
    "dfc_deaths = dft_deaths.groupby(COL_REGION)[dt_today].sum()\n",
    "# dfp_cases = dft_cases.groupby(COL_REGION)[dt_5day].sum()\n",
    "# dfp_deaths = dft_deaths.groupby(COL_REGION)[dt_5day].sum()\n",
    "dfp_cases = dft_cases.groupby(COL_REGION)[dt_yday].sum()\n",
    "dfp_deaths = dft_deaths.groupby(COL_REGION)[dt_yday].sum()"
   ]
  },
  {
   "cell_type": "code",
   "execution_count": 12,
   "id": "deluxe-hepatitis",
   "metadata": {
    "execution": {
     "iopub.execute_input": "2021-09-02T12:11:16.596601Z",
     "iopub.status.busy": "2021-09-02T12:11:16.596011Z",
     "iopub.status.idle": "2021-09-02T12:11:16.600379Z",
     "shell.execute_reply": "2021-09-02T12:11:16.600925Z"
    },
    "papermill": {
     "duration": 0.041034,
     "end_time": "2021-09-02T12:11:16.601090",
     "exception": false,
     "start_time": "2021-09-02T12:11:16.560056",
     "status": "completed"
    },
    "tags": []
   },
   "outputs": [],
   "source": [
    "#hide\n",
    "df_table = (pd.DataFrame(dict(Cases = dfc_cases, Deaths = dfc_deaths, PCases = dfp_cases, PDeaths = dfp_deaths))\n",
    "            .sort_values(by = ['Cases','Deaths'], ascending = [False, False])\n",
    "            .reset_index())"
   ]
  },
  {
   "cell_type": "code",
   "execution_count": 13,
   "id": "educational-chancellor",
   "metadata": {
    "execution": {
     "iopub.execute_input": "2021-09-02T12:11:16.682074Z",
     "iopub.status.busy": "2021-09-02T12:11:16.680238Z",
     "iopub.status.idle": "2021-09-02T12:11:16.691597Z",
     "shell.execute_reply": "2021-09-02T12:11:16.692223Z"
    },
    "papermill": {
     "duration": 0.059171,
     "end_time": "2021-09-02T12:11:16.692354",
     "exception": false,
     "start_time": "2021-09-02T12:11:16.633183",
     "status": "completed"
    },
    "tags": []
   },
   "outputs": [
    {
     "data": {
      "text/html": [
       "<div>\n",
       "<style scoped>\n",
       "    .dataframe tbody tr th:only-of-type {\n",
       "        vertical-align: middle;\n",
       "    }\n",
       "\n",
       "    .dataframe tbody tr th {\n",
       "        vertical-align: top;\n",
       "    }\n",
       "\n",
       "    .dataframe thead th {\n",
       "        text-align: right;\n",
       "    }\n",
       "</style>\n",
       "<table border=\"1\" class=\"dataframe\">\n",
       "  <thead>\n",
       "    <tr style=\"text-align: right;\">\n",
       "      <th></th>\n",
       "      <th>Country/Region</th>\n",
       "      <th>Cases</th>\n",
       "      <th>Deaths</th>\n",
       "      <th>PCases</th>\n",
       "      <th>PDeaths</th>\n",
       "      <th>Cases (+)</th>\n",
       "      <th>Deaths (+)</th>\n",
       "      <th>Fatality Rate</th>\n",
       "      <th>Continent</th>\n",
       "    </tr>\n",
       "  </thead>\n",
       "  <tbody>\n",
       "    <tr>\n",
       "      <th>0</th>\n",
       "      <td>US</td>\n",
       "      <td>39396156</td>\n",
       "      <td>642081</td>\n",
       "      <td>39198131</td>\n",
       "      <td>640108</td>\n",
       "      <td>198025</td>\n",
       "      <td>1973</td>\n",
       "      <td>1.63</td>\n",
       "      <td>North America</td>\n",
       "    </tr>\n",
       "    <tr>\n",
       "      <th>1</th>\n",
       "      <td>India</td>\n",
       "      <td>32857937</td>\n",
       "      <td>439529</td>\n",
       "      <td>32810845</td>\n",
       "      <td>439020</td>\n",
       "      <td>47092</td>\n",
       "      <td>509</td>\n",
       "      <td>1.34</td>\n",
       "      <td>Asia</td>\n",
       "    </tr>\n",
       "    <tr>\n",
       "      <th>2</th>\n",
       "      <td>Brazil</td>\n",
       "      <td>20804215</td>\n",
       "      <td>581150</td>\n",
       "      <td>20776870</td>\n",
       "      <td>580413</td>\n",
       "      <td>27345</td>\n",
       "      <td>737</td>\n",
       "      <td>2.79</td>\n",
       "      <td>South America</td>\n",
       "    </tr>\n",
       "    <tr>\n",
       "      <th>3</th>\n",
       "      <td>France</td>\n",
       "      <td>6868059</td>\n",
       "      <td>126335</td>\n",
       "      <td>6834930</td>\n",
       "      <td>126227</td>\n",
       "      <td>33129</td>\n",
       "      <td>108</td>\n",
       "      <td>1.84</td>\n",
       "      <td>Europe</td>\n",
       "    </tr>\n",
       "    <tr>\n",
       "      <th>4</th>\n",
       "      <td>United Kingdom</td>\n",
       "      <td>6856933</td>\n",
       "      <td>133066</td>\n",
       "      <td>6821356</td>\n",
       "      <td>132859</td>\n",
       "      <td>35577</td>\n",
       "      <td>207</td>\n",
       "      <td>1.94</td>\n",
       "      <td>Europe</td>\n",
       "    </tr>\n",
       "  </tbody>\n",
       "</table>\n",
       "</div>"
      ],
      "text/plain": [
       "   Country/Region     Cases  Deaths    PCases  PDeaths  Cases (+)  Deaths (+)  \\\n",
       "0              US  39396156  642081  39198131   640108     198025        1973   \n",
       "1           India  32857937  439529  32810845   439020      47092         509   \n",
       "2          Brazil  20804215  581150  20776870   580413      27345         737   \n",
       "3          France   6868059  126335   6834930   126227      33129         108   \n",
       "4  United Kingdom   6856933  133066   6821356   132859      35577         207   \n",
       "\n",
       "   Fatality Rate      Continent  \n",
       "0           1.63  North America  \n",
       "1           1.34           Asia  \n",
       "2           2.79  South America  \n",
       "3           1.84         Europe  \n",
       "4           1.94         Europe  "
      ]
     },
     "execution_count": 13,
     "metadata": {},
     "output_type": "execute_result"
    }
   ],
   "source": [
    "#hide\n",
    "for c in 'Cases, Deaths'.split(', '):\n",
    "    df_table[f'{c} (+)'] = (df_table[c] - df_table[f'P{c}']).clip(0)\n",
    "    #Clip ça veut dire, les chiffres negatif sont interdit\n",
    "df_table['Fatality Rate'] = (100* df_table['Deaths']/ df_table['Cases']).round(2)\n",
    "df_table['Continent'] = df_table['Country/Region'].map(mapping['map.continent'])\n",
    "df_table.head(5)"
   ]
  },
  {
   "cell_type": "code",
   "execution_count": 14,
   "id": "aboriginal-bulgaria",
   "metadata": {
    "execution": {
     "iopub.execute_input": "2021-09-02T12:11:16.762769Z",
     "iopub.status.busy": "2021-09-02T12:11:16.762219Z",
     "iopub.status.idle": "2021-09-02T12:11:16.766253Z",
     "shell.execute_reply": "2021-09-02T12:11:16.766751Z"
    },
    "papermill": {
     "duration": 0.041903,
     "end_time": "2021-09-02T12:11:16.766884",
     "exception": false,
     "start_time": "2021-09-02T12:11:16.724981",
     "status": "completed"
    },
    "tags": []
   },
   "outputs": [],
   "source": [
    "#hide\n",
    "#delete problematic countries from table\n",
    "df_table = df_table[~df_table['Country/Region'].isin(['Cape Verde', 'Cruise Ship', 'Kosovo'])]"
   ]
  },
  {
   "cell_type": "code",
   "execution_count": 15,
   "id": "fantastic-effect",
   "metadata": {
    "execution": {
     "iopub.execute_input": "2021-09-02T12:11:16.855697Z",
     "iopub.status.busy": "2021-09-02T12:11:16.839977Z",
     "iopub.status.idle": "2021-09-02T12:11:16.858562Z",
     "shell.execute_reply": "2021-09-02T12:11:16.858098Z"
    },
    "papermill": {
     "duration": 0.060409,
     "end_time": "2021-09-02T12:11:16.858676",
     "exception": false,
     "start_time": "2021-09-02T12:11:16.798267",
     "status": "completed"
    },
    "tags": []
   },
   "outputs": [
    {
     "data": {
      "text/html": [
       "<div>\n",
       "<style scoped>\n",
       "    .dataframe tbody tr th:only-of-type {\n",
       "        vertical-align: middle;\n",
       "    }\n",
       "\n",
       "    .dataframe tbody tr th {\n",
       "        vertical-align: top;\n",
       "    }\n",
       "\n",
       "    .dataframe thead th {\n",
       "        text-align: right;\n",
       "    }\n",
       "</style>\n",
       "<table border=\"1\" class=\"dataframe\">\n",
       "  <thead>\n",
       "    <tr style=\"text-align: right;\">\n",
       "      <th></th>\n",
       "      <th>Country/Region</th>\n",
       "      <th>Cases</th>\n",
       "      <th>Deaths</th>\n",
       "      <th>PCases</th>\n",
       "      <th>PDeaths</th>\n",
       "      <th>Cases (+)</th>\n",
       "      <th>Deaths (+)</th>\n",
       "      <th>Fatality Rate</th>\n",
       "      <th>Continent</th>\n",
       "    </tr>\n",
       "  </thead>\n",
       "  <tbody>\n",
       "    <tr>\n",
       "      <th>0</th>\n",
       "      <td>US</td>\n",
       "      <td>39396156</td>\n",
       "      <td>642081</td>\n",
       "      <td>39198131</td>\n",
       "      <td>640108</td>\n",
       "      <td>198025</td>\n",
       "      <td>1973</td>\n",
       "      <td>1.6</td>\n",
       "      <td>North America</td>\n",
       "    </tr>\n",
       "    <tr>\n",
       "      <th>1</th>\n",
       "      <td>India</td>\n",
       "      <td>32857937</td>\n",
       "      <td>439529</td>\n",
       "      <td>32810845</td>\n",
       "      <td>439020</td>\n",
       "      <td>47092</td>\n",
       "      <td>509</td>\n",
       "      <td>1.3</td>\n",
       "      <td>Asia</td>\n",
       "    </tr>\n",
       "    <tr>\n",
       "      <th>2</th>\n",
       "      <td>Brazil</td>\n",
       "      <td>20804215</td>\n",
       "      <td>581150</td>\n",
       "      <td>20776870</td>\n",
       "      <td>580413</td>\n",
       "      <td>27345</td>\n",
       "      <td>737</td>\n",
       "      <td>2.8</td>\n",
       "      <td>South America</td>\n",
       "    </tr>\n",
       "    <tr>\n",
       "      <th>3</th>\n",
       "      <td>France</td>\n",
       "      <td>6868059</td>\n",
       "      <td>126335</td>\n",
       "      <td>6834930</td>\n",
       "      <td>126227</td>\n",
       "      <td>33129</td>\n",
       "      <td>108</td>\n",
       "      <td>1.8</td>\n",
       "      <td>Europe</td>\n",
       "    </tr>\n",
       "    <tr>\n",
       "      <th>4</th>\n",
       "      <td>United Kingdom</td>\n",
       "      <td>6856933</td>\n",
       "      <td>133066</td>\n",
       "      <td>6821356</td>\n",
       "      <td>132859</td>\n",
       "      <td>35577</td>\n",
       "      <td>207</td>\n",
       "      <td>1.9</td>\n",
       "      <td>Europe</td>\n",
       "    </tr>\n",
       "  </tbody>\n",
       "</table>\n",
       "</div>"
      ],
      "text/plain": [
       "   Country/Region     Cases  Deaths    PCases  PDeaths  Cases (+)  Deaths (+)  \\\n",
       "0              US  39396156  642081  39198131   640108     198025        1973   \n",
       "1           India  32857937  439529  32810845   439020      47092         509   \n",
       "2          Brazil  20804215  581150  20776870   580413      27345         737   \n",
       "3          France   6868059  126335   6834930   126227      33129         108   \n",
       "4  United Kingdom   6856933  133066   6821356   132859      35577         207   \n",
       "\n",
       "   Fatality Rate      Continent  \n",
       "0            1.6  North America  \n",
       "1            1.3           Asia  \n",
       "2            2.8  South America  \n",
       "3            1.8         Europe  \n",
       "4            1.9         Europe  "
      ]
     },
     "execution_count": 15,
     "metadata": {},
     "output_type": "execute_result"
    }
   ],
   "source": [
    "#hide\n",
    "df_table = (pd.DataFrame(dict(Cases=dfc_cases, Deaths=dfc_deaths, PCases=dfp_cases, PDeaths=dfp_deaths))\n",
    "             .sort_values(by=['Cases', 'Deaths'], ascending=[False, False])\n",
    "             .reset_index())\n",
    "df_table.rename(columns={'index': 'Country/Region'}, inplace=True)\n",
    "for c in 'Cases, Deaths'.split(', '):\n",
    "    df_table[f'{c} (+)'] = (df_table[c] - df_table[f'P{c}']).clip(0)  # DATA BUG\n",
    "df_table['Fatality Rate'] = (100 * df_table['Deaths'] / df_table['Cases']).round(1)\n",
    "df_table['Continent'] = df_table['Country/Region'].map(mapping['map.continent'])\n",
    "df_table.head(5)"
   ]
  },
  {
   "cell_type": "code",
   "execution_count": 16,
   "id": "fewer-occasion",
   "metadata": {
    "execution": {
     "iopub.execute_input": "2021-09-02T12:11:16.937131Z",
     "iopub.status.busy": "2021-09-02T12:11:16.936491Z",
     "iopub.status.idle": "2021-09-02T12:11:16.938843Z",
     "shell.execute_reply": "2021-09-02T12:11:16.939405Z"
    },
    "papermill": {
     "duration": 0.045825,
     "end_time": "2021-09-02T12:11:16.939553",
     "exception": false,
     "start_time": "2021-09-02T12:11:16.893728",
     "status": "completed"
    },
    "tags": []
   },
   "outputs": [],
   "source": [
    "#hide\n",
    "#delete problematic countries from table\n",
    "df_table = df_table[~df_table['Country/Region'].isin(['Cape Verde', 'Cruise Ship', 'Kosovo'])]"
   ]
  },
  {
   "cell_type": "code",
   "execution_count": 17,
   "id": "related-center",
   "metadata": {
    "execution": {
     "iopub.execute_input": "2021-09-02T12:11:17.014195Z",
     "iopub.status.busy": "2021-09-02T12:11:17.013597Z",
     "iopub.status.idle": "2021-09-02T12:11:17.028425Z",
     "shell.execute_reply": "2021-09-02T12:11:17.027943Z"
    },
    "papermill": {
     "duration": 0.056174,
     "end_time": "2021-09-02T12:11:17.028558",
     "exception": false,
     "start_time": "2021-09-02T12:11:16.972384",
     "status": "completed"
    },
    "tags": []
   },
   "outputs": [],
   "source": [
    "#hide\n",
    "metrics = [df_table.columns[index] for index in [1,2,5,6]]\n",
    "# s_china = df_table[df_table['Country/Region'].eq('China')][metrics].sum().add_prefix('China ')\n",
    "s_us = df_table[df_table['Country/Region'].eq('US')][metrics].sum().add_prefix('US ')\n",
    "s_eu = df_table[df_table['Continent'].eq('Europe')][metrics].sum().add_prefix('EU ')\n",
    "s_ind = df_table[df_table['Country/Region'].eq('India')][metrics].sum().add_prefix('India ')\n",
    "summary = {'updated': pd.to_datetime(dt_today), 'since': pd.to_datetime(dt_yday)}\n",
    "summary = {'updated': pd.to_datetime(dt_today), 'since': pd.to_datetime(dt_yday)}\n",
    "summary = {**summary, **df_table[metrics].sum(), **s_ind, **s_us, **s_eu}"
   ]
  },
  {
   "cell_type": "code",
   "execution_count": 18,
   "id": "engaging-syndrome",
   "metadata": {
    "execution": {
     "iopub.execute_input": "2021-09-02T12:11:17.103340Z",
     "iopub.status.busy": "2021-09-02T12:11:17.099925Z",
     "iopub.status.idle": "2021-09-02T12:11:17.116629Z",
     "shell.execute_reply": "2021-09-02T12:11:17.116148Z"
    },
    "papermill": {
     "duration": 0.054973,
     "end_time": "2021-09-02T12:11:17.116779",
     "exception": false,
     "start_time": "2021-09-02T12:11:17.061806",
     "status": "completed"
    },
    "tags": []
   },
   "outputs": [],
   "source": [
    "#hide\n",
    "dft_ct_new_cases = dft_cases.groupby(COL_REGION)[dt_cols].sum().diff(axis=1).fillna(0).astype(int)"
   ]
  },
  {
   "cell_type": "code",
   "execution_count": 19,
   "id": "neutral-assignment",
   "metadata": {
    "execution": {
     "iopub.execute_input": "2021-09-02T12:11:17.187803Z",
     "iopub.status.busy": "2021-09-02T12:11:17.187249Z",
     "iopub.status.idle": "2021-09-02T12:11:17.189355Z",
     "shell.execute_reply": "2021-09-02T12:11:17.188890Z"
    },
    "papermill": {
     "duration": 0.039678,
     "end_time": "2021-09-02T12:11:17.189471",
     "exception": false,
     "start_time": "2021-09-02T12:11:17.149793",
     "status": "completed"
    },
    "tags": []
   },
   "outputs": [],
   "source": [
    "#hide\n",
    "everydaycases = dft_ct_new_cases.cumsum(axis=1)"
   ]
  },
  {
   "cell_type": "code",
   "execution_count": 20,
   "id": "parliamentary-calgary",
   "metadata": {
    "execution": {
     "iopub.execute_input": "2021-09-02T12:11:17.258346Z",
     "iopub.status.busy": "2021-09-02T12:11:17.257741Z",
     "iopub.status.idle": "2021-09-02T12:11:17.845630Z",
     "shell.execute_reply": "2021-09-02T12:11:17.846438Z"
    },
    "papermill": {
     "duration": 0.626155,
     "end_time": "2021-09-02T12:11:17.846601",
     "exception": false,
     "start_time": "2021-09-02T12:11:17.220446",
     "status": "completed"
    },
    "tags": []
   },
   "outputs": [],
   "source": [
    "#hide\n",
    "import pandas as pd\n",
    "import matplotlib.pyplot as plt\n",
    "import matplotlib.ticker as ticker\n",
    "import matplotlib.animation as animation\n",
    "from IPython.display import HTML"
   ]
  },
  {
   "cell_type": "code",
   "execution_count": 21,
   "id": "lasting-extraction",
   "metadata": {
    "execution": {
     "iopub.execute_input": "2021-09-02T12:11:17.923599Z",
     "iopub.status.busy": "2021-09-02T12:11:17.922995Z",
     "iopub.status.idle": "2021-09-02T12:11:17.929550Z",
     "shell.execute_reply": "2021-09-02T12:11:17.929041Z"
    },
    "papermill": {
     "duration": 0.047362,
     "end_time": "2021-09-02T12:11:17.929676",
     "exception": false,
     "start_time": "2021-09-02T12:11:17.882314",
     "status": "completed"
    },
    "tags": []
   },
   "outputs": [],
   "source": [
    "#hide\n",
    "t = everydaycases.stack()"
   ]
  },
  {
   "cell_type": "code",
   "execution_count": 22,
   "id": "premier-sleeve",
   "metadata": {
    "execution": {
     "iopub.execute_input": "2021-09-02T12:11:18.001591Z",
     "iopub.status.busy": "2021-09-02T12:11:18.001020Z",
     "iopub.status.idle": "2021-09-02T12:11:18.009542Z",
     "shell.execute_reply": "2021-09-02T12:11:18.010013Z"
    },
    "papermill": {
     "duration": 0.046207,
     "end_time": "2021-09-02T12:11:18.010159",
     "exception": false,
     "start_time": "2021-09-02T12:11:17.963952",
     "status": "completed"
    },
    "tags": []
   },
   "outputs": [],
   "source": [
    "#hide\n",
    "g = t.reset_index(['Country/Region'])"
   ]
  },
  {
   "cell_type": "code",
   "execution_count": 23,
   "id": "distributed-pittsburgh",
   "metadata": {
    "execution": {
     "iopub.execute_input": "2021-09-02T12:11:18.081332Z",
     "iopub.status.busy": "2021-09-02T12:11:18.080697Z",
     "iopub.status.idle": "2021-09-02T12:11:18.083462Z",
     "shell.execute_reply": "2021-09-02T12:11:18.082980Z"
    },
    "papermill": {
     "duration": 0.04087,
     "end_time": "2021-09-02T12:11:18.083581",
     "exception": false,
     "start_time": "2021-09-02T12:11:18.042711",
     "status": "completed"
    },
    "tags": []
   },
   "outputs": [],
   "source": [
    "#hide\n",
    "g.index.name = 'date'"
   ]
  },
  {
   "cell_type": "code",
   "execution_count": 24,
   "id": "naked-donor",
   "metadata": {
    "execution": {
     "iopub.execute_input": "2021-09-02T12:11:18.155645Z",
     "iopub.status.busy": "2021-09-02T12:11:18.155038Z",
     "iopub.status.idle": "2021-09-02T12:11:18.157565Z",
     "shell.execute_reply": "2021-09-02T12:11:18.158045Z"
    },
    "papermill": {
     "duration": 0.041019,
     "end_time": "2021-09-02T12:11:18.158194",
     "exception": false,
     "start_time": "2021-09-02T12:11:18.117175",
     "status": "completed"
    },
    "tags": []
   },
   "outputs": [],
   "source": [
    "# #hide\n",
    "# g = g.reset_index(['date'])"
   ]
  },
  {
   "cell_type": "code",
   "execution_count": 25,
   "id": "incomplete-mustang",
   "metadata": {
    "execution": {
     "iopub.execute_input": "2021-09-02T12:11:18.230213Z",
     "iopub.status.busy": "2021-09-02T12:11:18.229662Z",
     "iopub.status.idle": "2021-09-02T12:11:18.231352Z",
     "shell.execute_reply": "2021-09-02T12:11:18.231817Z"
    },
    "papermill": {
     "duration": 0.039836,
     "end_time": "2021-09-02T12:11:18.231950",
     "exception": false,
     "start_time": "2021-09-02T12:11:18.192114",
     "status": "completed"
    },
    "tags": []
   },
   "outputs": [],
   "source": [
    "#hide\n",
    "# g.head()"
   ]
  },
  {
   "cell_type": "code",
   "execution_count": 26,
   "id": "specific-kruger",
   "metadata": {
    "execution": {
     "iopub.execute_input": "2021-09-02T12:11:18.303818Z",
     "iopub.status.busy": "2021-09-02T12:11:18.303241Z",
     "iopub.status.idle": "2021-09-02T12:11:18.305912Z",
     "shell.execute_reply": "2021-09-02T12:11:18.305434Z"
    },
    "papermill": {
     "duration": 0.040741,
     "end_time": "2021-09-02T12:11:18.306032",
     "exception": false,
     "start_time": "2021-09-02T12:11:18.265291",
     "status": "completed"
    },
    "tags": []
   },
   "outputs": [],
   "source": [
    "#hide\n",
    "# g.columns = ['date','country','cases']"
   ]
  },
  {
   "cell_type": "code",
   "execution_count": 27,
   "id": "tender-conversion",
   "metadata": {
    "execution": {
     "iopub.execute_input": "2021-09-02T12:11:18.376749Z",
     "iopub.status.busy": "2021-09-02T12:11:18.376131Z",
     "iopub.status.idle": "2021-09-02T12:11:18.378447Z",
     "shell.execute_reply": "2021-09-02T12:11:18.377947Z"
    },
    "papermill": {
     "duration": 0.038826,
     "end_time": "2021-09-02T12:11:18.378576",
     "exception": false,
     "start_time": "2021-09-02T12:11:18.339750",
     "status": "completed"
    },
    "tags": []
   },
   "outputs": [],
   "source": [
    "#hide\n",
    "# g['continent'] = g.country"
   ]
  },
  {
   "cell_type": "code",
   "execution_count": 28,
   "id": "substantial-wilderness",
   "metadata": {
    "execution": {
     "iopub.execute_input": "2021-09-02T12:11:18.447408Z",
     "iopub.status.busy": "2021-09-02T12:11:18.446797Z",
     "iopub.status.idle": "2021-09-02T12:11:18.449551Z",
     "shell.execute_reply": "2021-09-02T12:11:18.449112Z"
    },
    "papermill": {
     "duration": 0.038423,
     "end_time": "2021-09-02T12:11:18.449671",
     "exception": false,
     "start_time": "2021-09-02T12:11:18.411248",
     "status": "completed"
    },
    "tags": []
   },
   "outputs": [],
   "source": [
    "#hide\n",
    "# cols = list(g.columns.values)"
   ]
  },
  {
   "cell_type": "code",
   "execution_count": 29,
   "id": "solved-farming",
   "metadata": {
    "execution": {
     "iopub.execute_input": "2021-09-02T12:11:18.519825Z",
     "iopub.status.busy": "2021-09-02T12:11:18.519229Z",
     "iopub.status.idle": "2021-09-02T12:11:18.521483Z",
     "shell.execute_reply": "2021-09-02T12:11:18.520980Z"
    },
    "papermill": {
     "duration": 0.039764,
     "end_time": "2021-09-02T12:11:18.521607",
     "exception": false,
     "start_time": "2021-09-02T12:11:18.481843",
     "status": "completed"
    },
    "tags": []
   },
   "outputs": [],
   "source": [
    "#hide\n",
    "# cols.insert(0, cols.pop())"
   ]
  },
  {
   "cell_type": "code",
   "execution_count": 30,
   "id": "executed-adoption",
   "metadata": {
    "execution": {
     "iopub.execute_input": "2021-09-02T12:11:18.593470Z",
     "iopub.status.busy": "2021-09-02T12:11:18.592851Z",
     "iopub.status.idle": "2021-09-02T12:11:18.594589Z",
     "shell.execute_reply": "2021-09-02T12:11:18.595033Z"
    },
    "papermill": {
     "duration": 0.03992,
     "end_time": "2021-09-02T12:11:18.595182",
     "exception": false,
     "start_time": "2021-09-02T12:11:18.555262",
     "status": "completed"
    },
    "tags": []
   },
   "outputs": [],
   "source": [
    "#hide\n",
    "# g = g[cols]"
   ]
  },
  {
   "cell_type": "code",
   "execution_count": 31,
   "id": "subject-dublin",
   "metadata": {
    "execution": {
     "iopub.execute_input": "2021-09-02T12:11:18.667759Z",
     "iopub.status.busy": "2021-09-02T12:11:18.667160Z",
     "iopub.status.idle": "2021-09-02T12:11:18.669024Z",
     "shell.execute_reply": "2021-09-02T12:11:18.669507Z"
    },
    "papermill": {
     "duration": 0.041097,
     "end_time": "2021-09-02T12:11:18.669656",
     "exception": false,
     "start_time": "2021-09-02T12:11:18.628559",
     "status": "completed"
    },
    "tags": []
   },
   "outputs": [],
   "source": [
    "#hide\n",
    "# g['continent'] = g['continent'].map(mapping['map.continent'])"
   ]
  },
  {
   "cell_type": "code",
   "execution_count": 32,
   "id": "freelance-scout",
   "metadata": {
    "execution": {
     "iopub.execute_input": "2021-09-02T12:11:18.742150Z",
     "iopub.status.busy": "2021-09-02T12:11:18.741598Z",
     "iopub.status.idle": "2021-09-02T12:11:18.744033Z",
     "shell.execute_reply": "2021-09-02T12:11:18.744538Z"
    },
    "papermill": {
     "duration": 0.040929,
     "end_time": "2021-09-02T12:11:18.744681",
     "exception": false,
     "start_time": "2021-09-02T12:11:18.703752",
     "status": "completed"
    },
    "tags": []
   },
   "outputs": [],
   "source": [
    "#hide\n",
    "# g.head()"
   ]
  },
  {
   "cell_type": "code",
   "execution_count": 33,
   "id": "limited-engine",
   "metadata": {
    "execution": {
     "iopub.execute_input": "2021-09-02T12:11:18.815656Z",
     "iopub.status.busy": "2021-09-02T12:11:18.815060Z",
     "iopub.status.idle": "2021-09-02T12:11:18.817366Z",
     "shell.execute_reply": "2021-09-02T12:11:18.817976Z"
    },
    "papermill": {
     "duration": 0.040375,
     "end_time": "2021-09-02T12:11:18.818120",
     "exception": false,
     "start_time": "2021-09-02T12:11:18.777745",
     "status": "completed"
    },
    "tags": []
   },
   "outputs": [],
   "source": [
    "# hide\n",
    "# g['date'] = g['date'].astype('datetime64[ns]')"
   ]
  },
  {
   "cell_type": "code",
   "execution_count": 34,
   "id": "sophisticated-supervisor",
   "metadata": {
    "execution": {
     "iopub.execute_input": "2021-09-02T12:11:18.889406Z",
     "iopub.status.busy": "2021-09-02T12:11:18.888360Z",
     "iopub.status.idle": "2021-09-02T12:11:18.891056Z",
     "shell.execute_reply": "2021-09-02T12:11:18.890603Z"
    },
    "papermill": {
     "duration": 0.04032,
     "end_time": "2021-09-02T12:11:18.891174",
     "exception": false,
     "start_time": "2021-09-02T12:11:18.850854",
     "status": "completed"
    },
    "tags": []
   },
   "outputs": [],
   "source": [
    "#hide\n",
    "# g['date'] = g.date.dt.dayofyear"
   ]
  },
  {
   "cell_type": "code",
   "execution_count": 35,
   "id": "inside-dubai",
   "metadata": {
    "execution": {
     "iopub.execute_input": "2021-09-02T12:11:18.962779Z",
     "iopub.status.busy": "2021-09-02T12:11:18.961526Z",
     "iopub.status.idle": "2021-09-02T12:11:18.963430Z",
     "shell.execute_reply": "2021-09-02T12:11:18.963924Z"
    },
    "papermill": {
     "duration": 0.040109,
     "end_time": "2021-09-02T12:11:18.964065",
     "exception": false,
     "start_time": "2021-09-02T12:11:18.923956",
     "status": "completed"
    },
    "tags": []
   },
   "outputs": [],
   "source": [
    "#hide\n",
    "# g = g.rename(columns= {'continent':'group','country':'name','cases':'value'})"
   ]
  },
  {
   "cell_type": "code",
   "execution_count": 36,
   "id": "fleet-motorcycle",
   "metadata": {
    "execution": {
     "iopub.execute_input": "2021-09-02T12:11:19.035928Z",
     "iopub.status.busy": "2021-09-02T12:11:19.035333Z",
     "iopub.status.idle": "2021-09-02T12:11:19.037450Z",
     "shell.execute_reply": "2021-09-02T12:11:19.036959Z"
    },
    "papermill": {
     "duration": 0.03972,
     "end_time": "2021-09-02T12:11:19.037573",
     "exception": false,
     "start_time": "2021-09-02T12:11:18.997853",
     "status": "completed"
    },
    "tags": []
   },
   "outputs": [],
   "source": [
    "#hide\n",
    "# cols = ['name','group','day','value']"
   ]
  },
  {
   "cell_type": "code",
   "execution_count": 37,
   "id": "continued-sleeping",
   "metadata": {
    "execution": {
     "iopub.execute_input": "2021-09-02T12:11:19.110093Z",
     "iopub.status.busy": "2021-09-02T12:11:19.109500Z",
     "iopub.status.idle": "2021-09-02T12:11:19.111949Z",
     "shell.execute_reply": "2021-09-02T12:11:19.112449Z"
    },
    "papermill": {
     "duration": 0.041372,
     "end_time": "2021-09-02T12:11:19.112591",
     "exception": false,
     "start_time": "2021-09-02T12:11:19.071219",
     "status": "completed"
    },
    "tags": []
   },
   "outputs": [],
   "source": [
    "#hide\n",
    "# g.rename(columns= {'date':'day'},inplace = True)"
   ]
  },
  {
   "cell_type": "code",
   "execution_count": 38,
   "id": "major-fight",
   "metadata": {
    "execution": {
     "iopub.execute_input": "2021-09-02T12:11:19.185671Z",
     "iopub.status.busy": "2021-09-02T12:11:19.185071Z",
     "iopub.status.idle": "2021-09-02T12:11:19.187416Z",
     "shell.execute_reply": "2021-09-02T12:11:19.187852Z"
    },
    "papermill": {
     "duration": 0.041323,
     "end_time": "2021-09-02T12:11:19.187986",
     "exception": false,
     "start_time": "2021-09-02T12:11:19.146663",
     "status": "completed"
    },
    "tags": []
   },
   "outputs": [],
   "source": [
    "#hide\n",
    "# g = g[cols]"
   ]
  },
  {
   "cell_type": "code",
   "execution_count": 39,
   "id": "structured-mobile",
   "metadata": {
    "execution": {
     "iopub.execute_input": "2021-09-02T12:11:19.260245Z",
     "iopub.status.busy": "2021-09-02T12:11:19.259651Z",
     "iopub.status.idle": "2021-09-02T12:11:19.261924Z",
     "shell.execute_reply": "2021-09-02T12:11:19.261451Z"
    },
    "papermill": {
     "duration": 0.040689,
     "end_time": "2021-09-02T12:11:19.262052",
     "exception": false,
     "start_time": "2021-09-02T12:11:19.221363",
     "status": "completed"
    },
    "tags": []
   },
   "outputs": [],
   "source": [
    "# #hide\n",
    "# g = g[g.group.notna()]"
   ]
  },
  {
   "cell_type": "code",
   "execution_count": 40,
   "id": "determined-closing",
   "metadata": {
    "execution": {
     "iopub.execute_input": "2021-09-02T12:11:19.334203Z",
     "iopub.status.busy": "2021-09-02T12:11:19.333602Z",
     "iopub.status.idle": "2021-09-02T12:11:19.335892Z",
     "shell.execute_reply": "2021-09-02T12:11:19.335390Z"
    },
    "papermill": {
     "duration": 0.039758,
     "end_time": "2021-09-02T12:11:19.336015",
     "exception": false,
     "start_time": "2021-09-02T12:11:19.296257",
     "status": "completed"
    },
    "tags": []
   },
   "outputs": [],
   "source": [
    "# #hide\n",
    "# colors = dict(zip(\n",
    "#     [\"Oceania\", \"Europe\", \"Asia\", \"South America\", \"Middle East\", \"North America\", \"Africa\"],\n",
    "#     [\"#adb0ff\", \"#ffb3ff\", \"#90d595\", \"#e48381\", \"#aafbff\", \"#f7bb5f\", \"#eafb50\"]\n",
    "# ))\n",
    "# group_lk = g.set_index('name')['group'].to_dict()"
   ]
  },
  {
   "cell_type": "code",
   "execution_count": null,
   "id": "gross-drinking",
   "metadata": {
    "papermill": {
     "duration": 0.034128,
     "end_time": "2021-09-02T12:11:19.403996",
     "exception": false,
     "start_time": "2021-09-02T12:11:19.369868",
     "status": "completed"
    },
    "tags": []
   },
   "outputs": [],
   "source": []
  },
  {
   "cell_type": "code",
   "execution_count": 41,
   "id": "subject-macintosh",
   "metadata": {
    "execution": {
     "iopub.execute_input": "2021-09-02T12:11:19.476634Z",
     "iopub.status.busy": "2021-09-02T12:11:19.475986Z",
     "iopub.status.idle": "2021-09-02T12:11:19.478465Z",
     "shell.execute_reply": "2021-09-02T12:11:19.479034Z"
    },
    "papermill": {
     "duration": 0.041042,
     "end_time": "2021-09-02T12:11:19.479183",
     "exception": false,
     "start_time": "2021-09-02T12:11:19.438141",
     "status": "completed"
    },
    "tags": []
   },
   "outputs": [],
   "source": [
    "# #hide\n",
    "# fig, ax = plt.subplots(figsize=(15, 8))\n",
    "\n",
    "# def draw_barchart(current_day):\n",
    "#     dff = g[g['day'].eq(current_day)].sort_values(by='value', ascending=True).tail(10)\n",
    "#     ax.clear()\n",
    "#     ax.barh(dff['name'], dff['value'], color=[colors[group_lk[x]] for x in dff['name']])\n",
    "#     dx = dff['value'].max() / 200\n",
    "    \n",
    "#     for i, (value, name) in enumerate(zip(dff['value'], dff['name'])):\n",
    "#         ax.text(value-dx, i,     name,           size=14, weight=600, ha='right', va='bottom')\n",
    "#         ax.text(value-dx, i-.25, group_lk[name], size=10, color='#444444', ha='right', va='baseline')\n",
    "#         ax.text(value+dx, i,     f'{value:,.0f}',  size=14, ha='left',  va='center')\n",
    "#     ax.text(1, 0.4, current_day, transform=ax.transAxes, color='#777777', size=46, ha='right', weight=800)\n",
    "#     ax.text(0, 1.06, 'Population (thousands)', transform=ax.transAxes, size=12, color='#777777')\n",
    "#     ax.xaxis.set_major_formatter(ticker.StrMethodFormatter('{x:,.0f}'))\n",
    "#     ax.xaxis.set_ticks_position('top')\n",
    "#     ax.tick_params(axis='x', colors='#777777', labelsize=12)\n",
    "#     ax.set_yticks([])\n",
    "#     ax.margins(0, 0.01)\n",
    "#     ax.grid(which='major', axis='x', linestyle='-')\n",
    "#     ax.set_axisbelow(True)\n",
    "    \n",
    "#     ax.text(0, 1.15, 'Coronavirus',\n",
    "#             transform=ax.transAxes, size=24, weight=600, ha='left', va='top')\n",
    "# #     ax.text(1, 0, 'by @pratapvardhan; credit @jburnmurdoch', transform=ax.transAxes, color='#777777', ha='right',\n",
    "# #             bbox=dict(facecolor='white', alpha=0.8, edgecolor='white'))\n",
    "#     plt.box(False)"
   ]
  },
  {
   "cell_type": "code",
   "execution_count": 42,
   "id": "sexual-wages",
   "metadata": {
    "execution": {
     "iopub.execute_input": "2021-09-02T12:11:19.551005Z",
     "iopub.status.busy": "2021-09-02T12:11:19.550398Z",
     "iopub.status.idle": "2021-09-02T12:11:19.552466Z",
     "shell.execute_reply": "2021-09-02T12:11:19.552997Z"
    },
    "papermill": {
     "duration": 0.040296,
     "end_time": "2021-09-02T12:11:19.553143",
     "exception": false,
     "start_time": "2021-09-02T12:11:19.512847",
     "status": "completed"
    },
    "tags": []
   },
   "outputs": [],
   "source": [
    "# #hide_input\n",
    "# fig, ax = plt.subplots(figsize=(15, 8))\n",
    "# animator = animation.FuncAnimation(fig, draw_barchart, frames=range(g.day.values.min(), g.day.values.max()))\n",
    "# HTML(animator.to_jshtml())\n",
    "# # or use animator.to_html5_video() or animator.save() "
   ]
  },
  {
   "cell_type": "code",
   "execution_count": null,
   "id": "australian-container",
   "metadata": {
    "papermill": {
     "duration": 0.033177,
     "end_time": "2021-09-02T12:11:19.620190",
     "exception": false,
     "start_time": "2021-09-02T12:11:19.587013",
     "status": "completed"
    },
    "tags": []
   },
   "outputs": [],
   "source": []
  },
  {
   "cell_type": "code",
   "execution_count": null,
   "id": "mediterranean-pontiac",
   "metadata": {
    "papermill": {
     "duration": 0.031707,
     "end_time": "2021-09-02T12:11:19.683410",
     "exception": false,
     "start_time": "2021-09-02T12:11:19.651703",
     "status": "completed"
    },
    "tags": []
   },
   "outputs": [],
   "source": []
  },
  {
   "cell_type": "code",
   "execution_count": null,
   "id": "aging-legislature",
   "metadata": {
    "papermill": {
     "duration": 0.028779,
     "end_time": "2021-09-02T12:11:19.742967",
     "exception": false,
     "start_time": "2021-09-02T12:11:19.714188",
     "status": "completed"
    },
    "tags": []
   },
   "outputs": [],
   "source": []
  }
 ],
 "metadata": {
  "kernelspec": {
   "display_name": "Python 3",
   "language": "python",
   "name": "python3"
  },
  "language_info": {
   "codemirror_mode": {
    "name": "ipython",
    "version": 3
   },
   "file_extension": ".py",
   "mimetype": "text/x-python",
   "name": "python",
   "nbconvert_exporter": "python",
   "pygments_lexer": "ipython3",
   "version": "3.6.14"
  },
  "papermill": {
   "duration": 6.874915,
   "end_time": "2021-09-02T12:11:20.180247",
   "environment_variables": {},
   "exception": null,
   "input_path": "2020-03-21-covid19exp.ipynb",
   "output_path": "2020-03-21-covid19exp.ipynb",
   "parameters": {},
   "start_time": "2021-09-02T12:11:13.305332",
   "version": "2.0.0"
  }
 },
 "nbformat": 4,
 "nbformat_minor": 5
}