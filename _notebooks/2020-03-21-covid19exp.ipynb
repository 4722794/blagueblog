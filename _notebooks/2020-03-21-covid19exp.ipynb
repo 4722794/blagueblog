{
 "cells": [
  {
   "cell_type": "markdown",
   "id": "muslim-click",
   "metadata": {
    "papermill": {
     "duration": 0.045477,
     "end_time": "2021-09-08T00:21:21.741983",
     "exception": false,
     "start_time": "2021-09-08T00:21:21.696506",
     "status": "completed"
    },
    "tags": []
   },
   "source": [
    "# COVID-19 Case Race\n",
    "> A race chart to see rising cases around the world\n",
    "\n",
    "- author: Hargun Oberoi\n",
    "- image: images/covid-overview.png\n",
    "- hide: false\n",
    "- badges: false"
   ]
  },
  {
   "cell_type": "code",
   "execution_count": 1,
   "id": "proof-material",
   "metadata": {
    "execution": {
     "iopub.execute_input": "2021-09-08T00:21:21.850129Z",
     "iopub.status.busy": "2021-09-08T00:21:21.849396Z",
     "iopub.status.idle": "2021-09-08T00:21:22.270257Z",
     "shell.execute_reply": "2021-09-08T00:21:22.269643Z"
    },
    "papermill": {
     "duration": 0.486874,
     "end_time": "2021-09-08T00:21:22.270431",
     "exception": false,
     "start_time": "2021-09-08T00:21:21.783557",
     "status": "completed"
    },
    "tags": []
   },
   "outputs": [],
   "source": [
    "#hide\n",
    "import numpy as np\n",
    "import pandas as pd\n",
    "from jinja2 import Template\n",
    "from IPython.display import HTML"
   ]
  },
  {
   "cell_type": "code",
   "execution_count": 2,
   "id": "developed-terminology",
   "metadata": {
    "execution": {
     "iopub.execute_input": "2021-09-08T00:21:22.362197Z",
     "iopub.status.busy": "2021-09-08T00:21:22.361454Z",
     "iopub.status.idle": "2021-09-08T00:21:22.364028Z",
     "shell.execute_reply": "2021-09-08T00:21:22.364688Z"
    },
    "papermill": {
     "duration": 0.051402,
     "end_time": "2021-09-08T00:21:22.364861",
     "exception": false,
     "start_time": "2021-09-08T00:21:22.313459",
     "status": "completed"
    },
    "tags": []
   },
   "outputs": [],
   "source": [
    "#hide\n",
    "\n",
    "# FETCH\n",
    "base_url = 'https://raw.githubusercontent.com/pratapvardhan/notebooks/master/covid19/'\n",
    "paths = {\n",
    "    'mapping': base_url + 'mapping_countries.csv',\n",
    "    'overview': base_url + 'overview.tpl'\n",
    "}"
   ]
  },
  {
   "cell_type": "code",
   "execution_count": 3,
   "id": "dynamic-saver",
   "metadata": {
    "execution": {
     "iopub.execute_input": "2021-09-08T00:21:22.466072Z",
     "iopub.status.busy": "2021-09-08T00:21:22.465274Z",
     "iopub.status.idle": "2021-09-08T00:21:22.468281Z",
     "shell.execute_reply": "2021-09-08T00:21:22.468919Z"
    },
    "papermill": {
     "duration": 0.060745,
     "end_time": "2021-09-08T00:21:22.469153",
     "exception": false,
     "start_time": "2021-09-08T00:21:22.408408",
     "status": "completed"
    },
    "tags": []
   },
   "outputs": [
    {
     "data": {
      "text/plain": [
       "'https://raw.githubusercontent.com/pratapvardhan/notebooks/master/covid19/mapping_countries.csv'"
      ]
     },
     "execution_count": 3,
     "metadata": {},
     "output_type": "execute_result"
    }
   ],
   "source": [
    "#hide\n",
    "paths['mapping']"
   ]
  },
  {
   "cell_type": "code",
   "execution_count": 4,
   "id": "urban-software",
   "metadata": {
    "execution": {
     "iopub.execute_input": "2021-09-08T00:21:22.558456Z",
     "iopub.status.busy": "2021-09-08T00:21:22.557672Z",
     "iopub.status.idle": "2021-09-08T00:21:22.559206Z",
     "shell.execute_reply": "2021-09-08T00:21:22.559877Z"
    },
    "papermill": {
     "duration": 0.049454,
     "end_time": "2021-09-08T00:21:22.560039",
     "exception": false,
     "start_time": "2021-09-08T00:21:22.510585",
     "status": "completed"
    },
    "tags": []
   },
   "outputs": [],
   "source": [
    "#hide\n",
    "def get_mappings(url):\n",
    "    df = pd.read_csv(url)\n",
    "    return {\n",
    "        'df': df,\n",
    "        'replace.country': dict(df.dropna(subset=['Name']).set_index('Country')['Name']),\n",
    "        'map.continent': dict(df.set_index('Name')['Continent'])\n",
    "    }"
   ]
  },
  {
   "cell_type": "code",
   "execution_count": 5,
   "id": "intimate-machinery",
   "metadata": {
    "execution": {
     "iopub.execute_input": "2021-09-08T00:21:22.647761Z",
     "iopub.status.busy": "2021-09-08T00:21:22.647104Z",
     "iopub.status.idle": "2021-09-08T00:21:22.702983Z",
     "shell.execute_reply": "2021-09-08T00:21:22.703520Z"
    },
    "papermill": {
     "duration": 0.102712,
     "end_time": "2021-09-08T00:21:22.703698",
     "exception": false,
     "start_time": "2021-09-08T00:21:22.600986",
     "status": "completed"
    },
    "tags": []
   },
   "outputs": [],
   "source": [
    "#hide\n",
    "mapping = get_mappings(paths['mapping'])"
   ]
  },
  {
   "cell_type": "code",
   "execution_count": 6,
   "id": "certified-tactics",
   "metadata": {
    "execution": {
     "iopub.execute_input": "2021-09-08T00:21:22.791520Z",
     "iopub.status.busy": "2021-09-08T00:21:22.790819Z",
     "iopub.status.idle": "2021-09-08T00:21:22.796431Z",
     "shell.execute_reply": "2021-09-08T00:21:22.795842Z"
    },
    "papermill": {
     "duration": 0.050369,
     "end_time": "2021-09-08T00:21:22.796578",
     "exception": false,
     "start_time": "2021-09-08T00:21:22.746209",
     "status": "completed"
    },
    "tags": []
   },
   "outputs": [],
   "source": [
    "#hide\n",
    "def get_template(path):\n",
    "    from urllib.parse import urlparse\n",
    "    if bool(urlparse(path).netloc):\n",
    "        from urllib.request import urlopen\n",
    "        return urlopen(path).read().decode('utf8')\n",
    "    return open(path).read()"
   ]
  },
  {
   "cell_type": "code",
   "execution_count": 7,
   "id": "realistic-blast",
   "metadata": {
    "execution": {
     "iopub.execute_input": "2021-09-08T00:21:22.885789Z",
     "iopub.status.busy": "2021-09-08T00:21:22.884904Z",
     "iopub.status.idle": "2021-09-08T00:21:22.886735Z",
     "shell.execute_reply": "2021-09-08T00:21:22.887394Z"
    },
    "papermill": {
     "duration": 0.049494,
     "end_time": "2021-09-08T00:21:22.887552",
     "exception": false,
     "start_time": "2021-09-08T00:21:22.838058",
     "status": "completed"
    },
    "tags": []
   },
   "outputs": [],
   "source": [
    "#hide\n",
    "def get_frame(name):\n",
    "    url = (\n",
    "        'https://raw.githubusercontent.com/CSSEGISandData/COVID-19/master/csse_covid_19_data/'\n",
    "        f'csse_covid_19_time_series/time_series_covid19_{name}_global.csv')\n",
    "    df = pd.read_csv(url)\n",
    "    # rename countries\n",
    "    df['Country/Region'] = df['Country/Region'].replace(mapping['replace.country'])\n",
    "    return df"
   ]
  },
  {
   "cell_type": "code",
   "execution_count": 8,
   "id": "affiliated-characterization",
   "metadata": {
    "execution": {
     "iopub.execute_input": "2021-09-08T00:21:22.976568Z",
     "iopub.status.busy": "2021-09-08T00:21:22.975824Z",
     "iopub.status.idle": "2021-09-08T00:21:22.978334Z",
     "shell.execute_reply": "2021-09-08T00:21:22.977663Z"
    },
    "papermill": {
     "duration": 0.048526,
     "end_time": "2021-09-08T00:21:22.978476",
     "exception": false,
     "start_time": "2021-09-08T00:21:22.929950",
     "status": "completed"
    },
    "tags": []
   },
   "outputs": [],
   "source": [
    "#hide\n",
    "def get_dates(df):\n",
    "    dt_cols = df.columns[~df.columns.isin(['Province/State', 'Country/Region', 'Lat', 'Long'])]\n",
    "    LAST_DATE_I = -1\n",
    "    # sometimes last column may be empty, then go backwards\n",
    "    for i in range(-1, -len(dt_cols), -1):\n",
    "        if not df[dt_cols[i]].fillna(0).eq(0).all():\n",
    "            LAST_DATE_I = i\n",
    "            break\n",
    "    return LAST_DATE_I, dt_cols"
   ]
  },
  {
   "cell_type": "code",
   "execution_count": 9,
   "id": "recent-optimization",
   "metadata": {
    "execution": {
     "iopub.execute_input": "2021-09-08T00:21:23.068062Z",
     "iopub.status.busy": "2021-09-08T00:21:23.067334Z",
     "iopub.status.idle": "2021-09-08T00:21:23.436066Z",
     "shell.execute_reply": "2021-09-08T00:21:23.435496Z"
    },
    "papermill": {
     "duration": 0.417212,
     "end_time": "2021-09-08T00:21:23.436194",
     "exception": false,
     "start_time": "2021-09-08T00:21:23.018982",
     "status": "completed"
    },
    "tags": []
   },
   "outputs": [],
   "source": [
    "#hide\n",
    "COL_REGION = 'Country/Region'\n",
    "# Confirmed, Recovered, Deaths\n",
    "df = get_frame('confirmed')\n",
    "# dft_: timeseries, dfc_: today country agg\n",
    "dft_cases = df\n",
    "dft_deaths = get_frame('deaths')\n",
    "dft_recovered = get_frame('recovered')\n",
    "LAST_DATE_I, dt_cols = get_dates(df)"
   ]
  },
  {
   "cell_type": "code",
   "execution_count": 10,
   "id": "absolute-copper",
   "metadata": {
    "execution": {
     "iopub.execute_input": "2021-09-08T00:21:23.521590Z",
     "iopub.status.busy": "2021-09-08T00:21:23.520930Z",
     "iopub.status.idle": "2021-09-08T00:21:23.523335Z",
     "shell.execute_reply": "2021-09-08T00:21:23.522750Z"
    },
    "papermill": {
     "duration": 0.049014,
     "end_time": "2021-09-08T00:21:23.523460",
     "exception": false,
     "start_time": "2021-09-08T00:21:23.474446",
     "status": "completed"
    },
    "tags": []
   },
   "outputs": [],
   "source": [
    "#hide\n",
    "LAST_DATE_I, dt_cols = get_dates(df)\n",
    "dt_today =dt_cols[LAST_DATE_I]\n",
    "# dt_5day = dt_cols[LAST_DATE_I - 5]\n",
    "dt_yday = dt_cols[LAST_DATE_I - 1]"
   ]
  },
  {
   "cell_type": "code",
   "execution_count": 11,
   "id": "restricted-sheriff",
   "metadata": {
    "execution": {
     "iopub.execute_input": "2021-09-08T00:21:23.620871Z",
     "iopub.status.busy": "2021-09-08T00:21:23.620167Z",
     "iopub.status.idle": "2021-09-08T00:21:23.626676Z",
     "shell.execute_reply": "2021-09-08T00:21:23.627373Z"
    },
    "papermill": {
     "duration": 0.065931,
     "end_time": "2021-09-08T00:21:23.627561",
     "exception": false,
     "start_time": "2021-09-08T00:21:23.561630",
     "status": "completed"
    },
    "tags": []
   },
   "outputs": [],
   "source": [
    "#hide\n",
    "dfc_cases = dft_cases.groupby(COL_REGION)[dt_today].sum()\n",
    "dfc_deaths = dft_deaths.groupby(COL_REGION)[dt_today].sum()\n",
    "# dfp_cases = dft_cases.groupby(COL_REGION)[dt_5day].sum()\n",
    "# dfp_deaths = dft_deaths.groupby(COL_REGION)[dt_5day].sum()\n",
    "dfp_cases = dft_cases.groupby(COL_REGION)[dt_yday].sum()\n",
    "dfp_deaths = dft_deaths.groupby(COL_REGION)[dt_yday].sum()"
   ]
  },
  {
   "cell_type": "code",
   "execution_count": 12,
   "id": "deluxe-hepatitis",
   "metadata": {
    "execution": {
     "iopub.execute_input": "2021-09-08T00:21:23.718115Z",
     "iopub.status.busy": "2021-09-08T00:21:23.717346Z",
     "iopub.status.idle": "2021-09-08T00:21:23.720022Z",
     "shell.execute_reply": "2021-09-08T00:21:23.719383Z"
    },
    "papermill": {
     "duration": 0.053115,
     "end_time": "2021-09-08T00:21:23.720149",
     "exception": false,
     "start_time": "2021-09-08T00:21:23.667034",
     "status": "completed"
    },
    "tags": []
   },
   "outputs": [],
   "source": [
    "#hide\n",
    "df_table = (pd.DataFrame(dict(Cases = dfc_cases, Deaths = dfc_deaths, PCases = dfp_cases, PDeaths = dfp_deaths))\n",
    "            .sort_values(by = ['Cases','Deaths'], ascending = [False, False])\n",
    "            .reset_index())"
   ]
  },
  {
   "cell_type": "code",
   "execution_count": 13,
   "id": "educational-chancellor",
   "metadata": {
    "execution": {
     "iopub.execute_input": "2021-09-08T00:21:23.832747Z",
     "iopub.status.busy": "2021-09-08T00:21:23.832019Z",
     "iopub.status.idle": "2021-09-08T00:21:23.834861Z",
     "shell.execute_reply": "2021-09-08T00:21:23.835445Z"
    },
    "papermill": {
     "duration": 0.076179,
     "end_time": "2021-09-08T00:21:23.835600",
     "exception": false,
     "start_time": "2021-09-08T00:21:23.759421",
     "status": "completed"
    },
    "tags": []
   },
   "outputs": [
    {
     "data": {
      "text/html": [
       "<div>\n",
       "<style scoped>\n",
       "    .dataframe tbody tr th:only-of-type {\n",
       "        vertical-align: middle;\n",
       "    }\n",
       "\n",
       "    .dataframe tbody tr th {\n",
       "        vertical-align: top;\n",
       "    }\n",
       "\n",
       "    .dataframe thead th {\n",
       "        text-align: right;\n",
       "    }\n",
       "</style>\n",
       "<table border=\"1\" class=\"dataframe\">\n",
       "  <thead>\n",
       "    <tr style=\"text-align: right;\">\n",
       "      <th></th>\n",
       "      <th>Country/Region</th>\n",
       "      <th>Cases</th>\n",
       "      <th>Deaths</th>\n",
       "      <th>PCases</th>\n",
       "      <th>PDeaths</th>\n",
       "      <th>Cases (+)</th>\n",
       "      <th>Deaths (+)</th>\n",
       "      <th>Fatality Rate</th>\n",
       "      <th>Continent</th>\n",
       "    </tr>\n",
       "  </thead>\n",
       "  <tbody>\n",
       "    <tr>\n",
       "      <th>0</th>\n",
       "      <td>US</td>\n",
       "      <td>40018318</td>\n",
       "      <td>648998</td>\n",
       "      <td>39944992</td>\n",
       "      <td>648468</td>\n",
       "      <td>73326</td>\n",
       "      <td>530</td>\n",
       "      <td>1.62</td>\n",
       "      <td>North America</td>\n",
       "    </tr>\n",
       "    <tr>\n",
       "      <th>1</th>\n",
       "      <td>India</td>\n",
       "      <td>33058843</td>\n",
       "      <td>441042</td>\n",
       "      <td>33027621</td>\n",
       "      <td>440752</td>\n",
       "      <td>31222</td>\n",
       "      <td>290</td>\n",
       "      <td>1.33</td>\n",
       "      <td>Asia</td>\n",
       "    </tr>\n",
       "    <tr>\n",
       "      <th>2</th>\n",
       "      <td>Brazil</td>\n",
       "      <td>20899933</td>\n",
       "      <td>583810</td>\n",
       "      <td>20890779</td>\n",
       "      <td>583628</td>\n",
       "      <td>9154</td>\n",
       "      <td>182</td>\n",
       "      <td>2.79</td>\n",
       "      <td>South America</td>\n",
       "    </tr>\n",
       "    <tr>\n",
       "      <th>3</th>\n",
       "      <td>United Kingdom</td>\n",
       "      <td>7051516</td>\n",
       "      <td>133598</td>\n",
       "      <td>7010540</td>\n",
       "      <td>133553</td>\n",
       "      <td>40976</td>\n",
       "      <td>45</td>\n",
       "      <td>1.89</td>\n",
       "      <td>Europe</td>\n",
       "    </tr>\n",
       "    <tr>\n",
       "      <th>4</th>\n",
       "      <td>Russia</td>\n",
       "      <td>6929862</td>\n",
       "      <td>184672</td>\n",
       "      <td>6912375</td>\n",
       "      <td>183896</td>\n",
       "      <td>17487</td>\n",
       "      <td>776</td>\n",
       "      <td>2.66</td>\n",
       "      <td>Europe</td>\n",
       "    </tr>\n",
       "  </tbody>\n",
       "</table>\n",
       "</div>"
      ],
      "text/plain": [
       "   Country/Region     Cases  Deaths    PCases  PDeaths  Cases (+)  Deaths (+)  \\\n",
       "0              US  40018318  648998  39944992   648468      73326         530   \n",
       "1           India  33058843  441042  33027621   440752      31222         290   \n",
       "2          Brazil  20899933  583810  20890779   583628       9154         182   \n",
       "3  United Kingdom   7051516  133598   7010540   133553      40976          45   \n",
       "4          Russia   6929862  184672   6912375   183896      17487         776   \n",
       "\n",
       "   Fatality Rate      Continent  \n",
       "0           1.62  North America  \n",
       "1           1.33           Asia  \n",
       "2           2.79  South America  \n",
       "3           1.89         Europe  \n",
       "4           2.66         Europe  "
      ]
     },
     "execution_count": 13,
     "metadata": {},
     "output_type": "execute_result"
    }
   ],
   "source": [
    "#hide\n",
    "for c in 'Cases, Deaths'.split(', '):\n",
    "    df_table[f'{c} (+)'] = (df_table[c] - df_table[f'P{c}']).clip(0)\n",
    "    #Clip ça veut dire, les chiffres negatif sont interdit\n",
    "df_table['Fatality Rate'] = (100* df_table['Deaths']/ df_table['Cases']).round(2)\n",
    "df_table['Continent'] = df_table['Country/Region'].map(mapping['map.continent'])\n",
    "df_table.head(5)"
   ]
  },
  {
   "cell_type": "code",
   "execution_count": 14,
   "id": "aboriginal-bulgaria",
   "metadata": {
    "execution": {
     "iopub.execute_input": "2021-09-08T00:21:23.920516Z",
     "iopub.status.busy": "2021-09-08T00:21:23.919940Z",
     "iopub.status.idle": "2021-09-08T00:21:23.923441Z",
     "shell.execute_reply": "2021-09-08T00:21:23.922951Z"
    },
    "papermill": {
     "duration": 0.048624,
     "end_time": "2021-09-08T00:21:23.923562",
     "exception": false,
     "start_time": "2021-09-08T00:21:23.874938",
     "status": "completed"
    },
    "tags": []
   },
   "outputs": [],
   "source": [
    "#hide\n",
    "#delete problematic countries from table\n",
    "df_table = df_table[~df_table['Country/Region'].isin(['Cape Verde', 'Cruise Ship', 'Kosovo'])]"
   ]
  },
  {
   "cell_type": "code",
   "execution_count": 15,
   "id": "fantastic-effect",
   "metadata": {
    "execution": {
     "iopub.execute_input": "2021-09-08T00:21:24.010050Z",
     "iopub.status.busy": "2021-09-08T00:21:24.009434Z",
     "iopub.status.idle": "2021-09-08T00:21:24.032207Z",
     "shell.execute_reply": "2021-09-08T00:21:24.031599Z"
    },
    "papermill": {
     "duration": 0.070629,
     "end_time": "2021-09-08T00:21:24.032383",
     "exception": false,
     "start_time": "2021-09-08T00:21:23.961754",
     "status": "completed"
    },
    "tags": []
   },
   "outputs": [
    {
     "data": {
      "text/html": [
       "<div>\n",
       "<style scoped>\n",
       "    .dataframe tbody tr th:only-of-type {\n",
       "        vertical-align: middle;\n",
       "    }\n",
       "\n",
       "    .dataframe tbody tr th {\n",
       "        vertical-align: top;\n",
       "    }\n",
       "\n",
       "    .dataframe thead th {\n",
       "        text-align: right;\n",
       "    }\n",
       "</style>\n",
       "<table border=\"1\" class=\"dataframe\">\n",
       "  <thead>\n",
       "    <tr style=\"text-align: right;\">\n",
       "      <th></th>\n",
       "      <th>Country/Region</th>\n",
       "      <th>Cases</th>\n",
       "      <th>Deaths</th>\n",
       "      <th>PCases</th>\n",
       "      <th>PDeaths</th>\n",
       "      <th>Cases (+)</th>\n",
       "      <th>Deaths (+)</th>\n",
       "      <th>Fatality Rate</th>\n",
       "      <th>Continent</th>\n",
       "    </tr>\n",
       "  </thead>\n",
       "  <tbody>\n",
       "    <tr>\n",
       "      <th>0</th>\n",
       "      <td>US</td>\n",
       "      <td>40018318</td>\n",
       "      <td>648998</td>\n",
       "      <td>39944992</td>\n",
       "      <td>648468</td>\n",
       "      <td>73326</td>\n",
       "      <td>530</td>\n",
       "      <td>1.6</td>\n",
       "      <td>North America</td>\n",
       "    </tr>\n",
       "    <tr>\n",
       "      <th>1</th>\n",
       "      <td>India</td>\n",
       "      <td>33058843</td>\n",
       "      <td>441042</td>\n",
       "      <td>33027621</td>\n",
       "      <td>440752</td>\n",
       "      <td>31222</td>\n",
       "      <td>290</td>\n",
       "      <td>1.3</td>\n",
       "      <td>Asia</td>\n",
       "    </tr>\n",
       "    <tr>\n",
       "      <th>2</th>\n",
       "      <td>Brazil</td>\n",
       "      <td>20899933</td>\n",
       "      <td>583810</td>\n",
       "      <td>20890779</td>\n",
       "      <td>583628</td>\n",
       "      <td>9154</td>\n",
       "      <td>182</td>\n",
       "      <td>2.8</td>\n",
       "      <td>South America</td>\n",
       "    </tr>\n",
       "    <tr>\n",
       "      <th>3</th>\n",
       "      <td>United Kingdom</td>\n",
       "      <td>7051516</td>\n",
       "      <td>133598</td>\n",
       "      <td>7010540</td>\n",
       "      <td>133553</td>\n",
       "      <td>40976</td>\n",
       "      <td>45</td>\n",
       "      <td>1.9</td>\n",
       "      <td>Europe</td>\n",
       "    </tr>\n",
       "    <tr>\n",
       "      <th>4</th>\n",
       "      <td>Russia</td>\n",
       "      <td>6929862</td>\n",
       "      <td>184672</td>\n",
       "      <td>6912375</td>\n",
       "      <td>183896</td>\n",
       "      <td>17487</td>\n",
       "      <td>776</td>\n",
       "      <td>2.7</td>\n",
       "      <td>Europe</td>\n",
       "    </tr>\n",
       "  </tbody>\n",
       "</table>\n",
       "</div>"
      ],
      "text/plain": [
       "   Country/Region     Cases  Deaths    PCases  PDeaths  Cases (+)  Deaths (+)  \\\n",
       "0              US  40018318  648998  39944992   648468      73326         530   \n",
       "1           India  33058843  441042  33027621   440752      31222         290   \n",
       "2          Brazil  20899933  583810  20890779   583628       9154         182   \n",
       "3  United Kingdom   7051516  133598   7010540   133553      40976          45   \n",
       "4          Russia   6929862  184672   6912375   183896      17487         776   \n",
       "\n",
       "   Fatality Rate      Continent  \n",
       "0            1.6  North America  \n",
       "1            1.3           Asia  \n",
       "2            2.8  South America  \n",
       "3            1.9         Europe  \n",
       "4            2.7         Europe  "
      ]
     },
     "execution_count": 15,
     "metadata": {},
     "output_type": "execute_result"
    }
   ],
   "source": [
    "#hide\n",
    "df_table = (pd.DataFrame(dict(Cases=dfc_cases, Deaths=dfc_deaths, PCases=dfp_cases, PDeaths=dfp_deaths))\n",
    "             .sort_values(by=['Cases', 'Deaths'], ascending=[False, False])\n",
    "             .reset_index())\n",
    "df_table.rename(columns={'index': 'Country/Region'}, inplace=True)\n",
    "for c in 'Cases, Deaths'.split(', '):\n",
    "    df_table[f'{c} (+)'] = (df_table[c] - df_table[f'P{c}']).clip(0)  # DATA BUG\n",
    "df_table['Fatality Rate'] = (100 * df_table['Deaths'] / df_table['Cases']).round(1)\n",
    "df_table['Continent'] = df_table['Country/Region'].map(mapping['map.continent'])\n",
    "df_table.head(5)"
   ]
  },
  {
   "cell_type": "code",
   "execution_count": 16,
   "id": "fewer-occasion",
   "metadata": {
    "execution": {
     "iopub.execute_input": "2021-09-08T00:21:24.121752Z",
     "iopub.status.busy": "2021-09-08T00:21:24.121100Z",
     "iopub.status.idle": "2021-09-08T00:21:24.124005Z",
     "shell.execute_reply": "2021-09-08T00:21:24.123403Z"
    },
    "papermill": {
     "duration": 0.049512,
     "end_time": "2021-09-08T00:21:24.124133",
     "exception": false,
     "start_time": "2021-09-08T00:21:24.074621",
     "status": "completed"
    },
    "tags": []
   },
   "outputs": [],
   "source": [
    "#hide\n",
    "#delete problematic countries from table\n",
    "df_table = df_table[~df_table['Country/Region'].isin(['Cape Verde', 'Cruise Ship', 'Kosovo'])]"
   ]
  },
  {
   "cell_type": "code",
   "execution_count": 17,
   "id": "related-center",
   "metadata": {
    "execution": {
     "iopub.execute_input": "2021-09-08T00:21:24.232750Z",
     "iopub.status.busy": "2021-09-08T00:21:24.232058Z",
     "iopub.status.idle": "2021-09-08T00:21:24.233695Z",
     "shell.execute_reply": "2021-09-08T00:21:24.234550Z"
    },
    "papermill": {
     "duration": 0.069044,
     "end_time": "2021-09-08T00:21:24.234737",
     "exception": false,
     "start_time": "2021-09-08T00:21:24.165693",
     "status": "completed"
    },
    "tags": []
   },
   "outputs": [],
   "source": [
    "#hide\n",
    "metrics = [df_table.columns[index] for index in [1,2,5,6]]\n",
    "# s_china = df_table[df_table['Country/Region'].eq('China')][metrics].sum().add_prefix('China ')\n",
    "s_us = df_table[df_table['Country/Region'].eq('US')][metrics].sum().add_prefix('US ')\n",
    "s_eu = df_table[df_table['Continent'].eq('Europe')][metrics].sum().add_prefix('EU ')\n",
    "s_ind = df_table[df_table['Country/Region'].eq('India')][metrics].sum().add_prefix('India ')\n",
    "summary = {'updated': pd.to_datetime(dt_today), 'since': pd.to_datetime(dt_yday)}\n",
    "summary = {'updated': pd.to_datetime(dt_today), 'since': pd.to_datetime(dt_yday)}\n",
    "summary = {**summary, **df_table[metrics].sum(), **s_ind, **s_us, **s_eu}"
   ]
  },
  {
   "cell_type": "code",
   "execution_count": 18,
   "id": "engaging-syndrome",
   "metadata": {
    "execution": {
     "iopub.execute_input": "2021-09-08T00:21:24.325793Z",
     "iopub.status.busy": "2021-09-08T00:21:24.324883Z",
     "iopub.status.idle": "2021-09-08T00:21:24.340847Z",
     "shell.execute_reply": "2021-09-08T00:21:24.341539Z"
    },
    "papermill": {
     "duration": 0.065235,
     "end_time": "2021-09-08T00:21:24.341716",
     "exception": false,
     "start_time": "2021-09-08T00:21:24.276481",
     "status": "completed"
    },
    "tags": []
   },
   "outputs": [],
   "source": [
    "#hide\n",
    "dft_ct_new_cases = dft_cases.groupby(COL_REGION)[dt_cols].sum().diff(axis=1).fillna(0).astype(int)"
   ]
  },
  {
   "cell_type": "code",
   "execution_count": 19,
   "id": "neutral-assignment",
   "metadata": {
    "execution": {
     "iopub.execute_input": "2021-09-08T00:21:24.440133Z",
     "iopub.status.busy": "2021-09-08T00:21:24.439416Z",
     "iopub.status.idle": "2021-09-08T00:21:24.442063Z",
     "shell.execute_reply": "2021-09-08T00:21:24.441388Z"
    },
    "papermill": {
     "duration": 0.061312,
     "end_time": "2021-09-08T00:21:24.442190",
     "exception": false,
     "start_time": "2021-09-08T00:21:24.380878",
     "status": "completed"
    },
    "tags": []
   },
   "outputs": [],
   "source": [
    "#hide\n",
    "everydaycases = dft_ct_new_cases.cumsum(axis=1)"
   ]
  },
  {
   "cell_type": "code",
   "execution_count": 20,
   "id": "parliamentary-calgary",
   "metadata": {
    "execution": {
     "iopub.execute_input": "2021-09-08T00:21:24.530068Z",
     "iopub.status.busy": "2021-09-08T00:21:24.529195Z",
     "iopub.status.idle": "2021-09-08T00:21:25.217741Z",
     "shell.execute_reply": "2021-09-08T00:21:25.215493Z"
    },
    "papermill": {
     "duration": 0.734848,
     "end_time": "2021-09-08T00:21:25.217909",
     "exception": false,
     "start_time": "2021-09-08T00:21:24.483061",
     "status": "completed"
    },
    "tags": []
   },
   "outputs": [],
   "source": [
    "#hide\n",
    "import pandas as pd\n",
    "import matplotlib.pyplot as plt\n",
    "import matplotlib.ticker as ticker\n",
    "import matplotlib.animation as animation\n",
    "from IPython.display import HTML"
   ]
  },
  {
   "cell_type": "code",
   "execution_count": 21,
   "id": "lasting-extraction",
   "metadata": {
    "execution": {
     "iopub.execute_input": "2021-09-08T00:21:25.307109Z",
     "iopub.status.busy": "2021-09-08T00:21:25.306372Z",
     "iopub.status.idle": "2021-09-08T00:21:25.311360Z",
     "shell.execute_reply": "2021-09-08T00:21:25.311943Z"
    },
    "papermill": {
     "duration": 0.051846,
     "end_time": "2021-09-08T00:21:25.312140",
     "exception": false,
     "start_time": "2021-09-08T00:21:25.260294",
     "status": "completed"
    },
    "tags": []
   },
   "outputs": [],
   "source": [
    "#hide\n",
    "t = everydaycases.stack()"
   ]
  },
  {
   "cell_type": "code",
   "execution_count": 22,
   "id": "premier-sleeve",
   "metadata": {
    "execution": {
     "iopub.execute_input": "2021-09-08T00:21:25.396628Z",
     "iopub.status.busy": "2021-09-08T00:21:25.396009Z",
     "iopub.status.idle": "2021-09-08T00:21:25.405155Z",
     "shell.execute_reply": "2021-09-08T00:21:25.404571Z"
    },
    "papermill": {
     "duration": 0.05185,
     "end_time": "2021-09-08T00:21:25.405309",
     "exception": false,
     "start_time": "2021-09-08T00:21:25.353459",
     "status": "completed"
    },
    "tags": []
   },
   "outputs": [],
   "source": [
    "#hide\n",
    "g = t.reset_index(['Country/Region'])"
   ]
  },
  {
   "cell_type": "code",
   "execution_count": 23,
   "id": "distributed-pittsburgh",
   "metadata": {
    "execution": {
     "iopub.execute_input": "2021-09-08T00:21:25.488995Z",
     "iopub.status.busy": "2021-09-08T00:21:25.487543Z",
     "iopub.status.idle": "2021-09-08T00:21:25.489951Z",
     "shell.execute_reply": "2021-09-08T00:21:25.490510Z"
    },
    "papermill": {
     "duration": 0.048115,
     "end_time": "2021-09-08T00:21:25.490658",
     "exception": false,
     "start_time": "2021-09-08T00:21:25.442543",
     "status": "completed"
    },
    "tags": []
   },
   "outputs": [],
   "source": [
    "#hide\n",
    "g.index.name = 'date'"
   ]
  },
  {
   "cell_type": "code",
   "execution_count": 24,
   "id": "naked-donor",
   "metadata": {
    "execution": {
     "iopub.execute_input": "2021-09-08T00:21:25.572084Z",
     "iopub.status.busy": "2021-09-08T00:21:25.571198Z",
     "iopub.status.idle": "2021-09-08T00:21:25.578377Z",
     "shell.execute_reply": "2021-09-08T00:21:25.577826Z"
    },
    "papermill": {
     "duration": 0.049179,
     "end_time": "2021-09-08T00:21:25.578641",
     "exception": false,
     "start_time": "2021-09-08T00:21:25.529462",
     "status": "completed"
    },
    "tags": []
   },
   "outputs": [],
   "source": [
    "# #hide\n",
    "# g = g.reset_index(['date'])"
   ]
  },
  {
   "cell_type": "code",
   "execution_count": 25,
   "id": "incomplete-mustang",
   "metadata": {
    "execution": {
     "iopub.execute_input": "2021-09-08T00:21:25.661577Z",
     "iopub.status.busy": "2021-09-08T00:21:25.660736Z",
     "iopub.status.idle": "2021-09-08T00:21:25.662879Z",
     "shell.execute_reply": "2021-09-08T00:21:25.663463Z"
    },
    "papermill": {
     "duration": 0.045114,
     "end_time": "2021-09-08T00:21:25.663625",
     "exception": false,
     "start_time": "2021-09-08T00:21:25.618511",
     "status": "completed"
    },
    "tags": []
   },
   "outputs": [],
   "source": [
    "#hide\n",
    "# g.head()"
   ]
  },
  {
   "cell_type": "code",
   "execution_count": 26,
   "id": "specific-kruger",
   "metadata": {
    "execution": {
     "iopub.execute_input": "2021-09-08T00:21:25.747855Z",
     "iopub.status.busy": "2021-09-08T00:21:25.747217Z",
     "iopub.status.idle": "2021-09-08T00:21:25.749668Z",
     "shell.execute_reply": "2021-09-08T00:21:25.749091Z"
    },
    "papermill": {
     "duration": 0.046028,
     "end_time": "2021-09-08T00:21:25.749792",
     "exception": false,
     "start_time": "2021-09-08T00:21:25.703764",
     "status": "completed"
    },
    "tags": []
   },
   "outputs": [],
   "source": [
    "#hide\n",
    "# g.columns = ['date','country','cases']"
   ]
  },
  {
   "cell_type": "code",
   "execution_count": 27,
   "id": "tender-conversion",
   "metadata": {
    "execution": {
     "iopub.execute_input": "2021-09-08T00:21:25.847066Z",
     "iopub.status.busy": "2021-09-08T00:21:25.846444Z",
     "iopub.status.idle": "2021-09-08T00:21:25.848964Z",
     "shell.execute_reply": "2021-09-08T00:21:25.848348Z"
    },
    "papermill": {
     "duration": 0.058922,
     "end_time": "2021-09-08T00:21:25.849127",
     "exception": false,
     "start_time": "2021-09-08T00:21:25.790205",
     "status": "completed"
    },
    "tags": []
   },
   "outputs": [],
   "source": [
    "#hide\n",
    "# g['continent'] = g.country"
   ]
  },
  {
   "cell_type": "code",
   "execution_count": 28,
   "id": "substantial-wilderness",
   "metadata": {
    "execution": {
     "iopub.execute_input": "2021-09-08T00:21:25.931822Z",
     "iopub.status.busy": "2021-09-08T00:21:25.931170Z",
     "iopub.status.idle": "2021-09-08T00:21:25.933901Z",
     "shell.execute_reply": "2021-09-08T00:21:25.933301Z"
    },
    "papermill": {
     "duration": 0.047398,
     "end_time": "2021-09-08T00:21:25.934027",
     "exception": false,
     "start_time": "2021-09-08T00:21:25.886629",
     "status": "completed"
    },
    "tags": []
   },
   "outputs": [],
   "source": [
    "#hide\n",
    "# cols = list(g.columns.values)"
   ]
  },
  {
   "cell_type": "code",
   "execution_count": 29,
   "id": "solved-farming",
   "metadata": {
    "execution": {
     "iopub.execute_input": "2021-09-08T00:21:26.014788Z",
     "iopub.status.busy": "2021-09-08T00:21:26.013963Z",
     "iopub.status.idle": "2021-09-08T00:21:26.016664Z",
     "shell.execute_reply": "2021-09-08T00:21:26.017257Z"
    },
    "papermill": {
     "duration": 0.04394,
     "end_time": "2021-09-08T00:21:26.017396",
     "exception": false,
     "start_time": "2021-09-08T00:21:25.973456",
     "status": "completed"
    },
    "tags": []
   },
   "outputs": [],
   "source": [
    "#hide\n",
    "# cols.insert(0, cols.pop())"
   ]
  },
  {
   "cell_type": "code",
   "execution_count": 30,
   "id": "executed-adoption",
   "metadata": {
    "execution": {
     "iopub.execute_input": "2021-09-08T00:21:26.109204Z",
     "iopub.status.busy": "2021-09-08T00:21:26.108515Z",
     "iopub.status.idle": "2021-09-08T00:21:26.111404Z",
     "shell.execute_reply": "2021-09-08T00:21:26.110818Z"
    },
    "papermill": {
     "duration": 0.055181,
     "end_time": "2021-09-08T00:21:26.111536",
     "exception": false,
     "start_time": "2021-09-08T00:21:26.056355",
     "status": "completed"
    },
    "tags": []
   },
   "outputs": [],
   "source": [
    "#hide\n",
    "# g = g[cols]"
   ]
  },
  {
   "cell_type": "code",
   "execution_count": 31,
   "id": "subject-dublin",
   "metadata": {
    "execution": {
     "iopub.execute_input": "2021-09-08T00:21:26.202701Z",
     "iopub.status.busy": "2021-09-08T00:21:26.201845Z",
     "iopub.status.idle": "2021-09-08T00:21:26.204783Z",
     "shell.execute_reply": "2021-09-08T00:21:26.204112Z"
    },
    "papermill": {
     "duration": 0.046623,
     "end_time": "2021-09-08T00:21:26.204918",
     "exception": false,
     "start_time": "2021-09-08T00:21:26.158295",
     "status": "completed"
    },
    "tags": []
   },
   "outputs": [],
   "source": [
    "#hide\n",
    "# g['continent'] = g['continent'].map(mapping['map.continent'])"
   ]
  },
  {
   "cell_type": "code",
   "execution_count": 32,
   "id": "freelance-scout",
   "metadata": {
    "execution": {
     "iopub.execute_input": "2021-09-08T00:21:26.287051Z",
     "iopub.status.busy": "2021-09-08T00:21:26.286147Z",
     "iopub.status.idle": "2021-09-08T00:21:26.288695Z",
     "shell.execute_reply": "2021-09-08T00:21:26.288085Z"
    },
    "papermill": {
     "duration": 0.045057,
     "end_time": "2021-09-08T00:21:26.288821",
     "exception": false,
     "start_time": "2021-09-08T00:21:26.243764",
     "status": "completed"
    },
    "tags": []
   },
   "outputs": [],
   "source": [
    "#hide\n",
    "# g.head()"
   ]
  },
  {
   "cell_type": "code",
   "execution_count": 33,
   "id": "limited-engine",
   "metadata": {
    "execution": {
     "iopub.execute_input": "2021-09-08T00:21:26.376274Z",
     "iopub.status.busy": "2021-09-08T00:21:26.375484Z",
     "iopub.status.idle": "2021-09-08T00:21:26.377573Z",
     "shell.execute_reply": "2021-09-08T00:21:26.378182Z"
    },
    "papermill": {
     "duration": 0.04725,
     "end_time": "2021-09-08T00:21:26.378341",
     "exception": false,
     "start_time": "2021-09-08T00:21:26.331091",
     "status": "completed"
    },
    "tags": []
   },
   "outputs": [],
   "source": [
    "# hide\n",
    "# g['date'] = g['date'].astype('datetime64[ns]')"
   ]
  },
  {
   "cell_type": "code",
   "execution_count": 34,
   "id": "sophisticated-supervisor",
   "metadata": {
    "execution": {
     "iopub.execute_input": "2021-09-08T00:21:26.465040Z",
     "iopub.status.busy": "2021-09-08T00:21:26.464205Z",
     "iopub.status.idle": "2021-09-08T00:21:26.466839Z",
     "shell.execute_reply": "2021-09-08T00:21:26.466253Z"
    },
    "papermill": {
     "duration": 0.046704,
     "end_time": "2021-09-08T00:21:26.466979",
     "exception": false,
     "start_time": "2021-09-08T00:21:26.420275",
     "status": "completed"
    },
    "tags": []
   },
   "outputs": [],
   "source": [
    "#hide\n",
    "# g['date'] = g.date.dt.dayofyear"
   ]
  },
  {
   "cell_type": "code",
   "execution_count": 35,
   "id": "inside-dubai",
   "metadata": {
    "execution": {
     "iopub.execute_input": "2021-09-08T00:21:26.553301Z",
     "iopub.status.busy": "2021-09-08T00:21:26.552604Z",
     "iopub.status.idle": "2021-09-08T00:21:26.555026Z",
     "shell.execute_reply": "2021-09-08T00:21:26.554426Z"
    },
    "papermill": {
     "duration": 0.047577,
     "end_time": "2021-09-08T00:21:26.555289",
     "exception": false,
     "start_time": "2021-09-08T00:21:26.507712",
     "status": "completed"
    },
    "tags": []
   },
   "outputs": [],
   "source": [
    "#hide\n",
    "# g = g.rename(columns= {'continent':'group','country':'name','cases':'value'})"
   ]
  },
  {
   "cell_type": "code",
   "execution_count": 36,
   "id": "fleet-motorcycle",
   "metadata": {
    "execution": {
     "iopub.execute_input": "2021-09-08T00:21:26.637864Z",
     "iopub.status.busy": "2021-09-08T00:21:26.637196Z",
     "iopub.status.idle": "2021-09-08T00:21:26.639484Z",
     "shell.execute_reply": "2021-09-08T00:21:26.638978Z"
    },
    "papermill": {
     "duration": 0.045441,
     "end_time": "2021-09-08T00:21:26.639629",
     "exception": false,
     "start_time": "2021-09-08T00:21:26.594188",
     "status": "completed"
    },
    "tags": []
   },
   "outputs": [],
   "source": [
    "#hide\n",
    "# cols = ['name','group','day','value']"
   ]
  },
  {
   "cell_type": "code",
   "execution_count": 37,
   "id": "continued-sleeping",
   "metadata": {
    "execution": {
     "iopub.execute_input": "2021-09-08T00:21:26.741911Z",
     "iopub.status.busy": "2021-09-08T00:21:26.741257Z",
     "iopub.status.idle": "2021-09-08T00:21:26.743091Z",
     "shell.execute_reply": "2021-09-08T00:21:26.743602Z"
    },
    "papermill": {
     "duration": 0.049087,
     "end_time": "2021-09-08T00:21:26.743750",
     "exception": false,
     "start_time": "2021-09-08T00:21:26.694663",
     "status": "completed"
    },
    "tags": []
   },
   "outputs": [],
   "source": [
    "#hide\n",
    "# g.rename(columns= {'date':'day'},inplace = True)"
   ]
  },
  {
   "cell_type": "code",
   "execution_count": 38,
   "id": "major-fight",
   "metadata": {
    "execution": {
     "iopub.execute_input": "2021-09-08T00:21:26.829343Z",
     "iopub.status.busy": "2021-09-08T00:21:26.828502Z",
     "iopub.status.idle": "2021-09-08T00:21:26.831083Z",
     "shell.execute_reply": "2021-09-08T00:21:26.830516Z"
    },
    "papermill": {
     "duration": 0.047078,
     "end_time": "2021-09-08T00:21:26.831212",
     "exception": false,
     "start_time": "2021-09-08T00:21:26.784134",
     "status": "completed"
    },
    "tags": []
   },
   "outputs": [],
   "source": [
    "#hide\n",
    "# g = g[cols]"
   ]
  },
  {
   "cell_type": "code",
   "execution_count": 39,
   "id": "structured-mobile",
   "metadata": {
    "execution": {
     "iopub.execute_input": "2021-09-08T00:21:26.913486Z",
     "iopub.status.busy": "2021-09-08T00:21:26.912701Z",
     "iopub.status.idle": "2021-09-08T00:21:26.915474Z",
     "shell.execute_reply": "2021-09-08T00:21:26.914766Z"
    },
    "papermill": {
     "duration": 0.045456,
     "end_time": "2021-09-08T00:21:26.915587",
     "exception": false,
     "start_time": "2021-09-08T00:21:26.870131",
     "status": "completed"
    },
    "tags": []
   },
   "outputs": [],
   "source": [
    "# #hide\n",
    "# g = g[g.group.notna()]"
   ]
  },
  {
   "cell_type": "code",
   "execution_count": 40,
   "id": "determined-closing",
   "metadata": {
    "execution": {
     "iopub.execute_input": "2021-09-08T00:21:26.995352Z",
     "iopub.status.busy": "2021-09-08T00:21:26.994686Z",
     "iopub.status.idle": "2021-09-08T00:21:26.997172Z",
     "shell.execute_reply": "2021-09-08T00:21:26.996628Z"
    },
    "papermill": {
     "duration": 0.043667,
     "end_time": "2021-09-08T00:21:26.997282",
     "exception": false,
     "start_time": "2021-09-08T00:21:26.953615",
     "status": "completed"
    },
    "tags": []
   },
   "outputs": [],
   "source": [
    "# #hide\n",
    "# colors = dict(zip(\n",
    "#     [\"Oceania\", \"Europe\", \"Asia\", \"South America\", \"Middle East\", \"North America\", \"Africa\"],\n",
    "#     [\"#adb0ff\", \"#ffb3ff\", \"#90d595\", \"#e48381\", \"#aafbff\", \"#f7bb5f\", \"#eafb50\"]\n",
    "# ))\n",
    "# group_lk = g.set_index('name')['group'].to_dict()"
   ]
  },
  {
   "cell_type": "code",
   "execution_count": null,
   "id": "gross-drinking",
   "metadata": {
    "papermill": {
     "duration": 0.041043,
     "end_time": "2021-09-08T00:21:27.077715",
     "exception": false,
     "start_time": "2021-09-08T00:21:27.036672",
     "status": "completed"
    },
    "tags": []
   },
   "outputs": [],
   "source": []
  },
  {
   "cell_type": "code",
   "execution_count": 41,
   "id": "subject-macintosh",
   "metadata": {
    "execution": {
     "iopub.execute_input": "2021-09-08T00:21:27.160245Z",
     "iopub.status.busy": "2021-09-08T00:21:27.159584Z",
     "iopub.status.idle": "2021-09-08T00:21:27.161362Z",
     "shell.execute_reply": "2021-09-08T00:21:27.161849Z"
    },
    "papermill": {
     "duration": 0.045541,
     "end_time": "2021-09-08T00:21:27.161979",
     "exception": false,
     "start_time": "2021-09-08T00:21:27.116438",
     "status": "completed"
    },
    "tags": []
   },
   "outputs": [],
   "source": [
    "# #hide\n",
    "# fig, ax = plt.subplots(figsize=(15, 8))\n",
    "\n",
    "# def draw_barchart(current_day):\n",
    "#     dff = g[g['day'].eq(current_day)].sort_values(by='value', ascending=True).tail(10)\n",
    "#     ax.clear()\n",
    "#     ax.barh(dff['name'], dff['value'], color=[colors[group_lk[x]] for x in dff['name']])\n",
    "#     dx = dff['value'].max() / 200\n",
    "    \n",
    "#     for i, (value, name) in enumerate(zip(dff['value'], dff['name'])):\n",
    "#         ax.text(value-dx, i,     name,           size=14, weight=600, ha='right', va='bottom')\n",
    "#         ax.text(value-dx, i-.25, group_lk[name], size=10, color='#444444', ha='right', va='baseline')\n",
    "#         ax.text(value+dx, i,     f'{value:,.0f}',  size=14, ha='left',  va='center')\n",
    "#     ax.text(1, 0.4, current_day, transform=ax.transAxes, color='#777777', size=46, ha='right', weight=800)\n",
    "#     ax.text(0, 1.06, 'Population (thousands)', transform=ax.transAxes, size=12, color='#777777')\n",
    "#     ax.xaxis.set_major_formatter(ticker.StrMethodFormatter('{x:,.0f}'))\n",
    "#     ax.xaxis.set_ticks_position('top')\n",
    "#     ax.tick_params(axis='x', colors='#777777', labelsize=12)\n",
    "#     ax.set_yticks([])\n",
    "#     ax.margins(0, 0.01)\n",
    "#     ax.grid(which='major', axis='x', linestyle='-')\n",
    "#     ax.set_axisbelow(True)\n",
    "    \n",
    "#     ax.text(0, 1.15, 'Coronavirus',\n",
    "#             transform=ax.transAxes, size=24, weight=600, ha='left', va='top')\n",
    "# #     ax.text(1, 0, 'by @pratapvardhan; credit @jburnmurdoch', transform=ax.transAxes, color='#777777', ha='right',\n",
    "# #             bbox=dict(facecolor='white', alpha=0.8, edgecolor='white'))\n",
    "#     plt.box(False)"
   ]
  },
  {
   "cell_type": "code",
   "execution_count": 42,
   "id": "sexual-wages",
   "metadata": {
    "execution": {
     "iopub.execute_input": "2021-09-08T00:21:27.258599Z",
     "iopub.status.busy": "2021-09-08T00:21:27.257871Z",
     "iopub.status.idle": "2021-09-08T00:21:27.259617Z",
     "shell.execute_reply": "2021-09-08T00:21:27.260389Z"
    },
    "papermill": {
     "duration": 0.061184,
     "end_time": "2021-09-08T00:21:27.260536",
     "exception": false,
     "start_time": "2021-09-08T00:21:27.199352",
     "status": "completed"
    },
    "tags": []
   },
   "outputs": [],
   "source": [
    "# #hide_input\n",
    "# fig, ax = plt.subplots(figsize=(15, 8))\n",
    "# animator = animation.FuncAnimation(fig, draw_barchart, frames=range(g.day.values.min(), g.day.values.max()))\n",
    "# HTML(animator.to_jshtml())\n",
    "# # or use animator.to_html5_video() or animator.save() "
   ]
  },
  {
   "cell_type": "code",
   "execution_count": null,
   "id": "australian-container",
   "metadata": {
    "papermill": {
     "duration": 0.044308,
     "end_time": "2021-09-08T00:21:27.345093",
     "exception": false,
     "start_time": "2021-09-08T00:21:27.300785",
     "status": "completed"
    },
    "tags": []
   },
   "outputs": [],
   "source": []
  },
  {
   "cell_type": "code",
   "execution_count": null,
   "id": "mediterranean-pontiac",
   "metadata": {
    "papermill": {
     "duration": 0.034729,
     "end_time": "2021-09-08T00:21:27.418161",
     "exception": false,
     "start_time": "2021-09-08T00:21:27.383432",
     "status": "completed"
    },
    "tags": []
   },
   "outputs": [],
   "source": []
  },
  {
   "cell_type": "code",
   "execution_count": null,
   "id": "aging-legislature",
   "metadata": {
    "papermill": {
     "duration": 0.044023,
     "end_time": "2021-09-08T00:21:27.502465",
     "exception": false,
     "start_time": "2021-09-08T00:21:27.458442",
     "status": "completed"
    },
    "tags": []
   },
   "outputs": [],
   "source": []
  }
 ],
 "metadata": {
  "kernelspec": {
   "display_name": "Python 3",
   "language": "python",
   "name": "python3"
  },
  "language_info": {
   "codemirror_mode": {
    "name": "ipython",
    "version": 3
   },
   "file_extension": ".py",
   "mimetype": "text/x-python",
   "name": "python",
   "nbconvert_exporter": "python",
   "pygments_lexer": "ipython3",
   "version": "3.6.14"
  },
  "papermill": {
   "duration": 7.4035,
   "end_time": "2021-09-08T00:21:27.850262",
   "environment_variables": {},
   "exception": null,
   "input_path": "2020-03-21-covid19exp.ipynb",
   "output_path": "2020-03-21-covid19exp.ipynb",
   "parameters": {},
   "start_time": "2021-09-08T00:21:20.446762",
   "version": "2.0.0"
  }
 },
 "nbformat": 4,
 "nbformat_minor": 5
}