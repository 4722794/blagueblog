{
 "cells": [
  {
   "cell_type": "markdown",
   "id": "muslim-click",
   "metadata": {
    "papermill": {
     "duration": 0.048148,
     "end_time": "2022-10-07T01:08:10.940763",
     "exception": false,
     "start_time": "2022-10-07T01:08:10.892615",
     "status": "completed"
    },
    "tags": []
   },
   "source": [
    "# COVID-19 Case Race\n",
    "> A race chart to see rising cases around the world\n",
    "\n",
    "- author: Hargun Oberoi\n",
    "- image: images/covid-overview.png\n",
    "- hide: false\n",
    "- badges: false"
   ]
  },
  {
   "cell_type": "code",
   "execution_count": 1,
   "id": "proof-material",
   "metadata": {
    "execution": {
     "iopub.execute_input": "2022-10-07T01:08:11.036808Z",
     "iopub.status.busy": "2022-10-07T01:08:11.035989Z",
     "iopub.status.idle": "2022-10-07T01:08:11.444992Z",
     "shell.execute_reply": "2022-10-07T01:08:11.444271Z"
    },
    "papermill": {
     "duration": 0.458358,
     "end_time": "2022-10-07T01:08:11.445191",
     "exception": false,
     "start_time": "2022-10-07T01:08:10.986833",
     "status": "completed"
    },
    "tags": []
   },
   "outputs": [],
   "source": [
    "#hide\n",
    "import numpy as np\n",
    "import pandas as pd\n",
    "from jinja2 import Template\n",
    "from IPython.display import HTML"
   ]
  },
  {
   "cell_type": "code",
   "execution_count": 2,
   "id": "developed-terminology",
   "metadata": {
    "execution": {
     "iopub.execute_input": "2022-10-07T01:08:11.532361Z",
     "iopub.status.busy": "2022-10-07T01:08:11.531700Z",
     "iopub.status.idle": "2022-10-07T01:08:11.534885Z",
     "shell.execute_reply": "2022-10-07T01:08:11.534231Z"
    },
    "papermill": {
     "duration": 0.050052,
     "end_time": "2022-10-07T01:08:11.535042",
     "exception": false,
     "start_time": "2022-10-07T01:08:11.484990",
     "status": "completed"
    },
    "tags": []
   },
   "outputs": [],
   "source": [
    "#hide\n",
    "\n",
    "# FETCH\n",
    "base_url = 'https://raw.githubusercontent.com/pratapvardhan/notebooks/master/covid19/'\n",
    "paths = {\n",
    "    'mapping': base_url + 'mapping_countries.csv',\n",
    "    'overview': base_url + 'overview.tpl'\n",
    "}"
   ]
  },
  {
   "cell_type": "code",
   "execution_count": 3,
   "id": "dynamic-saver",
   "metadata": {
    "execution": {
     "iopub.execute_input": "2022-10-07T01:08:11.633552Z",
     "iopub.status.busy": "2022-10-07T01:08:11.632753Z",
     "iopub.status.idle": "2022-10-07T01:08:11.637007Z",
     "shell.execute_reply": "2022-10-07T01:08:11.636305Z"
    },
    "papermill": {
     "duration": 0.054299,
     "end_time": "2022-10-07T01:08:11.637148",
     "exception": false,
     "start_time": "2022-10-07T01:08:11.582849",
     "status": "completed"
    },
    "tags": []
   },
   "outputs": [
    {
     "data": {
      "text/plain": [
       "'https://raw.githubusercontent.com/pratapvardhan/notebooks/master/covid19/mapping_countries.csv'"
      ]
     },
     "execution_count": 3,
     "metadata": {},
     "output_type": "execute_result"
    }
   ],
   "source": [
    "#hide\n",
    "paths['mapping']"
   ]
  },
  {
   "cell_type": "code",
   "execution_count": 4,
   "id": "urban-software",
   "metadata": {
    "execution": {
     "iopub.execute_input": "2022-10-07T01:08:11.723034Z",
     "iopub.status.busy": "2022-10-07T01:08:11.722222Z",
     "iopub.status.idle": "2022-10-07T01:08:11.726065Z",
     "shell.execute_reply": "2022-10-07T01:08:11.725407Z"
    },
    "papermill": {
     "duration": 0.049495,
     "end_time": "2022-10-07T01:08:11.726239",
     "exception": false,
     "start_time": "2022-10-07T01:08:11.676744",
     "status": "completed"
    },
    "tags": []
   },
   "outputs": [],
   "source": [
    "#hide\n",
    "def get_mappings(url):\n",
    "    df = pd.read_csv(url)\n",
    "    return {\n",
    "        'df': df,\n",
    "        'replace.country': dict(df.dropna(subset=['Name']).set_index('Country')['Name']),\n",
    "        'map.continent': dict(df.set_index('Name')['Continent'])\n",
    "    }"
   ]
  },
  {
   "cell_type": "code",
   "execution_count": 5,
   "id": "intimate-machinery",
   "metadata": {
    "execution": {
     "iopub.execute_input": "2022-10-07T01:08:11.810524Z",
     "iopub.status.busy": "2022-10-07T01:08:11.809774Z",
     "iopub.status.idle": "2022-10-07T01:08:11.850072Z",
     "shell.execute_reply": "2022-10-07T01:08:11.849412Z"
    },
    "papermill": {
     "duration": 0.085454,
     "end_time": "2022-10-07T01:08:11.850234",
     "exception": false,
     "start_time": "2022-10-07T01:08:11.764780",
     "status": "completed"
    },
    "tags": []
   },
   "outputs": [],
   "source": [
    "#hide\n",
    "mapping = get_mappings(paths['mapping'])"
   ]
  },
  {
   "cell_type": "code",
   "execution_count": 6,
   "id": "certified-tactics",
   "metadata": {
    "execution": {
     "iopub.execute_input": "2022-10-07T01:08:11.934847Z",
     "iopub.status.busy": "2022-10-07T01:08:11.934072Z",
     "iopub.status.idle": "2022-10-07T01:08:11.936897Z",
     "shell.execute_reply": "2022-10-07T01:08:11.937479Z"
    },
    "papermill": {
     "duration": 0.048454,
     "end_time": "2022-10-07T01:08:11.937639",
     "exception": false,
     "start_time": "2022-10-07T01:08:11.889185",
     "status": "completed"
    },
    "tags": []
   },
   "outputs": [],
   "source": [
    "#hide\n",
    "def get_template(path):\n",
    "    from urllib.parse import urlparse\n",
    "    if bool(urlparse(path).netloc):\n",
    "        from urllib.request import urlopen\n",
    "        return urlopen(path).read().decode('utf8')\n",
    "    return open(path).read()"
   ]
  },
  {
   "cell_type": "code",
   "execution_count": 7,
   "id": "realistic-blast",
   "metadata": {
    "execution": {
     "iopub.execute_input": "2022-10-07T01:08:12.018913Z",
     "iopub.status.busy": "2022-10-07T01:08:12.018130Z",
     "iopub.status.idle": "2022-10-07T01:08:12.023733Z",
     "shell.execute_reply": "2022-10-07T01:08:12.023124Z"
    },
    "papermill": {
     "duration": 0.047919,
     "end_time": "2022-10-07T01:08:12.023883",
     "exception": false,
     "start_time": "2022-10-07T01:08:11.975964",
     "status": "completed"
    },
    "tags": []
   },
   "outputs": [],
   "source": [
    "#hide\n",
    "def get_frame(name):\n",
    "    url = (\n",
    "        'https://raw.githubusercontent.com/CSSEGISandData/COVID-19/master/csse_covid_19_data/'\n",
    "        f'csse_covid_19_time_series/time_series_covid19_{name}_global.csv')\n",
    "    df = pd.read_csv(url)\n",
    "    # rename countries\n",
    "    df['Country/Region'] = df['Country/Region'].replace(mapping['replace.country'])\n",
    "    return df"
   ]
  },
  {
   "cell_type": "code",
   "execution_count": 8,
   "id": "affiliated-characterization",
   "metadata": {
    "execution": {
     "iopub.execute_input": "2022-10-07T01:08:12.113212Z",
     "iopub.status.busy": "2022-10-07T01:08:12.112380Z",
     "iopub.status.idle": "2022-10-07T01:08:12.116375Z",
     "shell.execute_reply": "2022-10-07T01:08:12.115712Z"
    },
    "papermill": {
     "duration": 0.051263,
     "end_time": "2022-10-07T01:08:12.116521",
     "exception": false,
     "start_time": "2022-10-07T01:08:12.065258",
     "status": "completed"
    },
    "tags": []
   },
   "outputs": [],
   "source": [
    "#hide\n",
    "def get_dates(df):\n",
    "    dt_cols = df.columns[~df.columns.isin(['Province/State', 'Country/Region', 'Lat', 'Long'])]\n",
    "    LAST_DATE_I = -1\n",
    "    # sometimes last column may be empty, then go backwards\n",
    "    for i in range(-1, -len(dt_cols), -1):\n",
    "        if not df[dt_cols[i]].fillna(0).eq(0).all():\n",
    "            LAST_DATE_I = i\n",
    "            break\n",
    "    return LAST_DATE_I, dt_cols"
   ]
  },
  {
   "cell_type": "code",
   "execution_count": 9,
   "id": "recent-optimization",
   "metadata": {
    "execution": {
     "iopub.execute_input": "2022-10-07T01:08:12.202544Z",
     "iopub.status.busy": "2022-10-07T01:08:12.201608Z",
     "iopub.status.idle": "2022-10-07T01:08:12.766102Z",
     "shell.execute_reply": "2022-10-07T01:08:12.765251Z"
    },
    "papermill": {
     "duration": 0.610824,
     "end_time": "2022-10-07T01:08:12.766269",
     "exception": false,
     "start_time": "2022-10-07T01:08:12.155445",
     "status": "completed"
    },
    "tags": []
   },
   "outputs": [],
   "source": [
    "#hide\n",
    "COL_REGION = 'Country/Region'\n",
    "# Confirmed, Recovered, Deaths\n",
    "df = get_frame('confirmed')\n",
    "# dft_: timeseries, dfc_: today country agg\n",
    "dft_cases = df\n",
    "dft_deaths = get_frame('deaths')\n",
    "dft_recovered = get_frame('recovered')\n",
    "LAST_DATE_I, dt_cols = get_dates(df)"
   ]
  },
  {
   "cell_type": "code",
   "execution_count": 10,
   "id": "absolute-copper",
   "metadata": {
    "execution": {
     "iopub.execute_input": "2022-10-07T01:08:12.855172Z",
     "iopub.status.busy": "2022-10-07T01:08:12.854289Z",
     "iopub.status.idle": "2022-10-07T01:08:12.858755Z",
     "shell.execute_reply": "2022-10-07T01:08:12.859392Z"
    },
    "papermill": {
     "duration": 0.054095,
     "end_time": "2022-10-07T01:08:12.859531",
     "exception": false,
     "start_time": "2022-10-07T01:08:12.805436",
     "status": "completed"
    },
    "tags": []
   },
   "outputs": [],
   "source": [
    "#hide\n",
    "LAST_DATE_I, dt_cols = get_dates(df)\n",
    "dt_today =dt_cols[LAST_DATE_I]\n",
    "# dt_5day = dt_cols[LAST_DATE_I - 5]\n",
    "dt_yday = dt_cols[LAST_DATE_I - 1]"
   ]
  },
  {
   "cell_type": "code",
   "execution_count": 11,
   "id": "restricted-sheriff",
   "metadata": {
    "execution": {
     "iopub.execute_input": "2022-10-07T01:08:12.947790Z",
     "iopub.status.busy": "2022-10-07T01:08:12.946180Z",
     "iopub.status.idle": "2022-10-07T01:08:12.951614Z",
     "shell.execute_reply": "2022-10-07T01:08:12.950983Z"
    },
    "papermill": {
     "duration": 0.054899,
     "end_time": "2022-10-07T01:08:12.951732",
     "exception": false,
     "start_time": "2022-10-07T01:08:12.896833",
     "status": "completed"
    },
    "tags": []
   },
   "outputs": [],
   "source": [
    "#hide\n",
    "dfc_cases = dft_cases.groupby(COL_REGION)[dt_today].sum()\n",
    "dfc_deaths = dft_deaths.groupby(COL_REGION)[dt_today].sum()\n",
    "# dfp_cases = dft_cases.groupby(COL_REGION)[dt_5day].sum()\n",
    "# dfp_deaths = dft_deaths.groupby(COL_REGION)[dt_5day].sum()\n",
    "dfp_cases = dft_cases.groupby(COL_REGION)[dt_yday].sum()\n",
    "dfp_deaths = dft_deaths.groupby(COL_REGION)[dt_yday].sum()"
   ]
  },
  {
   "cell_type": "code",
   "execution_count": 12,
   "id": "deluxe-hepatitis",
   "metadata": {
    "execution": {
     "iopub.execute_input": "2022-10-07T01:08:13.035381Z",
     "iopub.status.busy": "2022-10-07T01:08:13.032387Z",
     "iopub.status.idle": "2022-10-07T01:08:13.038987Z",
     "shell.execute_reply": "2022-10-07T01:08:13.038368Z"
    },
    "papermill": {
     "duration": 0.049819,
     "end_time": "2022-10-07T01:08:13.039103",
     "exception": false,
     "start_time": "2022-10-07T01:08:12.989284",
     "status": "completed"
    },
    "tags": []
   },
   "outputs": [],
   "source": [
    "#hide\n",
    "df_table = (pd.DataFrame(dict(Cases = dfc_cases, Deaths = dfc_deaths, PCases = dfp_cases, PDeaths = dfp_deaths))\n",
    "            .sort_values(by = ['Cases','Deaths'], ascending = [False, False])\n",
    "            .reset_index())"
   ]
  },
  {
   "cell_type": "code",
   "execution_count": 13,
   "id": "educational-chancellor",
   "metadata": {
    "execution": {
     "iopub.execute_input": "2022-10-07T01:08:13.136736Z",
     "iopub.status.busy": "2022-10-07T01:08:13.135954Z",
     "iopub.status.idle": "2022-10-07T01:08:13.146574Z",
     "shell.execute_reply": "2022-10-07T01:08:13.145933Z"
    },
    "papermill": {
     "duration": 0.06887,
     "end_time": "2022-10-07T01:08:13.146691",
     "exception": false,
     "start_time": "2022-10-07T01:08:13.077821",
     "status": "completed"
    },
    "tags": []
   },
   "outputs": [
    {
     "data": {
      "text/html": [
       "<div>\n",
       "<style scoped>\n",
       "    .dataframe tbody tr th:only-of-type {\n",
       "        vertical-align: middle;\n",
       "    }\n",
       "\n",
       "    .dataframe tbody tr th {\n",
       "        vertical-align: top;\n",
       "    }\n",
       "\n",
       "    .dataframe thead th {\n",
       "        text-align: right;\n",
       "    }\n",
       "</style>\n",
       "<table border=\"1\" class=\"dataframe\">\n",
       "  <thead>\n",
       "    <tr style=\"text-align: right;\">\n",
       "      <th></th>\n",
       "      <th>Country/Region</th>\n",
       "      <th>Cases</th>\n",
       "      <th>Deaths</th>\n",
       "      <th>PCases</th>\n",
       "      <th>PDeaths</th>\n",
       "      <th>Cases (+)</th>\n",
       "      <th>Deaths (+)</th>\n",
       "      <th>Fatality Rate</th>\n",
       "      <th>Continent</th>\n",
       "    </tr>\n",
       "  </thead>\n",
       "  <tbody>\n",
       "    <tr>\n",
       "      <th>0</th>\n",
       "      <td>US</td>\n",
       "      <td>96565276</td>\n",
       "      <td>1061584</td>\n",
       "      <td>96494285</td>\n",
       "      <td>1060499</td>\n",
       "      <td>70991</td>\n",
       "      <td>1085</td>\n",
       "      <td>1.10</td>\n",
       "      <td>North America</td>\n",
       "    </tr>\n",
       "    <tr>\n",
       "      <th>1</th>\n",
       "      <td>India</td>\n",
       "      <td>44604463</td>\n",
       "      <td>528745</td>\n",
       "      <td>44601892</td>\n",
       "      <td>528733</td>\n",
       "      <td>2571</td>\n",
       "      <td>12</td>\n",
       "      <td>1.19</td>\n",
       "      <td>Asia</td>\n",
       "    </tr>\n",
       "    <tr>\n",
       "      <th>2</th>\n",
       "      <td>France</td>\n",
       "      <td>35856904</td>\n",
       "      <td>156359</td>\n",
       "      <td>35790213</td>\n",
       "      <td>156312</td>\n",
       "      <td>66691</td>\n",
       "      <td>47</td>\n",
       "      <td>0.44</td>\n",
       "      <td>Europe</td>\n",
       "    </tr>\n",
       "    <tr>\n",
       "      <th>3</th>\n",
       "      <td>Brazil</td>\n",
       "      <td>34699017</td>\n",
       "      <td>686573</td>\n",
       "      <td>34684529</td>\n",
       "      <td>686371</td>\n",
       "      <td>14488</td>\n",
       "      <td>202</td>\n",
       "      <td>1.98</td>\n",
       "      <td>South America</td>\n",
       "    </tr>\n",
       "    <tr>\n",
       "      <th>4</th>\n",
       "      <td>Germany</td>\n",
       "      <td>33652255</td>\n",
       "      <td>150289</td>\n",
       "      <td>33519761</td>\n",
       "      <td>150192</td>\n",
       "      <td>132494</td>\n",
       "      <td>97</td>\n",
       "      <td>0.45</td>\n",
       "      <td>Europe</td>\n",
       "    </tr>\n",
       "  </tbody>\n",
       "</table>\n",
       "</div>"
      ],
      "text/plain": [
       "  Country/Region     Cases   Deaths    PCases  PDeaths  Cases (+)  Deaths (+)  \\\n",
       "0             US  96565276  1061584  96494285  1060499      70991        1085   \n",
       "1          India  44604463   528745  44601892   528733       2571          12   \n",
       "2         France  35856904   156359  35790213   156312      66691          47   \n",
       "3         Brazil  34699017   686573  34684529   686371      14488         202   \n",
       "4        Germany  33652255   150289  33519761   150192     132494          97   \n",
       "\n",
       "   Fatality Rate      Continent  \n",
       "0           1.10  North America  \n",
       "1           1.19           Asia  \n",
       "2           0.44         Europe  \n",
       "3           1.98  South America  \n",
       "4           0.45         Europe  "
      ]
     },
     "execution_count": 13,
     "metadata": {},
     "output_type": "execute_result"
    }
   ],
   "source": [
    "#hide\n",
    "for c in 'Cases, Deaths'.split(', '):\n",
    "    df_table[f'{c} (+)'] = (df_table[c] - df_table[f'P{c}']).clip(0)\n",
    "    #Clip ça veut dire, les chiffres negatif sont interdit\n",
    "df_table['Fatality Rate'] = (100* df_table['Deaths']/ df_table['Cases']).round(2)\n",
    "df_table['Continent'] = df_table['Country/Region'].map(mapping['map.continent'])\n",
    "df_table.head(5)"
   ]
  },
  {
   "cell_type": "code",
   "execution_count": 14,
   "id": "aboriginal-bulgaria",
   "metadata": {
    "execution": {
     "iopub.execute_input": "2022-10-07T01:08:13.230213Z",
     "iopub.status.busy": "2022-10-07T01:08:13.229491Z",
     "iopub.status.idle": "2022-10-07T01:08:13.232838Z",
     "shell.execute_reply": "2022-10-07T01:08:13.232258Z"
    },
    "papermill": {
     "duration": 0.047939,
     "end_time": "2022-10-07T01:08:13.233028",
     "exception": false,
     "start_time": "2022-10-07T01:08:13.185089",
     "status": "completed"
    },
    "tags": []
   },
   "outputs": [],
   "source": [
    "#hide\n",
    "#delete problematic countries from table\n",
    "df_table = df_table[~df_table['Country/Region'].isin(['Cape Verde', 'Cruise Ship', 'Kosovo'])]"
   ]
  },
  {
   "cell_type": "code",
   "execution_count": 15,
   "id": "fantastic-effect",
   "metadata": {
    "execution": {
     "iopub.execute_input": "2022-10-07T01:08:13.316290Z",
     "iopub.status.busy": "2022-10-07T01:08:13.315550Z",
     "iopub.status.idle": "2022-10-07T01:08:13.338986Z",
     "shell.execute_reply": "2022-10-07T01:08:13.339578Z"
    },
    "papermill": {
     "duration": 0.069317,
     "end_time": "2022-10-07T01:08:13.339722",
     "exception": false,
     "start_time": "2022-10-07T01:08:13.270405",
     "status": "completed"
    },
    "tags": []
   },
   "outputs": [
    {
     "data": {
      "text/html": [
       "<div>\n",
       "<style scoped>\n",
       "    .dataframe tbody tr th:only-of-type {\n",
       "        vertical-align: middle;\n",
       "    }\n",
       "\n",
       "    .dataframe tbody tr th {\n",
       "        vertical-align: top;\n",
       "    }\n",
       "\n",
       "    .dataframe thead th {\n",
       "        text-align: right;\n",
       "    }\n",
       "</style>\n",
       "<table border=\"1\" class=\"dataframe\">\n",
       "  <thead>\n",
       "    <tr style=\"text-align: right;\">\n",
       "      <th></th>\n",
       "      <th>Country/Region</th>\n",
       "      <th>Cases</th>\n",
       "      <th>Deaths</th>\n",
       "      <th>PCases</th>\n",
       "      <th>PDeaths</th>\n",
       "      <th>Cases (+)</th>\n",
       "      <th>Deaths (+)</th>\n",
       "      <th>Fatality Rate</th>\n",
       "      <th>Continent</th>\n",
       "    </tr>\n",
       "  </thead>\n",
       "  <tbody>\n",
       "    <tr>\n",
       "      <th>0</th>\n",
       "      <td>US</td>\n",
       "      <td>96565276</td>\n",
       "      <td>1061584</td>\n",
       "      <td>96494285</td>\n",
       "      <td>1060499</td>\n",
       "      <td>70991</td>\n",
       "      <td>1085</td>\n",
       "      <td>1.1</td>\n",
       "      <td>North America</td>\n",
       "    </tr>\n",
       "    <tr>\n",
       "      <th>1</th>\n",
       "      <td>India</td>\n",
       "      <td>44604463</td>\n",
       "      <td>528745</td>\n",
       "      <td>44601892</td>\n",
       "      <td>528733</td>\n",
       "      <td>2571</td>\n",
       "      <td>12</td>\n",
       "      <td>1.2</td>\n",
       "      <td>Asia</td>\n",
       "    </tr>\n",
       "    <tr>\n",
       "      <th>2</th>\n",
       "      <td>France</td>\n",
       "      <td>35856904</td>\n",
       "      <td>156359</td>\n",
       "      <td>35790213</td>\n",
       "      <td>156312</td>\n",
       "      <td>66691</td>\n",
       "      <td>47</td>\n",
       "      <td>0.4</td>\n",
       "      <td>Europe</td>\n",
       "    </tr>\n",
       "    <tr>\n",
       "      <th>3</th>\n",
       "      <td>Brazil</td>\n",
       "      <td>34699017</td>\n",
       "      <td>686573</td>\n",
       "      <td>34684529</td>\n",
       "      <td>686371</td>\n",
       "      <td>14488</td>\n",
       "      <td>202</td>\n",
       "      <td>2.0</td>\n",
       "      <td>South America</td>\n",
       "    </tr>\n",
       "    <tr>\n",
       "      <th>4</th>\n",
       "      <td>Germany</td>\n",
       "      <td>33652255</td>\n",
       "      <td>150289</td>\n",
       "      <td>33519761</td>\n",
       "      <td>150192</td>\n",
       "      <td>132494</td>\n",
       "      <td>97</td>\n",
       "      <td>0.4</td>\n",
       "      <td>Europe</td>\n",
       "    </tr>\n",
       "  </tbody>\n",
       "</table>\n",
       "</div>"
      ],
      "text/plain": [
       "  Country/Region     Cases   Deaths    PCases  PDeaths  Cases (+)  Deaths (+)  \\\n",
       "0             US  96565276  1061584  96494285  1060499      70991        1085   \n",
       "1          India  44604463   528745  44601892   528733       2571          12   \n",
       "2         France  35856904   156359  35790213   156312      66691          47   \n",
       "3         Brazil  34699017   686573  34684529   686371      14488         202   \n",
       "4        Germany  33652255   150289  33519761   150192     132494          97   \n",
       "\n",
       "   Fatality Rate      Continent  \n",
       "0            1.1  North America  \n",
       "1            1.2           Asia  \n",
       "2            0.4         Europe  \n",
       "3            2.0  South America  \n",
       "4            0.4         Europe  "
      ]
     },
     "execution_count": 15,
     "metadata": {},
     "output_type": "execute_result"
    }
   ],
   "source": [
    "#hide\n",
    "df_table = (pd.DataFrame(dict(Cases=dfc_cases, Deaths=dfc_deaths, PCases=dfp_cases, PDeaths=dfp_deaths))\n",
    "             .sort_values(by=['Cases', 'Deaths'], ascending=[False, False])\n",
    "             .reset_index())\n",
    "df_table.rename(columns={'index': 'Country/Region'}, inplace=True)\n",
    "for c in 'Cases, Deaths'.split(', '):\n",
    "    df_table[f'{c} (+)'] = (df_table[c] - df_table[f'P{c}']).clip(0)  # DATA BUG\n",
    "df_table['Fatality Rate'] = (100 * df_table['Deaths'] / df_table['Cases']).round(1)\n",
    "df_table['Continent'] = df_table['Country/Region'].map(mapping['map.continent'])\n",
    "df_table.head(5)"
   ]
  },
  {
   "cell_type": "code",
   "execution_count": 16,
   "id": "fewer-occasion",
   "metadata": {
    "execution": {
     "iopub.execute_input": "2022-10-07T01:08:13.427577Z",
     "iopub.status.busy": "2022-10-07T01:08:13.426868Z",
     "iopub.status.idle": "2022-10-07T01:08:13.430010Z",
     "shell.execute_reply": "2022-10-07T01:08:13.430598Z"
    },
    "papermill": {
     "duration": 0.050935,
     "end_time": "2022-10-07T01:08:13.430730",
     "exception": false,
     "start_time": "2022-10-07T01:08:13.379795",
     "status": "completed"
    },
    "tags": []
   },
   "outputs": [],
   "source": [
    "#hide\n",
    "#delete problematic countries from table\n",
    "df_table = df_table[~df_table['Country/Region'].isin(['Cape Verde', 'Cruise Ship', 'Kosovo'])]"
   ]
  },
  {
   "cell_type": "code",
   "execution_count": 17,
   "id": "related-center",
   "metadata": {
    "execution": {
     "iopub.execute_input": "2022-10-07T01:08:13.533846Z",
     "iopub.status.busy": "2022-10-07T01:08:13.532474Z",
     "iopub.status.idle": "2022-10-07T01:08:13.537384Z",
     "shell.execute_reply": "2022-10-07T01:08:13.536586Z"
    },
    "papermill": {
     "duration": 0.068182,
     "end_time": "2022-10-07T01:08:13.537549",
     "exception": false,
     "start_time": "2022-10-07T01:08:13.469367",
     "status": "completed"
    },
    "tags": []
   },
   "outputs": [],
   "source": [
    "#hide\n",
    "metrics = [df_table.columns[index] for index in [1,2,5,6]]\n",
    "# s_china = df_table[df_table['Country/Region'].eq('China')][metrics].sum().add_prefix('China ')\n",
    "s_us = df_table[df_table['Country/Region'].eq('US')][metrics].sum().add_prefix('US ')\n",
    "s_eu = df_table[df_table['Continent'].eq('Europe')][metrics].sum().add_prefix('EU ')\n",
    "s_ind = df_table[df_table['Country/Region'].eq('India')][metrics].sum().add_prefix('India ')\n",
    "summary = {'updated': pd.to_datetime(dt_today), 'since': pd.to_datetime(dt_yday)}\n",
    "summary = {'updated': pd.to_datetime(dt_today), 'since': pd.to_datetime(dt_yday)}\n",
    "summary = {**summary, **df_table[metrics].sum(), **s_ind, **s_us, **s_eu}"
   ]
  },
  {
   "cell_type": "code",
   "execution_count": 18,
   "id": "engaging-syndrome",
   "metadata": {
    "execution": {
     "iopub.execute_input": "2022-10-07T01:08:13.623214Z",
     "iopub.status.busy": "2022-10-07T01:08:13.622403Z",
     "iopub.status.idle": "2022-10-07T01:08:13.645506Z",
     "shell.execute_reply": "2022-10-07T01:08:13.646074Z"
    },
    "papermill": {
     "duration": 0.067416,
     "end_time": "2022-10-07T01:08:13.646268",
     "exception": false,
     "start_time": "2022-10-07T01:08:13.578852",
     "status": "completed"
    },
    "tags": []
   },
   "outputs": [],
   "source": [
    "#hide\n",
    "dft_ct_new_cases = dft_cases.groupby(COL_REGION)[dt_cols].sum().diff(axis=1).fillna(0).astype(int)"
   ]
  },
  {
   "cell_type": "code",
   "execution_count": 19,
   "id": "neutral-assignment",
   "metadata": {
    "execution": {
     "iopub.execute_input": "2022-10-07T01:08:13.734428Z",
     "iopub.status.busy": "2022-10-07T01:08:13.733673Z",
     "iopub.status.idle": "2022-10-07T01:08:13.736796Z",
     "shell.execute_reply": "2022-10-07T01:08:13.737554Z"
    },
    "papermill": {
     "duration": 0.051439,
     "end_time": "2022-10-07T01:08:13.737695",
     "exception": false,
     "start_time": "2022-10-07T01:08:13.686256",
     "status": "completed"
    },
    "tags": []
   },
   "outputs": [],
   "source": [
    "#hide\n",
    "everydaycases = dft_ct_new_cases.cumsum(axis=1)"
   ]
  },
  {
   "cell_type": "code",
   "execution_count": 20,
   "id": "parliamentary-calgary",
   "metadata": {
    "execution": {
     "iopub.execute_input": "2022-10-07T01:08:13.824323Z",
     "iopub.status.busy": "2022-10-07T01:08:13.823582Z",
     "iopub.status.idle": "2022-10-07T01:08:14.549281Z",
     "shell.execute_reply": "2022-10-07T01:08:14.549879Z"
    },
    "papermill": {
     "duration": 0.771451,
     "end_time": "2022-10-07T01:08:14.550050",
     "exception": false,
     "start_time": "2022-10-07T01:08:13.778599",
     "status": "completed"
    },
    "tags": []
   },
   "outputs": [],
   "source": [
    "#hide\n",
    "import pandas as pd\n",
    "import matplotlib.pyplot as plt\n",
    "import matplotlib.ticker as ticker\n",
    "import matplotlib.animation as animation\n",
    "from IPython.display import HTML"
   ]
  },
  {
   "cell_type": "code",
   "execution_count": 21,
   "id": "lasting-extraction",
   "metadata": {
    "execution": {
     "iopub.execute_input": "2022-10-07T01:08:14.638674Z",
     "iopub.status.busy": "2022-10-07T01:08:14.637930Z",
     "iopub.status.idle": "2022-10-07T01:08:14.647720Z",
     "shell.execute_reply": "2022-10-07T01:08:14.648346Z"
    },
    "papermill": {
     "duration": 0.057609,
     "end_time": "2022-10-07T01:08:14.648507",
     "exception": false,
     "start_time": "2022-10-07T01:08:14.590898",
     "status": "completed"
    },
    "tags": []
   },
   "outputs": [],
   "source": [
    "#hide\n",
    "t = everydaycases.stack()"
   ]
  },
  {
   "cell_type": "code",
   "execution_count": 22,
   "id": "premier-sleeve",
   "metadata": {
    "execution": {
     "iopub.execute_input": "2022-10-07T01:08:14.733429Z",
     "iopub.status.busy": "2022-10-07T01:08:14.732666Z",
     "iopub.status.idle": "2022-10-07T01:08:14.746473Z",
     "shell.execute_reply": "2022-10-07T01:08:14.747206Z"
    },
    "papermill": {
     "duration": 0.059006,
     "end_time": "2022-10-07T01:08:14.747397",
     "exception": false,
     "start_time": "2022-10-07T01:08:14.688391",
     "status": "completed"
    },
    "tags": []
   },
   "outputs": [],
   "source": [
    "#hide\n",
    "g = t.reset_index(['Country/Region'])"
   ]
  },
  {
   "cell_type": "code",
   "execution_count": 23,
   "id": "distributed-pittsburgh",
   "metadata": {
    "execution": {
     "iopub.execute_input": "2022-10-07T01:08:14.830891Z",
     "iopub.status.busy": "2022-10-07T01:08:14.830161Z",
     "iopub.status.idle": "2022-10-07T01:08:14.833468Z",
     "shell.execute_reply": "2022-10-07T01:08:14.832790Z"
    },
    "papermill": {
     "duration": 0.047669,
     "end_time": "2022-10-07T01:08:14.833588",
     "exception": false,
     "start_time": "2022-10-07T01:08:14.785919",
     "status": "completed"
    },
    "tags": []
   },
   "outputs": [],
   "source": [
    "#hide\n",
    "g.index.name = 'date'"
   ]
  },
  {
   "cell_type": "code",
   "execution_count": 24,
   "id": "naked-donor",
   "metadata": {
    "execution": {
     "iopub.execute_input": "2022-10-07T01:08:14.917876Z",
     "iopub.status.busy": "2022-10-07T01:08:14.917102Z",
     "iopub.status.idle": "2022-10-07T01:08:14.920322Z",
     "shell.execute_reply": "2022-10-07T01:08:14.919714Z"
    },
    "papermill": {
     "duration": 0.047994,
     "end_time": "2022-10-07T01:08:14.920441",
     "exception": false,
     "start_time": "2022-10-07T01:08:14.872447",
     "status": "completed"
    },
    "tags": []
   },
   "outputs": [],
   "source": [
    "# #hide\n",
    "# g = g.reset_index(['date'])"
   ]
  },
  {
   "cell_type": "code",
   "execution_count": 25,
   "id": "incomplete-mustang",
   "metadata": {
    "execution": {
     "iopub.execute_input": "2022-10-07T01:08:15.008038Z",
     "iopub.status.busy": "2022-10-07T01:08:15.007280Z",
     "iopub.status.idle": "2022-10-07T01:08:15.010537Z",
     "shell.execute_reply": "2022-10-07T01:08:15.009706Z"
    },
    "papermill": {
     "duration": 0.049554,
     "end_time": "2022-10-07T01:08:15.010674",
     "exception": false,
     "start_time": "2022-10-07T01:08:14.961120",
     "status": "completed"
    },
    "tags": []
   },
   "outputs": [],
   "source": [
    "#hide\n",
    "# g.head()"
   ]
  },
  {
   "cell_type": "code",
   "execution_count": 26,
   "id": "specific-kruger",
   "metadata": {
    "execution": {
     "iopub.execute_input": "2022-10-07T01:08:15.095368Z",
     "iopub.status.busy": "2022-10-07T01:08:15.094597Z",
     "iopub.status.idle": "2022-10-07T01:08:15.097996Z",
     "shell.execute_reply": "2022-10-07T01:08:15.097288Z"
    },
    "papermill": {
     "duration": 0.04973,
     "end_time": "2022-10-07T01:08:15.098199",
     "exception": false,
     "start_time": "2022-10-07T01:08:15.048469",
     "status": "completed"
    },
    "tags": []
   },
   "outputs": [],
   "source": [
    "#hide\n",
    "# g.columns = ['date','country','cases']"
   ]
  },
  {
   "cell_type": "code",
   "execution_count": 27,
   "id": "tender-conversion",
   "metadata": {
    "execution": {
     "iopub.execute_input": "2022-10-07T01:08:15.181888Z",
     "iopub.status.busy": "2022-10-07T01:08:15.181160Z",
     "iopub.status.idle": "2022-10-07T01:08:15.184415Z",
     "shell.execute_reply": "2022-10-07T01:08:15.183823Z"
    },
    "papermill": {
     "duration": 0.047761,
     "end_time": "2022-10-07T01:08:15.184574",
     "exception": false,
     "start_time": "2022-10-07T01:08:15.136813",
     "status": "completed"
    },
    "tags": []
   },
   "outputs": [],
   "source": [
    "#hide\n",
    "# g['continent'] = g.country"
   ]
  },
  {
   "cell_type": "code",
   "execution_count": 28,
   "id": "substantial-wilderness",
   "metadata": {
    "execution": {
     "iopub.execute_input": "2022-10-07T01:08:15.275993Z",
     "iopub.status.busy": "2022-10-07T01:08:15.275240Z",
     "iopub.status.idle": "2022-10-07T01:08:15.279159Z",
     "shell.execute_reply": "2022-10-07T01:08:15.278566Z"
    },
    "papermill": {
     "duration": 0.047372,
     "end_time": "2022-10-07T01:08:15.279283",
     "exception": false,
     "start_time": "2022-10-07T01:08:15.231911",
     "status": "completed"
    },
    "tags": []
   },
   "outputs": [],
   "source": [
    "#hide\n",
    "# cols = list(g.columns.values)"
   ]
  },
  {
   "cell_type": "code",
   "execution_count": 29,
   "id": "solved-farming",
   "metadata": {
    "execution": {
     "iopub.execute_input": "2022-10-07T01:08:15.361687Z",
     "iopub.status.busy": "2022-10-07T01:08:15.360787Z",
     "iopub.status.idle": "2022-10-07T01:08:15.364323Z",
     "shell.execute_reply": "2022-10-07T01:08:15.363747Z"
    },
    "papermill": {
     "duration": 0.045929,
     "end_time": "2022-10-07T01:08:15.364443",
     "exception": false,
     "start_time": "2022-10-07T01:08:15.318514",
     "status": "completed"
    },
    "tags": []
   },
   "outputs": [],
   "source": [
    "#hide\n",
    "# cols.insert(0, cols.pop())"
   ]
  },
  {
   "cell_type": "code",
   "execution_count": 30,
   "id": "executed-adoption",
   "metadata": {
    "execution": {
     "iopub.execute_input": "2022-10-07T01:08:15.444622Z",
     "iopub.status.busy": "2022-10-07T01:08:15.443827Z",
     "iopub.status.idle": "2022-10-07T01:08:15.448260Z",
     "shell.execute_reply": "2022-10-07T01:08:15.447598Z"
    },
    "papermill": {
     "duration": 0.045597,
     "end_time": "2022-10-07T01:08:15.448376",
     "exception": false,
     "start_time": "2022-10-07T01:08:15.402779",
     "status": "completed"
    },
    "tags": []
   },
   "outputs": [],
   "source": [
    "#hide\n",
    "# g = g[cols]"
   ]
  },
  {
   "cell_type": "code",
   "execution_count": 31,
   "id": "subject-dublin",
   "metadata": {
    "execution": {
     "iopub.execute_input": "2022-10-07T01:08:15.533168Z",
     "iopub.status.busy": "2022-10-07T01:08:15.532307Z",
     "iopub.status.idle": "2022-10-07T01:08:15.535040Z",
     "shell.execute_reply": "2022-10-07T01:08:15.535621Z"
    },
    "papermill": {
     "duration": 0.046198,
     "end_time": "2022-10-07T01:08:15.535776",
     "exception": false,
     "start_time": "2022-10-07T01:08:15.489578",
     "status": "completed"
    },
    "tags": []
   },
   "outputs": [],
   "source": [
    "#hide\n",
    "# g['continent'] = g['continent'].map(mapping['map.continent'])"
   ]
  },
  {
   "cell_type": "code",
   "execution_count": 32,
   "id": "freelance-scout",
   "metadata": {
    "execution": {
     "iopub.execute_input": "2022-10-07T01:08:15.624314Z",
     "iopub.status.busy": "2022-10-07T01:08:15.623553Z",
     "iopub.status.idle": "2022-10-07T01:08:15.626150Z",
     "shell.execute_reply": "2022-10-07T01:08:15.626717Z"
    },
    "papermill": {
     "duration": 0.046948,
     "end_time": "2022-10-07T01:08:15.626890",
     "exception": false,
     "start_time": "2022-10-07T01:08:15.579942",
     "status": "completed"
    },
    "tags": []
   },
   "outputs": [],
   "source": [
    "#hide\n",
    "# g.head()"
   ]
  },
  {
   "cell_type": "code",
   "execution_count": 33,
   "id": "limited-engine",
   "metadata": {
    "execution": {
     "iopub.execute_input": "2022-10-07T01:08:15.727114Z",
     "iopub.status.busy": "2022-10-07T01:08:15.726451Z",
     "iopub.status.idle": "2022-10-07T01:08:15.729043Z",
     "shell.execute_reply": "2022-10-07T01:08:15.729760Z"
    },
    "papermill": {
     "duration": 0.055389,
     "end_time": "2022-10-07T01:08:15.729916",
     "exception": false,
     "start_time": "2022-10-07T01:08:15.674527",
     "status": "completed"
    },
    "tags": []
   },
   "outputs": [],
   "source": [
    "# hide\n",
    "# g['date'] = g['date'].astype('datetime64[ns]')"
   ]
  },
  {
   "cell_type": "code",
   "execution_count": 34,
   "id": "sophisticated-supervisor",
   "metadata": {
    "execution": {
     "iopub.execute_input": "2022-10-07T01:08:15.812833Z",
     "iopub.status.busy": "2022-10-07T01:08:15.812066Z",
     "iopub.status.idle": "2022-10-07T01:08:15.814864Z",
     "shell.execute_reply": "2022-10-07T01:08:15.815469Z"
    },
    "papermill": {
     "duration": 0.046756,
     "end_time": "2022-10-07T01:08:15.815624",
     "exception": false,
     "start_time": "2022-10-07T01:08:15.768868",
     "status": "completed"
    },
    "tags": []
   },
   "outputs": [],
   "source": [
    "#hide\n",
    "# g['date'] = g.date.dt.dayofyear"
   ]
  },
  {
   "cell_type": "code",
   "execution_count": 35,
   "id": "inside-dubai",
   "metadata": {
    "execution": {
     "iopub.execute_input": "2022-10-07T01:08:15.900208Z",
     "iopub.status.busy": "2022-10-07T01:08:15.899462Z",
     "iopub.status.idle": "2022-10-07T01:08:15.902179Z",
     "shell.execute_reply": "2022-10-07T01:08:15.902740Z"
    },
    "papermill": {
     "duration": 0.045697,
     "end_time": "2022-10-07T01:08:15.902875",
     "exception": false,
     "start_time": "2022-10-07T01:08:15.857178",
     "status": "completed"
    },
    "tags": []
   },
   "outputs": [],
   "source": [
    "#hide\n",
    "# g = g.rename(columns= {'continent':'group','country':'name','cases':'value'})"
   ]
  },
  {
   "cell_type": "code",
   "execution_count": 36,
   "id": "fleet-motorcycle",
   "metadata": {
    "execution": {
     "iopub.execute_input": "2022-10-07T01:08:15.984976Z",
     "iopub.status.busy": "2022-10-07T01:08:15.984214Z",
     "iopub.status.idle": "2022-10-07T01:08:15.987659Z",
     "shell.execute_reply": "2022-10-07T01:08:15.987115Z"
    },
    "papermill": {
     "duration": 0.045881,
     "end_time": "2022-10-07T01:08:15.987774",
     "exception": false,
     "start_time": "2022-10-07T01:08:15.941893",
     "status": "completed"
    },
    "tags": []
   },
   "outputs": [],
   "source": [
    "#hide\n",
    "# cols = ['name','group','day','value']"
   ]
  },
  {
   "cell_type": "code",
   "execution_count": 37,
   "id": "continued-sleeping",
   "metadata": {
    "execution": {
     "iopub.execute_input": "2022-10-07T01:08:16.070513Z",
     "iopub.status.busy": "2022-10-07T01:08:16.069723Z",
     "iopub.status.idle": "2022-10-07T01:08:16.072508Z",
     "shell.execute_reply": "2022-10-07T01:08:16.073202Z"
    },
    "papermill": {
     "duration": 0.04785,
     "end_time": "2022-10-07T01:08:16.073370",
     "exception": false,
     "start_time": "2022-10-07T01:08:16.025520",
     "status": "completed"
    },
    "tags": []
   },
   "outputs": [],
   "source": [
    "#hide\n",
    "# g.rename(columns= {'date':'day'},inplace = True)"
   ]
  },
  {
   "cell_type": "code",
   "execution_count": 38,
   "id": "major-fight",
   "metadata": {
    "execution": {
     "iopub.execute_input": "2022-10-07T01:08:16.159586Z",
     "iopub.status.busy": "2022-10-07T01:08:16.158806Z",
     "iopub.status.idle": "2022-10-07T01:08:16.164122Z",
     "shell.execute_reply": "2022-10-07T01:08:16.164746Z"
    },
    "papermill": {
     "duration": 0.050976,
     "end_time": "2022-10-07T01:08:16.164908",
     "exception": false,
     "start_time": "2022-10-07T01:08:16.113932",
     "status": "completed"
    },
    "tags": []
   },
   "outputs": [],
   "source": [
    "#hide\n",
    "# g = g[cols]"
   ]
  },
  {
   "cell_type": "code",
   "execution_count": 39,
   "id": "structured-mobile",
   "metadata": {
    "execution": {
     "iopub.execute_input": "2022-10-07T01:08:16.249924Z",
     "iopub.status.busy": "2022-10-07T01:08:16.249103Z",
     "iopub.status.idle": "2022-10-07T01:08:16.255024Z",
     "shell.execute_reply": "2022-10-07T01:08:16.254414Z"
    },
    "papermill": {
     "duration": 0.050725,
     "end_time": "2022-10-07T01:08:16.255142",
     "exception": false,
     "start_time": "2022-10-07T01:08:16.204417",
     "status": "completed"
    },
    "tags": []
   },
   "outputs": [],
   "source": [
    "# #hide\n",
    "# g = g[g.group.notna()]"
   ]
  },
  {
   "cell_type": "code",
   "execution_count": 40,
   "id": "determined-closing",
   "metadata": {
    "execution": {
     "iopub.execute_input": "2022-10-07T01:08:16.339827Z",
     "iopub.status.busy": "2022-10-07T01:08:16.339063Z",
     "iopub.status.idle": "2022-10-07T01:08:16.342398Z",
     "shell.execute_reply": "2022-10-07T01:08:16.341712Z"
    },
    "papermill": {
     "duration": 0.047078,
     "end_time": "2022-10-07T01:08:16.342530",
     "exception": false,
     "start_time": "2022-10-07T01:08:16.295452",
     "status": "completed"
    },
    "tags": []
   },
   "outputs": [],
   "source": [
    "# #hide\n",
    "# colors = dict(zip(\n",
    "#     [\"Oceania\", \"Europe\", \"Asia\", \"South America\", \"Middle East\", \"North America\", \"Africa\"],\n",
    "#     [\"#adb0ff\", \"#ffb3ff\", \"#90d595\", \"#e48381\", \"#aafbff\", \"#f7bb5f\", \"#eafb50\"]\n",
    "# ))\n",
    "# group_lk = g.set_index('name')['group'].to_dict()"
   ]
  },
  {
   "cell_type": "code",
   "execution_count": null,
   "id": "gross-drinking",
   "metadata": {
    "papermill": {
     "duration": 0.050007,
     "end_time": "2022-10-07T01:08:16.432880",
     "exception": false,
     "start_time": "2022-10-07T01:08:16.382873",
     "status": "completed"
    },
    "tags": []
   },
   "outputs": [],
   "source": []
  },
  {
   "cell_type": "code",
   "execution_count": 41,
   "id": "subject-macintosh",
   "metadata": {
    "execution": {
     "iopub.execute_input": "2022-10-07T01:08:16.527312Z",
     "iopub.status.busy": "2022-10-07T01:08:16.526401Z",
     "iopub.status.idle": "2022-10-07T01:08:16.528941Z",
     "shell.execute_reply": "2022-10-07T01:08:16.529584Z"
    },
    "papermill": {
     "duration": 0.049541,
     "end_time": "2022-10-07T01:08:16.529750",
     "exception": false,
     "start_time": "2022-10-07T01:08:16.480209",
     "status": "completed"
    },
    "tags": []
   },
   "outputs": [],
   "source": [
    "# #hide\n",
    "# fig, ax = plt.subplots(figsize=(15, 8))\n",
    "\n",
    "# def draw_barchart(current_day):\n",
    "#     dff = g[g['day'].eq(current_day)].sort_values(by='value', ascending=True).tail(10)\n",
    "#     ax.clear()\n",
    "#     ax.barh(dff['name'], dff['value'], color=[colors[group_lk[x]] for x in dff['name']])\n",
    "#     dx = dff['value'].max() / 200\n",
    "    \n",
    "#     for i, (value, name) in enumerate(zip(dff['value'], dff['name'])):\n",
    "#         ax.text(value-dx, i,     name,           size=14, weight=600, ha='right', va='bottom')\n",
    "#         ax.text(value-dx, i-.25, group_lk[name], size=10, color='#444444', ha='right', va='baseline')\n",
    "#         ax.text(value+dx, i,     f'{value:,.0f}',  size=14, ha='left',  va='center')\n",
    "#     ax.text(1, 0.4, current_day, transform=ax.transAxes, color='#777777', size=46, ha='right', weight=800)\n",
    "#     ax.text(0, 1.06, 'Population (thousands)', transform=ax.transAxes, size=12, color='#777777')\n",
    "#     ax.xaxis.set_major_formatter(ticker.StrMethodFormatter('{x:,.0f}'))\n",
    "#     ax.xaxis.set_ticks_position('top')\n",
    "#     ax.tick_params(axis='x', colors='#777777', labelsize=12)\n",
    "#     ax.set_yticks([])\n",
    "#     ax.margins(0, 0.01)\n",
    "#     ax.grid(which='major', axis='x', linestyle='-')\n",
    "#     ax.set_axisbelow(True)\n",
    "    \n",
    "#     ax.text(0, 1.15, 'Coronavirus',\n",
    "#             transform=ax.transAxes, size=24, weight=600, ha='left', va='top')\n",
    "# #     ax.text(1, 0, 'by @pratapvardhan; credit @jburnmurdoch', transform=ax.transAxes, color='#777777', ha='right',\n",
    "# #             bbox=dict(facecolor='white', alpha=0.8, edgecolor='white'))\n",
    "#     plt.box(False)"
   ]
  },
  {
   "cell_type": "code",
   "execution_count": 42,
   "id": "sexual-wages",
   "metadata": {
    "execution": {
     "iopub.execute_input": "2022-10-07T01:08:16.614797Z",
     "iopub.status.busy": "2022-10-07T01:08:16.614072Z",
     "iopub.status.idle": "2022-10-07T01:08:16.617113Z",
     "shell.execute_reply": "2022-10-07T01:08:16.616532Z"
    },
    "papermill": {
     "duration": 0.047564,
     "end_time": "2022-10-07T01:08:16.617268",
     "exception": false,
     "start_time": "2022-10-07T01:08:16.569704",
     "status": "completed"
    },
    "tags": []
   },
   "outputs": [],
   "source": [
    "# #hide_input\n",
    "# fig, ax = plt.subplots(figsize=(15, 8))\n",
    "# animator = animation.FuncAnimation(fig, draw_barchart, frames=range(g.day.values.min(), g.day.values.max()))\n",
    "# HTML(animator.to_jshtml())\n",
    "# # or use animator.to_html5_video() or animator.save() "
   ]
  },
  {
   "cell_type": "code",
   "execution_count": null,
   "id": "australian-container",
   "metadata": {
    "papermill": {
     "duration": 0.038808,
     "end_time": "2022-10-07T01:08:16.696380",
     "exception": false,
     "start_time": "2022-10-07T01:08:16.657572",
     "status": "completed"
    },
    "tags": []
   },
   "outputs": [],
   "source": []
  },
  {
   "cell_type": "code",
   "execution_count": null,
   "id": "mediterranean-pontiac",
   "metadata": {
    "papermill": {
     "duration": 0.041002,
     "end_time": "2022-10-07T01:08:16.776019",
     "exception": false,
     "start_time": "2022-10-07T01:08:16.735017",
     "status": "completed"
    },
    "tags": []
   },
   "outputs": [],
   "source": []
  },
  {
   "cell_type": "code",
   "execution_count": null,
   "id": "aging-legislature",
   "metadata": {
    "papermill": {
     "duration": 0.043248,
     "end_time": "2022-10-07T01:08:16.866399",
     "exception": false,
     "start_time": "2022-10-07T01:08:16.823151",
     "status": "completed"
    },
    "tags": []
   },
   "outputs": [],
   "source": []
  }
 ],
 "metadata": {
  "kernelspec": {
   "display_name": "Python 3",
   "language": "python",
   "name": "python3"
  },
  "language_info": {
   "codemirror_mode": {
    "name": "ipython",
    "version": 3
   },
   "file_extension": ".py",
   "mimetype": "text/x-python",
   "name": "python",
   "nbconvert_exporter": "python",
   "pygments_lexer": "ipython3",
   "version": "3.6.15"
  },
  "papermill": {
   "duration": 7.695415,
   "end_time": "2022-10-07T01:08:17.232309",
   "environment_variables": {},
   "exception": null,
   "input_path": "2020-03-21-covid19exp.ipynb",
   "output_path": "2020-03-21-covid19exp.ipynb",
   "parameters": {},
   "start_time": "2022-10-07T01:08:09.536894",
   "version": "2.0.0"
  }
 },
 "nbformat": 4,
 "nbformat_minor": 5
}