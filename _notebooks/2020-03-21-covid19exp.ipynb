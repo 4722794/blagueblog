{
 "cells": [
  {
   "cell_type": "markdown",
   "id": "muslim-click",
   "metadata": {
    "papermill": {
     "duration": 0.041301,
     "end_time": "2021-06-09T12:10:34.388540",
     "exception": false,
     "start_time": "2021-06-09T12:10:34.347239",
     "status": "completed"
    },
    "tags": []
   },
   "source": [
    "# COVID-19 Case Race\n",
    "> A race chart to see rising cases around the world\n",
    "\n",
    "- author: Hargun Oberoi\n",
    "- image: images/covid-overview.png\n",
    "- hide: false\n",
    "- badges: false"
   ]
  },
  {
   "cell_type": "code",
   "execution_count": 1,
   "id": "proof-material",
   "metadata": {
    "execution": {
     "iopub.execute_input": "2021-06-09T12:10:34.465917Z",
     "iopub.status.busy": "2021-06-09T12:10:34.465371Z",
     "iopub.status.idle": "2021-06-09T12:10:34.799916Z",
     "shell.execute_reply": "2021-06-09T12:10:34.799408Z"
    },
    "papermill": {
     "duration": 0.37924,
     "end_time": "2021-06-09T12:10:34.800052",
     "exception": false,
     "start_time": "2021-06-09T12:10:34.420812",
     "status": "completed"
    },
    "tags": []
   },
   "outputs": [],
   "source": [
    "#hide\n",
    "import numpy as np\n",
    "import pandas as pd\n",
    "from jinja2 import Template\n",
    "from IPython.display import HTML"
   ]
  },
  {
   "cell_type": "code",
   "execution_count": 2,
   "id": "developed-terminology",
   "metadata": {
    "execution": {
     "iopub.execute_input": "2021-06-09T12:10:34.875172Z",
     "iopub.status.busy": "2021-06-09T12:10:34.874440Z",
     "iopub.status.idle": "2021-06-09T12:10:34.876821Z",
     "shell.execute_reply": "2021-06-09T12:10:34.876205Z"
    },
    "papermill": {
     "duration": 0.044854,
     "end_time": "2021-06-09T12:10:34.876932",
     "exception": false,
     "start_time": "2021-06-09T12:10:34.832078",
     "status": "completed"
    },
    "tags": []
   },
   "outputs": [],
   "source": [
    "#hide\n",
    "\n",
    "# FETCH\n",
    "base_url = 'https://raw.githubusercontent.com/pratapvardhan/notebooks/master/covid19/'\n",
    "paths = {\n",
    "    'mapping': base_url + 'mapping_countries.csv',\n",
    "    'overview': base_url + 'overview.tpl'\n",
    "}"
   ]
  },
  {
   "cell_type": "code",
   "execution_count": 3,
   "id": "dynamic-saver",
   "metadata": {
    "execution": {
     "iopub.execute_input": "2021-06-09T12:10:34.956122Z",
     "iopub.status.busy": "2021-06-09T12:10:34.953939Z",
     "iopub.status.idle": "2021-06-09T12:10:34.958579Z",
     "shell.execute_reply": "2021-06-09T12:10:34.959127Z"
    },
    "papermill": {
     "duration": 0.048161,
     "end_time": "2021-06-09T12:10:34.959239",
     "exception": false,
     "start_time": "2021-06-09T12:10:34.911078",
     "status": "completed"
    },
    "tags": []
   },
   "outputs": [
    {
     "data": {
      "text/plain": [
       "'https://raw.githubusercontent.com/pratapvardhan/notebooks/master/covid19/mapping_countries.csv'"
      ]
     },
     "execution_count": 3,
     "metadata": {},
     "output_type": "execute_result"
    }
   ],
   "source": [
    "#hide\n",
    "paths['mapping']"
   ]
  },
  {
   "cell_type": "code",
   "execution_count": 4,
   "id": "urban-software",
   "metadata": {
    "execution": {
     "iopub.execute_input": "2021-06-09T12:10:35.028516Z",
     "iopub.status.busy": "2021-06-09T12:10:35.027960Z",
     "iopub.status.idle": "2021-06-09T12:10:35.030244Z",
     "shell.execute_reply": "2021-06-09T12:10:35.029801Z"
    },
    "papermill": {
     "duration": 0.038627,
     "end_time": "2021-06-09T12:10:35.030343",
     "exception": false,
     "start_time": "2021-06-09T12:10:34.991716",
     "status": "completed"
    },
    "tags": []
   },
   "outputs": [],
   "source": [
    "#hide\n",
    "def get_mappings(url):\n",
    "    df = pd.read_csv(url)\n",
    "    return {\n",
    "        'df': df,\n",
    "        'replace.country': dict(df.dropna(subset=['Name']).set_index('Country')['Name']),\n",
    "        'map.continent': dict(df.set_index('Name')['Continent'])\n",
    "    }"
   ]
  },
  {
   "cell_type": "code",
   "execution_count": 5,
   "id": "intimate-machinery",
   "metadata": {
    "execution": {
     "iopub.execute_input": "2021-06-09T12:10:35.101209Z",
     "iopub.status.busy": "2021-06-09T12:10:35.100666Z",
     "iopub.status.idle": "2021-06-09T12:10:35.139058Z",
     "shell.execute_reply": "2021-06-09T12:10:35.139624Z"
    },
    "papermill": {
     "duration": 0.078521,
     "end_time": "2021-06-09T12:10:35.139798",
     "exception": false,
     "start_time": "2021-06-09T12:10:35.061277",
     "status": "completed"
    },
    "tags": []
   },
   "outputs": [],
   "source": [
    "#hide\n",
    "mapping = get_mappings(paths['mapping'])"
   ]
  },
  {
   "cell_type": "code",
   "execution_count": 6,
   "id": "certified-tactics",
   "metadata": {
    "execution": {
     "iopub.execute_input": "2021-06-09T12:10:35.224028Z",
     "iopub.status.busy": "2021-06-09T12:10:35.223405Z",
     "iopub.status.idle": "2021-06-09T12:10:35.225325Z",
     "shell.execute_reply": "2021-06-09T12:10:35.226125Z"
    },
    "papermill": {
     "duration": 0.043382,
     "end_time": "2021-06-09T12:10:35.226280",
     "exception": false,
     "start_time": "2021-06-09T12:10:35.182898",
     "status": "completed"
    },
    "tags": []
   },
   "outputs": [],
   "source": [
    "#hide\n",
    "def get_template(path):\n",
    "    from urllib.parse import urlparse\n",
    "    if bool(urlparse(path).netloc):\n",
    "        from urllib.request import urlopen\n",
    "        return urlopen(path).read().decode('utf8')\n",
    "    return open(path).read()"
   ]
  },
  {
   "cell_type": "code",
   "execution_count": 7,
   "id": "realistic-blast",
   "metadata": {
    "execution": {
     "iopub.execute_input": "2021-06-09T12:10:35.295491Z",
     "iopub.status.busy": "2021-06-09T12:10:35.294829Z",
     "iopub.status.idle": "2021-06-09T12:10:35.297459Z",
     "shell.execute_reply": "2021-06-09T12:10:35.296960Z"
    },
    "papermill": {
     "duration": 0.037384,
     "end_time": "2021-06-09T12:10:35.297566",
     "exception": false,
     "start_time": "2021-06-09T12:10:35.260182",
     "status": "completed"
    },
    "tags": []
   },
   "outputs": [],
   "source": [
    "#hide\n",
    "def get_frame(name):\n",
    "    url = (\n",
    "        'https://raw.githubusercontent.com/CSSEGISandData/COVID-19/master/csse_covid_19_data/'\n",
    "        f'csse_covid_19_time_series/time_series_covid19_{name}_global.csv')\n",
    "    df = pd.read_csv(url)\n",
    "    # rename countries\n",
    "    df['Country/Region'] = df['Country/Region'].replace(mapping['replace.country'])\n",
    "    return df"
   ]
  },
  {
   "cell_type": "code",
   "execution_count": 8,
   "id": "affiliated-characterization",
   "metadata": {
    "execution": {
     "iopub.execute_input": "2021-06-09T12:10:35.372023Z",
     "iopub.status.busy": "2021-06-09T12:10:35.371251Z",
     "iopub.status.idle": "2021-06-09T12:10:35.373579Z",
     "shell.execute_reply": "2021-06-09T12:10:35.374242Z"
    },
    "papermill": {
     "duration": 0.045108,
     "end_time": "2021-06-09T12:10:35.374363",
     "exception": false,
     "start_time": "2021-06-09T12:10:35.329255",
     "status": "completed"
    },
    "tags": []
   },
   "outputs": [],
   "source": [
    "#hide\n",
    "def get_dates(df):\n",
    "    dt_cols = df.columns[~df.columns.isin(['Province/State', 'Country/Region', 'Lat', 'Long'])]\n",
    "    LAST_DATE_I = -1\n",
    "    # sometimes last column may be empty, then go backwards\n",
    "    for i in range(-1, -len(dt_cols), -1):\n",
    "        if not df[dt_cols[i]].fillna(0).eq(0).all():\n",
    "            LAST_DATE_I = i\n",
    "            break\n",
    "    return LAST_DATE_I, dt_cols"
   ]
  },
  {
   "cell_type": "code",
   "execution_count": 9,
   "id": "recent-optimization",
   "metadata": {
    "execution": {
     "iopub.execute_input": "2021-06-09T12:10:35.446197Z",
     "iopub.status.busy": "2021-06-09T12:10:35.445634Z",
     "iopub.status.idle": "2021-06-09T12:10:35.797707Z",
     "shell.execute_reply": "2021-06-09T12:10:35.796795Z"
    },
    "papermill": {
     "duration": 0.389315,
     "end_time": "2021-06-09T12:10:35.797829",
     "exception": false,
     "start_time": "2021-06-09T12:10:35.408514",
     "status": "completed"
    },
    "tags": []
   },
   "outputs": [],
   "source": [
    "#hide\n",
    "COL_REGION = 'Country/Region'\n",
    "# Confirmed, Recovered, Deaths\n",
    "df = get_frame('confirmed')\n",
    "# dft_: timeseries, dfc_: today country agg\n",
    "dft_cases = df\n",
    "dft_deaths = get_frame('deaths')\n",
    "dft_recovered = get_frame('recovered')\n",
    "LAST_DATE_I, dt_cols = get_dates(df)"
   ]
  },
  {
   "cell_type": "code",
   "execution_count": 10,
   "id": "absolute-copper",
   "metadata": {
    "execution": {
     "iopub.execute_input": "2021-06-09T12:10:35.869728Z",
     "iopub.status.busy": "2021-06-09T12:10:35.869085Z",
     "iopub.status.idle": "2021-06-09T12:10:35.873119Z",
     "shell.execute_reply": "2021-06-09T12:10:35.872300Z"
    },
    "papermill": {
     "duration": 0.044109,
     "end_time": "2021-06-09T12:10:35.873248",
     "exception": false,
     "start_time": "2021-06-09T12:10:35.829139",
     "status": "completed"
    },
    "tags": []
   },
   "outputs": [],
   "source": [
    "#hide\n",
    "LAST_DATE_I, dt_cols = get_dates(df)\n",
    "dt_today =dt_cols[LAST_DATE_I]\n",
    "# dt_5day = dt_cols[LAST_DATE_I - 5]\n",
    "dt_yday = dt_cols[LAST_DATE_I - 1]"
   ]
  },
  {
   "cell_type": "code",
   "execution_count": 11,
   "id": "restricted-sheriff",
   "metadata": {
    "execution": {
     "iopub.execute_input": "2021-06-09T12:10:35.945595Z",
     "iopub.status.busy": "2021-06-09T12:10:35.945038Z",
     "iopub.status.idle": "2021-06-09T12:10:35.953083Z",
     "shell.execute_reply": "2021-06-09T12:10:35.953708Z"
    },
    "papermill": {
     "duration": 0.045802,
     "end_time": "2021-06-09T12:10:35.953904",
     "exception": false,
     "start_time": "2021-06-09T12:10:35.908102",
     "status": "completed"
    },
    "tags": []
   },
   "outputs": [],
   "source": [
    "#hide\n",
    "dfc_cases = dft_cases.groupby(COL_REGION)[dt_today].sum()\n",
    "dfc_deaths = dft_deaths.groupby(COL_REGION)[dt_today].sum()\n",
    "# dfp_cases = dft_cases.groupby(COL_REGION)[dt_5day].sum()\n",
    "# dfp_deaths = dft_deaths.groupby(COL_REGION)[dt_5day].sum()\n",
    "dfp_cases = dft_cases.groupby(COL_REGION)[dt_yday].sum()\n",
    "dfp_deaths = dft_deaths.groupby(COL_REGION)[dt_yday].sum()"
   ]
  },
  {
   "cell_type": "code",
   "execution_count": 12,
   "id": "deluxe-hepatitis",
   "metadata": {
    "execution": {
     "iopub.execute_input": "2021-06-09T12:10:36.019001Z",
     "iopub.status.busy": "2021-06-09T12:10:36.018414Z",
     "iopub.status.idle": "2021-06-09T12:10:36.023002Z",
     "shell.execute_reply": "2021-06-09T12:10:36.023488Z"
    },
    "papermill": {
     "duration": 0.03889,
     "end_time": "2021-06-09T12:10:36.023594",
     "exception": false,
     "start_time": "2021-06-09T12:10:35.984704",
     "status": "completed"
    },
    "tags": []
   },
   "outputs": [],
   "source": [
    "#hide\n",
    "df_table = (pd.DataFrame(dict(Cases = dfc_cases, Deaths = dfc_deaths, PCases = dfp_cases, PDeaths = dfp_deaths))\n",
    "            .sort_values(by = ['Cases','Deaths'], ascending = [False, False])\n",
    "            .reset_index())"
   ]
  },
  {
   "cell_type": "code",
   "execution_count": 13,
   "id": "educational-chancellor",
   "metadata": {
    "execution": {
     "iopub.execute_input": "2021-06-09T12:10:36.106945Z",
     "iopub.status.busy": "2021-06-09T12:10:36.106159Z",
     "iopub.status.idle": "2021-06-09T12:10:36.114239Z",
     "shell.execute_reply": "2021-06-09T12:10:36.114770Z"
    },
    "papermill": {
     "duration": 0.061732,
     "end_time": "2021-06-09T12:10:36.114888",
     "exception": false,
     "start_time": "2021-06-09T12:10:36.053156",
     "status": "completed"
    },
    "tags": []
   },
   "outputs": [
    {
     "data": {
      "text/html": [
       "<div>\n",
       "<style scoped>\n",
       "    .dataframe tbody tr th:only-of-type {\n",
       "        vertical-align: middle;\n",
       "    }\n",
       "\n",
       "    .dataframe tbody tr th {\n",
       "        vertical-align: top;\n",
       "    }\n",
       "\n",
       "    .dataframe thead th {\n",
       "        text-align: right;\n",
       "    }\n",
       "</style>\n",
       "<table border=\"1\" class=\"dataframe\">\n",
       "  <thead>\n",
       "    <tr style=\"text-align: right;\">\n",
       "      <th></th>\n",
       "      <th>Country/Region</th>\n",
       "      <th>Cases</th>\n",
       "      <th>Deaths</th>\n",
       "      <th>PCases</th>\n",
       "      <th>PDeaths</th>\n",
       "      <th>Cases (+)</th>\n",
       "      <th>Deaths (+)</th>\n",
       "      <th>Fatality Rate</th>\n",
       "      <th>Continent</th>\n",
       "    </tr>\n",
       "  </thead>\n",
       "  <tbody>\n",
       "    <tr>\n",
       "      <th>0</th>\n",
       "      <td>US</td>\n",
       "      <td>33391107</td>\n",
       "      <td>598332</td>\n",
       "      <td>33378096</td>\n",
       "      <td>597952</td>\n",
       "      <td>13011</td>\n",
       "      <td>380</td>\n",
       "      <td>1.79</td>\n",
       "      <td>North America</td>\n",
       "    </tr>\n",
       "    <tr>\n",
       "      <th>1</th>\n",
       "      <td>India</td>\n",
       "      <td>29089069</td>\n",
       "      <td>353528</td>\n",
       "      <td>28996473</td>\n",
       "      <td>351309</td>\n",
       "      <td>92596</td>\n",
       "      <td>2219</td>\n",
       "      <td>1.22</td>\n",
       "      <td>Asia</td>\n",
       "    </tr>\n",
       "    <tr>\n",
       "      <th>2</th>\n",
       "      <td>Brazil</td>\n",
       "      <td>17037129</td>\n",
       "      <td>476792</td>\n",
       "      <td>16984218</td>\n",
       "      <td>474414</td>\n",
       "      <td>52911</td>\n",
       "      <td>2378</td>\n",
       "      <td>2.80</td>\n",
       "      <td>South America</td>\n",
       "    </tr>\n",
       "    <tr>\n",
       "      <th>3</th>\n",
       "      <td>France</td>\n",
       "      <td>5781556</td>\n",
       "      <td>110299</td>\n",
       "      <td>5775535</td>\n",
       "      <td>110224</td>\n",
       "      <td>6021</td>\n",
       "      <td>75</td>\n",
       "      <td>1.91</td>\n",
       "      <td>Europe</td>\n",
       "    </tr>\n",
       "    <tr>\n",
       "      <th>4</th>\n",
       "      <td>Turkey</td>\n",
       "      <td>5300236</td>\n",
       "      <td>48341</td>\n",
       "      <td>5293627</td>\n",
       "      <td>48255</td>\n",
       "      <td>6609</td>\n",
       "      <td>86</td>\n",
       "      <td>0.91</td>\n",
       "      <td>Asia</td>\n",
       "    </tr>\n",
       "  </tbody>\n",
       "</table>\n",
       "</div>"
      ],
      "text/plain": [
       "  Country/Region     Cases  Deaths    PCases  PDeaths  Cases (+)  Deaths (+)  \\\n",
       "0             US  33391107  598332  33378096   597952      13011         380   \n",
       "1          India  29089069  353528  28996473   351309      92596        2219   \n",
       "2         Brazil  17037129  476792  16984218   474414      52911        2378   \n",
       "3         France   5781556  110299   5775535   110224       6021          75   \n",
       "4         Turkey   5300236   48341   5293627    48255       6609          86   \n",
       "\n",
       "   Fatality Rate      Continent  \n",
       "0           1.79  North America  \n",
       "1           1.22           Asia  \n",
       "2           2.80  South America  \n",
       "3           1.91         Europe  \n",
       "4           0.91           Asia  "
      ]
     },
     "execution_count": 13,
     "metadata": {},
     "output_type": "execute_result"
    }
   ],
   "source": [
    "#hide\n",
    "for c in 'Cases, Deaths'.split(', '):\n",
    "    df_table[f'{c} (+)'] = (df_table[c] - df_table[f'P{c}']).clip(0)\n",
    "    #Clip ça veut dire, les chiffres negatif sont interdit\n",
    "df_table['Fatality Rate'] = (100* df_table['Deaths']/ df_table['Cases']).round(2)\n",
    "df_table['Continent'] = df_table['Country/Region'].map(mapping['map.continent'])\n",
    "df_table.head(5)"
   ]
  },
  {
   "cell_type": "code",
   "execution_count": 14,
   "id": "aboriginal-bulgaria",
   "metadata": {
    "execution": {
     "iopub.execute_input": "2021-06-09T12:10:36.192191Z",
     "iopub.status.busy": "2021-06-09T12:10:36.191665Z",
     "iopub.status.idle": "2021-06-09T12:10:36.194053Z",
     "shell.execute_reply": "2021-06-09T12:10:36.193625Z"
    },
    "papermill": {
     "duration": 0.04534,
     "end_time": "2021-06-09T12:10:36.194159",
     "exception": false,
     "start_time": "2021-06-09T12:10:36.148819",
     "status": "completed"
    },
    "tags": []
   },
   "outputs": [],
   "source": [
    "#hide\n",
    "#delete problematic countries from table\n",
    "df_table = df_table[~df_table['Country/Region'].isin(['Cape Verde', 'Cruise Ship', 'Kosovo'])]"
   ]
  },
  {
   "cell_type": "code",
   "execution_count": 15,
   "id": "fantastic-effect",
   "metadata": {
    "execution": {
     "iopub.execute_input": "2021-06-09T12:10:36.264682Z",
     "iopub.status.busy": "2021-06-09T12:10:36.264163Z",
     "iopub.status.idle": "2021-06-09T12:10:36.283547Z",
     "shell.execute_reply": "2021-06-09T12:10:36.283104Z"
    },
    "papermill": {
     "duration": 0.057097,
     "end_time": "2021-06-09T12:10:36.283648",
     "exception": false,
     "start_time": "2021-06-09T12:10:36.226551",
     "status": "completed"
    },
    "tags": []
   },
   "outputs": [
    {
     "data": {
      "text/html": [
       "<div>\n",
       "<style scoped>\n",
       "    .dataframe tbody tr th:only-of-type {\n",
       "        vertical-align: middle;\n",
       "    }\n",
       "\n",
       "    .dataframe tbody tr th {\n",
       "        vertical-align: top;\n",
       "    }\n",
       "\n",
       "    .dataframe thead th {\n",
       "        text-align: right;\n",
       "    }\n",
       "</style>\n",
       "<table border=\"1\" class=\"dataframe\">\n",
       "  <thead>\n",
       "    <tr style=\"text-align: right;\">\n",
       "      <th></th>\n",
       "      <th>Country/Region</th>\n",
       "      <th>Cases</th>\n",
       "      <th>Deaths</th>\n",
       "      <th>PCases</th>\n",
       "      <th>PDeaths</th>\n",
       "      <th>Cases (+)</th>\n",
       "      <th>Deaths (+)</th>\n",
       "      <th>Fatality Rate</th>\n",
       "      <th>Continent</th>\n",
       "    </tr>\n",
       "  </thead>\n",
       "  <tbody>\n",
       "    <tr>\n",
       "      <th>0</th>\n",
       "      <td>US</td>\n",
       "      <td>33391107</td>\n",
       "      <td>598332</td>\n",
       "      <td>33378096</td>\n",
       "      <td>597952</td>\n",
       "      <td>13011</td>\n",
       "      <td>380</td>\n",
       "      <td>1.8</td>\n",
       "      <td>North America</td>\n",
       "    </tr>\n",
       "    <tr>\n",
       "      <th>1</th>\n",
       "      <td>India</td>\n",
       "      <td>29089069</td>\n",
       "      <td>353528</td>\n",
       "      <td>28996473</td>\n",
       "      <td>351309</td>\n",
       "      <td>92596</td>\n",
       "      <td>2219</td>\n",
       "      <td>1.2</td>\n",
       "      <td>Asia</td>\n",
       "    </tr>\n",
       "    <tr>\n",
       "      <th>2</th>\n",
       "      <td>Brazil</td>\n",
       "      <td>17037129</td>\n",
       "      <td>476792</td>\n",
       "      <td>16984218</td>\n",
       "      <td>474414</td>\n",
       "      <td>52911</td>\n",
       "      <td>2378</td>\n",
       "      <td>2.8</td>\n",
       "      <td>South America</td>\n",
       "    </tr>\n",
       "    <tr>\n",
       "      <th>3</th>\n",
       "      <td>France</td>\n",
       "      <td>5781556</td>\n",
       "      <td>110299</td>\n",
       "      <td>5775535</td>\n",
       "      <td>110224</td>\n",
       "      <td>6021</td>\n",
       "      <td>75</td>\n",
       "      <td>1.9</td>\n",
       "      <td>Europe</td>\n",
       "    </tr>\n",
       "    <tr>\n",
       "      <th>4</th>\n",
       "      <td>Turkey</td>\n",
       "      <td>5300236</td>\n",
       "      <td>48341</td>\n",
       "      <td>5293627</td>\n",
       "      <td>48255</td>\n",
       "      <td>6609</td>\n",
       "      <td>86</td>\n",
       "      <td>0.9</td>\n",
       "      <td>Asia</td>\n",
       "    </tr>\n",
       "  </tbody>\n",
       "</table>\n",
       "</div>"
      ],
      "text/plain": [
       "  Country/Region     Cases  Deaths    PCases  PDeaths  Cases (+)  Deaths (+)  \\\n",
       "0             US  33391107  598332  33378096   597952      13011         380   \n",
       "1          India  29089069  353528  28996473   351309      92596        2219   \n",
       "2         Brazil  17037129  476792  16984218   474414      52911        2378   \n",
       "3         France   5781556  110299   5775535   110224       6021          75   \n",
       "4         Turkey   5300236   48341   5293627    48255       6609          86   \n",
       "\n",
       "   Fatality Rate      Continent  \n",
       "0            1.8  North America  \n",
       "1            1.2           Asia  \n",
       "2            2.8  South America  \n",
       "3            1.9         Europe  \n",
       "4            0.9           Asia  "
      ]
     },
     "execution_count": 15,
     "metadata": {},
     "output_type": "execute_result"
    }
   ],
   "source": [
    "#hide\n",
    "df_table = (pd.DataFrame(dict(Cases=dfc_cases, Deaths=dfc_deaths, PCases=dfp_cases, PDeaths=dfp_deaths))\n",
    "             .sort_values(by=['Cases', 'Deaths'], ascending=[False, False])\n",
    "             .reset_index())\n",
    "df_table.rename(columns={'index': 'Country/Region'}, inplace=True)\n",
    "for c in 'Cases, Deaths'.split(', '):\n",
    "    df_table[f'{c} (+)'] = (df_table[c] - df_table[f'P{c}']).clip(0)  # DATA BUG\n",
    "df_table['Fatality Rate'] = (100 * df_table['Deaths'] / df_table['Cases']).round(1)\n",
    "df_table['Continent'] = df_table['Country/Region'].map(mapping['map.continent'])\n",
    "df_table.head(5)"
   ]
  },
  {
   "cell_type": "code",
   "execution_count": 16,
   "id": "fewer-occasion",
   "metadata": {
    "execution": {
     "iopub.execute_input": "2021-06-09T12:10:36.355594Z",
     "iopub.status.busy": "2021-06-09T12:10:36.354890Z",
     "iopub.status.idle": "2021-06-09T12:10:36.358966Z",
     "shell.execute_reply": "2021-06-09T12:10:36.358452Z"
    },
    "papermill": {
     "duration": 0.042847,
     "end_time": "2021-06-09T12:10:36.359077",
     "exception": false,
     "start_time": "2021-06-09T12:10:36.316230",
     "status": "completed"
    },
    "tags": []
   },
   "outputs": [],
   "source": [
    "#hide\n",
    "#delete problematic countries from table\n",
    "df_table = df_table[~df_table['Country/Region'].isin(['Cape Verde', 'Cruise Ship', 'Kosovo'])]"
   ]
  },
  {
   "cell_type": "code",
   "execution_count": 17,
   "id": "related-center",
   "metadata": {
    "execution": {
     "iopub.execute_input": "2021-06-09T12:10:36.436476Z",
     "iopub.status.busy": "2021-06-09T12:10:36.435776Z",
     "iopub.status.idle": "2021-06-09T12:10:36.449947Z",
     "shell.execute_reply": "2021-06-09T12:10:36.450561Z"
    },
    "papermill": {
     "duration": 0.055291,
     "end_time": "2021-06-09T12:10:36.450761",
     "exception": false,
     "start_time": "2021-06-09T12:10:36.395470",
     "status": "completed"
    },
    "tags": []
   },
   "outputs": [],
   "source": [
    "#hide\n",
    "metrics = [df_table.columns[index] for index in [1,2,5,6]]\n",
    "# s_china = df_table[df_table['Country/Region'].eq('China')][metrics].sum().add_prefix('China ')\n",
    "s_us = df_table[df_table['Country/Region'].eq('US')][metrics].sum().add_prefix('US ')\n",
    "s_eu = df_table[df_table['Continent'].eq('Europe')][metrics].sum().add_prefix('EU ')\n",
    "s_ind = df_table[df_table['Country/Region'].eq('India')][metrics].sum().add_prefix('India ')\n",
    "summary = {'updated': pd.to_datetime(dt_today), 'since': pd.to_datetime(dt_yday)}\n",
    "summary = {'updated': pd.to_datetime(dt_today), 'since': pd.to_datetime(dt_yday)}\n",
    "summary = {**summary, **df_table[metrics].sum(), **s_ind, **s_us, **s_eu}"
   ]
  },
  {
   "cell_type": "code",
   "execution_count": 18,
   "id": "engaging-syndrome",
   "metadata": {
    "execution": {
     "iopub.execute_input": "2021-06-09T12:10:36.520056Z",
     "iopub.status.busy": "2021-06-09T12:10:36.519525Z",
     "iopub.status.idle": "2021-06-09T12:10:36.532082Z",
     "shell.execute_reply": "2021-06-09T12:10:36.532579Z"
    },
    "papermill": {
     "duration": 0.049629,
     "end_time": "2021-06-09T12:10:36.532692",
     "exception": false,
     "start_time": "2021-06-09T12:10:36.483063",
     "status": "completed"
    },
    "tags": []
   },
   "outputs": [],
   "source": [
    "#hide\n",
    "dft_ct_new_cases = dft_cases.groupby(COL_REGION)[dt_cols].sum().diff(axis=1).fillna(0).astype(int)"
   ]
  },
  {
   "cell_type": "code",
   "execution_count": 19,
   "id": "neutral-assignment",
   "metadata": {
    "execution": {
     "iopub.execute_input": "2021-06-09T12:10:36.606317Z",
     "iopub.status.busy": "2021-06-09T12:10:36.605754Z",
     "iopub.status.idle": "2021-06-09T12:10:36.607894Z",
     "shell.execute_reply": "2021-06-09T12:10:36.608348Z"
    },
    "papermill": {
     "duration": 0.044053,
     "end_time": "2021-06-09T12:10:36.608467",
     "exception": false,
     "start_time": "2021-06-09T12:10:36.564414",
     "status": "completed"
    },
    "tags": []
   },
   "outputs": [],
   "source": [
    "#hide\n",
    "everydaycases = dft_ct_new_cases.cumsum(axis=1)"
   ]
  },
  {
   "cell_type": "code",
   "execution_count": 20,
   "id": "parliamentary-calgary",
   "metadata": {
    "execution": {
     "iopub.execute_input": "2021-06-09T12:10:36.687356Z",
     "iopub.status.busy": "2021-06-09T12:10:36.686782Z",
     "iopub.status.idle": "2021-06-09T12:10:37.483322Z",
     "shell.execute_reply": "2021-06-09T12:10:37.482852Z"
    },
    "papermill": {
     "duration": 0.837985,
     "end_time": "2021-06-09T12:10:37.483444",
     "exception": false,
     "start_time": "2021-06-09T12:10:36.645459",
     "status": "completed"
    },
    "tags": []
   },
   "outputs": [],
   "source": [
    "#hide\n",
    "import pandas as pd\n",
    "import matplotlib.pyplot as plt\n",
    "import matplotlib.ticker as ticker\n",
    "import matplotlib.animation as animation\n",
    "from IPython.display import HTML"
   ]
  },
  {
   "cell_type": "code",
   "execution_count": 21,
   "id": "lasting-extraction",
   "metadata": {
    "execution": {
     "iopub.execute_input": "2021-06-09T12:10:37.553925Z",
     "iopub.status.busy": "2021-06-09T12:10:37.553369Z",
     "iopub.status.idle": "2021-06-09T12:10:37.558884Z",
     "shell.execute_reply": "2021-06-09T12:10:37.558333Z"
    },
    "papermill": {
     "duration": 0.043227,
     "end_time": "2021-06-09T12:10:37.558990",
     "exception": false,
     "start_time": "2021-06-09T12:10:37.515763",
     "status": "completed"
    },
    "tags": []
   },
   "outputs": [],
   "source": [
    "#hide\n",
    "t = everydaycases.stack()"
   ]
  },
  {
   "cell_type": "code",
   "execution_count": 22,
   "id": "premier-sleeve",
   "metadata": {
    "execution": {
     "iopub.execute_input": "2021-06-09T12:10:37.631813Z",
     "iopub.status.busy": "2021-06-09T12:10:37.631257Z",
     "iopub.status.idle": "2021-06-09T12:10:37.639896Z",
     "shell.execute_reply": "2021-06-09T12:10:37.640333Z"
    },
    "papermill": {
     "duration": 0.046934,
     "end_time": "2021-06-09T12:10:37.640587",
     "exception": false,
     "start_time": "2021-06-09T12:10:37.593653",
     "status": "completed"
    },
    "tags": []
   },
   "outputs": [],
   "source": [
    "#hide\n",
    "g = t.reset_index(['Country/Region'])"
   ]
  },
  {
   "cell_type": "code",
   "execution_count": 23,
   "id": "distributed-pittsburgh",
   "metadata": {
    "execution": {
     "iopub.execute_input": "2021-06-09T12:10:37.714240Z",
     "iopub.status.busy": "2021-06-09T12:10:37.713552Z",
     "iopub.status.idle": "2021-06-09T12:10:37.717271Z",
     "shell.execute_reply": "2021-06-09T12:10:37.716797Z"
    },
    "papermill": {
     "duration": 0.041397,
     "end_time": "2021-06-09T12:10:37.717393",
     "exception": false,
     "start_time": "2021-06-09T12:10:37.675996",
     "status": "completed"
    },
    "tags": []
   },
   "outputs": [],
   "source": [
    "#hide\n",
    "g.index.name = 'date'"
   ]
  },
  {
   "cell_type": "code",
   "execution_count": 24,
   "id": "naked-donor",
   "metadata": {
    "execution": {
     "iopub.execute_input": "2021-06-09T12:10:37.785749Z",
     "iopub.status.busy": "2021-06-09T12:10:37.785204Z",
     "iopub.status.idle": "2021-06-09T12:10:37.788495Z",
     "shell.execute_reply": "2021-06-09T12:10:37.788917Z"
    },
    "papermill": {
     "duration": 0.038636,
     "end_time": "2021-06-09T12:10:37.789034",
     "exception": false,
     "start_time": "2021-06-09T12:10:37.750398",
     "status": "completed"
    },
    "tags": []
   },
   "outputs": [],
   "source": [
    "# #hide\n",
    "# g = g.reset_index(['date'])"
   ]
  },
  {
   "cell_type": "code",
   "execution_count": 25,
   "id": "incomplete-mustang",
   "metadata": {
    "execution": {
     "iopub.execute_input": "2021-06-09T12:10:37.862560Z",
     "iopub.status.busy": "2021-06-09T12:10:37.860845Z",
     "iopub.status.idle": "2021-06-09T12:10:37.863527Z",
     "shell.execute_reply": "2021-06-09T12:10:37.864104Z"
    },
    "papermill": {
     "duration": 0.040996,
     "end_time": "2021-06-09T12:10:37.864220",
     "exception": false,
     "start_time": "2021-06-09T12:10:37.823224",
     "status": "completed"
    },
    "tags": []
   },
   "outputs": [],
   "source": [
    "#hide\n",
    "# g.head()"
   ]
  },
  {
   "cell_type": "code",
   "execution_count": 26,
   "id": "specific-kruger",
   "metadata": {
    "execution": {
     "iopub.execute_input": "2021-06-09T12:10:37.943803Z",
     "iopub.status.busy": "2021-06-09T12:10:37.943073Z",
     "iopub.status.idle": "2021-06-09T12:10:37.947789Z",
     "shell.execute_reply": "2021-06-09T12:10:37.947303Z"
    },
    "papermill": {
     "duration": 0.04361,
     "end_time": "2021-06-09T12:10:37.947893",
     "exception": false,
     "start_time": "2021-06-09T12:10:37.904283",
     "status": "completed"
    },
    "tags": []
   },
   "outputs": [],
   "source": [
    "#hide\n",
    "# g.columns = ['date','country','cases']"
   ]
  },
  {
   "cell_type": "code",
   "execution_count": 27,
   "id": "tender-conversion",
   "metadata": {
    "execution": {
     "iopub.execute_input": "2021-06-09T12:10:38.014602Z",
     "iopub.status.busy": "2021-06-09T12:10:38.013809Z",
     "iopub.status.idle": "2021-06-09T12:10:38.018080Z",
     "shell.execute_reply": "2021-06-09T12:10:38.017495Z"
    },
    "papermill": {
     "duration": 0.03799,
     "end_time": "2021-06-09T12:10:38.018180",
     "exception": false,
     "start_time": "2021-06-09T12:10:37.980190",
     "status": "completed"
    },
    "tags": []
   },
   "outputs": [],
   "source": [
    "#hide\n",
    "# g['continent'] = g.country"
   ]
  },
  {
   "cell_type": "code",
   "execution_count": 28,
   "id": "substantial-wilderness",
   "metadata": {
    "execution": {
     "iopub.execute_input": "2021-06-09T12:10:38.091944Z",
     "iopub.status.busy": "2021-06-09T12:10:38.091290Z",
     "iopub.status.idle": "2021-06-09T12:10:38.093378Z",
     "shell.execute_reply": "2021-06-09T12:10:38.093972Z"
    },
    "papermill": {
     "duration": 0.043237,
     "end_time": "2021-06-09T12:10:38.094093",
     "exception": false,
     "start_time": "2021-06-09T12:10:38.050856",
     "status": "completed"
    },
    "tags": []
   },
   "outputs": [],
   "source": [
    "#hide\n",
    "# cols = list(g.columns.values)"
   ]
  },
  {
   "cell_type": "code",
   "execution_count": 29,
   "id": "solved-farming",
   "metadata": {
    "execution": {
     "iopub.execute_input": "2021-06-09T12:10:38.170785Z",
     "iopub.status.busy": "2021-06-09T12:10:38.170040Z",
     "iopub.status.idle": "2021-06-09T12:10:38.172252Z",
     "shell.execute_reply": "2021-06-09T12:10:38.172692Z"
    },
    "papermill": {
     "duration": 0.041704,
     "end_time": "2021-06-09T12:10:38.172804",
     "exception": false,
     "start_time": "2021-06-09T12:10:38.131100",
     "status": "completed"
    },
    "tags": []
   },
   "outputs": [],
   "source": [
    "#hide\n",
    "# cols.insert(0, cols.pop())"
   ]
  },
  {
   "cell_type": "code",
   "execution_count": 30,
   "id": "executed-adoption",
   "metadata": {
    "execution": {
     "iopub.execute_input": "2021-06-09T12:10:38.242720Z",
     "iopub.status.busy": "2021-06-09T12:10:38.241898Z",
     "iopub.status.idle": "2021-06-09T12:10:38.244505Z",
     "shell.execute_reply": "2021-06-09T12:10:38.244057Z"
    },
    "papermill": {
     "duration": 0.036361,
     "end_time": "2021-06-09T12:10:38.244602",
     "exception": false,
     "start_time": "2021-06-09T12:10:38.208241",
     "status": "completed"
    },
    "tags": []
   },
   "outputs": [],
   "source": [
    "#hide\n",
    "# g = g[cols]"
   ]
  },
  {
   "cell_type": "code",
   "execution_count": 31,
   "id": "subject-dublin",
   "metadata": {
    "execution": {
     "iopub.execute_input": "2021-06-09T12:10:38.310461Z",
     "iopub.status.busy": "2021-06-09T12:10:38.309913Z",
     "iopub.status.idle": "2021-06-09T12:10:38.312148Z",
     "shell.execute_reply": "2021-06-09T12:10:38.311717Z"
    },
    "papermill": {
     "duration": 0.036998,
     "end_time": "2021-06-09T12:10:38.312244",
     "exception": false,
     "start_time": "2021-06-09T12:10:38.275246",
     "status": "completed"
    },
    "tags": []
   },
   "outputs": [],
   "source": [
    "#hide\n",
    "# g['continent'] = g['continent'].map(mapping['map.continent'])"
   ]
  },
  {
   "cell_type": "code",
   "execution_count": 32,
   "id": "freelance-scout",
   "metadata": {
    "execution": {
     "iopub.execute_input": "2021-06-09T12:10:38.387148Z",
     "iopub.status.busy": "2021-06-09T12:10:38.386539Z",
     "iopub.status.idle": "2021-06-09T12:10:38.388616Z",
     "shell.execute_reply": "2021-06-09T12:10:38.389159Z"
    },
    "papermill": {
     "duration": 0.044827,
     "end_time": "2021-06-09T12:10:38.389294",
     "exception": false,
     "start_time": "2021-06-09T12:10:38.344467",
     "status": "completed"
    },
    "tags": []
   },
   "outputs": [],
   "source": [
    "#hide\n",
    "# g.head()"
   ]
  },
  {
   "cell_type": "code",
   "execution_count": 33,
   "id": "limited-engine",
   "metadata": {
    "execution": {
     "iopub.execute_input": "2021-06-09T12:10:38.461712Z",
     "iopub.status.busy": "2021-06-09T12:10:38.461168Z",
     "iopub.status.idle": "2021-06-09T12:10:38.463164Z",
     "shell.execute_reply": "2021-06-09T12:10:38.463555Z"
    },
    "papermill": {
     "duration": 0.039197,
     "end_time": "2021-06-09T12:10:38.463664",
     "exception": false,
     "start_time": "2021-06-09T12:10:38.424467",
     "status": "completed"
    },
    "tags": []
   },
   "outputs": [],
   "source": [
    "# hide\n",
    "# g['date'] = g['date'].astype('datetime64[ns]')"
   ]
  },
  {
   "cell_type": "code",
   "execution_count": 34,
   "id": "sophisticated-supervisor",
   "metadata": {
    "execution": {
     "iopub.execute_input": "2021-06-09T12:10:38.532453Z",
     "iopub.status.busy": "2021-06-09T12:10:38.531894Z",
     "iopub.status.idle": "2021-06-09T12:10:38.534124Z",
     "shell.execute_reply": "2021-06-09T12:10:38.533562Z"
    },
    "papermill": {
     "duration": 0.039946,
     "end_time": "2021-06-09T12:10:38.534233",
     "exception": false,
     "start_time": "2021-06-09T12:10:38.494287",
     "status": "completed"
    },
    "tags": []
   },
   "outputs": [],
   "source": [
    "#hide\n",
    "# g['date'] = g.date.dt.dayofyear"
   ]
  },
  {
   "cell_type": "code",
   "execution_count": 35,
   "id": "inside-dubai",
   "metadata": {
    "execution": {
     "iopub.execute_input": "2021-06-09T12:10:38.604266Z",
     "iopub.status.busy": "2021-06-09T12:10:38.603698Z",
     "iopub.status.idle": "2021-06-09T12:10:38.605849Z",
     "shell.execute_reply": "2021-06-09T12:10:38.605197Z"
    },
    "papermill": {
     "duration": 0.039702,
     "end_time": "2021-06-09T12:10:38.605985",
     "exception": false,
     "start_time": "2021-06-09T12:10:38.566283",
     "status": "completed"
    },
    "tags": []
   },
   "outputs": [],
   "source": [
    "#hide\n",
    "# g = g.rename(columns= {'continent':'group','country':'name','cases':'value'})"
   ]
  },
  {
   "cell_type": "code",
   "execution_count": 36,
   "id": "fleet-motorcycle",
   "metadata": {
    "execution": {
     "iopub.execute_input": "2021-06-09T12:10:38.676854Z",
     "iopub.status.busy": "2021-06-09T12:10:38.675974Z",
     "iopub.status.idle": "2021-06-09T12:10:38.678315Z",
     "shell.execute_reply": "2021-06-09T12:10:38.677884Z"
    },
    "papermill": {
     "duration": 0.038642,
     "end_time": "2021-06-09T12:10:38.678432",
     "exception": false,
     "start_time": "2021-06-09T12:10:38.639790",
     "status": "completed"
    },
    "tags": []
   },
   "outputs": [],
   "source": [
    "#hide\n",
    "# cols = ['name','group','day','value']"
   ]
  },
  {
   "cell_type": "code",
   "execution_count": 37,
   "id": "continued-sleeping",
   "metadata": {
    "execution": {
     "iopub.execute_input": "2021-06-09T12:10:38.753800Z",
     "iopub.status.busy": "2021-06-09T12:10:38.753033Z",
     "iopub.status.idle": "2021-06-09T12:10:38.755341Z",
     "shell.execute_reply": "2021-06-09T12:10:38.754705Z"
    },
    "papermill": {
     "duration": 0.043564,
     "end_time": "2021-06-09T12:10:38.755448",
     "exception": false,
     "start_time": "2021-06-09T12:10:38.711884",
     "status": "completed"
    },
    "tags": []
   },
   "outputs": [],
   "source": [
    "#hide\n",
    "# g.rename(columns= {'date':'day'},inplace = True)"
   ]
  },
  {
   "cell_type": "code",
   "execution_count": 38,
   "id": "major-fight",
   "metadata": {
    "execution": {
     "iopub.execute_input": "2021-06-09T12:10:38.835873Z",
     "iopub.status.busy": "2021-06-09T12:10:38.835297Z",
     "iopub.status.idle": "2021-06-09T12:10:38.837893Z",
     "shell.execute_reply": "2021-06-09T12:10:38.837155Z"
    },
    "papermill": {
     "duration": 0.042285,
     "end_time": "2021-06-09T12:10:38.838022",
     "exception": false,
     "start_time": "2021-06-09T12:10:38.795737",
     "status": "completed"
    },
    "tags": []
   },
   "outputs": [],
   "source": [
    "#hide\n",
    "# g = g[cols]"
   ]
  },
  {
   "cell_type": "code",
   "execution_count": 39,
   "id": "structured-mobile",
   "metadata": {
    "execution": {
     "iopub.execute_input": "2021-06-09T12:10:38.923870Z",
     "iopub.status.busy": "2021-06-09T12:10:38.923046Z",
     "iopub.status.idle": "2021-06-09T12:10:38.925371Z",
     "shell.execute_reply": "2021-06-09T12:10:38.925814Z"
    },
    "papermill": {
     "duration": 0.04927,
     "end_time": "2021-06-09T12:10:38.925935",
     "exception": false,
     "start_time": "2021-06-09T12:10:38.876665",
     "status": "completed"
    },
    "tags": []
   },
   "outputs": [],
   "source": [
    "# #hide\n",
    "# g = g[g.group.notna()]"
   ]
  },
  {
   "cell_type": "code",
   "execution_count": 40,
   "id": "determined-closing",
   "metadata": {
    "execution": {
     "iopub.execute_input": "2021-06-09T12:10:38.996147Z",
     "iopub.status.busy": "2021-06-09T12:10:38.995532Z",
     "iopub.status.idle": "2021-06-09T12:10:38.997922Z",
     "shell.execute_reply": "2021-06-09T12:10:38.997463Z"
    },
    "papermill": {
     "duration": 0.036951,
     "end_time": "2021-06-09T12:10:38.998023",
     "exception": false,
     "start_time": "2021-06-09T12:10:38.961072",
     "status": "completed"
    },
    "tags": []
   },
   "outputs": [],
   "source": [
    "# #hide\n",
    "# colors = dict(zip(\n",
    "#     [\"Oceania\", \"Europe\", \"Asia\", \"South America\", \"Middle East\", \"North America\", \"Africa\"],\n",
    "#     [\"#adb0ff\", \"#ffb3ff\", \"#90d595\", \"#e48381\", \"#aafbff\", \"#f7bb5f\", \"#eafb50\"]\n",
    "# ))\n",
    "# group_lk = g.set_index('name')['group'].to_dict()"
   ]
  },
  {
   "cell_type": "code",
   "execution_count": null,
   "id": "gross-drinking",
   "metadata": {
    "papermill": {
     "duration": 0.033004,
     "end_time": "2021-06-09T12:10:39.067828",
     "exception": false,
     "start_time": "2021-06-09T12:10:39.034824",
     "status": "completed"
    },
    "tags": []
   },
   "outputs": [],
   "source": []
  },
  {
   "cell_type": "code",
   "execution_count": 41,
   "id": "subject-macintosh",
   "metadata": {
    "execution": {
     "iopub.execute_input": "2021-06-09T12:10:39.139808Z",
     "iopub.status.busy": "2021-06-09T12:10:39.139162Z",
     "iopub.status.idle": "2021-06-09T12:10:39.141134Z",
     "shell.execute_reply": "2021-06-09T12:10:39.141719Z"
    },
    "papermill": {
     "duration": 0.040416,
     "end_time": "2021-06-09T12:10:39.141833",
     "exception": false,
     "start_time": "2021-06-09T12:10:39.101417",
     "status": "completed"
    },
    "tags": []
   },
   "outputs": [],
   "source": [
    "# #hide\n",
    "# fig, ax = plt.subplots(figsize=(15, 8))\n",
    "\n",
    "# def draw_barchart(current_day):\n",
    "#     dff = g[g['day'].eq(current_day)].sort_values(by='value', ascending=True).tail(10)\n",
    "#     ax.clear()\n",
    "#     ax.barh(dff['name'], dff['value'], color=[colors[group_lk[x]] for x in dff['name']])\n",
    "#     dx = dff['value'].max() / 200\n",
    "    \n",
    "#     for i, (value, name) in enumerate(zip(dff['value'], dff['name'])):\n",
    "#         ax.text(value-dx, i,     name,           size=14, weight=600, ha='right', va='bottom')\n",
    "#         ax.text(value-dx, i-.25, group_lk[name], size=10, color='#444444', ha='right', va='baseline')\n",
    "#         ax.text(value+dx, i,     f'{value:,.0f}',  size=14, ha='left',  va='center')\n",
    "#     ax.text(1, 0.4, current_day, transform=ax.transAxes, color='#777777', size=46, ha='right', weight=800)\n",
    "#     ax.text(0, 1.06, 'Population (thousands)', transform=ax.transAxes, size=12, color='#777777')\n",
    "#     ax.xaxis.set_major_formatter(ticker.StrMethodFormatter('{x:,.0f}'))\n",
    "#     ax.xaxis.set_ticks_position('top')\n",
    "#     ax.tick_params(axis='x', colors='#777777', labelsize=12)\n",
    "#     ax.set_yticks([])\n",
    "#     ax.margins(0, 0.01)\n",
    "#     ax.grid(which='major', axis='x', linestyle='-')\n",
    "#     ax.set_axisbelow(True)\n",
    "    \n",
    "#     ax.text(0, 1.15, 'Coronavirus',\n",
    "#             transform=ax.transAxes, size=24, weight=600, ha='left', va='top')\n",
    "# #     ax.text(1, 0, 'by @pratapvardhan; credit @jburnmurdoch', transform=ax.transAxes, color='#777777', ha='right',\n",
    "# #             bbox=dict(facecolor='white', alpha=0.8, edgecolor='white'))\n",
    "#     plt.box(False)"
   ]
  },
  {
   "cell_type": "code",
   "execution_count": 42,
   "id": "sexual-wages",
   "metadata": {
    "execution": {
     "iopub.execute_input": "2021-06-09T12:10:39.213739Z",
     "iopub.status.busy": "2021-06-09T12:10:39.213115Z",
     "iopub.status.idle": "2021-06-09T12:10:39.215083Z",
     "shell.execute_reply": "2021-06-09T12:10:39.215516Z"
    },
    "papermill": {
     "duration": 0.039787,
     "end_time": "2021-06-09T12:10:39.215633",
     "exception": false,
     "start_time": "2021-06-09T12:10:39.175846",
     "status": "completed"
    },
    "tags": []
   },
   "outputs": [],
   "source": [
    "# #hide_input\n",
    "# fig, ax = plt.subplots(figsize=(15, 8))\n",
    "# animator = animation.FuncAnimation(fig, draw_barchart, frames=range(g.day.values.min(), g.day.values.max()))\n",
    "# HTML(animator.to_jshtml())\n",
    "# # or use animator.to_html5_video() or animator.save() "
   ]
  },
  {
   "cell_type": "code",
   "execution_count": null,
   "id": "australian-container",
   "metadata": {
    "papermill": {
     "duration": 0.030543,
     "end_time": "2021-06-09T12:10:39.279108",
     "exception": false,
     "start_time": "2021-06-09T12:10:39.248565",
     "status": "completed"
    },
    "tags": []
   },
   "outputs": [],
   "source": []
  },
  {
   "cell_type": "code",
   "execution_count": null,
   "id": "mediterranean-pontiac",
   "metadata": {
    "papermill": {
     "duration": 0.031967,
     "end_time": "2021-06-09T12:10:39.343666",
     "exception": false,
     "start_time": "2021-06-09T12:10:39.311699",
     "status": "completed"
    },
    "tags": []
   },
   "outputs": [],
   "source": []
  },
  {
   "cell_type": "code",
   "execution_count": null,
   "id": "aging-legislature",
   "metadata": {
    "papermill": {
     "duration": 0.039029,
     "end_time": "2021-06-09T12:10:39.423592",
     "exception": false,
     "start_time": "2021-06-09T12:10:39.384563",
     "status": "completed"
    },
    "tags": []
   },
   "outputs": [],
   "source": []
  }
 ],
 "metadata": {
  "kernelspec": {
   "display_name": "Python 3",
   "language": "python",
   "name": "python3"
  },
  "language_info": {
   "codemirror_mode": {
    "name": "ipython",
    "version": 3
   },
   "file_extension": ".py",
   "mimetype": "text/x-python",
   "name": "python",
   "nbconvert_exporter": "python",
   "pygments_lexer": "ipython3",
   "version": "3.6.13"
  },
  "papermill": {
   "duration": 7.339301,
   "end_time": "2021-06-09T12:10:40.617669",
   "environment_variables": {},
   "exception": null,
   "input_path": "2020-03-21-covid19exp.ipynb",
   "output_path": "2020-03-21-covid19exp.ipynb",
   "parameters": {},
   "start_time": "2021-06-09T12:10:33.278368",
   "version": "2.0.0"
  }
 },
 "nbformat": 4,
 "nbformat_minor": 5
}