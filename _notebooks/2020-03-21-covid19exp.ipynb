{
 "cells": [
  {
   "cell_type": "markdown",
   "id": "muslim-click",
   "metadata": {
    "papermill": {
     "duration": 0.034073,
     "end_time": "2022-04-24T00:36:09.483031",
     "exception": false,
     "start_time": "2022-04-24T00:36:09.448958",
     "status": "completed"
    },
    "tags": []
   },
   "source": [
    "# COVID-19 Case Race\n",
    "> A race chart to see rising cases around the world\n",
    "\n",
    "- author: Hargun Oberoi\n",
    "- image: images/covid-overview.png\n",
    "- hide: false\n",
    "- badges: false"
   ]
  },
  {
   "cell_type": "code",
   "execution_count": 1,
   "id": "proof-material",
   "metadata": {
    "execution": {
     "iopub.execute_input": "2022-04-24T00:36:09.553187Z",
     "iopub.status.busy": "2022-04-24T00:36:09.552640Z",
     "iopub.status.idle": "2022-04-24T00:36:09.879432Z",
     "shell.execute_reply": "2022-04-24T00:36:09.879920Z"
    },
    "papermill": {
     "duration": 0.366114,
     "end_time": "2022-04-24T00:36:09.880105",
     "exception": false,
     "start_time": "2022-04-24T00:36:09.513991",
     "status": "completed"
    },
    "tags": []
   },
   "outputs": [],
   "source": [
    "#hide\n",
    "import numpy as np\n",
    "import pandas as pd\n",
    "from jinja2 import Template\n",
    "from IPython.display import HTML"
   ]
  },
  {
   "cell_type": "code",
   "execution_count": 2,
   "id": "developed-terminology",
   "metadata": {
    "execution": {
     "iopub.execute_input": "2022-04-24T00:36:09.944658Z",
     "iopub.status.busy": "2022-04-24T00:36:09.944101Z",
     "iopub.status.idle": "2022-04-24T00:36:09.946167Z",
     "shell.execute_reply": "2022-04-24T00:36:09.946575Z"
    },
    "papermill": {
     "duration": 0.036308,
     "end_time": "2022-04-24T00:36:09.946701",
     "exception": false,
     "start_time": "2022-04-24T00:36:09.910393",
     "status": "completed"
    },
    "tags": []
   },
   "outputs": [],
   "source": [
    "#hide\n",
    "\n",
    "# FETCH\n",
    "base_url = 'https://raw.githubusercontent.com/pratapvardhan/notebooks/master/covid19/'\n",
    "paths = {\n",
    "    'mapping': base_url + 'mapping_countries.csv',\n",
    "    'overview': base_url + 'overview.tpl'\n",
    "}"
   ]
  },
  {
   "cell_type": "code",
   "execution_count": 3,
   "id": "dynamic-saver",
   "metadata": {
    "execution": {
     "iopub.execute_input": "2022-04-24T00:36:10.014193Z",
     "iopub.status.busy": "2022-04-24T00:36:10.013670Z",
     "iopub.status.idle": "2022-04-24T00:36:10.017566Z",
     "shell.execute_reply": "2022-04-24T00:36:10.017974Z"
    },
    "papermill": {
     "duration": 0.042374,
     "end_time": "2022-04-24T00:36:10.018099",
     "exception": false,
     "start_time": "2022-04-24T00:36:09.975725",
     "status": "completed"
    },
    "tags": []
   },
   "outputs": [
    {
     "data": {
      "text/plain": [
       "'https://raw.githubusercontent.com/pratapvardhan/notebooks/master/covid19/mapping_countries.csv'"
      ]
     },
     "execution_count": 3,
     "metadata": {},
     "output_type": "execute_result"
    }
   ],
   "source": [
    "#hide\n",
    "paths['mapping']"
   ]
  },
  {
   "cell_type": "code",
   "execution_count": 4,
   "id": "urban-software",
   "metadata": {
    "execution": {
     "iopub.execute_input": "2022-04-24T00:36:10.082249Z",
     "iopub.status.busy": "2022-04-24T00:36:10.081721Z",
     "iopub.status.idle": "2022-04-24T00:36:10.083926Z",
     "shell.execute_reply": "2022-04-24T00:36:10.083496Z"
    },
    "papermill": {
     "duration": 0.036379,
     "end_time": "2022-04-24T00:36:10.084032",
     "exception": false,
     "start_time": "2022-04-24T00:36:10.047653",
     "status": "completed"
    },
    "tags": []
   },
   "outputs": [],
   "source": [
    "#hide\n",
    "def get_mappings(url):\n",
    "    df = pd.read_csv(url)\n",
    "    return {\n",
    "        'df': df,\n",
    "        'replace.country': dict(df.dropna(subset=['Name']).set_index('Country')['Name']),\n",
    "        'map.continent': dict(df.set_index('Name')['Continent'])\n",
    "    }"
   ]
  },
  {
   "cell_type": "code",
   "execution_count": 5,
   "id": "intimate-machinery",
   "metadata": {
    "execution": {
     "iopub.execute_input": "2022-04-24T00:36:10.147938Z",
     "iopub.status.busy": "2022-04-24T00:36:10.147423Z",
     "iopub.status.idle": "2022-04-24T00:36:10.210344Z",
     "shell.execute_reply": "2022-04-24T00:36:10.209861Z"
    },
    "papermill": {
     "duration": 0.09705,
     "end_time": "2022-04-24T00:36:10.210473",
     "exception": false,
     "start_time": "2022-04-24T00:36:10.113423",
     "status": "completed"
    },
    "tags": []
   },
   "outputs": [],
   "source": [
    "#hide\n",
    "mapping = get_mappings(paths['mapping'])"
   ]
  },
  {
   "cell_type": "code",
   "execution_count": 6,
   "id": "certified-tactics",
   "metadata": {
    "execution": {
     "iopub.execute_input": "2022-04-24T00:36:10.274985Z",
     "iopub.status.busy": "2022-04-24T00:36:10.274456Z",
     "iopub.status.idle": "2022-04-24T00:36:10.276626Z",
     "shell.execute_reply": "2022-04-24T00:36:10.276212Z"
    },
    "papermill": {
     "duration": 0.03632,
     "end_time": "2022-04-24T00:36:10.276739",
     "exception": false,
     "start_time": "2022-04-24T00:36:10.240419",
     "status": "completed"
    },
    "tags": []
   },
   "outputs": [],
   "source": [
    "#hide\n",
    "def get_template(path):\n",
    "    from urllib.parse import urlparse\n",
    "    if bool(urlparse(path).netloc):\n",
    "        from urllib.request import urlopen\n",
    "        return urlopen(path).read().decode('utf8')\n",
    "    return open(path).read()"
   ]
  },
  {
   "cell_type": "code",
   "execution_count": 7,
   "id": "realistic-blast",
   "metadata": {
    "execution": {
     "iopub.execute_input": "2022-04-24T00:36:10.340839Z",
     "iopub.status.busy": "2022-04-24T00:36:10.340230Z",
     "iopub.status.idle": "2022-04-24T00:36:10.343040Z",
     "shell.execute_reply": "2022-04-24T00:36:10.342596Z"
    },
    "papermill": {
     "duration": 0.03694,
     "end_time": "2022-04-24T00:36:10.343151",
     "exception": false,
     "start_time": "2022-04-24T00:36:10.306211",
     "status": "completed"
    },
    "tags": []
   },
   "outputs": [],
   "source": [
    "#hide\n",
    "def get_frame(name):\n",
    "    url = (\n",
    "        'https://raw.githubusercontent.com/CSSEGISandData/COVID-19/master/csse_covid_19_data/'\n",
    "        f'csse_covid_19_time_series/time_series_covid19_{name}_global.csv')\n",
    "    df = pd.read_csv(url)\n",
    "    # rename countries\n",
    "    df['Country/Region'] = df['Country/Region'].replace(mapping['replace.country'])\n",
    "    return df"
   ]
  },
  {
   "cell_type": "code",
   "execution_count": 8,
   "id": "affiliated-characterization",
   "metadata": {
    "execution": {
     "iopub.execute_input": "2022-04-24T00:36:10.407464Z",
     "iopub.status.busy": "2022-04-24T00:36:10.406942Z",
     "iopub.status.idle": "2022-04-24T00:36:10.409065Z",
     "shell.execute_reply": "2022-04-24T00:36:10.408634Z"
    },
    "papermill": {
     "duration": 0.036527,
     "end_time": "2022-04-24T00:36:10.409171",
     "exception": false,
     "start_time": "2022-04-24T00:36:10.372644",
     "status": "completed"
    },
    "tags": []
   },
   "outputs": [],
   "source": [
    "#hide\n",
    "def get_dates(df):\n",
    "    dt_cols = df.columns[~df.columns.isin(['Province/State', 'Country/Region', 'Lat', 'Long'])]\n",
    "    LAST_DATE_I = -1\n",
    "    # sometimes last column may be empty, then go backwards\n",
    "    for i in range(-1, -len(dt_cols), -1):\n",
    "        if not df[dt_cols[i]].fillna(0).eq(0).all():\n",
    "            LAST_DATE_I = i\n",
    "            break\n",
    "    return LAST_DATE_I, dt_cols"
   ]
  },
  {
   "cell_type": "code",
   "execution_count": 9,
   "id": "recent-optimization",
   "metadata": {
    "execution": {
     "iopub.execute_input": "2022-04-24T00:36:10.471725Z",
     "iopub.status.busy": "2022-04-24T00:36:10.471211Z",
     "iopub.status.idle": "2022-04-24T00:36:11.089223Z",
     "shell.execute_reply": "2022-04-24T00:36:11.088706Z"
    },
    "papermill": {
     "duration": 0.650865,
     "end_time": "2022-04-24T00:36:11.089363",
     "exception": false,
     "start_time": "2022-04-24T00:36:10.438498",
     "status": "completed"
    },
    "tags": []
   },
   "outputs": [],
   "source": [
    "#hide\n",
    "COL_REGION = 'Country/Region'\n",
    "# Confirmed, Recovered, Deaths\n",
    "df = get_frame('confirmed')\n",
    "# dft_: timeseries, dfc_: today country agg\n",
    "dft_cases = df\n",
    "dft_deaths = get_frame('deaths')\n",
    "dft_recovered = get_frame('recovered')\n",
    "LAST_DATE_I, dt_cols = get_dates(df)"
   ]
  },
  {
   "cell_type": "code",
   "execution_count": 10,
   "id": "absolute-copper",
   "metadata": {
    "execution": {
     "iopub.execute_input": "2022-04-24T00:36:11.155451Z",
     "iopub.status.busy": "2022-04-24T00:36:11.154831Z",
     "iopub.status.idle": "2022-04-24T00:36:11.156263Z",
     "shell.execute_reply": "2022-04-24T00:36:11.156780Z"
    },
    "papermill": {
     "duration": 0.036943,
     "end_time": "2022-04-24T00:36:11.156910",
     "exception": false,
     "start_time": "2022-04-24T00:36:11.119967",
     "status": "completed"
    },
    "tags": []
   },
   "outputs": [],
   "source": [
    "#hide\n",
    "LAST_DATE_I, dt_cols = get_dates(df)\n",
    "dt_today =dt_cols[LAST_DATE_I]\n",
    "# dt_5day = dt_cols[LAST_DATE_I - 5]\n",
    "dt_yday = dt_cols[LAST_DATE_I - 1]"
   ]
  },
  {
   "cell_type": "code",
   "execution_count": 11,
   "id": "restricted-sheriff",
   "metadata": {
    "execution": {
     "iopub.execute_input": "2022-04-24T00:36:11.223637Z",
     "iopub.status.busy": "2022-04-24T00:36:11.223033Z",
     "iopub.status.idle": "2022-04-24T00:36:11.228905Z",
     "shell.execute_reply": "2022-04-24T00:36:11.229402Z"
    },
    "papermill": {
     "duration": 0.042934,
     "end_time": "2022-04-24T00:36:11.229541",
     "exception": false,
     "start_time": "2022-04-24T00:36:11.186607",
     "status": "completed"
    },
    "tags": []
   },
   "outputs": [],
   "source": [
    "#hide\n",
    "dfc_cases = dft_cases.groupby(COL_REGION)[dt_today].sum()\n",
    "dfc_deaths = dft_deaths.groupby(COL_REGION)[dt_today].sum()\n",
    "# dfp_cases = dft_cases.groupby(COL_REGION)[dt_5day].sum()\n",
    "# dfp_deaths = dft_deaths.groupby(COL_REGION)[dt_5day].sum()\n",
    "dfp_cases = dft_cases.groupby(COL_REGION)[dt_yday].sum()\n",
    "dfp_deaths = dft_deaths.groupby(COL_REGION)[dt_yday].sum()"
   ]
  },
  {
   "cell_type": "code",
   "execution_count": 12,
   "id": "deluxe-hepatitis",
   "metadata": {
    "execution": {
     "iopub.execute_input": "2022-04-24T00:36:11.295906Z",
     "iopub.status.busy": "2022-04-24T00:36:11.295308Z",
     "iopub.status.idle": "2022-04-24T00:36:11.299859Z",
     "shell.execute_reply": "2022-04-24T00:36:11.300278Z"
    },
    "papermill": {
     "duration": 0.0408,
     "end_time": "2022-04-24T00:36:11.300412",
     "exception": false,
     "start_time": "2022-04-24T00:36:11.259612",
     "status": "completed"
    },
    "tags": []
   },
   "outputs": [],
   "source": [
    "#hide\n",
    "df_table = (pd.DataFrame(dict(Cases = dfc_cases, Deaths = dfc_deaths, PCases = dfp_cases, PDeaths = dfp_deaths))\n",
    "            .sort_values(by = ['Cases','Deaths'], ascending = [False, False])\n",
    "            .reset_index())"
   ]
  },
  {
   "cell_type": "code",
   "execution_count": 13,
   "id": "educational-chancellor",
   "metadata": {
    "execution": {
     "iopub.execute_input": "2022-04-24T00:36:11.378114Z",
     "iopub.status.busy": "2022-04-24T00:36:11.377569Z",
     "iopub.status.idle": "2022-04-24T00:36:11.384882Z",
     "shell.execute_reply": "2022-04-24T00:36:11.384417Z"
    },
    "papermill": {
     "duration": 0.055017,
     "end_time": "2022-04-24T00:36:11.384993",
     "exception": false,
     "start_time": "2022-04-24T00:36:11.329976",
     "status": "completed"
    },
    "tags": []
   },
   "outputs": [
    {
     "data": {
      "text/html": [
       "<div>\n",
       "<style scoped>\n",
       "    .dataframe tbody tr th:only-of-type {\n",
       "        vertical-align: middle;\n",
       "    }\n",
       "\n",
       "    .dataframe tbody tr th {\n",
       "        vertical-align: top;\n",
       "    }\n",
       "\n",
       "    .dataframe thead th {\n",
       "        text-align: right;\n",
       "    }\n",
       "</style>\n",
       "<table border=\"1\" class=\"dataframe\">\n",
       "  <thead>\n",
       "    <tr style=\"text-align: right;\">\n",
       "      <th></th>\n",
       "      <th>Country/Region</th>\n",
       "      <th>Cases</th>\n",
       "      <th>Deaths</th>\n",
       "      <th>PCases</th>\n",
       "      <th>PDeaths</th>\n",
       "      <th>Cases (+)</th>\n",
       "      <th>Deaths (+)</th>\n",
       "      <th>Fatality Rate</th>\n",
       "      <th>Continent</th>\n",
       "    </tr>\n",
       "  </thead>\n",
       "  <tbody>\n",
       "    <tr>\n",
       "      <th>0</th>\n",
       "      <td>US</td>\n",
       "      <td>80952268</td>\n",
       "      <td>991169</td>\n",
       "      <td>80850913</td>\n",
       "      <td>990679</td>\n",
       "      <td>101355</td>\n",
       "      <td>490</td>\n",
       "      <td>1.22</td>\n",
       "      <td>North America</td>\n",
       "    </tr>\n",
       "    <tr>\n",
       "      <th>1</th>\n",
       "      <td>India</td>\n",
       "      <td>43054952</td>\n",
       "      <td>522149</td>\n",
       "      <td>43052425</td>\n",
       "      <td>522116</td>\n",
       "      <td>2527</td>\n",
       "      <td>33</td>\n",
       "      <td>1.21</td>\n",
       "      <td>Asia</td>\n",
       "    </tr>\n",
       "    <tr>\n",
       "      <th>2</th>\n",
       "      <td>Brazil</td>\n",
       "      <td>30338697</td>\n",
       "      <td>662802</td>\n",
       "      <td>30330629</td>\n",
       "      <td>662751</td>\n",
       "      <td>8068</td>\n",
       "      <td>51</td>\n",
       "      <td>2.18</td>\n",
       "      <td>South America</td>\n",
       "    </tr>\n",
       "    <tr>\n",
       "      <th>3</th>\n",
       "      <td>France</td>\n",
       "      <td>28354529</td>\n",
       "      <td>145982</td>\n",
       "      <td>28266009</td>\n",
       "      <td>145836</td>\n",
       "      <td>88520</td>\n",
       "      <td>146</td>\n",
       "      <td>0.51</td>\n",
       "      <td>Europe</td>\n",
       "    </tr>\n",
       "    <tr>\n",
       "      <th>4</th>\n",
       "      <td>Germany</td>\n",
       "      <td>24141333</td>\n",
       "      <td>134155</td>\n",
       "      <td>24006254</td>\n",
       "      <td>133921</td>\n",
       "      <td>135079</td>\n",
       "      <td>234</td>\n",
       "      <td>0.56</td>\n",
       "      <td>Europe</td>\n",
       "    </tr>\n",
       "  </tbody>\n",
       "</table>\n",
       "</div>"
      ],
      "text/plain": [
       "  Country/Region     Cases  Deaths    PCases  PDeaths  Cases (+)  Deaths (+)  \\\n",
       "0             US  80952268  991169  80850913   990679     101355         490   \n",
       "1          India  43054952  522149  43052425   522116       2527          33   \n",
       "2         Brazil  30338697  662802  30330629   662751       8068          51   \n",
       "3         France  28354529  145982  28266009   145836      88520         146   \n",
       "4        Germany  24141333  134155  24006254   133921     135079         234   \n",
       "\n",
       "   Fatality Rate      Continent  \n",
       "0           1.22  North America  \n",
       "1           1.21           Asia  \n",
       "2           2.18  South America  \n",
       "3           0.51         Europe  \n",
       "4           0.56         Europe  "
      ]
     },
     "execution_count": 13,
     "metadata": {},
     "output_type": "execute_result"
    }
   ],
   "source": [
    "#hide\n",
    "for c in 'Cases, Deaths'.split(', '):\n",
    "    df_table[f'{c} (+)'] = (df_table[c] - df_table[f'P{c}']).clip(0)\n",
    "    #Clip ça veut dire, les chiffres negatif sont interdit\n",
    "df_table['Fatality Rate'] = (100* df_table['Deaths']/ df_table['Cases']).round(2)\n",
    "df_table['Continent'] = df_table['Country/Region'].map(mapping['map.continent'])\n",
    "df_table.head(5)"
   ]
  },
  {
   "cell_type": "code",
   "execution_count": 14,
   "id": "aboriginal-bulgaria",
   "metadata": {
    "execution": {
     "iopub.execute_input": "2022-04-24T00:36:11.450166Z",
     "iopub.status.busy": "2022-04-24T00:36:11.449638Z",
     "iopub.status.idle": "2022-04-24T00:36:11.451670Z",
     "shell.execute_reply": "2022-04-24T00:36:11.452171Z"
    },
    "papermill": {
     "duration": 0.037013,
     "end_time": "2022-04-24T00:36:11.452295",
     "exception": false,
     "start_time": "2022-04-24T00:36:11.415282",
     "status": "completed"
    },
    "tags": []
   },
   "outputs": [],
   "source": [
    "#hide\n",
    "#delete problematic countries from table\n",
    "df_table = df_table[~df_table['Country/Region'].isin(['Cape Verde', 'Cruise Ship', 'Kosovo'])]"
   ]
  },
  {
   "cell_type": "code",
   "execution_count": 15,
   "id": "fantastic-effect",
   "metadata": {
    "execution": {
     "iopub.execute_input": "2022-04-24T00:36:11.519674Z",
     "iopub.status.busy": "2022-04-24T00:36:11.519105Z",
     "iopub.status.idle": "2022-04-24T00:36:11.536864Z",
     "shell.execute_reply": "2022-04-24T00:36:11.537395Z"
    },
    "papermill": {
     "duration": 0.055575,
     "end_time": "2022-04-24T00:36:11.537538",
     "exception": false,
     "start_time": "2022-04-24T00:36:11.481963",
     "status": "completed"
    },
    "tags": []
   },
   "outputs": [
    {
     "data": {
      "text/html": [
       "<div>\n",
       "<style scoped>\n",
       "    .dataframe tbody tr th:only-of-type {\n",
       "        vertical-align: middle;\n",
       "    }\n",
       "\n",
       "    .dataframe tbody tr th {\n",
       "        vertical-align: top;\n",
       "    }\n",
       "\n",
       "    .dataframe thead th {\n",
       "        text-align: right;\n",
       "    }\n",
       "</style>\n",
       "<table border=\"1\" class=\"dataframe\">\n",
       "  <thead>\n",
       "    <tr style=\"text-align: right;\">\n",
       "      <th></th>\n",
       "      <th>Country/Region</th>\n",
       "      <th>Cases</th>\n",
       "      <th>Deaths</th>\n",
       "      <th>PCases</th>\n",
       "      <th>PDeaths</th>\n",
       "      <th>Cases (+)</th>\n",
       "      <th>Deaths (+)</th>\n",
       "      <th>Fatality Rate</th>\n",
       "      <th>Continent</th>\n",
       "    </tr>\n",
       "  </thead>\n",
       "  <tbody>\n",
       "    <tr>\n",
       "      <th>0</th>\n",
       "      <td>US</td>\n",
       "      <td>80952268</td>\n",
       "      <td>991169</td>\n",
       "      <td>80850913</td>\n",
       "      <td>990679</td>\n",
       "      <td>101355</td>\n",
       "      <td>490</td>\n",
       "      <td>1.2</td>\n",
       "      <td>North America</td>\n",
       "    </tr>\n",
       "    <tr>\n",
       "      <th>1</th>\n",
       "      <td>India</td>\n",
       "      <td>43054952</td>\n",
       "      <td>522149</td>\n",
       "      <td>43052425</td>\n",
       "      <td>522116</td>\n",
       "      <td>2527</td>\n",
       "      <td>33</td>\n",
       "      <td>1.2</td>\n",
       "      <td>Asia</td>\n",
       "    </tr>\n",
       "    <tr>\n",
       "      <th>2</th>\n",
       "      <td>Brazil</td>\n",
       "      <td>30338697</td>\n",
       "      <td>662802</td>\n",
       "      <td>30330629</td>\n",
       "      <td>662751</td>\n",
       "      <td>8068</td>\n",
       "      <td>51</td>\n",
       "      <td>2.2</td>\n",
       "      <td>South America</td>\n",
       "    </tr>\n",
       "    <tr>\n",
       "      <th>3</th>\n",
       "      <td>France</td>\n",
       "      <td>28354529</td>\n",
       "      <td>145982</td>\n",
       "      <td>28266009</td>\n",
       "      <td>145836</td>\n",
       "      <td>88520</td>\n",
       "      <td>146</td>\n",
       "      <td>0.5</td>\n",
       "      <td>Europe</td>\n",
       "    </tr>\n",
       "    <tr>\n",
       "      <th>4</th>\n",
       "      <td>Germany</td>\n",
       "      <td>24141333</td>\n",
       "      <td>134155</td>\n",
       "      <td>24006254</td>\n",
       "      <td>133921</td>\n",
       "      <td>135079</td>\n",
       "      <td>234</td>\n",
       "      <td>0.6</td>\n",
       "      <td>Europe</td>\n",
       "    </tr>\n",
       "  </tbody>\n",
       "</table>\n",
       "</div>"
      ],
      "text/plain": [
       "  Country/Region     Cases  Deaths    PCases  PDeaths  Cases (+)  Deaths (+)  \\\n",
       "0             US  80952268  991169  80850913   990679     101355         490   \n",
       "1          India  43054952  522149  43052425   522116       2527          33   \n",
       "2         Brazil  30338697  662802  30330629   662751       8068          51   \n",
       "3         France  28354529  145982  28266009   145836      88520         146   \n",
       "4        Germany  24141333  134155  24006254   133921     135079         234   \n",
       "\n",
       "   Fatality Rate      Continent  \n",
       "0            1.2  North America  \n",
       "1            1.2           Asia  \n",
       "2            2.2  South America  \n",
       "3            0.5         Europe  \n",
       "4            0.6         Europe  "
      ]
     },
     "execution_count": 15,
     "metadata": {},
     "output_type": "execute_result"
    }
   ],
   "source": [
    "#hide\n",
    "df_table = (pd.DataFrame(dict(Cases=dfc_cases, Deaths=dfc_deaths, PCases=dfp_cases, PDeaths=dfp_deaths))\n",
    "             .sort_values(by=['Cases', 'Deaths'], ascending=[False, False])\n",
    "             .reset_index())\n",
    "df_table.rename(columns={'index': 'Country/Region'}, inplace=True)\n",
    "for c in 'Cases, Deaths'.split(', '):\n",
    "    df_table[f'{c} (+)'] = (df_table[c] - df_table[f'P{c}']).clip(0)  # DATA BUG\n",
    "df_table['Fatality Rate'] = (100 * df_table['Deaths'] / df_table['Cases']).round(1)\n",
    "df_table['Continent'] = df_table['Country/Region'].map(mapping['map.continent'])\n",
    "df_table.head(5)"
   ]
  },
  {
   "cell_type": "code",
   "execution_count": 16,
   "id": "fewer-occasion",
   "metadata": {
    "execution": {
     "iopub.execute_input": "2022-04-24T00:36:11.605227Z",
     "iopub.status.busy": "2022-04-24T00:36:11.604691Z",
     "iopub.status.idle": "2022-04-24T00:36:11.606686Z",
     "shell.execute_reply": "2022-04-24T00:36:11.607070Z"
    },
    "papermill": {
     "duration": 0.038279,
     "end_time": "2022-04-24T00:36:11.607200",
     "exception": false,
     "start_time": "2022-04-24T00:36:11.568921",
     "status": "completed"
    },
    "tags": []
   },
   "outputs": [],
   "source": [
    "#hide\n",
    "#delete problematic countries from table\n",
    "df_table = df_table[~df_table['Country/Region'].isin(['Cape Verde', 'Cruise Ship', 'Kosovo'])]"
   ]
  },
  {
   "cell_type": "code",
   "execution_count": 17,
   "id": "related-center",
   "metadata": {
    "execution": {
     "iopub.execute_input": "2022-04-24T00:36:11.686174Z",
     "iopub.status.busy": "2022-04-24T00:36:11.685573Z",
     "iopub.status.idle": "2022-04-24T00:36:11.687191Z",
     "shell.execute_reply": "2022-04-24T00:36:11.687625Z"
    },
    "papermill": {
     "duration": 0.050148,
     "end_time": "2022-04-24T00:36:11.687749",
     "exception": false,
     "start_time": "2022-04-24T00:36:11.637601",
     "status": "completed"
    },
    "tags": []
   },
   "outputs": [],
   "source": [
    "#hide\n",
    "metrics = [df_table.columns[index] for index in [1,2,5,6]]\n",
    "# s_china = df_table[df_table['Country/Region'].eq('China')][metrics].sum().add_prefix('China ')\n",
    "s_us = df_table[df_table['Country/Region'].eq('US')][metrics].sum().add_prefix('US ')\n",
    "s_eu = df_table[df_table['Continent'].eq('Europe')][metrics].sum().add_prefix('EU ')\n",
    "s_ind = df_table[df_table['Country/Region'].eq('India')][metrics].sum().add_prefix('India ')\n",
    "summary = {'updated': pd.to_datetime(dt_today), 'since': pd.to_datetime(dt_yday)}\n",
    "summary = {'updated': pd.to_datetime(dt_today), 'since': pd.to_datetime(dt_yday)}\n",
    "summary = {**summary, **df_table[metrics].sum(), **s_ind, **s_us, **s_eu}"
   ]
  },
  {
   "cell_type": "code",
   "execution_count": 18,
   "id": "engaging-syndrome",
   "metadata": {
    "execution": {
     "iopub.execute_input": "2022-04-24T00:36:11.753599Z",
     "iopub.status.busy": "2022-04-24T00:36:11.753018Z",
     "iopub.status.idle": "2022-04-24T00:36:11.770241Z",
     "shell.execute_reply": "2022-04-24T00:36:11.769830Z"
    },
    "papermill": {
     "duration": 0.051969,
     "end_time": "2022-04-24T00:36:11.770354",
     "exception": false,
     "start_time": "2022-04-24T00:36:11.718385",
     "status": "completed"
    },
    "tags": []
   },
   "outputs": [],
   "source": [
    "#hide\n",
    "dft_ct_new_cases = dft_cases.groupby(COL_REGION)[dt_cols].sum().diff(axis=1).fillna(0).astype(int)"
   ]
  },
  {
   "cell_type": "code",
   "execution_count": 19,
   "id": "neutral-assignment",
   "metadata": {
    "execution": {
     "iopub.execute_input": "2022-04-24T00:36:11.837733Z",
     "iopub.status.busy": "2022-04-24T00:36:11.837205Z",
     "iopub.status.idle": "2022-04-24T00:36:11.839421Z",
     "shell.execute_reply": "2022-04-24T00:36:11.838986Z"
    },
    "papermill": {
     "duration": 0.038684,
     "end_time": "2022-04-24T00:36:11.839531",
     "exception": false,
     "start_time": "2022-04-24T00:36:11.800847",
     "status": "completed"
    },
    "tags": []
   },
   "outputs": [],
   "source": [
    "#hide\n",
    "everydaycases = dft_ct_new_cases.cumsum(axis=1)"
   ]
  },
  {
   "cell_type": "code",
   "execution_count": 20,
   "id": "parliamentary-calgary",
   "metadata": {
    "execution": {
     "iopub.execute_input": "2022-04-24T00:36:11.904992Z",
     "iopub.status.busy": "2022-04-24T00:36:11.904466Z",
     "iopub.status.idle": "2022-04-24T00:36:12.470281Z",
     "shell.execute_reply": "2022-04-24T00:36:12.469761Z"
    },
    "papermill": {
     "duration": 0.600197,
     "end_time": "2022-04-24T00:36:12.470421",
     "exception": false,
     "start_time": "2022-04-24T00:36:11.870224",
     "status": "completed"
    },
    "tags": []
   },
   "outputs": [],
   "source": [
    "#hide\n",
    "import pandas as pd\n",
    "import matplotlib.pyplot as plt\n",
    "import matplotlib.ticker as ticker\n",
    "import matplotlib.animation as animation\n",
    "from IPython.display import HTML"
   ]
  },
  {
   "cell_type": "code",
   "execution_count": 21,
   "id": "lasting-extraction",
   "metadata": {
    "execution": {
     "iopub.execute_input": "2022-04-24T00:36:12.538634Z",
     "iopub.status.busy": "2022-04-24T00:36:12.538120Z",
     "iopub.status.idle": "2022-04-24T00:36:12.543967Z",
     "shell.execute_reply": "2022-04-24T00:36:12.544478Z"
    },
    "papermill": {
     "duration": 0.042576,
     "end_time": "2022-04-24T00:36:12.544609",
     "exception": false,
     "start_time": "2022-04-24T00:36:12.502033",
     "status": "completed"
    },
    "tags": []
   },
   "outputs": [],
   "source": [
    "#hide\n",
    "t = everydaycases.stack()"
   ]
  },
  {
   "cell_type": "code",
   "execution_count": 22,
   "id": "premier-sleeve",
   "metadata": {
    "execution": {
     "iopub.execute_input": "2022-04-24T00:36:12.609776Z",
     "iopub.status.busy": "2022-04-24T00:36:12.609263Z",
     "iopub.status.idle": "2022-04-24T00:36:12.619481Z",
     "shell.execute_reply": "2022-04-24T00:36:12.619046Z"
    },
    "papermill": {
     "duration": 0.044327,
     "end_time": "2022-04-24T00:36:12.619592",
     "exception": false,
     "start_time": "2022-04-24T00:36:12.575265",
     "status": "completed"
    },
    "tags": []
   },
   "outputs": [],
   "source": [
    "#hide\n",
    "g = t.reset_index(['Country/Region'])"
   ]
  },
  {
   "cell_type": "code",
   "execution_count": 23,
   "id": "distributed-pittsburgh",
   "metadata": {
    "execution": {
     "iopub.execute_input": "2022-04-24T00:36:12.683848Z",
     "iopub.status.busy": "2022-04-24T00:36:12.683341Z",
     "iopub.status.idle": "2022-04-24T00:36:12.685478Z",
     "shell.execute_reply": "2022-04-24T00:36:12.685890Z"
    },
    "papermill": {
     "duration": 0.036036,
     "end_time": "2022-04-24T00:36:12.686013",
     "exception": false,
     "start_time": "2022-04-24T00:36:12.649977",
     "status": "completed"
    },
    "tags": []
   },
   "outputs": [],
   "source": [
    "#hide\n",
    "g.index.name = 'date'"
   ]
  },
  {
   "cell_type": "code",
   "execution_count": 24,
   "id": "naked-donor",
   "metadata": {
    "execution": {
     "iopub.execute_input": "2022-04-24T00:36:12.750613Z",
     "iopub.status.busy": "2022-04-24T00:36:12.750019Z",
     "iopub.status.idle": "2022-04-24T00:36:12.752068Z",
     "shell.execute_reply": "2022-04-24T00:36:12.751570Z"
    },
    "papermill": {
     "duration": 0.035796,
     "end_time": "2022-04-24T00:36:12.752196",
     "exception": false,
     "start_time": "2022-04-24T00:36:12.716400",
     "status": "completed"
    },
    "tags": []
   },
   "outputs": [],
   "source": [
    "# #hide\n",
    "# g = g.reset_index(['date'])"
   ]
  },
  {
   "cell_type": "code",
   "execution_count": 25,
   "id": "incomplete-mustang",
   "metadata": {
    "execution": {
     "iopub.execute_input": "2022-04-24T00:36:12.816186Z",
     "iopub.status.busy": "2022-04-24T00:36:12.815575Z",
     "iopub.status.idle": "2022-04-24T00:36:12.819043Z",
     "shell.execute_reply": "2022-04-24T00:36:12.818582Z"
    },
    "papermill": {
     "duration": 0.036631,
     "end_time": "2022-04-24T00:36:12.819164",
     "exception": false,
     "start_time": "2022-04-24T00:36:12.782533",
     "status": "completed"
    },
    "tags": []
   },
   "outputs": [],
   "source": [
    "#hide\n",
    "# g.head()"
   ]
  },
  {
   "cell_type": "code",
   "execution_count": 26,
   "id": "specific-kruger",
   "metadata": {
    "execution": {
     "iopub.execute_input": "2022-04-24T00:36:12.884336Z",
     "iopub.status.busy": "2022-04-24T00:36:12.883798Z",
     "iopub.status.idle": "2022-04-24T00:36:12.886885Z",
     "shell.execute_reply": "2022-04-24T00:36:12.886483Z"
    },
    "papermill": {
     "duration": 0.036462,
     "end_time": "2022-04-24T00:36:12.886993",
     "exception": false,
     "start_time": "2022-04-24T00:36:12.850531",
     "status": "completed"
    },
    "tags": []
   },
   "outputs": [],
   "source": [
    "#hide\n",
    "# g.columns = ['date','country','cases']"
   ]
  },
  {
   "cell_type": "code",
   "execution_count": 27,
   "id": "tender-conversion",
   "metadata": {
    "execution": {
     "iopub.execute_input": "2022-04-24T00:36:12.951316Z",
     "iopub.status.busy": "2022-04-24T00:36:12.950722Z",
     "iopub.status.idle": "2022-04-24T00:36:12.952917Z",
     "shell.execute_reply": "2022-04-24T00:36:12.952352Z"
    },
    "papermill": {
     "duration": 0.035681,
     "end_time": "2022-04-24T00:36:12.953037",
     "exception": false,
     "start_time": "2022-04-24T00:36:12.917356",
     "status": "completed"
    },
    "tags": []
   },
   "outputs": [],
   "source": [
    "#hide\n",
    "# g['continent'] = g.country"
   ]
  },
  {
   "cell_type": "code",
   "execution_count": 28,
   "id": "substantial-wilderness",
   "metadata": {
    "execution": {
     "iopub.execute_input": "2022-04-24T00:36:13.017849Z",
     "iopub.status.busy": "2022-04-24T00:36:13.017254Z",
     "iopub.status.idle": "2022-04-24T00:36:13.018966Z",
     "shell.execute_reply": "2022-04-24T00:36:13.019401Z"
    },
    "papermill": {
     "duration": 0.035606,
     "end_time": "2022-04-24T00:36:13.019536",
     "exception": false,
     "start_time": "2022-04-24T00:36:12.983930",
     "status": "completed"
    },
    "tags": []
   },
   "outputs": [],
   "source": [
    "#hide\n",
    "# cols = list(g.columns.values)"
   ]
  },
  {
   "cell_type": "code",
   "execution_count": 29,
   "id": "solved-farming",
   "metadata": {
    "execution": {
     "iopub.execute_input": "2022-04-24T00:36:13.085760Z",
     "iopub.status.busy": "2022-04-24T00:36:13.085162Z",
     "iopub.status.idle": "2022-04-24T00:36:13.086683Z",
     "shell.execute_reply": "2022-04-24T00:36:13.087111Z"
    },
    "papermill": {
     "duration": 0.036387,
     "end_time": "2022-04-24T00:36:13.087238",
     "exception": false,
     "start_time": "2022-04-24T00:36:13.050851",
     "status": "completed"
    },
    "tags": []
   },
   "outputs": [],
   "source": [
    "#hide\n",
    "# cols.insert(0, cols.pop())"
   ]
  },
  {
   "cell_type": "code",
   "execution_count": 30,
   "id": "executed-adoption",
   "metadata": {
    "execution": {
     "iopub.execute_input": "2022-04-24T00:36:13.152092Z",
     "iopub.status.busy": "2022-04-24T00:36:13.151503Z",
     "iopub.status.idle": "2022-04-24T00:36:13.153709Z",
     "shell.execute_reply": "2022-04-24T00:36:13.153157Z"
    },
    "papermill": {
     "duration": 0.036172,
     "end_time": "2022-04-24T00:36:13.153826",
     "exception": false,
     "start_time": "2022-04-24T00:36:13.117654",
     "status": "completed"
    },
    "tags": []
   },
   "outputs": [],
   "source": [
    "#hide\n",
    "# g = g[cols]"
   ]
  },
  {
   "cell_type": "code",
   "execution_count": 31,
   "id": "subject-dublin",
   "metadata": {
    "execution": {
     "iopub.execute_input": "2022-04-24T00:36:13.218124Z",
     "iopub.status.busy": "2022-04-24T00:36:13.217541Z",
     "iopub.status.idle": "2022-04-24T00:36:13.219248Z",
     "shell.execute_reply": "2022-04-24T00:36:13.219632Z"
    },
    "papermill": {
     "duration": 0.035108,
     "end_time": "2022-04-24T00:36:13.219754",
     "exception": false,
     "start_time": "2022-04-24T00:36:13.184646",
     "status": "completed"
    },
    "tags": []
   },
   "outputs": [],
   "source": [
    "#hide\n",
    "# g['continent'] = g['continent'].map(mapping['map.continent'])"
   ]
  },
  {
   "cell_type": "code",
   "execution_count": 32,
   "id": "freelance-scout",
   "metadata": {
    "execution": {
     "iopub.execute_input": "2022-04-24T00:36:13.284365Z",
     "iopub.status.busy": "2022-04-24T00:36:13.283744Z",
     "iopub.status.idle": "2022-04-24T00:36:13.285899Z",
     "shell.execute_reply": "2022-04-24T00:36:13.285418Z"
    },
    "papermill": {
     "duration": 0.035637,
     "end_time": "2022-04-24T00:36:13.286014",
     "exception": false,
     "start_time": "2022-04-24T00:36:13.250377",
     "status": "completed"
    },
    "tags": []
   },
   "outputs": [],
   "source": [
    "#hide\n",
    "# g.head()"
   ]
  },
  {
   "cell_type": "code",
   "execution_count": 33,
   "id": "limited-engine",
   "metadata": {
    "execution": {
     "iopub.execute_input": "2022-04-24T00:36:13.350719Z",
     "iopub.status.busy": "2022-04-24T00:36:13.350120Z",
     "iopub.status.idle": "2022-04-24T00:36:13.351604Z",
     "shell.execute_reply": "2022-04-24T00:36:13.352065Z"
    },
    "papermill": {
     "duration": 0.035374,
     "end_time": "2022-04-24T00:36:13.352208",
     "exception": false,
     "start_time": "2022-04-24T00:36:13.316834",
     "status": "completed"
    },
    "tags": []
   },
   "outputs": [],
   "source": [
    "# hide\n",
    "# g['date'] = g['date'].astype('datetime64[ns]')"
   ]
  },
  {
   "cell_type": "code",
   "execution_count": 34,
   "id": "sophisticated-supervisor",
   "metadata": {
    "execution": {
     "iopub.execute_input": "2022-04-24T00:36:13.416672Z",
     "iopub.status.busy": "2022-04-24T00:36:13.416056Z",
     "iopub.status.idle": "2022-04-24T00:36:13.419020Z",
     "shell.execute_reply": "2022-04-24T00:36:13.418534Z"
    },
    "papermill": {
     "duration": 0.036412,
     "end_time": "2022-04-24T00:36:13.419136",
     "exception": false,
     "start_time": "2022-04-24T00:36:13.382724",
     "status": "completed"
    },
    "tags": []
   },
   "outputs": [],
   "source": [
    "#hide\n",
    "# g['date'] = g.date.dt.dayofyear"
   ]
  },
  {
   "cell_type": "code",
   "execution_count": 35,
   "id": "inside-dubai",
   "metadata": {
    "execution": {
     "iopub.execute_input": "2022-04-24T00:36:13.483620Z",
     "iopub.status.busy": "2022-04-24T00:36:13.483039Z",
     "iopub.status.idle": "2022-04-24T00:36:13.485221Z",
     "shell.execute_reply": "2022-04-24T00:36:13.484698Z"
    },
    "papermill": {
     "duration": 0.035312,
     "end_time": "2022-04-24T00:36:13.485325",
     "exception": false,
     "start_time": "2022-04-24T00:36:13.450013",
     "status": "completed"
    },
    "tags": []
   },
   "outputs": [],
   "source": [
    "#hide\n",
    "# g = g.rename(columns= {'continent':'group','country':'name','cases':'value'})"
   ]
  },
  {
   "cell_type": "code",
   "execution_count": 36,
   "id": "fleet-motorcycle",
   "metadata": {
    "execution": {
     "iopub.execute_input": "2022-04-24T00:36:13.549830Z",
     "iopub.status.busy": "2022-04-24T00:36:13.549243Z",
     "iopub.status.idle": "2022-04-24T00:36:13.551438Z",
     "shell.execute_reply": "2022-04-24T00:36:13.550980Z"
    },
    "papermill": {
     "duration": 0.035694,
     "end_time": "2022-04-24T00:36:13.551557",
     "exception": false,
     "start_time": "2022-04-24T00:36:13.515863",
     "status": "completed"
    },
    "tags": []
   },
   "outputs": [],
   "source": [
    "#hide\n",
    "# cols = ['name','group','day','value']"
   ]
  },
  {
   "cell_type": "code",
   "execution_count": 37,
   "id": "continued-sleeping",
   "metadata": {
    "execution": {
     "iopub.execute_input": "2022-04-24T00:36:13.616596Z",
     "iopub.status.busy": "2022-04-24T00:36:13.615992Z",
     "iopub.status.idle": "2022-04-24T00:36:13.618036Z",
     "shell.execute_reply": "2022-04-24T00:36:13.617629Z"
    },
    "papermill": {
     "duration": 0.035736,
     "end_time": "2022-04-24T00:36:13.618146",
     "exception": false,
     "start_time": "2022-04-24T00:36:13.582410",
     "status": "completed"
    },
    "tags": []
   },
   "outputs": [],
   "source": [
    "#hide\n",
    "# g.rename(columns= {'date':'day'},inplace = True)"
   ]
  },
  {
   "cell_type": "code",
   "execution_count": 38,
   "id": "major-fight",
   "metadata": {
    "execution": {
     "iopub.execute_input": "2022-04-24T00:36:13.682769Z",
     "iopub.status.busy": "2022-04-24T00:36:13.682183Z",
     "iopub.status.idle": "2022-04-24T00:36:13.684414Z",
     "shell.execute_reply": "2022-04-24T00:36:13.683813Z"
    },
    "papermill": {
     "duration": 0.035782,
     "end_time": "2022-04-24T00:36:13.684534",
     "exception": false,
     "start_time": "2022-04-24T00:36:13.648752",
     "status": "completed"
    },
    "tags": []
   },
   "outputs": [],
   "source": [
    "#hide\n",
    "# g = g[cols]"
   ]
  },
  {
   "cell_type": "code",
   "execution_count": 39,
   "id": "structured-mobile",
   "metadata": {
    "execution": {
     "iopub.execute_input": "2022-04-24T00:36:13.749463Z",
     "iopub.status.busy": "2022-04-24T00:36:13.748902Z",
     "iopub.status.idle": "2022-04-24T00:36:13.752647Z",
     "shell.execute_reply": "2022-04-24T00:36:13.752234Z"
    },
    "papermill": {
     "duration": 0.0375,
     "end_time": "2022-04-24T00:36:13.752759",
     "exception": false,
     "start_time": "2022-04-24T00:36:13.715259",
     "status": "completed"
    },
    "tags": []
   },
   "outputs": [],
   "source": [
    "# #hide\n",
    "# g = g[g.group.notna()]"
   ]
  },
  {
   "cell_type": "code",
   "execution_count": 40,
   "id": "determined-closing",
   "metadata": {
    "execution": {
     "iopub.execute_input": "2022-04-24T00:36:13.816923Z",
     "iopub.status.busy": "2022-04-24T00:36:13.816328Z",
     "iopub.status.idle": "2022-04-24T00:36:13.818465Z",
     "shell.execute_reply": "2022-04-24T00:36:13.817980Z"
    },
    "papermill": {
     "duration": 0.035438,
     "end_time": "2022-04-24T00:36:13.818580",
     "exception": false,
     "start_time": "2022-04-24T00:36:13.783142",
     "status": "completed"
    },
    "tags": []
   },
   "outputs": [],
   "source": [
    "# #hide\n",
    "# colors = dict(zip(\n",
    "#     [\"Oceania\", \"Europe\", \"Asia\", \"South America\", \"Middle East\", \"North America\", \"Africa\"],\n",
    "#     [\"#adb0ff\", \"#ffb3ff\", \"#90d595\", \"#e48381\", \"#aafbff\", \"#f7bb5f\", \"#eafb50\"]\n",
    "# ))\n",
    "# group_lk = g.set_index('name')['group'].to_dict()"
   ]
  },
  {
   "cell_type": "code",
   "execution_count": null,
   "id": "gross-drinking",
   "metadata": {
    "papermill": {
     "duration": 0.030175,
     "end_time": "2022-04-24T00:36:13.879484",
     "exception": false,
     "start_time": "2022-04-24T00:36:13.849309",
     "status": "completed"
    },
    "tags": []
   },
   "outputs": [],
   "source": []
  },
  {
   "cell_type": "code",
   "execution_count": 41,
   "id": "subject-macintosh",
   "metadata": {
    "execution": {
     "iopub.execute_input": "2022-04-24T00:36:13.943966Z",
     "iopub.status.busy": "2022-04-24T00:36:13.943436Z",
     "iopub.status.idle": "2022-04-24T00:36:13.945230Z",
     "shell.execute_reply": "2022-04-24T00:36:13.945614Z"
    },
    "papermill": {
     "duration": 0.035953,
     "end_time": "2022-04-24T00:36:13.945737",
     "exception": false,
     "start_time": "2022-04-24T00:36:13.909784",
     "status": "completed"
    },
    "tags": []
   },
   "outputs": [],
   "source": [
    "# #hide\n",
    "# fig, ax = plt.subplots(figsize=(15, 8))\n",
    "\n",
    "# def draw_barchart(current_day):\n",
    "#     dff = g[g['day'].eq(current_day)].sort_values(by='value', ascending=True).tail(10)\n",
    "#     ax.clear()\n",
    "#     ax.barh(dff['name'], dff['value'], color=[colors[group_lk[x]] for x in dff['name']])\n",
    "#     dx = dff['value'].max() / 200\n",
    "    \n",
    "#     for i, (value, name) in enumerate(zip(dff['value'], dff['name'])):\n",
    "#         ax.text(value-dx, i,     name,           size=14, weight=600, ha='right', va='bottom')\n",
    "#         ax.text(value-dx, i-.25, group_lk[name], size=10, color='#444444', ha='right', va='baseline')\n",
    "#         ax.text(value+dx, i,     f'{value:,.0f}',  size=14, ha='left',  va='center')\n",
    "#     ax.text(1, 0.4, current_day, transform=ax.transAxes, color='#777777', size=46, ha='right', weight=800)\n",
    "#     ax.text(0, 1.06, 'Population (thousands)', transform=ax.transAxes, size=12, color='#777777')\n",
    "#     ax.xaxis.set_major_formatter(ticker.StrMethodFormatter('{x:,.0f}'))\n",
    "#     ax.xaxis.set_ticks_position('top')\n",
    "#     ax.tick_params(axis='x', colors='#777777', labelsize=12)\n",
    "#     ax.set_yticks([])\n",
    "#     ax.margins(0, 0.01)\n",
    "#     ax.grid(which='major', axis='x', linestyle='-')\n",
    "#     ax.set_axisbelow(True)\n",
    "    \n",
    "#     ax.text(0, 1.15, 'Coronavirus',\n",
    "#             transform=ax.transAxes, size=24, weight=600, ha='left', va='top')\n",
    "# #     ax.text(1, 0, 'by @pratapvardhan; credit @jburnmurdoch', transform=ax.transAxes, color='#777777', ha='right',\n",
    "# #             bbox=dict(facecolor='white', alpha=0.8, edgecolor='white'))\n",
    "#     plt.box(False)"
   ]
  },
  {
   "cell_type": "code",
   "execution_count": 42,
   "id": "sexual-wages",
   "metadata": {
    "execution": {
     "iopub.execute_input": "2022-04-24T00:36:14.009385Z",
     "iopub.status.busy": "2022-04-24T00:36:14.008792Z",
     "iopub.status.idle": "2022-04-24T00:36:14.011012Z",
     "shell.execute_reply": "2022-04-24T00:36:14.010552Z"
    },
    "papermill": {
     "duration": 0.03532,
     "end_time": "2022-04-24T00:36:14.011133",
     "exception": false,
     "start_time": "2022-04-24T00:36:13.975813",
     "status": "completed"
    },
    "tags": []
   },
   "outputs": [],
   "source": [
    "# #hide_input\n",
    "# fig, ax = plt.subplots(figsize=(15, 8))\n",
    "# animator = animation.FuncAnimation(fig, draw_barchart, frames=range(g.day.values.min(), g.day.values.max()))\n",
    "# HTML(animator.to_jshtml())\n",
    "# # or use animator.to_html5_video() or animator.save() "
   ]
  },
  {
   "cell_type": "code",
   "execution_count": null,
   "id": "australian-container",
   "metadata": {
    "papermill": {
     "duration": 0.030476,
     "end_time": "2022-04-24T00:36:14.072461",
     "exception": false,
     "start_time": "2022-04-24T00:36:14.041985",
     "status": "completed"
    },
    "tags": []
   },
   "outputs": [],
   "source": []
  },
  {
   "cell_type": "code",
   "execution_count": null,
   "id": "mediterranean-pontiac",
   "metadata": {
    "papermill": {
     "duration": 0.030114,
     "end_time": "2022-04-24T00:36:14.132820",
     "exception": false,
     "start_time": "2022-04-24T00:36:14.102706",
     "status": "completed"
    },
    "tags": []
   },
   "outputs": [],
   "source": []
  },
  {
   "cell_type": "code",
   "execution_count": null,
   "id": "aging-legislature",
   "metadata": {
    "papermill": {
     "duration": 0.03016,
     "end_time": "2022-04-24T00:36:14.193366",
     "exception": false,
     "start_time": "2022-04-24T00:36:14.163206",
     "status": "completed"
    },
    "tags": []
   },
   "outputs": [],
   "source": []
  }
 ],
 "metadata": {
  "kernelspec": {
   "display_name": "Python 3",
   "language": "python",
   "name": "python3"
  },
  "language_info": {
   "codemirror_mode": {
    "name": "ipython",
    "version": 3
   },
   "file_extension": ".py",
   "mimetype": "text/x-python",
   "name": "python",
   "nbconvert_exporter": "python",
   "pygments_lexer": "ipython3",
   "version": "3.6.15"
  },
  "papermill": {
   "duration": 6.016764,
   "end_time": "2022-04-24T00:36:14.541925",
   "environment_variables": {},
   "exception": null,
   "input_path": "2020-03-21-covid19exp.ipynb",
   "output_path": "2020-03-21-covid19exp.ipynb",
   "parameters": {},
   "start_time": "2022-04-24T00:36:08.525161",
   "version": "2.0.0"
  }
 },
 "nbformat": 4,
 "nbformat_minor": 5
}