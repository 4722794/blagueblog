{
 "cells": [
  {
   "cell_type": "markdown",
   "id": "muslim-click",
   "metadata": {
    "papermill": {
     "duration": 0.034714,
     "end_time": "2022-08-07T00:48:55.256679",
     "exception": false,
     "start_time": "2022-08-07T00:48:55.221965",
     "status": "completed"
    },
    "tags": []
   },
   "source": [
    "# COVID-19 Case Race\n",
    "> A race chart to see rising cases around the world\n",
    "\n",
    "- author: Hargun Oberoi\n",
    "- image: images/covid-overview.png\n",
    "- hide: false\n",
    "- badges: false"
   ]
  },
  {
   "cell_type": "code",
   "execution_count": 1,
   "id": "proof-material",
   "metadata": {
    "execution": {
     "iopub.execute_input": "2022-08-07T00:48:55.325579Z",
     "iopub.status.busy": "2022-08-07T00:48:55.324979Z",
     "iopub.status.idle": "2022-08-07T00:48:55.663363Z",
     "shell.execute_reply": "2022-08-07T00:48:55.662718Z"
    },
    "papermill": {
     "duration": 0.377081,
     "end_time": "2022-08-07T00:48:55.663522",
     "exception": false,
     "start_time": "2022-08-07T00:48:55.286441",
     "status": "completed"
    },
    "tags": []
   },
   "outputs": [],
   "source": [
    "#hide\n",
    "import numpy as np\n",
    "import pandas as pd\n",
    "from jinja2 import Template\n",
    "from IPython.display import HTML"
   ]
  },
  {
   "cell_type": "code",
   "execution_count": 2,
   "id": "developed-terminology",
   "metadata": {
    "execution": {
     "iopub.execute_input": "2022-08-07T00:48:55.727323Z",
     "iopub.status.busy": "2022-08-07T00:48:55.726672Z",
     "iopub.status.idle": "2022-08-07T00:48:55.729044Z",
     "shell.execute_reply": "2022-08-07T00:48:55.728455Z"
    },
    "papermill": {
     "duration": 0.036476,
     "end_time": "2022-08-07T00:48:55.729164",
     "exception": false,
     "start_time": "2022-08-07T00:48:55.692688",
     "status": "completed"
    },
    "tags": []
   },
   "outputs": [],
   "source": [
    "#hide\n",
    "\n",
    "# FETCH\n",
    "base_url = 'https://raw.githubusercontent.com/pratapvardhan/notebooks/master/covid19/'\n",
    "paths = {\n",
    "    'mapping': base_url + 'mapping_countries.csv',\n",
    "    'overview': base_url + 'overview.tpl'\n",
    "}"
   ]
  },
  {
   "cell_type": "code",
   "execution_count": 3,
   "id": "dynamic-saver",
   "metadata": {
    "execution": {
     "iopub.execute_input": "2022-08-07T00:48:55.798645Z",
     "iopub.status.busy": "2022-08-07T00:48:55.797992Z",
     "iopub.status.idle": "2022-08-07T00:48:55.801194Z",
     "shell.execute_reply": "2022-08-07T00:48:55.801612Z"
    },
    "papermill": {
     "duration": 0.04274,
     "end_time": "2022-08-07T00:48:55.801748",
     "exception": false,
     "start_time": "2022-08-07T00:48:55.759008",
     "status": "completed"
    },
    "tags": []
   },
   "outputs": [
    {
     "data": {
      "text/plain": [
       "'https://raw.githubusercontent.com/pratapvardhan/notebooks/master/covid19/mapping_countries.csv'"
      ]
     },
     "execution_count": 3,
     "metadata": {},
     "output_type": "execute_result"
    }
   ],
   "source": [
    "#hide\n",
    "paths['mapping']"
   ]
  },
  {
   "cell_type": "code",
   "execution_count": 4,
   "id": "urban-software",
   "metadata": {
    "execution": {
     "iopub.execute_input": "2022-08-07T00:48:55.867017Z",
     "iopub.status.busy": "2022-08-07T00:48:55.866313Z",
     "iopub.status.idle": "2022-08-07T00:48:55.867904Z",
     "shell.execute_reply": "2022-08-07T00:48:55.868463Z"
    },
    "papermill": {
     "duration": 0.037463,
     "end_time": "2022-08-07T00:48:55.868599",
     "exception": false,
     "start_time": "2022-08-07T00:48:55.831136",
     "status": "completed"
    },
    "tags": []
   },
   "outputs": [],
   "source": [
    "#hide\n",
    "def get_mappings(url):\n",
    "    df = pd.read_csv(url)\n",
    "    return {\n",
    "        'df': df,\n",
    "        'replace.country': dict(df.dropna(subset=['Name']).set_index('Country')['Name']),\n",
    "        'map.continent': dict(df.set_index('Name')['Continent'])\n",
    "    }"
   ]
  },
  {
   "cell_type": "code",
   "execution_count": 5,
   "id": "intimate-machinery",
   "metadata": {
    "execution": {
     "iopub.execute_input": "2022-08-07T00:48:55.932784Z",
     "iopub.status.busy": "2022-08-07T00:48:55.932186Z",
     "iopub.status.idle": "2022-08-07T00:48:55.960677Z",
     "shell.execute_reply": "2022-08-07T00:48:55.961215Z"
    },
    "papermill": {
     "duration": 0.063587,
     "end_time": "2022-08-07T00:48:55.961378",
     "exception": false,
     "start_time": "2022-08-07T00:48:55.897791",
     "status": "completed"
    },
    "tags": []
   },
   "outputs": [],
   "source": [
    "#hide\n",
    "mapping = get_mappings(paths['mapping'])"
   ]
  },
  {
   "cell_type": "code",
   "execution_count": 6,
   "id": "certified-tactics",
   "metadata": {
    "execution": {
     "iopub.execute_input": "2022-08-07T00:48:56.026779Z",
     "iopub.status.busy": "2022-08-07T00:48:56.026133Z",
     "iopub.status.idle": "2022-08-07T00:48:56.028497Z",
     "shell.execute_reply": "2022-08-07T00:48:56.029052Z"
    },
    "papermill": {
     "duration": 0.03751,
     "end_time": "2022-08-07T00:48:56.029187",
     "exception": false,
     "start_time": "2022-08-07T00:48:55.991677",
     "status": "completed"
    },
    "tags": []
   },
   "outputs": [],
   "source": [
    "#hide\n",
    "def get_template(path):\n",
    "    from urllib.parse import urlparse\n",
    "    if bool(urlparse(path).netloc):\n",
    "        from urllib.request import urlopen\n",
    "        return urlopen(path).read().decode('utf8')\n",
    "    return open(path).read()"
   ]
  },
  {
   "cell_type": "code",
   "execution_count": 7,
   "id": "realistic-blast",
   "metadata": {
    "execution": {
     "iopub.execute_input": "2022-08-07T00:48:56.093105Z",
     "iopub.status.busy": "2022-08-07T00:48:56.092486Z",
     "iopub.status.idle": "2022-08-07T00:48:56.095017Z",
     "shell.execute_reply": "2022-08-07T00:48:56.094533Z"
    },
    "papermill": {
     "duration": 0.036734,
     "end_time": "2022-08-07T00:48:56.095130",
     "exception": false,
     "start_time": "2022-08-07T00:48:56.058396",
     "status": "completed"
    },
    "tags": []
   },
   "outputs": [],
   "source": [
    "#hide\n",
    "def get_frame(name):\n",
    "    url = (\n",
    "        'https://raw.githubusercontent.com/CSSEGISandData/COVID-19/master/csse_covid_19_data/'\n",
    "        f'csse_covid_19_time_series/time_series_covid19_{name}_global.csv')\n",
    "    df = pd.read_csv(url)\n",
    "    # rename countries\n",
    "    df['Country/Region'] = df['Country/Region'].replace(mapping['replace.country'])\n",
    "    return df"
   ]
  },
  {
   "cell_type": "code",
   "execution_count": 8,
   "id": "affiliated-characterization",
   "metadata": {
    "execution": {
     "iopub.execute_input": "2022-08-07T00:48:56.159825Z",
     "iopub.status.busy": "2022-08-07T00:48:56.159138Z",
     "iopub.status.idle": "2022-08-07T00:48:56.161514Z",
     "shell.execute_reply": "2022-08-07T00:48:56.160871Z"
    },
    "papermill": {
     "duration": 0.037143,
     "end_time": "2022-08-07T00:48:56.161638",
     "exception": false,
     "start_time": "2022-08-07T00:48:56.124495",
     "status": "completed"
    },
    "tags": []
   },
   "outputs": [],
   "source": [
    "#hide\n",
    "def get_dates(df):\n",
    "    dt_cols = df.columns[~df.columns.isin(['Province/State', 'Country/Region', 'Lat', 'Long'])]\n",
    "    LAST_DATE_I = -1\n",
    "    # sometimes last column may be empty, then go backwards\n",
    "    for i in range(-1, -len(dt_cols), -1):\n",
    "        if not df[dt_cols[i]].fillna(0).eq(0).all():\n",
    "            LAST_DATE_I = i\n",
    "            break\n",
    "    return LAST_DATE_I, dt_cols"
   ]
  },
  {
   "cell_type": "code",
   "execution_count": 9,
   "id": "recent-optimization",
   "metadata": {
    "execution": {
     "iopub.execute_input": "2022-08-07T00:48:56.224626Z",
     "iopub.status.busy": "2022-08-07T00:48:56.224027Z",
     "iopub.status.idle": "2022-08-07T00:48:56.593518Z",
     "shell.execute_reply": "2022-08-07T00:48:56.592937Z"
    },
    "papermill": {
     "duration": 0.402974,
     "end_time": "2022-08-07T00:48:56.593668",
     "exception": false,
     "start_time": "2022-08-07T00:48:56.190694",
     "status": "completed"
    },
    "tags": []
   },
   "outputs": [],
   "source": [
    "#hide\n",
    "COL_REGION = 'Country/Region'\n",
    "# Confirmed, Recovered, Deaths\n",
    "df = get_frame('confirmed')\n",
    "# dft_: timeseries, dfc_: today country agg\n",
    "dft_cases = df\n",
    "dft_deaths = get_frame('deaths')\n",
    "dft_recovered = get_frame('recovered')\n",
    "LAST_DATE_I, dt_cols = get_dates(df)"
   ]
  },
  {
   "cell_type": "code",
   "execution_count": 10,
   "id": "absolute-copper",
   "metadata": {
    "execution": {
     "iopub.execute_input": "2022-08-07T00:48:56.659257Z",
     "iopub.status.busy": "2022-08-07T00:48:56.658664Z",
     "iopub.status.idle": "2022-08-07T00:48:56.660878Z",
     "shell.execute_reply": "2022-08-07T00:48:56.661416Z"
    },
    "papermill": {
     "duration": 0.038013,
     "end_time": "2022-08-07T00:48:56.661548",
     "exception": false,
     "start_time": "2022-08-07T00:48:56.623535",
     "status": "completed"
    },
    "tags": []
   },
   "outputs": [],
   "source": [
    "#hide\n",
    "LAST_DATE_I, dt_cols = get_dates(df)\n",
    "dt_today =dt_cols[LAST_DATE_I]\n",
    "# dt_5day = dt_cols[LAST_DATE_I - 5]\n",
    "dt_yday = dt_cols[LAST_DATE_I - 1]"
   ]
  },
  {
   "cell_type": "code",
   "execution_count": 11,
   "id": "restricted-sheriff",
   "metadata": {
    "execution": {
     "iopub.execute_input": "2022-08-07T00:48:56.728117Z",
     "iopub.status.busy": "2022-08-07T00:48:56.727527Z",
     "iopub.status.idle": "2022-08-07T00:48:56.733222Z",
     "shell.execute_reply": "2022-08-07T00:48:56.733698Z"
    },
    "papermill": {
     "duration": 0.043184,
     "end_time": "2022-08-07T00:48:56.733830",
     "exception": false,
     "start_time": "2022-08-07T00:48:56.690646",
     "status": "completed"
    },
    "tags": []
   },
   "outputs": [],
   "source": [
    "#hide\n",
    "dfc_cases = dft_cases.groupby(COL_REGION)[dt_today].sum()\n",
    "dfc_deaths = dft_deaths.groupby(COL_REGION)[dt_today].sum()\n",
    "# dfp_cases = dft_cases.groupby(COL_REGION)[dt_5day].sum()\n",
    "# dfp_deaths = dft_deaths.groupby(COL_REGION)[dt_5day].sum()\n",
    "dfp_cases = dft_cases.groupby(COL_REGION)[dt_yday].sum()\n",
    "dfp_deaths = dft_deaths.groupby(COL_REGION)[dt_yday].sum()"
   ]
  },
  {
   "cell_type": "code",
   "execution_count": 12,
   "id": "deluxe-hepatitis",
   "metadata": {
    "execution": {
     "iopub.execute_input": "2022-08-07T00:48:56.799396Z",
     "iopub.status.busy": "2022-08-07T00:48:56.798806Z",
     "iopub.status.idle": "2022-08-07T00:48:56.803479Z",
     "shell.execute_reply": "2022-08-07T00:48:56.804037Z"
    },
    "papermill": {
     "duration": 0.040528,
     "end_time": "2022-08-07T00:48:56.804167",
     "exception": false,
     "start_time": "2022-08-07T00:48:56.763639",
     "status": "completed"
    },
    "tags": []
   },
   "outputs": [],
   "source": [
    "#hide\n",
    "df_table = (pd.DataFrame(dict(Cases = dfc_cases, Deaths = dfc_deaths, PCases = dfp_cases, PDeaths = dfp_deaths))\n",
    "            .sort_values(by = ['Cases','Deaths'], ascending = [False, False])\n",
    "            .reset_index())"
   ]
  },
  {
   "cell_type": "code",
   "execution_count": 13,
   "id": "educational-chancellor",
   "metadata": {
    "execution": {
     "iopub.execute_input": "2022-08-07T00:48:56.881312Z",
     "iopub.status.busy": "2022-08-07T00:48:56.880701Z",
     "iopub.status.idle": "2022-08-07T00:48:56.888921Z",
     "shell.execute_reply": "2022-08-07T00:48:56.888445Z"
    },
    "papermill": {
     "duration": 0.055846,
     "end_time": "2022-08-07T00:48:56.889040",
     "exception": false,
     "start_time": "2022-08-07T00:48:56.833194",
     "status": "completed"
    },
    "tags": []
   },
   "outputs": [
    {
     "data": {
      "text/html": [
       "<div>\n",
       "<style scoped>\n",
       "    .dataframe tbody tr th:only-of-type {\n",
       "        vertical-align: middle;\n",
       "    }\n",
       "\n",
       "    .dataframe tbody tr th {\n",
       "        vertical-align: top;\n",
       "    }\n",
       "\n",
       "    .dataframe thead th {\n",
       "        text-align: right;\n",
       "    }\n",
       "</style>\n",
       "<table border=\"1\" class=\"dataframe\">\n",
       "  <thead>\n",
       "    <tr style=\"text-align: right;\">\n",
       "      <th></th>\n",
       "      <th>Country/Region</th>\n",
       "      <th>Cases</th>\n",
       "      <th>Deaths</th>\n",
       "      <th>PCases</th>\n",
       "      <th>PDeaths</th>\n",
       "      <th>Cases (+)</th>\n",
       "      <th>Deaths (+)</th>\n",
       "      <th>Fatality Rate</th>\n",
       "      <th>Continent</th>\n",
       "    </tr>\n",
       "  </thead>\n",
       "  <tbody>\n",
       "    <tr>\n",
       "      <th>0</th>\n",
       "      <td>US</td>\n",
       "      <td>92090455</td>\n",
       "      <td>1033516</td>\n",
       "      <td>91961519</td>\n",
       "      <td>1032820</td>\n",
       "      <td>128936</td>\n",
       "      <td>696</td>\n",
       "      <td>1.12</td>\n",
       "      <td>North America</td>\n",
       "    </tr>\n",
       "    <tr>\n",
       "      <th>1</th>\n",
       "      <td>India</td>\n",
       "      <td>44126994</td>\n",
       "      <td>526649</td>\n",
       "      <td>44107588</td>\n",
       "      <td>526600</td>\n",
       "      <td>19406</td>\n",
       "      <td>49</td>\n",
       "      <td>1.19</td>\n",
       "      <td>Asia</td>\n",
       "    </tr>\n",
       "    <tr>\n",
       "      <th>2</th>\n",
       "      <td>France</td>\n",
       "      <td>34237067</td>\n",
       "      <td>153577</td>\n",
       "      <td>34206310</td>\n",
       "      <td>153497</td>\n",
       "      <td>30757</td>\n",
       "      <td>80</td>\n",
       "      <td>0.45</td>\n",
       "      <td>Europe</td>\n",
       "    </tr>\n",
       "    <tr>\n",
       "      <th>3</th>\n",
       "      <td>Brazil</td>\n",
       "      <td>33994470</td>\n",
       "      <td>679758</td>\n",
       "      <td>33964494</td>\n",
       "      <td>679536</td>\n",
       "      <td>29976</td>\n",
       "      <td>222</td>\n",
       "      <td>2.00</td>\n",
       "      <td>South America</td>\n",
       "    </tr>\n",
       "    <tr>\n",
       "      <th>4</th>\n",
       "      <td>Germany</td>\n",
       "      <td>31228314</td>\n",
       "      <td>144858</td>\n",
       "      <td>31178705</td>\n",
       "      <td>144717</td>\n",
       "      <td>49609</td>\n",
       "      <td>141</td>\n",
       "      <td>0.46</td>\n",
       "      <td>Europe</td>\n",
       "    </tr>\n",
       "  </tbody>\n",
       "</table>\n",
       "</div>"
      ],
      "text/plain": [
       "  Country/Region     Cases   Deaths    PCases  PDeaths  Cases (+)  Deaths (+)  \\\n",
       "0             US  92090455  1033516  91961519  1032820     128936         696   \n",
       "1          India  44126994   526649  44107588   526600      19406          49   \n",
       "2         France  34237067   153577  34206310   153497      30757          80   \n",
       "3         Brazil  33994470   679758  33964494   679536      29976         222   \n",
       "4        Germany  31228314   144858  31178705   144717      49609         141   \n",
       "\n",
       "   Fatality Rate      Continent  \n",
       "0           1.12  North America  \n",
       "1           1.19           Asia  \n",
       "2           0.45         Europe  \n",
       "3           2.00  South America  \n",
       "4           0.46         Europe  "
      ]
     },
     "execution_count": 13,
     "metadata": {},
     "output_type": "execute_result"
    }
   ],
   "source": [
    "#hide\n",
    "for c in 'Cases, Deaths'.split(', '):\n",
    "    df_table[f'{c} (+)'] = (df_table[c] - df_table[f'P{c}']).clip(0)\n",
    "    #Clip ça veut dire, les chiffres negatif sont interdit\n",
    "df_table['Fatality Rate'] = (100* df_table['Deaths']/ df_table['Cases']).round(2)\n",
    "df_table['Continent'] = df_table['Country/Region'].map(mapping['map.continent'])\n",
    "df_table.head(5)"
   ]
  },
  {
   "cell_type": "code",
   "execution_count": 14,
   "id": "aboriginal-bulgaria",
   "metadata": {
    "execution": {
     "iopub.execute_input": "2022-08-07T00:48:56.955122Z",
     "iopub.status.busy": "2022-08-07T00:48:56.954514Z",
     "iopub.status.idle": "2022-08-07T00:48:56.956816Z",
     "shell.execute_reply": "2022-08-07T00:48:56.957289Z"
    },
    "papermill": {
     "duration": 0.038416,
     "end_time": "2022-08-07T00:48:56.957426",
     "exception": false,
     "start_time": "2022-08-07T00:48:56.919010",
     "status": "completed"
    },
    "tags": []
   },
   "outputs": [],
   "source": [
    "#hide\n",
    "#delete problematic countries from table\n",
    "df_table = df_table[~df_table['Country/Region'].isin(['Cape Verde', 'Cruise Ship', 'Kosovo'])]"
   ]
  },
  {
   "cell_type": "code",
   "execution_count": 15,
   "id": "fantastic-effect",
   "metadata": {
    "execution": {
     "iopub.execute_input": "2022-08-07T00:48:57.025903Z",
     "iopub.status.busy": "2022-08-07T00:48:57.025302Z",
     "iopub.status.idle": "2022-08-07T00:48:57.043254Z",
     "shell.execute_reply": "2022-08-07T00:48:57.043704Z"
    },
    "papermill": {
     "duration": 0.056778,
     "end_time": "2022-08-07T00:48:57.043847",
     "exception": false,
     "start_time": "2022-08-07T00:48:56.987069",
     "status": "completed"
    },
    "tags": []
   },
   "outputs": [
    {
     "data": {
      "text/html": [
       "<div>\n",
       "<style scoped>\n",
       "    .dataframe tbody tr th:only-of-type {\n",
       "        vertical-align: middle;\n",
       "    }\n",
       "\n",
       "    .dataframe tbody tr th {\n",
       "        vertical-align: top;\n",
       "    }\n",
       "\n",
       "    .dataframe thead th {\n",
       "        text-align: right;\n",
       "    }\n",
       "</style>\n",
       "<table border=\"1\" class=\"dataframe\">\n",
       "  <thead>\n",
       "    <tr style=\"text-align: right;\">\n",
       "      <th></th>\n",
       "      <th>Country/Region</th>\n",
       "      <th>Cases</th>\n",
       "      <th>Deaths</th>\n",
       "      <th>PCases</th>\n",
       "      <th>PDeaths</th>\n",
       "      <th>Cases (+)</th>\n",
       "      <th>Deaths (+)</th>\n",
       "      <th>Fatality Rate</th>\n",
       "      <th>Continent</th>\n",
       "    </tr>\n",
       "  </thead>\n",
       "  <tbody>\n",
       "    <tr>\n",
       "      <th>0</th>\n",
       "      <td>US</td>\n",
       "      <td>92090455</td>\n",
       "      <td>1033516</td>\n",
       "      <td>91961519</td>\n",
       "      <td>1032820</td>\n",
       "      <td>128936</td>\n",
       "      <td>696</td>\n",
       "      <td>1.1</td>\n",
       "      <td>North America</td>\n",
       "    </tr>\n",
       "    <tr>\n",
       "      <th>1</th>\n",
       "      <td>India</td>\n",
       "      <td>44126994</td>\n",
       "      <td>526649</td>\n",
       "      <td>44107588</td>\n",
       "      <td>526600</td>\n",
       "      <td>19406</td>\n",
       "      <td>49</td>\n",
       "      <td>1.2</td>\n",
       "      <td>Asia</td>\n",
       "    </tr>\n",
       "    <tr>\n",
       "      <th>2</th>\n",
       "      <td>France</td>\n",
       "      <td>34237067</td>\n",
       "      <td>153577</td>\n",
       "      <td>34206310</td>\n",
       "      <td>153497</td>\n",
       "      <td>30757</td>\n",
       "      <td>80</td>\n",
       "      <td>0.4</td>\n",
       "      <td>Europe</td>\n",
       "    </tr>\n",
       "    <tr>\n",
       "      <th>3</th>\n",
       "      <td>Brazil</td>\n",
       "      <td>33994470</td>\n",
       "      <td>679758</td>\n",
       "      <td>33964494</td>\n",
       "      <td>679536</td>\n",
       "      <td>29976</td>\n",
       "      <td>222</td>\n",
       "      <td>2.0</td>\n",
       "      <td>South America</td>\n",
       "    </tr>\n",
       "    <tr>\n",
       "      <th>4</th>\n",
       "      <td>Germany</td>\n",
       "      <td>31228314</td>\n",
       "      <td>144858</td>\n",
       "      <td>31178705</td>\n",
       "      <td>144717</td>\n",
       "      <td>49609</td>\n",
       "      <td>141</td>\n",
       "      <td>0.5</td>\n",
       "      <td>Europe</td>\n",
       "    </tr>\n",
       "  </tbody>\n",
       "</table>\n",
       "</div>"
      ],
      "text/plain": [
       "  Country/Region     Cases   Deaths    PCases  PDeaths  Cases (+)  Deaths (+)  \\\n",
       "0             US  92090455  1033516  91961519  1032820     128936         696   \n",
       "1          India  44126994   526649  44107588   526600      19406          49   \n",
       "2         France  34237067   153577  34206310   153497      30757          80   \n",
       "3         Brazil  33994470   679758  33964494   679536      29976         222   \n",
       "4        Germany  31228314   144858  31178705   144717      49609         141   \n",
       "\n",
       "   Fatality Rate      Continent  \n",
       "0            1.1  North America  \n",
       "1            1.2           Asia  \n",
       "2            0.4         Europe  \n",
       "3            2.0  South America  \n",
       "4            0.5         Europe  "
      ]
     },
     "execution_count": 15,
     "metadata": {},
     "output_type": "execute_result"
    }
   ],
   "source": [
    "#hide\n",
    "df_table = (pd.DataFrame(dict(Cases=dfc_cases, Deaths=dfc_deaths, PCases=dfp_cases, PDeaths=dfp_deaths))\n",
    "             .sort_values(by=['Cases', 'Deaths'], ascending=[False, False])\n",
    "             .reset_index())\n",
    "df_table.rename(columns={'index': 'Country/Region'}, inplace=True)\n",
    "for c in 'Cases, Deaths'.split(', '):\n",
    "    df_table[f'{c} (+)'] = (df_table[c] - df_table[f'P{c}']).clip(0)  # DATA BUG\n",
    "df_table['Fatality Rate'] = (100 * df_table['Deaths'] / df_table['Cases']).round(1)\n",
    "df_table['Continent'] = df_table['Country/Region'].map(mapping['map.continent'])\n",
    "df_table.head(5)"
   ]
  },
  {
   "cell_type": "code",
   "execution_count": 16,
   "id": "fewer-occasion",
   "metadata": {
    "execution": {
     "iopub.execute_input": "2022-08-07T00:48:57.110365Z",
     "iopub.status.busy": "2022-08-07T00:48:57.109759Z",
     "iopub.status.idle": "2022-08-07T00:48:57.112197Z",
     "shell.execute_reply": "2022-08-07T00:48:57.112648Z"
    },
    "papermill": {
     "duration": 0.038433,
     "end_time": "2022-08-07T00:48:57.112781",
     "exception": false,
     "start_time": "2022-08-07T00:48:57.074348",
     "status": "completed"
    },
    "tags": []
   },
   "outputs": [],
   "source": [
    "#hide\n",
    "#delete problematic countries from table\n",
    "df_table = df_table[~df_table['Country/Region'].isin(['Cape Verde', 'Cruise Ship', 'Kosovo'])]"
   ]
  },
  {
   "cell_type": "code",
   "execution_count": 17,
   "id": "related-center",
   "metadata": {
    "execution": {
     "iopub.execute_input": "2022-08-07T00:48:57.180981Z",
     "iopub.status.busy": "2022-08-07T00:48:57.180375Z",
     "iopub.status.idle": "2022-08-07T00:48:57.194322Z",
     "shell.execute_reply": "2022-08-07T00:48:57.193803Z"
    },
    "papermill": {
     "duration": 0.051453,
     "end_time": "2022-08-07T00:48:57.194449",
     "exception": false,
     "start_time": "2022-08-07T00:48:57.142996",
     "status": "completed"
    },
    "tags": []
   },
   "outputs": [],
   "source": [
    "#hide\n",
    "metrics = [df_table.columns[index] for index in [1,2,5,6]]\n",
    "# s_china = df_table[df_table['Country/Region'].eq('China')][metrics].sum().add_prefix('China ')\n",
    "s_us = df_table[df_table['Country/Region'].eq('US')][metrics].sum().add_prefix('US ')\n",
    "s_eu = df_table[df_table['Continent'].eq('Europe')][metrics].sum().add_prefix('EU ')\n",
    "s_ind = df_table[df_table['Country/Region'].eq('India')][metrics].sum().add_prefix('India ')\n",
    "summary = {'updated': pd.to_datetime(dt_today), 'since': pd.to_datetime(dt_yday)}\n",
    "summary = {'updated': pd.to_datetime(dt_today), 'since': pd.to_datetime(dt_yday)}\n",
    "summary = {**summary, **df_table[metrics].sum(), **s_ind, **s_us, **s_eu}"
   ]
  },
  {
   "cell_type": "code",
   "execution_count": 18,
   "id": "engaging-syndrome",
   "metadata": {
    "execution": {
     "iopub.execute_input": "2022-08-07T00:48:57.261985Z",
     "iopub.status.busy": "2022-08-07T00:48:57.261320Z",
     "iopub.status.idle": "2022-08-07T00:48:57.282655Z",
     "shell.execute_reply": "2022-08-07T00:48:57.282037Z"
    },
    "papermill": {
     "duration": 0.0579,
     "end_time": "2022-08-07T00:48:57.282793",
     "exception": false,
     "start_time": "2022-08-07T00:48:57.224893",
     "status": "completed"
    },
    "tags": []
   },
   "outputs": [],
   "source": [
    "#hide\n",
    "dft_ct_new_cases = dft_cases.groupby(COL_REGION)[dt_cols].sum().diff(axis=1).fillna(0).astype(int)"
   ]
  },
  {
   "cell_type": "code",
   "execution_count": 19,
   "id": "neutral-assignment",
   "metadata": {
    "execution": {
     "iopub.execute_input": "2022-08-07T00:48:57.351425Z",
     "iopub.status.busy": "2022-08-07T00:48:57.350782Z",
     "iopub.status.idle": "2022-08-07T00:48:57.352862Z",
     "shell.execute_reply": "2022-08-07T00:48:57.353325Z"
    },
    "papermill": {
     "duration": 0.039865,
     "end_time": "2022-08-07T00:48:57.353466",
     "exception": false,
     "start_time": "2022-08-07T00:48:57.313601",
     "status": "completed"
    },
    "tags": []
   },
   "outputs": [],
   "source": [
    "#hide\n",
    "everydaycases = dft_ct_new_cases.cumsum(axis=1)"
   ]
  },
  {
   "cell_type": "code",
   "execution_count": 20,
   "id": "parliamentary-calgary",
   "metadata": {
    "execution": {
     "iopub.execute_input": "2022-08-07T00:48:57.419398Z",
     "iopub.status.busy": "2022-08-07T00:48:57.418797Z",
     "iopub.status.idle": "2022-08-07T00:48:58.004472Z",
     "shell.execute_reply": "2022-08-07T00:48:58.005005Z"
    },
    "papermill": {
     "duration": 0.621136,
     "end_time": "2022-08-07T00:48:58.005162",
     "exception": false,
     "start_time": "2022-08-07T00:48:57.384026",
     "status": "completed"
    },
    "tags": []
   },
   "outputs": [],
   "source": [
    "#hide\n",
    "import pandas as pd\n",
    "import matplotlib.pyplot as plt\n",
    "import matplotlib.ticker as ticker\n",
    "import matplotlib.animation as animation\n",
    "from IPython.display import HTML"
   ]
  },
  {
   "cell_type": "code",
   "execution_count": 21,
   "id": "lasting-extraction",
   "metadata": {
    "execution": {
     "iopub.execute_input": "2022-08-07T00:48:58.074356Z",
     "iopub.status.busy": "2022-08-07T00:48:58.073679Z",
     "iopub.status.idle": "2022-08-07T00:48:58.081744Z",
     "shell.execute_reply": "2022-08-07T00:48:58.081252Z"
    },
    "papermill": {
     "duration": 0.045856,
     "end_time": "2022-08-07T00:48:58.081875",
     "exception": false,
     "start_time": "2022-08-07T00:48:58.036019",
     "status": "completed"
    },
    "tags": []
   },
   "outputs": [],
   "source": [
    "#hide\n",
    "t = everydaycases.stack()"
   ]
  },
  {
   "cell_type": "code",
   "execution_count": 22,
   "id": "premier-sleeve",
   "metadata": {
    "execution": {
     "iopub.execute_input": "2022-08-07T00:48:58.147453Z",
     "iopub.status.busy": "2022-08-07T00:48:58.146867Z",
     "iopub.status.idle": "2022-08-07T00:48:58.158103Z",
     "shell.execute_reply": "2022-08-07T00:48:58.158708Z"
    },
    "papermill": {
     "duration": 0.046326,
     "end_time": "2022-08-07T00:48:58.158846",
     "exception": false,
     "start_time": "2022-08-07T00:48:58.112520",
     "status": "completed"
    },
    "tags": []
   },
   "outputs": [],
   "source": [
    "#hide\n",
    "g = t.reset_index(['Country/Region'])"
   ]
  },
  {
   "cell_type": "code",
   "execution_count": 23,
   "id": "distributed-pittsburgh",
   "metadata": {
    "execution": {
     "iopub.execute_input": "2022-08-07T00:48:58.223679Z",
     "iopub.status.busy": "2022-08-07T00:48:58.223091Z",
     "iopub.status.idle": "2022-08-07T00:48:58.225402Z",
     "shell.execute_reply": "2022-08-07T00:48:58.225953Z"
    },
    "papermill": {
     "duration": 0.037164,
     "end_time": "2022-08-07T00:48:58.226089",
     "exception": false,
     "start_time": "2022-08-07T00:48:58.188925",
     "status": "completed"
    },
    "tags": []
   },
   "outputs": [],
   "source": [
    "#hide\n",
    "g.index.name = 'date'"
   ]
  },
  {
   "cell_type": "code",
   "execution_count": 24,
   "id": "naked-donor",
   "metadata": {
    "execution": {
     "iopub.execute_input": "2022-08-07T00:48:58.289766Z",
     "iopub.status.busy": "2022-08-07T00:48:58.289177Z",
     "iopub.status.idle": "2022-08-07T00:48:58.291389Z",
     "shell.execute_reply": "2022-08-07T00:48:58.291809Z"
    },
    "papermill": {
     "duration": 0.035815,
     "end_time": "2022-08-07T00:48:58.291937",
     "exception": false,
     "start_time": "2022-08-07T00:48:58.256122",
     "status": "completed"
    },
    "tags": []
   },
   "outputs": [],
   "source": [
    "# #hide\n",
    "# g = g.reset_index(['date'])"
   ]
  },
  {
   "cell_type": "code",
   "execution_count": 25,
   "id": "incomplete-mustang",
   "metadata": {
    "execution": {
     "iopub.execute_input": "2022-08-07T00:48:58.356770Z",
     "iopub.status.busy": "2022-08-07T00:48:58.356074Z",
     "iopub.status.idle": "2022-08-07T00:48:58.357891Z",
     "shell.execute_reply": "2022-08-07T00:48:58.358428Z"
    },
    "papermill": {
     "duration": 0.036561,
     "end_time": "2022-08-07T00:48:58.358583",
     "exception": false,
     "start_time": "2022-08-07T00:48:58.322022",
     "status": "completed"
    },
    "tags": []
   },
   "outputs": [],
   "source": [
    "#hide\n",
    "# g.head()"
   ]
  },
  {
   "cell_type": "code",
   "execution_count": 26,
   "id": "specific-kruger",
   "metadata": {
    "execution": {
     "iopub.execute_input": "2022-08-07T00:48:58.423579Z",
     "iopub.status.busy": "2022-08-07T00:48:58.422854Z",
     "iopub.status.idle": "2022-08-07T00:48:58.426585Z",
     "shell.execute_reply": "2022-08-07T00:48:58.427104Z"
    },
    "papermill": {
     "duration": 0.038278,
     "end_time": "2022-08-07T00:48:58.427253",
     "exception": false,
     "start_time": "2022-08-07T00:48:58.388975",
     "status": "completed"
    },
    "tags": []
   },
   "outputs": [],
   "source": [
    "#hide\n",
    "# g.columns = ['date','country','cases']"
   ]
  },
  {
   "cell_type": "code",
   "execution_count": 27,
   "id": "tender-conversion",
   "metadata": {
    "execution": {
     "iopub.execute_input": "2022-08-07T00:48:58.491075Z",
     "iopub.status.busy": "2022-08-07T00:48:58.490482Z",
     "iopub.status.idle": "2022-08-07T00:48:58.492740Z",
     "shell.execute_reply": "2022-08-07T00:48:58.493218Z"
    },
    "papermill": {
     "duration": 0.035921,
     "end_time": "2022-08-07T00:48:58.493350",
     "exception": false,
     "start_time": "2022-08-07T00:48:58.457429",
     "status": "completed"
    },
    "tags": []
   },
   "outputs": [],
   "source": [
    "#hide\n",
    "# g['continent'] = g.country"
   ]
  },
  {
   "cell_type": "code",
   "execution_count": 28,
   "id": "substantial-wilderness",
   "metadata": {
    "execution": {
     "iopub.execute_input": "2022-08-07T00:48:58.558194Z",
     "iopub.status.busy": "2022-08-07T00:48:58.557522Z",
     "iopub.status.idle": "2022-08-07T00:48:58.560022Z",
     "shell.execute_reply": "2022-08-07T00:48:58.559378Z"
    },
    "papermill": {
     "duration": 0.036507,
     "end_time": "2022-08-07T00:48:58.560145",
     "exception": false,
     "start_time": "2022-08-07T00:48:58.523638",
     "status": "completed"
    },
    "tags": []
   },
   "outputs": [],
   "source": [
    "#hide\n",
    "# cols = list(g.columns.values)"
   ]
  },
  {
   "cell_type": "code",
   "execution_count": 29,
   "id": "solved-farming",
   "metadata": {
    "execution": {
     "iopub.execute_input": "2022-08-07T00:48:58.623545Z",
     "iopub.status.busy": "2022-08-07T00:48:58.622976Z",
     "iopub.status.idle": "2022-08-07T00:48:58.625519Z",
     "shell.execute_reply": "2022-08-07T00:48:58.624973Z"
    },
    "papermill": {
     "duration": 0.035439,
     "end_time": "2022-08-07T00:48:58.625628",
     "exception": false,
     "start_time": "2022-08-07T00:48:58.590189",
     "status": "completed"
    },
    "tags": []
   },
   "outputs": [],
   "source": [
    "#hide\n",
    "# cols.insert(0, cols.pop())"
   ]
  },
  {
   "cell_type": "code",
   "execution_count": 30,
   "id": "executed-adoption",
   "metadata": {
    "execution": {
     "iopub.execute_input": "2022-08-07T00:48:58.689795Z",
     "iopub.status.busy": "2022-08-07T00:48:58.689125Z",
     "iopub.status.idle": "2022-08-07T00:48:58.691284Z",
     "shell.execute_reply": "2022-08-07T00:48:58.691762Z"
    },
    "papermill": {
     "duration": 0.036291,
     "end_time": "2022-08-07T00:48:58.691903",
     "exception": false,
     "start_time": "2022-08-07T00:48:58.655612",
     "status": "completed"
    },
    "tags": []
   },
   "outputs": [],
   "source": [
    "#hide\n",
    "# g = g[cols]"
   ]
  },
  {
   "cell_type": "code",
   "execution_count": 31,
   "id": "subject-dublin",
   "metadata": {
    "execution": {
     "iopub.execute_input": "2022-08-07T00:48:58.755624Z",
     "iopub.status.busy": "2022-08-07T00:48:58.754991Z",
     "iopub.status.idle": "2022-08-07T00:48:58.757604Z",
     "shell.execute_reply": "2022-08-07T00:48:58.758050Z"
    },
    "papermill": {
     "duration": 0.036174,
     "end_time": "2022-08-07T00:48:58.758173",
     "exception": false,
     "start_time": "2022-08-07T00:48:58.721999",
     "status": "completed"
    },
    "tags": []
   },
   "outputs": [],
   "source": [
    "#hide\n",
    "# g['continent'] = g['continent'].map(mapping['map.continent'])"
   ]
  },
  {
   "cell_type": "code",
   "execution_count": 32,
   "id": "freelance-scout",
   "metadata": {
    "execution": {
     "iopub.execute_input": "2022-08-07T00:48:58.821908Z",
     "iopub.status.busy": "2022-08-07T00:48:58.821331Z",
     "iopub.status.idle": "2022-08-07T00:48:58.823728Z",
     "shell.execute_reply": "2022-08-07T00:48:58.824150Z"
    },
    "papermill": {
     "duration": 0.035938,
     "end_time": "2022-08-07T00:48:58.824276",
     "exception": false,
     "start_time": "2022-08-07T00:48:58.788338",
     "status": "completed"
    },
    "tags": []
   },
   "outputs": [],
   "source": [
    "#hide\n",
    "# g.head()"
   ]
  },
  {
   "cell_type": "code",
   "execution_count": 33,
   "id": "limited-engine",
   "metadata": {
    "execution": {
     "iopub.execute_input": "2022-08-07T00:48:58.887836Z",
     "iopub.status.busy": "2022-08-07T00:48:58.887247Z",
     "iopub.status.idle": "2022-08-07T00:48:58.889568Z",
     "shell.execute_reply": "2022-08-07T00:48:58.889005Z"
    },
    "papermill": {
     "duration": 0.035613,
     "end_time": "2022-08-07T00:48:58.889675",
     "exception": false,
     "start_time": "2022-08-07T00:48:58.854062",
     "status": "completed"
    },
    "tags": []
   },
   "outputs": [],
   "source": [
    "# hide\n",
    "# g['date'] = g['date'].astype('datetime64[ns]')"
   ]
  },
  {
   "cell_type": "code",
   "execution_count": 34,
   "id": "sophisticated-supervisor",
   "metadata": {
    "execution": {
     "iopub.execute_input": "2022-08-07T00:48:58.953600Z",
     "iopub.status.busy": "2022-08-07T00:48:58.952938Z",
     "iopub.status.idle": "2022-08-07T00:48:58.955607Z",
     "shell.execute_reply": "2022-08-07T00:48:58.955078Z"
    },
    "papermill": {
     "duration": 0.035913,
     "end_time": "2022-08-07T00:48:58.955727",
     "exception": false,
     "start_time": "2022-08-07T00:48:58.919814",
     "status": "completed"
    },
    "tags": []
   },
   "outputs": [],
   "source": [
    "#hide\n",
    "# g['date'] = g.date.dt.dayofyear"
   ]
  },
  {
   "cell_type": "code",
   "execution_count": 35,
   "id": "inside-dubai",
   "metadata": {
    "execution": {
     "iopub.execute_input": "2022-08-07T00:48:59.020204Z",
     "iopub.status.busy": "2022-08-07T00:48:59.019609Z",
     "iopub.status.idle": "2022-08-07T00:48:59.021770Z",
     "shell.execute_reply": "2022-08-07T00:48:59.022235Z"
    },
    "papermill": {
     "duration": 0.036422,
     "end_time": "2022-08-07T00:48:59.022369",
     "exception": false,
     "start_time": "2022-08-07T00:48:58.985947",
     "status": "completed"
    },
    "tags": []
   },
   "outputs": [],
   "source": [
    "#hide\n",
    "# g = g.rename(columns= {'continent':'group','country':'name','cases':'value'})"
   ]
  },
  {
   "cell_type": "code",
   "execution_count": 36,
   "id": "fleet-motorcycle",
   "metadata": {
    "execution": {
     "iopub.execute_input": "2022-08-07T00:48:59.086933Z",
     "iopub.status.busy": "2022-08-07T00:48:59.086194Z",
     "iopub.status.idle": "2022-08-07T00:48:59.089588Z",
     "shell.execute_reply": "2022-08-07T00:48:59.089053Z"
    },
    "papermill": {
     "duration": 0.037263,
     "end_time": "2022-08-07T00:48:59.089710",
     "exception": false,
     "start_time": "2022-08-07T00:48:59.052447",
     "status": "completed"
    },
    "tags": []
   },
   "outputs": [],
   "source": [
    "#hide\n",
    "# cols = ['name','group','day','value']"
   ]
  },
  {
   "cell_type": "code",
   "execution_count": 37,
   "id": "continued-sleeping",
   "metadata": {
    "execution": {
     "iopub.execute_input": "2022-08-07T00:48:59.153582Z",
     "iopub.status.busy": "2022-08-07T00:48:59.152991Z",
     "iopub.status.idle": "2022-08-07T00:48:59.155513Z",
     "shell.execute_reply": "2022-08-07T00:48:59.154946Z"
    },
    "papermill": {
     "duration": 0.035727,
     "end_time": "2022-08-07T00:48:59.155621",
     "exception": false,
     "start_time": "2022-08-07T00:48:59.119894",
     "status": "completed"
    },
    "tags": []
   },
   "outputs": [],
   "source": [
    "#hide\n",
    "# g.rename(columns= {'date':'day'},inplace = True)"
   ]
  },
  {
   "cell_type": "code",
   "execution_count": 38,
   "id": "major-fight",
   "metadata": {
    "execution": {
     "iopub.execute_input": "2022-08-07T00:48:59.219255Z",
     "iopub.status.busy": "2022-08-07T00:48:59.218673Z",
     "iopub.status.idle": "2022-08-07T00:48:59.220853Z",
     "shell.execute_reply": "2022-08-07T00:48:59.221403Z"
    },
    "papermill": {
     "duration": 0.035815,
     "end_time": "2022-08-07T00:48:59.221523",
     "exception": false,
     "start_time": "2022-08-07T00:48:59.185708",
     "status": "completed"
    },
    "tags": []
   },
   "outputs": [],
   "source": [
    "#hide\n",
    "# g = g[cols]"
   ]
  },
  {
   "cell_type": "code",
   "execution_count": 39,
   "id": "structured-mobile",
   "metadata": {
    "execution": {
     "iopub.execute_input": "2022-08-07T00:48:59.286523Z",
     "iopub.status.busy": "2022-08-07T00:48:59.285898Z",
     "iopub.status.idle": "2022-08-07T00:48:59.288107Z",
     "shell.execute_reply": "2022-08-07T00:48:59.288661Z"
    },
    "papermill": {
     "duration": 0.03637,
     "end_time": "2022-08-07T00:48:59.288782",
     "exception": false,
     "start_time": "2022-08-07T00:48:59.252412",
     "status": "completed"
    },
    "tags": []
   },
   "outputs": [],
   "source": [
    "# #hide\n",
    "# g = g[g.group.notna()]"
   ]
  },
  {
   "cell_type": "code",
   "execution_count": 40,
   "id": "determined-closing",
   "metadata": {
    "execution": {
     "iopub.execute_input": "2022-08-07T00:48:59.352691Z",
     "iopub.status.busy": "2022-08-07T00:48:59.352015Z",
     "iopub.status.idle": "2022-08-07T00:48:59.354714Z",
     "shell.execute_reply": "2022-08-07T00:48:59.354110Z"
    },
    "papermill": {
     "duration": 0.036053,
     "end_time": "2022-08-07T00:48:59.354824",
     "exception": false,
     "start_time": "2022-08-07T00:48:59.318771",
     "status": "completed"
    },
    "tags": []
   },
   "outputs": [],
   "source": [
    "# #hide\n",
    "# colors = dict(zip(\n",
    "#     [\"Oceania\", \"Europe\", \"Asia\", \"South America\", \"Middle East\", \"North America\", \"Africa\"],\n",
    "#     [\"#adb0ff\", \"#ffb3ff\", \"#90d595\", \"#e48381\", \"#aafbff\", \"#f7bb5f\", \"#eafb50\"]\n",
    "# ))\n",
    "# group_lk = g.set_index('name')['group'].to_dict()"
   ]
  },
  {
   "cell_type": "code",
   "execution_count": null,
   "id": "gross-drinking",
   "metadata": {
    "papermill": {
     "duration": 0.029761,
     "end_time": "2022-08-07T00:48:59.414378",
     "exception": false,
     "start_time": "2022-08-07T00:48:59.384617",
     "status": "completed"
    },
    "tags": []
   },
   "outputs": [],
   "source": []
  },
  {
   "cell_type": "code",
   "execution_count": 41,
   "id": "subject-macintosh",
   "metadata": {
    "execution": {
     "iopub.execute_input": "2022-08-07T00:48:59.479227Z",
     "iopub.status.busy": "2022-08-07T00:48:59.478612Z",
     "iopub.status.idle": "2022-08-07T00:48:59.480959Z",
     "shell.execute_reply": "2022-08-07T00:48:59.480483Z"
    },
    "papermill": {
     "duration": 0.036786,
     "end_time": "2022-08-07T00:48:59.481070",
     "exception": false,
     "start_time": "2022-08-07T00:48:59.444284",
     "status": "completed"
    },
    "tags": []
   },
   "outputs": [],
   "source": [
    "# #hide\n",
    "# fig, ax = plt.subplots(figsize=(15, 8))\n",
    "\n",
    "# def draw_barchart(current_day):\n",
    "#     dff = g[g['day'].eq(current_day)].sort_values(by='value', ascending=True).tail(10)\n",
    "#     ax.clear()\n",
    "#     ax.barh(dff['name'], dff['value'], color=[colors[group_lk[x]] for x in dff['name']])\n",
    "#     dx = dff['value'].max() / 200\n",
    "    \n",
    "#     for i, (value, name) in enumerate(zip(dff['value'], dff['name'])):\n",
    "#         ax.text(value-dx, i,     name,           size=14, weight=600, ha='right', va='bottom')\n",
    "#         ax.text(value-dx, i-.25, group_lk[name], size=10, color='#444444', ha='right', va='baseline')\n",
    "#         ax.text(value+dx, i,     f'{value:,.0f}',  size=14, ha='left',  va='center')\n",
    "#     ax.text(1, 0.4, current_day, transform=ax.transAxes, color='#777777', size=46, ha='right', weight=800)\n",
    "#     ax.text(0, 1.06, 'Population (thousands)', transform=ax.transAxes, size=12, color='#777777')\n",
    "#     ax.xaxis.set_major_formatter(ticker.StrMethodFormatter('{x:,.0f}'))\n",
    "#     ax.xaxis.set_ticks_position('top')\n",
    "#     ax.tick_params(axis='x', colors='#777777', labelsize=12)\n",
    "#     ax.set_yticks([])\n",
    "#     ax.margins(0, 0.01)\n",
    "#     ax.grid(which='major', axis='x', linestyle='-')\n",
    "#     ax.set_axisbelow(True)\n",
    "    \n",
    "#     ax.text(0, 1.15, 'Coronavirus',\n",
    "#             transform=ax.transAxes, size=24, weight=600, ha='left', va='top')\n",
    "# #     ax.text(1, 0, 'by @pratapvardhan; credit @jburnmurdoch', transform=ax.transAxes, color='#777777', ha='right',\n",
    "# #             bbox=dict(facecolor='white', alpha=0.8, edgecolor='white'))\n",
    "#     plt.box(False)"
   ]
  },
  {
   "cell_type": "code",
   "execution_count": 42,
   "id": "sexual-wages",
   "metadata": {
    "execution": {
     "iopub.execute_input": "2022-08-07T00:48:59.545914Z",
     "iopub.status.busy": "2022-08-07T00:48:59.545211Z",
     "iopub.status.idle": "2022-08-07T00:48:59.546988Z",
     "shell.execute_reply": "2022-08-07T00:48:59.547527Z"
    },
    "papermill": {
     "duration": 0.03652,
     "end_time": "2022-08-07T00:48:59.547676",
     "exception": false,
     "start_time": "2022-08-07T00:48:59.511156",
     "status": "completed"
    },
    "tags": []
   },
   "outputs": [],
   "source": [
    "# #hide_input\n",
    "# fig, ax = plt.subplots(figsize=(15, 8))\n",
    "# animator = animation.FuncAnimation(fig, draw_barchart, frames=range(g.day.values.min(), g.day.values.max()))\n",
    "# HTML(animator.to_jshtml())\n",
    "# # or use animator.to_html5_video() or animator.save() "
   ]
  },
  {
   "cell_type": "code",
   "execution_count": null,
   "id": "australian-container",
   "metadata": {
    "papermill": {
     "duration": 0.030193,
     "end_time": "2022-08-07T00:48:59.609087",
     "exception": false,
     "start_time": "2022-08-07T00:48:59.578894",
     "status": "completed"
    },
    "tags": []
   },
   "outputs": [],
   "source": []
  },
  {
   "cell_type": "code",
   "execution_count": null,
   "id": "mediterranean-pontiac",
   "metadata": {
    "papermill": {
     "duration": 0.029931,
     "end_time": "2022-08-07T00:48:59.669126",
     "exception": false,
     "start_time": "2022-08-07T00:48:59.639195",
     "status": "completed"
    },
    "tags": []
   },
   "outputs": [],
   "source": []
  },
  {
   "cell_type": "code",
   "execution_count": null,
   "id": "aging-legislature",
   "metadata": {
    "papermill": {
     "duration": 0.029869,
     "end_time": "2022-08-07T00:48:59.729265",
     "exception": false,
     "start_time": "2022-08-07T00:48:59.699396",
     "status": "completed"
    },
    "tags": []
   },
   "outputs": [],
   "source": []
  }
 ],
 "metadata": {
  "kernelspec": {
   "display_name": "Python 3",
   "language": "python",
   "name": "python3"
  },
  "language_info": {
   "codemirror_mode": {
    "name": "ipython",
    "version": 3
   },
   "file_extension": ".py",
   "mimetype": "text/x-python",
   "name": "python",
   "nbconvert_exporter": "python",
   "pygments_lexer": "ipython3",
   "version": "3.6.15"
  },
  "papermill": {
   "duration": 5.912517,
   "end_time": "2022-08-07T00:49:00.179628",
   "environment_variables": {},
   "exception": null,
   "input_path": "2020-03-21-covid19exp.ipynb",
   "output_path": "2020-03-21-covid19exp.ipynb",
   "parameters": {},
   "start_time": "2022-08-07T00:48:54.267111",
   "version": "2.0.0"
  }
 },
 "nbformat": 4,
 "nbformat_minor": 5
}