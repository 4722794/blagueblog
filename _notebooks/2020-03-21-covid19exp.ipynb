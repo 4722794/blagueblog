{
 "cells": [
  {
   "cell_type": "markdown",
   "id": "muslim-click",
   "metadata": {
    "papermill": {
     "duration": 0.034666,
     "end_time": "2022-01-05T12:12:58.328931",
     "exception": false,
     "start_time": "2022-01-05T12:12:58.294265",
     "status": "completed"
    },
    "tags": []
   },
   "source": [
    "# COVID-19 Case Race\n",
    "> A race chart to see rising cases around the world\n",
    "\n",
    "- author: Hargun Oberoi\n",
    "- image: images/covid-overview.png\n",
    "- hide: false\n",
    "- badges: false"
   ]
  },
  {
   "cell_type": "code",
   "execution_count": 1,
   "id": "proof-material",
   "metadata": {
    "execution": {
     "iopub.execute_input": "2022-01-05T12:12:58.399645Z",
     "iopub.status.busy": "2022-01-05T12:12:58.399115Z",
     "iopub.status.idle": "2022-01-05T12:12:58.722577Z",
     "shell.execute_reply": "2022-01-05T12:12:58.722022Z"
    },
    "papermill": {
     "duration": 0.363853,
     "end_time": "2022-01-05T12:12:58.722735",
     "exception": false,
     "start_time": "2022-01-05T12:12:58.358882",
     "status": "completed"
    },
    "tags": []
   },
   "outputs": [],
   "source": [
    "#hide\n",
    "import numpy as np\n",
    "import pandas as pd\n",
    "from jinja2 import Template\n",
    "from IPython.display import HTML"
   ]
  },
  {
   "cell_type": "code",
   "execution_count": 2,
   "id": "developed-terminology",
   "metadata": {
    "execution": {
     "iopub.execute_input": "2022-01-05T12:12:58.788225Z",
     "iopub.status.busy": "2022-01-05T12:12:58.787705Z",
     "iopub.status.idle": "2022-01-05T12:12:58.789968Z",
     "shell.execute_reply": "2022-01-05T12:12:58.789558Z"
    },
    "papermill": {
     "duration": 0.036631,
     "end_time": "2022-01-05T12:12:58.790075",
     "exception": false,
     "start_time": "2022-01-05T12:12:58.753444",
     "status": "completed"
    },
    "tags": []
   },
   "outputs": [],
   "source": [
    "#hide\n",
    "\n",
    "# FETCH\n",
    "base_url = 'https://raw.githubusercontent.com/pratapvardhan/notebooks/master/covid19/'\n",
    "paths = {\n",
    "    'mapping': base_url + 'mapping_countries.csv',\n",
    "    'overview': base_url + 'overview.tpl'\n",
    "}"
   ]
  },
  {
   "cell_type": "code",
   "execution_count": 3,
   "id": "dynamic-saver",
   "metadata": {
    "execution": {
     "iopub.execute_input": "2022-01-05T12:12:58.857816Z",
     "iopub.status.busy": "2022-01-05T12:12:58.857313Z",
     "iopub.status.idle": "2022-01-05T12:12:58.860304Z",
     "shell.execute_reply": "2022-01-05T12:12:58.859881Z"
    },
    "papermill": {
     "duration": 0.040943,
     "end_time": "2022-01-05T12:12:58.860409",
     "exception": false,
     "start_time": "2022-01-05T12:12:58.819466",
     "status": "completed"
    },
    "tags": []
   },
   "outputs": [
    {
     "data": {
      "text/plain": [
       "'https://raw.githubusercontent.com/pratapvardhan/notebooks/master/covid19/mapping_countries.csv'"
      ]
     },
     "execution_count": 3,
     "metadata": {},
     "output_type": "execute_result"
    }
   ],
   "source": [
    "#hide\n",
    "paths['mapping']"
   ]
  },
  {
   "cell_type": "code",
   "execution_count": 4,
   "id": "urban-software",
   "metadata": {
    "execution": {
     "iopub.execute_input": "2022-01-05T12:12:58.925092Z",
     "iopub.status.busy": "2022-01-05T12:12:58.924517Z",
     "iopub.status.idle": "2022-01-05T12:12:58.926245Z",
     "shell.execute_reply": "2022-01-05T12:12:58.926673Z"
    },
    "papermill": {
     "duration": 0.036671,
     "end_time": "2022-01-05T12:12:58.926799",
     "exception": false,
     "start_time": "2022-01-05T12:12:58.890128",
     "status": "completed"
    },
    "tags": []
   },
   "outputs": [],
   "source": [
    "#hide\n",
    "def get_mappings(url):\n",
    "    df = pd.read_csv(url)\n",
    "    return {\n",
    "        'df': df,\n",
    "        'replace.country': dict(df.dropna(subset=['Name']).set_index('Country')['Name']),\n",
    "        'map.continent': dict(df.set_index('Name')['Continent'])\n",
    "    }"
   ]
  },
  {
   "cell_type": "code",
   "execution_count": 5,
   "id": "intimate-machinery",
   "metadata": {
    "execution": {
     "iopub.execute_input": "2022-01-05T12:12:58.990905Z",
     "iopub.status.busy": "2022-01-05T12:12:58.990405Z",
     "iopub.status.idle": "2022-01-05T12:12:59.022114Z",
     "shell.execute_reply": "2022-01-05T12:12:59.021648Z"
    },
    "papermill": {
     "duration": 0.065796,
     "end_time": "2022-01-05T12:12:59.022239",
     "exception": false,
     "start_time": "2022-01-05T12:12:58.956443",
     "status": "completed"
    },
    "tags": []
   },
   "outputs": [],
   "source": [
    "#hide\n",
    "mapping = get_mappings(paths['mapping'])"
   ]
  },
  {
   "cell_type": "code",
   "execution_count": 6,
   "id": "certified-tactics",
   "metadata": {
    "execution": {
     "iopub.execute_input": "2022-01-05T12:12:59.086159Z",
     "iopub.status.busy": "2022-01-05T12:12:59.085639Z",
     "iopub.status.idle": "2022-01-05T12:12:59.088913Z",
     "shell.execute_reply": "2022-01-05T12:12:59.089303Z"
    },
    "papermill": {
     "duration": 0.037429,
     "end_time": "2022-01-05T12:12:59.089427",
     "exception": false,
     "start_time": "2022-01-05T12:12:59.051998",
     "status": "completed"
    },
    "tags": []
   },
   "outputs": [],
   "source": [
    "#hide\n",
    "def get_template(path):\n",
    "    from urllib.parse import urlparse\n",
    "    if bool(urlparse(path).netloc):\n",
    "        from urllib.request import urlopen\n",
    "        return urlopen(path).read().decode('utf8')\n",
    "    return open(path).read()"
   ]
  },
  {
   "cell_type": "code",
   "execution_count": 7,
   "id": "realistic-blast",
   "metadata": {
    "execution": {
     "iopub.execute_input": "2022-01-05T12:12:59.153212Z",
     "iopub.status.busy": "2022-01-05T12:12:59.152600Z",
     "iopub.status.idle": "2022-01-05T12:12:59.154779Z",
     "shell.execute_reply": "2022-01-05T12:12:59.154295Z"
    },
    "papermill": {
     "duration": 0.036046,
     "end_time": "2022-01-05T12:12:59.154891",
     "exception": false,
     "start_time": "2022-01-05T12:12:59.118845",
     "status": "completed"
    },
    "tags": []
   },
   "outputs": [],
   "source": [
    "#hide\n",
    "def get_frame(name):\n",
    "    url = (\n",
    "        'https://raw.githubusercontent.com/CSSEGISandData/COVID-19/master/csse_covid_19_data/'\n",
    "        f'csse_covid_19_time_series/time_series_covid19_{name}_global.csv')\n",
    "    df = pd.read_csv(url)\n",
    "    # rename countries\n",
    "    df['Country/Region'] = df['Country/Region'].replace(mapping['replace.country'])\n",
    "    return df"
   ]
  },
  {
   "cell_type": "code",
   "execution_count": 8,
   "id": "affiliated-characterization",
   "metadata": {
    "execution": {
     "iopub.execute_input": "2022-01-05T12:12:59.219456Z",
     "iopub.status.busy": "2022-01-05T12:12:59.218929Z",
     "iopub.status.idle": "2022-01-05T12:12:59.220724Z",
     "shell.execute_reply": "2022-01-05T12:12:59.221135Z"
    },
    "papermill": {
     "duration": 0.036655,
     "end_time": "2022-01-05T12:12:59.221261",
     "exception": false,
     "start_time": "2022-01-05T12:12:59.184606",
     "status": "completed"
    },
    "tags": []
   },
   "outputs": [],
   "source": [
    "#hide\n",
    "def get_dates(df):\n",
    "    dt_cols = df.columns[~df.columns.isin(['Province/State', 'Country/Region', 'Lat', 'Long'])]\n",
    "    LAST_DATE_I = -1\n",
    "    # sometimes last column may be empty, then go backwards\n",
    "    for i in range(-1, -len(dt_cols), -1):\n",
    "        if not df[dt_cols[i]].fillna(0).eq(0).all():\n",
    "            LAST_DATE_I = i\n",
    "            break\n",
    "    return LAST_DATE_I, dt_cols"
   ]
  },
  {
   "cell_type": "code",
   "execution_count": 9,
   "id": "recent-optimization",
   "metadata": {
    "execution": {
     "iopub.execute_input": "2022-01-05T12:12:59.284690Z",
     "iopub.status.busy": "2022-01-05T12:12:59.284164Z",
     "iopub.status.idle": "2022-01-05T12:12:59.607117Z",
     "shell.execute_reply": "2022-01-05T12:12:59.606061Z"
    },
    "papermill": {
     "duration": 0.356611,
     "end_time": "2022-01-05T12:12:59.607281",
     "exception": false,
     "start_time": "2022-01-05T12:12:59.250670",
     "status": "completed"
    },
    "tags": []
   },
   "outputs": [],
   "source": [
    "#hide\n",
    "COL_REGION = 'Country/Region'\n",
    "# Confirmed, Recovered, Deaths\n",
    "df = get_frame('confirmed')\n",
    "# dft_: timeseries, dfc_: today country agg\n",
    "dft_cases = df\n",
    "dft_deaths = get_frame('deaths')\n",
    "dft_recovered = get_frame('recovered')\n",
    "LAST_DATE_I, dt_cols = get_dates(df)"
   ]
  },
  {
   "cell_type": "code",
   "execution_count": 10,
   "id": "absolute-copper",
   "metadata": {
    "execution": {
     "iopub.execute_input": "2022-01-05T12:12:59.674014Z",
     "iopub.status.busy": "2022-01-05T12:12:59.673477Z",
     "iopub.status.idle": "2022-01-05T12:12:59.675594Z",
     "shell.execute_reply": "2022-01-05T12:12:59.675130Z"
    },
    "papermill": {
     "duration": 0.037394,
     "end_time": "2022-01-05T12:12:59.675707",
     "exception": false,
     "start_time": "2022-01-05T12:12:59.638313",
     "status": "completed"
    },
    "tags": []
   },
   "outputs": [],
   "source": [
    "#hide\n",
    "LAST_DATE_I, dt_cols = get_dates(df)\n",
    "dt_today =dt_cols[LAST_DATE_I]\n",
    "# dt_5day = dt_cols[LAST_DATE_I - 5]\n",
    "dt_yday = dt_cols[LAST_DATE_I - 1]"
   ]
  },
  {
   "cell_type": "code",
   "execution_count": 11,
   "id": "restricted-sheriff",
   "metadata": {
    "execution": {
     "iopub.execute_input": "2022-01-05T12:12:59.739938Z",
     "iopub.status.busy": "2022-01-05T12:12:59.739429Z",
     "iopub.status.idle": "2022-01-05T12:12:59.747361Z",
     "shell.execute_reply": "2022-01-05T12:12:59.746927Z"
    },
    "papermill": {
     "duration": 0.042332,
     "end_time": "2022-01-05T12:12:59.747469",
     "exception": false,
     "start_time": "2022-01-05T12:12:59.705137",
     "status": "completed"
    },
    "tags": []
   },
   "outputs": [],
   "source": [
    "#hide\n",
    "dfc_cases = dft_cases.groupby(COL_REGION)[dt_today].sum()\n",
    "dfc_deaths = dft_deaths.groupby(COL_REGION)[dt_today].sum()\n",
    "# dfp_cases = dft_cases.groupby(COL_REGION)[dt_5day].sum()\n",
    "# dfp_deaths = dft_deaths.groupby(COL_REGION)[dt_5day].sum()\n",
    "dfp_cases = dft_cases.groupby(COL_REGION)[dt_yday].sum()\n",
    "dfp_deaths = dft_deaths.groupby(COL_REGION)[dt_yday].sum()"
   ]
  },
  {
   "cell_type": "code",
   "execution_count": 12,
   "id": "deluxe-hepatitis",
   "metadata": {
    "execution": {
     "iopub.execute_input": "2022-01-05T12:12:59.811909Z",
     "iopub.status.busy": "2022-01-05T12:12:59.811406Z",
     "iopub.status.idle": "2022-01-05T12:12:59.815989Z",
     "shell.execute_reply": "2022-01-05T12:12:59.816470Z"
    },
    "papermill": {
     "duration": 0.039441,
     "end_time": "2022-01-05T12:12:59.816589",
     "exception": false,
     "start_time": "2022-01-05T12:12:59.777148",
     "status": "completed"
    },
    "tags": []
   },
   "outputs": [],
   "source": [
    "#hide\n",
    "df_table = (pd.DataFrame(dict(Cases = dfc_cases, Deaths = dfc_deaths, PCases = dfp_cases, PDeaths = dfp_deaths))\n",
    "            .sort_values(by = ['Cases','Deaths'], ascending = [False, False])\n",
    "            .reset_index())"
   ]
  },
  {
   "cell_type": "code",
   "execution_count": 13,
   "id": "educational-chancellor",
   "metadata": {
    "execution": {
     "iopub.execute_input": "2022-01-05T12:12:59.894752Z",
     "iopub.status.busy": "2022-01-05T12:12:59.894221Z",
     "iopub.status.idle": "2022-01-05T12:12:59.901374Z",
     "shell.execute_reply": "2022-01-05T12:12:59.900958Z"
    },
    "papermill": {
     "duration": 0.055321,
     "end_time": "2022-01-05T12:12:59.901486",
     "exception": false,
     "start_time": "2022-01-05T12:12:59.846165",
     "status": "completed"
    },
    "tags": []
   },
   "outputs": [
    {
     "data": {
      "text/html": [
       "<div>\n",
       "<style scoped>\n",
       "    .dataframe tbody tr th:only-of-type {\n",
       "        vertical-align: middle;\n",
       "    }\n",
       "\n",
       "    .dataframe tbody tr th {\n",
       "        vertical-align: top;\n",
       "    }\n",
       "\n",
       "    .dataframe thead th {\n",
       "        text-align: right;\n",
       "    }\n",
       "</style>\n",
       "<table border=\"1\" class=\"dataframe\">\n",
       "  <thead>\n",
       "    <tr style=\"text-align: right;\">\n",
       "      <th></th>\n",
       "      <th>Country/Region</th>\n",
       "      <th>Cases</th>\n",
       "      <th>Deaths</th>\n",
       "      <th>PCases</th>\n",
       "      <th>PDeaths</th>\n",
       "      <th>Cases (+)</th>\n",
       "      <th>Deaths (+)</th>\n",
       "      <th>Fatality Rate</th>\n",
       "      <th>Continent</th>\n",
       "    </tr>\n",
       "  </thead>\n",
       "  <tbody>\n",
       "    <tr>\n",
       "      <th>0</th>\n",
       "      <td>US</td>\n",
       "      <td>57058734</td>\n",
       "      <td>830132</td>\n",
       "      <td>56189547</td>\n",
       "      <td>827748</td>\n",
       "      <td>869187</td>\n",
       "      <td>2384</td>\n",
       "      <td>1.45</td>\n",
       "      <td>North America</td>\n",
       "    </tr>\n",
       "    <tr>\n",
       "      <th>1</th>\n",
       "      <td>India</td>\n",
       "      <td>35018358</td>\n",
       "      <td>482551</td>\n",
       "      <td>34960261</td>\n",
       "      <td>482017</td>\n",
       "      <td>58097</td>\n",
       "      <td>534</td>\n",
       "      <td>1.38</td>\n",
       "      <td>Asia</td>\n",
       "    </tr>\n",
       "    <tr>\n",
       "      <th>2</th>\n",
       "      <td>Brazil</td>\n",
       "      <td>22328252</td>\n",
       "      <td>619654</td>\n",
       "      <td>22309081</td>\n",
       "      <td>619473</td>\n",
       "      <td>19171</td>\n",
       "      <td>181</td>\n",
       "      <td>2.78</td>\n",
       "      <td>South America</td>\n",
       "    </tr>\n",
       "    <tr>\n",
       "      <th>3</th>\n",
       "      <td>United Kingdom</td>\n",
       "      <td>13723275</td>\n",
       "      <td>149417</td>\n",
       "      <td>13497515</td>\n",
       "      <td>149367</td>\n",
       "      <td>225760</td>\n",
       "      <td>50</td>\n",
       "      <td>1.09</td>\n",
       "      <td>Europe</td>\n",
       "    </tr>\n",
       "    <tr>\n",
       "      <th>4</th>\n",
       "      <td>France</td>\n",
       "      <td>10694804</td>\n",
       "      <td>125551</td>\n",
       "      <td>10422830</td>\n",
       "      <td>125200</td>\n",
       "      <td>271974</td>\n",
       "      <td>351</td>\n",
       "      <td>1.17</td>\n",
       "      <td>Europe</td>\n",
       "    </tr>\n",
       "  </tbody>\n",
       "</table>\n",
       "</div>"
      ],
      "text/plain": [
       "   Country/Region     Cases  Deaths    PCases  PDeaths  Cases (+)  Deaths (+)  \\\n",
       "0              US  57058734  830132  56189547   827748     869187        2384   \n",
       "1           India  35018358  482551  34960261   482017      58097         534   \n",
       "2          Brazil  22328252  619654  22309081   619473      19171         181   \n",
       "3  United Kingdom  13723275  149417  13497515   149367     225760          50   \n",
       "4          France  10694804  125551  10422830   125200     271974         351   \n",
       "\n",
       "   Fatality Rate      Continent  \n",
       "0           1.45  North America  \n",
       "1           1.38           Asia  \n",
       "2           2.78  South America  \n",
       "3           1.09         Europe  \n",
       "4           1.17         Europe  "
      ]
     },
     "execution_count": 13,
     "metadata": {},
     "output_type": "execute_result"
    }
   ],
   "source": [
    "#hide\n",
    "for c in 'Cases, Deaths'.split(', '):\n",
    "    df_table[f'{c} (+)'] = (df_table[c] - df_table[f'P{c}']).clip(0)\n",
    "    #Clip ça veut dire, les chiffres negatif sont interdit\n",
    "df_table['Fatality Rate'] = (100* df_table['Deaths']/ df_table['Cases']).round(2)\n",
    "df_table['Continent'] = df_table['Country/Region'].map(mapping['map.continent'])\n",
    "df_table.head(5)"
   ]
  },
  {
   "cell_type": "code",
   "execution_count": 14,
   "id": "aboriginal-bulgaria",
   "metadata": {
    "execution": {
     "iopub.execute_input": "2022-01-05T12:12:59.966626Z",
     "iopub.status.busy": "2022-01-05T12:12:59.966128Z",
     "iopub.status.idle": "2022-01-05T12:12:59.968744Z",
     "shell.execute_reply": "2022-01-05T12:12:59.969242Z"
    },
    "papermill": {
     "duration": 0.037725,
     "end_time": "2022-01-05T12:12:59.969367",
     "exception": false,
     "start_time": "2022-01-05T12:12:59.931642",
     "status": "completed"
    },
    "tags": []
   },
   "outputs": [],
   "source": [
    "#hide\n",
    "#delete problematic countries from table\n",
    "df_table = df_table[~df_table['Country/Region'].isin(['Cape Verde', 'Cruise Ship', 'Kosovo'])]"
   ]
  },
  {
   "cell_type": "code",
   "execution_count": 15,
   "id": "fantastic-effect",
   "metadata": {
    "execution": {
     "iopub.execute_input": "2022-01-05T12:13:00.036526Z",
     "iopub.status.busy": "2022-01-05T12:13:00.036025Z",
     "iopub.status.idle": "2022-01-05T12:13:00.053088Z",
     "shell.execute_reply": "2022-01-05T12:13:00.053585Z"
    },
    "papermill": {
     "duration": 0.054552,
     "end_time": "2022-01-05T12:13:00.053720",
     "exception": false,
     "start_time": "2022-01-05T12:12:59.999168",
     "status": "completed"
    },
    "tags": []
   },
   "outputs": [
    {
     "data": {
      "text/html": [
       "<div>\n",
       "<style scoped>\n",
       "    .dataframe tbody tr th:only-of-type {\n",
       "        vertical-align: middle;\n",
       "    }\n",
       "\n",
       "    .dataframe tbody tr th {\n",
       "        vertical-align: top;\n",
       "    }\n",
       "\n",
       "    .dataframe thead th {\n",
       "        text-align: right;\n",
       "    }\n",
       "</style>\n",
       "<table border=\"1\" class=\"dataframe\">\n",
       "  <thead>\n",
       "    <tr style=\"text-align: right;\">\n",
       "      <th></th>\n",
       "      <th>Country/Region</th>\n",
       "      <th>Cases</th>\n",
       "      <th>Deaths</th>\n",
       "      <th>PCases</th>\n",
       "      <th>PDeaths</th>\n",
       "      <th>Cases (+)</th>\n",
       "      <th>Deaths (+)</th>\n",
       "      <th>Fatality Rate</th>\n",
       "      <th>Continent</th>\n",
       "    </tr>\n",
       "  </thead>\n",
       "  <tbody>\n",
       "    <tr>\n",
       "      <th>0</th>\n",
       "      <td>US</td>\n",
       "      <td>57058734</td>\n",
       "      <td>830132</td>\n",
       "      <td>56189547</td>\n",
       "      <td>827748</td>\n",
       "      <td>869187</td>\n",
       "      <td>2384</td>\n",
       "      <td>1.5</td>\n",
       "      <td>North America</td>\n",
       "    </tr>\n",
       "    <tr>\n",
       "      <th>1</th>\n",
       "      <td>India</td>\n",
       "      <td>35018358</td>\n",
       "      <td>482551</td>\n",
       "      <td>34960261</td>\n",
       "      <td>482017</td>\n",
       "      <td>58097</td>\n",
       "      <td>534</td>\n",
       "      <td>1.4</td>\n",
       "      <td>Asia</td>\n",
       "    </tr>\n",
       "    <tr>\n",
       "      <th>2</th>\n",
       "      <td>Brazil</td>\n",
       "      <td>22328252</td>\n",
       "      <td>619654</td>\n",
       "      <td>22309081</td>\n",
       "      <td>619473</td>\n",
       "      <td>19171</td>\n",
       "      <td>181</td>\n",
       "      <td>2.8</td>\n",
       "      <td>South America</td>\n",
       "    </tr>\n",
       "    <tr>\n",
       "      <th>3</th>\n",
       "      <td>United Kingdom</td>\n",
       "      <td>13723275</td>\n",
       "      <td>149417</td>\n",
       "      <td>13497515</td>\n",
       "      <td>149367</td>\n",
       "      <td>225760</td>\n",
       "      <td>50</td>\n",
       "      <td>1.1</td>\n",
       "      <td>Europe</td>\n",
       "    </tr>\n",
       "    <tr>\n",
       "      <th>4</th>\n",
       "      <td>France</td>\n",
       "      <td>10694804</td>\n",
       "      <td>125551</td>\n",
       "      <td>10422830</td>\n",
       "      <td>125200</td>\n",
       "      <td>271974</td>\n",
       "      <td>351</td>\n",
       "      <td>1.2</td>\n",
       "      <td>Europe</td>\n",
       "    </tr>\n",
       "  </tbody>\n",
       "</table>\n",
       "</div>"
      ],
      "text/plain": [
       "   Country/Region     Cases  Deaths    PCases  PDeaths  Cases (+)  Deaths (+)  \\\n",
       "0              US  57058734  830132  56189547   827748     869187        2384   \n",
       "1           India  35018358  482551  34960261   482017      58097         534   \n",
       "2          Brazil  22328252  619654  22309081   619473      19171         181   \n",
       "3  United Kingdom  13723275  149417  13497515   149367     225760          50   \n",
       "4          France  10694804  125551  10422830   125200     271974         351   \n",
       "\n",
       "   Fatality Rate      Continent  \n",
       "0            1.5  North America  \n",
       "1            1.4           Asia  \n",
       "2            2.8  South America  \n",
       "3            1.1         Europe  \n",
       "4            1.2         Europe  "
      ]
     },
     "execution_count": 15,
     "metadata": {},
     "output_type": "execute_result"
    }
   ],
   "source": [
    "#hide\n",
    "df_table = (pd.DataFrame(dict(Cases=dfc_cases, Deaths=dfc_deaths, PCases=dfp_cases, PDeaths=dfp_deaths))\n",
    "             .sort_values(by=['Cases', 'Deaths'], ascending=[False, False])\n",
    "             .reset_index())\n",
    "df_table.rename(columns={'index': 'Country/Region'}, inplace=True)\n",
    "for c in 'Cases, Deaths'.split(', '):\n",
    "    df_table[f'{c} (+)'] = (df_table[c] - df_table[f'P{c}']).clip(0)  # DATA BUG\n",
    "df_table['Fatality Rate'] = (100 * df_table['Deaths'] / df_table['Cases']).round(1)\n",
    "df_table['Continent'] = df_table['Country/Region'].map(mapping['map.continent'])\n",
    "df_table.head(5)"
   ]
  },
  {
   "cell_type": "code",
   "execution_count": 16,
   "id": "fewer-occasion",
   "metadata": {
    "execution": {
     "iopub.execute_input": "2022-01-05T12:13:00.120043Z",
     "iopub.status.busy": "2022-01-05T12:13:00.119543Z",
     "iopub.status.idle": "2022-01-05T12:13:00.123182Z",
     "shell.execute_reply": "2022-01-05T12:13:00.122784Z"
    },
    "papermill": {
     "duration": 0.038316,
     "end_time": "2022-01-05T12:13:00.123289",
     "exception": false,
     "start_time": "2022-01-05T12:13:00.084973",
     "status": "completed"
    },
    "tags": []
   },
   "outputs": [],
   "source": [
    "#hide\n",
    "#delete problematic countries from table\n",
    "df_table = df_table[~df_table['Country/Region'].isin(['Cape Verde', 'Cruise Ship', 'Kosovo'])]"
   ]
  },
  {
   "cell_type": "code",
   "execution_count": 17,
   "id": "related-center",
   "metadata": {
    "execution": {
     "iopub.execute_input": "2022-01-05T12:13:00.202099Z",
     "iopub.status.busy": "2022-01-05T12:13:00.201575Z",
     "iopub.status.idle": "2022-01-05T12:13:00.203559Z",
     "shell.execute_reply": "2022-01-05T12:13:00.203963Z"
    },
    "papermill": {
     "duration": 0.050485,
     "end_time": "2022-01-05T12:13:00.204092",
     "exception": false,
     "start_time": "2022-01-05T12:13:00.153607",
     "status": "completed"
    },
    "tags": []
   },
   "outputs": [],
   "source": [
    "#hide\n",
    "metrics = [df_table.columns[index] for index in [1,2,5,6]]\n",
    "# s_china = df_table[df_table['Country/Region'].eq('China')][metrics].sum().add_prefix('China ')\n",
    "s_us = df_table[df_table['Country/Region'].eq('US')][metrics].sum().add_prefix('US ')\n",
    "s_eu = df_table[df_table['Continent'].eq('Europe')][metrics].sum().add_prefix('EU ')\n",
    "s_ind = df_table[df_table['Country/Region'].eq('India')][metrics].sum().add_prefix('India ')\n",
    "summary = {'updated': pd.to_datetime(dt_today), 'since': pd.to_datetime(dt_yday)}\n",
    "summary = {'updated': pd.to_datetime(dt_today), 'since': pd.to_datetime(dt_yday)}\n",
    "summary = {**summary, **df_table[metrics].sum(), **s_ind, **s_us, **s_eu}"
   ]
  },
  {
   "cell_type": "code",
   "execution_count": 18,
   "id": "engaging-syndrome",
   "metadata": {
    "execution": {
     "iopub.execute_input": "2022-01-05T12:13:00.269860Z",
     "iopub.status.busy": "2022-01-05T12:13:00.269355Z",
     "iopub.status.idle": "2022-01-05T12:13:00.282852Z",
     "shell.execute_reply": "2022-01-05T12:13:00.282420Z"
    },
    "papermill": {
     "duration": 0.048322,
     "end_time": "2022-01-05T12:13:00.282958",
     "exception": false,
     "start_time": "2022-01-05T12:13:00.234636",
     "status": "completed"
    },
    "tags": []
   },
   "outputs": [],
   "source": [
    "#hide\n",
    "dft_ct_new_cases = dft_cases.groupby(COL_REGION)[dt_cols].sum().diff(axis=1).fillna(0).astype(int)"
   ]
  },
  {
   "cell_type": "code",
   "execution_count": 19,
   "id": "neutral-assignment",
   "metadata": {
    "execution": {
     "iopub.execute_input": "2022-01-05T12:13:00.349778Z",
     "iopub.status.busy": "2022-01-05T12:13:00.349269Z",
     "iopub.status.idle": "2022-01-05T12:13:00.351307Z",
     "shell.execute_reply": "2022-01-05T12:13:00.351787Z"
    },
    "papermill": {
     "duration": 0.038611,
     "end_time": "2022-01-05T12:13:00.351912",
     "exception": false,
     "start_time": "2022-01-05T12:13:00.313301",
     "status": "completed"
    },
    "tags": []
   },
   "outputs": [],
   "source": [
    "#hide\n",
    "everydaycases = dft_ct_new_cases.cumsum(axis=1)"
   ]
  },
  {
   "cell_type": "code",
   "execution_count": 20,
   "id": "parliamentary-calgary",
   "metadata": {
    "execution": {
     "iopub.execute_input": "2022-01-05T12:13:00.416795Z",
     "iopub.status.busy": "2022-01-05T12:13:00.416266Z",
     "iopub.status.idle": "2022-01-05T12:13:01.008983Z",
     "shell.execute_reply": "2022-01-05T12:13:01.009470Z"
    },
    "papermill": {
     "duration": 0.627204,
     "end_time": "2022-01-05T12:13:01.009623",
     "exception": false,
     "start_time": "2022-01-05T12:13:00.382419",
     "status": "completed"
    },
    "tags": []
   },
   "outputs": [],
   "source": [
    "#hide\n",
    "import pandas as pd\n",
    "import matplotlib.pyplot as plt\n",
    "import matplotlib.ticker as ticker\n",
    "import matplotlib.animation as animation\n",
    "from IPython.display import HTML"
   ]
  },
  {
   "cell_type": "code",
   "execution_count": 21,
   "id": "lasting-extraction",
   "metadata": {
    "execution": {
     "iopub.execute_input": "2022-01-05T12:13:01.077253Z",
     "iopub.status.busy": "2022-01-05T12:13:01.076656Z",
     "iopub.status.idle": "2022-01-05T12:13:01.082364Z",
     "shell.execute_reply": "2022-01-05T12:13:01.082769Z"
    },
    "papermill": {
     "duration": 0.042648,
     "end_time": "2022-01-05T12:13:01.082905",
     "exception": false,
     "start_time": "2022-01-05T12:13:01.040257",
     "status": "completed"
    },
    "tags": []
   },
   "outputs": [],
   "source": [
    "#hide\n",
    "t = everydaycases.stack()"
   ]
  },
  {
   "cell_type": "code",
   "execution_count": 22,
   "id": "premier-sleeve",
   "metadata": {
    "execution": {
     "iopub.execute_input": "2022-01-05T12:13:01.148172Z",
     "iopub.status.busy": "2022-01-05T12:13:01.147648Z",
     "iopub.status.idle": "2022-01-05T12:13:01.158099Z",
     "shell.execute_reply": "2022-01-05T12:13:01.157684Z"
    },
    "papermill": {
     "duration": 0.044614,
     "end_time": "2022-01-05T12:13:01.158215",
     "exception": false,
     "start_time": "2022-01-05T12:13:01.113601",
     "status": "completed"
    },
    "tags": []
   },
   "outputs": [],
   "source": [
    "#hide\n",
    "g = t.reset_index(['Country/Region'])"
   ]
  },
  {
   "cell_type": "code",
   "execution_count": 23,
   "id": "distributed-pittsburgh",
   "metadata": {
    "execution": {
     "iopub.execute_input": "2022-01-05T12:13:01.222669Z",
     "iopub.status.busy": "2022-01-05T12:13:01.222168Z",
     "iopub.status.idle": "2022-01-05T12:13:01.224291Z",
     "shell.execute_reply": "2022-01-05T12:13:01.224693Z"
    },
    "papermill": {
     "duration": 0.036294,
     "end_time": "2022-01-05T12:13:01.224841",
     "exception": false,
     "start_time": "2022-01-05T12:13:01.188547",
     "status": "completed"
    },
    "tags": []
   },
   "outputs": [],
   "source": [
    "#hide\n",
    "g.index.name = 'date'"
   ]
  },
  {
   "cell_type": "code",
   "execution_count": 24,
   "id": "naked-donor",
   "metadata": {
    "execution": {
     "iopub.execute_input": "2022-01-05T12:13:01.288945Z",
     "iopub.status.busy": "2022-01-05T12:13:01.288398Z",
     "iopub.status.idle": "2022-01-05T12:13:01.291513Z",
     "shell.execute_reply": "2022-01-05T12:13:01.291016Z"
    },
    "papermill": {
     "duration": 0.036368,
     "end_time": "2022-01-05T12:13:01.291619",
     "exception": false,
     "start_time": "2022-01-05T12:13:01.255251",
     "status": "completed"
    },
    "tags": []
   },
   "outputs": [],
   "source": [
    "# #hide\n",
    "# g = g.reset_index(['date'])"
   ]
  },
  {
   "cell_type": "code",
   "execution_count": 25,
   "id": "incomplete-mustang",
   "metadata": {
    "execution": {
     "iopub.execute_input": "2022-01-05T12:13:01.355867Z",
     "iopub.status.busy": "2022-01-05T12:13:01.355282Z",
     "iopub.status.idle": "2022-01-05T12:13:01.357537Z",
     "shell.execute_reply": "2022-01-05T12:13:01.356954Z"
    },
    "papermill": {
     "duration": 0.035616,
     "end_time": "2022-01-05T12:13:01.357654",
     "exception": false,
     "start_time": "2022-01-05T12:13:01.322038",
     "status": "completed"
    },
    "tags": []
   },
   "outputs": [],
   "source": [
    "#hide\n",
    "# g.head()"
   ]
  },
  {
   "cell_type": "code",
   "execution_count": 26,
   "id": "specific-kruger",
   "metadata": {
    "execution": {
     "iopub.execute_input": "2022-01-05T12:13:01.422470Z",
     "iopub.status.busy": "2022-01-05T12:13:01.421880Z",
     "iopub.status.idle": "2022-01-05T12:13:01.424048Z",
     "shell.execute_reply": "2022-01-05T12:13:01.423562Z"
    },
    "papermill": {
     "duration": 0.035909,
     "end_time": "2022-01-05T12:13:01.424166",
     "exception": false,
     "start_time": "2022-01-05T12:13:01.388257",
     "status": "completed"
    },
    "tags": []
   },
   "outputs": [],
   "source": [
    "#hide\n",
    "# g.columns = ['date','country','cases']"
   ]
  },
  {
   "cell_type": "code",
   "execution_count": 27,
   "id": "tender-conversion",
   "metadata": {
    "execution": {
     "iopub.execute_input": "2022-01-05T12:13:01.489376Z",
     "iopub.status.busy": "2022-01-05T12:13:01.488704Z",
     "iopub.status.idle": "2022-01-05T12:13:01.490245Z",
     "shell.execute_reply": "2022-01-05T12:13:01.490635Z"
    },
    "papermill": {
     "duration": 0.035565,
     "end_time": "2022-01-05T12:13:01.490763",
     "exception": false,
     "start_time": "2022-01-05T12:13:01.455198",
     "status": "completed"
    },
    "tags": []
   },
   "outputs": [],
   "source": [
    "#hide\n",
    "# g['continent'] = g.country"
   ]
  },
  {
   "cell_type": "code",
   "execution_count": 28,
   "id": "substantial-wilderness",
   "metadata": {
    "execution": {
     "iopub.execute_input": "2022-01-05T12:13:01.555366Z",
     "iopub.status.busy": "2022-01-05T12:13:01.554773Z",
     "iopub.status.idle": "2022-01-05T12:13:01.556542Z",
     "shell.execute_reply": "2022-01-05T12:13:01.557005Z"
    },
    "papermill": {
     "duration": 0.035852,
     "end_time": "2022-01-05T12:13:01.557156",
     "exception": false,
     "start_time": "2022-01-05T12:13:01.521304",
     "status": "completed"
    },
    "tags": []
   },
   "outputs": [],
   "source": [
    "#hide\n",
    "# cols = list(g.columns.values)"
   ]
  },
  {
   "cell_type": "code",
   "execution_count": 29,
   "id": "solved-farming",
   "metadata": {
    "execution": {
     "iopub.execute_input": "2022-01-05T12:13:01.622064Z",
     "iopub.status.busy": "2022-01-05T12:13:01.621480Z",
     "iopub.status.idle": "2022-01-05T12:13:01.623183Z",
     "shell.execute_reply": "2022-01-05T12:13:01.623563Z"
    },
    "papermill": {
     "duration": 0.035556,
     "end_time": "2022-01-05T12:13:01.623690",
     "exception": false,
     "start_time": "2022-01-05T12:13:01.588134",
     "status": "completed"
    },
    "tags": []
   },
   "outputs": [],
   "source": [
    "#hide\n",
    "# cols.insert(0, cols.pop())"
   ]
  },
  {
   "cell_type": "code",
   "execution_count": 30,
   "id": "executed-adoption",
   "metadata": {
    "execution": {
     "iopub.execute_input": "2022-01-05T12:13:01.688624Z",
     "iopub.status.busy": "2022-01-05T12:13:01.688036Z",
     "iopub.status.idle": "2022-01-05T12:13:01.690234Z",
     "shell.execute_reply": "2022-01-05T12:13:01.689749Z"
    },
    "papermill": {
     "duration": 0.036153,
     "end_time": "2022-01-05T12:13:01.690351",
     "exception": false,
     "start_time": "2022-01-05T12:13:01.654198",
     "status": "completed"
    },
    "tags": []
   },
   "outputs": [],
   "source": [
    "#hide\n",
    "# g = g[cols]"
   ]
  },
  {
   "cell_type": "code",
   "execution_count": 31,
   "id": "subject-dublin",
   "metadata": {
    "execution": {
     "iopub.execute_input": "2022-01-05T12:13:01.754887Z",
     "iopub.status.busy": "2022-01-05T12:13:01.754351Z",
     "iopub.status.idle": "2022-01-05T12:13:01.756383Z",
     "shell.execute_reply": "2022-01-05T12:13:01.755955Z"
    },
    "papermill": {
     "duration": 0.035523,
     "end_time": "2022-01-05T12:13:01.756485",
     "exception": false,
     "start_time": "2022-01-05T12:13:01.720962",
     "status": "completed"
    },
    "tags": []
   },
   "outputs": [],
   "source": [
    "#hide\n",
    "# g['continent'] = g['continent'].map(mapping['map.continent'])"
   ]
  },
  {
   "cell_type": "code",
   "execution_count": 32,
   "id": "freelance-scout",
   "metadata": {
    "execution": {
     "iopub.execute_input": "2022-01-05T12:13:01.820535Z",
     "iopub.status.busy": "2022-01-05T12:13:01.819961Z",
     "iopub.status.idle": "2022-01-05T12:13:01.822131Z",
     "shell.execute_reply": "2022-01-05T12:13:01.821632Z"
    },
    "papermill": {
     "duration": 0.035445,
     "end_time": "2022-01-05T12:13:01.822247",
     "exception": false,
     "start_time": "2022-01-05T12:13:01.786802",
     "status": "completed"
    },
    "tags": []
   },
   "outputs": [],
   "source": [
    "#hide\n",
    "# g.head()"
   ]
  },
  {
   "cell_type": "code",
   "execution_count": 33,
   "id": "limited-engine",
   "metadata": {
    "execution": {
     "iopub.execute_input": "2022-01-05T12:13:01.886752Z",
     "iopub.status.busy": "2022-01-05T12:13:01.886246Z",
     "iopub.status.idle": "2022-01-05T12:13:01.887843Z",
     "shell.execute_reply": "2022-01-05T12:13:01.888229Z"
    },
    "papermill": {
     "duration": 0.035346,
     "end_time": "2022-01-05T12:13:01.888350",
     "exception": false,
     "start_time": "2022-01-05T12:13:01.853004",
     "status": "completed"
    },
    "tags": []
   },
   "outputs": [],
   "source": [
    "# hide\n",
    "# g['date'] = g['date'].astype('datetime64[ns]')"
   ]
  },
  {
   "cell_type": "code",
   "execution_count": 34,
   "id": "sophisticated-supervisor",
   "metadata": {
    "execution": {
     "iopub.execute_input": "2022-01-05T12:13:01.952233Z",
     "iopub.status.busy": "2022-01-05T12:13:01.951664Z",
     "iopub.status.idle": "2022-01-05T12:13:01.953936Z",
     "shell.execute_reply": "2022-01-05T12:13:01.953453Z"
    },
    "papermill": {
     "duration": 0.035289,
     "end_time": "2022-01-05T12:13:01.954051",
     "exception": false,
     "start_time": "2022-01-05T12:13:01.918762",
     "status": "completed"
    },
    "tags": []
   },
   "outputs": [],
   "source": [
    "#hide\n",
    "# g['date'] = g.date.dt.dayofyear"
   ]
  },
  {
   "cell_type": "code",
   "execution_count": 35,
   "id": "inside-dubai",
   "metadata": {
    "execution": {
     "iopub.execute_input": "2022-01-05T12:13:02.018291Z",
     "iopub.status.busy": "2022-01-05T12:13:02.017793Z",
     "iopub.status.idle": "2022-01-05T12:13:02.020105Z",
     "shell.execute_reply": "2022-01-05T12:13:02.019703Z"
    },
    "papermill": {
     "duration": 0.035492,
     "end_time": "2022-01-05T12:13:02.020207",
     "exception": false,
     "start_time": "2022-01-05T12:13:01.984715",
     "status": "completed"
    },
    "tags": []
   },
   "outputs": [],
   "source": [
    "#hide\n",
    "# g = g.rename(columns= {'continent':'group','country':'name','cases':'value'})"
   ]
  },
  {
   "cell_type": "code",
   "execution_count": 36,
   "id": "fleet-motorcycle",
   "metadata": {
    "execution": {
     "iopub.execute_input": "2022-01-05T12:13:02.084274Z",
     "iopub.status.busy": "2022-01-05T12:13:02.083693Z",
     "iopub.status.idle": "2022-01-05T12:13:02.085871Z",
     "shell.execute_reply": "2022-01-05T12:13:02.085391Z"
    },
    "papermill": {
     "duration": 0.035472,
     "end_time": "2022-01-05T12:13:02.085983",
     "exception": false,
     "start_time": "2022-01-05T12:13:02.050511",
     "status": "completed"
    },
    "tags": []
   },
   "outputs": [],
   "source": [
    "#hide\n",
    "# cols = ['name','group','day','value']"
   ]
  },
  {
   "cell_type": "code",
   "execution_count": 37,
   "id": "continued-sleeping",
   "metadata": {
    "execution": {
     "iopub.execute_input": "2022-01-05T12:13:02.150181Z",
     "iopub.status.busy": "2022-01-05T12:13:02.149609Z",
     "iopub.status.idle": "2022-01-05T12:13:02.151219Z",
     "shell.execute_reply": "2022-01-05T12:13:02.151594Z"
    },
    "papermill": {
     "duration": 0.035116,
     "end_time": "2022-01-05T12:13:02.151711",
     "exception": false,
     "start_time": "2022-01-05T12:13:02.116595",
     "status": "completed"
    },
    "tags": []
   },
   "outputs": [],
   "source": [
    "#hide\n",
    "# g.rename(columns= {'date':'day'},inplace = True)"
   ]
  },
  {
   "cell_type": "code",
   "execution_count": 38,
   "id": "major-fight",
   "metadata": {
    "execution": {
     "iopub.execute_input": "2022-01-05T12:13:02.215861Z",
     "iopub.status.busy": "2022-01-05T12:13:02.215288Z",
     "iopub.status.idle": "2022-01-05T12:13:02.217434Z",
     "shell.execute_reply": "2022-01-05T12:13:02.216970Z"
    },
    "papermill": {
     "duration": 0.035381,
     "end_time": "2022-01-05T12:13:02.217551",
     "exception": false,
     "start_time": "2022-01-05T12:13:02.182170",
     "status": "completed"
    },
    "tags": []
   },
   "outputs": [],
   "source": [
    "#hide\n",
    "# g = g[cols]"
   ]
  },
  {
   "cell_type": "code",
   "execution_count": 39,
   "id": "structured-mobile",
   "metadata": {
    "execution": {
     "iopub.execute_input": "2022-01-05T12:13:02.281761Z",
     "iopub.status.busy": "2022-01-05T12:13:02.281253Z",
     "iopub.status.idle": "2022-01-05T12:13:02.283507Z",
     "shell.execute_reply": "2022-01-05T12:13:02.283083Z"
    },
    "papermill": {
     "duration": 0.03536,
     "end_time": "2022-01-05T12:13:02.283616",
     "exception": false,
     "start_time": "2022-01-05T12:13:02.248256",
     "status": "completed"
    },
    "tags": []
   },
   "outputs": [],
   "source": [
    "# #hide\n",
    "# g = g[g.group.notna()]"
   ]
  },
  {
   "cell_type": "code",
   "execution_count": 40,
   "id": "determined-closing",
   "metadata": {
    "execution": {
     "iopub.execute_input": "2022-01-05T12:13:02.347787Z",
     "iopub.status.busy": "2022-01-05T12:13:02.347277Z",
     "iopub.status.idle": "2022-01-05T12:13:02.349244Z",
     "shell.execute_reply": "2022-01-05T12:13:02.349623Z"
    },
    "papermill": {
     "duration": 0.035517,
     "end_time": "2022-01-05T12:13:02.349744",
     "exception": false,
     "start_time": "2022-01-05T12:13:02.314227",
     "status": "completed"
    },
    "tags": []
   },
   "outputs": [],
   "source": [
    "# #hide\n",
    "# colors = dict(zip(\n",
    "#     [\"Oceania\", \"Europe\", \"Asia\", \"South America\", \"Middle East\", \"North America\", \"Africa\"],\n",
    "#     [\"#adb0ff\", \"#ffb3ff\", \"#90d595\", \"#e48381\", \"#aafbff\", \"#f7bb5f\", \"#eafb50\"]\n",
    "# ))\n",
    "# group_lk = g.set_index('name')['group'].to_dict()"
   ]
  },
  {
   "cell_type": "code",
   "execution_count": null,
   "id": "gross-drinking",
   "metadata": {
    "papermill": {
     "duration": 0.030389,
     "end_time": "2022-01-05T12:13:02.410339",
     "exception": false,
     "start_time": "2022-01-05T12:13:02.379950",
     "status": "completed"
    },
    "tags": []
   },
   "outputs": [],
   "source": []
  },
  {
   "cell_type": "code",
   "execution_count": 41,
   "id": "subject-macintosh",
   "metadata": {
    "execution": {
     "iopub.execute_input": "2022-01-05T12:13:02.475525Z",
     "iopub.status.busy": "2022-01-05T12:13:02.474975Z",
     "iopub.status.idle": "2022-01-05T12:13:02.477200Z",
     "shell.execute_reply": "2022-01-05T12:13:02.476754Z"
    },
    "papermill": {
     "duration": 0.036508,
     "end_time": "2022-01-05T12:13:02.477308",
     "exception": false,
     "start_time": "2022-01-05T12:13:02.440800",
     "status": "completed"
    },
    "tags": []
   },
   "outputs": [],
   "source": [
    "# #hide\n",
    "# fig, ax = plt.subplots(figsize=(15, 8))\n",
    "\n",
    "# def draw_barchart(current_day):\n",
    "#     dff = g[g['day'].eq(current_day)].sort_values(by='value', ascending=True).tail(10)\n",
    "#     ax.clear()\n",
    "#     ax.barh(dff['name'], dff['value'], color=[colors[group_lk[x]] for x in dff['name']])\n",
    "#     dx = dff['value'].max() / 200\n",
    "    \n",
    "#     for i, (value, name) in enumerate(zip(dff['value'], dff['name'])):\n",
    "#         ax.text(value-dx, i,     name,           size=14, weight=600, ha='right', va='bottom')\n",
    "#         ax.text(value-dx, i-.25, group_lk[name], size=10, color='#444444', ha='right', va='baseline')\n",
    "#         ax.text(value+dx, i,     f'{value:,.0f}',  size=14, ha='left',  va='center')\n",
    "#     ax.text(1, 0.4, current_day, transform=ax.transAxes, color='#777777', size=46, ha='right', weight=800)\n",
    "#     ax.text(0, 1.06, 'Population (thousands)', transform=ax.transAxes, size=12, color='#777777')\n",
    "#     ax.xaxis.set_major_formatter(ticker.StrMethodFormatter('{x:,.0f}'))\n",
    "#     ax.xaxis.set_ticks_position('top')\n",
    "#     ax.tick_params(axis='x', colors='#777777', labelsize=12)\n",
    "#     ax.set_yticks([])\n",
    "#     ax.margins(0, 0.01)\n",
    "#     ax.grid(which='major', axis='x', linestyle='-')\n",
    "#     ax.set_axisbelow(True)\n",
    "    \n",
    "#     ax.text(0, 1.15, 'Coronavirus',\n",
    "#             transform=ax.transAxes, size=24, weight=600, ha='left', va='top')\n",
    "# #     ax.text(1, 0, 'by @pratapvardhan; credit @jburnmurdoch', transform=ax.transAxes, color='#777777', ha='right',\n",
    "# #             bbox=dict(facecolor='white', alpha=0.8, edgecolor='white'))\n",
    "#     plt.box(False)"
   ]
  },
  {
   "cell_type": "code",
   "execution_count": 42,
   "id": "sexual-wages",
   "metadata": {
    "execution": {
     "iopub.execute_input": "2022-01-05T12:13:02.541247Z",
     "iopub.status.busy": "2022-01-05T12:13:02.540617Z",
     "iopub.status.idle": "2022-01-05T12:13:02.542758Z",
     "shell.execute_reply": "2022-01-05T12:13:02.542279Z"
    },
    "papermill": {
     "duration": 0.035294,
     "end_time": "2022-01-05T12:13:02.542871",
     "exception": false,
     "start_time": "2022-01-05T12:13:02.507577",
     "status": "completed"
    },
    "tags": []
   },
   "outputs": [],
   "source": [
    "# #hide_input\n",
    "# fig, ax = plt.subplots(figsize=(15, 8))\n",
    "# animator = animation.FuncAnimation(fig, draw_barchart, frames=range(g.day.values.min(), g.day.values.max()))\n",
    "# HTML(animator.to_jshtml())\n",
    "# # or use animator.to_html5_video() or animator.save() "
   ]
  },
  {
   "cell_type": "code",
   "execution_count": null,
   "id": "australian-container",
   "metadata": {
    "papermill": {
     "duration": 0.030263,
     "end_time": "2022-01-05T12:13:02.604030",
     "exception": false,
     "start_time": "2022-01-05T12:13:02.573767",
     "status": "completed"
    },
    "tags": []
   },
   "outputs": [],
   "source": []
  },
  {
   "cell_type": "code",
   "execution_count": null,
   "id": "mediterranean-pontiac",
   "metadata": {
    "papermill": {
     "duration": 0.030409,
     "end_time": "2022-01-05T12:13:02.664788",
     "exception": false,
     "start_time": "2022-01-05T12:13:02.634379",
     "status": "completed"
    },
    "tags": []
   },
   "outputs": [],
   "source": []
  },
  {
   "cell_type": "code",
   "execution_count": null,
   "id": "aging-legislature",
   "metadata": {
    "papermill": {
     "duration": 0.030359,
     "end_time": "2022-01-05T12:13:02.726164",
     "exception": false,
     "start_time": "2022-01-05T12:13:02.695805",
     "status": "completed"
    },
    "tags": []
   },
   "outputs": [],
   "source": []
  }
 ],
 "metadata": {
  "kernelspec": {
   "display_name": "Python 3",
   "language": "python",
   "name": "python3"
  },
  "language_info": {
   "codemirror_mode": {
    "name": "ipython",
    "version": 3
   },
   "file_extension": ".py",
   "mimetype": "text/x-python",
   "name": "python",
   "nbconvert_exporter": "python",
   "pygments_lexer": "ipython3",
   "version": "3.6.15"
  },
  "papermill": {
   "duration": 5.696542,
   "end_time": "2022-01-05T12:13:03.064178",
   "environment_variables": {},
   "exception": null,
   "input_path": "2020-03-21-covid19exp.ipynb",
   "output_path": "2020-03-21-covid19exp.ipynb",
   "parameters": {},
   "start_time": "2022-01-05T12:12:57.367636",
   "version": "2.0.0"
  }
 },
 "nbformat": 4,
 "nbformat_minor": 5
}