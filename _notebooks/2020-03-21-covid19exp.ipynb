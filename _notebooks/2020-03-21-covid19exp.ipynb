{
 "cells": [
  {
   "cell_type": "markdown",
   "id": "muslim-click",
   "metadata": {
    "papermill": {
     "duration": 0.033463,
     "end_time": "2021-10-19T12:12:08.932346",
     "exception": false,
     "start_time": "2021-10-19T12:12:08.898883",
     "status": "completed"
    },
    "tags": []
   },
   "source": [
    "# COVID-19 Case Race\n",
    "> A race chart to see rising cases around the world\n",
    "\n",
    "- author: Hargun Oberoi\n",
    "- image: images/covid-overview.png\n",
    "- hide: false\n",
    "- badges: false"
   ]
  },
  {
   "cell_type": "code",
   "execution_count": 1,
   "id": "proof-material",
   "metadata": {
    "execution": {
     "iopub.execute_input": "2021-10-19T12:12:09.002607Z",
     "iopub.status.busy": "2021-10-19T12:12:09.002065Z",
     "iopub.status.idle": "2021-10-19T12:12:09.338147Z",
     "shell.execute_reply": "2021-10-19T12:12:09.337627Z"
    },
    "papermill": {
     "duration": 0.375906,
     "end_time": "2021-10-19T12:12:09.338287",
     "exception": false,
     "start_time": "2021-10-19T12:12:08.962381",
     "status": "completed"
    },
    "tags": []
   },
   "outputs": [],
   "source": [
    "#hide\n",
    "import numpy as np\n",
    "import pandas as pd\n",
    "from jinja2 import Template\n",
    "from IPython.display import HTML"
   ]
  },
  {
   "cell_type": "code",
   "execution_count": 2,
   "id": "developed-terminology",
   "metadata": {
    "execution": {
     "iopub.execute_input": "2021-10-19T12:12:09.404749Z",
     "iopub.status.busy": "2021-10-19T12:12:09.404118Z",
     "iopub.status.idle": "2021-10-19T12:12:09.405494Z",
     "shell.execute_reply": "2021-10-19T12:12:09.406029Z"
    },
    "papermill": {
     "duration": 0.038109,
     "end_time": "2021-10-19T12:12:09.406177",
     "exception": false,
     "start_time": "2021-10-19T12:12:09.368068",
     "status": "completed"
    },
    "tags": []
   },
   "outputs": [],
   "source": [
    "#hide\n",
    "\n",
    "# FETCH\n",
    "base_url = 'https://raw.githubusercontent.com/pratapvardhan/notebooks/master/covid19/'\n",
    "paths = {\n",
    "    'mapping': base_url + 'mapping_countries.csv',\n",
    "    'overview': base_url + 'overview.tpl'\n",
    "}"
   ]
  },
  {
   "cell_type": "code",
   "execution_count": 3,
   "id": "dynamic-saver",
   "metadata": {
    "execution": {
     "iopub.execute_input": "2021-10-19T12:12:09.475442Z",
     "iopub.status.busy": "2021-10-19T12:12:09.474903Z",
     "iopub.status.idle": "2021-10-19T12:12:09.477367Z",
     "shell.execute_reply": "2021-10-19T12:12:09.477800Z"
    },
    "papermill": {
     "duration": 0.041912,
     "end_time": "2021-10-19T12:12:09.477936",
     "exception": false,
     "start_time": "2021-10-19T12:12:09.436024",
     "status": "completed"
    },
    "tags": []
   },
   "outputs": [
    {
     "data": {
      "text/plain": [
       "'https://raw.githubusercontent.com/pratapvardhan/notebooks/master/covid19/mapping_countries.csv'"
      ]
     },
     "execution_count": 3,
     "metadata": {},
     "output_type": "execute_result"
    }
   ],
   "source": [
    "#hide\n",
    "paths['mapping']"
   ]
  },
  {
   "cell_type": "code",
   "execution_count": 4,
   "id": "urban-software",
   "metadata": {
    "execution": {
     "iopub.execute_input": "2021-10-19T12:12:09.543623Z",
     "iopub.status.busy": "2021-10-19T12:12:09.543067Z",
     "iopub.status.idle": "2021-10-19T12:12:09.545149Z",
     "shell.execute_reply": "2021-10-19T12:12:09.544712Z"
    },
    "papermill": {
     "duration": 0.037321,
     "end_time": "2021-10-19T12:12:09.545261",
     "exception": false,
     "start_time": "2021-10-19T12:12:09.507940",
     "status": "completed"
    },
    "tags": []
   },
   "outputs": [],
   "source": [
    "#hide\n",
    "def get_mappings(url):\n",
    "    df = pd.read_csv(url)\n",
    "    return {\n",
    "        'df': df,\n",
    "        'replace.country': dict(df.dropna(subset=['Name']).set_index('Country')['Name']),\n",
    "        'map.continent': dict(df.set_index('Name')['Continent'])\n",
    "    }"
   ]
  },
  {
   "cell_type": "code",
   "execution_count": 5,
   "id": "intimate-machinery",
   "metadata": {
    "execution": {
     "iopub.execute_input": "2021-10-19T12:12:09.611301Z",
     "iopub.status.busy": "2021-10-19T12:12:09.610757Z",
     "iopub.status.idle": "2021-10-19T12:12:09.640078Z",
     "shell.execute_reply": "2021-10-19T12:12:09.639476Z"
    },
    "papermill": {
     "duration": 0.064944,
     "end_time": "2021-10-19T12:12:09.640214",
     "exception": false,
     "start_time": "2021-10-19T12:12:09.575270",
     "status": "completed"
    },
    "tags": []
   },
   "outputs": [],
   "source": [
    "#hide\n",
    "mapping = get_mappings(paths['mapping'])"
   ]
  },
  {
   "cell_type": "code",
   "execution_count": 6,
   "id": "certified-tactics",
   "metadata": {
    "execution": {
     "iopub.execute_input": "2021-10-19T12:12:09.706744Z",
     "iopub.status.busy": "2021-10-19T12:12:09.706220Z",
     "iopub.status.idle": "2021-10-19T12:12:09.708293Z",
     "shell.execute_reply": "2021-10-19T12:12:09.707852Z"
    },
    "papermill": {
     "duration": 0.037663,
     "end_time": "2021-10-19T12:12:09.708407",
     "exception": false,
     "start_time": "2021-10-19T12:12:09.670744",
     "status": "completed"
    },
    "tags": []
   },
   "outputs": [],
   "source": [
    "#hide\n",
    "def get_template(path):\n",
    "    from urllib.parse import urlparse\n",
    "    if bool(urlparse(path).netloc):\n",
    "        from urllib.request import urlopen\n",
    "        return urlopen(path).read().decode('utf8')\n",
    "    return open(path).read()"
   ]
  },
  {
   "cell_type": "code",
   "execution_count": 7,
   "id": "realistic-blast",
   "metadata": {
    "execution": {
     "iopub.execute_input": "2021-10-19T12:12:09.773675Z",
     "iopub.status.busy": "2021-10-19T12:12:09.773153Z",
     "iopub.status.idle": "2021-10-19T12:12:09.775294Z",
     "shell.execute_reply": "2021-10-19T12:12:09.774859Z"
    },
    "papermill": {
     "duration": 0.03711,
     "end_time": "2021-10-19T12:12:09.775403",
     "exception": false,
     "start_time": "2021-10-19T12:12:09.738293",
     "status": "completed"
    },
    "tags": []
   },
   "outputs": [],
   "source": [
    "#hide\n",
    "def get_frame(name):\n",
    "    url = (\n",
    "        'https://raw.githubusercontent.com/CSSEGISandData/COVID-19/master/csse_covid_19_data/'\n",
    "        f'csse_covid_19_time_series/time_series_covid19_{name}_global.csv')\n",
    "    df = pd.read_csv(url)\n",
    "    # rename countries\n",
    "    df['Country/Region'] = df['Country/Region'].replace(mapping['replace.country'])\n",
    "    return df"
   ]
  },
  {
   "cell_type": "code",
   "execution_count": 8,
   "id": "affiliated-characterization",
   "metadata": {
    "execution": {
     "iopub.execute_input": "2021-10-19T12:12:09.841903Z",
     "iopub.status.busy": "2021-10-19T12:12:09.841363Z",
     "iopub.status.idle": "2021-10-19T12:12:09.843422Z",
     "shell.execute_reply": "2021-10-19T12:12:09.842913Z"
    },
    "papermill": {
     "duration": 0.038093,
     "end_time": "2021-10-19T12:12:09.843560",
     "exception": false,
     "start_time": "2021-10-19T12:12:09.805467",
     "status": "completed"
    },
    "tags": []
   },
   "outputs": [],
   "source": [
    "#hide\n",
    "def get_dates(df):\n",
    "    dt_cols = df.columns[~df.columns.isin(['Province/State', 'Country/Region', 'Lat', 'Long'])]\n",
    "    LAST_DATE_I = -1\n",
    "    # sometimes last column may be empty, then go backwards\n",
    "    for i in range(-1, -len(dt_cols), -1):\n",
    "        if not df[dt_cols[i]].fillna(0).eq(0).all():\n",
    "            LAST_DATE_I = i\n",
    "            break\n",
    "    return LAST_DATE_I, dt_cols"
   ]
  },
  {
   "cell_type": "code",
   "execution_count": 9,
   "id": "recent-optimization",
   "metadata": {
    "execution": {
     "iopub.execute_input": "2021-10-19T12:12:09.909047Z",
     "iopub.status.busy": "2021-10-19T12:12:09.908500Z",
     "iopub.status.idle": "2021-10-19T12:12:10.196220Z",
     "shell.execute_reply": "2021-10-19T12:12:10.195159Z"
    },
    "papermill": {
     "duration": 0.322636,
     "end_time": "2021-10-19T12:12:10.196352",
     "exception": false,
     "start_time": "2021-10-19T12:12:09.873716",
     "status": "completed"
    },
    "tags": []
   },
   "outputs": [],
   "source": [
    "#hide\n",
    "COL_REGION = 'Country/Region'\n",
    "# Confirmed, Recovered, Deaths\n",
    "df = get_frame('confirmed')\n",
    "# dft_: timeseries, dfc_: today country agg\n",
    "dft_cases = df\n",
    "dft_deaths = get_frame('deaths')\n",
    "dft_recovered = get_frame('recovered')\n",
    "LAST_DATE_I, dt_cols = get_dates(df)"
   ]
  },
  {
   "cell_type": "code",
   "execution_count": 10,
   "id": "absolute-copper",
   "metadata": {
    "execution": {
     "iopub.execute_input": "2021-10-19T12:12:10.262433Z",
     "iopub.status.busy": "2021-10-19T12:12:10.261811Z",
     "iopub.status.idle": "2021-10-19T12:12:10.263142Z",
     "shell.execute_reply": "2021-10-19T12:12:10.263638Z"
    },
    "papermill": {
     "duration": 0.037209,
     "end_time": "2021-10-19T12:12:10.263782",
     "exception": false,
     "start_time": "2021-10-19T12:12:10.226573",
     "status": "completed"
    },
    "tags": []
   },
   "outputs": [],
   "source": [
    "#hide\n",
    "LAST_DATE_I, dt_cols = get_dates(df)\n",
    "dt_today =dt_cols[LAST_DATE_I]\n",
    "# dt_5day = dt_cols[LAST_DATE_I - 5]\n",
    "dt_yday = dt_cols[LAST_DATE_I - 1]"
   ]
  },
  {
   "cell_type": "code",
   "execution_count": 11,
   "id": "restricted-sheriff",
   "metadata": {
    "execution": {
     "iopub.execute_input": "2021-10-19T12:12:10.330184Z",
     "iopub.status.busy": "2021-10-19T12:12:10.329660Z",
     "iopub.status.idle": "2021-10-19T12:12:10.336851Z",
     "shell.execute_reply": "2021-10-19T12:12:10.337234Z"
    },
    "papermill": {
     "duration": 0.0437,
     "end_time": "2021-10-19T12:12:10.337371",
     "exception": false,
     "start_time": "2021-10-19T12:12:10.293671",
     "status": "completed"
    },
    "tags": []
   },
   "outputs": [],
   "source": [
    "#hide\n",
    "dfc_cases = dft_cases.groupby(COL_REGION)[dt_today].sum()\n",
    "dfc_deaths = dft_deaths.groupby(COL_REGION)[dt_today].sum()\n",
    "# dfp_cases = dft_cases.groupby(COL_REGION)[dt_5day].sum()\n",
    "# dfp_deaths = dft_deaths.groupby(COL_REGION)[dt_5day].sum()\n",
    "dfp_cases = dft_cases.groupby(COL_REGION)[dt_yday].sum()\n",
    "dfp_deaths = dft_deaths.groupby(COL_REGION)[dt_yday].sum()"
   ]
  },
  {
   "cell_type": "code",
   "execution_count": 12,
   "id": "deluxe-hepatitis",
   "metadata": {
    "execution": {
     "iopub.execute_input": "2021-10-19T12:12:10.404206Z",
     "iopub.status.busy": "2021-10-19T12:12:10.403661Z",
     "iopub.status.idle": "2021-10-19T12:12:10.408256Z",
     "shell.execute_reply": "2021-10-19T12:12:10.407832Z"
    },
    "papermill": {
     "duration": 0.040975,
     "end_time": "2021-10-19T12:12:10.408380",
     "exception": false,
     "start_time": "2021-10-19T12:12:10.367405",
     "status": "completed"
    },
    "tags": []
   },
   "outputs": [],
   "source": [
    "#hide\n",
    "df_table = (pd.DataFrame(dict(Cases = dfc_cases, Deaths = dfc_deaths, PCases = dfp_cases, PDeaths = dfp_deaths))\n",
    "            .sort_values(by = ['Cases','Deaths'], ascending = [False, False])\n",
    "            .reset_index())"
   ]
  },
  {
   "cell_type": "code",
   "execution_count": 13,
   "id": "educational-chancellor",
   "metadata": {
    "execution": {
     "iopub.execute_input": "2021-10-19T12:12:10.487237Z",
     "iopub.status.busy": "2021-10-19T12:12:10.486692Z",
     "iopub.status.idle": "2021-10-19T12:12:10.494175Z",
     "shell.execute_reply": "2021-10-19T12:12:10.493756Z"
    },
    "papermill": {
     "duration": 0.055862,
     "end_time": "2021-10-19T12:12:10.494300",
     "exception": false,
     "start_time": "2021-10-19T12:12:10.438438",
     "status": "completed"
    },
    "tags": []
   },
   "outputs": [
    {
     "data": {
      "text/html": [
       "<div>\n",
       "<style scoped>\n",
       "    .dataframe tbody tr th:only-of-type {\n",
       "        vertical-align: middle;\n",
       "    }\n",
       "\n",
       "    .dataframe tbody tr th {\n",
       "        vertical-align: top;\n",
       "    }\n",
       "\n",
       "    .dataframe thead th {\n",
       "        text-align: right;\n",
       "    }\n",
       "</style>\n",
       "<table border=\"1\" class=\"dataframe\">\n",
       "  <thead>\n",
       "    <tr style=\"text-align: right;\">\n",
       "      <th></th>\n",
       "      <th>Country/Region</th>\n",
       "      <th>Cases</th>\n",
       "      <th>Deaths</th>\n",
       "      <th>PCases</th>\n",
       "      <th>PDeaths</th>\n",
       "      <th>Cases (+)</th>\n",
       "      <th>Deaths (+)</th>\n",
       "      <th>Fatality Rate</th>\n",
       "      <th>Continent</th>\n",
       "    </tr>\n",
       "  </thead>\n",
       "  <tbody>\n",
       "    <tr>\n",
       "      <th>0</th>\n",
       "      <td>US</td>\n",
       "      <td>45050910</td>\n",
       "      <td>726196</td>\n",
       "      <td>44934357</td>\n",
       "      <td>724317</td>\n",
       "      <td>116553</td>\n",
       "      <td>1879</td>\n",
       "      <td>1.61</td>\n",
       "      <td>North America</td>\n",
       "    </tr>\n",
       "    <tr>\n",
       "      <th>1</th>\n",
       "      <td>India</td>\n",
       "      <td>34094373</td>\n",
       "      <td>452454</td>\n",
       "      <td>34081315</td>\n",
       "      <td>452290</td>\n",
       "      <td>13058</td>\n",
       "      <td>164</td>\n",
       "      <td>1.33</td>\n",
       "      <td>Asia</td>\n",
       "    </tr>\n",
       "    <tr>\n",
       "      <th>2</th>\n",
       "      <td>Brazil</td>\n",
       "      <td>21651910</td>\n",
       "      <td>603465</td>\n",
       "      <td>21644464</td>\n",
       "      <td>603282</td>\n",
       "      <td>7446</td>\n",
       "      <td>183</td>\n",
       "      <td>2.79</td>\n",
       "      <td>South America</td>\n",
       "    </tr>\n",
       "    <tr>\n",
       "      <th>3</th>\n",
       "      <td>United Kingdom</td>\n",
       "      <td>8537650</td>\n",
       "      <td>139042</td>\n",
       "      <td>8488685</td>\n",
       "      <td>138997</td>\n",
       "      <td>48965</td>\n",
       "      <td>45</td>\n",
       "      <td>1.63</td>\n",
       "      <td>Europe</td>\n",
       "    </tr>\n",
       "    <tr>\n",
       "      <th>4</th>\n",
       "      <td>Russia</td>\n",
       "      <td>7903963</td>\n",
       "      <td>220323</td>\n",
       "      <td>7870529</td>\n",
       "      <td>219342</td>\n",
       "      <td>33434</td>\n",
       "      <td>981</td>\n",
       "      <td>2.79</td>\n",
       "      <td>Europe</td>\n",
       "    </tr>\n",
       "  </tbody>\n",
       "</table>\n",
       "</div>"
      ],
      "text/plain": [
       "   Country/Region     Cases  Deaths    PCases  PDeaths  Cases (+)  Deaths (+)  \\\n",
       "0              US  45050910  726196  44934357   724317     116553        1879   \n",
       "1           India  34094373  452454  34081315   452290      13058         164   \n",
       "2          Brazil  21651910  603465  21644464   603282       7446         183   \n",
       "3  United Kingdom   8537650  139042   8488685   138997      48965          45   \n",
       "4          Russia   7903963  220323   7870529   219342      33434         981   \n",
       "\n",
       "   Fatality Rate      Continent  \n",
       "0           1.61  North America  \n",
       "1           1.33           Asia  \n",
       "2           2.79  South America  \n",
       "3           1.63         Europe  \n",
       "4           2.79         Europe  "
      ]
     },
     "execution_count": 13,
     "metadata": {},
     "output_type": "execute_result"
    }
   ],
   "source": [
    "#hide\n",
    "for c in 'Cases, Deaths'.split(', '):\n",
    "    df_table[f'{c} (+)'] = (df_table[c] - df_table[f'P{c}']).clip(0)\n",
    "    #Clip ça veut dire, les chiffres negatif sont interdit\n",
    "df_table['Fatality Rate'] = (100* df_table['Deaths']/ df_table['Cases']).round(2)\n",
    "df_table['Continent'] = df_table['Country/Region'].map(mapping['map.continent'])\n",
    "df_table.head(5)"
   ]
  },
  {
   "cell_type": "code",
   "execution_count": 14,
   "id": "aboriginal-bulgaria",
   "metadata": {
    "execution": {
     "iopub.execute_input": "2021-10-19T12:12:10.561148Z",
     "iopub.status.busy": "2021-10-19T12:12:10.560623Z",
     "iopub.status.idle": "2021-10-19T12:12:10.562606Z",
     "shell.execute_reply": "2021-10-19T12:12:10.563016Z"
    },
    "papermill": {
     "duration": 0.038402,
     "end_time": "2021-10-19T12:12:10.563152",
     "exception": false,
     "start_time": "2021-10-19T12:12:10.524750",
     "status": "completed"
    },
    "tags": []
   },
   "outputs": [],
   "source": [
    "#hide\n",
    "#delete problematic countries from table\n",
    "df_table = df_table[~df_table['Country/Region'].isin(['Cape Verde', 'Cruise Ship', 'Kosovo'])]"
   ]
  },
  {
   "cell_type": "code",
   "execution_count": 15,
   "id": "fantastic-effect",
   "metadata": {
    "execution": {
     "iopub.execute_input": "2021-10-19T12:12:10.632312Z",
     "iopub.status.busy": "2021-10-19T12:12:10.631767Z",
     "iopub.status.idle": "2021-10-19T12:12:10.648801Z",
     "shell.execute_reply": "2021-10-19T12:12:10.649214Z"
    },
    "papermill": {
     "duration": 0.055924,
     "end_time": "2021-10-19T12:12:10.649356",
     "exception": false,
     "start_time": "2021-10-19T12:12:10.593432",
     "status": "completed"
    },
    "tags": []
   },
   "outputs": [
    {
     "data": {
      "text/html": [
       "<div>\n",
       "<style scoped>\n",
       "    .dataframe tbody tr th:only-of-type {\n",
       "        vertical-align: middle;\n",
       "    }\n",
       "\n",
       "    .dataframe tbody tr th {\n",
       "        vertical-align: top;\n",
       "    }\n",
       "\n",
       "    .dataframe thead th {\n",
       "        text-align: right;\n",
       "    }\n",
       "</style>\n",
       "<table border=\"1\" class=\"dataframe\">\n",
       "  <thead>\n",
       "    <tr style=\"text-align: right;\">\n",
       "      <th></th>\n",
       "      <th>Country/Region</th>\n",
       "      <th>Cases</th>\n",
       "      <th>Deaths</th>\n",
       "      <th>PCases</th>\n",
       "      <th>PDeaths</th>\n",
       "      <th>Cases (+)</th>\n",
       "      <th>Deaths (+)</th>\n",
       "      <th>Fatality Rate</th>\n",
       "      <th>Continent</th>\n",
       "    </tr>\n",
       "  </thead>\n",
       "  <tbody>\n",
       "    <tr>\n",
       "      <th>0</th>\n",
       "      <td>US</td>\n",
       "      <td>45050910</td>\n",
       "      <td>726196</td>\n",
       "      <td>44934357</td>\n",
       "      <td>724317</td>\n",
       "      <td>116553</td>\n",
       "      <td>1879</td>\n",
       "      <td>1.6</td>\n",
       "      <td>North America</td>\n",
       "    </tr>\n",
       "    <tr>\n",
       "      <th>1</th>\n",
       "      <td>India</td>\n",
       "      <td>34094373</td>\n",
       "      <td>452454</td>\n",
       "      <td>34081315</td>\n",
       "      <td>452290</td>\n",
       "      <td>13058</td>\n",
       "      <td>164</td>\n",
       "      <td>1.3</td>\n",
       "      <td>Asia</td>\n",
       "    </tr>\n",
       "    <tr>\n",
       "      <th>2</th>\n",
       "      <td>Brazil</td>\n",
       "      <td>21651910</td>\n",
       "      <td>603465</td>\n",
       "      <td>21644464</td>\n",
       "      <td>603282</td>\n",
       "      <td>7446</td>\n",
       "      <td>183</td>\n",
       "      <td>2.8</td>\n",
       "      <td>South America</td>\n",
       "    </tr>\n",
       "    <tr>\n",
       "      <th>3</th>\n",
       "      <td>United Kingdom</td>\n",
       "      <td>8537650</td>\n",
       "      <td>139042</td>\n",
       "      <td>8488685</td>\n",
       "      <td>138997</td>\n",
       "      <td>48965</td>\n",
       "      <td>45</td>\n",
       "      <td>1.6</td>\n",
       "      <td>Europe</td>\n",
       "    </tr>\n",
       "    <tr>\n",
       "      <th>4</th>\n",
       "      <td>Russia</td>\n",
       "      <td>7903963</td>\n",
       "      <td>220323</td>\n",
       "      <td>7870529</td>\n",
       "      <td>219342</td>\n",
       "      <td>33434</td>\n",
       "      <td>981</td>\n",
       "      <td>2.8</td>\n",
       "      <td>Europe</td>\n",
       "    </tr>\n",
       "  </tbody>\n",
       "</table>\n",
       "</div>"
      ],
      "text/plain": [
       "   Country/Region     Cases  Deaths    PCases  PDeaths  Cases (+)  Deaths (+)  \\\n",
       "0              US  45050910  726196  44934357   724317     116553        1879   \n",
       "1           India  34094373  452454  34081315   452290      13058         164   \n",
       "2          Brazil  21651910  603465  21644464   603282       7446         183   \n",
       "3  United Kingdom   8537650  139042   8488685   138997      48965          45   \n",
       "4          Russia   7903963  220323   7870529   219342      33434         981   \n",
       "\n",
       "   Fatality Rate      Continent  \n",
       "0            1.6  North America  \n",
       "1            1.3           Asia  \n",
       "2            2.8  South America  \n",
       "3            1.6         Europe  \n",
       "4            2.8         Europe  "
      ]
     },
     "execution_count": 15,
     "metadata": {},
     "output_type": "execute_result"
    }
   ],
   "source": [
    "#hide\n",
    "df_table = (pd.DataFrame(dict(Cases=dfc_cases, Deaths=dfc_deaths, PCases=dfp_cases, PDeaths=dfp_deaths))\n",
    "             .sort_values(by=['Cases', 'Deaths'], ascending=[False, False])\n",
    "             .reset_index())\n",
    "df_table.rename(columns={'index': 'Country/Region'}, inplace=True)\n",
    "for c in 'Cases, Deaths'.split(', '):\n",
    "    df_table[f'{c} (+)'] = (df_table[c] - df_table[f'P{c}']).clip(0)  # DATA BUG\n",
    "df_table['Fatality Rate'] = (100 * df_table['Deaths'] / df_table['Cases']).round(1)\n",
    "df_table['Continent'] = df_table['Country/Region'].map(mapping['map.continent'])\n",
    "df_table.head(5)"
   ]
  },
  {
   "cell_type": "code",
   "execution_count": 16,
   "id": "fewer-occasion",
   "metadata": {
    "execution": {
     "iopub.execute_input": "2021-10-19T12:12:10.717832Z",
     "iopub.status.busy": "2021-10-19T12:12:10.717269Z",
     "iopub.status.idle": "2021-10-19T12:12:10.720400Z",
     "shell.execute_reply": "2021-10-19T12:12:10.719962Z"
    },
    "papermill": {
     "duration": 0.04026,
     "end_time": "2021-10-19T12:12:10.720513",
     "exception": false,
     "start_time": "2021-10-19T12:12:10.680253",
     "status": "completed"
    },
    "tags": []
   },
   "outputs": [],
   "source": [
    "#hide\n",
    "#delete problematic countries from table\n",
    "df_table = df_table[~df_table['Country/Region'].isin(['Cape Verde', 'Cruise Ship', 'Kosovo'])]"
   ]
  },
  {
   "cell_type": "code",
   "execution_count": 17,
   "id": "related-center",
   "metadata": {
    "execution": {
     "iopub.execute_input": "2021-10-19T12:12:10.791147Z",
     "iopub.status.busy": "2021-10-19T12:12:10.790614Z",
     "iopub.status.idle": "2021-10-19T12:12:10.803138Z",
     "shell.execute_reply": "2021-10-19T12:12:10.802688Z"
    },
    "papermill": {
     "duration": 0.051937,
     "end_time": "2021-10-19T12:12:10.803254",
     "exception": false,
     "start_time": "2021-10-19T12:12:10.751317",
     "status": "completed"
    },
    "tags": []
   },
   "outputs": [],
   "source": [
    "#hide\n",
    "metrics = [df_table.columns[index] for index in [1,2,5,6]]\n",
    "# s_china = df_table[df_table['Country/Region'].eq('China')][metrics].sum().add_prefix('China ')\n",
    "s_us = df_table[df_table['Country/Region'].eq('US')][metrics].sum().add_prefix('US ')\n",
    "s_eu = df_table[df_table['Continent'].eq('Europe')][metrics].sum().add_prefix('EU ')\n",
    "s_ind = df_table[df_table['Country/Region'].eq('India')][metrics].sum().add_prefix('India ')\n",
    "summary = {'updated': pd.to_datetime(dt_today), 'since': pd.to_datetime(dt_yday)}\n",
    "summary = {'updated': pd.to_datetime(dt_today), 'since': pd.to_datetime(dt_yday)}\n",
    "summary = {**summary, **df_table[metrics].sum(), **s_ind, **s_us, **s_eu}"
   ]
  },
  {
   "cell_type": "code",
   "execution_count": 18,
   "id": "engaging-syndrome",
   "metadata": {
    "execution": {
     "iopub.execute_input": "2021-10-19T12:12:10.871335Z",
     "iopub.status.busy": "2021-10-19T12:12:10.870808Z",
     "iopub.status.idle": "2021-10-19T12:12:10.885602Z",
     "shell.execute_reply": "2021-10-19T12:12:10.885153Z"
    },
    "papermill": {
     "duration": 0.051709,
     "end_time": "2021-10-19T12:12:10.885725",
     "exception": false,
     "start_time": "2021-10-19T12:12:10.834016",
     "status": "completed"
    },
    "tags": []
   },
   "outputs": [],
   "source": [
    "#hide\n",
    "dft_ct_new_cases = dft_cases.groupby(COL_REGION)[dt_cols].sum().diff(axis=1).fillna(0).astype(int)"
   ]
  },
  {
   "cell_type": "code",
   "execution_count": 19,
   "id": "neutral-assignment",
   "metadata": {
    "execution": {
     "iopub.execute_input": "2021-10-19T12:12:10.953887Z",
     "iopub.status.busy": "2021-10-19T12:12:10.953361Z",
     "iopub.status.idle": "2021-10-19T12:12:10.955461Z",
     "shell.execute_reply": "2021-10-19T12:12:10.955933Z"
    },
    "papermill": {
     "duration": 0.039579,
     "end_time": "2021-10-19T12:12:10.956065",
     "exception": false,
     "start_time": "2021-10-19T12:12:10.916486",
     "status": "completed"
    },
    "tags": []
   },
   "outputs": [],
   "source": [
    "#hide\n",
    "everydaycases = dft_ct_new_cases.cumsum(axis=1)"
   ]
  },
  {
   "cell_type": "code",
   "execution_count": 20,
   "id": "parliamentary-calgary",
   "metadata": {
    "execution": {
     "iopub.execute_input": "2021-10-19T12:12:11.022905Z",
     "iopub.status.busy": "2021-10-19T12:12:11.022363Z",
     "iopub.status.idle": "2021-10-19T12:12:11.561344Z",
     "shell.execute_reply": "2021-10-19T12:12:11.560804Z"
    },
    "papermill": {
     "duration": 0.574266,
     "end_time": "2021-10-19T12:12:11.561493",
     "exception": false,
     "start_time": "2021-10-19T12:12:10.987227",
     "status": "completed"
    },
    "tags": []
   },
   "outputs": [],
   "source": [
    "#hide\n",
    "import pandas as pd\n",
    "import matplotlib.pyplot as plt\n",
    "import matplotlib.ticker as ticker\n",
    "import matplotlib.animation as animation\n",
    "from IPython.display import HTML"
   ]
  },
  {
   "cell_type": "code",
   "execution_count": 21,
   "id": "lasting-extraction",
   "metadata": {
    "execution": {
     "iopub.execute_input": "2021-10-19T12:12:11.630862Z",
     "iopub.status.busy": "2021-10-19T12:12:11.630328Z",
     "iopub.status.idle": "2021-10-19T12:12:11.636302Z",
     "shell.execute_reply": "2021-10-19T12:12:11.635873Z"
    },
    "papermill": {
     "duration": 0.042823,
     "end_time": "2021-10-19T12:12:11.636425",
     "exception": false,
     "start_time": "2021-10-19T12:12:11.593602",
     "status": "completed"
    },
    "tags": []
   },
   "outputs": [],
   "source": [
    "#hide\n",
    "t = everydaycases.stack()"
   ]
  },
  {
   "cell_type": "code",
   "execution_count": 22,
   "id": "premier-sleeve",
   "metadata": {
    "execution": {
     "iopub.execute_input": "2021-10-19T12:12:11.703172Z",
     "iopub.status.busy": "2021-10-19T12:12:11.702633Z",
     "iopub.status.idle": "2021-10-19T12:12:11.711999Z",
     "shell.execute_reply": "2021-10-19T12:12:11.712439Z"
    },
    "papermill": {
     "duration": 0.045287,
     "end_time": "2021-10-19T12:12:11.712581",
     "exception": false,
     "start_time": "2021-10-19T12:12:11.667294",
     "status": "completed"
    },
    "tags": []
   },
   "outputs": [],
   "source": [
    "#hide\n",
    "g = t.reset_index(['Country/Region'])"
   ]
  },
  {
   "cell_type": "code",
   "execution_count": 23,
   "id": "distributed-pittsburgh",
   "metadata": {
    "execution": {
     "iopub.execute_input": "2021-10-19T12:12:11.778831Z",
     "iopub.status.busy": "2021-10-19T12:12:11.778313Z",
     "iopub.status.idle": "2021-10-19T12:12:11.780211Z",
     "shell.execute_reply": "2021-10-19T12:12:11.780615Z"
    },
    "papermill": {
     "duration": 0.037442,
     "end_time": "2021-10-19T12:12:11.780750",
     "exception": false,
     "start_time": "2021-10-19T12:12:11.743308",
     "status": "completed"
    },
    "tags": []
   },
   "outputs": [],
   "source": [
    "#hide\n",
    "g.index.name = 'date'"
   ]
  },
  {
   "cell_type": "code",
   "execution_count": 24,
   "id": "naked-donor",
   "metadata": {
    "execution": {
     "iopub.execute_input": "2021-10-19T12:12:11.846148Z",
     "iopub.status.busy": "2021-10-19T12:12:11.845622Z",
     "iopub.status.idle": "2021-10-19T12:12:11.847824Z",
     "shell.execute_reply": "2021-10-19T12:12:11.847385Z"
    },
    "papermill": {
     "duration": 0.036467,
     "end_time": "2021-10-19T12:12:11.847942",
     "exception": false,
     "start_time": "2021-10-19T12:12:11.811475",
     "status": "completed"
    },
    "tags": []
   },
   "outputs": [],
   "source": [
    "# #hide\n",
    "# g = g.reset_index(['date'])"
   ]
  },
  {
   "cell_type": "code",
   "execution_count": 25,
   "id": "incomplete-mustang",
   "metadata": {
    "execution": {
     "iopub.execute_input": "2021-10-19T12:12:11.913473Z",
     "iopub.status.busy": "2021-10-19T12:12:11.912955Z",
     "iopub.status.idle": "2021-10-19T12:12:11.914991Z",
     "shell.execute_reply": "2021-10-19T12:12:11.914564Z"
    },
    "papermill": {
     "duration": 0.036419,
     "end_time": "2021-10-19T12:12:11.915103",
     "exception": false,
     "start_time": "2021-10-19T12:12:11.878684",
     "status": "completed"
    },
    "tags": []
   },
   "outputs": [],
   "source": [
    "#hide\n",
    "# g.head()"
   ]
  },
  {
   "cell_type": "code",
   "execution_count": 26,
   "id": "specific-kruger",
   "metadata": {
    "execution": {
     "iopub.execute_input": "2021-10-19T12:12:11.980797Z",
     "iopub.status.busy": "2021-10-19T12:12:11.980260Z",
     "iopub.status.idle": "2021-10-19T12:12:11.982449Z",
     "shell.execute_reply": "2021-10-19T12:12:11.982014Z"
    },
    "papermill": {
     "duration": 0.036636,
     "end_time": "2021-10-19T12:12:11.982565",
     "exception": false,
     "start_time": "2021-10-19T12:12:11.945929",
     "status": "completed"
    },
    "tags": []
   },
   "outputs": [],
   "source": [
    "#hide\n",
    "# g.columns = ['date','country','cases']"
   ]
  },
  {
   "cell_type": "code",
   "execution_count": 27,
   "id": "tender-conversion",
   "metadata": {
    "execution": {
     "iopub.execute_input": "2021-10-19T12:12:12.047992Z",
     "iopub.status.busy": "2021-10-19T12:12:12.047435Z",
     "iopub.status.idle": "2021-10-19T12:12:12.049874Z",
     "shell.execute_reply": "2021-10-19T12:12:12.049438Z"
    },
    "papermill": {
     "duration": 0.036831,
     "end_time": "2021-10-19T12:12:12.049987",
     "exception": false,
     "start_time": "2021-10-19T12:12:12.013156",
     "status": "completed"
    },
    "tags": []
   },
   "outputs": [],
   "source": [
    "#hide\n",
    "# g['continent'] = g.country"
   ]
  },
  {
   "cell_type": "code",
   "execution_count": 28,
   "id": "substantial-wilderness",
   "metadata": {
    "execution": {
     "iopub.execute_input": "2021-10-19T12:12:12.115924Z",
     "iopub.status.busy": "2021-10-19T12:12:12.115360Z",
     "iopub.status.idle": "2021-10-19T12:12:12.117371Z",
     "shell.execute_reply": "2021-10-19T12:12:12.116864Z"
    },
    "papermill": {
     "duration": 0.036254,
     "end_time": "2021-10-19T12:12:12.117484",
     "exception": false,
     "start_time": "2021-10-19T12:12:12.081230",
     "status": "completed"
    },
    "tags": []
   },
   "outputs": [],
   "source": [
    "#hide\n",
    "# cols = list(g.columns.values)"
   ]
  },
  {
   "cell_type": "code",
   "execution_count": 29,
   "id": "solved-farming",
   "metadata": {
    "execution": {
     "iopub.execute_input": "2021-10-19T12:12:12.183010Z",
     "iopub.status.busy": "2021-10-19T12:12:12.182484Z",
     "iopub.status.idle": "2021-10-19T12:12:12.184693Z",
     "shell.execute_reply": "2021-10-19T12:12:12.184257Z"
    },
    "papermill": {
     "duration": 0.036662,
     "end_time": "2021-10-19T12:12:12.184809",
     "exception": false,
     "start_time": "2021-10-19T12:12:12.148147",
     "status": "completed"
    },
    "tags": []
   },
   "outputs": [],
   "source": [
    "#hide\n",
    "# cols.insert(0, cols.pop())"
   ]
  },
  {
   "cell_type": "code",
   "execution_count": 30,
   "id": "executed-adoption",
   "metadata": {
    "execution": {
     "iopub.execute_input": "2021-10-19T12:12:12.250680Z",
     "iopub.status.busy": "2021-10-19T12:12:12.250152Z",
     "iopub.status.idle": "2021-10-19T12:12:12.252396Z",
     "shell.execute_reply": "2021-10-19T12:12:12.251981Z"
    },
    "papermill": {
     "duration": 0.036758,
     "end_time": "2021-10-19T12:12:12.252511",
     "exception": false,
     "start_time": "2021-10-19T12:12:12.215753",
     "status": "completed"
    },
    "tags": []
   },
   "outputs": [],
   "source": [
    "#hide\n",
    "# g = g[cols]"
   ]
  },
  {
   "cell_type": "code",
   "execution_count": 31,
   "id": "subject-dublin",
   "metadata": {
    "execution": {
     "iopub.execute_input": "2021-10-19T12:12:12.317932Z",
     "iopub.status.busy": "2021-10-19T12:12:12.317407Z",
     "iopub.status.idle": "2021-10-19T12:12:12.319242Z",
     "shell.execute_reply": "2021-10-19T12:12:12.319647Z"
    },
    "papermill": {
     "duration": 0.036664,
     "end_time": "2021-10-19T12:12:12.319789",
     "exception": false,
     "start_time": "2021-10-19T12:12:12.283125",
     "status": "completed"
    },
    "tags": []
   },
   "outputs": [],
   "source": [
    "#hide\n",
    "# g['continent'] = g['continent'].map(mapping['map.continent'])"
   ]
  },
  {
   "cell_type": "code",
   "execution_count": 32,
   "id": "freelance-scout",
   "metadata": {
    "execution": {
     "iopub.execute_input": "2021-10-19T12:12:12.385142Z",
     "iopub.status.busy": "2021-10-19T12:12:12.384623Z",
     "iopub.status.idle": "2021-10-19T12:12:12.386443Z",
     "shell.execute_reply": "2021-10-19T12:12:12.386825Z"
    },
    "papermill": {
     "duration": 0.036567,
     "end_time": "2021-10-19T12:12:12.386962",
     "exception": false,
     "start_time": "2021-10-19T12:12:12.350395",
     "status": "completed"
    },
    "tags": []
   },
   "outputs": [],
   "source": [
    "#hide\n",
    "# g.head()"
   ]
  },
  {
   "cell_type": "code",
   "execution_count": 33,
   "id": "limited-engine",
   "metadata": {
    "execution": {
     "iopub.execute_input": "2021-10-19T12:12:12.452377Z",
     "iopub.status.busy": "2021-10-19T12:12:12.451825Z",
     "iopub.status.idle": "2021-10-19T12:12:12.453842Z",
     "shell.execute_reply": "2021-10-19T12:12:12.453407Z"
    },
    "papermill": {
     "duration": 0.036401,
     "end_time": "2021-10-19T12:12:12.453958",
     "exception": false,
     "start_time": "2021-10-19T12:12:12.417557",
     "status": "completed"
    },
    "tags": []
   },
   "outputs": [],
   "source": [
    "# hide\n",
    "# g['date'] = g['date'].astype('datetime64[ns]')"
   ]
  },
  {
   "cell_type": "code",
   "execution_count": 34,
   "id": "sophisticated-supervisor",
   "metadata": {
    "execution": {
     "iopub.execute_input": "2021-10-19T12:12:12.519499Z",
     "iopub.status.busy": "2021-10-19T12:12:12.518947Z",
     "iopub.status.idle": "2021-10-19T12:12:12.520783Z",
     "shell.execute_reply": "2021-10-19T12:12:12.521217Z"
    },
    "papermill": {
     "duration": 0.036473,
     "end_time": "2021-10-19T12:12:12.521348",
     "exception": false,
     "start_time": "2021-10-19T12:12:12.484875",
     "status": "completed"
    },
    "tags": []
   },
   "outputs": [],
   "source": [
    "#hide\n",
    "# g['date'] = g.date.dt.dayofyear"
   ]
  },
  {
   "cell_type": "code",
   "execution_count": 35,
   "id": "inside-dubai",
   "metadata": {
    "execution": {
     "iopub.execute_input": "2021-10-19T12:12:12.586535Z",
     "iopub.status.busy": "2021-10-19T12:12:12.586009Z",
     "iopub.status.idle": "2021-10-19T12:12:12.588079Z",
     "shell.execute_reply": "2021-10-19T12:12:12.587662Z"
    },
    "papermill": {
     "duration": 0.036291,
     "end_time": "2021-10-19T12:12:12.588192",
     "exception": false,
     "start_time": "2021-10-19T12:12:12.551901",
     "status": "completed"
    },
    "tags": []
   },
   "outputs": [],
   "source": [
    "#hide\n",
    "# g = g.rename(columns= {'continent':'group','country':'name','cases':'value'})"
   ]
  },
  {
   "cell_type": "code",
   "execution_count": 36,
   "id": "fleet-motorcycle",
   "metadata": {
    "execution": {
     "iopub.execute_input": "2021-10-19T12:12:12.653713Z",
     "iopub.status.busy": "2021-10-19T12:12:12.653180Z",
     "iopub.status.idle": "2021-10-19T12:12:12.655378Z",
     "shell.execute_reply": "2021-10-19T12:12:12.654967Z"
    },
    "papermill": {
     "duration": 0.036508,
     "end_time": "2021-10-19T12:12:12.655511",
     "exception": false,
     "start_time": "2021-10-19T12:12:12.619003",
     "status": "completed"
    },
    "tags": []
   },
   "outputs": [],
   "source": [
    "#hide\n",
    "# cols = ['name','group','day','value']"
   ]
  },
  {
   "cell_type": "code",
   "execution_count": 37,
   "id": "continued-sleeping",
   "metadata": {
    "execution": {
     "iopub.execute_input": "2021-10-19T12:12:12.720632Z",
     "iopub.status.busy": "2021-10-19T12:12:12.720105Z",
     "iopub.status.idle": "2021-10-19T12:12:12.721975Z",
     "shell.execute_reply": "2021-10-19T12:12:12.722359Z"
    },
    "papermill": {
     "duration": 0.036493,
     "end_time": "2021-10-19T12:12:12.722490",
     "exception": false,
     "start_time": "2021-10-19T12:12:12.685997",
     "status": "completed"
    },
    "tags": []
   },
   "outputs": [],
   "source": [
    "#hide\n",
    "# g.rename(columns= {'date':'day'},inplace = True)"
   ]
  },
  {
   "cell_type": "code",
   "execution_count": 38,
   "id": "major-fight",
   "metadata": {
    "execution": {
     "iopub.execute_input": "2021-10-19T12:12:12.787477Z",
     "iopub.status.busy": "2021-10-19T12:12:12.786949Z",
     "iopub.status.idle": "2021-10-19T12:12:12.789192Z",
     "shell.execute_reply": "2021-10-19T12:12:12.788764Z"
    },
    "papermill": {
     "duration": 0.036264,
     "end_time": "2021-10-19T12:12:12.789311",
     "exception": false,
     "start_time": "2021-10-19T12:12:12.753047",
     "status": "completed"
    },
    "tags": []
   },
   "outputs": [],
   "source": [
    "#hide\n",
    "# g = g[cols]"
   ]
  },
  {
   "cell_type": "code",
   "execution_count": 39,
   "id": "structured-mobile",
   "metadata": {
    "execution": {
     "iopub.execute_input": "2021-10-19T12:12:12.854466Z",
     "iopub.status.busy": "2021-10-19T12:12:12.853948Z",
     "iopub.status.idle": "2021-10-19T12:12:12.856212Z",
     "shell.execute_reply": "2021-10-19T12:12:12.855790Z"
    },
    "papermill": {
     "duration": 0.036357,
     "end_time": "2021-10-19T12:12:12.856331",
     "exception": false,
     "start_time": "2021-10-19T12:12:12.819974",
     "status": "completed"
    },
    "tags": []
   },
   "outputs": [],
   "source": [
    "# #hide\n",
    "# g = g[g.group.notna()]"
   ]
  },
  {
   "cell_type": "code",
   "execution_count": 40,
   "id": "determined-closing",
   "metadata": {
    "execution": {
     "iopub.execute_input": "2021-10-19T12:12:12.921572Z",
     "iopub.status.busy": "2021-10-19T12:12:12.921035Z",
     "iopub.status.idle": "2021-10-19T12:12:12.922678Z",
     "shell.execute_reply": "2021-10-19T12:12:12.923086Z"
    },
    "papermill": {
     "duration": 0.036315,
     "end_time": "2021-10-19T12:12:12.923214",
     "exception": false,
     "start_time": "2021-10-19T12:12:12.886899",
     "status": "completed"
    },
    "tags": []
   },
   "outputs": [],
   "source": [
    "# #hide\n",
    "# colors = dict(zip(\n",
    "#     [\"Oceania\", \"Europe\", \"Asia\", \"South America\", \"Middle East\", \"North America\", \"Africa\"],\n",
    "#     [\"#adb0ff\", \"#ffb3ff\", \"#90d595\", \"#e48381\", \"#aafbff\", \"#f7bb5f\", \"#eafb50\"]\n",
    "# ))\n",
    "# group_lk = g.set_index('name')['group'].to_dict()"
   ]
  },
  {
   "cell_type": "code",
   "execution_count": null,
   "id": "gross-drinking",
   "metadata": {
    "papermill": {
     "duration": 0.030284,
     "end_time": "2021-10-19T12:12:12.983802",
     "exception": false,
     "start_time": "2021-10-19T12:12:12.953518",
     "status": "completed"
    },
    "tags": []
   },
   "outputs": [],
   "source": []
  },
  {
   "cell_type": "code",
   "execution_count": 41,
   "id": "subject-macintosh",
   "metadata": {
    "execution": {
     "iopub.execute_input": "2021-10-19T12:12:13.049346Z",
     "iopub.status.busy": "2021-10-19T12:12:13.048806Z",
     "iopub.status.idle": "2021-10-19T12:12:13.050747Z",
     "shell.execute_reply": "2021-10-19T12:12:13.051232Z"
    },
    "papermill": {
     "duration": 0.037082,
     "end_time": "2021-10-19T12:12:13.051363",
     "exception": false,
     "start_time": "2021-10-19T12:12:13.014281",
     "status": "completed"
    },
    "tags": []
   },
   "outputs": [],
   "source": [
    "# #hide\n",
    "# fig, ax = plt.subplots(figsize=(15, 8))\n",
    "\n",
    "# def draw_barchart(current_day):\n",
    "#     dff = g[g['day'].eq(current_day)].sort_values(by='value', ascending=True).tail(10)\n",
    "#     ax.clear()\n",
    "#     ax.barh(dff['name'], dff['value'], color=[colors[group_lk[x]] for x in dff['name']])\n",
    "#     dx = dff['value'].max() / 200\n",
    "    \n",
    "#     for i, (value, name) in enumerate(zip(dff['value'], dff['name'])):\n",
    "#         ax.text(value-dx, i,     name,           size=14, weight=600, ha='right', va='bottom')\n",
    "#         ax.text(value-dx, i-.25, group_lk[name], size=10, color='#444444', ha='right', va='baseline')\n",
    "#         ax.text(value+dx, i,     f'{value:,.0f}',  size=14, ha='left',  va='center')\n",
    "#     ax.text(1, 0.4, current_day, transform=ax.transAxes, color='#777777', size=46, ha='right', weight=800)\n",
    "#     ax.text(0, 1.06, 'Population (thousands)', transform=ax.transAxes, size=12, color='#777777')\n",
    "#     ax.xaxis.set_major_formatter(ticker.StrMethodFormatter('{x:,.0f}'))\n",
    "#     ax.xaxis.set_ticks_position('top')\n",
    "#     ax.tick_params(axis='x', colors='#777777', labelsize=12)\n",
    "#     ax.set_yticks([])\n",
    "#     ax.margins(0, 0.01)\n",
    "#     ax.grid(which='major', axis='x', linestyle='-')\n",
    "#     ax.set_axisbelow(True)\n",
    "    \n",
    "#     ax.text(0, 1.15, 'Coronavirus',\n",
    "#             transform=ax.transAxes, size=24, weight=600, ha='left', va='top')\n",
    "# #     ax.text(1, 0, 'by @pratapvardhan; credit @jburnmurdoch', transform=ax.transAxes, color='#777777', ha='right',\n",
    "# #             bbox=dict(facecolor='white', alpha=0.8, edgecolor='white'))\n",
    "#     plt.box(False)"
   ]
  },
  {
   "cell_type": "code",
   "execution_count": 42,
   "id": "sexual-wages",
   "metadata": {
    "execution": {
     "iopub.execute_input": "2021-10-19T12:12:13.116982Z",
     "iopub.status.busy": "2021-10-19T12:12:13.116450Z",
     "iopub.status.idle": "2021-10-19T12:12:13.118705Z",
     "shell.execute_reply": "2021-10-19T12:12:13.118296Z"
    },
    "papermill": {
     "duration": 0.036859,
     "end_time": "2021-10-19T12:12:13.118824",
     "exception": false,
     "start_time": "2021-10-19T12:12:13.081965",
     "status": "completed"
    },
    "tags": []
   },
   "outputs": [],
   "source": [
    "# #hide_input\n",
    "# fig, ax = plt.subplots(figsize=(15, 8))\n",
    "# animator = animation.FuncAnimation(fig, draw_barchart, frames=range(g.day.values.min(), g.day.values.max()))\n",
    "# HTML(animator.to_jshtml())\n",
    "# # or use animator.to_html5_video() or animator.save() "
   ]
  },
  {
   "cell_type": "code",
   "execution_count": null,
   "id": "australian-container",
   "metadata": {
    "papermill": {
     "duration": 0.030469,
     "end_time": "2021-10-19T12:12:13.179813",
     "exception": false,
     "start_time": "2021-10-19T12:12:13.149344",
     "status": "completed"
    },
    "tags": []
   },
   "outputs": [],
   "source": []
  },
  {
   "cell_type": "code",
   "execution_count": null,
   "id": "mediterranean-pontiac",
   "metadata": {
    "papermill": {
     "duration": 0.030351,
     "end_time": "2021-10-19T12:12:13.240429",
     "exception": false,
     "start_time": "2021-10-19T12:12:13.210078",
     "status": "completed"
    },
    "tags": []
   },
   "outputs": [],
   "source": []
  },
  {
   "cell_type": "code",
   "execution_count": null,
   "id": "aging-legislature",
   "metadata": {
    "papermill": {
     "duration": 0.030314,
     "end_time": "2021-10-19T12:12:13.301164",
     "exception": false,
     "start_time": "2021-10-19T12:12:13.270850",
     "status": "completed"
    },
    "tags": []
   },
   "outputs": [],
   "source": []
  }
 ],
 "metadata": {
  "kernelspec": {
   "display_name": "Python 3",
   "language": "python",
   "name": "python3"
  },
  "language_info": {
   "codemirror_mode": {
    "name": "ipython",
    "version": 3
   },
   "file_extension": ".py",
   "mimetype": "text/x-python",
   "name": "python",
   "nbconvert_exporter": "python",
   "pygments_lexer": "ipython3",
   "version": "3.6.15"
  },
  "papermill": {
   "duration": 5.964924,
   "end_time": "2021-10-19T12:12:13.740130",
   "environment_variables": {},
   "exception": null,
   "input_path": "2020-03-21-covid19exp.ipynb",
   "output_path": "2020-03-21-covid19exp.ipynb",
   "parameters": {},
   "start_time": "2021-10-19T12:12:07.775206",
   "version": "2.0.0"
  }
 },
 "nbformat": 4,
 "nbformat_minor": 5
}