{
 "cells": [
  {
   "cell_type": "markdown",
   "id": "muslim-click",
   "metadata": {
    "papermill": {
     "duration": 0.038722,
     "end_time": "2021-03-16T00:11:25.114145",
     "exception": false,
     "start_time": "2021-03-16T00:11:25.075423",
     "status": "completed"
    },
    "tags": []
   },
   "source": [
    "# COVID-19 Case Race\n",
    "> A race chart to see rising cases around the world\n",
    "\n",
    "- author: Hargun Oberoi\n",
    "- image: images/covid-overview.png\n",
    "- hide: false\n",
    "- badges: false"
   ]
  },
  {
   "cell_type": "code",
   "execution_count": 1,
   "id": "proof-material",
   "metadata": {
    "execution": {
     "iopub.execute_input": "2021-03-16T00:11:25.196918Z",
     "iopub.status.busy": "2021-03-16T00:11:25.196182Z",
     "iopub.status.idle": "2021-03-16T00:11:25.551073Z",
     "shell.execute_reply": "2021-03-16T00:11:25.551896Z"
    },
    "papermill": {
     "duration": 0.403893,
     "end_time": "2021-03-16T00:11:25.552264",
     "exception": false,
     "start_time": "2021-03-16T00:11:25.148371",
     "status": "completed"
    },
    "tags": []
   },
   "outputs": [],
   "source": [
    "#hide\n",
    "import numpy as np\n",
    "import pandas as pd\n",
    "from jinja2 import Template\n",
    "from IPython.display import HTML"
   ]
  },
  {
   "cell_type": "code",
   "execution_count": 2,
   "id": "developed-terminology",
   "metadata": {
    "execution": {
     "iopub.execute_input": "2021-03-16T00:11:25.646576Z",
     "iopub.status.busy": "2021-03-16T00:11:25.645936Z",
     "iopub.status.idle": "2021-03-16T00:11:25.648864Z",
     "shell.execute_reply": "2021-03-16T00:11:25.648337Z"
    },
    "papermill": {
     "duration": 0.059008,
     "end_time": "2021-03-16T00:11:25.648988",
     "exception": false,
     "start_time": "2021-03-16T00:11:25.589980",
     "status": "completed"
    },
    "tags": []
   },
   "outputs": [],
   "source": [
    "#hide\n",
    "\n",
    "# FETCH\n",
    "base_url = 'https://raw.githubusercontent.com/pratapvardhan/notebooks/master/covid19/'\n",
    "paths = {\n",
    "    'mapping': base_url + 'mapping_countries.csv',\n",
    "    'overview': base_url + 'overview.tpl'\n",
    "}"
   ]
  },
  {
   "cell_type": "code",
   "execution_count": 3,
   "id": "dynamic-saver",
   "metadata": {
    "execution": {
     "iopub.execute_input": "2021-03-16T00:11:25.728892Z",
     "iopub.status.busy": "2021-03-16T00:11:25.728323Z",
     "iopub.status.idle": "2021-03-16T00:11:25.731067Z",
     "shell.execute_reply": "2021-03-16T00:11:25.731530Z"
    },
    "papermill": {
     "duration": 0.048933,
     "end_time": "2021-03-16T00:11:25.731682",
     "exception": false,
     "start_time": "2021-03-16T00:11:25.682749",
     "status": "completed"
    },
    "tags": []
   },
   "outputs": [
    {
     "data": {
      "text/plain": [
       "'https://raw.githubusercontent.com/pratapvardhan/notebooks/master/covid19/mapping_countries.csv'"
      ]
     },
     "execution_count": 3,
     "metadata": {},
     "output_type": "execute_result"
    }
   ],
   "source": [
    "#hide\n",
    "paths['mapping']"
   ]
  },
  {
   "cell_type": "code",
   "execution_count": 4,
   "id": "urban-software",
   "metadata": {
    "execution": {
     "iopub.execute_input": "2021-03-16T00:11:25.800614Z",
     "iopub.status.busy": "2021-03-16T00:11:25.800007Z",
     "iopub.status.idle": "2021-03-16T00:11:25.801884Z",
     "shell.execute_reply": "2021-03-16T00:11:25.802351Z"
    },
    "papermill": {
     "duration": 0.040084,
     "end_time": "2021-03-16T00:11:25.802479",
     "exception": false,
     "start_time": "2021-03-16T00:11:25.762395",
     "status": "completed"
    },
    "tags": []
   },
   "outputs": [],
   "source": [
    "#hide\n",
    "def get_mappings(url):\n",
    "    df = pd.read_csv(url)\n",
    "    return {\n",
    "        'df': df,\n",
    "        'replace.country': dict(df.dropna(subset=['Name']).set_index('Country')['Name']),\n",
    "        'map.continent': dict(df.set_index('Name')['Continent'])\n",
    "    }"
   ]
  },
  {
   "cell_type": "code",
   "execution_count": 5,
   "id": "intimate-machinery",
   "metadata": {
    "execution": {
     "iopub.execute_input": "2021-03-16T00:11:25.875615Z",
     "iopub.status.busy": "2021-03-16T00:11:25.875054Z",
     "iopub.status.idle": "2021-03-16T00:11:25.925462Z",
     "shell.execute_reply": "2021-03-16T00:11:25.924552Z"
    },
    "papermill": {
     "duration": 0.090419,
     "end_time": "2021-03-16T00:11:25.925685",
     "exception": false,
     "start_time": "2021-03-16T00:11:25.835266",
     "status": "completed"
    },
    "tags": []
   },
   "outputs": [],
   "source": [
    "#hide\n",
    "mapping = get_mappings(paths['mapping'])"
   ]
  },
  {
   "cell_type": "code",
   "execution_count": 6,
   "id": "certified-tactics",
   "metadata": {
    "execution": {
     "iopub.execute_input": "2021-03-16T00:11:26.001852Z",
     "iopub.status.busy": "2021-03-16T00:11:26.001263Z",
     "iopub.status.idle": "2021-03-16T00:11:26.003729Z",
     "shell.execute_reply": "2021-03-16T00:11:26.003247Z"
    },
    "papermill": {
     "duration": 0.042931,
     "end_time": "2021-03-16T00:11:26.003870",
     "exception": false,
     "start_time": "2021-03-16T00:11:25.960939",
     "status": "completed"
    },
    "tags": []
   },
   "outputs": [],
   "source": [
    "#hide\n",
    "def get_template(path):\n",
    "    from urllib.parse import urlparse\n",
    "    if bool(urlparse(path).netloc):\n",
    "        from urllib.request import urlopen\n",
    "        return urlopen(path).read().decode('utf8')\n",
    "    return open(path).read()"
   ]
  },
  {
   "cell_type": "code",
   "execution_count": 7,
   "id": "realistic-blast",
   "metadata": {
    "execution": {
     "iopub.execute_input": "2021-03-16T00:11:26.076453Z",
     "iopub.status.busy": "2021-03-16T00:11:26.075808Z",
     "iopub.status.idle": "2021-03-16T00:11:26.079188Z",
     "shell.execute_reply": "2021-03-16T00:11:26.079741Z"
    },
    "papermill": {
     "duration": 0.042751,
     "end_time": "2021-03-16T00:11:26.079893",
     "exception": false,
     "start_time": "2021-03-16T00:11:26.037142",
     "status": "completed"
    },
    "tags": []
   },
   "outputs": [],
   "source": [
    "#hide\n",
    "def get_frame(name):\n",
    "    url = (\n",
    "        'https://raw.githubusercontent.com/CSSEGISandData/COVID-19/master/csse_covid_19_data/'\n",
    "        f'csse_covid_19_time_series/time_series_covid19_{name}_global.csv')\n",
    "    df = pd.read_csv(url)\n",
    "    # rename countries\n",
    "    df['Country/Region'] = df['Country/Region'].replace(mapping['replace.country'])\n",
    "    return df"
   ]
  },
  {
   "cell_type": "code",
   "execution_count": 8,
   "id": "affiliated-characterization",
   "metadata": {
    "execution": {
     "iopub.execute_input": "2021-03-16T00:11:26.153131Z",
     "iopub.status.busy": "2021-03-16T00:11:26.152543Z",
     "iopub.status.idle": "2021-03-16T00:11:26.154899Z",
     "shell.execute_reply": "2021-03-16T00:11:26.155482Z"
    },
    "papermill": {
     "duration": 0.042641,
     "end_time": "2021-03-16T00:11:26.155633",
     "exception": false,
     "start_time": "2021-03-16T00:11:26.112992",
     "status": "completed"
    },
    "tags": []
   },
   "outputs": [],
   "source": [
    "#hide\n",
    "def get_dates(df):\n",
    "    dt_cols = df.columns[~df.columns.isin(['Province/State', 'Country/Region', 'Lat', 'Long'])]\n",
    "    LAST_DATE_I = -1\n",
    "    # sometimes last column may be empty, then go backwards\n",
    "    for i in range(-1, -len(dt_cols), -1):\n",
    "        if not df[dt_cols[i]].fillna(0).eq(0).all():\n",
    "            LAST_DATE_I = i\n",
    "            break\n",
    "    return LAST_DATE_I, dt_cols"
   ]
  },
  {
   "cell_type": "code",
   "execution_count": 9,
   "id": "recent-optimization",
   "metadata": {
    "execution": {
     "iopub.execute_input": "2021-03-16T00:11:26.228987Z",
     "iopub.status.busy": "2021-03-16T00:11:26.228315Z",
     "iopub.status.idle": "2021-03-16T00:11:26.568145Z",
     "shell.execute_reply": "2021-03-16T00:11:26.567435Z"
    },
    "papermill": {
     "duration": 0.379779,
     "end_time": "2021-03-16T00:11:26.568324",
     "exception": false,
     "start_time": "2021-03-16T00:11:26.188545",
     "status": "completed"
    },
    "tags": []
   },
   "outputs": [],
   "source": [
    "#hide\n",
    "COL_REGION = 'Country/Region'\n",
    "# Confirmed, Recovered, Deaths\n",
    "df = get_frame('confirmed')\n",
    "# dft_: timeseries, dfc_: today country agg\n",
    "dft_cases = df\n",
    "dft_deaths = get_frame('deaths')\n",
    "dft_recovered = get_frame('recovered')\n",
    "LAST_DATE_I, dt_cols = get_dates(df)"
   ]
  },
  {
   "cell_type": "code",
   "execution_count": 10,
   "id": "absolute-copper",
   "metadata": {
    "execution": {
     "iopub.execute_input": "2021-03-16T00:11:26.644820Z",
     "iopub.status.busy": "2021-03-16T00:11:26.644187Z",
     "iopub.status.idle": "2021-03-16T00:11:26.646578Z",
     "shell.execute_reply": "2021-03-16T00:11:26.647120Z"
    },
    "papermill": {
     "duration": 0.043663,
     "end_time": "2021-03-16T00:11:26.647255",
     "exception": false,
     "start_time": "2021-03-16T00:11:26.603592",
     "status": "completed"
    },
    "tags": []
   },
   "outputs": [],
   "source": [
    "#hide\n",
    "LAST_DATE_I, dt_cols = get_dates(df)\n",
    "dt_today =dt_cols[LAST_DATE_I]\n",
    "# dt_5day = dt_cols[LAST_DATE_I - 5]\n",
    "dt_yday = dt_cols[LAST_DATE_I - 1]"
   ]
  },
  {
   "cell_type": "code",
   "execution_count": 11,
   "id": "restricted-sheriff",
   "metadata": {
    "execution": {
     "iopub.execute_input": "2021-03-16T00:11:26.723480Z",
     "iopub.status.busy": "2021-03-16T00:11:26.722888Z",
     "iopub.status.idle": "2021-03-16T00:11:26.730881Z",
     "shell.execute_reply": "2021-03-16T00:11:26.731347Z"
    },
    "papermill": {
     "duration": 0.051677,
     "end_time": "2021-03-16T00:11:26.731487",
     "exception": false,
     "start_time": "2021-03-16T00:11:26.679810",
     "status": "completed"
    },
    "tags": []
   },
   "outputs": [],
   "source": [
    "#hide\n",
    "dfc_cases = dft_cases.groupby(COL_REGION)[dt_today].sum()\n",
    "dfc_deaths = dft_deaths.groupby(COL_REGION)[dt_today].sum()\n",
    "# dfp_cases = dft_cases.groupby(COL_REGION)[dt_5day].sum()\n",
    "# dfp_deaths = dft_deaths.groupby(COL_REGION)[dt_5day].sum()\n",
    "dfp_cases = dft_cases.groupby(COL_REGION)[dt_yday].sum()\n",
    "dfp_deaths = dft_deaths.groupby(COL_REGION)[dt_yday].sum()"
   ]
  },
  {
   "cell_type": "code",
   "execution_count": 12,
   "id": "deluxe-hepatitis",
   "metadata": {
    "execution": {
     "iopub.execute_input": "2021-03-16T00:11:26.807194Z",
     "iopub.status.busy": "2021-03-16T00:11:26.806613Z",
     "iopub.status.idle": "2021-03-16T00:11:26.812365Z",
     "shell.execute_reply": "2021-03-16T00:11:26.812896Z"
    },
    "papermill": {
     "duration": 0.046417,
     "end_time": "2021-03-16T00:11:26.813036",
     "exception": false,
     "start_time": "2021-03-16T00:11:26.766619",
     "status": "completed"
    },
    "tags": []
   },
   "outputs": [],
   "source": [
    "#hide\n",
    "df_table = (pd.DataFrame(dict(Cases = dfc_cases, Deaths = dfc_deaths, PCases = dfp_cases, PDeaths = dfp_deaths))\n",
    "            .sort_values(by = ['Cases','Deaths'], ascending = [False, False])\n",
    "            .reset_index())"
   ]
  },
  {
   "cell_type": "code",
   "execution_count": 13,
   "id": "educational-chancellor",
   "metadata": {
    "execution": {
     "iopub.execute_input": "2021-03-16T00:11:26.902611Z",
     "iopub.status.busy": "2021-03-16T00:11:26.897304Z",
     "iopub.status.idle": "2021-03-16T00:11:26.906676Z",
     "shell.execute_reply": "2021-03-16T00:11:26.906194Z"
    },
    "papermill": {
     "duration": 0.062352,
     "end_time": "2021-03-16T00:11:26.906797",
     "exception": false,
     "start_time": "2021-03-16T00:11:26.844445",
     "status": "completed"
    },
    "tags": []
   },
   "outputs": [
    {
     "data": {
      "text/html": [
       "<div>\n",
       "<style scoped>\n",
       "    .dataframe tbody tr th:only-of-type {\n",
       "        vertical-align: middle;\n",
       "    }\n",
       "\n",
       "    .dataframe tbody tr th {\n",
       "        vertical-align: top;\n",
       "    }\n",
       "\n",
       "    .dataframe thead th {\n",
       "        text-align: right;\n",
       "    }\n",
       "</style>\n",
       "<table border=\"1\" class=\"dataframe\">\n",
       "  <thead>\n",
       "    <tr style=\"text-align: right;\">\n",
       "      <th></th>\n",
       "      <th>Country/Region</th>\n",
       "      <th>Cases</th>\n",
       "      <th>Deaths</th>\n",
       "      <th>PCases</th>\n",
       "      <th>PDeaths</th>\n",
       "      <th>Cases (+)</th>\n",
       "      <th>Deaths (+)</th>\n",
       "      <th>Fatality Rate</th>\n",
       "      <th>Continent</th>\n",
       "    </tr>\n",
       "  </thead>\n",
       "  <tbody>\n",
       "    <tr>\n",
       "      <th>0</th>\n",
       "      <td>US</td>\n",
       "      <td>29438775</td>\n",
       "      <td>534888</td>\n",
       "      <td>29400553</td>\n",
       "      <td>534316</td>\n",
       "      <td>38222</td>\n",
       "      <td>572</td>\n",
       "      <td>1.82</td>\n",
       "      <td>North America</td>\n",
       "    </tr>\n",
       "    <tr>\n",
       "      <th>1</th>\n",
       "      <td>Brazil</td>\n",
       "      <td>11483370</td>\n",
       "      <td>278229</td>\n",
       "      <td>11439558</td>\n",
       "      <td>277102</td>\n",
       "      <td>43812</td>\n",
       "      <td>1127</td>\n",
       "      <td>2.42</td>\n",
       "      <td>South America</td>\n",
       "    </tr>\n",
       "    <tr>\n",
       "      <th>2</th>\n",
       "      <td>India</td>\n",
       "      <td>11385339</td>\n",
       "      <td>158725</td>\n",
       "      <td>11359048</td>\n",
       "      <td>158607</td>\n",
       "      <td>26291</td>\n",
       "      <td>118</td>\n",
       "      <td>1.39</td>\n",
       "      <td>Asia</td>\n",
       "    </tr>\n",
       "    <tr>\n",
       "      <th>3</th>\n",
       "      <td>Russia</td>\n",
       "      <td>4341381</td>\n",
       "      <td>90558</td>\n",
       "      <td>4331396</td>\n",
       "      <td>90169</td>\n",
       "      <td>9985</td>\n",
       "      <td>389</td>\n",
       "      <td>2.09</td>\n",
       "      <td>Europe</td>\n",
       "    </tr>\n",
       "    <tr>\n",
       "      <th>4</th>\n",
       "      <td>United Kingdom</td>\n",
       "      <td>4271710</td>\n",
       "      <td>125753</td>\n",
       "      <td>4267015</td>\n",
       "      <td>125701</td>\n",
       "      <td>4695</td>\n",
       "      <td>52</td>\n",
       "      <td>2.94</td>\n",
       "      <td>Europe</td>\n",
       "    </tr>\n",
       "  </tbody>\n",
       "</table>\n",
       "</div>"
      ],
      "text/plain": [
       "   Country/Region     Cases  Deaths    PCases  PDeaths  Cases (+)  Deaths (+)  \\\n",
       "0              US  29438775  534888  29400553   534316      38222         572   \n",
       "1          Brazil  11483370  278229  11439558   277102      43812        1127   \n",
       "2           India  11385339  158725  11359048   158607      26291         118   \n",
       "3          Russia   4341381   90558   4331396    90169       9985         389   \n",
       "4  United Kingdom   4271710  125753   4267015   125701       4695          52   \n",
       "\n",
       "   Fatality Rate      Continent  \n",
       "0           1.82  North America  \n",
       "1           2.42  South America  \n",
       "2           1.39           Asia  \n",
       "3           2.09         Europe  \n",
       "4           2.94         Europe  "
      ]
     },
     "execution_count": 13,
     "metadata": {},
     "output_type": "execute_result"
    }
   ],
   "source": [
    "#hide\n",
    "for c in 'Cases, Deaths'.split(', '):\n",
    "    df_table[f'{c} (+)'] = (df_table[c] - df_table[f'P{c}']).clip(0)\n",
    "    #Clip ça veut dire, les chiffres negatif sont interdit\n",
    "df_table['Fatality Rate'] = (100* df_table['Deaths']/ df_table['Cases']).round(2)\n",
    "df_table['Continent'] = df_table['Country/Region'].map(mapping['map.continent'])\n",
    "df_table.head(5)"
   ]
  },
  {
   "cell_type": "code",
   "execution_count": 14,
   "id": "aboriginal-bulgaria",
   "metadata": {
    "execution": {
     "iopub.execute_input": "2021-03-16T00:11:26.987114Z",
     "iopub.status.busy": "2021-03-16T00:11:26.986525Z",
     "iopub.status.idle": "2021-03-16T00:11:26.988413Z",
     "shell.execute_reply": "2021-03-16T00:11:26.988884Z"
    },
    "papermill": {
     "duration": 0.048559,
     "end_time": "2021-03-16T00:11:26.989028",
     "exception": false,
     "start_time": "2021-03-16T00:11:26.940469",
     "status": "completed"
    },
    "tags": []
   },
   "outputs": [],
   "source": [
    "#hide\n",
    "#delete problematic countries from table\n",
    "df_table = df_table[~df_table['Country/Region'].isin(['Cape Verde', 'Cruise Ship', 'Kosovo'])]"
   ]
  },
  {
   "cell_type": "code",
   "execution_count": 15,
   "id": "fantastic-effect",
   "metadata": {
    "execution": {
     "iopub.execute_input": "2021-03-16T00:11:27.066659Z",
     "iopub.status.busy": "2021-03-16T00:11:27.065593Z",
     "iopub.status.idle": "2021-03-16T00:11:27.085956Z",
     "shell.execute_reply": "2021-03-16T00:11:27.086752Z"
    },
    "papermill": {
     "duration": 0.064108,
     "end_time": "2021-03-16T00:11:27.086952",
     "exception": false,
     "start_time": "2021-03-16T00:11:27.022844",
     "status": "completed"
    },
    "tags": []
   },
   "outputs": [
    {
     "data": {
      "text/html": [
       "<div>\n",
       "<style scoped>\n",
       "    .dataframe tbody tr th:only-of-type {\n",
       "        vertical-align: middle;\n",
       "    }\n",
       "\n",
       "    .dataframe tbody tr th {\n",
       "        vertical-align: top;\n",
       "    }\n",
       "\n",
       "    .dataframe thead th {\n",
       "        text-align: right;\n",
       "    }\n",
       "</style>\n",
       "<table border=\"1\" class=\"dataframe\">\n",
       "  <thead>\n",
       "    <tr style=\"text-align: right;\">\n",
       "      <th></th>\n",
       "      <th>Country/Region</th>\n",
       "      <th>Cases</th>\n",
       "      <th>Deaths</th>\n",
       "      <th>PCases</th>\n",
       "      <th>PDeaths</th>\n",
       "      <th>Cases (+)</th>\n",
       "      <th>Deaths (+)</th>\n",
       "      <th>Fatality Rate</th>\n",
       "      <th>Continent</th>\n",
       "    </tr>\n",
       "  </thead>\n",
       "  <tbody>\n",
       "    <tr>\n",
       "      <th>0</th>\n",
       "      <td>US</td>\n",
       "      <td>29438775</td>\n",
       "      <td>534888</td>\n",
       "      <td>29400553</td>\n",
       "      <td>534316</td>\n",
       "      <td>38222</td>\n",
       "      <td>572</td>\n",
       "      <td>1.8</td>\n",
       "      <td>North America</td>\n",
       "    </tr>\n",
       "    <tr>\n",
       "      <th>1</th>\n",
       "      <td>Brazil</td>\n",
       "      <td>11483370</td>\n",
       "      <td>278229</td>\n",
       "      <td>11439558</td>\n",
       "      <td>277102</td>\n",
       "      <td>43812</td>\n",
       "      <td>1127</td>\n",
       "      <td>2.4</td>\n",
       "      <td>South America</td>\n",
       "    </tr>\n",
       "    <tr>\n",
       "      <th>2</th>\n",
       "      <td>India</td>\n",
       "      <td>11385339</td>\n",
       "      <td>158725</td>\n",
       "      <td>11359048</td>\n",
       "      <td>158607</td>\n",
       "      <td>26291</td>\n",
       "      <td>118</td>\n",
       "      <td>1.4</td>\n",
       "      <td>Asia</td>\n",
       "    </tr>\n",
       "    <tr>\n",
       "      <th>3</th>\n",
       "      <td>Russia</td>\n",
       "      <td>4341381</td>\n",
       "      <td>90558</td>\n",
       "      <td>4331396</td>\n",
       "      <td>90169</td>\n",
       "      <td>9985</td>\n",
       "      <td>389</td>\n",
       "      <td>2.1</td>\n",
       "      <td>Europe</td>\n",
       "    </tr>\n",
       "    <tr>\n",
       "      <th>4</th>\n",
       "      <td>United Kingdom</td>\n",
       "      <td>4271710</td>\n",
       "      <td>125753</td>\n",
       "      <td>4267015</td>\n",
       "      <td>125701</td>\n",
       "      <td>4695</td>\n",
       "      <td>52</td>\n",
       "      <td>2.9</td>\n",
       "      <td>Europe</td>\n",
       "    </tr>\n",
       "  </tbody>\n",
       "</table>\n",
       "</div>"
      ],
      "text/plain": [
       "   Country/Region     Cases  Deaths    PCases  PDeaths  Cases (+)  Deaths (+)  \\\n",
       "0              US  29438775  534888  29400553   534316      38222         572   \n",
       "1          Brazil  11483370  278229  11439558   277102      43812        1127   \n",
       "2           India  11385339  158725  11359048   158607      26291         118   \n",
       "3          Russia   4341381   90558   4331396    90169       9985         389   \n",
       "4  United Kingdom   4271710  125753   4267015   125701       4695          52   \n",
       "\n",
       "   Fatality Rate      Continent  \n",
       "0            1.8  North America  \n",
       "1            2.4  South America  \n",
       "2            1.4           Asia  \n",
       "3            2.1         Europe  \n",
       "4            2.9         Europe  "
      ]
     },
     "execution_count": 15,
     "metadata": {},
     "output_type": "execute_result"
    }
   ],
   "source": [
    "#hide\n",
    "df_table = (pd.DataFrame(dict(Cases=dfc_cases, Deaths=dfc_deaths, PCases=dfp_cases, PDeaths=dfp_deaths))\n",
    "             .sort_values(by=['Cases', 'Deaths'], ascending=[False, False])\n",
    "             .reset_index())\n",
    "df_table.rename(columns={'index': 'Country/Region'}, inplace=True)\n",
    "for c in 'Cases, Deaths'.split(', '):\n",
    "    df_table[f'{c} (+)'] = (df_table[c] - df_table[f'P{c}']).clip(0)  # DATA BUG\n",
    "df_table['Fatality Rate'] = (100 * df_table['Deaths'] / df_table['Cases']).round(1)\n",
    "df_table['Continent'] = df_table['Country/Region'].map(mapping['map.continent'])\n",
    "df_table.head(5)"
   ]
  },
  {
   "cell_type": "code",
   "execution_count": 16,
   "id": "fewer-occasion",
   "metadata": {
    "execution": {
     "iopub.execute_input": "2021-03-16T00:11:27.165142Z",
     "iopub.status.busy": "2021-03-16T00:11:27.164534Z",
     "iopub.status.idle": "2021-03-16T00:11:27.166629Z",
     "shell.execute_reply": "2021-03-16T00:11:27.166088Z"
    },
    "papermill": {
     "duration": 0.044092,
     "end_time": "2021-03-16T00:11:27.166751",
     "exception": false,
     "start_time": "2021-03-16T00:11:27.122659",
     "status": "completed"
    },
    "tags": []
   },
   "outputs": [],
   "source": [
    "#hide\n",
    "#delete problematic countries from table\n",
    "df_table = df_table[~df_table['Country/Region'].isin(['Cape Verde', 'Cruise Ship', 'Kosovo'])]"
   ]
  },
  {
   "cell_type": "code",
   "execution_count": 17,
   "id": "related-center",
   "metadata": {
    "execution": {
     "iopub.execute_input": "2021-03-16T00:11:27.242419Z",
     "iopub.status.busy": "2021-03-16T00:11:27.241810Z",
     "iopub.status.idle": "2021-03-16T00:11:27.258168Z",
     "shell.execute_reply": "2021-03-16T00:11:27.258815Z"
    },
    "papermill": {
     "duration": 0.059196,
     "end_time": "2021-03-16T00:11:27.259023",
     "exception": false,
     "start_time": "2021-03-16T00:11:27.199827",
     "status": "completed"
    },
    "tags": []
   },
   "outputs": [],
   "source": [
    "#hide\n",
    "metrics = [df_table.columns[index] for index in [1,2,5,6]]\n",
    "# s_china = df_table[df_table['Country/Region'].eq('China')][metrics].sum().add_prefix('China ')\n",
    "s_us = df_table[df_table['Country/Region'].eq('US')][metrics].sum().add_prefix('US ')\n",
    "s_eu = df_table[df_table['Continent'].eq('Europe')][metrics].sum().add_prefix('EU ')\n",
    "s_ind = df_table[df_table['Country/Region'].eq('India')][metrics].sum().add_prefix('India ')\n",
    "summary = {'updated': pd.to_datetime(dt_today), 'since': pd.to_datetime(dt_yday)}\n",
    "summary = {'updated': pd.to_datetime(dt_today), 'since': pd.to_datetime(dt_yday)}\n",
    "summary = {**summary, **df_table[metrics].sum(), **s_ind, **s_us, **s_eu}"
   ]
  },
  {
   "cell_type": "code",
   "execution_count": 18,
   "id": "engaging-syndrome",
   "metadata": {
    "execution": {
     "iopub.execute_input": "2021-03-16T00:11:27.334833Z",
     "iopub.status.busy": "2021-03-16T00:11:27.334267Z",
     "iopub.status.idle": "2021-03-16T00:11:27.346662Z",
     "shell.execute_reply": "2021-03-16T00:11:27.347102Z"
    },
    "papermill": {
     "duration": 0.052989,
     "end_time": "2021-03-16T00:11:27.347242",
     "exception": false,
     "start_time": "2021-03-16T00:11:27.294253",
     "status": "completed"
    },
    "tags": []
   },
   "outputs": [],
   "source": [
    "#hide\n",
    "dft_ct_new_cases = dft_cases.groupby(COL_REGION)[dt_cols].sum().diff(axis=1).fillna(0).astype(int)"
   ]
  },
  {
   "cell_type": "code",
   "execution_count": 19,
   "id": "neutral-assignment",
   "metadata": {
    "execution": {
     "iopub.execute_input": "2021-03-16T00:11:27.418561Z",
     "iopub.status.busy": "2021-03-16T00:11:27.418012Z",
     "iopub.status.idle": "2021-03-16T00:11:27.420232Z",
     "shell.execute_reply": "2021-03-16T00:11:27.419725Z"
    },
    "papermill": {
     "duration": 0.041558,
     "end_time": "2021-03-16T00:11:27.420373",
     "exception": false,
     "start_time": "2021-03-16T00:11:27.378815",
     "status": "completed"
    },
    "tags": []
   },
   "outputs": [],
   "source": [
    "#hide\n",
    "everydaycases = dft_ct_new_cases.cumsum(axis=1)"
   ]
  },
  {
   "cell_type": "code",
   "execution_count": 20,
   "id": "parliamentary-calgary",
   "metadata": {
    "execution": {
     "iopub.execute_input": "2021-03-16T00:11:27.490945Z",
     "iopub.status.busy": "2021-03-16T00:11:27.490358Z",
     "iopub.status.idle": "2021-03-16T00:11:28.230050Z",
     "shell.execute_reply": "2021-03-16T00:11:28.229543Z"
    },
    "papermill": {
     "duration": 0.779125,
     "end_time": "2021-03-16T00:11:28.230168",
     "exception": false,
     "start_time": "2021-03-16T00:11:27.451043",
     "status": "completed"
    },
    "tags": []
   },
   "outputs": [],
   "source": [
    "#hide\n",
    "import pandas as pd\n",
    "import matplotlib.pyplot as plt\n",
    "import matplotlib.ticker as ticker\n",
    "import matplotlib.animation as animation\n",
    "from IPython.display import HTML"
   ]
  },
  {
   "cell_type": "code",
   "execution_count": 21,
   "id": "lasting-extraction",
   "metadata": {
    "execution": {
     "iopub.execute_input": "2021-03-16T00:11:28.302200Z",
     "iopub.status.busy": "2021-03-16T00:11:28.301595Z",
     "iopub.status.idle": "2021-03-16T00:11:28.306685Z",
     "shell.execute_reply": "2021-03-16T00:11:28.307109Z"
    },
    "papermill": {
     "duration": 0.045125,
     "end_time": "2021-03-16T00:11:28.307250",
     "exception": false,
     "start_time": "2021-03-16T00:11:28.262125",
     "status": "completed"
    },
    "tags": []
   },
   "outputs": [],
   "source": [
    "#hide\n",
    "t = everydaycases.stack()"
   ]
  },
  {
   "cell_type": "code",
   "execution_count": 22,
   "id": "premier-sleeve",
   "metadata": {
    "execution": {
     "iopub.execute_input": "2021-03-16T00:11:28.380942Z",
     "iopub.status.busy": "2021-03-16T00:11:28.380327Z",
     "iopub.status.idle": "2021-03-16T00:11:28.387523Z",
     "shell.execute_reply": "2021-03-16T00:11:28.387999Z"
    },
    "papermill": {
     "duration": 0.046622,
     "end_time": "2021-03-16T00:11:28.388153",
     "exception": false,
     "start_time": "2021-03-16T00:11:28.341531",
     "status": "completed"
    },
    "tags": []
   },
   "outputs": [],
   "source": [
    "#hide\n",
    "g = t.reset_index(['Country/Region'])"
   ]
  },
  {
   "cell_type": "code",
   "execution_count": 23,
   "id": "distributed-pittsburgh",
   "metadata": {
    "execution": {
     "iopub.execute_input": "2021-03-16T00:11:28.459751Z",
     "iopub.status.busy": "2021-03-16T00:11:28.459142Z",
     "iopub.status.idle": "2021-03-16T00:11:28.461470Z",
     "shell.execute_reply": "2021-03-16T00:11:28.460916Z"
    },
    "papermill": {
     "duration": 0.03999,
     "end_time": "2021-03-16T00:11:28.461583",
     "exception": false,
     "start_time": "2021-03-16T00:11:28.421593",
     "status": "completed"
    },
    "tags": []
   },
   "outputs": [],
   "source": [
    "#hide\n",
    "g.index.name = 'date'"
   ]
  },
  {
   "cell_type": "code",
   "execution_count": 24,
   "id": "naked-donor",
   "metadata": {
    "execution": {
     "iopub.execute_input": "2021-03-16T00:11:28.538983Z",
     "iopub.status.busy": "2021-03-16T00:11:28.538429Z",
     "iopub.status.idle": "2021-03-16T00:11:28.540838Z",
     "shell.execute_reply": "2021-03-16T00:11:28.541372Z"
    },
    "papermill": {
     "duration": 0.041741,
     "end_time": "2021-03-16T00:11:28.541515",
     "exception": false,
     "start_time": "2021-03-16T00:11:28.499774",
     "status": "completed"
    },
    "tags": []
   },
   "outputs": [],
   "source": [
    "# #hide\n",
    "# g = g.reset_index(['date'])"
   ]
  },
  {
   "cell_type": "code",
   "execution_count": 25,
   "id": "incomplete-mustang",
   "metadata": {
    "execution": {
     "iopub.execute_input": "2021-03-16T00:11:28.609833Z",
     "iopub.status.busy": "2021-03-16T00:11:28.609280Z",
     "iopub.status.idle": "2021-03-16T00:11:28.611683Z",
     "shell.execute_reply": "2021-03-16T00:11:28.612236Z"
    },
    "papermill": {
     "duration": 0.039058,
     "end_time": "2021-03-16T00:11:28.612369",
     "exception": false,
     "start_time": "2021-03-16T00:11:28.573311",
     "status": "completed"
    },
    "tags": []
   },
   "outputs": [],
   "source": [
    "#hide\n",
    "# g.head()"
   ]
  },
  {
   "cell_type": "code",
   "execution_count": 26,
   "id": "specific-kruger",
   "metadata": {
    "execution": {
     "iopub.execute_input": "2021-03-16T00:11:28.682947Z",
     "iopub.status.busy": "2021-03-16T00:11:28.682389Z",
     "iopub.status.idle": "2021-03-16T00:11:28.685154Z",
     "shell.execute_reply": "2021-03-16T00:11:28.684654Z"
    },
    "papermill": {
     "duration": 0.041728,
     "end_time": "2021-03-16T00:11:28.685292",
     "exception": false,
     "start_time": "2021-03-16T00:11:28.643564",
     "status": "completed"
    },
    "tags": []
   },
   "outputs": [],
   "source": [
    "#hide\n",
    "# g.columns = ['date','country','cases']"
   ]
  },
  {
   "cell_type": "code",
   "execution_count": 27,
   "id": "tender-conversion",
   "metadata": {
    "execution": {
     "iopub.execute_input": "2021-03-16T00:11:28.758370Z",
     "iopub.status.busy": "2021-03-16T00:11:28.757494Z",
     "iopub.status.idle": "2021-03-16T00:11:28.760947Z",
     "shell.execute_reply": "2021-03-16T00:11:28.760108Z"
    },
    "papermill": {
     "duration": 0.042731,
     "end_time": "2021-03-16T00:11:28.761119",
     "exception": false,
     "start_time": "2021-03-16T00:11:28.718388",
     "status": "completed"
    },
    "tags": []
   },
   "outputs": [],
   "source": [
    "#hide\n",
    "# g['continent'] = g.country"
   ]
  },
  {
   "cell_type": "code",
   "execution_count": 28,
   "id": "substantial-wilderness",
   "metadata": {
    "execution": {
     "iopub.execute_input": "2021-03-16T00:11:28.835920Z",
     "iopub.status.busy": "2021-03-16T00:11:28.835320Z",
     "iopub.status.idle": "2021-03-16T00:11:28.838176Z",
     "shell.execute_reply": "2021-03-16T00:11:28.837723Z"
    },
    "papermill": {
     "duration": 0.040976,
     "end_time": "2021-03-16T00:11:28.838299",
     "exception": false,
     "start_time": "2021-03-16T00:11:28.797323",
     "status": "completed"
    },
    "tags": []
   },
   "outputs": [],
   "source": [
    "#hide\n",
    "# cols = list(g.columns.values)"
   ]
  },
  {
   "cell_type": "code",
   "execution_count": 29,
   "id": "solved-farming",
   "metadata": {
    "execution": {
     "iopub.execute_input": "2021-03-16T00:11:28.909609Z",
     "iopub.status.busy": "2021-03-16T00:11:28.908986Z",
     "iopub.status.idle": "2021-03-16T00:11:28.911248Z",
     "shell.execute_reply": "2021-03-16T00:11:28.910740Z"
    },
    "papermill": {
     "duration": 0.039706,
     "end_time": "2021-03-16T00:11:28.911393",
     "exception": false,
     "start_time": "2021-03-16T00:11:28.871687",
     "status": "completed"
    },
    "tags": []
   },
   "outputs": [],
   "source": [
    "#hide\n",
    "# cols.insert(0, cols.pop())"
   ]
  },
  {
   "cell_type": "code",
   "execution_count": 30,
   "id": "executed-adoption",
   "metadata": {
    "execution": {
     "iopub.execute_input": "2021-03-16T00:11:28.985960Z",
     "iopub.status.busy": "2021-03-16T00:11:28.985407Z",
     "iopub.status.idle": "2021-03-16T00:11:28.987779Z",
     "shell.execute_reply": "2021-03-16T00:11:28.988244Z"
    },
    "papermill": {
     "duration": 0.04214,
     "end_time": "2021-03-16T00:11:28.988400",
     "exception": false,
     "start_time": "2021-03-16T00:11:28.946260",
     "status": "completed"
    },
    "tags": []
   },
   "outputs": [],
   "source": [
    "#hide\n",
    "# g = g[cols]"
   ]
  },
  {
   "cell_type": "code",
   "execution_count": 31,
   "id": "subject-dublin",
   "metadata": {
    "execution": {
     "iopub.execute_input": "2021-03-16T00:11:29.066406Z",
     "iopub.status.busy": "2021-03-16T00:11:29.065729Z",
     "iopub.status.idle": "2021-03-16T00:11:29.067449Z",
     "shell.execute_reply": "2021-03-16T00:11:29.066936Z"
    },
    "papermill": {
     "duration": 0.044676,
     "end_time": "2021-03-16T00:11:29.067573",
     "exception": false,
     "start_time": "2021-03-16T00:11:29.022897",
     "status": "completed"
    },
    "tags": []
   },
   "outputs": [],
   "source": [
    "#hide\n",
    "# g['continent'] = g['continent'].map(mapping['map.continent'])"
   ]
  },
  {
   "cell_type": "code",
   "execution_count": 32,
   "id": "freelance-scout",
   "metadata": {
    "execution": {
     "iopub.execute_input": "2021-03-16T00:11:29.149751Z",
     "iopub.status.busy": "2021-03-16T00:11:29.149181Z",
     "iopub.status.idle": "2021-03-16T00:11:29.151847Z",
     "shell.execute_reply": "2021-03-16T00:11:29.151383Z"
    },
    "papermill": {
     "duration": 0.043505,
     "end_time": "2021-03-16T00:11:29.151973",
     "exception": false,
     "start_time": "2021-03-16T00:11:29.108468",
     "status": "completed"
    },
    "tags": []
   },
   "outputs": [],
   "source": [
    "#hide\n",
    "# g.head()"
   ]
  },
  {
   "cell_type": "code",
   "execution_count": 33,
   "id": "limited-engine",
   "metadata": {
    "execution": {
     "iopub.execute_input": "2021-03-16T00:11:29.220901Z",
     "iopub.status.busy": "2021-03-16T00:11:29.220327Z",
     "iopub.status.idle": "2021-03-16T00:11:29.222729Z",
     "shell.execute_reply": "2021-03-16T00:11:29.223183Z"
    },
    "papermill": {
     "duration": 0.039061,
     "end_time": "2021-03-16T00:11:29.223326",
     "exception": false,
     "start_time": "2021-03-16T00:11:29.184265",
     "status": "completed"
    },
    "tags": []
   },
   "outputs": [],
   "source": [
    "# hide\n",
    "# g['date'] = g['date'].astype('datetime64[ns]')"
   ]
  },
  {
   "cell_type": "code",
   "execution_count": 34,
   "id": "sophisticated-supervisor",
   "metadata": {
    "execution": {
     "iopub.execute_input": "2021-03-16T00:11:29.294394Z",
     "iopub.status.busy": "2021-03-16T00:11:29.293812Z",
     "iopub.status.idle": "2021-03-16T00:11:29.296511Z",
     "shell.execute_reply": "2021-03-16T00:11:29.295975Z"
    },
    "papermill": {
     "duration": 0.04008,
     "end_time": "2021-03-16T00:11:29.296634",
     "exception": false,
     "start_time": "2021-03-16T00:11:29.256554",
     "status": "completed"
    },
    "tags": []
   },
   "outputs": [],
   "source": [
    "#hide\n",
    "# g['date'] = g.date.dt.dayofyear"
   ]
  },
  {
   "cell_type": "code",
   "execution_count": 35,
   "id": "inside-dubai",
   "metadata": {
    "execution": {
     "iopub.execute_input": "2021-03-16T00:11:29.366452Z",
     "iopub.status.busy": "2021-03-16T00:11:29.365435Z",
     "iopub.status.idle": "2021-03-16T00:11:29.367558Z",
     "shell.execute_reply": "2021-03-16T00:11:29.368416Z"
    },
    "papermill": {
     "duration": 0.040914,
     "end_time": "2021-03-16T00:11:29.368642",
     "exception": false,
     "start_time": "2021-03-16T00:11:29.327728",
     "status": "completed"
    },
    "tags": []
   },
   "outputs": [],
   "source": [
    "#hide\n",
    "# g = g.rename(columns= {'continent':'group','country':'name','cases':'value'})"
   ]
  },
  {
   "cell_type": "code",
   "execution_count": 36,
   "id": "fleet-motorcycle",
   "metadata": {
    "execution": {
     "iopub.execute_input": "2021-03-16T00:11:29.443717Z",
     "iopub.status.busy": "2021-03-16T00:11:29.443132Z",
     "iopub.status.idle": "2021-03-16T00:11:29.444304Z",
     "shell.execute_reply": "2021-03-16T00:11:29.444813Z"
    },
    "papermill": {
     "duration": 0.04062,
     "end_time": "2021-03-16T00:11:29.444949",
     "exception": false,
     "start_time": "2021-03-16T00:11:29.404329",
     "status": "completed"
    },
    "tags": []
   },
   "outputs": [],
   "source": [
    "#hide\n",
    "# cols = ['name','group','day','value']"
   ]
  },
  {
   "cell_type": "code",
   "execution_count": 37,
   "id": "continued-sleeping",
   "metadata": {
    "execution": {
     "iopub.execute_input": "2021-03-16T00:11:29.517225Z",
     "iopub.status.busy": "2021-03-16T00:11:29.516671Z",
     "iopub.status.idle": "2021-03-16T00:11:29.519549Z",
     "shell.execute_reply": "2021-03-16T00:11:29.520147Z"
    },
    "papermill": {
     "duration": 0.041734,
     "end_time": "2021-03-16T00:11:29.520288",
     "exception": false,
     "start_time": "2021-03-16T00:11:29.478554",
     "status": "completed"
    },
    "tags": []
   },
   "outputs": [],
   "source": [
    "#hide\n",
    "# g.rename(columns= {'date':'day'},inplace = True)"
   ]
  },
  {
   "cell_type": "code",
   "execution_count": 38,
   "id": "major-fight",
   "metadata": {
    "execution": {
     "iopub.execute_input": "2021-03-16T00:11:29.593292Z",
     "iopub.status.busy": "2021-03-16T00:11:29.592691Z",
     "iopub.status.idle": "2021-03-16T00:11:29.595440Z",
     "shell.execute_reply": "2021-03-16T00:11:29.595882Z"
    },
    "papermill": {
     "duration": 0.041807,
     "end_time": "2021-03-16T00:11:29.596064",
     "exception": false,
     "start_time": "2021-03-16T00:11:29.554257",
     "status": "completed"
    },
    "tags": []
   },
   "outputs": [],
   "source": [
    "#hide\n",
    "# g = g[cols]"
   ]
  },
  {
   "cell_type": "code",
   "execution_count": 39,
   "id": "structured-mobile",
   "metadata": {
    "execution": {
     "iopub.execute_input": "2021-03-16T00:11:29.667944Z",
     "iopub.status.busy": "2021-03-16T00:11:29.667393Z",
     "iopub.status.idle": "2021-03-16T00:11:29.670089Z",
     "shell.execute_reply": "2021-03-16T00:11:29.669642Z"
    },
    "papermill": {
     "duration": 0.040668,
     "end_time": "2021-03-16T00:11:29.670288",
     "exception": false,
     "start_time": "2021-03-16T00:11:29.629620",
     "status": "completed"
    },
    "tags": []
   },
   "outputs": [],
   "source": [
    "# #hide\n",
    "# g = g[g.group.notna()]"
   ]
  },
  {
   "cell_type": "code",
   "execution_count": 40,
   "id": "determined-closing",
   "metadata": {
    "execution": {
     "iopub.execute_input": "2021-03-16T00:11:29.755646Z",
     "iopub.status.busy": "2021-03-16T00:11:29.754564Z",
     "iopub.status.idle": "2021-03-16T00:11:29.756998Z",
     "shell.execute_reply": "2021-03-16T00:11:29.757521Z"
    },
    "papermill": {
     "duration": 0.052552,
     "end_time": "2021-03-16T00:11:29.757675",
     "exception": false,
     "start_time": "2021-03-16T00:11:29.705123",
     "status": "completed"
    },
    "tags": []
   },
   "outputs": [],
   "source": [
    "# #hide\n",
    "# colors = dict(zip(\n",
    "#     [\"Oceania\", \"Europe\", \"Asia\", \"South America\", \"Middle East\", \"North America\", \"Africa\"],\n",
    "#     [\"#adb0ff\", \"#ffb3ff\", \"#90d595\", \"#e48381\", \"#aafbff\", \"#f7bb5f\", \"#eafb50\"]\n",
    "# ))\n",
    "# group_lk = g.set_index('name')['group'].to_dict()"
   ]
  },
  {
   "cell_type": "code",
   "execution_count": null,
   "id": "gross-drinking",
   "metadata": {
    "papermill": {
     "duration": 0.035923,
     "end_time": "2021-03-16T00:11:29.827256",
     "exception": false,
     "start_time": "2021-03-16T00:11:29.791333",
     "status": "completed"
    },
    "tags": []
   },
   "outputs": [],
   "source": []
  },
  {
   "cell_type": "code",
   "execution_count": 41,
   "id": "subject-macintosh",
   "metadata": {
    "execution": {
     "iopub.execute_input": "2021-03-16T00:11:29.904098Z",
     "iopub.status.busy": "2021-03-16T00:11:29.903268Z",
     "iopub.status.idle": "2021-03-16T00:11:29.906173Z",
     "shell.execute_reply": "2021-03-16T00:11:29.905708Z"
    },
    "papermill": {
     "duration": 0.043845,
     "end_time": "2021-03-16T00:11:29.906303",
     "exception": false,
     "start_time": "2021-03-16T00:11:29.862458",
     "status": "completed"
    },
    "tags": []
   },
   "outputs": [],
   "source": [
    "# #hide\n",
    "# fig, ax = plt.subplots(figsize=(15, 8))\n",
    "\n",
    "# def draw_barchart(current_day):\n",
    "#     dff = g[g['day'].eq(current_day)].sort_values(by='value', ascending=True).tail(10)\n",
    "#     ax.clear()\n",
    "#     ax.barh(dff['name'], dff['value'], color=[colors[group_lk[x]] for x in dff['name']])\n",
    "#     dx = dff['value'].max() / 200\n",
    "    \n",
    "#     for i, (value, name) in enumerate(zip(dff['value'], dff['name'])):\n",
    "#         ax.text(value-dx, i,     name,           size=14, weight=600, ha='right', va='bottom')\n",
    "#         ax.text(value-dx, i-.25, group_lk[name], size=10, color='#444444', ha='right', va='baseline')\n",
    "#         ax.text(value+dx, i,     f'{value:,.0f}',  size=14, ha='left',  va='center')\n",
    "#     ax.text(1, 0.4, current_day, transform=ax.transAxes, color='#777777', size=46, ha='right', weight=800)\n",
    "#     ax.text(0, 1.06, 'Population (thousands)', transform=ax.transAxes, size=12, color='#777777')\n",
    "#     ax.xaxis.set_major_formatter(ticker.StrMethodFormatter('{x:,.0f}'))\n",
    "#     ax.xaxis.set_ticks_position('top')\n",
    "#     ax.tick_params(axis='x', colors='#777777', labelsize=12)\n",
    "#     ax.set_yticks([])\n",
    "#     ax.margins(0, 0.01)\n",
    "#     ax.grid(which='major', axis='x', linestyle='-')\n",
    "#     ax.set_axisbelow(True)\n",
    "    \n",
    "#     ax.text(0, 1.15, 'Coronavirus',\n",
    "#             transform=ax.transAxes, size=24, weight=600, ha='left', va='top')\n",
    "# #     ax.text(1, 0, 'by @pratapvardhan; credit @jburnmurdoch', transform=ax.transAxes, color='#777777', ha='right',\n",
    "# #             bbox=dict(facecolor='white', alpha=0.8, edgecolor='white'))\n",
    "#     plt.box(False)"
   ]
  },
  {
   "cell_type": "code",
   "execution_count": 42,
   "id": "sexual-wages",
   "metadata": {
    "execution": {
     "iopub.execute_input": "2021-03-16T00:11:29.976813Z",
     "iopub.status.busy": "2021-03-16T00:11:29.976259Z",
     "iopub.status.idle": "2021-03-16T00:11:29.978716Z",
     "shell.execute_reply": "2021-03-16T00:11:29.979197Z"
    },
    "papermill": {
     "duration": 0.040701,
     "end_time": "2021-03-16T00:11:29.979331",
     "exception": false,
     "start_time": "2021-03-16T00:11:29.938630",
     "status": "completed"
    },
    "tags": []
   },
   "outputs": [],
   "source": [
    "# #hide_input\n",
    "# fig, ax = plt.subplots(figsize=(15, 8))\n",
    "# animator = animation.FuncAnimation(fig, draw_barchart, frames=range(g.day.values.min(), g.day.values.max()))\n",
    "# HTML(animator.to_jshtml())\n",
    "# # or use animator.to_html5_video() or animator.save() "
   ]
  },
  {
   "cell_type": "code",
   "execution_count": null,
   "id": "australian-container",
   "metadata": {
    "papermill": {
     "duration": 0.032508,
     "end_time": "2021-03-16T00:11:30.044289",
     "exception": false,
     "start_time": "2021-03-16T00:11:30.011781",
     "status": "completed"
    },
    "tags": []
   },
   "outputs": [],
   "source": []
  },
  {
   "cell_type": "code",
   "execution_count": null,
   "id": "mediterranean-pontiac",
   "metadata": {
    "papermill": {
     "duration": 0.033703,
     "end_time": "2021-03-16T00:11:30.112406",
     "exception": false,
     "start_time": "2021-03-16T00:11:30.078703",
     "status": "completed"
    },
    "tags": []
   },
   "outputs": [],
   "source": []
  },
  {
   "cell_type": "code",
   "execution_count": null,
   "id": "aging-legislature",
   "metadata": {
    "papermill": {
     "duration": 0.03359,
     "end_time": "2021-03-16T00:11:30.179242",
     "exception": false,
     "start_time": "2021-03-16T00:11:30.145652",
     "status": "completed"
    },
    "tags": []
   },
   "outputs": [],
   "source": []
  }
 ],
 "metadata": {
  "kernelspec": {
   "display_name": "Python 3",
   "language": "python",
   "name": "python3"
  },
  "language_info": {
   "codemirror_mode": {
    "name": "ipython",
    "version": 3
   },
   "file_extension": ".py",
   "mimetype": "text/x-python",
   "name": "python",
   "nbconvert_exporter": "python",
   "pygments_lexer": "ipython3",
   "version": "3.6.13"
  },
  "papermill": {
   "duration": 6.660462,
   "end_time": "2021-03-16T00:11:30.623058",
   "environment_variables": {},
   "exception": null,
   "input_path": "2020-03-21-covid19exp.ipynb",
   "output_path": "2020-03-21-covid19exp.ipynb",
   "parameters": {},
   "start_time": "2021-03-16T00:11:23.962596",
   "version": "2.0.0"
  }
 },
 "nbformat": 4,
 "nbformat_minor": 5
}