{
 "cells": [
  {
   "cell_type": "markdown",
   "id": "muslim-click",
   "metadata": {
    "papermill": {
     "duration": 0.034479,
     "end_time": "2021-12-10T12:12:27.692086",
     "exception": false,
     "start_time": "2021-12-10T12:12:27.657607",
     "status": "completed"
    },
    "tags": []
   },
   "source": [
    "# COVID-19 Case Race\n",
    "> A race chart to see rising cases around the world\n",
    "\n",
    "- author: Hargun Oberoi\n",
    "- image: images/covid-overview.png\n",
    "- hide: false\n",
    "- badges: false"
   ]
  },
  {
   "cell_type": "code",
   "execution_count": 1,
   "id": "proof-material",
   "metadata": {
    "execution": {
     "iopub.execute_input": "2021-12-10T12:12:27.762470Z",
     "iopub.status.busy": "2021-12-10T12:12:27.761936Z",
     "iopub.status.idle": "2021-12-10T12:12:28.125272Z",
     "shell.execute_reply": "2021-12-10T12:12:28.124725Z"
    },
    "papermill": {
     "duration": 0.403241,
     "end_time": "2021-12-10T12:12:28.125438",
     "exception": false,
     "start_time": "2021-12-10T12:12:27.722197",
     "status": "completed"
    },
    "tags": []
   },
   "outputs": [],
   "source": [
    "#hide\n",
    "import numpy as np\n",
    "import pandas as pd\n",
    "from jinja2 import Template\n",
    "from IPython.display import HTML"
   ]
  },
  {
   "cell_type": "code",
   "execution_count": 2,
   "id": "developed-terminology",
   "metadata": {
    "execution": {
     "iopub.execute_input": "2021-12-10T12:12:28.190856Z",
     "iopub.status.busy": "2021-12-10T12:12:28.190309Z",
     "iopub.status.idle": "2021-12-10T12:12:28.192326Z",
     "shell.execute_reply": "2021-12-10T12:12:28.191823Z"
    },
    "papermill": {
     "duration": 0.037269,
     "end_time": "2021-12-10T12:12:28.192440",
     "exception": false,
     "start_time": "2021-12-10T12:12:28.155171",
     "status": "completed"
    },
    "tags": []
   },
   "outputs": [],
   "source": [
    "#hide\n",
    "\n",
    "# FETCH\n",
    "base_url = 'https://raw.githubusercontent.com/pratapvardhan/notebooks/master/covid19/'\n",
    "paths = {\n",
    "    'mapping': base_url + 'mapping_countries.csv',\n",
    "    'overview': base_url + 'overview.tpl'\n",
    "}"
   ]
  },
  {
   "cell_type": "code",
   "execution_count": 3,
   "id": "dynamic-saver",
   "metadata": {
    "execution": {
     "iopub.execute_input": "2021-12-10T12:12:28.254745Z",
     "iopub.status.busy": "2021-12-10T12:12:28.254236Z",
     "iopub.status.idle": "2021-12-10T12:12:28.264036Z",
     "shell.execute_reply": "2021-12-10T12:12:28.264466Z"
    },
    "papermill": {
     "duration": 0.042367,
     "end_time": "2021-12-10T12:12:28.264605",
     "exception": false,
     "start_time": "2021-12-10T12:12:28.222238",
     "status": "completed"
    },
    "tags": []
   },
   "outputs": [
    {
     "data": {
      "text/plain": [
       "'https://raw.githubusercontent.com/pratapvardhan/notebooks/master/covid19/mapping_countries.csv'"
      ]
     },
     "execution_count": 3,
     "metadata": {},
     "output_type": "execute_result"
    }
   ],
   "source": [
    "#hide\n",
    "paths['mapping']"
   ]
  },
  {
   "cell_type": "code",
   "execution_count": 4,
   "id": "urban-software",
   "metadata": {
    "execution": {
     "iopub.execute_input": "2021-12-10T12:12:28.330366Z",
     "iopub.status.busy": "2021-12-10T12:12:28.329859Z",
     "iopub.status.idle": "2021-12-10T12:12:28.331819Z",
     "shell.execute_reply": "2021-12-10T12:12:28.332245Z"
    },
    "papermill": {
     "duration": 0.037889,
     "end_time": "2021-12-10T12:12:28.332374",
     "exception": false,
     "start_time": "2021-12-10T12:12:28.294485",
     "status": "completed"
    },
    "tags": []
   },
   "outputs": [],
   "source": [
    "#hide\n",
    "def get_mappings(url):\n",
    "    df = pd.read_csv(url)\n",
    "    return {\n",
    "        'df': df,\n",
    "        'replace.country': dict(df.dropna(subset=['Name']).set_index('Country')['Name']),\n",
    "        'map.continent': dict(df.set_index('Name')['Continent'])\n",
    "    }"
   ]
  },
  {
   "cell_type": "code",
   "execution_count": 5,
   "id": "intimate-machinery",
   "metadata": {
    "execution": {
     "iopub.execute_input": "2021-12-10T12:12:28.397583Z",
     "iopub.status.busy": "2021-12-10T12:12:28.397024Z",
     "iopub.status.idle": "2021-12-10T12:12:28.436935Z",
     "shell.execute_reply": "2021-12-10T12:12:28.436418Z"
    },
    "papermill": {
     "duration": 0.07503,
     "end_time": "2021-12-10T12:12:28.437109",
     "exception": false,
     "start_time": "2021-12-10T12:12:28.362079",
     "status": "completed"
    },
    "tags": []
   },
   "outputs": [],
   "source": [
    "#hide\n",
    "mapping = get_mappings(paths['mapping'])"
   ]
  },
  {
   "cell_type": "code",
   "execution_count": 6,
   "id": "certified-tactics",
   "metadata": {
    "execution": {
     "iopub.execute_input": "2021-12-10T12:12:28.510411Z",
     "iopub.status.busy": "2021-12-10T12:12:28.509790Z",
     "iopub.status.idle": "2021-12-10T12:12:28.511286Z",
     "shell.execute_reply": "2021-12-10T12:12:28.511775Z"
    },
    "papermill": {
     "duration": 0.037236,
     "end_time": "2021-12-10T12:12:28.511926",
     "exception": false,
     "start_time": "2021-12-10T12:12:28.474690",
     "status": "completed"
    },
    "tags": []
   },
   "outputs": [],
   "source": [
    "#hide\n",
    "def get_template(path):\n",
    "    from urllib.parse import urlparse\n",
    "    if bool(urlparse(path).netloc):\n",
    "        from urllib.request import urlopen\n",
    "        return urlopen(path).read().decode('utf8')\n",
    "    return open(path).read()"
   ]
  },
  {
   "cell_type": "code",
   "execution_count": 7,
   "id": "realistic-blast",
   "metadata": {
    "execution": {
     "iopub.execute_input": "2021-12-10T12:12:28.584067Z",
     "iopub.status.busy": "2021-12-10T12:12:28.583521Z",
     "iopub.status.idle": "2021-12-10T12:12:28.585265Z",
     "shell.execute_reply": "2021-12-10T12:12:28.585650Z"
    },
    "papermill": {
     "duration": 0.043849,
     "end_time": "2021-12-10T12:12:28.585796",
     "exception": false,
     "start_time": "2021-12-10T12:12:28.541947",
     "status": "completed"
    },
    "tags": []
   },
   "outputs": [],
   "source": [
    "#hide\n",
    "def get_frame(name):\n",
    "    url = (\n",
    "        'https://raw.githubusercontent.com/CSSEGISandData/COVID-19/master/csse_covid_19_data/'\n",
    "        f'csse_covid_19_time_series/time_series_covid19_{name}_global.csv')\n",
    "    df = pd.read_csv(url)\n",
    "    # rename countries\n",
    "    df['Country/Region'] = df['Country/Region'].replace(mapping['replace.country'])\n",
    "    return df"
   ]
  },
  {
   "cell_type": "code",
   "execution_count": 8,
   "id": "affiliated-characterization",
   "metadata": {
    "execution": {
     "iopub.execute_input": "2021-12-10T12:12:28.651100Z",
     "iopub.status.busy": "2021-12-10T12:12:28.650560Z",
     "iopub.status.idle": "2021-12-10T12:12:28.652840Z",
     "shell.execute_reply": "2021-12-10T12:12:28.652429Z"
    },
    "papermill": {
     "duration": 0.037363,
     "end_time": "2021-12-10T12:12:28.652960",
     "exception": false,
     "start_time": "2021-12-10T12:12:28.615597",
     "status": "completed"
    },
    "tags": []
   },
   "outputs": [],
   "source": [
    "#hide\n",
    "def get_dates(df):\n",
    "    dt_cols = df.columns[~df.columns.isin(['Province/State', 'Country/Region', 'Lat', 'Long'])]\n",
    "    LAST_DATE_I = -1\n",
    "    # sometimes last column may be empty, then go backwards\n",
    "    for i in range(-1, -len(dt_cols), -1):\n",
    "        if not df[dt_cols[i]].fillna(0).eq(0).all():\n",
    "            LAST_DATE_I = i\n",
    "            break\n",
    "    return LAST_DATE_I, dt_cols"
   ]
  },
  {
   "cell_type": "code",
   "execution_count": 9,
   "id": "recent-optimization",
   "metadata": {
    "execution": {
     "iopub.execute_input": "2021-12-10T12:12:28.717698Z",
     "iopub.status.busy": "2021-12-10T12:12:28.717149Z",
     "iopub.status.idle": "2021-12-10T12:12:29.095752Z",
     "shell.execute_reply": "2021-12-10T12:12:29.096246Z"
    },
    "papermill": {
     "duration": 0.413711,
     "end_time": "2021-12-10T12:12:29.096420",
     "exception": false,
     "start_time": "2021-12-10T12:12:28.682709",
     "status": "completed"
    },
    "tags": []
   },
   "outputs": [],
   "source": [
    "#hide\n",
    "COL_REGION = 'Country/Region'\n",
    "# Confirmed, Recovered, Deaths\n",
    "df = get_frame('confirmed')\n",
    "# dft_: timeseries, dfc_: today country agg\n",
    "dft_cases = df\n",
    "dft_deaths = get_frame('deaths')\n",
    "dft_recovered = get_frame('recovered')\n",
    "LAST_DATE_I, dt_cols = get_dates(df)"
   ]
  },
  {
   "cell_type": "code",
   "execution_count": 10,
   "id": "absolute-copper",
   "metadata": {
    "execution": {
     "iopub.execute_input": "2021-12-10T12:12:29.163208Z",
     "iopub.status.busy": "2021-12-10T12:12:29.162595Z",
     "iopub.status.idle": "2021-12-10T12:12:29.164117Z",
     "shell.execute_reply": "2021-12-10T12:12:29.164577Z"
    },
    "papermill": {
     "duration": 0.037254,
     "end_time": "2021-12-10T12:12:29.164731",
     "exception": false,
     "start_time": "2021-12-10T12:12:29.127477",
     "status": "completed"
    },
    "tags": []
   },
   "outputs": [],
   "source": [
    "#hide\n",
    "LAST_DATE_I, dt_cols = get_dates(df)\n",
    "dt_today =dt_cols[LAST_DATE_I]\n",
    "# dt_5day = dt_cols[LAST_DATE_I - 5]\n",
    "dt_yday = dt_cols[LAST_DATE_I - 1]"
   ]
  },
  {
   "cell_type": "code",
   "execution_count": 11,
   "id": "restricted-sheriff",
   "metadata": {
    "execution": {
     "iopub.execute_input": "2021-12-10T12:12:29.235502Z",
     "iopub.status.busy": "2021-12-10T12:12:29.231992Z",
     "iopub.status.idle": "2021-12-10T12:12:29.240353Z",
     "shell.execute_reply": "2021-12-10T12:12:29.239394Z"
    },
    "papermill": {
     "duration": 0.046004,
     "end_time": "2021-12-10T12:12:29.240480",
     "exception": false,
     "start_time": "2021-12-10T12:12:29.194476",
     "status": "completed"
    },
    "tags": []
   },
   "outputs": [],
   "source": [
    "#hide\n",
    "dfc_cases = dft_cases.groupby(COL_REGION)[dt_today].sum()\n",
    "dfc_deaths = dft_deaths.groupby(COL_REGION)[dt_today].sum()\n",
    "# dfp_cases = dft_cases.groupby(COL_REGION)[dt_5day].sum()\n",
    "# dfp_deaths = dft_deaths.groupby(COL_REGION)[dt_5day].sum()\n",
    "dfp_cases = dft_cases.groupby(COL_REGION)[dt_yday].sum()\n",
    "dfp_deaths = dft_deaths.groupby(COL_REGION)[dt_yday].sum()"
   ]
  },
  {
   "cell_type": "code",
   "execution_count": 12,
   "id": "deluxe-hepatitis",
   "metadata": {
    "execution": {
     "iopub.execute_input": "2021-12-10T12:12:29.308436Z",
     "iopub.status.busy": "2021-12-10T12:12:29.305586Z",
     "iopub.status.idle": "2021-12-10T12:12:29.310401Z",
     "shell.execute_reply": "2021-12-10T12:12:29.310783Z"
    },
    "papermill": {
     "duration": 0.040355,
     "end_time": "2021-12-10T12:12:29.310920",
     "exception": false,
     "start_time": "2021-12-10T12:12:29.270565",
     "status": "completed"
    },
    "tags": []
   },
   "outputs": [],
   "source": [
    "#hide\n",
    "df_table = (pd.DataFrame(dict(Cases = dfc_cases, Deaths = dfc_deaths, PCases = dfp_cases, PDeaths = dfp_deaths))\n",
    "            .sort_values(by = ['Cases','Deaths'], ascending = [False, False])\n",
    "            .reset_index())"
   ]
  },
  {
   "cell_type": "code",
   "execution_count": 13,
   "id": "educational-chancellor",
   "metadata": {
    "execution": {
     "iopub.execute_input": "2021-12-10T12:12:29.389516Z",
     "iopub.status.busy": "2021-12-10T12:12:29.388806Z",
     "iopub.status.idle": "2021-12-10T12:12:29.396344Z",
     "shell.execute_reply": "2021-12-10T12:12:29.396748Z"
    },
    "papermill": {
     "duration": 0.056383,
     "end_time": "2021-12-10T12:12:29.396884",
     "exception": false,
     "start_time": "2021-12-10T12:12:29.340501",
     "status": "completed"
    },
    "tags": []
   },
   "outputs": [
    {
     "data": {
      "text/html": [
       "<div>\n",
       "<style scoped>\n",
       "    .dataframe tbody tr th:only-of-type {\n",
       "        vertical-align: middle;\n",
       "    }\n",
       "\n",
       "    .dataframe tbody tr th {\n",
       "        vertical-align: top;\n",
       "    }\n",
       "\n",
       "    .dataframe thead th {\n",
       "        text-align: right;\n",
       "    }\n",
       "</style>\n",
       "<table border=\"1\" class=\"dataframe\">\n",
       "  <thead>\n",
       "    <tr style=\"text-align: right;\">\n",
       "      <th></th>\n",
       "      <th>Country/Region</th>\n",
       "      <th>Cases</th>\n",
       "      <th>Deaths</th>\n",
       "      <th>PCases</th>\n",
       "      <th>PDeaths</th>\n",
       "      <th>Cases (+)</th>\n",
       "      <th>Deaths (+)</th>\n",
       "      <th>Fatality Rate</th>\n",
       "      <th>Continent</th>\n",
       "    </tr>\n",
       "  </thead>\n",
       "  <tbody>\n",
       "    <tr>\n",
       "      <th>0</th>\n",
       "      <td>US</td>\n",
       "      <td>49661145</td>\n",
       "      <td>794649</td>\n",
       "      <td>49543526</td>\n",
       "      <td>793230</td>\n",
       "      <td>117619</td>\n",
       "      <td>1419</td>\n",
       "      <td>1.60</td>\n",
       "      <td>North America</td>\n",
       "    </tr>\n",
       "    <tr>\n",
       "      <th>1</th>\n",
       "      <td>India</td>\n",
       "      <td>34674643</td>\n",
       "      <td>474479</td>\n",
       "      <td>34666241</td>\n",
       "      <td>474111</td>\n",
       "      <td>8402</td>\n",
       "      <td>368</td>\n",
       "      <td>1.37</td>\n",
       "      <td>Asia</td>\n",
       "    </tr>\n",
       "    <tr>\n",
       "      <th>2</th>\n",
       "      <td>Brazil</td>\n",
       "      <td>22177059</td>\n",
       "      <td>616457</td>\n",
       "      <td>22167781</td>\n",
       "      <td>616251</td>\n",
       "      <td>9278</td>\n",
       "      <td>206</td>\n",
       "      <td>2.78</td>\n",
       "      <td>South America</td>\n",
       "    </tr>\n",
       "    <tr>\n",
       "      <th>3</th>\n",
       "      <td>United Kingdom</td>\n",
       "      <td>10722083</td>\n",
       "      <td>146592</td>\n",
       "      <td>10671538</td>\n",
       "      <td>146444</td>\n",
       "      <td>50545</td>\n",
       "      <td>148</td>\n",
       "      <td>1.37</td>\n",
       "      <td>Europe</td>\n",
       "    </tr>\n",
       "    <tr>\n",
       "      <th>4</th>\n",
       "      <td>Russia</td>\n",
       "      <td>9752340</td>\n",
       "      <td>280427</td>\n",
       "      <td>9722639</td>\n",
       "      <td>279280</td>\n",
       "      <td>29701</td>\n",
       "      <td>1147</td>\n",
       "      <td>2.88</td>\n",
       "      <td>Europe</td>\n",
       "    </tr>\n",
       "  </tbody>\n",
       "</table>\n",
       "</div>"
      ],
      "text/plain": [
       "   Country/Region     Cases  Deaths    PCases  PDeaths  Cases (+)  Deaths (+)  \\\n",
       "0              US  49661145  794649  49543526   793230     117619        1419   \n",
       "1           India  34674643  474479  34666241   474111       8402         368   \n",
       "2          Brazil  22177059  616457  22167781   616251       9278         206   \n",
       "3  United Kingdom  10722083  146592  10671538   146444      50545         148   \n",
       "4          Russia   9752340  280427   9722639   279280      29701        1147   \n",
       "\n",
       "   Fatality Rate      Continent  \n",
       "0           1.60  North America  \n",
       "1           1.37           Asia  \n",
       "2           2.78  South America  \n",
       "3           1.37         Europe  \n",
       "4           2.88         Europe  "
      ]
     },
     "execution_count": 13,
     "metadata": {},
     "output_type": "execute_result"
    }
   ],
   "source": [
    "#hide\n",
    "for c in 'Cases, Deaths'.split(', '):\n",
    "    df_table[f'{c} (+)'] = (df_table[c] - df_table[f'P{c}']).clip(0)\n",
    "    #Clip ça veut dire, les chiffres negatif sont interdit\n",
    "df_table['Fatality Rate'] = (100* df_table['Deaths']/ df_table['Cases']).round(2)\n",
    "df_table['Continent'] = df_table['Country/Region'].map(mapping['map.continent'])\n",
    "df_table.head(5)"
   ]
  },
  {
   "cell_type": "code",
   "execution_count": 14,
   "id": "aboriginal-bulgaria",
   "metadata": {
    "execution": {
     "iopub.execute_input": "2021-12-10T12:12:29.465658Z",
     "iopub.status.busy": "2021-12-10T12:12:29.465066Z",
     "iopub.status.idle": "2021-12-10T12:12:29.467468Z",
     "shell.execute_reply": "2021-12-10T12:12:29.467013Z"
    },
    "papermill": {
     "duration": 0.039356,
     "end_time": "2021-12-10T12:12:29.467585",
     "exception": false,
     "start_time": "2021-12-10T12:12:29.428229",
     "status": "completed"
    },
    "tags": []
   },
   "outputs": [],
   "source": [
    "#hide\n",
    "#delete problematic countries from table\n",
    "df_table = df_table[~df_table['Country/Region'].isin(['Cape Verde', 'Cruise Ship', 'Kosovo'])]"
   ]
  },
  {
   "cell_type": "code",
   "execution_count": 15,
   "id": "fantastic-effect",
   "metadata": {
    "execution": {
     "iopub.execute_input": "2021-12-10T12:12:29.550581Z",
     "iopub.status.busy": "2021-12-10T12:12:29.539351Z",
     "iopub.status.idle": "2021-12-10T12:12:29.556808Z",
     "shell.execute_reply": "2021-12-10T12:12:29.557209Z"
    },
    "papermill": {
     "duration": 0.058306,
     "end_time": "2021-12-10T12:12:29.557357",
     "exception": false,
     "start_time": "2021-12-10T12:12:29.499051",
     "status": "completed"
    },
    "tags": []
   },
   "outputs": [
    {
     "data": {
      "text/html": [
       "<div>\n",
       "<style scoped>\n",
       "    .dataframe tbody tr th:only-of-type {\n",
       "        vertical-align: middle;\n",
       "    }\n",
       "\n",
       "    .dataframe tbody tr th {\n",
       "        vertical-align: top;\n",
       "    }\n",
       "\n",
       "    .dataframe thead th {\n",
       "        text-align: right;\n",
       "    }\n",
       "</style>\n",
       "<table border=\"1\" class=\"dataframe\">\n",
       "  <thead>\n",
       "    <tr style=\"text-align: right;\">\n",
       "      <th></th>\n",
       "      <th>Country/Region</th>\n",
       "      <th>Cases</th>\n",
       "      <th>Deaths</th>\n",
       "      <th>PCases</th>\n",
       "      <th>PDeaths</th>\n",
       "      <th>Cases (+)</th>\n",
       "      <th>Deaths (+)</th>\n",
       "      <th>Fatality Rate</th>\n",
       "      <th>Continent</th>\n",
       "    </tr>\n",
       "  </thead>\n",
       "  <tbody>\n",
       "    <tr>\n",
       "      <th>0</th>\n",
       "      <td>US</td>\n",
       "      <td>49661145</td>\n",
       "      <td>794649</td>\n",
       "      <td>49543526</td>\n",
       "      <td>793230</td>\n",
       "      <td>117619</td>\n",
       "      <td>1419</td>\n",
       "      <td>1.6</td>\n",
       "      <td>North America</td>\n",
       "    </tr>\n",
       "    <tr>\n",
       "      <th>1</th>\n",
       "      <td>India</td>\n",
       "      <td>34674643</td>\n",
       "      <td>474479</td>\n",
       "      <td>34666241</td>\n",
       "      <td>474111</td>\n",
       "      <td>8402</td>\n",
       "      <td>368</td>\n",
       "      <td>1.4</td>\n",
       "      <td>Asia</td>\n",
       "    </tr>\n",
       "    <tr>\n",
       "      <th>2</th>\n",
       "      <td>Brazil</td>\n",
       "      <td>22177059</td>\n",
       "      <td>616457</td>\n",
       "      <td>22167781</td>\n",
       "      <td>616251</td>\n",
       "      <td>9278</td>\n",
       "      <td>206</td>\n",
       "      <td>2.8</td>\n",
       "      <td>South America</td>\n",
       "    </tr>\n",
       "    <tr>\n",
       "      <th>3</th>\n",
       "      <td>United Kingdom</td>\n",
       "      <td>10722083</td>\n",
       "      <td>146592</td>\n",
       "      <td>10671538</td>\n",
       "      <td>146444</td>\n",
       "      <td>50545</td>\n",
       "      <td>148</td>\n",
       "      <td>1.4</td>\n",
       "      <td>Europe</td>\n",
       "    </tr>\n",
       "    <tr>\n",
       "      <th>4</th>\n",
       "      <td>Russia</td>\n",
       "      <td>9752340</td>\n",
       "      <td>280427</td>\n",
       "      <td>9722639</td>\n",
       "      <td>279280</td>\n",
       "      <td>29701</td>\n",
       "      <td>1147</td>\n",
       "      <td>2.9</td>\n",
       "      <td>Europe</td>\n",
       "    </tr>\n",
       "  </tbody>\n",
       "</table>\n",
       "</div>"
      ],
      "text/plain": [
       "   Country/Region     Cases  Deaths    PCases  PDeaths  Cases (+)  Deaths (+)  \\\n",
       "0              US  49661145  794649  49543526   793230     117619        1419   \n",
       "1           India  34674643  474479  34666241   474111       8402         368   \n",
       "2          Brazil  22177059  616457  22167781   616251       9278         206   \n",
       "3  United Kingdom  10722083  146592  10671538   146444      50545         148   \n",
       "4          Russia   9752340  280427   9722639   279280      29701        1147   \n",
       "\n",
       "   Fatality Rate      Continent  \n",
       "0            1.6  North America  \n",
       "1            1.4           Asia  \n",
       "2            2.8  South America  \n",
       "3            1.4         Europe  \n",
       "4            2.9         Europe  "
      ]
     },
     "execution_count": 15,
     "metadata": {},
     "output_type": "execute_result"
    }
   ],
   "source": [
    "#hide\n",
    "df_table = (pd.DataFrame(dict(Cases=dfc_cases, Deaths=dfc_deaths, PCases=dfp_cases, PDeaths=dfp_deaths))\n",
    "             .sort_values(by=['Cases', 'Deaths'], ascending=[False, False])\n",
    "             .reset_index())\n",
    "df_table.rename(columns={'index': 'Country/Region'}, inplace=True)\n",
    "for c in 'Cases, Deaths'.split(', '):\n",
    "    df_table[f'{c} (+)'] = (df_table[c] - df_table[f'P{c}']).clip(0)  # DATA BUG\n",
    "df_table['Fatality Rate'] = (100 * df_table['Deaths'] / df_table['Cases']).round(1)\n",
    "df_table['Continent'] = df_table['Country/Region'].map(mapping['map.continent'])\n",
    "df_table.head(5)"
   ]
  },
  {
   "cell_type": "code",
   "execution_count": 16,
   "id": "fewer-occasion",
   "metadata": {
    "execution": {
     "iopub.execute_input": "2021-12-10T12:12:29.625963Z",
     "iopub.status.busy": "2021-12-10T12:12:29.625400Z",
     "iopub.status.idle": "2021-12-10T12:12:29.627085Z",
     "shell.execute_reply": "2021-12-10T12:12:29.627469Z"
    },
    "papermill": {
     "duration": 0.038744,
     "end_time": "2021-12-10T12:12:29.627605",
     "exception": false,
     "start_time": "2021-12-10T12:12:29.588861",
     "status": "completed"
    },
    "tags": []
   },
   "outputs": [],
   "source": [
    "#hide\n",
    "#delete problematic countries from table\n",
    "df_table = df_table[~df_table['Country/Region'].isin(['Cape Verde', 'Cruise Ship', 'Kosovo'])]"
   ]
  },
  {
   "cell_type": "code",
   "execution_count": 17,
   "id": "related-center",
   "metadata": {
    "execution": {
     "iopub.execute_input": "2021-12-10T12:12:29.706530Z",
     "iopub.status.busy": "2021-12-10T12:12:29.700912Z",
     "iopub.status.idle": "2021-12-10T12:12:29.708683Z",
     "shell.execute_reply": "2021-12-10T12:12:29.708247Z"
    },
    "papermill": {
     "duration": 0.050793,
     "end_time": "2021-12-10T12:12:29.708802",
     "exception": false,
     "start_time": "2021-12-10T12:12:29.658009",
     "status": "completed"
    },
    "tags": []
   },
   "outputs": [],
   "source": [
    "#hide\n",
    "metrics = [df_table.columns[index] for index in [1,2,5,6]]\n",
    "# s_china = df_table[df_table['Country/Region'].eq('China')][metrics].sum().add_prefix('China ')\n",
    "s_us = df_table[df_table['Country/Region'].eq('US')][metrics].sum().add_prefix('US ')\n",
    "s_eu = df_table[df_table['Continent'].eq('Europe')][metrics].sum().add_prefix('EU ')\n",
    "s_ind = df_table[df_table['Country/Region'].eq('India')][metrics].sum().add_prefix('India ')\n",
    "summary = {'updated': pd.to_datetime(dt_today), 'since': pd.to_datetime(dt_yday)}\n",
    "summary = {'updated': pd.to_datetime(dt_today), 'since': pd.to_datetime(dt_yday)}\n",
    "summary = {**summary, **df_table[metrics].sum(), **s_ind, **s_us, **s_eu}"
   ]
  },
  {
   "cell_type": "code",
   "execution_count": 18,
   "id": "engaging-syndrome",
   "metadata": {
    "execution": {
     "iopub.execute_input": "2021-12-10T12:12:29.776033Z",
     "iopub.status.busy": "2021-12-10T12:12:29.775520Z",
     "iopub.status.idle": "2021-12-10T12:12:29.789259Z",
     "shell.execute_reply": "2021-12-10T12:12:29.788795Z"
    },
    "papermill": {
     "duration": 0.049831,
     "end_time": "2021-12-10T12:12:29.789383",
     "exception": false,
     "start_time": "2021-12-10T12:12:29.739552",
     "status": "completed"
    },
    "tags": []
   },
   "outputs": [],
   "source": [
    "#hide\n",
    "dft_ct_new_cases = dft_cases.groupby(COL_REGION)[dt_cols].sum().diff(axis=1).fillna(0).astype(int)"
   ]
  },
  {
   "cell_type": "code",
   "execution_count": 19,
   "id": "neutral-assignment",
   "metadata": {
    "execution": {
     "iopub.execute_input": "2021-12-10T12:12:29.864923Z",
     "iopub.status.busy": "2021-12-10T12:12:29.863935Z",
     "iopub.status.idle": "2021-12-10T12:12:29.865436Z",
     "shell.execute_reply": "2021-12-10T12:12:29.864444Z"
    },
    "papermill": {
     "duration": 0.045642,
     "end_time": "2021-12-10T12:12:29.865559",
     "exception": false,
     "start_time": "2021-12-10T12:12:29.819917",
     "status": "completed"
    },
    "tags": []
   },
   "outputs": [],
   "source": [
    "#hide\n",
    "everydaycases = dft_ct_new_cases.cumsum(axis=1)"
   ]
  },
  {
   "cell_type": "code",
   "execution_count": 20,
   "id": "parliamentary-calgary",
   "metadata": {
    "execution": {
     "iopub.execute_input": "2021-12-10T12:12:29.932565Z",
     "iopub.status.busy": "2021-12-10T12:12:29.932039Z",
     "iopub.status.idle": "2021-12-10T12:12:30.532910Z",
     "shell.execute_reply": "2021-12-10T12:12:30.532445Z"
    },
    "papermill": {
     "duration": 0.636823,
     "end_time": "2021-12-10T12:12:30.533039",
     "exception": false,
     "start_time": "2021-12-10T12:12:29.896216",
     "status": "completed"
    },
    "tags": []
   },
   "outputs": [],
   "source": [
    "#hide\n",
    "import pandas as pd\n",
    "import matplotlib.pyplot as plt\n",
    "import matplotlib.ticker as ticker\n",
    "import matplotlib.animation as animation\n",
    "from IPython.display import HTML"
   ]
  },
  {
   "cell_type": "code",
   "execution_count": 21,
   "id": "lasting-extraction",
   "metadata": {
    "execution": {
     "iopub.execute_input": "2021-12-10T12:12:30.600158Z",
     "iopub.status.busy": "2021-12-10T12:12:30.599646Z",
     "iopub.status.idle": "2021-12-10T12:12:30.607667Z",
     "shell.execute_reply": "2021-12-10T12:12:30.607245Z"
    },
    "papermill": {
     "duration": 0.044244,
     "end_time": "2021-12-10T12:12:30.607789",
     "exception": false,
     "start_time": "2021-12-10T12:12:30.563545",
     "status": "completed"
    },
    "tags": []
   },
   "outputs": [],
   "source": [
    "#hide\n",
    "t = everydaycases.stack()"
   ]
  },
  {
   "cell_type": "code",
   "execution_count": 22,
   "id": "premier-sleeve",
   "metadata": {
    "execution": {
     "iopub.execute_input": "2021-12-10T12:12:30.673691Z",
     "iopub.status.busy": "2021-12-10T12:12:30.673143Z",
     "iopub.status.idle": "2021-12-10T12:12:30.682631Z",
     "shell.execute_reply": "2021-12-10T12:12:30.682219Z"
    },
    "papermill": {
     "duration": 0.044245,
     "end_time": "2021-12-10T12:12:30.682758",
     "exception": false,
     "start_time": "2021-12-10T12:12:30.638513",
     "status": "completed"
    },
    "tags": []
   },
   "outputs": [],
   "source": [
    "#hide\n",
    "g = t.reset_index(['Country/Region'])"
   ]
  },
  {
   "cell_type": "code",
   "execution_count": 23,
   "id": "distributed-pittsburgh",
   "metadata": {
    "execution": {
     "iopub.execute_input": "2021-12-10T12:12:30.748120Z",
     "iopub.status.busy": "2021-12-10T12:12:30.747603Z",
     "iopub.status.idle": "2021-12-10T12:12:30.751363Z",
     "shell.execute_reply": "2021-12-10T12:12:30.750871Z"
    },
    "papermill": {
     "duration": 0.03823,
     "end_time": "2021-12-10T12:12:30.751475",
     "exception": false,
     "start_time": "2021-12-10T12:12:30.713245",
     "status": "completed"
    },
    "tags": []
   },
   "outputs": [],
   "source": [
    "#hide\n",
    "g.index.name = 'date'"
   ]
  },
  {
   "cell_type": "code",
   "execution_count": 24,
   "id": "naked-donor",
   "metadata": {
    "execution": {
     "iopub.execute_input": "2021-12-10T12:12:30.816352Z",
     "iopub.status.busy": "2021-12-10T12:12:30.815803Z",
     "iopub.status.idle": "2021-12-10T12:12:30.817911Z",
     "shell.execute_reply": "2021-12-10T12:12:30.817462Z"
    },
    "papermill": {
     "duration": 0.035989,
     "end_time": "2021-12-10T12:12:30.818026",
     "exception": false,
     "start_time": "2021-12-10T12:12:30.782037",
     "status": "completed"
    },
    "tags": []
   },
   "outputs": [],
   "source": [
    "# #hide\n",
    "# g = g.reset_index(['date'])"
   ]
  },
  {
   "cell_type": "code",
   "execution_count": 25,
   "id": "incomplete-mustang",
   "metadata": {
    "execution": {
     "iopub.execute_input": "2021-12-10T12:12:30.883231Z",
     "iopub.status.busy": "2021-12-10T12:12:30.882701Z",
     "iopub.status.idle": "2021-12-10T12:12:30.884566Z",
     "shell.execute_reply": "2021-12-10T12:12:30.885060Z"
    },
    "papermill": {
     "duration": 0.036482,
     "end_time": "2021-12-10T12:12:30.885216",
     "exception": false,
     "start_time": "2021-12-10T12:12:30.848734",
     "status": "completed"
    },
    "tags": []
   },
   "outputs": [],
   "source": [
    "#hide\n",
    "# g.head()"
   ]
  },
  {
   "cell_type": "code",
   "execution_count": 26,
   "id": "specific-kruger",
   "metadata": {
    "execution": {
     "iopub.execute_input": "2021-12-10T12:12:30.950207Z",
     "iopub.status.busy": "2021-12-10T12:12:30.949661Z",
     "iopub.status.idle": "2021-12-10T12:12:30.951820Z",
     "shell.execute_reply": "2021-12-10T12:12:30.951307Z"
    },
    "papermill": {
     "duration": 0.036182,
     "end_time": "2021-12-10T12:12:30.951936",
     "exception": false,
     "start_time": "2021-12-10T12:12:30.915754",
     "status": "completed"
    },
    "tags": []
   },
   "outputs": [],
   "source": [
    "#hide\n",
    "# g.columns = ['date','country','cases']"
   ]
  },
  {
   "cell_type": "code",
   "execution_count": 27,
   "id": "tender-conversion",
   "metadata": {
    "execution": {
     "iopub.execute_input": "2021-12-10T12:12:31.019786Z",
     "iopub.status.busy": "2021-12-10T12:12:31.019168Z",
     "iopub.status.idle": "2021-12-10T12:12:31.021326Z",
     "shell.execute_reply": "2021-12-10T12:12:31.020898Z"
    },
    "papermill": {
     "duration": 0.037879,
     "end_time": "2021-12-10T12:12:31.021446",
     "exception": false,
     "start_time": "2021-12-10T12:12:30.983567",
     "status": "completed"
    },
    "tags": []
   },
   "outputs": [],
   "source": [
    "#hide\n",
    "# g['continent'] = g.country"
   ]
  },
  {
   "cell_type": "code",
   "execution_count": 28,
   "id": "substantial-wilderness",
   "metadata": {
    "execution": {
     "iopub.execute_input": "2021-12-10T12:12:31.087282Z",
     "iopub.status.busy": "2021-12-10T12:12:31.086648Z",
     "iopub.status.idle": "2021-12-10T12:12:31.089356Z",
     "shell.execute_reply": "2021-12-10T12:12:31.089845Z"
    },
    "papermill": {
     "duration": 0.037474,
     "end_time": "2021-12-10T12:12:31.089979",
     "exception": false,
     "start_time": "2021-12-10T12:12:31.052505",
     "status": "completed"
    },
    "tags": []
   },
   "outputs": [],
   "source": [
    "#hide\n",
    "# cols = list(g.columns.values)"
   ]
  },
  {
   "cell_type": "code",
   "execution_count": 29,
   "id": "solved-farming",
   "metadata": {
    "execution": {
     "iopub.execute_input": "2021-12-10T12:12:31.154275Z",
     "iopub.status.busy": "2021-12-10T12:12:31.153756Z",
     "iopub.status.idle": "2021-12-10T12:12:31.155553Z",
     "shell.execute_reply": "2021-12-10T12:12:31.155931Z"
    },
    "papermill": {
     "duration": 0.035907,
     "end_time": "2021-12-10T12:12:31.156063",
     "exception": false,
     "start_time": "2021-12-10T12:12:31.120156",
     "status": "completed"
    },
    "tags": []
   },
   "outputs": [],
   "source": [
    "#hide\n",
    "# cols.insert(0, cols.pop())"
   ]
  },
  {
   "cell_type": "code",
   "execution_count": 30,
   "id": "executed-adoption",
   "metadata": {
    "execution": {
     "iopub.execute_input": "2021-12-10T12:12:31.221187Z",
     "iopub.status.busy": "2021-12-10T12:12:31.220621Z",
     "iopub.status.idle": "2021-12-10T12:12:31.222464Z",
     "shell.execute_reply": "2021-12-10T12:12:31.222868Z"
    },
    "papermill": {
     "duration": 0.036461,
     "end_time": "2021-12-10T12:12:31.223001",
     "exception": false,
     "start_time": "2021-12-10T12:12:31.186540",
     "status": "completed"
    },
    "tags": []
   },
   "outputs": [],
   "source": [
    "#hide\n",
    "# g = g[cols]"
   ]
  },
  {
   "cell_type": "code",
   "execution_count": 31,
   "id": "subject-dublin",
   "metadata": {
    "execution": {
     "iopub.execute_input": "2021-12-10T12:12:31.289132Z",
     "iopub.status.busy": "2021-12-10T12:12:31.288539Z",
     "iopub.status.idle": "2021-12-10T12:12:31.290715Z",
     "shell.execute_reply": "2021-12-10T12:12:31.290305Z"
    },
    "papermill": {
     "duration": 0.037135,
     "end_time": "2021-12-10T12:12:31.290837",
     "exception": false,
     "start_time": "2021-12-10T12:12:31.253702",
     "status": "completed"
    },
    "tags": []
   },
   "outputs": [],
   "source": [
    "#hide\n",
    "# g['continent'] = g['continent'].map(mapping['map.continent'])"
   ]
  },
  {
   "cell_type": "code",
   "execution_count": 32,
   "id": "freelance-scout",
   "metadata": {
    "execution": {
     "iopub.execute_input": "2021-12-10T12:12:31.356080Z",
     "iopub.status.busy": "2021-12-10T12:12:31.355498Z",
     "iopub.status.idle": "2021-12-10T12:12:31.358812Z",
     "shell.execute_reply": "2021-12-10T12:12:31.359201Z"
    },
    "papermill": {
     "duration": 0.037742,
     "end_time": "2021-12-10T12:12:31.359339",
     "exception": false,
     "start_time": "2021-12-10T12:12:31.321597",
     "status": "completed"
    },
    "tags": []
   },
   "outputs": [],
   "source": [
    "#hide\n",
    "# g.head()"
   ]
  },
  {
   "cell_type": "code",
   "execution_count": 33,
   "id": "limited-engine",
   "metadata": {
    "execution": {
     "iopub.execute_input": "2021-12-10T12:12:31.425226Z",
     "iopub.status.busy": "2021-12-10T12:12:31.424572Z",
     "iopub.status.idle": "2021-12-10T12:12:31.426634Z",
     "shell.execute_reply": "2021-12-10T12:12:31.426068Z"
    },
    "papermill": {
     "duration": 0.03625,
     "end_time": "2021-12-10T12:12:31.426760",
     "exception": false,
     "start_time": "2021-12-10T12:12:31.390510",
     "status": "completed"
    },
    "tags": []
   },
   "outputs": [],
   "source": [
    "# hide\n",
    "# g['date'] = g['date'].astype('datetime64[ns]')"
   ]
  },
  {
   "cell_type": "code",
   "execution_count": 34,
   "id": "sophisticated-supervisor",
   "metadata": {
    "execution": {
     "iopub.execute_input": "2021-12-10T12:12:31.492023Z",
     "iopub.status.busy": "2021-12-10T12:12:31.491466Z",
     "iopub.status.idle": "2021-12-10T12:12:31.493563Z",
     "shell.execute_reply": "2021-12-10T12:12:31.493022Z"
    },
    "papermill": {
     "duration": 0.036187,
     "end_time": "2021-12-10T12:12:31.493680",
     "exception": false,
     "start_time": "2021-12-10T12:12:31.457493",
     "status": "completed"
    },
    "tags": []
   },
   "outputs": [],
   "source": [
    "#hide\n",
    "# g['date'] = g.date.dt.dayofyear"
   ]
  },
  {
   "cell_type": "code",
   "execution_count": 35,
   "id": "inside-dubai",
   "metadata": {
    "execution": {
     "iopub.execute_input": "2021-12-10T12:12:31.558588Z",
     "iopub.status.busy": "2021-12-10T12:12:31.558050Z",
     "iopub.status.idle": "2021-12-10T12:12:31.560030Z",
     "shell.execute_reply": "2021-12-10T12:12:31.560523Z"
    },
    "papermill": {
     "duration": 0.036457,
     "end_time": "2021-12-10T12:12:31.560659",
     "exception": false,
     "start_time": "2021-12-10T12:12:31.524202",
     "status": "completed"
    },
    "tags": []
   },
   "outputs": [],
   "source": [
    "#hide\n",
    "# g = g.rename(columns= {'continent':'group','country':'name','cases':'value'})"
   ]
  },
  {
   "cell_type": "code",
   "execution_count": 36,
   "id": "fleet-motorcycle",
   "metadata": {
    "execution": {
     "iopub.execute_input": "2021-12-10T12:12:31.625639Z",
     "iopub.status.busy": "2021-12-10T12:12:31.625063Z",
     "iopub.status.idle": "2021-12-10T12:12:31.627977Z",
     "shell.execute_reply": "2021-12-10T12:12:31.627544Z"
    },
    "papermill": {
     "duration": 0.036731,
     "end_time": "2021-12-10T12:12:31.628093",
     "exception": false,
     "start_time": "2021-12-10T12:12:31.591362",
     "status": "completed"
    },
    "tags": []
   },
   "outputs": [],
   "source": [
    "#hide\n",
    "# cols = ['name','group','day','value']"
   ]
  },
  {
   "cell_type": "code",
   "execution_count": 37,
   "id": "continued-sleeping",
   "metadata": {
    "execution": {
     "iopub.execute_input": "2021-12-10T12:12:31.693131Z",
     "iopub.status.busy": "2021-12-10T12:12:31.692498Z",
     "iopub.status.idle": "2021-12-10T12:12:31.693852Z",
     "shell.execute_reply": "2021-12-10T12:12:31.694279Z"
    },
    "papermill": {
     "duration": 0.036013,
     "end_time": "2021-12-10T12:12:31.694409",
     "exception": false,
     "start_time": "2021-12-10T12:12:31.658396",
     "status": "completed"
    },
    "tags": []
   },
   "outputs": [],
   "source": [
    "#hide\n",
    "# g.rename(columns= {'date':'day'},inplace = True)"
   ]
  },
  {
   "cell_type": "code",
   "execution_count": 38,
   "id": "major-fight",
   "metadata": {
    "execution": {
     "iopub.execute_input": "2021-12-10T12:12:31.761620Z",
     "iopub.status.busy": "2021-12-10T12:12:31.760945Z",
     "iopub.status.idle": "2021-12-10T12:12:31.764056Z",
     "shell.execute_reply": "2021-12-10T12:12:31.763651Z"
    },
    "papermill": {
     "duration": 0.037801,
     "end_time": "2021-12-10T12:12:31.764176",
     "exception": false,
     "start_time": "2021-12-10T12:12:31.726375",
     "status": "completed"
    },
    "tags": []
   },
   "outputs": [],
   "source": [
    "#hide\n",
    "# g = g[cols]"
   ]
  },
  {
   "cell_type": "code",
   "execution_count": 39,
   "id": "structured-mobile",
   "metadata": {
    "execution": {
     "iopub.execute_input": "2021-12-10T12:12:31.828608Z",
     "iopub.status.busy": "2021-12-10T12:12:31.828064Z",
     "iopub.status.idle": "2021-12-10T12:12:31.831332Z",
     "shell.execute_reply": "2021-12-10T12:12:31.831845Z"
    },
    "papermill": {
     "duration": 0.037573,
     "end_time": "2021-12-10T12:12:31.831996",
     "exception": false,
     "start_time": "2021-12-10T12:12:31.794423",
     "status": "completed"
    },
    "tags": []
   },
   "outputs": [],
   "source": [
    "# #hide\n",
    "# g = g[g.group.notna()]"
   ]
  },
  {
   "cell_type": "code",
   "execution_count": 40,
   "id": "determined-closing",
   "metadata": {
    "execution": {
     "iopub.execute_input": "2021-12-10T12:12:31.898773Z",
     "iopub.status.busy": "2021-12-10T12:12:31.898216Z",
     "iopub.status.idle": "2021-12-10T12:12:31.899970Z",
     "shell.execute_reply": "2021-12-10T12:12:31.900347Z"
    },
    "papermill": {
     "duration": 0.037237,
     "end_time": "2021-12-10T12:12:31.900488",
     "exception": false,
     "start_time": "2021-12-10T12:12:31.863251",
     "status": "completed"
    },
    "tags": []
   },
   "outputs": [],
   "source": [
    "# #hide\n",
    "# colors = dict(zip(\n",
    "#     [\"Oceania\", \"Europe\", \"Asia\", \"South America\", \"Middle East\", \"North America\", \"Africa\"],\n",
    "#     [\"#adb0ff\", \"#ffb3ff\", \"#90d595\", \"#e48381\", \"#aafbff\", \"#f7bb5f\", \"#eafb50\"]\n",
    "# ))\n",
    "# group_lk = g.set_index('name')['group'].to_dict()"
   ]
  },
  {
   "cell_type": "code",
   "execution_count": null,
   "id": "gross-drinking",
   "metadata": {
    "papermill": {
     "duration": 0.031248,
     "end_time": "2021-12-10T12:12:31.962181",
     "exception": false,
     "start_time": "2021-12-10T12:12:31.930933",
     "status": "completed"
    },
    "tags": []
   },
   "outputs": [],
   "source": []
  },
  {
   "cell_type": "code",
   "execution_count": 41,
   "id": "subject-macintosh",
   "metadata": {
    "execution": {
     "iopub.execute_input": "2021-12-10T12:12:32.028628Z",
     "iopub.status.busy": "2021-12-10T12:12:32.028000Z",
     "iopub.status.idle": "2021-12-10T12:12:32.029521Z",
     "shell.execute_reply": "2021-12-10T12:12:32.029930Z"
    },
    "papermill": {
     "duration": 0.037181,
     "end_time": "2021-12-10T12:12:32.030070",
     "exception": false,
     "start_time": "2021-12-10T12:12:31.992889",
     "status": "completed"
    },
    "tags": []
   },
   "outputs": [],
   "source": [
    "# #hide\n",
    "# fig, ax = plt.subplots(figsize=(15, 8))\n",
    "\n",
    "# def draw_barchart(current_day):\n",
    "#     dff = g[g['day'].eq(current_day)].sort_values(by='value', ascending=True).tail(10)\n",
    "#     ax.clear()\n",
    "#     ax.barh(dff['name'], dff['value'], color=[colors[group_lk[x]] for x in dff['name']])\n",
    "#     dx = dff['value'].max() / 200\n",
    "    \n",
    "#     for i, (value, name) in enumerate(zip(dff['value'], dff['name'])):\n",
    "#         ax.text(value-dx, i,     name,           size=14, weight=600, ha='right', va='bottom')\n",
    "#         ax.text(value-dx, i-.25, group_lk[name], size=10, color='#444444', ha='right', va='baseline')\n",
    "#         ax.text(value+dx, i,     f'{value:,.0f}',  size=14, ha='left',  va='center')\n",
    "#     ax.text(1, 0.4, current_day, transform=ax.transAxes, color='#777777', size=46, ha='right', weight=800)\n",
    "#     ax.text(0, 1.06, 'Population (thousands)', transform=ax.transAxes, size=12, color='#777777')\n",
    "#     ax.xaxis.set_major_formatter(ticker.StrMethodFormatter('{x:,.0f}'))\n",
    "#     ax.xaxis.set_ticks_position('top')\n",
    "#     ax.tick_params(axis='x', colors='#777777', labelsize=12)\n",
    "#     ax.set_yticks([])\n",
    "#     ax.margins(0, 0.01)\n",
    "#     ax.grid(which='major', axis='x', linestyle='-')\n",
    "#     ax.set_axisbelow(True)\n",
    "    \n",
    "#     ax.text(0, 1.15, 'Coronavirus',\n",
    "#             transform=ax.transAxes, size=24, weight=600, ha='left', va='top')\n",
    "# #     ax.text(1, 0, 'by @pratapvardhan; credit @jburnmurdoch', transform=ax.transAxes, color='#777777', ha='right',\n",
    "# #             bbox=dict(facecolor='white', alpha=0.8, edgecolor='white'))\n",
    "#     plt.box(False)"
   ]
  },
  {
   "cell_type": "code",
   "execution_count": 42,
   "id": "sexual-wages",
   "metadata": {
    "execution": {
     "iopub.execute_input": "2021-12-10T12:12:32.095323Z",
     "iopub.status.busy": "2021-12-10T12:12:32.094776Z",
     "iopub.status.idle": "2021-12-10T12:12:32.096822Z",
     "shell.execute_reply": "2021-12-10T12:12:32.097257Z"
    },
    "papermill": {
     "duration": 0.036628,
     "end_time": "2021-12-10T12:12:32.097404",
     "exception": false,
     "start_time": "2021-12-10T12:12:32.060776",
     "status": "completed"
    },
    "tags": []
   },
   "outputs": [],
   "source": [
    "# #hide_input\n",
    "# fig, ax = plt.subplots(figsize=(15, 8))\n",
    "# animator = animation.FuncAnimation(fig, draw_barchart, frames=range(g.day.values.min(), g.day.values.max()))\n",
    "# HTML(animator.to_jshtml())\n",
    "# # or use animator.to_html5_video() or animator.save() "
   ]
  },
  {
   "cell_type": "code",
   "execution_count": null,
   "id": "australian-container",
   "metadata": {
    "papermill": {
     "duration": 0.03047,
     "end_time": "2021-12-10T12:12:32.158516",
     "exception": false,
     "start_time": "2021-12-10T12:12:32.128046",
     "status": "completed"
    },
    "tags": []
   },
   "outputs": [],
   "source": []
  },
  {
   "cell_type": "code",
   "execution_count": null,
   "id": "mediterranean-pontiac",
   "metadata": {
    "papermill": {
     "duration": 0.030298,
     "end_time": "2021-12-10T12:12:32.219216",
     "exception": false,
     "start_time": "2021-12-10T12:12:32.188918",
     "status": "completed"
    },
    "tags": []
   },
   "outputs": [],
   "source": []
  },
  {
   "cell_type": "code",
   "execution_count": null,
   "id": "aging-legislature",
   "metadata": {
    "papermill": {
     "duration": 0.030417,
     "end_time": "2021-12-10T12:12:32.280272",
     "exception": false,
     "start_time": "2021-12-10T12:12:32.249855",
     "status": "completed"
    },
    "tags": []
   },
   "outputs": [],
   "source": []
  }
 ],
 "metadata": {
  "kernelspec": {
   "display_name": "Python 3",
   "language": "python",
   "name": "python3"
  },
  "language_info": {
   "codemirror_mode": {
    "name": "ipython",
    "version": 3
   },
   "file_extension": ".py",
   "mimetype": "text/x-python",
   "name": "python",
   "nbconvert_exporter": "python",
   "pygments_lexer": "ipython3",
   "version": "3.6.15"
  },
  "papermill": {
   "duration": 6.007715,
   "end_time": "2021-12-10T12:12:32.719430",
   "environment_variables": {},
   "exception": null,
   "input_path": "2020-03-21-covid19exp.ipynb",
   "output_path": "2020-03-21-covid19exp.ipynb",
   "parameters": {},
   "start_time": "2021-12-10T12:12:26.711715",
   "version": "2.0.0"
  }
 },
 "nbformat": 4,
 "nbformat_minor": 5
}