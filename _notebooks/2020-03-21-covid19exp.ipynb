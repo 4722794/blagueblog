{
 "cells": [
  {
   "cell_type": "markdown",
   "id": "muslim-click",
   "metadata": {
    "papermill": {
     "duration": 0.033694,
     "end_time": "2021-11-09T12:11:48.841848",
     "exception": false,
     "start_time": "2021-11-09T12:11:48.808154",
     "status": "completed"
    },
    "tags": []
   },
   "source": [
    "# COVID-19 Case Race\n",
    "> A race chart to see rising cases around the world\n",
    "\n",
    "- author: Hargun Oberoi\n",
    "- image: images/covid-overview.png\n",
    "- hide: false\n",
    "- badges: false"
   ]
  },
  {
   "cell_type": "code",
   "execution_count": 1,
   "id": "proof-material",
   "metadata": {
    "execution": {
     "iopub.execute_input": "2021-11-09T12:11:48.911591Z",
     "iopub.status.busy": "2021-11-09T12:11:48.911060Z",
     "iopub.status.idle": "2021-11-09T12:11:49.202231Z",
     "shell.execute_reply": "2021-11-09T12:11:49.201737Z"
    },
    "papermill": {
     "duration": 0.33049,
     "end_time": "2021-11-09T12:11:49.202380",
     "exception": false,
     "start_time": "2021-11-09T12:11:48.871890",
     "status": "completed"
    },
    "tags": []
   },
   "outputs": [],
   "source": [
    "#hide\n",
    "import numpy as np\n",
    "import pandas as pd\n",
    "from jinja2 import Template\n",
    "from IPython.display import HTML"
   ]
  },
  {
   "cell_type": "code",
   "execution_count": 2,
   "id": "developed-terminology",
   "metadata": {
    "execution": {
     "iopub.execute_input": "2021-11-09T12:11:49.285828Z",
     "iopub.status.busy": "2021-11-09T12:11:49.285321Z",
     "iopub.status.idle": "2021-11-09T12:11:49.288033Z",
     "shell.execute_reply": "2021-11-09T12:11:49.287668Z"
    },
    "papermill": {
     "duration": 0.050483,
     "end_time": "2021-11-09T12:11:49.288135",
     "exception": false,
     "start_time": "2021-11-09T12:11:49.237652",
     "status": "completed"
    },
    "tags": []
   },
   "outputs": [],
   "source": [
    "#hide\n",
    "\n",
    "# FETCH\n",
    "base_url = 'https://raw.githubusercontent.com/pratapvardhan/notebooks/master/covid19/'\n",
    "paths = {\n",
    "    'mapping': base_url + 'mapping_countries.csv',\n",
    "    'overview': base_url + 'overview.tpl'\n",
    "}"
   ]
  },
  {
   "cell_type": "code",
   "execution_count": 3,
   "id": "dynamic-saver",
   "metadata": {
    "execution": {
     "iopub.execute_input": "2021-11-09T12:11:49.379336Z",
     "iopub.status.busy": "2021-11-09T12:11:49.378808Z",
     "iopub.status.idle": "2021-11-09T12:11:49.381841Z",
     "shell.execute_reply": "2021-11-09T12:11:49.381375Z"
    },
    "papermill": {
     "duration": 0.042447,
     "end_time": "2021-11-09T12:11:49.381953",
     "exception": false,
     "start_time": "2021-11-09T12:11:49.339506",
     "status": "completed"
    },
    "tags": []
   },
   "outputs": [
    {
     "data": {
      "text/plain": [
       "'https://raw.githubusercontent.com/pratapvardhan/notebooks/master/covid19/mapping_countries.csv'"
      ]
     },
     "execution_count": 3,
     "metadata": {},
     "output_type": "execute_result"
    }
   ],
   "source": [
    "#hide\n",
    "paths['mapping']"
   ]
  },
  {
   "cell_type": "code",
   "execution_count": 4,
   "id": "urban-software",
   "metadata": {
    "execution": {
     "iopub.execute_input": "2021-11-09T12:11:49.446059Z",
     "iopub.status.busy": "2021-11-09T12:11:49.445548Z",
     "iopub.status.idle": "2021-11-09T12:11:49.447384Z",
     "shell.execute_reply": "2021-11-09T12:11:49.447856Z"
    },
    "papermill": {
     "duration": 0.036356,
     "end_time": "2021-11-09T12:11:49.447978",
     "exception": false,
     "start_time": "2021-11-09T12:11:49.411622",
     "status": "completed"
    },
    "tags": []
   },
   "outputs": [],
   "source": [
    "#hide\n",
    "def get_mappings(url):\n",
    "    df = pd.read_csv(url)\n",
    "    return {\n",
    "        'df': df,\n",
    "        'replace.country': dict(df.dropna(subset=['Name']).set_index('Country')['Name']),\n",
    "        'map.continent': dict(df.set_index('Name')['Continent'])\n",
    "    }"
   ]
  },
  {
   "cell_type": "code",
   "execution_count": 5,
   "id": "intimate-machinery",
   "metadata": {
    "execution": {
     "iopub.execute_input": "2021-11-09T12:11:49.512088Z",
     "iopub.status.busy": "2021-11-09T12:11:49.511589Z",
     "iopub.status.idle": "2021-11-09T12:11:49.570422Z",
     "shell.execute_reply": "2021-11-09T12:11:49.569948Z"
    },
    "papermill": {
     "duration": 0.092989,
     "end_time": "2021-11-09T12:11:49.570544",
     "exception": false,
     "start_time": "2021-11-09T12:11:49.477555",
     "status": "completed"
    },
    "tags": []
   },
   "outputs": [],
   "source": [
    "#hide\n",
    "mapping = get_mappings(paths['mapping'])"
   ]
  },
  {
   "cell_type": "code",
   "execution_count": 6,
   "id": "certified-tactics",
   "metadata": {
    "execution": {
     "iopub.execute_input": "2021-11-09T12:11:49.635836Z",
     "iopub.status.busy": "2021-11-09T12:11:49.635252Z",
     "iopub.status.idle": "2021-11-09T12:11:49.637326Z",
     "shell.execute_reply": "2021-11-09T12:11:49.636756Z"
    },
    "papermill": {
     "duration": 0.036186,
     "end_time": "2021-11-09T12:11:49.637462",
     "exception": false,
     "start_time": "2021-11-09T12:11:49.601276",
     "status": "completed"
    },
    "tags": []
   },
   "outputs": [],
   "source": [
    "#hide\n",
    "def get_template(path):\n",
    "    from urllib.parse import urlparse\n",
    "    if bool(urlparse(path).netloc):\n",
    "        from urllib.request import urlopen\n",
    "        return urlopen(path).read().decode('utf8')\n",
    "    return open(path).read()"
   ]
  },
  {
   "cell_type": "code",
   "execution_count": 7,
   "id": "realistic-blast",
   "metadata": {
    "execution": {
     "iopub.execute_input": "2021-11-09T12:11:49.694780Z",
     "iopub.status.busy": "2021-11-09T12:11:49.694201Z",
     "iopub.status.idle": "2021-11-09T12:11:49.696967Z",
     "shell.execute_reply": "2021-11-09T12:11:49.696447Z"
    },
    "papermill": {
     "duration": 0.033235,
     "end_time": "2021-11-09T12:11:49.697087",
     "exception": false,
     "start_time": "2021-11-09T12:11:49.663852",
     "status": "completed"
    },
    "tags": []
   },
   "outputs": [],
   "source": [
    "#hide\n",
    "def get_frame(name):\n",
    "    url = (\n",
    "        'https://raw.githubusercontent.com/CSSEGISandData/COVID-19/master/csse_covid_19_data/'\n",
    "        f'csse_covid_19_time_series/time_series_covid19_{name}_global.csv')\n",
    "    df = pd.read_csv(url)\n",
    "    # rename countries\n",
    "    df['Country/Region'] = df['Country/Region'].replace(mapping['replace.country'])\n",
    "    return df"
   ]
  },
  {
   "cell_type": "code",
   "execution_count": 8,
   "id": "affiliated-characterization",
   "metadata": {
    "execution": {
     "iopub.execute_input": "2021-11-09T12:11:49.762417Z",
     "iopub.status.busy": "2021-11-09T12:11:49.761956Z",
     "iopub.status.idle": "2021-11-09T12:11:49.764022Z",
     "shell.execute_reply": "2021-11-09T12:11:49.763640Z"
    },
    "papermill": {
     "duration": 0.037086,
     "end_time": "2021-11-09T12:11:49.764114",
     "exception": false,
     "start_time": "2021-11-09T12:11:49.727028",
     "status": "completed"
    },
    "tags": []
   },
   "outputs": [],
   "source": [
    "#hide\n",
    "def get_dates(df):\n",
    "    dt_cols = df.columns[~df.columns.isin(['Province/State', 'Country/Region', 'Lat', 'Long'])]\n",
    "    LAST_DATE_I = -1\n",
    "    # sometimes last column may be empty, then go backwards\n",
    "    for i in range(-1, -len(dt_cols), -1):\n",
    "        if not df[dt_cols[i]].fillna(0).eq(0).all():\n",
    "            LAST_DATE_I = i\n",
    "            break\n",
    "    return LAST_DATE_I, dt_cols"
   ]
  },
  {
   "cell_type": "code",
   "execution_count": 9,
   "id": "recent-optimization",
   "metadata": {
    "execution": {
     "iopub.execute_input": "2021-11-09T12:11:49.820448Z",
     "iopub.status.busy": "2021-11-09T12:11:49.819996Z",
     "iopub.status.idle": "2021-11-09T12:11:50.315745Z",
     "shell.execute_reply": "2021-11-09T12:11:50.315278Z"
    },
    "papermill": {
     "duration": 0.525684,
     "end_time": "2021-11-09T12:11:50.315859",
     "exception": false,
     "start_time": "2021-11-09T12:11:49.790175",
     "status": "completed"
    },
    "tags": []
   },
   "outputs": [],
   "source": [
    "#hide\n",
    "COL_REGION = 'Country/Region'\n",
    "# Confirmed, Recovered, Deaths\n",
    "df = get_frame('confirmed')\n",
    "# dft_: timeseries, dfc_: today country agg\n",
    "dft_cases = df\n",
    "dft_deaths = get_frame('deaths')\n",
    "dft_recovered = get_frame('recovered')\n",
    "LAST_DATE_I, dt_cols = get_dates(df)"
   ]
  },
  {
   "cell_type": "code",
   "execution_count": 10,
   "id": "absolute-copper",
   "metadata": {
    "execution": {
     "iopub.execute_input": "2021-11-09T12:11:50.374696Z",
     "iopub.status.busy": "2021-11-09T12:11:50.374165Z",
     "iopub.status.idle": "2021-11-09T12:11:50.377717Z",
     "shell.execute_reply": "2021-11-09T12:11:50.378127Z"
    },
    "papermill": {
     "duration": 0.03542,
     "end_time": "2021-11-09T12:11:50.378261",
     "exception": false,
     "start_time": "2021-11-09T12:11:50.342841",
     "status": "completed"
    },
    "tags": []
   },
   "outputs": [],
   "source": [
    "#hide\n",
    "LAST_DATE_I, dt_cols = get_dates(df)\n",
    "dt_today =dt_cols[LAST_DATE_I]\n",
    "# dt_5day = dt_cols[LAST_DATE_I - 5]\n",
    "dt_yday = dt_cols[LAST_DATE_I - 1]"
   ]
  },
  {
   "cell_type": "code",
   "execution_count": 11,
   "id": "restricted-sheriff",
   "metadata": {
    "execution": {
     "iopub.execute_input": "2021-11-09T12:11:50.442589Z",
     "iopub.status.busy": "2021-11-09T12:11:50.442085Z",
     "iopub.status.idle": "2021-11-09T12:11:50.448113Z",
     "shell.execute_reply": "2021-11-09T12:11:50.448538Z"
    },
    "papermill": {
     "duration": 0.040841,
     "end_time": "2021-11-09T12:11:50.448658",
     "exception": false,
     "start_time": "2021-11-09T12:11:50.407817",
     "status": "completed"
    },
    "tags": []
   },
   "outputs": [],
   "source": [
    "#hide\n",
    "dfc_cases = dft_cases.groupby(COL_REGION)[dt_today].sum()\n",
    "dfc_deaths = dft_deaths.groupby(COL_REGION)[dt_today].sum()\n",
    "# dfp_cases = dft_cases.groupby(COL_REGION)[dt_5day].sum()\n",
    "# dfp_deaths = dft_deaths.groupby(COL_REGION)[dt_5day].sum()\n",
    "dfp_cases = dft_cases.groupby(COL_REGION)[dt_yday].sum()\n",
    "dfp_deaths = dft_deaths.groupby(COL_REGION)[dt_yday].sum()"
   ]
  },
  {
   "cell_type": "code",
   "execution_count": 12,
   "id": "deluxe-hepatitis",
   "metadata": {
    "execution": {
     "iopub.execute_input": "2021-11-09T12:11:50.513225Z",
     "iopub.status.busy": "2021-11-09T12:11:50.512726Z",
     "iopub.status.idle": "2021-11-09T12:11:50.517105Z",
     "shell.execute_reply": "2021-11-09T12:11:50.517602Z"
    },
    "papermill": {
     "duration": 0.039314,
     "end_time": "2021-11-09T12:11:50.517719",
     "exception": false,
     "start_time": "2021-11-09T12:11:50.478405",
     "status": "completed"
    },
    "tags": []
   },
   "outputs": [],
   "source": [
    "#hide\n",
    "df_table = (pd.DataFrame(dict(Cases = dfc_cases, Deaths = dfc_deaths, PCases = dfp_cases, PDeaths = dfp_deaths))\n",
    "            .sort_values(by = ['Cases','Deaths'], ascending = [False, False])\n",
    "            .reset_index())"
   ]
  },
  {
   "cell_type": "code",
   "execution_count": 13,
   "id": "educational-chancellor",
   "metadata": {
    "execution": {
     "iopub.execute_input": "2021-11-09T12:11:50.593016Z",
     "iopub.status.busy": "2021-11-09T12:11:50.592558Z",
     "iopub.status.idle": "2021-11-09T12:11:50.600383Z",
     "shell.execute_reply": "2021-11-09T12:11:50.600811Z"
    },
    "papermill": {
     "duration": 0.053859,
     "end_time": "2021-11-09T12:11:50.600918",
     "exception": false,
     "start_time": "2021-11-09T12:11:50.547059",
     "status": "completed"
    },
    "tags": []
   },
   "outputs": [
    {
     "data": {
      "text/html": [
       "<div>\n",
       "<style scoped>\n",
       "    .dataframe tbody tr th:only-of-type {\n",
       "        vertical-align: middle;\n",
       "    }\n",
       "\n",
       "    .dataframe tbody tr th {\n",
       "        vertical-align: top;\n",
       "    }\n",
       "\n",
       "    .dataframe thead th {\n",
       "        text-align: right;\n",
       "    }\n",
       "</style>\n",
       "<table border=\"1\" class=\"dataframe\">\n",
       "  <thead>\n",
       "    <tr style=\"text-align: right;\">\n",
       "      <th></th>\n",
       "      <th>Country/Region</th>\n",
       "      <th>Cases</th>\n",
       "      <th>Deaths</th>\n",
       "      <th>PCases</th>\n",
       "      <th>PDeaths</th>\n",
       "      <th>Cases (+)</th>\n",
       "      <th>Deaths (+)</th>\n",
       "      <th>Fatality Rate</th>\n",
       "      <th>Continent</th>\n",
       "    </tr>\n",
       "  </thead>\n",
       "  <tbody>\n",
       "    <tr>\n",
       "      <th>0</th>\n",
       "      <td>US</td>\n",
       "      <td>46613141</td>\n",
       "      <td>755636</td>\n",
       "      <td>46487791</td>\n",
       "      <td>754429</td>\n",
       "      <td>125350</td>\n",
       "      <td>1207</td>\n",
       "      <td>1.62</td>\n",
       "      <td>North America</td>\n",
       "    </tr>\n",
       "    <tr>\n",
       "      <th>1</th>\n",
       "      <td>India</td>\n",
       "      <td>34377113</td>\n",
       "      <td>461389</td>\n",
       "      <td>34366987</td>\n",
       "      <td>461057</td>\n",
       "      <td>10126</td>\n",
       "      <td>332</td>\n",
       "      <td>1.34</td>\n",
       "      <td>Asia</td>\n",
       "    </tr>\n",
       "    <tr>\n",
       "      <th>2</th>\n",
       "      <td>Brazil</td>\n",
       "      <td>21886077</td>\n",
       "      <td>609573</td>\n",
       "      <td>21880439</td>\n",
       "      <td>609447</td>\n",
       "      <td>5638</td>\n",
       "      <td>126</td>\n",
       "      <td>2.79</td>\n",
       "      <td>South America</td>\n",
       "    </tr>\n",
       "    <tr>\n",
       "      <th>3</th>\n",
       "      <td>United Kingdom</td>\n",
       "      <td>9379286</td>\n",
       "      <td>142293</td>\n",
       "      <td>9346961</td>\n",
       "      <td>142236</td>\n",
       "      <td>32325</td>\n",
       "      <td>57</td>\n",
       "      <td>1.52</td>\n",
       "      <td>Europe</td>\n",
       "    </tr>\n",
       "    <tr>\n",
       "      <th>4</th>\n",
       "      <td>Russia</td>\n",
       "      <td>8689818</td>\n",
       "      <td>243405</td>\n",
       "      <td>8651561</td>\n",
       "      <td>242241</td>\n",
       "      <td>38257</td>\n",
       "      <td>1164</td>\n",
       "      <td>2.80</td>\n",
       "      <td>Europe</td>\n",
       "    </tr>\n",
       "  </tbody>\n",
       "</table>\n",
       "</div>"
      ],
      "text/plain": [
       "   Country/Region     Cases  Deaths    PCases  PDeaths  Cases (+)  Deaths (+)  \\\n",
       "0              US  46613141  755636  46487791   754429     125350        1207   \n",
       "1           India  34377113  461389  34366987   461057      10126         332   \n",
       "2          Brazil  21886077  609573  21880439   609447       5638         126   \n",
       "3  United Kingdom   9379286  142293   9346961   142236      32325          57   \n",
       "4          Russia   8689818  243405   8651561   242241      38257        1164   \n",
       "\n",
       "   Fatality Rate      Continent  \n",
       "0           1.62  North America  \n",
       "1           1.34           Asia  \n",
       "2           2.79  South America  \n",
       "3           1.52         Europe  \n",
       "4           2.80         Europe  "
      ]
     },
     "execution_count": 13,
     "metadata": {},
     "output_type": "execute_result"
    }
   ],
   "source": [
    "#hide\n",
    "for c in 'Cases, Deaths'.split(', '):\n",
    "    df_table[f'{c} (+)'] = (df_table[c] - df_table[f'P{c}']).clip(0)\n",
    "    #Clip ça veut dire, les chiffres negatif sont interdit\n",
    "df_table['Fatality Rate'] = (100* df_table['Deaths']/ df_table['Cases']).round(2)\n",
    "df_table['Continent'] = df_table['Country/Region'].map(mapping['map.continent'])\n",
    "df_table.head(5)"
   ]
  },
  {
   "cell_type": "code",
   "execution_count": 14,
   "id": "aboriginal-bulgaria",
   "metadata": {
    "execution": {
     "iopub.execute_input": "2021-11-09T12:11:50.659074Z",
     "iopub.status.busy": "2021-11-09T12:11:50.658466Z",
     "iopub.status.idle": "2021-11-09T12:11:50.662291Z",
     "shell.execute_reply": "2021-11-09T12:11:50.661931Z"
    },
    "papermill": {
     "duration": 0.03483,
     "end_time": "2021-11-09T12:11:50.662384",
     "exception": false,
     "start_time": "2021-11-09T12:11:50.627554",
     "status": "completed"
    },
    "tags": []
   },
   "outputs": [],
   "source": [
    "#hide\n",
    "#delete problematic countries from table\n",
    "df_table = df_table[~df_table['Country/Region'].isin(['Cape Verde', 'Cruise Ship', 'Kosovo'])]"
   ]
  },
  {
   "cell_type": "code",
   "execution_count": 15,
   "id": "fantastic-effect",
   "metadata": {
    "execution": {
     "iopub.execute_input": "2021-11-09T12:11:50.722371Z",
     "iopub.status.busy": "2021-11-09T12:11:50.721312Z",
     "iopub.status.idle": "2021-11-09T12:11:50.738119Z",
     "shell.execute_reply": "2021-11-09T12:11:50.738681Z"
    },
    "papermill": {
     "duration": 0.050015,
     "end_time": "2021-11-09T12:11:50.738791",
     "exception": false,
     "start_time": "2021-11-09T12:11:50.688776",
     "status": "completed"
    },
    "tags": []
   },
   "outputs": [
    {
     "data": {
      "text/html": [
       "<div>\n",
       "<style scoped>\n",
       "    .dataframe tbody tr th:only-of-type {\n",
       "        vertical-align: middle;\n",
       "    }\n",
       "\n",
       "    .dataframe tbody tr th {\n",
       "        vertical-align: top;\n",
       "    }\n",
       "\n",
       "    .dataframe thead th {\n",
       "        text-align: right;\n",
       "    }\n",
       "</style>\n",
       "<table border=\"1\" class=\"dataframe\">\n",
       "  <thead>\n",
       "    <tr style=\"text-align: right;\">\n",
       "      <th></th>\n",
       "      <th>Country/Region</th>\n",
       "      <th>Cases</th>\n",
       "      <th>Deaths</th>\n",
       "      <th>PCases</th>\n",
       "      <th>PDeaths</th>\n",
       "      <th>Cases (+)</th>\n",
       "      <th>Deaths (+)</th>\n",
       "      <th>Fatality Rate</th>\n",
       "      <th>Continent</th>\n",
       "    </tr>\n",
       "  </thead>\n",
       "  <tbody>\n",
       "    <tr>\n",
       "      <th>0</th>\n",
       "      <td>US</td>\n",
       "      <td>46613141</td>\n",
       "      <td>755636</td>\n",
       "      <td>46487791</td>\n",
       "      <td>754429</td>\n",
       "      <td>125350</td>\n",
       "      <td>1207</td>\n",
       "      <td>1.6</td>\n",
       "      <td>North America</td>\n",
       "    </tr>\n",
       "    <tr>\n",
       "      <th>1</th>\n",
       "      <td>India</td>\n",
       "      <td>34377113</td>\n",
       "      <td>461389</td>\n",
       "      <td>34366987</td>\n",
       "      <td>461057</td>\n",
       "      <td>10126</td>\n",
       "      <td>332</td>\n",
       "      <td>1.3</td>\n",
       "      <td>Asia</td>\n",
       "    </tr>\n",
       "    <tr>\n",
       "      <th>2</th>\n",
       "      <td>Brazil</td>\n",
       "      <td>21886077</td>\n",
       "      <td>609573</td>\n",
       "      <td>21880439</td>\n",
       "      <td>609447</td>\n",
       "      <td>5638</td>\n",
       "      <td>126</td>\n",
       "      <td>2.8</td>\n",
       "      <td>South America</td>\n",
       "    </tr>\n",
       "    <tr>\n",
       "      <th>3</th>\n",
       "      <td>United Kingdom</td>\n",
       "      <td>9379286</td>\n",
       "      <td>142293</td>\n",
       "      <td>9346961</td>\n",
       "      <td>142236</td>\n",
       "      <td>32325</td>\n",
       "      <td>57</td>\n",
       "      <td>1.5</td>\n",
       "      <td>Europe</td>\n",
       "    </tr>\n",
       "    <tr>\n",
       "      <th>4</th>\n",
       "      <td>Russia</td>\n",
       "      <td>8689818</td>\n",
       "      <td>243405</td>\n",
       "      <td>8651561</td>\n",
       "      <td>242241</td>\n",
       "      <td>38257</td>\n",
       "      <td>1164</td>\n",
       "      <td>2.8</td>\n",
       "      <td>Europe</td>\n",
       "    </tr>\n",
       "  </tbody>\n",
       "</table>\n",
       "</div>"
      ],
      "text/plain": [
       "   Country/Region     Cases  Deaths    PCases  PDeaths  Cases (+)  Deaths (+)  \\\n",
       "0              US  46613141  755636  46487791   754429     125350        1207   \n",
       "1           India  34377113  461389  34366987   461057      10126         332   \n",
       "2          Brazil  21886077  609573  21880439   609447       5638         126   \n",
       "3  United Kingdom   9379286  142293   9346961   142236      32325          57   \n",
       "4          Russia   8689818  243405   8651561   242241      38257        1164   \n",
       "\n",
       "   Fatality Rate      Continent  \n",
       "0            1.6  North America  \n",
       "1            1.3           Asia  \n",
       "2            2.8  South America  \n",
       "3            1.5         Europe  \n",
       "4            2.8         Europe  "
      ]
     },
     "execution_count": 15,
     "metadata": {},
     "output_type": "execute_result"
    }
   ],
   "source": [
    "#hide\n",
    "df_table = (pd.DataFrame(dict(Cases=dfc_cases, Deaths=dfc_deaths, PCases=dfp_cases, PDeaths=dfp_deaths))\n",
    "             .sort_values(by=['Cases', 'Deaths'], ascending=[False, False])\n",
    "             .reset_index())\n",
    "df_table.rename(columns={'index': 'Country/Region'}, inplace=True)\n",
    "for c in 'Cases, Deaths'.split(', '):\n",
    "    df_table[f'{c} (+)'] = (df_table[c] - df_table[f'P{c}']).clip(0)  # DATA BUG\n",
    "df_table['Fatality Rate'] = (100 * df_table['Deaths'] / df_table['Cases']).round(1)\n",
    "df_table['Continent'] = df_table['Country/Region'].map(mapping['map.continent'])\n",
    "df_table.head(5)"
   ]
  },
  {
   "cell_type": "code",
   "execution_count": 16,
   "id": "fewer-occasion",
   "metadata": {
    "execution": {
     "iopub.execute_input": "2021-11-09T12:11:50.797602Z",
     "iopub.status.busy": "2021-11-09T12:11:50.797133Z",
     "iopub.status.idle": "2021-11-09T12:11:50.799579Z",
     "shell.execute_reply": "2021-11-09T12:11:50.799223Z"
    },
    "papermill": {
     "duration": 0.033941,
     "end_time": "2021-11-09T12:11:50.799670",
     "exception": false,
     "start_time": "2021-11-09T12:11:50.765729",
     "status": "completed"
    },
    "tags": []
   },
   "outputs": [],
   "source": [
    "#hide\n",
    "#delete problematic countries from table\n",
    "df_table = df_table[~df_table['Country/Region'].isin(['Cape Verde', 'Cruise Ship', 'Kosovo'])]"
   ]
  },
  {
   "cell_type": "code",
   "execution_count": 17,
   "id": "related-center",
   "metadata": {
    "execution": {
     "iopub.execute_input": "2021-11-09T12:11:50.868178Z",
     "iopub.status.busy": "2021-11-09T12:11:50.867720Z",
     "iopub.status.idle": "2021-11-09T12:11:50.869535Z",
     "shell.execute_reply": "2021-11-09T12:11:50.869900Z"
    },
    "papermill": {
     "duration": 0.043643,
     "end_time": "2021-11-09T12:11:50.870005",
     "exception": false,
     "start_time": "2021-11-09T12:11:50.826362",
     "status": "completed"
    },
    "tags": []
   },
   "outputs": [],
   "source": [
    "#hide\n",
    "metrics = [df_table.columns[index] for index in [1,2,5,6]]\n",
    "# s_china = df_table[df_table['Country/Region'].eq('China')][metrics].sum().add_prefix('China ')\n",
    "s_us = df_table[df_table['Country/Region'].eq('US')][metrics].sum().add_prefix('US ')\n",
    "s_eu = df_table[df_table['Continent'].eq('Europe')][metrics].sum().add_prefix('EU ')\n",
    "s_ind = df_table[df_table['Country/Region'].eq('India')][metrics].sum().add_prefix('India ')\n",
    "summary = {'updated': pd.to_datetime(dt_today), 'since': pd.to_datetime(dt_yday)}\n",
    "summary = {'updated': pd.to_datetime(dt_today), 'since': pd.to_datetime(dt_yday)}\n",
    "summary = {**summary, **df_table[metrics].sum(), **s_ind, **s_us, **s_eu}"
   ]
  },
  {
   "cell_type": "code",
   "execution_count": 18,
   "id": "engaging-syndrome",
   "metadata": {
    "execution": {
     "iopub.execute_input": "2021-11-09T12:11:50.929869Z",
     "iopub.status.busy": "2021-11-09T12:11:50.927313Z",
     "iopub.status.idle": "2021-11-09T12:11:50.941398Z",
     "shell.execute_reply": "2021-11-09T12:11:50.940590Z"
    },
    "papermill": {
     "duration": 0.044727,
     "end_time": "2021-11-09T12:11:50.941516",
     "exception": false,
     "start_time": "2021-11-09T12:11:50.896789",
     "status": "completed"
    },
    "tags": []
   },
   "outputs": [],
   "source": [
    "#hide\n",
    "dft_ct_new_cases = dft_cases.groupby(COL_REGION)[dt_cols].sum().diff(axis=1).fillna(0).astype(int)"
   ]
  },
  {
   "cell_type": "code",
   "execution_count": 19,
   "id": "neutral-assignment",
   "metadata": {
    "execution": {
     "iopub.execute_input": "2021-11-09T12:11:50.999978Z",
     "iopub.status.busy": "2021-11-09T12:11:50.999466Z",
     "iopub.status.idle": "2021-11-09T12:11:51.001014Z",
     "shell.execute_reply": "2021-11-09T12:11:51.001430Z"
    },
    "papermill": {
     "duration": 0.033205,
     "end_time": "2021-11-09T12:11:51.001547",
     "exception": false,
     "start_time": "2021-11-09T12:11:50.968342",
     "status": "completed"
    },
    "tags": []
   },
   "outputs": [],
   "source": [
    "#hide\n",
    "everydaycases = dft_ct_new_cases.cumsum(axis=1)"
   ]
  },
  {
   "cell_type": "code",
   "execution_count": 20,
   "id": "parliamentary-calgary",
   "metadata": {
    "execution": {
     "iopub.execute_input": "2021-11-09T12:11:51.066348Z",
     "iopub.status.busy": "2021-11-09T12:11:51.065827Z",
     "iopub.status.idle": "2021-11-09T12:11:51.637865Z",
     "shell.execute_reply": "2021-11-09T12:11:51.637295Z"
    },
    "papermill": {
     "duration": 0.605984,
     "end_time": "2021-11-09T12:11:51.637996",
     "exception": false,
     "start_time": "2021-11-09T12:11:51.032012",
     "status": "completed"
    },
    "tags": []
   },
   "outputs": [],
   "source": [
    "#hide\n",
    "import pandas as pd\n",
    "import matplotlib.pyplot as plt\n",
    "import matplotlib.ticker as ticker\n",
    "import matplotlib.animation as animation\n",
    "from IPython.display import HTML"
   ]
  },
  {
   "cell_type": "code",
   "execution_count": 21,
   "id": "lasting-extraction",
   "metadata": {
    "execution": {
     "iopub.execute_input": "2021-11-09T12:11:51.704976Z",
     "iopub.status.busy": "2021-11-09T12:11:51.704390Z",
     "iopub.status.idle": "2021-11-09T12:11:51.709898Z",
     "shell.execute_reply": "2021-11-09T12:11:51.709473Z"
    },
    "papermill": {
     "duration": 0.041464,
     "end_time": "2021-11-09T12:11:51.710011",
     "exception": false,
     "start_time": "2021-11-09T12:11:51.668547",
     "status": "completed"
    },
    "tags": []
   },
   "outputs": [],
   "source": [
    "#hide\n",
    "t = everydaycases.stack()"
   ]
  },
  {
   "cell_type": "code",
   "execution_count": 22,
   "id": "premier-sleeve",
   "metadata": {
    "execution": {
     "iopub.execute_input": "2021-11-09T12:11:51.774928Z",
     "iopub.status.busy": "2021-11-09T12:11:51.774394Z",
     "iopub.status.idle": "2021-11-09T12:11:51.783014Z",
     "shell.execute_reply": "2021-11-09T12:11:51.783418Z"
    },
    "papermill": {
     "duration": 0.042959,
     "end_time": "2021-11-09T12:11:51.783539",
     "exception": false,
     "start_time": "2021-11-09T12:11:51.740580",
     "status": "completed"
    },
    "tags": []
   },
   "outputs": [],
   "source": [
    "#hide\n",
    "g = t.reset_index(['Country/Region'])"
   ]
  },
  {
   "cell_type": "code",
   "execution_count": 23,
   "id": "distributed-pittsburgh",
   "metadata": {
    "execution": {
     "iopub.execute_input": "2021-11-09T12:11:51.847882Z",
     "iopub.status.busy": "2021-11-09T12:11:51.847300Z",
     "iopub.status.idle": "2021-11-09T12:11:51.849343Z",
     "shell.execute_reply": "2021-11-09T12:11:51.848981Z"
    },
    "papermill": {
     "duration": 0.035722,
     "end_time": "2021-11-09T12:11:51.849458",
     "exception": false,
     "start_time": "2021-11-09T12:11:51.813736",
     "status": "completed"
    },
    "tags": []
   },
   "outputs": [],
   "source": [
    "#hide\n",
    "g.index.name = 'date'"
   ]
  },
  {
   "cell_type": "code",
   "execution_count": 24,
   "id": "naked-donor",
   "metadata": {
    "execution": {
     "iopub.execute_input": "2021-11-09T12:11:51.906431Z",
     "iopub.status.busy": "2021-11-09T12:11:51.905843Z",
     "iopub.status.idle": "2021-11-09T12:11:51.909457Z",
     "shell.execute_reply": "2021-11-09T12:11:51.909904Z"
    },
    "papermill": {
     "duration": 0.033635,
     "end_time": "2021-11-09T12:11:51.910043",
     "exception": false,
     "start_time": "2021-11-09T12:11:51.876408",
     "status": "completed"
    },
    "tags": []
   },
   "outputs": [],
   "source": [
    "# #hide\n",
    "# g = g.reset_index(['date'])"
   ]
  },
  {
   "cell_type": "code",
   "execution_count": 25,
   "id": "incomplete-mustang",
   "metadata": {
    "execution": {
     "iopub.execute_input": "2021-11-09T12:11:51.974063Z",
     "iopub.status.busy": "2021-11-09T12:11:51.973477Z",
     "iopub.status.idle": "2021-11-09T12:11:51.975156Z",
     "shell.execute_reply": "2021-11-09T12:11:51.975590Z"
    },
    "papermill": {
     "duration": 0.035392,
     "end_time": "2021-11-09T12:11:51.975726",
     "exception": false,
     "start_time": "2021-11-09T12:11:51.940334",
     "status": "completed"
    },
    "tags": []
   },
   "outputs": [],
   "source": [
    "#hide\n",
    "# g.head()"
   ]
  },
  {
   "cell_type": "code",
   "execution_count": 26,
   "id": "specific-kruger",
   "metadata": {
    "execution": {
     "iopub.execute_input": "2021-11-09T12:11:52.034571Z",
     "iopub.status.busy": "2021-11-09T12:11:52.034066Z",
     "iopub.status.idle": "2021-11-09T12:11:52.037474Z",
     "shell.execute_reply": "2021-11-09T12:11:52.037861Z"
    },
    "papermill": {
     "duration": 0.033498,
     "end_time": "2021-11-09T12:11:52.037976",
     "exception": false,
     "start_time": "2021-11-09T12:11:52.004478",
     "status": "completed"
    },
    "tags": []
   },
   "outputs": [],
   "source": [
    "#hide\n",
    "# g.columns = ['date','country','cases']"
   ]
  },
  {
   "cell_type": "code",
   "execution_count": 27,
   "id": "tender-conversion",
   "metadata": {
    "execution": {
     "iopub.execute_input": "2021-11-09T12:11:52.101612Z",
     "iopub.status.busy": "2021-11-09T12:11:52.100997Z",
     "iopub.status.idle": "2021-11-09T12:11:52.103243Z",
     "shell.execute_reply": "2021-11-09T12:11:52.102774Z"
    },
    "papermill": {
     "duration": 0.035262,
     "end_time": "2021-11-09T12:11:52.103357",
     "exception": false,
     "start_time": "2021-11-09T12:11:52.068095",
     "status": "completed"
    },
    "tags": []
   },
   "outputs": [],
   "source": [
    "#hide\n",
    "# g['continent'] = g.country"
   ]
  },
  {
   "cell_type": "code",
   "execution_count": 28,
   "id": "substantial-wilderness",
   "metadata": {
    "execution": {
     "iopub.execute_input": "2021-11-09T12:11:52.160832Z",
     "iopub.status.busy": "2021-11-09T12:11:52.160255Z",
     "iopub.status.idle": "2021-11-09T12:11:52.162185Z",
     "shell.execute_reply": "2021-11-09T12:11:52.161616Z"
    },
    "papermill": {
     "duration": 0.031644,
     "end_time": "2021-11-09T12:11:52.162296",
     "exception": false,
     "start_time": "2021-11-09T12:11:52.130652",
     "status": "completed"
    },
    "tags": []
   },
   "outputs": [],
   "source": [
    "#hide\n",
    "# cols = list(g.columns.values)"
   ]
  },
  {
   "cell_type": "code",
   "execution_count": 29,
   "id": "solved-farming",
   "metadata": {
    "execution": {
     "iopub.execute_input": "2021-11-09T12:11:52.226729Z",
     "iopub.status.busy": "2021-11-09T12:11:52.226156Z",
     "iopub.status.idle": "2021-11-09T12:11:52.229525Z",
     "shell.execute_reply": "2021-11-09T12:11:52.229139Z"
    },
    "papermill": {
     "duration": 0.036593,
     "end_time": "2021-11-09T12:11:52.229621",
     "exception": false,
     "start_time": "2021-11-09T12:11:52.193028",
     "status": "completed"
    },
    "tags": []
   },
   "outputs": [],
   "source": [
    "#hide\n",
    "# cols.insert(0, cols.pop())"
   ]
  },
  {
   "cell_type": "code",
   "execution_count": 30,
   "id": "executed-adoption",
   "metadata": {
    "execution": {
     "iopub.execute_input": "2021-11-09T12:11:52.286910Z",
     "iopub.status.busy": "2021-11-09T12:11:52.286321Z",
     "iopub.status.idle": "2021-11-09T12:11:52.288248Z",
     "shell.execute_reply": "2021-11-09T12:11:52.287682Z"
    },
    "papermill": {
     "duration": 0.031937,
     "end_time": "2021-11-09T12:11:52.288363",
     "exception": false,
     "start_time": "2021-11-09T12:11:52.256426",
     "status": "completed"
    },
    "tags": []
   },
   "outputs": [],
   "source": [
    "#hide\n",
    "# g = g[cols]"
   ]
  },
  {
   "cell_type": "code",
   "execution_count": 31,
   "id": "subject-dublin",
   "metadata": {
    "execution": {
     "iopub.execute_input": "2021-11-09T12:11:52.351848Z",
     "iopub.status.busy": "2021-11-09T12:11:52.351382Z",
     "iopub.status.idle": "2021-11-09T12:11:52.353219Z",
     "shell.execute_reply": "2021-11-09T12:11:52.353589Z"
    },
    "papermill": {
     "duration": 0.035044,
     "end_time": "2021-11-09T12:11:52.353702",
     "exception": false,
     "start_time": "2021-11-09T12:11:52.318658",
     "status": "completed"
    },
    "tags": []
   },
   "outputs": [],
   "source": [
    "#hide\n",
    "# g['continent'] = g['continent'].map(mapping['map.continent'])"
   ]
  },
  {
   "cell_type": "code",
   "execution_count": 32,
   "id": "freelance-scout",
   "metadata": {
    "execution": {
     "iopub.execute_input": "2021-11-09T12:11:52.410846Z",
     "iopub.status.busy": "2021-11-09T12:11:52.410276Z",
     "iopub.status.idle": "2021-11-09T12:11:52.412164Z",
     "shell.execute_reply": "2021-11-09T12:11:52.411595Z"
    },
    "papermill": {
     "duration": 0.031544,
     "end_time": "2021-11-09T12:11:52.412262",
     "exception": false,
     "start_time": "2021-11-09T12:11:52.380718",
     "status": "completed"
    },
    "tags": []
   },
   "outputs": [],
   "source": [
    "#hide\n",
    "# g.head()"
   ]
  },
  {
   "cell_type": "code",
   "execution_count": 33,
   "id": "limited-engine",
   "metadata": {
    "execution": {
     "iopub.execute_input": "2021-11-09T12:11:52.476896Z",
     "iopub.status.busy": "2021-11-09T12:11:52.476322Z",
     "iopub.status.idle": "2021-11-09T12:11:52.478175Z",
     "shell.execute_reply": "2021-11-09T12:11:52.477611Z"
    },
    "papermill": {
     "duration": 0.035768,
     "end_time": "2021-11-09T12:11:52.478285",
     "exception": false,
     "start_time": "2021-11-09T12:11:52.442517",
     "status": "completed"
    },
    "tags": []
   },
   "outputs": [],
   "source": [
    "# hide\n",
    "# g['date'] = g['date'].astype('datetime64[ns]')"
   ]
  },
  {
   "cell_type": "code",
   "execution_count": 34,
   "id": "sophisticated-supervisor",
   "metadata": {
    "execution": {
     "iopub.execute_input": "2021-11-09T12:11:52.536635Z",
     "iopub.status.busy": "2021-11-09T12:11:52.536069Z",
     "iopub.status.idle": "2021-11-09T12:11:52.539262Z",
     "shell.execute_reply": "2021-11-09T12:11:52.539696Z"
    },
    "papermill": {
     "duration": 0.033035,
     "end_time": "2021-11-09T12:11:52.539823",
     "exception": false,
     "start_time": "2021-11-09T12:11:52.506788",
     "status": "completed"
    },
    "tags": []
   },
   "outputs": [],
   "source": [
    "#hide\n",
    "# g['date'] = g.date.dt.dayofyear"
   ]
  },
  {
   "cell_type": "code",
   "execution_count": 35,
   "id": "inside-dubai",
   "metadata": {
    "execution": {
     "iopub.execute_input": "2021-11-09T12:11:52.604346Z",
     "iopub.status.busy": "2021-11-09T12:11:52.603769Z",
     "iopub.status.idle": "2021-11-09T12:11:52.605630Z",
     "shell.execute_reply": "2021-11-09T12:11:52.605073Z"
    },
    "papermill": {
     "duration": 0.034927,
     "end_time": "2021-11-09T12:11:52.605726",
     "exception": false,
     "start_time": "2021-11-09T12:11:52.570799",
     "status": "completed"
    },
    "tags": []
   },
   "outputs": [],
   "source": [
    "#hide\n",
    "# g = g.rename(columns= {'continent':'group','country':'name','cases':'value'})"
   ]
  },
  {
   "cell_type": "code",
   "execution_count": 36,
   "id": "fleet-motorcycle",
   "metadata": {
    "execution": {
     "iopub.execute_input": "2021-11-09T12:11:52.662614Z",
     "iopub.status.busy": "2021-11-09T12:11:52.662036Z",
     "iopub.status.idle": "2021-11-09T12:11:52.663881Z",
     "shell.execute_reply": "2021-11-09T12:11:52.663333Z"
    },
    "papermill": {
     "duration": 0.031305,
     "end_time": "2021-11-09T12:11:52.663992",
     "exception": false,
     "start_time": "2021-11-09T12:11:52.632687",
     "status": "completed"
    },
    "tags": []
   },
   "outputs": [],
   "source": [
    "#hide\n",
    "# cols = ['name','group','day','value']"
   ]
  },
  {
   "cell_type": "code",
   "execution_count": 37,
   "id": "continued-sleeping",
   "metadata": {
    "execution": {
     "iopub.execute_input": "2021-11-09T12:11:52.728517Z",
     "iopub.status.busy": "2021-11-09T12:11:52.727940Z",
     "iopub.status.idle": "2021-11-09T12:11:52.731598Z",
     "shell.execute_reply": "2021-11-09T12:11:52.731235Z"
    },
    "papermill": {
     "duration": 0.036913,
     "end_time": "2021-11-09T12:11:52.731691",
     "exception": false,
     "start_time": "2021-11-09T12:11:52.694778",
     "status": "completed"
    },
    "tags": []
   },
   "outputs": [],
   "source": [
    "#hide\n",
    "# g.rename(columns= {'date':'day'},inplace = True)"
   ]
  },
  {
   "cell_type": "code",
   "execution_count": 38,
   "id": "major-fight",
   "metadata": {
    "execution": {
     "iopub.execute_input": "2021-11-09T12:11:52.788379Z",
     "iopub.status.busy": "2021-11-09T12:11:52.787807Z",
     "iopub.status.idle": "2021-11-09T12:11:52.789727Z",
     "shell.execute_reply": "2021-11-09T12:11:52.789138Z"
    },
    "papermill": {
     "duration": 0.031366,
     "end_time": "2021-11-09T12:11:52.789844",
     "exception": false,
     "start_time": "2021-11-09T12:11:52.758478",
     "status": "completed"
    },
    "tags": []
   },
   "outputs": [],
   "source": [
    "#hide\n",
    "# g = g[cols]"
   ]
  },
  {
   "cell_type": "code",
   "execution_count": 39,
   "id": "structured-mobile",
   "metadata": {
    "execution": {
     "iopub.execute_input": "2021-11-09T12:11:52.853562Z",
     "iopub.status.busy": "2021-11-09T12:11:52.852943Z",
     "iopub.status.idle": "2021-11-09T12:11:52.854784Z",
     "shell.execute_reply": "2021-11-09T12:11:52.854227Z"
    },
    "papermill": {
     "duration": 0.034721,
     "end_time": "2021-11-09T12:11:52.854890",
     "exception": false,
     "start_time": "2021-11-09T12:11:52.820169",
     "status": "completed"
    },
    "tags": []
   },
   "outputs": [],
   "source": [
    "# #hide\n",
    "# g = g[g.group.notna()]"
   ]
  },
  {
   "cell_type": "code",
   "execution_count": 40,
   "id": "determined-closing",
   "metadata": {
    "execution": {
     "iopub.execute_input": "2021-11-09T12:11:52.913363Z",
     "iopub.status.busy": "2021-11-09T12:11:52.912827Z",
     "iopub.status.idle": "2021-11-09T12:11:52.915753Z",
     "shell.execute_reply": "2021-11-09T12:11:52.916135Z"
    },
    "papermill": {
     "duration": 0.032959,
     "end_time": "2021-11-09T12:11:52.916248",
     "exception": false,
     "start_time": "2021-11-09T12:11:52.883289",
     "status": "completed"
    },
    "tags": []
   },
   "outputs": [],
   "source": [
    "# #hide\n",
    "# colors = dict(zip(\n",
    "#     [\"Oceania\", \"Europe\", \"Asia\", \"South America\", \"Middle East\", \"North America\", \"Africa\"],\n",
    "#     [\"#adb0ff\", \"#ffb3ff\", \"#90d595\", \"#e48381\", \"#aafbff\", \"#f7bb5f\", \"#eafb50\"]\n",
    "# ))\n",
    "# group_lk = g.set_index('name')['group'].to_dict()"
   ]
  },
  {
   "cell_type": "code",
   "execution_count": null,
   "id": "gross-drinking",
   "metadata": {
    "papermill": {
     "duration": 0.030215,
     "end_time": "2021-11-09T12:11:52.976881",
     "exception": false,
     "start_time": "2021-11-09T12:11:52.946666",
     "status": "completed"
    },
    "tags": []
   },
   "outputs": [],
   "source": []
  },
  {
   "cell_type": "code",
   "execution_count": 41,
   "id": "subject-macintosh",
   "metadata": {
    "execution": {
     "iopub.execute_input": "2021-11-09T12:11:53.042685Z",
     "iopub.status.busy": "2021-11-09T12:11:53.042077Z",
     "iopub.status.idle": "2021-11-09T12:11:53.043845Z",
     "shell.execute_reply": "2021-11-09T12:11:53.043285Z"
    },
    "papermill": {
     "duration": 0.036221,
     "end_time": "2021-11-09T12:11:53.043961",
     "exception": false,
     "start_time": "2021-11-09T12:11:53.007740",
     "status": "completed"
    },
    "tags": []
   },
   "outputs": [],
   "source": [
    "# #hide\n",
    "# fig, ax = plt.subplots(figsize=(15, 8))\n",
    "\n",
    "# def draw_barchart(current_day):\n",
    "#     dff = g[g['day'].eq(current_day)].sort_values(by='value', ascending=True).tail(10)\n",
    "#     ax.clear()\n",
    "#     ax.barh(dff['name'], dff['value'], color=[colors[group_lk[x]] for x in dff['name']])\n",
    "#     dx = dff['value'].max() / 200\n",
    "    \n",
    "#     for i, (value, name) in enumerate(zip(dff['value'], dff['name'])):\n",
    "#         ax.text(value-dx, i,     name,           size=14, weight=600, ha='right', va='bottom')\n",
    "#         ax.text(value-dx, i-.25, group_lk[name], size=10, color='#444444', ha='right', va='baseline')\n",
    "#         ax.text(value+dx, i,     f'{value:,.0f}',  size=14, ha='left',  va='center')\n",
    "#     ax.text(1, 0.4, current_day, transform=ax.transAxes, color='#777777', size=46, ha='right', weight=800)\n",
    "#     ax.text(0, 1.06, 'Population (thousands)', transform=ax.transAxes, size=12, color='#777777')\n",
    "#     ax.xaxis.set_major_formatter(ticker.StrMethodFormatter('{x:,.0f}'))\n",
    "#     ax.xaxis.set_ticks_position('top')\n",
    "#     ax.tick_params(axis='x', colors='#777777', labelsize=12)\n",
    "#     ax.set_yticks([])\n",
    "#     ax.margins(0, 0.01)\n",
    "#     ax.grid(which='major', axis='x', linestyle='-')\n",
    "#     ax.set_axisbelow(True)\n",
    "    \n",
    "#     ax.text(0, 1.15, 'Coronavirus',\n",
    "#             transform=ax.transAxes, size=24, weight=600, ha='left', va='top')\n",
    "# #     ax.text(1, 0, 'by @pratapvardhan; credit @jburnmurdoch', transform=ax.transAxes, color='#777777', ha='right',\n",
    "# #             bbox=dict(facecolor='white', alpha=0.8, edgecolor='white'))\n",
    "#     plt.box(False)"
   ]
  },
  {
   "cell_type": "code",
   "execution_count": 42,
   "id": "sexual-wages",
   "metadata": {
    "execution": {
     "iopub.execute_input": "2021-11-09T12:11:53.101341Z",
     "iopub.status.busy": "2021-11-09T12:11:53.100763Z",
     "iopub.status.idle": "2021-11-09T12:11:53.103944Z",
     "shell.execute_reply": "2021-11-09T12:11:53.104382Z"
    },
    "papermill": {
     "duration": 0.033352,
     "end_time": "2021-11-09T12:11:53.104519",
     "exception": false,
     "start_time": "2021-11-09T12:11:53.071167",
     "status": "completed"
    },
    "tags": []
   },
   "outputs": [],
   "source": [
    "# #hide_input\n",
    "# fig, ax = plt.subplots(figsize=(15, 8))\n",
    "# animator = animation.FuncAnimation(fig, draw_barchart, frames=range(g.day.values.min(), g.day.values.max()))\n",
    "# HTML(animator.to_jshtml())\n",
    "# # or use animator.to_html5_video() or animator.save() "
   ]
  },
  {
   "cell_type": "code",
   "execution_count": null,
   "id": "australian-container",
   "metadata": {
    "papermill": {
     "duration": 0.030144,
     "end_time": "2021-11-09T12:11:53.165450",
     "exception": false,
     "start_time": "2021-11-09T12:11:53.135306",
     "status": "completed"
    },
    "tags": []
   },
   "outputs": [],
   "source": []
  },
  {
   "cell_type": "code",
   "execution_count": null,
   "id": "mediterranean-pontiac",
   "metadata": {
    "papermill": {
     "duration": 0.030217,
     "end_time": "2021-11-09T12:11:53.225827",
     "exception": false,
     "start_time": "2021-11-09T12:11:53.195610",
     "status": "completed"
    },
    "tags": []
   },
   "outputs": [],
   "source": []
  },
  {
   "cell_type": "code",
   "execution_count": null,
   "id": "aging-legislature",
   "metadata": {
    "papermill": {
     "duration": 0.030247,
     "end_time": "2021-11-09T12:11:53.286582",
     "exception": false,
     "start_time": "2021-11-09T12:11:53.256335",
     "status": "completed"
    },
    "tags": []
   },
   "outputs": [],
   "source": []
  }
 ],
 "metadata": {
  "kernelspec": {
   "display_name": "Python 3",
   "language": "python",
   "name": "python3"
  },
  "language_info": {
   "codemirror_mode": {
    "name": "ipython",
    "version": 3
   },
   "file_extension": ".py",
   "mimetype": "text/x-python",
   "name": "python",
   "nbconvert_exporter": "python",
   "pygments_lexer": "ipython3",
   "version": "3.6.15"
  },
  "papermill": {
   "duration": 5.909214,
   "end_time": "2021-11-09T12:11:53.624066",
   "environment_variables": {},
   "exception": null,
   "input_path": "2020-03-21-covid19exp.ipynb",
   "output_path": "2020-03-21-covid19exp.ipynb",
   "parameters": {},
   "start_time": "2021-11-09T12:11:47.714852",
   "version": "2.0.0"
  }
 },
 "nbformat": 4,
 "nbformat_minor": 5
}