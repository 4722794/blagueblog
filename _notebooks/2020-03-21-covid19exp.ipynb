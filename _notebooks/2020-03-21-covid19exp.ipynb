{
 "cells": [
  {
   "cell_type": "markdown",
   "id": "muslim-click",
   "metadata": {
    "papermill": {
     "duration": 0.037463,
     "end_time": "2021-06-11T00:20:55.597698",
     "exception": false,
     "start_time": "2021-06-11T00:20:55.560235",
     "status": "completed"
    },
    "tags": []
   },
   "source": [
    "# COVID-19 Case Race\n",
    "> A race chart to see rising cases around the world\n",
    "\n",
    "- author: Hargun Oberoi\n",
    "- image: images/covid-overview.png\n",
    "- hide: false\n",
    "- badges: false"
   ]
  },
  {
   "cell_type": "code",
   "execution_count": 1,
   "id": "proof-material",
   "metadata": {
    "execution": {
     "iopub.execute_input": "2021-06-11T00:20:55.668754Z",
     "iopub.status.busy": "2021-06-11T00:20:55.668234Z",
     "iopub.status.idle": "2021-06-11T00:20:55.984983Z",
     "shell.execute_reply": "2021-06-11T00:20:55.984520Z"
    },
    "papermill": {
     "duration": 0.355976,
     "end_time": "2021-06-11T00:20:55.985113",
     "exception": false,
     "start_time": "2021-06-11T00:20:55.629137",
     "status": "completed"
    },
    "tags": []
   },
   "outputs": [],
   "source": [
    "#hide\n",
    "import numpy as np\n",
    "import pandas as pd\n",
    "from jinja2 import Template\n",
    "from IPython.display import HTML"
   ]
  },
  {
   "cell_type": "code",
   "execution_count": 2,
   "id": "developed-terminology",
   "metadata": {
    "execution": {
     "iopub.execute_input": "2021-06-11T00:20:56.057037Z",
     "iopub.status.busy": "2021-06-11T00:20:56.056551Z",
     "iopub.status.idle": "2021-06-11T00:20:56.059828Z",
     "shell.execute_reply": "2021-06-11T00:20:56.059357Z"
    },
    "papermill": {
     "duration": 0.04018,
     "end_time": "2021-06-11T00:20:56.059932",
     "exception": false,
     "start_time": "2021-06-11T00:20:56.019752",
     "status": "completed"
    },
    "tags": []
   },
   "outputs": [],
   "source": [
    "#hide\n",
    "\n",
    "# FETCH\n",
    "base_url = 'https://raw.githubusercontent.com/pratapvardhan/notebooks/master/covid19/'\n",
    "paths = {\n",
    "    'mapping': base_url + 'mapping_countries.csv',\n",
    "    'overview': base_url + 'overview.tpl'\n",
    "}"
   ]
  },
  {
   "cell_type": "code",
   "execution_count": 3,
   "id": "dynamic-saver",
   "metadata": {
    "execution": {
     "iopub.execute_input": "2021-06-11T00:20:56.122436Z",
     "iopub.status.busy": "2021-06-11T00:20:56.121934Z",
     "iopub.status.idle": "2021-06-11T00:20:56.123834Z",
     "shell.execute_reply": "2021-06-11T00:20:56.124261Z"
    },
    "papermill": {
     "duration": 0.037826,
     "end_time": "2021-06-11T00:20:56.124375",
     "exception": false,
     "start_time": "2021-06-11T00:20:56.086549",
     "status": "completed"
    },
    "tags": []
   },
   "outputs": [
    {
     "data": {
      "text/plain": [
       "'https://raw.githubusercontent.com/pratapvardhan/notebooks/master/covid19/mapping_countries.csv'"
      ]
     },
     "execution_count": 3,
     "metadata": {},
     "output_type": "execute_result"
    }
   ],
   "source": [
    "#hide\n",
    "paths['mapping']"
   ]
  },
  {
   "cell_type": "code",
   "execution_count": 4,
   "id": "urban-software",
   "metadata": {
    "execution": {
     "iopub.execute_input": "2021-06-11T00:20:56.184567Z",
     "iopub.status.busy": "2021-06-11T00:20:56.184113Z",
     "iopub.status.idle": "2021-06-11T00:20:56.186296Z",
     "shell.execute_reply": "2021-06-11T00:20:56.185906Z"
    },
    "papermill": {
     "duration": 0.035064,
     "end_time": "2021-06-11T00:20:56.186393",
     "exception": false,
     "start_time": "2021-06-11T00:20:56.151329",
     "status": "completed"
    },
    "tags": []
   },
   "outputs": [],
   "source": [
    "#hide\n",
    "def get_mappings(url):\n",
    "    df = pd.read_csv(url)\n",
    "    return {\n",
    "        'df': df,\n",
    "        'replace.country': dict(df.dropna(subset=['Name']).set_index('Country')['Name']),\n",
    "        'map.continent': dict(df.set_index('Name')['Continent'])\n",
    "    }"
   ]
  },
  {
   "cell_type": "code",
   "execution_count": 5,
   "id": "intimate-machinery",
   "metadata": {
    "execution": {
     "iopub.execute_input": "2021-06-11T00:20:56.245220Z",
     "iopub.status.busy": "2021-06-11T00:20:56.244770Z",
     "iopub.status.idle": "2021-06-11T00:20:56.274254Z",
     "shell.execute_reply": "2021-06-11T00:20:56.274742Z"
    },
    "papermill": {
     "duration": 0.061703,
     "end_time": "2021-06-11T00:20:56.274874",
     "exception": false,
     "start_time": "2021-06-11T00:20:56.213171",
     "status": "completed"
    },
    "tags": []
   },
   "outputs": [],
   "source": [
    "#hide\n",
    "mapping = get_mappings(paths['mapping'])"
   ]
  },
  {
   "cell_type": "code",
   "execution_count": 6,
   "id": "certified-tactics",
   "metadata": {
    "execution": {
     "iopub.execute_input": "2021-06-11T00:20:56.364501Z",
     "iopub.status.busy": "2021-06-11T00:20:56.363975Z",
     "iopub.status.idle": "2021-06-11T00:20:56.366008Z",
     "shell.execute_reply": "2021-06-11T00:20:56.365582Z"
    },
    "papermill": {
     "duration": 0.033677,
     "end_time": "2021-06-11T00:20:56.366113",
     "exception": false,
     "start_time": "2021-06-11T00:20:56.332436",
     "status": "completed"
    },
    "tags": []
   },
   "outputs": [],
   "source": [
    "#hide\n",
    "def get_template(path):\n",
    "    from urllib.parse import urlparse\n",
    "    if bool(urlparse(path).netloc):\n",
    "        from urllib.request import urlopen\n",
    "        return urlopen(path).read().decode('utf8')\n",
    "    return open(path).read()"
   ]
  },
  {
   "cell_type": "code",
   "execution_count": 7,
   "id": "realistic-blast",
   "metadata": {
    "execution": {
     "iopub.execute_input": "2021-06-11T00:20:56.432658Z",
     "iopub.status.busy": "2021-06-11T00:20:56.432149Z",
     "iopub.status.idle": "2021-06-11T00:20:56.434160Z",
     "shell.execute_reply": "2021-06-11T00:20:56.433721Z"
    },
    "papermill": {
     "duration": 0.035258,
     "end_time": "2021-06-11T00:20:56.434267",
     "exception": false,
     "start_time": "2021-06-11T00:20:56.399009",
     "status": "completed"
    },
    "tags": []
   },
   "outputs": [],
   "source": [
    "#hide\n",
    "def get_frame(name):\n",
    "    url = (\n",
    "        'https://raw.githubusercontent.com/CSSEGISandData/COVID-19/master/csse_covid_19_data/'\n",
    "        f'csse_covid_19_time_series/time_series_covid19_{name}_global.csv')\n",
    "    df = pd.read_csv(url)\n",
    "    # rename countries\n",
    "    df['Country/Region'] = df['Country/Region'].replace(mapping['replace.country'])\n",
    "    return df"
   ]
  },
  {
   "cell_type": "code",
   "execution_count": 8,
   "id": "affiliated-characterization",
   "metadata": {
    "execution": {
     "iopub.execute_input": "2021-06-11T00:20:56.500761Z",
     "iopub.status.busy": "2021-06-11T00:20:56.500257Z",
     "iopub.status.idle": "2021-06-11T00:20:56.502397Z",
     "shell.execute_reply": "2021-06-11T00:20:56.501992Z"
    },
    "papermill": {
     "duration": 0.037886,
     "end_time": "2021-06-11T00:20:56.502507",
     "exception": false,
     "start_time": "2021-06-11T00:20:56.464621",
     "status": "completed"
    },
    "tags": []
   },
   "outputs": [],
   "source": [
    "#hide\n",
    "def get_dates(df):\n",
    "    dt_cols = df.columns[~df.columns.isin(['Province/State', 'Country/Region', 'Lat', 'Long'])]\n",
    "    LAST_DATE_I = -1\n",
    "    # sometimes last column may be empty, then go backwards\n",
    "    for i in range(-1, -len(dt_cols), -1):\n",
    "        if not df[dt_cols[i]].fillna(0).eq(0).all():\n",
    "            LAST_DATE_I = i\n",
    "            break\n",
    "    return LAST_DATE_I, dt_cols"
   ]
  },
  {
   "cell_type": "code",
   "execution_count": 9,
   "id": "recent-optimization",
   "metadata": {
    "execution": {
     "iopub.execute_input": "2021-06-11T00:20:56.567604Z",
     "iopub.status.busy": "2021-06-11T00:20:56.567089Z",
     "iopub.status.idle": "2021-06-11T00:20:56.820537Z",
     "shell.execute_reply": "2021-06-11T00:20:56.819523Z"
    },
    "papermill": {
     "duration": 0.28813,
     "end_time": "2021-06-11T00:20:56.820664",
     "exception": false,
     "start_time": "2021-06-11T00:20:56.532534",
     "status": "completed"
    },
    "tags": []
   },
   "outputs": [],
   "source": [
    "#hide\n",
    "COL_REGION = 'Country/Region'\n",
    "# Confirmed, Recovered, Deaths\n",
    "df = get_frame('confirmed')\n",
    "# dft_: timeseries, dfc_: today country agg\n",
    "dft_cases = df\n",
    "dft_deaths = get_frame('deaths')\n",
    "dft_recovered = get_frame('recovered')\n",
    "LAST_DATE_I, dt_cols = get_dates(df)"
   ]
  },
  {
   "cell_type": "code",
   "execution_count": 10,
   "id": "absolute-copper",
   "metadata": {
    "execution": {
     "iopub.execute_input": "2021-06-11T00:20:56.886687Z",
     "iopub.status.busy": "2021-06-11T00:20:56.886088Z",
     "iopub.status.idle": "2021-06-11T00:20:56.887444Z",
     "shell.execute_reply": "2021-06-11T00:20:56.887950Z"
    },
    "papermill": {
     "duration": 0.036877,
     "end_time": "2021-06-11T00:20:56.888091",
     "exception": false,
     "start_time": "2021-06-11T00:20:56.851214",
     "status": "completed"
    },
    "tags": []
   },
   "outputs": [],
   "source": [
    "#hide\n",
    "LAST_DATE_I, dt_cols = get_dates(df)\n",
    "dt_today =dt_cols[LAST_DATE_I]\n",
    "# dt_5day = dt_cols[LAST_DATE_I - 5]\n",
    "dt_yday = dt_cols[LAST_DATE_I - 1]"
   ]
  },
  {
   "cell_type": "code",
   "execution_count": 11,
   "id": "restricted-sheriff",
   "metadata": {
    "execution": {
     "iopub.execute_input": "2021-06-11T00:20:56.946829Z",
     "iopub.status.busy": "2021-06-11T00:20:56.946381Z",
     "iopub.status.idle": "2021-06-11T00:20:56.953866Z",
     "shell.execute_reply": "2021-06-11T00:20:56.953421Z"
    },
    "papermill": {
     "duration": 0.039037,
     "end_time": "2021-06-11T00:20:56.953964",
     "exception": false,
     "start_time": "2021-06-11T00:20:56.914927",
     "status": "completed"
    },
    "tags": []
   },
   "outputs": [],
   "source": [
    "#hide\n",
    "dfc_cases = dft_cases.groupby(COL_REGION)[dt_today].sum()\n",
    "dfc_deaths = dft_deaths.groupby(COL_REGION)[dt_today].sum()\n",
    "# dfp_cases = dft_cases.groupby(COL_REGION)[dt_5day].sum()\n",
    "# dfp_deaths = dft_deaths.groupby(COL_REGION)[dt_5day].sum()\n",
    "dfp_cases = dft_cases.groupby(COL_REGION)[dt_yday].sum()\n",
    "dfp_deaths = dft_deaths.groupby(COL_REGION)[dt_yday].sum()"
   ]
  },
  {
   "cell_type": "code",
   "execution_count": 12,
   "id": "deluxe-hepatitis",
   "metadata": {
    "execution": {
     "iopub.execute_input": "2021-06-11T00:20:57.013539Z",
     "iopub.status.busy": "2021-06-11T00:20:57.013098Z",
     "iopub.status.idle": "2021-06-11T00:20:57.016977Z",
     "shell.execute_reply": "2021-06-11T00:20:57.016594Z"
    },
    "papermill": {
     "duration": 0.036208,
     "end_time": "2021-06-11T00:20:57.017073",
     "exception": false,
     "start_time": "2021-06-11T00:20:56.980865",
     "status": "completed"
    },
    "tags": []
   },
   "outputs": [],
   "source": [
    "#hide\n",
    "df_table = (pd.DataFrame(dict(Cases = dfc_cases, Deaths = dfc_deaths, PCases = dfp_cases, PDeaths = dfp_deaths))\n",
    "            .sort_values(by = ['Cases','Deaths'], ascending = [False, False])\n",
    "            .reset_index())"
   ]
  },
  {
   "cell_type": "code",
   "execution_count": 13,
   "id": "educational-chancellor",
   "metadata": {
    "execution": {
     "iopub.execute_input": "2021-06-11T00:20:57.089794Z",
     "iopub.status.busy": "2021-06-11T00:20:57.089324Z",
     "iopub.status.idle": "2021-06-11T00:20:57.097435Z",
     "shell.execute_reply": "2021-06-11T00:20:57.097072Z"
    },
    "papermill": {
     "duration": 0.053714,
     "end_time": "2021-06-11T00:20:57.097538",
     "exception": false,
     "start_time": "2021-06-11T00:20:57.043824",
     "status": "completed"
    },
    "tags": []
   },
   "outputs": [
    {
     "data": {
      "text/html": [
       "<div>\n",
       "<style scoped>\n",
       "    .dataframe tbody tr th:only-of-type {\n",
       "        vertical-align: middle;\n",
       "    }\n",
       "\n",
       "    .dataframe tbody tr th {\n",
       "        vertical-align: top;\n",
       "    }\n",
       "\n",
       "    .dataframe thead th {\n",
       "        text-align: right;\n",
       "    }\n",
       "</style>\n",
       "<table border=\"1\" class=\"dataframe\">\n",
       "  <thead>\n",
       "    <tr style=\"text-align: right;\">\n",
       "      <th></th>\n",
       "      <th>Country/Region</th>\n",
       "      <th>Cases</th>\n",
       "      <th>Deaths</th>\n",
       "      <th>PCases</th>\n",
       "      <th>PDeaths</th>\n",
       "      <th>Cases (+)</th>\n",
       "      <th>Deaths (+)</th>\n",
       "      <th>Fatality Rate</th>\n",
       "      <th>Continent</th>\n",
       "    </tr>\n",
       "  </thead>\n",
       "  <tbody>\n",
       "    <tr>\n",
       "      <th>0</th>\n",
       "      <td>US</td>\n",
       "      <td>33411893</td>\n",
       "      <td>598764</td>\n",
       "      <td>33393246</td>\n",
       "      <td>598332</td>\n",
       "      <td>18647</td>\n",
       "      <td>432</td>\n",
       "      <td>1.79</td>\n",
       "      <td>North America</td>\n",
       "    </tr>\n",
       "    <tr>\n",
       "      <th>1</th>\n",
       "      <td>India</td>\n",
       "      <td>29182532</td>\n",
       "      <td>355705</td>\n",
       "      <td>29089069</td>\n",
       "      <td>353528</td>\n",
       "      <td>93463</td>\n",
       "      <td>2177</td>\n",
       "      <td>1.22</td>\n",
       "      <td>Asia</td>\n",
       "    </tr>\n",
       "    <tr>\n",
       "      <th>2</th>\n",
       "      <td>Brazil</td>\n",
       "      <td>17122877</td>\n",
       "      <td>479515</td>\n",
       "      <td>17037129</td>\n",
       "      <td>476792</td>\n",
       "      <td>85748</td>\n",
       "      <td>2723</td>\n",
       "      <td>2.80</td>\n",
       "      <td>South America</td>\n",
       "    </tr>\n",
       "    <tr>\n",
       "      <th>3</th>\n",
       "      <td>France</td>\n",
       "      <td>5787125</td>\n",
       "      <td>110364</td>\n",
       "      <td>5781556</td>\n",
       "      <td>110299</td>\n",
       "      <td>5569</td>\n",
       "      <td>65</td>\n",
       "      <td>1.91</td>\n",
       "      <td>Europe</td>\n",
       "    </tr>\n",
       "    <tr>\n",
       "      <th>4</th>\n",
       "      <td>Turkey</td>\n",
       "      <td>5306690</td>\n",
       "      <td>48428</td>\n",
       "      <td>5300236</td>\n",
       "      <td>48341</td>\n",
       "      <td>6454</td>\n",
       "      <td>87</td>\n",
       "      <td>0.91</td>\n",
       "      <td>Asia</td>\n",
       "    </tr>\n",
       "  </tbody>\n",
       "</table>\n",
       "</div>"
      ],
      "text/plain": [
       "  Country/Region     Cases  Deaths    PCases  PDeaths  Cases (+)  Deaths (+)  \\\n",
       "0             US  33411893  598764  33393246   598332      18647         432   \n",
       "1          India  29182532  355705  29089069   353528      93463        2177   \n",
       "2         Brazil  17122877  479515  17037129   476792      85748        2723   \n",
       "3         France   5787125  110364   5781556   110299       5569          65   \n",
       "4         Turkey   5306690   48428   5300236    48341       6454          87   \n",
       "\n",
       "   Fatality Rate      Continent  \n",
       "0           1.79  North America  \n",
       "1           1.22           Asia  \n",
       "2           2.80  South America  \n",
       "3           1.91         Europe  \n",
       "4           0.91           Asia  "
      ]
     },
     "execution_count": 13,
     "metadata": {},
     "output_type": "execute_result"
    }
   ],
   "source": [
    "#hide\n",
    "for c in 'Cases, Deaths'.split(', '):\n",
    "    df_table[f'{c} (+)'] = (df_table[c] - df_table[f'P{c}']).clip(0)\n",
    "    #Clip ça veut dire, les chiffres negatif sont interdit\n",
    "df_table['Fatality Rate'] = (100* df_table['Deaths']/ df_table['Cases']).round(2)\n",
    "df_table['Continent'] = df_table['Country/Region'].map(mapping['map.continent'])\n",
    "df_table.head(5)"
   ]
  },
  {
   "cell_type": "code",
   "execution_count": 14,
   "id": "aboriginal-bulgaria",
   "metadata": {
    "execution": {
     "iopub.execute_input": "2021-06-11T00:20:57.157346Z",
     "iopub.status.busy": "2021-06-11T00:20:57.156902Z",
     "iopub.status.idle": "2021-06-11T00:20:57.159819Z",
     "shell.execute_reply": "2021-06-11T00:20:57.159440Z"
    },
    "papermill": {
     "duration": 0.035025,
     "end_time": "2021-06-11T00:20:57.159920",
     "exception": false,
     "start_time": "2021-06-11T00:20:57.124895",
     "status": "completed"
    },
    "tags": []
   },
   "outputs": [],
   "source": [
    "#hide\n",
    "#delete problematic countries from table\n",
    "df_table = df_table[~df_table['Country/Region'].isin(['Cape Verde', 'Cruise Ship', 'Kosovo'])]"
   ]
  },
  {
   "cell_type": "code",
   "execution_count": 15,
   "id": "fantastic-effect",
   "metadata": {
    "execution": {
     "iopub.execute_input": "2021-06-11T00:20:57.221595Z",
     "iopub.status.busy": "2021-06-11T00:20:57.221149Z",
     "iopub.status.idle": "2021-06-11T00:20:57.238361Z",
     "shell.execute_reply": "2021-06-11T00:20:57.238819Z"
    },
    "papermill": {
     "duration": 0.05215,
     "end_time": "2021-06-11T00:20:57.238958",
     "exception": false,
     "start_time": "2021-06-11T00:20:57.186808",
     "status": "completed"
    },
    "tags": []
   },
   "outputs": [
    {
     "data": {
      "text/html": [
       "<div>\n",
       "<style scoped>\n",
       "    .dataframe tbody tr th:only-of-type {\n",
       "        vertical-align: middle;\n",
       "    }\n",
       "\n",
       "    .dataframe tbody tr th {\n",
       "        vertical-align: top;\n",
       "    }\n",
       "\n",
       "    .dataframe thead th {\n",
       "        text-align: right;\n",
       "    }\n",
       "</style>\n",
       "<table border=\"1\" class=\"dataframe\">\n",
       "  <thead>\n",
       "    <tr style=\"text-align: right;\">\n",
       "      <th></th>\n",
       "      <th>Country/Region</th>\n",
       "      <th>Cases</th>\n",
       "      <th>Deaths</th>\n",
       "      <th>PCases</th>\n",
       "      <th>PDeaths</th>\n",
       "      <th>Cases (+)</th>\n",
       "      <th>Deaths (+)</th>\n",
       "      <th>Fatality Rate</th>\n",
       "      <th>Continent</th>\n",
       "    </tr>\n",
       "  </thead>\n",
       "  <tbody>\n",
       "    <tr>\n",
       "      <th>0</th>\n",
       "      <td>US</td>\n",
       "      <td>33411893</td>\n",
       "      <td>598764</td>\n",
       "      <td>33393246</td>\n",
       "      <td>598332</td>\n",
       "      <td>18647</td>\n",
       "      <td>432</td>\n",
       "      <td>1.8</td>\n",
       "      <td>North America</td>\n",
       "    </tr>\n",
       "    <tr>\n",
       "      <th>1</th>\n",
       "      <td>India</td>\n",
       "      <td>29182532</td>\n",
       "      <td>355705</td>\n",
       "      <td>29089069</td>\n",
       "      <td>353528</td>\n",
       "      <td>93463</td>\n",
       "      <td>2177</td>\n",
       "      <td>1.2</td>\n",
       "      <td>Asia</td>\n",
       "    </tr>\n",
       "    <tr>\n",
       "      <th>2</th>\n",
       "      <td>Brazil</td>\n",
       "      <td>17122877</td>\n",
       "      <td>479515</td>\n",
       "      <td>17037129</td>\n",
       "      <td>476792</td>\n",
       "      <td>85748</td>\n",
       "      <td>2723</td>\n",
       "      <td>2.8</td>\n",
       "      <td>South America</td>\n",
       "    </tr>\n",
       "    <tr>\n",
       "      <th>3</th>\n",
       "      <td>France</td>\n",
       "      <td>5787125</td>\n",
       "      <td>110364</td>\n",
       "      <td>5781556</td>\n",
       "      <td>110299</td>\n",
       "      <td>5569</td>\n",
       "      <td>65</td>\n",
       "      <td>1.9</td>\n",
       "      <td>Europe</td>\n",
       "    </tr>\n",
       "    <tr>\n",
       "      <th>4</th>\n",
       "      <td>Turkey</td>\n",
       "      <td>5306690</td>\n",
       "      <td>48428</td>\n",
       "      <td>5300236</td>\n",
       "      <td>48341</td>\n",
       "      <td>6454</td>\n",
       "      <td>87</td>\n",
       "      <td>0.9</td>\n",
       "      <td>Asia</td>\n",
       "    </tr>\n",
       "  </tbody>\n",
       "</table>\n",
       "</div>"
      ],
      "text/plain": [
       "  Country/Region     Cases  Deaths    PCases  PDeaths  Cases (+)  Deaths (+)  \\\n",
       "0             US  33411893  598764  33393246   598332      18647         432   \n",
       "1          India  29182532  355705  29089069   353528      93463        2177   \n",
       "2         Brazil  17122877  479515  17037129   476792      85748        2723   \n",
       "3         France   5787125  110364   5781556   110299       5569          65   \n",
       "4         Turkey   5306690   48428   5300236    48341       6454          87   \n",
       "\n",
       "   Fatality Rate      Continent  \n",
       "0            1.8  North America  \n",
       "1            1.2           Asia  \n",
       "2            2.8  South America  \n",
       "3            1.9         Europe  \n",
       "4            0.9           Asia  "
      ]
     },
     "execution_count": 15,
     "metadata": {},
     "output_type": "execute_result"
    }
   ],
   "source": [
    "#hide\n",
    "df_table = (pd.DataFrame(dict(Cases=dfc_cases, Deaths=dfc_deaths, PCases=dfp_cases, PDeaths=dfp_deaths))\n",
    "             .sort_values(by=['Cases', 'Deaths'], ascending=[False, False])\n",
    "             .reset_index())\n",
    "df_table.rename(columns={'index': 'Country/Region'}, inplace=True)\n",
    "for c in 'Cases, Deaths'.split(', '):\n",
    "    df_table[f'{c} (+)'] = (df_table[c] - df_table[f'P{c}']).clip(0)  # DATA BUG\n",
    "df_table['Fatality Rate'] = (100 * df_table['Deaths'] / df_table['Cases']).round(1)\n",
    "df_table['Continent'] = df_table['Country/Region'].map(mapping['map.continent'])\n",
    "df_table.head(5)"
   ]
  },
  {
   "cell_type": "code",
   "execution_count": 16,
   "id": "fewer-occasion",
   "metadata": {
    "execution": {
     "iopub.execute_input": "2021-06-11T00:20:57.301033Z",
     "iopub.status.busy": "2021-06-11T00:20:57.300581Z",
     "iopub.status.idle": "2021-06-11T00:20:57.302597Z",
     "shell.execute_reply": "2021-06-11T00:20:57.302218Z"
    },
    "papermill": {
     "duration": 0.034575,
     "end_time": "2021-06-11T00:20:57.302694",
     "exception": false,
     "start_time": "2021-06-11T00:20:57.268119",
     "status": "completed"
    },
    "tags": []
   },
   "outputs": [],
   "source": [
    "#hide\n",
    "#delete problematic countries from table\n",
    "df_table = df_table[~df_table['Country/Region'].isin(['Cape Verde', 'Cruise Ship', 'Kosovo'])]"
   ]
  },
  {
   "cell_type": "code",
   "execution_count": 17,
   "id": "related-center",
   "metadata": {
    "execution": {
     "iopub.execute_input": "2021-06-11T00:20:57.365705Z",
     "iopub.status.busy": "2021-06-11T00:20:57.365246Z",
     "iopub.status.idle": "2021-06-11T00:20:57.376518Z",
     "shell.execute_reply": "2021-06-11T00:20:57.376133Z"
    },
    "papermill": {
     "duration": 0.046541,
     "end_time": "2021-06-11T00:20:57.376618",
     "exception": false,
     "start_time": "2021-06-11T00:20:57.330077",
     "status": "completed"
    },
    "tags": []
   },
   "outputs": [],
   "source": [
    "#hide\n",
    "metrics = [df_table.columns[index] for index in [1,2,5,6]]\n",
    "# s_china = df_table[df_table['Country/Region'].eq('China')][metrics].sum().add_prefix('China ')\n",
    "s_us = df_table[df_table['Country/Region'].eq('US')][metrics].sum().add_prefix('US ')\n",
    "s_eu = df_table[df_table['Continent'].eq('Europe')][metrics].sum().add_prefix('EU ')\n",
    "s_ind = df_table[df_table['Country/Region'].eq('India')][metrics].sum().add_prefix('India ')\n",
    "summary = {'updated': pd.to_datetime(dt_today), 'since': pd.to_datetime(dt_yday)}\n",
    "summary = {'updated': pd.to_datetime(dt_today), 'since': pd.to_datetime(dt_yday)}\n",
    "summary = {**summary, **df_table[metrics].sum(), **s_ind, **s_us, **s_eu}"
   ]
  },
  {
   "cell_type": "code",
   "execution_count": 18,
   "id": "engaging-syndrome",
   "metadata": {
    "execution": {
     "iopub.execute_input": "2021-06-11T00:20:57.436248Z",
     "iopub.status.busy": "2021-06-11T00:20:57.435797Z",
     "iopub.status.idle": "2021-06-11T00:20:57.447260Z",
     "shell.execute_reply": "2021-06-11T00:20:57.446899Z"
    },
    "papermill": {
     "duration": 0.043173,
     "end_time": "2021-06-11T00:20:57.447362",
     "exception": false,
     "start_time": "2021-06-11T00:20:57.404189",
     "status": "completed"
    },
    "tags": []
   },
   "outputs": [],
   "source": [
    "#hide\n",
    "dft_ct_new_cases = dft_cases.groupby(COL_REGION)[dt_cols].sum().diff(axis=1).fillna(0).astype(int)"
   ]
  },
  {
   "cell_type": "code",
   "execution_count": 19,
   "id": "neutral-assignment",
   "metadata": {
    "execution": {
     "iopub.execute_input": "2021-06-11T00:20:57.507536Z",
     "iopub.status.busy": "2021-06-11T00:20:57.507088Z",
     "iopub.status.idle": "2021-06-11T00:20:57.509073Z",
     "shell.execute_reply": "2021-06-11T00:20:57.509452Z"
    },
    "papermill": {
     "duration": 0.034781,
     "end_time": "2021-06-11T00:20:57.509562",
     "exception": false,
     "start_time": "2021-06-11T00:20:57.474781",
     "status": "completed"
    },
    "tags": []
   },
   "outputs": [],
   "source": [
    "#hide\n",
    "everydaycases = dft_ct_new_cases.cumsum(axis=1)"
   ]
  },
  {
   "cell_type": "code",
   "execution_count": 20,
   "id": "parliamentary-calgary",
   "metadata": {
    "execution": {
     "iopub.execute_input": "2021-06-11T00:20:57.568037Z",
     "iopub.status.busy": "2021-06-11T00:20:57.567555Z",
     "iopub.status.idle": "2021-06-11T00:20:58.070396Z",
     "shell.execute_reply": "2021-06-11T00:20:58.069890Z"
    },
    "papermill": {
     "duration": 0.533679,
     "end_time": "2021-06-11T00:20:58.070528",
     "exception": false,
     "start_time": "2021-06-11T00:20:57.536849",
     "status": "completed"
    },
    "tags": []
   },
   "outputs": [],
   "source": [
    "#hide\n",
    "import pandas as pd\n",
    "import matplotlib.pyplot as plt\n",
    "import matplotlib.ticker as ticker\n",
    "import matplotlib.animation as animation\n",
    "from IPython.display import HTML"
   ]
  },
  {
   "cell_type": "code",
   "execution_count": 21,
   "id": "lasting-extraction",
   "metadata": {
    "execution": {
     "iopub.execute_input": "2021-06-11T00:20:58.131753Z",
     "iopub.status.busy": "2021-06-11T00:20:58.131275Z",
     "iopub.status.idle": "2021-06-11T00:20:58.136828Z",
     "shell.execute_reply": "2021-06-11T00:20:58.136468Z"
    },
    "papermill": {
     "duration": 0.038064,
     "end_time": "2021-06-11T00:20:58.136928",
     "exception": false,
     "start_time": "2021-06-11T00:20:58.098864",
     "status": "completed"
    },
    "tags": []
   },
   "outputs": [],
   "source": [
    "#hide\n",
    "t = everydaycases.stack()"
   ]
  },
  {
   "cell_type": "code",
   "execution_count": 22,
   "id": "premier-sleeve",
   "metadata": {
    "execution": {
     "iopub.execute_input": "2021-06-11T00:20:58.196390Z",
     "iopub.status.busy": "2021-06-11T00:20:58.195913Z",
     "iopub.status.idle": "2021-06-11T00:20:58.202805Z",
     "shell.execute_reply": "2021-06-11T00:20:58.202442Z"
    },
    "papermill": {
     "duration": 0.03824,
     "end_time": "2021-06-11T00:20:58.202908",
     "exception": false,
     "start_time": "2021-06-11T00:20:58.164668",
     "status": "completed"
    },
    "tags": []
   },
   "outputs": [],
   "source": [
    "#hide\n",
    "g = t.reset_index(['Country/Region'])"
   ]
  },
  {
   "cell_type": "code",
   "execution_count": 23,
   "id": "distributed-pittsburgh",
   "metadata": {
    "execution": {
     "iopub.execute_input": "2021-06-11T00:20:58.261744Z",
     "iopub.status.busy": "2021-06-11T00:20:58.261296Z",
     "iopub.status.idle": "2021-06-11T00:20:58.262915Z",
     "shell.execute_reply": "2021-06-11T00:20:58.263336Z"
    },
    "papermill": {
     "duration": 0.033006,
     "end_time": "2021-06-11T00:20:58.263448",
     "exception": false,
     "start_time": "2021-06-11T00:20:58.230442",
     "status": "completed"
    },
    "tags": []
   },
   "outputs": [],
   "source": [
    "#hide\n",
    "g.index.name = 'date'"
   ]
  },
  {
   "cell_type": "code",
   "execution_count": 24,
   "id": "naked-donor",
   "metadata": {
    "execution": {
     "iopub.execute_input": "2021-06-11T00:20:58.321920Z",
     "iopub.status.busy": "2021-06-11T00:20:58.321459Z",
     "iopub.status.idle": "2021-06-11T00:20:58.323195Z",
     "shell.execute_reply": "2021-06-11T00:20:58.323618Z"
    },
    "papermill": {
     "duration": 0.03275,
     "end_time": "2021-06-11T00:20:58.323751",
     "exception": false,
     "start_time": "2021-06-11T00:20:58.291001",
     "status": "completed"
    },
    "tags": []
   },
   "outputs": [],
   "source": [
    "# #hide\n",
    "# g = g.reset_index(['date'])"
   ]
  },
  {
   "cell_type": "code",
   "execution_count": 25,
   "id": "incomplete-mustang",
   "metadata": {
    "execution": {
     "iopub.execute_input": "2021-06-11T00:20:58.382041Z",
     "iopub.status.busy": "2021-06-11T00:20:58.381591Z",
     "iopub.status.idle": "2021-06-11T00:20:58.383516Z",
     "shell.execute_reply": "2021-06-11T00:20:58.383151Z"
    },
    "papermill": {
     "duration": 0.032475,
     "end_time": "2021-06-11T00:20:58.383615",
     "exception": false,
     "start_time": "2021-06-11T00:20:58.351140",
     "status": "completed"
    },
    "tags": []
   },
   "outputs": [],
   "source": [
    "#hide\n",
    "# g.head()"
   ]
  },
  {
   "cell_type": "code",
   "execution_count": 26,
   "id": "specific-kruger",
   "metadata": {
    "execution": {
     "iopub.execute_input": "2021-06-11T00:20:58.441965Z",
     "iopub.status.busy": "2021-06-11T00:20:58.441510Z",
     "iopub.status.idle": "2021-06-11T00:20:58.443249Z",
     "shell.execute_reply": "2021-06-11T00:20:58.443586Z"
    },
    "papermill": {
     "duration": 0.032526,
     "end_time": "2021-06-11T00:20:58.443722",
     "exception": false,
     "start_time": "2021-06-11T00:20:58.411196",
     "status": "completed"
    },
    "tags": []
   },
   "outputs": [],
   "source": [
    "#hide\n",
    "# g.columns = ['date','country','cases']"
   ]
  },
  {
   "cell_type": "code",
   "execution_count": 27,
   "id": "tender-conversion",
   "metadata": {
    "execution": {
     "iopub.execute_input": "2021-06-11T00:20:58.502178Z",
     "iopub.status.busy": "2021-06-11T00:20:58.501723Z",
     "iopub.status.idle": "2021-06-11T00:20:58.503384Z",
     "shell.execute_reply": "2021-06-11T00:20:58.503833Z"
    },
    "papermill": {
     "duration": 0.032802,
     "end_time": "2021-06-11T00:20:58.503947",
     "exception": false,
     "start_time": "2021-06-11T00:20:58.471145",
     "status": "completed"
    },
    "tags": []
   },
   "outputs": [],
   "source": [
    "#hide\n",
    "# g['continent'] = g.country"
   ]
  },
  {
   "cell_type": "code",
   "execution_count": 28,
   "id": "substantial-wilderness",
   "metadata": {
    "execution": {
     "iopub.execute_input": "2021-06-11T00:20:58.562586Z",
     "iopub.status.busy": "2021-06-11T00:20:58.562136Z",
     "iopub.status.idle": "2021-06-11T00:20:58.563880Z",
     "shell.execute_reply": "2021-06-11T00:20:58.564264Z"
    },
    "papermill": {
     "duration": 0.032795,
     "end_time": "2021-06-11T00:20:58.564376",
     "exception": false,
     "start_time": "2021-06-11T00:20:58.531581",
     "status": "completed"
    },
    "tags": []
   },
   "outputs": [],
   "source": [
    "#hide\n",
    "# cols = list(g.columns.values)"
   ]
  },
  {
   "cell_type": "code",
   "execution_count": 29,
   "id": "solved-farming",
   "metadata": {
    "execution": {
     "iopub.execute_input": "2021-06-11T00:20:58.622128Z",
     "iopub.status.busy": "2021-06-11T00:20:58.621690Z",
     "iopub.status.idle": "2021-06-11T00:20:58.623395Z",
     "shell.execute_reply": "2021-06-11T00:20:58.623836Z"
    },
    "papermill": {
     "duration": 0.032336,
     "end_time": "2021-06-11T00:20:58.623947",
     "exception": false,
     "start_time": "2021-06-11T00:20:58.591611",
     "status": "completed"
    },
    "tags": []
   },
   "outputs": [],
   "source": [
    "#hide\n",
    "# cols.insert(0, cols.pop())"
   ]
  },
  {
   "cell_type": "code",
   "execution_count": 30,
   "id": "executed-adoption",
   "metadata": {
    "execution": {
     "iopub.execute_input": "2021-06-11T00:20:58.682173Z",
     "iopub.status.busy": "2021-06-11T00:20:58.681716Z",
     "iopub.status.idle": "2021-06-11T00:20:58.683510Z",
     "shell.execute_reply": "2021-06-11T00:20:58.683893Z"
    },
    "papermill": {
     "duration": 0.032634,
     "end_time": "2021-06-11T00:20:58.684010",
     "exception": false,
     "start_time": "2021-06-11T00:20:58.651376",
     "status": "completed"
    },
    "tags": []
   },
   "outputs": [],
   "source": [
    "#hide\n",
    "# g = g[cols]"
   ]
  },
  {
   "cell_type": "code",
   "execution_count": 31,
   "id": "subject-dublin",
   "metadata": {
    "execution": {
     "iopub.execute_input": "2021-06-11T00:20:58.742710Z",
     "iopub.status.busy": "2021-06-11T00:20:58.742262Z",
     "iopub.status.idle": "2021-06-11T00:20:58.744404Z",
     "shell.execute_reply": "2021-06-11T00:20:58.744045Z"
    },
    "papermill": {
     "duration": 0.032972,
     "end_time": "2021-06-11T00:20:58.744503",
     "exception": false,
     "start_time": "2021-06-11T00:20:58.711531",
     "status": "completed"
    },
    "tags": []
   },
   "outputs": [],
   "source": [
    "#hide\n",
    "# g['continent'] = g['continent'].map(mapping['map.continent'])"
   ]
  },
  {
   "cell_type": "code",
   "execution_count": 32,
   "id": "freelance-scout",
   "metadata": {
    "execution": {
     "iopub.execute_input": "2021-06-11T00:20:58.803357Z",
     "iopub.status.busy": "2021-06-11T00:20:58.802893Z",
     "iopub.status.idle": "2021-06-11T00:20:58.805305Z",
     "shell.execute_reply": "2021-06-11T00:20:58.805729Z"
    },
    "papermill": {
     "duration": 0.033364,
     "end_time": "2021-06-11T00:20:58.805848",
     "exception": false,
     "start_time": "2021-06-11T00:20:58.772484",
     "status": "completed"
    },
    "tags": []
   },
   "outputs": [],
   "source": [
    "#hide\n",
    "# g.head()"
   ]
  },
  {
   "cell_type": "code",
   "execution_count": 33,
   "id": "limited-engine",
   "metadata": {
    "execution": {
     "iopub.execute_input": "2021-06-11T00:20:58.864571Z",
     "iopub.status.busy": "2021-06-11T00:20:58.864121Z",
     "iopub.status.idle": "2021-06-11T00:20:58.865855Z",
     "shell.execute_reply": "2021-06-11T00:20:58.866265Z"
    },
    "papermill": {
     "duration": 0.032918,
     "end_time": "2021-06-11T00:20:58.866378",
     "exception": false,
     "start_time": "2021-06-11T00:20:58.833460",
     "status": "completed"
    },
    "tags": []
   },
   "outputs": [],
   "source": [
    "# hide\n",
    "# g['date'] = g['date'].astype('datetime64[ns]')"
   ]
  },
  {
   "cell_type": "code",
   "execution_count": 34,
   "id": "sophisticated-supervisor",
   "metadata": {
    "execution": {
     "iopub.execute_input": "2021-06-11T00:20:58.925054Z",
     "iopub.status.busy": "2021-06-11T00:20:58.924604Z",
     "iopub.status.idle": "2021-06-11T00:20:58.926670Z",
     "shell.execute_reply": "2021-06-11T00:20:58.926289Z"
    },
    "papermill": {
     "duration": 0.032876,
     "end_time": "2021-06-11T00:20:58.926769",
     "exception": false,
     "start_time": "2021-06-11T00:20:58.893893",
     "status": "completed"
    },
    "tags": []
   },
   "outputs": [],
   "source": [
    "#hide\n",
    "# g['date'] = g.date.dt.dayofyear"
   ]
  },
  {
   "cell_type": "code",
   "execution_count": 35,
   "id": "inside-dubai",
   "metadata": {
    "execution": {
     "iopub.execute_input": "2021-06-11T00:20:58.985318Z",
     "iopub.status.busy": "2021-06-11T00:20:58.984869Z",
     "iopub.status.idle": "2021-06-11T00:20:58.986638Z",
     "shell.execute_reply": "2021-06-11T00:20:58.987017Z"
    },
    "papermill": {
     "duration": 0.032936,
     "end_time": "2021-06-11T00:20:58.987129",
     "exception": false,
     "start_time": "2021-06-11T00:20:58.954193",
     "status": "completed"
    },
    "tags": []
   },
   "outputs": [],
   "source": [
    "#hide\n",
    "# g = g.rename(columns= {'continent':'group','country':'name','cases':'value'})"
   ]
  },
  {
   "cell_type": "code",
   "execution_count": 36,
   "id": "fleet-motorcycle",
   "metadata": {
    "execution": {
     "iopub.execute_input": "2021-06-11T00:20:59.045674Z",
     "iopub.status.busy": "2021-06-11T00:20:59.045217Z",
     "iopub.status.idle": "2021-06-11T00:20:59.047166Z",
     "shell.execute_reply": "2021-06-11T00:20:59.046806Z"
    },
    "papermill": {
     "duration": 0.032525,
     "end_time": "2021-06-11T00:20:59.047266",
     "exception": false,
     "start_time": "2021-06-11T00:20:59.014741",
     "status": "completed"
    },
    "tags": []
   },
   "outputs": [],
   "source": [
    "#hide\n",
    "# cols = ['name','group','day','value']"
   ]
  },
  {
   "cell_type": "code",
   "execution_count": 37,
   "id": "continued-sleeping",
   "metadata": {
    "execution": {
     "iopub.execute_input": "2021-06-11T00:20:59.105407Z",
     "iopub.status.busy": "2021-06-11T00:20:59.104953Z",
     "iopub.status.idle": "2021-06-11T00:20:59.106665Z",
     "shell.execute_reply": "2021-06-11T00:20:59.107087Z"
    },
    "papermill": {
     "duration": 0.032611,
     "end_time": "2021-06-11T00:20:59.107199",
     "exception": false,
     "start_time": "2021-06-11T00:20:59.074588",
     "status": "completed"
    },
    "tags": []
   },
   "outputs": [],
   "source": [
    "#hide\n",
    "# g.rename(columns= {'date':'day'},inplace = True)"
   ]
  },
  {
   "cell_type": "code",
   "execution_count": 38,
   "id": "major-fight",
   "metadata": {
    "execution": {
     "iopub.execute_input": "2021-06-11T00:20:59.165451Z",
     "iopub.status.busy": "2021-06-11T00:20:59.165006Z",
     "iopub.status.idle": "2021-06-11T00:20:59.166747Z",
     "shell.execute_reply": "2021-06-11T00:20:59.167125Z"
    },
    "papermill": {
     "duration": 0.03263,
     "end_time": "2021-06-11T00:20:59.167236",
     "exception": false,
     "start_time": "2021-06-11T00:20:59.134606",
     "status": "completed"
    },
    "tags": []
   },
   "outputs": [],
   "source": [
    "#hide\n",
    "# g = g[cols]"
   ]
  },
  {
   "cell_type": "code",
   "execution_count": 39,
   "id": "structured-mobile",
   "metadata": {
    "execution": {
     "iopub.execute_input": "2021-06-11T00:20:59.225672Z",
     "iopub.status.busy": "2021-06-11T00:20:59.225209Z",
     "iopub.status.idle": "2021-06-11T00:20:59.227438Z",
     "shell.execute_reply": "2021-06-11T00:20:59.227077Z"
    },
    "papermill": {
     "duration": 0.033011,
     "end_time": "2021-06-11T00:20:59.227538",
     "exception": false,
     "start_time": "2021-06-11T00:20:59.194527",
     "status": "completed"
    },
    "tags": []
   },
   "outputs": [],
   "source": [
    "# #hide\n",
    "# g = g[g.group.notna()]"
   ]
  },
  {
   "cell_type": "code",
   "execution_count": 40,
   "id": "determined-closing",
   "metadata": {
    "execution": {
     "iopub.execute_input": "2021-06-11T00:20:59.286197Z",
     "iopub.status.busy": "2021-06-11T00:20:59.285734Z",
     "iopub.status.idle": "2021-06-11T00:20:59.287511Z",
     "shell.execute_reply": "2021-06-11T00:20:59.287907Z"
    },
    "papermill": {
     "duration": 0.03293,
     "end_time": "2021-06-11T00:20:59.288022",
     "exception": false,
     "start_time": "2021-06-11T00:20:59.255092",
     "status": "completed"
    },
    "tags": []
   },
   "outputs": [],
   "source": [
    "# #hide\n",
    "# colors = dict(zip(\n",
    "#     [\"Oceania\", \"Europe\", \"Asia\", \"South America\", \"Middle East\", \"North America\", \"Africa\"],\n",
    "#     [\"#adb0ff\", \"#ffb3ff\", \"#90d595\", \"#e48381\", \"#aafbff\", \"#f7bb5f\", \"#eafb50\"]\n",
    "# ))\n",
    "# group_lk = g.set_index('name')['group'].to_dict()"
   ]
  },
  {
   "cell_type": "code",
   "execution_count": null,
   "id": "gross-drinking",
   "metadata": {
    "papermill": {
     "duration": 0.027504,
     "end_time": "2021-06-11T00:20:59.342872",
     "exception": false,
     "start_time": "2021-06-11T00:20:59.315368",
     "status": "completed"
    },
    "tags": []
   },
   "outputs": [],
   "source": []
  },
  {
   "cell_type": "code",
   "execution_count": 41,
   "id": "subject-macintosh",
   "metadata": {
    "execution": {
     "iopub.execute_input": "2021-06-11T00:20:59.402041Z",
     "iopub.status.busy": "2021-06-11T00:20:59.401574Z",
     "iopub.status.idle": "2021-06-11T00:20:59.403391Z",
     "shell.execute_reply": "2021-06-11T00:20:59.403826Z"
    },
    "papermill": {
     "duration": 0.033502,
     "end_time": "2021-06-11T00:20:59.403942",
     "exception": false,
     "start_time": "2021-06-11T00:20:59.370440",
     "status": "completed"
    },
    "tags": []
   },
   "outputs": [],
   "source": [
    "# #hide\n",
    "# fig, ax = plt.subplots(figsize=(15, 8))\n",
    "\n",
    "# def draw_barchart(current_day):\n",
    "#     dff = g[g['day'].eq(current_day)].sort_values(by='value', ascending=True).tail(10)\n",
    "#     ax.clear()\n",
    "#     ax.barh(dff['name'], dff['value'], color=[colors[group_lk[x]] for x in dff['name']])\n",
    "#     dx = dff['value'].max() / 200\n",
    "    \n",
    "#     for i, (value, name) in enumerate(zip(dff['value'], dff['name'])):\n",
    "#         ax.text(value-dx, i,     name,           size=14, weight=600, ha='right', va='bottom')\n",
    "#         ax.text(value-dx, i-.25, group_lk[name], size=10, color='#444444', ha='right', va='baseline')\n",
    "#         ax.text(value+dx, i,     f'{value:,.0f}',  size=14, ha='left',  va='center')\n",
    "#     ax.text(1, 0.4, current_day, transform=ax.transAxes, color='#777777', size=46, ha='right', weight=800)\n",
    "#     ax.text(0, 1.06, 'Population (thousands)', transform=ax.transAxes, size=12, color='#777777')\n",
    "#     ax.xaxis.set_major_formatter(ticker.StrMethodFormatter('{x:,.0f}'))\n",
    "#     ax.xaxis.set_ticks_position('top')\n",
    "#     ax.tick_params(axis='x', colors='#777777', labelsize=12)\n",
    "#     ax.set_yticks([])\n",
    "#     ax.margins(0, 0.01)\n",
    "#     ax.grid(which='major', axis='x', linestyle='-')\n",
    "#     ax.set_axisbelow(True)\n",
    "    \n",
    "#     ax.text(0, 1.15, 'Coronavirus',\n",
    "#             transform=ax.transAxes, size=24, weight=600, ha='left', va='top')\n",
    "# #     ax.text(1, 0, 'by @pratapvardhan; credit @jburnmurdoch', transform=ax.transAxes, color='#777777', ha='right',\n",
    "# #             bbox=dict(facecolor='white', alpha=0.8, edgecolor='white'))\n",
    "#     plt.box(False)"
   ]
  },
  {
   "cell_type": "code",
   "execution_count": 42,
   "id": "sexual-wages",
   "metadata": {
    "execution": {
     "iopub.execute_input": "2021-06-11T00:20:59.464594Z",
     "iopub.status.busy": "2021-06-11T00:20:59.464141Z",
     "iopub.status.idle": "2021-06-11T00:20:59.465722Z",
     "shell.execute_reply": "2021-06-11T00:20:59.466077Z"
    },
    "papermill": {
     "duration": 0.03476,
     "end_time": "2021-06-11T00:20:59.466190",
     "exception": false,
     "start_time": "2021-06-11T00:20:59.431430",
     "status": "completed"
    },
    "tags": []
   },
   "outputs": [],
   "source": [
    "# #hide_input\n",
    "# fig, ax = plt.subplots(figsize=(15, 8))\n",
    "# animator = animation.FuncAnimation(fig, draw_barchart, frames=range(g.day.values.min(), g.day.values.max()))\n",
    "# HTML(animator.to_jshtml())\n",
    "# # or use animator.to_html5_video() or animator.save() "
   ]
  },
  {
   "cell_type": "code",
   "execution_count": null,
   "id": "australian-container",
   "metadata": {
    "papermill": {
     "duration": 0.027418,
     "end_time": "2021-06-11T00:20:59.521104",
     "exception": false,
     "start_time": "2021-06-11T00:20:59.493686",
     "status": "completed"
    },
    "tags": []
   },
   "outputs": [],
   "source": []
  },
  {
   "cell_type": "code",
   "execution_count": null,
   "id": "mediterranean-pontiac",
   "metadata": {
    "papermill": {
     "duration": 0.027501,
     "end_time": "2021-06-11T00:20:59.575848",
     "exception": false,
     "start_time": "2021-06-11T00:20:59.548347",
     "status": "completed"
    },
    "tags": []
   },
   "outputs": [],
   "source": []
  },
  {
   "cell_type": "code",
   "execution_count": null,
   "id": "aging-legislature",
   "metadata": {
    "papermill": {
     "duration": 0.02756,
     "end_time": "2021-06-11T00:20:59.631035",
     "exception": false,
     "start_time": "2021-06-11T00:20:59.603475",
     "status": "completed"
    },
    "tags": []
   },
   "outputs": [],
   "source": []
  }
 ],
 "metadata": {
  "kernelspec": {
   "display_name": "Python 3",
   "language": "python",
   "name": "python3"
  },
  "language_info": {
   "codemirror_mode": {
    "name": "ipython",
    "version": 3
   },
   "file_extension": ".py",
   "mimetype": "text/x-python",
   "name": "python",
   "nbconvert_exporter": "python",
   "pygments_lexer": "ipython3",
   "version": "3.6.13"
  },
  "papermill": {
   "duration": 5.467337,
   "end_time": "2021-06-11T00:20:59.965199",
   "environment_variables": {},
   "exception": null,
   "input_path": "2020-03-21-covid19exp.ipynb",
   "output_path": "2020-03-21-covid19exp.ipynb",
   "parameters": {},
   "start_time": "2021-06-11T00:20:54.497862",
   "version": "2.0.0"
  }
 },
 "nbformat": 4,
 "nbformat_minor": 5
}