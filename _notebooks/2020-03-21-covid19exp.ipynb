{
 "cells": [
  {
   "cell_type": "markdown",
   "id": "muslim-click",
   "metadata": {
    "papermill": {
     "duration": 0.03875,
     "end_time": "2021-07-31T12:10:33.144832",
     "exception": false,
     "start_time": "2021-07-31T12:10:33.106082",
     "status": "completed"
    },
    "tags": []
   },
   "source": [
    "# COVID-19 Case Race\n",
    "> A race chart to see rising cases around the world\n",
    "\n",
    "- author: Hargun Oberoi\n",
    "- image: images/covid-overview.png\n",
    "- hide: false\n",
    "- badges: false"
   ]
  },
  {
   "cell_type": "code",
   "execution_count": 1,
   "id": "proof-material",
   "metadata": {
    "execution": {
     "iopub.execute_input": "2021-07-31T12:10:33.227461Z",
     "iopub.status.busy": "2021-07-31T12:10:33.226755Z",
     "iopub.status.idle": "2021-07-31T12:10:33.585435Z",
     "shell.execute_reply": "2021-07-31T12:10:33.585876Z"
    },
    "papermill": {
     "duration": 0.40693,
     "end_time": "2021-07-31T12:10:33.586048",
     "exception": false,
     "start_time": "2021-07-31T12:10:33.179118",
     "status": "completed"
    },
    "tags": []
   },
   "outputs": [],
   "source": [
    "#hide\n",
    "import numpy as np\n",
    "import pandas as pd\n",
    "from jinja2 import Template\n",
    "from IPython.display import HTML"
   ]
  },
  {
   "cell_type": "code",
   "execution_count": 2,
   "id": "developed-terminology",
   "metadata": {
    "execution": {
     "iopub.execute_input": "2021-07-31T12:10:33.662148Z",
     "iopub.status.busy": "2021-07-31T12:10:33.661566Z",
     "iopub.status.idle": "2021-07-31T12:10:33.663999Z",
     "shell.execute_reply": "2021-07-31T12:10:33.663446Z"
    },
    "papermill": {
     "duration": 0.040877,
     "end_time": "2021-07-31T12:10:33.664128",
     "exception": false,
     "start_time": "2021-07-31T12:10:33.623251",
     "status": "completed"
    },
    "tags": []
   },
   "outputs": [],
   "source": [
    "#hide\n",
    "\n",
    "# FETCH\n",
    "base_url = 'https://raw.githubusercontent.com/pratapvardhan/notebooks/master/covid19/'\n",
    "paths = {\n",
    "    'mapping': base_url + 'mapping_countries.csv',\n",
    "    'overview': base_url + 'overview.tpl'\n",
    "}"
   ]
  },
  {
   "cell_type": "code",
   "execution_count": 3,
   "id": "dynamic-saver",
   "metadata": {
    "execution": {
     "iopub.execute_input": "2021-07-31T12:10:33.741567Z",
     "iopub.status.busy": "2021-07-31T12:10:33.740923Z",
     "iopub.status.idle": "2021-07-31T12:10:33.746337Z",
     "shell.execute_reply": "2021-07-31T12:10:33.745883Z"
    },
    "papermill": {
     "duration": 0.047939,
     "end_time": "2021-07-31T12:10:33.746466",
     "exception": false,
     "start_time": "2021-07-31T12:10:33.698527",
     "status": "completed"
    },
    "tags": []
   },
   "outputs": [
    {
     "data": {
      "text/plain": [
       "'https://raw.githubusercontent.com/pratapvardhan/notebooks/master/covid19/mapping_countries.csv'"
      ]
     },
     "execution_count": 3,
     "metadata": {},
     "output_type": "execute_result"
    }
   ],
   "source": [
    "#hide\n",
    "paths['mapping']"
   ]
  },
  {
   "cell_type": "code",
   "execution_count": 4,
   "id": "urban-software",
   "metadata": {
    "execution": {
     "iopub.execute_input": "2021-07-31T12:10:33.821681Z",
     "iopub.status.busy": "2021-07-31T12:10:33.821132Z",
     "iopub.status.idle": "2021-07-31T12:10:33.823494Z",
     "shell.execute_reply": "2021-07-31T12:10:33.823045Z"
    },
    "papermill": {
     "duration": 0.042295,
     "end_time": "2021-07-31T12:10:33.823594",
     "exception": false,
     "start_time": "2021-07-31T12:10:33.781299",
     "status": "completed"
    },
    "tags": []
   },
   "outputs": [],
   "source": [
    "#hide\n",
    "def get_mappings(url):\n",
    "    df = pd.read_csv(url)\n",
    "    return {\n",
    "        'df': df,\n",
    "        'replace.country': dict(df.dropna(subset=['Name']).set_index('Country')['Name']),\n",
    "        'map.continent': dict(df.set_index('Name')['Continent'])\n",
    "    }"
   ]
  },
  {
   "cell_type": "code",
   "execution_count": 5,
   "id": "intimate-machinery",
   "metadata": {
    "execution": {
     "iopub.execute_input": "2021-07-31T12:10:33.900010Z",
     "iopub.status.busy": "2021-07-31T12:10:33.899401Z",
     "iopub.status.idle": "2021-07-31T12:10:33.938937Z",
     "shell.execute_reply": "2021-07-31T12:10:33.938486Z"
    },
    "papermill": {
     "duration": 0.081357,
     "end_time": "2021-07-31T12:10:33.939053",
     "exception": false,
     "start_time": "2021-07-31T12:10:33.857696",
     "status": "completed"
    },
    "tags": []
   },
   "outputs": [],
   "source": [
    "#hide\n",
    "mapping = get_mappings(paths['mapping'])"
   ]
  },
  {
   "cell_type": "code",
   "execution_count": 6,
   "id": "certified-tactics",
   "metadata": {
    "execution": {
     "iopub.execute_input": "2021-07-31T12:10:34.008498Z",
     "iopub.status.busy": "2021-07-31T12:10:34.007953Z",
     "iopub.status.idle": "2021-07-31T12:10:34.010093Z",
     "shell.execute_reply": "2021-07-31T12:10:34.009669Z"
    },
    "papermill": {
     "duration": 0.038785,
     "end_time": "2021-07-31T12:10:34.010193",
     "exception": false,
     "start_time": "2021-07-31T12:10:33.971408",
     "status": "completed"
    },
    "tags": []
   },
   "outputs": [],
   "source": [
    "#hide\n",
    "def get_template(path):\n",
    "    from urllib.parse import urlparse\n",
    "    if bool(urlparse(path).netloc):\n",
    "        from urllib.request import urlopen\n",
    "        return urlopen(path).read().decode('utf8')\n",
    "    return open(path).read()"
   ]
  },
  {
   "cell_type": "code",
   "execution_count": 7,
   "id": "realistic-blast",
   "metadata": {
    "execution": {
     "iopub.execute_input": "2021-07-31T12:10:34.078682Z",
     "iopub.status.busy": "2021-07-31T12:10:34.078067Z",
     "iopub.status.idle": "2021-07-31T12:10:34.081003Z",
     "shell.execute_reply": "2021-07-31T12:10:34.080477Z"
    },
    "papermill": {
     "duration": 0.040714,
     "end_time": "2021-07-31T12:10:34.081121",
     "exception": false,
     "start_time": "2021-07-31T12:10:34.040407",
     "status": "completed"
    },
    "tags": []
   },
   "outputs": [],
   "source": [
    "#hide\n",
    "def get_frame(name):\n",
    "    url = (\n",
    "        'https://raw.githubusercontent.com/CSSEGISandData/COVID-19/master/csse_covid_19_data/'\n",
    "        f'csse_covid_19_time_series/time_series_covid19_{name}_global.csv')\n",
    "    df = pd.read_csv(url)\n",
    "    # rename countries\n",
    "    df['Country/Region'] = df['Country/Region'].replace(mapping['replace.country'])\n",
    "    return df"
   ]
  },
  {
   "cell_type": "code",
   "execution_count": 8,
   "id": "affiliated-characterization",
   "metadata": {
    "execution": {
     "iopub.execute_input": "2021-07-31T12:10:34.149314Z",
     "iopub.status.busy": "2021-07-31T12:10:34.148735Z",
     "iopub.status.idle": "2021-07-31T12:10:34.150639Z",
     "shell.execute_reply": "2021-07-31T12:10:34.151073Z"
    },
    "papermill": {
     "duration": 0.039002,
     "end_time": "2021-07-31T12:10:34.151182",
     "exception": false,
     "start_time": "2021-07-31T12:10:34.112180",
     "status": "completed"
    },
    "tags": []
   },
   "outputs": [],
   "source": [
    "#hide\n",
    "def get_dates(df):\n",
    "    dt_cols = df.columns[~df.columns.isin(['Province/State', 'Country/Region', 'Lat', 'Long'])]\n",
    "    LAST_DATE_I = -1\n",
    "    # sometimes last column may be empty, then go backwards\n",
    "    for i in range(-1, -len(dt_cols), -1):\n",
    "        if not df[dt_cols[i]].fillna(0).eq(0).all():\n",
    "            LAST_DATE_I = i\n",
    "            break\n",
    "    return LAST_DATE_I, dt_cols"
   ]
  },
  {
   "cell_type": "code",
   "execution_count": 9,
   "id": "recent-optimization",
   "metadata": {
    "execution": {
     "iopub.execute_input": "2021-07-31T12:10:34.228491Z",
     "iopub.status.busy": "2021-07-31T12:10:34.227713Z",
     "iopub.status.idle": "2021-07-31T12:10:34.611733Z",
     "shell.execute_reply": "2021-07-31T12:10:34.611028Z"
    },
    "papermill": {
     "duration": 0.429266,
     "end_time": "2021-07-31T12:10:34.611872",
     "exception": false,
     "start_time": "2021-07-31T12:10:34.182606",
     "status": "completed"
    },
    "tags": []
   },
   "outputs": [],
   "source": [
    "#hide\n",
    "COL_REGION = 'Country/Region'\n",
    "# Confirmed, Recovered, Deaths\n",
    "df = get_frame('confirmed')\n",
    "# dft_: timeseries, dfc_: today country agg\n",
    "dft_cases = df\n",
    "dft_deaths = get_frame('deaths')\n",
    "dft_recovered = get_frame('recovered')\n",
    "LAST_DATE_I, dt_cols = get_dates(df)"
   ]
  },
  {
   "cell_type": "code",
   "execution_count": 10,
   "id": "absolute-copper",
   "metadata": {
    "execution": {
     "iopub.execute_input": "2021-07-31T12:10:34.695219Z",
     "iopub.status.busy": "2021-07-31T12:10:34.694633Z",
     "iopub.status.idle": "2021-07-31T12:10:34.696268Z",
     "shell.execute_reply": "2021-07-31T12:10:34.696813Z"
    },
    "papermill": {
     "duration": 0.046703,
     "end_time": "2021-07-31T12:10:34.696941",
     "exception": false,
     "start_time": "2021-07-31T12:10:34.650238",
     "status": "completed"
    },
    "tags": []
   },
   "outputs": [],
   "source": [
    "#hide\n",
    "LAST_DATE_I, dt_cols = get_dates(df)\n",
    "dt_today =dt_cols[LAST_DATE_I]\n",
    "# dt_5day = dt_cols[LAST_DATE_I - 5]\n",
    "dt_yday = dt_cols[LAST_DATE_I - 1]"
   ]
  },
  {
   "cell_type": "code",
   "execution_count": 11,
   "id": "restricted-sheriff",
   "metadata": {
    "execution": {
     "iopub.execute_input": "2021-07-31T12:10:34.780961Z",
     "iopub.status.busy": "2021-07-31T12:10:34.780329Z",
     "iopub.status.idle": "2021-07-31T12:10:34.787507Z",
     "shell.execute_reply": "2021-07-31T12:10:34.788158Z"
    },
    "papermill": {
     "duration": 0.053206,
     "end_time": "2021-07-31T12:10:34.788314",
     "exception": false,
     "start_time": "2021-07-31T12:10:34.735108",
     "status": "completed"
    },
    "tags": []
   },
   "outputs": [],
   "source": [
    "#hide\n",
    "dfc_cases = dft_cases.groupby(COL_REGION)[dt_today].sum()\n",
    "dfc_deaths = dft_deaths.groupby(COL_REGION)[dt_today].sum()\n",
    "# dfp_cases = dft_cases.groupby(COL_REGION)[dt_5day].sum()\n",
    "# dfp_deaths = dft_deaths.groupby(COL_REGION)[dt_5day].sum()\n",
    "dfp_cases = dft_cases.groupby(COL_REGION)[dt_yday].sum()\n",
    "dfp_deaths = dft_deaths.groupby(COL_REGION)[dt_yday].sum()"
   ]
  },
  {
   "cell_type": "code",
   "execution_count": 12,
   "id": "deluxe-hepatitis",
   "metadata": {
    "execution": {
     "iopub.execute_input": "2021-07-31T12:10:34.870766Z",
     "iopub.status.busy": "2021-07-31T12:10:34.870079Z",
     "iopub.status.idle": "2021-07-31T12:10:34.875627Z",
     "shell.execute_reply": "2021-07-31T12:10:34.875124Z"
    },
    "papermill": {
     "duration": 0.050301,
     "end_time": "2021-07-31T12:10:34.875747",
     "exception": false,
     "start_time": "2021-07-31T12:10:34.825446",
     "status": "completed"
    },
    "tags": []
   },
   "outputs": [],
   "source": [
    "#hide\n",
    "df_table = (pd.DataFrame(dict(Cases = dfc_cases, Deaths = dfc_deaths, PCases = dfp_cases, PDeaths = dfp_deaths))\n",
    "            .sort_values(by = ['Cases','Deaths'], ascending = [False, False])\n",
    "            .reset_index())"
   ]
  },
  {
   "cell_type": "code",
   "execution_count": 13,
   "id": "educational-chancellor",
   "metadata": {
    "execution": {
     "iopub.execute_input": "2021-07-31T12:10:34.965188Z",
     "iopub.status.busy": "2021-07-31T12:10:34.964310Z",
     "iopub.status.idle": "2021-07-31T12:10:34.972742Z",
     "shell.execute_reply": "2021-07-31T12:10:34.972338Z"
    },
    "papermill": {
     "duration": 0.061884,
     "end_time": "2021-07-31T12:10:34.972846",
     "exception": false,
     "start_time": "2021-07-31T12:10:34.910962",
     "status": "completed"
    },
    "tags": []
   },
   "outputs": [
    {
     "data": {
      "text/html": [
       "<div>\n",
       "<style scoped>\n",
       "    .dataframe tbody tr th:only-of-type {\n",
       "        vertical-align: middle;\n",
       "    }\n",
       "\n",
       "    .dataframe tbody tr th {\n",
       "        vertical-align: top;\n",
       "    }\n",
       "\n",
       "    .dataframe thead th {\n",
       "        text-align: right;\n",
       "    }\n",
       "</style>\n",
       "<table border=\"1\" class=\"dataframe\">\n",
       "  <thead>\n",
       "    <tr style=\"text-align: right;\">\n",
       "      <th></th>\n",
       "      <th>Country/Region</th>\n",
       "      <th>Cases</th>\n",
       "      <th>Deaths</th>\n",
       "      <th>PCases</th>\n",
       "      <th>PDeaths</th>\n",
       "      <th>Cases (+)</th>\n",
       "      <th>Deaths (+)</th>\n",
       "      <th>Fatality Rate</th>\n",
       "      <th>Continent</th>\n",
       "    </tr>\n",
       "  </thead>\n",
       "  <tbody>\n",
       "    <tr>\n",
       "      <th>0</th>\n",
       "      <td>US</td>\n",
       "      <td>34945468</td>\n",
       "      <td>613013</td>\n",
       "      <td>34750860</td>\n",
       "      <td>612122</td>\n",
       "      <td>194608</td>\n",
       "      <td>891</td>\n",
       "      <td>1.75</td>\n",
       "      <td>North America</td>\n",
       "    </tr>\n",
       "    <tr>\n",
       "      <th>1</th>\n",
       "      <td>India</td>\n",
       "      <td>31613993</td>\n",
       "      <td>423810</td>\n",
       "      <td>31572344</td>\n",
       "      <td>423217</td>\n",
       "      <td>41649</td>\n",
       "      <td>593</td>\n",
       "      <td>1.34</td>\n",
       "      <td>Asia</td>\n",
       "    </tr>\n",
       "    <tr>\n",
       "      <th>2</th>\n",
       "      <td>Brazil</td>\n",
       "      <td>19880273</td>\n",
       "      <td>555460</td>\n",
       "      <td>19839369</td>\n",
       "      <td>554497</td>\n",
       "      <td>40904</td>\n",
       "      <td>963</td>\n",
       "      <td>2.79</td>\n",
       "      <td>South America</td>\n",
       "    </tr>\n",
       "    <tr>\n",
       "      <th>3</th>\n",
       "      <td>France</td>\n",
       "      <td>6166690</td>\n",
       "      <td>112011</td>\n",
       "      <td>6142282</td>\n",
       "      <td>111951</td>\n",
       "      <td>24408</td>\n",
       "      <td>60</td>\n",
       "      <td>1.82</td>\n",
       "      <td>Europe</td>\n",
       "    </tr>\n",
       "    <tr>\n",
       "      <th>4</th>\n",
       "      <td>Russia</td>\n",
       "      <td>6161985</td>\n",
       "      <td>155180</td>\n",
       "      <td>6138969</td>\n",
       "      <td>154404</td>\n",
       "      <td>23016</td>\n",
       "      <td>776</td>\n",
       "      <td>2.52</td>\n",
       "      <td>Europe</td>\n",
       "    </tr>\n",
       "  </tbody>\n",
       "</table>\n",
       "</div>"
      ],
      "text/plain": [
       "  Country/Region     Cases  Deaths    PCases  PDeaths  Cases (+)  Deaths (+)  \\\n",
       "0             US  34945468  613013  34750860   612122     194608         891   \n",
       "1          India  31613993  423810  31572344   423217      41649         593   \n",
       "2         Brazil  19880273  555460  19839369   554497      40904         963   \n",
       "3         France   6166690  112011   6142282   111951      24408          60   \n",
       "4         Russia   6161985  155180   6138969   154404      23016         776   \n",
       "\n",
       "   Fatality Rate      Continent  \n",
       "0           1.75  North America  \n",
       "1           1.34           Asia  \n",
       "2           2.79  South America  \n",
       "3           1.82         Europe  \n",
       "4           2.52         Europe  "
      ]
     },
     "execution_count": 13,
     "metadata": {},
     "output_type": "execute_result"
    }
   ],
   "source": [
    "#hide\n",
    "for c in 'Cases, Deaths'.split(', '):\n",
    "    df_table[f'{c} (+)'] = (df_table[c] - df_table[f'P{c}']).clip(0)\n",
    "    #Clip ça veut dire, les chiffres negatif sont interdit\n",
    "df_table['Fatality Rate'] = (100* df_table['Deaths']/ df_table['Cases']).round(2)\n",
    "df_table['Continent'] = df_table['Country/Region'].map(mapping['map.continent'])\n",
    "df_table.head(5)"
   ]
  },
  {
   "cell_type": "code",
   "execution_count": 14,
   "id": "aboriginal-bulgaria",
   "metadata": {
    "execution": {
     "iopub.execute_input": "2021-07-31T12:10:35.042448Z",
     "iopub.status.busy": "2021-07-31T12:10:35.041801Z",
     "iopub.status.idle": "2021-07-31T12:10:35.044254Z",
     "shell.execute_reply": "2021-07-31T12:10:35.044803Z"
    },
    "papermill": {
     "duration": 0.03988,
     "end_time": "2021-07-31T12:10:35.044949",
     "exception": false,
     "start_time": "2021-07-31T12:10:35.005069",
     "status": "completed"
    },
    "tags": []
   },
   "outputs": [],
   "source": [
    "#hide\n",
    "#delete problematic countries from table\n",
    "df_table = df_table[~df_table['Country/Region'].isin(['Cape Verde', 'Cruise Ship', 'Kosovo'])]"
   ]
  },
  {
   "cell_type": "code",
   "execution_count": 15,
   "id": "fantastic-effect",
   "metadata": {
    "execution": {
     "iopub.execute_input": "2021-07-31T12:10:35.119829Z",
     "iopub.status.busy": "2021-07-31T12:10:35.119210Z",
     "iopub.status.idle": "2021-07-31T12:10:35.140146Z",
     "shell.execute_reply": "2021-07-31T12:10:35.139709Z"
    },
    "papermill": {
     "duration": 0.060902,
     "end_time": "2021-07-31T12:10:35.140276",
     "exception": false,
     "start_time": "2021-07-31T12:10:35.079374",
     "status": "completed"
    },
    "tags": []
   },
   "outputs": [
    {
     "data": {
      "text/html": [
       "<div>\n",
       "<style scoped>\n",
       "    .dataframe tbody tr th:only-of-type {\n",
       "        vertical-align: middle;\n",
       "    }\n",
       "\n",
       "    .dataframe tbody tr th {\n",
       "        vertical-align: top;\n",
       "    }\n",
       "\n",
       "    .dataframe thead th {\n",
       "        text-align: right;\n",
       "    }\n",
       "</style>\n",
       "<table border=\"1\" class=\"dataframe\">\n",
       "  <thead>\n",
       "    <tr style=\"text-align: right;\">\n",
       "      <th></th>\n",
       "      <th>Country/Region</th>\n",
       "      <th>Cases</th>\n",
       "      <th>Deaths</th>\n",
       "      <th>PCases</th>\n",
       "      <th>PDeaths</th>\n",
       "      <th>Cases (+)</th>\n",
       "      <th>Deaths (+)</th>\n",
       "      <th>Fatality Rate</th>\n",
       "      <th>Continent</th>\n",
       "    </tr>\n",
       "  </thead>\n",
       "  <tbody>\n",
       "    <tr>\n",
       "      <th>0</th>\n",
       "      <td>US</td>\n",
       "      <td>34945468</td>\n",
       "      <td>613013</td>\n",
       "      <td>34750860</td>\n",
       "      <td>612122</td>\n",
       "      <td>194608</td>\n",
       "      <td>891</td>\n",
       "      <td>1.8</td>\n",
       "      <td>North America</td>\n",
       "    </tr>\n",
       "    <tr>\n",
       "      <th>1</th>\n",
       "      <td>India</td>\n",
       "      <td>31613993</td>\n",
       "      <td>423810</td>\n",
       "      <td>31572344</td>\n",
       "      <td>423217</td>\n",
       "      <td>41649</td>\n",
       "      <td>593</td>\n",
       "      <td>1.3</td>\n",
       "      <td>Asia</td>\n",
       "    </tr>\n",
       "    <tr>\n",
       "      <th>2</th>\n",
       "      <td>Brazil</td>\n",
       "      <td>19880273</td>\n",
       "      <td>555460</td>\n",
       "      <td>19839369</td>\n",
       "      <td>554497</td>\n",
       "      <td>40904</td>\n",
       "      <td>963</td>\n",
       "      <td>2.8</td>\n",
       "      <td>South America</td>\n",
       "    </tr>\n",
       "    <tr>\n",
       "      <th>3</th>\n",
       "      <td>France</td>\n",
       "      <td>6166690</td>\n",
       "      <td>112011</td>\n",
       "      <td>6142282</td>\n",
       "      <td>111951</td>\n",
       "      <td>24408</td>\n",
       "      <td>60</td>\n",
       "      <td>1.8</td>\n",
       "      <td>Europe</td>\n",
       "    </tr>\n",
       "    <tr>\n",
       "      <th>4</th>\n",
       "      <td>Russia</td>\n",
       "      <td>6161985</td>\n",
       "      <td>155180</td>\n",
       "      <td>6138969</td>\n",
       "      <td>154404</td>\n",
       "      <td>23016</td>\n",
       "      <td>776</td>\n",
       "      <td>2.5</td>\n",
       "      <td>Europe</td>\n",
       "    </tr>\n",
       "  </tbody>\n",
       "</table>\n",
       "</div>"
      ],
      "text/plain": [
       "  Country/Region     Cases  Deaths    PCases  PDeaths  Cases (+)  Deaths (+)  \\\n",
       "0             US  34945468  613013  34750860   612122     194608         891   \n",
       "1          India  31613993  423810  31572344   423217      41649         593   \n",
       "2         Brazil  19880273  555460  19839369   554497      40904         963   \n",
       "3         France   6166690  112011   6142282   111951      24408          60   \n",
       "4         Russia   6161985  155180   6138969   154404      23016         776   \n",
       "\n",
       "   Fatality Rate      Continent  \n",
       "0            1.8  North America  \n",
       "1            1.3           Asia  \n",
       "2            2.8  South America  \n",
       "3            1.8         Europe  \n",
       "4            2.5         Europe  "
      ]
     },
     "execution_count": 15,
     "metadata": {},
     "output_type": "execute_result"
    }
   ],
   "source": [
    "#hide\n",
    "df_table = (pd.DataFrame(dict(Cases=dfc_cases, Deaths=dfc_deaths, PCases=dfp_cases, PDeaths=dfp_deaths))\n",
    "             .sort_values(by=['Cases', 'Deaths'], ascending=[False, False])\n",
    "             .reset_index())\n",
    "df_table.rename(columns={'index': 'Country/Region'}, inplace=True)\n",
    "for c in 'Cases, Deaths'.split(', '):\n",
    "    df_table[f'{c} (+)'] = (df_table[c] - df_table[f'P{c}']).clip(0)  # DATA BUG\n",
    "df_table['Fatality Rate'] = (100 * df_table['Deaths'] / df_table['Cases']).round(1)\n",
    "df_table['Continent'] = df_table['Country/Region'].map(mapping['map.continent'])\n",
    "df_table.head(5)"
   ]
  },
  {
   "cell_type": "code",
   "execution_count": 16,
   "id": "fewer-occasion",
   "metadata": {
    "execution": {
     "iopub.execute_input": "2021-07-31T12:10:35.215588Z",
     "iopub.status.busy": "2021-07-31T12:10:35.214943Z",
     "iopub.status.idle": "2021-07-31T12:10:35.217069Z",
     "shell.execute_reply": "2021-07-31T12:10:35.217731Z"
    },
    "papermill": {
     "duration": 0.043707,
     "end_time": "2021-07-31T12:10:35.217857",
     "exception": false,
     "start_time": "2021-07-31T12:10:35.174150",
     "status": "completed"
    },
    "tags": []
   },
   "outputs": [],
   "source": [
    "#hide\n",
    "#delete problematic countries from table\n",
    "df_table = df_table[~df_table['Country/Region'].isin(['Cape Verde', 'Cruise Ship', 'Kosovo'])]"
   ]
  },
  {
   "cell_type": "code",
   "execution_count": 17,
   "id": "related-center",
   "metadata": {
    "execution": {
     "iopub.execute_input": "2021-07-31T12:10:35.296771Z",
     "iopub.status.busy": "2021-07-31T12:10:35.296231Z",
     "iopub.status.idle": "2021-07-31T12:10:35.305795Z",
     "shell.execute_reply": "2021-07-31T12:10:35.306253Z"
    },
    "papermill": {
     "duration": 0.055237,
     "end_time": "2021-07-31T12:10:35.306368",
     "exception": false,
     "start_time": "2021-07-31T12:10:35.251131",
     "status": "completed"
    },
    "tags": []
   },
   "outputs": [],
   "source": [
    "#hide\n",
    "metrics = [df_table.columns[index] for index in [1,2,5,6]]\n",
    "# s_china = df_table[df_table['Country/Region'].eq('China')][metrics].sum().add_prefix('China ')\n",
    "s_us = df_table[df_table['Country/Region'].eq('US')][metrics].sum().add_prefix('US ')\n",
    "s_eu = df_table[df_table['Continent'].eq('Europe')][metrics].sum().add_prefix('EU ')\n",
    "s_ind = df_table[df_table['Country/Region'].eq('India')][metrics].sum().add_prefix('India ')\n",
    "summary = {'updated': pd.to_datetime(dt_today), 'since': pd.to_datetime(dt_yday)}\n",
    "summary = {'updated': pd.to_datetime(dt_today), 'since': pd.to_datetime(dt_yday)}\n",
    "summary = {**summary, **df_table[metrics].sum(), **s_ind, **s_us, **s_eu}"
   ]
  },
  {
   "cell_type": "code",
   "execution_count": 18,
   "id": "engaging-syndrome",
   "metadata": {
    "execution": {
     "iopub.execute_input": "2021-07-31T12:10:35.376582Z",
     "iopub.status.busy": "2021-07-31T12:10:35.376019Z",
     "iopub.status.idle": "2021-07-31T12:10:35.387983Z",
     "shell.execute_reply": "2021-07-31T12:10:35.388486Z"
    },
    "papermill": {
     "duration": 0.049252,
     "end_time": "2021-07-31T12:10:35.388607",
     "exception": false,
     "start_time": "2021-07-31T12:10:35.339355",
     "status": "completed"
    },
    "tags": []
   },
   "outputs": [],
   "source": [
    "#hide\n",
    "dft_ct_new_cases = dft_cases.groupby(COL_REGION)[dt_cols].sum().diff(axis=1).fillna(0).astype(int)"
   ]
  },
  {
   "cell_type": "code",
   "execution_count": 19,
   "id": "neutral-assignment",
   "metadata": {
    "execution": {
     "iopub.execute_input": "2021-07-31T12:10:35.460446Z",
     "iopub.status.busy": "2021-07-31T12:10:35.459850Z",
     "iopub.status.idle": "2021-07-31T12:10:35.461440Z",
     "shell.execute_reply": "2021-07-31T12:10:35.461924Z"
    },
    "papermill": {
     "duration": 0.040033,
     "end_time": "2021-07-31T12:10:35.462032",
     "exception": false,
     "start_time": "2021-07-31T12:10:35.421999",
     "status": "completed"
    },
    "tags": []
   },
   "outputs": [],
   "source": [
    "#hide\n",
    "everydaycases = dft_ct_new_cases.cumsum(axis=1)"
   ]
  },
  {
   "cell_type": "code",
   "execution_count": 20,
   "id": "parliamentary-calgary",
   "metadata": {
    "execution": {
     "iopub.execute_input": "2021-07-31T12:10:35.531960Z",
     "iopub.status.busy": "2021-07-31T12:10:35.531322Z",
     "iopub.status.idle": "2021-07-31T12:10:36.195443Z",
     "shell.execute_reply": "2021-07-31T12:10:36.194957Z"
    },
    "papermill": {
     "duration": 0.701607,
     "end_time": "2021-07-31T12:10:36.195565",
     "exception": false,
     "start_time": "2021-07-31T12:10:35.493958",
     "status": "completed"
    },
    "tags": []
   },
   "outputs": [],
   "source": [
    "#hide\n",
    "import pandas as pd\n",
    "import matplotlib.pyplot as plt\n",
    "import matplotlib.ticker as ticker\n",
    "import matplotlib.animation as animation\n",
    "from IPython.display import HTML"
   ]
  },
  {
   "cell_type": "code",
   "execution_count": 21,
   "id": "lasting-extraction",
   "metadata": {
    "execution": {
     "iopub.execute_input": "2021-07-31T12:10:36.278312Z",
     "iopub.status.busy": "2021-07-31T12:10:36.277730Z",
     "iopub.status.idle": "2021-07-31T12:10:36.286961Z",
     "shell.execute_reply": "2021-07-31T12:10:36.286382Z"
    },
    "papermill": {
     "duration": 0.057729,
     "end_time": "2021-07-31T12:10:36.287073",
     "exception": false,
     "start_time": "2021-07-31T12:10:36.229344",
     "status": "completed"
    },
    "tags": []
   },
   "outputs": [],
   "source": [
    "#hide\n",
    "t = everydaycases.stack()"
   ]
  },
  {
   "cell_type": "code",
   "execution_count": 22,
   "id": "premier-sleeve",
   "metadata": {
    "execution": {
     "iopub.execute_input": "2021-07-31T12:10:36.373976Z",
     "iopub.status.busy": "2021-07-31T12:10:36.373359Z",
     "iopub.status.idle": "2021-07-31T12:10:36.383058Z",
     "shell.execute_reply": "2021-07-31T12:10:36.382382Z"
    },
    "papermill": {
     "duration": 0.051611,
     "end_time": "2021-07-31T12:10:36.383203",
     "exception": false,
     "start_time": "2021-07-31T12:10:36.331592",
     "status": "completed"
    },
    "tags": []
   },
   "outputs": [],
   "source": [
    "#hide\n",
    "g = t.reset_index(['Country/Region'])"
   ]
  },
  {
   "cell_type": "code",
   "execution_count": 23,
   "id": "distributed-pittsburgh",
   "metadata": {
    "execution": {
     "iopub.execute_input": "2021-07-31T12:10:36.455257Z",
     "iopub.status.busy": "2021-07-31T12:10:36.454681Z",
     "iopub.status.idle": "2021-07-31T12:10:36.457158Z",
     "shell.execute_reply": "2021-07-31T12:10:36.456645Z"
    },
    "papermill": {
     "duration": 0.040306,
     "end_time": "2021-07-31T12:10:36.457268",
     "exception": false,
     "start_time": "2021-07-31T12:10:36.416962",
     "status": "completed"
    },
    "tags": []
   },
   "outputs": [],
   "source": [
    "#hide\n",
    "g.index.name = 'date'"
   ]
  },
  {
   "cell_type": "code",
   "execution_count": 24,
   "id": "naked-donor",
   "metadata": {
    "execution": {
     "iopub.execute_input": "2021-07-31T12:10:36.529980Z",
     "iopub.status.busy": "2021-07-31T12:10:36.529343Z",
     "iopub.status.idle": "2021-07-31T12:10:36.531770Z",
     "shell.execute_reply": "2021-07-31T12:10:36.532414Z"
    },
    "papermill": {
     "duration": 0.040334,
     "end_time": "2021-07-31T12:10:36.532553",
     "exception": false,
     "start_time": "2021-07-31T12:10:36.492219",
     "status": "completed"
    },
    "tags": []
   },
   "outputs": [],
   "source": [
    "# #hide\n",
    "# g = g.reset_index(['date'])"
   ]
  },
  {
   "cell_type": "code",
   "execution_count": 25,
   "id": "incomplete-mustang",
   "metadata": {
    "execution": {
     "iopub.execute_input": "2021-07-31T12:10:36.608245Z",
     "iopub.status.busy": "2021-07-31T12:10:36.607606Z",
     "iopub.status.idle": "2021-07-31T12:10:36.609955Z",
     "shell.execute_reply": "2021-07-31T12:10:36.609469Z"
    },
    "papermill": {
     "duration": 0.042362,
     "end_time": "2021-07-31T12:10:36.610059",
     "exception": false,
     "start_time": "2021-07-31T12:10:36.567697",
     "status": "completed"
    },
    "tags": []
   },
   "outputs": [],
   "source": [
    "#hide\n",
    "# g.head()"
   ]
  },
  {
   "cell_type": "code",
   "execution_count": 26,
   "id": "specific-kruger",
   "metadata": {
    "execution": {
     "iopub.execute_input": "2021-07-31T12:10:36.686529Z",
     "iopub.status.busy": "2021-07-31T12:10:36.685788Z",
     "iopub.status.idle": "2021-07-31T12:10:36.688120Z",
     "shell.execute_reply": "2021-07-31T12:10:36.688685Z"
    },
    "papermill": {
     "duration": 0.040718,
     "end_time": "2021-07-31T12:10:36.688812",
     "exception": false,
     "start_time": "2021-07-31T12:10:36.648094",
     "status": "completed"
    },
    "tags": []
   },
   "outputs": [],
   "source": [
    "#hide\n",
    "# g.columns = ['date','country','cases']"
   ]
  },
  {
   "cell_type": "code",
   "execution_count": 27,
   "id": "tender-conversion",
   "metadata": {
    "execution": {
     "iopub.execute_input": "2021-07-31T12:10:36.762598Z",
     "iopub.status.busy": "2021-07-31T12:10:36.762007Z",
     "iopub.status.idle": "2021-07-31T12:10:36.764096Z",
     "shell.execute_reply": "2021-07-31T12:10:36.764701Z"
    },
    "papermill": {
     "duration": 0.041781,
     "end_time": "2021-07-31T12:10:36.764816",
     "exception": false,
     "start_time": "2021-07-31T12:10:36.723035",
     "status": "completed"
    },
    "tags": []
   },
   "outputs": [],
   "source": [
    "#hide\n",
    "# g['continent'] = g.country"
   ]
  },
  {
   "cell_type": "code",
   "execution_count": 28,
   "id": "substantial-wilderness",
   "metadata": {
    "execution": {
     "iopub.execute_input": "2021-07-31T12:10:36.838312Z",
     "iopub.status.busy": "2021-07-31T12:10:36.837701Z",
     "iopub.status.idle": "2021-07-31T12:10:36.840097Z",
     "shell.execute_reply": "2021-07-31T12:10:36.839647Z"
    },
    "papermill": {
     "duration": 0.041471,
     "end_time": "2021-07-31T12:10:36.840226",
     "exception": false,
     "start_time": "2021-07-31T12:10:36.798755",
     "status": "completed"
    },
    "tags": []
   },
   "outputs": [],
   "source": [
    "#hide\n",
    "# cols = list(g.columns.values)"
   ]
  },
  {
   "cell_type": "code",
   "execution_count": 29,
   "id": "solved-farming",
   "metadata": {
    "execution": {
     "iopub.execute_input": "2021-07-31T12:10:36.916196Z",
     "iopub.status.busy": "2021-07-31T12:10:36.915460Z",
     "iopub.status.idle": "2021-07-31T12:10:36.917792Z",
     "shell.execute_reply": "2021-07-31T12:10:36.917349Z"
    },
    "papermill": {
     "duration": 0.043794,
     "end_time": "2021-07-31T12:10:36.917896",
     "exception": false,
     "start_time": "2021-07-31T12:10:36.874102",
     "status": "completed"
    },
    "tags": []
   },
   "outputs": [],
   "source": [
    "#hide\n",
    "# cols.insert(0, cols.pop())"
   ]
  },
  {
   "cell_type": "code",
   "execution_count": 30,
   "id": "executed-adoption",
   "metadata": {
    "execution": {
     "iopub.execute_input": "2021-07-31T12:10:36.996966Z",
     "iopub.status.busy": "2021-07-31T12:10:36.996181Z",
     "iopub.status.idle": "2021-07-31T12:10:36.998805Z",
     "shell.execute_reply": "2021-07-31T12:10:36.998335Z"
    },
    "papermill": {
     "duration": 0.043233,
     "end_time": "2021-07-31T12:10:36.998911",
     "exception": false,
     "start_time": "2021-07-31T12:10:36.955678",
     "status": "completed"
    },
    "tags": []
   },
   "outputs": [],
   "source": [
    "#hide\n",
    "# g = g[cols]"
   ]
  },
  {
   "cell_type": "code",
   "execution_count": 31,
   "id": "subject-dublin",
   "metadata": {
    "execution": {
     "iopub.execute_input": "2021-07-31T12:10:37.070305Z",
     "iopub.status.busy": "2021-07-31T12:10:37.069763Z",
     "iopub.status.idle": "2021-07-31T12:10:37.072509Z",
     "shell.execute_reply": "2021-07-31T12:10:37.072928Z"
    },
    "papermill": {
     "duration": 0.040704,
     "end_time": "2021-07-31T12:10:37.073043",
     "exception": false,
     "start_time": "2021-07-31T12:10:37.032339",
     "status": "completed"
    },
    "tags": []
   },
   "outputs": [],
   "source": [
    "#hide\n",
    "# g['continent'] = g['continent'].map(mapping['map.continent'])"
   ]
  },
  {
   "cell_type": "code",
   "execution_count": 32,
   "id": "freelance-scout",
   "metadata": {
    "execution": {
     "iopub.execute_input": "2021-07-31T12:10:37.143804Z",
     "iopub.status.busy": "2021-07-31T12:10:37.143241Z",
     "iopub.status.idle": "2021-07-31T12:10:37.145767Z",
     "shell.execute_reply": "2021-07-31T12:10:37.145255Z"
    },
    "papermill": {
     "duration": 0.040452,
     "end_time": "2021-07-31T12:10:37.145875",
     "exception": false,
     "start_time": "2021-07-31T12:10:37.105423",
     "status": "completed"
    },
    "tags": []
   },
   "outputs": [],
   "source": [
    "#hide\n",
    "# g.head()"
   ]
  },
  {
   "cell_type": "code",
   "execution_count": 33,
   "id": "limited-engine",
   "metadata": {
    "execution": {
     "iopub.execute_input": "2021-07-31T12:10:37.219283Z",
     "iopub.status.busy": "2021-07-31T12:10:37.218511Z",
     "iopub.status.idle": "2021-07-31T12:10:37.220786Z",
     "shell.execute_reply": "2021-07-31T12:10:37.220337Z"
    },
    "papermill": {
     "duration": 0.040703,
     "end_time": "2021-07-31T12:10:37.220886",
     "exception": false,
     "start_time": "2021-07-31T12:10:37.180183",
     "status": "completed"
    },
    "tags": []
   },
   "outputs": [],
   "source": [
    "# hide\n",
    "# g['date'] = g['date'].astype('datetime64[ns]')"
   ]
  },
  {
   "cell_type": "code",
   "execution_count": 34,
   "id": "sophisticated-supervisor",
   "metadata": {
    "execution": {
     "iopub.execute_input": "2021-07-31T12:10:37.296332Z",
     "iopub.status.busy": "2021-07-31T12:10:37.295732Z",
     "iopub.status.idle": "2021-07-31T12:10:37.297913Z",
     "shell.execute_reply": "2021-07-31T12:10:37.297354Z"
    },
    "papermill": {
     "duration": 0.042846,
     "end_time": "2021-07-31T12:10:37.298021",
     "exception": false,
     "start_time": "2021-07-31T12:10:37.255175",
     "status": "completed"
    },
    "tags": []
   },
   "outputs": [],
   "source": [
    "#hide\n",
    "# g['date'] = g.date.dt.dayofyear"
   ]
  },
  {
   "cell_type": "code",
   "execution_count": 35,
   "id": "inside-dubai",
   "metadata": {
    "execution": {
     "iopub.execute_input": "2021-07-31T12:10:37.378595Z",
     "iopub.status.busy": "2021-07-31T12:10:37.377968Z",
     "iopub.status.idle": "2021-07-31T12:10:37.379962Z",
     "shell.execute_reply": "2021-07-31T12:10:37.380658Z"
    },
    "papermill": {
     "duration": 0.046965,
     "end_time": "2021-07-31T12:10:37.380818",
     "exception": false,
     "start_time": "2021-07-31T12:10:37.333853",
     "status": "completed"
    },
    "tags": []
   },
   "outputs": [],
   "source": [
    "#hide\n",
    "# g = g.rename(columns= {'continent':'group','country':'name','cases':'value'})"
   ]
  },
  {
   "cell_type": "code",
   "execution_count": 36,
   "id": "fleet-motorcycle",
   "metadata": {
    "execution": {
     "iopub.execute_input": "2021-07-31T12:10:37.460956Z",
     "iopub.status.busy": "2021-07-31T12:10:37.460261Z",
     "iopub.status.idle": "2021-07-31T12:10:37.463236Z",
     "shell.execute_reply": "2021-07-31T12:10:37.462582Z"
    },
    "papermill": {
     "duration": 0.043513,
     "end_time": "2021-07-31T12:10:37.463490",
     "exception": false,
     "start_time": "2021-07-31T12:10:37.419977",
     "status": "completed"
    },
    "tags": []
   },
   "outputs": [],
   "source": [
    "#hide\n",
    "# cols = ['name','group','day','value']"
   ]
  },
  {
   "cell_type": "code",
   "execution_count": 37,
   "id": "continued-sleeping",
   "metadata": {
    "execution": {
     "iopub.execute_input": "2021-07-31T12:10:37.537127Z",
     "iopub.status.busy": "2021-07-31T12:10:37.536548Z",
     "iopub.status.idle": "2021-07-31T12:10:37.538336Z",
     "shell.execute_reply": "2021-07-31T12:10:37.538859Z"
    },
    "papermill": {
     "duration": 0.041725,
     "end_time": "2021-07-31T12:10:37.538972",
     "exception": false,
     "start_time": "2021-07-31T12:10:37.497247",
     "status": "completed"
    },
    "tags": []
   },
   "outputs": [],
   "source": [
    "#hide\n",
    "# g.rename(columns= {'date':'day'},inplace = True)"
   ]
  },
  {
   "cell_type": "code",
   "execution_count": 38,
   "id": "major-fight",
   "metadata": {
    "execution": {
     "iopub.execute_input": "2021-07-31T12:10:37.612399Z",
     "iopub.status.busy": "2021-07-31T12:10:37.611832Z",
     "iopub.status.idle": "2021-07-31T12:10:37.613696Z",
     "shell.execute_reply": "2021-07-31T12:10:37.614104Z"
    },
    "papermill": {
     "duration": 0.041778,
     "end_time": "2021-07-31T12:10:37.614230",
     "exception": false,
     "start_time": "2021-07-31T12:10:37.572452",
     "status": "completed"
    },
    "tags": []
   },
   "outputs": [],
   "source": [
    "#hide\n",
    "# g = g[cols]"
   ]
  },
  {
   "cell_type": "code",
   "execution_count": 39,
   "id": "structured-mobile",
   "metadata": {
    "execution": {
     "iopub.execute_input": "2021-07-31T12:10:37.689564Z",
     "iopub.status.busy": "2021-07-31T12:10:37.688793Z",
     "iopub.status.idle": "2021-07-31T12:10:37.691418Z",
     "shell.execute_reply": "2021-07-31T12:10:37.690840Z"
    },
    "papermill": {
     "duration": 0.039838,
     "end_time": "2021-07-31T12:10:37.691524",
     "exception": false,
     "start_time": "2021-07-31T12:10:37.651686",
     "status": "completed"
    },
    "tags": []
   },
   "outputs": [],
   "source": [
    "# #hide\n",
    "# g = g[g.group.notna()]"
   ]
  },
  {
   "cell_type": "code",
   "execution_count": 40,
   "id": "determined-closing",
   "metadata": {
    "execution": {
     "iopub.execute_input": "2021-07-31T12:10:37.769815Z",
     "iopub.status.busy": "2021-07-31T12:10:37.769202Z",
     "iopub.status.idle": "2021-07-31T12:10:37.771626Z",
     "shell.execute_reply": "2021-07-31T12:10:37.771162Z"
    },
    "papermill": {
     "duration": 0.041409,
     "end_time": "2021-07-31T12:10:37.771736",
     "exception": false,
     "start_time": "2021-07-31T12:10:37.730327",
     "status": "completed"
    },
    "tags": []
   },
   "outputs": [],
   "source": [
    "# #hide\n",
    "# colors = dict(zip(\n",
    "#     [\"Oceania\", \"Europe\", \"Asia\", \"South America\", \"Middle East\", \"North America\", \"Africa\"],\n",
    "#     [\"#adb0ff\", \"#ffb3ff\", \"#90d595\", \"#e48381\", \"#aafbff\", \"#f7bb5f\", \"#eafb50\"]\n",
    "# ))\n",
    "# group_lk = g.set_index('name')['group'].to_dict()"
   ]
  },
  {
   "cell_type": "code",
   "execution_count": null,
   "id": "gross-drinking",
   "metadata": {
    "papermill": {
     "duration": 0.036142,
     "end_time": "2021-07-31T12:10:37.847505",
     "exception": false,
     "start_time": "2021-07-31T12:10:37.811363",
     "status": "completed"
    },
    "tags": []
   },
   "outputs": [],
   "source": []
  },
  {
   "cell_type": "code",
   "execution_count": 41,
   "id": "subject-macintosh",
   "metadata": {
    "execution": {
     "iopub.execute_input": "2021-07-31T12:10:37.925044Z",
     "iopub.status.busy": "2021-07-31T12:10:37.924469Z",
     "iopub.status.idle": "2021-07-31T12:10:37.926664Z",
     "shell.execute_reply": "2021-07-31T12:10:37.926191Z"
    },
    "papermill": {
     "duration": 0.042371,
     "end_time": "2021-07-31T12:10:37.926773",
     "exception": false,
     "start_time": "2021-07-31T12:10:37.884402",
     "status": "completed"
    },
    "tags": []
   },
   "outputs": [],
   "source": [
    "# #hide\n",
    "# fig, ax = plt.subplots(figsize=(15, 8))\n",
    "\n",
    "# def draw_barchart(current_day):\n",
    "#     dff = g[g['day'].eq(current_day)].sort_values(by='value', ascending=True).tail(10)\n",
    "#     ax.clear()\n",
    "#     ax.barh(dff['name'], dff['value'], color=[colors[group_lk[x]] for x in dff['name']])\n",
    "#     dx = dff['value'].max() / 200\n",
    "    \n",
    "#     for i, (value, name) in enumerate(zip(dff['value'], dff['name'])):\n",
    "#         ax.text(value-dx, i,     name,           size=14, weight=600, ha='right', va='bottom')\n",
    "#         ax.text(value-dx, i-.25, group_lk[name], size=10, color='#444444', ha='right', va='baseline')\n",
    "#         ax.text(value+dx, i,     f'{value:,.0f}',  size=14, ha='left',  va='center')\n",
    "#     ax.text(1, 0.4, current_day, transform=ax.transAxes, color='#777777', size=46, ha='right', weight=800)\n",
    "#     ax.text(0, 1.06, 'Population (thousands)', transform=ax.transAxes, size=12, color='#777777')\n",
    "#     ax.xaxis.set_major_formatter(ticker.StrMethodFormatter('{x:,.0f}'))\n",
    "#     ax.xaxis.set_ticks_position('top')\n",
    "#     ax.tick_params(axis='x', colors='#777777', labelsize=12)\n",
    "#     ax.set_yticks([])\n",
    "#     ax.margins(0, 0.01)\n",
    "#     ax.grid(which='major', axis='x', linestyle='-')\n",
    "#     ax.set_axisbelow(True)\n",
    "    \n",
    "#     ax.text(0, 1.15, 'Coronavirus',\n",
    "#             transform=ax.transAxes, size=24, weight=600, ha='left', va='top')\n",
    "# #     ax.text(1, 0, 'by @pratapvardhan; credit @jburnmurdoch', transform=ax.transAxes, color='#777777', ha='right',\n",
    "# #             bbox=dict(facecolor='white', alpha=0.8, edgecolor='white'))\n",
    "#     plt.box(False)"
   ]
  },
  {
   "cell_type": "code",
   "execution_count": 42,
   "id": "sexual-wages",
   "metadata": {
    "execution": {
     "iopub.execute_input": "2021-07-31T12:10:37.999967Z",
     "iopub.status.busy": "2021-07-31T12:10:37.999337Z",
     "iopub.status.idle": "2021-07-31T12:10:38.001051Z",
     "shell.execute_reply": "2021-07-31T12:10:38.001610Z"
    },
    "papermill": {
     "duration": 0.040161,
     "end_time": "2021-07-31T12:10:38.001743",
     "exception": false,
     "start_time": "2021-07-31T12:10:37.961582",
     "status": "completed"
    },
    "tags": []
   },
   "outputs": [],
   "source": [
    "# #hide_input\n",
    "# fig, ax = plt.subplots(figsize=(15, 8))\n",
    "# animator = animation.FuncAnimation(fig, draw_barchart, frames=range(g.day.values.min(), g.day.values.max()))\n",
    "# HTML(animator.to_jshtml())\n",
    "# # or use animator.to_html5_video() or animator.save() "
   ]
  },
  {
   "cell_type": "code",
   "execution_count": null,
   "id": "australian-container",
   "metadata": {
    "papermill": {
     "duration": 0.038713,
     "end_time": "2021-07-31T12:10:38.076956",
     "exception": false,
     "start_time": "2021-07-31T12:10:38.038243",
     "status": "completed"
    },
    "tags": []
   },
   "outputs": [],
   "source": []
  },
  {
   "cell_type": "code",
   "execution_count": null,
   "id": "mediterranean-pontiac",
   "metadata": {
    "papermill": {
     "duration": 0.039044,
     "end_time": "2021-07-31T12:10:38.151835",
     "exception": false,
     "start_time": "2021-07-31T12:10:38.112791",
     "status": "completed"
    },
    "tags": []
   },
   "outputs": [],
   "source": []
  },
  {
   "cell_type": "code",
   "execution_count": null,
   "id": "aging-legislature",
   "metadata": {
    "papermill": {
     "duration": 0.038385,
     "end_time": "2021-07-31T12:10:38.225888",
     "exception": false,
     "start_time": "2021-07-31T12:10:38.187503",
     "status": "completed"
    },
    "tags": []
   },
   "outputs": [],
   "source": []
  }
 ],
 "metadata": {
  "kernelspec": {
   "display_name": "Python 3",
   "language": "python",
   "name": "python3"
  },
  "language_info": {
   "codemirror_mode": {
    "name": "ipython",
    "version": 3
   },
   "file_extension": ".py",
   "mimetype": "text/x-python",
   "name": "python",
   "nbconvert_exporter": "python",
   "pygments_lexer": "ipython3",
   "version": "3.6.14"
  },
  "papermill": {
   "duration": 6.567308,
   "end_time": "2021-07-31T12:10:38.571753",
   "environment_variables": {},
   "exception": null,
   "input_path": "2020-03-21-covid19exp.ipynb",
   "output_path": "2020-03-21-covid19exp.ipynb",
   "parameters": {},
   "start_time": "2021-07-31T12:10:32.004445",
   "version": "2.0.0"
  }
 },
 "nbformat": 4,
 "nbformat_minor": 5
}