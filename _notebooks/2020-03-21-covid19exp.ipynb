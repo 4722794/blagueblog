{
 "cells": [
  {
   "cell_type": "markdown",
   "metadata": {
    "papermill": {
     "duration": 0.036727,
     "end_time": "2021-01-09T00:26:59.231516",
     "exception": false,
     "start_time": "2021-01-09T00:26:59.194789",
     "status": "completed"
    },
    "tags": []
   },
   "source": [
    "# COVID-19 Case Race\n",
    "> A race chart to see rising cases around the world\n",
    "\n",
    "- author: Hargun Oberoi\n",
    "- image: images/covid-overview.png\n",
    "- hide: false\n",
    "- badges: false"
   ]
  },
  {
   "cell_type": "code",
   "execution_count": 1,
   "metadata": {
    "execution": {
     "iopub.execute_input": "2021-01-09T00:26:59.305125Z",
     "iopub.status.busy": "2021-01-09T00:26:59.304498Z",
     "iopub.status.idle": "2021-01-09T00:26:59.641689Z",
     "shell.execute_reply": "2021-01-09T00:26:59.640965Z"
    },
    "papermill": {
     "duration": 0.380455,
     "end_time": "2021-01-09T00:26:59.641893",
     "exception": false,
     "start_time": "2021-01-09T00:26:59.261438",
     "status": "completed"
    },
    "tags": []
   },
   "outputs": [],
   "source": [
    "#hide\n",
    "import numpy as np\n",
    "import pandas as pd\n",
    "from jinja2 import Template\n",
    "from IPython.display import HTML"
   ]
  },
  {
   "cell_type": "code",
   "execution_count": 2,
   "metadata": {
    "execution": {
     "iopub.execute_input": "2021-01-09T00:26:59.710074Z",
     "iopub.status.busy": "2021-01-09T00:26:59.709464Z",
     "iopub.status.idle": "2021-01-09T00:26:59.711302Z",
     "shell.execute_reply": "2021-01-09T00:26:59.711796Z"
    },
    "papermill": {
     "duration": 0.039349,
     "end_time": "2021-01-09T00:26:59.711938",
     "exception": false,
     "start_time": "2021-01-09T00:26:59.672589",
     "status": "completed"
    },
    "tags": []
   },
   "outputs": [],
   "source": [
    "#hide\n",
    "\n",
    "# FETCH\n",
    "base_url = 'https://raw.githubusercontent.com/pratapvardhan/notebooks/master/covid19/'\n",
    "paths = {\n",
    "    'mapping': base_url + 'mapping_countries.csv',\n",
    "    'overview': base_url + 'overview.tpl'\n",
    "}"
   ]
  },
  {
   "cell_type": "code",
   "execution_count": 3,
   "metadata": {
    "execution": {
     "iopub.execute_input": "2021-01-09T00:26:59.781292Z",
     "iopub.status.busy": "2021-01-09T00:26:59.780599Z",
     "iopub.status.idle": "2021-01-09T00:26:59.783005Z",
     "shell.execute_reply": "2021-01-09T00:26:59.783562Z"
    },
    "papermill": {
     "duration": 0.042692,
     "end_time": "2021-01-09T00:26:59.783728",
     "exception": false,
     "start_time": "2021-01-09T00:26:59.741036",
     "status": "completed"
    },
    "tags": []
   },
   "outputs": [
    {
     "data": {
      "text/plain": [
       "'https://raw.githubusercontent.com/pratapvardhan/notebooks/master/covid19/mapping_countries.csv'"
      ]
     },
     "execution_count": 3,
     "metadata": {},
     "output_type": "execute_result"
    }
   ],
   "source": [
    "#hide\n",
    "paths['mapping']"
   ]
  },
  {
   "cell_type": "code",
   "execution_count": 4,
   "metadata": {
    "execution": {
     "iopub.execute_input": "2021-01-09T00:26:59.854210Z",
     "iopub.status.busy": "2021-01-09T00:26:59.853376Z",
     "iopub.status.idle": "2021-01-09T00:26:59.858206Z",
     "shell.execute_reply": "2021-01-09T00:26:59.857139Z"
    },
    "papermill": {
     "duration": 0.041032,
     "end_time": "2021-01-09T00:26:59.858336",
     "exception": false,
     "start_time": "2021-01-09T00:26:59.817304",
     "status": "completed"
    },
    "tags": []
   },
   "outputs": [],
   "source": [
    "#hide\n",
    "def get_mappings(url):\n",
    "    df = pd.read_csv(url)\n",
    "    return {\n",
    "        'df': df,\n",
    "        'replace.country': dict(df.dropna(subset=['Name']).set_index('Country')['Name']),\n",
    "        'map.continent': dict(df.set_index('Name')['Continent'])\n",
    "    }"
   ]
  },
  {
   "cell_type": "code",
   "execution_count": 5,
   "metadata": {
    "execution": {
     "iopub.execute_input": "2021-01-09T00:26:59.926896Z",
     "iopub.status.busy": "2021-01-09T00:26:59.926291Z",
     "iopub.status.idle": "2021-01-09T00:26:59.957638Z",
     "shell.execute_reply": "2021-01-09T00:26:59.957111Z"
    },
    "papermill": {
     "duration": 0.068799,
     "end_time": "2021-01-09T00:26:59.957827",
     "exception": false,
     "start_time": "2021-01-09T00:26:59.889028",
     "status": "completed"
    },
    "tags": []
   },
   "outputs": [],
   "source": [
    "#hide\n",
    "mapping = get_mappings(paths['mapping'])"
   ]
  },
  {
   "cell_type": "code",
   "execution_count": 6,
   "metadata": {
    "execution": {
     "iopub.execute_input": "2021-01-09T00:27:00.024942Z",
     "iopub.status.busy": "2021-01-09T00:27:00.024315Z",
     "iopub.status.idle": "2021-01-09T00:27:00.026870Z",
     "shell.execute_reply": "2021-01-09T00:27:00.026347Z"
    },
    "papermill": {
     "duration": 0.039355,
     "end_time": "2021-01-09T00:27:00.027005",
     "exception": false,
     "start_time": "2021-01-09T00:26:59.987650",
     "status": "completed"
    },
    "tags": []
   },
   "outputs": [],
   "source": [
    "#hide\n",
    "def get_template(path):\n",
    "    from urllib.parse import urlparse\n",
    "    if bool(urlparse(path).netloc):\n",
    "        from urllib.request import urlopen\n",
    "        return urlopen(path).read().decode('utf8')\n",
    "    return open(path).read()"
   ]
  },
  {
   "cell_type": "code",
   "execution_count": 7,
   "metadata": {
    "execution": {
     "iopub.execute_input": "2021-01-09T00:27:00.094240Z",
     "iopub.status.busy": "2021-01-09T00:27:00.093625Z",
     "iopub.status.idle": "2021-01-09T00:27:00.095908Z",
     "shell.execute_reply": "2021-01-09T00:27:00.095315Z"
    },
    "papermill": {
     "duration": 0.03902,
     "end_time": "2021-01-09T00:27:00.096032",
     "exception": false,
     "start_time": "2021-01-09T00:27:00.057012",
     "status": "completed"
    },
    "tags": []
   },
   "outputs": [],
   "source": [
    "#hide\n",
    "def get_frame(name):\n",
    "    url = (\n",
    "        'https://raw.githubusercontent.com/CSSEGISandData/COVID-19/master/csse_covid_19_data/'\n",
    "        f'csse_covid_19_time_series/time_series_covid19_{name}_global.csv')\n",
    "    df = pd.read_csv(url)\n",
    "    # rename countries\n",
    "    df['Country/Region'] = df['Country/Region'].replace(mapping['replace.country'])\n",
    "    return df"
   ]
  },
  {
   "cell_type": "code",
   "execution_count": 8,
   "metadata": {
    "execution": {
     "iopub.execute_input": "2021-01-09T00:27:00.168652Z",
     "iopub.status.busy": "2021-01-09T00:27:00.168029Z",
     "iopub.status.idle": "2021-01-09T00:27:00.170539Z",
     "shell.execute_reply": "2021-01-09T00:27:00.170065Z"
    },
    "papermill": {
     "duration": 0.044627,
     "end_time": "2021-01-09T00:27:00.170672",
     "exception": false,
     "start_time": "2021-01-09T00:27:00.126045",
     "status": "completed"
    },
    "tags": []
   },
   "outputs": [],
   "source": [
    "#hide\n",
    "def get_dates(df):\n",
    "    dt_cols = df.columns[~df.columns.isin(['Province/State', 'Country/Region', 'Lat', 'Long'])]\n",
    "    LAST_DATE_I = -1\n",
    "    # sometimes last column may be empty, then go backwards\n",
    "    for i in range(-1, -len(dt_cols), -1):\n",
    "        if not df[dt_cols[i]].fillna(0).eq(0).all():\n",
    "            LAST_DATE_I = i\n",
    "            break\n",
    "    return LAST_DATE_I, dt_cols"
   ]
  },
  {
   "cell_type": "code",
   "execution_count": 9,
   "metadata": {
    "execution": {
     "iopub.execute_input": "2021-01-09T00:27:00.237565Z",
     "iopub.status.busy": "2021-01-09T00:27:00.236764Z",
     "iopub.status.idle": "2021-01-09T00:27:00.468168Z",
     "shell.execute_reply": "2021-01-09T00:27:00.468662Z"
    },
    "papermill": {
     "duration": 0.268017,
     "end_time": "2021-01-09T00:27:00.468832",
     "exception": false,
     "start_time": "2021-01-09T00:27:00.200815",
     "status": "completed"
    },
    "tags": []
   },
   "outputs": [],
   "source": [
    "#hide\n",
    "COL_REGION = 'Country/Region'\n",
    "# Confirmed, Recovered, Deaths\n",
    "df = get_frame('confirmed')\n",
    "# dft_: timeseries, dfc_: today country agg\n",
    "dft_cases = df\n",
    "dft_deaths = get_frame('deaths')\n",
    "dft_recovered = get_frame('recovered')\n",
    "LAST_DATE_I, dt_cols = get_dates(df)"
   ]
  },
  {
   "cell_type": "code",
   "execution_count": 10,
   "metadata": {
    "execution": {
     "iopub.execute_input": "2021-01-09T00:27:00.537608Z",
     "iopub.status.busy": "2021-01-09T00:27:00.536950Z",
     "iopub.status.idle": "2021-01-09T00:27:00.539226Z",
     "shell.execute_reply": "2021-01-09T00:27:00.538757Z"
    },
    "papermill": {
     "duration": 0.038813,
     "end_time": "2021-01-09T00:27:00.539346",
     "exception": false,
     "start_time": "2021-01-09T00:27:00.500533",
     "status": "completed"
    },
    "tags": []
   },
   "outputs": [],
   "source": [
    "#hide\n",
    "LAST_DATE_I, dt_cols = get_dates(df)\n",
    "dt_today =dt_cols[LAST_DATE_I]\n",
    "# dt_5day = dt_cols[LAST_DATE_I - 5]\n",
    "dt_yday = dt_cols[LAST_DATE_I - 1]"
   ]
  },
  {
   "cell_type": "code",
   "execution_count": 11,
   "metadata": {
    "execution": {
     "iopub.execute_input": "2021-01-09T00:27:00.610532Z",
     "iopub.status.busy": "2021-01-09T00:27:00.607717Z",
     "iopub.status.idle": "2021-01-09T00:27:00.614966Z",
     "shell.execute_reply": "2021-01-09T00:27:00.615456Z"
    },
    "papermill": {
     "duration": 0.046146,
     "end_time": "2021-01-09T00:27:00.615613",
     "exception": false,
     "start_time": "2021-01-09T00:27:00.569467",
     "status": "completed"
    },
    "tags": []
   },
   "outputs": [],
   "source": [
    "#hide\n",
    "dfc_cases = dft_cases.groupby(COL_REGION)[dt_today].sum()\n",
    "dfc_deaths = dft_deaths.groupby(COL_REGION)[dt_today].sum()\n",
    "# dfp_cases = dft_cases.groupby(COL_REGION)[dt_5day].sum()\n",
    "# dfp_deaths = dft_deaths.groupby(COL_REGION)[dt_5day].sum()\n",
    "dfp_cases = dft_cases.groupby(COL_REGION)[dt_yday].sum()\n",
    "dfp_deaths = dft_deaths.groupby(COL_REGION)[dt_yday].sum()"
   ]
  },
  {
   "cell_type": "code",
   "execution_count": 12,
   "metadata": {
    "execution": {
     "iopub.execute_input": "2021-01-09T00:27:00.683475Z",
     "iopub.status.busy": "2021-01-09T00:27:00.682832Z",
     "iopub.status.idle": "2021-01-09T00:27:00.688701Z",
     "shell.execute_reply": "2021-01-09T00:27:00.688228Z"
    },
    "papermill": {
     "duration": 0.044295,
     "end_time": "2021-01-09T00:27:00.688828",
     "exception": false,
     "start_time": "2021-01-09T00:27:00.644533",
     "status": "completed"
    },
    "tags": []
   },
   "outputs": [],
   "source": [
    "#hide\n",
    "df_table = (pd.DataFrame(dict(Cases = dfc_cases, Deaths = dfc_deaths, PCases = dfp_cases, PDeaths = dfp_deaths))\n",
    "            .sort_values(by = ['Cases','Deaths'], ascending = [False, False])\n",
    "            .reset_index())"
   ]
  },
  {
   "cell_type": "code",
   "execution_count": 13,
   "metadata": {
    "execution": {
     "iopub.execute_input": "2021-01-09T00:27:00.768453Z",
     "iopub.status.busy": "2021-01-09T00:27:00.767860Z",
     "iopub.status.idle": "2021-01-09T00:27:00.775665Z",
     "shell.execute_reply": "2021-01-09T00:27:00.775127Z"
    },
    "papermill": {
     "duration": 0.057687,
     "end_time": "2021-01-09T00:27:00.775804",
     "exception": false,
     "start_time": "2021-01-09T00:27:00.718117",
     "status": "completed"
    },
    "tags": []
   },
   "outputs": [
    {
     "data": {
      "text/html": [
       "<div>\n",
       "<style scoped>\n",
       "    .dataframe tbody tr th:only-of-type {\n",
       "        vertical-align: middle;\n",
       "    }\n",
       "\n",
       "    .dataframe tbody tr th {\n",
       "        vertical-align: top;\n",
       "    }\n",
       "\n",
       "    .dataframe thead th {\n",
       "        text-align: right;\n",
       "    }\n",
       "</style>\n",
       "<table border=\"1\" class=\"dataframe\">\n",
       "  <thead>\n",
       "    <tr style=\"text-align: right;\">\n",
       "      <th></th>\n",
       "      <th>Country/Region</th>\n",
       "      <th>Cases</th>\n",
       "      <th>Deaths</th>\n",
       "      <th>PCases</th>\n",
       "      <th>PDeaths</th>\n",
       "      <th>Cases (+)</th>\n",
       "      <th>Deaths (+)</th>\n",
       "      <th>Fatality Rate</th>\n",
       "      <th>Continent</th>\n",
       "    </tr>\n",
       "  </thead>\n",
       "  <tbody>\n",
       "    <tr>\n",
       "      <th>0</th>\n",
       "      <td>US</td>\n",
       "      <td>21574043</td>\n",
       "      <td>365208</td>\n",
       "      <td>21299340</td>\n",
       "      <td>361123</td>\n",
       "      <td>274703</td>\n",
       "      <td>4085</td>\n",
       "      <td>1.69</td>\n",
       "      <td>North America</td>\n",
       "    </tr>\n",
       "    <tr>\n",
       "      <th>1</th>\n",
       "      <td>India</td>\n",
       "      <td>10413417</td>\n",
       "      <td>150570</td>\n",
       "      <td>10395278</td>\n",
       "      <td>150336</td>\n",
       "      <td>18139</td>\n",
       "      <td>234</td>\n",
       "      <td>1.45</td>\n",
       "      <td>Asia</td>\n",
       "    </tr>\n",
       "    <tr>\n",
       "      <th>2</th>\n",
       "      <td>Brazil</td>\n",
       "      <td>7961673</td>\n",
       "      <td>200498</td>\n",
       "      <td>7873830</td>\n",
       "      <td>198974</td>\n",
       "      <td>87843</td>\n",
       "      <td>1524</td>\n",
       "      <td>2.52</td>\n",
       "      <td>South America</td>\n",
       "    </tr>\n",
       "    <tr>\n",
       "      <th>3</th>\n",
       "      <td>Russia</td>\n",
       "      <td>3297833</td>\n",
       "      <td>59628</td>\n",
       "      <td>3274615</td>\n",
       "      <td>59137</td>\n",
       "      <td>23218</td>\n",
       "      <td>491</td>\n",
       "      <td>1.81</td>\n",
       "      <td>Europe</td>\n",
       "    </tr>\n",
       "    <tr>\n",
       "      <th>4</th>\n",
       "      <td>United Kingdom</td>\n",
       "      <td>2898052</td>\n",
       "      <td>78632</td>\n",
       "      <td>2845265</td>\n",
       "      <td>77470</td>\n",
       "      <td>52787</td>\n",
       "      <td>1162</td>\n",
       "      <td>2.71</td>\n",
       "      <td>Europe</td>\n",
       "    </tr>\n",
       "  </tbody>\n",
       "</table>\n",
       "</div>"
      ],
      "text/plain": [
       "   Country/Region     Cases  Deaths    PCases  PDeaths  Cases (+)  Deaths (+)  \\\n",
       "0              US  21574043  365208  21299340   361123     274703        4085   \n",
       "1           India  10413417  150570  10395278   150336      18139         234   \n",
       "2          Brazil   7961673  200498   7873830   198974      87843        1524   \n",
       "3          Russia   3297833   59628   3274615    59137      23218         491   \n",
       "4  United Kingdom   2898052   78632   2845265    77470      52787        1162   \n",
       "\n",
       "   Fatality Rate      Continent  \n",
       "0           1.69  North America  \n",
       "1           1.45           Asia  \n",
       "2           2.52  South America  \n",
       "3           1.81         Europe  \n",
       "4           2.71         Europe  "
      ]
     },
     "execution_count": 13,
     "metadata": {},
     "output_type": "execute_result"
    }
   ],
   "source": [
    "#hide\n",
    "for c in 'Cases, Deaths'.split(', '):\n",
    "    df_table[f'{c} (+)'] = (df_table[c] - df_table[f'P{c}']).clip(0)\n",
    "    #Clip ça veut dire, les chiffres negatif sont interdit\n",
    "df_table['Fatality Rate'] = (100* df_table['Deaths']/ df_table['Cases']).round(2)\n",
    "df_table['Continent'] = df_table['Country/Region'].map(mapping['map.continent'])\n",
    "df_table.head(5)"
   ]
  },
  {
   "cell_type": "code",
   "execution_count": 14,
   "metadata": {
    "execution": {
     "iopub.execute_input": "2021-01-09T00:27:00.840980Z",
     "iopub.status.busy": "2021-01-09T00:27:00.840435Z",
     "iopub.status.idle": "2021-01-09T00:27:00.842805Z",
     "shell.execute_reply": "2021-01-09T00:27:00.843329Z"
    },
    "papermill": {
     "duration": 0.037858,
     "end_time": "2021-01-09T00:27:00.843521",
     "exception": false,
     "start_time": "2021-01-09T00:27:00.805663",
     "status": "completed"
    },
    "tags": []
   },
   "outputs": [],
   "source": [
    "#hide\n",
    "#delete problematic countries from table\n",
    "df_table = df_table[~df_table['Country/Region'].isin(['Cape Verde', 'Cruise Ship', 'Kosovo'])]"
   ]
  },
  {
   "cell_type": "code",
   "execution_count": 15,
   "metadata": {
    "execution": {
     "iopub.execute_input": "2021-01-09T00:27:00.913388Z",
     "iopub.status.busy": "2021-01-09T00:27:00.912788Z",
     "iopub.status.idle": "2021-01-09T00:27:00.931378Z",
     "shell.execute_reply": "2021-01-09T00:27:00.931859Z"
    },
    "papermill": {
     "duration": 0.059112,
     "end_time": "2021-01-09T00:27:00.932019",
     "exception": false,
     "start_time": "2021-01-09T00:27:00.872907",
     "status": "completed"
    },
    "tags": []
   },
   "outputs": [
    {
     "data": {
      "text/html": [
       "<div>\n",
       "<style scoped>\n",
       "    .dataframe tbody tr th:only-of-type {\n",
       "        vertical-align: middle;\n",
       "    }\n",
       "\n",
       "    .dataframe tbody tr th {\n",
       "        vertical-align: top;\n",
       "    }\n",
       "\n",
       "    .dataframe thead th {\n",
       "        text-align: right;\n",
       "    }\n",
       "</style>\n",
       "<table border=\"1\" class=\"dataframe\">\n",
       "  <thead>\n",
       "    <tr style=\"text-align: right;\">\n",
       "      <th></th>\n",
       "      <th>Country/Region</th>\n",
       "      <th>Cases</th>\n",
       "      <th>Deaths</th>\n",
       "      <th>PCases</th>\n",
       "      <th>PDeaths</th>\n",
       "      <th>Cases (+)</th>\n",
       "      <th>Deaths (+)</th>\n",
       "      <th>Fatality Rate</th>\n",
       "      <th>Continent</th>\n",
       "    </tr>\n",
       "  </thead>\n",
       "  <tbody>\n",
       "    <tr>\n",
       "      <th>0</th>\n",
       "      <td>US</td>\n",
       "      <td>21574043</td>\n",
       "      <td>365208</td>\n",
       "      <td>21299340</td>\n",
       "      <td>361123</td>\n",
       "      <td>274703</td>\n",
       "      <td>4085</td>\n",
       "      <td>1.7</td>\n",
       "      <td>North America</td>\n",
       "    </tr>\n",
       "    <tr>\n",
       "      <th>1</th>\n",
       "      <td>India</td>\n",
       "      <td>10413417</td>\n",
       "      <td>150570</td>\n",
       "      <td>10395278</td>\n",
       "      <td>150336</td>\n",
       "      <td>18139</td>\n",
       "      <td>234</td>\n",
       "      <td>1.4</td>\n",
       "      <td>Asia</td>\n",
       "    </tr>\n",
       "    <tr>\n",
       "      <th>2</th>\n",
       "      <td>Brazil</td>\n",
       "      <td>7961673</td>\n",
       "      <td>200498</td>\n",
       "      <td>7873830</td>\n",
       "      <td>198974</td>\n",
       "      <td>87843</td>\n",
       "      <td>1524</td>\n",
       "      <td>2.5</td>\n",
       "      <td>South America</td>\n",
       "    </tr>\n",
       "    <tr>\n",
       "      <th>3</th>\n",
       "      <td>Russia</td>\n",
       "      <td>3297833</td>\n",
       "      <td>59628</td>\n",
       "      <td>3274615</td>\n",
       "      <td>59137</td>\n",
       "      <td>23218</td>\n",
       "      <td>491</td>\n",
       "      <td>1.8</td>\n",
       "      <td>Europe</td>\n",
       "    </tr>\n",
       "    <tr>\n",
       "      <th>4</th>\n",
       "      <td>United Kingdom</td>\n",
       "      <td>2898052</td>\n",
       "      <td>78632</td>\n",
       "      <td>2845265</td>\n",
       "      <td>77470</td>\n",
       "      <td>52787</td>\n",
       "      <td>1162</td>\n",
       "      <td>2.7</td>\n",
       "      <td>Europe</td>\n",
       "    </tr>\n",
       "  </tbody>\n",
       "</table>\n",
       "</div>"
      ],
      "text/plain": [
       "   Country/Region     Cases  Deaths    PCases  PDeaths  Cases (+)  Deaths (+)  \\\n",
       "0              US  21574043  365208  21299340   361123     274703        4085   \n",
       "1           India  10413417  150570  10395278   150336      18139         234   \n",
       "2          Brazil   7961673  200498   7873830   198974      87843        1524   \n",
       "3          Russia   3297833   59628   3274615    59137      23218         491   \n",
       "4  United Kingdom   2898052   78632   2845265    77470      52787        1162   \n",
       "\n",
       "   Fatality Rate      Continent  \n",
       "0            1.7  North America  \n",
       "1            1.4           Asia  \n",
       "2            2.5  South America  \n",
       "3            1.8         Europe  \n",
       "4            2.7         Europe  "
      ]
     },
     "execution_count": 15,
     "metadata": {},
     "output_type": "execute_result"
    }
   ],
   "source": [
    "#hide\n",
    "df_table = (pd.DataFrame(dict(Cases=dfc_cases, Deaths=dfc_deaths, PCases=dfp_cases, PDeaths=dfp_deaths))\n",
    "             .sort_values(by=['Cases', 'Deaths'], ascending=[False, False])\n",
    "             .reset_index())\n",
    "df_table.rename(columns={'index': 'Country/Region'}, inplace=True)\n",
    "for c in 'Cases, Deaths'.split(', '):\n",
    "    df_table[f'{c} (+)'] = (df_table[c] - df_table[f'P{c}']).clip(0)  # DATA BUG\n",
    "df_table['Fatality Rate'] = (100 * df_table['Deaths'] / df_table['Cases']).round(1)\n",
    "df_table['Continent'] = df_table['Country/Region'].map(mapping['map.continent'])\n",
    "df_table.head(5)"
   ]
  },
  {
   "cell_type": "code",
   "execution_count": 16,
   "metadata": {
    "execution": {
     "iopub.execute_input": "2021-01-09T00:27:01.002317Z",
     "iopub.status.busy": "2021-01-09T00:27:01.001716Z",
     "iopub.status.idle": "2021-01-09T00:27:01.004100Z",
     "shell.execute_reply": "2021-01-09T00:27:01.003472Z"
    },
    "papermill": {
     "duration": 0.040576,
     "end_time": "2021-01-09T00:27:01.004241",
     "exception": false,
     "start_time": "2021-01-09T00:27:00.963665",
     "status": "completed"
    },
    "tags": []
   },
   "outputs": [],
   "source": [
    "#hide\n",
    "#delete problematic countries from table\n",
    "df_table = df_table[~df_table['Country/Region'].isin(['Cape Verde', 'Cruise Ship', 'Kosovo'])]"
   ]
  },
  {
   "cell_type": "code",
   "execution_count": 17,
   "metadata": {
    "execution": {
     "iopub.execute_input": "2021-01-09T00:27:01.077185Z",
     "iopub.status.busy": "2021-01-09T00:27:01.076575Z",
     "iopub.status.idle": "2021-01-09T00:27:01.092464Z",
     "shell.execute_reply": "2021-01-09T00:27:01.091920Z"
    },
    "papermill": {
     "duration": 0.056177,
     "end_time": "2021-01-09T00:27:01.092612",
     "exception": false,
     "start_time": "2021-01-09T00:27:01.036435",
     "status": "completed"
    },
    "tags": []
   },
   "outputs": [],
   "source": [
    "#hide\n",
    "metrics = [df_table.columns[index] for index in [1,2,5,6]]\n",
    "# s_china = df_table[df_table['Country/Region'].eq('China')][metrics].sum().add_prefix('China ')\n",
    "s_us = df_table[df_table['Country/Region'].eq('US')][metrics].sum().add_prefix('US ')\n",
    "s_eu = df_table[df_table['Continent'].eq('Europe')][metrics].sum().add_prefix('EU ')\n",
    "s_ind = df_table[df_table['Country/Region'].eq('India')][metrics].sum().add_prefix('India ')\n",
    "summary = {'updated': pd.to_datetime(dt_today), 'since': pd.to_datetime(dt_yday)}\n",
    "summary = {'updated': pd.to_datetime(dt_today), 'since': pd.to_datetime(dt_yday)}\n",
    "summary = {**summary, **df_table[metrics].sum(), **s_ind, **s_us, **s_eu}"
   ]
  },
  {
   "cell_type": "code",
   "execution_count": 18,
   "metadata": {
    "execution": {
     "iopub.execute_input": "2021-01-09T00:27:01.167818Z",
     "iopub.status.busy": "2021-01-09T00:27:01.163517Z",
     "iopub.status.idle": "2021-01-09T00:27:01.180336Z",
     "shell.execute_reply": "2021-01-09T00:27:01.179394Z"
    },
    "papermill": {
     "duration": 0.051702,
     "end_time": "2021-01-09T00:27:01.180546",
     "exception": false,
     "start_time": "2021-01-09T00:27:01.128844",
     "status": "completed"
    },
    "tags": []
   },
   "outputs": [],
   "source": [
    "#hide\n",
    "dft_ct_new_cases = dft_cases.groupby(COL_REGION)[dt_cols].sum().diff(axis=1).fillna(0).astype(int)"
   ]
  },
  {
   "cell_type": "code",
   "execution_count": 19,
   "metadata": {
    "execution": {
     "iopub.execute_input": "2021-01-09T00:27:01.256373Z",
     "iopub.status.busy": "2021-01-09T00:27:01.255776Z",
     "iopub.status.idle": "2021-01-09T00:27:01.257906Z",
     "shell.execute_reply": "2021-01-09T00:27:01.257457Z"
    },
    "papermill": {
     "duration": 0.042856,
     "end_time": "2021-01-09T00:27:01.258024",
     "exception": false,
     "start_time": "2021-01-09T00:27:01.215168",
     "status": "completed"
    },
    "tags": []
   },
   "outputs": [],
   "source": [
    "#hide\n",
    "everydaycases = dft_ct_new_cases.cumsum(axis=1)"
   ]
  },
  {
   "cell_type": "code",
   "execution_count": 20,
   "metadata": {
    "execution": {
     "iopub.execute_input": "2021-01-09T00:27:01.331155Z",
     "iopub.status.busy": "2021-01-09T00:27:01.330564Z",
     "iopub.status.idle": "2021-01-09T00:27:02.436405Z",
     "shell.execute_reply": "2021-01-09T00:27:02.435853Z"
    },
    "papermill": {
     "duration": 1.14779,
     "end_time": "2021-01-09T00:27:02.436541",
     "exception": false,
     "start_time": "2021-01-09T00:27:01.288751",
     "status": "completed"
    },
    "tags": []
   },
   "outputs": [],
   "source": [
    "#hide\n",
    "import pandas as pd\n",
    "import matplotlib.pyplot as plt\n",
    "import matplotlib.ticker as ticker\n",
    "import matplotlib.animation as animation\n",
    "from IPython.display import HTML"
   ]
  },
  {
   "cell_type": "code",
   "execution_count": 21,
   "metadata": {
    "execution": {
     "iopub.execute_input": "2021-01-09T00:27:02.503292Z",
     "iopub.status.busy": "2021-01-09T00:27:02.502727Z",
     "iopub.status.idle": "2021-01-09T00:27:02.508776Z",
     "shell.execute_reply": "2021-01-09T00:27:02.509248Z"
    },
    "papermill": {
     "duration": 0.042899,
     "end_time": "2021-01-09T00:27:02.509395",
     "exception": false,
     "start_time": "2021-01-09T00:27:02.466496",
     "status": "completed"
    },
    "tags": []
   },
   "outputs": [],
   "source": [
    "#hide\n",
    "t = everydaycases.stack()"
   ]
  },
  {
   "cell_type": "code",
   "execution_count": 22,
   "metadata": {
    "execution": {
     "iopub.execute_input": "2021-01-09T00:27:02.575616Z",
     "iopub.status.busy": "2021-01-09T00:27:02.574967Z",
     "iopub.status.idle": "2021-01-09T00:27:02.583216Z",
     "shell.execute_reply": "2021-01-09T00:27:02.582770Z"
    },
    "papermill": {
     "duration": 0.04288,
     "end_time": "2021-01-09T00:27:02.583337",
     "exception": false,
     "start_time": "2021-01-09T00:27:02.540457",
     "status": "completed"
    },
    "tags": []
   },
   "outputs": [],
   "source": [
    "#hide\n",
    "g = t.reset_index(['Country/Region'])"
   ]
  },
  {
   "cell_type": "code",
   "execution_count": 23,
   "metadata": {
    "execution": {
     "iopub.execute_input": "2021-01-09T00:27:02.650799Z",
     "iopub.status.busy": "2021-01-09T00:27:02.650185Z",
     "iopub.status.idle": "2021-01-09T00:27:02.651605Z",
     "shell.execute_reply": "2021-01-09T00:27:02.652124Z"
    },
    "papermill": {
     "duration": 0.037986,
     "end_time": "2021-01-09T00:27:02.652263",
     "exception": false,
     "start_time": "2021-01-09T00:27:02.614277",
     "status": "completed"
    },
    "tags": []
   },
   "outputs": [],
   "source": [
    "#hide\n",
    "g.index.name = 'date'"
   ]
  },
  {
   "cell_type": "code",
   "execution_count": 24,
   "metadata": {
    "execution": {
     "iopub.execute_input": "2021-01-09T00:27:02.719098Z",
     "iopub.status.busy": "2021-01-09T00:27:02.718509Z",
     "iopub.status.idle": "2021-01-09T00:27:02.721053Z",
     "shell.execute_reply": "2021-01-09T00:27:02.720613Z"
    },
    "papermill": {
     "duration": 0.03847,
     "end_time": "2021-01-09T00:27:02.721176",
     "exception": false,
     "start_time": "2021-01-09T00:27:02.682706",
     "status": "completed"
    },
    "tags": []
   },
   "outputs": [],
   "source": [
    "# #hide\n",
    "# g = g.reset_index(['date'])"
   ]
  },
  {
   "cell_type": "code",
   "execution_count": 25,
   "metadata": {
    "execution": {
     "iopub.execute_input": "2021-01-09T00:27:02.788661Z",
     "iopub.status.busy": "2021-01-09T00:27:02.788070Z",
     "iopub.status.idle": "2021-01-09T00:27:02.790533Z",
     "shell.execute_reply": "2021-01-09T00:27:02.791102Z"
    },
    "papermill": {
     "duration": 0.037981,
     "end_time": "2021-01-09T00:27:02.791253",
     "exception": false,
     "start_time": "2021-01-09T00:27:02.753272",
     "status": "completed"
    },
    "tags": []
   },
   "outputs": [],
   "source": [
    "#hide\n",
    "# g.head()"
   ]
  },
  {
   "cell_type": "code",
   "execution_count": 26,
   "metadata": {
    "execution": {
     "iopub.execute_input": "2021-01-09T00:27:02.862921Z",
     "iopub.status.busy": "2021-01-09T00:27:02.862356Z",
     "iopub.status.idle": "2021-01-09T00:27:02.864514Z",
     "shell.execute_reply": "2021-01-09T00:27:02.864050Z"
    },
    "papermill": {
     "duration": 0.043423,
     "end_time": "2021-01-09T00:27:02.864635",
     "exception": false,
     "start_time": "2021-01-09T00:27:02.821212",
     "status": "completed"
    },
    "tags": []
   },
   "outputs": [],
   "source": [
    "#hide\n",
    "# g.columns = ['date','country','cases']"
   ]
  },
  {
   "cell_type": "code",
   "execution_count": 27,
   "metadata": {
    "execution": {
     "iopub.execute_input": "2021-01-09T00:27:02.932127Z",
     "iopub.status.busy": "2021-01-09T00:27:02.931517Z",
     "iopub.status.idle": "2021-01-09T00:27:02.933282Z",
     "shell.execute_reply": "2021-01-09T00:27:02.933797Z"
    },
    "papermill": {
     "duration": 0.035422,
     "end_time": "2021-01-09T00:27:02.933944",
     "exception": false,
     "start_time": "2021-01-09T00:27:02.898522",
     "status": "completed"
    },
    "tags": []
   },
   "outputs": [],
   "source": [
    "#hide\n",
    "# g['continent'] = g.country"
   ]
  },
  {
   "cell_type": "code",
   "execution_count": 28,
   "metadata": {
    "execution": {
     "iopub.execute_input": "2021-01-09T00:27:02.998470Z",
     "iopub.status.busy": "2021-01-09T00:27:02.997987Z",
     "iopub.status.idle": "2021-01-09T00:27:03.000530Z",
     "shell.execute_reply": "2021-01-09T00:27:03.000044Z"
    },
    "papermill": {
     "duration": 0.03627,
     "end_time": "2021-01-09T00:27:03.000657",
     "exception": false,
     "start_time": "2021-01-09T00:27:02.964387",
     "status": "completed"
    },
    "tags": []
   },
   "outputs": [],
   "source": [
    "#hide\n",
    "# cols = list(g.columns.values)"
   ]
  },
  {
   "cell_type": "code",
   "execution_count": 29,
   "metadata": {
    "execution": {
     "iopub.execute_input": "2021-01-09T00:27:03.065740Z",
     "iopub.status.busy": "2021-01-09T00:27:03.065196Z",
     "iopub.status.idle": "2021-01-09T00:27:03.068347Z",
     "shell.execute_reply": "2021-01-09T00:27:03.067823Z"
    },
    "papermill": {
     "duration": 0.038334,
     "end_time": "2021-01-09T00:27:03.068469",
     "exception": false,
     "start_time": "2021-01-09T00:27:03.030135",
     "status": "completed"
    },
    "tags": []
   },
   "outputs": [],
   "source": [
    "#hide\n",
    "# cols.insert(0, cols.pop())"
   ]
  },
  {
   "cell_type": "code",
   "execution_count": 30,
   "metadata": {
    "execution": {
     "iopub.execute_input": "2021-01-09T00:27:03.134650Z",
     "iopub.status.busy": "2021-01-09T00:27:03.134060Z",
     "iopub.status.idle": "2021-01-09T00:27:03.141114Z",
     "shell.execute_reply": "2021-01-09T00:27:03.141541Z"
    },
    "papermill": {
     "duration": 0.042906,
     "end_time": "2021-01-09T00:27:03.141694",
     "exception": false,
     "start_time": "2021-01-09T00:27:03.098788",
     "status": "completed"
    },
    "tags": []
   },
   "outputs": [],
   "source": [
    "#hide\n",
    "# g = g[cols]"
   ]
  },
  {
   "cell_type": "code",
   "execution_count": 31,
   "metadata": {
    "execution": {
     "iopub.execute_input": "2021-01-09T00:27:03.205304Z",
     "iopub.status.busy": "2021-01-09T00:27:03.204481Z",
     "iopub.status.idle": "2021-01-09T00:27:03.206143Z",
     "shell.execute_reply": "2021-01-09T00:27:03.206780Z"
    },
    "papermill": {
     "duration": 0.036113,
     "end_time": "2021-01-09T00:27:03.206969",
     "exception": false,
     "start_time": "2021-01-09T00:27:03.170856",
     "status": "completed"
    },
    "tags": []
   },
   "outputs": [],
   "source": [
    "#hide\n",
    "# g['continent'] = g['continent'].map(mapping['map.continent'])"
   ]
  },
  {
   "cell_type": "code",
   "execution_count": 32,
   "metadata": {
    "execution": {
     "iopub.execute_input": "2021-01-09T00:27:03.275133Z",
     "iopub.status.busy": "2021-01-09T00:27:03.274286Z",
     "iopub.status.idle": "2021-01-09T00:27:03.276768Z",
     "shell.execute_reply": "2021-01-09T00:27:03.277329Z"
    },
    "papermill": {
     "duration": 0.039519,
     "end_time": "2021-01-09T00:27:03.277480",
     "exception": false,
     "start_time": "2021-01-09T00:27:03.237961",
     "status": "completed"
    },
    "tags": []
   },
   "outputs": [],
   "source": [
    "#hide\n",
    "# g.head()"
   ]
  },
  {
   "cell_type": "code",
   "execution_count": 33,
   "metadata": {
    "execution": {
     "iopub.execute_input": "2021-01-09T00:27:03.345464Z",
     "iopub.status.busy": "2021-01-09T00:27:03.344729Z",
     "iopub.status.idle": "2021-01-09T00:27:03.347289Z",
     "shell.execute_reply": "2021-01-09T00:27:03.347874Z"
    },
    "papermill": {
     "duration": 0.037009,
     "end_time": "2021-01-09T00:27:03.348018",
     "exception": false,
     "start_time": "2021-01-09T00:27:03.311009",
     "status": "completed"
    },
    "tags": []
   },
   "outputs": [],
   "source": [
    "# hide\n",
    "# g['date'] = g['date'].astype('datetime64[ns]')"
   ]
  },
  {
   "cell_type": "code",
   "execution_count": 34,
   "metadata": {
    "execution": {
     "iopub.execute_input": "2021-01-09T00:27:03.413263Z",
     "iopub.status.busy": "2021-01-09T00:27:03.412633Z",
     "iopub.status.idle": "2021-01-09T00:27:03.414940Z",
     "shell.execute_reply": "2021-01-09T00:27:03.414461Z"
    },
    "papermill": {
     "duration": 0.036754,
     "end_time": "2021-01-09T00:27:03.415072",
     "exception": false,
     "start_time": "2021-01-09T00:27:03.378318",
     "status": "completed"
    },
    "tags": []
   },
   "outputs": [],
   "source": [
    "#hide\n",
    "# g['date'] = g.date.dt.dayofyear"
   ]
  },
  {
   "cell_type": "code",
   "execution_count": 35,
   "metadata": {
    "execution": {
     "iopub.execute_input": "2021-01-09T00:27:03.476620Z",
     "iopub.status.busy": "2021-01-09T00:27:03.475741Z",
     "iopub.status.idle": "2021-01-09T00:27:03.477995Z",
     "shell.execute_reply": "2021-01-09T00:27:03.478493Z"
    },
    "papermill": {
     "duration": 0.034517,
     "end_time": "2021-01-09T00:27:03.478633",
     "exception": false,
     "start_time": "2021-01-09T00:27:03.444116",
     "status": "completed"
    },
    "tags": []
   },
   "outputs": [],
   "source": [
    "#hide\n",
    "# g = g.rename(columns= {'continent':'group','country':'name','cases':'value'})"
   ]
  },
  {
   "cell_type": "code",
   "execution_count": 36,
   "metadata": {
    "execution": {
     "iopub.execute_input": "2021-01-09T00:27:03.541923Z",
     "iopub.status.busy": "2021-01-09T00:27:03.540900Z",
     "iopub.status.idle": "2021-01-09T00:27:03.543091Z",
     "shell.execute_reply": "2021-01-09T00:27:03.543584Z"
    },
    "papermill": {
     "duration": 0.036951,
     "end_time": "2021-01-09T00:27:03.543756",
     "exception": false,
     "start_time": "2021-01-09T00:27:03.506805",
     "status": "completed"
    },
    "tags": []
   },
   "outputs": [],
   "source": [
    "#hide\n",
    "# cols = ['name','group','day','value']"
   ]
  },
  {
   "cell_type": "code",
   "execution_count": 37,
   "metadata": {
    "execution": {
     "iopub.execute_input": "2021-01-09T00:27:03.607452Z",
     "iopub.status.busy": "2021-01-09T00:27:03.606838Z",
     "iopub.status.idle": "2021-01-09T00:27:03.609282Z",
     "shell.execute_reply": "2021-01-09T00:27:03.609848Z"
    },
    "papermill": {
     "duration": 0.036509,
     "end_time": "2021-01-09T00:27:03.610019",
     "exception": false,
     "start_time": "2021-01-09T00:27:03.573510",
     "status": "completed"
    },
    "tags": []
   },
   "outputs": [],
   "source": [
    "#hide\n",
    "# g.rename(columns= {'date':'day'},inplace = True)"
   ]
  },
  {
   "cell_type": "code",
   "execution_count": 38,
   "metadata": {
    "execution": {
     "iopub.execute_input": "2021-01-09T00:27:03.675627Z",
     "iopub.status.busy": "2021-01-09T00:27:03.675009Z",
     "iopub.status.idle": "2021-01-09T00:27:03.677239Z",
     "shell.execute_reply": "2021-01-09T00:27:03.677703Z"
    },
    "papermill": {
     "duration": 0.037769,
     "end_time": "2021-01-09T00:27:03.677845",
     "exception": false,
     "start_time": "2021-01-09T00:27:03.640076",
     "status": "completed"
    },
    "tags": []
   },
   "outputs": [],
   "source": [
    "#hide\n",
    "# g = g[cols]"
   ]
  },
  {
   "cell_type": "code",
   "execution_count": 39,
   "metadata": {
    "execution": {
     "iopub.execute_input": "2021-01-09T00:27:03.741937Z",
     "iopub.status.busy": "2021-01-09T00:27:03.740888Z",
     "iopub.status.idle": "2021-01-09T00:27:03.743016Z",
     "shell.execute_reply": "2021-01-09T00:27:03.743873Z"
    },
    "papermill": {
     "duration": 0.037556,
     "end_time": "2021-01-09T00:27:03.744114",
     "exception": false,
     "start_time": "2021-01-09T00:27:03.706558",
     "status": "completed"
    },
    "tags": []
   },
   "outputs": [],
   "source": [
    "# #hide\n",
    "# g = g[g.group.notna()]"
   ]
  },
  {
   "cell_type": "code",
   "execution_count": 40,
   "metadata": {
    "execution": {
     "iopub.execute_input": "2021-01-09T00:27:03.807169Z",
     "iopub.status.busy": "2021-01-09T00:27:03.806596Z",
     "iopub.status.idle": "2021-01-09T00:27:03.808909Z",
     "shell.execute_reply": "2021-01-09T00:27:03.809463Z"
    },
    "papermill": {
     "duration": 0.035075,
     "end_time": "2021-01-09T00:27:03.809603",
     "exception": false,
     "start_time": "2021-01-09T00:27:03.774528",
     "status": "completed"
    },
    "tags": []
   },
   "outputs": [],
   "source": [
    "# #hide\n",
    "# colors = dict(zip(\n",
    "#     [\"Oceania\", \"Europe\", \"Asia\", \"South America\", \"Middle East\", \"North America\", \"Africa\"],\n",
    "#     [\"#adb0ff\", \"#ffb3ff\", \"#90d595\", \"#e48381\", \"#aafbff\", \"#f7bb5f\", \"#eafb50\"]\n",
    "# ))\n",
    "# group_lk = g.set_index('name')['group'].to_dict()"
   ]
  },
  {
   "cell_type": "code",
   "execution_count": null,
   "metadata": {
    "papermill": {
     "duration": 0.030306,
     "end_time": "2021-01-09T00:27:03.870450",
     "exception": false,
     "start_time": "2021-01-09T00:27:03.840144",
     "status": "completed"
    },
    "tags": []
   },
   "outputs": [],
   "source": []
  },
  {
   "cell_type": "code",
   "execution_count": 41,
   "metadata": {
    "execution": {
     "iopub.execute_input": "2021-01-09T00:27:03.938144Z",
     "iopub.status.busy": "2021-01-09T00:27:03.937551Z",
     "iopub.status.idle": "2021-01-09T00:27:03.939894Z",
     "shell.execute_reply": "2021-01-09T00:27:03.940431Z"
    },
    "papermill": {
     "duration": 0.039313,
     "end_time": "2021-01-09T00:27:03.940568",
     "exception": false,
     "start_time": "2021-01-09T00:27:03.901255",
     "status": "completed"
    },
    "tags": []
   },
   "outputs": [],
   "source": [
    "# #hide\n",
    "# fig, ax = plt.subplots(figsize=(15, 8))\n",
    "\n",
    "# def draw_barchart(current_day):\n",
    "#     dff = g[g['day'].eq(current_day)].sort_values(by='value', ascending=True).tail(10)\n",
    "#     ax.clear()\n",
    "#     ax.barh(dff['name'], dff['value'], color=[colors[group_lk[x]] for x in dff['name']])\n",
    "#     dx = dff['value'].max() / 200\n",
    "    \n",
    "#     for i, (value, name) in enumerate(zip(dff['value'], dff['name'])):\n",
    "#         ax.text(value-dx, i,     name,           size=14, weight=600, ha='right', va='bottom')\n",
    "#         ax.text(value-dx, i-.25, group_lk[name], size=10, color='#444444', ha='right', va='baseline')\n",
    "#         ax.text(value+dx, i,     f'{value:,.0f}',  size=14, ha='left',  va='center')\n",
    "#     ax.text(1, 0.4, current_day, transform=ax.transAxes, color='#777777', size=46, ha='right', weight=800)\n",
    "#     ax.text(0, 1.06, 'Population (thousands)', transform=ax.transAxes, size=12, color='#777777')\n",
    "#     ax.xaxis.set_major_formatter(ticker.StrMethodFormatter('{x:,.0f}'))\n",
    "#     ax.xaxis.set_ticks_position('top')\n",
    "#     ax.tick_params(axis='x', colors='#777777', labelsize=12)\n",
    "#     ax.set_yticks([])\n",
    "#     ax.margins(0, 0.01)\n",
    "#     ax.grid(which='major', axis='x', linestyle='-')\n",
    "#     ax.set_axisbelow(True)\n",
    "    \n",
    "#     ax.text(0, 1.15, 'Coronavirus',\n",
    "#             transform=ax.transAxes, size=24, weight=600, ha='left', va='top')\n",
    "# #     ax.text(1, 0, 'by @pratapvardhan; credit @jburnmurdoch', transform=ax.transAxes, color='#777777', ha='right',\n",
    "# #             bbox=dict(facecolor='white', alpha=0.8, edgecolor='white'))\n",
    "#     plt.box(False)"
   ]
  },
  {
   "cell_type": "code",
   "execution_count": 42,
   "metadata": {
    "execution": {
     "iopub.execute_input": "2021-01-09T00:27:04.003947Z",
     "iopub.status.busy": "2021-01-09T00:27:04.003290Z",
     "iopub.status.idle": "2021-01-09T00:27:04.005625Z",
     "shell.execute_reply": "2021-01-09T00:27:04.005127Z"
    },
    "papermill": {
     "duration": 0.036322,
     "end_time": "2021-01-09T00:27:04.005751",
     "exception": false,
     "start_time": "2021-01-09T00:27:03.969429",
     "status": "completed"
    },
    "tags": []
   },
   "outputs": [],
   "source": [
    "# #hide_input\n",
    "# fig, ax = plt.subplots(figsize=(15, 8))\n",
    "# animator = animation.FuncAnimation(fig, draw_barchart, frames=range(g.day.values.min(), g.day.values.max()))\n",
    "# HTML(animator.to_jshtml())\n",
    "# # or use animator.to_html5_video() or animator.save() "
   ]
  },
  {
   "cell_type": "code",
   "execution_count": null,
   "metadata": {
    "papermill": {
     "duration": 0.029976,
     "end_time": "2021-01-09T00:27:04.066206",
     "exception": false,
     "start_time": "2021-01-09T00:27:04.036230",
     "status": "completed"
    },
    "tags": []
   },
   "outputs": [],
   "source": []
  },
  {
   "cell_type": "code",
   "execution_count": null,
   "metadata": {
    "papermill": {
     "duration": 0.030412,
     "end_time": "2021-01-09T00:27:04.127143",
     "exception": false,
     "start_time": "2021-01-09T00:27:04.096731",
     "status": "completed"
    },
    "tags": []
   },
   "outputs": [],
   "source": []
  },
  {
   "cell_type": "code",
   "execution_count": null,
   "metadata": {
    "papermill": {
     "duration": 0.030442,
     "end_time": "2021-01-09T00:27:04.188254",
     "exception": false,
     "start_time": "2021-01-09T00:27:04.157812",
     "status": "completed"
    },
    "tags": []
   },
   "outputs": [],
   "source": []
  }
 ],
 "metadata": {
  "kernelspec": {
   "display_name": "Python 3",
   "language": "python",
   "name": "python3"
  },
  "language_info": {
   "codemirror_mode": {
    "name": "ipython",
    "version": 3
   },
   "file_extension": ".py",
   "mimetype": "text/x-python",
   "name": "python",
   "nbconvert_exporter": "python",
   "pygments_lexer": "ipython3",
   "version": "3.6.12"
  },
  "papermill": {
   "duration": 6.63117,
   "end_time": "2021-01-09T00:27:04.524338",
   "environment_variables": {},
   "exception": null,
   "input_path": "2020-03-21-covid19exp.ipynb",
   "output_path": "2020-03-21-covid19exp.ipynb",
   "parameters": {},
   "start_time": "2021-01-09T00:26:57.893168",
   "version": "2.0.0"
  }
 },
 "nbformat": 4,
 "nbformat_minor": 4
}