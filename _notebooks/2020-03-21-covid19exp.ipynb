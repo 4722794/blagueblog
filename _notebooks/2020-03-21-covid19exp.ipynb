{
 "cells": [
  {
   "cell_type": "markdown",
   "metadata": {
    "papermill": {
     "duration": 0.037131,
     "end_time": "2020-12-11T12:07:21.266952",
     "exception": false,
     "start_time": "2020-12-11T12:07:21.229821",
     "status": "completed"
    },
    "tags": []
   },
   "source": [
    "# COVID-19 Case Race\n",
    "> A race chart to see rising cases around the world\n",
    "\n",
    "- author: Hargun Oberoi\n",
    "- image: images/covid-overview.png\n",
    "- hide: false\n",
    "- badges: false"
   ]
  },
  {
   "cell_type": "code",
   "execution_count": 1,
   "metadata": {
    "execution": {
     "iopub.execute_input": "2020-12-11T12:07:21.341064Z",
     "iopub.status.busy": "2020-12-11T12:07:21.340431Z",
     "iopub.status.idle": "2020-12-11T12:07:21.713671Z",
     "shell.execute_reply": "2020-12-11T12:07:21.712676Z"
    },
    "papermill": {
     "duration": 0.414961,
     "end_time": "2020-12-11T12:07:21.713824",
     "exception": false,
     "start_time": "2020-12-11T12:07:21.298863",
     "status": "completed"
    },
    "tags": []
   },
   "outputs": [],
   "source": [
    "#hide\n",
    "import numpy as np\n",
    "import pandas as pd\n",
    "from jinja2 import Template\n",
    "from IPython.display import HTML"
   ]
  },
  {
   "cell_type": "code",
   "execution_count": 2,
   "metadata": {
    "execution": {
     "iopub.execute_input": "2020-12-11T12:07:21.783489Z",
     "iopub.status.busy": "2020-12-11T12:07:21.782462Z",
     "iopub.status.idle": "2020-12-11T12:07:21.784193Z",
     "shell.execute_reply": "2020-12-11T12:07:21.784733Z"
    },
    "papermill": {
     "duration": 0.040958,
     "end_time": "2020-12-11T12:07:21.784879",
     "exception": false,
     "start_time": "2020-12-11T12:07:21.743921",
     "status": "completed"
    },
    "tags": []
   },
   "outputs": [],
   "source": [
    "#hide\n",
    "\n",
    "# FETCH\n",
    "base_url = 'https://raw.githubusercontent.com/pratapvardhan/notebooks/master/covid19/'\n",
    "paths = {\n",
    "    'mapping': base_url + 'mapping_countries.csv',\n",
    "    'overview': base_url + 'overview.tpl'\n",
    "}"
   ]
  },
  {
   "cell_type": "code",
   "execution_count": 3,
   "metadata": {
    "execution": {
     "iopub.execute_input": "2020-12-11T12:07:21.856970Z",
     "iopub.status.busy": "2020-12-11T12:07:21.856349Z",
     "iopub.status.idle": "2020-12-11T12:07:21.860246Z",
     "shell.execute_reply": "2020-12-11T12:07:21.859771Z"
    },
    "papermill": {
     "duration": 0.04554,
     "end_time": "2020-12-11T12:07:21.860377",
     "exception": false,
     "start_time": "2020-12-11T12:07:21.814837",
     "status": "completed"
    },
    "tags": []
   },
   "outputs": [
    {
     "data": {
      "text/plain": [
       "'https://raw.githubusercontent.com/pratapvardhan/notebooks/master/covid19/mapping_countries.csv'"
      ]
     },
     "execution_count": 3,
     "metadata": {},
     "output_type": "execute_result"
    }
   ],
   "source": [
    "#hide\n",
    "paths['mapping']"
   ]
  },
  {
   "cell_type": "code",
   "execution_count": 4,
   "metadata": {
    "execution": {
     "iopub.execute_input": "2020-12-11T12:07:21.928243Z",
     "iopub.status.busy": "2020-12-11T12:07:21.927617Z",
     "iopub.status.idle": "2020-12-11T12:07:21.928842Z",
     "shell.execute_reply": "2020-12-11T12:07:21.929326Z"
    },
    "papermill": {
     "duration": 0.038633,
     "end_time": "2020-12-11T12:07:21.929474",
     "exception": false,
     "start_time": "2020-12-11T12:07:21.890841",
     "status": "completed"
    },
    "tags": []
   },
   "outputs": [],
   "source": [
    "#hide\n",
    "def get_mappings(url):\n",
    "    df = pd.read_csv(url)\n",
    "    return {\n",
    "        'df': df,\n",
    "        'replace.country': dict(df.dropna(subset=['Name']).set_index('Country')['Name']),\n",
    "        'map.continent': dict(df.set_index('Name')['Continent'])\n",
    "    }"
   ]
  },
  {
   "cell_type": "code",
   "execution_count": 5,
   "metadata": {
    "execution": {
     "iopub.execute_input": "2020-12-11T12:07:22.000483Z",
     "iopub.status.busy": "2020-12-11T12:07:21.999850Z",
     "iopub.status.idle": "2020-12-11T12:07:22.047852Z",
     "shell.execute_reply": "2020-12-11T12:07:22.046922Z"
    },
    "papermill": {
     "duration": 0.085296,
     "end_time": "2020-12-11T12:07:22.048080",
     "exception": false,
     "start_time": "2020-12-11T12:07:21.962784",
     "status": "completed"
    },
    "tags": []
   },
   "outputs": [],
   "source": [
    "#hide\n",
    "mapping = get_mappings(paths['mapping'])"
   ]
  },
  {
   "cell_type": "code",
   "execution_count": 6,
   "metadata": {
    "execution": {
     "iopub.execute_input": "2020-12-11T12:07:22.119327Z",
     "iopub.status.busy": "2020-12-11T12:07:22.118670Z",
     "iopub.status.idle": "2020-12-11T12:07:22.121002Z",
     "shell.execute_reply": "2020-12-11T12:07:22.120428Z"
    },
    "papermill": {
     "duration": 0.040423,
     "end_time": "2020-12-11T12:07:22.121129",
     "exception": false,
     "start_time": "2020-12-11T12:07:22.080706",
     "status": "completed"
    },
    "tags": []
   },
   "outputs": [],
   "source": [
    "#hide\n",
    "def get_template(path):\n",
    "    from urllib.parse import urlparse\n",
    "    if bool(urlparse(path).netloc):\n",
    "        from urllib.request import urlopen\n",
    "        return urlopen(path).read().decode('utf8')\n",
    "    return open(path).read()"
   ]
  },
  {
   "cell_type": "code",
   "execution_count": 7,
   "metadata": {
    "execution": {
     "iopub.execute_input": "2020-12-11T12:07:22.191156Z",
     "iopub.status.busy": "2020-12-11T12:07:22.190515Z",
     "iopub.status.idle": "2020-12-11T12:07:22.192018Z",
     "shell.execute_reply": "2020-12-11T12:07:22.192559Z"
    },
    "papermill": {
     "duration": 0.040211,
     "end_time": "2020-12-11T12:07:22.192757",
     "exception": false,
     "start_time": "2020-12-11T12:07:22.152546",
     "status": "completed"
    },
    "tags": []
   },
   "outputs": [],
   "source": [
    "#hide\n",
    "def get_frame(name):\n",
    "    url = (\n",
    "        'https://raw.githubusercontent.com/CSSEGISandData/COVID-19/master/csse_covid_19_data/'\n",
    "        f'csse_covid_19_time_series/time_series_covid19_{name}_global.csv')\n",
    "    df = pd.read_csv(url)\n",
    "    # rename countries\n",
    "    df['Country/Region'] = df['Country/Region'].replace(mapping['replace.country'])\n",
    "    return df"
   ]
  },
  {
   "cell_type": "code",
   "execution_count": 8,
   "metadata": {
    "execution": {
     "iopub.execute_input": "2020-12-11T12:07:22.267484Z",
     "iopub.status.busy": "2020-12-11T12:07:22.266731Z",
     "iopub.status.idle": "2020-12-11T12:07:22.269303Z",
     "shell.execute_reply": "2020-12-11T12:07:22.269860Z"
    },
    "papermill": {
     "duration": 0.042415,
     "end_time": "2020-12-11T12:07:22.270011",
     "exception": false,
     "start_time": "2020-12-11T12:07:22.227596",
     "status": "completed"
    },
    "tags": []
   },
   "outputs": [],
   "source": [
    "#hide\n",
    "def get_dates(df):\n",
    "    dt_cols = df.columns[~df.columns.isin(['Province/State', 'Country/Region', 'Lat', 'Long'])]\n",
    "    LAST_DATE_I = -1\n",
    "    # sometimes last column may be empty, then go backwards\n",
    "    for i in range(-1, -len(dt_cols), -1):\n",
    "        if not df[dt_cols[i]].fillna(0).eq(0).all():\n",
    "            LAST_DATE_I = i\n",
    "            break\n",
    "    return LAST_DATE_I, dt_cols"
   ]
  },
  {
   "cell_type": "code",
   "execution_count": 9,
   "metadata": {
    "execution": {
     "iopub.execute_input": "2020-12-11T12:07:22.337876Z",
     "iopub.status.busy": "2020-12-11T12:07:22.337266Z",
     "iopub.status.idle": "2020-12-11T12:07:22.643431Z",
     "shell.execute_reply": "2020-12-11T12:07:22.642509Z"
    },
    "papermill": {
     "duration": 0.342721,
     "end_time": "2020-12-11T12:07:22.643663",
     "exception": false,
     "start_time": "2020-12-11T12:07:22.300942",
     "status": "completed"
    },
    "tags": []
   },
   "outputs": [],
   "source": [
    "#hide\n",
    "COL_REGION = 'Country/Region'\n",
    "# Confirmed, Recovered, Deaths\n",
    "df = get_frame('confirmed')\n",
    "# dft_: timeseries, dfc_: today country agg\n",
    "dft_cases = df\n",
    "dft_deaths = get_frame('deaths')\n",
    "dft_recovered = get_frame('recovered')\n",
    "LAST_DATE_I, dt_cols = get_dates(df)"
   ]
  },
  {
   "cell_type": "code",
   "execution_count": 10,
   "metadata": {
    "execution": {
     "iopub.execute_input": "2020-12-11T12:07:22.714620Z",
     "iopub.status.busy": "2020-12-11T12:07:22.714020Z",
     "iopub.status.idle": "2020-12-11T12:07:22.718506Z",
     "shell.execute_reply": "2020-12-11T12:07:22.716159Z"
    },
    "papermill": {
     "duration": 0.041382,
     "end_time": "2020-12-11T12:07:22.718657",
     "exception": false,
     "start_time": "2020-12-11T12:07:22.677275",
     "status": "completed"
    },
    "tags": []
   },
   "outputs": [],
   "source": [
    "#hide\n",
    "LAST_DATE_I, dt_cols = get_dates(df)\n",
    "dt_today =dt_cols[LAST_DATE_I]\n",
    "# dt_5day = dt_cols[LAST_DATE_I - 5]\n",
    "dt_yday = dt_cols[LAST_DATE_I - 1]"
   ]
  },
  {
   "cell_type": "code",
   "execution_count": 11,
   "metadata": {
    "execution": {
     "iopub.execute_input": "2020-12-11T12:07:22.787815Z",
     "iopub.status.busy": "2020-12-11T12:07:22.787159Z",
     "iopub.status.idle": "2020-12-11T12:07:22.796152Z",
     "shell.execute_reply": "2020-12-11T12:07:22.795664Z"
    },
    "papermill": {
     "duration": 0.047337,
     "end_time": "2020-12-11T12:07:22.796285",
     "exception": false,
     "start_time": "2020-12-11T12:07:22.748948",
     "status": "completed"
    },
    "tags": []
   },
   "outputs": [],
   "source": [
    "#hide\n",
    "dfc_cases = dft_cases.groupby(COL_REGION)[dt_today].sum()\n",
    "dfc_deaths = dft_deaths.groupby(COL_REGION)[dt_today].sum()\n",
    "# dfp_cases = dft_cases.groupby(COL_REGION)[dt_5day].sum()\n",
    "# dfp_deaths = dft_deaths.groupby(COL_REGION)[dt_5day].sum()\n",
    "dfp_cases = dft_cases.groupby(COL_REGION)[dt_yday].sum()\n",
    "dfp_deaths = dft_deaths.groupby(COL_REGION)[dt_yday].sum()"
   ]
  },
  {
   "cell_type": "code",
   "execution_count": 12,
   "metadata": {
    "execution": {
     "iopub.execute_input": "2020-12-11T12:07:22.864970Z",
     "iopub.status.busy": "2020-12-11T12:07:22.863691Z",
     "iopub.status.idle": "2020-12-11T12:07:22.870410Z",
     "shell.execute_reply": "2020-12-11T12:07:22.869448Z"
    },
    "papermill": {
     "duration": 0.043996,
     "end_time": "2020-12-11T12:07:22.870540",
     "exception": false,
     "start_time": "2020-12-11T12:07:22.826544",
     "status": "completed"
    },
    "tags": []
   },
   "outputs": [],
   "source": [
    "#hide\n",
    "df_table = (pd.DataFrame(dict(Cases = dfc_cases, Deaths = dfc_deaths, PCases = dfp_cases, PDeaths = dfp_deaths))\n",
    "            .sort_values(by = ['Cases','Deaths'], ascending = [False, False])\n",
    "            .reset_index())"
   ]
  },
  {
   "cell_type": "code",
   "execution_count": 13,
   "metadata": {
    "execution": {
     "iopub.execute_input": "2020-12-11T12:07:22.954731Z",
     "iopub.status.busy": "2020-12-11T12:07:22.954117Z",
     "iopub.status.idle": "2020-12-11T12:07:22.961973Z",
     "shell.execute_reply": "2020-12-11T12:07:22.961499Z"
    },
    "papermill": {
     "duration": 0.060605,
     "end_time": "2020-12-11T12:07:22.962103",
     "exception": false,
     "start_time": "2020-12-11T12:07:22.901498",
     "status": "completed"
    },
    "tags": []
   },
   "outputs": [
    {
     "data": {
      "text/html": [
       "<div>\n",
       "<style scoped>\n",
       "    .dataframe tbody tr th:only-of-type {\n",
       "        vertical-align: middle;\n",
       "    }\n",
       "\n",
       "    .dataframe tbody tr th {\n",
       "        vertical-align: top;\n",
       "    }\n",
       "\n",
       "    .dataframe thead th {\n",
       "        text-align: right;\n",
       "    }\n",
       "</style>\n",
       "<table border=\"1\" class=\"dataframe\">\n",
       "  <thead>\n",
       "    <tr style=\"text-align: right;\">\n",
       "      <th></th>\n",
       "      <th>Country/Region</th>\n",
       "      <th>Cases</th>\n",
       "      <th>Deaths</th>\n",
       "      <th>PCases</th>\n",
       "      <th>PDeaths</th>\n",
       "      <th>Cases (+)</th>\n",
       "      <th>Deaths (+)</th>\n",
       "      <th>Fatality Rate</th>\n",
       "      <th>Continent</th>\n",
       "    </tr>\n",
       "  </thead>\n",
       "  <tbody>\n",
       "    <tr>\n",
       "      <th>0</th>\n",
       "      <td>US</td>\n",
       "      <td>15611014</td>\n",
       "      <td>292141</td>\n",
       "      <td>15386562</td>\n",
       "      <td>289373</td>\n",
       "      <td>224452</td>\n",
       "      <td>2768</td>\n",
       "      <td>1.87</td>\n",
       "      <td>North America</td>\n",
       "    </tr>\n",
       "    <tr>\n",
       "      <th>1</th>\n",
       "      <td>India</td>\n",
       "      <td>9796744</td>\n",
       "      <td>142185</td>\n",
       "      <td>9767371</td>\n",
       "      <td>141772</td>\n",
       "      <td>29373</td>\n",
       "      <td>413</td>\n",
       "      <td>1.45</td>\n",
       "      <td>Asia</td>\n",
       "    </tr>\n",
       "    <tr>\n",
       "      <th>2</th>\n",
       "      <td>Brazil</td>\n",
       "      <td>6781799</td>\n",
       "      <td>179765</td>\n",
       "      <td>6728452</td>\n",
       "      <td>178995</td>\n",
       "      <td>53347</td>\n",
       "      <td>770</td>\n",
       "      <td>2.65</td>\n",
       "      <td>South America</td>\n",
       "    </tr>\n",
       "    <tr>\n",
       "      <th>3</th>\n",
       "      <td>Russia</td>\n",
       "      <td>2546113</td>\n",
       "      <td>44769</td>\n",
       "      <td>2518551</td>\n",
       "      <td>44220</td>\n",
       "      <td>27562</td>\n",
       "      <td>549</td>\n",
       "      <td>1.76</td>\n",
       "      <td>Europe</td>\n",
       "    </tr>\n",
       "    <tr>\n",
       "      <th>4</th>\n",
       "      <td>France</td>\n",
       "      <td>2391643</td>\n",
       "      <td>57044</td>\n",
       "      <td>2377913</td>\n",
       "      <td>56752</td>\n",
       "      <td>13730</td>\n",
       "      <td>292</td>\n",
       "      <td>2.39</td>\n",
       "      <td>Europe</td>\n",
       "    </tr>\n",
       "  </tbody>\n",
       "</table>\n",
       "</div>"
      ],
      "text/plain": [
       "  Country/Region     Cases  Deaths    PCases  PDeaths  Cases (+)  Deaths (+)  \\\n",
       "0             US  15611014  292141  15386562   289373     224452        2768   \n",
       "1          India   9796744  142185   9767371   141772      29373         413   \n",
       "2         Brazil   6781799  179765   6728452   178995      53347         770   \n",
       "3         Russia   2546113   44769   2518551    44220      27562         549   \n",
       "4         France   2391643   57044   2377913    56752      13730         292   \n",
       "\n",
       "   Fatality Rate      Continent  \n",
       "0           1.87  North America  \n",
       "1           1.45           Asia  \n",
       "2           2.65  South America  \n",
       "3           1.76         Europe  \n",
       "4           2.39         Europe  "
      ]
     },
     "execution_count": 13,
     "metadata": {},
     "output_type": "execute_result"
    }
   ],
   "source": [
    "#hide\n",
    "for c in 'Cases, Deaths'.split(', '):\n",
    "    df_table[f'{c} (+)'] = (df_table[c] - df_table[f'P{c}']).clip(0)\n",
    "    #Clip ça veut dire, les chiffres negatif sont interdit\n",
    "df_table['Fatality Rate'] = (100* df_table['Deaths']/ df_table['Cases']).round(2)\n",
    "df_table['Continent'] = df_table['Country/Region'].map(mapping['map.continent'])\n",
    "df_table.head(5)"
   ]
  },
  {
   "cell_type": "code",
   "execution_count": 14,
   "metadata": {
    "execution": {
     "iopub.execute_input": "2020-12-11T12:07:23.031911Z",
     "iopub.status.busy": "2020-12-11T12:07:23.031297Z",
     "iopub.status.idle": "2020-12-11T12:07:23.033326Z",
     "shell.execute_reply": "2020-12-11T12:07:23.033766Z"
    },
    "papermill": {
     "duration": 0.040958,
     "end_time": "2020-12-11T12:07:23.033915",
     "exception": false,
     "start_time": "2020-12-11T12:07:22.992957",
     "status": "completed"
    },
    "tags": []
   },
   "outputs": [],
   "source": [
    "#hide\n",
    "#delete problematic countries from table\n",
    "df_table = df_table[~df_table['Country/Region'].isin(['Cape Verde', 'Cruise Ship', 'Kosovo'])]"
   ]
  },
  {
   "cell_type": "code",
   "execution_count": 15,
   "metadata": {
    "execution": {
     "iopub.execute_input": "2020-12-11T12:07:23.107951Z",
     "iopub.status.busy": "2020-12-11T12:07:23.106989Z",
     "iopub.status.idle": "2020-12-11T12:07:23.124886Z",
     "shell.execute_reply": "2020-12-11T12:07:23.125554Z"
    },
    "papermill": {
     "duration": 0.060095,
     "end_time": "2020-12-11T12:07:23.125718",
     "exception": false,
     "start_time": "2020-12-11T12:07:23.065623",
     "status": "completed"
    },
    "tags": []
   },
   "outputs": [
    {
     "data": {
      "text/html": [
       "<div>\n",
       "<style scoped>\n",
       "    .dataframe tbody tr th:only-of-type {\n",
       "        vertical-align: middle;\n",
       "    }\n",
       "\n",
       "    .dataframe tbody tr th {\n",
       "        vertical-align: top;\n",
       "    }\n",
       "\n",
       "    .dataframe thead th {\n",
       "        text-align: right;\n",
       "    }\n",
       "</style>\n",
       "<table border=\"1\" class=\"dataframe\">\n",
       "  <thead>\n",
       "    <tr style=\"text-align: right;\">\n",
       "      <th></th>\n",
       "      <th>Country/Region</th>\n",
       "      <th>Cases</th>\n",
       "      <th>Deaths</th>\n",
       "      <th>PCases</th>\n",
       "      <th>PDeaths</th>\n",
       "      <th>Cases (+)</th>\n",
       "      <th>Deaths (+)</th>\n",
       "      <th>Fatality Rate</th>\n",
       "      <th>Continent</th>\n",
       "    </tr>\n",
       "  </thead>\n",
       "  <tbody>\n",
       "    <tr>\n",
       "      <th>0</th>\n",
       "      <td>US</td>\n",
       "      <td>15611014</td>\n",
       "      <td>292141</td>\n",
       "      <td>15386562</td>\n",
       "      <td>289373</td>\n",
       "      <td>224452</td>\n",
       "      <td>2768</td>\n",
       "      <td>1.9</td>\n",
       "      <td>North America</td>\n",
       "    </tr>\n",
       "    <tr>\n",
       "      <th>1</th>\n",
       "      <td>India</td>\n",
       "      <td>9796744</td>\n",
       "      <td>142185</td>\n",
       "      <td>9767371</td>\n",
       "      <td>141772</td>\n",
       "      <td>29373</td>\n",
       "      <td>413</td>\n",
       "      <td>1.5</td>\n",
       "      <td>Asia</td>\n",
       "    </tr>\n",
       "    <tr>\n",
       "      <th>2</th>\n",
       "      <td>Brazil</td>\n",
       "      <td>6781799</td>\n",
       "      <td>179765</td>\n",
       "      <td>6728452</td>\n",
       "      <td>178995</td>\n",
       "      <td>53347</td>\n",
       "      <td>770</td>\n",
       "      <td>2.7</td>\n",
       "      <td>South America</td>\n",
       "    </tr>\n",
       "    <tr>\n",
       "      <th>3</th>\n",
       "      <td>Russia</td>\n",
       "      <td>2546113</td>\n",
       "      <td>44769</td>\n",
       "      <td>2518551</td>\n",
       "      <td>44220</td>\n",
       "      <td>27562</td>\n",
       "      <td>549</td>\n",
       "      <td>1.8</td>\n",
       "      <td>Europe</td>\n",
       "    </tr>\n",
       "    <tr>\n",
       "      <th>4</th>\n",
       "      <td>France</td>\n",
       "      <td>2391643</td>\n",
       "      <td>57044</td>\n",
       "      <td>2377913</td>\n",
       "      <td>56752</td>\n",
       "      <td>13730</td>\n",
       "      <td>292</td>\n",
       "      <td>2.4</td>\n",
       "      <td>Europe</td>\n",
       "    </tr>\n",
       "  </tbody>\n",
       "</table>\n",
       "</div>"
      ],
      "text/plain": [
       "  Country/Region     Cases  Deaths    PCases  PDeaths  Cases (+)  Deaths (+)  \\\n",
       "0             US  15611014  292141  15386562   289373     224452        2768   \n",
       "1          India   9796744  142185   9767371   141772      29373         413   \n",
       "2         Brazil   6781799  179765   6728452   178995      53347         770   \n",
       "3         Russia   2546113   44769   2518551    44220      27562         549   \n",
       "4         France   2391643   57044   2377913    56752      13730         292   \n",
       "\n",
       "   Fatality Rate      Continent  \n",
       "0            1.9  North America  \n",
       "1            1.5           Asia  \n",
       "2            2.7  South America  \n",
       "3            1.8         Europe  \n",
       "4            2.4         Europe  "
      ]
     },
     "execution_count": 15,
     "metadata": {},
     "output_type": "execute_result"
    }
   ],
   "source": [
    "#hide\n",
    "df_table = (pd.DataFrame(dict(Cases=dfc_cases, Deaths=dfc_deaths, PCases=dfp_cases, PDeaths=dfp_deaths))\n",
    "             .sort_values(by=['Cases', 'Deaths'], ascending=[False, False])\n",
    "             .reset_index())\n",
    "df_table.rename(columns={'index': 'Country/Region'}, inplace=True)\n",
    "for c in 'Cases, Deaths'.split(', '):\n",
    "    df_table[f'{c} (+)'] = (df_table[c] - df_table[f'P{c}']).clip(0)  # DATA BUG\n",
    "df_table['Fatality Rate'] = (100 * df_table['Deaths'] / df_table['Cases']).round(1)\n",
    "df_table['Continent'] = df_table['Country/Region'].map(mapping['map.continent'])\n",
    "df_table.head(5)"
   ]
  },
  {
   "cell_type": "code",
   "execution_count": 16,
   "metadata": {
    "execution": {
     "iopub.execute_input": "2020-12-11T12:07:23.197141Z",
     "iopub.status.busy": "2020-12-11T12:07:23.196536Z",
     "iopub.status.idle": "2020-12-11T12:07:23.200034Z",
     "shell.execute_reply": "2020-12-11T12:07:23.199529Z"
    },
    "papermill": {
     "duration": 0.041504,
     "end_time": "2020-12-11T12:07:23.200158",
     "exception": false,
     "start_time": "2020-12-11T12:07:23.158654",
     "status": "completed"
    },
    "tags": []
   },
   "outputs": [],
   "source": [
    "#hide\n",
    "#delete problematic countries from table\n",
    "df_table = df_table[~df_table['Country/Region'].isin(['Cape Verde', 'Cruise Ship', 'Kosovo'])]"
   ]
  },
  {
   "cell_type": "code",
   "execution_count": 17,
   "metadata": {
    "execution": {
     "iopub.execute_input": "2020-12-11T12:07:23.287945Z",
     "iopub.status.busy": "2020-12-11T12:07:23.287284Z",
     "iopub.status.idle": "2020-12-11T12:07:23.289699Z",
     "shell.execute_reply": "2020-12-11T12:07:23.289204Z"
    },
    "papermill": {
     "duration": 0.058478,
     "end_time": "2020-12-11T12:07:23.289839",
     "exception": false,
     "start_time": "2020-12-11T12:07:23.231361",
     "status": "completed"
    },
    "tags": []
   },
   "outputs": [],
   "source": [
    "#hide\n",
    "metrics = [df_table.columns[index] for index in [1,2,5,6]]\n",
    "# s_china = df_table[df_table['Country/Region'].eq('China')][metrics].sum().add_prefix('China ')\n",
    "s_us = df_table[df_table['Country/Region'].eq('US')][metrics].sum().add_prefix('US ')\n",
    "s_eu = df_table[df_table['Continent'].eq('Europe')][metrics].sum().add_prefix('EU ')\n",
    "s_ind = df_table[df_table['Country/Region'].eq('India')][metrics].sum().add_prefix('India ')\n",
    "summary = {'updated': pd.to_datetime(dt_today), 'since': pd.to_datetime(dt_yday)}\n",
    "summary = {'updated': pd.to_datetime(dt_today), 'since': pd.to_datetime(dt_yday)}\n",
    "summary = {**summary, **df_table[metrics].sum(), **s_ind, **s_us, **s_eu}"
   ]
  },
  {
   "cell_type": "code",
   "execution_count": 18,
   "metadata": {
    "execution": {
     "iopub.execute_input": "2020-12-11T12:07:23.361475Z",
     "iopub.status.busy": "2020-12-11T12:07:23.360887Z",
     "iopub.status.idle": "2020-12-11T12:07:23.372272Z",
     "shell.execute_reply": "2020-12-11T12:07:23.371777Z"
    },
    "papermill": {
     "duration": 0.049747,
     "end_time": "2020-12-11T12:07:23.372411",
     "exception": false,
     "start_time": "2020-12-11T12:07:23.322664",
     "status": "completed"
    },
    "tags": []
   },
   "outputs": [],
   "source": [
    "#hide\n",
    "dft_ct_new_cases = dft_cases.groupby(COL_REGION)[dt_cols].sum().diff(axis=1).fillna(0).astype(int)"
   ]
  },
  {
   "cell_type": "code",
   "execution_count": 19,
   "metadata": {
    "execution": {
     "iopub.execute_input": "2020-12-11T12:07:23.445752Z",
     "iopub.status.busy": "2020-12-11T12:07:23.445143Z",
     "iopub.status.idle": "2020-12-11T12:07:23.447625Z",
     "shell.execute_reply": "2020-12-11T12:07:23.448115Z"
    },
    "papermill": {
     "duration": 0.041641,
     "end_time": "2020-12-11T12:07:23.448269",
     "exception": false,
     "start_time": "2020-12-11T12:07:23.406628",
     "status": "completed"
    },
    "tags": []
   },
   "outputs": [],
   "source": [
    "#hide\n",
    "everydaycases = dft_ct_new_cases.cumsum(axis=1)"
   ]
  },
  {
   "cell_type": "code",
   "execution_count": 20,
   "metadata": {
    "execution": {
     "iopub.execute_input": "2020-12-11T12:07:23.520691Z",
     "iopub.status.busy": "2020-12-11T12:07:23.520087Z",
     "iopub.status.idle": "2020-12-11T12:07:25.365499Z",
     "shell.execute_reply": "2020-12-11T12:07:25.366016Z"
    },
    "papermill": {
     "duration": 1.885817,
     "end_time": "2020-12-11T12:07:25.366177",
     "exception": false,
     "start_time": "2020-12-11T12:07:23.480360",
     "status": "completed"
    },
    "tags": []
   },
   "outputs": [],
   "source": [
    "#hide\n",
    "import pandas as pd\n",
    "import matplotlib.pyplot as plt\n",
    "import matplotlib.ticker as ticker\n",
    "import matplotlib.animation as animation\n",
    "from IPython.display import HTML"
   ]
  },
  {
   "cell_type": "code",
   "execution_count": 21,
   "metadata": {
    "execution": {
     "iopub.execute_input": "2020-12-11T12:07:25.435523Z",
     "iopub.status.busy": "2020-12-11T12:07:25.434590Z",
     "iopub.status.idle": "2020-12-11T12:07:25.440636Z",
     "shell.execute_reply": "2020-12-11T12:07:25.440036Z"
    },
    "papermill": {
     "duration": 0.043512,
     "end_time": "2020-12-11T12:07:25.440766",
     "exception": false,
     "start_time": "2020-12-11T12:07:25.397254",
     "status": "completed"
    },
    "tags": []
   },
   "outputs": [],
   "source": [
    "#hide\n",
    "t = everydaycases.stack()"
   ]
  },
  {
   "cell_type": "code",
   "execution_count": 22,
   "metadata": {
    "execution": {
     "iopub.execute_input": "2020-12-11T12:07:25.509093Z",
     "iopub.status.busy": "2020-12-11T12:07:25.508501Z",
     "iopub.status.idle": "2020-12-11T12:07:25.515776Z",
     "shell.execute_reply": "2020-12-11T12:07:25.515132Z"
    },
    "papermill": {
     "duration": 0.043776,
     "end_time": "2020-12-11T12:07:25.515911",
     "exception": false,
     "start_time": "2020-12-11T12:07:25.472135",
     "status": "completed"
    },
    "tags": []
   },
   "outputs": [],
   "source": [
    "#hide\n",
    "g = t.reset_index(['Country/Region'])"
   ]
  },
  {
   "cell_type": "code",
   "execution_count": 23,
   "metadata": {
    "execution": {
     "iopub.execute_input": "2020-12-11T12:07:25.583201Z",
     "iopub.status.busy": "2020-12-11T12:07:25.582598Z",
     "iopub.status.idle": "2020-12-11T12:07:25.585096Z",
     "shell.execute_reply": "2020-12-11T12:07:25.585574Z"
    },
    "papermill": {
     "duration": 0.038868,
     "end_time": "2020-12-11T12:07:25.585720",
     "exception": false,
     "start_time": "2020-12-11T12:07:25.546852",
     "status": "completed"
    },
    "tags": []
   },
   "outputs": [],
   "source": [
    "#hide\n",
    "g.index.name = 'date'"
   ]
  },
  {
   "cell_type": "code",
   "execution_count": 24,
   "metadata": {
    "execution": {
     "iopub.execute_input": "2020-12-11T12:07:25.658156Z",
     "iopub.status.busy": "2020-12-11T12:07:25.657126Z",
     "iopub.status.idle": "2020-12-11T12:07:25.659230Z",
     "shell.execute_reply": "2020-12-11T12:07:25.660083Z"
    },
    "papermill": {
     "duration": 0.041359,
     "end_time": "2020-12-11T12:07:25.660312",
     "exception": false,
     "start_time": "2020-12-11T12:07:25.618953",
     "status": "completed"
    },
    "tags": []
   },
   "outputs": [],
   "source": [
    "# #hide\n",
    "# g = g.reset_index(['date'])"
   ]
  },
  {
   "cell_type": "code",
   "execution_count": 25,
   "metadata": {
    "execution": {
     "iopub.execute_input": "2020-12-11T12:07:25.729173Z",
     "iopub.status.busy": "2020-12-11T12:07:25.728582Z",
     "iopub.status.idle": "2020-12-11T12:07:25.730935Z",
     "shell.execute_reply": "2020-12-11T12:07:25.731519Z"
    },
    "papermill": {
     "duration": 0.040524,
     "end_time": "2020-12-11T12:07:25.731668",
     "exception": false,
     "start_time": "2020-12-11T12:07:25.691144",
     "status": "completed"
    },
    "tags": []
   },
   "outputs": [],
   "source": [
    "#hide\n",
    "# g.head()"
   ]
  },
  {
   "cell_type": "code",
   "execution_count": 26,
   "metadata": {
    "execution": {
     "iopub.execute_input": "2020-12-11T12:07:25.801152Z",
     "iopub.status.busy": "2020-12-11T12:07:25.800562Z",
     "iopub.status.idle": "2020-12-11T12:07:25.802764Z",
     "shell.execute_reply": "2020-12-11T12:07:25.803356Z"
    },
    "papermill": {
     "duration": 0.037821,
     "end_time": "2020-12-11T12:07:25.803503",
     "exception": false,
     "start_time": "2020-12-11T12:07:25.765682",
     "status": "completed"
    },
    "tags": []
   },
   "outputs": [],
   "source": [
    "#hide\n",
    "# g.columns = ['date','country','cases']"
   ]
  },
  {
   "cell_type": "code",
   "execution_count": 27,
   "metadata": {
    "execution": {
     "iopub.execute_input": "2020-12-11T12:07:25.879324Z",
     "iopub.status.busy": "2020-12-11T12:07:25.878694Z",
     "iopub.status.idle": "2020-12-11T12:07:25.880977Z",
     "shell.execute_reply": "2020-12-11T12:07:25.881752Z"
    },
    "papermill": {
     "duration": 0.047824,
     "end_time": "2020-12-11T12:07:25.881905",
     "exception": false,
     "start_time": "2020-12-11T12:07:25.834081",
     "status": "completed"
    },
    "tags": []
   },
   "outputs": [],
   "source": [
    "#hide\n",
    "# g['continent'] = g.country"
   ]
  },
  {
   "cell_type": "code",
   "execution_count": 28,
   "metadata": {
    "execution": {
     "iopub.execute_input": "2020-12-11T12:07:26.584346Z",
     "iopub.status.busy": "2020-12-11T12:07:26.583751Z",
     "iopub.status.idle": "2020-12-11T12:07:26.585944Z",
     "shell.execute_reply": "2020-12-11T12:07:26.585451Z"
    },
    "papermill": {
     "duration": 0.394178,
     "end_time": "2020-12-11T12:07:26.586071",
     "exception": false,
     "start_time": "2020-12-11T12:07:26.191893",
     "status": "completed"
    },
    "tags": []
   },
   "outputs": [],
   "source": [
    "#hide\n",
    "# cols = list(g.columns.values)"
   ]
  },
  {
   "cell_type": "code",
   "execution_count": 29,
   "metadata": {
    "execution": {
     "iopub.execute_input": "2020-12-11T12:07:26.725827Z",
     "iopub.status.busy": "2020-12-11T12:07:26.725219Z",
     "iopub.status.idle": "2020-12-11T12:07:26.726965Z",
     "shell.execute_reply": "2020-12-11T12:07:26.727496Z"
    },
    "papermill": {
     "duration": 0.039287,
     "end_time": "2020-12-11T12:07:26.727650",
     "exception": false,
     "start_time": "2020-12-11T12:07:26.688363",
     "status": "completed"
    },
    "tags": []
   },
   "outputs": [],
   "source": [
    "#hide\n",
    "# cols.insert(0, cols.pop())"
   ]
  },
  {
   "cell_type": "code",
   "execution_count": 30,
   "metadata": {
    "execution": {
     "iopub.execute_input": "2020-12-11T12:07:26.796458Z",
     "iopub.status.busy": "2020-12-11T12:07:26.795835Z",
     "iopub.status.idle": "2020-12-11T12:07:26.797605Z",
     "shell.execute_reply": "2020-12-11T12:07:26.798153Z"
    },
    "papermill": {
     "duration": 0.038951,
     "end_time": "2020-12-11T12:07:26.798303",
     "exception": false,
     "start_time": "2020-12-11T12:07:26.759352",
     "status": "completed"
    },
    "tags": []
   },
   "outputs": [],
   "source": [
    "#hide\n",
    "# g = g[cols]"
   ]
  },
  {
   "cell_type": "code",
   "execution_count": 31,
   "metadata": {
    "execution": {
     "iopub.execute_input": "2020-12-11T12:07:26.867546Z",
     "iopub.status.busy": "2020-12-11T12:07:26.866905Z",
     "iopub.status.idle": "2020-12-11T12:07:26.868650Z",
     "shell.execute_reply": "2020-12-11T12:07:26.869117Z"
    },
    "papermill": {
     "duration": 0.03777,
     "end_time": "2020-12-11T12:07:26.869263",
     "exception": false,
     "start_time": "2020-12-11T12:07:26.831493",
     "status": "completed"
    },
    "tags": []
   },
   "outputs": [],
   "source": [
    "#hide\n",
    "# g['continent'] = g['continent'].map(mapping['map.continent'])"
   ]
  },
  {
   "cell_type": "code",
   "execution_count": 32,
   "metadata": {
    "execution": {
     "iopub.execute_input": "2020-12-11T12:07:26.937506Z",
     "iopub.status.busy": "2020-12-11T12:07:26.936891Z",
     "iopub.status.idle": "2020-12-11T12:07:26.939467Z",
     "shell.execute_reply": "2020-12-11T12:07:26.938858Z"
    },
    "papermill": {
     "duration": 0.038687,
     "end_time": "2020-12-11T12:07:26.939597",
     "exception": false,
     "start_time": "2020-12-11T12:07:26.900910",
     "status": "completed"
    },
    "tags": []
   },
   "outputs": [],
   "source": [
    "#hide\n",
    "# g.head()"
   ]
  },
  {
   "cell_type": "code",
   "execution_count": 33,
   "metadata": {
    "execution": {
     "iopub.execute_input": "2020-12-11T12:07:27.009888Z",
     "iopub.status.busy": "2020-12-11T12:07:27.009269Z",
     "iopub.status.idle": "2020-12-11T12:07:27.011596Z",
     "shell.execute_reply": "2020-12-11T12:07:27.011072Z"
    },
    "papermill": {
     "duration": 0.039214,
     "end_time": "2020-12-11T12:07:27.011726",
     "exception": false,
     "start_time": "2020-12-11T12:07:26.972512",
     "status": "completed"
    },
    "tags": []
   },
   "outputs": [],
   "source": [
    "# hide\n",
    "# g['date'] = g['date'].astype('datetime64[ns]')"
   ]
  },
  {
   "cell_type": "code",
   "execution_count": 34,
   "metadata": {
    "execution": {
     "iopub.execute_input": "2020-12-11T12:07:27.088676Z",
     "iopub.status.busy": "2020-12-11T12:07:27.088089Z",
     "iopub.status.idle": "2020-12-11T12:07:27.090265Z",
     "shell.execute_reply": "2020-12-11T12:07:27.089770Z"
    },
    "papermill": {
     "duration": 0.046369,
     "end_time": "2020-12-11T12:07:27.090393",
     "exception": false,
     "start_time": "2020-12-11T12:07:27.044024",
     "status": "completed"
    },
    "tags": []
   },
   "outputs": [],
   "source": [
    "#hide\n",
    "# g['date'] = g.date.dt.dayofyear"
   ]
  },
  {
   "cell_type": "code",
   "execution_count": 35,
   "metadata": {
    "execution": {
     "iopub.execute_input": "2020-12-11T12:07:27.160441Z",
     "iopub.status.busy": "2020-12-11T12:07:27.159854Z",
     "iopub.status.idle": "2020-12-11T12:07:27.161592Z",
     "shell.execute_reply": "2020-12-11T12:07:27.162132Z"
    },
    "papermill": {
     "duration": 0.03993,
     "end_time": "2020-12-11T12:07:27.162275",
     "exception": false,
     "start_time": "2020-12-11T12:07:27.122345",
     "status": "completed"
    },
    "tags": []
   },
   "outputs": [],
   "source": [
    "#hide\n",
    "# g = g.rename(columns= {'continent':'group','country':'name','cases':'value'})"
   ]
  },
  {
   "cell_type": "code",
   "execution_count": 36,
   "metadata": {
    "execution": {
     "iopub.execute_input": "2020-12-11T12:07:27.231528Z",
     "iopub.status.busy": "2020-12-11T12:07:27.230898Z",
     "iopub.status.idle": "2020-12-11T12:07:27.233895Z",
     "shell.execute_reply": "2020-12-11T12:07:27.234658Z"
    },
    "papermill": {
     "duration": 0.039675,
     "end_time": "2020-12-11T12:07:27.234810",
     "exception": false,
     "start_time": "2020-12-11T12:07:27.195135",
     "status": "completed"
    },
    "tags": []
   },
   "outputs": [],
   "source": [
    "#hide\n",
    "# cols = ['name','group','day','value']"
   ]
  },
  {
   "cell_type": "code",
   "execution_count": 37,
   "metadata": {
    "execution": {
     "iopub.execute_input": "2020-12-11T12:07:27.302537Z",
     "iopub.status.busy": "2020-12-11T12:07:27.301943Z",
     "iopub.status.idle": "2020-12-11T12:07:27.304428Z",
     "shell.execute_reply": "2020-12-11T12:07:27.303929Z"
    },
    "papermill": {
     "duration": 0.037161,
     "end_time": "2020-12-11T12:07:27.304554",
     "exception": false,
     "start_time": "2020-12-11T12:07:27.267393",
     "status": "completed"
    },
    "tags": []
   },
   "outputs": [],
   "source": [
    "#hide\n",
    "# g.rename(columns= {'date':'day'},inplace = True)"
   ]
  },
  {
   "cell_type": "code",
   "execution_count": 38,
   "metadata": {
    "execution": {
     "iopub.execute_input": "2020-12-11T12:07:27.370408Z",
     "iopub.status.busy": "2020-12-11T12:07:27.369819Z",
     "iopub.status.idle": "2020-12-11T12:07:27.372657Z",
     "shell.execute_reply": "2020-12-11T12:07:27.372161Z"
    },
    "papermill": {
     "duration": 0.037767,
     "end_time": "2020-12-11T12:07:27.372784",
     "exception": false,
     "start_time": "2020-12-11T12:07:27.335017",
     "status": "completed"
    },
    "tags": []
   },
   "outputs": [],
   "source": [
    "#hide\n",
    "# g = g[cols]"
   ]
  },
  {
   "cell_type": "code",
   "execution_count": 39,
   "metadata": {
    "execution": {
     "iopub.execute_input": "2020-12-11T12:07:27.438030Z",
     "iopub.status.busy": "2020-12-11T12:07:27.437436Z",
     "iopub.status.idle": "2020-12-11T12:07:27.439667Z",
     "shell.execute_reply": "2020-12-11T12:07:27.440229Z"
    },
    "papermill": {
     "duration": 0.036996,
     "end_time": "2020-12-11T12:07:27.440385",
     "exception": false,
     "start_time": "2020-12-11T12:07:27.403389",
     "status": "completed"
    },
    "tags": []
   },
   "outputs": [],
   "source": [
    "# #hide\n",
    "# g = g[g.group.notna()]"
   ]
  },
  {
   "cell_type": "code",
   "execution_count": 40,
   "metadata": {
    "execution": {
     "iopub.execute_input": "2020-12-11T12:07:27.506420Z",
     "iopub.status.busy": "2020-12-11T12:07:27.505785Z",
     "iopub.status.idle": "2020-12-11T12:07:27.507220Z",
     "shell.execute_reply": "2020-12-11T12:07:27.507747Z"
    },
    "papermill": {
     "duration": 0.037214,
     "end_time": "2020-12-11T12:07:27.507891",
     "exception": false,
     "start_time": "2020-12-11T12:07:27.470677",
     "status": "completed"
    },
    "tags": []
   },
   "outputs": [],
   "source": [
    "# #hide\n",
    "# colors = dict(zip(\n",
    "#     [\"Oceania\", \"Europe\", \"Asia\", \"South America\", \"Middle East\", \"North America\", \"Africa\"],\n",
    "#     [\"#adb0ff\", \"#ffb3ff\", \"#90d595\", \"#e48381\", \"#aafbff\", \"#f7bb5f\", \"#eafb50\"]\n",
    "# ))\n",
    "# group_lk = g.set_index('name')['group'].to_dict()"
   ]
  },
  {
   "cell_type": "code",
   "execution_count": null,
   "metadata": {
    "papermill": {
     "duration": 0.031006,
     "end_time": "2020-12-11T12:07:27.570410",
     "exception": false,
     "start_time": "2020-12-11T12:07:27.539404",
     "status": "completed"
    },
    "tags": []
   },
   "outputs": [],
   "source": []
  },
  {
   "cell_type": "code",
   "execution_count": 41,
   "metadata": {
    "execution": {
     "iopub.execute_input": "2020-12-11T12:07:27.637390Z",
     "iopub.status.busy": "2020-12-11T12:07:27.636755Z",
     "iopub.status.idle": "2020-12-11T12:07:27.639446Z",
     "shell.execute_reply": "2020-12-11T12:07:27.640037Z"
    },
    "papermill": {
     "duration": 0.038596,
     "end_time": "2020-12-11T12:07:27.640191",
     "exception": false,
     "start_time": "2020-12-11T12:07:27.601595",
     "status": "completed"
    },
    "tags": []
   },
   "outputs": [],
   "source": [
    "# #hide\n",
    "# fig, ax = plt.subplots(figsize=(15, 8))\n",
    "\n",
    "# def draw_barchart(current_day):\n",
    "#     dff = g[g['day'].eq(current_day)].sort_values(by='value', ascending=True).tail(10)\n",
    "#     ax.clear()\n",
    "#     ax.barh(dff['name'], dff['value'], color=[colors[group_lk[x]] for x in dff['name']])\n",
    "#     dx = dff['value'].max() / 200\n",
    "    \n",
    "#     for i, (value, name) in enumerate(zip(dff['value'], dff['name'])):\n",
    "#         ax.text(value-dx, i,     name,           size=14, weight=600, ha='right', va='bottom')\n",
    "#         ax.text(value-dx, i-.25, group_lk[name], size=10, color='#444444', ha='right', va='baseline')\n",
    "#         ax.text(value+dx, i,     f'{value:,.0f}',  size=14, ha='left',  va='center')\n",
    "#     ax.text(1, 0.4, current_day, transform=ax.transAxes, color='#777777', size=46, ha='right', weight=800)\n",
    "#     ax.text(0, 1.06, 'Population (thousands)', transform=ax.transAxes, size=12, color='#777777')\n",
    "#     ax.xaxis.set_major_formatter(ticker.StrMethodFormatter('{x:,.0f}'))\n",
    "#     ax.xaxis.set_ticks_position('top')\n",
    "#     ax.tick_params(axis='x', colors='#777777', labelsize=12)\n",
    "#     ax.set_yticks([])\n",
    "#     ax.margins(0, 0.01)\n",
    "#     ax.grid(which='major', axis='x', linestyle='-')\n",
    "#     ax.set_axisbelow(True)\n",
    "    \n",
    "#     ax.text(0, 1.15, 'Coronavirus',\n",
    "#             transform=ax.transAxes, size=24, weight=600, ha='left', va='top')\n",
    "# #     ax.text(1, 0, 'by @pratapvardhan; credit @jburnmurdoch', transform=ax.transAxes, color='#777777', ha='right',\n",
    "# #             bbox=dict(facecolor='white', alpha=0.8, edgecolor='white'))\n",
    "#     plt.box(False)"
   ]
  },
  {
   "cell_type": "code",
   "execution_count": 42,
   "metadata": {
    "execution": {
     "iopub.execute_input": "2020-12-11T12:07:27.707147Z",
     "iopub.status.busy": "2020-12-11T12:07:27.706540Z",
     "iopub.status.idle": "2020-12-11T12:07:27.710154Z",
     "shell.execute_reply": "2020-12-11T12:07:27.710717Z"
    },
    "papermill": {
     "duration": 0.039365,
     "end_time": "2020-12-11T12:07:27.710866",
     "exception": false,
     "start_time": "2020-12-11T12:07:27.671501",
     "status": "completed"
    },
    "tags": []
   },
   "outputs": [],
   "source": [
    "# #hide_input\n",
    "# fig, ax = plt.subplots(figsize=(15, 8))\n",
    "# animator = animation.FuncAnimation(fig, draw_barchart, frames=range(g.day.values.min(), g.day.values.max()))\n",
    "# HTML(animator.to_jshtml())\n",
    "# # or use animator.to_html5_video() or animator.save() "
   ]
  },
  {
   "cell_type": "code",
   "execution_count": null,
   "metadata": {
    "papermill": {
     "duration": 0.031553,
     "end_time": "2020-12-11T12:07:27.773449",
     "exception": false,
     "start_time": "2020-12-11T12:07:27.741896",
     "status": "completed"
    },
    "tags": []
   },
   "outputs": [],
   "source": []
  },
  {
   "cell_type": "code",
   "execution_count": null,
   "metadata": {
    "papermill": {
     "duration": 0.030822,
     "end_time": "2020-12-11T12:07:27.836300",
     "exception": false,
     "start_time": "2020-12-11T12:07:27.805478",
     "status": "completed"
    },
    "tags": []
   },
   "outputs": [],
   "source": []
  },
  {
   "cell_type": "code",
   "execution_count": null,
   "metadata": {
    "papermill": {
     "duration": 0.030809,
     "end_time": "2020-12-11T12:07:27.898479",
     "exception": false,
     "start_time": "2020-12-11T12:07:27.867670",
     "status": "completed"
    },
    "tags": []
   },
   "outputs": [],
   "source": []
  }
 ],
 "metadata": {
  "kernelspec": {
   "display_name": "Python 3",
   "language": "python",
   "name": "python3"
  },
  "language_info": {
   "codemirror_mode": {
    "name": "ipython",
    "version": 3
   },
   "file_extension": ".py",
   "mimetype": "text/x-python",
   "name": "python",
   "nbconvert_exporter": "python",
   "pygments_lexer": "ipython3",
   "version": "3.6.12"
  },
  "papermill": {
   "duration": 8.231419,
   "end_time": "2020-12-11T12:07:28.339444",
   "environment_variables": {},
   "exception": null,
   "input_path": "2020-03-21-covid19exp.ipynb",
   "output_path": "2020-03-21-covid19exp.ipynb",
   "parameters": {},
   "start_time": "2020-12-11T12:07:20.108025",
   "version": "2.0.0"
  }
 },
 "nbformat": 4,
 "nbformat_minor": 4
}