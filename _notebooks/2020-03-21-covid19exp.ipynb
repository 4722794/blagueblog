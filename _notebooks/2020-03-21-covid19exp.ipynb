{
 "cells": [
  {
   "cell_type": "markdown",
   "id": "muslim-click",
   "metadata": {
    "papermill": {
     "duration": 0.046422,
     "end_time": "2021-06-17T00:19:58.747547",
     "exception": false,
     "start_time": "2021-06-17T00:19:58.701125",
     "status": "completed"
    },
    "tags": []
   },
   "source": [
    "# COVID-19 Case Race\n",
    "> A race chart to see rising cases around the world\n",
    "\n",
    "- author: Hargun Oberoi\n",
    "- image: images/covid-overview.png\n",
    "- hide: false\n",
    "- badges: false"
   ]
  },
  {
   "cell_type": "code",
   "execution_count": 1,
   "id": "proof-material",
   "metadata": {
    "execution": {
     "iopub.execute_input": "2021-06-17T00:19:58.843404Z",
     "iopub.status.busy": "2021-06-17T00:19:58.842584Z",
     "iopub.status.idle": "2021-06-17T00:19:59.273855Z",
     "shell.execute_reply": "2021-06-17T00:19:59.274421Z"
    },
    "papermill": {
     "duration": 0.483564,
     "end_time": "2021-06-17T00:19:59.274630",
     "exception": false,
     "start_time": "2021-06-17T00:19:58.791066",
     "status": "completed"
    },
    "tags": []
   },
   "outputs": [],
   "source": [
    "#hide\n",
    "import numpy as np\n",
    "import pandas as pd\n",
    "from jinja2 import Template\n",
    "from IPython.display import HTML"
   ]
  },
  {
   "cell_type": "code",
   "execution_count": 2,
   "id": "developed-terminology",
   "metadata": {
    "execution": {
     "iopub.execute_input": "2021-06-17T00:19:59.361896Z",
     "iopub.status.busy": "2021-06-17T00:19:59.360374Z",
     "iopub.status.idle": "2021-06-17T00:19:59.362641Z",
     "shell.execute_reply": "2021-06-17T00:19:59.363185Z"
    },
    "papermill": {
     "duration": 0.04891,
     "end_time": "2021-06-17T00:19:59.363355",
     "exception": false,
     "start_time": "2021-06-17T00:19:59.314445",
     "status": "completed"
    },
    "tags": []
   },
   "outputs": [],
   "source": [
    "#hide\n",
    "\n",
    "# FETCH\n",
    "base_url = 'https://raw.githubusercontent.com/pratapvardhan/notebooks/master/covid19/'\n",
    "paths = {\n",
    "    'mapping': base_url + 'mapping_countries.csv',\n",
    "    'overview': base_url + 'overview.tpl'\n",
    "}"
   ]
  },
  {
   "cell_type": "code",
   "execution_count": 3,
   "id": "dynamic-saver",
   "metadata": {
    "execution": {
     "iopub.execute_input": "2021-06-17T00:19:59.456517Z",
     "iopub.status.busy": "2021-06-17T00:19:59.455130Z",
     "iopub.status.idle": "2021-06-17T00:19:59.465727Z",
     "shell.execute_reply": "2021-06-17T00:19:59.465114Z"
    },
    "papermill": {
     "duration": 0.063787,
     "end_time": "2021-06-17T00:19:59.465878",
     "exception": false,
     "start_time": "2021-06-17T00:19:59.402091",
     "status": "completed"
    },
    "tags": []
   },
   "outputs": [
    {
     "data": {
      "text/plain": [
       "'https://raw.githubusercontent.com/pratapvardhan/notebooks/master/covid19/mapping_countries.csv'"
      ]
     },
     "execution_count": 3,
     "metadata": {},
     "output_type": "execute_result"
    }
   ],
   "source": [
    "#hide\n",
    "paths['mapping']"
   ]
  },
  {
   "cell_type": "code",
   "execution_count": 4,
   "id": "urban-software",
   "metadata": {
    "execution": {
     "iopub.execute_input": "2021-06-17T00:19:59.553577Z",
     "iopub.status.busy": "2021-06-17T00:19:59.552825Z",
     "iopub.status.idle": "2021-06-17T00:19:59.555570Z",
     "shell.execute_reply": "2021-06-17T00:19:59.554981Z"
    },
    "papermill": {
     "duration": 0.048627,
     "end_time": "2021-06-17T00:19:59.555715",
     "exception": false,
     "start_time": "2021-06-17T00:19:59.507088",
     "status": "completed"
    },
    "tags": []
   },
   "outputs": [],
   "source": [
    "#hide\n",
    "def get_mappings(url):\n",
    "    df = pd.read_csv(url)\n",
    "    return {\n",
    "        'df': df,\n",
    "        'replace.country': dict(df.dropna(subset=['Name']).set_index('Country')['Name']),\n",
    "        'map.continent': dict(df.set_index('Name')['Continent'])\n",
    "    }"
   ]
  },
  {
   "cell_type": "code",
   "execution_count": 5,
   "id": "intimate-machinery",
   "metadata": {
    "execution": {
     "iopub.execute_input": "2021-06-17T00:19:59.643591Z",
     "iopub.status.busy": "2021-06-17T00:19:59.642875Z",
     "iopub.status.idle": "2021-06-17T00:19:59.712003Z",
     "shell.execute_reply": "2021-06-17T00:19:59.711416Z"
    },
    "papermill": {
     "duration": 0.114915,
     "end_time": "2021-06-17T00:19:59.712156",
     "exception": false,
     "start_time": "2021-06-17T00:19:59.597241",
     "status": "completed"
    },
    "tags": []
   },
   "outputs": [],
   "source": [
    "#hide\n",
    "mapping = get_mappings(paths['mapping'])"
   ]
  },
  {
   "cell_type": "code",
   "execution_count": 6,
   "id": "certified-tactics",
   "metadata": {
    "execution": {
     "iopub.execute_input": "2021-06-17T00:19:59.794719Z",
     "iopub.status.busy": "2021-06-17T00:19:59.794036Z",
     "iopub.status.idle": "2021-06-17T00:19:59.796652Z",
     "shell.execute_reply": "2021-06-17T00:19:59.796073Z"
    },
    "papermill": {
     "duration": 0.046241,
     "end_time": "2021-06-17T00:19:59.796791",
     "exception": false,
     "start_time": "2021-06-17T00:19:59.750550",
     "status": "completed"
    },
    "tags": []
   },
   "outputs": [],
   "source": [
    "#hide\n",
    "def get_template(path):\n",
    "    from urllib.parse import urlparse\n",
    "    if bool(urlparse(path).netloc):\n",
    "        from urllib.request import urlopen\n",
    "        return urlopen(path).read().decode('utf8')\n",
    "    return open(path).read()"
   ]
  },
  {
   "cell_type": "code",
   "execution_count": 7,
   "id": "realistic-blast",
   "metadata": {
    "execution": {
     "iopub.execute_input": "2021-06-17T00:19:59.881991Z",
     "iopub.status.busy": "2021-06-17T00:19:59.881280Z",
     "iopub.status.idle": "2021-06-17T00:19:59.883087Z",
     "shell.execute_reply": "2021-06-17T00:19:59.883642Z"
    },
    "papermill": {
     "duration": 0.046724,
     "end_time": "2021-06-17T00:19:59.883812",
     "exception": false,
     "start_time": "2021-06-17T00:19:59.837088",
     "status": "completed"
    },
    "tags": []
   },
   "outputs": [],
   "source": [
    "#hide\n",
    "def get_frame(name):\n",
    "    url = (\n",
    "        'https://raw.githubusercontent.com/CSSEGISandData/COVID-19/master/csse_covid_19_data/'\n",
    "        f'csse_covid_19_time_series/time_series_covid19_{name}_global.csv')\n",
    "    df = pd.read_csv(url)\n",
    "    # rename countries\n",
    "    df['Country/Region'] = df['Country/Region'].replace(mapping['replace.country'])\n",
    "    return df"
   ]
  },
  {
   "cell_type": "code",
   "execution_count": 8,
   "id": "affiliated-characterization",
   "metadata": {
    "execution": {
     "iopub.execute_input": "2021-06-17T00:19:59.968615Z",
     "iopub.status.busy": "2021-06-17T00:19:59.967912Z",
     "iopub.status.idle": "2021-06-17T00:19:59.970687Z",
     "shell.execute_reply": "2021-06-17T00:19:59.970034Z"
    },
    "papermill": {
     "duration": 0.048529,
     "end_time": "2021-06-17T00:19:59.970841",
     "exception": false,
     "start_time": "2021-06-17T00:19:59.922312",
     "status": "completed"
    },
    "tags": []
   },
   "outputs": [],
   "source": [
    "#hide\n",
    "def get_dates(df):\n",
    "    dt_cols = df.columns[~df.columns.isin(['Province/State', 'Country/Region', 'Lat', 'Long'])]\n",
    "    LAST_DATE_I = -1\n",
    "    # sometimes last column may be empty, then go backwards\n",
    "    for i in range(-1, -len(dt_cols), -1):\n",
    "        if not df[dt_cols[i]].fillna(0).eq(0).all():\n",
    "            LAST_DATE_I = i\n",
    "            break\n",
    "    return LAST_DATE_I, dt_cols"
   ]
  },
  {
   "cell_type": "code",
   "execution_count": 9,
   "id": "recent-optimization",
   "metadata": {
    "execution": {
     "iopub.execute_input": "2021-06-17T00:20:00.057013Z",
     "iopub.status.busy": "2021-06-17T00:20:00.056293Z",
     "iopub.status.idle": "2021-06-17T00:20:00.615135Z",
     "shell.execute_reply": "2021-06-17T00:20:00.614511Z"
    },
    "papermill": {
     "duration": 0.606291,
     "end_time": "2021-06-17T00:20:00.615306",
     "exception": false,
     "start_time": "2021-06-17T00:20:00.009015",
     "status": "completed"
    },
    "tags": []
   },
   "outputs": [],
   "source": [
    "#hide\n",
    "COL_REGION = 'Country/Region'\n",
    "# Confirmed, Recovered, Deaths\n",
    "df = get_frame('confirmed')\n",
    "# dft_: timeseries, dfc_: today country agg\n",
    "dft_cases = df\n",
    "dft_deaths = get_frame('deaths')\n",
    "dft_recovered = get_frame('recovered')\n",
    "LAST_DATE_I, dt_cols = get_dates(df)"
   ]
  },
  {
   "cell_type": "code",
   "execution_count": 10,
   "id": "absolute-copper",
   "metadata": {
    "execution": {
     "iopub.execute_input": "2021-06-17T00:20:00.704158Z",
     "iopub.status.busy": "2021-06-17T00:20:00.702323Z",
     "iopub.status.idle": "2021-06-17T00:20:00.706262Z",
     "shell.execute_reply": "2021-06-17T00:20:00.705080Z"
    },
    "papermill": {
     "duration": 0.05162,
     "end_time": "2021-06-17T00:20:00.706424",
     "exception": false,
     "start_time": "2021-06-17T00:20:00.654804",
     "status": "completed"
    },
    "tags": []
   },
   "outputs": [],
   "source": [
    "#hide\n",
    "LAST_DATE_I, dt_cols = get_dates(df)\n",
    "dt_today =dt_cols[LAST_DATE_I]\n",
    "# dt_5day = dt_cols[LAST_DATE_I - 5]\n",
    "dt_yday = dt_cols[LAST_DATE_I - 1]"
   ]
  },
  {
   "cell_type": "code",
   "execution_count": 11,
   "id": "restricted-sheriff",
   "metadata": {
    "execution": {
     "iopub.execute_input": "2021-06-17T00:20:00.794086Z",
     "iopub.status.busy": "2021-06-17T00:20:00.792940Z",
     "iopub.status.idle": "2021-06-17T00:20:00.800711Z",
     "shell.execute_reply": "2021-06-17T00:20:00.800109Z"
    },
    "papermill": {
     "duration": 0.05558,
     "end_time": "2021-06-17T00:20:00.800864",
     "exception": false,
     "start_time": "2021-06-17T00:20:00.745284",
     "status": "completed"
    },
    "tags": []
   },
   "outputs": [],
   "source": [
    "#hide\n",
    "dfc_cases = dft_cases.groupby(COL_REGION)[dt_today].sum()\n",
    "dfc_deaths = dft_deaths.groupby(COL_REGION)[dt_today].sum()\n",
    "# dfp_cases = dft_cases.groupby(COL_REGION)[dt_5day].sum()\n",
    "# dfp_deaths = dft_deaths.groupby(COL_REGION)[dt_5day].sum()\n",
    "dfp_cases = dft_cases.groupby(COL_REGION)[dt_yday].sum()\n",
    "dfp_deaths = dft_deaths.groupby(COL_REGION)[dt_yday].sum()"
   ]
  },
  {
   "cell_type": "code",
   "execution_count": 12,
   "id": "deluxe-hepatitis",
   "metadata": {
    "execution": {
     "iopub.execute_input": "2021-06-17T00:20:00.885904Z",
     "iopub.status.busy": "2021-06-17T00:20:00.885197Z",
     "iopub.status.idle": "2021-06-17T00:20:00.890447Z",
     "shell.execute_reply": "2021-06-17T00:20:00.891118Z"
    },
    "papermill": {
     "duration": 0.05151,
     "end_time": "2021-06-17T00:20:00.891376",
     "exception": false,
     "start_time": "2021-06-17T00:20:00.839866",
     "status": "completed"
    },
    "tags": []
   },
   "outputs": [],
   "source": [
    "#hide\n",
    "df_table = (pd.DataFrame(dict(Cases = dfc_cases, Deaths = dfc_deaths, PCases = dfp_cases, PDeaths = dfp_deaths))\n",
    "            .sort_values(by = ['Cases','Deaths'], ascending = [False, False])\n",
    "            .reset_index())"
   ]
  },
  {
   "cell_type": "code",
   "execution_count": 13,
   "id": "educational-chancellor",
   "metadata": {
    "execution": {
     "iopub.execute_input": "2021-06-17T00:20:00.990695Z",
     "iopub.status.busy": "2021-06-17T00:20:00.989979Z",
     "iopub.status.idle": "2021-06-17T00:20:00.998843Z",
     "shell.execute_reply": "2021-06-17T00:20:00.999403Z"
    },
    "papermill": {
     "duration": 0.069751,
     "end_time": "2021-06-17T00:20:00.999576",
     "exception": false,
     "start_time": "2021-06-17T00:20:00.929825",
     "status": "completed"
    },
    "tags": []
   },
   "outputs": [
    {
     "data": {
      "text/html": [
       "<div>\n",
       "<style scoped>\n",
       "    .dataframe tbody tr th:only-of-type {\n",
       "        vertical-align: middle;\n",
       "    }\n",
       "\n",
       "    .dataframe tbody tr th {\n",
       "        vertical-align: top;\n",
       "    }\n",
       "\n",
       "    .dataframe thead th {\n",
       "        text-align: right;\n",
       "    }\n",
       "</style>\n",
       "<table border=\"1\" class=\"dataframe\">\n",
       "  <thead>\n",
       "    <tr style=\"text-align: right;\">\n",
       "      <th></th>\n",
       "      <th>Country/Region</th>\n",
       "      <th>Cases</th>\n",
       "      <th>Deaths</th>\n",
       "      <th>PCases</th>\n",
       "      <th>PDeaths</th>\n",
       "      <th>Cases (+)</th>\n",
       "      <th>Deaths (+)</th>\n",
       "      <th>Fatality Rate</th>\n",
       "      <th>Continent</th>\n",
       "    </tr>\n",
       "  </thead>\n",
       "  <tbody>\n",
       "    <tr>\n",
       "      <th>0</th>\n",
       "      <td>US</td>\n",
       "      <td>33486038</td>\n",
       "      <td>600285</td>\n",
       "      <td>33474734</td>\n",
       "      <td>599946</td>\n",
       "      <td>11304</td>\n",
       "      <td>339</td>\n",
       "      <td>1.79</td>\n",
       "      <td>North America</td>\n",
       "    </tr>\n",
       "    <tr>\n",
       "      <th>1</th>\n",
       "      <td>India</td>\n",
       "      <td>29633105</td>\n",
       "      <td>379573</td>\n",
       "      <td>29570881</td>\n",
       "      <td>377031</td>\n",
       "      <td>62224</td>\n",
       "      <td>2542</td>\n",
       "      <td>1.28</td>\n",
       "      <td>Asia</td>\n",
       "    </tr>\n",
       "    <tr>\n",
       "      <th>2</th>\n",
       "      <td>Brazil</td>\n",
       "      <td>17533221</td>\n",
       "      <td>490696</td>\n",
       "      <td>17452612</td>\n",
       "      <td>488228</td>\n",
       "      <td>80609</td>\n",
       "      <td>2468</td>\n",
       "      <td>2.80</td>\n",
       "      <td>South America</td>\n",
       "    </tr>\n",
       "    <tr>\n",
       "      <th>3</th>\n",
       "      <td>France</td>\n",
       "      <td>5806255</td>\n",
       "      <td>110692</td>\n",
       "      <td>5803012</td>\n",
       "      <td>110616</td>\n",
       "      <td>3243</td>\n",
       "      <td>76</td>\n",
       "      <td>1.91</td>\n",
       "      <td>Europe</td>\n",
       "    </tr>\n",
       "    <tr>\n",
       "      <th>4</th>\n",
       "      <td>Turkey</td>\n",
       "      <td>5342028</td>\n",
       "      <td>48879</td>\n",
       "      <td>5336073</td>\n",
       "      <td>48795</td>\n",
       "      <td>5955</td>\n",
       "      <td>84</td>\n",
       "      <td>0.91</td>\n",
       "      <td>Asia</td>\n",
       "    </tr>\n",
       "  </tbody>\n",
       "</table>\n",
       "</div>"
      ],
      "text/plain": [
       "  Country/Region     Cases  Deaths    PCases  PDeaths  Cases (+)  Deaths (+)  \\\n",
       "0             US  33486038  600285  33474734   599946      11304         339   \n",
       "1          India  29633105  379573  29570881   377031      62224        2542   \n",
       "2         Brazil  17533221  490696  17452612   488228      80609        2468   \n",
       "3         France   5806255  110692   5803012   110616       3243          76   \n",
       "4         Turkey   5342028   48879   5336073    48795       5955          84   \n",
       "\n",
       "   Fatality Rate      Continent  \n",
       "0           1.79  North America  \n",
       "1           1.28           Asia  \n",
       "2           2.80  South America  \n",
       "3           1.91         Europe  \n",
       "4           0.91           Asia  "
      ]
     },
     "execution_count": 13,
     "metadata": {},
     "output_type": "execute_result"
    }
   ],
   "source": [
    "#hide\n",
    "for c in 'Cases, Deaths'.split(', '):\n",
    "    df_table[f'{c} (+)'] = (df_table[c] - df_table[f'P{c}']).clip(0)\n",
    "    #Clip ça veut dire, les chiffres negatif sont interdit\n",
    "df_table['Fatality Rate'] = (100* df_table['Deaths']/ df_table['Cases']).round(2)\n",
    "df_table['Continent'] = df_table['Country/Region'].map(mapping['map.continent'])\n",
    "df_table.head(5)"
   ]
  },
  {
   "cell_type": "code",
   "execution_count": 14,
   "id": "aboriginal-bulgaria",
   "metadata": {
    "execution": {
     "iopub.execute_input": "2021-06-17T00:20:01.087586Z",
     "iopub.status.busy": "2021-06-17T00:20:01.086910Z",
     "iopub.status.idle": "2021-06-17T00:20:01.089558Z",
     "shell.execute_reply": "2021-06-17T00:20:01.090535Z"
    },
    "papermill": {
     "duration": 0.051586,
     "end_time": "2021-06-17T00:20:01.090699",
     "exception": false,
     "start_time": "2021-06-17T00:20:01.039113",
     "status": "completed"
    },
    "tags": []
   },
   "outputs": [],
   "source": [
    "#hide\n",
    "#delete problematic countries from table\n",
    "df_table = df_table[~df_table['Country/Region'].isin(['Cape Verde', 'Cruise Ship', 'Kosovo'])]"
   ]
  },
  {
   "cell_type": "code",
   "execution_count": 15,
   "id": "fantastic-effect",
   "metadata": {
    "execution": {
     "iopub.execute_input": "2021-06-17T00:20:01.179455Z",
     "iopub.status.busy": "2021-06-17T00:20:01.178708Z",
     "iopub.status.idle": "2021-06-17T00:20:01.201213Z",
     "shell.execute_reply": "2021-06-17T00:20:01.200580Z"
    },
    "papermill": {
     "duration": 0.070176,
     "end_time": "2021-06-17T00:20:01.201419",
     "exception": false,
     "start_time": "2021-06-17T00:20:01.131243",
     "status": "completed"
    },
    "tags": []
   },
   "outputs": [
    {
     "data": {
      "text/html": [
       "<div>\n",
       "<style scoped>\n",
       "    .dataframe tbody tr th:only-of-type {\n",
       "        vertical-align: middle;\n",
       "    }\n",
       "\n",
       "    .dataframe tbody tr th {\n",
       "        vertical-align: top;\n",
       "    }\n",
       "\n",
       "    .dataframe thead th {\n",
       "        text-align: right;\n",
       "    }\n",
       "</style>\n",
       "<table border=\"1\" class=\"dataframe\">\n",
       "  <thead>\n",
       "    <tr style=\"text-align: right;\">\n",
       "      <th></th>\n",
       "      <th>Country/Region</th>\n",
       "      <th>Cases</th>\n",
       "      <th>Deaths</th>\n",
       "      <th>PCases</th>\n",
       "      <th>PDeaths</th>\n",
       "      <th>Cases (+)</th>\n",
       "      <th>Deaths (+)</th>\n",
       "      <th>Fatality Rate</th>\n",
       "      <th>Continent</th>\n",
       "    </tr>\n",
       "  </thead>\n",
       "  <tbody>\n",
       "    <tr>\n",
       "      <th>0</th>\n",
       "      <td>US</td>\n",
       "      <td>33486038</td>\n",
       "      <td>600285</td>\n",
       "      <td>33474734</td>\n",
       "      <td>599946</td>\n",
       "      <td>11304</td>\n",
       "      <td>339</td>\n",
       "      <td>1.8</td>\n",
       "      <td>North America</td>\n",
       "    </tr>\n",
       "    <tr>\n",
       "      <th>1</th>\n",
       "      <td>India</td>\n",
       "      <td>29633105</td>\n",
       "      <td>379573</td>\n",
       "      <td>29570881</td>\n",
       "      <td>377031</td>\n",
       "      <td>62224</td>\n",
       "      <td>2542</td>\n",
       "      <td>1.3</td>\n",
       "      <td>Asia</td>\n",
       "    </tr>\n",
       "    <tr>\n",
       "      <th>2</th>\n",
       "      <td>Brazil</td>\n",
       "      <td>17533221</td>\n",
       "      <td>490696</td>\n",
       "      <td>17452612</td>\n",
       "      <td>488228</td>\n",
       "      <td>80609</td>\n",
       "      <td>2468</td>\n",
       "      <td>2.8</td>\n",
       "      <td>South America</td>\n",
       "    </tr>\n",
       "    <tr>\n",
       "      <th>3</th>\n",
       "      <td>France</td>\n",
       "      <td>5806255</td>\n",
       "      <td>110692</td>\n",
       "      <td>5803012</td>\n",
       "      <td>110616</td>\n",
       "      <td>3243</td>\n",
       "      <td>76</td>\n",
       "      <td>1.9</td>\n",
       "      <td>Europe</td>\n",
       "    </tr>\n",
       "    <tr>\n",
       "      <th>4</th>\n",
       "      <td>Turkey</td>\n",
       "      <td>5342028</td>\n",
       "      <td>48879</td>\n",
       "      <td>5336073</td>\n",
       "      <td>48795</td>\n",
       "      <td>5955</td>\n",
       "      <td>84</td>\n",
       "      <td>0.9</td>\n",
       "      <td>Asia</td>\n",
       "    </tr>\n",
       "  </tbody>\n",
       "</table>\n",
       "</div>"
      ],
      "text/plain": [
       "  Country/Region     Cases  Deaths    PCases  PDeaths  Cases (+)  Deaths (+)  \\\n",
       "0             US  33486038  600285  33474734   599946      11304         339   \n",
       "1          India  29633105  379573  29570881   377031      62224        2542   \n",
       "2         Brazil  17533221  490696  17452612   488228      80609        2468   \n",
       "3         France   5806255  110692   5803012   110616       3243          76   \n",
       "4         Turkey   5342028   48879   5336073    48795       5955          84   \n",
       "\n",
       "   Fatality Rate      Continent  \n",
       "0            1.8  North America  \n",
       "1            1.3           Asia  \n",
       "2            2.8  South America  \n",
       "3            1.9         Europe  \n",
       "4            0.9           Asia  "
      ]
     },
     "execution_count": 15,
     "metadata": {},
     "output_type": "execute_result"
    }
   ],
   "source": [
    "#hide\n",
    "df_table = (pd.DataFrame(dict(Cases=dfc_cases, Deaths=dfc_deaths, PCases=dfp_cases, PDeaths=dfp_deaths))\n",
    "             .sort_values(by=['Cases', 'Deaths'], ascending=[False, False])\n",
    "             .reset_index())\n",
    "df_table.rename(columns={'index': 'Country/Region'}, inplace=True)\n",
    "for c in 'Cases, Deaths'.split(', '):\n",
    "    df_table[f'{c} (+)'] = (df_table[c] - df_table[f'P{c}']).clip(0)  # DATA BUG\n",
    "df_table['Fatality Rate'] = (100 * df_table['Deaths'] / df_table['Cases']).round(1)\n",
    "df_table['Continent'] = df_table['Country/Region'].map(mapping['map.continent'])\n",
    "df_table.head(5)"
   ]
  },
  {
   "cell_type": "code",
   "execution_count": 16,
   "id": "fewer-occasion",
   "metadata": {
    "execution": {
     "iopub.execute_input": "2021-06-17T00:20:01.287468Z",
     "iopub.status.busy": "2021-06-17T00:20:01.286761Z",
     "iopub.status.idle": "2021-06-17T00:20:01.289943Z",
     "shell.execute_reply": "2021-06-17T00:20:01.290570Z"
    },
    "papermill": {
     "duration": 0.048798,
     "end_time": "2021-06-17T00:20:01.290733",
     "exception": false,
     "start_time": "2021-06-17T00:20:01.241935",
     "status": "completed"
    },
    "tags": []
   },
   "outputs": [],
   "source": [
    "#hide\n",
    "#delete problematic countries from table\n",
    "df_table = df_table[~df_table['Country/Region'].isin(['Cape Verde', 'Cruise Ship', 'Kosovo'])]"
   ]
  },
  {
   "cell_type": "code",
   "execution_count": 17,
   "id": "related-center",
   "metadata": {
    "execution": {
     "iopub.execute_input": "2021-06-17T00:20:01.382697Z",
     "iopub.status.busy": "2021-06-17T00:20:01.381911Z",
     "iopub.status.idle": "2021-06-17T00:20:01.397031Z",
     "shell.execute_reply": "2021-06-17T00:20:01.396411Z"
    },
    "papermill": {
     "duration": 0.066123,
     "end_time": "2021-06-17T00:20:01.397180",
     "exception": false,
     "start_time": "2021-06-17T00:20:01.331057",
     "status": "completed"
    },
    "tags": []
   },
   "outputs": [],
   "source": [
    "#hide\n",
    "metrics = [df_table.columns[index] for index in [1,2,5,6]]\n",
    "# s_china = df_table[df_table['Country/Region'].eq('China')][metrics].sum().add_prefix('China ')\n",
    "s_us = df_table[df_table['Country/Region'].eq('US')][metrics].sum().add_prefix('US ')\n",
    "s_eu = df_table[df_table['Continent'].eq('Europe')][metrics].sum().add_prefix('EU ')\n",
    "s_ind = df_table[df_table['Country/Region'].eq('India')][metrics].sum().add_prefix('India ')\n",
    "summary = {'updated': pd.to_datetime(dt_today), 'since': pd.to_datetime(dt_yday)}\n",
    "summary = {'updated': pd.to_datetime(dt_today), 'since': pd.to_datetime(dt_yday)}\n",
    "summary = {**summary, **df_table[metrics].sum(), **s_ind, **s_us, **s_eu}"
   ]
  },
  {
   "cell_type": "code",
   "execution_count": 18,
   "id": "engaging-syndrome",
   "metadata": {
    "execution": {
     "iopub.execute_input": "2021-06-17T00:20:01.488966Z",
     "iopub.status.busy": "2021-06-17T00:20:01.484486Z",
     "iopub.status.idle": "2021-06-17T00:20:01.497496Z",
     "shell.execute_reply": "2021-06-17T00:20:01.498209Z"
    },
    "papermill": {
     "duration": 0.061529,
     "end_time": "2021-06-17T00:20:01.498398",
     "exception": false,
     "start_time": "2021-06-17T00:20:01.436869",
     "status": "completed"
    },
    "tags": []
   },
   "outputs": [],
   "source": [
    "#hide\n",
    "dft_ct_new_cases = dft_cases.groupby(COL_REGION)[dt_cols].sum().diff(axis=1).fillna(0).astype(int)"
   ]
  },
  {
   "cell_type": "code",
   "execution_count": 19,
   "id": "neutral-assignment",
   "metadata": {
    "execution": {
     "iopub.execute_input": "2021-06-17T00:20:01.597862Z",
     "iopub.status.busy": "2021-06-17T00:20:01.597170Z",
     "iopub.status.idle": "2021-06-17T00:20:01.598836Z",
     "shell.execute_reply": "2021-06-17T00:20:01.599491Z"
    },
    "papermill": {
     "duration": 0.054417,
     "end_time": "2021-06-17T00:20:01.599656",
     "exception": false,
     "start_time": "2021-06-17T00:20:01.545239",
     "status": "completed"
    },
    "tags": []
   },
   "outputs": [],
   "source": [
    "#hide\n",
    "everydaycases = dft_ct_new_cases.cumsum(axis=1)"
   ]
  },
  {
   "cell_type": "code",
   "execution_count": 20,
   "id": "parliamentary-calgary",
   "metadata": {
    "execution": {
     "iopub.execute_input": "2021-06-17T00:20:01.689696Z",
     "iopub.status.busy": "2021-06-17T00:20:01.689011Z",
     "iopub.status.idle": "2021-06-17T00:20:02.383228Z",
     "shell.execute_reply": "2021-06-17T00:20:02.383774Z"
    },
    "papermill": {
     "duration": 0.741649,
     "end_time": "2021-06-17T00:20:02.383972",
     "exception": false,
     "start_time": "2021-06-17T00:20:01.642323",
     "status": "completed"
    },
    "tags": []
   },
   "outputs": [],
   "source": [
    "#hide\n",
    "import pandas as pd\n",
    "import matplotlib.pyplot as plt\n",
    "import matplotlib.ticker as ticker\n",
    "import matplotlib.animation as animation\n",
    "from IPython.display import HTML"
   ]
  },
  {
   "cell_type": "code",
   "execution_count": 21,
   "id": "lasting-extraction",
   "metadata": {
    "execution": {
     "iopub.execute_input": "2021-06-17T00:20:02.470934Z",
     "iopub.status.busy": "2021-06-17T00:20:02.470244Z",
     "iopub.status.idle": "2021-06-17T00:20:02.475635Z",
     "shell.execute_reply": "2021-06-17T00:20:02.476296Z"
    },
    "papermill": {
     "duration": 0.052601,
     "end_time": "2021-06-17T00:20:02.476476",
     "exception": false,
     "start_time": "2021-06-17T00:20:02.423875",
     "status": "completed"
    },
    "tags": []
   },
   "outputs": [],
   "source": [
    "#hide\n",
    "t = everydaycases.stack()"
   ]
  },
  {
   "cell_type": "code",
   "execution_count": 22,
   "id": "premier-sleeve",
   "metadata": {
    "execution": {
     "iopub.execute_input": "2021-06-17T00:20:02.561792Z",
     "iopub.status.busy": "2021-06-17T00:20:02.561098Z",
     "iopub.status.idle": "2021-06-17T00:20:02.569604Z",
     "shell.execute_reply": "2021-06-17T00:20:02.570130Z"
    },
    "papermill": {
     "duration": 0.054218,
     "end_time": "2021-06-17T00:20:02.570578",
     "exception": false,
     "start_time": "2021-06-17T00:20:02.516360",
     "status": "completed"
    },
    "tags": []
   },
   "outputs": [],
   "source": [
    "#hide\n",
    "g = t.reset_index(['Country/Region'])"
   ]
  },
  {
   "cell_type": "code",
   "execution_count": 23,
   "id": "distributed-pittsburgh",
   "metadata": {
    "execution": {
     "iopub.execute_input": "2021-06-17T00:20:02.659656Z",
     "iopub.status.busy": "2021-06-17T00:20:02.658990Z",
     "iopub.status.idle": "2021-06-17T00:20:02.661640Z",
     "shell.execute_reply": "2021-06-17T00:20:02.661064Z"
    },
    "papermill": {
     "duration": 0.049554,
     "end_time": "2021-06-17T00:20:02.661778",
     "exception": false,
     "start_time": "2021-06-17T00:20:02.612224",
     "status": "completed"
    },
    "tags": []
   },
   "outputs": [],
   "source": [
    "#hide\n",
    "g.index.name = 'date'"
   ]
  },
  {
   "cell_type": "code",
   "execution_count": 24,
   "id": "naked-donor",
   "metadata": {
    "execution": {
     "iopub.execute_input": "2021-06-17T00:20:02.745186Z",
     "iopub.status.busy": "2021-06-17T00:20:02.744481Z",
     "iopub.status.idle": "2021-06-17T00:20:02.746582Z",
     "shell.execute_reply": "2021-06-17T00:20:02.747174Z"
    },
    "papermill": {
     "duration": 0.046596,
     "end_time": "2021-06-17T00:20:02.747331",
     "exception": false,
     "start_time": "2021-06-17T00:20:02.700735",
     "status": "completed"
    },
    "tags": []
   },
   "outputs": [],
   "source": [
    "# #hide\n",
    "# g = g.reset_index(['date'])"
   ]
  },
  {
   "cell_type": "code",
   "execution_count": 25,
   "id": "incomplete-mustang",
   "metadata": {
    "execution": {
     "iopub.execute_input": "2021-06-17T00:20:02.832753Z",
     "iopub.status.busy": "2021-06-17T00:20:02.832068Z",
     "iopub.status.idle": "2021-06-17T00:20:02.834503Z",
     "shell.execute_reply": "2021-06-17T00:20:02.833837Z"
    },
    "papermill": {
     "duration": 0.047288,
     "end_time": "2021-06-17T00:20:02.834724",
     "exception": false,
     "start_time": "2021-06-17T00:20:02.787436",
     "status": "completed"
    },
    "tags": []
   },
   "outputs": [],
   "source": [
    "#hide\n",
    "# g.head()"
   ]
  },
  {
   "cell_type": "code",
   "execution_count": 26,
   "id": "specific-kruger",
   "metadata": {
    "execution": {
     "iopub.execute_input": "2021-06-17T00:20:02.926564Z",
     "iopub.status.busy": "2021-06-17T00:20:02.925880Z",
     "iopub.status.idle": "2021-06-17T00:20:02.927669Z",
     "shell.execute_reply": "2021-06-17T00:20:02.928253Z"
    },
    "papermill": {
     "duration": 0.047226,
     "end_time": "2021-06-17T00:20:02.928414",
     "exception": false,
     "start_time": "2021-06-17T00:20:02.881188",
     "status": "completed"
    },
    "tags": []
   },
   "outputs": [],
   "source": [
    "#hide\n",
    "# g.columns = ['date','country','cases']"
   ]
  },
  {
   "cell_type": "code",
   "execution_count": 27,
   "id": "tender-conversion",
   "metadata": {
    "execution": {
     "iopub.execute_input": "2021-06-17T00:20:03.012047Z",
     "iopub.status.busy": "2021-06-17T00:20:03.011370Z",
     "iopub.status.idle": "2021-06-17T00:20:03.013335Z",
     "shell.execute_reply": "2021-06-17T00:20:03.013990Z"
    },
    "papermill": {
     "duration": 0.045514,
     "end_time": "2021-06-17T00:20:03.014149",
     "exception": false,
     "start_time": "2021-06-17T00:20:02.968635",
     "status": "completed"
    },
    "tags": []
   },
   "outputs": [],
   "source": [
    "#hide\n",
    "# g['continent'] = g.country"
   ]
  },
  {
   "cell_type": "code",
   "execution_count": 28,
   "id": "substantial-wilderness",
   "metadata": {
    "execution": {
     "iopub.execute_input": "2021-06-17T00:20:03.097615Z",
     "iopub.status.busy": "2021-06-17T00:20:03.096821Z",
     "iopub.status.idle": "2021-06-17T00:20:03.098956Z",
     "shell.execute_reply": "2021-06-17T00:20:03.099545Z"
    },
    "papermill": {
     "duration": 0.046222,
     "end_time": "2021-06-17T00:20:03.099728",
     "exception": false,
     "start_time": "2021-06-17T00:20:03.053506",
     "status": "completed"
    },
    "tags": []
   },
   "outputs": [],
   "source": [
    "#hide\n",
    "# cols = list(g.columns.values)"
   ]
  },
  {
   "cell_type": "code",
   "execution_count": 29,
   "id": "solved-farming",
   "metadata": {
    "execution": {
     "iopub.execute_input": "2021-06-17T00:20:03.189079Z",
     "iopub.status.busy": "2021-06-17T00:20:03.188316Z",
     "iopub.status.idle": "2021-06-17T00:20:03.190475Z",
     "shell.execute_reply": "2021-06-17T00:20:03.191021Z"
    },
    "papermill": {
     "duration": 0.047234,
     "end_time": "2021-06-17T00:20:03.191193",
     "exception": false,
     "start_time": "2021-06-17T00:20:03.143959",
     "status": "completed"
    },
    "tags": []
   },
   "outputs": [],
   "source": [
    "#hide\n",
    "# cols.insert(0, cols.pop())"
   ]
  },
  {
   "cell_type": "code",
   "execution_count": 30,
   "id": "executed-adoption",
   "metadata": {
    "execution": {
     "iopub.execute_input": "2021-06-17T00:20:03.276852Z",
     "iopub.status.busy": "2021-06-17T00:20:03.276075Z",
     "iopub.status.idle": "2021-06-17T00:20:03.278190Z",
     "shell.execute_reply": "2021-06-17T00:20:03.278839Z"
    },
    "papermill": {
     "duration": 0.046774,
     "end_time": "2021-06-17T00:20:03.279008",
     "exception": false,
     "start_time": "2021-06-17T00:20:03.232234",
     "status": "completed"
    },
    "tags": []
   },
   "outputs": [],
   "source": [
    "#hide\n",
    "# g = g[cols]"
   ]
  },
  {
   "cell_type": "code",
   "execution_count": 31,
   "id": "subject-dublin",
   "metadata": {
    "execution": {
     "iopub.execute_input": "2021-06-17T00:20:03.366608Z",
     "iopub.status.busy": "2021-06-17T00:20:03.365839Z",
     "iopub.status.idle": "2021-06-17T00:20:03.368452Z",
     "shell.execute_reply": "2021-06-17T00:20:03.367876Z"
    },
    "papermill": {
     "duration": 0.048163,
     "end_time": "2021-06-17T00:20:03.368591",
     "exception": false,
     "start_time": "2021-06-17T00:20:03.320428",
     "status": "completed"
    },
    "tags": []
   },
   "outputs": [],
   "source": [
    "#hide\n",
    "# g['continent'] = g['continent'].map(mapping['map.continent'])"
   ]
  },
  {
   "cell_type": "code",
   "execution_count": 32,
   "id": "freelance-scout",
   "metadata": {
    "execution": {
     "iopub.execute_input": "2021-06-17T00:20:03.452434Z",
     "iopub.status.busy": "2021-06-17T00:20:03.451742Z",
     "iopub.status.idle": "2021-06-17T00:20:03.453828Z",
     "shell.execute_reply": "2021-06-17T00:20:03.454480Z"
    },
    "papermill": {
     "duration": 0.046657,
     "end_time": "2021-06-17T00:20:03.454645",
     "exception": false,
     "start_time": "2021-06-17T00:20:03.407988",
     "status": "completed"
    },
    "tags": []
   },
   "outputs": [],
   "source": [
    "#hide\n",
    "# g.head()"
   ]
  },
  {
   "cell_type": "code",
   "execution_count": 33,
   "id": "limited-engine",
   "metadata": {
    "execution": {
     "iopub.execute_input": "2021-06-17T00:20:03.538146Z",
     "iopub.status.busy": "2021-06-17T00:20:03.537401Z",
     "iopub.status.idle": "2021-06-17T00:20:03.539615Z",
     "shell.execute_reply": "2021-06-17T00:20:03.540268Z"
    },
    "papermill": {
     "duration": 0.046183,
     "end_time": "2021-06-17T00:20:03.540431",
     "exception": false,
     "start_time": "2021-06-17T00:20:03.494248",
     "status": "completed"
    },
    "tags": []
   },
   "outputs": [],
   "source": [
    "# hide\n",
    "# g['date'] = g['date'].astype('datetime64[ns]')"
   ]
  },
  {
   "cell_type": "code",
   "execution_count": 34,
   "id": "sophisticated-supervisor",
   "metadata": {
    "execution": {
     "iopub.execute_input": "2021-06-17T00:20:03.629136Z",
     "iopub.status.busy": "2021-06-17T00:20:03.628420Z",
     "iopub.status.idle": "2021-06-17T00:20:03.630378Z",
     "shell.execute_reply": "2021-06-17T00:20:03.630930Z"
    },
    "papermill": {
     "duration": 0.049221,
     "end_time": "2021-06-17T00:20:03.631093",
     "exception": false,
     "start_time": "2021-06-17T00:20:03.581872",
     "status": "completed"
    },
    "tags": []
   },
   "outputs": [],
   "source": [
    "#hide\n",
    "# g['date'] = g.date.dt.dayofyear"
   ]
  },
  {
   "cell_type": "code",
   "execution_count": 35,
   "id": "inside-dubai",
   "metadata": {
    "execution": {
     "iopub.execute_input": "2021-06-17T00:20:03.715350Z",
     "iopub.status.busy": "2021-06-17T00:20:03.714672Z",
     "iopub.status.idle": "2021-06-17T00:20:03.717330Z",
     "shell.execute_reply": "2021-06-17T00:20:03.716721Z"
    },
    "papermill": {
     "duration": 0.046798,
     "end_time": "2021-06-17T00:20:03.717471",
     "exception": false,
     "start_time": "2021-06-17T00:20:03.670673",
     "status": "completed"
    },
    "tags": []
   },
   "outputs": [],
   "source": [
    "#hide\n",
    "# g = g.rename(columns= {'continent':'group','country':'name','cases':'value'})"
   ]
  },
  {
   "cell_type": "code",
   "execution_count": 36,
   "id": "fleet-motorcycle",
   "metadata": {
    "execution": {
     "iopub.execute_input": "2021-06-17T00:20:03.802586Z",
     "iopub.status.busy": "2021-06-17T00:20:03.801860Z",
     "iopub.status.idle": "2021-06-17T00:20:03.803958Z",
     "shell.execute_reply": "2021-06-17T00:20:03.804548Z"
    },
    "papermill": {
     "duration": 0.047055,
     "end_time": "2021-06-17T00:20:03.804730",
     "exception": false,
     "start_time": "2021-06-17T00:20:03.757675",
     "status": "completed"
    },
    "tags": []
   },
   "outputs": [],
   "source": [
    "#hide\n",
    "# cols = ['name','group','day','value']"
   ]
  },
  {
   "cell_type": "code",
   "execution_count": 37,
   "id": "continued-sleeping",
   "metadata": {
    "execution": {
     "iopub.execute_input": "2021-06-17T00:20:03.890090Z",
     "iopub.status.busy": "2021-06-17T00:20:03.889389Z",
     "iopub.status.idle": "2021-06-17T00:20:03.891945Z",
     "shell.execute_reply": "2021-06-17T00:20:03.891385Z"
    },
    "papermill": {
     "duration": 0.04691,
     "end_time": "2021-06-17T00:20:03.892100",
     "exception": false,
     "start_time": "2021-06-17T00:20:03.845190",
     "status": "completed"
    },
    "tags": []
   },
   "outputs": [],
   "source": [
    "#hide\n",
    "# g.rename(columns= {'date':'day'},inplace = True)"
   ]
  },
  {
   "cell_type": "code",
   "execution_count": 38,
   "id": "major-fight",
   "metadata": {
    "execution": {
     "iopub.execute_input": "2021-06-17T00:20:03.976935Z",
     "iopub.status.busy": "2021-06-17T00:20:03.976234Z",
     "iopub.status.idle": "2021-06-17T00:20:03.978804Z",
     "shell.execute_reply": "2021-06-17T00:20:03.978128Z"
    },
    "papermill": {
     "duration": 0.046694,
     "end_time": "2021-06-17T00:20:03.978945",
     "exception": false,
     "start_time": "2021-06-17T00:20:03.932251",
     "status": "completed"
    },
    "tags": []
   },
   "outputs": [],
   "source": [
    "#hide\n",
    "# g = g[cols]"
   ]
  },
  {
   "cell_type": "code",
   "execution_count": 39,
   "id": "structured-mobile",
   "metadata": {
    "execution": {
     "iopub.execute_input": "2021-06-17T00:20:04.062831Z",
     "iopub.status.busy": "2021-06-17T00:20:04.062127Z",
     "iopub.status.idle": "2021-06-17T00:20:04.064736Z",
     "shell.execute_reply": "2021-06-17T00:20:04.064154Z"
    },
    "papermill": {
     "duration": 0.045679,
     "end_time": "2021-06-17T00:20:04.064910",
     "exception": false,
     "start_time": "2021-06-17T00:20:04.019231",
     "status": "completed"
    },
    "tags": []
   },
   "outputs": [],
   "source": [
    "# #hide\n",
    "# g = g[g.group.notna()]"
   ]
  },
  {
   "cell_type": "code",
   "execution_count": 40,
   "id": "determined-closing",
   "metadata": {
    "execution": {
     "iopub.execute_input": "2021-06-17T00:20:04.149397Z",
     "iopub.status.busy": "2021-06-17T00:20:04.148673Z",
     "iopub.status.idle": "2021-06-17T00:20:04.151152Z",
     "shell.execute_reply": "2021-06-17T00:20:04.150441Z"
    },
    "papermill": {
     "duration": 0.04718,
     "end_time": "2021-06-17T00:20:04.151307",
     "exception": false,
     "start_time": "2021-06-17T00:20:04.104127",
     "status": "completed"
    },
    "tags": []
   },
   "outputs": [],
   "source": [
    "# #hide\n",
    "# colors = dict(zip(\n",
    "#     [\"Oceania\", \"Europe\", \"Asia\", \"South America\", \"Middle East\", \"North America\", \"Africa\"],\n",
    "#     [\"#adb0ff\", \"#ffb3ff\", \"#90d595\", \"#e48381\", \"#aafbff\", \"#f7bb5f\", \"#eafb50\"]\n",
    "# ))\n",
    "# group_lk = g.set_index('name')['group'].to_dict()"
   ]
  },
  {
   "cell_type": "code",
   "execution_count": null,
   "id": "gross-drinking",
   "metadata": {
    "papermill": {
     "duration": 0.042633,
     "end_time": "2021-06-17T00:20:04.234577",
     "exception": false,
     "start_time": "2021-06-17T00:20:04.191944",
     "status": "completed"
    },
    "tags": []
   },
   "outputs": [],
   "source": []
  },
  {
   "cell_type": "code",
   "execution_count": 41,
   "id": "subject-macintosh",
   "metadata": {
    "execution": {
     "iopub.execute_input": "2021-06-17T00:20:04.322600Z",
     "iopub.status.busy": "2021-06-17T00:20:04.321826Z",
     "iopub.status.idle": "2021-06-17T00:20:04.324317Z",
     "shell.execute_reply": "2021-06-17T00:20:04.324961Z"
    },
    "papermill": {
     "duration": 0.048265,
     "end_time": "2021-06-17T00:20:04.325467",
     "exception": false,
     "start_time": "2021-06-17T00:20:04.277202",
     "status": "completed"
    },
    "tags": []
   },
   "outputs": [],
   "source": [
    "# #hide\n",
    "# fig, ax = plt.subplots(figsize=(15, 8))\n",
    "\n",
    "# def draw_barchart(current_day):\n",
    "#     dff = g[g['day'].eq(current_day)].sort_values(by='value', ascending=True).tail(10)\n",
    "#     ax.clear()\n",
    "#     ax.barh(dff['name'], dff['value'], color=[colors[group_lk[x]] for x in dff['name']])\n",
    "#     dx = dff['value'].max() / 200\n",
    "    \n",
    "#     for i, (value, name) in enumerate(zip(dff['value'], dff['name'])):\n",
    "#         ax.text(value-dx, i,     name,           size=14, weight=600, ha='right', va='bottom')\n",
    "#         ax.text(value-dx, i-.25, group_lk[name], size=10, color='#444444', ha='right', va='baseline')\n",
    "#         ax.text(value+dx, i,     f'{value:,.0f}',  size=14, ha='left',  va='center')\n",
    "#     ax.text(1, 0.4, current_day, transform=ax.transAxes, color='#777777', size=46, ha='right', weight=800)\n",
    "#     ax.text(0, 1.06, 'Population (thousands)', transform=ax.transAxes, size=12, color='#777777')\n",
    "#     ax.xaxis.set_major_formatter(ticker.StrMethodFormatter('{x:,.0f}'))\n",
    "#     ax.xaxis.set_ticks_position('top')\n",
    "#     ax.tick_params(axis='x', colors='#777777', labelsize=12)\n",
    "#     ax.set_yticks([])\n",
    "#     ax.margins(0, 0.01)\n",
    "#     ax.grid(which='major', axis='x', linestyle='-')\n",
    "#     ax.set_axisbelow(True)\n",
    "    \n",
    "#     ax.text(0, 1.15, 'Coronavirus',\n",
    "#             transform=ax.transAxes, size=24, weight=600, ha='left', va='top')\n",
    "# #     ax.text(1, 0, 'by @pratapvardhan; credit @jburnmurdoch', transform=ax.transAxes, color='#777777', ha='right',\n",
    "# #             bbox=dict(facecolor='white', alpha=0.8, edgecolor='white'))\n",
    "#     plt.box(False)"
   ]
  },
  {
   "cell_type": "code",
   "execution_count": 42,
   "id": "sexual-wages",
   "metadata": {
    "execution": {
     "iopub.execute_input": "2021-06-17T00:20:04.417626Z",
     "iopub.status.busy": "2021-06-17T00:20:04.416915Z",
     "iopub.status.idle": "2021-06-17T00:20:04.419582Z",
     "shell.execute_reply": "2021-06-17T00:20:04.418996Z"
    },
    "papermill": {
     "duration": 0.048406,
     "end_time": "2021-06-17T00:20:04.419741",
     "exception": false,
     "start_time": "2021-06-17T00:20:04.371335",
     "status": "completed"
    },
    "tags": []
   },
   "outputs": [],
   "source": [
    "# #hide_input\n",
    "# fig, ax = plt.subplots(figsize=(15, 8))\n",
    "# animator = animation.FuncAnimation(fig, draw_barchart, frames=range(g.day.values.min(), g.day.values.max()))\n",
    "# HTML(animator.to_jshtml())\n",
    "# # or use animator.to_html5_video() or animator.save() "
   ]
  },
  {
   "cell_type": "code",
   "execution_count": null,
   "id": "australian-container",
   "metadata": {
    "papermill": {
     "duration": 0.04038,
     "end_time": "2021-06-17T00:20:04.502285",
     "exception": false,
     "start_time": "2021-06-17T00:20:04.461905",
     "status": "completed"
    },
    "tags": []
   },
   "outputs": [],
   "source": []
  },
  {
   "cell_type": "code",
   "execution_count": null,
   "id": "mediterranean-pontiac",
   "metadata": {
    "papermill": {
     "duration": 0.041204,
     "end_time": "2021-06-17T00:20:04.585054",
     "exception": false,
     "start_time": "2021-06-17T00:20:04.543850",
     "status": "completed"
    },
    "tags": []
   },
   "outputs": [],
   "source": []
  },
  {
   "cell_type": "code",
   "execution_count": null,
   "id": "aging-legislature",
   "metadata": {
    "papermill": {
     "duration": 0.040913,
     "end_time": "2021-06-17T00:20:04.668484",
     "exception": false,
     "start_time": "2021-06-17T00:20:04.627571",
     "status": "completed"
    },
    "tags": []
   },
   "outputs": [],
   "source": []
  }
 ],
 "metadata": {
  "kernelspec": {
   "display_name": "Python 3",
   "language": "python",
   "name": "python3"
  },
  "language_info": {
   "codemirror_mode": {
    "name": "ipython",
    "version": 3
   },
   "file_extension": ".py",
   "mimetype": "text/x-python",
   "name": "python",
   "nbconvert_exporter": "python",
   "pygments_lexer": "ipython3",
   "version": "3.6.13"
  },
  "papermill": {
   "duration": 8.412164,
   "end_time": "2021-06-17T00:20:05.966432",
   "environment_variables": {},
   "exception": null,
   "input_path": "2020-03-21-covid19exp.ipynb",
   "output_path": "2020-03-21-covid19exp.ipynb",
   "parameters": {},
   "start_time": "2021-06-17T00:19:57.554268",
   "version": "2.0.0"
  }
 },
 "nbformat": 4,
 "nbformat_minor": 5
}