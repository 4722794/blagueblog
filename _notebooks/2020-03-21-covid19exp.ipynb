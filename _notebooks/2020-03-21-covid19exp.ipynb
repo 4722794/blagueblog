{
 "cells": [
  {
   "cell_type": "markdown",
   "id": "muslim-click",
   "metadata": {
    "papermill": {
     "duration": 0.040341,
     "end_time": "2022-10-16T01:00:17.046452",
     "exception": false,
     "start_time": "2022-10-16T01:00:17.006111",
     "status": "completed"
    },
    "tags": []
   },
   "source": [
    "# COVID-19 Case Race\n",
    "> A race chart to see rising cases around the world\n",
    "\n",
    "- author: Hargun Oberoi\n",
    "- image: images/covid-overview.png\n",
    "- hide: false\n",
    "- badges: false"
   ]
  },
  {
   "cell_type": "code",
   "execution_count": 1,
   "id": "proof-material",
   "metadata": {
    "execution": {
     "iopub.execute_input": "2022-10-16T01:00:17.122698Z",
     "iopub.status.busy": "2022-10-16T01:00:17.122127Z",
     "iopub.status.idle": "2022-10-16T01:00:17.488854Z",
     "shell.execute_reply": "2022-10-16T01:00:17.488267Z"
    },
    "papermill": {
     "duration": 0.409128,
     "end_time": "2022-10-16T01:00:17.488998",
     "exception": false,
     "start_time": "2022-10-16T01:00:17.079870",
     "status": "completed"
    },
    "tags": []
   },
   "outputs": [],
   "source": [
    "#hide\n",
    "import numpy as np\n",
    "import pandas as pd\n",
    "from jinja2 import Template\n",
    "from IPython.display import HTML"
   ]
  },
  {
   "cell_type": "code",
   "execution_count": 2,
   "id": "developed-terminology",
   "metadata": {
    "execution": {
     "iopub.execute_input": "2022-10-16T01:00:17.559238Z",
     "iopub.status.busy": "2022-10-16T01:00:17.558444Z",
     "iopub.status.idle": "2022-10-16T01:00:17.562330Z",
     "shell.execute_reply": "2022-10-16T01:00:17.562752Z"
    },
    "papermill": {
     "duration": 0.042176,
     "end_time": "2022-10-16T01:00:17.562880",
     "exception": false,
     "start_time": "2022-10-16T01:00:17.520704",
     "status": "completed"
    },
    "tags": []
   },
   "outputs": [],
   "source": [
    "#hide\n",
    "\n",
    "# FETCH\n",
    "base_url = 'https://raw.githubusercontent.com/pratapvardhan/notebooks/master/covid19/'\n",
    "paths = {\n",
    "    'mapping': base_url + 'mapping_countries.csv',\n",
    "    'overview': base_url + 'overview.tpl'\n",
    "}"
   ]
  },
  {
   "cell_type": "code",
   "execution_count": 3,
   "id": "dynamic-saver",
   "metadata": {
    "execution": {
     "iopub.execute_input": "2022-10-16T01:00:17.635928Z",
     "iopub.status.busy": "2022-10-16T01:00:17.635247Z",
     "iopub.status.idle": "2022-10-16T01:00:17.638886Z",
     "shell.execute_reply": "2022-10-16T01:00:17.639374Z"
    },
    "papermill": {
     "duration": 0.046766,
     "end_time": "2022-10-16T01:00:17.639524",
     "exception": false,
     "start_time": "2022-10-16T01:00:17.592758",
     "status": "completed"
    },
    "tags": []
   },
   "outputs": [
    {
     "data": {
      "text/plain": [
       "'https://raw.githubusercontent.com/pratapvardhan/notebooks/master/covid19/mapping_countries.csv'"
      ]
     },
     "execution_count": 3,
     "metadata": {},
     "output_type": "execute_result"
    }
   ],
   "source": [
    "#hide\n",
    "paths['mapping']"
   ]
  },
  {
   "cell_type": "code",
   "execution_count": 4,
   "id": "urban-software",
   "metadata": {
    "execution": {
     "iopub.execute_input": "2022-10-16T01:00:17.710427Z",
     "iopub.status.busy": "2022-10-16T01:00:17.709763Z",
     "iopub.status.idle": "2022-10-16T01:00:17.713398Z",
     "shell.execute_reply": "2022-10-16T01:00:17.712840Z"
    },
    "papermill": {
     "duration": 0.042655,
     "end_time": "2022-10-16T01:00:17.713524",
     "exception": false,
     "start_time": "2022-10-16T01:00:17.670869",
     "status": "completed"
    },
    "tags": []
   },
   "outputs": [],
   "source": [
    "#hide\n",
    "def get_mappings(url):\n",
    "    df = pd.read_csv(url)\n",
    "    return {\n",
    "        'df': df,\n",
    "        'replace.country': dict(df.dropna(subset=['Name']).set_index('Country')['Name']),\n",
    "        'map.continent': dict(df.set_index('Name')['Continent'])\n",
    "    }"
   ]
  },
  {
   "cell_type": "code",
   "execution_count": 5,
   "id": "intimate-machinery",
   "metadata": {
    "execution": {
     "iopub.execute_input": "2022-10-16T01:00:17.785597Z",
     "iopub.status.busy": "2022-10-16T01:00:17.784920Z",
     "iopub.status.idle": "2022-10-16T01:00:17.814719Z",
     "shell.execute_reply": "2022-10-16T01:00:17.815588Z"
    },
    "papermill": {
     "duration": 0.069399,
     "end_time": "2022-10-16T01:00:17.815834",
     "exception": false,
     "start_time": "2022-10-16T01:00:17.746435",
     "status": "completed"
    },
    "tags": []
   },
   "outputs": [],
   "source": [
    "#hide\n",
    "mapping = get_mappings(paths['mapping'])"
   ]
  },
  {
   "cell_type": "code",
   "execution_count": 6,
   "id": "certified-tactics",
   "metadata": {
    "execution": {
     "iopub.execute_input": "2022-10-16T01:00:17.885914Z",
     "iopub.status.busy": "2022-10-16T01:00:17.885257Z",
     "iopub.status.idle": "2022-10-16T01:00:17.888314Z",
     "shell.execute_reply": "2022-10-16T01:00:17.887671Z"
    },
    "papermill": {
     "duration": 0.038728,
     "end_time": "2022-10-16T01:00:17.888440",
     "exception": false,
     "start_time": "2022-10-16T01:00:17.849712",
     "status": "completed"
    },
    "tags": []
   },
   "outputs": [],
   "source": [
    "#hide\n",
    "def get_template(path):\n",
    "    from urllib.parse import urlparse\n",
    "    if bool(urlparse(path).netloc):\n",
    "        from urllib.request import urlopen\n",
    "        return urlopen(path).read().decode('utf8')\n",
    "    return open(path).read()"
   ]
  },
  {
   "cell_type": "code",
   "execution_count": 7,
   "id": "realistic-blast",
   "metadata": {
    "execution": {
     "iopub.execute_input": "2022-10-16T01:00:17.953933Z",
     "iopub.status.busy": "2022-10-16T01:00:17.953275Z",
     "iopub.status.idle": "2022-10-16T01:00:17.955294Z",
     "shell.execute_reply": "2022-10-16T01:00:17.954686Z"
    },
    "papermill": {
     "duration": 0.037236,
     "end_time": "2022-10-16T01:00:17.955421",
     "exception": false,
     "start_time": "2022-10-16T01:00:17.918185",
     "status": "completed"
    },
    "tags": []
   },
   "outputs": [],
   "source": [
    "#hide\n",
    "def get_frame(name):\n",
    "    url = (\n",
    "        'https://raw.githubusercontent.com/CSSEGISandData/COVID-19/master/csse_covid_19_data/'\n",
    "        f'csse_covid_19_time_series/time_series_covid19_{name}_global.csv')\n",
    "    df = pd.read_csv(url)\n",
    "    # rename countries\n",
    "    df['Country/Region'] = df['Country/Region'].replace(mapping['replace.country'])\n",
    "    return df"
   ]
  },
  {
   "cell_type": "code",
   "execution_count": 8,
   "id": "affiliated-characterization",
   "metadata": {
    "execution": {
     "iopub.execute_input": "2022-10-16T01:00:18.026463Z",
     "iopub.status.busy": "2022-10-16T01:00:18.025815Z",
     "iopub.status.idle": "2022-10-16T01:00:18.029455Z",
     "shell.execute_reply": "2022-10-16T01:00:18.029922Z"
    },
    "papermill": {
     "duration": 0.043894,
     "end_time": "2022-10-16T01:00:18.030061",
     "exception": false,
     "start_time": "2022-10-16T01:00:17.986167",
     "status": "completed"
    },
    "tags": []
   },
   "outputs": [],
   "source": [
    "#hide\n",
    "def get_dates(df):\n",
    "    dt_cols = df.columns[~df.columns.isin(['Province/State', 'Country/Region', 'Lat', 'Long'])]\n",
    "    LAST_DATE_I = -1\n",
    "    # sometimes last column may be empty, then go backwards\n",
    "    for i in range(-1, -len(dt_cols), -1):\n",
    "        if not df[dt_cols[i]].fillna(0).eq(0).all():\n",
    "            LAST_DATE_I = i\n",
    "            break\n",
    "    return LAST_DATE_I, dt_cols"
   ]
  },
  {
   "cell_type": "code",
   "execution_count": 9,
   "id": "recent-optimization",
   "metadata": {
    "execution": {
     "iopub.execute_input": "2022-10-16T01:00:18.101178Z",
     "iopub.status.busy": "2022-10-16T01:00:18.100439Z",
     "iopub.status.idle": "2022-10-16T01:00:18.574413Z",
     "shell.execute_reply": "2022-10-16T01:00:18.573870Z"
    },
    "papermill": {
     "duration": 0.511723,
     "end_time": "2022-10-16T01:00:18.574538",
     "exception": false,
     "start_time": "2022-10-16T01:00:18.062815",
     "status": "completed"
    },
    "tags": []
   },
   "outputs": [],
   "source": [
    "#hide\n",
    "COL_REGION = 'Country/Region'\n",
    "# Confirmed, Recovered, Deaths\n",
    "df = get_frame('confirmed')\n",
    "# dft_: timeseries, dfc_: today country agg\n",
    "dft_cases = df\n",
    "dft_deaths = get_frame('deaths')\n",
    "dft_recovered = get_frame('recovered')\n",
    "LAST_DATE_I, dt_cols = get_dates(df)"
   ]
  },
  {
   "cell_type": "code",
   "execution_count": 10,
   "id": "absolute-copper",
   "metadata": {
    "execution": {
     "iopub.execute_input": "2022-10-16T01:00:18.646112Z",
     "iopub.status.busy": "2022-10-16T01:00:18.645464Z",
     "iopub.status.idle": "2022-10-16T01:00:18.648535Z",
     "shell.execute_reply": "2022-10-16T01:00:18.647975Z"
    },
    "papermill": {
     "duration": 0.042727,
     "end_time": "2022-10-16T01:00:18.648663",
     "exception": false,
     "start_time": "2022-10-16T01:00:18.605936",
     "status": "completed"
    },
    "tags": []
   },
   "outputs": [],
   "source": [
    "#hide\n",
    "LAST_DATE_I, dt_cols = get_dates(df)\n",
    "dt_today =dt_cols[LAST_DATE_I]\n",
    "# dt_5day = dt_cols[LAST_DATE_I - 5]\n",
    "dt_yday = dt_cols[LAST_DATE_I - 1]"
   ]
  },
  {
   "cell_type": "code",
   "execution_count": 11,
   "id": "restricted-sheriff",
   "metadata": {
    "execution": {
     "iopub.execute_input": "2022-10-16T01:00:18.722119Z",
     "iopub.status.busy": "2022-10-16T01:00:18.721470Z",
     "iopub.status.idle": "2022-10-16T01:00:18.727809Z",
     "shell.execute_reply": "2022-10-16T01:00:18.728391Z"
    },
    "papermill": {
     "duration": 0.047688,
     "end_time": "2022-10-16T01:00:18.728543",
     "exception": false,
     "start_time": "2022-10-16T01:00:18.680855",
     "status": "completed"
    },
    "tags": []
   },
   "outputs": [],
   "source": [
    "#hide\n",
    "dfc_cases = dft_cases.groupby(COL_REGION)[dt_today].sum()\n",
    "dfc_deaths = dft_deaths.groupby(COL_REGION)[dt_today].sum()\n",
    "# dfp_cases = dft_cases.groupby(COL_REGION)[dt_5day].sum()\n",
    "# dfp_deaths = dft_deaths.groupby(COL_REGION)[dt_5day].sum()\n",
    "dfp_cases = dft_cases.groupby(COL_REGION)[dt_yday].sum()\n",
    "dfp_deaths = dft_deaths.groupby(COL_REGION)[dt_yday].sum()"
   ]
  },
  {
   "cell_type": "code",
   "execution_count": 12,
   "id": "deluxe-hepatitis",
   "metadata": {
    "execution": {
     "iopub.execute_input": "2022-10-16T01:00:18.800942Z",
     "iopub.status.busy": "2022-10-16T01:00:18.800255Z",
     "iopub.status.idle": "2022-10-16T01:00:18.805069Z",
     "shell.execute_reply": "2022-10-16T01:00:18.805777Z"
    },
    "papermill": {
     "duration": 0.044912,
     "end_time": "2022-10-16T01:00:18.805943",
     "exception": false,
     "start_time": "2022-10-16T01:00:18.761031",
     "status": "completed"
    },
    "tags": []
   },
   "outputs": [],
   "source": [
    "#hide\n",
    "df_table = (pd.DataFrame(dict(Cases = dfc_cases, Deaths = dfc_deaths, PCases = dfp_cases, PDeaths = dfp_deaths))\n",
    "            .sort_values(by = ['Cases','Deaths'], ascending = [False, False])\n",
    "            .reset_index())"
   ]
  },
  {
   "cell_type": "code",
   "execution_count": 13,
   "id": "educational-chancellor",
   "metadata": {
    "execution": {
     "iopub.execute_input": "2022-10-16T01:00:18.892948Z",
     "iopub.status.busy": "2022-10-16T01:00:18.892231Z",
     "iopub.status.idle": "2022-10-16T01:00:18.901882Z",
     "shell.execute_reply": "2022-10-16T01:00:18.902390Z"
    },
    "papermill": {
     "duration": 0.064712,
     "end_time": "2022-10-16T01:00:18.902549",
     "exception": false,
     "start_time": "2022-10-16T01:00:18.837837",
     "status": "completed"
    },
    "tags": []
   },
   "outputs": [
    {
     "data": {
      "text/html": [
       "<div>\n",
       "<style scoped>\n",
       "    .dataframe tbody tr th:only-of-type {\n",
       "        vertical-align: middle;\n",
       "    }\n",
       "\n",
       "    .dataframe tbody tr th {\n",
       "        vertical-align: top;\n",
       "    }\n",
       "\n",
       "    .dataframe thead th {\n",
       "        text-align: right;\n",
       "    }\n",
       "</style>\n",
       "<table border=\"1\" class=\"dataframe\">\n",
       "  <thead>\n",
       "    <tr style=\"text-align: right;\">\n",
       "      <th></th>\n",
       "      <th>Country/Region</th>\n",
       "      <th>Cases</th>\n",
       "      <th>Deaths</th>\n",
       "      <th>PCases</th>\n",
       "      <th>PDeaths</th>\n",
       "      <th>Cases (+)</th>\n",
       "      <th>Deaths (+)</th>\n",
       "      <th>Fatality Rate</th>\n",
       "      <th>Continent</th>\n",
       "    </tr>\n",
       "  </thead>\n",
       "  <tbody>\n",
       "    <tr>\n",
       "      <th>0</th>\n",
       "      <td>US</td>\n",
       "      <td>96940217</td>\n",
       "      <td>1065076</td>\n",
       "      <td>96912054</td>\n",
       "      <td>1064798</td>\n",
       "      <td>28163</td>\n",
       "      <td>278</td>\n",
       "      <td>1.10</td>\n",
       "      <td>North America</td>\n",
       "    </tr>\n",
       "    <tr>\n",
       "      <th>1</th>\n",
       "      <td>India</td>\n",
       "      <td>44626427</td>\n",
       "      <td>528874</td>\n",
       "      <td>44623997</td>\n",
       "      <td>528857</td>\n",
       "      <td>2430</td>\n",
       "      <td>17</td>\n",
       "      <td>1.19</td>\n",
       "      <td>Asia</td>\n",
       "    </tr>\n",
       "    <tr>\n",
       "      <th>2</th>\n",
       "      <td>France</td>\n",
       "      <td>36378553</td>\n",
       "      <td>156856</td>\n",
       "      <td>36319858</td>\n",
       "      <td>156777</td>\n",
       "      <td>58695</td>\n",
       "      <td>79</td>\n",
       "      <td>0.43</td>\n",
       "      <td>Europe</td>\n",
       "    </tr>\n",
       "    <tr>\n",
       "      <th>3</th>\n",
       "      <td>Brazil</td>\n",
       "      <td>34746462</td>\n",
       "      <td>687144</td>\n",
       "      <td>34739865</td>\n",
       "      <td>687069</td>\n",
       "      <td>6597</td>\n",
       "      <td>75</td>\n",
       "      <td>1.98</td>\n",
       "      <td>South America</td>\n",
       "    </tr>\n",
       "    <tr>\n",
       "      <th>4</th>\n",
       "      <td>Germany</td>\n",
       "      <td>34608835</td>\n",
       "      <td>151420</td>\n",
       "      <td>34517327</td>\n",
       "      <td>151260</td>\n",
       "      <td>91508</td>\n",
       "      <td>160</td>\n",
       "      <td>0.44</td>\n",
       "      <td>Europe</td>\n",
       "    </tr>\n",
       "  </tbody>\n",
       "</table>\n",
       "</div>"
      ],
      "text/plain": [
       "  Country/Region     Cases   Deaths    PCases  PDeaths  Cases (+)  Deaths (+)  \\\n",
       "0             US  96940217  1065076  96912054  1064798      28163         278   \n",
       "1          India  44626427   528874  44623997   528857       2430          17   \n",
       "2         France  36378553   156856  36319858   156777      58695          79   \n",
       "3         Brazil  34746462   687144  34739865   687069       6597          75   \n",
       "4        Germany  34608835   151420  34517327   151260      91508         160   \n",
       "\n",
       "   Fatality Rate      Continent  \n",
       "0           1.10  North America  \n",
       "1           1.19           Asia  \n",
       "2           0.43         Europe  \n",
       "3           1.98  South America  \n",
       "4           0.44         Europe  "
      ]
     },
     "execution_count": 13,
     "metadata": {},
     "output_type": "execute_result"
    }
   ],
   "source": [
    "#hide\n",
    "for c in 'Cases, Deaths'.split(', '):\n",
    "    df_table[f'{c} (+)'] = (df_table[c] - df_table[f'P{c}']).clip(0)\n",
    "    #Clip ça veut dire, les chiffres negatif sont interdit\n",
    "df_table['Fatality Rate'] = (100* df_table['Deaths']/ df_table['Cases']).round(2)\n",
    "df_table['Continent'] = df_table['Country/Region'].map(mapping['map.continent'])\n",
    "df_table.head(5)"
   ]
  },
  {
   "cell_type": "code",
   "execution_count": 14,
   "id": "aboriginal-bulgaria",
   "metadata": {
    "execution": {
     "iopub.execute_input": "2022-10-16T01:00:18.978622Z",
     "iopub.status.busy": "2022-10-16T01:00:18.977921Z",
     "iopub.status.idle": "2022-10-16T01:00:18.981652Z",
     "shell.execute_reply": "2022-10-16T01:00:18.981028Z"
    },
    "papermill": {
     "duration": 0.045541,
     "end_time": "2022-10-16T01:00:18.981787",
     "exception": false,
     "start_time": "2022-10-16T01:00:18.936246",
     "status": "completed"
    },
    "tags": []
   },
   "outputs": [],
   "source": [
    "#hide\n",
    "#delete problematic countries from table\n",
    "df_table = df_table[~df_table['Country/Region'].isin(['Cape Verde', 'Cruise Ship', 'Kosovo'])]"
   ]
  },
  {
   "cell_type": "code",
   "execution_count": 15,
   "id": "fantastic-effect",
   "metadata": {
    "execution": {
     "iopub.execute_input": "2022-10-16T01:00:19.056489Z",
     "iopub.status.busy": "2022-10-16T01:00:19.055838Z",
     "iopub.status.idle": "2022-10-16T01:00:19.076158Z",
     "shell.execute_reply": "2022-10-16T01:00:19.075601Z"
    },
    "papermill": {
     "duration": 0.06111,
     "end_time": "2022-10-16T01:00:19.076289",
     "exception": false,
     "start_time": "2022-10-16T01:00:19.015179",
     "status": "completed"
    },
    "tags": []
   },
   "outputs": [
    {
     "data": {
      "text/html": [
       "<div>\n",
       "<style scoped>\n",
       "    .dataframe tbody tr th:only-of-type {\n",
       "        vertical-align: middle;\n",
       "    }\n",
       "\n",
       "    .dataframe tbody tr th {\n",
       "        vertical-align: top;\n",
       "    }\n",
       "\n",
       "    .dataframe thead th {\n",
       "        text-align: right;\n",
       "    }\n",
       "</style>\n",
       "<table border=\"1\" class=\"dataframe\">\n",
       "  <thead>\n",
       "    <tr style=\"text-align: right;\">\n",
       "      <th></th>\n",
       "      <th>Country/Region</th>\n",
       "      <th>Cases</th>\n",
       "      <th>Deaths</th>\n",
       "      <th>PCases</th>\n",
       "      <th>PDeaths</th>\n",
       "      <th>Cases (+)</th>\n",
       "      <th>Deaths (+)</th>\n",
       "      <th>Fatality Rate</th>\n",
       "      <th>Continent</th>\n",
       "    </tr>\n",
       "  </thead>\n",
       "  <tbody>\n",
       "    <tr>\n",
       "      <th>0</th>\n",
       "      <td>US</td>\n",
       "      <td>96940217</td>\n",
       "      <td>1065076</td>\n",
       "      <td>96912054</td>\n",
       "      <td>1064798</td>\n",
       "      <td>28163</td>\n",
       "      <td>278</td>\n",
       "      <td>1.1</td>\n",
       "      <td>North America</td>\n",
       "    </tr>\n",
       "    <tr>\n",
       "      <th>1</th>\n",
       "      <td>India</td>\n",
       "      <td>44626427</td>\n",
       "      <td>528874</td>\n",
       "      <td>44623997</td>\n",
       "      <td>528857</td>\n",
       "      <td>2430</td>\n",
       "      <td>17</td>\n",
       "      <td>1.2</td>\n",
       "      <td>Asia</td>\n",
       "    </tr>\n",
       "    <tr>\n",
       "      <th>2</th>\n",
       "      <td>France</td>\n",
       "      <td>36378553</td>\n",
       "      <td>156856</td>\n",
       "      <td>36319858</td>\n",
       "      <td>156777</td>\n",
       "      <td>58695</td>\n",
       "      <td>79</td>\n",
       "      <td>0.4</td>\n",
       "      <td>Europe</td>\n",
       "    </tr>\n",
       "    <tr>\n",
       "      <th>3</th>\n",
       "      <td>Brazil</td>\n",
       "      <td>34746462</td>\n",
       "      <td>687144</td>\n",
       "      <td>34739865</td>\n",
       "      <td>687069</td>\n",
       "      <td>6597</td>\n",
       "      <td>75</td>\n",
       "      <td>2.0</td>\n",
       "      <td>South America</td>\n",
       "    </tr>\n",
       "    <tr>\n",
       "      <th>4</th>\n",
       "      <td>Germany</td>\n",
       "      <td>34608835</td>\n",
       "      <td>151420</td>\n",
       "      <td>34517327</td>\n",
       "      <td>151260</td>\n",
       "      <td>91508</td>\n",
       "      <td>160</td>\n",
       "      <td>0.4</td>\n",
       "      <td>Europe</td>\n",
       "    </tr>\n",
       "  </tbody>\n",
       "</table>\n",
       "</div>"
      ],
      "text/plain": [
       "  Country/Region     Cases   Deaths    PCases  PDeaths  Cases (+)  Deaths (+)  \\\n",
       "0             US  96940217  1065076  96912054  1064798      28163         278   \n",
       "1          India  44626427   528874  44623997   528857       2430          17   \n",
       "2         France  36378553   156856  36319858   156777      58695          79   \n",
       "3         Brazil  34746462   687144  34739865   687069       6597          75   \n",
       "4        Germany  34608835   151420  34517327   151260      91508         160   \n",
       "\n",
       "   Fatality Rate      Continent  \n",
       "0            1.1  North America  \n",
       "1            1.2           Asia  \n",
       "2            0.4         Europe  \n",
       "3            2.0  South America  \n",
       "4            0.4         Europe  "
      ]
     },
     "execution_count": 15,
     "metadata": {},
     "output_type": "execute_result"
    }
   ],
   "source": [
    "#hide\n",
    "df_table = (pd.DataFrame(dict(Cases=dfc_cases, Deaths=dfc_deaths, PCases=dfp_cases, PDeaths=dfp_deaths))\n",
    "             .sort_values(by=['Cases', 'Deaths'], ascending=[False, False])\n",
    "             .reset_index())\n",
    "df_table.rename(columns={'index': 'Country/Region'}, inplace=True)\n",
    "for c in 'Cases, Deaths'.split(', '):\n",
    "    df_table[f'{c} (+)'] = (df_table[c] - df_table[f'P{c}']).clip(0)  # DATA BUG\n",
    "df_table['Fatality Rate'] = (100 * df_table['Deaths'] / df_table['Cases']).round(1)\n",
    "df_table['Continent'] = df_table['Country/Region'].map(mapping['map.continent'])\n",
    "df_table.head(5)"
   ]
  },
  {
   "cell_type": "code",
   "execution_count": 16,
   "id": "fewer-occasion",
   "metadata": {
    "execution": {
     "iopub.execute_input": "2022-10-16T01:00:19.148654Z",
     "iopub.status.busy": "2022-10-16T01:00:19.148000Z",
     "iopub.status.idle": "2022-10-16T01:00:19.150241Z",
     "shell.execute_reply": "2022-10-16T01:00:19.150759Z"
    },
    "papermill": {
     "duration": 0.04084,
     "end_time": "2022-10-16T01:00:19.150897",
     "exception": false,
     "start_time": "2022-10-16T01:00:19.110057",
     "status": "completed"
    },
    "tags": []
   },
   "outputs": [],
   "source": [
    "#hide\n",
    "#delete problematic countries from table\n",
    "df_table = df_table[~df_table['Country/Region'].isin(['Cape Verde', 'Cruise Ship', 'Kosovo'])]"
   ]
  },
  {
   "cell_type": "code",
   "execution_count": 17,
   "id": "related-center",
   "metadata": {
    "execution": {
     "iopub.execute_input": "2022-10-16T01:00:19.224088Z",
     "iopub.status.busy": "2022-10-16T01:00:19.223199Z",
     "iopub.status.idle": "2022-10-16T01:00:19.238484Z",
     "shell.execute_reply": "2022-10-16T01:00:19.237956Z"
    },
    "papermill": {
     "duration": 0.055167,
     "end_time": "2022-10-16T01:00:19.238613",
     "exception": false,
     "start_time": "2022-10-16T01:00:19.183446",
     "status": "completed"
    },
    "tags": []
   },
   "outputs": [],
   "source": [
    "#hide\n",
    "metrics = [df_table.columns[index] for index in [1,2,5,6]]\n",
    "# s_china = df_table[df_table['Country/Region'].eq('China')][metrics].sum().add_prefix('China ')\n",
    "s_us = df_table[df_table['Country/Region'].eq('US')][metrics].sum().add_prefix('US ')\n",
    "s_eu = df_table[df_table['Continent'].eq('Europe')][metrics].sum().add_prefix('EU ')\n",
    "s_ind = df_table[df_table['Country/Region'].eq('India')][metrics].sum().add_prefix('India ')\n",
    "summary = {'updated': pd.to_datetime(dt_today), 'since': pd.to_datetime(dt_yday)}\n",
    "summary = {'updated': pd.to_datetime(dt_today), 'since': pd.to_datetime(dt_yday)}\n",
    "summary = {**summary, **df_table[metrics].sum(), **s_ind, **s_us, **s_eu}"
   ]
  },
  {
   "cell_type": "code",
   "execution_count": 18,
   "id": "engaging-syndrome",
   "metadata": {
    "execution": {
     "iopub.execute_input": "2022-10-16T01:00:19.305924Z",
     "iopub.status.busy": "2022-10-16T01:00:19.305423Z",
     "iopub.status.idle": "2022-10-16T01:00:19.326813Z",
     "shell.execute_reply": "2022-10-16T01:00:19.326214Z"
    },
    "papermill": {
     "duration": 0.058074,
     "end_time": "2022-10-16T01:00:19.326960",
     "exception": false,
     "start_time": "2022-10-16T01:00:19.268886",
     "status": "completed"
    },
    "tags": []
   },
   "outputs": [],
   "source": [
    "#hide\n",
    "dft_ct_new_cases = dft_cases.groupby(COL_REGION)[dt_cols].sum().diff(axis=1).fillna(0).astype(int)"
   ]
  },
  {
   "cell_type": "code",
   "execution_count": 19,
   "id": "neutral-assignment",
   "metadata": {
    "execution": {
     "iopub.execute_input": "2022-10-16T01:00:19.402009Z",
     "iopub.status.busy": "2022-10-16T01:00:19.401329Z",
     "iopub.status.idle": "2022-10-16T01:00:19.404557Z",
     "shell.execute_reply": "2022-10-16T01:00:19.405114Z"
    },
    "papermill": {
     "duration": 0.044543,
     "end_time": "2022-10-16T01:00:19.405290",
     "exception": false,
     "start_time": "2022-10-16T01:00:19.360747",
     "status": "completed"
    },
    "tags": []
   },
   "outputs": [],
   "source": [
    "#hide\n",
    "everydaycases = dft_ct_new_cases.cumsum(axis=1)"
   ]
  },
  {
   "cell_type": "code",
   "execution_count": 20,
   "id": "parliamentary-calgary",
   "metadata": {
    "execution": {
     "iopub.execute_input": "2022-10-16T01:00:19.474524Z",
     "iopub.status.busy": "2022-10-16T01:00:19.473922Z",
     "iopub.status.idle": "2022-10-16T01:00:20.061393Z",
     "shell.execute_reply": "2022-10-16T01:00:20.060539Z"
    },
    "papermill": {
     "duration": 0.625339,
     "end_time": "2022-10-16T01:00:20.061543",
     "exception": false,
     "start_time": "2022-10-16T01:00:19.436204",
     "status": "completed"
    },
    "tags": []
   },
   "outputs": [],
   "source": [
    "#hide\n",
    "import pandas as pd\n",
    "import matplotlib.pyplot as plt\n",
    "import matplotlib.ticker as ticker\n",
    "import matplotlib.animation as animation\n",
    "from IPython.display import HTML"
   ]
  },
  {
   "cell_type": "code",
   "execution_count": 21,
   "id": "lasting-extraction",
   "metadata": {
    "execution": {
     "iopub.execute_input": "2022-10-16T01:00:20.146236Z",
     "iopub.status.busy": "2022-10-16T01:00:20.145584Z",
     "iopub.status.idle": "2022-10-16T01:00:20.153392Z",
     "shell.execute_reply": "2022-10-16T01:00:20.153963Z"
    },
    "papermill": {
     "duration": 0.05316,
     "end_time": "2022-10-16T01:00:20.154114",
     "exception": false,
     "start_time": "2022-10-16T01:00:20.100954",
     "status": "completed"
    },
    "tags": []
   },
   "outputs": [],
   "source": [
    "#hide\n",
    "t = everydaycases.stack()"
   ]
  },
  {
   "cell_type": "code",
   "execution_count": 22,
   "id": "premier-sleeve",
   "metadata": {
    "execution": {
     "iopub.execute_input": "2022-10-16T01:00:20.226530Z",
     "iopub.status.busy": "2022-10-16T01:00:20.225883Z",
     "iopub.status.idle": "2022-10-16T01:00:20.242829Z",
     "shell.execute_reply": "2022-10-16T01:00:20.241838Z"
    },
    "papermill": {
     "duration": 0.055774,
     "end_time": "2022-10-16T01:00:20.243044",
     "exception": false,
     "start_time": "2022-10-16T01:00:20.187270",
     "status": "completed"
    },
    "tags": []
   },
   "outputs": [],
   "source": [
    "#hide\n",
    "g = t.reset_index(['Country/Region'])"
   ]
  },
  {
   "cell_type": "code",
   "execution_count": 23,
   "id": "distributed-pittsburgh",
   "metadata": {
    "execution": {
     "iopub.execute_input": "2022-10-16T01:00:20.319978Z",
     "iopub.status.busy": "2022-10-16T01:00:20.319098Z",
     "iopub.status.idle": "2022-10-16T01:00:20.320794Z",
     "shell.execute_reply": "2022-10-16T01:00:20.321651Z"
    },
    "papermill": {
     "duration": 0.041695,
     "end_time": "2022-10-16T01:00:20.321830",
     "exception": false,
     "start_time": "2022-10-16T01:00:20.280135",
     "status": "completed"
    },
    "tags": []
   },
   "outputs": [],
   "source": [
    "#hide\n",
    "g.index.name = 'date'"
   ]
  },
  {
   "cell_type": "code",
   "execution_count": 24,
   "id": "naked-donor",
   "metadata": {
    "execution": {
     "iopub.execute_input": "2022-10-16T01:00:20.394510Z",
     "iopub.status.busy": "2022-10-16T01:00:20.393234Z",
     "iopub.status.idle": "2022-10-16T01:00:20.395639Z",
     "shell.execute_reply": "2022-10-16T01:00:20.396059Z"
    },
    "papermill": {
     "duration": 0.04132,
     "end_time": "2022-10-16T01:00:20.396187",
     "exception": false,
     "start_time": "2022-10-16T01:00:20.354867",
     "status": "completed"
    },
    "tags": []
   },
   "outputs": [],
   "source": [
    "# #hide\n",
    "# g = g.reset_index(['date'])"
   ]
  },
  {
   "cell_type": "code",
   "execution_count": 25,
   "id": "incomplete-mustang",
   "metadata": {
    "execution": {
     "iopub.execute_input": "2022-10-16T01:00:20.476674Z",
     "iopub.status.busy": "2022-10-16T01:00:20.476026Z",
     "iopub.status.idle": "2022-10-16T01:00:20.477308Z",
     "shell.execute_reply": "2022-10-16T01:00:20.477895Z"
    },
    "papermill": {
     "duration": 0.042531,
     "end_time": "2022-10-16T01:00:20.478033",
     "exception": false,
     "start_time": "2022-10-16T01:00:20.435502",
     "status": "completed"
    },
    "tags": []
   },
   "outputs": [],
   "source": [
    "#hide\n",
    "# g.head()"
   ]
  },
  {
   "cell_type": "code",
   "execution_count": 26,
   "id": "specific-kruger",
   "metadata": {
    "execution": {
     "iopub.execute_input": "2022-10-16T01:00:20.551083Z",
     "iopub.status.busy": "2022-10-16T01:00:20.550164Z",
     "iopub.status.idle": "2022-10-16T01:00:20.552004Z",
     "shell.execute_reply": "2022-10-16T01:00:20.552604Z"
    },
    "papermill": {
     "duration": 0.040931,
     "end_time": "2022-10-16T01:00:20.552744",
     "exception": false,
     "start_time": "2022-10-16T01:00:20.511813",
     "status": "completed"
    },
    "tags": []
   },
   "outputs": [],
   "source": [
    "#hide\n",
    "# g.columns = ['date','country','cases']"
   ]
  },
  {
   "cell_type": "code",
   "execution_count": 27,
   "id": "tender-conversion",
   "metadata": {
    "execution": {
     "iopub.execute_input": "2022-10-16T01:00:20.630296Z",
     "iopub.status.busy": "2022-10-16T01:00:20.629589Z",
     "iopub.status.idle": "2022-10-16T01:00:20.632647Z",
     "shell.execute_reply": "2022-10-16T01:00:20.632093Z"
    },
    "papermill": {
     "duration": 0.046105,
     "end_time": "2022-10-16T01:00:20.632774",
     "exception": false,
     "start_time": "2022-10-16T01:00:20.586669",
     "status": "completed"
    },
    "tags": []
   },
   "outputs": [],
   "source": [
    "#hide\n",
    "# g['continent'] = g.country"
   ]
  },
  {
   "cell_type": "code",
   "execution_count": 28,
   "id": "substantial-wilderness",
   "metadata": {
    "execution": {
     "iopub.execute_input": "2022-10-16T01:00:20.707106Z",
     "iopub.status.busy": "2022-10-16T01:00:20.705768Z",
     "iopub.status.idle": "2022-10-16T01:00:20.708627Z",
     "shell.execute_reply": "2022-10-16T01:00:20.709606Z"
    },
    "papermill": {
     "duration": 0.043401,
     "end_time": "2022-10-16T01:00:20.709861",
     "exception": false,
     "start_time": "2022-10-16T01:00:20.666460",
     "status": "completed"
    },
    "tags": []
   },
   "outputs": [],
   "source": [
    "#hide\n",
    "# cols = list(g.columns.values)"
   ]
  },
  {
   "cell_type": "code",
   "execution_count": 29,
   "id": "solved-farming",
   "metadata": {
    "execution": {
     "iopub.execute_input": "2022-10-16T01:00:20.782981Z",
     "iopub.status.busy": "2022-10-16T01:00:20.782333Z",
     "iopub.status.idle": "2022-10-16T01:00:20.784769Z",
     "shell.execute_reply": "2022-10-16T01:00:20.785327Z"
    },
    "papermill": {
     "duration": 0.041746,
     "end_time": "2022-10-16T01:00:20.785473",
     "exception": false,
     "start_time": "2022-10-16T01:00:20.743727",
     "status": "completed"
    },
    "tags": []
   },
   "outputs": [],
   "source": [
    "#hide\n",
    "# cols.insert(0, cols.pop())"
   ]
  },
  {
   "cell_type": "code",
   "execution_count": 30,
   "id": "executed-adoption",
   "metadata": {
    "execution": {
     "iopub.execute_input": "2022-10-16T01:00:20.858271Z",
     "iopub.status.busy": "2022-10-16T01:00:20.857010Z",
     "iopub.status.idle": "2022-10-16T01:00:20.861943Z",
     "shell.execute_reply": "2022-10-16T01:00:20.860933Z"
    },
    "papermill": {
     "duration": 0.044705,
     "end_time": "2022-10-16T01:00:20.862157",
     "exception": false,
     "start_time": "2022-10-16T01:00:20.817452",
     "status": "completed"
    },
    "tags": []
   },
   "outputs": [],
   "source": [
    "#hide\n",
    "# g = g[cols]"
   ]
  },
  {
   "cell_type": "code",
   "execution_count": 31,
   "id": "subject-dublin",
   "metadata": {
    "execution": {
     "iopub.execute_input": "2022-10-16T01:00:20.934441Z",
     "iopub.status.busy": "2022-10-16T01:00:20.933570Z",
     "iopub.status.idle": "2022-10-16T01:00:20.935164Z",
     "shell.execute_reply": "2022-10-16T01:00:20.935712Z"
    },
    "papermill": {
     "duration": 0.041012,
     "end_time": "2022-10-16T01:00:20.935859",
     "exception": false,
     "start_time": "2022-10-16T01:00:20.894847",
     "status": "completed"
    },
    "tags": []
   },
   "outputs": [],
   "source": [
    "#hide\n",
    "# g['continent'] = g['continent'].map(mapping['map.continent'])"
   ]
  },
  {
   "cell_type": "code",
   "execution_count": 32,
   "id": "freelance-scout",
   "metadata": {
    "execution": {
     "iopub.execute_input": "2022-10-16T01:00:21.006855Z",
     "iopub.status.busy": "2022-10-16T01:00:21.006269Z",
     "iopub.status.idle": "2022-10-16T01:00:21.009982Z",
     "shell.execute_reply": "2022-10-16T01:00:21.010532Z"
    },
    "papermill": {
     "duration": 0.040604,
     "end_time": "2022-10-16T01:00:21.010683",
     "exception": false,
     "start_time": "2022-10-16T01:00:20.970079",
     "status": "completed"
    },
    "tags": []
   },
   "outputs": [],
   "source": [
    "#hide\n",
    "# g.head()"
   ]
  },
  {
   "cell_type": "code",
   "execution_count": 33,
   "id": "limited-engine",
   "metadata": {
    "execution": {
     "iopub.execute_input": "2022-10-16T01:00:21.084328Z",
     "iopub.status.busy": "2022-10-16T01:00:21.083267Z",
     "iopub.status.idle": "2022-10-16T01:00:21.086302Z",
     "shell.execute_reply": "2022-10-16T01:00:21.085539Z"
    },
    "papermill": {
     "duration": 0.042147,
     "end_time": "2022-10-16T01:00:21.086495",
     "exception": false,
     "start_time": "2022-10-16T01:00:21.044348",
     "status": "completed"
    },
    "tags": []
   },
   "outputs": [],
   "source": [
    "# hide\n",
    "# g['date'] = g['date'].astype('datetime64[ns]')"
   ]
  },
  {
   "cell_type": "code",
   "execution_count": 34,
   "id": "sophisticated-supervisor",
   "metadata": {
    "execution": {
     "iopub.execute_input": "2022-10-16T01:00:21.159547Z",
     "iopub.status.busy": "2022-10-16T01:00:21.158894Z",
     "iopub.status.idle": "2022-10-16T01:00:21.162136Z",
     "shell.execute_reply": "2022-10-16T01:00:21.161506Z"
    },
    "papermill": {
     "duration": 0.03984,
     "end_time": "2022-10-16T01:00:21.162256",
     "exception": false,
     "start_time": "2022-10-16T01:00:21.122416",
     "status": "completed"
    },
    "tags": []
   },
   "outputs": [],
   "source": [
    "#hide\n",
    "# g['date'] = g.date.dt.dayofyear"
   ]
  },
  {
   "cell_type": "code",
   "execution_count": 35,
   "id": "inside-dubai",
   "metadata": {
    "execution": {
     "iopub.execute_input": "2022-10-16T01:00:21.230987Z",
     "iopub.status.busy": "2022-10-16T01:00:21.230342Z",
     "iopub.status.idle": "2022-10-16T01:00:21.234205Z",
     "shell.execute_reply": "2022-10-16T01:00:21.234670Z"
    },
    "papermill": {
     "duration": 0.039729,
     "end_time": "2022-10-16T01:00:21.234809",
     "exception": false,
     "start_time": "2022-10-16T01:00:21.195080",
     "status": "completed"
    },
    "tags": []
   },
   "outputs": [],
   "source": [
    "#hide\n",
    "# g = g.rename(columns= {'continent':'group','country':'name','cases':'value'})"
   ]
  },
  {
   "cell_type": "code",
   "execution_count": 36,
   "id": "fleet-motorcycle",
   "metadata": {
    "execution": {
     "iopub.execute_input": "2022-10-16T01:00:21.309282Z",
     "iopub.status.busy": "2022-10-16T01:00:21.307888Z",
     "iopub.status.idle": "2022-10-16T01:00:21.310471Z",
     "shell.execute_reply": "2022-10-16T01:00:21.309977Z"
    },
    "papermill": {
     "duration": 0.042025,
     "end_time": "2022-10-16T01:00:21.310590",
     "exception": false,
     "start_time": "2022-10-16T01:00:21.268565",
     "status": "completed"
    },
    "tags": []
   },
   "outputs": [],
   "source": [
    "#hide\n",
    "# cols = ['name','group','day','value']"
   ]
  },
  {
   "cell_type": "code",
   "execution_count": 37,
   "id": "continued-sleeping",
   "metadata": {
    "execution": {
     "iopub.execute_input": "2022-10-16T01:00:21.382296Z",
     "iopub.status.busy": "2022-10-16T01:00:21.381557Z",
     "iopub.status.idle": "2022-10-16T01:00:21.383847Z",
     "shell.execute_reply": "2022-10-16T01:00:21.383229Z"
    },
    "papermill": {
     "duration": 0.041264,
     "end_time": "2022-10-16T01:00:21.384089",
     "exception": false,
     "start_time": "2022-10-16T01:00:21.342825",
     "status": "completed"
    },
    "tags": []
   },
   "outputs": [],
   "source": [
    "#hide\n",
    "# g.rename(columns= {'date':'day'},inplace = True)"
   ]
  },
  {
   "cell_type": "code",
   "execution_count": 38,
   "id": "major-fight",
   "metadata": {
    "execution": {
     "iopub.execute_input": "2022-10-16T01:00:21.457419Z",
     "iopub.status.busy": "2022-10-16T01:00:21.456161Z",
     "iopub.status.idle": "2022-10-16T01:00:21.461910Z",
     "shell.execute_reply": "2022-10-16T01:00:21.461272Z"
    },
    "papermill": {
     "duration": 0.042627,
     "end_time": "2022-10-16T01:00:21.462038",
     "exception": false,
     "start_time": "2022-10-16T01:00:21.419411",
     "status": "completed"
    },
    "tags": []
   },
   "outputs": [],
   "source": [
    "#hide\n",
    "# g = g[cols]"
   ]
  },
  {
   "cell_type": "code",
   "execution_count": 39,
   "id": "structured-mobile",
   "metadata": {
    "execution": {
     "iopub.execute_input": "2022-10-16T01:00:21.531384Z",
     "iopub.status.busy": "2022-10-16T01:00:21.530675Z",
     "iopub.status.idle": "2022-10-16T01:00:21.535024Z",
     "shell.execute_reply": "2022-10-16T01:00:21.534498Z"
    },
    "papermill": {
     "duration": 0.041156,
     "end_time": "2022-10-16T01:00:21.535147",
     "exception": false,
     "start_time": "2022-10-16T01:00:21.493991",
     "status": "completed"
    },
    "tags": []
   },
   "outputs": [],
   "source": [
    "# #hide\n",
    "# g = g[g.group.notna()]"
   ]
  },
  {
   "cell_type": "code",
   "execution_count": 40,
   "id": "determined-closing",
   "metadata": {
    "execution": {
     "iopub.execute_input": "2022-10-16T01:00:21.602919Z",
     "iopub.status.busy": "2022-10-16T01:00:21.602239Z",
     "iopub.status.idle": "2022-10-16T01:00:21.604798Z",
     "shell.execute_reply": "2022-10-16T01:00:21.604189Z"
    },
    "papermill": {
     "duration": 0.037991,
     "end_time": "2022-10-16T01:00:21.604917",
     "exception": false,
     "start_time": "2022-10-16T01:00:21.566926",
     "status": "completed"
    },
    "tags": []
   },
   "outputs": [],
   "source": [
    "# #hide\n",
    "# colors = dict(zip(\n",
    "#     [\"Oceania\", \"Europe\", \"Asia\", \"South America\", \"Middle East\", \"North America\", \"Africa\"],\n",
    "#     [\"#adb0ff\", \"#ffb3ff\", \"#90d595\", \"#e48381\", \"#aafbff\", \"#f7bb5f\", \"#eafb50\"]\n",
    "# ))\n",
    "# group_lk = g.set_index('name')['group'].to_dict()"
   ]
  },
  {
   "cell_type": "code",
   "execution_count": null,
   "id": "gross-drinking",
   "metadata": {
    "papermill": {
     "duration": 0.032658,
     "end_time": "2022-10-16T01:00:21.671592",
     "exception": false,
     "start_time": "2022-10-16T01:00:21.638934",
     "status": "completed"
    },
    "tags": []
   },
   "outputs": [],
   "source": []
  },
  {
   "cell_type": "code",
   "execution_count": 41,
   "id": "subject-macintosh",
   "metadata": {
    "execution": {
     "iopub.execute_input": "2022-10-16T01:00:21.744182Z",
     "iopub.status.busy": "2022-10-16T01:00:21.742925Z",
     "iopub.status.idle": "2022-10-16T01:00:21.745530Z",
     "shell.execute_reply": "2022-10-16T01:00:21.746440Z"
    },
    "papermill": {
     "duration": 0.043045,
     "end_time": "2022-10-16T01:00:21.746679",
     "exception": false,
     "start_time": "2022-10-16T01:00:21.703634",
     "status": "completed"
    },
    "tags": []
   },
   "outputs": [],
   "source": [
    "# #hide\n",
    "# fig, ax = plt.subplots(figsize=(15, 8))\n",
    "\n",
    "# def draw_barchart(current_day):\n",
    "#     dff = g[g['day'].eq(current_day)].sort_values(by='value', ascending=True).tail(10)\n",
    "#     ax.clear()\n",
    "#     ax.barh(dff['name'], dff['value'], color=[colors[group_lk[x]] for x in dff['name']])\n",
    "#     dx = dff['value'].max() / 200\n",
    "    \n",
    "#     for i, (value, name) in enumerate(zip(dff['value'], dff['name'])):\n",
    "#         ax.text(value-dx, i,     name,           size=14, weight=600, ha='right', va='bottom')\n",
    "#         ax.text(value-dx, i-.25, group_lk[name], size=10, color='#444444', ha='right', va='baseline')\n",
    "#         ax.text(value+dx, i,     f'{value:,.0f}',  size=14, ha='left',  va='center')\n",
    "#     ax.text(1, 0.4, current_day, transform=ax.transAxes, color='#777777', size=46, ha='right', weight=800)\n",
    "#     ax.text(0, 1.06, 'Population (thousands)', transform=ax.transAxes, size=12, color='#777777')\n",
    "#     ax.xaxis.set_major_formatter(ticker.StrMethodFormatter('{x:,.0f}'))\n",
    "#     ax.xaxis.set_ticks_position('top')\n",
    "#     ax.tick_params(axis='x', colors='#777777', labelsize=12)\n",
    "#     ax.set_yticks([])\n",
    "#     ax.margins(0, 0.01)\n",
    "#     ax.grid(which='major', axis='x', linestyle='-')\n",
    "#     ax.set_axisbelow(True)\n",
    "    \n",
    "#     ax.text(0, 1.15, 'Coronavirus',\n",
    "#             transform=ax.transAxes, size=24, weight=600, ha='left', va='top')\n",
    "# #     ax.text(1, 0, 'by @pratapvardhan; credit @jburnmurdoch', transform=ax.transAxes, color='#777777', ha='right',\n",
    "# #             bbox=dict(facecolor='white', alpha=0.8, edgecolor='white'))\n",
    "#     plt.box(False)"
   ]
  },
  {
   "cell_type": "code",
   "execution_count": 42,
   "id": "sexual-wages",
   "metadata": {
    "execution": {
     "iopub.execute_input": "2022-10-16T01:00:21.816473Z",
     "iopub.status.busy": "2022-10-16T01:00:21.815803Z",
     "iopub.status.idle": "2022-10-16T01:00:21.818551Z",
     "shell.execute_reply": "2022-10-16T01:00:21.817885Z"
    },
    "papermill": {
     "duration": 0.039288,
     "end_time": "2022-10-16T01:00:21.818678",
     "exception": false,
     "start_time": "2022-10-16T01:00:21.779390",
     "status": "completed"
    },
    "tags": []
   },
   "outputs": [],
   "source": [
    "# #hide_input\n",
    "# fig, ax = plt.subplots(figsize=(15, 8))\n",
    "# animator = animation.FuncAnimation(fig, draw_barchart, frames=range(g.day.values.min(), g.day.values.max()))\n",
    "# HTML(animator.to_jshtml())\n",
    "# # or use animator.to_html5_video() or animator.save() "
   ]
  },
  {
   "cell_type": "code",
   "execution_count": null,
   "id": "australian-container",
   "metadata": {
    "papermill": {
     "duration": 0.03258,
     "end_time": "2022-10-16T01:00:21.884916",
     "exception": false,
     "start_time": "2022-10-16T01:00:21.852336",
     "status": "completed"
    },
    "tags": []
   },
   "outputs": [],
   "source": []
  },
  {
   "cell_type": "code",
   "execution_count": null,
   "id": "mediterranean-pontiac",
   "metadata": {
    "papermill": {
     "duration": 0.033156,
     "end_time": "2022-10-16T01:00:21.951205",
     "exception": false,
     "start_time": "2022-10-16T01:00:21.918049",
     "status": "completed"
    },
    "tags": []
   },
   "outputs": [],
   "source": []
  },
  {
   "cell_type": "code",
   "execution_count": null,
   "id": "aging-legislature",
   "metadata": {
    "papermill": {
     "duration": 0.030833,
     "end_time": "2022-10-16T01:00:22.014549",
     "exception": false,
     "start_time": "2022-10-16T01:00:21.983716",
     "status": "completed"
    },
    "tags": []
   },
   "outputs": [],
   "source": []
  }
 ],
 "metadata": {
  "kernelspec": {
   "display_name": "Python 3",
   "language": "python",
   "name": "python3"
  },
  "language_info": {
   "codemirror_mode": {
    "name": "ipython",
    "version": 3
   },
   "file_extension": ".py",
   "mimetype": "text/x-python",
   "name": "python",
   "nbconvert_exporter": "python",
   "pygments_lexer": "ipython3",
   "version": "3.6.15"
  },
  "papermill": {
   "duration": 6.744296,
   "end_time": "2022-10-16T01:00:22.467638",
   "environment_variables": {},
   "exception": null,
   "input_path": "2020-03-21-covid19exp.ipynb",
   "output_path": "2020-03-21-covid19exp.ipynb",
   "parameters": {},
   "start_time": "2022-10-16T01:00:15.723342",
   "version": "2.0.0"
  }
 },
 "nbformat": 4,
 "nbformat_minor": 5
}