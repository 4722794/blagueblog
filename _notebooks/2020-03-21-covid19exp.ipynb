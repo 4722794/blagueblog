{
 "cells": [
  {
   "cell_type": "markdown",
   "id": "muslim-click",
   "metadata": {
    "papermill": {
     "duration": 0.034054,
     "end_time": "2022-02-24T00:31:06.320019",
     "exception": false,
     "start_time": "2022-02-24T00:31:06.285965",
     "status": "completed"
    },
    "tags": []
   },
   "source": [
    "# COVID-19 Case Race\n",
    "> A race chart to see rising cases around the world\n",
    "\n",
    "- author: Hargun Oberoi\n",
    "- image: images/covid-overview.png\n",
    "- hide: false\n",
    "- badges: false"
   ]
  },
  {
   "cell_type": "code",
   "execution_count": 1,
   "id": "proof-material",
   "metadata": {
    "execution": {
     "iopub.execute_input": "2022-02-24T00:31:06.394463Z",
     "iopub.status.busy": "2022-02-24T00:31:06.393952Z",
     "iopub.status.idle": "2022-02-24T00:31:06.700439Z",
     "shell.execute_reply": "2022-02-24T00:31:06.699969Z"
    },
    "papermill": {
     "duration": 0.345802,
     "end_time": "2022-02-24T00:31:06.700566",
     "exception": false,
     "start_time": "2022-02-24T00:31:06.354764",
     "status": "completed"
    },
    "tags": []
   },
   "outputs": [],
   "source": [
    "#hide\n",
    "import numpy as np\n",
    "import pandas as pd\n",
    "from jinja2 import Template\n",
    "from IPython.display import HTML"
   ]
  },
  {
   "cell_type": "code",
   "execution_count": 2,
   "id": "developed-terminology",
   "metadata": {
    "execution": {
     "iopub.execute_input": "2022-02-24T00:31:06.767177Z",
     "iopub.status.busy": "2022-02-24T00:31:06.766678Z",
     "iopub.status.idle": "2022-02-24T00:31:06.768474Z",
     "shell.execute_reply": "2022-02-24T00:31:06.768074Z"
    },
    "papermill": {
     "duration": 0.036865,
     "end_time": "2022-02-24T00:31:06.768571",
     "exception": false,
     "start_time": "2022-02-24T00:31:06.731706",
     "status": "completed"
    },
    "tags": []
   },
   "outputs": [],
   "source": [
    "#hide\n",
    "\n",
    "# FETCH\n",
    "base_url = 'https://raw.githubusercontent.com/pratapvardhan/notebooks/master/covid19/'\n",
    "paths = {\n",
    "    'mapping': base_url + 'mapping_countries.csv',\n",
    "    'overview': base_url + 'overview.tpl'\n",
    "}"
   ]
  },
  {
   "cell_type": "code",
   "execution_count": 3,
   "id": "dynamic-saver",
   "metadata": {
    "execution": {
     "iopub.execute_input": "2022-02-24T00:31:06.838247Z",
     "iopub.status.busy": "2022-02-24T00:31:06.837759Z",
     "iopub.status.idle": "2022-02-24T00:31:06.840233Z",
     "shell.execute_reply": "2022-02-24T00:31:06.840651Z"
    },
    "papermill": {
     "duration": 0.04166,
     "end_time": "2022-02-24T00:31:06.840762",
     "exception": false,
     "start_time": "2022-02-24T00:31:06.799102",
     "status": "completed"
    },
    "tags": []
   },
   "outputs": [
    {
     "data": {
      "text/plain": [
       "'https://raw.githubusercontent.com/pratapvardhan/notebooks/master/covid19/mapping_countries.csv'"
      ]
     },
     "execution_count": 3,
     "metadata": {},
     "output_type": "execute_result"
    }
   ],
   "source": [
    "#hide\n",
    "paths['mapping']"
   ]
  },
  {
   "cell_type": "code",
   "execution_count": 4,
   "id": "urban-software",
   "metadata": {
    "execution": {
     "iopub.execute_input": "2022-02-24T00:31:06.907522Z",
     "iopub.status.busy": "2022-02-24T00:31:06.907011Z",
     "iopub.status.idle": "2022-02-24T00:31:06.910030Z",
     "shell.execute_reply": "2022-02-24T00:31:06.910416Z"
    },
    "papermill": {
     "duration": 0.038471,
     "end_time": "2022-02-24T00:31:06.910535",
     "exception": false,
     "start_time": "2022-02-24T00:31:06.872064",
     "status": "completed"
    },
    "tags": []
   },
   "outputs": [],
   "source": [
    "#hide\n",
    "def get_mappings(url):\n",
    "    df = pd.read_csv(url)\n",
    "    return {\n",
    "        'df': df,\n",
    "        'replace.country': dict(df.dropna(subset=['Name']).set_index('Country')['Name']),\n",
    "        'map.continent': dict(df.set_index('Name')['Continent'])\n",
    "    }"
   ]
  },
  {
   "cell_type": "code",
   "execution_count": 5,
   "id": "intimate-machinery",
   "metadata": {
    "execution": {
     "iopub.execute_input": "2022-02-24T00:31:06.977185Z",
     "iopub.status.busy": "2022-02-24T00:31:06.976665Z",
     "iopub.status.idle": "2022-02-24T00:31:07.010018Z",
     "shell.execute_reply": "2022-02-24T00:31:07.009616Z"
    },
    "papermill": {
     "duration": 0.068663,
     "end_time": "2022-02-24T00:31:07.010125",
     "exception": false,
     "start_time": "2022-02-24T00:31:06.941462",
     "status": "completed"
    },
    "tags": []
   },
   "outputs": [],
   "source": [
    "#hide\n",
    "mapping = get_mappings(paths['mapping'])"
   ]
  },
  {
   "cell_type": "code",
   "execution_count": 6,
   "id": "certified-tactics",
   "metadata": {
    "execution": {
     "iopub.execute_input": "2022-02-24T00:31:07.076764Z",
     "iopub.status.busy": "2022-02-24T00:31:07.076262Z",
     "iopub.status.idle": "2022-02-24T00:31:07.078263Z",
     "shell.execute_reply": "2022-02-24T00:31:07.077882Z"
    },
    "papermill": {
     "duration": 0.037138,
     "end_time": "2022-02-24T00:31:07.078361",
     "exception": false,
     "start_time": "2022-02-24T00:31:07.041223",
     "status": "completed"
    },
    "tags": []
   },
   "outputs": [],
   "source": [
    "#hide\n",
    "def get_template(path):\n",
    "    from urllib.parse import urlparse\n",
    "    if bool(urlparse(path).netloc):\n",
    "        from urllib.request import urlopen\n",
    "        return urlopen(path).read().decode('utf8')\n",
    "    return open(path).read()"
   ]
  },
  {
   "cell_type": "code",
   "execution_count": 7,
   "id": "realistic-blast",
   "metadata": {
    "execution": {
     "iopub.execute_input": "2022-02-24T00:31:07.144236Z",
     "iopub.status.busy": "2022-02-24T00:31:07.143744Z",
     "iopub.status.idle": "2022-02-24T00:31:07.145628Z",
     "shell.execute_reply": "2022-02-24T00:31:07.146022Z"
    },
    "papermill": {
     "duration": 0.036852,
     "end_time": "2022-02-24T00:31:07.146135",
     "exception": false,
     "start_time": "2022-02-24T00:31:07.109283",
     "status": "completed"
    },
    "tags": []
   },
   "outputs": [],
   "source": [
    "#hide\n",
    "def get_frame(name):\n",
    "    url = (\n",
    "        'https://raw.githubusercontent.com/CSSEGISandData/COVID-19/master/csse_covid_19_data/'\n",
    "        f'csse_covid_19_time_series/time_series_covid19_{name}_global.csv')\n",
    "    df = pd.read_csv(url)\n",
    "    # rename countries\n",
    "    df['Country/Region'] = df['Country/Region'].replace(mapping['replace.country'])\n",
    "    return df"
   ]
  },
  {
   "cell_type": "code",
   "execution_count": 8,
   "id": "affiliated-characterization",
   "metadata": {
    "execution": {
     "iopub.execute_input": "2022-02-24T00:31:07.213249Z",
     "iopub.status.busy": "2022-02-24T00:31:07.212716Z",
     "iopub.status.idle": "2022-02-24T00:31:07.214743Z",
     "shell.execute_reply": "2022-02-24T00:31:07.214347Z"
    },
    "papermill": {
     "duration": 0.037678,
     "end_time": "2022-02-24T00:31:07.214843",
     "exception": false,
     "start_time": "2022-02-24T00:31:07.177165",
     "status": "completed"
    },
    "tags": []
   },
   "outputs": [],
   "source": [
    "#hide\n",
    "def get_dates(df):\n",
    "    dt_cols = df.columns[~df.columns.isin(['Province/State', 'Country/Region', 'Lat', 'Long'])]\n",
    "    LAST_DATE_I = -1\n",
    "    # sometimes last column may be empty, then go backwards\n",
    "    for i in range(-1, -len(dt_cols), -1):\n",
    "        if not df[dt_cols[i]].fillna(0).eq(0).all():\n",
    "            LAST_DATE_I = i\n",
    "            break\n",
    "    return LAST_DATE_I, dt_cols"
   ]
  },
  {
   "cell_type": "code",
   "execution_count": 9,
   "id": "recent-optimization",
   "metadata": {
    "execution": {
     "iopub.execute_input": "2022-02-24T00:31:07.280922Z",
     "iopub.status.busy": "2022-02-24T00:31:07.280423Z",
     "iopub.status.idle": "2022-02-24T00:31:07.728493Z",
     "shell.execute_reply": "2022-02-24T00:31:07.728058Z"
    },
    "papermill": {
     "duration": 0.482709,
     "end_time": "2022-02-24T00:31:07.728607",
     "exception": false,
     "start_time": "2022-02-24T00:31:07.245898",
     "status": "completed"
    },
    "tags": []
   },
   "outputs": [],
   "source": [
    "#hide\n",
    "COL_REGION = 'Country/Region'\n",
    "# Confirmed, Recovered, Deaths\n",
    "df = get_frame('confirmed')\n",
    "# dft_: timeseries, dfc_: today country agg\n",
    "dft_cases = df\n",
    "dft_deaths = get_frame('deaths')\n",
    "dft_recovered = get_frame('recovered')\n",
    "LAST_DATE_I, dt_cols = get_dates(df)"
   ]
  },
  {
   "cell_type": "code",
   "execution_count": 10,
   "id": "absolute-copper",
   "metadata": {
    "execution": {
     "iopub.execute_input": "2022-02-24T00:31:07.795821Z",
     "iopub.status.busy": "2022-02-24T00:31:07.795320Z",
     "iopub.status.idle": "2022-02-24T00:31:07.797389Z",
     "shell.execute_reply": "2022-02-24T00:31:07.796987Z"
    },
    "papermill": {
     "duration": 0.03754,
     "end_time": "2022-02-24T00:31:07.797490",
     "exception": false,
     "start_time": "2022-02-24T00:31:07.759950",
     "status": "completed"
    },
    "tags": []
   },
   "outputs": [],
   "source": [
    "#hide\n",
    "LAST_DATE_I, dt_cols = get_dates(df)\n",
    "dt_today =dt_cols[LAST_DATE_I]\n",
    "# dt_5day = dt_cols[LAST_DATE_I - 5]\n",
    "dt_yday = dt_cols[LAST_DATE_I - 1]"
   ]
  },
  {
   "cell_type": "code",
   "execution_count": 11,
   "id": "restricted-sheriff",
   "metadata": {
    "execution": {
     "iopub.execute_input": "2022-02-24T00:31:07.865786Z",
     "iopub.status.busy": "2022-02-24T00:31:07.865291Z",
     "iopub.status.idle": "2022-02-24T00:31:07.871042Z",
     "shell.execute_reply": "2022-02-24T00:31:07.870602Z"
    },
    "papermill": {
     "duration": 0.0426,
     "end_time": "2022-02-24T00:31:07.871145",
     "exception": false,
     "start_time": "2022-02-24T00:31:07.828545",
     "status": "completed"
    },
    "tags": []
   },
   "outputs": [],
   "source": [
    "#hide\n",
    "dfc_cases = dft_cases.groupby(COL_REGION)[dt_today].sum()\n",
    "dfc_deaths = dft_deaths.groupby(COL_REGION)[dt_today].sum()\n",
    "# dfp_cases = dft_cases.groupby(COL_REGION)[dt_5day].sum()\n",
    "# dfp_deaths = dft_deaths.groupby(COL_REGION)[dt_5day].sum()\n",
    "dfp_cases = dft_cases.groupby(COL_REGION)[dt_yday].sum()\n",
    "dfp_deaths = dft_deaths.groupby(COL_REGION)[dt_yday].sum()"
   ]
  },
  {
   "cell_type": "code",
   "execution_count": 12,
   "id": "deluxe-hepatitis",
   "metadata": {
    "execution": {
     "iopub.execute_input": "2022-02-24T00:31:07.938433Z",
     "iopub.status.busy": "2022-02-24T00:31:07.937951Z",
     "iopub.status.idle": "2022-02-24T00:31:07.942201Z",
     "shell.execute_reply": "2022-02-24T00:31:07.941808Z"
    },
    "papermill": {
     "duration": 0.040213,
     "end_time": "2022-02-24T00:31:07.942300",
     "exception": false,
     "start_time": "2022-02-24T00:31:07.902087",
     "status": "completed"
    },
    "tags": []
   },
   "outputs": [],
   "source": [
    "#hide\n",
    "df_table = (pd.DataFrame(dict(Cases = dfc_cases, Deaths = dfc_deaths, PCases = dfp_cases, PDeaths = dfp_deaths))\n",
    "            .sort_values(by = ['Cases','Deaths'], ascending = [False, False])\n",
    "            .reset_index())"
   ]
  },
  {
   "cell_type": "code",
   "execution_count": 13,
   "id": "educational-chancellor",
   "metadata": {
    "execution": {
     "iopub.execute_input": "2022-02-24T00:31:08.016708Z",
     "iopub.status.busy": "2022-02-24T00:31:08.016216Z",
     "iopub.status.idle": "2022-02-24T00:31:08.027534Z",
     "shell.execute_reply": "2022-02-24T00:31:08.027143Z"
    },
    "papermill": {
     "duration": 0.054414,
     "end_time": "2022-02-24T00:31:08.027634",
     "exception": false,
     "start_time": "2022-02-24T00:31:07.973220",
     "status": "completed"
    },
    "tags": []
   },
   "outputs": [
    {
     "data": {
      "text/html": [
       "<div>\n",
       "<style scoped>\n",
       "    .dataframe tbody tr th:only-of-type {\n",
       "        vertical-align: middle;\n",
       "    }\n",
       "\n",
       "    .dataframe tbody tr th {\n",
       "        vertical-align: top;\n",
       "    }\n",
       "\n",
       "    .dataframe thead th {\n",
       "        text-align: right;\n",
       "    }\n",
       "</style>\n",
       "<table border=\"1\" class=\"dataframe\">\n",
       "  <thead>\n",
       "    <tr style=\"text-align: right;\">\n",
       "      <th></th>\n",
       "      <th>Country/Region</th>\n",
       "      <th>Cases</th>\n",
       "      <th>Deaths</th>\n",
       "      <th>PCases</th>\n",
       "      <th>PDeaths</th>\n",
       "      <th>Cases (+)</th>\n",
       "      <th>Deaths (+)</th>\n",
       "      <th>Fatality Rate</th>\n",
       "      <th>Continent</th>\n",
       "    </tr>\n",
       "  </thead>\n",
       "  <tbody>\n",
       "    <tr>\n",
       "      <th>0</th>\n",
       "      <td>US</td>\n",
       "      <td>78648651</td>\n",
       "      <td>939064</td>\n",
       "      <td>78548831</td>\n",
       "      <td>936764</td>\n",
       "      <td>99820</td>\n",
       "      <td>2300</td>\n",
       "      <td>1.19</td>\n",
       "      <td>North America</td>\n",
       "    </tr>\n",
       "    <tr>\n",
       "      <th>1</th>\n",
       "      <td>India</td>\n",
       "      <td>42867031</td>\n",
       "      <td>512622</td>\n",
       "      <td>42851929</td>\n",
       "      <td>512344</td>\n",
       "      <td>15102</td>\n",
       "      <td>278</td>\n",
       "      <td>1.20</td>\n",
       "      <td>Asia</td>\n",
       "    </tr>\n",
       "    <tr>\n",
       "      <th>2</th>\n",
       "      <td>Brazil</td>\n",
       "      <td>28361951</td>\n",
       "      <td>645735</td>\n",
       "      <td>28258458</td>\n",
       "      <td>644918</td>\n",
       "      <td>103493</td>\n",
       "      <td>817</td>\n",
       "      <td>2.28</td>\n",
       "      <td>South America</td>\n",
       "    </tr>\n",
       "    <tr>\n",
       "      <th>3</th>\n",
       "      <td>France</td>\n",
       "      <td>22563594</td>\n",
       "      <td>138277</td>\n",
       "      <td>22466076</td>\n",
       "      <td>133663</td>\n",
       "      <td>97518</td>\n",
       "      <td>4614</td>\n",
       "      <td>0.61</td>\n",
       "      <td>Europe</td>\n",
       "    </tr>\n",
       "    <tr>\n",
       "      <th>4</th>\n",
       "      <td>United Kingdom</td>\n",
       "      <td>18826968</td>\n",
       "      <td>161384</td>\n",
       "      <td>18785333</td>\n",
       "      <td>161179</td>\n",
       "      <td>41635</td>\n",
       "      <td>205</td>\n",
       "      <td>0.86</td>\n",
       "      <td>Europe</td>\n",
       "    </tr>\n",
       "  </tbody>\n",
       "</table>\n",
       "</div>"
      ],
      "text/plain": [
       "   Country/Region     Cases  Deaths    PCases  PDeaths  Cases (+)  Deaths (+)  \\\n",
       "0              US  78648651  939064  78548831   936764      99820        2300   \n",
       "1           India  42867031  512622  42851929   512344      15102         278   \n",
       "2          Brazil  28361951  645735  28258458   644918     103493         817   \n",
       "3          France  22563594  138277  22466076   133663      97518        4614   \n",
       "4  United Kingdom  18826968  161384  18785333   161179      41635         205   \n",
       "\n",
       "   Fatality Rate      Continent  \n",
       "0           1.19  North America  \n",
       "1           1.20           Asia  \n",
       "2           2.28  South America  \n",
       "3           0.61         Europe  \n",
       "4           0.86         Europe  "
      ]
     },
     "execution_count": 13,
     "metadata": {},
     "output_type": "execute_result"
    }
   ],
   "source": [
    "#hide\n",
    "for c in 'Cases, Deaths'.split(', '):\n",
    "    df_table[f'{c} (+)'] = (df_table[c] - df_table[f'P{c}']).clip(0)\n",
    "    #Clip ça veut dire, les chiffres negatif sont interdit\n",
    "df_table['Fatality Rate'] = (100* df_table['Deaths']/ df_table['Cases']).round(2)\n",
    "df_table['Continent'] = df_table['Country/Region'].map(mapping['map.continent'])\n",
    "df_table.head(5)"
   ]
  },
  {
   "cell_type": "code",
   "execution_count": 14,
   "id": "aboriginal-bulgaria",
   "metadata": {
    "execution": {
     "iopub.execute_input": "2022-02-24T00:31:08.095808Z",
     "iopub.status.busy": "2022-02-24T00:31:08.095313Z",
     "iopub.status.idle": "2022-02-24T00:31:08.097211Z",
     "shell.execute_reply": "2022-02-24T00:31:08.097576Z"
    },
    "papermill": {
     "duration": 0.038527,
     "end_time": "2022-02-24T00:31:08.097692",
     "exception": false,
     "start_time": "2022-02-24T00:31:08.059165",
     "status": "completed"
    },
    "tags": []
   },
   "outputs": [],
   "source": [
    "#hide\n",
    "#delete problematic countries from table\n",
    "df_table = df_table[~df_table['Country/Region'].isin(['Cape Verde', 'Cruise Ship', 'Kosovo'])]"
   ]
  },
  {
   "cell_type": "code",
   "execution_count": 15,
   "id": "fantastic-effect",
   "metadata": {
    "execution": {
     "iopub.execute_input": "2022-02-24T00:31:08.167575Z",
     "iopub.status.busy": "2022-02-24T00:31:08.167079Z",
     "iopub.status.idle": "2022-02-24T00:31:08.184020Z",
     "shell.execute_reply": "2022-02-24T00:31:08.183626Z"
    },
    "papermill": {
     "duration": 0.055086,
     "end_time": "2022-02-24T00:31:08.184124",
     "exception": false,
     "start_time": "2022-02-24T00:31:08.129038",
     "status": "completed"
    },
    "tags": []
   },
   "outputs": [
    {
     "data": {
      "text/html": [
       "<div>\n",
       "<style scoped>\n",
       "    .dataframe tbody tr th:only-of-type {\n",
       "        vertical-align: middle;\n",
       "    }\n",
       "\n",
       "    .dataframe tbody tr th {\n",
       "        vertical-align: top;\n",
       "    }\n",
       "\n",
       "    .dataframe thead th {\n",
       "        text-align: right;\n",
       "    }\n",
       "</style>\n",
       "<table border=\"1\" class=\"dataframe\">\n",
       "  <thead>\n",
       "    <tr style=\"text-align: right;\">\n",
       "      <th></th>\n",
       "      <th>Country/Region</th>\n",
       "      <th>Cases</th>\n",
       "      <th>Deaths</th>\n",
       "      <th>PCases</th>\n",
       "      <th>PDeaths</th>\n",
       "      <th>Cases (+)</th>\n",
       "      <th>Deaths (+)</th>\n",
       "      <th>Fatality Rate</th>\n",
       "      <th>Continent</th>\n",
       "    </tr>\n",
       "  </thead>\n",
       "  <tbody>\n",
       "    <tr>\n",
       "      <th>0</th>\n",
       "      <td>US</td>\n",
       "      <td>78648651</td>\n",
       "      <td>939064</td>\n",
       "      <td>78548831</td>\n",
       "      <td>936764</td>\n",
       "      <td>99820</td>\n",
       "      <td>2300</td>\n",
       "      <td>1.2</td>\n",
       "      <td>North America</td>\n",
       "    </tr>\n",
       "    <tr>\n",
       "      <th>1</th>\n",
       "      <td>India</td>\n",
       "      <td>42867031</td>\n",
       "      <td>512622</td>\n",
       "      <td>42851929</td>\n",
       "      <td>512344</td>\n",
       "      <td>15102</td>\n",
       "      <td>278</td>\n",
       "      <td>1.2</td>\n",
       "      <td>Asia</td>\n",
       "    </tr>\n",
       "    <tr>\n",
       "      <th>2</th>\n",
       "      <td>Brazil</td>\n",
       "      <td>28361951</td>\n",
       "      <td>645735</td>\n",
       "      <td>28258458</td>\n",
       "      <td>644918</td>\n",
       "      <td>103493</td>\n",
       "      <td>817</td>\n",
       "      <td>2.3</td>\n",
       "      <td>South America</td>\n",
       "    </tr>\n",
       "    <tr>\n",
       "      <th>3</th>\n",
       "      <td>France</td>\n",
       "      <td>22563594</td>\n",
       "      <td>138277</td>\n",
       "      <td>22466076</td>\n",
       "      <td>133663</td>\n",
       "      <td>97518</td>\n",
       "      <td>4614</td>\n",
       "      <td>0.6</td>\n",
       "      <td>Europe</td>\n",
       "    </tr>\n",
       "    <tr>\n",
       "      <th>4</th>\n",
       "      <td>United Kingdom</td>\n",
       "      <td>18826968</td>\n",
       "      <td>161384</td>\n",
       "      <td>18785333</td>\n",
       "      <td>161179</td>\n",
       "      <td>41635</td>\n",
       "      <td>205</td>\n",
       "      <td>0.9</td>\n",
       "      <td>Europe</td>\n",
       "    </tr>\n",
       "  </tbody>\n",
       "</table>\n",
       "</div>"
      ],
      "text/plain": [
       "   Country/Region     Cases  Deaths    PCases  PDeaths  Cases (+)  Deaths (+)  \\\n",
       "0              US  78648651  939064  78548831   936764      99820        2300   \n",
       "1           India  42867031  512622  42851929   512344      15102         278   \n",
       "2          Brazil  28361951  645735  28258458   644918     103493         817   \n",
       "3          France  22563594  138277  22466076   133663      97518        4614   \n",
       "4  United Kingdom  18826968  161384  18785333   161179      41635         205   \n",
       "\n",
       "   Fatality Rate      Continent  \n",
       "0            1.2  North America  \n",
       "1            1.2           Asia  \n",
       "2            2.3  South America  \n",
       "3            0.6         Europe  \n",
       "4            0.9         Europe  "
      ]
     },
     "execution_count": 15,
     "metadata": {},
     "output_type": "execute_result"
    }
   ],
   "source": [
    "#hide\n",
    "df_table = (pd.DataFrame(dict(Cases=dfc_cases, Deaths=dfc_deaths, PCases=dfp_cases, PDeaths=dfp_deaths))\n",
    "             .sort_values(by=['Cases', 'Deaths'], ascending=[False, False])\n",
    "             .reset_index())\n",
    "df_table.rename(columns={'index': 'Country/Region'}, inplace=True)\n",
    "for c in 'Cases, Deaths'.split(', '):\n",
    "    df_table[f'{c} (+)'] = (df_table[c] - df_table[f'P{c}']).clip(0)  # DATA BUG\n",
    "df_table['Fatality Rate'] = (100 * df_table['Deaths'] / df_table['Cases']).round(1)\n",
    "df_table['Continent'] = df_table['Country/Region'].map(mapping['map.continent'])\n",
    "df_table.head(5)"
   ]
  },
  {
   "cell_type": "code",
   "execution_count": 16,
   "id": "fewer-occasion",
   "metadata": {
    "execution": {
     "iopub.execute_input": "2022-02-24T00:31:08.253482Z",
     "iopub.status.busy": "2022-02-24T00:31:08.252959Z",
     "iopub.status.idle": "2022-02-24T00:31:08.254821Z",
     "shell.execute_reply": "2022-02-24T00:31:08.255232Z"
    },
    "papermill": {
     "duration": 0.039127,
     "end_time": "2022-02-24T00:31:08.255345",
     "exception": false,
     "start_time": "2022-02-24T00:31:08.216218",
     "status": "completed"
    },
    "tags": []
   },
   "outputs": [],
   "source": [
    "#hide\n",
    "#delete problematic countries from table\n",
    "df_table = df_table[~df_table['Country/Region'].isin(['Cape Verde', 'Cruise Ship', 'Kosovo'])]"
   ]
  },
  {
   "cell_type": "code",
   "execution_count": 17,
   "id": "related-center",
   "metadata": {
    "execution": {
     "iopub.execute_input": "2022-02-24T00:31:08.329874Z",
     "iopub.status.busy": "2022-02-24T00:31:08.329373Z",
     "iopub.status.idle": "2022-02-24T00:31:08.338685Z",
     "shell.execute_reply": "2022-02-24T00:31:08.338302Z"
    },
    "papermill": {
     "duration": 0.051561,
     "end_time": "2022-02-24T00:31:08.338788",
     "exception": false,
     "start_time": "2022-02-24T00:31:08.287227",
     "status": "completed"
    },
    "tags": []
   },
   "outputs": [],
   "source": [
    "#hide\n",
    "metrics = [df_table.columns[index] for index in [1,2,5,6]]\n",
    "# s_china = df_table[df_table['Country/Region'].eq('China')][metrics].sum().add_prefix('China ')\n",
    "s_us = df_table[df_table['Country/Region'].eq('US')][metrics].sum().add_prefix('US ')\n",
    "s_eu = df_table[df_table['Continent'].eq('Europe')][metrics].sum().add_prefix('EU ')\n",
    "s_ind = df_table[df_table['Country/Region'].eq('India')][metrics].sum().add_prefix('India ')\n",
    "summary = {'updated': pd.to_datetime(dt_today), 'since': pd.to_datetime(dt_yday)}\n",
    "summary = {'updated': pd.to_datetime(dt_today), 'since': pd.to_datetime(dt_yday)}\n",
    "summary = {**summary, **df_table[metrics].sum(), **s_ind, **s_us, **s_eu}"
   ]
  },
  {
   "cell_type": "code",
   "execution_count": 18,
   "id": "engaging-syndrome",
   "metadata": {
    "execution": {
     "iopub.execute_input": "2022-02-24T00:31:08.407054Z",
     "iopub.status.busy": "2022-02-24T00:31:08.406570Z",
     "iopub.status.idle": "2022-02-24T00:31:08.420940Z",
     "shell.execute_reply": "2022-02-24T00:31:08.421340Z"
    },
    "papermill": {
     "duration": 0.050712,
     "end_time": "2022-02-24T00:31:08.421459",
     "exception": false,
     "start_time": "2022-02-24T00:31:08.370747",
     "status": "completed"
    },
    "tags": []
   },
   "outputs": [],
   "source": [
    "#hide\n",
    "dft_ct_new_cases = dft_cases.groupby(COL_REGION)[dt_cols].sum().diff(axis=1).fillna(0).astype(int)"
   ]
  },
  {
   "cell_type": "code",
   "execution_count": 19,
   "id": "neutral-assignment",
   "metadata": {
    "execution": {
     "iopub.execute_input": "2022-02-24T00:31:08.490601Z",
     "iopub.status.busy": "2022-02-24T00:31:08.490090Z",
     "iopub.status.idle": "2022-02-24T00:31:08.491979Z",
     "shell.execute_reply": "2022-02-24T00:31:08.491510Z"
    },
    "papermill": {
     "duration": 0.038709,
     "end_time": "2022-02-24T00:31:08.492074",
     "exception": false,
     "start_time": "2022-02-24T00:31:08.453365",
     "status": "completed"
    },
    "tags": []
   },
   "outputs": [],
   "source": [
    "#hide\n",
    "everydaycases = dft_ct_new_cases.cumsum(axis=1)"
   ]
  },
  {
   "cell_type": "code",
   "execution_count": 20,
   "id": "parliamentary-calgary",
   "metadata": {
    "execution": {
     "iopub.execute_input": "2022-02-24T00:31:08.559893Z",
     "iopub.status.busy": "2022-02-24T00:31:08.559399Z",
     "iopub.status.idle": "2022-02-24T00:31:09.136673Z",
     "shell.execute_reply": "2022-02-24T00:31:09.136221Z"
    },
    "papermill": {
     "duration": 0.61267,
     "end_time": "2022-02-24T00:31:09.136790",
     "exception": false,
     "start_time": "2022-02-24T00:31:08.524120",
     "status": "completed"
    },
    "tags": []
   },
   "outputs": [],
   "source": [
    "#hide\n",
    "import pandas as pd\n",
    "import matplotlib.pyplot as plt\n",
    "import matplotlib.ticker as ticker\n",
    "import matplotlib.animation as animation\n",
    "from IPython.display import HTML"
   ]
  },
  {
   "cell_type": "code",
   "execution_count": 21,
   "id": "lasting-extraction",
   "metadata": {
    "execution": {
     "iopub.execute_input": "2022-02-24T00:31:09.205921Z",
     "iopub.status.busy": "2022-02-24T00:31:09.205431Z",
     "iopub.status.idle": "2022-02-24T00:31:09.210913Z",
     "shell.execute_reply": "2022-02-24T00:31:09.210521Z"
    },
    "papermill": {
     "duration": 0.042054,
     "end_time": "2022-02-24T00:31:09.211014",
     "exception": false,
     "start_time": "2022-02-24T00:31:09.168960",
     "status": "completed"
    },
    "tags": []
   },
   "outputs": [],
   "source": [
    "#hide\n",
    "t = everydaycases.stack()"
   ]
  },
  {
   "cell_type": "code",
   "execution_count": 22,
   "id": "premier-sleeve",
   "metadata": {
    "execution": {
     "iopub.execute_input": "2022-02-24T00:31:09.278666Z",
     "iopub.status.busy": "2022-02-24T00:31:09.278158Z",
     "iopub.status.idle": "2022-02-24T00:31:09.288387Z",
     "shell.execute_reply": "2022-02-24T00:31:09.288793Z"
    },
    "papermill": {
     "duration": 0.045929,
     "end_time": "2022-02-24T00:31:09.288917",
     "exception": false,
     "start_time": "2022-02-24T00:31:09.242988",
     "status": "completed"
    },
    "tags": []
   },
   "outputs": [],
   "source": [
    "#hide\n",
    "g = t.reset_index(['Country/Region'])"
   ]
  },
  {
   "cell_type": "code",
   "execution_count": 23,
   "id": "distributed-pittsburgh",
   "metadata": {
    "execution": {
     "iopub.execute_input": "2022-02-24T00:31:09.365516Z",
     "iopub.status.busy": "2022-02-24T00:31:09.364983Z",
     "iopub.status.idle": "2022-02-24T00:31:09.367199Z",
     "shell.execute_reply": "2022-02-24T00:31:09.366808Z"
    },
    "papermill": {
     "duration": 0.037245,
     "end_time": "2022-02-24T00:31:09.367301",
     "exception": false,
     "start_time": "2022-02-24T00:31:09.330056",
     "status": "completed"
    },
    "tags": []
   },
   "outputs": [],
   "source": [
    "#hide\n",
    "g.index.name = 'date'"
   ]
  },
  {
   "cell_type": "code",
   "execution_count": 24,
   "id": "naked-donor",
   "metadata": {
    "execution": {
     "iopub.execute_input": "2022-02-24T00:31:09.434114Z",
     "iopub.status.busy": "2022-02-24T00:31:09.433609Z",
     "iopub.status.idle": "2022-02-24T00:31:09.435410Z",
     "shell.execute_reply": "2022-02-24T00:31:09.435778Z"
    },
    "papermill": {
     "duration": 0.036733,
     "end_time": "2022-02-24T00:31:09.435891",
     "exception": false,
     "start_time": "2022-02-24T00:31:09.399158",
     "status": "completed"
    },
    "tags": []
   },
   "outputs": [],
   "source": [
    "# #hide\n",
    "# g = g.reset_index(['date'])"
   ]
  },
  {
   "cell_type": "code",
   "execution_count": 25,
   "id": "incomplete-mustang",
   "metadata": {
    "execution": {
     "iopub.execute_input": "2022-02-24T00:31:09.502475Z",
     "iopub.status.busy": "2022-02-24T00:31:09.501962Z",
     "iopub.status.idle": "2022-02-24T00:31:09.504410Z",
     "shell.execute_reply": "2022-02-24T00:31:09.504029Z"
    },
    "papermill": {
     "duration": 0.036966,
     "end_time": "2022-02-24T00:31:09.504508",
     "exception": false,
     "start_time": "2022-02-24T00:31:09.467542",
     "status": "completed"
    },
    "tags": []
   },
   "outputs": [],
   "source": [
    "#hide\n",
    "# g.head()"
   ]
  },
  {
   "cell_type": "code",
   "execution_count": 26,
   "id": "specific-kruger",
   "metadata": {
    "execution": {
     "iopub.execute_input": "2022-02-24T00:31:09.571185Z",
     "iopub.status.busy": "2022-02-24T00:31:09.570669Z",
     "iopub.status.idle": "2022-02-24T00:31:09.572573Z",
     "shell.execute_reply": "2022-02-24T00:31:09.572188Z"
    },
    "papermill": {
     "duration": 0.036308,
     "end_time": "2022-02-24T00:31:09.572672",
     "exception": false,
     "start_time": "2022-02-24T00:31:09.536364",
     "status": "completed"
    },
    "tags": []
   },
   "outputs": [],
   "source": [
    "#hide\n",
    "# g.columns = ['date','country','cases']"
   ]
  },
  {
   "cell_type": "code",
   "execution_count": 27,
   "id": "tender-conversion",
   "metadata": {
    "execution": {
     "iopub.execute_input": "2022-02-24T00:31:09.639254Z",
     "iopub.status.busy": "2022-02-24T00:31:09.638746Z",
     "iopub.status.idle": "2022-02-24T00:31:09.642050Z",
     "shell.execute_reply": "2022-02-24T00:31:09.641648Z"
    },
    "papermill": {
     "duration": 0.037672,
     "end_time": "2022-02-24T00:31:09.642151",
     "exception": false,
     "start_time": "2022-02-24T00:31:09.604479",
     "status": "completed"
    },
    "tags": []
   },
   "outputs": [],
   "source": [
    "#hide\n",
    "# g['continent'] = g.country"
   ]
  },
  {
   "cell_type": "code",
   "execution_count": 28,
   "id": "substantial-wilderness",
   "metadata": {
    "execution": {
     "iopub.execute_input": "2022-02-24T00:31:09.709228Z",
     "iopub.status.busy": "2022-02-24T00:31:09.708688Z",
     "iopub.status.idle": "2022-02-24T00:31:09.711657Z",
     "shell.execute_reply": "2022-02-24T00:31:09.711256Z"
    },
    "papermill": {
     "duration": 0.037362,
     "end_time": "2022-02-24T00:31:09.711753",
     "exception": false,
     "start_time": "2022-02-24T00:31:09.674391",
     "status": "completed"
    },
    "tags": []
   },
   "outputs": [],
   "source": [
    "#hide\n",
    "# cols = list(g.columns.values)"
   ]
  },
  {
   "cell_type": "code",
   "execution_count": 29,
   "id": "solved-farming",
   "metadata": {
    "execution": {
     "iopub.execute_input": "2022-02-24T00:31:09.778161Z",
     "iopub.status.busy": "2022-02-24T00:31:09.777655Z",
     "iopub.status.idle": "2022-02-24T00:31:09.779658Z",
     "shell.execute_reply": "2022-02-24T00:31:09.779258Z"
    },
    "papermill": {
     "duration": 0.03624,
     "end_time": "2022-02-24T00:31:09.779752",
     "exception": false,
     "start_time": "2022-02-24T00:31:09.743512",
     "status": "completed"
    },
    "tags": []
   },
   "outputs": [],
   "source": [
    "#hide\n",
    "# cols.insert(0, cols.pop())"
   ]
  },
  {
   "cell_type": "code",
   "execution_count": 30,
   "id": "executed-adoption",
   "metadata": {
    "execution": {
     "iopub.execute_input": "2022-02-24T00:31:09.846637Z",
     "iopub.status.busy": "2022-02-24T00:31:09.846124Z",
     "iopub.status.idle": "2022-02-24T00:31:09.848063Z",
     "shell.execute_reply": "2022-02-24T00:31:09.847682Z"
    },
    "papermill": {
     "duration": 0.036613,
     "end_time": "2022-02-24T00:31:09.848159",
     "exception": false,
     "start_time": "2022-02-24T00:31:09.811546",
     "status": "completed"
    },
    "tags": []
   },
   "outputs": [],
   "source": [
    "#hide\n",
    "# g = g[cols]"
   ]
  },
  {
   "cell_type": "code",
   "execution_count": 31,
   "id": "subject-dublin",
   "metadata": {
    "execution": {
     "iopub.execute_input": "2022-02-24T00:31:09.915056Z",
     "iopub.status.busy": "2022-02-24T00:31:09.914530Z",
     "iopub.status.idle": "2022-02-24T00:31:09.916471Z",
     "shell.execute_reply": "2022-02-24T00:31:09.916087Z"
    },
    "papermill": {
     "duration": 0.036596,
     "end_time": "2022-02-24T00:31:09.916570",
     "exception": false,
     "start_time": "2022-02-24T00:31:09.879974",
     "status": "completed"
    },
    "tags": []
   },
   "outputs": [],
   "source": [
    "#hide\n",
    "# g['continent'] = g['continent'].map(mapping['map.continent'])"
   ]
  },
  {
   "cell_type": "code",
   "execution_count": 32,
   "id": "freelance-scout",
   "metadata": {
    "execution": {
     "iopub.execute_input": "2022-02-24T00:31:09.983665Z",
     "iopub.status.busy": "2022-02-24T00:31:09.983162Z",
     "iopub.status.idle": "2022-02-24T00:31:09.985087Z",
     "shell.execute_reply": "2022-02-24T00:31:09.984673Z"
    },
    "papermill": {
     "duration": 0.036695,
     "end_time": "2022-02-24T00:31:09.985184",
     "exception": false,
     "start_time": "2022-02-24T00:31:09.948489",
     "status": "completed"
    },
    "tags": []
   },
   "outputs": [],
   "source": [
    "#hide\n",
    "# g.head()"
   ]
  },
  {
   "cell_type": "code",
   "execution_count": 33,
   "id": "limited-engine",
   "metadata": {
    "execution": {
     "iopub.execute_input": "2022-02-24T00:31:10.051994Z",
     "iopub.status.busy": "2022-02-24T00:31:10.051496Z",
     "iopub.status.idle": "2022-02-24T00:31:10.053522Z",
     "shell.execute_reply": "2022-02-24T00:31:10.053136Z"
    },
    "papermill": {
     "duration": 0.036672,
     "end_time": "2022-02-24T00:31:10.053623",
     "exception": false,
     "start_time": "2022-02-24T00:31:10.016951",
     "status": "completed"
    },
    "tags": []
   },
   "outputs": [],
   "source": [
    "# hide\n",
    "# g['date'] = g['date'].astype('datetime64[ns]')"
   ]
  },
  {
   "cell_type": "code",
   "execution_count": 34,
   "id": "sophisticated-supervisor",
   "metadata": {
    "execution": {
     "iopub.execute_input": "2022-02-24T00:31:10.121368Z",
     "iopub.status.busy": "2022-02-24T00:31:10.120804Z",
     "iopub.status.idle": "2022-02-24T00:31:10.122731Z",
     "shell.execute_reply": "2022-02-24T00:31:10.122332Z"
    },
    "papermill": {
     "duration": 0.036896,
     "end_time": "2022-02-24T00:31:10.122827",
     "exception": false,
     "start_time": "2022-02-24T00:31:10.085931",
     "status": "completed"
    },
    "tags": []
   },
   "outputs": [],
   "source": [
    "#hide\n",
    "# g['date'] = g.date.dt.dayofyear"
   ]
  },
  {
   "cell_type": "code",
   "execution_count": 35,
   "id": "inside-dubai",
   "metadata": {
    "execution": {
     "iopub.execute_input": "2022-02-24T00:31:10.189798Z",
     "iopub.status.busy": "2022-02-24T00:31:10.189295Z",
     "iopub.status.idle": "2022-02-24T00:31:10.192667Z",
     "shell.execute_reply": "2022-02-24T00:31:10.192276Z"
    },
    "papermill": {
     "duration": 0.038134,
     "end_time": "2022-02-24T00:31:10.192767",
     "exception": false,
     "start_time": "2022-02-24T00:31:10.154633",
     "status": "completed"
    },
    "tags": []
   },
   "outputs": [],
   "source": [
    "#hide\n",
    "# g = g.rename(columns= {'continent':'group','country':'name','cases':'value'})"
   ]
  },
  {
   "cell_type": "code",
   "execution_count": 36,
   "id": "fleet-motorcycle",
   "metadata": {
    "execution": {
     "iopub.execute_input": "2022-02-24T00:31:10.260147Z",
     "iopub.status.busy": "2022-02-24T00:31:10.259642Z",
     "iopub.status.idle": "2022-02-24T00:31:10.261602Z",
     "shell.execute_reply": "2022-02-24T00:31:10.261215Z"
    },
    "papermill": {
     "duration": 0.037005,
     "end_time": "2022-02-24T00:31:10.261702",
     "exception": false,
     "start_time": "2022-02-24T00:31:10.224697",
     "status": "completed"
    },
    "tags": []
   },
   "outputs": [],
   "source": [
    "#hide\n",
    "# cols = ['name','group','day','value']"
   ]
  },
  {
   "cell_type": "code",
   "execution_count": 37,
   "id": "continued-sleeping",
   "metadata": {
    "execution": {
     "iopub.execute_input": "2022-02-24T00:31:10.328666Z",
     "iopub.status.busy": "2022-02-24T00:31:10.328157Z",
     "iopub.status.idle": "2022-02-24T00:31:10.330088Z",
     "shell.execute_reply": "2022-02-24T00:31:10.329692Z"
    },
    "papermill": {
     "duration": 0.036452,
     "end_time": "2022-02-24T00:31:10.330182",
     "exception": false,
     "start_time": "2022-02-24T00:31:10.293730",
     "status": "completed"
    },
    "tags": []
   },
   "outputs": [],
   "source": [
    "#hide\n",
    "# g.rename(columns= {'date':'day'},inplace = True)"
   ]
  },
  {
   "cell_type": "code",
   "execution_count": 38,
   "id": "major-fight",
   "metadata": {
    "execution": {
     "iopub.execute_input": "2022-02-24T00:31:10.397125Z",
     "iopub.status.busy": "2022-02-24T00:31:10.396593Z",
     "iopub.status.idle": "2022-02-24T00:31:10.399657Z",
     "shell.execute_reply": "2022-02-24T00:31:10.399273Z"
    },
    "papermill": {
     "duration": 0.037676,
     "end_time": "2022-02-24T00:31:10.399755",
     "exception": false,
     "start_time": "2022-02-24T00:31:10.362079",
     "status": "completed"
    },
    "tags": []
   },
   "outputs": [],
   "source": [
    "#hide\n",
    "# g = g[cols]"
   ]
  },
  {
   "cell_type": "code",
   "execution_count": 39,
   "id": "structured-mobile",
   "metadata": {
    "execution": {
     "iopub.execute_input": "2022-02-24T00:31:10.466728Z",
     "iopub.status.busy": "2022-02-24T00:31:10.466209Z",
     "iopub.status.idle": "2022-02-24T00:31:10.468146Z",
     "shell.execute_reply": "2022-02-24T00:31:10.467744Z"
    },
    "papermill": {
     "duration": 0.036738,
     "end_time": "2022-02-24T00:31:10.468240",
     "exception": false,
     "start_time": "2022-02-24T00:31:10.431502",
     "status": "completed"
    },
    "tags": []
   },
   "outputs": [],
   "source": [
    "# #hide\n",
    "# g = g[g.group.notna()]"
   ]
  },
  {
   "cell_type": "code",
   "execution_count": 40,
   "id": "determined-closing",
   "metadata": {
    "execution": {
     "iopub.execute_input": "2022-02-24T00:31:10.535352Z",
     "iopub.status.busy": "2022-02-24T00:31:10.534819Z",
     "iopub.status.idle": "2022-02-24T00:31:10.537828Z",
     "shell.execute_reply": "2022-02-24T00:31:10.538200Z"
    },
    "papermill": {
     "duration": 0.038107,
     "end_time": "2022-02-24T00:31:10.538317",
     "exception": false,
     "start_time": "2022-02-24T00:31:10.500210",
     "status": "completed"
    },
    "tags": []
   },
   "outputs": [],
   "source": [
    "# #hide\n",
    "# colors = dict(zip(\n",
    "#     [\"Oceania\", \"Europe\", \"Asia\", \"South America\", \"Middle East\", \"North America\", \"Africa\"],\n",
    "#     [\"#adb0ff\", \"#ffb3ff\", \"#90d595\", \"#e48381\", \"#aafbff\", \"#f7bb5f\", \"#eafb50\"]\n",
    "# ))\n",
    "# group_lk = g.set_index('name')['group'].to_dict()"
   ]
  },
  {
   "cell_type": "code",
   "execution_count": null,
   "id": "gross-drinking",
   "metadata": {
    "papermill": {
     "duration": 0.031806,
     "end_time": "2022-02-24T00:31:10.601980",
     "exception": false,
     "start_time": "2022-02-24T00:31:10.570174",
     "status": "completed"
    },
    "tags": []
   },
   "outputs": [],
   "source": []
  },
  {
   "cell_type": "code",
   "execution_count": 41,
   "id": "subject-macintosh",
   "metadata": {
    "execution": {
     "iopub.execute_input": "2022-02-24T00:31:10.669642Z",
     "iopub.status.busy": "2022-02-24T00:31:10.669118Z",
     "iopub.status.idle": "2022-02-24T00:31:10.671326Z",
     "shell.execute_reply": "2022-02-24T00:31:10.670937Z"
    },
    "papermill": {
     "duration": 0.037555,
     "end_time": "2022-02-24T00:31:10.671427",
     "exception": false,
     "start_time": "2022-02-24T00:31:10.633872",
     "status": "completed"
    },
    "tags": []
   },
   "outputs": [],
   "source": [
    "# #hide\n",
    "# fig, ax = plt.subplots(figsize=(15, 8))\n",
    "\n",
    "# def draw_barchart(current_day):\n",
    "#     dff = g[g['day'].eq(current_day)].sort_values(by='value', ascending=True).tail(10)\n",
    "#     ax.clear()\n",
    "#     ax.barh(dff['name'], dff['value'], color=[colors[group_lk[x]] for x in dff['name']])\n",
    "#     dx = dff['value'].max() / 200\n",
    "    \n",
    "#     for i, (value, name) in enumerate(zip(dff['value'], dff['name'])):\n",
    "#         ax.text(value-dx, i,     name,           size=14, weight=600, ha='right', va='bottom')\n",
    "#         ax.text(value-dx, i-.25, group_lk[name], size=10, color='#444444', ha='right', va='baseline')\n",
    "#         ax.text(value+dx, i,     f'{value:,.0f}',  size=14, ha='left',  va='center')\n",
    "#     ax.text(1, 0.4, current_day, transform=ax.transAxes, color='#777777', size=46, ha='right', weight=800)\n",
    "#     ax.text(0, 1.06, 'Population (thousands)', transform=ax.transAxes, size=12, color='#777777')\n",
    "#     ax.xaxis.set_major_formatter(ticker.StrMethodFormatter('{x:,.0f}'))\n",
    "#     ax.xaxis.set_ticks_position('top')\n",
    "#     ax.tick_params(axis='x', colors='#777777', labelsize=12)\n",
    "#     ax.set_yticks([])\n",
    "#     ax.margins(0, 0.01)\n",
    "#     ax.grid(which='major', axis='x', linestyle='-')\n",
    "#     ax.set_axisbelow(True)\n",
    "    \n",
    "#     ax.text(0, 1.15, 'Coronavirus',\n",
    "#             transform=ax.transAxes, size=24, weight=600, ha='left', va='top')\n",
    "# #     ax.text(1, 0, 'by @pratapvardhan; credit @jburnmurdoch', transform=ax.transAxes, color='#777777', ha='right',\n",
    "# #             bbox=dict(facecolor='white', alpha=0.8, edgecolor='white'))\n",
    "#     plt.box(False)"
   ]
  },
  {
   "cell_type": "code",
   "execution_count": 42,
   "id": "sexual-wages",
   "metadata": {
    "execution": {
     "iopub.execute_input": "2022-02-24T00:31:10.738562Z",
     "iopub.status.busy": "2022-02-24T00:31:10.738052Z",
     "iopub.status.idle": "2022-02-24T00:31:10.739619Z",
     "shell.execute_reply": "2022-02-24T00:31:10.739981Z"
    },
    "papermill": {
     "duration": 0.036858,
     "end_time": "2022-02-24T00:31:10.740093",
     "exception": false,
     "start_time": "2022-02-24T00:31:10.703235",
     "status": "completed"
    },
    "tags": []
   },
   "outputs": [],
   "source": [
    "# #hide_input\n",
    "# fig, ax = plt.subplots(figsize=(15, 8))\n",
    "# animator = animation.FuncAnimation(fig, draw_barchart, frames=range(g.day.values.min(), g.day.values.max()))\n",
    "# HTML(animator.to_jshtml())\n",
    "# # or use animator.to_html5_video() or animator.save() "
   ]
  },
  {
   "cell_type": "code",
   "execution_count": null,
   "id": "australian-container",
   "metadata": {
    "papermill": {
     "duration": 0.031711,
     "end_time": "2022-02-24T00:31:10.803966",
     "exception": false,
     "start_time": "2022-02-24T00:31:10.772255",
     "status": "completed"
    },
    "tags": []
   },
   "outputs": [],
   "source": []
  },
  {
   "cell_type": "code",
   "execution_count": null,
   "id": "mediterranean-pontiac",
   "metadata": {
    "papermill": {
     "duration": 0.031543,
     "end_time": "2022-02-24T00:31:10.867239",
     "exception": false,
     "start_time": "2022-02-24T00:31:10.835696",
     "status": "completed"
    },
    "tags": []
   },
   "outputs": [],
   "source": []
  },
  {
   "cell_type": "code",
   "execution_count": null,
   "id": "aging-legislature",
   "metadata": {
    "papermill": {
     "duration": 0.031635,
     "end_time": "2022-02-24T00:31:10.930704",
     "exception": false,
     "start_time": "2022-02-24T00:31:10.899069",
     "status": "completed"
    },
    "tags": []
   },
   "outputs": [],
   "source": []
  }
 ],
 "metadata": {
  "kernelspec": {
   "display_name": "Python 3",
   "language": "python",
   "name": "python3"
  },
  "language_info": {
   "codemirror_mode": {
    "name": "ipython",
    "version": 3
   },
   "file_extension": ".py",
   "mimetype": "text/x-python",
   "name": "python",
   "nbconvert_exporter": "python",
   "pygments_lexer": "ipython3",
   "version": "3.6.15"
  },
  "papermill": {
   "duration": 5.907923,
   "end_time": "2022-02-24T00:31:11.280356",
   "environment_variables": {},
   "exception": null,
   "input_path": "2020-03-21-covid19exp.ipynb",
   "output_path": "2020-03-21-covid19exp.ipynb",
   "parameters": {},
   "start_time": "2022-02-24T00:31:05.372433",
   "version": "2.0.0"
  }
 },
 "nbformat": 4,
 "nbformat_minor": 5
}