{
 "cells": [
  {
   "cell_type": "markdown",
   "id": "muslim-click",
   "metadata": {
    "papermill": {
     "duration": 0.041481,
     "end_time": "2022-09-16T00:56:30.487876",
     "exception": false,
     "start_time": "2022-09-16T00:56:30.446395",
     "status": "completed"
    },
    "tags": []
   },
   "source": [
    "# COVID-19 Case Race\n",
    "> A race chart to see rising cases around the world\n",
    "\n",
    "- author: Hargun Oberoi\n",
    "- image: images/covid-overview.png\n",
    "- hide: false\n",
    "- badges: false"
   ]
  },
  {
   "cell_type": "code",
   "execution_count": 1,
   "id": "proof-material",
   "metadata": {
    "execution": {
     "iopub.execute_input": "2022-09-16T00:56:30.566197Z",
     "iopub.status.busy": "2022-09-16T00:56:30.565412Z",
     "iopub.status.idle": "2022-09-16T00:56:30.975093Z",
     "shell.execute_reply": "2022-09-16T00:56:30.976103Z"
    },
    "papermill": {
     "duration": 0.455637,
     "end_time": "2022-09-16T00:56:30.976305",
     "exception": false,
     "start_time": "2022-09-16T00:56:30.520668",
     "status": "completed"
    },
    "tags": []
   },
   "outputs": [],
   "source": [
    "#hide\n",
    "import numpy as np\n",
    "import pandas as pd\n",
    "from jinja2 import Template\n",
    "from IPython.display import HTML"
   ]
  },
  {
   "cell_type": "code",
   "execution_count": 2,
   "id": "developed-terminology",
   "metadata": {
    "execution": {
     "iopub.execute_input": "2022-09-16T00:56:31.051331Z",
     "iopub.status.busy": "2022-09-16T00:56:31.050480Z",
     "iopub.status.idle": "2022-09-16T00:56:31.053356Z",
     "shell.execute_reply": "2022-09-16T00:56:31.052559Z"
    },
    "papermill": {
     "duration": 0.042767,
     "end_time": "2022-09-16T00:56:31.053503",
     "exception": false,
     "start_time": "2022-09-16T00:56:31.010736",
     "status": "completed"
    },
    "tags": []
   },
   "outputs": [],
   "source": [
    "#hide\n",
    "\n",
    "# FETCH\n",
    "base_url = 'https://raw.githubusercontent.com/pratapvardhan/notebooks/master/covid19/'\n",
    "paths = {\n",
    "    'mapping': base_url + 'mapping_countries.csv',\n",
    "    'overview': base_url + 'overview.tpl'\n",
    "}"
   ]
  },
  {
   "cell_type": "code",
   "execution_count": 3,
   "id": "dynamic-saver",
   "metadata": {
    "execution": {
     "iopub.execute_input": "2022-09-16T00:56:31.131740Z",
     "iopub.status.busy": "2022-09-16T00:56:31.128753Z",
     "iopub.status.idle": "2022-09-16T00:56:31.135623Z",
     "shell.execute_reply": "2022-09-16T00:56:31.135092Z"
    },
    "papermill": {
     "duration": 0.048612,
     "end_time": "2022-09-16T00:56:31.135756",
     "exception": false,
     "start_time": "2022-09-16T00:56:31.087144",
     "status": "completed"
    },
    "tags": []
   },
   "outputs": [
    {
     "data": {
      "text/plain": [
       "'https://raw.githubusercontent.com/pratapvardhan/notebooks/master/covid19/mapping_countries.csv'"
      ]
     },
     "execution_count": 3,
     "metadata": {},
     "output_type": "execute_result"
    }
   ],
   "source": [
    "#hide\n",
    "paths['mapping']"
   ]
  },
  {
   "cell_type": "code",
   "execution_count": 4,
   "id": "urban-software",
   "metadata": {
    "execution": {
     "iopub.execute_input": "2022-09-16T00:56:31.208918Z",
     "iopub.status.busy": "2022-09-16T00:56:31.208236Z",
     "iopub.status.idle": "2022-09-16T00:56:31.211413Z",
     "shell.execute_reply": "2022-09-16T00:56:31.210749Z"
    },
    "papermill": {
     "duration": 0.042186,
     "end_time": "2022-09-16T00:56:31.211540",
     "exception": false,
     "start_time": "2022-09-16T00:56:31.169354",
     "status": "completed"
    },
    "tags": []
   },
   "outputs": [],
   "source": [
    "#hide\n",
    "def get_mappings(url):\n",
    "    df = pd.read_csv(url)\n",
    "    return {\n",
    "        'df': df,\n",
    "        'replace.country': dict(df.dropna(subset=['Name']).set_index('Country')['Name']),\n",
    "        'map.continent': dict(df.set_index('Name')['Continent'])\n",
    "    }"
   ]
  },
  {
   "cell_type": "code",
   "execution_count": 5,
   "id": "intimate-machinery",
   "metadata": {
    "execution": {
     "iopub.execute_input": "2022-09-16T00:56:31.285916Z",
     "iopub.status.busy": "2022-09-16T00:56:31.285175Z",
     "iopub.status.idle": "2022-09-16T00:56:31.317465Z",
     "shell.execute_reply": "2022-09-16T00:56:31.316908Z"
    },
    "papermill": {
     "duration": 0.07247,
     "end_time": "2022-09-16T00:56:31.317603",
     "exception": false,
     "start_time": "2022-09-16T00:56:31.245133",
     "status": "completed"
    },
    "tags": []
   },
   "outputs": [],
   "source": [
    "#hide\n",
    "mapping = get_mappings(paths['mapping'])"
   ]
  },
  {
   "cell_type": "code",
   "execution_count": 6,
   "id": "certified-tactics",
   "metadata": {
    "execution": {
     "iopub.execute_input": "2022-09-16T00:56:31.391804Z",
     "iopub.status.busy": "2022-09-16T00:56:31.391058Z",
     "iopub.status.idle": "2022-09-16T00:56:31.393946Z",
     "shell.execute_reply": "2022-09-16T00:56:31.393353Z"
    },
    "papermill": {
     "duration": 0.042492,
     "end_time": "2022-09-16T00:56:31.394081",
     "exception": false,
     "start_time": "2022-09-16T00:56:31.351589",
     "status": "completed"
    },
    "tags": []
   },
   "outputs": [],
   "source": [
    "#hide\n",
    "def get_template(path):\n",
    "    from urllib.parse import urlparse\n",
    "    if bool(urlparse(path).netloc):\n",
    "        from urllib.request import urlopen\n",
    "        return urlopen(path).read().decode('utf8')\n",
    "    return open(path).read()"
   ]
  },
  {
   "cell_type": "code",
   "execution_count": 7,
   "id": "realistic-blast",
   "metadata": {
    "execution": {
     "iopub.execute_input": "2022-09-16T00:56:31.467252Z",
     "iopub.status.busy": "2022-09-16T00:56:31.466406Z",
     "iopub.status.idle": "2022-09-16T00:56:31.468360Z",
     "shell.execute_reply": "2022-09-16T00:56:31.468903Z"
    },
    "papermill": {
     "duration": 0.042174,
     "end_time": "2022-09-16T00:56:31.469045",
     "exception": false,
     "start_time": "2022-09-16T00:56:31.426871",
     "status": "completed"
    },
    "tags": []
   },
   "outputs": [],
   "source": [
    "#hide\n",
    "def get_frame(name):\n",
    "    url = (\n",
    "        'https://raw.githubusercontent.com/CSSEGISandData/COVID-19/master/csse_covid_19_data/'\n",
    "        f'csse_covid_19_time_series/time_series_covid19_{name}_global.csv')\n",
    "    df = pd.read_csv(url)\n",
    "    # rename countries\n",
    "    df['Country/Region'] = df['Country/Region'].replace(mapping['replace.country'])\n",
    "    return df"
   ]
  },
  {
   "cell_type": "code",
   "execution_count": 8,
   "id": "affiliated-characterization",
   "metadata": {
    "execution": {
     "iopub.execute_input": "2022-09-16T00:56:31.543637Z",
     "iopub.status.busy": "2022-09-16T00:56:31.542901Z",
     "iopub.status.idle": "2022-09-16T00:56:31.545757Z",
     "shell.execute_reply": "2022-09-16T00:56:31.545199Z"
    },
    "papermill": {
     "duration": 0.043178,
     "end_time": "2022-09-16T00:56:31.545909",
     "exception": false,
     "start_time": "2022-09-16T00:56:31.502731",
     "status": "completed"
    },
    "tags": []
   },
   "outputs": [],
   "source": [
    "#hide\n",
    "def get_dates(df):\n",
    "    dt_cols = df.columns[~df.columns.isin(['Province/State', 'Country/Region', 'Lat', 'Long'])]\n",
    "    LAST_DATE_I = -1\n",
    "    # sometimes last column may be empty, then go backwards\n",
    "    for i in range(-1, -len(dt_cols), -1):\n",
    "        if not df[dt_cols[i]].fillna(0).eq(0).all():\n",
    "            LAST_DATE_I = i\n",
    "            break\n",
    "    return LAST_DATE_I, dt_cols"
   ]
  },
  {
   "cell_type": "code",
   "execution_count": 9,
   "id": "recent-optimization",
   "metadata": {
    "execution": {
     "iopub.execute_input": "2022-09-16T00:56:31.619751Z",
     "iopub.status.busy": "2022-09-16T00:56:31.618996Z",
     "iopub.status.idle": "2022-09-16T00:56:32.057958Z",
     "shell.execute_reply": "2022-09-16T00:56:32.057319Z"
    },
    "papermill": {
     "duration": 0.478498,
     "end_time": "2022-09-16T00:56:32.058110",
     "exception": false,
     "start_time": "2022-09-16T00:56:31.579612",
     "status": "completed"
    },
    "tags": []
   },
   "outputs": [],
   "source": [
    "#hide\n",
    "COL_REGION = 'Country/Region'\n",
    "# Confirmed, Recovered, Deaths\n",
    "df = get_frame('confirmed')\n",
    "# dft_: timeseries, dfc_: today country agg\n",
    "dft_cases = df\n",
    "dft_deaths = get_frame('deaths')\n",
    "dft_recovered = get_frame('recovered')\n",
    "LAST_DATE_I, dt_cols = get_dates(df)"
   ]
  },
  {
   "cell_type": "code",
   "execution_count": 10,
   "id": "absolute-copper",
   "metadata": {
    "execution": {
     "iopub.execute_input": "2022-09-16T00:56:32.135607Z",
     "iopub.status.busy": "2022-09-16T00:56:32.133820Z",
     "iopub.status.idle": "2022-09-16T00:56:32.136390Z",
     "shell.execute_reply": "2022-09-16T00:56:32.136907Z"
    },
    "papermill": {
     "duration": 0.044605,
     "end_time": "2022-09-16T00:56:32.137057",
     "exception": false,
     "start_time": "2022-09-16T00:56:32.092452",
     "status": "completed"
    },
    "tags": []
   },
   "outputs": [],
   "source": [
    "#hide\n",
    "LAST_DATE_I, dt_cols = get_dates(df)\n",
    "dt_today =dt_cols[LAST_DATE_I]\n",
    "# dt_5day = dt_cols[LAST_DATE_I - 5]\n",
    "dt_yday = dt_cols[LAST_DATE_I - 1]"
   ]
  },
  {
   "cell_type": "code",
   "execution_count": 11,
   "id": "restricted-sheriff",
   "metadata": {
    "execution": {
     "iopub.execute_input": "2022-09-16T00:56:32.211615Z",
     "iopub.status.busy": "2022-09-16T00:56:32.210735Z",
     "iopub.status.idle": "2022-09-16T00:56:32.219652Z",
     "shell.execute_reply": "2022-09-16T00:56:32.218960Z"
    },
    "papermill": {
     "duration": 0.049262,
     "end_time": "2022-09-16T00:56:32.219781",
     "exception": false,
     "start_time": "2022-09-16T00:56:32.170519",
     "status": "completed"
    },
    "tags": []
   },
   "outputs": [],
   "source": [
    "#hide\n",
    "dfc_cases = dft_cases.groupby(COL_REGION)[dt_today].sum()\n",
    "dfc_deaths = dft_deaths.groupby(COL_REGION)[dt_today].sum()\n",
    "# dfp_cases = dft_cases.groupby(COL_REGION)[dt_5day].sum()\n",
    "# dfp_deaths = dft_deaths.groupby(COL_REGION)[dt_5day].sum()\n",
    "dfp_cases = dft_cases.groupby(COL_REGION)[dt_yday].sum()\n",
    "dfp_deaths = dft_deaths.groupby(COL_REGION)[dt_yday].sum()"
   ]
  },
  {
   "cell_type": "code",
   "execution_count": 12,
   "id": "deluxe-hepatitis",
   "metadata": {
    "execution": {
     "iopub.execute_input": "2022-09-16T00:56:32.295349Z",
     "iopub.status.busy": "2022-09-16T00:56:32.294644Z",
     "iopub.status.idle": "2022-09-16T00:56:32.300057Z",
     "shell.execute_reply": "2022-09-16T00:56:32.299497Z"
    },
    "papermill": {
     "duration": 0.047266,
     "end_time": "2022-09-16T00:56:32.300187",
     "exception": false,
     "start_time": "2022-09-16T00:56:32.252921",
     "status": "completed"
    },
    "tags": []
   },
   "outputs": [],
   "source": [
    "#hide\n",
    "df_table = (pd.DataFrame(dict(Cases = dfc_cases, Deaths = dfc_deaths, PCases = dfp_cases, PDeaths = dfp_deaths))\n",
    "            .sort_values(by = ['Cases','Deaths'], ascending = [False, False])\n",
    "            .reset_index())"
   ]
  },
  {
   "cell_type": "code",
   "execution_count": 13,
   "id": "educational-chancellor",
   "metadata": {
    "execution": {
     "iopub.execute_input": "2022-09-16T00:56:32.388989Z",
     "iopub.status.busy": "2022-09-16T00:56:32.388240Z",
     "iopub.status.idle": "2022-09-16T00:56:32.396666Z",
     "shell.execute_reply": "2022-09-16T00:56:32.397306Z"
    },
    "papermill": {
     "duration": 0.063597,
     "end_time": "2022-09-16T00:56:32.397462",
     "exception": false,
     "start_time": "2022-09-16T00:56:32.333865",
     "status": "completed"
    },
    "tags": []
   },
   "outputs": [
    {
     "data": {
      "text/html": [
       "<div>\n",
       "<style scoped>\n",
       "    .dataframe tbody tr th:only-of-type {\n",
       "        vertical-align: middle;\n",
       "    }\n",
       "\n",
       "    .dataframe tbody tr th {\n",
       "        vertical-align: top;\n",
       "    }\n",
       "\n",
       "    .dataframe thead th {\n",
       "        text-align: right;\n",
       "    }\n",
       "</style>\n",
       "<table border=\"1\" class=\"dataframe\">\n",
       "  <thead>\n",
       "    <tr style=\"text-align: right;\">\n",
       "      <th></th>\n",
       "      <th>Country/Region</th>\n",
       "      <th>Cases</th>\n",
       "      <th>Deaths</th>\n",
       "      <th>PCases</th>\n",
       "      <th>PDeaths</th>\n",
       "      <th>Cases (+)</th>\n",
       "      <th>Deaths (+)</th>\n",
       "      <th>Fatality Rate</th>\n",
       "      <th>Continent</th>\n",
       "    </tr>\n",
       "  </thead>\n",
       "  <tbody>\n",
       "    <tr>\n",
       "      <th>0</th>\n",
       "      <td>US</td>\n",
       "      <td>95455948</td>\n",
       "      <td>1052313</td>\n",
       "      <td>95352557</td>\n",
       "      <td>1051376</td>\n",
       "      <td>103391</td>\n",
       "      <td>937</td>\n",
       "      <td>1.10</td>\n",
       "      <td>North America</td>\n",
       "    </tr>\n",
       "    <tr>\n",
       "      <th>1</th>\n",
       "      <td>India</td>\n",
       "      <td>44516479</td>\n",
       "      <td>528250</td>\n",
       "      <td>44510057</td>\n",
       "      <td>528216</td>\n",
       "      <td>6422</td>\n",
       "      <td>34</td>\n",
       "      <td>1.19</td>\n",
       "      <td>Asia</td>\n",
       "    </tr>\n",
       "    <tr>\n",
       "      <th>2</th>\n",
       "      <td>France</td>\n",
       "      <td>35015024</td>\n",
       "      <td>155651</td>\n",
       "      <td>34985401</td>\n",
       "      <td>155633</td>\n",
       "      <td>29623</td>\n",
       "      <td>18</td>\n",
       "      <td>0.44</td>\n",
       "      <td>Europe</td>\n",
       "    </tr>\n",
       "    <tr>\n",
       "      <th>3</th>\n",
       "      <td>Brazil</td>\n",
       "      <td>34558902</td>\n",
       "      <td>685121</td>\n",
       "      <td>34544377</td>\n",
       "      <td>685002</td>\n",
       "      <td>14525</td>\n",
       "      <td>119</td>\n",
       "      <td>1.98</td>\n",
       "      <td>South America</td>\n",
       "    </tr>\n",
       "    <tr>\n",
       "      <th>4</th>\n",
       "      <td>Germany</td>\n",
       "      <td>32604993</td>\n",
       "      <td>148728</td>\n",
       "      <td>32558479</td>\n",
       "      <td>148498</td>\n",
       "      <td>46514</td>\n",
       "      <td>230</td>\n",
       "      <td>0.46</td>\n",
       "      <td>Europe</td>\n",
       "    </tr>\n",
       "  </tbody>\n",
       "</table>\n",
       "</div>"
      ],
      "text/plain": [
       "  Country/Region     Cases   Deaths    PCases  PDeaths  Cases (+)  Deaths (+)  \\\n",
       "0             US  95455948  1052313  95352557  1051376     103391         937   \n",
       "1          India  44516479   528250  44510057   528216       6422          34   \n",
       "2         France  35015024   155651  34985401   155633      29623          18   \n",
       "3         Brazil  34558902   685121  34544377   685002      14525         119   \n",
       "4        Germany  32604993   148728  32558479   148498      46514         230   \n",
       "\n",
       "   Fatality Rate      Continent  \n",
       "0           1.10  North America  \n",
       "1           1.19           Asia  \n",
       "2           0.44         Europe  \n",
       "3           1.98  South America  \n",
       "4           0.46         Europe  "
      ]
     },
     "execution_count": 13,
     "metadata": {},
     "output_type": "execute_result"
    }
   ],
   "source": [
    "#hide\n",
    "for c in 'Cases, Deaths'.split(', '):\n",
    "    df_table[f'{c} (+)'] = (df_table[c] - df_table[f'P{c}']).clip(0)\n",
    "    #Clip ça veut dire, les chiffres negatif sont interdit\n",
    "df_table['Fatality Rate'] = (100* df_table['Deaths']/ df_table['Cases']).round(2)\n",
    "df_table['Continent'] = df_table['Country/Region'].map(mapping['map.continent'])\n",
    "df_table.head(5)"
   ]
  },
  {
   "cell_type": "code",
   "execution_count": 14,
   "id": "aboriginal-bulgaria",
   "metadata": {
    "execution": {
     "iopub.execute_input": "2022-09-16T00:56:32.473969Z",
     "iopub.status.busy": "2022-09-16T00:56:32.473215Z",
     "iopub.status.idle": "2022-09-16T00:56:32.476089Z",
     "shell.execute_reply": "2022-09-16T00:56:32.475495Z"
    },
    "papermill": {
     "duration": 0.044138,
     "end_time": "2022-09-16T00:56:32.476216",
     "exception": false,
     "start_time": "2022-09-16T00:56:32.432078",
     "status": "completed"
    },
    "tags": []
   },
   "outputs": [],
   "source": [
    "#hide\n",
    "#delete problematic countries from table\n",
    "df_table = df_table[~df_table['Country/Region'].isin(['Cape Verde', 'Cruise Ship', 'Kosovo'])]"
   ]
  },
  {
   "cell_type": "code",
   "execution_count": 15,
   "id": "fantastic-effect",
   "metadata": {
    "execution": {
     "iopub.execute_input": "2022-09-16T00:56:32.554617Z",
     "iopub.status.busy": "2022-09-16T00:56:32.553710Z",
     "iopub.status.idle": "2022-09-16T00:56:32.574606Z",
     "shell.execute_reply": "2022-09-16T00:56:32.574022Z"
    },
    "papermill": {
     "duration": 0.063933,
     "end_time": "2022-09-16T00:56:32.574740",
     "exception": false,
     "start_time": "2022-09-16T00:56:32.510807",
     "status": "completed"
    },
    "tags": []
   },
   "outputs": [
    {
     "data": {
      "text/html": [
       "<div>\n",
       "<style scoped>\n",
       "    .dataframe tbody tr th:only-of-type {\n",
       "        vertical-align: middle;\n",
       "    }\n",
       "\n",
       "    .dataframe tbody tr th {\n",
       "        vertical-align: top;\n",
       "    }\n",
       "\n",
       "    .dataframe thead th {\n",
       "        text-align: right;\n",
       "    }\n",
       "</style>\n",
       "<table border=\"1\" class=\"dataframe\">\n",
       "  <thead>\n",
       "    <tr style=\"text-align: right;\">\n",
       "      <th></th>\n",
       "      <th>Country/Region</th>\n",
       "      <th>Cases</th>\n",
       "      <th>Deaths</th>\n",
       "      <th>PCases</th>\n",
       "      <th>PDeaths</th>\n",
       "      <th>Cases (+)</th>\n",
       "      <th>Deaths (+)</th>\n",
       "      <th>Fatality Rate</th>\n",
       "      <th>Continent</th>\n",
       "    </tr>\n",
       "  </thead>\n",
       "  <tbody>\n",
       "    <tr>\n",
       "      <th>0</th>\n",
       "      <td>US</td>\n",
       "      <td>95455948</td>\n",
       "      <td>1052313</td>\n",
       "      <td>95352557</td>\n",
       "      <td>1051376</td>\n",
       "      <td>103391</td>\n",
       "      <td>937</td>\n",
       "      <td>1.1</td>\n",
       "      <td>North America</td>\n",
       "    </tr>\n",
       "    <tr>\n",
       "      <th>1</th>\n",
       "      <td>India</td>\n",
       "      <td>44516479</td>\n",
       "      <td>528250</td>\n",
       "      <td>44510057</td>\n",
       "      <td>528216</td>\n",
       "      <td>6422</td>\n",
       "      <td>34</td>\n",
       "      <td>1.2</td>\n",
       "      <td>Asia</td>\n",
       "    </tr>\n",
       "    <tr>\n",
       "      <th>2</th>\n",
       "      <td>France</td>\n",
       "      <td>35015024</td>\n",
       "      <td>155651</td>\n",
       "      <td>34985401</td>\n",
       "      <td>155633</td>\n",
       "      <td>29623</td>\n",
       "      <td>18</td>\n",
       "      <td>0.4</td>\n",
       "      <td>Europe</td>\n",
       "    </tr>\n",
       "    <tr>\n",
       "      <th>3</th>\n",
       "      <td>Brazil</td>\n",
       "      <td>34558902</td>\n",
       "      <td>685121</td>\n",
       "      <td>34544377</td>\n",
       "      <td>685002</td>\n",
       "      <td>14525</td>\n",
       "      <td>119</td>\n",
       "      <td>2.0</td>\n",
       "      <td>South America</td>\n",
       "    </tr>\n",
       "    <tr>\n",
       "      <th>4</th>\n",
       "      <td>Germany</td>\n",
       "      <td>32604993</td>\n",
       "      <td>148728</td>\n",
       "      <td>32558479</td>\n",
       "      <td>148498</td>\n",
       "      <td>46514</td>\n",
       "      <td>230</td>\n",
       "      <td>0.5</td>\n",
       "      <td>Europe</td>\n",
       "    </tr>\n",
       "  </tbody>\n",
       "</table>\n",
       "</div>"
      ],
      "text/plain": [
       "  Country/Region     Cases   Deaths    PCases  PDeaths  Cases (+)  Deaths (+)  \\\n",
       "0             US  95455948  1052313  95352557  1051376     103391         937   \n",
       "1          India  44516479   528250  44510057   528216       6422          34   \n",
       "2         France  35015024   155651  34985401   155633      29623          18   \n",
       "3         Brazil  34558902   685121  34544377   685002      14525         119   \n",
       "4        Germany  32604993   148728  32558479   148498      46514         230   \n",
       "\n",
       "   Fatality Rate      Continent  \n",
       "0            1.1  North America  \n",
       "1            1.2           Asia  \n",
       "2            0.4         Europe  \n",
       "3            2.0  South America  \n",
       "4            0.5         Europe  "
      ]
     },
     "execution_count": 15,
     "metadata": {},
     "output_type": "execute_result"
    }
   ],
   "source": [
    "#hide\n",
    "df_table = (pd.DataFrame(dict(Cases=dfc_cases, Deaths=dfc_deaths, PCases=dfp_cases, PDeaths=dfp_deaths))\n",
    "             .sort_values(by=['Cases', 'Deaths'], ascending=[False, False])\n",
    "             .reset_index())\n",
    "df_table.rename(columns={'index': 'Country/Region'}, inplace=True)\n",
    "for c in 'Cases, Deaths'.split(', '):\n",
    "    df_table[f'{c} (+)'] = (df_table[c] - df_table[f'P{c}']).clip(0)  # DATA BUG\n",
    "df_table['Fatality Rate'] = (100 * df_table['Deaths'] / df_table['Cases']).round(1)\n",
    "df_table['Continent'] = df_table['Country/Region'].map(mapping['map.continent'])\n",
    "df_table.head(5)"
   ]
  },
  {
   "cell_type": "code",
   "execution_count": 16,
   "id": "fewer-occasion",
   "metadata": {
    "execution": {
     "iopub.execute_input": "2022-09-16T00:56:32.651544Z",
     "iopub.status.busy": "2022-09-16T00:56:32.650832Z",
     "iopub.status.idle": "2022-09-16T00:56:32.653592Z",
     "shell.execute_reply": "2022-09-16T00:56:32.653098Z"
    },
    "papermill": {
     "duration": 0.043979,
     "end_time": "2022-09-16T00:56:32.653715",
     "exception": false,
     "start_time": "2022-09-16T00:56:32.609736",
     "status": "completed"
    },
    "tags": []
   },
   "outputs": [],
   "source": [
    "#hide\n",
    "#delete problematic countries from table\n",
    "df_table = df_table[~df_table['Country/Region'].isin(['Cape Verde', 'Cruise Ship', 'Kosovo'])]"
   ]
  },
  {
   "cell_type": "code",
   "execution_count": 17,
   "id": "related-center",
   "metadata": {
    "execution": {
     "iopub.execute_input": "2022-09-16T00:56:32.731434Z",
     "iopub.status.busy": "2022-09-16T00:56:32.730727Z",
     "iopub.status.idle": "2022-09-16T00:56:32.746429Z",
     "shell.execute_reply": "2022-09-16T00:56:32.745693Z"
    },
    "papermill": {
     "duration": 0.058062,
     "end_time": "2022-09-16T00:56:32.746562",
     "exception": false,
     "start_time": "2022-09-16T00:56:32.688500",
     "status": "completed"
    },
    "tags": []
   },
   "outputs": [],
   "source": [
    "#hide\n",
    "metrics = [df_table.columns[index] for index in [1,2,5,6]]\n",
    "# s_china = df_table[df_table['Country/Region'].eq('China')][metrics].sum().add_prefix('China ')\n",
    "s_us = df_table[df_table['Country/Region'].eq('US')][metrics].sum().add_prefix('US ')\n",
    "s_eu = df_table[df_table['Continent'].eq('Europe')][metrics].sum().add_prefix('EU ')\n",
    "s_ind = df_table[df_table['Country/Region'].eq('India')][metrics].sum().add_prefix('India ')\n",
    "summary = {'updated': pd.to_datetime(dt_today), 'since': pd.to_datetime(dt_yday)}\n",
    "summary = {'updated': pd.to_datetime(dt_today), 'since': pd.to_datetime(dt_yday)}\n",
    "summary = {**summary, **df_table[metrics].sum(), **s_ind, **s_us, **s_eu}"
   ]
  },
  {
   "cell_type": "code",
   "execution_count": 18,
   "id": "engaging-syndrome",
   "metadata": {
    "execution": {
     "iopub.execute_input": "2022-09-16T00:56:32.823179Z",
     "iopub.status.busy": "2022-09-16T00:56:32.822439Z",
     "iopub.status.idle": "2022-09-16T00:56:32.846947Z",
     "shell.execute_reply": "2022-09-16T00:56:32.846240Z"
    },
    "papermill": {
     "duration": 0.066233,
     "end_time": "2022-09-16T00:56:32.847098",
     "exception": false,
     "start_time": "2022-09-16T00:56:32.780865",
     "status": "completed"
    },
    "tags": []
   },
   "outputs": [],
   "source": [
    "#hide\n",
    "dft_ct_new_cases = dft_cases.groupby(COL_REGION)[dt_cols].sum().diff(axis=1).fillna(0).astype(int)"
   ]
  },
  {
   "cell_type": "code",
   "execution_count": 19,
   "id": "neutral-assignment",
   "metadata": {
    "execution": {
     "iopub.execute_input": "2022-09-16T00:56:32.924593Z",
     "iopub.status.busy": "2022-09-16T00:56:32.923876Z",
     "iopub.status.idle": "2022-09-16T00:56:32.926559Z",
     "shell.execute_reply": "2022-09-16T00:56:32.925857Z"
    },
    "papermill": {
     "duration": 0.044431,
     "end_time": "2022-09-16T00:56:32.926689",
     "exception": false,
     "start_time": "2022-09-16T00:56:32.882258",
     "status": "completed"
    },
    "tags": []
   },
   "outputs": [],
   "source": [
    "#hide\n",
    "everydaycases = dft_ct_new_cases.cumsum(axis=1)"
   ]
  },
  {
   "cell_type": "code",
   "execution_count": 20,
   "id": "parliamentary-calgary",
   "metadata": {
    "execution": {
     "iopub.execute_input": "2022-09-16T00:56:33.002486Z",
     "iopub.status.busy": "2022-09-16T00:56:33.001754Z",
     "iopub.status.idle": "2022-09-16T00:56:33.642197Z",
     "shell.execute_reply": "2022-09-16T00:56:33.641572Z"
    },
    "papermill": {
     "duration": 0.680631,
     "end_time": "2022-09-16T00:56:33.642335",
     "exception": false,
     "start_time": "2022-09-16T00:56:32.961704",
     "status": "completed"
    },
    "tags": []
   },
   "outputs": [],
   "source": [
    "#hide\n",
    "import pandas as pd\n",
    "import matplotlib.pyplot as plt\n",
    "import matplotlib.ticker as ticker\n",
    "import matplotlib.animation as animation\n",
    "from IPython.display import HTML"
   ]
  },
  {
   "cell_type": "code",
   "execution_count": 21,
   "id": "lasting-extraction",
   "metadata": {
    "execution": {
     "iopub.execute_input": "2022-09-16T00:56:33.720887Z",
     "iopub.status.busy": "2022-09-16T00:56:33.720175Z",
     "iopub.status.idle": "2022-09-16T00:56:33.729196Z",
     "shell.execute_reply": "2022-09-16T00:56:33.728488Z"
    },
    "papermill": {
     "duration": 0.051981,
     "end_time": "2022-09-16T00:56:33.729333",
     "exception": false,
     "start_time": "2022-09-16T00:56:33.677352",
     "status": "completed"
    },
    "tags": []
   },
   "outputs": [],
   "source": [
    "#hide\n",
    "t = everydaycases.stack()"
   ]
  },
  {
   "cell_type": "code",
   "execution_count": 22,
   "id": "premier-sleeve",
   "metadata": {
    "execution": {
     "iopub.execute_input": "2022-09-16T00:56:33.805089Z",
     "iopub.status.busy": "2022-09-16T00:56:33.804376Z",
     "iopub.status.idle": "2022-09-16T00:56:33.818278Z",
     "shell.execute_reply": "2022-09-16T00:56:33.818840Z"
    },
    "papermill": {
     "duration": 0.054523,
     "end_time": "2022-09-16T00:56:33.818997",
     "exception": false,
     "start_time": "2022-09-16T00:56:33.764474",
     "status": "completed"
    },
    "tags": []
   },
   "outputs": [],
   "source": [
    "#hide\n",
    "g = t.reset_index(['Country/Region'])"
   ]
  },
  {
   "cell_type": "code",
   "execution_count": 23,
   "id": "distributed-pittsburgh",
   "metadata": {
    "execution": {
     "iopub.execute_input": "2022-09-16T00:56:33.893881Z",
     "iopub.status.busy": "2022-09-16T00:56:33.893182Z",
     "iopub.status.idle": "2022-09-16T00:56:33.896068Z",
     "shell.execute_reply": "2022-09-16T00:56:33.896702Z"
    },
    "papermill": {
     "duration": 0.043041,
     "end_time": "2022-09-16T00:56:33.896849",
     "exception": false,
     "start_time": "2022-09-16T00:56:33.853808",
     "status": "completed"
    },
    "tags": []
   },
   "outputs": [],
   "source": [
    "#hide\n",
    "g.index.name = 'date'"
   ]
  },
  {
   "cell_type": "code",
   "execution_count": 24,
   "id": "naked-donor",
   "metadata": {
    "execution": {
     "iopub.execute_input": "2022-09-16T00:56:33.971763Z",
     "iopub.status.busy": "2022-09-16T00:56:33.970908Z",
     "iopub.status.idle": "2022-09-16T00:56:33.972738Z",
     "shell.execute_reply": "2022-09-16T00:56:33.973496Z"
    },
    "papermill": {
     "duration": 0.041924,
     "end_time": "2022-09-16T00:56:33.973670",
     "exception": false,
     "start_time": "2022-09-16T00:56:33.931746",
     "status": "completed"
    },
    "tags": []
   },
   "outputs": [],
   "source": [
    "# #hide\n",
    "# g = g.reset_index(['date'])"
   ]
  },
  {
   "cell_type": "code",
   "execution_count": 25,
   "id": "incomplete-mustang",
   "metadata": {
    "execution": {
     "iopub.execute_input": "2022-09-16T00:56:34.049398Z",
     "iopub.status.busy": "2022-09-16T00:56:34.048578Z",
     "iopub.status.idle": "2022-09-16T00:56:34.052882Z",
     "shell.execute_reply": "2022-09-16T00:56:34.053393Z"
    },
    "papermill": {
     "duration": 0.044336,
     "end_time": "2022-09-16T00:56:34.053550",
     "exception": false,
     "start_time": "2022-09-16T00:56:34.009214",
     "status": "completed"
    },
    "tags": []
   },
   "outputs": [],
   "source": [
    "#hide\n",
    "# g.head()"
   ]
  },
  {
   "cell_type": "code",
   "execution_count": 26,
   "id": "specific-kruger",
   "metadata": {
    "execution": {
     "iopub.execute_input": "2022-09-16T00:56:34.128604Z",
     "iopub.status.busy": "2022-09-16T00:56:34.127852Z",
     "iopub.status.idle": "2022-09-16T00:56:34.130139Z",
     "shell.execute_reply": "2022-09-16T00:56:34.130654Z"
    },
    "papermill": {
     "duration": 0.0421,
     "end_time": "2022-09-16T00:56:34.130813",
     "exception": false,
     "start_time": "2022-09-16T00:56:34.088713",
     "status": "completed"
    },
    "tags": []
   },
   "outputs": [],
   "source": [
    "#hide\n",
    "# g.columns = ['date','country','cases']"
   ]
  },
  {
   "cell_type": "code",
   "execution_count": 27,
   "id": "tender-conversion",
   "metadata": {
    "execution": {
     "iopub.execute_input": "2022-09-16T00:56:34.205623Z",
     "iopub.status.busy": "2022-09-16T00:56:34.204793Z",
     "iopub.status.idle": "2022-09-16T00:56:34.206671Z",
     "shell.execute_reply": "2022-09-16T00:56:34.207453Z"
    },
    "papermill": {
     "duration": 0.041876,
     "end_time": "2022-09-16T00:56:34.207626",
     "exception": false,
     "start_time": "2022-09-16T00:56:34.165750",
     "status": "completed"
    },
    "tags": []
   },
   "outputs": [],
   "source": [
    "#hide\n",
    "# g['continent'] = g.country"
   ]
  },
  {
   "cell_type": "code",
   "execution_count": 28,
   "id": "substantial-wilderness",
   "metadata": {
    "execution": {
     "iopub.execute_input": "2022-09-16T00:56:34.283077Z",
     "iopub.status.busy": "2022-09-16T00:56:34.282323Z",
     "iopub.status.idle": "2022-09-16T00:56:34.285095Z",
     "shell.execute_reply": "2022-09-16T00:56:34.284431Z"
    },
    "papermill": {
     "duration": 0.041896,
     "end_time": "2022-09-16T00:56:34.285225",
     "exception": false,
     "start_time": "2022-09-16T00:56:34.243329",
     "status": "completed"
    },
    "tags": []
   },
   "outputs": [],
   "source": [
    "#hide\n",
    "# cols = list(g.columns.values)"
   ]
  },
  {
   "cell_type": "code",
   "execution_count": 29,
   "id": "solved-farming",
   "metadata": {
    "execution": {
     "iopub.execute_input": "2022-09-16T00:56:34.360073Z",
     "iopub.status.busy": "2022-09-16T00:56:34.359239Z",
     "iopub.status.idle": "2022-09-16T00:56:34.363466Z",
     "shell.execute_reply": "2022-09-16T00:56:34.364002Z"
    },
    "papermill": {
     "duration": 0.043956,
     "end_time": "2022-09-16T00:56:34.364152",
     "exception": false,
     "start_time": "2022-09-16T00:56:34.320196",
     "status": "completed"
    },
    "tags": []
   },
   "outputs": [],
   "source": [
    "#hide\n",
    "# cols.insert(0, cols.pop())"
   ]
  },
  {
   "cell_type": "code",
   "execution_count": 30,
   "id": "executed-adoption",
   "metadata": {
    "execution": {
     "iopub.execute_input": "2022-09-16T00:56:34.437457Z",
     "iopub.status.busy": "2022-09-16T00:56:34.436763Z",
     "iopub.status.idle": "2022-09-16T00:56:34.439234Z",
     "shell.execute_reply": "2022-09-16T00:56:34.439791Z"
    },
    "papermill": {
     "duration": 0.040831,
     "end_time": "2022-09-16T00:56:34.439939",
     "exception": false,
     "start_time": "2022-09-16T00:56:34.399108",
     "status": "completed"
    },
    "tags": []
   },
   "outputs": [],
   "source": [
    "#hide\n",
    "# g = g[cols]"
   ]
  },
  {
   "cell_type": "code",
   "execution_count": 31,
   "id": "subject-dublin",
   "metadata": {
    "execution": {
     "iopub.execute_input": "2022-09-16T00:56:34.513446Z",
     "iopub.status.busy": "2022-09-16T00:56:34.512756Z",
     "iopub.status.idle": "2022-09-16T00:56:34.515670Z",
     "shell.execute_reply": "2022-09-16T00:56:34.514983Z"
    },
    "papermill": {
     "duration": 0.041692,
     "end_time": "2022-09-16T00:56:34.515811",
     "exception": false,
     "start_time": "2022-09-16T00:56:34.474119",
     "status": "completed"
    },
    "tags": []
   },
   "outputs": [],
   "source": [
    "#hide\n",
    "# g['continent'] = g['continent'].map(mapping['map.continent'])"
   ]
  },
  {
   "cell_type": "code",
   "execution_count": 32,
   "id": "freelance-scout",
   "metadata": {
    "execution": {
     "iopub.execute_input": "2022-09-16T00:56:34.601114Z",
     "iopub.status.busy": "2022-09-16T00:56:34.600327Z",
     "iopub.status.idle": "2022-09-16T00:56:34.602119Z",
     "shell.execute_reply": "2022-09-16T00:56:34.602667Z"
    },
    "papermill": {
     "duration": 0.045096,
     "end_time": "2022-09-16T00:56:34.602821",
     "exception": false,
     "start_time": "2022-09-16T00:56:34.557725",
     "status": "completed"
    },
    "tags": []
   },
   "outputs": [],
   "source": [
    "#hide\n",
    "# g.head()"
   ]
  },
  {
   "cell_type": "code",
   "execution_count": 33,
   "id": "limited-engine",
   "metadata": {
    "execution": {
     "iopub.execute_input": "2022-09-16T00:56:34.677536Z",
     "iopub.status.busy": "2022-09-16T00:56:34.676852Z",
     "iopub.status.idle": "2022-09-16T00:56:34.679293Z",
     "shell.execute_reply": "2022-09-16T00:56:34.679943Z"
    },
    "papermill": {
     "duration": 0.042338,
     "end_time": "2022-09-16T00:56:34.680092",
     "exception": false,
     "start_time": "2022-09-16T00:56:34.637754",
     "status": "completed"
    },
    "tags": []
   },
   "outputs": [],
   "source": [
    "# hide\n",
    "# g['date'] = g['date'].astype('datetime64[ns]')"
   ]
  },
  {
   "cell_type": "code",
   "execution_count": 34,
   "id": "sophisticated-supervisor",
   "metadata": {
    "execution": {
     "iopub.execute_input": "2022-09-16T00:56:34.755139Z",
     "iopub.status.busy": "2022-09-16T00:56:34.754299Z",
     "iopub.status.idle": "2022-09-16T00:56:34.757968Z",
     "shell.execute_reply": "2022-09-16T00:56:34.757272Z"
    },
    "papermill": {
     "duration": 0.043022,
     "end_time": "2022-09-16T00:56:34.758122",
     "exception": false,
     "start_time": "2022-09-16T00:56:34.715100",
     "status": "completed"
    },
    "tags": []
   },
   "outputs": [],
   "source": [
    "#hide\n",
    "# g['date'] = g.date.dt.dayofyear"
   ]
  },
  {
   "cell_type": "code",
   "execution_count": 35,
   "id": "inside-dubai",
   "metadata": {
    "execution": {
     "iopub.execute_input": "2022-09-16T00:56:34.833434Z",
     "iopub.status.busy": "2022-09-16T00:56:34.832589Z",
     "iopub.status.idle": "2022-09-16T00:56:34.835323Z",
     "shell.execute_reply": "2022-09-16T00:56:34.834529Z"
    },
    "papermill": {
     "duration": 0.04227,
     "end_time": "2022-09-16T00:56:34.835471",
     "exception": false,
     "start_time": "2022-09-16T00:56:34.793201",
     "status": "completed"
    },
    "tags": []
   },
   "outputs": [],
   "source": [
    "#hide\n",
    "# g = g.rename(columns= {'continent':'group','country':'name','cases':'value'})"
   ]
  },
  {
   "cell_type": "code",
   "execution_count": 36,
   "id": "fleet-motorcycle",
   "metadata": {
    "execution": {
     "iopub.execute_input": "2022-09-16T00:56:34.910631Z",
     "iopub.status.busy": "2022-09-16T00:56:34.909864Z",
     "iopub.status.idle": "2022-09-16T00:56:34.912496Z",
     "shell.execute_reply": "2022-09-16T00:56:34.911878Z"
    },
    "papermill": {
     "duration": 0.041453,
     "end_time": "2022-09-16T00:56:34.912615",
     "exception": false,
     "start_time": "2022-09-16T00:56:34.871162",
     "status": "completed"
    },
    "tags": []
   },
   "outputs": [],
   "source": [
    "#hide\n",
    "# cols = ['name','group','day','value']"
   ]
  },
  {
   "cell_type": "code",
   "execution_count": 37,
   "id": "continued-sleeping",
   "metadata": {
    "execution": {
     "iopub.execute_input": "2022-09-16T00:56:34.996218Z",
     "iopub.status.busy": "2022-09-16T00:56:34.995365Z",
     "iopub.status.idle": "2022-09-16T00:56:34.998618Z",
     "shell.execute_reply": "2022-09-16T00:56:34.997943Z"
    },
    "papermill": {
     "duration": 0.045216,
     "end_time": "2022-09-16T00:56:34.998765",
     "exception": false,
     "start_time": "2022-09-16T00:56:34.953549",
     "status": "completed"
    },
    "tags": []
   },
   "outputs": [],
   "source": [
    "#hide\n",
    "# g.rename(columns= {'date':'day'},inplace = True)"
   ]
  },
  {
   "cell_type": "code",
   "execution_count": 38,
   "id": "major-fight",
   "metadata": {
    "execution": {
     "iopub.execute_input": "2022-09-16T00:56:35.072967Z",
     "iopub.status.busy": "2022-09-16T00:56:35.072213Z",
     "iopub.status.idle": "2022-09-16T00:56:35.075043Z",
     "shell.execute_reply": "2022-09-16T00:56:35.074480Z"
    },
    "papermill": {
     "duration": 0.041474,
     "end_time": "2022-09-16T00:56:35.075172",
     "exception": false,
     "start_time": "2022-09-16T00:56:35.033698",
     "status": "completed"
    },
    "tags": []
   },
   "outputs": [],
   "source": [
    "#hide\n",
    "# g = g[cols]"
   ]
  },
  {
   "cell_type": "code",
   "execution_count": 39,
   "id": "structured-mobile",
   "metadata": {
    "execution": {
     "iopub.execute_input": "2022-09-16T00:56:35.149586Z",
     "iopub.status.busy": "2022-09-16T00:56:35.148742Z",
     "iopub.status.idle": "2022-09-16T00:56:35.153418Z",
     "shell.execute_reply": "2022-09-16T00:56:35.153970Z"
    },
    "papermill": {
     "duration": 0.044534,
     "end_time": "2022-09-16T00:56:35.154133",
     "exception": false,
     "start_time": "2022-09-16T00:56:35.109599",
     "status": "completed"
    },
    "tags": []
   },
   "outputs": [],
   "source": [
    "# #hide\n",
    "# g = g[g.group.notna()]"
   ]
  },
  {
   "cell_type": "code",
   "execution_count": 40,
   "id": "determined-closing",
   "metadata": {
    "execution": {
     "iopub.execute_input": "2022-09-16T00:56:35.229689Z",
     "iopub.status.busy": "2022-09-16T00:56:35.228822Z",
     "iopub.status.idle": "2022-09-16T00:56:35.231355Z",
     "shell.execute_reply": "2022-09-16T00:56:35.230673Z"
    },
    "papermill": {
     "duration": 0.042278,
     "end_time": "2022-09-16T00:56:35.231501",
     "exception": false,
     "start_time": "2022-09-16T00:56:35.189223",
     "status": "completed"
    },
    "tags": []
   },
   "outputs": [],
   "source": [
    "# #hide\n",
    "# colors = dict(zip(\n",
    "#     [\"Oceania\", \"Europe\", \"Asia\", \"South America\", \"Middle East\", \"North America\", \"Africa\"],\n",
    "#     [\"#adb0ff\", \"#ffb3ff\", \"#90d595\", \"#e48381\", \"#aafbff\", \"#f7bb5f\", \"#eafb50\"]\n",
    "# ))\n",
    "# group_lk = g.set_index('name')['group'].to_dict()"
   ]
  },
  {
   "cell_type": "code",
   "execution_count": null,
   "id": "gross-drinking",
   "metadata": {
    "papermill": {
     "duration": 0.034934,
     "end_time": "2022-09-16T00:56:35.301030",
     "exception": false,
     "start_time": "2022-09-16T00:56:35.266096",
     "status": "completed"
    },
    "tags": []
   },
   "outputs": [],
   "source": []
  },
  {
   "cell_type": "code",
   "execution_count": 41,
   "id": "subject-macintosh",
   "metadata": {
    "execution": {
     "iopub.execute_input": "2022-09-16T00:56:35.375578Z",
     "iopub.status.busy": "2022-09-16T00:56:35.374710Z",
     "iopub.status.idle": "2022-09-16T00:56:35.376478Z",
     "shell.execute_reply": "2022-09-16T00:56:35.377286Z"
    },
    "papermill": {
     "duration": 0.042332,
     "end_time": "2022-09-16T00:56:35.377442",
     "exception": false,
     "start_time": "2022-09-16T00:56:35.335110",
     "status": "completed"
    },
    "tags": []
   },
   "outputs": [],
   "source": [
    "# #hide\n",
    "# fig, ax = plt.subplots(figsize=(15, 8))\n",
    "\n",
    "# def draw_barchart(current_day):\n",
    "#     dff = g[g['day'].eq(current_day)].sort_values(by='value', ascending=True).tail(10)\n",
    "#     ax.clear()\n",
    "#     ax.barh(dff['name'], dff['value'], color=[colors[group_lk[x]] for x in dff['name']])\n",
    "#     dx = dff['value'].max() / 200\n",
    "    \n",
    "#     for i, (value, name) in enumerate(zip(dff['value'], dff['name'])):\n",
    "#         ax.text(value-dx, i,     name,           size=14, weight=600, ha='right', va='bottom')\n",
    "#         ax.text(value-dx, i-.25, group_lk[name], size=10, color='#444444', ha='right', va='baseline')\n",
    "#         ax.text(value+dx, i,     f'{value:,.0f}',  size=14, ha='left',  va='center')\n",
    "#     ax.text(1, 0.4, current_day, transform=ax.transAxes, color='#777777', size=46, ha='right', weight=800)\n",
    "#     ax.text(0, 1.06, 'Population (thousands)', transform=ax.transAxes, size=12, color='#777777')\n",
    "#     ax.xaxis.set_major_formatter(ticker.StrMethodFormatter('{x:,.0f}'))\n",
    "#     ax.xaxis.set_ticks_position('top')\n",
    "#     ax.tick_params(axis='x', colors='#777777', labelsize=12)\n",
    "#     ax.set_yticks([])\n",
    "#     ax.margins(0, 0.01)\n",
    "#     ax.grid(which='major', axis='x', linestyle='-')\n",
    "#     ax.set_axisbelow(True)\n",
    "    \n",
    "#     ax.text(0, 1.15, 'Coronavirus',\n",
    "#             transform=ax.transAxes, size=24, weight=600, ha='left', va='top')\n",
    "# #     ax.text(1, 0, 'by @pratapvardhan; credit @jburnmurdoch', transform=ax.transAxes, color='#777777', ha='right',\n",
    "# #             bbox=dict(facecolor='white', alpha=0.8, edgecolor='white'))\n",
    "#     plt.box(False)"
   ]
  },
  {
   "cell_type": "code",
   "execution_count": 42,
   "id": "sexual-wages",
   "metadata": {
    "execution": {
     "iopub.execute_input": "2022-09-16T00:56:35.452150Z",
     "iopub.status.busy": "2022-09-16T00:56:35.451304Z",
     "iopub.status.idle": "2022-09-16T00:56:35.456606Z",
     "shell.execute_reply": "2022-09-16T00:56:35.455982Z"
    },
    "papermill": {
     "duration": 0.044439,
     "end_time": "2022-09-16T00:56:35.456756",
     "exception": false,
     "start_time": "2022-09-16T00:56:35.412317",
     "status": "completed"
    },
    "tags": []
   },
   "outputs": [],
   "source": [
    "# #hide_input\n",
    "# fig, ax = plt.subplots(figsize=(15, 8))\n",
    "# animator = animation.FuncAnimation(fig, draw_barchart, frames=range(g.day.values.min(), g.day.values.max()))\n",
    "# HTML(animator.to_jshtml())\n",
    "# # or use animator.to_html5_video() or animator.save() "
   ]
  },
  {
   "cell_type": "code",
   "execution_count": null,
   "id": "australian-container",
   "metadata": {
    "papermill": {
     "duration": 0.035676,
     "end_time": "2022-09-16T00:56:35.527614",
     "exception": false,
     "start_time": "2022-09-16T00:56:35.491938",
     "status": "completed"
    },
    "tags": []
   },
   "outputs": [],
   "source": []
  },
  {
   "cell_type": "code",
   "execution_count": null,
   "id": "mediterranean-pontiac",
   "metadata": {
    "papermill": {
     "duration": 0.034246,
     "end_time": "2022-09-16T00:56:35.596663",
     "exception": false,
     "start_time": "2022-09-16T00:56:35.562417",
     "status": "completed"
    },
    "tags": []
   },
   "outputs": [],
   "source": []
  },
  {
   "cell_type": "code",
   "execution_count": null,
   "id": "aging-legislature",
   "metadata": {
    "papermill": {
     "duration": 0.034751,
     "end_time": "2022-09-16T00:56:35.666174",
     "exception": false,
     "start_time": "2022-09-16T00:56:35.631423",
     "status": "completed"
    },
    "tags": []
   },
   "outputs": [],
   "source": []
  }
 ],
 "metadata": {
  "kernelspec": {
   "display_name": "Python 3",
   "language": "python",
   "name": "python3"
  },
  "language_info": {
   "codemirror_mode": {
    "name": "ipython",
    "version": 3
   },
   "file_extension": ".py",
   "mimetype": "text/x-python",
   "name": "python",
   "nbconvert_exporter": "python",
   "pygments_lexer": "ipython3",
   "version": "3.6.15"
  },
  "papermill": {
   "duration": 6.979085,
   "end_time": "2022-09-16T00:56:36.120507",
   "environment_variables": {},
   "exception": null,
   "input_path": "2020-03-21-covid19exp.ipynb",
   "output_path": "2020-03-21-covid19exp.ipynb",
   "parameters": {},
   "start_time": "2022-09-16T00:56:29.141422",
   "version": "2.0.0"
  }
 },
 "nbformat": 4,
 "nbformat_minor": 5
}