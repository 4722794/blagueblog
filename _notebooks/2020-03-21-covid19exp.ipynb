{
 "cells": [
  {
   "cell_type": "markdown",
   "id": "muslim-click",
   "metadata": {
    "papermill": {
     "duration": 0.044172,
     "end_time": "2022-05-09T12:17:35.099814",
     "exception": false,
     "start_time": "2022-05-09T12:17:35.055642",
     "status": "completed"
    },
    "tags": []
   },
   "source": [
    "# COVID-19 Case Race\n",
    "> A race chart to see rising cases around the world\n",
    "\n",
    "- author: Hargun Oberoi\n",
    "- image: images/covid-overview.png\n",
    "- hide: false\n",
    "- badges: false"
   ]
  },
  {
   "cell_type": "code",
   "execution_count": 1,
   "id": "proof-material",
   "metadata": {
    "execution": {
     "iopub.execute_input": "2022-05-09T12:17:35.190521Z",
     "iopub.status.busy": "2022-05-09T12:17:35.189814Z",
     "iopub.status.idle": "2022-05-09T12:17:35.643569Z",
     "shell.execute_reply": "2022-05-09T12:17:35.642891Z"
    },
    "papermill": {
     "duration": 0.503269,
     "end_time": "2022-05-09T12:17:35.643737",
     "exception": false,
     "start_time": "2022-05-09T12:17:35.140468",
     "status": "completed"
    },
    "tags": []
   },
   "outputs": [],
   "source": [
    "#hide\n",
    "import numpy as np\n",
    "import pandas as pd\n",
    "from jinja2 import Template\n",
    "from IPython.display import HTML"
   ]
  },
  {
   "cell_type": "code",
   "execution_count": 2,
   "id": "developed-terminology",
   "metadata": {
    "execution": {
     "iopub.execute_input": "2022-05-09T12:17:35.728316Z",
     "iopub.status.busy": "2022-05-09T12:17:35.727620Z",
     "iopub.status.idle": "2022-05-09T12:17:35.729733Z",
     "shell.execute_reply": "2022-05-09T12:17:35.730453Z"
    },
    "papermill": {
     "duration": 0.047186,
     "end_time": "2022-05-09T12:17:35.730611",
     "exception": false,
     "start_time": "2022-05-09T12:17:35.683425",
     "status": "completed"
    },
    "tags": []
   },
   "outputs": [],
   "source": [
    "#hide\n",
    "\n",
    "# FETCH\n",
    "base_url = 'https://raw.githubusercontent.com/pratapvardhan/notebooks/master/covid19/'\n",
    "paths = {\n",
    "    'mapping': base_url + 'mapping_countries.csv',\n",
    "    'overview': base_url + 'overview.tpl'\n",
    "}"
   ]
  },
  {
   "cell_type": "code",
   "execution_count": 3,
   "id": "dynamic-saver",
   "metadata": {
    "execution": {
     "iopub.execute_input": "2022-05-09T12:17:35.821088Z",
     "iopub.status.busy": "2022-05-09T12:17:35.820300Z",
     "iopub.status.idle": "2022-05-09T12:17:35.824824Z",
     "shell.execute_reply": "2022-05-09T12:17:35.824236Z"
    },
    "papermill": {
     "duration": 0.054585,
     "end_time": "2022-05-09T12:17:35.824990",
     "exception": false,
     "start_time": "2022-05-09T12:17:35.770405",
     "status": "completed"
    },
    "tags": []
   },
   "outputs": [
    {
     "data": {
      "text/plain": [
       "'https://raw.githubusercontent.com/pratapvardhan/notebooks/master/covid19/mapping_countries.csv'"
      ]
     },
     "execution_count": 3,
     "metadata": {},
     "output_type": "execute_result"
    }
   ],
   "source": [
    "#hide\n",
    "paths['mapping']"
   ]
  },
  {
   "cell_type": "code",
   "execution_count": 4,
   "id": "urban-software",
   "metadata": {
    "execution": {
     "iopub.execute_input": "2022-05-09T12:17:35.912818Z",
     "iopub.status.busy": "2022-05-09T12:17:35.911646Z",
     "iopub.status.idle": "2022-05-09T12:17:35.915679Z",
     "shell.execute_reply": "2022-05-09T12:17:35.914988Z"
    },
    "papermill": {
     "duration": 0.050859,
     "end_time": "2022-05-09T12:17:35.915919",
     "exception": false,
     "start_time": "2022-05-09T12:17:35.865060",
     "status": "completed"
    },
    "tags": []
   },
   "outputs": [],
   "source": [
    "#hide\n",
    "def get_mappings(url):\n",
    "    df = pd.read_csv(url)\n",
    "    return {\n",
    "        'df': df,\n",
    "        'replace.country': dict(df.dropna(subset=['Name']).set_index('Country')['Name']),\n",
    "        'map.continent': dict(df.set_index('Name')['Continent'])\n",
    "    }"
   ]
  },
  {
   "cell_type": "code",
   "execution_count": 5,
   "id": "intimate-machinery",
   "metadata": {
    "execution": {
     "iopub.execute_input": "2022-05-09T12:17:36.003705Z",
     "iopub.status.busy": "2022-05-09T12:17:36.002834Z",
     "iopub.status.idle": "2022-05-09T12:17:36.032717Z",
     "shell.execute_reply": "2022-05-09T12:17:36.032055Z"
    },
    "papermill": {
     "duration": 0.077174,
     "end_time": "2022-05-09T12:17:36.032876",
     "exception": false,
     "start_time": "2022-05-09T12:17:35.955702",
     "status": "completed"
    },
    "tags": []
   },
   "outputs": [],
   "source": [
    "#hide\n",
    "mapping = get_mappings(paths['mapping'])"
   ]
  },
  {
   "cell_type": "code",
   "execution_count": 6,
   "id": "certified-tactics",
   "metadata": {
    "execution": {
     "iopub.execute_input": "2022-05-09T12:17:36.124889Z",
     "iopub.status.busy": "2022-05-09T12:17:36.124036Z",
     "iopub.status.idle": "2022-05-09T12:17:36.126388Z",
     "shell.execute_reply": "2022-05-09T12:17:36.126908Z"
    },
    "papermill": {
     "duration": 0.052673,
     "end_time": "2022-05-09T12:17:36.127070",
     "exception": false,
     "start_time": "2022-05-09T12:17:36.074397",
     "status": "completed"
    },
    "tags": []
   },
   "outputs": [],
   "source": [
    "#hide\n",
    "def get_template(path):\n",
    "    from urllib.parse import urlparse\n",
    "    if bool(urlparse(path).netloc):\n",
    "        from urllib.request import urlopen\n",
    "        return urlopen(path).read().decode('utf8')\n",
    "    return open(path).read()"
   ]
  },
  {
   "cell_type": "code",
   "execution_count": 7,
   "id": "realistic-blast",
   "metadata": {
    "execution": {
     "iopub.execute_input": "2022-05-09T12:17:36.211100Z",
     "iopub.status.busy": "2022-05-09T12:17:36.210390Z",
     "iopub.status.idle": "2022-05-09T12:17:36.212467Z",
     "shell.execute_reply": "2022-05-09T12:17:36.212992Z"
    },
    "papermill": {
     "duration": 0.047108,
     "end_time": "2022-05-09T12:17:36.213168",
     "exception": false,
     "start_time": "2022-05-09T12:17:36.166060",
     "status": "completed"
    },
    "tags": []
   },
   "outputs": [],
   "source": [
    "#hide\n",
    "def get_frame(name):\n",
    "    url = (\n",
    "        'https://raw.githubusercontent.com/CSSEGISandData/COVID-19/master/csse_covid_19_data/'\n",
    "        f'csse_covid_19_time_series/time_series_covid19_{name}_global.csv')\n",
    "    df = pd.read_csv(url)\n",
    "    # rename countries\n",
    "    df['Country/Region'] = df['Country/Region'].replace(mapping['replace.country'])\n",
    "    return df"
   ]
  },
  {
   "cell_type": "code",
   "execution_count": 8,
   "id": "affiliated-characterization",
   "metadata": {
    "execution": {
     "iopub.execute_input": "2022-05-09T12:17:36.301838Z",
     "iopub.status.busy": "2022-05-09T12:17:36.301127Z",
     "iopub.status.idle": "2022-05-09T12:17:36.303684Z",
     "shell.execute_reply": "2022-05-09T12:17:36.303084Z"
    },
    "papermill": {
     "duration": 0.049753,
     "end_time": "2022-05-09T12:17:36.303821",
     "exception": false,
     "start_time": "2022-05-09T12:17:36.254068",
     "status": "completed"
    },
    "tags": []
   },
   "outputs": [],
   "source": [
    "#hide\n",
    "def get_dates(df):\n",
    "    dt_cols = df.columns[~df.columns.isin(['Province/State', 'Country/Region', 'Lat', 'Long'])]\n",
    "    LAST_DATE_I = -1\n",
    "    # sometimes last column may be empty, then go backwards\n",
    "    for i in range(-1, -len(dt_cols), -1):\n",
    "        if not df[dt_cols[i]].fillna(0).eq(0).all():\n",
    "            LAST_DATE_I = i\n",
    "            break\n",
    "    return LAST_DATE_I, dt_cols"
   ]
  },
  {
   "cell_type": "code",
   "execution_count": 9,
   "id": "recent-optimization",
   "metadata": {
    "execution": {
     "iopub.execute_input": "2022-05-09T12:17:36.387909Z",
     "iopub.status.busy": "2022-05-09T12:17:36.387061Z",
     "iopub.status.idle": "2022-05-09T12:17:36.847032Z",
     "shell.execute_reply": "2022-05-09T12:17:36.846390Z"
    },
    "papermill": {
     "duration": 0.503654,
     "end_time": "2022-05-09T12:17:36.847191",
     "exception": false,
     "start_time": "2022-05-09T12:17:36.343537",
     "status": "completed"
    },
    "tags": []
   },
   "outputs": [],
   "source": [
    "#hide\n",
    "COL_REGION = 'Country/Region'\n",
    "# Confirmed, Recovered, Deaths\n",
    "df = get_frame('confirmed')\n",
    "# dft_: timeseries, dfc_: today country agg\n",
    "dft_cases = df\n",
    "dft_deaths = get_frame('deaths')\n",
    "dft_recovered = get_frame('recovered')\n",
    "LAST_DATE_I, dt_cols = get_dates(df)"
   ]
  },
  {
   "cell_type": "code",
   "execution_count": 10,
   "id": "absolute-copper",
   "metadata": {
    "execution": {
     "iopub.execute_input": "2022-05-09T12:17:36.931910Z",
     "iopub.status.busy": "2022-05-09T12:17:36.931233Z",
     "iopub.status.idle": "2022-05-09T12:17:36.934199Z",
     "shell.execute_reply": "2022-05-09T12:17:36.933552Z"
    },
    "papermill": {
     "duration": 0.046809,
     "end_time": "2022-05-09T12:17:36.934398",
     "exception": false,
     "start_time": "2022-05-09T12:17:36.887589",
     "status": "completed"
    },
    "tags": []
   },
   "outputs": [],
   "source": [
    "#hide\n",
    "LAST_DATE_I, dt_cols = get_dates(df)\n",
    "dt_today =dt_cols[LAST_DATE_I]\n",
    "# dt_5day = dt_cols[LAST_DATE_I - 5]\n",
    "dt_yday = dt_cols[LAST_DATE_I - 1]"
   ]
  },
  {
   "cell_type": "code",
   "execution_count": 11,
   "id": "restricted-sheriff",
   "metadata": {
    "execution": {
     "iopub.execute_input": "2022-05-09T12:17:37.021768Z",
     "iopub.status.busy": "2022-05-09T12:17:37.021130Z",
     "iopub.status.idle": "2022-05-09T12:17:37.030100Z",
     "shell.execute_reply": "2022-05-09T12:17:37.029530Z"
    },
    "papermill": {
     "duration": 0.058288,
     "end_time": "2022-05-09T12:17:37.030246",
     "exception": false,
     "start_time": "2022-05-09T12:17:36.971958",
     "status": "completed"
    },
    "tags": []
   },
   "outputs": [],
   "source": [
    "#hide\n",
    "dfc_cases = dft_cases.groupby(COL_REGION)[dt_today].sum()\n",
    "dfc_deaths = dft_deaths.groupby(COL_REGION)[dt_today].sum()\n",
    "# dfp_cases = dft_cases.groupby(COL_REGION)[dt_5day].sum()\n",
    "# dfp_deaths = dft_deaths.groupby(COL_REGION)[dt_5day].sum()\n",
    "dfp_cases = dft_cases.groupby(COL_REGION)[dt_yday].sum()\n",
    "dfp_deaths = dft_deaths.groupby(COL_REGION)[dt_yday].sum()"
   ]
  },
  {
   "cell_type": "code",
   "execution_count": 12,
   "id": "deluxe-hepatitis",
   "metadata": {
    "execution": {
     "iopub.execute_input": "2022-05-09T12:17:37.114194Z",
     "iopub.status.busy": "2022-05-09T12:17:37.113510Z",
     "iopub.status.idle": "2022-05-09T12:17:37.118674Z",
     "shell.execute_reply": "2022-05-09T12:17:37.119206Z"
    },
    "papermill": {
     "duration": 0.052284,
     "end_time": "2022-05-09T12:17:37.119426",
     "exception": false,
     "start_time": "2022-05-09T12:17:37.067142",
     "status": "completed"
    },
    "tags": []
   },
   "outputs": [],
   "source": [
    "#hide\n",
    "df_table = (pd.DataFrame(dict(Cases = dfc_cases, Deaths = dfc_deaths, PCases = dfp_cases, PDeaths = dfp_deaths))\n",
    "            .sort_values(by = ['Cases','Deaths'], ascending = [False, False])\n",
    "            .reset_index())"
   ]
  },
  {
   "cell_type": "code",
   "execution_count": 13,
   "id": "educational-chancellor",
   "metadata": {
    "execution": {
     "iopub.execute_input": "2022-05-09T12:17:37.213793Z",
     "iopub.status.busy": "2022-05-09T12:17:37.213020Z",
     "iopub.status.idle": "2022-05-09T12:17:37.225018Z",
     "shell.execute_reply": "2022-05-09T12:17:37.224057Z"
    },
    "papermill": {
     "duration": 0.068701,
     "end_time": "2022-05-09T12:17:37.225161",
     "exception": false,
     "start_time": "2022-05-09T12:17:37.156460",
     "status": "completed"
    },
    "tags": []
   },
   "outputs": [
    {
     "data": {
      "text/html": [
       "<div>\n",
       "<style scoped>\n",
       "    .dataframe tbody tr th:only-of-type {\n",
       "        vertical-align: middle;\n",
       "    }\n",
       "\n",
       "    .dataframe tbody tr th {\n",
       "        vertical-align: top;\n",
       "    }\n",
       "\n",
       "    .dataframe thead th {\n",
       "        text-align: right;\n",
       "    }\n",
       "</style>\n",
       "<table border=\"1\" class=\"dataframe\">\n",
       "  <thead>\n",
       "    <tr style=\"text-align: right;\">\n",
       "      <th></th>\n",
       "      <th>Country/Region</th>\n",
       "      <th>Cases</th>\n",
       "      <th>Deaths</th>\n",
       "      <th>PCases</th>\n",
       "      <th>PDeaths</th>\n",
       "      <th>Cases (+)</th>\n",
       "      <th>Deaths (+)</th>\n",
       "      <th>Fatality Rate</th>\n",
       "      <th>Continent</th>\n",
       "    </tr>\n",
       "  </thead>\n",
       "  <tbody>\n",
       "    <tr>\n",
       "      <th>0</th>\n",
       "      <td>US</td>\n",
       "      <td>81863725</td>\n",
       "      <td>997526</td>\n",
       "      <td>81858744</td>\n",
       "      <td>997503</td>\n",
       "      <td>4981</td>\n",
       "      <td>23</td>\n",
       "      <td>1.22</td>\n",
       "      <td>North America</td>\n",
       "    </tr>\n",
       "    <tr>\n",
       "      <th>1</th>\n",
       "      <td>India</td>\n",
       "      <td>43105401</td>\n",
       "      <td>524093</td>\n",
       "      <td>43102194</td>\n",
       "      <td>524064</td>\n",
       "      <td>3207</td>\n",
       "      <td>29</td>\n",
       "      <td>1.22</td>\n",
       "      <td>Asia</td>\n",
       "    </tr>\n",
       "    <tr>\n",
       "      <th>2</th>\n",
       "      <td>Brazil</td>\n",
       "      <td>30564536</td>\n",
       "      <td>664374</td>\n",
       "      <td>30558530</td>\n",
       "      <td>664361</td>\n",
       "      <td>6006</td>\n",
       "      <td>13</td>\n",
       "      <td>2.17</td>\n",
       "      <td>South America</td>\n",
       "    </tr>\n",
       "    <tr>\n",
       "      <th>3</th>\n",
       "      <td>France</td>\n",
       "      <td>29148451</td>\n",
       "      <td>147761</td>\n",
       "      <td>29119127</td>\n",
       "      <td>147707</td>\n",
       "      <td>29324</td>\n",
       "      <td>54</td>\n",
       "      <td>0.51</td>\n",
       "      <td>Europe</td>\n",
       "    </tr>\n",
       "    <tr>\n",
       "      <th>4</th>\n",
       "      <td>Germany</td>\n",
       "      <td>25299300</td>\n",
       "      <td>136538</td>\n",
       "      <td>25295950</td>\n",
       "      <td>136533</td>\n",
       "      <td>3350</td>\n",
       "      <td>5</td>\n",
       "      <td>0.54</td>\n",
       "      <td>Europe</td>\n",
       "    </tr>\n",
       "  </tbody>\n",
       "</table>\n",
       "</div>"
      ],
      "text/plain": [
       "  Country/Region     Cases  Deaths    PCases  PDeaths  Cases (+)  Deaths (+)  \\\n",
       "0             US  81863725  997526  81858744   997503       4981          23   \n",
       "1          India  43105401  524093  43102194   524064       3207          29   \n",
       "2         Brazil  30564536  664374  30558530   664361       6006          13   \n",
       "3         France  29148451  147761  29119127   147707      29324          54   \n",
       "4        Germany  25299300  136538  25295950   136533       3350           5   \n",
       "\n",
       "   Fatality Rate      Continent  \n",
       "0           1.22  North America  \n",
       "1           1.22           Asia  \n",
       "2           2.17  South America  \n",
       "3           0.51         Europe  \n",
       "4           0.54         Europe  "
      ]
     },
     "execution_count": 13,
     "metadata": {},
     "output_type": "execute_result"
    }
   ],
   "source": [
    "#hide\n",
    "for c in 'Cases, Deaths'.split(', '):\n",
    "    df_table[f'{c} (+)'] = (df_table[c] - df_table[f'P{c}']).clip(0)\n",
    "    #Clip ça veut dire, les chiffres negatif sont interdit\n",
    "df_table['Fatality Rate'] = (100* df_table['Deaths']/ df_table['Cases']).round(2)\n",
    "df_table['Continent'] = df_table['Country/Region'].map(mapping['map.continent'])\n",
    "df_table.head(5)"
   ]
  },
  {
   "cell_type": "code",
   "execution_count": 14,
   "id": "aboriginal-bulgaria",
   "metadata": {
    "execution": {
     "iopub.execute_input": "2022-05-09T12:17:37.312244Z",
     "iopub.status.busy": "2022-05-09T12:17:37.311474Z",
     "iopub.status.idle": "2022-05-09T12:17:37.314419Z",
     "shell.execute_reply": "2022-05-09T12:17:37.314935Z"
    },
    "papermill": {
     "duration": 0.05117,
     "end_time": "2022-05-09T12:17:37.315088",
     "exception": false,
     "start_time": "2022-05-09T12:17:37.263918",
     "status": "completed"
    },
    "tags": []
   },
   "outputs": [],
   "source": [
    "#hide\n",
    "#delete problematic countries from table\n",
    "df_table = df_table[~df_table['Country/Region'].isin(['Cape Verde', 'Cruise Ship', 'Kosovo'])]"
   ]
  },
  {
   "cell_type": "code",
   "execution_count": 15,
   "id": "fantastic-effect",
   "metadata": {
    "execution": {
     "iopub.execute_input": "2022-05-09T12:17:37.422076Z",
     "iopub.status.busy": "2022-05-09T12:17:37.399012Z",
     "iopub.status.idle": "2022-05-09T12:17:37.426736Z",
     "shell.execute_reply": "2022-05-09T12:17:37.426235Z"
    },
    "papermill": {
     "duration": 0.072931,
     "end_time": "2022-05-09T12:17:37.426866",
     "exception": false,
     "start_time": "2022-05-09T12:17:37.353935",
     "status": "completed"
    },
    "tags": []
   },
   "outputs": [
    {
     "data": {
      "text/html": [
       "<div>\n",
       "<style scoped>\n",
       "    .dataframe tbody tr th:only-of-type {\n",
       "        vertical-align: middle;\n",
       "    }\n",
       "\n",
       "    .dataframe tbody tr th {\n",
       "        vertical-align: top;\n",
       "    }\n",
       "\n",
       "    .dataframe thead th {\n",
       "        text-align: right;\n",
       "    }\n",
       "</style>\n",
       "<table border=\"1\" class=\"dataframe\">\n",
       "  <thead>\n",
       "    <tr style=\"text-align: right;\">\n",
       "      <th></th>\n",
       "      <th>Country/Region</th>\n",
       "      <th>Cases</th>\n",
       "      <th>Deaths</th>\n",
       "      <th>PCases</th>\n",
       "      <th>PDeaths</th>\n",
       "      <th>Cases (+)</th>\n",
       "      <th>Deaths (+)</th>\n",
       "      <th>Fatality Rate</th>\n",
       "      <th>Continent</th>\n",
       "    </tr>\n",
       "  </thead>\n",
       "  <tbody>\n",
       "    <tr>\n",
       "      <th>0</th>\n",
       "      <td>US</td>\n",
       "      <td>81863725</td>\n",
       "      <td>997526</td>\n",
       "      <td>81858744</td>\n",
       "      <td>997503</td>\n",
       "      <td>4981</td>\n",
       "      <td>23</td>\n",
       "      <td>1.2</td>\n",
       "      <td>North America</td>\n",
       "    </tr>\n",
       "    <tr>\n",
       "      <th>1</th>\n",
       "      <td>India</td>\n",
       "      <td>43105401</td>\n",
       "      <td>524093</td>\n",
       "      <td>43102194</td>\n",
       "      <td>524064</td>\n",
       "      <td>3207</td>\n",
       "      <td>29</td>\n",
       "      <td>1.2</td>\n",
       "      <td>Asia</td>\n",
       "    </tr>\n",
       "    <tr>\n",
       "      <th>2</th>\n",
       "      <td>Brazil</td>\n",
       "      <td>30564536</td>\n",
       "      <td>664374</td>\n",
       "      <td>30558530</td>\n",
       "      <td>664361</td>\n",
       "      <td>6006</td>\n",
       "      <td>13</td>\n",
       "      <td>2.2</td>\n",
       "      <td>South America</td>\n",
       "    </tr>\n",
       "    <tr>\n",
       "      <th>3</th>\n",
       "      <td>France</td>\n",
       "      <td>29148451</td>\n",
       "      <td>147761</td>\n",
       "      <td>29119127</td>\n",
       "      <td>147707</td>\n",
       "      <td>29324</td>\n",
       "      <td>54</td>\n",
       "      <td>0.5</td>\n",
       "      <td>Europe</td>\n",
       "    </tr>\n",
       "    <tr>\n",
       "      <th>4</th>\n",
       "      <td>Germany</td>\n",
       "      <td>25299300</td>\n",
       "      <td>136538</td>\n",
       "      <td>25295950</td>\n",
       "      <td>136533</td>\n",
       "      <td>3350</td>\n",
       "      <td>5</td>\n",
       "      <td>0.5</td>\n",
       "      <td>Europe</td>\n",
       "    </tr>\n",
       "  </tbody>\n",
       "</table>\n",
       "</div>"
      ],
      "text/plain": [
       "  Country/Region     Cases  Deaths    PCases  PDeaths  Cases (+)  Deaths (+)  \\\n",
       "0             US  81863725  997526  81858744   997503       4981          23   \n",
       "1          India  43105401  524093  43102194   524064       3207          29   \n",
       "2         Brazil  30564536  664374  30558530   664361       6006          13   \n",
       "3         France  29148451  147761  29119127   147707      29324          54   \n",
       "4        Germany  25299300  136538  25295950   136533       3350           5   \n",
       "\n",
       "   Fatality Rate      Continent  \n",
       "0            1.2  North America  \n",
       "1            1.2           Asia  \n",
       "2            2.2  South America  \n",
       "3            0.5         Europe  \n",
       "4            0.5         Europe  "
      ]
     },
     "execution_count": 15,
     "metadata": {},
     "output_type": "execute_result"
    }
   ],
   "source": [
    "#hide\n",
    "df_table = (pd.DataFrame(dict(Cases=dfc_cases, Deaths=dfc_deaths, PCases=dfp_cases, PDeaths=dfp_deaths))\n",
    "             .sort_values(by=['Cases', 'Deaths'], ascending=[False, False])\n",
    "             .reset_index())\n",
    "df_table.rename(columns={'index': 'Country/Region'}, inplace=True)\n",
    "for c in 'Cases, Deaths'.split(', '):\n",
    "    df_table[f'{c} (+)'] = (df_table[c] - df_table[f'P{c}']).clip(0)  # DATA BUG\n",
    "df_table['Fatality Rate'] = (100 * df_table['Deaths'] / df_table['Cases']).round(1)\n",
    "df_table['Continent'] = df_table['Country/Region'].map(mapping['map.continent'])\n",
    "df_table.head(5)"
   ]
  },
  {
   "cell_type": "code",
   "execution_count": 16,
   "id": "fewer-occasion",
   "metadata": {
    "execution": {
     "iopub.execute_input": "2022-05-09T12:17:37.517272Z",
     "iopub.status.busy": "2022-05-09T12:17:37.516482Z",
     "iopub.status.idle": "2022-05-09T12:17:37.519793Z",
     "shell.execute_reply": "2022-05-09T12:17:37.520450Z"
    },
    "papermill": {
     "duration": 0.051451,
     "end_time": "2022-05-09T12:17:37.520605",
     "exception": false,
     "start_time": "2022-05-09T12:17:37.469154",
     "status": "completed"
    },
    "tags": []
   },
   "outputs": [],
   "source": [
    "#hide\n",
    "#delete problematic countries from table\n",
    "df_table = df_table[~df_table['Country/Region'].isin(['Cape Verde', 'Cruise Ship', 'Kosovo'])]"
   ]
  },
  {
   "cell_type": "code",
   "execution_count": 17,
   "id": "related-center",
   "metadata": {
    "execution": {
     "iopub.execute_input": "2022-05-09T12:17:37.626116Z",
     "iopub.status.busy": "2022-05-09T12:17:37.625486Z",
     "iopub.status.idle": "2022-05-09T12:17:37.628301Z",
     "shell.execute_reply": "2022-05-09T12:17:37.627558Z"
    },
    "papermill": {
     "duration": 0.068619,
     "end_time": "2022-05-09T12:17:37.628441",
     "exception": false,
     "start_time": "2022-05-09T12:17:37.559822",
     "status": "completed"
    },
    "tags": []
   },
   "outputs": [],
   "source": [
    "#hide\n",
    "metrics = [df_table.columns[index] for index in [1,2,5,6]]\n",
    "# s_china = df_table[df_table['Country/Region'].eq('China')][metrics].sum().add_prefix('China ')\n",
    "s_us = df_table[df_table['Country/Region'].eq('US')][metrics].sum().add_prefix('US ')\n",
    "s_eu = df_table[df_table['Continent'].eq('Europe')][metrics].sum().add_prefix('EU ')\n",
    "s_ind = df_table[df_table['Country/Region'].eq('India')][metrics].sum().add_prefix('India ')\n",
    "summary = {'updated': pd.to_datetime(dt_today), 'since': pd.to_datetime(dt_yday)}\n",
    "summary = {'updated': pd.to_datetime(dt_today), 'since': pd.to_datetime(dt_yday)}\n",
    "summary = {**summary, **df_table[metrics].sum(), **s_ind, **s_us, **s_eu}"
   ]
  },
  {
   "cell_type": "code",
   "execution_count": 18,
   "id": "engaging-syndrome",
   "metadata": {
    "execution": {
     "iopub.execute_input": "2022-05-09T12:17:37.715377Z",
     "iopub.status.busy": "2022-05-09T12:17:37.714601Z",
     "iopub.status.idle": "2022-05-09T12:17:37.736408Z",
     "shell.execute_reply": "2022-05-09T12:17:37.735818Z"
    },
    "papermill": {
     "duration": 0.06909,
     "end_time": "2022-05-09T12:17:37.736572",
     "exception": false,
     "start_time": "2022-05-09T12:17:37.667482",
     "status": "completed"
    },
    "tags": []
   },
   "outputs": [],
   "source": [
    "#hide\n",
    "dft_ct_new_cases = dft_cases.groupby(COL_REGION)[dt_cols].sum().diff(axis=1).fillna(0).astype(int)"
   ]
  },
  {
   "cell_type": "code",
   "execution_count": 19,
   "id": "neutral-assignment",
   "metadata": {
    "execution": {
     "iopub.execute_input": "2022-05-09T12:17:37.825199Z",
     "iopub.status.busy": "2022-05-09T12:17:37.824482Z",
     "iopub.status.idle": "2022-05-09T12:17:37.827057Z",
     "shell.execute_reply": "2022-05-09T12:17:37.826226Z"
    },
    "papermill": {
     "duration": 0.051566,
     "end_time": "2022-05-09T12:17:37.827223",
     "exception": false,
     "start_time": "2022-05-09T12:17:37.775657",
     "status": "completed"
    },
    "tags": []
   },
   "outputs": [],
   "source": [
    "#hide\n",
    "everydaycases = dft_ct_new_cases.cumsum(axis=1)"
   ]
  },
  {
   "cell_type": "code",
   "execution_count": 20,
   "id": "parliamentary-calgary",
   "metadata": {
    "execution": {
     "iopub.execute_input": "2022-05-09T12:17:37.911078Z",
     "iopub.status.busy": "2022-05-09T12:17:37.910370Z",
     "iopub.status.idle": "2022-05-09T12:17:38.621170Z",
     "shell.execute_reply": "2022-05-09T12:17:38.620615Z"
    },
    "papermill": {
     "duration": 0.754977,
     "end_time": "2022-05-09T12:17:38.621309",
     "exception": false,
     "start_time": "2022-05-09T12:17:37.866332",
     "status": "completed"
    },
    "tags": []
   },
   "outputs": [],
   "source": [
    "#hide\n",
    "import pandas as pd\n",
    "import matplotlib.pyplot as plt\n",
    "import matplotlib.ticker as ticker\n",
    "import matplotlib.animation as animation\n",
    "from IPython.display import HTML"
   ]
  },
  {
   "cell_type": "code",
   "execution_count": 21,
   "id": "lasting-extraction",
   "metadata": {
    "execution": {
     "iopub.execute_input": "2022-05-09T12:17:38.708235Z",
     "iopub.status.busy": "2022-05-09T12:17:38.706470Z",
     "iopub.status.idle": "2022-05-09T12:17:38.731661Z",
     "shell.execute_reply": "2022-05-09T12:17:38.731097Z"
    },
    "papermill": {
     "duration": 0.070764,
     "end_time": "2022-05-09T12:17:38.731805",
     "exception": false,
     "start_time": "2022-05-09T12:17:38.661041",
     "status": "completed"
    },
    "tags": []
   },
   "outputs": [],
   "source": [
    "#hide\n",
    "t = everydaycases.stack()"
   ]
  },
  {
   "cell_type": "code",
   "execution_count": 22,
   "id": "premier-sleeve",
   "metadata": {
    "execution": {
     "iopub.execute_input": "2022-05-09T12:17:38.812886Z",
     "iopub.status.busy": "2022-05-09T12:17:38.812152Z",
     "iopub.status.idle": "2022-05-09T12:17:38.824860Z",
     "shell.execute_reply": "2022-05-09T12:17:38.824352Z"
    },
    "papermill": {
     "duration": 0.055154,
     "end_time": "2022-05-09T12:17:38.824977",
     "exception": false,
     "start_time": "2022-05-09T12:17:38.769823",
     "status": "completed"
    },
    "tags": []
   },
   "outputs": [],
   "source": [
    "#hide\n",
    "g = t.reset_index(['Country/Region'])"
   ]
  },
  {
   "cell_type": "code",
   "execution_count": 23,
   "id": "distributed-pittsburgh",
   "metadata": {
    "execution": {
     "iopub.execute_input": "2022-05-09T12:17:38.910327Z",
     "iopub.status.busy": "2022-05-09T12:17:38.909430Z",
     "iopub.status.idle": "2022-05-09T12:17:38.912277Z",
     "shell.execute_reply": "2022-05-09T12:17:38.911606Z"
    },
    "papermill": {
     "duration": 0.045275,
     "end_time": "2022-05-09T12:17:38.912399",
     "exception": false,
     "start_time": "2022-05-09T12:17:38.867124",
     "status": "completed"
    },
    "tags": []
   },
   "outputs": [],
   "source": [
    "#hide\n",
    "g.index.name = 'date'"
   ]
  },
  {
   "cell_type": "code",
   "execution_count": 24,
   "id": "naked-donor",
   "metadata": {
    "execution": {
     "iopub.execute_input": "2022-05-09T12:17:38.998895Z",
     "iopub.status.busy": "2022-05-09T12:17:38.998159Z",
     "iopub.status.idle": "2022-05-09T12:17:39.000368Z",
     "shell.execute_reply": "2022-05-09T12:17:39.001013Z"
    },
    "papermill": {
     "duration": 0.045493,
     "end_time": "2022-05-09T12:17:39.001207",
     "exception": false,
     "start_time": "2022-05-09T12:17:38.955714",
     "status": "completed"
    },
    "tags": []
   },
   "outputs": [],
   "source": [
    "# #hide\n",
    "# g = g.reset_index(['date'])"
   ]
  },
  {
   "cell_type": "code",
   "execution_count": 25,
   "id": "incomplete-mustang",
   "metadata": {
    "execution": {
     "iopub.execute_input": "2022-05-09T12:17:39.087853Z",
     "iopub.status.busy": "2022-05-09T12:17:39.086518Z",
     "iopub.status.idle": "2022-05-09T12:17:39.090458Z",
     "shell.execute_reply": "2022-05-09T12:17:39.089848Z"
    },
    "papermill": {
     "duration": 0.049437,
     "end_time": "2022-05-09T12:17:39.090588",
     "exception": false,
     "start_time": "2022-05-09T12:17:39.041151",
     "status": "completed"
    },
    "tags": []
   },
   "outputs": [],
   "source": [
    "#hide\n",
    "# g.head()"
   ]
  },
  {
   "cell_type": "code",
   "execution_count": 26,
   "id": "specific-kruger",
   "metadata": {
    "execution": {
     "iopub.execute_input": "2022-05-09T12:17:39.172430Z",
     "iopub.status.busy": "2022-05-09T12:17:39.171534Z",
     "iopub.status.idle": "2022-05-09T12:17:39.174109Z",
     "shell.execute_reply": "2022-05-09T12:17:39.174615Z"
    },
    "papermill": {
     "duration": 0.044521,
     "end_time": "2022-05-09T12:17:39.174764",
     "exception": false,
     "start_time": "2022-05-09T12:17:39.130243",
     "status": "completed"
    },
    "tags": []
   },
   "outputs": [],
   "source": [
    "#hide\n",
    "# g.columns = ['date','country','cases']"
   ]
  },
  {
   "cell_type": "code",
   "execution_count": 27,
   "id": "tender-conversion",
   "metadata": {
    "execution": {
     "iopub.execute_input": "2022-05-09T12:17:39.257950Z",
     "iopub.status.busy": "2022-05-09T12:17:39.257293Z",
     "iopub.status.idle": "2022-05-09T12:17:39.260071Z",
     "shell.execute_reply": "2022-05-09T12:17:39.259452Z"
    },
    "papermill": {
     "duration": 0.045519,
     "end_time": "2022-05-09T12:17:39.260198",
     "exception": false,
     "start_time": "2022-05-09T12:17:39.214679",
     "status": "completed"
    },
    "tags": []
   },
   "outputs": [],
   "source": [
    "#hide\n",
    "# g['continent'] = g.country"
   ]
  },
  {
   "cell_type": "code",
   "execution_count": 28,
   "id": "substantial-wilderness",
   "metadata": {
    "execution": {
     "iopub.execute_input": "2022-05-09T12:17:39.344760Z",
     "iopub.status.busy": "2022-05-09T12:17:39.343886Z",
     "iopub.status.idle": "2022-05-09T12:17:39.346455Z",
     "shell.execute_reply": "2022-05-09T12:17:39.345861Z"
    },
    "papermill": {
     "duration": 0.04695,
     "end_time": "2022-05-09T12:17:39.346626",
     "exception": false,
     "start_time": "2022-05-09T12:17:39.299676",
     "status": "completed"
    },
    "tags": []
   },
   "outputs": [],
   "source": [
    "#hide\n",
    "# cols = list(g.columns.values)"
   ]
  },
  {
   "cell_type": "code",
   "execution_count": 29,
   "id": "solved-farming",
   "metadata": {
    "execution": {
     "iopub.execute_input": "2022-05-09T12:17:39.428283Z",
     "iopub.status.busy": "2022-05-09T12:17:39.427664Z",
     "iopub.status.idle": "2022-05-09T12:17:39.431492Z",
     "shell.execute_reply": "2022-05-09T12:17:39.432090Z"
    },
    "papermill": {
     "duration": 0.045766,
     "end_time": "2022-05-09T12:17:39.432262",
     "exception": false,
     "start_time": "2022-05-09T12:17:39.386496",
     "status": "completed"
    },
    "tags": []
   },
   "outputs": [],
   "source": [
    "#hide\n",
    "# cols.insert(0, cols.pop())"
   ]
  },
  {
   "cell_type": "code",
   "execution_count": 30,
   "id": "executed-adoption",
   "metadata": {
    "execution": {
     "iopub.execute_input": "2022-05-09T12:17:39.517768Z",
     "iopub.status.busy": "2022-05-09T12:17:39.517137Z",
     "iopub.status.idle": "2022-05-09T12:17:39.519487Z",
     "shell.execute_reply": "2022-05-09T12:17:39.518965Z"
    },
    "papermill": {
     "duration": 0.046077,
     "end_time": "2022-05-09T12:17:39.519608",
     "exception": false,
     "start_time": "2022-05-09T12:17:39.473531",
     "status": "completed"
    },
    "tags": []
   },
   "outputs": [],
   "source": [
    "#hide\n",
    "# g = g[cols]"
   ]
  },
  {
   "cell_type": "code",
   "execution_count": 31,
   "id": "subject-dublin",
   "metadata": {
    "execution": {
     "iopub.execute_input": "2022-05-09T12:17:39.601881Z",
     "iopub.status.busy": "2022-05-09T12:17:39.601224Z",
     "iopub.status.idle": "2022-05-09T12:17:39.605284Z",
     "shell.execute_reply": "2022-05-09T12:17:39.605777Z"
    },
    "papermill": {
     "duration": 0.047384,
     "end_time": "2022-05-09T12:17:39.605926",
     "exception": false,
     "start_time": "2022-05-09T12:17:39.558542",
     "status": "completed"
    },
    "tags": []
   },
   "outputs": [],
   "source": [
    "#hide\n",
    "# g['continent'] = g['continent'].map(mapping['map.continent'])"
   ]
  },
  {
   "cell_type": "code",
   "execution_count": 32,
   "id": "freelance-scout",
   "metadata": {
    "execution": {
     "iopub.execute_input": "2022-05-09T12:17:39.686081Z",
     "iopub.status.busy": "2022-05-09T12:17:39.685369Z",
     "iopub.status.idle": "2022-05-09T12:17:39.687442Z",
     "shell.execute_reply": "2022-05-09T12:17:39.687944Z"
    },
    "papermill": {
     "duration": 0.043947,
     "end_time": "2022-05-09T12:17:39.688090",
     "exception": false,
     "start_time": "2022-05-09T12:17:39.644143",
     "status": "completed"
    },
    "tags": []
   },
   "outputs": [],
   "source": [
    "#hide\n",
    "# g.head()"
   ]
  },
  {
   "cell_type": "code",
   "execution_count": 33,
   "id": "limited-engine",
   "metadata": {
    "execution": {
     "iopub.execute_input": "2022-05-09T12:17:39.771650Z",
     "iopub.status.busy": "2022-05-09T12:17:39.771013Z",
     "iopub.status.idle": "2022-05-09T12:17:39.773049Z",
     "shell.execute_reply": "2022-05-09T12:17:39.773674Z"
    },
    "papermill": {
     "duration": 0.043907,
     "end_time": "2022-05-09T12:17:39.773812",
     "exception": false,
     "start_time": "2022-05-09T12:17:39.729905",
     "status": "completed"
    },
    "tags": []
   },
   "outputs": [],
   "source": [
    "# hide\n",
    "# g['date'] = g['date'].astype('datetime64[ns]')"
   ]
  },
  {
   "cell_type": "code",
   "execution_count": 34,
   "id": "sophisticated-supervisor",
   "metadata": {
    "execution": {
     "iopub.execute_input": "2022-05-09T12:17:39.857387Z",
     "iopub.status.busy": "2022-05-09T12:17:39.856475Z",
     "iopub.status.idle": "2022-05-09T12:17:39.859656Z",
     "shell.execute_reply": "2022-05-09T12:17:39.858969Z"
    },
    "papermill": {
     "duration": 0.04515,
     "end_time": "2022-05-09T12:17:39.859845",
     "exception": false,
     "start_time": "2022-05-09T12:17:39.814695",
     "status": "completed"
    },
    "tags": []
   },
   "outputs": [],
   "source": [
    "#hide\n",
    "# g['date'] = g.date.dt.dayofyear"
   ]
  },
  {
   "cell_type": "code",
   "execution_count": 35,
   "id": "inside-dubai",
   "metadata": {
    "execution": {
     "iopub.execute_input": "2022-05-09T12:17:39.950197Z",
     "iopub.status.busy": "2022-05-09T12:17:39.949569Z",
     "iopub.status.idle": "2022-05-09T12:17:39.952441Z",
     "shell.execute_reply": "2022-05-09T12:17:39.951917Z"
    },
    "papermill": {
     "duration": 0.044578,
     "end_time": "2022-05-09T12:17:39.952565",
     "exception": false,
     "start_time": "2022-05-09T12:17:39.907987",
     "status": "completed"
    },
    "tags": []
   },
   "outputs": [],
   "source": [
    "#hide\n",
    "# g = g.rename(columns= {'continent':'group','country':'name','cases':'value'})"
   ]
  },
  {
   "cell_type": "code",
   "execution_count": 36,
   "id": "fleet-motorcycle",
   "metadata": {
    "execution": {
     "iopub.execute_input": "2022-05-09T12:17:40.046905Z",
     "iopub.status.busy": "2022-05-09T12:17:40.042081Z",
     "iopub.status.idle": "2022-05-09T12:17:40.047749Z",
     "shell.execute_reply": "2022-05-09T12:17:40.048316Z"
    },
    "papermill": {
     "duration": 0.050123,
     "end_time": "2022-05-09T12:17:40.048485",
     "exception": false,
     "start_time": "2022-05-09T12:17:39.998362",
     "status": "completed"
    },
    "tags": []
   },
   "outputs": [],
   "source": [
    "#hide\n",
    "# cols = ['name','group','day','value']"
   ]
  },
  {
   "cell_type": "code",
   "execution_count": 37,
   "id": "continued-sleeping",
   "metadata": {
    "execution": {
     "iopub.execute_input": "2022-05-09T12:17:40.136832Z",
     "iopub.status.busy": "2022-05-09T12:17:40.136168Z",
     "iopub.status.idle": "2022-05-09T12:17:40.138497Z",
     "shell.execute_reply": "2022-05-09T12:17:40.138991Z"
    },
    "papermill": {
     "duration": 0.045105,
     "end_time": "2022-05-09T12:17:40.139133",
     "exception": false,
     "start_time": "2022-05-09T12:17:40.094028",
     "status": "completed"
    },
    "tags": []
   },
   "outputs": [],
   "source": [
    "#hide\n",
    "# g.rename(columns= {'date':'day'},inplace = True)"
   ]
  },
  {
   "cell_type": "code",
   "execution_count": 38,
   "id": "major-fight",
   "metadata": {
    "execution": {
     "iopub.execute_input": "2022-05-09T12:17:40.227641Z",
     "iopub.status.busy": "2022-05-09T12:17:40.226956Z",
     "iopub.status.idle": "2022-05-09T12:17:40.229594Z",
     "shell.execute_reply": "2022-05-09T12:17:40.229017Z"
    },
    "papermill": {
     "duration": 0.045359,
     "end_time": "2022-05-09T12:17:40.229722",
     "exception": false,
     "start_time": "2022-05-09T12:17:40.184363",
     "status": "completed"
    },
    "tags": []
   },
   "outputs": [],
   "source": [
    "#hide\n",
    "# g = g[cols]"
   ]
  },
  {
   "cell_type": "code",
   "execution_count": 39,
   "id": "structured-mobile",
   "metadata": {
    "execution": {
     "iopub.execute_input": "2022-05-09T12:17:40.311923Z",
     "iopub.status.busy": "2022-05-09T12:17:40.311150Z",
     "iopub.status.idle": "2022-05-09T12:17:40.314973Z",
     "shell.execute_reply": "2022-05-09T12:17:40.315512Z"
    },
    "papermill": {
     "duration": 0.047961,
     "end_time": "2022-05-09T12:17:40.315703",
     "exception": false,
     "start_time": "2022-05-09T12:17:40.267742",
     "status": "completed"
    },
    "tags": []
   },
   "outputs": [],
   "source": [
    "# #hide\n",
    "# g = g[g.group.notna()]"
   ]
  },
  {
   "cell_type": "code",
   "execution_count": 40,
   "id": "determined-closing",
   "metadata": {
    "execution": {
     "iopub.execute_input": "2022-05-09T12:17:40.409969Z",
     "iopub.status.busy": "2022-05-09T12:17:40.409314Z",
     "iopub.status.idle": "2022-05-09T12:17:40.413221Z",
     "shell.execute_reply": "2022-05-09T12:17:40.413797Z"
    },
    "papermill": {
     "duration": 0.058216,
     "end_time": "2022-05-09T12:17:40.413984",
     "exception": false,
     "start_time": "2022-05-09T12:17:40.355768",
     "status": "completed"
    },
    "tags": []
   },
   "outputs": [],
   "source": [
    "# #hide\n",
    "# colors = dict(zip(\n",
    "#     [\"Oceania\", \"Europe\", \"Asia\", \"South America\", \"Middle East\", \"North America\", \"Africa\"],\n",
    "#     [\"#adb0ff\", \"#ffb3ff\", \"#90d595\", \"#e48381\", \"#aafbff\", \"#f7bb5f\", \"#eafb50\"]\n",
    "# ))\n",
    "# group_lk = g.set_index('name')['group'].to_dict()"
   ]
  },
  {
   "cell_type": "code",
   "execution_count": null,
   "id": "gross-drinking",
   "metadata": {
    "papermill": {
     "duration": 0.037969,
     "end_time": "2022-05-09T12:17:40.491066",
     "exception": false,
     "start_time": "2022-05-09T12:17:40.453097",
     "status": "completed"
    },
    "tags": []
   },
   "outputs": [],
   "source": []
  },
  {
   "cell_type": "code",
   "execution_count": 41,
   "id": "subject-macintosh",
   "metadata": {
    "execution": {
     "iopub.execute_input": "2022-05-09T12:17:40.580893Z",
     "iopub.status.busy": "2022-05-09T12:17:40.580215Z",
     "iopub.status.idle": "2022-05-09T12:17:40.582470Z",
     "shell.execute_reply": "2022-05-09T12:17:40.581841Z"
    },
    "papermill": {
     "duration": 0.05118,
     "end_time": "2022-05-09T12:17:40.582601",
     "exception": false,
     "start_time": "2022-05-09T12:17:40.531421",
     "status": "completed"
    },
    "tags": []
   },
   "outputs": [],
   "source": [
    "# #hide\n",
    "# fig, ax = plt.subplots(figsize=(15, 8))\n",
    "\n",
    "# def draw_barchart(current_day):\n",
    "#     dff = g[g['day'].eq(current_day)].sort_values(by='value', ascending=True).tail(10)\n",
    "#     ax.clear()\n",
    "#     ax.barh(dff['name'], dff['value'], color=[colors[group_lk[x]] for x in dff['name']])\n",
    "#     dx = dff['value'].max() / 200\n",
    "    \n",
    "#     for i, (value, name) in enumerate(zip(dff['value'], dff['name'])):\n",
    "#         ax.text(value-dx, i,     name,           size=14, weight=600, ha='right', va='bottom')\n",
    "#         ax.text(value-dx, i-.25, group_lk[name], size=10, color='#444444', ha='right', va='baseline')\n",
    "#         ax.text(value+dx, i,     f'{value:,.0f}',  size=14, ha='left',  va='center')\n",
    "#     ax.text(1, 0.4, current_day, transform=ax.transAxes, color='#777777', size=46, ha='right', weight=800)\n",
    "#     ax.text(0, 1.06, 'Population (thousands)', transform=ax.transAxes, size=12, color='#777777')\n",
    "#     ax.xaxis.set_major_formatter(ticker.StrMethodFormatter('{x:,.0f}'))\n",
    "#     ax.xaxis.set_ticks_position('top')\n",
    "#     ax.tick_params(axis='x', colors='#777777', labelsize=12)\n",
    "#     ax.set_yticks([])\n",
    "#     ax.margins(0, 0.01)\n",
    "#     ax.grid(which='major', axis='x', linestyle='-')\n",
    "#     ax.set_axisbelow(True)\n",
    "    \n",
    "#     ax.text(0, 1.15, 'Coronavirus',\n",
    "#             transform=ax.transAxes, size=24, weight=600, ha='left', va='top')\n",
    "# #     ax.text(1, 0, 'by @pratapvardhan; credit @jburnmurdoch', transform=ax.transAxes, color='#777777', ha='right',\n",
    "# #             bbox=dict(facecolor='white', alpha=0.8, edgecolor='white'))\n",
    "#     plt.box(False)"
   ]
  },
  {
   "cell_type": "code",
   "execution_count": 42,
   "id": "sexual-wages",
   "metadata": {
    "execution": {
     "iopub.execute_input": "2022-05-09T12:17:40.669192Z",
     "iopub.status.busy": "2022-05-09T12:17:40.668546Z",
     "iopub.status.idle": "2022-05-09T12:17:40.672602Z",
     "shell.execute_reply": "2022-05-09T12:17:40.672002Z"
    },
    "papermill": {
     "duration": 0.046854,
     "end_time": "2022-05-09T12:17:40.672725",
     "exception": false,
     "start_time": "2022-05-09T12:17:40.625871",
     "status": "completed"
    },
    "tags": []
   },
   "outputs": [],
   "source": [
    "# #hide_input\n",
    "# fig, ax = plt.subplots(figsize=(15, 8))\n",
    "# animator = animation.FuncAnimation(fig, draw_barchart, frames=range(g.day.values.min(), g.day.values.max()))\n",
    "# HTML(animator.to_jshtml())\n",
    "# # or use animator.to_html5_video() or animator.save() "
   ]
  },
  {
   "cell_type": "code",
   "execution_count": null,
   "id": "australian-container",
   "metadata": {
    "papermill": {
     "duration": 0.036891,
     "end_time": "2022-05-09T12:17:40.750198",
     "exception": false,
     "start_time": "2022-05-09T12:17:40.713307",
     "status": "completed"
    },
    "tags": []
   },
   "outputs": [],
   "source": []
  },
  {
   "cell_type": "code",
   "execution_count": null,
   "id": "mediterranean-pontiac",
   "metadata": {
    "papermill": {
     "duration": 0.039094,
     "end_time": "2022-05-09T12:17:40.827430",
     "exception": false,
     "start_time": "2022-05-09T12:17:40.788336",
     "status": "completed"
    },
    "tags": []
   },
   "outputs": [],
   "source": []
  },
  {
   "cell_type": "code",
   "execution_count": null,
   "id": "aging-legislature",
   "metadata": {
    "papermill": {
     "duration": 0.039315,
     "end_time": "2022-05-09T12:17:40.905611",
     "exception": false,
     "start_time": "2022-05-09T12:17:40.866296",
     "status": "completed"
    },
    "tags": []
   },
   "outputs": [],
   "source": []
  }
 ],
 "metadata": {
  "kernelspec": {
   "display_name": "Python 3",
   "language": "python",
   "name": "python3"
  },
  "language_info": {
   "codemirror_mode": {
    "name": "ipython",
    "version": 3
   },
   "file_extension": ".py",
   "mimetype": "text/x-python",
   "name": "python",
   "nbconvert_exporter": "python",
   "pygments_lexer": "ipython3",
   "version": "3.6.15"
  },
  "papermill": {
   "duration": 7.577583,
   "end_time": "2022-05-09T12:17:41.262590",
   "environment_variables": {},
   "exception": null,
   "input_path": "2020-03-21-covid19exp.ipynb",
   "output_path": "2020-03-21-covid19exp.ipynb",
   "parameters": {},
   "start_time": "2022-05-09T12:17:33.685007",
   "version": "2.0.0"
  }
 },
 "nbformat": 4,
 "nbformat_minor": 5
}