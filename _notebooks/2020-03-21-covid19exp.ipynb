{
 "cells": [
  {
   "cell_type": "markdown",
   "metadata": {
    "papermill": {
     "duration": 0.059159,
     "end_time": "2020-12-15T00:12:11.206276",
     "exception": false,
     "start_time": "2020-12-15T00:12:11.147117",
     "status": "completed"
    },
    "tags": []
   },
   "source": [
    "# COVID-19 Case Race\n",
    "> A race chart to see rising cases around the world\n",
    "\n",
    "- author: Hargun Oberoi\n",
    "- image: images/covid-overview.png\n",
    "- hide: false\n",
    "- badges: false"
   ]
  },
  {
   "cell_type": "code",
   "execution_count": 1,
   "metadata": {
    "execution": {
     "iopub.execute_input": "2020-12-15T00:12:11.473761Z",
     "iopub.status.busy": "2020-12-15T00:12:11.473128Z",
     "iopub.status.idle": "2020-12-15T00:12:11.808849Z",
     "shell.execute_reply": "2020-12-15T00:12:11.807954Z"
    },
    "papermill": {
     "duration": 0.529587,
     "end_time": "2020-12-15T00:12:11.809096",
     "exception": false,
     "start_time": "2020-12-15T00:12:11.279509",
     "status": "completed"
    },
    "tags": []
   },
   "outputs": [],
   "source": [
    "#hide\n",
    "import numpy as np\n",
    "import pandas as pd\n",
    "from jinja2 import Template\n",
    "from IPython.display import HTML"
   ]
  },
  {
   "cell_type": "code",
   "execution_count": 2,
   "metadata": {
    "execution": {
     "iopub.execute_input": "2020-12-15T00:12:11.880561Z",
     "iopub.status.busy": "2020-12-15T00:12:11.879945Z",
     "iopub.status.idle": "2020-12-15T00:12:11.882613Z",
     "shell.execute_reply": "2020-12-15T00:12:11.882090Z"
    },
    "papermill": {
     "duration": 0.03885,
     "end_time": "2020-12-15T00:12:11.882760",
     "exception": false,
     "start_time": "2020-12-15T00:12:11.843910",
     "status": "completed"
    },
    "tags": []
   },
   "outputs": [],
   "source": [
    "#hide\n",
    "\n",
    "# FETCH\n",
    "base_url = 'https://raw.githubusercontent.com/pratapvardhan/notebooks/master/covid19/'\n",
    "paths = {\n",
    "    'mapping': base_url + 'mapping_countries.csv',\n",
    "    'overview': base_url + 'overview.tpl'\n",
    "}"
   ]
  },
  {
   "cell_type": "code",
   "execution_count": 3,
   "metadata": {
    "execution": {
     "iopub.execute_input": "2020-12-15T00:12:11.957860Z",
     "iopub.status.busy": "2020-12-15T00:12:11.957282Z",
     "iopub.status.idle": "2020-12-15T00:12:11.959522Z",
     "shell.execute_reply": "2020-12-15T00:12:11.960059Z"
    },
    "papermill": {
     "duration": 0.046791,
     "end_time": "2020-12-15T00:12:11.960201",
     "exception": false,
     "start_time": "2020-12-15T00:12:11.913410",
     "status": "completed"
    },
    "tags": []
   },
   "outputs": [
    {
     "data": {
      "text/plain": [
       "'https://raw.githubusercontent.com/pratapvardhan/notebooks/master/covid19/mapping_countries.csv'"
      ]
     },
     "execution_count": 3,
     "metadata": {},
     "output_type": "execute_result"
    }
   ],
   "source": [
    "#hide\n",
    "paths['mapping']"
   ]
  },
  {
   "cell_type": "code",
   "execution_count": 4,
   "metadata": {
    "execution": {
     "iopub.execute_input": "2020-12-15T00:12:12.029505Z",
     "iopub.status.busy": "2020-12-15T00:12:12.028915Z",
     "iopub.status.idle": "2020-12-15T00:12:12.031097Z",
     "shell.execute_reply": "2020-12-15T00:12:12.030515Z"
    },
    "papermill": {
     "duration": 0.039025,
     "end_time": "2020-12-15T00:12:12.031221",
     "exception": false,
     "start_time": "2020-12-15T00:12:11.992196",
     "status": "completed"
    },
    "tags": []
   },
   "outputs": [],
   "source": [
    "#hide\n",
    "def get_mappings(url):\n",
    "    df = pd.read_csv(url)\n",
    "    return {\n",
    "        'df': df,\n",
    "        'replace.country': dict(df.dropna(subset=['Name']).set_index('Country')['Name']),\n",
    "        'map.continent': dict(df.set_index('Name')['Continent'])\n",
    "    }"
   ]
  },
  {
   "cell_type": "code",
   "execution_count": 5,
   "metadata": {
    "execution": {
     "iopub.execute_input": "2020-12-15T00:12:12.102528Z",
     "iopub.status.busy": "2020-12-15T00:12:12.101922Z",
     "iopub.status.idle": "2020-12-15T00:12:12.135904Z",
     "shell.execute_reply": "2020-12-15T00:12:12.135414Z"
    },
    "papermill": {
     "duration": 0.072317,
     "end_time": "2020-12-15T00:12:12.136039",
     "exception": false,
     "start_time": "2020-12-15T00:12:12.063722",
     "status": "completed"
    },
    "tags": []
   },
   "outputs": [],
   "source": [
    "#hide\n",
    "mapping = get_mappings(paths['mapping'])"
   ]
  },
  {
   "cell_type": "code",
   "execution_count": 6,
   "metadata": {
    "execution": {
     "iopub.execute_input": "2020-12-15T00:12:12.202542Z",
     "iopub.status.busy": "2020-12-15T00:12:12.201956Z",
     "iopub.status.idle": "2020-12-15T00:12:12.204157Z",
     "shell.execute_reply": "2020-12-15T00:12:12.203662Z"
    },
    "papermill": {
     "duration": 0.037651,
     "end_time": "2020-12-15T00:12:12.204280",
     "exception": false,
     "start_time": "2020-12-15T00:12:12.166629",
     "status": "completed"
    },
    "tags": []
   },
   "outputs": [],
   "source": [
    "#hide\n",
    "def get_template(path):\n",
    "    from urllib.parse import urlparse\n",
    "    if bool(urlparse(path).netloc):\n",
    "        from urllib.request import urlopen\n",
    "        return urlopen(path).read().decode('utf8')\n",
    "    return open(path).read()"
   ]
  },
  {
   "cell_type": "code",
   "execution_count": 7,
   "metadata": {
    "execution": {
     "iopub.execute_input": "2020-12-15T00:12:12.270947Z",
     "iopub.status.busy": "2020-12-15T00:12:12.270122Z",
     "iopub.status.idle": "2020-12-15T00:12:12.271566Z",
     "shell.execute_reply": "2020-12-15T00:12:12.272024Z"
    },
    "papermill": {
     "duration": 0.037771,
     "end_time": "2020-12-15T00:12:12.272169",
     "exception": false,
     "start_time": "2020-12-15T00:12:12.234398",
     "status": "completed"
    },
    "tags": []
   },
   "outputs": [],
   "source": [
    "#hide\n",
    "def get_frame(name):\n",
    "    url = (\n",
    "        'https://raw.githubusercontent.com/CSSEGISandData/COVID-19/master/csse_covid_19_data/'\n",
    "        f'csse_covid_19_time_series/time_series_covid19_{name}_global.csv')\n",
    "    df = pd.read_csv(url)\n",
    "    # rename countries\n",
    "    df['Country/Region'] = df['Country/Region'].replace(mapping['replace.country'])\n",
    "    return df"
   ]
  },
  {
   "cell_type": "code",
   "execution_count": 8,
   "metadata": {
    "execution": {
     "iopub.execute_input": "2020-12-15T00:12:12.346996Z",
     "iopub.status.busy": "2020-12-15T00:12:12.346354Z",
     "iopub.status.idle": "2020-12-15T00:12:12.347820Z",
     "shell.execute_reply": "2020-12-15T00:12:12.348358Z"
    },
    "papermill": {
     "duration": 0.039334,
     "end_time": "2020-12-15T00:12:12.348500",
     "exception": false,
     "start_time": "2020-12-15T00:12:12.309166",
     "status": "completed"
    },
    "tags": []
   },
   "outputs": [],
   "source": [
    "#hide\n",
    "def get_dates(df):\n",
    "    dt_cols = df.columns[~df.columns.isin(['Province/State', 'Country/Region', 'Lat', 'Long'])]\n",
    "    LAST_DATE_I = -1\n",
    "    # sometimes last column may be empty, then go backwards\n",
    "    for i in range(-1, -len(dt_cols), -1):\n",
    "        if not df[dt_cols[i]].fillna(0).eq(0).all():\n",
    "            LAST_DATE_I = i\n",
    "            break\n",
    "    return LAST_DATE_I, dt_cols"
   ]
  },
  {
   "cell_type": "code",
   "execution_count": 9,
   "metadata": {
    "execution": {
     "iopub.execute_input": "2020-12-15T00:12:12.416970Z",
     "iopub.status.busy": "2020-12-15T00:12:12.416350Z",
     "iopub.status.idle": "2020-12-15T00:12:12.636155Z",
     "shell.execute_reply": "2020-12-15T00:12:12.635280Z"
    },
    "papermill": {
     "duration": 0.25716,
     "end_time": "2020-12-15T00:12:12.636379",
     "exception": false,
     "start_time": "2020-12-15T00:12:12.379219",
     "status": "completed"
    },
    "tags": []
   },
   "outputs": [],
   "source": [
    "#hide\n",
    "COL_REGION = 'Country/Region'\n",
    "# Confirmed, Recovered, Deaths\n",
    "df = get_frame('confirmed')\n",
    "# dft_: timeseries, dfc_: today country agg\n",
    "dft_cases = df\n",
    "dft_deaths = get_frame('deaths')\n",
    "dft_recovered = get_frame('recovered')\n",
    "LAST_DATE_I, dt_cols = get_dates(df)"
   ]
  },
  {
   "cell_type": "code",
   "execution_count": 10,
   "metadata": {
    "execution": {
     "iopub.execute_input": "2020-12-15T00:12:12.709988Z",
     "iopub.status.busy": "2020-12-15T00:12:12.709344Z",
     "iopub.status.idle": "2020-12-15T00:12:12.711655Z",
     "shell.execute_reply": "2020-12-15T00:12:12.711156Z"
    },
    "papermill": {
     "duration": 0.041964,
     "end_time": "2020-12-15T00:12:12.711780",
     "exception": false,
     "start_time": "2020-12-15T00:12:12.669816",
     "status": "completed"
    },
    "tags": []
   },
   "outputs": [],
   "source": [
    "#hide\n",
    "LAST_DATE_I, dt_cols = get_dates(df)\n",
    "dt_today =dt_cols[LAST_DATE_I]\n",
    "# dt_5day = dt_cols[LAST_DATE_I - 5]\n",
    "dt_yday = dt_cols[LAST_DATE_I - 1]"
   ]
  },
  {
   "cell_type": "code",
   "execution_count": 11,
   "metadata": {
    "execution": {
     "iopub.execute_input": "2020-12-15T00:12:12.777394Z",
     "iopub.status.busy": "2020-12-15T00:12:12.776807Z",
     "iopub.status.idle": "2020-12-15T00:12:12.783890Z",
     "shell.execute_reply": "2020-12-15T00:12:12.784388Z"
    },
    "papermill": {
     "duration": 0.042873,
     "end_time": "2020-12-15T00:12:12.784529",
     "exception": false,
     "start_time": "2020-12-15T00:12:12.741656",
     "status": "completed"
    },
    "tags": []
   },
   "outputs": [],
   "source": [
    "#hide\n",
    "dfc_cases = dft_cases.groupby(COL_REGION)[dt_today].sum()\n",
    "dfc_deaths = dft_deaths.groupby(COL_REGION)[dt_today].sum()\n",
    "# dfp_cases = dft_cases.groupby(COL_REGION)[dt_5day].sum()\n",
    "# dfp_deaths = dft_deaths.groupby(COL_REGION)[dt_5day].sum()\n",
    "dfp_cases = dft_cases.groupby(COL_REGION)[dt_yday].sum()\n",
    "dfp_deaths = dft_deaths.groupby(COL_REGION)[dt_yday].sum()"
   ]
  },
  {
   "cell_type": "code",
   "execution_count": 12,
   "metadata": {
    "execution": {
     "iopub.execute_input": "2020-12-15T00:12:12.853515Z",
     "iopub.status.busy": "2020-12-15T00:12:12.852911Z",
     "iopub.status.idle": "2020-12-15T00:12:12.856865Z",
     "shell.execute_reply": "2020-12-15T00:12:12.856368Z"
    },
    "papermill": {
     "duration": 0.042569,
     "end_time": "2020-12-15T00:12:12.856990",
     "exception": false,
     "start_time": "2020-12-15T00:12:12.814421",
     "status": "completed"
    },
    "tags": []
   },
   "outputs": [],
   "source": [
    "#hide\n",
    "df_table = (pd.DataFrame(dict(Cases = dfc_cases, Deaths = dfc_deaths, PCases = dfp_cases, PDeaths = dfp_deaths))\n",
    "            .sort_values(by = ['Cases','Deaths'], ascending = [False, False])\n",
    "            .reset_index())"
   ]
  },
  {
   "cell_type": "code",
   "execution_count": 13,
   "metadata": {
    "execution": {
     "iopub.execute_input": "2020-12-15T00:12:12.935164Z",
     "iopub.status.busy": "2020-12-15T00:12:12.934557Z",
     "iopub.status.idle": "2020-12-15T00:12:12.941597Z",
     "shell.execute_reply": "2020-12-15T00:12:12.942076Z"
    },
    "papermill": {
     "duration": 0.055384,
     "end_time": "2020-12-15T00:12:12.942219",
     "exception": false,
     "start_time": "2020-12-15T00:12:12.886835",
     "status": "completed"
    },
    "tags": []
   },
   "outputs": [
    {
     "data": {
      "text/html": [
       "<div>\n",
       "<style scoped>\n",
       "    .dataframe tbody tr th:only-of-type {\n",
       "        vertical-align: middle;\n",
       "    }\n",
       "\n",
       "    .dataframe tbody tr th {\n",
       "        vertical-align: top;\n",
       "    }\n",
       "\n",
       "    .dataframe thead th {\n",
       "        text-align: right;\n",
       "    }\n",
       "</style>\n",
       "<table border=\"1\" class=\"dataframe\">\n",
       "  <thead>\n",
       "    <tr style=\"text-align: right;\">\n",
       "      <th></th>\n",
       "      <th>Country/Region</th>\n",
       "      <th>Cases</th>\n",
       "      <th>Deaths</th>\n",
       "      <th>PCases</th>\n",
       "      <th>PDeaths</th>\n",
       "      <th>Cases (+)</th>\n",
       "      <th>Deaths (+)</th>\n",
       "      <th>Fatality Rate</th>\n",
       "      <th>Continent</th>\n",
       "    </tr>\n",
       "  </thead>\n",
       "  <tbody>\n",
       "    <tr>\n",
       "      <th>0</th>\n",
       "      <td>US</td>\n",
       "      <td>16253219</td>\n",
       "      <td>299168</td>\n",
       "      <td>16062299</td>\n",
       "      <td>297779</td>\n",
       "      <td>190920</td>\n",
       "      <td>1389</td>\n",
       "      <td>1.84</td>\n",
       "      <td>North America</td>\n",
       "    </tr>\n",
       "    <tr>\n",
       "      <th>1</th>\n",
       "      <td>India</td>\n",
       "      <td>9884100</td>\n",
       "      <td>143355</td>\n",
       "      <td>9857029</td>\n",
       "      <td>143019</td>\n",
       "      <td>27071</td>\n",
       "      <td>336</td>\n",
       "      <td>1.45</td>\n",
       "      <td>Asia</td>\n",
       "    </tr>\n",
       "    <tr>\n",
       "      <th>2</th>\n",
       "      <td>Brazil</td>\n",
       "      <td>6901952</td>\n",
       "      <td>181402</td>\n",
       "      <td>6880127</td>\n",
       "      <td>181123</td>\n",
       "      <td>21825</td>\n",
       "      <td>279</td>\n",
       "      <td>2.63</td>\n",
       "      <td>South America</td>\n",
       "    </tr>\n",
       "    <tr>\n",
       "      <th>3</th>\n",
       "      <td>Russia</td>\n",
       "      <td>2629699</td>\n",
       "      <td>46404</td>\n",
       "      <td>2602048</td>\n",
       "      <td>45923</td>\n",
       "      <td>27651</td>\n",
       "      <td>481</td>\n",
       "      <td>1.76</td>\n",
       "      <td>Europe</td>\n",
       "    </tr>\n",
       "    <tr>\n",
       "      <th>4</th>\n",
       "      <td>France</td>\n",
       "      <td>2430612</td>\n",
       "      <td>58015</td>\n",
       "      <td>2405255</td>\n",
       "      <td>57671</td>\n",
       "      <td>25357</td>\n",
       "      <td>344</td>\n",
       "      <td>2.39</td>\n",
       "      <td>Europe</td>\n",
       "    </tr>\n",
       "  </tbody>\n",
       "</table>\n",
       "</div>"
      ],
      "text/plain": [
       "  Country/Region     Cases  Deaths    PCases  PDeaths  Cases (+)  Deaths (+)  \\\n",
       "0             US  16253219  299168  16062299   297779     190920        1389   \n",
       "1          India   9884100  143355   9857029   143019      27071         336   \n",
       "2         Brazil   6901952  181402   6880127   181123      21825         279   \n",
       "3         Russia   2629699   46404   2602048    45923      27651         481   \n",
       "4         France   2430612   58015   2405255    57671      25357         344   \n",
       "\n",
       "   Fatality Rate      Continent  \n",
       "0           1.84  North America  \n",
       "1           1.45           Asia  \n",
       "2           2.63  South America  \n",
       "3           1.76         Europe  \n",
       "4           2.39         Europe  "
      ]
     },
     "execution_count": 13,
     "metadata": {},
     "output_type": "execute_result"
    }
   ],
   "source": [
    "#hide\n",
    "for c in 'Cases, Deaths'.split(', '):\n",
    "    df_table[f'{c} (+)'] = (df_table[c] - df_table[f'P{c}']).clip(0)\n",
    "    #Clip ça veut dire, les chiffres negatif sont interdit\n",
    "df_table['Fatality Rate'] = (100* df_table['Deaths']/ df_table['Cases']).round(2)\n",
    "df_table['Continent'] = df_table['Country/Region'].map(mapping['map.continent'])\n",
    "df_table.head(5)"
   ]
  },
  {
   "cell_type": "code",
   "execution_count": 14,
   "metadata": {
    "execution": {
     "iopub.execute_input": "2020-12-15T00:12:13.009418Z",
     "iopub.status.busy": "2020-12-15T00:12:13.008871Z",
     "iopub.status.idle": "2020-12-15T00:12:13.011031Z",
     "shell.execute_reply": "2020-12-15T00:12:13.011589Z"
    },
    "papermill": {
     "duration": 0.038864,
     "end_time": "2020-12-15T00:12:13.011731",
     "exception": false,
     "start_time": "2020-12-15T00:12:12.972867",
     "status": "completed"
    },
    "tags": []
   },
   "outputs": [],
   "source": [
    "#hide\n",
    "#delete problematic countries from table\n",
    "df_table = df_table[~df_table['Country/Region'].isin(['Cape Verde', 'Cruise Ship', 'Kosovo'])]"
   ]
  },
  {
   "cell_type": "code",
   "execution_count": 15,
   "metadata": {
    "execution": {
     "iopub.execute_input": "2020-12-15T00:12:13.081249Z",
     "iopub.status.busy": "2020-12-15T00:12:13.080638Z",
     "iopub.status.idle": "2020-12-15T00:12:13.099728Z",
     "shell.execute_reply": "2020-12-15T00:12:13.099251Z"
    },
    "papermill": {
     "duration": 0.057804,
     "end_time": "2020-12-15T00:12:13.099861",
     "exception": false,
     "start_time": "2020-12-15T00:12:13.042057",
     "status": "completed"
    },
    "tags": []
   },
   "outputs": [
    {
     "data": {
      "text/html": [
       "<div>\n",
       "<style scoped>\n",
       "    .dataframe tbody tr th:only-of-type {\n",
       "        vertical-align: middle;\n",
       "    }\n",
       "\n",
       "    .dataframe tbody tr th {\n",
       "        vertical-align: top;\n",
       "    }\n",
       "\n",
       "    .dataframe thead th {\n",
       "        text-align: right;\n",
       "    }\n",
       "</style>\n",
       "<table border=\"1\" class=\"dataframe\">\n",
       "  <thead>\n",
       "    <tr style=\"text-align: right;\">\n",
       "      <th></th>\n",
       "      <th>Country/Region</th>\n",
       "      <th>Cases</th>\n",
       "      <th>Deaths</th>\n",
       "      <th>PCases</th>\n",
       "      <th>PDeaths</th>\n",
       "      <th>Cases (+)</th>\n",
       "      <th>Deaths (+)</th>\n",
       "      <th>Fatality Rate</th>\n",
       "      <th>Continent</th>\n",
       "    </tr>\n",
       "  </thead>\n",
       "  <tbody>\n",
       "    <tr>\n",
       "      <th>0</th>\n",
       "      <td>US</td>\n",
       "      <td>16253219</td>\n",
       "      <td>299168</td>\n",
       "      <td>16062299</td>\n",
       "      <td>297779</td>\n",
       "      <td>190920</td>\n",
       "      <td>1389</td>\n",
       "      <td>1.8</td>\n",
       "      <td>North America</td>\n",
       "    </tr>\n",
       "    <tr>\n",
       "      <th>1</th>\n",
       "      <td>India</td>\n",
       "      <td>9884100</td>\n",
       "      <td>143355</td>\n",
       "      <td>9857029</td>\n",
       "      <td>143019</td>\n",
       "      <td>27071</td>\n",
       "      <td>336</td>\n",
       "      <td>1.5</td>\n",
       "      <td>Asia</td>\n",
       "    </tr>\n",
       "    <tr>\n",
       "      <th>2</th>\n",
       "      <td>Brazil</td>\n",
       "      <td>6901952</td>\n",
       "      <td>181402</td>\n",
       "      <td>6880127</td>\n",
       "      <td>181123</td>\n",
       "      <td>21825</td>\n",
       "      <td>279</td>\n",
       "      <td>2.6</td>\n",
       "      <td>South America</td>\n",
       "    </tr>\n",
       "    <tr>\n",
       "      <th>3</th>\n",
       "      <td>Russia</td>\n",
       "      <td>2629699</td>\n",
       "      <td>46404</td>\n",
       "      <td>2602048</td>\n",
       "      <td>45923</td>\n",
       "      <td>27651</td>\n",
       "      <td>481</td>\n",
       "      <td>1.8</td>\n",
       "      <td>Europe</td>\n",
       "    </tr>\n",
       "    <tr>\n",
       "      <th>4</th>\n",
       "      <td>France</td>\n",
       "      <td>2430612</td>\n",
       "      <td>58015</td>\n",
       "      <td>2405255</td>\n",
       "      <td>57671</td>\n",
       "      <td>25357</td>\n",
       "      <td>344</td>\n",
       "      <td>2.4</td>\n",
       "      <td>Europe</td>\n",
       "    </tr>\n",
       "  </tbody>\n",
       "</table>\n",
       "</div>"
      ],
      "text/plain": [
       "  Country/Region     Cases  Deaths    PCases  PDeaths  Cases (+)  Deaths (+)  \\\n",
       "0             US  16253219  299168  16062299   297779     190920        1389   \n",
       "1          India   9884100  143355   9857029   143019      27071         336   \n",
       "2         Brazil   6901952  181402   6880127   181123      21825         279   \n",
       "3         Russia   2629699   46404   2602048    45923      27651         481   \n",
       "4         France   2430612   58015   2405255    57671      25357         344   \n",
       "\n",
       "   Fatality Rate      Continent  \n",
       "0            1.8  North America  \n",
       "1            1.5           Asia  \n",
       "2            2.6  South America  \n",
       "3            1.8         Europe  \n",
       "4            2.4         Europe  "
      ]
     },
     "execution_count": 15,
     "metadata": {},
     "output_type": "execute_result"
    }
   ],
   "source": [
    "#hide\n",
    "df_table = (pd.DataFrame(dict(Cases=dfc_cases, Deaths=dfc_deaths, PCases=dfp_cases, PDeaths=dfp_deaths))\n",
    "             .sort_values(by=['Cases', 'Deaths'], ascending=[False, False])\n",
    "             .reset_index())\n",
    "df_table.rename(columns={'index': 'Country/Region'}, inplace=True)\n",
    "for c in 'Cases, Deaths'.split(', '):\n",
    "    df_table[f'{c} (+)'] = (df_table[c] - df_table[f'P{c}']).clip(0)  # DATA BUG\n",
    "df_table['Fatality Rate'] = (100 * df_table['Deaths'] / df_table['Cases']).round(1)\n",
    "df_table['Continent'] = df_table['Country/Region'].map(mapping['map.continent'])\n",
    "df_table.head(5)"
   ]
  },
  {
   "cell_type": "code",
   "execution_count": 16,
   "metadata": {
    "execution": {
     "iopub.execute_input": "2020-12-15T00:12:13.168113Z",
     "iopub.status.busy": "2020-12-15T00:12:13.167521Z",
     "iopub.status.idle": "2020-12-15T00:12:13.170165Z",
     "shell.execute_reply": "2020-12-15T00:12:13.169668Z"
    },
    "papermill": {
     "duration": 0.039373,
     "end_time": "2020-12-15T00:12:13.170291",
     "exception": false,
     "start_time": "2020-12-15T00:12:13.130918",
     "status": "completed"
    },
    "tags": []
   },
   "outputs": [],
   "source": [
    "#hide\n",
    "#delete problematic countries from table\n",
    "df_table = df_table[~df_table['Country/Region'].isin(['Cape Verde', 'Cruise Ship', 'Kosovo'])]"
   ]
  },
  {
   "cell_type": "code",
   "execution_count": 17,
   "metadata": {
    "execution": {
     "iopub.execute_input": "2020-12-15T00:12:13.235659Z",
     "iopub.status.busy": "2020-12-15T00:12:13.235052Z",
     "iopub.status.idle": "2020-12-15T00:12:13.253680Z",
     "shell.execute_reply": "2020-12-15T00:12:13.254419Z"
    },
    "papermill": {
     "duration": 0.053513,
     "end_time": "2020-12-15T00:12:13.254648",
     "exception": false,
     "start_time": "2020-12-15T00:12:13.201135",
     "status": "completed"
    },
    "tags": []
   },
   "outputs": [],
   "source": [
    "#hide\n",
    "metrics = [df_table.columns[index] for index in [1,2,5,6]]\n",
    "# s_china = df_table[df_table['Country/Region'].eq('China')][metrics].sum().add_prefix('China ')\n",
    "s_us = df_table[df_table['Country/Region'].eq('US')][metrics].sum().add_prefix('US ')\n",
    "s_eu = df_table[df_table['Continent'].eq('Europe')][metrics].sum().add_prefix('EU ')\n",
    "s_ind = df_table[df_table['Country/Region'].eq('India')][metrics].sum().add_prefix('India ')\n",
    "summary = {'updated': pd.to_datetime(dt_today), 'since': pd.to_datetime(dt_yday)}\n",
    "summary = {'updated': pd.to_datetime(dt_today), 'since': pd.to_datetime(dt_yday)}\n",
    "summary = {**summary, **df_table[metrics].sum(), **s_ind, **s_us, **s_eu}"
   ]
  },
  {
   "cell_type": "code",
   "execution_count": 18,
   "metadata": {
    "execution": {
     "iopub.execute_input": "2020-12-15T00:12:13.327060Z",
     "iopub.status.busy": "2020-12-15T00:12:13.326448Z",
     "iopub.status.idle": "2020-12-15T00:12:13.335900Z",
     "shell.execute_reply": "2020-12-15T00:12:13.336368Z"
    },
    "papermill": {
     "duration": 0.048192,
     "end_time": "2020-12-15T00:12:13.336527",
     "exception": false,
     "start_time": "2020-12-15T00:12:13.288335",
     "status": "completed"
    },
    "tags": []
   },
   "outputs": [],
   "source": [
    "#hide\n",
    "dft_ct_new_cases = dft_cases.groupby(COL_REGION)[dt_cols].sum().diff(axis=1).fillna(0).astype(int)"
   ]
  },
  {
   "cell_type": "code",
   "execution_count": 19,
   "metadata": {
    "execution": {
     "iopub.execute_input": "2020-12-15T00:12:13.408143Z",
     "iopub.status.busy": "2020-12-15T00:12:13.407517Z",
     "iopub.status.idle": "2020-12-15T00:12:13.411577Z",
     "shell.execute_reply": "2020-12-15T00:12:13.411003Z"
    },
    "papermill": {
     "duration": 0.043613,
     "end_time": "2020-12-15T00:12:13.411709",
     "exception": false,
     "start_time": "2020-12-15T00:12:13.368096",
     "status": "completed"
    },
    "tags": []
   },
   "outputs": [],
   "source": [
    "#hide\n",
    "everydaycases = dft_ct_new_cases.cumsum(axis=1)"
   ]
  },
  {
   "cell_type": "code",
   "execution_count": 20,
   "metadata": {
    "execution": {
     "iopub.execute_input": "2020-12-15T00:12:13.487044Z",
     "iopub.status.busy": "2020-12-15T00:12:13.486427Z",
     "iopub.status.idle": "2020-12-15T00:12:15.870538Z",
     "shell.execute_reply": "2020-12-15T00:12:15.870015Z"
    },
    "papermill": {
     "duration": 2.419289,
     "end_time": "2020-12-15T00:12:15.870677",
     "exception": false,
     "start_time": "2020-12-15T00:12:13.451388",
     "status": "completed"
    },
    "tags": []
   },
   "outputs": [],
   "source": [
    "#hide\n",
    "import pandas as pd\n",
    "import matplotlib.pyplot as plt\n",
    "import matplotlib.ticker as ticker\n",
    "import matplotlib.animation as animation\n",
    "from IPython.display import HTML"
   ]
  },
  {
   "cell_type": "code",
   "execution_count": 21,
   "metadata": {
    "execution": {
     "iopub.execute_input": "2020-12-15T00:12:15.939807Z",
     "iopub.status.busy": "2020-12-15T00:12:15.939075Z",
     "iopub.status.idle": "2020-12-15T00:12:15.944180Z",
     "shell.execute_reply": "2020-12-15T00:12:15.943608Z"
    },
    "papermill": {
     "duration": 0.041981,
     "end_time": "2020-12-15T00:12:15.944312",
     "exception": false,
     "start_time": "2020-12-15T00:12:15.902331",
     "status": "completed"
    },
    "tags": []
   },
   "outputs": [],
   "source": [
    "#hide\n",
    "t = everydaycases.stack()"
   ]
  },
  {
   "cell_type": "code",
   "execution_count": 22,
   "metadata": {
    "execution": {
     "iopub.execute_input": "2020-12-15T00:12:16.011907Z",
     "iopub.status.busy": "2020-12-15T00:12:16.011332Z",
     "iopub.status.idle": "2020-12-15T00:12:16.019208Z",
     "shell.execute_reply": "2020-12-15T00:12:16.017671Z"
    },
    "papermill": {
     "duration": 0.043419,
     "end_time": "2020-12-15T00:12:16.019345",
     "exception": false,
     "start_time": "2020-12-15T00:12:15.975926",
     "status": "completed"
    },
    "tags": []
   },
   "outputs": [],
   "source": [
    "#hide\n",
    "g = t.reset_index(['Country/Region'])"
   ]
  },
  {
   "cell_type": "code",
   "execution_count": 23,
   "metadata": {
    "execution": {
     "iopub.execute_input": "2020-12-15T00:12:16.089968Z",
     "iopub.status.busy": "2020-12-15T00:12:16.089148Z",
     "iopub.status.idle": "2020-12-15T00:12:16.093539Z",
     "shell.execute_reply": "2020-12-15T00:12:16.094005Z"
    },
    "papermill": {
     "duration": 0.041875,
     "end_time": "2020-12-15T00:12:16.094158",
     "exception": false,
     "start_time": "2020-12-15T00:12:16.052283",
     "status": "completed"
    },
    "tags": []
   },
   "outputs": [],
   "source": [
    "#hide\n",
    "g.index.name = 'date'"
   ]
  },
  {
   "cell_type": "code",
   "execution_count": 24,
   "metadata": {
    "execution": {
     "iopub.execute_input": "2020-12-15T00:12:16.160500Z",
     "iopub.status.busy": "2020-12-15T00:12:16.159230Z",
     "iopub.status.idle": "2020-12-15T00:12:16.161150Z",
     "shell.execute_reply": "2020-12-15T00:12:16.161610Z"
    },
    "papermill": {
     "duration": 0.036799,
     "end_time": "2020-12-15T00:12:16.161750",
     "exception": false,
     "start_time": "2020-12-15T00:12:16.124951",
     "status": "completed"
    },
    "tags": []
   },
   "outputs": [],
   "source": [
    "# #hide\n",
    "# g = g.reset_index(['date'])"
   ]
  },
  {
   "cell_type": "code",
   "execution_count": 25,
   "metadata": {
    "execution": {
     "iopub.execute_input": "2020-12-15T00:12:16.226920Z",
     "iopub.status.busy": "2020-12-15T00:12:16.225694Z",
     "iopub.status.idle": "2020-12-15T00:12:16.227577Z",
     "shell.execute_reply": "2020-12-15T00:12:16.228048Z"
    },
    "papermill": {
     "duration": 0.035959,
     "end_time": "2020-12-15T00:12:16.228180",
     "exception": false,
     "start_time": "2020-12-15T00:12:16.192221",
     "status": "completed"
    },
    "tags": []
   },
   "outputs": [],
   "source": [
    "#hide\n",
    "# g.head()"
   ]
  },
  {
   "cell_type": "code",
   "execution_count": 26,
   "metadata": {
    "execution": {
     "iopub.execute_input": "2020-12-15T00:12:16.293084Z",
     "iopub.status.busy": "2020-12-15T00:12:16.292492Z",
     "iopub.status.idle": "2020-12-15T00:12:16.296937Z",
     "shell.execute_reply": "2020-12-15T00:12:16.296455Z"
    },
    "papermill": {
     "duration": 0.038626,
     "end_time": "2020-12-15T00:12:16.297066",
     "exception": false,
     "start_time": "2020-12-15T00:12:16.258440",
     "status": "completed"
    },
    "tags": []
   },
   "outputs": [],
   "source": [
    "#hide\n",
    "# g.columns = ['date','country','cases']"
   ]
  },
  {
   "cell_type": "code",
   "execution_count": 27,
   "metadata": {
    "execution": {
     "iopub.execute_input": "2020-12-15T00:12:16.575403Z",
     "iopub.status.busy": "2020-12-15T00:12:16.574770Z",
     "iopub.status.idle": "2020-12-15T00:12:16.577064Z",
     "shell.execute_reply": "2020-12-15T00:12:16.576474Z"
    },
    "papermill": {
     "duration": 0.249399,
     "end_time": "2020-12-15T00:12:16.577194",
     "exception": false,
     "start_time": "2020-12-15T00:12:16.327795",
     "status": "completed"
    },
    "tags": []
   },
   "outputs": [],
   "source": [
    "#hide\n",
    "# g['continent'] = g.country"
   ]
  },
  {
   "cell_type": "code",
   "execution_count": 28,
   "metadata": {
    "execution": {
     "iopub.execute_input": "2020-12-15T00:12:16.663681Z",
     "iopub.status.busy": "2020-12-15T00:12:16.662994Z",
     "iopub.status.idle": "2020-12-15T00:12:16.666933Z",
     "shell.execute_reply": "2020-12-15T00:12:16.666409Z"
    },
    "papermill": {
     "duration": 0.054758,
     "end_time": "2020-12-15T00:12:16.667060",
     "exception": false,
     "start_time": "2020-12-15T00:12:16.612302",
     "status": "completed"
    },
    "tags": []
   },
   "outputs": [],
   "source": [
    "#hide\n",
    "# cols = list(g.columns.values)"
   ]
  },
  {
   "cell_type": "code",
   "execution_count": 29,
   "metadata": {
    "execution": {
     "iopub.execute_input": "2020-12-15T00:12:16.771379Z",
     "iopub.status.busy": "2020-12-15T00:12:16.770640Z",
     "iopub.status.idle": "2020-12-15T00:12:16.775025Z",
     "shell.execute_reply": "2020-12-15T00:12:16.774475Z"
    },
    "papermill": {
     "duration": 0.065327,
     "end_time": "2020-12-15T00:12:16.775161",
     "exception": false,
     "start_time": "2020-12-15T00:12:16.709834",
     "status": "completed"
    },
    "tags": []
   },
   "outputs": [],
   "source": [
    "#hide\n",
    "# cols.insert(0, cols.pop())"
   ]
  },
  {
   "cell_type": "code",
   "execution_count": 30,
   "metadata": {
    "execution": {
     "iopub.execute_input": "2020-12-15T00:12:16.867151Z",
     "iopub.status.busy": "2020-12-15T00:12:16.866371Z",
     "iopub.status.idle": "2020-12-15T00:12:16.869912Z",
     "shell.execute_reply": "2020-12-15T00:12:16.869292Z"
    },
    "papermill": {
     "duration": 0.053242,
     "end_time": "2020-12-15T00:12:16.870039",
     "exception": false,
     "start_time": "2020-12-15T00:12:16.816797",
     "status": "completed"
    },
    "tags": []
   },
   "outputs": [],
   "source": [
    "#hide\n",
    "# g = g[cols]"
   ]
  },
  {
   "cell_type": "code",
   "execution_count": 31,
   "metadata": {
    "execution": {
     "iopub.execute_input": "2020-12-15T00:12:16.960914Z",
     "iopub.status.busy": "2020-12-15T00:12:16.960299Z",
     "iopub.status.idle": "2020-12-15T00:12:16.962628Z",
     "shell.execute_reply": "2020-12-15T00:12:16.962155Z"
    },
    "papermill": {
     "duration": 0.052161,
     "end_time": "2020-12-15T00:12:16.962775",
     "exception": false,
     "start_time": "2020-12-15T00:12:16.910614",
     "status": "completed"
    },
    "tags": []
   },
   "outputs": [],
   "source": [
    "#hide\n",
    "# g['continent'] = g['continent'].map(mapping['map.continent'])"
   ]
  },
  {
   "cell_type": "code",
   "execution_count": 32,
   "metadata": {
    "execution": {
     "iopub.execute_input": "2020-12-15T00:12:17.164295Z",
     "iopub.status.busy": "2020-12-15T00:12:17.163677Z",
     "iopub.status.idle": "2020-12-15T00:12:17.165474Z",
     "shell.execute_reply": "2020-12-15T00:12:17.165924Z"
    },
    "papermill": {
     "duration": 0.086949,
     "end_time": "2020-12-15T00:12:17.166075",
     "exception": false,
     "start_time": "2020-12-15T00:12:17.079126",
     "status": "completed"
    },
    "tags": []
   },
   "outputs": [],
   "source": [
    "#hide\n",
    "# g.head()"
   ]
  },
  {
   "cell_type": "code",
   "execution_count": 33,
   "metadata": {
    "execution": {
     "iopub.execute_input": "2020-12-15T00:12:17.231966Z",
     "iopub.status.busy": "2020-12-15T00:12:17.231382Z",
     "iopub.status.idle": "2020-12-15T00:12:17.233496Z",
     "shell.execute_reply": "2020-12-15T00:12:17.234000Z"
    },
    "papermill": {
     "duration": 0.037152,
     "end_time": "2020-12-15T00:12:17.234135",
     "exception": false,
     "start_time": "2020-12-15T00:12:17.196983",
     "status": "completed"
    },
    "tags": []
   },
   "outputs": [],
   "source": [
    "# hide\n",
    "# g['date'] = g['date'].astype('datetime64[ns]')"
   ]
  },
  {
   "cell_type": "code",
   "execution_count": 34,
   "metadata": {
    "execution": {
     "iopub.execute_input": "2020-12-15T00:12:17.298671Z",
     "iopub.status.busy": "2020-12-15T00:12:17.298081Z",
     "iopub.status.idle": "2020-12-15T00:12:17.300558Z",
     "shell.execute_reply": "2020-12-15T00:12:17.300088Z"
    },
    "papermill": {
     "duration": 0.036425,
     "end_time": "2020-12-15T00:12:17.300682",
     "exception": false,
     "start_time": "2020-12-15T00:12:17.264257",
     "status": "completed"
    },
    "tags": []
   },
   "outputs": [],
   "source": [
    "#hide\n",
    "# g['date'] = g.date.dt.dayofyear"
   ]
  },
  {
   "cell_type": "code",
   "execution_count": 35,
   "metadata": {
    "execution": {
     "iopub.execute_input": "2020-12-15T00:12:17.365971Z",
     "iopub.status.busy": "2020-12-15T00:12:17.365382Z",
     "iopub.status.idle": "2020-12-15T00:12:17.367143Z",
     "shell.execute_reply": "2020-12-15T00:12:17.367641Z"
    },
    "papermill": {
     "duration": 0.036473,
     "end_time": "2020-12-15T00:12:17.367780",
     "exception": false,
     "start_time": "2020-12-15T00:12:17.331307",
     "status": "completed"
    },
    "tags": []
   },
   "outputs": [],
   "source": [
    "#hide\n",
    "# g = g.rename(columns= {'continent':'group','country':'name','cases':'value'})"
   ]
  },
  {
   "cell_type": "code",
   "execution_count": 36,
   "metadata": {
    "execution": {
     "iopub.execute_input": "2020-12-15T00:12:17.432669Z",
     "iopub.status.busy": "2020-12-15T00:12:17.432092Z",
     "iopub.status.idle": "2020-12-15T00:12:17.434255Z",
     "shell.execute_reply": "2020-12-15T00:12:17.434821Z"
    },
    "papermill": {
     "duration": 0.037049,
     "end_time": "2020-12-15T00:12:17.434957",
     "exception": false,
     "start_time": "2020-12-15T00:12:17.397908",
     "status": "completed"
    },
    "tags": []
   },
   "outputs": [],
   "source": [
    "#hide\n",
    "# cols = ['name','group','day','value']"
   ]
  },
  {
   "cell_type": "code",
   "execution_count": 37,
   "metadata": {
    "execution": {
     "iopub.execute_input": "2020-12-15T00:12:17.499382Z",
     "iopub.status.busy": "2020-12-15T00:12:17.498799Z",
     "iopub.status.idle": "2020-12-15T00:12:17.501020Z",
     "shell.execute_reply": "2020-12-15T00:12:17.500496Z"
    },
    "papermill": {
     "duration": 0.036569,
     "end_time": "2020-12-15T00:12:17.501131",
     "exception": false,
     "start_time": "2020-12-15T00:12:17.464562",
     "status": "completed"
    },
    "tags": []
   },
   "outputs": [],
   "source": [
    "#hide\n",
    "# g.rename(columns= {'date':'day'},inplace = True)"
   ]
  },
  {
   "cell_type": "code",
   "execution_count": 38,
   "metadata": {
    "execution": {
     "iopub.execute_input": "2020-12-15T00:12:17.565640Z",
     "iopub.status.busy": "2020-12-15T00:12:17.565047Z",
     "iopub.status.idle": "2020-12-15T00:12:17.567315Z",
     "shell.execute_reply": "2020-12-15T00:12:17.566813Z"
    },
    "papermill": {
     "duration": 0.03587,
     "end_time": "2020-12-15T00:12:17.567442",
     "exception": false,
     "start_time": "2020-12-15T00:12:17.531572",
     "status": "completed"
    },
    "tags": []
   },
   "outputs": [],
   "source": [
    "#hide\n",
    "# g = g[cols]"
   ]
  },
  {
   "cell_type": "code",
   "execution_count": 39,
   "metadata": {
    "execution": {
     "iopub.execute_input": "2020-12-15T00:12:17.633347Z",
     "iopub.status.busy": "2020-12-15T00:12:17.632757Z",
     "iopub.status.idle": "2020-12-15T00:12:17.635151Z",
     "shell.execute_reply": "2020-12-15T00:12:17.635707Z"
    },
    "papermill": {
     "duration": 0.037808,
     "end_time": "2020-12-15T00:12:17.635849",
     "exception": false,
     "start_time": "2020-12-15T00:12:17.598041",
     "status": "completed"
    },
    "tags": []
   },
   "outputs": [],
   "source": [
    "# #hide\n",
    "# g = g[g.group.notna()]"
   ]
  },
  {
   "cell_type": "code",
   "execution_count": 40,
   "metadata": {
    "execution": {
     "iopub.execute_input": "2020-12-15T00:12:17.700522Z",
     "iopub.status.busy": "2020-12-15T00:12:17.699907Z",
     "iopub.status.idle": "2020-12-15T00:12:17.702357Z",
     "shell.execute_reply": "2020-12-15T00:12:17.701889Z"
    },
    "papermill": {
     "duration": 0.036193,
     "end_time": "2020-12-15T00:12:17.702482",
     "exception": false,
     "start_time": "2020-12-15T00:12:17.666289",
     "status": "completed"
    },
    "tags": []
   },
   "outputs": [],
   "source": [
    "# #hide\n",
    "# colors = dict(zip(\n",
    "#     [\"Oceania\", \"Europe\", \"Asia\", \"South America\", \"Middle East\", \"North America\", \"Africa\"],\n",
    "#     [\"#adb0ff\", \"#ffb3ff\", \"#90d595\", \"#e48381\", \"#aafbff\", \"#f7bb5f\", \"#eafb50\"]\n",
    "# ))\n",
    "# group_lk = g.set_index('name')['group'].to_dict()"
   ]
  },
  {
   "cell_type": "code",
   "execution_count": null,
   "metadata": {
    "papermill": {
     "duration": 0.030106,
     "end_time": "2020-12-15T00:12:17.762820",
     "exception": false,
     "start_time": "2020-12-15T00:12:17.732714",
     "status": "completed"
    },
    "tags": []
   },
   "outputs": [],
   "source": []
  },
  {
   "cell_type": "code",
   "execution_count": 41,
   "metadata": {
    "execution": {
     "iopub.execute_input": "2020-12-15T00:12:17.827601Z",
     "iopub.status.busy": "2020-12-15T00:12:17.827001Z",
     "iopub.status.idle": "2020-12-15T00:12:17.828728Z",
     "shell.execute_reply": "2020-12-15T00:12:17.829222Z"
    },
    "papermill": {
     "duration": 0.036465,
     "end_time": "2020-12-15T00:12:17.829364",
     "exception": false,
     "start_time": "2020-12-15T00:12:17.792899",
     "status": "completed"
    },
    "tags": []
   },
   "outputs": [],
   "source": [
    "# #hide\n",
    "# fig, ax = plt.subplots(figsize=(15, 8))\n",
    "\n",
    "# def draw_barchart(current_day):\n",
    "#     dff = g[g['day'].eq(current_day)].sort_values(by='value', ascending=True).tail(10)\n",
    "#     ax.clear()\n",
    "#     ax.barh(dff['name'], dff['value'], color=[colors[group_lk[x]] for x in dff['name']])\n",
    "#     dx = dff['value'].max() / 200\n",
    "    \n",
    "#     for i, (value, name) in enumerate(zip(dff['value'], dff['name'])):\n",
    "#         ax.text(value-dx, i,     name,           size=14, weight=600, ha='right', va='bottom')\n",
    "#         ax.text(value-dx, i-.25, group_lk[name], size=10, color='#444444', ha='right', va='baseline')\n",
    "#         ax.text(value+dx, i,     f'{value:,.0f}',  size=14, ha='left',  va='center')\n",
    "#     ax.text(1, 0.4, current_day, transform=ax.transAxes, color='#777777', size=46, ha='right', weight=800)\n",
    "#     ax.text(0, 1.06, 'Population (thousands)', transform=ax.transAxes, size=12, color='#777777')\n",
    "#     ax.xaxis.set_major_formatter(ticker.StrMethodFormatter('{x:,.0f}'))\n",
    "#     ax.xaxis.set_ticks_position('top')\n",
    "#     ax.tick_params(axis='x', colors='#777777', labelsize=12)\n",
    "#     ax.set_yticks([])\n",
    "#     ax.margins(0, 0.01)\n",
    "#     ax.grid(which='major', axis='x', linestyle='-')\n",
    "#     ax.set_axisbelow(True)\n",
    "    \n",
    "#     ax.text(0, 1.15, 'Coronavirus',\n",
    "#             transform=ax.transAxes, size=24, weight=600, ha='left', va='top')\n",
    "# #     ax.text(1, 0, 'by @pratapvardhan; credit @jburnmurdoch', transform=ax.transAxes, color='#777777', ha='right',\n",
    "# #             bbox=dict(facecolor='white', alpha=0.8, edgecolor='white'))\n",
    "#     plt.box(False)"
   ]
  },
  {
   "cell_type": "code",
   "execution_count": 42,
   "metadata": {
    "execution": {
     "iopub.execute_input": "2020-12-15T00:12:17.892287Z",
     "iopub.status.busy": "2020-12-15T00:12:17.891584Z",
     "iopub.status.idle": "2020-12-15T00:12:17.894564Z",
     "shell.execute_reply": "2020-12-15T00:12:17.895036Z"
    },
    "papermill": {
     "duration": 0.036541,
     "end_time": "2020-12-15T00:12:17.895183",
     "exception": false,
     "start_time": "2020-12-15T00:12:17.858642",
     "status": "completed"
    },
    "tags": []
   },
   "outputs": [],
   "source": [
    "# #hide_input\n",
    "# fig, ax = plt.subplots(figsize=(15, 8))\n",
    "# animator = animation.FuncAnimation(fig, draw_barchart, frames=range(g.day.values.min(), g.day.values.max()))\n",
    "# HTML(animator.to_jshtml())\n",
    "# # or use animator.to_html5_video() or animator.save() "
   ]
  },
  {
   "cell_type": "code",
   "execution_count": null,
   "metadata": {
    "papermill": {
     "duration": 0.030479,
     "end_time": "2020-12-15T00:12:17.956268",
     "exception": false,
     "start_time": "2020-12-15T00:12:17.925789",
     "status": "completed"
    },
    "tags": []
   },
   "outputs": [],
   "source": []
  },
  {
   "cell_type": "code",
   "execution_count": null,
   "metadata": {
    "papermill": {
     "duration": 0.030459,
     "end_time": "2020-12-15T00:12:18.017570",
     "exception": false,
     "start_time": "2020-12-15T00:12:17.987111",
     "status": "completed"
    },
    "tags": []
   },
   "outputs": [],
   "source": []
  },
  {
   "cell_type": "code",
   "execution_count": null,
   "metadata": {
    "papermill": {
     "duration": 0.030817,
     "end_time": "2020-12-15T00:12:18.078928",
     "exception": false,
     "start_time": "2020-12-15T00:12:18.048111",
     "status": "completed"
    },
    "tags": []
   },
   "outputs": [],
   "source": []
  }
 ],
 "metadata": {
  "kernelspec": {
   "display_name": "Python 3",
   "language": "python",
   "name": "python3"
  },
  "language_info": {
   "codemirror_mode": {
    "name": "ipython",
    "version": 3
   },
   "file_extension": ".py",
   "mimetype": "text/x-python",
   "name": "python",
   "nbconvert_exporter": "python",
   "pygments_lexer": "ipython3",
   "version": "3.6.12"
  },
  "papermill": {
   "duration": 9.3635,
   "end_time": "2020-12-15T00:12:19.414688",
   "environment_variables": {},
   "exception": null,
   "input_path": "2020-03-21-covid19exp.ipynb",
   "output_path": "2020-03-21-covid19exp.ipynb",
   "parameters": {},
   "start_time": "2020-12-15T00:12:10.051188",
   "version": "2.0.0"
  }
 },
 "nbformat": 4,
 "nbformat_minor": 4
}