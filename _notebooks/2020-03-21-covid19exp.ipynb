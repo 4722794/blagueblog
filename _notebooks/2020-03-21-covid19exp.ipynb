{
 "cells": [
  {
   "cell_type": "markdown",
   "id": "muslim-click",
   "metadata": {
    "papermill": {
     "duration": 0.037889,
     "end_time": "2022-03-29T00:39:37.958167",
     "exception": false,
     "start_time": "2022-03-29T00:39:37.920278",
     "status": "completed"
    },
    "tags": []
   },
   "source": [
    "# COVID-19 Case Race\n",
    "> A race chart to see rising cases around the world\n",
    "\n",
    "- author: Hargun Oberoi\n",
    "- image: images/covid-overview.png\n",
    "- hide: false\n",
    "- badges: false"
   ]
  },
  {
   "cell_type": "code",
   "execution_count": 1,
   "id": "proof-material",
   "metadata": {
    "execution": {
     "iopub.execute_input": "2022-03-29T00:39:38.044716Z",
     "iopub.status.busy": "2022-03-29T00:39:38.044025Z",
     "iopub.status.idle": "2022-03-29T00:39:38.418717Z",
     "shell.execute_reply": "2022-03-29T00:39:38.417539Z"
    },
    "papermill": {
     "duration": 0.422957,
     "end_time": "2022-03-29T00:39:38.418883",
     "exception": false,
     "start_time": "2022-03-29T00:39:37.995926",
     "status": "completed"
    },
    "tags": []
   },
   "outputs": [],
   "source": [
    "#hide\n",
    "import numpy as np\n",
    "import pandas as pd\n",
    "from jinja2 import Template\n",
    "from IPython.display import HTML"
   ]
  },
  {
   "cell_type": "code",
   "execution_count": 2,
   "id": "developed-terminology",
   "metadata": {
    "execution": {
     "iopub.execute_input": "2022-03-29T00:39:38.497599Z",
     "iopub.status.busy": "2022-03-29T00:39:38.497044Z",
     "iopub.status.idle": "2022-03-29T00:39:38.499880Z",
     "shell.execute_reply": "2022-03-29T00:39:38.499344Z"
    },
    "papermill": {
     "duration": 0.045396,
     "end_time": "2022-03-29T00:39:38.499981",
     "exception": false,
     "start_time": "2022-03-29T00:39:38.454585",
     "status": "completed"
    },
    "tags": []
   },
   "outputs": [],
   "source": [
    "#hide\n",
    "\n",
    "# FETCH\n",
    "base_url = 'https://raw.githubusercontent.com/pratapvardhan/notebooks/master/covid19/'\n",
    "paths = {\n",
    "    'mapping': base_url + 'mapping_countries.csv',\n",
    "    'overview': base_url + 'overview.tpl'\n",
    "}"
   ]
  },
  {
   "cell_type": "code",
   "execution_count": 3,
   "id": "dynamic-saver",
   "metadata": {
    "execution": {
     "iopub.execute_input": "2022-03-29T00:39:38.582187Z",
     "iopub.status.busy": "2022-03-29T00:39:38.581288Z",
     "iopub.status.idle": "2022-03-29T00:39:38.584622Z",
     "shell.execute_reply": "2022-03-29T00:39:38.585365Z"
    },
    "papermill": {
     "duration": 0.049229,
     "end_time": "2022-03-29T00:39:38.585498",
     "exception": false,
     "start_time": "2022-03-29T00:39:38.536269",
     "status": "completed"
    },
    "tags": []
   },
   "outputs": [
    {
     "data": {
      "text/plain": [
       "'https://raw.githubusercontent.com/pratapvardhan/notebooks/master/covid19/mapping_countries.csv'"
      ]
     },
     "execution_count": 3,
     "metadata": {},
     "output_type": "execute_result"
    }
   ],
   "source": [
    "#hide\n",
    "paths['mapping']"
   ]
  },
  {
   "cell_type": "code",
   "execution_count": 4,
   "id": "urban-software",
   "metadata": {
    "execution": {
     "iopub.execute_input": "2022-03-29T00:39:38.663422Z",
     "iopub.status.busy": "2022-03-29T00:39:38.662767Z",
     "iopub.status.idle": "2022-03-29T00:39:38.666015Z",
     "shell.execute_reply": "2022-03-29T00:39:38.665228Z"
    },
    "papermill": {
     "duration": 0.045248,
     "end_time": "2022-03-29T00:39:38.666146",
     "exception": false,
     "start_time": "2022-03-29T00:39:38.620898",
     "status": "completed"
    },
    "tags": []
   },
   "outputs": [],
   "source": [
    "#hide\n",
    "def get_mappings(url):\n",
    "    df = pd.read_csv(url)\n",
    "    return {\n",
    "        'df': df,\n",
    "        'replace.country': dict(df.dropna(subset=['Name']).set_index('Country')['Name']),\n",
    "        'map.continent': dict(df.set_index('Name')['Continent'])\n",
    "    }"
   ]
  },
  {
   "cell_type": "code",
   "execution_count": 5,
   "id": "intimate-machinery",
   "metadata": {
    "execution": {
     "iopub.execute_input": "2022-03-29T00:39:38.748760Z",
     "iopub.status.busy": "2022-03-29T00:39:38.747966Z",
     "iopub.status.idle": "2022-03-29T00:39:38.778576Z",
     "shell.execute_reply": "2022-03-29T00:39:38.779106Z"
    },
    "papermill": {
     "duration": 0.074291,
     "end_time": "2022-03-29T00:39:38.779231",
     "exception": false,
     "start_time": "2022-03-29T00:39:38.704940",
     "status": "completed"
    },
    "tags": []
   },
   "outputs": [],
   "source": [
    "#hide\n",
    "mapping = get_mappings(paths['mapping'])"
   ]
  },
  {
   "cell_type": "code",
   "execution_count": 6,
   "id": "certified-tactics",
   "metadata": {
    "execution": {
     "iopub.execute_input": "2022-03-29T00:39:38.859464Z",
     "iopub.status.busy": "2022-03-29T00:39:38.858896Z",
     "iopub.status.idle": "2022-03-29T00:39:38.861192Z",
     "shell.execute_reply": "2022-03-29T00:39:38.860733Z"
    },
    "papermill": {
     "duration": 0.043327,
     "end_time": "2022-03-29T00:39:38.861302",
     "exception": false,
     "start_time": "2022-03-29T00:39:38.817975",
     "status": "completed"
    },
    "tags": []
   },
   "outputs": [],
   "source": [
    "#hide\n",
    "def get_template(path):\n",
    "    from urllib.parse import urlparse\n",
    "    if bool(urlparse(path).netloc):\n",
    "        from urllib.request import urlopen\n",
    "        return urlopen(path).read().decode('utf8')\n",
    "    return open(path).read()"
   ]
  },
  {
   "cell_type": "code",
   "execution_count": 7,
   "id": "realistic-blast",
   "metadata": {
    "execution": {
     "iopub.execute_input": "2022-03-29T00:39:38.935771Z",
     "iopub.status.busy": "2022-03-29T00:39:38.935172Z",
     "iopub.status.idle": "2022-03-29T00:39:38.938971Z",
     "shell.execute_reply": "2022-03-29T00:39:38.939432Z"
    },
    "papermill": {
     "duration": 0.04676,
     "end_time": "2022-03-29T00:39:38.939562",
     "exception": false,
     "start_time": "2022-03-29T00:39:38.892802",
     "status": "completed"
    },
    "tags": []
   },
   "outputs": [],
   "source": [
    "#hide\n",
    "def get_frame(name):\n",
    "    url = (\n",
    "        'https://raw.githubusercontent.com/CSSEGISandData/COVID-19/master/csse_covid_19_data/'\n",
    "        f'csse_covid_19_time_series/time_series_covid19_{name}_global.csv')\n",
    "    df = pd.read_csv(url)\n",
    "    # rename countries\n",
    "    df['Country/Region'] = df['Country/Region'].replace(mapping['replace.country'])\n",
    "    return df"
   ]
  },
  {
   "cell_type": "code",
   "execution_count": 8,
   "id": "affiliated-characterization",
   "metadata": {
    "execution": {
     "iopub.execute_input": "2022-03-29T00:39:39.020195Z",
     "iopub.status.busy": "2022-03-29T00:39:39.019526Z",
     "iopub.status.idle": "2022-03-29T00:39:39.020975Z",
     "shell.execute_reply": "2022-03-29T00:39:39.021766Z"
    },
    "papermill": {
     "duration": 0.045858,
     "end_time": "2022-03-29T00:39:39.021901",
     "exception": false,
     "start_time": "2022-03-29T00:39:38.976043",
     "status": "completed"
    },
    "tags": []
   },
   "outputs": [],
   "source": [
    "#hide\n",
    "def get_dates(df):\n",
    "    dt_cols = df.columns[~df.columns.isin(['Province/State', 'Country/Region', 'Lat', 'Long'])]\n",
    "    LAST_DATE_I = -1\n",
    "    # sometimes last column may be empty, then go backwards\n",
    "    for i in range(-1, -len(dt_cols), -1):\n",
    "        if not df[dt_cols[i]].fillna(0).eq(0).all():\n",
    "            LAST_DATE_I = i\n",
    "            break\n",
    "    return LAST_DATE_I, dt_cols"
   ]
  },
  {
   "cell_type": "code",
   "execution_count": 9,
   "id": "recent-optimization",
   "metadata": {
    "execution": {
     "iopub.execute_input": "2022-03-29T00:39:39.104584Z",
     "iopub.status.busy": "2022-03-29T00:39:39.103562Z",
     "iopub.status.idle": "2022-03-29T00:39:39.505169Z",
     "shell.execute_reply": "2022-03-29T00:39:39.505886Z"
    },
    "papermill": {
     "duration": 0.4487,
     "end_time": "2022-03-29T00:39:39.506037",
     "exception": false,
     "start_time": "2022-03-29T00:39:39.057337",
     "status": "completed"
    },
    "tags": []
   },
   "outputs": [],
   "source": [
    "#hide\n",
    "COL_REGION = 'Country/Region'\n",
    "# Confirmed, Recovered, Deaths\n",
    "df = get_frame('confirmed')\n",
    "# dft_: timeseries, dfc_: today country agg\n",
    "dft_cases = df\n",
    "dft_deaths = get_frame('deaths')\n",
    "dft_recovered = get_frame('recovered')\n",
    "LAST_DATE_I, dt_cols = get_dates(df)"
   ]
  },
  {
   "cell_type": "code",
   "execution_count": 10,
   "id": "absolute-copper",
   "metadata": {
    "execution": {
     "iopub.execute_input": "2022-03-29T00:39:39.588320Z",
     "iopub.status.busy": "2022-03-29T00:39:39.586969Z",
     "iopub.status.idle": "2022-03-29T00:39:39.589001Z",
     "shell.execute_reply": "2022-03-29T00:39:39.589478Z"
    },
    "papermill": {
     "duration": 0.044997,
     "end_time": "2022-03-29T00:39:39.589617",
     "exception": false,
     "start_time": "2022-03-29T00:39:39.544620",
     "status": "completed"
    },
    "tags": []
   },
   "outputs": [],
   "source": [
    "#hide\n",
    "LAST_DATE_I, dt_cols = get_dates(df)\n",
    "dt_today =dt_cols[LAST_DATE_I]\n",
    "# dt_5day = dt_cols[LAST_DATE_I - 5]\n",
    "dt_yday = dt_cols[LAST_DATE_I - 1]"
   ]
  },
  {
   "cell_type": "code",
   "execution_count": 11,
   "id": "restricted-sheriff",
   "metadata": {
    "execution": {
     "iopub.execute_input": "2022-03-29T00:39:39.674198Z",
     "iopub.status.busy": "2022-03-29T00:39:39.671084Z",
     "iopub.status.idle": "2022-03-29T00:39:39.678368Z",
     "shell.execute_reply": "2022-03-29T00:39:39.678927Z"
    },
    "papermill": {
     "duration": 0.052819,
     "end_time": "2022-03-29T00:39:39.679054",
     "exception": false,
     "start_time": "2022-03-29T00:39:39.626235",
     "status": "completed"
    },
    "tags": []
   },
   "outputs": [],
   "source": [
    "#hide\n",
    "dfc_cases = dft_cases.groupby(COL_REGION)[dt_today].sum()\n",
    "dfc_deaths = dft_deaths.groupby(COL_REGION)[dt_today].sum()\n",
    "# dfp_cases = dft_cases.groupby(COL_REGION)[dt_5day].sum()\n",
    "# dfp_deaths = dft_deaths.groupby(COL_REGION)[dt_5day].sum()\n",
    "dfp_cases = dft_cases.groupby(COL_REGION)[dt_yday].sum()\n",
    "dfp_deaths = dft_deaths.groupby(COL_REGION)[dt_yday].sum()"
   ]
  },
  {
   "cell_type": "code",
   "execution_count": 12,
   "id": "deluxe-hepatitis",
   "metadata": {
    "execution": {
     "iopub.execute_input": "2022-03-29T00:39:39.757124Z",
     "iopub.status.busy": "2022-03-29T00:39:39.756578Z",
     "iopub.status.idle": "2022-03-29T00:39:39.761696Z",
     "shell.execute_reply": "2022-03-29T00:39:39.762215Z"
    },
    "papermill": {
     "duration": 0.046083,
     "end_time": "2022-03-29T00:39:39.762326",
     "exception": false,
     "start_time": "2022-03-29T00:39:39.716243",
     "status": "completed"
    },
    "tags": []
   },
   "outputs": [],
   "source": [
    "#hide\n",
    "df_table = (pd.DataFrame(dict(Cases = dfc_cases, Deaths = dfc_deaths, PCases = dfp_cases, PDeaths = dfp_deaths))\n",
    "            .sort_values(by = ['Cases','Deaths'], ascending = [False, False])\n",
    "            .reset_index())"
   ]
  },
  {
   "cell_type": "code",
   "execution_count": 13,
   "id": "educational-chancellor",
   "metadata": {
    "execution": {
     "iopub.execute_input": "2022-03-29T00:39:39.839684Z",
     "iopub.status.busy": "2022-03-29T00:39:39.838797Z",
     "iopub.status.idle": "2022-03-29T00:39:39.866229Z",
     "shell.execute_reply": "2022-03-29T00:39:39.867255Z"
    },
    "papermill": {
     "duration": 0.069747,
     "end_time": "2022-03-29T00:39:39.867378",
     "exception": false,
     "start_time": "2022-03-29T00:39:39.797631",
     "status": "completed"
    },
    "tags": []
   },
   "outputs": [
    {
     "data": {
      "text/html": [
       "<div>\n",
       "<style scoped>\n",
       "    .dataframe tbody tr th:only-of-type {\n",
       "        vertical-align: middle;\n",
       "    }\n",
       "\n",
       "    .dataframe tbody tr th {\n",
       "        vertical-align: top;\n",
       "    }\n",
       "\n",
       "    .dataframe thead th {\n",
       "        text-align: right;\n",
       "    }\n",
       "</style>\n",
       "<table border=\"1\" class=\"dataframe\">\n",
       "  <thead>\n",
       "    <tr style=\"text-align: right;\">\n",
       "      <th></th>\n",
       "      <th>Country/Region</th>\n",
       "      <th>Cases</th>\n",
       "      <th>Deaths</th>\n",
       "      <th>PCases</th>\n",
       "      <th>PDeaths</th>\n",
       "      <th>Cases (+)</th>\n",
       "      <th>Deaths (+)</th>\n",
       "      <th>Fatality Rate</th>\n",
       "      <th>Continent</th>\n",
       "    </tr>\n",
       "  </thead>\n",
       "  <tbody>\n",
       "    <tr>\n",
       "      <th>0</th>\n",
       "      <td>US</td>\n",
       "      <td>79952518</td>\n",
       "      <td>976702</td>\n",
       "      <td>79944197</td>\n",
       "      <td>976652</td>\n",
       "      <td>8321</td>\n",
       "      <td>50</td>\n",
       "      <td>1.22</td>\n",
       "      <td>North America</td>\n",
       "    </tr>\n",
       "    <tr>\n",
       "      <th>1</th>\n",
       "      <td>India</td>\n",
       "      <td>43020723</td>\n",
       "      <td>521035</td>\n",
       "      <td>43019453</td>\n",
       "      <td>521004</td>\n",
       "      <td>1270</td>\n",
       "      <td>31</td>\n",
       "      <td>1.21</td>\n",
       "      <td>Asia</td>\n",
       "    </tr>\n",
       "    <tr>\n",
       "      <th>2</th>\n",
       "      <td>Brazil</td>\n",
       "      <td>29849740</td>\n",
       "      <td>659159</td>\n",
       "      <td>29839103</td>\n",
       "      <td>659046</td>\n",
       "      <td>10637</td>\n",
       "      <td>113</td>\n",
       "      <td>2.21</td>\n",
       "      <td>South America</td>\n",
       "    </tr>\n",
       "    <tr>\n",
       "      <th>3</th>\n",
       "      <td>France</td>\n",
       "      <td>25216913</td>\n",
       "      <td>142705</td>\n",
       "      <td>25106739</td>\n",
       "      <td>142664</td>\n",
       "      <td>110174</td>\n",
       "      <td>41</td>\n",
       "      <td>0.57</td>\n",
       "      <td>Europe</td>\n",
       "    </tr>\n",
       "    <tr>\n",
       "      <th>4</th>\n",
       "      <td>United Kingdom</td>\n",
       "      <td>20848913</td>\n",
       "      <td>165046</td>\n",
       "      <td>20848913</td>\n",
       "      <td>165046</td>\n",
       "      <td>0</td>\n",
       "      <td>0</td>\n",
       "      <td>0.79</td>\n",
       "      <td>Europe</td>\n",
       "    </tr>\n",
       "  </tbody>\n",
       "</table>\n",
       "</div>"
      ],
      "text/plain": [
       "   Country/Region     Cases  Deaths    PCases  PDeaths  Cases (+)  Deaths (+)  \\\n",
       "0              US  79952518  976702  79944197   976652       8321          50   \n",
       "1           India  43020723  521035  43019453   521004       1270          31   \n",
       "2          Brazil  29849740  659159  29839103   659046      10637         113   \n",
       "3          France  25216913  142705  25106739   142664     110174          41   \n",
       "4  United Kingdom  20848913  165046  20848913   165046          0           0   \n",
       "\n",
       "   Fatality Rate      Continent  \n",
       "0           1.22  North America  \n",
       "1           1.21           Asia  \n",
       "2           2.21  South America  \n",
       "3           0.57         Europe  \n",
       "4           0.79         Europe  "
      ]
     },
     "execution_count": 13,
     "metadata": {},
     "output_type": "execute_result"
    }
   ],
   "source": [
    "#hide\n",
    "for c in 'Cases, Deaths'.split(', '):\n",
    "    df_table[f'{c} (+)'] = (df_table[c] - df_table[f'P{c}']).clip(0)\n",
    "    #Clip ça veut dire, les chiffres negatif sont interdit\n",
    "df_table['Fatality Rate'] = (100* df_table['Deaths']/ df_table['Cases']).round(2)\n",
    "df_table['Continent'] = df_table['Country/Region'].map(mapping['map.continent'])\n",
    "df_table.head(5)"
   ]
  },
  {
   "cell_type": "code",
   "execution_count": 14,
   "id": "aboriginal-bulgaria",
   "metadata": {
    "execution": {
     "iopub.execute_input": "2022-03-29T00:39:39.942902Z",
     "iopub.status.busy": "2022-03-29T00:39:39.942365Z",
     "iopub.status.idle": "2022-03-29T00:39:39.945084Z",
     "shell.execute_reply": "2022-03-29T00:39:39.945482Z"
    },
    "papermill": {
     "duration": 0.043816,
     "end_time": "2022-03-29T00:39:39.945598",
     "exception": false,
     "start_time": "2022-03-29T00:39:39.901782",
     "status": "completed"
    },
    "tags": []
   },
   "outputs": [],
   "source": [
    "#hide\n",
    "#delete problematic countries from table\n",
    "df_table = df_table[~df_table['Country/Region'].isin(['Cape Verde', 'Cruise Ship', 'Kosovo'])]"
   ]
  },
  {
   "cell_type": "code",
   "execution_count": 15,
   "id": "fantastic-effect",
   "metadata": {
    "execution": {
     "iopub.execute_input": "2022-03-29T00:39:40.033868Z",
     "iopub.status.busy": "2022-03-29T00:39:40.033218Z",
     "iopub.status.idle": "2022-03-29T00:39:40.054710Z",
     "shell.execute_reply": "2022-03-29T00:39:40.055298Z"
    },
    "papermill": {
     "duration": 0.070393,
     "end_time": "2022-03-29T00:39:40.055411",
     "exception": false,
     "start_time": "2022-03-29T00:39:39.985018",
     "status": "completed"
    },
    "tags": []
   },
   "outputs": [
    {
     "data": {
      "text/html": [
       "<div>\n",
       "<style scoped>\n",
       "    .dataframe tbody tr th:only-of-type {\n",
       "        vertical-align: middle;\n",
       "    }\n",
       "\n",
       "    .dataframe tbody tr th {\n",
       "        vertical-align: top;\n",
       "    }\n",
       "\n",
       "    .dataframe thead th {\n",
       "        text-align: right;\n",
       "    }\n",
       "</style>\n",
       "<table border=\"1\" class=\"dataframe\">\n",
       "  <thead>\n",
       "    <tr style=\"text-align: right;\">\n",
       "      <th></th>\n",
       "      <th>Country/Region</th>\n",
       "      <th>Cases</th>\n",
       "      <th>Deaths</th>\n",
       "      <th>PCases</th>\n",
       "      <th>PDeaths</th>\n",
       "      <th>Cases (+)</th>\n",
       "      <th>Deaths (+)</th>\n",
       "      <th>Fatality Rate</th>\n",
       "      <th>Continent</th>\n",
       "    </tr>\n",
       "  </thead>\n",
       "  <tbody>\n",
       "    <tr>\n",
       "      <th>0</th>\n",
       "      <td>US</td>\n",
       "      <td>79952518</td>\n",
       "      <td>976702</td>\n",
       "      <td>79944197</td>\n",
       "      <td>976652</td>\n",
       "      <td>8321</td>\n",
       "      <td>50</td>\n",
       "      <td>1.2</td>\n",
       "      <td>North America</td>\n",
       "    </tr>\n",
       "    <tr>\n",
       "      <th>1</th>\n",
       "      <td>India</td>\n",
       "      <td>43020723</td>\n",
       "      <td>521035</td>\n",
       "      <td>43019453</td>\n",
       "      <td>521004</td>\n",
       "      <td>1270</td>\n",
       "      <td>31</td>\n",
       "      <td>1.2</td>\n",
       "      <td>Asia</td>\n",
       "    </tr>\n",
       "    <tr>\n",
       "      <th>2</th>\n",
       "      <td>Brazil</td>\n",
       "      <td>29849740</td>\n",
       "      <td>659159</td>\n",
       "      <td>29839103</td>\n",
       "      <td>659046</td>\n",
       "      <td>10637</td>\n",
       "      <td>113</td>\n",
       "      <td>2.2</td>\n",
       "      <td>South America</td>\n",
       "    </tr>\n",
       "    <tr>\n",
       "      <th>3</th>\n",
       "      <td>France</td>\n",
       "      <td>25216913</td>\n",
       "      <td>142705</td>\n",
       "      <td>25106739</td>\n",
       "      <td>142664</td>\n",
       "      <td>110174</td>\n",
       "      <td>41</td>\n",
       "      <td>0.6</td>\n",
       "      <td>Europe</td>\n",
       "    </tr>\n",
       "    <tr>\n",
       "      <th>4</th>\n",
       "      <td>United Kingdom</td>\n",
       "      <td>20848913</td>\n",
       "      <td>165046</td>\n",
       "      <td>20848913</td>\n",
       "      <td>165046</td>\n",
       "      <td>0</td>\n",
       "      <td>0</td>\n",
       "      <td>0.8</td>\n",
       "      <td>Europe</td>\n",
       "    </tr>\n",
       "  </tbody>\n",
       "</table>\n",
       "</div>"
      ],
      "text/plain": [
       "   Country/Region     Cases  Deaths    PCases  PDeaths  Cases (+)  Deaths (+)  \\\n",
       "0              US  79952518  976702  79944197   976652       8321          50   \n",
       "1           India  43020723  521035  43019453   521004       1270          31   \n",
       "2          Brazil  29849740  659159  29839103   659046      10637         113   \n",
       "3          France  25216913  142705  25106739   142664     110174          41   \n",
       "4  United Kingdom  20848913  165046  20848913   165046          0           0   \n",
       "\n",
       "   Fatality Rate      Continent  \n",
       "0            1.2  North America  \n",
       "1            1.2           Asia  \n",
       "2            2.2  South America  \n",
       "3            0.6         Europe  \n",
       "4            0.8         Europe  "
      ]
     },
     "execution_count": 15,
     "metadata": {},
     "output_type": "execute_result"
    }
   ],
   "source": [
    "#hide\n",
    "df_table = (pd.DataFrame(dict(Cases=dfc_cases, Deaths=dfc_deaths, PCases=dfp_cases, PDeaths=dfp_deaths))\n",
    "             .sort_values(by=['Cases', 'Deaths'], ascending=[False, False])\n",
    "             .reset_index())\n",
    "df_table.rename(columns={'index': 'Country/Region'}, inplace=True)\n",
    "for c in 'Cases, Deaths'.split(', '):\n",
    "    df_table[f'{c} (+)'] = (df_table[c] - df_table[f'P{c}']).clip(0)  # DATA BUG\n",
    "df_table['Fatality Rate'] = (100 * df_table['Deaths'] / df_table['Cases']).round(1)\n",
    "df_table['Continent'] = df_table['Country/Region'].map(mapping['map.continent'])\n",
    "df_table.head(5)"
   ]
  },
  {
   "cell_type": "code",
   "execution_count": 16,
   "id": "fewer-occasion",
   "metadata": {
    "execution": {
     "iopub.execute_input": "2022-03-29T00:39:40.138473Z",
     "iopub.status.busy": "2022-03-29T00:39:40.137799Z",
     "iopub.status.idle": "2022-03-29T00:39:40.141400Z",
     "shell.execute_reply": "2022-03-29T00:39:40.141917Z"
    },
    "papermill": {
     "duration": 0.047145,
     "end_time": "2022-03-29T00:39:40.142043",
     "exception": false,
     "start_time": "2022-03-29T00:39:40.094898",
     "status": "completed"
    },
    "tags": []
   },
   "outputs": [],
   "source": [
    "#hide\n",
    "#delete problematic countries from table\n",
    "df_table = df_table[~df_table['Country/Region'].isin(['Cape Verde', 'Cruise Ship', 'Kosovo'])]"
   ]
  },
  {
   "cell_type": "code",
   "execution_count": 17,
   "id": "related-center",
   "metadata": {
    "execution": {
     "iopub.execute_input": "2022-03-29T00:39:40.234744Z",
     "iopub.status.busy": "2022-03-29T00:39:40.234170Z",
     "iopub.status.idle": "2022-03-29T00:39:40.251046Z",
     "shell.execute_reply": "2022-03-29T00:39:40.251651Z"
    },
    "papermill": {
     "duration": 0.067117,
     "end_time": "2022-03-29T00:39:40.251785",
     "exception": false,
     "start_time": "2022-03-29T00:39:40.184668",
     "status": "completed"
    },
    "tags": []
   },
   "outputs": [],
   "source": [
    "#hide\n",
    "metrics = [df_table.columns[index] for index in [1,2,5,6]]\n",
    "# s_china = df_table[df_table['Country/Region'].eq('China')][metrics].sum().add_prefix('China ')\n",
    "s_us = df_table[df_table['Country/Region'].eq('US')][metrics].sum().add_prefix('US ')\n",
    "s_eu = df_table[df_table['Continent'].eq('Europe')][metrics].sum().add_prefix('EU ')\n",
    "s_ind = df_table[df_table['Country/Region'].eq('India')][metrics].sum().add_prefix('India ')\n",
    "summary = {'updated': pd.to_datetime(dt_today), 'since': pd.to_datetime(dt_yday)}\n",
    "summary = {'updated': pd.to_datetime(dt_today), 'since': pd.to_datetime(dt_yday)}\n",
    "summary = {**summary, **df_table[metrics].sum(), **s_ind, **s_us, **s_eu}"
   ]
  },
  {
   "cell_type": "code",
   "execution_count": 18,
   "id": "engaging-syndrome",
   "metadata": {
    "execution": {
     "iopub.execute_input": "2022-03-29T00:39:40.336708Z",
     "iopub.status.busy": "2022-03-29T00:39:40.335932Z",
     "iopub.status.idle": "2022-03-29T00:39:40.356334Z",
     "shell.execute_reply": "2022-03-29T00:39:40.355535Z"
    },
    "papermill": {
     "duration": 0.062965,
     "end_time": "2022-03-29T00:39:40.356498",
     "exception": false,
     "start_time": "2022-03-29T00:39:40.293533",
     "status": "completed"
    },
    "tags": []
   },
   "outputs": [],
   "source": [
    "#hide\n",
    "dft_ct_new_cases = dft_cases.groupby(COL_REGION)[dt_cols].sum().diff(axis=1).fillna(0).astype(int)"
   ]
  },
  {
   "cell_type": "code",
   "execution_count": 19,
   "id": "neutral-assignment",
   "metadata": {
    "execution": {
     "iopub.execute_input": "2022-03-29T00:39:40.437834Z",
     "iopub.status.busy": "2022-03-29T00:39:40.437248Z",
     "iopub.status.idle": "2022-03-29T00:39:40.439605Z",
     "shell.execute_reply": "2022-03-29T00:39:40.440143Z"
    },
    "papermill": {
     "duration": 0.049981,
     "end_time": "2022-03-29T00:39:40.440264",
     "exception": false,
     "start_time": "2022-03-29T00:39:40.390283",
     "status": "completed"
    },
    "tags": []
   },
   "outputs": [],
   "source": [
    "#hide\n",
    "everydaycases = dft_ct_new_cases.cumsum(axis=1)"
   ]
  },
  {
   "cell_type": "code",
   "execution_count": 20,
   "id": "parliamentary-calgary",
   "metadata": {
    "execution": {
     "iopub.execute_input": "2022-03-29T00:39:40.516565Z",
     "iopub.status.busy": "2022-03-29T00:39:40.515992Z",
     "iopub.status.idle": "2022-03-29T00:39:41.181105Z",
     "shell.execute_reply": "2022-03-29T00:39:41.181617Z"
    },
    "papermill": {
     "duration": 0.705703,
     "end_time": "2022-03-29T00:39:41.181778",
     "exception": false,
     "start_time": "2022-03-29T00:39:40.476075",
     "status": "completed"
    },
    "tags": []
   },
   "outputs": [],
   "source": [
    "#hide\n",
    "import pandas as pd\n",
    "import matplotlib.pyplot as plt\n",
    "import matplotlib.ticker as ticker\n",
    "import matplotlib.animation as animation\n",
    "from IPython.display import HTML"
   ]
  },
  {
   "cell_type": "code",
   "execution_count": 21,
   "id": "lasting-extraction",
   "metadata": {
    "execution": {
     "iopub.execute_input": "2022-03-29T00:39:41.263057Z",
     "iopub.status.busy": "2022-03-29T00:39:41.262415Z",
     "iopub.status.idle": "2022-03-29T00:39:41.268704Z",
     "shell.execute_reply": "2022-03-29T00:39:41.269238Z"
    },
    "papermill": {
     "duration": 0.049447,
     "end_time": "2022-03-29T00:39:41.269361",
     "exception": false,
     "start_time": "2022-03-29T00:39:41.219914",
     "status": "completed"
    },
    "tags": []
   },
   "outputs": [],
   "source": [
    "#hide\n",
    "t = everydaycases.stack()"
   ]
  },
  {
   "cell_type": "code",
   "execution_count": 22,
   "id": "premier-sleeve",
   "metadata": {
    "execution": {
     "iopub.execute_input": "2022-03-29T00:39:41.344866Z",
     "iopub.status.busy": "2022-03-29T00:39:41.344043Z",
     "iopub.status.idle": "2022-03-29T00:39:41.355332Z",
     "shell.execute_reply": "2022-03-29T00:39:41.354848Z"
    },
    "papermill": {
     "duration": 0.048938,
     "end_time": "2022-03-29T00:39:41.355439",
     "exception": false,
     "start_time": "2022-03-29T00:39:41.306501",
     "status": "completed"
    },
    "tags": []
   },
   "outputs": [],
   "source": [
    "#hide\n",
    "g = t.reset_index(['Country/Region'])"
   ]
  },
  {
   "cell_type": "code",
   "execution_count": 23,
   "id": "distributed-pittsburgh",
   "metadata": {
    "execution": {
     "iopub.execute_input": "2022-03-29T00:39:41.433149Z",
     "iopub.status.busy": "2022-03-29T00:39:41.432530Z",
     "iopub.status.idle": "2022-03-29T00:39:41.435030Z",
     "shell.execute_reply": "2022-03-29T00:39:41.434529Z"
    },
    "papermill": {
     "duration": 0.044463,
     "end_time": "2022-03-29T00:39:41.435143",
     "exception": false,
     "start_time": "2022-03-29T00:39:41.390680",
     "status": "completed"
    },
    "tags": []
   },
   "outputs": [],
   "source": [
    "#hide\n",
    "g.index.name = 'date'"
   ]
  },
  {
   "cell_type": "code",
   "execution_count": 24,
   "id": "naked-donor",
   "metadata": {
    "execution": {
     "iopub.execute_input": "2022-03-29T00:39:41.510502Z",
     "iopub.status.busy": "2022-03-29T00:39:41.509887Z",
     "iopub.status.idle": "2022-03-29T00:39:41.514122Z",
     "shell.execute_reply": "2022-03-29T00:39:41.514582Z"
    },
    "papermill": {
     "duration": 0.046961,
     "end_time": "2022-03-29T00:39:41.514710",
     "exception": false,
     "start_time": "2022-03-29T00:39:41.467749",
     "status": "completed"
    },
    "tags": []
   },
   "outputs": [],
   "source": [
    "# #hide\n",
    "# g = g.reset_index(['date'])"
   ]
  },
  {
   "cell_type": "code",
   "execution_count": 25,
   "id": "incomplete-mustang",
   "metadata": {
    "execution": {
     "iopub.execute_input": "2022-03-29T00:39:41.594646Z",
     "iopub.status.busy": "2022-03-29T00:39:41.593864Z",
     "iopub.status.idle": "2022-03-29T00:39:41.596880Z",
     "shell.execute_reply": "2022-03-29T00:39:41.596325Z"
    },
    "papermill": {
     "duration": 0.044282,
     "end_time": "2022-03-29T00:39:41.596995",
     "exception": false,
     "start_time": "2022-03-29T00:39:41.552713",
     "status": "completed"
    },
    "tags": []
   },
   "outputs": [],
   "source": [
    "#hide\n",
    "# g.head()"
   ]
  },
  {
   "cell_type": "code",
   "execution_count": 26,
   "id": "specific-kruger",
   "metadata": {
    "execution": {
     "iopub.execute_input": "2022-03-29T00:39:41.676212Z",
     "iopub.status.busy": "2022-03-29T00:39:41.675452Z",
     "iopub.status.idle": "2022-03-29T00:39:41.677926Z",
     "shell.execute_reply": "2022-03-29T00:39:41.677314Z"
    },
    "papermill": {
     "duration": 0.043416,
     "end_time": "2022-03-29T00:39:41.678090",
     "exception": false,
     "start_time": "2022-03-29T00:39:41.634674",
     "status": "completed"
    },
    "tags": []
   },
   "outputs": [],
   "source": [
    "#hide\n",
    "# g.columns = ['date','country','cases']"
   ]
  },
  {
   "cell_type": "code",
   "execution_count": 27,
   "id": "tender-conversion",
   "metadata": {
    "execution": {
     "iopub.execute_input": "2022-03-29T00:39:41.753582Z",
     "iopub.status.busy": "2022-03-29T00:39:41.752954Z",
     "iopub.status.idle": "2022-03-29T00:39:41.755163Z",
     "shell.execute_reply": "2022-03-29T00:39:41.755596Z"
    },
    "papermill": {
     "duration": 0.040343,
     "end_time": "2022-03-29T00:39:41.755763",
     "exception": false,
     "start_time": "2022-03-29T00:39:41.715420",
     "status": "completed"
    },
    "tags": []
   },
   "outputs": [],
   "source": [
    "#hide\n",
    "# g['continent'] = g.country"
   ]
  },
  {
   "cell_type": "code",
   "execution_count": 28,
   "id": "substantial-wilderness",
   "metadata": {
    "execution": {
     "iopub.execute_input": "2022-03-29T00:39:41.834353Z",
     "iopub.status.busy": "2022-03-29T00:39:41.833657Z",
     "iopub.status.idle": "2022-03-29T00:39:41.836224Z",
     "shell.execute_reply": "2022-03-29T00:39:41.835738Z"
    },
    "papermill": {
     "duration": 0.040979,
     "end_time": "2022-03-29T00:39:41.836323",
     "exception": false,
     "start_time": "2022-03-29T00:39:41.795344",
     "status": "completed"
    },
    "tags": []
   },
   "outputs": [],
   "source": [
    "#hide\n",
    "# cols = list(g.columns.values)"
   ]
  },
  {
   "cell_type": "code",
   "execution_count": 29,
   "id": "solved-farming",
   "metadata": {
    "execution": {
     "iopub.execute_input": "2022-03-29T00:39:41.912998Z",
     "iopub.status.busy": "2022-03-29T00:39:41.912412Z",
     "iopub.status.idle": "2022-03-29T00:39:41.914385Z",
     "shell.execute_reply": "2022-03-29T00:39:41.914793Z"
    },
    "papermill": {
     "duration": 0.042844,
     "end_time": "2022-03-29T00:39:41.914905",
     "exception": false,
     "start_time": "2022-03-29T00:39:41.872061",
     "status": "completed"
    },
    "tags": []
   },
   "outputs": [],
   "source": [
    "#hide\n",
    "# cols.insert(0, cols.pop())"
   ]
  },
  {
   "cell_type": "code",
   "execution_count": 30,
   "id": "executed-adoption",
   "metadata": {
    "execution": {
     "iopub.execute_input": "2022-03-29T00:39:41.990917Z",
     "iopub.status.busy": "2022-03-29T00:39:41.990321Z",
     "iopub.status.idle": "2022-03-29T00:39:41.992737Z",
     "shell.execute_reply": "2022-03-29T00:39:41.992229Z"
    },
    "papermill": {
     "duration": 0.041413,
     "end_time": "2022-03-29T00:39:41.992851",
     "exception": false,
     "start_time": "2022-03-29T00:39:41.951438",
     "status": "completed"
    },
    "tags": []
   },
   "outputs": [],
   "source": [
    "#hide\n",
    "# g = g[cols]"
   ]
  },
  {
   "cell_type": "code",
   "execution_count": 31,
   "id": "subject-dublin",
   "metadata": {
    "execution": {
     "iopub.execute_input": "2022-03-29T00:39:42.075236Z",
     "iopub.status.busy": "2022-03-29T00:39:42.074619Z",
     "iopub.status.idle": "2022-03-29T00:39:42.077007Z",
     "shell.execute_reply": "2022-03-29T00:39:42.077452Z"
    },
    "papermill": {
     "duration": 0.044627,
     "end_time": "2022-03-29T00:39:42.077638",
     "exception": false,
     "start_time": "2022-03-29T00:39:42.033011",
     "status": "completed"
    },
    "tags": []
   },
   "outputs": [],
   "source": [
    "#hide\n",
    "# g['continent'] = g['continent'].map(mapping['map.continent'])"
   ]
  },
  {
   "cell_type": "code",
   "execution_count": 32,
   "id": "freelance-scout",
   "metadata": {
    "execution": {
     "iopub.execute_input": "2022-03-29T00:39:42.165690Z",
     "iopub.status.busy": "2022-03-29T00:39:42.164814Z",
     "iopub.status.idle": "2022-03-29T00:39:42.167924Z",
     "shell.execute_reply": "2022-03-29T00:39:42.167426Z"
    },
    "papermill": {
     "duration": 0.048374,
     "end_time": "2022-03-29T00:39:42.168042",
     "exception": false,
     "start_time": "2022-03-29T00:39:42.119668",
     "status": "completed"
    },
    "tags": []
   },
   "outputs": [],
   "source": [
    "#hide\n",
    "# g.head()"
   ]
  },
  {
   "cell_type": "code",
   "execution_count": 33,
   "id": "limited-engine",
   "metadata": {
    "execution": {
     "iopub.execute_input": "2022-03-29T00:39:42.254473Z",
     "iopub.status.busy": "2022-03-29T00:39:42.253471Z",
     "iopub.status.idle": "2022-03-29T00:39:42.255567Z",
     "shell.execute_reply": "2022-03-29T00:39:42.256271Z"
    },
    "papermill": {
     "duration": 0.047098,
     "end_time": "2022-03-29T00:39:42.256396",
     "exception": false,
     "start_time": "2022-03-29T00:39:42.209298",
     "status": "completed"
    },
    "tags": []
   },
   "outputs": [],
   "source": [
    "# hide\n",
    "# g['date'] = g['date'].astype('datetime64[ns]')"
   ]
  },
  {
   "cell_type": "code",
   "execution_count": 34,
   "id": "sophisticated-supervisor",
   "metadata": {
    "execution": {
     "iopub.execute_input": "2022-03-29T00:39:42.338960Z",
     "iopub.status.busy": "2022-03-29T00:39:42.338377Z",
     "iopub.status.idle": "2022-03-29T00:39:42.341580Z",
     "shell.execute_reply": "2022-03-29T00:39:42.341088Z"
    },
    "papermill": {
     "duration": 0.045754,
     "end_time": "2022-03-29T00:39:42.341689",
     "exception": false,
     "start_time": "2022-03-29T00:39:42.295935",
     "status": "completed"
    },
    "tags": []
   },
   "outputs": [],
   "source": [
    "#hide\n",
    "# g['date'] = g.date.dt.dayofyear"
   ]
  },
  {
   "cell_type": "code",
   "execution_count": 35,
   "id": "inside-dubai",
   "metadata": {
    "execution": {
     "iopub.execute_input": "2022-03-29T00:39:42.416919Z",
     "iopub.status.busy": "2022-03-29T00:39:42.416298Z",
     "iopub.status.idle": "2022-03-29T00:39:42.418053Z",
     "shell.execute_reply": "2022-03-29T00:39:42.418464Z"
    },
    "papermill": {
     "duration": 0.038875,
     "end_time": "2022-03-29T00:39:42.418583",
     "exception": false,
     "start_time": "2022-03-29T00:39:42.379708",
     "status": "completed"
    },
    "tags": []
   },
   "outputs": [],
   "source": [
    "#hide\n",
    "# g = g.rename(columns= {'continent':'group','country':'name','cases':'value'})"
   ]
  },
  {
   "cell_type": "code",
   "execution_count": 36,
   "id": "fleet-motorcycle",
   "metadata": {
    "execution": {
     "iopub.execute_input": "2022-03-29T00:39:42.499596Z",
     "iopub.status.busy": "2022-03-29T00:39:42.499022Z",
     "iopub.status.idle": "2022-03-29T00:39:42.505494Z",
     "shell.execute_reply": "2022-03-29T00:39:42.507423Z"
    },
    "papermill": {
     "duration": 0.052948,
     "end_time": "2022-03-29T00:39:42.507613",
     "exception": false,
     "start_time": "2022-03-29T00:39:42.454665",
     "status": "completed"
    },
    "tags": []
   },
   "outputs": [],
   "source": [
    "#hide\n",
    "# cols = ['name','group','day','value']"
   ]
  },
  {
   "cell_type": "code",
   "execution_count": 37,
   "id": "continued-sleeping",
   "metadata": {
    "execution": {
     "iopub.execute_input": "2022-03-29T00:39:42.589586Z",
     "iopub.status.busy": "2022-03-29T00:39:42.588879Z",
     "iopub.status.idle": "2022-03-29T00:39:42.590689Z",
     "shell.execute_reply": "2022-03-29T00:39:42.591335Z"
    },
    "papermill": {
     "duration": 0.043677,
     "end_time": "2022-03-29T00:39:42.591507",
     "exception": false,
     "start_time": "2022-03-29T00:39:42.547830",
     "status": "completed"
    },
    "tags": []
   },
   "outputs": [],
   "source": [
    "#hide\n",
    "# g.rename(columns= {'date':'day'},inplace = True)"
   ]
  },
  {
   "cell_type": "code",
   "execution_count": 38,
   "id": "major-fight",
   "metadata": {
    "execution": {
     "iopub.execute_input": "2022-03-29T00:39:42.673535Z",
     "iopub.status.busy": "2022-03-29T00:39:42.672625Z",
     "iopub.status.idle": "2022-03-29T00:39:42.677304Z",
     "shell.execute_reply": "2022-03-29T00:39:42.676376Z"
    },
    "papermill": {
     "duration": 0.044284,
     "end_time": "2022-03-29T00:39:42.677417",
     "exception": false,
     "start_time": "2022-03-29T00:39:42.633133",
     "status": "completed"
    },
    "tags": []
   },
   "outputs": [],
   "source": [
    "#hide\n",
    "# g = g[cols]"
   ]
  },
  {
   "cell_type": "code",
   "execution_count": 39,
   "id": "structured-mobile",
   "metadata": {
    "execution": {
     "iopub.execute_input": "2022-03-29T00:39:42.756749Z",
     "iopub.status.busy": "2022-03-29T00:39:42.756121Z",
     "iopub.status.idle": "2022-03-29T00:39:42.759537Z",
     "shell.execute_reply": "2022-03-29T00:39:42.759991Z"
    },
    "papermill": {
     "duration": 0.044208,
     "end_time": "2022-03-29T00:39:42.760115",
     "exception": false,
     "start_time": "2022-03-29T00:39:42.715907",
     "status": "completed"
    },
    "tags": []
   },
   "outputs": [],
   "source": [
    "# #hide\n",
    "# g = g[g.group.notna()]"
   ]
  },
  {
   "cell_type": "code",
   "execution_count": 40,
   "id": "determined-closing",
   "metadata": {
    "execution": {
     "iopub.execute_input": "2022-03-29T00:39:42.836045Z",
     "iopub.status.busy": "2022-03-29T00:39:42.835351Z",
     "iopub.status.idle": "2022-03-29T00:39:42.837303Z",
     "shell.execute_reply": "2022-03-29T00:39:42.837749Z"
    },
    "papermill": {
     "duration": 0.041444,
     "end_time": "2022-03-29T00:39:42.837867",
     "exception": false,
     "start_time": "2022-03-29T00:39:42.796423",
     "status": "completed"
    },
    "tags": []
   },
   "outputs": [],
   "source": [
    "# #hide\n",
    "# colors = dict(zip(\n",
    "#     [\"Oceania\", \"Europe\", \"Asia\", \"South America\", \"Middle East\", \"North America\", \"Africa\"],\n",
    "#     [\"#adb0ff\", \"#ffb3ff\", \"#90d595\", \"#e48381\", \"#aafbff\", \"#f7bb5f\", \"#eafb50\"]\n",
    "# ))\n",
    "# group_lk = g.set_index('name')['group'].to_dict()"
   ]
  },
  {
   "cell_type": "code",
   "execution_count": null,
   "id": "gross-drinking",
   "metadata": {
    "papermill": {
     "duration": 0.035534,
     "end_time": "2022-03-29T00:39:42.910111",
     "exception": false,
     "start_time": "2022-03-29T00:39:42.874577",
     "status": "completed"
    },
    "tags": []
   },
   "outputs": [],
   "source": []
  },
  {
   "cell_type": "code",
   "execution_count": 41,
   "id": "subject-macintosh",
   "metadata": {
    "execution": {
     "iopub.execute_input": "2022-03-29T00:39:42.990145Z",
     "iopub.status.busy": "2022-03-29T00:39:42.989507Z",
     "iopub.status.idle": "2022-03-29T00:39:42.993420Z",
     "shell.execute_reply": "2022-03-29T00:39:42.993890Z"
    },
    "papermill": {
     "duration": 0.048119,
     "end_time": "2022-03-29T00:39:42.994022",
     "exception": false,
     "start_time": "2022-03-29T00:39:42.945903",
     "status": "completed"
    },
    "tags": []
   },
   "outputs": [],
   "source": [
    "# #hide\n",
    "# fig, ax = plt.subplots(figsize=(15, 8))\n",
    "\n",
    "# def draw_barchart(current_day):\n",
    "#     dff = g[g['day'].eq(current_day)].sort_values(by='value', ascending=True).tail(10)\n",
    "#     ax.clear()\n",
    "#     ax.barh(dff['name'], dff['value'], color=[colors[group_lk[x]] for x in dff['name']])\n",
    "#     dx = dff['value'].max() / 200\n",
    "    \n",
    "#     for i, (value, name) in enumerate(zip(dff['value'], dff['name'])):\n",
    "#         ax.text(value-dx, i,     name,           size=14, weight=600, ha='right', va='bottom')\n",
    "#         ax.text(value-dx, i-.25, group_lk[name], size=10, color='#444444', ha='right', va='baseline')\n",
    "#         ax.text(value+dx, i,     f'{value:,.0f}',  size=14, ha='left',  va='center')\n",
    "#     ax.text(1, 0.4, current_day, transform=ax.transAxes, color='#777777', size=46, ha='right', weight=800)\n",
    "#     ax.text(0, 1.06, 'Population (thousands)', transform=ax.transAxes, size=12, color='#777777')\n",
    "#     ax.xaxis.set_major_formatter(ticker.StrMethodFormatter('{x:,.0f}'))\n",
    "#     ax.xaxis.set_ticks_position('top')\n",
    "#     ax.tick_params(axis='x', colors='#777777', labelsize=12)\n",
    "#     ax.set_yticks([])\n",
    "#     ax.margins(0, 0.01)\n",
    "#     ax.grid(which='major', axis='x', linestyle='-')\n",
    "#     ax.set_axisbelow(True)\n",
    "    \n",
    "#     ax.text(0, 1.15, 'Coronavirus',\n",
    "#             transform=ax.transAxes, size=24, weight=600, ha='left', va='top')\n",
    "# #     ax.text(1, 0, 'by @pratapvardhan; credit @jburnmurdoch', transform=ax.transAxes, color='#777777', ha='right',\n",
    "# #             bbox=dict(facecolor='white', alpha=0.8, edgecolor='white'))\n",
    "#     plt.box(False)"
   ]
  },
  {
   "cell_type": "code",
   "execution_count": 42,
   "id": "sexual-wages",
   "metadata": {
    "execution": {
     "iopub.execute_input": "2022-03-29T00:39:43.079039Z",
     "iopub.status.busy": "2022-03-29T00:39:43.078387Z",
     "iopub.status.idle": "2022-03-29T00:39:43.082438Z",
     "shell.execute_reply": "2022-03-29T00:39:43.082927Z"
    },
    "papermill": {
     "duration": 0.04666,
     "end_time": "2022-03-29T00:39:43.083059",
     "exception": false,
     "start_time": "2022-03-29T00:39:43.036399",
     "status": "completed"
    },
    "tags": []
   },
   "outputs": [],
   "source": [
    "# #hide_input\n",
    "# fig, ax = plt.subplots(figsize=(15, 8))\n",
    "# animator = animation.FuncAnimation(fig, draw_barchart, frames=range(g.day.values.min(), g.day.values.max()))\n",
    "# HTML(animator.to_jshtml())\n",
    "# # or use animator.to_html5_video() or animator.save() "
   ]
  },
  {
   "cell_type": "code",
   "execution_count": null,
   "id": "australian-container",
   "metadata": {
    "papermill": {
     "duration": 0.039435,
     "end_time": "2022-03-29T00:39:43.163050",
     "exception": false,
     "start_time": "2022-03-29T00:39:43.123615",
     "status": "completed"
    },
    "tags": []
   },
   "outputs": [],
   "source": []
  },
  {
   "cell_type": "code",
   "execution_count": null,
   "id": "mediterranean-pontiac",
   "metadata": {
    "papermill": {
     "duration": 0.041059,
     "end_time": "2022-03-29T00:39:43.245473",
     "exception": false,
     "start_time": "2022-03-29T00:39:43.204414",
     "status": "completed"
    },
    "tags": []
   },
   "outputs": [],
   "source": []
  },
  {
   "cell_type": "code",
   "execution_count": null,
   "id": "aging-legislature",
   "metadata": {
    "papermill": {
     "duration": 0.035755,
     "end_time": "2022-03-29T00:39:43.321733",
     "exception": false,
     "start_time": "2022-03-29T00:39:43.285978",
     "status": "completed"
    },
    "tags": []
   },
   "outputs": [],
   "source": []
  }
 ],
 "metadata": {
  "kernelspec": {
   "display_name": "Python 3",
   "language": "python",
   "name": "python3"
  },
  "language_info": {
   "codemirror_mode": {
    "name": "ipython",
    "version": 3
   },
   "file_extension": ".py",
   "mimetype": "text/x-python",
   "name": "python",
   "nbconvert_exporter": "python",
   "pygments_lexer": "ipython3",
   "version": "3.6.15"
  },
  "papermill": {
   "duration": 7.049015,
   "end_time": "2022-03-29T00:39:43.675532",
   "environment_variables": {},
   "exception": null,
   "input_path": "2020-03-21-covid19exp.ipynb",
   "output_path": "2020-03-21-covid19exp.ipynb",
   "parameters": {},
   "start_time": "2022-03-29T00:39:36.626517",
   "version": "2.0.0"
  }
 },
 "nbformat": 4,
 "nbformat_minor": 5
}