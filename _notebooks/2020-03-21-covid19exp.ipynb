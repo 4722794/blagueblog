{
 "cells": [
  {
   "cell_type": "markdown",
   "id": "muslim-click",
   "metadata": {
    "papermill": {
     "duration": 0.043643,
     "end_time": "2021-07-16T00:21:27.225681",
     "exception": false,
     "start_time": "2021-07-16T00:21:27.182038",
     "status": "completed"
    },
    "tags": []
   },
   "source": [
    "# COVID-19 Case Race\n",
    "> A race chart to see rising cases around the world\n",
    "\n",
    "- author: Hargun Oberoi\n",
    "- image: images/covid-overview.png\n",
    "- hide: false\n",
    "- badges: false"
   ]
  },
  {
   "cell_type": "code",
   "execution_count": 1,
   "id": "proof-material",
   "metadata": {
    "execution": {
     "iopub.execute_input": "2021-07-16T00:21:27.312260Z",
     "iopub.status.busy": "2021-07-16T00:21:27.311638Z",
     "iopub.status.idle": "2021-07-16T00:21:27.703773Z",
     "shell.execute_reply": "2021-07-16T00:21:27.704328Z"
    },
    "papermill": {
     "duration": 0.441035,
     "end_time": "2021-07-16T00:21:27.704517",
     "exception": false,
     "start_time": "2021-07-16T00:21:27.263482",
     "status": "completed"
    },
    "tags": []
   },
   "outputs": [],
   "source": [
    "#hide\n",
    "import numpy as np\n",
    "import pandas as pd\n",
    "from jinja2 import Template\n",
    "from IPython.display import HTML"
   ]
  },
  {
   "cell_type": "code",
   "execution_count": 2,
   "id": "developed-terminology",
   "metadata": {
    "execution": {
     "iopub.execute_input": "2021-07-16T00:21:27.784550Z",
     "iopub.status.busy": "2021-07-16T00:21:27.783867Z",
     "iopub.status.idle": "2021-07-16T00:21:27.785718Z",
     "shell.execute_reply": "2021-07-16T00:21:27.786285Z"
    },
    "papermill": {
     "duration": 0.043726,
     "end_time": "2021-07-16T00:21:27.786434",
     "exception": false,
     "start_time": "2021-07-16T00:21:27.742708",
     "status": "completed"
    },
    "tags": []
   },
   "outputs": [],
   "source": [
    "#hide\n",
    "\n",
    "# FETCH\n",
    "base_url = 'https://raw.githubusercontent.com/pratapvardhan/notebooks/master/covid19/'\n",
    "paths = {\n",
    "    'mapping': base_url + 'mapping_countries.csv',\n",
    "    'overview': base_url + 'overview.tpl'\n",
    "}"
   ]
  },
  {
   "cell_type": "code",
   "execution_count": 3,
   "id": "dynamic-saver",
   "metadata": {
    "execution": {
     "iopub.execute_input": "2021-07-16T00:21:27.872558Z",
     "iopub.status.busy": "2021-07-16T00:21:27.871936Z",
     "iopub.status.idle": "2021-07-16T00:21:27.874679Z",
     "shell.execute_reply": "2021-07-16T00:21:27.875196Z"
    },
    "papermill": {
     "duration": 0.05135,
     "end_time": "2021-07-16T00:21:27.875338",
     "exception": false,
     "start_time": "2021-07-16T00:21:27.823988",
     "status": "completed"
    },
    "tags": []
   },
   "outputs": [
    {
     "data": {
      "text/plain": [
       "'https://raw.githubusercontent.com/pratapvardhan/notebooks/master/covid19/mapping_countries.csv'"
      ]
     },
     "execution_count": 3,
     "metadata": {},
     "output_type": "execute_result"
    }
   ],
   "source": [
    "#hide\n",
    "paths['mapping']"
   ]
  },
  {
   "cell_type": "code",
   "execution_count": 4,
   "id": "urban-software",
   "metadata": {
    "execution": {
     "iopub.execute_input": "2021-07-16T00:21:27.955199Z",
     "iopub.status.busy": "2021-07-16T00:21:27.954604Z",
     "iopub.status.idle": "2021-07-16T00:21:27.956563Z",
     "shell.execute_reply": "2021-07-16T00:21:27.957119Z"
    },
    "papermill": {
     "duration": 0.045464,
     "end_time": "2021-07-16T00:21:27.957283",
     "exception": false,
     "start_time": "2021-07-16T00:21:27.911819",
     "status": "completed"
    },
    "tags": []
   },
   "outputs": [],
   "source": [
    "#hide\n",
    "def get_mappings(url):\n",
    "    df = pd.read_csv(url)\n",
    "    return {\n",
    "        'df': df,\n",
    "        'replace.country': dict(df.dropna(subset=['Name']).set_index('Country')['Name']),\n",
    "        'map.continent': dict(df.set_index('Name')['Continent'])\n",
    "    }"
   ]
  },
  {
   "cell_type": "code",
   "execution_count": 5,
   "id": "intimate-machinery",
   "metadata": {
    "execution": {
     "iopub.execute_input": "2021-07-16T00:21:28.038533Z",
     "iopub.status.busy": "2021-07-16T00:21:28.037914Z",
     "iopub.status.idle": "2021-07-16T00:21:28.085673Z",
     "shell.execute_reply": "2021-07-16T00:21:28.085135Z"
    },
    "papermill": {
     "duration": 0.091011,
     "end_time": "2021-07-16T00:21:28.085808",
     "exception": false,
     "start_time": "2021-07-16T00:21:27.994797",
     "status": "completed"
    },
    "tags": []
   },
   "outputs": [],
   "source": [
    "#hide\n",
    "mapping = get_mappings(paths['mapping'])"
   ]
  },
  {
   "cell_type": "code",
   "execution_count": 6,
   "id": "certified-tactics",
   "metadata": {
    "execution": {
     "iopub.execute_input": "2021-07-16T00:21:28.166811Z",
     "iopub.status.busy": "2021-07-16T00:21:28.166154Z",
     "iopub.status.idle": "2021-07-16T00:21:28.168106Z",
     "shell.execute_reply": "2021-07-16T00:21:28.168666Z"
    },
    "papermill": {
     "duration": 0.045451,
     "end_time": "2021-07-16T00:21:28.168791",
     "exception": false,
     "start_time": "2021-07-16T00:21:28.123340",
     "status": "completed"
    },
    "tags": []
   },
   "outputs": [],
   "source": [
    "#hide\n",
    "def get_template(path):\n",
    "    from urllib.parse import urlparse\n",
    "    if bool(urlparse(path).netloc):\n",
    "        from urllib.request import urlopen\n",
    "        return urlopen(path).read().decode('utf8')\n",
    "    return open(path).read()"
   ]
  },
  {
   "cell_type": "code",
   "execution_count": 7,
   "id": "realistic-blast",
   "metadata": {
    "execution": {
     "iopub.execute_input": "2021-07-16T00:21:28.249763Z",
     "iopub.status.busy": "2021-07-16T00:21:28.249137Z",
     "iopub.status.idle": "2021-07-16T00:21:28.252203Z",
     "shell.execute_reply": "2021-07-16T00:21:28.251509Z"
    },
    "papermill": {
     "duration": 0.045327,
     "end_time": "2021-07-16T00:21:28.252439",
     "exception": false,
     "start_time": "2021-07-16T00:21:28.207112",
     "status": "completed"
    },
    "tags": []
   },
   "outputs": [],
   "source": [
    "#hide\n",
    "def get_frame(name):\n",
    "    url = (\n",
    "        'https://raw.githubusercontent.com/CSSEGISandData/COVID-19/master/csse_covid_19_data/'\n",
    "        f'csse_covid_19_time_series/time_series_covid19_{name}_global.csv')\n",
    "    df = pd.read_csv(url)\n",
    "    # rename countries\n",
    "    df['Country/Region'] = df['Country/Region'].replace(mapping['replace.country'])\n",
    "    return df"
   ]
  },
  {
   "cell_type": "code",
   "execution_count": 8,
   "id": "affiliated-characterization",
   "metadata": {
    "execution": {
     "iopub.execute_input": "2021-07-16T00:21:28.333998Z",
     "iopub.status.busy": "2021-07-16T00:21:28.333244Z",
     "iopub.status.idle": "2021-07-16T00:21:28.335960Z",
     "shell.execute_reply": "2021-07-16T00:21:28.335424Z"
    },
    "papermill": {
     "duration": 0.046669,
     "end_time": "2021-07-16T00:21:28.336074",
     "exception": false,
     "start_time": "2021-07-16T00:21:28.289405",
     "status": "completed"
    },
    "tags": []
   },
   "outputs": [],
   "source": [
    "#hide\n",
    "def get_dates(df):\n",
    "    dt_cols = df.columns[~df.columns.isin(['Province/State', 'Country/Region', 'Lat', 'Long'])]\n",
    "    LAST_DATE_I = -1\n",
    "    # sometimes last column may be empty, then go backwards\n",
    "    for i in range(-1, -len(dt_cols), -1):\n",
    "        if not df[dt_cols[i]].fillna(0).eq(0).all():\n",
    "            LAST_DATE_I = i\n",
    "            break\n",
    "    return LAST_DATE_I, dt_cols"
   ]
  },
  {
   "cell_type": "code",
   "execution_count": 9,
   "id": "recent-optimization",
   "metadata": {
    "execution": {
     "iopub.execute_input": "2021-07-16T00:21:28.419029Z",
     "iopub.status.busy": "2021-07-16T00:21:28.417932Z",
     "iopub.status.idle": "2021-07-16T00:21:28.838563Z",
     "shell.execute_reply": "2021-07-16T00:21:28.837541Z"
    },
    "papermill": {
     "duration": 0.463947,
     "end_time": "2021-07-16T00:21:28.838712",
     "exception": false,
     "start_time": "2021-07-16T00:21:28.374765",
     "status": "completed"
    },
    "tags": []
   },
   "outputs": [],
   "source": [
    "#hide\n",
    "COL_REGION = 'Country/Region'\n",
    "# Confirmed, Recovered, Deaths\n",
    "df = get_frame('confirmed')\n",
    "# dft_: timeseries, dfc_: today country agg\n",
    "dft_cases = df\n",
    "dft_deaths = get_frame('deaths')\n",
    "dft_recovered = get_frame('recovered')\n",
    "LAST_DATE_I, dt_cols = get_dates(df)"
   ]
  },
  {
   "cell_type": "code",
   "execution_count": 10,
   "id": "absolute-copper",
   "metadata": {
    "execution": {
     "iopub.execute_input": "2021-07-16T00:21:28.921648Z",
     "iopub.status.busy": "2021-07-16T00:21:28.921045Z",
     "iopub.status.idle": "2021-07-16T00:21:28.923172Z",
     "shell.execute_reply": "2021-07-16T00:21:28.923737Z"
    },
    "papermill": {
     "duration": 0.046035,
     "end_time": "2021-07-16T00:21:28.923866",
     "exception": false,
     "start_time": "2021-07-16T00:21:28.877831",
     "status": "completed"
    },
    "tags": []
   },
   "outputs": [],
   "source": [
    "#hide\n",
    "LAST_DATE_I, dt_cols = get_dates(df)\n",
    "dt_today =dt_cols[LAST_DATE_I]\n",
    "# dt_5day = dt_cols[LAST_DATE_I - 5]\n",
    "dt_yday = dt_cols[LAST_DATE_I - 1]"
   ]
  },
  {
   "cell_type": "code",
   "execution_count": 11,
   "id": "restricted-sheriff",
   "metadata": {
    "execution": {
     "iopub.execute_input": "2021-07-16T00:21:29.005045Z",
     "iopub.status.busy": "2021-07-16T00:21:29.004413Z",
     "iopub.status.idle": "2021-07-16T00:21:29.014157Z",
     "shell.execute_reply": "2021-07-16T00:21:29.013622Z"
    },
    "papermill": {
     "duration": 0.052796,
     "end_time": "2021-07-16T00:21:29.014277",
     "exception": false,
     "start_time": "2021-07-16T00:21:28.961481",
     "status": "completed"
    },
    "tags": []
   },
   "outputs": [],
   "source": [
    "#hide\n",
    "dfc_cases = dft_cases.groupby(COL_REGION)[dt_today].sum()\n",
    "dfc_deaths = dft_deaths.groupby(COL_REGION)[dt_today].sum()\n",
    "# dfp_cases = dft_cases.groupby(COL_REGION)[dt_5day].sum()\n",
    "# dfp_deaths = dft_deaths.groupby(COL_REGION)[dt_5day].sum()\n",
    "dfp_cases = dft_cases.groupby(COL_REGION)[dt_yday].sum()\n",
    "dfp_deaths = dft_deaths.groupby(COL_REGION)[dt_yday].sum()"
   ]
  },
  {
   "cell_type": "code",
   "execution_count": 12,
   "id": "deluxe-hepatitis",
   "metadata": {
    "execution": {
     "iopub.execute_input": "2021-07-16T00:21:29.109296Z",
     "iopub.status.busy": "2021-07-16T00:21:29.108653Z",
     "iopub.status.idle": "2021-07-16T00:21:29.114105Z",
     "shell.execute_reply": "2021-07-16T00:21:29.114731Z"
    },
    "papermill": {
     "duration": 0.060491,
     "end_time": "2021-07-16T00:21:29.114872",
     "exception": false,
     "start_time": "2021-07-16T00:21:29.054381",
     "status": "completed"
    },
    "tags": []
   },
   "outputs": [],
   "source": [
    "#hide\n",
    "df_table = (pd.DataFrame(dict(Cases = dfc_cases, Deaths = dfc_deaths, PCases = dfp_cases, PDeaths = dfp_deaths))\n",
    "            .sort_values(by = ['Cases','Deaths'], ascending = [False, False])\n",
    "            .reset_index())"
   ]
  },
  {
   "cell_type": "code",
   "execution_count": 13,
   "id": "educational-chancellor",
   "metadata": {
    "execution": {
     "iopub.execute_input": "2021-07-16T00:21:29.203709Z",
     "iopub.status.busy": "2021-07-16T00:21:29.203077Z",
     "iopub.status.idle": "2021-07-16T00:21:29.217791Z",
     "shell.execute_reply": "2021-07-16T00:21:29.218424Z"
    },
    "papermill": {
     "duration": 0.066809,
     "end_time": "2021-07-16T00:21:29.218625",
     "exception": false,
     "start_time": "2021-07-16T00:21:29.151816",
     "status": "completed"
    },
    "tags": []
   },
   "outputs": [
    {
     "data": {
      "text/html": [
       "<div>\n",
       "<style scoped>\n",
       "    .dataframe tbody tr th:only-of-type {\n",
       "        vertical-align: middle;\n",
       "    }\n",
       "\n",
       "    .dataframe tbody tr th {\n",
       "        vertical-align: top;\n",
       "    }\n",
       "\n",
       "    .dataframe thead th {\n",
       "        text-align: right;\n",
       "    }\n",
       "</style>\n",
       "<table border=\"1\" class=\"dataframe\">\n",
       "  <thead>\n",
       "    <tr style=\"text-align: right;\">\n",
       "      <th></th>\n",
       "      <th>Country/Region</th>\n",
       "      <th>Cases</th>\n",
       "      <th>Deaths</th>\n",
       "      <th>PCases</th>\n",
       "      <th>PDeaths</th>\n",
       "      <th>Cases (+)</th>\n",
       "      <th>Deaths (+)</th>\n",
       "      <th>Fatality Rate</th>\n",
       "      <th>Continent</th>\n",
       "    </tr>\n",
       "  </thead>\n",
       "  <tbody>\n",
       "    <tr>\n",
       "      <th>0</th>\n",
       "      <td>US</td>\n",
       "      <td>33947230</td>\n",
       "      <td>608115</td>\n",
       "      <td>33915385</td>\n",
       "      <td>607784</td>\n",
       "      <td>31845</td>\n",
       "      <td>331</td>\n",
       "      <td>1.79</td>\n",
       "      <td>North America</td>\n",
       "    </tr>\n",
       "    <tr>\n",
       "      <th>1</th>\n",
       "      <td>India</td>\n",
       "      <td>30987880</td>\n",
       "      <td>411989</td>\n",
       "      <td>30946147</td>\n",
       "      <td>411406</td>\n",
       "      <td>41733</td>\n",
       "      <td>583</td>\n",
       "      <td>1.33</td>\n",
       "      <td>Asia</td>\n",
       "    </tr>\n",
       "    <tr>\n",
       "      <th>2</th>\n",
       "      <td>Brazil</td>\n",
       "      <td>19209729</td>\n",
       "      <td>537394</td>\n",
       "      <td>19151993</td>\n",
       "      <td>535838</td>\n",
       "      <td>57736</td>\n",
       "      <td>1556</td>\n",
       "      <td>2.80</td>\n",
       "      <td>South America</td>\n",
       "    </tr>\n",
       "    <tr>\n",
       "      <th>3</th>\n",
       "      <td>France</td>\n",
       "      <td>5884395</td>\n",
       "      <td>111609</td>\n",
       "      <td>5882945</td>\n",
       "      <td>111597</td>\n",
       "      <td>1450</td>\n",
       "      <td>12</td>\n",
       "      <td>1.90</td>\n",
       "      <td>Europe</td>\n",
       "    </tr>\n",
       "    <tr>\n",
       "      <th>4</th>\n",
       "      <td>Russia</td>\n",
       "      <td>5785542</td>\n",
       "      <td>142877</td>\n",
       "      <td>5762211</td>\n",
       "      <td>142102</td>\n",
       "      <td>23331</td>\n",
       "      <td>775</td>\n",
       "      <td>2.47</td>\n",
       "      <td>Europe</td>\n",
       "    </tr>\n",
       "  </tbody>\n",
       "</table>\n",
       "</div>"
      ],
      "text/plain": [
       "  Country/Region     Cases  Deaths    PCases  PDeaths  Cases (+)  Deaths (+)  \\\n",
       "0             US  33947230  608115  33915385   607784      31845         331   \n",
       "1          India  30987880  411989  30946147   411406      41733         583   \n",
       "2         Brazil  19209729  537394  19151993   535838      57736        1556   \n",
       "3         France   5884395  111609   5882945   111597       1450          12   \n",
       "4         Russia   5785542  142877   5762211   142102      23331         775   \n",
       "\n",
       "   Fatality Rate      Continent  \n",
       "0           1.79  North America  \n",
       "1           1.33           Asia  \n",
       "2           2.80  South America  \n",
       "3           1.90         Europe  \n",
       "4           2.47         Europe  "
      ]
     },
     "execution_count": 13,
     "metadata": {},
     "output_type": "execute_result"
    }
   ],
   "source": [
    "#hide\n",
    "for c in 'Cases, Deaths'.split(', '):\n",
    "    df_table[f'{c} (+)'] = (df_table[c] - df_table[f'P{c}']).clip(0)\n",
    "    #Clip ça veut dire, les chiffres negatif sont interdit\n",
    "df_table['Fatality Rate'] = (100* df_table['Deaths']/ df_table['Cases']).round(2)\n",
    "df_table['Continent'] = df_table['Country/Region'].map(mapping['map.continent'])\n",
    "df_table.head(5)"
   ]
  },
  {
   "cell_type": "code",
   "execution_count": 14,
   "id": "aboriginal-bulgaria",
   "metadata": {
    "execution": {
     "iopub.execute_input": "2021-07-16T00:21:29.301913Z",
     "iopub.status.busy": "2021-07-16T00:21:29.301316Z",
     "iopub.status.idle": "2021-07-16T00:21:29.304328Z",
     "shell.execute_reply": "2021-07-16T00:21:29.303807Z"
    },
    "papermill": {
     "duration": 0.048113,
     "end_time": "2021-07-16T00:21:29.304443",
     "exception": false,
     "start_time": "2021-07-16T00:21:29.256330",
     "status": "completed"
    },
    "tags": []
   },
   "outputs": [],
   "source": [
    "#hide\n",
    "#delete problematic countries from table\n",
    "df_table = df_table[~df_table['Country/Region'].isin(['Cape Verde', 'Cruise Ship', 'Kosovo'])]"
   ]
  },
  {
   "cell_type": "code",
   "execution_count": 15,
   "id": "fantastic-effect",
   "metadata": {
    "execution": {
     "iopub.execute_input": "2021-07-16T00:21:29.395258Z",
     "iopub.status.busy": "2021-07-16T00:21:29.394604Z",
     "iopub.status.idle": "2021-07-16T00:21:29.417223Z",
     "shell.execute_reply": "2021-07-16T00:21:29.416602Z"
    },
    "papermill": {
     "duration": 0.074851,
     "end_time": "2021-07-16T00:21:29.417345",
     "exception": false,
     "start_time": "2021-07-16T00:21:29.342494",
     "status": "completed"
    },
    "tags": []
   },
   "outputs": [
    {
     "data": {
      "text/html": [
       "<div>\n",
       "<style scoped>\n",
       "    .dataframe tbody tr th:only-of-type {\n",
       "        vertical-align: middle;\n",
       "    }\n",
       "\n",
       "    .dataframe tbody tr th {\n",
       "        vertical-align: top;\n",
       "    }\n",
       "\n",
       "    .dataframe thead th {\n",
       "        text-align: right;\n",
       "    }\n",
       "</style>\n",
       "<table border=\"1\" class=\"dataframe\">\n",
       "  <thead>\n",
       "    <tr style=\"text-align: right;\">\n",
       "      <th></th>\n",
       "      <th>Country/Region</th>\n",
       "      <th>Cases</th>\n",
       "      <th>Deaths</th>\n",
       "      <th>PCases</th>\n",
       "      <th>PDeaths</th>\n",
       "      <th>Cases (+)</th>\n",
       "      <th>Deaths (+)</th>\n",
       "      <th>Fatality Rate</th>\n",
       "      <th>Continent</th>\n",
       "    </tr>\n",
       "  </thead>\n",
       "  <tbody>\n",
       "    <tr>\n",
       "      <th>0</th>\n",
       "      <td>US</td>\n",
       "      <td>33947230</td>\n",
       "      <td>608115</td>\n",
       "      <td>33915385</td>\n",
       "      <td>607784</td>\n",
       "      <td>31845</td>\n",
       "      <td>331</td>\n",
       "      <td>1.8</td>\n",
       "      <td>North America</td>\n",
       "    </tr>\n",
       "    <tr>\n",
       "      <th>1</th>\n",
       "      <td>India</td>\n",
       "      <td>30987880</td>\n",
       "      <td>411989</td>\n",
       "      <td>30946147</td>\n",
       "      <td>411406</td>\n",
       "      <td>41733</td>\n",
       "      <td>583</td>\n",
       "      <td>1.3</td>\n",
       "      <td>Asia</td>\n",
       "    </tr>\n",
       "    <tr>\n",
       "      <th>2</th>\n",
       "      <td>Brazil</td>\n",
       "      <td>19209729</td>\n",
       "      <td>537394</td>\n",
       "      <td>19151993</td>\n",
       "      <td>535838</td>\n",
       "      <td>57736</td>\n",
       "      <td>1556</td>\n",
       "      <td>2.8</td>\n",
       "      <td>South America</td>\n",
       "    </tr>\n",
       "    <tr>\n",
       "      <th>3</th>\n",
       "      <td>France</td>\n",
       "      <td>5884395</td>\n",
       "      <td>111609</td>\n",
       "      <td>5882945</td>\n",
       "      <td>111597</td>\n",
       "      <td>1450</td>\n",
       "      <td>12</td>\n",
       "      <td>1.9</td>\n",
       "      <td>Europe</td>\n",
       "    </tr>\n",
       "    <tr>\n",
       "      <th>4</th>\n",
       "      <td>Russia</td>\n",
       "      <td>5785542</td>\n",
       "      <td>142877</td>\n",
       "      <td>5762211</td>\n",
       "      <td>142102</td>\n",
       "      <td>23331</td>\n",
       "      <td>775</td>\n",
       "      <td>2.5</td>\n",
       "      <td>Europe</td>\n",
       "    </tr>\n",
       "  </tbody>\n",
       "</table>\n",
       "</div>"
      ],
      "text/plain": [
       "  Country/Region     Cases  Deaths    PCases  PDeaths  Cases (+)  Deaths (+)  \\\n",
       "0             US  33947230  608115  33915385   607784      31845         331   \n",
       "1          India  30987880  411989  30946147   411406      41733         583   \n",
       "2         Brazil  19209729  537394  19151993   535838      57736        1556   \n",
       "3         France   5884395  111609   5882945   111597       1450          12   \n",
       "4         Russia   5785542  142877   5762211   142102      23331         775   \n",
       "\n",
       "   Fatality Rate      Continent  \n",
       "0            1.8  North America  \n",
       "1            1.3           Asia  \n",
       "2            2.8  South America  \n",
       "3            1.9         Europe  \n",
       "4            2.5         Europe  "
      ]
     },
     "execution_count": 15,
     "metadata": {},
     "output_type": "execute_result"
    }
   ],
   "source": [
    "#hide\n",
    "df_table = (pd.DataFrame(dict(Cases=dfc_cases, Deaths=dfc_deaths, PCases=dfp_cases, PDeaths=dfp_deaths))\n",
    "             .sort_values(by=['Cases', 'Deaths'], ascending=[False, False])\n",
    "             .reset_index())\n",
    "df_table.rename(columns={'index': 'Country/Region'}, inplace=True)\n",
    "for c in 'Cases, Deaths'.split(', '):\n",
    "    df_table[f'{c} (+)'] = (df_table[c] - df_table[f'P{c}']).clip(0)  # DATA BUG\n",
    "df_table['Fatality Rate'] = (100 * df_table['Deaths'] / df_table['Cases']).round(1)\n",
    "df_table['Continent'] = df_table['Country/Region'].map(mapping['map.continent'])\n",
    "df_table.head(5)"
   ]
  },
  {
   "cell_type": "code",
   "execution_count": 16,
   "id": "fewer-occasion",
   "metadata": {
    "execution": {
     "iopub.execute_input": "2021-07-16T00:21:29.512361Z",
     "iopub.status.busy": "2021-07-16T00:21:29.511610Z",
     "iopub.status.idle": "2021-07-16T00:21:29.515485Z",
     "shell.execute_reply": "2021-07-16T00:21:29.514900Z"
    },
    "papermill": {
     "duration": 0.056442,
     "end_time": "2021-07-16T00:21:29.515614",
     "exception": false,
     "start_time": "2021-07-16T00:21:29.459172",
     "status": "completed"
    },
    "tags": []
   },
   "outputs": [],
   "source": [
    "#hide\n",
    "#delete problematic countries from table\n",
    "df_table = df_table[~df_table['Country/Region'].isin(['Cape Verde', 'Cruise Ship', 'Kosovo'])]"
   ]
  },
  {
   "cell_type": "code",
   "execution_count": 17,
   "id": "related-center",
   "metadata": {
    "execution": {
     "iopub.execute_input": "2021-07-16T00:21:29.603832Z",
     "iopub.status.busy": "2021-07-16T00:21:29.603190Z",
     "iopub.status.idle": "2021-07-16T00:21:29.618155Z",
     "shell.execute_reply": "2021-07-16T00:21:29.617532Z"
    },
    "papermill": {
     "duration": 0.063999,
     "end_time": "2021-07-16T00:21:29.618274",
     "exception": false,
     "start_time": "2021-07-16T00:21:29.554275",
     "status": "completed"
    },
    "tags": []
   },
   "outputs": [],
   "source": [
    "#hide\n",
    "metrics = [df_table.columns[index] for index in [1,2,5,6]]\n",
    "# s_china = df_table[df_table['Country/Region'].eq('China')][metrics].sum().add_prefix('China ')\n",
    "s_us = df_table[df_table['Country/Region'].eq('US')][metrics].sum().add_prefix('US ')\n",
    "s_eu = df_table[df_table['Continent'].eq('Europe')][metrics].sum().add_prefix('EU ')\n",
    "s_ind = df_table[df_table['Country/Region'].eq('India')][metrics].sum().add_prefix('India ')\n",
    "summary = {'updated': pd.to_datetime(dt_today), 'since': pd.to_datetime(dt_yday)}\n",
    "summary = {'updated': pd.to_datetime(dt_today), 'since': pd.to_datetime(dt_yday)}\n",
    "summary = {**summary, **df_table[metrics].sum(), **s_ind, **s_us, **s_eu}"
   ]
  },
  {
   "cell_type": "code",
   "execution_count": 18,
   "id": "engaging-syndrome",
   "metadata": {
    "execution": {
     "iopub.execute_input": "2021-07-16T00:21:29.706861Z",
     "iopub.status.busy": "2021-07-16T00:21:29.705985Z",
     "iopub.status.idle": "2021-07-16T00:21:29.717646Z",
     "shell.execute_reply": "2021-07-16T00:21:29.718227Z"
    },
    "papermill": {
     "duration": 0.06184,
     "end_time": "2021-07-16T00:21:29.718355",
     "exception": false,
     "start_time": "2021-07-16T00:21:29.656515",
     "status": "completed"
    },
    "tags": []
   },
   "outputs": [],
   "source": [
    "#hide\n",
    "dft_ct_new_cases = dft_cases.groupby(COL_REGION)[dt_cols].sum().diff(axis=1).fillna(0).astype(int)"
   ]
  },
  {
   "cell_type": "code",
   "execution_count": 19,
   "id": "neutral-assignment",
   "metadata": {
    "execution": {
     "iopub.execute_input": "2021-07-16T00:21:29.801701Z",
     "iopub.status.busy": "2021-07-16T00:21:29.801103Z",
     "iopub.status.idle": "2021-07-16T00:21:29.803270Z",
     "shell.execute_reply": "2021-07-16T00:21:29.803899Z"
    },
    "papermill": {
     "duration": 0.047179,
     "end_time": "2021-07-16T00:21:29.804026",
     "exception": false,
     "start_time": "2021-07-16T00:21:29.756847",
     "status": "completed"
    },
    "tags": []
   },
   "outputs": [],
   "source": [
    "#hide\n",
    "everydaycases = dft_ct_new_cases.cumsum(axis=1)"
   ]
  },
  {
   "cell_type": "code",
   "execution_count": 20,
   "id": "parliamentary-calgary",
   "metadata": {
    "execution": {
     "iopub.execute_input": "2021-07-16T00:21:29.883825Z",
     "iopub.status.busy": "2021-07-16T00:21:29.883236Z",
     "iopub.status.idle": "2021-07-16T00:21:30.653650Z",
     "shell.execute_reply": "2021-07-16T00:21:30.654187Z"
    },
    "papermill": {
     "duration": 0.812785,
     "end_time": "2021-07-16T00:21:30.654359",
     "exception": false,
     "start_time": "2021-07-16T00:21:29.841574",
     "status": "completed"
    },
    "tags": []
   },
   "outputs": [],
   "source": [
    "#hide\n",
    "import pandas as pd\n",
    "import matplotlib.pyplot as plt\n",
    "import matplotlib.ticker as ticker\n",
    "import matplotlib.animation as animation\n",
    "from IPython.display import HTML"
   ]
  },
  {
   "cell_type": "code",
   "execution_count": 21,
   "id": "lasting-extraction",
   "metadata": {
    "execution": {
     "iopub.execute_input": "2021-07-16T00:21:30.741181Z",
     "iopub.status.busy": "2021-07-16T00:21:30.740491Z",
     "iopub.status.idle": "2021-07-16T00:21:30.746372Z",
     "shell.execute_reply": "2021-07-16T00:21:30.745855Z"
    },
    "papermill": {
     "duration": 0.051466,
     "end_time": "2021-07-16T00:21:30.746492",
     "exception": false,
     "start_time": "2021-07-16T00:21:30.695026",
     "status": "completed"
    },
    "tags": []
   },
   "outputs": [],
   "source": [
    "#hide\n",
    "t = everydaycases.stack()"
   ]
  },
  {
   "cell_type": "code",
   "execution_count": 22,
   "id": "premier-sleeve",
   "metadata": {
    "execution": {
     "iopub.execute_input": "2021-07-16T00:21:30.834540Z",
     "iopub.status.busy": "2021-07-16T00:21:30.833884Z",
     "iopub.status.idle": "2021-07-16T00:21:30.842339Z",
     "shell.execute_reply": "2021-07-16T00:21:30.842878Z"
    },
    "papermill": {
     "duration": 0.056871,
     "end_time": "2021-07-16T00:21:30.843014",
     "exception": false,
     "start_time": "2021-07-16T00:21:30.786143",
     "status": "completed"
    },
    "tags": []
   },
   "outputs": [],
   "source": [
    "#hide\n",
    "g = t.reset_index(['Country/Region'])"
   ]
  },
  {
   "cell_type": "code",
   "execution_count": 23,
   "id": "distributed-pittsburgh",
   "metadata": {
    "execution": {
     "iopub.execute_input": "2021-07-16T00:21:30.923755Z",
     "iopub.status.busy": "2021-07-16T00:21:30.923149Z",
     "iopub.status.idle": "2021-07-16T00:21:30.925760Z",
     "shell.execute_reply": "2021-07-16T00:21:30.925179Z"
    },
    "papermill": {
     "duration": 0.044669,
     "end_time": "2021-07-16T00:21:30.925892",
     "exception": false,
     "start_time": "2021-07-16T00:21:30.881223",
     "status": "completed"
    },
    "tags": []
   },
   "outputs": [],
   "source": [
    "#hide\n",
    "g.index.name = 'date'"
   ]
  },
  {
   "cell_type": "code",
   "execution_count": 24,
   "id": "naked-donor",
   "metadata": {
    "execution": {
     "iopub.execute_input": "2021-07-16T00:21:31.006578Z",
     "iopub.status.busy": "2021-07-16T00:21:31.005931Z",
     "iopub.status.idle": "2021-07-16T00:21:31.008614Z",
     "shell.execute_reply": "2021-07-16T00:21:31.008041Z"
    },
    "papermill": {
     "duration": 0.044025,
     "end_time": "2021-07-16T00:21:31.008734",
     "exception": false,
     "start_time": "2021-07-16T00:21:30.964709",
     "status": "completed"
    },
    "tags": []
   },
   "outputs": [],
   "source": [
    "# #hide\n",
    "# g = g.reset_index(['date'])"
   ]
  },
  {
   "cell_type": "code",
   "execution_count": 25,
   "id": "incomplete-mustang",
   "metadata": {
    "execution": {
     "iopub.execute_input": "2021-07-16T00:21:31.096659Z",
     "iopub.status.busy": "2021-07-16T00:21:31.095740Z",
     "iopub.status.idle": "2021-07-16T00:21:31.098238Z",
     "shell.execute_reply": "2021-07-16T00:21:31.097725Z"
    },
    "papermill": {
     "duration": 0.050876,
     "end_time": "2021-07-16T00:21:31.098354",
     "exception": false,
     "start_time": "2021-07-16T00:21:31.047478",
     "status": "completed"
    },
    "tags": []
   },
   "outputs": [],
   "source": [
    "#hide\n",
    "# g.head()"
   ]
  },
  {
   "cell_type": "code",
   "execution_count": 26,
   "id": "specific-kruger",
   "metadata": {
    "execution": {
     "iopub.execute_input": "2021-07-16T00:21:31.183346Z",
     "iopub.status.busy": "2021-07-16T00:21:31.182537Z",
     "iopub.status.idle": "2021-07-16T00:21:31.184695Z",
     "shell.execute_reply": "2021-07-16T00:21:31.185200Z"
    },
    "papermill": {
     "duration": 0.045827,
     "end_time": "2021-07-16T00:21:31.185370",
     "exception": false,
     "start_time": "2021-07-16T00:21:31.139543",
     "status": "completed"
    },
    "tags": []
   },
   "outputs": [],
   "source": [
    "#hide\n",
    "# g.columns = ['date','country','cases']"
   ]
  },
  {
   "cell_type": "code",
   "execution_count": 27,
   "id": "tender-conversion",
   "metadata": {
    "execution": {
     "iopub.execute_input": "2021-07-16T00:21:31.270196Z",
     "iopub.status.busy": "2021-07-16T00:21:31.269542Z",
     "iopub.status.idle": "2021-07-16T00:21:31.272057Z",
     "shell.execute_reply": "2021-07-16T00:21:31.271300Z"
    },
    "papermill": {
     "duration": 0.047348,
     "end_time": "2021-07-16T00:21:31.272231",
     "exception": false,
     "start_time": "2021-07-16T00:21:31.224883",
     "status": "completed"
    },
    "tags": []
   },
   "outputs": [],
   "source": [
    "#hide\n",
    "# g['continent'] = g.country"
   ]
  },
  {
   "cell_type": "code",
   "execution_count": 28,
   "id": "substantial-wilderness",
   "metadata": {
    "execution": {
     "iopub.execute_input": "2021-07-16T00:21:31.358967Z",
     "iopub.status.busy": "2021-07-16T00:21:31.358261Z",
     "iopub.status.idle": "2021-07-16T00:21:31.360975Z",
     "shell.execute_reply": "2021-07-16T00:21:31.360441Z"
    },
    "papermill": {
     "duration": 0.046037,
     "end_time": "2021-07-16T00:21:31.361098",
     "exception": false,
     "start_time": "2021-07-16T00:21:31.315061",
     "status": "completed"
    },
    "tags": []
   },
   "outputs": [],
   "source": [
    "#hide\n",
    "# cols = list(g.columns.values)"
   ]
  },
  {
   "cell_type": "code",
   "execution_count": 29,
   "id": "solved-farming",
   "metadata": {
    "execution": {
     "iopub.execute_input": "2021-07-16T00:21:31.446484Z",
     "iopub.status.busy": "2021-07-16T00:21:31.445760Z",
     "iopub.status.idle": "2021-07-16T00:21:31.447938Z",
     "shell.execute_reply": "2021-07-16T00:21:31.448555Z"
    },
    "papermill": {
     "duration": 0.046534,
     "end_time": "2021-07-16T00:21:31.448692",
     "exception": false,
     "start_time": "2021-07-16T00:21:31.402158",
     "status": "completed"
    },
    "tags": []
   },
   "outputs": [],
   "source": [
    "#hide\n",
    "# cols.insert(0, cols.pop())"
   ]
  },
  {
   "cell_type": "code",
   "execution_count": 30,
   "id": "executed-adoption",
   "metadata": {
    "execution": {
     "iopub.execute_input": "2021-07-16T00:21:31.529968Z",
     "iopub.status.busy": "2021-07-16T00:21:31.529301Z",
     "iopub.status.idle": "2021-07-16T00:21:31.531235Z",
     "shell.execute_reply": "2021-07-16T00:21:31.531707Z"
    },
    "papermill": {
     "duration": 0.044391,
     "end_time": "2021-07-16T00:21:31.531845",
     "exception": false,
     "start_time": "2021-07-16T00:21:31.487454",
     "status": "completed"
    },
    "tags": []
   },
   "outputs": [],
   "source": [
    "#hide\n",
    "# g = g[cols]"
   ]
  },
  {
   "cell_type": "code",
   "execution_count": 31,
   "id": "subject-dublin",
   "metadata": {
    "execution": {
     "iopub.execute_input": "2021-07-16T00:21:31.616487Z",
     "iopub.status.busy": "2021-07-16T00:21:31.615750Z",
     "iopub.status.idle": "2021-07-16T00:21:31.618547Z",
     "shell.execute_reply": "2021-07-16T00:21:31.618023Z"
    },
    "papermill": {
     "duration": 0.045959,
     "end_time": "2021-07-16T00:21:31.618670",
     "exception": false,
     "start_time": "2021-07-16T00:21:31.572711",
     "status": "completed"
    },
    "tags": []
   },
   "outputs": [],
   "source": [
    "#hide\n",
    "# g['continent'] = g['continent'].map(mapping['map.continent'])"
   ]
  },
  {
   "cell_type": "code",
   "execution_count": 32,
   "id": "freelance-scout",
   "metadata": {
    "execution": {
     "iopub.execute_input": "2021-07-16T00:21:31.698200Z",
     "iopub.status.busy": "2021-07-16T00:21:31.697584Z",
     "iopub.status.idle": "2021-07-16T00:21:31.700154Z",
     "shell.execute_reply": "2021-07-16T00:21:31.699647Z"
    },
    "papermill": {
     "duration": 0.044396,
     "end_time": "2021-07-16T00:21:31.700289",
     "exception": false,
     "start_time": "2021-07-16T00:21:31.655893",
     "status": "completed"
    },
    "tags": []
   },
   "outputs": [],
   "source": [
    "#hide\n",
    "# g.head()"
   ]
  },
  {
   "cell_type": "code",
   "execution_count": 33,
   "id": "limited-engine",
   "metadata": {
    "execution": {
     "iopub.execute_input": "2021-07-16T00:21:31.782548Z",
     "iopub.status.busy": "2021-07-16T00:21:31.781708Z",
     "iopub.status.idle": "2021-07-16T00:21:31.784517Z",
     "shell.execute_reply": "2021-07-16T00:21:31.783987Z"
    },
    "papermill": {
     "duration": 0.046264,
     "end_time": "2021-07-16T00:21:31.784638",
     "exception": false,
     "start_time": "2021-07-16T00:21:31.738374",
     "status": "completed"
    },
    "tags": []
   },
   "outputs": [],
   "source": [
    "# hide\n",
    "# g['date'] = g['date'].astype('datetime64[ns]')"
   ]
  },
  {
   "cell_type": "code",
   "execution_count": 34,
   "id": "sophisticated-supervisor",
   "metadata": {
    "execution": {
     "iopub.execute_input": "2021-07-16T00:21:31.869578Z",
     "iopub.status.busy": "2021-07-16T00:21:31.868804Z",
     "iopub.status.idle": "2021-07-16T00:21:31.870978Z",
     "shell.execute_reply": "2021-07-16T00:21:31.871452Z"
    },
    "papermill": {
     "duration": 0.046423,
     "end_time": "2021-07-16T00:21:31.871590",
     "exception": false,
     "start_time": "2021-07-16T00:21:31.825167",
     "status": "completed"
    },
    "tags": []
   },
   "outputs": [],
   "source": [
    "#hide\n",
    "# g['date'] = g.date.dt.dayofyear"
   ]
  },
  {
   "cell_type": "code",
   "execution_count": 35,
   "id": "inside-dubai",
   "metadata": {
    "execution": {
     "iopub.execute_input": "2021-07-16T00:21:31.954003Z",
     "iopub.status.busy": "2021-07-16T00:21:31.953392Z",
     "iopub.status.idle": "2021-07-16T00:21:31.956847Z",
     "shell.execute_reply": "2021-07-16T00:21:31.956310Z"
    },
    "papermill": {
     "duration": 0.046343,
     "end_time": "2021-07-16T00:21:31.956970",
     "exception": false,
     "start_time": "2021-07-16T00:21:31.910627",
     "status": "completed"
    },
    "tags": []
   },
   "outputs": [],
   "source": [
    "#hide\n",
    "# g = g.rename(columns= {'continent':'group','country':'name','cases':'value'})"
   ]
  },
  {
   "cell_type": "code",
   "execution_count": 36,
   "id": "fleet-motorcycle",
   "metadata": {
    "execution": {
     "iopub.execute_input": "2021-07-16T00:21:32.037887Z",
     "iopub.status.busy": "2021-07-16T00:21:32.037291Z",
     "iopub.status.idle": "2021-07-16T00:21:32.039993Z",
     "shell.execute_reply": "2021-07-16T00:21:32.039273Z"
    },
    "papermill": {
     "duration": 0.044925,
     "end_time": "2021-07-16T00:21:32.040141",
     "exception": false,
     "start_time": "2021-07-16T00:21:31.995216",
     "status": "completed"
    },
    "tags": []
   },
   "outputs": [],
   "source": [
    "#hide\n",
    "# cols = ['name','group','day','value']"
   ]
  },
  {
   "cell_type": "code",
   "execution_count": 37,
   "id": "continued-sleeping",
   "metadata": {
    "execution": {
     "iopub.execute_input": "2021-07-16T00:21:32.124954Z",
     "iopub.status.busy": "2021-07-16T00:21:32.124334Z",
     "iopub.status.idle": "2021-07-16T00:21:32.126449Z",
     "shell.execute_reply": "2021-07-16T00:21:32.126980Z"
    },
    "papermill": {
     "duration": 0.047422,
     "end_time": "2021-07-16T00:21:32.127109",
     "exception": false,
     "start_time": "2021-07-16T00:21:32.079687",
     "status": "completed"
    },
    "tags": []
   },
   "outputs": [],
   "source": [
    "#hide\n",
    "# g.rename(columns= {'date':'day'},inplace = True)"
   ]
  },
  {
   "cell_type": "code",
   "execution_count": 38,
   "id": "major-fight",
   "metadata": {
    "execution": {
     "iopub.execute_input": "2021-07-16T00:21:32.208438Z",
     "iopub.status.busy": "2021-07-16T00:21:32.207775Z",
     "iopub.status.idle": "2021-07-16T00:21:32.210255Z",
     "shell.execute_reply": "2021-07-16T00:21:32.209764Z"
    },
    "papermill": {
     "duration": 0.044232,
     "end_time": "2021-07-16T00:21:32.210388",
     "exception": false,
     "start_time": "2021-07-16T00:21:32.166156",
     "status": "completed"
    },
    "tags": []
   },
   "outputs": [],
   "source": [
    "#hide\n",
    "# g = g[cols]"
   ]
  },
  {
   "cell_type": "code",
   "execution_count": 39,
   "id": "structured-mobile",
   "metadata": {
    "execution": {
     "iopub.execute_input": "2021-07-16T00:21:32.297519Z",
     "iopub.status.busy": "2021-07-16T00:21:32.296895Z",
     "iopub.status.idle": "2021-07-16T00:21:32.299429Z",
     "shell.execute_reply": "2021-07-16T00:21:32.298773Z"
    },
    "papermill": {
     "duration": 0.048923,
     "end_time": "2021-07-16T00:21:32.299566",
     "exception": false,
     "start_time": "2021-07-16T00:21:32.250643",
     "status": "completed"
    },
    "tags": []
   },
   "outputs": [],
   "source": [
    "# #hide\n",
    "# g = g[g.group.notna()]"
   ]
  },
  {
   "cell_type": "code",
   "execution_count": 40,
   "id": "determined-closing",
   "metadata": {
    "execution": {
     "iopub.execute_input": "2021-07-16T00:21:32.383574Z",
     "iopub.status.busy": "2021-07-16T00:21:32.382833Z",
     "iopub.status.idle": "2021-07-16T00:21:32.385499Z",
     "shell.execute_reply": "2021-07-16T00:21:32.384995Z"
    },
    "papermill": {
     "duration": 0.046677,
     "end_time": "2021-07-16T00:21:32.385616",
     "exception": false,
     "start_time": "2021-07-16T00:21:32.338939",
     "status": "completed"
    },
    "tags": []
   },
   "outputs": [],
   "source": [
    "# #hide\n",
    "# colors = dict(zip(\n",
    "#     [\"Oceania\", \"Europe\", \"Asia\", \"South America\", \"Middle East\", \"North America\", \"Africa\"],\n",
    "#     [\"#adb0ff\", \"#ffb3ff\", \"#90d595\", \"#e48381\", \"#aafbff\", \"#f7bb5f\", \"#eafb50\"]\n",
    "# ))\n",
    "# group_lk = g.set_index('name')['group'].to_dict()"
   ]
  },
  {
   "cell_type": "code",
   "execution_count": null,
   "id": "gross-drinking",
   "metadata": {
    "papermill": {
     "duration": 0.037605,
     "end_time": "2021-07-16T00:21:32.464194",
     "exception": false,
     "start_time": "2021-07-16T00:21:32.426589",
     "status": "completed"
    },
    "tags": []
   },
   "outputs": [],
   "source": []
  },
  {
   "cell_type": "code",
   "execution_count": 41,
   "id": "subject-macintosh",
   "metadata": {
    "execution": {
     "iopub.execute_input": "2021-07-16T00:21:32.548110Z",
     "iopub.status.busy": "2021-07-16T00:21:32.547444Z",
     "iopub.status.idle": "2021-07-16T00:21:32.550084Z",
     "shell.execute_reply": "2021-07-16T00:21:32.549461Z"
    },
    "papermill": {
     "duration": 0.047066,
     "end_time": "2021-07-16T00:21:32.550221",
     "exception": false,
     "start_time": "2021-07-16T00:21:32.503155",
     "status": "completed"
    },
    "tags": []
   },
   "outputs": [],
   "source": [
    "# #hide\n",
    "# fig, ax = plt.subplots(figsize=(15, 8))\n",
    "\n",
    "# def draw_barchart(current_day):\n",
    "#     dff = g[g['day'].eq(current_day)].sort_values(by='value', ascending=True).tail(10)\n",
    "#     ax.clear()\n",
    "#     ax.barh(dff['name'], dff['value'], color=[colors[group_lk[x]] for x in dff['name']])\n",
    "#     dx = dff['value'].max() / 200\n",
    "    \n",
    "#     for i, (value, name) in enumerate(zip(dff['value'], dff['name'])):\n",
    "#         ax.text(value-dx, i,     name,           size=14, weight=600, ha='right', va='bottom')\n",
    "#         ax.text(value-dx, i-.25, group_lk[name], size=10, color='#444444', ha='right', va='baseline')\n",
    "#         ax.text(value+dx, i,     f'{value:,.0f}',  size=14, ha='left',  va='center')\n",
    "#     ax.text(1, 0.4, current_day, transform=ax.transAxes, color='#777777', size=46, ha='right', weight=800)\n",
    "#     ax.text(0, 1.06, 'Population (thousands)', transform=ax.transAxes, size=12, color='#777777')\n",
    "#     ax.xaxis.set_major_formatter(ticker.StrMethodFormatter('{x:,.0f}'))\n",
    "#     ax.xaxis.set_ticks_position('top')\n",
    "#     ax.tick_params(axis='x', colors='#777777', labelsize=12)\n",
    "#     ax.set_yticks([])\n",
    "#     ax.margins(0, 0.01)\n",
    "#     ax.grid(which='major', axis='x', linestyle='-')\n",
    "#     ax.set_axisbelow(True)\n",
    "    \n",
    "#     ax.text(0, 1.15, 'Coronavirus',\n",
    "#             transform=ax.transAxes, size=24, weight=600, ha='left', va='top')\n",
    "# #     ax.text(1, 0, 'by @pratapvardhan; credit @jburnmurdoch', transform=ax.transAxes, color='#777777', ha='right',\n",
    "# #             bbox=dict(facecolor='white', alpha=0.8, edgecolor='white'))\n",
    "#     plt.box(False)"
   ]
  },
  {
   "cell_type": "code",
   "execution_count": 42,
   "id": "sexual-wages",
   "metadata": {
    "execution": {
     "iopub.execute_input": "2021-07-16T00:21:32.634967Z",
     "iopub.status.busy": "2021-07-16T00:21:32.634282Z",
     "iopub.status.idle": "2021-07-16T00:21:32.635778Z",
     "shell.execute_reply": "2021-07-16T00:21:32.636619Z"
    },
    "papermill": {
     "duration": 0.046835,
     "end_time": "2021-07-16T00:21:32.636782",
     "exception": false,
     "start_time": "2021-07-16T00:21:32.589947",
     "status": "completed"
    },
    "tags": []
   },
   "outputs": [],
   "source": [
    "# #hide_input\n",
    "# fig, ax = plt.subplots(figsize=(15, 8))\n",
    "# animator = animation.FuncAnimation(fig, draw_barchart, frames=range(g.day.values.min(), g.day.values.max()))\n",
    "# HTML(animator.to_jshtml())\n",
    "# # or use animator.to_html5_video() or animator.save() "
   ]
  },
  {
   "cell_type": "code",
   "execution_count": null,
   "id": "australian-container",
   "metadata": {
    "papermill": {
     "duration": 0.041791,
     "end_time": "2021-07-16T00:21:32.719461",
     "exception": false,
     "start_time": "2021-07-16T00:21:32.677670",
     "status": "completed"
    },
    "tags": []
   },
   "outputs": [],
   "source": []
  },
  {
   "cell_type": "code",
   "execution_count": null,
   "id": "mediterranean-pontiac",
   "metadata": {
    "papermill": {
     "duration": 0.040404,
     "end_time": "2021-07-16T00:21:32.798947",
     "exception": false,
     "start_time": "2021-07-16T00:21:32.758543",
     "status": "completed"
    },
    "tags": []
   },
   "outputs": [],
   "source": []
  },
  {
   "cell_type": "code",
   "execution_count": null,
   "id": "aging-legislature",
   "metadata": {
    "papermill": {
     "duration": 0.044007,
     "end_time": "2021-07-16T00:21:32.884669",
     "exception": false,
     "start_time": "2021-07-16T00:21:32.840662",
     "status": "completed"
    },
    "tags": []
   },
   "outputs": [],
   "source": []
  }
 ],
 "metadata": {
  "kernelspec": {
   "display_name": "Python 3",
   "language": "python",
   "name": "python3"
  },
  "language_info": {
   "codemirror_mode": {
    "name": "ipython",
    "version": 3
   },
   "file_extension": ".py",
   "mimetype": "text/x-python",
   "name": "python",
   "nbconvert_exporter": "python",
   "pygments_lexer": "ipython3",
   "version": "3.6.14"
  },
  "papermill": {
   "duration": 7.214344,
   "end_time": "2021-07-16T00:21:33.233699",
   "environment_variables": {},
   "exception": null,
   "input_path": "2020-03-21-covid19exp.ipynb",
   "output_path": "2020-03-21-covid19exp.ipynb",
   "parameters": {},
   "start_time": "2021-07-16T00:21:26.019355",
   "version": "2.0.0"
  }
 },
 "nbformat": 4,
 "nbformat_minor": 5
}