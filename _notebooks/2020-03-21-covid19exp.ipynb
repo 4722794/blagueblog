{
 "cells": [
  {
   "cell_type": "markdown",
   "id": "muslim-click",
   "metadata": {
    "papermill": {
     "duration": 0.036867,
     "end_time": "2022-04-21T00:40:17.253643",
     "exception": false,
     "start_time": "2022-04-21T00:40:17.216776",
     "status": "completed"
    },
    "tags": []
   },
   "source": [
    "# COVID-19 Case Race\n",
    "> A race chart to see rising cases around the world\n",
    "\n",
    "- author: Hargun Oberoi\n",
    "- image: images/covid-overview.png\n",
    "- hide: false\n",
    "- badges: false"
   ]
  },
  {
   "cell_type": "code",
   "execution_count": 1,
   "id": "proof-material",
   "metadata": {
    "execution": {
     "iopub.execute_input": "2022-04-21T00:40:17.336124Z",
     "iopub.status.busy": "2022-04-21T00:40:17.335477Z",
     "iopub.status.idle": "2022-04-21T00:40:17.730325Z",
     "shell.execute_reply": "2022-04-21T00:40:17.729813Z"
    },
    "papermill": {
     "duration": 0.444411,
     "end_time": "2022-04-21T00:40:17.730475",
     "exception": false,
     "start_time": "2022-04-21T00:40:17.286064",
     "status": "completed"
    },
    "tags": []
   },
   "outputs": [],
   "source": [
    "#hide\n",
    "import numpy as np\n",
    "import pandas as pd\n",
    "from jinja2 import Template\n",
    "from IPython.display import HTML"
   ]
  },
  {
   "cell_type": "code",
   "execution_count": 2,
   "id": "developed-terminology",
   "metadata": {
    "execution": {
     "iopub.execute_input": "2022-04-21T00:40:17.810561Z",
     "iopub.status.busy": "2022-04-21T00:40:17.809961Z",
     "iopub.status.idle": "2022-04-21T00:40:17.812500Z",
     "shell.execute_reply": "2022-04-21T00:40:17.811959Z"
    },
    "papermill": {
     "duration": 0.045679,
     "end_time": "2022-04-21T00:40:17.812619",
     "exception": false,
     "start_time": "2022-04-21T00:40:17.766940",
     "status": "completed"
    },
    "tags": []
   },
   "outputs": [],
   "source": [
    "#hide\n",
    "\n",
    "# FETCH\n",
    "base_url = 'https://raw.githubusercontent.com/pratapvardhan/notebooks/master/covid19/'\n",
    "paths = {\n",
    "    'mapping': base_url + 'mapping_countries.csv',\n",
    "    'overview': base_url + 'overview.tpl'\n",
    "}"
   ]
  },
  {
   "cell_type": "code",
   "execution_count": 3,
   "id": "dynamic-saver",
   "metadata": {
    "execution": {
     "iopub.execute_input": "2022-04-21T00:40:17.892565Z",
     "iopub.status.busy": "2022-04-21T00:40:17.891875Z",
     "iopub.status.idle": "2022-04-21T00:40:17.895230Z",
     "shell.execute_reply": "2022-04-21T00:40:17.894716Z"
    },
    "papermill": {
     "duration": 0.049101,
     "end_time": "2022-04-21T00:40:17.895353",
     "exception": false,
     "start_time": "2022-04-21T00:40:17.846252",
     "status": "completed"
    },
    "tags": []
   },
   "outputs": [
    {
     "data": {
      "text/plain": [
       "'https://raw.githubusercontent.com/pratapvardhan/notebooks/master/covid19/mapping_countries.csv'"
      ]
     },
     "execution_count": 3,
     "metadata": {},
     "output_type": "execute_result"
    }
   ],
   "source": [
    "#hide\n",
    "paths['mapping']"
   ]
  },
  {
   "cell_type": "code",
   "execution_count": 4,
   "id": "urban-software",
   "metadata": {
    "execution": {
     "iopub.execute_input": "2022-04-21T00:40:17.976143Z",
     "iopub.status.busy": "2022-04-21T00:40:17.975598Z",
     "iopub.status.idle": "2022-04-21T00:40:17.978187Z",
     "shell.execute_reply": "2022-04-21T00:40:17.977548Z"
    },
    "papermill": {
     "duration": 0.041985,
     "end_time": "2022-04-21T00:40:17.978291",
     "exception": false,
     "start_time": "2022-04-21T00:40:17.936306",
     "status": "completed"
    },
    "tags": []
   },
   "outputs": [],
   "source": [
    "#hide\n",
    "def get_mappings(url):\n",
    "    df = pd.read_csv(url)\n",
    "    return {\n",
    "        'df': df,\n",
    "        'replace.country': dict(df.dropna(subset=['Name']).set_index('Country')['Name']),\n",
    "        'map.continent': dict(df.set_index('Name')['Continent'])\n",
    "    }"
   ]
  },
  {
   "cell_type": "code",
   "execution_count": 5,
   "id": "intimate-machinery",
   "metadata": {
    "execution": {
     "iopub.execute_input": "2022-04-21T00:40:18.048085Z",
     "iopub.status.busy": "2022-04-21T00:40:18.047505Z",
     "iopub.status.idle": "2022-04-21T00:40:18.075912Z",
     "shell.execute_reply": "2022-04-21T00:40:18.076607Z"
    },
    "papermill": {
     "duration": 0.065546,
     "end_time": "2022-04-21T00:40:18.076735",
     "exception": false,
     "start_time": "2022-04-21T00:40:18.011189",
     "status": "completed"
    },
    "tags": []
   },
   "outputs": [],
   "source": [
    "#hide\n",
    "mapping = get_mappings(paths['mapping'])"
   ]
  },
  {
   "cell_type": "code",
   "execution_count": 6,
   "id": "certified-tactics",
   "metadata": {
    "execution": {
     "iopub.execute_input": "2022-04-21T00:40:18.148009Z",
     "iopub.status.busy": "2022-04-21T00:40:18.147358Z",
     "iopub.status.idle": "2022-04-21T00:40:18.149636Z",
     "shell.execute_reply": "2022-04-21T00:40:18.150468Z"
    },
    "papermill": {
     "duration": 0.040379,
     "end_time": "2022-04-21T00:40:18.150628",
     "exception": false,
     "start_time": "2022-04-21T00:40:18.110249",
     "status": "completed"
    },
    "tags": []
   },
   "outputs": [],
   "source": [
    "#hide\n",
    "def get_template(path):\n",
    "    from urllib.parse import urlparse\n",
    "    if bool(urlparse(path).netloc):\n",
    "        from urllib.request import urlopen\n",
    "        return urlopen(path).read().decode('utf8')\n",
    "    return open(path).read()"
   ]
  },
  {
   "cell_type": "code",
   "execution_count": 7,
   "id": "realistic-blast",
   "metadata": {
    "execution": {
     "iopub.execute_input": "2022-04-21T00:40:18.221222Z",
     "iopub.status.busy": "2022-04-21T00:40:18.220359Z",
     "iopub.status.idle": "2022-04-21T00:40:18.222999Z",
     "shell.execute_reply": "2022-04-21T00:40:18.223552Z"
    },
    "papermill": {
     "duration": 0.039827,
     "end_time": "2022-04-21T00:40:18.223711",
     "exception": false,
     "start_time": "2022-04-21T00:40:18.183884",
     "status": "completed"
    },
    "tags": []
   },
   "outputs": [],
   "source": [
    "#hide\n",
    "def get_frame(name):\n",
    "    url = (\n",
    "        'https://raw.githubusercontent.com/CSSEGISandData/COVID-19/master/csse_covid_19_data/'\n",
    "        f'csse_covid_19_time_series/time_series_covid19_{name}_global.csv')\n",
    "    df = pd.read_csv(url)\n",
    "    # rename countries\n",
    "    df['Country/Region'] = df['Country/Region'].replace(mapping['replace.country'])\n",
    "    return df"
   ]
  },
  {
   "cell_type": "code",
   "execution_count": 8,
   "id": "affiliated-characterization",
   "metadata": {
    "execution": {
     "iopub.execute_input": "2022-04-21T00:40:18.299143Z",
     "iopub.status.busy": "2022-04-21T00:40:18.298562Z",
     "iopub.status.idle": "2022-04-21T00:40:18.300756Z",
     "shell.execute_reply": "2022-04-21T00:40:18.301270Z"
    },
    "papermill": {
     "duration": 0.044582,
     "end_time": "2022-04-21T00:40:18.301434",
     "exception": false,
     "start_time": "2022-04-21T00:40:18.256852",
     "status": "completed"
    },
    "tags": []
   },
   "outputs": [],
   "source": [
    "#hide\n",
    "def get_dates(df):\n",
    "    dt_cols = df.columns[~df.columns.isin(['Province/State', 'Country/Region', 'Lat', 'Long'])]\n",
    "    LAST_DATE_I = -1\n",
    "    # sometimes last column may be empty, then go backwards\n",
    "    for i in range(-1, -len(dt_cols), -1):\n",
    "        if not df[dt_cols[i]].fillna(0).eq(0).all():\n",
    "            LAST_DATE_I = i\n",
    "            break\n",
    "    return LAST_DATE_I, dt_cols"
   ]
  },
  {
   "cell_type": "code",
   "execution_count": 9,
   "id": "recent-optimization",
   "metadata": {
    "execution": {
     "iopub.execute_input": "2022-04-21T00:40:18.376663Z",
     "iopub.status.busy": "2022-04-21T00:40:18.375881Z",
     "iopub.status.idle": "2022-04-21T00:40:18.757938Z",
     "shell.execute_reply": "2022-04-21T00:40:18.757202Z"
    },
    "papermill": {
     "duration": 0.421029,
     "end_time": "2022-04-21T00:40:18.758078",
     "exception": false,
     "start_time": "2022-04-21T00:40:18.337049",
     "status": "completed"
    },
    "tags": []
   },
   "outputs": [],
   "source": [
    "#hide\n",
    "COL_REGION = 'Country/Region'\n",
    "# Confirmed, Recovered, Deaths\n",
    "df = get_frame('confirmed')\n",
    "# dft_: timeseries, dfc_: today country agg\n",
    "dft_cases = df\n",
    "dft_deaths = get_frame('deaths')\n",
    "dft_recovered = get_frame('recovered')\n",
    "LAST_DATE_I, dt_cols = get_dates(df)"
   ]
  },
  {
   "cell_type": "code",
   "execution_count": 10,
   "id": "absolute-copper",
   "metadata": {
    "execution": {
     "iopub.execute_input": "2022-04-21T00:40:18.836703Z",
     "iopub.status.busy": "2022-04-21T00:40:18.836067Z",
     "iopub.status.idle": "2022-04-21T00:40:18.838890Z",
     "shell.execute_reply": "2022-04-21T00:40:18.838314Z"
    },
    "papermill": {
     "duration": 0.043732,
     "end_time": "2022-04-21T00:40:18.839009",
     "exception": false,
     "start_time": "2022-04-21T00:40:18.795277",
     "status": "completed"
    },
    "tags": []
   },
   "outputs": [],
   "source": [
    "#hide\n",
    "LAST_DATE_I, dt_cols = get_dates(df)\n",
    "dt_today =dt_cols[LAST_DATE_I]\n",
    "# dt_5day = dt_cols[LAST_DATE_I - 5]\n",
    "dt_yday = dt_cols[LAST_DATE_I - 1]"
   ]
  },
  {
   "cell_type": "code",
   "execution_count": 11,
   "id": "restricted-sheriff",
   "metadata": {
    "execution": {
     "iopub.execute_input": "2022-04-21T00:40:18.914567Z",
     "iopub.status.busy": "2022-04-21T00:40:18.913938Z",
     "iopub.status.idle": "2022-04-21T00:40:18.922946Z",
     "shell.execute_reply": "2022-04-21T00:40:18.923455Z"
    },
    "papermill": {
     "duration": 0.049456,
     "end_time": "2022-04-21T00:40:18.923570",
     "exception": false,
     "start_time": "2022-04-21T00:40:18.874114",
     "status": "completed"
    },
    "tags": []
   },
   "outputs": [],
   "source": [
    "#hide\n",
    "dfc_cases = dft_cases.groupby(COL_REGION)[dt_today].sum()\n",
    "dfc_deaths = dft_deaths.groupby(COL_REGION)[dt_today].sum()\n",
    "# dfp_cases = dft_cases.groupby(COL_REGION)[dt_5day].sum()\n",
    "# dfp_deaths = dft_deaths.groupby(COL_REGION)[dt_5day].sum()\n",
    "dfp_cases = dft_cases.groupby(COL_REGION)[dt_yday].sum()\n",
    "dfp_deaths = dft_deaths.groupby(COL_REGION)[dt_yday].sum()"
   ]
  },
  {
   "cell_type": "code",
   "execution_count": 12,
   "id": "deluxe-hepatitis",
   "metadata": {
    "execution": {
     "iopub.execute_input": "2022-04-21T00:40:18.998770Z",
     "iopub.status.busy": "2022-04-21T00:40:18.998099Z",
     "iopub.status.idle": "2022-04-21T00:40:19.004081Z",
     "shell.execute_reply": "2022-04-21T00:40:19.003595Z"
    },
    "papermill": {
     "duration": 0.045249,
     "end_time": "2022-04-21T00:40:19.004216",
     "exception": false,
     "start_time": "2022-04-21T00:40:18.958967",
     "status": "completed"
    },
    "tags": []
   },
   "outputs": [],
   "source": [
    "#hide\n",
    "df_table = (pd.DataFrame(dict(Cases = dfc_cases, Deaths = dfc_deaths, PCases = dfp_cases, PDeaths = dfp_deaths))\n",
    "            .sort_values(by = ['Cases','Deaths'], ascending = [False, False])\n",
    "            .reset_index())"
   ]
  },
  {
   "cell_type": "code",
   "execution_count": 13,
   "id": "educational-chancellor",
   "metadata": {
    "execution": {
     "iopub.execute_input": "2022-04-21T00:40:19.099253Z",
     "iopub.status.busy": "2022-04-21T00:40:19.098490Z",
     "iopub.status.idle": "2022-04-21T00:40:19.107661Z",
     "shell.execute_reply": "2022-04-21T00:40:19.108275Z"
    },
    "papermill": {
     "duration": 0.070897,
     "end_time": "2022-04-21T00:40:19.108430",
     "exception": false,
     "start_time": "2022-04-21T00:40:19.037533",
     "status": "completed"
    },
    "tags": []
   },
   "outputs": [
    {
     "data": {
      "text/html": [
       "<div>\n",
       "<style scoped>\n",
       "    .dataframe tbody tr th:only-of-type {\n",
       "        vertical-align: middle;\n",
       "    }\n",
       "\n",
       "    .dataframe tbody tr th {\n",
       "        vertical-align: top;\n",
       "    }\n",
       "\n",
       "    .dataframe thead th {\n",
       "        text-align: right;\n",
       "    }\n",
       "</style>\n",
       "<table border=\"1\" class=\"dataframe\">\n",
       "  <thead>\n",
       "    <tr style=\"text-align: right;\">\n",
       "      <th></th>\n",
       "      <th>Country/Region</th>\n",
       "      <th>Cases</th>\n",
       "      <th>Deaths</th>\n",
       "      <th>PCases</th>\n",
       "      <th>PDeaths</th>\n",
       "      <th>Cases (+)</th>\n",
       "      <th>Deaths (+)</th>\n",
       "      <th>Fatality Rate</th>\n",
       "      <th>Continent</th>\n",
       "    </tr>\n",
       "  </thead>\n",
       "  <tbody>\n",
       "    <tr>\n",
       "      <th>0</th>\n",
       "      <td>US</td>\n",
       "      <td>80732932</td>\n",
       "      <td>989331</td>\n",
       "      <td>80686311</td>\n",
       "      <td>988899</td>\n",
       "      <td>46621</td>\n",
       "      <td>432</td>\n",
       "      <td>1.23</td>\n",
       "      <td>North America</td>\n",
       "    </tr>\n",
       "    <tr>\n",
       "      <th>1</th>\n",
       "      <td>India</td>\n",
       "      <td>43047594</td>\n",
       "      <td>522006</td>\n",
       "      <td>43045527</td>\n",
       "      <td>521966</td>\n",
       "      <td>2067</td>\n",
       "      <td>40</td>\n",
       "      <td>1.21</td>\n",
       "      <td>Asia</td>\n",
       "    </tr>\n",
       "    <tr>\n",
       "      <th>2</th>\n",
       "      <td>Brazil</td>\n",
       "      <td>30275219</td>\n",
       "      <td>662396</td>\n",
       "      <td>30261088</td>\n",
       "      <td>662271</td>\n",
       "      <td>14131</td>\n",
       "      <td>125</td>\n",
       "      <td>2.19</td>\n",
       "      <td>South America</td>\n",
       "    </tr>\n",
       "    <tr>\n",
       "      <th>3</th>\n",
       "      <td>France</td>\n",
       "      <td>28006219</td>\n",
       "      <td>145424</td>\n",
       "      <td>27980729</td>\n",
       "      <td>145242</td>\n",
       "      <td>25490</td>\n",
       "      <td>182</td>\n",
       "      <td>0.52</td>\n",
       "      <td>Europe</td>\n",
       "    </tr>\n",
       "    <tr>\n",
       "      <th>4</th>\n",
       "      <td>Germany</td>\n",
       "      <td>23658211</td>\n",
       "      <td>133308</td>\n",
       "      <td>23459628</td>\n",
       "      <td>132960</td>\n",
       "      <td>198583</td>\n",
       "      <td>348</td>\n",
       "      <td>0.56</td>\n",
       "      <td>Europe</td>\n",
       "    </tr>\n",
       "  </tbody>\n",
       "</table>\n",
       "</div>"
      ],
      "text/plain": [
       "  Country/Region     Cases  Deaths    PCases  PDeaths  Cases (+)  Deaths (+)  \\\n",
       "0             US  80732932  989331  80686311   988899      46621         432   \n",
       "1          India  43047594  522006  43045527   521966       2067          40   \n",
       "2         Brazil  30275219  662396  30261088   662271      14131         125   \n",
       "3         France  28006219  145424  27980729   145242      25490         182   \n",
       "4        Germany  23658211  133308  23459628   132960     198583         348   \n",
       "\n",
       "   Fatality Rate      Continent  \n",
       "0           1.23  North America  \n",
       "1           1.21           Asia  \n",
       "2           2.19  South America  \n",
       "3           0.52         Europe  \n",
       "4           0.56         Europe  "
      ]
     },
     "execution_count": 13,
     "metadata": {},
     "output_type": "execute_result"
    }
   ],
   "source": [
    "#hide\n",
    "for c in 'Cases, Deaths'.split(', '):\n",
    "    df_table[f'{c} (+)'] = (df_table[c] - df_table[f'P{c}']).clip(0)\n",
    "    #Clip ça veut dire, les chiffres negatif sont interdit\n",
    "df_table['Fatality Rate'] = (100* df_table['Deaths']/ df_table['Cases']).round(2)\n",
    "df_table['Continent'] = df_table['Country/Region'].map(mapping['map.continent'])\n",
    "df_table.head(5)"
   ]
  },
  {
   "cell_type": "code",
   "execution_count": 14,
   "id": "aboriginal-bulgaria",
   "metadata": {
    "execution": {
     "iopub.execute_input": "2022-04-21T00:40:19.185690Z",
     "iopub.status.busy": "2022-04-21T00:40:19.185011Z",
     "iopub.status.idle": "2022-04-21T00:40:19.188091Z",
     "shell.execute_reply": "2022-04-21T00:40:19.188836Z"
    },
    "papermill": {
     "duration": 0.045353,
     "end_time": "2022-04-21T00:40:19.188965",
     "exception": false,
     "start_time": "2022-04-21T00:40:19.143612",
     "status": "completed"
    },
    "tags": []
   },
   "outputs": [],
   "source": [
    "#hide\n",
    "#delete problematic countries from table\n",
    "df_table = df_table[~df_table['Country/Region'].isin(['Cape Verde', 'Cruise Ship', 'Kosovo'])]"
   ]
  },
  {
   "cell_type": "code",
   "execution_count": 15,
   "id": "fantastic-effect",
   "metadata": {
    "execution": {
     "iopub.execute_input": "2022-04-21T00:40:19.269782Z",
     "iopub.status.busy": "2022-04-21T00:40:19.269034Z",
     "iopub.status.idle": "2022-04-21T00:40:19.291973Z",
     "shell.execute_reply": "2022-04-21T00:40:19.292748Z"
    },
    "papermill": {
     "duration": 0.068846,
     "end_time": "2022-04-21T00:40:19.292947",
     "exception": false,
     "start_time": "2022-04-21T00:40:19.224101",
     "status": "completed"
    },
    "tags": []
   },
   "outputs": [
    {
     "data": {
      "text/html": [
       "<div>\n",
       "<style scoped>\n",
       "    .dataframe tbody tr th:only-of-type {\n",
       "        vertical-align: middle;\n",
       "    }\n",
       "\n",
       "    .dataframe tbody tr th {\n",
       "        vertical-align: top;\n",
       "    }\n",
       "\n",
       "    .dataframe thead th {\n",
       "        text-align: right;\n",
       "    }\n",
       "</style>\n",
       "<table border=\"1\" class=\"dataframe\">\n",
       "  <thead>\n",
       "    <tr style=\"text-align: right;\">\n",
       "      <th></th>\n",
       "      <th>Country/Region</th>\n",
       "      <th>Cases</th>\n",
       "      <th>Deaths</th>\n",
       "      <th>PCases</th>\n",
       "      <th>PDeaths</th>\n",
       "      <th>Cases (+)</th>\n",
       "      <th>Deaths (+)</th>\n",
       "      <th>Fatality Rate</th>\n",
       "      <th>Continent</th>\n",
       "    </tr>\n",
       "  </thead>\n",
       "  <tbody>\n",
       "    <tr>\n",
       "      <th>0</th>\n",
       "      <td>US</td>\n",
       "      <td>80732932</td>\n",
       "      <td>989331</td>\n",
       "      <td>80686311</td>\n",
       "      <td>988899</td>\n",
       "      <td>46621</td>\n",
       "      <td>432</td>\n",
       "      <td>1.2</td>\n",
       "      <td>North America</td>\n",
       "    </tr>\n",
       "    <tr>\n",
       "      <th>1</th>\n",
       "      <td>India</td>\n",
       "      <td>43047594</td>\n",
       "      <td>522006</td>\n",
       "      <td>43045527</td>\n",
       "      <td>521966</td>\n",
       "      <td>2067</td>\n",
       "      <td>40</td>\n",
       "      <td>1.2</td>\n",
       "      <td>Asia</td>\n",
       "    </tr>\n",
       "    <tr>\n",
       "      <th>2</th>\n",
       "      <td>Brazil</td>\n",
       "      <td>30275219</td>\n",
       "      <td>662396</td>\n",
       "      <td>30261088</td>\n",
       "      <td>662271</td>\n",
       "      <td>14131</td>\n",
       "      <td>125</td>\n",
       "      <td>2.2</td>\n",
       "      <td>South America</td>\n",
       "    </tr>\n",
       "    <tr>\n",
       "      <th>3</th>\n",
       "      <td>France</td>\n",
       "      <td>28006219</td>\n",
       "      <td>145424</td>\n",
       "      <td>27980729</td>\n",
       "      <td>145242</td>\n",
       "      <td>25490</td>\n",
       "      <td>182</td>\n",
       "      <td>0.5</td>\n",
       "      <td>Europe</td>\n",
       "    </tr>\n",
       "    <tr>\n",
       "      <th>4</th>\n",
       "      <td>Germany</td>\n",
       "      <td>23658211</td>\n",
       "      <td>133308</td>\n",
       "      <td>23459628</td>\n",
       "      <td>132960</td>\n",
       "      <td>198583</td>\n",
       "      <td>348</td>\n",
       "      <td>0.6</td>\n",
       "      <td>Europe</td>\n",
       "    </tr>\n",
       "  </tbody>\n",
       "</table>\n",
       "</div>"
      ],
      "text/plain": [
       "  Country/Region     Cases  Deaths    PCases  PDeaths  Cases (+)  Deaths (+)  \\\n",
       "0             US  80732932  989331  80686311   988899      46621         432   \n",
       "1          India  43047594  522006  43045527   521966       2067          40   \n",
       "2         Brazil  30275219  662396  30261088   662271      14131         125   \n",
       "3         France  28006219  145424  27980729   145242      25490         182   \n",
       "4        Germany  23658211  133308  23459628   132960     198583         348   \n",
       "\n",
       "   Fatality Rate      Continent  \n",
       "0            1.2  North America  \n",
       "1            1.2           Asia  \n",
       "2            2.2  South America  \n",
       "3            0.5         Europe  \n",
       "4            0.6         Europe  "
      ]
     },
     "execution_count": 15,
     "metadata": {},
     "output_type": "execute_result"
    }
   ],
   "source": [
    "#hide\n",
    "df_table = (pd.DataFrame(dict(Cases=dfc_cases, Deaths=dfc_deaths, PCases=dfp_cases, PDeaths=dfp_deaths))\n",
    "             .sort_values(by=['Cases', 'Deaths'], ascending=[False, False])\n",
    "             .reset_index())\n",
    "df_table.rename(columns={'index': 'Country/Region'}, inplace=True)\n",
    "for c in 'Cases, Deaths'.split(', '):\n",
    "    df_table[f'{c} (+)'] = (df_table[c] - df_table[f'P{c}']).clip(0)  # DATA BUG\n",
    "df_table['Fatality Rate'] = (100 * df_table['Deaths'] / df_table['Cases']).round(1)\n",
    "df_table['Continent'] = df_table['Country/Region'].map(mapping['map.continent'])\n",
    "df_table.head(5)"
   ]
  },
  {
   "cell_type": "code",
   "execution_count": 16,
   "id": "fewer-occasion",
   "metadata": {
    "execution": {
     "iopub.execute_input": "2022-04-21T00:40:19.370608Z",
     "iopub.status.busy": "2022-04-21T00:40:19.370008Z",
     "iopub.status.idle": "2022-04-21T00:40:19.372124Z",
     "shell.execute_reply": "2022-04-21T00:40:19.372594Z"
    },
    "papermill": {
     "duration": 0.043454,
     "end_time": "2022-04-21T00:40:19.372725",
     "exception": false,
     "start_time": "2022-04-21T00:40:19.329271",
     "status": "completed"
    },
    "tags": []
   },
   "outputs": [],
   "source": [
    "#hide\n",
    "#delete problematic countries from table\n",
    "df_table = df_table[~df_table['Country/Region'].isin(['Cape Verde', 'Cruise Ship', 'Kosovo'])]"
   ]
  },
  {
   "cell_type": "code",
   "execution_count": 17,
   "id": "related-center",
   "metadata": {
    "execution": {
     "iopub.execute_input": "2022-04-21T00:40:19.456030Z",
     "iopub.status.busy": "2022-04-21T00:40:19.455368Z",
     "iopub.status.idle": "2022-04-21T00:40:19.470408Z",
     "shell.execute_reply": "2022-04-21T00:40:19.470975Z"
    },
    "papermill": {
     "duration": 0.063028,
     "end_time": "2022-04-21T00:40:19.471119",
     "exception": false,
     "start_time": "2022-04-21T00:40:19.408091",
     "status": "completed"
    },
    "tags": []
   },
   "outputs": [],
   "source": [
    "#hide\n",
    "metrics = [df_table.columns[index] for index in [1,2,5,6]]\n",
    "# s_china = df_table[df_table['Country/Region'].eq('China')][metrics].sum().add_prefix('China ')\n",
    "s_us = df_table[df_table['Country/Region'].eq('US')][metrics].sum().add_prefix('US ')\n",
    "s_eu = df_table[df_table['Continent'].eq('Europe')][metrics].sum().add_prefix('EU ')\n",
    "s_ind = df_table[df_table['Country/Region'].eq('India')][metrics].sum().add_prefix('India ')\n",
    "summary = {'updated': pd.to_datetime(dt_today), 'since': pd.to_datetime(dt_yday)}\n",
    "summary = {'updated': pd.to_datetime(dt_today), 'since': pd.to_datetime(dt_yday)}\n",
    "summary = {**summary, **df_table[metrics].sum(), **s_ind, **s_us, **s_eu}"
   ]
  },
  {
   "cell_type": "code",
   "execution_count": 18,
   "id": "engaging-syndrome",
   "metadata": {
    "execution": {
     "iopub.execute_input": "2022-04-21T00:40:19.553261Z",
     "iopub.status.busy": "2022-04-21T00:40:19.552568Z",
     "iopub.status.idle": "2022-04-21T00:40:19.571577Z",
     "shell.execute_reply": "2022-04-21T00:40:19.571029Z"
    },
    "papermill": {
     "duration": 0.063359,
     "end_time": "2022-04-21T00:40:19.571707",
     "exception": false,
     "start_time": "2022-04-21T00:40:19.508348",
     "status": "completed"
    },
    "tags": []
   },
   "outputs": [],
   "source": [
    "#hide\n",
    "dft_ct_new_cases = dft_cases.groupby(COL_REGION)[dt_cols].sum().diff(axis=1).fillna(0).astype(int)"
   ]
  },
  {
   "cell_type": "code",
   "execution_count": 19,
   "id": "neutral-assignment",
   "metadata": {
    "execution": {
     "iopub.execute_input": "2022-04-21T00:40:19.647663Z",
     "iopub.status.busy": "2022-04-21T00:40:19.647080Z",
     "iopub.status.idle": "2022-04-21T00:40:19.649352Z",
     "shell.execute_reply": "2022-04-21T00:40:19.648888Z"
    },
    "papermill": {
     "duration": 0.041543,
     "end_time": "2022-04-21T00:40:19.649462",
     "exception": false,
     "start_time": "2022-04-21T00:40:19.607919",
     "status": "completed"
    },
    "tags": []
   },
   "outputs": [],
   "source": [
    "#hide\n",
    "everydaycases = dft_ct_new_cases.cumsum(axis=1)"
   ]
  },
  {
   "cell_type": "code",
   "execution_count": 20,
   "id": "parliamentary-calgary",
   "metadata": {
    "execution": {
     "iopub.execute_input": "2022-04-21T00:40:19.724060Z",
     "iopub.status.busy": "2022-04-21T00:40:19.723490Z",
     "iopub.status.idle": "2022-04-21T00:40:20.346666Z",
     "shell.execute_reply": "2022-04-21T00:40:20.346081Z"
    },
    "papermill": {
     "duration": 0.661711,
     "end_time": "2022-04-21T00:40:20.346832",
     "exception": false,
     "start_time": "2022-04-21T00:40:19.685121",
     "status": "completed"
    },
    "tags": []
   },
   "outputs": [],
   "source": [
    "#hide\n",
    "import pandas as pd\n",
    "import matplotlib.pyplot as plt\n",
    "import matplotlib.ticker as ticker\n",
    "import matplotlib.animation as animation\n",
    "from IPython.display import HTML"
   ]
  },
  {
   "cell_type": "code",
   "execution_count": 21,
   "id": "lasting-extraction",
   "metadata": {
    "execution": {
     "iopub.execute_input": "2022-04-21T00:40:20.429078Z",
     "iopub.status.busy": "2022-04-21T00:40:20.428406Z",
     "iopub.status.idle": "2022-04-21T00:40:20.434942Z",
     "shell.execute_reply": "2022-04-21T00:40:20.435476Z"
    },
    "papermill": {
     "duration": 0.0497,
     "end_time": "2022-04-21T00:40:20.435699",
     "exception": false,
     "start_time": "2022-04-21T00:40:20.385999",
     "status": "completed"
    },
    "tags": []
   },
   "outputs": [],
   "source": [
    "#hide\n",
    "t = everydaycases.stack()"
   ]
  },
  {
   "cell_type": "code",
   "execution_count": 22,
   "id": "premier-sleeve",
   "metadata": {
    "execution": {
     "iopub.execute_input": "2022-04-21T00:40:20.510387Z",
     "iopub.status.busy": "2022-04-21T00:40:20.509737Z",
     "iopub.status.idle": "2022-04-21T00:40:20.519998Z",
     "shell.execute_reply": "2022-04-21T00:40:20.520593Z"
    },
    "papermill": {
     "duration": 0.047721,
     "end_time": "2022-04-21T00:40:20.520779",
     "exception": false,
     "start_time": "2022-04-21T00:40:20.473058",
     "status": "completed"
    },
    "tags": []
   },
   "outputs": [],
   "source": [
    "#hide\n",
    "g = t.reset_index(['Country/Region'])"
   ]
  },
  {
   "cell_type": "code",
   "execution_count": 23,
   "id": "distributed-pittsburgh",
   "metadata": {
    "execution": {
     "iopub.execute_input": "2022-04-21T00:40:20.600977Z",
     "iopub.status.busy": "2022-04-21T00:40:20.600303Z",
     "iopub.status.idle": "2022-04-21T00:40:20.602450Z",
     "shell.execute_reply": "2022-04-21T00:40:20.603574Z"
    },
    "papermill": {
     "duration": 0.047948,
     "end_time": "2022-04-21T00:40:20.603821",
     "exception": false,
     "start_time": "2022-04-21T00:40:20.555873",
     "status": "completed"
    },
    "tags": []
   },
   "outputs": [],
   "source": [
    "#hide\n",
    "g.index.name = 'date'"
   ]
  },
  {
   "cell_type": "code",
   "execution_count": 24,
   "id": "naked-donor",
   "metadata": {
    "execution": {
     "iopub.execute_input": "2022-04-21T00:40:20.676877Z",
     "iopub.status.busy": "2022-04-21T00:40:20.676207Z",
     "iopub.status.idle": "2022-04-21T00:40:20.678084Z",
     "shell.execute_reply": "2022-04-21T00:40:20.678805Z"
    },
    "papermill": {
     "duration": 0.038894,
     "end_time": "2022-04-21T00:40:20.678969",
     "exception": false,
     "start_time": "2022-04-21T00:40:20.640075",
     "status": "completed"
    },
    "tags": []
   },
   "outputs": [],
   "source": [
    "# #hide\n",
    "# g = g.reset_index(['date'])"
   ]
  },
  {
   "cell_type": "code",
   "execution_count": 25,
   "id": "incomplete-mustang",
   "metadata": {
    "execution": {
     "iopub.execute_input": "2022-04-21T00:40:20.751136Z",
     "iopub.status.busy": "2022-04-21T00:40:20.750491Z",
     "iopub.status.idle": "2022-04-21T00:40:20.752755Z",
     "shell.execute_reply": "2022-04-21T00:40:20.752120Z"
    },
    "papermill": {
     "duration": 0.039724,
     "end_time": "2022-04-21T00:40:20.752877",
     "exception": false,
     "start_time": "2022-04-21T00:40:20.713153",
     "status": "completed"
    },
    "tags": []
   },
   "outputs": [],
   "source": [
    "#hide\n",
    "# g.head()"
   ]
  },
  {
   "cell_type": "code",
   "execution_count": 26,
   "id": "specific-kruger",
   "metadata": {
    "execution": {
     "iopub.execute_input": "2022-04-21T00:40:20.825608Z",
     "iopub.status.busy": "2022-04-21T00:40:20.824836Z",
     "iopub.status.idle": "2022-04-21T00:40:20.827551Z",
     "shell.execute_reply": "2022-04-21T00:40:20.827025Z"
    },
    "papermill": {
     "duration": 0.041511,
     "end_time": "2022-04-21T00:40:20.827665",
     "exception": false,
     "start_time": "2022-04-21T00:40:20.786154",
     "status": "completed"
    },
    "tags": []
   },
   "outputs": [],
   "source": [
    "#hide\n",
    "# g.columns = ['date','country','cases']"
   ]
  },
  {
   "cell_type": "code",
   "execution_count": 27,
   "id": "tender-conversion",
   "metadata": {
    "execution": {
     "iopub.execute_input": "2022-04-21T00:40:20.898369Z",
     "iopub.status.busy": "2022-04-21T00:40:20.897757Z",
     "iopub.status.idle": "2022-04-21T00:40:20.900634Z",
     "shell.execute_reply": "2022-04-21T00:40:20.899866Z"
    },
    "papermill": {
     "duration": 0.040083,
     "end_time": "2022-04-21T00:40:20.900774",
     "exception": false,
     "start_time": "2022-04-21T00:40:20.860691",
     "status": "completed"
    },
    "tags": []
   },
   "outputs": [],
   "source": [
    "#hide\n",
    "# g['continent'] = g.country"
   ]
  },
  {
   "cell_type": "code",
   "execution_count": 28,
   "id": "substantial-wilderness",
   "metadata": {
    "execution": {
     "iopub.execute_input": "2022-04-21T00:40:20.978437Z",
     "iopub.status.busy": "2022-04-21T00:40:20.977584Z",
     "iopub.status.idle": "2022-04-21T00:40:20.980706Z",
     "shell.execute_reply": "2022-04-21T00:40:20.980141Z"
    },
    "papermill": {
     "duration": 0.044454,
     "end_time": "2022-04-21T00:40:20.980863",
     "exception": false,
     "start_time": "2022-04-21T00:40:20.936409",
     "status": "completed"
    },
    "tags": []
   },
   "outputs": [],
   "source": [
    "#hide\n",
    "# cols = list(g.columns.values)"
   ]
  },
  {
   "cell_type": "code",
   "execution_count": 29,
   "id": "solved-farming",
   "metadata": {
    "execution": {
     "iopub.execute_input": "2022-04-21T00:40:21.065124Z",
     "iopub.status.busy": "2022-04-21T00:40:21.064535Z",
     "iopub.status.idle": "2022-04-21T00:40:21.066773Z",
     "shell.execute_reply": "2022-04-21T00:40:21.066305Z"
    },
    "papermill": {
     "duration": 0.043605,
     "end_time": "2022-04-21T00:40:21.066890",
     "exception": false,
     "start_time": "2022-04-21T00:40:21.023285",
     "status": "completed"
    },
    "tags": []
   },
   "outputs": [],
   "source": [
    "#hide\n",
    "# cols.insert(0, cols.pop())"
   ]
  },
  {
   "cell_type": "code",
   "execution_count": 30,
   "id": "executed-adoption",
   "metadata": {
    "execution": {
     "iopub.execute_input": "2022-04-21T00:40:21.144801Z",
     "iopub.status.busy": "2022-04-21T00:40:21.144033Z",
     "iopub.status.idle": "2022-04-21T00:40:21.146382Z",
     "shell.execute_reply": "2022-04-21T00:40:21.145793Z"
    },
    "papermill": {
     "duration": 0.042703,
     "end_time": "2022-04-21T00:40:21.146508",
     "exception": false,
     "start_time": "2022-04-21T00:40:21.103805",
     "status": "completed"
    },
    "tags": []
   },
   "outputs": [],
   "source": [
    "#hide\n",
    "# g = g[cols]"
   ]
  },
  {
   "cell_type": "code",
   "execution_count": 31,
   "id": "subject-dublin",
   "metadata": {
    "execution": {
     "iopub.execute_input": "2022-04-21T00:40:21.224644Z",
     "iopub.status.busy": "2022-04-21T00:40:21.223999Z",
     "iopub.status.idle": "2022-04-21T00:40:21.226241Z",
     "shell.execute_reply": "2022-04-21T00:40:21.225785Z"
    },
    "papermill": {
     "duration": 0.042028,
     "end_time": "2022-04-21T00:40:21.226364",
     "exception": false,
     "start_time": "2022-04-21T00:40:21.184336",
     "status": "completed"
    },
    "tags": []
   },
   "outputs": [],
   "source": [
    "#hide\n",
    "# g['continent'] = g['continent'].map(mapping['map.continent'])"
   ]
  },
  {
   "cell_type": "code",
   "execution_count": 32,
   "id": "freelance-scout",
   "metadata": {
    "execution": {
     "iopub.execute_input": "2022-04-21T00:40:21.302873Z",
     "iopub.status.busy": "2022-04-21T00:40:21.302241Z",
     "iopub.status.idle": "2022-04-21T00:40:21.306006Z",
     "shell.execute_reply": "2022-04-21T00:40:21.306528Z"
    },
    "papermill": {
     "duration": 0.042262,
     "end_time": "2022-04-21T00:40:21.306723",
     "exception": false,
     "start_time": "2022-04-21T00:40:21.264461",
     "status": "completed"
    },
    "tags": []
   },
   "outputs": [],
   "source": [
    "#hide\n",
    "# g.head()"
   ]
  },
  {
   "cell_type": "code",
   "execution_count": 33,
   "id": "limited-engine",
   "metadata": {
    "execution": {
     "iopub.execute_input": "2022-04-21T00:40:21.383154Z",
     "iopub.status.busy": "2022-04-21T00:40:21.382604Z",
     "iopub.status.idle": "2022-04-21T00:40:21.384772Z",
     "shell.execute_reply": "2022-04-21T00:40:21.384117Z"
    },
    "papermill": {
     "duration": 0.04192,
     "end_time": "2022-04-21T00:40:21.384937",
     "exception": false,
     "start_time": "2022-04-21T00:40:21.343017",
     "status": "completed"
    },
    "tags": []
   },
   "outputs": [],
   "source": [
    "# hide\n",
    "# g['date'] = g['date'].astype('datetime64[ns]')"
   ]
  },
  {
   "cell_type": "code",
   "execution_count": 34,
   "id": "sophisticated-supervisor",
   "metadata": {
    "execution": {
     "iopub.execute_input": "2022-04-21T00:40:21.464268Z",
     "iopub.status.busy": "2022-04-21T00:40:21.463633Z",
     "iopub.status.idle": "2022-04-21T00:40:21.466815Z",
     "shell.execute_reply": "2022-04-21T00:40:21.467300Z"
    },
    "papermill": {
     "duration": 0.04748,
     "end_time": "2022-04-21T00:40:21.467431",
     "exception": false,
     "start_time": "2022-04-21T00:40:21.419951",
     "status": "completed"
    },
    "tags": []
   },
   "outputs": [],
   "source": [
    "#hide\n",
    "# g['date'] = g.date.dt.dayofyear"
   ]
  },
  {
   "cell_type": "code",
   "execution_count": 35,
   "id": "inside-dubai",
   "metadata": {
    "execution": {
     "iopub.execute_input": "2022-04-21T00:40:21.535572Z",
     "iopub.status.busy": "2022-04-21T00:40:21.535046Z",
     "iopub.status.idle": "2022-04-21T00:40:21.537060Z",
     "shell.execute_reply": "2022-04-21T00:40:21.537461Z"
    },
    "papermill": {
     "duration": 0.037154,
     "end_time": "2022-04-21T00:40:21.537599",
     "exception": false,
     "start_time": "2022-04-21T00:40:21.500445",
     "status": "completed"
    },
    "tags": []
   },
   "outputs": [],
   "source": [
    "#hide\n",
    "# g = g.rename(columns= {'continent':'group','country':'name','cases':'value'})"
   ]
  },
  {
   "cell_type": "code",
   "execution_count": 36,
   "id": "fleet-motorcycle",
   "metadata": {
    "execution": {
     "iopub.execute_input": "2022-04-21T00:40:21.609823Z",
     "iopub.status.busy": "2022-04-21T00:40:21.609268Z",
     "iopub.status.idle": "2022-04-21T00:40:21.612587Z",
     "shell.execute_reply": "2022-04-21T00:40:21.613278Z"
    },
    "papermill": {
     "duration": 0.041828,
     "end_time": "2022-04-21T00:40:21.613405",
     "exception": false,
     "start_time": "2022-04-21T00:40:21.571577",
     "status": "completed"
    },
    "tags": []
   },
   "outputs": [],
   "source": [
    "#hide\n",
    "# cols = ['name','group','day','value']"
   ]
  },
  {
   "cell_type": "code",
   "execution_count": 37,
   "id": "continued-sleeping",
   "metadata": {
    "execution": {
     "iopub.execute_input": "2022-04-21T00:40:21.689960Z",
     "iopub.status.busy": "2022-04-21T00:40:21.689158Z",
     "iopub.status.idle": "2022-04-21T00:40:21.691291Z",
     "shell.execute_reply": "2022-04-21T00:40:21.690708Z"
    },
    "papermill": {
     "duration": 0.041615,
     "end_time": "2022-04-21T00:40:21.691404",
     "exception": false,
     "start_time": "2022-04-21T00:40:21.649789",
     "status": "completed"
    },
    "tags": []
   },
   "outputs": [],
   "source": [
    "#hide\n",
    "# g.rename(columns= {'date':'day'},inplace = True)"
   ]
  },
  {
   "cell_type": "code",
   "execution_count": 38,
   "id": "major-fight",
   "metadata": {
    "execution": {
     "iopub.execute_input": "2022-04-21T00:40:21.764690Z",
     "iopub.status.busy": "2022-04-21T00:40:21.763876Z",
     "iopub.status.idle": "2022-04-21T00:40:21.767480Z",
     "shell.execute_reply": "2022-04-21T00:40:21.766902Z"
    },
    "papermill": {
     "duration": 0.041485,
     "end_time": "2022-04-21T00:40:21.767628",
     "exception": false,
     "start_time": "2022-04-21T00:40:21.726143",
     "status": "completed"
    },
    "tags": []
   },
   "outputs": [],
   "source": [
    "#hide\n",
    "# g = g[cols]"
   ]
  },
  {
   "cell_type": "code",
   "execution_count": 39,
   "id": "structured-mobile",
   "metadata": {
    "execution": {
     "iopub.execute_input": "2022-04-21T00:40:21.839414Z",
     "iopub.status.busy": "2022-04-21T00:40:21.838863Z",
     "iopub.status.idle": "2022-04-21T00:40:21.840954Z",
     "shell.execute_reply": "2022-04-21T00:40:21.841394Z"
    },
    "papermill": {
     "duration": 0.03963,
     "end_time": "2022-04-21T00:40:21.841515",
     "exception": false,
     "start_time": "2022-04-21T00:40:21.801885",
     "status": "completed"
    },
    "tags": []
   },
   "outputs": [],
   "source": [
    "# #hide\n",
    "# g = g[g.group.notna()]"
   ]
  },
  {
   "cell_type": "code",
   "execution_count": 40,
   "id": "determined-closing",
   "metadata": {
    "execution": {
     "iopub.execute_input": "2022-04-21T00:40:21.911116Z",
     "iopub.status.busy": "2022-04-21T00:40:21.910536Z",
     "iopub.status.idle": "2022-04-21T00:40:21.913027Z",
     "shell.execute_reply": "2022-04-21T00:40:21.912433Z"
    },
    "papermill": {
     "duration": 0.037863,
     "end_time": "2022-04-21T00:40:21.913143",
     "exception": false,
     "start_time": "2022-04-21T00:40:21.875280",
     "status": "completed"
    },
    "tags": []
   },
   "outputs": [],
   "source": [
    "# #hide\n",
    "# colors = dict(zip(\n",
    "#     [\"Oceania\", \"Europe\", \"Asia\", \"South America\", \"Middle East\", \"North America\", \"Africa\"],\n",
    "#     [\"#adb0ff\", \"#ffb3ff\", \"#90d595\", \"#e48381\", \"#aafbff\", \"#f7bb5f\", \"#eafb50\"]\n",
    "# ))\n",
    "# group_lk = g.set_index('name')['group'].to_dict()"
   ]
  },
  {
   "cell_type": "code",
   "execution_count": null,
   "id": "gross-drinking",
   "metadata": {
    "papermill": {
     "duration": 0.035401,
     "end_time": "2022-04-21T00:40:21.983636",
     "exception": false,
     "start_time": "2022-04-21T00:40:21.948235",
     "status": "completed"
    },
    "tags": []
   },
   "outputs": [],
   "source": []
  },
  {
   "cell_type": "code",
   "execution_count": 41,
   "id": "subject-macintosh",
   "metadata": {
    "execution": {
     "iopub.execute_input": "2022-04-21T00:40:22.052274Z",
     "iopub.status.busy": "2022-04-21T00:40:22.051693Z",
     "iopub.status.idle": "2022-04-21T00:40:22.053532Z",
     "shell.execute_reply": "2022-04-21T00:40:22.054010Z"
    },
    "papermill": {
     "duration": 0.038451,
     "end_time": "2022-04-21T00:40:22.054128",
     "exception": false,
     "start_time": "2022-04-21T00:40:22.015677",
     "status": "completed"
    },
    "tags": []
   },
   "outputs": [],
   "source": [
    "# #hide\n",
    "# fig, ax = plt.subplots(figsize=(15, 8))\n",
    "\n",
    "# def draw_barchart(current_day):\n",
    "#     dff = g[g['day'].eq(current_day)].sort_values(by='value', ascending=True).tail(10)\n",
    "#     ax.clear()\n",
    "#     ax.barh(dff['name'], dff['value'], color=[colors[group_lk[x]] for x in dff['name']])\n",
    "#     dx = dff['value'].max() / 200\n",
    "    \n",
    "#     for i, (value, name) in enumerate(zip(dff['value'], dff['name'])):\n",
    "#         ax.text(value-dx, i,     name,           size=14, weight=600, ha='right', va='bottom')\n",
    "#         ax.text(value-dx, i-.25, group_lk[name], size=10, color='#444444', ha='right', va='baseline')\n",
    "#         ax.text(value+dx, i,     f'{value:,.0f}',  size=14, ha='left',  va='center')\n",
    "#     ax.text(1, 0.4, current_day, transform=ax.transAxes, color='#777777', size=46, ha='right', weight=800)\n",
    "#     ax.text(0, 1.06, 'Population (thousands)', transform=ax.transAxes, size=12, color='#777777')\n",
    "#     ax.xaxis.set_major_formatter(ticker.StrMethodFormatter('{x:,.0f}'))\n",
    "#     ax.xaxis.set_ticks_position('top')\n",
    "#     ax.tick_params(axis='x', colors='#777777', labelsize=12)\n",
    "#     ax.set_yticks([])\n",
    "#     ax.margins(0, 0.01)\n",
    "#     ax.grid(which='major', axis='x', linestyle='-')\n",
    "#     ax.set_axisbelow(True)\n",
    "    \n",
    "#     ax.text(0, 1.15, 'Coronavirus',\n",
    "#             transform=ax.transAxes, size=24, weight=600, ha='left', va='top')\n",
    "# #     ax.text(1, 0, 'by @pratapvardhan; credit @jburnmurdoch', transform=ax.transAxes, color='#777777', ha='right',\n",
    "# #             bbox=dict(facecolor='white', alpha=0.8, edgecolor='white'))\n",
    "#     plt.box(False)"
   ]
  },
  {
   "cell_type": "code",
   "execution_count": 42,
   "id": "sexual-wages",
   "metadata": {
    "execution": {
     "iopub.execute_input": "2022-04-21T00:40:22.129101Z",
     "iopub.status.busy": "2022-04-21T00:40:22.128428Z",
     "iopub.status.idle": "2022-04-21T00:40:22.131945Z",
     "shell.execute_reply": "2022-04-21T00:40:22.132482Z"
    },
    "papermill": {
     "duration": 0.042465,
     "end_time": "2022-04-21T00:40:22.132634",
     "exception": false,
     "start_time": "2022-04-21T00:40:22.090169",
     "status": "completed"
    },
    "tags": []
   },
   "outputs": [],
   "source": [
    "# #hide_input\n",
    "# fig, ax = plt.subplots(figsize=(15, 8))\n",
    "# animator = animation.FuncAnimation(fig, draw_barchart, frames=range(g.day.values.min(), g.day.values.max()))\n",
    "# HTML(animator.to_jshtml())\n",
    "# # or use animator.to_html5_video() or animator.save() "
   ]
  },
  {
   "cell_type": "code",
   "execution_count": null,
   "id": "australian-container",
   "metadata": {
    "papermill": {
     "duration": 0.031563,
     "end_time": "2022-04-21T00:40:22.196928",
     "exception": false,
     "start_time": "2022-04-21T00:40:22.165365",
     "status": "completed"
    },
    "tags": []
   },
   "outputs": [],
   "source": []
  },
  {
   "cell_type": "code",
   "execution_count": null,
   "id": "mediterranean-pontiac",
   "metadata": {
    "papermill": {
     "duration": 0.032705,
     "end_time": "2022-04-21T00:40:22.261235",
     "exception": false,
     "start_time": "2022-04-21T00:40:22.228530",
     "status": "completed"
    },
    "tags": []
   },
   "outputs": [],
   "source": []
  },
  {
   "cell_type": "code",
   "execution_count": null,
   "id": "aging-legislature",
   "metadata": {
    "papermill": {
     "duration": 0.034528,
     "end_time": "2022-04-21T00:40:22.332828",
     "exception": false,
     "start_time": "2022-04-21T00:40:22.298300",
     "status": "completed"
    },
    "tags": []
   },
   "outputs": [],
   "source": []
  }
 ],
 "metadata": {
  "kernelspec": {
   "display_name": "Python 3",
   "language": "python",
   "name": "python3"
  },
  "language_info": {
   "codemirror_mode": {
    "name": "ipython",
    "version": 3
   },
   "file_extension": ".py",
   "mimetype": "text/x-python",
   "name": "python",
   "nbconvert_exporter": "python",
   "pygments_lexer": "ipython3",
   "version": "3.6.15"
  },
  "papermill": {
   "duration": 6.74927,
   "end_time": "2022-04-21T00:40:22.687124",
   "environment_variables": {},
   "exception": null,
   "input_path": "2020-03-21-covid19exp.ipynb",
   "output_path": "2020-03-21-covid19exp.ipynb",
   "parameters": {},
   "start_time": "2022-04-21T00:40:15.937854",
   "version": "2.0.0"
  }
 },
 "nbformat": 4,
 "nbformat_minor": 5
}