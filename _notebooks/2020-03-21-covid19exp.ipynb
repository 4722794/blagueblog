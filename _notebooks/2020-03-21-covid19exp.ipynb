{
 "cells": [
  {
   "cell_type": "markdown",
   "id": "muslim-click",
   "metadata": {
    "papermill": {
     "duration": 0.040147,
     "end_time": "2021-11-21T00:25:45.980881",
     "exception": false,
     "start_time": "2021-11-21T00:25:45.940734",
     "status": "completed"
    },
    "tags": []
   },
   "source": [
    "# COVID-19 Case Race\n",
    "> A race chart to see rising cases around the world\n",
    "\n",
    "- author: Hargun Oberoi\n",
    "- image: images/covid-overview.png\n",
    "- hide: false\n",
    "- badges: false"
   ]
  },
  {
   "cell_type": "code",
   "execution_count": 1,
   "id": "proof-material",
   "metadata": {
    "execution": {
     "iopub.execute_input": "2021-11-21T00:25:46.060002Z",
     "iopub.status.busy": "2021-11-21T00:25:46.059314Z",
     "iopub.status.idle": "2021-11-21T00:25:46.473734Z",
     "shell.execute_reply": "2021-11-21T00:25:46.472630Z"
    },
    "papermill": {
     "duration": 0.458396,
     "end_time": "2021-11-21T00:25:46.473908",
     "exception": false,
     "start_time": "2021-11-21T00:25:46.015512",
     "status": "completed"
    },
    "tags": []
   },
   "outputs": [],
   "source": [
    "#hide\n",
    "import numpy as np\n",
    "import pandas as pd\n",
    "from jinja2 import Template\n",
    "from IPython.display import HTML"
   ]
  },
  {
   "cell_type": "code",
   "execution_count": 2,
   "id": "developed-terminology",
   "metadata": {
    "execution": {
     "iopub.execute_input": "2021-11-21T00:25:46.567421Z",
     "iopub.status.busy": "2021-11-21T00:25:46.566744Z",
     "iopub.status.idle": "2021-11-21T00:25:46.569247Z",
     "shell.execute_reply": "2021-11-21T00:25:46.568665Z"
    },
    "papermill": {
     "duration": 0.054239,
     "end_time": "2021-11-21T00:25:46.569390",
     "exception": false,
     "start_time": "2021-11-21T00:25:46.515151",
     "status": "completed"
    },
    "tags": []
   },
   "outputs": [],
   "source": [
    "#hide\n",
    "\n",
    "# FETCH\n",
    "base_url = 'https://raw.githubusercontent.com/pratapvardhan/notebooks/master/covid19/'\n",
    "paths = {\n",
    "    'mapping': base_url + 'mapping_countries.csv',\n",
    "    'overview': base_url + 'overview.tpl'\n",
    "}"
   ]
  },
  {
   "cell_type": "code",
   "execution_count": 3,
   "id": "dynamic-saver",
   "metadata": {
    "execution": {
     "iopub.execute_input": "2021-11-21T00:25:46.659728Z",
     "iopub.status.busy": "2021-11-21T00:25:46.659064Z",
     "iopub.status.idle": "2021-11-21T00:25:46.662218Z",
     "shell.execute_reply": "2021-11-21T00:25:46.662901Z"
    },
    "papermill": {
     "duration": 0.052061,
     "end_time": "2021-11-21T00:25:46.663047",
     "exception": false,
     "start_time": "2021-11-21T00:25:46.610986",
     "status": "completed"
    },
    "tags": []
   },
   "outputs": [
    {
     "data": {
      "text/plain": [
       "'https://raw.githubusercontent.com/pratapvardhan/notebooks/master/covid19/mapping_countries.csv'"
      ]
     },
     "execution_count": 3,
     "metadata": {},
     "output_type": "execute_result"
    }
   ],
   "source": [
    "#hide\n",
    "paths['mapping']"
   ]
  },
  {
   "cell_type": "code",
   "execution_count": 4,
   "id": "urban-software",
   "metadata": {
    "execution": {
     "iopub.execute_input": "2021-11-21T00:25:46.747344Z",
     "iopub.status.busy": "2021-11-21T00:25:46.746685Z",
     "iopub.status.idle": "2021-11-21T00:25:46.751137Z",
     "shell.execute_reply": "2021-11-21T00:25:46.750579Z"
    },
    "papermill": {
     "duration": 0.048077,
     "end_time": "2021-11-21T00:25:46.751262",
     "exception": false,
     "start_time": "2021-11-21T00:25:46.703185",
     "status": "completed"
    },
    "tags": []
   },
   "outputs": [],
   "source": [
    "#hide\n",
    "def get_mappings(url):\n",
    "    df = pd.read_csv(url)\n",
    "    return {\n",
    "        'df': df,\n",
    "        'replace.country': dict(df.dropna(subset=['Name']).set_index('Country')['Name']),\n",
    "        'map.continent': dict(df.set_index('Name')['Continent'])\n",
    "    }"
   ]
  },
  {
   "cell_type": "code",
   "execution_count": 5,
   "id": "intimate-machinery",
   "metadata": {
    "execution": {
     "iopub.execute_input": "2021-11-21T00:25:46.822352Z",
     "iopub.status.busy": "2021-11-21T00:25:46.821729Z",
     "iopub.status.idle": "2021-11-21T00:25:46.897648Z",
     "shell.execute_reply": "2021-11-21T00:25:46.897067Z"
    },
    "papermill": {
     "duration": 0.111959,
     "end_time": "2021-11-21T00:25:46.897805",
     "exception": false,
     "start_time": "2021-11-21T00:25:46.785846",
     "status": "completed"
    },
    "tags": []
   },
   "outputs": [],
   "source": [
    "#hide\n",
    "mapping = get_mappings(paths['mapping'])"
   ]
  },
  {
   "cell_type": "code",
   "execution_count": 6,
   "id": "certified-tactics",
   "metadata": {
    "execution": {
     "iopub.execute_input": "2021-11-21T00:25:46.977466Z",
     "iopub.status.busy": "2021-11-21T00:25:46.976787Z",
     "iopub.status.idle": "2021-11-21T00:25:46.982635Z",
     "shell.execute_reply": "2021-11-21T00:25:46.982030Z"
    },
    "papermill": {
     "duration": 0.049027,
     "end_time": "2021-11-21T00:25:46.982775",
     "exception": false,
     "start_time": "2021-11-21T00:25:46.933748",
     "status": "completed"
    },
    "tags": []
   },
   "outputs": [],
   "source": [
    "#hide\n",
    "def get_template(path):\n",
    "    from urllib.parse import urlparse\n",
    "    if bool(urlparse(path).netloc):\n",
    "        from urllib.request import urlopen\n",
    "        return urlopen(path).read().decode('utf8')\n",
    "    return open(path).read()"
   ]
  },
  {
   "cell_type": "code",
   "execution_count": 7,
   "id": "realistic-blast",
   "metadata": {
    "execution": {
     "iopub.execute_input": "2021-11-21T00:25:47.065705Z",
     "iopub.status.busy": "2021-11-21T00:25:47.065029Z",
     "iopub.status.idle": "2021-11-21T00:25:47.073699Z",
     "shell.execute_reply": "2021-11-21T00:25:47.071718Z"
    },
    "papermill": {
     "duration": 0.052106,
     "end_time": "2021-11-21T00:25:47.073934",
     "exception": false,
     "start_time": "2021-11-21T00:25:47.021828",
     "status": "completed"
    },
    "tags": []
   },
   "outputs": [],
   "source": [
    "#hide\n",
    "def get_frame(name):\n",
    "    url = (\n",
    "        'https://raw.githubusercontent.com/CSSEGISandData/COVID-19/master/csse_covid_19_data/'\n",
    "        f'csse_covid_19_time_series/time_series_covid19_{name}_global.csv')\n",
    "    df = pd.read_csv(url)\n",
    "    # rename countries\n",
    "    df['Country/Region'] = df['Country/Region'].replace(mapping['replace.country'])\n",
    "    return df"
   ]
  },
  {
   "cell_type": "code",
   "execution_count": 8,
   "id": "affiliated-characterization",
   "metadata": {
    "execution": {
     "iopub.execute_input": "2021-11-21T00:25:47.168902Z",
     "iopub.status.busy": "2021-11-21T00:25:47.168222Z",
     "iopub.status.idle": "2021-11-21T00:25:47.172238Z",
     "shell.execute_reply": "2021-11-21T00:25:47.172788Z"
    },
    "papermill": {
     "duration": 0.058385,
     "end_time": "2021-11-21T00:25:47.172955",
     "exception": false,
     "start_time": "2021-11-21T00:25:47.114570",
     "status": "completed"
    },
    "tags": []
   },
   "outputs": [],
   "source": [
    "#hide\n",
    "def get_dates(df):\n",
    "    dt_cols = df.columns[~df.columns.isin(['Province/State', 'Country/Region', 'Lat', 'Long'])]\n",
    "    LAST_DATE_I = -1\n",
    "    # sometimes last column may be empty, then go backwards\n",
    "    for i in range(-1, -len(dt_cols), -1):\n",
    "        if not df[dt_cols[i]].fillna(0).eq(0).all():\n",
    "            LAST_DATE_I = i\n",
    "            break\n",
    "    return LAST_DATE_I, dt_cols"
   ]
  },
  {
   "cell_type": "code",
   "execution_count": 9,
   "id": "recent-optimization",
   "metadata": {
    "execution": {
     "iopub.execute_input": "2021-11-21T00:25:47.265438Z",
     "iopub.status.busy": "2021-11-21T00:25:47.264746Z",
     "iopub.status.idle": "2021-11-21T00:25:47.885047Z",
     "shell.execute_reply": "2021-11-21T00:25:47.883987Z"
    },
    "papermill": {
     "duration": 0.671291,
     "end_time": "2021-11-21T00:25:47.885183",
     "exception": false,
     "start_time": "2021-11-21T00:25:47.213892",
     "status": "completed"
    },
    "tags": []
   },
   "outputs": [],
   "source": [
    "#hide\n",
    "COL_REGION = 'Country/Region'\n",
    "# Confirmed, Recovered, Deaths\n",
    "df = get_frame('confirmed')\n",
    "# dft_: timeseries, dfc_: today country agg\n",
    "dft_cases = df\n",
    "dft_deaths = get_frame('deaths')\n",
    "dft_recovered = get_frame('recovered')\n",
    "LAST_DATE_I, dt_cols = get_dates(df)"
   ]
  },
  {
   "cell_type": "code",
   "execution_count": 10,
   "id": "absolute-copper",
   "metadata": {
    "execution": {
     "iopub.execute_input": "2021-11-21T00:25:47.959371Z",
     "iopub.status.busy": "2021-11-21T00:25:47.958783Z",
     "iopub.status.idle": "2021-11-21T00:25:47.960693Z",
     "shell.execute_reply": "2021-11-21T00:25:47.961167Z"
    },
    "papermill": {
     "duration": 0.041572,
     "end_time": "2021-11-21T00:25:47.961299",
     "exception": false,
     "start_time": "2021-11-21T00:25:47.919727",
     "status": "completed"
    },
    "tags": []
   },
   "outputs": [],
   "source": [
    "#hide\n",
    "LAST_DATE_I, dt_cols = get_dates(df)\n",
    "dt_today =dt_cols[LAST_DATE_I]\n",
    "# dt_5day = dt_cols[LAST_DATE_I - 5]\n",
    "dt_yday = dt_cols[LAST_DATE_I - 1]"
   ]
  },
  {
   "cell_type": "code",
   "execution_count": 11,
   "id": "restricted-sheriff",
   "metadata": {
    "execution": {
     "iopub.execute_input": "2021-11-21T00:25:48.063746Z",
     "iopub.status.busy": "2021-11-21T00:25:48.062993Z",
     "iopub.status.idle": "2021-11-21T00:25:48.073870Z",
     "shell.execute_reply": "2021-11-21T00:25:48.073314Z"
    },
    "papermill": {
     "duration": 0.064808,
     "end_time": "2021-11-21T00:25:48.074014",
     "exception": false,
     "start_time": "2021-11-21T00:25:48.009206",
     "status": "completed"
    },
    "tags": []
   },
   "outputs": [],
   "source": [
    "#hide\n",
    "dfc_cases = dft_cases.groupby(COL_REGION)[dt_today].sum()\n",
    "dfc_deaths = dft_deaths.groupby(COL_REGION)[dt_today].sum()\n",
    "# dfp_cases = dft_cases.groupby(COL_REGION)[dt_5day].sum()\n",
    "# dfp_deaths = dft_deaths.groupby(COL_REGION)[dt_5day].sum()\n",
    "dfp_cases = dft_cases.groupby(COL_REGION)[dt_yday].sum()\n",
    "dfp_deaths = dft_deaths.groupby(COL_REGION)[dt_yday].sum()"
   ]
  },
  {
   "cell_type": "code",
   "execution_count": 12,
   "id": "deluxe-hepatitis",
   "metadata": {
    "execution": {
     "iopub.execute_input": "2021-11-21T00:25:48.183313Z",
     "iopub.status.busy": "2021-11-21T00:25:48.175170Z",
     "iopub.status.idle": "2021-11-21T00:25:48.186249Z",
     "shell.execute_reply": "2021-11-21T00:25:48.186804Z"
    },
    "papermill": {
     "duration": 0.067222,
     "end_time": "2021-11-21T00:25:48.187134",
     "exception": false,
     "start_time": "2021-11-21T00:25:48.119912",
     "status": "completed"
    },
    "tags": []
   },
   "outputs": [],
   "source": [
    "#hide\n",
    "df_table = (pd.DataFrame(dict(Cases = dfc_cases, Deaths = dfc_deaths, PCases = dfp_cases, PDeaths = dfp_deaths))\n",
    "            .sort_values(by = ['Cases','Deaths'], ascending = [False, False])\n",
    "            .reset_index())"
   ]
  },
  {
   "cell_type": "code",
   "execution_count": 13,
   "id": "educational-chancellor",
   "metadata": {
    "execution": {
     "iopub.execute_input": "2021-11-21T00:25:48.294914Z",
     "iopub.status.busy": "2021-11-21T00:25:48.280566Z",
     "iopub.status.idle": "2021-11-21T00:25:48.304212Z",
     "shell.execute_reply": "2021-11-21T00:25:48.304665Z"
    },
    "papermill": {
     "duration": 0.069817,
     "end_time": "2021-11-21T00:25:48.304821",
     "exception": false,
     "start_time": "2021-11-21T00:25:48.235004",
     "status": "completed"
    },
    "tags": []
   },
   "outputs": [
    {
     "data": {
      "text/html": [
       "<div>\n",
       "<style scoped>\n",
       "    .dataframe tbody tr th:only-of-type {\n",
       "        vertical-align: middle;\n",
       "    }\n",
       "\n",
       "    .dataframe tbody tr th {\n",
       "        vertical-align: top;\n",
       "    }\n",
       "\n",
       "    .dataframe thead th {\n",
       "        text-align: right;\n",
       "    }\n",
       "</style>\n",
       "<table border=\"1\" class=\"dataframe\">\n",
       "  <thead>\n",
       "    <tr style=\"text-align: right;\">\n",
       "      <th></th>\n",
       "      <th>Country/Region</th>\n",
       "      <th>Cases</th>\n",
       "      <th>Deaths</th>\n",
       "      <th>PCases</th>\n",
       "      <th>PDeaths</th>\n",
       "      <th>Cases (+)</th>\n",
       "      <th>Deaths (+)</th>\n",
       "      <th>Fatality Rate</th>\n",
       "      <th>Continent</th>\n",
       "    </tr>\n",
       "  </thead>\n",
       "  <tbody>\n",
       "    <tr>\n",
       "      <th>0</th>\n",
       "      <td>US</td>\n",
       "      <td>47660379</td>\n",
       "      <td>770691</td>\n",
       "      <td>47531319</td>\n",
       "      <td>768695</td>\n",
       "      <td>129060</td>\n",
       "      <td>1996</td>\n",
       "      <td>1.62</td>\n",
       "      <td>North America</td>\n",
       "    </tr>\n",
       "    <tr>\n",
       "      <th>1</th>\n",
       "      <td>India</td>\n",
       "      <td>34499925</td>\n",
       "      <td>465349</td>\n",
       "      <td>34489623</td>\n",
       "      <td>465082</td>\n",
       "      <td>10302</td>\n",
       "      <td>267</td>\n",
       "      <td>1.35</td>\n",
       "      <td>Asia</td>\n",
       "    </tr>\n",
       "    <tr>\n",
       "      <th>2</th>\n",
       "      <td>Brazil</td>\n",
       "      <td>22003317</td>\n",
       "      <td>612370</td>\n",
       "      <td>21989962</td>\n",
       "      <td>612144</td>\n",
       "      <td>13355</td>\n",
       "      <td>226</td>\n",
       "      <td>2.78</td>\n",
       "      <td>South America</td>\n",
       "    </tr>\n",
       "    <tr>\n",
       "      <th>3</th>\n",
       "      <td>United Kingdom</td>\n",
       "      <td>9817505</td>\n",
       "      <td>144158</td>\n",
       "      <td>9772670</td>\n",
       "      <td>143999</td>\n",
       "      <td>44835</td>\n",
       "      <td>159</td>\n",
       "      <td>1.47</td>\n",
       "      <td>Europe</td>\n",
       "    </tr>\n",
       "    <tr>\n",
       "      <th>4</th>\n",
       "      <td>Russia</td>\n",
       "      <td>9099253</td>\n",
       "      <td>256669</td>\n",
       "      <td>9063318</td>\n",
       "      <td>255448</td>\n",
       "      <td>35935</td>\n",
       "      <td>1221</td>\n",
       "      <td>2.82</td>\n",
       "      <td>Europe</td>\n",
       "    </tr>\n",
       "  </tbody>\n",
       "</table>\n",
       "</div>"
      ],
      "text/plain": [
       "   Country/Region     Cases  Deaths    PCases  PDeaths  Cases (+)  Deaths (+)  \\\n",
       "0              US  47660379  770691  47531319   768695     129060        1996   \n",
       "1           India  34499925  465349  34489623   465082      10302         267   \n",
       "2          Brazil  22003317  612370  21989962   612144      13355         226   \n",
       "3  United Kingdom   9817505  144158   9772670   143999      44835         159   \n",
       "4          Russia   9099253  256669   9063318   255448      35935        1221   \n",
       "\n",
       "   Fatality Rate      Continent  \n",
       "0           1.62  North America  \n",
       "1           1.35           Asia  \n",
       "2           2.78  South America  \n",
       "3           1.47         Europe  \n",
       "4           2.82         Europe  "
      ]
     },
     "execution_count": 13,
     "metadata": {},
     "output_type": "execute_result"
    }
   ],
   "source": [
    "#hide\n",
    "for c in 'Cases, Deaths'.split(', '):\n",
    "    df_table[f'{c} (+)'] = (df_table[c] - df_table[f'P{c}']).clip(0)\n",
    "    #Clip ça veut dire, les chiffres negatif sont interdit\n",
    "df_table['Fatality Rate'] = (100* df_table['Deaths']/ df_table['Cases']).round(2)\n",
    "df_table['Continent'] = df_table['Country/Region'].map(mapping['map.continent'])\n",
    "df_table.head(5)"
   ]
  },
  {
   "cell_type": "code",
   "execution_count": 14,
   "id": "aboriginal-bulgaria",
   "metadata": {
    "execution": {
     "iopub.execute_input": "2021-11-21T00:25:48.392243Z",
     "iopub.status.busy": "2021-11-21T00:25:48.391577Z",
     "iopub.status.idle": "2021-11-21T00:25:48.394844Z",
     "shell.execute_reply": "2021-11-21T00:25:48.394213Z"
    },
    "papermill": {
     "duration": 0.049625,
     "end_time": "2021-11-21T00:25:48.394984",
     "exception": false,
     "start_time": "2021-11-21T00:25:48.345359",
     "status": "completed"
    },
    "tags": []
   },
   "outputs": [],
   "source": [
    "#hide\n",
    "#delete problematic countries from table\n",
    "df_table = df_table[~df_table['Country/Region'].isin(['Cape Verde', 'Cruise Ship', 'Kosovo'])]"
   ]
  },
  {
   "cell_type": "code",
   "execution_count": 15,
   "id": "fantastic-effect",
   "metadata": {
    "execution": {
     "iopub.execute_input": "2021-11-21T00:25:48.518780Z",
     "iopub.status.busy": "2021-11-21T00:25:48.494974Z",
     "iopub.status.idle": "2021-11-21T00:25:48.529999Z",
     "shell.execute_reply": "2021-11-21T00:25:48.530548Z"
    },
    "papermill": {
     "duration": 0.096795,
     "end_time": "2021-11-21T00:25:48.530721",
     "exception": false,
     "start_time": "2021-11-21T00:25:48.433926",
     "status": "completed"
    },
    "tags": []
   },
   "outputs": [
    {
     "data": {
      "text/html": [
       "<div>\n",
       "<style scoped>\n",
       "    .dataframe tbody tr th:only-of-type {\n",
       "        vertical-align: middle;\n",
       "    }\n",
       "\n",
       "    .dataframe tbody tr th {\n",
       "        vertical-align: top;\n",
       "    }\n",
       "\n",
       "    .dataframe thead th {\n",
       "        text-align: right;\n",
       "    }\n",
       "</style>\n",
       "<table border=\"1\" class=\"dataframe\">\n",
       "  <thead>\n",
       "    <tr style=\"text-align: right;\">\n",
       "      <th></th>\n",
       "      <th>Country/Region</th>\n",
       "      <th>Cases</th>\n",
       "      <th>Deaths</th>\n",
       "      <th>PCases</th>\n",
       "      <th>PDeaths</th>\n",
       "      <th>Cases (+)</th>\n",
       "      <th>Deaths (+)</th>\n",
       "      <th>Fatality Rate</th>\n",
       "      <th>Continent</th>\n",
       "    </tr>\n",
       "  </thead>\n",
       "  <tbody>\n",
       "    <tr>\n",
       "      <th>0</th>\n",
       "      <td>US</td>\n",
       "      <td>47660379</td>\n",
       "      <td>770691</td>\n",
       "      <td>47531319</td>\n",
       "      <td>768695</td>\n",
       "      <td>129060</td>\n",
       "      <td>1996</td>\n",
       "      <td>1.6</td>\n",
       "      <td>North America</td>\n",
       "    </tr>\n",
       "    <tr>\n",
       "      <th>1</th>\n",
       "      <td>India</td>\n",
       "      <td>34499925</td>\n",
       "      <td>465349</td>\n",
       "      <td>34489623</td>\n",
       "      <td>465082</td>\n",
       "      <td>10302</td>\n",
       "      <td>267</td>\n",
       "      <td>1.3</td>\n",
       "      <td>Asia</td>\n",
       "    </tr>\n",
       "    <tr>\n",
       "      <th>2</th>\n",
       "      <td>Brazil</td>\n",
       "      <td>22003317</td>\n",
       "      <td>612370</td>\n",
       "      <td>21989962</td>\n",
       "      <td>612144</td>\n",
       "      <td>13355</td>\n",
       "      <td>226</td>\n",
       "      <td>2.8</td>\n",
       "      <td>South America</td>\n",
       "    </tr>\n",
       "    <tr>\n",
       "      <th>3</th>\n",
       "      <td>United Kingdom</td>\n",
       "      <td>9817505</td>\n",
       "      <td>144158</td>\n",
       "      <td>9772670</td>\n",
       "      <td>143999</td>\n",
       "      <td>44835</td>\n",
       "      <td>159</td>\n",
       "      <td>1.5</td>\n",
       "      <td>Europe</td>\n",
       "    </tr>\n",
       "    <tr>\n",
       "      <th>4</th>\n",
       "      <td>Russia</td>\n",
       "      <td>9099253</td>\n",
       "      <td>256669</td>\n",
       "      <td>9063318</td>\n",
       "      <td>255448</td>\n",
       "      <td>35935</td>\n",
       "      <td>1221</td>\n",
       "      <td>2.8</td>\n",
       "      <td>Europe</td>\n",
       "    </tr>\n",
       "  </tbody>\n",
       "</table>\n",
       "</div>"
      ],
      "text/plain": [
       "   Country/Region     Cases  Deaths    PCases  PDeaths  Cases (+)  Deaths (+)  \\\n",
       "0              US  47660379  770691  47531319   768695     129060        1996   \n",
       "1           India  34499925  465349  34489623   465082      10302         267   \n",
       "2          Brazil  22003317  612370  21989962   612144      13355         226   \n",
       "3  United Kingdom   9817505  144158   9772670   143999      44835         159   \n",
       "4          Russia   9099253  256669   9063318   255448      35935        1221   \n",
       "\n",
       "   Fatality Rate      Continent  \n",
       "0            1.6  North America  \n",
       "1            1.3           Asia  \n",
       "2            2.8  South America  \n",
       "3            1.5         Europe  \n",
       "4            2.8         Europe  "
      ]
     },
     "execution_count": 15,
     "metadata": {},
     "output_type": "execute_result"
    }
   ],
   "source": [
    "#hide\n",
    "df_table = (pd.DataFrame(dict(Cases=dfc_cases, Deaths=dfc_deaths, PCases=dfp_cases, PDeaths=dfp_deaths))\n",
    "             .sort_values(by=['Cases', 'Deaths'], ascending=[False, False])\n",
    "             .reset_index())\n",
    "df_table.rename(columns={'index': 'Country/Region'}, inplace=True)\n",
    "for c in 'Cases, Deaths'.split(', '):\n",
    "    df_table[f'{c} (+)'] = (df_table[c] - df_table[f'P{c}']).clip(0)  # DATA BUG\n",
    "df_table['Fatality Rate'] = (100 * df_table['Deaths'] / df_table['Cases']).round(1)\n",
    "df_table['Continent'] = df_table['Country/Region'].map(mapping['map.continent'])\n",
    "df_table.head(5)"
   ]
  },
  {
   "cell_type": "code",
   "execution_count": 16,
   "id": "fewer-occasion",
   "metadata": {
    "execution": {
     "iopub.execute_input": "2021-11-21T00:25:48.626559Z",
     "iopub.status.busy": "2021-11-21T00:25:48.625788Z",
     "iopub.status.idle": "2021-11-21T00:25:48.628430Z",
     "shell.execute_reply": "2021-11-21T00:25:48.627732Z"
    },
    "papermill": {
     "duration": 0.056738,
     "end_time": "2021-11-21T00:25:48.628583",
     "exception": false,
     "start_time": "2021-11-21T00:25:48.571845",
     "status": "completed"
    },
    "tags": []
   },
   "outputs": [],
   "source": [
    "#hide\n",
    "#delete problematic countries from table\n",
    "df_table = df_table[~df_table['Country/Region'].isin(['Cape Verde', 'Cruise Ship', 'Kosovo'])]"
   ]
  },
  {
   "cell_type": "code",
   "execution_count": 17,
   "id": "related-center",
   "metadata": {
    "execution": {
     "iopub.execute_input": "2021-11-21T00:25:48.744663Z",
     "iopub.status.busy": "2021-11-21T00:25:48.743930Z",
     "iopub.status.idle": "2021-11-21T00:25:48.746488Z",
     "shell.execute_reply": "2021-11-21T00:25:48.745785Z"
    },
    "papermill": {
     "duration": 0.067294,
     "end_time": "2021-11-21T00:25:48.746636",
     "exception": false,
     "start_time": "2021-11-21T00:25:48.679342",
     "status": "completed"
    },
    "tags": []
   },
   "outputs": [],
   "source": [
    "#hide\n",
    "metrics = [df_table.columns[index] for index in [1,2,5,6]]\n",
    "# s_china = df_table[df_table['Country/Region'].eq('China')][metrics].sum().add_prefix('China ')\n",
    "s_us = df_table[df_table['Country/Region'].eq('US')][metrics].sum().add_prefix('US ')\n",
    "s_eu = df_table[df_table['Continent'].eq('Europe')][metrics].sum().add_prefix('EU ')\n",
    "s_ind = df_table[df_table['Country/Region'].eq('India')][metrics].sum().add_prefix('India ')\n",
    "summary = {'updated': pd.to_datetime(dt_today), 'since': pd.to_datetime(dt_yday)}\n",
    "summary = {'updated': pd.to_datetime(dt_today), 'since': pd.to_datetime(dt_yday)}\n",
    "summary = {**summary, **df_table[metrics].sum(), **s_ind, **s_us, **s_eu}"
   ]
  },
  {
   "cell_type": "code",
   "execution_count": 18,
   "id": "engaging-syndrome",
   "metadata": {
    "execution": {
     "iopub.execute_input": "2021-11-21T00:25:48.837582Z",
     "iopub.status.busy": "2021-11-21T00:25:48.836771Z",
     "iopub.status.idle": "2021-11-21T00:25:48.856761Z",
     "shell.execute_reply": "2021-11-21T00:25:48.857298Z"
    },
    "papermill": {
     "duration": 0.067935,
     "end_time": "2021-11-21T00:25:48.857481",
     "exception": false,
     "start_time": "2021-11-21T00:25:48.789546",
     "status": "completed"
    },
    "tags": []
   },
   "outputs": [],
   "source": [
    "#hide\n",
    "dft_ct_new_cases = dft_cases.groupby(COL_REGION)[dt_cols].sum().diff(axis=1).fillna(0).astype(int)"
   ]
  },
  {
   "cell_type": "code",
   "execution_count": 19,
   "id": "neutral-assignment",
   "metadata": {
    "execution": {
     "iopub.execute_input": "2021-11-21T00:25:48.946039Z",
     "iopub.status.busy": "2021-11-21T00:25:48.945323Z",
     "iopub.status.idle": "2021-11-21T00:25:48.947880Z",
     "shell.execute_reply": "2021-11-21T00:25:48.947313Z"
    },
    "papermill": {
     "duration": 0.050095,
     "end_time": "2021-11-21T00:25:48.948028",
     "exception": false,
     "start_time": "2021-11-21T00:25:48.897933",
     "status": "completed"
    },
    "tags": []
   },
   "outputs": [],
   "source": [
    "#hide\n",
    "everydaycases = dft_ct_new_cases.cumsum(axis=1)"
   ]
  },
  {
   "cell_type": "code",
   "execution_count": 20,
   "id": "parliamentary-calgary",
   "metadata": {
    "execution": {
     "iopub.execute_input": "2021-11-21T00:25:49.033492Z",
     "iopub.status.busy": "2021-11-21T00:25:49.032789Z",
     "iopub.status.idle": "2021-11-21T00:25:49.810017Z",
     "shell.execute_reply": "2021-11-21T00:25:49.810960Z"
    },
    "papermill": {
     "duration": 0.824247,
     "end_time": "2021-11-21T00:25:49.811334",
     "exception": false,
     "start_time": "2021-11-21T00:25:48.987087",
     "status": "completed"
    },
    "tags": []
   },
   "outputs": [],
   "source": [
    "#hide\n",
    "import pandas as pd\n",
    "import matplotlib.pyplot as plt\n",
    "import matplotlib.ticker as ticker\n",
    "import matplotlib.animation as animation\n",
    "from IPython.display import HTML"
   ]
  },
  {
   "cell_type": "code",
   "execution_count": 21,
   "id": "lasting-extraction",
   "metadata": {
    "execution": {
     "iopub.execute_input": "2021-11-21T00:25:49.897686Z",
     "iopub.status.busy": "2021-11-21T00:25:49.897014Z",
     "iopub.status.idle": "2021-11-21T00:25:49.902984Z",
     "shell.execute_reply": "2021-11-21T00:25:49.903626Z"
    },
    "papermill": {
     "duration": 0.051701,
     "end_time": "2021-11-21T00:25:49.903792",
     "exception": false,
     "start_time": "2021-11-21T00:25:49.852091",
     "status": "completed"
    },
    "tags": []
   },
   "outputs": [],
   "source": [
    "#hide\n",
    "t = everydaycases.stack()"
   ]
  },
  {
   "cell_type": "code",
   "execution_count": 22,
   "id": "premier-sleeve",
   "metadata": {
    "execution": {
     "iopub.execute_input": "2021-11-21T00:25:49.997509Z",
     "iopub.status.busy": "2021-11-21T00:25:49.996839Z",
     "iopub.status.idle": "2021-11-21T00:25:50.007225Z",
     "shell.execute_reply": "2021-11-21T00:25:50.007849Z"
    },
    "papermill": {
     "duration": 0.059678,
     "end_time": "2021-11-21T00:25:50.008090",
     "exception": false,
     "start_time": "2021-11-21T00:25:49.948412",
     "status": "completed"
    },
    "tags": []
   },
   "outputs": [],
   "source": [
    "#hide\n",
    "g = t.reset_index(['Country/Region'])"
   ]
  },
  {
   "cell_type": "code",
   "execution_count": 23,
   "id": "distributed-pittsburgh",
   "metadata": {
    "execution": {
     "iopub.execute_input": "2021-11-21T00:25:50.093000Z",
     "iopub.status.busy": "2021-11-21T00:25:50.092321Z",
     "iopub.status.idle": "2021-11-21T00:25:50.096251Z",
     "shell.execute_reply": "2021-11-21T00:25:50.096767Z"
    },
    "papermill": {
     "duration": 0.047572,
     "end_time": "2021-11-21T00:25:50.096930",
     "exception": false,
     "start_time": "2021-11-21T00:25:50.049358",
     "status": "completed"
    },
    "tags": []
   },
   "outputs": [],
   "source": [
    "#hide\n",
    "g.index.name = 'date'"
   ]
  },
  {
   "cell_type": "code",
   "execution_count": 24,
   "id": "naked-donor",
   "metadata": {
    "execution": {
     "iopub.execute_input": "2021-11-21T00:25:50.183073Z",
     "iopub.status.busy": "2021-11-21T00:25:50.181674Z",
     "iopub.status.idle": "2021-11-21T00:25:50.183869Z",
     "shell.execute_reply": "2021-11-21T00:25:50.184483Z"
    },
    "papermill": {
     "duration": 0.044846,
     "end_time": "2021-11-21T00:25:50.184702",
     "exception": false,
     "start_time": "2021-11-21T00:25:50.139856",
     "status": "completed"
    },
    "tags": []
   },
   "outputs": [],
   "source": [
    "# #hide\n",
    "# g = g.reset_index(['date'])"
   ]
  },
  {
   "cell_type": "code",
   "execution_count": 25,
   "id": "incomplete-mustang",
   "metadata": {
    "execution": {
     "iopub.execute_input": "2021-11-21T00:25:50.273629Z",
     "iopub.status.busy": "2021-11-21T00:25:50.272457Z",
     "iopub.status.idle": "2021-11-21T00:25:50.274876Z",
     "shell.execute_reply": "2021-11-21T00:25:50.275507Z"
    },
    "papermill": {
     "duration": 0.047763,
     "end_time": "2021-11-21T00:25:50.275664",
     "exception": false,
     "start_time": "2021-11-21T00:25:50.227901",
     "status": "completed"
    },
    "tags": []
   },
   "outputs": [],
   "source": [
    "#hide\n",
    "# g.head()"
   ]
  },
  {
   "cell_type": "code",
   "execution_count": 26,
   "id": "specific-kruger",
   "metadata": {
    "execution": {
     "iopub.execute_input": "2021-11-21T00:25:50.358488Z",
     "iopub.status.busy": "2021-11-21T00:25:50.357769Z",
     "iopub.status.idle": "2021-11-21T00:25:50.361992Z",
     "shell.execute_reply": "2021-11-21T00:25:50.361445Z"
    },
    "papermill": {
     "duration": 0.047787,
     "end_time": "2021-11-21T00:25:50.362137",
     "exception": false,
     "start_time": "2021-11-21T00:25:50.314350",
     "status": "completed"
    },
    "tags": []
   },
   "outputs": [],
   "source": [
    "#hide\n",
    "# g.columns = ['date','country','cases']"
   ]
  },
  {
   "cell_type": "code",
   "execution_count": 27,
   "id": "tender-conversion",
   "metadata": {
    "execution": {
     "iopub.execute_input": "2021-11-21T00:25:50.446711Z",
     "iopub.status.busy": "2021-11-21T00:25:50.446004Z",
     "iopub.status.idle": "2021-11-21T00:25:50.449034Z",
     "shell.execute_reply": "2021-11-21T00:25:50.448499Z"
    },
    "papermill": {
     "duration": 0.046704,
     "end_time": "2021-11-21T00:25:50.449177",
     "exception": false,
     "start_time": "2021-11-21T00:25:50.402473",
     "status": "completed"
    },
    "tags": []
   },
   "outputs": [],
   "source": [
    "#hide\n",
    "# g['continent'] = g.country"
   ]
  },
  {
   "cell_type": "code",
   "execution_count": 28,
   "id": "substantial-wilderness",
   "metadata": {
    "execution": {
     "iopub.execute_input": "2021-11-21T00:25:50.532950Z",
     "iopub.status.busy": "2021-11-21T00:25:50.531529Z",
     "iopub.status.idle": "2021-11-21T00:25:50.533733Z",
     "shell.execute_reply": "2021-11-21T00:25:50.534267Z"
    },
    "papermill": {
     "duration": 0.046247,
     "end_time": "2021-11-21T00:25:50.534467",
     "exception": false,
     "start_time": "2021-11-21T00:25:50.488220",
     "status": "completed"
    },
    "tags": []
   },
   "outputs": [],
   "source": [
    "#hide\n",
    "# cols = list(g.columns.values)"
   ]
  },
  {
   "cell_type": "code",
   "execution_count": 29,
   "id": "solved-farming",
   "metadata": {
    "execution": {
     "iopub.execute_input": "2021-11-21T00:25:50.616835Z",
     "iopub.status.busy": "2021-11-21T00:25:50.616156Z",
     "iopub.status.idle": "2021-11-21T00:25:50.618148Z",
     "shell.execute_reply": "2021-11-21T00:25:50.618747Z"
    },
    "papermill": {
     "duration": 0.045818,
     "end_time": "2021-11-21T00:25:50.618911",
     "exception": false,
     "start_time": "2021-11-21T00:25:50.573093",
     "status": "completed"
    },
    "tags": []
   },
   "outputs": [],
   "source": [
    "#hide\n",
    "# cols.insert(0, cols.pop())"
   ]
  },
  {
   "cell_type": "code",
   "execution_count": 30,
   "id": "executed-adoption",
   "metadata": {
    "execution": {
     "iopub.execute_input": "2021-11-21T00:25:50.709685Z",
     "iopub.status.busy": "2021-11-21T00:25:50.709004Z",
     "iopub.status.idle": "2021-11-21T00:25:50.712743Z",
     "shell.execute_reply": "2021-11-21T00:25:50.713260Z"
    },
    "papermill": {
     "duration": 0.054505,
     "end_time": "2021-11-21T00:25:50.713436",
     "exception": false,
     "start_time": "2021-11-21T00:25:50.658931",
     "status": "completed"
    },
    "tags": []
   },
   "outputs": [],
   "source": [
    "#hide\n",
    "# g = g[cols]"
   ]
  },
  {
   "cell_type": "code",
   "execution_count": 31,
   "id": "subject-dublin",
   "metadata": {
    "execution": {
     "iopub.execute_input": "2021-11-21T00:25:50.798693Z",
     "iopub.status.busy": "2021-11-21T00:25:50.797972Z",
     "iopub.status.idle": "2021-11-21T00:25:50.800695Z",
     "shell.execute_reply": "2021-11-21T00:25:50.800126Z"
    },
    "papermill": {
     "duration": 0.046998,
     "end_time": "2021-11-21T00:25:50.800837",
     "exception": false,
     "start_time": "2021-11-21T00:25:50.753839",
     "status": "completed"
    },
    "tags": []
   },
   "outputs": [],
   "source": [
    "#hide\n",
    "# g['continent'] = g['continent'].map(mapping['map.continent'])"
   ]
  },
  {
   "cell_type": "code",
   "execution_count": 32,
   "id": "freelance-scout",
   "metadata": {
    "execution": {
     "iopub.execute_input": "2021-11-21T00:25:50.885105Z",
     "iopub.status.busy": "2021-11-21T00:25:50.884415Z",
     "iopub.status.idle": "2021-11-21T00:25:50.887034Z",
     "shell.execute_reply": "2021-11-21T00:25:50.886469Z"
    },
    "papermill": {
     "duration": 0.046073,
     "end_time": "2021-11-21T00:25:50.887178",
     "exception": false,
     "start_time": "2021-11-21T00:25:50.841105",
     "status": "completed"
    },
    "tags": []
   },
   "outputs": [],
   "source": [
    "#hide\n",
    "# g.head()"
   ]
  },
  {
   "cell_type": "code",
   "execution_count": 33,
   "id": "limited-engine",
   "metadata": {
    "execution": {
     "iopub.execute_input": "2021-11-21T00:25:50.972452Z",
     "iopub.status.busy": "2021-11-21T00:25:50.971776Z",
     "iopub.status.idle": "2021-11-21T00:25:50.975649Z",
     "shell.execute_reply": "2021-11-21T00:25:50.976170Z"
    },
    "papermill": {
     "duration": 0.050115,
     "end_time": "2021-11-21T00:25:50.976339",
     "exception": false,
     "start_time": "2021-11-21T00:25:50.926224",
     "status": "completed"
    },
    "tags": []
   },
   "outputs": [],
   "source": [
    "# hide\n",
    "# g['date'] = g['date'].astype('datetime64[ns]')"
   ]
  },
  {
   "cell_type": "code",
   "execution_count": 34,
   "id": "sophisticated-supervisor",
   "metadata": {
    "execution": {
     "iopub.execute_input": "2021-11-21T00:25:51.063028Z",
     "iopub.status.busy": "2021-11-21T00:25:51.062348Z",
     "iopub.status.idle": "2021-11-21T00:25:51.064144Z",
     "shell.execute_reply": "2021-11-21T00:25:51.064731Z"
    },
    "papermill": {
     "duration": 0.04536,
     "end_time": "2021-11-21T00:25:51.064892",
     "exception": false,
     "start_time": "2021-11-21T00:25:51.019532",
     "status": "completed"
    },
    "tags": []
   },
   "outputs": [],
   "source": [
    "#hide\n",
    "# g['date'] = g.date.dt.dayofyear"
   ]
  },
  {
   "cell_type": "code",
   "execution_count": 35,
   "id": "inside-dubai",
   "metadata": {
    "execution": {
     "iopub.execute_input": "2021-11-21T00:25:51.155072Z",
     "iopub.status.busy": "2021-11-21T00:25:51.154395Z",
     "iopub.status.idle": "2021-11-21T00:25:51.158713Z",
     "shell.execute_reply": "2021-11-21T00:25:51.158117Z"
    },
    "papermill": {
     "duration": 0.050575,
     "end_time": "2021-11-21T00:25:51.158851",
     "exception": false,
     "start_time": "2021-11-21T00:25:51.108276",
     "status": "completed"
    },
    "tags": []
   },
   "outputs": [],
   "source": [
    "#hide\n",
    "# g = g.rename(columns= {'continent':'group','country':'name','cases':'value'})"
   ]
  },
  {
   "cell_type": "code",
   "execution_count": 36,
   "id": "fleet-motorcycle",
   "metadata": {
    "execution": {
     "iopub.execute_input": "2021-11-21T00:25:51.243769Z",
     "iopub.status.busy": "2021-11-21T00:25:51.243082Z",
     "iopub.status.idle": "2021-11-21T00:25:51.245648Z",
     "shell.execute_reply": "2021-11-21T00:25:51.244974Z"
    },
    "papermill": {
     "duration": 0.048469,
     "end_time": "2021-11-21T00:25:51.245794",
     "exception": false,
     "start_time": "2021-11-21T00:25:51.197325",
     "status": "completed"
    },
    "tags": []
   },
   "outputs": [],
   "source": [
    "#hide\n",
    "# cols = ['name','group','day','value']"
   ]
  },
  {
   "cell_type": "code",
   "execution_count": 37,
   "id": "continued-sleeping",
   "metadata": {
    "execution": {
     "iopub.execute_input": "2021-11-21T00:25:51.330373Z",
     "iopub.status.busy": "2021-11-21T00:25:51.329646Z",
     "iopub.status.idle": "2021-11-21T00:25:51.333728Z",
     "shell.execute_reply": "2021-11-21T00:25:51.333181Z"
    },
    "papermill": {
     "duration": 0.048582,
     "end_time": "2021-11-21T00:25:51.334083",
     "exception": false,
     "start_time": "2021-11-21T00:25:51.285501",
     "status": "completed"
    },
    "tags": []
   },
   "outputs": [],
   "source": [
    "#hide\n",
    "# g.rename(columns= {'date':'day'},inplace = True)"
   ]
  },
  {
   "cell_type": "code",
   "execution_count": 38,
   "id": "major-fight",
   "metadata": {
    "execution": {
     "iopub.execute_input": "2021-11-21T00:25:51.432957Z",
     "iopub.status.busy": "2021-11-21T00:25:51.432266Z",
     "iopub.status.idle": "2021-11-21T00:25:51.435981Z",
     "shell.execute_reply": "2021-11-21T00:25:51.436613Z"
    },
    "papermill": {
     "duration": 0.060408,
     "end_time": "2021-11-21T00:25:51.436783",
     "exception": false,
     "start_time": "2021-11-21T00:25:51.376375",
     "status": "completed"
    },
    "tags": []
   },
   "outputs": [],
   "source": [
    "#hide\n",
    "# g = g[cols]"
   ]
  },
  {
   "cell_type": "code",
   "execution_count": 39,
   "id": "structured-mobile",
   "metadata": {
    "execution": {
     "iopub.execute_input": "2021-11-21T00:25:51.524780Z",
     "iopub.status.busy": "2021-11-21T00:25:51.524071Z",
     "iopub.status.idle": "2021-11-21T00:25:51.526675Z",
     "shell.execute_reply": "2021-11-21T00:25:51.526062Z"
    },
    "papermill": {
     "duration": 0.050742,
     "end_time": "2021-11-21T00:25:51.526825",
     "exception": false,
     "start_time": "2021-11-21T00:25:51.476083",
     "status": "completed"
    },
    "tags": []
   },
   "outputs": [],
   "source": [
    "# #hide\n",
    "# g = g[g.group.notna()]"
   ]
  },
  {
   "cell_type": "code",
   "execution_count": 40,
   "id": "determined-closing",
   "metadata": {
    "execution": {
     "iopub.execute_input": "2021-11-21T00:25:51.612011Z",
     "iopub.status.busy": "2021-11-21T00:25:51.611294Z",
     "iopub.status.idle": "2021-11-21T00:25:51.613830Z",
     "shell.execute_reply": "2021-11-21T00:25:51.613256Z"
    },
    "papermill": {
     "duration": 0.046713,
     "end_time": "2021-11-21T00:25:51.613975",
     "exception": false,
     "start_time": "2021-11-21T00:25:51.567262",
     "status": "completed"
    },
    "tags": []
   },
   "outputs": [],
   "source": [
    "# #hide\n",
    "# colors = dict(zip(\n",
    "#     [\"Oceania\", \"Europe\", \"Asia\", \"South America\", \"Middle East\", \"North America\", \"Africa\"],\n",
    "#     [\"#adb0ff\", \"#ffb3ff\", \"#90d595\", \"#e48381\", \"#aafbff\", \"#f7bb5f\", \"#eafb50\"]\n",
    "# ))\n",
    "# group_lk = g.set_index('name')['group'].to_dict()"
   ]
  },
  {
   "cell_type": "code",
   "execution_count": null,
   "id": "gross-drinking",
   "metadata": {
    "papermill": {
     "duration": 0.0414,
     "end_time": "2021-11-21T00:25:51.696478",
     "exception": false,
     "start_time": "2021-11-21T00:25:51.655078",
     "status": "completed"
    },
    "tags": []
   },
   "outputs": [],
   "source": []
  },
  {
   "cell_type": "code",
   "execution_count": 41,
   "id": "subject-macintosh",
   "metadata": {
    "execution": {
     "iopub.execute_input": "2021-11-21T00:25:51.782526Z",
     "iopub.status.busy": "2021-11-21T00:25:51.781783Z",
     "iopub.status.idle": "2021-11-21T00:25:51.785532Z",
     "shell.execute_reply": "2021-11-21T00:25:51.784969Z"
    },
    "papermill": {
     "duration": 0.048532,
     "end_time": "2021-11-21T00:25:51.785685",
     "exception": false,
     "start_time": "2021-11-21T00:25:51.737153",
     "status": "completed"
    },
    "tags": []
   },
   "outputs": [],
   "source": [
    "# #hide\n",
    "# fig, ax = plt.subplots(figsize=(15, 8))\n",
    "\n",
    "# def draw_barchart(current_day):\n",
    "#     dff = g[g['day'].eq(current_day)].sort_values(by='value', ascending=True).tail(10)\n",
    "#     ax.clear()\n",
    "#     ax.barh(dff['name'], dff['value'], color=[colors[group_lk[x]] for x in dff['name']])\n",
    "#     dx = dff['value'].max() / 200\n",
    "    \n",
    "#     for i, (value, name) in enumerate(zip(dff['value'], dff['name'])):\n",
    "#         ax.text(value-dx, i,     name,           size=14, weight=600, ha='right', va='bottom')\n",
    "#         ax.text(value-dx, i-.25, group_lk[name], size=10, color='#444444', ha='right', va='baseline')\n",
    "#         ax.text(value+dx, i,     f'{value:,.0f}',  size=14, ha='left',  va='center')\n",
    "#     ax.text(1, 0.4, current_day, transform=ax.transAxes, color='#777777', size=46, ha='right', weight=800)\n",
    "#     ax.text(0, 1.06, 'Population (thousands)', transform=ax.transAxes, size=12, color='#777777')\n",
    "#     ax.xaxis.set_major_formatter(ticker.StrMethodFormatter('{x:,.0f}'))\n",
    "#     ax.xaxis.set_ticks_position('top')\n",
    "#     ax.tick_params(axis='x', colors='#777777', labelsize=12)\n",
    "#     ax.set_yticks([])\n",
    "#     ax.margins(0, 0.01)\n",
    "#     ax.grid(which='major', axis='x', linestyle='-')\n",
    "#     ax.set_axisbelow(True)\n",
    "    \n",
    "#     ax.text(0, 1.15, 'Coronavirus',\n",
    "#             transform=ax.transAxes, size=24, weight=600, ha='left', va='top')\n",
    "# #     ax.text(1, 0, 'by @pratapvardhan; credit @jburnmurdoch', transform=ax.transAxes, color='#777777', ha='right',\n",
    "# #             bbox=dict(facecolor='white', alpha=0.8, edgecolor='white'))\n",
    "#     plt.box(False)"
   ]
  },
  {
   "cell_type": "code",
   "execution_count": 42,
   "id": "sexual-wages",
   "metadata": {
    "execution": {
     "iopub.execute_input": "2021-11-21T00:25:51.871766Z",
     "iopub.status.busy": "2021-11-21T00:25:51.871065Z",
     "iopub.status.idle": "2021-11-21T00:25:51.873574Z",
     "shell.execute_reply": "2021-11-21T00:25:51.874099Z"
    },
    "papermill": {
     "duration": 0.046967,
     "end_time": "2021-11-21T00:25:51.874277",
     "exception": false,
     "start_time": "2021-11-21T00:25:51.827310",
     "status": "completed"
    },
    "tags": []
   },
   "outputs": [],
   "source": [
    "# #hide_input\n",
    "# fig, ax = plt.subplots(figsize=(15, 8))\n",
    "# animator = animation.FuncAnimation(fig, draw_barchart, frames=range(g.day.values.min(), g.day.values.max()))\n",
    "# HTML(animator.to_jshtml())\n",
    "# # or use animator.to_html5_video() or animator.save() "
   ]
  },
  {
   "cell_type": "code",
   "execution_count": null,
   "id": "australian-container",
   "metadata": {
    "papermill": {
     "duration": 0.040628,
     "end_time": "2021-11-21T00:25:51.956269",
     "exception": false,
     "start_time": "2021-11-21T00:25:51.915641",
     "status": "completed"
    },
    "tags": []
   },
   "outputs": [],
   "source": []
  },
  {
   "cell_type": "code",
   "execution_count": null,
   "id": "mediterranean-pontiac",
   "metadata": {
    "papermill": {
     "duration": 0.047572,
     "end_time": "2021-11-21T00:25:52.044111",
     "exception": false,
     "start_time": "2021-11-21T00:25:51.996539",
     "status": "completed"
    },
    "tags": []
   },
   "outputs": [],
   "source": []
  },
  {
   "cell_type": "code",
   "execution_count": null,
   "id": "aging-legislature",
   "metadata": {
    "papermill": {
     "duration": 0.040247,
     "end_time": "2021-11-21T00:25:52.127144",
     "exception": false,
     "start_time": "2021-11-21T00:25:52.086897",
     "status": "completed"
    },
    "tags": []
   },
   "outputs": [],
   "source": []
  }
 ],
 "metadata": {
  "kernelspec": {
   "display_name": "Python 3",
   "language": "python",
   "name": "python3"
  },
  "language_info": {
   "codemirror_mode": {
    "name": "ipython",
    "version": 3
   },
   "file_extension": ".py",
   "mimetype": "text/x-python",
   "name": "python",
   "nbconvert_exporter": "python",
   "pygments_lexer": "ipython3",
   "version": "3.6.15"
  },
  "papermill": {
   "duration": 7.82988,
   "end_time": "2021-11-21T00:25:52.679639",
   "environment_variables": {},
   "exception": null,
   "input_path": "2020-03-21-covid19exp.ipynb",
   "output_path": "2020-03-21-covid19exp.ipynb",
   "parameters": {},
   "start_time": "2021-11-21T00:25:44.849759",
   "version": "2.0.0"
  }
 },
 "nbformat": 4,
 "nbformat_minor": 5
}