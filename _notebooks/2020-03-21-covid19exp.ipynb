{
 "cells": [
  {
   "cell_type": "markdown",
   "id": "muslim-click",
   "metadata": {
    "papermill": {
     "duration": 0.0438,
     "end_time": "2022-07-28T12:21:04.170568",
     "exception": false,
     "start_time": "2022-07-28T12:21:04.126768",
     "status": "completed"
    },
    "tags": []
   },
   "source": [
    "# COVID-19 Case Race\n",
    "> A race chart to see rising cases around the world\n",
    "\n",
    "- author: Hargun Oberoi\n",
    "- image: images/covid-overview.png\n",
    "- hide: false\n",
    "- badges: false"
   ]
  },
  {
   "cell_type": "code",
   "execution_count": 1,
   "id": "proof-material",
   "metadata": {
    "execution": {
     "iopub.execute_input": "2022-07-28T12:21:04.268769Z",
     "iopub.status.busy": "2022-07-28T12:21:04.268000Z",
     "iopub.status.idle": "2022-07-28T12:21:04.661923Z",
     "shell.execute_reply": "2022-07-28T12:21:04.662509Z"
    },
    "papermill": {
     "duration": 0.452601,
     "end_time": "2022-07-28T12:21:04.662714",
     "exception": false,
     "start_time": "2022-07-28T12:21:04.210113",
     "status": "completed"
    },
    "tags": []
   },
   "outputs": [],
   "source": [
    "#hide\n",
    "import numpy as np\n",
    "import pandas as pd\n",
    "from jinja2 import Template\n",
    "from IPython.display import HTML"
   ]
  },
  {
   "cell_type": "code",
   "execution_count": 2,
   "id": "developed-terminology",
   "metadata": {
    "execution": {
     "iopub.execute_input": "2022-07-28T12:21:04.745101Z",
     "iopub.status.busy": "2022-07-28T12:21:04.744347Z",
     "iopub.status.idle": "2022-07-28T12:21:04.748129Z",
     "shell.execute_reply": "2022-07-28T12:21:04.747477Z"
    },
    "papermill": {
     "duration": 0.047945,
     "end_time": "2022-07-28T12:21:04.748263",
     "exception": false,
     "start_time": "2022-07-28T12:21:04.700318",
     "status": "completed"
    },
    "tags": []
   },
   "outputs": [],
   "source": [
    "#hide\n",
    "\n",
    "# FETCH\n",
    "base_url = 'https://raw.githubusercontent.com/pratapvardhan/notebooks/master/covid19/'\n",
    "paths = {\n",
    "    'mapping': base_url + 'mapping_countries.csv',\n",
    "    'overview': base_url + 'overview.tpl'\n",
    "}"
   ]
  },
  {
   "cell_type": "code",
   "execution_count": 3,
   "id": "dynamic-saver",
   "metadata": {
    "execution": {
     "iopub.execute_input": "2022-07-28T12:21:04.836329Z",
     "iopub.status.busy": "2022-07-28T12:21:04.835555Z",
     "iopub.status.idle": "2022-07-28T12:21:04.840388Z",
     "shell.execute_reply": "2022-07-28T12:21:04.839776Z"
    },
    "papermill": {
     "duration": 0.053984,
     "end_time": "2022-07-28T12:21:04.840520",
     "exception": false,
     "start_time": "2022-07-28T12:21:04.786536",
     "status": "completed"
    },
    "tags": []
   },
   "outputs": [
    {
     "data": {
      "text/plain": [
       "'https://raw.githubusercontent.com/pratapvardhan/notebooks/master/covid19/mapping_countries.csv'"
      ]
     },
     "execution_count": 3,
     "metadata": {},
     "output_type": "execute_result"
    }
   ],
   "source": [
    "#hide\n",
    "paths['mapping']"
   ]
  },
  {
   "cell_type": "code",
   "execution_count": 4,
   "id": "urban-software",
   "metadata": {
    "execution": {
     "iopub.execute_input": "2022-07-28T12:21:04.924279Z",
     "iopub.status.busy": "2022-07-28T12:21:04.923392Z",
     "iopub.status.idle": "2022-07-28T12:21:04.925301Z",
     "shell.execute_reply": "2022-07-28T12:21:04.926003Z"
    },
    "papermill": {
     "duration": 0.047209,
     "end_time": "2022-07-28T12:21:04.926166",
     "exception": false,
     "start_time": "2022-07-28T12:21:04.878957",
     "status": "completed"
    },
    "tags": []
   },
   "outputs": [],
   "source": [
    "#hide\n",
    "def get_mappings(url):\n",
    "    df = pd.read_csv(url)\n",
    "    return {\n",
    "        'df': df,\n",
    "        'replace.country': dict(df.dropna(subset=['Name']).set_index('Country')['Name']),\n",
    "        'map.continent': dict(df.set_index('Name')['Continent'])\n",
    "    }"
   ]
  },
  {
   "cell_type": "code",
   "execution_count": 5,
   "id": "intimate-machinery",
   "metadata": {
    "execution": {
     "iopub.execute_input": "2022-07-28T12:21:05.007999Z",
     "iopub.status.busy": "2022-07-28T12:21:05.007158Z",
     "iopub.status.idle": "2022-07-28T12:21:05.047104Z",
     "shell.execute_reply": "2022-07-28T12:21:05.046467Z"
    },
    "papermill": {
     "duration": 0.083827,
     "end_time": "2022-07-28T12:21:05.047247",
     "exception": false,
     "start_time": "2022-07-28T12:21:04.963420",
     "status": "completed"
    },
    "tags": []
   },
   "outputs": [],
   "source": [
    "#hide\n",
    "mapping = get_mappings(paths['mapping'])"
   ]
  },
  {
   "cell_type": "code",
   "execution_count": 6,
   "id": "certified-tactics",
   "metadata": {
    "execution": {
     "iopub.execute_input": "2022-07-28T12:21:05.131940Z",
     "iopub.status.busy": "2022-07-28T12:21:05.131132Z",
     "iopub.status.idle": "2022-07-28T12:21:05.134370Z",
     "shell.execute_reply": "2022-07-28T12:21:05.133645Z"
    },
    "papermill": {
     "duration": 0.047623,
     "end_time": "2022-07-28T12:21:05.134505",
     "exception": false,
     "start_time": "2022-07-28T12:21:05.086882",
     "status": "completed"
    },
    "tags": []
   },
   "outputs": [],
   "source": [
    "#hide\n",
    "def get_template(path):\n",
    "    from urllib.parse import urlparse\n",
    "    if bool(urlparse(path).netloc):\n",
    "        from urllib.request import urlopen\n",
    "        return urlopen(path).read().decode('utf8')\n",
    "    return open(path).read()"
   ]
  },
  {
   "cell_type": "code",
   "execution_count": 7,
   "id": "realistic-blast",
   "metadata": {
    "execution": {
     "iopub.execute_input": "2022-07-28T12:21:05.215902Z",
     "iopub.status.busy": "2022-07-28T12:21:05.215125Z",
     "iopub.status.idle": "2022-07-28T12:21:05.218348Z",
     "shell.execute_reply": "2022-07-28T12:21:05.217740Z"
    },
    "papermill": {
     "duration": 0.047076,
     "end_time": "2022-07-28T12:21:05.218608",
     "exception": false,
     "start_time": "2022-07-28T12:21:05.171532",
     "status": "completed"
    },
    "tags": []
   },
   "outputs": [],
   "source": [
    "#hide\n",
    "def get_frame(name):\n",
    "    url = (\n",
    "        'https://raw.githubusercontent.com/CSSEGISandData/COVID-19/master/csse_covid_19_data/'\n",
    "        f'csse_covid_19_time_series/time_series_covid19_{name}_global.csv')\n",
    "    df = pd.read_csv(url)\n",
    "    # rename countries\n",
    "    df['Country/Region'] = df['Country/Region'].replace(mapping['replace.country'])\n",
    "    return df"
   ]
  },
  {
   "cell_type": "code",
   "execution_count": 8,
   "id": "affiliated-characterization",
   "metadata": {
    "execution": {
     "iopub.execute_input": "2022-07-28T12:21:05.304093Z",
     "iopub.status.busy": "2022-07-28T12:21:05.303299Z",
     "iopub.status.idle": "2022-07-28T12:21:05.306533Z",
     "shell.execute_reply": "2022-07-28T12:21:05.305922Z"
    },
    "papermill": {
     "duration": 0.047997,
     "end_time": "2022-07-28T12:21:05.306667",
     "exception": false,
     "start_time": "2022-07-28T12:21:05.258670",
     "status": "completed"
    },
    "tags": []
   },
   "outputs": [],
   "source": [
    "#hide\n",
    "def get_dates(df):\n",
    "    dt_cols = df.columns[~df.columns.isin(['Province/State', 'Country/Region', 'Lat', 'Long'])]\n",
    "    LAST_DATE_I = -1\n",
    "    # sometimes last column may be empty, then go backwards\n",
    "    for i in range(-1, -len(dt_cols), -1):\n",
    "        if not df[dt_cols[i]].fillna(0).eq(0).all():\n",
    "            LAST_DATE_I = i\n",
    "            break\n",
    "    return LAST_DATE_I, dt_cols"
   ]
  },
  {
   "cell_type": "code",
   "execution_count": 9,
   "id": "recent-optimization",
   "metadata": {
    "execution": {
     "iopub.execute_input": "2022-07-28T12:21:05.391208Z",
     "iopub.status.busy": "2022-07-28T12:21:05.390384Z",
     "iopub.status.idle": "2022-07-28T12:21:05.957196Z",
     "shell.execute_reply": "2022-07-28T12:21:05.956571Z"
    },
    "papermill": {
     "duration": 0.611615,
     "end_time": "2022-07-28T12:21:05.957347",
     "exception": false,
     "start_time": "2022-07-28T12:21:05.345732",
     "status": "completed"
    },
    "tags": []
   },
   "outputs": [],
   "source": [
    "#hide\n",
    "COL_REGION = 'Country/Region'\n",
    "# Confirmed, Recovered, Deaths\n",
    "df = get_frame('confirmed')\n",
    "# dft_: timeseries, dfc_: today country agg\n",
    "dft_cases = df\n",
    "dft_deaths = get_frame('deaths')\n",
    "dft_recovered = get_frame('recovered')\n",
    "LAST_DATE_I, dt_cols = get_dates(df)"
   ]
  },
  {
   "cell_type": "code",
   "execution_count": 10,
   "id": "absolute-copper",
   "metadata": {
    "execution": {
     "iopub.execute_input": "2022-07-28T12:21:06.042115Z",
     "iopub.status.busy": "2022-07-28T12:21:06.041379Z",
     "iopub.status.idle": "2022-07-28T12:21:06.045529Z",
     "shell.execute_reply": "2022-07-28T12:21:06.046136Z"
    },
    "papermill": {
     "duration": 0.049535,
     "end_time": "2022-07-28T12:21:06.046286",
     "exception": false,
     "start_time": "2022-07-28T12:21:05.996751",
     "status": "completed"
    },
    "tags": []
   },
   "outputs": [],
   "source": [
    "#hide\n",
    "LAST_DATE_I, dt_cols = get_dates(df)\n",
    "dt_today =dt_cols[LAST_DATE_I]\n",
    "# dt_5day = dt_cols[LAST_DATE_I - 5]\n",
    "dt_yday = dt_cols[LAST_DATE_I - 1]"
   ]
  },
  {
   "cell_type": "code",
   "execution_count": 11,
   "id": "restricted-sheriff",
   "metadata": {
    "execution": {
     "iopub.execute_input": "2022-07-28T12:21:06.133832Z",
     "iopub.status.busy": "2022-07-28T12:21:06.133040Z",
     "iopub.status.idle": "2022-07-28T12:21:06.142773Z",
     "shell.execute_reply": "2022-07-28T12:21:06.142163Z"
    },
    "papermill": {
     "duration": 0.056589,
     "end_time": "2022-07-28T12:21:06.142913",
     "exception": false,
     "start_time": "2022-07-28T12:21:06.086324",
     "status": "completed"
    },
    "tags": []
   },
   "outputs": [],
   "source": [
    "#hide\n",
    "dfc_cases = dft_cases.groupby(COL_REGION)[dt_today].sum()\n",
    "dfc_deaths = dft_deaths.groupby(COL_REGION)[dt_today].sum()\n",
    "# dfp_cases = dft_cases.groupby(COL_REGION)[dt_5day].sum()\n",
    "# dfp_deaths = dft_deaths.groupby(COL_REGION)[dt_5day].sum()\n",
    "dfp_cases = dft_cases.groupby(COL_REGION)[dt_yday].sum()\n",
    "dfp_deaths = dft_deaths.groupby(COL_REGION)[dt_yday].sum()"
   ]
  },
  {
   "cell_type": "code",
   "execution_count": 12,
   "id": "deluxe-hepatitis",
   "metadata": {
    "execution": {
     "iopub.execute_input": "2022-07-28T12:21:06.230317Z",
     "iopub.status.busy": "2022-07-28T12:21:06.229088Z",
     "iopub.status.idle": "2022-07-28T12:21:06.236449Z",
     "shell.execute_reply": "2022-07-28T12:21:06.235834Z"
    },
    "papermill": {
     "duration": 0.052878,
     "end_time": "2022-07-28T12:21:06.236588",
     "exception": false,
     "start_time": "2022-07-28T12:21:06.183710",
     "status": "completed"
    },
    "tags": []
   },
   "outputs": [],
   "source": [
    "#hide\n",
    "df_table = (pd.DataFrame(dict(Cases = dfc_cases, Deaths = dfc_deaths, PCases = dfp_cases, PDeaths = dfp_deaths))\n",
    "            .sort_values(by = ['Cases','Deaths'], ascending = [False, False])\n",
    "            .reset_index())"
   ]
  },
  {
   "cell_type": "code",
   "execution_count": 13,
   "id": "educational-chancellor",
   "metadata": {
    "execution": {
     "iopub.execute_input": "2022-07-28T12:21:06.322310Z",
     "iopub.status.busy": "2022-07-28T12:21:06.321555Z",
     "iopub.status.idle": "2022-07-28T12:21:06.348430Z",
     "shell.execute_reply": "2022-07-28T12:21:06.347830Z"
    },
    "papermill": {
     "duration": 0.074344,
     "end_time": "2022-07-28T12:21:06.348573",
     "exception": false,
     "start_time": "2022-07-28T12:21:06.274229",
     "status": "completed"
    },
    "tags": []
   },
   "outputs": [
    {
     "data": {
      "text/html": [
       "<div>\n",
       "<style scoped>\n",
       "    .dataframe tbody tr th:only-of-type {\n",
       "        vertical-align: middle;\n",
       "    }\n",
       "\n",
       "    .dataframe tbody tr th {\n",
       "        vertical-align: top;\n",
       "    }\n",
       "\n",
       "    .dataframe thead th {\n",
       "        text-align: right;\n",
       "    }\n",
       "</style>\n",
       "<table border=\"1\" class=\"dataframe\">\n",
       "  <thead>\n",
       "    <tr style=\"text-align: right;\">\n",
       "      <th></th>\n",
       "      <th>Country/Region</th>\n",
       "      <th>Cases</th>\n",
       "      <th>Deaths</th>\n",
       "      <th>PCases</th>\n",
       "      <th>PDeaths</th>\n",
       "      <th>Cases (+)</th>\n",
       "      <th>Deaths (+)</th>\n",
       "      <th>Fatality Rate</th>\n",
       "      <th>Continent</th>\n",
       "    </tr>\n",
       "  </thead>\n",
       "  <tbody>\n",
       "    <tr>\n",
       "      <th>0</th>\n",
       "      <td>US</td>\n",
       "      <td>90973418</td>\n",
       "      <td>1028819</td>\n",
       "      <td>90733888</td>\n",
       "      <td>1027886</td>\n",
       "      <td>239530</td>\n",
       "      <td>933</td>\n",
       "      <td>1.13</td>\n",
       "      <td>North America</td>\n",
       "    </tr>\n",
       "    <tr>\n",
       "      <th>1</th>\n",
       "      <td>India</td>\n",
       "      <td>43959321</td>\n",
       "      <td>526212</td>\n",
       "      <td>43938764</td>\n",
       "      <td>526167</td>\n",
       "      <td>20557</td>\n",
       "      <td>45</td>\n",
       "      <td>1.20</td>\n",
       "      <td>Asia</td>\n",
       "    </tr>\n",
       "    <tr>\n",
       "      <th>2</th>\n",
       "      <td>France</td>\n",
       "      <td>33899625</td>\n",
       "      <td>152822</td>\n",
       "      <td>33840851</td>\n",
       "      <td>152719</td>\n",
       "      <td>58774</td>\n",
       "      <td>103</td>\n",
       "      <td>0.45</td>\n",
       "      <td>Europe</td>\n",
       "    </tr>\n",
       "    <tr>\n",
       "      <th>3</th>\n",
       "      <td>Brazil</td>\n",
       "      <td>33704393</td>\n",
       "      <td>677804</td>\n",
       "      <td>33659879</td>\n",
       "      <td>677494</td>\n",
       "      <td>44514</td>\n",
       "      <td>310</td>\n",
       "      <td>2.01</td>\n",
       "      <td>South America</td>\n",
       "    </tr>\n",
       "    <tr>\n",
       "      <th>4</th>\n",
       "      <td>Germany</td>\n",
       "      <td>30702511</td>\n",
       "      <td>143702</td>\n",
       "      <td>30598385</td>\n",
       "      <td>143545</td>\n",
       "      <td>104126</td>\n",
       "      <td>157</td>\n",
       "      <td>0.47</td>\n",
       "      <td>Europe</td>\n",
       "    </tr>\n",
       "  </tbody>\n",
       "</table>\n",
       "</div>"
      ],
      "text/plain": [
       "  Country/Region     Cases   Deaths    PCases  PDeaths  Cases (+)  Deaths (+)  \\\n",
       "0             US  90973418  1028819  90733888  1027886     239530         933   \n",
       "1          India  43959321   526212  43938764   526167      20557          45   \n",
       "2         France  33899625   152822  33840851   152719      58774         103   \n",
       "3         Brazil  33704393   677804  33659879   677494      44514         310   \n",
       "4        Germany  30702511   143702  30598385   143545     104126         157   \n",
       "\n",
       "   Fatality Rate      Continent  \n",
       "0           1.13  North America  \n",
       "1           1.20           Asia  \n",
       "2           0.45         Europe  \n",
       "3           2.01  South America  \n",
       "4           0.47         Europe  "
      ]
     },
     "execution_count": 13,
     "metadata": {},
     "output_type": "execute_result"
    }
   ],
   "source": [
    "#hide\n",
    "for c in 'Cases, Deaths'.split(', '):\n",
    "    df_table[f'{c} (+)'] = (df_table[c] - df_table[f'P{c}']).clip(0)\n",
    "    #Clip ça veut dire, les chiffres negatif sont interdit\n",
    "df_table['Fatality Rate'] = (100* df_table['Deaths']/ df_table['Cases']).round(2)\n",
    "df_table['Continent'] = df_table['Country/Region'].map(mapping['map.continent'])\n",
    "df_table.head(5)"
   ]
  },
  {
   "cell_type": "code",
   "execution_count": 14,
   "id": "aboriginal-bulgaria",
   "metadata": {
    "execution": {
     "iopub.execute_input": "2022-07-28T12:21:06.435466Z",
     "iopub.status.busy": "2022-07-28T12:21:06.434724Z",
     "iopub.status.idle": "2022-07-28T12:21:06.436939Z",
     "shell.execute_reply": "2022-07-28T12:21:06.437654Z"
    },
    "papermill": {
     "duration": 0.049691,
     "end_time": "2022-07-28T12:21:06.437809",
     "exception": false,
     "start_time": "2022-07-28T12:21:06.388118",
     "status": "completed"
    },
    "tags": []
   },
   "outputs": [],
   "source": [
    "#hide\n",
    "#delete problematic countries from table\n",
    "df_table = df_table[~df_table['Country/Region'].isin(['Cape Verde', 'Cruise Ship', 'Kosovo'])]"
   ]
  },
  {
   "cell_type": "code",
   "execution_count": 15,
   "id": "fantastic-effect",
   "metadata": {
    "execution": {
     "iopub.execute_input": "2022-07-28T12:21:06.524534Z",
     "iopub.status.busy": "2022-07-28T12:21:06.523669Z",
     "iopub.status.idle": "2022-07-28T12:21:06.548679Z",
     "shell.execute_reply": "2022-07-28T12:21:06.548049Z"
    },
    "papermill": {
     "duration": 0.072228,
     "end_time": "2022-07-28T12:21:06.548823",
     "exception": false,
     "start_time": "2022-07-28T12:21:06.476595",
     "status": "completed"
    },
    "tags": []
   },
   "outputs": [
    {
     "data": {
      "text/html": [
       "<div>\n",
       "<style scoped>\n",
       "    .dataframe tbody tr th:only-of-type {\n",
       "        vertical-align: middle;\n",
       "    }\n",
       "\n",
       "    .dataframe tbody tr th {\n",
       "        vertical-align: top;\n",
       "    }\n",
       "\n",
       "    .dataframe thead th {\n",
       "        text-align: right;\n",
       "    }\n",
       "</style>\n",
       "<table border=\"1\" class=\"dataframe\">\n",
       "  <thead>\n",
       "    <tr style=\"text-align: right;\">\n",
       "      <th></th>\n",
       "      <th>Country/Region</th>\n",
       "      <th>Cases</th>\n",
       "      <th>Deaths</th>\n",
       "      <th>PCases</th>\n",
       "      <th>PDeaths</th>\n",
       "      <th>Cases (+)</th>\n",
       "      <th>Deaths (+)</th>\n",
       "      <th>Fatality Rate</th>\n",
       "      <th>Continent</th>\n",
       "    </tr>\n",
       "  </thead>\n",
       "  <tbody>\n",
       "    <tr>\n",
       "      <th>0</th>\n",
       "      <td>US</td>\n",
       "      <td>90973418</td>\n",
       "      <td>1028819</td>\n",
       "      <td>90733888</td>\n",
       "      <td>1027886</td>\n",
       "      <td>239530</td>\n",
       "      <td>933</td>\n",
       "      <td>1.1</td>\n",
       "      <td>North America</td>\n",
       "    </tr>\n",
       "    <tr>\n",
       "      <th>1</th>\n",
       "      <td>India</td>\n",
       "      <td>43959321</td>\n",
       "      <td>526212</td>\n",
       "      <td>43938764</td>\n",
       "      <td>526167</td>\n",
       "      <td>20557</td>\n",
       "      <td>45</td>\n",
       "      <td>1.2</td>\n",
       "      <td>Asia</td>\n",
       "    </tr>\n",
       "    <tr>\n",
       "      <th>2</th>\n",
       "      <td>France</td>\n",
       "      <td>33899625</td>\n",
       "      <td>152822</td>\n",
       "      <td>33840851</td>\n",
       "      <td>152719</td>\n",
       "      <td>58774</td>\n",
       "      <td>103</td>\n",
       "      <td>0.5</td>\n",
       "      <td>Europe</td>\n",
       "    </tr>\n",
       "    <tr>\n",
       "      <th>3</th>\n",
       "      <td>Brazil</td>\n",
       "      <td>33704393</td>\n",
       "      <td>677804</td>\n",
       "      <td>33659879</td>\n",
       "      <td>677494</td>\n",
       "      <td>44514</td>\n",
       "      <td>310</td>\n",
       "      <td>2.0</td>\n",
       "      <td>South America</td>\n",
       "    </tr>\n",
       "    <tr>\n",
       "      <th>4</th>\n",
       "      <td>Germany</td>\n",
       "      <td>30702511</td>\n",
       "      <td>143702</td>\n",
       "      <td>30598385</td>\n",
       "      <td>143545</td>\n",
       "      <td>104126</td>\n",
       "      <td>157</td>\n",
       "      <td>0.5</td>\n",
       "      <td>Europe</td>\n",
       "    </tr>\n",
       "  </tbody>\n",
       "</table>\n",
       "</div>"
      ],
      "text/plain": [
       "  Country/Region     Cases   Deaths    PCases  PDeaths  Cases (+)  Deaths (+)  \\\n",
       "0             US  90973418  1028819  90733888  1027886     239530         933   \n",
       "1          India  43959321   526212  43938764   526167      20557          45   \n",
       "2         France  33899625   152822  33840851   152719      58774         103   \n",
       "3         Brazil  33704393   677804  33659879   677494      44514         310   \n",
       "4        Germany  30702511   143702  30598385   143545     104126         157   \n",
       "\n",
       "   Fatality Rate      Continent  \n",
       "0            1.1  North America  \n",
       "1            1.2           Asia  \n",
       "2            0.5         Europe  \n",
       "3            2.0  South America  \n",
       "4            0.5         Europe  "
      ]
     },
     "execution_count": 15,
     "metadata": {},
     "output_type": "execute_result"
    }
   ],
   "source": [
    "#hide\n",
    "df_table = (pd.DataFrame(dict(Cases=dfc_cases, Deaths=dfc_deaths, PCases=dfp_cases, PDeaths=dfp_deaths))\n",
    "             .sort_values(by=['Cases', 'Deaths'], ascending=[False, False])\n",
    "             .reset_index())\n",
    "df_table.rename(columns={'index': 'Country/Region'}, inplace=True)\n",
    "for c in 'Cases, Deaths'.split(', '):\n",
    "    df_table[f'{c} (+)'] = (df_table[c] - df_table[f'P{c}']).clip(0)  # DATA BUG\n",
    "df_table['Fatality Rate'] = (100 * df_table['Deaths'] / df_table['Cases']).round(1)\n",
    "df_table['Continent'] = df_table['Country/Region'].map(mapping['map.continent'])\n",
    "df_table.head(5)"
   ]
  },
  {
   "cell_type": "code",
   "execution_count": 16,
   "id": "fewer-occasion",
   "metadata": {
    "execution": {
     "iopub.execute_input": "2022-07-28T12:21:06.635183Z",
     "iopub.status.busy": "2022-07-28T12:21:06.634414Z",
     "iopub.status.idle": "2022-07-28T12:21:06.637383Z",
     "shell.execute_reply": "2022-07-28T12:21:06.636772Z"
    },
    "papermill": {
     "duration": 0.049383,
     "end_time": "2022-07-28T12:21:06.637524",
     "exception": false,
     "start_time": "2022-07-28T12:21:06.588141",
     "status": "completed"
    },
    "tags": []
   },
   "outputs": [],
   "source": [
    "#hide\n",
    "#delete problematic countries from table\n",
    "df_table = df_table[~df_table['Country/Region'].isin(['Cape Verde', 'Cruise Ship', 'Kosovo'])]"
   ]
  },
  {
   "cell_type": "code",
   "execution_count": 17,
   "id": "related-center",
   "metadata": {
    "execution": {
     "iopub.execute_input": "2022-07-28T12:21:06.739043Z",
     "iopub.status.busy": "2022-07-28T12:21:06.738202Z",
     "iopub.status.idle": "2022-07-28T12:21:06.741054Z",
     "shell.execute_reply": "2022-07-28T12:21:06.740319Z"
    },
    "papermill": {
     "duration": 0.06501,
     "end_time": "2022-07-28T12:21:06.741198",
     "exception": false,
     "start_time": "2022-07-28T12:21:06.676188",
     "status": "completed"
    },
    "tags": []
   },
   "outputs": [],
   "source": [
    "#hide\n",
    "metrics = [df_table.columns[index] for index in [1,2,5,6]]\n",
    "# s_china = df_table[df_table['Country/Region'].eq('China')][metrics].sum().add_prefix('China ')\n",
    "s_us = df_table[df_table['Country/Region'].eq('US')][metrics].sum().add_prefix('US ')\n",
    "s_eu = df_table[df_table['Continent'].eq('Europe')][metrics].sum().add_prefix('EU ')\n",
    "s_ind = df_table[df_table['Country/Region'].eq('India')][metrics].sum().add_prefix('India ')\n",
    "summary = {'updated': pd.to_datetime(dt_today), 'since': pd.to_datetime(dt_yday)}\n",
    "summary = {'updated': pd.to_datetime(dt_today), 'since': pd.to_datetime(dt_yday)}\n",
    "summary = {**summary, **df_table[metrics].sum(), **s_ind, **s_us, **s_eu}"
   ]
  },
  {
   "cell_type": "code",
   "execution_count": 18,
   "id": "engaging-syndrome",
   "metadata": {
    "execution": {
     "iopub.execute_input": "2022-07-28T12:21:06.828243Z",
     "iopub.status.busy": "2022-07-28T12:21:06.827477Z",
     "iopub.status.idle": "2022-07-28T12:21:06.850699Z",
     "shell.execute_reply": "2022-07-28T12:21:06.851301Z"
    },
    "papermill": {
     "duration": 0.07036,
     "end_time": "2022-07-28T12:21:06.851472",
     "exception": false,
     "start_time": "2022-07-28T12:21:06.781112",
     "status": "completed"
    },
    "tags": []
   },
   "outputs": [],
   "source": [
    "#hide\n",
    "dft_ct_new_cases = dft_cases.groupby(COL_REGION)[dt_cols].sum().diff(axis=1).fillna(0).astype(int)"
   ]
  },
  {
   "cell_type": "code",
   "execution_count": 19,
   "id": "neutral-assignment",
   "metadata": {
    "execution": {
     "iopub.execute_input": "2022-07-28T12:21:06.934631Z",
     "iopub.status.busy": "2022-07-28T12:21:06.933891Z",
     "iopub.status.idle": "2022-07-28T12:21:06.941466Z",
     "shell.execute_reply": "2022-07-28T12:21:06.940860Z"
    },
    "papermill": {
     "duration": 0.050458,
     "end_time": "2022-07-28T12:21:06.941603",
     "exception": false,
     "start_time": "2022-07-28T12:21:06.891145",
     "status": "completed"
    },
    "tags": []
   },
   "outputs": [],
   "source": [
    "#hide\n",
    "everydaycases = dft_ct_new_cases.cumsum(axis=1)"
   ]
  },
  {
   "cell_type": "code",
   "execution_count": 20,
   "id": "parliamentary-calgary",
   "metadata": {
    "execution": {
     "iopub.execute_input": "2022-07-28T12:21:07.026335Z",
     "iopub.status.busy": "2022-07-28T12:21:07.025471Z",
     "iopub.status.idle": "2022-07-28T12:21:07.744363Z",
     "shell.execute_reply": "2022-07-28T12:21:07.743717Z"
    },
    "papermill": {
     "duration": 0.763439,
     "end_time": "2022-07-28T12:21:07.744514",
     "exception": false,
     "start_time": "2022-07-28T12:21:06.981075",
     "status": "completed"
    },
    "tags": []
   },
   "outputs": [],
   "source": [
    "#hide\n",
    "import pandas as pd\n",
    "import matplotlib.pyplot as plt\n",
    "import matplotlib.ticker as ticker\n",
    "import matplotlib.animation as animation\n",
    "from IPython.display import HTML"
   ]
  },
  {
   "cell_type": "code",
   "execution_count": 21,
   "id": "lasting-extraction",
   "metadata": {
    "execution": {
     "iopub.execute_input": "2022-07-28T12:21:07.829786Z",
     "iopub.status.busy": "2022-07-28T12:21:07.829032Z",
     "iopub.status.idle": "2022-07-28T12:21:07.844731Z",
     "shell.execute_reply": "2022-07-28T12:21:07.844102Z"
    },
    "papermill": {
     "duration": 0.060592,
     "end_time": "2022-07-28T12:21:07.844882",
     "exception": false,
     "start_time": "2022-07-28T12:21:07.784290",
     "status": "completed"
    },
    "tags": []
   },
   "outputs": [],
   "source": [
    "#hide\n",
    "t = everydaycases.stack()"
   ]
  },
  {
   "cell_type": "code",
   "execution_count": 22,
   "id": "premier-sleeve",
   "metadata": {
    "execution": {
     "iopub.execute_input": "2022-07-28T12:21:07.930858Z",
     "iopub.status.busy": "2022-07-28T12:21:07.930111Z",
     "iopub.status.idle": "2022-07-28T12:21:07.944606Z",
     "shell.execute_reply": "2022-07-28T12:21:07.943968Z"
    },
    "papermill": {
     "duration": 0.058369,
     "end_time": "2022-07-28T12:21:07.944751",
     "exception": false,
     "start_time": "2022-07-28T12:21:07.886382",
     "status": "completed"
    },
    "tags": []
   },
   "outputs": [],
   "source": [
    "#hide\n",
    "g = t.reset_index(['Country/Region'])"
   ]
  },
  {
   "cell_type": "code",
   "execution_count": 23,
   "id": "distributed-pittsburgh",
   "metadata": {
    "execution": {
     "iopub.execute_input": "2022-07-28T12:21:08.027308Z",
     "iopub.status.busy": "2022-07-28T12:21:08.025949Z",
     "iopub.status.idle": "2022-07-28T12:21:08.031093Z",
     "shell.execute_reply": "2022-07-28T12:21:08.030488Z"
    },
    "papermill": {
     "duration": 0.046662,
     "end_time": "2022-07-28T12:21:08.031223",
     "exception": false,
     "start_time": "2022-07-28T12:21:07.984561",
     "status": "completed"
    },
    "tags": []
   },
   "outputs": [],
   "source": [
    "#hide\n",
    "g.index.name = 'date'"
   ]
  },
  {
   "cell_type": "code",
   "execution_count": 24,
   "id": "naked-donor",
   "metadata": {
    "execution": {
     "iopub.execute_input": "2022-07-28T12:21:08.115615Z",
     "iopub.status.busy": "2022-07-28T12:21:08.114867Z",
     "iopub.status.idle": "2022-07-28T12:21:08.120155Z",
     "shell.execute_reply": "2022-07-28T12:21:08.119397Z"
    },
    "papermill": {
     "duration": 0.0484,
     "end_time": "2022-07-28T12:21:08.120292",
     "exception": false,
     "start_time": "2022-07-28T12:21:08.071892",
     "status": "completed"
    },
    "tags": []
   },
   "outputs": [],
   "source": [
    "# #hide\n",
    "# g = g.reset_index(['date'])"
   ]
  },
  {
   "cell_type": "code",
   "execution_count": 25,
   "id": "incomplete-mustang",
   "metadata": {
    "execution": {
     "iopub.execute_input": "2022-07-28T12:21:08.205481Z",
     "iopub.status.busy": "2022-07-28T12:21:08.204739Z",
     "iopub.status.idle": "2022-07-28T12:21:08.209273Z",
     "shell.execute_reply": "2022-07-28T12:21:08.209829Z"
    },
    "papermill": {
     "duration": 0.047819,
     "end_time": "2022-07-28T12:21:08.209981",
     "exception": false,
     "start_time": "2022-07-28T12:21:08.162162",
     "status": "completed"
    },
    "tags": []
   },
   "outputs": [],
   "source": [
    "#hide\n",
    "# g.head()"
   ]
  },
  {
   "cell_type": "code",
   "execution_count": 26,
   "id": "specific-kruger",
   "metadata": {
    "execution": {
     "iopub.execute_input": "2022-07-28T12:21:08.293665Z",
     "iopub.status.busy": "2022-07-28T12:21:08.292915Z",
     "iopub.status.idle": "2022-07-28T12:21:08.297190Z",
     "shell.execute_reply": "2022-07-28T12:21:08.297779Z"
    },
    "papermill": {
     "duration": 0.047804,
     "end_time": "2022-07-28T12:21:08.297932",
     "exception": false,
     "start_time": "2022-07-28T12:21:08.250128",
     "status": "completed"
    },
    "tags": []
   },
   "outputs": [],
   "source": [
    "#hide\n",
    "# g.columns = ['date','country','cases']"
   ]
  },
  {
   "cell_type": "code",
   "execution_count": 27,
   "id": "tender-conversion",
   "metadata": {
    "execution": {
     "iopub.execute_input": "2022-07-28T12:21:08.391946Z",
     "iopub.status.busy": "2022-07-28T12:21:08.391167Z",
     "iopub.status.idle": "2022-07-28T12:21:08.394485Z",
     "shell.execute_reply": "2022-07-28T12:21:08.393872Z"
    },
    "papermill": {
     "duration": 0.056893,
     "end_time": "2022-07-28T12:21:08.394618",
     "exception": false,
     "start_time": "2022-07-28T12:21:08.337725",
     "status": "completed"
    },
    "tags": []
   },
   "outputs": [],
   "source": [
    "#hide\n",
    "# g['continent'] = g.country"
   ]
  },
  {
   "cell_type": "code",
   "execution_count": 28,
   "id": "substantial-wilderness",
   "metadata": {
    "execution": {
     "iopub.execute_input": "2022-07-28T12:21:08.478125Z",
     "iopub.status.busy": "2022-07-28T12:21:08.477384Z",
     "iopub.status.idle": "2022-07-28T12:21:08.479872Z",
     "shell.execute_reply": "2022-07-28T12:21:08.480470Z"
    },
    "papermill": {
     "duration": 0.047845,
     "end_time": "2022-07-28T12:21:08.481221",
     "exception": false,
     "start_time": "2022-07-28T12:21:08.433376",
     "status": "completed"
    },
    "tags": []
   },
   "outputs": [],
   "source": [
    "#hide\n",
    "# cols = list(g.columns.values)"
   ]
  },
  {
   "cell_type": "code",
   "execution_count": 29,
   "id": "solved-farming",
   "metadata": {
    "execution": {
     "iopub.execute_input": "2022-07-28T12:21:08.565327Z",
     "iopub.status.busy": "2022-07-28T12:21:08.564581Z",
     "iopub.status.idle": "2022-07-28T12:21:08.567785Z",
     "shell.execute_reply": "2022-07-28T12:21:08.567146Z"
    },
    "papermill": {
     "duration": 0.048604,
     "end_time": "2022-07-28T12:21:08.567996",
     "exception": false,
     "start_time": "2022-07-28T12:21:08.519392",
     "status": "completed"
    },
    "tags": []
   },
   "outputs": [],
   "source": [
    "#hide\n",
    "# cols.insert(0, cols.pop())"
   ]
  },
  {
   "cell_type": "code",
   "execution_count": 30,
   "id": "executed-adoption",
   "metadata": {
    "execution": {
     "iopub.execute_input": "2022-07-28T12:21:08.651890Z",
     "iopub.status.busy": "2022-07-28T12:21:08.651109Z",
     "iopub.status.idle": "2022-07-28T12:21:08.654364Z",
     "shell.execute_reply": "2022-07-28T12:21:08.653758Z"
    },
    "papermill": {
     "duration": 0.046653,
     "end_time": "2022-07-28T12:21:08.654497",
     "exception": false,
     "start_time": "2022-07-28T12:21:08.607844",
     "status": "completed"
    },
    "tags": []
   },
   "outputs": [],
   "source": [
    "#hide\n",
    "# g = g[cols]"
   ]
  },
  {
   "cell_type": "code",
   "execution_count": 31,
   "id": "subject-dublin",
   "metadata": {
    "execution": {
     "iopub.execute_input": "2022-07-28T12:21:08.735448Z",
     "iopub.status.busy": "2022-07-28T12:21:08.734719Z",
     "iopub.status.idle": "2022-07-28T12:21:08.737909Z",
     "shell.execute_reply": "2022-07-28T12:21:08.737305Z"
    },
    "papermill": {
     "duration": 0.044731,
     "end_time": "2022-07-28T12:21:08.738034",
     "exception": false,
     "start_time": "2022-07-28T12:21:08.693303",
     "status": "completed"
    },
    "tags": []
   },
   "outputs": [],
   "source": [
    "#hide\n",
    "# g['continent'] = g['continent'].map(mapping['map.continent'])"
   ]
  },
  {
   "cell_type": "code",
   "execution_count": 32,
   "id": "freelance-scout",
   "metadata": {
    "execution": {
     "iopub.execute_input": "2022-07-28T12:21:08.823998Z",
     "iopub.status.busy": "2022-07-28T12:21:08.823202Z",
     "iopub.status.idle": "2022-07-28T12:21:08.826481Z",
     "shell.execute_reply": "2022-07-28T12:21:08.825869Z"
    },
    "papermill": {
     "duration": 0.047518,
     "end_time": "2022-07-28T12:21:08.826646",
     "exception": false,
     "start_time": "2022-07-28T12:21:08.779128",
     "status": "completed"
    },
    "tags": []
   },
   "outputs": [],
   "source": [
    "#hide\n",
    "# g.head()"
   ]
  },
  {
   "cell_type": "code",
   "execution_count": 33,
   "id": "limited-engine",
   "metadata": {
    "execution": {
     "iopub.execute_input": "2022-07-28T12:21:08.919377Z",
     "iopub.status.busy": "2022-07-28T12:21:08.918638Z",
     "iopub.status.idle": "2022-07-28T12:21:08.921909Z",
     "shell.execute_reply": "2022-07-28T12:21:08.921303Z"
    },
    "papermill": {
     "duration": 0.04854,
     "end_time": "2022-07-28T12:21:08.922042",
     "exception": false,
     "start_time": "2022-07-28T12:21:08.873502",
     "status": "completed"
    },
    "tags": []
   },
   "outputs": [],
   "source": [
    "# hide\n",
    "# g['date'] = g['date'].astype('datetime64[ns]')"
   ]
  },
  {
   "cell_type": "code",
   "execution_count": 34,
   "id": "sophisticated-supervisor",
   "metadata": {
    "execution": {
     "iopub.execute_input": "2022-07-28T12:21:09.013463Z",
     "iopub.status.busy": "2022-07-28T12:21:09.012699Z",
     "iopub.status.idle": "2022-07-28T12:21:09.015277Z",
     "shell.execute_reply": "2022-07-28T12:21:09.019278Z"
    },
    "papermill": {
     "duration": 0.05728,
     "end_time": "2022-07-28T12:21:09.019449",
     "exception": false,
     "start_time": "2022-07-28T12:21:08.962169",
     "status": "completed"
    },
    "tags": []
   },
   "outputs": [],
   "source": [
    "#hide\n",
    "# g['date'] = g.date.dt.dayofyear"
   ]
  },
  {
   "cell_type": "code",
   "execution_count": 35,
   "id": "inside-dubai",
   "metadata": {
    "execution": {
     "iopub.execute_input": "2022-07-28T12:21:09.114966Z",
     "iopub.status.busy": "2022-07-28T12:21:09.114148Z",
     "iopub.status.idle": "2022-07-28T12:21:09.119007Z",
     "shell.execute_reply": "2022-07-28T12:21:09.118391Z"
    },
    "papermill": {
     "duration": 0.057495,
     "end_time": "2022-07-28T12:21:09.119143",
     "exception": false,
     "start_time": "2022-07-28T12:21:09.061648",
     "status": "completed"
    },
    "tags": []
   },
   "outputs": [],
   "source": [
    "#hide\n",
    "# g = g.rename(columns= {'continent':'group','country':'name','cases':'value'})"
   ]
  },
  {
   "cell_type": "code",
   "execution_count": 36,
   "id": "fleet-motorcycle",
   "metadata": {
    "execution": {
     "iopub.execute_input": "2022-07-28T12:21:09.204196Z",
     "iopub.status.busy": "2022-07-28T12:21:09.203079Z",
     "iopub.status.idle": "2022-07-28T12:21:09.208409Z",
     "shell.execute_reply": "2022-07-28T12:21:09.207808Z"
    },
    "papermill": {
     "duration": 0.048697,
     "end_time": "2022-07-28T12:21:09.208548",
     "exception": false,
     "start_time": "2022-07-28T12:21:09.159851",
     "status": "completed"
    },
    "tags": []
   },
   "outputs": [],
   "source": [
    "#hide\n",
    "# cols = ['name','group','day','value']"
   ]
  },
  {
   "cell_type": "code",
   "execution_count": 37,
   "id": "continued-sleeping",
   "metadata": {
    "execution": {
     "iopub.execute_input": "2022-07-28T12:21:09.295652Z",
     "iopub.status.busy": "2022-07-28T12:21:09.294837Z",
     "iopub.status.idle": "2022-07-28T12:21:09.298119Z",
     "shell.execute_reply": "2022-07-28T12:21:09.297393Z"
    },
    "papermill": {
     "duration": 0.04719,
     "end_time": "2022-07-28T12:21:09.298252",
     "exception": false,
     "start_time": "2022-07-28T12:21:09.251062",
     "status": "completed"
    },
    "tags": []
   },
   "outputs": [],
   "source": [
    "#hide\n",
    "# g.rename(columns= {'date':'day'},inplace = True)"
   ]
  },
  {
   "cell_type": "code",
   "execution_count": 38,
   "id": "major-fight",
   "metadata": {
    "execution": {
     "iopub.execute_input": "2022-07-28T12:21:09.382679Z",
     "iopub.status.busy": "2022-07-28T12:21:09.381934Z",
     "iopub.status.idle": "2022-07-28T12:21:09.385202Z",
     "shell.execute_reply": "2022-07-28T12:21:09.384588Z"
    },
    "papermill": {
     "duration": 0.0476,
     "end_time": "2022-07-28T12:21:09.385338",
     "exception": false,
     "start_time": "2022-07-28T12:21:09.337738",
     "status": "completed"
    },
    "tags": []
   },
   "outputs": [],
   "source": [
    "#hide\n",
    "# g = g[cols]"
   ]
  },
  {
   "cell_type": "code",
   "execution_count": 39,
   "id": "structured-mobile",
   "metadata": {
    "execution": {
     "iopub.execute_input": "2022-07-28T12:21:09.470014Z",
     "iopub.status.busy": "2022-07-28T12:21:09.469201Z",
     "iopub.status.idle": "2022-07-28T12:21:09.474413Z",
     "shell.execute_reply": "2022-07-28T12:21:09.473789Z"
    },
    "papermill": {
     "duration": 0.050612,
     "end_time": "2022-07-28T12:21:09.474553",
     "exception": false,
     "start_time": "2022-07-28T12:21:09.423941",
     "status": "completed"
    },
    "tags": []
   },
   "outputs": [],
   "source": [
    "# #hide\n",
    "# g = g[g.group.notna()]"
   ]
  },
  {
   "cell_type": "code",
   "execution_count": 40,
   "id": "determined-closing",
   "metadata": {
    "execution": {
     "iopub.execute_input": "2022-07-28T12:21:09.559687Z",
     "iopub.status.busy": "2022-07-28T12:21:09.558929Z",
     "iopub.status.idle": "2022-07-28T12:21:09.562154Z",
     "shell.execute_reply": "2022-07-28T12:21:09.561430Z"
    },
    "papermill": {
     "duration": 0.047225,
     "end_time": "2022-07-28T12:21:09.562286",
     "exception": false,
     "start_time": "2022-07-28T12:21:09.515061",
     "status": "completed"
    },
    "tags": []
   },
   "outputs": [],
   "source": [
    "# #hide\n",
    "# colors = dict(zip(\n",
    "#     [\"Oceania\", \"Europe\", \"Asia\", \"South America\", \"Middle East\", \"North America\", \"Africa\"],\n",
    "#     [\"#adb0ff\", \"#ffb3ff\", \"#90d595\", \"#e48381\", \"#aafbff\", \"#f7bb5f\", \"#eafb50\"]\n",
    "# ))\n",
    "# group_lk = g.set_index('name')['group'].to_dict()"
   ]
  },
  {
   "cell_type": "code",
   "execution_count": null,
   "id": "gross-drinking",
   "metadata": {
    "papermill": {
     "duration": 0.038369,
     "end_time": "2022-07-28T12:21:09.640222",
     "exception": false,
     "start_time": "2022-07-28T12:21:09.601853",
     "status": "completed"
    },
    "tags": []
   },
   "outputs": [],
   "source": []
  },
  {
   "cell_type": "code",
   "execution_count": 41,
   "id": "subject-macintosh",
   "metadata": {
    "execution": {
     "iopub.execute_input": "2022-07-28T12:21:09.724404Z",
     "iopub.status.busy": "2022-07-28T12:21:09.723610Z",
     "iopub.status.idle": "2022-07-28T12:21:09.726785Z",
     "shell.execute_reply": "2022-07-28T12:21:09.726170Z"
    },
    "papermill": {
     "duration": 0.04667,
     "end_time": "2022-07-28T12:21:09.726921",
     "exception": false,
     "start_time": "2022-07-28T12:21:09.680251",
     "status": "completed"
    },
    "tags": []
   },
   "outputs": [],
   "source": [
    "# #hide\n",
    "# fig, ax = plt.subplots(figsize=(15, 8))\n",
    "\n",
    "# def draw_barchart(current_day):\n",
    "#     dff = g[g['day'].eq(current_day)].sort_values(by='value', ascending=True).tail(10)\n",
    "#     ax.clear()\n",
    "#     ax.barh(dff['name'], dff['value'], color=[colors[group_lk[x]] for x in dff['name']])\n",
    "#     dx = dff['value'].max() / 200\n",
    "    \n",
    "#     for i, (value, name) in enumerate(zip(dff['value'], dff['name'])):\n",
    "#         ax.text(value-dx, i,     name,           size=14, weight=600, ha='right', va='bottom')\n",
    "#         ax.text(value-dx, i-.25, group_lk[name], size=10, color='#444444', ha='right', va='baseline')\n",
    "#         ax.text(value+dx, i,     f'{value:,.0f}',  size=14, ha='left',  va='center')\n",
    "#     ax.text(1, 0.4, current_day, transform=ax.transAxes, color='#777777', size=46, ha='right', weight=800)\n",
    "#     ax.text(0, 1.06, 'Population (thousands)', transform=ax.transAxes, size=12, color='#777777')\n",
    "#     ax.xaxis.set_major_formatter(ticker.StrMethodFormatter('{x:,.0f}'))\n",
    "#     ax.xaxis.set_ticks_position('top')\n",
    "#     ax.tick_params(axis='x', colors='#777777', labelsize=12)\n",
    "#     ax.set_yticks([])\n",
    "#     ax.margins(0, 0.01)\n",
    "#     ax.grid(which='major', axis='x', linestyle='-')\n",
    "#     ax.set_axisbelow(True)\n",
    "    \n",
    "#     ax.text(0, 1.15, 'Coronavirus',\n",
    "#             transform=ax.transAxes, size=24, weight=600, ha='left', va='top')\n",
    "# #     ax.text(1, 0, 'by @pratapvardhan; credit @jburnmurdoch', transform=ax.transAxes, color='#777777', ha='right',\n",
    "# #             bbox=dict(facecolor='white', alpha=0.8, edgecolor='white'))\n",
    "#     plt.box(False)"
   ]
  },
  {
   "cell_type": "code",
   "execution_count": 42,
   "id": "sexual-wages",
   "metadata": {
    "execution": {
     "iopub.execute_input": "2022-07-28T12:21:09.813030Z",
     "iopub.status.busy": "2022-07-28T12:21:09.812194Z",
     "iopub.status.idle": "2022-07-28T12:21:09.815392Z",
     "shell.execute_reply": "2022-07-28T12:21:09.814782Z"
    },
    "papermill": {
     "duration": 0.046105,
     "end_time": "2022-07-28T12:21:09.815524",
     "exception": false,
     "start_time": "2022-07-28T12:21:09.769419",
     "status": "completed"
    },
    "tags": []
   },
   "outputs": [],
   "source": [
    "# #hide_input\n",
    "# fig, ax = plt.subplots(figsize=(15, 8))\n",
    "# animator = animation.FuncAnimation(fig, draw_barchart, frames=range(g.day.values.min(), g.day.values.max()))\n",
    "# HTML(animator.to_jshtml())\n",
    "# # or use animator.to_html5_video() or animator.save() "
   ]
  },
  {
   "cell_type": "code",
   "execution_count": null,
   "id": "australian-container",
   "metadata": {
    "papermill": {
     "duration": 0.039207,
     "end_time": "2022-07-28T12:21:09.894582",
     "exception": false,
     "start_time": "2022-07-28T12:21:09.855375",
     "status": "completed"
    },
    "tags": []
   },
   "outputs": [],
   "source": []
  },
  {
   "cell_type": "code",
   "execution_count": null,
   "id": "mediterranean-pontiac",
   "metadata": {
    "papermill": {
     "duration": 0.038554,
     "end_time": "2022-07-28T12:21:09.972907",
     "exception": false,
     "start_time": "2022-07-28T12:21:09.934353",
     "status": "completed"
    },
    "tags": []
   },
   "outputs": [],
   "source": []
  },
  {
   "cell_type": "code",
   "execution_count": null,
   "id": "aging-legislature",
   "metadata": {
    "papermill": {
     "duration": 0.039506,
     "end_time": "2022-07-28T12:21:10.052269",
     "exception": false,
     "start_time": "2022-07-28T12:21:10.012763",
     "status": "completed"
    },
    "tags": []
   },
   "outputs": [],
   "source": []
  }
 ],
 "metadata": {
  "kernelspec": {
   "display_name": "Python 3",
   "language": "python",
   "name": "python3"
  },
  "language_info": {
   "codemirror_mode": {
    "name": "ipython",
    "version": 3
   },
   "file_extension": ".py",
   "mimetype": "text/x-python",
   "name": "python",
   "nbconvert_exporter": "python",
   "pygments_lexer": "ipython3",
   "version": "3.6.15"
  },
  "papermill": {
   "duration": 7.589985,
   "end_time": "2022-07-28T12:21:10.514551",
   "environment_variables": {},
   "exception": null,
   "input_path": "2020-03-21-covid19exp.ipynb",
   "output_path": "2020-03-21-covid19exp.ipynb",
   "parameters": {},
   "start_time": "2022-07-28T12:21:02.924566",
   "version": "2.0.0"
  }
 },
 "nbformat": 4,
 "nbformat_minor": 5
}