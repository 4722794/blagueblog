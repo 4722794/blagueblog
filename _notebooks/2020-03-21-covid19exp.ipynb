{
 "cells": [
  {
   "cell_type": "markdown",
   "id": "muslim-click",
   "metadata": {
    "papermill": {
     "duration": 0.040016,
     "end_time": "2021-06-08T12:11:00.552287",
     "exception": false,
     "start_time": "2021-06-08T12:11:00.512271",
     "status": "completed"
    },
    "tags": []
   },
   "source": [
    "# COVID-19 Case Race\n",
    "> A race chart to see rising cases around the world\n",
    "\n",
    "- author: Hargun Oberoi\n",
    "- image: images/covid-overview.png\n",
    "- hide: false\n",
    "- badges: false"
   ]
  },
  {
   "cell_type": "code",
   "execution_count": 1,
   "id": "proof-material",
   "metadata": {
    "execution": {
     "iopub.execute_input": "2021-06-08T12:11:00.633803Z",
     "iopub.status.busy": "2021-06-08T12:11:00.633138Z",
     "iopub.status.idle": "2021-06-08T12:11:00.984664Z",
     "shell.execute_reply": "2021-06-08T12:11:00.984116Z"
    },
    "papermill": {
     "duration": 0.39658,
     "end_time": "2021-06-08T12:11:00.984836",
     "exception": false,
     "start_time": "2021-06-08T12:11:00.588256",
     "status": "completed"
    },
    "tags": []
   },
   "outputs": [],
   "source": [
    "#hide\n",
    "import numpy as np\n",
    "import pandas as pd\n",
    "from jinja2 import Template\n",
    "from IPython.display import HTML"
   ]
  },
  {
   "cell_type": "code",
   "execution_count": 2,
   "id": "developed-terminology",
   "metadata": {
    "execution": {
     "iopub.execute_input": "2021-06-08T12:11:01.063028Z",
     "iopub.status.busy": "2021-06-08T12:11:01.062329Z",
     "iopub.status.idle": "2021-06-08T12:11:01.065466Z",
     "shell.execute_reply": "2021-06-08T12:11:01.065933Z"
    },
    "papermill": {
     "duration": 0.043259,
     "end_time": "2021-06-08T12:11:01.066095",
     "exception": false,
     "start_time": "2021-06-08T12:11:01.022836",
     "status": "completed"
    },
    "tags": []
   },
   "outputs": [],
   "source": [
    "#hide\n",
    "\n",
    "# FETCH\n",
    "base_url = 'https://raw.githubusercontent.com/pratapvardhan/notebooks/master/covid19/'\n",
    "paths = {\n",
    "    'mapping': base_url + 'mapping_countries.csv',\n",
    "    'overview': base_url + 'overview.tpl'\n",
    "}"
   ]
  },
  {
   "cell_type": "code",
   "execution_count": 3,
   "id": "dynamic-saver",
   "metadata": {
    "execution": {
     "iopub.execute_input": "2021-06-08T12:11:01.150192Z",
     "iopub.status.busy": "2021-06-08T12:11:01.149505Z",
     "iopub.status.idle": "2021-06-08T12:11:01.152577Z",
     "shell.execute_reply": "2021-06-08T12:11:01.153036Z"
    },
    "papermill": {
     "duration": 0.049204,
     "end_time": "2021-06-08T12:11:01.153183",
     "exception": false,
     "start_time": "2021-06-08T12:11:01.103979",
     "status": "completed"
    },
    "tags": []
   },
   "outputs": [
    {
     "data": {
      "text/plain": [
       "'https://raw.githubusercontent.com/pratapvardhan/notebooks/master/covid19/mapping_countries.csv'"
      ]
     },
     "execution_count": 3,
     "metadata": {},
     "output_type": "execute_result"
    }
   ],
   "source": [
    "#hide\n",
    "paths['mapping']"
   ]
  },
  {
   "cell_type": "code",
   "execution_count": 4,
   "id": "urban-software",
   "metadata": {
    "execution": {
     "iopub.execute_input": "2021-06-08T12:11:01.231376Z",
     "iopub.status.busy": "2021-06-08T12:11:01.230736Z",
     "iopub.status.idle": "2021-06-08T12:11:01.232606Z",
     "shell.execute_reply": "2021-06-08T12:11:01.233146Z"
    },
    "papermill": {
     "duration": 0.043053,
     "end_time": "2021-06-08T12:11:01.233295",
     "exception": false,
     "start_time": "2021-06-08T12:11:01.190242",
     "status": "completed"
    },
    "tags": []
   },
   "outputs": [],
   "source": [
    "#hide\n",
    "def get_mappings(url):\n",
    "    df = pd.read_csv(url)\n",
    "    return {\n",
    "        'df': df,\n",
    "        'replace.country': dict(df.dropna(subset=['Name']).set_index('Country')['Name']),\n",
    "        'map.continent': dict(df.set_index('Name')['Continent'])\n",
    "    }"
   ]
  },
  {
   "cell_type": "code",
   "execution_count": 5,
   "id": "intimate-machinery",
   "metadata": {
    "execution": {
     "iopub.execute_input": "2021-06-08T12:11:01.308817Z",
     "iopub.status.busy": "2021-06-08T12:11:01.308254Z",
     "iopub.status.idle": "2021-06-08T12:11:01.359254Z",
     "shell.execute_reply": "2021-06-08T12:11:01.358186Z"
    },
    "papermill": {
     "duration": 0.092158,
     "end_time": "2021-06-08T12:11:01.359396",
     "exception": false,
     "start_time": "2021-06-08T12:11:01.267238",
     "status": "completed"
    },
    "tags": []
   },
   "outputs": [],
   "source": [
    "#hide\n",
    "mapping = get_mappings(paths['mapping'])"
   ]
  },
  {
   "cell_type": "code",
   "execution_count": 6,
   "id": "certified-tactics",
   "metadata": {
    "execution": {
     "iopub.execute_input": "2021-06-08T12:11:01.435396Z",
     "iopub.status.busy": "2021-06-08T12:11:01.434779Z",
     "iopub.status.idle": "2021-06-08T12:11:01.437254Z",
     "shell.execute_reply": "2021-06-08T12:11:01.436714Z"
    },
    "papermill": {
     "duration": 0.041293,
     "end_time": "2021-06-08T12:11:01.437379",
     "exception": false,
     "start_time": "2021-06-08T12:11:01.396086",
     "status": "completed"
    },
    "tags": []
   },
   "outputs": [],
   "source": [
    "#hide\n",
    "def get_template(path):\n",
    "    from urllib.parse import urlparse\n",
    "    if bool(urlparse(path).netloc):\n",
    "        from urllib.request import urlopen\n",
    "        return urlopen(path).read().decode('utf8')\n",
    "    return open(path).read()"
   ]
  },
  {
   "cell_type": "code",
   "execution_count": 7,
   "id": "realistic-blast",
   "metadata": {
    "execution": {
     "iopub.execute_input": "2021-06-08T12:11:01.516180Z",
     "iopub.status.busy": "2021-06-08T12:11:01.515504Z",
     "iopub.status.idle": "2021-06-08T12:11:01.518079Z",
     "shell.execute_reply": "2021-06-08T12:11:01.517531Z"
    },
    "papermill": {
     "duration": 0.043785,
     "end_time": "2021-06-08T12:11:01.518219",
     "exception": false,
     "start_time": "2021-06-08T12:11:01.474434",
     "status": "completed"
    },
    "tags": []
   },
   "outputs": [],
   "source": [
    "#hide\n",
    "def get_frame(name):\n",
    "    url = (\n",
    "        'https://raw.githubusercontent.com/CSSEGISandData/COVID-19/master/csse_covid_19_data/'\n",
    "        f'csse_covid_19_time_series/time_series_covid19_{name}_global.csv')\n",
    "    df = pd.read_csv(url)\n",
    "    # rename countries\n",
    "    df['Country/Region'] = df['Country/Region'].replace(mapping['replace.country'])\n",
    "    return df"
   ]
  },
  {
   "cell_type": "code",
   "execution_count": 8,
   "id": "affiliated-characterization",
   "metadata": {
    "execution": {
     "iopub.execute_input": "2021-06-08T12:11:01.601389Z",
     "iopub.status.busy": "2021-06-08T12:11:01.600709Z",
     "iopub.status.idle": "2021-06-08T12:11:01.603222Z",
     "shell.execute_reply": "2021-06-08T12:11:01.602710Z"
    },
    "papermill": {
     "duration": 0.0475,
     "end_time": "2021-06-08T12:11:01.603371",
     "exception": false,
     "start_time": "2021-06-08T12:11:01.555871",
     "status": "completed"
    },
    "tags": []
   },
   "outputs": [],
   "source": [
    "#hide\n",
    "def get_dates(df):\n",
    "    dt_cols = df.columns[~df.columns.isin(['Province/State', 'Country/Region', 'Lat', 'Long'])]\n",
    "    LAST_DATE_I = -1\n",
    "    # sometimes last column may be empty, then go backwards\n",
    "    for i in range(-1, -len(dt_cols), -1):\n",
    "        if not df[dt_cols[i]].fillna(0).eq(0).all():\n",
    "            LAST_DATE_I = i\n",
    "            break\n",
    "    return LAST_DATE_I, dt_cols"
   ]
  },
  {
   "cell_type": "code",
   "execution_count": 9,
   "id": "recent-optimization",
   "metadata": {
    "execution": {
     "iopub.execute_input": "2021-06-08T12:11:01.685429Z",
     "iopub.status.busy": "2021-06-08T12:11:01.684419Z",
     "iopub.status.idle": "2021-06-08T12:11:02.234481Z",
     "shell.execute_reply": "2021-06-08T12:11:02.233909Z"
    },
    "papermill": {
     "duration": 0.592518,
     "end_time": "2021-06-08T12:11:02.234623",
     "exception": false,
     "start_time": "2021-06-08T12:11:01.642105",
     "status": "completed"
    },
    "tags": []
   },
   "outputs": [],
   "source": [
    "#hide\n",
    "COL_REGION = 'Country/Region'\n",
    "# Confirmed, Recovered, Deaths\n",
    "df = get_frame('confirmed')\n",
    "# dft_: timeseries, dfc_: today country agg\n",
    "dft_cases = df\n",
    "dft_deaths = get_frame('deaths')\n",
    "dft_recovered = get_frame('recovered')\n",
    "LAST_DATE_I, dt_cols = get_dates(df)"
   ]
  },
  {
   "cell_type": "code",
   "execution_count": 10,
   "id": "absolute-copper",
   "metadata": {
    "execution": {
     "iopub.execute_input": "2021-06-08T12:11:02.308272Z",
     "iopub.status.busy": "2021-06-08T12:11:02.307703Z",
     "iopub.status.idle": "2021-06-08T12:11:02.310119Z",
     "shell.execute_reply": "2021-06-08T12:11:02.309662Z"
    },
    "papermill": {
     "duration": 0.040496,
     "end_time": "2021-06-08T12:11:02.310234",
     "exception": false,
     "start_time": "2021-06-08T12:11:02.269738",
     "status": "completed"
    },
    "tags": []
   },
   "outputs": [],
   "source": [
    "#hide\n",
    "LAST_DATE_I, dt_cols = get_dates(df)\n",
    "dt_today =dt_cols[LAST_DATE_I]\n",
    "# dt_5day = dt_cols[LAST_DATE_I - 5]\n",
    "dt_yday = dt_cols[LAST_DATE_I - 1]"
   ]
  },
  {
   "cell_type": "code",
   "execution_count": 11,
   "id": "restricted-sheriff",
   "metadata": {
    "execution": {
     "iopub.execute_input": "2021-06-08T12:11:02.384955Z",
     "iopub.status.busy": "2021-06-08T12:11:02.384360Z",
     "iopub.status.idle": "2021-06-08T12:11:02.392805Z",
     "shell.execute_reply": "2021-06-08T12:11:02.392325Z"
    },
    "papermill": {
     "duration": 0.048231,
     "end_time": "2021-06-08T12:11:02.392913",
     "exception": false,
     "start_time": "2021-06-08T12:11:02.344682",
     "status": "completed"
    },
    "tags": []
   },
   "outputs": [],
   "source": [
    "#hide\n",
    "dfc_cases = dft_cases.groupby(COL_REGION)[dt_today].sum()\n",
    "dfc_deaths = dft_deaths.groupby(COL_REGION)[dt_today].sum()\n",
    "# dfp_cases = dft_cases.groupby(COL_REGION)[dt_5day].sum()\n",
    "# dfp_deaths = dft_deaths.groupby(COL_REGION)[dt_5day].sum()\n",
    "dfp_cases = dft_cases.groupby(COL_REGION)[dt_yday].sum()\n",
    "dfp_deaths = dft_deaths.groupby(COL_REGION)[dt_yday].sum()"
   ]
  },
  {
   "cell_type": "code",
   "execution_count": 12,
   "id": "deluxe-hepatitis",
   "metadata": {
    "execution": {
     "iopub.execute_input": "2021-06-08T12:11:02.466324Z",
     "iopub.status.busy": "2021-06-08T12:11:02.465743Z",
     "iopub.status.idle": "2021-06-08T12:11:02.470130Z",
     "shell.execute_reply": "2021-06-08T12:11:02.470605Z"
    },
    "papermill": {
     "duration": 0.044043,
     "end_time": "2021-06-08T12:11:02.470733",
     "exception": false,
     "start_time": "2021-06-08T12:11:02.426690",
     "status": "completed"
    },
    "tags": []
   },
   "outputs": [],
   "source": [
    "#hide\n",
    "df_table = (pd.DataFrame(dict(Cases = dfc_cases, Deaths = dfc_deaths, PCases = dfp_cases, PDeaths = dfp_deaths))\n",
    "            .sort_values(by = ['Cases','Deaths'], ascending = [False, False])\n",
    "            .reset_index())"
   ]
  },
  {
   "cell_type": "code",
   "execution_count": 13,
   "id": "educational-chancellor",
   "metadata": {
    "execution": {
     "iopub.execute_input": "2021-06-08T12:11:02.552228Z",
     "iopub.status.busy": "2021-06-08T12:11:02.551635Z",
     "iopub.status.idle": "2021-06-08T12:11:02.564469Z",
     "shell.execute_reply": "2021-06-08T12:11:02.564997Z"
    },
    "papermill": {
     "duration": 0.059997,
     "end_time": "2021-06-08T12:11:02.565120",
     "exception": false,
     "start_time": "2021-06-08T12:11:02.505123",
     "status": "completed"
    },
    "tags": []
   },
   "outputs": [
    {
     "data": {
      "text/html": [
       "<div>\n",
       "<style scoped>\n",
       "    .dataframe tbody tr th:only-of-type {\n",
       "        vertical-align: middle;\n",
       "    }\n",
       "\n",
       "    .dataframe tbody tr th {\n",
       "        vertical-align: top;\n",
       "    }\n",
       "\n",
       "    .dataframe thead th {\n",
       "        text-align: right;\n",
       "    }\n",
       "</style>\n",
       "<table border=\"1\" class=\"dataframe\">\n",
       "  <thead>\n",
       "    <tr style=\"text-align: right;\">\n",
       "      <th></th>\n",
       "      <th>Country/Region</th>\n",
       "      <th>Cases</th>\n",
       "      <th>Deaths</th>\n",
       "      <th>PCases</th>\n",
       "      <th>PDeaths</th>\n",
       "      <th>Cases (+)</th>\n",
       "      <th>Deaths (+)</th>\n",
       "      <th>Fatality Rate</th>\n",
       "      <th>Continent</th>\n",
       "    </tr>\n",
       "  </thead>\n",
       "  <tbody>\n",
       "    <tr>\n",
       "      <th>0</th>\n",
       "      <td>US</td>\n",
       "      <td>33378096</td>\n",
       "      <td>597952</td>\n",
       "      <td>33362600</td>\n",
       "      <td>597628</td>\n",
       "      <td>15496</td>\n",
       "      <td>324</td>\n",
       "      <td>1.79</td>\n",
       "      <td>North America</td>\n",
       "    </tr>\n",
       "    <tr>\n",
       "      <th>1</th>\n",
       "      <td>India</td>\n",
       "      <td>28996473</td>\n",
       "      <td>351309</td>\n",
       "      <td>28909975</td>\n",
       "      <td>349186</td>\n",
       "      <td>86498</td>\n",
       "      <td>2123</td>\n",
       "      <td>1.21</td>\n",
       "      <td>Asia</td>\n",
       "    </tr>\n",
       "    <tr>\n",
       "      <th>2</th>\n",
       "      <td>Brazil</td>\n",
       "      <td>16984218</td>\n",
       "      <td>474414</td>\n",
       "      <td>16947062</td>\n",
       "      <td>473404</td>\n",
       "      <td>37156</td>\n",
       "      <td>1010</td>\n",
       "      <td>2.79</td>\n",
       "      <td>South America</td>\n",
       "    </tr>\n",
       "    <tr>\n",
       "      <th>3</th>\n",
       "      <td>France</td>\n",
       "      <td>5775535</td>\n",
       "      <td>110224</td>\n",
       "      <td>5774361</td>\n",
       "      <td>110160</td>\n",
       "      <td>1174</td>\n",
       "      <td>64</td>\n",
       "      <td>1.91</td>\n",
       "      <td>Europe</td>\n",
       "    </tr>\n",
       "    <tr>\n",
       "      <th>4</th>\n",
       "      <td>Turkey</td>\n",
       "      <td>5293627</td>\n",
       "      <td>48255</td>\n",
       "      <td>5287980</td>\n",
       "      <td>48164</td>\n",
       "      <td>5647</td>\n",
       "      <td>91</td>\n",
       "      <td>0.91</td>\n",
       "      <td>Asia</td>\n",
       "    </tr>\n",
       "  </tbody>\n",
       "</table>\n",
       "</div>"
      ],
      "text/plain": [
       "  Country/Region     Cases  Deaths    PCases  PDeaths  Cases (+)  Deaths (+)  \\\n",
       "0             US  33378096  597952  33362600   597628      15496         324   \n",
       "1          India  28996473  351309  28909975   349186      86498        2123   \n",
       "2         Brazil  16984218  474414  16947062   473404      37156        1010   \n",
       "3         France   5775535  110224   5774361   110160       1174          64   \n",
       "4         Turkey   5293627   48255   5287980    48164       5647          91   \n",
       "\n",
       "   Fatality Rate      Continent  \n",
       "0           1.79  North America  \n",
       "1           1.21           Asia  \n",
       "2           2.79  South America  \n",
       "3           1.91         Europe  \n",
       "4           0.91           Asia  "
      ]
     },
     "execution_count": 13,
     "metadata": {},
     "output_type": "execute_result"
    }
   ],
   "source": [
    "#hide\n",
    "for c in 'Cases, Deaths'.split(', '):\n",
    "    df_table[f'{c} (+)'] = (df_table[c] - df_table[f'P{c}']).clip(0)\n",
    "    #Clip ça veut dire, les chiffres negatif sont interdit\n",
    "df_table['Fatality Rate'] = (100* df_table['Deaths']/ df_table['Cases']).round(2)\n",
    "df_table['Continent'] = df_table['Country/Region'].map(mapping['map.continent'])\n",
    "df_table.head(5)"
   ]
  },
  {
   "cell_type": "code",
   "execution_count": 14,
   "id": "aboriginal-bulgaria",
   "metadata": {
    "execution": {
     "iopub.execute_input": "2021-06-08T12:11:02.642128Z",
     "iopub.status.busy": "2021-06-08T12:11:02.641530Z",
     "iopub.status.idle": "2021-06-08T12:11:02.643471Z",
     "shell.execute_reply": "2021-06-08T12:11:02.644208Z"
    },
    "papermill": {
     "duration": 0.042812,
     "end_time": "2021-06-08T12:11:02.644362",
     "exception": false,
     "start_time": "2021-06-08T12:11:02.601550",
     "status": "completed"
    },
    "tags": []
   },
   "outputs": [],
   "source": [
    "#hide\n",
    "#delete problematic countries from table\n",
    "df_table = df_table[~df_table['Country/Region'].isin(['Cape Verde', 'Cruise Ship', 'Kosovo'])]"
   ]
  },
  {
   "cell_type": "code",
   "execution_count": 15,
   "id": "fantastic-effect",
   "metadata": {
    "execution": {
     "iopub.execute_input": "2021-06-08T12:11:02.729018Z",
     "iopub.status.busy": "2021-06-08T12:11:02.728363Z",
     "iopub.status.idle": "2021-06-08T12:11:02.749131Z",
     "shell.execute_reply": "2021-06-08T12:11:02.749644Z"
    },
    "papermill": {
     "duration": 0.067756,
     "end_time": "2021-06-08T12:11:02.749782",
     "exception": false,
     "start_time": "2021-06-08T12:11:02.682026",
     "status": "completed"
    },
    "tags": []
   },
   "outputs": [
    {
     "data": {
      "text/html": [
       "<div>\n",
       "<style scoped>\n",
       "    .dataframe tbody tr th:only-of-type {\n",
       "        vertical-align: middle;\n",
       "    }\n",
       "\n",
       "    .dataframe tbody tr th {\n",
       "        vertical-align: top;\n",
       "    }\n",
       "\n",
       "    .dataframe thead th {\n",
       "        text-align: right;\n",
       "    }\n",
       "</style>\n",
       "<table border=\"1\" class=\"dataframe\">\n",
       "  <thead>\n",
       "    <tr style=\"text-align: right;\">\n",
       "      <th></th>\n",
       "      <th>Country/Region</th>\n",
       "      <th>Cases</th>\n",
       "      <th>Deaths</th>\n",
       "      <th>PCases</th>\n",
       "      <th>PDeaths</th>\n",
       "      <th>Cases (+)</th>\n",
       "      <th>Deaths (+)</th>\n",
       "      <th>Fatality Rate</th>\n",
       "      <th>Continent</th>\n",
       "    </tr>\n",
       "  </thead>\n",
       "  <tbody>\n",
       "    <tr>\n",
       "      <th>0</th>\n",
       "      <td>US</td>\n",
       "      <td>33378096</td>\n",
       "      <td>597952</td>\n",
       "      <td>33362600</td>\n",
       "      <td>597628</td>\n",
       "      <td>15496</td>\n",
       "      <td>324</td>\n",
       "      <td>1.8</td>\n",
       "      <td>North America</td>\n",
       "    </tr>\n",
       "    <tr>\n",
       "      <th>1</th>\n",
       "      <td>India</td>\n",
       "      <td>28996473</td>\n",
       "      <td>351309</td>\n",
       "      <td>28909975</td>\n",
       "      <td>349186</td>\n",
       "      <td>86498</td>\n",
       "      <td>2123</td>\n",
       "      <td>1.2</td>\n",
       "      <td>Asia</td>\n",
       "    </tr>\n",
       "    <tr>\n",
       "      <th>2</th>\n",
       "      <td>Brazil</td>\n",
       "      <td>16984218</td>\n",
       "      <td>474414</td>\n",
       "      <td>16947062</td>\n",
       "      <td>473404</td>\n",
       "      <td>37156</td>\n",
       "      <td>1010</td>\n",
       "      <td>2.8</td>\n",
       "      <td>South America</td>\n",
       "    </tr>\n",
       "    <tr>\n",
       "      <th>3</th>\n",
       "      <td>France</td>\n",
       "      <td>5775535</td>\n",
       "      <td>110224</td>\n",
       "      <td>5774361</td>\n",
       "      <td>110160</td>\n",
       "      <td>1174</td>\n",
       "      <td>64</td>\n",
       "      <td>1.9</td>\n",
       "      <td>Europe</td>\n",
       "    </tr>\n",
       "    <tr>\n",
       "      <th>4</th>\n",
       "      <td>Turkey</td>\n",
       "      <td>5293627</td>\n",
       "      <td>48255</td>\n",
       "      <td>5287980</td>\n",
       "      <td>48164</td>\n",
       "      <td>5647</td>\n",
       "      <td>91</td>\n",
       "      <td>0.9</td>\n",
       "      <td>Asia</td>\n",
       "    </tr>\n",
       "  </tbody>\n",
       "</table>\n",
       "</div>"
      ],
      "text/plain": [
       "  Country/Region     Cases  Deaths    PCases  PDeaths  Cases (+)  Deaths (+)  \\\n",
       "0             US  33378096  597952  33362600   597628      15496         324   \n",
       "1          India  28996473  351309  28909975   349186      86498        2123   \n",
       "2         Brazil  16984218  474414  16947062   473404      37156        1010   \n",
       "3         France   5775535  110224   5774361   110160       1174          64   \n",
       "4         Turkey   5293627   48255   5287980    48164       5647          91   \n",
       "\n",
       "   Fatality Rate      Continent  \n",
       "0            1.8  North America  \n",
       "1            1.2           Asia  \n",
       "2            2.8  South America  \n",
       "3            1.9         Europe  \n",
       "4            0.9           Asia  "
      ]
     },
     "execution_count": 15,
     "metadata": {},
     "output_type": "execute_result"
    }
   ],
   "source": [
    "#hide\n",
    "df_table = (pd.DataFrame(dict(Cases=dfc_cases, Deaths=dfc_deaths, PCases=dfp_cases, PDeaths=dfp_deaths))\n",
    "             .sort_values(by=['Cases', 'Deaths'], ascending=[False, False])\n",
    "             .reset_index())\n",
    "df_table.rename(columns={'index': 'Country/Region'}, inplace=True)\n",
    "for c in 'Cases, Deaths'.split(', '):\n",
    "    df_table[f'{c} (+)'] = (df_table[c] - df_table[f'P{c}']).clip(0)  # DATA BUG\n",
    "df_table['Fatality Rate'] = (100 * df_table['Deaths'] / df_table['Cases']).round(1)\n",
    "df_table['Continent'] = df_table['Country/Region'].map(mapping['map.continent'])\n",
    "df_table.head(5)"
   ]
  },
  {
   "cell_type": "code",
   "execution_count": 16,
   "id": "fewer-occasion",
   "metadata": {
    "execution": {
     "iopub.execute_input": "2021-06-08T12:11:02.829490Z",
     "iopub.status.busy": "2021-06-08T12:11:02.828858Z",
     "iopub.status.idle": "2021-06-08T12:11:02.831037Z",
     "shell.execute_reply": "2021-06-08T12:11:02.831595Z"
    },
    "papermill": {
     "duration": 0.044499,
     "end_time": "2021-06-08T12:11:02.831724",
     "exception": false,
     "start_time": "2021-06-08T12:11:02.787225",
     "status": "completed"
    },
    "tags": []
   },
   "outputs": [],
   "source": [
    "#hide\n",
    "#delete problematic countries from table\n",
    "df_table = df_table[~df_table['Country/Region'].isin(['Cape Verde', 'Cruise Ship', 'Kosovo'])]"
   ]
  },
  {
   "cell_type": "code",
   "execution_count": 17,
   "id": "related-center",
   "metadata": {
    "execution": {
     "iopub.execute_input": "2021-06-08T12:11:02.922904Z",
     "iopub.status.busy": "2021-06-08T12:11:02.922331Z",
     "iopub.status.idle": "2021-06-08T12:11:02.926727Z",
     "shell.execute_reply": "2021-06-08T12:11:02.927356Z"
    },
    "papermill": {
     "duration": 0.058889,
     "end_time": "2021-06-08T12:11:02.927490",
     "exception": false,
     "start_time": "2021-06-08T12:11:02.868601",
     "status": "completed"
    },
    "tags": []
   },
   "outputs": [],
   "source": [
    "#hide\n",
    "metrics = [df_table.columns[index] for index in [1,2,5,6]]\n",
    "# s_china = df_table[df_table['Country/Region'].eq('China')][metrics].sum().add_prefix('China ')\n",
    "s_us = df_table[df_table['Country/Region'].eq('US')][metrics].sum().add_prefix('US ')\n",
    "s_eu = df_table[df_table['Continent'].eq('Europe')][metrics].sum().add_prefix('EU ')\n",
    "s_ind = df_table[df_table['Country/Region'].eq('India')][metrics].sum().add_prefix('India ')\n",
    "summary = {'updated': pd.to_datetime(dt_today), 'since': pd.to_datetime(dt_yday)}\n",
    "summary = {'updated': pd.to_datetime(dt_today), 'since': pd.to_datetime(dt_yday)}\n",
    "summary = {**summary, **df_table[metrics].sum(), **s_ind, **s_us, **s_eu}"
   ]
  },
  {
   "cell_type": "code",
   "execution_count": 18,
   "id": "engaging-syndrome",
   "metadata": {
    "execution": {
     "iopub.execute_input": "2021-06-08T12:11:03.010977Z",
     "iopub.status.busy": "2021-06-08T12:11:03.010336Z",
     "iopub.status.idle": "2021-06-08T12:11:03.023354Z",
     "shell.execute_reply": "2021-06-08T12:11:03.022838Z"
    },
    "papermill": {
     "duration": 0.056228,
     "end_time": "2021-06-08T12:11:03.023493",
     "exception": false,
     "start_time": "2021-06-08T12:11:02.967265",
     "status": "completed"
    },
    "tags": []
   },
   "outputs": [],
   "source": [
    "#hide\n",
    "dft_ct_new_cases = dft_cases.groupby(COL_REGION)[dt_cols].sum().diff(axis=1).fillna(0).astype(int)"
   ]
  },
  {
   "cell_type": "code",
   "execution_count": 19,
   "id": "neutral-assignment",
   "metadata": {
    "execution": {
     "iopub.execute_input": "2021-06-08T12:11:03.107178Z",
     "iopub.status.busy": "2021-06-08T12:11:03.106465Z",
     "iopub.status.idle": "2021-06-08T12:11:03.108519Z",
     "shell.execute_reply": "2021-06-08T12:11:03.109159Z"
    },
    "papermill": {
     "duration": 0.048392,
     "end_time": "2021-06-08T12:11:03.109371",
     "exception": false,
     "start_time": "2021-06-08T12:11:03.060979",
     "status": "completed"
    },
    "tags": []
   },
   "outputs": [],
   "source": [
    "#hide\n",
    "everydaycases = dft_ct_new_cases.cumsum(axis=1)"
   ]
  },
  {
   "cell_type": "code",
   "execution_count": 20,
   "id": "parliamentary-calgary",
   "metadata": {
    "execution": {
     "iopub.execute_input": "2021-06-08T12:11:03.192601Z",
     "iopub.status.busy": "2021-06-08T12:11:03.191986Z",
     "iopub.status.idle": "2021-06-08T12:11:03.763610Z",
     "shell.execute_reply": "2021-06-08T12:11:03.764068Z"
    },
    "papermill": {
     "duration": 0.615356,
     "end_time": "2021-06-08T12:11:03.764227",
     "exception": false,
     "start_time": "2021-06-08T12:11:03.148871",
     "status": "completed"
    },
    "tags": []
   },
   "outputs": [],
   "source": [
    "#hide\n",
    "import pandas as pd\n",
    "import matplotlib.pyplot as plt\n",
    "import matplotlib.ticker as ticker\n",
    "import matplotlib.animation as animation\n",
    "from IPython.display import HTML"
   ]
  },
  {
   "cell_type": "code",
   "execution_count": 21,
   "id": "lasting-extraction",
   "metadata": {
    "execution": {
     "iopub.execute_input": "2021-06-08T12:11:03.839651Z",
     "iopub.status.busy": "2021-06-08T12:11:03.839083Z",
     "iopub.status.idle": "2021-06-08T12:11:03.844917Z",
     "shell.execute_reply": "2021-06-08T12:11:03.844335Z"
    },
    "papermill": {
     "duration": 0.045113,
     "end_time": "2021-06-08T12:11:03.845035",
     "exception": false,
     "start_time": "2021-06-08T12:11:03.799922",
     "status": "completed"
    },
    "tags": []
   },
   "outputs": [],
   "source": [
    "#hide\n",
    "t = everydaycases.stack()"
   ]
  },
  {
   "cell_type": "code",
   "execution_count": 22,
   "id": "premier-sleeve",
   "metadata": {
    "execution": {
     "iopub.execute_input": "2021-06-08T12:11:03.921537Z",
     "iopub.status.busy": "2021-06-08T12:11:03.920934Z",
     "iopub.status.idle": "2021-06-08T12:11:03.928977Z",
     "shell.execute_reply": "2021-06-08T12:11:03.929555Z"
    },
    "papermill": {
     "duration": 0.048176,
     "end_time": "2021-06-08T12:11:03.929682",
     "exception": false,
     "start_time": "2021-06-08T12:11:03.881506",
     "status": "completed"
    },
    "tags": []
   },
   "outputs": [],
   "source": [
    "#hide\n",
    "g = t.reset_index(['Country/Region'])"
   ]
  },
  {
   "cell_type": "code",
   "execution_count": 23,
   "id": "distributed-pittsburgh",
   "metadata": {
    "execution": {
     "iopub.execute_input": "2021-06-08T12:11:04.003674Z",
     "iopub.status.busy": "2021-06-08T12:11:04.002884Z",
     "iopub.status.idle": "2021-06-08T12:11:04.005779Z",
     "shell.execute_reply": "2021-06-08T12:11:04.005153Z"
    },
    "papermill": {
     "duration": 0.04114,
     "end_time": "2021-06-08T12:11:04.005890",
     "exception": false,
     "start_time": "2021-06-08T12:11:03.964750",
     "status": "completed"
    },
    "tags": []
   },
   "outputs": [],
   "source": [
    "#hide\n",
    "g.index.name = 'date'"
   ]
  },
  {
   "cell_type": "code",
   "execution_count": 24,
   "id": "naked-donor",
   "metadata": {
    "execution": {
     "iopub.execute_input": "2021-06-08T12:11:04.089811Z",
     "iopub.status.busy": "2021-06-08T12:11:04.089139Z",
     "iopub.status.idle": "2021-06-08T12:11:04.091515Z",
     "shell.execute_reply": "2021-06-08T12:11:04.090902Z"
    },
    "papermill": {
     "duration": 0.048969,
     "end_time": "2021-06-08T12:11:04.091642",
     "exception": false,
     "start_time": "2021-06-08T12:11:04.042673",
     "status": "completed"
    },
    "tags": []
   },
   "outputs": [],
   "source": [
    "# #hide\n",
    "# g = g.reset_index(['date'])"
   ]
  },
  {
   "cell_type": "code",
   "execution_count": 25,
   "id": "incomplete-mustang",
   "metadata": {
    "execution": {
     "iopub.execute_input": "2021-06-08T12:11:04.172531Z",
     "iopub.status.busy": "2021-06-08T12:11:04.171735Z",
     "iopub.status.idle": "2021-06-08T12:11:04.174301Z",
     "shell.execute_reply": "2021-06-08T12:11:04.173770Z"
    },
    "papermill": {
     "duration": 0.044251,
     "end_time": "2021-06-08T12:11:04.174431",
     "exception": false,
     "start_time": "2021-06-08T12:11:04.130180",
     "status": "completed"
    },
    "tags": []
   },
   "outputs": [],
   "source": [
    "#hide\n",
    "# g.head()"
   ]
  },
  {
   "cell_type": "code",
   "execution_count": 26,
   "id": "specific-kruger",
   "metadata": {
    "execution": {
     "iopub.execute_input": "2021-06-08T12:11:04.253843Z",
     "iopub.status.busy": "2021-06-08T12:11:04.253171Z",
     "iopub.status.idle": "2021-06-08T12:11:04.255502Z",
     "shell.execute_reply": "2021-06-08T12:11:04.255961Z"
    },
    "papermill": {
     "duration": 0.04286,
     "end_time": "2021-06-08T12:11:04.256085",
     "exception": false,
     "start_time": "2021-06-08T12:11:04.213225",
     "status": "completed"
    },
    "tags": []
   },
   "outputs": [],
   "source": [
    "#hide\n",
    "# g.columns = ['date','country','cases']"
   ]
  },
  {
   "cell_type": "code",
   "execution_count": 27,
   "id": "tender-conversion",
   "metadata": {
    "execution": {
     "iopub.execute_input": "2021-06-08T12:11:04.332599Z",
     "iopub.status.busy": "2021-06-08T12:11:04.332013Z",
     "iopub.status.idle": "2021-06-08T12:11:04.334377Z",
     "shell.execute_reply": "2021-06-08T12:11:04.333879Z"
    },
    "papermill": {
     "duration": 0.040116,
     "end_time": "2021-06-08T12:11:04.334494",
     "exception": false,
     "start_time": "2021-06-08T12:11:04.294378",
     "status": "completed"
    },
    "tags": []
   },
   "outputs": [],
   "source": [
    "#hide\n",
    "# g['continent'] = g.country"
   ]
  },
  {
   "cell_type": "code",
   "execution_count": 28,
   "id": "substantial-wilderness",
   "metadata": {
    "execution": {
     "iopub.execute_input": "2021-06-08T12:11:04.409990Z",
     "iopub.status.busy": "2021-06-08T12:11:04.409354Z",
     "iopub.status.idle": "2021-06-08T12:11:04.411234Z",
     "shell.execute_reply": "2021-06-08T12:11:04.411760Z"
    },
    "papermill": {
     "duration": 0.041597,
     "end_time": "2021-06-08T12:11:04.411885",
     "exception": false,
     "start_time": "2021-06-08T12:11:04.370288",
     "status": "completed"
    },
    "tags": []
   },
   "outputs": [],
   "source": [
    "#hide\n",
    "# cols = list(g.columns.values)"
   ]
  },
  {
   "cell_type": "code",
   "execution_count": 29,
   "id": "solved-farming",
   "metadata": {
    "execution": {
     "iopub.execute_input": "2021-06-08T12:11:04.489424Z",
     "iopub.status.busy": "2021-06-08T12:11:04.488744Z",
     "iopub.status.idle": "2021-06-08T12:11:04.491025Z",
     "shell.execute_reply": "2021-06-08T12:11:04.490463Z"
    },
    "papermill": {
     "duration": 0.041858,
     "end_time": "2021-06-08T12:11:04.491134",
     "exception": false,
     "start_time": "2021-06-08T12:11:04.449276",
     "status": "completed"
    },
    "tags": []
   },
   "outputs": [],
   "source": [
    "#hide\n",
    "# cols.insert(0, cols.pop())"
   ]
  },
  {
   "cell_type": "code",
   "execution_count": 30,
   "id": "executed-adoption",
   "metadata": {
    "execution": {
     "iopub.execute_input": "2021-06-08T12:11:04.566454Z",
     "iopub.status.busy": "2021-06-08T12:11:04.565845Z",
     "iopub.status.idle": "2021-06-08T12:11:04.568540Z",
     "shell.execute_reply": "2021-06-08T12:11:04.568019Z"
    },
    "papermill": {
     "duration": 0.041942,
     "end_time": "2021-06-08T12:11:04.569394",
     "exception": false,
     "start_time": "2021-06-08T12:11:04.527452",
     "status": "completed"
    },
    "tags": []
   },
   "outputs": [],
   "source": [
    "#hide\n",
    "# g = g[cols]"
   ]
  },
  {
   "cell_type": "code",
   "execution_count": 31,
   "id": "subject-dublin",
   "metadata": {
    "execution": {
     "iopub.execute_input": "2021-06-08T12:11:04.646103Z",
     "iopub.status.busy": "2021-06-08T12:11:04.645538Z",
     "iopub.status.idle": "2021-06-08T12:11:04.647326Z",
     "shell.execute_reply": "2021-06-08T12:11:04.647869Z"
    },
    "papermill": {
     "duration": 0.04135,
     "end_time": "2021-06-08T12:11:04.647991",
     "exception": false,
     "start_time": "2021-06-08T12:11:04.606641",
     "status": "completed"
    },
    "tags": []
   },
   "outputs": [],
   "source": [
    "#hide\n",
    "# g['continent'] = g['continent'].map(mapping['map.continent'])"
   ]
  },
  {
   "cell_type": "code",
   "execution_count": 32,
   "id": "freelance-scout",
   "metadata": {
    "execution": {
     "iopub.execute_input": "2021-06-08T12:11:04.722700Z",
     "iopub.status.busy": "2021-06-08T12:11:04.722122Z",
     "iopub.status.idle": "2021-06-08T12:11:04.723901Z",
     "shell.execute_reply": "2021-06-08T12:11:04.724451Z"
    },
    "papermill": {
     "duration": 0.040544,
     "end_time": "2021-06-08T12:11:04.724573",
     "exception": false,
     "start_time": "2021-06-08T12:11:04.684029",
     "status": "completed"
    },
    "tags": []
   },
   "outputs": [],
   "source": [
    "#hide\n",
    "# g.head()"
   ]
  },
  {
   "cell_type": "code",
   "execution_count": 33,
   "id": "limited-engine",
   "metadata": {
    "execution": {
     "iopub.execute_input": "2021-06-08T12:11:04.797254Z",
     "iopub.status.busy": "2021-06-08T12:11:04.796670Z",
     "iopub.status.idle": "2021-06-08T12:11:04.798695Z",
     "shell.execute_reply": "2021-06-08T12:11:04.799185Z"
    },
    "papermill": {
     "duration": 0.039829,
     "end_time": "2021-06-08T12:11:04.799308",
     "exception": false,
     "start_time": "2021-06-08T12:11:04.759479",
     "status": "completed"
    },
    "tags": []
   },
   "outputs": [],
   "source": [
    "# hide\n",
    "# g['date'] = g['date'].astype('datetime64[ns]')"
   ]
  },
  {
   "cell_type": "code",
   "execution_count": 34,
   "id": "sophisticated-supervisor",
   "metadata": {
    "execution": {
     "iopub.execute_input": "2021-06-08T12:11:04.873150Z",
     "iopub.status.busy": "2021-06-08T12:11:04.872589Z",
     "iopub.status.idle": "2021-06-08T12:11:04.874912Z",
     "shell.execute_reply": "2021-06-08T12:11:04.874431Z"
    },
    "papermill": {
     "duration": 0.040412,
     "end_time": "2021-06-08T12:11:04.875023",
     "exception": false,
     "start_time": "2021-06-08T12:11:04.834611",
     "status": "completed"
    },
    "tags": []
   },
   "outputs": [],
   "source": [
    "#hide\n",
    "# g['date'] = g.date.dt.dayofyear"
   ]
  },
  {
   "cell_type": "code",
   "execution_count": 35,
   "id": "inside-dubai",
   "metadata": {
    "execution": {
     "iopub.execute_input": "2021-06-08T12:11:04.953408Z",
     "iopub.status.busy": "2021-06-08T12:11:04.952712Z",
     "iopub.status.idle": "2021-06-08T12:11:04.954734Z",
     "shell.execute_reply": "2021-06-08T12:11:04.955170Z"
    },
    "papermill": {
     "duration": 0.045367,
     "end_time": "2021-06-08T12:11:04.955299",
     "exception": false,
     "start_time": "2021-06-08T12:11:04.909932",
     "status": "completed"
    },
    "tags": []
   },
   "outputs": [],
   "source": [
    "#hide\n",
    "# g = g.rename(columns= {'continent':'group','country':'name','cases':'value'})"
   ]
  },
  {
   "cell_type": "code",
   "execution_count": 36,
   "id": "fleet-motorcycle",
   "metadata": {
    "execution": {
     "iopub.execute_input": "2021-06-08T12:11:05.030844Z",
     "iopub.status.busy": "2021-06-08T12:11:05.030264Z",
     "iopub.status.idle": "2021-06-08T12:11:05.032586Z",
     "shell.execute_reply": "2021-06-08T12:11:05.032068Z"
    },
    "papermill": {
     "duration": 0.040212,
     "end_time": "2021-06-08T12:11:05.032700",
     "exception": false,
     "start_time": "2021-06-08T12:11:04.992488",
     "status": "completed"
    },
    "tags": []
   },
   "outputs": [],
   "source": [
    "#hide\n",
    "# cols = ['name','group','day','value']"
   ]
  },
  {
   "cell_type": "code",
   "execution_count": 37,
   "id": "continued-sleeping",
   "metadata": {
    "execution": {
     "iopub.execute_input": "2021-06-08T12:11:05.106435Z",
     "iopub.status.busy": "2021-06-08T12:11:05.105849Z",
     "iopub.status.idle": "2021-06-08T12:11:05.108186Z",
     "shell.execute_reply": "2021-06-08T12:11:05.107703Z"
    },
    "papermill": {
     "duration": 0.04063,
     "end_time": "2021-06-08T12:11:05.108296",
     "exception": false,
     "start_time": "2021-06-08T12:11:05.067666",
     "status": "completed"
    },
    "tags": []
   },
   "outputs": [],
   "source": [
    "#hide\n",
    "# g.rename(columns= {'date':'day'},inplace = True)"
   ]
  },
  {
   "cell_type": "code",
   "execution_count": 38,
   "id": "major-fight",
   "metadata": {
    "execution": {
     "iopub.execute_input": "2021-06-08T12:11:05.182492Z",
     "iopub.status.busy": "2021-06-08T12:11:05.181889Z",
     "iopub.status.idle": "2021-06-08T12:11:05.184415Z",
     "shell.execute_reply": "2021-06-08T12:11:05.183891Z"
    },
    "papermill": {
     "duration": 0.041184,
     "end_time": "2021-06-08T12:11:05.184615",
     "exception": false,
     "start_time": "2021-06-08T12:11:05.143431",
     "status": "completed"
    },
    "tags": []
   },
   "outputs": [],
   "source": [
    "#hide\n",
    "# g = g[cols]"
   ]
  },
  {
   "cell_type": "code",
   "execution_count": 39,
   "id": "structured-mobile",
   "metadata": {
    "execution": {
     "iopub.execute_input": "2021-06-08T12:11:05.266314Z",
     "iopub.status.busy": "2021-06-08T12:11:05.264936Z",
     "iopub.status.idle": "2021-06-08T12:11:05.268864Z",
     "shell.execute_reply": "2021-06-08T12:11:05.268357Z"
    },
    "papermill": {
     "duration": 0.047756,
     "end_time": "2021-06-08T12:11:05.268978",
     "exception": false,
     "start_time": "2021-06-08T12:11:05.221222",
     "status": "completed"
    },
    "tags": []
   },
   "outputs": [],
   "source": [
    "# #hide\n",
    "# g = g[g.group.notna()]"
   ]
  },
  {
   "cell_type": "code",
   "execution_count": 40,
   "id": "determined-closing",
   "metadata": {
    "execution": {
     "iopub.execute_input": "2021-06-08T12:11:05.344458Z",
     "iopub.status.busy": "2021-06-08T12:11:05.343692Z",
     "iopub.status.idle": "2021-06-08T12:11:05.346782Z",
     "shell.execute_reply": "2021-06-08T12:11:05.345714Z"
    },
    "papermill": {
     "duration": 0.041906,
     "end_time": "2021-06-08T12:11:05.346907",
     "exception": false,
     "start_time": "2021-06-08T12:11:05.305001",
     "status": "completed"
    },
    "tags": []
   },
   "outputs": [],
   "source": [
    "# #hide\n",
    "# colors = dict(zip(\n",
    "#     [\"Oceania\", \"Europe\", \"Asia\", \"South America\", \"Middle East\", \"North America\", \"Africa\"],\n",
    "#     [\"#adb0ff\", \"#ffb3ff\", \"#90d595\", \"#e48381\", \"#aafbff\", \"#f7bb5f\", \"#eafb50\"]\n",
    "# ))\n",
    "# group_lk = g.set_index('name')['group'].to_dict()"
   ]
  },
  {
   "cell_type": "code",
   "execution_count": null,
   "id": "gross-drinking",
   "metadata": {
    "papermill": {
     "duration": 0.03932,
     "end_time": "2021-06-08T12:11:05.421361",
     "exception": false,
     "start_time": "2021-06-08T12:11:05.382041",
     "status": "completed"
    },
    "tags": []
   },
   "outputs": [],
   "source": []
  },
  {
   "cell_type": "code",
   "execution_count": 41,
   "id": "subject-macintosh",
   "metadata": {
    "execution": {
     "iopub.execute_input": "2021-06-08T12:11:05.500720Z",
     "iopub.status.busy": "2021-06-08T12:11:05.500037Z",
     "iopub.status.idle": "2021-06-08T12:11:05.502457Z",
     "shell.execute_reply": "2021-06-08T12:11:05.501950Z"
    },
    "papermill": {
     "duration": 0.041564,
     "end_time": "2021-06-08T12:11:05.502569",
     "exception": false,
     "start_time": "2021-06-08T12:11:05.461005",
     "status": "completed"
    },
    "tags": []
   },
   "outputs": [],
   "source": [
    "# #hide\n",
    "# fig, ax = plt.subplots(figsize=(15, 8))\n",
    "\n",
    "# def draw_barchart(current_day):\n",
    "#     dff = g[g['day'].eq(current_day)].sort_values(by='value', ascending=True).tail(10)\n",
    "#     ax.clear()\n",
    "#     ax.barh(dff['name'], dff['value'], color=[colors[group_lk[x]] for x in dff['name']])\n",
    "#     dx = dff['value'].max() / 200\n",
    "    \n",
    "#     for i, (value, name) in enumerate(zip(dff['value'], dff['name'])):\n",
    "#         ax.text(value-dx, i,     name,           size=14, weight=600, ha='right', va='bottom')\n",
    "#         ax.text(value-dx, i-.25, group_lk[name], size=10, color='#444444', ha='right', va='baseline')\n",
    "#         ax.text(value+dx, i,     f'{value:,.0f}',  size=14, ha='left',  va='center')\n",
    "#     ax.text(1, 0.4, current_day, transform=ax.transAxes, color='#777777', size=46, ha='right', weight=800)\n",
    "#     ax.text(0, 1.06, 'Population (thousands)', transform=ax.transAxes, size=12, color='#777777')\n",
    "#     ax.xaxis.set_major_formatter(ticker.StrMethodFormatter('{x:,.0f}'))\n",
    "#     ax.xaxis.set_ticks_position('top')\n",
    "#     ax.tick_params(axis='x', colors='#777777', labelsize=12)\n",
    "#     ax.set_yticks([])\n",
    "#     ax.margins(0, 0.01)\n",
    "#     ax.grid(which='major', axis='x', linestyle='-')\n",
    "#     ax.set_axisbelow(True)\n",
    "    \n",
    "#     ax.text(0, 1.15, 'Coronavirus',\n",
    "#             transform=ax.transAxes, size=24, weight=600, ha='left', va='top')\n",
    "# #     ax.text(1, 0, 'by @pratapvardhan; credit @jburnmurdoch', transform=ax.transAxes, color='#777777', ha='right',\n",
    "# #             bbox=dict(facecolor='white', alpha=0.8, edgecolor='white'))\n",
    "#     plt.box(False)"
   ]
  },
  {
   "cell_type": "code",
   "execution_count": 42,
   "id": "sexual-wages",
   "metadata": {
    "execution": {
     "iopub.execute_input": "2021-06-08T12:11:05.581676Z",
     "iopub.status.busy": "2021-06-08T12:11:05.580959Z",
     "iopub.status.idle": "2021-06-08T12:11:05.582995Z",
     "shell.execute_reply": "2021-06-08T12:11:05.583526Z"
    },
    "papermill": {
     "duration": 0.0445,
     "end_time": "2021-06-08T12:11:05.583663",
     "exception": false,
     "start_time": "2021-06-08T12:11:05.539163",
     "status": "completed"
    },
    "tags": []
   },
   "outputs": [],
   "source": [
    "# #hide_input\n",
    "# fig, ax = plt.subplots(figsize=(15, 8))\n",
    "# animator = animation.FuncAnimation(fig, draw_barchart, frames=range(g.day.values.min(), g.day.values.max()))\n",
    "# HTML(animator.to_jshtml())\n",
    "# # or use animator.to_html5_video() or animator.save() "
   ]
  },
  {
   "cell_type": "code",
   "execution_count": null,
   "id": "australian-container",
   "metadata": {
    "papermill": {
     "duration": 0.03597,
     "end_time": "2021-06-08T12:11:05.656138",
     "exception": false,
     "start_time": "2021-06-08T12:11:05.620168",
     "status": "completed"
    },
    "tags": []
   },
   "outputs": [],
   "source": []
  },
  {
   "cell_type": "code",
   "execution_count": null,
   "id": "mediterranean-pontiac",
   "metadata": {
    "papermill": {
     "duration": 0.036516,
     "end_time": "2021-06-08T12:11:05.728835",
     "exception": false,
     "start_time": "2021-06-08T12:11:05.692319",
     "status": "completed"
    },
    "tags": []
   },
   "outputs": [],
   "source": []
  },
  {
   "cell_type": "code",
   "execution_count": null,
   "id": "aging-legislature",
   "metadata": {
    "papermill": {
     "duration": 0.034371,
     "end_time": "2021-06-08T12:11:05.805744",
     "exception": false,
     "start_time": "2021-06-08T12:11:05.771373",
     "status": "completed"
    },
    "tags": []
   },
   "outputs": [],
   "source": []
  }
 ],
 "metadata": {
  "kernelspec": {
   "display_name": "Python 3",
   "language": "python",
   "name": "python3"
  },
  "language_info": {
   "codemirror_mode": {
    "name": "ipython",
    "version": 3
   },
   "file_extension": ".py",
   "mimetype": "text/x-python",
   "name": "python",
   "nbconvert_exporter": "python",
   "pygments_lexer": "ipython3",
   "version": "3.6.13"
  },
  "papermill": {
   "duration": 6.72662,
   "end_time": "2021-06-08T12:11:06.148241",
   "environment_variables": {},
   "exception": null,
   "input_path": "2020-03-21-covid19exp.ipynb",
   "output_path": "2020-03-21-covid19exp.ipynb",
   "parameters": {},
   "start_time": "2021-06-08T12:10:59.421621",
   "version": "2.0.0"
  }
 },
 "nbformat": 4,
 "nbformat_minor": 5
}