{
 "cells": [
  {
   "cell_type": "markdown",
   "id": "muslim-click",
   "metadata": {
    "papermill": {
     "duration": 0.044057,
     "end_time": "2021-02-09T00:11:05.167339",
     "exception": false,
     "start_time": "2021-02-09T00:11:05.123282",
     "status": "completed"
    },
    "tags": []
   },
   "source": [
    "# COVID-19 Case Race\n",
    "> A race chart to see rising cases around the world\n",
    "\n",
    "- author: Hargun Oberoi\n",
    "- image: images/covid-overview.png\n",
    "- hide: false\n",
    "- badges: false"
   ]
  },
  {
   "cell_type": "code",
   "execution_count": 1,
   "id": "proof-material",
   "metadata": {
    "execution": {
     "iopub.execute_input": "2021-02-09T00:11:05.255342Z",
     "iopub.status.busy": "2021-02-09T00:11:05.254612Z",
     "iopub.status.idle": "2021-02-09T00:11:05.628343Z",
     "shell.execute_reply": "2021-02-09T00:11:05.627710Z"
    },
    "papermill": {
     "duration": 0.423516,
     "end_time": "2021-02-09T00:11:05.628519",
     "exception": false,
     "start_time": "2021-02-09T00:11:05.205003",
     "status": "completed"
    },
    "tags": []
   },
   "outputs": [],
   "source": [
    "#hide\n",
    "import numpy as np\n",
    "import pandas as pd\n",
    "from jinja2 import Template\n",
    "from IPython.display import HTML"
   ]
  },
  {
   "cell_type": "code",
   "execution_count": 2,
   "id": "developed-terminology",
   "metadata": {
    "execution": {
     "iopub.execute_input": "2021-02-09T00:11:05.713242Z",
     "iopub.status.busy": "2021-02-09T00:11:05.712374Z",
     "iopub.status.idle": "2021-02-09T00:11:05.714784Z",
     "shell.execute_reply": "2021-02-09T00:11:05.714199Z"
    },
    "papermill": {
     "duration": 0.047033,
     "end_time": "2021-02-09T00:11:05.714908",
     "exception": false,
     "start_time": "2021-02-09T00:11:05.667875",
     "status": "completed"
    },
    "tags": []
   },
   "outputs": [],
   "source": [
    "#hide\n",
    "\n",
    "# FETCH\n",
    "base_url = 'https://raw.githubusercontent.com/pratapvardhan/notebooks/master/covid19/'\n",
    "paths = {\n",
    "    'mapping': base_url + 'mapping_countries.csv',\n",
    "    'overview': base_url + 'overview.tpl'\n",
    "}"
   ]
  },
  {
   "cell_type": "code",
   "execution_count": 3,
   "id": "dynamic-saver",
   "metadata": {
    "execution": {
     "iopub.execute_input": "2021-02-09T00:11:05.801021Z",
     "iopub.status.busy": "2021-02-09T00:11:05.800358Z",
     "iopub.status.idle": "2021-02-09T00:11:05.803509Z",
     "shell.execute_reply": "2021-02-09T00:11:05.804236Z"
    },
    "papermill": {
     "duration": 0.055521,
     "end_time": "2021-02-09T00:11:05.804393",
     "exception": false,
     "start_time": "2021-02-09T00:11:05.748872",
     "status": "completed"
    },
    "tags": []
   },
   "outputs": [
    {
     "data": {
      "text/plain": [
       "'https://raw.githubusercontent.com/pratapvardhan/notebooks/master/covid19/mapping_countries.csv'"
      ]
     },
     "execution_count": 3,
     "metadata": {},
     "output_type": "execute_result"
    }
   ],
   "source": [
    "#hide\n",
    "paths['mapping']"
   ]
  },
  {
   "cell_type": "code",
   "execution_count": 4,
   "id": "urban-software",
   "metadata": {
    "execution": {
     "iopub.execute_input": "2021-02-09T00:11:05.887709Z",
     "iopub.status.busy": "2021-02-09T00:11:05.886961Z",
     "iopub.status.idle": "2021-02-09T00:11:05.889708Z",
     "shell.execute_reply": "2021-02-09T00:11:05.888953Z"
    },
    "papermill": {
     "duration": 0.046267,
     "end_time": "2021-02-09T00:11:05.889840",
     "exception": false,
     "start_time": "2021-02-09T00:11:05.843573",
     "status": "completed"
    },
    "tags": []
   },
   "outputs": [],
   "source": [
    "#hide\n",
    "def get_mappings(url):\n",
    "    df = pd.read_csv(url)\n",
    "    return {\n",
    "        'df': df,\n",
    "        'replace.country': dict(df.dropna(subset=['Name']).set_index('Country')['Name']),\n",
    "        'map.continent': dict(df.set_index('Name')['Continent'])\n",
    "    }"
   ]
  },
  {
   "cell_type": "code",
   "execution_count": 5,
   "id": "intimate-machinery",
   "metadata": {
    "execution": {
     "iopub.execute_input": "2021-02-09T00:11:05.970756Z",
     "iopub.status.busy": "2021-02-09T00:11:05.970083Z",
     "iopub.status.idle": "2021-02-09T00:11:06.011301Z",
     "shell.execute_reply": "2021-02-09T00:11:06.010703Z"
    },
    "papermill": {
     "duration": 0.084898,
     "end_time": "2021-02-09T00:11:06.011448",
     "exception": false,
     "start_time": "2021-02-09T00:11:05.926550",
     "status": "completed"
    },
    "tags": []
   },
   "outputs": [],
   "source": [
    "#hide\n",
    "mapping = get_mappings(paths['mapping'])"
   ]
  },
  {
   "cell_type": "code",
   "execution_count": 6,
   "id": "certified-tactics",
   "metadata": {
    "execution": {
     "iopub.execute_input": "2021-02-09T00:11:06.094379Z",
     "iopub.status.busy": "2021-02-09T00:11:06.093629Z",
     "iopub.status.idle": "2021-02-09T00:11:06.095719Z",
     "shell.execute_reply": "2021-02-09T00:11:06.096227Z"
    },
    "papermill": {
     "duration": 0.045611,
     "end_time": "2021-02-09T00:11:06.096389",
     "exception": false,
     "start_time": "2021-02-09T00:11:06.050778",
     "status": "completed"
    },
    "tags": []
   },
   "outputs": [],
   "source": [
    "#hide\n",
    "def get_template(path):\n",
    "    from urllib.parse import urlparse\n",
    "    if bool(urlparse(path).netloc):\n",
    "        from urllib.request import urlopen\n",
    "        return urlopen(path).read().decode('utf8')\n",
    "    return open(path).read()"
   ]
  },
  {
   "cell_type": "code",
   "execution_count": 7,
   "id": "realistic-blast",
   "metadata": {
    "execution": {
     "iopub.execute_input": "2021-02-09T00:11:06.178928Z",
     "iopub.status.busy": "2021-02-09T00:11:06.178198Z",
     "iopub.status.idle": "2021-02-09T00:11:06.180732Z",
     "shell.execute_reply": "2021-02-09T00:11:06.180199Z"
    },
    "papermill": {
     "duration": 0.045991,
     "end_time": "2021-02-09T00:11:06.180856",
     "exception": false,
     "start_time": "2021-02-09T00:11:06.134865",
     "status": "completed"
    },
    "tags": []
   },
   "outputs": [],
   "source": [
    "#hide\n",
    "def get_frame(name):\n",
    "    url = (\n",
    "        'https://raw.githubusercontent.com/CSSEGISandData/COVID-19/master/csse_covid_19_data/'\n",
    "        f'csse_covid_19_time_series/time_series_covid19_{name}_global.csv')\n",
    "    df = pd.read_csv(url)\n",
    "    # rename countries\n",
    "    df['Country/Region'] = df['Country/Region'].replace(mapping['replace.country'])\n",
    "    return df"
   ]
  },
  {
   "cell_type": "code",
   "execution_count": 8,
   "id": "affiliated-characterization",
   "metadata": {
    "execution": {
     "iopub.execute_input": "2021-02-09T00:11:06.261578Z",
     "iopub.status.busy": "2021-02-09T00:11:06.260950Z",
     "iopub.status.idle": "2021-02-09T00:11:06.263295Z",
     "shell.execute_reply": "2021-02-09T00:11:06.263845Z"
    },
    "papermill": {
     "duration": 0.044115,
     "end_time": "2021-02-09T00:11:06.263982",
     "exception": false,
     "start_time": "2021-02-09T00:11:06.219867",
     "status": "completed"
    },
    "tags": []
   },
   "outputs": [],
   "source": [
    "#hide\n",
    "def get_dates(df):\n",
    "    dt_cols = df.columns[~df.columns.isin(['Province/State', 'Country/Region', 'Lat', 'Long'])]\n",
    "    LAST_DATE_I = -1\n",
    "    # sometimes last column may be empty, then go backwards\n",
    "    for i in range(-1, -len(dt_cols), -1):\n",
    "        if not df[dt_cols[i]].fillna(0).eq(0).all():\n",
    "            LAST_DATE_I = i\n",
    "            break\n",
    "    return LAST_DATE_I, dt_cols"
   ]
  },
  {
   "cell_type": "code",
   "execution_count": 9,
   "id": "recent-optimization",
   "metadata": {
    "execution": {
     "iopub.execute_input": "2021-02-09T00:11:06.347872Z",
     "iopub.status.busy": "2021-02-09T00:11:06.347011Z",
     "iopub.status.idle": "2021-02-09T00:11:06.685853Z",
     "shell.execute_reply": "2021-02-09T00:11:06.686816Z"
    },
    "papermill": {
     "duration": 0.384324,
     "end_time": "2021-02-09T00:11:06.686999",
     "exception": false,
     "start_time": "2021-02-09T00:11:06.302675",
     "status": "completed"
    },
    "tags": []
   },
   "outputs": [],
   "source": [
    "#hide\n",
    "COL_REGION = 'Country/Region'\n",
    "# Confirmed, Recovered, Deaths\n",
    "df = get_frame('confirmed')\n",
    "# dft_: timeseries, dfc_: today country agg\n",
    "dft_cases = df\n",
    "dft_deaths = get_frame('deaths')\n",
    "dft_recovered = get_frame('recovered')\n",
    "LAST_DATE_I, dt_cols = get_dates(df)"
   ]
  },
  {
   "cell_type": "code",
   "execution_count": 10,
   "id": "absolute-copper",
   "metadata": {
    "execution": {
     "iopub.execute_input": "2021-02-09T00:11:06.767614Z",
     "iopub.status.busy": "2021-02-09T00:11:06.766959Z",
     "iopub.status.idle": "2021-02-09T00:11:06.769535Z",
     "shell.execute_reply": "2021-02-09T00:11:06.768888Z"
    },
    "papermill": {
     "duration": 0.043962,
     "end_time": "2021-02-09T00:11:06.769685",
     "exception": false,
     "start_time": "2021-02-09T00:11:06.725723",
     "status": "completed"
    },
    "tags": []
   },
   "outputs": [],
   "source": [
    "#hide\n",
    "LAST_DATE_I, dt_cols = get_dates(df)\n",
    "dt_today =dt_cols[LAST_DATE_I]\n",
    "# dt_5day = dt_cols[LAST_DATE_I - 5]\n",
    "dt_yday = dt_cols[LAST_DATE_I - 1]"
   ]
  },
  {
   "cell_type": "code",
   "execution_count": 11,
   "id": "restricted-sheriff",
   "metadata": {
    "execution": {
     "iopub.execute_input": "2021-02-09T00:11:06.852733Z",
     "iopub.status.busy": "2021-02-09T00:11:06.851997Z",
     "iopub.status.idle": "2021-02-09T00:11:06.862060Z",
     "shell.execute_reply": "2021-02-09T00:11:06.862594Z"
    },
    "papermill": {
     "duration": 0.056197,
     "end_time": "2021-02-09T00:11:06.862767",
     "exception": false,
     "start_time": "2021-02-09T00:11:06.806570",
     "status": "completed"
    },
    "tags": []
   },
   "outputs": [],
   "source": [
    "#hide\n",
    "dfc_cases = dft_cases.groupby(COL_REGION)[dt_today].sum()\n",
    "dfc_deaths = dft_deaths.groupby(COL_REGION)[dt_today].sum()\n",
    "# dfp_cases = dft_cases.groupby(COL_REGION)[dt_5day].sum()\n",
    "# dfp_deaths = dft_deaths.groupby(COL_REGION)[dt_5day].sum()\n",
    "dfp_cases = dft_cases.groupby(COL_REGION)[dt_yday].sum()\n",
    "dfp_deaths = dft_deaths.groupby(COL_REGION)[dt_yday].sum()"
   ]
  },
  {
   "cell_type": "code",
   "execution_count": 12,
   "id": "deluxe-hepatitis",
   "metadata": {
    "execution": {
     "iopub.execute_input": "2021-02-09T00:11:06.951956Z",
     "iopub.status.busy": "2021-02-09T00:11:06.951184Z",
     "iopub.status.idle": "2021-02-09T00:11:06.954302Z",
     "shell.execute_reply": "2021-02-09T00:11:06.954804Z"
    },
    "papermill": {
     "duration": 0.053426,
     "end_time": "2021-02-09T00:11:06.954966",
     "exception": false,
     "start_time": "2021-02-09T00:11:06.901540",
     "status": "completed"
    },
    "tags": []
   },
   "outputs": [],
   "source": [
    "#hide\n",
    "df_table = (pd.DataFrame(dict(Cases = dfc_cases, Deaths = dfc_deaths, PCases = dfp_cases, PDeaths = dfp_deaths))\n",
    "            .sort_values(by = ['Cases','Deaths'], ascending = [False, False])\n",
    "            .reset_index())"
   ]
  },
  {
   "cell_type": "code",
   "execution_count": 13,
   "id": "educational-chancellor",
   "metadata": {
    "execution": {
     "iopub.execute_input": "2021-02-09T00:11:07.729409Z",
     "iopub.status.busy": "2021-02-09T00:11:07.728695Z",
     "iopub.status.idle": "2021-02-09T00:11:07.739358Z",
     "shell.execute_reply": "2021-02-09T00:11:07.738624Z"
    },
    "papermill": {
     "duration": 0.740247,
     "end_time": "2021-02-09T00:11:07.739579",
     "exception": false,
     "start_time": "2021-02-09T00:11:06.999332",
     "status": "completed"
    },
    "tags": []
   },
   "outputs": [
    {
     "data": {
      "text/html": [
       "<div>\n",
       "<style scoped>\n",
       "    .dataframe tbody tr th:only-of-type {\n",
       "        vertical-align: middle;\n",
       "    }\n",
       "\n",
       "    .dataframe tbody tr th {\n",
       "        vertical-align: top;\n",
       "    }\n",
       "\n",
       "    .dataframe thead th {\n",
       "        text-align: right;\n",
       "    }\n",
       "</style>\n",
       "<table border=\"1\" class=\"dataframe\">\n",
       "  <thead>\n",
       "    <tr style=\"text-align: right;\">\n",
       "      <th></th>\n",
       "      <th>Country/Region</th>\n",
       "      <th>Cases</th>\n",
       "      <th>Deaths</th>\n",
       "      <th>PCases</th>\n",
       "      <th>PDeaths</th>\n",
       "      <th>Cases (+)</th>\n",
       "      <th>Deaths (+)</th>\n",
       "      <th>Fatality Rate</th>\n",
       "      <th>Continent</th>\n",
       "    </tr>\n",
       "  </thead>\n",
       "  <tbody>\n",
       "    <tr>\n",
       "      <th>0</th>\n",
       "      <td>US</td>\n",
       "      <td>27007368</td>\n",
       "      <td>463476</td>\n",
       "      <td>26917787</td>\n",
       "      <td>462169</td>\n",
       "      <td>89581</td>\n",
       "      <td>1307</td>\n",
       "      <td>1.72</td>\n",
       "      <td>North America</td>\n",
       "    </tr>\n",
       "    <tr>\n",
       "      <th>1</th>\n",
       "      <td>India</td>\n",
       "      <td>10838194</td>\n",
       "      <td>155080</td>\n",
       "      <td>10826363</td>\n",
       "      <td>154996</td>\n",
       "      <td>11831</td>\n",
       "      <td>84</td>\n",
       "      <td>1.43</td>\n",
       "      <td>Asia</td>\n",
       "    </tr>\n",
       "    <tr>\n",
       "      <th>2</th>\n",
       "      <td>Brazil</td>\n",
       "      <td>9524640</td>\n",
       "      <td>231534</td>\n",
       "      <td>9447165</td>\n",
       "      <td>230034</td>\n",
       "      <td>77475</td>\n",
       "      <td>1500</td>\n",
       "      <td>2.43</td>\n",
       "      <td>South America</td>\n",
       "    </tr>\n",
       "    <tr>\n",
       "      <th>3</th>\n",
       "      <td>United Kingdom</td>\n",
       "      <td>3957177</td>\n",
       "      <td>112681</td>\n",
       "      <td>3941273</td>\n",
       "      <td>112305</td>\n",
       "      <td>15904</td>\n",
       "      <td>376</td>\n",
       "      <td>2.85</td>\n",
       "      <td>Europe</td>\n",
       "    </tr>\n",
       "    <tr>\n",
       "      <th>4</th>\n",
       "      <td>Russia</td>\n",
       "      <td>3923461</td>\n",
       "      <td>75430</td>\n",
       "      <td>3907653</td>\n",
       "      <td>75010</td>\n",
       "      <td>15808</td>\n",
       "      <td>420</td>\n",
       "      <td>1.92</td>\n",
       "      <td>Europe</td>\n",
       "    </tr>\n",
       "  </tbody>\n",
       "</table>\n",
       "</div>"
      ],
      "text/plain": [
       "   Country/Region     Cases  Deaths    PCases  PDeaths  Cases (+)  Deaths (+)  \\\n",
       "0              US  27007368  463476  26917787   462169      89581        1307   \n",
       "1           India  10838194  155080  10826363   154996      11831          84   \n",
       "2          Brazil   9524640  231534   9447165   230034      77475        1500   \n",
       "3  United Kingdom   3957177  112681   3941273   112305      15904         376   \n",
       "4          Russia   3923461   75430   3907653    75010      15808         420   \n",
       "\n",
       "   Fatality Rate      Continent  \n",
       "0           1.72  North America  \n",
       "1           1.43           Asia  \n",
       "2           2.43  South America  \n",
       "3           2.85         Europe  \n",
       "4           1.92         Europe  "
      ]
     },
     "execution_count": 13,
     "metadata": {},
     "output_type": "execute_result"
    }
   ],
   "source": [
    "#hide\n",
    "for c in 'Cases, Deaths'.split(', '):\n",
    "    df_table[f'{c} (+)'] = (df_table[c] - df_table[f'P{c}']).clip(0)\n",
    "    #Clip ça veut dire, les chiffres negatif sont interdit\n",
    "df_table['Fatality Rate'] = (100* df_table['Deaths']/ df_table['Cases']).round(2)\n",
    "df_table['Continent'] = df_table['Country/Region'].map(mapping['map.continent'])\n",
    "df_table.head(5)"
   ]
  },
  {
   "cell_type": "code",
   "execution_count": 14,
   "id": "aboriginal-bulgaria",
   "metadata": {
    "execution": {
     "iopub.execute_input": "2021-02-09T00:11:07.821586Z",
     "iopub.status.busy": "2021-02-09T00:11:07.820848Z",
     "iopub.status.idle": "2021-02-09T00:11:07.823154Z",
     "shell.execute_reply": "2021-02-09T00:11:07.822577Z"
    },
    "papermill": {
     "duration": 0.04643,
     "end_time": "2021-02-09T00:11:07.823275",
     "exception": false,
     "start_time": "2021-02-09T00:11:07.776845",
     "status": "completed"
    },
    "tags": []
   },
   "outputs": [],
   "source": [
    "#hide\n",
    "#delete problematic countries from table\n",
    "df_table = df_table[~df_table['Country/Region'].isin(['Cape Verde', 'Cruise Ship', 'Kosovo'])]"
   ]
  },
  {
   "cell_type": "code",
   "execution_count": 15,
   "id": "fantastic-effect",
   "metadata": {
    "execution": {
     "iopub.execute_input": "2021-02-09T00:11:07.919860Z",
     "iopub.status.busy": "2021-02-09T00:11:07.919166Z",
     "iopub.status.idle": "2021-02-09T00:11:07.940912Z",
     "shell.execute_reply": "2021-02-09T00:11:07.941520Z"
    },
    "papermill": {
     "duration": 0.077228,
     "end_time": "2021-02-09T00:11:07.941683",
     "exception": false,
     "start_time": "2021-02-09T00:11:07.864455",
     "status": "completed"
    },
    "tags": []
   },
   "outputs": [
    {
     "data": {
      "text/html": [
       "<div>\n",
       "<style scoped>\n",
       "    .dataframe tbody tr th:only-of-type {\n",
       "        vertical-align: middle;\n",
       "    }\n",
       "\n",
       "    .dataframe tbody tr th {\n",
       "        vertical-align: top;\n",
       "    }\n",
       "\n",
       "    .dataframe thead th {\n",
       "        text-align: right;\n",
       "    }\n",
       "</style>\n",
       "<table border=\"1\" class=\"dataframe\">\n",
       "  <thead>\n",
       "    <tr style=\"text-align: right;\">\n",
       "      <th></th>\n",
       "      <th>Country/Region</th>\n",
       "      <th>Cases</th>\n",
       "      <th>Deaths</th>\n",
       "      <th>PCases</th>\n",
       "      <th>PDeaths</th>\n",
       "      <th>Cases (+)</th>\n",
       "      <th>Deaths (+)</th>\n",
       "      <th>Fatality Rate</th>\n",
       "      <th>Continent</th>\n",
       "    </tr>\n",
       "  </thead>\n",
       "  <tbody>\n",
       "    <tr>\n",
       "      <th>0</th>\n",
       "      <td>US</td>\n",
       "      <td>27007368</td>\n",
       "      <td>463476</td>\n",
       "      <td>26917787</td>\n",
       "      <td>462169</td>\n",
       "      <td>89581</td>\n",
       "      <td>1307</td>\n",
       "      <td>1.7</td>\n",
       "      <td>North America</td>\n",
       "    </tr>\n",
       "    <tr>\n",
       "      <th>1</th>\n",
       "      <td>India</td>\n",
       "      <td>10838194</td>\n",
       "      <td>155080</td>\n",
       "      <td>10826363</td>\n",
       "      <td>154996</td>\n",
       "      <td>11831</td>\n",
       "      <td>84</td>\n",
       "      <td>1.4</td>\n",
       "      <td>Asia</td>\n",
       "    </tr>\n",
       "    <tr>\n",
       "      <th>2</th>\n",
       "      <td>Brazil</td>\n",
       "      <td>9524640</td>\n",
       "      <td>231534</td>\n",
       "      <td>9447165</td>\n",
       "      <td>230034</td>\n",
       "      <td>77475</td>\n",
       "      <td>1500</td>\n",
       "      <td>2.4</td>\n",
       "      <td>South America</td>\n",
       "    </tr>\n",
       "    <tr>\n",
       "      <th>3</th>\n",
       "      <td>United Kingdom</td>\n",
       "      <td>3957177</td>\n",
       "      <td>112681</td>\n",
       "      <td>3941273</td>\n",
       "      <td>112305</td>\n",
       "      <td>15904</td>\n",
       "      <td>376</td>\n",
       "      <td>2.8</td>\n",
       "      <td>Europe</td>\n",
       "    </tr>\n",
       "    <tr>\n",
       "      <th>4</th>\n",
       "      <td>Russia</td>\n",
       "      <td>3923461</td>\n",
       "      <td>75430</td>\n",
       "      <td>3907653</td>\n",
       "      <td>75010</td>\n",
       "      <td>15808</td>\n",
       "      <td>420</td>\n",
       "      <td>1.9</td>\n",
       "      <td>Europe</td>\n",
       "    </tr>\n",
       "  </tbody>\n",
       "</table>\n",
       "</div>"
      ],
      "text/plain": [
       "   Country/Region     Cases  Deaths    PCases  PDeaths  Cases (+)  Deaths (+)  \\\n",
       "0              US  27007368  463476  26917787   462169      89581        1307   \n",
       "1           India  10838194  155080  10826363   154996      11831          84   \n",
       "2          Brazil   9524640  231534   9447165   230034      77475        1500   \n",
       "3  United Kingdom   3957177  112681   3941273   112305      15904         376   \n",
       "4          Russia   3923461   75430   3907653    75010      15808         420   \n",
       "\n",
       "   Fatality Rate      Continent  \n",
       "0            1.7  North America  \n",
       "1            1.4           Asia  \n",
       "2            2.4  South America  \n",
       "3            2.8         Europe  \n",
       "4            1.9         Europe  "
      ]
     },
     "execution_count": 15,
     "metadata": {},
     "output_type": "execute_result"
    }
   ],
   "source": [
    "#hide\n",
    "df_table = (pd.DataFrame(dict(Cases=dfc_cases, Deaths=dfc_deaths, PCases=dfp_cases, PDeaths=dfp_deaths))\n",
    "             .sort_values(by=['Cases', 'Deaths'], ascending=[False, False])\n",
    "             .reset_index())\n",
    "df_table.rename(columns={'index': 'Country/Region'}, inplace=True)\n",
    "for c in 'Cases, Deaths'.split(', '):\n",
    "    df_table[f'{c} (+)'] = (df_table[c] - df_table[f'P{c}']).clip(0)  # DATA BUG\n",
    "df_table['Fatality Rate'] = (100 * df_table['Deaths'] / df_table['Cases']).round(1)\n",
    "df_table['Continent'] = df_table['Country/Region'].map(mapping['map.continent'])\n",
    "df_table.head(5)"
   ]
  },
  {
   "cell_type": "code",
   "execution_count": 16,
   "id": "fewer-occasion",
   "metadata": {
    "execution": {
     "iopub.execute_input": "2021-02-09T00:11:08.025632Z",
     "iopub.status.busy": "2021-02-09T00:11:08.024921Z",
     "iopub.status.idle": "2021-02-09T00:11:08.027729Z",
     "shell.execute_reply": "2021-02-09T00:11:08.027126Z"
    },
    "papermill": {
     "duration": 0.047722,
     "end_time": "2021-02-09T00:11:08.027853",
     "exception": false,
     "start_time": "2021-02-09T00:11:07.980131",
     "status": "completed"
    },
    "tags": []
   },
   "outputs": [],
   "source": [
    "#hide\n",
    "#delete problematic countries from table\n",
    "df_table = df_table[~df_table['Country/Region'].isin(['Cape Verde', 'Cruise Ship', 'Kosovo'])]"
   ]
  },
  {
   "cell_type": "code",
   "execution_count": 17,
   "id": "related-center",
   "metadata": {
    "execution": {
     "iopub.execute_input": "2021-02-09T00:11:08.125758Z",
     "iopub.status.busy": "2021-02-09T00:11:08.124972Z",
     "iopub.status.idle": "2021-02-09T00:11:08.127732Z",
     "shell.execute_reply": "2021-02-09T00:11:08.127153Z"
    },
    "papermill": {
     "duration": 0.062213,
     "end_time": "2021-02-09T00:11:08.127868",
     "exception": false,
     "start_time": "2021-02-09T00:11:08.065655",
     "status": "completed"
    },
    "tags": []
   },
   "outputs": [],
   "source": [
    "#hide\n",
    "metrics = [df_table.columns[index] for index in [1,2,5,6]]\n",
    "# s_china = df_table[df_table['Country/Region'].eq('China')][metrics].sum().add_prefix('China ')\n",
    "s_us = df_table[df_table['Country/Region'].eq('US')][metrics].sum().add_prefix('US ')\n",
    "s_eu = df_table[df_table['Continent'].eq('Europe')][metrics].sum().add_prefix('EU ')\n",
    "s_ind = df_table[df_table['Country/Region'].eq('India')][metrics].sum().add_prefix('India ')\n",
    "summary = {'updated': pd.to_datetime(dt_today), 'since': pd.to_datetime(dt_yday)}\n",
    "summary = {'updated': pd.to_datetime(dt_today), 'since': pd.to_datetime(dt_yday)}\n",
    "summary = {**summary, **df_table[metrics].sum(), **s_ind, **s_us, **s_eu}"
   ]
  },
  {
   "cell_type": "code",
   "execution_count": 18,
   "id": "engaging-syndrome",
   "metadata": {
    "execution": {
     "iopub.execute_input": "2021-02-09T00:11:08.215240Z",
     "iopub.status.busy": "2021-02-09T00:11:08.214097Z",
     "iopub.status.idle": "2021-02-09T00:11:08.227111Z",
     "shell.execute_reply": "2021-02-09T00:11:08.226502Z"
    },
    "papermill": {
     "duration": 0.060471,
     "end_time": "2021-02-09T00:11:08.227254",
     "exception": false,
     "start_time": "2021-02-09T00:11:08.166783",
     "status": "completed"
    },
    "tags": []
   },
   "outputs": [],
   "source": [
    "#hide\n",
    "dft_ct_new_cases = dft_cases.groupby(COL_REGION)[dt_cols].sum().diff(axis=1).fillna(0).astype(int)"
   ]
  },
  {
   "cell_type": "code",
   "execution_count": 19,
   "id": "neutral-assignment",
   "metadata": {
    "execution": {
     "iopub.execute_input": "2021-02-09T00:11:08.314662Z",
     "iopub.status.busy": "2021-02-09T00:11:08.313990Z",
     "iopub.status.idle": "2021-02-09T00:11:08.316589Z",
     "shell.execute_reply": "2021-02-09T00:11:08.316024Z"
    },
    "papermill": {
     "duration": 0.049758,
     "end_time": "2021-02-09T00:11:08.316725",
     "exception": false,
     "start_time": "2021-02-09T00:11:08.266967",
     "status": "completed"
    },
    "tags": []
   },
   "outputs": [],
   "source": [
    "#hide\n",
    "everydaycases = dft_ct_new_cases.cumsum(axis=1)"
   ]
  },
  {
   "cell_type": "code",
   "execution_count": 20,
   "id": "parliamentary-calgary",
   "metadata": {
    "execution": {
     "iopub.execute_input": "2021-02-09T00:11:08.396126Z",
     "iopub.status.busy": "2021-02-09T00:11:08.395546Z",
     "iopub.status.idle": "2021-02-09T00:11:10.647488Z",
     "shell.execute_reply": "2021-02-09T00:11:10.646789Z"
    },
    "papermill": {
     "duration": 2.292106,
     "end_time": "2021-02-09T00:11:10.647641",
     "exception": false,
     "start_time": "2021-02-09T00:11:08.355535",
     "status": "completed"
    },
    "tags": []
   },
   "outputs": [],
   "source": [
    "#hide\n",
    "import pandas as pd\n",
    "import matplotlib.pyplot as plt\n",
    "import matplotlib.ticker as ticker\n",
    "import matplotlib.animation as animation\n",
    "from IPython.display import HTML"
   ]
  },
  {
   "cell_type": "code",
   "execution_count": 21,
   "id": "lasting-extraction",
   "metadata": {
    "execution": {
     "iopub.execute_input": "2021-02-09T00:11:10.736086Z",
     "iopub.status.busy": "2021-02-09T00:11:10.735394Z",
     "iopub.status.idle": "2021-02-09T00:11:10.741167Z",
     "shell.execute_reply": "2021-02-09T00:11:10.740576Z"
    },
    "papermill": {
     "duration": 0.053876,
     "end_time": "2021-02-09T00:11:10.741319",
     "exception": false,
     "start_time": "2021-02-09T00:11:10.687443",
     "status": "completed"
    },
    "tags": []
   },
   "outputs": [],
   "source": [
    "#hide\n",
    "t = everydaycases.stack()"
   ]
  },
  {
   "cell_type": "code",
   "execution_count": 22,
   "id": "premier-sleeve",
   "metadata": {
    "execution": {
     "iopub.execute_input": "2021-02-09T00:11:10.827432Z",
     "iopub.status.busy": "2021-02-09T00:11:10.826637Z",
     "iopub.status.idle": "2021-02-09T00:11:10.834895Z",
     "shell.execute_reply": "2021-02-09T00:11:10.835478Z"
    },
    "papermill": {
     "duration": 0.054911,
     "end_time": "2021-02-09T00:11:10.835660",
     "exception": false,
     "start_time": "2021-02-09T00:11:10.780749",
     "status": "completed"
    },
    "tags": []
   },
   "outputs": [],
   "source": [
    "#hide\n",
    "g = t.reset_index(['Country/Region'])"
   ]
  },
  {
   "cell_type": "code",
   "execution_count": 23,
   "id": "distributed-pittsburgh",
   "metadata": {
    "execution": {
     "iopub.execute_input": "2021-02-09T00:11:10.923452Z",
     "iopub.status.busy": "2021-02-09T00:11:10.922754Z",
     "iopub.status.idle": "2021-02-09T00:11:10.926786Z",
     "shell.execute_reply": "2021-02-09T00:11:10.927423Z"
    },
    "papermill": {
     "duration": 0.053668,
     "end_time": "2021-02-09T00:11:10.927570",
     "exception": false,
     "start_time": "2021-02-09T00:11:10.873902",
     "status": "completed"
    },
    "tags": []
   },
   "outputs": [],
   "source": [
    "#hide\n",
    "g.index.name = 'date'"
   ]
  },
  {
   "cell_type": "code",
   "execution_count": 24,
   "id": "naked-donor",
   "metadata": {
    "execution": {
     "iopub.execute_input": "2021-02-09T00:11:11.015268Z",
     "iopub.status.busy": "2021-02-09T00:11:11.014525Z",
     "iopub.status.idle": "2021-02-09T00:11:11.016052Z",
     "shell.execute_reply": "2021-02-09T00:11:11.016764Z"
    },
    "papermill": {
     "duration": 0.050856,
     "end_time": "2021-02-09T00:11:11.016929",
     "exception": false,
     "start_time": "2021-02-09T00:11:10.966073",
     "status": "completed"
    },
    "tags": []
   },
   "outputs": [],
   "source": [
    "# #hide\n",
    "# g = g.reset_index(['date'])"
   ]
  },
  {
   "cell_type": "code",
   "execution_count": 25,
   "id": "incomplete-mustang",
   "metadata": {
    "execution": {
     "iopub.execute_input": "2021-02-09T00:11:11.102071Z",
     "iopub.status.busy": "2021-02-09T00:11:11.101257Z",
     "iopub.status.idle": "2021-02-09T00:11:11.103964Z",
     "shell.execute_reply": "2021-02-09T00:11:11.103449Z"
    },
    "papermill": {
     "duration": 0.046009,
     "end_time": "2021-02-09T00:11:11.104087",
     "exception": false,
     "start_time": "2021-02-09T00:11:11.058078",
     "status": "completed"
    },
    "tags": []
   },
   "outputs": [],
   "source": [
    "#hide\n",
    "# g.head()"
   ]
  },
  {
   "cell_type": "code",
   "execution_count": 26,
   "id": "specific-kruger",
   "metadata": {
    "execution": {
     "iopub.execute_input": "2021-02-09T00:11:11.181886Z",
     "iopub.status.busy": "2021-02-09T00:11:11.181195Z",
     "iopub.status.idle": "2021-02-09T00:11:11.183296Z",
     "shell.execute_reply": "2021-02-09T00:11:11.184020Z"
    },
    "papermill": {
     "duration": 0.045491,
     "end_time": "2021-02-09T00:11:11.184168",
     "exception": false,
     "start_time": "2021-02-09T00:11:11.138677",
     "status": "completed"
    },
    "tags": []
   },
   "outputs": [],
   "source": [
    "#hide\n",
    "# g.columns = ['date','country','cases']"
   ]
  },
  {
   "cell_type": "code",
   "execution_count": 27,
   "id": "tender-conversion",
   "metadata": {
    "execution": {
     "iopub.execute_input": "2021-02-09T00:11:11.269592Z",
     "iopub.status.busy": "2021-02-09T00:11:11.268886Z",
     "iopub.status.idle": "2021-02-09T00:11:11.271420Z",
     "shell.execute_reply": "2021-02-09T00:11:11.270676Z"
    },
    "papermill": {
     "duration": 0.04728,
     "end_time": "2021-02-09T00:11:11.271601",
     "exception": false,
     "start_time": "2021-02-09T00:11:11.224321",
     "status": "completed"
    },
    "tags": []
   },
   "outputs": [],
   "source": [
    "#hide\n",
    "# g['continent'] = g.country"
   ]
  },
  {
   "cell_type": "code",
   "execution_count": 28,
   "id": "substantial-wilderness",
   "metadata": {
    "execution": {
     "iopub.execute_input": "2021-02-09T00:11:11.351535Z",
     "iopub.status.busy": "2021-02-09T00:11:11.350842Z",
     "iopub.status.idle": "2021-02-09T00:11:11.353060Z",
     "shell.execute_reply": "2021-02-09T00:11:11.353817Z"
    },
    "papermill": {
     "duration": 0.044725,
     "end_time": "2021-02-09T00:11:11.353982",
     "exception": false,
     "start_time": "2021-02-09T00:11:11.309257",
     "status": "completed"
    },
    "tags": []
   },
   "outputs": [],
   "source": [
    "#hide\n",
    "# cols = list(g.columns.values)"
   ]
  },
  {
   "cell_type": "code",
   "execution_count": 29,
   "id": "solved-farming",
   "metadata": {
    "execution": {
     "iopub.execute_input": "2021-02-09T00:11:11.439859Z",
     "iopub.status.busy": "2021-02-09T00:11:11.439174Z",
     "iopub.status.idle": "2021-02-09T00:11:11.441949Z",
     "shell.execute_reply": "2021-02-09T00:11:11.441209Z"
    },
    "papermill": {
     "duration": 0.047642,
     "end_time": "2021-02-09T00:11:11.442129",
     "exception": false,
     "start_time": "2021-02-09T00:11:11.394487",
     "status": "completed"
    },
    "tags": []
   },
   "outputs": [],
   "source": [
    "#hide\n",
    "# cols.insert(0, cols.pop())"
   ]
  },
  {
   "cell_type": "code",
   "execution_count": 30,
   "id": "executed-adoption",
   "metadata": {
    "execution": {
     "iopub.execute_input": "2021-02-09T00:11:11.526640Z",
     "iopub.status.busy": "2021-02-09T00:11:11.525953Z",
     "iopub.status.idle": "2021-02-09T00:11:11.528470Z",
     "shell.execute_reply": "2021-02-09T00:11:11.527770Z"
    },
    "papermill": {
     "duration": 0.046589,
     "end_time": "2021-02-09T00:11:11.528619",
     "exception": false,
     "start_time": "2021-02-09T00:11:11.482030",
     "status": "completed"
    },
    "tags": []
   },
   "outputs": [],
   "source": [
    "#hide\n",
    "# g = g[cols]"
   ]
  },
  {
   "cell_type": "code",
   "execution_count": 31,
   "id": "subject-dublin",
   "metadata": {
    "execution": {
     "iopub.execute_input": "2021-02-09T00:11:11.612504Z",
     "iopub.status.busy": "2021-02-09T00:11:11.611834Z",
     "iopub.status.idle": "2021-02-09T00:11:11.613888Z",
     "shell.execute_reply": "2021-02-09T00:11:11.614577Z"
    },
    "papermill": {
     "duration": 0.047094,
     "end_time": "2021-02-09T00:11:11.614733",
     "exception": false,
     "start_time": "2021-02-09T00:11:11.567639",
     "status": "completed"
    },
    "tags": []
   },
   "outputs": [],
   "source": [
    "#hide\n",
    "# g['continent'] = g['continent'].map(mapping['map.continent'])"
   ]
  },
  {
   "cell_type": "code",
   "execution_count": 32,
   "id": "freelance-scout",
   "metadata": {
    "execution": {
     "iopub.execute_input": "2021-02-09T00:11:11.708756Z",
     "iopub.status.busy": "2021-02-09T00:11:11.708096Z",
     "iopub.status.idle": "2021-02-09T00:11:11.710129Z",
     "shell.execute_reply": "2021-02-09T00:11:11.710720Z"
    },
    "papermill": {
     "duration": 0.047834,
     "end_time": "2021-02-09T00:11:11.710917",
     "exception": false,
     "start_time": "2021-02-09T00:11:11.663083",
     "status": "completed"
    },
    "tags": []
   },
   "outputs": [],
   "source": [
    "#hide\n",
    "# g.head()"
   ]
  },
  {
   "cell_type": "code",
   "execution_count": 33,
   "id": "limited-engine",
   "metadata": {
    "execution": {
     "iopub.execute_input": "2021-02-09T00:11:11.795879Z",
     "iopub.status.busy": "2021-02-09T00:11:11.795118Z",
     "iopub.status.idle": "2021-02-09T00:11:11.798110Z",
     "shell.execute_reply": "2021-02-09T00:11:11.798611Z"
    },
    "papermill": {
     "duration": 0.046555,
     "end_time": "2021-02-09T00:11:11.798747",
     "exception": false,
     "start_time": "2021-02-09T00:11:11.752192",
     "status": "completed"
    },
    "tags": []
   },
   "outputs": [],
   "source": [
    "# hide\n",
    "# g['date'] = g['date'].astype('datetime64[ns]')"
   ]
  },
  {
   "cell_type": "code",
   "execution_count": 34,
   "id": "sophisticated-supervisor",
   "metadata": {
    "execution": {
     "iopub.execute_input": "2021-02-09T00:11:11.882310Z",
     "iopub.status.busy": "2021-02-09T00:11:11.881460Z",
     "iopub.status.idle": "2021-02-09T00:11:11.884169Z",
     "shell.execute_reply": "2021-02-09T00:11:11.883381Z"
    },
    "papermill": {
     "duration": 0.046989,
     "end_time": "2021-02-09T00:11:11.884333",
     "exception": false,
     "start_time": "2021-02-09T00:11:11.837344",
     "status": "completed"
    },
    "tags": []
   },
   "outputs": [],
   "source": [
    "#hide\n",
    "# g['date'] = g.date.dt.dayofyear"
   ]
  },
  {
   "cell_type": "code",
   "execution_count": 35,
   "id": "inside-dubai",
   "metadata": {
    "execution": {
     "iopub.execute_input": "2021-02-09T00:11:11.970785Z",
     "iopub.status.busy": "2021-02-09T00:11:11.970078Z",
     "iopub.status.idle": "2021-02-09T00:11:11.972708Z",
     "shell.execute_reply": "2021-02-09T00:11:11.972140Z"
    },
    "papermill": {
     "duration": 0.049288,
     "end_time": "2021-02-09T00:11:11.972911",
     "exception": false,
     "start_time": "2021-02-09T00:11:11.923623",
     "status": "completed"
    },
    "tags": []
   },
   "outputs": [],
   "source": [
    "#hide\n",
    "# g = g.rename(columns= {'continent':'group','country':'name','cases':'value'})"
   ]
  },
  {
   "cell_type": "code",
   "execution_count": 36,
   "id": "fleet-motorcycle",
   "metadata": {
    "execution": {
     "iopub.execute_input": "2021-02-09T00:11:12.056068Z",
     "iopub.status.busy": "2021-02-09T00:11:12.055477Z",
     "iopub.status.idle": "2021-02-09T00:11:12.057535Z",
     "shell.execute_reply": "2021-02-09T00:11:12.058313Z"
    },
    "papermill": {
     "duration": 0.047583,
     "end_time": "2021-02-09T00:11:12.058461",
     "exception": false,
     "start_time": "2021-02-09T00:11:12.010878",
     "status": "completed"
    },
    "tags": []
   },
   "outputs": [],
   "source": [
    "#hide\n",
    "# cols = ['name','group','day','value']"
   ]
  },
  {
   "cell_type": "code",
   "execution_count": 37,
   "id": "continued-sleeping",
   "metadata": {
    "execution": {
     "iopub.execute_input": "2021-02-09T00:11:12.140732Z",
     "iopub.status.busy": "2021-02-09T00:11:12.139882Z",
     "iopub.status.idle": "2021-02-09T00:11:12.141685Z",
     "shell.execute_reply": "2021-02-09T00:11:12.142375Z"
    },
    "papermill": {
     "duration": 0.044127,
     "end_time": "2021-02-09T00:11:12.142597",
     "exception": false,
     "start_time": "2021-02-09T00:11:12.098470",
     "status": "completed"
    },
    "tags": []
   },
   "outputs": [],
   "source": [
    "#hide\n",
    "# g.rename(columns= {'date':'day'},inplace = True)"
   ]
  },
  {
   "cell_type": "code",
   "execution_count": 38,
   "id": "major-fight",
   "metadata": {
    "execution": {
     "iopub.execute_input": "2021-02-09T00:11:12.223096Z",
     "iopub.status.busy": "2021-02-09T00:11:12.222281Z",
     "iopub.status.idle": "2021-02-09T00:11:12.224716Z",
     "shell.execute_reply": "2021-02-09T00:11:12.224119Z"
    },
    "papermill": {
     "duration": 0.042887,
     "end_time": "2021-02-09T00:11:12.224861",
     "exception": false,
     "start_time": "2021-02-09T00:11:12.181974",
     "status": "completed"
    },
    "tags": []
   },
   "outputs": [],
   "source": [
    "#hide\n",
    "# g = g[cols]"
   ]
  },
  {
   "cell_type": "code",
   "execution_count": 39,
   "id": "structured-mobile",
   "metadata": {
    "execution": {
     "iopub.execute_input": "2021-02-09T00:11:12.307749Z",
     "iopub.status.busy": "2021-02-09T00:11:12.306981Z",
     "iopub.status.idle": "2021-02-09T00:11:12.309495Z",
     "shell.execute_reply": "2021-02-09T00:11:12.310051Z"
    },
    "papermill": {
     "duration": 0.048149,
     "end_time": "2021-02-09T00:11:12.310220",
     "exception": false,
     "start_time": "2021-02-09T00:11:12.262071",
     "status": "completed"
    },
    "tags": []
   },
   "outputs": [],
   "source": [
    "# #hide\n",
    "# g = g[g.group.notna()]"
   ]
  },
  {
   "cell_type": "code",
   "execution_count": 40,
   "id": "determined-closing",
   "metadata": {
    "execution": {
     "iopub.execute_input": "2021-02-09T00:11:12.394866Z",
     "iopub.status.busy": "2021-02-09T00:11:12.394161Z",
     "iopub.status.idle": "2021-02-09T00:11:12.396846Z",
     "shell.execute_reply": "2021-02-09T00:11:12.397567Z"
    },
    "papermill": {
     "duration": 0.049022,
     "end_time": "2021-02-09T00:11:12.397725",
     "exception": false,
     "start_time": "2021-02-09T00:11:12.348703",
     "status": "completed"
    },
    "tags": []
   },
   "outputs": [],
   "source": [
    "# #hide\n",
    "# colors = dict(zip(\n",
    "#     [\"Oceania\", \"Europe\", \"Asia\", \"South America\", \"Middle East\", \"North America\", \"Africa\"],\n",
    "#     [\"#adb0ff\", \"#ffb3ff\", \"#90d595\", \"#e48381\", \"#aafbff\", \"#f7bb5f\", \"#eafb50\"]\n",
    "# ))\n",
    "# group_lk = g.set_index('name')['group'].to_dict()"
   ]
  },
  {
   "cell_type": "code",
   "execution_count": null,
   "id": "gross-drinking",
   "metadata": {
    "papermill": {
     "duration": 0.039609,
     "end_time": "2021-02-09T00:11:12.474976",
     "exception": false,
     "start_time": "2021-02-09T00:11:12.435367",
     "status": "completed"
    },
    "tags": []
   },
   "outputs": [],
   "source": []
  },
  {
   "cell_type": "code",
   "execution_count": 41,
   "id": "subject-macintosh",
   "metadata": {
    "execution": {
     "iopub.execute_input": "2021-02-09T00:11:12.560668Z",
     "iopub.status.busy": "2021-02-09T00:11:12.559941Z",
     "iopub.status.idle": "2021-02-09T00:11:12.565023Z",
     "shell.execute_reply": "2021-02-09T00:11:12.565586Z"
    },
    "papermill": {
     "duration": 0.050703,
     "end_time": "2021-02-09T00:11:12.565760",
     "exception": false,
     "start_time": "2021-02-09T00:11:12.515057",
     "status": "completed"
    },
    "tags": []
   },
   "outputs": [],
   "source": [
    "# #hide\n",
    "# fig, ax = plt.subplots(figsize=(15, 8))\n",
    "\n",
    "# def draw_barchart(current_day):\n",
    "#     dff = g[g['day'].eq(current_day)].sort_values(by='value', ascending=True).tail(10)\n",
    "#     ax.clear()\n",
    "#     ax.barh(dff['name'], dff['value'], color=[colors[group_lk[x]] for x in dff['name']])\n",
    "#     dx = dff['value'].max() / 200\n",
    "    \n",
    "#     for i, (value, name) in enumerate(zip(dff['value'], dff['name'])):\n",
    "#         ax.text(value-dx, i,     name,           size=14, weight=600, ha='right', va='bottom')\n",
    "#         ax.text(value-dx, i-.25, group_lk[name], size=10, color='#444444', ha='right', va='baseline')\n",
    "#         ax.text(value+dx, i,     f'{value:,.0f}',  size=14, ha='left',  va='center')\n",
    "#     ax.text(1, 0.4, current_day, transform=ax.transAxes, color='#777777', size=46, ha='right', weight=800)\n",
    "#     ax.text(0, 1.06, 'Population (thousands)', transform=ax.transAxes, size=12, color='#777777')\n",
    "#     ax.xaxis.set_major_formatter(ticker.StrMethodFormatter('{x:,.0f}'))\n",
    "#     ax.xaxis.set_ticks_position('top')\n",
    "#     ax.tick_params(axis='x', colors='#777777', labelsize=12)\n",
    "#     ax.set_yticks([])\n",
    "#     ax.margins(0, 0.01)\n",
    "#     ax.grid(which='major', axis='x', linestyle='-')\n",
    "#     ax.set_axisbelow(True)\n",
    "    \n",
    "#     ax.text(0, 1.15, 'Coronavirus',\n",
    "#             transform=ax.transAxes, size=24, weight=600, ha='left', va='top')\n",
    "# #     ax.text(1, 0, 'by @pratapvardhan; credit @jburnmurdoch', transform=ax.transAxes, color='#777777', ha='right',\n",
    "# #             bbox=dict(facecolor='white', alpha=0.8, edgecolor='white'))\n",
    "#     plt.box(False)"
   ]
  },
  {
   "cell_type": "code",
   "execution_count": 42,
   "id": "sexual-wages",
   "metadata": {
    "execution": {
     "iopub.execute_input": "2021-02-09T00:11:13.124452Z",
     "iopub.status.busy": "2021-02-09T00:11:13.123274Z",
     "iopub.status.idle": "2021-02-09T00:11:13.125153Z",
     "shell.execute_reply": "2021-02-09T00:11:13.125669Z"
    },
    "papermill": {
     "duration": 0.519543,
     "end_time": "2021-02-09T00:11:13.125813",
     "exception": false,
     "start_time": "2021-02-09T00:11:12.606270",
     "status": "completed"
    },
    "tags": []
   },
   "outputs": [],
   "source": [
    "# #hide_input\n",
    "# fig, ax = plt.subplots(figsize=(15, 8))\n",
    "# animator = animation.FuncAnimation(fig, draw_barchart, frames=range(g.day.values.min(), g.day.values.max()))\n",
    "# HTML(animator.to_jshtml())\n",
    "# # or use animator.to_html5_video() or animator.save() "
   ]
  },
  {
   "cell_type": "code",
   "execution_count": null,
   "id": "australian-container",
   "metadata": {
    "papermill": {
     "duration": 0.041078,
     "end_time": "2021-02-09T00:11:13.207874",
     "exception": false,
     "start_time": "2021-02-09T00:11:13.166796",
     "status": "completed"
    },
    "tags": []
   },
   "outputs": [],
   "source": []
  },
  {
   "cell_type": "code",
   "execution_count": null,
   "id": "mediterranean-pontiac",
   "metadata": {
    "papermill": {
     "duration": 0.039207,
     "end_time": "2021-02-09T00:11:13.286420",
     "exception": false,
     "start_time": "2021-02-09T00:11:13.247213",
     "status": "completed"
    },
    "tags": []
   },
   "outputs": [],
   "source": []
  },
  {
   "cell_type": "code",
   "execution_count": null,
   "id": "aging-legislature",
   "metadata": {
    "papermill": {
     "duration": 0.040772,
     "end_time": "2021-02-09T00:11:13.367162",
     "exception": false,
     "start_time": "2021-02-09T00:11:13.326390",
     "status": "completed"
    },
    "tags": []
   },
   "outputs": [],
   "source": []
  }
 ],
 "metadata": {
  "kernelspec": {
   "display_name": "Python 3",
   "language": "python",
   "name": "python3"
  },
  "language_info": {
   "codemirror_mode": {
    "name": "ipython",
    "version": 3
   },
   "file_extension": ".py",
   "mimetype": "text/x-python",
   "name": "python",
   "nbconvert_exporter": "python",
   "pygments_lexer": "ipython3",
   "version": "3.6.12"
  },
  "papermill": {
   "duration": 9.873999,
   "end_time": "2021-02-09T00:11:13.815912",
   "environment_variables": {},
   "exception": null,
   "input_path": "2020-03-21-covid19exp.ipynb",
   "output_path": "2020-03-21-covid19exp.ipynb",
   "parameters": {},
   "start_time": "2021-02-09T00:11:03.941913",
   "version": "2.0.0"
  }
 },
 "nbformat": 4,
 "nbformat_minor": 5
}