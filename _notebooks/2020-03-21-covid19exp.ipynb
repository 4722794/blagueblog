{
 "cells": [
  {
   "cell_type": "markdown",
   "id": "muslim-click",
   "metadata": {
    "papermill": {
     "duration": 0.031316,
     "end_time": "2021-08-24T00:22:02.061708",
     "exception": false,
     "start_time": "2021-08-24T00:22:02.030392",
     "status": "completed"
    },
    "tags": []
   },
   "source": [
    "# COVID-19 Case Race\n",
    "> A race chart to see rising cases around the world\n",
    "\n",
    "- author: Hargun Oberoi\n",
    "- image: images/covid-overview.png\n",
    "- hide: false\n",
    "- badges: false"
   ]
  },
  {
   "cell_type": "code",
   "execution_count": 1,
   "id": "proof-material",
   "metadata": {
    "execution": {
     "iopub.execute_input": "2021-08-24T00:22:02.123448Z",
     "iopub.status.busy": "2021-08-24T00:22:02.122987Z",
     "iopub.status.idle": "2021-08-24T00:22:02.439106Z",
     "shell.execute_reply": "2021-08-24T00:22:02.438538Z"
    },
    "papermill": {
     "duration": 0.351259,
     "end_time": "2021-08-24T00:22:02.439260",
     "exception": false,
     "start_time": "2021-08-24T00:22:02.088001",
     "status": "completed"
    },
    "tags": []
   },
   "outputs": [],
   "source": [
    "#hide\n",
    "import numpy as np\n",
    "import pandas as pd\n",
    "from jinja2 import Template\n",
    "from IPython.display import HTML"
   ]
  },
  {
   "cell_type": "code",
   "execution_count": 2,
   "id": "developed-terminology",
   "metadata": {
    "execution": {
     "iopub.execute_input": "2021-08-24T00:22:02.497910Z",
     "iopub.status.busy": "2021-08-24T00:22:02.497385Z",
     "iopub.status.idle": "2021-08-24T00:22:02.499338Z",
     "shell.execute_reply": "2021-08-24T00:22:02.498900Z"
    },
    "papermill": {
     "duration": 0.032912,
     "end_time": "2021-08-24T00:22:02.499446",
     "exception": false,
     "start_time": "2021-08-24T00:22:02.466534",
     "status": "completed"
    },
    "tags": []
   },
   "outputs": [],
   "source": [
    "#hide\n",
    "\n",
    "# FETCH\n",
    "base_url = 'https://raw.githubusercontent.com/pratapvardhan/notebooks/master/covid19/'\n",
    "paths = {\n",
    "    'mapping': base_url + 'mapping_countries.csv',\n",
    "    'overview': base_url + 'overview.tpl'\n",
    "}"
   ]
  },
  {
   "cell_type": "code",
   "execution_count": 3,
   "id": "dynamic-saver",
   "metadata": {
    "execution": {
     "iopub.execute_input": "2021-08-24T00:22:02.566418Z",
     "iopub.status.busy": "2021-08-24T00:22:02.565921Z",
     "iopub.status.idle": "2021-08-24T00:22:02.568483Z",
     "shell.execute_reply": "2021-08-24T00:22:02.568857Z"
    },
    "papermill": {
     "duration": 0.040593,
     "end_time": "2021-08-24T00:22:02.568971",
     "exception": false,
     "start_time": "2021-08-24T00:22:02.528378",
     "status": "completed"
    },
    "tags": []
   },
   "outputs": [
    {
     "data": {
      "text/plain": [
       "'https://raw.githubusercontent.com/pratapvardhan/notebooks/master/covid19/mapping_countries.csv'"
      ]
     },
     "execution_count": 3,
     "metadata": {},
     "output_type": "execute_result"
    }
   ],
   "source": [
    "#hide\n",
    "paths['mapping']"
   ]
  },
  {
   "cell_type": "code",
   "execution_count": 4,
   "id": "urban-software",
   "metadata": {
    "execution": {
     "iopub.execute_input": "2021-08-24T00:22:02.632182Z",
     "iopub.status.busy": "2021-08-24T00:22:02.631678Z",
     "iopub.status.idle": "2021-08-24T00:22:02.633936Z",
     "shell.execute_reply": "2021-08-24T00:22:02.633513Z"
    },
    "papermill": {
     "duration": 0.035718,
     "end_time": "2021-08-24T00:22:02.634034",
     "exception": false,
     "start_time": "2021-08-24T00:22:02.598316",
     "status": "completed"
    },
    "tags": []
   },
   "outputs": [],
   "source": [
    "#hide\n",
    "def get_mappings(url):\n",
    "    df = pd.read_csv(url)\n",
    "    return {\n",
    "        'df': df,\n",
    "        'replace.country': dict(df.dropna(subset=['Name']).set_index('Country')['Name']),\n",
    "        'map.continent': dict(df.set_index('Name')['Continent'])\n",
    "    }"
   ]
  },
  {
   "cell_type": "code",
   "execution_count": 5,
   "id": "intimate-machinery",
   "metadata": {
    "execution": {
     "iopub.execute_input": "2021-08-24T00:22:02.697000Z",
     "iopub.status.busy": "2021-08-24T00:22:02.696503Z",
     "iopub.status.idle": "2021-08-24T00:22:02.722939Z",
     "shell.execute_reply": "2021-08-24T00:22:02.722456Z"
    },
    "papermill": {
     "duration": 0.05985,
     "end_time": "2021-08-24T00:22:02.723056",
     "exception": false,
     "start_time": "2021-08-24T00:22:02.663206",
     "status": "completed"
    },
    "tags": []
   },
   "outputs": [],
   "source": [
    "#hide\n",
    "mapping = get_mappings(paths['mapping'])"
   ]
  },
  {
   "cell_type": "code",
   "execution_count": 6,
   "id": "certified-tactics",
   "metadata": {
    "execution": {
     "iopub.execute_input": "2021-08-24T00:22:02.786757Z",
     "iopub.status.busy": "2021-08-24T00:22:02.786239Z",
     "iopub.status.idle": "2021-08-24T00:22:02.788488Z",
     "shell.execute_reply": "2021-08-24T00:22:02.788094Z"
    },
    "papermill": {
     "duration": 0.035451,
     "end_time": "2021-08-24T00:22:02.788587",
     "exception": false,
     "start_time": "2021-08-24T00:22:02.753136",
     "status": "completed"
    },
    "tags": []
   },
   "outputs": [],
   "source": [
    "#hide\n",
    "def get_template(path):\n",
    "    from urllib.parse import urlparse\n",
    "    if bool(urlparse(path).netloc):\n",
    "        from urllib.request import urlopen\n",
    "        return urlopen(path).read().decode('utf8')\n",
    "    return open(path).read()"
   ]
  },
  {
   "cell_type": "code",
   "execution_count": 7,
   "id": "realistic-blast",
   "metadata": {
    "execution": {
     "iopub.execute_input": "2021-08-24T00:22:02.851403Z",
     "iopub.status.busy": "2021-08-24T00:22:02.850902Z",
     "iopub.status.idle": "2021-08-24T00:22:02.852910Z",
     "shell.execute_reply": "2021-08-24T00:22:02.852493Z"
    },
    "papermill": {
     "duration": 0.035205,
     "end_time": "2021-08-24T00:22:02.853006",
     "exception": false,
     "start_time": "2021-08-24T00:22:02.817801",
     "status": "completed"
    },
    "tags": []
   },
   "outputs": [],
   "source": [
    "#hide\n",
    "def get_frame(name):\n",
    "    url = (\n",
    "        'https://raw.githubusercontent.com/CSSEGISandData/COVID-19/master/csse_covid_19_data/'\n",
    "        f'csse_covid_19_time_series/time_series_covid19_{name}_global.csv')\n",
    "    df = pd.read_csv(url)\n",
    "    # rename countries\n",
    "    df['Country/Region'] = df['Country/Region'].replace(mapping['replace.country'])\n",
    "    return df"
   ]
  },
  {
   "cell_type": "code",
   "execution_count": 8,
   "id": "affiliated-characterization",
   "metadata": {
    "execution": {
     "iopub.execute_input": "2021-08-24T00:22:02.916467Z",
     "iopub.status.busy": "2021-08-24T00:22:02.915970Z",
     "iopub.status.idle": "2021-08-24T00:22:02.917963Z",
     "shell.execute_reply": "2021-08-24T00:22:02.918424Z"
    },
    "papermill": {
     "duration": 0.036264,
     "end_time": "2021-08-24T00:22:02.918533",
     "exception": false,
     "start_time": "2021-08-24T00:22:02.882269",
     "status": "completed"
    },
    "tags": []
   },
   "outputs": [],
   "source": [
    "#hide\n",
    "def get_dates(df):\n",
    "    dt_cols = df.columns[~df.columns.isin(['Province/State', 'Country/Region', 'Lat', 'Long'])]\n",
    "    LAST_DATE_I = -1\n",
    "    # sometimes last column may be empty, then go backwards\n",
    "    for i in range(-1, -len(dt_cols), -1):\n",
    "        if not df[dt_cols[i]].fillna(0).eq(0).all():\n",
    "            LAST_DATE_I = i\n",
    "            break\n",
    "    return LAST_DATE_I, dt_cols"
   ]
  },
  {
   "cell_type": "code",
   "execution_count": 9,
   "id": "recent-optimization",
   "metadata": {
    "execution": {
     "iopub.execute_input": "2021-08-24T00:22:02.981432Z",
     "iopub.status.busy": "2021-08-24T00:22:02.980925Z",
     "iopub.status.idle": "2021-08-24T00:22:03.214808Z",
     "shell.execute_reply": "2021-08-24T00:22:03.215286Z"
    },
    "papermill": {
     "duration": 0.267613,
     "end_time": "2021-08-24T00:22:03.215455",
     "exception": false,
     "start_time": "2021-08-24T00:22:02.947842",
     "status": "completed"
    },
    "tags": []
   },
   "outputs": [],
   "source": [
    "#hide\n",
    "COL_REGION = 'Country/Region'\n",
    "# Confirmed, Recovered, Deaths\n",
    "df = get_frame('confirmed')\n",
    "# dft_: timeseries, dfc_: today country agg\n",
    "dft_cases = df\n",
    "dft_deaths = get_frame('deaths')\n",
    "dft_recovered = get_frame('recovered')\n",
    "LAST_DATE_I, dt_cols = get_dates(df)"
   ]
  },
  {
   "cell_type": "code",
   "execution_count": 10,
   "id": "absolute-copper",
   "metadata": {
    "execution": {
     "iopub.execute_input": "2021-08-24T00:22:03.283641Z",
     "iopub.status.busy": "2021-08-24T00:22:03.283133Z",
     "iopub.status.idle": "2021-08-24T00:22:03.285233Z",
     "shell.execute_reply": "2021-08-24T00:22:03.284809Z"
    },
    "papermill": {
     "duration": 0.036278,
     "end_time": "2021-08-24T00:22:03.285339",
     "exception": false,
     "start_time": "2021-08-24T00:22:03.249061",
     "status": "completed"
    },
    "tags": []
   },
   "outputs": [],
   "source": [
    "#hide\n",
    "LAST_DATE_I, dt_cols = get_dates(df)\n",
    "dt_today =dt_cols[LAST_DATE_I]\n",
    "# dt_5day = dt_cols[LAST_DATE_I - 5]\n",
    "dt_yday = dt_cols[LAST_DATE_I - 1]"
   ]
  },
  {
   "cell_type": "code",
   "execution_count": 11,
   "id": "restricted-sheriff",
   "metadata": {
    "execution": {
     "iopub.execute_input": "2021-08-24T00:22:03.350142Z",
     "iopub.status.busy": "2021-08-24T00:22:03.349637Z",
     "iopub.status.idle": "2021-08-24T00:22:03.355107Z",
     "shell.execute_reply": "2021-08-24T00:22:03.354673Z"
    },
    "papermill": {
     "duration": 0.040431,
     "end_time": "2021-08-24T00:22:03.355211",
     "exception": false,
     "start_time": "2021-08-24T00:22:03.314780",
     "status": "completed"
    },
    "tags": []
   },
   "outputs": [],
   "source": [
    "#hide\n",
    "dfc_cases = dft_cases.groupby(COL_REGION)[dt_today].sum()\n",
    "dfc_deaths = dft_deaths.groupby(COL_REGION)[dt_today].sum()\n",
    "# dfp_cases = dft_cases.groupby(COL_REGION)[dt_5day].sum()\n",
    "# dfp_deaths = dft_deaths.groupby(COL_REGION)[dt_5day].sum()\n",
    "dfp_cases = dft_cases.groupby(COL_REGION)[dt_yday].sum()\n",
    "dfp_deaths = dft_deaths.groupby(COL_REGION)[dt_yday].sum()"
   ]
  },
  {
   "cell_type": "code",
   "execution_count": 12,
   "id": "deluxe-hepatitis",
   "metadata": {
    "execution": {
     "iopub.execute_input": "2021-08-24T00:22:03.419205Z",
     "iopub.status.busy": "2021-08-24T00:22:03.418697Z",
     "iopub.status.idle": "2021-08-24T00:22:03.422487Z",
     "shell.execute_reply": "2021-08-24T00:22:03.422067Z"
    },
    "papermill": {
     "duration": 0.038044,
     "end_time": "2021-08-24T00:22:03.422612",
     "exception": false,
     "start_time": "2021-08-24T00:22:03.384568",
     "status": "completed"
    },
    "tags": []
   },
   "outputs": [],
   "source": [
    "#hide\n",
    "df_table = (pd.DataFrame(dict(Cases = dfc_cases, Deaths = dfc_deaths, PCases = dfp_cases, PDeaths = dfp_deaths))\n",
    "            .sort_values(by = ['Cases','Deaths'], ascending = [False, False])\n",
    "            .reset_index())"
   ]
  },
  {
   "cell_type": "code",
   "execution_count": 13,
   "id": "educational-chancellor",
   "metadata": {
    "execution": {
     "iopub.execute_input": "2021-08-24T00:22:03.496734Z",
     "iopub.status.busy": "2021-08-24T00:22:03.496226Z",
     "iopub.status.idle": "2021-08-24T00:22:03.503342Z",
     "shell.execute_reply": "2021-08-24T00:22:03.502916Z"
    },
    "papermill": {
     "duration": 0.051586,
     "end_time": "2021-08-24T00:22:03.503445",
     "exception": false,
     "start_time": "2021-08-24T00:22:03.451859",
     "status": "completed"
    },
    "tags": []
   },
   "outputs": [
    {
     "data": {
      "text/html": [
       "<div>\n",
       "<style scoped>\n",
       "    .dataframe tbody tr th:only-of-type {\n",
       "        vertical-align: middle;\n",
       "    }\n",
       "\n",
       "    .dataframe tbody tr th {\n",
       "        vertical-align: top;\n",
       "    }\n",
       "\n",
       "    .dataframe thead th {\n",
       "        text-align: right;\n",
       "    }\n",
       "</style>\n",
       "<table border=\"1\" class=\"dataframe\">\n",
       "  <thead>\n",
       "    <tr style=\"text-align: right;\">\n",
       "      <th></th>\n",
       "      <th>Country/Region</th>\n",
       "      <th>Cases</th>\n",
       "      <th>Deaths</th>\n",
       "      <th>PCases</th>\n",
       "      <th>PDeaths</th>\n",
       "      <th>Cases (+)</th>\n",
       "      <th>Deaths (+)</th>\n",
       "      <th>Fatality Rate</th>\n",
       "      <th>Continent</th>\n",
       "    </tr>\n",
       "  </thead>\n",
       "  <tbody>\n",
       "    <tr>\n",
       "      <th>0</th>\n",
       "      <td>US</td>\n",
       "      <td>37709810</td>\n",
       "      <td>628503</td>\n",
       "      <td>37673118</td>\n",
       "      <td>628303</td>\n",
       "      <td>36692</td>\n",
       "      <td>200</td>\n",
       "      <td>1.67</td>\n",
       "      <td>North America</td>\n",
       "    </tr>\n",
       "    <tr>\n",
       "      <th>1</th>\n",
       "      <td>India</td>\n",
       "      <td>32449306</td>\n",
       "      <td>434756</td>\n",
       "      <td>32424234</td>\n",
       "      <td>434367</td>\n",
       "      <td>25072</td>\n",
       "      <td>389</td>\n",
       "      <td>1.34</td>\n",
       "      <td>Asia</td>\n",
       "    </tr>\n",
       "    <tr>\n",
       "      <th>2</th>\n",
       "      <td>Brazil</td>\n",
       "      <td>20570891</td>\n",
       "      <td>574527</td>\n",
       "      <td>20556487</td>\n",
       "      <td>574209</td>\n",
       "      <td>14404</td>\n",
       "      <td>318</td>\n",
       "      <td>2.79</td>\n",
       "      <td>South America</td>\n",
       "    </tr>\n",
       "    <tr>\n",
       "      <th>3</th>\n",
       "      <td>France</td>\n",
       "      <td>6700252</td>\n",
       "      <td>113472</td>\n",
       "      <td>6682952</td>\n",
       "      <td>113472</td>\n",
       "      <td>17300</td>\n",
       "      <td>0</td>\n",
       "      <td>1.69</td>\n",
       "      <td>Europe</td>\n",
       "    </tr>\n",
       "    <tr>\n",
       "      <th>4</th>\n",
       "      <td>Russia</td>\n",
       "      <td>6653498</td>\n",
       "      <td>173003</td>\n",
       "      <td>6633521</td>\n",
       "      <td>172257</td>\n",
       "      <td>19977</td>\n",
       "      <td>746</td>\n",
       "      <td>2.60</td>\n",
       "      <td>Europe</td>\n",
       "    </tr>\n",
       "  </tbody>\n",
       "</table>\n",
       "</div>"
      ],
      "text/plain": [
       "  Country/Region     Cases  Deaths    PCases  PDeaths  Cases (+)  Deaths (+)  \\\n",
       "0             US  37709810  628503  37673118   628303      36692         200   \n",
       "1          India  32449306  434756  32424234   434367      25072         389   \n",
       "2         Brazil  20570891  574527  20556487   574209      14404         318   \n",
       "3         France   6700252  113472   6682952   113472      17300           0   \n",
       "4         Russia   6653498  173003   6633521   172257      19977         746   \n",
       "\n",
       "   Fatality Rate      Continent  \n",
       "0           1.67  North America  \n",
       "1           1.34           Asia  \n",
       "2           2.79  South America  \n",
       "3           1.69         Europe  \n",
       "4           2.60         Europe  "
      ]
     },
     "execution_count": 13,
     "metadata": {},
     "output_type": "execute_result"
    }
   ],
   "source": [
    "#hide\n",
    "for c in 'Cases, Deaths'.split(', '):\n",
    "    df_table[f'{c} (+)'] = (df_table[c] - df_table[f'P{c}']).clip(0)\n",
    "    #Clip ça veut dire, les chiffres negatif sont interdit\n",
    "df_table['Fatality Rate'] = (100* df_table['Deaths']/ df_table['Cases']).round(2)\n",
    "df_table['Continent'] = df_table['Country/Region'].map(mapping['map.continent'])\n",
    "df_table.head(5)"
   ]
  },
  {
   "cell_type": "code",
   "execution_count": 14,
   "id": "aboriginal-bulgaria",
   "metadata": {
    "execution": {
     "iopub.execute_input": "2021-08-24T00:22:03.567955Z",
     "iopub.status.busy": "2021-08-24T00:22:03.567461Z",
     "iopub.status.idle": "2021-08-24T00:22:03.569680Z",
     "shell.execute_reply": "2021-08-24T00:22:03.569283Z"
    },
    "papermill": {
     "duration": 0.036403,
     "end_time": "2021-08-24T00:22:03.569781",
     "exception": false,
     "start_time": "2021-08-24T00:22:03.533378",
     "status": "completed"
    },
    "tags": []
   },
   "outputs": [],
   "source": [
    "#hide\n",
    "#delete problematic countries from table\n",
    "df_table = df_table[~df_table['Country/Region'].isin(['Cape Verde', 'Cruise Ship', 'Kosovo'])]"
   ]
  },
  {
   "cell_type": "code",
   "execution_count": 15,
   "id": "fantastic-effect",
   "metadata": {
    "execution": {
     "iopub.execute_input": "2021-08-24T00:22:03.635345Z",
     "iopub.status.busy": "2021-08-24T00:22:03.634843Z",
     "iopub.status.idle": "2021-08-24T00:22:03.649585Z",
     "shell.execute_reply": "2021-08-24T00:22:03.649161Z"
    },
    "papermill": {
     "duration": 0.050238,
     "end_time": "2021-08-24T00:22:03.649684",
     "exception": false,
     "start_time": "2021-08-24T00:22:03.599446",
     "status": "completed"
    },
    "tags": []
   },
   "outputs": [
    {
     "data": {
      "text/html": [
       "<div>\n",
       "<style scoped>\n",
       "    .dataframe tbody tr th:only-of-type {\n",
       "        vertical-align: middle;\n",
       "    }\n",
       "\n",
       "    .dataframe tbody tr th {\n",
       "        vertical-align: top;\n",
       "    }\n",
       "\n",
       "    .dataframe thead th {\n",
       "        text-align: right;\n",
       "    }\n",
       "</style>\n",
       "<table border=\"1\" class=\"dataframe\">\n",
       "  <thead>\n",
       "    <tr style=\"text-align: right;\">\n",
       "      <th></th>\n",
       "      <th>Country/Region</th>\n",
       "      <th>Cases</th>\n",
       "      <th>Deaths</th>\n",
       "      <th>PCases</th>\n",
       "      <th>PDeaths</th>\n",
       "      <th>Cases (+)</th>\n",
       "      <th>Deaths (+)</th>\n",
       "      <th>Fatality Rate</th>\n",
       "      <th>Continent</th>\n",
       "    </tr>\n",
       "  </thead>\n",
       "  <tbody>\n",
       "    <tr>\n",
       "      <th>0</th>\n",
       "      <td>US</td>\n",
       "      <td>37709810</td>\n",
       "      <td>628503</td>\n",
       "      <td>37673118</td>\n",
       "      <td>628303</td>\n",
       "      <td>36692</td>\n",
       "      <td>200</td>\n",
       "      <td>1.7</td>\n",
       "      <td>North America</td>\n",
       "    </tr>\n",
       "    <tr>\n",
       "      <th>1</th>\n",
       "      <td>India</td>\n",
       "      <td>32449306</td>\n",
       "      <td>434756</td>\n",
       "      <td>32424234</td>\n",
       "      <td>434367</td>\n",
       "      <td>25072</td>\n",
       "      <td>389</td>\n",
       "      <td>1.3</td>\n",
       "      <td>Asia</td>\n",
       "    </tr>\n",
       "    <tr>\n",
       "      <th>2</th>\n",
       "      <td>Brazil</td>\n",
       "      <td>20570891</td>\n",
       "      <td>574527</td>\n",
       "      <td>20556487</td>\n",
       "      <td>574209</td>\n",
       "      <td>14404</td>\n",
       "      <td>318</td>\n",
       "      <td>2.8</td>\n",
       "      <td>South America</td>\n",
       "    </tr>\n",
       "    <tr>\n",
       "      <th>3</th>\n",
       "      <td>France</td>\n",
       "      <td>6700252</td>\n",
       "      <td>113472</td>\n",
       "      <td>6682952</td>\n",
       "      <td>113472</td>\n",
       "      <td>17300</td>\n",
       "      <td>0</td>\n",
       "      <td>1.7</td>\n",
       "      <td>Europe</td>\n",
       "    </tr>\n",
       "    <tr>\n",
       "      <th>4</th>\n",
       "      <td>Russia</td>\n",
       "      <td>6653498</td>\n",
       "      <td>173003</td>\n",
       "      <td>6633521</td>\n",
       "      <td>172257</td>\n",
       "      <td>19977</td>\n",
       "      <td>746</td>\n",
       "      <td>2.6</td>\n",
       "      <td>Europe</td>\n",
       "    </tr>\n",
       "  </tbody>\n",
       "</table>\n",
       "</div>"
      ],
      "text/plain": [
       "  Country/Region     Cases  Deaths    PCases  PDeaths  Cases (+)  Deaths (+)  \\\n",
       "0             US  37709810  628503  37673118   628303      36692         200   \n",
       "1          India  32449306  434756  32424234   434367      25072         389   \n",
       "2         Brazil  20570891  574527  20556487   574209      14404         318   \n",
       "3         France   6700252  113472   6682952   113472      17300           0   \n",
       "4         Russia   6653498  173003   6633521   172257      19977         746   \n",
       "\n",
       "   Fatality Rate      Continent  \n",
       "0            1.7  North America  \n",
       "1            1.3           Asia  \n",
       "2            2.8  South America  \n",
       "3            1.7         Europe  \n",
       "4            2.6         Europe  "
      ]
     },
     "execution_count": 15,
     "metadata": {},
     "output_type": "execute_result"
    }
   ],
   "source": [
    "#hide\n",
    "df_table = (pd.DataFrame(dict(Cases=dfc_cases, Deaths=dfc_deaths, PCases=dfp_cases, PDeaths=dfp_deaths))\n",
    "             .sort_values(by=['Cases', 'Deaths'], ascending=[False, False])\n",
    "             .reset_index())\n",
    "df_table.rename(columns={'index': 'Country/Region'}, inplace=True)\n",
    "for c in 'Cases, Deaths'.split(', '):\n",
    "    df_table[f'{c} (+)'] = (df_table[c] - df_table[f'P{c}']).clip(0)  # DATA BUG\n",
    "df_table['Fatality Rate'] = (100 * df_table['Deaths'] / df_table['Cases']).round(1)\n",
    "df_table['Continent'] = df_table['Country/Region'].map(mapping['map.continent'])\n",
    "df_table.head(5)"
   ]
  },
  {
   "cell_type": "code",
   "execution_count": 16,
   "id": "fewer-occasion",
   "metadata": {
    "execution": {
     "iopub.execute_input": "2021-08-24T00:22:03.714396Z",
     "iopub.status.busy": "2021-08-24T00:22:03.713902Z",
     "iopub.status.idle": "2021-08-24T00:22:03.715900Z",
     "shell.execute_reply": "2021-08-24T00:22:03.715487Z"
    },
    "papermill": {
     "duration": 0.036066,
     "end_time": "2021-08-24T00:22:03.715996",
     "exception": false,
     "start_time": "2021-08-24T00:22:03.679930",
     "status": "completed"
    },
    "tags": []
   },
   "outputs": [],
   "source": [
    "#hide\n",
    "#delete problematic countries from table\n",
    "df_table = df_table[~df_table['Country/Region'].isin(['Cape Verde', 'Cruise Ship', 'Kosovo'])]"
   ]
  },
  {
   "cell_type": "code",
   "execution_count": 17,
   "id": "related-center",
   "metadata": {
    "execution": {
     "iopub.execute_input": "2021-08-24T00:22:03.792327Z",
     "iopub.status.busy": "2021-08-24T00:22:03.791825Z",
     "iopub.status.idle": "2021-08-24T00:22:03.793341Z",
     "shell.execute_reply": "2021-08-24T00:22:03.793714Z"
    },
    "papermill": {
     "duration": 0.047596,
     "end_time": "2021-08-24T00:22:03.793824",
     "exception": false,
     "start_time": "2021-08-24T00:22:03.746228",
     "status": "completed"
    },
    "tags": []
   },
   "outputs": [],
   "source": [
    "#hide\n",
    "metrics = [df_table.columns[index] for index in [1,2,5,6]]\n",
    "# s_china = df_table[df_table['Country/Region'].eq('China')][metrics].sum().add_prefix('China ')\n",
    "s_us = df_table[df_table['Country/Region'].eq('US')][metrics].sum().add_prefix('US ')\n",
    "s_eu = df_table[df_table['Continent'].eq('Europe')][metrics].sum().add_prefix('EU ')\n",
    "s_ind = df_table[df_table['Country/Region'].eq('India')][metrics].sum().add_prefix('India ')\n",
    "summary = {'updated': pd.to_datetime(dt_today), 'since': pd.to_datetime(dt_yday)}\n",
    "summary = {'updated': pd.to_datetime(dt_today), 'since': pd.to_datetime(dt_yday)}\n",
    "summary = {**summary, **df_table[metrics].sum(), **s_ind, **s_us, **s_eu}"
   ]
  },
  {
   "cell_type": "code",
   "execution_count": 18,
   "id": "engaging-syndrome",
   "metadata": {
    "execution": {
     "iopub.execute_input": "2021-08-24T00:22:03.858265Z",
     "iopub.status.busy": "2021-08-24T00:22:03.857774Z",
     "iopub.status.idle": "2021-08-24T00:22:03.871048Z",
     "shell.execute_reply": "2021-08-24T00:22:03.870621Z"
    },
    "papermill": {
     "duration": 0.047058,
     "end_time": "2021-08-24T00:22:03.871145",
     "exception": false,
     "start_time": "2021-08-24T00:22:03.824087",
     "status": "completed"
    },
    "tags": []
   },
   "outputs": [],
   "source": [
    "#hide\n",
    "dft_ct_new_cases = dft_cases.groupby(COL_REGION)[dt_cols].sum().diff(axis=1).fillna(0).astype(int)"
   ]
  },
  {
   "cell_type": "code",
   "execution_count": 19,
   "id": "neutral-assignment",
   "metadata": {
    "execution": {
     "iopub.execute_input": "2021-08-24T00:22:03.936671Z",
     "iopub.status.busy": "2021-08-24T00:22:03.936172Z",
     "iopub.status.idle": "2021-08-24T00:22:03.937673Z",
     "shell.execute_reply": "2021-08-24T00:22:03.938067Z"
    },
    "papermill": {
     "duration": 0.036817,
     "end_time": "2021-08-24T00:22:03.938180",
     "exception": false,
     "start_time": "2021-08-24T00:22:03.901363",
     "status": "completed"
    },
    "tags": []
   },
   "outputs": [],
   "source": [
    "#hide\n",
    "everydaycases = dft_ct_new_cases.cumsum(axis=1)"
   ]
  },
  {
   "cell_type": "code",
   "execution_count": 20,
   "id": "parliamentary-calgary",
   "metadata": {
    "execution": {
     "iopub.execute_input": "2021-08-24T00:22:04.002160Z",
     "iopub.status.busy": "2021-08-24T00:22:04.001660Z",
     "iopub.status.idle": "2021-08-24T00:22:04.647918Z",
     "shell.execute_reply": "2021-08-24T00:22:04.647403Z"
    },
    "papermill": {
     "duration": 0.679597,
     "end_time": "2021-08-24T00:22:04.648068",
     "exception": false,
     "start_time": "2021-08-24T00:22:03.968471",
     "status": "completed"
    },
    "tags": []
   },
   "outputs": [],
   "source": [
    "#hide\n",
    "import pandas as pd\n",
    "import matplotlib.pyplot as plt\n",
    "import matplotlib.ticker as ticker\n",
    "import matplotlib.animation as animation\n",
    "from IPython.display import HTML"
   ]
  },
  {
   "cell_type": "code",
   "execution_count": 21,
   "id": "lasting-extraction",
   "metadata": {
    "execution": {
     "iopub.execute_input": "2021-08-24T00:22:04.715042Z",
     "iopub.status.busy": "2021-08-24T00:22:04.714509Z",
     "iopub.status.idle": "2021-08-24T00:22:04.719927Z",
     "shell.execute_reply": "2021-08-24T00:22:04.719524Z"
    },
    "papermill": {
     "duration": 0.040433,
     "end_time": "2021-08-24T00:22:04.720035",
     "exception": false,
     "start_time": "2021-08-24T00:22:04.679602",
     "status": "completed"
    },
    "tags": []
   },
   "outputs": [],
   "source": [
    "#hide\n",
    "t = everydaycases.stack()"
   ]
  },
  {
   "cell_type": "code",
   "execution_count": 22,
   "id": "premier-sleeve",
   "metadata": {
    "execution": {
     "iopub.execute_input": "2021-08-24T00:22:04.784789Z",
     "iopub.status.busy": "2021-08-24T00:22:04.784284Z",
     "iopub.status.idle": "2021-08-24T00:22:04.791421Z",
     "shell.execute_reply": "2021-08-24T00:22:04.790996Z"
    },
    "papermill": {
     "duration": 0.041144,
     "end_time": "2021-08-24T00:22:04.791524",
     "exception": false,
     "start_time": "2021-08-24T00:22:04.750380",
     "status": "completed"
    },
    "tags": []
   },
   "outputs": [],
   "source": [
    "#hide\n",
    "g = t.reset_index(['Country/Region'])"
   ]
  },
  {
   "cell_type": "code",
   "execution_count": 23,
   "id": "distributed-pittsburgh",
   "metadata": {
    "execution": {
     "iopub.execute_input": "2021-08-24T00:22:04.855579Z",
     "iopub.status.busy": "2021-08-24T00:22:04.855079Z",
     "iopub.status.idle": "2021-08-24T00:22:04.857275Z",
     "shell.execute_reply": "2021-08-24T00:22:04.856854Z"
    },
    "papermill": {
     "duration": 0.035704,
     "end_time": "2021-08-24T00:22:04.857380",
     "exception": false,
     "start_time": "2021-08-24T00:22:04.821676",
     "status": "completed"
    },
    "tags": []
   },
   "outputs": [],
   "source": [
    "#hide\n",
    "g.index.name = 'date'"
   ]
  },
  {
   "cell_type": "code",
   "execution_count": 24,
   "id": "naked-donor",
   "metadata": {
    "execution": {
     "iopub.execute_input": "2021-08-24T00:22:04.920857Z",
     "iopub.status.busy": "2021-08-24T00:22:04.920356Z",
     "iopub.status.idle": "2021-08-24T00:22:04.922164Z",
     "shell.execute_reply": "2021-08-24T00:22:04.922565Z"
    },
    "papermill": {
     "duration": 0.035105,
     "end_time": "2021-08-24T00:22:04.922702",
     "exception": false,
     "start_time": "2021-08-24T00:22:04.887597",
     "status": "completed"
    },
    "tags": []
   },
   "outputs": [],
   "source": [
    "# #hide\n",
    "# g = g.reset_index(['date'])"
   ]
  },
  {
   "cell_type": "code",
   "execution_count": 25,
   "id": "incomplete-mustang",
   "metadata": {
    "execution": {
     "iopub.execute_input": "2021-08-24T00:22:04.986084Z",
     "iopub.status.busy": "2021-08-24T00:22:04.985591Z",
     "iopub.status.idle": "2021-08-24T00:22:04.987848Z",
     "shell.execute_reply": "2021-08-24T00:22:04.987444Z"
    },
    "papermill": {
     "duration": 0.035096,
     "end_time": "2021-08-24T00:22:04.987953",
     "exception": false,
     "start_time": "2021-08-24T00:22:04.952857",
     "status": "completed"
    },
    "tags": []
   },
   "outputs": [],
   "source": [
    "#hide\n",
    "# g.head()"
   ]
  },
  {
   "cell_type": "code",
   "execution_count": 26,
   "id": "specific-kruger",
   "metadata": {
    "execution": {
     "iopub.execute_input": "2021-08-24T00:22:05.051621Z",
     "iopub.status.busy": "2021-08-24T00:22:05.051119Z",
     "iopub.status.idle": "2021-08-24T00:22:05.053116Z",
     "shell.execute_reply": "2021-08-24T00:22:05.052697Z"
    },
    "papermill": {
     "duration": 0.034945,
     "end_time": "2021-08-24T00:22:05.053218",
     "exception": false,
     "start_time": "2021-08-24T00:22:05.018273",
     "status": "completed"
    },
    "tags": []
   },
   "outputs": [],
   "source": [
    "#hide\n",
    "# g.columns = ['date','country','cases']"
   ]
  },
  {
   "cell_type": "code",
   "execution_count": 27,
   "id": "tender-conversion",
   "metadata": {
    "execution": {
     "iopub.execute_input": "2021-08-24T00:22:05.116945Z",
     "iopub.status.busy": "2021-08-24T00:22:05.116440Z",
     "iopub.status.idle": "2021-08-24T00:22:05.118628Z",
     "shell.execute_reply": "2021-08-24T00:22:05.118209Z"
    },
    "papermill": {
     "duration": 0.035409,
     "end_time": "2021-08-24T00:22:05.118736",
     "exception": false,
     "start_time": "2021-08-24T00:22:05.083327",
     "status": "completed"
    },
    "tags": []
   },
   "outputs": [],
   "source": [
    "#hide\n",
    "# g['continent'] = g.country"
   ]
  },
  {
   "cell_type": "code",
   "execution_count": 28,
   "id": "substantial-wilderness",
   "metadata": {
    "execution": {
     "iopub.execute_input": "2021-08-24T00:22:05.182666Z",
     "iopub.status.busy": "2021-08-24T00:22:05.182137Z",
     "iopub.status.idle": "2021-08-24T00:22:05.183842Z",
     "shell.execute_reply": "2021-08-24T00:22:05.184266Z"
    },
    "papermill": {
     "duration": 0.035358,
     "end_time": "2021-08-24T00:22:05.184379",
     "exception": false,
     "start_time": "2021-08-24T00:22:05.149021",
     "status": "completed"
    },
    "tags": []
   },
   "outputs": [],
   "source": [
    "#hide\n",
    "# cols = list(g.columns.values)"
   ]
  },
  {
   "cell_type": "code",
   "execution_count": 29,
   "id": "solved-farming",
   "metadata": {
    "execution": {
     "iopub.execute_input": "2021-08-24T00:22:05.247783Z",
     "iopub.status.busy": "2021-08-24T00:22:05.247289Z",
     "iopub.status.idle": "2021-08-24T00:22:05.249532Z",
     "shell.execute_reply": "2021-08-24T00:22:05.249134Z"
    },
    "papermill": {
     "duration": 0.035143,
     "end_time": "2021-08-24T00:22:05.249637",
     "exception": false,
     "start_time": "2021-08-24T00:22:05.214494",
     "status": "completed"
    },
    "tags": []
   },
   "outputs": [],
   "source": [
    "#hide\n",
    "# cols.insert(0, cols.pop())"
   ]
  },
  {
   "cell_type": "code",
   "execution_count": 30,
   "id": "executed-adoption",
   "metadata": {
    "execution": {
     "iopub.execute_input": "2021-08-24T00:22:05.313166Z",
     "iopub.status.busy": "2021-08-24T00:22:05.312667Z",
     "iopub.status.idle": "2021-08-24T00:22:05.314919Z",
     "shell.execute_reply": "2021-08-24T00:22:05.314498Z"
    },
    "papermill": {
     "duration": 0.035129,
     "end_time": "2021-08-24T00:22:05.315025",
     "exception": false,
     "start_time": "2021-08-24T00:22:05.279896",
     "status": "completed"
    },
    "tags": []
   },
   "outputs": [],
   "source": [
    "#hide\n",
    "# g = g[cols]"
   ]
  },
  {
   "cell_type": "code",
   "execution_count": 31,
   "id": "subject-dublin",
   "metadata": {
    "execution": {
     "iopub.execute_input": "2021-08-24T00:22:05.378247Z",
     "iopub.status.busy": "2021-08-24T00:22:05.377749Z",
     "iopub.status.idle": "2021-08-24T00:22:05.379571Z",
     "shell.execute_reply": "2021-08-24T00:22:05.379971Z"
    },
    "papermill": {
     "duration": 0.034959,
     "end_time": "2021-08-24T00:22:05.380081",
     "exception": false,
     "start_time": "2021-08-24T00:22:05.345122",
     "status": "completed"
    },
    "tags": []
   },
   "outputs": [],
   "source": [
    "#hide\n",
    "# g['continent'] = g['continent'].map(mapping['map.continent'])"
   ]
  },
  {
   "cell_type": "code",
   "execution_count": 32,
   "id": "freelance-scout",
   "metadata": {
    "execution": {
     "iopub.execute_input": "2021-08-24T00:22:05.443384Z",
     "iopub.status.busy": "2021-08-24T00:22:05.442883Z",
     "iopub.status.idle": "2021-08-24T00:22:05.444618Z",
     "shell.execute_reply": "2021-08-24T00:22:05.445079Z"
    },
    "papermill": {
     "duration": 0.034892,
     "end_time": "2021-08-24T00:22:05.445188",
     "exception": false,
     "start_time": "2021-08-24T00:22:05.410296",
     "status": "completed"
    },
    "tags": []
   },
   "outputs": [],
   "source": [
    "#hide\n",
    "# g.head()"
   ]
  },
  {
   "cell_type": "code",
   "execution_count": 33,
   "id": "limited-engine",
   "metadata": {
    "execution": {
     "iopub.execute_input": "2021-08-24T00:22:05.508313Z",
     "iopub.status.busy": "2021-08-24T00:22:05.507820Z",
     "iopub.status.idle": "2021-08-24T00:22:05.509386Z",
     "shell.execute_reply": "2021-08-24T00:22:05.509808Z"
    },
    "papermill": {
     "duration": 0.0347,
     "end_time": "2021-08-24T00:22:05.509917",
     "exception": false,
     "start_time": "2021-08-24T00:22:05.475217",
     "status": "completed"
    },
    "tags": []
   },
   "outputs": [],
   "source": [
    "# hide\n",
    "# g['date'] = g['date'].astype('datetime64[ns]')"
   ]
  },
  {
   "cell_type": "code",
   "execution_count": 34,
   "id": "sophisticated-supervisor",
   "metadata": {
    "execution": {
     "iopub.execute_input": "2021-08-24T00:22:05.573176Z",
     "iopub.status.busy": "2021-08-24T00:22:05.572681Z",
     "iopub.status.idle": "2021-08-24T00:22:05.574858Z",
     "shell.execute_reply": "2021-08-24T00:22:05.574411Z"
    },
    "papermill": {
     "duration": 0.034756,
     "end_time": "2021-08-24T00:22:05.574958",
     "exception": false,
     "start_time": "2021-08-24T00:22:05.540202",
     "status": "completed"
    },
    "tags": []
   },
   "outputs": [],
   "source": [
    "#hide\n",
    "# g['date'] = g.date.dt.dayofyear"
   ]
  },
  {
   "cell_type": "code",
   "execution_count": 35,
   "id": "inside-dubai",
   "metadata": {
    "execution": {
     "iopub.execute_input": "2021-08-24T00:22:05.638199Z",
     "iopub.status.busy": "2021-08-24T00:22:05.637700Z",
     "iopub.status.idle": "2021-08-24T00:22:05.639533Z",
     "shell.execute_reply": "2021-08-24T00:22:05.639958Z"
    },
    "papermill": {
     "duration": 0.034967,
     "end_time": "2021-08-24T00:22:05.640067",
     "exception": false,
     "start_time": "2021-08-24T00:22:05.605100",
     "status": "completed"
    },
    "tags": []
   },
   "outputs": [],
   "source": [
    "#hide\n",
    "# g = g.rename(columns= {'continent':'group','country':'name','cases':'value'})"
   ]
  },
  {
   "cell_type": "code",
   "execution_count": 36,
   "id": "fleet-motorcycle",
   "metadata": {
    "execution": {
     "iopub.execute_input": "2021-08-24T00:22:05.703336Z",
     "iopub.status.busy": "2021-08-24T00:22:05.702837Z",
     "iopub.status.idle": "2021-08-24T00:22:05.704608Z",
     "shell.execute_reply": "2021-08-24T00:22:05.704984Z"
    },
    "papermill": {
     "duration": 0.034801,
     "end_time": "2021-08-24T00:22:05.705094",
     "exception": false,
     "start_time": "2021-08-24T00:22:05.670293",
     "status": "completed"
    },
    "tags": []
   },
   "outputs": [],
   "source": [
    "#hide\n",
    "# cols = ['name','group','day','value']"
   ]
  },
  {
   "cell_type": "code",
   "execution_count": 37,
   "id": "continued-sleeping",
   "metadata": {
    "execution": {
     "iopub.execute_input": "2021-08-24T00:22:05.768250Z",
     "iopub.status.busy": "2021-08-24T00:22:05.767755Z",
     "iopub.status.idle": "2021-08-24T00:22:05.769916Z",
     "shell.execute_reply": "2021-08-24T00:22:05.769497Z"
    },
    "papermill": {
     "duration": 0.034767,
     "end_time": "2021-08-24T00:22:05.770011",
     "exception": false,
     "start_time": "2021-08-24T00:22:05.735244",
     "status": "completed"
    },
    "tags": []
   },
   "outputs": [],
   "source": [
    "#hide\n",
    "# g.rename(columns= {'date':'day'},inplace = True)"
   ]
  },
  {
   "cell_type": "code",
   "execution_count": 38,
   "id": "major-fight",
   "metadata": {
    "execution": {
     "iopub.execute_input": "2021-08-24T00:22:05.833544Z",
     "iopub.status.busy": "2021-08-24T00:22:05.833053Z",
     "iopub.status.idle": "2021-08-24T00:22:05.834883Z",
     "shell.execute_reply": "2021-08-24T00:22:05.835311Z"
    },
    "papermill": {
     "duration": 0.035058,
     "end_time": "2021-08-24T00:22:05.835419",
     "exception": false,
     "start_time": "2021-08-24T00:22:05.800361",
     "status": "completed"
    },
    "tags": []
   },
   "outputs": [],
   "source": [
    "#hide\n",
    "# g = g[cols]"
   ]
  },
  {
   "cell_type": "code",
   "execution_count": 39,
   "id": "structured-mobile",
   "metadata": {
    "execution": {
     "iopub.execute_input": "2021-08-24T00:22:05.898447Z",
     "iopub.status.busy": "2021-08-24T00:22:05.897954Z",
     "iopub.status.idle": "2021-08-24T00:22:05.900192Z",
     "shell.execute_reply": "2021-08-24T00:22:05.899797Z"
    },
    "papermill": {
     "duration": 0.034824,
     "end_time": "2021-08-24T00:22:05.900291",
     "exception": false,
     "start_time": "2021-08-24T00:22:05.865467",
     "status": "completed"
    },
    "tags": []
   },
   "outputs": [],
   "source": [
    "# #hide\n",
    "# g = g[g.group.notna()]"
   ]
  },
  {
   "cell_type": "code",
   "execution_count": 40,
   "id": "determined-closing",
   "metadata": {
    "execution": {
     "iopub.execute_input": "2021-08-24T00:22:05.963815Z",
     "iopub.status.busy": "2021-08-24T00:22:05.963316Z",
     "iopub.status.idle": "2021-08-24T00:22:05.964888Z",
     "shell.execute_reply": "2021-08-24T00:22:05.965284Z"
    },
    "papermill": {
     "duration": 0.034787,
     "end_time": "2021-08-24T00:22:05.965390",
     "exception": false,
     "start_time": "2021-08-24T00:22:05.930603",
     "status": "completed"
    },
    "tags": []
   },
   "outputs": [],
   "source": [
    "# #hide\n",
    "# colors = dict(zip(\n",
    "#     [\"Oceania\", \"Europe\", \"Asia\", \"South America\", \"Middle East\", \"North America\", \"Africa\"],\n",
    "#     [\"#adb0ff\", \"#ffb3ff\", \"#90d595\", \"#e48381\", \"#aafbff\", \"#f7bb5f\", \"#eafb50\"]\n",
    "# ))\n",
    "# group_lk = g.set_index('name')['group'].to_dict()"
   ]
  },
  {
   "cell_type": "code",
   "execution_count": null,
   "id": "gross-drinking",
   "metadata": {
    "papermill": {
     "duration": 0.030073,
     "end_time": "2021-08-24T00:22:06.025661",
     "exception": false,
     "start_time": "2021-08-24T00:22:05.995588",
     "status": "completed"
    },
    "tags": []
   },
   "outputs": [],
   "source": []
  },
  {
   "cell_type": "code",
   "execution_count": 41,
   "id": "subject-macintosh",
   "metadata": {
    "execution": {
     "iopub.execute_input": "2021-08-24T00:22:06.090291Z",
     "iopub.status.busy": "2021-08-24T00:22:06.089778Z",
     "iopub.status.idle": "2021-08-24T00:22:06.092064Z",
     "shell.execute_reply": "2021-08-24T00:22:06.091639Z"
    },
    "papermill": {
     "duration": 0.036095,
     "end_time": "2021-08-24T00:22:06.092166",
     "exception": false,
     "start_time": "2021-08-24T00:22:06.056071",
     "status": "completed"
    },
    "tags": []
   },
   "outputs": [],
   "source": [
    "# #hide\n",
    "# fig, ax = plt.subplots(figsize=(15, 8))\n",
    "\n",
    "# def draw_barchart(current_day):\n",
    "#     dff = g[g['day'].eq(current_day)].sort_values(by='value', ascending=True).tail(10)\n",
    "#     ax.clear()\n",
    "#     ax.barh(dff['name'], dff['value'], color=[colors[group_lk[x]] for x in dff['name']])\n",
    "#     dx = dff['value'].max() / 200\n",
    "    \n",
    "#     for i, (value, name) in enumerate(zip(dff['value'], dff['name'])):\n",
    "#         ax.text(value-dx, i,     name,           size=14, weight=600, ha='right', va='bottom')\n",
    "#         ax.text(value-dx, i-.25, group_lk[name], size=10, color='#444444', ha='right', va='baseline')\n",
    "#         ax.text(value+dx, i,     f'{value:,.0f}',  size=14, ha='left',  va='center')\n",
    "#     ax.text(1, 0.4, current_day, transform=ax.transAxes, color='#777777', size=46, ha='right', weight=800)\n",
    "#     ax.text(0, 1.06, 'Population (thousands)', transform=ax.transAxes, size=12, color='#777777')\n",
    "#     ax.xaxis.set_major_formatter(ticker.StrMethodFormatter('{x:,.0f}'))\n",
    "#     ax.xaxis.set_ticks_position('top')\n",
    "#     ax.tick_params(axis='x', colors='#777777', labelsize=12)\n",
    "#     ax.set_yticks([])\n",
    "#     ax.margins(0, 0.01)\n",
    "#     ax.grid(which='major', axis='x', linestyle='-')\n",
    "#     ax.set_axisbelow(True)\n",
    "    \n",
    "#     ax.text(0, 1.15, 'Coronavirus',\n",
    "#             transform=ax.transAxes, size=24, weight=600, ha='left', va='top')\n",
    "# #     ax.text(1, 0, 'by @pratapvardhan; credit @jburnmurdoch', transform=ax.transAxes, color='#777777', ha='right',\n",
    "# #             bbox=dict(facecolor='white', alpha=0.8, edgecolor='white'))\n",
    "#     plt.box(False)"
   ]
  },
  {
   "cell_type": "code",
   "execution_count": 42,
   "id": "sexual-wages",
   "metadata": {
    "execution": {
     "iopub.execute_input": "2021-08-24T00:22:06.155762Z",
     "iopub.status.busy": "2021-08-24T00:22:06.155258Z",
     "iopub.status.idle": "2021-08-24T00:22:06.157435Z",
     "shell.execute_reply": "2021-08-24T00:22:06.157015Z"
    },
    "papermill": {
     "duration": 0.035146,
     "end_time": "2021-08-24T00:22:06.157532",
     "exception": false,
     "start_time": "2021-08-24T00:22:06.122386",
     "status": "completed"
    },
    "tags": []
   },
   "outputs": [],
   "source": [
    "# #hide_input\n",
    "# fig, ax = plt.subplots(figsize=(15, 8))\n",
    "# animator = animation.FuncAnimation(fig, draw_barchart, frames=range(g.day.values.min(), g.day.values.max()))\n",
    "# HTML(animator.to_jshtml())\n",
    "# # or use animator.to_html5_video() or animator.save() "
   ]
  },
  {
   "cell_type": "code",
   "execution_count": null,
   "id": "australian-container",
   "metadata": {
    "papermill": {
     "duration": 0.030223,
     "end_time": "2021-08-24T00:22:06.218365",
     "exception": false,
     "start_time": "2021-08-24T00:22:06.188142",
     "status": "completed"
    },
    "tags": []
   },
   "outputs": [],
   "source": []
  },
  {
   "cell_type": "code",
   "execution_count": null,
   "id": "mediterranean-pontiac",
   "metadata": {
    "papermill": {
     "duration": 0.030159,
     "end_time": "2021-08-24T00:22:06.278671",
     "exception": false,
     "start_time": "2021-08-24T00:22:06.248512",
     "status": "completed"
    },
    "tags": []
   },
   "outputs": [],
   "source": []
  },
  {
   "cell_type": "code",
   "execution_count": null,
   "id": "aging-legislature",
   "metadata": {
    "papermill": {
     "duration": 0.030221,
     "end_time": "2021-08-24T00:22:06.339341",
     "exception": false,
     "start_time": "2021-08-24T00:22:06.309120",
     "status": "completed"
    },
    "tags": []
   },
   "outputs": [],
   "source": []
  }
 ],
 "metadata": {
  "kernelspec": {
   "display_name": "Python 3",
   "language": "python",
   "name": "python3"
  },
  "language_info": {
   "codemirror_mode": {
    "name": "ipython",
    "version": 3
   },
   "file_extension": ".py",
   "mimetype": "text/x-python",
   "name": "python",
   "nbconvert_exporter": "python",
   "pygments_lexer": "ipython3",
   "version": "3.6.14"
  },
  "papermill": {
   "duration": 5.739114,
   "end_time": "2021-08-24T00:22:06.676926",
   "environment_variables": {},
   "exception": null,
   "input_path": "2020-03-21-covid19exp.ipynb",
   "output_path": "2020-03-21-covid19exp.ipynb",
   "parameters": {},
   "start_time": "2021-08-24T00:22:00.937812",
   "version": "2.0.0"
  }
 },
 "nbformat": 4,
 "nbformat_minor": 5
}