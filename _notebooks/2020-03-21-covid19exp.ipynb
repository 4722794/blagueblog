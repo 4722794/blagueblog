{
 "cells": [
  {
   "cell_type": "markdown",
   "id": "muslim-click",
   "metadata": {
    "papermill": {
     "duration": 0.040851,
     "end_time": "2021-05-04T00:19:45.466560",
     "exception": false,
     "start_time": "2021-05-04T00:19:45.425709",
     "status": "completed"
    },
    "tags": []
   },
   "source": [
    "# COVID-19 Case Race\n",
    "> A race chart to see rising cases around the world\n",
    "\n",
    "- author: Hargun Oberoi\n",
    "- image: images/covid-overview.png\n",
    "- hide: false\n",
    "- badges: false"
   ]
  },
  {
   "cell_type": "code",
   "execution_count": 1,
   "id": "proof-material",
   "metadata": {
    "execution": {
     "iopub.execute_input": "2021-05-04T00:19:45.553120Z",
     "iopub.status.busy": "2021-05-04T00:19:45.552478Z",
     "iopub.status.idle": "2021-05-04T00:19:45.893302Z",
     "shell.execute_reply": "2021-05-04T00:19:45.893824Z"
    },
    "papermill": {
     "duration": 0.389484,
     "end_time": "2021-05-04T00:19:45.894033",
     "exception": false,
     "start_time": "2021-05-04T00:19:45.504549",
     "status": "completed"
    },
    "tags": []
   },
   "outputs": [],
   "source": [
    "#hide\n",
    "import numpy as np\n",
    "import pandas as pd\n",
    "from jinja2 import Template\n",
    "from IPython.display import HTML"
   ]
  },
  {
   "cell_type": "code",
   "execution_count": 2,
   "id": "developed-terminology",
   "metadata": {
    "execution": {
     "iopub.execute_input": "2021-05-04T00:19:45.972510Z",
     "iopub.status.busy": "2021-05-04T00:19:45.971865Z",
     "iopub.status.idle": "2021-05-04T00:19:45.974545Z",
     "shell.execute_reply": "2021-05-04T00:19:45.973980Z"
    },
    "papermill": {
     "duration": 0.043851,
     "end_time": "2021-05-04T00:19:45.974670",
     "exception": false,
     "start_time": "2021-05-04T00:19:45.930819",
     "status": "completed"
    },
    "tags": []
   },
   "outputs": [],
   "source": [
    "#hide\n",
    "\n",
    "# FETCH\n",
    "base_url = 'https://raw.githubusercontent.com/pratapvardhan/notebooks/master/covid19/'\n",
    "paths = {\n",
    "    'mapping': base_url + 'mapping_countries.csv',\n",
    "    'overview': base_url + 'overview.tpl'\n",
    "}"
   ]
  },
  {
   "cell_type": "code",
   "execution_count": 3,
   "id": "dynamic-saver",
   "metadata": {
    "execution": {
     "iopub.execute_input": "2021-05-04T00:19:46.058599Z",
     "iopub.status.busy": "2021-05-04T00:19:46.055773Z",
     "iopub.status.idle": "2021-05-04T00:19:46.062226Z",
     "shell.execute_reply": "2021-05-04T00:19:46.061656Z"
    },
    "papermill": {
     "duration": 0.050496,
     "end_time": "2021-05-04T00:19:46.062351",
     "exception": false,
     "start_time": "2021-05-04T00:19:46.011855",
     "status": "completed"
    },
    "tags": []
   },
   "outputs": [
    {
     "data": {
      "text/plain": [
       "'https://raw.githubusercontent.com/pratapvardhan/notebooks/master/covid19/mapping_countries.csv'"
      ]
     },
     "execution_count": 3,
     "metadata": {},
     "output_type": "execute_result"
    }
   ],
   "source": [
    "#hide\n",
    "paths['mapping']"
   ]
  },
  {
   "cell_type": "code",
   "execution_count": 4,
   "id": "urban-software",
   "metadata": {
    "execution": {
     "iopub.execute_input": "2021-05-04T00:19:46.143926Z",
     "iopub.status.busy": "2021-05-04T00:19:46.143293Z",
     "iopub.status.idle": "2021-05-04T00:19:46.145216Z",
     "shell.execute_reply": "2021-05-04T00:19:46.145735Z"
    },
    "papermill": {
     "duration": 0.045383,
     "end_time": "2021-05-04T00:19:46.145874",
     "exception": false,
     "start_time": "2021-05-04T00:19:46.100491",
     "status": "completed"
    },
    "tags": []
   },
   "outputs": [],
   "source": [
    "#hide\n",
    "def get_mappings(url):\n",
    "    df = pd.read_csv(url)\n",
    "    return {\n",
    "        'df': df,\n",
    "        'replace.country': dict(df.dropna(subset=['Name']).set_index('Country')['Name']),\n",
    "        'map.continent': dict(df.set_index('Name')['Continent'])\n",
    "    }"
   ]
  },
  {
   "cell_type": "code",
   "execution_count": 5,
   "id": "intimate-machinery",
   "metadata": {
    "execution": {
     "iopub.execute_input": "2021-05-04T00:19:46.228645Z",
     "iopub.status.busy": "2021-05-04T00:19:46.228012Z",
     "iopub.status.idle": "2021-05-04T00:19:46.262959Z",
     "shell.execute_reply": "2021-05-04T00:19:46.263568Z"
    },
    "papermill": {
     "duration": 0.077411,
     "end_time": "2021-05-04T00:19:46.263710",
     "exception": false,
     "start_time": "2021-05-04T00:19:46.186299",
     "status": "completed"
    },
    "tags": []
   },
   "outputs": [],
   "source": [
    "#hide\n",
    "mapping = get_mappings(paths['mapping'])"
   ]
  },
  {
   "cell_type": "code",
   "execution_count": 6,
   "id": "certified-tactics",
   "metadata": {
    "execution": {
     "iopub.execute_input": "2021-05-04T00:19:46.342811Z",
     "iopub.status.busy": "2021-05-04T00:19:46.342178Z",
     "iopub.status.idle": "2021-05-04T00:19:46.344175Z",
     "shell.execute_reply": "2021-05-04T00:19:46.344693Z"
    },
    "papermill": {
     "duration": 0.04416,
     "end_time": "2021-05-04T00:19:46.344832",
     "exception": false,
     "start_time": "2021-05-04T00:19:46.300672",
     "status": "completed"
    },
    "tags": []
   },
   "outputs": [],
   "source": [
    "#hide\n",
    "def get_template(path):\n",
    "    from urllib.parse import urlparse\n",
    "    if bool(urlparse(path).netloc):\n",
    "        from urllib.request import urlopen\n",
    "        return urlopen(path).read().decode('utf8')\n",
    "    return open(path).read()"
   ]
  },
  {
   "cell_type": "code",
   "execution_count": 7,
   "id": "realistic-blast",
   "metadata": {
    "execution": {
     "iopub.execute_input": "2021-05-04T00:19:46.424891Z",
     "iopub.status.busy": "2021-05-04T00:19:46.424251Z",
     "iopub.status.idle": "2021-05-04T00:19:46.426936Z",
     "shell.execute_reply": "2021-05-04T00:19:46.426321Z"
    },
    "papermill": {
     "duration": 0.045601,
     "end_time": "2021-05-04T00:19:46.427061",
     "exception": false,
     "start_time": "2021-05-04T00:19:46.381460",
     "status": "completed"
    },
    "tags": []
   },
   "outputs": [],
   "source": [
    "#hide\n",
    "def get_frame(name):\n",
    "    url = (\n",
    "        'https://raw.githubusercontent.com/CSSEGISandData/COVID-19/master/csse_covid_19_data/'\n",
    "        f'csse_covid_19_time_series/time_series_covid19_{name}_global.csv')\n",
    "    df = pd.read_csv(url)\n",
    "    # rename countries\n",
    "    df['Country/Region'] = df['Country/Region'].replace(mapping['replace.country'])\n",
    "    return df"
   ]
  },
  {
   "cell_type": "code",
   "execution_count": 8,
   "id": "affiliated-characterization",
   "metadata": {
    "execution": {
     "iopub.execute_input": "2021-05-04T00:19:46.510271Z",
     "iopub.status.busy": "2021-05-04T00:19:46.509476Z",
     "iopub.status.idle": "2021-05-04T00:19:46.511900Z",
     "shell.execute_reply": "2021-05-04T00:19:46.511359Z"
    },
    "papermill": {
     "duration": 0.046823,
     "end_time": "2021-05-04T00:19:46.512028",
     "exception": false,
     "start_time": "2021-05-04T00:19:46.465205",
     "status": "completed"
    },
    "tags": []
   },
   "outputs": [],
   "source": [
    "#hide\n",
    "def get_dates(df):\n",
    "    dt_cols = df.columns[~df.columns.isin(['Province/State', 'Country/Region', 'Lat', 'Long'])]\n",
    "    LAST_DATE_I = -1\n",
    "    # sometimes last column may be empty, then go backwards\n",
    "    for i in range(-1, -len(dt_cols), -1):\n",
    "        if not df[dt_cols[i]].fillna(0).eq(0).all():\n",
    "            LAST_DATE_I = i\n",
    "            break\n",
    "    return LAST_DATE_I, dt_cols"
   ]
  },
  {
   "cell_type": "code",
   "execution_count": 9,
   "id": "recent-optimization",
   "metadata": {
    "execution": {
     "iopub.execute_input": "2021-05-04T00:19:46.591723Z",
     "iopub.status.busy": "2021-05-04T00:19:46.591088Z",
     "iopub.status.idle": "2021-05-04T00:19:46.867517Z",
     "shell.execute_reply": "2021-05-04T00:19:46.866851Z"
    },
    "papermill": {
     "duration": 0.318569,
     "end_time": "2021-05-04T00:19:46.867656",
     "exception": false,
     "start_time": "2021-05-04T00:19:46.549087",
     "status": "completed"
    },
    "tags": []
   },
   "outputs": [],
   "source": [
    "#hide\n",
    "COL_REGION = 'Country/Region'\n",
    "# Confirmed, Recovered, Deaths\n",
    "df = get_frame('confirmed')\n",
    "# dft_: timeseries, dfc_: today country agg\n",
    "dft_cases = df\n",
    "dft_deaths = get_frame('deaths')\n",
    "dft_recovered = get_frame('recovered')\n",
    "LAST_DATE_I, dt_cols = get_dates(df)"
   ]
  },
  {
   "cell_type": "code",
   "execution_count": 10,
   "id": "absolute-copper",
   "metadata": {
    "execution": {
     "iopub.execute_input": "2021-05-04T00:19:46.949692Z",
     "iopub.status.busy": "2021-05-04T00:19:46.949048Z",
     "iopub.status.idle": "2021-05-04T00:19:46.951366Z",
     "shell.execute_reply": "2021-05-04T00:19:46.950734Z"
    },
    "papermill": {
     "duration": 0.045235,
     "end_time": "2021-05-04T00:19:46.951494",
     "exception": false,
     "start_time": "2021-05-04T00:19:46.906259",
     "status": "completed"
    },
    "tags": []
   },
   "outputs": [],
   "source": [
    "#hide\n",
    "LAST_DATE_I, dt_cols = get_dates(df)\n",
    "dt_today =dt_cols[LAST_DATE_I]\n",
    "# dt_5day = dt_cols[LAST_DATE_I - 5]\n",
    "dt_yday = dt_cols[LAST_DATE_I - 1]"
   ]
  },
  {
   "cell_type": "code",
   "execution_count": 11,
   "id": "restricted-sheriff",
   "metadata": {
    "execution": {
     "iopub.execute_input": "2021-05-04T00:19:47.040760Z",
     "iopub.status.busy": "2021-05-04T00:19:47.040095Z",
     "iopub.status.idle": "2021-05-04T00:19:47.043915Z",
     "shell.execute_reply": "2021-05-04T00:19:47.044441Z"
    },
    "papermill": {
     "duration": 0.053899,
     "end_time": "2021-05-04T00:19:47.044585",
     "exception": false,
     "start_time": "2021-05-04T00:19:46.990686",
     "status": "completed"
    },
    "tags": []
   },
   "outputs": [],
   "source": [
    "#hide\n",
    "dfc_cases = dft_cases.groupby(COL_REGION)[dt_today].sum()\n",
    "dfc_deaths = dft_deaths.groupby(COL_REGION)[dt_today].sum()\n",
    "# dfp_cases = dft_cases.groupby(COL_REGION)[dt_5day].sum()\n",
    "# dfp_deaths = dft_deaths.groupby(COL_REGION)[dt_5day].sum()\n",
    "dfp_cases = dft_cases.groupby(COL_REGION)[dt_yday].sum()\n",
    "dfp_deaths = dft_deaths.groupby(COL_REGION)[dt_yday].sum()"
   ]
  },
  {
   "cell_type": "code",
   "execution_count": 12,
   "id": "deluxe-hepatitis",
   "metadata": {
    "execution": {
     "iopub.execute_input": "2021-05-04T00:19:47.125551Z",
     "iopub.status.busy": "2021-05-04T00:19:47.124912Z",
     "iopub.status.idle": "2021-05-04T00:19:47.129655Z",
     "shell.execute_reply": "2021-05-04T00:19:47.130294Z"
    },
    "papermill": {
     "duration": 0.048475,
     "end_time": "2021-05-04T00:19:47.130437",
     "exception": false,
     "start_time": "2021-05-04T00:19:47.081962",
     "status": "completed"
    },
    "tags": []
   },
   "outputs": [],
   "source": [
    "#hide\n",
    "df_table = (pd.DataFrame(dict(Cases = dfc_cases, Deaths = dfc_deaths, PCases = dfp_cases, PDeaths = dfp_deaths))\n",
    "            .sort_values(by = ['Cases','Deaths'], ascending = [False, False])\n",
    "            .reset_index())"
   ]
  },
  {
   "cell_type": "code",
   "execution_count": 13,
   "id": "educational-chancellor",
   "metadata": {
    "execution": {
     "iopub.execute_input": "2021-05-04T00:19:47.226362Z",
     "iopub.status.busy": "2021-05-04T00:19:47.225681Z",
     "iopub.status.idle": "2021-05-04T00:19:47.234093Z",
     "shell.execute_reply": "2021-05-04T00:19:47.233516Z"
    },
    "papermill": {
     "duration": 0.065575,
     "end_time": "2021-05-04T00:19:47.234220",
     "exception": false,
     "start_time": "2021-05-04T00:19:47.168645",
     "status": "completed"
    },
    "tags": []
   },
   "outputs": [
    {
     "data": {
      "text/html": [
       "<div>\n",
       "<style scoped>\n",
       "    .dataframe tbody tr th:only-of-type {\n",
       "        vertical-align: middle;\n",
       "    }\n",
       "\n",
       "    .dataframe tbody tr th {\n",
       "        vertical-align: top;\n",
       "    }\n",
       "\n",
       "    .dataframe thead th {\n",
       "        text-align: right;\n",
       "    }\n",
       "</style>\n",
       "<table border=\"1\" class=\"dataframe\">\n",
       "  <thead>\n",
       "    <tr style=\"text-align: right;\">\n",
       "      <th></th>\n",
       "      <th>Country/Region</th>\n",
       "      <th>Cases</th>\n",
       "      <th>Deaths</th>\n",
       "      <th>PCases</th>\n",
       "      <th>PDeaths</th>\n",
       "      <th>Cases (+)</th>\n",
       "      <th>Deaths (+)</th>\n",
       "      <th>Fatality Rate</th>\n",
       "      <th>Continent</th>\n",
       "    </tr>\n",
       "  </thead>\n",
       "  <tbody>\n",
       "    <tr>\n",
       "      <th>0</th>\n",
       "      <td>US</td>\n",
       "      <td>32421641</td>\n",
       "      <td>577045</td>\n",
       "      <td>32392274</td>\n",
       "      <td>576722</td>\n",
       "      <td>29367</td>\n",
       "      <td>323</td>\n",
       "      <td>1.78</td>\n",
       "      <td>North America</td>\n",
       "    </tr>\n",
       "    <tr>\n",
       "      <th>1</th>\n",
       "      <td>India</td>\n",
       "      <td>19925517</td>\n",
       "      <td>218959</td>\n",
       "      <td>19557457</td>\n",
       "      <td>215542</td>\n",
       "      <td>368060</td>\n",
       "      <td>3417</td>\n",
       "      <td>1.10</td>\n",
       "      <td>Asia</td>\n",
       "    </tr>\n",
       "    <tr>\n",
       "      <th>2</th>\n",
       "      <td>Brazil</td>\n",
       "      <td>14754910</td>\n",
       "      <td>407639</td>\n",
       "      <td>14725975</td>\n",
       "      <td>406437</td>\n",
       "      <td>28935</td>\n",
       "      <td>1202</td>\n",
       "      <td>2.76</td>\n",
       "      <td>South America</td>\n",
       "    </tr>\n",
       "    <tr>\n",
       "      <th>3</th>\n",
       "      <td>France</td>\n",
       "      <td>5713393</td>\n",
       "      <td>104980</td>\n",
       "      <td>5703505</td>\n",
       "      <td>104867</td>\n",
       "      <td>9888</td>\n",
       "      <td>113</td>\n",
       "      <td>1.84</td>\n",
       "      <td>Europe</td>\n",
       "    </tr>\n",
       "    <tr>\n",
       "      <th>4</th>\n",
       "      <td>Turkey</td>\n",
       "      <td>4875388</td>\n",
       "      <td>40844</td>\n",
       "      <td>4849408</td>\n",
       "      <td>40504</td>\n",
       "      <td>25980</td>\n",
       "      <td>340</td>\n",
       "      <td>0.84</td>\n",
       "      <td>Asia</td>\n",
       "    </tr>\n",
       "  </tbody>\n",
       "</table>\n",
       "</div>"
      ],
      "text/plain": [
       "  Country/Region     Cases  Deaths    PCases  PDeaths  Cases (+)  Deaths (+)  \\\n",
       "0             US  32421641  577045  32392274   576722      29367         323   \n",
       "1          India  19925517  218959  19557457   215542     368060        3417   \n",
       "2         Brazil  14754910  407639  14725975   406437      28935        1202   \n",
       "3         France   5713393  104980   5703505   104867       9888         113   \n",
       "4         Turkey   4875388   40844   4849408    40504      25980         340   \n",
       "\n",
       "   Fatality Rate      Continent  \n",
       "0           1.78  North America  \n",
       "1           1.10           Asia  \n",
       "2           2.76  South America  \n",
       "3           1.84         Europe  \n",
       "4           0.84           Asia  "
      ]
     },
     "execution_count": 13,
     "metadata": {},
     "output_type": "execute_result"
    }
   ],
   "source": [
    "#hide\n",
    "for c in 'Cases, Deaths'.split(', '):\n",
    "    df_table[f'{c} (+)'] = (df_table[c] - df_table[f'P{c}']).clip(0)\n",
    "    #Clip ça veut dire, les chiffres negatif sont interdit\n",
    "df_table['Fatality Rate'] = (100* df_table['Deaths']/ df_table['Cases']).round(2)\n",
    "df_table['Continent'] = df_table['Country/Region'].map(mapping['map.continent'])\n",
    "df_table.head(5)"
   ]
  },
  {
   "cell_type": "code",
   "execution_count": 14,
   "id": "aboriginal-bulgaria",
   "metadata": {
    "execution": {
     "iopub.execute_input": "2021-05-04T00:19:47.316515Z",
     "iopub.status.busy": "2021-05-04T00:19:47.315883Z",
     "iopub.status.idle": "2021-05-04T00:19:47.318553Z",
     "shell.execute_reply": "2021-05-04T00:19:47.319127Z"
    },
    "papermill": {
     "duration": 0.047237,
     "end_time": "2021-05-04T00:19:47.319270",
     "exception": false,
     "start_time": "2021-05-04T00:19:47.272033",
     "status": "completed"
    },
    "tags": []
   },
   "outputs": [],
   "source": [
    "#hide\n",
    "#delete problematic countries from table\n",
    "df_table = df_table[~df_table['Country/Region'].isin(['Cape Verde', 'Cruise Ship', 'Kosovo'])]"
   ]
  },
  {
   "cell_type": "code",
   "execution_count": 15,
   "id": "fantastic-effect",
   "metadata": {
    "execution": {
     "iopub.execute_input": "2021-05-04T00:19:47.405428Z",
     "iopub.status.busy": "2021-05-04T00:19:47.404793Z",
     "iopub.status.idle": "2021-05-04T00:19:47.425957Z",
     "shell.execute_reply": "2021-05-04T00:19:47.425411Z"
    },
    "papermill": {
     "duration": 0.068861,
     "end_time": "2021-05-04T00:19:47.426107",
     "exception": false,
     "start_time": "2021-05-04T00:19:47.357246",
     "status": "completed"
    },
    "tags": []
   },
   "outputs": [
    {
     "data": {
      "text/html": [
       "<div>\n",
       "<style scoped>\n",
       "    .dataframe tbody tr th:only-of-type {\n",
       "        vertical-align: middle;\n",
       "    }\n",
       "\n",
       "    .dataframe tbody tr th {\n",
       "        vertical-align: top;\n",
       "    }\n",
       "\n",
       "    .dataframe thead th {\n",
       "        text-align: right;\n",
       "    }\n",
       "</style>\n",
       "<table border=\"1\" class=\"dataframe\">\n",
       "  <thead>\n",
       "    <tr style=\"text-align: right;\">\n",
       "      <th></th>\n",
       "      <th>Country/Region</th>\n",
       "      <th>Cases</th>\n",
       "      <th>Deaths</th>\n",
       "      <th>PCases</th>\n",
       "      <th>PDeaths</th>\n",
       "      <th>Cases (+)</th>\n",
       "      <th>Deaths (+)</th>\n",
       "      <th>Fatality Rate</th>\n",
       "      <th>Continent</th>\n",
       "    </tr>\n",
       "  </thead>\n",
       "  <tbody>\n",
       "    <tr>\n",
       "      <th>0</th>\n",
       "      <td>US</td>\n",
       "      <td>32421641</td>\n",
       "      <td>577045</td>\n",
       "      <td>32392274</td>\n",
       "      <td>576722</td>\n",
       "      <td>29367</td>\n",
       "      <td>323</td>\n",
       "      <td>1.8</td>\n",
       "      <td>North America</td>\n",
       "    </tr>\n",
       "    <tr>\n",
       "      <th>1</th>\n",
       "      <td>India</td>\n",
       "      <td>19925517</td>\n",
       "      <td>218959</td>\n",
       "      <td>19557457</td>\n",
       "      <td>215542</td>\n",
       "      <td>368060</td>\n",
       "      <td>3417</td>\n",
       "      <td>1.1</td>\n",
       "      <td>Asia</td>\n",
       "    </tr>\n",
       "    <tr>\n",
       "      <th>2</th>\n",
       "      <td>Brazil</td>\n",
       "      <td>14754910</td>\n",
       "      <td>407639</td>\n",
       "      <td>14725975</td>\n",
       "      <td>406437</td>\n",
       "      <td>28935</td>\n",
       "      <td>1202</td>\n",
       "      <td>2.8</td>\n",
       "      <td>South America</td>\n",
       "    </tr>\n",
       "    <tr>\n",
       "      <th>3</th>\n",
       "      <td>France</td>\n",
       "      <td>5713393</td>\n",
       "      <td>104980</td>\n",
       "      <td>5703505</td>\n",
       "      <td>104867</td>\n",
       "      <td>9888</td>\n",
       "      <td>113</td>\n",
       "      <td>1.8</td>\n",
       "      <td>Europe</td>\n",
       "    </tr>\n",
       "    <tr>\n",
       "      <th>4</th>\n",
       "      <td>Turkey</td>\n",
       "      <td>4875388</td>\n",
       "      <td>40844</td>\n",
       "      <td>4849408</td>\n",
       "      <td>40504</td>\n",
       "      <td>25980</td>\n",
       "      <td>340</td>\n",
       "      <td>0.8</td>\n",
       "      <td>Asia</td>\n",
       "    </tr>\n",
       "  </tbody>\n",
       "</table>\n",
       "</div>"
      ],
      "text/plain": [
       "  Country/Region     Cases  Deaths    PCases  PDeaths  Cases (+)  Deaths (+)  \\\n",
       "0             US  32421641  577045  32392274   576722      29367         323   \n",
       "1          India  19925517  218959  19557457   215542     368060        3417   \n",
       "2         Brazil  14754910  407639  14725975   406437      28935        1202   \n",
       "3         France   5713393  104980   5703505   104867       9888         113   \n",
       "4         Turkey   4875388   40844   4849408    40504      25980         340   \n",
       "\n",
       "   Fatality Rate      Continent  \n",
       "0            1.8  North America  \n",
       "1            1.1           Asia  \n",
       "2            2.8  South America  \n",
       "3            1.8         Europe  \n",
       "4            0.8           Asia  "
      ]
     },
     "execution_count": 15,
     "metadata": {},
     "output_type": "execute_result"
    }
   ],
   "source": [
    "#hide\n",
    "df_table = (pd.DataFrame(dict(Cases=dfc_cases, Deaths=dfc_deaths, PCases=dfp_cases, PDeaths=dfp_deaths))\n",
    "             .sort_values(by=['Cases', 'Deaths'], ascending=[False, False])\n",
    "             .reset_index())\n",
    "df_table.rename(columns={'index': 'Country/Region'}, inplace=True)\n",
    "for c in 'Cases, Deaths'.split(', '):\n",
    "    df_table[f'{c} (+)'] = (df_table[c] - df_table[f'P{c}']).clip(0)  # DATA BUG\n",
    "df_table['Fatality Rate'] = (100 * df_table['Deaths'] / df_table['Cases']).round(1)\n",
    "df_table['Continent'] = df_table['Country/Region'].map(mapping['map.continent'])\n",
    "df_table.head(5)"
   ]
  },
  {
   "cell_type": "code",
   "execution_count": 16,
   "id": "fewer-occasion",
   "metadata": {
    "execution": {
     "iopub.execute_input": "2021-05-04T00:19:47.511355Z",
     "iopub.status.busy": "2021-05-04T00:19:47.510718Z",
     "iopub.status.idle": "2021-05-04T00:19:47.513515Z",
     "shell.execute_reply": "2021-05-04T00:19:47.514139Z"
    },
    "papermill": {
     "duration": 0.049929,
     "end_time": "2021-05-04T00:19:47.514281",
     "exception": false,
     "start_time": "2021-05-04T00:19:47.464352",
     "status": "completed"
    },
    "tags": []
   },
   "outputs": [],
   "source": [
    "#hide\n",
    "#delete problematic countries from table\n",
    "df_table = df_table[~df_table['Country/Region'].isin(['Cape Verde', 'Cruise Ship', 'Kosovo'])]"
   ]
  },
  {
   "cell_type": "code",
   "execution_count": 17,
   "id": "related-center",
   "metadata": {
    "execution": {
     "iopub.execute_input": "2021-05-04T00:19:47.612626Z",
     "iopub.status.busy": "2021-05-04T00:19:47.611971Z",
     "iopub.status.idle": "2021-05-04T00:19:47.614381Z",
     "shell.execute_reply": "2021-05-04T00:19:47.613801Z"
    },
    "papermill": {
     "duration": 0.060775,
     "end_time": "2021-05-04T00:19:47.614513",
     "exception": false,
     "start_time": "2021-05-04T00:19:47.553738",
     "status": "completed"
    },
    "tags": []
   },
   "outputs": [],
   "source": [
    "#hide\n",
    "metrics = [df_table.columns[index] for index in [1,2,5,6]]\n",
    "# s_china = df_table[df_table['Country/Region'].eq('China')][metrics].sum().add_prefix('China ')\n",
    "s_us = df_table[df_table['Country/Region'].eq('US')][metrics].sum().add_prefix('US ')\n",
    "s_eu = df_table[df_table['Continent'].eq('Europe')][metrics].sum().add_prefix('EU ')\n",
    "s_ind = df_table[df_table['Country/Region'].eq('India')][metrics].sum().add_prefix('India ')\n",
    "summary = {'updated': pd.to_datetime(dt_today), 'since': pd.to_datetime(dt_yday)}\n",
    "summary = {'updated': pd.to_datetime(dt_today), 'since': pd.to_datetime(dt_yday)}\n",
    "summary = {**summary, **df_table[metrics].sum(), **s_ind, **s_us, **s_eu}"
   ]
  },
  {
   "cell_type": "code",
   "execution_count": 18,
   "id": "engaging-syndrome",
   "metadata": {
    "execution": {
     "iopub.execute_input": "2021-05-04T00:19:47.697833Z",
     "iopub.status.busy": "2021-05-04T00:19:47.697189Z",
     "iopub.status.idle": "2021-05-04T00:19:47.708740Z",
     "shell.execute_reply": "2021-05-04T00:19:47.708184Z"
    },
    "papermill": {
     "duration": 0.055787,
     "end_time": "2021-05-04T00:19:47.708875",
     "exception": false,
     "start_time": "2021-05-04T00:19:47.653088",
     "status": "completed"
    },
    "tags": []
   },
   "outputs": [],
   "source": [
    "#hide\n",
    "dft_ct_new_cases = dft_cases.groupby(COL_REGION)[dt_cols].sum().diff(axis=1).fillna(0).astype(int)"
   ]
  },
  {
   "cell_type": "code",
   "execution_count": 19,
   "id": "neutral-assignment",
   "metadata": {
    "execution": {
     "iopub.execute_input": "2021-05-04T00:19:47.791867Z",
     "iopub.status.busy": "2021-05-04T00:19:47.791228Z",
     "iopub.status.idle": "2021-05-04T00:19:47.794058Z",
     "shell.execute_reply": "2021-05-04T00:19:47.794566Z"
    },
    "papermill": {
     "duration": 0.047252,
     "end_time": "2021-05-04T00:19:47.794725",
     "exception": false,
     "start_time": "2021-05-04T00:19:47.747473",
     "status": "completed"
    },
    "tags": []
   },
   "outputs": [],
   "source": [
    "#hide\n",
    "everydaycases = dft_ct_new_cases.cumsum(axis=1)"
   ]
  },
  {
   "cell_type": "code",
   "execution_count": 20,
   "id": "parliamentary-calgary",
   "metadata": {
    "execution": {
     "iopub.execute_input": "2021-05-04T00:19:47.875861Z",
     "iopub.status.busy": "2021-05-04T00:19:47.875213Z",
     "iopub.status.idle": "2021-05-04T00:19:48.438090Z",
     "shell.execute_reply": "2021-05-04T00:19:48.438635Z"
    },
    "papermill": {
     "duration": 0.605732,
     "end_time": "2021-05-04T00:19:48.438798",
     "exception": false,
     "start_time": "2021-05-04T00:19:47.833066",
     "status": "completed"
    },
    "tags": []
   },
   "outputs": [],
   "source": [
    "#hide\n",
    "import pandas as pd\n",
    "import matplotlib.pyplot as plt\n",
    "import matplotlib.ticker as ticker\n",
    "import matplotlib.animation as animation\n",
    "from IPython.display import HTML"
   ]
  },
  {
   "cell_type": "code",
   "execution_count": 21,
   "id": "lasting-extraction",
   "metadata": {
    "execution": {
     "iopub.execute_input": "2021-05-04T00:19:48.522562Z",
     "iopub.status.busy": "2021-05-04T00:19:48.521893Z",
     "iopub.status.idle": "2021-05-04T00:19:48.527186Z",
     "shell.execute_reply": "2021-05-04T00:19:48.527955Z"
    },
    "papermill": {
     "duration": 0.051231,
     "end_time": "2021-05-04T00:19:48.528110",
     "exception": false,
     "start_time": "2021-05-04T00:19:48.476879",
     "status": "completed"
    },
    "tags": []
   },
   "outputs": [],
   "source": [
    "#hide\n",
    "t = everydaycases.stack()"
   ]
  },
  {
   "cell_type": "code",
   "execution_count": 22,
   "id": "premier-sleeve",
   "metadata": {
    "execution": {
     "iopub.execute_input": "2021-05-04T00:19:48.612444Z",
     "iopub.status.busy": "2021-05-04T00:19:48.611803Z",
     "iopub.status.idle": "2021-05-04T00:19:48.619033Z",
     "shell.execute_reply": "2021-05-04T00:19:48.619594Z"
    },
    "papermill": {
     "duration": 0.050982,
     "end_time": "2021-05-04T00:19:48.619741",
     "exception": false,
     "start_time": "2021-05-04T00:19:48.568759",
     "status": "completed"
    },
    "tags": []
   },
   "outputs": [],
   "source": [
    "#hide\n",
    "g = t.reset_index(['Country/Region'])"
   ]
  },
  {
   "cell_type": "code",
   "execution_count": 23,
   "id": "distributed-pittsburgh",
   "metadata": {
    "execution": {
     "iopub.execute_input": "2021-05-04T00:19:48.701082Z",
     "iopub.status.busy": "2021-05-04T00:19:48.700422Z",
     "iopub.status.idle": "2021-05-04T00:19:48.701741Z",
     "shell.execute_reply": "2021-05-04T00:19:48.702324Z"
    },
    "papermill": {
     "duration": 0.044358,
     "end_time": "2021-05-04T00:19:48.702475",
     "exception": false,
     "start_time": "2021-05-04T00:19:48.658117",
     "status": "completed"
    },
    "tags": []
   },
   "outputs": [],
   "source": [
    "#hide\n",
    "g.index.name = 'date'"
   ]
  },
  {
   "cell_type": "code",
   "execution_count": 24,
   "id": "naked-donor",
   "metadata": {
    "execution": {
     "iopub.execute_input": "2021-05-04T00:19:48.784561Z",
     "iopub.status.busy": "2021-05-04T00:19:48.783927Z",
     "iopub.status.idle": "2021-05-04T00:19:48.786488Z",
     "shell.execute_reply": "2021-05-04T00:19:48.785836Z"
    },
    "papermill": {
     "duration": 0.044685,
     "end_time": "2021-05-04T00:19:48.786617",
     "exception": false,
     "start_time": "2021-05-04T00:19:48.741932",
     "status": "completed"
    },
    "tags": []
   },
   "outputs": [],
   "source": [
    "# #hide\n",
    "# g = g.reset_index(['date'])"
   ]
  },
  {
   "cell_type": "code",
   "execution_count": 25,
   "id": "incomplete-mustang",
   "metadata": {
    "execution": {
     "iopub.execute_input": "2021-05-04T00:19:48.868024Z",
     "iopub.status.busy": "2021-05-04T00:19:48.867379Z",
     "iopub.status.idle": "2021-05-04T00:19:48.869811Z",
     "shell.execute_reply": "2021-05-04T00:19:48.869286Z"
    },
    "papermill": {
     "duration": 0.043741,
     "end_time": "2021-05-04T00:19:48.869943",
     "exception": false,
     "start_time": "2021-05-04T00:19:48.826202",
     "status": "completed"
    },
    "tags": []
   },
   "outputs": [],
   "source": [
    "#hide\n",
    "# g.head()"
   ]
  },
  {
   "cell_type": "code",
   "execution_count": 26,
   "id": "specific-kruger",
   "metadata": {
    "execution": {
     "iopub.execute_input": "2021-05-04T00:19:48.955465Z",
     "iopub.status.busy": "2021-05-04T00:19:48.954828Z",
     "iopub.status.idle": "2021-05-04T00:19:48.957270Z",
     "shell.execute_reply": "2021-05-04T00:19:48.956725Z"
    },
    "papermill": {
     "duration": 0.044271,
     "end_time": "2021-05-04T00:19:48.957398",
     "exception": false,
     "start_time": "2021-05-04T00:19:48.913127",
     "status": "completed"
    },
    "tags": []
   },
   "outputs": [],
   "source": [
    "#hide\n",
    "# g.columns = ['date','country','cases']"
   ]
  },
  {
   "cell_type": "code",
   "execution_count": 27,
   "id": "tender-conversion",
   "metadata": {
    "execution": {
     "iopub.execute_input": "2021-05-04T00:19:49.039801Z",
     "iopub.status.busy": "2021-05-04T00:19:49.039161Z",
     "iopub.status.idle": "2021-05-04T00:19:49.041570Z",
     "shell.execute_reply": "2021-05-04T00:19:49.040934Z"
    },
    "papermill": {
     "duration": 0.04613,
     "end_time": "2021-05-04T00:19:49.041699",
     "exception": false,
     "start_time": "2021-05-04T00:19:48.995569",
     "status": "completed"
    },
    "tags": []
   },
   "outputs": [],
   "source": [
    "#hide\n",
    "# g['continent'] = g.country"
   ]
  },
  {
   "cell_type": "code",
   "execution_count": 28,
   "id": "substantial-wilderness",
   "metadata": {
    "execution": {
     "iopub.execute_input": "2021-05-04T00:19:49.124583Z",
     "iopub.status.busy": "2021-05-04T00:19:49.123950Z",
     "iopub.status.idle": "2021-05-04T00:19:49.126365Z",
     "shell.execute_reply": "2021-05-04T00:19:49.125789Z"
    },
    "papermill": {
     "duration": 0.046181,
     "end_time": "2021-05-04T00:19:49.126491",
     "exception": false,
     "start_time": "2021-05-04T00:19:49.080310",
     "status": "completed"
    },
    "tags": []
   },
   "outputs": [],
   "source": [
    "#hide\n",
    "# cols = list(g.columns.values)"
   ]
  },
  {
   "cell_type": "code",
   "execution_count": 29,
   "id": "solved-farming",
   "metadata": {
    "execution": {
     "iopub.execute_input": "2021-05-04T00:19:49.206610Z",
     "iopub.status.busy": "2021-05-04T00:19:49.205805Z",
     "iopub.status.idle": "2021-05-04T00:19:49.208991Z",
     "shell.execute_reply": "2021-05-04T00:19:49.209555Z"
    },
    "papermill": {
     "duration": 0.045184,
     "end_time": "2021-05-04T00:19:49.209709",
     "exception": false,
     "start_time": "2021-05-04T00:19:49.164525",
     "status": "completed"
    },
    "tags": []
   },
   "outputs": [],
   "source": [
    "#hide\n",
    "# cols.insert(0, cols.pop())"
   ]
  },
  {
   "cell_type": "code",
   "execution_count": 30,
   "id": "executed-adoption",
   "metadata": {
    "execution": {
     "iopub.execute_input": "2021-05-04T00:19:49.290073Z",
     "iopub.status.busy": "2021-05-04T00:19:49.289414Z",
     "iopub.status.idle": "2021-05-04T00:19:49.291840Z",
     "shell.execute_reply": "2021-05-04T00:19:49.291295Z"
    },
    "papermill": {
     "duration": 0.043817,
     "end_time": "2021-05-04T00:19:49.291966",
     "exception": false,
     "start_time": "2021-05-04T00:19:49.248149",
     "status": "completed"
    },
    "tags": []
   },
   "outputs": [],
   "source": [
    "#hide\n",
    "# g = g[cols]"
   ]
  },
  {
   "cell_type": "code",
   "execution_count": 31,
   "id": "subject-dublin",
   "metadata": {
    "execution": {
     "iopub.execute_input": "2021-05-04T00:19:49.375122Z",
     "iopub.status.busy": "2021-05-04T00:19:49.374481Z",
     "iopub.status.idle": "2021-05-04T00:19:49.376947Z",
     "shell.execute_reply": "2021-05-04T00:19:49.376386Z"
    },
    "papermill": {
     "duration": 0.045505,
     "end_time": "2021-05-04T00:19:49.377074",
     "exception": false,
     "start_time": "2021-05-04T00:19:49.331569",
     "status": "completed"
    },
    "tags": []
   },
   "outputs": [],
   "source": [
    "#hide\n",
    "# g['continent'] = g['continent'].map(mapping['map.continent'])"
   ]
  },
  {
   "cell_type": "code",
   "execution_count": 32,
   "id": "freelance-scout",
   "metadata": {
    "execution": {
     "iopub.execute_input": "2021-05-04T00:19:49.458454Z",
     "iopub.status.busy": "2021-05-04T00:19:49.457779Z",
     "iopub.status.idle": "2021-05-04T00:19:49.459663Z",
     "shell.execute_reply": "2021-05-04T00:19:49.460219Z"
    },
    "papermill": {
     "duration": 0.04391,
     "end_time": "2021-05-04T00:19:49.460359",
     "exception": false,
     "start_time": "2021-05-04T00:19:49.416449",
     "status": "completed"
    },
    "tags": []
   },
   "outputs": [],
   "source": [
    "#hide\n",
    "# g.head()"
   ]
  },
  {
   "cell_type": "code",
   "execution_count": 33,
   "id": "limited-engine",
   "metadata": {
    "execution": {
     "iopub.execute_input": "2021-05-04T00:19:49.543336Z",
     "iopub.status.busy": "2021-05-04T00:19:49.542699Z",
     "iopub.status.idle": "2021-05-04T00:19:49.545092Z",
     "shell.execute_reply": "2021-05-04T00:19:49.544540Z"
    },
    "papermill": {
     "duration": 0.04553,
     "end_time": "2021-05-04T00:19:49.545219",
     "exception": false,
     "start_time": "2021-05-04T00:19:49.499689",
     "status": "completed"
    },
    "tags": []
   },
   "outputs": [],
   "source": [
    "# hide\n",
    "# g['date'] = g['date'].astype('datetime64[ns]')"
   ]
  },
  {
   "cell_type": "code",
   "execution_count": 34,
   "id": "sophisticated-supervisor",
   "metadata": {
    "execution": {
     "iopub.execute_input": "2021-05-04T00:19:49.633592Z",
     "iopub.status.busy": "2021-05-04T00:19:49.632957Z",
     "iopub.status.idle": "2021-05-04T00:19:49.634786Z",
     "shell.execute_reply": "2021-05-04T00:19:49.635341Z"
    },
    "papermill": {
     "duration": 0.046454,
     "end_time": "2021-05-04T00:19:49.635484",
     "exception": false,
     "start_time": "2021-05-04T00:19:49.589030",
     "status": "completed"
    },
    "tags": []
   },
   "outputs": [],
   "source": [
    "#hide\n",
    "# g['date'] = g.date.dt.dayofyear"
   ]
  },
  {
   "cell_type": "code",
   "execution_count": 35,
   "id": "inside-dubai",
   "metadata": {
    "execution": {
     "iopub.execute_input": "2021-05-04T00:19:49.715401Z",
     "iopub.status.busy": "2021-05-04T00:19:49.714764Z",
     "iopub.status.idle": "2021-05-04T00:19:49.717391Z",
     "shell.execute_reply": "2021-05-04T00:19:49.716713Z"
    },
    "papermill": {
     "duration": 0.043947,
     "end_time": "2021-05-04T00:19:49.717520",
     "exception": false,
     "start_time": "2021-05-04T00:19:49.673573",
     "status": "completed"
    },
    "tags": []
   },
   "outputs": [],
   "source": [
    "#hide\n",
    "# g = g.rename(columns= {'continent':'group','country':'name','cases':'value'})"
   ]
  },
  {
   "cell_type": "code",
   "execution_count": 36,
   "id": "fleet-motorcycle",
   "metadata": {
    "execution": {
     "iopub.execute_input": "2021-05-04T00:19:49.801093Z",
     "iopub.status.busy": "2021-05-04T00:19:49.800463Z",
     "iopub.status.idle": "2021-05-04T00:19:49.802332Z",
     "shell.execute_reply": "2021-05-04T00:19:49.802890Z"
    },
    "papermill": {
     "duration": 0.047643,
     "end_time": "2021-05-04T00:19:49.803029",
     "exception": false,
     "start_time": "2021-05-04T00:19:49.755386",
     "status": "completed"
    },
    "tags": []
   },
   "outputs": [],
   "source": [
    "#hide\n",
    "# cols = ['name','group','day','value']"
   ]
  },
  {
   "cell_type": "code",
   "execution_count": 37,
   "id": "continued-sleeping",
   "metadata": {
    "execution": {
     "iopub.execute_input": "2021-05-04T00:19:49.883159Z",
     "iopub.status.busy": "2021-05-04T00:19:49.882525Z",
     "iopub.status.idle": "2021-05-04T00:19:49.884956Z",
     "shell.execute_reply": "2021-05-04T00:19:49.884417Z"
    },
    "papermill": {
     "duration": 0.043352,
     "end_time": "2021-05-04T00:19:49.885078",
     "exception": false,
     "start_time": "2021-05-04T00:19:49.841726",
     "status": "completed"
    },
    "tags": []
   },
   "outputs": [],
   "source": [
    "#hide\n",
    "# g.rename(columns= {'date':'day'},inplace = True)"
   ]
  },
  {
   "cell_type": "code",
   "execution_count": 38,
   "id": "major-fight",
   "metadata": {
    "execution": {
     "iopub.execute_input": "2021-05-04T00:19:49.966799Z",
     "iopub.status.busy": "2021-05-04T00:19:49.966166Z",
     "iopub.status.idle": "2021-05-04T00:19:49.969500Z",
     "shell.execute_reply": "2021-05-04T00:19:49.970139Z"
    },
    "papermill": {
     "duration": 0.046627,
     "end_time": "2021-05-04T00:19:49.970281",
     "exception": false,
     "start_time": "2021-05-04T00:19:49.923654",
     "status": "completed"
    },
    "tags": []
   },
   "outputs": [],
   "source": [
    "#hide\n",
    "# g = g[cols]"
   ]
  },
  {
   "cell_type": "code",
   "execution_count": 39,
   "id": "structured-mobile",
   "metadata": {
    "execution": {
     "iopub.execute_input": "2021-05-04T00:19:50.050813Z",
     "iopub.status.busy": "2021-05-04T00:19:50.050179Z",
     "iopub.status.idle": "2021-05-04T00:19:50.052486Z",
     "shell.execute_reply": "2021-05-04T00:19:50.051942Z"
    },
    "papermill": {
     "duration": 0.044491,
     "end_time": "2021-05-04T00:19:50.052611",
     "exception": false,
     "start_time": "2021-05-04T00:19:50.008120",
     "status": "completed"
    },
    "tags": []
   },
   "outputs": [],
   "source": [
    "# #hide\n",
    "# g = g[g.group.notna()]"
   ]
  },
  {
   "cell_type": "code",
   "execution_count": 40,
   "id": "determined-closing",
   "metadata": {
    "execution": {
     "iopub.execute_input": "2021-05-04T00:19:50.133983Z",
     "iopub.status.busy": "2021-05-04T00:19:50.133334Z",
     "iopub.status.idle": "2021-05-04T00:19:50.135185Z",
     "shell.execute_reply": "2021-05-04T00:19:50.135706Z"
    },
    "papermill": {
     "duration": 0.045129,
     "end_time": "2021-05-04T00:19:50.135848",
     "exception": false,
     "start_time": "2021-05-04T00:19:50.090719",
     "status": "completed"
    },
    "tags": []
   },
   "outputs": [],
   "source": [
    "# #hide\n",
    "# colors = dict(zip(\n",
    "#     [\"Oceania\", \"Europe\", \"Asia\", \"South America\", \"Middle East\", \"North America\", \"Africa\"],\n",
    "#     [\"#adb0ff\", \"#ffb3ff\", \"#90d595\", \"#e48381\", \"#aafbff\", \"#f7bb5f\", \"#eafb50\"]\n",
    "# ))\n",
    "# group_lk = g.set_index('name')['group'].to_dict()"
   ]
  },
  {
   "cell_type": "code",
   "execution_count": null,
   "id": "gross-drinking",
   "metadata": {
    "papermill": {
     "duration": 0.037827,
     "end_time": "2021-05-04T00:19:50.211581",
     "exception": false,
     "start_time": "2021-05-04T00:19:50.173754",
     "status": "completed"
    },
    "tags": []
   },
   "outputs": [],
   "source": []
  },
  {
   "cell_type": "code",
   "execution_count": 41,
   "id": "subject-macintosh",
   "metadata": {
    "execution": {
     "iopub.execute_input": "2021-05-04T00:19:50.300941Z",
     "iopub.status.busy": "2021-05-04T00:19:50.300297Z",
     "iopub.status.idle": "2021-05-04T00:19:50.302796Z",
     "shell.execute_reply": "2021-05-04T00:19:50.302251Z"
    },
    "papermill": {
     "duration": 0.044959,
     "end_time": "2021-05-04T00:19:50.302919",
     "exception": false,
     "start_time": "2021-05-04T00:19:50.257960",
     "status": "completed"
    },
    "tags": []
   },
   "outputs": [],
   "source": [
    "# #hide\n",
    "# fig, ax = plt.subplots(figsize=(15, 8))\n",
    "\n",
    "# def draw_barchart(current_day):\n",
    "#     dff = g[g['day'].eq(current_day)].sort_values(by='value', ascending=True).tail(10)\n",
    "#     ax.clear()\n",
    "#     ax.barh(dff['name'], dff['value'], color=[colors[group_lk[x]] for x in dff['name']])\n",
    "#     dx = dff['value'].max() / 200\n",
    "    \n",
    "#     for i, (value, name) in enumerate(zip(dff['value'], dff['name'])):\n",
    "#         ax.text(value-dx, i,     name,           size=14, weight=600, ha='right', va='bottom')\n",
    "#         ax.text(value-dx, i-.25, group_lk[name], size=10, color='#444444', ha='right', va='baseline')\n",
    "#         ax.text(value+dx, i,     f'{value:,.0f}',  size=14, ha='left',  va='center')\n",
    "#     ax.text(1, 0.4, current_day, transform=ax.transAxes, color='#777777', size=46, ha='right', weight=800)\n",
    "#     ax.text(0, 1.06, 'Population (thousands)', transform=ax.transAxes, size=12, color='#777777')\n",
    "#     ax.xaxis.set_major_formatter(ticker.StrMethodFormatter('{x:,.0f}'))\n",
    "#     ax.xaxis.set_ticks_position('top')\n",
    "#     ax.tick_params(axis='x', colors='#777777', labelsize=12)\n",
    "#     ax.set_yticks([])\n",
    "#     ax.margins(0, 0.01)\n",
    "#     ax.grid(which='major', axis='x', linestyle='-')\n",
    "#     ax.set_axisbelow(True)\n",
    "    \n",
    "#     ax.text(0, 1.15, 'Coronavirus',\n",
    "#             transform=ax.transAxes, size=24, weight=600, ha='left', va='top')\n",
    "# #     ax.text(1, 0, 'by @pratapvardhan; credit @jburnmurdoch', transform=ax.transAxes, color='#777777', ha='right',\n",
    "# #             bbox=dict(facecolor='white', alpha=0.8, edgecolor='white'))\n",
    "#     plt.box(False)"
   ]
  },
  {
   "cell_type": "code",
   "execution_count": 42,
   "id": "sexual-wages",
   "metadata": {
    "execution": {
     "iopub.execute_input": "2021-05-04T00:19:50.384268Z",
     "iopub.status.busy": "2021-05-04T00:19:50.383631Z",
     "iopub.status.idle": "2021-05-04T00:19:50.385461Z",
     "shell.execute_reply": "2021-05-04T00:19:50.386030Z"
    },
    "papermill": {
     "duration": 0.044591,
     "end_time": "2021-05-04T00:19:50.386172",
     "exception": false,
     "start_time": "2021-05-04T00:19:50.341581",
     "status": "completed"
    },
    "tags": []
   },
   "outputs": [],
   "source": [
    "# #hide_input\n",
    "# fig, ax = plt.subplots(figsize=(15, 8))\n",
    "# animator = animation.FuncAnimation(fig, draw_barchart, frames=range(g.day.values.min(), g.day.values.max()))\n",
    "# HTML(animator.to_jshtml())\n",
    "# # or use animator.to_html5_video() or animator.save() "
   ]
  },
  {
   "cell_type": "code",
   "execution_count": null,
   "id": "australian-container",
   "metadata": {
    "papermill": {
     "duration": 0.037659,
     "end_time": "2021-05-04T00:19:50.464436",
     "exception": false,
     "start_time": "2021-05-04T00:19:50.426777",
     "status": "completed"
    },
    "tags": []
   },
   "outputs": [],
   "source": []
  },
  {
   "cell_type": "code",
   "execution_count": null,
   "id": "mediterranean-pontiac",
   "metadata": {
    "papermill": {
     "duration": 0.038999,
     "end_time": "2021-05-04T00:19:50.541338",
     "exception": false,
     "start_time": "2021-05-04T00:19:50.502339",
     "status": "completed"
    },
    "tags": []
   },
   "outputs": [],
   "source": []
  },
  {
   "cell_type": "code",
   "execution_count": null,
   "id": "aging-legislature",
   "metadata": {
    "papermill": {
     "duration": 0.039757,
     "end_time": "2021-05-04T00:19:50.619453",
     "exception": false,
     "start_time": "2021-05-04T00:19:50.579696",
     "status": "completed"
    },
    "tags": []
   },
   "outputs": [],
   "source": []
  }
 ],
 "metadata": {
  "kernelspec": {
   "display_name": "Python 3",
   "language": "python",
   "name": "python3"
  },
  "language_info": {
   "codemirror_mode": {
    "name": "ipython",
    "version": 3
   },
   "file_extension": ".py",
   "mimetype": "text/x-python",
   "name": "python",
   "nbconvert_exporter": "python",
   "pygments_lexer": "ipython3",
   "version": "3.6.13"
  },
  "papermill": {
   "duration": 6.853265,
   "end_time": "2021-05-04T00:19:50.966017",
   "environment_variables": {},
   "exception": null,
   "input_path": "2020-03-21-covid19exp.ipynb",
   "output_path": "2020-03-21-covid19exp.ipynb",
   "parameters": {},
   "start_time": "2021-05-04T00:19:44.112752",
   "version": "2.0.0"
  }
 },
 "nbformat": 4,
 "nbformat_minor": 5
}