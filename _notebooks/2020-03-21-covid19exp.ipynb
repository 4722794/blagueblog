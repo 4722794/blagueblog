{
 "cells": [
  {
   "cell_type": "markdown",
   "id": "muslim-click",
   "metadata": {
    "papermill": {
     "duration": 0.03886,
     "end_time": "2021-05-18T12:11:48.803726",
     "exception": false,
     "start_time": "2021-05-18T12:11:48.764866",
     "status": "completed"
    },
    "tags": []
   },
   "source": [
    "# COVID-19 Case Race\n",
    "> A race chart to see rising cases around the world\n",
    "\n",
    "- author: Hargun Oberoi\n",
    "- image: images/covid-overview.png\n",
    "- hide: false\n",
    "- badges: false"
   ]
  },
  {
   "cell_type": "code",
   "execution_count": 1,
   "id": "proof-material",
   "metadata": {
    "execution": {
     "iopub.execute_input": "2021-05-18T12:11:48.884325Z",
     "iopub.status.busy": "2021-05-18T12:11:48.883775Z",
     "iopub.status.idle": "2021-05-18T12:11:49.242548Z",
     "shell.execute_reply": "2021-05-18T12:11:49.241465Z"
    },
    "papermill": {
     "duration": 0.405565,
     "end_time": "2021-05-18T12:11:49.242792",
     "exception": false,
     "start_time": "2021-05-18T12:11:48.837227",
     "status": "completed"
    },
    "tags": []
   },
   "outputs": [],
   "source": [
    "#hide\n",
    "import numpy as np\n",
    "import pandas as pd\n",
    "from jinja2 import Template\n",
    "from IPython.display import HTML"
   ]
  },
  {
   "cell_type": "code",
   "execution_count": 2,
   "id": "developed-terminology",
   "metadata": {
    "execution": {
     "iopub.execute_input": "2021-05-18T12:11:49.314814Z",
     "iopub.status.busy": "2021-05-18T12:11:49.314244Z",
     "iopub.status.idle": "2021-05-18T12:11:49.316408Z",
     "shell.execute_reply": "2021-05-18T12:11:49.315920Z"
    },
    "papermill": {
     "duration": 0.038878,
     "end_time": "2021-05-18T12:11:49.316528",
     "exception": false,
     "start_time": "2021-05-18T12:11:49.277650",
     "status": "completed"
    },
    "tags": []
   },
   "outputs": [],
   "source": [
    "#hide\n",
    "\n",
    "# FETCH\n",
    "base_url = 'https://raw.githubusercontent.com/pratapvardhan/notebooks/master/covid19/'\n",
    "paths = {\n",
    "    'mapping': base_url + 'mapping_countries.csv',\n",
    "    'overview': base_url + 'overview.tpl'\n",
    "}"
   ]
  },
  {
   "cell_type": "code",
   "execution_count": 3,
   "id": "dynamic-saver",
   "metadata": {
    "execution": {
     "iopub.execute_input": "2021-05-18T12:11:49.393937Z",
     "iopub.status.busy": "2021-05-18T12:11:49.393320Z",
     "iopub.status.idle": "2021-05-18T12:11:49.396621Z",
     "shell.execute_reply": "2021-05-18T12:11:49.396166Z"
    },
    "papermill": {
     "duration": 0.047905,
     "end_time": "2021-05-18T12:11:49.396732",
     "exception": false,
     "start_time": "2021-05-18T12:11:49.348827",
     "status": "completed"
    },
    "tags": []
   },
   "outputs": [
    {
     "data": {
      "text/plain": [
       "'https://raw.githubusercontent.com/pratapvardhan/notebooks/master/covid19/mapping_countries.csv'"
      ]
     },
     "execution_count": 3,
     "metadata": {},
     "output_type": "execute_result"
    }
   ],
   "source": [
    "#hide\n",
    "paths['mapping']"
   ]
  },
  {
   "cell_type": "code",
   "execution_count": 4,
   "id": "urban-software",
   "metadata": {
    "execution": {
     "iopub.execute_input": "2021-05-18T12:11:49.469390Z",
     "iopub.status.busy": "2021-05-18T12:11:49.468817Z",
     "iopub.status.idle": "2021-05-18T12:11:49.470928Z",
     "shell.execute_reply": "2021-05-18T12:11:49.471390Z"
    },
    "papermill": {
     "duration": 0.041945,
     "end_time": "2021-05-18T12:11:49.471518",
     "exception": false,
     "start_time": "2021-05-18T12:11:49.429573",
     "status": "completed"
    },
    "tags": []
   },
   "outputs": [],
   "source": [
    "#hide\n",
    "def get_mappings(url):\n",
    "    df = pd.read_csv(url)\n",
    "    return {\n",
    "        'df': df,\n",
    "        'replace.country': dict(df.dropna(subset=['Name']).set_index('Country')['Name']),\n",
    "        'map.continent': dict(df.set_index('Name')['Continent'])\n",
    "    }"
   ]
  },
  {
   "cell_type": "code",
   "execution_count": 5,
   "id": "intimate-machinery",
   "metadata": {
    "execution": {
     "iopub.execute_input": "2021-05-18T12:11:49.543248Z",
     "iopub.status.busy": "2021-05-18T12:11:49.542700Z",
     "iopub.status.idle": "2021-05-18T12:11:49.594885Z",
     "shell.execute_reply": "2021-05-18T12:11:49.594058Z"
    },
    "papermill": {
     "duration": 0.091144,
     "end_time": "2021-05-18T12:11:49.595085",
     "exception": false,
     "start_time": "2021-05-18T12:11:49.503941",
     "status": "completed"
    },
    "tags": []
   },
   "outputs": [],
   "source": [
    "#hide\n",
    "mapping = get_mappings(paths['mapping'])"
   ]
  },
  {
   "cell_type": "code",
   "execution_count": 6,
   "id": "certified-tactics",
   "metadata": {
    "execution": {
     "iopub.execute_input": "2021-05-18T12:11:49.671946Z",
     "iopub.status.busy": "2021-05-18T12:11:49.670931Z",
     "iopub.status.idle": "2021-05-18T12:11:49.672756Z",
     "shell.execute_reply": "2021-05-18T12:11:49.673218Z"
    },
    "papermill": {
     "duration": 0.042582,
     "end_time": "2021-05-18T12:11:49.673351",
     "exception": false,
     "start_time": "2021-05-18T12:11:49.630769",
     "status": "completed"
    },
    "tags": []
   },
   "outputs": [],
   "source": [
    "#hide\n",
    "def get_template(path):\n",
    "    from urllib.parse import urlparse\n",
    "    if bool(urlparse(path).netloc):\n",
    "        from urllib.request import urlopen\n",
    "        return urlopen(path).read().decode('utf8')\n",
    "    return open(path).read()"
   ]
  },
  {
   "cell_type": "code",
   "execution_count": 7,
   "id": "realistic-blast",
   "metadata": {
    "execution": {
     "iopub.execute_input": "2021-05-18T12:11:49.746001Z",
     "iopub.status.busy": "2021-05-18T12:11:49.745378Z",
     "iopub.status.idle": "2021-05-18T12:11:49.747546Z",
     "shell.execute_reply": "2021-05-18T12:11:49.746975Z"
    },
    "papermill": {
     "duration": 0.040978,
     "end_time": "2021-05-18T12:11:49.747662",
     "exception": false,
     "start_time": "2021-05-18T12:11:49.706684",
     "status": "completed"
    },
    "tags": []
   },
   "outputs": [],
   "source": [
    "#hide\n",
    "def get_frame(name):\n",
    "    url = (\n",
    "        'https://raw.githubusercontent.com/CSSEGISandData/COVID-19/master/csse_covid_19_data/'\n",
    "        f'csse_covid_19_time_series/time_series_covid19_{name}_global.csv')\n",
    "    df = pd.read_csv(url)\n",
    "    # rename countries\n",
    "    df['Country/Region'] = df['Country/Region'].replace(mapping['replace.country'])\n",
    "    return df"
   ]
  },
  {
   "cell_type": "code",
   "execution_count": 8,
   "id": "affiliated-characterization",
   "metadata": {
    "execution": {
     "iopub.execute_input": "2021-05-18T12:11:49.820904Z",
     "iopub.status.busy": "2021-05-18T12:11:49.820352Z",
     "iopub.status.idle": "2021-05-18T12:11:49.822970Z",
     "shell.execute_reply": "2021-05-18T12:11:49.822506Z"
    },
    "papermill": {
     "duration": 0.042087,
     "end_time": "2021-05-18T12:11:49.823096",
     "exception": false,
     "start_time": "2021-05-18T12:11:49.781009",
     "status": "completed"
    },
    "tags": []
   },
   "outputs": [],
   "source": [
    "#hide\n",
    "def get_dates(df):\n",
    "    dt_cols = df.columns[~df.columns.isin(['Province/State', 'Country/Region', 'Lat', 'Long'])]\n",
    "    LAST_DATE_I = -1\n",
    "    # sometimes last column may be empty, then go backwards\n",
    "    for i in range(-1, -len(dt_cols), -1):\n",
    "        if not df[dt_cols[i]].fillna(0).eq(0).all():\n",
    "            LAST_DATE_I = i\n",
    "            break\n",
    "    return LAST_DATE_I, dt_cols"
   ]
  },
  {
   "cell_type": "code",
   "execution_count": 9,
   "id": "recent-optimization",
   "metadata": {
    "execution": {
     "iopub.execute_input": "2021-05-18T12:11:49.895331Z",
     "iopub.status.busy": "2021-05-18T12:11:49.894751Z",
     "iopub.status.idle": "2021-05-18T12:11:50.408294Z",
     "shell.execute_reply": "2021-05-18T12:11:50.407688Z"
    },
    "papermill": {
     "duration": 0.55238,
     "end_time": "2021-05-18T12:11:50.408451",
     "exception": false,
     "start_time": "2021-05-18T12:11:49.856071",
     "status": "completed"
    },
    "tags": []
   },
   "outputs": [],
   "source": [
    "#hide\n",
    "COL_REGION = 'Country/Region'\n",
    "# Confirmed, Recovered, Deaths\n",
    "df = get_frame('confirmed')\n",
    "# dft_: timeseries, dfc_: today country agg\n",
    "dft_cases = df\n",
    "dft_deaths = get_frame('deaths')\n",
    "dft_recovered = get_frame('recovered')\n",
    "LAST_DATE_I, dt_cols = get_dates(df)"
   ]
  },
  {
   "cell_type": "code",
   "execution_count": 10,
   "id": "absolute-copper",
   "metadata": {
    "execution": {
     "iopub.execute_input": "2021-05-18T12:11:50.482407Z",
     "iopub.status.busy": "2021-05-18T12:11:50.481789Z",
     "iopub.status.idle": "2021-05-18T12:11:50.484273Z",
     "shell.execute_reply": "2021-05-18T12:11:50.484740Z"
    },
    "papermill": {
     "duration": 0.041651,
     "end_time": "2021-05-18T12:11:50.484879",
     "exception": false,
     "start_time": "2021-05-18T12:11:50.443228",
     "status": "completed"
    },
    "tags": []
   },
   "outputs": [],
   "source": [
    "#hide\n",
    "LAST_DATE_I, dt_cols = get_dates(df)\n",
    "dt_today =dt_cols[LAST_DATE_I]\n",
    "# dt_5day = dt_cols[LAST_DATE_I - 5]\n",
    "dt_yday = dt_cols[LAST_DATE_I - 1]"
   ]
  },
  {
   "cell_type": "code",
   "execution_count": 11,
   "id": "restricted-sheriff",
   "metadata": {
    "execution": {
     "iopub.execute_input": "2021-05-18T12:11:50.556592Z",
     "iopub.status.busy": "2021-05-18T12:11:50.556022Z",
     "iopub.status.idle": "2021-05-18T12:11:50.563650Z",
     "shell.execute_reply": "2021-05-18T12:11:50.564094Z"
    },
    "papermill": {
     "duration": 0.046803,
     "end_time": "2021-05-18T12:11:50.564228",
     "exception": false,
     "start_time": "2021-05-18T12:11:50.517425",
     "status": "completed"
    },
    "tags": []
   },
   "outputs": [],
   "source": [
    "#hide\n",
    "dfc_cases = dft_cases.groupby(COL_REGION)[dt_today].sum()\n",
    "dfc_deaths = dft_deaths.groupby(COL_REGION)[dt_today].sum()\n",
    "# dfp_cases = dft_cases.groupby(COL_REGION)[dt_5day].sum()\n",
    "# dfp_deaths = dft_deaths.groupby(COL_REGION)[dt_5day].sum()\n",
    "dfp_cases = dft_cases.groupby(COL_REGION)[dt_yday].sum()\n",
    "dfp_deaths = dft_deaths.groupby(COL_REGION)[dt_yday].sum()"
   ]
  },
  {
   "cell_type": "code",
   "execution_count": 12,
   "id": "deluxe-hepatitis",
   "metadata": {
    "execution": {
     "iopub.execute_input": "2021-05-18T12:11:50.635964Z",
     "iopub.status.busy": "2021-05-18T12:11:50.633531Z",
     "iopub.status.idle": "2021-05-18T12:11:50.639370Z",
     "shell.execute_reply": "2021-05-18T12:11:50.638912Z"
    },
    "papermill": {
     "duration": 0.043667,
     "end_time": "2021-05-18T12:11:50.639477",
     "exception": false,
     "start_time": "2021-05-18T12:11:50.595810",
     "status": "completed"
    },
    "tags": []
   },
   "outputs": [],
   "source": [
    "#hide\n",
    "df_table = (pd.DataFrame(dict(Cases = dfc_cases, Deaths = dfc_deaths, PCases = dfp_cases, PDeaths = dfp_deaths))\n",
    "            .sort_values(by = ['Cases','Deaths'], ascending = [False, False])\n",
    "            .reset_index())"
   ]
  },
  {
   "cell_type": "code",
   "execution_count": 13,
   "id": "educational-chancellor",
   "metadata": {
    "execution": {
     "iopub.execute_input": "2021-05-18T12:11:50.727962Z",
     "iopub.status.busy": "2021-05-18T12:11:50.722304Z",
     "iopub.status.idle": "2021-05-18T12:11:50.731430Z",
     "shell.execute_reply": "2021-05-18T12:11:50.730939Z"
    },
    "papermill": {
     "duration": 0.059891,
     "end_time": "2021-05-18T12:11:50.731545",
     "exception": false,
     "start_time": "2021-05-18T12:11:50.671654",
     "status": "completed"
    },
    "tags": []
   },
   "outputs": [
    {
     "data": {
      "text/html": [
       "<div>\n",
       "<style scoped>\n",
       "    .dataframe tbody tr th:only-of-type {\n",
       "        vertical-align: middle;\n",
       "    }\n",
       "\n",
       "    .dataframe tbody tr th {\n",
       "        vertical-align: top;\n",
       "    }\n",
       "\n",
       "    .dataframe thead th {\n",
       "        text-align: right;\n",
       "    }\n",
       "</style>\n",
       "<table border=\"1\" class=\"dataframe\">\n",
       "  <thead>\n",
       "    <tr style=\"text-align: right;\">\n",
       "      <th></th>\n",
       "      <th>Country/Region</th>\n",
       "      <th>Cases</th>\n",
       "      <th>Deaths</th>\n",
       "      <th>PCases</th>\n",
       "      <th>PDeaths</th>\n",
       "      <th>Cases (+)</th>\n",
       "      <th>Deaths (+)</th>\n",
       "      <th>Fatality Rate</th>\n",
       "      <th>Continent</th>\n",
       "    </tr>\n",
       "  </thead>\n",
       "  <tbody>\n",
       "    <tr>\n",
       "      <th>0</th>\n",
       "      <td>US</td>\n",
       "      <td>32969480</td>\n",
       "      <td>586362</td>\n",
       "      <td>32940846</td>\n",
       "      <td>585970</td>\n",
       "      <td>28634</td>\n",
       "      <td>392</td>\n",
       "      <td>1.78</td>\n",
       "      <td>North America</td>\n",
       "    </tr>\n",
       "    <tr>\n",
       "      <th>1</th>\n",
       "      <td>India</td>\n",
       "      <td>25228996</td>\n",
       "      <td>278719</td>\n",
       "      <td>24965463</td>\n",
       "      <td>274390</td>\n",
       "      <td>263533</td>\n",
       "      <td>4329</td>\n",
       "      <td>1.10</td>\n",
       "      <td>Asia</td>\n",
       "    </tr>\n",
       "    <tr>\n",
       "      <th>2</th>\n",
       "      <td>Brazil</td>\n",
       "      <td>15657391</td>\n",
       "      <td>436537</td>\n",
       "      <td>15627243</td>\n",
       "      <td>435751</td>\n",
       "      <td>30148</td>\n",
       "      <td>786</td>\n",
       "      <td>2.79</td>\n",
       "      <td>South America</td>\n",
       "    </tr>\n",
       "    <tr>\n",
       "      <th>3</th>\n",
       "      <td>France</td>\n",
       "      <td>5942370</td>\n",
       "      <td>107973</td>\n",
       "      <td>5939019</td>\n",
       "      <td>107777</td>\n",
       "      <td>3351</td>\n",
       "      <td>196</td>\n",
       "      <td>1.82</td>\n",
       "      <td>Europe</td>\n",
       "    </tr>\n",
       "    <tr>\n",
       "      <th>4</th>\n",
       "      <td>Turkey</td>\n",
       "      <td>5127548</td>\n",
       "      <td>44983</td>\n",
       "      <td>5117374</td>\n",
       "      <td>44760</td>\n",
       "      <td>10174</td>\n",
       "      <td>223</td>\n",
       "      <td>0.88</td>\n",
       "      <td>Asia</td>\n",
       "    </tr>\n",
       "  </tbody>\n",
       "</table>\n",
       "</div>"
      ],
      "text/plain": [
       "  Country/Region     Cases  Deaths    PCases  PDeaths  Cases (+)  Deaths (+)  \\\n",
       "0             US  32969480  586362  32940846   585970      28634         392   \n",
       "1          India  25228996  278719  24965463   274390     263533        4329   \n",
       "2         Brazil  15657391  436537  15627243   435751      30148         786   \n",
       "3         France   5942370  107973   5939019   107777       3351         196   \n",
       "4         Turkey   5127548   44983   5117374    44760      10174         223   \n",
       "\n",
       "   Fatality Rate      Continent  \n",
       "0           1.78  North America  \n",
       "1           1.10           Asia  \n",
       "2           2.79  South America  \n",
       "3           1.82         Europe  \n",
       "4           0.88           Asia  "
      ]
     },
     "execution_count": 13,
     "metadata": {},
     "output_type": "execute_result"
    }
   ],
   "source": [
    "#hide\n",
    "for c in 'Cases, Deaths'.split(', '):\n",
    "    df_table[f'{c} (+)'] = (df_table[c] - df_table[f'P{c}']).clip(0)\n",
    "    #Clip ça veut dire, les chiffres negatif sont interdit\n",
    "df_table['Fatality Rate'] = (100* df_table['Deaths']/ df_table['Cases']).round(2)\n",
    "df_table['Continent'] = df_table['Country/Region'].map(mapping['map.continent'])\n",
    "df_table.head(5)"
   ]
  },
  {
   "cell_type": "code",
   "execution_count": 14,
   "id": "aboriginal-bulgaria",
   "metadata": {
    "execution": {
     "iopub.execute_input": "2021-05-18T12:11:50.806988Z",
     "iopub.status.busy": "2021-05-18T12:11:50.806418Z",
     "iopub.status.idle": "2021-05-18T12:11:50.809091Z",
     "shell.execute_reply": "2021-05-18T12:11:50.809557Z"
    },
    "papermill": {
     "duration": 0.044356,
     "end_time": "2021-05-18T12:11:50.809690",
     "exception": false,
     "start_time": "2021-05-18T12:11:50.765334",
     "status": "completed"
    },
    "tags": []
   },
   "outputs": [],
   "source": [
    "#hide\n",
    "#delete problematic countries from table\n",
    "df_table = df_table[~df_table['Country/Region'].isin(['Cape Verde', 'Cruise Ship', 'Kosovo'])]"
   ]
  },
  {
   "cell_type": "code",
   "execution_count": 15,
   "id": "fantastic-effect",
   "metadata": {
    "execution": {
     "iopub.execute_input": "2021-05-18T12:11:50.885476Z",
     "iopub.status.busy": "2021-05-18T12:11:50.884409Z",
     "iopub.status.idle": "2021-05-18T12:11:50.903987Z",
     "shell.execute_reply": "2021-05-18T12:11:50.903446Z"
    },
    "papermill": {
     "duration": 0.060389,
     "end_time": "2021-05-18T12:11:50.904112",
     "exception": false,
     "start_time": "2021-05-18T12:11:50.843723",
     "status": "completed"
    },
    "tags": []
   },
   "outputs": [
    {
     "data": {
      "text/html": [
       "<div>\n",
       "<style scoped>\n",
       "    .dataframe tbody tr th:only-of-type {\n",
       "        vertical-align: middle;\n",
       "    }\n",
       "\n",
       "    .dataframe tbody tr th {\n",
       "        vertical-align: top;\n",
       "    }\n",
       "\n",
       "    .dataframe thead th {\n",
       "        text-align: right;\n",
       "    }\n",
       "</style>\n",
       "<table border=\"1\" class=\"dataframe\">\n",
       "  <thead>\n",
       "    <tr style=\"text-align: right;\">\n",
       "      <th></th>\n",
       "      <th>Country/Region</th>\n",
       "      <th>Cases</th>\n",
       "      <th>Deaths</th>\n",
       "      <th>PCases</th>\n",
       "      <th>PDeaths</th>\n",
       "      <th>Cases (+)</th>\n",
       "      <th>Deaths (+)</th>\n",
       "      <th>Fatality Rate</th>\n",
       "      <th>Continent</th>\n",
       "    </tr>\n",
       "  </thead>\n",
       "  <tbody>\n",
       "    <tr>\n",
       "      <th>0</th>\n",
       "      <td>US</td>\n",
       "      <td>32969480</td>\n",
       "      <td>586362</td>\n",
       "      <td>32940846</td>\n",
       "      <td>585970</td>\n",
       "      <td>28634</td>\n",
       "      <td>392</td>\n",
       "      <td>1.8</td>\n",
       "      <td>North America</td>\n",
       "    </tr>\n",
       "    <tr>\n",
       "      <th>1</th>\n",
       "      <td>India</td>\n",
       "      <td>25228996</td>\n",
       "      <td>278719</td>\n",
       "      <td>24965463</td>\n",
       "      <td>274390</td>\n",
       "      <td>263533</td>\n",
       "      <td>4329</td>\n",
       "      <td>1.1</td>\n",
       "      <td>Asia</td>\n",
       "    </tr>\n",
       "    <tr>\n",
       "      <th>2</th>\n",
       "      <td>Brazil</td>\n",
       "      <td>15657391</td>\n",
       "      <td>436537</td>\n",
       "      <td>15627243</td>\n",
       "      <td>435751</td>\n",
       "      <td>30148</td>\n",
       "      <td>786</td>\n",
       "      <td>2.8</td>\n",
       "      <td>South America</td>\n",
       "    </tr>\n",
       "    <tr>\n",
       "      <th>3</th>\n",
       "      <td>France</td>\n",
       "      <td>5942370</td>\n",
       "      <td>107973</td>\n",
       "      <td>5939019</td>\n",
       "      <td>107777</td>\n",
       "      <td>3351</td>\n",
       "      <td>196</td>\n",
       "      <td>1.8</td>\n",
       "      <td>Europe</td>\n",
       "    </tr>\n",
       "    <tr>\n",
       "      <th>4</th>\n",
       "      <td>Turkey</td>\n",
       "      <td>5127548</td>\n",
       "      <td>44983</td>\n",
       "      <td>5117374</td>\n",
       "      <td>44760</td>\n",
       "      <td>10174</td>\n",
       "      <td>223</td>\n",
       "      <td>0.9</td>\n",
       "      <td>Asia</td>\n",
       "    </tr>\n",
       "  </tbody>\n",
       "</table>\n",
       "</div>"
      ],
      "text/plain": [
       "  Country/Region     Cases  Deaths    PCases  PDeaths  Cases (+)  Deaths (+)  \\\n",
       "0             US  32969480  586362  32940846   585970      28634         392   \n",
       "1          India  25228996  278719  24965463   274390     263533        4329   \n",
       "2         Brazil  15657391  436537  15627243   435751      30148         786   \n",
       "3         France   5942370  107973   5939019   107777       3351         196   \n",
       "4         Turkey   5127548   44983   5117374    44760      10174         223   \n",
       "\n",
       "   Fatality Rate      Continent  \n",
       "0            1.8  North America  \n",
       "1            1.1           Asia  \n",
       "2            2.8  South America  \n",
       "3            1.8         Europe  \n",
       "4            0.9           Asia  "
      ]
     },
     "execution_count": 15,
     "metadata": {},
     "output_type": "execute_result"
    }
   ],
   "source": [
    "#hide\n",
    "df_table = (pd.DataFrame(dict(Cases=dfc_cases, Deaths=dfc_deaths, PCases=dfp_cases, PDeaths=dfp_deaths))\n",
    "             .sort_values(by=['Cases', 'Deaths'], ascending=[False, False])\n",
    "             .reset_index())\n",
    "df_table.rename(columns={'index': 'Country/Region'}, inplace=True)\n",
    "for c in 'Cases, Deaths'.split(', '):\n",
    "    df_table[f'{c} (+)'] = (df_table[c] - df_table[f'P{c}']).clip(0)  # DATA BUG\n",
    "df_table['Fatality Rate'] = (100 * df_table['Deaths'] / df_table['Cases']).round(1)\n",
    "df_table['Continent'] = df_table['Country/Region'].map(mapping['map.continent'])\n",
    "df_table.head(5)"
   ]
  },
  {
   "cell_type": "code",
   "execution_count": 16,
   "id": "fewer-occasion",
   "metadata": {
    "execution": {
     "iopub.execute_input": "2021-05-18T12:11:50.978378Z",
     "iopub.status.busy": "2021-05-18T12:11:50.977836Z",
     "iopub.status.idle": "2021-05-18T12:11:50.980068Z",
     "shell.execute_reply": "2021-05-18T12:11:50.980616Z"
    },
    "papermill": {
     "duration": 0.041682,
     "end_time": "2021-05-18T12:11:50.980747",
     "exception": false,
     "start_time": "2021-05-18T12:11:50.939065",
     "status": "completed"
    },
    "tags": []
   },
   "outputs": [],
   "source": [
    "#hide\n",
    "#delete problematic countries from table\n",
    "df_table = df_table[~df_table['Country/Region'].isin(['Cape Verde', 'Cruise Ship', 'Kosovo'])]"
   ]
  },
  {
   "cell_type": "code",
   "execution_count": 17,
   "id": "related-center",
   "metadata": {
    "execution": {
     "iopub.execute_input": "2021-05-18T12:11:51.057534Z",
     "iopub.status.busy": "2021-05-18T12:11:51.056956Z",
     "iopub.status.idle": "2021-05-18T12:11:51.069783Z",
     "shell.execute_reply": "2021-05-18T12:11:51.069293Z"
    },
    "papermill": {
     "duration": 0.05533,
     "end_time": "2021-05-18T12:11:51.069899",
     "exception": false,
     "start_time": "2021-05-18T12:11:51.014569",
     "status": "completed"
    },
    "tags": []
   },
   "outputs": [],
   "source": [
    "#hide\n",
    "metrics = [df_table.columns[index] for index in [1,2,5,6]]\n",
    "# s_china = df_table[df_table['Country/Region'].eq('China')][metrics].sum().add_prefix('China ')\n",
    "s_us = df_table[df_table['Country/Region'].eq('US')][metrics].sum().add_prefix('US ')\n",
    "s_eu = df_table[df_table['Continent'].eq('Europe')][metrics].sum().add_prefix('EU ')\n",
    "s_ind = df_table[df_table['Country/Region'].eq('India')][metrics].sum().add_prefix('India ')\n",
    "summary = {'updated': pd.to_datetime(dt_today), 'since': pd.to_datetime(dt_yday)}\n",
    "summary = {'updated': pd.to_datetime(dt_today), 'since': pd.to_datetime(dt_yday)}\n",
    "summary = {**summary, **df_table[metrics].sum(), **s_ind, **s_us, **s_eu}"
   ]
  },
  {
   "cell_type": "code",
   "execution_count": 18,
   "id": "engaging-syndrome",
   "metadata": {
    "execution": {
     "iopub.execute_input": "2021-05-18T12:11:51.144005Z",
     "iopub.status.busy": "2021-05-18T12:11:51.143422Z",
     "iopub.status.idle": "2021-05-18T12:11:51.155287Z",
     "shell.execute_reply": "2021-05-18T12:11:51.154814Z"
    },
    "papermill": {
     "duration": 0.051982,
     "end_time": "2021-05-18T12:11:51.155415",
     "exception": false,
     "start_time": "2021-05-18T12:11:51.103433",
     "status": "completed"
    },
    "tags": []
   },
   "outputs": [],
   "source": [
    "#hide\n",
    "dft_ct_new_cases = dft_cases.groupby(COL_REGION)[dt_cols].sum().diff(axis=1).fillna(0).astype(int)"
   ]
  },
  {
   "cell_type": "code",
   "execution_count": 19,
   "id": "neutral-assignment",
   "metadata": {
    "execution": {
     "iopub.execute_input": "2021-05-18T12:11:51.232685Z",
     "iopub.status.busy": "2021-05-18T12:11:51.231654Z",
     "iopub.status.idle": "2021-05-18T12:11:51.233505Z",
     "shell.execute_reply": "2021-05-18T12:11:51.234001Z"
    },
    "papermill": {
     "duration": 0.04453,
     "end_time": "2021-05-18T12:11:51.234136",
     "exception": false,
     "start_time": "2021-05-18T12:11:51.189606",
     "status": "completed"
    },
    "tags": []
   },
   "outputs": [],
   "source": [
    "#hide\n",
    "everydaycases = dft_ct_new_cases.cumsum(axis=1)"
   ]
  },
  {
   "cell_type": "code",
   "execution_count": 20,
   "id": "parliamentary-calgary",
   "metadata": {
    "execution": {
     "iopub.execute_input": "2021-05-18T12:11:51.308891Z",
     "iopub.status.busy": "2021-05-18T12:11:51.308311Z",
     "iopub.status.idle": "2021-05-18T12:11:51.895324Z",
     "shell.execute_reply": "2021-05-18T12:11:51.894810Z"
    },
    "papermill": {
     "duration": 0.62698,
     "end_time": "2021-05-18T12:11:51.895460",
     "exception": false,
     "start_time": "2021-05-18T12:11:51.268480",
     "status": "completed"
    },
    "tags": []
   },
   "outputs": [],
   "source": [
    "#hide\n",
    "import pandas as pd\n",
    "import matplotlib.pyplot as plt\n",
    "import matplotlib.ticker as ticker\n",
    "import matplotlib.animation as animation\n",
    "from IPython.display import HTML"
   ]
  },
  {
   "cell_type": "code",
   "execution_count": 21,
   "id": "lasting-extraction",
   "metadata": {
    "execution": {
     "iopub.execute_input": "2021-05-18T12:11:51.972109Z",
     "iopub.status.busy": "2021-05-18T12:11:51.971535Z",
     "iopub.status.idle": "2021-05-18T12:11:51.978091Z",
     "shell.execute_reply": "2021-05-18T12:11:51.978499Z"
    },
    "papermill": {
     "duration": 0.048514,
     "end_time": "2021-05-18T12:11:51.978632",
     "exception": false,
     "start_time": "2021-05-18T12:11:51.930118",
     "status": "completed"
    },
    "tags": []
   },
   "outputs": [],
   "source": [
    "#hide\n",
    "t = everydaycases.stack()"
   ]
  },
  {
   "cell_type": "code",
   "execution_count": 22,
   "id": "premier-sleeve",
   "metadata": {
    "execution": {
     "iopub.execute_input": "2021-05-18T12:11:52.053001Z",
     "iopub.status.busy": "2021-05-18T12:11:52.052423Z",
     "iopub.status.idle": "2021-05-18T12:11:52.062172Z",
     "shell.execute_reply": "2021-05-18T12:11:52.061675Z"
    },
    "papermill": {
     "duration": 0.049713,
     "end_time": "2021-05-18T12:11:52.062295",
     "exception": false,
     "start_time": "2021-05-18T12:11:52.012582",
     "status": "completed"
    },
    "tags": []
   },
   "outputs": [],
   "source": [
    "#hide\n",
    "g = t.reset_index(['Country/Region'])"
   ]
  },
  {
   "cell_type": "code",
   "execution_count": 23,
   "id": "distributed-pittsburgh",
   "metadata": {
    "execution": {
     "iopub.execute_input": "2021-05-18T12:11:52.135937Z",
     "iopub.status.busy": "2021-05-18T12:11:52.135371Z",
     "iopub.status.idle": "2021-05-18T12:11:52.138630Z",
     "shell.execute_reply": "2021-05-18T12:11:52.138167Z"
    },
    "papermill": {
     "duration": 0.042171,
     "end_time": "2021-05-18T12:11:52.138748",
     "exception": false,
     "start_time": "2021-05-18T12:11:52.096577",
     "status": "completed"
    },
    "tags": []
   },
   "outputs": [],
   "source": [
    "#hide\n",
    "g.index.name = 'date'"
   ]
  },
  {
   "cell_type": "code",
   "execution_count": 24,
   "id": "naked-donor",
   "metadata": {
    "execution": {
     "iopub.execute_input": "2021-05-18T12:11:52.212946Z",
     "iopub.status.busy": "2021-05-18T12:11:52.211921Z",
     "iopub.status.idle": "2021-05-18T12:11:52.214057Z",
     "shell.execute_reply": "2021-05-18T12:11:52.214868Z"
    },
    "papermill": {
     "duration": 0.042246,
     "end_time": "2021-05-18T12:11:52.215089",
     "exception": false,
     "start_time": "2021-05-18T12:11:52.172843",
     "status": "completed"
    },
    "tags": []
   },
   "outputs": [],
   "source": [
    "# #hide\n",
    "# g = g.reset_index(['date'])"
   ]
  },
  {
   "cell_type": "code",
   "execution_count": 25,
   "id": "incomplete-mustang",
   "metadata": {
    "execution": {
     "iopub.execute_input": "2021-05-18T12:11:52.287401Z",
     "iopub.status.busy": "2021-05-18T12:11:52.286805Z",
     "iopub.status.idle": "2021-05-18T12:11:52.289112Z",
     "shell.execute_reply": "2021-05-18T12:11:52.289635Z"
    },
    "papermill": {
     "duration": 0.039735,
     "end_time": "2021-05-18T12:11:52.289787",
     "exception": false,
     "start_time": "2021-05-18T12:11:52.250052",
     "status": "completed"
    },
    "tags": []
   },
   "outputs": [],
   "source": [
    "#hide\n",
    "# g.head()"
   ]
  },
  {
   "cell_type": "code",
   "execution_count": 26,
   "id": "specific-kruger",
   "metadata": {
    "execution": {
     "iopub.execute_input": "2021-05-18T12:11:52.361396Z",
     "iopub.status.busy": "2021-05-18T12:11:52.360823Z",
     "iopub.status.idle": "2021-05-18T12:11:52.363040Z",
     "shell.execute_reply": "2021-05-18T12:11:52.362590Z"
    },
    "papermill": {
     "duration": 0.040182,
     "end_time": "2021-05-18T12:11:52.363162",
     "exception": false,
     "start_time": "2021-05-18T12:11:52.322980",
     "status": "completed"
    },
    "tags": []
   },
   "outputs": [],
   "source": [
    "#hide\n",
    "# g.columns = ['date','country','cases']"
   ]
  },
  {
   "cell_type": "code",
   "execution_count": 27,
   "id": "tender-conversion",
   "metadata": {
    "execution": {
     "iopub.execute_input": "2021-05-18T12:11:52.435973Z",
     "iopub.status.busy": "2021-05-18T12:11:52.434966Z",
     "iopub.status.idle": "2021-05-18T12:11:52.437030Z",
     "shell.execute_reply": "2021-05-18T12:11:52.437878Z"
    },
    "papermill": {
     "duration": 0.041954,
     "end_time": "2021-05-18T12:11:52.438097",
     "exception": false,
     "start_time": "2021-05-18T12:11:52.396143",
     "status": "completed"
    },
    "tags": []
   },
   "outputs": [],
   "source": [
    "#hide\n",
    "# g['continent'] = g.country"
   ]
  },
  {
   "cell_type": "code",
   "execution_count": 28,
   "id": "substantial-wilderness",
   "metadata": {
    "execution": {
     "iopub.execute_input": "2021-05-18T12:11:52.512067Z",
     "iopub.status.busy": "2021-05-18T12:11:52.511501Z",
     "iopub.status.idle": "2021-05-18T12:11:52.514254Z",
     "shell.execute_reply": "2021-05-18T12:11:52.513784Z"
    },
    "papermill": {
     "duration": 0.040724,
     "end_time": "2021-05-18T12:11:52.514369",
     "exception": false,
     "start_time": "2021-05-18T12:11:52.473645",
     "status": "completed"
    },
    "tags": []
   },
   "outputs": [],
   "source": [
    "#hide\n",
    "# cols = list(g.columns.values)"
   ]
  },
  {
   "cell_type": "code",
   "execution_count": 29,
   "id": "solved-farming",
   "metadata": {
    "execution": {
     "iopub.execute_input": "2021-05-18T12:11:52.585329Z",
     "iopub.status.busy": "2021-05-18T12:11:52.584763Z",
     "iopub.status.idle": "2021-05-18T12:11:52.586658Z",
     "shell.execute_reply": "2021-05-18T12:11:52.587092Z"
    },
    "papermill": {
     "duration": 0.039864,
     "end_time": "2021-05-18T12:11:52.587221",
     "exception": false,
     "start_time": "2021-05-18T12:11:52.547357",
     "status": "completed"
    },
    "tags": []
   },
   "outputs": [],
   "source": [
    "#hide\n",
    "# cols.insert(0, cols.pop())"
   ]
  },
  {
   "cell_type": "code",
   "execution_count": 30,
   "id": "executed-adoption",
   "metadata": {
    "execution": {
     "iopub.execute_input": "2021-05-18T12:11:52.659020Z",
     "iopub.status.busy": "2021-05-18T12:11:52.658454Z",
     "iopub.status.idle": "2021-05-18T12:11:52.660872Z",
     "shell.execute_reply": "2021-05-18T12:11:52.661413Z"
    },
    "papermill": {
     "duration": 0.040477,
     "end_time": "2021-05-18T12:11:52.661540",
     "exception": false,
     "start_time": "2021-05-18T12:11:52.621063",
     "status": "completed"
    },
    "tags": []
   },
   "outputs": [],
   "source": [
    "#hide\n",
    "# g = g[cols]"
   ]
  },
  {
   "cell_type": "code",
   "execution_count": 31,
   "id": "subject-dublin",
   "metadata": {
    "execution": {
     "iopub.execute_input": "2021-05-18T12:11:52.734338Z",
     "iopub.status.busy": "2021-05-18T12:11:52.733751Z",
     "iopub.status.idle": "2021-05-18T12:11:52.736032Z",
     "shell.execute_reply": "2021-05-18T12:11:52.736494Z"
    },
    "papermill": {
     "duration": 0.041215,
     "end_time": "2021-05-18T12:11:52.736622",
     "exception": false,
     "start_time": "2021-05-18T12:11:52.695407",
     "status": "completed"
    },
    "tags": []
   },
   "outputs": [],
   "source": [
    "#hide\n",
    "# g['continent'] = g['continent'].map(mapping['map.continent'])"
   ]
  },
  {
   "cell_type": "code",
   "execution_count": 32,
   "id": "freelance-scout",
   "metadata": {
    "execution": {
     "iopub.execute_input": "2021-05-18T12:11:52.808757Z",
     "iopub.status.busy": "2021-05-18T12:11:52.808194Z",
     "iopub.status.idle": "2021-05-18T12:11:52.810507Z",
     "shell.execute_reply": "2021-05-18T12:11:52.811009Z"
    },
    "papermill": {
     "duration": 0.040285,
     "end_time": "2021-05-18T12:11:52.811125",
     "exception": false,
     "start_time": "2021-05-18T12:11:52.770840",
     "status": "completed"
    },
    "tags": []
   },
   "outputs": [],
   "source": [
    "#hide\n",
    "# g.head()"
   ]
  },
  {
   "cell_type": "code",
   "execution_count": 33,
   "id": "limited-engine",
   "metadata": {
    "execution": {
     "iopub.execute_input": "2021-05-18T12:11:52.883978Z",
     "iopub.status.busy": "2021-05-18T12:11:52.882965Z",
     "iopub.status.idle": "2021-05-18T12:11:52.885053Z",
     "shell.execute_reply": "2021-05-18T12:11:52.885889Z"
    },
    "papermill": {
     "duration": 0.04159,
     "end_time": "2021-05-18T12:11:52.886107",
     "exception": false,
     "start_time": "2021-05-18T12:11:52.844517",
     "status": "completed"
    },
    "tags": []
   },
   "outputs": [],
   "source": [
    "# hide\n",
    "# g['date'] = g['date'].astype('datetime64[ns]')"
   ]
  },
  {
   "cell_type": "code",
   "execution_count": 34,
   "id": "sophisticated-supervisor",
   "metadata": {
    "execution": {
     "iopub.execute_input": "2021-05-18T12:11:52.958623Z",
     "iopub.status.busy": "2021-05-18T12:11:52.958046Z",
     "iopub.status.idle": "2021-05-18T12:11:52.960263Z",
     "shell.execute_reply": "2021-05-18T12:11:52.960703Z"
    },
    "papermill": {
     "duration": 0.039936,
     "end_time": "2021-05-18T12:11:52.960834",
     "exception": false,
     "start_time": "2021-05-18T12:11:52.920898",
     "status": "completed"
    },
    "tags": []
   },
   "outputs": [],
   "source": [
    "#hide\n",
    "# g['date'] = g.date.dt.dayofyear"
   ]
  },
  {
   "cell_type": "code",
   "execution_count": 35,
   "id": "inside-dubai",
   "metadata": {
    "execution": {
     "iopub.execute_input": "2021-05-18T12:11:53.033030Z",
     "iopub.status.busy": "2021-05-18T12:11:53.032453Z",
     "iopub.status.idle": "2021-05-18T12:11:53.034862Z",
     "shell.execute_reply": "2021-05-18T12:11:53.035406Z"
    },
    "papermill": {
     "duration": 0.041033,
     "end_time": "2021-05-18T12:11:53.035532",
     "exception": false,
     "start_time": "2021-05-18T12:11:52.994499",
     "status": "completed"
    },
    "tags": []
   },
   "outputs": [],
   "source": [
    "#hide\n",
    "# g = g.rename(columns= {'continent':'group','country':'name','cases':'value'})"
   ]
  },
  {
   "cell_type": "code",
   "execution_count": 36,
   "id": "fleet-motorcycle",
   "metadata": {
    "execution": {
     "iopub.execute_input": "2021-05-18T12:11:53.107748Z",
     "iopub.status.busy": "2021-05-18T12:11:53.106912Z",
     "iopub.status.idle": "2021-05-18T12:11:53.108619Z",
     "shell.execute_reply": "2021-05-18T12:11:53.109271Z"
    },
    "papermill": {
     "duration": 0.039887,
     "end_time": "2021-05-18T12:11:53.109448",
     "exception": false,
     "start_time": "2021-05-18T12:11:53.069561",
     "status": "completed"
    },
    "tags": []
   },
   "outputs": [],
   "source": [
    "#hide\n",
    "# cols = ['name','group','day','value']"
   ]
  },
  {
   "cell_type": "code",
   "execution_count": 37,
   "id": "continued-sleeping",
   "metadata": {
    "execution": {
     "iopub.execute_input": "2021-05-18T12:11:53.180843Z",
     "iopub.status.busy": "2021-05-18T12:11:53.180275Z",
     "iopub.status.idle": "2021-05-18T12:11:53.183128Z",
     "shell.execute_reply": "2021-05-18T12:11:53.182564Z"
    },
    "papermill": {
     "duration": 0.0398,
     "end_time": "2021-05-18T12:11:53.183239",
     "exception": false,
     "start_time": "2021-05-18T12:11:53.143439",
     "status": "completed"
    },
    "tags": []
   },
   "outputs": [],
   "source": [
    "#hide\n",
    "# g.rename(columns= {'date':'day'},inplace = True)"
   ]
  },
  {
   "cell_type": "code",
   "execution_count": 38,
   "id": "major-fight",
   "metadata": {
    "execution": {
     "iopub.execute_input": "2021-05-18T12:11:53.255494Z",
     "iopub.status.busy": "2021-05-18T12:11:53.254949Z",
     "iopub.status.idle": "2021-05-18T12:11:53.257338Z",
     "shell.execute_reply": "2021-05-18T12:11:53.257906Z"
    },
    "papermill": {
     "duration": 0.040725,
     "end_time": "2021-05-18T12:11:53.258035",
     "exception": false,
     "start_time": "2021-05-18T12:11:53.217310",
     "status": "completed"
    },
    "tags": []
   },
   "outputs": [],
   "source": [
    "#hide\n",
    "# g = g[cols]"
   ]
  },
  {
   "cell_type": "code",
   "execution_count": 39,
   "id": "structured-mobile",
   "metadata": {
    "execution": {
     "iopub.execute_input": "2021-05-18T12:11:53.330003Z",
     "iopub.status.busy": "2021-05-18T12:11:53.329411Z",
     "iopub.status.idle": "2021-05-18T12:11:53.331851Z",
     "shell.execute_reply": "2021-05-18T12:11:53.332338Z"
    },
    "papermill": {
     "duration": 0.040619,
     "end_time": "2021-05-18T12:11:53.332467",
     "exception": false,
     "start_time": "2021-05-18T12:11:53.291848",
     "status": "completed"
    },
    "tags": []
   },
   "outputs": [],
   "source": [
    "# #hide\n",
    "# g = g[g.group.notna()]"
   ]
  },
  {
   "cell_type": "code",
   "execution_count": 40,
   "id": "determined-closing",
   "metadata": {
    "execution": {
     "iopub.execute_input": "2021-05-18T12:11:53.405408Z",
     "iopub.status.busy": "2021-05-18T12:11:53.404818Z",
     "iopub.status.idle": "2021-05-18T12:11:53.407052Z",
     "shell.execute_reply": "2021-05-18T12:11:53.406568Z"
    },
    "papermill": {
     "duration": 0.040967,
     "end_time": "2021-05-18T12:11:53.407166",
     "exception": false,
     "start_time": "2021-05-18T12:11:53.366199",
     "status": "completed"
    },
    "tags": []
   },
   "outputs": [],
   "source": [
    "# #hide\n",
    "# colors = dict(zip(\n",
    "#     [\"Oceania\", \"Europe\", \"Asia\", \"South America\", \"Middle East\", \"North America\", \"Africa\"],\n",
    "#     [\"#adb0ff\", \"#ffb3ff\", \"#90d595\", \"#e48381\", \"#aafbff\", \"#f7bb5f\", \"#eafb50\"]\n",
    "# ))\n",
    "# group_lk = g.set_index('name')['group'].to_dict()"
   ]
  },
  {
   "cell_type": "code",
   "execution_count": null,
   "id": "gross-drinking",
   "metadata": {
    "papermill": {
     "duration": 0.034409,
     "end_time": "2021-05-18T12:11:53.475714",
     "exception": false,
     "start_time": "2021-05-18T12:11:53.441305",
     "status": "completed"
    },
    "tags": []
   },
   "outputs": [],
   "source": []
  },
  {
   "cell_type": "code",
   "execution_count": 41,
   "id": "subject-macintosh",
   "metadata": {
    "execution": {
     "iopub.execute_input": "2021-05-18T12:11:53.548708Z",
     "iopub.status.busy": "2021-05-18T12:11:53.548104Z",
     "iopub.status.idle": "2021-05-18T12:11:53.550461Z",
     "shell.execute_reply": "2021-05-18T12:11:53.550991Z"
    },
    "papermill": {
     "duration": 0.041257,
     "end_time": "2021-05-18T12:11:53.551125",
     "exception": false,
     "start_time": "2021-05-18T12:11:53.509868",
     "status": "completed"
    },
    "tags": []
   },
   "outputs": [],
   "source": [
    "# #hide\n",
    "# fig, ax = plt.subplots(figsize=(15, 8))\n",
    "\n",
    "# def draw_barchart(current_day):\n",
    "#     dff = g[g['day'].eq(current_day)].sort_values(by='value', ascending=True).tail(10)\n",
    "#     ax.clear()\n",
    "#     ax.barh(dff['name'], dff['value'], color=[colors[group_lk[x]] for x in dff['name']])\n",
    "#     dx = dff['value'].max() / 200\n",
    "    \n",
    "#     for i, (value, name) in enumerate(zip(dff['value'], dff['name'])):\n",
    "#         ax.text(value-dx, i,     name,           size=14, weight=600, ha='right', va='bottom')\n",
    "#         ax.text(value-dx, i-.25, group_lk[name], size=10, color='#444444', ha='right', va='baseline')\n",
    "#         ax.text(value+dx, i,     f'{value:,.0f}',  size=14, ha='left',  va='center')\n",
    "#     ax.text(1, 0.4, current_day, transform=ax.transAxes, color='#777777', size=46, ha='right', weight=800)\n",
    "#     ax.text(0, 1.06, 'Population (thousands)', transform=ax.transAxes, size=12, color='#777777')\n",
    "#     ax.xaxis.set_major_formatter(ticker.StrMethodFormatter('{x:,.0f}'))\n",
    "#     ax.xaxis.set_ticks_position('top')\n",
    "#     ax.tick_params(axis='x', colors='#777777', labelsize=12)\n",
    "#     ax.set_yticks([])\n",
    "#     ax.margins(0, 0.01)\n",
    "#     ax.grid(which='major', axis='x', linestyle='-')\n",
    "#     ax.set_axisbelow(True)\n",
    "    \n",
    "#     ax.text(0, 1.15, 'Coronavirus',\n",
    "#             transform=ax.transAxes, size=24, weight=600, ha='left', va='top')\n",
    "# #     ax.text(1, 0, 'by @pratapvardhan; credit @jburnmurdoch', transform=ax.transAxes, color='#777777', ha='right',\n",
    "# #             bbox=dict(facecolor='white', alpha=0.8, edgecolor='white'))\n",
    "#     plt.box(False)"
   ]
  },
  {
   "cell_type": "code",
   "execution_count": 42,
   "id": "sexual-wages",
   "metadata": {
    "execution": {
     "iopub.execute_input": "2021-05-18T12:11:53.621826Z",
     "iopub.status.busy": "2021-05-18T12:11:53.621274Z",
     "iopub.status.idle": "2021-05-18T12:11:53.623723Z",
     "shell.execute_reply": "2021-05-18T12:11:53.624177Z"
    },
    "papermill": {
     "duration": 0.040088,
     "end_time": "2021-05-18T12:11:53.624314",
     "exception": false,
     "start_time": "2021-05-18T12:11:53.584226",
     "status": "completed"
    },
    "tags": []
   },
   "outputs": [],
   "source": [
    "# #hide_input\n",
    "# fig, ax = plt.subplots(figsize=(15, 8))\n",
    "# animator = animation.FuncAnimation(fig, draw_barchart, frames=range(g.day.values.min(), g.day.values.max()))\n",
    "# HTML(animator.to_jshtml())\n",
    "# # or use animator.to_html5_video() or animator.save() "
   ]
  },
  {
   "cell_type": "code",
   "execution_count": null,
   "id": "australian-container",
   "metadata": {
    "papermill": {
     "duration": 0.033224,
     "end_time": "2021-05-18T12:11:53.689987",
     "exception": false,
     "start_time": "2021-05-18T12:11:53.656763",
     "status": "completed"
    },
    "tags": []
   },
   "outputs": [],
   "source": []
  },
  {
   "cell_type": "code",
   "execution_count": null,
   "id": "mediterranean-pontiac",
   "metadata": {
    "papermill": {
     "duration": 0.033809,
     "end_time": "2021-05-18T12:11:53.756695",
     "exception": false,
     "start_time": "2021-05-18T12:11:53.722886",
     "status": "completed"
    },
    "tags": []
   },
   "outputs": [],
   "source": []
  },
  {
   "cell_type": "code",
   "execution_count": null,
   "id": "aging-legislature",
   "metadata": {
    "papermill": {
     "duration": 0.033371,
     "end_time": "2021-05-18T12:11:53.823000",
     "exception": false,
     "start_time": "2021-05-18T12:11:53.789629",
     "status": "completed"
    },
    "tags": []
   },
   "outputs": [],
   "source": []
  }
 ],
 "metadata": {
  "kernelspec": {
   "display_name": "Python 3",
   "language": "python",
   "name": "python3"
  },
  "language_info": {
   "codemirror_mode": {
    "name": "ipython",
    "version": 3
   },
   "file_extension": ".py",
   "mimetype": "text/x-python",
   "name": "python",
   "nbconvert_exporter": "python",
   "pygments_lexer": "ipython3",
   "version": "3.6.13"
  },
  "papermill": {
   "duration": 6.691242,
   "end_time": "2021-05-18T12:11:54.165066",
   "environment_variables": {},
   "exception": null,
   "input_path": "2020-03-21-covid19exp.ipynb",
   "output_path": "2020-03-21-covid19exp.ipynb",
   "parameters": {},
   "start_time": "2021-05-18T12:11:47.473824",
   "version": "2.0.0"
  }
 },
 "nbformat": 4,
 "nbformat_minor": 5
}