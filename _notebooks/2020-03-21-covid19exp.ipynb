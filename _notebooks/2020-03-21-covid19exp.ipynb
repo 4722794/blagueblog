{
 "cells": [
  {
   "cell_type": "markdown",
   "id": "muslim-click",
   "metadata": {
    "papermill": {
     "duration": 0.049128,
     "end_time": "2022-06-23T00:38:45.991113",
     "exception": false,
     "start_time": "2022-06-23T00:38:45.941985",
     "status": "completed"
    },
    "tags": []
   },
   "source": [
    "# COVID-19 Case Race\n",
    "> A race chart to see rising cases around the world\n",
    "\n",
    "- author: Hargun Oberoi\n",
    "- image: images/covid-overview.png\n",
    "- hide: false\n",
    "- badges: false"
   ]
  },
  {
   "cell_type": "code",
   "execution_count": 1,
   "id": "proof-material",
   "metadata": {
    "execution": {
     "iopub.execute_input": "2022-06-23T00:38:46.095577Z",
     "iopub.status.busy": "2022-06-23T00:38:46.094744Z",
     "iopub.status.idle": "2022-06-23T00:38:46.617052Z",
     "shell.execute_reply": "2022-06-23T00:38:46.616232Z"
    },
    "papermill": {
     "duration": 0.58389,
     "end_time": "2022-06-23T00:38:46.617234",
     "exception": false,
     "start_time": "2022-06-23T00:38:46.033344",
     "status": "completed"
    },
    "tags": []
   },
   "outputs": [],
   "source": [
    "#hide\n",
    "import numpy as np\n",
    "import pandas as pd\n",
    "from jinja2 import Template\n",
    "from IPython.display import HTML"
   ]
  },
  {
   "cell_type": "code",
   "execution_count": 2,
   "id": "developed-terminology",
   "metadata": {
    "execution": {
     "iopub.execute_input": "2022-06-23T00:38:46.736106Z",
     "iopub.status.busy": "2022-06-23T00:38:46.735159Z",
     "iopub.status.idle": "2022-06-23T00:38:46.737904Z",
     "shell.execute_reply": "2022-06-23T00:38:46.738632Z"
    },
    "papermill": {
     "duration": 0.063902,
     "end_time": "2022-06-23T00:38:46.738811",
     "exception": false,
     "start_time": "2022-06-23T00:38:46.674909",
     "status": "completed"
    },
    "tags": []
   },
   "outputs": [],
   "source": [
    "#hide\n",
    "\n",
    "# FETCH\n",
    "base_url = 'https://raw.githubusercontent.com/pratapvardhan/notebooks/master/covid19/'\n",
    "paths = {\n",
    "    'mapping': base_url + 'mapping_countries.csv',\n",
    "    'overview': base_url + 'overview.tpl'\n",
    "}"
   ]
  },
  {
   "cell_type": "code",
   "execution_count": 3,
   "id": "dynamic-saver",
   "metadata": {
    "execution": {
     "iopub.execute_input": "2022-06-23T00:38:46.846696Z",
     "iopub.status.busy": "2022-06-23T00:38:46.845793Z",
     "iopub.status.idle": "2022-06-23T00:38:46.854723Z",
     "shell.execute_reply": "2022-06-23T00:38:46.855539Z"
    },
    "papermill": {
     "duration": 0.067521,
     "end_time": "2022-06-23T00:38:46.855739",
     "exception": false,
     "start_time": "2022-06-23T00:38:46.788218",
     "status": "completed"
    },
    "tags": []
   },
   "outputs": [
    {
     "data": {
      "text/plain": [
       "'https://raw.githubusercontent.com/pratapvardhan/notebooks/master/covid19/mapping_countries.csv'"
      ]
     },
     "execution_count": 3,
     "metadata": {},
     "output_type": "execute_result"
    }
   ],
   "source": [
    "#hide\n",
    "paths['mapping']"
   ]
  },
  {
   "cell_type": "code",
   "execution_count": 4,
   "id": "urban-software",
   "metadata": {
    "execution": {
     "iopub.execute_input": "2022-06-23T00:38:46.961348Z",
     "iopub.status.busy": "2022-06-23T00:38:46.960267Z",
     "iopub.status.idle": "2022-06-23T00:38:46.963923Z",
     "shell.execute_reply": "2022-06-23T00:38:46.962954Z"
    },
    "papermill": {
     "duration": 0.053936,
     "end_time": "2022-06-23T00:38:46.964072",
     "exception": false,
     "start_time": "2022-06-23T00:38:46.910136",
     "status": "completed"
    },
    "tags": []
   },
   "outputs": [],
   "source": [
    "#hide\n",
    "def get_mappings(url):\n",
    "    df = pd.read_csv(url)\n",
    "    return {\n",
    "        'df': df,\n",
    "        'replace.country': dict(df.dropna(subset=['Name']).set_index('Country')['Name']),\n",
    "        'map.continent': dict(df.set_index('Name')['Continent'])\n",
    "    }"
   ]
  },
  {
   "cell_type": "code",
   "execution_count": 5,
   "id": "intimate-machinery",
   "metadata": {
    "execution": {
     "iopub.execute_input": "2022-06-23T00:38:47.061061Z",
     "iopub.status.busy": "2022-06-23T00:38:47.060253Z",
     "iopub.status.idle": "2022-06-23T00:38:47.093230Z",
     "shell.execute_reply": "2022-06-23T00:38:47.094000Z"
    },
    "papermill": {
     "duration": 0.085455,
     "end_time": "2022-06-23T00:38:47.094267",
     "exception": false,
     "start_time": "2022-06-23T00:38:47.008812",
     "status": "completed"
    },
    "tags": []
   },
   "outputs": [],
   "source": [
    "#hide\n",
    "mapping = get_mappings(paths['mapping'])"
   ]
  },
  {
   "cell_type": "code",
   "execution_count": 6,
   "id": "certified-tactics",
   "metadata": {
    "execution": {
     "iopub.execute_input": "2022-06-23T00:38:47.192784Z",
     "iopub.status.busy": "2022-06-23T00:38:47.191907Z",
     "iopub.status.idle": "2022-06-23T00:38:47.197902Z",
     "shell.execute_reply": "2022-06-23T00:38:47.197298Z"
    },
    "papermill": {
     "duration": 0.058463,
     "end_time": "2022-06-23T00:38:47.198055",
     "exception": false,
     "start_time": "2022-06-23T00:38:47.139592",
     "status": "completed"
    },
    "tags": []
   },
   "outputs": [],
   "source": [
    "#hide\n",
    "def get_template(path):\n",
    "    from urllib.parse import urlparse\n",
    "    if bool(urlparse(path).netloc):\n",
    "        from urllib.request import urlopen\n",
    "        return urlopen(path).read().decode('utf8')\n",
    "    return open(path).read()"
   ]
  },
  {
   "cell_type": "code",
   "execution_count": 7,
   "id": "realistic-blast",
   "metadata": {
    "execution": {
     "iopub.execute_input": "2022-06-23T00:38:47.304923Z",
     "iopub.status.busy": "2022-06-23T00:38:47.304000Z",
     "iopub.status.idle": "2022-06-23T00:38:47.307668Z",
     "shell.execute_reply": "2022-06-23T00:38:47.306963Z"
    },
    "papermill": {
     "duration": 0.064096,
     "end_time": "2022-06-23T00:38:47.307881",
     "exception": false,
     "start_time": "2022-06-23T00:38:47.243785",
     "status": "completed"
    },
    "tags": []
   },
   "outputs": [],
   "source": [
    "#hide\n",
    "def get_frame(name):\n",
    "    url = (\n",
    "        'https://raw.githubusercontent.com/CSSEGISandData/COVID-19/master/csse_covid_19_data/'\n",
    "        f'csse_covid_19_time_series/time_series_covid19_{name}_global.csv')\n",
    "    df = pd.read_csv(url)\n",
    "    # rename countries\n",
    "    df['Country/Region'] = df['Country/Region'].replace(mapping['replace.country'])\n",
    "    return df"
   ]
  },
  {
   "cell_type": "code",
   "execution_count": 8,
   "id": "affiliated-characterization",
   "metadata": {
    "execution": {
     "iopub.execute_input": "2022-06-23T00:38:47.409349Z",
     "iopub.status.busy": "2022-06-23T00:38:47.408427Z",
     "iopub.status.idle": "2022-06-23T00:38:47.411021Z",
     "shell.execute_reply": "2022-06-23T00:38:47.411763Z"
    },
    "papermill": {
     "duration": 0.059751,
     "end_time": "2022-06-23T00:38:47.411943",
     "exception": false,
     "start_time": "2022-06-23T00:38:47.352192",
     "status": "completed"
    },
    "tags": []
   },
   "outputs": [],
   "source": [
    "#hide\n",
    "def get_dates(df):\n",
    "    dt_cols = df.columns[~df.columns.isin(['Province/State', 'Country/Region', 'Lat', 'Long'])]\n",
    "    LAST_DATE_I = -1\n",
    "    # sometimes last column may be empty, then go backwards\n",
    "    for i in range(-1, -len(dt_cols), -1):\n",
    "        if not df[dt_cols[i]].fillna(0).eq(0).all():\n",
    "            LAST_DATE_I = i\n",
    "            break\n",
    "    return LAST_DATE_I, dt_cols"
   ]
  },
  {
   "cell_type": "code",
   "execution_count": 9,
   "id": "recent-optimization",
   "metadata": {
    "execution": {
     "iopub.execute_input": "2022-06-23T00:38:47.516265Z",
     "iopub.status.busy": "2022-06-23T00:38:47.515431Z",
     "iopub.status.idle": "2022-06-23T00:38:48.051518Z",
     "shell.execute_reply": "2022-06-23T00:38:48.050120Z"
    },
    "papermill": {
     "duration": 0.586285,
     "end_time": "2022-06-23T00:38:48.051677",
     "exception": false,
     "start_time": "2022-06-23T00:38:47.465392",
     "status": "completed"
    },
    "tags": []
   },
   "outputs": [],
   "source": [
    "#hide\n",
    "COL_REGION = 'Country/Region'\n",
    "# Confirmed, Recovered, Deaths\n",
    "df = get_frame('confirmed')\n",
    "# dft_: timeseries, dfc_: today country agg\n",
    "dft_cases = df\n",
    "dft_deaths = get_frame('deaths')\n",
    "dft_recovered = get_frame('recovered')\n",
    "LAST_DATE_I, dt_cols = get_dates(df)"
   ]
  },
  {
   "cell_type": "code",
   "execution_count": 10,
   "id": "absolute-copper",
   "metadata": {
    "execution": {
     "iopub.execute_input": "2022-06-23T00:38:48.139783Z",
     "iopub.status.busy": "2022-06-23T00:38:48.139004Z",
     "iopub.status.idle": "2022-06-23T00:38:48.142999Z",
     "shell.execute_reply": "2022-06-23T00:38:48.142196Z"
    },
    "papermill": {
     "duration": 0.051523,
     "end_time": "2022-06-23T00:38:48.143173",
     "exception": false,
     "start_time": "2022-06-23T00:38:48.091650",
     "status": "completed"
    },
    "tags": []
   },
   "outputs": [],
   "source": [
    "#hide\n",
    "LAST_DATE_I, dt_cols = get_dates(df)\n",
    "dt_today =dt_cols[LAST_DATE_I]\n",
    "# dt_5day = dt_cols[LAST_DATE_I - 5]\n",
    "dt_yday = dt_cols[LAST_DATE_I - 1]"
   ]
  },
  {
   "cell_type": "code",
   "execution_count": 11,
   "id": "restricted-sheriff",
   "metadata": {
    "execution": {
     "iopub.execute_input": "2022-06-23T00:38:48.244528Z",
     "iopub.status.busy": "2022-06-23T00:38:48.243614Z",
     "iopub.status.idle": "2022-06-23T00:38:48.255103Z",
     "shell.execute_reply": "2022-06-23T00:38:48.255718Z"
    },
    "papermill": {
     "duration": 0.064895,
     "end_time": "2022-06-23T00:38:48.255904",
     "exception": false,
     "start_time": "2022-06-23T00:38:48.191009",
     "status": "completed"
    },
    "tags": []
   },
   "outputs": [],
   "source": [
    "#hide\n",
    "dfc_cases = dft_cases.groupby(COL_REGION)[dt_today].sum()\n",
    "dfc_deaths = dft_deaths.groupby(COL_REGION)[dt_today].sum()\n",
    "# dfp_cases = dft_cases.groupby(COL_REGION)[dt_5day].sum()\n",
    "# dfp_deaths = dft_deaths.groupby(COL_REGION)[dt_5day].sum()\n",
    "dfp_cases = dft_cases.groupby(COL_REGION)[dt_yday].sum()\n",
    "dfp_deaths = dft_deaths.groupby(COL_REGION)[dt_yday].sum()"
   ]
  },
  {
   "cell_type": "code",
   "execution_count": 12,
   "id": "deluxe-hepatitis",
   "metadata": {
    "execution": {
     "iopub.execute_input": "2022-06-23T00:38:48.351015Z",
     "iopub.status.busy": "2022-06-23T00:38:48.350150Z",
     "iopub.status.idle": "2022-06-23T00:38:48.359762Z",
     "shell.execute_reply": "2022-06-23T00:38:48.359090Z"
    },
    "papermill": {
     "duration": 0.064498,
     "end_time": "2022-06-23T00:38:48.359919",
     "exception": false,
     "start_time": "2022-06-23T00:38:48.295421",
     "status": "completed"
    },
    "tags": []
   },
   "outputs": [],
   "source": [
    "#hide\n",
    "df_table = (pd.DataFrame(dict(Cases = dfc_cases, Deaths = dfc_deaths, PCases = dfp_cases, PDeaths = dfp_deaths))\n",
    "            .sort_values(by = ['Cases','Deaths'], ascending = [False, False])\n",
    "            .reset_index())"
   ]
  },
  {
   "cell_type": "code",
   "execution_count": 13,
   "id": "educational-chancellor",
   "metadata": {
    "execution": {
     "iopub.execute_input": "2022-06-23T00:38:48.488339Z",
     "iopub.status.busy": "2022-06-23T00:38:48.467472Z",
     "iopub.status.idle": "2022-06-23T00:38:48.498529Z",
     "shell.execute_reply": "2022-06-23T00:38:48.497841Z"
    },
    "papermill": {
     "duration": 0.095629,
     "end_time": "2022-06-23T00:38:48.498722",
     "exception": false,
     "start_time": "2022-06-23T00:38:48.403093",
     "status": "completed"
    },
    "tags": []
   },
   "outputs": [
    {
     "data": {
      "text/html": [
       "<div>\n",
       "<style scoped>\n",
       "    .dataframe tbody tr th:only-of-type {\n",
       "        vertical-align: middle;\n",
       "    }\n",
       "\n",
       "    .dataframe tbody tr th {\n",
       "        vertical-align: top;\n",
       "    }\n",
       "\n",
       "    .dataframe thead th {\n",
       "        text-align: right;\n",
       "    }\n",
       "</style>\n",
       "<table border=\"1\" class=\"dataframe\">\n",
       "  <thead>\n",
       "    <tr style=\"text-align: right;\">\n",
       "      <th></th>\n",
       "      <th>Country/Region</th>\n",
       "      <th>Cases</th>\n",
       "      <th>Deaths</th>\n",
       "      <th>PCases</th>\n",
       "      <th>PDeaths</th>\n",
       "      <th>Cases (+)</th>\n",
       "      <th>Deaths (+)</th>\n",
       "      <th>Fatality Rate</th>\n",
       "      <th>Continent</th>\n",
       "    </tr>\n",
       "  </thead>\n",
       "  <tbody>\n",
       "    <tr>\n",
       "      <th>0</th>\n",
       "      <td>US</td>\n",
       "      <td>86452232</td>\n",
       "      <td>1013975</td>\n",
       "      <td>86297081</td>\n",
       "      <td>1013493</td>\n",
       "      <td>155151</td>\n",
       "      <td>482</td>\n",
       "      <td>1.17</td>\n",
       "      <td>North America</td>\n",
       "    </tr>\n",
       "    <tr>\n",
       "      <th>1</th>\n",
       "      <td>India</td>\n",
       "      <td>43331645</td>\n",
       "      <td>524903</td>\n",
       "      <td>43319396</td>\n",
       "      <td>524890</td>\n",
       "      <td>12249</td>\n",
       "      <td>13</td>\n",
       "      <td>1.21</td>\n",
       "      <td>Asia</td>\n",
       "    </tr>\n",
       "    <tr>\n",
       "      <th>2</th>\n",
       "      <td>Brazil</td>\n",
       "      <td>31818827</td>\n",
       "      <td>669390</td>\n",
       "      <td>31754465</td>\n",
       "      <td>669161</td>\n",
       "      <td>64362</td>\n",
       "      <td>229</td>\n",
       "      <td>2.10</td>\n",
       "      <td>South America</td>\n",
       "    </tr>\n",
       "    <tr>\n",
       "      <th>3</th>\n",
       "      <td>France</td>\n",
       "      <td>30476915</td>\n",
       "      <td>150201</td>\n",
       "      <td>30381221</td>\n",
       "      <td>150145</td>\n",
       "      <td>95694</td>\n",
       "      <td>56</td>\n",
       "      <td>0.49</td>\n",
       "      <td>Europe</td>\n",
       "    </tr>\n",
       "    <tr>\n",
       "      <th>4</th>\n",
       "      <td>Germany</td>\n",
       "      <td>27454225</td>\n",
       "      <td>140462</td>\n",
       "      <td>27334993</td>\n",
       "      <td>140358</td>\n",
       "      <td>119232</td>\n",
       "      <td>104</td>\n",
       "      <td>0.51</td>\n",
       "      <td>Europe</td>\n",
       "    </tr>\n",
       "  </tbody>\n",
       "</table>\n",
       "</div>"
      ],
      "text/plain": [
       "  Country/Region     Cases   Deaths    PCases  PDeaths  Cases (+)  Deaths (+)  \\\n",
       "0             US  86452232  1013975  86297081  1013493     155151         482   \n",
       "1          India  43331645   524903  43319396   524890      12249          13   \n",
       "2         Brazil  31818827   669390  31754465   669161      64362         229   \n",
       "3         France  30476915   150201  30381221   150145      95694          56   \n",
       "4        Germany  27454225   140462  27334993   140358     119232         104   \n",
       "\n",
       "   Fatality Rate      Continent  \n",
       "0           1.17  North America  \n",
       "1           1.21           Asia  \n",
       "2           2.10  South America  \n",
       "3           0.49         Europe  \n",
       "4           0.51         Europe  "
      ]
     },
     "execution_count": 13,
     "metadata": {},
     "output_type": "execute_result"
    }
   ],
   "source": [
    "#hide\n",
    "for c in 'Cases, Deaths'.split(', '):\n",
    "    df_table[f'{c} (+)'] = (df_table[c] - df_table[f'P{c}']).clip(0)\n",
    "    #Clip ça veut dire, les chiffres negatif sont interdit\n",
    "df_table['Fatality Rate'] = (100* df_table['Deaths']/ df_table['Cases']).round(2)\n",
    "df_table['Continent'] = df_table['Country/Region'].map(mapping['map.continent'])\n",
    "df_table.head(5)"
   ]
  },
  {
   "cell_type": "code",
   "execution_count": 14,
   "id": "aboriginal-bulgaria",
   "metadata": {
    "execution": {
     "iopub.execute_input": "2022-06-23T00:38:48.591753Z",
     "iopub.status.busy": "2022-06-23T00:38:48.590909Z",
     "iopub.status.idle": "2022-06-23T00:38:48.594342Z",
     "shell.execute_reply": "2022-06-23T00:38:48.595095Z"
    },
    "papermill": {
     "duration": 0.055244,
     "end_time": "2022-06-23T00:38:48.595285",
     "exception": false,
     "start_time": "2022-06-23T00:38:48.540041",
     "status": "completed"
    },
    "tags": []
   },
   "outputs": [],
   "source": [
    "#hide\n",
    "#delete problematic countries from table\n",
    "df_table = df_table[~df_table['Country/Region'].isin(['Cape Verde', 'Cruise Ship', 'Kosovo'])]"
   ]
  },
  {
   "cell_type": "code",
   "execution_count": 15,
   "id": "fantastic-effect",
   "metadata": {
    "execution": {
     "iopub.execute_input": "2022-06-23T00:38:48.695179Z",
     "iopub.status.busy": "2022-06-23T00:38:48.694353Z",
     "iopub.status.idle": "2022-06-23T00:38:48.719363Z",
     "shell.execute_reply": "2022-06-23T00:38:48.718730Z"
    },
    "papermill": {
     "duration": 0.084259,
     "end_time": "2022-06-23T00:38:48.719510",
     "exception": false,
     "start_time": "2022-06-23T00:38:48.635251",
     "status": "completed"
    },
    "tags": []
   },
   "outputs": [
    {
     "data": {
      "text/html": [
       "<div>\n",
       "<style scoped>\n",
       "    .dataframe tbody tr th:only-of-type {\n",
       "        vertical-align: middle;\n",
       "    }\n",
       "\n",
       "    .dataframe tbody tr th {\n",
       "        vertical-align: top;\n",
       "    }\n",
       "\n",
       "    .dataframe thead th {\n",
       "        text-align: right;\n",
       "    }\n",
       "</style>\n",
       "<table border=\"1\" class=\"dataframe\">\n",
       "  <thead>\n",
       "    <tr style=\"text-align: right;\">\n",
       "      <th></th>\n",
       "      <th>Country/Region</th>\n",
       "      <th>Cases</th>\n",
       "      <th>Deaths</th>\n",
       "      <th>PCases</th>\n",
       "      <th>PDeaths</th>\n",
       "      <th>Cases (+)</th>\n",
       "      <th>Deaths (+)</th>\n",
       "      <th>Fatality Rate</th>\n",
       "      <th>Continent</th>\n",
       "    </tr>\n",
       "  </thead>\n",
       "  <tbody>\n",
       "    <tr>\n",
       "      <th>0</th>\n",
       "      <td>US</td>\n",
       "      <td>86452232</td>\n",
       "      <td>1013975</td>\n",
       "      <td>86297081</td>\n",
       "      <td>1013493</td>\n",
       "      <td>155151</td>\n",
       "      <td>482</td>\n",
       "      <td>1.2</td>\n",
       "      <td>North America</td>\n",
       "    </tr>\n",
       "    <tr>\n",
       "      <th>1</th>\n",
       "      <td>India</td>\n",
       "      <td>43331645</td>\n",
       "      <td>524903</td>\n",
       "      <td>43319396</td>\n",
       "      <td>524890</td>\n",
       "      <td>12249</td>\n",
       "      <td>13</td>\n",
       "      <td>1.2</td>\n",
       "      <td>Asia</td>\n",
       "    </tr>\n",
       "    <tr>\n",
       "      <th>2</th>\n",
       "      <td>Brazil</td>\n",
       "      <td>31818827</td>\n",
       "      <td>669390</td>\n",
       "      <td>31754465</td>\n",
       "      <td>669161</td>\n",
       "      <td>64362</td>\n",
       "      <td>229</td>\n",
       "      <td>2.1</td>\n",
       "      <td>South America</td>\n",
       "    </tr>\n",
       "    <tr>\n",
       "      <th>3</th>\n",
       "      <td>France</td>\n",
       "      <td>30476915</td>\n",
       "      <td>150201</td>\n",
       "      <td>30381221</td>\n",
       "      <td>150145</td>\n",
       "      <td>95694</td>\n",
       "      <td>56</td>\n",
       "      <td>0.5</td>\n",
       "      <td>Europe</td>\n",
       "    </tr>\n",
       "    <tr>\n",
       "      <th>4</th>\n",
       "      <td>Germany</td>\n",
       "      <td>27454225</td>\n",
       "      <td>140462</td>\n",
       "      <td>27334993</td>\n",
       "      <td>140358</td>\n",
       "      <td>119232</td>\n",
       "      <td>104</td>\n",
       "      <td>0.5</td>\n",
       "      <td>Europe</td>\n",
       "    </tr>\n",
       "  </tbody>\n",
       "</table>\n",
       "</div>"
      ],
      "text/plain": [
       "  Country/Region     Cases   Deaths    PCases  PDeaths  Cases (+)  Deaths (+)  \\\n",
       "0             US  86452232  1013975  86297081  1013493     155151         482   \n",
       "1          India  43331645   524903  43319396   524890      12249          13   \n",
       "2         Brazil  31818827   669390  31754465   669161      64362         229   \n",
       "3         France  30476915   150201  30381221   150145      95694          56   \n",
       "4        Germany  27454225   140462  27334993   140358     119232         104   \n",
       "\n",
       "   Fatality Rate      Continent  \n",
       "0            1.2  North America  \n",
       "1            1.2           Asia  \n",
       "2            2.1  South America  \n",
       "3            0.5         Europe  \n",
       "4            0.5         Europe  "
      ]
     },
     "execution_count": 15,
     "metadata": {},
     "output_type": "execute_result"
    }
   ],
   "source": [
    "#hide\n",
    "df_table = (pd.DataFrame(dict(Cases=dfc_cases, Deaths=dfc_deaths, PCases=dfp_cases, PDeaths=dfp_deaths))\n",
    "             .sort_values(by=['Cases', 'Deaths'], ascending=[False, False])\n",
    "             .reset_index())\n",
    "df_table.rename(columns={'index': 'Country/Region'}, inplace=True)\n",
    "for c in 'Cases, Deaths'.split(', '):\n",
    "    df_table[f'{c} (+)'] = (df_table[c] - df_table[f'P{c}']).clip(0)  # DATA BUG\n",
    "df_table['Fatality Rate'] = (100 * df_table['Deaths'] / df_table['Cases']).round(1)\n",
    "df_table['Continent'] = df_table['Country/Region'].map(mapping['map.continent'])\n",
    "df_table.head(5)"
   ]
  },
  {
   "cell_type": "code",
   "execution_count": 16,
   "id": "fewer-occasion",
   "metadata": {
    "execution": {
     "iopub.execute_input": "2022-06-23T00:38:48.820218Z",
     "iopub.status.busy": "2022-06-23T00:38:48.819381Z",
     "iopub.status.idle": "2022-06-23T00:38:48.822776Z",
     "shell.execute_reply": "2022-06-23T00:38:48.821819Z"
    },
    "papermill": {
     "duration": 0.056727,
     "end_time": "2022-06-23T00:38:48.822927",
     "exception": false,
     "start_time": "2022-06-23T00:38:48.766200",
     "status": "completed"
    },
    "tags": []
   },
   "outputs": [],
   "source": [
    "#hide\n",
    "#delete problematic countries from table\n",
    "df_table = df_table[~df_table['Country/Region'].isin(['Cape Verde', 'Cruise Ship', 'Kosovo'])]"
   ]
  },
  {
   "cell_type": "code",
   "execution_count": 17,
   "id": "related-center",
   "metadata": {
    "execution": {
     "iopub.execute_input": "2022-06-23T00:38:48.927492Z",
     "iopub.status.busy": "2022-06-23T00:38:48.926642Z",
     "iopub.status.idle": "2022-06-23T00:38:48.944239Z",
     "shell.execute_reply": "2022-06-23T00:38:48.943560Z"
    },
    "papermill": {
     "duration": 0.076646,
     "end_time": "2022-06-23T00:38:48.944396",
     "exception": false,
     "start_time": "2022-06-23T00:38:48.867750",
     "status": "completed"
    },
    "tags": []
   },
   "outputs": [],
   "source": [
    "#hide\n",
    "metrics = [df_table.columns[index] for index in [1,2,5,6]]\n",
    "# s_china = df_table[df_table['Country/Region'].eq('China')][metrics].sum().add_prefix('China ')\n",
    "s_us = df_table[df_table['Country/Region'].eq('US')][metrics].sum().add_prefix('US ')\n",
    "s_eu = df_table[df_table['Continent'].eq('Europe')][metrics].sum().add_prefix('EU ')\n",
    "s_ind = df_table[df_table['Country/Region'].eq('India')][metrics].sum().add_prefix('India ')\n",
    "summary = {'updated': pd.to_datetime(dt_today), 'since': pd.to_datetime(dt_yday)}\n",
    "summary = {'updated': pd.to_datetime(dt_today), 'since': pd.to_datetime(dt_yday)}\n",
    "summary = {**summary, **df_table[metrics].sum(), **s_ind, **s_us, **s_eu}"
   ]
  },
  {
   "cell_type": "code",
   "execution_count": 18,
   "id": "engaging-syndrome",
   "metadata": {
    "execution": {
     "iopub.execute_input": "2022-06-23T00:38:49.042485Z",
     "iopub.status.busy": "2022-06-23T00:38:49.041649Z",
     "iopub.status.idle": "2022-06-23T00:38:49.070514Z",
     "shell.execute_reply": "2022-06-23T00:38:49.069619Z"
    },
    "papermill": {
     "duration": 0.083133,
     "end_time": "2022-06-23T00:38:49.070681",
     "exception": false,
     "start_time": "2022-06-23T00:38:48.987548",
     "status": "completed"
    },
    "tags": []
   },
   "outputs": [],
   "source": [
    "#hide\n",
    "dft_ct_new_cases = dft_cases.groupby(COL_REGION)[dt_cols].sum().diff(axis=1).fillna(0).astype(int)"
   ]
  },
  {
   "cell_type": "code",
   "execution_count": 19,
   "id": "neutral-assignment",
   "metadata": {
    "execution": {
     "iopub.execute_input": "2022-06-23T00:38:49.175723Z",
     "iopub.status.busy": "2022-06-23T00:38:49.174724Z",
     "iopub.status.idle": "2022-06-23T00:38:49.177090Z",
     "shell.execute_reply": "2022-06-23T00:38:49.176433Z"
    },
    "papermill": {
     "duration": 0.06087,
     "end_time": "2022-06-23T00:38:49.177239",
     "exception": false,
     "start_time": "2022-06-23T00:38:49.116369",
     "status": "completed"
    },
    "tags": []
   },
   "outputs": [],
   "source": [
    "#hide\n",
    "everydaycases = dft_ct_new_cases.cumsum(axis=1)"
   ]
  },
  {
   "cell_type": "code",
   "execution_count": 20,
   "id": "parliamentary-calgary",
   "metadata": {
    "execution": {
     "iopub.execute_input": "2022-06-23T00:38:49.270766Z",
     "iopub.status.busy": "2022-06-23T00:38:49.269966Z",
     "iopub.status.idle": "2022-06-23T00:38:50.067184Z",
     "shell.execute_reply": "2022-06-23T00:38:50.065803Z"
    },
    "papermill": {
     "duration": 0.845968,
     "end_time": "2022-06-23T00:38:50.067359",
     "exception": false,
     "start_time": "2022-06-23T00:38:49.221391",
     "status": "completed"
    },
    "tags": []
   },
   "outputs": [],
   "source": [
    "#hide\n",
    "import pandas as pd\n",
    "import matplotlib.pyplot as plt\n",
    "import matplotlib.ticker as ticker\n",
    "import matplotlib.animation as animation\n",
    "from IPython.display import HTML"
   ]
  },
  {
   "cell_type": "code",
   "execution_count": 21,
   "id": "lasting-extraction",
   "metadata": {
    "execution": {
     "iopub.execute_input": "2022-06-23T00:38:50.182841Z",
     "iopub.status.busy": "2022-06-23T00:38:50.182012Z",
     "iopub.status.idle": "2022-06-23T00:38:50.197739Z",
     "shell.execute_reply": "2022-06-23T00:38:50.196843Z"
    },
    "papermill": {
     "duration": 0.084184,
     "end_time": "2022-06-23T00:38:50.197899",
     "exception": false,
     "start_time": "2022-06-23T00:38:50.113715",
     "status": "completed"
    },
    "tags": []
   },
   "outputs": [],
   "source": [
    "#hide\n",
    "t = everydaycases.stack()"
   ]
  },
  {
   "cell_type": "code",
   "execution_count": 22,
   "id": "premier-sleeve",
   "metadata": {
    "execution": {
     "iopub.execute_input": "2022-06-23T00:38:50.286703Z",
     "iopub.status.busy": "2022-06-23T00:38:50.285661Z",
     "iopub.status.idle": "2022-06-23T00:38:50.303731Z",
     "shell.execute_reply": "2022-06-23T00:38:50.303038Z"
    },
    "papermill": {
     "duration": 0.064323,
     "end_time": "2022-06-23T00:38:50.303884",
     "exception": false,
     "start_time": "2022-06-23T00:38:50.239561",
     "status": "completed"
    },
    "tags": []
   },
   "outputs": [],
   "source": [
    "#hide\n",
    "g = t.reset_index(['Country/Region'])"
   ]
  },
  {
   "cell_type": "code",
   "execution_count": 23,
   "id": "distributed-pittsburgh",
   "metadata": {
    "execution": {
     "iopub.execute_input": "2022-06-23T00:38:50.393389Z",
     "iopub.status.busy": "2022-06-23T00:38:50.392552Z",
     "iopub.status.idle": "2022-06-23T00:38:50.395756Z",
     "shell.execute_reply": "2022-06-23T00:38:50.394982Z"
    },
    "papermill": {
     "duration": 0.050299,
     "end_time": "2022-06-23T00:38:50.395908",
     "exception": false,
     "start_time": "2022-06-23T00:38:50.345609",
     "status": "completed"
    },
    "tags": []
   },
   "outputs": [],
   "source": [
    "#hide\n",
    "g.index.name = 'date'"
   ]
  },
  {
   "cell_type": "code",
   "execution_count": 24,
   "id": "naked-donor",
   "metadata": {
    "execution": {
     "iopub.execute_input": "2022-06-23T00:38:50.485312Z",
     "iopub.status.busy": "2022-06-23T00:38:50.484486Z",
     "iopub.status.idle": "2022-06-23T00:38:50.487850Z",
     "shell.execute_reply": "2022-06-23T00:38:50.487219Z"
    },
    "papermill": {
     "duration": 0.050446,
     "end_time": "2022-06-23T00:38:50.488014",
     "exception": false,
     "start_time": "2022-06-23T00:38:50.437568",
     "status": "completed"
    },
    "tags": []
   },
   "outputs": [],
   "source": [
    "# #hide\n",
    "# g = g.reset_index(['date'])"
   ]
  },
  {
   "cell_type": "code",
   "execution_count": 25,
   "id": "incomplete-mustang",
   "metadata": {
    "execution": {
     "iopub.execute_input": "2022-06-23T00:38:50.581060Z",
     "iopub.status.busy": "2022-06-23T00:38:50.580235Z",
     "iopub.status.idle": "2022-06-23T00:38:50.583084Z",
     "shell.execute_reply": "2022-06-23T00:38:50.583653Z"
    },
    "papermill": {
     "duration": 0.05278,
     "end_time": "2022-06-23T00:38:50.583832",
     "exception": false,
     "start_time": "2022-06-23T00:38:50.531052",
     "status": "completed"
    },
    "tags": []
   },
   "outputs": [],
   "source": [
    "#hide\n",
    "# g.head()"
   ]
  },
  {
   "cell_type": "code",
   "execution_count": 26,
   "id": "specific-kruger",
   "metadata": {
    "execution": {
     "iopub.execute_input": "2022-06-23T00:38:50.680045Z",
     "iopub.status.busy": "2022-06-23T00:38:50.679232Z",
     "iopub.status.idle": "2022-06-23T00:38:50.683917Z",
     "shell.execute_reply": "2022-06-23T00:38:50.684499Z"
    },
    "papermill": {
     "duration": 0.056707,
     "end_time": "2022-06-23T00:38:50.684683",
     "exception": false,
     "start_time": "2022-06-23T00:38:50.627976",
     "status": "completed"
    },
    "tags": []
   },
   "outputs": [],
   "source": [
    "#hide\n",
    "# g.columns = ['date','country','cases']"
   ]
  },
  {
   "cell_type": "code",
   "execution_count": 27,
   "id": "tender-conversion",
   "metadata": {
    "execution": {
     "iopub.execute_input": "2022-06-23T00:38:50.780189Z",
     "iopub.status.busy": "2022-06-23T00:38:50.779367Z",
     "iopub.status.idle": "2022-06-23T00:38:50.782827Z",
     "shell.execute_reply": "2022-06-23T00:38:50.782172Z"
    },
    "papermill": {
     "duration": 0.054474,
     "end_time": "2022-06-23T00:38:50.782974",
     "exception": false,
     "start_time": "2022-06-23T00:38:50.728500",
     "status": "completed"
    },
    "tags": []
   },
   "outputs": [],
   "source": [
    "#hide\n",
    "# g['continent'] = g.country"
   ]
  },
  {
   "cell_type": "code",
   "execution_count": 28,
   "id": "substantial-wilderness",
   "metadata": {
    "execution": {
     "iopub.execute_input": "2022-06-23T00:38:50.874598Z",
     "iopub.status.busy": "2022-06-23T00:38:50.873662Z",
     "iopub.status.idle": "2022-06-23T00:38:50.879174Z",
     "shell.execute_reply": "2022-06-23T00:38:50.878499Z"
    },
    "papermill": {
     "duration": 0.053811,
     "end_time": "2022-06-23T00:38:50.879330",
     "exception": false,
     "start_time": "2022-06-23T00:38:50.825519",
     "status": "completed"
    },
    "tags": []
   },
   "outputs": [],
   "source": [
    "#hide\n",
    "# cols = list(g.columns.values)"
   ]
  },
  {
   "cell_type": "code",
   "execution_count": 29,
   "id": "solved-farming",
   "metadata": {
    "execution": {
     "iopub.execute_input": "2022-06-23T00:38:50.971684Z",
     "iopub.status.busy": "2022-06-23T00:38:50.970936Z",
     "iopub.status.idle": "2022-06-23T00:38:50.974425Z",
     "shell.execute_reply": "2022-06-23T00:38:50.973803Z"
    },
    "papermill": {
     "duration": 0.052099,
     "end_time": "2022-06-23T00:38:50.974572",
     "exception": false,
     "start_time": "2022-06-23T00:38:50.922473",
     "status": "completed"
    },
    "tags": []
   },
   "outputs": [],
   "source": [
    "#hide\n",
    "# cols.insert(0, cols.pop())"
   ]
  },
  {
   "cell_type": "code",
   "execution_count": 30,
   "id": "executed-adoption",
   "metadata": {
    "execution": {
     "iopub.execute_input": "2022-06-23T00:38:51.065417Z",
     "iopub.status.busy": "2022-06-23T00:38:51.064519Z",
     "iopub.status.idle": "2022-06-23T00:38:51.068754Z",
     "shell.execute_reply": "2022-06-23T00:38:51.069374Z"
    },
    "papermill": {
     "duration": 0.052288,
     "end_time": "2022-06-23T00:38:51.069566",
     "exception": false,
     "start_time": "2022-06-23T00:38:51.017278",
     "status": "completed"
    },
    "tags": []
   },
   "outputs": [],
   "source": [
    "#hide\n",
    "# g = g[cols]"
   ]
  },
  {
   "cell_type": "code",
   "execution_count": 31,
   "id": "subject-dublin",
   "metadata": {
    "execution": {
     "iopub.execute_input": "2022-06-23T00:38:51.169015Z",
     "iopub.status.busy": "2022-06-23T00:38:51.168199Z",
     "iopub.status.idle": "2022-06-23T00:38:51.173190Z",
     "shell.execute_reply": "2022-06-23T00:38:51.172497Z"
    },
    "papermill": {
     "duration": 0.051791,
     "end_time": "2022-06-23T00:38:51.173344",
     "exception": false,
     "start_time": "2022-06-23T00:38:51.121553",
     "status": "completed"
    },
    "tags": []
   },
   "outputs": [],
   "source": [
    "#hide\n",
    "# g['continent'] = g['continent'].map(mapping['map.continent'])"
   ]
  },
  {
   "cell_type": "code",
   "execution_count": 32,
   "id": "freelance-scout",
   "metadata": {
    "execution": {
     "iopub.execute_input": "2022-06-23T00:38:51.264353Z",
     "iopub.status.busy": "2022-06-23T00:38:51.263520Z",
     "iopub.status.idle": "2022-06-23T00:38:51.268970Z",
     "shell.execute_reply": "2022-06-23T00:38:51.268265Z"
    },
    "papermill": {
     "duration": 0.053116,
     "end_time": "2022-06-23T00:38:51.269127",
     "exception": false,
     "start_time": "2022-06-23T00:38:51.216011",
     "status": "completed"
    },
    "tags": []
   },
   "outputs": [],
   "source": [
    "#hide\n",
    "# g.head()"
   ]
  },
  {
   "cell_type": "code",
   "execution_count": 33,
   "id": "limited-engine",
   "metadata": {
    "execution": {
     "iopub.execute_input": "2022-06-23T00:38:51.374547Z",
     "iopub.status.busy": "2022-06-23T00:38:51.373677Z",
     "iopub.status.idle": "2022-06-23T00:38:51.377307Z",
     "shell.execute_reply": "2022-06-23T00:38:51.376635Z"
    },
    "papermill": {
     "duration": 0.050392,
     "end_time": "2022-06-23T00:38:51.377460",
     "exception": false,
     "start_time": "2022-06-23T00:38:51.327068",
     "status": "completed"
    },
    "tags": []
   },
   "outputs": [],
   "source": [
    "# hide\n",
    "# g['date'] = g['date'].astype('datetime64[ns]')"
   ]
  },
  {
   "cell_type": "code",
   "execution_count": 34,
   "id": "sophisticated-supervisor",
   "metadata": {
    "execution": {
     "iopub.execute_input": "2022-06-23T00:38:51.464080Z",
     "iopub.status.busy": "2022-06-23T00:38:51.463289Z",
     "iopub.status.idle": "2022-06-23T00:38:51.467021Z",
     "shell.execute_reply": "2022-06-23T00:38:51.466410Z"
    },
    "papermill": {
     "duration": 0.049269,
     "end_time": "2022-06-23T00:38:51.467175",
     "exception": false,
     "start_time": "2022-06-23T00:38:51.417906",
     "status": "completed"
    },
    "tags": []
   },
   "outputs": [],
   "source": [
    "#hide\n",
    "# g['date'] = g.date.dt.dayofyear"
   ]
  },
  {
   "cell_type": "code",
   "execution_count": 35,
   "id": "inside-dubai",
   "metadata": {
    "execution": {
     "iopub.execute_input": "2022-06-23T00:38:51.568577Z",
     "iopub.status.busy": "2022-06-23T00:38:51.567757Z",
     "iopub.status.idle": "2022-06-23T00:38:51.570328Z",
     "shell.execute_reply": "2022-06-23T00:38:51.571069Z"
    },
    "papermill": {
     "duration": 0.062735,
     "end_time": "2022-06-23T00:38:51.571246",
     "exception": false,
     "start_time": "2022-06-23T00:38:51.508511",
     "status": "completed"
    },
    "tags": []
   },
   "outputs": [],
   "source": [
    "#hide\n",
    "# g = g.rename(columns= {'continent':'group','country':'name','cases':'value'})"
   ]
  },
  {
   "cell_type": "code",
   "execution_count": 36,
   "id": "fleet-motorcycle",
   "metadata": {
    "execution": {
     "iopub.execute_input": "2022-06-23T00:38:51.661484Z",
     "iopub.status.busy": "2022-06-23T00:38:51.660651Z",
     "iopub.status.idle": "2022-06-23T00:38:51.665342Z",
     "shell.execute_reply": "2022-06-23T00:38:51.664650Z"
    },
    "papermill": {
     "duration": 0.052008,
     "end_time": "2022-06-23T00:38:51.665497",
     "exception": false,
     "start_time": "2022-06-23T00:38:51.613489",
     "status": "completed"
    },
    "tags": []
   },
   "outputs": [],
   "source": [
    "#hide\n",
    "# cols = ['name','group','day','value']"
   ]
  },
  {
   "cell_type": "code",
   "execution_count": 37,
   "id": "continued-sleeping",
   "metadata": {
    "execution": {
     "iopub.execute_input": "2022-06-23T00:38:51.765408Z",
     "iopub.status.busy": "2022-06-23T00:38:51.764587Z",
     "iopub.status.idle": "2022-06-23T00:38:51.769246Z",
     "shell.execute_reply": "2022-06-23T00:38:51.768598Z"
    },
    "papermill": {
     "duration": 0.061529,
     "end_time": "2022-06-23T00:38:51.769399",
     "exception": false,
     "start_time": "2022-06-23T00:38:51.707870",
     "status": "completed"
    },
    "tags": []
   },
   "outputs": [],
   "source": [
    "#hide\n",
    "# g.rename(columns= {'date':'day'},inplace = True)"
   ]
  },
  {
   "cell_type": "code",
   "execution_count": 38,
   "id": "major-fight",
   "metadata": {
    "execution": {
     "iopub.execute_input": "2022-06-23T00:38:51.857635Z",
     "iopub.status.busy": "2022-06-23T00:38:51.856829Z",
     "iopub.status.idle": "2022-06-23T00:38:51.859852Z",
     "shell.execute_reply": "2022-06-23T00:38:51.859221Z"
    },
    "papermill": {
     "duration": 0.049885,
     "end_time": "2022-06-23T00:38:51.860003",
     "exception": false,
     "start_time": "2022-06-23T00:38:51.810118",
     "status": "completed"
    },
    "tags": []
   },
   "outputs": [],
   "source": [
    "#hide\n",
    "# g = g[cols]"
   ]
  },
  {
   "cell_type": "code",
   "execution_count": 39,
   "id": "structured-mobile",
   "metadata": {
    "execution": {
     "iopub.execute_input": "2022-06-23T00:38:51.957812Z",
     "iopub.status.busy": "2022-06-23T00:38:51.957034Z",
     "iopub.status.idle": "2022-06-23T00:38:51.960366Z",
     "shell.execute_reply": "2022-06-23T00:38:51.959756Z"
    },
    "papermill": {
     "duration": 0.056034,
     "end_time": "2022-06-23T00:38:51.960519",
     "exception": false,
     "start_time": "2022-06-23T00:38:51.904485",
     "status": "completed"
    },
    "tags": []
   },
   "outputs": [],
   "source": [
    "# #hide\n",
    "# g = g[g.group.notna()]"
   ]
  },
  {
   "cell_type": "code",
   "execution_count": 40,
   "id": "determined-closing",
   "metadata": {
    "execution": {
     "iopub.execute_input": "2022-06-23T00:38:52.050224Z",
     "iopub.status.busy": "2022-06-23T00:38:52.049422Z",
     "iopub.status.idle": "2022-06-23T00:38:52.052933Z",
     "shell.execute_reply": "2022-06-23T00:38:52.053672Z"
    },
    "papermill": {
     "duration": 0.049337,
     "end_time": "2022-06-23T00:38:52.053845",
     "exception": false,
     "start_time": "2022-06-23T00:38:52.004508",
     "status": "completed"
    },
    "tags": []
   },
   "outputs": [],
   "source": [
    "# #hide\n",
    "# colors = dict(zip(\n",
    "#     [\"Oceania\", \"Europe\", \"Asia\", \"South America\", \"Middle East\", \"North America\", \"Africa\"],\n",
    "#     [\"#adb0ff\", \"#ffb3ff\", \"#90d595\", \"#e48381\", \"#aafbff\", \"#f7bb5f\", \"#eafb50\"]\n",
    "# ))\n",
    "# group_lk = g.set_index('name')['group'].to_dict()"
   ]
  },
  {
   "cell_type": "code",
   "execution_count": null,
   "id": "gross-drinking",
   "metadata": {
    "papermill": {
     "duration": 0.051959,
     "end_time": "2022-06-23T00:38:52.147268",
     "exception": false,
     "start_time": "2022-06-23T00:38:52.095309",
     "status": "completed"
    },
    "tags": []
   },
   "outputs": [],
   "source": []
  },
  {
   "cell_type": "code",
   "execution_count": 41,
   "id": "subject-macintosh",
   "metadata": {
    "execution": {
     "iopub.execute_input": "2022-06-23T00:38:52.238711Z",
     "iopub.status.busy": "2022-06-23T00:38:52.237897Z",
     "iopub.status.idle": "2022-06-23T00:38:52.247153Z",
     "shell.execute_reply": "2022-06-23T00:38:52.246493Z"
    },
    "papermill": {
     "duration": 0.057454,
     "end_time": "2022-06-23T00:38:52.247306",
     "exception": false,
     "start_time": "2022-06-23T00:38:52.189852",
     "status": "completed"
    },
    "tags": []
   },
   "outputs": [],
   "source": [
    "# #hide\n",
    "# fig, ax = plt.subplots(figsize=(15, 8))\n",
    "\n",
    "# def draw_barchart(current_day):\n",
    "#     dff = g[g['day'].eq(current_day)].sort_values(by='value', ascending=True).tail(10)\n",
    "#     ax.clear()\n",
    "#     ax.barh(dff['name'], dff['value'], color=[colors[group_lk[x]] for x in dff['name']])\n",
    "#     dx = dff['value'].max() / 200\n",
    "    \n",
    "#     for i, (value, name) in enumerate(zip(dff['value'], dff['name'])):\n",
    "#         ax.text(value-dx, i,     name,           size=14, weight=600, ha='right', va='bottom')\n",
    "#         ax.text(value-dx, i-.25, group_lk[name], size=10, color='#444444', ha='right', va='baseline')\n",
    "#         ax.text(value+dx, i,     f'{value:,.0f}',  size=14, ha='left',  va='center')\n",
    "#     ax.text(1, 0.4, current_day, transform=ax.transAxes, color='#777777', size=46, ha='right', weight=800)\n",
    "#     ax.text(0, 1.06, 'Population (thousands)', transform=ax.transAxes, size=12, color='#777777')\n",
    "#     ax.xaxis.set_major_formatter(ticker.StrMethodFormatter('{x:,.0f}'))\n",
    "#     ax.xaxis.set_ticks_position('top')\n",
    "#     ax.tick_params(axis='x', colors='#777777', labelsize=12)\n",
    "#     ax.set_yticks([])\n",
    "#     ax.margins(0, 0.01)\n",
    "#     ax.grid(which='major', axis='x', linestyle='-')\n",
    "#     ax.set_axisbelow(True)\n",
    "    \n",
    "#     ax.text(0, 1.15, 'Coronavirus',\n",
    "#             transform=ax.transAxes, size=24, weight=600, ha='left', va='top')\n",
    "# #     ax.text(1, 0, 'by @pratapvardhan; credit @jburnmurdoch', transform=ax.transAxes, color='#777777', ha='right',\n",
    "# #             bbox=dict(facecolor='white', alpha=0.8, edgecolor='white'))\n",
    "#     plt.box(False)"
   ]
  },
  {
   "cell_type": "code",
   "execution_count": 42,
   "id": "sexual-wages",
   "metadata": {
    "execution": {
     "iopub.execute_input": "2022-06-23T00:38:52.357310Z",
     "iopub.status.busy": "2022-06-23T00:38:52.356434Z",
     "iopub.status.idle": "2022-06-23T00:38:52.361343Z",
     "shell.execute_reply": "2022-06-23T00:38:52.360671Z"
    },
    "papermill": {
     "duration": 0.063691,
     "end_time": "2022-06-23T00:38:52.361494",
     "exception": false,
     "start_time": "2022-06-23T00:38:52.297803",
     "status": "completed"
    },
    "tags": []
   },
   "outputs": [],
   "source": [
    "# #hide_input\n",
    "# fig, ax = plt.subplots(figsize=(15, 8))\n",
    "# animator = animation.FuncAnimation(fig, draw_barchart, frames=range(g.day.values.min(), g.day.values.max()))\n",
    "# HTML(animator.to_jshtml())\n",
    "# # or use animator.to_html5_video() or animator.save() "
   ]
  },
  {
   "cell_type": "code",
   "execution_count": null,
   "id": "australian-container",
   "metadata": {
    "papermill": {
     "duration": 0.042614,
     "end_time": "2022-06-23T00:38:52.445358",
     "exception": false,
     "start_time": "2022-06-23T00:38:52.402744",
     "status": "completed"
    },
    "tags": []
   },
   "outputs": [],
   "source": []
  },
  {
   "cell_type": "code",
   "execution_count": null,
   "id": "mediterranean-pontiac",
   "metadata": {
    "papermill": {
     "duration": 0.041606,
     "end_time": "2022-06-23T00:38:52.528153",
     "exception": false,
     "start_time": "2022-06-23T00:38:52.486547",
     "status": "completed"
    },
    "tags": []
   },
   "outputs": [],
   "source": []
  },
  {
   "cell_type": "code",
   "execution_count": null,
   "id": "aging-legislature",
   "metadata": {
    "papermill": {
     "duration": 0.046481,
     "end_time": "2022-06-23T00:38:52.619730",
     "exception": false,
     "start_time": "2022-06-23T00:38:52.573249",
     "status": "completed"
    },
    "tags": []
   },
   "outputs": [],
   "source": []
  }
 ],
 "metadata": {
  "kernelspec": {
   "display_name": "Python 3",
   "language": "python",
   "name": "python3"
  },
  "language_info": {
   "codemirror_mode": {
    "name": "ipython",
    "version": 3
   },
   "file_extension": ".py",
   "mimetype": "text/x-python",
   "name": "python",
   "nbconvert_exporter": "python",
   "pygments_lexer": "ipython3",
   "version": "3.6.15"
  },
  "papermill": {
   "duration": 8.556577,
   "end_time": "2022-06-23T00:38:53.185993",
   "environment_variables": {},
   "exception": null,
   "input_path": "2020-03-21-covid19exp.ipynb",
   "output_path": "2020-03-21-covid19exp.ipynb",
   "parameters": {},
   "start_time": "2022-06-23T00:38:44.629416",
   "version": "2.0.0"
  }
 },
 "nbformat": 4,
 "nbformat_minor": 5
}