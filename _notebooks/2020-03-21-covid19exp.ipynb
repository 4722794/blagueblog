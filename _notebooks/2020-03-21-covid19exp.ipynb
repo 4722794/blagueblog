{
 "cells": [
  {
   "cell_type": "markdown",
   "id": "muslim-click",
   "metadata": {
    "papermill": {
     "duration": 0.034363,
     "end_time": "2022-04-01T00:41:14.533895",
     "exception": false,
     "start_time": "2022-04-01T00:41:14.499532",
     "status": "completed"
    },
    "tags": []
   },
   "source": [
    "# COVID-19 Case Race\n",
    "> A race chart to see rising cases around the world\n",
    "\n",
    "- author: Hargun Oberoi\n",
    "- image: images/covid-overview.png\n",
    "- hide: false\n",
    "- badges: false"
   ]
  },
  {
   "cell_type": "code",
   "execution_count": 1,
   "id": "proof-material",
   "metadata": {
    "execution": {
     "iopub.execute_input": "2022-04-01T00:41:14.604698Z",
     "iopub.status.busy": "2022-04-01T00:41:14.604127Z",
     "iopub.status.idle": "2022-04-01T00:41:14.945274Z",
     "shell.execute_reply": "2022-04-01T00:41:14.944719Z"
    },
    "papermill": {
     "duration": 0.379952,
     "end_time": "2022-04-01T00:41:14.945434",
     "exception": false,
     "start_time": "2022-04-01T00:41:14.565482",
     "status": "completed"
    },
    "tags": []
   },
   "outputs": [],
   "source": [
    "#hide\n",
    "import numpy as np\n",
    "import pandas as pd\n",
    "from jinja2 import Template\n",
    "from IPython.display import HTML"
   ]
  },
  {
   "cell_type": "code",
   "execution_count": 2,
   "id": "developed-terminology",
   "metadata": {
    "execution": {
     "iopub.execute_input": "2022-04-01T00:41:15.004617Z",
     "iopub.status.busy": "2022-04-01T00:41:15.003947Z",
     "iopub.status.idle": "2022-04-01T00:41:15.007637Z",
     "shell.execute_reply": "2022-04-01T00:41:15.007243Z"
    },
    "papermill": {
     "duration": 0.035721,
     "end_time": "2022-04-01T00:41:15.007767",
     "exception": false,
     "start_time": "2022-04-01T00:41:14.972046",
     "status": "completed"
    },
    "tags": []
   },
   "outputs": [],
   "source": [
    "#hide\n",
    "\n",
    "# FETCH\n",
    "base_url = 'https://raw.githubusercontent.com/pratapvardhan/notebooks/master/covid19/'\n",
    "paths = {\n",
    "    'mapping': base_url + 'mapping_countries.csv',\n",
    "    'overview': base_url + 'overview.tpl'\n",
    "}"
   ]
  },
  {
   "cell_type": "code",
   "execution_count": 3,
   "id": "dynamic-saver",
   "metadata": {
    "execution": {
     "iopub.execute_input": "2022-04-01T00:41:15.071336Z",
     "iopub.status.busy": "2022-04-01T00:41:15.070721Z",
     "iopub.status.idle": "2022-04-01T00:41:15.074173Z",
     "shell.execute_reply": "2022-04-01T00:41:15.073751Z"
    },
    "papermill": {
     "duration": 0.040183,
     "end_time": "2022-04-01T00:41:15.074302",
     "exception": false,
     "start_time": "2022-04-01T00:41:15.034119",
     "status": "completed"
    },
    "tags": []
   },
   "outputs": [
    {
     "data": {
      "text/plain": [
       "'https://raw.githubusercontent.com/pratapvardhan/notebooks/master/covid19/mapping_countries.csv'"
      ]
     },
     "execution_count": 3,
     "metadata": {},
     "output_type": "execute_result"
    }
   ],
   "source": [
    "#hide\n",
    "paths['mapping']"
   ]
  },
  {
   "cell_type": "code",
   "execution_count": 4,
   "id": "urban-software",
   "metadata": {
    "execution": {
     "iopub.execute_input": "2022-04-01T00:41:15.140942Z",
     "iopub.status.busy": "2022-04-01T00:41:15.140291Z",
     "iopub.status.idle": "2022-04-01T00:41:15.144269Z",
     "shell.execute_reply": "2022-04-01T00:41:15.143798Z"
    },
    "papermill": {
     "duration": 0.039492,
     "end_time": "2022-04-01T00:41:15.144378",
     "exception": false,
     "start_time": "2022-04-01T00:41:15.104886",
     "status": "completed"
    },
    "tags": []
   },
   "outputs": [],
   "source": [
    "#hide\n",
    "def get_mappings(url):\n",
    "    df = pd.read_csv(url)\n",
    "    return {\n",
    "        'df': df,\n",
    "        'replace.country': dict(df.dropna(subset=['Name']).set_index('Country')['Name']),\n",
    "        'map.continent': dict(df.set_index('Name')['Continent'])\n",
    "    }"
   ]
  },
  {
   "cell_type": "code",
   "execution_count": 5,
   "id": "intimate-machinery",
   "metadata": {
    "execution": {
     "iopub.execute_input": "2022-04-01T00:41:15.203217Z",
     "iopub.status.busy": "2022-04-01T00:41:15.202605Z",
     "iopub.status.idle": "2022-04-01T00:41:15.234290Z",
     "shell.execute_reply": "2022-04-01T00:41:15.234807Z"
    },
    "papermill": {
     "duration": 0.063875,
     "end_time": "2022-04-01T00:41:15.234981",
     "exception": false,
     "start_time": "2022-04-01T00:41:15.171106",
     "status": "completed"
    },
    "tags": []
   },
   "outputs": [],
   "source": [
    "#hide\n",
    "mapping = get_mappings(paths['mapping'])"
   ]
  },
  {
   "cell_type": "code",
   "execution_count": 6,
   "id": "certified-tactics",
   "metadata": {
    "execution": {
     "iopub.execute_input": "2022-04-01T00:41:15.301921Z",
     "iopub.status.busy": "2022-04-01T00:41:15.301334Z",
     "iopub.status.idle": "2022-04-01T00:41:15.303462Z",
     "shell.execute_reply": "2022-04-01T00:41:15.303034Z"
    },
    "papermill": {
     "duration": 0.037129,
     "end_time": "2022-04-01T00:41:15.303583",
     "exception": false,
     "start_time": "2022-04-01T00:41:15.266454",
     "status": "completed"
    },
    "tags": []
   },
   "outputs": [],
   "source": [
    "#hide\n",
    "def get_template(path):\n",
    "    from urllib.parse import urlparse\n",
    "    if bool(urlparse(path).netloc):\n",
    "        from urllib.request import urlopen\n",
    "        return urlopen(path).read().decode('utf8')\n",
    "    return open(path).read()"
   ]
  },
  {
   "cell_type": "code",
   "execution_count": 7,
   "id": "realistic-blast",
   "metadata": {
    "execution": {
     "iopub.execute_input": "2022-04-01T00:41:15.368896Z",
     "iopub.status.busy": "2022-04-01T00:41:15.368320Z",
     "iopub.status.idle": "2022-04-01T00:41:15.370424Z",
     "shell.execute_reply": "2022-04-01T00:41:15.370001Z"
    },
    "papermill": {
     "duration": 0.036937,
     "end_time": "2022-04-01T00:41:15.370541",
     "exception": false,
     "start_time": "2022-04-01T00:41:15.333604",
     "status": "completed"
    },
    "tags": []
   },
   "outputs": [],
   "source": [
    "#hide\n",
    "def get_frame(name):\n",
    "    url = (\n",
    "        'https://raw.githubusercontent.com/CSSEGISandData/COVID-19/master/csse_covid_19_data/'\n",
    "        f'csse_covid_19_time_series/time_series_covid19_{name}_global.csv')\n",
    "    df = pd.read_csv(url)\n",
    "    # rename countries\n",
    "    df['Country/Region'] = df['Country/Region'].replace(mapping['replace.country'])\n",
    "    return df"
   ]
  },
  {
   "cell_type": "code",
   "execution_count": 8,
   "id": "affiliated-characterization",
   "metadata": {
    "execution": {
     "iopub.execute_input": "2022-04-01T00:41:15.436880Z",
     "iopub.status.busy": "2022-04-01T00:41:15.436344Z",
     "iopub.status.idle": "2022-04-01T00:41:15.437887Z",
     "shell.execute_reply": "2022-04-01T00:41:15.438366Z"
    },
    "papermill": {
     "duration": 0.037671,
     "end_time": "2022-04-01T00:41:15.438499",
     "exception": false,
     "start_time": "2022-04-01T00:41:15.400828",
     "status": "completed"
    },
    "tags": []
   },
   "outputs": [],
   "source": [
    "#hide\n",
    "def get_dates(df):\n",
    "    dt_cols = df.columns[~df.columns.isin(['Province/State', 'Country/Region', 'Lat', 'Long'])]\n",
    "    LAST_DATE_I = -1\n",
    "    # sometimes last column may be empty, then go backwards\n",
    "    for i in range(-1, -len(dt_cols), -1):\n",
    "        if not df[dt_cols[i]].fillna(0).eq(0).all():\n",
    "            LAST_DATE_I = i\n",
    "            break\n",
    "    return LAST_DATE_I, dt_cols"
   ]
  },
  {
   "cell_type": "code",
   "execution_count": 9,
   "id": "recent-optimization",
   "metadata": {
    "execution": {
     "iopub.execute_input": "2022-04-01T00:41:15.503453Z",
     "iopub.status.busy": "2022-04-01T00:41:15.502889Z",
     "iopub.status.idle": "2022-04-01T00:41:15.846833Z",
     "shell.execute_reply": "2022-04-01T00:41:15.846337Z"
    },
    "papermill": {
     "duration": 0.378696,
     "end_time": "2022-04-01T00:41:15.846969",
     "exception": false,
     "start_time": "2022-04-01T00:41:15.468273",
     "status": "completed"
    },
    "tags": []
   },
   "outputs": [],
   "source": [
    "#hide\n",
    "COL_REGION = 'Country/Region'\n",
    "# Confirmed, Recovered, Deaths\n",
    "df = get_frame('confirmed')\n",
    "# dft_: timeseries, dfc_: today country agg\n",
    "dft_cases = df\n",
    "dft_deaths = get_frame('deaths')\n",
    "dft_recovered = get_frame('recovered')\n",
    "LAST_DATE_I, dt_cols = get_dates(df)"
   ]
  },
  {
   "cell_type": "code",
   "execution_count": 10,
   "id": "absolute-copper",
   "metadata": {
    "execution": {
     "iopub.execute_input": "2022-04-01T00:41:15.914024Z",
     "iopub.status.busy": "2022-04-01T00:41:15.913482Z",
     "iopub.status.idle": "2022-04-01T00:41:15.915703Z",
     "shell.execute_reply": "2022-04-01T00:41:15.915267Z"
    },
    "papermill": {
     "duration": 0.038335,
     "end_time": "2022-04-01T00:41:15.915818",
     "exception": false,
     "start_time": "2022-04-01T00:41:15.877483",
     "status": "completed"
    },
    "tags": []
   },
   "outputs": [],
   "source": [
    "#hide\n",
    "LAST_DATE_I, dt_cols = get_dates(df)\n",
    "dt_today =dt_cols[LAST_DATE_I]\n",
    "# dt_5day = dt_cols[LAST_DATE_I - 5]\n",
    "dt_yday = dt_cols[LAST_DATE_I - 1]"
   ]
  },
  {
   "cell_type": "code",
   "execution_count": 11,
   "id": "restricted-sheriff",
   "metadata": {
    "execution": {
     "iopub.execute_input": "2022-04-01T00:41:15.981965Z",
     "iopub.status.busy": "2022-04-01T00:41:15.981442Z",
     "iopub.status.idle": "2022-04-01T00:41:15.989045Z",
     "shell.execute_reply": "2022-04-01T00:41:15.988609Z"
    },
    "papermill": {
     "duration": 0.043451,
     "end_time": "2022-04-01T00:41:15.989171",
     "exception": false,
     "start_time": "2022-04-01T00:41:15.945720",
     "status": "completed"
    },
    "tags": []
   },
   "outputs": [],
   "source": [
    "#hide\n",
    "dfc_cases = dft_cases.groupby(COL_REGION)[dt_today].sum()\n",
    "dfc_deaths = dft_deaths.groupby(COL_REGION)[dt_today].sum()\n",
    "# dfp_cases = dft_cases.groupby(COL_REGION)[dt_5day].sum()\n",
    "# dfp_deaths = dft_deaths.groupby(COL_REGION)[dt_5day].sum()\n",
    "dfp_cases = dft_cases.groupby(COL_REGION)[dt_yday].sum()\n",
    "dfp_deaths = dft_deaths.groupby(COL_REGION)[dt_yday].sum()"
   ]
  },
  {
   "cell_type": "code",
   "execution_count": 12,
   "id": "deluxe-hepatitis",
   "metadata": {
    "execution": {
     "iopub.execute_input": "2022-04-01T00:41:16.055727Z",
     "iopub.status.busy": "2022-04-01T00:41:16.055194Z",
     "iopub.status.idle": "2022-04-01T00:41:16.059384Z",
     "shell.execute_reply": "2022-04-01T00:41:16.059880Z"
    },
    "papermill": {
     "duration": 0.040579,
     "end_time": "2022-04-01T00:41:16.060020",
     "exception": false,
     "start_time": "2022-04-01T00:41:16.019441",
     "status": "completed"
    },
    "tags": []
   },
   "outputs": [],
   "source": [
    "#hide\n",
    "df_table = (pd.DataFrame(dict(Cases = dfc_cases, Deaths = dfc_deaths, PCases = dfp_cases, PDeaths = dfp_deaths))\n",
    "            .sort_values(by = ['Cases','Deaths'], ascending = [False, False])\n",
    "            .reset_index())"
   ]
  },
  {
   "cell_type": "code",
   "execution_count": 13,
   "id": "educational-chancellor",
   "metadata": {
    "execution": {
     "iopub.execute_input": "2022-04-01T00:41:16.140653Z",
     "iopub.status.busy": "2022-04-01T00:41:16.140067Z",
     "iopub.status.idle": "2022-04-01T00:41:16.147475Z",
     "shell.execute_reply": "2022-04-01T00:41:16.147055Z"
    },
    "papermill": {
     "duration": 0.056039,
     "end_time": "2022-04-01T00:41:16.147599",
     "exception": false,
     "start_time": "2022-04-01T00:41:16.091560",
     "status": "completed"
    },
    "tags": []
   },
   "outputs": [
    {
     "data": {
      "text/html": [
       "<div>\n",
       "<style scoped>\n",
       "    .dataframe tbody tr th:only-of-type {\n",
       "        vertical-align: middle;\n",
       "    }\n",
       "\n",
       "    .dataframe tbody tr th {\n",
       "        vertical-align: top;\n",
       "    }\n",
       "\n",
       "    .dataframe thead th {\n",
       "        text-align: right;\n",
       "    }\n",
       "</style>\n",
       "<table border=\"1\" class=\"dataframe\">\n",
       "  <thead>\n",
       "    <tr style=\"text-align: right;\">\n",
       "      <th></th>\n",
       "      <th>Country/Region</th>\n",
       "      <th>Cases</th>\n",
       "      <th>Deaths</th>\n",
       "      <th>PCases</th>\n",
       "      <th>PDeaths</th>\n",
       "      <th>Cases (+)</th>\n",
       "      <th>Deaths (+)</th>\n",
       "      <th>Fatality Rate</th>\n",
       "      <th>Continent</th>\n",
       "    </tr>\n",
       "  </thead>\n",
       "  <tbody>\n",
       "    <tr>\n",
       "      <th>0</th>\n",
       "      <td>US</td>\n",
       "      <td>80057236</td>\n",
       "      <td>979869</td>\n",
       "      <td>80019128</td>\n",
       "      <td>978648</td>\n",
       "      <td>38108</td>\n",
       "      <td>1221</td>\n",
       "      <td>1.22</td>\n",
       "      <td>North America</td>\n",
       "    </tr>\n",
       "    <tr>\n",
       "      <th>1</th>\n",
       "      <td>India</td>\n",
       "      <td>43024440</td>\n",
       "      <td>521129</td>\n",
       "      <td>43023215</td>\n",
       "      <td>521101</td>\n",
       "      <td>1225</td>\n",
       "      <td>28</td>\n",
       "      <td>1.21</td>\n",
       "      <td>Asia</td>\n",
       "    </tr>\n",
       "    <tr>\n",
       "      <th>2</th>\n",
       "      <td>Brazil</td>\n",
       "      <td>29920604</td>\n",
       "      <td>659769</td>\n",
       "      <td>29887191</td>\n",
       "      <td>659508</td>\n",
       "      <td>33413</td>\n",
       "      <td>261</td>\n",
       "      <td>2.21</td>\n",
       "      <td>South America</td>\n",
       "    </tr>\n",
       "    <tr>\n",
       "      <th>3</th>\n",
       "      <td>France</td>\n",
       "      <td>25633476</td>\n",
       "      <td>143168</td>\n",
       "      <td>25464389</td>\n",
       "      <td>143019</td>\n",
       "      <td>169087</td>\n",
       "      <td>149</td>\n",
       "      <td>0.56</td>\n",
       "      <td>Europe</td>\n",
       "    </tr>\n",
       "    <tr>\n",
       "      <th>4</th>\n",
       "      <td>United Kingdom</td>\n",
       "      <td>21234719</td>\n",
       "      <td>165782</td>\n",
       "      <td>21145773</td>\n",
       "      <td>165569</td>\n",
       "      <td>88946</td>\n",
       "      <td>213</td>\n",
       "      <td>0.78</td>\n",
       "      <td>Europe</td>\n",
       "    </tr>\n",
       "  </tbody>\n",
       "</table>\n",
       "</div>"
      ],
      "text/plain": [
       "   Country/Region     Cases  Deaths    PCases  PDeaths  Cases (+)  Deaths (+)  \\\n",
       "0              US  80057236  979869  80019128   978648      38108        1221   \n",
       "1           India  43024440  521129  43023215   521101       1225          28   \n",
       "2          Brazil  29920604  659769  29887191   659508      33413         261   \n",
       "3          France  25633476  143168  25464389   143019     169087         149   \n",
       "4  United Kingdom  21234719  165782  21145773   165569      88946         213   \n",
       "\n",
       "   Fatality Rate      Continent  \n",
       "0           1.22  North America  \n",
       "1           1.21           Asia  \n",
       "2           2.21  South America  \n",
       "3           0.56         Europe  \n",
       "4           0.78         Europe  "
      ]
     },
     "execution_count": 13,
     "metadata": {},
     "output_type": "execute_result"
    }
   ],
   "source": [
    "#hide\n",
    "for c in 'Cases, Deaths'.split(', '):\n",
    "    df_table[f'{c} (+)'] = (df_table[c] - df_table[f'P{c}']).clip(0)\n",
    "    #Clip ça veut dire, les chiffres negatif sont interdit\n",
    "df_table['Fatality Rate'] = (100* df_table['Deaths']/ df_table['Cases']).round(2)\n",
    "df_table['Continent'] = df_table['Country/Region'].map(mapping['map.continent'])\n",
    "df_table.head(5)"
   ]
  },
  {
   "cell_type": "code",
   "execution_count": 14,
   "id": "aboriginal-bulgaria",
   "metadata": {
    "execution": {
     "iopub.execute_input": "2022-04-01T00:41:16.214571Z",
     "iopub.status.busy": "2022-04-01T00:41:16.214033Z",
     "iopub.status.idle": "2022-04-01T00:41:16.215969Z",
     "shell.execute_reply": "2022-04-01T00:41:16.216463Z"
    },
    "papermill": {
     "duration": 0.038301,
     "end_time": "2022-04-01T00:41:16.216602",
     "exception": false,
     "start_time": "2022-04-01T00:41:16.178301",
     "status": "completed"
    },
    "tags": []
   },
   "outputs": [],
   "source": [
    "#hide\n",
    "#delete problematic countries from table\n",
    "df_table = df_table[~df_table['Country/Region'].isin(['Cape Verde', 'Cruise Ship', 'Kosovo'])]"
   ]
  },
  {
   "cell_type": "code",
   "execution_count": 15,
   "id": "fantastic-effect",
   "metadata": {
    "execution": {
     "iopub.execute_input": "2022-04-01T00:41:16.286801Z",
     "iopub.status.busy": "2022-04-01T00:41:16.286208Z",
     "iopub.status.idle": "2022-04-01T00:41:16.303499Z",
     "shell.execute_reply": "2022-04-01T00:41:16.303941Z"
    },
    "papermill": {
     "duration": 0.05723,
     "end_time": "2022-04-01T00:41:16.304083",
     "exception": false,
     "start_time": "2022-04-01T00:41:16.246853",
     "status": "completed"
    },
    "tags": []
   },
   "outputs": [
    {
     "data": {
      "text/html": [
       "<div>\n",
       "<style scoped>\n",
       "    .dataframe tbody tr th:only-of-type {\n",
       "        vertical-align: middle;\n",
       "    }\n",
       "\n",
       "    .dataframe tbody tr th {\n",
       "        vertical-align: top;\n",
       "    }\n",
       "\n",
       "    .dataframe thead th {\n",
       "        text-align: right;\n",
       "    }\n",
       "</style>\n",
       "<table border=\"1\" class=\"dataframe\">\n",
       "  <thead>\n",
       "    <tr style=\"text-align: right;\">\n",
       "      <th></th>\n",
       "      <th>Country/Region</th>\n",
       "      <th>Cases</th>\n",
       "      <th>Deaths</th>\n",
       "      <th>PCases</th>\n",
       "      <th>PDeaths</th>\n",
       "      <th>Cases (+)</th>\n",
       "      <th>Deaths (+)</th>\n",
       "      <th>Fatality Rate</th>\n",
       "      <th>Continent</th>\n",
       "    </tr>\n",
       "  </thead>\n",
       "  <tbody>\n",
       "    <tr>\n",
       "      <th>0</th>\n",
       "      <td>US</td>\n",
       "      <td>80057236</td>\n",
       "      <td>979869</td>\n",
       "      <td>80019128</td>\n",
       "      <td>978648</td>\n",
       "      <td>38108</td>\n",
       "      <td>1221</td>\n",
       "      <td>1.2</td>\n",
       "      <td>North America</td>\n",
       "    </tr>\n",
       "    <tr>\n",
       "      <th>1</th>\n",
       "      <td>India</td>\n",
       "      <td>43024440</td>\n",
       "      <td>521129</td>\n",
       "      <td>43023215</td>\n",
       "      <td>521101</td>\n",
       "      <td>1225</td>\n",
       "      <td>28</td>\n",
       "      <td>1.2</td>\n",
       "      <td>Asia</td>\n",
       "    </tr>\n",
       "    <tr>\n",
       "      <th>2</th>\n",
       "      <td>Brazil</td>\n",
       "      <td>29920604</td>\n",
       "      <td>659769</td>\n",
       "      <td>29887191</td>\n",
       "      <td>659508</td>\n",
       "      <td>33413</td>\n",
       "      <td>261</td>\n",
       "      <td>2.2</td>\n",
       "      <td>South America</td>\n",
       "    </tr>\n",
       "    <tr>\n",
       "      <th>3</th>\n",
       "      <td>France</td>\n",
       "      <td>25633476</td>\n",
       "      <td>143168</td>\n",
       "      <td>25464389</td>\n",
       "      <td>143019</td>\n",
       "      <td>169087</td>\n",
       "      <td>149</td>\n",
       "      <td>0.6</td>\n",
       "      <td>Europe</td>\n",
       "    </tr>\n",
       "    <tr>\n",
       "      <th>4</th>\n",
       "      <td>United Kingdom</td>\n",
       "      <td>21234719</td>\n",
       "      <td>165782</td>\n",
       "      <td>21145773</td>\n",
       "      <td>165569</td>\n",
       "      <td>88946</td>\n",
       "      <td>213</td>\n",
       "      <td>0.8</td>\n",
       "      <td>Europe</td>\n",
       "    </tr>\n",
       "  </tbody>\n",
       "</table>\n",
       "</div>"
      ],
      "text/plain": [
       "   Country/Region     Cases  Deaths    PCases  PDeaths  Cases (+)  Deaths (+)  \\\n",
       "0              US  80057236  979869  80019128   978648      38108        1221   \n",
       "1           India  43024440  521129  43023215   521101       1225          28   \n",
       "2          Brazil  29920604  659769  29887191   659508      33413         261   \n",
       "3          France  25633476  143168  25464389   143019     169087         149   \n",
       "4  United Kingdom  21234719  165782  21145773   165569      88946         213   \n",
       "\n",
       "   Fatality Rate      Continent  \n",
       "0            1.2  North America  \n",
       "1            1.2           Asia  \n",
       "2            2.2  South America  \n",
       "3            0.6         Europe  \n",
       "4            0.8         Europe  "
      ]
     },
     "execution_count": 15,
     "metadata": {},
     "output_type": "execute_result"
    }
   ],
   "source": [
    "#hide\n",
    "df_table = (pd.DataFrame(dict(Cases=dfc_cases, Deaths=dfc_deaths, PCases=dfp_cases, PDeaths=dfp_deaths))\n",
    "             .sort_values(by=['Cases', 'Deaths'], ascending=[False, False])\n",
    "             .reset_index())\n",
    "df_table.rename(columns={'index': 'Country/Region'}, inplace=True)\n",
    "for c in 'Cases, Deaths'.split(', '):\n",
    "    df_table[f'{c} (+)'] = (df_table[c] - df_table[f'P{c}']).clip(0)  # DATA BUG\n",
    "df_table['Fatality Rate'] = (100 * df_table['Deaths'] / df_table['Cases']).round(1)\n",
    "df_table['Continent'] = df_table['Country/Region'].map(mapping['map.continent'])\n",
    "df_table.head(5)"
   ]
  },
  {
   "cell_type": "code",
   "execution_count": 16,
   "id": "fewer-occasion",
   "metadata": {
    "execution": {
     "iopub.execute_input": "2022-04-01T00:41:16.371160Z",
     "iopub.status.busy": "2022-04-01T00:41:16.370593Z",
     "iopub.status.idle": "2022-04-01T00:41:16.373698Z",
     "shell.execute_reply": "2022-04-01T00:41:16.374197Z"
    },
    "papermill": {
     "duration": 0.039308,
     "end_time": "2022-04-01T00:41:16.374332",
     "exception": false,
     "start_time": "2022-04-01T00:41:16.335024",
     "status": "completed"
    },
    "tags": []
   },
   "outputs": [],
   "source": [
    "#hide\n",
    "#delete problematic countries from table\n",
    "df_table = df_table[~df_table['Country/Region'].isin(['Cape Verde', 'Cruise Ship', 'Kosovo'])]"
   ]
  },
  {
   "cell_type": "code",
   "execution_count": 17,
   "id": "related-center",
   "metadata": {
    "execution": {
     "iopub.execute_input": "2022-04-01T00:41:16.444446Z",
     "iopub.status.busy": "2022-04-01T00:41:16.443908Z",
     "iopub.status.idle": "2022-04-01T00:41:16.456145Z",
     "shell.execute_reply": "2022-04-01T00:41:16.455690Z"
    },
    "papermill": {
     "duration": 0.051028,
     "end_time": "2022-04-01T00:41:16.456263",
     "exception": false,
     "start_time": "2022-04-01T00:41:16.405235",
     "status": "completed"
    },
    "tags": []
   },
   "outputs": [],
   "source": [
    "#hide\n",
    "metrics = [df_table.columns[index] for index in [1,2,5,6]]\n",
    "# s_china = df_table[df_table['Country/Region'].eq('China')][metrics].sum().add_prefix('China ')\n",
    "s_us = df_table[df_table['Country/Region'].eq('US')][metrics].sum().add_prefix('US ')\n",
    "s_eu = df_table[df_table['Continent'].eq('Europe')][metrics].sum().add_prefix('EU ')\n",
    "s_ind = df_table[df_table['Country/Region'].eq('India')][metrics].sum().add_prefix('India ')\n",
    "summary = {'updated': pd.to_datetime(dt_today), 'since': pd.to_datetime(dt_yday)}\n",
    "summary = {'updated': pd.to_datetime(dt_today), 'since': pd.to_datetime(dt_yday)}\n",
    "summary = {**summary, **df_table[metrics].sum(), **s_ind, **s_us, **s_eu}"
   ]
  },
  {
   "cell_type": "code",
   "execution_count": 18,
   "id": "engaging-syndrome",
   "metadata": {
    "execution": {
     "iopub.execute_input": "2022-04-01T00:41:16.524145Z",
     "iopub.status.busy": "2022-04-01T00:41:16.523621Z",
     "iopub.status.idle": "2022-04-01T00:41:16.541840Z",
     "shell.execute_reply": "2022-04-01T00:41:16.541350Z"
    },
    "papermill": {
     "duration": 0.054582,
     "end_time": "2022-04-01T00:41:16.541982",
     "exception": false,
     "start_time": "2022-04-01T00:41:16.487400",
     "status": "completed"
    },
    "tags": []
   },
   "outputs": [],
   "source": [
    "#hide\n",
    "dft_ct_new_cases = dft_cases.groupby(COL_REGION)[dt_cols].sum().diff(axis=1).fillna(0).astype(int)"
   ]
  },
  {
   "cell_type": "code",
   "execution_count": 19,
   "id": "neutral-assignment",
   "metadata": {
    "execution": {
     "iopub.execute_input": "2022-04-01T00:41:16.611554Z",
     "iopub.status.busy": "2022-04-01T00:41:16.611010Z",
     "iopub.status.idle": "2022-04-01T00:41:16.613801Z",
     "shell.execute_reply": "2022-04-01T00:41:16.614283Z"
    },
    "papermill": {
     "duration": 0.040279,
     "end_time": "2022-04-01T00:41:16.614420",
     "exception": false,
     "start_time": "2022-04-01T00:41:16.574141",
     "status": "completed"
    },
    "tags": []
   },
   "outputs": [],
   "source": [
    "#hide\n",
    "everydaycases = dft_ct_new_cases.cumsum(axis=1)"
   ]
  },
  {
   "cell_type": "code",
   "execution_count": 20,
   "id": "parliamentary-calgary",
   "metadata": {
    "execution": {
     "iopub.execute_input": "2022-04-01T00:41:16.681687Z",
     "iopub.status.busy": "2022-04-01T00:41:16.681139Z",
     "iopub.status.idle": "2022-04-01T00:41:17.306392Z",
     "shell.execute_reply": "2022-04-01T00:41:17.306884Z"
    },
    "papermill": {
     "duration": 0.66152,
     "end_time": "2022-04-01T00:41:17.307052",
     "exception": false,
     "start_time": "2022-04-01T00:41:16.645532",
     "status": "completed"
    },
    "tags": []
   },
   "outputs": [],
   "source": [
    "#hide\n",
    "import pandas as pd\n",
    "import matplotlib.pyplot as plt\n",
    "import matplotlib.ticker as ticker\n",
    "import matplotlib.animation as animation\n",
    "from IPython.display import HTML"
   ]
  },
  {
   "cell_type": "code",
   "execution_count": 21,
   "id": "lasting-extraction",
   "metadata": {
    "execution": {
     "iopub.execute_input": "2022-04-01T00:41:17.375935Z",
     "iopub.status.busy": "2022-04-01T00:41:17.375397Z",
     "iopub.status.idle": "2022-04-01T00:41:17.381535Z",
     "shell.execute_reply": "2022-04-01T00:41:17.382027Z"
    },
    "papermill": {
     "duration": 0.043955,
     "end_time": "2022-04-01T00:41:17.382163",
     "exception": false,
     "start_time": "2022-04-01T00:41:17.338208",
     "status": "completed"
    },
    "tags": []
   },
   "outputs": [],
   "source": [
    "#hide\n",
    "t = everydaycases.stack()"
   ]
  },
  {
   "cell_type": "code",
   "execution_count": 22,
   "id": "premier-sleeve",
   "metadata": {
    "execution": {
     "iopub.execute_input": "2022-04-01T00:41:17.448536Z",
     "iopub.status.busy": "2022-04-01T00:41:17.447995Z",
     "iopub.status.idle": "2022-04-01T00:41:17.458549Z",
     "shell.execute_reply": "2022-04-01T00:41:17.458134Z"
    },
    "papermill": {
     "duration": 0.045506,
     "end_time": "2022-04-01T00:41:17.458688",
     "exception": false,
     "start_time": "2022-04-01T00:41:17.413182",
     "status": "completed"
    },
    "tags": []
   },
   "outputs": [],
   "source": [
    "#hide\n",
    "g = t.reset_index(['Country/Region'])"
   ]
  },
  {
   "cell_type": "code",
   "execution_count": 23,
   "id": "distributed-pittsburgh",
   "metadata": {
    "execution": {
     "iopub.execute_input": "2022-04-01T00:41:17.524408Z",
     "iopub.status.busy": "2022-04-01T00:41:17.523838Z",
     "iopub.status.idle": "2022-04-01T00:41:17.526002Z",
     "shell.execute_reply": "2022-04-01T00:41:17.525482Z"
    },
    "papermill": {
     "duration": 0.036699,
     "end_time": "2022-04-01T00:41:17.526115",
     "exception": false,
     "start_time": "2022-04-01T00:41:17.489416",
     "status": "completed"
    },
    "tags": []
   },
   "outputs": [],
   "source": [
    "#hide\n",
    "g.index.name = 'date'"
   ]
  },
  {
   "cell_type": "code",
   "execution_count": 24,
   "id": "naked-donor",
   "metadata": {
    "execution": {
     "iopub.execute_input": "2022-04-01T00:41:17.591927Z",
     "iopub.status.busy": "2022-04-01T00:41:17.591369Z",
     "iopub.status.idle": "2022-04-01T00:41:17.595160Z",
     "shell.execute_reply": "2022-04-01T00:41:17.594726Z"
    },
    "papermill": {
     "duration": 0.038295,
     "end_time": "2022-04-01T00:41:17.595281",
     "exception": false,
     "start_time": "2022-04-01T00:41:17.556986",
     "status": "completed"
    },
    "tags": []
   },
   "outputs": [],
   "source": [
    "# #hide\n",
    "# g = g.reset_index(['date'])"
   ]
  },
  {
   "cell_type": "code",
   "execution_count": 25,
   "id": "incomplete-mustang",
   "metadata": {
    "execution": {
     "iopub.execute_input": "2022-04-01T00:41:17.661155Z",
     "iopub.status.busy": "2022-04-01T00:41:17.660533Z",
     "iopub.status.idle": "2022-04-01T00:41:17.662592Z",
     "shell.execute_reply": "2022-04-01T00:41:17.662018Z"
    },
    "papermill": {
     "duration": 0.036478,
     "end_time": "2022-04-01T00:41:17.662739",
     "exception": false,
     "start_time": "2022-04-01T00:41:17.626261",
     "status": "completed"
    },
    "tags": []
   },
   "outputs": [],
   "source": [
    "#hide\n",
    "# g.head()"
   ]
  },
  {
   "cell_type": "code",
   "execution_count": 26,
   "id": "specific-kruger",
   "metadata": {
    "execution": {
     "iopub.execute_input": "2022-04-01T00:41:17.728373Z",
     "iopub.status.busy": "2022-04-01T00:41:17.727841Z",
     "iopub.status.idle": "2022-04-01T00:41:17.731028Z",
     "shell.execute_reply": "2022-04-01T00:41:17.730486Z"
    },
    "papermill": {
     "duration": 0.037096,
     "end_time": "2022-04-01T00:41:17.731146",
     "exception": false,
     "start_time": "2022-04-01T00:41:17.694050",
     "status": "completed"
    },
    "tags": []
   },
   "outputs": [],
   "source": [
    "#hide\n",
    "# g.columns = ['date','country','cases']"
   ]
  },
  {
   "cell_type": "code",
   "execution_count": 27,
   "id": "tender-conversion",
   "metadata": {
    "execution": {
     "iopub.execute_input": "2022-04-01T00:41:17.796625Z",
     "iopub.status.busy": "2022-04-01T00:41:17.796076Z",
     "iopub.status.idle": "2022-04-01T00:41:17.797787Z",
     "shell.execute_reply": "2022-04-01T00:41:17.798183Z"
    },
    "papermill": {
     "duration": 0.036404,
     "end_time": "2022-04-01T00:41:17.798318",
     "exception": false,
     "start_time": "2022-04-01T00:41:17.761914",
     "status": "completed"
    },
    "tags": []
   },
   "outputs": [],
   "source": [
    "#hide\n",
    "# g['continent'] = g.country"
   ]
  },
  {
   "cell_type": "code",
   "execution_count": 28,
   "id": "substantial-wilderness",
   "metadata": {
    "execution": {
     "iopub.execute_input": "2022-04-01T00:41:17.864951Z",
     "iopub.status.busy": "2022-04-01T00:41:17.864317Z",
     "iopub.status.idle": "2022-04-01T00:41:17.865732Z",
     "shell.execute_reply": "2022-04-01T00:41:17.866273Z"
    },
    "papermill": {
     "duration": 0.03707,
     "end_time": "2022-04-01T00:41:17.866419",
     "exception": false,
     "start_time": "2022-04-01T00:41:17.829349",
     "status": "completed"
    },
    "tags": []
   },
   "outputs": [],
   "source": [
    "#hide\n",
    "# cols = list(g.columns.values)"
   ]
  },
  {
   "cell_type": "code",
   "execution_count": 29,
   "id": "solved-farming",
   "metadata": {
    "execution": {
     "iopub.execute_input": "2022-04-01T00:41:17.932313Z",
     "iopub.status.busy": "2022-04-01T00:41:17.931669Z",
     "iopub.status.idle": "2022-04-01T00:41:17.935243Z",
     "shell.execute_reply": "2022-04-01T00:41:17.935693Z"
    },
    "papermill": {
     "duration": 0.038649,
     "end_time": "2022-04-01T00:41:17.935845",
     "exception": false,
     "start_time": "2022-04-01T00:41:17.897196",
     "status": "completed"
    },
    "tags": []
   },
   "outputs": [],
   "source": [
    "#hide\n",
    "# cols.insert(0, cols.pop())"
   ]
  },
  {
   "cell_type": "code",
   "execution_count": 30,
   "id": "executed-adoption",
   "metadata": {
    "execution": {
     "iopub.execute_input": "2022-04-01T00:41:18.001889Z",
     "iopub.status.busy": "2022-04-01T00:41:18.001254Z",
     "iopub.status.idle": "2022-04-01T00:41:18.003111Z",
     "shell.execute_reply": "2022-04-01T00:41:18.002503Z"
    },
    "papermill": {
     "duration": 0.036217,
     "end_time": "2022-04-01T00:41:18.003244",
     "exception": false,
     "start_time": "2022-04-01T00:41:17.967027",
     "status": "completed"
    },
    "tags": []
   },
   "outputs": [],
   "source": [
    "#hide\n",
    "# g = g[cols]"
   ]
  },
  {
   "cell_type": "code",
   "execution_count": 31,
   "id": "subject-dublin",
   "metadata": {
    "execution": {
     "iopub.execute_input": "2022-04-01T00:41:18.070095Z",
     "iopub.status.busy": "2022-04-01T00:41:18.069420Z",
     "iopub.status.idle": "2022-04-01T00:41:18.071365Z",
     "shell.execute_reply": "2022-04-01T00:41:18.070847Z"
    },
    "papermill": {
     "duration": 0.036461,
     "end_time": "2022-04-01T00:41:18.071483",
     "exception": false,
     "start_time": "2022-04-01T00:41:18.035022",
     "status": "completed"
    },
    "tags": []
   },
   "outputs": [],
   "source": [
    "#hide\n",
    "# g['continent'] = g['continent'].map(mapping['map.continent'])"
   ]
  },
  {
   "cell_type": "code",
   "execution_count": 32,
   "id": "freelance-scout",
   "metadata": {
    "execution": {
     "iopub.execute_input": "2022-04-01T00:41:18.137793Z",
     "iopub.status.busy": "2022-04-01T00:41:18.137168Z",
     "iopub.status.idle": "2022-04-01T00:41:18.140599Z",
     "shell.execute_reply": "2022-04-01T00:41:18.141045Z"
    },
    "papermill": {
     "duration": 0.038628,
     "end_time": "2022-04-01T00:41:18.141196",
     "exception": false,
     "start_time": "2022-04-01T00:41:18.102568",
     "status": "completed"
    },
    "tags": []
   },
   "outputs": [],
   "source": [
    "#hide\n",
    "# g.head()"
   ]
  },
  {
   "cell_type": "code",
   "execution_count": 33,
   "id": "limited-engine",
   "metadata": {
    "execution": {
     "iopub.execute_input": "2022-04-01T00:41:18.206028Z",
     "iopub.status.busy": "2022-04-01T00:41:18.205479Z",
     "iopub.status.idle": "2022-04-01T00:41:18.209125Z",
     "shell.execute_reply": "2022-04-01T00:41:18.208691Z"
    },
    "papermill": {
     "duration": 0.037444,
     "end_time": "2022-04-01T00:41:18.209249",
     "exception": false,
     "start_time": "2022-04-01T00:41:18.171805",
     "status": "completed"
    },
    "tags": []
   },
   "outputs": [],
   "source": [
    "# hide\n",
    "# g['date'] = g['date'].astype('datetime64[ns]')"
   ]
  },
  {
   "cell_type": "code",
   "execution_count": 34,
   "id": "sophisticated-supervisor",
   "metadata": {
    "execution": {
     "iopub.execute_input": "2022-04-01T00:41:18.275276Z",
     "iopub.status.busy": "2022-04-01T00:41:18.274701Z",
     "iopub.status.idle": "2022-04-01T00:41:18.276812Z",
     "shell.execute_reply": "2022-04-01T00:41:18.276373Z"
    },
    "papermill": {
     "duration": 0.036539,
     "end_time": "2022-04-01T00:41:18.276925",
     "exception": false,
     "start_time": "2022-04-01T00:41:18.240386",
     "status": "completed"
    },
    "tags": []
   },
   "outputs": [],
   "source": [
    "#hide\n",
    "# g['date'] = g.date.dt.dayofyear"
   ]
  },
  {
   "cell_type": "code",
   "execution_count": 35,
   "id": "inside-dubai",
   "metadata": {
    "execution": {
     "iopub.execute_input": "2022-04-01T00:41:18.342439Z",
     "iopub.status.busy": "2022-04-01T00:41:18.341911Z",
     "iopub.status.idle": "2022-04-01T00:41:18.343811Z",
     "shell.execute_reply": "2022-04-01T00:41:18.344303Z"
    },
    "papermill": {
     "duration": 0.036693,
     "end_time": "2022-04-01T00:41:18.344438",
     "exception": false,
     "start_time": "2022-04-01T00:41:18.307745",
     "status": "completed"
    },
    "tags": []
   },
   "outputs": [],
   "source": [
    "#hide\n",
    "# g = g.rename(columns= {'continent':'group','country':'name','cases':'value'})"
   ]
  },
  {
   "cell_type": "code",
   "execution_count": 36,
   "id": "fleet-motorcycle",
   "metadata": {
    "execution": {
     "iopub.execute_input": "2022-04-01T00:41:18.409908Z",
     "iopub.status.busy": "2022-04-01T00:41:18.409275Z",
     "iopub.status.idle": "2022-04-01T00:41:18.412959Z",
     "shell.execute_reply": "2022-04-01T00:41:18.413419Z"
    },
    "papermill": {
     "duration": 0.038294,
     "end_time": "2022-04-01T00:41:18.413581",
     "exception": false,
     "start_time": "2022-04-01T00:41:18.375287",
     "status": "completed"
    },
    "tags": []
   },
   "outputs": [],
   "source": [
    "#hide\n",
    "# cols = ['name','group','day','value']"
   ]
  },
  {
   "cell_type": "code",
   "execution_count": 37,
   "id": "continued-sleeping",
   "metadata": {
    "execution": {
     "iopub.execute_input": "2022-04-01T00:41:18.479880Z",
     "iopub.status.busy": "2022-04-01T00:41:18.479241Z",
     "iopub.status.idle": "2022-04-01T00:41:18.480614Z",
     "shell.execute_reply": "2022-04-01T00:41:18.481171Z"
    },
    "papermill": {
     "duration": 0.036486,
     "end_time": "2022-04-01T00:41:18.481320",
     "exception": false,
     "start_time": "2022-04-01T00:41:18.444834",
     "status": "completed"
    },
    "tags": []
   },
   "outputs": [],
   "source": [
    "#hide\n",
    "# g.rename(columns= {'date':'day'},inplace = True)"
   ]
  },
  {
   "cell_type": "code",
   "execution_count": 38,
   "id": "major-fight",
   "metadata": {
    "execution": {
     "iopub.execute_input": "2022-04-01T00:41:18.547809Z",
     "iopub.status.busy": "2022-04-01T00:41:18.547171Z",
     "iopub.status.idle": "2022-04-01T00:41:18.549542Z",
     "shell.execute_reply": "2022-04-01T00:41:18.549105Z"
    },
    "papermill": {
     "duration": 0.036785,
     "end_time": "2022-04-01T00:41:18.549659",
     "exception": false,
     "start_time": "2022-04-01T00:41:18.512874",
     "status": "completed"
    },
    "tags": []
   },
   "outputs": [],
   "source": [
    "#hide\n",
    "# g = g[cols]"
   ]
  },
  {
   "cell_type": "code",
   "execution_count": 39,
   "id": "structured-mobile",
   "metadata": {
    "execution": {
     "iopub.execute_input": "2022-04-01T00:41:18.615414Z",
     "iopub.status.busy": "2022-04-01T00:41:18.614738Z",
     "iopub.status.idle": "2022-04-01T00:41:18.616318Z",
     "shell.execute_reply": "2022-04-01T00:41:18.616789Z"
    },
    "papermill": {
     "duration": 0.036637,
     "end_time": "2022-04-01T00:41:18.616945",
     "exception": false,
     "start_time": "2022-04-01T00:41:18.580308",
     "status": "completed"
    },
    "tags": []
   },
   "outputs": [],
   "source": [
    "# #hide\n",
    "# g = g[g.group.notna()]"
   ]
  },
  {
   "cell_type": "code",
   "execution_count": 40,
   "id": "determined-closing",
   "metadata": {
    "execution": {
     "iopub.execute_input": "2022-04-01T00:41:18.683131Z",
     "iopub.status.busy": "2022-04-01T00:41:18.682504Z",
     "iopub.status.idle": "2022-04-01T00:41:18.685572Z",
     "shell.execute_reply": "2022-04-01T00:41:18.685137Z"
    },
    "papermill": {
     "duration": 0.037346,
     "end_time": "2022-04-01T00:41:18.685690",
     "exception": false,
     "start_time": "2022-04-01T00:41:18.648344",
     "status": "completed"
    },
    "tags": []
   },
   "outputs": [],
   "source": [
    "# #hide\n",
    "# colors = dict(zip(\n",
    "#     [\"Oceania\", \"Europe\", \"Asia\", \"South America\", \"Middle East\", \"North America\", \"Africa\"],\n",
    "#     [\"#adb0ff\", \"#ffb3ff\", \"#90d595\", \"#e48381\", \"#aafbff\", \"#f7bb5f\", \"#eafb50\"]\n",
    "# ))\n",
    "# group_lk = g.set_index('name')['group'].to_dict()"
   ]
  },
  {
   "cell_type": "code",
   "execution_count": null,
   "id": "gross-drinking",
   "metadata": {
    "papermill": {
     "duration": 0.030682,
     "end_time": "2022-04-01T00:41:18.747169",
     "exception": false,
     "start_time": "2022-04-01T00:41:18.716487",
     "status": "completed"
    },
    "tags": []
   },
   "outputs": [],
   "source": []
  },
  {
   "cell_type": "code",
   "execution_count": 41,
   "id": "subject-macintosh",
   "metadata": {
    "execution": {
     "iopub.execute_input": "2022-04-01T00:41:18.813110Z",
     "iopub.status.busy": "2022-04-01T00:41:18.812445Z",
     "iopub.status.idle": "2022-04-01T00:41:18.813931Z",
     "shell.execute_reply": "2022-04-01T00:41:18.814367Z"
    },
    "papermill": {
     "duration": 0.036584,
     "end_time": "2022-04-01T00:41:18.814507",
     "exception": false,
     "start_time": "2022-04-01T00:41:18.777923",
     "status": "completed"
    },
    "tags": []
   },
   "outputs": [],
   "source": [
    "# #hide\n",
    "# fig, ax = plt.subplots(figsize=(15, 8))\n",
    "\n",
    "# def draw_barchart(current_day):\n",
    "#     dff = g[g['day'].eq(current_day)].sort_values(by='value', ascending=True).tail(10)\n",
    "#     ax.clear()\n",
    "#     ax.barh(dff['name'], dff['value'], color=[colors[group_lk[x]] for x in dff['name']])\n",
    "#     dx = dff['value'].max() / 200\n",
    "    \n",
    "#     for i, (value, name) in enumerate(zip(dff['value'], dff['name'])):\n",
    "#         ax.text(value-dx, i,     name,           size=14, weight=600, ha='right', va='bottom')\n",
    "#         ax.text(value-dx, i-.25, group_lk[name], size=10, color='#444444', ha='right', va='baseline')\n",
    "#         ax.text(value+dx, i,     f'{value:,.0f}',  size=14, ha='left',  va='center')\n",
    "#     ax.text(1, 0.4, current_day, transform=ax.transAxes, color='#777777', size=46, ha='right', weight=800)\n",
    "#     ax.text(0, 1.06, 'Population (thousands)', transform=ax.transAxes, size=12, color='#777777')\n",
    "#     ax.xaxis.set_major_formatter(ticker.StrMethodFormatter('{x:,.0f}'))\n",
    "#     ax.xaxis.set_ticks_position('top')\n",
    "#     ax.tick_params(axis='x', colors='#777777', labelsize=12)\n",
    "#     ax.set_yticks([])\n",
    "#     ax.margins(0, 0.01)\n",
    "#     ax.grid(which='major', axis='x', linestyle='-')\n",
    "#     ax.set_axisbelow(True)\n",
    "    \n",
    "#     ax.text(0, 1.15, 'Coronavirus',\n",
    "#             transform=ax.transAxes, size=24, weight=600, ha='left', va='top')\n",
    "# #     ax.text(1, 0, 'by @pratapvardhan; credit @jburnmurdoch', transform=ax.transAxes, color='#777777', ha='right',\n",
    "# #             bbox=dict(facecolor='white', alpha=0.8, edgecolor='white'))\n",
    "#     plt.box(False)"
   ]
  },
  {
   "cell_type": "code",
   "execution_count": 42,
   "id": "sexual-wages",
   "metadata": {
    "execution": {
     "iopub.execute_input": "2022-04-01T00:41:18.880375Z",
     "iopub.status.busy": "2022-04-01T00:41:18.879724Z",
     "iopub.status.idle": "2022-04-01T00:41:18.881196Z",
     "shell.execute_reply": "2022-04-01T00:41:18.881692Z"
    },
    "papermill": {
     "duration": 0.036693,
     "end_time": "2022-04-01T00:41:18.881840",
     "exception": false,
     "start_time": "2022-04-01T00:41:18.845147",
     "status": "completed"
    },
    "tags": []
   },
   "outputs": [],
   "source": [
    "# #hide_input\n",
    "# fig, ax = plt.subplots(figsize=(15, 8))\n",
    "# animator = animation.FuncAnimation(fig, draw_barchart, frames=range(g.day.values.min(), g.day.values.max()))\n",
    "# HTML(animator.to_jshtml())\n",
    "# # or use animator.to_html5_video() or animator.save() "
   ]
  },
  {
   "cell_type": "code",
   "execution_count": null,
   "id": "australian-container",
   "metadata": {
    "papermill": {
     "duration": 0.030545,
     "end_time": "2022-04-01T00:41:18.943685",
     "exception": false,
     "start_time": "2022-04-01T00:41:18.913140",
     "status": "completed"
    },
    "tags": []
   },
   "outputs": [],
   "source": []
  },
  {
   "cell_type": "code",
   "execution_count": null,
   "id": "mediterranean-pontiac",
   "metadata": {
    "papermill": {
     "duration": 0.030496,
     "end_time": "2022-04-01T00:41:19.004930",
     "exception": false,
     "start_time": "2022-04-01T00:41:18.974434",
     "status": "completed"
    },
    "tags": []
   },
   "outputs": [],
   "source": []
  },
  {
   "cell_type": "code",
   "execution_count": null,
   "id": "aging-legislature",
   "metadata": {
    "papermill": {
     "duration": 0.030456,
     "end_time": "2022-04-01T00:41:19.066226",
     "exception": false,
     "start_time": "2022-04-01T00:41:19.035770",
     "status": "completed"
    },
    "tags": []
   },
   "outputs": [],
   "source": []
  }
 ],
 "metadata": {
  "kernelspec": {
   "display_name": "Python 3",
   "language": "python",
   "name": "python3"
  },
  "language_info": {
   "codemirror_mode": {
    "name": "ipython",
    "version": 3
   },
   "file_extension": ".py",
   "mimetype": "text/x-python",
   "name": "python",
   "nbconvert_exporter": "python",
   "pygments_lexer": "ipython3",
   "version": "3.6.15"
  },
  "papermill": {
   "duration": 5.971021,
   "end_time": "2022-04-01T00:41:19.515868",
   "environment_variables": {},
   "exception": null,
   "input_path": "2020-03-21-covid19exp.ipynb",
   "output_path": "2020-03-21-covid19exp.ipynb",
   "parameters": {},
   "start_time": "2022-04-01T00:41:13.544847",
   "version": "2.0.0"
  }
 },
 "nbformat": 4,
 "nbformat_minor": 5
}