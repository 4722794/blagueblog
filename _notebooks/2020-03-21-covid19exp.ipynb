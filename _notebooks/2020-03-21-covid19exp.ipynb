{
 "cells": [
  {
   "cell_type": "markdown",
   "id": "muslim-click",
   "metadata": {
    "papermill": {
     "duration": 0.041446,
     "end_time": "2022-01-18T12:13:45.959352",
     "exception": false,
     "start_time": "2022-01-18T12:13:45.917906",
     "status": "completed"
    },
    "tags": []
   },
   "source": [
    "# COVID-19 Case Race\n",
    "> A race chart to see rising cases around the world\n",
    "\n",
    "- author: Hargun Oberoi\n",
    "- image: images/covid-overview.png\n",
    "- hide: false\n",
    "- badges: false"
   ]
  },
  {
   "cell_type": "code",
   "execution_count": 1,
   "id": "proof-material",
   "metadata": {
    "execution": {
     "iopub.execute_input": "2022-01-18T12:13:46.051066Z",
     "iopub.status.busy": "2022-01-18T12:13:46.049918Z",
     "iopub.status.idle": "2022-01-18T12:13:46.451411Z",
     "shell.execute_reply": "2022-01-18T12:13:46.450385Z"
    },
    "papermill": {
     "duration": 0.451757,
     "end_time": "2022-01-18T12:13:46.451592",
     "exception": false,
     "start_time": "2022-01-18T12:13:45.999835",
     "status": "completed"
    },
    "tags": []
   },
   "outputs": [],
   "source": [
    "#hide\n",
    "import numpy as np\n",
    "import pandas as pd\n",
    "from jinja2 import Template\n",
    "from IPython.display import HTML"
   ]
  },
  {
   "cell_type": "code",
   "execution_count": 2,
   "id": "developed-terminology",
   "metadata": {
    "execution": {
     "iopub.execute_input": "2022-01-18T12:13:46.539619Z",
     "iopub.status.busy": "2022-01-18T12:13:46.538027Z",
     "iopub.status.idle": "2022-01-18T12:13:46.540350Z",
     "shell.execute_reply": "2022-01-18T12:13:46.540877Z"
    },
    "papermill": {
     "duration": 0.048541,
     "end_time": "2022-01-18T12:13:46.541065",
     "exception": false,
     "start_time": "2022-01-18T12:13:46.492524",
     "status": "completed"
    },
    "tags": []
   },
   "outputs": [],
   "source": [
    "#hide\n",
    "\n",
    "# FETCH\n",
    "base_url = 'https://raw.githubusercontent.com/pratapvardhan/notebooks/master/covid19/'\n",
    "paths = {\n",
    "    'mapping': base_url + 'mapping_countries.csv',\n",
    "    'overview': base_url + 'overview.tpl'\n",
    "}"
   ]
  },
  {
   "cell_type": "code",
   "execution_count": 3,
   "id": "dynamic-saver",
   "metadata": {
    "execution": {
     "iopub.execute_input": "2022-01-18T12:13:46.633972Z",
     "iopub.status.busy": "2022-01-18T12:13:46.633269Z",
     "iopub.status.idle": "2022-01-18T12:13:46.636086Z",
     "shell.execute_reply": "2022-01-18T12:13:46.637037Z"
    },
    "papermill": {
     "duration": 0.05596,
     "end_time": "2022-01-18T12:13:46.637231",
     "exception": false,
     "start_time": "2022-01-18T12:13:46.581271",
     "status": "completed"
    },
    "tags": []
   },
   "outputs": [
    {
     "data": {
      "text/plain": [
       "'https://raw.githubusercontent.com/pratapvardhan/notebooks/master/covid19/mapping_countries.csv'"
      ]
     },
     "execution_count": 3,
     "metadata": {},
     "output_type": "execute_result"
    }
   ],
   "source": [
    "#hide\n",
    "paths['mapping']"
   ]
  },
  {
   "cell_type": "code",
   "execution_count": 4,
   "id": "urban-software",
   "metadata": {
    "execution": {
     "iopub.execute_input": "2022-01-18T12:13:46.728630Z",
     "iopub.status.busy": "2022-01-18T12:13:46.727969Z",
     "iopub.status.idle": "2022-01-18T12:13:46.732630Z",
     "shell.execute_reply": "2022-01-18T12:13:46.732047Z"
    },
    "papermill": {
     "duration": 0.052631,
     "end_time": "2022-01-18T12:13:46.732770",
     "exception": false,
     "start_time": "2022-01-18T12:13:46.680139",
     "status": "completed"
    },
    "tags": []
   },
   "outputs": [],
   "source": [
    "#hide\n",
    "def get_mappings(url):\n",
    "    df = pd.read_csv(url)\n",
    "    return {\n",
    "        'df': df,\n",
    "        'replace.country': dict(df.dropna(subset=['Name']).set_index('Country')['Name']),\n",
    "        'map.continent': dict(df.set_index('Name')['Continent'])\n",
    "    }"
   ]
  },
  {
   "cell_type": "code",
   "execution_count": 5,
   "id": "intimate-machinery",
   "metadata": {
    "execution": {
     "iopub.execute_input": "2022-01-18T12:13:46.824137Z",
     "iopub.status.busy": "2022-01-18T12:13:46.823496Z",
     "iopub.status.idle": "2022-01-18T12:13:46.860480Z",
     "shell.execute_reply": "2022-01-18T12:13:46.859936Z"
    },
    "papermill": {
     "duration": 0.081357,
     "end_time": "2022-01-18T12:13:46.860617",
     "exception": false,
     "start_time": "2022-01-18T12:13:46.779260",
     "status": "completed"
    },
    "tags": []
   },
   "outputs": [],
   "source": [
    "#hide\n",
    "mapping = get_mappings(paths['mapping'])"
   ]
  },
  {
   "cell_type": "code",
   "execution_count": 6,
   "id": "certified-tactics",
   "metadata": {
    "execution": {
     "iopub.execute_input": "2022-01-18T12:13:46.946861Z",
     "iopub.status.busy": "2022-01-18T12:13:46.946085Z",
     "iopub.status.idle": "2022-01-18T12:13:46.947958Z",
     "shell.execute_reply": "2022-01-18T12:13:46.948618Z"
    },
    "papermill": {
     "duration": 0.048284,
     "end_time": "2022-01-18T12:13:46.948786",
     "exception": false,
     "start_time": "2022-01-18T12:13:46.900502",
     "status": "completed"
    },
    "tags": []
   },
   "outputs": [],
   "source": [
    "#hide\n",
    "def get_template(path):\n",
    "    from urllib.parse import urlparse\n",
    "    if bool(urlparse(path).netloc):\n",
    "        from urllib.request import urlopen\n",
    "        return urlopen(path).read().decode('utf8')\n",
    "    return open(path).read()"
   ]
  },
  {
   "cell_type": "code",
   "execution_count": 7,
   "id": "realistic-blast",
   "metadata": {
    "execution": {
     "iopub.execute_input": "2022-01-18T12:13:47.041456Z",
     "iopub.status.busy": "2022-01-18T12:13:47.040483Z",
     "iopub.status.idle": "2022-01-18T12:13:47.042523Z",
     "shell.execute_reply": "2022-01-18T12:13:47.043160Z"
    },
    "papermill": {
     "duration": 0.052268,
     "end_time": "2022-01-18T12:13:47.043330",
     "exception": false,
     "start_time": "2022-01-18T12:13:46.991062",
     "status": "completed"
    },
    "tags": []
   },
   "outputs": [],
   "source": [
    "#hide\n",
    "def get_frame(name):\n",
    "    url = (\n",
    "        'https://raw.githubusercontent.com/CSSEGISandData/COVID-19/master/csse_covid_19_data/'\n",
    "        f'csse_covid_19_time_series/time_series_covid19_{name}_global.csv')\n",
    "    df = pd.read_csv(url)\n",
    "    # rename countries\n",
    "    df['Country/Region'] = df['Country/Region'].replace(mapping['replace.country'])\n",
    "    return df"
   ]
  },
  {
   "cell_type": "code",
   "execution_count": 8,
   "id": "affiliated-characterization",
   "metadata": {
    "execution": {
     "iopub.execute_input": "2022-01-18T12:13:47.131317Z",
     "iopub.status.busy": "2022-01-18T12:13:47.130645Z",
     "iopub.status.idle": "2022-01-18T12:13:47.133234Z",
     "shell.execute_reply": "2022-01-18T12:13:47.132589Z"
    },
    "papermill": {
     "duration": 0.04978,
     "end_time": "2022-01-18T12:13:47.133367",
     "exception": false,
     "start_time": "2022-01-18T12:13:47.083587",
     "status": "completed"
    },
    "tags": []
   },
   "outputs": [],
   "source": [
    "#hide\n",
    "def get_dates(df):\n",
    "    dt_cols = df.columns[~df.columns.isin(['Province/State', 'Country/Region', 'Lat', 'Long'])]\n",
    "    LAST_DATE_I = -1\n",
    "    # sometimes last column may be empty, then go backwards\n",
    "    for i in range(-1, -len(dt_cols), -1):\n",
    "        if not df[dt_cols[i]].fillna(0).eq(0).all():\n",
    "            LAST_DATE_I = i\n",
    "            break\n",
    "    return LAST_DATE_I, dt_cols"
   ]
  },
  {
   "cell_type": "code",
   "execution_count": 9,
   "id": "recent-optimization",
   "metadata": {
    "execution": {
     "iopub.execute_input": "2022-01-18T12:13:47.218932Z",
     "iopub.status.busy": "2022-01-18T12:13:47.218186Z",
     "iopub.status.idle": "2022-01-18T12:13:47.614850Z",
     "shell.execute_reply": "2022-01-18T12:13:47.615480Z"
    },
    "papermill": {
     "duration": 0.442657,
     "end_time": "2022-01-18T12:13:47.615814",
     "exception": false,
     "start_time": "2022-01-18T12:13:47.173157",
     "status": "completed"
    },
    "tags": []
   },
   "outputs": [],
   "source": [
    "#hide\n",
    "COL_REGION = 'Country/Region'\n",
    "# Confirmed, Recovered, Deaths\n",
    "df = get_frame('confirmed')\n",
    "# dft_: timeseries, dfc_: today country agg\n",
    "dft_cases = df\n",
    "dft_deaths = get_frame('deaths')\n",
    "dft_recovered = get_frame('recovered')\n",
    "LAST_DATE_I, dt_cols = get_dates(df)"
   ]
  },
  {
   "cell_type": "code",
   "execution_count": 10,
   "id": "absolute-copper",
   "metadata": {
    "execution": {
     "iopub.execute_input": "2022-01-18T12:13:47.708128Z",
     "iopub.status.busy": "2022-01-18T12:13:47.707403Z",
     "iopub.status.idle": "2022-01-18T12:13:47.710303Z",
     "shell.execute_reply": "2022-01-18T12:13:47.709544Z"
    },
    "papermill": {
     "duration": 0.047809,
     "end_time": "2022-01-18T12:13:47.710439",
     "exception": false,
     "start_time": "2022-01-18T12:13:47.662630",
     "status": "completed"
    },
    "tags": []
   },
   "outputs": [],
   "source": [
    "#hide\n",
    "LAST_DATE_I, dt_cols = get_dates(df)\n",
    "dt_today =dt_cols[LAST_DATE_I]\n",
    "# dt_5day = dt_cols[LAST_DATE_I - 5]\n",
    "dt_yday = dt_cols[LAST_DATE_I - 1]"
   ]
  },
  {
   "cell_type": "code",
   "execution_count": 11,
   "id": "restricted-sheriff",
   "metadata": {
    "execution": {
     "iopub.execute_input": "2022-01-18T12:13:47.795015Z",
     "iopub.status.busy": "2022-01-18T12:13:47.794395Z",
     "iopub.status.idle": "2022-01-18T12:13:47.804995Z",
     "shell.execute_reply": "2022-01-18T12:13:47.804438Z"
    },
    "papermill": {
     "duration": 0.056188,
     "end_time": "2022-01-18T12:13:47.805127",
     "exception": false,
     "start_time": "2022-01-18T12:13:47.748939",
     "status": "completed"
    },
    "tags": []
   },
   "outputs": [],
   "source": [
    "#hide\n",
    "dfc_cases = dft_cases.groupby(COL_REGION)[dt_today].sum()\n",
    "dfc_deaths = dft_deaths.groupby(COL_REGION)[dt_today].sum()\n",
    "# dfp_cases = dft_cases.groupby(COL_REGION)[dt_5day].sum()\n",
    "# dfp_deaths = dft_deaths.groupby(COL_REGION)[dt_5day].sum()\n",
    "dfp_cases = dft_cases.groupby(COL_REGION)[dt_yday].sum()\n",
    "dfp_deaths = dft_deaths.groupby(COL_REGION)[dt_yday].sum()"
   ]
  },
  {
   "cell_type": "code",
   "execution_count": 12,
   "id": "deluxe-hepatitis",
   "metadata": {
    "execution": {
     "iopub.execute_input": "2022-01-18T12:13:47.885434Z",
     "iopub.status.busy": "2022-01-18T12:13:47.884702Z",
     "iopub.status.idle": "2022-01-18T12:13:47.891011Z",
     "shell.execute_reply": "2022-01-18T12:13:47.890481Z"
    },
    "papermill": {
     "duration": 0.049827,
     "end_time": "2022-01-18T12:13:47.891149",
     "exception": false,
     "start_time": "2022-01-18T12:13:47.841322",
     "status": "completed"
    },
    "tags": []
   },
   "outputs": [],
   "source": [
    "#hide\n",
    "df_table = (pd.DataFrame(dict(Cases = dfc_cases, Deaths = dfc_deaths, PCases = dfp_cases, PDeaths = dfp_deaths))\n",
    "            .sort_values(by = ['Cases','Deaths'], ascending = [False, False])\n",
    "            .reset_index())"
   ]
  },
  {
   "cell_type": "code",
   "execution_count": 13,
   "id": "educational-chancellor",
   "metadata": {
    "execution": {
     "iopub.execute_input": "2022-01-18T12:13:47.976626Z",
     "iopub.status.busy": "2022-01-18T12:13:47.975945Z",
     "iopub.status.idle": "2022-01-18T12:13:48.002358Z",
     "shell.execute_reply": "2022-01-18T12:13:48.001758Z"
    },
    "papermill": {
     "duration": 0.072842,
     "end_time": "2022-01-18T12:13:48.002498",
     "exception": false,
     "start_time": "2022-01-18T12:13:47.929656",
     "status": "completed"
    },
    "tags": []
   },
   "outputs": [
    {
     "data": {
      "text/html": [
       "<div>\n",
       "<style scoped>\n",
       "    .dataframe tbody tr th:only-of-type {\n",
       "        vertical-align: middle;\n",
       "    }\n",
       "\n",
       "    .dataframe tbody tr th {\n",
       "        vertical-align: top;\n",
       "    }\n",
       "\n",
       "    .dataframe thead th {\n",
       "        text-align: right;\n",
       "    }\n",
       "</style>\n",
       "<table border=\"1\" class=\"dataframe\">\n",
       "  <thead>\n",
       "    <tr style=\"text-align: right;\">\n",
       "      <th></th>\n",
       "      <th>Country/Region</th>\n",
       "      <th>Cases</th>\n",
       "      <th>Deaths</th>\n",
       "      <th>PCases</th>\n",
       "      <th>PDeaths</th>\n",
       "      <th>Cases (+)</th>\n",
       "      <th>Deaths (+)</th>\n",
       "      <th>Fatality Rate</th>\n",
       "      <th>Continent</th>\n",
       "    </tr>\n",
       "  </thead>\n",
       "  <tbody>\n",
       "    <tr>\n",
       "      <th>0</th>\n",
       "      <td>US</td>\n",
       "      <td>66421749</td>\n",
       "      <td>851730</td>\n",
       "      <td>65703875</td>\n",
       "      <td>850608</td>\n",
       "      <td>717874</td>\n",
       "      <td>1122</td>\n",
       "      <td>1.28</td>\n",
       "      <td>North America</td>\n",
       "    </tr>\n",
       "    <tr>\n",
       "      <th>1</th>\n",
       "      <td>India</td>\n",
       "      <td>37618271</td>\n",
       "      <td>486761</td>\n",
       "      <td>37380253</td>\n",
       "      <td>486451</td>\n",
       "      <td>238018</td>\n",
       "      <td>310</td>\n",
       "      <td>1.29</td>\n",
       "      <td>Asia</td>\n",
       "    </tr>\n",
       "    <tr>\n",
       "      <th>2</th>\n",
       "      <td>Brazil</td>\n",
       "      <td>23089509</td>\n",
       "      <td>621478</td>\n",
       "      <td>23015128</td>\n",
       "      <td>621327</td>\n",
       "      <td>74381</td>\n",
       "      <td>151</td>\n",
       "      <td>2.69</td>\n",
       "      <td>South America</td>\n",
       "    </tr>\n",
       "    <tr>\n",
       "      <th>3</th>\n",
       "      <td>United Kingdom</td>\n",
       "      <td>15406953</td>\n",
       "      <td>152571</td>\n",
       "      <td>15316542</td>\n",
       "      <td>152483</td>\n",
       "      <td>90411</td>\n",
       "      <td>88</td>\n",
       "      <td>0.99</td>\n",
       "      <td>Europe</td>\n",
       "    </tr>\n",
       "    <tr>\n",
       "      <th>4</th>\n",
       "      <td>France</td>\n",
       "      <td>14288472</td>\n",
       "      <td>127972</td>\n",
       "      <td>14283514</td>\n",
       "      <td>127957</td>\n",
       "      <td>4958</td>\n",
       "      <td>15</td>\n",
       "      <td>0.90</td>\n",
       "      <td>Europe</td>\n",
       "    </tr>\n",
       "  </tbody>\n",
       "</table>\n",
       "</div>"
      ],
      "text/plain": [
       "   Country/Region     Cases  Deaths    PCases  PDeaths  Cases (+)  Deaths (+)  \\\n",
       "0              US  66421749  851730  65703875   850608     717874        1122   \n",
       "1           India  37618271  486761  37380253   486451     238018         310   \n",
       "2          Brazil  23089509  621478  23015128   621327      74381         151   \n",
       "3  United Kingdom  15406953  152571  15316542   152483      90411          88   \n",
       "4          France  14288472  127972  14283514   127957       4958          15   \n",
       "\n",
       "   Fatality Rate      Continent  \n",
       "0           1.28  North America  \n",
       "1           1.29           Asia  \n",
       "2           2.69  South America  \n",
       "3           0.99         Europe  \n",
       "4           0.90         Europe  "
      ]
     },
     "execution_count": 13,
     "metadata": {},
     "output_type": "execute_result"
    }
   ],
   "source": [
    "#hide\n",
    "for c in 'Cases, Deaths'.split(', '):\n",
    "    df_table[f'{c} (+)'] = (df_table[c] - df_table[f'P{c}']).clip(0)\n",
    "    #Clip ça veut dire, les chiffres negatif sont interdit\n",
    "df_table['Fatality Rate'] = (100* df_table['Deaths']/ df_table['Cases']).round(2)\n",
    "df_table['Continent'] = df_table['Country/Region'].map(mapping['map.continent'])\n",
    "df_table.head(5)"
   ]
  },
  {
   "cell_type": "code",
   "execution_count": 14,
   "id": "aboriginal-bulgaria",
   "metadata": {
    "execution": {
     "iopub.execute_input": "2022-01-18T12:13:48.087774Z",
     "iopub.status.busy": "2022-01-18T12:13:48.087071Z",
     "iopub.status.idle": "2022-01-18T12:13:48.090331Z",
     "shell.execute_reply": "2022-01-18T12:13:48.091054Z"
    },
    "papermill": {
     "duration": 0.048422,
     "end_time": "2022-01-18T12:13:48.091213",
     "exception": false,
     "start_time": "2022-01-18T12:13:48.042791",
     "status": "completed"
    },
    "tags": []
   },
   "outputs": [],
   "source": [
    "#hide\n",
    "#delete problematic countries from table\n",
    "df_table = df_table[~df_table['Country/Region'].isin(['Cape Verde', 'Cruise Ship', 'Kosovo'])]"
   ]
  },
  {
   "cell_type": "code",
   "execution_count": 15,
   "id": "fantastic-effect",
   "metadata": {
    "execution": {
     "iopub.execute_input": "2022-01-18T12:13:48.183183Z",
     "iopub.status.busy": "2022-01-18T12:13:48.182450Z",
     "iopub.status.idle": "2022-01-18T12:13:48.205678Z",
     "shell.execute_reply": "2022-01-18T12:13:48.206214Z"
    },
    "papermill": {
     "duration": 0.072603,
     "end_time": "2022-01-18T12:13:48.206383",
     "exception": false,
     "start_time": "2022-01-18T12:13:48.133780",
     "status": "completed"
    },
    "tags": []
   },
   "outputs": [
    {
     "data": {
      "text/html": [
       "<div>\n",
       "<style scoped>\n",
       "    .dataframe tbody tr th:only-of-type {\n",
       "        vertical-align: middle;\n",
       "    }\n",
       "\n",
       "    .dataframe tbody tr th {\n",
       "        vertical-align: top;\n",
       "    }\n",
       "\n",
       "    .dataframe thead th {\n",
       "        text-align: right;\n",
       "    }\n",
       "</style>\n",
       "<table border=\"1\" class=\"dataframe\">\n",
       "  <thead>\n",
       "    <tr style=\"text-align: right;\">\n",
       "      <th></th>\n",
       "      <th>Country/Region</th>\n",
       "      <th>Cases</th>\n",
       "      <th>Deaths</th>\n",
       "      <th>PCases</th>\n",
       "      <th>PDeaths</th>\n",
       "      <th>Cases (+)</th>\n",
       "      <th>Deaths (+)</th>\n",
       "      <th>Fatality Rate</th>\n",
       "      <th>Continent</th>\n",
       "    </tr>\n",
       "  </thead>\n",
       "  <tbody>\n",
       "    <tr>\n",
       "      <th>0</th>\n",
       "      <td>US</td>\n",
       "      <td>66421749</td>\n",
       "      <td>851730</td>\n",
       "      <td>65703875</td>\n",
       "      <td>850608</td>\n",
       "      <td>717874</td>\n",
       "      <td>1122</td>\n",
       "      <td>1.3</td>\n",
       "      <td>North America</td>\n",
       "    </tr>\n",
       "    <tr>\n",
       "      <th>1</th>\n",
       "      <td>India</td>\n",
       "      <td>37618271</td>\n",
       "      <td>486761</td>\n",
       "      <td>37380253</td>\n",
       "      <td>486451</td>\n",
       "      <td>238018</td>\n",
       "      <td>310</td>\n",
       "      <td>1.3</td>\n",
       "      <td>Asia</td>\n",
       "    </tr>\n",
       "    <tr>\n",
       "      <th>2</th>\n",
       "      <td>Brazil</td>\n",
       "      <td>23089509</td>\n",
       "      <td>621478</td>\n",
       "      <td>23015128</td>\n",
       "      <td>621327</td>\n",
       "      <td>74381</td>\n",
       "      <td>151</td>\n",
       "      <td>2.7</td>\n",
       "      <td>South America</td>\n",
       "    </tr>\n",
       "    <tr>\n",
       "      <th>3</th>\n",
       "      <td>United Kingdom</td>\n",
       "      <td>15406953</td>\n",
       "      <td>152571</td>\n",
       "      <td>15316542</td>\n",
       "      <td>152483</td>\n",
       "      <td>90411</td>\n",
       "      <td>88</td>\n",
       "      <td>1.0</td>\n",
       "      <td>Europe</td>\n",
       "    </tr>\n",
       "    <tr>\n",
       "      <th>4</th>\n",
       "      <td>France</td>\n",
       "      <td>14288472</td>\n",
       "      <td>127972</td>\n",
       "      <td>14283514</td>\n",
       "      <td>127957</td>\n",
       "      <td>4958</td>\n",
       "      <td>15</td>\n",
       "      <td>0.9</td>\n",
       "      <td>Europe</td>\n",
       "    </tr>\n",
       "  </tbody>\n",
       "</table>\n",
       "</div>"
      ],
      "text/plain": [
       "   Country/Region     Cases  Deaths    PCases  PDeaths  Cases (+)  Deaths (+)  \\\n",
       "0              US  66421749  851730  65703875   850608     717874        1122   \n",
       "1           India  37618271  486761  37380253   486451     238018         310   \n",
       "2          Brazil  23089509  621478  23015128   621327      74381         151   \n",
       "3  United Kingdom  15406953  152571  15316542   152483      90411          88   \n",
       "4          France  14288472  127972  14283514   127957       4958          15   \n",
       "\n",
       "   Fatality Rate      Continent  \n",
       "0            1.3  North America  \n",
       "1            1.3           Asia  \n",
       "2            2.7  South America  \n",
       "3            1.0         Europe  \n",
       "4            0.9         Europe  "
      ]
     },
     "execution_count": 15,
     "metadata": {},
     "output_type": "execute_result"
    }
   ],
   "source": [
    "#hide\n",
    "df_table = (pd.DataFrame(dict(Cases=dfc_cases, Deaths=dfc_deaths, PCases=dfp_cases, PDeaths=dfp_deaths))\n",
    "             .sort_values(by=['Cases', 'Deaths'], ascending=[False, False])\n",
    "             .reset_index())\n",
    "df_table.rename(columns={'index': 'Country/Region'}, inplace=True)\n",
    "for c in 'Cases, Deaths'.split(', '):\n",
    "    df_table[f'{c} (+)'] = (df_table[c] - df_table[f'P{c}']).clip(0)  # DATA BUG\n",
    "df_table['Fatality Rate'] = (100 * df_table['Deaths'] / df_table['Cases']).round(1)\n",
    "df_table['Continent'] = df_table['Country/Region'].map(mapping['map.continent'])\n",
    "df_table.head(5)"
   ]
  },
  {
   "cell_type": "code",
   "execution_count": 16,
   "id": "fewer-occasion",
   "metadata": {
    "execution": {
     "iopub.execute_input": "2022-01-18T12:13:48.294125Z",
     "iopub.status.busy": "2022-01-18T12:13:48.293364Z",
     "iopub.status.idle": "2022-01-18T12:13:48.295922Z",
     "shell.execute_reply": "2022-01-18T12:13:48.295403Z"
    },
    "papermill": {
     "duration": 0.047919,
     "end_time": "2022-01-18T12:13:48.296045",
     "exception": false,
     "start_time": "2022-01-18T12:13:48.248126",
     "status": "completed"
    },
    "tags": []
   },
   "outputs": [],
   "source": [
    "#hide\n",
    "#delete problematic countries from table\n",
    "df_table = df_table[~df_table['Country/Region'].isin(['Cape Verde', 'Cruise Ship', 'Kosovo'])]"
   ]
  },
  {
   "cell_type": "code",
   "execution_count": 17,
   "id": "related-center",
   "metadata": {
    "execution": {
     "iopub.execute_input": "2022-01-18T12:13:48.399521Z",
     "iopub.status.busy": "2022-01-18T12:13:48.398791Z",
     "iopub.status.idle": "2022-01-18T12:13:48.403359Z",
     "shell.execute_reply": "2022-01-18T12:13:48.402748Z"
    },
    "papermill": {
     "duration": 0.067819,
     "end_time": "2022-01-18T12:13:48.403505",
     "exception": false,
     "start_time": "2022-01-18T12:13:48.335686",
     "status": "completed"
    },
    "tags": []
   },
   "outputs": [],
   "source": [
    "#hide\n",
    "metrics = [df_table.columns[index] for index in [1,2,5,6]]\n",
    "# s_china = df_table[df_table['Country/Region'].eq('China')][metrics].sum().add_prefix('China ')\n",
    "s_us = df_table[df_table['Country/Region'].eq('US')][metrics].sum().add_prefix('US ')\n",
    "s_eu = df_table[df_table['Continent'].eq('Europe')][metrics].sum().add_prefix('EU ')\n",
    "s_ind = df_table[df_table['Country/Region'].eq('India')][metrics].sum().add_prefix('India ')\n",
    "summary = {'updated': pd.to_datetime(dt_today), 'since': pd.to_datetime(dt_yday)}\n",
    "summary = {'updated': pd.to_datetime(dt_today), 'since': pd.to_datetime(dt_yday)}\n",
    "summary = {**summary, **df_table[metrics].sum(), **s_ind, **s_us, **s_eu}"
   ]
  },
  {
   "cell_type": "code",
   "execution_count": 18,
   "id": "engaging-syndrome",
   "metadata": {
    "execution": {
     "iopub.execute_input": "2022-01-18T12:13:48.495654Z",
     "iopub.status.busy": "2022-01-18T12:13:48.494564Z",
     "iopub.status.idle": "2022-01-18T12:13:48.510246Z",
     "shell.execute_reply": "2022-01-18T12:13:48.509715Z"
    },
    "papermill": {
     "duration": 0.063828,
     "end_time": "2022-01-18T12:13:48.510379",
     "exception": false,
     "start_time": "2022-01-18T12:13:48.446551",
     "status": "completed"
    },
    "tags": []
   },
   "outputs": [],
   "source": [
    "#hide\n",
    "dft_ct_new_cases = dft_cases.groupby(COL_REGION)[dt_cols].sum().diff(axis=1).fillna(0).astype(int)"
   ]
  },
  {
   "cell_type": "code",
   "execution_count": 19,
   "id": "neutral-assignment",
   "metadata": {
    "execution": {
     "iopub.execute_input": "2022-01-18T12:13:48.595278Z",
     "iopub.status.busy": "2022-01-18T12:13:48.594577Z",
     "iopub.status.idle": "2022-01-18T12:13:48.599371Z",
     "shell.execute_reply": "2022-01-18T12:13:48.600014Z"
    },
    "papermill": {
     "duration": 0.048993,
     "end_time": "2022-01-18T12:13:48.600167",
     "exception": false,
     "start_time": "2022-01-18T12:13:48.551174",
     "status": "completed"
    },
    "tags": []
   },
   "outputs": [],
   "source": [
    "#hide\n",
    "everydaycases = dft_ct_new_cases.cumsum(axis=1)"
   ]
  },
  {
   "cell_type": "code",
   "execution_count": 20,
   "id": "parliamentary-calgary",
   "metadata": {
    "execution": {
     "iopub.execute_input": "2022-01-18T12:13:48.694908Z",
     "iopub.status.busy": "2022-01-18T12:13:48.694098Z",
     "iopub.status.idle": "2022-01-18T12:13:49.419282Z",
     "shell.execute_reply": "2022-01-18T12:13:49.418543Z"
    },
    "papermill": {
     "duration": 0.77046,
     "end_time": "2022-01-18T12:13:49.419441",
     "exception": false,
     "start_time": "2022-01-18T12:13:48.648981",
     "status": "completed"
    },
    "tags": []
   },
   "outputs": [],
   "source": [
    "#hide\n",
    "import pandas as pd\n",
    "import matplotlib.pyplot as plt\n",
    "import matplotlib.ticker as ticker\n",
    "import matplotlib.animation as animation\n",
    "from IPython.display import HTML"
   ]
  },
  {
   "cell_type": "code",
   "execution_count": 21,
   "id": "lasting-extraction",
   "metadata": {
    "execution": {
     "iopub.execute_input": "2022-01-18T12:13:49.512114Z",
     "iopub.status.busy": "2022-01-18T12:13:49.511440Z",
     "iopub.status.idle": "2022-01-18T12:13:49.518354Z",
     "shell.execute_reply": "2022-01-18T12:13:49.518957Z"
    },
    "papermill": {
     "duration": 0.058433,
     "end_time": "2022-01-18T12:13:49.519109",
     "exception": false,
     "start_time": "2022-01-18T12:13:49.460676",
     "status": "completed"
    },
    "tags": []
   },
   "outputs": [],
   "source": [
    "#hide\n",
    "t = everydaycases.stack()"
   ]
  },
  {
   "cell_type": "code",
   "execution_count": 22,
   "id": "premier-sleeve",
   "metadata": {
    "execution": {
     "iopub.execute_input": "2022-01-18T12:13:49.602791Z",
     "iopub.status.busy": "2022-01-18T12:13:49.602144Z",
     "iopub.status.idle": "2022-01-18T12:13:49.613290Z",
     "shell.execute_reply": "2022-01-18T12:13:49.613800Z"
    },
    "papermill": {
     "duration": 0.055161,
     "end_time": "2022-01-18T12:13:49.613974",
     "exception": false,
     "start_time": "2022-01-18T12:13:49.558813",
     "status": "completed"
    },
    "tags": []
   },
   "outputs": [],
   "source": [
    "#hide\n",
    "g = t.reset_index(['Country/Region'])"
   ]
  },
  {
   "cell_type": "code",
   "execution_count": 23,
   "id": "distributed-pittsburgh",
   "metadata": {
    "execution": {
     "iopub.execute_input": "2022-01-18T12:13:49.696633Z",
     "iopub.status.busy": "2022-01-18T12:13:49.696009Z",
     "iopub.status.idle": "2022-01-18T12:13:49.700578Z",
     "shell.execute_reply": "2022-01-18T12:13:49.700043Z"
    },
    "papermill": {
     "duration": 0.047424,
     "end_time": "2022-01-18T12:13:49.700714",
     "exception": false,
     "start_time": "2022-01-18T12:13:49.653290",
     "status": "completed"
    },
    "tags": []
   },
   "outputs": [],
   "source": [
    "#hide\n",
    "g.index.name = 'date'"
   ]
  },
  {
   "cell_type": "code",
   "execution_count": 24,
   "id": "naked-donor",
   "metadata": {
    "execution": {
     "iopub.execute_input": "2022-01-18T12:13:49.786410Z",
     "iopub.status.busy": "2022-01-18T12:13:49.784573Z",
     "iopub.status.idle": "2022-01-18T12:13:49.787171Z",
     "shell.execute_reply": "2022-01-18T12:13:49.787738Z"
    },
    "papermill": {
     "duration": 0.047407,
     "end_time": "2022-01-18T12:13:49.788119",
     "exception": false,
     "start_time": "2022-01-18T12:13:49.740712",
     "status": "completed"
    },
    "tags": []
   },
   "outputs": [],
   "source": [
    "# #hide\n",
    "# g = g.reset_index(['date'])"
   ]
  },
  {
   "cell_type": "code",
   "execution_count": 25,
   "id": "incomplete-mustang",
   "metadata": {
    "execution": {
     "iopub.execute_input": "2022-01-18T12:13:49.890609Z",
     "iopub.status.busy": "2022-01-18T12:13:49.888855Z",
     "iopub.status.idle": "2022-01-18T12:13:49.891311Z",
     "shell.execute_reply": "2022-01-18T12:13:49.891908Z"
    },
    "papermill": {
     "duration": 0.06367,
     "end_time": "2022-01-18T12:13:49.892082",
     "exception": false,
     "start_time": "2022-01-18T12:13:49.828412",
     "status": "completed"
    },
    "tags": []
   },
   "outputs": [],
   "source": [
    "#hide\n",
    "# g.head()"
   ]
  },
  {
   "cell_type": "code",
   "execution_count": 26,
   "id": "specific-kruger",
   "metadata": {
    "execution": {
     "iopub.execute_input": "2022-01-18T12:13:49.980821Z",
     "iopub.status.busy": "2022-01-18T12:13:49.980143Z",
     "iopub.status.idle": "2022-01-18T12:13:49.982356Z",
     "shell.execute_reply": "2022-01-18T12:13:49.982891Z"
    },
    "papermill": {
     "duration": 0.046942,
     "end_time": "2022-01-18T12:13:49.983089",
     "exception": false,
     "start_time": "2022-01-18T12:13:49.936147",
     "status": "completed"
    },
    "tags": []
   },
   "outputs": [],
   "source": [
    "#hide\n",
    "# g.columns = ['date','country','cases']"
   ]
  },
  {
   "cell_type": "code",
   "execution_count": 27,
   "id": "tender-conversion",
   "metadata": {
    "execution": {
     "iopub.execute_input": "2022-01-18T12:13:50.070318Z",
     "iopub.status.busy": "2022-01-18T12:13:50.069585Z",
     "iopub.status.idle": "2022-01-18T12:13:50.072069Z",
     "shell.execute_reply": "2022-01-18T12:13:50.071422Z"
    },
    "papermill": {
     "duration": 0.047165,
     "end_time": "2022-01-18T12:13:50.072204",
     "exception": false,
     "start_time": "2022-01-18T12:13:50.025039",
     "status": "completed"
    },
    "tags": []
   },
   "outputs": [],
   "source": [
    "#hide\n",
    "# g['continent'] = g.country"
   ]
  },
  {
   "cell_type": "code",
   "execution_count": 28,
   "id": "substantial-wilderness",
   "metadata": {
    "execution": {
     "iopub.execute_input": "2022-01-18T12:13:50.155624Z",
     "iopub.status.busy": "2022-01-18T12:13:50.154892Z",
     "iopub.status.idle": "2022-01-18T12:13:50.157743Z",
     "shell.execute_reply": "2022-01-18T12:13:50.157102Z"
    },
    "papermill": {
     "duration": 0.045798,
     "end_time": "2022-01-18T12:13:50.157974",
     "exception": false,
     "start_time": "2022-01-18T12:13:50.112176",
     "status": "completed"
    },
    "tags": []
   },
   "outputs": [],
   "source": [
    "#hide\n",
    "# cols = list(g.columns.values)"
   ]
  },
  {
   "cell_type": "code",
   "execution_count": 29,
   "id": "solved-farming",
   "metadata": {
    "execution": {
     "iopub.execute_input": "2022-01-18T12:13:50.248638Z",
     "iopub.status.busy": "2022-01-18T12:13:50.247948Z",
     "iopub.status.idle": "2022-01-18T12:13:50.252541Z",
     "shell.execute_reply": "2022-01-18T12:13:50.251979Z"
    },
    "papermill": {
     "duration": 0.049457,
     "end_time": "2022-01-18T12:13:50.252699",
     "exception": false,
     "start_time": "2022-01-18T12:13:50.203242",
     "status": "completed"
    },
    "tags": []
   },
   "outputs": [],
   "source": [
    "#hide\n",
    "# cols.insert(0, cols.pop())"
   ]
  },
  {
   "cell_type": "code",
   "execution_count": 30,
   "id": "executed-adoption",
   "metadata": {
    "execution": {
     "iopub.execute_input": "2022-01-18T12:13:50.334259Z",
     "iopub.status.busy": "2022-01-18T12:13:50.333430Z",
     "iopub.status.idle": "2022-01-18T12:13:50.336124Z",
     "shell.execute_reply": "2022-01-18T12:13:50.335501Z"
    },
    "papermill": {
     "duration": 0.04496,
     "end_time": "2022-01-18T12:13:50.336250",
     "exception": false,
     "start_time": "2022-01-18T12:13:50.291290",
     "status": "completed"
    },
    "tags": []
   },
   "outputs": [],
   "source": [
    "#hide\n",
    "# g = g[cols]"
   ]
  },
  {
   "cell_type": "code",
   "execution_count": 31,
   "id": "subject-dublin",
   "metadata": {
    "execution": {
     "iopub.execute_input": "2022-01-18T12:13:50.416210Z",
     "iopub.status.busy": "2022-01-18T12:13:50.415576Z",
     "iopub.status.idle": "2022-01-18T12:13:50.417537Z",
     "shell.execute_reply": "2022-01-18T12:13:50.418119Z"
    },
    "papermill": {
     "duration": 0.044214,
     "end_time": "2022-01-18T12:13:50.418290",
     "exception": false,
     "start_time": "2022-01-18T12:13:50.374076",
     "status": "completed"
    },
    "tags": []
   },
   "outputs": [],
   "source": [
    "#hide\n",
    "# g['continent'] = g['continent'].map(mapping['map.continent'])"
   ]
  },
  {
   "cell_type": "code",
   "execution_count": 32,
   "id": "freelance-scout",
   "metadata": {
    "execution": {
     "iopub.execute_input": "2022-01-18T12:13:50.501124Z",
     "iopub.status.busy": "2022-01-18T12:13:50.500265Z",
     "iopub.status.idle": "2022-01-18T12:13:50.504326Z",
     "shell.execute_reply": "2022-01-18T12:13:50.504936Z"
    },
    "papermill": {
     "duration": 0.047832,
     "end_time": "2022-01-18T12:13:50.505156",
     "exception": false,
     "start_time": "2022-01-18T12:13:50.457324",
     "status": "completed"
    },
    "tags": []
   },
   "outputs": [],
   "source": [
    "#hide\n",
    "# g.head()"
   ]
  },
  {
   "cell_type": "code",
   "execution_count": 33,
   "id": "limited-engine",
   "metadata": {
    "execution": {
     "iopub.execute_input": "2022-01-18T12:13:50.588447Z",
     "iopub.status.busy": "2022-01-18T12:13:50.587713Z",
     "iopub.status.idle": "2022-01-18T12:13:50.590159Z",
     "shell.execute_reply": "2022-01-18T12:13:50.589453Z"
    },
    "papermill": {
     "duration": 0.045661,
     "end_time": "2022-01-18T12:13:50.590324",
     "exception": false,
     "start_time": "2022-01-18T12:13:50.544663",
     "status": "completed"
    },
    "tags": []
   },
   "outputs": [],
   "source": [
    "# hide\n",
    "# g['date'] = g['date'].astype('datetime64[ns]')"
   ]
  },
  {
   "cell_type": "code",
   "execution_count": 34,
   "id": "sophisticated-supervisor",
   "metadata": {
    "execution": {
     "iopub.execute_input": "2022-01-18T12:13:50.674171Z",
     "iopub.status.busy": "2022-01-18T12:13:50.673468Z",
     "iopub.status.idle": "2022-01-18T12:13:50.676136Z",
     "shell.execute_reply": "2022-01-18T12:13:50.675627Z"
    },
    "papermill": {
     "duration": 0.046259,
     "end_time": "2022-01-18T12:13:50.676259",
     "exception": false,
     "start_time": "2022-01-18T12:13:50.630000",
     "status": "completed"
    },
    "tags": []
   },
   "outputs": [],
   "source": [
    "#hide\n",
    "# g['date'] = g.date.dt.dayofyear"
   ]
  },
  {
   "cell_type": "code",
   "execution_count": 35,
   "id": "inside-dubai",
   "metadata": {
    "execution": {
     "iopub.execute_input": "2022-01-18T12:13:50.765883Z",
     "iopub.status.busy": "2022-01-18T12:13:50.765075Z",
     "iopub.status.idle": "2022-01-18T12:13:50.769089Z",
     "shell.execute_reply": "2022-01-18T12:13:50.769593Z"
    },
    "papermill": {
     "duration": 0.054649,
     "end_time": "2022-01-18T12:13:50.769746",
     "exception": false,
     "start_time": "2022-01-18T12:13:50.715097",
     "status": "completed"
    },
    "tags": []
   },
   "outputs": [],
   "source": [
    "#hide\n",
    "# g = g.rename(columns= {'continent':'group','country':'name','cases':'value'})"
   ]
  },
  {
   "cell_type": "code",
   "execution_count": 36,
   "id": "fleet-motorcycle",
   "metadata": {
    "execution": {
     "iopub.execute_input": "2022-01-18T12:13:50.852997Z",
     "iopub.status.busy": "2022-01-18T12:13:50.852362Z",
     "iopub.status.idle": "2022-01-18T12:13:50.855474Z",
     "shell.execute_reply": "2022-01-18T12:13:50.854737Z"
    },
    "papermill": {
     "duration": 0.0473,
     "end_time": "2022-01-18T12:13:50.855624",
     "exception": false,
     "start_time": "2022-01-18T12:13:50.808324",
     "status": "completed"
    },
    "tags": []
   },
   "outputs": [],
   "source": [
    "#hide\n",
    "# cols = ['name','group','day','value']"
   ]
  },
  {
   "cell_type": "code",
   "execution_count": 37,
   "id": "continued-sleeping",
   "metadata": {
    "execution": {
     "iopub.execute_input": "2022-01-18T12:13:50.942800Z",
     "iopub.status.busy": "2022-01-18T12:13:50.942157Z",
     "iopub.status.idle": "2022-01-18T12:13:50.945132Z",
     "shell.execute_reply": "2022-01-18T12:13:50.944541Z"
    },
    "papermill": {
     "duration": 0.047689,
     "end_time": "2022-01-18T12:13:50.945347",
     "exception": false,
     "start_time": "2022-01-18T12:13:50.897658",
     "status": "completed"
    },
    "tags": []
   },
   "outputs": [],
   "source": [
    "#hide\n",
    "# g.rename(columns= {'date':'day'},inplace = True)"
   ]
  },
  {
   "cell_type": "code",
   "execution_count": 38,
   "id": "major-fight",
   "metadata": {
    "execution": {
     "iopub.execute_input": "2022-01-18T12:13:51.029627Z",
     "iopub.status.busy": "2022-01-18T12:13:51.028917Z",
     "iopub.status.idle": "2022-01-18T12:13:51.033592Z",
     "shell.execute_reply": "2022-01-18T12:13:51.033026Z"
    },
    "papermill": {
     "duration": 0.048196,
     "end_time": "2022-01-18T12:13:51.033741",
     "exception": false,
     "start_time": "2022-01-18T12:13:50.985545",
     "status": "completed"
    },
    "tags": []
   },
   "outputs": [],
   "source": [
    "#hide\n",
    "# g = g[cols]"
   ]
  },
  {
   "cell_type": "code",
   "execution_count": 39,
   "id": "structured-mobile",
   "metadata": {
    "execution": {
     "iopub.execute_input": "2022-01-18T12:13:51.116990Z",
     "iopub.status.busy": "2022-01-18T12:13:51.116262Z",
     "iopub.status.idle": "2022-01-18T12:13:51.119212Z",
     "shell.execute_reply": "2022-01-18T12:13:51.118527Z"
    },
    "papermill": {
     "duration": 0.046073,
     "end_time": "2022-01-18T12:13:51.119388",
     "exception": false,
     "start_time": "2022-01-18T12:13:51.073315",
     "status": "completed"
    },
    "tags": []
   },
   "outputs": [],
   "source": [
    "# #hide\n",
    "# g = g[g.group.notna()]"
   ]
  },
  {
   "cell_type": "code",
   "execution_count": 40,
   "id": "determined-closing",
   "metadata": {
    "execution": {
     "iopub.execute_input": "2022-01-18T12:13:51.205572Z",
     "iopub.status.busy": "2022-01-18T12:13:51.204789Z",
     "iopub.status.idle": "2022-01-18T12:13:51.206911Z",
     "shell.execute_reply": "2022-01-18T12:13:51.207451Z"
    },
    "papermill": {
     "duration": 0.047755,
     "end_time": "2022-01-18T12:13:51.207636",
     "exception": false,
     "start_time": "2022-01-18T12:13:51.159881",
     "status": "completed"
    },
    "tags": []
   },
   "outputs": [],
   "source": [
    "# #hide\n",
    "# colors = dict(zip(\n",
    "#     [\"Oceania\", \"Europe\", \"Asia\", \"South America\", \"Middle East\", \"North America\", \"Africa\"],\n",
    "#     [\"#adb0ff\", \"#ffb3ff\", \"#90d595\", \"#e48381\", \"#aafbff\", \"#f7bb5f\", \"#eafb50\"]\n",
    "# ))\n",
    "# group_lk = g.set_index('name')['group'].to_dict()"
   ]
  },
  {
   "cell_type": "code",
   "execution_count": null,
   "id": "gross-drinking",
   "metadata": {
    "papermill": {
     "duration": 0.040402,
     "end_time": "2022-01-18T12:13:51.289773",
     "exception": false,
     "start_time": "2022-01-18T12:13:51.249371",
     "status": "completed"
    },
    "tags": []
   },
   "outputs": [],
   "source": []
  },
  {
   "cell_type": "code",
   "execution_count": 41,
   "id": "subject-macintosh",
   "metadata": {
    "execution": {
     "iopub.execute_input": "2022-01-18T12:13:51.374295Z",
     "iopub.status.busy": "2022-01-18T12:13:51.373480Z",
     "iopub.status.idle": "2022-01-18T12:13:51.375623Z",
     "shell.execute_reply": "2022-01-18T12:13:51.376126Z"
    },
    "papermill": {
     "duration": 0.047093,
     "end_time": "2022-01-18T12:13:51.376279",
     "exception": false,
     "start_time": "2022-01-18T12:13:51.329186",
     "status": "completed"
    },
    "tags": []
   },
   "outputs": [],
   "source": [
    "# #hide\n",
    "# fig, ax = plt.subplots(figsize=(15, 8))\n",
    "\n",
    "# def draw_barchart(current_day):\n",
    "#     dff = g[g['day'].eq(current_day)].sort_values(by='value', ascending=True).tail(10)\n",
    "#     ax.clear()\n",
    "#     ax.barh(dff['name'], dff['value'], color=[colors[group_lk[x]] for x in dff['name']])\n",
    "#     dx = dff['value'].max() / 200\n",
    "    \n",
    "#     for i, (value, name) in enumerate(zip(dff['value'], dff['name'])):\n",
    "#         ax.text(value-dx, i,     name,           size=14, weight=600, ha='right', va='bottom')\n",
    "#         ax.text(value-dx, i-.25, group_lk[name], size=10, color='#444444', ha='right', va='baseline')\n",
    "#         ax.text(value+dx, i,     f'{value:,.0f}',  size=14, ha='left',  va='center')\n",
    "#     ax.text(1, 0.4, current_day, transform=ax.transAxes, color='#777777', size=46, ha='right', weight=800)\n",
    "#     ax.text(0, 1.06, 'Population (thousands)', transform=ax.transAxes, size=12, color='#777777')\n",
    "#     ax.xaxis.set_major_formatter(ticker.StrMethodFormatter('{x:,.0f}'))\n",
    "#     ax.xaxis.set_ticks_position('top')\n",
    "#     ax.tick_params(axis='x', colors='#777777', labelsize=12)\n",
    "#     ax.set_yticks([])\n",
    "#     ax.margins(0, 0.01)\n",
    "#     ax.grid(which='major', axis='x', linestyle='-')\n",
    "#     ax.set_axisbelow(True)\n",
    "    \n",
    "#     ax.text(0, 1.15, 'Coronavirus',\n",
    "#             transform=ax.transAxes, size=24, weight=600, ha='left', va='top')\n",
    "# #     ax.text(1, 0, 'by @pratapvardhan; credit @jburnmurdoch', transform=ax.transAxes, color='#777777', ha='right',\n",
    "# #             bbox=dict(facecolor='white', alpha=0.8, edgecolor='white'))\n",
    "#     plt.box(False)"
   ]
  },
  {
   "cell_type": "code",
   "execution_count": 42,
   "id": "sexual-wages",
   "metadata": {
    "execution": {
     "iopub.execute_input": "2022-01-18T12:13:51.459778Z",
     "iopub.status.busy": "2022-01-18T12:13:51.459126Z",
     "iopub.status.idle": "2022-01-18T12:13:51.461294Z",
     "shell.execute_reply": "2022-01-18T12:13:51.461788Z"
    },
    "papermill": {
     "duration": 0.045729,
     "end_time": "2022-01-18T12:13:51.462101",
     "exception": false,
     "start_time": "2022-01-18T12:13:51.416372",
     "status": "completed"
    },
    "tags": []
   },
   "outputs": [],
   "source": [
    "# #hide_input\n",
    "# fig, ax = plt.subplots(figsize=(15, 8))\n",
    "# animator = animation.FuncAnimation(fig, draw_barchart, frames=range(g.day.values.min(), g.day.values.max()))\n",
    "# HTML(animator.to_jshtml())\n",
    "# # or use animator.to_html5_video() or animator.save() "
   ]
  },
  {
   "cell_type": "code",
   "execution_count": null,
   "id": "australian-container",
   "metadata": {
    "papermill": {
     "duration": 0.038618,
     "end_time": "2022-01-18T12:13:51.539310",
     "exception": false,
     "start_time": "2022-01-18T12:13:51.500692",
     "status": "completed"
    },
    "tags": []
   },
   "outputs": [],
   "source": []
  },
  {
   "cell_type": "code",
   "execution_count": null,
   "id": "mediterranean-pontiac",
   "metadata": {
    "papermill": {
     "duration": 0.040607,
     "end_time": "2022-01-18T12:13:51.618833",
     "exception": false,
     "start_time": "2022-01-18T12:13:51.578226",
     "status": "completed"
    },
    "tags": []
   },
   "outputs": [],
   "source": []
  },
  {
   "cell_type": "code",
   "execution_count": null,
   "id": "aging-legislature",
   "metadata": {
    "papermill": {
     "duration": 0.043288,
     "end_time": "2022-01-18T12:13:51.704310",
     "exception": false,
     "start_time": "2022-01-18T12:13:51.661022",
     "status": "completed"
    },
    "tags": []
   },
   "outputs": [],
   "source": []
  }
 ],
 "metadata": {
  "kernelspec": {
   "display_name": "Python 3",
   "language": "python",
   "name": "python3"
  },
  "language_info": {
   "codemirror_mode": {
    "name": "ipython",
    "version": 3
   },
   "file_extension": ".py",
   "mimetype": "text/x-python",
   "name": "python",
   "nbconvert_exporter": "python",
   "pygments_lexer": "ipython3",
   "version": "3.6.15"
  },
  "papermill": {
   "duration": 7.50382,
   "end_time": "2022-01-18T12:13:52.064892",
   "environment_variables": {},
   "exception": null,
   "input_path": "2020-03-21-covid19exp.ipynb",
   "output_path": "2020-03-21-covid19exp.ipynb",
   "parameters": {},
   "start_time": "2022-01-18T12:13:44.561072",
   "version": "2.0.0"
  }
 },
 "nbformat": 4,
 "nbformat_minor": 5
}