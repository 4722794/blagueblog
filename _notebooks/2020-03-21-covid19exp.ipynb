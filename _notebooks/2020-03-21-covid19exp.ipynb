{
 "cells": [
  {
   "cell_type": "markdown",
   "id": "muslim-click",
   "metadata": {
    "papermill": {
     "duration": 0.036662,
     "end_time": "2021-02-05T00:10:52.643255",
     "exception": false,
     "start_time": "2021-02-05T00:10:52.606593",
     "status": "completed"
    },
    "tags": []
   },
   "source": [
    "# COVID-19 Case Race\n",
    "> A race chart to see rising cases around the world\n",
    "\n",
    "- author: Hargun Oberoi\n",
    "- image: images/covid-overview.png\n",
    "- hide: false\n",
    "- badges: false"
   ]
  },
  {
   "cell_type": "code",
   "execution_count": 1,
   "id": "proof-material",
   "metadata": {
    "execution": {
     "iopub.execute_input": "2021-02-05T00:10:52.712218Z",
     "iopub.status.busy": "2021-02-05T00:10:52.711154Z",
     "iopub.status.idle": "2021-02-05T00:10:53.021319Z",
     "shell.execute_reply": "2021-02-05T00:10:53.020815Z"
    },
    "papermill": {
     "duration": 0.350569,
     "end_time": "2021-02-05T00:10:53.021468",
     "exception": false,
     "start_time": "2021-02-05T00:10:52.670899",
     "status": "completed"
    },
    "tags": []
   },
   "outputs": [],
   "source": [
    "#hide\n",
    "import numpy as np\n",
    "import pandas as pd\n",
    "from jinja2 import Template\n",
    "from IPython.display import HTML"
   ]
  },
  {
   "cell_type": "code",
   "execution_count": 2,
   "id": "developed-terminology",
   "metadata": {
    "execution": {
     "iopub.execute_input": "2021-02-05T00:10:53.091047Z",
     "iopub.status.busy": "2021-02-05T00:10:53.090308Z",
     "iopub.status.idle": "2021-02-05T00:10:53.091880Z",
     "shell.execute_reply": "2021-02-05T00:10:53.092343Z"
    },
    "papermill": {
     "duration": 0.038739,
     "end_time": "2021-02-05T00:10:53.092531",
     "exception": false,
     "start_time": "2021-02-05T00:10:53.053792",
     "status": "completed"
    },
    "tags": []
   },
   "outputs": [],
   "source": [
    "#hide\n",
    "\n",
    "# FETCH\n",
    "base_url = 'https://raw.githubusercontent.com/pratapvardhan/notebooks/master/covid19/'\n",
    "paths = {\n",
    "    'mapping': base_url + 'mapping_countries.csv',\n",
    "    'overview': base_url + 'overview.tpl'\n",
    "}"
   ]
  },
  {
   "cell_type": "code",
   "execution_count": 3,
   "id": "dynamic-saver",
   "metadata": {
    "execution": {
     "iopub.execute_input": "2021-02-05T00:10:53.173792Z",
     "iopub.status.busy": "2021-02-05T00:10:53.173199Z",
     "iopub.status.idle": "2021-02-05T00:10:53.176133Z",
     "shell.execute_reply": "2021-02-05T00:10:53.175723Z"
    },
    "papermill": {
     "duration": 0.044981,
     "end_time": "2021-02-05T00:10:53.176238",
     "exception": false,
     "start_time": "2021-02-05T00:10:53.131257",
     "status": "completed"
    },
    "tags": []
   },
   "outputs": [
    {
     "data": {
      "text/plain": [
       "'https://raw.githubusercontent.com/pratapvardhan/notebooks/master/covid19/mapping_countries.csv'"
      ]
     },
     "execution_count": 3,
     "metadata": {},
     "output_type": "execute_result"
    }
   ],
   "source": [
    "#hide\n",
    "paths['mapping']"
   ]
  },
  {
   "cell_type": "code",
   "execution_count": 4,
   "id": "urban-software",
   "metadata": {
    "execution": {
     "iopub.execute_input": "2021-02-05T00:10:53.245157Z",
     "iopub.status.busy": "2021-02-05T00:10:53.244595Z",
     "iopub.status.idle": "2021-02-05T00:10:53.247297Z",
     "shell.execute_reply": "2021-02-05T00:10:53.246747Z"
    },
    "papermill": {
     "duration": 0.03867,
     "end_time": "2021-02-05T00:10:53.247436",
     "exception": false,
     "start_time": "2021-02-05T00:10:53.208766",
     "status": "completed"
    },
    "tags": []
   },
   "outputs": [],
   "source": [
    "#hide\n",
    "def get_mappings(url):\n",
    "    df = pd.read_csv(url)\n",
    "    return {\n",
    "        'df': df,\n",
    "        'replace.country': dict(df.dropna(subset=['Name']).set_index('Country')['Name']),\n",
    "        'map.continent': dict(df.set_index('Name')['Continent'])\n",
    "    }"
   ]
  },
  {
   "cell_type": "code",
   "execution_count": 5,
   "id": "intimate-machinery",
   "metadata": {
    "execution": {
     "iopub.execute_input": "2021-02-05T00:10:53.323357Z",
     "iopub.status.busy": "2021-02-05T00:10:53.322798Z",
     "iopub.status.idle": "2021-02-05T00:10:53.427575Z",
     "shell.execute_reply": "2021-02-05T00:10:53.427071Z"
    },
    "papermill": {
     "duration": 0.143881,
     "end_time": "2021-02-05T00:10:53.427714",
     "exception": false,
     "start_time": "2021-02-05T00:10:53.283833",
     "status": "completed"
    },
    "tags": []
   },
   "outputs": [],
   "source": [
    "#hide\n",
    "mapping = get_mappings(paths['mapping'])"
   ]
  },
  {
   "cell_type": "code",
   "execution_count": 6,
   "id": "certified-tactics",
   "metadata": {
    "execution": {
     "iopub.execute_input": "2021-02-05T00:10:53.498139Z",
     "iopub.status.busy": "2021-02-05T00:10:53.497535Z",
     "iopub.status.idle": "2021-02-05T00:10:53.499968Z",
     "shell.execute_reply": "2021-02-05T00:10:53.499504Z"
    },
    "papermill": {
     "duration": 0.0407,
     "end_time": "2021-02-05T00:10:53.500075",
     "exception": false,
     "start_time": "2021-02-05T00:10:53.459375",
     "status": "completed"
    },
    "tags": []
   },
   "outputs": [],
   "source": [
    "#hide\n",
    "def get_template(path):\n",
    "    from urllib.parse import urlparse\n",
    "    if bool(urlparse(path).netloc):\n",
    "        from urllib.request import urlopen\n",
    "        return urlopen(path).read().decode('utf8')\n",
    "    return open(path).read()"
   ]
  },
  {
   "cell_type": "code",
   "execution_count": 7,
   "id": "realistic-blast",
   "metadata": {
    "execution": {
     "iopub.execute_input": "2021-02-05T00:10:53.569725Z",
     "iopub.status.busy": "2021-02-05T00:10:53.569234Z",
     "iopub.status.idle": "2021-02-05T00:10:53.571297Z",
     "shell.execute_reply": "2021-02-05T00:10:53.571724Z"
    },
    "papermill": {
     "duration": 0.040663,
     "end_time": "2021-02-05T00:10:53.571848",
     "exception": false,
     "start_time": "2021-02-05T00:10:53.531185",
     "status": "completed"
    },
    "tags": []
   },
   "outputs": [],
   "source": [
    "#hide\n",
    "def get_frame(name):\n",
    "    url = (\n",
    "        'https://raw.githubusercontent.com/CSSEGISandData/COVID-19/master/csse_covid_19_data/'\n",
    "        f'csse_covid_19_time_series/time_series_covid19_{name}_global.csv')\n",
    "    df = pd.read_csv(url)\n",
    "    # rename countries\n",
    "    df['Country/Region'] = df['Country/Region'].replace(mapping['replace.country'])\n",
    "    return df"
   ]
  },
  {
   "cell_type": "code",
   "execution_count": 8,
   "id": "affiliated-characterization",
   "metadata": {
    "execution": {
     "iopub.execute_input": "2021-02-05T00:10:53.639587Z",
     "iopub.status.busy": "2021-02-05T00:10:53.638984Z",
     "iopub.status.idle": "2021-02-05T00:10:53.641047Z",
     "shell.execute_reply": "2021-02-05T00:10:53.641526Z"
    },
    "papermill": {
     "duration": 0.039655,
     "end_time": "2021-02-05T00:10:53.641673",
     "exception": false,
     "start_time": "2021-02-05T00:10:53.602018",
     "status": "completed"
    },
    "tags": []
   },
   "outputs": [],
   "source": [
    "#hide\n",
    "def get_dates(df):\n",
    "    dt_cols = df.columns[~df.columns.isin(['Province/State', 'Country/Region', 'Lat', 'Long'])]\n",
    "    LAST_DATE_I = -1\n",
    "    # sometimes last column may be empty, then go backwards\n",
    "    for i in range(-1, -len(dt_cols), -1):\n",
    "        if not df[dt_cols[i]].fillna(0).eq(0).all():\n",
    "            LAST_DATE_I = i\n",
    "            break\n",
    "    return LAST_DATE_I, dt_cols"
   ]
  },
  {
   "cell_type": "code",
   "execution_count": 9,
   "id": "recent-optimization",
   "metadata": {
    "execution": {
     "iopub.execute_input": "2021-02-05T00:10:53.710451Z",
     "iopub.status.busy": "2021-02-05T00:10:53.709223Z",
     "iopub.status.idle": "2021-02-05T00:10:53.927620Z",
     "shell.execute_reply": "2021-02-05T00:10:53.927085Z"
    },
    "papermill": {
     "duration": 0.254924,
     "end_time": "2021-02-05T00:10:53.927749",
     "exception": false,
     "start_time": "2021-02-05T00:10:53.672825",
     "status": "completed"
    },
    "tags": []
   },
   "outputs": [],
   "source": [
    "#hide\n",
    "COL_REGION = 'Country/Region'\n",
    "# Confirmed, Recovered, Deaths\n",
    "df = get_frame('confirmed')\n",
    "# dft_: timeseries, dfc_: today country agg\n",
    "dft_cases = df\n",
    "dft_deaths = get_frame('deaths')\n",
    "dft_recovered = get_frame('recovered')\n",
    "LAST_DATE_I, dt_cols = get_dates(df)"
   ]
  },
  {
   "cell_type": "code",
   "execution_count": 10,
   "id": "absolute-copper",
   "metadata": {
    "execution": {
     "iopub.execute_input": "2021-02-05T00:10:53.997138Z",
     "iopub.status.busy": "2021-02-05T00:10:53.996530Z",
     "iopub.status.idle": "2021-02-05T00:10:54.001007Z",
     "shell.execute_reply": "2021-02-05T00:10:53.999913Z"
    },
    "papermill": {
     "duration": 0.040802,
     "end_time": "2021-02-05T00:10:54.001134",
     "exception": false,
     "start_time": "2021-02-05T00:10:53.960332",
     "status": "completed"
    },
    "tags": []
   },
   "outputs": [],
   "source": [
    "#hide\n",
    "LAST_DATE_I, dt_cols = get_dates(df)\n",
    "dt_today =dt_cols[LAST_DATE_I]\n",
    "# dt_5day = dt_cols[LAST_DATE_I - 5]\n",
    "dt_yday = dt_cols[LAST_DATE_I - 1]"
   ]
  },
  {
   "cell_type": "code",
   "execution_count": 11,
   "id": "restricted-sheriff",
   "metadata": {
    "execution": {
     "iopub.execute_input": "2021-02-05T00:10:54.069459Z",
     "iopub.status.busy": "2021-02-05T00:10:54.068886Z",
     "iopub.status.idle": "2021-02-05T00:10:54.074999Z",
     "shell.execute_reply": "2021-02-05T00:10:54.075439Z"
    },
    "papermill": {
     "duration": 0.045042,
     "end_time": "2021-02-05T00:10:54.075591",
     "exception": false,
     "start_time": "2021-02-05T00:10:54.030549",
     "status": "completed"
    },
    "tags": []
   },
   "outputs": [],
   "source": [
    "#hide\n",
    "dfc_cases = dft_cases.groupby(COL_REGION)[dt_today].sum()\n",
    "dfc_deaths = dft_deaths.groupby(COL_REGION)[dt_today].sum()\n",
    "# dfp_cases = dft_cases.groupby(COL_REGION)[dt_5day].sum()\n",
    "# dfp_deaths = dft_deaths.groupby(COL_REGION)[dt_5day].sum()\n",
    "dfp_cases = dft_cases.groupby(COL_REGION)[dt_yday].sum()\n",
    "dfp_deaths = dft_deaths.groupby(COL_REGION)[dt_yday].sum()"
   ]
  },
  {
   "cell_type": "code",
   "execution_count": 12,
   "id": "deluxe-hepatitis",
   "metadata": {
    "execution": {
     "iopub.execute_input": "2021-02-05T00:10:54.143213Z",
     "iopub.status.busy": "2021-02-05T00:10:54.142716Z",
     "iopub.status.idle": "2021-02-05T00:10:54.146624Z",
     "shell.execute_reply": "2021-02-05T00:10:54.146998Z"
    },
    "papermill": {
     "duration": 0.042496,
     "end_time": "2021-02-05T00:10:54.147132",
     "exception": false,
     "start_time": "2021-02-05T00:10:54.104636",
     "status": "completed"
    },
    "tags": []
   },
   "outputs": [],
   "source": [
    "#hide\n",
    "df_table = (pd.DataFrame(dict(Cases = dfc_cases, Deaths = dfc_deaths, PCases = dfp_cases, PDeaths = dfp_deaths))\n",
    "            .sort_values(by = ['Cases','Deaths'], ascending = [False, False])\n",
    "            .reset_index())"
   ]
  },
  {
   "cell_type": "code",
   "execution_count": 13,
   "id": "educational-chancellor",
   "metadata": {
    "execution": {
     "iopub.execute_input": "2021-02-05T00:10:54.229705Z",
     "iopub.status.busy": "2021-02-05T00:10:54.229107Z",
     "iopub.status.idle": "2021-02-05T00:10:54.233960Z",
     "shell.execute_reply": "2021-02-05T00:10:54.234433Z"
    },
    "papermill": {
     "duration": 0.057156,
     "end_time": "2021-02-05T00:10:54.234592",
     "exception": false,
     "start_time": "2021-02-05T00:10:54.177436",
     "status": "completed"
    },
    "tags": []
   },
   "outputs": [
    {
     "data": {
      "text/html": [
       "<div>\n",
       "<style scoped>\n",
       "    .dataframe tbody tr th:only-of-type {\n",
       "        vertical-align: middle;\n",
       "    }\n",
       "\n",
       "    .dataframe tbody tr th {\n",
       "        vertical-align: top;\n",
       "    }\n",
       "\n",
       "    .dataframe thead th {\n",
       "        text-align: right;\n",
       "    }\n",
       "</style>\n",
       "<table border=\"1\" class=\"dataframe\">\n",
       "  <thead>\n",
       "    <tr style=\"text-align: right;\">\n",
       "      <th></th>\n",
       "      <th>Country/Region</th>\n",
       "      <th>Cases</th>\n",
       "      <th>Deaths</th>\n",
       "      <th>PCases</th>\n",
       "      <th>PDeaths</th>\n",
       "      <th>Cases (+)</th>\n",
       "      <th>Deaths (+)</th>\n",
       "      <th>Fatality Rate</th>\n",
       "      <th>Continent</th>\n",
       "    </tr>\n",
       "  </thead>\n",
       "  <tbody>\n",
       "    <tr>\n",
       "      <th>0</th>\n",
       "      <td>US</td>\n",
       "      <td>26557026</td>\n",
       "      <td>450797</td>\n",
       "      <td>26435557</td>\n",
       "      <td>446885</td>\n",
       "      <td>121469</td>\n",
       "      <td>3912</td>\n",
       "      <td>1.70</td>\n",
       "      <td>North America</td>\n",
       "    </tr>\n",
       "    <tr>\n",
       "      <th>1</th>\n",
       "      <td>India</td>\n",
       "      <td>10790183</td>\n",
       "      <td>154703</td>\n",
       "      <td>10777284</td>\n",
       "      <td>154596</td>\n",
       "      <td>12899</td>\n",
       "      <td>107</td>\n",
       "      <td>1.43</td>\n",
       "      <td>Asia</td>\n",
       "    </tr>\n",
       "    <tr>\n",
       "      <th>2</th>\n",
       "      <td>Brazil</td>\n",
       "      <td>9339420</td>\n",
       "      <td>227563</td>\n",
       "      <td>9283418</td>\n",
       "      <td>226309</td>\n",
       "      <td>56002</td>\n",
       "      <td>1254</td>\n",
       "      <td>2.44</td>\n",
       "      <td>South America</td>\n",
       "    </tr>\n",
       "    <tr>\n",
       "      <th>3</th>\n",
       "      <td>United Kingdom</td>\n",
       "      <td>3882972</td>\n",
       "      <td>109547</td>\n",
       "      <td>3863757</td>\n",
       "      <td>108225</td>\n",
       "      <td>19215</td>\n",
       "      <td>1322</td>\n",
       "      <td>2.82</td>\n",
       "      <td>Europe</td>\n",
       "    </tr>\n",
       "    <tr>\n",
       "      <th>4</th>\n",
       "      <td>Russia</td>\n",
       "      <td>3858367</td>\n",
       "      <td>73497</td>\n",
       "      <td>3842145</td>\n",
       "      <td>72982</td>\n",
       "      <td>16222</td>\n",
       "      <td>515</td>\n",
       "      <td>1.90</td>\n",
       "      <td>Europe</td>\n",
       "    </tr>\n",
       "  </tbody>\n",
       "</table>\n",
       "</div>"
      ],
      "text/plain": [
       "   Country/Region     Cases  Deaths    PCases  PDeaths  Cases (+)  Deaths (+)  \\\n",
       "0              US  26557026  450797  26435557   446885     121469        3912   \n",
       "1           India  10790183  154703  10777284   154596      12899         107   \n",
       "2          Brazil   9339420  227563   9283418   226309      56002        1254   \n",
       "3  United Kingdom   3882972  109547   3863757   108225      19215        1322   \n",
       "4          Russia   3858367   73497   3842145    72982      16222         515   \n",
       "\n",
       "   Fatality Rate      Continent  \n",
       "0           1.70  North America  \n",
       "1           1.43           Asia  \n",
       "2           2.44  South America  \n",
       "3           2.82         Europe  \n",
       "4           1.90         Europe  "
      ]
     },
     "execution_count": 13,
     "metadata": {},
     "output_type": "execute_result"
    }
   ],
   "source": [
    "#hide\n",
    "for c in 'Cases, Deaths'.split(', '):\n",
    "    df_table[f'{c} (+)'] = (df_table[c] - df_table[f'P{c}']).clip(0)\n",
    "    #Clip ça veut dire, les chiffres negatif sont interdit\n",
    "df_table['Fatality Rate'] = (100* df_table['Deaths']/ df_table['Cases']).round(2)\n",
    "df_table['Continent'] = df_table['Country/Region'].map(mapping['map.continent'])\n",
    "df_table.head(5)"
   ]
  },
  {
   "cell_type": "code",
   "execution_count": 14,
   "id": "aboriginal-bulgaria",
   "metadata": {
    "execution": {
     "iopub.execute_input": "2021-02-05T00:10:54.306414Z",
     "iopub.status.busy": "2021-02-05T00:10:54.305778Z",
     "iopub.status.idle": "2021-02-05T00:10:54.308668Z",
     "shell.execute_reply": "2021-02-05T00:10:54.308020Z"
    },
    "papermill": {
     "duration": 0.041088,
     "end_time": "2021-02-05T00:10:54.308814",
     "exception": false,
     "start_time": "2021-02-05T00:10:54.267726",
     "status": "completed"
    },
    "tags": []
   },
   "outputs": [],
   "source": [
    "#hide\n",
    "#delete problematic countries from table\n",
    "df_table = df_table[~df_table['Country/Region'].isin(['Cape Verde', 'Cruise Ship', 'Kosovo'])]"
   ]
  },
  {
   "cell_type": "code",
   "execution_count": 15,
   "id": "fantastic-effect",
   "metadata": {
    "execution": {
     "iopub.execute_input": "2021-02-05T00:10:54.380710Z",
     "iopub.status.busy": "2021-02-05T00:10:54.380139Z",
     "iopub.status.idle": "2021-02-05T00:10:54.399069Z",
     "shell.execute_reply": "2021-02-05T00:10:54.399537Z"
    },
    "papermill": {
     "duration": 0.05886,
     "end_time": "2021-02-05T00:10:54.399659",
     "exception": false,
     "start_time": "2021-02-05T00:10:54.340799",
     "status": "completed"
    },
    "tags": []
   },
   "outputs": [
    {
     "data": {
      "text/html": [
       "<div>\n",
       "<style scoped>\n",
       "    .dataframe tbody tr th:only-of-type {\n",
       "        vertical-align: middle;\n",
       "    }\n",
       "\n",
       "    .dataframe tbody tr th {\n",
       "        vertical-align: top;\n",
       "    }\n",
       "\n",
       "    .dataframe thead th {\n",
       "        text-align: right;\n",
       "    }\n",
       "</style>\n",
       "<table border=\"1\" class=\"dataframe\">\n",
       "  <thead>\n",
       "    <tr style=\"text-align: right;\">\n",
       "      <th></th>\n",
       "      <th>Country/Region</th>\n",
       "      <th>Cases</th>\n",
       "      <th>Deaths</th>\n",
       "      <th>PCases</th>\n",
       "      <th>PDeaths</th>\n",
       "      <th>Cases (+)</th>\n",
       "      <th>Deaths (+)</th>\n",
       "      <th>Fatality Rate</th>\n",
       "      <th>Continent</th>\n",
       "    </tr>\n",
       "  </thead>\n",
       "  <tbody>\n",
       "    <tr>\n",
       "      <th>0</th>\n",
       "      <td>US</td>\n",
       "      <td>26557026</td>\n",
       "      <td>450797</td>\n",
       "      <td>26435557</td>\n",
       "      <td>446885</td>\n",
       "      <td>121469</td>\n",
       "      <td>3912</td>\n",
       "      <td>1.7</td>\n",
       "      <td>North America</td>\n",
       "    </tr>\n",
       "    <tr>\n",
       "      <th>1</th>\n",
       "      <td>India</td>\n",
       "      <td>10790183</td>\n",
       "      <td>154703</td>\n",
       "      <td>10777284</td>\n",
       "      <td>154596</td>\n",
       "      <td>12899</td>\n",
       "      <td>107</td>\n",
       "      <td>1.4</td>\n",
       "      <td>Asia</td>\n",
       "    </tr>\n",
       "    <tr>\n",
       "      <th>2</th>\n",
       "      <td>Brazil</td>\n",
       "      <td>9339420</td>\n",
       "      <td>227563</td>\n",
       "      <td>9283418</td>\n",
       "      <td>226309</td>\n",
       "      <td>56002</td>\n",
       "      <td>1254</td>\n",
       "      <td>2.4</td>\n",
       "      <td>South America</td>\n",
       "    </tr>\n",
       "    <tr>\n",
       "      <th>3</th>\n",
       "      <td>United Kingdom</td>\n",
       "      <td>3882972</td>\n",
       "      <td>109547</td>\n",
       "      <td>3863757</td>\n",
       "      <td>108225</td>\n",
       "      <td>19215</td>\n",
       "      <td>1322</td>\n",
       "      <td>2.8</td>\n",
       "      <td>Europe</td>\n",
       "    </tr>\n",
       "    <tr>\n",
       "      <th>4</th>\n",
       "      <td>Russia</td>\n",
       "      <td>3858367</td>\n",
       "      <td>73497</td>\n",
       "      <td>3842145</td>\n",
       "      <td>72982</td>\n",
       "      <td>16222</td>\n",
       "      <td>515</td>\n",
       "      <td>1.9</td>\n",
       "      <td>Europe</td>\n",
       "    </tr>\n",
       "  </tbody>\n",
       "</table>\n",
       "</div>"
      ],
      "text/plain": [
       "   Country/Region     Cases  Deaths    PCases  PDeaths  Cases (+)  Deaths (+)  \\\n",
       "0              US  26557026  450797  26435557   446885     121469        3912   \n",
       "1           India  10790183  154703  10777284   154596      12899         107   \n",
       "2          Brazil   9339420  227563   9283418   226309      56002        1254   \n",
       "3  United Kingdom   3882972  109547   3863757   108225      19215        1322   \n",
       "4          Russia   3858367   73497   3842145    72982      16222         515   \n",
       "\n",
       "   Fatality Rate      Continent  \n",
       "0            1.7  North America  \n",
       "1            1.4           Asia  \n",
       "2            2.4  South America  \n",
       "3            2.8         Europe  \n",
       "4            1.9         Europe  "
      ]
     },
     "execution_count": 15,
     "metadata": {},
     "output_type": "execute_result"
    }
   ],
   "source": [
    "#hide\n",
    "df_table = (pd.DataFrame(dict(Cases=dfc_cases, Deaths=dfc_deaths, PCases=dfp_cases, PDeaths=dfp_deaths))\n",
    "             .sort_values(by=['Cases', 'Deaths'], ascending=[False, False])\n",
    "             .reset_index())\n",
    "df_table.rename(columns={'index': 'Country/Region'}, inplace=True)\n",
    "for c in 'Cases, Deaths'.split(', '):\n",
    "    df_table[f'{c} (+)'] = (df_table[c] - df_table[f'P{c}']).clip(0)  # DATA BUG\n",
    "df_table['Fatality Rate'] = (100 * df_table['Deaths'] / df_table['Cases']).round(1)\n",
    "df_table['Continent'] = df_table['Country/Region'].map(mapping['map.continent'])\n",
    "df_table.head(5)"
   ]
  },
  {
   "cell_type": "code",
   "execution_count": 16,
   "id": "fewer-occasion",
   "metadata": {
    "execution": {
     "iopub.execute_input": "2021-02-05T00:10:54.481639Z",
     "iopub.status.busy": "2021-02-05T00:10:54.481004Z",
     "iopub.status.idle": "2021-02-05T00:10:54.483240Z",
     "shell.execute_reply": "2021-02-05T00:10:54.484500Z"
    },
    "papermill": {
     "duration": 0.050461,
     "end_time": "2021-02-05T00:10:54.485143",
     "exception": false,
     "start_time": "2021-02-05T00:10:54.434682",
     "status": "completed"
    },
    "tags": []
   },
   "outputs": [],
   "source": [
    "#hide\n",
    "#delete problematic countries from table\n",
    "df_table = df_table[~df_table['Country/Region'].isin(['Cape Verde', 'Cruise Ship', 'Kosovo'])]"
   ]
  },
  {
   "cell_type": "code",
   "execution_count": 17,
   "id": "related-center",
   "metadata": {
    "execution": {
     "iopub.execute_input": "2021-02-05T00:10:54.584514Z",
     "iopub.status.busy": "2021-02-05T00:10:54.581853Z",
     "iopub.status.idle": "2021-02-05T00:10:54.586817Z",
     "shell.execute_reply": "2021-02-05T00:10:54.586308Z"
    },
    "papermill": {
     "duration": 0.067739,
     "end_time": "2021-02-05T00:10:54.586947",
     "exception": false,
     "start_time": "2021-02-05T00:10:54.519208",
     "status": "completed"
    },
    "tags": []
   },
   "outputs": [],
   "source": [
    "#hide\n",
    "metrics = [df_table.columns[index] for index in [1,2,5,6]]\n",
    "# s_china = df_table[df_table['Country/Region'].eq('China')][metrics].sum().add_prefix('China ')\n",
    "s_us = df_table[df_table['Country/Region'].eq('US')][metrics].sum().add_prefix('US ')\n",
    "s_eu = df_table[df_table['Continent'].eq('Europe')][metrics].sum().add_prefix('EU ')\n",
    "s_ind = df_table[df_table['Country/Region'].eq('India')][metrics].sum().add_prefix('India ')\n",
    "summary = {'updated': pd.to_datetime(dt_today), 'since': pd.to_datetime(dt_yday)}\n",
    "summary = {'updated': pd.to_datetime(dt_today), 'since': pd.to_datetime(dt_yday)}\n",
    "summary = {**summary, **df_table[metrics].sum(), **s_ind, **s_us, **s_eu}"
   ]
  },
  {
   "cell_type": "code",
   "execution_count": 18,
   "id": "engaging-syndrome",
   "metadata": {
    "execution": {
     "iopub.execute_input": "2021-02-05T00:10:54.667740Z",
     "iopub.status.busy": "2021-02-05T00:10:54.667044Z",
     "iopub.status.idle": "2021-02-05T00:10:54.679211Z",
     "shell.execute_reply": "2021-02-05T00:10:54.678720Z"
    },
    "papermill": {
     "duration": 0.053325,
     "end_time": "2021-02-05T00:10:54.679352",
     "exception": false,
     "start_time": "2021-02-05T00:10:54.626027",
     "status": "completed"
    },
    "tags": []
   },
   "outputs": [],
   "source": [
    "#hide\n",
    "dft_ct_new_cases = dft_cases.groupby(COL_REGION)[dt_cols].sum().diff(axis=1).fillna(0).astype(int)"
   ]
  },
  {
   "cell_type": "code",
   "execution_count": 19,
   "id": "neutral-assignment",
   "metadata": {
    "execution": {
     "iopub.execute_input": "2021-02-05T00:10:54.753660Z",
     "iopub.status.busy": "2021-02-05T00:10:54.753102Z",
     "iopub.status.idle": "2021-02-05T00:10:54.754953Z",
     "shell.execute_reply": "2021-02-05T00:10:54.755403Z"
    },
    "papermill": {
     "duration": 0.038464,
     "end_time": "2021-02-05T00:10:54.755544",
     "exception": false,
     "start_time": "2021-02-05T00:10:54.717080",
     "status": "completed"
    },
    "tags": []
   },
   "outputs": [],
   "source": [
    "#hide\n",
    "everydaycases = dft_ct_new_cases.cumsum(axis=1)"
   ]
  },
  {
   "cell_type": "code",
   "execution_count": 20,
   "id": "parliamentary-calgary",
   "metadata": {
    "execution": {
     "iopub.execute_input": "2021-02-05T00:10:54.822198Z",
     "iopub.status.busy": "2021-02-05T00:10:54.821703Z",
     "iopub.status.idle": "2021-02-05T00:10:55.544979Z",
     "shell.execute_reply": "2021-02-05T00:10:55.545585Z"
    },
    "papermill": {
     "duration": 0.760271,
     "end_time": "2021-02-05T00:10:55.545784",
     "exception": false,
     "start_time": "2021-02-05T00:10:54.785513",
     "status": "completed"
    },
    "tags": []
   },
   "outputs": [],
   "source": [
    "#hide\n",
    "import pandas as pd\n",
    "import matplotlib.pyplot as plt\n",
    "import matplotlib.ticker as ticker\n",
    "import matplotlib.animation as animation\n",
    "from IPython.display import HTML"
   ]
  },
  {
   "cell_type": "code",
   "execution_count": 21,
   "id": "lasting-extraction",
   "metadata": {
    "execution": {
     "iopub.execute_input": "2021-02-05T00:10:55.630630Z",
     "iopub.status.busy": "2021-02-05T00:10:55.630027Z",
     "iopub.status.idle": "2021-02-05T00:10:55.636018Z",
     "shell.execute_reply": "2021-02-05T00:10:55.636736Z"
    },
    "papermill": {
     "duration": 0.057124,
     "end_time": "2021-02-05T00:10:55.636902",
     "exception": false,
     "start_time": "2021-02-05T00:10:55.579778",
     "status": "completed"
    },
    "tags": []
   },
   "outputs": [],
   "source": [
    "#hide\n",
    "t = everydaycases.stack()"
   ]
  },
  {
   "cell_type": "code",
   "execution_count": 22,
   "id": "premier-sleeve",
   "metadata": {
    "execution": {
     "iopub.execute_input": "2021-02-05T00:10:55.711174Z",
     "iopub.status.busy": "2021-02-05T00:10:55.710537Z",
     "iopub.status.idle": "2021-02-05T00:10:55.720984Z",
     "shell.execute_reply": "2021-02-05T00:10:55.720494Z"
    },
    "papermill": {
     "duration": 0.049807,
     "end_time": "2021-02-05T00:10:55.721107",
     "exception": false,
     "start_time": "2021-02-05T00:10:55.671300",
     "status": "completed"
    },
    "tags": []
   },
   "outputs": [],
   "source": [
    "#hide\n",
    "g = t.reset_index(['Country/Region'])"
   ]
  },
  {
   "cell_type": "code",
   "execution_count": 23,
   "id": "distributed-pittsburgh",
   "metadata": {
    "execution": {
     "iopub.execute_input": "2021-02-05T00:10:55.790916Z",
     "iopub.status.busy": "2021-02-05T00:10:55.790333Z",
     "iopub.status.idle": "2021-02-05T00:10:55.792830Z",
     "shell.execute_reply": "2021-02-05T00:10:55.793416Z"
    },
    "papermill": {
     "duration": 0.04011,
     "end_time": "2021-02-05T00:10:55.793561",
     "exception": false,
     "start_time": "2021-02-05T00:10:55.753451",
     "status": "completed"
    },
    "tags": []
   },
   "outputs": [],
   "source": [
    "#hide\n",
    "g.index.name = 'date'"
   ]
  },
  {
   "cell_type": "code",
   "execution_count": 24,
   "id": "naked-donor",
   "metadata": {
    "execution": {
     "iopub.execute_input": "2021-02-05T00:10:55.861768Z",
     "iopub.status.busy": "2021-02-05T00:10:55.860949Z",
     "iopub.status.idle": "2021-02-05T00:10:55.862653Z",
     "shell.execute_reply": "2021-02-05T00:10:55.863300Z"
    },
    "papermill": {
     "duration": 0.036925,
     "end_time": "2021-02-05T00:10:55.863490",
     "exception": false,
     "start_time": "2021-02-05T00:10:55.826565",
     "status": "completed"
    },
    "tags": []
   },
   "outputs": [],
   "source": [
    "# #hide\n",
    "# g = g.reset_index(['date'])"
   ]
  },
  {
   "cell_type": "code",
   "execution_count": 25,
   "id": "incomplete-mustang",
   "metadata": {
    "execution": {
     "iopub.execute_input": "2021-02-05T00:10:55.929171Z",
     "iopub.status.busy": "2021-02-05T00:10:55.928684Z",
     "iopub.status.idle": "2021-02-05T00:10:55.931290Z",
     "shell.execute_reply": "2021-02-05T00:10:55.931850Z"
    },
    "papermill": {
     "duration": 0.037015,
     "end_time": "2021-02-05T00:10:55.931989",
     "exception": false,
     "start_time": "2021-02-05T00:10:55.894974",
     "status": "completed"
    },
    "tags": []
   },
   "outputs": [],
   "source": [
    "#hide\n",
    "# g.head()"
   ]
  },
  {
   "cell_type": "code",
   "execution_count": 26,
   "id": "specific-kruger",
   "metadata": {
    "execution": {
     "iopub.execute_input": "2021-02-05T00:10:55.998492Z",
     "iopub.status.busy": "2021-02-05T00:10:55.997892Z",
     "iopub.status.idle": "2021-02-05T00:10:56.000236Z",
     "shell.execute_reply": "2021-02-05T00:10:55.999760Z"
    },
    "papermill": {
     "duration": 0.037426,
     "end_time": "2021-02-05T00:10:56.000367",
     "exception": false,
     "start_time": "2021-02-05T00:10:55.962941",
     "status": "completed"
    },
    "tags": []
   },
   "outputs": [],
   "source": [
    "#hide\n",
    "# g.columns = ['date','country','cases']"
   ]
  },
  {
   "cell_type": "code",
   "execution_count": 27,
   "id": "tender-conversion",
   "metadata": {
    "execution": {
     "iopub.execute_input": "2021-02-05T00:10:56.067745Z",
     "iopub.status.busy": "2021-02-05T00:10:56.067191Z",
     "iopub.status.idle": "2021-02-05T00:10:56.069331Z",
     "shell.execute_reply": "2021-02-05T00:10:56.069801Z"
    },
    "papermill": {
     "duration": 0.038198,
     "end_time": "2021-02-05T00:10:56.069942",
     "exception": false,
     "start_time": "2021-02-05T00:10:56.031744",
     "status": "completed"
    },
    "tags": []
   },
   "outputs": [],
   "source": [
    "#hide\n",
    "# g['continent'] = g.country"
   ]
  },
  {
   "cell_type": "code",
   "execution_count": 28,
   "id": "substantial-wilderness",
   "metadata": {
    "execution": {
     "iopub.execute_input": "2021-02-05T00:10:56.136298Z",
     "iopub.status.busy": "2021-02-05T00:10:56.135452Z",
     "iopub.status.idle": "2021-02-05T00:10:56.137162Z",
     "shell.execute_reply": "2021-02-05T00:10:56.138214Z"
    },
    "papermill": {
     "duration": 0.035337,
     "end_time": "2021-02-05T00:10:56.138498",
     "exception": false,
     "start_time": "2021-02-05T00:10:56.103161",
     "status": "completed"
    },
    "tags": []
   },
   "outputs": [],
   "source": [
    "#hide\n",
    "# cols = list(g.columns.values)"
   ]
  },
  {
   "cell_type": "code",
   "execution_count": 29,
   "id": "solved-farming",
   "metadata": {
    "execution": {
     "iopub.execute_input": "2021-02-05T00:10:56.204737Z",
     "iopub.status.busy": "2021-02-05T00:10:56.204182Z",
     "iopub.status.idle": "2021-02-05T00:10:56.206601Z",
     "shell.execute_reply": "2021-02-05T00:10:56.207029Z"
    },
    "papermill": {
     "duration": 0.035532,
     "end_time": "2021-02-05T00:10:56.207139",
     "exception": false,
     "start_time": "2021-02-05T00:10:56.171607",
     "status": "completed"
    },
    "tags": []
   },
   "outputs": [],
   "source": [
    "#hide\n",
    "# cols.insert(0, cols.pop())"
   ]
  },
  {
   "cell_type": "code",
   "execution_count": 30,
   "id": "executed-adoption",
   "metadata": {
    "execution": {
     "iopub.execute_input": "2021-02-05T00:10:56.275155Z",
     "iopub.status.busy": "2021-02-05T00:10:56.274570Z",
     "iopub.status.idle": "2021-02-05T00:10:56.277026Z",
     "shell.execute_reply": "2021-02-05T00:10:56.277592Z"
    },
    "papermill": {
     "duration": 0.040277,
     "end_time": "2021-02-05T00:10:56.277740",
     "exception": false,
     "start_time": "2021-02-05T00:10:56.237463",
     "status": "completed"
    },
    "tags": []
   },
   "outputs": [],
   "source": [
    "#hide\n",
    "# g = g[cols]"
   ]
  },
  {
   "cell_type": "code",
   "execution_count": 31,
   "id": "subject-dublin",
   "metadata": {
    "execution": {
     "iopub.execute_input": "2021-02-05T00:10:56.344832Z",
     "iopub.status.busy": "2021-02-05T00:10:56.344217Z",
     "iopub.status.idle": "2021-02-05T00:10:56.346529Z",
     "shell.execute_reply": "2021-02-05T00:10:56.346003Z"
    },
    "papermill": {
     "duration": 0.037512,
     "end_time": "2021-02-05T00:10:56.346659",
     "exception": false,
     "start_time": "2021-02-05T00:10:56.309147",
     "status": "completed"
    },
    "tags": []
   },
   "outputs": [],
   "source": [
    "#hide\n",
    "# g['continent'] = g['continent'].map(mapping['map.continent'])"
   ]
  },
  {
   "cell_type": "code",
   "execution_count": 32,
   "id": "freelance-scout",
   "metadata": {
    "execution": {
     "iopub.execute_input": "2021-02-05T00:10:56.414233Z",
     "iopub.status.busy": "2021-02-05T00:10:56.413635Z",
     "iopub.status.idle": "2021-02-05T00:10:56.415997Z",
     "shell.execute_reply": "2021-02-05T00:10:56.416526Z"
    },
    "papermill": {
     "duration": 0.037507,
     "end_time": "2021-02-05T00:10:56.416667",
     "exception": false,
     "start_time": "2021-02-05T00:10:56.379160",
     "status": "completed"
    },
    "tags": []
   },
   "outputs": [],
   "source": [
    "#hide\n",
    "# g.head()"
   ]
  },
  {
   "cell_type": "code",
   "execution_count": 33,
   "id": "limited-engine",
   "metadata": {
    "execution": {
     "iopub.execute_input": "2021-02-05T00:10:56.483542Z",
     "iopub.status.busy": "2021-02-05T00:10:56.482974Z",
     "iopub.status.idle": "2021-02-05T00:10:56.484995Z",
     "shell.execute_reply": "2021-02-05T00:10:56.485371Z"
    },
    "papermill": {
     "duration": 0.038277,
     "end_time": "2021-02-05T00:10:56.485497",
     "exception": false,
     "start_time": "2021-02-05T00:10:56.447220",
     "status": "completed"
    },
    "tags": []
   },
   "outputs": [],
   "source": [
    "# hide\n",
    "# g['date'] = g['date'].astype('datetime64[ns]')"
   ]
  },
  {
   "cell_type": "code",
   "execution_count": 34,
   "id": "sophisticated-supervisor",
   "metadata": {
    "execution": {
     "iopub.execute_input": "2021-02-05T00:10:56.553010Z",
     "iopub.status.busy": "2021-02-05T00:10:56.552464Z",
     "iopub.status.idle": "2021-02-05T00:10:56.555608Z",
     "shell.execute_reply": "2021-02-05T00:10:56.555135Z"
    },
    "papermill": {
     "duration": 0.038862,
     "end_time": "2021-02-05T00:10:56.555734",
     "exception": false,
     "start_time": "2021-02-05T00:10:56.516872",
     "status": "completed"
    },
    "tags": []
   },
   "outputs": [],
   "source": [
    "#hide\n",
    "# g['date'] = g.date.dt.dayofyear"
   ]
  },
  {
   "cell_type": "code",
   "execution_count": 35,
   "id": "inside-dubai",
   "metadata": {
    "execution": {
     "iopub.execute_input": "2021-02-05T00:10:56.621062Z",
     "iopub.status.busy": "2021-02-05T00:10:56.620421Z",
     "iopub.status.idle": "2021-02-05T00:10:56.622779Z",
     "shell.execute_reply": "2021-02-05T00:10:56.623307Z"
    },
    "papermill": {
     "duration": 0.035653,
     "end_time": "2021-02-05T00:10:56.623462",
     "exception": false,
     "start_time": "2021-02-05T00:10:56.587809",
     "status": "completed"
    },
    "tags": []
   },
   "outputs": [],
   "source": [
    "#hide\n",
    "# g = g.rename(columns= {'continent':'group','country':'name','cases':'value'})"
   ]
  },
  {
   "cell_type": "code",
   "execution_count": 36,
   "id": "fleet-motorcycle",
   "metadata": {
    "execution": {
     "iopub.execute_input": "2021-02-05T00:10:56.685059Z",
     "iopub.status.busy": "2021-02-05T00:10:56.684456Z",
     "iopub.status.idle": "2021-02-05T00:10:56.686960Z",
     "shell.execute_reply": "2021-02-05T00:10:56.687439Z"
    },
    "papermill": {
     "duration": 0.03638,
     "end_time": "2021-02-05T00:10:56.687592",
     "exception": false,
     "start_time": "2021-02-05T00:10:56.651212",
     "status": "completed"
    },
    "tags": []
   },
   "outputs": [],
   "source": [
    "#hide\n",
    "# cols = ['name','group','day','value']"
   ]
  },
  {
   "cell_type": "code",
   "execution_count": 37,
   "id": "continued-sleeping",
   "metadata": {
    "execution": {
     "iopub.execute_input": "2021-02-05T00:10:56.753432Z",
     "iopub.status.busy": "2021-02-05T00:10:56.752877Z",
     "iopub.status.idle": "2021-02-05T00:10:56.754596Z",
     "shell.execute_reply": "2021-02-05T00:10:56.755070Z"
    },
    "papermill": {
     "duration": 0.036481,
     "end_time": "2021-02-05T00:10:56.755206",
     "exception": false,
     "start_time": "2021-02-05T00:10:56.718725",
     "status": "completed"
    },
    "tags": []
   },
   "outputs": [],
   "source": [
    "#hide\n",
    "# g.rename(columns= {'date':'day'},inplace = True)"
   ]
  },
  {
   "cell_type": "code",
   "execution_count": 38,
   "id": "major-fight",
   "metadata": {
    "execution": {
     "iopub.execute_input": "2021-02-05T00:10:56.819215Z",
     "iopub.status.busy": "2021-02-05T00:10:56.818742Z",
     "iopub.status.idle": "2021-02-05T00:10:56.820546Z",
     "shell.execute_reply": "2021-02-05T00:10:56.821016Z"
    },
    "papermill": {
     "duration": 0.036825,
     "end_time": "2021-02-05T00:10:56.821150",
     "exception": false,
     "start_time": "2021-02-05T00:10:56.784325",
     "status": "completed"
    },
    "tags": []
   },
   "outputs": [],
   "source": [
    "#hide\n",
    "# g = g[cols]"
   ]
  },
  {
   "cell_type": "code",
   "execution_count": 39,
   "id": "structured-mobile",
   "metadata": {
    "execution": {
     "iopub.execute_input": "2021-02-05T00:10:56.883623Z",
     "iopub.status.busy": "2021-02-05T00:10:56.883037Z",
     "iopub.status.idle": "2021-02-05T00:10:56.885313Z",
     "shell.execute_reply": "2021-02-05T00:10:56.884926Z"
    },
    "papermill": {
     "duration": 0.035592,
     "end_time": "2021-02-05T00:10:56.885420",
     "exception": false,
     "start_time": "2021-02-05T00:10:56.849828",
     "status": "completed"
    },
    "tags": []
   },
   "outputs": [],
   "source": [
    "# #hide\n",
    "# g = g[g.group.notna()]"
   ]
  },
  {
   "cell_type": "code",
   "execution_count": 40,
   "id": "determined-closing",
   "metadata": {
    "execution": {
     "iopub.execute_input": "2021-02-05T00:10:56.949885Z",
     "iopub.status.busy": "2021-02-05T00:10:56.948834Z",
     "iopub.status.idle": "2021-02-05T00:10:56.950781Z",
     "shell.execute_reply": "2021-02-05T00:10:56.951254Z"
    },
    "papermill": {
     "duration": 0.037491,
     "end_time": "2021-02-05T00:10:56.951393",
     "exception": false,
     "start_time": "2021-02-05T00:10:56.913902",
     "status": "completed"
    },
    "tags": []
   },
   "outputs": [],
   "source": [
    "# #hide\n",
    "# colors = dict(zip(\n",
    "#     [\"Oceania\", \"Europe\", \"Asia\", \"South America\", \"Middle East\", \"North America\", \"Africa\"],\n",
    "#     [\"#adb0ff\", \"#ffb3ff\", \"#90d595\", \"#e48381\", \"#aafbff\", \"#f7bb5f\", \"#eafb50\"]\n",
    "# ))\n",
    "# group_lk = g.set_index('name')['group'].to_dict()"
   ]
  },
  {
   "cell_type": "code",
   "execution_count": null,
   "id": "gross-drinking",
   "metadata": {
    "papermill": {
     "duration": 0.030337,
     "end_time": "2021-02-05T00:10:57.014033",
     "exception": false,
     "start_time": "2021-02-05T00:10:56.983696",
     "status": "completed"
    },
    "tags": []
   },
   "outputs": [],
   "source": []
  },
  {
   "cell_type": "code",
   "execution_count": 41,
   "id": "subject-macintosh",
   "metadata": {
    "execution": {
     "iopub.execute_input": "2021-02-05T00:10:57.083341Z",
     "iopub.status.busy": "2021-02-05T00:10:57.082868Z",
     "iopub.status.idle": "2021-02-05T00:10:57.084645Z",
     "shell.execute_reply": "2021-02-05T00:10:57.085010Z"
    },
    "papermill": {
     "duration": 0.039409,
     "end_time": "2021-02-05T00:10:57.085127",
     "exception": false,
     "start_time": "2021-02-05T00:10:57.045718",
     "status": "completed"
    },
    "tags": []
   },
   "outputs": [],
   "source": [
    "# #hide\n",
    "# fig, ax = plt.subplots(figsize=(15, 8))\n",
    "\n",
    "# def draw_barchart(current_day):\n",
    "#     dff = g[g['day'].eq(current_day)].sort_values(by='value', ascending=True).tail(10)\n",
    "#     ax.clear()\n",
    "#     ax.barh(dff['name'], dff['value'], color=[colors[group_lk[x]] for x in dff['name']])\n",
    "#     dx = dff['value'].max() / 200\n",
    "    \n",
    "#     for i, (value, name) in enumerate(zip(dff['value'], dff['name'])):\n",
    "#         ax.text(value-dx, i,     name,           size=14, weight=600, ha='right', va='bottom')\n",
    "#         ax.text(value-dx, i-.25, group_lk[name], size=10, color='#444444', ha='right', va='baseline')\n",
    "#         ax.text(value+dx, i,     f'{value:,.0f}',  size=14, ha='left',  va='center')\n",
    "#     ax.text(1, 0.4, current_day, transform=ax.transAxes, color='#777777', size=46, ha='right', weight=800)\n",
    "#     ax.text(0, 1.06, 'Population (thousands)', transform=ax.transAxes, size=12, color='#777777')\n",
    "#     ax.xaxis.set_major_formatter(ticker.StrMethodFormatter('{x:,.0f}'))\n",
    "#     ax.xaxis.set_ticks_position('top')\n",
    "#     ax.tick_params(axis='x', colors='#777777', labelsize=12)\n",
    "#     ax.set_yticks([])\n",
    "#     ax.margins(0, 0.01)\n",
    "#     ax.grid(which='major', axis='x', linestyle='-')\n",
    "#     ax.set_axisbelow(True)\n",
    "    \n",
    "#     ax.text(0, 1.15, 'Coronavirus',\n",
    "#             transform=ax.transAxes, size=24, weight=600, ha='left', va='top')\n",
    "# #     ax.text(1, 0, 'by @pratapvardhan; credit @jburnmurdoch', transform=ax.transAxes, color='#777777', ha='right',\n",
    "# #             bbox=dict(facecolor='white', alpha=0.8, edgecolor='white'))\n",
    "#     plt.box(False)"
   ]
  },
  {
   "cell_type": "code",
   "execution_count": 42,
   "id": "sexual-wages",
   "metadata": {
    "execution": {
     "iopub.execute_input": "2021-02-05T00:10:57.150449Z",
     "iopub.status.busy": "2021-02-05T00:10:57.149895Z",
     "iopub.status.idle": "2021-02-05T00:10:57.152150Z",
     "shell.execute_reply": "2021-02-05T00:10:57.152711Z"
    },
    "papermill": {
     "duration": 0.038306,
     "end_time": "2021-02-05T00:10:57.152857",
     "exception": false,
     "start_time": "2021-02-05T00:10:57.114551",
     "status": "completed"
    },
    "tags": []
   },
   "outputs": [],
   "source": [
    "# #hide_input\n",
    "# fig, ax = plt.subplots(figsize=(15, 8))\n",
    "# animator = animation.FuncAnimation(fig, draw_barchart, frames=range(g.day.values.min(), g.day.values.max()))\n",
    "# HTML(animator.to_jshtml())\n",
    "# # or use animator.to_html5_video() or animator.save() "
   ]
  },
  {
   "cell_type": "code",
   "execution_count": null,
   "id": "australian-container",
   "metadata": {
    "papermill": {
     "duration": 0.028765,
     "end_time": "2021-02-05T00:10:57.211692",
     "exception": false,
     "start_time": "2021-02-05T00:10:57.182927",
     "status": "completed"
    },
    "tags": []
   },
   "outputs": [],
   "source": []
  },
  {
   "cell_type": "code",
   "execution_count": null,
   "id": "mediterranean-pontiac",
   "metadata": {
    "papermill": {
     "duration": 0.027351,
     "end_time": "2021-02-05T00:10:57.269113",
     "exception": false,
     "start_time": "2021-02-05T00:10:57.241762",
     "status": "completed"
    },
    "tags": []
   },
   "outputs": [],
   "source": []
  },
  {
   "cell_type": "code",
   "execution_count": null,
   "id": "aging-legislature",
   "metadata": {
    "papermill": {
     "duration": 0.027806,
     "end_time": "2021-02-05T00:10:57.327892",
     "exception": false,
     "start_time": "2021-02-05T00:10:57.300086",
     "status": "completed"
    },
    "tags": []
   },
   "outputs": [],
   "source": []
  }
 ],
 "metadata": {
  "kernelspec": {
   "display_name": "Python 3",
   "language": "python",
   "name": "python3"
  },
  "language_info": {
   "codemirror_mode": {
    "name": "ipython",
    "version": 3
   },
   "file_extension": ".py",
   "mimetype": "text/x-python",
   "name": "python",
   "nbconvert_exporter": "python",
   "pygments_lexer": "ipython3",
   "version": "3.6.12"
  },
  "papermill": {
   "duration": 6.148039,
   "end_time": "2021-02-05T00:10:57.666982",
   "environment_variables": {},
   "exception": null,
   "input_path": "2020-03-21-covid19exp.ipynb",
   "output_path": "2020-03-21-covid19exp.ipynb",
   "parameters": {},
   "start_time": "2021-02-05T00:10:51.518943",
   "version": "2.0.0"
  }
 },
 "nbformat": 4,
 "nbformat_minor": 5
}