{
 "cells": [
  {
   "cell_type": "markdown",
   "id": "muslim-click",
   "metadata": {
    "papermill": {
     "duration": 0.033561,
     "end_time": "2022-05-11T00:41:39.355450",
     "exception": false,
     "start_time": "2022-05-11T00:41:39.321889",
     "status": "completed"
    },
    "tags": []
   },
   "source": [
    "# COVID-19 Case Race\n",
    "> A race chart to see rising cases around the world\n",
    "\n",
    "- author: Hargun Oberoi\n",
    "- image: images/covid-overview.png\n",
    "- hide: false\n",
    "- badges: false"
   ]
  },
  {
   "cell_type": "code",
   "execution_count": 1,
   "id": "proof-material",
   "metadata": {
    "execution": {
     "iopub.execute_input": "2022-05-11T00:41:39.425794Z",
     "iopub.status.busy": "2022-05-11T00:41:39.423521Z",
     "iopub.status.idle": "2022-05-11T00:41:39.736724Z",
     "shell.execute_reply": "2022-05-11T00:41:39.736187Z"
    },
    "papermill": {
     "duration": 0.350171,
     "end_time": "2022-05-11T00:41:39.736877",
     "exception": false,
     "start_time": "2022-05-11T00:41:39.386706",
     "status": "completed"
    },
    "tags": []
   },
   "outputs": [],
   "source": [
    "#hide\n",
    "import numpy as np\n",
    "import pandas as pd\n",
    "from jinja2 import Template\n",
    "from IPython.display import HTML"
   ]
  },
  {
   "cell_type": "code",
   "execution_count": 2,
   "id": "developed-terminology",
   "metadata": {
    "execution": {
     "iopub.execute_input": "2022-05-11T00:41:39.801087Z",
     "iopub.status.busy": "2022-05-11T00:41:39.800571Z",
     "iopub.status.idle": "2022-05-11T00:41:39.803026Z",
     "shell.execute_reply": "2022-05-11T00:41:39.802599Z"
    },
    "papermill": {
     "duration": 0.035633,
     "end_time": "2022-05-11T00:41:39.803135",
     "exception": false,
     "start_time": "2022-05-11T00:41:39.767502",
     "status": "completed"
    },
    "tags": []
   },
   "outputs": [],
   "source": [
    "#hide\n",
    "\n",
    "# FETCH\n",
    "base_url = 'https://raw.githubusercontent.com/pratapvardhan/notebooks/master/covid19/'\n",
    "paths = {\n",
    "    'mapping': base_url + 'mapping_countries.csv',\n",
    "    'overview': base_url + 'overview.tpl'\n",
    "}"
   ]
  },
  {
   "cell_type": "code",
   "execution_count": 3,
   "id": "dynamic-saver",
   "metadata": {
    "execution": {
     "iopub.execute_input": "2022-05-11T00:41:39.870138Z",
     "iopub.status.busy": "2022-05-11T00:41:39.869637Z",
     "iopub.status.idle": "2022-05-11T00:41:39.872660Z",
     "shell.execute_reply": "2022-05-11T00:41:39.872258Z"
    },
    "papermill": {
     "duration": 0.040531,
     "end_time": "2022-05-11T00:41:39.872764",
     "exception": false,
     "start_time": "2022-05-11T00:41:39.832233",
     "status": "completed"
    },
    "tags": []
   },
   "outputs": [
    {
     "data": {
      "text/plain": [
       "'https://raw.githubusercontent.com/pratapvardhan/notebooks/master/covid19/mapping_countries.csv'"
      ]
     },
     "execution_count": 3,
     "metadata": {},
     "output_type": "execute_result"
    }
   ],
   "source": [
    "#hide\n",
    "paths['mapping']"
   ]
  },
  {
   "cell_type": "code",
   "execution_count": 4,
   "id": "urban-software",
   "metadata": {
    "execution": {
     "iopub.execute_input": "2022-05-11T00:41:39.936658Z",
     "iopub.status.busy": "2022-05-11T00:41:39.936155Z",
     "iopub.status.idle": "2022-05-11T00:41:39.937901Z",
     "shell.execute_reply": "2022-05-11T00:41:39.938282Z"
    },
    "papermill": {
     "duration": 0.035998,
     "end_time": "2022-05-11T00:41:39.938397",
     "exception": false,
     "start_time": "2022-05-11T00:41:39.902399",
     "status": "completed"
    },
    "tags": []
   },
   "outputs": [],
   "source": [
    "#hide\n",
    "def get_mappings(url):\n",
    "    df = pd.read_csv(url)\n",
    "    return {\n",
    "        'df': df,\n",
    "        'replace.country': dict(df.dropna(subset=['Name']).set_index('Country')['Name']),\n",
    "        'map.continent': dict(df.set_index('Name')['Continent'])\n",
    "    }"
   ]
  },
  {
   "cell_type": "code",
   "execution_count": 5,
   "id": "intimate-machinery",
   "metadata": {
    "execution": {
     "iopub.execute_input": "2022-05-11T00:41:40.001985Z",
     "iopub.status.busy": "2022-05-11T00:41:40.001485Z",
     "iopub.status.idle": "2022-05-11T00:41:40.064743Z",
     "shell.execute_reply": "2022-05-11T00:41:40.064282Z"
    },
    "papermill": {
     "duration": 0.096928,
     "end_time": "2022-05-11T00:41:40.064861",
     "exception": false,
     "start_time": "2022-05-11T00:41:39.967933",
     "status": "completed"
    },
    "tags": []
   },
   "outputs": [],
   "source": [
    "#hide\n",
    "mapping = get_mappings(paths['mapping'])"
   ]
  },
  {
   "cell_type": "code",
   "execution_count": 6,
   "id": "certified-tactics",
   "metadata": {
    "execution": {
     "iopub.execute_input": "2022-05-11T00:41:40.129112Z",
     "iopub.status.busy": "2022-05-11T00:41:40.128593Z",
     "iopub.status.idle": "2022-05-11T00:41:40.130349Z",
     "shell.execute_reply": "2022-05-11T00:41:40.130729Z"
    },
    "papermill": {
     "duration": 0.035874,
     "end_time": "2022-05-11T00:41:40.130867",
     "exception": false,
     "start_time": "2022-05-11T00:41:40.094993",
     "status": "completed"
    },
    "tags": []
   },
   "outputs": [],
   "source": [
    "#hide\n",
    "def get_template(path):\n",
    "    from urllib.parse import urlparse\n",
    "    if bool(urlparse(path).netloc):\n",
    "        from urllib.request import urlopen\n",
    "        return urlopen(path).read().decode('utf8')\n",
    "    return open(path).read()"
   ]
  },
  {
   "cell_type": "code",
   "execution_count": 7,
   "id": "realistic-blast",
   "metadata": {
    "execution": {
     "iopub.execute_input": "2022-05-11T00:41:40.194618Z",
     "iopub.status.busy": "2022-05-11T00:41:40.194036Z",
     "iopub.status.idle": "2022-05-11T00:41:40.196179Z",
     "shell.execute_reply": "2022-05-11T00:41:40.195702Z"
    },
    "papermill": {
     "duration": 0.035791,
     "end_time": "2022-05-11T00:41:40.196289",
     "exception": false,
     "start_time": "2022-05-11T00:41:40.160498",
     "status": "completed"
    },
    "tags": []
   },
   "outputs": [],
   "source": [
    "#hide\n",
    "def get_frame(name):\n",
    "    url = (\n",
    "        'https://raw.githubusercontent.com/CSSEGISandData/COVID-19/master/csse_covid_19_data/'\n",
    "        f'csse_covid_19_time_series/time_series_covid19_{name}_global.csv')\n",
    "    df = pd.read_csv(url)\n",
    "    # rename countries\n",
    "    df['Country/Region'] = df['Country/Region'].replace(mapping['replace.country'])\n",
    "    return df"
   ]
  },
  {
   "cell_type": "code",
   "execution_count": 8,
   "id": "affiliated-characterization",
   "metadata": {
    "execution": {
     "iopub.execute_input": "2022-05-11T00:41:40.261108Z",
     "iopub.status.busy": "2022-05-11T00:41:40.260603Z",
     "iopub.status.idle": "2022-05-11T00:41:40.262600Z",
     "shell.execute_reply": "2022-05-11T00:41:40.263002Z"
    },
    "papermill": {
     "duration": 0.03695,
     "end_time": "2022-05-11T00:41:40.263121",
     "exception": false,
     "start_time": "2022-05-11T00:41:40.226171",
     "status": "completed"
    },
    "tags": []
   },
   "outputs": [],
   "source": [
    "#hide\n",
    "def get_dates(df):\n",
    "    dt_cols = df.columns[~df.columns.isin(['Province/State', 'Country/Region', 'Lat', 'Long'])]\n",
    "    LAST_DATE_I = -1\n",
    "    # sometimes last column may be empty, then go backwards\n",
    "    for i in range(-1, -len(dt_cols), -1):\n",
    "        if not df[dt_cols[i]].fillna(0).eq(0).all():\n",
    "            LAST_DATE_I = i\n",
    "            break\n",
    "    return LAST_DATE_I, dt_cols"
   ]
  },
  {
   "cell_type": "code",
   "execution_count": 9,
   "id": "recent-optimization",
   "metadata": {
    "execution": {
     "iopub.execute_input": "2022-05-11T00:41:40.326873Z",
     "iopub.status.busy": "2022-05-11T00:41:40.326335Z",
     "iopub.status.idle": "2022-05-11T00:41:40.923797Z",
     "shell.execute_reply": "2022-05-11T00:41:40.923274Z"
    },
    "papermill": {
     "duration": 0.631174,
     "end_time": "2022-05-11T00:41:40.923940",
     "exception": false,
     "start_time": "2022-05-11T00:41:40.292766",
     "status": "completed"
    },
    "tags": []
   },
   "outputs": [],
   "source": [
    "#hide\n",
    "COL_REGION = 'Country/Region'\n",
    "# Confirmed, Recovered, Deaths\n",
    "df = get_frame('confirmed')\n",
    "# dft_: timeseries, dfc_: today country agg\n",
    "dft_cases = df\n",
    "dft_deaths = get_frame('deaths')\n",
    "dft_recovered = get_frame('recovered')\n",
    "LAST_DATE_I, dt_cols = get_dates(df)"
   ]
  },
  {
   "cell_type": "code",
   "execution_count": 10,
   "id": "absolute-copper",
   "metadata": {
    "execution": {
     "iopub.execute_input": "2022-05-11T00:41:40.990133Z",
     "iopub.status.busy": "2022-05-11T00:41:40.989623Z",
     "iopub.status.idle": "2022-05-11T00:41:40.991430Z",
     "shell.execute_reply": "2022-05-11T00:41:40.991831Z"
    },
    "papermill": {
     "duration": 0.037019,
     "end_time": "2022-05-11T00:41:40.991954",
     "exception": false,
     "start_time": "2022-05-11T00:41:40.954935",
     "status": "completed"
    },
    "tags": []
   },
   "outputs": [],
   "source": [
    "#hide\n",
    "LAST_DATE_I, dt_cols = get_dates(df)\n",
    "dt_today =dt_cols[LAST_DATE_I]\n",
    "# dt_5day = dt_cols[LAST_DATE_I - 5]\n",
    "dt_yday = dt_cols[LAST_DATE_I - 1]"
   ]
  },
  {
   "cell_type": "code",
   "execution_count": 11,
   "id": "restricted-sheriff",
   "metadata": {
    "execution": {
     "iopub.execute_input": "2022-05-11T00:41:41.056665Z",
     "iopub.status.busy": "2022-05-11T00:41:41.056163Z",
     "iopub.status.idle": "2022-05-11T00:41:41.063924Z",
     "shell.execute_reply": "2022-05-11T00:41:41.063493Z"
    },
    "papermill": {
     "duration": 0.042592,
     "end_time": "2022-05-11T00:41:41.064028",
     "exception": false,
     "start_time": "2022-05-11T00:41:41.021436",
     "status": "completed"
    },
    "tags": []
   },
   "outputs": [],
   "source": [
    "#hide\n",
    "dfc_cases = dft_cases.groupby(COL_REGION)[dt_today].sum()\n",
    "dfc_deaths = dft_deaths.groupby(COL_REGION)[dt_today].sum()\n",
    "# dfp_cases = dft_cases.groupby(COL_REGION)[dt_5day].sum()\n",
    "# dfp_deaths = dft_deaths.groupby(COL_REGION)[dt_5day].sum()\n",
    "dfp_cases = dft_cases.groupby(COL_REGION)[dt_yday].sum()\n",
    "dfp_deaths = dft_deaths.groupby(COL_REGION)[dt_yday].sum()"
   ]
  },
  {
   "cell_type": "code",
   "execution_count": 12,
   "id": "deluxe-hepatitis",
   "metadata": {
    "execution": {
     "iopub.execute_input": "2022-05-11T00:41:41.128718Z",
     "iopub.status.busy": "2022-05-11T00:41:41.128220Z",
     "iopub.status.idle": "2022-05-11T00:41:41.132594Z",
     "shell.execute_reply": "2022-05-11T00:41:41.132198Z"
    },
    "papermill": {
     "duration": 0.038909,
     "end_time": "2022-05-11T00:41:41.132696",
     "exception": false,
     "start_time": "2022-05-11T00:41:41.093787",
     "status": "completed"
    },
    "tags": []
   },
   "outputs": [],
   "source": [
    "#hide\n",
    "df_table = (pd.DataFrame(dict(Cases = dfc_cases, Deaths = dfc_deaths, PCases = dfp_cases, PDeaths = dfp_deaths))\n",
    "            .sort_values(by = ['Cases','Deaths'], ascending = [False, False])\n",
    "            .reset_index())"
   ]
  },
  {
   "cell_type": "code",
   "execution_count": 13,
   "id": "educational-chancellor",
   "metadata": {
    "execution": {
     "iopub.execute_input": "2022-05-11T00:41:41.208715Z",
     "iopub.status.busy": "2022-05-11T00:41:41.193772Z",
     "iopub.status.idle": "2022-05-11T00:41:41.215593Z",
     "shell.execute_reply": "2022-05-11T00:41:41.215972Z"
    },
    "papermill": {
     "duration": 0.053928,
     "end_time": "2022-05-11T00:41:41.216088",
     "exception": false,
     "start_time": "2022-05-11T00:41:41.162160",
     "status": "completed"
    },
    "tags": []
   },
   "outputs": [
    {
     "data": {
      "text/html": [
       "<div>\n",
       "<style scoped>\n",
       "    .dataframe tbody tr th:only-of-type {\n",
       "        vertical-align: middle;\n",
       "    }\n",
       "\n",
       "    .dataframe tbody tr th {\n",
       "        vertical-align: top;\n",
       "    }\n",
       "\n",
       "    .dataframe thead th {\n",
       "        text-align: right;\n",
       "    }\n",
       "</style>\n",
       "<table border=\"1\" class=\"dataframe\">\n",
       "  <thead>\n",
       "    <tr style=\"text-align: right;\">\n",
       "      <th></th>\n",
       "      <th>Country/Region</th>\n",
       "      <th>Cases</th>\n",
       "      <th>Deaths</th>\n",
       "      <th>PCases</th>\n",
       "      <th>PDeaths</th>\n",
       "      <th>Cases (+)</th>\n",
       "      <th>Deaths (+)</th>\n",
       "      <th>Fatality Rate</th>\n",
       "      <th>Continent</th>\n",
       "    </tr>\n",
       "  </thead>\n",
       "  <tbody>\n",
       "    <tr>\n",
       "      <th>0</th>\n",
       "      <td>US</td>\n",
       "      <td>81973661</td>\n",
       "      <td>997740</td>\n",
       "      <td>81863479</td>\n",
       "      <td>997526</td>\n",
       "      <td>110182</td>\n",
       "      <td>214</td>\n",
       "      <td>1.22</td>\n",
       "      <td>North America</td>\n",
       "    </tr>\n",
       "    <tr>\n",
       "      <th>1</th>\n",
       "      <td>India</td>\n",
       "      <td>43107689</td>\n",
       "      <td>524103</td>\n",
       "      <td>43105401</td>\n",
       "      <td>524093</td>\n",
       "      <td>2288</td>\n",
       "      <td>10</td>\n",
       "      <td>1.22</td>\n",
       "      <td>Asia</td>\n",
       "    </tr>\n",
       "    <tr>\n",
       "      <th>2</th>\n",
       "      <td>Brazil</td>\n",
       "      <td>30574245</td>\n",
       "      <td>664426</td>\n",
       "      <td>30564536</td>\n",
       "      <td>664374</td>\n",
       "      <td>9709</td>\n",
       "      <td>52</td>\n",
       "      <td>2.17</td>\n",
       "      <td>South America</td>\n",
       "    </tr>\n",
       "    <tr>\n",
       "      <th>3</th>\n",
       "      <td>France</td>\n",
       "      <td>29155815</td>\n",
       "      <td>147893</td>\n",
       "      <td>29148451</td>\n",
       "      <td>147761</td>\n",
       "      <td>7364</td>\n",
       "      <td>132</td>\n",
       "      <td>0.51</td>\n",
       "      <td>Europe</td>\n",
       "    </tr>\n",
       "    <tr>\n",
       "      <th>4</th>\n",
       "      <td>Germany</td>\n",
       "      <td>25406868</td>\n",
       "      <td>136756</td>\n",
       "      <td>25299300</td>\n",
       "      <td>136538</td>\n",
       "      <td>107568</td>\n",
       "      <td>218</td>\n",
       "      <td>0.54</td>\n",
       "      <td>Europe</td>\n",
       "    </tr>\n",
       "  </tbody>\n",
       "</table>\n",
       "</div>"
      ],
      "text/plain": [
       "  Country/Region     Cases  Deaths    PCases  PDeaths  Cases (+)  Deaths (+)  \\\n",
       "0             US  81973661  997740  81863479   997526     110182         214   \n",
       "1          India  43107689  524103  43105401   524093       2288          10   \n",
       "2         Brazil  30574245  664426  30564536   664374       9709          52   \n",
       "3         France  29155815  147893  29148451   147761       7364         132   \n",
       "4        Germany  25406868  136756  25299300   136538     107568         218   \n",
       "\n",
       "   Fatality Rate      Continent  \n",
       "0           1.22  North America  \n",
       "1           1.22           Asia  \n",
       "2           2.17  South America  \n",
       "3           0.51         Europe  \n",
       "4           0.54         Europe  "
      ]
     },
     "execution_count": 13,
     "metadata": {},
     "output_type": "execute_result"
    }
   ],
   "source": [
    "#hide\n",
    "for c in 'Cases, Deaths'.split(', '):\n",
    "    df_table[f'{c} (+)'] = (df_table[c] - df_table[f'P{c}']).clip(0)\n",
    "    #Clip ça veut dire, les chiffres negatif sont interdit\n",
    "df_table['Fatality Rate'] = (100* df_table['Deaths']/ df_table['Cases']).round(2)\n",
    "df_table['Continent'] = df_table['Country/Region'].map(mapping['map.continent'])\n",
    "df_table.head(5)"
   ]
  },
  {
   "cell_type": "code",
   "execution_count": 14,
   "id": "aboriginal-bulgaria",
   "metadata": {
    "execution": {
     "iopub.execute_input": "2022-05-11T00:41:41.281450Z",
     "iopub.status.busy": "2022-05-11T00:41:41.280951Z",
     "iopub.status.idle": "2022-05-11T00:41:41.283083Z",
     "shell.execute_reply": "2022-05-11T00:41:41.283489Z"
    },
    "papermill": {
     "duration": 0.037192,
     "end_time": "2022-05-11T00:41:41.283603",
     "exception": false,
     "start_time": "2022-05-11T00:41:41.246411",
     "status": "completed"
    },
    "tags": []
   },
   "outputs": [],
   "source": [
    "#hide\n",
    "#delete problematic countries from table\n",
    "df_table = df_table[~df_table['Country/Region'].isin(['Cape Verde', 'Cruise Ship', 'Kosovo'])]"
   ]
  },
  {
   "cell_type": "code",
   "execution_count": 15,
   "id": "fantastic-effect",
   "metadata": {
    "execution": {
     "iopub.execute_input": "2022-05-11T00:41:41.349799Z",
     "iopub.status.busy": "2022-05-11T00:41:41.349302Z",
     "iopub.status.idle": "2022-05-11T00:41:41.365447Z",
     "shell.execute_reply": "2022-05-11T00:41:41.365826Z"
    },
    "papermill": {
     "duration": 0.052642,
     "end_time": "2022-05-11T00:41:41.365941",
     "exception": false,
     "start_time": "2022-05-11T00:41:41.313299",
     "status": "completed"
    },
    "tags": []
   },
   "outputs": [
    {
     "data": {
      "text/html": [
       "<div>\n",
       "<style scoped>\n",
       "    .dataframe tbody tr th:only-of-type {\n",
       "        vertical-align: middle;\n",
       "    }\n",
       "\n",
       "    .dataframe tbody tr th {\n",
       "        vertical-align: top;\n",
       "    }\n",
       "\n",
       "    .dataframe thead th {\n",
       "        text-align: right;\n",
       "    }\n",
       "</style>\n",
       "<table border=\"1\" class=\"dataframe\">\n",
       "  <thead>\n",
       "    <tr style=\"text-align: right;\">\n",
       "      <th></th>\n",
       "      <th>Country/Region</th>\n",
       "      <th>Cases</th>\n",
       "      <th>Deaths</th>\n",
       "      <th>PCases</th>\n",
       "      <th>PDeaths</th>\n",
       "      <th>Cases (+)</th>\n",
       "      <th>Deaths (+)</th>\n",
       "      <th>Fatality Rate</th>\n",
       "      <th>Continent</th>\n",
       "    </tr>\n",
       "  </thead>\n",
       "  <tbody>\n",
       "    <tr>\n",
       "      <th>0</th>\n",
       "      <td>US</td>\n",
       "      <td>81973661</td>\n",
       "      <td>997740</td>\n",
       "      <td>81863479</td>\n",
       "      <td>997526</td>\n",
       "      <td>110182</td>\n",
       "      <td>214</td>\n",
       "      <td>1.2</td>\n",
       "      <td>North America</td>\n",
       "    </tr>\n",
       "    <tr>\n",
       "      <th>1</th>\n",
       "      <td>India</td>\n",
       "      <td>43107689</td>\n",
       "      <td>524103</td>\n",
       "      <td>43105401</td>\n",
       "      <td>524093</td>\n",
       "      <td>2288</td>\n",
       "      <td>10</td>\n",
       "      <td>1.2</td>\n",
       "      <td>Asia</td>\n",
       "    </tr>\n",
       "    <tr>\n",
       "      <th>2</th>\n",
       "      <td>Brazil</td>\n",
       "      <td>30574245</td>\n",
       "      <td>664426</td>\n",
       "      <td>30564536</td>\n",
       "      <td>664374</td>\n",
       "      <td>9709</td>\n",
       "      <td>52</td>\n",
       "      <td>2.2</td>\n",
       "      <td>South America</td>\n",
       "    </tr>\n",
       "    <tr>\n",
       "      <th>3</th>\n",
       "      <td>France</td>\n",
       "      <td>29155815</td>\n",
       "      <td>147893</td>\n",
       "      <td>29148451</td>\n",
       "      <td>147761</td>\n",
       "      <td>7364</td>\n",
       "      <td>132</td>\n",
       "      <td>0.5</td>\n",
       "      <td>Europe</td>\n",
       "    </tr>\n",
       "    <tr>\n",
       "      <th>4</th>\n",
       "      <td>Germany</td>\n",
       "      <td>25406868</td>\n",
       "      <td>136756</td>\n",
       "      <td>25299300</td>\n",
       "      <td>136538</td>\n",
       "      <td>107568</td>\n",
       "      <td>218</td>\n",
       "      <td>0.5</td>\n",
       "      <td>Europe</td>\n",
       "    </tr>\n",
       "  </tbody>\n",
       "</table>\n",
       "</div>"
      ],
      "text/plain": [
       "  Country/Region     Cases  Deaths    PCases  PDeaths  Cases (+)  Deaths (+)  \\\n",
       "0             US  81973661  997740  81863479   997526     110182         214   \n",
       "1          India  43107689  524103  43105401   524093       2288          10   \n",
       "2         Brazil  30574245  664426  30564536   664374       9709          52   \n",
       "3         France  29155815  147893  29148451   147761       7364         132   \n",
       "4        Germany  25406868  136756  25299300   136538     107568         218   \n",
       "\n",
       "   Fatality Rate      Continent  \n",
       "0            1.2  North America  \n",
       "1            1.2           Asia  \n",
       "2            2.2  South America  \n",
       "3            0.5         Europe  \n",
       "4            0.5         Europe  "
      ]
     },
     "execution_count": 15,
     "metadata": {},
     "output_type": "execute_result"
    }
   ],
   "source": [
    "#hide\n",
    "df_table = (pd.DataFrame(dict(Cases=dfc_cases, Deaths=dfc_deaths, PCases=dfp_cases, PDeaths=dfp_deaths))\n",
    "             .sort_values(by=['Cases', 'Deaths'], ascending=[False, False])\n",
    "             .reset_index())\n",
    "df_table.rename(columns={'index': 'Country/Region'}, inplace=True)\n",
    "for c in 'Cases, Deaths'.split(', '):\n",
    "    df_table[f'{c} (+)'] = (df_table[c] - df_table[f'P{c}']).clip(0)  # DATA BUG\n",
    "df_table['Fatality Rate'] = (100 * df_table['Deaths'] / df_table['Cases']).round(1)\n",
    "df_table['Continent'] = df_table['Country/Region'].map(mapping['map.continent'])\n",
    "df_table.head(5)"
   ]
  },
  {
   "cell_type": "code",
   "execution_count": 16,
   "id": "fewer-occasion",
   "metadata": {
    "execution": {
     "iopub.execute_input": "2022-05-11T00:41:41.431700Z",
     "iopub.status.busy": "2022-05-11T00:41:41.431114Z",
     "iopub.status.idle": "2022-05-11T00:41:41.433223Z",
     "shell.execute_reply": "2022-05-11T00:41:41.432744Z"
    },
    "papermill": {
     "duration": 0.036945,
     "end_time": "2022-05-11T00:41:41.433333",
     "exception": false,
     "start_time": "2022-05-11T00:41:41.396388",
     "status": "completed"
    },
    "tags": []
   },
   "outputs": [],
   "source": [
    "#hide\n",
    "#delete problematic countries from table\n",
    "df_table = df_table[~df_table['Country/Region'].isin(['Cape Verde', 'Cruise Ship', 'Kosovo'])]"
   ]
  },
  {
   "cell_type": "code",
   "execution_count": 17,
   "id": "related-center",
   "metadata": {
    "execution": {
     "iopub.execute_input": "2022-05-11T00:41:41.505404Z",
     "iopub.status.busy": "2022-05-11T00:41:41.504897Z",
     "iopub.status.idle": "2022-05-11T00:41:41.512424Z",
     "shell.execute_reply": "2022-05-11T00:41:41.512809Z"
    },
    "papermill": {
     "duration": 0.048932,
     "end_time": "2022-05-11T00:41:41.512924",
     "exception": false,
     "start_time": "2022-05-11T00:41:41.463992",
     "status": "completed"
    },
    "tags": []
   },
   "outputs": [],
   "source": [
    "#hide\n",
    "metrics = [df_table.columns[index] for index in [1,2,5,6]]\n",
    "# s_china = df_table[df_table['Country/Region'].eq('China')][metrics].sum().add_prefix('China ')\n",
    "s_us = df_table[df_table['Country/Region'].eq('US')][metrics].sum().add_prefix('US ')\n",
    "s_eu = df_table[df_table['Continent'].eq('Europe')][metrics].sum().add_prefix('EU ')\n",
    "s_ind = df_table[df_table['Country/Region'].eq('India')][metrics].sum().add_prefix('India ')\n",
    "summary = {'updated': pd.to_datetime(dt_today), 'since': pd.to_datetime(dt_yday)}\n",
    "summary = {'updated': pd.to_datetime(dt_today), 'since': pd.to_datetime(dt_yday)}\n",
    "summary = {**summary, **df_table[metrics].sum(), **s_ind, **s_us, **s_eu}"
   ]
  },
  {
   "cell_type": "code",
   "execution_count": 18,
   "id": "engaging-syndrome",
   "metadata": {
    "execution": {
     "iopub.execute_input": "2022-05-11T00:41:41.576466Z",
     "iopub.status.busy": "2022-05-11T00:41:41.575919Z",
     "iopub.status.idle": "2022-05-11T00:41:41.594589Z",
     "shell.execute_reply": "2022-05-11T00:41:41.595029Z"
    },
    "papermill": {
     "duration": 0.051779,
     "end_time": "2022-05-11T00:41:41.595151",
     "exception": false,
     "start_time": "2022-05-11T00:41:41.543372",
     "status": "completed"
    },
    "tags": []
   },
   "outputs": [],
   "source": [
    "#hide\n",
    "dft_ct_new_cases = dft_cases.groupby(COL_REGION)[dt_cols].sum().diff(axis=1).fillna(0).astype(int)"
   ]
  },
  {
   "cell_type": "code",
   "execution_count": 19,
   "id": "neutral-assignment",
   "metadata": {
    "execution": {
     "iopub.execute_input": "2022-05-11T00:41:41.661142Z",
     "iopub.status.busy": "2022-05-11T00:41:41.660638Z",
     "iopub.status.idle": "2022-05-11T00:41:41.662612Z",
     "shell.execute_reply": "2022-05-11T00:41:41.663070Z"
    },
    "papermill": {
     "duration": 0.037566,
     "end_time": "2022-05-11T00:41:41.663189",
     "exception": false,
     "start_time": "2022-05-11T00:41:41.625623",
     "status": "completed"
    },
    "tags": []
   },
   "outputs": [],
   "source": [
    "#hide\n",
    "everydaycases = dft_ct_new_cases.cumsum(axis=1)"
   ]
  },
  {
   "cell_type": "code",
   "execution_count": 20,
   "id": "parliamentary-calgary",
   "metadata": {
    "execution": {
     "iopub.execute_input": "2022-05-11T00:41:41.728193Z",
     "iopub.status.busy": "2022-05-11T00:41:41.727680Z",
     "iopub.status.idle": "2022-05-11T00:41:42.257628Z",
     "shell.execute_reply": "2022-05-11T00:41:42.257100Z"
    },
    "papermill": {
     "duration": 0.563708,
     "end_time": "2022-05-11T00:41:42.257769",
     "exception": false,
     "start_time": "2022-05-11T00:41:41.694061",
     "status": "completed"
    },
    "tags": []
   },
   "outputs": [],
   "source": [
    "#hide\n",
    "import pandas as pd\n",
    "import matplotlib.pyplot as plt\n",
    "import matplotlib.ticker as ticker\n",
    "import matplotlib.animation as animation\n",
    "from IPython.display import HTML"
   ]
  },
  {
   "cell_type": "code",
   "execution_count": 21,
   "id": "lasting-extraction",
   "metadata": {
    "execution": {
     "iopub.execute_input": "2022-05-11T00:41:42.325569Z",
     "iopub.status.busy": "2022-05-11T00:41:42.325057Z",
     "iopub.status.idle": "2022-05-11T00:41:42.331974Z",
     "shell.execute_reply": "2022-05-11T00:41:42.331544Z"
    },
    "papermill": {
     "duration": 0.043236,
     "end_time": "2022-05-11T00:41:42.332083",
     "exception": false,
     "start_time": "2022-05-11T00:41:42.288847",
     "status": "completed"
    },
    "tags": []
   },
   "outputs": [],
   "source": [
    "#hide\n",
    "t = everydaycases.stack()"
   ]
  },
  {
   "cell_type": "code",
   "execution_count": 22,
   "id": "premier-sleeve",
   "metadata": {
    "execution": {
     "iopub.execute_input": "2022-05-11T00:41:42.396935Z",
     "iopub.status.busy": "2022-05-11T00:41:42.396427Z",
     "iopub.status.idle": "2022-05-11T00:41:42.407499Z",
     "shell.execute_reply": "2022-05-11T00:41:42.407881Z"
    },
    "papermill": {
     "duration": 0.045367,
     "end_time": "2022-05-11T00:41:42.408004",
     "exception": false,
     "start_time": "2022-05-11T00:41:42.362637",
     "status": "completed"
    },
    "tags": []
   },
   "outputs": [],
   "source": [
    "#hide\n",
    "g = t.reset_index(['Country/Region'])"
   ]
  },
  {
   "cell_type": "code",
   "execution_count": 23,
   "id": "distributed-pittsburgh",
   "metadata": {
    "execution": {
     "iopub.execute_input": "2022-05-11T00:41:42.472571Z",
     "iopub.status.busy": "2022-05-11T00:41:42.472062Z",
     "iopub.status.idle": "2022-05-11T00:41:42.475482Z",
     "shell.execute_reply": "2022-05-11T00:41:42.475068Z"
    },
    "papermill": {
     "duration": 0.037199,
     "end_time": "2022-05-11T00:41:42.475588",
     "exception": false,
     "start_time": "2022-05-11T00:41:42.438389",
     "status": "completed"
    },
    "tags": []
   },
   "outputs": [],
   "source": [
    "#hide\n",
    "g.index.name = 'date'"
   ]
  },
  {
   "cell_type": "code",
   "execution_count": 24,
   "id": "naked-donor",
   "metadata": {
    "execution": {
     "iopub.execute_input": "2022-05-11T00:41:42.540032Z",
     "iopub.status.busy": "2022-05-11T00:41:42.539461Z",
     "iopub.status.idle": "2022-05-11T00:41:42.541667Z",
     "shell.execute_reply": "2022-05-11T00:41:42.541117Z"
    },
    "papermill": {
     "duration": 0.035611,
     "end_time": "2022-05-11T00:41:42.541781",
     "exception": false,
     "start_time": "2022-05-11T00:41:42.506170",
     "status": "completed"
    },
    "tags": []
   },
   "outputs": [],
   "source": [
    "# #hide\n",
    "# g = g.reset_index(['date'])"
   ]
  },
  {
   "cell_type": "code",
   "execution_count": 25,
   "id": "incomplete-mustang",
   "metadata": {
    "execution": {
     "iopub.execute_input": "2022-05-11T00:41:42.606055Z",
     "iopub.status.busy": "2022-05-11T00:41:42.605481Z",
     "iopub.status.idle": "2022-05-11T00:41:42.607652Z",
     "shell.execute_reply": "2022-05-11T00:41:42.607188Z"
    },
    "papermill": {
     "duration": 0.03553,
     "end_time": "2022-05-11T00:41:42.607771",
     "exception": false,
     "start_time": "2022-05-11T00:41:42.572241",
     "status": "completed"
    },
    "tags": []
   },
   "outputs": [],
   "source": [
    "#hide\n",
    "# g.head()"
   ]
  },
  {
   "cell_type": "code",
   "execution_count": 26,
   "id": "specific-kruger",
   "metadata": {
    "execution": {
     "iopub.execute_input": "2022-05-11T00:41:42.672501Z",
     "iopub.status.busy": "2022-05-11T00:41:42.671927Z",
     "iopub.status.idle": "2022-05-11T00:41:42.673613Z",
     "shell.execute_reply": "2022-05-11T00:41:42.674015Z"
    },
    "papermill": {
     "duration": 0.035168,
     "end_time": "2022-05-11T00:41:42.674129",
     "exception": false,
     "start_time": "2022-05-11T00:41:42.638961",
     "status": "completed"
    },
    "tags": []
   },
   "outputs": [],
   "source": [
    "#hide\n",
    "# g.columns = ['date','country','cases']"
   ]
  },
  {
   "cell_type": "code",
   "execution_count": 27,
   "id": "tender-conversion",
   "metadata": {
    "execution": {
     "iopub.execute_input": "2022-05-11T00:41:42.738448Z",
     "iopub.status.busy": "2022-05-11T00:41:42.737872Z",
     "iopub.status.idle": "2022-05-11T00:41:42.740012Z",
     "shell.execute_reply": "2022-05-11T00:41:42.739556Z"
    },
    "papermill": {
     "duration": 0.035266,
     "end_time": "2022-05-11T00:41:42.740132",
     "exception": false,
     "start_time": "2022-05-11T00:41:42.704866",
     "status": "completed"
    },
    "tags": []
   },
   "outputs": [],
   "source": [
    "#hide\n",
    "# g['continent'] = g.country"
   ]
  },
  {
   "cell_type": "code",
   "execution_count": 28,
   "id": "substantial-wilderness",
   "metadata": {
    "execution": {
     "iopub.execute_input": "2022-05-11T00:41:42.805199Z",
     "iopub.status.busy": "2022-05-11T00:41:42.804616Z",
     "iopub.status.idle": "2022-05-11T00:41:42.806240Z",
     "shell.execute_reply": "2022-05-11T00:41:42.806621Z"
    },
    "papermill": {
     "duration": 0.035367,
     "end_time": "2022-05-11T00:41:42.806740",
     "exception": false,
     "start_time": "2022-05-11T00:41:42.771373",
     "status": "completed"
    },
    "tags": []
   },
   "outputs": [],
   "source": [
    "#hide\n",
    "# cols = list(g.columns.values)"
   ]
  },
  {
   "cell_type": "code",
   "execution_count": 29,
   "id": "solved-farming",
   "metadata": {
    "execution": {
     "iopub.execute_input": "2022-05-11T00:41:42.870874Z",
     "iopub.status.busy": "2022-05-11T00:41:42.870261Z",
     "iopub.status.idle": "2022-05-11T00:41:42.872008Z",
     "shell.execute_reply": "2022-05-11T00:41:42.872443Z"
    },
    "papermill": {
     "duration": 0.035499,
     "end_time": "2022-05-11T00:41:42.872579",
     "exception": false,
     "start_time": "2022-05-11T00:41:42.837080",
     "status": "completed"
    },
    "tags": []
   },
   "outputs": [],
   "source": [
    "#hide\n",
    "# cols.insert(0, cols.pop())"
   ]
  },
  {
   "cell_type": "code",
   "execution_count": 30,
   "id": "executed-adoption",
   "metadata": {
    "execution": {
     "iopub.execute_input": "2022-05-11T00:41:42.937314Z",
     "iopub.status.busy": "2022-05-11T00:41:42.936770Z",
     "iopub.status.idle": "2022-05-11T00:41:42.938747Z",
     "shell.execute_reply": "2022-05-11T00:41:42.938350Z"
    },
    "papermill": {
     "duration": 0.035178,
     "end_time": "2022-05-11T00:41:42.938871",
     "exception": false,
     "start_time": "2022-05-11T00:41:42.903693",
     "status": "completed"
    },
    "tags": []
   },
   "outputs": [],
   "source": [
    "#hide\n",
    "# g = g[cols]"
   ]
  },
  {
   "cell_type": "code",
   "execution_count": 31,
   "id": "subject-dublin",
   "metadata": {
    "execution": {
     "iopub.execute_input": "2022-05-11T00:41:43.002960Z",
     "iopub.status.busy": "2022-05-11T00:41:43.002340Z",
     "iopub.status.idle": "2022-05-11T00:41:43.003987Z",
     "shell.execute_reply": "2022-05-11T00:41:43.004448Z"
    },
    "papermill": {
     "duration": 0.03527,
     "end_time": "2022-05-11T00:41:43.004576",
     "exception": false,
     "start_time": "2022-05-11T00:41:42.969306",
     "status": "completed"
    },
    "tags": []
   },
   "outputs": [],
   "source": [
    "#hide\n",
    "# g['continent'] = g['continent'].map(mapping['map.continent'])"
   ]
  },
  {
   "cell_type": "code",
   "execution_count": 32,
   "id": "freelance-scout",
   "metadata": {
    "execution": {
     "iopub.execute_input": "2022-05-11T00:41:43.069412Z",
     "iopub.status.busy": "2022-05-11T00:41:43.068908Z",
     "iopub.status.idle": "2022-05-11T00:41:43.070667Z",
     "shell.execute_reply": "2022-05-11T00:41:43.071072Z"
    },
    "papermill": {
     "duration": 0.035621,
     "end_time": "2022-05-11T00:41:43.071193",
     "exception": false,
     "start_time": "2022-05-11T00:41:43.035572",
     "status": "completed"
    },
    "tags": []
   },
   "outputs": [],
   "source": [
    "#hide\n",
    "# g.head()"
   ]
  },
  {
   "cell_type": "code",
   "execution_count": 33,
   "id": "limited-engine",
   "metadata": {
    "execution": {
     "iopub.execute_input": "2022-05-11T00:41:43.135128Z",
     "iopub.status.busy": "2022-05-11T00:41:43.134506Z",
     "iopub.status.idle": "2022-05-11T00:41:43.136150Z",
     "shell.execute_reply": "2022-05-11T00:41:43.136626Z"
    },
    "papermill": {
     "duration": 0.035295,
     "end_time": "2022-05-11T00:41:43.136758",
     "exception": false,
     "start_time": "2022-05-11T00:41:43.101463",
     "status": "completed"
    },
    "tags": []
   },
   "outputs": [],
   "source": [
    "# hide\n",
    "# g['date'] = g['date'].astype('datetime64[ns]')"
   ]
  },
  {
   "cell_type": "code",
   "execution_count": 34,
   "id": "sophisticated-supervisor",
   "metadata": {
    "execution": {
     "iopub.execute_input": "2022-05-11T00:41:43.201459Z",
     "iopub.status.busy": "2022-05-11T00:41:43.200883Z",
     "iopub.status.idle": "2022-05-11T00:41:43.202988Z",
     "shell.execute_reply": "2022-05-11T00:41:43.202385Z"
    },
    "papermill": {
     "duration": 0.035618,
     "end_time": "2022-05-11T00:41:43.203107",
     "exception": false,
     "start_time": "2022-05-11T00:41:43.167489",
     "status": "completed"
    },
    "tags": []
   },
   "outputs": [],
   "source": [
    "#hide\n",
    "# g['date'] = g.date.dt.dayofyear"
   ]
  },
  {
   "cell_type": "code",
   "execution_count": 35,
   "id": "inside-dubai",
   "metadata": {
    "execution": {
     "iopub.execute_input": "2022-05-11T00:41:43.268242Z",
     "iopub.status.busy": "2022-05-11T00:41:43.267662Z",
     "iopub.status.idle": "2022-05-11T00:41:43.271776Z",
     "shell.execute_reply": "2022-05-11T00:41:43.271351Z"
    },
    "papermill": {
     "duration": 0.037514,
     "end_time": "2022-05-11T00:41:43.271877",
     "exception": false,
     "start_time": "2022-05-11T00:41:43.234363",
     "status": "completed"
    },
    "tags": []
   },
   "outputs": [],
   "source": [
    "#hide\n",
    "# g = g.rename(columns= {'continent':'group','country':'name','cases':'value'})"
   ]
  },
  {
   "cell_type": "code",
   "execution_count": 36,
   "id": "fleet-motorcycle",
   "metadata": {
    "execution": {
     "iopub.execute_input": "2022-05-11T00:41:43.335948Z",
     "iopub.status.busy": "2022-05-11T00:41:43.335449Z",
     "iopub.status.idle": "2022-05-11T00:41:43.337359Z",
     "shell.execute_reply": "2022-05-11T00:41:43.337793Z"
    },
    "papermill": {
     "duration": 0.035523,
     "end_time": "2022-05-11T00:41:43.337907",
     "exception": false,
     "start_time": "2022-05-11T00:41:43.302384",
     "status": "completed"
    },
    "tags": []
   },
   "outputs": [],
   "source": [
    "#hide\n",
    "# cols = ['name','group','day','value']"
   ]
  },
  {
   "cell_type": "code",
   "execution_count": 37,
   "id": "continued-sleeping",
   "metadata": {
    "execution": {
     "iopub.execute_input": "2022-05-11T00:41:43.401850Z",
     "iopub.status.busy": "2022-05-11T00:41:43.401279Z",
     "iopub.status.idle": "2022-05-11T00:41:43.403194Z",
     "shell.execute_reply": "2022-05-11T00:41:43.402682Z"
    },
    "papermill": {
     "duration": 0.034961,
     "end_time": "2022-05-11T00:41:43.403296",
     "exception": false,
     "start_time": "2022-05-11T00:41:43.368335",
     "status": "completed"
    },
    "tags": []
   },
   "outputs": [],
   "source": [
    "#hide\n",
    "# g.rename(columns= {'date':'day'},inplace = True)"
   ]
  },
  {
   "cell_type": "code",
   "execution_count": 38,
   "id": "major-fight",
   "metadata": {
    "execution": {
     "iopub.execute_input": "2022-05-11T00:41:43.466974Z",
     "iopub.status.busy": "2022-05-11T00:41:43.466347Z",
     "iopub.status.idle": "2022-05-11T00:41:43.468061Z",
     "shell.execute_reply": "2022-05-11T00:41:43.468498Z"
    },
    "papermill": {
     "duration": 0.03502,
     "end_time": "2022-05-11T00:41:43.468628",
     "exception": false,
     "start_time": "2022-05-11T00:41:43.433608",
     "status": "completed"
    },
    "tags": []
   },
   "outputs": [],
   "source": [
    "#hide\n",
    "# g = g[cols]"
   ]
  },
  {
   "cell_type": "code",
   "execution_count": 39,
   "id": "structured-mobile",
   "metadata": {
    "execution": {
     "iopub.execute_input": "2022-05-11T00:41:43.532961Z",
     "iopub.status.busy": "2022-05-11T00:41:43.532388Z",
     "iopub.status.idle": "2022-05-11T00:41:43.534460Z",
     "shell.execute_reply": "2022-05-11T00:41:43.533896Z"
    },
    "papermill": {
     "duration": 0.035046,
     "end_time": "2022-05-11T00:41:43.534581",
     "exception": false,
     "start_time": "2022-05-11T00:41:43.499535",
     "status": "completed"
    },
    "tags": []
   },
   "outputs": [],
   "source": [
    "# #hide\n",
    "# g = g[g.group.notna()]"
   ]
  },
  {
   "cell_type": "code",
   "execution_count": 40,
   "id": "determined-closing",
   "metadata": {
    "execution": {
     "iopub.execute_input": "2022-05-11T00:41:43.598658Z",
     "iopub.status.busy": "2022-05-11T00:41:43.598067Z",
     "iopub.status.idle": "2022-05-11T00:41:43.599776Z",
     "shell.execute_reply": "2022-05-11T00:41:43.600212Z"
    },
    "papermill": {
     "duration": 0.035287,
     "end_time": "2022-05-11T00:41:43.600343",
     "exception": false,
     "start_time": "2022-05-11T00:41:43.565056",
     "status": "completed"
    },
    "tags": []
   },
   "outputs": [],
   "source": [
    "# #hide\n",
    "# colors = dict(zip(\n",
    "#     [\"Oceania\", \"Europe\", \"Asia\", \"South America\", \"Middle East\", \"North America\", \"Africa\"],\n",
    "#     [\"#adb0ff\", \"#ffb3ff\", \"#90d595\", \"#e48381\", \"#aafbff\", \"#f7bb5f\", \"#eafb50\"]\n",
    "# ))\n",
    "# group_lk = g.set_index('name')['group'].to_dict()"
   ]
  },
  {
   "cell_type": "code",
   "execution_count": null,
   "id": "gross-drinking",
   "metadata": {
    "papermill": {
     "duration": 0.030188,
     "end_time": "2022-05-11T00:41:43.661342",
     "exception": false,
     "start_time": "2022-05-11T00:41:43.631154",
     "status": "completed"
    },
    "tags": []
   },
   "outputs": [],
   "source": []
  },
  {
   "cell_type": "code",
   "execution_count": 41,
   "id": "subject-macintosh",
   "metadata": {
    "execution": {
     "iopub.execute_input": "2022-05-11T00:41:43.726168Z",
     "iopub.status.busy": "2022-05-11T00:41:43.725576Z",
     "iopub.status.idle": "2022-05-11T00:41:43.727167Z",
     "shell.execute_reply": "2022-05-11T00:41:43.727550Z"
    },
    "papermill": {
     "duration": 0.036047,
     "end_time": "2022-05-11T00:41:43.727666",
     "exception": false,
     "start_time": "2022-05-11T00:41:43.691619",
     "status": "completed"
    },
    "tags": []
   },
   "outputs": [],
   "source": [
    "# #hide\n",
    "# fig, ax = plt.subplots(figsize=(15, 8))\n",
    "\n",
    "# def draw_barchart(current_day):\n",
    "#     dff = g[g['day'].eq(current_day)].sort_values(by='value', ascending=True).tail(10)\n",
    "#     ax.clear()\n",
    "#     ax.barh(dff['name'], dff['value'], color=[colors[group_lk[x]] for x in dff['name']])\n",
    "#     dx = dff['value'].max() / 200\n",
    "    \n",
    "#     for i, (value, name) in enumerate(zip(dff['value'], dff['name'])):\n",
    "#         ax.text(value-dx, i,     name,           size=14, weight=600, ha='right', va='bottom')\n",
    "#         ax.text(value-dx, i-.25, group_lk[name], size=10, color='#444444', ha='right', va='baseline')\n",
    "#         ax.text(value+dx, i,     f'{value:,.0f}',  size=14, ha='left',  va='center')\n",
    "#     ax.text(1, 0.4, current_day, transform=ax.transAxes, color='#777777', size=46, ha='right', weight=800)\n",
    "#     ax.text(0, 1.06, 'Population (thousands)', transform=ax.transAxes, size=12, color='#777777')\n",
    "#     ax.xaxis.set_major_formatter(ticker.StrMethodFormatter('{x:,.0f}'))\n",
    "#     ax.xaxis.set_ticks_position('top')\n",
    "#     ax.tick_params(axis='x', colors='#777777', labelsize=12)\n",
    "#     ax.set_yticks([])\n",
    "#     ax.margins(0, 0.01)\n",
    "#     ax.grid(which='major', axis='x', linestyle='-')\n",
    "#     ax.set_axisbelow(True)\n",
    "    \n",
    "#     ax.text(0, 1.15, 'Coronavirus',\n",
    "#             transform=ax.transAxes, size=24, weight=600, ha='left', va='top')\n",
    "# #     ax.text(1, 0, 'by @pratapvardhan; credit @jburnmurdoch', transform=ax.transAxes, color='#777777', ha='right',\n",
    "# #             bbox=dict(facecolor='white', alpha=0.8, edgecolor='white'))\n",
    "#     plt.box(False)"
   ]
  },
  {
   "cell_type": "code",
   "execution_count": 42,
   "id": "sexual-wages",
   "metadata": {
    "execution": {
     "iopub.execute_input": "2022-05-11T00:41:43.791622Z",
     "iopub.status.busy": "2022-05-11T00:41:43.791032Z",
     "iopub.status.idle": "2022-05-11T00:41:43.793127Z",
     "shell.execute_reply": "2022-05-11T00:41:43.792648Z"
    },
    "papermill": {
     "duration": 0.035389,
     "end_time": "2022-05-11T00:41:43.793241",
     "exception": false,
     "start_time": "2022-05-11T00:41:43.757852",
     "status": "completed"
    },
    "tags": []
   },
   "outputs": [],
   "source": [
    "# #hide_input\n",
    "# fig, ax = plt.subplots(figsize=(15, 8))\n",
    "# animator = animation.FuncAnimation(fig, draw_barchart, frames=range(g.day.values.min(), g.day.values.max()))\n",
    "# HTML(animator.to_jshtml())\n",
    "# # or use animator.to_html5_video() or animator.save() "
   ]
  },
  {
   "cell_type": "code",
   "execution_count": null,
   "id": "australian-container",
   "metadata": {
    "papermill": {
     "duration": 0.030253,
     "end_time": "2022-05-11T00:41:43.854541",
     "exception": false,
     "start_time": "2022-05-11T00:41:43.824288",
     "status": "completed"
    },
    "tags": []
   },
   "outputs": [],
   "source": []
  },
  {
   "cell_type": "code",
   "execution_count": null,
   "id": "mediterranean-pontiac",
   "metadata": {
    "papermill": {
     "duration": 0.03028,
     "end_time": "2022-05-11T00:41:43.915214",
     "exception": false,
     "start_time": "2022-05-11T00:41:43.884934",
     "status": "completed"
    },
    "tags": []
   },
   "outputs": [],
   "source": []
  },
  {
   "cell_type": "code",
   "execution_count": null,
   "id": "aging-legislature",
   "metadata": {
    "papermill": {
     "duration": 0.090342,
     "end_time": "2022-05-11T00:41:44.041258",
     "exception": false,
     "start_time": "2022-05-11T00:41:43.950916",
     "status": "completed"
    },
    "tags": []
   },
   "outputs": [],
   "source": []
  }
 ],
 "metadata": {
  "kernelspec": {
   "display_name": "Python 3",
   "language": "python",
   "name": "python3"
  },
  "language_info": {
   "codemirror_mode": {
    "name": "ipython",
    "version": 3
   },
   "file_extension": ".py",
   "mimetype": "text/x-python",
   "name": "python",
   "nbconvert_exporter": "python",
   "pygments_lexer": "ipython3",
   "version": "3.6.15"
  },
  "papermill": {
   "duration": 6.013837,
   "end_time": "2022-05-11T00:41:44.401420",
   "environment_variables": {},
   "exception": null,
   "input_path": "2020-03-21-covid19exp.ipynb",
   "output_path": "2020-03-21-covid19exp.ipynb",
   "parameters": {},
   "start_time": "2022-05-11T00:41:38.387583",
   "version": "2.0.0"
  }
 },
 "nbformat": 4,
 "nbformat_minor": 5
}