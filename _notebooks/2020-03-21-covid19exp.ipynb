{
 "cells": [
  {
   "cell_type": "markdown",
   "id": "muslim-click",
   "metadata": {
    "papermill": {
     "duration": 0.033637,
     "end_time": "2021-05-18T00:26:22.624940",
     "exception": false,
     "start_time": "2021-05-18T00:26:22.591303",
     "status": "completed"
    },
    "tags": []
   },
   "source": [
    "# COVID-19 Case Race\n",
    "> A race chart to see rising cases around the world\n",
    "\n",
    "- author: Hargun Oberoi\n",
    "- image: images/covid-overview.png\n",
    "- hide: false\n",
    "- badges: false"
   ]
  },
  {
   "cell_type": "code",
   "execution_count": 1,
   "id": "proof-material",
   "metadata": {
    "execution": {
     "iopub.execute_input": "2021-05-18T00:26:22.692122Z",
     "iopub.status.busy": "2021-05-18T00:26:22.691615Z",
     "iopub.status.idle": "2021-05-18T00:26:22.995326Z",
     "shell.execute_reply": "2021-05-18T00:26:22.994845Z"
    },
    "papermill": {
     "duration": 0.340385,
     "end_time": "2021-05-18T00:26:22.995464",
     "exception": false,
     "start_time": "2021-05-18T00:26:22.655079",
     "status": "completed"
    },
    "tags": []
   },
   "outputs": [],
   "source": [
    "#hide\n",
    "import numpy as np\n",
    "import pandas as pd\n",
    "from jinja2 import Template\n",
    "from IPython.display import HTML"
   ]
  },
  {
   "cell_type": "code",
   "execution_count": 2,
   "id": "developed-terminology",
   "metadata": {
    "execution": {
     "iopub.execute_input": "2021-05-18T00:26:23.058494Z",
     "iopub.status.busy": "2021-05-18T00:26:23.057981Z",
     "iopub.status.idle": "2021-05-18T00:26:23.060187Z",
     "shell.execute_reply": "2021-05-18T00:26:23.060653Z"
    },
    "papermill": {
     "duration": 0.035273,
     "end_time": "2021-05-18T00:26:23.060775",
     "exception": false,
     "start_time": "2021-05-18T00:26:23.025502",
     "status": "completed"
    },
    "tags": []
   },
   "outputs": [],
   "source": [
    "#hide\n",
    "\n",
    "# FETCH\n",
    "base_url = 'https://raw.githubusercontent.com/pratapvardhan/notebooks/master/covid19/'\n",
    "paths = {\n",
    "    'mapping': base_url + 'mapping_countries.csv',\n",
    "    'overview': base_url + 'overview.tpl'\n",
    "}"
   ]
  },
  {
   "cell_type": "code",
   "execution_count": 3,
   "id": "dynamic-saver",
   "metadata": {
    "execution": {
     "iopub.execute_input": "2021-05-18T00:26:23.130923Z",
     "iopub.status.busy": "2021-05-18T00:26:23.130183Z",
     "iopub.status.idle": "2021-05-18T00:26:23.134727Z",
     "shell.execute_reply": "2021-05-18T00:26:23.134300Z"
    },
    "papermill": {
     "duration": 0.042935,
     "end_time": "2021-05-18T00:26:23.134824",
     "exception": false,
     "start_time": "2021-05-18T00:26:23.091889",
     "status": "completed"
    },
    "tags": []
   },
   "outputs": [
    {
     "data": {
      "text/plain": [
       "'https://raw.githubusercontent.com/pratapvardhan/notebooks/master/covid19/mapping_countries.csv'"
      ]
     },
     "execution_count": 3,
     "metadata": {},
     "output_type": "execute_result"
    }
   ],
   "source": [
    "#hide\n",
    "paths['mapping']"
   ]
  },
  {
   "cell_type": "code",
   "execution_count": 4,
   "id": "urban-software",
   "metadata": {
    "execution": {
     "iopub.execute_input": "2021-05-18T00:26:23.199260Z",
     "iopub.status.busy": "2021-05-18T00:26:23.198767Z",
     "iopub.status.idle": "2021-05-18T00:26:23.201331Z",
     "shell.execute_reply": "2021-05-18T00:26:23.200818Z"
    },
    "papermill": {
     "duration": 0.036301,
     "end_time": "2021-05-18T00:26:23.201426",
     "exception": false,
     "start_time": "2021-05-18T00:26:23.165125",
     "status": "completed"
    },
    "tags": []
   },
   "outputs": [],
   "source": [
    "#hide\n",
    "def get_mappings(url):\n",
    "    df = pd.read_csv(url)\n",
    "    return {\n",
    "        'df': df,\n",
    "        'replace.country': dict(df.dropna(subset=['Name']).set_index('Country')['Name']),\n",
    "        'map.continent': dict(df.set_index('Name')['Continent'])\n",
    "    }"
   ]
  },
  {
   "cell_type": "code",
   "execution_count": 5,
   "id": "intimate-machinery",
   "metadata": {
    "execution": {
     "iopub.execute_input": "2021-05-18T00:26:23.266276Z",
     "iopub.status.busy": "2021-05-18T00:26:23.265686Z",
     "iopub.status.idle": "2021-05-18T00:26:23.302020Z",
     "shell.execute_reply": "2021-05-18T00:26:23.302511Z"
    },
    "papermill": {
     "duration": 0.071813,
     "end_time": "2021-05-18T00:26:23.302627",
     "exception": false,
     "start_time": "2021-05-18T00:26:23.230814",
     "status": "completed"
    },
    "tags": []
   },
   "outputs": [],
   "source": [
    "#hide\n",
    "mapping = get_mappings(paths['mapping'])"
   ]
  },
  {
   "cell_type": "code",
   "execution_count": 6,
   "id": "certified-tactics",
   "metadata": {
    "execution": {
     "iopub.execute_input": "2021-05-18T00:26:23.371881Z",
     "iopub.status.busy": "2021-05-18T00:26:23.371351Z",
     "iopub.status.idle": "2021-05-18T00:26:23.374196Z",
     "shell.execute_reply": "2021-05-18T00:26:23.373675Z"
    },
    "papermill": {
     "duration": 0.039528,
     "end_time": "2021-05-18T00:26:23.374296",
     "exception": false,
     "start_time": "2021-05-18T00:26:23.334768",
     "status": "completed"
    },
    "tags": []
   },
   "outputs": [],
   "source": [
    "#hide\n",
    "def get_template(path):\n",
    "    from urllib.parse import urlparse\n",
    "    if bool(urlparse(path).netloc):\n",
    "        from urllib.request import urlopen\n",
    "        return urlopen(path).read().decode('utf8')\n",
    "    return open(path).read()"
   ]
  },
  {
   "cell_type": "code",
   "execution_count": 7,
   "id": "realistic-blast",
   "metadata": {
    "execution": {
     "iopub.execute_input": "2021-05-18T00:26:23.438662Z",
     "iopub.status.busy": "2021-05-18T00:26:23.438135Z",
     "iopub.status.idle": "2021-05-18T00:26:23.440349Z",
     "shell.execute_reply": "2021-05-18T00:26:23.439925Z"
    },
    "papermill": {
     "duration": 0.035871,
     "end_time": "2021-05-18T00:26:23.440444",
     "exception": false,
     "start_time": "2021-05-18T00:26:23.404573",
     "status": "completed"
    },
    "tags": []
   },
   "outputs": [],
   "source": [
    "#hide\n",
    "def get_frame(name):\n",
    "    url = (\n",
    "        'https://raw.githubusercontent.com/CSSEGISandData/COVID-19/master/csse_covid_19_data/'\n",
    "        f'csse_covid_19_time_series/time_series_covid19_{name}_global.csv')\n",
    "    df = pd.read_csv(url)\n",
    "    # rename countries\n",
    "    df['Country/Region'] = df['Country/Region'].replace(mapping['replace.country'])\n",
    "    return df"
   ]
  },
  {
   "cell_type": "code",
   "execution_count": 8,
   "id": "affiliated-characterization",
   "metadata": {
    "execution": {
     "iopub.execute_input": "2021-05-18T00:26:23.505149Z",
     "iopub.status.busy": "2021-05-18T00:26:23.504621Z",
     "iopub.status.idle": "2021-05-18T00:26:23.506693Z",
     "shell.execute_reply": "2021-05-18T00:26:23.506266Z"
    },
    "papermill": {
     "duration": 0.036598,
     "end_time": "2021-05-18T00:26:23.506792",
     "exception": false,
     "start_time": "2021-05-18T00:26:23.470194",
     "status": "completed"
    },
    "tags": []
   },
   "outputs": [],
   "source": [
    "#hide\n",
    "def get_dates(df):\n",
    "    dt_cols = df.columns[~df.columns.isin(['Province/State', 'Country/Region', 'Lat', 'Long'])]\n",
    "    LAST_DATE_I = -1\n",
    "    # sometimes last column may be empty, then go backwards\n",
    "    for i in range(-1, -len(dt_cols), -1):\n",
    "        if not df[dt_cols[i]].fillna(0).eq(0).all():\n",
    "            LAST_DATE_I = i\n",
    "            break\n",
    "    return LAST_DATE_I, dt_cols"
   ]
  },
  {
   "cell_type": "code",
   "execution_count": 9,
   "id": "recent-optimization",
   "metadata": {
    "execution": {
     "iopub.execute_input": "2021-05-18T00:26:23.570371Z",
     "iopub.status.busy": "2021-05-18T00:26:23.569853Z",
     "iopub.status.idle": "2021-05-18T00:26:23.911269Z",
     "shell.execute_reply": "2021-05-18T00:26:23.911754Z"
    },
    "papermill": {
     "duration": 0.374668,
     "end_time": "2021-05-18T00:26:23.911925",
     "exception": false,
     "start_time": "2021-05-18T00:26:23.537257",
     "status": "completed"
    },
    "tags": []
   },
   "outputs": [],
   "source": [
    "#hide\n",
    "COL_REGION = 'Country/Region'\n",
    "# Confirmed, Recovered, Deaths\n",
    "df = get_frame('confirmed')\n",
    "# dft_: timeseries, dfc_: today country agg\n",
    "dft_cases = df\n",
    "dft_deaths = get_frame('deaths')\n",
    "dft_recovered = get_frame('recovered')\n",
    "LAST_DATE_I, dt_cols = get_dates(df)"
   ]
  },
  {
   "cell_type": "code",
   "execution_count": 10,
   "id": "absolute-copper",
   "metadata": {
    "execution": {
     "iopub.execute_input": "2021-05-18T00:26:23.979478Z",
     "iopub.status.busy": "2021-05-18T00:26:23.978652Z",
     "iopub.status.idle": "2021-05-18T00:26:23.981148Z",
     "shell.execute_reply": "2021-05-18T00:26:23.981554Z"
    },
    "papermill": {
     "duration": 0.037793,
     "end_time": "2021-05-18T00:26:23.981667",
     "exception": false,
     "start_time": "2021-05-18T00:26:23.943874",
     "status": "completed"
    },
    "tags": []
   },
   "outputs": [],
   "source": [
    "#hide\n",
    "LAST_DATE_I, dt_cols = get_dates(df)\n",
    "dt_today =dt_cols[LAST_DATE_I]\n",
    "# dt_5day = dt_cols[LAST_DATE_I - 5]\n",
    "dt_yday = dt_cols[LAST_DATE_I - 1]"
   ]
  },
  {
   "cell_type": "code",
   "execution_count": 11,
   "id": "restricted-sheriff",
   "metadata": {
    "execution": {
     "iopub.execute_input": "2021-05-18T00:26:24.044362Z",
     "iopub.status.busy": "2021-05-18T00:26:24.043860Z",
     "iopub.status.idle": "2021-05-18T00:26:24.051609Z",
     "shell.execute_reply": "2021-05-18T00:26:24.052104Z"
    },
    "papermill": {
     "duration": 0.041493,
     "end_time": "2021-05-18T00:26:24.052231",
     "exception": false,
     "start_time": "2021-05-18T00:26:24.010738",
     "status": "completed"
    },
    "tags": []
   },
   "outputs": [],
   "source": [
    "#hide\n",
    "dfc_cases = dft_cases.groupby(COL_REGION)[dt_today].sum()\n",
    "dfc_deaths = dft_deaths.groupby(COL_REGION)[dt_today].sum()\n",
    "# dfp_cases = dft_cases.groupby(COL_REGION)[dt_5day].sum()\n",
    "# dfp_deaths = dft_deaths.groupby(COL_REGION)[dt_5day].sum()\n",
    "dfp_cases = dft_cases.groupby(COL_REGION)[dt_yday].sum()\n",
    "dfp_deaths = dft_deaths.groupby(COL_REGION)[dt_yday].sum()"
   ]
  },
  {
   "cell_type": "code",
   "execution_count": 12,
   "id": "deluxe-hepatitis",
   "metadata": {
    "execution": {
     "iopub.execute_input": "2021-05-18T00:26:24.118438Z",
     "iopub.status.busy": "2021-05-18T00:26:24.117945Z",
     "iopub.status.idle": "2021-05-18T00:26:24.124310Z",
     "shell.execute_reply": "2021-05-18T00:26:24.123209Z"
    },
    "papermill": {
     "duration": 0.042236,
     "end_time": "2021-05-18T00:26:24.124431",
     "exception": false,
     "start_time": "2021-05-18T00:26:24.082195",
     "status": "completed"
    },
    "tags": []
   },
   "outputs": [],
   "source": [
    "#hide\n",
    "df_table = (pd.DataFrame(dict(Cases = dfc_cases, Deaths = dfc_deaths, PCases = dfp_cases, PDeaths = dfp_deaths))\n",
    "            .sort_values(by = ['Cases','Deaths'], ascending = [False, False])\n",
    "            .reset_index())"
   ]
  },
  {
   "cell_type": "code",
   "execution_count": 13,
   "id": "educational-chancellor",
   "metadata": {
    "execution": {
     "iopub.execute_input": "2021-05-18T00:26:24.204548Z",
     "iopub.status.busy": "2021-05-18T00:26:24.204051Z",
     "iopub.status.idle": "2021-05-18T00:26:24.211238Z",
     "shell.execute_reply": "2021-05-18T00:26:24.211751Z"
    },
    "papermill": {
     "duration": 0.057365,
     "end_time": "2021-05-18T00:26:24.211895",
     "exception": false,
     "start_time": "2021-05-18T00:26:24.154530",
     "status": "completed"
    },
    "tags": []
   },
   "outputs": [
    {
     "data": {
      "text/html": [
       "<div>\n",
       "<style scoped>\n",
       "    .dataframe tbody tr th:only-of-type {\n",
       "        vertical-align: middle;\n",
       "    }\n",
       "\n",
       "    .dataframe tbody tr th {\n",
       "        vertical-align: top;\n",
       "    }\n",
       "\n",
       "    .dataframe thead th {\n",
       "        text-align: right;\n",
       "    }\n",
       "</style>\n",
       "<table border=\"1\" class=\"dataframe\">\n",
       "  <thead>\n",
       "    <tr style=\"text-align: right;\">\n",
       "      <th></th>\n",
       "      <th>Country/Region</th>\n",
       "      <th>Cases</th>\n",
       "      <th>Deaths</th>\n",
       "      <th>PCases</th>\n",
       "      <th>PDeaths</th>\n",
       "      <th>Cases (+)</th>\n",
       "      <th>Deaths (+)</th>\n",
       "      <th>Fatality Rate</th>\n",
       "      <th>Continent</th>\n",
       "    </tr>\n",
       "  </thead>\n",
       "  <tbody>\n",
       "    <tr>\n",
       "      <th>0</th>\n",
       "      <td>US</td>\n",
       "      <td>32940846</td>\n",
       "      <td>585970</td>\n",
       "      <td>32923982</td>\n",
       "      <td>585708</td>\n",
       "      <td>16864</td>\n",
       "      <td>262</td>\n",
       "      <td>1.78</td>\n",
       "      <td>North America</td>\n",
       "    </tr>\n",
       "    <tr>\n",
       "      <th>1</th>\n",
       "      <td>India</td>\n",
       "      <td>24965463</td>\n",
       "      <td>274390</td>\n",
       "      <td>24684077</td>\n",
       "      <td>270284</td>\n",
       "      <td>281386</td>\n",
       "      <td>4106</td>\n",
       "      <td>1.10</td>\n",
       "      <td>Asia</td>\n",
       "    </tr>\n",
       "    <tr>\n",
       "      <th>2</th>\n",
       "      <td>Brazil</td>\n",
       "      <td>15627243</td>\n",
       "      <td>435751</td>\n",
       "      <td>15586534</td>\n",
       "      <td>434715</td>\n",
       "      <td>40709</td>\n",
       "      <td>1036</td>\n",
       "      <td>2.79</td>\n",
       "      <td>South America</td>\n",
       "    </tr>\n",
       "    <tr>\n",
       "      <th>3</th>\n",
       "      <td>France</td>\n",
       "      <td>5939019</td>\n",
       "      <td>107777</td>\n",
       "      <td>5925071</td>\n",
       "      <td>107696</td>\n",
       "      <td>13948</td>\n",
       "      <td>81</td>\n",
       "      <td>1.81</td>\n",
       "      <td>Europe</td>\n",
       "    </tr>\n",
       "    <tr>\n",
       "      <th>4</th>\n",
       "      <td>Turkey</td>\n",
       "      <td>5117374</td>\n",
       "      <td>44760</td>\n",
       "      <td>5106862</td>\n",
       "      <td>44537</td>\n",
       "      <td>10512</td>\n",
       "      <td>223</td>\n",
       "      <td>0.87</td>\n",
       "      <td>Asia</td>\n",
       "    </tr>\n",
       "  </tbody>\n",
       "</table>\n",
       "</div>"
      ],
      "text/plain": [
       "  Country/Region     Cases  Deaths    PCases  PDeaths  Cases (+)  Deaths (+)  \\\n",
       "0             US  32940846  585970  32923982   585708      16864         262   \n",
       "1          India  24965463  274390  24684077   270284     281386        4106   \n",
       "2         Brazil  15627243  435751  15586534   434715      40709        1036   \n",
       "3         France   5939019  107777   5925071   107696      13948          81   \n",
       "4         Turkey   5117374   44760   5106862    44537      10512         223   \n",
       "\n",
       "   Fatality Rate      Continent  \n",
       "0           1.78  North America  \n",
       "1           1.10           Asia  \n",
       "2           2.79  South America  \n",
       "3           1.81         Europe  \n",
       "4           0.87           Asia  "
      ]
     },
     "execution_count": 13,
     "metadata": {},
     "output_type": "execute_result"
    }
   ],
   "source": [
    "#hide\n",
    "for c in 'Cases, Deaths'.split(', '):\n",
    "    df_table[f'{c} (+)'] = (df_table[c] - df_table[f'P{c}']).clip(0)\n",
    "    #Clip ça veut dire, les chiffres negatif sont interdit\n",
    "df_table['Fatality Rate'] = (100* df_table['Deaths']/ df_table['Cases']).round(2)\n",
    "df_table['Continent'] = df_table['Country/Region'].map(mapping['map.continent'])\n",
    "df_table.head(5)"
   ]
  },
  {
   "cell_type": "code",
   "execution_count": 14,
   "id": "aboriginal-bulgaria",
   "metadata": {
    "execution": {
     "iopub.execute_input": "2021-05-18T00:26:24.278822Z",
     "iopub.status.busy": "2021-05-18T00:26:24.278293Z",
     "iopub.status.idle": "2021-05-18T00:26:24.281401Z",
     "shell.execute_reply": "2021-05-18T00:26:24.280932Z"
    },
    "papermill": {
     "duration": 0.037084,
     "end_time": "2021-05-18T00:26:24.281503",
     "exception": false,
     "start_time": "2021-05-18T00:26:24.244419",
     "status": "completed"
    },
    "tags": []
   },
   "outputs": [],
   "source": [
    "#hide\n",
    "#delete problematic countries from table\n",
    "df_table = df_table[~df_table['Country/Region'].isin(['Cape Verde', 'Cruise Ship', 'Kosovo'])]"
   ]
  },
  {
   "cell_type": "code",
   "execution_count": 15,
   "id": "fantastic-effect",
   "metadata": {
    "execution": {
     "iopub.execute_input": "2021-05-18T00:26:24.349512Z",
     "iopub.status.busy": "2021-05-18T00:26:24.348978Z",
     "iopub.status.idle": "2021-05-18T00:26:24.368362Z",
     "shell.execute_reply": "2021-05-18T00:26:24.367938Z"
    },
    "papermill": {
     "duration": 0.056753,
     "end_time": "2021-05-18T00:26:24.368457",
     "exception": false,
     "start_time": "2021-05-18T00:26:24.311704",
     "status": "completed"
    },
    "tags": []
   },
   "outputs": [
    {
     "data": {
      "text/html": [
       "<div>\n",
       "<style scoped>\n",
       "    .dataframe tbody tr th:only-of-type {\n",
       "        vertical-align: middle;\n",
       "    }\n",
       "\n",
       "    .dataframe tbody tr th {\n",
       "        vertical-align: top;\n",
       "    }\n",
       "\n",
       "    .dataframe thead th {\n",
       "        text-align: right;\n",
       "    }\n",
       "</style>\n",
       "<table border=\"1\" class=\"dataframe\">\n",
       "  <thead>\n",
       "    <tr style=\"text-align: right;\">\n",
       "      <th></th>\n",
       "      <th>Country/Region</th>\n",
       "      <th>Cases</th>\n",
       "      <th>Deaths</th>\n",
       "      <th>PCases</th>\n",
       "      <th>PDeaths</th>\n",
       "      <th>Cases (+)</th>\n",
       "      <th>Deaths (+)</th>\n",
       "      <th>Fatality Rate</th>\n",
       "      <th>Continent</th>\n",
       "    </tr>\n",
       "  </thead>\n",
       "  <tbody>\n",
       "    <tr>\n",
       "      <th>0</th>\n",
       "      <td>US</td>\n",
       "      <td>32940846</td>\n",
       "      <td>585970</td>\n",
       "      <td>32923982</td>\n",
       "      <td>585708</td>\n",
       "      <td>16864</td>\n",
       "      <td>262</td>\n",
       "      <td>1.8</td>\n",
       "      <td>North America</td>\n",
       "    </tr>\n",
       "    <tr>\n",
       "      <th>1</th>\n",
       "      <td>India</td>\n",
       "      <td>24965463</td>\n",
       "      <td>274390</td>\n",
       "      <td>24684077</td>\n",
       "      <td>270284</td>\n",
       "      <td>281386</td>\n",
       "      <td>4106</td>\n",
       "      <td>1.1</td>\n",
       "      <td>Asia</td>\n",
       "    </tr>\n",
       "    <tr>\n",
       "      <th>2</th>\n",
       "      <td>Brazil</td>\n",
       "      <td>15627243</td>\n",
       "      <td>435751</td>\n",
       "      <td>15586534</td>\n",
       "      <td>434715</td>\n",
       "      <td>40709</td>\n",
       "      <td>1036</td>\n",
       "      <td>2.8</td>\n",
       "      <td>South America</td>\n",
       "    </tr>\n",
       "    <tr>\n",
       "      <th>3</th>\n",
       "      <td>France</td>\n",
       "      <td>5939019</td>\n",
       "      <td>107777</td>\n",
       "      <td>5925071</td>\n",
       "      <td>107696</td>\n",
       "      <td>13948</td>\n",
       "      <td>81</td>\n",
       "      <td>1.8</td>\n",
       "      <td>Europe</td>\n",
       "    </tr>\n",
       "    <tr>\n",
       "      <th>4</th>\n",
       "      <td>Turkey</td>\n",
       "      <td>5117374</td>\n",
       "      <td>44760</td>\n",
       "      <td>5106862</td>\n",
       "      <td>44537</td>\n",
       "      <td>10512</td>\n",
       "      <td>223</td>\n",
       "      <td>0.9</td>\n",
       "      <td>Asia</td>\n",
       "    </tr>\n",
       "  </tbody>\n",
       "</table>\n",
       "</div>"
      ],
      "text/plain": [
       "  Country/Region     Cases  Deaths    PCases  PDeaths  Cases (+)  Deaths (+)  \\\n",
       "0             US  32940846  585970  32923982   585708      16864         262   \n",
       "1          India  24965463  274390  24684077   270284     281386        4106   \n",
       "2         Brazil  15627243  435751  15586534   434715      40709        1036   \n",
       "3         France   5939019  107777   5925071   107696      13948          81   \n",
       "4         Turkey   5117374   44760   5106862    44537      10512         223   \n",
       "\n",
       "   Fatality Rate      Continent  \n",
       "0            1.8  North America  \n",
       "1            1.1           Asia  \n",
       "2            2.8  South America  \n",
       "3            1.8         Europe  \n",
       "4            0.9           Asia  "
      ]
     },
     "execution_count": 15,
     "metadata": {},
     "output_type": "execute_result"
    }
   ],
   "source": [
    "#hide\n",
    "df_table = (pd.DataFrame(dict(Cases=dfc_cases, Deaths=dfc_deaths, PCases=dfp_cases, PDeaths=dfp_deaths))\n",
    "             .sort_values(by=['Cases', 'Deaths'], ascending=[False, False])\n",
    "             .reset_index())\n",
    "df_table.rename(columns={'index': 'Country/Region'}, inplace=True)\n",
    "for c in 'Cases, Deaths'.split(', '):\n",
    "    df_table[f'{c} (+)'] = (df_table[c] - df_table[f'P{c}']).clip(0)  # DATA BUG\n",
    "df_table['Fatality Rate'] = (100 * df_table['Deaths'] / df_table['Cases']).round(1)\n",
    "df_table['Continent'] = df_table['Country/Region'].map(mapping['map.continent'])\n",
    "df_table.head(5)"
   ]
  },
  {
   "cell_type": "code",
   "execution_count": 16,
   "id": "fewer-occasion",
   "metadata": {
    "execution": {
     "iopub.execute_input": "2021-05-18T00:26:24.434318Z",
     "iopub.status.busy": "2021-05-18T00:26:24.433589Z",
     "iopub.status.idle": "2021-05-18T00:26:24.436592Z",
     "shell.execute_reply": "2021-05-18T00:26:24.436094Z"
    },
    "papermill": {
     "duration": 0.037513,
     "end_time": "2021-05-18T00:26:24.436713",
     "exception": false,
     "start_time": "2021-05-18T00:26:24.399200",
     "status": "completed"
    },
    "tags": []
   },
   "outputs": [],
   "source": [
    "#hide\n",
    "#delete problematic countries from table\n",
    "df_table = df_table[~df_table['Country/Region'].isin(['Cape Verde', 'Cruise Ship', 'Kosovo'])]"
   ]
  },
  {
   "cell_type": "code",
   "execution_count": 17,
   "id": "related-center",
   "metadata": {
    "execution": {
     "iopub.execute_input": "2021-05-18T00:26:24.508433Z",
     "iopub.status.busy": "2021-05-18T00:26:24.507940Z",
     "iopub.status.idle": "2021-05-18T00:26:24.515102Z",
     "shell.execute_reply": "2021-05-18T00:26:24.515741Z"
    },
    "papermill": {
     "duration": 0.048496,
     "end_time": "2021-05-18T00:26:24.515850",
     "exception": false,
     "start_time": "2021-05-18T00:26:24.467354",
     "status": "completed"
    },
    "tags": []
   },
   "outputs": [],
   "source": [
    "#hide\n",
    "metrics = [df_table.columns[index] for index in [1,2,5,6]]\n",
    "# s_china = df_table[df_table['Country/Region'].eq('China')][metrics].sum().add_prefix('China ')\n",
    "s_us = df_table[df_table['Country/Region'].eq('US')][metrics].sum().add_prefix('US ')\n",
    "s_eu = df_table[df_table['Continent'].eq('Europe')][metrics].sum().add_prefix('EU ')\n",
    "s_ind = df_table[df_table['Country/Region'].eq('India')][metrics].sum().add_prefix('India ')\n",
    "summary = {'updated': pd.to_datetime(dt_today), 'since': pd.to_datetime(dt_yday)}\n",
    "summary = {'updated': pd.to_datetime(dt_today), 'since': pd.to_datetime(dt_yday)}\n",
    "summary = {**summary, **df_table[metrics].sum(), **s_ind, **s_us, **s_eu}"
   ]
  },
  {
   "cell_type": "code",
   "execution_count": 18,
   "id": "engaging-syndrome",
   "metadata": {
    "execution": {
     "iopub.execute_input": "2021-05-18T00:26:24.580160Z",
     "iopub.status.busy": "2021-05-18T00:26:24.579648Z",
     "iopub.status.idle": "2021-05-18T00:26:24.589521Z",
     "shell.execute_reply": "2021-05-18T00:26:24.589910Z"
    },
    "papermill": {
     "duration": 0.043803,
     "end_time": "2021-05-18T00:26:24.590026",
     "exception": false,
     "start_time": "2021-05-18T00:26:24.546223",
     "status": "completed"
    },
    "tags": []
   },
   "outputs": [],
   "source": [
    "#hide\n",
    "dft_ct_new_cases = dft_cases.groupby(COL_REGION)[dt_cols].sum().diff(axis=1).fillna(0).astype(int)"
   ]
  },
  {
   "cell_type": "code",
   "execution_count": 19,
   "id": "neutral-assignment",
   "metadata": {
    "execution": {
     "iopub.execute_input": "2021-05-18T00:26:24.657118Z",
     "iopub.status.busy": "2021-05-18T00:26:24.656387Z",
     "iopub.status.idle": "2021-05-18T00:26:24.658420Z",
     "shell.execute_reply": "2021-05-18T00:26:24.658845Z"
    },
    "papermill": {
     "duration": 0.037937,
     "end_time": "2021-05-18T00:26:24.658960",
     "exception": false,
     "start_time": "2021-05-18T00:26:24.621023",
     "status": "completed"
    },
    "tags": []
   },
   "outputs": [],
   "source": [
    "#hide\n",
    "everydaycases = dft_ct_new_cases.cumsum(axis=1)"
   ]
  },
  {
   "cell_type": "code",
   "execution_count": 20,
   "id": "parliamentary-calgary",
   "metadata": {
    "execution": {
     "iopub.execute_input": "2021-05-18T00:26:24.723812Z",
     "iopub.status.busy": "2021-05-18T00:26:24.723309Z",
     "iopub.status.idle": "2021-05-18T00:26:25.193337Z",
     "shell.execute_reply": "2021-05-18T00:26:25.192581Z"
    },
    "papermill": {
     "duration": 0.50345,
     "end_time": "2021-05-18T00:26:25.193519",
     "exception": false,
     "start_time": "2021-05-18T00:26:24.690069",
     "status": "completed"
    },
    "tags": []
   },
   "outputs": [],
   "source": [
    "#hide\n",
    "import pandas as pd\n",
    "import matplotlib.pyplot as plt\n",
    "import matplotlib.ticker as ticker\n",
    "import matplotlib.animation as animation\n",
    "from IPython.display import HTML"
   ]
  },
  {
   "cell_type": "code",
   "execution_count": 21,
   "id": "lasting-extraction",
   "metadata": {
    "execution": {
     "iopub.execute_input": "2021-05-18T00:26:25.259418Z",
     "iopub.status.busy": "2021-05-18T00:26:25.258899Z",
     "iopub.status.idle": "2021-05-18T00:26:25.263121Z",
     "shell.execute_reply": "2021-05-18T00:26:25.263807Z"
    },
    "papermill": {
     "duration": 0.039195,
     "end_time": "2021-05-18T00:26:25.263950",
     "exception": false,
     "start_time": "2021-05-18T00:26:25.224755",
     "status": "completed"
    },
    "tags": []
   },
   "outputs": [],
   "source": [
    "#hide\n",
    "t = everydaycases.stack()"
   ]
  },
  {
   "cell_type": "code",
   "execution_count": 22,
   "id": "premier-sleeve",
   "metadata": {
    "execution": {
     "iopub.execute_input": "2021-05-18T00:26:25.327984Z",
     "iopub.status.busy": "2021-05-18T00:26:25.327489Z",
     "iopub.status.idle": "2021-05-18T00:26:25.333570Z",
     "shell.execute_reply": "2021-05-18T00:26:25.334043Z"
    },
    "papermill": {
     "duration": 0.039874,
     "end_time": "2021-05-18T00:26:25.334149",
     "exception": false,
     "start_time": "2021-05-18T00:26:25.294275",
     "status": "completed"
    },
    "tags": []
   },
   "outputs": [],
   "source": [
    "#hide\n",
    "g = t.reset_index(['Country/Region'])"
   ]
  },
  {
   "cell_type": "code",
   "execution_count": 23,
   "id": "distributed-pittsburgh",
   "metadata": {
    "execution": {
     "iopub.execute_input": "2021-05-18T00:26:25.397876Z",
     "iopub.status.busy": "2021-05-18T00:26:25.397384Z",
     "iopub.status.idle": "2021-05-18T00:26:25.399548Z",
     "shell.execute_reply": "2021-05-18T00:26:25.399104Z"
    },
    "papermill": {
     "duration": 0.03563,
     "end_time": "2021-05-18T00:26:25.399644",
     "exception": false,
     "start_time": "2021-05-18T00:26:25.364014",
     "status": "completed"
    },
    "tags": []
   },
   "outputs": [],
   "source": [
    "#hide\n",
    "g.index.name = 'date'"
   ]
  },
  {
   "cell_type": "code",
   "execution_count": 24,
   "id": "naked-donor",
   "metadata": {
    "execution": {
     "iopub.execute_input": "2021-05-18T00:26:25.462834Z",
     "iopub.status.busy": "2021-05-18T00:26:25.462338Z",
     "iopub.status.idle": "2021-05-18T00:26:25.464607Z",
     "shell.execute_reply": "2021-05-18T00:26:25.464185Z"
    },
    "papermill": {
     "duration": 0.034999,
     "end_time": "2021-05-18T00:26:25.464702",
     "exception": false,
     "start_time": "2021-05-18T00:26:25.429703",
     "status": "completed"
    },
    "tags": []
   },
   "outputs": [],
   "source": [
    "# #hide\n",
    "# g = g.reset_index(['date'])"
   ]
  },
  {
   "cell_type": "code",
   "execution_count": 25,
   "id": "incomplete-mustang",
   "metadata": {
    "execution": {
     "iopub.execute_input": "2021-05-18T00:26:25.527996Z",
     "iopub.status.busy": "2021-05-18T00:26:25.527506Z",
     "iopub.status.idle": "2021-05-18T00:26:25.529122Z",
     "shell.execute_reply": "2021-05-18T00:26:25.529600Z"
    },
    "papermill": {
     "duration": 0.034848,
     "end_time": "2021-05-18T00:26:25.529707",
     "exception": false,
     "start_time": "2021-05-18T00:26:25.494859",
     "status": "completed"
    },
    "tags": []
   },
   "outputs": [],
   "source": [
    "#hide\n",
    "# g.head()"
   ]
  },
  {
   "cell_type": "code",
   "execution_count": 26,
   "id": "specific-kruger",
   "metadata": {
    "execution": {
     "iopub.execute_input": "2021-05-18T00:26:25.596229Z",
     "iopub.status.busy": "2021-05-18T00:26:25.595712Z",
     "iopub.status.idle": "2021-05-18T00:26:25.597970Z",
     "shell.execute_reply": "2021-05-18T00:26:25.598400Z"
    },
    "papermill": {
     "duration": 0.038583,
     "end_time": "2021-05-18T00:26:25.598515",
     "exception": false,
     "start_time": "2021-05-18T00:26:25.559932",
     "status": "completed"
    },
    "tags": []
   },
   "outputs": [],
   "source": [
    "#hide\n",
    "# g.columns = ['date','country','cases']"
   ]
  },
  {
   "cell_type": "code",
   "execution_count": 27,
   "id": "tender-conversion",
   "metadata": {
    "execution": {
     "iopub.execute_input": "2021-05-18T00:26:25.669590Z",
     "iopub.status.busy": "2021-05-18T00:26:25.669056Z",
     "iopub.status.idle": "2021-05-18T00:26:25.670885Z",
     "shell.execute_reply": "2021-05-18T00:26:25.671316Z"
    },
    "papermill": {
     "duration": 0.037095,
     "end_time": "2021-05-18T00:26:25.671435",
     "exception": false,
     "start_time": "2021-05-18T00:26:25.634340",
     "status": "completed"
    },
    "tags": []
   },
   "outputs": [],
   "source": [
    "#hide\n",
    "# g['continent'] = g.country"
   ]
  },
  {
   "cell_type": "code",
   "execution_count": 28,
   "id": "substantial-wilderness",
   "metadata": {
    "execution": {
     "iopub.execute_input": "2021-05-18T00:26:25.735062Z",
     "iopub.status.busy": "2021-05-18T00:26:25.734561Z",
     "iopub.status.idle": "2021-05-18T00:26:25.736762Z",
     "shell.execute_reply": "2021-05-18T00:26:25.736331Z"
    },
    "papermill": {
     "duration": 0.034817,
     "end_time": "2021-05-18T00:26:25.736862",
     "exception": false,
     "start_time": "2021-05-18T00:26:25.702045",
     "status": "completed"
    },
    "tags": []
   },
   "outputs": [],
   "source": [
    "#hide\n",
    "# cols = list(g.columns.values)"
   ]
  },
  {
   "cell_type": "code",
   "execution_count": 29,
   "id": "solved-farming",
   "metadata": {
    "execution": {
     "iopub.execute_input": "2021-05-18T00:26:25.802857Z",
     "iopub.status.busy": "2021-05-18T00:26:25.802366Z",
     "iopub.status.idle": "2021-05-18T00:26:25.804619Z",
     "shell.execute_reply": "2021-05-18T00:26:25.804198Z"
    },
    "papermill": {
     "duration": 0.036111,
     "end_time": "2021-05-18T00:26:25.804715",
     "exception": false,
     "start_time": "2021-05-18T00:26:25.768604",
     "status": "completed"
    },
    "tags": []
   },
   "outputs": [],
   "source": [
    "#hide\n",
    "# cols.insert(0, cols.pop())"
   ]
  },
  {
   "cell_type": "code",
   "execution_count": 30,
   "id": "executed-adoption",
   "metadata": {
    "execution": {
     "iopub.execute_input": "2021-05-18T00:26:25.868333Z",
     "iopub.status.busy": "2021-05-18T00:26:25.867840Z",
     "iopub.status.idle": "2021-05-18T00:26:25.870054Z",
     "shell.execute_reply": "2021-05-18T00:26:25.869631Z"
    },
    "papermill": {
     "duration": 0.03498,
     "end_time": "2021-05-18T00:26:25.870150",
     "exception": false,
     "start_time": "2021-05-18T00:26:25.835170",
     "status": "completed"
    },
    "tags": []
   },
   "outputs": [],
   "source": [
    "#hide\n",
    "# g = g[cols]"
   ]
  },
  {
   "cell_type": "code",
   "execution_count": 31,
   "id": "subject-dublin",
   "metadata": {
    "execution": {
     "iopub.execute_input": "2021-05-18T00:26:25.932981Z",
     "iopub.status.busy": "2021-05-18T00:26:25.932472Z",
     "iopub.status.idle": "2021-05-18T00:26:25.934665Z",
     "shell.execute_reply": "2021-05-18T00:26:25.934238Z"
    },
    "papermill": {
     "duration": 0.034742,
     "end_time": "2021-05-18T00:26:25.934763",
     "exception": false,
     "start_time": "2021-05-18T00:26:25.900021",
     "status": "completed"
    },
    "tags": []
   },
   "outputs": [],
   "source": [
    "#hide\n",
    "# g['continent'] = g['continent'].map(mapping['map.continent'])"
   ]
  },
  {
   "cell_type": "code",
   "execution_count": 32,
   "id": "freelance-scout",
   "metadata": {
    "execution": {
     "iopub.execute_input": "2021-05-18T00:26:25.998365Z",
     "iopub.status.busy": "2021-05-18T00:26:25.997866Z",
     "iopub.status.idle": "2021-05-18T00:26:25.999686Z",
     "shell.execute_reply": "2021-05-18T00:26:26.000073Z"
    },
    "papermill": {
     "duration": 0.035247,
     "end_time": "2021-05-18T00:26:26.000184",
     "exception": false,
     "start_time": "2021-05-18T00:26:25.964937",
     "status": "completed"
    },
    "tags": []
   },
   "outputs": [],
   "source": [
    "#hide\n",
    "# g.head()"
   ]
  },
  {
   "cell_type": "code",
   "execution_count": 33,
   "id": "limited-engine",
   "metadata": {
    "execution": {
     "iopub.execute_input": "2021-05-18T00:26:26.065697Z",
     "iopub.status.busy": "2021-05-18T00:26:26.065133Z",
     "iopub.status.idle": "2021-05-18T00:26:26.066842Z",
     "shell.execute_reply": "2021-05-18T00:26:26.067341Z"
    },
    "papermill": {
     "duration": 0.037073,
     "end_time": "2021-05-18T00:26:26.067469",
     "exception": false,
     "start_time": "2021-05-18T00:26:26.030396",
     "status": "completed"
    },
    "tags": []
   },
   "outputs": [],
   "source": [
    "# hide\n",
    "# g['date'] = g['date'].astype('datetime64[ns]')"
   ]
  },
  {
   "cell_type": "code",
   "execution_count": 34,
   "id": "sophisticated-supervisor",
   "metadata": {
    "execution": {
     "iopub.execute_input": "2021-05-18T00:26:26.132952Z",
     "iopub.status.busy": "2021-05-18T00:26:26.132392Z",
     "iopub.status.idle": "2021-05-18T00:26:26.134253Z",
     "shell.execute_reply": "2021-05-18T00:26:26.134663Z"
    },
    "papermill": {
     "duration": 0.035778,
     "end_time": "2021-05-18T00:26:26.134770",
     "exception": false,
     "start_time": "2021-05-18T00:26:26.098992",
     "status": "completed"
    },
    "tags": []
   },
   "outputs": [],
   "source": [
    "#hide\n",
    "# g['date'] = g.date.dt.dayofyear"
   ]
  },
  {
   "cell_type": "code",
   "execution_count": 35,
   "id": "inside-dubai",
   "metadata": {
    "execution": {
     "iopub.execute_input": "2021-05-18T00:26:26.199270Z",
     "iopub.status.busy": "2021-05-18T00:26:26.198765Z",
     "iopub.status.idle": "2021-05-18T00:26:26.200950Z",
     "shell.execute_reply": "2021-05-18T00:26:26.200521Z"
    },
    "papermill": {
     "duration": 0.034898,
     "end_time": "2021-05-18T00:26:26.201045",
     "exception": false,
     "start_time": "2021-05-18T00:26:26.166147",
     "status": "completed"
    },
    "tags": []
   },
   "outputs": [],
   "source": [
    "#hide\n",
    "# g = g.rename(columns= {'continent':'group','country':'name','cases':'value'})"
   ]
  },
  {
   "cell_type": "code",
   "execution_count": 36,
   "id": "fleet-motorcycle",
   "metadata": {
    "execution": {
     "iopub.execute_input": "2021-05-18T00:26:26.273046Z",
     "iopub.status.busy": "2021-05-18T00:26:26.272479Z",
     "iopub.status.idle": "2021-05-18T00:26:26.274726Z",
     "shell.execute_reply": "2021-05-18T00:26:26.274297Z"
    },
    "papermill": {
     "duration": 0.041208,
     "end_time": "2021-05-18T00:26:26.274825",
     "exception": false,
     "start_time": "2021-05-18T00:26:26.233617",
     "status": "completed"
    },
    "tags": []
   },
   "outputs": [],
   "source": [
    "#hide\n",
    "# cols = ['name','group','day','value']"
   ]
  },
  {
   "cell_type": "code",
   "execution_count": 37,
   "id": "continued-sleeping",
   "metadata": {
    "execution": {
     "iopub.execute_input": "2021-05-18T00:26:26.341635Z",
     "iopub.status.busy": "2021-05-18T00:26:26.341112Z",
     "iopub.status.idle": "2021-05-18T00:26:26.342952Z",
     "shell.execute_reply": "2021-05-18T00:26:26.343405Z"
    },
    "papermill": {
     "duration": 0.03751,
     "end_time": "2021-05-18T00:26:26.343513",
     "exception": false,
     "start_time": "2021-05-18T00:26:26.306003",
     "status": "completed"
    },
    "tags": []
   },
   "outputs": [],
   "source": [
    "#hide\n",
    "# g.rename(columns= {'date':'day'},inplace = True)"
   ]
  },
  {
   "cell_type": "code",
   "execution_count": 38,
   "id": "major-fight",
   "metadata": {
    "execution": {
     "iopub.execute_input": "2021-05-18T00:26:26.407921Z",
     "iopub.status.busy": "2021-05-18T00:26:26.407364Z",
     "iopub.status.idle": "2021-05-18T00:26:26.409553Z",
     "shell.execute_reply": "2021-05-18T00:26:26.409130Z"
    },
    "papermill": {
     "duration": 0.035708,
     "end_time": "2021-05-18T00:26:26.409648",
     "exception": false,
     "start_time": "2021-05-18T00:26:26.373940",
     "status": "completed"
    },
    "tags": []
   },
   "outputs": [],
   "source": [
    "#hide\n",
    "# g = g[cols]"
   ]
  },
  {
   "cell_type": "code",
   "execution_count": 39,
   "id": "structured-mobile",
   "metadata": {
    "execution": {
     "iopub.execute_input": "2021-05-18T00:26:26.473643Z",
     "iopub.status.busy": "2021-05-18T00:26:26.472895Z",
     "iopub.status.idle": "2021-05-18T00:26:26.475150Z",
     "shell.execute_reply": "2021-05-18T00:26:26.475651Z"
    },
    "papermill": {
     "duration": 0.036049,
     "end_time": "2021-05-18T00:26:26.475763",
     "exception": false,
     "start_time": "2021-05-18T00:26:26.439714",
     "status": "completed"
    },
    "tags": []
   },
   "outputs": [],
   "source": [
    "# #hide\n",
    "# g = g[g.group.notna()]"
   ]
  },
  {
   "cell_type": "code",
   "execution_count": 40,
   "id": "determined-closing",
   "metadata": {
    "execution": {
     "iopub.execute_input": "2021-05-18T00:26:26.540404Z",
     "iopub.status.busy": "2021-05-18T00:26:26.539869Z",
     "iopub.status.idle": "2021-05-18T00:26:26.542147Z",
     "shell.execute_reply": "2021-05-18T00:26:26.541709Z"
    },
    "papermill": {
     "duration": 0.035394,
     "end_time": "2021-05-18T00:26:26.542248",
     "exception": false,
     "start_time": "2021-05-18T00:26:26.506854",
     "status": "completed"
    },
    "tags": []
   },
   "outputs": [],
   "source": [
    "# #hide\n",
    "# colors = dict(zip(\n",
    "#     [\"Oceania\", \"Europe\", \"Asia\", \"South America\", \"Middle East\", \"North America\", \"Africa\"],\n",
    "#     [\"#adb0ff\", \"#ffb3ff\", \"#90d595\", \"#e48381\", \"#aafbff\", \"#f7bb5f\", \"#eafb50\"]\n",
    "# ))\n",
    "# group_lk = g.set_index('name')['group'].to_dict()"
   ]
  },
  {
   "cell_type": "code",
   "execution_count": null,
   "id": "gross-drinking",
   "metadata": {
    "papermill": {
     "duration": 0.031219,
     "end_time": "2021-05-18T00:26:26.605280",
     "exception": false,
     "start_time": "2021-05-18T00:26:26.574061",
     "status": "completed"
    },
    "tags": []
   },
   "outputs": [],
   "source": []
  },
  {
   "cell_type": "code",
   "execution_count": 41,
   "id": "subject-macintosh",
   "metadata": {
    "execution": {
     "iopub.execute_input": "2021-05-18T00:26:26.672597Z",
     "iopub.status.busy": "2021-05-18T00:26:26.672084Z",
     "iopub.status.idle": "2021-05-18T00:26:26.673875Z",
     "shell.execute_reply": "2021-05-18T00:26:26.674261Z"
    },
    "papermill": {
     "duration": 0.038084,
     "end_time": "2021-05-18T00:26:26.674373",
     "exception": false,
     "start_time": "2021-05-18T00:26:26.636289",
     "status": "completed"
    },
    "tags": []
   },
   "outputs": [],
   "source": [
    "# #hide\n",
    "# fig, ax = plt.subplots(figsize=(15, 8))\n",
    "\n",
    "# def draw_barchart(current_day):\n",
    "#     dff = g[g['day'].eq(current_day)].sort_values(by='value', ascending=True).tail(10)\n",
    "#     ax.clear()\n",
    "#     ax.barh(dff['name'], dff['value'], color=[colors[group_lk[x]] for x in dff['name']])\n",
    "#     dx = dff['value'].max() / 200\n",
    "    \n",
    "#     for i, (value, name) in enumerate(zip(dff['value'], dff['name'])):\n",
    "#         ax.text(value-dx, i,     name,           size=14, weight=600, ha='right', va='bottom')\n",
    "#         ax.text(value-dx, i-.25, group_lk[name], size=10, color='#444444', ha='right', va='baseline')\n",
    "#         ax.text(value+dx, i,     f'{value:,.0f}',  size=14, ha='left',  va='center')\n",
    "#     ax.text(1, 0.4, current_day, transform=ax.transAxes, color='#777777', size=46, ha='right', weight=800)\n",
    "#     ax.text(0, 1.06, 'Population (thousands)', transform=ax.transAxes, size=12, color='#777777')\n",
    "#     ax.xaxis.set_major_formatter(ticker.StrMethodFormatter('{x:,.0f}'))\n",
    "#     ax.xaxis.set_ticks_position('top')\n",
    "#     ax.tick_params(axis='x', colors='#777777', labelsize=12)\n",
    "#     ax.set_yticks([])\n",
    "#     ax.margins(0, 0.01)\n",
    "#     ax.grid(which='major', axis='x', linestyle='-')\n",
    "#     ax.set_axisbelow(True)\n",
    "    \n",
    "#     ax.text(0, 1.15, 'Coronavirus',\n",
    "#             transform=ax.transAxes, size=24, weight=600, ha='left', va='top')\n",
    "# #     ax.text(1, 0, 'by @pratapvardhan; credit @jburnmurdoch', transform=ax.transAxes, color='#777777', ha='right',\n",
    "# #             bbox=dict(facecolor='white', alpha=0.8, edgecolor='white'))\n",
    "#     plt.box(False)"
   ]
  },
  {
   "cell_type": "code",
   "execution_count": 42,
   "id": "sexual-wages",
   "metadata": {
    "execution": {
     "iopub.execute_input": "2021-05-18T00:26:26.739372Z",
     "iopub.status.busy": "2021-05-18T00:26:26.738842Z",
     "iopub.status.idle": "2021-05-18T00:26:26.740816Z",
     "shell.execute_reply": "2021-05-18T00:26:26.741257Z"
    },
    "papermill": {
     "duration": 0.036285,
     "end_time": "2021-05-18T00:26:26.741365",
     "exception": false,
     "start_time": "2021-05-18T00:26:26.705080",
     "status": "completed"
    },
    "tags": []
   },
   "outputs": [],
   "source": [
    "# #hide_input\n",
    "# fig, ax = plt.subplots(figsize=(15, 8))\n",
    "# animator = animation.FuncAnimation(fig, draw_barchart, frames=range(g.day.values.min(), g.day.values.max()))\n",
    "# HTML(animator.to_jshtml())\n",
    "# # or use animator.to_html5_video() or animator.save() "
   ]
  },
  {
   "cell_type": "code",
   "execution_count": null,
   "id": "australian-container",
   "metadata": {
    "papermill": {
     "duration": 0.030094,
     "end_time": "2021-05-18T00:26:26.801851",
     "exception": false,
     "start_time": "2021-05-18T00:26:26.771757",
     "status": "completed"
    },
    "tags": []
   },
   "outputs": [],
   "source": []
  },
  {
   "cell_type": "code",
   "execution_count": null,
   "id": "mediterranean-pontiac",
   "metadata": {
    "papermill": {
     "duration": 0.031424,
     "end_time": "2021-05-18T00:26:26.863851",
     "exception": false,
     "start_time": "2021-05-18T00:26:26.832427",
     "status": "completed"
    },
    "tags": []
   },
   "outputs": [],
   "source": []
  },
  {
   "cell_type": "code",
   "execution_count": null,
   "id": "aging-legislature",
   "metadata": {
    "papermill": {
     "duration": 0.03032,
     "end_time": "2021-05-18T00:26:26.925008",
     "exception": false,
     "start_time": "2021-05-18T00:26:26.894688",
     "status": "completed"
    },
    "tags": []
   },
   "outputs": [],
   "source": []
  }
 ],
 "metadata": {
  "kernelspec": {
   "display_name": "Python 3",
   "language": "python",
   "name": "python3"
  },
  "language_info": {
   "codemirror_mode": {
    "name": "ipython",
    "version": 3
   },
   "file_extension": ".py",
   "mimetype": "text/x-python",
   "name": "python",
   "nbconvert_exporter": "python",
   "pygments_lexer": "ipython3",
   "version": "3.6.13"
  },
  "papermill": {
   "duration": 5.715432,
   "end_time": "2021-05-18T00:26:27.262038",
   "environment_variables": {},
   "exception": null,
   "input_path": "2020-03-21-covid19exp.ipynb",
   "output_path": "2020-03-21-covid19exp.ipynb",
   "parameters": {},
   "start_time": "2021-05-18T00:26:21.546606",
   "version": "2.0.0"
  }
 },
 "nbformat": 4,
 "nbformat_minor": 5
}