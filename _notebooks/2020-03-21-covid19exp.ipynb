{
 "cells": [
  {
   "cell_type": "markdown",
   "id": "muslim-click",
   "metadata": {
    "papermill": {
     "duration": 0.034228,
     "end_time": "2022-03-08T00:31:53.036610",
     "exception": false,
     "start_time": "2022-03-08T00:31:53.002382",
     "status": "completed"
    },
    "tags": []
   },
   "source": [
    "# COVID-19 Case Race\n",
    "> A race chart to see rising cases around the world\n",
    "\n",
    "- author: Hargun Oberoi\n",
    "- image: images/covid-overview.png\n",
    "- hide: false\n",
    "- badges: false"
   ]
  },
  {
   "cell_type": "code",
   "execution_count": 1,
   "id": "proof-material",
   "metadata": {
    "execution": {
     "iopub.execute_input": "2022-03-08T00:31:53.108933Z",
     "iopub.status.busy": "2022-03-08T00:31:53.108410Z",
     "iopub.status.idle": "2022-03-08T00:31:53.414101Z",
     "shell.execute_reply": "2022-03-08T00:31:53.413645Z"
    },
    "papermill": {
     "duration": 0.345607,
     "end_time": "2022-03-08T00:31:53.414231",
     "exception": false,
     "start_time": "2022-03-08T00:31:53.068624",
     "status": "completed"
    },
    "tags": []
   },
   "outputs": [],
   "source": [
    "#hide\n",
    "import numpy as np\n",
    "import pandas as pd\n",
    "from jinja2 import Template\n",
    "from IPython.display import HTML"
   ]
  },
  {
   "cell_type": "code",
   "execution_count": 2,
   "id": "developed-terminology",
   "metadata": {
    "execution": {
     "iopub.execute_input": "2022-03-08T00:31:53.480590Z",
     "iopub.status.busy": "2022-03-08T00:31:53.480072Z",
     "iopub.status.idle": "2022-03-08T00:31:53.481821Z",
     "shell.execute_reply": "2022-03-08T00:31:53.482215Z"
    },
    "papermill": {
     "duration": 0.036827,
     "end_time": "2022-03-08T00:31:53.482329",
     "exception": false,
     "start_time": "2022-03-08T00:31:53.445502",
     "status": "completed"
    },
    "tags": []
   },
   "outputs": [],
   "source": [
    "#hide\n",
    "\n",
    "# FETCH\n",
    "base_url = 'https://raw.githubusercontent.com/pratapvardhan/notebooks/master/covid19/'\n",
    "paths = {\n",
    "    'mapping': base_url + 'mapping_countries.csv',\n",
    "    'overview': base_url + 'overview.tpl'\n",
    "}"
   ]
  },
  {
   "cell_type": "code",
   "execution_count": 3,
   "id": "dynamic-saver",
   "metadata": {
    "execution": {
     "iopub.execute_input": "2022-03-08T00:31:53.552906Z",
     "iopub.status.busy": "2022-03-08T00:31:53.552304Z",
     "iopub.status.idle": "2022-03-08T00:31:53.554959Z",
     "shell.execute_reply": "2022-03-08T00:31:53.554496Z"
    },
    "papermill": {
     "duration": 0.042475,
     "end_time": "2022-03-08T00:31:53.555056",
     "exception": false,
     "start_time": "2022-03-08T00:31:53.512581",
     "status": "completed"
    },
    "tags": []
   },
   "outputs": [
    {
     "data": {
      "text/plain": [
       "'https://raw.githubusercontent.com/pratapvardhan/notebooks/master/covid19/mapping_countries.csv'"
      ]
     },
     "execution_count": 3,
     "metadata": {},
     "output_type": "execute_result"
    }
   ],
   "source": [
    "#hide\n",
    "paths['mapping']"
   ]
  },
  {
   "cell_type": "code",
   "execution_count": 4,
   "id": "urban-software",
   "metadata": {
    "execution": {
     "iopub.execute_input": "2022-03-08T00:31:53.621743Z",
     "iopub.status.busy": "2022-03-08T00:31:53.621228Z",
     "iopub.status.idle": "2022-03-08T00:31:53.624181Z",
     "shell.execute_reply": "2022-03-08T00:31:53.624584Z"
    },
    "papermill": {
     "duration": 0.038687,
     "end_time": "2022-03-08T00:31:53.624703",
     "exception": false,
     "start_time": "2022-03-08T00:31:53.586016",
     "status": "completed"
    },
    "tags": []
   },
   "outputs": [],
   "source": [
    "#hide\n",
    "def get_mappings(url):\n",
    "    df = pd.read_csv(url)\n",
    "    return {\n",
    "        'df': df,\n",
    "        'replace.country': dict(df.dropna(subset=['Name']).set_index('Country')['Name']),\n",
    "        'map.continent': dict(df.set_index('Name')['Continent'])\n",
    "    }"
   ]
  },
  {
   "cell_type": "code",
   "execution_count": 5,
   "id": "intimate-machinery",
   "metadata": {
    "execution": {
     "iopub.execute_input": "2022-03-08T00:31:53.690897Z",
     "iopub.status.busy": "2022-03-08T00:31:53.690400Z",
     "iopub.status.idle": "2022-03-08T00:31:53.714153Z",
     "shell.execute_reply": "2022-03-08T00:31:53.713719Z"
    },
    "papermill": {
     "duration": 0.058952,
     "end_time": "2022-03-08T00:31:53.714259",
     "exception": false,
     "start_time": "2022-03-08T00:31:53.655307",
     "status": "completed"
    },
    "tags": []
   },
   "outputs": [],
   "source": [
    "#hide\n",
    "mapping = get_mappings(paths['mapping'])"
   ]
  },
  {
   "cell_type": "code",
   "execution_count": 6,
   "id": "certified-tactics",
   "metadata": {
    "execution": {
     "iopub.execute_input": "2022-03-08T00:31:53.780727Z",
     "iopub.status.busy": "2022-03-08T00:31:53.780200Z",
     "iopub.status.idle": "2022-03-08T00:31:53.782175Z",
     "shell.execute_reply": "2022-03-08T00:31:53.781772Z"
    },
    "papermill": {
     "duration": 0.037238,
     "end_time": "2022-03-08T00:31:53.782273",
     "exception": false,
     "start_time": "2022-03-08T00:31:53.745035",
     "status": "completed"
    },
    "tags": []
   },
   "outputs": [],
   "source": [
    "#hide\n",
    "def get_template(path):\n",
    "    from urllib.parse import urlparse\n",
    "    if bool(urlparse(path).netloc):\n",
    "        from urllib.request import urlopen\n",
    "        return urlopen(path).read().decode('utf8')\n",
    "    return open(path).read()"
   ]
  },
  {
   "cell_type": "code",
   "execution_count": 7,
   "id": "realistic-blast",
   "metadata": {
    "execution": {
     "iopub.execute_input": "2022-03-08T00:31:53.848127Z",
     "iopub.status.busy": "2022-03-08T00:31:53.847622Z",
     "iopub.status.idle": "2022-03-08T00:31:53.849936Z",
     "shell.execute_reply": "2022-03-08T00:31:53.849522Z"
    },
    "papermill": {
     "duration": 0.037031,
     "end_time": "2022-03-08T00:31:53.850036",
     "exception": false,
     "start_time": "2022-03-08T00:31:53.813005",
     "status": "completed"
    },
    "tags": []
   },
   "outputs": [],
   "source": [
    "#hide\n",
    "def get_frame(name):\n",
    "    url = (\n",
    "        'https://raw.githubusercontent.com/CSSEGISandData/COVID-19/master/csse_covid_19_data/'\n",
    "        f'csse_covid_19_time_series/time_series_covid19_{name}_global.csv')\n",
    "    df = pd.read_csv(url)\n",
    "    # rename countries\n",
    "    df['Country/Region'] = df['Country/Region'].replace(mapping['replace.country'])\n",
    "    return df"
   ]
  },
  {
   "cell_type": "code",
   "execution_count": 8,
   "id": "affiliated-characterization",
   "metadata": {
    "execution": {
     "iopub.execute_input": "2022-03-08T00:31:53.916938Z",
     "iopub.status.busy": "2022-03-08T00:31:53.916412Z",
     "iopub.status.idle": "2022-03-08T00:31:53.918343Z",
     "shell.execute_reply": "2022-03-08T00:31:53.917940Z"
    },
    "papermill": {
     "duration": 0.037655,
     "end_time": "2022-03-08T00:31:53.918440",
     "exception": false,
     "start_time": "2022-03-08T00:31:53.880785",
     "status": "completed"
    },
    "tags": []
   },
   "outputs": [],
   "source": [
    "#hide\n",
    "def get_dates(df):\n",
    "    dt_cols = df.columns[~df.columns.isin(['Province/State', 'Country/Region', 'Lat', 'Long'])]\n",
    "    LAST_DATE_I = -1\n",
    "    # sometimes last column may be empty, then go backwards\n",
    "    for i in range(-1, -len(dt_cols), -1):\n",
    "        if not df[dt_cols[i]].fillna(0).eq(0).all():\n",
    "            LAST_DATE_I = i\n",
    "            break\n",
    "    return LAST_DATE_I, dt_cols"
   ]
  },
  {
   "cell_type": "code",
   "execution_count": 9,
   "id": "recent-optimization",
   "metadata": {
    "execution": {
     "iopub.execute_input": "2022-03-08T00:31:53.984930Z",
     "iopub.status.busy": "2022-03-08T00:31:53.984409Z",
     "iopub.status.idle": "2022-03-08T00:31:54.306254Z",
     "shell.execute_reply": "2022-03-08T00:31:54.305797Z"
    },
    "papermill": {
     "duration": 0.35712,
     "end_time": "2022-03-08T00:31:54.306363",
     "exception": false,
     "start_time": "2022-03-08T00:31:53.949243",
     "status": "completed"
    },
    "tags": []
   },
   "outputs": [],
   "source": [
    "#hide\n",
    "COL_REGION = 'Country/Region'\n",
    "# Confirmed, Recovered, Deaths\n",
    "df = get_frame('confirmed')\n",
    "# dft_: timeseries, dfc_: today country agg\n",
    "dft_cases = df\n",
    "dft_deaths = get_frame('deaths')\n",
    "dft_recovered = get_frame('recovered')\n",
    "LAST_DATE_I, dt_cols = get_dates(df)"
   ]
  },
  {
   "cell_type": "code",
   "execution_count": 10,
   "id": "absolute-copper",
   "metadata": {
    "execution": {
     "iopub.execute_input": "2022-03-08T00:31:54.373400Z",
     "iopub.status.busy": "2022-03-08T00:31:54.372882Z",
     "iopub.status.idle": "2022-03-08T00:31:54.374905Z",
     "shell.execute_reply": "2022-03-08T00:31:54.374415Z"
    },
    "papermill": {
     "duration": 0.037553,
     "end_time": "2022-03-08T00:31:54.375006",
     "exception": false,
     "start_time": "2022-03-08T00:31:54.337453",
     "status": "completed"
    },
    "tags": []
   },
   "outputs": [],
   "source": [
    "#hide\n",
    "LAST_DATE_I, dt_cols = get_dates(df)\n",
    "dt_today =dt_cols[LAST_DATE_I]\n",
    "# dt_5day = dt_cols[LAST_DATE_I - 5]\n",
    "dt_yday = dt_cols[LAST_DATE_I - 1]"
   ]
  },
  {
   "cell_type": "code",
   "execution_count": 11,
   "id": "restricted-sheriff",
   "metadata": {
    "execution": {
     "iopub.execute_input": "2022-03-08T00:31:54.443123Z",
     "iopub.status.busy": "2022-03-08T00:31:54.442622Z",
     "iopub.status.idle": "2022-03-08T00:31:54.448286Z",
     "shell.execute_reply": "2022-03-08T00:31:54.447873Z"
    },
    "papermill": {
     "duration": 0.042566,
     "end_time": "2022-03-08T00:31:54.448403",
     "exception": false,
     "start_time": "2022-03-08T00:31:54.405837",
     "status": "completed"
    },
    "tags": []
   },
   "outputs": [],
   "source": [
    "#hide\n",
    "dfc_cases = dft_cases.groupby(COL_REGION)[dt_today].sum()\n",
    "dfc_deaths = dft_deaths.groupby(COL_REGION)[dt_today].sum()\n",
    "# dfp_cases = dft_cases.groupby(COL_REGION)[dt_5day].sum()\n",
    "# dfp_deaths = dft_deaths.groupby(COL_REGION)[dt_5day].sum()\n",
    "dfp_cases = dft_cases.groupby(COL_REGION)[dt_yday].sum()\n",
    "dfp_deaths = dft_deaths.groupby(COL_REGION)[dt_yday].sum()"
   ]
  },
  {
   "cell_type": "code",
   "execution_count": 12,
   "id": "deluxe-hepatitis",
   "metadata": {
    "execution": {
     "iopub.execute_input": "2022-03-08T00:31:54.516536Z",
     "iopub.status.busy": "2022-03-08T00:31:54.515153Z",
     "iopub.status.idle": "2022-03-08T00:31:54.521386Z",
     "shell.execute_reply": "2022-03-08T00:31:54.520479Z"
    },
    "papermill": {
     "duration": 0.042263,
     "end_time": "2022-03-08T00:31:54.521498",
     "exception": false,
     "start_time": "2022-03-08T00:31:54.479235",
     "status": "completed"
    },
    "tags": []
   },
   "outputs": [],
   "source": [
    "#hide\n",
    "df_table = (pd.DataFrame(dict(Cases = dfc_cases, Deaths = dfc_deaths, PCases = dfp_cases, PDeaths = dfp_deaths))\n",
    "            .sort_values(by = ['Cases','Deaths'], ascending = [False, False])\n",
    "            .reset_index())"
   ]
  },
  {
   "cell_type": "code",
   "execution_count": 13,
   "id": "educational-chancellor",
   "metadata": {
    "execution": {
     "iopub.execute_input": "2022-03-08T00:31:54.595329Z",
     "iopub.status.busy": "2022-03-08T00:31:54.594830Z",
     "iopub.status.idle": "2022-03-08T00:31:54.605840Z",
     "shell.execute_reply": "2022-03-08T00:31:54.606212Z"
    },
    "papermill": {
     "duration": 0.054087,
     "end_time": "2022-03-08T00:31:54.606335",
     "exception": false,
     "start_time": "2022-03-08T00:31:54.552248",
     "status": "completed"
    },
    "tags": []
   },
   "outputs": [
    {
     "data": {
      "text/html": [
       "<div>\n",
       "<style scoped>\n",
       "    .dataframe tbody tr th:only-of-type {\n",
       "        vertical-align: middle;\n",
       "    }\n",
       "\n",
       "    .dataframe tbody tr th {\n",
       "        vertical-align: top;\n",
       "    }\n",
       "\n",
       "    .dataframe thead th {\n",
       "        text-align: right;\n",
       "    }\n",
       "</style>\n",
       "<table border=\"1\" class=\"dataframe\">\n",
       "  <thead>\n",
       "    <tr style=\"text-align: right;\">\n",
       "      <th></th>\n",
       "      <th>Country/Region</th>\n",
       "      <th>Cases</th>\n",
       "      <th>Deaths</th>\n",
       "      <th>PCases</th>\n",
       "      <th>PDeaths</th>\n",
       "      <th>Cases (+)</th>\n",
       "      <th>Deaths (+)</th>\n",
       "      <th>Fatality Rate</th>\n",
       "      <th>Continent</th>\n",
       "    </tr>\n",
       "  </thead>\n",
       "  <tbody>\n",
       "    <tr>\n",
       "      <th>0</th>\n",
       "      <td>US</td>\n",
       "      <td>79271686</td>\n",
       "      <td>958625</td>\n",
       "      <td>79265946</td>\n",
       "      <td>958441</td>\n",
       "      <td>5740</td>\n",
       "      <td>184</td>\n",
       "      <td>1.21</td>\n",
       "      <td>North America</td>\n",
       "    </tr>\n",
       "    <tr>\n",
       "      <th>1</th>\n",
       "      <td>India</td>\n",
       "      <td>42967315</td>\n",
       "      <td>515102</td>\n",
       "      <td>42962953</td>\n",
       "      <td>515036</td>\n",
       "      <td>4362</td>\n",
       "      <td>66</td>\n",
       "      <td>1.20</td>\n",
       "      <td>Asia</td>\n",
       "    </tr>\n",
       "    <tr>\n",
       "      <th>2</th>\n",
       "      <td>Brazil</td>\n",
       "      <td>29056525</td>\n",
       "      <td>652438</td>\n",
       "      <td>29040800</td>\n",
       "      <td>652216</td>\n",
       "      <td>15725</td>\n",
       "      <td>222</td>\n",
       "      <td>2.25</td>\n",
       "      <td>South America</td>\n",
       "    </tr>\n",
       "    <tr>\n",
       "      <th>3</th>\n",
       "      <td>France</td>\n",
       "      <td>23236908</td>\n",
       "      <td>140296</td>\n",
       "      <td>23191580</td>\n",
       "      <td>140264</td>\n",
       "      <td>45328</td>\n",
       "      <td>32</td>\n",
       "      <td>0.60</td>\n",
       "      <td>Europe</td>\n",
       "    </tr>\n",
       "    <tr>\n",
       "      <th>4</th>\n",
       "      <td>United Kingdom</td>\n",
       "      <td>19256835</td>\n",
       "      <td>162582</td>\n",
       "      <td>19256835</td>\n",
       "      <td>162582</td>\n",
       "      <td>0</td>\n",
       "      <td>0</td>\n",
       "      <td>0.84</td>\n",
       "      <td>Europe</td>\n",
       "    </tr>\n",
       "  </tbody>\n",
       "</table>\n",
       "</div>"
      ],
      "text/plain": [
       "   Country/Region     Cases  Deaths    PCases  PDeaths  Cases (+)  Deaths (+)  \\\n",
       "0              US  79271686  958625  79265946   958441       5740         184   \n",
       "1           India  42967315  515102  42962953   515036       4362          66   \n",
       "2          Brazil  29056525  652438  29040800   652216      15725         222   \n",
       "3          France  23236908  140296  23191580   140264      45328          32   \n",
       "4  United Kingdom  19256835  162582  19256835   162582          0           0   \n",
       "\n",
       "   Fatality Rate      Continent  \n",
       "0           1.21  North America  \n",
       "1           1.20           Asia  \n",
       "2           2.25  South America  \n",
       "3           0.60         Europe  \n",
       "4           0.84         Europe  "
      ]
     },
     "execution_count": 13,
     "metadata": {},
     "output_type": "execute_result"
    }
   ],
   "source": [
    "#hide\n",
    "for c in 'Cases, Deaths'.split(', '):\n",
    "    df_table[f'{c} (+)'] = (df_table[c] - df_table[f'P{c}']).clip(0)\n",
    "    #Clip ça veut dire, les chiffres negatif sont interdit\n",
    "df_table['Fatality Rate'] = (100* df_table['Deaths']/ df_table['Cases']).round(2)\n",
    "df_table['Continent'] = df_table['Country/Region'].map(mapping['map.continent'])\n",
    "df_table.head(5)"
   ]
  },
  {
   "cell_type": "code",
   "execution_count": 14,
   "id": "aboriginal-bulgaria",
   "metadata": {
    "execution": {
     "iopub.execute_input": "2022-03-08T00:31:54.674010Z",
     "iopub.status.busy": "2022-03-08T00:31:54.673497Z",
     "iopub.status.idle": "2022-03-08T00:31:54.675554Z",
     "shell.execute_reply": "2022-03-08T00:31:54.675149Z"
    },
    "papermill": {
     "duration": 0.03808,
     "end_time": "2022-03-08T00:31:54.675655",
     "exception": false,
     "start_time": "2022-03-08T00:31:54.637575",
     "status": "completed"
    },
    "tags": []
   },
   "outputs": [],
   "source": [
    "#hide\n",
    "#delete problematic countries from table\n",
    "df_table = df_table[~df_table['Country/Region'].isin(['Cape Verde', 'Cruise Ship', 'Kosovo'])]"
   ]
  },
  {
   "cell_type": "code",
   "execution_count": 15,
   "id": "fantastic-effect",
   "metadata": {
    "execution": {
     "iopub.execute_input": "2022-03-08T00:31:54.745733Z",
     "iopub.status.busy": "2022-03-08T00:31:54.745236Z",
     "iopub.status.idle": "2022-03-08T00:31:54.762072Z",
     "shell.execute_reply": "2022-03-08T00:31:54.761673Z"
    },
    "papermill": {
     "duration": 0.055179,
     "end_time": "2022-03-08T00:31:54.762176",
     "exception": false,
     "start_time": "2022-03-08T00:31:54.706997",
     "status": "completed"
    },
    "tags": []
   },
   "outputs": [
    {
     "data": {
      "text/html": [
       "<div>\n",
       "<style scoped>\n",
       "    .dataframe tbody tr th:only-of-type {\n",
       "        vertical-align: middle;\n",
       "    }\n",
       "\n",
       "    .dataframe tbody tr th {\n",
       "        vertical-align: top;\n",
       "    }\n",
       "\n",
       "    .dataframe thead th {\n",
       "        text-align: right;\n",
       "    }\n",
       "</style>\n",
       "<table border=\"1\" class=\"dataframe\">\n",
       "  <thead>\n",
       "    <tr style=\"text-align: right;\">\n",
       "      <th></th>\n",
       "      <th>Country/Region</th>\n",
       "      <th>Cases</th>\n",
       "      <th>Deaths</th>\n",
       "      <th>PCases</th>\n",
       "      <th>PDeaths</th>\n",
       "      <th>Cases (+)</th>\n",
       "      <th>Deaths (+)</th>\n",
       "      <th>Fatality Rate</th>\n",
       "      <th>Continent</th>\n",
       "    </tr>\n",
       "  </thead>\n",
       "  <tbody>\n",
       "    <tr>\n",
       "      <th>0</th>\n",
       "      <td>US</td>\n",
       "      <td>79271686</td>\n",
       "      <td>958625</td>\n",
       "      <td>79265946</td>\n",
       "      <td>958441</td>\n",
       "      <td>5740</td>\n",
       "      <td>184</td>\n",
       "      <td>1.2</td>\n",
       "      <td>North America</td>\n",
       "    </tr>\n",
       "    <tr>\n",
       "      <th>1</th>\n",
       "      <td>India</td>\n",
       "      <td>42967315</td>\n",
       "      <td>515102</td>\n",
       "      <td>42962953</td>\n",
       "      <td>515036</td>\n",
       "      <td>4362</td>\n",
       "      <td>66</td>\n",
       "      <td>1.2</td>\n",
       "      <td>Asia</td>\n",
       "    </tr>\n",
       "    <tr>\n",
       "      <th>2</th>\n",
       "      <td>Brazil</td>\n",
       "      <td>29056525</td>\n",
       "      <td>652438</td>\n",
       "      <td>29040800</td>\n",
       "      <td>652216</td>\n",
       "      <td>15725</td>\n",
       "      <td>222</td>\n",
       "      <td>2.2</td>\n",
       "      <td>South America</td>\n",
       "    </tr>\n",
       "    <tr>\n",
       "      <th>3</th>\n",
       "      <td>France</td>\n",
       "      <td>23236908</td>\n",
       "      <td>140296</td>\n",
       "      <td>23191580</td>\n",
       "      <td>140264</td>\n",
       "      <td>45328</td>\n",
       "      <td>32</td>\n",
       "      <td>0.6</td>\n",
       "      <td>Europe</td>\n",
       "    </tr>\n",
       "    <tr>\n",
       "      <th>4</th>\n",
       "      <td>United Kingdom</td>\n",
       "      <td>19256835</td>\n",
       "      <td>162582</td>\n",
       "      <td>19256835</td>\n",
       "      <td>162582</td>\n",
       "      <td>0</td>\n",
       "      <td>0</td>\n",
       "      <td>0.8</td>\n",
       "      <td>Europe</td>\n",
       "    </tr>\n",
       "  </tbody>\n",
       "</table>\n",
       "</div>"
      ],
      "text/plain": [
       "   Country/Region     Cases  Deaths    PCases  PDeaths  Cases (+)  Deaths (+)  \\\n",
       "0              US  79271686  958625  79265946   958441       5740         184   \n",
       "1           India  42967315  515102  42962953   515036       4362          66   \n",
       "2          Brazil  29056525  652438  29040800   652216      15725         222   \n",
       "3          France  23236908  140296  23191580   140264      45328          32   \n",
       "4  United Kingdom  19256835  162582  19256835   162582          0           0   \n",
       "\n",
       "   Fatality Rate      Continent  \n",
       "0            1.2  North America  \n",
       "1            1.2           Asia  \n",
       "2            2.2  South America  \n",
       "3            0.6         Europe  \n",
       "4            0.8         Europe  "
      ]
     },
     "execution_count": 15,
     "metadata": {},
     "output_type": "execute_result"
    }
   ],
   "source": [
    "#hide\n",
    "df_table = (pd.DataFrame(dict(Cases=dfc_cases, Deaths=dfc_deaths, PCases=dfp_cases, PDeaths=dfp_deaths))\n",
    "             .sort_values(by=['Cases', 'Deaths'], ascending=[False, False])\n",
    "             .reset_index())\n",
    "df_table.rename(columns={'index': 'Country/Region'}, inplace=True)\n",
    "for c in 'Cases, Deaths'.split(', '):\n",
    "    df_table[f'{c} (+)'] = (df_table[c] - df_table[f'P{c}']).clip(0)  # DATA BUG\n",
    "df_table['Fatality Rate'] = (100 * df_table['Deaths'] / df_table['Cases']).round(1)\n",
    "df_table['Continent'] = df_table['Country/Region'].map(mapping['map.continent'])\n",
    "df_table.head(5)"
   ]
  },
  {
   "cell_type": "code",
   "execution_count": 16,
   "id": "fewer-occasion",
   "metadata": {
    "execution": {
     "iopub.execute_input": "2022-03-08T00:31:54.831180Z",
     "iopub.status.busy": "2022-03-08T00:31:54.830655Z",
     "iopub.status.idle": "2022-03-08T00:31:54.832600Z",
     "shell.execute_reply": "2022-03-08T00:31:54.832178Z"
    },
    "papermill": {
     "duration": 0.038635,
     "end_time": "2022-03-08T00:31:54.832703",
     "exception": false,
     "start_time": "2022-03-08T00:31:54.794068",
     "status": "completed"
    },
    "tags": []
   },
   "outputs": [],
   "source": [
    "#hide\n",
    "#delete problematic countries from table\n",
    "df_table = df_table[~df_table['Country/Region'].isin(['Cape Verde', 'Cruise Ship', 'Kosovo'])]"
   ]
  },
  {
   "cell_type": "code",
   "execution_count": 17,
   "id": "related-center",
   "metadata": {
    "execution": {
     "iopub.execute_input": "2022-03-08T00:31:54.909326Z",
     "iopub.status.busy": "2022-03-08T00:31:54.908819Z",
     "iopub.status.idle": "2022-03-08T00:31:54.917983Z",
     "shell.execute_reply": "2022-03-08T00:31:54.917558Z"
    },
    "papermill": {
     "duration": 0.052627,
     "end_time": "2022-03-08T00:31:54.918088",
     "exception": false,
     "start_time": "2022-03-08T00:31:54.865461",
     "status": "completed"
    },
    "tags": []
   },
   "outputs": [],
   "source": [
    "#hide\n",
    "metrics = [df_table.columns[index] for index in [1,2,5,6]]\n",
    "# s_china = df_table[df_table['Country/Region'].eq('China')][metrics].sum().add_prefix('China ')\n",
    "s_us = df_table[df_table['Country/Region'].eq('US')][metrics].sum().add_prefix('US ')\n",
    "s_eu = df_table[df_table['Continent'].eq('Europe')][metrics].sum().add_prefix('EU ')\n",
    "s_ind = df_table[df_table['Country/Region'].eq('India')][metrics].sum().add_prefix('India ')\n",
    "summary = {'updated': pd.to_datetime(dt_today), 'since': pd.to_datetime(dt_yday)}\n",
    "summary = {'updated': pd.to_datetime(dt_today), 'since': pd.to_datetime(dt_yday)}\n",
    "summary = {**summary, **df_table[metrics].sum(), **s_ind, **s_us, **s_eu}"
   ]
  },
  {
   "cell_type": "code",
   "execution_count": 18,
   "id": "engaging-syndrome",
   "metadata": {
    "execution": {
     "iopub.execute_input": "2022-03-08T00:31:54.986155Z",
     "iopub.status.busy": "2022-03-08T00:31:54.985661Z",
     "iopub.status.idle": "2022-03-08T00:31:54.999106Z",
     "shell.execute_reply": "2022-03-08T00:31:54.999469Z"
    },
    "papermill": {
     "duration": 0.049731,
     "end_time": "2022-03-08T00:31:54.999592",
     "exception": false,
     "start_time": "2022-03-08T00:31:54.949861",
     "status": "completed"
    },
    "tags": []
   },
   "outputs": [],
   "source": [
    "#hide\n",
    "dft_ct_new_cases = dft_cases.groupby(COL_REGION)[dt_cols].sum().diff(axis=1).fillna(0).astype(int)"
   ]
  },
  {
   "cell_type": "code",
   "execution_count": 19,
   "id": "neutral-assignment",
   "metadata": {
    "execution": {
     "iopub.execute_input": "2022-03-08T00:31:55.068762Z",
     "iopub.status.busy": "2022-03-08T00:31:55.068246Z",
     "iopub.status.idle": "2022-03-08T00:31:55.070093Z",
     "shell.execute_reply": "2022-03-08T00:31:55.070488Z"
    },
    "papermill": {
     "duration": 0.039282,
     "end_time": "2022-03-08T00:31:55.070603",
     "exception": false,
     "start_time": "2022-03-08T00:31:55.031321",
     "status": "completed"
    },
    "tags": []
   },
   "outputs": [],
   "source": [
    "#hide\n",
    "everydaycases = dft_ct_new_cases.cumsum(axis=1)"
   ]
  },
  {
   "cell_type": "code",
   "execution_count": 20,
   "id": "parliamentary-calgary",
   "metadata": {
    "execution": {
     "iopub.execute_input": "2022-03-08T00:31:55.140261Z",
     "iopub.status.busy": "2022-03-08T00:31:55.139757Z",
     "iopub.status.idle": "2022-03-08T00:31:55.751911Z",
     "shell.execute_reply": "2022-03-08T00:31:55.751430Z"
    },
    "papermill": {
     "duration": 0.647347,
     "end_time": "2022-03-08T00:31:55.752034",
     "exception": false,
     "start_time": "2022-03-08T00:31:55.104687",
     "status": "completed"
    },
    "tags": []
   },
   "outputs": [],
   "source": [
    "#hide\n",
    "import pandas as pd\n",
    "import matplotlib.pyplot as plt\n",
    "import matplotlib.ticker as ticker\n",
    "import matplotlib.animation as animation\n",
    "from IPython.display import HTML"
   ]
  },
  {
   "cell_type": "code",
   "execution_count": 21,
   "id": "lasting-extraction",
   "metadata": {
    "execution": {
     "iopub.execute_input": "2022-03-08T00:31:55.821115Z",
     "iopub.status.busy": "2022-03-08T00:31:55.820607Z",
     "iopub.status.idle": "2022-03-08T00:31:55.825816Z",
     "shell.execute_reply": "2022-03-08T00:31:55.826220Z"
    },
    "papermill": {
     "duration": 0.042403,
     "end_time": "2022-03-08T00:31:55.826338",
     "exception": false,
     "start_time": "2022-03-08T00:31:55.783935",
     "status": "completed"
    },
    "tags": []
   },
   "outputs": [],
   "source": [
    "#hide\n",
    "t = everydaycases.stack()"
   ]
  },
  {
   "cell_type": "code",
   "execution_count": 22,
   "id": "premier-sleeve",
   "metadata": {
    "execution": {
     "iopub.execute_input": "2022-03-08T00:31:55.894186Z",
     "iopub.status.busy": "2022-03-08T00:31:55.893680Z",
     "iopub.status.idle": "2022-03-08T00:31:55.902777Z",
     "shell.execute_reply": "2022-03-08T00:31:55.903144Z"
    },
    "papermill": {
     "duration": 0.044778,
     "end_time": "2022-03-08T00:31:55.903270",
     "exception": false,
     "start_time": "2022-03-08T00:31:55.858492",
     "status": "completed"
    },
    "tags": []
   },
   "outputs": [],
   "source": [
    "#hide\n",
    "g = t.reset_index(['Country/Region'])"
   ]
  },
  {
   "cell_type": "code",
   "execution_count": 23,
   "id": "distributed-pittsburgh",
   "metadata": {
    "execution": {
     "iopub.execute_input": "2022-03-08T00:31:55.971048Z",
     "iopub.status.busy": "2022-03-08T00:31:55.970531Z",
     "iopub.status.idle": "2022-03-08T00:31:55.972078Z",
     "shell.execute_reply": "2022-03-08T00:31:55.972496Z"
    },
    "papermill": {
     "duration": 0.037151,
     "end_time": "2022-03-08T00:31:55.972621",
     "exception": false,
     "start_time": "2022-03-08T00:31:55.935470",
     "status": "completed"
    },
    "tags": []
   },
   "outputs": [],
   "source": [
    "#hide\n",
    "g.index.name = 'date'"
   ]
  },
  {
   "cell_type": "code",
   "execution_count": 24,
   "id": "naked-donor",
   "metadata": {
    "execution": {
     "iopub.execute_input": "2022-03-08T00:31:56.039474Z",
     "iopub.status.busy": "2022-03-08T00:31:56.038959Z",
     "iopub.status.idle": "2022-03-08T00:31:56.042378Z",
     "shell.execute_reply": "2022-03-08T00:31:56.041987Z"
    },
    "papermill": {
     "duration": 0.038014,
     "end_time": "2022-03-08T00:31:56.042482",
     "exception": false,
     "start_time": "2022-03-08T00:31:56.004468",
     "status": "completed"
    },
    "tags": []
   },
   "outputs": [],
   "source": [
    "# #hide\n",
    "# g = g.reset_index(['date'])"
   ]
  },
  {
   "cell_type": "code",
   "execution_count": 25,
   "id": "incomplete-mustang",
   "metadata": {
    "execution": {
     "iopub.execute_input": "2022-03-08T00:31:56.109401Z",
     "iopub.status.busy": "2022-03-08T00:31:56.108897Z",
     "iopub.status.idle": "2022-03-08T00:31:56.110406Z",
     "shell.execute_reply": "2022-03-08T00:31:56.110790Z"
    },
    "papermill": {
     "duration": 0.036685,
     "end_time": "2022-03-08T00:31:56.110906",
     "exception": false,
     "start_time": "2022-03-08T00:31:56.074221",
     "status": "completed"
    },
    "tags": []
   },
   "outputs": [],
   "source": [
    "#hide\n",
    "# g.head()"
   ]
  },
  {
   "cell_type": "code",
   "execution_count": 26,
   "id": "specific-kruger",
   "metadata": {
    "execution": {
     "iopub.execute_input": "2022-03-08T00:31:56.177996Z",
     "iopub.status.busy": "2022-03-08T00:31:56.177489Z",
     "iopub.status.idle": "2022-03-08T00:31:56.180548Z",
     "shell.execute_reply": "2022-03-08T00:31:56.180938Z"
    },
    "papermill": {
     "duration": 0.038298,
     "end_time": "2022-03-08T00:31:56.181062",
     "exception": false,
     "start_time": "2022-03-08T00:31:56.142764",
     "status": "completed"
    },
    "tags": []
   },
   "outputs": [],
   "source": [
    "#hide\n",
    "# g.columns = ['date','country','cases']"
   ]
  },
  {
   "cell_type": "code",
   "execution_count": 27,
   "id": "tender-conversion",
   "metadata": {
    "execution": {
     "iopub.execute_input": "2022-03-08T00:31:56.247810Z",
     "iopub.status.busy": "2022-03-08T00:31:56.247301Z",
     "iopub.status.idle": "2022-03-08T00:31:56.249256Z",
     "shell.execute_reply": "2022-03-08T00:31:56.248856Z"
    },
    "papermill": {
     "duration": 0.036611,
     "end_time": "2022-03-08T00:31:56.249352",
     "exception": false,
     "start_time": "2022-03-08T00:31:56.212741",
     "status": "completed"
    },
    "tags": []
   },
   "outputs": [],
   "source": [
    "#hide\n",
    "# g['continent'] = g.country"
   ]
  },
  {
   "cell_type": "code",
   "execution_count": 28,
   "id": "substantial-wilderness",
   "metadata": {
    "execution": {
     "iopub.execute_input": "2022-03-08T00:31:56.316934Z",
     "iopub.status.busy": "2022-03-08T00:31:56.316413Z",
     "iopub.status.idle": "2022-03-08T00:31:56.318253Z",
     "shell.execute_reply": "2022-03-08T00:31:56.317841Z"
    },
    "papermill": {
     "duration": 0.037069,
     "end_time": "2022-03-08T00:31:56.318354",
     "exception": false,
     "start_time": "2022-03-08T00:31:56.281285",
     "status": "completed"
    },
    "tags": []
   },
   "outputs": [],
   "source": [
    "#hide\n",
    "# cols = list(g.columns.values)"
   ]
  },
  {
   "cell_type": "code",
   "execution_count": 29,
   "id": "solved-farming",
   "metadata": {
    "execution": {
     "iopub.execute_input": "2022-03-08T00:31:56.385340Z",
     "iopub.status.busy": "2022-03-08T00:31:56.384829Z",
     "iopub.status.idle": "2022-03-08T00:31:56.387869Z",
     "shell.execute_reply": "2022-03-08T00:31:56.388252Z"
    },
    "papermill": {
     "duration": 0.038378,
     "end_time": "2022-03-08T00:31:56.388390",
     "exception": false,
     "start_time": "2022-03-08T00:31:56.350012",
     "status": "completed"
    },
    "tags": []
   },
   "outputs": [],
   "source": [
    "#hide\n",
    "# cols.insert(0, cols.pop())"
   ]
  },
  {
   "cell_type": "code",
   "execution_count": 30,
   "id": "executed-adoption",
   "metadata": {
    "execution": {
     "iopub.execute_input": "2022-03-08T00:31:56.455580Z",
     "iopub.status.busy": "2022-03-08T00:31:56.455070Z",
     "iopub.status.idle": "2022-03-08T00:31:56.457023Z",
     "shell.execute_reply": "2022-03-08T00:31:56.456639Z"
    },
    "papermill": {
     "duration": 0.036835,
     "end_time": "2022-03-08T00:31:56.457125",
     "exception": false,
     "start_time": "2022-03-08T00:31:56.420290",
     "status": "completed"
    },
    "tags": []
   },
   "outputs": [],
   "source": [
    "#hide\n",
    "# g = g[cols]"
   ]
  },
  {
   "cell_type": "code",
   "execution_count": 31,
   "id": "subject-dublin",
   "metadata": {
    "execution": {
     "iopub.execute_input": "2022-03-08T00:31:56.523401Z",
     "iopub.status.busy": "2022-03-08T00:31:56.522898Z",
     "iopub.status.idle": "2022-03-08T00:31:56.526310Z",
     "shell.execute_reply": "2022-03-08T00:31:56.525913Z"
    },
    "papermill": {
     "duration": 0.037679,
     "end_time": "2022-03-08T00:31:56.526413",
     "exception": false,
     "start_time": "2022-03-08T00:31:56.488734",
     "status": "completed"
    },
    "tags": []
   },
   "outputs": [],
   "source": [
    "#hide\n",
    "# g['continent'] = g['continent'].map(mapping['map.continent'])"
   ]
  },
  {
   "cell_type": "code",
   "execution_count": 32,
   "id": "freelance-scout",
   "metadata": {
    "execution": {
     "iopub.execute_input": "2022-03-08T00:31:56.592942Z",
     "iopub.status.busy": "2022-03-08T00:31:56.592418Z",
     "iopub.status.idle": "2022-03-08T00:31:56.594294Z",
     "shell.execute_reply": "2022-03-08T00:31:56.593889Z"
    },
    "papermill": {
     "duration": 0.036322,
     "end_time": "2022-03-08T00:31:56.594392",
     "exception": false,
     "start_time": "2022-03-08T00:31:56.558070",
     "status": "completed"
    },
    "tags": []
   },
   "outputs": [],
   "source": [
    "#hide\n",
    "# g.head()"
   ]
  },
  {
   "cell_type": "code",
   "execution_count": 33,
   "id": "limited-engine",
   "metadata": {
    "execution": {
     "iopub.execute_input": "2022-03-08T00:31:56.660606Z",
     "iopub.status.busy": "2022-03-08T00:31:56.660084Z",
     "iopub.status.idle": "2022-03-08T00:31:56.662061Z",
     "shell.execute_reply": "2022-03-08T00:31:56.661659Z"
    },
    "papermill": {
     "duration": 0.036312,
     "end_time": "2022-03-08T00:31:56.662159",
     "exception": false,
     "start_time": "2022-03-08T00:31:56.625847",
     "status": "completed"
    },
    "tags": []
   },
   "outputs": [],
   "source": [
    "# hide\n",
    "# g['date'] = g['date'].astype('datetime64[ns]')"
   ]
  },
  {
   "cell_type": "code",
   "execution_count": 34,
   "id": "sophisticated-supervisor",
   "metadata": {
    "execution": {
     "iopub.execute_input": "2022-03-08T00:31:56.729111Z",
     "iopub.status.busy": "2022-03-08T00:31:56.728615Z",
     "iopub.status.idle": "2022-03-08T00:31:56.730259Z",
     "shell.execute_reply": "2022-03-08T00:31:56.730661Z"
    },
    "papermill": {
     "duration": 0.036661,
     "end_time": "2022-03-08T00:31:56.730771",
     "exception": false,
     "start_time": "2022-03-08T00:31:56.694110",
     "status": "completed"
    },
    "tags": []
   },
   "outputs": [],
   "source": [
    "#hide\n",
    "# g['date'] = g.date.dt.dayofyear"
   ]
  },
  {
   "cell_type": "code",
   "execution_count": 35,
   "id": "inside-dubai",
   "metadata": {
    "execution": {
     "iopub.execute_input": "2022-03-08T00:31:56.796950Z",
     "iopub.status.busy": "2022-03-08T00:31:56.796444Z",
     "iopub.status.idle": "2022-03-08T00:31:56.798503Z",
     "shell.execute_reply": "2022-03-08T00:31:56.798080Z"
    },
    "papermill": {
     "duration": 0.036366,
     "end_time": "2022-03-08T00:31:56.798602",
     "exception": false,
     "start_time": "2022-03-08T00:31:56.762236",
     "status": "completed"
    },
    "tags": []
   },
   "outputs": [],
   "source": [
    "#hide\n",
    "# g = g.rename(columns= {'continent':'group','country':'name','cases':'value'})"
   ]
  },
  {
   "cell_type": "code",
   "execution_count": 36,
   "id": "fleet-motorcycle",
   "metadata": {
    "execution": {
     "iopub.execute_input": "2022-03-08T00:31:56.865188Z",
     "iopub.status.busy": "2022-03-08T00:31:56.864687Z",
     "iopub.status.idle": "2022-03-08T00:31:56.866626Z",
     "shell.execute_reply": "2022-03-08T00:31:56.866222Z"
    },
    "papermill": {
     "duration": 0.036491,
     "end_time": "2022-03-08T00:31:56.866722",
     "exception": false,
     "start_time": "2022-03-08T00:31:56.830231",
     "status": "completed"
    },
    "tags": []
   },
   "outputs": [],
   "source": [
    "#hide\n",
    "# cols = ['name','group','day','value']"
   ]
  },
  {
   "cell_type": "code",
   "execution_count": 37,
   "id": "continued-sleeping",
   "metadata": {
    "execution": {
     "iopub.execute_input": "2022-03-08T00:31:56.933181Z",
     "iopub.status.busy": "2022-03-08T00:31:56.932663Z",
     "iopub.status.idle": "2022-03-08T00:31:56.935010Z",
     "shell.execute_reply": "2022-03-08T00:31:56.934616Z"
    },
    "papermill": {
     "duration": 0.036784,
     "end_time": "2022-03-08T00:31:56.935111",
     "exception": false,
     "start_time": "2022-03-08T00:31:56.898327",
     "status": "completed"
    },
    "tags": []
   },
   "outputs": [],
   "source": [
    "#hide\n",
    "# g.rename(columns= {'date':'day'},inplace = True)"
   ]
  },
  {
   "cell_type": "code",
   "execution_count": 38,
   "id": "major-fight",
   "metadata": {
    "execution": {
     "iopub.execute_input": "2022-03-08T00:31:57.001590Z",
     "iopub.status.busy": "2022-03-08T00:31:57.001069Z",
     "iopub.status.idle": "2022-03-08T00:31:57.004460Z",
     "shell.execute_reply": "2022-03-08T00:31:57.004042Z"
    },
    "papermill": {
     "duration": 0.037756,
     "end_time": "2022-03-08T00:31:57.004565",
     "exception": false,
     "start_time": "2022-03-08T00:31:56.966809",
     "status": "completed"
    },
    "tags": []
   },
   "outputs": [],
   "source": [
    "#hide\n",
    "# g = g[cols]"
   ]
  },
  {
   "cell_type": "code",
   "execution_count": 39,
   "id": "structured-mobile",
   "metadata": {
    "execution": {
     "iopub.execute_input": "2022-03-08T00:31:57.070724Z",
     "iopub.status.busy": "2022-03-08T00:31:57.070240Z",
     "iopub.status.idle": "2022-03-08T00:31:57.071936Z",
     "shell.execute_reply": "2022-03-08T00:31:57.072296Z"
    },
    "papermill": {
     "duration": 0.036474,
     "end_time": "2022-03-08T00:31:57.072426",
     "exception": false,
     "start_time": "2022-03-08T00:31:57.035952",
     "status": "completed"
    },
    "tags": []
   },
   "outputs": [],
   "source": [
    "# #hide\n",
    "# g = g[g.group.notna()]"
   ]
  },
  {
   "cell_type": "code",
   "execution_count": 40,
   "id": "determined-closing",
   "metadata": {
    "execution": {
     "iopub.execute_input": "2022-03-08T00:31:57.138662Z",
     "iopub.status.busy": "2022-03-08T00:31:57.138144Z",
     "iopub.status.idle": "2022-03-08T00:31:57.140012Z",
     "shell.execute_reply": "2022-03-08T00:31:57.139547Z"
    },
    "papermill": {
     "duration": 0.036191,
     "end_time": "2022-03-08T00:31:57.140109",
     "exception": false,
     "start_time": "2022-03-08T00:31:57.103918",
     "status": "completed"
    },
    "tags": []
   },
   "outputs": [],
   "source": [
    "# #hide\n",
    "# colors = dict(zip(\n",
    "#     [\"Oceania\", \"Europe\", \"Asia\", \"South America\", \"Middle East\", \"North America\", \"Africa\"],\n",
    "#     [\"#adb0ff\", \"#ffb3ff\", \"#90d595\", \"#e48381\", \"#aafbff\", \"#f7bb5f\", \"#eafb50\"]\n",
    "# ))\n",
    "# group_lk = g.set_index('name')['group'].to_dict()"
   ]
  },
  {
   "cell_type": "code",
   "execution_count": null,
   "id": "gross-drinking",
   "metadata": {
    "papermill": {
     "duration": 0.032524,
     "end_time": "2022-03-08T00:31:57.204187",
     "exception": false,
     "start_time": "2022-03-08T00:31:57.171663",
     "status": "completed"
    },
    "tags": []
   },
   "outputs": [],
   "source": []
  },
  {
   "cell_type": "code",
   "execution_count": 41,
   "id": "subject-macintosh",
   "metadata": {
    "execution": {
     "iopub.execute_input": "2022-03-08T00:31:57.271562Z",
     "iopub.status.busy": "2022-03-08T00:31:57.271050Z",
     "iopub.status.idle": "2022-03-08T00:31:57.273024Z",
     "shell.execute_reply": "2022-03-08T00:31:57.272614Z"
    },
    "papermill": {
     "duration": 0.037135,
     "end_time": "2022-03-08T00:31:57.273122",
     "exception": false,
     "start_time": "2022-03-08T00:31:57.235987",
     "status": "completed"
    },
    "tags": []
   },
   "outputs": [],
   "source": [
    "# #hide\n",
    "# fig, ax = plt.subplots(figsize=(15, 8))\n",
    "\n",
    "# def draw_barchart(current_day):\n",
    "#     dff = g[g['day'].eq(current_day)].sort_values(by='value', ascending=True).tail(10)\n",
    "#     ax.clear()\n",
    "#     ax.barh(dff['name'], dff['value'], color=[colors[group_lk[x]] for x in dff['name']])\n",
    "#     dx = dff['value'].max() / 200\n",
    "    \n",
    "#     for i, (value, name) in enumerate(zip(dff['value'], dff['name'])):\n",
    "#         ax.text(value-dx, i,     name,           size=14, weight=600, ha='right', va='bottom')\n",
    "#         ax.text(value-dx, i-.25, group_lk[name], size=10, color='#444444', ha='right', va='baseline')\n",
    "#         ax.text(value+dx, i,     f'{value:,.0f}',  size=14, ha='left',  va='center')\n",
    "#     ax.text(1, 0.4, current_day, transform=ax.transAxes, color='#777777', size=46, ha='right', weight=800)\n",
    "#     ax.text(0, 1.06, 'Population (thousands)', transform=ax.transAxes, size=12, color='#777777')\n",
    "#     ax.xaxis.set_major_formatter(ticker.StrMethodFormatter('{x:,.0f}'))\n",
    "#     ax.xaxis.set_ticks_position('top')\n",
    "#     ax.tick_params(axis='x', colors='#777777', labelsize=12)\n",
    "#     ax.set_yticks([])\n",
    "#     ax.margins(0, 0.01)\n",
    "#     ax.grid(which='major', axis='x', linestyle='-')\n",
    "#     ax.set_axisbelow(True)\n",
    "    \n",
    "#     ax.text(0, 1.15, 'Coronavirus',\n",
    "#             transform=ax.transAxes, size=24, weight=600, ha='left', va='top')\n",
    "# #     ax.text(1, 0, 'by @pratapvardhan; credit @jburnmurdoch', transform=ax.transAxes, color='#777777', ha='right',\n",
    "# #             bbox=dict(facecolor='white', alpha=0.8, edgecolor='white'))\n",
    "#     plt.box(False)"
   ]
  },
  {
   "cell_type": "code",
   "execution_count": 42,
   "id": "sexual-wages",
   "metadata": {
    "execution": {
     "iopub.execute_input": "2022-03-08T00:31:57.339703Z",
     "iopub.status.busy": "2022-03-08T00:31:57.339187Z",
     "iopub.status.idle": "2022-03-08T00:31:57.342169Z",
     "shell.execute_reply": "2022-03-08T00:31:57.342545Z"
    },
    "papermill": {
     "duration": 0.037931,
     "end_time": "2022-03-08T00:31:57.342661",
     "exception": false,
     "start_time": "2022-03-08T00:31:57.304730",
     "status": "completed"
    },
    "tags": []
   },
   "outputs": [],
   "source": [
    "# #hide_input\n",
    "# fig, ax = plt.subplots(figsize=(15, 8))\n",
    "# animator = animation.FuncAnimation(fig, draw_barchart, frames=range(g.day.values.min(), g.day.values.max()))\n",
    "# HTML(animator.to_jshtml())\n",
    "# # or use animator.to_html5_video() or animator.save() "
   ]
  },
  {
   "cell_type": "code",
   "execution_count": null,
   "id": "australian-container",
   "metadata": {
    "papermill": {
     "duration": 0.031766,
     "end_time": "2022-03-08T00:31:57.406172",
     "exception": false,
     "start_time": "2022-03-08T00:31:57.374406",
     "status": "completed"
    },
    "tags": []
   },
   "outputs": [],
   "source": []
  },
  {
   "cell_type": "code",
   "execution_count": null,
   "id": "mediterranean-pontiac",
   "metadata": {
    "papermill": {
     "duration": 0.031365,
     "end_time": "2022-03-08T00:31:57.469042",
     "exception": false,
     "start_time": "2022-03-08T00:31:57.437677",
     "status": "completed"
    },
    "tags": []
   },
   "outputs": [],
   "source": []
  },
  {
   "cell_type": "code",
   "execution_count": null,
   "id": "aging-legislature",
   "metadata": {
    "papermill": {
     "duration": 0.031248,
     "end_time": "2022-03-08T00:31:57.531963",
     "exception": false,
     "start_time": "2022-03-08T00:31:57.500715",
     "status": "completed"
    },
    "tags": []
   },
   "outputs": [],
   "source": []
  }
 ],
 "metadata": {
  "kernelspec": {
   "display_name": "Python 3",
   "language": "python",
   "name": "python3"
  },
  "language_info": {
   "codemirror_mode": {
    "name": "ipython",
    "version": 3
   },
   "file_extension": ".py",
   "mimetype": "text/x-python",
   "name": "python",
   "nbconvert_exporter": "python",
   "pygments_lexer": "ipython3",
   "version": "3.6.15"
  },
  "papermill": {
   "duration": 5.799121,
   "end_time": "2022-03-08T00:31:57.880820",
   "environment_variables": {},
   "exception": null,
   "input_path": "2020-03-21-covid19exp.ipynb",
   "output_path": "2020-03-21-covid19exp.ipynb",
   "parameters": {},
   "start_time": "2022-03-08T00:31:52.081699",
   "version": "2.0.0"
  }
 },
 "nbformat": 4,
 "nbformat_minor": 5
}