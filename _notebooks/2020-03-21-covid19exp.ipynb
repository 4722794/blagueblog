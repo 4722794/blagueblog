{
 "cells": [
  {
   "cell_type": "markdown",
   "metadata": {
    "papermill": {
     "duration": 0.037465,
     "end_time": "2020-12-11T00:11:53.244625",
     "exception": false,
     "start_time": "2020-12-11T00:11:53.207160",
     "status": "completed"
    },
    "tags": []
   },
   "source": [
    "# COVID-19 Case Race\n",
    "> A race chart to see rising cases around the world\n",
    "\n",
    "- author: Hargun Oberoi\n",
    "- image: images/covid-overview.png\n",
    "- hide: false\n",
    "- badges: false"
   ]
  },
  {
   "cell_type": "code",
   "execution_count": 1,
   "metadata": {
    "execution": {
     "iopub.execute_input": "2020-12-11T00:11:53.318348Z",
     "iopub.status.busy": "2020-12-11T00:11:53.317283Z",
     "iopub.status.idle": "2020-12-11T00:11:53.662177Z",
     "shell.execute_reply": "2020-12-11T00:11:53.662693Z"
    },
    "papermill": {
     "duration": 0.387508,
     "end_time": "2020-12-11T00:11:53.662903",
     "exception": false,
     "start_time": "2020-12-11T00:11:53.275395",
     "status": "completed"
    },
    "tags": []
   },
   "outputs": [],
   "source": [
    "#hide\n",
    "import numpy as np\n",
    "import pandas as pd\n",
    "from jinja2 import Template\n",
    "from IPython.display import HTML"
   ]
  },
  {
   "cell_type": "code",
   "execution_count": 2,
   "metadata": {
    "execution": {
     "iopub.execute_input": "2020-12-11T00:11:53.732035Z",
     "iopub.status.busy": "2020-12-11T00:11:53.731241Z",
     "iopub.status.idle": "2020-12-11T00:11:53.732653Z",
     "shell.execute_reply": "2020-12-11T00:11:53.733110Z"
    },
    "papermill": {
     "duration": 0.040118,
     "end_time": "2020-12-11T00:11:53.733262",
     "exception": false,
     "start_time": "2020-12-11T00:11:53.693144",
     "status": "completed"
    },
    "tags": []
   },
   "outputs": [],
   "source": [
    "#hide\n",
    "\n",
    "# FETCH\n",
    "base_url = 'https://raw.githubusercontent.com/pratapvardhan/notebooks/master/covid19/'\n",
    "paths = {\n",
    "    'mapping': base_url + 'mapping_countries.csv',\n",
    "    'overview': base_url + 'overview.tpl'\n",
    "}"
   ]
  },
  {
   "cell_type": "code",
   "execution_count": 3,
   "metadata": {
    "execution": {
     "iopub.execute_input": "2020-12-11T00:11:53.807459Z",
     "iopub.status.busy": "2020-12-11T00:11:53.806845Z",
     "iopub.status.idle": "2020-12-11T00:11:53.809165Z",
     "shell.execute_reply": "2020-12-11T00:11:53.809704Z"
    },
    "papermill": {
     "duration": 0.046243,
     "end_time": "2020-12-11T00:11:53.809856",
     "exception": false,
     "start_time": "2020-12-11T00:11:53.763613",
     "status": "completed"
    },
    "tags": []
   },
   "outputs": [
    {
     "data": {
      "text/plain": [
       "'https://raw.githubusercontent.com/pratapvardhan/notebooks/master/covid19/mapping_countries.csv'"
      ]
     },
     "execution_count": 3,
     "metadata": {},
     "output_type": "execute_result"
    }
   ],
   "source": [
    "#hide\n",
    "paths['mapping']"
   ]
  },
  {
   "cell_type": "code",
   "execution_count": 4,
   "metadata": {
    "execution": {
     "iopub.execute_input": "2020-12-11T00:11:53.877006Z",
     "iopub.status.busy": "2020-12-11T00:11:53.876411Z",
     "iopub.status.idle": "2020-12-11T00:11:53.878660Z",
     "shell.execute_reply": "2020-12-11T00:11:53.878163Z"
    },
    "papermill": {
     "duration": 0.038798,
     "end_time": "2020-12-11T00:11:53.878816",
     "exception": false,
     "start_time": "2020-12-11T00:11:53.840018",
     "status": "completed"
    },
    "tags": []
   },
   "outputs": [],
   "source": [
    "#hide\n",
    "def get_mappings(url):\n",
    "    df = pd.read_csv(url)\n",
    "    return {\n",
    "        'df': df,\n",
    "        'replace.country': dict(df.dropna(subset=['Name']).set_index('Country')['Name']),\n",
    "        'map.continent': dict(df.set_index('Name')['Continent'])\n",
    "    }"
   ]
  },
  {
   "cell_type": "code",
   "execution_count": 5,
   "metadata": {
    "execution": {
     "iopub.execute_input": "2020-12-11T00:11:53.946153Z",
     "iopub.status.busy": "2020-12-11T00:11:53.945555Z",
     "iopub.status.idle": "2020-12-11T00:11:53.998884Z",
     "shell.execute_reply": "2020-12-11T00:11:53.998327Z"
    },
    "papermill": {
     "duration": 0.090318,
     "end_time": "2020-12-11T00:11:53.999033",
     "exception": false,
     "start_time": "2020-12-11T00:11:53.908715",
     "status": "completed"
    },
    "tags": []
   },
   "outputs": [],
   "source": [
    "#hide\n",
    "mapping = get_mappings(paths['mapping'])"
   ]
  },
  {
   "cell_type": "code",
   "execution_count": 6,
   "metadata": {
    "execution": {
     "iopub.execute_input": "2020-12-11T00:11:54.067447Z",
     "iopub.status.busy": "2020-12-11T00:11:54.066816Z",
     "iopub.status.idle": "2020-12-11T00:11:54.069082Z",
     "shell.execute_reply": "2020-12-11T00:11:54.068580Z"
    },
    "papermill": {
     "duration": 0.039846,
     "end_time": "2020-12-11T00:11:54.069218",
     "exception": false,
     "start_time": "2020-12-11T00:11:54.029372",
     "status": "completed"
    },
    "tags": []
   },
   "outputs": [],
   "source": [
    "#hide\n",
    "def get_template(path):\n",
    "    from urllib.parse import urlparse\n",
    "    if bool(urlparse(path).netloc):\n",
    "        from urllib.request import urlopen\n",
    "        return urlopen(path).read().decode('utf8')\n",
    "    return open(path).read()"
   ]
  },
  {
   "cell_type": "code",
   "execution_count": 7,
   "metadata": {
    "execution": {
     "iopub.execute_input": "2020-12-11T00:11:54.134835Z",
     "iopub.status.busy": "2020-12-11T00:11:54.134231Z",
     "iopub.status.idle": "2020-12-11T00:11:54.136929Z",
     "shell.execute_reply": "2020-12-11T00:11:54.136461Z"
    },
    "papermill": {
     "duration": 0.037659,
     "end_time": "2020-12-11T00:11:54.137063",
     "exception": false,
     "start_time": "2020-12-11T00:11:54.099404",
     "status": "completed"
    },
    "tags": []
   },
   "outputs": [],
   "source": [
    "#hide\n",
    "def get_frame(name):\n",
    "    url = (\n",
    "        'https://raw.githubusercontent.com/CSSEGISandData/COVID-19/master/csse_covid_19_data/'\n",
    "        f'csse_covid_19_time_series/time_series_covid19_{name}_global.csv')\n",
    "    df = pd.read_csv(url)\n",
    "    # rename countries\n",
    "    df['Country/Region'] = df['Country/Region'].replace(mapping['replace.country'])\n",
    "    return df"
   ]
  },
  {
   "cell_type": "code",
   "execution_count": 8,
   "metadata": {
    "execution": {
     "iopub.execute_input": "2020-12-11T00:11:54.203283Z",
     "iopub.status.busy": "2020-12-11T00:11:54.202636Z",
     "iopub.status.idle": "2020-12-11T00:11:54.204751Z",
     "shell.execute_reply": "2020-12-11T00:11:54.204179Z"
    },
    "papermill": {
     "duration": 0.037782,
     "end_time": "2020-12-11T00:11:54.204877",
     "exception": false,
     "start_time": "2020-12-11T00:11:54.167095",
     "status": "completed"
    },
    "tags": []
   },
   "outputs": [],
   "source": [
    "#hide\n",
    "def get_dates(df):\n",
    "    dt_cols = df.columns[~df.columns.isin(['Province/State', 'Country/Region', 'Lat', 'Long'])]\n",
    "    LAST_DATE_I = -1\n",
    "    # sometimes last column may be empty, then go backwards\n",
    "    for i in range(-1, -len(dt_cols), -1):\n",
    "        if not df[dt_cols[i]].fillna(0).eq(0).all():\n",
    "            LAST_DATE_I = i\n",
    "            break\n",
    "    return LAST_DATE_I, dt_cols"
   ]
  },
  {
   "cell_type": "code",
   "execution_count": 9,
   "metadata": {
    "execution": {
     "iopub.execute_input": "2020-12-11T00:11:54.271685Z",
     "iopub.status.busy": "2020-12-11T00:11:54.271106Z",
     "iopub.status.idle": "2020-12-11T00:11:54.619281Z",
     "shell.execute_reply": "2020-12-11T00:11:54.618738Z"
    },
    "papermill": {
     "duration": 0.384893,
     "end_time": "2020-12-11T00:11:54.619428",
     "exception": false,
     "start_time": "2020-12-11T00:11:54.234535",
     "status": "completed"
    },
    "tags": []
   },
   "outputs": [],
   "source": [
    "#hide\n",
    "COL_REGION = 'Country/Region'\n",
    "# Confirmed, Recovered, Deaths\n",
    "df = get_frame('confirmed')\n",
    "# dft_: timeseries, dfc_: today country agg\n",
    "dft_cases = df\n",
    "dft_deaths = get_frame('deaths')\n",
    "dft_recovered = get_frame('recovered')\n",
    "LAST_DATE_I, dt_cols = get_dates(df)"
   ]
  },
  {
   "cell_type": "code",
   "execution_count": 10,
   "metadata": {
    "execution": {
     "iopub.execute_input": "2020-12-11T00:11:54.688289Z",
     "iopub.status.busy": "2020-12-11T00:11:54.687691Z",
     "iopub.status.idle": "2020-12-11T00:11:54.689947Z",
     "shell.execute_reply": "2020-12-11T00:11:54.689451Z"
    },
    "papermill": {
     "duration": 0.039496,
     "end_time": "2020-12-11T00:11:54.690078",
     "exception": false,
     "start_time": "2020-12-11T00:11:54.650582",
     "status": "completed"
    },
    "tags": []
   },
   "outputs": [],
   "source": [
    "#hide\n",
    "LAST_DATE_I, dt_cols = get_dates(df)\n",
    "dt_today =dt_cols[LAST_DATE_I]\n",
    "# dt_5day = dt_cols[LAST_DATE_I - 5]\n",
    "dt_yday = dt_cols[LAST_DATE_I - 1]"
   ]
  },
  {
   "cell_type": "code",
   "execution_count": 11,
   "metadata": {
    "execution": {
     "iopub.execute_input": "2020-12-11T00:11:54.759651Z",
     "iopub.status.busy": "2020-12-11T00:11:54.759057Z",
     "iopub.status.idle": "2020-12-11T00:11:54.765627Z",
     "shell.execute_reply": "2020-12-11T00:11:54.765153Z"
    },
    "papermill": {
     "duration": 0.045651,
     "end_time": "2020-12-11T00:11:54.765759",
     "exception": false,
     "start_time": "2020-12-11T00:11:54.720108",
     "status": "completed"
    },
    "tags": []
   },
   "outputs": [],
   "source": [
    "#hide\n",
    "dfc_cases = dft_cases.groupby(COL_REGION)[dt_today].sum()\n",
    "dfc_deaths = dft_deaths.groupby(COL_REGION)[dt_today].sum()\n",
    "# dfp_cases = dft_cases.groupby(COL_REGION)[dt_5day].sum()\n",
    "# dfp_deaths = dft_deaths.groupby(COL_REGION)[dt_5day].sum()\n",
    "dfp_cases = dft_cases.groupby(COL_REGION)[dt_yday].sum()\n",
    "dfp_deaths = dft_deaths.groupby(COL_REGION)[dt_yday].sum()"
   ]
  },
  {
   "cell_type": "code",
   "execution_count": 12,
   "metadata": {
    "execution": {
     "iopub.execute_input": "2020-12-11T00:11:54.832855Z",
     "iopub.status.busy": "2020-12-11T00:11:54.832256Z",
     "iopub.status.idle": "2020-12-11T00:11:54.838094Z",
     "shell.execute_reply": "2020-12-11T00:11:54.838568Z"
    },
    "papermill": {
     "duration": 0.042994,
     "end_time": "2020-12-11T00:11:54.838749",
     "exception": false,
     "start_time": "2020-12-11T00:11:54.795755",
     "status": "completed"
    },
    "tags": []
   },
   "outputs": [],
   "source": [
    "#hide\n",
    "df_table = (pd.DataFrame(dict(Cases = dfc_cases, Deaths = dfc_deaths, PCases = dfp_cases, PDeaths = dfp_deaths))\n",
    "            .sort_values(by = ['Cases','Deaths'], ascending = [False, False])\n",
    "            .reset_index())"
   ]
  },
  {
   "cell_type": "code",
   "execution_count": 13,
   "metadata": {
    "execution": {
     "iopub.execute_input": "2020-12-11T00:11:54.923214Z",
     "iopub.status.busy": "2020-12-11T00:11:54.916901Z",
     "iopub.status.idle": "2020-12-11T00:11:54.926532Z",
     "shell.execute_reply": "2020-12-11T00:11:54.926033Z"
    },
    "papermill": {
     "duration": 0.057973,
     "end_time": "2020-12-11T00:11:54.926663",
     "exception": false,
     "start_time": "2020-12-11T00:11:54.868690",
     "status": "completed"
    },
    "tags": []
   },
   "outputs": [
    {
     "data": {
      "text/html": [
       "<div>\n",
       "<style scoped>\n",
       "    .dataframe tbody tr th:only-of-type {\n",
       "        vertical-align: middle;\n",
       "    }\n",
       "\n",
       "    .dataframe tbody tr th {\n",
       "        vertical-align: top;\n",
       "    }\n",
       "\n",
       "    .dataframe thead th {\n",
       "        text-align: right;\n",
       "    }\n",
       "</style>\n",
       "<table border=\"1\" class=\"dataframe\">\n",
       "  <thead>\n",
       "    <tr style=\"text-align: right;\">\n",
       "      <th></th>\n",
       "      <th>Country/Region</th>\n",
       "      <th>Cases</th>\n",
       "      <th>Deaths</th>\n",
       "      <th>PCases</th>\n",
       "      <th>PDeaths</th>\n",
       "      <th>Cases (+)</th>\n",
       "      <th>Deaths (+)</th>\n",
       "      <th>Fatality Rate</th>\n",
       "      <th>Continent</th>\n",
       "    </tr>\n",
       "  </thead>\n",
       "  <tbody>\n",
       "    <tr>\n",
       "      <th>0</th>\n",
       "      <td>US</td>\n",
       "      <td>15386562</td>\n",
       "      <td>289373</td>\n",
       "      <td>15165295</td>\n",
       "      <td>286249</td>\n",
       "      <td>221267</td>\n",
       "      <td>3124</td>\n",
       "      <td>1.88</td>\n",
       "      <td>North America</td>\n",
       "    </tr>\n",
       "    <tr>\n",
       "      <th>1</th>\n",
       "      <td>India</td>\n",
       "      <td>9767371</td>\n",
       "      <td>141772</td>\n",
       "      <td>9735850</td>\n",
       "      <td>141360</td>\n",
       "      <td>31521</td>\n",
       "      <td>412</td>\n",
       "      <td>1.45</td>\n",
       "      <td>Asia</td>\n",
       "    </tr>\n",
       "    <tr>\n",
       "      <th>2</th>\n",
       "      <td>Brazil</td>\n",
       "      <td>6728452</td>\n",
       "      <td>178995</td>\n",
       "      <td>6674999</td>\n",
       "      <td>178159</td>\n",
       "      <td>53453</td>\n",
       "      <td>836</td>\n",
       "      <td>2.66</td>\n",
       "      <td>South America</td>\n",
       "    </tr>\n",
       "    <tr>\n",
       "      <th>3</th>\n",
       "      <td>Russia</td>\n",
       "      <td>2518551</td>\n",
       "      <td>44220</td>\n",
       "      <td>2492713</td>\n",
       "      <td>43674</td>\n",
       "      <td>25838</td>\n",
       "      <td>546</td>\n",
       "      <td>1.76</td>\n",
       "      <td>Europe</td>\n",
       "    </tr>\n",
       "    <tr>\n",
       "      <th>4</th>\n",
       "      <td>France</td>\n",
       "      <td>2377913</td>\n",
       "      <td>56752</td>\n",
       "      <td>2363196</td>\n",
       "      <td>56453</td>\n",
       "      <td>14717</td>\n",
       "      <td>299</td>\n",
       "      <td>2.39</td>\n",
       "      <td>Europe</td>\n",
       "    </tr>\n",
       "  </tbody>\n",
       "</table>\n",
       "</div>"
      ],
      "text/plain": [
       "  Country/Region     Cases  Deaths    PCases  PDeaths  Cases (+)  Deaths (+)  \\\n",
       "0             US  15386562  289373  15165295   286249     221267        3124   \n",
       "1          India   9767371  141772   9735850   141360      31521         412   \n",
       "2         Brazil   6728452  178995   6674999   178159      53453         836   \n",
       "3         Russia   2518551   44220   2492713    43674      25838         546   \n",
       "4         France   2377913   56752   2363196    56453      14717         299   \n",
       "\n",
       "   Fatality Rate      Continent  \n",
       "0           1.88  North America  \n",
       "1           1.45           Asia  \n",
       "2           2.66  South America  \n",
       "3           1.76         Europe  \n",
       "4           2.39         Europe  "
      ]
     },
     "execution_count": 13,
     "metadata": {},
     "output_type": "execute_result"
    }
   ],
   "source": [
    "#hide\n",
    "for c in 'Cases, Deaths'.split(', '):\n",
    "    df_table[f'{c} (+)'] = (df_table[c] - df_table[f'P{c}']).clip(0)\n",
    "    #Clip ça veut dire, les chiffres negatif sont interdit\n",
    "df_table['Fatality Rate'] = (100* df_table['Deaths']/ df_table['Cases']).round(2)\n",
    "df_table['Continent'] = df_table['Country/Region'].map(mapping['map.continent'])\n",
    "df_table.head(5)"
   ]
  },
  {
   "cell_type": "code",
   "execution_count": 14,
   "metadata": {
    "execution": {
     "iopub.execute_input": "2020-12-11T00:11:54.994803Z",
     "iopub.status.busy": "2020-12-11T00:11:54.994184Z",
     "iopub.status.idle": "2020-12-11T00:11:54.998069Z",
     "shell.execute_reply": "2020-12-11T00:11:54.998536Z"
    },
    "papermill": {
     "duration": 0.041297,
     "end_time": "2020-12-11T00:11:54.998686",
     "exception": false,
     "start_time": "2020-12-11T00:11:54.957389",
     "status": "completed"
    },
    "tags": []
   },
   "outputs": [],
   "source": [
    "#hide\n",
    "#delete problematic countries from table\n",
    "df_table = df_table[~df_table['Country/Region'].isin(['Cape Verde', 'Cruise Ship', 'Kosovo'])]"
   ]
  },
  {
   "cell_type": "code",
   "execution_count": 15,
   "metadata": {
    "execution": {
     "iopub.execute_input": "2020-12-11T00:11:55.068124Z",
     "iopub.status.busy": "2020-12-11T00:11:55.067534Z",
     "iopub.status.idle": "2020-12-11T00:11:55.087011Z",
     "shell.execute_reply": "2020-12-11T00:11:55.087668Z"
    },
    "papermill": {
     "duration": 0.058819,
     "end_time": "2020-12-11T00:11:55.087863",
     "exception": false,
     "start_time": "2020-12-11T00:11:55.029044",
     "status": "completed"
    },
    "tags": []
   },
   "outputs": [
    {
     "data": {
      "text/html": [
       "<div>\n",
       "<style scoped>\n",
       "    .dataframe tbody tr th:only-of-type {\n",
       "        vertical-align: middle;\n",
       "    }\n",
       "\n",
       "    .dataframe tbody tr th {\n",
       "        vertical-align: top;\n",
       "    }\n",
       "\n",
       "    .dataframe thead th {\n",
       "        text-align: right;\n",
       "    }\n",
       "</style>\n",
       "<table border=\"1\" class=\"dataframe\">\n",
       "  <thead>\n",
       "    <tr style=\"text-align: right;\">\n",
       "      <th></th>\n",
       "      <th>Country/Region</th>\n",
       "      <th>Cases</th>\n",
       "      <th>Deaths</th>\n",
       "      <th>PCases</th>\n",
       "      <th>PDeaths</th>\n",
       "      <th>Cases (+)</th>\n",
       "      <th>Deaths (+)</th>\n",
       "      <th>Fatality Rate</th>\n",
       "      <th>Continent</th>\n",
       "    </tr>\n",
       "  </thead>\n",
       "  <tbody>\n",
       "    <tr>\n",
       "      <th>0</th>\n",
       "      <td>US</td>\n",
       "      <td>15386562</td>\n",
       "      <td>289373</td>\n",
       "      <td>15165295</td>\n",
       "      <td>286249</td>\n",
       "      <td>221267</td>\n",
       "      <td>3124</td>\n",
       "      <td>1.9</td>\n",
       "      <td>North America</td>\n",
       "    </tr>\n",
       "    <tr>\n",
       "      <th>1</th>\n",
       "      <td>India</td>\n",
       "      <td>9767371</td>\n",
       "      <td>141772</td>\n",
       "      <td>9735850</td>\n",
       "      <td>141360</td>\n",
       "      <td>31521</td>\n",
       "      <td>412</td>\n",
       "      <td>1.5</td>\n",
       "      <td>Asia</td>\n",
       "    </tr>\n",
       "    <tr>\n",
       "      <th>2</th>\n",
       "      <td>Brazil</td>\n",
       "      <td>6728452</td>\n",
       "      <td>178995</td>\n",
       "      <td>6674999</td>\n",
       "      <td>178159</td>\n",
       "      <td>53453</td>\n",
       "      <td>836</td>\n",
       "      <td>2.7</td>\n",
       "      <td>South America</td>\n",
       "    </tr>\n",
       "    <tr>\n",
       "      <th>3</th>\n",
       "      <td>Russia</td>\n",
       "      <td>2518551</td>\n",
       "      <td>44220</td>\n",
       "      <td>2492713</td>\n",
       "      <td>43674</td>\n",
       "      <td>25838</td>\n",
       "      <td>546</td>\n",
       "      <td>1.8</td>\n",
       "      <td>Europe</td>\n",
       "    </tr>\n",
       "    <tr>\n",
       "      <th>4</th>\n",
       "      <td>France</td>\n",
       "      <td>2377913</td>\n",
       "      <td>56752</td>\n",
       "      <td>2363196</td>\n",
       "      <td>56453</td>\n",
       "      <td>14717</td>\n",
       "      <td>299</td>\n",
       "      <td>2.4</td>\n",
       "      <td>Europe</td>\n",
       "    </tr>\n",
       "  </tbody>\n",
       "</table>\n",
       "</div>"
      ],
      "text/plain": [
       "  Country/Region     Cases  Deaths    PCases  PDeaths  Cases (+)  Deaths (+)  \\\n",
       "0             US  15386562  289373  15165295   286249     221267        3124   \n",
       "1          India   9767371  141772   9735850   141360      31521         412   \n",
       "2         Brazil   6728452  178995   6674999   178159      53453         836   \n",
       "3         Russia   2518551   44220   2492713    43674      25838         546   \n",
       "4         France   2377913   56752   2363196    56453      14717         299   \n",
       "\n",
       "   Fatality Rate      Continent  \n",
       "0            1.9  North America  \n",
       "1            1.5           Asia  \n",
       "2            2.7  South America  \n",
       "3            1.8         Europe  \n",
       "4            2.4         Europe  "
      ]
     },
     "execution_count": 15,
     "metadata": {},
     "output_type": "execute_result"
    }
   ],
   "source": [
    "#hide\n",
    "df_table = (pd.DataFrame(dict(Cases=dfc_cases, Deaths=dfc_deaths, PCases=dfp_cases, PDeaths=dfp_deaths))\n",
    "             .sort_values(by=['Cases', 'Deaths'], ascending=[False, False])\n",
    "             .reset_index())\n",
    "df_table.rename(columns={'index': 'Country/Region'}, inplace=True)\n",
    "for c in 'Cases, Deaths'.split(', '):\n",
    "    df_table[f'{c} (+)'] = (df_table[c] - df_table[f'P{c}']).clip(0)  # DATA BUG\n",
    "df_table['Fatality Rate'] = (100 * df_table['Deaths'] / df_table['Cases']).round(1)\n",
    "df_table['Continent'] = df_table['Country/Region'].map(mapping['map.continent'])\n",
    "df_table.head(5)"
   ]
  },
  {
   "cell_type": "code",
   "execution_count": 16,
   "metadata": {
    "execution": {
     "iopub.execute_input": "2020-12-11T00:11:55.157467Z",
     "iopub.status.busy": "2020-12-11T00:11:55.156871Z",
     "iopub.status.idle": "2020-12-11T00:11:55.158940Z",
     "shell.execute_reply": "2020-12-11T00:11:55.159392Z"
    },
    "papermill": {
     "duration": 0.039572,
     "end_time": "2020-12-11T00:11:55.159545",
     "exception": false,
     "start_time": "2020-12-11T00:11:55.119973",
     "status": "completed"
    },
    "tags": []
   },
   "outputs": [],
   "source": [
    "#hide\n",
    "#delete problematic countries from table\n",
    "df_table = df_table[~df_table['Country/Region'].isin(['Cape Verde', 'Cruise Ship', 'Kosovo'])]"
   ]
  },
  {
   "cell_type": "code",
   "execution_count": 17,
   "metadata": {
    "execution": {
     "iopub.execute_input": "2020-12-11T00:11:55.240990Z",
     "iopub.status.busy": "2020-12-11T00:11:55.240380Z",
     "iopub.status.idle": "2020-12-11T00:11:55.243038Z",
     "shell.execute_reply": "2020-12-11T00:11:55.242495Z"
    },
    "papermill": {
     "duration": 0.052939,
     "end_time": "2020-12-11T00:11:55.243174",
     "exception": false,
     "start_time": "2020-12-11T00:11:55.190235",
     "status": "completed"
    },
    "tags": []
   },
   "outputs": [],
   "source": [
    "#hide\n",
    "metrics = [df_table.columns[index] for index in [1,2,5,6]]\n",
    "# s_china = df_table[df_table['Country/Region'].eq('China')][metrics].sum().add_prefix('China ')\n",
    "s_us = df_table[df_table['Country/Region'].eq('US')][metrics].sum().add_prefix('US ')\n",
    "s_eu = df_table[df_table['Continent'].eq('Europe')][metrics].sum().add_prefix('EU ')\n",
    "s_ind = df_table[df_table['Country/Region'].eq('India')][metrics].sum().add_prefix('India ')\n",
    "summary = {'updated': pd.to_datetime(dt_today), 'since': pd.to_datetime(dt_yday)}\n",
    "summary = {'updated': pd.to_datetime(dt_today), 'since': pd.to_datetime(dt_yday)}\n",
    "summary = {**summary, **df_table[metrics].sum(), **s_ind, **s_us, **s_eu}"
   ]
  },
  {
   "cell_type": "code",
   "execution_count": 18,
   "metadata": {
    "execution": {
     "iopub.execute_input": "2020-12-11T00:11:55.313964Z",
     "iopub.status.busy": "2020-12-11T00:11:55.313413Z",
     "iopub.status.idle": "2020-12-11T00:11:55.322271Z",
     "shell.execute_reply": "2020-12-11T00:11:55.322763Z"
    },
    "papermill": {
     "duration": 0.048754,
     "end_time": "2020-12-11T00:11:55.322920",
     "exception": false,
     "start_time": "2020-12-11T00:11:55.274166",
     "status": "completed"
    },
    "tags": []
   },
   "outputs": [],
   "source": [
    "#hide\n",
    "dft_ct_new_cases = dft_cases.groupby(COL_REGION)[dt_cols].sum().diff(axis=1).fillna(0).astype(int)"
   ]
  },
  {
   "cell_type": "code",
   "execution_count": 19,
   "metadata": {
    "execution": {
     "iopub.execute_input": "2020-12-11T00:11:55.390899Z",
     "iopub.status.busy": "2020-12-11T00:11:55.390278Z",
     "iopub.status.idle": "2020-12-11T00:11:55.392764Z",
     "shell.execute_reply": "2020-12-11T00:11:55.393235Z"
    },
    "papermill": {
     "duration": 0.039887,
     "end_time": "2020-12-11T00:11:55.393386",
     "exception": false,
     "start_time": "2020-12-11T00:11:55.353499",
     "status": "completed"
    },
    "tags": []
   },
   "outputs": [],
   "source": [
    "#hide\n",
    "everydaycases = dft_ct_new_cases.cumsum(axis=1)"
   ]
  },
  {
   "cell_type": "code",
   "execution_count": 20,
   "metadata": {
    "execution": {
     "iopub.execute_input": "2020-12-11T00:11:55.460579Z",
     "iopub.status.busy": "2020-12-11T00:11:55.459996Z",
     "iopub.status.idle": "2020-12-11T00:11:56.464670Z",
     "shell.execute_reply": "2020-12-11T00:11:56.464116Z"
    },
    "papermill": {
     "duration": 1.040451,
     "end_time": "2020-12-11T00:11:56.464814",
     "exception": false,
     "start_time": "2020-12-11T00:11:55.424363",
     "status": "completed"
    },
    "tags": []
   },
   "outputs": [],
   "source": [
    "#hide\n",
    "import pandas as pd\n",
    "import matplotlib.pyplot as plt\n",
    "import matplotlib.ticker as ticker\n",
    "import matplotlib.animation as animation\n",
    "from IPython.display import HTML"
   ]
  },
  {
   "cell_type": "code",
   "execution_count": 21,
   "metadata": {
    "execution": {
     "iopub.execute_input": "2020-12-11T00:11:56.535215Z",
     "iopub.status.busy": "2020-12-11T00:11:56.534543Z",
     "iopub.status.idle": "2020-12-11T00:11:56.541126Z",
     "shell.execute_reply": "2020-12-11T00:11:56.541629Z"
    },
    "papermill": {
     "duration": 0.044988,
     "end_time": "2020-12-11T00:11:56.541839",
     "exception": false,
     "start_time": "2020-12-11T00:11:56.496851",
     "status": "completed"
    },
    "tags": []
   },
   "outputs": [],
   "source": [
    "#hide\n",
    "t = everydaycases.stack()"
   ]
  },
  {
   "cell_type": "code",
   "execution_count": 22,
   "metadata": {
    "execution": {
     "iopub.execute_input": "2020-12-11T00:11:56.614917Z",
     "iopub.status.busy": "2020-12-11T00:11:56.614278Z",
     "iopub.status.idle": "2020-12-11T00:11:56.625040Z",
     "shell.execute_reply": "2020-12-11T00:11:56.624541Z"
    },
    "papermill": {
     "duration": 0.051813,
     "end_time": "2020-12-11T00:11:56.625166",
     "exception": false,
     "start_time": "2020-12-11T00:11:56.573353",
     "status": "completed"
    },
    "tags": []
   },
   "outputs": [],
   "source": [
    "#hide\n",
    "g = t.reset_index(['Country/Region'])"
   ]
  },
  {
   "cell_type": "code",
   "execution_count": 23,
   "metadata": {
    "execution": {
     "iopub.execute_input": "2020-12-11T00:11:56.694108Z",
     "iopub.status.busy": "2020-12-11T00:11:56.693073Z",
     "iopub.status.idle": "2020-12-11T00:11:56.697418Z",
     "shell.execute_reply": "2020-12-11T00:11:56.696915Z"
    },
    "papermill": {
     "duration": 0.041065,
     "end_time": "2020-12-11T00:11:56.697549",
     "exception": false,
     "start_time": "2020-12-11T00:11:56.656484",
     "status": "completed"
    },
    "tags": []
   },
   "outputs": [],
   "source": [
    "#hide\n",
    "g.index.name = 'date'"
   ]
  },
  {
   "cell_type": "code",
   "execution_count": 24,
   "metadata": {
    "execution": {
     "iopub.execute_input": "2020-12-11T00:11:56.765145Z",
     "iopub.status.busy": "2020-12-11T00:11:56.764124Z",
     "iopub.status.idle": "2020-12-11T00:11:56.766345Z",
     "shell.execute_reply": "2020-12-11T00:11:56.766924Z"
    },
    "papermill": {
     "duration": 0.03865,
     "end_time": "2020-12-11T00:11:56.767078",
     "exception": false,
     "start_time": "2020-12-11T00:11:56.728428",
     "status": "completed"
    },
    "tags": []
   },
   "outputs": [],
   "source": [
    "# #hide\n",
    "# g = g.reset_index(['date'])"
   ]
  },
  {
   "cell_type": "code",
   "execution_count": 25,
   "metadata": {
    "execution": {
     "iopub.execute_input": "2020-12-11T00:11:56.835252Z",
     "iopub.status.busy": "2020-12-11T00:11:56.834634Z",
     "iopub.status.idle": "2020-12-11T00:11:56.836962Z",
     "shell.execute_reply": "2020-12-11T00:11:56.837491Z"
    },
    "papermill": {
     "duration": 0.039055,
     "end_time": "2020-12-11T00:11:56.837644",
     "exception": false,
     "start_time": "2020-12-11T00:11:56.798589",
     "status": "completed"
    },
    "tags": []
   },
   "outputs": [],
   "source": [
    "#hide\n",
    "# g.head()"
   ]
  },
  {
   "cell_type": "code",
   "execution_count": 26,
   "metadata": {
    "execution": {
     "iopub.execute_input": "2020-12-11T00:11:56.906057Z",
     "iopub.status.busy": "2020-12-11T00:11:56.905475Z",
     "iopub.status.idle": "2020-12-11T00:11:56.907871Z",
     "shell.execute_reply": "2020-12-11T00:11:56.908428Z"
    },
    "papermill": {
     "duration": 0.038991,
     "end_time": "2020-12-11T00:11:56.908572",
     "exception": false,
     "start_time": "2020-12-11T00:11:56.869581",
     "status": "completed"
    },
    "tags": []
   },
   "outputs": [],
   "source": [
    "#hide\n",
    "# g.columns = ['date','country','cases']"
   ]
  },
  {
   "cell_type": "code",
   "execution_count": 27,
   "metadata": {
    "execution": {
     "iopub.execute_input": "2020-12-11T00:11:56.976676Z",
     "iopub.status.busy": "2020-12-11T00:11:56.975874Z",
     "iopub.status.idle": "2020-12-11T00:11:56.977513Z",
     "shell.execute_reply": "2020-12-11T00:11:56.978138Z"
    },
    "papermill": {
     "duration": 0.038975,
     "end_time": "2020-12-11T00:11:56.978326",
     "exception": false,
     "start_time": "2020-12-11T00:11:56.939351",
     "status": "completed"
    },
    "tags": []
   },
   "outputs": [],
   "source": [
    "#hide\n",
    "# g['continent'] = g.country"
   ]
  },
  {
   "cell_type": "code",
   "execution_count": 28,
   "metadata": {
    "execution": {
     "iopub.execute_input": "2020-12-11T00:11:57.046922Z",
     "iopub.status.busy": "2020-12-11T00:11:57.046299Z",
     "iopub.status.idle": "2020-12-11T00:11:57.048697Z",
     "shell.execute_reply": "2020-12-11T00:11:57.049249Z"
    },
    "papermill": {
     "duration": 0.039534,
     "end_time": "2020-12-11T00:11:57.049396",
     "exception": false,
     "start_time": "2020-12-11T00:11:57.009862",
     "status": "completed"
    },
    "tags": []
   },
   "outputs": [],
   "source": [
    "#hide\n",
    "# cols = list(g.columns.values)"
   ]
  },
  {
   "cell_type": "code",
   "execution_count": 29,
   "metadata": {
    "execution": {
     "iopub.execute_input": "2020-12-11T00:11:57.123452Z",
     "iopub.status.busy": "2020-12-11T00:11:57.122823Z",
     "iopub.status.idle": "2020-12-11T00:11:57.125038Z",
     "shell.execute_reply": "2020-12-11T00:11:57.124562Z"
    },
    "papermill": {
     "duration": 0.044569,
     "end_time": "2020-12-11T00:11:57.125160",
     "exception": false,
     "start_time": "2020-12-11T00:11:57.080591",
     "status": "completed"
    },
    "tags": []
   },
   "outputs": [],
   "source": [
    "#hide\n",
    "# cols.insert(0, cols.pop())"
   ]
  },
  {
   "cell_type": "code",
   "execution_count": 30,
   "metadata": {
    "execution": {
     "iopub.execute_input": "2020-12-11T00:11:57.565151Z",
     "iopub.status.busy": "2020-12-11T00:11:57.563686Z",
     "iopub.status.idle": "2020-12-11T00:11:57.566295Z",
     "shell.execute_reply": "2020-12-11T00:11:57.567139Z"
    },
    "papermill": {
     "duration": 0.191014,
     "end_time": "2020-12-11T00:11:57.567378",
     "exception": false,
     "start_time": "2020-12-11T00:11:57.376364",
     "status": "completed"
    },
    "tags": []
   },
   "outputs": [],
   "source": [
    "#hide\n",
    "# g = g[cols]"
   ]
  },
  {
   "cell_type": "code",
   "execution_count": 31,
   "metadata": {
    "execution": {
     "iopub.execute_input": "2020-12-11T00:11:57.638087Z",
     "iopub.status.busy": "2020-12-11T00:11:57.637510Z",
     "iopub.status.idle": "2020-12-11T00:11:57.639694Z",
     "shell.execute_reply": "2020-12-11T00:11:57.639241Z"
    },
    "papermill": {
     "duration": 0.040886,
     "end_time": "2020-12-11T00:11:57.639811",
     "exception": false,
     "start_time": "2020-12-11T00:11:57.598925",
     "status": "completed"
    },
    "tags": []
   },
   "outputs": [],
   "source": [
    "#hide\n",
    "# g['continent'] = g['continent'].map(mapping['map.continent'])"
   ]
  },
  {
   "cell_type": "code",
   "execution_count": 32,
   "metadata": {
    "execution": {
     "iopub.execute_input": "2020-12-11T00:11:57.706680Z",
     "iopub.status.busy": "2020-12-11T00:11:57.706092Z",
     "iopub.status.idle": "2020-12-11T00:11:57.707926Z",
     "shell.execute_reply": "2020-12-11T00:11:57.708367Z"
    },
    "papermill": {
     "duration": 0.03707,
     "end_time": "2020-12-11T00:11:57.708518",
     "exception": false,
     "start_time": "2020-12-11T00:11:57.671448",
     "status": "completed"
    },
    "tags": []
   },
   "outputs": [],
   "source": [
    "#hide\n",
    "# g.head()"
   ]
  },
  {
   "cell_type": "code",
   "execution_count": 33,
   "metadata": {
    "execution": {
     "iopub.execute_input": "2020-12-11T00:11:57.779185Z",
     "iopub.status.busy": "2020-12-11T00:11:57.778556Z",
     "iopub.status.idle": "2020-12-11T00:11:57.780914Z",
     "shell.execute_reply": "2020-12-11T00:11:57.781471Z"
    },
    "papermill": {
     "duration": 0.039307,
     "end_time": "2020-12-11T00:11:57.781617",
     "exception": false,
     "start_time": "2020-12-11T00:11:57.742310",
     "status": "completed"
    },
    "tags": []
   },
   "outputs": [],
   "source": [
    "# hide\n",
    "# g['date'] = g['date'].astype('datetime64[ns]')"
   ]
  },
  {
   "cell_type": "code",
   "execution_count": 34,
   "metadata": {
    "execution": {
     "iopub.execute_input": "2020-12-11T00:11:57.848992Z",
     "iopub.status.busy": "2020-12-11T00:11:57.848406Z",
     "iopub.status.idle": "2020-12-11T00:11:57.850817Z",
     "shell.execute_reply": "2020-12-11T00:11:57.851383Z"
    },
    "papermill": {
     "duration": 0.038768,
     "end_time": "2020-12-11T00:11:57.851536",
     "exception": false,
     "start_time": "2020-12-11T00:11:57.812768",
     "status": "completed"
    },
    "tags": []
   },
   "outputs": [],
   "source": [
    "#hide\n",
    "# g['date'] = g.date.dt.dayofyear"
   ]
  },
  {
   "cell_type": "code",
   "execution_count": 35,
   "metadata": {
    "execution": {
     "iopub.execute_input": "2020-12-11T00:11:57.921727Z",
     "iopub.status.busy": "2020-12-11T00:11:57.921147Z",
     "iopub.status.idle": "2020-12-11T00:11:57.923500Z",
     "shell.execute_reply": "2020-12-11T00:11:57.924054Z"
    },
    "papermill": {
     "duration": 0.041364,
     "end_time": "2020-12-11T00:11:57.924201",
     "exception": false,
     "start_time": "2020-12-11T00:11:57.882837",
     "status": "completed"
    },
    "tags": []
   },
   "outputs": [],
   "source": [
    "#hide\n",
    "# g = g.rename(columns= {'continent':'group','country':'name','cases':'value'})"
   ]
  },
  {
   "cell_type": "code",
   "execution_count": 36,
   "metadata": {
    "execution": {
     "iopub.execute_input": "2020-12-11T00:11:57.993175Z",
     "iopub.status.busy": "2020-12-11T00:11:57.992148Z",
     "iopub.status.idle": "2020-12-11T00:11:57.994234Z",
     "shell.execute_reply": "2020-12-11T00:11:57.994963Z"
    },
    "papermill": {
     "duration": 0.03956,
     "end_time": "2020-12-11T00:11:57.995128",
     "exception": false,
     "start_time": "2020-12-11T00:11:57.955568",
     "status": "completed"
    },
    "tags": []
   },
   "outputs": [],
   "source": [
    "#hide\n",
    "# cols = ['name','group','day','value']"
   ]
  },
  {
   "cell_type": "code",
   "execution_count": 37,
   "metadata": {
    "execution": {
     "iopub.execute_input": "2020-12-11T00:11:58.062789Z",
     "iopub.status.busy": "2020-12-11T00:11:58.062174Z",
     "iopub.status.idle": "2020-12-11T00:11:58.065340Z",
     "shell.execute_reply": "2020-12-11T00:11:58.064841Z"
    },
    "papermill": {
     "duration": 0.039433,
     "end_time": "2020-12-11T00:11:58.065469",
     "exception": false,
     "start_time": "2020-12-11T00:11:58.026036",
     "status": "completed"
    },
    "tags": []
   },
   "outputs": [],
   "source": [
    "#hide\n",
    "# g.rename(columns= {'date':'day'},inplace = True)"
   ]
  },
  {
   "cell_type": "code",
   "execution_count": 38,
   "metadata": {
    "execution": {
     "iopub.execute_input": "2020-12-11T00:11:58.132493Z",
     "iopub.status.busy": "2020-12-11T00:11:58.131912Z",
     "iopub.status.idle": "2020-12-11T00:11:58.134602Z",
     "shell.execute_reply": "2020-12-11T00:11:58.134106Z"
    },
    "papermill": {
     "duration": 0.038003,
     "end_time": "2020-12-11T00:11:58.134749",
     "exception": false,
     "start_time": "2020-12-11T00:11:58.096746",
     "status": "completed"
    },
    "tags": []
   },
   "outputs": [],
   "source": [
    "#hide\n",
    "# g = g[cols]"
   ]
  },
  {
   "cell_type": "code",
   "execution_count": 39,
   "metadata": {
    "execution": {
     "iopub.execute_input": "2020-12-11T00:11:58.205494Z",
     "iopub.status.busy": "2020-12-11T00:11:58.204836Z",
     "iopub.status.idle": "2020-12-11T00:11:58.207428Z",
     "shell.execute_reply": "2020-12-11T00:11:58.207890Z"
    },
    "papermill": {
     "duration": 0.038163,
     "end_time": "2020-12-11T00:11:58.208036",
     "exception": false,
     "start_time": "2020-12-11T00:11:58.169873",
     "status": "completed"
    },
    "tags": []
   },
   "outputs": [],
   "source": [
    "# #hide\n",
    "# g = g[g.group.notna()]"
   ]
  },
  {
   "cell_type": "code",
   "execution_count": 40,
   "metadata": {
    "execution": {
     "iopub.execute_input": "2020-12-11T00:11:58.275718Z",
     "iopub.status.busy": "2020-12-11T00:11:58.275090Z",
     "iopub.status.idle": "2020-12-11T00:11:58.278480Z",
     "shell.execute_reply": "2020-12-11T00:11:58.279089Z"
    },
    "papermill": {
     "duration": 0.040248,
     "end_time": "2020-12-11T00:11:58.279246",
     "exception": false,
     "start_time": "2020-12-11T00:11:58.238998",
     "status": "completed"
    },
    "tags": []
   },
   "outputs": [],
   "source": [
    "# #hide\n",
    "# colors = dict(zip(\n",
    "#     [\"Oceania\", \"Europe\", \"Asia\", \"South America\", \"Middle East\", \"North America\", \"Africa\"],\n",
    "#     [\"#adb0ff\", \"#ffb3ff\", \"#90d595\", \"#e48381\", \"#aafbff\", \"#f7bb5f\", \"#eafb50\"]\n",
    "# ))\n",
    "# group_lk = g.set_index('name')['group'].to_dict()"
   ]
  },
  {
   "cell_type": "code",
   "execution_count": null,
   "metadata": {
    "papermill": {
     "duration": 0.03126,
     "end_time": "2020-12-11T00:11:58.341724",
     "exception": false,
     "start_time": "2020-12-11T00:11:58.310464",
     "status": "completed"
    },
    "tags": []
   },
   "outputs": [],
   "source": []
  },
  {
   "cell_type": "code",
   "execution_count": 41,
   "metadata": {
    "execution": {
     "iopub.execute_input": "2020-12-11T00:11:58.409880Z",
     "iopub.status.busy": "2020-12-11T00:11:58.409272Z",
     "iopub.status.idle": "2020-12-11T00:11:58.412070Z",
     "shell.execute_reply": "2020-12-11T00:11:58.411573Z"
    },
    "papermill": {
     "duration": 0.038659,
     "end_time": "2020-12-11T00:11:58.412200",
     "exception": false,
     "start_time": "2020-12-11T00:11:58.373541",
     "status": "completed"
    },
    "tags": []
   },
   "outputs": [],
   "source": [
    "# #hide\n",
    "# fig, ax = plt.subplots(figsize=(15, 8))\n",
    "\n",
    "# def draw_barchart(current_day):\n",
    "#     dff = g[g['day'].eq(current_day)].sort_values(by='value', ascending=True).tail(10)\n",
    "#     ax.clear()\n",
    "#     ax.barh(dff['name'], dff['value'], color=[colors[group_lk[x]] for x in dff['name']])\n",
    "#     dx = dff['value'].max() / 200\n",
    "    \n",
    "#     for i, (value, name) in enumerate(zip(dff['value'], dff['name'])):\n",
    "#         ax.text(value-dx, i,     name,           size=14, weight=600, ha='right', va='bottom')\n",
    "#         ax.text(value-dx, i-.25, group_lk[name], size=10, color='#444444', ha='right', va='baseline')\n",
    "#         ax.text(value+dx, i,     f'{value:,.0f}',  size=14, ha='left',  va='center')\n",
    "#     ax.text(1, 0.4, current_day, transform=ax.transAxes, color='#777777', size=46, ha='right', weight=800)\n",
    "#     ax.text(0, 1.06, 'Population (thousands)', transform=ax.transAxes, size=12, color='#777777')\n",
    "#     ax.xaxis.set_major_formatter(ticker.StrMethodFormatter('{x:,.0f}'))\n",
    "#     ax.xaxis.set_ticks_position('top')\n",
    "#     ax.tick_params(axis='x', colors='#777777', labelsize=12)\n",
    "#     ax.set_yticks([])\n",
    "#     ax.margins(0, 0.01)\n",
    "#     ax.grid(which='major', axis='x', linestyle='-')\n",
    "#     ax.set_axisbelow(True)\n",
    "    \n",
    "#     ax.text(0, 1.15, 'Coronavirus',\n",
    "#             transform=ax.transAxes, size=24, weight=600, ha='left', va='top')\n",
    "# #     ax.text(1, 0, 'by @pratapvardhan; credit @jburnmurdoch', transform=ax.transAxes, color='#777777', ha='right',\n",
    "# #             bbox=dict(facecolor='white', alpha=0.8, edgecolor='white'))\n",
    "#     plt.box(False)"
   ]
  },
  {
   "cell_type": "code",
   "execution_count": 42,
   "metadata": {
    "execution": {
     "iopub.execute_input": "2020-12-11T00:11:58.483333Z",
     "iopub.status.busy": "2020-12-11T00:11:58.482736Z",
     "iopub.status.idle": "2020-12-11T00:11:58.484432Z",
     "shell.execute_reply": "2020-12-11T00:11:58.484929Z"
    },
    "papermill": {
     "duration": 0.038127,
     "end_time": "2020-12-11T00:11:58.485072",
     "exception": false,
     "start_time": "2020-12-11T00:11:58.446945",
     "status": "completed"
    },
    "tags": []
   },
   "outputs": [],
   "source": [
    "# #hide_input\n",
    "# fig, ax = plt.subplots(figsize=(15, 8))\n",
    "# animator = animation.FuncAnimation(fig, draw_barchart, frames=range(g.day.values.min(), g.day.values.max()))\n",
    "# HTML(animator.to_jshtml())\n",
    "# # or use animator.to_html5_video() or animator.save() "
   ]
  },
  {
   "cell_type": "code",
   "execution_count": null,
   "metadata": {
    "papermill": {
     "duration": 0.031131,
     "end_time": "2020-12-11T00:11:58.547558",
     "exception": false,
     "start_time": "2020-12-11T00:11:58.516427",
     "status": "completed"
    },
    "tags": []
   },
   "outputs": [],
   "source": []
  },
  {
   "cell_type": "code",
   "execution_count": null,
   "metadata": {
    "papermill": {
     "duration": 0.031663,
     "end_time": "2020-12-11T00:11:58.610459",
     "exception": false,
     "start_time": "2020-12-11T00:11:58.578796",
     "status": "completed"
    },
    "tags": []
   },
   "outputs": [],
   "source": []
  },
  {
   "cell_type": "code",
   "execution_count": null,
   "metadata": {
    "papermill": {
     "duration": 0.037433,
     "end_time": "2020-12-11T00:11:58.679739",
     "exception": false,
     "start_time": "2020-12-11T00:11:58.642306",
     "status": "completed"
    },
    "tags": []
   },
   "outputs": [],
   "source": []
  }
 ],
 "metadata": {
  "kernelspec": {
   "display_name": "Python 3",
   "language": "python",
   "name": "python3"
  },
  "language_info": {
   "codemirror_mode": {
    "name": "ipython",
    "version": 3
   },
   "file_extension": ".py",
   "mimetype": "text/x-python",
   "name": "python",
   "nbconvert_exporter": "python",
   "pygments_lexer": "ipython3",
   "version": "3.6.12"
  },
  "papermill": {
   "duration": 7.018562,
   "end_time": "2020-12-11T00:11:59.120662",
   "environment_variables": {},
   "exception": null,
   "input_path": "2020-03-21-covid19exp.ipynb",
   "output_path": "2020-03-21-covid19exp.ipynb",
   "parameters": {},
   "start_time": "2020-12-11T00:11:52.102100",
   "version": "2.0.0"
  }
 },
 "nbformat": 4,
 "nbformat_minor": 4
}