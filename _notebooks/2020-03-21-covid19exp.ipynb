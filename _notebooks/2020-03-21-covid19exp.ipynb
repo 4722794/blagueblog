{
 "cells": [
  {
   "cell_type": "markdown",
   "metadata": {
    "papermill": {
     "duration": 0.050165,
     "end_time": "2020-11-22T00:11:26.609546",
     "exception": false,
     "start_time": "2020-11-22T00:11:26.559381",
     "status": "completed"
    },
    "tags": []
   },
   "source": [
    "# COVID-19 Case Race\n",
    "> A race chart to see rising cases around the world\n",
    "\n",
    "- author: Hargun Oberoi\n",
    "- image: images/covid-overview.png\n",
    "- hide: false\n",
    "- badges: false"
   ]
  },
  {
   "cell_type": "code",
   "execution_count": 1,
   "metadata": {
    "execution": {
     "iopub.execute_input": "2020-11-22T00:11:26.711757Z",
     "iopub.status.busy": "2020-11-22T00:11:26.711038Z",
     "iopub.status.idle": "2020-11-22T00:11:27.241147Z",
     "shell.execute_reply": "2020-11-22T00:11:27.240266Z"
    },
    "papermill": {
     "duration": 0.584131,
     "end_time": "2020-11-22T00:11:27.241321",
     "exception": false,
     "start_time": "2020-11-22T00:11:26.657190",
     "status": "completed"
    },
    "tags": []
   },
   "outputs": [],
   "source": [
    "#hide\n",
    "import numpy as np\n",
    "import pandas as pd\n",
    "from jinja2 import Template\n",
    "from IPython.display import HTML"
   ]
  },
  {
   "cell_type": "code",
   "execution_count": 2,
   "metadata": {
    "execution": {
     "iopub.execute_input": "2020-11-22T00:11:27.322221Z",
     "iopub.status.busy": "2020-11-22T00:11:27.320962Z",
     "iopub.status.idle": "2020-11-22T00:11:27.323157Z",
     "shell.execute_reply": "2020-11-22T00:11:27.323846Z"
    },
    "papermill": {
     "duration": 0.045685,
     "end_time": "2020-11-22T00:11:27.324005",
     "exception": false,
     "start_time": "2020-11-22T00:11:27.278320",
     "status": "completed"
    },
    "tags": []
   },
   "outputs": [],
   "source": [
    "#hide\n",
    "\n",
    "# FETCH\n",
    "base_url = 'https://raw.githubusercontent.com/pratapvardhan/notebooks/master/covid19/'\n",
    "paths = {\n",
    "    'mapping': base_url + 'mapping_countries.csv',\n",
    "    'overview': base_url + 'overview.tpl'\n",
    "}"
   ]
  },
  {
   "cell_type": "code",
   "execution_count": 3,
   "metadata": {
    "execution": {
     "iopub.execute_input": "2020-11-22T00:11:27.408629Z",
     "iopub.status.busy": "2020-11-22T00:11:27.407951Z",
     "iopub.status.idle": "2020-11-22T00:11:27.412230Z",
     "shell.execute_reply": "2020-11-22T00:11:27.411642Z"
    },
    "papermill": {
     "duration": 0.054925,
     "end_time": "2020-11-22T00:11:27.412371",
     "exception": false,
     "start_time": "2020-11-22T00:11:27.357446",
     "status": "completed"
    },
    "tags": []
   },
   "outputs": [
    {
     "data": {
      "text/plain": [
       "'https://raw.githubusercontent.com/pratapvardhan/notebooks/master/covid19/mapping_countries.csv'"
      ]
     },
     "execution_count": 3,
     "metadata": {},
     "output_type": "execute_result"
    }
   ],
   "source": [
    "#hide\n",
    "paths['mapping']"
   ]
  },
  {
   "cell_type": "code",
   "execution_count": 4,
   "metadata": {
    "execution": {
     "iopub.execute_input": "2020-11-22T00:11:27.486449Z",
     "iopub.status.busy": "2020-11-22T00:11:27.485725Z",
     "iopub.status.idle": "2020-11-22T00:11:27.492874Z",
     "shell.execute_reply": "2020-11-22T00:11:27.495187Z"
    },
    "papermill": {
     "duration": 0.049397,
     "end_time": "2020-11-22T00:11:27.495395",
     "exception": false,
     "start_time": "2020-11-22T00:11:27.445998",
     "status": "completed"
    },
    "tags": []
   },
   "outputs": [],
   "source": [
    "#hide\n",
    "def get_mappings(url):\n",
    "    df = pd.read_csv(url)\n",
    "    return {\n",
    "        'df': df,\n",
    "        'replace.country': dict(df.dropna(subset=['Name']).set_index('Country')['Name']),\n",
    "        'map.continent': dict(df.set_index('Name')['Continent'])\n",
    "    }"
   ]
  },
  {
   "cell_type": "code",
   "execution_count": 5,
   "metadata": {
    "execution": {
     "iopub.execute_input": "2020-11-22T00:11:27.611721Z",
     "iopub.status.busy": "2020-11-22T00:11:27.610690Z",
     "iopub.status.idle": "2020-11-22T00:11:27.666320Z",
     "shell.execute_reply": "2020-11-22T00:11:27.663794Z"
    },
    "papermill": {
     "duration": 0.111576,
     "end_time": "2020-11-22T00:11:27.666475",
     "exception": false,
     "start_time": "2020-11-22T00:11:27.554899",
     "status": "completed"
    },
    "tags": []
   },
   "outputs": [],
   "source": [
    "#hide\n",
    "mapping = get_mappings(paths['mapping'])"
   ]
  },
  {
   "cell_type": "code",
   "execution_count": 6,
   "metadata": {
    "execution": {
     "iopub.execute_input": "2020-11-22T00:11:27.790863Z",
     "iopub.status.busy": "2020-11-22T00:11:27.790185Z",
     "iopub.status.idle": "2020-11-22T00:11:27.792057Z",
     "shell.execute_reply": "2020-11-22T00:11:27.792723Z"
    },
    "papermill": {
     "duration": 0.062225,
     "end_time": "2020-11-22T00:11:27.792894",
     "exception": false,
     "start_time": "2020-11-22T00:11:27.730669",
     "status": "completed"
    },
    "tags": []
   },
   "outputs": [],
   "source": [
    "#hide\n",
    "def get_template(path):\n",
    "    from urllib.parse import urlparse\n",
    "    if bool(urlparse(path).netloc):\n",
    "        from urllib.request import urlopen\n",
    "        return urlopen(path).read().decode('utf8')\n",
    "    return open(path).read()"
   ]
  },
  {
   "cell_type": "code",
   "execution_count": 7,
   "metadata": {
    "execution": {
     "iopub.execute_input": "2020-11-22T00:11:27.913373Z",
     "iopub.status.busy": "2020-11-22T00:11:27.912342Z",
     "iopub.status.idle": "2020-11-22T00:11:27.915207Z",
     "shell.execute_reply": "2020-11-22T00:11:27.914635Z"
    },
    "papermill": {
     "duration": 0.068573,
     "end_time": "2020-11-22T00:11:27.915372",
     "exception": false,
     "start_time": "2020-11-22T00:11:27.846799",
     "status": "completed"
    },
    "tags": []
   },
   "outputs": [],
   "source": [
    "#hide\n",
    "def get_frame(name):\n",
    "    url = (\n",
    "        'https://raw.githubusercontent.com/CSSEGISandData/COVID-19/master/csse_covid_19_data/'\n",
    "        f'csse_covid_19_time_series/time_series_covid19_{name}_global.csv')\n",
    "    df = pd.read_csv(url)\n",
    "    # rename countries\n",
    "    df['Country/Region'] = df['Country/Region'].replace(mapping['replace.country'])\n",
    "    return df"
   ]
  },
  {
   "cell_type": "code",
   "execution_count": 8,
   "metadata": {
    "execution": {
     "iopub.execute_input": "2020-11-22T00:11:28.002835Z",
     "iopub.status.busy": "2020-11-22T00:11:28.002161Z",
     "iopub.status.idle": "2020-11-22T00:11:28.004470Z",
     "shell.execute_reply": "2020-11-22T00:11:28.005020Z"
    },
    "papermill": {
     "duration": 0.042946,
     "end_time": "2020-11-22T00:11:28.005222",
     "exception": false,
     "start_time": "2020-11-22T00:11:27.962276",
     "status": "completed"
    },
    "tags": []
   },
   "outputs": [],
   "source": [
    "#hide\n",
    "def get_dates(df):\n",
    "    dt_cols = df.columns[~df.columns.isin(['Province/State', 'Country/Region', 'Lat', 'Long'])]\n",
    "    LAST_DATE_I = -1\n",
    "    # sometimes last column may be empty, then go backwards\n",
    "    for i in range(-1, -len(dt_cols), -1):\n",
    "        if not df[dt_cols[i]].fillna(0).eq(0).all():\n",
    "            LAST_DATE_I = i\n",
    "            break\n",
    "    return LAST_DATE_I, dt_cols"
   ]
  },
  {
   "cell_type": "code",
   "execution_count": 9,
   "metadata": {
    "execution": {
     "iopub.execute_input": "2020-11-22T00:11:28.083513Z",
     "iopub.status.busy": "2020-11-22T00:11:28.082804Z",
     "iopub.status.idle": "2020-11-22T00:11:28.451033Z",
     "shell.execute_reply": "2020-11-22T00:11:28.450440Z"
    },
    "papermill": {
     "duration": 0.410058,
     "end_time": "2020-11-22T00:11:28.451192",
     "exception": false,
     "start_time": "2020-11-22T00:11:28.041134",
     "status": "completed"
    },
    "tags": []
   },
   "outputs": [],
   "source": [
    "#hide\n",
    "COL_REGION = 'Country/Region'\n",
    "# Confirmed, Recovered, Deaths\n",
    "df = get_frame('confirmed')\n",
    "# dft_: timeseries, dfc_: today country agg\n",
    "dft_cases = df\n",
    "dft_deaths = get_frame('deaths')\n",
    "dft_recovered = get_frame('recovered')\n",
    "LAST_DATE_I, dt_cols = get_dates(df)"
   ]
  },
  {
   "cell_type": "code",
   "execution_count": 10,
   "metadata": {
    "execution": {
     "iopub.execute_input": "2020-11-22T00:11:28.535586Z",
     "iopub.status.busy": "2020-11-22T00:11:28.534179Z",
     "iopub.status.idle": "2020-11-22T00:11:28.536251Z",
     "shell.execute_reply": "2020-11-22T00:11:28.536885Z"
    },
    "papermill": {
     "duration": 0.044974,
     "end_time": "2020-11-22T00:11:28.537043",
     "exception": false,
     "start_time": "2020-11-22T00:11:28.492069",
     "status": "completed"
    },
    "tags": []
   },
   "outputs": [],
   "source": [
    "#hide\n",
    "LAST_DATE_I, dt_cols = get_dates(df)\n",
    "dt_today =dt_cols[LAST_DATE_I]\n",
    "# dt_5day = dt_cols[LAST_DATE_I - 5]\n",
    "dt_yday = dt_cols[LAST_DATE_I - 1]"
   ]
  },
  {
   "cell_type": "code",
   "execution_count": 11,
   "metadata": {
    "execution": {
     "iopub.execute_input": "2020-11-22T00:11:28.620294Z",
     "iopub.status.busy": "2020-11-22T00:11:28.618313Z",
     "iopub.status.idle": "2020-11-22T00:11:28.629302Z",
     "shell.execute_reply": "2020-11-22T00:11:28.628691Z"
    },
    "papermill": {
     "duration": 0.056747,
     "end_time": "2020-11-22T00:11:28.629444",
     "exception": false,
     "start_time": "2020-11-22T00:11:28.572697",
     "status": "completed"
    },
    "tags": []
   },
   "outputs": [],
   "source": [
    "#hide\n",
    "dfc_cases = dft_cases.groupby(COL_REGION)[dt_today].sum()\n",
    "dfc_deaths = dft_deaths.groupby(COL_REGION)[dt_today].sum()\n",
    "# dfp_cases = dft_cases.groupby(COL_REGION)[dt_5day].sum()\n",
    "# dfp_deaths = dft_deaths.groupby(COL_REGION)[dt_5day].sum()\n",
    "dfp_cases = dft_cases.groupby(COL_REGION)[dt_yday].sum()\n",
    "dfp_deaths = dft_deaths.groupby(COL_REGION)[dt_yday].sum()"
   ]
  },
  {
   "cell_type": "code",
   "execution_count": 12,
   "metadata": {
    "execution": {
     "iopub.execute_input": "2020-11-22T00:11:28.709672Z",
     "iopub.status.busy": "2020-11-22T00:11:28.708992Z",
     "iopub.status.idle": "2020-11-22T00:11:28.713886Z",
     "shell.execute_reply": "2020-11-22T00:11:28.714413Z"
    },
    "papermill": {
     "duration": 0.050277,
     "end_time": "2020-11-22T00:11:28.714570",
     "exception": false,
     "start_time": "2020-11-22T00:11:28.664293",
     "status": "completed"
    },
    "tags": []
   },
   "outputs": [],
   "source": [
    "#hide\n",
    "df_table = (pd.DataFrame(dict(Cases = dfc_cases, Deaths = dfc_deaths, PCases = dfp_cases, PDeaths = dfp_deaths))\n",
    "            .sort_values(by = ['Cases','Deaths'], ascending = [False, False])\n",
    "            .reset_index())"
   ]
  },
  {
   "cell_type": "code",
   "execution_count": 13,
   "metadata": {
    "execution": {
     "iopub.execute_input": "2020-11-22T00:11:28.800934Z",
     "iopub.status.busy": "2020-11-22T00:11:28.796562Z",
     "iopub.status.idle": "2020-11-22T00:11:28.825112Z",
     "shell.execute_reply": "2020-11-22T00:11:28.824528Z"
    },
    "papermill": {
     "duration": 0.076934,
     "end_time": "2020-11-22T00:11:28.825258",
     "exception": false,
     "start_time": "2020-11-22T00:11:28.748324",
     "status": "completed"
    },
    "tags": []
   },
   "outputs": [
    {
     "data": {
      "text/html": [
       "<div>\n",
       "<style scoped>\n",
       "    .dataframe tbody tr th:only-of-type {\n",
       "        vertical-align: middle;\n",
       "    }\n",
       "\n",
       "    .dataframe tbody tr th {\n",
       "        vertical-align: top;\n",
       "    }\n",
       "\n",
       "    .dataframe thead th {\n",
       "        text-align: right;\n",
       "    }\n",
       "</style>\n",
       "<table border=\"1\" class=\"dataframe\">\n",
       "  <thead>\n",
       "    <tr style=\"text-align: right;\">\n",
       "      <th></th>\n",
       "      <th>Country/Region</th>\n",
       "      <th>Cases</th>\n",
       "      <th>Deaths</th>\n",
       "      <th>PCases</th>\n",
       "      <th>PDeaths</th>\n",
       "      <th>Cases (+)</th>\n",
       "      <th>Deaths (+)</th>\n",
       "      <th>Fatality Rate</th>\n",
       "      <th>Continent</th>\n",
       "    </tr>\n",
       "  </thead>\n",
       "  <tbody>\n",
       "    <tr>\n",
       "      <th>0</th>\n",
       "      <td>US</td>\n",
       "      <td>11910858</td>\n",
       "      <td>254413</td>\n",
       "      <td>11715316</td>\n",
       "      <td>252535</td>\n",
       "      <td>195542</td>\n",
       "      <td>1878</td>\n",
       "      <td>2.14</td>\n",
       "      <td>North America</td>\n",
       "    </tr>\n",
       "    <tr>\n",
       "      <th>1</th>\n",
       "      <td>India</td>\n",
       "      <td>9050597</td>\n",
       "      <td>132726</td>\n",
       "      <td>9004365</td>\n",
       "      <td>132162</td>\n",
       "      <td>46232</td>\n",
       "      <td>564</td>\n",
       "      <td>1.47</td>\n",
       "      <td>Asia</td>\n",
       "    </tr>\n",
       "    <tr>\n",
       "      <th>2</th>\n",
       "      <td>Brazil</td>\n",
       "      <td>6020164</td>\n",
       "      <td>168613</td>\n",
       "      <td>5981767</td>\n",
       "      <td>168061</td>\n",
       "      <td>38397</td>\n",
       "      <td>552</td>\n",
       "      <td>2.80</td>\n",
       "      <td>South America</td>\n",
       "    </tr>\n",
       "    <tr>\n",
       "      <th>3</th>\n",
       "      <td>France</td>\n",
       "      <td>2160343</td>\n",
       "      <td>48341</td>\n",
       "      <td>2137096</td>\n",
       "      <td>47201</td>\n",
       "      <td>23247</td>\n",
       "      <td>1140</td>\n",
       "      <td>2.24</td>\n",
       "      <td>Europe</td>\n",
       "    </tr>\n",
       "    <tr>\n",
       "      <th>4</th>\n",
       "      <td>Russia</td>\n",
       "      <td>2023025</td>\n",
       "      <td>34980</td>\n",
       "      <td>1998966</td>\n",
       "      <td>34525</td>\n",
       "      <td>24059</td>\n",
       "      <td>455</td>\n",
       "      <td>1.73</td>\n",
       "      <td>Europe</td>\n",
       "    </tr>\n",
       "  </tbody>\n",
       "</table>\n",
       "</div>"
      ],
      "text/plain": [
       "  Country/Region     Cases  Deaths    PCases  PDeaths  Cases (+)  Deaths (+)  \\\n",
       "0             US  11910858  254413  11715316   252535     195542        1878   \n",
       "1          India   9050597  132726   9004365   132162      46232         564   \n",
       "2         Brazil   6020164  168613   5981767   168061      38397         552   \n",
       "3         France   2160343   48341   2137096    47201      23247        1140   \n",
       "4         Russia   2023025   34980   1998966    34525      24059         455   \n",
       "\n",
       "   Fatality Rate      Continent  \n",
       "0           2.14  North America  \n",
       "1           1.47           Asia  \n",
       "2           2.80  South America  \n",
       "3           2.24         Europe  \n",
       "4           1.73         Europe  "
      ]
     },
     "execution_count": 13,
     "metadata": {},
     "output_type": "execute_result"
    }
   ],
   "source": [
    "#hide\n",
    "for c in 'Cases, Deaths'.split(', '):\n",
    "    df_table[f'{c} (+)'] = (df_table[c] - df_table[f'P{c}']).clip(0)\n",
    "    #Clip ça veut dire, les chiffres negatif sont interdit\n",
    "df_table['Fatality Rate'] = (100* df_table['Deaths']/ df_table['Cases']).round(2)\n",
    "df_table['Continent'] = df_table['Country/Region'].map(mapping['map.continent'])\n",
    "df_table.head(5)"
   ]
  },
  {
   "cell_type": "code",
   "execution_count": 14,
   "metadata": {
    "execution": {
     "iopub.execute_input": "2020-11-22T00:11:28.901926Z",
     "iopub.status.busy": "2020-11-22T00:11:28.901257Z",
     "iopub.status.idle": "2020-11-22T00:11:28.904003Z",
     "shell.execute_reply": "2020-11-22T00:11:28.904649Z"
    },
    "papermill": {
     "duration": 0.045059,
     "end_time": "2020-11-22T00:11:28.904807",
     "exception": false,
     "start_time": "2020-11-22T00:11:28.859748",
     "status": "completed"
    },
    "tags": []
   },
   "outputs": [],
   "source": [
    "#hide\n",
    "#delete problematic countries from table\n",
    "df_table = df_table[~df_table['Country/Region'].isin(['Cape Verde', 'Cruise Ship', 'Kosovo'])]"
   ]
  },
  {
   "cell_type": "code",
   "execution_count": 15,
   "metadata": {
    "execution": {
     "iopub.execute_input": "2020-11-22T00:11:28.991049Z",
     "iopub.status.busy": "2020-11-22T00:11:28.990379Z",
     "iopub.status.idle": "2020-11-22T00:11:29.025325Z",
     "shell.execute_reply": "2020-11-22T00:11:29.025854Z"
    },
    "papermill": {
     "duration": 0.080384,
     "end_time": "2020-11-22T00:11:29.026037",
     "exception": false,
     "start_time": "2020-11-22T00:11:28.945653",
     "status": "completed"
    },
    "tags": []
   },
   "outputs": [
    {
     "data": {
      "text/html": [
       "<div>\n",
       "<style scoped>\n",
       "    .dataframe tbody tr th:only-of-type {\n",
       "        vertical-align: middle;\n",
       "    }\n",
       "\n",
       "    .dataframe tbody tr th {\n",
       "        vertical-align: top;\n",
       "    }\n",
       "\n",
       "    .dataframe thead th {\n",
       "        text-align: right;\n",
       "    }\n",
       "</style>\n",
       "<table border=\"1\" class=\"dataframe\">\n",
       "  <thead>\n",
       "    <tr style=\"text-align: right;\">\n",
       "      <th></th>\n",
       "      <th>Country/Region</th>\n",
       "      <th>Cases</th>\n",
       "      <th>Deaths</th>\n",
       "      <th>PCases</th>\n",
       "      <th>PDeaths</th>\n",
       "      <th>Cases (+)</th>\n",
       "      <th>Deaths (+)</th>\n",
       "      <th>Fatality Rate</th>\n",
       "      <th>Continent</th>\n",
       "    </tr>\n",
       "  </thead>\n",
       "  <tbody>\n",
       "    <tr>\n",
       "      <th>0</th>\n",
       "      <td>US</td>\n",
       "      <td>11910858</td>\n",
       "      <td>254413</td>\n",
       "      <td>11715316</td>\n",
       "      <td>252535</td>\n",
       "      <td>195542</td>\n",
       "      <td>1878</td>\n",
       "      <td>2.1</td>\n",
       "      <td>North America</td>\n",
       "    </tr>\n",
       "    <tr>\n",
       "      <th>1</th>\n",
       "      <td>India</td>\n",
       "      <td>9050597</td>\n",
       "      <td>132726</td>\n",
       "      <td>9004365</td>\n",
       "      <td>132162</td>\n",
       "      <td>46232</td>\n",
       "      <td>564</td>\n",
       "      <td>1.5</td>\n",
       "      <td>Asia</td>\n",
       "    </tr>\n",
       "    <tr>\n",
       "      <th>2</th>\n",
       "      <td>Brazil</td>\n",
       "      <td>6020164</td>\n",
       "      <td>168613</td>\n",
       "      <td>5981767</td>\n",
       "      <td>168061</td>\n",
       "      <td>38397</td>\n",
       "      <td>552</td>\n",
       "      <td>2.8</td>\n",
       "      <td>South America</td>\n",
       "    </tr>\n",
       "    <tr>\n",
       "      <th>3</th>\n",
       "      <td>France</td>\n",
       "      <td>2160343</td>\n",
       "      <td>48341</td>\n",
       "      <td>2137096</td>\n",
       "      <td>47201</td>\n",
       "      <td>23247</td>\n",
       "      <td>1140</td>\n",
       "      <td>2.2</td>\n",
       "      <td>Europe</td>\n",
       "    </tr>\n",
       "    <tr>\n",
       "      <th>4</th>\n",
       "      <td>Russia</td>\n",
       "      <td>2023025</td>\n",
       "      <td>34980</td>\n",
       "      <td>1998966</td>\n",
       "      <td>34525</td>\n",
       "      <td>24059</td>\n",
       "      <td>455</td>\n",
       "      <td>1.7</td>\n",
       "      <td>Europe</td>\n",
       "    </tr>\n",
       "  </tbody>\n",
       "</table>\n",
       "</div>"
      ],
      "text/plain": [
       "  Country/Region     Cases  Deaths    PCases  PDeaths  Cases (+)  Deaths (+)  \\\n",
       "0             US  11910858  254413  11715316   252535     195542        1878   \n",
       "1          India   9050597  132726   9004365   132162      46232         564   \n",
       "2         Brazil   6020164  168613   5981767   168061      38397         552   \n",
       "3         France   2160343   48341   2137096    47201      23247        1140   \n",
       "4         Russia   2023025   34980   1998966    34525      24059         455   \n",
       "\n",
       "   Fatality Rate      Continent  \n",
       "0            2.1  North America  \n",
       "1            1.5           Asia  \n",
       "2            2.8  South America  \n",
       "3            2.2         Europe  \n",
       "4            1.7         Europe  "
      ]
     },
     "execution_count": 15,
     "metadata": {},
     "output_type": "execute_result"
    }
   ],
   "source": [
    "#hide\n",
    "df_table = (pd.DataFrame(dict(Cases=dfc_cases, Deaths=dfc_deaths, PCases=dfp_cases, PDeaths=dfp_deaths))\n",
    "             .sort_values(by=['Cases', 'Deaths'], ascending=[False, False])\n",
    "             .reset_index())\n",
    "df_table.rename(columns={'index': 'Country/Region'}, inplace=True)\n",
    "for c in 'Cases, Deaths'.split(', '):\n",
    "    df_table[f'{c} (+)'] = (df_table[c] - df_table[f'P{c}']).clip(0)  # DATA BUG\n",
    "df_table['Fatality Rate'] = (100 * df_table['Deaths'] / df_table['Cases']).round(1)\n",
    "df_table['Continent'] = df_table['Country/Region'].map(mapping['map.continent'])\n",
    "df_table.head(5)"
   ]
  },
  {
   "cell_type": "code",
   "execution_count": 16,
   "metadata": {
    "execution": {
     "iopub.execute_input": "2020-11-22T00:11:29.107874Z",
     "iopub.status.busy": "2020-11-22T00:11:29.107060Z",
     "iopub.status.idle": "2020-11-22T00:11:29.112594Z",
     "shell.execute_reply": "2020-11-22T00:11:29.113118Z"
    },
    "papermill": {
     "duration": 0.052444,
     "end_time": "2020-11-22T00:11:29.113280",
     "exception": false,
     "start_time": "2020-11-22T00:11:29.060836",
     "status": "completed"
    },
    "tags": []
   },
   "outputs": [],
   "source": [
    "#hide\n",
    "#delete problematic countries from table\n",
    "df_table = df_table[~df_table['Country/Region'].isin(['Cape Verde', 'Cruise Ship', 'Kosovo'])]"
   ]
  },
  {
   "cell_type": "code",
   "execution_count": 17,
   "metadata": {
    "execution": {
     "iopub.execute_input": "2020-11-22T00:11:29.237858Z",
     "iopub.status.busy": "2020-11-22T00:11:29.237135Z",
     "iopub.status.idle": "2020-11-22T00:11:29.239675Z",
     "shell.execute_reply": "2020-11-22T00:11:29.240316Z"
    },
    "papermill": {
     "duration": 0.070533,
     "end_time": "2020-11-22T00:11:29.240535",
     "exception": false,
     "start_time": "2020-11-22T00:11:29.170002",
     "status": "completed"
    },
    "tags": []
   },
   "outputs": [],
   "source": [
    "#hide\n",
    "metrics = [df_table.columns[index] for index in [1,2,5,6]]\n",
    "# s_china = df_table[df_table['Country/Region'].eq('China')][metrics].sum().add_prefix('China ')\n",
    "s_us = df_table[df_table['Country/Region'].eq('US')][metrics].sum().add_prefix('US ')\n",
    "s_eu = df_table[df_table['Continent'].eq('Europe')][metrics].sum().add_prefix('EU ')\n",
    "s_ind = df_table[df_table['Country/Region'].eq('India')][metrics].sum().add_prefix('India ')\n",
    "summary = {'updated': pd.to_datetime(dt_today), 'since': pd.to_datetime(dt_yday)}\n",
    "summary = {'updated': pd.to_datetime(dt_today), 'since': pd.to_datetime(dt_yday)}\n",
    "summary = {**summary, **df_table[metrics].sum(), **s_ind, **s_us, **s_eu}"
   ]
  },
  {
   "cell_type": "code",
   "execution_count": 18,
   "metadata": {
    "execution": {
     "iopub.execute_input": "2020-11-22T00:11:29.317656Z",
     "iopub.status.busy": "2020-11-22T00:11:29.316993Z",
     "iopub.status.idle": "2020-11-22T00:11:29.330165Z",
     "shell.execute_reply": "2020-11-22T00:11:29.330729Z"
    },
    "papermill": {
     "duration": 0.055371,
     "end_time": "2020-11-22T00:11:29.330894",
     "exception": false,
     "start_time": "2020-11-22T00:11:29.275523",
     "status": "completed"
    },
    "tags": []
   },
   "outputs": [],
   "source": [
    "#hide\n",
    "dft_ct_new_cases = dft_cases.groupby(COL_REGION)[dt_cols].sum().diff(axis=1).fillna(0).astype(int)"
   ]
  },
  {
   "cell_type": "code",
   "execution_count": 19,
   "metadata": {
    "execution": {
     "iopub.execute_input": "2020-11-22T00:11:29.411101Z",
     "iopub.status.busy": "2020-11-22T00:11:29.410192Z",
     "iopub.status.idle": "2020-11-22T00:11:29.412335Z",
     "shell.execute_reply": "2020-11-22T00:11:29.413152Z"
    },
    "papermill": {
     "duration": 0.046594,
     "end_time": "2020-11-22T00:11:29.413399",
     "exception": false,
     "start_time": "2020-11-22T00:11:29.366805",
     "status": "completed"
    },
    "tags": []
   },
   "outputs": [],
   "source": [
    "#hide\n",
    "everydaycases = dft_ct_new_cases.cumsum(axis=1)"
   ]
  },
  {
   "cell_type": "code",
   "execution_count": 20,
   "metadata": {
    "execution": {
     "iopub.execute_input": "2020-11-22T00:11:29.527758Z",
     "iopub.status.busy": "2020-11-22T00:11:29.526585Z",
     "iopub.status.idle": "2020-11-22T00:11:32.882138Z",
     "shell.execute_reply": "2020-11-22T00:11:32.883064Z"
    },
    "papermill": {
     "duration": 3.415069,
     "end_time": "2020-11-22T00:11:32.883247",
     "exception": false,
     "start_time": "2020-11-22T00:11:29.468178",
     "status": "completed"
    },
    "tags": []
   },
   "outputs": [],
   "source": [
    "#hide\n",
    "import pandas as pd\n",
    "import matplotlib.pyplot as plt\n",
    "import matplotlib.ticker as ticker\n",
    "import matplotlib.animation as animation\n",
    "from IPython.display import HTML"
   ]
  },
  {
   "cell_type": "code",
   "execution_count": 21,
   "metadata": {
    "execution": {
     "iopub.execute_input": "2020-11-22T00:11:32.992946Z",
     "iopub.status.busy": "2020-11-22T00:11:32.991628Z",
     "iopub.status.idle": "2020-11-22T00:11:32.997595Z",
     "shell.execute_reply": "2020-11-22T00:11:32.996486Z"
    },
    "papermill": {
     "duration": 0.061335,
     "end_time": "2020-11-22T00:11:32.997807",
     "exception": false,
     "start_time": "2020-11-22T00:11:32.936472",
     "status": "completed"
    },
    "tags": []
   },
   "outputs": [],
   "source": [
    "#hide\n",
    "t = everydaycases.stack()"
   ]
  },
  {
   "cell_type": "code",
   "execution_count": 22,
   "metadata": {
    "execution": {
     "iopub.execute_input": "2020-11-22T00:11:33.112621Z",
     "iopub.status.busy": "2020-11-22T00:11:33.111950Z",
     "iopub.status.idle": "2020-11-22T00:11:33.120388Z",
     "shell.execute_reply": "2020-11-22T00:11:33.120942Z"
    },
    "papermill": {
     "duration": 0.066987,
     "end_time": "2020-11-22T00:11:33.121103",
     "exception": false,
     "start_time": "2020-11-22T00:11:33.054116",
     "status": "completed"
    },
    "tags": []
   },
   "outputs": [],
   "source": [
    "#hide\n",
    "g = t.reset_index(['Country/Region'])"
   ]
  },
  {
   "cell_type": "code",
   "execution_count": 23,
   "metadata": {
    "execution": {
     "iopub.execute_input": "2020-11-22T00:11:33.210252Z",
     "iopub.status.busy": "2020-11-22T00:11:33.208860Z",
     "iopub.status.idle": "2020-11-22T00:11:33.211900Z",
     "shell.execute_reply": "2020-11-22T00:11:33.212920Z"
    },
    "papermill": {
     "duration": 0.056552,
     "end_time": "2020-11-22T00:11:33.213205",
     "exception": false,
     "start_time": "2020-11-22T00:11:33.156653",
     "status": "completed"
    },
    "tags": []
   },
   "outputs": [],
   "source": [
    "#hide\n",
    "g.index.name = 'date'"
   ]
  },
  {
   "cell_type": "code",
   "execution_count": 24,
   "metadata": {
    "execution": {
     "iopub.execute_input": "2020-11-22T00:11:33.312489Z",
     "iopub.status.busy": "2020-11-22T00:11:33.311464Z",
     "iopub.status.idle": "2020-11-22T00:11:33.313981Z",
     "shell.execute_reply": "2020-11-22T00:11:33.314736Z"
    },
    "papermill": {
     "duration": 0.047562,
     "end_time": "2020-11-22T00:11:33.314912",
     "exception": false,
     "start_time": "2020-11-22T00:11:33.267350",
     "status": "completed"
    },
    "tags": []
   },
   "outputs": [],
   "source": [
    "# #hide\n",
    "# g = g.reset_index(['date'])"
   ]
  },
  {
   "cell_type": "code",
   "execution_count": 25,
   "metadata": {
    "execution": {
     "iopub.execute_input": "2020-11-22T00:11:33.403823Z",
     "iopub.status.busy": "2020-11-22T00:11:33.403112Z",
     "iopub.status.idle": "2020-11-22T00:11:33.406390Z",
     "shell.execute_reply": "2020-11-22T00:11:33.407021Z"
    },
    "papermill": {
     "duration": 0.044478,
     "end_time": "2020-11-22T00:11:33.407180",
     "exception": false,
     "start_time": "2020-11-22T00:11:33.362702",
     "status": "completed"
    },
    "tags": []
   },
   "outputs": [],
   "source": [
    "#hide\n",
    "# g.head()"
   ]
  },
  {
   "cell_type": "code",
   "execution_count": 26,
   "metadata": {
    "execution": {
     "iopub.execute_input": "2020-11-22T00:11:33.841705Z",
     "iopub.status.busy": "2020-11-22T00:11:33.840982Z",
     "iopub.status.idle": "2020-11-22T00:11:33.843578Z",
     "shell.execute_reply": "2020-11-22T00:11:33.844321Z"
    },
    "papermill": {
     "duration": 0.401106,
     "end_time": "2020-11-22T00:11:33.844481",
     "exception": false,
     "start_time": "2020-11-22T00:11:33.443375",
     "status": "completed"
    },
    "tags": []
   },
   "outputs": [],
   "source": [
    "#hide\n",
    "# g.columns = ['date','country','cases']"
   ]
  },
  {
   "cell_type": "code",
   "execution_count": 27,
   "metadata": {
    "execution": {
     "iopub.execute_input": "2020-11-22T00:11:34.023522Z",
     "iopub.status.busy": "2020-11-22T00:11:34.022547Z",
     "iopub.status.idle": "2020-11-22T00:11:34.025696Z",
     "shell.execute_reply": "2020-11-22T00:11:34.024393Z"
    },
    "papermill": {
     "duration": 0.099859,
     "end_time": "2020-11-22T00:11:34.025927",
     "exception": false,
     "start_time": "2020-11-22T00:11:33.926068",
     "status": "completed"
    },
    "tags": []
   },
   "outputs": [],
   "source": [
    "#hide\n",
    "# g['continent'] = g.country"
   ]
  },
  {
   "cell_type": "code",
   "execution_count": 28,
   "metadata": {
    "execution": {
     "iopub.execute_input": "2020-11-22T00:11:34.148061Z",
     "iopub.status.busy": "2020-11-22T00:11:34.147267Z",
     "iopub.status.idle": "2020-11-22T00:11:34.149905Z",
     "shell.execute_reply": "2020-11-22T00:11:34.149116Z"
    },
    "papermill": {
     "duration": 0.066379,
     "end_time": "2020-11-22T00:11:34.150047",
     "exception": false,
     "start_time": "2020-11-22T00:11:34.083668",
     "status": "completed"
    },
    "tags": []
   },
   "outputs": [],
   "source": [
    "#hide\n",
    "# cols = list(g.columns.values)"
   ]
  },
  {
   "cell_type": "code",
   "execution_count": 29,
   "metadata": {
    "execution": {
     "iopub.execute_input": "2020-11-22T00:11:34.356547Z",
     "iopub.status.busy": "2020-11-22T00:11:34.355856Z",
     "iopub.status.idle": "2020-11-22T00:11:34.359071Z",
     "shell.execute_reply": "2020-11-22T00:11:34.359654Z"
    },
    "papermill": {
     "duration": 0.139739,
     "end_time": "2020-11-22T00:11:34.359819",
     "exception": false,
     "start_time": "2020-11-22T00:11:34.220080",
     "status": "completed"
    },
    "tags": []
   },
   "outputs": [],
   "source": [
    "#hide\n",
    "# cols.insert(0, cols.pop())"
   ]
  },
  {
   "cell_type": "code",
   "execution_count": 30,
   "metadata": {
    "execution": {
     "iopub.execute_input": "2020-11-22T00:11:34.630581Z",
     "iopub.status.busy": "2020-11-22T00:11:34.629910Z",
     "iopub.status.idle": "2020-11-22T00:11:34.633857Z",
     "shell.execute_reply": "2020-11-22T00:11:34.632211Z"
    },
    "papermill": {
     "duration": 0.117141,
     "end_time": "2020-11-22T00:11:34.634006",
     "exception": false,
     "start_time": "2020-11-22T00:11:34.516865",
     "status": "completed"
    },
    "tags": []
   },
   "outputs": [],
   "source": [
    "#hide\n",
    "# g = g[cols]"
   ]
  },
  {
   "cell_type": "code",
   "execution_count": 31,
   "metadata": {
    "execution": {
     "iopub.execute_input": "2020-11-22T00:11:34.746037Z",
     "iopub.status.busy": "2020-11-22T00:11:34.745384Z",
     "iopub.status.idle": "2020-11-22T00:11:34.748361Z",
     "shell.execute_reply": "2020-11-22T00:11:34.747568Z"
    },
    "papermill": {
     "duration": 0.05397,
     "end_time": "2020-11-22T00:11:34.748510",
     "exception": false,
     "start_time": "2020-11-22T00:11:34.694540",
     "status": "completed"
    },
    "tags": []
   },
   "outputs": [],
   "source": [
    "#hide\n",
    "# g['continent'] = g['continent'].map(mapping['map.continent'])"
   ]
  },
  {
   "cell_type": "code",
   "execution_count": 32,
   "metadata": {
    "execution": {
     "iopub.execute_input": "2020-11-22T00:11:34.859009Z",
     "iopub.status.busy": "2020-11-22T00:11:34.858339Z",
     "iopub.status.idle": "2020-11-22T00:11:34.861804Z",
     "shell.execute_reply": "2020-11-22T00:11:34.861230Z"
    },
    "papermill": {
     "duration": 0.061279,
     "end_time": "2020-11-22T00:11:34.861948",
     "exception": false,
     "start_time": "2020-11-22T00:11:34.800669",
     "status": "completed"
    },
    "tags": []
   },
   "outputs": [],
   "source": [
    "#hide\n",
    "# g.head()"
   ]
  },
  {
   "cell_type": "code",
   "execution_count": 33,
   "metadata": {
    "execution": {
     "iopub.execute_input": "2020-11-22T00:11:34.936368Z",
     "iopub.status.busy": "2020-11-22T00:11:34.935681Z",
     "iopub.status.idle": "2020-11-22T00:11:34.938326Z",
     "shell.execute_reply": "2020-11-22T00:11:34.939090Z"
    },
    "papermill": {
     "duration": 0.042857,
     "end_time": "2020-11-22T00:11:34.939246",
     "exception": false,
     "start_time": "2020-11-22T00:11:34.896389",
     "status": "completed"
    },
    "tags": []
   },
   "outputs": [],
   "source": [
    "# hide\n",
    "# g['date'] = g['date'].astype('datetime64[ns]')"
   ]
  },
  {
   "cell_type": "code",
   "execution_count": 34,
   "metadata": {
    "execution": {
     "iopub.execute_input": "2020-11-22T00:11:35.016080Z",
     "iopub.status.busy": "2020-11-22T00:11:35.015253Z",
     "iopub.status.idle": "2020-11-22T00:11:35.017812Z",
     "shell.execute_reply": "2020-11-22T00:11:35.017157Z"
    },
    "papermill": {
     "duration": 0.041909,
     "end_time": "2020-11-22T00:11:35.017949",
     "exception": false,
     "start_time": "2020-11-22T00:11:34.976040",
     "status": "completed"
    },
    "tags": []
   },
   "outputs": [],
   "source": [
    "#hide\n",
    "# g['date'] = g.date.dt.dayofyear"
   ]
  },
  {
   "cell_type": "code",
   "execution_count": 35,
   "metadata": {
    "execution": {
     "iopub.execute_input": "2020-11-22T00:11:35.093544Z",
     "iopub.status.busy": "2020-11-22T00:11:35.092883Z",
     "iopub.status.idle": "2020-11-22T00:11:35.095812Z",
     "shell.execute_reply": "2020-11-22T00:11:35.096452Z"
    },
    "papermill": {
     "duration": 0.041912,
     "end_time": "2020-11-22T00:11:35.096609",
     "exception": false,
     "start_time": "2020-11-22T00:11:35.054697",
     "status": "completed"
    },
    "tags": []
   },
   "outputs": [],
   "source": [
    "#hide\n",
    "# g = g.rename(columns= {'continent':'group','country':'name','cases':'value'})"
   ]
  },
  {
   "cell_type": "code",
   "execution_count": 36,
   "metadata": {
    "execution": {
     "iopub.execute_input": "2020-11-22T00:11:35.171045Z",
     "iopub.status.busy": "2020-11-22T00:11:35.170382Z",
     "iopub.status.idle": "2020-11-22T00:11:35.172978Z",
     "shell.execute_reply": "2020-11-22T00:11:35.172402Z"
    },
    "papermill": {
     "duration": 0.041874,
     "end_time": "2020-11-22T00:11:35.173131",
     "exception": false,
     "start_time": "2020-11-22T00:11:35.131257",
     "status": "completed"
    },
    "tags": []
   },
   "outputs": [],
   "source": [
    "#hide\n",
    "# cols = ['name','group','day','value']"
   ]
  },
  {
   "cell_type": "code",
   "execution_count": 37,
   "metadata": {
    "execution": {
     "iopub.execute_input": "2020-11-22T00:11:35.247440Z",
     "iopub.status.busy": "2020-11-22T00:11:35.246738Z",
     "iopub.status.idle": "2020-11-22T00:11:35.249613Z",
     "shell.execute_reply": "2020-11-22T00:11:35.249012Z"
    },
    "papermill": {
     "duration": 0.041306,
     "end_time": "2020-11-22T00:11:35.249747",
     "exception": false,
     "start_time": "2020-11-22T00:11:35.208441",
     "status": "completed"
    },
    "tags": []
   },
   "outputs": [],
   "source": [
    "#hide\n",
    "# g.rename(columns= {'date':'day'},inplace = True)"
   ]
  },
  {
   "cell_type": "code",
   "execution_count": 38,
   "metadata": {
    "execution": {
     "iopub.execute_input": "2020-11-22T00:11:35.323865Z",
     "iopub.status.busy": "2020-11-22T00:11:35.323170Z",
     "iopub.status.idle": "2020-11-22T00:11:35.325268Z",
     "shell.execute_reply": "2020-11-22T00:11:35.325814Z"
    },
    "papermill": {
     "duration": 0.04081,
     "end_time": "2020-11-22T00:11:35.325969",
     "exception": false,
     "start_time": "2020-11-22T00:11:35.285159",
     "status": "completed"
    },
    "tags": []
   },
   "outputs": [],
   "source": [
    "#hide\n",
    "# g = g[cols]"
   ]
  },
  {
   "cell_type": "code",
   "execution_count": 39,
   "metadata": {
    "execution": {
     "iopub.execute_input": "2020-11-22T00:11:35.401517Z",
     "iopub.status.busy": "2020-11-22T00:11:35.400697Z",
     "iopub.status.idle": "2020-11-22T00:11:35.402387Z",
     "shell.execute_reply": "2020-11-22T00:11:35.403183Z"
    },
    "papermill": {
     "duration": 0.042351,
     "end_time": "2020-11-22T00:11:35.403373",
     "exception": false,
     "start_time": "2020-11-22T00:11:35.361022",
     "status": "completed"
    },
    "tags": []
   },
   "outputs": [],
   "source": [
    "# #hide\n",
    "# g = g[g.group.notna()]"
   ]
  },
  {
   "cell_type": "code",
   "execution_count": 40,
   "metadata": {
    "execution": {
     "iopub.execute_input": "2020-11-22T00:11:35.508110Z",
     "iopub.status.busy": "2020-11-22T00:11:35.506938Z",
     "iopub.status.idle": "2020-11-22T00:11:35.510032Z",
     "shell.execute_reply": "2020-11-22T00:11:35.510770Z"
    },
    "papermill": {
     "duration": 0.057125,
     "end_time": "2020-11-22T00:11:35.510952",
     "exception": false,
     "start_time": "2020-11-22T00:11:35.453827",
     "status": "completed"
    },
    "tags": []
   },
   "outputs": [],
   "source": [
    "# #hide\n",
    "# colors = dict(zip(\n",
    "#     [\"Oceania\", \"Europe\", \"Asia\", \"South America\", \"Middle East\", \"North America\", \"Africa\"],\n",
    "#     [\"#adb0ff\", \"#ffb3ff\", \"#90d595\", \"#e48381\", \"#aafbff\", \"#f7bb5f\", \"#eafb50\"]\n",
    "# ))\n",
    "# group_lk = g.set_index('name')['group'].to_dict()"
   ]
  },
  {
   "cell_type": "code",
   "execution_count": null,
   "metadata": {
    "papermill": {
     "duration": 0.052087,
     "end_time": "2020-11-22T00:11:35.622907",
     "exception": false,
     "start_time": "2020-11-22T00:11:35.570820",
     "status": "completed"
    },
    "tags": []
   },
   "outputs": [],
   "source": []
  },
  {
   "cell_type": "code",
   "execution_count": 41,
   "metadata": {
    "execution": {
     "iopub.execute_input": "2020-11-22T00:11:35.733189Z",
     "iopub.status.busy": "2020-11-22T00:11:35.732243Z",
     "iopub.status.idle": "2020-11-22T00:11:35.734109Z",
     "shell.execute_reply": "2020-11-22T00:11:35.735123Z"
    },
    "papermill": {
     "duration": 0.061821,
     "end_time": "2020-11-22T00:11:35.735354",
     "exception": false,
     "start_time": "2020-11-22T00:11:35.673533",
     "status": "completed"
    },
    "tags": []
   },
   "outputs": [],
   "source": [
    "# #hide\n",
    "# fig, ax = plt.subplots(figsize=(15, 8))\n",
    "\n",
    "# def draw_barchart(current_day):\n",
    "#     dff = g[g['day'].eq(current_day)].sort_values(by='value', ascending=True).tail(10)\n",
    "#     ax.clear()\n",
    "#     ax.barh(dff['name'], dff['value'], color=[colors[group_lk[x]] for x in dff['name']])\n",
    "#     dx = dff['value'].max() / 200\n",
    "    \n",
    "#     for i, (value, name) in enumerate(zip(dff['value'], dff['name'])):\n",
    "#         ax.text(value-dx, i,     name,           size=14, weight=600, ha='right', va='bottom')\n",
    "#         ax.text(value-dx, i-.25, group_lk[name], size=10, color='#444444', ha='right', va='baseline')\n",
    "#         ax.text(value+dx, i,     f'{value:,.0f}',  size=14, ha='left',  va='center')\n",
    "#     ax.text(1, 0.4, current_day, transform=ax.transAxes, color='#777777', size=46, ha='right', weight=800)\n",
    "#     ax.text(0, 1.06, 'Population (thousands)', transform=ax.transAxes, size=12, color='#777777')\n",
    "#     ax.xaxis.set_major_formatter(ticker.StrMethodFormatter('{x:,.0f}'))\n",
    "#     ax.xaxis.set_ticks_position('top')\n",
    "#     ax.tick_params(axis='x', colors='#777777', labelsize=12)\n",
    "#     ax.set_yticks([])\n",
    "#     ax.margins(0, 0.01)\n",
    "#     ax.grid(which='major', axis='x', linestyle='-')\n",
    "#     ax.set_axisbelow(True)\n",
    "    \n",
    "#     ax.text(0, 1.15, 'Coronavirus',\n",
    "#             transform=ax.transAxes, size=24, weight=600, ha='left', va='top')\n",
    "# #     ax.text(1, 0, 'by @pratapvardhan; credit @jburnmurdoch', transform=ax.transAxes, color='#777777', ha='right',\n",
    "# #             bbox=dict(facecolor='white', alpha=0.8, edgecolor='white'))\n",
    "#     plt.box(False)"
   ]
  },
  {
   "cell_type": "code",
   "execution_count": 42,
   "metadata": {
    "execution": {
     "iopub.execute_input": "2020-11-22T00:11:35.845389Z",
     "iopub.status.busy": "2020-11-22T00:11:35.844042Z",
     "iopub.status.idle": "2020-11-22T00:11:35.847203Z",
     "shell.execute_reply": "2020-11-22T00:11:35.848380Z"
    },
    "papermill": {
     "duration": 0.058963,
     "end_time": "2020-11-22T00:11:35.848550",
     "exception": false,
     "start_time": "2020-11-22T00:11:35.789587",
     "status": "completed"
    },
    "tags": []
   },
   "outputs": [],
   "source": [
    "# #hide_input\n",
    "# fig, ax = plt.subplots(figsize=(15, 8))\n",
    "# animator = animation.FuncAnimation(fig, draw_barchart, frames=range(g.day.values.min(), g.day.values.max()))\n",
    "# HTML(animator.to_jshtml())\n",
    "# # or use animator.to_html5_video() or animator.save() "
   ]
  },
  {
   "cell_type": "code",
   "execution_count": null,
   "metadata": {
    "papermill": {
     "duration": 0.03515,
     "end_time": "2020-11-22T00:11:35.925287",
     "exception": false,
     "start_time": "2020-11-22T00:11:35.890137",
     "status": "completed"
    },
    "tags": []
   },
   "outputs": [],
   "source": []
  },
  {
   "cell_type": "code",
   "execution_count": null,
   "metadata": {
    "papermill": {
     "duration": 0.035145,
     "end_time": "2020-11-22T00:11:35.996454",
     "exception": false,
     "start_time": "2020-11-22T00:11:35.961309",
     "status": "completed"
    },
    "tags": []
   },
   "outputs": [],
   "source": []
  },
  {
   "cell_type": "code",
   "execution_count": null,
   "metadata": {
    "papermill": {
     "duration": 0.034686,
     "end_time": "2020-11-22T00:11:36.067606",
     "exception": false,
     "start_time": "2020-11-22T00:11:36.032920",
     "status": "completed"
    },
    "tags": []
   },
   "outputs": [],
   "source": []
  }
 ],
 "metadata": {
  "kernelspec": {
   "display_name": "Python 3",
   "language": "python",
   "name": "python3"
  },
  "language_info": {
   "codemirror_mode": {
    "name": "ipython",
    "version": 3
   },
   "file_extension": ".py",
   "mimetype": "text/x-python",
   "name": "python",
   "nbconvert_exporter": "python",
   "pygments_lexer": "ipython3",
   "version": "3.6.12"
  },
  "papermill": {
   "duration": 11.091548,
   "end_time": "2020-11-22T00:11:36.410312",
   "environment_variables": {},
   "exception": null,
   "input_path": "2020-03-21-covid19exp.ipynb",
   "output_path": "2020-03-21-covid19exp.ipynb",
   "parameters": {},
   "start_time": "2020-11-22T00:11:25.318764",
   "version": "2.0.0"
  }
 },
 "nbformat": 4,
 "nbformat_minor": 4
}