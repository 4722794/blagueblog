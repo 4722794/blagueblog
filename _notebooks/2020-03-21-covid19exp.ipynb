{
 "cells": [
  {
   "cell_type": "markdown",
   "id": "muslim-click",
   "metadata": {
    "papermill": {
     "duration": 0.03433,
     "end_time": "2022-01-14T00:27:11.334910",
     "exception": false,
     "start_time": "2022-01-14T00:27:11.300580",
     "status": "completed"
    },
    "tags": []
   },
   "source": [
    "# COVID-19 Case Race\n",
    "> A race chart to see rising cases around the world\n",
    "\n",
    "- author: Hargun Oberoi\n",
    "- image: images/covid-overview.png\n",
    "- hide: false\n",
    "- badges: false"
   ]
  },
  {
   "cell_type": "code",
   "execution_count": 1,
   "id": "proof-material",
   "metadata": {
    "execution": {
     "iopub.execute_input": "2022-01-14T00:27:11.406968Z",
     "iopub.status.busy": "2022-01-14T00:27:11.406402Z",
     "iopub.status.idle": "2022-01-14T00:27:11.741925Z",
     "shell.execute_reply": "2022-01-14T00:27:11.742481Z"
    },
    "papermill": {
     "duration": 0.377533,
     "end_time": "2022-01-14T00:27:11.742698",
     "exception": false,
     "start_time": "2022-01-14T00:27:11.365165",
     "status": "completed"
    },
    "tags": []
   },
   "outputs": [],
   "source": [
    "#hide\n",
    "import numpy as np\n",
    "import pandas as pd\n",
    "from jinja2 import Template\n",
    "from IPython.display import HTML"
   ]
  },
  {
   "cell_type": "code",
   "execution_count": 2,
   "id": "developed-terminology",
   "metadata": {
    "execution": {
     "iopub.execute_input": "2022-01-14T00:27:11.809008Z",
     "iopub.status.busy": "2022-01-14T00:27:11.808434Z",
     "iopub.status.idle": "2022-01-14T00:27:11.810486Z",
     "shell.execute_reply": "2022-01-14T00:27:11.809941Z"
    },
    "papermill": {
     "duration": 0.037391,
     "end_time": "2022-01-14T00:27:11.810609",
     "exception": false,
     "start_time": "2022-01-14T00:27:11.773218",
     "status": "completed"
    },
    "tags": []
   },
   "outputs": [],
   "source": [
    "#hide\n",
    "\n",
    "# FETCH\n",
    "base_url = 'https://raw.githubusercontent.com/pratapvardhan/notebooks/master/covid19/'\n",
    "paths = {\n",
    "    'mapping': base_url + 'mapping_countries.csv',\n",
    "    'overview': base_url + 'overview.tpl'\n",
    "}"
   ]
  },
  {
   "cell_type": "code",
   "execution_count": 3,
   "id": "dynamic-saver",
   "metadata": {
    "execution": {
     "iopub.execute_input": "2022-01-14T00:27:11.879365Z",
     "iopub.status.busy": "2022-01-14T00:27:11.878851Z",
     "iopub.status.idle": "2022-01-14T00:27:11.881584Z",
     "shell.execute_reply": "2022-01-14T00:27:11.881081Z"
    },
    "papermill": {
     "duration": 0.041474,
     "end_time": "2022-01-14T00:27:11.881688",
     "exception": false,
     "start_time": "2022-01-14T00:27:11.840214",
     "status": "completed"
    },
    "tags": []
   },
   "outputs": [
    {
     "data": {
      "text/plain": [
       "'https://raw.githubusercontent.com/pratapvardhan/notebooks/master/covid19/mapping_countries.csv'"
      ]
     },
     "execution_count": 3,
     "metadata": {},
     "output_type": "execute_result"
    }
   ],
   "source": [
    "#hide\n",
    "paths['mapping']"
   ]
  },
  {
   "cell_type": "code",
   "execution_count": 4,
   "id": "urban-software",
   "metadata": {
    "execution": {
     "iopub.execute_input": "2022-01-14T00:27:11.946578Z",
     "iopub.status.busy": "2022-01-14T00:27:11.945952Z",
     "iopub.status.idle": "2022-01-14T00:27:11.948065Z",
     "shell.execute_reply": "2022-01-14T00:27:11.947492Z"
    },
    "papermill": {
     "duration": 0.036498,
     "end_time": "2022-01-14T00:27:11.948184",
     "exception": false,
     "start_time": "2022-01-14T00:27:11.911686",
     "status": "completed"
    },
    "tags": []
   },
   "outputs": [],
   "source": [
    "#hide\n",
    "def get_mappings(url):\n",
    "    df = pd.read_csv(url)\n",
    "    return {\n",
    "        'df': df,\n",
    "        'replace.country': dict(df.dropna(subset=['Name']).set_index('Country')['Name']),\n",
    "        'map.continent': dict(df.set_index('Name')['Continent'])\n",
    "    }"
   ]
  },
  {
   "cell_type": "code",
   "execution_count": 5,
   "id": "intimate-machinery",
   "metadata": {
    "execution": {
     "iopub.execute_input": "2022-01-14T00:27:12.013021Z",
     "iopub.status.busy": "2022-01-14T00:27:12.012513Z",
     "iopub.status.idle": "2022-01-14T00:27:12.039529Z",
     "shell.execute_reply": "2022-01-14T00:27:12.039032Z"
    },
    "papermill": {
     "duration": 0.061404,
     "end_time": "2022-01-14T00:27:12.039651",
     "exception": false,
     "start_time": "2022-01-14T00:27:11.978247",
     "status": "completed"
    },
    "tags": []
   },
   "outputs": [],
   "source": [
    "#hide\n",
    "mapping = get_mappings(paths['mapping'])"
   ]
  },
  {
   "cell_type": "code",
   "execution_count": 6,
   "id": "certified-tactics",
   "metadata": {
    "execution": {
     "iopub.execute_input": "2022-01-14T00:27:12.104970Z",
     "iopub.status.busy": "2022-01-14T00:27:12.104429Z",
     "iopub.status.idle": "2022-01-14T00:27:12.106691Z",
     "shell.execute_reply": "2022-01-14T00:27:12.106248Z"
    },
    "papermill": {
     "duration": 0.03717,
     "end_time": "2022-01-14T00:27:12.106806",
     "exception": false,
     "start_time": "2022-01-14T00:27:12.069636",
     "status": "completed"
    },
    "tags": []
   },
   "outputs": [],
   "source": [
    "#hide\n",
    "def get_template(path):\n",
    "    from urllib.parse import urlparse\n",
    "    if bool(urlparse(path).netloc):\n",
    "        from urllib.request import urlopen\n",
    "        return urlopen(path).read().decode('utf8')\n",
    "    return open(path).read()"
   ]
  },
  {
   "cell_type": "code",
   "execution_count": 7,
   "id": "realistic-blast",
   "metadata": {
    "execution": {
     "iopub.execute_input": "2022-01-14T00:27:12.172434Z",
     "iopub.status.busy": "2022-01-14T00:27:12.171824Z",
     "iopub.status.idle": "2022-01-14T00:27:12.174312Z",
     "shell.execute_reply": "2022-01-14T00:27:12.173862Z"
    },
    "papermill": {
     "duration": 0.037999,
     "end_time": "2022-01-14T00:27:12.174428",
     "exception": false,
     "start_time": "2022-01-14T00:27:12.136429",
     "status": "completed"
    },
    "tags": []
   },
   "outputs": [],
   "source": [
    "#hide\n",
    "def get_frame(name):\n",
    "    url = (\n",
    "        'https://raw.githubusercontent.com/CSSEGISandData/COVID-19/master/csse_covid_19_data/'\n",
    "        f'csse_covid_19_time_series/time_series_covid19_{name}_global.csv')\n",
    "    df = pd.read_csv(url)\n",
    "    # rename countries\n",
    "    df['Country/Region'] = df['Country/Region'].replace(mapping['replace.country'])\n",
    "    return df"
   ]
  },
  {
   "cell_type": "code",
   "execution_count": 8,
   "id": "affiliated-characterization",
   "metadata": {
    "execution": {
     "iopub.execute_input": "2022-01-14T00:27:12.240539Z",
     "iopub.status.busy": "2022-01-14T00:27:12.239921Z",
     "iopub.status.idle": "2022-01-14T00:27:12.241427Z",
     "shell.execute_reply": "2022-01-14T00:27:12.241916Z"
    },
    "papermill": {
     "duration": 0.037825,
     "end_time": "2022-01-14T00:27:12.242060",
     "exception": false,
     "start_time": "2022-01-14T00:27:12.204235",
     "status": "completed"
    },
    "tags": []
   },
   "outputs": [],
   "source": [
    "#hide\n",
    "def get_dates(df):\n",
    "    dt_cols = df.columns[~df.columns.isin(['Province/State', 'Country/Region', 'Lat', 'Long'])]\n",
    "    LAST_DATE_I = -1\n",
    "    # sometimes last column may be empty, then go backwards\n",
    "    for i in range(-1, -len(dt_cols), -1):\n",
    "        if not df[dt_cols[i]].fillna(0).eq(0).all():\n",
    "            LAST_DATE_I = i\n",
    "            break\n",
    "    return LAST_DATE_I, dt_cols"
   ]
  },
  {
   "cell_type": "code",
   "execution_count": 9,
   "id": "recent-optimization",
   "metadata": {
    "execution": {
     "iopub.execute_input": "2022-01-14T00:27:12.306383Z",
     "iopub.status.busy": "2022-01-14T00:27:12.305819Z",
     "iopub.status.idle": "2022-01-14T00:27:12.617908Z",
     "shell.execute_reply": "2022-01-14T00:27:12.616769Z"
    },
    "papermill": {
     "duration": 0.3459,
     "end_time": "2022-01-14T00:27:12.618056",
     "exception": false,
     "start_time": "2022-01-14T00:27:12.272156",
     "status": "completed"
    },
    "tags": []
   },
   "outputs": [],
   "source": [
    "#hide\n",
    "COL_REGION = 'Country/Region'\n",
    "# Confirmed, Recovered, Deaths\n",
    "df = get_frame('confirmed')\n",
    "# dft_: timeseries, dfc_: today country agg\n",
    "dft_cases = df\n",
    "dft_deaths = get_frame('deaths')\n",
    "dft_recovered = get_frame('recovered')\n",
    "LAST_DATE_I, dt_cols = get_dates(df)"
   ]
  },
  {
   "cell_type": "code",
   "execution_count": 10,
   "id": "absolute-copper",
   "metadata": {
    "execution": {
     "iopub.execute_input": "2022-01-14T00:27:12.684437Z",
     "iopub.status.busy": "2022-01-14T00:27:12.683885Z",
     "iopub.status.idle": "2022-01-14T00:27:12.685984Z",
     "shell.execute_reply": "2022-01-14T00:27:12.685558Z"
    },
    "papermill": {
     "duration": 0.037406,
     "end_time": "2022-01-14T00:27:12.686101",
     "exception": false,
     "start_time": "2022-01-14T00:27:12.648695",
     "status": "completed"
    },
    "tags": []
   },
   "outputs": [],
   "source": [
    "#hide\n",
    "LAST_DATE_I, dt_cols = get_dates(df)\n",
    "dt_today =dt_cols[LAST_DATE_I]\n",
    "# dt_5day = dt_cols[LAST_DATE_I - 5]\n",
    "dt_yday = dt_cols[LAST_DATE_I - 1]"
   ]
  },
  {
   "cell_type": "code",
   "execution_count": 11,
   "id": "restricted-sheriff",
   "metadata": {
    "execution": {
     "iopub.execute_input": "2022-01-14T00:27:12.753867Z",
     "iopub.status.busy": "2022-01-14T00:27:12.753354Z",
     "iopub.status.idle": "2022-01-14T00:27:12.758976Z",
     "shell.execute_reply": "2022-01-14T00:27:12.758556Z"
    },
    "papermill": {
     "duration": 0.042885,
     "end_time": "2022-01-14T00:27:12.759092",
     "exception": false,
     "start_time": "2022-01-14T00:27:12.716207",
     "status": "completed"
    },
    "tags": []
   },
   "outputs": [],
   "source": [
    "#hide\n",
    "dfc_cases = dft_cases.groupby(COL_REGION)[dt_today].sum()\n",
    "dfc_deaths = dft_deaths.groupby(COL_REGION)[dt_today].sum()\n",
    "# dfp_cases = dft_cases.groupby(COL_REGION)[dt_5day].sum()\n",
    "# dfp_deaths = dft_deaths.groupby(COL_REGION)[dt_5day].sum()\n",
    "dfp_cases = dft_cases.groupby(COL_REGION)[dt_yday].sum()\n",
    "dfp_deaths = dft_deaths.groupby(COL_REGION)[dt_yday].sum()"
   ]
  },
  {
   "cell_type": "code",
   "execution_count": 12,
   "id": "deluxe-hepatitis",
   "metadata": {
    "execution": {
     "iopub.execute_input": "2022-01-14T00:27:12.824100Z",
     "iopub.status.busy": "2022-01-14T00:27:12.823590Z",
     "iopub.status.idle": "2022-01-14T00:27:12.828599Z",
     "shell.execute_reply": "2022-01-14T00:27:12.828193Z"
    },
    "papermill": {
     "duration": 0.039768,
     "end_time": "2022-01-14T00:27:12.828709",
     "exception": false,
     "start_time": "2022-01-14T00:27:12.788941",
     "status": "completed"
    },
    "tags": []
   },
   "outputs": [],
   "source": [
    "#hide\n",
    "df_table = (pd.DataFrame(dict(Cases = dfc_cases, Deaths = dfc_deaths, PCases = dfp_cases, PDeaths = dfp_deaths))\n",
    "            .sort_values(by = ['Cases','Deaths'], ascending = [False, False])\n",
    "            .reset_index())"
   ]
  },
  {
   "cell_type": "code",
   "execution_count": 13,
   "id": "educational-chancellor",
   "metadata": {
    "execution": {
     "iopub.execute_input": "2022-01-14T00:27:12.906026Z",
     "iopub.status.busy": "2022-01-14T00:27:12.905482Z",
     "iopub.status.idle": "2022-01-14T00:27:12.912738Z",
     "shell.execute_reply": "2022-01-14T00:27:12.913147Z"
    },
    "papermill": {
     "duration": 0.055034,
     "end_time": "2022-01-14T00:27:12.913277",
     "exception": false,
     "start_time": "2022-01-14T00:27:12.858243",
     "status": "completed"
    },
    "tags": []
   },
   "outputs": [
    {
     "data": {
      "text/html": [
       "<div>\n",
       "<style scoped>\n",
       "    .dataframe tbody tr th:only-of-type {\n",
       "        vertical-align: middle;\n",
       "    }\n",
       "\n",
       "    .dataframe tbody tr th {\n",
       "        vertical-align: top;\n",
       "    }\n",
       "\n",
       "    .dataframe thead th {\n",
       "        text-align: right;\n",
       "    }\n",
       "</style>\n",
       "<table border=\"1\" class=\"dataframe\">\n",
       "  <thead>\n",
       "    <tr style=\"text-align: right;\">\n",
       "      <th></th>\n",
       "      <th>Country/Region</th>\n",
       "      <th>Cases</th>\n",
       "      <th>Deaths</th>\n",
       "      <th>PCases</th>\n",
       "      <th>PDeaths</th>\n",
       "      <th>Cases (+)</th>\n",
       "      <th>Deaths (+)</th>\n",
       "      <th>Fatality Rate</th>\n",
       "      <th>Continent</th>\n",
       "    </tr>\n",
       "  </thead>\n",
       "  <tbody>\n",
       "    <tr>\n",
       "      <th>0</th>\n",
       "      <td>US</td>\n",
       "      <td>63277401</td>\n",
       "      <td>844562</td>\n",
       "      <td>62385927</td>\n",
       "      <td>842141</td>\n",
       "      <td>891474</td>\n",
       "      <td>2421</td>\n",
       "      <td>1.33</td>\n",
       "      <td>North America</td>\n",
       "    </tr>\n",
       "    <tr>\n",
       "      <th>1</th>\n",
       "      <td>India</td>\n",
       "      <td>36317927</td>\n",
       "      <td>485035</td>\n",
       "      <td>35875790</td>\n",
       "      <td>484213</td>\n",
       "      <td>442137</td>\n",
       "      <td>822</td>\n",
       "      <td>1.34</td>\n",
       "      <td>Asia</td>\n",
       "    </tr>\n",
       "    <tr>\n",
       "      <th>2</th>\n",
       "      <td>Brazil</td>\n",
       "      <td>22724232</td>\n",
       "      <td>620641</td>\n",
       "      <td>22636359</td>\n",
       "      <td>620507</td>\n",
       "      <td>87873</td>\n",
       "      <td>134</td>\n",
       "      <td>2.73</td>\n",
       "      <td>South America</td>\n",
       "    </tr>\n",
       "    <tr>\n",
       "      <th>3</th>\n",
       "      <td>United Kingdom</td>\n",
       "      <td>14958196</td>\n",
       "      <td>151496</td>\n",
       "      <td>14826336</td>\n",
       "      <td>151093</td>\n",
       "      <td>131860</td>\n",
       "      <td>403</td>\n",
       "      <td>1.01</td>\n",
       "      <td>Europe</td>\n",
       "    </tr>\n",
       "    <tr>\n",
       "      <th>4</th>\n",
       "      <td>France</td>\n",
       "      <td>13042665</td>\n",
       "      <td>127294</td>\n",
       "      <td>12680780</td>\n",
       "      <td>127048</td>\n",
       "      <td>361885</td>\n",
       "      <td>246</td>\n",
       "      <td>0.98</td>\n",
       "      <td>Europe</td>\n",
       "    </tr>\n",
       "  </tbody>\n",
       "</table>\n",
       "</div>"
      ],
      "text/plain": [
       "   Country/Region     Cases  Deaths    PCases  PDeaths  Cases (+)  Deaths (+)  \\\n",
       "0              US  63277401  844562  62385927   842141     891474        2421   \n",
       "1           India  36317927  485035  35875790   484213     442137         822   \n",
       "2          Brazil  22724232  620641  22636359   620507      87873         134   \n",
       "3  United Kingdom  14958196  151496  14826336   151093     131860         403   \n",
       "4          France  13042665  127294  12680780   127048     361885         246   \n",
       "\n",
       "   Fatality Rate      Continent  \n",
       "0           1.33  North America  \n",
       "1           1.34           Asia  \n",
       "2           2.73  South America  \n",
       "3           1.01         Europe  \n",
       "4           0.98         Europe  "
      ]
     },
     "execution_count": 13,
     "metadata": {},
     "output_type": "execute_result"
    }
   ],
   "source": [
    "#hide\n",
    "for c in 'Cases, Deaths'.split(', '):\n",
    "    df_table[f'{c} (+)'] = (df_table[c] - df_table[f'P{c}']).clip(0)\n",
    "    #Clip ça veut dire, les chiffres negatif sont interdit\n",
    "df_table['Fatality Rate'] = (100* df_table['Deaths']/ df_table['Cases']).round(2)\n",
    "df_table['Continent'] = df_table['Country/Region'].map(mapping['map.continent'])\n",
    "df_table.head(5)"
   ]
  },
  {
   "cell_type": "code",
   "execution_count": 14,
   "id": "aboriginal-bulgaria",
   "metadata": {
    "execution": {
     "iopub.execute_input": "2022-01-14T00:27:12.978926Z",
     "iopub.status.busy": "2022-01-14T00:27:12.978397Z",
     "iopub.status.idle": "2022-01-14T00:27:12.981581Z",
     "shell.execute_reply": "2022-01-14T00:27:12.982013Z"
    },
    "papermill": {
     "duration": 0.038495,
     "end_time": "2022-01-14T00:27:12.982140",
     "exception": false,
     "start_time": "2022-01-14T00:27:12.943645",
     "status": "completed"
    },
    "tags": []
   },
   "outputs": [],
   "source": [
    "#hide\n",
    "#delete problematic countries from table\n",
    "df_table = df_table[~df_table['Country/Region'].isin(['Cape Verde', 'Cruise Ship', 'Kosovo'])]"
   ]
  },
  {
   "cell_type": "code",
   "execution_count": 15,
   "id": "fantastic-effect",
   "metadata": {
    "execution": {
     "iopub.execute_input": "2022-01-14T00:27:13.051621Z",
     "iopub.status.busy": "2022-01-14T00:27:13.051107Z",
     "iopub.status.idle": "2022-01-14T00:27:13.067424Z",
     "shell.execute_reply": "2022-01-14T00:27:13.067858Z"
    },
    "papermill": {
     "duration": 0.055682,
     "end_time": "2022-01-14T00:27:13.067986",
     "exception": false,
     "start_time": "2022-01-14T00:27:13.012304",
     "status": "completed"
    },
    "tags": []
   },
   "outputs": [
    {
     "data": {
      "text/html": [
       "<div>\n",
       "<style scoped>\n",
       "    .dataframe tbody tr th:only-of-type {\n",
       "        vertical-align: middle;\n",
       "    }\n",
       "\n",
       "    .dataframe tbody tr th {\n",
       "        vertical-align: top;\n",
       "    }\n",
       "\n",
       "    .dataframe thead th {\n",
       "        text-align: right;\n",
       "    }\n",
       "</style>\n",
       "<table border=\"1\" class=\"dataframe\">\n",
       "  <thead>\n",
       "    <tr style=\"text-align: right;\">\n",
       "      <th></th>\n",
       "      <th>Country/Region</th>\n",
       "      <th>Cases</th>\n",
       "      <th>Deaths</th>\n",
       "      <th>PCases</th>\n",
       "      <th>PDeaths</th>\n",
       "      <th>Cases (+)</th>\n",
       "      <th>Deaths (+)</th>\n",
       "      <th>Fatality Rate</th>\n",
       "      <th>Continent</th>\n",
       "    </tr>\n",
       "  </thead>\n",
       "  <tbody>\n",
       "    <tr>\n",
       "      <th>0</th>\n",
       "      <td>US</td>\n",
       "      <td>63277401</td>\n",
       "      <td>844562</td>\n",
       "      <td>62385927</td>\n",
       "      <td>842141</td>\n",
       "      <td>891474</td>\n",
       "      <td>2421</td>\n",
       "      <td>1.3</td>\n",
       "      <td>North America</td>\n",
       "    </tr>\n",
       "    <tr>\n",
       "      <th>1</th>\n",
       "      <td>India</td>\n",
       "      <td>36317927</td>\n",
       "      <td>485035</td>\n",
       "      <td>35875790</td>\n",
       "      <td>484213</td>\n",
       "      <td>442137</td>\n",
       "      <td>822</td>\n",
       "      <td>1.3</td>\n",
       "      <td>Asia</td>\n",
       "    </tr>\n",
       "    <tr>\n",
       "      <th>2</th>\n",
       "      <td>Brazil</td>\n",
       "      <td>22724232</td>\n",
       "      <td>620641</td>\n",
       "      <td>22636359</td>\n",
       "      <td>620507</td>\n",
       "      <td>87873</td>\n",
       "      <td>134</td>\n",
       "      <td>2.7</td>\n",
       "      <td>South America</td>\n",
       "    </tr>\n",
       "    <tr>\n",
       "      <th>3</th>\n",
       "      <td>United Kingdom</td>\n",
       "      <td>14958196</td>\n",
       "      <td>151496</td>\n",
       "      <td>14826336</td>\n",
       "      <td>151093</td>\n",
       "      <td>131860</td>\n",
       "      <td>403</td>\n",
       "      <td>1.0</td>\n",
       "      <td>Europe</td>\n",
       "    </tr>\n",
       "    <tr>\n",
       "      <th>4</th>\n",
       "      <td>France</td>\n",
       "      <td>13042665</td>\n",
       "      <td>127294</td>\n",
       "      <td>12680780</td>\n",
       "      <td>127048</td>\n",
       "      <td>361885</td>\n",
       "      <td>246</td>\n",
       "      <td>1.0</td>\n",
       "      <td>Europe</td>\n",
       "    </tr>\n",
       "  </tbody>\n",
       "</table>\n",
       "</div>"
      ],
      "text/plain": [
       "   Country/Region     Cases  Deaths    PCases  PDeaths  Cases (+)  Deaths (+)  \\\n",
       "0              US  63277401  844562  62385927   842141     891474        2421   \n",
       "1           India  36317927  485035  35875790   484213     442137         822   \n",
       "2          Brazil  22724232  620641  22636359   620507      87873         134   \n",
       "3  United Kingdom  14958196  151496  14826336   151093     131860         403   \n",
       "4          France  13042665  127294  12680780   127048     361885         246   \n",
       "\n",
       "   Fatality Rate      Continent  \n",
       "0            1.3  North America  \n",
       "1            1.3           Asia  \n",
       "2            2.7  South America  \n",
       "3            1.0         Europe  \n",
       "4            1.0         Europe  "
      ]
     },
     "execution_count": 15,
     "metadata": {},
     "output_type": "execute_result"
    }
   ],
   "source": [
    "#hide\n",
    "df_table = (pd.DataFrame(dict(Cases=dfc_cases, Deaths=dfc_deaths, PCases=dfp_cases, PDeaths=dfp_deaths))\n",
    "             .sort_values(by=['Cases', 'Deaths'], ascending=[False, False])\n",
    "             .reset_index())\n",
    "df_table.rename(columns={'index': 'Country/Region'}, inplace=True)\n",
    "for c in 'Cases, Deaths'.split(', '):\n",
    "    df_table[f'{c} (+)'] = (df_table[c] - df_table[f'P{c}']).clip(0)  # DATA BUG\n",
    "df_table['Fatality Rate'] = (100 * df_table['Deaths'] / df_table['Cases']).round(1)\n",
    "df_table['Continent'] = df_table['Country/Region'].map(mapping['map.continent'])\n",
    "df_table.head(5)"
   ]
  },
  {
   "cell_type": "code",
   "execution_count": 16,
   "id": "fewer-occasion",
   "metadata": {
    "execution": {
     "iopub.execute_input": "2022-01-14T00:27:13.135316Z",
     "iopub.status.busy": "2022-01-14T00:27:13.134779Z",
     "iopub.status.idle": "2022-01-14T00:27:13.137557Z",
     "shell.execute_reply": "2022-01-14T00:27:13.138000Z"
    },
    "papermill": {
     "duration": 0.039229,
     "end_time": "2022-01-14T00:27:13.138135",
     "exception": false,
     "start_time": "2022-01-14T00:27:13.098906",
     "status": "completed"
    },
    "tags": []
   },
   "outputs": [],
   "source": [
    "#hide\n",
    "#delete problematic countries from table\n",
    "df_table = df_table[~df_table['Country/Region'].isin(['Cape Verde', 'Cruise Ship', 'Kosovo'])]"
   ]
  },
  {
   "cell_type": "code",
   "execution_count": 17,
   "id": "related-center",
   "metadata": {
    "execution": {
     "iopub.execute_input": "2022-01-14T00:27:13.217794Z",
     "iopub.status.busy": "2022-01-14T00:27:13.217263Z",
     "iopub.status.idle": "2022-01-14T00:27:13.218985Z",
     "shell.execute_reply": "2022-01-14T00:27:13.219371Z"
    },
    "papermill": {
     "duration": 0.050544,
     "end_time": "2022-01-14T00:27:13.219508",
     "exception": false,
     "start_time": "2022-01-14T00:27:13.168964",
     "status": "completed"
    },
    "tags": []
   },
   "outputs": [],
   "source": [
    "#hide\n",
    "metrics = [df_table.columns[index] for index in [1,2,5,6]]\n",
    "# s_china = df_table[df_table['Country/Region'].eq('China')][metrics].sum().add_prefix('China ')\n",
    "s_us = df_table[df_table['Country/Region'].eq('US')][metrics].sum().add_prefix('US ')\n",
    "s_eu = df_table[df_table['Continent'].eq('Europe')][metrics].sum().add_prefix('EU ')\n",
    "s_ind = df_table[df_table['Country/Region'].eq('India')][metrics].sum().add_prefix('India ')\n",
    "summary = {'updated': pd.to_datetime(dt_today), 'since': pd.to_datetime(dt_yday)}\n",
    "summary = {'updated': pd.to_datetime(dt_today), 'since': pd.to_datetime(dt_yday)}\n",
    "summary = {**summary, **df_table[metrics].sum(), **s_ind, **s_us, **s_eu}"
   ]
  },
  {
   "cell_type": "code",
   "execution_count": 18,
   "id": "engaging-syndrome",
   "metadata": {
    "execution": {
     "iopub.execute_input": "2022-01-14T00:27:13.286544Z",
     "iopub.status.busy": "2022-01-14T00:27:13.285994Z",
     "iopub.status.idle": "2022-01-14T00:27:13.300201Z",
     "shell.execute_reply": "2022-01-14T00:27:13.300585Z"
    },
    "papermill": {
     "duration": 0.050216,
     "end_time": "2022-01-14T00:27:13.300719",
     "exception": false,
     "start_time": "2022-01-14T00:27:13.250503",
     "status": "completed"
    },
    "tags": []
   },
   "outputs": [],
   "source": [
    "#hide\n",
    "dft_ct_new_cases = dft_cases.groupby(COL_REGION)[dt_cols].sum().diff(axis=1).fillna(0).astype(int)"
   ]
  },
  {
   "cell_type": "code",
   "execution_count": 19,
   "id": "neutral-assignment",
   "metadata": {
    "execution": {
     "iopub.execute_input": "2022-01-14T00:27:13.368411Z",
     "iopub.status.busy": "2022-01-14T00:27:13.367802Z",
     "iopub.status.idle": "2022-01-14T00:27:13.369985Z",
     "shell.execute_reply": "2022-01-14T00:27:13.369495Z"
    },
    "papermill": {
     "duration": 0.038494,
     "end_time": "2022-01-14T00:27:13.370109",
     "exception": false,
     "start_time": "2022-01-14T00:27:13.331615",
     "status": "completed"
    },
    "tags": []
   },
   "outputs": [],
   "source": [
    "#hide\n",
    "everydaycases = dft_ct_new_cases.cumsum(axis=1)"
   ]
  },
  {
   "cell_type": "code",
   "execution_count": 20,
   "id": "parliamentary-calgary",
   "metadata": {
    "execution": {
     "iopub.execute_input": "2022-01-14T00:27:13.436150Z",
     "iopub.status.busy": "2022-01-14T00:27:13.435633Z",
     "iopub.status.idle": "2022-01-14T00:27:14.027050Z",
     "shell.execute_reply": "2022-01-14T00:27:14.026489Z"
    },
    "papermill": {
     "duration": 0.626143,
     "end_time": "2022-01-14T00:27:14.027200",
     "exception": false,
     "start_time": "2022-01-14T00:27:13.401057",
     "status": "completed"
    },
    "tags": []
   },
   "outputs": [],
   "source": [
    "#hide\n",
    "import pandas as pd\n",
    "import matplotlib.pyplot as plt\n",
    "import matplotlib.ticker as ticker\n",
    "import matplotlib.animation as animation\n",
    "from IPython.display import HTML"
   ]
  },
  {
   "cell_type": "code",
   "execution_count": 21,
   "id": "lasting-extraction",
   "metadata": {
    "execution": {
     "iopub.execute_input": "2022-01-14T00:27:14.095812Z",
     "iopub.status.busy": "2022-01-14T00:27:14.095286Z",
     "iopub.status.idle": "2022-01-14T00:27:14.101488Z",
     "shell.execute_reply": "2022-01-14T00:27:14.101051Z"
    },
    "papermill": {
     "duration": 0.042629,
     "end_time": "2022-01-14T00:27:14.101598",
     "exception": false,
     "start_time": "2022-01-14T00:27:14.058969",
     "status": "completed"
    },
    "tags": []
   },
   "outputs": [],
   "source": [
    "#hide\n",
    "t = everydaycases.stack()"
   ]
  },
  {
   "cell_type": "code",
   "execution_count": 22,
   "id": "premier-sleeve",
   "metadata": {
    "execution": {
     "iopub.execute_input": "2022-01-14T00:27:14.167123Z",
     "iopub.status.busy": "2022-01-14T00:27:14.166603Z",
     "iopub.status.idle": "2022-01-14T00:27:14.176533Z",
     "shell.execute_reply": "2022-01-14T00:27:14.176118Z"
    },
    "papermill": {
     "duration": 0.044228,
     "end_time": "2022-01-14T00:27:14.176644",
     "exception": false,
     "start_time": "2022-01-14T00:27:14.132416",
     "status": "completed"
    },
    "tags": []
   },
   "outputs": [],
   "source": [
    "#hide\n",
    "g = t.reset_index(['Country/Region'])"
   ]
  },
  {
   "cell_type": "code",
   "execution_count": 23,
   "id": "distributed-pittsburgh",
   "metadata": {
    "execution": {
     "iopub.execute_input": "2022-01-14T00:27:14.241918Z",
     "iopub.status.busy": "2022-01-14T00:27:14.241324Z",
     "iopub.status.idle": "2022-01-14T00:27:14.244640Z",
     "shell.execute_reply": "2022-01-14T00:27:14.245083Z"
    },
    "papermill": {
     "duration": 0.038078,
     "end_time": "2022-01-14T00:27:14.245226",
     "exception": false,
     "start_time": "2022-01-14T00:27:14.207148",
     "status": "completed"
    },
    "tags": []
   },
   "outputs": [],
   "source": [
    "#hide\n",
    "g.index.name = 'date'"
   ]
  },
  {
   "cell_type": "code",
   "execution_count": 24,
   "id": "naked-donor",
   "metadata": {
    "execution": {
     "iopub.execute_input": "2022-01-14T00:27:14.310355Z",
     "iopub.status.busy": "2022-01-14T00:27:14.309736Z",
     "iopub.status.idle": "2022-01-14T00:27:14.313335Z",
     "shell.execute_reply": "2022-01-14T00:27:14.312848Z"
    },
    "papermill": {
     "duration": 0.037231,
     "end_time": "2022-01-14T00:27:14.313448",
     "exception": false,
     "start_time": "2022-01-14T00:27:14.276217",
     "status": "completed"
    },
    "tags": []
   },
   "outputs": [],
   "source": [
    "# #hide\n",
    "# g = g.reset_index(['date'])"
   ]
  },
  {
   "cell_type": "code",
   "execution_count": 25,
   "id": "incomplete-mustang",
   "metadata": {
    "execution": {
     "iopub.execute_input": "2022-01-14T00:27:14.378513Z",
     "iopub.status.busy": "2022-01-14T00:27:14.377910Z",
     "iopub.status.idle": "2022-01-14T00:27:14.379460Z",
     "shell.execute_reply": "2022-01-14T00:27:14.379889Z"
    },
    "papermill": {
     "duration": 0.035318,
     "end_time": "2022-01-14T00:27:14.380008",
     "exception": false,
     "start_time": "2022-01-14T00:27:14.344690",
     "status": "completed"
    },
    "tags": []
   },
   "outputs": [],
   "source": [
    "#hide\n",
    "# g.head()"
   ]
  },
  {
   "cell_type": "code",
   "execution_count": 26,
   "id": "specific-kruger",
   "metadata": {
    "execution": {
     "iopub.execute_input": "2022-01-14T00:27:14.445246Z",
     "iopub.status.busy": "2022-01-14T00:27:14.444648Z",
     "iopub.status.idle": "2022-01-14T00:27:14.447954Z",
     "shell.execute_reply": "2022-01-14T00:27:14.448394Z"
    },
    "papermill": {
     "duration": 0.037799,
     "end_time": "2022-01-14T00:27:14.448535",
     "exception": false,
     "start_time": "2022-01-14T00:27:14.410736",
     "status": "completed"
    },
    "tags": []
   },
   "outputs": [],
   "source": [
    "#hide\n",
    "# g.columns = ['date','country','cases']"
   ]
  },
  {
   "cell_type": "code",
   "execution_count": 27,
   "id": "tender-conversion",
   "metadata": {
    "execution": {
     "iopub.execute_input": "2022-01-14T00:27:14.513706Z",
     "iopub.status.busy": "2022-01-14T00:27:14.513100Z",
     "iopub.status.idle": "2022-01-14T00:27:14.515355Z",
     "shell.execute_reply": "2022-01-14T00:27:14.514860Z"
    },
    "papermill": {
     "duration": 0.036073,
     "end_time": "2022-01-14T00:27:14.515474",
     "exception": false,
     "start_time": "2022-01-14T00:27:14.479401",
     "status": "completed"
    },
    "tags": []
   },
   "outputs": [],
   "source": [
    "#hide\n",
    "# g['continent'] = g.country"
   ]
  },
  {
   "cell_type": "code",
   "execution_count": 28,
   "id": "substantial-wilderness",
   "metadata": {
    "execution": {
     "iopub.execute_input": "2022-01-14T00:27:14.581557Z",
     "iopub.status.busy": "2022-01-14T00:27:14.581038Z",
     "iopub.status.idle": "2022-01-14T00:27:14.584532Z",
     "shell.execute_reply": "2022-01-14T00:27:14.584070Z"
    },
    "papermill": {
     "duration": 0.037593,
     "end_time": "2022-01-14T00:27:14.584636",
     "exception": false,
     "start_time": "2022-01-14T00:27:14.547043",
     "status": "completed"
    },
    "tags": []
   },
   "outputs": [],
   "source": [
    "#hide\n",
    "# cols = list(g.columns.values)"
   ]
  },
  {
   "cell_type": "code",
   "execution_count": 29,
   "id": "solved-farming",
   "metadata": {
    "execution": {
     "iopub.execute_input": "2022-01-14T00:27:14.649212Z",
     "iopub.status.busy": "2022-01-14T00:27:14.648702Z",
     "iopub.status.idle": "2022-01-14T00:27:14.650533Z",
     "shell.execute_reply": "2022-01-14T00:27:14.651023Z"
    },
    "papermill": {
     "duration": 0.036039,
     "end_time": "2022-01-14T00:27:14.651143",
     "exception": false,
     "start_time": "2022-01-14T00:27:14.615104",
     "status": "completed"
    },
    "tags": []
   },
   "outputs": [],
   "source": [
    "#hide\n",
    "# cols.insert(0, cols.pop())"
   ]
  },
  {
   "cell_type": "code",
   "execution_count": 30,
   "id": "executed-adoption",
   "metadata": {
    "execution": {
     "iopub.execute_input": "2022-01-14T00:27:14.715986Z",
     "iopub.status.busy": "2022-01-14T00:27:14.715395Z",
     "iopub.status.idle": "2022-01-14T00:27:14.718773Z",
     "shell.execute_reply": "2022-01-14T00:27:14.719214Z"
    },
    "papermill": {
     "duration": 0.037471,
     "end_time": "2022-01-14T00:27:14.719354",
     "exception": false,
     "start_time": "2022-01-14T00:27:14.681883",
     "status": "completed"
    },
    "tags": []
   },
   "outputs": [],
   "source": [
    "#hide\n",
    "# g = g[cols]"
   ]
  },
  {
   "cell_type": "code",
   "execution_count": 31,
   "id": "subject-dublin",
   "metadata": {
    "execution": {
     "iopub.execute_input": "2022-01-14T00:27:14.784842Z",
     "iopub.status.busy": "2022-01-14T00:27:14.784247Z",
     "iopub.status.idle": "2022-01-14T00:27:14.786343Z",
     "shell.execute_reply": "2022-01-14T00:27:14.785893Z"
    },
    "papermill": {
     "duration": 0.035661,
     "end_time": "2022-01-14T00:27:14.786459",
     "exception": false,
     "start_time": "2022-01-14T00:27:14.750798",
     "status": "completed"
    },
    "tags": []
   },
   "outputs": [],
   "source": [
    "#hide\n",
    "# g['continent'] = g['continent'].map(mapping['map.continent'])"
   ]
  },
  {
   "cell_type": "code",
   "execution_count": 32,
   "id": "freelance-scout",
   "metadata": {
    "execution": {
     "iopub.execute_input": "2022-01-14T00:27:14.851258Z",
     "iopub.status.busy": "2022-01-14T00:27:14.850648Z",
     "iopub.status.idle": "2022-01-14T00:27:14.852148Z",
     "shell.execute_reply": "2022-01-14T00:27:14.852606Z"
    },
    "papermill": {
     "duration": 0.035719,
     "end_time": "2022-01-14T00:27:14.852740",
     "exception": false,
     "start_time": "2022-01-14T00:27:14.817021",
     "status": "completed"
    },
    "tags": []
   },
   "outputs": [],
   "source": [
    "#hide\n",
    "# g.head()"
   ]
  },
  {
   "cell_type": "code",
   "execution_count": 33,
   "id": "limited-engine",
   "metadata": {
    "execution": {
     "iopub.execute_input": "2022-01-14T00:27:14.917117Z",
     "iopub.status.busy": "2022-01-14T00:27:14.916590Z",
     "iopub.status.idle": "2022-01-14T00:27:14.918173Z",
     "shell.execute_reply": "2022-01-14T00:27:14.918607Z"
    },
    "papermill": {
     "duration": 0.035163,
     "end_time": "2022-01-14T00:27:14.918730",
     "exception": false,
     "start_time": "2022-01-14T00:27:14.883567",
     "status": "completed"
    },
    "tags": []
   },
   "outputs": [],
   "source": [
    "# hide\n",
    "# g['date'] = g['date'].astype('datetime64[ns]')"
   ]
  },
  {
   "cell_type": "code",
   "execution_count": 34,
   "id": "sophisticated-supervisor",
   "metadata": {
    "execution": {
     "iopub.execute_input": "2022-01-14T00:27:14.984274Z",
     "iopub.status.busy": "2022-01-14T00:27:14.983659Z",
     "iopub.status.idle": "2022-01-14T00:27:14.986885Z",
     "shell.execute_reply": "2022-01-14T00:27:14.987270Z"
    },
    "papermill": {
     "duration": 0.037948,
     "end_time": "2022-01-14T00:27:14.987401",
     "exception": false,
     "start_time": "2022-01-14T00:27:14.949453",
     "status": "completed"
    },
    "tags": []
   },
   "outputs": [],
   "source": [
    "#hide\n",
    "# g['date'] = g.date.dt.dayofyear"
   ]
  },
  {
   "cell_type": "code",
   "execution_count": 35,
   "id": "inside-dubai",
   "metadata": {
    "execution": {
     "iopub.execute_input": "2022-01-14T00:27:15.052540Z",
     "iopub.status.busy": "2022-01-14T00:27:15.051947Z",
     "iopub.status.idle": "2022-01-14T00:27:15.055904Z",
     "shell.execute_reply": "2022-01-14T00:27:15.055436Z"
    },
    "papermill": {
     "duration": 0.038039,
     "end_time": "2022-01-14T00:27:15.056028",
     "exception": false,
     "start_time": "2022-01-14T00:27:15.017989",
     "status": "completed"
    },
    "tags": []
   },
   "outputs": [],
   "source": [
    "#hide\n",
    "# g = g.rename(columns= {'continent':'group','country':'name','cases':'value'})"
   ]
  },
  {
   "cell_type": "code",
   "execution_count": 36,
   "id": "fleet-motorcycle",
   "metadata": {
    "execution": {
     "iopub.execute_input": "2022-01-14T00:27:15.121683Z",
     "iopub.status.busy": "2022-01-14T00:27:15.121083Z",
     "iopub.status.idle": "2022-01-14T00:27:15.123295Z",
     "shell.execute_reply": "2022-01-14T00:27:15.122823Z"
    },
    "papermill": {
     "duration": 0.0363,
     "end_time": "2022-01-14T00:27:15.123417",
     "exception": false,
     "start_time": "2022-01-14T00:27:15.087117",
     "status": "completed"
    },
    "tags": []
   },
   "outputs": [],
   "source": [
    "#hide\n",
    "# cols = ['name','group','day','value']"
   ]
  },
  {
   "cell_type": "code",
   "execution_count": 37,
   "id": "continued-sleeping",
   "metadata": {
    "execution": {
     "iopub.execute_input": "2022-01-14T00:27:15.188893Z",
     "iopub.status.busy": "2022-01-14T00:27:15.188308Z",
     "iopub.status.idle": "2022-01-14T00:27:15.190340Z",
     "shell.execute_reply": "2022-01-14T00:27:15.189913Z"
    },
    "papermill": {
     "duration": 0.035589,
     "end_time": "2022-01-14T00:27:15.190455",
     "exception": false,
     "start_time": "2022-01-14T00:27:15.154866",
     "status": "completed"
    },
    "tags": []
   },
   "outputs": [],
   "source": [
    "#hide\n",
    "# g.rename(columns= {'date':'day'},inplace = True)"
   ]
  },
  {
   "cell_type": "code",
   "execution_count": 38,
   "id": "major-fight",
   "metadata": {
    "execution": {
     "iopub.execute_input": "2022-01-14T00:27:15.255438Z",
     "iopub.status.busy": "2022-01-14T00:27:15.254906Z",
     "iopub.status.idle": "2022-01-14T00:27:15.256637Z",
     "shell.execute_reply": "2022-01-14T00:27:15.257042Z"
    },
    "papermill": {
     "duration": 0.036016,
     "end_time": "2022-01-14T00:27:15.257163",
     "exception": false,
     "start_time": "2022-01-14T00:27:15.221147",
     "status": "completed"
    },
    "tags": []
   },
   "outputs": [],
   "source": [
    "#hide\n",
    "# g = g[cols]"
   ]
  },
  {
   "cell_type": "code",
   "execution_count": 39,
   "id": "structured-mobile",
   "metadata": {
    "execution": {
     "iopub.execute_input": "2022-01-14T00:27:15.321525Z",
     "iopub.status.busy": "2022-01-14T00:27:15.320944Z",
     "iopub.status.idle": "2022-01-14T00:27:15.325090Z",
     "shell.execute_reply": "2022-01-14T00:27:15.324659Z"
    },
    "papermill": {
     "duration": 0.037599,
     "end_time": "2022-01-14T00:27:15.325195",
     "exception": false,
     "start_time": "2022-01-14T00:27:15.287596",
     "status": "completed"
    },
    "tags": []
   },
   "outputs": [],
   "source": [
    "# #hide\n",
    "# g = g[g.group.notna()]"
   ]
  },
  {
   "cell_type": "code",
   "execution_count": 40,
   "id": "determined-closing",
   "metadata": {
    "execution": {
     "iopub.execute_input": "2022-01-14T00:27:15.390246Z",
     "iopub.status.busy": "2022-01-14T00:27:15.389641Z",
     "iopub.status.idle": "2022-01-14T00:27:15.391830Z",
     "shell.execute_reply": "2022-01-14T00:27:15.391339Z"
    },
    "papermill": {
     "duration": 0.035837,
     "end_time": "2022-01-14T00:27:15.391944",
     "exception": false,
     "start_time": "2022-01-14T00:27:15.356107",
     "status": "completed"
    },
    "tags": []
   },
   "outputs": [],
   "source": [
    "# #hide\n",
    "# colors = dict(zip(\n",
    "#     [\"Oceania\", \"Europe\", \"Asia\", \"South America\", \"Middle East\", \"North America\", \"Africa\"],\n",
    "#     [\"#adb0ff\", \"#ffb3ff\", \"#90d595\", \"#e48381\", \"#aafbff\", \"#f7bb5f\", \"#eafb50\"]\n",
    "# ))\n",
    "# group_lk = g.set_index('name')['group'].to_dict()"
   ]
  },
  {
   "cell_type": "code",
   "execution_count": null,
   "id": "gross-drinking",
   "metadata": {
    "papermill": {
     "duration": 0.030423,
     "end_time": "2022-01-14T00:27:15.452864",
     "exception": false,
     "start_time": "2022-01-14T00:27:15.422441",
     "status": "completed"
    },
    "tags": []
   },
   "outputs": [],
   "source": []
  },
  {
   "cell_type": "code",
   "execution_count": 41,
   "id": "subject-macintosh",
   "metadata": {
    "execution": {
     "iopub.execute_input": "2022-01-14T00:27:15.518691Z",
     "iopub.status.busy": "2022-01-14T00:27:15.518135Z",
     "iopub.status.idle": "2022-01-14T00:27:15.520279Z",
     "shell.execute_reply": "2022-01-14T00:27:15.520711Z"
    },
    "papermill": {
     "duration": 0.037173,
     "end_time": "2022-01-14T00:27:15.520837",
     "exception": false,
     "start_time": "2022-01-14T00:27:15.483664",
     "status": "completed"
    },
    "tags": []
   },
   "outputs": [],
   "source": [
    "# #hide\n",
    "# fig, ax = plt.subplots(figsize=(15, 8))\n",
    "\n",
    "# def draw_barchart(current_day):\n",
    "#     dff = g[g['day'].eq(current_day)].sort_values(by='value', ascending=True).tail(10)\n",
    "#     ax.clear()\n",
    "#     ax.barh(dff['name'], dff['value'], color=[colors[group_lk[x]] for x in dff['name']])\n",
    "#     dx = dff['value'].max() / 200\n",
    "    \n",
    "#     for i, (value, name) in enumerate(zip(dff['value'], dff['name'])):\n",
    "#         ax.text(value-dx, i,     name,           size=14, weight=600, ha='right', va='bottom')\n",
    "#         ax.text(value-dx, i-.25, group_lk[name], size=10, color='#444444', ha='right', va='baseline')\n",
    "#         ax.text(value+dx, i,     f'{value:,.0f}',  size=14, ha='left',  va='center')\n",
    "#     ax.text(1, 0.4, current_day, transform=ax.transAxes, color='#777777', size=46, ha='right', weight=800)\n",
    "#     ax.text(0, 1.06, 'Population (thousands)', transform=ax.transAxes, size=12, color='#777777')\n",
    "#     ax.xaxis.set_major_formatter(ticker.StrMethodFormatter('{x:,.0f}'))\n",
    "#     ax.xaxis.set_ticks_position('top')\n",
    "#     ax.tick_params(axis='x', colors='#777777', labelsize=12)\n",
    "#     ax.set_yticks([])\n",
    "#     ax.margins(0, 0.01)\n",
    "#     ax.grid(which='major', axis='x', linestyle='-')\n",
    "#     ax.set_axisbelow(True)\n",
    "    \n",
    "#     ax.text(0, 1.15, 'Coronavirus',\n",
    "#             transform=ax.transAxes, size=24, weight=600, ha='left', va='top')\n",
    "# #     ax.text(1, 0, 'by @pratapvardhan; credit @jburnmurdoch', transform=ax.transAxes, color='#777777', ha='right',\n",
    "# #             bbox=dict(facecolor='white', alpha=0.8, edgecolor='white'))\n",
    "#     plt.box(False)"
   ]
  },
  {
   "cell_type": "code",
   "execution_count": 42,
   "id": "sexual-wages",
   "metadata": {
    "execution": {
     "iopub.execute_input": "2022-01-14T00:27:15.585862Z",
     "iopub.status.busy": "2022-01-14T00:27:15.585310Z",
     "iopub.status.idle": "2022-01-14T00:27:15.588910Z",
     "shell.execute_reply": "2022-01-14T00:27:15.588498Z"
    },
    "papermill": {
     "duration": 0.037545,
     "end_time": "2022-01-14T00:27:15.589022",
     "exception": false,
     "start_time": "2022-01-14T00:27:15.551477",
     "status": "completed"
    },
    "tags": []
   },
   "outputs": [],
   "source": [
    "# #hide_input\n",
    "# fig, ax = plt.subplots(figsize=(15, 8))\n",
    "# animator = animation.FuncAnimation(fig, draw_barchart, frames=range(g.day.values.min(), g.day.values.max()))\n",
    "# HTML(animator.to_jshtml())\n",
    "# # or use animator.to_html5_video() or animator.save() "
   ]
  },
  {
   "cell_type": "code",
   "execution_count": null,
   "id": "australian-container",
   "metadata": {
    "papermill": {
     "duration": 0.031183,
     "end_time": "2022-01-14T00:27:15.650937",
     "exception": false,
     "start_time": "2022-01-14T00:27:15.619754",
     "status": "completed"
    },
    "tags": []
   },
   "outputs": [],
   "source": []
  },
  {
   "cell_type": "code",
   "execution_count": null,
   "id": "mediterranean-pontiac",
   "metadata": {
    "papermill": {
     "duration": 0.030685,
     "end_time": "2022-01-14T00:27:15.712473",
     "exception": false,
     "start_time": "2022-01-14T00:27:15.681788",
     "status": "completed"
    },
    "tags": []
   },
   "outputs": [],
   "source": []
  },
  {
   "cell_type": "code",
   "execution_count": null,
   "id": "aging-legislature",
   "metadata": {
    "papermill": {
     "duration": 0.030732,
     "end_time": "2022-01-14T00:27:15.774167",
     "exception": false,
     "start_time": "2022-01-14T00:27:15.743435",
     "status": "completed"
    },
    "tags": []
   },
   "outputs": [],
   "source": []
  }
 ],
 "metadata": {
  "kernelspec": {
   "display_name": "Python 3",
   "language": "python",
   "name": "python3"
  },
  "language_info": {
   "codemirror_mode": {
    "name": "ipython",
    "version": 3
   },
   "file_extension": ".py",
   "mimetype": "text/x-python",
   "name": "python",
   "nbconvert_exporter": "python",
   "pygments_lexer": "ipython3",
   "version": "3.6.15"
  },
  "papermill": {
   "duration": 5.773949,
   "end_time": "2022-01-14T00:27:16.115189",
   "environment_variables": {},
   "exception": null,
   "input_path": "2020-03-21-covid19exp.ipynb",
   "output_path": "2020-03-21-covid19exp.ipynb",
   "parameters": {},
   "start_time": "2022-01-14T00:27:10.341240",
   "version": "2.0.0"
  }
 },
 "nbformat": 4,
 "nbformat_minor": 5
}