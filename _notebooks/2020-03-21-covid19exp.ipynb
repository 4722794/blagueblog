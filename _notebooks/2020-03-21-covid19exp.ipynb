{
 "cells": [
  {
   "cell_type": "markdown",
   "id": "muslim-click",
   "metadata": {
    "papermill": {
     "duration": 0.038642,
     "end_time": "2021-01-29T00:15:20.970365",
     "exception": false,
     "start_time": "2021-01-29T00:15:20.931723",
     "status": "completed"
    },
    "tags": []
   },
   "source": [
    "# COVID-19 Case Race\n",
    "> A race chart to see rising cases around the world\n",
    "\n",
    "- author: Hargun Oberoi\n",
    "- image: images/covid-overview.png\n",
    "- hide: false\n",
    "- badges: false"
   ]
  },
  {
   "cell_type": "code",
   "execution_count": 1,
   "id": "proof-material",
   "metadata": {
    "execution": {
     "iopub.execute_input": "2021-01-29T00:15:21.052497Z",
     "iopub.status.busy": "2021-01-29T00:15:21.051891Z",
     "iopub.status.idle": "2021-01-29T00:15:21.393325Z",
     "shell.execute_reply": "2021-01-29T00:15:21.392777Z"
    },
    "papermill": {
     "duration": 0.387984,
     "end_time": "2021-01-29T00:15:21.393490",
     "exception": false,
     "start_time": "2021-01-29T00:15:21.005506",
     "status": "completed"
    },
    "tags": []
   },
   "outputs": [],
   "source": [
    "#hide\n",
    "import numpy as np\n",
    "import pandas as pd\n",
    "from jinja2 import Template\n",
    "from IPython.display import HTML"
   ]
  },
  {
   "cell_type": "code",
   "execution_count": 2,
   "id": "developed-terminology",
   "metadata": {
    "execution": {
     "iopub.execute_input": "2021-01-29T00:15:21.471302Z",
     "iopub.status.busy": "2021-01-29T00:15:21.470546Z",
     "iopub.status.idle": "2021-01-29T00:15:21.472872Z",
     "shell.execute_reply": "2021-01-29T00:15:21.472289Z"
    },
    "papermill": {
     "duration": 0.043585,
     "end_time": "2021-01-29T00:15:21.472991",
     "exception": false,
     "start_time": "2021-01-29T00:15:21.429406",
     "status": "completed"
    },
    "tags": []
   },
   "outputs": [],
   "source": [
    "#hide\n",
    "\n",
    "# FETCH\n",
    "base_url = 'https://raw.githubusercontent.com/pratapvardhan/notebooks/master/covid19/'\n",
    "paths = {\n",
    "    'mapping': base_url + 'mapping_countries.csv',\n",
    "    'overview': base_url + 'overview.tpl'\n",
    "}"
   ]
  },
  {
   "cell_type": "code",
   "execution_count": 3,
   "id": "dynamic-saver",
   "metadata": {
    "execution": {
     "iopub.execute_input": "2021-01-29T00:15:21.554602Z",
     "iopub.status.busy": "2021-01-29T00:15:21.553966Z",
     "iopub.status.idle": "2021-01-29T00:15:21.557342Z",
     "shell.execute_reply": "2021-01-29T00:15:21.556827Z"
    },
    "papermill": {
     "duration": 0.048714,
     "end_time": "2021-01-29T00:15:21.557475",
     "exception": false,
     "start_time": "2021-01-29T00:15:21.508761",
     "status": "completed"
    },
    "tags": []
   },
   "outputs": [
    {
     "data": {
      "text/plain": [
       "'https://raw.githubusercontent.com/pratapvardhan/notebooks/master/covid19/mapping_countries.csv'"
      ]
     },
     "execution_count": 3,
     "metadata": {},
     "output_type": "execute_result"
    }
   ],
   "source": [
    "#hide\n",
    "paths['mapping']"
   ]
  },
  {
   "cell_type": "code",
   "execution_count": 4,
   "id": "urban-software",
   "metadata": {
    "execution": {
     "iopub.execute_input": "2021-01-29T00:15:21.635406Z",
     "iopub.status.busy": "2021-01-29T00:15:21.634722Z",
     "iopub.status.idle": "2021-01-29T00:15:21.636562Z",
     "shell.execute_reply": "2021-01-29T00:15:21.637078Z"
    },
    "papermill": {
     "duration": 0.043939,
     "end_time": "2021-01-29T00:15:21.637238",
     "exception": false,
     "start_time": "2021-01-29T00:15:21.593299",
     "status": "completed"
    },
    "tags": []
   },
   "outputs": [],
   "source": [
    "#hide\n",
    "def get_mappings(url):\n",
    "    df = pd.read_csv(url)\n",
    "    return {\n",
    "        'df': df,\n",
    "        'replace.country': dict(df.dropna(subset=['Name']).set_index('Country')['Name']),\n",
    "        'map.continent': dict(df.set_index('Name')['Continent'])\n",
    "    }"
   ]
  },
  {
   "cell_type": "code",
   "execution_count": 5,
   "id": "intimate-machinery",
   "metadata": {
    "execution": {
     "iopub.execute_input": "2021-01-29T00:15:21.712404Z",
     "iopub.status.busy": "2021-01-29T00:15:21.711791Z",
     "iopub.status.idle": "2021-01-29T00:15:21.749748Z",
     "shell.execute_reply": "2021-01-29T00:15:21.750433Z"
    },
    "papermill": {
     "duration": 0.077896,
     "end_time": "2021-01-29T00:15:21.750578",
     "exception": false,
     "start_time": "2021-01-29T00:15:21.672682",
     "status": "completed"
    },
    "tags": []
   },
   "outputs": [],
   "source": [
    "#hide\n",
    "mapping = get_mappings(paths['mapping'])"
   ]
  },
  {
   "cell_type": "code",
   "execution_count": 6,
   "id": "certified-tactics",
   "metadata": {
    "execution": {
     "iopub.execute_input": "2021-01-29T00:15:21.826816Z",
     "iopub.status.busy": "2021-01-29T00:15:21.826189Z",
     "iopub.status.idle": "2021-01-29T00:15:21.828545Z",
     "shell.execute_reply": "2021-01-29T00:15:21.829042Z"
    },
    "papermill": {
     "duration": 0.04299,
     "end_time": "2021-01-29T00:15:21.829190",
     "exception": false,
     "start_time": "2021-01-29T00:15:21.786200",
     "status": "completed"
    },
    "tags": []
   },
   "outputs": [],
   "source": [
    "#hide\n",
    "def get_template(path):\n",
    "    from urllib.parse import urlparse\n",
    "    if bool(urlparse(path).netloc):\n",
    "        from urllib.request import urlopen\n",
    "        return urlopen(path).read().decode('utf8')\n",
    "    return open(path).read()"
   ]
  },
  {
   "cell_type": "code",
   "execution_count": 7,
   "id": "realistic-blast",
   "metadata": {
    "execution": {
     "iopub.execute_input": "2021-01-29T00:15:21.906180Z",
     "iopub.status.busy": "2021-01-29T00:15:21.905542Z",
     "iopub.status.idle": "2021-01-29T00:15:21.908391Z",
     "shell.execute_reply": "2021-01-29T00:15:21.907723Z"
    },
    "papermill": {
     "duration": 0.043256,
     "end_time": "2021-01-29T00:15:21.908553",
     "exception": false,
     "start_time": "2021-01-29T00:15:21.865297",
     "status": "completed"
    },
    "tags": []
   },
   "outputs": [],
   "source": [
    "#hide\n",
    "def get_frame(name):\n",
    "    url = (\n",
    "        'https://raw.githubusercontent.com/CSSEGISandData/COVID-19/master/csse_covid_19_data/'\n",
    "        f'csse_covid_19_time_series/time_series_covid19_{name}_global.csv')\n",
    "    df = pd.read_csv(url)\n",
    "    # rename countries\n",
    "    df['Country/Region'] = df['Country/Region'].replace(mapping['replace.country'])\n",
    "    return df"
   ]
  },
  {
   "cell_type": "code",
   "execution_count": 8,
   "id": "affiliated-characterization",
   "metadata": {
    "execution": {
     "iopub.execute_input": "2021-01-29T00:15:21.986501Z",
     "iopub.status.busy": "2021-01-29T00:15:21.985536Z",
     "iopub.status.idle": "2021-01-29T00:15:21.988201Z",
     "shell.execute_reply": "2021-01-29T00:15:21.987608Z"
    },
    "papermill": {
     "duration": 0.044792,
     "end_time": "2021-01-29T00:15:21.988321",
     "exception": false,
     "start_time": "2021-01-29T00:15:21.943529",
     "status": "completed"
    },
    "tags": []
   },
   "outputs": [],
   "source": [
    "#hide\n",
    "def get_dates(df):\n",
    "    dt_cols = df.columns[~df.columns.isin(['Province/State', 'Country/Region', 'Lat', 'Long'])]\n",
    "    LAST_DATE_I = -1\n",
    "    # sometimes last column may be empty, then go backwards\n",
    "    for i in range(-1, -len(dt_cols), -1):\n",
    "        if not df[dt_cols[i]].fillna(0).eq(0).all():\n",
    "            LAST_DATE_I = i\n",
    "            break\n",
    "    return LAST_DATE_I, dt_cols"
   ]
  },
  {
   "cell_type": "code",
   "execution_count": 9,
   "id": "recent-optimization",
   "metadata": {
    "execution": {
     "iopub.execute_input": "2021-01-29T00:15:22.063219Z",
     "iopub.status.busy": "2021-01-29T00:15:22.062630Z",
     "iopub.status.idle": "2021-01-29T00:15:22.433548Z",
     "shell.execute_reply": "2021-01-29T00:15:22.432989Z"
    },
    "papermill": {
     "duration": 0.4103,
     "end_time": "2021-01-29T00:15:22.433695",
     "exception": false,
     "start_time": "2021-01-29T00:15:22.023395",
     "status": "completed"
    },
    "tags": []
   },
   "outputs": [],
   "source": [
    "#hide\n",
    "COL_REGION = 'Country/Region'\n",
    "# Confirmed, Recovered, Deaths\n",
    "df = get_frame('confirmed')\n",
    "# dft_: timeseries, dfc_: today country agg\n",
    "dft_cases = df\n",
    "dft_deaths = get_frame('deaths')\n",
    "dft_recovered = get_frame('recovered')\n",
    "LAST_DATE_I, dt_cols = get_dates(df)"
   ]
  },
  {
   "cell_type": "code",
   "execution_count": 10,
   "id": "absolute-copper",
   "metadata": {
    "execution": {
     "iopub.execute_input": "2021-01-29T00:15:22.513950Z",
     "iopub.status.busy": "2021-01-29T00:15:22.513284Z",
     "iopub.status.idle": "2021-01-29T00:15:22.515616Z",
     "shell.execute_reply": "2021-01-29T00:15:22.515024Z"
    },
    "papermill": {
     "duration": 0.044077,
     "end_time": "2021-01-29T00:15:22.515744",
     "exception": false,
     "start_time": "2021-01-29T00:15:22.471667",
     "status": "completed"
    },
    "tags": []
   },
   "outputs": [],
   "source": [
    "#hide\n",
    "LAST_DATE_I, dt_cols = get_dates(df)\n",
    "dt_today =dt_cols[LAST_DATE_I]\n",
    "# dt_5day = dt_cols[LAST_DATE_I - 5]\n",
    "dt_yday = dt_cols[LAST_DATE_I - 1]"
   ]
  },
  {
   "cell_type": "code",
   "execution_count": 11,
   "id": "restricted-sheriff",
   "metadata": {
    "execution": {
     "iopub.execute_input": "2021-01-29T00:15:22.590357Z",
     "iopub.status.busy": "2021-01-29T00:15:22.589718Z",
     "iopub.status.idle": "2021-01-29T00:15:22.600829Z",
     "shell.execute_reply": "2021-01-29T00:15:22.601391Z"
    },
    "papermill": {
     "duration": 0.05037,
     "end_time": "2021-01-29T00:15:22.601522",
     "exception": false,
     "start_time": "2021-01-29T00:15:22.551152",
     "status": "completed"
    },
    "tags": []
   },
   "outputs": [],
   "source": [
    "#hide\n",
    "dfc_cases = dft_cases.groupby(COL_REGION)[dt_today].sum()\n",
    "dfc_deaths = dft_deaths.groupby(COL_REGION)[dt_today].sum()\n",
    "# dfp_cases = dft_cases.groupby(COL_REGION)[dt_5day].sum()\n",
    "# dfp_deaths = dft_deaths.groupby(COL_REGION)[dt_5day].sum()\n",
    "dfp_cases = dft_cases.groupby(COL_REGION)[dt_yday].sum()\n",
    "dfp_deaths = dft_deaths.groupby(COL_REGION)[dt_yday].sum()"
   ]
  },
  {
   "cell_type": "code",
   "execution_count": 12,
   "id": "deluxe-hepatitis",
   "metadata": {
    "execution": {
     "iopub.execute_input": "2021-01-29T00:15:22.679114Z",
     "iopub.status.busy": "2021-01-29T00:15:22.678393Z",
     "iopub.status.idle": "2021-01-29T00:15:22.683305Z",
     "shell.execute_reply": "2021-01-29T00:15:22.683867Z"
    },
    "papermill": {
     "duration": 0.046719,
     "end_time": "2021-01-29T00:15:22.684001",
     "exception": false,
     "start_time": "2021-01-29T00:15:22.637282",
     "status": "completed"
    },
    "tags": []
   },
   "outputs": [],
   "source": [
    "#hide\n",
    "df_table = (pd.DataFrame(dict(Cases = dfc_cases, Deaths = dfc_deaths, PCases = dfp_cases, PDeaths = dfp_deaths))\n",
    "            .sort_values(by = ['Cases','Deaths'], ascending = [False, False])\n",
    "            .reset_index())"
   ]
  },
  {
   "cell_type": "code",
   "execution_count": 13,
   "id": "educational-chancellor",
   "metadata": {
    "execution": {
     "iopub.execute_input": "2021-01-29T00:15:22.767336Z",
     "iopub.status.busy": "2021-01-29T00:15:22.766502Z",
     "iopub.status.idle": "2021-01-29T00:15:22.784485Z",
     "shell.execute_reply": "2021-01-29T00:15:22.783790Z"
    },
    "papermill": {
     "duration": 0.065891,
     "end_time": "2021-01-29T00:15:22.784605",
     "exception": false,
     "start_time": "2021-01-29T00:15:22.718714",
     "status": "completed"
    },
    "tags": []
   },
   "outputs": [
    {
     "data": {
      "text/html": [
       "<div>\n",
       "<style scoped>\n",
       "    .dataframe tbody tr th:only-of-type {\n",
       "        vertical-align: middle;\n",
       "    }\n",
       "\n",
       "    .dataframe tbody tr th {\n",
       "        vertical-align: top;\n",
       "    }\n",
       "\n",
       "    .dataframe thead th {\n",
       "        text-align: right;\n",
       "    }\n",
       "</style>\n",
       "<table border=\"1\" class=\"dataframe\">\n",
       "  <thead>\n",
       "    <tr style=\"text-align: right;\">\n",
       "      <th></th>\n",
       "      <th>Country/Region</th>\n",
       "      <th>Cases</th>\n",
       "      <th>Deaths</th>\n",
       "      <th>PCases</th>\n",
       "      <th>PDeaths</th>\n",
       "      <th>Cases (+)</th>\n",
       "      <th>Deaths (+)</th>\n",
       "      <th>Fatality Rate</th>\n",
       "      <th>Continent</th>\n",
       "    </tr>\n",
       "  </thead>\n",
       "  <tbody>\n",
       "    <tr>\n",
       "      <th>0</th>\n",
       "      <td>US</td>\n",
       "      <td>25598061</td>\n",
       "      <td>429195</td>\n",
       "      <td>25445583</td>\n",
       "      <td>425252</td>\n",
       "      <td>152478</td>\n",
       "      <td>3943</td>\n",
       "      <td>1.68</td>\n",
       "      <td>North America</td>\n",
       "    </tr>\n",
       "    <tr>\n",
       "      <th>1</th>\n",
       "      <td>India</td>\n",
       "      <td>10701193</td>\n",
       "      <td>153847</td>\n",
       "      <td>10689527</td>\n",
       "      <td>153724</td>\n",
       "      <td>11666</td>\n",
       "      <td>123</td>\n",
       "      <td>1.44</td>\n",
       "      <td>Asia</td>\n",
       "    </tr>\n",
       "    <tr>\n",
       "      <th>2</th>\n",
       "      <td>Brazil</td>\n",
       "      <td>8996876</td>\n",
       "      <td>220161</td>\n",
       "      <td>8933356</td>\n",
       "      <td>218878</td>\n",
       "      <td>63520</td>\n",
       "      <td>1283</td>\n",
       "      <td>2.45</td>\n",
       "      <td>South America</td>\n",
       "    </tr>\n",
       "    <tr>\n",
       "      <th>3</th>\n",
       "      <td>Russia</td>\n",
       "      <td>3733692</td>\n",
       "      <td>69971</td>\n",
       "      <td>3716228</td>\n",
       "      <td>69391</td>\n",
       "      <td>17464</td>\n",
       "      <td>580</td>\n",
       "      <td>1.87</td>\n",
       "      <td>Europe</td>\n",
       "    </tr>\n",
       "    <tr>\n",
       "      <th>4</th>\n",
       "      <td>United Kingdom</td>\n",
       "      <td>3725637</td>\n",
       "      <td>102085</td>\n",
       "      <td>3700268</td>\n",
       "      <td>100359</td>\n",
       "      <td>25369</td>\n",
       "      <td>1726</td>\n",
       "      <td>2.74</td>\n",
       "      <td>Europe</td>\n",
       "    </tr>\n",
       "  </tbody>\n",
       "</table>\n",
       "</div>"
      ],
      "text/plain": [
       "   Country/Region     Cases  Deaths    PCases  PDeaths  Cases (+)  Deaths (+)  \\\n",
       "0              US  25598061  429195  25445583   425252     152478        3943   \n",
       "1           India  10701193  153847  10689527   153724      11666         123   \n",
       "2          Brazil   8996876  220161   8933356   218878      63520        1283   \n",
       "3          Russia   3733692   69971   3716228    69391      17464         580   \n",
       "4  United Kingdom   3725637  102085   3700268   100359      25369        1726   \n",
       "\n",
       "   Fatality Rate      Continent  \n",
       "0           1.68  North America  \n",
       "1           1.44           Asia  \n",
       "2           2.45  South America  \n",
       "3           1.87         Europe  \n",
       "4           2.74         Europe  "
      ]
     },
     "execution_count": 13,
     "metadata": {},
     "output_type": "execute_result"
    }
   ],
   "source": [
    "#hide\n",
    "for c in 'Cases, Deaths'.split(', '):\n",
    "    df_table[f'{c} (+)'] = (df_table[c] - df_table[f'P{c}']).clip(0)\n",
    "    #Clip ça veut dire, les chiffres negatif sont interdit\n",
    "df_table['Fatality Rate'] = (100* df_table['Deaths']/ df_table['Cases']).round(2)\n",
    "df_table['Continent'] = df_table['Country/Region'].map(mapping['map.continent'])\n",
    "df_table.head(5)"
   ]
  },
  {
   "cell_type": "code",
   "execution_count": 14,
   "id": "aboriginal-bulgaria",
   "metadata": {
    "execution": {
     "iopub.execute_input": "2021-01-29T00:15:22.865382Z",
     "iopub.status.busy": "2021-01-29T00:15:22.864479Z",
     "iopub.status.idle": "2021-01-29T00:15:22.866896Z",
     "shell.execute_reply": "2021-01-29T00:15:22.867388Z"
    },
    "papermill": {
     "duration": 0.047618,
     "end_time": "2021-01-29T00:15:22.867528",
     "exception": false,
     "start_time": "2021-01-29T00:15:22.819910",
     "status": "completed"
    },
    "tags": []
   },
   "outputs": [],
   "source": [
    "#hide\n",
    "#delete problematic countries from table\n",
    "df_table = df_table[~df_table['Country/Region'].isin(['Cape Verde', 'Cruise Ship', 'Kosovo'])]"
   ]
  },
  {
   "cell_type": "code",
   "execution_count": 15,
   "id": "fantastic-effect",
   "metadata": {
    "execution": {
     "iopub.execute_input": "2021-01-29T00:15:22.950686Z",
     "iopub.status.busy": "2021-01-29T00:15:22.949949Z",
     "iopub.status.idle": "2021-01-29T00:15:22.971491Z",
     "shell.execute_reply": "2021-01-29T00:15:22.970971Z"
    },
    "papermill": {
     "duration": 0.067463,
     "end_time": "2021-01-29T00:15:22.971616",
     "exception": false,
     "start_time": "2021-01-29T00:15:22.904153",
     "status": "completed"
    },
    "tags": []
   },
   "outputs": [
    {
     "data": {
      "text/html": [
       "<div>\n",
       "<style scoped>\n",
       "    .dataframe tbody tr th:only-of-type {\n",
       "        vertical-align: middle;\n",
       "    }\n",
       "\n",
       "    .dataframe tbody tr th {\n",
       "        vertical-align: top;\n",
       "    }\n",
       "\n",
       "    .dataframe thead th {\n",
       "        text-align: right;\n",
       "    }\n",
       "</style>\n",
       "<table border=\"1\" class=\"dataframe\">\n",
       "  <thead>\n",
       "    <tr style=\"text-align: right;\">\n",
       "      <th></th>\n",
       "      <th>Country/Region</th>\n",
       "      <th>Cases</th>\n",
       "      <th>Deaths</th>\n",
       "      <th>PCases</th>\n",
       "      <th>PDeaths</th>\n",
       "      <th>Cases (+)</th>\n",
       "      <th>Deaths (+)</th>\n",
       "      <th>Fatality Rate</th>\n",
       "      <th>Continent</th>\n",
       "    </tr>\n",
       "  </thead>\n",
       "  <tbody>\n",
       "    <tr>\n",
       "      <th>0</th>\n",
       "      <td>US</td>\n",
       "      <td>25598061</td>\n",
       "      <td>429195</td>\n",
       "      <td>25445583</td>\n",
       "      <td>425252</td>\n",
       "      <td>152478</td>\n",
       "      <td>3943</td>\n",
       "      <td>1.7</td>\n",
       "      <td>North America</td>\n",
       "    </tr>\n",
       "    <tr>\n",
       "      <th>1</th>\n",
       "      <td>India</td>\n",
       "      <td>10701193</td>\n",
       "      <td>153847</td>\n",
       "      <td>10689527</td>\n",
       "      <td>153724</td>\n",
       "      <td>11666</td>\n",
       "      <td>123</td>\n",
       "      <td>1.4</td>\n",
       "      <td>Asia</td>\n",
       "    </tr>\n",
       "    <tr>\n",
       "      <th>2</th>\n",
       "      <td>Brazil</td>\n",
       "      <td>8996876</td>\n",
       "      <td>220161</td>\n",
       "      <td>8933356</td>\n",
       "      <td>218878</td>\n",
       "      <td>63520</td>\n",
       "      <td>1283</td>\n",
       "      <td>2.4</td>\n",
       "      <td>South America</td>\n",
       "    </tr>\n",
       "    <tr>\n",
       "      <th>3</th>\n",
       "      <td>Russia</td>\n",
       "      <td>3733692</td>\n",
       "      <td>69971</td>\n",
       "      <td>3716228</td>\n",
       "      <td>69391</td>\n",
       "      <td>17464</td>\n",
       "      <td>580</td>\n",
       "      <td>1.9</td>\n",
       "      <td>Europe</td>\n",
       "    </tr>\n",
       "    <tr>\n",
       "      <th>4</th>\n",
       "      <td>United Kingdom</td>\n",
       "      <td>3725637</td>\n",
       "      <td>102085</td>\n",
       "      <td>3700268</td>\n",
       "      <td>100359</td>\n",
       "      <td>25369</td>\n",
       "      <td>1726</td>\n",
       "      <td>2.7</td>\n",
       "      <td>Europe</td>\n",
       "    </tr>\n",
       "  </tbody>\n",
       "</table>\n",
       "</div>"
      ],
      "text/plain": [
       "   Country/Region     Cases  Deaths    PCases  PDeaths  Cases (+)  Deaths (+)  \\\n",
       "0              US  25598061  429195  25445583   425252     152478        3943   \n",
       "1           India  10701193  153847  10689527   153724      11666         123   \n",
       "2          Brazil   8996876  220161   8933356   218878      63520        1283   \n",
       "3          Russia   3733692   69971   3716228    69391      17464         580   \n",
       "4  United Kingdom   3725637  102085   3700268   100359      25369        1726   \n",
       "\n",
       "   Fatality Rate      Continent  \n",
       "0            1.7  North America  \n",
       "1            1.4           Asia  \n",
       "2            2.4  South America  \n",
       "3            1.9         Europe  \n",
       "4            2.7         Europe  "
      ]
     },
     "execution_count": 15,
     "metadata": {},
     "output_type": "execute_result"
    }
   ],
   "source": [
    "#hide\n",
    "df_table = (pd.DataFrame(dict(Cases=dfc_cases, Deaths=dfc_deaths, PCases=dfp_cases, PDeaths=dfp_deaths))\n",
    "             .sort_values(by=['Cases', 'Deaths'], ascending=[False, False])\n",
    "             .reset_index())\n",
    "df_table.rename(columns={'index': 'Country/Region'}, inplace=True)\n",
    "for c in 'Cases, Deaths'.split(', '):\n",
    "    df_table[f'{c} (+)'] = (df_table[c] - df_table[f'P{c}']).clip(0)  # DATA BUG\n",
    "df_table['Fatality Rate'] = (100 * df_table['Deaths'] / df_table['Cases']).round(1)\n",
    "df_table['Continent'] = df_table['Country/Region'].map(mapping['map.continent'])\n",
    "df_table.head(5)"
   ]
  },
  {
   "cell_type": "code",
   "execution_count": 16,
   "id": "fewer-occasion",
   "metadata": {
    "execution": {
     "iopub.execute_input": "2021-01-29T00:15:23.049673Z",
     "iopub.status.busy": "2021-01-29T00:15:23.048955Z",
     "iopub.status.idle": "2021-01-29T00:15:23.051553Z",
     "shell.execute_reply": "2021-01-29T00:15:23.052101Z"
    },
    "papermill": {
     "duration": 0.044484,
     "end_time": "2021-01-29T00:15:23.052229",
     "exception": false,
     "start_time": "2021-01-29T00:15:23.007745",
     "status": "completed"
    },
    "tags": []
   },
   "outputs": [],
   "source": [
    "#hide\n",
    "#delete problematic countries from table\n",
    "df_table = df_table[~df_table['Country/Region'].isin(['Cape Verde', 'Cruise Ship', 'Kosovo'])]"
   ]
  },
  {
   "cell_type": "code",
   "execution_count": 17,
   "id": "related-center",
   "metadata": {
    "execution": {
     "iopub.execute_input": "2021-01-29T00:15:23.145813Z",
     "iopub.status.busy": "2021-01-29T00:15:23.145085Z",
     "iopub.status.idle": "2021-01-29T00:15:23.147992Z",
     "shell.execute_reply": "2021-01-29T00:15:23.147513Z"
    },
    "papermill": {
     "duration": 0.057618,
     "end_time": "2021-01-29T00:15:23.148126",
     "exception": false,
     "start_time": "2021-01-29T00:15:23.090508",
     "status": "completed"
    },
    "tags": []
   },
   "outputs": [],
   "source": [
    "#hide\n",
    "metrics = [df_table.columns[index] for index in [1,2,5,6]]\n",
    "# s_china = df_table[df_table['Country/Region'].eq('China')][metrics].sum().add_prefix('China ')\n",
    "s_us = df_table[df_table['Country/Region'].eq('US')][metrics].sum().add_prefix('US ')\n",
    "s_eu = df_table[df_table['Continent'].eq('Europe')][metrics].sum().add_prefix('EU ')\n",
    "s_ind = df_table[df_table['Country/Region'].eq('India')][metrics].sum().add_prefix('India ')\n",
    "summary = {'updated': pd.to_datetime(dt_today), 'since': pd.to_datetime(dt_yday)}\n",
    "summary = {'updated': pd.to_datetime(dt_today), 'since': pd.to_datetime(dt_yday)}\n",
    "summary = {**summary, **df_table[metrics].sum(), **s_ind, **s_us, **s_eu}"
   ]
  },
  {
   "cell_type": "code",
   "execution_count": 18,
   "id": "engaging-syndrome",
   "metadata": {
    "execution": {
     "iopub.execute_input": "2021-01-29T00:15:23.226806Z",
     "iopub.status.busy": "2021-01-29T00:15:23.226225Z",
     "iopub.status.idle": "2021-01-29T00:15:23.237711Z",
     "shell.execute_reply": "2021-01-29T00:15:23.238234Z"
    },
    "papermill": {
     "duration": 0.05317,
     "end_time": "2021-01-29T00:15:23.238361",
     "exception": false,
     "start_time": "2021-01-29T00:15:23.185191",
     "status": "completed"
    },
    "tags": []
   },
   "outputs": [],
   "source": [
    "#hide\n",
    "dft_ct_new_cases = dft_cases.groupby(COL_REGION)[dt_cols].sum().diff(axis=1).fillna(0).astype(int)"
   ]
  },
  {
   "cell_type": "code",
   "execution_count": 19,
   "id": "neutral-assignment",
   "metadata": {
    "execution": {
     "iopub.execute_input": "2021-01-29T00:15:23.317277Z",
     "iopub.status.busy": "2021-01-29T00:15:23.316659Z",
     "iopub.status.idle": "2021-01-29T00:15:23.319205Z",
     "shell.execute_reply": "2021-01-29T00:15:23.318566Z"
    },
    "papermill": {
     "duration": 0.044635,
     "end_time": "2021-01-29T00:15:23.319317",
     "exception": false,
     "start_time": "2021-01-29T00:15:23.274682",
     "status": "completed"
    },
    "tags": []
   },
   "outputs": [],
   "source": [
    "#hide\n",
    "everydaycases = dft_ct_new_cases.cumsum(axis=1)"
   ]
  },
  {
   "cell_type": "code",
   "execution_count": 20,
   "id": "parliamentary-calgary",
   "metadata": {
    "execution": {
     "iopub.execute_input": "2021-01-29T00:15:23.395365Z",
     "iopub.status.busy": "2021-01-29T00:15:23.394753Z",
     "iopub.status.idle": "2021-01-29T00:15:25.807015Z",
     "shell.execute_reply": "2021-01-29T00:15:25.806359Z"
    },
    "papermill": {
     "duration": 2.451851,
     "end_time": "2021-01-29T00:15:25.807154",
     "exception": false,
     "start_time": "2021-01-29T00:15:23.355303",
     "status": "completed"
    },
    "tags": []
   },
   "outputs": [],
   "source": [
    "#hide\n",
    "import pandas as pd\n",
    "import matplotlib.pyplot as plt\n",
    "import matplotlib.ticker as ticker\n",
    "import matplotlib.animation as animation\n",
    "from IPython.display import HTML"
   ]
  },
  {
   "cell_type": "code",
   "execution_count": 21,
   "id": "lasting-extraction",
   "metadata": {
    "execution": {
     "iopub.execute_input": "2021-01-29T00:15:25.886005Z",
     "iopub.status.busy": "2021-01-29T00:15:25.885423Z",
     "iopub.status.idle": "2021-01-29T00:15:25.890031Z",
     "shell.execute_reply": "2021-01-29T00:15:25.890537Z"
    },
    "papermill": {
     "duration": 0.046081,
     "end_time": "2021-01-29T00:15:25.890662",
     "exception": false,
     "start_time": "2021-01-29T00:15:25.844581",
     "status": "completed"
    },
    "tags": []
   },
   "outputs": [],
   "source": [
    "#hide\n",
    "t = everydaycases.stack()"
   ]
  },
  {
   "cell_type": "code",
   "execution_count": 22,
   "id": "premier-sleeve",
   "metadata": {
    "execution": {
     "iopub.execute_input": "2021-01-29T00:15:25.968559Z",
     "iopub.status.busy": "2021-01-29T00:15:25.967941Z",
     "iopub.status.idle": "2021-01-29T00:15:25.974991Z",
     "shell.execute_reply": "2021-01-29T00:15:25.975588Z"
    },
    "papermill": {
     "duration": 0.04887,
     "end_time": "2021-01-29T00:15:25.975722",
     "exception": false,
     "start_time": "2021-01-29T00:15:25.926852",
     "status": "completed"
    },
    "tags": []
   },
   "outputs": [],
   "source": [
    "#hide\n",
    "g = t.reset_index(['Country/Region'])"
   ]
  },
  {
   "cell_type": "code",
   "execution_count": 23,
   "id": "distributed-pittsburgh",
   "metadata": {
    "execution": {
     "iopub.execute_input": "2021-01-29T00:15:26.051661Z",
     "iopub.status.busy": "2021-01-29T00:15:26.051030Z",
     "iopub.status.idle": "2021-01-29T00:15:26.053247Z",
     "shell.execute_reply": "2021-01-29T00:15:26.053817Z"
    },
    "papermill": {
     "duration": 0.041635,
     "end_time": "2021-01-29T00:15:26.053944",
     "exception": false,
     "start_time": "2021-01-29T00:15:26.012309",
     "status": "completed"
    },
    "tags": []
   },
   "outputs": [],
   "source": [
    "#hide\n",
    "g.index.name = 'date'"
   ]
  },
  {
   "cell_type": "code",
   "execution_count": 24,
   "id": "naked-donor",
   "metadata": {
    "execution": {
     "iopub.execute_input": "2021-01-29T00:15:26.133000Z",
     "iopub.status.busy": "2021-01-29T00:15:26.132422Z",
     "iopub.status.idle": "2021-01-29T00:15:26.134792Z",
     "shell.execute_reply": "2021-01-29T00:15:26.135241Z"
    },
    "papermill": {
     "duration": 0.044143,
     "end_time": "2021-01-29T00:15:26.135373",
     "exception": false,
     "start_time": "2021-01-29T00:15:26.091230",
     "status": "completed"
    },
    "tags": []
   },
   "outputs": [],
   "source": [
    "# #hide\n",
    "# g = g.reset_index(['date'])"
   ]
  },
  {
   "cell_type": "code",
   "execution_count": 25,
   "id": "incomplete-mustang",
   "metadata": {
    "execution": {
     "iopub.execute_input": "2021-01-29T00:15:26.212639Z",
     "iopub.status.busy": "2021-01-29T00:15:26.212008Z",
     "iopub.status.idle": "2021-01-29T00:15:26.214510Z",
     "shell.execute_reply": "2021-01-29T00:15:26.213782Z"
    },
    "papermill": {
     "duration": 0.0423,
     "end_time": "2021-01-29T00:15:26.214696",
     "exception": false,
     "start_time": "2021-01-29T00:15:26.172396",
     "status": "completed"
    },
    "tags": []
   },
   "outputs": [],
   "source": [
    "#hide\n",
    "# g.head()"
   ]
  },
  {
   "cell_type": "code",
   "execution_count": 26,
   "id": "specific-kruger",
   "metadata": {
    "execution": {
     "iopub.execute_input": "2021-01-29T00:15:26.290055Z",
     "iopub.status.busy": "2021-01-29T00:15:26.289501Z",
     "iopub.status.idle": "2021-01-29T00:15:26.291604Z",
     "shell.execute_reply": "2021-01-29T00:15:26.292289Z"
    },
    "papermill": {
     "duration": 0.04054,
     "end_time": "2021-01-29T00:15:26.292482",
     "exception": false,
     "start_time": "2021-01-29T00:15:26.251942",
     "status": "completed"
    },
    "tags": []
   },
   "outputs": [],
   "source": [
    "#hide\n",
    "# g.columns = ['date','country','cases']"
   ]
  },
  {
   "cell_type": "code",
   "execution_count": 27,
   "id": "tender-conversion",
   "metadata": {
    "execution": {
     "iopub.execute_input": "2021-01-29T00:15:26.367279Z",
     "iopub.status.busy": "2021-01-29T00:15:26.366485Z",
     "iopub.status.idle": "2021-01-29T00:15:26.368986Z",
     "shell.execute_reply": "2021-01-29T00:15:26.368389Z"
    },
    "papermill": {
     "duration": 0.041794,
     "end_time": "2021-01-29T00:15:26.369095",
     "exception": false,
     "start_time": "2021-01-29T00:15:26.327301",
     "status": "completed"
    },
    "tags": []
   },
   "outputs": [],
   "source": [
    "#hide\n",
    "# g['continent'] = g.country"
   ]
  },
  {
   "cell_type": "code",
   "execution_count": 28,
   "id": "substantial-wilderness",
   "metadata": {
    "execution": {
     "iopub.execute_input": "2021-01-29T00:15:26.445866Z",
     "iopub.status.busy": "2021-01-29T00:15:26.445172Z",
     "iopub.status.idle": "2021-01-29T00:15:26.447467Z",
     "shell.execute_reply": "2021-01-29T00:15:26.446982Z"
    },
    "papermill": {
     "duration": 0.041649,
     "end_time": "2021-01-29T00:15:26.447641",
     "exception": false,
     "start_time": "2021-01-29T00:15:26.405992",
     "status": "completed"
    },
    "tags": []
   },
   "outputs": [],
   "source": [
    "#hide\n",
    "# cols = list(g.columns.values)"
   ]
  },
  {
   "cell_type": "code",
   "execution_count": 29,
   "id": "solved-farming",
   "metadata": {
    "execution": {
     "iopub.execute_input": "2021-01-29T00:15:26.524037Z",
     "iopub.status.busy": "2021-01-29T00:15:26.523441Z",
     "iopub.status.idle": "2021-01-29T00:15:26.525910Z",
     "shell.execute_reply": "2021-01-29T00:15:26.525307Z"
    },
    "papermill": {
     "duration": 0.041651,
     "end_time": "2021-01-29T00:15:26.526025",
     "exception": false,
     "start_time": "2021-01-29T00:15:26.484374",
     "status": "completed"
    },
    "tags": []
   },
   "outputs": [],
   "source": [
    "#hide\n",
    "# cols.insert(0, cols.pop())"
   ]
  },
  {
   "cell_type": "code",
   "execution_count": 30,
   "id": "executed-adoption",
   "metadata": {
    "execution": {
     "iopub.execute_input": "2021-01-29T00:15:26.600959Z",
     "iopub.status.busy": "2021-01-29T00:15:26.600324Z",
     "iopub.status.idle": "2021-01-29T00:15:26.603981Z",
     "shell.execute_reply": "2021-01-29T00:15:26.604426Z"
    },
    "papermill": {
     "duration": 0.04239,
     "end_time": "2021-01-29T00:15:26.604548",
     "exception": false,
     "start_time": "2021-01-29T00:15:26.562158",
     "status": "completed"
    },
    "tags": []
   },
   "outputs": [],
   "source": [
    "#hide\n",
    "# g = g[cols]"
   ]
  },
  {
   "cell_type": "code",
   "execution_count": 31,
   "id": "subject-dublin",
   "metadata": {
    "execution": {
     "iopub.execute_input": "2021-01-29T00:15:26.977492Z",
     "iopub.status.busy": "2021-01-29T00:15:26.976012Z",
     "iopub.status.idle": "2021-01-29T00:15:26.978187Z",
     "shell.execute_reply": "2021-01-29T00:15:26.978737Z"
    },
    "papermill": {
     "duration": 0.337835,
     "end_time": "2021-01-29T00:15:26.978885",
     "exception": false,
     "start_time": "2021-01-29T00:15:26.641050",
     "status": "completed"
    },
    "tags": []
   },
   "outputs": [],
   "source": [
    "#hide\n",
    "# g['continent'] = g['continent'].map(mapping['map.continent'])"
   ]
  },
  {
   "cell_type": "code",
   "execution_count": 32,
   "id": "freelance-scout",
   "metadata": {
    "execution": {
     "iopub.execute_input": "2021-01-29T00:15:27.059158Z",
     "iopub.status.busy": "2021-01-29T00:15:27.058588Z",
     "iopub.status.idle": "2021-01-29T00:15:27.060854Z",
     "shell.execute_reply": "2021-01-29T00:15:27.060371Z"
    },
    "papermill": {
     "duration": 0.041597,
     "end_time": "2021-01-29T00:15:27.060971",
     "exception": false,
     "start_time": "2021-01-29T00:15:27.019374",
     "status": "completed"
    },
    "tags": []
   },
   "outputs": [],
   "source": [
    "#hide\n",
    "# g.head()"
   ]
  },
  {
   "cell_type": "code",
   "execution_count": 33,
   "id": "limited-engine",
   "metadata": {
    "execution": {
     "iopub.execute_input": "2021-01-29T00:15:27.145732Z",
     "iopub.status.busy": "2021-01-29T00:15:27.144939Z",
     "iopub.status.idle": "2021-01-29T00:15:27.147432Z",
     "shell.execute_reply": "2021-01-29T00:15:27.146785Z"
    },
    "papermill": {
     "duration": 0.045569,
     "end_time": "2021-01-29T00:15:27.147561",
     "exception": false,
     "start_time": "2021-01-29T00:15:27.101992",
     "status": "completed"
    },
    "tags": []
   },
   "outputs": [],
   "source": [
    "# hide\n",
    "# g['date'] = g['date'].astype('datetime64[ns]')"
   ]
  },
  {
   "cell_type": "code",
   "execution_count": 34,
   "id": "sophisticated-supervisor",
   "metadata": {
    "execution": {
     "iopub.execute_input": "2021-01-29T00:15:27.224065Z",
     "iopub.status.busy": "2021-01-29T00:15:27.223475Z",
     "iopub.status.idle": "2021-01-29T00:15:27.225729Z",
     "shell.execute_reply": "2021-01-29T00:15:27.225230Z"
    },
    "papermill": {
     "duration": 0.041533,
     "end_time": "2021-01-29T00:15:27.225841",
     "exception": false,
     "start_time": "2021-01-29T00:15:27.184308",
     "status": "completed"
    },
    "tags": []
   },
   "outputs": [],
   "source": [
    "#hide\n",
    "# g['date'] = g.date.dt.dayofyear"
   ]
  },
  {
   "cell_type": "code",
   "execution_count": 35,
   "id": "inside-dubai",
   "metadata": {
    "execution": {
     "iopub.execute_input": "2021-01-29T00:15:27.300185Z",
     "iopub.status.busy": "2021-01-29T00:15:27.299523Z",
     "iopub.status.idle": "2021-01-29T00:15:27.302235Z",
     "shell.execute_reply": "2021-01-29T00:15:27.301683Z"
    },
    "papermill": {
     "duration": 0.041489,
     "end_time": "2021-01-29T00:15:27.302346",
     "exception": false,
     "start_time": "2021-01-29T00:15:27.260857",
     "status": "completed"
    },
    "tags": []
   },
   "outputs": [],
   "source": [
    "#hide\n",
    "# g = g.rename(columns= {'continent':'group','country':'name','cases':'value'})"
   ]
  },
  {
   "cell_type": "code",
   "execution_count": 36,
   "id": "fleet-motorcycle",
   "metadata": {
    "execution": {
     "iopub.execute_input": "2021-01-29T00:15:27.378448Z",
     "iopub.status.busy": "2021-01-29T00:15:27.377419Z",
     "iopub.status.idle": "2021-01-29T00:15:27.379782Z",
     "shell.execute_reply": "2021-01-29T00:15:27.380231Z"
    },
    "papermill": {
     "duration": 0.041231,
     "end_time": "2021-01-29T00:15:27.380360",
     "exception": false,
     "start_time": "2021-01-29T00:15:27.339129",
     "status": "completed"
    },
    "tags": []
   },
   "outputs": [],
   "source": [
    "#hide\n",
    "# cols = ['name','group','day','value']"
   ]
  },
  {
   "cell_type": "code",
   "execution_count": 37,
   "id": "continued-sleeping",
   "metadata": {
    "execution": {
     "iopub.execute_input": "2021-01-29T00:15:27.453647Z",
     "iopub.status.busy": "2021-01-29T00:15:27.452985Z",
     "iopub.status.idle": "2021-01-29T00:15:27.455551Z",
     "shell.execute_reply": "2021-01-29T00:15:27.455082Z"
    },
    "papermill": {
     "duration": 0.04085,
     "end_time": "2021-01-29T00:15:27.455677",
     "exception": false,
     "start_time": "2021-01-29T00:15:27.414827",
     "status": "completed"
    },
    "tags": []
   },
   "outputs": [],
   "source": [
    "#hide\n",
    "# g.rename(columns= {'date':'day'},inplace = True)"
   ]
  },
  {
   "cell_type": "code",
   "execution_count": 38,
   "id": "major-fight",
   "metadata": {
    "execution": {
     "iopub.execute_input": "2021-01-29T00:15:27.531262Z",
     "iopub.status.busy": "2021-01-29T00:15:27.530694Z",
     "iopub.status.idle": "2021-01-29T00:15:27.534330Z",
     "shell.execute_reply": "2021-01-29T00:15:27.533739Z"
    },
    "papermill": {
     "duration": 0.042597,
     "end_time": "2021-01-29T00:15:27.534485",
     "exception": false,
     "start_time": "2021-01-29T00:15:27.491888",
     "status": "completed"
    },
    "tags": []
   },
   "outputs": [],
   "source": [
    "#hide\n",
    "# g = g[cols]"
   ]
  },
  {
   "cell_type": "code",
   "execution_count": 39,
   "id": "structured-mobile",
   "metadata": {
    "execution": {
     "iopub.execute_input": "2021-01-29T00:15:27.611097Z",
     "iopub.status.busy": "2021-01-29T00:15:27.610288Z",
     "iopub.status.idle": "2021-01-29T00:15:27.613612Z",
     "shell.execute_reply": "2021-01-29T00:15:27.613146Z"
    },
    "papermill": {
     "duration": 0.042073,
     "end_time": "2021-01-29T00:15:27.613731",
     "exception": false,
     "start_time": "2021-01-29T00:15:27.571658",
     "status": "completed"
    },
    "tags": []
   },
   "outputs": [],
   "source": [
    "# #hide\n",
    "# g = g[g.group.notna()]"
   ]
  },
  {
   "cell_type": "code",
   "execution_count": 40,
   "id": "determined-closing",
   "metadata": {
    "execution": {
     "iopub.execute_input": "2021-01-29T00:15:27.692625Z",
     "iopub.status.busy": "2021-01-29T00:15:27.691258Z",
     "iopub.status.idle": "2021-01-29T00:15:27.693288Z",
     "shell.execute_reply": "2021-01-29T00:15:27.693754Z"
    },
    "papermill": {
     "duration": 0.043006,
     "end_time": "2021-01-29T00:15:27.693880",
     "exception": false,
     "start_time": "2021-01-29T00:15:27.650874",
     "status": "completed"
    },
    "tags": []
   },
   "outputs": [],
   "source": [
    "# #hide\n",
    "# colors = dict(zip(\n",
    "#     [\"Oceania\", \"Europe\", \"Asia\", \"South America\", \"Middle East\", \"North America\", \"Africa\"],\n",
    "#     [\"#adb0ff\", \"#ffb3ff\", \"#90d595\", \"#e48381\", \"#aafbff\", \"#f7bb5f\", \"#eafb50\"]\n",
    "# ))\n",
    "# group_lk = g.set_index('name')['group'].to_dict()"
   ]
  },
  {
   "cell_type": "code",
   "execution_count": null,
   "id": "gross-drinking",
   "metadata": {
    "papermill": {
     "duration": 0.036479,
     "end_time": "2021-01-29T00:15:27.764912",
     "exception": false,
     "start_time": "2021-01-29T00:15:27.728433",
     "status": "completed"
    },
    "tags": []
   },
   "outputs": [],
   "source": []
  },
  {
   "cell_type": "code",
   "execution_count": 41,
   "id": "subject-macintosh",
   "metadata": {
    "execution": {
     "iopub.execute_input": "2021-01-29T00:15:27.840742Z",
     "iopub.status.busy": "2021-01-29T00:15:27.840076Z",
     "iopub.status.idle": "2021-01-29T00:15:27.843795Z",
     "shell.execute_reply": "2021-01-29T00:15:27.844301Z"
    },
    "papermill": {
     "duration": 0.044009,
     "end_time": "2021-01-29T00:15:27.844455",
     "exception": false,
     "start_time": "2021-01-29T00:15:27.800446",
     "status": "completed"
    },
    "tags": []
   },
   "outputs": [],
   "source": [
    "# #hide\n",
    "# fig, ax = plt.subplots(figsize=(15, 8))\n",
    "\n",
    "# def draw_barchart(current_day):\n",
    "#     dff = g[g['day'].eq(current_day)].sort_values(by='value', ascending=True).tail(10)\n",
    "#     ax.clear()\n",
    "#     ax.barh(dff['name'], dff['value'], color=[colors[group_lk[x]] for x in dff['name']])\n",
    "#     dx = dff['value'].max() / 200\n",
    "    \n",
    "#     for i, (value, name) in enumerate(zip(dff['value'], dff['name'])):\n",
    "#         ax.text(value-dx, i,     name,           size=14, weight=600, ha='right', va='bottom')\n",
    "#         ax.text(value-dx, i-.25, group_lk[name], size=10, color='#444444', ha='right', va='baseline')\n",
    "#         ax.text(value+dx, i,     f'{value:,.0f}',  size=14, ha='left',  va='center')\n",
    "#     ax.text(1, 0.4, current_day, transform=ax.transAxes, color='#777777', size=46, ha='right', weight=800)\n",
    "#     ax.text(0, 1.06, 'Population (thousands)', transform=ax.transAxes, size=12, color='#777777')\n",
    "#     ax.xaxis.set_major_formatter(ticker.StrMethodFormatter('{x:,.0f}'))\n",
    "#     ax.xaxis.set_ticks_position('top')\n",
    "#     ax.tick_params(axis='x', colors='#777777', labelsize=12)\n",
    "#     ax.set_yticks([])\n",
    "#     ax.margins(0, 0.01)\n",
    "#     ax.grid(which='major', axis='x', linestyle='-')\n",
    "#     ax.set_axisbelow(True)\n",
    "    \n",
    "#     ax.text(0, 1.15, 'Coronavirus',\n",
    "#             transform=ax.transAxes, size=24, weight=600, ha='left', va='top')\n",
    "# #     ax.text(1, 0, 'by @pratapvardhan; credit @jburnmurdoch', transform=ax.transAxes, color='#777777', ha='right',\n",
    "# #             bbox=dict(facecolor='white', alpha=0.8, edgecolor='white'))\n",
    "#     plt.box(False)"
   ]
  },
  {
   "cell_type": "code",
   "execution_count": 42,
   "id": "sexual-wages",
   "metadata": {
    "execution": {
     "iopub.execute_input": "2021-01-29T00:15:27.936718Z",
     "iopub.status.busy": "2021-01-29T00:15:27.935360Z",
     "iopub.status.idle": "2021-01-29T00:15:27.937472Z",
     "shell.execute_reply": "2021-01-29T00:15:27.937930Z"
    },
    "papermill": {
     "duration": 0.0421,
     "end_time": "2021-01-29T00:15:27.938057",
     "exception": false,
     "start_time": "2021-01-29T00:15:27.895957",
     "status": "completed"
    },
    "tags": []
   },
   "outputs": [],
   "source": [
    "# #hide_input\n",
    "# fig, ax = plt.subplots(figsize=(15, 8))\n",
    "# animator = animation.FuncAnimation(fig, draw_barchart, frames=range(g.day.values.min(), g.day.values.max()))\n",
    "# HTML(animator.to_jshtml())\n",
    "# # or use animator.to_html5_video() or animator.save() "
   ]
  },
  {
   "cell_type": "code",
   "execution_count": null,
   "id": "australian-container",
   "metadata": {
    "papermill": {
     "duration": 0.036848,
     "end_time": "2021-01-29T00:15:28.011706",
     "exception": false,
     "start_time": "2021-01-29T00:15:27.974858",
     "status": "completed"
    },
    "tags": []
   },
   "outputs": [],
   "source": []
  },
  {
   "cell_type": "code",
   "execution_count": null,
   "id": "mediterranean-pontiac",
   "metadata": {
    "papermill": {
     "duration": 0.042245,
     "end_time": "2021-01-29T00:15:28.089407",
     "exception": false,
     "start_time": "2021-01-29T00:15:28.047162",
     "status": "completed"
    },
    "tags": []
   },
   "outputs": [],
   "source": []
  },
  {
   "cell_type": "code",
   "execution_count": null,
   "id": "aging-legislature",
   "metadata": {
    "papermill": {
     "duration": 0.034219,
     "end_time": "2021-01-29T00:15:28.160934",
     "exception": false,
     "start_time": "2021-01-29T00:15:28.126715",
     "status": "completed"
    },
    "tags": []
   },
   "outputs": [],
   "source": []
  }
 ],
 "metadata": {
  "kernelspec": {
   "display_name": "Python 3",
   "language": "python",
   "name": "python3"
  },
  "language_info": {
   "codemirror_mode": {
    "name": "ipython",
    "version": 3
   },
   "file_extension": ".py",
   "mimetype": "text/x-python",
   "name": "python",
   "nbconvert_exporter": "python",
   "pygments_lexer": "ipython3",
   "version": "3.6.12"
  },
  "papermill": {
   "duration": 8.890234,
   "end_time": "2021-01-29T00:15:28.504737",
   "environment_variables": {},
   "exception": null,
   "input_path": "2020-03-21-covid19exp.ipynb",
   "output_path": "2020-03-21-covid19exp.ipynb",
   "parameters": {},
   "start_time": "2021-01-29T00:15:19.614503",
   "version": "2.0.0"
  }
 },
 "nbformat": 4,
 "nbformat_minor": 5
}