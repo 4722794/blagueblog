{
 "cells": [
  {
   "cell_type": "markdown",
   "id": "muslim-click",
   "metadata": {
    "papermill": {
     "duration": 0.044226,
     "end_time": "2021-08-10T00:22:27.980720",
     "exception": false,
     "start_time": "2021-08-10T00:22:27.936494",
     "status": "completed"
    },
    "tags": []
   },
   "source": [
    "# COVID-19 Case Race\n",
    "> A race chart to see rising cases around the world\n",
    "\n",
    "- author: Hargun Oberoi\n",
    "- image: images/covid-overview.png\n",
    "- hide: false\n",
    "- badges: false"
   ]
  },
  {
   "cell_type": "code",
   "execution_count": 1,
   "id": "proof-material",
   "metadata": {
    "execution": {
     "iopub.execute_input": "2021-08-10T00:22:28.076638Z",
     "iopub.status.busy": "2021-08-10T00:22:28.075845Z",
     "iopub.status.idle": "2021-08-10T00:22:28.471240Z",
     "shell.execute_reply": "2021-08-10T00:22:28.470398Z"
    },
    "papermill": {
     "duration": 0.448632,
     "end_time": "2021-08-10T00:22:28.471392",
     "exception": false,
     "start_time": "2021-08-10T00:22:28.022760",
     "status": "completed"
    },
    "tags": []
   },
   "outputs": [],
   "source": [
    "#hide\n",
    "import numpy as np\n",
    "import pandas as pd\n",
    "from jinja2 import Template\n",
    "from IPython.display import HTML"
   ]
  },
  {
   "cell_type": "code",
   "execution_count": 2,
   "id": "developed-terminology",
   "metadata": {
    "execution": {
     "iopub.execute_input": "2021-08-10T00:22:28.555552Z",
     "iopub.status.busy": "2021-08-10T00:22:28.554873Z",
     "iopub.status.idle": "2021-08-10T00:22:28.557785Z",
     "shell.execute_reply": "2021-08-10T00:22:28.558362Z"
    },
    "papermill": {
     "duration": 0.049436,
     "end_time": "2021-08-10T00:22:28.558500",
     "exception": false,
     "start_time": "2021-08-10T00:22:28.509064",
     "status": "completed"
    },
    "tags": []
   },
   "outputs": [],
   "source": [
    "#hide\n",
    "\n",
    "# FETCH\n",
    "base_url = 'https://raw.githubusercontent.com/pratapvardhan/notebooks/master/covid19/'\n",
    "paths = {\n",
    "    'mapping': base_url + 'mapping_countries.csv',\n",
    "    'overview': base_url + 'overview.tpl'\n",
    "}"
   ]
  },
  {
   "cell_type": "code",
   "execution_count": 3,
   "id": "dynamic-saver",
   "metadata": {
    "execution": {
     "iopub.execute_input": "2021-08-10T00:22:28.645706Z",
     "iopub.status.busy": "2021-08-10T00:22:28.642078Z",
     "iopub.status.idle": "2021-08-10T00:22:28.648469Z",
     "shell.execute_reply": "2021-08-10T00:22:28.649003Z"
    },
    "papermill": {
     "duration": 0.051937,
     "end_time": "2021-08-10T00:22:28.649128",
     "exception": false,
     "start_time": "2021-08-10T00:22:28.597191",
     "status": "completed"
    },
    "tags": []
   },
   "outputs": [
    {
     "data": {
      "text/plain": [
       "'https://raw.githubusercontent.com/pratapvardhan/notebooks/master/covid19/mapping_countries.csv'"
      ]
     },
     "execution_count": 3,
     "metadata": {},
     "output_type": "execute_result"
    }
   ],
   "source": [
    "#hide\n",
    "paths['mapping']"
   ]
  },
  {
   "cell_type": "code",
   "execution_count": 4,
   "id": "urban-software",
   "metadata": {
    "execution": {
     "iopub.execute_input": "2021-08-10T00:22:28.728124Z",
     "iopub.status.busy": "2021-08-10T00:22:28.727414Z",
     "iopub.status.idle": "2021-08-10T00:22:28.729880Z",
     "shell.execute_reply": "2021-08-10T00:22:28.729412Z"
    },
    "papermill": {
     "duration": 0.042873,
     "end_time": "2021-08-10T00:22:28.729984",
     "exception": false,
     "start_time": "2021-08-10T00:22:28.687111",
     "status": "completed"
    },
    "tags": []
   },
   "outputs": [],
   "source": [
    "#hide\n",
    "def get_mappings(url):\n",
    "    df = pd.read_csv(url)\n",
    "    return {\n",
    "        'df': df,\n",
    "        'replace.country': dict(df.dropna(subset=['Name']).set_index('Country')['Name']),\n",
    "        'map.continent': dict(df.set_index('Name')['Continent'])\n",
    "    }"
   ]
  },
  {
   "cell_type": "code",
   "execution_count": 5,
   "id": "intimate-machinery",
   "metadata": {
    "execution": {
     "iopub.execute_input": "2021-08-10T00:22:28.810302Z",
     "iopub.status.busy": "2021-08-10T00:22:28.809548Z",
     "iopub.status.idle": "2021-08-10T00:22:28.857644Z",
     "shell.execute_reply": "2021-08-10T00:22:28.857190Z"
    },
    "papermill": {
     "duration": 0.088335,
     "end_time": "2021-08-10T00:22:28.857754",
     "exception": false,
     "start_time": "2021-08-10T00:22:28.769419",
     "status": "completed"
    },
    "tags": []
   },
   "outputs": [],
   "source": [
    "#hide\n",
    "mapping = get_mappings(paths['mapping'])"
   ]
  },
  {
   "cell_type": "code",
   "execution_count": 6,
   "id": "certified-tactics",
   "metadata": {
    "execution": {
     "iopub.execute_input": "2021-08-10T00:22:28.944616Z",
     "iopub.status.busy": "2021-08-10T00:22:28.943996Z",
     "iopub.status.idle": "2021-08-10T00:22:28.952602Z",
     "shell.execute_reply": "2021-08-10T00:22:28.953138Z"
    },
    "papermill": {
     "duration": 0.057164,
     "end_time": "2021-08-10T00:22:28.953264",
     "exception": false,
     "start_time": "2021-08-10T00:22:28.896100",
     "status": "completed"
    },
    "tags": []
   },
   "outputs": [],
   "source": [
    "#hide\n",
    "def get_template(path):\n",
    "    from urllib.parse import urlparse\n",
    "    if bool(urlparse(path).netloc):\n",
    "        from urllib.request import urlopen\n",
    "        return urlopen(path).read().decode('utf8')\n",
    "    return open(path).read()"
   ]
  },
  {
   "cell_type": "code",
   "execution_count": 7,
   "id": "realistic-blast",
   "metadata": {
    "execution": {
     "iopub.execute_input": "2021-08-10T00:22:29.038056Z",
     "iopub.status.busy": "2021-08-10T00:22:29.037422Z",
     "iopub.status.idle": "2021-08-10T00:22:29.039344Z",
     "shell.execute_reply": "2021-08-10T00:22:29.039878Z"
    },
    "papermill": {
     "duration": 0.047789,
     "end_time": "2021-08-10T00:22:29.040003",
     "exception": false,
     "start_time": "2021-08-10T00:22:28.992214",
     "status": "completed"
    },
    "tags": []
   },
   "outputs": [],
   "source": [
    "#hide\n",
    "def get_frame(name):\n",
    "    url = (\n",
    "        'https://raw.githubusercontent.com/CSSEGISandData/COVID-19/master/csse_covid_19_data/'\n",
    "        f'csse_covid_19_time_series/time_series_covid19_{name}_global.csv')\n",
    "    df = pd.read_csv(url)\n",
    "    # rename countries\n",
    "    df['Country/Region'] = df['Country/Region'].replace(mapping['replace.country'])\n",
    "    return df"
   ]
  },
  {
   "cell_type": "code",
   "execution_count": 8,
   "id": "affiliated-characterization",
   "metadata": {
    "execution": {
     "iopub.execute_input": "2021-08-10T00:22:29.127343Z",
     "iopub.status.busy": "2021-08-10T00:22:29.126680Z",
     "iopub.status.idle": "2021-08-10T00:22:29.129316Z",
     "shell.execute_reply": "2021-08-10T00:22:29.128768Z"
    },
    "papermill": {
     "duration": 0.048776,
     "end_time": "2021-08-10T00:22:29.129436",
     "exception": false,
     "start_time": "2021-08-10T00:22:29.080660",
     "status": "completed"
    },
    "tags": []
   },
   "outputs": [],
   "source": [
    "#hide\n",
    "def get_dates(df):\n",
    "    dt_cols = df.columns[~df.columns.isin(['Province/State', 'Country/Region', 'Lat', 'Long'])]\n",
    "    LAST_DATE_I = -1\n",
    "    # sometimes last column may be empty, then go backwards\n",
    "    for i in range(-1, -len(dt_cols), -1):\n",
    "        if not df[dt_cols[i]].fillna(0).eq(0).all():\n",
    "            LAST_DATE_I = i\n",
    "            break\n",
    "    return LAST_DATE_I, dt_cols"
   ]
  },
  {
   "cell_type": "code",
   "execution_count": 9,
   "id": "recent-optimization",
   "metadata": {
    "execution": {
     "iopub.execute_input": "2021-08-10T00:22:29.212508Z",
     "iopub.status.busy": "2021-08-10T00:22:29.211795Z",
     "iopub.status.idle": "2021-08-10T00:22:29.765225Z",
     "shell.execute_reply": "2021-08-10T00:22:29.764525Z"
    },
    "papermill": {
     "duration": 0.597165,
     "end_time": "2021-08-10T00:22:29.765369",
     "exception": false,
     "start_time": "2021-08-10T00:22:29.168204",
     "status": "completed"
    },
    "tags": []
   },
   "outputs": [],
   "source": [
    "#hide\n",
    "COL_REGION = 'Country/Region'\n",
    "# Confirmed, Recovered, Deaths\n",
    "df = get_frame('confirmed')\n",
    "# dft_: timeseries, dfc_: today country agg\n",
    "dft_cases = df\n",
    "dft_deaths = get_frame('deaths')\n",
    "dft_recovered = get_frame('recovered')\n",
    "LAST_DATE_I, dt_cols = get_dates(df)"
   ]
  },
  {
   "cell_type": "code",
   "execution_count": 10,
   "id": "absolute-copper",
   "metadata": {
    "execution": {
     "iopub.execute_input": "2021-08-10T00:22:29.851871Z",
     "iopub.status.busy": "2021-08-10T00:22:29.851254Z",
     "iopub.status.idle": "2021-08-10T00:22:29.853284Z",
     "shell.execute_reply": "2021-08-10T00:22:29.853738Z"
    },
    "papermill": {
     "duration": 0.049069,
     "end_time": "2021-08-10T00:22:29.853857",
     "exception": false,
     "start_time": "2021-08-10T00:22:29.804788",
     "status": "completed"
    },
    "tags": []
   },
   "outputs": [],
   "source": [
    "#hide\n",
    "LAST_DATE_I, dt_cols = get_dates(df)\n",
    "dt_today =dt_cols[LAST_DATE_I]\n",
    "# dt_5day = dt_cols[LAST_DATE_I - 5]\n",
    "dt_yday = dt_cols[LAST_DATE_I - 1]"
   ]
  },
  {
   "cell_type": "code",
   "execution_count": 11,
   "id": "restricted-sheriff",
   "metadata": {
    "execution": {
     "iopub.execute_input": "2021-08-10T00:22:29.938573Z",
     "iopub.status.busy": "2021-08-10T00:22:29.937952Z",
     "iopub.status.idle": "2021-08-10T00:22:29.947558Z",
     "shell.execute_reply": "2021-08-10T00:22:29.948082Z"
    },
    "papermill": {
     "duration": 0.055911,
     "end_time": "2021-08-10T00:22:29.948352",
     "exception": false,
     "start_time": "2021-08-10T00:22:29.892441",
     "status": "completed"
    },
    "tags": []
   },
   "outputs": [],
   "source": [
    "#hide\n",
    "dfc_cases = dft_cases.groupby(COL_REGION)[dt_today].sum()\n",
    "dfc_deaths = dft_deaths.groupby(COL_REGION)[dt_today].sum()\n",
    "# dfp_cases = dft_cases.groupby(COL_REGION)[dt_5day].sum()\n",
    "# dfp_deaths = dft_deaths.groupby(COL_REGION)[dt_5day].sum()\n",
    "dfp_cases = dft_cases.groupby(COL_REGION)[dt_yday].sum()\n",
    "dfp_deaths = dft_deaths.groupby(COL_REGION)[dt_yday].sum()"
   ]
  },
  {
   "cell_type": "code",
   "execution_count": 12,
   "id": "deluxe-hepatitis",
   "metadata": {
    "execution": {
     "iopub.execute_input": "2021-08-10T00:22:30.035598Z",
     "iopub.status.busy": "2021-08-10T00:22:30.034992Z",
     "iopub.status.idle": "2021-08-10T00:22:30.040329Z",
     "shell.execute_reply": "2021-08-10T00:22:30.039771Z"
    },
    "papermill": {
     "duration": 0.050242,
     "end_time": "2021-08-10T00:22:30.040434",
     "exception": false,
     "start_time": "2021-08-10T00:22:29.990192",
     "status": "completed"
    },
    "tags": []
   },
   "outputs": [],
   "source": [
    "#hide\n",
    "df_table = (pd.DataFrame(dict(Cases = dfc_cases, Deaths = dfc_deaths, PCases = dfp_cases, PDeaths = dfp_deaths))\n",
    "            .sort_values(by = ['Cases','Deaths'], ascending = [False, False])\n",
    "            .reset_index())"
   ]
  },
  {
   "cell_type": "code",
   "execution_count": 13,
   "id": "educational-chancellor",
   "metadata": {
    "execution": {
     "iopub.execute_input": "2021-08-10T00:22:30.144863Z",
     "iopub.status.busy": "2021-08-10T00:22:30.144024Z",
     "iopub.status.idle": "2021-08-10T00:22:30.154397Z",
     "shell.execute_reply": "2021-08-10T00:22:30.155004Z"
    },
    "papermill": {
     "duration": 0.073041,
     "end_time": "2021-08-10T00:22:30.155171",
     "exception": false,
     "start_time": "2021-08-10T00:22:30.082130",
     "status": "completed"
    },
    "tags": []
   },
   "outputs": [
    {
     "data": {
      "text/html": [
       "<div>\n",
       "<style scoped>\n",
       "    .dataframe tbody tr th:only-of-type {\n",
       "        vertical-align: middle;\n",
       "    }\n",
       "\n",
       "    .dataframe tbody tr th {\n",
       "        vertical-align: top;\n",
       "    }\n",
       "\n",
       "    .dataframe thead th {\n",
       "        text-align: right;\n",
       "    }\n",
       "</style>\n",
       "<table border=\"1\" class=\"dataframe\">\n",
       "  <thead>\n",
       "    <tr style=\"text-align: right;\">\n",
       "      <th></th>\n",
       "      <th>Country/Region</th>\n",
       "      <th>Cases</th>\n",
       "      <th>Deaths</th>\n",
       "      <th>PCases</th>\n",
       "      <th>PDeaths</th>\n",
       "      <th>Cases (+)</th>\n",
       "      <th>Deaths (+)</th>\n",
       "      <th>Fatality Rate</th>\n",
       "      <th>Continent</th>\n",
       "    </tr>\n",
       "  </thead>\n",
       "  <tbody>\n",
       "    <tr>\n",
       "      <th>0</th>\n",
       "      <td>US</td>\n",
       "      <td>35763785</td>\n",
       "      <td>616829</td>\n",
       "      <td>35739551</td>\n",
       "      <td>616718</td>\n",
       "      <td>24234</td>\n",
       "      <td>111</td>\n",
       "      <td>1.72</td>\n",
       "      <td>North America</td>\n",
       "    </tr>\n",
       "    <tr>\n",
       "      <th>1</th>\n",
       "      <td>India</td>\n",
       "      <td>31969954</td>\n",
       "      <td>428309</td>\n",
       "      <td>31934455</td>\n",
       "      <td>427862</td>\n",
       "      <td>35499</td>\n",
       "      <td>447</td>\n",
       "      <td>1.34</td>\n",
       "      <td>Asia</td>\n",
       "    </tr>\n",
       "    <tr>\n",
       "      <th>2</th>\n",
       "      <td>Brazil</td>\n",
       "      <td>20165672</td>\n",
       "      <td>563151</td>\n",
       "      <td>20151779</td>\n",
       "      <td>562752</td>\n",
       "      <td>13893</td>\n",
       "      <td>399</td>\n",
       "      <td>2.79</td>\n",
       "      <td>South America</td>\n",
       "    </tr>\n",
       "    <tr>\n",
       "      <th>3</th>\n",
       "      <td>France</td>\n",
       "      <td>6371349</td>\n",
       "      <td>112407</td>\n",
       "      <td>6350899</td>\n",
       "      <td>112379</td>\n",
       "      <td>20450</td>\n",
       "      <td>28</td>\n",
       "      <td>1.76</td>\n",
       "      <td>Europe</td>\n",
       "    </tr>\n",
       "    <tr>\n",
       "      <th>4</th>\n",
       "      <td>Russia</td>\n",
       "      <td>6362641</td>\n",
       "      <td>162109</td>\n",
       "      <td>6340370</td>\n",
       "      <td>161343</td>\n",
       "      <td>22271</td>\n",
       "      <td>766</td>\n",
       "      <td>2.55</td>\n",
       "      <td>Europe</td>\n",
       "    </tr>\n",
       "  </tbody>\n",
       "</table>\n",
       "</div>"
      ],
      "text/plain": [
       "  Country/Region     Cases  Deaths    PCases  PDeaths  Cases (+)  Deaths (+)  \\\n",
       "0             US  35763785  616829  35739551   616718      24234         111   \n",
       "1          India  31969954  428309  31934455   427862      35499         447   \n",
       "2         Brazil  20165672  563151  20151779   562752      13893         399   \n",
       "3         France   6371349  112407   6350899   112379      20450          28   \n",
       "4         Russia   6362641  162109   6340370   161343      22271         766   \n",
       "\n",
       "   Fatality Rate      Continent  \n",
       "0           1.72  North America  \n",
       "1           1.34           Asia  \n",
       "2           2.79  South America  \n",
       "3           1.76         Europe  \n",
       "4           2.55         Europe  "
      ]
     },
     "execution_count": 13,
     "metadata": {},
     "output_type": "execute_result"
    }
   ],
   "source": [
    "#hide\n",
    "for c in 'Cases, Deaths'.split(', '):\n",
    "    df_table[f'{c} (+)'] = (df_table[c] - df_table[f'P{c}']).clip(0)\n",
    "    #Clip ça veut dire, les chiffres negatif sont interdit\n",
    "df_table['Fatality Rate'] = (100* df_table['Deaths']/ df_table['Cases']).round(2)\n",
    "df_table['Continent'] = df_table['Country/Region'].map(mapping['map.continent'])\n",
    "df_table.head(5)"
   ]
  },
  {
   "cell_type": "code",
   "execution_count": 14,
   "id": "aboriginal-bulgaria",
   "metadata": {
    "execution": {
     "iopub.execute_input": "2021-08-10T00:22:30.236188Z",
     "iopub.status.busy": "2021-08-10T00:22:30.235344Z",
     "iopub.status.idle": "2021-08-10T00:22:30.238059Z",
     "shell.execute_reply": "2021-08-10T00:22:30.238611Z"
    },
    "papermill": {
     "duration": 0.044854,
     "end_time": "2021-08-10T00:22:30.238731",
     "exception": false,
     "start_time": "2021-08-10T00:22:30.193877",
     "status": "completed"
    },
    "tags": []
   },
   "outputs": [],
   "source": [
    "#hide\n",
    "#delete problematic countries from table\n",
    "df_table = df_table[~df_table['Country/Region'].isin(['Cape Verde', 'Cruise Ship', 'Kosovo'])]"
   ]
  },
  {
   "cell_type": "code",
   "execution_count": 15,
   "id": "fantastic-effect",
   "metadata": {
    "execution": {
     "iopub.execute_input": "2021-08-10T00:22:30.326847Z",
     "iopub.status.busy": "2021-08-10T00:22:30.326211Z",
     "iopub.status.idle": "2021-08-10T00:22:30.348482Z",
     "shell.execute_reply": "2021-08-10T00:22:30.348001Z"
    },
    "papermill": {
     "duration": 0.069361,
     "end_time": "2021-08-10T00:22:30.348601",
     "exception": false,
     "start_time": "2021-08-10T00:22:30.279240",
     "status": "completed"
    },
    "tags": []
   },
   "outputs": [
    {
     "data": {
      "text/html": [
       "<div>\n",
       "<style scoped>\n",
       "    .dataframe tbody tr th:only-of-type {\n",
       "        vertical-align: middle;\n",
       "    }\n",
       "\n",
       "    .dataframe tbody tr th {\n",
       "        vertical-align: top;\n",
       "    }\n",
       "\n",
       "    .dataframe thead th {\n",
       "        text-align: right;\n",
       "    }\n",
       "</style>\n",
       "<table border=\"1\" class=\"dataframe\">\n",
       "  <thead>\n",
       "    <tr style=\"text-align: right;\">\n",
       "      <th></th>\n",
       "      <th>Country/Region</th>\n",
       "      <th>Cases</th>\n",
       "      <th>Deaths</th>\n",
       "      <th>PCases</th>\n",
       "      <th>PDeaths</th>\n",
       "      <th>Cases (+)</th>\n",
       "      <th>Deaths (+)</th>\n",
       "      <th>Fatality Rate</th>\n",
       "      <th>Continent</th>\n",
       "    </tr>\n",
       "  </thead>\n",
       "  <tbody>\n",
       "    <tr>\n",
       "      <th>0</th>\n",
       "      <td>US</td>\n",
       "      <td>35763785</td>\n",
       "      <td>616829</td>\n",
       "      <td>35739551</td>\n",
       "      <td>616718</td>\n",
       "      <td>24234</td>\n",
       "      <td>111</td>\n",
       "      <td>1.7</td>\n",
       "      <td>North America</td>\n",
       "    </tr>\n",
       "    <tr>\n",
       "      <th>1</th>\n",
       "      <td>India</td>\n",
       "      <td>31969954</td>\n",
       "      <td>428309</td>\n",
       "      <td>31934455</td>\n",
       "      <td>427862</td>\n",
       "      <td>35499</td>\n",
       "      <td>447</td>\n",
       "      <td>1.3</td>\n",
       "      <td>Asia</td>\n",
       "    </tr>\n",
       "    <tr>\n",
       "      <th>2</th>\n",
       "      <td>Brazil</td>\n",
       "      <td>20165672</td>\n",
       "      <td>563151</td>\n",
       "      <td>20151779</td>\n",
       "      <td>562752</td>\n",
       "      <td>13893</td>\n",
       "      <td>399</td>\n",
       "      <td>2.8</td>\n",
       "      <td>South America</td>\n",
       "    </tr>\n",
       "    <tr>\n",
       "      <th>3</th>\n",
       "      <td>France</td>\n",
       "      <td>6371349</td>\n",
       "      <td>112407</td>\n",
       "      <td>6350899</td>\n",
       "      <td>112379</td>\n",
       "      <td>20450</td>\n",
       "      <td>28</td>\n",
       "      <td>1.8</td>\n",
       "      <td>Europe</td>\n",
       "    </tr>\n",
       "    <tr>\n",
       "      <th>4</th>\n",
       "      <td>Russia</td>\n",
       "      <td>6362641</td>\n",
       "      <td>162109</td>\n",
       "      <td>6340370</td>\n",
       "      <td>161343</td>\n",
       "      <td>22271</td>\n",
       "      <td>766</td>\n",
       "      <td>2.5</td>\n",
       "      <td>Europe</td>\n",
       "    </tr>\n",
       "  </tbody>\n",
       "</table>\n",
       "</div>"
      ],
      "text/plain": [
       "  Country/Region     Cases  Deaths    PCases  PDeaths  Cases (+)  Deaths (+)  \\\n",
       "0             US  35763785  616829  35739551   616718      24234         111   \n",
       "1          India  31969954  428309  31934455   427862      35499         447   \n",
       "2         Brazil  20165672  563151  20151779   562752      13893         399   \n",
       "3         France   6371349  112407   6350899   112379      20450          28   \n",
       "4         Russia   6362641  162109   6340370   161343      22271         766   \n",
       "\n",
       "   Fatality Rate      Continent  \n",
       "0            1.7  North America  \n",
       "1            1.3           Asia  \n",
       "2            2.8  South America  \n",
       "3            1.8         Europe  \n",
       "4            2.5         Europe  "
      ]
     },
     "execution_count": 15,
     "metadata": {},
     "output_type": "execute_result"
    }
   ],
   "source": [
    "#hide\n",
    "df_table = (pd.DataFrame(dict(Cases=dfc_cases, Deaths=dfc_deaths, PCases=dfp_cases, PDeaths=dfp_deaths))\n",
    "             .sort_values(by=['Cases', 'Deaths'], ascending=[False, False])\n",
    "             .reset_index())\n",
    "df_table.rename(columns={'index': 'Country/Region'}, inplace=True)\n",
    "for c in 'Cases, Deaths'.split(', '):\n",
    "    df_table[f'{c} (+)'] = (df_table[c] - df_table[f'P{c}']).clip(0)  # DATA BUG\n",
    "df_table['Fatality Rate'] = (100 * df_table['Deaths'] / df_table['Cases']).round(1)\n",
    "df_table['Continent'] = df_table['Country/Region'].map(mapping['map.continent'])\n",
    "df_table.head(5)"
   ]
  },
  {
   "cell_type": "code",
   "execution_count": 16,
   "id": "fewer-occasion",
   "metadata": {
    "execution": {
     "iopub.execute_input": "2021-08-10T00:22:30.430089Z",
     "iopub.status.busy": "2021-08-10T00:22:30.429392Z",
     "iopub.status.idle": "2021-08-10T00:22:30.432307Z",
     "shell.execute_reply": "2021-08-10T00:22:30.431843Z"
    },
    "papermill": {
     "duration": 0.046771,
     "end_time": "2021-08-10T00:22:30.432411",
     "exception": false,
     "start_time": "2021-08-10T00:22:30.385640",
     "status": "completed"
    },
    "tags": []
   },
   "outputs": [],
   "source": [
    "#hide\n",
    "#delete problematic countries from table\n",
    "df_table = df_table[~df_table['Country/Region'].isin(['Cape Verde', 'Cruise Ship', 'Kosovo'])]"
   ]
  },
  {
   "cell_type": "code",
   "execution_count": 17,
   "id": "related-center",
   "metadata": {
    "execution": {
     "iopub.execute_input": "2021-08-10T00:22:30.530862Z",
     "iopub.status.busy": "2021-08-10T00:22:30.530294Z",
     "iopub.status.idle": "2021-08-10T00:22:30.533564Z",
     "shell.execute_reply": "2021-08-10T00:22:30.532632Z"
    },
    "papermill": {
     "duration": 0.061538,
     "end_time": "2021-08-10T00:22:30.533753",
     "exception": false,
     "start_time": "2021-08-10T00:22:30.472215",
     "status": "completed"
    },
    "tags": []
   },
   "outputs": [],
   "source": [
    "#hide\n",
    "metrics = [df_table.columns[index] for index in [1,2,5,6]]\n",
    "# s_china = df_table[df_table['Country/Region'].eq('China')][metrics].sum().add_prefix('China ')\n",
    "s_us = df_table[df_table['Country/Region'].eq('US')][metrics].sum().add_prefix('US ')\n",
    "s_eu = df_table[df_table['Continent'].eq('Europe')][metrics].sum().add_prefix('EU ')\n",
    "s_ind = df_table[df_table['Country/Region'].eq('India')][metrics].sum().add_prefix('India ')\n",
    "summary = {'updated': pd.to_datetime(dt_today), 'since': pd.to_datetime(dt_yday)}\n",
    "summary = {'updated': pd.to_datetime(dt_today), 'since': pd.to_datetime(dt_yday)}\n",
    "summary = {**summary, **df_table[metrics].sum(), **s_ind, **s_us, **s_eu}"
   ]
  },
  {
   "cell_type": "code",
   "execution_count": 18,
   "id": "engaging-syndrome",
   "metadata": {
    "execution": {
     "iopub.execute_input": "2021-08-10T00:22:30.619370Z",
     "iopub.status.busy": "2021-08-10T00:22:30.618537Z",
     "iopub.status.idle": "2021-08-10T00:22:30.633321Z",
     "shell.execute_reply": "2021-08-10T00:22:30.633817Z"
    },
    "papermill": {
     "duration": 0.06072,
     "end_time": "2021-08-10T00:22:30.633944",
     "exception": false,
     "start_time": "2021-08-10T00:22:30.573224",
     "status": "completed"
    },
    "tags": []
   },
   "outputs": [],
   "source": [
    "#hide\n",
    "dft_ct_new_cases = dft_cases.groupby(COL_REGION)[dt_cols].sum().diff(axis=1).fillna(0).astype(int)"
   ]
  },
  {
   "cell_type": "code",
   "execution_count": 19,
   "id": "neutral-assignment",
   "metadata": {
    "execution": {
     "iopub.execute_input": "2021-08-10T00:22:30.720601Z",
     "iopub.status.busy": "2021-08-10T00:22:30.719927Z",
     "iopub.status.idle": "2021-08-10T00:22:30.722840Z",
     "shell.execute_reply": "2021-08-10T00:22:30.722223Z"
    },
    "papermill": {
     "duration": 0.048926,
     "end_time": "2021-08-10T00:22:30.722959",
     "exception": false,
     "start_time": "2021-08-10T00:22:30.674033",
     "status": "completed"
    },
    "tags": []
   },
   "outputs": [],
   "source": [
    "#hide\n",
    "everydaycases = dft_ct_new_cases.cumsum(axis=1)"
   ]
  },
  {
   "cell_type": "code",
   "execution_count": 20,
   "id": "parliamentary-calgary",
   "metadata": {
    "execution": {
     "iopub.execute_input": "2021-08-10T00:22:30.807072Z",
     "iopub.status.busy": "2021-08-10T00:22:30.806027Z",
     "iopub.status.idle": "2021-08-10T00:22:31.448061Z",
     "shell.execute_reply": "2021-08-10T00:22:31.447551Z"
    },
    "papermill": {
     "duration": 0.686421,
     "end_time": "2021-08-10T00:22:31.448197",
     "exception": false,
     "start_time": "2021-08-10T00:22:30.761776",
     "status": "completed"
    },
    "tags": []
   },
   "outputs": [],
   "source": [
    "#hide\n",
    "import pandas as pd\n",
    "import matplotlib.pyplot as plt\n",
    "import matplotlib.ticker as ticker\n",
    "import matplotlib.animation as animation\n",
    "from IPython.display import HTML"
   ]
  },
  {
   "cell_type": "code",
   "execution_count": 21,
   "id": "lasting-extraction",
   "metadata": {
    "execution": {
     "iopub.execute_input": "2021-08-10T00:22:31.534453Z",
     "iopub.status.busy": "2021-08-10T00:22:31.533667Z",
     "iopub.status.idle": "2021-08-10T00:22:31.539642Z",
     "shell.execute_reply": "2021-08-10T00:22:31.540197Z"
    },
    "papermill": {
     "duration": 0.053456,
     "end_time": "2021-08-10T00:22:31.540353",
     "exception": false,
     "start_time": "2021-08-10T00:22:31.486897",
     "status": "completed"
    },
    "tags": []
   },
   "outputs": [],
   "source": [
    "#hide\n",
    "t = everydaycases.stack()"
   ]
  },
  {
   "cell_type": "code",
   "execution_count": 22,
   "id": "premier-sleeve",
   "metadata": {
    "execution": {
     "iopub.execute_input": "2021-08-10T00:22:31.625846Z",
     "iopub.status.busy": "2021-08-10T00:22:31.625148Z",
     "iopub.status.idle": "2021-08-10T00:22:31.633739Z",
     "shell.execute_reply": "2021-08-10T00:22:31.634302Z"
    },
    "papermill": {
     "duration": 0.054311,
     "end_time": "2021-08-10T00:22:31.634427",
     "exception": false,
     "start_time": "2021-08-10T00:22:31.580116",
     "status": "completed"
    },
    "tags": []
   },
   "outputs": [],
   "source": [
    "#hide\n",
    "g = t.reset_index(['Country/Region'])"
   ]
  },
  {
   "cell_type": "code",
   "execution_count": 23,
   "id": "distributed-pittsburgh",
   "metadata": {
    "execution": {
     "iopub.execute_input": "2021-08-10T00:22:31.718899Z",
     "iopub.status.busy": "2021-08-10T00:22:31.718234Z",
     "iopub.status.idle": "2021-08-10T00:22:31.720305Z",
     "shell.execute_reply": "2021-08-10T00:22:31.720813Z"
    },
    "papermill": {
     "duration": 0.045945,
     "end_time": "2021-08-10T00:22:31.721003",
     "exception": false,
     "start_time": "2021-08-10T00:22:31.675058",
     "status": "completed"
    },
    "tags": []
   },
   "outputs": [],
   "source": [
    "#hide\n",
    "g.index.name = 'date'"
   ]
  },
  {
   "cell_type": "code",
   "execution_count": 24,
   "id": "naked-donor",
   "metadata": {
    "execution": {
     "iopub.execute_input": "2021-08-10T00:22:31.809123Z",
     "iopub.status.busy": "2021-08-10T00:22:31.808460Z",
     "iopub.status.idle": "2021-08-10T00:22:31.811230Z",
     "shell.execute_reply": "2021-08-10T00:22:31.810690Z"
    },
    "papermill": {
     "duration": 0.04871,
     "end_time": "2021-08-10T00:22:31.811347",
     "exception": false,
     "start_time": "2021-08-10T00:22:31.762637",
     "status": "completed"
    },
    "tags": []
   },
   "outputs": [],
   "source": [
    "# #hide\n",
    "# g = g.reset_index(['date'])"
   ]
  },
  {
   "cell_type": "code",
   "execution_count": 25,
   "id": "incomplete-mustang",
   "metadata": {
    "execution": {
     "iopub.execute_input": "2021-08-10T00:22:31.900944Z",
     "iopub.status.busy": "2021-08-10T00:22:31.900182Z",
     "iopub.status.idle": "2021-08-10T00:22:31.902469Z",
     "shell.execute_reply": "2021-08-10T00:22:31.903070Z"
    },
    "papermill": {
     "duration": 0.04862,
     "end_time": "2021-08-10T00:22:31.903226",
     "exception": false,
     "start_time": "2021-08-10T00:22:31.854606",
     "status": "completed"
    },
    "tags": []
   },
   "outputs": [],
   "source": [
    "#hide\n",
    "# g.head()"
   ]
  },
  {
   "cell_type": "code",
   "execution_count": 26,
   "id": "specific-kruger",
   "metadata": {
    "execution": {
     "iopub.execute_input": "2021-08-10T00:22:31.988492Z",
     "iopub.status.busy": "2021-08-10T00:22:31.987756Z",
     "iopub.status.idle": "2021-08-10T00:22:31.990548Z",
     "shell.execute_reply": "2021-08-10T00:22:31.991360Z"
    },
    "papermill": {
     "duration": 0.046908,
     "end_time": "2021-08-10T00:22:31.991495",
     "exception": false,
     "start_time": "2021-08-10T00:22:31.944587",
     "status": "completed"
    },
    "tags": []
   },
   "outputs": [],
   "source": [
    "#hide\n",
    "# g.columns = ['date','country','cases']"
   ]
  },
  {
   "cell_type": "code",
   "execution_count": 27,
   "id": "tender-conversion",
   "metadata": {
    "execution": {
     "iopub.execute_input": "2021-08-10T00:22:32.077079Z",
     "iopub.status.busy": "2021-08-10T00:22:32.076288Z",
     "iopub.status.idle": "2021-08-10T00:22:32.078313Z",
     "shell.execute_reply": "2021-08-10T00:22:32.078942Z"
    },
    "papermill": {
     "duration": 0.047398,
     "end_time": "2021-08-10T00:22:32.079076",
     "exception": false,
     "start_time": "2021-08-10T00:22:32.031678",
     "status": "completed"
    },
    "tags": []
   },
   "outputs": [],
   "source": [
    "#hide\n",
    "# g['continent'] = g.country"
   ]
  },
  {
   "cell_type": "code",
   "execution_count": 28,
   "id": "substantial-wilderness",
   "metadata": {
    "execution": {
     "iopub.execute_input": "2021-08-10T00:22:32.163594Z",
     "iopub.status.busy": "2021-08-10T00:22:32.162913Z",
     "iopub.status.idle": "2021-08-10T00:22:32.164967Z",
     "shell.execute_reply": "2021-08-10T00:22:32.165543Z"
    },
    "papermill": {
     "duration": 0.045921,
     "end_time": "2021-08-10T00:22:32.165671",
     "exception": false,
     "start_time": "2021-08-10T00:22:32.119750",
     "status": "completed"
    },
    "tags": []
   },
   "outputs": [],
   "source": [
    "#hide\n",
    "# cols = list(g.columns.values)"
   ]
  },
  {
   "cell_type": "code",
   "execution_count": 29,
   "id": "solved-farming",
   "metadata": {
    "execution": {
     "iopub.execute_input": "2021-08-10T00:22:32.251165Z",
     "iopub.status.busy": "2021-08-10T00:22:32.250470Z",
     "iopub.status.idle": "2021-08-10T00:22:32.253995Z",
     "shell.execute_reply": "2021-08-10T00:22:32.254627Z"
    },
    "papermill": {
     "duration": 0.048481,
     "end_time": "2021-08-10T00:22:32.254769",
     "exception": false,
     "start_time": "2021-08-10T00:22:32.206288",
     "status": "completed"
    },
    "tags": []
   },
   "outputs": [],
   "source": [
    "#hide\n",
    "# cols.insert(0, cols.pop())"
   ]
  },
  {
   "cell_type": "code",
   "execution_count": 30,
   "id": "executed-adoption",
   "metadata": {
    "execution": {
     "iopub.execute_input": "2021-08-10T00:22:32.347075Z",
     "iopub.status.busy": "2021-08-10T00:22:32.346318Z",
     "iopub.status.idle": "2021-08-10T00:22:32.349359Z",
     "shell.execute_reply": "2021-08-10T00:22:32.350026Z"
    },
    "papermill": {
     "duration": 0.050232,
     "end_time": "2021-08-10T00:22:32.350153",
     "exception": false,
     "start_time": "2021-08-10T00:22:32.299921",
     "status": "completed"
    },
    "tags": []
   },
   "outputs": [],
   "source": [
    "#hide\n",
    "# g = g[cols]"
   ]
  },
  {
   "cell_type": "code",
   "execution_count": 31,
   "id": "subject-dublin",
   "metadata": {
    "execution": {
     "iopub.execute_input": "2021-08-10T00:22:32.440864Z",
     "iopub.status.busy": "2021-08-10T00:22:32.440083Z",
     "iopub.status.idle": "2021-08-10T00:22:32.443244Z",
     "shell.execute_reply": "2021-08-10T00:22:32.442596Z"
    },
    "papermill": {
     "duration": 0.050529,
     "end_time": "2021-08-10T00:22:32.443373",
     "exception": false,
     "start_time": "2021-08-10T00:22:32.392844",
     "status": "completed"
    },
    "tags": []
   },
   "outputs": [],
   "source": [
    "#hide\n",
    "# g['continent'] = g['continent'].map(mapping['map.continent'])"
   ]
  },
  {
   "cell_type": "code",
   "execution_count": 32,
   "id": "freelance-scout",
   "metadata": {
    "execution": {
     "iopub.execute_input": "2021-08-10T00:22:32.531112Z",
     "iopub.status.busy": "2021-08-10T00:22:32.530519Z",
     "iopub.status.idle": "2021-08-10T00:22:32.532446Z",
     "shell.execute_reply": "2021-08-10T00:22:32.532916Z"
    },
    "papermill": {
     "duration": 0.047977,
     "end_time": "2021-08-10T00:22:32.533083",
     "exception": false,
     "start_time": "2021-08-10T00:22:32.485106",
     "status": "completed"
    },
    "tags": []
   },
   "outputs": [],
   "source": [
    "#hide\n",
    "# g.head()"
   ]
  },
  {
   "cell_type": "code",
   "execution_count": 33,
   "id": "limited-engine",
   "metadata": {
    "execution": {
     "iopub.execute_input": "2021-08-10T00:22:32.616293Z",
     "iopub.status.busy": "2021-08-10T00:22:32.615700Z",
     "iopub.status.idle": "2021-08-10T00:22:32.618701Z",
     "shell.execute_reply": "2021-08-10T00:22:32.618138Z"
    },
    "papermill": {
     "duration": 0.046037,
     "end_time": "2021-08-10T00:22:32.618889",
     "exception": false,
     "start_time": "2021-08-10T00:22:32.572852",
     "status": "completed"
    },
    "tags": []
   },
   "outputs": [],
   "source": [
    "# hide\n",
    "# g['date'] = g['date'].astype('datetime64[ns]')"
   ]
  },
  {
   "cell_type": "code",
   "execution_count": 34,
   "id": "sophisticated-supervisor",
   "metadata": {
    "execution": {
     "iopub.execute_input": "2021-08-10T00:22:32.703460Z",
     "iopub.status.busy": "2021-08-10T00:22:32.702630Z",
     "iopub.status.idle": "2021-08-10T00:22:32.704972Z",
     "shell.execute_reply": "2021-08-10T00:22:32.705470Z"
    },
    "papermill": {
     "duration": 0.045621,
     "end_time": "2021-08-10T00:22:32.705604",
     "exception": false,
     "start_time": "2021-08-10T00:22:32.659983",
     "status": "completed"
    },
    "tags": []
   },
   "outputs": [],
   "source": [
    "#hide\n",
    "# g['date'] = g.date.dt.dayofyear"
   ]
  },
  {
   "cell_type": "code",
   "execution_count": 35,
   "id": "inside-dubai",
   "metadata": {
    "execution": {
     "iopub.execute_input": "2021-08-10T00:22:32.790667Z",
     "iopub.status.busy": "2021-08-10T00:22:32.789920Z",
     "iopub.status.idle": "2021-08-10T00:22:32.792862Z",
     "shell.execute_reply": "2021-08-10T00:22:32.792234Z"
    },
    "papermill": {
     "duration": 0.046682,
     "end_time": "2021-08-10T00:22:32.792979",
     "exception": false,
     "start_time": "2021-08-10T00:22:32.746297",
     "status": "completed"
    },
    "tags": []
   },
   "outputs": [],
   "source": [
    "#hide\n",
    "# g = g.rename(columns= {'continent':'group','country':'name','cases':'value'})"
   ]
  },
  {
   "cell_type": "code",
   "execution_count": 36,
   "id": "fleet-motorcycle",
   "metadata": {
    "execution": {
     "iopub.execute_input": "2021-08-10T00:22:32.875092Z",
     "iopub.status.busy": "2021-08-10T00:22:32.874259Z",
     "iopub.status.idle": "2021-08-10T00:22:32.877903Z",
     "shell.execute_reply": "2021-08-10T00:22:32.877352Z"
    },
    "papermill": {
     "duration": 0.048299,
     "end_time": "2021-08-10T00:22:32.878029",
     "exception": false,
     "start_time": "2021-08-10T00:22:32.829730",
     "status": "completed"
    },
    "tags": []
   },
   "outputs": [],
   "source": [
    "#hide\n",
    "# cols = ['name','group','day','value']"
   ]
  },
  {
   "cell_type": "code",
   "execution_count": 37,
   "id": "continued-sleeping",
   "metadata": {
    "execution": {
     "iopub.execute_input": "2021-08-10T00:22:32.965434Z",
     "iopub.status.busy": "2021-08-10T00:22:32.964651Z",
     "iopub.status.idle": "2021-08-10T00:22:32.969576Z",
     "shell.execute_reply": "2021-08-10T00:22:32.968915Z"
    },
    "papermill": {
     "duration": 0.051546,
     "end_time": "2021-08-10T00:22:32.969706",
     "exception": false,
     "start_time": "2021-08-10T00:22:32.918160",
     "status": "completed"
    },
    "tags": []
   },
   "outputs": [],
   "source": [
    "#hide\n",
    "# g.rename(columns= {'date':'day'},inplace = True)"
   ]
  },
  {
   "cell_type": "code",
   "execution_count": 38,
   "id": "major-fight",
   "metadata": {
    "execution": {
     "iopub.execute_input": "2021-08-10T00:22:33.054162Z",
     "iopub.status.busy": "2021-08-10T00:22:33.053299Z",
     "iopub.status.idle": "2021-08-10T00:22:33.056507Z",
     "shell.execute_reply": "2021-08-10T00:22:33.055962Z"
    },
    "papermill": {
     "duration": 0.046582,
     "end_time": "2021-08-10T00:22:33.056631",
     "exception": false,
     "start_time": "2021-08-10T00:22:33.010049",
     "status": "completed"
    },
    "tags": []
   },
   "outputs": [],
   "source": [
    "#hide\n",
    "# g = g[cols]"
   ]
  },
  {
   "cell_type": "code",
   "execution_count": 39,
   "id": "structured-mobile",
   "metadata": {
    "execution": {
     "iopub.execute_input": "2021-08-10T00:22:33.144772Z",
     "iopub.status.busy": "2021-08-10T00:22:33.144166Z",
     "iopub.status.idle": "2021-08-10T00:22:33.146270Z",
     "shell.execute_reply": "2021-08-10T00:22:33.146812Z"
    },
    "papermill": {
     "duration": 0.047306,
     "end_time": "2021-08-10T00:22:33.146941",
     "exception": false,
     "start_time": "2021-08-10T00:22:33.099635",
     "status": "completed"
    },
    "tags": []
   },
   "outputs": [],
   "source": [
    "# #hide\n",
    "# g = g[g.group.notna()]"
   ]
  },
  {
   "cell_type": "code",
   "execution_count": 40,
   "id": "determined-closing",
   "metadata": {
    "execution": {
     "iopub.execute_input": "2021-08-10T00:22:33.230365Z",
     "iopub.status.busy": "2021-08-10T00:22:33.229644Z",
     "iopub.status.idle": "2021-08-10T00:22:33.232409Z",
     "shell.execute_reply": "2021-08-10T00:22:33.231860Z"
    },
    "papermill": {
     "duration": 0.046048,
     "end_time": "2021-08-10T00:22:33.232526",
     "exception": false,
     "start_time": "2021-08-10T00:22:33.186478",
     "status": "completed"
    },
    "tags": []
   },
   "outputs": [],
   "source": [
    "# #hide\n",
    "# colors = dict(zip(\n",
    "#     [\"Oceania\", \"Europe\", \"Asia\", \"South America\", \"Middle East\", \"North America\", \"Africa\"],\n",
    "#     [\"#adb0ff\", \"#ffb3ff\", \"#90d595\", \"#e48381\", \"#aafbff\", \"#f7bb5f\", \"#eafb50\"]\n",
    "# ))\n",
    "# group_lk = g.set_index('name')['group'].to_dict()"
   ]
  },
  {
   "cell_type": "code",
   "execution_count": null,
   "id": "gross-drinking",
   "metadata": {
    "papermill": {
     "duration": 0.039864,
     "end_time": "2021-08-10T00:22:33.313281",
     "exception": false,
     "start_time": "2021-08-10T00:22:33.273417",
     "status": "completed"
    },
    "tags": []
   },
   "outputs": [],
   "source": []
  },
  {
   "cell_type": "code",
   "execution_count": 41,
   "id": "subject-macintosh",
   "metadata": {
    "execution": {
     "iopub.execute_input": "2021-08-10T00:22:33.398000Z",
     "iopub.status.busy": "2021-08-10T00:22:33.397207Z",
     "iopub.status.idle": "2021-08-10T00:22:33.400054Z",
     "shell.execute_reply": "2021-08-10T00:22:33.399598Z"
    },
    "papermill": {
     "duration": 0.048092,
     "end_time": "2021-08-10T00:22:33.400158",
     "exception": false,
     "start_time": "2021-08-10T00:22:33.352066",
     "status": "completed"
    },
    "tags": []
   },
   "outputs": [],
   "source": [
    "# #hide\n",
    "# fig, ax = plt.subplots(figsize=(15, 8))\n",
    "\n",
    "# def draw_barchart(current_day):\n",
    "#     dff = g[g['day'].eq(current_day)].sort_values(by='value', ascending=True).tail(10)\n",
    "#     ax.clear()\n",
    "#     ax.barh(dff['name'], dff['value'], color=[colors[group_lk[x]] for x in dff['name']])\n",
    "#     dx = dff['value'].max() / 200\n",
    "    \n",
    "#     for i, (value, name) in enumerate(zip(dff['value'], dff['name'])):\n",
    "#         ax.text(value-dx, i,     name,           size=14, weight=600, ha='right', va='bottom')\n",
    "#         ax.text(value-dx, i-.25, group_lk[name], size=10, color='#444444', ha='right', va='baseline')\n",
    "#         ax.text(value+dx, i,     f'{value:,.0f}',  size=14, ha='left',  va='center')\n",
    "#     ax.text(1, 0.4, current_day, transform=ax.transAxes, color='#777777', size=46, ha='right', weight=800)\n",
    "#     ax.text(0, 1.06, 'Population (thousands)', transform=ax.transAxes, size=12, color='#777777')\n",
    "#     ax.xaxis.set_major_formatter(ticker.StrMethodFormatter('{x:,.0f}'))\n",
    "#     ax.xaxis.set_ticks_position('top')\n",
    "#     ax.tick_params(axis='x', colors='#777777', labelsize=12)\n",
    "#     ax.set_yticks([])\n",
    "#     ax.margins(0, 0.01)\n",
    "#     ax.grid(which='major', axis='x', linestyle='-')\n",
    "#     ax.set_axisbelow(True)\n",
    "    \n",
    "#     ax.text(0, 1.15, 'Coronavirus',\n",
    "#             transform=ax.transAxes, size=24, weight=600, ha='left', va='top')\n",
    "# #     ax.text(1, 0, 'by @pratapvardhan; credit @jburnmurdoch', transform=ax.transAxes, color='#777777', ha='right',\n",
    "# #             bbox=dict(facecolor='white', alpha=0.8, edgecolor='white'))\n",
    "#     plt.box(False)"
   ]
  },
  {
   "cell_type": "code",
   "execution_count": 42,
   "id": "sexual-wages",
   "metadata": {
    "execution": {
     "iopub.execute_input": "2021-08-10T00:22:33.481173Z",
     "iopub.status.busy": "2021-08-10T00:22:33.480591Z",
     "iopub.status.idle": "2021-08-10T00:22:33.482441Z",
     "shell.execute_reply": "2021-08-10T00:22:33.482925Z"
    },
    "papermill": {
     "duration": 0.04262,
     "end_time": "2021-08-10T00:22:33.483043",
     "exception": false,
     "start_time": "2021-08-10T00:22:33.440423",
     "status": "completed"
    },
    "tags": []
   },
   "outputs": [],
   "source": [
    "# #hide_input\n",
    "# fig, ax = plt.subplots(figsize=(15, 8))\n",
    "# animator = animation.FuncAnimation(fig, draw_barchart, frames=range(g.day.values.min(), g.day.values.max()))\n",
    "# HTML(animator.to_jshtml())\n",
    "# # or use animator.to_html5_video() or animator.save() "
   ]
  },
  {
   "cell_type": "code",
   "execution_count": null,
   "id": "australian-container",
   "metadata": {
    "papermill": {
     "duration": 0.035786,
     "end_time": "2021-08-10T00:22:33.558797",
     "exception": false,
     "start_time": "2021-08-10T00:22:33.523011",
     "status": "completed"
    },
    "tags": []
   },
   "outputs": [],
   "source": []
  },
  {
   "cell_type": "code",
   "execution_count": null,
   "id": "mediterranean-pontiac",
   "metadata": {
    "papermill": {
     "duration": 0.041183,
     "end_time": "2021-08-10T00:22:33.637332",
     "exception": false,
     "start_time": "2021-08-10T00:22:33.596149",
     "status": "completed"
    },
    "tags": []
   },
   "outputs": [],
   "source": []
  },
  {
   "cell_type": "code",
   "execution_count": null,
   "id": "aging-legislature",
   "metadata": {
    "papermill": {
     "duration": 0.039494,
     "end_time": "2021-08-10T00:22:33.715028",
     "exception": false,
     "start_time": "2021-08-10T00:22:33.675534",
     "status": "completed"
    },
    "tags": []
   },
   "outputs": [],
   "source": []
  }
 ],
 "metadata": {
  "kernelspec": {
   "display_name": "Python 3",
   "language": "python",
   "name": "python3"
  },
  "language_info": {
   "codemirror_mode": {
    "name": "ipython",
    "version": 3
   },
   "file_extension": ".py",
   "mimetype": "text/x-python",
   "name": "python",
   "nbconvert_exporter": "python",
   "pygments_lexer": "ipython3",
   "version": "3.6.14"
  },
  "papermill": {
   "duration": 7.276189,
   "end_time": "2021-08-10T00:22:34.060234",
   "environment_variables": {},
   "exception": null,
   "input_path": "2020-03-21-covid19exp.ipynb",
   "output_path": "2020-03-21-covid19exp.ipynb",
   "parameters": {},
   "start_time": "2021-08-10T00:22:26.784045",
   "version": "2.0.0"
  }
 },
 "nbformat": 4,
 "nbformat_minor": 5
}