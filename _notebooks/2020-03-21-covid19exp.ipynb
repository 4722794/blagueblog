{
 "cells": [
  {
   "cell_type": "markdown",
   "id": "muslim-click",
   "metadata": {
    "papermill": {
     "duration": 0.040327,
     "end_time": "2021-01-25T12:24:53.324052",
     "exception": false,
     "start_time": "2021-01-25T12:24:53.283725",
     "status": "completed"
    },
    "tags": []
   },
   "source": [
    "# COVID-19 Case Race\n",
    "> A race chart to see rising cases around the world\n",
    "\n",
    "- author: Hargun Oberoi\n",
    "- image: images/covid-overview.png\n",
    "- hide: false\n",
    "- badges: false"
   ]
  },
  {
   "cell_type": "code",
   "execution_count": 1,
   "id": "proof-material",
   "metadata": {
    "execution": {
     "iopub.execute_input": "2021-01-25T12:24:53.400389Z",
     "iopub.status.busy": "2021-01-25T12:24:53.399796Z",
     "iopub.status.idle": "2021-01-25T12:24:53.714719Z",
     "shell.execute_reply": "2021-01-25T12:24:53.713316Z"
    },
    "papermill": {
     "duration": 0.358621,
     "end_time": "2021-01-25T12:24:53.714968",
     "exception": false,
     "start_time": "2021-01-25T12:24:53.356347",
     "status": "completed"
    },
    "tags": []
   },
   "outputs": [],
   "source": [
    "#hide\n",
    "import numpy as np\n",
    "import pandas as pd\n",
    "from jinja2 import Template\n",
    "from IPython.display import HTML"
   ]
  },
  {
   "cell_type": "code",
   "execution_count": 2,
   "id": "developed-terminology",
   "metadata": {
    "execution": {
     "iopub.execute_input": "2021-01-25T12:24:53.783821Z",
     "iopub.status.busy": "2021-01-25T12:24:53.783224Z",
     "iopub.status.idle": "2021-01-25T12:24:53.785266Z",
     "shell.execute_reply": "2021-01-25T12:24:53.785667Z"
    },
    "papermill": {
     "duration": 0.037335,
     "end_time": "2021-01-25T12:24:53.785776",
     "exception": false,
     "start_time": "2021-01-25T12:24:53.748441",
     "status": "completed"
    },
    "tags": []
   },
   "outputs": [],
   "source": [
    "#hide\n",
    "\n",
    "# FETCH\n",
    "base_url = 'https://raw.githubusercontent.com/pratapvardhan/notebooks/master/covid19/'\n",
    "paths = {\n",
    "    'mapping': base_url + 'mapping_countries.csv',\n",
    "    'overview': base_url + 'overview.tpl'\n",
    "}"
   ]
  },
  {
   "cell_type": "code",
   "execution_count": 3,
   "id": "dynamic-saver",
   "metadata": {
    "execution": {
     "iopub.execute_input": "2021-01-25T12:24:53.855640Z",
     "iopub.status.busy": "2021-01-25T12:24:53.855058Z",
     "iopub.status.idle": "2021-01-25T12:24:53.858088Z",
     "shell.execute_reply": "2021-01-25T12:24:53.857595Z"
    },
    "papermill": {
     "duration": 0.043783,
     "end_time": "2021-01-25T12:24:53.858213",
     "exception": false,
     "start_time": "2021-01-25T12:24:53.814430",
     "status": "completed"
    },
    "tags": []
   },
   "outputs": [
    {
     "data": {
      "text/plain": [
       "'https://raw.githubusercontent.com/pratapvardhan/notebooks/master/covid19/mapping_countries.csv'"
      ]
     },
     "execution_count": 3,
     "metadata": {},
     "output_type": "execute_result"
    }
   ],
   "source": [
    "#hide\n",
    "paths['mapping']"
   ]
  },
  {
   "cell_type": "code",
   "execution_count": 4,
   "id": "urban-software",
   "metadata": {
    "execution": {
     "iopub.execute_input": "2021-01-25T12:24:53.926930Z",
     "iopub.status.busy": "2021-01-25T12:24:53.926352Z",
     "iopub.status.idle": "2021-01-25T12:24:53.928993Z",
     "shell.execute_reply": "2021-01-25T12:24:53.929541Z"
    },
    "papermill": {
     "duration": 0.039973,
     "end_time": "2021-01-25T12:24:53.929691",
     "exception": false,
     "start_time": "2021-01-25T12:24:53.889718",
     "status": "completed"
    },
    "tags": []
   },
   "outputs": [],
   "source": [
    "#hide\n",
    "def get_mappings(url):\n",
    "    df = pd.read_csv(url)\n",
    "    return {\n",
    "        'df': df,\n",
    "        'replace.country': dict(df.dropna(subset=['Name']).set_index('Country')['Name']),\n",
    "        'map.continent': dict(df.set_index('Name')['Continent'])\n",
    "    }"
   ]
  },
  {
   "cell_type": "code",
   "execution_count": 5,
   "id": "intimate-machinery",
   "metadata": {
    "execution": {
     "iopub.execute_input": "2021-01-25T12:24:54.000173Z",
     "iopub.status.busy": "2021-01-25T12:24:53.999630Z",
     "iopub.status.idle": "2021-01-25T12:24:54.025451Z",
     "shell.execute_reply": "2021-01-25T12:24:54.025994Z"
    },
    "papermill": {
     "duration": 0.063981,
     "end_time": "2021-01-25T12:24:54.026142",
     "exception": false,
     "start_time": "2021-01-25T12:24:53.962161",
     "status": "completed"
    },
    "tags": []
   },
   "outputs": [],
   "source": [
    "#hide\n",
    "mapping = get_mappings(paths['mapping'])"
   ]
  },
  {
   "cell_type": "code",
   "execution_count": 6,
   "id": "certified-tactics",
   "metadata": {
    "execution": {
     "iopub.execute_input": "2021-01-25T12:24:54.099502Z",
     "iopub.status.busy": "2021-01-25T12:24:54.098476Z",
     "iopub.status.idle": "2021-01-25T12:24:54.100560Z",
     "shell.execute_reply": "2021-01-25T12:24:54.101419Z"
    },
    "papermill": {
     "duration": 0.043224,
     "end_time": "2021-01-25T12:24:54.101657",
     "exception": false,
     "start_time": "2021-01-25T12:24:54.058433",
     "status": "completed"
    },
    "tags": []
   },
   "outputs": [],
   "source": [
    "#hide\n",
    "def get_template(path):\n",
    "    from urllib.parse import urlparse\n",
    "    if bool(urlparse(path).netloc):\n",
    "        from urllib.request import urlopen\n",
    "        return urlopen(path).read().decode('utf8')\n",
    "    return open(path).read()"
   ]
  },
  {
   "cell_type": "code",
   "execution_count": 7,
   "id": "realistic-blast",
   "metadata": {
    "execution": {
     "iopub.execute_input": "2021-01-25T12:24:54.172224Z",
     "iopub.status.busy": "2021-01-25T12:24:54.171631Z",
     "iopub.status.idle": "2021-01-25T12:24:54.174474Z",
     "shell.execute_reply": "2021-01-25T12:24:54.174004Z"
    },
    "papermill": {
     "duration": 0.040832,
     "end_time": "2021-01-25T12:24:54.174598",
     "exception": false,
     "start_time": "2021-01-25T12:24:54.133766",
     "status": "completed"
    },
    "tags": []
   },
   "outputs": [],
   "source": [
    "#hide\n",
    "def get_frame(name):\n",
    "    url = (\n",
    "        'https://raw.githubusercontent.com/CSSEGISandData/COVID-19/master/csse_covid_19_data/'\n",
    "        f'csse_covid_19_time_series/time_series_covid19_{name}_global.csv')\n",
    "    df = pd.read_csv(url)\n",
    "    # rename countries\n",
    "    df['Country/Region'] = df['Country/Region'].replace(mapping['replace.country'])\n",
    "    return df"
   ]
  },
  {
   "cell_type": "code",
   "execution_count": 8,
   "id": "affiliated-characterization",
   "metadata": {
    "execution": {
     "iopub.execute_input": "2021-01-25T12:24:54.244508Z",
     "iopub.status.busy": "2021-01-25T12:24:54.243931Z",
     "iopub.status.idle": "2021-01-25T12:24:54.246299Z",
     "shell.execute_reply": "2021-01-25T12:24:54.246750Z"
    },
    "papermill": {
     "duration": 0.041356,
     "end_time": "2021-01-25T12:24:54.246881",
     "exception": false,
     "start_time": "2021-01-25T12:24:54.205525",
     "status": "completed"
    },
    "tags": []
   },
   "outputs": [],
   "source": [
    "#hide\n",
    "def get_dates(df):\n",
    "    dt_cols = df.columns[~df.columns.isin(['Province/State', 'Country/Region', 'Lat', 'Long'])]\n",
    "    LAST_DATE_I = -1\n",
    "    # sometimes last column may be empty, then go backwards\n",
    "    for i in range(-1, -len(dt_cols), -1):\n",
    "        if not df[dt_cols[i]].fillna(0).eq(0).all():\n",
    "            LAST_DATE_I = i\n",
    "            break\n",
    "    return LAST_DATE_I, dt_cols"
   ]
  },
  {
   "cell_type": "code",
   "execution_count": 9,
   "id": "recent-optimization",
   "metadata": {
    "execution": {
     "iopub.execute_input": "2021-01-25T12:24:54.311286Z",
     "iopub.status.busy": "2021-01-25T12:24:54.310794Z",
     "iopub.status.idle": "2021-01-25T12:24:54.523551Z",
     "shell.execute_reply": "2021-01-25T12:24:54.524024Z"
    },
    "papermill": {
     "duration": 0.249031,
     "end_time": "2021-01-25T12:24:54.524198",
     "exception": false,
     "start_time": "2021-01-25T12:24:54.275167",
     "status": "completed"
    },
    "tags": []
   },
   "outputs": [],
   "source": [
    "#hide\n",
    "COL_REGION = 'Country/Region'\n",
    "# Confirmed, Recovered, Deaths\n",
    "df = get_frame('confirmed')\n",
    "# dft_: timeseries, dfc_: today country agg\n",
    "dft_cases = df\n",
    "dft_deaths = get_frame('deaths')\n",
    "dft_recovered = get_frame('recovered')\n",
    "LAST_DATE_I, dt_cols = get_dates(df)"
   ]
  },
  {
   "cell_type": "code",
   "execution_count": 10,
   "id": "absolute-copper",
   "metadata": {
    "execution": {
     "iopub.execute_input": "2021-01-25T12:24:54.601429Z",
     "iopub.status.busy": "2021-01-25T12:24:54.600823Z",
     "iopub.status.idle": "2021-01-25T12:24:54.602836Z",
     "shell.execute_reply": "2021-01-25T12:24:54.603330Z"
    },
    "papermill": {
     "duration": 0.041644,
     "end_time": "2021-01-25T12:24:54.603468",
     "exception": false,
     "start_time": "2021-01-25T12:24:54.561824",
     "status": "completed"
    },
    "tags": []
   },
   "outputs": [],
   "source": [
    "#hide\n",
    "LAST_DATE_I, dt_cols = get_dates(df)\n",
    "dt_today =dt_cols[LAST_DATE_I]\n",
    "# dt_5day = dt_cols[LAST_DATE_I - 5]\n",
    "dt_yday = dt_cols[LAST_DATE_I - 1]"
   ]
  },
  {
   "cell_type": "code",
   "execution_count": 11,
   "id": "restricted-sheriff",
   "metadata": {
    "execution": {
     "iopub.execute_input": "2021-01-25T12:24:54.675271Z",
     "iopub.status.busy": "2021-01-25T12:24:54.674738Z",
     "iopub.status.idle": "2021-01-25T12:24:54.682515Z",
     "shell.execute_reply": "2021-01-25T12:24:54.682047Z"
    },
    "papermill": {
     "duration": 0.045991,
     "end_time": "2021-01-25T12:24:54.682662",
     "exception": false,
     "start_time": "2021-01-25T12:24:54.636671",
     "status": "completed"
    },
    "tags": []
   },
   "outputs": [],
   "source": [
    "#hide\n",
    "dfc_cases = dft_cases.groupby(COL_REGION)[dt_today].sum()\n",
    "dfc_deaths = dft_deaths.groupby(COL_REGION)[dt_today].sum()\n",
    "# dfp_cases = dft_cases.groupby(COL_REGION)[dt_5day].sum()\n",
    "# dfp_deaths = dft_deaths.groupby(COL_REGION)[dt_5day].sum()\n",
    "dfp_cases = dft_cases.groupby(COL_REGION)[dt_yday].sum()\n",
    "dfp_deaths = dft_deaths.groupby(COL_REGION)[dt_yday].sum()"
   ]
  },
  {
   "cell_type": "code",
   "execution_count": 12,
   "id": "deluxe-hepatitis",
   "metadata": {
    "execution": {
     "iopub.execute_input": "2021-01-25T12:24:54.755492Z",
     "iopub.status.busy": "2021-01-25T12:24:54.754905Z",
     "iopub.status.idle": "2021-01-25T12:24:54.759793Z",
     "shell.execute_reply": "2021-01-25T12:24:54.759289Z"
    },
    "papermill": {
     "duration": 0.044445,
     "end_time": "2021-01-25T12:24:54.759912",
     "exception": false,
     "start_time": "2021-01-25T12:24:54.715467",
     "status": "completed"
    },
    "tags": []
   },
   "outputs": [],
   "source": [
    "#hide\n",
    "df_table = (pd.DataFrame(dict(Cases = dfc_cases, Deaths = dfc_deaths, PCases = dfp_cases, PDeaths = dfp_deaths))\n",
    "            .sort_values(by = ['Cases','Deaths'], ascending = [False, False])\n",
    "            .reset_index())"
   ]
  },
  {
   "cell_type": "code",
   "execution_count": 13,
   "id": "educational-chancellor",
   "metadata": {
    "execution": {
     "iopub.execute_input": "2021-01-25T12:24:54.844188Z",
     "iopub.status.busy": "2021-01-25T12:24:54.838707Z",
     "iopub.status.idle": "2021-01-25T12:24:54.852264Z",
     "shell.execute_reply": "2021-01-25T12:24:54.852879Z"
    },
    "papermill": {
     "duration": 0.060468,
     "end_time": "2021-01-25T12:24:54.853000",
     "exception": false,
     "start_time": "2021-01-25T12:24:54.792532",
     "status": "completed"
    },
    "tags": []
   },
   "outputs": [
    {
     "data": {
      "text/html": [
       "<div>\n",
       "<style scoped>\n",
       "    .dataframe tbody tr th:only-of-type {\n",
       "        vertical-align: middle;\n",
       "    }\n",
       "\n",
       "    .dataframe tbody tr th {\n",
       "        vertical-align: top;\n",
       "    }\n",
       "\n",
       "    .dataframe thead th {\n",
       "        text-align: right;\n",
       "    }\n",
       "</style>\n",
       "<table border=\"1\" class=\"dataframe\">\n",
       "  <thead>\n",
       "    <tr style=\"text-align: right;\">\n",
       "      <th></th>\n",
       "      <th>Country/Region</th>\n",
       "      <th>Cases</th>\n",
       "      <th>Deaths</th>\n",
       "      <th>PCases</th>\n",
       "      <th>PDeaths</th>\n",
       "      <th>Cases (+)</th>\n",
       "      <th>Deaths (+)</th>\n",
       "      <th>Fatality Rate</th>\n",
       "      <th>Continent</th>\n",
       "    </tr>\n",
       "  </thead>\n",
       "  <tbody>\n",
       "    <tr>\n",
       "      <th>0</th>\n",
       "      <td>US</td>\n",
       "      <td>25127000</td>\n",
       "      <td>419214</td>\n",
       "      <td>24994463</td>\n",
       "      <td>417439</td>\n",
       "      <td>132537</td>\n",
       "      <td>1775</td>\n",
       "      <td>1.67</td>\n",
       "      <td>North America</td>\n",
       "    </tr>\n",
       "    <tr>\n",
       "      <th>1</th>\n",
       "      <td>India</td>\n",
       "      <td>10667736</td>\n",
       "      <td>153470</td>\n",
       "      <td>10654533</td>\n",
       "      <td>153339</td>\n",
       "      <td>13203</td>\n",
       "      <td>131</td>\n",
       "      <td>1.44</td>\n",
       "      <td>Asia</td>\n",
       "    </tr>\n",
       "    <tr>\n",
       "      <th>2</th>\n",
       "      <td>Brazil</td>\n",
       "      <td>8844577</td>\n",
       "      <td>217037</td>\n",
       "      <td>8816254</td>\n",
       "      <td>216445</td>\n",
       "      <td>28323</td>\n",
       "      <td>592</td>\n",
       "      <td>2.45</td>\n",
       "      <td>South America</td>\n",
       "    </tr>\n",
       "    <tr>\n",
       "      <th>3</th>\n",
       "      <td>Russia</td>\n",
       "      <td>3679247</td>\n",
       "      <td>68397</td>\n",
       "      <td>3658447</td>\n",
       "      <td>67919</td>\n",
       "      <td>20800</td>\n",
       "      <td>478</td>\n",
       "      <td>1.86</td>\n",
       "      <td>Europe</td>\n",
       "    </tr>\n",
       "    <tr>\n",
       "      <th>4</th>\n",
       "      <td>United Kingdom</td>\n",
       "      <td>3657857</td>\n",
       "      <td>98129</td>\n",
       "      <td>3627746</td>\n",
       "      <td>97518</td>\n",
       "      <td>30111</td>\n",
       "      <td>611</td>\n",
       "      <td>2.68</td>\n",
       "      <td>Europe</td>\n",
       "    </tr>\n",
       "  </tbody>\n",
       "</table>\n",
       "</div>"
      ],
      "text/plain": [
       "   Country/Region     Cases  Deaths    PCases  PDeaths  Cases (+)  Deaths (+)  \\\n",
       "0              US  25127000  419214  24994463   417439     132537        1775   \n",
       "1           India  10667736  153470  10654533   153339      13203         131   \n",
       "2          Brazil   8844577  217037   8816254   216445      28323         592   \n",
       "3          Russia   3679247   68397   3658447    67919      20800         478   \n",
       "4  United Kingdom   3657857   98129   3627746    97518      30111         611   \n",
       "\n",
       "   Fatality Rate      Continent  \n",
       "0           1.67  North America  \n",
       "1           1.44           Asia  \n",
       "2           2.45  South America  \n",
       "3           1.86         Europe  \n",
       "4           2.68         Europe  "
      ]
     },
     "execution_count": 13,
     "metadata": {},
     "output_type": "execute_result"
    }
   ],
   "source": [
    "#hide\n",
    "for c in 'Cases, Deaths'.split(', '):\n",
    "    df_table[f'{c} (+)'] = (df_table[c] - df_table[f'P{c}']).clip(0)\n",
    "    #Clip ça veut dire, les chiffres negatif sont interdit\n",
    "df_table['Fatality Rate'] = (100* df_table['Deaths']/ df_table['Cases']).round(2)\n",
    "df_table['Continent'] = df_table['Country/Region'].map(mapping['map.continent'])\n",
    "df_table.head(5)"
   ]
  },
  {
   "cell_type": "code",
   "execution_count": 14,
   "id": "aboriginal-bulgaria",
   "metadata": {
    "execution": {
     "iopub.execute_input": "2021-01-25T12:24:54.924864Z",
     "iopub.status.busy": "2021-01-25T12:24:54.924312Z",
     "iopub.status.idle": "2021-01-25T12:24:54.926472Z",
     "shell.execute_reply": "2021-01-25T12:24:54.926066Z"
    },
    "papermill": {
     "duration": 0.040144,
     "end_time": "2021-01-25T12:24:54.926596",
     "exception": false,
     "start_time": "2021-01-25T12:24:54.886452",
     "status": "completed"
    },
    "tags": []
   },
   "outputs": [],
   "source": [
    "#hide\n",
    "#delete problematic countries from table\n",
    "df_table = df_table[~df_table['Country/Region'].isin(['Cape Verde', 'Cruise Ship', 'Kosovo'])]"
   ]
  },
  {
   "cell_type": "code",
   "execution_count": 15,
   "id": "fantastic-effect",
   "metadata": {
    "execution": {
     "iopub.execute_input": "2021-01-25T12:24:55.002814Z",
     "iopub.status.busy": "2021-01-25T12:24:55.002231Z",
     "iopub.status.idle": "2021-01-25T12:24:55.020014Z",
     "shell.execute_reply": "2021-01-25T12:24:55.020656Z"
    },
    "papermill": {
     "duration": 0.061125,
     "end_time": "2021-01-25T12:24:55.020845",
     "exception": false,
     "start_time": "2021-01-25T12:24:54.959720",
     "status": "completed"
    },
    "tags": []
   },
   "outputs": [
    {
     "data": {
      "text/html": [
       "<div>\n",
       "<style scoped>\n",
       "    .dataframe tbody tr th:only-of-type {\n",
       "        vertical-align: middle;\n",
       "    }\n",
       "\n",
       "    .dataframe tbody tr th {\n",
       "        vertical-align: top;\n",
       "    }\n",
       "\n",
       "    .dataframe thead th {\n",
       "        text-align: right;\n",
       "    }\n",
       "</style>\n",
       "<table border=\"1\" class=\"dataframe\">\n",
       "  <thead>\n",
       "    <tr style=\"text-align: right;\">\n",
       "      <th></th>\n",
       "      <th>Country/Region</th>\n",
       "      <th>Cases</th>\n",
       "      <th>Deaths</th>\n",
       "      <th>PCases</th>\n",
       "      <th>PDeaths</th>\n",
       "      <th>Cases (+)</th>\n",
       "      <th>Deaths (+)</th>\n",
       "      <th>Fatality Rate</th>\n",
       "      <th>Continent</th>\n",
       "    </tr>\n",
       "  </thead>\n",
       "  <tbody>\n",
       "    <tr>\n",
       "      <th>0</th>\n",
       "      <td>US</td>\n",
       "      <td>25127000</td>\n",
       "      <td>419214</td>\n",
       "      <td>24994463</td>\n",
       "      <td>417439</td>\n",
       "      <td>132537</td>\n",
       "      <td>1775</td>\n",
       "      <td>1.7</td>\n",
       "      <td>North America</td>\n",
       "    </tr>\n",
       "    <tr>\n",
       "      <th>1</th>\n",
       "      <td>India</td>\n",
       "      <td>10667736</td>\n",
       "      <td>153470</td>\n",
       "      <td>10654533</td>\n",
       "      <td>153339</td>\n",
       "      <td>13203</td>\n",
       "      <td>131</td>\n",
       "      <td>1.4</td>\n",
       "      <td>Asia</td>\n",
       "    </tr>\n",
       "    <tr>\n",
       "      <th>2</th>\n",
       "      <td>Brazil</td>\n",
       "      <td>8844577</td>\n",
       "      <td>217037</td>\n",
       "      <td>8816254</td>\n",
       "      <td>216445</td>\n",
       "      <td>28323</td>\n",
       "      <td>592</td>\n",
       "      <td>2.5</td>\n",
       "      <td>South America</td>\n",
       "    </tr>\n",
       "    <tr>\n",
       "      <th>3</th>\n",
       "      <td>Russia</td>\n",
       "      <td>3679247</td>\n",
       "      <td>68397</td>\n",
       "      <td>3658447</td>\n",
       "      <td>67919</td>\n",
       "      <td>20800</td>\n",
       "      <td>478</td>\n",
       "      <td>1.9</td>\n",
       "      <td>Europe</td>\n",
       "    </tr>\n",
       "    <tr>\n",
       "      <th>4</th>\n",
       "      <td>United Kingdom</td>\n",
       "      <td>3657857</td>\n",
       "      <td>98129</td>\n",
       "      <td>3627746</td>\n",
       "      <td>97518</td>\n",
       "      <td>30111</td>\n",
       "      <td>611</td>\n",
       "      <td>2.7</td>\n",
       "      <td>Europe</td>\n",
       "    </tr>\n",
       "  </tbody>\n",
       "</table>\n",
       "</div>"
      ],
      "text/plain": [
       "   Country/Region     Cases  Deaths    PCases  PDeaths  Cases (+)  Deaths (+)  \\\n",
       "0              US  25127000  419214  24994463   417439     132537        1775   \n",
       "1           India  10667736  153470  10654533   153339      13203         131   \n",
       "2          Brazil   8844577  217037   8816254   216445      28323         592   \n",
       "3          Russia   3679247   68397   3658447    67919      20800         478   \n",
       "4  United Kingdom   3657857   98129   3627746    97518      30111         611   \n",
       "\n",
       "   Fatality Rate      Continent  \n",
       "0            1.7  North America  \n",
       "1            1.4           Asia  \n",
       "2            2.5  South America  \n",
       "3            1.9         Europe  \n",
       "4            2.7         Europe  "
      ]
     },
     "execution_count": 15,
     "metadata": {},
     "output_type": "execute_result"
    }
   ],
   "source": [
    "#hide\n",
    "df_table = (pd.DataFrame(dict(Cases=dfc_cases, Deaths=dfc_deaths, PCases=dfp_cases, PDeaths=dfp_deaths))\n",
    "             .sort_values(by=['Cases', 'Deaths'], ascending=[False, False])\n",
    "             .reset_index())\n",
    "df_table.rename(columns={'index': 'Country/Region'}, inplace=True)\n",
    "for c in 'Cases, Deaths'.split(', '):\n",
    "    df_table[f'{c} (+)'] = (df_table[c] - df_table[f'P{c}']).clip(0)  # DATA BUG\n",
    "df_table['Fatality Rate'] = (100 * df_table['Deaths'] / df_table['Cases']).round(1)\n",
    "df_table['Continent'] = df_table['Country/Region'].map(mapping['map.continent'])\n",
    "df_table.head(5)"
   ]
  },
  {
   "cell_type": "code",
   "execution_count": 16,
   "id": "fewer-occasion",
   "metadata": {
    "execution": {
     "iopub.execute_input": "2021-01-25T12:24:55.096370Z",
     "iopub.status.busy": "2021-01-25T12:24:55.095831Z",
     "iopub.status.idle": "2021-01-25T12:24:55.098979Z",
     "shell.execute_reply": "2021-01-25T12:24:55.099388Z"
    },
    "papermill": {
     "duration": 0.042996,
     "end_time": "2021-01-25T12:24:55.099524",
     "exception": false,
     "start_time": "2021-01-25T12:24:55.056528",
     "status": "completed"
    },
    "tags": []
   },
   "outputs": [],
   "source": [
    "#hide\n",
    "#delete problematic countries from table\n",
    "df_table = df_table[~df_table['Country/Region'].isin(['Cape Verde', 'Cruise Ship', 'Kosovo'])]"
   ]
  },
  {
   "cell_type": "code",
   "execution_count": 17,
   "id": "related-center",
   "metadata": {
    "execution": {
     "iopub.execute_input": "2021-01-25T12:24:55.185014Z",
     "iopub.status.busy": "2021-01-25T12:24:55.184431Z",
     "iopub.status.idle": "2021-01-25T12:24:55.192633Z",
     "shell.execute_reply": "2021-01-25T12:24:55.192166Z"
    },
    "papermill": {
     "duration": 0.05928,
     "end_time": "2021-01-25T12:24:55.192752",
     "exception": false,
     "start_time": "2021-01-25T12:24:55.133472",
     "status": "completed"
    },
    "tags": []
   },
   "outputs": [],
   "source": [
    "#hide\n",
    "metrics = [df_table.columns[index] for index in [1,2,5,6]]\n",
    "# s_china = df_table[df_table['Country/Region'].eq('China')][metrics].sum().add_prefix('China ')\n",
    "s_us = df_table[df_table['Country/Region'].eq('US')][metrics].sum().add_prefix('US ')\n",
    "s_eu = df_table[df_table['Continent'].eq('Europe')][metrics].sum().add_prefix('EU ')\n",
    "s_ind = df_table[df_table['Country/Region'].eq('India')][metrics].sum().add_prefix('India ')\n",
    "summary = {'updated': pd.to_datetime(dt_today), 'since': pd.to_datetime(dt_yday)}\n",
    "summary = {'updated': pd.to_datetime(dt_today), 'since': pd.to_datetime(dt_yday)}\n",
    "summary = {**summary, **df_table[metrics].sum(), **s_ind, **s_us, **s_eu}"
   ]
  },
  {
   "cell_type": "code",
   "execution_count": 18,
   "id": "engaging-syndrome",
   "metadata": {
    "execution": {
     "iopub.execute_input": "2021-01-25T12:24:55.264150Z",
     "iopub.status.busy": "2021-01-25T12:24:55.263282Z",
     "iopub.status.idle": "2021-01-25T12:24:55.279413Z",
     "shell.execute_reply": "2021-01-25T12:24:55.279974Z"
    },
    "papermill": {
     "duration": 0.053343,
     "end_time": "2021-01-25T12:24:55.280120",
     "exception": false,
     "start_time": "2021-01-25T12:24:55.226777",
     "status": "completed"
    },
    "tags": []
   },
   "outputs": [],
   "source": [
    "#hide\n",
    "dft_ct_new_cases = dft_cases.groupby(COL_REGION)[dt_cols].sum().diff(axis=1).fillna(0).astype(int)"
   ]
  },
  {
   "cell_type": "code",
   "execution_count": 19,
   "id": "neutral-assignment",
   "metadata": {
    "execution": {
     "iopub.execute_input": "2021-01-25T12:24:55.355144Z",
     "iopub.status.busy": "2021-01-25T12:24:55.354551Z",
     "iopub.status.idle": "2021-01-25T12:24:55.356818Z",
     "shell.execute_reply": "2021-01-25T12:24:55.356328Z"
    },
    "papermill": {
     "duration": 0.042447,
     "end_time": "2021-01-25T12:24:55.356937",
     "exception": false,
     "start_time": "2021-01-25T12:24:55.314490",
     "status": "completed"
    },
    "tags": []
   },
   "outputs": [],
   "source": [
    "#hide\n",
    "everydaycases = dft_ct_new_cases.cumsum(axis=1)"
   ]
  },
  {
   "cell_type": "code",
   "execution_count": 20,
   "id": "parliamentary-calgary",
   "metadata": {
    "execution": {
     "iopub.execute_input": "2021-01-25T12:24:55.431905Z",
     "iopub.status.busy": "2021-01-25T12:24:55.431322Z",
     "iopub.status.idle": "2021-01-25T12:24:57.442814Z",
     "shell.execute_reply": "2021-01-25T12:24:57.442118Z"
    },
    "papermill": {
     "duration": 2.051384,
     "end_time": "2021-01-25T12:24:57.442980",
     "exception": false,
     "start_time": "2021-01-25T12:24:55.391596",
     "status": "completed"
    },
    "tags": []
   },
   "outputs": [],
   "source": [
    "#hide\n",
    "import pandas as pd\n",
    "import matplotlib.pyplot as plt\n",
    "import matplotlib.ticker as ticker\n",
    "import matplotlib.animation as animation\n",
    "from IPython.display import HTML"
   ]
  },
  {
   "cell_type": "code",
   "execution_count": 21,
   "id": "lasting-extraction",
   "metadata": {
    "execution": {
     "iopub.execute_input": "2021-01-25T12:24:57.519532Z",
     "iopub.status.busy": "2021-01-25T12:24:57.518944Z",
     "iopub.status.idle": "2021-01-25T12:24:57.524881Z",
     "shell.execute_reply": "2021-01-25T12:24:57.524221Z"
    },
    "papermill": {
     "duration": 0.045532,
     "end_time": "2021-01-25T12:24:57.525030",
     "exception": false,
     "start_time": "2021-01-25T12:24:57.479498",
     "status": "completed"
    },
    "tags": []
   },
   "outputs": [],
   "source": [
    "#hide\n",
    "t = everydaycases.stack()"
   ]
  },
  {
   "cell_type": "code",
   "execution_count": 22,
   "id": "premier-sleeve",
   "metadata": {
    "execution": {
     "iopub.execute_input": "2021-01-25T12:24:57.599110Z",
     "iopub.status.busy": "2021-01-25T12:24:57.598532Z",
     "iopub.status.idle": "2021-01-25T12:24:57.606956Z",
     "shell.execute_reply": "2021-01-25T12:24:57.606479Z"
    },
    "papermill": {
     "duration": 0.047899,
     "end_time": "2021-01-25T12:24:57.607084",
     "exception": false,
     "start_time": "2021-01-25T12:24:57.559185",
     "status": "completed"
    },
    "tags": []
   },
   "outputs": [],
   "source": [
    "#hide\n",
    "g = t.reset_index(['Country/Region'])"
   ]
  },
  {
   "cell_type": "code",
   "execution_count": 23,
   "id": "distributed-pittsburgh",
   "metadata": {
    "execution": {
     "iopub.execute_input": "2021-01-25T12:24:57.680488Z",
     "iopub.status.busy": "2021-01-25T12:24:57.679911Z",
     "iopub.status.idle": "2021-01-25T12:24:57.682520Z",
     "shell.execute_reply": "2021-01-25T12:24:57.682012Z"
    },
    "papermill": {
     "duration": 0.041233,
     "end_time": "2021-01-25T12:24:57.682642",
     "exception": false,
     "start_time": "2021-01-25T12:24:57.641409",
     "status": "completed"
    },
    "tags": []
   },
   "outputs": [],
   "source": [
    "#hide\n",
    "g.index.name = 'date'"
   ]
  },
  {
   "cell_type": "code",
   "execution_count": 24,
   "id": "naked-donor",
   "metadata": {
    "execution": {
     "iopub.execute_input": "2021-01-25T12:24:57.754743Z",
     "iopub.status.busy": "2021-01-25T12:24:57.754164Z",
     "iopub.status.idle": "2021-01-25T12:24:57.755881Z",
     "shell.execute_reply": "2021-01-25T12:24:57.756350Z"
    },
    "papermill": {
     "duration": 0.039922,
     "end_time": "2021-01-25T12:24:57.756491",
     "exception": false,
     "start_time": "2021-01-25T12:24:57.716569",
     "status": "completed"
    },
    "tags": []
   },
   "outputs": [],
   "source": [
    "# #hide\n",
    "# g = g.reset_index(['date'])"
   ]
  },
  {
   "cell_type": "code",
   "execution_count": 25,
   "id": "incomplete-mustang",
   "metadata": {
    "execution": {
     "iopub.execute_input": "2021-01-25T12:24:57.828725Z",
     "iopub.status.busy": "2021-01-25T12:24:57.828147Z",
     "iopub.status.idle": "2021-01-25T12:24:57.830095Z",
     "shell.execute_reply": "2021-01-25T12:24:57.830562Z"
    },
    "papermill": {
     "duration": 0.040008,
     "end_time": "2021-01-25T12:24:57.830702",
     "exception": false,
     "start_time": "2021-01-25T12:24:57.790694",
     "status": "completed"
    },
    "tags": []
   },
   "outputs": [],
   "source": [
    "#hide\n",
    "# g.head()"
   ]
  },
  {
   "cell_type": "code",
   "execution_count": 26,
   "id": "specific-kruger",
   "metadata": {
    "execution": {
     "iopub.execute_input": "2021-01-25T12:24:57.906483Z",
     "iopub.status.busy": "2021-01-25T12:24:57.905808Z",
     "iopub.status.idle": "2021-01-25T12:24:57.907513Z",
     "shell.execute_reply": "2021-01-25T12:24:57.907014Z"
    },
    "papermill": {
     "duration": 0.042744,
     "end_time": "2021-01-25T12:24:57.907634",
     "exception": false,
     "start_time": "2021-01-25T12:24:57.864890",
     "status": "completed"
    },
    "tags": []
   },
   "outputs": [],
   "source": [
    "#hide\n",
    "# g.columns = ['date','country','cases']"
   ]
  },
  {
   "cell_type": "code",
   "execution_count": 27,
   "id": "tender-conversion",
   "metadata": {
    "execution": {
     "iopub.execute_input": "2021-01-25T12:24:57.979554Z",
     "iopub.status.busy": "2021-01-25T12:24:57.978962Z",
     "iopub.status.idle": "2021-01-25T12:24:57.981149Z",
     "shell.execute_reply": "2021-01-25T12:24:57.980547Z"
    },
    "papermill": {
     "duration": 0.039822,
     "end_time": "2021-01-25T12:24:57.981273",
     "exception": false,
     "start_time": "2021-01-25T12:24:57.941451",
     "status": "completed"
    },
    "tags": []
   },
   "outputs": [],
   "source": [
    "#hide\n",
    "# g['continent'] = g.country"
   ]
  },
  {
   "cell_type": "code",
   "execution_count": 28,
   "id": "substantial-wilderness",
   "metadata": {
    "execution": {
     "iopub.execute_input": "2021-01-25T12:24:58.058163Z",
     "iopub.status.busy": "2021-01-25T12:24:58.057573Z",
     "iopub.status.idle": "2021-01-25T12:24:58.059650Z",
     "shell.execute_reply": "2021-01-25T12:24:58.060189Z"
    },
    "papermill": {
     "duration": 0.043298,
     "end_time": "2021-01-25T12:24:58.060331",
     "exception": false,
     "start_time": "2021-01-25T12:24:58.017033",
     "status": "completed"
    },
    "tags": []
   },
   "outputs": [],
   "source": [
    "#hide\n",
    "# cols = list(g.columns.values)"
   ]
  },
  {
   "cell_type": "code",
   "execution_count": 29,
   "id": "solved-farming",
   "metadata": {
    "execution": {
     "iopub.execute_input": "2021-01-25T12:24:58.133697Z",
     "iopub.status.busy": "2021-01-25T12:24:58.133097Z",
     "iopub.status.idle": "2021-01-25T12:24:58.135645Z",
     "shell.execute_reply": "2021-01-25T12:24:58.135043Z"
    },
    "papermill": {
     "duration": 0.040397,
     "end_time": "2021-01-25T12:24:58.135766",
     "exception": false,
     "start_time": "2021-01-25T12:24:58.095369",
     "status": "completed"
    },
    "tags": []
   },
   "outputs": [],
   "source": [
    "#hide\n",
    "# cols.insert(0, cols.pop())"
   ]
  },
  {
   "cell_type": "code",
   "execution_count": 30,
   "id": "executed-adoption",
   "metadata": {
    "execution": {
     "iopub.execute_input": "2021-01-25T12:24:58.209146Z",
     "iopub.status.busy": "2021-01-25T12:24:58.208550Z",
     "iopub.status.idle": "2021-01-25T12:24:58.210767Z",
     "shell.execute_reply": "2021-01-25T12:24:58.211308Z"
    },
    "papermill": {
     "duration": 0.040918,
     "end_time": "2021-01-25T12:24:58.211445",
     "exception": false,
     "start_time": "2021-01-25T12:24:58.170527",
     "status": "completed"
    },
    "tags": []
   },
   "outputs": [],
   "source": [
    "#hide\n",
    "# g = g[cols]"
   ]
  },
  {
   "cell_type": "code",
   "execution_count": 31,
   "id": "subject-dublin",
   "metadata": {
    "execution": {
     "iopub.execute_input": "2021-01-25T12:24:58.299135Z",
     "iopub.status.busy": "2021-01-25T12:24:58.298554Z",
     "iopub.status.idle": "2021-01-25T12:24:58.300923Z",
     "shell.execute_reply": "2021-01-25T12:24:58.301502Z"
    },
    "papermill": {
     "duration": 0.055276,
     "end_time": "2021-01-25T12:24:58.301637",
     "exception": false,
     "start_time": "2021-01-25T12:24:58.246361",
     "status": "completed"
    },
    "tags": []
   },
   "outputs": [],
   "source": [
    "#hide\n",
    "# g['continent'] = g['continent'].map(mapping['map.continent'])"
   ]
  },
  {
   "cell_type": "code",
   "execution_count": 32,
   "id": "freelance-scout",
   "metadata": {
    "execution": {
     "iopub.execute_input": "2021-01-25T12:24:58.374864Z",
     "iopub.status.busy": "2021-01-25T12:24:58.374277Z",
     "iopub.status.idle": "2021-01-25T12:24:58.375828Z",
     "shell.execute_reply": "2021-01-25T12:24:58.376318Z"
    },
    "papermill": {
     "duration": 0.040565,
     "end_time": "2021-01-25T12:24:58.376454",
     "exception": false,
     "start_time": "2021-01-25T12:24:58.335889",
     "status": "completed"
    },
    "tags": []
   },
   "outputs": [],
   "source": [
    "#hide\n",
    "# g.head()"
   ]
  },
  {
   "cell_type": "code",
   "execution_count": 33,
   "id": "limited-engine",
   "metadata": {
    "execution": {
     "iopub.execute_input": "2021-01-25T12:24:58.449677Z",
     "iopub.status.busy": "2021-01-25T12:24:58.449089Z",
     "iopub.status.idle": "2021-01-25T12:24:58.451395Z",
     "shell.execute_reply": "2021-01-25T12:24:58.451951Z"
    },
    "papermill": {
     "duration": 0.041492,
     "end_time": "2021-01-25T12:24:58.452088",
     "exception": false,
     "start_time": "2021-01-25T12:24:58.410596",
     "status": "completed"
    },
    "tags": []
   },
   "outputs": [],
   "source": [
    "# hide\n",
    "# g['date'] = g['date'].astype('datetime64[ns]')"
   ]
  },
  {
   "cell_type": "code",
   "execution_count": 34,
   "id": "sophisticated-supervisor",
   "metadata": {
    "execution": {
     "iopub.execute_input": "2021-01-25T12:24:58.525372Z",
     "iopub.status.busy": "2021-01-25T12:24:58.524765Z",
     "iopub.status.idle": "2021-01-25T12:24:58.527295Z",
     "shell.execute_reply": "2021-01-25T12:24:58.526828Z"
    },
    "papermill": {
     "duration": 0.04081,
     "end_time": "2021-01-25T12:24:58.527420",
     "exception": false,
     "start_time": "2021-01-25T12:24:58.486610",
     "status": "completed"
    },
    "tags": []
   },
   "outputs": [],
   "source": [
    "#hide\n",
    "# g['date'] = g.date.dt.dayofyear"
   ]
  },
  {
   "cell_type": "code",
   "execution_count": 35,
   "id": "inside-dubai",
   "metadata": {
    "execution": {
     "iopub.execute_input": "2021-01-25T12:24:58.596722Z",
     "iopub.status.busy": "2021-01-25T12:24:58.596157Z",
     "iopub.status.idle": "2021-01-25T12:24:58.598612Z",
     "shell.execute_reply": "2021-01-25T12:24:58.598116Z"
    },
    "papermill": {
     "duration": 0.037225,
     "end_time": "2021-01-25T12:24:58.598732",
     "exception": false,
     "start_time": "2021-01-25T12:24:58.561507",
     "status": "completed"
    },
    "tags": []
   },
   "outputs": [],
   "source": [
    "#hide\n",
    "# g = g.rename(columns= {'continent':'group','country':'name','cases':'value'})"
   ]
  },
  {
   "cell_type": "code",
   "execution_count": 36,
   "id": "fleet-motorcycle",
   "metadata": {
    "execution": {
     "iopub.execute_input": "2021-01-25T12:24:58.668772Z",
     "iopub.status.busy": "2021-01-25T12:24:58.668194Z",
     "iopub.status.idle": "2021-01-25T12:24:58.670433Z",
     "shell.execute_reply": "2021-01-25T12:24:58.670881Z"
    },
    "papermill": {
     "duration": 0.039256,
     "end_time": "2021-01-25T12:24:58.671028",
     "exception": false,
     "start_time": "2021-01-25T12:24:58.631772",
     "status": "completed"
    },
    "tags": []
   },
   "outputs": [],
   "source": [
    "#hide\n",
    "# cols = ['name','group','day','value']"
   ]
  },
  {
   "cell_type": "code",
   "execution_count": 37,
   "id": "continued-sleeping",
   "metadata": {
    "execution": {
     "iopub.execute_input": "2021-01-25T12:24:58.736644Z",
     "iopub.status.busy": "2021-01-25T12:24:58.736108Z",
     "iopub.status.idle": "2021-01-25T12:24:58.738302Z",
     "shell.execute_reply": "2021-01-25T12:24:58.737846Z"
    },
    "papermill": {
     "duration": 0.036763,
     "end_time": "2021-01-25T12:24:58.738414",
     "exception": false,
     "start_time": "2021-01-25T12:24:58.701651",
     "status": "completed"
    },
    "tags": []
   },
   "outputs": [],
   "source": [
    "#hide\n",
    "# g.rename(columns= {'date':'day'},inplace = True)"
   ]
  },
  {
   "cell_type": "code",
   "execution_count": 38,
   "id": "major-fight",
   "metadata": {
    "execution": {
     "iopub.execute_input": "2021-01-25T12:24:58.804463Z",
     "iopub.status.busy": "2021-01-25T12:24:58.803896Z",
     "iopub.status.idle": "2021-01-25T12:24:58.806240Z",
     "shell.execute_reply": "2021-01-25T12:24:58.806787Z"
    },
    "papermill": {
     "duration": 0.038772,
     "end_time": "2021-01-25T12:24:58.806918",
     "exception": false,
     "start_time": "2021-01-25T12:24:58.768146",
     "status": "completed"
    },
    "tags": []
   },
   "outputs": [],
   "source": [
    "#hide\n",
    "# g = g[cols]"
   ]
  },
  {
   "cell_type": "code",
   "execution_count": 39,
   "id": "structured-mobile",
   "metadata": {
    "execution": {
     "iopub.execute_input": "2021-01-25T12:24:58.870857Z",
     "iopub.status.busy": "2021-01-25T12:24:58.870276Z",
     "iopub.status.idle": "2021-01-25T12:24:58.873313Z",
     "shell.execute_reply": "2021-01-25T12:24:58.872841Z"
    },
    "papermill": {
     "duration": 0.03647,
     "end_time": "2021-01-25T12:24:58.873427",
     "exception": false,
     "start_time": "2021-01-25T12:24:58.836957",
     "status": "completed"
    },
    "tags": []
   },
   "outputs": [],
   "source": [
    "# #hide\n",
    "# g = g[g.group.notna()]"
   ]
  },
  {
   "cell_type": "code",
   "execution_count": 40,
   "id": "determined-closing",
   "metadata": {
    "execution": {
     "iopub.execute_input": "2021-01-25T12:24:58.943276Z",
     "iopub.status.busy": "2021-01-25T12:24:58.942734Z",
     "iopub.status.idle": "2021-01-25T12:24:58.944910Z",
     "shell.execute_reply": "2021-01-25T12:24:58.944455Z"
    },
    "papermill": {
     "duration": 0.039045,
     "end_time": "2021-01-25T12:24:58.945019",
     "exception": false,
     "start_time": "2021-01-25T12:24:58.905974",
     "status": "completed"
    },
    "tags": []
   },
   "outputs": [],
   "source": [
    "# #hide\n",
    "# colors = dict(zip(\n",
    "#     [\"Oceania\", \"Europe\", \"Asia\", \"South America\", \"Middle East\", \"North America\", \"Africa\"],\n",
    "#     [\"#adb0ff\", \"#ffb3ff\", \"#90d595\", \"#e48381\", \"#aafbff\", \"#f7bb5f\", \"#eafb50\"]\n",
    "# ))\n",
    "# group_lk = g.set_index('name')['group'].to_dict()"
   ]
  },
  {
   "cell_type": "code",
   "execution_count": null,
   "id": "gross-drinking",
   "metadata": {
    "papermill": {
     "duration": 0.029191,
     "end_time": "2021-01-25T12:24:59.007062",
     "exception": false,
     "start_time": "2021-01-25T12:24:58.977871",
     "status": "completed"
    },
    "tags": []
   },
   "outputs": [],
   "source": []
  },
  {
   "cell_type": "code",
   "execution_count": 41,
   "id": "subject-macintosh",
   "metadata": {
    "execution": {
     "iopub.execute_input": "2021-01-25T12:24:59.071453Z",
     "iopub.status.busy": "2021-01-25T12:24:59.070877Z",
     "iopub.status.idle": "2021-01-25T12:24:59.073185Z",
     "shell.execute_reply": "2021-01-25T12:24:59.072694Z"
    },
    "papermill": {
     "duration": 0.036111,
     "end_time": "2021-01-25T12:24:59.073311",
     "exception": false,
     "start_time": "2021-01-25T12:24:59.037200",
     "status": "completed"
    },
    "tags": []
   },
   "outputs": [],
   "source": [
    "# #hide\n",
    "# fig, ax = plt.subplots(figsize=(15, 8))\n",
    "\n",
    "# def draw_barchart(current_day):\n",
    "#     dff = g[g['day'].eq(current_day)].sort_values(by='value', ascending=True).tail(10)\n",
    "#     ax.clear()\n",
    "#     ax.barh(dff['name'], dff['value'], color=[colors[group_lk[x]] for x in dff['name']])\n",
    "#     dx = dff['value'].max() / 200\n",
    "    \n",
    "#     for i, (value, name) in enumerate(zip(dff['value'], dff['name'])):\n",
    "#         ax.text(value-dx, i,     name,           size=14, weight=600, ha='right', va='bottom')\n",
    "#         ax.text(value-dx, i-.25, group_lk[name], size=10, color='#444444', ha='right', va='baseline')\n",
    "#         ax.text(value+dx, i,     f'{value:,.0f}',  size=14, ha='left',  va='center')\n",
    "#     ax.text(1, 0.4, current_day, transform=ax.transAxes, color='#777777', size=46, ha='right', weight=800)\n",
    "#     ax.text(0, 1.06, 'Population (thousands)', transform=ax.transAxes, size=12, color='#777777')\n",
    "#     ax.xaxis.set_major_formatter(ticker.StrMethodFormatter('{x:,.0f}'))\n",
    "#     ax.xaxis.set_ticks_position('top')\n",
    "#     ax.tick_params(axis='x', colors='#777777', labelsize=12)\n",
    "#     ax.set_yticks([])\n",
    "#     ax.margins(0, 0.01)\n",
    "#     ax.grid(which='major', axis='x', linestyle='-')\n",
    "#     ax.set_axisbelow(True)\n",
    "    \n",
    "#     ax.text(0, 1.15, 'Coronavirus',\n",
    "#             transform=ax.transAxes, size=24, weight=600, ha='left', va='top')\n",
    "# #     ax.text(1, 0, 'by @pratapvardhan; credit @jburnmurdoch', transform=ax.transAxes, color='#777777', ha='right',\n",
    "# #             bbox=dict(facecolor='white', alpha=0.8, edgecolor='white'))\n",
    "#     plt.box(False)"
   ]
  },
  {
   "cell_type": "code",
   "execution_count": 42,
   "id": "sexual-wages",
   "metadata": {
    "execution": {
     "iopub.execute_input": "2021-01-25T12:24:59.139704Z",
     "iopub.status.busy": "2021-01-25T12:24:59.138477Z",
     "iopub.status.idle": "2021-01-25T12:24:59.140800Z",
     "shell.execute_reply": "2021-01-25T12:24:59.141662Z"
    },
    "papermill": {
     "duration": 0.040288,
     "end_time": "2021-01-25T12:24:59.141890",
     "exception": false,
     "start_time": "2021-01-25T12:24:59.101602",
     "status": "completed"
    },
    "tags": []
   },
   "outputs": [],
   "source": [
    "# #hide_input\n",
    "# fig, ax = plt.subplots(figsize=(15, 8))\n",
    "# animator = animation.FuncAnimation(fig, draw_barchart, frames=range(g.day.values.min(), g.day.values.max()))\n",
    "# HTML(animator.to_jshtml())\n",
    "# # or use animator.to_html5_video() or animator.save() "
   ]
  },
  {
   "cell_type": "code",
   "execution_count": null,
   "id": "australian-container",
   "metadata": {
    "papermill": {
     "duration": 0.032768,
     "end_time": "2021-01-25T12:24:59.209400",
     "exception": false,
     "start_time": "2021-01-25T12:24:59.176632",
     "status": "completed"
    },
    "tags": []
   },
   "outputs": [],
   "source": []
  },
  {
   "cell_type": "code",
   "execution_count": null,
   "id": "mediterranean-pontiac",
   "metadata": {
    "papermill": {
     "duration": 0.032264,
     "end_time": "2021-01-25T12:24:59.271935",
     "exception": false,
     "start_time": "2021-01-25T12:24:59.239671",
     "status": "completed"
    },
    "tags": []
   },
   "outputs": [],
   "source": []
  },
  {
   "cell_type": "code",
   "execution_count": null,
   "id": "aging-legislature",
   "metadata": {
    "papermill": {
     "duration": 0.0309,
     "end_time": "2021-01-25T12:24:59.334990",
     "exception": false,
     "start_time": "2021-01-25T12:24:59.304090",
     "status": "completed"
    },
    "tags": []
   },
   "outputs": [],
   "source": []
  }
 ],
 "metadata": {
  "kernelspec": {
   "display_name": "Python 3",
   "language": "python",
   "name": "python3"
  },
  "language_info": {
   "codemirror_mode": {
    "name": "ipython",
    "version": 3
   },
   "file_extension": ".py",
   "mimetype": "text/x-python",
   "name": "python",
   "nbconvert_exporter": "python",
   "pygments_lexer": "ipython3",
   "version": "3.6.12"
  },
  "papermill": {
   "duration": 8.333314,
   "end_time": "2021-01-25T12:25:00.525921",
   "environment_variables": {},
   "exception": null,
   "input_path": "2020-03-21-covid19exp.ipynb",
   "output_path": "2020-03-21-covid19exp.ipynb",
   "parameters": {},
   "start_time": "2021-01-25T12:24:52.192607",
   "version": "2.0.0"
  }
 },
 "nbformat": 4,
 "nbformat_minor": 5
}