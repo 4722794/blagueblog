{
 "cells": [
  {
   "cell_type": "markdown",
   "id": "muslim-click",
   "metadata": {
    "papermill": {
     "duration": 0.03393,
     "end_time": "2021-06-28T12:09:58.959661",
     "exception": false,
     "start_time": "2021-06-28T12:09:58.925731",
     "status": "completed"
    },
    "tags": []
   },
   "source": [
    "# COVID-19 Case Race\n",
    "> A race chart to see rising cases around the world\n",
    "\n",
    "- author: Hargun Oberoi\n",
    "- image: images/covid-overview.png\n",
    "- hide: false\n",
    "- badges: false"
   ]
  },
  {
   "cell_type": "code",
   "execution_count": 1,
   "id": "proof-material",
   "metadata": {
    "execution": {
     "iopub.execute_input": "2021-06-28T12:09:59.029507Z",
     "iopub.status.busy": "2021-06-28T12:09:59.028981Z",
     "iopub.status.idle": "2021-06-28T12:09:59.353234Z",
     "shell.execute_reply": "2021-06-28T12:09:59.352688Z"
    },
    "papermill": {
     "duration": 0.363284,
     "end_time": "2021-06-28T12:09:59.353391",
     "exception": false,
     "start_time": "2021-06-28T12:09:58.990107",
     "status": "completed"
    },
    "tags": []
   },
   "outputs": [],
   "source": [
    "#hide\n",
    "import numpy as np\n",
    "import pandas as pd\n",
    "from jinja2 import Template\n",
    "from IPython.display import HTML"
   ]
  },
  {
   "cell_type": "code",
   "execution_count": 2,
   "id": "developed-terminology",
   "metadata": {
    "execution": {
     "iopub.execute_input": "2021-06-28T12:09:59.419200Z",
     "iopub.status.busy": "2021-06-28T12:09:59.418585Z",
     "iopub.status.idle": "2021-06-28T12:09:59.419964Z",
     "shell.execute_reply": "2021-06-28T12:09:59.420387Z"
    },
    "papermill": {
     "duration": 0.036512,
     "end_time": "2021-06-28T12:09:59.420514",
     "exception": false,
     "start_time": "2021-06-28T12:09:59.384002",
     "status": "completed"
    },
    "tags": []
   },
   "outputs": [],
   "source": [
    "#hide\n",
    "\n",
    "# FETCH\n",
    "base_url = 'https://raw.githubusercontent.com/pratapvardhan/notebooks/master/covid19/'\n",
    "paths = {\n",
    "    'mapping': base_url + 'mapping_countries.csv',\n",
    "    'overview': base_url + 'overview.tpl'\n",
    "}"
   ]
  },
  {
   "cell_type": "code",
   "execution_count": 3,
   "id": "dynamic-saver",
   "metadata": {
    "execution": {
     "iopub.execute_input": "2021-06-28T12:09:59.490923Z",
     "iopub.status.busy": "2021-06-28T12:09:59.490388Z",
     "iopub.status.idle": "2021-06-28T12:09:59.493333Z",
     "shell.execute_reply": "2021-06-28T12:09:59.492900Z"
    },
    "papermill": {
     "duration": 0.042889,
     "end_time": "2021-06-28T12:09:59.493445",
     "exception": false,
     "start_time": "2021-06-28T12:09:59.450556",
     "status": "completed"
    },
    "tags": []
   },
   "outputs": [
    {
     "data": {
      "text/plain": [
       "'https://raw.githubusercontent.com/pratapvardhan/notebooks/master/covid19/mapping_countries.csv'"
      ]
     },
     "execution_count": 3,
     "metadata": {},
     "output_type": "execute_result"
    }
   ],
   "source": [
    "#hide\n",
    "paths['mapping']"
   ]
  },
  {
   "cell_type": "code",
   "execution_count": 4,
   "id": "urban-software",
   "metadata": {
    "execution": {
     "iopub.execute_input": "2021-06-28T12:09:59.560156Z",
     "iopub.status.busy": "2021-06-28T12:09:59.559642Z",
     "iopub.status.idle": "2021-06-28T12:09:59.561778Z",
     "shell.execute_reply": "2021-06-28T12:09:59.561351Z"
    },
    "papermill": {
     "duration": 0.037991,
     "end_time": "2021-06-28T12:09:59.561891",
     "exception": false,
     "start_time": "2021-06-28T12:09:59.523900",
     "status": "completed"
    },
    "tags": []
   },
   "outputs": [],
   "source": [
    "#hide\n",
    "def get_mappings(url):\n",
    "    df = pd.read_csv(url)\n",
    "    return {\n",
    "        'df': df,\n",
    "        'replace.country': dict(df.dropna(subset=['Name']).set_index('Country')['Name']),\n",
    "        'map.continent': dict(df.set_index('Name')['Continent'])\n",
    "    }"
   ]
  },
  {
   "cell_type": "code",
   "execution_count": 5,
   "id": "intimate-machinery",
   "metadata": {
    "execution": {
     "iopub.execute_input": "2021-06-28T12:09:59.628188Z",
     "iopub.status.busy": "2021-06-28T12:09:59.627668Z",
     "iopub.status.idle": "2021-06-28T12:09:59.677545Z",
     "shell.execute_reply": "2021-06-28T12:09:59.677033Z"
    },
    "papermill": {
     "duration": 0.085645,
     "end_time": "2021-06-28T12:09:59.677686",
     "exception": false,
     "start_time": "2021-06-28T12:09:59.592041",
     "status": "completed"
    },
    "tags": []
   },
   "outputs": [],
   "source": [
    "#hide\n",
    "mapping = get_mappings(paths['mapping'])"
   ]
  },
  {
   "cell_type": "code",
   "execution_count": 6,
   "id": "certified-tactics",
   "metadata": {
    "execution": {
     "iopub.execute_input": "2021-06-28T12:09:59.744310Z",
     "iopub.status.busy": "2021-06-28T12:09:59.743796Z",
     "iopub.status.idle": "2021-06-28T12:09:59.745952Z",
     "shell.execute_reply": "2021-06-28T12:09:59.745545Z"
    },
    "papermill": {
     "duration": 0.037259,
     "end_time": "2021-06-28T12:09:59.746064",
     "exception": false,
     "start_time": "2021-06-28T12:09:59.708805",
     "status": "completed"
    },
    "tags": []
   },
   "outputs": [],
   "source": [
    "#hide\n",
    "def get_template(path):\n",
    "    from urllib.parse import urlparse\n",
    "    if bool(urlparse(path).netloc):\n",
    "        from urllib.request import urlopen\n",
    "        return urlopen(path).read().decode('utf8')\n",
    "    return open(path).read()"
   ]
  },
  {
   "cell_type": "code",
   "execution_count": 7,
   "id": "realistic-blast",
   "metadata": {
    "execution": {
     "iopub.execute_input": "2021-06-28T12:09:59.811398Z",
     "iopub.status.busy": "2021-06-28T12:09:59.810868Z",
     "iopub.status.idle": "2021-06-28T12:09:59.812921Z",
     "shell.execute_reply": "2021-06-28T12:09:59.812492Z"
    },
    "papermill": {
     "duration": 0.036857,
     "end_time": "2021-06-28T12:09:59.813030",
     "exception": false,
     "start_time": "2021-06-28T12:09:59.776173",
     "status": "completed"
    },
    "tags": []
   },
   "outputs": [],
   "source": [
    "#hide\n",
    "def get_frame(name):\n",
    "    url = (\n",
    "        'https://raw.githubusercontent.com/CSSEGISandData/COVID-19/master/csse_covid_19_data/'\n",
    "        f'csse_covid_19_time_series/time_series_covid19_{name}_global.csv')\n",
    "    df = pd.read_csv(url)\n",
    "    # rename countries\n",
    "    df['Country/Region'] = df['Country/Region'].replace(mapping['replace.country'])\n",
    "    return df"
   ]
  },
  {
   "cell_type": "code",
   "execution_count": 8,
   "id": "affiliated-characterization",
   "metadata": {
    "execution": {
     "iopub.execute_input": "2021-06-28T12:09:59.878974Z",
     "iopub.status.busy": "2021-06-28T12:09:59.878440Z",
     "iopub.status.idle": "2021-06-28T12:09:59.880351Z",
     "shell.execute_reply": "2021-06-28T12:09:59.880777Z"
    },
    "papermill": {
     "duration": 0.037794,
     "end_time": "2021-06-28T12:09:59.880906",
     "exception": false,
     "start_time": "2021-06-28T12:09:59.843112",
     "status": "completed"
    },
    "tags": []
   },
   "outputs": [],
   "source": [
    "#hide\n",
    "def get_dates(df):\n",
    "    dt_cols = df.columns[~df.columns.isin(['Province/State', 'Country/Region', 'Lat', 'Long'])]\n",
    "    LAST_DATE_I = -1\n",
    "    # sometimes last column may be empty, then go backwards\n",
    "    for i in range(-1, -len(dt_cols), -1):\n",
    "        if not df[dt_cols[i]].fillna(0).eq(0).all():\n",
    "            LAST_DATE_I = i\n",
    "            break\n",
    "    return LAST_DATE_I, dt_cols"
   ]
  },
  {
   "cell_type": "code",
   "execution_count": 9,
   "id": "recent-optimization",
   "metadata": {
    "execution": {
     "iopub.execute_input": "2021-06-28T12:09:59.946410Z",
     "iopub.status.busy": "2021-06-28T12:09:59.945824Z",
     "iopub.status.idle": "2021-06-28T12:10:00.429742Z",
     "shell.execute_reply": "2021-06-28T12:10:00.430198Z"
    },
    "papermill": {
     "duration": 0.519236,
     "end_time": "2021-06-28T12:10:00.430344",
     "exception": false,
     "start_time": "2021-06-28T12:09:59.911108",
     "status": "completed"
    },
    "tags": []
   },
   "outputs": [],
   "source": [
    "#hide\n",
    "COL_REGION = 'Country/Region'\n",
    "# Confirmed, Recovered, Deaths\n",
    "df = get_frame('confirmed')\n",
    "# dft_: timeseries, dfc_: today country agg\n",
    "dft_cases = df\n",
    "dft_deaths = get_frame('deaths')\n",
    "dft_recovered = get_frame('recovered')\n",
    "LAST_DATE_I, dt_cols = get_dates(df)"
   ]
  },
  {
   "cell_type": "code",
   "execution_count": 10,
   "id": "absolute-copper",
   "metadata": {
    "execution": {
     "iopub.execute_input": "2021-06-28T12:10:00.497058Z",
     "iopub.status.busy": "2021-06-28T12:10:00.496539Z",
     "iopub.status.idle": "2021-06-28T12:10:00.498635Z",
     "shell.execute_reply": "2021-06-28T12:10:00.498223Z"
    },
    "papermill": {
     "duration": 0.03798,
     "end_time": "2021-06-28T12:10:00.498768",
     "exception": false,
     "start_time": "2021-06-28T12:10:00.460788",
     "status": "completed"
    },
    "tags": []
   },
   "outputs": [],
   "source": [
    "#hide\n",
    "LAST_DATE_I, dt_cols = get_dates(df)\n",
    "dt_today =dt_cols[LAST_DATE_I]\n",
    "# dt_5day = dt_cols[LAST_DATE_I - 5]\n",
    "dt_yday = dt_cols[LAST_DATE_I - 1]"
   ]
  },
  {
   "cell_type": "code",
   "execution_count": 11,
   "id": "restricted-sheriff",
   "metadata": {
    "execution": {
     "iopub.execute_input": "2021-06-28T12:10:00.565381Z",
     "iopub.status.busy": "2021-06-28T12:10:00.564876Z",
     "iopub.status.idle": "2021-06-28T12:10:00.572218Z",
     "shell.execute_reply": "2021-06-28T12:10:00.571808Z"
    },
    "papermill": {
     "duration": 0.043402,
     "end_time": "2021-06-28T12:10:00.572334",
     "exception": false,
     "start_time": "2021-06-28T12:10:00.528932",
     "status": "completed"
    },
    "tags": []
   },
   "outputs": [],
   "source": [
    "#hide\n",
    "dfc_cases = dft_cases.groupby(COL_REGION)[dt_today].sum()\n",
    "dfc_deaths = dft_deaths.groupby(COL_REGION)[dt_today].sum()\n",
    "# dfp_cases = dft_cases.groupby(COL_REGION)[dt_5day].sum()\n",
    "# dfp_deaths = dft_deaths.groupby(COL_REGION)[dt_5day].sum()\n",
    "dfp_cases = dft_cases.groupby(COL_REGION)[dt_yday].sum()\n",
    "dfp_deaths = dft_deaths.groupby(COL_REGION)[dt_yday].sum()"
   ]
  },
  {
   "cell_type": "code",
   "execution_count": 12,
   "id": "deluxe-hepatitis",
   "metadata": {
    "execution": {
     "iopub.execute_input": "2021-06-28T12:10:00.639164Z",
     "iopub.status.busy": "2021-06-28T12:10:00.638618Z",
     "iopub.status.idle": "2021-06-28T12:10:00.643181Z",
     "shell.execute_reply": "2021-06-28T12:10:00.642757Z"
    },
    "papermill": {
     "duration": 0.040668,
     "end_time": "2021-06-28T12:10:00.643305",
     "exception": false,
     "start_time": "2021-06-28T12:10:00.602637",
     "status": "completed"
    },
    "tags": []
   },
   "outputs": [],
   "source": [
    "#hide\n",
    "df_table = (pd.DataFrame(dict(Cases = dfc_cases, Deaths = dfc_deaths, PCases = dfp_cases, PDeaths = dfp_deaths))\n",
    "            .sort_values(by = ['Cases','Deaths'], ascending = [False, False])\n",
    "            .reset_index())"
   ]
  },
  {
   "cell_type": "code",
   "execution_count": 13,
   "id": "educational-chancellor",
   "metadata": {
    "execution": {
     "iopub.execute_input": "2021-06-28T12:10:00.738668Z",
     "iopub.status.busy": "2021-06-28T12:10:00.738127Z",
     "iopub.status.idle": "2021-06-28T12:10:00.745392Z",
     "shell.execute_reply": "2021-06-28T12:10:00.744978Z"
    },
    "papermill": {
     "duration": 0.072032,
     "end_time": "2021-06-28T12:10:00.745510",
     "exception": false,
     "start_time": "2021-06-28T12:10:00.673478",
     "status": "completed"
    },
    "tags": []
   },
   "outputs": [
    {
     "data": {
      "text/html": [
       "<div>\n",
       "<style scoped>\n",
       "    .dataframe tbody tr th:only-of-type {\n",
       "        vertical-align: middle;\n",
       "    }\n",
       "\n",
       "    .dataframe tbody tr th {\n",
       "        vertical-align: top;\n",
       "    }\n",
       "\n",
       "    .dataframe thead th {\n",
       "        text-align: right;\n",
       "    }\n",
       "</style>\n",
       "<table border=\"1\" class=\"dataframe\">\n",
       "  <thead>\n",
       "    <tr style=\"text-align: right;\">\n",
       "      <th></th>\n",
       "      <th>Country/Region</th>\n",
       "      <th>Cases</th>\n",
       "      <th>Deaths</th>\n",
       "      <th>PCases</th>\n",
       "      <th>PDeaths</th>\n",
       "      <th>Cases (+)</th>\n",
       "      <th>Deaths (+)</th>\n",
       "      <th>Fatality Rate</th>\n",
       "      <th>Continent</th>\n",
       "    </tr>\n",
       "  </thead>\n",
       "  <tbody>\n",
       "    <tr>\n",
       "      <th>0</th>\n",
       "      <td>US</td>\n",
       "      <td>33624983</td>\n",
       "      <td>603966</td>\n",
       "      <td>33621499</td>\n",
       "      <td>603891</td>\n",
       "      <td>3484</td>\n",
       "      <td>75</td>\n",
       "      <td>1.80</td>\n",
       "      <td>North America</td>\n",
       "    </tr>\n",
       "    <tr>\n",
       "      <th>1</th>\n",
       "      <td>India</td>\n",
       "      <td>30279331</td>\n",
       "      <td>396730</td>\n",
       "      <td>30233183</td>\n",
       "      <td>395751</td>\n",
       "      <td>46148</td>\n",
       "      <td>979</td>\n",
       "      <td>1.31</td>\n",
       "      <td>Asia</td>\n",
       "    </tr>\n",
       "    <tr>\n",
       "      <th>2</th>\n",
       "      <td>Brazil</td>\n",
       "      <td>18420598</td>\n",
       "      <td>513474</td>\n",
       "      <td>18386894</td>\n",
       "      <td>512735</td>\n",
       "      <td>33704</td>\n",
       "      <td>739</td>\n",
       "      <td>2.79</td>\n",
       "      <td>South America</td>\n",
       "    </tr>\n",
       "    <tr>\n",
       "      <th>3</th>\n",
       "      <td>France</td>\n",
       "      <td>5831972</td>\n",
       "      <td>111130</td>\n",
       "      <td>5830394</td>\n",
       "      <td>111113</td>\n",
       "      <td>1578</td>\n",
       "      <td>17</td>\n",
       "      <td>1.91</td>\n",
       "      <td>Europe</td>\n",
       "    </tr>\n",
       "    <tr>\n",
       "      <th>4</th>\n",
       "      <td>Turkey</td>\n",
       "      <td>5409027</td>\n",
       "      <td>49576</td>\n",
       "      <td>5404144</td>\n",
       "      <td>49524</td>\n",
       "      <td>4883</td>\n",
       "      <td>52</td>\n",
       "      <td>0.92</td>\n",
       "      <td>Asia</td>\n",
       "    </tr>\n",
       "  </tbody>\n",
       "</table>\n",
       "</div>"
      ],
      "text/plain": [
       "  Country/Region     Cases  Deaths    PCases  PDeaths  Cases (+)  Deaths (+)  \\\n",
       "0             US  33624983  603966  33621499   603891       3484          75   \n",
       "1          India  30279331  396730  30233183   395751      46148         979   \n",
       "2         Brazil  18420598  513474  18386894   512735      33704         739   \n",
       "3         France   5831972  111130   5830394   111113       1578          17   \n",
       "4         Turkey   5409027   49576   5404144    49524       4883          52   \n",
       "\n",
       "   Fatality Rate      Continent  \n",
       "0           1.80  North America  \n",
       "1           1.31           Asia  \n",
       "2           2.79  South America  \n",
       "3           1.91         Europe  \n",
       "4           0.92           Asia  "
      ]
     },
     "execution_count": 13,
     "metadata": {},
     "output_type": "execute_result"
    }
   ],
   "source": [
    "#hide\n",
    "for c in 'Cases, Deaths'.split(', '):\n",
    "    df_table[f'{c} (+)'] = (df_table[c] - df_table[f'P{c}']).clip(0)\n",
    "    #Clip ça veut dire, les chiffres negatif sont interdit\n",
    "df_table['Fatality Rate'] = (100* df_table['Deaths']/ df_table['Cases']).round(2)\n",
    "df_table['Continent'] = df_table['Country/Region'].map(mapping['map.continent'])\n",
    "df_table.head(5)"
   ]
  },
  {
   "cell_type": "code",
   "execution_count": 14,
   "id": "aboriginal-bulgaria",
   "metadata": {
    "execution": {
     "iopub.execute_input": "2021-06-28T12:10:00.813477Z",
     "iopub.status.busy": "2021-06-28T12:10:00.812958Z",
     "iopub.status.idle": "2021-06-28T12:10:00.815333Z",
     "shell.execute_reply": "2021-06-28T12:10:00.814916Z"
    },
    "papermill": {
     "duration": 0.039105,
     "end_time": "2021-06-28T12:10:00.815450",
     "exception": false,
     "start_time": "2021-06-28T12:10:00.776345",
     "status": "completed"
    },
    "tags": []
   },
   "outputs": [],
   "source": [
    "#hide\n",
    "#delete problematic countries from table\n",
    "df_table = df_table[~df_table['Country/Region'].isin(['Cape Verde', 'Cruise Ship', 'Kosovo'])]"
   ]
  },
  {
   "cell_type": "code",
   "execution_count": 15,
   "id": "fantastic-effect",
   "metadata": {
    "execution": {
     "iopub.execute_input": "2021-06-28T12:10:00.885481Z",
     "iopub.status.busy": "2021-06-28T12:10:00.884951Z",
     "iopub.status.idle": "2021-06-28T12:10:00.901410Z",
     "shell.execute_reply": "2021-06-28T12:10:00.901880Z"
    },
    "papermill": {
     "duration": 0.055947,
     "end_time": "2021-06-28T12:10:00.902015",
     "exception": false,
     "start_time": "2021-06-28T12:10:00.846068",
     "status": "completed"
    },
    "tags": []
   },
   "outputs": [
    {
     "data": {
      "text/html": [
       "<div>\n",
       "<style scoped>\n",
       "    .dataframe tbody tr th:only-of-type {\n",
       "        vertical-align: middle;\n",
       "    }\n",
       "\n",
       "    .dataframe tbody tr th {\n",
       "        vertical-align: top;\n",
       "    }\n",
       "\n",
       "    .dataframe thead th {\n",
       "        text-align: right;\n",
       "    }\n",
       "</style>\n",
       "<table border=\"1\" class=\"dataframe\">\n",
       "  <thead>\n",
       "    <tr style=\"text-align: right;\">\n",
       "      <th></th>\n",
       "      <th>Country/Region</th>\n",
       "      <th>Cases</th>\n",
       "      <th>Deaths</th>\n",
       "      <th>PCases</th>\n",
       "      <th>PDeaths</th>\n",
       "      <th>Cases (+)</th>\n",
       "      <th>Deaths (+)</th>\n",
       "      <th>Fatality Rate</th>\n",
       "      <th>Continent</th>\n",
       "    </tr>\n",
       "  </thead>\n",
       "  <tbody>\n",
       "    <tr>\n",
       "      <th>0</th>\n",
       "      <td>US</td>\n",
       "      <td>33624983</td>\n",
       "      <td>603966</td>\n",
       "      <td>33621499</td>\n",
       "      <td>603891</td>\n",
       "      <td>3484</td>\n",
       "      <td>75</td>\n",
       "      <td>1.8</td>\n",
       "      <td>North America</td>\n",
       "    </tr>\n",
       "    <tr>\n",
       "      <th>1</th>\n",
       "      <td>India</td>\n",
       "      <td>30279331</td>\n",
       "      <td>396730</td>\n",
       "      <td>30233183</td>\n",
       "      <td>395751</td>\n",
       "      <td>46148</td>\n",
       "      <td>979</td>\n",
       "      <td>1.3</td>\n",
       "      <td>Asia</td>\n",
       "    </tr>\n",
       "    <tr>\n",
       "      <th>2</th>\n",
       "      <td>Brazil</td>\n",
       "      <td>18420598</td>\n",
       "      <td>513474</td>\n",
       "      <td>18386894</td>\n",
       "      <td>512735</td>\n",
       "      <td>33704</td>\n",
       "      <td>739</td>\n",
       "      <td>2.8</td>\n",
       "      <td>South America</td>\n",
       "    </tr>\n",
       "    <tr>\n",
       "      <th>3</th>\n",
       "      <td>France</td>\n",
       "      <td>5831972</td>\n",
       "      <td>111130</td>\n",
       "      <td>5830394</td>\n",
       "      <td>111113</td>\n",
       "      <td>1578</td>\n",
       "      <td>17</td>\n",
       "      <td>1.9</td>\n",
       "      <td>Europe</td>\n",
       "    </tr>\n",
       "    <tr>\n",
       "      <th>4</th>\n",
       "      <td>Turkey</td>\n",
       "      <td>5409027</td>\n",
       "      <td>49576</td>\n",
       "      <td>5404144</td>\n",
       "      <td>49524</td>\n",
       "      <td>4883</td>\n",
       "      <td>52</td>\n",
       "      <td>0.9</td>\n",
       "      <td>Asia</td>\n",
       "    </tr>\n",
       "  </tbody>\n",
       "</table>\n",
       "</div>"
      ],
      "text/plain": [
       "  Country/Region     Cases  Deaths    PCases  PDeaths  Cases (+)  Deaths (+)  \\\n",
       "0             US  33624983  603966  33621499   603891       3484          75   \n",
       "1          India  30279331  396730  30233183   395751      46148         979   \n",
       "2         Brazil  18420598  513474  18386894   512735      33704         739   \n",
       "3         France   5831972  111130   5830394   111113       1578          17   \n",
       "4         Turkey   5409027   49576   5404144    49524       4883          52   \n",
       "\n",
       "   Fatality Rate      Continent  \n",
       "0            1.8  North America  \n",
       "1            1.3           Asia  \n",
       "2            2.8  South America  \n",
       "3            1.9         Europe  \n",
       "4            0.9           Asia  "
      ]
     },
     "execution_count": 15,
     "metadata": {},
     "output_type": "execute_result"
    }
   ],
   "source": [
    "#hide\n",
    "df_table = (pd.DataFrame(dict(Cases=dfc_cases, Deaths=dfc_deaths, PCases=dfp_cases, PDeaths=dfp_deaths))\n",
    "             .sort_values(by=['Cases', 'Deaths'], ascending=[False, False])\n",
    "             .reset_index())\n",
    "df_table.rename(columns={'index': 'Country/Region'}, inplace=True)\n",
    "for c in 'Cases, Deaths'.split(', '):\n",
    "    df_table[f'{c} (+)'] = (df_table[c] - df_table[f'P{c}']).clip(0)  # DATA BUG\n",
    "df_table['Fatality Rate'] = (100 * df_table['Deaths'] / df_table['Cases']).round(1)\n",
    "df_table['Continent'] = df_table['Country/Region'].map(mapping['map.continent'])\n",
    "df_table.head(5)"
   ]
  },
  {
   "cell_type": "code",
   "execution_count": 16,
   "id": "fewer-occasion",
   "metadata": {
    "execution": {
     "iopub.execute_input": "2021-06-28T12:10:00.969851Z",
     "iopub.status.busy": "2021-06-28T12:10:00.969343Z",
     "iopub.status.idle": "2021-06-28T12:10:00.972472Z",
     "shell.execute_reply": "2021-06-28T12:10:00.972904Z"
    },
    "papermill": {
     "duration": 0.039668,
     "end_time": "2021-06-28T12:10:00.973040",
     "exception": false,
     "start_time": "2021-06-28T12:10:00.933372",
     "status": "completed"
    },
    "tags": []
   },
   "outputs": [],
   "source": [
    "#hide\n",
    "#delete problematic countries from table\n",
    "df_table = df_table[~df_table['Country/Region'].isin(['Cape Verde', 'Cruise Ship', 'Kosovo'])]"
   ]
  },
  {
   "cell_type": "code",
   "execution_count": 17,
   "id": "related-center",
   "metadata": {
    "execution": {
     "iopub.execute_input": "2021-06-28T12:10:01.053614Z",
     "iopub.status.busy": "2021-06-28T12:10:01.053082Z",
     "iopub.status.idle": "2021-06-28T12:10:01.055156Z",
     "shell.execute_reply": "2021-06-28T12:10:01.054740Z"
    },
    "papermill": {
     "duration": 0.051306,
     "end_time": "2021-06-28T12:10:01.055274",
     "exception": false,
     "start_time": "2021-06-28T12:10:01.003968",
     "status": "completed"
    },
    "tags": []
   },
   "outputs": [],
   "source": [
    "#hide\n",
    "metrics = [df_table.columns[index] for index in [1,2,5,6]]\n",
    "# s_china = df_table[df_table['Country/Region'].eq('China')][metrics].sum().add_prefix('China ')\n",
    "s_us = df_table[df_table['Country/Region'].eq('US')][metrics].sum().add_prefix('US ')\n",
    "s_eu = df_table[df_table['Continent'].eq('Europe')][metrics].sum().add_prefix('EU ')\n",
    "s_ind = df_table[df_table['Country/Region'].eq('India')][metrics].sum().add_prefix('India ')\n",
    "summary = {'updated': pd.to_datetime(dt_today), 'since': pd.to_datetime(dt_yday)}\n",
    "summary = {'updated': pd.to_datetime(dt_today), 'since': pd.to_datetime(dt_yday)}\n",
    "summary = {**summary, **df_table[metrics].sum(), **s_ind, **s_us, **s_eu}"
   ]
  },
  {
   "cell_type": "code",
   "execution_count": 18,
   "id": "engaging-syndrome",
   "metadata": {
    "execution": {
     "iopub.execute_input": "2021-06-28T12:10:01.122486Z",
     "iopub.status.busy": "2021-06-28T12:10:01.121974Z",
     "iopub.status.idle": "2021-06-28T12:10:01.133605Z",
     "shell.execute_reply": "2021-06-28T12:10:01.134002Z"
    },
    "papermill": {
     "duration": 0.047663,
     "end_time": "2021-06-28T12:10:01.134145",
     "exception": false,
     "start_time": "2021-06-28T12:10:01.086482",
     "status": "completed"
    },
    "tags": []
   },
   "outputs": [],
   "source": [
    "#hide\n",
    "dft_ct_new_cases = dft_cases.groupby(COL_REGION)[dt_cols].sum().diff(axis=1).fillna(0).astype(int)"
   ]
  },
  {
   "cell_type": "code",
   "execution_count": 19,
   "id": "neutral-assignment",
   "metadata": {
    "execution": {
     "iopub.execute_input": "2021-06-28T12:10:01.202383Z",
     "iopub.status.busy": "2021-06-28T12:10:01.201882Z",
     "iopub.status.idle": "2021-06-28T12:10:01.203615Z",
     "shell.execute_reply": "2021-06-28T12:10:01.203992Z"
    },
    "papermill": {
     "duration": 0.038947,
     "end_time": "2021-06-28T12:10:01.204129",
     "exception": false,
     "start_time": "2021-06-28T12:10:01.165182",
     "status": "completed"
    },
    "tags": []
   },
   "outputs": [],
   "source": [
    "#hide\n",
    "everydaycases = dft_ct_new_cases.cumsum(axis=1)"
   ]
  },
  {
   "cell_type": "code",
   "execution_count": 20,
   "id": "parliamentary-calgary",
   "metadata": {
    "execution": {
     "iopub.execute_input": "2021-06-28T12:10:01.271020Z",
     "iopub.status.busy": "2021-06-28T12:10:01.270467Z",
     "iopub.status.idle": "2021-06-28T12:10:01.847252Z",
     "shell.execute_reply": "2021-06-28T12:10:01.847754Z"
    },
    "papermill": {
     "duration": 0.612411,
     "end_time": "2021-06-28T12:10:01.847913",
     "exception": false,
     "start_time": "2021-06-28T12:10:01.235502",
     "status": "completed"
    },
    "tags": []
   },
   "outputs": [],
   "source": [
    "#hide\n",
    "import pandas as pd\n",
    "import matplotlib.pyplot as plt\n",
    "import matplotlib.ticker as ticker\n",
    "import matplotlib.animation as animation\n",
    "from IPython.display import HTML"
   ]
  },
  {
   "cell_type": "code",
   "execution_count": 21,
   "id": "lasting-extraction",
   "metadata": {
    "execution": {
     "iopub.execute_input": "2021-06-28T12:10:01.915923Z",
     "iopub.status.busy": "2021-06-28T12:10:01.915410Z",
     "iopub.status.idle": "2021-06-28T12:10:01.920809Z",
     "shell.execute_reply": "2021-06-28T12:10:01.921239Z"
    },
    "papermill": {
     "duration": 0.042364,
     "end_time": "2021-06-28T12:10:01.921377",
     "exception": false,
     "start_time": "2021-06-28T12:10:01.879013",
     "status": "completed"
    },
    "tags": []
   },
   "outputs": [],
   "source": [
    "#hide\n",
    "t = everydaycases.stack()"
   ]
  },
  {
   "cell_type": "code",
   "execution_count": 22,
   "id": "premier-sleeve",
   "metadata": {
    "execution": {
     "iopub.execute_input": "2021-06-28T12:10:01.988491Z",
     "iopub.status.busy": "2021-06-28T12:10:01.987964Z",
     "iopub.status.idle": "2021-06-28T12:10:01.995873Z",
     "shell.execute_reply": "2021-06-28T12:10:01.996279Z"
    },
    "papermill": {
     "duration": 0.043873,
     "end_time": "2021-06-28T12:10:01.996418",
     "exception": false,
     "start_time": "2021-06-28T12:10:01.952545",
     "status": "completed"
    },
    "tags": []
   },
   "outputs": [],
   "source": [
    "#hide\n",
    "g = t.reset_index(['Country/Region'])"
   ]
  },
  {
   "cell_type": "code",
   "execution_count": 23,
   "id": "distributed-pittsburgh",
   "metadata": {
    "execution": {
     "iopub.execute_input": "2021-06-28T12:10:02.062626Z",
     "iopub.status.busy": "2021-06-28T12:10:02.062110Z",
     "iopub.status.idle": "2021-06-28T12:10:02.063858Z",
     "shell.execute_reply": "2021-06-28T12:10:02.064344Z"
    },
    "papermill": {
     "duration": 0.037098,
     "end_time": "2021-06-28T12:10:02.064477",
     "exception": false,
     "start_time": "2021-06-28T12:10:02.027379",
     "status": "completed"
    },
    "tags": []
   },
   "outputs": [],
   "source": [
    "#hide\n",
    "g.index.name = 'date'"
   ]
  },
  {
   "cell_type": "code",
   "execution_count": 24,
   "id": "naked-donor",
   "metadata": {
    "execution": {
     "iopub.execute_input": "2021-06-28T12:10:02.130486Z",
     "iopub.status.busy": "2021-06-28T12:10:02.129980Z",
     "iopub.status.idle": "2021-06-28T12:10:02.131774Z",
     "shell.execute_reply": "2021-06-28T12:10:02.132177Z"
    },
    "papermill": {
     "duration": 0.036689,
     "end_time": "2021-06-28T12:10:02.132310",
     "exception": false,
     "start_time": "2021-06-28T12:10:02.095621",
     "status": "completed"
    },
    "tags": []
   },
   "outputs": [],
   "source": [
    "# #hide\n",
    "# g = g.reset_index(['date'])"
   ]
  },
  {
   "cell_type": "code",
   "execution_count": 25,
   "id": "incomplete-mustang",
   "metadata": {
    "execution": {
     "iopub.execute_input": "2021-06-28T12:10:02.198494Z",
     "iopub.status.busy": "2021-06-28T12:10:02.197977Z",
     "iopub.status.idle": "2021-06-28T12:10:02.199731Z",
     "shell.execute_reply": "2021-06-28T12:10:02.200201Z"
    },
    "papermill": {
     "duration": 0.036801,
     "end_time": "2021-06-28T12:10:02.200334",
     "exception": false,
     "start_time": "2021-06-28T12:10:02.163533",
     "status": "completed"
    },
    "tags": []
   },
   "outputs": [],
   "source": [
    "#hide\n",
    "# g.head()"
   ]
  },
  {
   "cell_type": "code",
   "execution_count": 26,
   "id": "specific-kruger",
   "metadata": {
    "execution": {
     "iopub.execute_input": "2021-06-28T12:10:02.267001Z",
     "iopub.status.busy": "2021-06-28T12:10:02.266465Z",
     "iopub.status.idle": "2021-06-28T12:10:02.268225Z",
     "shell.execute_reply": "2021-06-28T12:10:02.268606Z"
    },
    "papermill": {
     "duration": 0.037212,
     "end_time": "2021-06-28T12:10:02.268741",
     "exception": false,
     "start_time": "2021-06-28T12:10:02.231529",
     "status": "completed"
    },
    "tags": []
   },
   "outputs": [],
   "source": [
    "#hide\n",
    "# g.columns = ['date','country','cases']"
   ]
  },
  {
   "cell_type": "code",
   "execution_count": 27,
   "id": "tender-conversion",
   "metadata": {
    "execution": {
     "iopub.execute_input": "2021-06-28T12:10:02.334716Z",
     "iopub.status.busy": "2021-06-28T12:10:02.334178Z",
     "iopub.status.idle": "2021-06-28T12:10:02.335985Z",
     "shell.execute_reply": "2021-06-28T12:10:02.336417Z"
    },
    "papermill": {
     "duration": 0.036899,
     "end_time": "2021-06-28T12:10:02.336551",
     "exception": false,
     "start_time": "2021-06-28T12:10:02.299652",
     "status": "completed"
    },
    "tags": []
   },
   "outputs": [],
   "source": [
    "#hide\n",
    "# g['continent'] = g.country"
   ]
  },
  {
   "cell_type": "code",
   "execution_count": 28,
   "id": "substantial-wilderness",
   "metadata": {
    "execution": {
     "iopub.execute_input": "2021-06-28T12:10:02.402902Z",
     "iopub.status.busy": "2021-06-28T12:10:02.402362Z",
     "iopub.status.idle": "2021-06-28T12:10:02.404158Z",
     "shell.execute_reply": "2021-06-28T12:10:02.404586Z"
    },
    "papermill": {
     "duration": 0.036958,
     "end_time": "2021-06-28T12:10:02.404723",
     "exception": false,
     "start_time": "2021-06-28T12:10:02.367765",
     "status": "completed"
    },
    "tags": []
   },
   "outputs": [],
   "source": [
    "#hide\n",
    "# cols = list(g.columns.values)"
   ]
  },
  {
   "cell_type": "code",
   "execution_count": 29,
   "id": "solved-farming",
   "metadata": {
    "execution": {
     "iopub.execute_input": "2021-06-28T12:10:02.470851Z",
     "iopub.status.busy": "2021-06-28T12:10:02.470311Z",
     "iopub.status.idle": "2021-06-28T12:10:02.472342Z",
     "shell.execute_reply": "2021-06-28T12:10:02.471914Z"
    },
    "papermill": {
     "duration": 0.036652,
     "end_time": "2021-06-28T12:10:02.472453",
     "exception": false,
     "start_time": "2021-06-28T12:10:02.435801",
     "status": "completed"
    },
    "tags": []
   },
   "outputs": [],
   "source": [
    "#hide\n",
    "# cols.insert(0, cols.pop())"
   ]
  },
  {
   "cell_type": "code",
   "execution_count": 30,
   "id": "executed-adoption",
   "metadata": {
    "execution": {
     "iopub.execute_input": "2021-06-28T12:10:02.538382Z",
     "iopub.status.busy": "2021-06-28T12:10:02.537864Z",
     "iopub.status.idle": "2021-06-28T12:10:02.540068Z",
     "shell.execute_reply": "2021-06-28T12:10:02.539624Z"
    },
    "papermill": {
     "duration": 0.036607,
     "end_time": "2021-06-28T12:10:02.540190",
     "exception": false,
     "start_time": "2021-06-28T12:10:02.503583",
     "status": "completed"
    },
    "tags": []
   },
   "outputs": [],
   "source": [
    "#hide\n",
    "# g = g[cols]"
   ]
  },
  {
   "cell_type": "code",
   "execution_count": 31,
   "id": "subject-dublin",
   "metadata": {
    "execution": {
     "iopub.execute_input": "2021-06-28T12:10:02.606315Z",
     "iopub.status.busy": "2021-06-28T12:10:02.605804Z",
     "iopub.status.idle": "2021-06-28T12:10:02.608007Z",
     "shell.execute_reply": "2021-06-28T12:10:02.607569Z"
    },
    "papermill": {
     "duration": 0.03687,
     "end_time": "2021-06-28T12:10:02.608125",
     "exception": false,
     "start_time": "2021-06-28T12:10:02.571255",
     "status": "completed"
    },
    "tags": []
   },
   "outputs": [],
   "source": [
    "#hide\n",
    "# g['continent'] = g['continent'].map(mapping['map.continent'])"
   ]
  },
  {
   "cell_type": "code",
   "execution_count": 32,
   "id": "freelance-scout",
   "metadata": {
    "execution": {
     "iopub.execute_input": "2021-06-28T12:10:02.673617Z",
     "iopub.status.busy": "2021-06-28T12:10:02.673056Z",
     "iopub.status.idle": "2021-06-28T12:10:02.677529Z",
     "shell.execute_reply": "2021-06-28T12:10:02.677062Z"
    },
    "papermill": {
     "duration": 0.038323,
     "end_time": "2021-06-28T12:10:02.677648",
     "exception": false,
     "start_time": "2021-06-28T12:10:02.639325",
     "status": "completed"
    },
    "tags": []
   },
   "outputs": [],
   "source": [
    "#hide\n",
    "# g.head()"
   ]
  },
  {
   "cell_type": "code",
   "execution_count": 33,
   "id": "limited-engine",
   "metadata": {
    "execution": {
     "iopub.execute_input": "2021-06-28T12:10:02.743625Z",
     "iopub.status.busy": "2021-06-28T12:10:02.743110Z",
     "iopub.status.idle": "2021-06-28T12:10:02.745459Z",
     "shell.execute_reply": "2021-06-28T12:10:02.745000Z"
    },
    "papermill": {
     "duration": 0.036881,
     "end_time": "2021-06-28T12:10:02.745571",
     "exception": false,
     "start_time": "2021-06-28T12:10:02.708690",
     "status": "completed"
    },
    "tags": []
   },
   "outputs": [],
   "source": [
    "# hide\n",
    "# g['date'] = g['date'].astype('datetime64[ns]')"
   ]
  },
  {
   "cell_type": "code",
   "execution_count": 34,
   "id": "sophisticated-supervisor",
   "metadata": {
    "execution": {
     "iopub.execute_input": "2021-06-28T12:10:02.811522Z",
     "iopub.status.busy": "2021-06-28T12:10:02.811014Z",
     "iopub.status.idle": "2021-06-28T12:10:02.813187Z",
     "shell.execute_reply": "2021-06-28T12:10:02.812780Z"
    },
    "papermill": {
     "duration": 0.036633,
     "end_time": "2021-06-28T12:10:02.813305",
     "exception": false,
     "start_time": "2021-06-28T12:10:02.776672",
     "status": "completed"
    },
    "tags": []
   },
   "outputs": [],
   "source": [
    "#hide\n",
    "# g['date'] = g.date.dt.dayofyear"
   ]
  },
  {
   "cell_type": "code",
   "execution_count": 35,
   "id": "inside-dubai",
   "metadata": {
    "execution": {
     "iopub.execute_input": "2021-06-28T12:10:02.878904Z",
     "iopub.status.busy": "2021-06-28T12:10:02.878372Z",
     "iopub.status.idle": "2021-06-28T12:10:02.879955Z",
     "shell.execute_reply": "2021-06-28T12:10:02.880378Z"
    },
    "papermill": {
     "duration": 0.036256,
     "end_time": "2021-06-28T12:10:02.880504",
     "exception": false,
     "start_time": "2021-06-28T12:10:02.844248",
     "status": "completed"
    },
    "tags": []
   },
   "outputs": [],
   "source": [
    "#hide\n",
    "# g = g.rename(columns= {'continent':'group','country':'name','cases':'value'})"
   ]
  },
  {
   "cell_type": "code",
   "execution_count": 36,
   "id": "fleet-motorcycle",
   "metadata": {
    "execution": {
     "iopub.execute_input": "2021-06-28T12:10:02.946522Z",
     "iopub.status.busy": "2021-06-28T12:10:02.946000Z",
     "iopub.status.idle": "2021-06-28T12:10:02.947839Z",
     "shell.execute_reply": "2021-06-28T12:10:02.948265Z"
    },
    "papermill": {
     "duration": 0.036859,
     "end_time": "2021-06-28T12:10:02.948394",
     "exception": false,
     "start_time": "2021-06-28T12:10:02.911535",
     "status": "completed"
    },
    "tags": []
   },
   "outputs": [],
   "source": [
    "#hide\n",
    "# cols = ['name','group','day','value']"
   ]
  },
  {
   "cell_type": "code",
   "execution_count": 37,
   "id": "continued-sleeping",
   "metadata": {
    "execution": {
     "iopub.execute_input": "2021-06-28T12:10:03.014324Z",
     "iopub.status.busy": "2021-06-28T12:10:03.013802Z",
     "iopub.status.idle": "2021-06-28T12:10:03.015629Z",
     "shell.execute_reply": "2021-06-28T12:10:03.016007Z"
    },
    "papermill": {
     "duration": 0.036749,
     "end_time": "2021-06-28T12:10:03.016143",
     "exception": false,
     "start_time": "2021-06-28T12:10:02.979394",
     "status": "completed"
    },
    "tags": []
   },
   "outputs": [],
   "source": [
    "#hide\n",
    "# g.rename(columns= {'date':'day'},inplace = True)"
   ]
  },
  {
   "cell_type": "code",
   "execution_count": 38,
   "id": "major-fight",
   "metadata": {
    "execution": {
     "iopub.execute_input": "2021-06-28T12:10:03.081989Z",
     "iopub.status.busy": "2021-06-28T12:10:03.081466Z",
     "iopub.status.idle": "2021-06-28T12:10:03.083655Z",
     "shell.execute_reply": "2021-06-28T12:10:03.083245Z"
    },
    "papermill": {
     "duration": 0.036579,
     "end_time": "2021-06-28T12:10:03.083771",
     "exception": false,
     "start_time": "2021-06-28T12:10:03.047192",
     "status": "completed"
    },
    "tags": []
   },
   "outputs": [],
   "source": [
    "#hide\n",
    "# g = g[cols]"
   ]
  },
  {
   "cell_type": "code",
   "execution_count": 39,
   "id": "structured-mobile",
   "metadata": {
    "execution": {
     "iopub.execute_input": "2021-06-28T12:10:03.149387Z",
     "iopub.status.busy": "2021-06-28T12:10:03.148868Z",
     "iopub.status.idle": "2021-06-28T12:10:03.150627Z",
     "shell.execute_reply": "2021-06-28T12:10:03.151083Z"
    },
    "papermill": {
     "duration": 0.036642,
     "end_time": "2021-06-28T12:10:03.151218",
     "exception": false,
     "start_time": "2021-06-28T12:10:03.114576",
     "status": "completed"
    },
    "tags": []
   },
   "outputs": [],
   "source": [
    "# #hide\n",
    "# g = g[g.group.notna()]"
   ]
  },
  {
   "cell_type": "code",
   "execution_count": 40,
   "id": "determined-closing",
   "metadata": {
    "execution": {
     "iopub.execute_input": "2021-06-28T12:10:03.217441Z",
     "iopub.status.busy": "2021-06-28T12:10:03.216907Z",
     "iopub.status.idle": "2021-06-28T12:10:03.219254Z",
     "shell.execute_reply": "2021-06-28T12:10:03.218814Z"
    },
    "papermill": {
     "duration": 0.036972,
     "end_time": "2021-06-28T12:10:03.219367",
     "exception": false,
     "start_time": "2021-06-28T12:10:03.182395",
     "status": "completed"
    },
    "tags": []
   },
   "outputs": [],
   "source": [
    "# #hide\n",
    "# colors = dict(zip(\n",
    "#     [\"Oceania\", \"Europe\", \"Asia\", \"South America\", \"Middle East\", \"North America\", \"Africa\"],\n",
    "#     [\"#adb0ff\", \"#ffb3ff\", \"#90d595\", \"#e48381\", \"#aafbff\", \"#f7bb5f\", \"#eafb50\"]\n",
    "# ))\n",
    "# group_lk = g.set_index('name')['group'].to_dict()"
   ]
  },
  {
   "cell_type": "code",
   "execution_count": null,
   "id": "gross-drinking",
   "metadata": {
    "papermill": {
     "duration": 0.031064,
     "end_time": "2021-06-28T12:10:03.281397",
     "exception": false,
     "start_time": "2021-06-28T12:10:03.250333",
     "status": "completed"
    },
    "tags": []
   },
   "outputs": [],
   "source": []
  },
  {
   "cell_type": "code",
   "execution_count": 41,
   "id": "subject-macintosh",
   "metadata": {
    "execution": {
     "iopub.execute_input": "2021-06-28T12:10:03.347910Z",
     "iopub.status.busy": "2021-06-28T12:10:03.347385Z",
     "iopub.status.idle": "2021-06-28T12:10:03.349343Z",
     "shell.execute_reply": "2021-06-28T12:10:03.348847Z"
    },
    "papermill": {
     "duration": 0.036996,
     "end_time": "2021-06-28T12:10:03.349453",
     "exception": false,
     "start_time": "2021-06-28T12:10:03.312457",
     "status": "completed"
    },
    "tags": []
   },
   "outputs": [],
   "source": [
    "# #hide\n",
    "# fig, ax = plt.subplots(figsize=(15, 8))\n",
    "\n",
    "# def draw_barchart(current_day):\n",
    "#     dff = g[g['day'].eq(current_day)].sort_values(by='value', ascending=True).tail(10)\n",
    "#     ax.clear()\n",
    "#     ax.barh(dff['name'], dff['value'], color=[colors[group_lk[x]] for x in dff['name']])\n",
    "#     dx = dff['value'].max() / 200\n",
    "    \n",
    "#     for i, (value, name) in enumerate(zip(dff['value'], dff['name'])):\n",
    "#         ax.text(value-dx, i,     name,           size=14, weight=600, ha='right', va='bottom')\n",
    "#         ax.text(value-dx, i-.25, group_lk[name], size=10, color='#444444', ha='right', va='baseline')\n",
    "#         ax.text(value+dx, i,     f'{value:,.0f}',  size=14, ha='left',  va='center')\n",
    "#     ax.text(1, 0.4, current_day, transform=ax.transAxes, color='#777777', size=46, ha='right', weight=800)\n",
    "#     ax.text(0, 1.06, 'Population (thousands)', transform=ax.transAxes, size=12, color='#777777')\n",
    "#     ax.xaxis.set_major_formatter(ticker.StrMethodFormatter('{x:,.0f}'))\n",
    "#     ax.xaxis.set_ticks_position('top')\n",
    "#     ax.tick_params(axis='x', colors='#777777', labelsize=12)\n",
    "#     ax.set_yticks([])\n",
    "#     ax.margins(0, 0.01)\n",
    "#     ax.grid(which='major', axis='x', linestyle='-')\n",
    "#     ax.set_axisbelow(True)\n",
    "    \n",
    "#     ax.text(0, 1.15, 'Coronavirus',\n",
    "#             transform=ax.transAxes, size=24, weight=600, ha='left', va='top')\n",
    "# #     ax.text(1, 0, 'by @pratapvardhan; credit @jburnmurdoch', transform=ax.transAxes, color='#777777', ha='right',\n",
    "# #             bbox=dict(facecolor='white', alpha=0.8, edgecolor='white'))\n",
    "#     plt.box(False)"
   ]
  },
  {
   "cell_type": "code",
   "execution_count": 42,
   "id": "sexual-wages",
   "metadata": {
    "execution": {
     "iopub.execute_input": "2021-06-28T12:10:03.415134Z",
     "iopub.status.busy": "2021-06-28T12:10:03.414600Z",
     "iopub.status.idle": "2021-06-28T12:10:03.416706Z",
     "shell.execute_reply": "2021-06-28T12:10:03.416278Z"
    },
    "papermill": {
     "duration": 0.036526,
     "end_time": "2021-06-28T12:10:03.416818",
     "exception": false,
     "start_time": "2021-06-28T12:10:03.380292",
     "status": "completed"
    },
    "tags": []
   },
   "outputs": [],
   "source": [
    "# #hide_input\n",
    "# fig, ax = plt.subplots(figsize=(15, 8))\n",
    "# animator = animation.FuncAnimation(fig, draw_barchart, frames=range(g.day.values.min(), g.day.values.max()))\n",
    "# HTML(animator.to_jshtml())\n",
    "# # or use animator.to_html5_video() or animator.save() "
   ]
  },
  {
   "cell_type": "code",
   "execution_count": null,
   "id": "australian-container",
   "metadata": {
    "papermill": {
     "duration": 0.030803,
     "end_time": "2021-06-28T12:10:03.478679",
     "exception": false,
     "start_time": "2021-06-28T12:10:03.447876",
     "status": "completed"
    },
    "tags": []
   },
   "outputs": [],
   "source": []
  },
  {
   "cell_type": "code",
   "execution_count": null,
   "id": "mediterranean-pontiac",
   "metadata": {
    "papermill": {
     "duration": 0.030861,
     "end_time": "2021-06-28T12:10:03.540406",
     "exception": false,
     "start_time": "2021-06-28T12:10:03.509545",
     "status": "completed"
    },
    "tags": []
   },
   "outputs": [],
   "source": []
  },
  {
   "cell_type": "code",
   "execution_count": null,
   "id": "aging-legislature",
   "metadata": {
    "papermill": {
     "duration": 0.030864,
     "end_time": "2021-06-28T12:10:03.602300",
     "exception": false,
     "start_time": "2021-06-28T12:10:03.571436",
     "status": "completed"
    },
    "tags": []
   },
   "outputs": [],
   "source": []
  }
 ],
 "metadata": {
  "kernelspec": {
   "display_name": "Python 3",
   "language": "python",
   "name": "python3"
  },
  "language_info": {
   "codemirror_mode": {
    "name": "ipython",
    "version": 3
   },
   "file_extension": ".py",
   "mimetype": "text/x-python",
   "name": "python",
   "nbconvert_exporter": "python",
   "pygments_lexer": "ipython3",
   "version": "3.6.13"
  },
  "papermill": {
   "duration": 6.106181,
   "end_time": "2021-06-28T12:10:04.040817",
   "environment_variables": {},
   "exception": null,
   "input_path": "2020-03-21-covid19exp.ipynb",
   "output_path": "2020-03-21-covid19exp.ipynb",
   "parameters": {},
   "start_time": "2021-06-28T12:09:57.934636",
   "version": "2.0.0"
  }
 },
 "nbformat": 4,
 "nbformat_minor": 5
}