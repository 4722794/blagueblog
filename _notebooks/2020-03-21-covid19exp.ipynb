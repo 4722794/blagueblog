{
 "cells": [
  {
   "cell_type": "markdown",
   "metadata": {
    "papermill": {
     "duration": 0.040958,
     "end_time": "2020-12-06T00:12:50.821951",
     "exception": false,
     "start_time": "2020-12-06T00:12:50.780993",
     "status": "completed"
    },
    "tags": []
   },
   "source": [
    "# COVID-19 Case Race\n",
    "> A race chart to see rising cases around the world\n",
    "\n",
    "- author: Hargun Oberoi\n",
    "- image: images/covid-overview.png\n",
    "- hide: false\n",
    "- badges: false"
   ]
  },
  {
   "cell_type": "code",
   "execution_count": 1,
   "metadata": {
    "execution": {
     "iopub.execute_input": "2020-12-06T00:12:50.916718Z",
     "iopub.status.busy": "2020-12-06T00:12:50.916036Z",
     "iopub.status.idle": "2020-12-06T00:12:51.309057Z",
     "shell.execute_reply": "2020-12-06T00:12:51.308397Z"
    },
    "papermill": {
     "duration": 0.446216,
     "end_time": "2020-12-06T00:12:51.309229",
     "exception": false,
     "start_time": "2020-12-06T00:12:50.863013",
     "status": "completed"
    },
    "tags": []
   },
   "outputs": [],
   "source": [
    "#hide\n",
    "import numpy as np\n",
    "import pandas as pd\n",
    "from jinja2 import Template\n",
    "from IPython.display import HTML"
   ]
  },
  {
   "cell_type": "code",
   "execution_count": 2,
   "metadata": {
    "execution": {
     "iopub.execute_input": "2020-12-06T00:12:51.386273Z",
     "iopub.status.busy": "2020-12-06T00:12:51.385581Z",
     "iopub.status.idle": "2020-12-06T00:12:51.388085Z",
     "shell.execute_reply": "2020-12-06T00:12:51.387361Z"
    },
    "papermill": {
     "duration": 0.044077,
     "end_time": "2020-12-06T00:12:51.388228",
     "exception": false,
     "start_time": "2020-12-06T00:12:51.344151",
     "status": "completed"
    },
    "tags": []
   },
   "outputs": [],
   "source": [
    "#hide\n",
    "\n",
    "# FETCH\n",
    "base_url = 'https://raw.githubusercontent.com/pratapvardhan/notebooks/master/covid19/'\n",
    "paths = {\n",
    "    'mapping': base_url + 'mapping_countries.csv',\n",
    "    'overview': base_url + 'overview.tpl'\n",
    "}"
   ]
  },
  {
   "cell_type": "code",
   "execution_count": 3,
   "metadata": {
    "execution": {
     "iopub.execute_input": "2020-12-06T00:12:51.469572Z",
     "iopub.status.busy": "2020-12-06T00:12:51.468894Z",
     "iopub.status.idle": "2020-12-06T00:12:51.472660Z",
     "shell.execute_reply": "2020-12-06T00:12:51.471984Z"
    },
    "papermill": {
     "duration": 0.049156,
     "end_time": "2020-12-06T00:12:51.472803",
     "exception": false,
     "start_time": "2020-12-06T00:12:51.423647",
     "status": "completed"
    },
    "tags": []
   },
   "outputs": [
    {
     "data": {
      "text/plain": [
       "'https://raw.githubusercontent.com/pratapvardhan/notebooks/master/covid19/mapping_countries.csv'"
      ]
     },
     "execution_count": 3,
     "metadata": {},
     "output_type": "execute_result"
    }
   ],
   "source": [
    "#hide\n",
    "paths['mapping']"
   ]
  },
  {
   "cell_type": "code",
   "execution_count": 4,
   "metadata": {
    "execution": {
     "iopub.execute_input": "2020-12-06T00:12:51.550383Z",
     "iopub.status.busy": "2020-12-06T00:12:51.549619Z",
     "iopub.status.idle": "2020-12-06T00:12:51.552473Z",
     "shell.execute_reply": "2020-12-06T00:12:51.551853Z"
    },
    "papermill": {
     "duration": 0.043856,
     "end_time": "2020-12-06T00:12:51.552609",
     "exception": false,
     "start_time": "2020-12-06T00:12:51.508753",
     "status": "completed"
    },
    "tags": []
   },
   "outputs": [],
   "source": [
    "#hide\n",
    "def get_mappings(url):\n",
    "    df = pd.read_csv(url)\n",
    "    return {\n",
    "        'df': df,\n",
    "        'replace.country': dict(df.dropna(subset=['Name']).set_index('Country')['Name']),\n",
    "        'map.continent': dict(df.set_index('Name')['Continent'])\n",
    "    }"
   ]
  },
  {
   "cell_type": "code",
   "execution_count": 5,
   "metadata": {
    "execution": {
     "iopub.execute_input": "2020-12-06T00:12:51.633600Z",
     "iopub.status.busy": "2020-12-06T00:12:51.632930Z",
     "iopub.status.idle": "2020-12-06T00:12:51.713307Z",
     "shell.execute_reply": "2020-12-06T00:12:51.713844Z"
    },
    "papermill": {
     "duration": 0.126539,
     "end_time": "2020-12-06T00:12:51.714036",
     "exception": false,
     "start_time": "2020-12-06T00:12:51.587497",
     "status": "completed"
    },
    "tags": []
   },
   "outputs": [],
   "source": [
    "#hide\n",
    "mapping = get_mappings(paths['mapping'])"
   ]
  },
  {
   "cell_type": "code",
   "execution_count": 6,
   "metadata": {
    "execution": {
     "iopub.execute_input": "2020-12-06T00:12:51.792192Z",
     "iopub.status.busy": "2020-12-06T00:12:51.791489Z",
     "iopub.status.idle": "2020-12-06T00:12:51.793395Z",
     "shell.execute_reply": "2020-12-06T00:12:51.794048Z"
    },
    "papermill": {
     "duration": 0.043508,
     "end_time": "2020-12-06T00:12:51.794208",
     "exception": false,
     "start_time": "2020-12-06T00:12:51.750700",
     "status": "completed"
    },
    "tags": []
   },
   "outputs": [],
   "source": [
    "#hide\n",
    "def get_template(path):\n",
    "    from urllib.parse import urlparse\n",
    "    if bool(urlparse(path).netloc):\n",
    "        from urllib.request import urlopen\n",
    "        return urlopen(path).read().decode('utf8')\n",
    "    return open(path).read()"
   ]
  },
  {
   "cell_type": "code",
   "execution_count": 7,
   "metadata": {
    "execution": {
     "iopub.execute_input": "2020-12-06T00:12:51.871089Z",
     "iopub.status.busy": "2020-12-06T00:12:51.870390Z",
     "iopub.status.idle": "2020-12-06T00:12:51.872986Z",
     "shell.execute_reply": "2020-12-06T00:12:51.872421Z"
    },
    "papermill": {
     "duration": 0.044394,
     "end_time": "2020-12-06T00:12:51.873122",
     "exception": false,
     "start_time": "2020-12-06T00:12:51.828728",
     "status": "completed"
    },
    "tags": []
   },
   "outputs": [],
   "source": [
    "#hide\n",
    "def get_frame(name):\n",
    "    url = (\n",
    "        'https://raw.githubusercontent.com/CSSEGISandData/COVID-19/master/csse_covid_19_data/'\n",
    "        f'csse_covid_19_time_series/time_series_covid19_{name}_global.csv')\n",
    "    df = pd.read_csv(url)\n",
    "    # rename countries\n",
    "    df['Country/Region'] = df['Country/Region'].replace(mapping['replace.country'])\n",
    "    return df"
   ]
  },
  {
   "cell_type": "code",
   "execution_count": 8,
   "metadata": {
    "execution": {
     "iopub.execute_input": "2020-12-06T00:12:51.956182Z",
     "iopub.status.busy": "2020-12-06T00:12:51.955460Z",
     "iopub.status.idle": "2020-12-06T00:12:51.958004Z",
     "shell.execute_reply": "2020-12-06T00:12:51.957356Z"
    },
    "papermill": {
     "duration": 0.044206,
     "end_time": "2020-12-06T00:12:51.958148",
     "exception": false,
     "start_time": "2020-12-06T00:12:51.913942",
     "status": "completed"
    },
    "tags": []
   },
   "outputs": [],
   "source": [
    "#hide\n",
    "def get_dates(df):\n",
    "    dt_cols = df.columns[~df.columns.isin(['Province/State', 'Country/Region', 'Lat', 'Long'])]\n",
    "    LAST_DATE_I = -1\n",
    "    # sometimes last column may be empty, then go backwards\n",
    "    for i in range(-1, -len(dt_cols), -1):\n",
    "        if not df[dt_cols[i]].fillna(0).eq(0).all():\n",
    "            LAST_DATE_I = i\n",
    "            break\n",
    "    return LAST_DATE_I, dt_cols"
   ]
  },
  {
   "cell_type": "code",
   "execution_count": 9,
   "metadata": {
    "execution": {
     "iopub.execute_input": "2020-12-06T00:12:52.036184Z",
     "iopub.status.busy": "2020-12-06T00:12:52.035452Z",
     "iopub.status.idle": "2020-12-06T00:12:52.744865Z",
     "shell.execute_reply": "2020-12-06T00:12:52.744135Z"
    },
    "papermill": {
     "duration": 0.750077,
     "end_time": "2020-12-06T00:12:52.745175",
     "exception": false,
     "start_time": "2020-12-06T00:12:51.995098",
     "status": "completed"
    },
    "tags": []
   },
   "outputs": [],
   "source": [
    "#hide\n",
    "COL_REGION = 'Country/Region'\n",
    "# Confirmed, Recovered, Deaths\n",
    "df = get_frame('confirmed')\n",
    "# dft_: timeseries, dfc_: today country agg\n",
    "dft_cases = df\n",
    "dft_deaths = get_frame('deaths')\n",
    "dft_recovered = get_frame('recovered')\n",
    "LAST_DATE_I, dt_cols = get_dates(df)"
   ]
  },
  {
   "cell_type": "code",
   "execution_count": 10,
   "metadata": {
    "execution": {
     "iopub.execute_input": "2020-12-06T00:12:52.824788Z",
     "iopub.status.busy": "2020-12-06T00:12:52.824107Z",
     "iopub.status.idle": "2020-12-06T00:12:52.826552Z",
     "shell.execute_reply": "2020-12-06T00:12:52.825886Z"
    },
    "papermill": {
     "duration": 0.044655,
     "end_time": "2020-12-06T00:12:52.826707",
     "exception": false,
     "start_time": "2020-12-06T00:12:52.782052",
     "status": "completed"
    },
    "tags": []
   },
   "outputs": [],
   "source": [
    "#hide\n",
    "LAST_DATE_I, dt_cols = get_dates(df)\n",
    "dt_today =dt_cols[LAST_DATE_I]\n",
    "# dt_5day = dt_cols[LAST_DATE_I - 5]\n",
    "dt_yday = dt_cols[LAST_DATE_I - 1]"
   ]
  },
  {
   "cell_type": "code",
   "execution_count": 11,
   "metadata": {
    "execution": {
     "iopub.execute_input": "2020-12-06T00:12:52.910703Z",
     "iopub.status.busy": "2020-12-06T00:12:52.910011Z",
     "iopub.status.idle": "2020-12-06T00:12:52.919722Z",
     "shell.execute_reply": "2020-12-06T00:12:52.918812Z"
    },
    "papermill": {
     "duration": 0.051736,
     "end_time": "2020-12-06T00:12:52.919944",
     "exception": false,
     "start_time": "2020-12-06T00:12:52.868208",
     "status": "completed"
    },
    "tags": []
   },
   "outputs": [],
   "source": [
    "#hide\n",
    "dfc_cases = dft_cases.groupby(COL_REGION)[dt_today].sum()\n",
    "dfc_deaths = dft_deaths.groupby(COL_REGION)[dt_today].sum()\n",
    "# dfp_cases = dft_cases.groupby(COL_REGION)[dt_5day].sum()\n",
    "# dfp_deaths = dft_deaths.groupby(COL_REGION)[dt_5day].sum()\n",
    "dfp_cases = dft_cases.groupby(COL_REGION)[dt_yday].sum()\n",
    "dfp_deaths = dft_deaths.groupby(COL_REGION)[dt_yday].sum()"
   ]
  },
  {
   "cell_type": "code",
   "execution_count": 12,
   "metadata": {
    "execution": {
     "iopub.execute_input": "2020-12-06T00:12:53.003897Z",
     "iopub.status.busy": "2020-12-06T00:12:53.003075Z",
     "iopub.status.idle": "2020-12-06T00:12:53.008293Z",
     "shell.execute_reply": "2020-12-06T00:12:53.008934Z"
    },
    "papermill": {
     "duration": 0.05261,
     "end_time": "2020-12-06T00:12:53.009103",
     "exception": false,
     "start_time": "2020-12-06T00:12:52.956493",
     "status": "completed"
    },
    "tags": []
   },
   "outputs": [],
   "source": [
    "#hide\n",
    "df_table = (pd.DataFrame(dict(Cases = dfc_cases, Deaths = dfc_deaths, PCases = dfp_cases, PDeaths = dfp_deaths))\n",
    "            .sort_values(by = ['Cases','Deaths'], ascending = [False, False])\n",
    "            .reset_index())"
   ]
  },
  {
   "cell_type": "code",
   "execution_count": 13,
   "metadata": {
    "execution": {
     "iopub.execute_input": "2020-12-06T00:12:53.113086Z",
     "iopub.status.busy": "2020-12-06T00:12:53.107577Z",
     "iopub.status.idle": "2020-12-06T00:12:53.121871Z",
     "shell.execute_reply": "2020-12-06T00:12:53.121296Z"
    },
    "papermill": {
     "duration": 0.071769,
     "end_time": "2020-12-06T00:12:53.122020",
     "exception": false,
     "start_time": "2020-12-06T00:12:53.050251",
     "status": "completed"
    },
    "tags": []
   },
   "outputs": [
    {
     "data": {
      "text/html": [
       "<div>\n",
       "<style scoped>\n",
       "    .dataframe tbody tr th:only-of-type {\n",
       "        vertical-align: middle;\n",
       "    }\n",
       "\n",
       "    .dataframe tbody tr th {\n",
       "        vertical-align: top;\n",
       "    }\n",
       "\n",
       "    .dataframe thead th {\n",
       "        text-align: right;\n",
       "    }\n",
       "</style>\n",
       "<table border=\"1\" class=\"dataframe\">\n",
       "  <thead>\n",
       "    <tr style=\"text-align: right;\">\n",
       "      <th></th>\n",
       "      <th>Country/Region</th>\n",
       "      <th>Cases</th>\n",
       "      <th>Deaths</th>\n",
       "      <th>PCases</th>\n",
       "      <th>PDeaths</th>\n",
       "      <th>Cases (+)</th>\n",
       "      <th>Deaths (+)</th>\n",
       "      <th>Fatality Rate</th>\n",
       "      <th>Continent</th>\n",
       "    </tr>\n",
       "  </thead>\n",
       "  <tbody>\n",
       "    <tr>\n",
       "      <th>0</th>\n",
       "      <td>US</td>\n",
       "      <td>14367462</td>\n",
       "      <td>278932</td>\n",
       "      <td>14139577</td>\n",
       "      <td>276325</td>\n",
       "      <td>227885</td>\n",
       "      <td>2607</td>\n",
       "      <td>1.94</td>\n",
       "      <td>North America</td>\n",
       "    </tr>\n",
       "    <tr>\n",
       "      <th>1</th>\n",
       "      <td>India</td>\n",
       "      <td>9608211</td>\n",
       "      <td>139700</td>\n",
       "      <td>9571559</td>\n",
       "      <td>139188</td>\n",
       "      <td>36652</td>\n",
       "      <td>512</td>\n",
       "      <td>1.45</td>\n",
       "      <td>Asia</td>\n",
       "    </tr>\n",
       "    <tr>\n",
       "      <th>2</th>\n",
       "      <td>Brazil</td>\n",
       "      <td>6533968</td>\n",
       "      <td>175964</td>\n",
       "      <td>6487084</td>\n",
       "      <td>175270</td>\n",
       "      <td>46884</td>\n",
       "      <td>694</td>\n",
       "      <td>2.69</td>\n",
       "      <td>South America</td>\n",
       "    </tr>\n",
       "    <tr>\n",
       "      <th>3</th>\n",
       "      <td>Russia</td>\n",
       "      <td>2382012</td>\n",
       "      <td>41730</td>\n",
       "      <td>2354934</td>\n",
       "      <td>41173</td>\n",
       "      <td>27078</td>\n",
       "      <td>557</td>\n",
       "      <td>1.75</td>\n",
       "      <td>Europe</td>\n",
       "    </tr>\n",
       "    <tr>\n",
       "      <th>4</th>\n",
       "      <td>France</td>\n",
       "      <td>2321703</td>\n",
       "      <td>54859</td>\n",
       "      <td>2310271</td>\n",
       "      <td>54231</td>\n",
       "      <td>11432</td>\n",
       "      <td>628</td>\n",
       "      <td>2.36</td>\n",
       "      <td>Europe</td>\n",
       "    </tr>\n",
       "  </tbody>\n",
       "</table>\n",
       "</div>"
      ],
      "text/plain": [
       "  Country/Region     Cases  Deaths    PCases  PDeaths  Cases (+)  Deaths (+)  \\\n",
       "0             US  14367462  278932  14139577   276325     227885        2607   \n",
       "1          India   9608211  139700   9571559   139188      36652         512   \n",
       "2         Brazil   6533968  175964   6487084   175270      46884         694   \n",
       "3         Russia   2382012   41730   2354934    41173      27078         557   \n",
       "4         France   2321703   54859   2310271    54231      11432         628   \n",
       "\n",
       "   Fatality Rate      Continent  \n",
       "0           1.94  North America  \n",
       "1           1.45           Asia  \n",
       "2           2.69  South America  \n",
       "3           1.75         Europe  \n",
       "4           2.36         Europe  "
      ]
     },
     "execution_count": 13,
     "metadata": {},
     "output_type": "execute_result"
    }
   ],
   "source": [
    "#hide\n",
    "for c in 'Cases, Deaths'.split(', '):\n",
    "    df_table[f'{c} (+)'] = (df_table[c] - df_table[f'P{c}']).clip(0)\n",
    "    #Clip ça veut dire, les chiffres negatif sont interdit\n",
    "df_table['Fatality Rate'] = (100* df_table['Deaths']/ df_table['Cases']).round(2)\n",
    "df_table['Continent'] = df_table['Country/Region'].map(mapping['map.continent'])\n",
    "df_table.head(5)"
   ]
  },
  {
   "cell_type": "code",
   "execution_count": 14,
   "metadata": {
    "execution": {
     "iopub.execute_input": "2020-12-06T00:12:53.203277Z",
     "iopub.status.busy": "2020-12-06T00:12:53.202589Z",
     "iopub.status.idle": "2020-12-06T00:12:53.205129Z",
     "shell.execute_reply": "2020-12-06T00:12:53.204528Z"
    },
    "papermill": {
     "duration": 0.047264,
     "end_time": "2020-12-06T00:12:53.205318",
     "exception": false,
     "start_time": "2020-12-06T00:12:53.158054",
     "status": "completed"
    },
    "tags": []
   },
   "outputs": [],
   "source": [
    "#hide\n",
    "#delete problematic countries from table\n",
    "df_table = df_table[~df_table['Country/Region'].isin(['Cape Verde', 'Cruise Ship', 'Kosovo'])]"
   ]
  },
  {
   "cell_type": "code",
   "execution_count": 15,
   "metadata": {
    "execution": {
     "iopub.execute_input": "2020-12-06T00:12:53.287641Z",
     "iopub.status.busy": "2020-12-06T00:12:53.286949Z",
     "iopub.status.idle": "2020-12-06T00:12:53.311315Z",
     "shell.execute_reply": "2020-12-06T00:12:53.311966Z"
    },
    "papermill": {
     "duration": 0.071131,
     "end_time": "2020-12-06T00:12:53.312157",
     "exception": false,
     "start_time": "2020-12-06T00:12:53.241026",
     "status": "completed"
    },
    "tags": []
   },
   "outputs": [
    {
     "data": {
      "text/html": [
       "<div>\n",
       "<style scoped>\n",
       "    .dataframe tbody tr th:only-of-type {\n",
       "        vertical-align: middle;\n",
       "    }\n",
       "\n",
       "    .dataframe tbody tr th {\n",
       "        vertical-align: top;\n",
       "    }\n",
       "\n",
       "    .dataframe thead th {\n",
       "        text-align: right;\n",
       "    }\n",
       "</style>\n",
       "<table border=\"1\" class=\"dataframe\">\n",
       "  <thead>\n",
       "    <tr style=\"text-align: right;\">\n",
       "      <th></th>\n",
       "      <th>Country/Region</th>\n",
       "      <th>Cases</th>\n",
       "      <th>Deaths</th>\n",
       "      <th>PCases</th>\n",
       "      <th>PDeaths</th>\n",
       "      <th>Cases (+)</th>\n",
       "      <th>Deaths (+)</th>\n",
       "      <th>Fatality Rate</th>\n",
       "      <th>Continent</th>\n",
       "    </tr>\n",
       "  </thead>\n",
       "  <tbody>\n",
       "    <tr>\n",
       "      <th>0</th>\n",
       "      <td>US</td>\n",
       "      <td>14367462</td>\n",
       "      <td>278932</td>\n",
       "      <td>14139577</td>\n",
       "      <td>276325</td>\n",
       "      <td>227885</td>\n",
       "      <td>2607</td>\n",
       "      <td>1.9</td>\n",
       "      <td>North America</td>\n",
       "    </tr>\n",
       "    <tr>\n",
       "      <th>1</th>\n",
       "      <td>India</td>\n",
       "      <td>9608211</td>\n",
       "      <td>139700</td>\n",
       "      <td>9571559</td>\n",
       "      <td>139188</td>\n",
       "      <td>36652</td>\n",
       "      <td>512</td>\n",
       "      <td>1.5</td>\n",
       "      <td>Asia</td>\n",
       "    </tr>\n",
       "    <tr>\n",
       "      <th>2</th>\n",
       "      <td>Brazil</td>\n",
       "      <td>6533968</td>\n",
       "      <td>175964</td>\n",
       "      <td>6487084</td>\n",
       "      <td>175270</td>\n",
       "      <td>46884</td>\n",
       "      <td>694</td>\n",
       "      <td>2.7</td>\n",
       "      <td>South America</td>\n",
       "    </tr>\n",
       "    <tr>\n",
       "      <th>3</th>\n",
       "      <td>Russia</td>\n",
       "      <td>2382012</td>\n",
       "      <td>41730</td>\n",
       "      <td>2354934</td>\n",
       "      <td>41173</td>\n",
       "      <td>27078</td>\n",
       "      <td>557</td>\n",
       "      <td>1.8</td>\n",
       "      <td>Europe</td>\n",
       "    </tr>\n",
       "    <tr>\n",
       "      <th>4</th>\n",
       "      <td>France</td>\n",
       "      <td>2321703</td>\n",
       "      <td>54859</td>\n",
       "      <td>2310271</td>\n",
       "      <td>54231</td>\n",
       "      <td>11432</td>\n",
       "      <td>628</td>\n",
       "      <td>2.4</td>\n",
       "      <td>Europe</td>\n",
       "    </tr>\n",
       "  </tbody>\n",
       "</table>\n",
       "</div>"
      ],
      "text/plain": [
       "  Country/Region     Cases  Deaths    PCases  PDeaths  Cases (+)  Deaths (+)  \\\n",
       "0             US  14367462  278932  14139577   276325     227885        2607   \n",
       "1          India   9608211  139700   9571559   139188      36652         512   \n",
       "2         Brazil   6533968  175964   6487084   175270      46884         694   \n",
       "3         Russia   2382012   41730   2354934    41173      27078         557   \n",
       "4         France   2321703   54859   2310271    54231      11432         628   \n",
       "\n",
       "   Fatality Rate      Continent  \n",
       "0            1.9  North America  \n",
       "1            1.5           Asia  \n",
       "2            2.7  South America  \n",
       "3            1.8         Europe  \n",
       "4            2.4         Europe  "
      ]
     },
     "execution_count": 15,
     "metadata": {},
     "output_type": "execute_result"
    }
   ],
   "source": [
    "#hide\n",
    "df_table = (pd.DataFrame(dict(Cases=dfc_cases, Deaths=dfc_deaths, PCases=dfp_cases, PDeaths=dfp_deaths))\n",
    "             .sort_values(by=['Cases', 'Deaths'], ascending=[False, False])\n",
    "             .reset_index())\n",
    "df_table.rename(columns={'index': 'Country/Region'}, inplace=True)\n",
    "for c in 'Cases, Deaths'.split(', '):\n",
    "    df_table[f'{c} (+)'] = (df_table[c] - df_table[f'P{c}']).clip(0)  # DATA BUG\n",
    "df_table['Fatality Rate'] = (100 * df_table['Deaths'] / df_table['Cases']).round(1)\n",
    "df_table['Continent'] = df_table['Country/Region'].map(mapping['map.continent'])\n",
    "df_table.head(5)"
   ]
  },
  {
   "cell_type": "code",
   "execution_count": 16,
   "metadata": {
    "execution": {
     "iopub.execute_input": "2020-12-06T00:12:53.391147Z",
     "iopub.status.busy": "2020-12-06T00:12:53.390494Z",
     "iopub.status.idle": "2020-12-06T00:12:53.392805Z",
     "shell.execute_reply": "2020-12-06T00:12:53.393444Z"
    },
    "papermill": {
     "duration": 0.04525,
     "end_time": "2020-12-06T00:12:53.393629",
     "exception": false,
     "start_time": "2020-12-06T00:12:53.348379",
     "status": "completed"
    },
    "tags": []
   },
   "outputs": [],
   "source": [
    "#hide\n",
    "#delete problematic countries from table\n",
    "df_table = df_table[~df_table['Country/Region'].isin(['Cape Verde', 'Cruise Ship', 'Kosovo'])]"
   ]
  },
  {
   "cell_type": "code",
   "execution_count": 17,
   "metadata": {
    "execution": {
     "iopub.execute_input": "2020-12-06T00:12:53.486808Z",
     "iopub.status.busy": "2020-12-06T00:12:53.486066Z",
     "iopub.status.idle": "2020-12-06T00:12:53.488600Z",
     "shell.execute_reply": "2020-12-06T00:12:53.489234Z"
    },
    "papermill": {
     "duration": 0.060506,
     "end_time": "2020-12-06T00:12:53.489420",
     "exception": false,
     "start_time": "2020-12-06T00:12:53.428914",
     "status": "completed"
    },
    "tags": []
   },
   "outputs": [],
   "source": [
    "#hide\n",
    "metrics = [df_table.columns[index] for index in [1,2,5,6]]\n",
    "# s_china = df_table[df_table['Country/Region'].eq('China')][metrics].sum().add_prefix('China ')\n",
    "s_us = df_table[df_table['Country/Region'].eq('US')][metrics].sum().add_prefix('US ')\n",
    "s_eu = df_table[df_table['Continent'].eq('Europe')][metrics].sum().add_prefix('EU ')\n",
    "s_ind = df_table[df_table['Country/Region'].eq('India')][metrics].sum().add_prefix('India ')\n",
    "summary = {'updated': pd.to_datetime(dt_today), 'since': pd.to_datetime(dt_yday)}\n",
    "summary = {'updated': pd.to_datetime(dt_today), 'since': pd.to_datetime(dt_yday)}\n",
    "summary = {**summary, **df_table[metrics].sum(), **s_ind, **s_us, **s_eu}"
   ]
  },
  {
   "cell_type": "code",
   "execution_count": 18,
   "metadata": {
    "execution": {
     "iopub.execute_input": "2020-12-06T00:12:53.576995Z",
     "iopub.status.busy": "2020-12-06T00:12:53.576279Z",
     "iopub.status.idle": "2020-12-06T00:12:53.581148Z",
     "shell.execute_reply": "2020-12-06T00:12:53.580472Z"
    },
    "papermill": {
     "duration": 0.055681,
     "end_time": "2020-12-06T00:12:53.581297",
     "exception": false,
     "start_time": "2020-12-06T00:12:53.525616",
     "status": "completed"
    },
    "tags": []
   },
   "outputs": [],
   "source": [
    "#hide\n",
    "dft_ct_new_cases = dft_cases.groupby(COL_REGION)[dt_cols].sum().diff(axis=1).fillna(0).astype(int)"
   ]
  },
  {
   "cell_type": "code",
   "execution_count": 19,
   "metadata": {
    "execution": {
     "iopub.execute_input": "2020-12-06T00:12:53.682626Z",
     "iopub.status.busy": "2020-12-06T00:12:53.681963Z",
     "iopub.status.idle": "2020-12-06T00:12:53.684237Z",
     "shell.execute_reply": "2020-12-06T00:12:53.684904Z"
    },
    "papermill": {
     "duration": 0.066612,
     "end_time": "2020-12-06T00:12:53.685066",
     "exception": false,
     "start_time": "2020-12-06T00:12:53.618454",
     "status": "completed"
    },
    "tags": []
   },
   "outputs": [],
   "source": [
    "#hide\n",
    "everydaycases = dft_ct_new_cases.cumsum(axis=1)"
   ]
  },
  {
   "cell_type": "code",
   "execution_count": 20,
   "metadata": {
    "execution": {
     "iopub.execute_input": "2020-12-06T00:12:53.772374Z",
     "iopub.status.busy": "2020-12-06T00:12:53.771642Z",
     "iopub.status.idle": "2020-12-06T00:12:54.902138Z",
     "shell.execute_reply": "2020-12-06T00:12:54.901536Z"
    },
    "papermill": {
     "duration": 1.172578,
     "end_time": "2020-12-06T00:12:54.902334",
     "exception": false,
     "start_time": "2020-12-06T00:12:53.729756",
     "status": "completed"
    },
    "tags": []
   },
   "outputs": [],
   "source": [
    "#hide\n",
    "import pandas as pd\n",
    "import matplotlib.pyplot as plt\n",
    "import matplotlib.ticker as ticker\n",
    "import matplotlib.animation as animation\n",
    "from IPython.display import HTML"
   ]
  },
  {
   "cell_type": "code",
   "execution_count": 21,
   "metadata": {
    "execution": {
     "iopub.execute_input": "2020-12-06T00:12:54.982947Z",
     "iopub.status.busy": "2020-12-06T00:12:54.982199Z",
     "iopub.status.idle": "2020-12-06T00:12:54.987267Z",
     "shell.execute_reply": "2020-12-06T00:12:54.988117Z"
    },
    "papermill": {
     "duration": 0.048544,
     "end_time": "2020-12-06T00:12:54.988316",
     "exception": false,
     "start_time": "2020-12-06T00:12:54.939772",
     "status": "completed"
    },
    "tags": []
   },
   "outputs": [],
   "source": [
    "#hide\n",
    "t = everydaycases.stack()"
   ]
  },
  {
   "cell_type": "code",
   "execution_count": 22,
   "metadata": {
    "execution": {
     "iopub.execute_input": "2020-12-06T00:12:55.066310Z",
     "iopub.status.busy": "2020-12-06T00:12:55.065545Z",
     "iopub.status.idle": "2020-12-06T00:12:55.074772Z",
     "shell.execute_reply": "2020-12-06T00:12:55.075336Z"
    },
    "papermill": {
     "duration": 0.050731,
     "end_time": "2020-12-06T00:12:55.075538",
     "exception": false,
     "start_time": "2020-12-06T00:12:55.024807",
     "status": "completed"
    },
    "tags": []
   },
   "outputs": [],
   "source": [
    "#hide\n",
    "g = t.reset_index(['Country/Region'])"
   ]
  },
  {
   "cell_type": "code",
   "execution_count": 23,
   "metadata": {
    "execution": {
     "iopub.execute_input": "2020-12-06T00:12:55.153412Z",
     "iopub.status.busy": "2020-12-06T00:12:55.152732Z",
     "iopub.status.idle": "2020-12-06T00:12:55.159019Z",
     "shell.execute_reply": "2020-12-06T00:12:55.159619Z"
    },
    "papermill": {
     "duration": 0.047834,
     "end_time": "2020-12-06T00:12:55.159788",
     "exception": false,
     "start_time": "2020-12-06T00:12:55.111954",
     "status": "completed"
    },
    "tags": []
   },
   "outputs": [],
   "source": [
    "#hide\n",
    "g.index.name = 'date'"
   ]
  },
  {
   "cell_type": "code",
   "execution_count": 24,
   "metadata": {
    "execution": {
     "iopub.execute_input": "2020-12-06T00:12:55.241017Z",
     "iopub.status.busy": "2020-12-06T00:12:55.240351Z",
     "iopub.status.idle": "2020-12-06T00:12:55.243018Z",
     "shell.execute_reply": "2020-12-06T00:12:55.242393Z"
    },
    "papermill": {
     "duration": 0.046189,
     "end_time": "2020-12-06T00:12:55.243160",
     "exception": false,
     "start_time": "2020-12-06T00:12:55.196971",
     "status": "completed"
    },
    "tags": []
   },
   "outputs": [],
   "source": [
    "# #hide\n",
    "# g = g.reset_index(['date'])"
   ]
  },
  {
   "cell_type": "code",
   "execution_count": 25,
   "metadata": {
    "execution": {
     "iopub.execute_input": "2020-12-06T00:12:55.326902Z",
     "iopub.status.busy": "2020-12-06T00:12:55.326067Z",
     "iopub.status.idle": "2020-12-06T00:12:55.328871Z",
     "shell.execute_reply": "2020-12-06T00:12:55.328105Z"
    },
    "papermill": {
     "duration": 0.049587,
     "end_time": "2020-12-06T00:12:55.329030",
     "exception": false,
     "start_time": "2020-12-06T00:12:55.279443",
     "status": "completed"
    },
    "tags": []
   },
   "outputs": [],
   "source": [
    "#hide\n",
    "# g.head()"
   ]
  },
  {
   "cell_type": "code",
   "execution_count": 26,
   "metadata": {
    "execution": {
     "iopub.execute_input": "2020-12-06T00:12:55.407594Z",
     "iopub.status.busy": "2020-12-06T00:12:55.406916Z",
     "iopub.status.idle": "2020-12-06T00:12:55.408894Z",
     "shell.execute_reply": "2020-12-06T00:12:55.409561Z"
    },
    "papermill": {
     "duration": 0.042909,
     "end_time": "2020-12-06T00:12:55.409729",
     "exception": false,
     "start_time": "2020-12-06T00:12:55.366820",
     "status": "completed"
    },
    "tags": []
   },
   "outputs": [],
   "source": [
    "#hide\n",
    "# g.columns = ['date','country','cases']"
   ]
  },
  {
   "cell_type": "code",
   "execution_count": 27,
   "metadata": {
    "execution": {
     "iopub.execute_input": "2020-12-06T00:12:55.491117Z",
     "iopub.status.busy": "2020-12-06T00:12:55.490368Z",
     "iopub.status.idle": "2020-12-06T00:12:55.493214Z",
     "shell.execute_reply": "2020-12-06T00:12:55.492570Z"
    },
    "papermill": {
     "duration": 0.04384,
     "end_time": "2020-12-06T00:12:55.493359",
     "exception": false,
     "start_time": "2020-12-06T00:12:55.449519",
     "status": "completed"
    },
    "tags": []
   },
   "outputs": [],
   "source": [
    "#hide\n",
    "# g['continent'] = g.country"
   ]
  },
  {
   "cell_type": "code",
   "execution_count": 28,
   "metadata": {
    "execution": {
     "iopub.execute_input": "2020-12-06T00:12:55.572814Z",
     "iopub.status.busy": "2020-12-06T00:12:55.572078Z",
     "iopub.status.idle": "2020-12-06T00:12:55.574149Z",
     "shell.execute_reply": "2020-12-06T00:12:55.574769Z"
    },
    "papermill": {
     "duration": 0.0443,
     "end_time": "2020-12-06T00:12:55.574939",
     "exception": false,
     "start_time": "2020-12-06T00:12:55.530639",
     "status": "completed"
    },
    "tags": []
   },
   "outputs": [],
   "source": [
    "#hide\n",
    "# cols = list(g.columns.values)"
   ]
  },
  {
   "cell_type": "code",
   "execution_count": 29,
   "metadata": {
    "execution": {
     "iopub.execute_input": "2020-12-06T00:12:55.654157Z",
     "iopub.status.busy": "2020-12-06T00:12:55.653400Z",
     "iopub.status.idle": "2020-12-06T00:12:55.656085Z",
     "shell.execute_reply": "2020-12-06T00:12:55.655342Z"
    },
    "papermill": {
     "duration": 0.043325,
     "end_time": "2020-12-06T00:12:55.656260",
     "exception": false,
     "start_time": "2020-12-06T00:12:55.612935",
     "status": "completed"
    },
    "tags": []
   },
   "outputs": [],
   "source": [
    "#hide\n",
    "# cols.insert(0, cols.pop())"
   ]
  },
  {
   "cell_type": "code",
   "execution_count": 30,
   "metadata": {
    "execution": {
     "iopub.execute_input": "2020-12-06T00:12:55.733956Z",
     "iopub.status.busy": "2020-12-06T00:12:55.733086Z",
     "iopub.status.idle": "2020-12-06T00:12:55.735048Z",
     "shell.execute_reply": "2020-12-06T00:12:55.735622Z"
    },
    "papermill": {
     "duration": 0.042006,
     "end_time": "2020-12-06T00:12:55.735817",
     "exception": false,
     "start_time": "2020-12-06T00:12:55.693811",
     "status": "completed"
    },
    "tags": []
   },
   "outputs": [],
   "source": [
    "#hide\n",
    "# g = g[cols]"
   ]
  },
  {
   "cell_type": "code",
   "execution_count": 31,
   "metadata": {
    "execution": {
     "iopub.execute_input": "2020-12-06T00:12:55.823248Z",
     "iopub.status.busy": "2020-12-06T00:12:55.822457Z",
     "iopub.status.idle": "2020-12-06T00:12:55.825398Z",
     "shell.execute_reply": "2020-12-06T00:12:55.824528Z"
    },
    "papermill": {
     "duration": 0.044574,
     "end_time": "2020-12-06T00:12:55.825632",
     "exception": false,
     "start_time": "2020-12-06T00:12:55.781058",
     "status": "completed"
    },
    "tags": []
   },
   "outputs": [],
   "source": [
    "#hide\n",
    "# g['continent'] = g['continent'].map(mapping['map.continent'])"
   ]
  },
  {
   "cell_type": "code",
   "execution_count": 32,
   "metadata": {
    "execution": {
     "iopub.execute_input": "2020-12-06T00:12:55.910058Z",
     "iopub.status.busy": "2020-12-06T00:12:55.909071Z",
     "iopub.status.idle": "2020-12-06T00:12:55.910785Z",
     "shell.execute_reply": "2020-12-06T00:12:55.911478Z"
    },
    "papermill": {
     "duration": 0.045064,
     "end_time": "2020-12-06T00:12:55.911643",
     "exception": false,
     "start_time": "2020-12-06T00:12:55.866579",
     "status": "completed"
    },
    "tags": []
   },
   "outputs": [],
   "source": [
    "#hide\n",
    "# g.head()"
   ]
  },
  {
   "cell_type": "code",
   "execution_count": 33,
   "metadata": {
    "execution": {
     "iopub.execute_input": "2020-12-06T00:12:55.989316Z",
     "iopub.status.busy": "2020-12-06T00:12:55.988621Z",
     "iopub.status.idle": "2020-12-06T00:12:55.990710Z",
     "shell.execute_reply": "2020-12-06T00:12:55.991227Z"
    },
    "papermill": {
     "duration": 0.043173,
     "end_time": "2020-12-06T00:12:55.991386",
     "exception": false,
     "start_time": "2020-12-06T00:12:55.948213",
     "status": "completed"
    },
    "tags": []
   },
   "outputs": [],
   "source": [
    "# hide\n",
    "# g['date'] = g['date'].astype('datetime64[ns]')"
   ]
  },
  {
   "cell_type": "code",
   "execution_count": 34,
   "metadata": {
    "execution": {
     "iopub.execute_input": "2020-12-06T00:12:56.073497Z",
     "iopub.status.busy": "2020-12-06T00:12:56.072804Z",
     "iopub.status.idle": "2020-12-06T00:12:56.076745Z",
     "shell.execute_reply": "2020-12-06T00:12:56.077354Z"
    },
    "papermill": {
     "duration": 0.048949,
     "end_time": "2020-12-06T00:12:56.077526",
     "exception": false,
     "start_time": "2020-12-06T00:12:56.028577",
     "status": "completed"
    },
    "tags": []
   },
   "outputs": [],
   "source": [
    "#hide\n",
    "# g['date'] = g.date.dt.dayofyear"
   ]
  },
  {
   "cell_type": "code",
   "execution_count": 35,
   "metadata": {
    "execution": {
     "iopub.execute_input": "2020-12-06T00:12:56.168218Z",
     "iopub.status.busy": "2020-12-06T00:12:56.167522Z",
     "iopub.status.idle": "2020-12-06T00:12:56.170787Z",
     "shell.execute_reply": "2020-12-06T00:12:56.170218Z"
    },
    "papermill": {
     "duration": 0.051192,
     "end_time": "2020-12-06T00:12:56.170929",
     "exception": false,
     "start_time": "2020-12-06T00:12:56.119737",
     "status": "completed"
    },
    "tags": []
   },
   "outputs": [],
   "source": [
    "#hide\n",
    "# g = g.rename(columns= {'continent':'group','country':'name','cases':'value'})"
   ]
  },
  {
   "cell_type": "code",
   "execution_count": 36,
   "metadata": {
    "execution": {
     "iopub.execute_input": "2020-12-06T00:12:56.251139Z",
     "iopub.status.busy": "2020-12-06T00:12:56.250447Z",
     "iopub.status.idle": "2020-12-06T00:12:56.252687Z",
     "shell.execute_reply": "2020-12-06T00:12:56.253773Z"
    },
    "papermill": {
     "duration": 0.043642,
     "end_time": "2020-12-06T00:12:56.253938",
     "exception": false,
     "start_time": "2020-12-06T00:12:56.210296",
     "status": "completed"
    },
    "tags": []
   },
   "outputs": [],
   "source": [
    "#hide\n",
    "# cols = ['name','group','day','value']"
   ]
  },
  {
   "cell_type": "code",
   "execution_count": 37,
   "metadata": {
    "execution": {
     "iopub.execute_input": "2020-12-06T00:12:56.337200Z",
     "iopub.status.busy": "2020-12-06T00:12:56.336531Z",
     "iopub.status.idle": "2020-12-06T00:12:56.339060Z",
     "shell.execute_reply": "2020-12-06T00:12:56.338406Z"
    },
    "papermill": {
     "duration": 0.047959,
     "end_time": "2020-12-06T00:12:56.339197",
     "exception": false,
     "start_time": "2020-12-06T00:12:56.291238",
     "status": "completed"
    },
    "tags": []
   },
   "outputs": [],
   "source": [
    "#hide\n",
    "# g.rename(columns= {'date':'day'},inplace = True)"
   ]
  },
  {
   "cell_type": "code",
   "execution_count": 38,
   "metadata": {
    "execution": {
     "iopub.execute_input": "2020-12-06T00:12:56.417230Z",
     "iopub.status.busy": "2020-12-06T00:12:56.416540Z",
     "iopub.status.idle": "2020-12-06T00:12:56.418521Z",
     "shell.execute_reply": "2020-12-06T00:12:56.419157Z"
    },
    "papermill": {
     "duration": 0.04408,
     "end_time": "2020-12-06T00:12:56.419324",
     "exception": false,
     "start_time": "2020-12-06T00:12:56.375244",
     "status": "completed"
    },
    "tags": []
   },
   "outputs": [],
   "source": [
    "#hide\n",
    "# g = g[cols]"
   ]
  },
  {
   "cell_type": "code",
   "execution_count": 39,
   "metadata": {
    "execution": {
     "iopub.execute_input": "2020-12-06T00:12:56.499968Z",
     "iopub.status.busy": "2020-12-06T00:12:56.499241Z",
     "iopub.status.idle": "2020-12-06T00:12:56.501758Z",
     "shell.execute_reply": "2020-12-06T00:12:56.501087Z"
    },
    "papermill": {
     "duration": 0.043668,
     "end_time": "2020-12-06T00:12:56.501898",
     "exception": false,
     "start_time": "2020-12-06T00:12:56.458230",
     "status": "completed"
    },
    "tags": []
   },
   "outputs": [],
   "source": [
    "# #hide\n",
    "# g = g[g.group.notna()]"
   ]
  },
  {
   "cell_type": "code",
   "execution_count": 40,
   "metadata": {
    "execution": {
     "iopub.execute_input": "2020-12-06T00:12:56.578906Z",
     "iopub.status.busy": "2020-12-06T00:12:56.578193Z",
     "iopub.status.idle": "2020-12-06T00:12:56.580823Z",
     "shell.execute_reply": "2020-12-06T00:12:56.580211Z"
    },
    "papermill": {
     "duration": 0.042495,
     "end_time": "2020-12-06T00:12:56.580964",
     "exception": false,
     "start_time": "2020-12-06T00:12:56.538469",
     "status": "completed"
    },
    "tags": []
   },
   "outputs": [],
   "source": [
    "# #hide\n",
    "# colors = dict(zip(\n",
    "#     [\"Oceania\", \"Europe\", \"Asia\", \"South America\", \"Middle East\", \"North America\", \"Africa\"],\n",
    "#     [\"#adb0ff\", \"#ffb3ff\", \"#90d595\", \"#e48381\", \"#aafbff\", \"#f7bb5f\", \"#eafb50\"]\n",
    "# ))\n",
    "# group_lk = g.set_index('name')['group'].to_dict()"
   ]
  },
  {
   "cell_type": "code",
   "execution_count": null,
   "metadata": {
    "papermill": {
     "duration": 0.035736,
     "end_time": "2020-12-06T00:12:56.652933",
     "exception": false,
     "start_time": "2020-12-06T00:12:56.617197",
     "status": "completed"
    },
    "tags": []
   },
   "outputs": [],
   "source": []
  },
  {
   "cell_type": "code",
   "execution_count": 41,
   "metadata": {
    "execution": {
     "iopub.execute_input": "2020-12-06T00:12:56.730178Z",
     "iopub.status.busy": "2020-12-06T00:12:56.729431Z",
     "iopub.status.idle": "2020-12-06T00:12:56.732233Z",
     "shell.execute_reply": "2020-12-06T00:12:56.731536Z"
    },
    "papermill": {
     "duration": 0.043527,
     "end_time": "2020-12-06T00:12:56.732379",
     "exception": false,
     "start_time": "2020-12-06T00:12:56.688852",
     "status": "completed"
    },
    "tags": []
   },
   "outputs": [],
   "source": [
    "# #hide\n",
    "# fig, ax = plt.subplots(figsize=(15, 8))\n",
    "\n",
    "# def draw_barchart(current_day):\n",
    "#     dff = g[g['day'].eq(current_day)].sort_values(by='value', ascending=True).tail(10)\n",
    "#     ax.clear()\n",
    "#     ax.barh(dff['name'], dff['value'], color=[colors[group_lk[x]] for x in dff['name']])\n",
    "#     dx = dff['value'].max() / 200\n",
    "    \n",
    "#     for i, (value, name) in enumerate(zip(dff['value'], dff['name'])):\n",
    "#         ax.text(value-dx, i,     name,           size=14, weight=600, ha='right', va='bottom')\n",
    "#         ax.text(value-dx, i-.25, group_lk[name], size=10, color='#444444', ha='right', va='baseline')\n",
    "#         ax.text(value+dx, i,     f'{value:,.0f}',  size=14, ha='left',  va='center')\n",
    "#     ax.text(1, 0.4, current_day, transform=ax.transAxes, color='#777777', size=46, ha='right', weight=800)\n",
    "#     ax.text(0, 1.06, 'Population (thousands)', transform=ax.transAxes, size=12, color='#777777')\n",
    "#     ax.xaxis.set_major_formatter(ticker.StrMethodFormatter('{x:,.0f}'))\n",
    "#     ax.xaxis.set_ticks_position('top')\n",
    "#     ax.tick_params(axis='x', colors='#777777', labelsize=12)\n",
    "#     ax.set_yticks([])\n",
    "#     ax.margins(0, 0.01)\n",
    "#     ax.grid(which='major', axis='x', linestyle='-')\n",
    "#     ax.set_axisbelow(True)\n",
    "    \n",
    "#     ax.text(0, 1.15, 'Coronavirus',\n",
    "#             transform=ax.transAxes, size=24, weight=600, ha='left', va='top')\n",
    "# #     ax.text(1, 0, 'by @pratapvardhan; credit @jburnmurdoch', transform=ax.transAxes, color='#777777', ha='right',\n",
    "# #             bbox=dict(facecolor='white', alpha=0.8, edgecolor='white'))\n",
    "#     plt.box(False)"
   ]
  },
  {
   "cell_type": "code",
   "execution_count": 42,
   "metadata": {
    "execution": {
     "iopub.execute_input": "2020-12-06T00:12:56.810360Z",
     "iopub.status.busy": "2020-12-06T00:12:56.809648Z",
     "iopub.status.idle": "2020-12-06T00:12:56.812199Z",
     "shell.execute_reply": "2020-12-06T00:12:56.811609Z"
    },
    "papermill": {
     "duration": 0.04276,
     "end_time": "2020-12-06T00:12:56.812356",
     "exception": false,
     "start_time": "2020-12-06T00:12:56.769596",
     "status": "completed"
    },
    "tags": []
   },
   "outputs": [],
   "source": [
    "# #hide_input\n",
    "# fig, ax = plt.subplots(figsize=(15, 8))\n",
    "# animator = animation.FuncAnimation(fig, draw_barchart, frames=range(g.day.values.min(), g.day.values.max()))\n",
    "# HTML(animator.to_jshtml())\n",
    "# # or use animator.to_html5_video() or animator.save() "
   ]
  },
  {
   "cell_type": "code",
   "execution_count": null,
   "metadata": {
    "papermill": {
     "duration": 0.044814,
     "end_time": "2020-12-06T00:12:56.896541",
     "exception": false,
     "start_time": "2020-12-06T00:12:56.851727",
     "status": "completed"
    },
    "tags": []
   },
   "outputs": [],
   "source": []
  },
  {
   "cell_type": "code",
   "execution_count": null,
   "metadata": {
    "papermill": {
     "duration": 0.036772,
     "end_time": "2020-12-06T00:12:56.969679",
     "exception": false,
     "start_time": "2020-12-06T00:12:56.932907",
     "status": "completed"
    },
    "tags": []
   },
   "outputs": [],
   "source": []
  },
  {
   "cell_type": "code",
   "execution_count": null,
   "metadata": {
    "papermill": {
     "duration": 0.036921,
     "end_time": "2020-12-06T00:12:57.042752",
     "exception": false,
     "start_time": "2020-12-06T00:12:57.005831",
     "status": "completed"
    },
    "tags": []
   },
   "outputs": [],
   "source": []
  }
 ],
 "metadata": {
  "kernelspec": {
   "display_name": "Python 3",
   "language": "python",
   "name": "python3"
  },
  "language_info": {
   "codemirror_mode": {
    "name": "ipython",
    "version": 3
   },
   "file_extension": ".py",
   "mimetype": "text/x-python",
   "name": "python",
   "nbconvert_exporter": "python",
   "pygments_lexer": "ipython3",
   "version": "3.6.12"
  },
  "papermill": {
   "duration": 7.803683,
   "end_time": "2020-12-06T00:12:57.389983",
   "environment_variables": {},
   "exception": null,
   "input_path": "2020-03-21-covid19exp.ipynb",
   "output_path": "2020-03-21-covid19exp.ipynb",
   "parameters": {},
   "start_time": "2020-12-06T00:12:49.586300",
   "version": "2.0.0"
  }
 },
 "nbformat": 4,
 "nbformat_minor": 4
}