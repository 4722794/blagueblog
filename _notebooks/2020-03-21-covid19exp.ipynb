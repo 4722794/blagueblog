{
 "cells": [
  {
   "cell_type": "markdown",
   "id": "muslim-click",
   "metadata": {
    "papermill": {
     "duration": 0.042931,
     "end_time": "2021-03-23T00:11:44.529120",
     "exception": false,
     "start_time": "2021-03-23T00:11:44.486189",
     "status": "completed"
    },
    "tags": []
   },
   "source": [
    "# COVID-19 Case Race\n",
    "> A race chart to see rising cases around the world\n",
    "\n",
    "- author: Hargun Oberoi\n",
    "- image: images/covid-overview.png\n",
    "- hide: false\n",
    "- badges: false"
   ]
  },
  {
   "cell_type": "code",
   "execution_count": 1,
   "id": "proof-material",
   "metadata": {
    "execution": {
     "iopub.execute_input": "2021-03-23T00:11:44.620327Z",
     "iopub.status.busy": "2021-03-23T00:11:44.619624Z",
     "iopub.status.idle": "2021-03-23T00:11:44.997083Z",
     "shell.execute_reply": "2021-03-23T00:11:44.995791Z"
    },
    "papermill": {
     "duration": 0.42823,
     "end_time": "2021-03-23T00:11:44.997246",
     "exception": false,
     "start_time": "2021-03-23T00:11:44.569016",
     "status": "completed"
    },
    "tags": []
   },
   "outputs": [],
   "source": [
    "#hide\n",
    "import numpy as np\n",
    "import pandas as pd\n",
    "from jinja2 import Template\n",
    "from IPython.display import HTML"
   ]
  },
  {
   "cell_type": "code",
   "execution_count": 2,
   "id": "developed-terminology",
   "metadata": {
    "execution": {
     "iopub.execute_input": "2021-03-23T00:11:45.079436Z",
     "iopub.status.busy": "2021-03-23T00:11:45.078777Z",
     "iopub.status.idle": "2021-03-23T00:11:45.081294Z",
     "shell.execute_reply": "2021-03-23T00:11:45.080761Z"
    },
    "papermill": {
     "duration": 0.045946,
     "end_time": "2021-03-23T00:11:45.081455",
     "exception": false,
     "start_time": "2021-03-23T00:11:45.035509",
     "status": "completed"
    },
    "tags": []
   },
   "outputs": [],
   "source": [
    "#hide\n",
    "\n",
    "# FETCH\n",
    "base_url = 'https://raw.githubusercontent.com/pratapvardhan/notebooks/master/covid19/'\n",
    "paths = {\n",
    "    'mapping': base_url + 'mapping_countries.csv',\n",
    "    'overview': base_url + 'overview.tpl'\n",
    "}"
   ]
  },
  {
   "cell_type": "code",
   "execution_count": 3,
   "id": "dynamic-saver",
   "metadata": {
    "execution": {
     "iopub.execute_input": "2021-03-23T00:11:45.173684Z",
     "iopub.status.busy": "2021-03-23T00:11:45.173012Z",
     "iopub.status.idle": "2021-03-23T00:11:45.176711Z",
     "shell.execute_reply": "2021-03-23T00:11:45.176143Z"
    },
    "papermill": {
     "duration": 0.054837,
     "end_time": "2021-03-23T00:11:45.176847",
     "exception": false,
     "start_time": "2021-03-23T00:11:45.122010",
     "status": "completed"
    },
    "tags": []
   },
   "outputs": [
    {
     "data": {
      "text/plain": [
       "'https://raw.githubusercontent.com/pratapvardhan/notebooks/master/covid19/mapping_countries.csv'"
      ]
     },
     "execution_count": 3,
     "metadata": {},
     "output_type": "execute_result"
    }
   ],
   "source": [
    "#hide\n",
    "paths['mapping']"
   ]
  },
  {
   "cell_type": "code",
   "execution_count": 4,
   "id": "urban-software",
   "metadata": {
    "execution": {
     "iopub.execute_input": "2021-03-23T00:11:45.264755Z",
     "iopub.status.busy": "2021-03-23T00:11:45.264076Z",
     "iopub.status.idle": "2021-03-23T00:11:45.266196Z",
     "shell.execute_reply": "2021-03-23T00:11:45.266813Z"
    },
    "papermill": {
     "duration": 0.047918,
     "end_time": "2021-03-23T00:11:45.266955",
     "exception": false,
     "start_time": "2021-03-23T00:11:45.219037",
     "status": "completed"
    },
    "tags": []
   },
   "outputs": [],
   "source": [
    "#hide\n",
    "def get_mappings(url):\n",
    "    df = pd.read_csv(url)\n",
    "    return {\n",
    "        'df': df,\n",
    "        'replace.country': dict(df.dropna(subset=['Name']).set_index('Country')['Name']),\n",
    "        'map.continent': dict(df.set_index('Name')['Continent'])\n",
    "    }"
   ]
  },
  {
   "cell_type": "code",
   "execution_count": 5,
   "id": "intimate-machinery",
   "metadata": {
    "execution": {
     "iopub.execute_input": "2021-03-23T00:11:45.352711Z",
     "iopub.status.busy": "2021-03-23T00:11:45.352061Z",
     "iopub.status.idle": "2021-03-23T00:11:45.416413Z",
     "shell.execute_reply": "2021-03-23T00:11:45.415651Z"
    },
    "papermill": {
     "duration": 0.109643,
     "end_time": "2021-03-23T00:11:45.416558",
     "exception": false,
     "start_time": "2021-03-23T00:11:45.306915",
     "status": "completed"
    },
    "tags": []
   },
   "outputs": [],
   "source": [
    "#hide\n",
    "mapping = get_mappings(paths['mapping'])"
   ]
  },
  {
   "cell_type": "code",
   "execution_count": 6,
   "id": "certified-tactics",
   "metadata": {
    "execution": {
     "iopub.execute_input": "2021-03-23T00:11:45.500979Z",
     "iopub.status.busy": "2021-03-23T00:11:45.500318Z",
     "iopub.status.idle": "2021-03-23T00:11:45.502568Z",
     "shell.execute_reply": "2021-03-23T00:11:45.503187Z"
    },
    "papermill": {
     "duration": 0.047064,
     "end_time": "2021-03-23T00:11:45.503484",
     "exception": false,
     "start_time": "2021-03-23T00:11:45.456420",
     "status": "completed"
    },
    "tags": []
   },
   "outputs": [],
   "source": [
    "#hide\n",
    "def get_template(path):\n",
    "    from urllib.parse import urlparse\n",
    "    if bool(urlparse(path).netloc):\n",
    "        from urllib.request import urlopen\n",
    "        return urlopen(path).read().decode('utf8')\n",
    "    return open(path).read()"
   ]
  },
  {
   "cell_type": "code",
   "execution_count": 7,
   "id": "realistic-blast",
   "metadata": {
    "execution": {
     "iopub.execute_input": "2021-03-23T00:11:45.586811Z",
     "iopub.status.busy": "2021-03-23T00:11:45.586125Z",
     "iopub.status.idle": "2021-03-23T00:11:45.589307Z",
     "shell.execute_reply": "2021-03-23T00:11:45.588753Z"
    },
    "papermill": {
     "duration": 0.046459,
     "end_time": "2021-03-23T00:11:45.589437",
     "exception": false,
     "start_time": "2021-03-23T00:11:45.542978",
     "status": "completed"
    },
    "tags": []
   },
   "outputs": [],
   "source": [
    "#hide\n",
    "def get_frame(name):\n",
    "    url = (\n",
    "        'https://raw.githubusercontent.com/CSSEGISandData/COVID-19/master/csse_covid_19_data/'\n",
    "        f'csse_covid_19_time_series/time_series_covid19_{name}_global.csv')\n",
    "    df = pd.read_csv(url)\n",
    "    # rename countries\n",
    "    df['Country/Region'] = df['Country/Region'].replace(mapping['replace.country'])\n",
    "    return df"
   ]
  },
  {
   "cell_type": "code",
   "execution_count": 8,
   "id": "affiliated-characterization",
   "metadata": {
    "execution": {
     "iopub.execute_input": "2021-03-23T00:11:45.677921Z",
     "iopub.status.busy": "2021-03-23T00:11:45.677232Z",
     "iopub.status.idle": "2021-03-23T00:11:45.678651Z",
     "shell.execute_reply": "2021-03-23T00:11:45.679364Z"
    },
    "papermill": {
     "duration": 0.050308,
     "end_time": "2021-03-23T00:11:45.679569",
     "exception": false,
     "start_time": "2021-03-23T00:11:45.629261",
     "status": "completed"
    },
    "tags": []
   },
   "outputs": [],
   "source": [
    "#hide\n",
    "def get_dates(df):\n",
    "    dt_cols = df.columns[~df.columns.isin(['Province/State', 'Country/Region', 'Lat', 'Long'])]\n",
    "    LAST_DATE_I = -1\n",
    "    # sometimes last column may be empty, then go backwards\n",
    "    for i in range(-1, -len(dt_cols), -1):\n",
    "        if not df[dt_cols[i]].fillna(0).eq(0).all():\n",
    "            LAST_DATE_I = i\n",
    "            break\n",
    "    return LAST_DATE_I, dt_cols"
   ]
  },
  {
   "cell_type": "code",
   "execution_count": 9,
   "id": "recent-optimization",
   "metadata": {
    "execution": {
     "iopub.execute_input": "2021-03-23T00:11:45.764544Z",
     "iopub.status.busy": "2021-03-23T00:11:45.763834Z",
     "iopub.status.idle": "2021-03-23T00:11:46.244513Z",
     "shell.execute_reply": "2021-03-23T00:11:46.243443Z"
    },
    "papermill": {
     "duration": 0.525329,
     "end_time": "2021-03-23T00:11:46.244658",
     "exception": false,
     "start_time": "2021-03-23T00:11:45.719329",
     "status": "completed"
    },
    "tags": []
   },
   "outputs": [],
   "source": [
    "#hide\n",
    "COL_REGION = 'Country/Region'\n",
    "# Confirmed, Recovered, Deaths\n",
    "df = get_frame('confirmed')\n",
    "# dft_: timeseries, dfc_: today country agg\n",
    "dft_cases = df\n",
    "dft_deaths = get_frame('deaths')\n",
    "dft_recovered = get_frame('recovered')\n",
    "LAST_DATE_I, dt_cols = get_dates(df)"
   ]
  },
  {
   "cell_type": "code",
   "execution_count": 10,
   "id": "absolute-copper",
   "metadata": {
    "execution": {
     "iopub.execute_input": "2021-03-23T00:11:46.328867Z",
     "iopub.status.busy": "2021-03-23T00:11:46.327559Z",
     "iopub.status.idle": "2021-03-23T00:11:46.329570Z",
     "shell.execute_reply": "2021-03-23T00:11:46.330096Z"
    },
    "papermill": {
     "duration": 0.046565,
     "end_time": "2021-03-23T00:11:46.330245",
     "exception": false,
     "start_time": "2021-03-23T00:11:46.283680",
     "status": "completed"
    },
    "tags": []
   },
   "outputs": [],
   "source": [
    "#hide\n",
    "LAST_DATE_I, dt_cols = get_dates(df)\n",
    "dt_today =dt_cols[LAST_DATE_I]\n",
    "# dt_5day = dt_cols[LAST_DATE_I - 5]\n",
    "dt_yday = dt_cols[LAST_DATE_I - 1]"
   ]
  },
  {
   "cell_type": "code",
   "execution_count": 11,
   "id": "restricted-sheriff",
   "metadata": {
    "execution": {
     "iopub.execute_input": "2021-03-23T00:11:46.416539Z",
     "iopub.status.busy": "2021-03-23T00:11:46.415905Z",
     "iopub.status.idle": "2021-03-23T00:11:46.425277Z",
     "shell.execute_reply": "2021-03-23T00:11:46.425948Z"
    },
    "papermill": {
     "duration": 0.055647,
     "end_time": "2021-03-23T00:11:46.426125",
     "exception": false,
     "start_time": "2021-03-23T00:11:46.370478",
     "status": "completed"
    },
    "tags": []
   },
   "outputs": [],
   "source": [
    "#hide\n",
    "dfc_cases = dft_cases.groupby(COL_REGION)[dt_today].sum()\n",
    "dfc_deaths = dft_deaths.groupby(COL_REGION)[dt_today].sum()\n",
    "# dfp_cases = dft_cases.groupby(COL_REGION)[dt_5day].sum()\n",
    "# dfp_deaths = dft_deaths.groupby(COL_REGION)[dt_5day].sum()\n",
    "dfp_cases = dft_cases.groupby(COL_REGION)[dt_yday].sum()\n",
    "dfp_deaths = dft_deaths.groupby(COL_REGION)[dt_yday].sum()"
   ]
  },
  {
   "cell_type": "code",
   "execution_count": 12,
   "id": "deluxe-hepatitis",
   "metadata": {
    "execution": {
     "iopub.execute_input": "2021-03-23T00:11:46.511646Z",
     "iopub.status.busy": "2021-03-23T00:11:46.511015Z",
     "iopub.status.idle": "2021-03-23T00:11:46.516040Z",
     "shell.execute_reply": "2021-03-23T00:11:46.516666Z"
    },
    "papermill": {
     "duration": 0.050292,
     "end_time": "2021-03-23T00:11:46.516825",
     "exception": false,
     "start_time": "2021-03-23T00:11:46.466533",
     "status": "completed"
    },
    "tags": []
   },
   "outputs": [],
   "source": [
    "#hide\n",
    "df_table = (pd.DataFrame(dict(Cases = dfc_cases, Deaths = dfc_deaths, PCases = dfp_cases, PDeaths = dfp_deaths))\n",
    "            .sort_values(by = ['Cases','Deaths'], ascending = [False, False])\n",
    "            .reset_index())"
   ]
  },
  {
   "cell_type": "code",
   "execution_count": 13,
   "id": "educational-chancellor",
   "metadata": {
    "execution": {
     "iopub.execute_input": "2021-03-23T00:11:46.616224Z",
     "iopub.status.busy": "2021-03-23T00:11:46.615538Z",
     "iopub.status.idle": "2021-03-23T00:11:46.624081Z",
     "shell.execute_reply": "2021-03-23T00:11:46.624598Z"
    },
    "papermill": {
     "duration": 0.069367,
     "end_time": "2021-03-23T00:11:46.624748",
     "exception": false,
     "start_time": "2021-03-23T00:11:46.555381",
     "status": "completed"
    },
    "tags": []
   },
   "outputs": [
    {
     "data": {
      "text/html": [
       "<div>\n",
       "<style scoped>\n",
       "    .dataframe tbody tr th:only-of-type {\n",
       "        vertical-align: middle;\n",
       "    }\n",
       "\n",
       "    .dataframe tbody tr th {\n",
       "        vertical-align: top;\n",
       "    }\n",
       "\n",
       "    .dataframe thead th {\n",
       "        text-align: right;\n",
       "    }\n",
       "</style>\n",
       "<table border=\"1\" class=\"dataframe\">\n",
       "  <thead>\n",
       "    <tr style=\"text-align: right;\">\n",
       "      <th></th>\n",
       "      <th>Country/Region</th>\n",
       "      <th>Cases</th>\n",
       "      <th>Deaths</th>\n",
       "      <th>PCases</th>\n",
       "      <th>PDeaths</th>\n",
       "      <th>Cases (+)</th>\n",
       "      <th>Deaths (+)</th>\n",
       "      <th>Fatality Rate</th>\n",
       "      <th>Continent</th>\n",
       "    </tr>\n",
       "  </thead>\n",
       "  <tbody>\n",
       "    <tr>\n",
       "      <th>0</th>\n",
       "      <td>US</td>\n",
       "      <td>29818930</td>\n",
       "      <td>542359</td>\n",
       "      <td>29785285</td>\n",
       "      <td>541927</td>\n",
       "      <td>33645</td>\n",
       "      <td>432</td>\n",
       "      <td>1.82</td>\n",
       "      <td>North America</td>\n",
       "    </tr>\n",
       "    <tr>\n",
       "      <th>1</th>\n",
       "      <td>Brazil</td>\n",
       "      <td>11998233</td>\n",
       "      <td>294042</td>\n",
       "      <td>11950459</td>\n",
       "      <td>292752</td>\n",
       "      <td>47774</td>\n",
       "      <td>1290</td>\n",
       "      <td>2.45</td>\n",
       "      <td>South America</td>\n",
       "    </tr>\n",
       "    <tr>\n",
       "      <th>2</th>\n",
       "      <td>India</td>\n",
       "      <td>11646081</td>\n",
       "      <td>159967</td>\n",
       "      <td>11599130</td>\n",
       "      <td>159755</td>\n",
       "      <td>46951</td>\n",
       "      <td>212</td>\n",
       "      <td>1.37</td>\n",
       "      <td>Asia</td>\n",
       "    </tr>\n",
       "    <tr>\n",
       "      <th>3</th>\n",
       "      <td>Russia</td>\n",
       "      <td>4407031</td>\n",
       "      <td>93457</td>\n",
       "      <td>4397816</td>\n",
       "      <td>93090</td>\n",
       "      <td>9215</td>\n",
       "      <td>367</td>\n",
       "      <td>2.12</td>\n",
       "      <td>Europe</td>\n",
       "    </tr>\n",
       "    <tr>\n",
       "      <th>4</th>\n",
       "      <td>United Kingdom</td>\n",
       "      <td>4310195</td>\n",
       "      <td>126393</td>\n",
       "      <td>4304839</td>\n",
       "      <td>126359</td>\n",
       "      <td>5356</td>\n",
       "      <td>34</td>\n",
       "      <td>2.93</td>\n",
       "      <td>Europe</td>\n",
       "    </tr>\n",
       "  </tbody>\n",
       "</table>\n",
       "</div>"
      ],
      "text/plain": [
       "   Country/Region     Cases  Deaths    PCases  PDeaths  Cases (+)  Deaths (+)  \\\n",
       "0              US  29818930  542359  29785285   541927      33645         432   \n",
       "1          Brazil  11998233  294042  11950459   292752      47774        1290   \n",
       "2           India  11646081  159967  11599130   159755      46951         212   \n",
       "3          Russia   4407031   93457   4397816    93090       9215         367   \n",
       "4  United Kingdom   4310195  126393   4304839   126359       5356          34   \n",
       "\n",
       "   Fatality Rate      Continent  \n",
       "0           1.82  North America  \n",
       "1           2.45  South America  \n",
       "2           1.37           Asia  \n",
       "3           2.12         Europe  \n",
       "4           2.93         Europe  "
      ]
     },
     "execution_count": 13,
     "metadata": {},
     "output_type": "execute_result"
    }
   ],
   "source": [
    "#hide\n",
    "for c in 'Cases, Deaths'.split(', '):\n",
    "    df_table[f'{c} (+)'] = (df_table[c] - df_table[f'P{c}']).clip(0)\n",
    "    #Clip ça veut dire, les chiffres negatif sont interdit\n",
    "df_table['Fatality Rate'] = (100* df_table['Deaths']/ df_table['Cases']).round(2)\n",
    "df_table['Continent'] = df_table['Country/Region'].map(mapping['map.continent'])\n",
    "df_table.head(5)"
   ]
  },
  {
   "cell_type": "code",
   "execution_count": 14,
   "id": "aboriginal-bulgaria",
   "metadata": {
    "execution": {
     "iopub.execute_input": "2021-03-23T00:11:46.712214Z",
     "iopub.status.busy": "2021-03-23T00:11:46.711435Z",
     "iopub.status.idle": "2021-03-23T00:11:46.714413Z",
     "shell.execute_reply": "2021-03-23T00:11:46.713732Z"
    },
    "papermill": {
     "duration": 0.049444,
     "end_time": "2021-03-23T00:11:46.714548",
     "exception": false,
     "start_time": "2021-03-23T00:11:46.665104",
     "status": "completed"
    },
    "tags": []
   },
   "outputs": [],
   "source": [
    "#hide\n",
    "#delete problematic countries from table\n",
    "df_table = df_table[~df_table['Country/Region'].isin(['Cape Verde', 'Cruise Ship', 'Kosovo'])]"
   ]
  },
  {
   "cell_type": "code",
   "execution_count": 15,
   "id": "fantastic-effect",
   "metadata": {
    "execution": {
     "iopub.execute_input": "2021-03-23T00:11:46.805790Z",
     "iopub.status.busy": "2021-03-23T00:11:46.805143Z",
     "iopub.status.idle": "2021-03-23T00:11:46.826623Z",
     "shell.execute_reply": "2021-03-23T00:11:46.827145Z"
    },
    "papermill": {
     "duration": 0.070466,
     "end_time": "2021-03-23T00:11:46.827306",
     "exception": false,
     "start_time": "2021-03-23T00:11:46.756840",
     "status": "completed"
    },
    "tags": []
   },
   "outputs": [
    {
     "data": {
      "text/html": [
       "<div>\n",
       "<style scoped>\n",
       "    .dataframe tbody tr th:only-of-type {\n",
       "        vertical-align: middle;\n",
       "    }\n",
       "\n",
       "    .dataframe tbody tr th {\n",
       "        vertical-align: top;\n",
       "    }\n",
       "\n",
       "    .dataframe thead th {\n",
       "        text-align: right;\n",
       "    }\n",
       "</style>\n",
       "<table border=\"1\" class=\"dataframe\">\n",
       "  <thead>\n",
       "    <tr style=\"text-align: right;\">\n",
       "      <th></th>\n",
       "      <th>Country/Region</th>\n",
       "      <th>Cases</th>\n",
       "      <th>Deaths</th>\n",
       "      <th>PCases</th>\n",
       "      <th>PDeaths</th>\n",
       "      <th>Cases (+)</th>\n",
       "      <th>Deaths (+)</th>\n",
       "      <th>Fatality Rate</th>\n",
       "      <th>Continent</th>\n",
       "    </tr>\n",
       "  </thead>\n",
       "  <tbody>\n",
       "    <tr>\n",
       "      <th>0</th>\n",
       "      <td>US</td>\n",
       "      <td>29818930</td>\n",
       "      <td>542359</td>\n",
       "      <td>29785285</td>\n",
       "      <td>541927</td>\n",
       "      <td>33645</td>\n",
       "      <td>432</td>\n",
       "      <td>1.8</td>\n",
       "      <td>North America</td>\n",
       "    </tr>\n",
       "    <tr>\n",
       "      <th>1</th>\n",
       "      <td>Brazil</td>\n",
       "      <td>11998233</td>\n",
       "      <td>294042</td>\n",
       "      <td>11950459</td>\n",
       "      <td>292752</td>\n",
       "      <td>47774</td>\n",
       "      <td>1290</td>\n",
       "      <td>2.5</td>\n",
       "      <td>South America</td>\n",
       "    </tr>\n",
       "    <tr>\n",
       "      <th>2</th>\n",
       "      <td>India</td>\n",
       "      <td>11646081</td>\n",
       "      <td>159967</td>\n",
       "      <td>11599130</td>\n",
       "      <td>159755</td>\n",
       "      <td>46951</td>\n",
       "      <td>212</td>\n",
       "      <td>1.4</td>\n",
       "      <td>Asia</td>\n",
       "    </tr>\n",
       "    <tr>\n",
       "      <th>3</th>\n",
       "      <td>Russia</td>\n",
       "      <td>4407031</td>\n",
       "      <td>93457</td>\n",
       "      <td>4397816</td>\n",
       "      <td>93090</td>\n",
       "      <td>9215</td>\n",
       "      <td>367</td>\n",
       "      <td>2.1</td>\n",
       "      <td>Europe</td>\n",
       "    </tr>\n",
       "    <tr>\n",
       "      <th>4</th>\n",
       "      <td>United Kingdom</td>\n",
       "      <td>4310195</td>\n",
       "      <td>126393</td>\n",
       "      <td>4304839</td>\n",
       "      <td>126359</td>\n",
       "      <td>5356</td>\n",
       "      <td>34</td>\n",
       "      <td>2.9</td>\n",
       "      <td>Europe</td>\n",
       "    </tr>\n",
       "  </tbody>\n",
       "</table>\n",
       "</div>"
      ],
      "text/plain": [
       "   Country/Region     Cases  Deaths    PCases  PDeaths  Cases (+)  Deaths (+)  \\\n",
       "0              US  29818930  542359  29785285   541927      33645         432   \n",
       "1          Brazil  11998233  294042  11950459   292752      47774        1290   \n",
       "2           India  11646081  159967  11599130   159755      46951         212   \n",
       "3          Russia   4407031   93457   4397816    93090       9215         367   \n",
       "4  United Kingdom   4310195  126393   4304839   126359       5356          34   \n",
       "\n",
       "   Fatality Rate      Continent  \n",
       "0            1.8  North America  \n",
       "1            2.5  South America  \n",
       "2            1.4           Asia  \n",
       "3            2.1         Europe  \n",
       "4            2.9         Europe  "
      ]
     },
     "execution_count": 15,
     "metadata": {},
     "output_type": "execute_result"
    }
   ],
   "source": [
    "#hide\n",
    "df_table = (pd.DataFrame(dict(Cases=dfc_cases, Deaths=dfc_deaths, PCases=dfp_cases, PDeaths=dfp_deaths))\n",
    "             .sort_values(by=['Cases', 'Deaths'], ascending=[False, False])\n",
    "             .reset_index())\n",
    "df_table.rename(columns={'index': 'Country/Region'}, inplace=True)\n",
    "for c in 'Cases, Deaths'.split(', '):\n",
    "    df_table[f'{c} (+)'] = (df_table[c] - df_table[f'P{c}']).clip(0)  # DATA BUG\n",
    "df_table['Fatality Rate'] = (100 * df_table['Deaths'] / df_table['Cases']).round(1)\n",
    "df_table['Continent'] = df_table['Country/Region'].map(mapping['map.continent'])\n",
    "df_table.head(5)"
   ]
  },
  {
   "cell_type": "code",
   "execution_count": 16,
   "id": "fewer-occasion",
   "metadata": {
    "execution": {
     "iopub.execute_input": "2021-03-23T00:11:46.913648Z",
     "iopub.status.busy": "2021-03-23T00:11:46.912994Z",
     "iopub.status.idle": "2021-03-23T00:11:46.915314Z",
     "shell.execute_reply": "2021-03-23T00:11:46.914671Z"
    },
    "papermill": {
     "duration": 0.047956,
     "end_time": "2021-03-23T00:11:46.915439",
     "exception": false,
     "start_time": "2021-03-23T00:11:46.867483",
     "status": "completed"
    },
    "tags": []
   },
   "outputs": [],
   "source": [
    "#hide\n",
    "#delete problematic countries from table\n",
    "df_table = df_table[~df_table['Country/Region'].isin(['Cape Verde', 'Cruise Ship', 'Kosovo'])]"
   ]
  },
  {
   "cell_type": "code",
   "execution_count": 17,
   "id": "related-center",
   "metadata": {
    "execution": {
     "iopub.execute_input": "2021-03-23T00:11:47.017197Z",
     "iopub.status.busy": "2021-03-23T00:11:47.016527Z",
     "iopub.status.idle": "2021-03-23T00:11:47.018463Z",
     "shell.execute_reply": "2021-03-23T00:11:47.018951Z"
    },
    "papermill": {
     "duration": 0.061992,
     "end_time": "2021-03-23T00:11:47.019100",
     "exception": false,
     "start_time": "2021-03-23T00:11:46.957108",
     "status": "completed"
    },
    "tags": []
   },
   "outputs": [],
   "source": [
    "#hide\n",
    "metrics = [df_table.columns[index] for index in [1,2,5,6]]\n",
    "# s_china = df_table[df_table['Country/Region'].eq('China')][metrics].sum().add_prefix('China ')\n",
    "s_us = df_table[df_table['Country/Region'].eq('US')][metrics].sum().add_prefix('US ')\n",
    "s_eu = df_table[df_table['Continent'].eq('Europe')][metrics].sum().add_prefix('EU ')\n",
    "s_ind = df_table[df_table['Country/Region'].eq('India')][metrics].sum().add_prefix('India ')\n",
    "summary = {'updated': pd.to_datetime(dt_today), 'since': pd.to_datetime(dt_yday)}\n",
    "summary = {'updated': pd.to_datetime(dt_today), 'since': pd.to_datetime(dt_yday)}\n",
    "summary = {**summary, **df_table[metrics].sum(), **s_ind, **s_us, **s_eu}"
   ]
  },
  {
   "cell_type": "code",
   "execution_count": 18,
   "id": "engaging-syndrome",
   "metadata": {
    "execution": {
     "iopub.execute_input": "2021-03-23T00:11:47.105774Z",
     "iopub.status.busy": "2021-03-23T00:11:47.105028Z",
     "iopub.status.idle": "2021-03-23T00:11:47.116835Z",
     "shell.execute_reply": "2021-03-23T00:11:47.116278Z"
    },
    "papermill": {
     "duration": 0.057329,
     "end_time": "2021-03-23T00:11:47.116994",
     "exception": false,
     "start_time": "2021-03-23T00:11:47.059665",
     "status": "completed"
    },
    "tags": []
   },
   "outputs": [],
   "source": [
    "#hide\n",
    "dft_ct_new_cases = dft_cases.groupby(COL_REGION)[dt_cols].sum().diff(axis=1).fillna(0).astype(int)"
   ]
  },
  {
   "cell_type": "code",
   "execution_count": 19,
   "id": "neutral-assignment",
   "metadata": {
    "execution": {
     "iopub.execute_input": "2021-03-23T00:11:47.206982Z",
     "iopub.status.busy": "2021-03-23T00:11:47.206340Z",
     "iopub.status.idle": "2021-03-23T00:11:47.211199Z",
     "shell.execute_reply": "2021-03-23T00:11:47.210643Z"
    },
    "papermill": {
     "duration": 0.050163,
     "end_time": "2021-03-23T00:11:47.211327",
     "exception": false,
     "start_time": "2021-03-23T00:11:47.161164",
     "status": "completed"
    },
    "tags": []
   },
   "outputs": [],
   "source": [
    "#hide\n",
    "everydaycases = dft_ct_new_cases.cumsum(axis=1)"
   ]
  },
  {
   "cell_type": "code",
   "execution_count": 20,
   "id": "parliamentary-calgary",
   "metadata": {
    "execution": {
     "iopub.execute_input": "2021-03-23T00:11:47.300853Z",
     "iopub.status.busy": "2021-03-23T00:11:47.300011Z",
     "iopub.status.idle": "2021-03-23T00:11:49.258974Z",
     "shell.execute_reply": "2021-03-23T00:11:49.258373Z"
    },
    "papermill": {
     "duration": 2.004383,
     "end_time": "2021-03-23T00:11:49.259120",
     "exception": false,
     "start_time": "2021-03-23T00:11:47.254737",
     "status": "completed"
    },
    "tags": []
   },
   "outputs": [],
   "source": [
    "#hide\n",
    "import pandas as pd\n",
    "import matplotlib.pyplot as plt\n",
    "import matplotlib.ticker as ticker\n",
    "import matplotlib.animation as animation\n",
    "from IPython.display import HTML"
   ]
  },
  {
   "cell_type": "code",
   "execution_count": 21,
   "id": "lasting-extraction",
   "metadata": {
    "execution": {
     "iopub.execute_input": "2021-03-23T00:11:49.357701Z",
     "iopub.status.busy": "2021-03-23T00:11:49.356336Z",
     "iopub.status.idle": "2021-03-23T00:11:49.362906Z",
     "shell.execute_reply": "2021-03-23T00:11:49.362385Z"
    },
    "papermill": {
     "duration": 0.061391,
     "end_time": "2021-03-23T00:11:49.363047",
     "exception": false,
     "start_time": "2021-03-23T00:11:49.301656",
     "status": "completed"
    },
    "tags": []
   },
   "outputs": [],
   "source": [
    "#hide\n",
    "t = everydaycases.stack()"
   ]
  },
  {
   "cell_type": "code",
   "execution_count": 22,
   "id": "premier-sleeve",
   "metadata": {
    "execution": {
     "iopub.execute_input": "2021-03-23T00:11:49.463890Z",
     "iopub.status.busy": "2021-03-23T00:11:49.463221Z",
     "iopub.status.idle": "2021-03-23T00:11:49.471388Z",
     "shell.execute_reply": "2021-03-23T00:11:49.470756Z"
    },
    "papermill": {
     "duration": 0.05507,
     "end_time": "2021-03-23T00:11:49.471520",
     "exception": false,
     "start_time": "2021-03-23T00:11:49.416450",
     "status": "completed"
    },
    "tags": []
   },
   "outputs": [],
   "source": [
    "#hide\n",
    "g = t.reset_index(['Country/Region'])"
   ]
  },
  {
   "cell_type": "code",
   "execution_count": 23,
   "id": "distributed-pittsburgh",
   "metadata": {
    "execution": {
     "iopub.execute_input": "2021-03-23T00:11:49.560324Z",
     "iopub.status.busy": "2021-03-23T00:11:49.559638Z",
     "iopub.status.idle": "2021-03-23T00:11:49.561129Z",
     "shell.execute_reply": "2021-03-23T00:11:49.561770Z"
    },
    "papermill": {
     "duration": 0.046415,
     "end_time": "2021-03-23T00:11:49.561951",
     "exception": false,
     "start_time": "2021-03-23T00:11:49.515536",
     "status": "completed"
    },
    "tags": []
   },
   "outputs": [],
   "source": [
    "#hide\n",
    "g.index.name = 'date'"
   ]
  },
  {
   "cell_type": "code",
   "execution_count": 24,
   "id": "naked-donor",
   "metadata": {
    "execution": {
     "iopub.execute_input": "2021-03-23T00:11:49.645188Z",
     "iopub.status.busy": "2021-03-23T00:11:49.644532Z",
     "iopub.status.idle": "2021-03-23T00:11:49.647259Z",
     "shell.execute_reply": "2021-03-23T00:11:49.646631Z"
    },
    "papermill": {
     "duration": 0.046012,
     "end_time": "2021-03-23T00:11:49.647390",
     "exception": false,
     "start_time": "2021-03-23T00:11:49.601378",
     "status": "completed"
    },
    "tags": []
   },
   "outputs": [],
   "source": [
    "# #hide\n",
    "# g = g.reset_index(['date'])"
   ]
  },
  {
   "cell_type": "code",
   "execution_count": 25,
   "id": "incomplete-mustang",
   "metadata": {
    "execution": {
     "iopub.execute_input": "2021-03-23T00:11:49.729829Z",
     "iopub.status.busy": "2021-03-23T00:11:49.729149Z",
     "iopub.status.idle": "2021-03-23T00:11:49.731184Z",
     "shell.execute_reply": "2021-03-23T00:11:49.731774Z"
    },
    "papermill": {
     "duration": 0.045506,
     "end_time": "2021-03-23T00:11:49.731942",
     "exception": false,
     "start_time": "2021-03-23T00:11:49.686436",
     "status": "completed"
    },
    "tags": []
   },
   "outputs": [],
   "source": [
    "#hide\n",
    "# g.head()"
   ]
  },
  {
   "cell_type": "code",
   "execution_count": 26,
   "id": "specific-kruger",
   "metadata": {
    "execution": {
     "iopub.execute_input": "2021-03-23T00:11:49.817187Z",
     "iopub.status.busy": "2021-03-23T00:11:49.816538Z",
     "iopub.status.idle": "2021-03-23T00:11:49.818745Z",
     "shell.execute_reply": "2021-03-23T00:11:49.819311Z"
    },
    "papermill": {
     "duration": 0.047884,
     "end_time": "2021-03-23T00:11:49.819485",
     "exception": false,
     "start_time": "2021-03-23T00:11:49.771601",
     "status": "completed"
    },
    "tags": []
   },
   "outputs": [],
   "source": [
    "#hide\n",
    "# g.columns = ['date','country','cases']"
   ]
  },
  {
   "cell_type": "code",
   "execution_count": 27,
   "id": "tender-conversion",
   "metadata": {
    "execution": {
     "iopub.execute_input": "2021-03-23T00:11:49.904749Z",
     "iopub.status.busy": "2021-03-23T00:11:49.904123Z",
     "iopub.status.idle": "2021-03-23T00:11:49.905954Z",
     "shell.execute_reply": "2021-03-23T00:11:49.906609Z"
    },
    "papermill": {
     "duration": 0.045781,
     "end_time": "2021-03-23T00:11:49.906772",
     "exception": false,
     "start_time": "2021-03-23T00:11:49.860991",
     "status": "completed"
    },
    "tags": []
   },
   "outputs": [],
   "source": [
    "#hide\n",
    "# g['continent'] = g.country"
   ]
  },
  {
   "cell_type": "code",
   "execution_count": 28,
   "id": "substantial-wilderness",
   "metadata": {
    "execution": {
     "iopub.execute_input": "2021-03-23T00:11:49.991013Z",
     "iopub.status.busy": "2021-03-23T00:11:49.990361Z",
     "iopub.status.idle": "2021-03-23T00:11:49.993018Z",
     "shell.execute_reply": "2021-03-23T00:11:49.992414Z"
    },
    "papermill": {
     "duration": 0.047206,
     "end_time": "2021-03-23T00:11:49.993141",
     "exception": false,
     "start_time": "2021-03-23T00:11:49.945935",
     "status": "completed"
    },
    "tags": []
   },
   "outputs": [],
   "source": [
    "#hide\n",
    "# cols = list(g.columns.values)"
   ]
  },
  {
   "cell_type": "code",
   "execution_count": 29,
   "id": "solved-farming",
   "metadata": {
    "execution": {
     "iopub.execute_input": "2021-03-23T00:11:50.077859Z",
     "iopub.status.busy": "2021-03-23T00:11:50.077220Z",
     "iopub.status.idle": "2021-03-23T00:11:50.079112Z",
     "shell.execute_reply": "2021-03-23T00:11:50.079667Z"
    },
    "papermill": {
     "duration": 0.045879,
     "end_time": "2021-03-23T00:11:50.079835",
     "exception": false,
     "start_time": "2021-03-23T00:11:50.033956",
     "status": "completed"
    },
    "tags": []
   },
   "outputs": [],
   "source": [
    "#hide\n",
    "# cols.insert(0, cols.pop())"
   ]
  },
  {
   "cell_type": "code",
   "execution_count": 30,
   "id": "executed-adoption",
   "metadata": {
    "execution": {
     "iopub.execute_input": "2021-03-23T00:11:50.163776Z",
     "iopub.status.busy": "2021-03-23T00:11:50.163096Z",
     "iopub.status.idle": "2021-03-23T00:11:50.164631Z",
     "shell.execute_reply": "2021-03-23T00:11:50.165248Z"
    },
    "papermill": {
     "duration": 0.04594,
     "end_time": "2021-03-23T00:11:50.165392",
     "exception": false,
     "start_time": "2021-03-23T00:11:50.119452",
     "status": "completed"
    },
    "tags": []
   },
   "outputs": [],
   "source": [
    "#hide\n",
    "# g = g[cols]"
   ]
  },
  {
   "cell_type": "code",
   "execution_count": 31,
   "id": "subject-dublin",
   "metadata": {
    "execution": {
     "iopub.execute_input": "2021-03-23T00:11:50.249774Z",
     "iopub.status.busy": "2021-03-23T00:11:50.249084Z",
     "iopub.status.idle": "2021-03-23T00:11:50.251097Z",
     "shell.execute_reply": "2021-03-23T00:11:50.251675Z"
    },
    "papermill": {
     "duration": 0.046637,
     "end_time": "2021-03-23T00:11:50.251839",
     "exception": false,
     "start_time": "2021-03-23T00:11:50.205202",
     "status": "completed"
    },
    "tags": []
   },
   "outputs": [],
   "source": [
    "#hide\n",
    "# g['continent'] = g['continent'].map(mapping['map.continent'])"
   ]
  },
  {
   "cell_type": "code",
   "execution_count": 32,
   "id": "freelance-scout",
   "metadata": {
    "execution": {
     "iopub.execute_input": "2021-03-23T00:11:50.338854Z",
     "iopub.status.busy": "2021-03-23T00:11:50.338207Z",
     "iopub.status.idle": "2021-03-23T00:11:50.340969Z",
     "shell.execute_reply": "2021-03-23T00:11:50.341477Z"
    },
    "papermill": {
     "duration": 0.049125,
     "end_time": "2021-03-23T00:11:50.341611",
     "exception": false,
     "start_time": "2021-03-23T00:11:50.292486",
     "status": "completed"
    },
    "tags": []
   },
   "outputs": [],
   "source": [
    "#hide\n",
    "# g.head()"
   ]
  },
  {
   "cell_type": "code",
   "execution_count": 33,
   "id": "limited-engine",
   "metadata": {
    "execution": {
     "iopub.execute_input": "2021-03-23T00:11:50.424253Z",
     "iopub.status.busy": "2021-03-23T00:11:50.423580Z",
     "iopub.status.idle": "2021-03-23T00:11:50.426086Z",
     "shell.execute_reply": "2021-03-23T00:11:50.425558Z"
    },
    "papermill": {
     "duration": 0.045691,
     "end_time": "2021-03-23T00:11:50.426227",
     "exception": false,
     "start_time": "2021-03-23T00:11:50.380536",
     "status": "completed"
    },
    "tags": []
   },
   "outputs": [],
   "source": [
    "# hide\n",
    "# g['date'] = g['date'].astype('datetime64[ns]')"
   ]
  },
  {
   "cell_type": "code",
   "execution_count": 34,
   "id": "sophisticated-supervisor",
   "metadata": {
    "execution": {
     "iopub.execute_input": "2021-03-23T00:11:50.513279Z",
     "iopub.status.busy": "2021-03-23T00:11:50.512636Z",
     "iopub.status.idle": "2021-03-23T00:11:50.515254Z",
     "shell.execute_reply": "2021-03-23T00:11:50.515964Z"
    },
    "papermill": {
     "duration": 0.049692,
     "end_time": "2021-03-23T00:11:50.516121",
     "exception": false,
     "start_time": "2021-03-23T00:11:50.466429",
     "status": "completed"
    },
    "tags": []
   },
   "outputs": [],
   "source": [
    "#hide\n",
    "# g['date'] = g.date.dt.dayofyear"
   ]
  },
  {
   "cell_type": "code",
   "execution_count": 35,
   "id": "inside-dubai",
   "metadata": {
    "execution": {
     "iopub.execute_input": "2021-03-23T00:11:50.601491Z",
     "iopub.status.busy": "2021-03-23T00:11:50.600700Z",
     "iopub.status.idle": "2021-03-23T00:11:50.603413Z",
     "shell.execute_reply": "2021-03-23T00:11:50.604122Z"
    },
    "papermill": {
     "duration": 0.048277,
     "end_time": "2021-03-23T00:11:50.604301",
     "exception": false,
     "start_time": "2021-03-23T00:11:50.556024",
     "status": "completed"
    },
    "tags": []
   },
   "outputs": [],
   "source": [
    "#hide\n",
    "# g = g.rename(columns= {'continent':'group','country':'name','cases':'value'})"
   ]
  },
  {
   "cell_type": "code",
   "execution_count": 36,
   "id": "fleet-motorcycle",
   "metadata": {
    "execution": {
     "iopub.execute_input": "2021-03-23T00:11:50.695500Z",
     "iopub.status.busy": "2021-03-23T00:11:50.694850Z",
     "iopub.status.idle": "2021-03-23T00:11:50.697364Z",
     "shell.execute_reply": "2021-03-23T00:11:50.696815Z"
    },
    "papermill": {
     "duration": 0.047466,
     "end_time": "2021-03-23T00:11:50.697492",
     "exception": false,
     "start_time": "2021-03-23T00:11:50.650026",
     "status": "completed"
    },
    "tags": []
   },
   "outputs": [],
   "source": [
    "#hide\n",
    "# cols = ['name','group','day','value']"
   ]
  },
  {
   "cell_type": "code",
   "execution_count": 37,
   "id": "continued-sleeping",
   "metadata": {
    "execution": {
     "iopub.execute_input": "2021-03-23T00:11:50.785123Z",
     "iopub.status.busy": "2021-03-23T00:11:50.784487Z",
     "iopub.status.idle": "2021-03-23T00:11:50.786864Z",
     "shell.execute_reply": "2021-03-23T00:11:50.786321Z"
    },
    "papermill": {
     "duration": 0.049716,
     "end_time": "2021-03-23T00:11:50.786992",
     "exception": false,
     "start_time": "2021-03-23T00:11:50.737276",
     "status": "completed"
    },
    "tags": []
   },
   "outputs": [],
   "source": [
    "#hide\n",
    "# g.rename(columns= {'date':'day'},inplace = True)"
   ]
  },
  {
   "cell_type": "code",
   "execution_count": 38,
   "id": "major-fight",
   "metadata": {
    "execution": {
     "iopub.execute_input": "2021-03-23T00:11:50.881753Z",
     "iopub.status.busy": "2021-03-23T00:11:50.881123Z",
     "iopub.status.idle": "2021-03-23T00:11:50.883779Z",
     "shell.execute_reply": "2021-03-23T00:11:50.883236Z"
    },
    "papermill": {
     "duration": 0.057356,
     "end_time": "2021-03-23T00:11:50.883932",
     "exception": false,
     "start_time": "2021-03-23T00:11:50.826576",
     "status": "completed"
    },
    "tags": []
   },
   "outputs": [],
   "source": [
    "#hide\n",
    "# g = g[cols]"
   ]
  },
  {
   "cell_type": "code",
   "execution_count": 39,
   "id": "structured-mobile",
   "metadata": {
    "execution": {
     "iopub.execute_input": "2021-03-23T00:11:50.978736Z",
     "iopub.status.busy": "2021-03-23T00:11:50.978009Z",
     "iopub.status.idle": "2021-03-23T00:11:50.980047Z",
     "shell.execute_reply": "2021-03-23T00:11:50.979415Z"
    },
    "papermill": {
     "duration": 0.04975,
     "end_time": "2021-03-23T00:11:50.980182",
     "exception": false,
     "start_time": "2021-03-23T00:11:50.930432",
     "status": "completed"
    },
    "tags": []
   },
   "outputs": [],
   "source": [
    "# #hide\n",
    "# g = g[g.group.notna()]"
   ]
  },
  {
   "cell_type": "code",
   "execution_count": 40,
   "id": "determined-closing",
   "metadata": {
    "execution": {
     "iopub.execute_input": "2021-03-23T00:11:51.076544Z",
     "iopub.status.busy": "2021-03-23T00:11:51.075892Z",
     "iopub.status.idle": "2021-03-23T00:11:51.081564Z",
     "shell.execute_reply": "2021-03-23T00:11:51.082126Z"
    },
    "papermill": {
     "duration": 0.052289,
     "end_time": "2021-03-23T00:11:51.082285",
     "exception": false,
     "start_time": "2021-03-23T00:11:51.029996",
     "status": "completed"
    },
    "tags": []
   },
   "outputs": [],
   "source": [
    "# #hide\n",
    "# colors = dict(zip(\n",
    "#     [\"Oceania\", \"Europe\", \"Asia\", \"South America\", \"Middle East\", \"North America\", \"Africa\"],\n",
    "#     [\"#adb0ff\", \"#ffb3ff\", \"#90d595\", \"#e48381\", \"#aafbff\", \"#f7bb5f\", \"#eafb50\"]\n",
    "# ))\n",
    "# group_lk = g.set_index('name')['group'].to_dict()"
   ]
  },
  {
   "cell_type": "code",
   "execution_count": null,
   "id": "gross-drinking",
   "metadata": {
    "papermill": {
     "duration": 0.048635,
     "end_time": "2021-03-23T00:11:51.174392",
     "exception": false,
     "start_time": "2021-03-23T00:11:51.125757",
     "status": "completed"
    },
    "tags": []
   },
   "outputs": [],
   "source": []
  },
  {
   "cell_type": "code",
   "execution_count": 41,
   "id": "subject-macintosh",
   "metadata": {
    "execution": {
     "iopub.execute_input": "2021-03-23T00:11:51.262919Z",
     "iopub.status.busy": "2021-03-23T00:11:51.261933Z",
     "iopub.status.idle": "2021-03-23T00:11:51.263609Z",
     "shell.execute_reply": "2021-03-23T00:11:51.264161Z"
    },
    "papermill": {
     "duration": 0.046807,
     "end_time": "2021-03-23T00:11:51.264307",
     "exception": false,
     "start_time": "2021-03-23T00:11:51.217500",
     "status": "completed"
    },
    "tags": []
   },
   "outputs": [],
   "source": [
    "# #hide\n",
    "# fig, ax = plt.subplots(figsize=(15, 8))\n",
    "\n",
    "# def draw_barchart(current_day):\n",
    "#     dff = g[g['day'].eq(current_day)].sort_values(by='value', ascending=True).tail(10)\n",
    "#     ax.clear()\n",
    "#     ax.barh(dff['name'], dff['value'], color=[colors[group_lk[x]] for x in dff['name']])\n",
    "#     dx = dff['value'].max() / 200\n",
    "    \n",
    "#     for i, (value, name) in enumerate(zip(dff['value'], dff['name'])):\n",
    "#         ax.text(value-dx, i,     name,           size=14, weight=600, ha='right', va='bottom')\n",
    "#         ax.text(value-dx, i-.25, group_lk[name], size=10, color='#444444', ha='right', va='baseline')\n",
    "#         ax.text(value+dx, i,     f'{value:,.0f}',  size=14, ha='left',  va='center')\n",
    "#     ax.text(1, 0.4, current_day, transform=ax.transAxes, color='#777777', size=46, ha='right', weight=800)\n",
    "#     ax.text(0, 1.06, 'Population (thousands)', transform=ax.transAxes, size=12, color='#777777')\n",
    "#     ax.xaxis.set_major_formatter(ticker.StrMethodFormatter('{x:,.0f}'))\n",
    "#     ax.xaxis.set_ticks_position('top')\n",
    "#     ax.tick_params(axis='x', colors='#777777', labelsize=12)\n",
    "#     ax.set_yticks([])\n",
    "#     ax.margins(0, 0.01)\n",
    "#     ax.grid(which='major', axis='x', linestyle='-')\n",
    "#     ax.set_axisbelow(True)\n",
    "    \n",
    "#     ax.text(0, 1.15, 'Coronavirus',\n",
    "#             transform=ax.transAxes, size=24, weight=600, ha='left', va='top')\n",
    "# #     ax.text(1, 0, 'by @pratapvardhan; credit @jburnmurdoch', transform=ax.transAxes, color='#777777', ha='right',\n",
    "# #             bbox=dict(facecolor='white', alpha=0.8, edgecolor='white'))\n",
    "#     plt.box(False)"
   ]
  },
  {
   "cell_type": "code",
   "execution_count": 42,
   "id": "sexual-wages",
   "metadata": {
    "execution": {
     "iopub.execute_input": "2021-03-23T00:11:51.352050Z",
     "iopub.status.busy": "2021-03-23T00:11:51.351363Z",
     "iopub.status.idle": "2021-03-23T00:11:51.353904Z",
     "shell.execute_reply": "2021-03-23T00:11:51.353358Z"
    },
    "papermill": {
     "duration": 0.047409,
     "end_time": "2021-03-23T00:11:51.354031",
     "exception": false,
     "start_time": "2021-03-23T00:11:51.306622",
     "status": "completed"
    },
    "tags": []
   },
   "outputs": [],
   "source": [
    "# #hide_input\n",
    "# fig, ax = plt.subplots(figsize=(15, 8))\n",
    "# animator = animation.FuncAnimation(fig, draw_barchart, frames=range(g.day.values.min(), g.day.values.max()))\n",
    "# HTML(animator.to_jshtml())\n",
    "# # or use animator.to_html5_video() or animator.save() "
   ]
  },
  {
   "cell_type": "code",
   "execution_count": null,
   "id": "australian-container",
   "metadata": {
    "papermill": {
     "duration": 0.043089,
     "end_time": "2021-03-23T00:11:51.438506",
     "exception": false,
     "start_time": "2021-03-23T00:11:51.395417",
     "status": "completed"
    },
    "tags": []
   },
   "outputs": [],
   "source": []
  },
  {
   "cell_type": "code",
   "execution_count": null,
   "id": "mediterranean-pontiac",
   "metadata": {
    "papermill": {
     "duration": 0.039393,
     "end_time": "2021-03-23T00:11:51.517248",
     "exception": false,
     "start_time": "2021-03-23T00:11:51.477855",
     "status": "completed"
    },
    "tags": []
   },
   "outputs": [],
   "source": []
  },
  {
   "cell_type": "code",
   "execution_count": null,
   "id": "aging-legislature",
   "metadata": {
    "papermill": {
     "duration": 0.039357,
     "end_time": "2021-03-23T00:11:51.598438",
     "exception": false,
     "start_time": "2021-03-23T00:11:51.559081",
     "status": "completed"
    },
    "tags": []
   },
   "outputs": [],
   "source": []
  }
 ],
 "metadata": {
  "kernelspec": {
   "display_name": "Python 3",
   "language": "python",
   "name": "python3"
  },
  "language_info": {
   "codemirror_mode": {
    "name": "ipython",
    "version": 3
   },
   "file_extension": ".py",
   "mimetype": "text/x-python",
   "name": "python",
   "nbconvert_exporter": "python",
   "pygments_lexer": "ipython3",
   "version": "3.6.13"
  },
  "papermill": {
   "duration": 8.696995,
   "end_time": "2021-03-23T00:11:52.045692",
   "environment_variables": {},
   "exception": null,
   "input_path": "2020-03-21-covid19exp.ipynb",
   "output_path": "2020-03-21-covid19exp.ipynb",
   "parameters": {},
   "start_time": "2021-03-23T00:11:43.348697",
   "version": "2.0.0"
  }
 },
 "nbformat": 4,
 "nbformat_minor": 5
}