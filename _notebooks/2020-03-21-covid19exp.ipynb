{
 "cells": [
  {
   "cell_type": "markdown",
   "id": "muslim-click",
   "metadata": {
    "papermill": {
     "duration": 0.044406,
     "end_time": "2021-10-22T12:12:23.561709",
     "exception": false,
     "start_time": "2021-10-22T12:12:23.517303",
     "status": "completed"
    },
    "tags": []
   },
   "source": [
    "# COVID-19 Case Race\n",
    "> A race chart to see rising cases around the world\n",
    "\n",
    "- author: Hargun Oberoi\n",
    "- image: images/covid-overview.png\n",
    "- hide: false\n",
    "- badges: false"
   ]
  },
  {
   "cell_type": "code",
   "execution_count": 1,
   "id": "proof-material",
   "metadata": {
    "execution": {
     "iopub.execute_input": "2021-10-22T12:12:23.652005Z",
     "iopub.status.busy": "2021-10-22T12:12:23.651315Z",
     "iopub.status.idle": "2021-10-22T12:12:24.078378Z",
     "shell.execute_reply": "2021-10-22T12:12:24.077720Z"
    },
    "papermill": {
     "duration": 0.476991,
     "end_time": "2021-10-22T12:12:24.078561",
     "exception": false,
     "start_time": "2021-10-22T12:12:23.601570",
     "status": "completed"
    },
    "tags": []
   },
   "outputs": [],
   "source": [
    "#hide\n",
    "import numpy as np\n",
    "import pandas as pd\n",
    "from jinja2 import Template\n",
    "from IPython.display import HTML"
   ]
  },
  {
   "cell_type": "code",
   "execution_count": 2,
   "id": "developed-terminology",
   "metadata": {
    "execution": {
     "iopub.execute_input": "2021-10-22T12:12:24.166117Z",
     "iopub.status.busy": "2021-10-22T12:12:24.165418Z",
     "iopub.status.idle": "2021-10-22T12:12:24.167933Z",
     "shell.execute_reply": "2021-10-22T12:12:24.167354Z"
    },
    "papermill": {
     "duration": 0.048627,
     "end_time": "2021-10-22T12:12:24.168076",
     "exception": false,
     "start_time": "2021-10-22T12:12:24.119449",
     "status": "completed"
    },
    "tags": []
   },
   "outputs": [],
   "source": [
    "#hide\n",
    "\n",
    "# FETCH\n",
    "base_url = 'https://raw.githubusercontent.com/pratapvardhan/notebooks/master/covid19/'\n",
    "paths = {\n",
    "    'mapping': base_url + 'mapping_countries.csv',\n",
    "    'overview': base_url + 'overview.tpl'\n",
    "}"
   ]
  },
  {
   "cell_type": "code",
   "execution_count": 3,
   "id": "dynamic-saver",
   "metadata": {
    "execution": {
     "iopub.execute_input": "2021-10-22T12:12:24.258928Z",
     "iopub.status.busy": "2021-10-22T12:12:24.258250Z",
     "iopub.status.idle": "2021-10-22T12:12:24.261184Z",
     "shell.execute_reply": "2021-10-22T12:12:24.261734Z"
    },
    "papermill": {
     "duration": 0.055249,
     "end_time": "2021-10-22T12:12:24.261962",
     "exception": false,
     "start_time": "2021-10-22T12:12:24.206713",
     "status": "completed"
    },
    "tags": []
   },
   "outputs": [
    {
     "data": {
      "text/plain": [
       "'https://raw.githubusercontent.com/pratapvardhan/notebooks/master/covid19/mapping_countries.csv'"
      ]
     },
     "execution_count": 3,
     "metadata": {},
     "output_type": "execute_result"
    }
   ],
   "source": [
    "#hide\n",
    "paths['mapping']"
   ]
  },
  {
   "cell_type": "code",
   "execution_count": 4,
   "id": "urban-software",
   "metadata": {
    "execution": {
     "iopub.execute_input": "2021-10-22T12:12:24.347145Z",
     "iopub.status.busy": "2021-10-22T12:12:24.346418Z",
     "iopub.status.idle": "2021-10-22T12:12:24.349049Z",
     "shell.execute_reply": "2021-10-22T12:12:24.348444Z"
    },
    "papermill": {
     "duration": 0.048047,
     "end_time": "2021-10-22T12:12:24.349202",
     "exception": false,
     "start_time": "2021-10-22T12:12:24.301155",
     "status": "completed"
    },
    "tags": []
   },
   "outputs": [],
   "source": [
    "#hide\n",
    "def get_mappings(url):\n",
    "    df = pd.read_csv(url)\n",
    "    return {\n",
    "        'df': df,\n",
    "        'replace.country': dict(df.dropna(subset=['Name']).set_index('Country')['Name']),\n",
    "        'map.continent': dict(df.set_index('Name')['Continent'])\n",
    "    }"
   ]
  },
  {
   "cell_type": "code",
   "execution_count": 5,
   "id": "intimate-machinery",
   "metadata": {
    "execution": {
     "iopub.execute_input": "2021-10-22T12:12:24.434096Z",
     "iopub.status.busy": "2021-10-22T12:12:24.433354Z",
     "iopub.status.idle": "2021-10-22T12:12:24.476070Z",
     "shell.execute_reply": "2021-10-22T12:12:24.477986Z"
    },
    "papermill": {
     "duration": 0.090026,
     "end_time": "2021-10-22T12:12:24.478263",
     "exception": false,
     "start_time": "2021-10-22T12:12:24.388237",
     "status": "completed"
    },
    "tags": []
   },
   "outputs": [],
   "source": [
    "#hide\n",
    "mapping = get_mappings(paths['mapping'])"
   ]
  },
  {
   "cell_type": "code",
   "execution_count": 6,
   "id": "certified-tactics",
   "metadata": {
    "execution": {
     "iopub.execute_input": "2021-10-22T12:12:24.564195Z",
     "iopub.status.busy": "2021-10-22T12:12:24.563531Z",
     "iopub.status.idle": "2021-10-22T12:12:24.567444Z",
     "shell.execute_reply": "2021-10-22T12:12:24.566825Z"
    },
    "papermill": {
     "duration": 0.049705,
     "end_time": "2021-10-22T12:12:24.567591",
     "exception": false,
     "start_time": "2021-10-22T12:12:24.517886",
     "status": "completed"
    },
    "tags": []
   },
   "outputs": [],
   "source": [
    "#hide\n",
    "def get_template(path):\n",
    "    from urllib.parse import urlparse\n",
    "    if bool(urlparse(path).netloc):\n",
    "        from urllib.request import urlopen\n",
    "        return urlopen(path).read().decode('utf8')\n",
    "    return open(path).read()"
   ]
  },
  {
   "cell_type": "code",
   "execution_count": 7,
   "id": "realistic-blast",
   "metadata": {
    "execution": {
     "iopub.execute_input": "2021-10-22T12:12:24.652374Z",
     "iopub.status.busy": "2021-10-22T12:12:24.651704Z",
     "iopub.status.idle": "2021-10-22T12:12:24.654355Z",
     "shell.execute_reply": "2021-10-22T12:12:24.653793Z"
    },
    "papermill": {
     "duration": 0.047442,
     "end_time": "2021-10-22T12:12:24.654492",
     "exception": false,
     "start_time": "2021-10-22T12:12:24.607050",
     "status": "completed"
    },
    "tags": []
   },
   "outputs": [],
   "source": [
    "#hide\n",
    "def get_frame(name):\n",
    "    url = (\n",
    "        'https://raw.githubusercontent.com/CSSEGISandData/COVID-19/master/csse_covid_19_data/'\n",
    "        f'csse_covid_19_time_series/time_series_covid19_{name}_global.csv')\n",
    "    df = pd.read_csv(url)\n",
    "    # rename countries\n",
    "    df['Country/Region'] = df['Country/Region'].replace(mapping['replace.country'])\n",
    "    return df"
   ]
  },
  {
   "cell_type": "code",
   "execution_count": 8,
   "id": "affiliated-characterization",
   "metadata": {
    "execution": {
     "iopub.execute_input": "2021-10-22T12:12:24.742140Z",
     "iopub.status.busy": "2021-10-22T12:12:24.741462Z",
     "iopub.status.idle": "2021-10-22T12:12:24.743409Z",
     "shell.execute_reply": "2021-10-22T12:12:24.744058Z"
    },
    "papermill": {
     "duration": 0.048172,
     "end_time": "2021-10-22T12:12:24.744228",
     "exception": false,
     "start_time": "2021-10-22T12:12:24.696056",
     "status": "completed"
    },
    "tags": []
   },
   "outputs": [],
   "source": [
    "#hide\n",
    "def get_dates(df):\n",
    "    dt_cols = df.columns[~df.columns.isin(['Province/State', 'Country/Region', 'Lat', 'Long'])]\n",
    "    LAST_DATE_I = -1\n",
    "    # sometimes last column may be empty, then go backwards\n",
    "    for i in range(-1, -len(dt_cols), -1):\n",
    "        if not df[dt_cols[i]].fillna(0).eq(0).all():\n",
    "            LAST_DATE_I = i\n",
    "            break\n",
    "    return LAST_DATE_I, dt_cols"
   ]
  },
  {
   "cell_type": "code",
   "execution_count": 9,
   "id": "recent-optimization",
   "metadata": {
    "execution": {
     "iopub.execute_input": "2021-10-22T12:12:24.828324Z",
     "iopub.status.busy": "2021-10-22T12:12:24.827636Z",
     "iopub.status.idle": "2021-10-22T12:12:25.268274Z",
     "shell.execute_reply": "2021-10-22T12:12:25.267118Z"
    },
    "papermill": {
     "duration": 0.485181,
     "end_time": "2021-10-22T12:12:25.268429",
     "exception": false,
     "start_time": "2021-10-22T12:12:24.783248",
     "status": "completed"
    },
    "tags": []
   },
   "outputs": [],
   "source": [
    "#hide\n",
    "COL_REGION = 'Country/Region'\n",
    "# Confirmed, Recovered, Deaths\n",
    "df = get_frame('confirmed')\n",
    "# dft_: timeseries, dfc_: today country agg\n",
    "dft_cases = df\n",
    "dft_deaths = get_frame('deaths')\n",
    "dft_recovered = get_frame('recovered')\n",
    "LAST_DATE_I, dt_cols = get_dates(df)"
   ]
  },
  {
   "cell_type": "code",
   "execution_count": 10,
   "id": "absolute-copper",
   "metadata": {
    "execution": {
     "iopub.execute_input": "2021-10-22T12:12:25.354464Z",
     "iopub.status.busy": "2021-10-22T12:12:25.353709Z",
     "iopub.status.idle": "2021-10-22T12:12:25.356237Z",
     "shell.execute_reply": "2021-10-22T12:12:25.355657Z"
    },
    "papermill": {
     "duration": 0.047539,
     "end_time": "2021-10-22T12:12:25.356382",
     "exception": false,
     "start_time": "2021-10-22T12:12:25.308843",
     "status": "completed"
    },
    "tags": []
   },
   "outputs": [],
   "source": [
    "#hide\n",
    "LAST_DATE_I, dt_cols = get_dates(df)\n",
    "dt_today =dt_cols[LAST_DATE_I]\n",
    "# dt_5day = dt_cols[LAST_DATE_I - 5]\n",
    "dt_yday = dt_cols[LAST_DATE_I - 1]"
   ]
  },
  {
   "cell_type": "code",
   "execution_count": 11,
   "id": "restricted-sheriff",
   "metadata": {
    "execution": {
     "iopub.execute_input": "2021-10-22T12:12:25.450598Z",
     "iopub.status.busy": "2021-10-22T12:12:25.449819Z",
     "iopub.status.idle": "2021-10-22T12:12:25.462783Z",
     "shell.execute_reply": "2021-10-22T12:12:25.462116Z"
    },
    "papermill": {
     "duration": 0.065449,
     "end_time": "2021-10-22T12:12:25.462940",
     "exception": false,
     "start_time": "2021-10-22T12:12:25.397491",
     "status": "completed"
    },
    "tags": []
   },
   "outputs": [],
   "source": [
    "#hide\n",
    "dfc_cases = dft_cases.groupby(COL_REGION)[dt_today].sum()\n",
    "dfc_deaths = dft_deaths.groupby(COL_REGION)[dt_today].sum()\n",
    "# dfp_cases = dft_cases.groupby(COL_REGION)[dt_5day].sum()\n",
    "# dfp_deaths = dft_deaths.groupby(COL_REGION)[dt_5day].sum()\n",
    "dfp_cases = dft_cases.groupby(COL_REGION)[dt_yday].sum()\n",
    "dfp_deaths = dft_deaths.groupby(COL_REGION)[dt_yday].sum()"
   ]
  },
  {
   "cell_type": "code",
   "execution_count": 12,
   "id": "deluxe-hepatitis",
   "metadata": {
    "execution": {
     "iopub.execute_input": "2021-10-22T12:12:25.557248Z",
     "iopub.status.busy": "2021-10-22T12:12:25.556527Z",
     "iopub.status.idle": "2021-10-22T12:12:25.558739Z",
     "shell.execute_reply": "2021-10-22T12:12:25.559495Z"
    },
    "papermill": {
     "duration": 0.052893,
     "end_time": "2021-10-22T12:12:25.559663",
     "exception": false,
     "start_time": "2021-10-22T12:12:25.506770",
     "status": "completed"
    },
    "tags": []
   },
   "outputs": [],
   "source": [
    "#hide\n",
    "df_table = (pd.DataFrame(dict(Cases = dfc_cases, Deaths = dfc_deaths, PCases = dfp_cases, PDeaths = dfp_deaths))\n",
    "            .sort_values(by = ['Cases','Deaths'], ascending = [False, False])\n",
    "            .reset_index())"
   ]
  },
  {
   "cell_type": "code",
   "execution_count": 13,
   "id": "educational-chancellor",
   "metadata": {
    "execution": {
     "iopub.execute_input": "2021-10-22T12:12:25.660916Z",
     "iopub.status.busy": "2021-10-22T12:12:25.655366Z",
     "iopub.status.idle": "2021-10-22T12:12:25.672588Z",
     "shell.execute_reply": "2021-10-22T12:12:25.671976Z"
    },
    "papermill": {
     "duration": 0.073829,
     "end_time": "2021-10-22T12:12:25.672730",
     "exception": false,
     "start_time": "2021-10-22T12:12:25.598901",
     "status": "completed"
    },
    "tags": []
   },
   "outputs": [
    {
     "data": {
      "text/html": [
       "<div>\n",
       "<style scoped>\n",
       "    .dataframe tbody tr th:only-of-type {\n",
       "        vertical-align: middle;\n",
       "    }\n",
       "\n",
       "    .dataframe tbody tr th {\n",
       "        vertical-align: top;\n",
       "    }\n",
       "\n",
       "    .dataframe thead th {\n",
       "        text-align: right;\n",
       "    }\n",
       "</style>\n",
       "<table border=\"1\" class=\"dataframe\">\n",
       "  <thead>\n",
       "    <tr style=\"text-align: right;\">\n",
       "      <th></th>\n",
       "      <th>Country/Region</th>\n",
       "      <th>Cases</th>\n",
       "      <th>Deaths</th>\n",
       "      <th>PCases</th>\n",
       "      <th>PDeaths</th>\n",
       "      <th>Cases (+)</th>\n",
       "      <th>Deaths (+)</th>\n",
       "      <th>Fatality Rate</th>\n",
       "      <th>Continent</th>\n",
       "    </tr>\n",
       "  </thead>\n",
       "  <tbody>\n",
       "    <tr>\n",
       "      <th>0</th>\n",
       "      <td>US</td>\n",
       "      <td>45300970</td>\n",
       "      <td>733213</td>\n",
       "      <td>45220898</td>\n",
       "      <td>731310</td>\n",
       "      <td>80072</td>\n",
       "      <td>1903</td>\n",
       "      <td>1.62</td>\n",
       "      <td>North America</td>\n",
       "    </tr>\n",
       "    <tr>\n",
       "      <th>1</th>\n",
       "      <td>India</td>\n",
       "      <td>34143236</td>\n",
       "      <td>453042</td>\n",
       "      <td>34127450</td>\n",
       "      <td>452811</td>\n",
       "      <td>15786</td>\n",
       "      <td>231</td>\n",
       "      <td>1.33</td>\n",
       "      <td>Asia</td>\n",
       "    </tr>\n",
       "    <tr>\n",
       "      <th>2</th>\n",
       "      <td>Brazil</td>\n",
       "      <td>21697341</td>\n",
       "      <td>604679</td>\n",
       "      <td>21680488</td>\n",
       "      <td>604228</td>\n",
       "      <td>16853</td>\n",
       "      <td>451</td>\n",
       "      <td>2.79</td>\n",
       "      <td>South America</td>\n",
       "    </tr>\n",
       "    <tr>\n",
       "      <th>3</th>\n",
       "      <td>United Kingdom</td>\n",
       "      <td>8681795</td>\n",
       "      <td>139562</td>\n",
       "      <td>8630076</td>\n",
       "      <td>139444</td>\n",
       "      <td>51719</td>\n",
       "      <td>118</td>\n",
       "      <td>1.61</td>\n",
       "      <td>Europe</td>\n",
       "    </tr>\n",
       "    <tr>\n",
       "      <th>4</th>\n",
       "      <td>Russia</td>\n",
       "      <td>8005376</td>\n",
       "      <td>223331</td>\n",
       "      <td>7969960</td>\n",
       "      <td>222320</td>\n",
       "      <td>35416</td>\n",
       "      <td>1011</td>\n",
       "      <td>2.79</td>\n",
       "      <td>Europe</td>\n",
       "    </tr>\n",
       "  </tbody>\n",
       "</table>\n",
       "</div>"
      ],
      "text/plain": [
       "   Country/Region     Cases  Deaths    PCases  PDeaths  Cases (+)  Deaths (+)  \\\n",
       "0              US  45300970  733213  45220898   731310      80072        1903   \n",
       "1           India  34143236  453042  34127450   452811      15786         231   \n",
       "2          Brazil  21697341  604679  21680488   604228      16853         451   \n",
       "3  United Kingdom   8681795  139562   8630076   139444      51719         118   \n",
       "4          Russia   8005376  223331   7969960   222320      35416        1011   \n",
       "\n",
       "   Fatality Rate      Continent  \n",
       "0           1.62  North America  \n",
       "1           1.33           Asia  \n",
       "2           2.79  South America  \n",
       "3           1.61         Europe  \n",
       "4           2.79         Europe  "
      ]
     },
     "execution_count": 13,
     "metadata": {},
     "output_type": "execute_result"
    }
   ],
   "source": [
    "#hide\n",
    "for c in 'Cases, Deaths'.split(', '):\n",
    "    df_table[f'{c} (+)'] = (df_table[c] - df_table[f'P{c}']).clip(0)\n",
    "    #Clip ça veut dire, les chiffres negatif sont interdit\n",
    "df_table['Fatality Rate'] = (100* df_table['Deaths']/ df_table['Cases']).round(2)\n",
    "df_table['Continent'] = df_table['Country/Region'].map(mapping['map.continent'])\n",
    "df_table.head(5)"
   ]
  },
  {
   "cell_type": "code",
   "execution_count": 14,
   "id": "aboriginal-bulgaria",
   "metadata": {
    "execution": {
     "iopub.execute_input": "2021-10-22T12:12:25.760633Z",
     "iopub.status.busy": "2021-10-22T12:12:25.759962Z",
     "iopub.status.idle": "2021-10-22T12:12:25.762676Z",
     "shell.execute_reply": "2021-10-22T12:12:25.763271Z"
    },
    "papermill": {
     "duration": 0.050203,
     "end_time": "2021-10-22T12:12:25.763436",
     "exception": false,
     "start_time": "2021-10-22T12:12:25.713233",
     "status": "completed"
    },
    "tags": []
   },
   "outputs": [],
   "source": [
    "#hide\n",
    "#delete problematic countries from table\n",
    "df_table = df_table[~df_table['Country/Region'].isin(['Cape Verde', 'Cruise Ship', 'Kosovo'])]"
   ]
  },
  {
   "cell_type": "code",
   "execution_count": 15,
   "id": "fantastic-effect",
   "metadata": {
    "execution": {
     "iopub.execute_input": "2021-10-22T12:12:25.855106Z",
     "iopub.status.busy": "2021-10-22T12:12:25.854409Z",
     "iopub.status.idle": "2021-10-22T12:12:25.878834Z",
     "shell.execute_reply": "2021-10-22T12:12:25.877845Z"
    },
    "papermill": {
     "duration": 0.074017,
     "end_time": "2021-10-22T12:12:25.878990",
     "exception": false,
     "start_time": "2021-10-22T12:12:25.804973",
     "status": "completed"
    },
    "tags": []
   },
   "outputs": [
    {
     "data": {
      "text/html": [
       "<div>\n",
       "<style scoped>\n",
       "    .dataframe tbody tr th:only-of-type {\n",
       "        vertical-align: middle;\n",
       "    }\n",
       "\n",
       "    .dataframe tbody tr th {\n",
       "        vertical-align: top;\n",
       "    }\n",
       "\n",
       "    .dataframe thead th {\n",
       "        text-align: right;\n",
       "    }\n",
       "</style>\n",
       "<table border=\"1\" class=\"dataframe\">\n",
       "  <thead>\n",
       "    <tr style=\"text-align: right;\">\n",
       "      <th></th>\n",
       "      <th>Country/Region</th>\n",
       "      <th>Cases</th>\n",
       "      <th>Deaths</th>\n",
       "      <th>PCases</th>\n",
       "      <th>PDeaths</th>\n",
       "      <th>Cases (+)</th>\n",
       "      <th>Deaths (+)</th>\n",
       "      <th>Fatality Rate</th>\n",
       "      <th>Continent</th>\n",
       "    </tr>\n",
       "  </thead>\n",
       "  <tbody>\n",
       "    <tr>\n",
       "      <th>0</th>\n",
       "      <td>US</td>\n",
       "      <td>45300970</td>\n",
       "      <td>733213</td>\n",
       "      <td>45220898</td>\n",
       "      <td>731310</td>\n",
       "      <td>80072</td>\n",
       "      <td>1903</td>\n",
       "      <td>1.6</td>\n",
       "      <td>North America</td>\n",
       "    </tr>\n",
       "    <tr>\n",
       "      <th>1</th>\n",
       "      <td>India</td>\n",
       "      <td>34143236</td>\n",
       "      <td>453042</td>\n",
       "      <td>34127450</td>\n",
       "      <td>452811</td>\n",
       "      <td>15786</td>\n",
       "      <td>231</td>\n",
       "      <td>1.3</td>\n",
       "      <td>Asia</td>\n",
       "    </tr>\n",
       "    <tr>\n",
       "      <th>2</th>\n",
       "      <td>Brazil</td>\n",
       "      <td>21697341</td>\n",
       "      <td>604679</td>\n",
       "      <td>21680488</td>\n",
       "      <td>604228</td>\n",
       "      <td>16853</td>\n",
       "      <td>451</td>\n",
       "      <td>2.8</td>\n",
       "      <td>South America</td>\n",
       "    </tr>\n",
       "    <tr>\n",
       "      <th>3</th>\n",
       "      <td>United Kingdom</td>\n",
       "      <td>8681795</td>\n",
       "      <td>139562</td>\n",
       "      <td>8630076</td>\n",
       "      <td>139444</td>\n",
       "      <td>51719</td>\n",
       "      <td>118</td>\n",
       "      <td>1.6</td>\n",
       "      <td>Europe</td>\n",
       "    </tr>\n",
       "    <tr>\n",
       "      <th>4</th>\n",
       "      <td>Russia</td>\n",
       "      <td>8005376</td>\n",
       "      <td>223331</td>\n",
       "      <td>7969960</td>\n",
       "      <td>222320</td>\n",
       "      <td>35416</td>\n",
       "      <td>1011</td>\n",
       "      <td>2.8</td>\n",
       "      <td>Europe</td>\n",
       "    </tr>\n",
       "  </tbody>\n",
       "</table>\n",
       "</div>"
      ],
      "text/plain": [
       "   Country/Region     Cases  Deaths    PCases  PDeaths  Cases (+)  Deaths (+)  \\\n",
       "0              US  45300970  733213  45220898   731310      80072        1903   \n",
       "1           India  34143236  453042  34127450   452811      15786         231   \n",
       "2          Brazil  21697341  604679  21680488   604228      16853         451   \n",
       "3  United Kingdom   8681795  139562   8630076   139444      51719         118   \n",
       "4          Russia   8005376  223331   7969960   222320      35416        1011   \n",
       "\n",
       "   Fatality Rate      Continent  \n",
       "0            1.6  North America  \n",
       "1            1.3           Asia  \n",
       "2            2.8  South America  \n",
       "3            1.6         Europe  \n",
       "4            2.8         Europe  "
      ]
     },
     "execution_count": 15,
     "metadata": {},
     "output_type": "execute_result"
    }
   ],
   "source": [
    "#hide\n",
    "df_table = (pd.DataFrame(dict(Cases=dfc_cases, Deaths=dfc_deaths, PCases=dfp_cases, PDeaths=dfp_deaths))\n",
    "             .sort_values(by=['Cases', 'Deaths'], ascending=[False, False])\n",
    "             .reset_index())\n",
    "df_table.rename(columns={'index': 'Country/Region'}, inplace=True)\n",
    "for c in 'Cases, Deaths'.split(', '):\n",
    "    df_table[f'{c} (+)'] = (df_table[c] - df_table[f'P{c}']).clip(0)  # DATA BUG\n",
    "df_table['Fatality Rate'] = (100 * df_table['Deaths'] / df_table['Cases']).round(1)\n",
    "df_table['Continent'] = df_table['Country/Region'].map(mapping['map.continent'])\n",
    "df_table.head(5)"
   ]
  },
  {
   "cell_type": "code",
   "execution_count": 16,
   "id": "fewer-occasion",
   "metadata": {
    "execution": {
     "iopub.execute_input": "2021-10-22T12:12:25.968083Z",
     "iopub.status.busy": "2021-10-22T12:12:25.967359Z",
     "iopub.status.idle": "2021-10-22T12:12:25.970042Z",
     "shell.execute_reply": "2021-10-22T12:12:25.970732Z"
    },
    "papermill": {
     "duration": 0.051549,
     "end_time": "2021-10-22T12:12:25.970932",
     "exception": false,
     "start_time": "2021-10-22T12:12:25.919383",
     "status": "completed"
    },
    "tags": []
   },
   "outputs": [],
   "source": [
    "#hide\n",
    "#delete problematic countries from table\n",
    "df_table = df_table[~df_table['Country/Region'].isin(['Cape Verde', 'Cruise Ship', 'Kosovo'])]"
   ]
  },
  {
   "cell_type": "code",
   "execution_count": 17,
   "id": "related-center",
   "metadata": {
    "execution": {
     "iopub.execute_input": "2021-10-22T12:12:26.078030Z",
     "iopub.status.busy": "2021-10-22T12:12:26.077317Z",
     "iopub.status.idle": "2021-10-22T12:12:26.079532Z",
     "shell.execute_reply": "2021-10-22T12:12:26.080491Z"
    },
    "papermill": {
     "duration": 0.069094,
     "end_time": "2021-10-22T12:12:26.080673",
     "exception": false,
     "start_time": "2021-10-22T12:12:26.011579",
     "status": "completed"
    },
    "tags": []
   },
   "outputs": [],
   "source": [
    "#hide\n",
    "metrics = [df_table.columns[index] for index in [1,2,5,6]]\n",
    "# s_china = df_table[df_table['Country/Region'].eq('China')][metrics].sum().add_prefix('China ')\n",
    "s_us = df_table[df_table['Country/Region'].eq('US')][metrics].sum().add_prefix('US ')\n",
    "s_eu = df_table[df_table['Continent'].eq('Europe')][metrics].sum().add_prefix('EU ')\n",
    "s_ind = df_table[df_table['Country/Region'].eq('India')][metrics].sum().add_prefix('India ')\n",
    "summary = {'updated': pd.to_datetime(dt_today), 'since': pd.to_datetime(dt_yday)}\n",
    "summary = {'updated': pd.to_datetime(dt_today), 'since': pd.to_datetime(dt_yday)}\n",
    "summary = {**summary, **df_table[metrics].sum(), **s_ind, **s_us, **s_eu}"
   ]
  },
  {
   "cell_type": "code",
   "execution_count": 18,
   "id": "engaging-syndrome",
   "metadata": {
    "execution": {
     "iopub.execute_input": "2021-10-22T12:12:26.168965Z",
     "iopub.status.busy": "2021-10-22T12:12:26.168253Z",
     "iopub.status.idle": "2021-10-22T12:12:26.183572Z",
     "shell.execute_reply": "2021-10-22T12:12:26.182994Z"
    },
    "papermill": {
     "duration": 0.062268,
     "end_time": "2021-10-22T12:12:26.183731",
     "exception": false,
     "start_time": "2021-10-22T12:12:26.121463",
     "status": "completed"
    },
    "tags": []
   },
   "outputs": [],
   "source": [
    "#hide\n",
    "dft_ct_new_cases = dft_cases.groupby(COL_REGION)[dt_cols].sum().diff(axis=1).fillna(0).astype(int)"
   ]
  },
  {
   "cell_type": "code",
   "execution_count": 19,
   "id": "neutral-assignment",
   "metadata": {
    "execution": {
     "iopub.execute_input": "2021-10-22T12:12:26.272019Z",
     "iopub.status.busy": "2021-10-22T12:12:26.271244Z",
     "iopub.status.idle": "2021-10-22T12:12:26.273446Z",
     "shell.execute_reply": "2021-10-22T12:12:26.274026Z"
    },
    "papermill": {
     "duration": 0.049837,
     "end_time": "2021-10-22T12:12:26.274183",
     "exception": false,
     "start_time": "2021-10-22T12:12:26.224346",
     "status": "completed"
    },
    "tags": []
   },
   "outputs": [],
   "source": [
    "#hide\n",
    "everydaycases = dft_ct_new_cases.cumsum(axis=1)"
   ]
  },
  {
   "cell_type": "code",
   "execution_count": 20,
   "id": "parliamentary-calgary",
   "metadata": {
    "execution": {
     "iopub.execute_input": "2021-10-22T12:12:26.359306Z",
     "iopub.status.busy": "2021-10-22T12:12:26.358622Z",
     "iopub.status.idle": "2021-10-22T12:12:27.040865Z",
     "shell.execute_reply": "2021-10-22T12:12:27.040237Z"
    },
    "papermill": {
     "duration": 0.72715,
     "end_time": "2021-10-22T12:12:27.041022",
     "exception": false,
     "start_time": "2021-10-22T12:12:26.313872",
     "status": "completed"
    },
    "tags": []
   },
   "outputs": [],
   "source": [
    "#hide\n",
    "import pandas as pd\n",
    "import matplotlib.pyplot as plt\n",
    "import matplotlib.ticker as ticker\n",
    "import matplotlib.animation as animation\n",
    "from IPython.display import HTML"
   ]
  },
  {
   "cell_type": "code",
   "execution_count": 21,
   "id": "lasting-extraction",
   "metadata": {
    "execution": {
     "iopub.execute_input": "2021-10-22T12:12:27.128311Z",
     "iopub.status.busy": "2021-10-22T12:12:27.127646Z",
     "iopub.status.idle": "2021-10-22T12:12:27.134722Z",
     "shell.execute_reply": "2021-10-22T12:12:27.134147Z"
    },
    "papermill": {
     "duration": 0.0533,
     "end_time": "2021-10-22T12:12:27.134871",
     "exception": false,
     "start_time": "2021-10-22T12:12:27.081571",
     "status": "completed"
    },
    "tags": []
   },
   "outputs": [],
   "source": [
    "#hide\n",
    "t = everydaycases.stack()"
   ]
  },
  {
   "cell_type": "code",
   "execution_count": 22,
   "id": "premier-sleeve",
   "metadata": {
    "execution": {
     "iopub.execute_input": "2021-10-22T12:12:27.221236Z",
     "iopub.status.busy": "2021-10-22T12:12:27.220524Z",
     "iopub.status.idle": "2021-10-22T12:12:27.232571Z",
     "shell.execute_reply": "2021-10-22T12:12:27.231973Z"
    },
    "papermill": {
     "duration": 0.057579,
     "end_time": "2021-10-22T12:12:27.232723",
     "exception": false,
     "start_time": "2021-10-22T12:12:27.175144",
     "status": "completed"
    },
    "tags": []
   },
   "outputs": [],
   "source": [
    "#hide\n",
    "g = t.reset_index(['Country/Region'])"
   ]
  },
  {
   "cell_type": "code",
   "execution_count": 23,
   "id": "distributed-pittsburgh",
   "metadata": {
    "execution": {
     "iopub.execute_input": "2021-10-22T12:12:27.317928Z",
     "iopub.status.busy": "2021-10-22T12:12:27.317116Z",
     "iopub.status.idle": "2021-10-22T12:12:27.319583Z",
     "shell.execute_reply": "2021-10-22T12:12:27.318896Z"
    },
    "papermill": {
     "duration": 0.047797,
     "end_time": "2021-10-22T12:12:27.319726",
     "exception": false,
     "start_time": "2021-10-22T12:12:27.271929",
     "status": "completed"
    },
    "tags": []
   },
   "outputs": [],
   "source": [
    "#hide\n",
    "g.index.name = 'date'"
   ]
  },
  {
   "cell_type": "code",
   "execution_count": 24,
   "id": "naked-donor",
   "metadata": {
    "execution": {
     "iopub.execute_input": "2021-10-22T12:12:27.404301Z",
     "iopub.status.busy": "2021-10-22T12:12:27.403598Z",
     "iopub.status.idle": "2021-10-22T12:12:27.407267Z",
     "shell.execute_reply": "2021-10-22T12:12:27.406627Z"
    },
    "papermill": {
     "duration": 0.047353,
     "end_time": "2021-10-22T12:12:27.407443",
     "exception": false,
     "start_time": "2021-10-22T12:12:27.360090",
     "status": "completed"
    },
    "tags": []
   },
   "outputs": [],
   "source": [
    "# #hide\n",
    "# g = g.reset_index(['date'])"
   ]
  },
  {
   "cell_type": "code",
   "execution_count": 25,
   "id": "incomplete-mustang",
   "metadata": {
    "execution": {
     "iopub.execute_input": "2021-10-22T12:12:27.493201Z",
     "iopub.status.busy": "2021-10-22T12:12:27.492528Z",
     "iopub.status.idle": "2021-10-22T12:12:27.494744Z",
     "shell.execute_reply": "2021-10-22T12:12:27.495422Z"
    },
    "papermill": {
     "duration": 0.045344,
     "end_time": "2021-10-22T12:12:27.495588",
     "exception": false,
     "start_time": "2021-10-22T12:12:27.450244",
     "status": "completed"
    },
    "tags": []
   },
   "outputs": [],
   "source": [
    "#hide\n",
    "# g.head()"
   ]
  },
  {
   "cell_type": "code",
   "execution_count": 26,
   "id": "specific-kruger",
   "metadata": {
    "execution": {
     "iopub.execute_input": "2021-10-22T12:12:27.580193Z",
     "iopub.status.busy": "2021-10-22T12:12:27.579507Z",
     "iopub.status.idle": "2021-10-22T12:12:27.581525Z",
     "shell.execute_reply": "2021-10-22T12:12:27.582108Z"
    },
    "papermill": {
     "duration": 0.045888,
     "end_time": "2021-10-22T12:12:27.582264",
     "exception": false,
     "start_time": "2021-10-22T12:12:27.536376",
     "status": "completed"
    },
    "tags": []
   },
   "outputs": [],
   "source": [
    "#hide\n",
    "# g.columns = ['date','country','cases']"
   ]
  },
  {
   "cell_type": "code",
   "execution_count": 27,
   "id": "tender-conversion",
   "metadata": {
    "execution": {
     "iopub.execute_input": "2021-10-22T12:12:27.671897Z",
     "iopub.status.busy": "2021-10-22T12:12:27.671190Z",
     "iopub.status.idle": "2021-10-22T12:12:27.673567Z",
     "shell.execute_reply": "2021-10-22T12:12:27.674393Z"
    },
    "papermill": {
     "duration": 0.05103,
     "end_time": "2021-10-22T12:12:27.674553",
     "exception": false,
     "start_time": "2021-10-22T12:12:27.623523",
     "status": "completed"
    },
    "tags": []
   },
   "outputs": [],
   "source": [
    "#hide\n",
    "# g['continent'] = g.country"
   ]
  },
  {
   "cell_type": "code",
   "execution_count": 28,
   "id": "substantial-wilderness",
   "metadata": {
    "execution": {
     "iopub.execute_input": "2021-10-22T12:12:27.760265Z",
     "iopub.status.busy": "2021-10-22T12:12:27.759561Z",
     "iopub.status.idle": "2021-10-22T12:12:27.761712Z",
     "shell.execute_reply": "2021-10-22T12:12:27.762237Z"
    },
    "papermill": {
     "duration": 0.047699,
     "end_time": "2021-10-22T12:12:27.762396",
     "exception": false,
     "start_time": "2021-10-22T12:12:27.714697",
     "status": "completed"
    },
    "tags": []
   },
   "outputs": [],
   "source": [
    "#hide\n",
    "# cols = list(g.columns.values)"
   ]
  },
  {
   "cell_type": "code",
   "execution_count": 29,
   "id": "solved-farming",
   "metadata": {
    "execution": {
     "iopub.execute_input": "2021-10-22T12:12:27.849614Z",
     "iopub.status.busy": "2021-10-22T12:12:27.848914Z",
     "iopub.status.idle": "2021-10-22T12:12:27.851055Z",
     "shell.execute_reply": "2021-10-22T12:12:27.851679Z"
    },
    "papermill": {
     "duration": 0.049061,
     "end_time": "2021-10-22T12:12:27.851838",
     "exception": false,
     "start_time": "2021-10-22T12:12:27.802777",
     "status": "completed"
    },
    "tags": []
   },
   "outputs": [],
   "source": [
    "#hide\n",
    "# cols.insert(0, cols.pop())"
   ]
  },
  {
   "cell_type": "code",
   "execution_count": 30,
   "id": "executed-adoption",
   "metadata": {
    "execution": {
     "iopub.execute_input": "2021-10-22T12:12:27.936504Z",
     "iopub.status.busy": "2021-10-22T12:12:27.935816Z",
     "iopub.status.idle": "2021-10-22T12:12:27.937917Z",
     "shell.execute_reply": "2021-10-22T12:12:27.938503Z"
    },
    "papermill": {
     "duration": 0.046794,
     "end_time": "2021-10-22T12:12:27.938665",
     "exception": false,
     "start_time": "2021-10-22T12:12:27.891871",
     "status": "completed"
    },
    "tags": []
   },
   "outputs": [],
   "source": [
    "#hide\n",
    "# g = g[cols]"
   ]
  },
  {
   "cell_type": "code",
   "execution_count": 31,
   "id": "subject-dublin",
   "metadata": {
    "execution": {
     "iopub.execute_input": "2021-10-22T12:12:28.022865Z",
     "iopub.status.busy": "2021-10-22T12:12:28.022195Z",
     "iopub.status.idle": "2021-10-22T12:12:28.024179Z",
     "shell.execute_reply": "2021-10-22T12:12:28.024816Z"
    },
    "papermill": {
     "duration": 0.046399,
     "end_time": "2021-10-22T12:12:28.024981",
     "exception": false,
     "start_time": "2021-10-22T12:12:27.978582",
     "status": "completed"
    },
    "tags": []
   },
   "outputs": [],
   "source": [
    "#hide\n",
    "# g['continent'] = g['continent'].map(mapping['map.continent'])"
   ]
  },
  {
   "cell_type": "code",
   "execution_count": 32,
   "id": "freelance-scout",
   "metadata": {
    "execution": {
     "iopub.execute_input": "2021-10-22T12:12:28.110131Z",
     "iopub.status.busy": "2021-10-22T12:12:28.109447Z",
     "iopub.status.idle": "2021-10-22T12:12:28.111368Z",
     "shell.execute_reply": "2021-10-22T12:12:28.111946Z"
    },
    "papermill": {
     "duration": 0.047028,
     "end_time": "2021-10-22T12:12:28.112108",
     "exception": false,
     "start_time": "2021-10-22T12:12:28.065080",
     "status": "completed"
    },
    "tags": []
   },
   "outputs": [],
   "source": [
    "#hide\n",
    "# g.head()"
   ]
  },
  {
   "cell_type": "code",
   "execution_count": 33,
   "id": "limited-engine",
   "metadata": {
    "execution": {
     "iopub.execute_input": "2021-10-22T12:12:28.198491Z",
     "iopub.status.busy": "2021-10-22T12:12:28.197818Z",
     "iopub.status.idle": "2021-10-22T12:12:28.199815Z",
     "shell.execute_reply": "2021-10-22T12:12:28.200362Z"
    },
    "papermill": {
     "duration": 0.046681,
     "end_time": "2021-10-22T12:12:28.200519",
     "exception": false,
     "start_time": "2021-10-22T12:12:28.153838",
     "status": "completed"
    },
    "tags": []
   },
   "outputs": [],
   "source": [
    "# hide\n",
    "# g['date'] = g['date'].astype('datetime64[ns]')"
   ]
  },
  {
   "cell_type": "code",
   "execution_count": 34,
   "id": "sophisticated-supervisor",
   "metadata": {
    "execution": {
     "iopub.execute_input": "2021-10-22T12:12:28.290097Z",
     "iopub.status.busy": "2021-10-22T12:12:28.289400Z",
     "iopub.status.idle": "2021-10-22T12:12:28.291476Z",
     "shell.execute_reply": "2021-10-22T12:12:28.292059Z"
    },
    "papermill": {
     "duration": 0.051184,
     "end_time": "2021-10-22T12:12:28.292227",
     "exception": false,
     "start_time": "2021-10-22T12:12:28.241043",
     "status": "completed"
    },
    "tags": []
   },
   "outputs": [],
   "source": [
    "#hide\n",
    "# g['date'] = g.date.dt.dayofyear"
   ]
  },
  {
   "cell_type": "code",
   "execution_count": 35,
   "id": "inside-dubai",
   "metadata": {
    "execution": {
     "iopub.execute_input": "2021-10-22T12:12:28.377681Z",
     "iopub.status.busy": "2021-10-22T12:12:28.376928Z",
     "iopub.status.idle": "2021-10-22T12:12:28.379725Z",
     "shell.execute_reply": "2021-10-22T12:12:28.380333Z"
    },
    "papermill": {
     "duration": 0.047329,
     "end_time": "2021-10-22T12:12:28.380500",
     "exception": false,
     "start_time": "2021-10-22T12:12:28.333171",
     "status": "completed"
    },
    "tags": []
   },
   "outputs": [],
   "source": [
    "#hide\n",
    "# g = g.rename(columns= {'continent':'group','country':'name','cases':'value'})"
   ]
  },
  {
   "cell_type": "code",
   "execution_count": 36,
   "id": "fleet-motorcycle",
   "metadata": {
    "execution": {
     "iopub.execute_input": "2021-10-22T12:12:28.465065Z",
     "iopub.status.busy": "2021-10-22T12:12:28.464372Z",
     "iopub.status.idle": "2021-10-22T12:12:28.467060Z",
     "shell.execute_reply": "2021-10-22T12:12:28.466444Z"
    },
    "papermill": {
     "duration": 0.046876,
     "end_time": "2021-10-22T12:12:28.467198",
     "exception": false,
     "start_time": "2021-10-22T12:12:28.420322",
     "status": "completed"
    },
    "tags": []
   },
   "outputs": [],
   "source": [
    "#hide\n",
    "# cols = ['name','group','day','value']"
   ]
  },
  {
   "cell_type": "code",
   "execution_count": 37,
   "id": "continued-sleeping",
   "metadata": {
    "execution": {
     "iopub.execute_input": "2021-10-22T12:12:28.552865Z",
     "iopub.status.busy": "2021-10-22T12:12:28.552175Z",
     "iopub.status.idle": "2021-10-22T12:12:28.555127Z",
     "shell.execute_reply": "2021-10-22T12:12:28.555781Z"
    },
    "papermill": {
     "duration": 0.048674,
     "end_time": "2021-10-22T12:12:28.555927",
     "exception": false,
     "start_time": "2021-10-22T12:12:28.507253",
     "status": "completed"
    },
    "tags": []
   },
   "outputs": [],
   "source": [
    "#hide\n",
    "# g.rename(columns= {'date':'day'},inplace = True)"
   ]
  },
  {
   "cell_type": "code",
   "execution_count": 38,
   "id": "major-fight",
   "metadata": {
    "execution": {
     "iopub.execute_input": "2021-10-22T12:12:28.650854Z",
     "iopub.status.busy": "2021-10-22T12:12:28.650128Z",
     "iopub.status.idle": "2021-10-22T12:12:28.653100Z",
     "shell.execute_reply": "2021-10-22T12:12:28.652558Z"
    },
    "papermill": {
     "duration": 0.057044,
     "end_time": "2021-10-22T12:12:28.653339",
     "exception": false,
     "start_time": "2021-10-22T12:12:28.596295",
     "status": "completed"
    },
    "tags": []
   },
   "outputs": [],
   "source": [
    "#hide\n",
    "# g = g[cols]"
   ]
  },
  {
   "cell_type": "code",
   "execution_count": 39,
   "id": "structured-mobile",
   "metadata": {
    "execution": {
     "iopub.execute_input": "2021-10-22T12:12:28.747112Z",
     "iopub.status.busy": "2021-10-22T12:12:28.746399Z",
     "iopub.status.idle": "2021-10-22T12:12:28.748479Z",
     "shell.execute_reply": "2021-10-22T12:12:28.749062Z"
    },
    "papermill": {
     "duration": 0.052187,
     "end_time": "2021-10-22T12:12:28.749239",
     "exception": false,
     "start_time": "2021-10-22T12:12:28.697052",
     "status": "completed"
    },
    "tags": []
   },
   "outputs": [],
   "source": [
    "# #hide\n",
    "# g = g[g.group.notna()]"
   ]
  },
  {
   "cell_type": "code",
   "execution_count": 40,
   "id": "determined-closing",
   "metadata": {
    "execution": {
     "iopub.execute_input": "2021-10-22T12:12:28.834376Z",
     "iopub.status.busy": "2021-10-22T12:12:28.833672Z",
     "iopub.status.idle": "2021-10-22T12:12:28.841871Z",
     "shell.execute_reply": "2021-10-22T12:12:28.842485Z"
    },
    "papermill": {
     "duration": 0.0538,
     "end_time": "2021-10-22T12:12:28.842640",
     "exception": false,
     "start_time": "2021-10-22T12:12:28.788840",
     "status": "completed"
    },
    "tags": []
   },
   "outputs": [],
   "source": [
    "# #hide\n",
    "# colors = dict(zip(\n",
    "#     [\"Oceania\", \"Europe\", \"Asia\", \"South America\", \"Middle East\", \"North America\", \"Africa\"],\n",
    "#     [\"#adb0ff\", \"#ffb3ff\", \"#90d595\", \"#e48381\", \"#aafbff\", \"#f7bb5f\", \"#eafb50\"]\n",
    "# ))\n",
    "# group_lk = g.set_index('name')['group'].to_dict()"
   ]
  },
  {
   "cell_type": "code",
   "execution_count": null,
   "id": "gross-drinking",
   "metadata": {
    "papermill": {
     "duration": 0.041781,
     "end_time": "2021-10-22T12:12:28.925066",
     "exception": false,
     "start_time": "2021-10-22T12:12:28.883285",
     "status": "completed"
    },
    "tags": []
   },
   "outputs": [],
   "source": []
  },
  {
   "cell_type": "code",
   "execution_count": 41,
   "id": "subject-macintosh",
   "metadata": {
    "execution": {
     "iopub.execute_input": "2021-10-22T12:12:29.009810Z",
     "iopub.status.busy": "2021-10-22T12:12:29.009044Z",
     "iopub.status.idle": "2021-10-22T12:12:29.011202Z",
     "shell.execute_reply": "2021-10-22T12:12:29.011803Z"
    },
    "papermill": {
     "duration": 0.047065,
     "end_time": "2021-10-22T12:12:29.011957",
     "exception": false,
     "start_time": "2021-10-22T12:12:28.964892",
     "status": "completed"
    },
    "tags": []
   },
   "outputs": [],
   "source": [
    "# #hide\n",
    "# fig, ax = plt.subplots(figsize=(15, 8))\n",
    "\n",
    "# def draw_barchart(current_day):\n",
    "#     dff = g[g['day'].eq(current_day)].sort_values(by='value', ascending=True).tail(10)\n",
    "#     ax.clear()\n",
    "#     ax.barh(dff['name'], dff['value'], color=[colors[group_lk[x]] for x in dff['name']])\n",
    "#     dx = dff['value'].max() / 200\n",
    "    \n",
    "#     for i, (value, name) in enumerate(zip(dff['value'], dff['name'])):\n",
    "#         ax.text(value-dx, i,     name,           size=14, weight=600, ha='right', va='bottom')\n",
    "#         ax.text(value-dx, i-.25, group_lk[name], size=10, color='#444444', ha='right', va='baseline')\n",
    "#         ax.text(value+dx, i,     f'{value:,.0f}',  size=14, ha='left',  va='center')\n",
    "#     ax.text(1, 0.4, current_day, transform=ax.transAxes, color='#777777', size=46, ha='right', weight=800)\n",
    "#     ax.text(0, 1.06, 'Population (thousands)', transform=ax.transAxes, size=12, color='#777777')\n",
    "#     ax.xaxis.set_major_formatter(ticker.StrMethodFormatter('{x:,.0f}'))\n",
    "#     ax.xaxis.set_ticks_position('top')\n",
    "#     ax.tick_params(axis='x', colors='#777777', labelsize=12)\n",
    "#     ax.set_yticks([])\n",
    "#     ax.margins(0, 0.01)\n",
    "#     ax.grid(which='major', axis='x', linestyle='-')\n",
    "#     ax.set_axisbelow(True)\n",
    "    \n",
    "#     ax.text(0, 1.15, 'Coronavirus',\n",
    "#             transform=ax.transAxes, size=24, weight=600, ha='left', va='top')\n",
    "# #     ax.text(1, 0, 'by @pratapvardhan; credit @jburnmurdoch', transform=ax.transAxes, color='#777777', ha='right',\n",
    "# #             bbox=dict(facecolor='white', alpha=0.8, edgecolor='white'))\n",
    "#     plt.box(False)"
   ]
  },
  {
   "cell_type": "code",
   "execution_count": 42,
   "id": "sexual-wages",
   "metadata": {
    "execution": {
     "iopub.execute_input": "2021-10-22T12:12:29.098800Z",
     "iopub.status.busy": "2021-10-22T12:12:29.098117Z",
     "iopub.status.idle": "2021-10-22T12:12:29.100698Z",
     "shell.execute_reply": "2021-10-22T12:12:29.100119Z"
    },
    "papermill": {
     "duration": 0.047796,
     "end_time": "2021-10-22T12:12:29.100835",
     "exception": false,
     "start_time": "2021-10-22T12:12:29.053039",
     "status": "completed"
    },
    "tags": []
   },
   "outputs": [],
   "source": [
    "# #hide_input\n",
    "# fig, ax = plt.subplots(figsize=(15, 8))\n",
    "# animator = animation.FuncAnimation(fig, draw_barchart, frames=range(g.day.values.min(), g.day.values.max()))\n",
    "# HTML(animator.to_jshtml())\n",
    "# # or use animator.to_html5_video() or animator.save() "
   ]
  },
  {
   "cell_type": "code",
   "execution_count": null,
   "id": "australian-container",
   "metadata": {
    "papermill": {
     "duration": 0.040652,
     "end_time": "2021-10-22T12:12:29.181835",
     "exception": false,
     "start_time": "2021-10-22T12:12:29.141183",
     "status": "completed"
    },
    "tags": []
   },
   "outputs": [],
   "source": []
  },
  {
   "cell_type": "code",
   "execution_count": null,
   "id": "mediterranean-pontiac",
   "metadata": {
    "papermill": {
     "duration": 0.039815,
     "end_time": "2021-10-22T12:12:29.272820",
     "exception": false,
     "start_time": "2021-10-22T12:12:29.233005",
     "status": "completed"
    },
    "tags": []
   },
   "outputs": [],
   "source": []
  },
  {
   "cell_type": "code",
   "execution_count": null,
   "id": "aging-legislature",
   "metadata": {
    "papermill": {
     "duration": 0.040713,
     "end_time": "2021-10-22T12:12:29.354627",
     "exception": false,
     "start_time": "2021-10-22T12:12:29.313914",
     "status": "completed"
    },
    "tags": []
   },
   "outputs": [],
   "source": []
  }
 ],
 "metadata": {
  "kernelspec": {
   "display_name": "Python 3",
   "language": "python",
   "name": "python3"
  },
  "language_info": {
   "codemirror_mode": {
    "name": "ipython",
    "version": 3
   },
   "file_extension": ".py",
   "mimetype": "text/x-python",
   "name": "python",
   "nbconvert_exporter": "python",
   "pygments_lexer": "ipython3",
   "version": "3.6.15"
  },
  "papermill": {
   "duration": 7.73958,
   "end_time": "2021-10-22T12:12:29.805047",
   "environment_variables": {},
   "exception": null,
   "input_path": "2020-03-21-covid19exp.ipynb",
   "output_path": "2020-03-21-covid19exp.ipynb",
   "parameters": {},
   "start_time": "2021-10-22T12:12:22.065467",
   "version": "2.0.0"
  }
 },
 "nbformat": 4,
 "nbformat_minor": 5
}