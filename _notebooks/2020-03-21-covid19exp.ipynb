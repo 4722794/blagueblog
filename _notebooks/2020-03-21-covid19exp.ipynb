{
 "cells": [
  {
   "cell_type": "markdown",
   "id": "muslim-click",
   "metadata": {
    "papermill": {
     "duration": 0.044378,
     "end_time": "2022-02-06T00:31:36.905735",
     "exception": false,
     "start_time": "2022-02-06T00:31:36.861357",
     "status": "completed"
    },
    "tags": []
   },
   "source": [
    "# COVID-19 Case Race\n",
    "> A race chart to see rising cases around the world\n",
    "\n",
    "- author: Hargun Oberoi\n",
    "- image: images/covid-overview.png\n",
    "- hide: false\n",
    "- badges: false"
   ]
  },
  {
   "cell_type": "code",
   "execution_count": 1,
   "id": "proof-material",
   "metadata": {
    "execution": {
     "iopub.execute_input": "2022-02-06T00:31:37.000129Z",
     "iopub.status.busy": "2022-02-06T00:31:36.999353Z",
     "iopub.status.idle": "2022-02-06T00:31:37.429392Z",
     "shell.execute_reply": "2022-02-06T00:31:37.428438Z"
    },
    "papermill": {
     "duration": 0.482916,
     "end_time": "2022-02-06T00:31:37.429562",
     "exception": false,
     "start_time": "2022-02-06T00:31:36.946646",
     "status": "completed"
    },
    "tags": []
   },
   "outputs": [],
   "source": [
    "#hide\n",
    "import numpy as np\n",
    "import pandas as pd\n",
    "from jinja2 import Template\n",
    "from IPython.display import HTML"
   ]
  },
  {
   "cell_type": "code",
   "execution_count": 2,
   "id": "developed-terminology",
   "metadata": {
    "execution": {
     "iopub.execute_input": "2022-02-06T00:31:37.517563Z",
     "iopub.status.busy": "2022-02-06T00:31:37.516772Z",
     "iopub.status.idle": "2022-02-06T00:31:37.518636Z",
     "shell.execute_reply": "2022-02-06T00:31:37.519356Z"
    },
    "papermill": {
     "duration": 0.048668,
     "end_time": "2022-02-06T00:31:37.519517",
     "exception": false,
     "start_time": "2022-02-06T00:31:37.470849",
     "status": "completed"
    },
    "tags": []
   },
   "outputs": [],
   "source": [
    "#hide\n",
    "\n",
    "# FETCH\n",
    "base_url = 'https://raw.githubusercontent.com/pratapvardhan/notebooks/master/covid19/'\n",
    "paths = {\n",
    "    'mapping': base_url + 'mapping_countries.csv',\n",
    "    'overview': base_url + 'overview.tpl'\n",
    "}"
   ]
  },
  {
   "cell_type": "code",
   "execution_count": 3,
   "id": "dynamic-saver",
   "metadata": {
    "execution": {
     "iopub.execute_input": "2022-02-06T00:31:37.618832Z",
     "iopub.status.busy": "2022-02-06T00:31:37.618067Z",
     "iopub.status.idle": "2022-02-06T00:31:37.621894Z",
     "shell.execute_reply": "2022-02-06T00:31:37.621335Z"
    },
    "papermill": {
     "duration": 0.057607,
     "end_time": "2022-02-06T00:31:37.622037",
     "exception": false,
     "start_time": "2022-02-06T00:31:37.564430",
     "status": "completed"
    },
    "tags": []
   },
   "outputs": [
    {
     "data": {
      "text/plain": [
       "'https://raw.githubusercontent.com/pratapvardhan/notebooks/master/covid19/mapping_countries.csv'"
      ]
     },
     "execution_count": 3,
     "metadata": {},
     "output_type": "execute_result"
    }
   ],
   "source": [
    "#hide\n",
    "paths['mapping']"
   ]
  },
  {
   "cell_type": "code",
   "execution_count": 4,
   "id": "urban-software",
   "metadata": {
    "execution": {
     "iopub.execute_input": "2022-02-06T00:31:37.709894Z",
     "iopub.status.busy": "2022-02-06T00:31:37.709169Z",
     "iopub.status.idle": "2022-02-06T00:31:37.711976Z",
     "shell.execute_reply": "2022-02-06T00:31:37.711287Z"
    },
    "papermill": {
     "duration": 0.048781,
     "end_time": "2022-02-06T00:31:37.712113",
     "exception": false,
     "start_time": "2022-02-06T00:31:37.663332",
     "status": "completed"
    },
    "tags": []
   },
   "outputs": [],
   "source": [
    "#hide\n",
    "def get_mappings(url):\n",
    "    df = pd.read_csv(url)\n",
    "    return {\n",
    "        'df': df,\n",
    "        'replace.country': dict(df.dropna(subset=['Name']).set_index('Country')['Name']),\n",
    "        'map.continent': dict(df.set_index('Name')['Continent'])\n",
    "    }"
   ]
  },
  {
   "cell_type": "code",
   "execution_count": 5,
   "id": "intimate-machinery",
   "metadata": {
    "execution": {
     "iopub.execute_input": "2022-02-06T00:31:37.803042Z",
     "iopub.status.busy": "2022-02-06T00:31:37.802349Z",
     "iopub.status.idle": "2022-02-06T00:31:37.835103Z",
     "shell.execute_reply": "2022-02-06T00:31:37.835684Z"
    },
    "papermill": {
     "duration": 0.079749,
     "end_time": "2022-02-06T00:31:37.835895",
     "exception": false,
     "start_time": "2022-02-06T00:31:37.756146",
     "status": "completed"
    },
    "tags": []
   },
   "outputs": [],
   "source": [
    "#hide\n",
    "mapping = get_mappings(paths['mapping'])"
   ]
  },
  {
   "cell_type": "code",
   "execution_count": 6,
   "id": "certified-tactics",
   "metadata": {
    "execution": {
     "iopub.execute_input": "2022-02-06T00:31:37.924163Z",
     "iopub.status.busy": "2022-02-06T00:31:37.923378Z",
     "iopub.status.idle": "2022-02-06T00:31:37.926902Z",
     "shell.execute_reply": "2022-02-06T00:31:37.927446Z"
    },
    "papermill": {
     "duration": 0.050233,
     "end_time": "2022-02-06T00:31:37.927619",
     "exception": false,
     "start_time": "2022-02-06T00:31:37.877386",
     "status": "completed"
    },
    "tags": []
   },
   "outputs": [],
   "source": [
    "#hide\n",
    "def get_template(path):\n",
    "    from urllib.parse import urlparse\n",
    "    if bool(urlparse(path).netloc):\n",
    "        from urllib.request import urlopen\n",
    "        return urlopen(path).read().decode('utf8')\n",
    "    return open(path).read()"
   ]
  },
  {
   "cell_type": "code",
   "execution_count": 7,
   "id": "realistic-blast",
   "metadata": {
    "execution": {
     "iopub.execute_input": "2022-02-06T00:31:38.016793Z",
     "iopub.status.busy": "2022-02-06T00:31:38.016036Z",
     "iopub.status.idle": "2022-02-06T00:31:38.018553Z",
     "shell.execute_reply": "2022-02-06T00:31:38.017883Z"
    },
    "papermill": {
     "duration": 0.048686,
     "end_time": "2022-02-06T00:31:38.018690",
     "exception": false,
     "start_time": "2022-02-06T00:31:37.970004",
     "status": "completed"
    },
    "tags": []
   },
   "outputs": [],
   "source": [
    "#hide\n",
    "def get_frame(name):\n",
    "    url = (\n",
    "        'https://raw.githubusercontent.com/CSSEGISandData/COVID-19/master/csse_covid_19_data/'\n",
    "        f'csse_covid_19_time_series/time_series_covid19_{name}_global.csv')\n",
    "    df = pd.read_csv(url)\n",
    "    # rename countries\n",
    "    df['Country/Region'] = df['Country/Region'].replace(mapping['replace.country'])\n",
    "    return df"
   ]
  },
  {
   "cell_type": "code",
   "execution_count": 8,
   "id": "affiliated-characterization",
   "metadata": {
    "execution": {
     "iopub.execute_input": "2022-02-06T00:31:38.111581Z",
     "iopub.status.busy": "2022-02-06T00:31:38.110869Z",
     "iopub.status.idle": "2022-02-06T00:31:38.113677Z",
     "shell.execute_reply": "2022-02-06T00:31:38.112974Z"
    },
    "papermill": {
     "duration": 0.049921,
     "end_time": "2022-02-06T00:31:38.113869",
     "exception": false,
     "start_time": "2022-02-06T00:31:38.063948",
     "status": "completed"
    },
    "tags": []
   },
   "outputs": [],
   "source": [
    "#hide\n",
    "def get_dates(df):\n",
    "    dt_cols = df.columns[~df.columns.isin(['Province/State', 'Country/Region', 'Lat', 'Long'])]\n",
    "    LAST_DATE_I = -1\n",
    "    # sometimes last column may be empty, then go backwards\n",
    "    for i in range(-1, -len(dt_cols), -1):\n",
    "        if not df[dt_cols[i]].fillna(0).eq(0).all():\n",
    "            LAST_DATE_I = i\n",
    "            break\n",
    "    return LAST_DATE_I, dt_cols"
   ]
  },
  {
   "cell_type": "code",
   "execution_count": 9,
   "id": "recent-optimization",
   "metadata": {
    "execution": {
     "iopub.execute_input": "2022-02-06T00:31:38.202285Z",
     "iopub.status.busy": "2022-02-06T00:31:38.201569Z",
     "iopub.status.idle": "2022-02-06T00:31:38.628221Z",
     "shell.execute_reply": "2022-02-06T00:31:38.627406Z"
    },
    "papermill": {
     "duration": 0.472334,
     "end_time": "2022-02-06T00:31:38.628377",
     "exception": false,
     "start_time": "2022-02-06T00:31:38.156043",
     "status": "completed"
    },
    "tags": []
   },
   "outputs": [],
   "source": [
    "#hide\n",
    "COL_REGION = 'Country/Region'\n",
    "# Confirmed, Recovered, Deaths\n",
    "df = get_frame('confirmed')\n",
    "# dft_: timeseries, dfc_: today country agg\n",
    "dft_cases = df\n",
    "dft_deaths = get_frame('deaths')\n",
    "dft_recovered = get_frame('recovered')\n",
    "LAST_DATE_I, dt_cols = get_dates(df)"
   ]
  },
  {
   "cell_type": "code",
   "execution_count": 10,
   "id": "absolute-copper",
   "metadata": {
    "execution": {
     "iopub.execute_input": "2022-02-06T00:31:38.717034Z",
     "iopub.status.busy": "2022-02-06T00:31:38.716273Z",
     "iopub.status.idle": "2022-02-06T00:31:38.719101Z",
     "shell.execute_reply": "2022-02-06T00:31:38.718368Z"
    },
    "papermill": {
     "duration": 0.04983,
     "end_time": "2022-02-06T00:31:38.719258",
     "exception": false,
     "start_time": "2022-02-06T00:31:38.669428",
     "status": "completed"
    },
    "tags": []
   },
   "outputs": [],
   "source": [
    "#hide\n",
    "LAST_DATE_I, dt_cols = get_dates(df)\n",
    "dt_today =dt_cols[LAST_DATE_I]\n",
    "# dt_5day = dt_cols[LAST_DATE_I - 5]\n",
    "dt_yday = dt_cols[LAST_DATE_I - 1]"
   ]
  },
  {
   "cell_type": "code",
   "execution_count": 11,
   "id": "restricted-sheriff",
   "metadata": {
    "execution": {
     "iopub.execute_input": "2022-02-06T00:31:38.809797Z",
     "iopub.status.busy": "2022-02-06T00:31:38.808919Z",
     "iopub.status.idle": "2022-02-06T00:31:38.816654Z",
     "shell.execute_reply": "2022-02-06T00:31:38.817229Z"
    },
    "papermill": {
     "duration": 0.057563,
     "end_time": "2022-02-06T00:31:38.817436",
     "exception": false,
     "start_time": "2022-02-06T00:31:38.759873",
     "status": "completed"
    },
    "tags": []
   },
   "outputs": [],
   "source": [
    "#hide\n",
    "dfc_cases = dft_cases.groupby(COL_REGION)[dt_today].sum()\n",
    "dfc_deaths = dft_deaths.groupby(COL_REGION)[dt_today].sum()\n",
    "# dfp_cases = dft_cases.groupby(COL_REGION)[dt_5day].sum()\n",
    "# dfp_deaths = dft_deaths.groupby(COL_REGION)[dt_5day].sum()\n",
    "dfp_cases = dft_cases.groupby(COL_REGION)[dt_yday].sum()\n",
    "dfp_deaths = dft_deaths.groupby(COL_REGION)[dt_yday].sum()"
   ]
  },
  {
   "cell_type": "code",
   "execution_count": 12,
   "id": "deluxe-hepatitis",
   "metadata": {
    "execution": {
     "iopub.execute_input": "2022-02-06T00:31:38.907007Z",
     "iopub.status.busy": "2022-02-06T00:31:38.906311Z",
     "iopub.status.idle": "2022-02-06T00:31:38.911018Z",
     "shell.execute_reply": "2022-02-06T00:31:38.911676Z"
    },
    "papermill": {
     "duration": 0.053279,
     "end_time": "2022-02-06T00:31:38.911857",
     "exception": false,
     "start_time": "2022-02-06T00:31:38.858578",
     "status": "completed"
    },
    "tags": []
   },
   "outputs": [],
   "source": [
    "#hide\n",
    "df_table = (pd.DataFrame(dict(Cases = dfc_cases, Deaths = dfc_deaths, PCases = dfp_cases, PDeaths = dfp_deaths))\n",
    "            .sort_values(by = ['Cases','Deaths'], ascending = [False, False])\n",
    "            .reset_index())"
   ]
  },
  {
   "cell_type": "code",
   "execution_count": 13,
   "id": "educational-chancellor",
   "metadata": {
    "execution": {
     "iopub.execute_input": "2022-02-06T00:31:39.015621Z",
     "iopub.status.busy": "2022-02-06T00:31:39.014935Z",
     "iopub.status.idle": "2022-02-06T00:31:39.039031Z",
     "shell.execute_reply": "2022-02-06T00:31:39.039603Z"
    },
    "papermill": {
     "duration": 0.080503,
     "end_time": "2022-02-06T00:31:39.039838",
     "exception": false,
     "start_time": "2022-02-06T00:31:38.959335",
     "status": "completed"
    },
    "tags": []
   },
   "outputs": [
    {
     "data": {
      "text/html": [
       "<div>\n",
       "<style scoped>\n",
       "    .dataframe tbody tr th:only-of-type {\n",
       "        vertical-align: middle;\n",
       "    }\n",
       "\n",
       "    .dataframe tbody tr th {\n",
       "        vertical-align: top;\n",
       "    }\n",
       "\n",
       "    .dataframe thead th {\n",
       "        text-align: right;\n",
       "    }\n",
       "</style>\n",
       "<table border=\"1\" class=\"dataframe\">\n",
       "  <thead>\n",
       "    <tr style=\"text-align: right;\">\n",
       "      <th></th>\n",
       "      <th>Country/Region</th>\n",
       "      <th>Cases</th>\n",
       "      <th>Deaths</th>\n",
       "      <th>PCases</th>\n",
       "      <th>PDeaths</th>\n",
       "      <th>Cases (+)</th>\n",
       "      <th>Deaths (+)</th>\n",
       "      <th>Fatality Rate</th>\n",
       "      <th>Continent</th>\n",
       "    </tr>\n",
       "  </thead>\n",
       "  <tbody>\n",
       "    <tr>\n",
       "      <th>0</th>\n",
       "      <td>US</td>\n",
       "      <td>76354040</td>\n",
       "      <td>901391</td>\n",
       "      <td>75982593</td>\n",
       "      <td>897237</td>\n",
       "      <td>371447</td>\n",
       "      <td>4154</td>\n",
       "      <td>1.18</td>\n",
       "      <td>North America</td>\n",
       "    </tr>\n",
       "    <tr>\n",
       "      <th>1</th>\n",
       "      <td>India</td>\n",
       "      <td>42080664</td>\n",
       "      <td>501114</td>\n",
       "      <td>41952712</td>\n",
       "      <td>500055</td>\n",
       "      <td>127952</td>\n",
       "      <td>1059</td>\n",
       "      <td>1.19</td>\n",
       "      <td>Asia</td>\n",
       "    </tr>\n",
       "    <tr>\n",
       "      <th>2</th>\n",
       "      <td>Brazil</td>\n",
       "      <td>26326454</td>\n",
       "      <td>631265</td>\n",
       "      <td>26107894</td>\n",
       "      <td>630301</td>\n",
       "      <td>218560</td>\n",
       "      <td>964</td>\n",
       "      <td>2.40</td>\n",
       "      <td>South America</td>\n",
       "    </tr>\n",
       "    <tr>\n",
       "      <th>3</th>\n",
       "      <td>France</td>\n",
       "      <td>20517059</td>\n",
       "      <td>133202</td>\n",
       "      <td>20274710</td>\n",
       "      <td>132847</td>\n",
       "      <td>242349</td>\n",
       "      <td>355</td>\n",
       "      <td>0.65</td>\n",
       "      <td>Europe</td>\n",
       "    </tr>\n",
       "    <tr>\n",
       "      <th>4</th>\n",
       "      <td>United Kingdom</td>\n",
       "      <td>17810151</td>\n",
       "      <td>158521</td>\n",
       "      <td>17727681</td>\n",
       "      <td>158266</td>\n",
       "      <td>82470</td>\n",
       "      <td>255</td>\n",
       "      <td>0.89</td>\n",
       "      <td>Europe</td>\n",
       "    </tr>\n",
       "  </tbody>\n",
       "</table>\n",
       "</div>"
      ],
      "text/plain": [
       "   Country/Region     Cases  Deaths    PCases  PDeaths  Cases (+)  Deaths (+)  \\\n",
       "0              US  76354040  901391  75982593   897237     371447        4154   \n",
       "1           India  42080664  501114  41952712   500055     127952        1059   \n",
       "2          Brazil  26326454  631265  26107894   630301     218560         964   \n",
       "3          France  20517059  133202  20274710   132847     242349         355   \n",
       "4  United Kingdom  17810151  158521  17727681   158266      82470         255   \n",
       "\n",
       "   Fatality Rate      Continent  \n",
       "0           1.18  North America  \n",
       "1           1.19           Asia  \n",
       "2           2.40  South America  \n",
       "3           0.65         Europe  \n",
       "4           0.89         Europe  "
      ]
     },
     "execution_count": 13,
     "metadata": {},
     "output_type": "execute_result"
    }
   ],
   "source": [
    "#hide\n",
    "for c in 'Cases, Deaths'.split(', '):\n",
    "    df_table[f'{c} (+)'] = (df_table[c] - df_table[f'P{c}']).clip(0)\n",
    "    #Clip ça veut dire, les chiffres negatif sont interdit\n",
    "df_table['Fatality Rate'] = (100* df_table['Deaths']/ df_table['Cases']).round(2)\n",
    "df_table['Continent'] = df_table['Country/Region'].map(mapping['map.continent'])\n",
    "df_table.head(5)"
   ]
  },
  {
   "cell_type": "code",
   "execution_count": 14,
   "id": "aboriginal-bulgaria",
   "metadata": {
    "execution": {
     "iopub.execute_input": "2022-02-06T00:31:39.130258Z",
     "iopub.status.busy": "2022-02-06T00:31:39.129477Z",
     "iopub.status.idle": "2022-02-06T00:31:39.132967Z",
     "shell.execute_reply": "2022-02-06T00:31:39.133749Z"
    },
    "papermill": {
     "duration": 0.04989,
     "end_time": "2022-02-06T00:31:39.133903",
     "exception": false,
     "start_time": "2022-02-06T00:31:39.084013",
     "status": "completed"
    },
    "tags": []
   },
   "outputs": [],
   "source": [
    "#hide\n",
    "#delete problematic countries from table\n",
    "df_table = df_table[~df_table['Country/Region'].isin(['Cape Verde', 'Cruise Ship', 'Kosovo'])]"
   ]
  },
  {
   "cell_type": "code",
   "execution_count": 15,
   "id": "fantastic-effect",
   "metadata": {
    "execution": {
     "iopub.execute_input": "2022-02-06T00:31:39.224403Z",
     "iopub.status.busy": "2022-02-06T00:31:39.223496Z",
     "iopub.status.idle": "2022-02-06T00:31:39.247488Z",
     "shell.execute_reply": "2022-02-06T00:31:39.246919Z"
    },
    "papermill": {
     "duration": 0.073291,
     "end_time": "2022-02-06T00:31:39.247622",
     "exception": false,
     "start_time": "2022-02-06T00:31:39.174331",
     "status": "completed"
    },
    "tags": []
   },
   "outputs": [
    {
     "data": {
      "text/html": [
       "<div>\n",
       "<style scoped>\n",
       "    .dataframe tbody tr th:only-of-type {\n",
       "        vertical-align: middle;\n",
       "    }\n",
       "\n",
       "    .dataframe tbody tr th {\n",
       "        vertical-align: top;\n",
       "    }\n",
       "\n",
       "    .dataframe thead th {\n",
       "        text-align: right;\n",
       "    }\n",
       "</style>\n",
       "<table border=\"1\" class=\"dataframe\">\n",
       "  <thead>\n",
       "    <tr style=\"text-align: right;\">\n",
       "      <th></th>\n",
       "      <th>Country/Region</th>\n",
       "      <th>Cases</th>\n",
       "      <th>Deaths</th>\n",
       "      <th>PCases</th>\n",
       "      <th>PDeaths</th>\n",
       "      <th>Cases (+)</th>\n",
       "      <th>Deaths (+)</th>\n",
       "      <th>Fatality Rate</th>\n",
       "      <th>Continent</th>\n",
       "    </tr>\n",
       "  </thead>\n",
       "  <tbody>\n",
       "    <tr>\n",
       "      <th>0</th>\n",
       "      <td>US</td>\n",
       "      <td>76354040</td>\n",
       "      <td>901391</td>\n",
       "      <td>75982593</td>\n",
       "      <td>897237</td>\n",
       "      <td>371447</td>\n",
       "      <td>4154</td>\n",
       "      <td>1.2</td>\n",
       "      <td>North America</td>\n",
       "    </tr>\n",
       "    <tr>\n",
       "      <th>1</th>\n",
       "      <td>India</td>\n",
       "      <td>42080664</td>\n",
       "      <td>501114</td>\n",
       "      <td>41952712</td>\n",
       "      <td>500055</td>\n",
       "      <td>127952</td>\n",
       "      <td>1059</td>\n",
       "      <td>1.2</td>\n",
       "      <td>Asia</td>\n",
       "    </tr>\n",
       "    <tr>\n",
       "      <th>2</th>\n",
       "      <td>Brazil</td>\n",
       "      <td>26326454</td>\n",
       "      <td>631265</td>\n",
       "      <td>26107894</td>\n",
       "      <td>630301</td>\n",
       "      <td>218560</td>\n",
       "      <td>964</td>\n",
       "      <td>2.4</td>\n",
       "      <td>South America</td>\n",
       "    </tr>\n",
       "    <tr>\n",
       "      <th>3</th>\n",
       "      <td>France</td>\n",
       "      <td>20517059</td>\n",
       "      <td>133202</td>\n",
       "      <td>20274710</td>\n",
       "      <td>132847</td>\n",
       "      <td>242349</td>\n",
       "      <td>355</td>\n",
       "      <td>0.6</td>\n",
       "      <td>Europe</td>\n",
       "    </tr>\n",
       "    <tr>\n",
       "      <th>4</th>\n",
       "      <td>United Kingdom</td>\n",
       "      <td>17810151</td>\n",
       "      <td>158521</td>\n",
       "      <td>17727681</td>\n",
       "      <td>158266</td>\n",
       "      <td>82470</td>\n",
       "      <td>255</td>\n",
       "      <td>0.9</td>\n",
       "      <td>Europe</td>\n",
       "    </tr>\n",
       "  </tbody>\n",
       "</table>\n",
       "</div>"
      ],
      "text/plain": [
       "   Country/Region     Cases  Deaths    PCases  PDeaths  Cases (+)  Deaths (+)  \\\n",
       "0              US  76354040  901391  75982593   897237     371447        4154   \n",
       "1           India  42080664  501114  41952712   500055     127952        1059   \n",
       "2          Brazil  26326454  631265  26107894   630301     218560         964   \n",
       "3          France  20517059  133202  20274710   132847     242349         355   \n",
       "4  United Kingdom  17810151  158521  17727681   158266      82470         255   \n",
       "\n",
       "   Fatality Rate      Continent  \n",
       "0            1.2  North America  \n",
       "1            1.2           Asia  \n",
       "2            2.4  South America  \n",
       "3            0.6         Europe  \n",
       "4            0.9         Europe  "
      ]
     },
     "execution_count": 15,
     "metadata": {},
     "output_type": "execute_result"
    }
   ],
   "source": [
    "#hide\n",
    "df_table = (pd.DataFrame(dict(Cases=dfc_cases, Deaths=dfc_deaths, PCases=dfp_cases, PDeaths=dfp_deaths))\n",
    "             .sort_values(by=['Cases', 'Deaths'], ascending=[False, False])\n",
    "             .reset_index())\n",
    "df_table.rename(columns={'index': 'Country/Region'}, inplace=True)\n",
    "for c in 'Cases, Deaths'.split(', '):\n",
    "    df_table[f'{c} (+)'] = (df_table[c] - df_table[f'P{c}']).clip(0)  # DATA BUG\n",
    "df_table['Fatality Rate'] = (100 * df_table['Deaths'] / df_table['Cases']).round(1)\n",
    "df_table['Continent'] = df_table['Country/Region'].map(mapping['map.continent'])\n",
    "df_table.head(5)"
   ]
  },
  {
   "cell_type": "code",
   "execution_count": 16,
   "id": "fewer-occasion",
   "metadata": {
    "execution": {
     "iopub.execute_input": "2022-02-06T00:31:39.335559Z",
     "iopub.status.busy": "2022-02-06T00:31:39.334789Z",
     "iopub.status.idle": "2022-02-06T00:31:39.337979Z",
     "shell.execute_reply": "2022-02-06T00:31:39.337438Z"
    },
    "papermill": {
     "duration": 0.049519,
     "end_time": "2022-02-06T00:31:39.338104",
     "exception": false,
     "start_time": "2022-02-06T00:31:39.288585",
     "status": "completed"
    },
    "tags": []
   },
   "outputs": [],
   "source": [
    "#hide\n",
    "#delete problematic countries from table\n",
    "df_table = df_table[~df_table['Country/Region'].isin(['Cape Verde', 'Cruise Ship', 'Kosovo'])]"
   ]
  },
  {
   "cell_type": "code",
   "execution_count": 17,
   "id": "related-center",
   "metadata": {
    "execution": {
     "iopub.execute_input": "2022-02-06T00:31:39.426265Z",
     "iopub.status.busy": "2022-02-06T00:31:39.425582Z",
     "iopub.status.idle": "2022-02-06T00:31:39.442753Z",
     "shell.execute_reply": "2022-02-06T00:31:39.442213Z"
    },
    "papermill": {
     "duration": 0.064917,
     "end_time": "2022-02-06T00:31:39.442899",
     "exception": false,
     "start_time": "2022-02-06T00:31:39.377982",
     "status": "completed"
    },
    "tags": []
   },
   "outputs": [],
   "source": [
    "#hide\n",
    "metrics = [df_table.columns[index] for index in [1,2,5,6]]\n",
    "# s_china = df_table[df_table['Country/Region'].eq('China')][metrics].sum().add_prefix('China ')\n",
    "s_us = df_table[df_table['Country/Region'].eq('US')][metrics].sum().add_prefix('US ')\n",
    "s_eu = df_table[df_table['Continent'].eq('Europe')][metrics].sum().add_prefix('EU ')\n",
    "s_ind = df_table[df_table['Country/Region'].eq('India')][metrics].sum().add_prefix('India ')\n",
    "summary = {'updated': pd.to_datetime(dt_today), 'since': pd.to_datetime(dt_yday)}\n",
    "summary = {'updated': pd.to_datetime(dt_today), 'since': pd.to_datetime(dt_yday)}\n",
    "summary = {**summary, **df_table[metrics].sum(), **s_ind, **s_us, **s_eu}"
   ]
  },
  {
   "cell_type": "code",
   "execution_count": 18,
   "id": "engaging-syndrome",
   "metadata": {
    "execution": {
     "iopub.execute_input": "2022-02-06T00:31:39.532442Z",
     "iopub.status.busy": "2022-02-06T00:31:39.531639Z",
     "iopub.status.idle": "2022-02-06T00:31:39.549067Z",
     "shell.execute_reply": "2022-02-06T00:31:39.548419Z"
    },
    "papermill": {
     "duration": 0.064735,
     "end_time": "2022-02-06T00:31:39.549230",
     "exception": false,
     "start_time": "2022-02-06T00:31:39.484495",
     "status": "completed"
    },
    "tags": []
   },
   "outputs": [],
   "source": [
    "#hide\n",
    "dft_ct_new_cases = dft_cases.groupby(COL_REGION)[dt_cols].sum().diff(axis=1).fillna(0).astype(int)"
   ]
  },
  {
   "cell_type": "code",
   "execution_count": 19,
   "id": "neutral-assignment",
   "metadata": {
    "execution": {
     "iopub.execute_input": "2022-02-06T00:31:39.639896Z",
     "iopub.status.busy": "2022-02-06T00:31:39.639143Z",
     "iopub.status.idle": "2022-02-06T00:31:39.642883Z",
     "shell.execute_reply": "2022-02-06T00:31:39.643460Z"
    },
    "papermill": {
     "duration": 0.052827,
     "end_time": "2022-02-06T00:31:39.643620",
     "exception": false,
     "start_time": "2022-02-06T00:31:39.590793",
     "status": "completed"
    },
    "tags": []
   },
   "outputs": [],
   "source": [
    "#hide\n",
    "everydaycases = dft_ct_new_cases.cumsum(axis=1)"
   ]
  },
  {
   "cell_type": "code",
   "execution_count": 20,
   "id": "parliamentary-calgary",
   "metadata": {
    "execution": {
     "iopub.execute_input": "2022-02-06T00:31:39.733406Z",
     "iopub.status.busy": "2022-02-06T00:31:39.732631Z",
     "iopub.status.idle": "2022-02-06T00:31:40.517054Z",
     "shell.execute_reply": "2022-02-06T00:31:40.517723Z"
    },
    "papermill": {
     "duration": 0.832995,
     "end_time": "2022-02-06T00:31:40.518062",
     "exception": false,
     "start_time": "2022-02-06T00:31:39.685067",
     "status": "completed"
    },
    "tags": []
   },
   "outputs": [],
   "source": [
    "#hide\n",
    "import pandas as pd\n",
    "import matplotlib.pyplot as plt\n",
    "import matplotlib.ticker as ticker\n",
    "import matplotlib.animation as animation\n",
    "from IPython.display import HTML"
   ]
  },
  {
   "cell_type": "code",
   "execution_count": 21,
   "id": "lasting-extraction",
   "metadata": {
    "execution": {
     "iopub.execute_input": "2022-02-06T00:31:40.609071Z",
     "iopub.status.busy": "2022-02-06T00:31:40.608216Z",
     "iopub.status.idle": "2022-02-06T00:31:40.615043Z",
     "shell.execute_reply": "2022-02-06T00:31:40.615755Z"
    },
    "papermill": {
     "duration": 0.055903,
     "end_time": "2022-02-06T00:31:40.615926",
     "exception": false,
     "start_time": "2022-02-06T00:31:40.560023",
     "status": "completed"
    },
    "tags": []
   },
   "outputs": [],
   "source": [
    "#hide\n",
    "t = everydaycases.stack()"
   ]
  },
  {
   "cell_type": "code",
   "execution_count": 22,
   "id": "premier-sleeve",
   "metadata": {
    "execution": {
     "iopub.execute_input": "2022-02-06T00:31:40.705071Z",
     "iopub.status.busy": "2022-02-06T00:31:40.704360Z",
     "iopub.status.idle": "2022-02-06T00:31:40.716271Z",
     "shell.execute_reply": "2022-02-06T00:31:40.716834Z"
    },
    "papermill": {
     "duration": 0.059424,
     "end_time": "2022-02-06T00:31:40.717043",
     "exception": false,
     "start_time": "2022-02-06T00:31:40.657619",
     "status": "completed"
    },
    "tags": []
   },
   "outputs": [],
   "source": [
    "#hide\n",
    "g = t.reset_index(['Country/Region'])"
   ]
  },
  {
   "cell_type": "code",
   "execution_count": 23,
   "id": "distributed-pittsburgh",
   "metadata": {
    "execution": {
     "iopub.execute_input": "2022-02-06T00:31:40.805132Z",
     "iopub.status.busy": "2022-02-06T00:31:40.804378Z",
     "iopub.status.idle": "2022-02-06T00:31:40.806444Z",
     "shell.execute_reply": "2022-02-06T00:31:40.807053Z"
    },
    "papermill": {
     "duration": 0.048103,
     "end_time": "2022-02-06T00:31:40.807211",
     "exception": false,
     "start_time": "2022-02-06T00:31:40.759108",
     "status": "completed"
    },
    "tags": []
   },
   "outputs": [],
   "source": [
    "#hide\n",
    "g.index.name = 'date'"
   ]
  },
  {
   "cell_type": "code",
   "execution_count": 24,
   "id": "naked-donor",
   "metadata": {
    "execution": {
     "iopub.execute_input": "2022-02-06T00:31:40.896857Z",
     "iopub.status.busy": "2022-02-06T00:31:40.896094Z",
     "iopub.status.idle": "2022-02-06T00:31:40.898760Z",
     "shell.execute_reply": "2022-02-06T00:31:40.898039Z"
    },
    "papermill": {
     "duration": 0.049462,
     "end_time": "2022-02-06T00:31:40.898930",
     "exception": false,
     "start_time": "2022-02-06T00:31:40.849468",
     "status": "completed"
    },
    "tags": []
   },
   "outputs": [],
   "source": [
    "# #hide\n",
    "# g = g.reset_index(['date'])"
   ]
  },
  {
   "cell_type": "code",
   "execution_count": 25,
   "id": "incomplete-mustang",
   "metadata": {
    "execution": {
     "iopub.execute_input": "2022-02-06T00:31:40.987973Z",
     "iopub.status.busy": "2022-02-06T00:31:40.987108Z",
     "iopub.status.idle": "2022-02-06T00:31:40.990061Z",
     "shell.execute_reply": "2022-02-06T00:31:40.989457Z"
    },
    "papermill": {
     "duration": 0.049487,
     "end_time": "2022-02-06T00:31:40.990191",
     "exception": false,
     "start_time": "2022-02-06T00:31:40.940704",
     "status": "completed"
    },
    "tags": []
   },
   "outputs": [],
   "source": [
    "#hide\n",
    "# g.head()"
   ]
  },
  {
   "cell_type": "code",
   "execution_count": 26,
   "id": "specific-kruger",
   "metadata": {
    "execution": {
     "iopub.execute_input": "2022-02-06T00:31:41.080853Z",
     "iopub.status.busy": "2022-02-06T00:31:41.080129Z",
     "iopub.status.idle": "2022-02-06T00:31:41.082831Z",
     "shell.execute_reply": "2022-02-06T00:31:41.082246Z"
    },
    "papermill": {
     "duration": 0.049073,
     "end_time": "2022-02-06T00:31:41.082971",
     "exception": false,
     "start_time": "2022-02-06T00:31:41.033898",
     "status": "completed"
    },
    "tags": []
   },
   "outputs": [],
   "source": [
    "#hide\n",
    "# g.columns = ['date','country','cases']"
   ]
  },
  {
   "cell_type": "code",
   "execution_count": 27,
   "id": "tender-conversion",
   "metadata": {
    "execution": {
     "iopub.execute_input": "2022-02-06T00:31:41.170097Z",
     "iopub.status.busy": "2022-02-06T00:31:41.169364Z",
     "iopub.status.idle": "2022-02-06T00:31:41.171104Z",
     "shell.execute_reply": "2022-02-06T00:31:41.171793Z"
    },
    "papermill": {
     "duration": 0.047632,
     "end_time": "2022-02-06T00:31:41.171957",
     "exception": false,
     "start_time": "2022-02-06T00:31:41.124325",
     "status": "completed"
    },
    "tags": []
   },
   "outputs": [],
   "source": [
    "#hide\n",
    "# g['continent'] = g.country"
   ]
  },
  {
   "cell_type": "code",
   "execution_count": 28,
   "id": "substantial-wilderness",
   "metadata": {
    "execution": {
     "iopub.execute_input": "2022-02-06T00:31:41.263194Z",
     "iopub.status.busy": "2022-02-06T00:31:41.262443Z",
     "iopub.status.idle": "2022-02-06T00:31:41.265149Z",
     "shell.execute_reply": "2022-02-06T00:31:41.264531Z"
    },
    "papermill": {
     "duration": 0.051478,
     "end_time": "2022-02-06T00:31:41.265413",
     "exception": false,
     "start_time": "2022-02-06T00:31:41.213935",
     "status": "completed"
    },
    "tags": []
   },
   "outputs": [],
   "source": [
    "#hide\n",
    "# cols = list(g.columns.values)"
   ]
  },
  {
   "cell_type": "code",
   "execution_count": 29,
   "id": "solved-farming",
   "metadata": {
    "execution": {
     "iopub.execute_input": "2022-02-06T00:31:41.355365Z",
     "iopub.status.busy": "2022-02-06T00:31:41.354600Z",
     "iopub.status.idle": "2022-02-06T00:31:41.360656Z",
     "shell.execute_reply": "2022-02-06T00:31:41.361232Z"
    },
    "papermill": {
     "duration": 0.053778,
     "end_time": "2022-02-06T00:31:41.361418",
     "exception": false,
     "start_time": "2022-02-06T00:31:41.307640",
     "status": "completed"
    },
    "tags": []
   },
   "outputs": [],
   "source": [
    "#hide\n",
    "# cols.insert(0, cols.pop())"
   ]
  },
  {
   "cell_type": "code",
   "execution_count": 30,
   "id": "executed-adoption",
   "metadata": {
    "execution": {
     "iopub.execute_input": "2022-02-06T00:31:41.449000Z",
     "iopub.status.busy": "2022-02-06T00:31:41.448314Z",
     "iopub.status.idle": "2022-02-06T00:31:41.450494Z",
     "shell.execute_reply": "2022-02-06T00:31:41.449793Z"
    },
    "papermill": {
     "duration": 0.04809,
     "end_time": "2022-02-06T00:31:41.450625",
     "exception": false,
     "start_time": "2022-02-06T00:31:41.402535",
     "status": "completed"
    },
    "tags": []
   },
   "outputs": [],
   "source": [
    "#hide\n",
    "# g = g[cols]"
   ]
  },
  {
   "cell_type": "code",
   "execution_count": 31,
   "id": "subject-dublin",
   "metadata": {
    "execution": {
     "iopub.execute_input": "2022-02-06T00:31:41.538827Z",
     "iopub.status.busy": "2022-02-06T00:31:41.538075Z",
     "iopub.status.idle": "2022-02-06T00:31:41.540726Z",
     "shell.execute_reply": "2022-02-06T00:31:41.539908Z"
    },
    "papermill": {
     "duration": 0.048614,
     "end_time": "2022-02-06T00:31:41.540903",
     "exception": false,
     "start_time": "2022-02-06T00:31:41.492289",
     "status": "completed"
    },
    "tags": []
   },
   "outputs": [],
   "source": [
    "#hide\n",
    "# g['continent'] = g['continent'].map(mapping['map.continent'])"
   ]
  },
  {
   "cell_type": "code",
   "execution_count": 32,
   "id": "freelance-scout",
   "metadata": {
    "execution": {
     "iopub.execute_input": "2022-02-06T00:31:41.627975Z",
     "iopub.status.busy": "2022-02-06T00:31:41.627238Z",
     "iopub.status.idle": "2022-02-06T00:31:41.630699Z",
     "shell.execute_reply": "2022-02-06T00:31:41.629538Z"
    },
    "papermill": {
     "duration": 0.048701,
     "end_time": "2022-02-06T00:31:41.630862",
     "exception": false,
     "start_time": "2022-02-06T00:31:41.582161",
     "status": "completed"
    },
    "tags": []
   },
   "outputs": [],
   "source": [
    "#hide\n",
    "# g.head()"
   ]
  },
  {
   "cell_type": "code",
   "execution_count": 33,
   "id": "limited-engine",
   "metadata": {
    "execution": {
     "iopub.execute_input": "2022-02-06T00:31:41.716457Z",
     "iopub.status.busy": "2022-02-06T00:31:41.715703Z",
     "iopub.status.idle": "2022-02-06T00:31:41.718457Z",
     "shell.execute_reply": "2022-02-06T00:31:41.717868Z"
    },
    "papermill": {
     "duration": 0.047595,
     "end_time": "2022-02-06T00:31:41.718592",
     "exception": false,
     "start_time": "2022-02-06T00:31:41.670997",
     "status": "completed"
    },
    "tags": []
   },
   "outputs": [],
   "source": [
    "# hide\n",
    "# g['date'] = g['date'].astype('datetime64[ns]')"
   ]
  },
  {
   "cell_type": "code",
   "execution_count": 34,
   "id": "sophisticated-supervisor",
   "metadata": {
    "execution": {
     "iopub.execute_input": "2022-02-06T00:31:41.803777Z",
     "iopub.status.busy": "2022-02-06T00:31:41.803034Z",
     "iopub.status.idle": "2022-02-06T00:31:41.807491Z",
     "shell.execute_reply": "2022-02-06T00:31:41.806803Z"
    },
    "papermill": {
     "duration": 0.04952,
     "end_time": "2022-02-06T00:31:41.807628",
     "exception": false,
     "start_time": "2022-02-06T00:31:41.758108",
     "status": "completed"
    },
    "tags": []
   },
   "outputs": [],
   "source": [
    "#hide\n",
    "# g['date'] = g.date.dt.dayofyear"
   ]
  },
  {
   "cell_type": "code",
   "execution_count": 35,
   "id": "inside-dubai",
   "metadata": {
    "execution": {
     "iopub.execute_input": "2022-02-06T00:31:41.896164Z",
     "iopub.status.busy": "2022-02-06T00:31:41.895344Z",
     "iopub.status.idle": "2022-02-06T00:31:41.897891Z",
     "shell.execute_reply": "2022-02-06T00:31:41.898442Z"
    },
    "papermill": {
     "duration": 0.048767,
     "end_time": "2022-02-06T00:31:41.898596",
     "exception": false,
     "start_time": "2022-02-06T00:31:41.849829",
     "status": "completed"
    },
    "tags": []
   },
   "outputs": [],
   "source": [
    "#hide\n",
    "# g = g.rename(columns= {'continent':'group','country':'name','cases':'value'})"
   ]
  },
  {
   "cell_type": "code",
   "execution_count": 36,
   "id": "fleet-motorcycle",
   "metadata": {
    "execution": {
     "iopub.execute_input": "2022-02-06T00:31:41.986993Z",
     "iopub.status.busy": "2022-02-06T00:31:41.986328Z",
     "iopub.status.idle": "2022-02-06T00:31:41.988386Z",
     "shell.execute_reply": "2022-02-06T00:31:41.988893Z"
    },
    "papermill": {
     "duration": 0.04766,
     "end_time": "2022-02-06T00:31:41.989074",
     "exception": false,
     "start_time": "2022-02-06T00:31:41.941414",
     "status": "completed"
    },
    "tags": []
   },
   "outputs": [],
   "source": [
    "#hide\n",
    "# cols = ['name','group','day','value']"
   ]
  },
  {
   "cell_type": "code",
   "execution_count": 37,
   "id": "continued-sleeping",
   "metadata": {
    "execution": {
     "iopub.execute_input": "2022-02-06T00:31:42.077754Z",
     "iopub.status.busy": "2022-02-06T00:31:42.077041Z",
     "iopub.status.idle": "2022-02-06T00:31:42.079575Z",
     "shell.execute_reply": "2022-02-06T00:31:42.078989Z"
    },
    "papermill": {
     "duration": 0.049453,
     "end_time": "2022-02-06T00:31:42.079714",
     "exception": false,
     "start_time": "2022-02-06T00:31:42.030261",
     "status": "completed"
    },
    "tags": []
   },
   "outputs": [],
   "source": [
    "#hide\n",
    "# g.rename(columns= {'date':'day'},inplace = True)"
   ]
  },
  {
   "cell_type": "code",
   "execution_count": 38,
   "id": "major-fight",
   "metadata": {
    "execution": {
     "iopub.execute_input": "2022-02-06T00:31:42.169025Z",
     "iopub.status.busy": "2022-02-06T00:31:42.168279Z",
     "iopub.status.idle": "2022-02-06T00:31:42.170839Z",
     "shell.execute_reply": "2022-02-06T00:31:42.170126Z"
    },
    "papermill": {
     "duration": 0.048378,
     "end_time": "2022-02-06T00:31:42.170983",
     "exception": false,
     "start_time": "2022-02-06T00:31:42.122605",
     "status": "completed"
    },
    "tags": []
   },
   "outputs": [],
   "source": [
    "#hide\n",
    "# g = g[cols]"
   ]
  },
  {
   "cell_type": "code",
   "execution_count": 39,
   "id": "structured-mobile",
   "metadata": {
    "execution": {
     "iopub.execute_input": "2022-02-06T00:31:42.257658Z",
     "iopub.status.busy": "2022-02-06T00:31:42.256991Z",
     "iopub.status.idle": "2022-02-06T00:31:42.261189Z",
     "shell.execute_reply": "2022-02-06T00:31:42.261719Z"
    },
    "papermill": {
     "duration": 0.049666,
     "end_time": "2022-02-06T00:31:42.261881",
     "exception": false,
     "start_time": "2022-02-06T00:31:42.212215",
     "status": "completed"
    },
    "tags": []
   },
   "outputs": [],
   "source": [
    "# #hide\n",
    "# g = g[g.group.notna()]"
   ]
  },
  {
   "cell_type": "code",
   "execution_count": 40,
   "id": "determined-closing",
   "metadata": {
    "execution": {
     "iopub.execute_input": "2022-02-06T00:31:42.350478Z",
     "iopub.status.busy": "2022-02-06T00:31:42.349760Z",
     "iopub.status.idle": "2022-02-06T00:31:42.352549Z",
     "shell.execute_reply": "2022-02-06T00:31:42.351868Z"
    },
    "papermill": {
     "duration": 0.04928,
     "end_time": "2022-02-06T00:31:42.352724",
     "exception": false,
     "start_time": "2022-02-06T00:31:42.303444",
     "status": "completed"
    },
    "tags": []
   },
   "outputs": [],
   "source": [
    "# #hide\n",
    "# colors = dict(zip(\n",
    "#     [\"Oceania\", \"Europe\", \"Asia\", \"South America\", \"Middle East\", \"North America\", \"Africa\"],\n",
    "#     [\"#adb0ff\", \"#ffb3ff\", \"#90d595\", \"#e48381\", \"#aafbff\", \"#f7bb5f\", \"#eafb50\"]\n",
    "# ))\n",
    "# group_lk = g.set_index('name')['group'].to_dict()"
   ]
  },
  {
   "cell_type": "code",
   "execution_count": null,
   "id": "gross-drinking",
   "metadata": {
    "papermill": {
     "duration": 0.041921,
     "end_time": "2022-02-06T00:31:42.437072",
     "exception": false,
     "start_time": "2022-02-06T00:31:42.395151",
     "status": "completed"
    },
    "tags": []
   },
   "outputs": [],
   "source": []
  },
  {
   "cell_type": "code",
   "execution_count": 41,
   "id": "subject-macintosh",
   "metadata": {
    "execution": {
     "iopub.execute_input": "2022-02-06T00:31:42.527415Z",
     "iopub.status.busy": "2022-02-06T00:31:42.526622Z",
     "iopub.status.idle": "2022-02-06T00:31:42.531396Z",
     "shell.execute_reply": "2022-02-06T00:31:42.530792Z"
    },
    "papermill": {
     "duration": 0.053771,
     "end_time": "2022-02-06T00:31:42.531541",
     "exception": false,
     "start_time": "2022-02-06T00:31:42.477770",
     "status": "completed"
    },
    "tags": []
   },
   "outputs": [],
   "source": [
    "# #hide\n",
    "# fig, ax = plt.subplots(figsize=(15, 8))\n",
    "\n",
    "# def draw_barchart(current_day):\n",
    "#     dff = g[g['day'].eq(current_day)].sort_values(by='value', ascending=True).tail(10)\n",
    "#     ax.clear()\n",
    "#     ax.barh(dff['name'], dff['value'], color=[colors[group_lk[x]] for x in dff['name']])\n",
    "#     dx = dff['value'].max() / 200\n",
    "    \n",
    "#     for i, (value, name) in enumerate(zip(dff['value'], dff['name'])):\n",
    "#         ax.text(value-dx, i,     name,           size=14, weight=600, ha='right', va='bottom')\n",
    "#         ax.text(value-dx, i-.25, group_lk[name], size=10, color='#444444', ha='right', va='baseline')\n",
    "#         ax.text(value+dx, i,     f'{value:,.0f}',  size=14, ha='left',  va='center')\n",
    "#     ax.text(1, 0.4, current_day, transform=ax.transAxes, color='#777777', size=46, ha='right', weight=800)\n",
    "#     ax.text(0, 1.06, 'Population (thousands)', transform=ax.transAxes, size=12, color='#777777')\n",
    "#     ax.xaxis.set_major_formatter(ticker.StrMethodFormatter('{x:,.0f}'))\n",
    "#     ax.xaxis.set_ticks_position('top')\n",
    "#     ax.tick_params(axis='x', colors='#777777', labelsize=12)\n",
    "#     ax.set_yticks([])\n",
    "#     ax.margins(0, 0.01)\n",
    "#     ax.grid(which='major', axis='x', linestyle='-')\n",
    "#     ax.set_axisbelow(True)\n",
    "    \n",
    "#     ax.text(0, 1.15, 'Coronavirus',\n",
    "#             transform=ax.transAxes, size=24, weight=600, ha='left', va='top')\n",
    "# #     ax.text(1, 0, 'by @pratapvardhan; credit @jburnmurdoch', transform=ax.transAxes, color='#777777', ha='right',\n",
    "# #             bbox=dict(facecolor='white', alpha=0.8, edgecolor='white'))\n",
    "#     plt.box(False)"
   ]
  },
  {
   "cell_type": "code",
   "execution_count": 42,
   "id": "sexual-wages",
   "metadata": {
    "execution": {
     "iopub.execute_input": "2022-02-06T00:31:42.619870Z",
     "iopub.status.busy": "2022-02-06T00:31:42.618997Z",
     "iopub.status.idle": "2022-02-06T00:31:42.622895Z",
     "shell.execute_reply": "2022-02-06T00:31:42.623505Z"
    },
    "papermill": {
     "duration": 0.049949,
     "end_time": "2022-02-06T00:31:42.623662",
     "exception": false,
     "start_time": "2022-02-06T00:31:42.573713",
     "status": "completed"
    },
    "tags": []
   },
   "outputs": [],
   "source": [
    "# #hide_input\n",
    "# fig, ax = plt.subplots(figsize=(15, 8))\n",
    "# animator = animation.FuncAnimation(fig, draw_barchart, frames=range(g.day.values.min(), g.day.values.max()))\n",
    "# HTML(animator.to_jshtml())\n",
    "# # or use animator.to_html5_video() or animator.save() "
   ]
  },
  {
   "cell_type": "code",
   "execution_count": null,
   "id": "australian-container",
   "metadata": {
    "papermill": {
     "duration": 0.041303,
     "end_time": "2022-02-06T00:31:42.706254",
     "exception": false,
     "start_time": "2022-02-06T00:31:42.664951",
     "status": "completed"
    },
    "tags": []
   },
   "outputs": [],
   "source": []
  },
  {
   "cell_type": "code",
   "execution_count": null,
   "id": "mediterranean-pontiac",
   "metadata": {
    "papermill": {
     "duration": 0.041478,
     "end_time": "2022-02-06T00:31:42.787229",
     "exception": false,
     "start_time": "2022-02-06T00:31:42.745751",
     "status": "completed"
    },
    "tags": []
   },
   "outputs": [],
   "source": []
  },
  {
   "cell_type": "code",
   "execution_count": null,
   "id": "aging-legislature",
   "metadata": {
    "papermill": {
     "duration": 0.041103,
     "end_time": "2022-02-06T00:31:42.869290",
     "exception": false,
     "start_time": "2022-02-06T00:31:42.828187",
     "status": "completed"
    },
    "tags": []
   },
   "outputs": [],
   "source": []
  }
 ],
 "metadata": {
  "kernelspec": {
   "display_name": "Python 3",
   "language": "python",
   "name": "python3"
  },
  "language_info": {
   "codemirror_mode": {
    "name": "ipython",
    "version": 3
   },
   "file_extension": ".py",
   "mimetype": "text/x-python",
   "name": "python",
   "nbconvert_exporter": "python",
   "pygments_lexer": "ipython3",
   "version": "3.6.15"
  },
  "papermill": {
   "duration": 7.874358,
   "end_time": "2022-02-06T00:31:43.331691",
   "environment_variables": {},
   "exception": null,
   "input_path": "2020-03-21-covid19exp.ipynb",
   "output_path": "2020-03-21-covid19exp.ipynb",
   "parameters": {},
   "start_time": "2022-02-06T00:31:35.457333",
   "version": "2.0.0"
  }
 },
 "nbformat": 4,
 "nbformat_minor": 5
}