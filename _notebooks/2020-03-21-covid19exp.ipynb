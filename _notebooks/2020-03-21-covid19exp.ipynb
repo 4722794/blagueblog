{
 "cells": [
  {
   "cell_type": "markdown",
   "id": "muslim-click",
   "metadata": {
    "papermill": {
     "duration": 0.043192,
     "end_time": "2022-07-03T12:15:16.039516",
     "exception": false,
     "start_time": "2022-07-03T12:15:15.996324",
     "status": "completed"
    },
    "tags": []
   },
   "source": [
    "# COVID-19 Case Race\n",
    "> A race chart to see rising cases around the world\n",
    "\n",
    "- author: Hargun Oberoi\n",
    "- image: images/covid-overview.png\n",
    "- hide: false\n",
    "- badges: false"
   ]
  },
  {
   "cell_type": "code",
   "execution_count": 1,
   "id": "proof-material",
   "metadata": {
    "execution": {
     "iopub.execute_input": "2022-07-03T12:15:16.123542Z",
     "iopub.status.busy": "2022-07-03T12:15:16.119149Z",
     "iopub.status.idle": "2022-07-03T12:15:16.511855Z",
     "shell.execute_reply": "2022-07-03T12:15:16.511165Z"
    },
    "papermill": {
     "duration": 0.43589,
     "end_time": "2022-07-03T12:15:16.512020",
     "exception": false,
     "start_time": "2022-07-03T12:15:16.076130",
     "status": "completed"
    },
    "tags": []
   },
   "outputs": [],
   "source": [
    "#hide\n",
    "import numpy as np\n",
    "import pandas as pd\n",
    "from jinja2 import Template\n",
    "from IPython.display import HTML"
   ]
  },
  {
   "cell_type": "code",
   "execution_count": 2,
   "id": "developed-terminology",
   "metadata": {
    "execution": {
     "iopub.execute_input": "2022-07-03T12:15:16.585983Z",
     "iopub.status.busy": "2022-07-03T12:15:16.585240Z",
     "iopub.status.idle": "2022-07-03T12:15:16.588048Z",
     "shell.execute_reply": "2022-07-03T12:15:16.587471Z"
    },
    "papermill": {
     "duration": 0.042283,
     "end_time": "2022-07-03T12:15:16.588182",
     "exception": false,
     "start_time": "2022-07-03T12:15:16.545899",
     "status": "completed"
    },
    "tags": []
   },
   "outputs": [],
   "source": [
    "#hide\n",
    "\n",
    "# FETCH\n",
    "base_url = 'https://raw.githubusercontent.com/pratapvardhan/notebooks/master/covid19/'\n",
    "paths = {\n",
    "    'mapping': base_url + 'mapping_countries.csv',\n",
    "    'overview': base_url + 'overview.tpl'\n",
    "}"
   ]
  },
  {
   "cell_type": "code",
   "execution_count": 3,
   "id": "dynamic-saver",
   "metadata": {
    "execution": {
     "iopub.execute_input": "2022-07-03T12:15:16.671125Z",
     "iopub.status.busy": "2022-07-03T12:15:16.670406Z",
     "iopub.status.idle": "2022-07-03T12:15:16.674642Z",
     "shell.execute_reply": "2022-07-03T12:15:16.675201Z"
    },
    "papermill": {
     "duration": 0.053894,
     "end_time": "2022-07-03T12:15:16.675357",
     "exception": false,
     "start_time": "2022-07-03T12:15:16.621463",
     "status": "completed"
    },
    "tags": []
   },
   "outputs": [
    {
     "data": {
      "text/plain": [
       "'https://raw.githubusercontent.com/pratapvardhan/notebooks/master/covid19/mapping_countries.csv'"
      ]
     },
     "execution_count": 3,
     "metadata": {},
     "output_type": "execute_result"
    }
   ],
   "source": [
    "#hide\n",
    "paths['mapping']"
   ]
  },
  {
   "cell_type": "code",
   "execution_count": 4,
   "id": "urban-software",
   "metadata": {
    "execution": {
     "iopub.execute_input": "2022-07-03T12:15:16.751769Z",
     "iopub.status.busy": "2022-07-03T12:15:16.751008Z",
     "iopub.status.idle": "2022-07-03T12:15:16.753877Z",
     "shell.execute_reply": "2022-07-03T12:15:16.753313Z"
    },
    "papermill": {
     "duration": 0.04409,
     "end_time": "2022-07-03T12:15:16.754009",
     "exception": false,
     "start_time": "2022-07-03T12:15:16.709919",
     "status": "completed"
    },
    "tags": []
   },
   "outputs": [],
   "source": [
    "#hide\n",
    "def get_mappings(url):\n",
    "    df = pd.read_csv(url)\n",
    "    return {\n",
    "        'df': df,\n",
    "        'replace.country': dict(df.dropna(subset=['Name']).set_index('Country')['Name']),\n",
    "        'map.continent': dict(df.set_index('Name')['Continent'])\n",
    "    }"
   ]
  },
  {
   "cell_type": "code",
   "execution_count": 5,
   "id": "intimate-machinery",
   "metadata": {
    "execution": {
     "iopub.execute_input": "2022-07-03T12:15:16.832329Z",
     "iopub.status.busy": "2022-07-03T12:15:16.831592Z",
     "iopub.status.idle": "2022-07-03T12:15:16.860348Z",
     "shell.execute_reply": "2022-07-03T12:15:16.859726Z"
    },
    "papermill": {
     "duration": 0.071602,
     "end_time": "2022-07-03T12:15:16.860486",
     "exception": false,
     "start_time": "2022-07-03T12:15:16.788884",
     "status": "completed"
    },
    "tags": []
   },
   "outputs": [],
   "source": [
    "#hide\n",
    "mapping = get_mappings(paths['mapping'])"
   ]
  },
  {
   "cell_type": "code",
   "execution_count": 6,
   "id": "certified-tactics",
   "metadata": {
    "execution": {
     "iopub.execute_input": "2022-07-03T12:15:16.944213Z",
     "iopub.status.busy": "2022-07-03T12:15:16.943467Z",
     "iopub.status.idle": "2022-07-03T12:15:16.946607Z",
     "shell.execute_reply": "2022-07-03T12:15:16.946044Z"
    },
    "papermill": {
     "duration": 0.045154,
     "end_time": "2022-07-03T12:15:16.946737",
     "exception": false,
     "start_time": "2022-07-03T12:15:16.901583",
     "status": "completed"
    },
    "tags": []
   },
   "outputs": [],
   "source": [
    "#hide\n",
    "def get_template(path):\n",
    "    from urllib.parse import urlparse\n",
    "    if bool(urlparse(path).netloc):\n",
    "        from urllib.request import urlopen\n",
    "        return urlopen(path).read().decode('utf8')\n",
    "    return open(path).read()"
   ]
  },
  {
   "cell_type": "code",
   "execution_count": 7,
   "id": "realistic-blast",
   "metadata": {
    "execution": {
     "iopub.execute_input": "2022-07-03T12:15:17.023063Z",
     "iopub.status.busy": "2022-07-03T12:15:17.022352Z",
     "iopub.status.idle": "2022-07-03T12:15:17.025070Z",
     "shell.execute_reply": "2022-07-03T12:15:17.024396Z"
    },
    "papermill": {
     "duration": 0.044071,
     "end_time": "2022-07-03T12:15:17.025198",
     "exception": false,
     "start_time": "2022-07-03T12:15:16.981127",
     "status": "completed"
    },
    "tags": []
   },
   "outputs": [],
   "source": [
    "#hide\n",
    "def get_frame(name):\n",
    "    url = (\n",
    "        'https://raw.githubusercontent.com/CSSEGISandData/COVID-19/master/csse_covid_19_data/'\n",
    "        f'csse_covid_19_time_series/time_series_covid19_{name}_global.csv')\n",
    "    df = pd.read_csv(url)\n",
    "    # rename countries\n",
    "    df['Country/Region'] = df['Country/Region'].replace(mapping['replace.country'])\n",
    "    return df"
   ]
  },
  {
   "cell_type": "code",
   "execution_count": 8,
   "id": "affiliated-characterization",
   "metadata": {
    "execution": {
     "iopub.execute_input": "2022-07-03T12:15:17.105198Z",
     "iopub.status.busy": "2022-07-03T12:15:17.104456Z",
     "iopub.status.idle": "2022-07-03T12:15:17.106261Z",
     "shell.execute_reply": "2022-07-03T12:15:17.106902Z"
    },
    "papermill": {
     "duration": 0.046815,
     "end_time": "2022-07-03T12:15:17.107064",
     "exception": false,
     "start_time": "2022-07-03T12:15:17.060249",
     "status": "completed"
    },
    "tags": []
   },
   "outputs": [],
   "source": [
    "#hide\n",
    "def get_dates(df):\n",
    "    dt_cols = df.columns[~df.columns.isin(['Province/State', 'Country/Region', 'Lat', 'Long'])]\n",
    "    LAST_DATE_I = -1\n",
    "    # sometimes last column may be empty, then go backwards\n",
    "    for i in range(-1, -len(dt_cols), -1):\n",
    "        if not df[dt_cols[i]].fillna(0).eq(0).all():\n",
    "            LAST_DATE_I = i\n",
    "            break\n",
    "    return LAST_DATE_I, dt_cols"
   ]
  },
  {
   "cell_type": "code",
   "execution_count": 9,
   "id": "recent-optimization",
   "metadata": {
    "execution": {
     "iopub.execute_input": "2022-07-03T12:15:17.182231Z",
     "iopub.status.busy": "2022-07-03T12:15:17.181529Z",
     "iopub.status.idle": "2022-07-03T12:15:17.606446Z",
     "shell.execute_reply": "2022-07-03T12:15:17.605491Z"
    },
    "papermill": {
     "duration": 0.465122,
     "end_time": "2022-07-03T12:15:17.606671",
     "exception": false,
     "start_time": "2022-07-03T12:15:17.141549",
     "status": "completed"
    },
    "tags": []
   },
   "outputs": [],
   "source": [
    "#hide\n",
    "COL_REGION = 'Country/Region'\n",
    "# Confirmed, Recovered, Deaths\n",
    "df = get_frame('confirmed')\n",
    "# dft_: timeseries, dfc_: today country agg\n",
    "dft_cases = df\n",
    "dft_deaths = get_frame('deaths')\n",
    "dft_recovered = get_frame('recovered')\n",
    "LAST_DATE_I, dt_cols = get_dates(df)"
   ]
  },
  {
   "cell_type": "code",
   "execution_count": 10,
   "id": "absolute-copper",
   "metadata": {
    "execution": {
     "iopub.execute_input": "2022-07-03T12:15:17.683108Z",
     "iopub.status.busy": "2022-07-03T12:15:17.682429Z",
     "iopub.status.idle": "2022-07-03T12:15:17.685682Z",
     "shell.execute_reply": "2022-07-03T12:15:17.685106Z"
    },
    "papermill": {
     "duration": 0.042741,
     "end_time": "2022-07-03T12:15:17.685814",
     "exception": false,
     "start_time": "2022-07-03T12:15:17.643073",
     "status": "completed"
    },
    "tags": []
   },
   "outputs": [],
   "source": [
    "#hide\n",
    "LAST_DATE_I, dt_cols = get_dates(df)\n",
    "dt_today =dt_cols[LAST_DATE_I]\n",
    "# dt_5day = dt_cols[LAST_DATE_I - 5]\n",
    "dt_yday = dt_cols[LAST_DATE_I - 1]"
   ]
  },
  {
   "cell_type": "code",
   "execution_count": 11,
   "id": "restricted-sheriff",
   "metadata": {
    "execution": {
     "iopub.execute_input": "2022-07-03T12:15:17.760880Z",
     "iopub.status.busy": "2022-07-03T12:15:17.760175Z",
     "iopub.status.idle": "2022-07-03T12:15:17.770324Z",
     "shell.execute_reply": "2022-07-03T12:15:17.769750Z"
    },
    "papermill": {
     "duration": 0.051009,
     "end_time": "2022-07-03T12:15:17.770459",
     "exception": false,
     "start_time": "2022-07-03T12:15:17.719450",
     "status": "completed"
    },
    "tags": []
   },
   "outputs": [],
   "source": [
    "#hide\n",
    "dfc_cases = dft_cases.groupby(COL_REGION)[dt_today].sum()\n",
    "dfc_deaths = dft_deaths.groupby(COL_REGION)[dt_today].sum()\n",
    "# dfp_cases = dft_cases.groupby(COL_REGION)[dt_5day].sum()\n",
    "# dfp_deaths = dft_deaths.groupby(COL_REGION)[dt_5day].sum()\n",
    "dfp_cases = dft_cases.groupby(COL_REGION)[dt_yday].sum()\n",
    "dfp_deaths = dft_deaths.groupby(COL_REGION)[dt_yday].sum()"
   ]
  },
  {
   "cell_type": "code",
   "execution_count": 12,
   "id": "deluxe-hepatitis",
   "metadata": {
    "execution": {
     "iopub.execute_input": "2022-07-03T12:15:17.847344Z",
     "iopub.status.busy": "2022-07-03T12:15:17.846628Z",
     "iopub.status.idle": "2022-07-03T12:15:17.852165Z",
     "shell.execute_reply": "2022-07-03T12:15:17.851476Z"
    },
    "papermill": {
     "duration": 0.047399,
     "end_time": "2022-07-03T12:15:17.852296",
     "exception": false,
     "start_time": "2022-07-03T12:15:17.804897",
     "status": "completed"
    },
    "tags": []
   },
   "outputs": [],
   "source": [
    "#hide\n",
    "df_table = (pd.DataFrame(dict(Cases = dfc_cases, Deaths = dfc_deaths, PCases = dfp_cases, PDeaths = dfp_deaths))\n",
    "            .sort_values(by = ['Cases','Deaths'], ascending = [False, False])\n",
    "            .reset_index())"
   ]
  },
  {
   "cell_type": "code",
   "execution_count": 13,
   "id": "educational-chancellor",
   "metadata": {
    "execution": {
     "iopub.execute_input": "2022-07-03T12:15:17.943232Z",
     "iopub.status.busy": "2022-07-03T12:15:17.942501Z",
     "iopub.status.idle": "2022-07-03T12:15:17.951790Z",
     "shell.execute_reply": "2022-07-03T12:15:17.951077Z"
    },
    "papermill": {
     "duration": 0.064221,
     "end_time": "2022-07-03T12:15:17.951930",
     "exception": false,
     "start_time": "2022-07-03T12:15:17.887709",
     "status": "completed"
    },
    "tags": []
   },
   "outputs": [
    {
     "data": {
      "text/html": [
       "<div>\n",
       "<style scoped>\n",
       "    .dataframe tbody tr th:only-of-type {\n",
       "        vertical-align: middle;\n",
       "    }\n",
       "\n",
       "    .dataframe tbody tr th {\n",
       "        vertical-align: top;\n",
       "    }\n",
       "\n",
       "    .dataframe thead th {\n",
       "        text-align: right;\n",
       "    }\n",
       "</style>\n",
       "<table border=\"1\" class=\"dataframe\">\n",
       "  <thead>\n",
       "    <tr style=\"text-align: right;\">\n",
       "      <th></th>\n",
       "      <th>Country/Region</th>\n",
       "      <th>Cases</th>\n",
       "      <th>Deaths</th>\n",
       "      <th>PCases</th>\n",
       "      <th>PDeaths</th>\n",
       "      <th>Cases (+)</th>\n",
       "      <th>Deaths (+)</th>\n",
       "      <th>Fatality Rate</th>\n",
       "      <th>Continent</th>\n",
       "    </tr>\n",
       "  </thead>\n",
       "  <tbody>\n",
       "    <tr>\n",
       "      <th>0</th>\n",
       "      <td>US</td>\n",
       "      <td>87838623</td>\n",
       "      <td>1017846</td>\n",
       "      <td>87821971</td>\n",
       "      <td>1017817</td>\n",
       "      <td>16652</td>\n",
       "      <td>29</td>\n",
       "      <td>1.16</td>\n",
       "      <td>North America</td>\n",
       "    </tr>\n",
       "    <tr>\n",
       "      <th>1</th>\n",
       "      <td>India</td>\n",
       "      <td>43502429</td>\n",
       "      <td>525199</td>\n",
       "      <td>43486326</td>\n",
       "      <td>525168</td>\n",
       "      <td>16103</td>\n",
       "      <td>31</td>\n",
       "      <td>1.21</td>\n",
       "      <td>Asia</td>\n",
       "    </tr>\n",
       "    <tr>\n",
       "      <th>2</th>\n",
       "      <td>Brazil</td>\n",
       "      <td>32471847</td>\n",
       "      <td>671858</td>\n",
       "      <td>32434063</td>\n",
       "      <td>671700</td>\n",
       "      <td>37784</td>\n",
       "      <td>158</td>\n",
       "      <td>2.07</td>\n",
       "      <td>South America</td>\n",
       "    </tr>\n",
       "    <tr>\n",
       "      <th>3</th>\n",
       "      <td>France</td>\n",
       "      <td>31410383</td>\n",
       "      <td>150624</td>\n",
       "      <td>31410383</td>\n",
       "      <td>150624</td>\n",
       "      <td>0</td>\n",
       "      <td>0</td>\n",
       "      <td>0.48</td>\n",
       "      <td>Europe</td>\n",
       "    </tr>\n",
       "    <tr>\n",
       "      <th>4</th>\n",
       "      <td>Germany</td>\n",
       "      <td>28392630</td>\n",
       "      <td>141292</td>\n",
       "      <td>28392629</td>\n",
       "      <td>141292</td>\n",
       "      <td>1</td>\n",
       "      <td>0</td>\n",
       "      <td>0.50</td>\n",
       "      <td>Europe</td>\n",
       "    </tr>\n",
       "  </tbody>\n",
       "</table>\n",
       "</div>"
      ],
      "text/plain": [
       "  Country/Region     Cases   Deaths    PCases  PDeaths  Cases (+)  Deaths (+)  \\\n",
       "0             US  87838623  1017846  87821971  1017817      16652          29   \n",
       "1          India  43502429   525199  43486326   525168      16103          31   \n",
       "2         Brazil  32471847   671858  32434063   671700      37784         158   \n",
       "3         France  31410383   150624  31410383   150624          0           0   \n",
       "4        Germany  28392630   141292  28392629   141292          1           0   \n",
       "\n",
       "   Fatality Rate      Continent  \n",
       "0           1.16  North America  \n",
       "1           1.21           Asia  \n",
       "2           2.07  South America  \n",
       "3           0.48         Europe  \n",
       "4           0.50         Europe  "
      ]
     },
     "execution_count": 13,
     "metadata": {},
     "output_type": "execute_result"
    }
   ],
   "source": [
    "#hide\n",
    "for c in 'Cases, Deaths'.split(', '):\n",
    "    df_table[f'{c} (+)'] = (df_table[c] - df_table[f'P{c}']).clip(0)\n",
    "    #Clip ça veut dire, les chiffres negatif sont interdit\n",
    "df_table['Fatality Rate'] = (100* df_table['Deaths']/ df_table['Cases']).round(2)\n",
    "df_table['Continent'] = df_table['Country/Region'].map(mapping['map.continent'])\n",
    "df_table.head(5)"
   ]
  },
  {
   "cell_type": "code",
   "execution_count": 14,
   "id": "aboriginal-bulgaria",
   "metadata": {
    "execution": {
     "iopub.execute_input": "2022-07-03T12:15:18.031261Z",
     "iopub.status.busy": "2022-07-03T12:15:18.030555Z",
     "iopub.status.idle": "2022-07-03T12:15:18.032677Z",
     "shell.execute_reply": "2022-07-03T12:15:18.033202Z"
    },
    "papermill": {
     "duration": 0.045916,
     "end_time": "2022-07-03T12:15:18.033358",
     "exception": false,
     "start_time": "2022-07-03T12:15:17.987442",
     "status": "completed"
    },
    "tags": []
   },
   "outputs": [],
   "source": [
    "#hide\n",
    "#delete problematic countries from table\n",
    "df_table = df_table[~df_table['Country/Region'].isin(['Cape Verde', 'Cruise Ship', 'Kosovo'])]"
   ]
  },
  {
   "cell_type": "code",
   "execution_count": 15,
   "id": "fantastic-effect",
   "metadata": {
    "execution": {
     "iopub.execute_input": "2022-07-03T12:15:18.119332Z",
     "iopub.status.busy": "2022-07-03T12:15:18.115590Z",
     "iopub.status.idle": "2022-07-03T12:15:18.140862Z",
     "shell.execute_reply": "2022-07-03T12:15:18.141428Z"
    },
    "papermill": {
     "duration": 0.071476,
     "end_time": "2022-07-03T12:15:18.141591",
     "exception": false,
     "start_time": "2022-07-03T12:15:18.070115",
     "status": "completed"
    },
    "tags": []
   },
   "outputs": [
    {
     "data": {
      "text/html": [
       "<div>\n",
       "<style scoped>\n",
       "    .dataframe tbody tr th:only-of-type {\n",
       "        vertical-align: middle;\n",
       "    }\n",
       "\n",
       "    .dataframe tbody tr th {\n",
       "        vertical-align: top;\n",
       "    }\n",
       "\n",
       "    .dataframe thead th {\n",
       "        text-align: right;\n",
       "    }\n",
       "</style>\n",
       "<table border=\"1\" class=\"dataframe\">\n",
       "  <thead>\n",
       "    <tr style=\"text-align: right;\">\n",
       "      <th></th>\n",
       "      <th>Country/Region</th>\n",
       "      <th>Cases</th>\n",
       "      <th>Deaths</th>\n",
       "      <th>PCases</th>\n",
       "      <th>PDeaths</th>\n",
       "      <th>Cases (+)</th>\n",
       "      <th>Deaths (+)</th>\n",
       "      <th>Fatality Rate</th>\n",
       "      <th>Continent</th>\n",
       "    </tr>\n",
       "  </thead>\n",
       "  <tbody>\n",
       "    <tr>\n",
       "      <th>0</th>\n",
       "      <td>US</td>\n",
       "      <td>87838623</td>\n",
       "      <td>1017846</td>\n",
       "      <td>87821971</td>\n",
       "      <td>1017817</td>\n",
       "      <td>16652</td>\n",
       "      <td>29</td>\n",
       "      <td>1.2</td>\n",
       "      <td>North America</td>\n",
       "    </tr>\n",
       "    <tr>\n",
       "      <th>1</th>\n",
       "      <td>India</td>\n",
       "      <td>43502429</td>\n",
       "      <td>525199</td>\n",
       "      <td>43486326</td>\n",
       "      <td>525168</td>\n",
       "      <td>16103</td>\n",
       "      <td>31</td>\n",
       "      <td>1.2</td>\n",
       "      <td>Asia</td>\n",
       "    </tr>\n",
       "    <tr>\n",
       "      <th>2</th>\n",
       "      <td>Brazil</td>\n",
       "      <td>32471847</td>\n",
       "      <td>671858</td>\n",
       "      <td>32434063</td>\n",
       "      <td>671700</td>\n",
       "      <td>37784</td>\n",
       "      <td>158</td>\n",
       "      <td>2.1</td>\n",
       "      <td>South America</td>\n",
       "    </tr>\n",
       "    <tr>\n",
       "      <th>3</th>\n",
       "      <td>France</td>\n",
       "      <td>31410383</td>\n",
       "      <td>150624</td>\n",
       "      <td>31410383</td>\n",
       "      <td>150624</td>\n",
       "      <td>0</td>\n",
       "      <td>0</td>\n",
       "      <td>0.5</td>\n",
       "      <td>Europe</td>\n",
       "    </tr>\n",
       "    <tr>\n",
       "      <th>4</th>\n",
       "      <td>Germany</td>\n",
       "      <td>28392630</td>\n",
       "      <td>141292</td>\n",
       "      <td>28392629</td>\n",
       "      <td>141292</td>\n",
       "      <td>1</td>\n",
       "      <td>0</td>\n",
       "      <td>0.5</td>\n",
       "      <td>Europe</td>\n",
       "    </tr>\n",
       "  </tbody>\n",
       "</table>\n",
       "</div>"
      ],
      "text/plain": [
       "  Country/Region     Cases   Deaths    PCases  PDeaths  Cases (+)  Deaths (+)  \\\n",
       "0             US  87838623  1017846  87821971  1017817      16652          29   \n",
       "1          India  43502429   525199  43486326   525168      16103          31   \n",
       "2         Brazil  32471847   671858  32434063   671700      37784         158   \n",
       "3         France  31410383   150624  31410383   150624          0           0   \n",
       "4        Germany  28392630   141292  28392629   141292          1           0   \n",
       "\n",
       "   Fatality Rate      Continent  \n",
       "0            1.2  North America  \n",
       "1            1.2           Asia  \n",
       "2            2.1  South America  \n",
       "3            0.5         Europe  \n",
       "4            0.5         Europe  "
      ]
     },
     "execution_count": 15,
     "metadata": {},
     "output_type": "execute_result"
    }
   ],
   "source": [
    "#hide\n",
    "df_table = (pd.DataFrame(dict(Cases=dfc_cases, Deaths=dfc_deaths, PCases=dfp_cases, PDeaths=dfp_deaths))\n",
    "             .sort_values(by=['Cases', 'Deaths'], ascending=[False, False])\n",
    "             .reset_index())\n",
    "df_table.rename(columns={'index': 'Country/Region'}, inplace=True)\n",
    "for c in 'Cases, Deaths'.split(', '):\n",
    "    df_table[f'{c} (+)'] = (df_table[c] - df_table[f'P{c}']).clip(0)  # DATA BUG\n",
    "df_table['Fatality Rate'] = (100 * df_table['Deaths'] / df_table['Cases']).round(1)\n",
    "df_table['Continent'] = df_table['Country/Region'].map(mapping['map.continent'])\n",
    "df_table.head(5)"
   ]
  },
  {
   "cell_type": "code",
   "execution_count": 16,
   "id": "fewer-occasion",
   "metadata": {
    "execution": {
     "iopub.execute_input": "2022-07-03T12:15:18.223319Z",
     "iopub.status.busy": "2022-07-03T12:15:18.222587Z",
     "iopub.status.idle": "2022-07-03T12:15:18.225307Z",
     "shell.execute_reply": "2022-07-03T12:15:18.224753Z"
    },
    "papermill": {
     "duration": 0.047348,
     "end_time": "2022-07-03T12:15:18.225438",
     "exception": false,
     "start_time": "2022-07-03T12:15:18.178090",
     "status": "completed"
    },
    "tags": []
   },
   "outputs": [],
   "source": [
    "#hide\n",
    "#delete problematic countries from table\n",
    "df_table = df_table[~df_table['Country/Region'].isin(['Cape Verde', 'Cruise Ship', 'Kosovo'])]"
   ]
  },
  {
   "cell_type": "code",
   "execution_count": 17,
   "id": "related-center",
   "metadata": {
    "execution": {
     "iopub.execute_input": "2022-07-03T12:15:18.317879Z",
     "iopub.status.busy": "2022-07-03T12:15:18.317141Z",
     "iopub.status.idle": "2022-07-03T12:15:18.320729Z",
     "shell.execute_reply": "2022-07-03T12:15:18.320156Z"
    },
    "papermill": {
     "duration": 0.060053,
     "end_time": "2022-07-03T12:15:18.320864",
     "exception": false,
     "start_time": "2022-07-03T12:15:18.260811",
     "status": "completed"
    },
    "tags": []
   },
   "outputs": [],
   "source": [
    "#hide\n",
    "metrics = [df_table.columns[index] for index in [1,2,5,6]]\n",
    "# s_china = df_table[df_table['Country/Region'].eq('China')][metrics].sum().add_prefix('China ')\n",
    "s_us = df_table[df_table['Country/Region'].eq('US')][metrics].sum().add_prefix('US ')\n",
    "s_eu = df_table[df_table['Continent'].eq('Europe')][metrics].sum().add_prefix('EU ')\n",
    "s_ind = df_table[df_table['Country/Region'].eq('India')][metrics].sum().add_prefix('India ')\n",
    "summary = {'updated': pd.to_datetime(dt_today), 'since': pd.to_datetime(dt_yday)}\n",
    "summary = {'updated': pd.to_datetime(dt_today), 'since': pd.to_datetime(dt_yday)}\n",
    "summary = {**summary, **df_table[metrics].sum(), **s_ind, **s_us, **s_eu}"
   ]
  },
  {
   "cell_type": "code",
   "execution_count": 18,
   "id": "engaging-syndrome",
   "metadata": {
    "execution": {
     "iopub.execute_input": "2022-07-03T12:15:18.399680Z",
     "iopub.status.busy": "2022-07-03T12:15:18.398932Z",
     "iopub.status.idle": "2022-07-03T12:15:18.424220Z",
     "shell.execute_reply": "2022-07-03T12:15:18.423621Z"
    },
    "papermill": {
     "duration": 0.068124,
     "end_time": "2022-07-03T12:15:18.424360",
     "exception": false,
     "start_time": "2022-07-03T12:15:18.356236",
     "status": "completed"
    },
    "tags": []
   },
   "outputs": [],
   "source": [
    "#hide\n",
    "dft_ct_new_cases = dft_cases.groupby(COL_REGION)[dt_cols].sum().diff(axis=1).fillna(0).astype(int)"
   ]
  },
  {
   "cell_type": "code",
   "execution_count": 19,
   "id": "neutral-assignment",
   "metadata": {
    "execution": {
     "iopub.execute_input": "2022-07-03T12:15:18.501050Z",
     "iopub.status.busy": "2022-07-03T12:15:18.500370Z",
     "iopub.status.idle": "2022-07-03T12:15:18.506820Z",
     "shell.execute_reply": "2022-07-03T12:15:18.507348Z"
    },
    "papermill": {
     "duration": 0.047932,
     "end_time": "2022-07-03T12:15:18.507534",
     "exception": false,
     "start_time": "2022-07-03T12:15:18.459602",
     "status": "completed"
    },
    "tags": []
   },
   "outputs": [],
   "source": [
    "#hide\n",
    "everydaycases = dft_ct_new_cases.cumsum(axis=1)"
   ]
  },
  {
   "cell_type": "code",
   "execution_count": 20,
   "id": "parliamentary-calgary",
   "metadata": {
    "execution": {
     "iopub.execute_input": "2022-07-03T12:15:18.585183Z",
     "iopub.status.busy": "2022-07-03T12:15:18.584459Z",
     "iopub.status.idle": "2022-07-03T12:15:19.247616Z",
     "shell.execute_reply": "2022-07-03T12:15:19.248195Z"
    },
    "papermill": {
     "duration": 0.705571,
     "end_time": "2022-07-03T12:15:19.248375",
     "exception": false,
     "start_time": "2022-07-03T12:15:18.542804",
     "status": "completed"
    },
    "tags": []
   },
   "outputs": [],
   "source": [
    "#hide\n",
    "import pandas as pd\n",
    "import matplotlib.pyplot as plt\n",
    "import matplotlib.ticker as ticker\n",
    "import matplotlib.animation as animation\n",
    "from IPython.display import HTML"
   ]
  },
  {
   "cell_type": "code",
   "execution_count": 21,
   "id": "lasting-extraction",
   "metadata": {
    "execution": {
     "iopub.execute_input": "2022-07-03T12:15:19.329956Z",
     "iopub.status.busy": "2022-07-03T12:15:19.329244Z",
     "iopub.status.idle": "2022-07-03T12:15:19.337425Z",
     "shell.execute_reply": "2022-07-03T12:15:19.336729Z"
    },
    "papermill": {
     "duration": 0.053425,
     "end_time": "2022-07-03T12:15:19.337559",
     "exception": false,
     "start_time": "2022-07-03T12:15:19.284134",
     "status": "completed"
    },
    "tags": []
   },
   "outputs": [],
   "source": [
    "#hide\n",
    "t = everydaycases.stack()"
   ]
  },
  {
   "cell_type": "code",
   "execution_count": 22,
   "id": "premier-sleeve",
   "metadata": {
    "execution": {
     "iopub.execute_input": "2022-07-03T12:15:19.417113Z",
     "iopub.status.busy": "2022-07-03T12:15:19.416282Z",
     "iopub.status.idle": "2022-07-03T12:15:19.430783Z",
     "shell.execute_reply": "2022-07-03T12:15:19.430213Z"
    },
    "papermill": {
     "duration": 0.057141,
     "end_time": "2022-07-03T12:15:19.430917",
     "exception": false,
     "start_time": "2022-07-03T12:15:19.373776",
     "status": "completed"
    },
    "tags": []
   },
   "outputs": [],
   "source": [
    "#hide\n",
    "g = t.reset_index(['Country/Region'])"
   ]
  },
  {
   "cell_type": "code",
   "execution_count": 23,
   "id": "distributed-pittsburgh",
   "metadata": {
    "execution": {
     "iopub.execute_input": "2022-07-03T12:15:19.508889Z",
     "iopub.status.busy": "2022-07-03T12:15:19.508150Z",
     "iopub.status.idle": "2022-07-03T12:15:19.512027Z",
     "shell.execute_reply": "2022-07-03T12:15:19.511454Z"
    },
    "papermill": {
     "duration": 0.045629,
     "end_time": "2022-07-03T12:15:19.512158",
     "exception": false,
     "start_time": "2022-07-03T12:15:19.466529",
     "status": "completed"
    },
    "tags": []
   },
   "outputs": [],
   "source": [
    "#hide\n",
    "g.index.name = 'date'"
   ]
  },
  {
   "cell_type": "code",
   "execution_count": 24,
   "id": "naked-donor",
   "metadata": {
    "execution": {
     "iopub.execute_input": "2022-07-03T12:15:19.590776Z",
     "iopub.status.busy": "2022-07-03T12:15:19.589946Z",
     "iopub.status.idle": "2022-07-03T12:15:19.591560Z",
     "shell.execute_reply": "2022-07-03T12:15:19.592095Z"
    },
    "papermill": {
     "duration": 0.044325,
     "end_time": "2022-07-03T12:15:19.592253",
     "exception": false,
     "start_time": "2022-07-03T12:15:19.547928",
     "status": "completed"
    },
    "tags": []
   },
   "outputs": [],
   "source": [
    "# #hide\n",
    "# g = g.reset_index(['date'])"
   ]
  },
  {
   "cell_type": "code",
   "execution_count": 25,
   "id": "incomplete-mustang",
   "metadata": {
    "execution": {
     "iopub.execute_input": "2022-07-03T12:15:19.671270Z",
     "iopub.status.busy": "2022-07-03T12:15:19.670331Z",
     "iopub.status.idle": "2022-07-03T12:15:19.673641Z",
     "shell.execute_reply": "2022-07-03T12:15:19.674199Z"
    },
    "papermill": {
     "duration": 0.046183,
     "end_time": "2022-07-03T12:15:19.674354",
     "exception": false,
     "start_time": "2022-07-03T12:15:19.628171",
     "status": "completed"
    },
    "tags": []
   },
   "outputs": [],
   "source": [
    "#hide\n",
    "# g.head()"
   ]
  },
  {
   "cell_type": "code",
   "execution_count": 26,
   "id": "specific-kruger",
   "metadata": {
    "execution": {
     "iopub.execute_input": "2022-07-03T12:15:19.754691Z",
     "iopub.status.busy": "2022-07-03T12:15:19.753868Z",
     "iopub.status.idle": "2022-07-03T12:15:19.755475Z",
     "shell.execute_reply": "2022-07-03T12:15:19.756013Z"
    },
    "papermill": {
     "duration": 0.046027,
     "end_time": "2022-07-03T12:15:19.756171",
     "exception": false,
     "start_time": "2022-07-03T12:15:19.710144",
     "status": "completed"
    },
    "tags": []
   },
   "outputs": [],
   "source": [
    "#hide\n",
    "# g.columns = ['date','country','cases']"
   ]
  },
  {
   "cell_type": "code",
   "execution_count": 27,
   "id": "tender-conversion",
   "metadata": {
    "execution": {
     "iopub.execute_input": "2022-07-03T12:15:19.836324Z",
     "iopub.status.busy": "2022-07-03T12:15:19.835589Z",
     "iopub.status.idle": "2022-07-03T12:15:19.838236Z",
     "shell.execute_reply": "2022-07-03T12:15:19.837564Z"
    },
    "papermill": {
     "duration": 0.042114,
     "end_time": "2022-07-03T12:15:19.838366",
     "exception": false,
     "start_time": "2022-07-03T12:15:19.796252",
     "status": "completed"
    },
    "tags": []
   },
   "outputs": [],
   "source": [
    "#hide\n",
    "# g['continent'] = g.country"
   ]
  },
  {
   "cell_type": "code",
   "execution_count": 28,
   "id": "substantial-wilderness",
   "metadata": {
    "execution": {
     "iopub.execute_input": "2022-07-03T12:15:19.917283Z",
     "iopub.status.busy": "2022-07-03T12:15:19.916598Z",
     "iopub.status.idle": "2022-07-03T12:15:19.918835Z",
     "shell.execute_reply": "2022-07-03T12:15:19.919331Z"
    },
    "papermill": {
     "duration": 0.044356,
     "end_time": "2022-07-03T12:15:19.919521",
     "exception": false,
     "start_time": "2022-07-03T12:15:19.875165",
     "status": "completed"
    },
    "tags": []
   },
   "outputs": [],
   "source": [
    "#hide\n",
    "# cols = list(g.columns.values)"
   ]
  },
  {
   "cell_type": "code",
   "execution_count": 29,
   "id": "solved-farming",
   "metadata": {
    "execution": {
     "iopub.execute_input": "2022-07-03T12:15:19.996309Z",
     "iopub.status.busy": "2022-07-03T12:15:19.995025Z",
     "iopub.status.idle": "2022-07-03T12:15:19.997050Z",
     "shell.execute_reply": "2022-07-03T12:15:19.997560Z"
    },
    "papermill": {
     "duration": 0.043378,
     "end_time": "2022-07-03T12:15:19.997705",
     "exception": false,
     "start_time": "2022-07-03T12:15:19.954327",
     "status": "completed"
    },
    "tags": []
   },
   "outputs": [],
   "source": [
    "#hide\n",
    "# cols.insert(0, cols.pop())"
   ]
  },
  {
   "cell_type": "code",
   "execution_count": 30,
   "id": "executed-adoption",
   "metadata": {
    "execution": {
     "iopub.execute_input": "2022-07-03T12:15:20.077577Z",
     "iopub.status.busy": "2022-07-03T12:15:20.075933Z",
     "iopub.status.idle": "2022-07-03T12:15:20.078352Z",
     "shell.execute_reply": "2022-07-03T12:15:20.078863Z"
    },
    "papermill": {
     "duration": 0.045638,
     "end_time": "2022-07-03T12:15:20.079012",
     "exception": false,
     "start_time": "2022-07-03T12:15:20.033374",
     "status": "completed"
    },
    "tags": []
   },
   "outputs": [],
   "source": [
    "#hide\n",
    "# g = g[cols]"
   ]
  },
  {
   "cell_type": "code",
   "execution_count": 31,
   "id": "subject-dublin",
   "metadata": {
    "execution": {
     "iopub.execute_input": "2022-07-03T12:15:20.154073Z",
     "iopub.status.busy": "2022-07-03T12:15:20.153325Z",
     "iopub.status.idle": "2022-07-03T12:15:20.158025Z",
     "shell.execute_reply": "2022-07-03T12:15:20.158532Z"
    },
    "papermill": {
     "duration": 0.044522,
     "end_time": "2022-07-03T12:15:20.158693",
     "exception": false,
     "start_time": "2022-07-03T12:15:20.114171",
     "status": "completed"
    },
    "tags": []
   },
   "outputs": [],
   "source": [
    "#hide\n",
    "# g['continent'] = g['continent'].map(mapping['map.continent'])"
   ]
  },
  {
   "cell_type": "code",
   "execution_count": 32,
   "id": "freelance-scout",
   "metadata": {
    "execution": {
     "iopub.execute_input": "2022-07-03T12:15:20.237771Z",
     "iopub.status.busy": "2022-07-03T12:15:20.236497Z",
     "iopub.status.idle": "2022-07-03T12:15:20.239085Z",
     "shell.execute_reply": "2022-07-03T12:15:20.240052Z"
    },
    "papermill": {
     "duration": 0.045498,
     "end_time": "2022-07-03T12:15:20.240303",
     "exception": false,
     "start_time": "2022-07-03T12:15:20.194805",
     "status": "completed"
    },
    "tags": []
   },
   "outputs": [],
   "source": [
    "#hide\n",
    "# g.head()"
   ]
  },
  {
   "cell_type": "code",
   "execution_count": 33,
   "id": "limited-engine",
   "metadata": {
    "execution": {
     "iopub.execute_input": "2022-07-03T12:15:20.317577Z",
     "iopub.status.busy": "2022-07-03T12:15:20.316205Z",
     "iopub.status.idle": "2022-07-03T12:15:20.318928Z",
     "shell.execute_reply": "2022-07-03T12:15:20.319880Z"
    },
    "papermill": {
     "duration": 0.044761,
     "end_time": "2022-07-03T12:15:20.320129",
     "exception": false,
     "start_time": "2022-07-03T12:15:20.275368",
     "status": "completed"
    },
    "tags": []
   },
   "outputs": [],
   "source": [
    "# hide\n",
    "# g['date'] = g['date'].astype('datetime64[ns]')"
   ]
  },
  {
   "cell_type": "code",
   "execution_count": 34,
   "id": "sophisticated-supervisor",
   "metadata": {
    "execution": {
     "iopub.execute_input": "2022-07-03T12:15:20.399216Z",
     "iopub.status.busy": "2022-07-03T12:15:20.398024Z",
     "iopub.status.idle": "2022-07-03T12:15:20.400565Z",
     "shell.execute_reply": "2022-07-03T12:15:20.401475Z"
    },
    "papermill": {
     "duration": 0.045262,
     "end_time": "2022-07-03T12:15:20.401720",
     "exception": false,
     "start_time": "2022-07-03T12:15:20.356458",
     "status": "completed"
    },
    "tags": []
   },
   "outputs": [],
   "source": [
    "#hide\n",
    "# g['date'] = g.date.dt.dayofyear"
   ]
  },
  {
   "cell_type": "code",
   "execution_count": 35,
   "id": "inside-dubai",
   "metadata": {
    "execution": {
     "iopub.execute_input": "2022-07-03T12:15:20.477100Z",
     "iopub.status.busy": "2022-07-03T12:15:20.476385Z",
     "iopub.status.idle": "2022-07-03T12:15:20.480338Z",
     "shell.execute_reply": "2022-07-03T12:15:20.480843Z"
    },
    "papermill": {
     "duration": 0.043782,
     "end_time": "2022-07-03T12:15:20.481001",
     "exception": false,
     "start_time": "2022-07-03T12:15:20.437219",
     "status": "completed"
    },
    "tags": []
   },
   "outputs": [],
   "source": [
    "#hide\n",
    "# g = g.rename(columns= {'continent':'group','country':'name','cases':'value'})"
   ]
  },
  {
   "cell_type": "code",
   "execution_count": 36,
   "id": "fleet-motorcycle",
   "metadata": {
    "execution": {
     "iopub.execute_input": "2022-07-03T12:15:20.560411Z",
     "iopub.status.busy": "2022-07-03T12:15:20.559114Z",
     "iopub.status.idle": "2022-07-03T12:15:20.564400Z",
     "shell.execute_reply": "2022-07-03T12:15:20.563698Z"
    },
    "papermill": {
     "duration": 0.047439,
     "end_time": "2022-07-03T12:15:20.564536",
     "exception": false,
     "start_time": "2022-07-03T12:15:20.517097",
     "status": "completed"
    },
    "tags": []
   },
   "outputs": [],
   "source": [
    "#hide\n",
    "# cols = ['name','group','day','value']"
   ]
  },
  {
   "cell_type": "code",
   "execution_count": 37,
   "id": "continued-sleeping",
   "metadata": {
    "execution": {
     "iopub.execute_input": "2022-07-03T12:15:20.642283Z",
     "iopub.status.busy": "2022-07-03T12:15:20.641077Z",
     "iopub.status.idle": "2022-07-03T12:15:20.643628Z",
     "shell.execute_reply": "2022-07-03T12:15:20.644546Z"
    },
    "papermill": {
     "duration": 0.044767,
     "end_time": "2022-07-03T12:15:20.644786",
     "exception": false,
     "start_time": "2022-07-03T12:15:20.600019",
     "status": "completed"
    },
    "tags": []
   },
   "outputs": [],
   "source": [
    "#hide\n",
    "# g.rename(columns= {'date':'day'},inplace = True)"
   ]
  },
  {
   "cell_type": "code",
   "execution_count": 38,
   "id": "major-fight",
   "metadata": {
    "execution": {
     "iopub.execute_input": "2022-07-03T12:15:20.724757Z",
     "iopub.status.busy": "2022-07-03T12:15:20.723513Z",
     "iopub.status.idle": "2022-07-03T12:15:20.726046Z",
     "shell.execute_reply": "2022-07-03T12:15:20.726860Z"
    },
    "papermill": {
     "duration": 0.045058,
     "end_time": "2022-07-03T12:15:20.727017",
     "exception": false,
     "start_time": "2022-07-03T12:15:20.681959",
     "status": "completed"
    },
    "tags": []
   },
   "outputs": [],
   "source": [
    "#hide\n",
    "# g = g[cols]"
   ]
  },
  {
   "cell_type": "code",
   "execution_count": 39,
   "id": "structured-mobile",
   "metadata": {
    "execution": {
     "iopub.execute_input": "2022-07-03T12:15:20.804391Z",
     "iopub.status.busy": "2022-07-03T12:15:20.803099Z",
     "iopub.status.idle": "2022-07-03T12:15:20.805686Z",
     "shell.execute_reply": "2022-07-03T12:15:20.806578Z"
    },
    "papermill": {
     "duration": 0.044576,
     "end_time": "2022-07-03T12:15:20.806814",
     "exception": false,
     "start_time": "2022-07-03T12:15:20.762238",
     "status": "completed"
    },
    "tags": []
   },
   "outputs": [],
   "source": [
    "# #hide\n",
    "# g = g[g.group.notna()]"
   ]
  },
  {
   "cell_type": "code",
   "execution_count": 40,
   "id": "determined-closing",
   "metadata": {
    "execution": {
     "iopub.execute_input": "2022-07-03T12:15:20.887085Z",
     "iopub.status.busy": "2022-07-03T12:15:20.885825Z",
     "iopub.status.idle": "2022-07-03T12:15:20.890935Z",
     "shell.execute_reply": "2022-07-03T12:15:20.891462Z"
    },
    "papermill": {
     "duration": 0.047787,
     "end_time": "2022-07-03T12:15:20.891630",
     "exception": false,
     "start_time": "2022-07-03T12:15:20.843843",
     "status": "completed"
    },
    "tags": []
   },
   "outputs": [],
   "source": [
    "# #hide\n",
    "# colors = dict(zip(\n",
    "#     [\"Oceania\", \"Europe\", \"Asia\", \"South America\", \"Middle East\", \"North America\", \"Africa\"],\n",
    "#     [\"#adb0ff\", \"#ffb3ff\", \"#90d595\", \"#e48381\", \"#aafbff\", \"#f7bb5f\", \"#eafb50\"]\n",
    "# ))\n",
    "# group_lk = g.set_index('name')['group'].to_dict()"
   ]
  },
  {
   "cell_type": "code",
   "execution_count": null,
   "id": "gross-drinking",
   "metadata": {
    "papermill": {
     "duration": 0.035204,
     "end_time": "2022-07-03T12:15:20.962043",
     "exception": false,
     "start_time": "2022-07-03T12:15:20.926839",
     "status": "completed"
    },
    "tags": []
   },
   "outputs": [],
   "source": []
  },
  {
   "cell_type": "code",
   "execution_count": 41,
   "id": "subject-macintosh",
   "metadata": {
    "execution": {
     "iopub.execute_input": "2022-07-03T12:15:21.040847Z",
     "iopub.status.busy": "2022-07-03T12:15:21.039600Z",
     "iopub.status.idle": "2022-07-03T12:15:21.042135Z",
     "shell.execute_reply": "2022-07-03T12:15:21.042914Z"
    },
    "papermill": {
     "duration": 0.045703,
     "end_time": "2022-07-03T12:15:21.043067",
     "exception": false,
     "start_time": "2022-07-03T12:15:20.997364",
     "status": "completed"
    },
    "tags": []
   },
   "outputs": [],
   "source": [
    "# #hide\n",
    "# fig, ax = plt.subplots(figsize=(15, 8))\n",
    "\n",
    "# def draw_barchart(current_day):\n",
    "#     dff = g[g['day'].eq(current_day)].sort_values(by='value', ascending=True).tail(10)\n",
    "#     ax.clear()\n",
    "#     ax.barh(dff['name'], dff['value'], color=[colors[group_lk[x]] for x in dff['name']])\n",
    "#     dx = dff['value'].max() / 200\n",
    "    \n",
    "#     for i, (value, name) in enumerate(zip(dff['value'], dff['name'])):\n",
    "#         ax.text(value-dx, i,     name,           size=14, weight=600, ha='right', va='bottom')\n",
    "#         ax.text(value-dx, i-.25, group_lk[name], size=10, color='#444444', ha='right', va='baseline')\n",
    "#         ax.text(value+dx, i,     f'{value:,.0f}',  size=14, ha='left',  va='center')\n",
    "#     ax.text(1, 0.4, current_day, transform=ax.transAxes, color='#777777', size=46, ha='right', weight=800)\n",
    "#     ax.text(0, 1.06, 'Population (thousands)', transform=ax.transAxes, size=12, color='#777777')\n",
    "#     ax.xaxis.set_major_formatter(ticker.StrMethodFormatter('{x:,.0f}'))\n",
    "#     ax.xaxis.set_ticks_position('top')\n",
    "#     ax.tick_params(axis='x', colors='#777777', labelsize=12)\n",
    "#     ax.set_yticks([])\n",
    "#     ax.margins(0, 0.01)\n",
    "#     ax.grid(which='major', axis='x', linestyle='-')\n",
    "#     ax.set_axisbelow(True)\n",
    "    \n",
    "#     ax.text(0, 1.15, 'Coronavirus',\n",
    "#             transform=ax.transAxes, size=24, weight=600, ha='left', va='top')\n",
    "# #     ax.text(1, 0, 'by @pratapvardhan; credit @jburnmurdoch', transform=ax.transAxes, color='#777777', ha='right',\n",
    "# #             bbox=dict(facecolor='white', alpha=0.8, edgecolor='white'))\n",
    "#     plt.box(False)"
   ]
  },
  {
   "cell_type": "code",
   "execution_count": 42,
   "id": "sexual-wages",
   "metadata": {
    "execution": {
     "iopub.execute_input": "2022-07-03T12:15:21.120893Z",
     "iopub.status.busy": "2022-07-03T12:15:21.120154Z",
     "iopub.status.idle": "2022-07-03T12:15:21.123472Z",
     "shell.execute_reply": "2022-07-03T12:15:21.123981Z"
    },
    "papermill": {
     "duration": 0.043472,
     "end_time": "2022-07-03T12:15:21.124139",
     "exception": false,
     "start_time": "2022-07-03T12:15:21.080667",
     "status": "completed"
    },
    "tags": []
   },
   "outputs": [],
   "source": [
    "# #hide_input\n",
    "# fig, ax = plt.subplots(figsize=(15, 8))\n",
    "# animator = animation.FuncAnimation(fig, draw_barchart, frames=range(g.day.values.min(), g.day.values.max()))\n",
    "# HTML(animator.to_jshtml())\n",
    "# # or use animator.to_html5_video() or animator.save() "
   ]
  },
  {
   "cell_type": "code",
   "execution_count": null,
   "id": "australian-container",
   "metadata": {
    "papermill": {
     "duration": 0.036875,
     "end_time": "2022-07-03T12:15:21.198501",
     "exception": false,
     "start_time": "2022-07-03T12:15:21.161626",
     "status": "completed"
    },
    "tags": []
   },
   "outputs": [],
   "source": []
  },
  {
   "cell_type": "code",
   "execution_count": null,
   "id": "mediterranean-pontiac",
   "metadata": {
    "papermill": {
     "duration": 0.035457,
     "end_time": "2022-07-03T12:15:21.270575",
     "exception": false,
     "start_time": "2022-07-03T12:15:21.235118",
     "status": "completed"
    },
    "tags": []
   },
   "outputs": [],
   "source": []
  },
  {
   "cell_type": "code",
   "execution_count": null,
   "id": "aging-legislature",
   "metadata": {
    "papermill": {
     "duration": 0.037393,
     "end_time": "2022-07-03T12:15:21.344289",
     "exception": false,
     "start_time": "2022-07-03T12:15:21.306896",
     "status": "completed"
    },
    "tags": []
   },
   "outputs": [],
   "source": []
  }
 ],
 "metadata": {
  "kernelspec": {
   "display_name": "Python 3",
   "language": "python",
   "name": "python3"
  },
  "language_info": {
   "codemirror_mode": {
    "name": "ipython",
    "version": 3
   },
   "file_extension": ".py",
   "mimetype": "text/x-python",
   "name": "python",
   "nbconvert_exporter": "python",
   "pygments_lexer": "ipython3",
   "version": "3.6.15"
  },
  "papermill": {
   "duration": 7.124131,
   "end_time": "2022-07-03T12:15:21.800775",
   "environment_variables": {},
   "exception": null,
   "input_path": "2020-03-21-covid19exp.ipynb",
   "output_path": "2020-03-21-covid19exp.ipynb",
   "parameters": {},
   "start_time": "2022-07-03T12:15:14.676644",
   "version": "2.0.0"
  }
 },
 "nbformat": 4,
 "nbformat_minor": 5
}