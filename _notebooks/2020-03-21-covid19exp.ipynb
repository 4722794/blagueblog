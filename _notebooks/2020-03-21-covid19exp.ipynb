{
 "cells": [
  {
   "cell_type": "markdown",
   "id": "muslim-click",
   "metadata": {
    "papermill": {
     "duration": 0.035772,
     "end_time": "2022-10-08T00:51:15.405451",
     "exception": false,
     "start_time": "2022-10-08T00:51:15.369679",
     "status": "completed"
    },
    "tags": []
   },
   "source": [
    "# COVID-19 Case Race\n",
    "> A race chart to see rising cases around the world\n",
    "\n",
    "- author: Hargun Oberoi\n",
    "- image: images/covid-overview.png\n",
    "- hide: false\n",
    "- badges: false"
   ]
  },
  {
   "cell_type": "code",
   "execution_count": 1,
   "id": "proof-material",
   "metadata": {
    "execution": {
     "iopub.execute_input": "2022-10-08T00:51:15.476085Z",
     "iopub.status.busy": "2022-10-08T00:51:15.475461Z",
     "iopub.status.idle": "2022-10-08T00:51:15.819716Z",
     "shell.execute_reply": "2022-10-08T00:51:15.819112Z"
    },
    "papermill": {
     "duration": 0.384229,
     "end_time": "2022-10-08T00:51:15.819881",
     "exception": false,
     "start_time": "2022-10-08T00:51:15.435652",
     "status": "completed"
    },
    "tags": []
   },
   "outputs": [],
   "source": [
    "#hide\n",
    "import numpy as np\n",
    "import pandas as pd\n",
    "from jinja2 import Template\n",
    "from IPython.display import HTML"
   ]
  },
  {
   "cell_type": "code",
   "execution_count": 2,
   "id": "developed-terminology",
   "metadata": {
    "execution": {
     "iopub.execute_input": "2022-10-08T00:51:15.884454Z",
     "iopub.status.busy": "2022-10-08T00:51:15.883817Z",
     "iopub.status.idle": "2022-10-08T00:51:15.886356Z",
     "shell.execute_reply": "2022-10-08T00:51:15.885868Z"
    },
    "papermill": {
     "duration": 0.036919,
     "end_time": "2022-10-08T00:51:15.886472",
     "exception": false,
     "start_time": "2022-10-08T00:51:15.849553",
     "status": "completed"
    },
    "tags": []
   },
   "outputs": [],
   "source": [
    "#hide\n",
    "\n",
    "# FETCH\n",
    "base_url = 'https://raw.githubusercontent.com/pratapvardhan/notebooks/master/covid19/'\n",
    "paths = {\n",
    "    'mapping': base_url + 'mapping_countries.csv',\n",
    "    'overview': base_url + 'overview.tpl'\n",
    "}"
   ]
  },
  {
   "cell_type": "code",
   "execution_count": 3,
   "id": "dynamic-saver",
   "metadata": {
    "execution": {
     "iopub.execute_input": "2022-10-08T00:51:15.955400Z",
     "iopub.status.busy": "2022-10-08T00:51:15.954798Z",
     "iopub.status.idle": "2022-10-08T00:51:15.958026Z",
     "shell.execute_reply": "2022-10-08T00:51:15.958446Z"
    },
    "papermill": {
     "duration": 0.042898,
     "end_time": "2022-10-08T00:51:15.958583",
     "exception": false,
     "start_time": "2022-10-08T00:51:15.915685",
     "status": "completed"
    },
    "tags": []
   },
   "outputs": [
    {
     "data": {
      "text/plain": [
       "'https://raw.githubusercontent.com/pratapvardhan/notebooks/master/covid19/mapping_countries.csv'"
      ]
     },
     "execution_count": 3,
     "metadata": {},
     "output_type": "execute_result"
    }
   ],
   "source": [
    "#hide\n",
    "paths['mapping']"
   ]
  },
  {
   "cell_type": "code",
   "execution_count": 4,
   "id": "urban-software",
   "metadata": {
    "execution": {
     "iopub.execute_input": "2022-10-08T00:51:16.024185Z",
     "iopub.status.busy": "2022-10-08T00:51:16.023471Z",
     "iopub.status.idle": "2022-10-08T00:51:16.025855Z",
     "shell.execute_reply": "2022-10-08T00:51:16.025277Z"
    },
    "papermill": {
     "duration": 0.037657,
     "end_time": "2022-10-08T00:51:16.025998",
     "exception": false,
     "start_time": "2022-10-08T00:51:15.988341",
     "status": "completed"
    },
    "tags": []
   },
   "outputs": [],
   "source": [
    "#hide\n",
    "def get_mappings(url):\n",
    "    df = pd.read_csv(url)\n",
    "    return {\n",
    "        'df': df,\n",
    "        'replace.country': dict(df.dropna(subset=['Name']).set_index('Country')['Name']),\n",
    "        'map.continent': dict(df.set_index('Name')['Continent'])\n",
    "    }"
   ]
  },
  {
   "cell_type": "code",
   "execution_count": 5,
   "id": "intimate-machinery",
   "metadata": {
    "execution": {
     "iopub.execute_input": "2022-10-08T00:51:16.091175Z",
     "iopub.status.busy": "2022-10-08T00:51:16.088391Z",
     "iopub.status.idle": "2022-10-08T00:51:16.164196Z",
     "shell.execute_reply": "2022-10-08T00:51:16.164745Z"
    },
    "papermill": {
     "duration": 0.109097,
     "end_time": "2022-10-08T00:51:16.164920",
     "exception": false,
     "start_time": "2022-10-08T00:51:16.055823",
     "status": "completed"
    },
    "tags": []
   },
   "outputs": [],
   "source": [
    "#hide\n",
    "mapping = get_mappings(paths['mapping'])"
   ]
  },
  {
   "cell_type": "code",
   "execution_count": 6,
   "id": "certified-tactics",
   "metadata": {
    "execution": {
     "iopub.execute_input": "2022-10-08T00:51:16.229979Z",
     "iopub.status.busy": "2022-10-08T00:51:16.229379Z",
     "iopub.status.idle": "2022-10-08T00:51:16.232238Z",
     "shell.execute_reply": "2022-10-08T00:51:16.231762Z"
    },
    "papermill": {
     "duration": 0.03754,
     "end_time": "2022-10-08T00:51:16.232352",
     "exception": false,
     "start_time": "2022-10-08T00:51:16.194812",
     "status": "completed"
    },
    "tags": []
   },
   "outputs": [],
   "source": [
    "#hide\n",
    "def get_template(path):\n",
    "    from urllib.parse import urlparse\n",
    "    if bool(urlparse(path).netloc):\n",
    "        from urllib.request import urlopen\n",
    "        return urlopen(path).read().decode('utf8')\n",
    "    return open(path).read()"
   ]
  },
  {
   "cell_type": "code",
   "execution_count": 7,
   "id": "realistic-blast",
   "metadata": {
    "execution": {
     "iopub.execute_input": "2022-10-08T00:51:16.296886Z",
     "iopub.status.busy": "2022-10-08T00:51:16.296275Z",
     "iopub.status.idle": "2022-10-08T00:51:16.298310Z",
     "shell.execute_reply": "2022-10-08T00:51:16.298860Z"
    },
    "papermill": {
     "duration": 0.037087,
     "end_time": "2022-10-08T00:51:16.298993",
     "exception": false,
     "start_time": "2022-10-08T00:51:16.261906",
     "status": "completed"
    },
    "tags": []
   },
   "outputs": [],
   "source": [
    "#hide\n",
    "def get_frame(name):\n",
    "    url = (\n",
    "        'https://raw.githubusercontent.com/CSSEGISandData/COVID-19/master/csse_covid_19_data/'\n",
    "        f'csse_covid_19_time_series/time_series_covid19_{name}_global.csv')\n",
    "    df = pd.read_csv(url)\n",
    "    # rename countries\n",
    "    df['Country/Region'] = df['Country/Region'].replace(mapping['replace.country'])\n",
    "    return df"
   ]
  },
  {
   "cell_type": "code",
   "execution_count": 8,
   "id": "affiliated-characterization",
   "metadata": {
    "execution": {
     "iopub.execute_input": "2022-10-08T00:51:16.365246Z",
     "iopub.status.busy": "2022-10-08T00:51:16.364486Z",
     "iopub.status.idle": "2022-10-08T00:51:16.366659Z",
     "shell.execute_reply": "2022-10-08T00:51:16.367200Z"
    },
    "papermill": {
     "duration": 0.038753,
     "end_time": "2022-10-08T00:51:16.367353",
     "exception": false,
     "start_time": "2022-10-08T00:51:16.328600",
     "status": "completed"
    },
    "tags": []
   },
   "outputs": [],
   "source": [
    "#hide\n",
    "def get_dates(df):\n",
    "    dt_cols = df.columns[~df.columns.isin(['Province/State', 'Country/Region', 'Lat', 'Long'])]\n",
    "    LAST_DATE_I = -1\n",
    "    # sometimes last column may be empty, then go backwards\n",
    "    for i in range(-1, -len(dt_cols), -1):\n",
    "        if not df[dt_cols[i]].fillna(0).eq(0).all():\n",
    "            LAST_DATE_I = i\n",
    "            break\n",
    "    return LAST_DATE_I, dt_cols"
   ]
  },
  {
   "cell_type": "code",
   "execution_count": 9,
   "id": "recent-optimization",
   "metadata": {
    "execution": {
     "iopub.execute_input": "2022-10-08T00:51:16.432968Z",
     "iopub.status.busy": "2022-10-08T00:51:16.432316Z",
     "iopub.status.idle": "2022-10-08T00:51:16.842654Z",
     "shell.execute_reply": "2022-10-08T00:51:16.843148Z"
    },
    "papermill": {
     "duration": 0.446196,
     "end_time": "2022-10-08T00:51:16.843312",
     "exception": false,
     "start_time": "2022-10-08T00:51:16.397116",
     "status": "completed"
    },
    "tags": []
   },
   "outputs": [],
   "source": [
    "#hide\n",
    "COL_REGION = 'Country/Region'\n",
    "# Confirmed, Recovered, Deaths\n",
    "df = get_frame('confirmed')\n",
    "# dft_: timeseries, dfc_: today country agg\n",
    "dft_cases = df\n",
    "dft_deaths = get_frame('deaths')\n",
    "dft_recovered = get_frame('recovered')\n",
    "LAST_DATE_I, dt_cols = get_dates(df)"
   ]
  },
  {
   "cell_type": "code",
   "execution_count": 10,
   "id": "absolute-copper",
   "metadata": {
    "execution": {
     "iopub.execute_input": "2022-10-08T00:51:16.935589Z",
     "iopub.status.busy": "2022-10-08T00:51:16.934903Z",
     "iopub.status.idle": "2022-10-08T00:51:16.940905Z",
     "shell.execute_reply": "2022-10-08T00:51:16.940257Z"
    },
    "papermill": {
     "duration": 0.06374,
     "end_time": "2022-10-08T00:51:16.941085",
     "exception": false,
     "start_time": "2022-10-08T00:51:16.877345",
     "status": "completed"
    },
    "tags": []
   },
   "outputs": [],
   "source": [
    "#hide\n",
    "LAST_DATE_I, dt_cols = get_dates(df)\n",
    "dt_today =dt_cols[LAST_DATE_I]\n",
    "# dt_5day = dt_cols[LAST_DATE_I - 5]\n",
    "dt_yday = dt_cols[LAST_DATE_I - 1]"
   ]
  },
  {
   "cell_type": "code",
   "execution_count": 11,
   "id": "restricted-sheriff",
   "metadata": {
    "execution": {
     "iopub.execute_input": "2022-10-08T00:51:17.021921Z",
     "iopub.status.busy": "2022-10-08T00:51:17.019847Z",
     "iopub.status.idle": "2022-10-08T00:51:17.027856Z",
     "shell.execute_reply": "2022-10-08T00:51:17.028292Z"
    },
    "papermill": {
     "duration": 0.047628,
     "end_time": "2022-10-08T00:51:17.028439",
     "exception": false,
     "start_time": "2022-10-08T00:51:16.980811",
     "status": "completed"
    },
    "tags": []
   },
   "outputs": [],
   "source": [
    "#hide\n",
    "dfc_cases = dft_cases.groupby(COL_REGION)[dt_today].sum()\n",
    "dfc_deaths = dft_deaths.groupby(COL_REGION)[dt_today].sum()\n",
    "# dfp_cases = dft_cases.groupby(COL_REGION)[dt_5day].sum()\n",
    "# dfp_deaths = dft_deaths.groupby(COL_REGION)[dt_5day].sum()\n",
    "dfp_cases = dft_cases.groupby(COL_REGION)[dt_yday].sum()\n",
    "dfp_deaths = dft_deaths.groupby(COL_REGION)[dt_yday].sum()"
   ]
  },
  {
   "cell_type": "code",
   "execution_count": 12,
   "id": "deluxe-hepatitis",
   "metadata": {
    "execution": {
     "iopub.execute_input": "2022-10-08T00:51:17.093788Z",
     "iopub.status.busy": "2022-10-08T00:51:17.093167Z",
     "iopub.status.idle": "2022-10-08T00:51:17.098534Z",
     "shell.execute_reply": "2022-10-08T00:51:17.097952Z"
    },
    "papermill": {
     "duration": 0.040729,
     "end_time": "2022-10-08T00:51:17.098652",
     "exception": false,
     "start_time": "2022-10-08T00:51:17.057923",
     "status": "completed"
    },
    "tags": []
   },
   "outputs": [],
   "source": [
    "#hide\n",
    "df_table = (pd.DataFrame(dict(Cases = dfc_cases, Deaths = dfc_deaths, PCases = dfp_cases, PDeaths = dfp_deaths))\n",
    "            .sort_values(by = ['Cases','Deaths'], ascending = [False, False])\n",
    "            .reset_index())"
   ]
  },
  {
   "cell_type": "code",
   "execution_count": 13,
   "id": "educational-chancellor",
   "metadata": {
    "execution": {
     "iopub.execute_input": "2022-10-08T00:51:17.175589Z",
     "iopub.status.busy": "2022-10-08T00:51:17.171450Z",
     "iopub.status.idle": "2022-10-08T00:51:17.184219Z",
     "shell.execute_reply": "2022-10-08T00:51:17.183747Z"
    },
    "papermill": {
     "duration": 0.056038,
     "end_time": "2022-10-08T00:51:17.184338",
     "exception": false,
     "start_time": "2022-10-08T00:51:17.128300",
     "status": "completed"
    },
    "tags": []
   },
   "outputs": [
    {
     "data": {
      "text/html": [
       "<div>\n",
       "<style scoped>\n",
       "    .dataframe tbody tr th:only-of-type {\n",
       "        vertical-align: middle;\n",
       "    }\n",
       "\n",
       "    .dataframe tbody tr th {\n",
       "        vertical-align: top;\n",
       "    }\n",
       "\n",
       "    .dataframe thead th {\n",
       "        text-align: right;\n",
       "    }\n",
       "</style>\n",
       "<table border=\"1\" class=\"dataframe\">\n",
       "  <thead>\n",
       "    <tr style=\"text-align: right;\">\n",
       "      <th></th>\n",
       "      <th>Country/Region</th>\n",
       "      <th>Cases</th>\n",
       "      <th>Deaths</th>\n",
       "      <th>PCases</th>\n",
       "      <th>PDeaths</th>\n",
       "      <th>Cases (+)</th>\n",
       "      <th>Deaths (+)</th>\n",
       "      <th>Fatality Rate</th>\n",
       "      <th>Continent</th>\n",
       "    </tr>\n",
       "  </thead>\n",
       "  <tbody>\n",
       "    <tr>\n",
       "      <th>0</th>\n",
       "      <td>US</td>\n",
       "      <td>96613460</td>\n",
       "      <td>1062130</td>\n",
       "      <td>96566148</td>\n",
       "      <td>1061584</td>\n",
       "      <td>47312</td>\n",
       "      <td>546</td>\n",
       "      <td>1.10</td>\n",
       "      <td>North America</td>\n",
       "    </tr>\n",
       "    <tr>\n",
       "      <th>1</th>\n",
       "      <td>India</td>\n",
       "      <td>44606460</td>\n",
       "      <td>528754</td>\n",
       "      <td>44604463</td>\n",
       "      <td>528745</td>\n",
       "      <td>1997</td>\n",
       "      <td>9</td>\n",
       "      <td>1.19</td>\n",
       "      <td>Asia</td>\n",
       "    </tr>\n",
       "    <tr>\n",
       "      <th>2</th>\n",
       "      <td>France</td>\n",
       "      <td>35922441</td>\n",
       "      <td>156409</td>\n",
       "      <td>35856904</td>\n",
       "      <td>156359</td>\n",
       "      <td>65537</td>\n",
       "      <td>50</td>\n",
       "      <td>0.44</td>\n",
       "      <td>Europe</td>\n",
       "    </tr>\n",
       "    <tr>\n",
       "      <th>3</th>\n",
       "      <td>Brazil</td>\n",
       "      <td>34707233</td>\n",
       "      <td>686706</td>\n",
       "      <td>34699017</td>\n",
       "      <td>686573</td>\n",
       "      <td>8216</td>\n",
       "      <td>133</td>\n",
       "      <td>1.98</td>\n",
       "      <td>South America</td>\n",
       "    </tr>\n",
       "    <tr>\n",
       "      <th>4</th>\n",
       "      <td>Germany</td>\n",
       "      <td>33826367</td>\n",
       "      <td>150406</td>\n",
       "      <td>33652255</td>\n",
       "      <td>150289</td>\n",
       "      <td>174112</td>\n",
       "      <td>117</td>\n",
       "      <td>0.44</td>\n",
       "      <td>Europe</td>\n",
       "    </tr>\n",
       "  </tbody>\n",
       "</table>\n",
       "</div>"
      ],
      "text/plain": [
       "  Country/Region     Cases   Deaths    PCases  PDeaths  Cases (+)  Deaths (+)  \\\n",
       "0             US  96613460  1062130  96566148  1061584      47312         546   \n",
       "1          India  44606460   528754  44604463   528745       1997           9   \n",
       "2         France  35922441   156409  35856904   156359      65537          50   \n",
       "3         Brazil  34707233   686706  34699017   686573       8216         133   \n",
       "4        Germany  33826367   150406  33652255   150289     174112         117   \n",
       "\n",
       "   Fatality Rate      Continent  \n",
       "0           1.10  North America  \n",
       "1           1.19           Asia  \n",
       "2           0.44         Europe  \n",
       "3           1.98  South America  \n",
       "4           0.44         Europe  "
      ]
     },
     "execution_count": 13,
     "metadata": {},
     "output_type": "execute_result"
    }
   ],
   "source": [
    "#hide\n",
    "for c in 'Cases, Deaths'.split(', '):\n",
    "    df_table[f'{c} (+)'] = (df_table[c] - df_table[f'P{c}']).clip(0)\n",
    "    #Clip ça veut dire, les chiffres negatif sont interdit\n",
    "df_table['Fatality Rate'] = (100* df_table['Deaths']/ df_table['Cases']).round(2)\n",
    "df_table['Continent'] = df_table['Country/Region'].map(mapping['map.continent'])\n",
    "df_table.head(5)"
   ]
  },
  {
   "cell_type": "code",
   "execution_count": 14,
   "id": "aboriginal-bulgaria",
   "metadata": {
    "execution": {
     "iopub.execute_input": "2022-10-08T00:51:17.250508Z",
     "iopub.status.busy": "2022-10-08T00:51:17.249834Z",
     "iopub.status.idle": "2022-10-08T00:51:17.254318Z",
     "shell.execute_reply": "2022-10-08T00:51:17.253778Z"
    },
    "papermill": {
     "duration": 0.040041,
     "end_time": "2022-10-08T00:51:17.254430",
     "exception": false,
     "start_time": "2022-10-08T00:51:17.214389",
     "status": "completed"
    },
    "tags": []
   },
   "outputs": [],
   "source": [
    "#hide\n",
    "#delete problematic countries from table\n",
    "df_table = df_table[~df_table['Country/Region'].isin(['Cape Verde', 'Cruise Ship', 'Kosovo'])]"
   ]
  },
  {
   "cell_type": "code",
   "execution_count": 15,
   "id": "fantastic-effect",
   "metadata": {
    "execution": {
     "iopub.execute_input": "2022-10-08T00:51:17.323360Z",
     "iopub.status.busy": "2022-10-08T00:51:17.322682Z",
     "iopub.status.idle": "2022-10-08T00:51:17.339475Z",
     "shell.execute_reply": "2022-10-08T00:51:17.339980Z"
    },
    "papermill": {
     "duration": 0.055664,
     "end_time": "2022-10-08T00:51:17.340126",
     "exception": false,
     "start_time": "2022-10-08T00:51:17.284462",
     "status": "completed"
    },
    "tags": []
   },
   "outputs": [
    {
     "data": {
      "text/html": [
       "<div>\n",
       "<style scoped>\n",
       "    .dataframe tbody tr th:only-of-type {\n",
       "        vertical-align: middle;\n",
       "    }\n",
       "\n",
       "    .dataframe tbody tr th {\n",
       "        vertical-align: top;\n",
       "    }\n",
       "\n",
       "    .dataframe thead th {\n",
       "        text-align: right;\n",
       "    }\n",
       "</style>\n",
       "<table border=\"1\" class=\"dataframe\">\n",
       "  <thead>\n",
       "    <tr style=\"text-align: right;\">\n",
       "      <th></th>\n",
       "      <th>Country/Region</th>\n",
       "      <th>Cases</th>\n",
       "      <th>Deaths</th>\n",
       "      <th>PCases</th>\n",
       "      <th>PDeaths</th>\n",
       "      <th>Cases (+)</th>\n",
       "      <th>Deaths (+)</th>\n",
       "      <th>Fatality Rate</th>\n",
       "      <th>Continent</th>\n",
       "    </tr>\n",
       "  </thead>\n",
       "  <tbody>\n",
       "    <tr>\n",
       "      <th>0</th>\n",
       "      <td>US</td>\n",
       "      <td>96613460</td>\n",
       "      <td>1062130</td>\n",
       "      <td>96566148</td>\n",
       "      <td>1061584</td>\n",
       "      <td>47312</td>\n",
       "      <td>546</td>\n",
       "      <td>1.1</td>\n",
       "      <td>North America</td>\n",
       "    </tr>\n",
       "    <tr>\n",
       "      <th>1</th>\n",
       "      <td>India</td>\n",
       "      <td>44606460</td>\n",
       "      <td>528754</td>\n",
       "      <td>44604463</td>\n",
       "      <td>528745</td>\n",
       "      <td>1997</td>\n",
       "      <td>9</td>\n",
       "      <td>1.2</td>\n",
       "      <td>Asia</td>\n",
       "    </tr>\n",
       "    <tr>\n",
       "      <th>2</th>\n",
       "      <td>France</td>\n",
       "      <td>35922441</td>\n",
       "      <td>156409</td>\n",
       "      <td>35856904</td>\n",
       "      <td>156359</td>\n",
       "      <td>65537</td>\n",
       "      <td>50</td>\n",
       "      <td>0.4</td>\n",
       "      <td>Europe</td>\n",
       "    </tr>\n",
       "    <tr>\n",
       "      <th>3</th>\n",
       "      <td>Brazil</td>\n",
       "      <td>34707233</td>\n",
       "      <td>686706</td>\n",
       "      <td>34699017</td>\n",
       "      <td>686573</td>\n",
       "      <td>8216</td>\n",
       "      <td>133</td>\n",
       "      <td>2.0</td>\n",
       "      <td>South America</td>\n",
       "    </tr>\n",
       "    <tr>\n",
       "      <th>4</th>\n",
       "      <td>Germany</td>\n",
       "      <td>33826367</td>\n",
       "      <td>150406</td>\n",
       "      <td>33652255</td>\n",
       "      <td>150289</td>\n",
       "      <td>174112</td>\n",
       "      <td>117</td>\n",
       "      <td>0.4</td>\n",
       "      <td>Europe</td>\n",
       "    </tr>\n",
       "  </tbody>\n",
       "</table>\n",
       "</div>"
      ],
      "text/plain": [
       "  Country/Region     Cases   Deaths    PCases  PDeaths  Cases (+)  Deaths (+)  \\\n",
       "0             US  96613460  1062130  96566148  1061584      47312         546   \n",
       "1          India  44606460   528754  44604463   528745       1997           9   \n",
       "2         France  35922441   156409  35856904   156359      65537          50   \n",
       "3         Brazil  34707233   686706  34699017   686573       8216         133   \n",
       "4        Germany  33826367   150406  33652255   150289     174112         117   \n",
       "\n",
       "   Fatality Rate      Continent  \n",
       "0            1.1  North America  \n",
       "1            1.2           Asia  \n",
       "2            0.4         Europe  \n",
       "3            2.0  South America  \n",
       "4            0.4         Europe  "
      ]
     },
     "execution_count": 15,
     "metadata": {},
     "output_type": "execute_result"
    }
   ],
   "source": [
    "#hide\n",
    "df_table = (pd.DataFrame(dict(Cases=dfc_cases, Deaths=dfc_deaths, PCases=dfp_cases, PDeaths=dfp_deaths))\n",
    "             .sort_values(by=['Cases', 'Deaths'], ascending=[False, False])\n",
    "             .reset_index())\n",
    "df_table.rename(columns={'index': 'Country/Region'}, inplace=True)\n",
    "for c in 'Cases, Deaths'.split(', '):\n",
    "    df_table[f'{c} (+)'] = (df_table[c] - df_table[f'P{c}']).clip(0)  # DATA BUG\n",
    "df_table['Fatality Rate'] = (100 * df_table['Deaths'] / df_table['Cases']).round(1)\n",
    "df_table['Continent'] = df_table['Country/Region'].map(mapping['map.continent'])\n",
    "df_table.head(5)"
   ]
  },
  {
   "cell_type": "code",
   "execution_count": 16,
   "id": "fewer-occasion",
   "metadata": {
    "execution": {
     "iopub.execute_input": "2022-10-08T00:51:17.409407Z",
     "iopub.status.busy": "2022-10-08T00:51:17.408059Z",
     "iopub.status.idle": "2022-10-08T00:51:17.410076Z",
     "shell.execute_reply": "2022-10-08T00:51:17.410511Z"
    },
    "papermill": {
     "duration": 0.038995,
     "end_time": "2022-10-08T00:51:17.410636",
     "exception": false,
     "start_time": "2022-10-08T00:51:17.371641",
     "status": "completed"
    },
    "tags": []
   },
   "outputs": [],
   "source": [
    "#hide\n",
    "#delete problematic countries from table\n",
    "df_table = df_table[~df_table['Country/Region'].isin(['Cape Verde', 'Cruise Ship', 'Kosovo'])]"
   ]
  },
  {
   "cell_type": "code",
   "execution_count": 17,
   "id": "related-center",
   "metadata": {
    "execution": {
     "iopub.execute_input": "2022-10-08T00:51:17.492496Z",
     "iopub.status.busy": "2022-10-08T00:51:17.491050Z",
     "iopub.status.idle": "2022-10-08T00:51:17.493213Z",
     "shell.execute_reply": "2022-10-08T00:51:17.493651Z"
    },
    "papermill": {
     "duration": 0.052696,
     "end_time": "2022-10-08T00:51:17.493790",
     "exception": false,
     "start_time": "2022-10-08T00:51:17.441094",
     "status": "completed"
    },
    "tags": []
   },
   "outputs": [],
   "source": [
    "#hide\n",
    "metrics = [df_table.columns[index] for index in [1,2,5,6]]\n",
    "# s_china = df_table[df_table['Country/Region'].eq('China')][metrics].sum().add_prefix('China ')\n",
    "s_us = df_table[df_table['Country/Region'].eq('US')][metrics].sum().add_prefix('US ')\n",
    "s_eu = df_table[df_table['Continent'].eq('Europe')][metrics].sum().add_prefix('EU ')\n",
    "s_ind = df_table[df_table['Country/Region'].eq('India')][metrics].sum().add_prefix('India ')\n",
    "summary = {'updated': pd.to_datetime(dt_today), 'since': pd.to_datetime(dt_yday)}\n",
    "summary = {'updated': pd.to_datetime(dt_today), 'since': pd.to_datetime(dt_yday)}\n",
    "summary = {**summary, **df_table[metrics].sum(), **s_ind, **s_us, **s_eu}"
   ]
  },
  {
   "cell_type": "code",
   "execution_count": 18,
   "id": "engaging-syndrome",
   "metadata": {
    "execution": {
     "iopub.execute_input": "2022-10-08T00:51:17.561198Z",
     "iopub.status.busy": "2022-10-08T00:51:17.560569Z",
     "iopub.status.idle": "2022-10-08T00:51:17.581402Z",
     "shell.execute_reply": "2022-10-08T00:51:17.581829Z"
    },
    "papermill": {
     "duration": 0.057638,
     "end_time": "2022-10-08T00:51:17.581974",
     "exception": false,
     "start_time": "2022-10-08T00:51:17.524336",
     "status": "completed"
    },
    "tags": []
   },
   "outputs": [],
   "source": [
    "#hide\n",
    "dft_ct_new_cases = dft_cases.groupby(COL_REGION)[dt_cols].sum().diff(axis=1).fillna(0).astype(int)"
   ]
  },
  {
   "cell_type": "code",
   "execution_count": 19,
   "id": "neutral-assignment",
   "metadata": {
    "execution": {
     "iopub.execute_input": "2022-10-08T00:51:17.651572Z",
     "iopub.status.busy": "2022-10-08T00:51:17.650205Z",
     "iopub.status.idle": "2022-10-08T00:51:17.652257Z",
     "shell.execute_reply": "2022-10-08T00:51:17.652725Z"
    },
    "papermill": {
     "duration": 0.040237,
     "end_time": "2022-10-08T00:51:17.652863",
     "exception": false,
     "start_time": "2022-10-08T00:51:17.612626",
     "status": "completed"
    },
    "tags": []
   },
   "outputs": [],
   "source": [
    "#hide\n",
    "everydaycases = dft_ct_new_cases.cumsum(axis=1)"
   ]
  },
  {
   "cell_type": "code",
   "execution_count": 20,
   "id": "parliamentary-calgary",
   "metadata": {
    "execution": {
     "iopub.execute_input": "2022-10-08T00:51:17.718858Z",
     "iopub.status.busy": "2022-10-08T00:51:17.718269Z",
     "iopub.status.idle": "2022-10-08T00:51:18.264867Z",
     "shell.execute_reply": "2022-10-08T00:51:18.264272Z"
    },
    "papermill": {
     "duration": 0.581849,
     "end_time": "2022-10-08T00:51:18.265024",
     "exception": false,
     "start_time": "2022-10-08T00:51:17.683175",
     "status": "completed"
    },
    "tags": []
   },
   "outputs": [],
   "source": [
    "#hide\n",
    "import pandas as pd\n",
    "import matplotlib.pyplot as plt\n",
    "import matplotlib.ticker as ticker\n",
    "import matplotlib.animation as animation\n",
    "from IPython.display import HTML"
   ]
  },
  {
   "cell_type": "code",
   "execution_count": 21,
   "id": "lasting-extraction",
   "metadata": {
    "execution": {
     "iopub.execute_input": "2022-10-08T00:51:18.334498Z",
     "iopub.status.busy": "2022-10-08T00:51:18.333897Z",
     "iopub.status.idle": "2022-10-08T00:51:18.341266Z",
     "shell.execute_reply": "2022-10-08T00:51:18.341713Z"
    },
    "papermill": {
     "duration": 0.045545,
     "end_time": "2022-10-08T00:51:18.341849",
     "exception": false,
     "start_time": "2022-10-08T00:51:18.296304",
     "status": "completed"
    },
    "tags": []
   },
   "outputs": [],
   "source": [
    "#hide\n",
    "t = everydaycases.stack()"
   ]
  },
  {
   "cell_type": "code",
   "execution_count": 22,
   "id": "premier-sleeve",
   "metadata": {
    "execution": {
     "iopub.execute_input": "2022-10-08T00:51:18.407994Z",
     "iopub.status.busy": "2022-10-08T00:51:18.407396Z",
     "iopub.status.idle": "2022-10-08T00:51:18.421079Z",
     "shell.execute_reply": "2022-10-08T00:51:18.420562Z"
    },
    "papermill": {
     "duration": 0.048777,
     "end_time": "2022-10-08T00:51:18.421200",
     "exception": false,
     "start_time": "2022-10-08T00:51:18.372423",
     "status": "completed"
    },
    "tags": []
   },
   "outputs": [],
   "source": [
    "#hide\n",
    "g = t.reset_index(['Country/Region'])"
   ]
  },
  {
   "cell_type": "code",
   "execution_count": 23,
   "id": "distributed-pittsburgh",
   "metadata": {
    "execution": {
     "iopub.execute_input": "2022-10-08T00:51:18.488362Z",
     "iopub.status.busy": "2022-10-08T00:51:18.487015Z",
     "iopub.status.idle": "2022-10-08T00:51:18.489055Z",
     "shell.execute_reply": "2022-10-08T00:51:18.489495Z"
    },
    "papermill": {
     "duration": 0.037769,
     "end_time": "2022-10-08T00:51:18.489625",
     "exception": false,
     "start_time": "2022-10-08T00:51:18.451856",
     "status": "completed"
    },
    "tags": []
   },
   "outputs": [],
   "source": [
    "#hide\n",
    "g.index.name = 'date'"
   ]
  },
  {
   "cell_type": "code",
   "execution_count": 24,
   "id": "naked-donor",
   "metadata": {
    "execution": {
     "iopub.execute_input": "2022-10-08T00:51:18.554326Z",
     "iopub.status.busy": "2022-10-08T00:51:18.553654Z",
     "iopub.status.idle": "2022-10-08T00:51:18.557459Z",
     "shell.execute_reply": "2022-10-08T00:51:18.557876Z"
    },
    "papermill": {
     "duration": 0.037995,
     "end_time": "2022-10-08T00:51:18.558008",
     "exception": false,
     "start_time": "2022-10-08T00:51:18.520013",
     "status": "completed"
    },
    "tags": []
   },
   "outputs": [],
   "source": [
    "# #hide\n",
    "# g = g.reset_index(['date'])"
   ]
  },
  {
   "cell_type": "code",
   "execution_count": 25,
   "id": "incomplete-mustang",
   "metadata": {
    "execution": {
     "iopub.execute_input": "2022-10-08T00:51:18.624015Z",
     "iopub.status.busy": "2022-10-08T00:51:18.622668Z",
     "iopub.status.idle": "2022-10-08T00:51:18.624689Z",
     "shell.execute_reply": "2022-10-08T00:51:18.625156Z"
    },
    "papermill": {
     "duration": 0.036735,
     "end_time": "2022-10-08T00:51:18.625284",
     "exception": false,
     "start_time": "2022-10-08T00:51:18.588549",
     "status": "completed"
    },
    "tags": []
   },
   "outputs": [],
   "source": [
    "#hide\n",
    "# g.head()"
   ]
  },
  {
   "cell_type": "code",
   "execution_count": 26,
   "id": "specific-kruger",
   "metadata": {
    "execution": {
     "iopub.execute_input": "2022-10-08T00:51:18.690589Z",
     "iopub.status.busy": "2022-10-08T00:51:18.689952Z",
     "iopub.status.idle": "2022-10-08T00:51:18.692583Z",
     "shell.execute_reply": "2022-10-08T00:51:18.691999Z"
    },
    "papermill": {
     "duration": 0.03703,
     "end_time": "2022-10-08T00:51:18.692719",
     "exception": false,
     "start_time": "2022-10-08T00:51:18.655689",
     "status": "completed"
    },
    "tags": []
   },
   "outputs": [],
   "source": [
    "#hide\n",
    "# g.columns = ['date','country','cases']"
   ]
  },
  {
   "cell_type": "code",
   "execution_count": 27,
   "id": "tender-conversion",
   "metadata": {
    "execution": {
     "iopub.execute_input": "2022-10-08T00:51:18.758724Z",
     "iopub.status.busy": "2022-10-08T00:51:18.758049Z",
     "iopub.status.idle": "2022-10-08T00:51:18.760738Z",
     "shell.execute_reply": "2022-10-08T00:51:18.760086Z"
    },
    "papermill": {
     "duration": 0.037112,
     "end_time": "2022-10-08T00:51:18.760875",
     "exception": false,
     "start_time": "2022-10-08T00:51:18.723763",
     "status": "completed"
    },
    "tags": []
   },
   "outputs": [],
   "source": [
    "#hide\n",
    "# g['continent'] = g.country"
   ]
  },
  {
   "cell_type": "code",
   "execution_count": 28,
   "id": "substantial-wilderness",
   "metadata": {
    "execution": {
     "iopub.execute_input": "2022-10-08T00:51:18.825955Z",
     "iopub.status.busy": "2022-10-08T00:51:18.825271Z",
     "iopub.status.idle": "2022-10-08T00:51:18.827356Z",
     "shell.execute_reply": "2022-10-08T00:51:18.827833Z"
    },
    "papermill": {
     "duration": 0.036679,
     "end_time": "2022-10-08T00:51:18.827982",
     "exception": false,
     "start_time": "2022-10-08T00:51:18.791303",
     "status": "completed"
    },
    "tags": []
   },
   "outputs": [],
   "source": [
    "#hide\n",
    "# cols = list(g.columns.values)"
   ]
  },
  {
   "cell_type": "code",
   "execution_count": 29,
   "id": "solved-farming",
   "metadata": {
    "execution": {
     "iopub.execute_input": "2022-10-08T00:51:18.894145Z",
     "iopub.status.busy": "2022-10-08T00:51:18.893513Z",
     "iopub.status.idle": "2022-10-08T00:51:18.895526Z",
     "shell.execute_reply": "2022-10-08T00:51:18.895945Z"
    },
    "papermill": {
     "duration": 0.037005,
     "end_time": "2022-10-08T00:51:18.896083",
     "exception": false,
     "start_time": "2022-10-08T00:51:18.859078",
     "status": "completed"
    },
    "tags": []
   },
   "outputs": [],
   "source": [
    "#hide\n",
    "# cols.insert(0, cols.pop())"
   ]
  },
  {
   "cell_type": "code",
   "execution_count": 30,
   "id": "executed-adoption",
   "metadata": {
    "execution": {
     "iopub.execute_input": "2022-10-08T00:51:18.961336Z",
     "iopub.status.busy": "2022-10-08T00:51:18.960598Z",
     "iopub.status.idle": "2022-10-08T00:51:18.962456Z",
     "shell.execute_reply": "2022-10-08T00:51:18.962962Z"
    },
    "papermill": {
     "duration": 0.036565,
     "end_time": "2022-10-08T00:51:18.963107",
     "exception": false,
     "start_time": "2022-10-08T00:51:18.926542",
     "status": "completed"
    },
    "tags": []
   },
   "outputs": [],
   "source": [
    "#hide\n",
    "# g = g[cols]"
   ]
  },
  {
   "cell_type": "code",
   "execution_count": 31,
   "id": "subject-dublin",
   "metadata": {
    "execution": {
     "iopub.execute_input": "2022-10-08T00:51:19.028333Z",
     "iopub.status.busy": "2022-10-08T00:51:19.027728Z",
     "iopub.status.idle": "2022-10-08T00:51:19.029937Z",
     "shell.execute_reply": "2022-10-08T00:51:19.030358Z"
    },
    "papermill": {
     "duration": 0.036659,
     "end_time": "2022-10-08T00:51:19.030494",
     "exception": false,
     "start_time": "2022-10-08T00:51:18.993835",
     "status": "completed"
    },
    "tags": []
   },
   "outputs": [],
   "source": [
    "#hide\n",
    "# g['continent'] = g['continent'].map(mapping['map.continent'])"
   ]
  },
  {
   "cell_type": "code",
   "execution_count": 32,
   "id": "freelance-scout",
   "metadata": {
    "execution": {
     "iopub.execute_input": "2022-10-08T00:51:19.095563Z",
     "iopub.status.busy": "2022-10-08T00:51:19.094874Z",
     "iopub.status.idle": "2022-10-08T00:51:19.097436Z",
     "shell.execute_reply": "2022-10-08T00:51:19.096943Z"
    },
    "papermill": {
     "duration": 0.03662,
     "end_time": "2022-10-08T00:51:19.097546",
     "exception": false,
     "start_time": "2022-10-08T00:51:19.060926",
     "status": "completed"
    },
    "tags": []
   },
   "outputs": [],
   "source": [
    "#hide\n",
    "# g.head()"
   ]
  },
  {
   "cell_type": "code",
   "execution_count": 33,
   "id": "limited-engine",
   "metadata": {
    "execution": {
     "iopub.execute_input": "2022-10-08T00:51:19.162596Z",
     "iopub.status.busy": "2022-10-08T00:51:19.162020Z",
     "iopub.status.idle": "2022-10-08T00:51:19.164428Z",
     "shell.execute_reply": "2022-10-08T00:51:19.164874Z"
    },
    "papermill": {
     "duration": 0.036964,
     "end_time": "2022-10-08T00:51:19.165006",
     "exception": false,
     "start_time": "2022-10-08T00:51:19.128042",
     "status": "completed"
    },
    "tags": []
   },
   "outputs": [],
   "source": [
    "# hide\n",
    "# g['date'] = g['date'].astype('datetime64[ns]')"
   ]
  },
  {
   "cell_type": "code",
   "execution_count": 34,
   "id": "sophisticated-supervisor",
   "metadata": {
    "execution": {
     "iopub.execute_input": "2022-10-08T00:51:19.229870Z",
     "iopub.status.busy": "2022-10-08T00:51:19.229267Z",
     "iopub.status.idle": "2022-10-08T00:51:19.231713Z",
     "shell.execute_reply": "2022-10-08T00:51:19.231148Z"
    },
    "papermill": {
     "duration": 0.036446,
     "end_time": "2022-10-08T00:51:19.231827",
     "exception": false,
     "start_time": "2022-10-08T00:51:19.195381",
     "status": "completed"
    },
    "tags": []
   },
   "outputs": [],
   "source": [
    "#hide\n",
    "# g['date'] = g.date.dt.dayofyear"
   ]
  },
  {
   "cell_type": "code",
   "execution_count": 35,
   "id": "inside-dubai",
   "metadata": {
    "execution": {
     "iopub.execute_input": "2022-10-08T00:51:19.298109Z",
     "iopub.status.busy": "2022-10-08T00:51:19.297408Z",
     "iopub.status.idle": "2022-10-08T00:51:19.301344Z",
     "shell.execute_reply": "2022-10-08T00:51:19.301766Z"
    },
    "papermill": {
     "duration": 0.039338,
     "end_time": "2022-10-08T00:51:19.301902",
     "exception": false,
     "start_time": "2022-10-08T00:51:19.262564",
     "status": "completed"
    },
    "tags": []
   },
   "outputs": [],
   "source": [
    "#hide\n",
    "# g = g.rename(columns= {'continent':'group','country':'name','cases':'value'})"
   ]
  },
  {
   "cell_type": "code",
   "execution_count": 36,
   "id": "fleet-motorcycle",
   "metadata": {
    "execution": {
     "iopub.execute_input": "2022-10-08T00:51:19.367753Z",
     "iopub.status.busy": "2022-10-08T00:51:19.367057Z",
     "iopub.status.idle": "2022-10-08T00:51:19.369377Z",
     "shell.execute_reply": "2022-10-08T00:51:19.368676Z"
    },
    "papermill": {
     "duration": 0.037033,
     "end_time": "2022-10-08T00:51:19.369507",
     "exception": false,
     "start_time": "2022-10-08T00:51:19.332474",
     "status": "completed"
    },
    "tags": []
   },
   "outputs": [],
   "source": [
    "#hide\n",
    "# cols = ['name','group','day','value']"
   ]
  },
  {
   "cell_type": "code",
   "execution_count": 37,
   "id": "continued-sleeping",
   "metadata": {
    "execution": {
     "iopub.execute_input": "2022-10-08T00:51:19.435236Z",
     "iopub.status.busy": "2022-10-08T00:51:19.434663Z",
     "iopub.status.idle": "2022-10-08T00:51:19.437233Z",
     "shell.execute_reply": "2022-10-08T00:51:19.437653Z"
    },
    "papermill": {
     "duration": 0.03744,
     "end_time": "2022-10-08T00:51:19.437788",
     "exception": false,
     "start_time": "2022-10-08T00:51:19.400348",
     "status": "completed"
    },
    "tags": []
   },
   "outputs": [],
   "source": [
    "#hide\n",
    "# g.rename(columns= {'date':'day'},inplace = True)"
   ]
  },
  {
   "cell_type": "code",
   "execution_count": 38,
   "id": "major-fight",
   "metadata": {
    "execution": {
     "iopub.execute_input": "2022-10-08T00:51:19.502876Z",
     "iopub.status.busy": "2022-10-08T00:51:19.502194Z",
     "iopub.status.idle": "2022-10-08T00:51:19.504254Z",
     "shell.execute_reply": "2022-10-08T00:51:19.503679Z"
    },
    "papermill": {
     "duration": 0.036219,
     "end_time": "2022-10-08T00:51:19.504363",
     "exception": false,
     "start_time": "2022-10-08T00:51:19.468144",
     "status": "completed"
    },
    "tags": []
   },
   "outputs": [],
   "source": [
    "#hide\n",
    "# g = g[cols]"
   ]
  },
  {
   "cell_type": "code",
   "execution_count": 39,
   "id": "structured-mobile",
   "metadata": {
    "execution": {
     "iopub.execute_input": "2022-10-08T00:51:19.569634Z",
     "iopub.status.busy": "2022-10-08T00:51:19.568940Z",
     "iopub.status.idle": "2022-10-08T00:51:19.571493Z",
     "shell.execute_reply": "2022-10-08T00:51:19.570849Z"
    },
    "papermill": {
     "duration": 0.036729,
     "end_time": "2022-10-08T00:51:19.571629",
     "exception": false,
     "start_time": "2022-10-08T00:51:19.534900",
     "status": "completed"
    },
    "tags": []
   },
   "outputs": [],
   "source": [
    "# #hide\n",
    "# g = g[g.group.notna()]"
   ]
  },
  {
   "cell_type": "code",
   "execution_count": 40,
   "id": "determined-closing",
   "metadata": {
    "execution": {
     "iopub.execute_input": "2022-10-08T00:51:19.637394Z",
     "iopub.status.busy": "2022-10-08T00:51:19.636765Z",
     "iopub.status.idle": "2022-10-08T00:51:19.639915Z",
     "shell.execute_reply": "2022-10-08T00:51:19.639442Z"
    },
    "papermill": {
     "duration": 0.037454,
     "end_time": "2022-10-08T00:51:19.640027",
     "exception": false,
     "start_time": "2022-10-08T00:51:19.602573",
     "status": "completed"
    },
    "tags": []
   },
   "outputs": [],
   "source": [
    "# #hide\n",
    "# colors = dict(zip(\n",
    "#     [\"Oceania\", \"Europe\", \"Asia\", \"South America\", \"Middle East\", \"North America\", \"Africa\"],\n",
    "#     [\"#adb0ff\", \"#ffb3ff\", \"#90d595\", \"#e48381\", \"#aafbff\", \"#f7bb5f\", \"#eafb50\"]\n",
    "# ))\n",
    "# group_lk = g.set_index('name')['group'].to_dict()"
   ]
  },
  {
   "cell_type": "code",
   "execution_count": null,
   "id": "gross-drinking",
   "metadata": {
    "papermill": {
     "duration": 0.030822,
     "end_time": "2022-10-08T00:51:19.701557",
     "exception": false,
     "start_time": "2022-10-08T00:51:19.670735",
     "status": "completed"
    },
    "tags": []
   },
   "outputs": [],
   "source": []
  },
  {
   "cell_type": "code",
   "execution_count": 41,
   "id": "subject-macintosh",
   "metadata": {
    "execution": {
     "iopub.execute_input": "2022-10-08T00:51:19.767755Z",
     "iopub.status.busy": "2022-10-08T00:51:19.767029Z",
     "iopub.status.idle": "2022-10-08T00:51:19.769551Z",
     "shell.execute_reply": "2022-10-08T00:51:19.769074Z"
    },
    "papermill": {
     "duration": 0.037362,
     "end_time": "2022-10-08T00:51:19.769663",
     "exception": false,
     "start_time": "2022-10-08T00:51:19.732301",
     "status": "completed"
    },
    "tags": []
   },
   "outputs": [],
   "source": [
    "# #hide\n",
    "# fig, ax = plt.subplots(figsize=(15, 8))\n",
    "\n",
    "# def draw_barchart(current_day):\n",
    "#     dff = g[g['day'].eq(current_day)].sort_values(by='value', ascending=True).tail(10)\n",
    "#     ax.clear()\n",
    "#     ax.barh(dff['name'], dff['value'], color=[colors[group_lk[x]] for x in dff['name']])\n",
    "#     dx = dff['value'].max() / 200\n",
    "    \n",
    "#     for i, (value, name) in enumerate(zip(dff['value'], dff['name'])):\n",
    "#         ax.text(value-dx, i,     name,           size=14, weight=600, ha='right', va='bottom')\n",
    "#         ax.text(value-dx, i-.25, group_lk[name], size=10, color='#444444', ha='right', va='baseline')\n",
    "#         ax.text(value+dx, i,     f'{value:,.0f}',  size=14, ha='left',  va='center')\n",
    "#     ax.text(1, 0.4, current_day, transform=ax.transAxes, color='#777777', size=46, ha='right', weight=800)\n",
    "#     ax.text(0, 1.06, 'Population (thousands)', transform=ax.transAxes, size=12, color='#777777')\n",
    "#     ax.xaxis.set_major_formatter(ticker.StrMethodFormatter('{x:,.0f}'))\n",
    "#     ax.xaxis.set_ticks_position('top')\n",
    "#     ax.tick_params(axis='x', colors='#777777', labelsize=12)\n",
    "#     ax.set_yticks([])\n",
    "#     ax.margins(0, 0.01)\n",
    "#     ax.grid(which='major', axis='x', linestyle='-')\n",
    "#     ax.set_axisbelow(True)\n",
    "    \n",
    "#     ax.text(0, 1.15, 'Coronavirus',\n",
    "#             transform=ax.transAxes, size=24, weight=600, ha='left', va='top')\n",
    "# #     ax.text(1, 0, 'by @pratapvardhan; credit @jburnmurdoch', transform=ax.transAxes, color='#777777', ha='right',\n",
    "# #             bbox=dict(facecolor='white', alpha=0.8, edgecolor='white'))\n",
    "#     plt.box(False)"
   ]
  },
  {
   "cell_type": "code",
   "execution_count": 42,
   "id": "sexual-wages",
   "metadata": {
    "execution": {
     "iopub.execute_input": "2022-10-08T00:51:19.834894Z",
     "iopub.status.busy": "2022-10-08T00:51:19.834218Z",
     "iopub.status.idle": "2022-10-08T00:51:19.836844Z",
     "shell.execute_reply": "2022-10-08T00:51:19.836171Z"
    },
    "papermill": {
     "duration": 0.036736,
     "end_time": "2022-10-08T00:51:19.836973",
     "exception": false,
     "start_time": "2022-10-08T00:51:19.800237",
     "status": "completed"
    },
    "tags": []
   },
   "outputs": [],
   "source": [
    "# #hide_input\n",
    "# fig, ax = plt.subplots(figsize=(15, 8))\n",
    "# animator = animation.FuncAnimation(fig, draw_barchart, frames=range(g.day.values.min(), g.day.values.max()))\n",
    "# HTML(animator.to_jshtml())\n",
    "# # or use animator.to_html5_video() or animator.save() "
   ]
  },
  {
   "cell_type": "code",
   "execution_count": null,
   "id": "australian-container",
   "metadata": {
    "papermill": {
     "duration": 0.030437,
     "end_time": "2022-10-08T00:51:19.898170",
     "exception": false,
     "start_time": "2022-10-08T00:51:19.867733",
     "status": "completed"
    },
    "tags": []
   },
   "outputs": [],
   "source": []
  },
  {
   "cell_type": "code",
   "execution_count": null,
   "id": "mediterranean-pontiac",
   "metadata": {
    "papermill": {
     "duration": 0.03038,
     "end_time": "2022-10-08T00:51:19.959521",
     "exception": false,
     "start_time": "2022-10-08T00:51:19.929141",
     "status": "completed"
    },
    "tags": []
   },
   "outputs": [],
   "source": []
  },
  {
   "cell_type": "code",
   "execution_count": null,
   "id": "aging-legislature",
   "metadata": {
    "papermill": {
     "duration": 0.030592,
     "end_time": "2022-10-08T00:51:20.020554",
     "exception": false,
     "start_time": "2022-10-08T00:51:19.989962",
     "status": "completed"
    },
    "tags": []
   },
   "outputs": [],
   "source": []
  }
 ],
 "metadata": {
  "kernelspec": {
   "display_name": "Python 3",
   "language": "python",
   "name": "python3"
  },
  "language_info": {
   "codemirror_mode": {
    "name": "ipython",
    "version": 3
   },
   "file_extension": ".py",
   "mimetype": "text/x-python",
   "name": "python",
   "nbconvert_exporter": "python",
   "pygments_lexer": "ipython3",
   "version": "3.6.15"
  },
  "papermill": {
   "duration": 6.063182,
   "end_time": "2022-10-08T00:51:20.478990",
   "environment_variables": {},
   "exception": null,
   "input_path": "2020-03-21-covid19exp.ipynb",
   "output_path": "2020-03-21-covid19exp.ipynb",
   "parameters": {},
   "start_time": "2022-10-08T00:51:14.415808",
   "version": "2.0.0"
  }
 },
 "nbformat": 4,
 "nbformat_minor": 5
}