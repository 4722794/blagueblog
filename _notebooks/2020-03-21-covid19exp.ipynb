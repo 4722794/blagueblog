{
 "cells": [
  {
   "cell_type": "markdown",
   "id": "muslim-click",
   "metadata": {
    "papermill": {
     "duration": 0.04697,
     "end_time": "2022-10-29T12:18:12.201013",
     "exception": false,
     "start_time": "2022-10-29T12:18:12.154043",
     "status": "completed"
    },
    "tags": []
   },
   "source": [
    "# COVID-19 Case Race\n",
    "> A race chart to see rising cases around the world\n",
    "\n",
    "- author: Hargun Oberoi\n",
    "- image: images/covid-overview.png\n",
    "- hide: false\n",
    "- badges: false"
   ]
  },
  {
   "cell_type": "code",
   "execution_count": 1,
   "id": "proof-material",
   "metadata": {
    "execution": {
     "iopub.execute_input": "2022-10-29T12:18:12.296756Z",
     "iopub.status.busy": "2022-10-29T12:18:12.295663Z",
     "iopub.status.idle": "2022-10-29T12:18:12.727772Z",
     "shell.execute_reply": "2022-10-29T12:18:12.727131Z"
    },
    "papermill": {
     "duration": 0.484124,
     "end_time": "2022-10-29T12:18:12.727946",
     "exception": false,
     "start_time": "2022-10-29T12:18:12.243822",
     "status": "completed"
    },
    "tags": []
   },
   "outputs": [],
   "source": [
    "#hide\n",
    "import numpy as np\n",
    "import pandas as pd\n",
    "from jinja2 import Template\n",
    "from IPython.display import HTML"
   ]
  },
  {
   "cell_type": "code",
   "execution_count": 2,
   "id": "developed-terminology",
   "metadata": {
    "execution": {
     "iopub.execute_input": "2022-10-29T12:18:12.833241Z",
     "iopub.status.busy": "2022-10-29T12:18:12.832236Z",
     "iopub.status.idle": "2022-10-29T12:18:12.838186Z",
     "shell.execute_reply": "2022-10-29T12:18:12.837440Z"
    },
    "papermill": {
     "duration": 0.064826,
     "end_time": "2022-10-29T12:18:12.838333",
     "exception": false,
     "start_time": "2022-10-29T12:18:12.773507",
     "status": "completed"
    },
    "tags": []
   },
   "outputs": [],
   "source": [
    "#hide\n",
    "\n",
    "# FETCH\n",
    "base_url = 'https://raw.githubusercontent.com/pratapvardhan/notebooks/master/covid19/'\n",
    "paths = {\n",
    "    'mapping': base_url + 'mapping_countries.csv',\n",
    "    'overview': base_url + 'overview.tpl'\n",
    "}"
   ]
  },
  {
   "cell_type": "code",
   "execution_count": 3,
   "id": "dynamic-saver",
   "metadata": {
    "execution": {
     "iopub.execute_input": "2022-10-29T12:18:12.936650Z",
     "iopub.status.busy": "2022-10-29T12:18:12.935965Z",
     "iopub.status.idle": "2022-10-29T12:18:12.941095Z",
     "shell.execute_reply": "2022-10-29T12:18:12.940342Z"
    },
    "papermill": {
     "duration": 0.059004,
     "end_time": "2022-10-29T12:18:12.941224",
     "exception": false,
     "start_time": "2022-10-29T12:18:12.882220",
     "status": "completed"
    },
    "tags": []
   },
   "outputs": [
    {
     "data": {
      "text/plain": [
       "'https://raw.githubusercontent.com/pratapvardhan/notebooks/master/covid19/mapping_countries.csv'"
      ]
     },
     "execution_count": 3,
     "metadata": {},
     "output_type": "execute_result"
    }
   ],
   "source": [
    "#hide\n",
    "paths['mapping']"
   ]
  },
  {
   "cell_type": "code",
   "execution_count": 4,
   "id": "urban-software",
   "metadata": {
    "execution": {
     "iopub.execute_input": "2022-10-29T12:18:13.031461Z",
     "iopub.status.busy": "2022-10-29T12:18:13.030524Z",
     "iopub.status.idle": "2022-10-29T12:18:13.033609Z",
     "shell.execute_reply": "2022-10-29T12:18:13.034239Z"
    },
    "papermill": {
     "duration": 0.050946,
     "end_time": "2022-10-29T12:18:13.034443",
     "exception": false,
     "start_time": "2022-10-29T12:18:12.983497",
     "status": "completed"
    },
    "tags": []
   },
   "outputs": [],
   "source": [
    "#hide\n",
    "def get_mappings(url):\n",
    "    df = pd.read_csv(url)\n",
    "    return {\n",
    "        'df': df,\n",
    "        'replace.country': dict(df.dropna(subset=['Name']).set_index('Country')['Name']),\n",
    "        'map.continent': dict(df.set_index('Name')['Continent'])\n",
    "    }"
   ]
  },
  {
   "cell_type": "code",
   "execution_count": 5,
   "id": "intimate-machinery",
   "metadata": {
    "execution": {
     "iopub.execute_input": "2022-10-29T12:18:13.121617Z",
     "iopub.status.busy": "2022-10-29T12:18:13.120963Z",
     "iopub.status.idle": "2022-10-29T12:18:13.174584Z",
     "shell.execute_reply": "2022-10-29T12:18:13.173974Z"
    },
    "papermill": {
     "duration": 0.099652,
     "end_time": "2022-10-29T12:18:13.174731",
     "exception": false,
     "start_time": "2022-10-29T12:18:13.075079",
     "status": "completed"
    },
    "tags": []
   },
   "outputs": [],
   "source": [
    "#hide\n",
    "mapping = get_mappings(paths['mapping'])"
   ]
  },
  {
   "cell_type": "code",
   "execution_count": 6,
   "id": "certified-tactics",
   "metadata": {
    "execution": {
     "iopub.execute_input": "2022-10-29T12:18:13.264824Z",
     "iopub.status.busy": "2022-10-29T12:18:13.263957Z",
     "iopub.status.idle": "2022-10-29T12:18:13.267683Z",
     "shell.execute_reply": "2022-10-29T12:18:13.267032Z"
    },
    "papermill": {
     "duration": 0.05232,
     "end_time": "2022-10-29T12:18:13.267816",
     "exception": false,
     "start_time": "2022-10-29T12:18:13.215496",
     "status": "completed"
    },
    "tags": []
   },
   "outputs": [],
   "source": [
    "#hide\n",
    "def get_template(path):\n",
    "    from urllib.parse import urlparse\n",
    "    if bool(urlparse(path).netloc):\n",
    "        from urllib.request import urlopen\n",
    "        return urlopen(path).read().decode('utf8')\n",
    "    return open(path).read()"
   ]
  },
  {
   "cell_type": "code",
   "execution_count": 7,
   "id": "realistic-blast",
   "metadata": {
    "execution": {
     "iopub.execute_input": "2022-10-29T12:18:13.353656Z",
     "iopub.status.busy": "2022-10-29T12:18:13.352762Z",
     "iopub.status.idle": "2022-10-29T12:18:13.356275Z",
     "shell.execute_reply": "2022-10-29T12:18:13.355575Z"
    },
    "papermill": {
     "duration": 0.049557,
     "end_time": "2022-10-29T12:18:13.356405",
     "exception": false,
     "start_time": "2022-10-29T12:18:13.306848",
     "status": "completed"
    },
    "tags": []
   },
   "outputs": [],
   "source": [
    "#hide\n",
    "def get_frame(name):\n",
    "    url = (\n",
    "        'https://raw.githubusercontent.com/CSSEGISandData/COVID-19/master/csse_covid_19_data/'\n",
    "        f'csse_covid_19_time_series/time_series_covid19_{name}_global.csv')\n",
    "    df = pd.read_csv(url)\n",
    "    # rename countries\n",
    "    df['Country/Region'] = df['Country/Region'].replace(mapping['replace.country'])\n",
    "    return df"
   ]
  },
  {
   "cell_type": "code",
   "execution_count": 8,
   "id": "affiliated-characterization",
   "metadata": {
    "execution": {
     "iopub.execute_input": "2022-10-29T12:18:13.441942Z",
     "iopub.status.busy": "2022-10-29T12:18:13.441054Z",
     "iopub.status.idle": "2022-10-29T12:18:13.444505Z",
     "shell.execute_reply": "2022-10-29T12:18:13.443907Z"
    },
    "papermill": {
     "duration": 0.049619,
     "end_time": "2022-10-29T12:18:13.444677",
     "exception": false,
     "start_time": "2022-10-29T12:18:13.395058",
     "status": "completed"
    },
    "tags": []
   },
   "outputs": [],
   "source": [
    "#hide\n",
    "def get_dates(df):\n",
    "    dt_cols = df.columns[~df.columns.isin(['Province/State', 'Country/Region', 'Lat', 'Long'])]\n",
    "    LAST_DATE_I = -1\n",
    "    # sometimes last column may be empty, then go backwards\n",
    "    for i in range(-1, -len(dt_cols), -1):\n",
    "        if not df[dt_cols[i]].fillna(0).eq(0).all():\n",
    "            LAST_DATE_I = i\n",
    "            break\n",
    "    return LAST_DATE_I, dt_cols"
   ]
  },
  {
   "cell_type": "code",
   "execution_count": 9,
   "id": "recent-optimization",
   "metadata": {
    "execution": {
     "iopub.execute_input": "2022-10-29T12:18:13.538757Z",
     "iopub.status.busy": "2022-10-29T12:18:13.537807Z",
     "iopub.status.idle": "2022-10-29T12:18:14.199904Z",
     "shell.execute_reply": "2022-10-29T12:18:14.199118Z"
    },
    "papermill": {
     "duration": 0.710643,
     "end_time": "2022-10-29T12:18:14.200046",
     "exception": false,
     "start_time": "2022-10-29T12:18:13.489403",
     "status": "completed"
    },
    "tags": []
   },
   "outputs": [],
   "source": [
    "#hide\n",
    "COL_REGION = 'Country/Region'\n",
    "# Confirmed, Recovered, Deaths\n",
    "df = get_frame('confirmed')\n",
    "# dft_: timeseries, dfc_: today country agg\n",
    "dft_cases = df\n",
    "dft_deaths = get_frame('deaths')\n",
    "dft_recovered = get_frame('recovered')\n",
    "LAST_DATE_I, dt_cols = get_dates(df)"
   ]
  },
  {
   "cell_type": "code",
   "execution_count": 10,
   "id": "absolute-copper",
   "metadata": {
    "execution": {
     "iopub.execute_input": "2022-10-29T12:18:14.288792Z",
     "iopub.status.busy": "2022-10-29T12:18:14.288089Z",
     "iopub.status.idle": "2022-10-29T12:18:14.292085Z",
     "shell.execute_reply": "2022-10-29T12:18:14.291082Z"
    },
    "papermill": {
     "duration": 0.051014,
     "end_time": "2022-10-29T12:18:14.292251",
     "exception": false,
     "start_time": "2022-10-29T12:18:14.241237",
     "status": "completed"
    },
    "tags": []
   },
   "outputs": [],
   "source": [
    "#hide\n",
    "LAST_DATE_I, dt_cols = get_dates(df)\n",
    "dt_today =dt_cols[LAST_DATE_I]\n",
    "# dt_5day = dt_cols[LAST_DATE_I - 5]\n",
    "dt_yday = dt_cols[LAST_DATE_I - 1]"
   ]
  },
  {
   "cell_type": "code",
   "execution_count": 11,
   "id": "restricted-sheriff",
   "metadata": {
    "execution": {
     "iopub.execute_input": "2022-10-29T12:18:14.379098Z",
     "iopub.status.busy": "2022-10-29T12:18:14.378181Z",
     "iopub.status.idle": "2022-10-29T12:18:14.393811Z",
     "shell.execute_reply": "2022-10-29T12:18:14.393168Z"
    },
    "papermill": {
     "duration": 0.06317,
     "end_time": "2022-10-29T12:18:14.393957",
     "exception": false,
     "start_time": "2022-10-29T12:18:14.330787",
     "status": "completed"
    },
    "tags": []
   },
   "outputs": [],
   "source": [
    "#hide\n",
    "dfc_cases = dft_cases.groupby(COL_REGION)[dt_today].sum()\n",
    "dfc_deaths = dft_deaths.groupby(COL_REGION)[dt_today].sum()\n",
    "# dfp_cases = dft_cases.groupby(COL_REGION)[dt_5day].sum()\n",
    "# dfp_deaths = dft_deaths.groupby(COL_REGION)[dt_5day].sum()\n",
    "dfp_cases = dft_cases.groupby(COL_REGION)[dt_yday].sum()\n",
    "dfp_deaths = dft_deaths.groupby(COL_REGION)[dt_yday].sum()"
   ]
  },
  {
   "cell_type": "code",
   "execution_count": 12,
   "id": "deluxe-hepatitis",
   "metadata": {
    "execution": {
     "iopub.execute_input": "2022-10-29T12:18:14.488453Z",
     "iopub.status.busy": "2022-10-29T12:18:14.487497Z",
     "iopub.status.idle": "2022-10-29T12:18:14.493979Z",
     "shell.execute_reply": "2022-10-29T12:18:14.493324Z"
    },
    "papermill": {
     "duration": 0.057835,
     "end_time": "2022-10-29T12:18:14.494143",
     "exception": false,
     "start_time": "2022-10-29T12:18:14.436308",
     "status": "completed"
    },
    "tags": []
   },
   "outputs": [],
   "source": [
    "#hide\n",
    "df_table = (pd.DataFrame(dict(Cases = dfc_cases, Deaths = dfc_deaths, PCases = dfp_cases, PDeaths = dfp_deaths))\n",
    "            .sort_values(by = ['Cases','Deaths'], ascending = [False, False])\n",
    "            .reset_index())"
   ]
  },
  {
   "cell_type": "code",
   "execution_count": 13,
   "id": "educational-chancellor",
   "metadata": {
    "execution": {
     "iopub.execute_input": "2022-10-29T12:18:14.601054Z",
     "iopub.status.busy": "2022-10-29T12:18:14.600331Z",
     "iopub.status.idle": "2022-10-29T12:18:14.612051Z",
     "shell.execute_reply": "2022-10-29T12:18:14.611173Z"
    },
    "papermill": {
     "duration": 0.077001,
     "end_time": "2022-10-29T12:18:14.612411",
     "exception": false,
     "start_time": "2022-10-29T12:18:14.535410",
     "status": "completed"
    },
    "tags": []
   },
   "outputs": [
    {
     "data": {
      "text/html": [
       "<div>\n",
       "<style scoped>\n",
       "    .dataframe tbody tr th:only-of-type {\n",
       "        vertical-align: middle;\n",
       "    }\n",
       "\n",
       "    .dataframe tbody tr th {\n",
       "        vertical-align: top;\n",
       "    }\n",
       "\n",
       "    .dataframe thead th {\n",
       "        text-align: right;\n",
       "    }\n",
       "</style>\n",
       "<table border=\"1\" class=\"dataframe\">\n",
       "  <thead>\n",
       "    <tr style=\"text-align: right;\">\n",
       "      <th></th>\n",
       "      <th>Country/Region</th>\n",
       "      <th>Cases</th>\n",
       "      <th>Deaths</th>\n",
       "      <th>PCases</th>\n",
       "      <th>PDeaths</th>\n",
       "      <th>Cases (+)</th>\n",
       "      <th>Deaths (+)</th>\n",
       "      <th>Fatality Rate</th>\n",
       "      <th>Continent</th>\n",
       "    </tr>\n",
       "  </thead>\n",
       "  <tbody>\n",
       "    <tr>\n",
       "      <th>0</th>\n",
       "      <td>US</td>\n",
       "      <td>97438900</td>\n",
       "      <td>1070234</td>\n",
       "      <td>97410671</td>\n",
       "      <td>1070055</td>\n",
       "      <td>28229</td>\n",
       "      <td>179</td>\n",
       "      <td>1.10</td>\n",
       "      <td>North America</td>\n",
       "    </tr>\n",
       "    <tr>\n",
       "      <th>1</th>\n",
       "      <td>India</td>\n",
       "      <td>44650662</td>\n",
       "      <td>529008</td>\n",
       "      <td>44649088</td>\n",
       "      <td>528999</td>\n",
       "      <td>1574</td>\n",
       "      <td>9</td>\n",
       "      <td>1.18</td>\n",
       "      <td>Asia</td>\n",
       "    </tr>\n",
       "    <tr>\n",
       "      <th>2</th>\n",
       "      <td>France</td>\n",
       "      <td>36987918</td>\n",
       "      <td>157872</td>\n",
       "      <td>36962135</td>\n",
       "      <td>157811</td>\n",
       "      <td>25783</td>\n",
       "      <td>61</td>\n",
       "      <td>0.43</td>\n",
       "      <td>Europe</td>\n",
       "    </tr>\n",
       "    <tr>\n",
       "      <th>3</th>\n",
       "      <td>Germany</td>\n",
       "      <td>35571130</td>\n",
       "      <td>153544</td>\n",
       "      <td>35523412</td>\n",
       "      <td>153377</td>\n",
       "      <td>47718</td>\n",
       "      <td>167</td>\n",
       "      <td>0.43</td>\n",
       "      <td>Europe</td>\n",
       "    </tr>\n",
       "    <tr>\n",
       "      <th>4</th>\n",
       "      <td>Brazil</td>\n",
       "      <td>34815258</td>\n",
       "      <td>687962</td>\n",
       "      <td>34815258</td>\n",
       "      <td>687962</td>\n",
       "      <td>0</td>\n",
       "      <td>0</td>\n",
       "      <td>1.98</td>\n",
       "      <td>South America</td>\n",
       "    </tr>\n",
       "  </tbody>\n",
       "</table>\n",
       "</div>"
      ],
      "text/plain": [
       "  Country/Region     Cases   Deaths    PCases  PDeaths  Cases (+)  Deaths (+)  \\\n",
       "0             US  97438900  1070234  97410671  1070055      28229         179   \n",
       "1          India  44650662   529008  44649088   528999       1574           9   \n",
       "2         France  36987918   157872  36962135   157811      25783          61   \n",
       "3        Germany  35571130   153544  35523412   153377      47718         167   \n",
       "4         Brazil  34815258   687962  34815258   687962          0           0   \n",
       "\n",
       "   Fatality Rate      Continent  \n",
       "0           1.10  North America  \n",
       "1           1.18           Asia  \n",
       "2           0.43         Europe  \n",
       "3           0.43         Europe  \n",
       "4           1.98  South America  "
      ]
     },
     "execution_count": 13,
     "metadata": {},
     "output_type": "execute_result"
    }
   ],
   "source": [
    "#hide\n",
    "for c in 'Cases, Deaths'.split(', '):\n",
    "    df_table[f'{c} (+)'] = (df_table[c] - df_table[f'P{c}']).clip(0)\n",
    "    #Clip ça veut dire, les chiffres negatif sont interdit\n",
    "df_table['Fatality Rate'] = (100* df_table['Deaths']/ df_table['Cases']).round(2)\n",
    "df_table['Continent'] = df_table['Country/Region'].map(mapping['map.continent'])\n",
    "df_table.head(5)"
   ]
  },
  {
   "cell_type": "code",
   "execution_count": 14,
   "id": "aboriginal-bulgaria",
   "metadata": {
    "execution": {
     "iopub.execute_input": "2022-10-29T12:18:14.704163Z",
     "iopub.status.busy": "2022-10-29T12:18:14.703351Z",
     "iopub.status.idle": "2022-10-29T12:18:14.707300Z",
     "shell.execute_reply": "2022-10-29T12:18:14.707911Z"
    },
    "papermill": {
     "duration": 0.053148,
     "end_time": "2022-10-29T12:18:14.708056",
     "exception": false,
     "start_time": "2022-10-29T12:18:14.654908",
     "status": "completed"
    },
    "tags": []
   },
   "outputs": [],
   "source": [
    "#hide\n",
    "#delete problematic countries from table\n",
    "df_table = df_table[~df_table['Country/Region'].isin(['Cape Verde', 'Cruise Ship', 'Kosovo'])]"
   ]
  },
  {
   "cell_type": "code",
   "execution_count": 15,
   "id": "fantastic-effect",
   "metadata": {
    "execution": {
     "iopub.execute_input": "2022-10-29T12:18:14.799858Z",
     "iopub.status.busy": "2022-10-29T12:18:14.798893Z",
     "iopub.status.idle": "2022-10-29T12:18:14.823327Z",
     "shell.execute_reply": "2022-10-29T12:18:14.824020Z"
    },
    "papermill": {
     "duration": 0.07796,
     "end_time": "2022-10-29T12:18:14.824184",
     "exception": false,
     "start_time": "2022-10-29T12:18:14.746224",
     "status": "completed"
    },
    "tags": []
   },
   "outputs": [
    {
     "data": {
      "text/html": [
       "<div>\n",
       "<style scoped>\n",
       "    .dataframe tbody tr th:only-of-type {\n",
       "        vertical-align: middle;\n",
       "    }\n",
       "\n",
       "    .dataframe tbody tr th {\n",
       "        vertical-align: top;\n",
       "    }\n",
       "\n",
       "    .dataframe thead th {\n",
       "        text-align: right;\n",
       "    }\n",
       "</style>\n",
       "<table border=\"1\" class=\"dataframe\">\n",
       "  <thead>\n",
       "    <tr style=\"text-align: right;\">\n",
       "      <th></th>\n",
       "      <th>Country/Region</th>\n",
       "      <th>Cases</th>\n",
       "      <th>Deaths</th>\n",
       "      <th>PCases</th>\n",
       "      <th>PDeaths</th>\n",
       "      <th>Cases (+)</th>\n",
       "      <th>Deaths (+)</th>\n",
       "      <th>Fatality Rate</th>\n",
       "      <th>Continent</th>\n",
       "    </tr>\n",
       "  </thead>\n",
       "  <tbody>\n",
       "    <tr>\n",
       "      <th>0</th>\n",
       "      <td>US</td>\n",
       "      <td>97438900</td>\n",
       "      <td>1070234</td>\n",
       "      <td>97410671</td>\n",
       "      <td>1070055</td>\n",
       "      <td>28229</td>\n",
       "      <td>179</td>\n",
       "      <td>1.1</td>\n",
       "      <td>North America</td>\n",
       "    </tr>\n",
       "    <tr>\n",
       "      <th>1</th>\n",
       "      <td>India</td>\n",
       "      <td>44650662</td>\n",
       "      <td>529008</td>\n",
       "      <td>44649088</td>\n",
       "      <td>528999</td>\n",
       "      <td>1574</td>\n",
       "      <td>9</td>\n",
       "      <td>1.2</td>\n",
       "      <td>Asia</td>\n",
       "    </tr>\n",
       "    <tr>\n",
       "      <th>2</th>\n",
       "      <td>France</td>\n",
       "      <td>36987918</td>\n",
       "      <td>157872</td>\n",
       "      <td>36962135</td>\n",
       "      <td>157811</td>\n",
       "      <td>25783</td>\n",
       "      <td>61</td>\n",
       "      <td>0.4</td>\n",
       "      <td>Europe</td>\n",
       "    </tr>\n",
       "    <tr>\n",
       "      <th>3</th>\n",
       "      <td>Germany</td>\n",
       "      <td>35571130</td>\n",
       "      <td>153544</td>\n",
       "      <td>35523412</td>\n",
       "      <td>153377</td>\n",
       "      <td>47718</td>\n",
       "      <td>167</td>\n",
       "      <td>0.4</td>\n",
       "      <td>Europe</td>\n",
       "    </tr>\n",
       "    <tr>\n",
       "      <th>4</th>\n",
       "      <td>Brazil</td>\n",
       "      <td>34815258</td>\n",
       "      <td>687962</td>\n",
       "      <td>34815258</td>\n",
       "      <td>687962</td>\n",
       "      <td>0</td>\n",
       "      <td>0</td>\n",
       "      <td>2.0</td>\n",
       "      <td>South America</td>\n",
       "    </tr>\n",
       "  </tbody>\n",
       "</table>\n",
       "</div>"
      ],
      "text/plain": [
       "  Country/Region     Cases   Deaths    PCases  PDeaths  Cases (+)  Deaths (+)  \\\n",
       "0             US  97438900  1070234  97410671  1070055      28229         179   \n",
       "1          India  44650662   529008  44649088   528999       1574           9   \n",
       "2         France  36987918   157872  36962135   157811      25783          61   \n",
       "3        Germany  35571130   153544  35523412   153377      47718         167   \n",
       "4         Brazil  34815258   687962  34815258   687962          0           0   \n",
       "\n",
       "   Fatality Rate      Continent  \n",
       "0            1.1  North America  \n",
       "1            1.2           Asia  \n",
       "2            0.4         Europe  \n",
       "3            0.4         Europe  \n",
       "4            2.0  South America  "
      ]
     },
     "execution_count": 15,
     "metadata": {},
     "output_type": "execute_result"
    }
   ],
   "source": [
    "#hide\n",
    "df_table = (pd.DataFrame(dict(Cases=dfc_cases, Deaths=dfc_deaths, PCases=dfp_cases, PDeaths=dfp_deaths))\n",
    "             .sort_values(by=['Cases', 'Deaths'], ascending=[False, False])\n",
    "             .reset_index())\n",
    "df_table.rename(columns={'index': 'Country/Region'}, inplace=True)\n",
    "for c in 'Cases, Deaths'.split(', '):\n",
    "    df_table[f'{c} (+)'] = (df_table[c] - df_table[f'P{c}']).clip(0)  # DATA BUG\n",
    "df_table['Fatality Rate'] = (100 * df_table['Deaths'] / df_table['Cases']).round(1)\n",
    "df_table['Continent'] = df_table['Country/Region'].map(mapping['map.continent'])\n",
    "df_table.head(5)"
   ]
  },
  {
   "cell_type": "code",
   "execution_count": 16,
   "id": "fewer-occasion",
   "metadata": {
    "execution": {
     "iopub.execute_input": "2022-10-29T12:18:14.927918Z",
     "iopub.status.busy": "2022-10-29T12:18:14.927130Z",
     "iopub.status.idle": "2022-10-29T12:18:14.931828Z",
     "shell.execute_reply": "2022-10-29T12:18:14.931147Z"
    },
    "papermill": {
     "duration": 0.055928,
     "end_time": "2022-10-29T12:18:14.931966",
     "exception": false,
     "start_time": "2022-10-29T12:18:14.876038",
     "status": "completed"
    },
    "tags": []
   },
   "outputs": [],
   "source": [
    "#hide\n",
    "#delete problematic countries from table\n",
    "df_table = df_table[~df_table['Country/Region'].isin(['Cape Verde', 'Cruise Ship', 'Kosovo'])]"
   ]
  },
  {
   "cell_type": "code",
   "execution_count": 17,
   "id": "related-center",
   "metadata": {
    "execution": {
     "iopub.execute_input": "2022-10-29T12:18:15.025540Z",
     "iopub.status.busy": "2022-10-29T12:18:15.024631Z",
     "iopub.status.idle": "2022-10-29T12:18:15.037293Z",
     "shell.execute_reply": "2022-10-29T12:18:15.037876Z"
    },
    "papermill": {
     "duration": 0.066912,
     "end_time": "2022-10-29T12:18:15.038036",
     "exception": false,
     "start_time": "2022-10-29T12:18:14.971124",
     "status": "completed"
    },
    "tags": []
   },
   "outputs": [],
   "source": [
    "#hide\n",
    "metrics = [df_table.columns[index] for index in [1,2,5,6]]\n",
    "# s_china = df_table[df_table['Country/Region'].eq('China')][metrics].sum().add_prefix('China ')\n",
    "s_us = df_table[df_table['Country/Region'].eq('US')][metrics].sum().add_prefix('US ')\n",
    "s_eu = df_table[df_table['Continent'].eq('Europe')][metrics].sum().add_prefix('EU ')\n",
    "s_ind = df_table[df_table['Country/Region'].eq('India')][metrics].sum().add_prefix('India ')\n",
    "summary = {'updated': pd.to_datetime(dt_today), 'since': pd.to_datetime(dt_yday)}\n",
    "summary = {'updated': pd.to_datetime(dt_today), 'since': pd.to_datetime(dt_yday)}\n",
    "summary = {**summary, **df_table[metrics].sum(), **s_ind, **s_us, **s_eu}"
   ]
  },
  {
   "cell_type": "code",
   "execution_count": 18,
   "id": "engaging-syndrome",
   "metadata": {
    "execution": {
     "iopub.execute_input": "2022-10-29T12:18:15.127436Z",
     "iopub.status.busy": "2022-10-29T12:18:15.126576Z",
     "iopub.status.idle": "2022-10-29T12:18:15.154649Z",
     "shell.execute_reply": "2022-10-29T12:18:15.153507Z"
    },
    "papermill": {
     "duration": 0.075223,
     "end_time": "2022-10-29T12:18:15.155060",
     "exception": false,
     "start_time": "2022-10-29T12:18:15.079837",
     "status": "completed"
    },
    "tags": []
   },
   "outputs": [],
   "source": [
    "#hide\n",
    "dft_ct_new_cases = dft_cases.groupby(COL_REGION)[dt_cols].sum().diff(axis=1).fillna(0).astype(int)"
   ]
  },
  {
   "cell_type": "code",
   "execution_count": 19,
   "id": "neutral-assignment",
   "metadata": {
    "execution": {
     "iopub.execute_input": "2022-10-29T12:18:15.251873Z",
     "iopub.status.busy": "2022-10-29T12:18:15.251041Z",
     "iopub.status.idle": "2022-10-29T12:18:15.253769Z",
     "shell.execute_reply": "2022-10-29T12:18:15.254618Z"
    },
    "papermill": {
     "duration": 0.051877,
     "end_time": "2022-10-29T12:18:15.254768",
     "exception": false,
     "start_time": "2022-10-29T12:18:15.202891",
     "status": "completed"
    },
    "tags": []
   },
   "outputs": [],
   "source": [
    "#hide\n",
    "everydaycases = dft_ct_new_cases.cumsum(axis=1)"
   ]
  },
  {
   "cell_type": "code",
   "execution_count": 20,
   "id": "parliamentary-calgary",
   "metadata": {
    "execution": {
     "iopub.execute_input": "2022-10-29T12:18:15.342649Z",
     "iopub.status.busy": "2022-10-29T12:18:15.341604Z",
     "iopub.status.idle": "2022-10-29T12:18:16.098793Z",
     "shell.execute_reply": "2022-10-29T12:18:16.099507Z"
    },
    "papermill": {
     "duration": 0.8032,
     "end_time": "2022-10-29T12:18:16.099683",
     "exception": false,
     "start_time": "2022-10-29T12:18:15.296483",
     "status": "completed"
    },
    "tags": []
   },
   "outputs": [],
   "source": [
    "#hide\n",
    "import pandas as pd\n",
    "import matplotlib.pyplot as plt\n",
    "import matplotlib.ticker as ticker\n",
    "import matplotlib.animation as animation\n",
    "from IPython.display import HTML"
   ]
  },
  {
   "cell_type": "code",
   "execution_count": 21,
   "id": "lasting-extraction",
   "metadata": {
    "execution": {
     "iopub.execute_input": "2022-10-29T12:18:16.190365Z",
     "iopub.status.busy": "2022-10-29T12:18:16.189552Z",
     "iopub.status.idle": "2022-10-29T12:18:16.200107Z",
     "shell.execute_reply": "2022-10-29T12:18:16.198704Z"
    },
    "papermill": {
     "duration": 0.060124,
     "end_time": "2022-10-29T12:18:16.200258",
     "exception": false,
     "start_time": "2022-10-29T12:18:16.140134",
     "status": "completed"
    },
    "tags": []
   },
   "outputs": [],
   "source": [
    "#hide\n",
    "t = everydaycases.stack()"
   ]
  },
  {
   "cell_type": "code",
   "execution_count": 22,
   "id": "premier-sleeve",
   "metadata": {
    "execution": {
     "iopub.execute_input": "2022-10-29T12:18:16.287259Z",
     "iopub.status.busy": "2022-10-29T12:18:16.286316Z",
     "iopub.status.idle": "2022-10-29T12:18:16.301337Z",
     "shell.execute_reply": "2022-10-29T12:18:16.302026Z"
    },
    "papermill": {
     "duration": 0.060919,
     "end_time": "2022-10-29T12:18:16.302187",
     "exception": false,
     "start_time": "2022-10-29T12:18:16.241268",
     "status": "completed"
    },
    "tags": []
   },
   "outputs": [],
   "source": [
    "#hide\n",
    "g = t.reset_index(['Country/Region'])"
   ]
  },
  {
   "cell_type": "code",
   "execution_count": 23,
   "id": "distributed-pittsburgh",
   "metadata": {
    "execution": {
     "iopub.execute_input": "2022-10-29T12:18:16.389671Z",
     "iopub.status.busy": "2022-10-29T12:18:16.388727Z",
     "iopub.status.idle": "2022-10-29T12:18:16.392200Z",
     "shell.execute_reply": "2022-10-29T12:18:16.391583Z"
    },
    "papermill": {
     "duration": 0.049807,
     "end_time": "2022-10-29T12:18:16.392335",
     "exception": false,
     "start_time": "2022-10-29T12:18:16.342528",
     "status": "completed"
    },
    "tags": []
   },
   "outputs": [],
   "source": [
    "#hide\n",
    "g.index.name = 'date'"
   ]
  },
  {
   "cell_type": "code",
   "execution_count": 24,
   "id": "naked-donor",
   "metadata": {
    "execution": {
     "iopub.execute_input": "2022-10-29T12:18:16.478912Z",
     "iopub.status.busy": "2022-10-29T12:18:16.478124Z",
     "iopub.status.idle": "2022-10-29T12:18:16.481317Z",
     "shell.execute_reply": "2022-10-29T12:18:16.480614Z"
    },
    "papermill": {
     "duration": 0.049425,
     "end_time": "2022-10-29T12:18:16.481459",
     "exception": false,
     "start_time": "2022-10-29T12:18:16.432034",
     "status": "completed"
    },
    "tags": []
   },
   "outputs": [],
   "source": [
    "# #hide\n",
    "# g = g.reset_index(['date'])"
   ]
  },
  {
   "cell_type": "code",
   "execution_count": 25,
   "id": "incomplete-mustang",
   "metadata": {
    "execution": {
     "iopub.execute_input": "2022-10-29T12:18:16.566641Z",
     "iopub.status.busy": "2022-10-29T12:18:16.565769Z",
     "iopub.status.idle": "2022-10-29T12:18:16.569481Z",
     "shell.execute_reply": "2022-10-29T12:18:16.568390Z"
    },
    "papermill": {
     "duration": 0.047841,
     "end_time": "2022-10-29T12:18:16.569622",
     "exception": false,
     "start_time": "2022-10-29T12:18:16.521781",
     "status": "completed"
    },
    "tags": []
   },
   "outputs": [],
   "source": [
    "#hide\n",
    "# g.head()"
   ]
  },
  {
   "cell_type": "code",
   "execution_count": 26,
   "id": "specific-kruger",
   "metadata": {
    "execution": {
     "iopub.execute_input": "2022-10-29T12:18:16.655918Z",
     "iopub.status.busy": "2022-10-29T12:18:16.655143Z",
     "iopub.status.idle": "2022-10-29T12:18:16.657630Z",
     "shell.execute_reply": "2022-10-29T12:18:16.658144Z"
    },
    "papermill": {
     "duration": 0.046684,
     "end_time": "2022-10-29T12:18:16.658291",
     "exception": false,
     "start_time": "2022-10-29T12:18:16.611607",
     "status": "completed"
    },
    "tags": []
   },
   "outputs": [],
   "source": [
    "#hide\n",
    "# g.columns = ['date','country','cases']"
   ]
  },
  {
   "cell_type": "code",
   "execution_count": 27,
   "id": "tender-conversion",
   "metadata": {
    "execution": {
     "iopub.execute_input": "2022-10-29T12:18:16.744623Z",
     "iopub.status.busy": "2022-10-29T12:18:16.743683Z",
     "iopub.status.idle": "2022-10-29T12:18:16.746595Z",
     "shell.execute_reply": "2022-10-29T12:18:16.747166Z"
    },
    "papermill": {
     "duration": 0.049024,
     "end_time": "2022-10-29T12:18:16.747348",
     "exception": false,
     "start_time": "2022-10-29T12:18:16.698324",
     "status": "completed"
    },
    "tags": []
   },
   "outputs": [],
   "source": [
    "#hide\n",
    "# g['continent'] = g.country"
   ]
  },
  {
   "cell_type": "code",
   "execution_count": 28,
   "id": "substantial-wilderness",
   "metadata": {
    "execution": {
     "iopub.execute_input": "2022-10-29T12:18:16.834812Z",
     "iopub.status.busy": "2022-10-29T12:18:16.834098Z",
     "iopub.status.idle": "2022-10-29T12:18:16.836909Z",
     "shell.execute_reply": "2022-10-29T12:18:16.837523Z"
    },
    "papermill": {
     "duration": 0.047142,
     "end_time": "2022-10-29T12:18:16.837676",
     "exception": false,
     "start_time": "2022-10-29T12:18:16.790534",
     "status": "completed"
    },
    "tags": []
   },
   "outputs": [],
   "source": [
    "#hide\n",
    "# cols = list(g.columns.values)"
   ]
  },
  {
   "cell_type": "code",
   "execution_count": 29,
   "id": "solved-farming",
   "metadata": {
    "execution": {
     "iopub.execute_input": "2022-10-29T12:18:16.924202Z",
     "iopub.status.busy": "2022-10-29T12:18:16.923411Z",
     "iopub.status.idle": "2022-10-29T12:18:16.925772Z",
     "shell.execute_reply": "2022-10-29T12:18:16.926316Z"
    },
    "papermill": {
     "duration": 0.049018,
     "end_time": "2022-10-29T12:18:16.926473",
     "exception": false,
     "start_time": "2022-10-29T12:18:16.877455",
     "status": "completed"
    },
    "tags": []
   },
   "outputs": [],
   "source": [
    "#hide\n",
    "# cols.insert(0, cols.pop())"
   ]
  },
  {
   "cell_type": "code",
   "execution_count": 30,
   "id": "executed-adoption",
   "metadata": {
    "execution": {
     "iopub.execute_input": "2022-10-29T12:18:17.011415Z",
     "iopub.status.busy": "2022-10-29T12:18:17.010470Z",
     "iopub.status.idle": "2022-10-29T12:18:17.014343Z",
     "shell.execute_reply": "2022-10-29T12:18:17.013549Z"
    },
    "papermill": {
     "duration": 0.047645,
     "end_time": "2022-10-29T12:18:17.014502",
     "exception": false,
     "start_time": "2022-10-29T12:18:16.966857",
     "status": "completed"
    },
    "tags": []
   },
   "outputs": [],
   "source": [
    "#hide\n",
    "# g = g[cols]"
   ]
  },
  {
   "cell_type": "code",
   "execution_count": 31,
   "id": "subject-dublin",
   "metadata": {
    "execution": {
     "iopub.execute_input": "2022-10-29T12:18:17.102214Z",
     "iopub.status.busy": "2022-10-29T12:18:17.101272Z",
     "iopub.status.idle": "2022-10-29T12:18:17.104481Z",
     "shell.execute_reply": "2022-10-29T12:18:17.103811Z"
    },
    "papermill": {
     "duration": 0.05015,
     "end_time": "2022-10-29T12:18:17.104605",
     "exception": false,
     "start_time": "2022-10-29T12:18:17.054455",
     "status": "completed"
    },
    "tags": []
   },
   "outputs": [],
   "source": [
    "#hide\n",
    "# g['continent'] = g['continent'].map(mapping['map.continent'])"
   ]
  },
  {
   "cell_type": "code",
   "execution_count": 32,
   "id": "freelance-scout",
   "metadata": {
    "execution": {
     "iopub.execute_input": "2022-10-29T12:18:17.190922Z",
     "iopub.status.busy": "2022-10-29T12:18:17.190228Z",
     "iopub.status.idle": "2022-10-29T12:18:17.193660Z",
     "shell.execute_reply": "2022-10-29T12:18:17.193078Z"
    },
    "papermill": {
     "duration": 0.047778,
     "end_time": "2022-10-29T12:18:17.193934",
     "exception": false,
     "start_time": "2022-10-29T12:18:17.146156",
     "status": "completed"
    },
    "tags": []
   },
   "outputs": [],
   "source": [
    "#hide\n",
    "# g.head()"
   ]
  },
  {
   "cell_type": "code",
   "execution_count": 33,
   "id": "limited-engine",
   "metadata": {
    "execution": {
     "iopub.execute_input": "2022-10-29T12:18:17.286324Z",
     "iopub.status.busy": "2022-10-29T12:18:17.285366Z",
     "iopub.status.idle": "2022-10-29T12:18:17.289115Z",
     "shell.execute_reply": "2022-10-29T12:18:17.288331Z"
    },
    "papermill": {
     "duration": 0.051913,
     "end_time": "2022-10-29T12:18:17.289281",
     "exception": false,
     "start_time": "2022-10-29T12:18:17.237368",
     "status": "completed"
    },
    "tags": []
   },
   "outputs": [],
   "source": [
    "# hide\n",
    "# g['date'] = g['date'].astype('datetime64[ns]')"
   ]
  },
  {
   "cell_type": "code",
   "execution_count": 34,
   "id": "sophisticated-supervisor",
   "metadata": {
    "execution": {
     "iopub.execute_input": "2022-10-29T12:18:17.379761Z",
     "iopub.status.busy": "2022-10-29T12:18:17.378972Z",
     "iopub.status.idle": "2022-10-29T12:18:17.382437Z",
     "shell.execute_reply": "2022-10-29T12:18:17.381854Z"
    },
    "papermill": {
     "duration": 0.050254,
     "end_time": "2022-10-29T12:18:17.382590",
     "exception": false,
     "start_time": "2022-10-29T12:18:17.332336",
     "status": "completed"
    },
    "tags": []
   },
   "outputs": [],
   "source": [
    "#hide\n",
    "# g['date'] = g.date.dt.dayofyear"
   ]
  },
  {
   "cell_type": "code",
   "execution_count": 35,
   "id": "inside-dubai",
   "metadata": {
    "execution": {
     "iopub.execute_input": "2022-10-29T12:18:17.472832Z",
     "iopub.status.busy": "2022-10-29T12:18:17.472016Z",
     "iopub.status.idle": "2022-10-29T12:18:17.475327Z",
     "shell.execute_reply": "2022-10-29T12:18:17.474693Z"
    },
    "papermill": {
     "duration": 0.051356,
     "end_time": "2022-10-29T12:18:17.475467",
     "exception": false,
     "start_time": "2022-10-29T12:18:17.424111",
     "status": "completed"
    },
    "tags": []
   },
   "outputs": [],
   "source": [
    "#hide\n",
    "# g = g.rename(columns= {'continent':'group','country':'name','cases':'value'})"
   ]
  },
  {
   "cell_type": "code",
   "execution_count": 36,
   "id": "fleet-motorcycle",
   "metadata": {
    "execution": {
     "iopub.execute_input": "2022-10-29T12:18:17.568628Z",
     "iopub.status.busy": "2022-10-29T12:18:17.567802Z",
     "iopub.status.idle": "2022-10-29T12:18:17.569554Z",
     "shell.execute_reply": "2022-10-29T12:18:17.570216Z"
    },
    "papermill": {
     "duration": 0.051126,
     "end_time": "2022-10-29T12:18:17.570406",
     "exception": false,
     "start_time": "2022-10-29T12:18:17.519280",
     "status": "completed"
    },
    "tags": []
   },
   "outputs": [],
   "source": [
    "#hide\n",
    "# cols = ['name','group','day','value']"
   ]
  },
  {
   "cell_type": "code",
   "execution_count": 37,
   "id": "continued-sleeping",
   "metadata": {
    "execution": {
     "iopub.execute_input": "2022-10-29T12:18:17.655813Z",
     "iopub.status.busy": "2022-10-29T12:18:17.654794Z",
     "iopub.status.idle": "2022-10-29T12:18:17.657908Z",
     "shell.execute_reply": "2022-10-29T12:18:17.657271Z"
    },
    "papermill": {
     "duration": 0.047181,
     "end_time": "2022-10-29T12:18:17.658039",
     "exception": false,
     "start_time": "2022-10-29T12:18:17.610858",
     "status": "completed"
    },
    "tags": []
   },
   "outputs": [],
   "source": [
    "#hide\n",
    "# g.rename(columns= {'date':'day'},inplace = True)"
   ]
  },
  {
   "cell_type": "code",
   "execution_count": 38,
   "id": "major-fight",
   "metadata": {
    "execution": {
     "iopub.execute_input": "2022-10-29T12:18:17.759485Z",
     "iopub.status.busy": "2022-10-29T12:18:17.758563Z",
     "iopub.status.idle": "2022-10-29T12:18:17.761674Z",
     "shell.execute_reply": "2022-10-29T12:18:17.762297Z"
    },
    "papermill": {
     "duration": 0.057437,
     "end_time": "2022-10-29T12:18:17.762528",
     "exception": false,
     "start_time": "2022-10-29T12:18:17.705091",
     "status": "completed"
    },
    "tags": []
   },
   "outputs": [],
   "source": [
    "#hide\n",
    "# g = g[cols]"
   ]
  },
  {
   "cell_type": "code",
   "execution_count": 39,
   "id": "structured-mobile",
   "metadata": {
    "execution": {
     "iopub.execute_input": "2022-10-29T12:18:17.854858Z",
     "iopub.status.busy": "2022-10-29T12:18:17.854161Z",
     "iopub.status.idle": "2022-10-29T12:18:17.856993Z",
     "shell.execute_reply": "2022-10-29T12:18:17.856313Z"
    },
    "papermill": {
     "duration": 0.048431,
     "end_time": "2022-10-29T12:18:17.857120",
     "exception": false,
     "start_time": "2022-10-29T12:18:17.808689",
     "status": "completed"
    },
    "tags": []
   },
   "outputs": [],
   "source": [
    "# #hide\n",
    "# g = g[g.group.notna()]"
   ]
  },
  {
   "cell_type": "code",
   "execution_count": 40,
   "id": "determined-closing",
   "metadata": {
    "execution": {
     "iopub.execute_input": "2022-10-29T12:18:17.942277Z",
     "iopub.status.busy": "2022-10-29T12:18:17.941474Z",
     "iopub.status.idle": "2022-10-29T12:18:17.946732Z",
     "shell.execute_reply": "2022-10-29T12:18:17.946152Z"
    },
    "papermill": {
     "duration": 0.051579,
     "end_time": "2022-10-29T12:18:17.946869",
     "exception": false,
     "start_time": "2022-10-29T12:18:17.895290",
     "status": "completed"
    },
    "tags": []
   },
   "outputs": [],
   "source": [
    "# #hide\n",
    "# colors = dict(zip(\n",
    "#     [\"Oceania\", \"Europe\", \"Asia\", \"South America\", \"Middle East\", \"North America\", \"Africa\"],\n",
    "#     [\"#adb0ff\", \"#ffb3ff\", \"#90d595\", \"#e48381\", \"#aafbff\", \"#f7bb5f\", \"#eafb50\"]\n",
    "# ))\n",
    "# group_lk = g.set_index('name')['group'].to_dict()"
   ]
  },
  {
   "cell_type": "code",
   "execution_count": null,
   "id": "gross-drinking",
   "metadata": {
    "papermill": {
     "duration": 0.042139,
     "end_time": "2022-10-29T12:18:18.029594",
     "exception": false,
     "start_time": "2022-10-29T12:18:17.987455",
     "status": "completed"
    },
    "tags": []
   },
   "outputs": [],
   "source": []
  },
  {
   "cell_type": "code",
   "execution_count": 41,
   "id": "subject-macintosh",
   "metadata": {
    "execution": {
     "iopub.execute_input": "2022-10-29T12:18:18.126530Z",
     "iopub.status.busy": "2022-10-29T12:18:18.125576Z",
     "iopub.status.idle": "2022-10-29T12:18:18.132809Z",
     "shell.execute_reply": "2022-10-29T12:18:18.132013Z"
    },
    "papermill": {
     "duration": 0.060226,
     "end_time": "2022-10-29T12:18:18.132964",
     "exception": false,
     "start_time": "2022-10-29T12:18:18.072738",
     "status": "completed"
    },
    "tags": []
   },
   "outputs": [],
   "source": [
    "# #hide\n",
    "# fig, ax = plt.subplots(figsize=(15, 8))\n",
    "\n",
    "# def draw_barchart(current_day):\n",
    "#     dff = g[g['day'].eq(current_day)].sort_values(by='value', ascending=True).tail(10)\n",
    "#     ax.clear()\n",
    "#     ax.barh(dff['name'], dff['value'], color=[colors[group_lk[x]] for x in dff['name']])\n",
    "#     dx = dff['value'].max() / 200\n",
    "    \n",
    "#     for i, (value, name) in enumerate(zip(dff['value'], dff['name'])):\n",
    "#         ax.text(value-dx, i,     name,           size=14, weight=600, ha='right', va='bottom')\n",
    "#         ax.text(value-dx, i-.25, group_lk[name], size=10, color='#444444', ha='right', va='baseline')\n",
    "#         ax.text(value+dx, i,     f'{value:,.0f}',  size=14, ha='left',  va='center')\n",
    "#     ax.text(1, 0.4, current_day, transform=ax.transAxes, color='#777777', size=46, ha='right', weight=800)\n",
    "#     ax.text(0, 1.06, 'Population (thousands)', transform=ax.transAxes, size=12, color='#777777')\n",
    "#     ax.xaxis.set_major_formatter(ticker.StrMethodFormatter('{x:,.0f}'))\n",
    "#     ax.xaxis.set_ticks_position('top')\n",
    "#     ax.tick_params(axis='x', colors='#777777', labelsize=12)\n",
    "#     ax.set_yticks([])\n",
    "#     ax.margins(0, 0.01)\n",
    "#     ax.grid(which='major', axis='x', linestyle='-')\n",
    "#     ax.set_axisbelow(True)\n",
    "    \n",
    "#     ax.text(0, 1.15, 'Coronavirus',\n",
    "#             transform=ax.transAxes, size=24, weight=600, ha='left', va='top')\n",
    "# #     ax.text(1, 0, 'by @pratapvardhan; credit @jburnmurdoch', transform=ax.transAxes, color='#777777', ha='right',\n",
    "# #             bbox=dict(facecolor='white', alpha=0.8, edgecolor='white'))\n",
    "#     plt.box(False)"
   ]
  },
  {
   "cell_type": "code",
   "execution_count": 42,
   "id": "sexual-wages",
   "metadata": {
    "execution": {
     "iopub.execute_input": "2022-10-29T12:18:18.223431Z",
     "iopub.status.busy": "2022-10-29T12:18:18.222604Z",
     "iopub.status.idle": "2022-10-29T12:18:18.225814Z",
     "shell.execute_reply": "2022-10-29T12:18:18.225069Z"
    },
    "papermill": {
     "duration": 0.049101,
     "end_time": "2022-10-29T12:18:18.225953",
     "exception": false,
     "start_time": "2022-10-29T12:18:18.176852",
     "status": "completed"
    },
    "tags": []
   },
   "outputs": [],
   "source": [
    "# #hide_input\n",
    "# fig, ax = plt.subplots(figsize=(15, 8))\n",
    "# animator = animation.FuncAnimation(fig, draw_barchart, frames=range(g.day.values.min(), g.day.values.max()))\n",
    "# HTML(animator.to_jshtml())\n",
    "# # or use animator.to_html5_video() or animator.save() "
   ]
  },
  {
   "cell_type": "code",
   "execution_count": null,
   "id": "australian-container",
   "metadata": {
    "papermill": {
     "duration": 0.041499,
     "end_time": "2022-10-29T12:18:18.309585",
     "exception": false,
     "start_time": "2022-10-29T12:18:18.268086",
     "status": "completed"
    },
    "tags": []
   },
   "outputs": [],
   "source": []
  },
  {
   "cell_type": "code",
   "execution_count": null,
   "id": "mediterranean-pontiac",
   "metadata": {
    "papermill": {
     "duration": 0.040136,
     "end_time": "2022-10-29T12:18:18.392055",
     "exception": false,
     "start_time": "2022-10-29T12:18:18.351919",
     "status": "completed"
    },
    "tags": []
   },
   "outputs": [],
   "source": []
  },
  {
   "cell_type": "code",
   "execution_count": null,
   "id": "aging-legislature",
   "metadata": {
    "papermill": {
     "duration": 0.039332,
     "end_time": "2022-10-29T12:18:18.470893",
     "exception": false,
     "start_time": "2022-10-29T12:18:18.431561",
     "status": "completed"
    },
    "tags": []
   },
   "outputs": [],
   "source": []
  }
 ],
 "metadata": {
  "kernelspec": {
   "display_name": "Python 3",
   "language": "python",
   "name": "python3"
  },
  "language_info": {
   "codemirror_mode": {
    "name": "ipython",
    "version": 3
   },
   "file_extension": ".py",
   "mimetype": "text/x-python",
   "name": "python",
   "nbconvert_exporter": "python",
   "pygments_lexer": "ipython3",
   "version": "3.6.15"
  },
  "papermill": {
   "duration": 8.168897,
   "end_time": "2022-10-29T12:18:18.932510",
   "environment_variables": {},
   "exception": null,
   "input_path": "2020-03-21-covid19exp.ipynb",
   "output_path": "2020-03-21-covid19exp.ipynb",
   "parameters": {},
   "start_time": "2022-10-29T12:18:10.763613",
   "version": "2.0.0"
  }
 },
 "nbformat": 4,
 "nbformat_minor": 5
}