{
 "cells": [
  {
   "cell_type": "markdown",
   "id": "muslim-click",
   "metadata": {
    "papermill": {
     "duration": 0.034739,
     "end_time": "2022-11-04T00:51:23.888236",
     "exception": false,
     "start_time": "2022-11-04T00:51:23.853497",
     "status": "completed"
    },
    "tags": []
   },
   "source": [
    "# COVID-19 Case Race\n",
    "> A race chart to see rising cases around the world\n",
    "\n",
    "- author: Hargun Oberoi\n",
    "- image: images/covid-overview.png\n",
    "- hide: false\n",
    "- badges: false"
   ]
  },
  {
   "cell_type": "code",
   "execution_count": 1,
   "id": "proof-material",
   "metadata": {
    "execution": {
     "iopub.execute_input": "2022-11-04T00:51:23.957494Z",
     "iopub.status.busy": "2022-11-04T00:51:23.955006Z",
     "iopub.status.idle": "2022-11-04T00:51:24.274753Z",
     "shell.execute_reply": "2022-11-04T00:51:24.273837Z"
    },
    "papermill": {
     "duration": 0.356821,
     "end_time": "2022-11-04T00:51:24.274903",
     "exception": false,
     "start_time": "2022-11-04T00:51:23.918082",
     "status": "completed"
    },
    "tags": []
   },
   "outputs": [],
   "source": [
    "#hide\n",
    "import numpy as np\n",
    "import pandas as pd\n",
    "from jinja2 import Template\n",
    "from IPython.display import HTML"
   ]
  },
  {
   "cell_type": "code",
   "execution_count": 2,
   "id": "developed-terminology",
   "metadata": {
    "execution": {
     "iopub.execute_input": "2022-11-04T00:51:24.338455Z",
     "iopub.status.busy": "2022-11-04T00:51:24.337719Z",
     "iopub.status.idle": "2022-11-04T00:51:24.339374Z",
     "shell.execute_reply": "2022-11-04T00:51:24.340111Z"
    },
    "papermill": {
     "duration": 0.036001,
     "end_time": "2022-11-04T00:51:24.340259",
     "exception": false,
     "start_time": "2022-11-04T00:51:24.304258",
     "status": "completed"
    },
    "tags": []
   },
   "outputs": [],
   "source": [
    "#hide\n",
    "\n",
    "# FETCH\n",
    "base_url = 'https://raw.githubusercontent.com/pratapvardhan/notebooks/master/covid19/'\n",
    "paths = {\n",
    "    'mapping': base_url + 'mapping_countries.csv',\n",
    "    'overview': base_url + 'overview.tpl'\n",
    "}"
   ]
  },
  {
   "cell_type": "code",
   "execution_count": 3,
   "id": "dynamic-saver",
   "metadata": {
    "execution": {
     "iopub.execute_input": "2022-11-04T00:51:24.407562Z",
     "iopub.status.busy": "2022-11-04T00:51:24.406979Z",
     "iopub.status.idle": "2022-11-04T00:51:24.411730Z",
     "shell.execute_reply": "2022-11-04T00:51:24.412266Z"
    },
    "papermill": {
     "duration": 0.042416,
     "end_time": "2022-11-04T00:51:24.412393",
     "exception": false,
     "start_time": "2022-11-04T00:51:24.369977",
     "status": "completed"
    },
    "tags": []
   },
   "outputs": [
    {
     "data": {
      "text/plain": [
       "'https://raw.githubusercontent.com/pratapvardhan/notebooks/master/covid19/mapping_countries.csv'"
      ]
     },
     "execution_count": 3,
     "metadata": {},
     "output_type": "execute_result"
    }
   ],
   "source": [
    "#hide\n",
    "paths['mapping']"
   ]
  },
  {
   "cell_type": "code",
   "execution_count": 4,
   "id": "urban-software",
   "metadata": {
    "execution": {
     "iopub.execute_input": "2022-11-04T00:51:24.476723Z",
     "iopub.status.busy": "2022-11-04T00:51:24.476057Z",
     "iopub.status.idle": "2022-11-04T00:51:24.478510Z",
     "shell.execute_reply": "2022-11-04T00:51:24.478030Z"
    },
    "papermill": {
     "duration": 0.036751,
     "end_time": "2022-11-04T00:51:24.478617",
     "exception": false,
     "start_time": "2022-11-04T00:51:24.441866",
     "status": "completed"
    },
    "tags": []
   },
   "outputs": [],
   "source": [
    "#hide\n",
    "def get_mappings(url):\n",
    "    df = pd.read_csv(url)\n",
    "    return {\n",
    "        'df': df,\n",
    "        'replace.country': dict(df.dropna(subset=['Name']).set_index('Country')['Name']),\n",
    "        'map.continent': dict(df.set_index('Name')['Continent'])\n",
    "    }"
   ]
  },
  {
   "cell_type": "code",
   "execution_count": 5,
   "id": "intimate-machinery",
   "metadata": {
    "execution": {
     "iopub.execute_input": "2022-11-04T00:51:24.543131Z",
     "iopub.status.busy": "2022-11-04T00:51:24.542558Z",
     "iopub.status.idle": "2022-11-04T00:51:24.613981Z",
     "shell.execute_reply": "2022-11-04T00:51:24.613369Z"
    },
    "papermill": {
     "duration": 0.105985,
     "end_time": "2022-11-04T00:51:24.614116",
     "exception": false,
     "start_time": "2022-11-04T00:51:24.508131",
     "status": "completed"
    },
    "tags": []
   },
   "outputs": [],
   "source": [
    "#hide\n",
    "mapping = get_mappings(paths['mapping'])"
   ]
  },
  {
   "cell_type": "code",
   "execution_count": 6,
   "id": "certified-tactics",
   "metadata": {
    "execution": {
     "iopub.execute_input": "2022-11-04T00:51:24.680036Z",
     "iopub.status.busy": "2022-11-04T00:51:24.679321Z",
     "iopub.status.idle": "2022-11-04T00:51:24.681771Z",
     "shell.execute_reply": "2022-11-04T00:51:24.681302Z"
    },
    "papermill": {
     "duration": 0.037225,
     "end_time": "2022-11-04T00:51:24.681881",
     "exception": false,
     "start_time": "2022-11-04T00:51:24.644656",
     "status": "completed"
    },
    "tags": []
   },
   "outputs": [],
   "source": [
    "#hide\n",
    "def get_template(path):\n",
    "    from urllib.parse import urlparse\n",
    "    if bool(urlparse(path).netloc):\n",
    "        from urllib.request import urlopen\n",
    "        return urlopen(path).read().decode('utf8')\n",
    "    return open(path).read()"
   ]
  },
  {
   "cell_type": "code",
   "execution_count": 7,
   "id": "realistic-blast",
   "metadata": {
    "execution": {
     "iopub.execute_input": "2022-11-04T00:51:24.745947Z",
     "iopub.status.busy": "2022-11-04T00:51:24.745341Z",
     "iopub.status.idle": "2022-11-04T00:51:24.747312Z",
     "shell.execute_reply": "2022-11-04T00:51:24.747872Z"
    },
    "papermill": {
     "duration": 0.036727,
     "end_time": "2022-11-04T00:51:24.747998",
     "exception": false,
     "start_time": "2022-11-04T00:51:24.711271",
     "status": "completed"
    },
    "tags": []
   },
   "outputs": [],
   "source": [
    "#hide\n",
    "def get_frame(name):\n",
    "    url = (\n",
    "        'https://raw.githubusercontent.com/CSSEGISandData/COVID-19/master/csse_covid_19_data/'\n",
    "        f'csse_covid_19_time_series/time_series_covid19_{name}_global.csv')\n",
    "    df = pd.read_csv(url)\n",
    "    # rename countries\n",
    "    df['Country/Region'] = df['Country/Region'].replace(mapping['replace.country'])\n",
    "    return df"
   ]
  },
  {
   "cell_type": "code",
   "execution_count": 8,
   "id": "affiliated-characterization",
   "metadata": {
    "execution": {
     "iopub.execute_input": "2022-11-04T00:51:24.813092Z",
     "iopub.status.busy": "2022-11-04T00:51:24.812511Z",
     "iopub.status.idle": "2022-11-04T00:51:24.815018Z",
     "shell.execute_reply": "2022-11-04T00:51:24.815486Z"
    },
    "papermill": {
     "duration": 0.038133,
     "end_time": "2022-11-04T00:51:24.815607",
     "exception": false,
     "start_time": "2022-11-04T00:51:24.777474",
     "status": "completed"
    },
    "tags": []
   },
   "outputs": [],
   "source": [
    "#hide\n",
    "def get_dates(df):\n",
    "    dt_cols = df.columns[~df.columns.isin(['Province/State', 'Country/Region', 'Lat', 'Long'])]\n",
    "    LAST_DATE_I = -1\n",
    "    # sometimes last column may be empty, then go backwards\n",
    "    for i in range(-1, -len(dt_cols), -1):\n",
    "        if not df[dt_cols[i]].fillna(0).eq(0).all():\n",
    "            LAST_DATE_I = i\n",
    "            break\n",
    "    return LAST_DATE_I, dt_cols"
   ]
  },
  {
   "cell_type": "code",
   "execution_count": 9,
   "id": "recent-optimization",
   "metadata": {
    "execution": {
     "iopub.execute_input": "2022-11-04T00:51:24.879451Z",
     "iopub.status.busy": "2022-11-04T00:51:24.878851Z",
     "iopub.status.idle": "2022-11-04T00:51:25.630342Z",
     "shell.execute_reply": "2022-11-04T00:51:25.629710Z"
    },
    "papermill": {
     "duration": 0.78564,
     "end_time": "2022-11-04T00:51:25.630479",
     "exception": false,
     "start_time": "2022-11-04T00:51:24.844839",
     "status": "completed"
    },
    "tags": []
   },
   "outputs": [],
   "source": [
    "#hide\n",
    "COL_REGION = 'Country/Region'\n",
    "# Confirmed, Recovered, Deaths\n",
    "df = get_frame('confirmed')\n",
    "# dft_: timeseries, dfc_: today country agg\n",
    "dft_cases = df\n",
    "dft_deaths = get_frame('deaths')\n",
    "dft_recovered = get_frame('recovered')\n",
    "LAST_DATE_I, dt_cols = get_dates(df)"
   ]
  },
  {
   "cell_type": "code",
   "execution_count": 10,
   "id": "absolute-copper",
   "metadata": {
    "execution": {
     "iopub.execute_input": "2022-11-04T00:51:25.696961Z",
     "iopub.status.busy": "2022-11-04T00:51:25.696377Z",
     "iopub.status.idle": "2022-11-04T00:51:25.698716Z",
     "shell.execute_reply": "2022-11-04T00:51:25.699270Z"
    },
    "papermill": {
     "duration": 0.037757,
     "end_time": "2022-11-04T00:51:25.699396",
     "exception": false,
     "start_time": "2022-11-04T00:51:25.661639",
     "status": "completed"
    },
    "tags": []
   },
   "outputs": [],
   "source": [
    "#hide\n",
    "LAST_DATE_I, dt_cols = get_dates(df)\n",
    "dt_today =dt_cols[LAST_DATE_I]\n",
    "# dt_5day = dt_cols[LAST_DATE_I - 5]\n",
    "dt_yday = dt_cols[LAST_DATE_I - 1]"
   ]
  },
  {
   "cell_type": "code",
   "execution_count": 11,
   "id": "restricted-sheriff",
   "metadata": {
    "execution": {
     "iopub.execute_input": "2022-11-04T00:51:25.765104Z",
     "iopub.status.busy": "2022-11-04T00:51:25.764530Z",
     "iopub.status.idle": "2022-11-04T00:51:25.771330Z",
     "shell.execute_reply": "2022-11-04T00:51:25.770863Z"
    },
    "papermill": {
     "duration": 0.042841,
     "end_time": "2022-11-04T00:51:25.771439",
     "exception": false,
     "start_time": "2022-11-04T00:51:25.728598",
     "status": "completed"
    },
    "tags": []
   },
   "outputs": [],
   "source": [
    "#hide\n",
    "dfc_cases = dft_cases.groupby(COL_REGION)[dt_today].sum()\n",
    "dfc_deaths = dft_deaths.groupby(COL_REGION)[dt_today].sum()\n",
    "# dfp_cases = dft_cases.groupby(COL_REGION)[dt_5day].sum()\n",
    "# dfp_deaths = dft_deaths.groupby(COL_REGION)[dt_5day].sum()\n",
    "dfp_cases = dft_cases.groupby(COL_REGION)[dt_yday].sum()\n",
    "dfp_deaths = dft_deaths.groupby(COL_REGION)[dt_yday].sum()"
   ]
  },
  {
   "cell_type": "code",
   "execution_count": 12,
   "id": "deluxe-hepatitis",
   "metadata": {
    "execution": {
     "iopub.execute_input": "2022-11-04T00:51:25.836179Z",
     "iopub.status.busy": "2022-11-04T00:51:25.835595Z",
     "iopub.status.idle": "2022-11-04T00:51:25.840696Z",
     "shell.execute_reply": "2022-11-04T00:51:25.841245Z"
    },
    "papermill": {
     "duration": 0.040539,
     "end_time": "2022-11-04T00:51:25.841370",
     "exception": false,
     "start_time": "2022-11-04T00:51:25.800831",
     "status": "completed"
    },
    "tags": []
   },
   "outputs": [],
   "source": [
    "#hide\n",
    "df_table = (pd.DataFrame(dict(Cases = dfc_cases, Deaths = dfc_deaths, PCases = dfp_cases, PDeaths = dfp_deaths))\n",
    "            .sort_values(by = ['Cases','Deaths'], ascending = [False, False])\n",
    "            .reset_index())"
   ]
  },
  {
   "cell_type": "code",
   "execution_count": 13,
   "id": "educational-chancellor",
   "metadata": {
    "execution": {
     "iopub.execute_input": "2022-11-04T00:51:25.917527Z",
     "iopub.status.busy": "2022-11-04T00:51:25.916942Z",
     "iopub.status.idle": "2022-11-04T00:51:25.924929Z",
     "shell.execute_reply": "2022-11-04T00:51:25.924463Z"
    },
    "papermill": {
     "duration": 0.053882,
     "end_time": "2022-11-04T00:51:25.925037",
     "exception": false,
     "start_time": "2022-11-04T00:51:25.871155",
     "status": "completed"
    },
    "tags": []
   },
   "outputs": [
    {
     "data": {
      "text/html": [
       "<div>\n",
       "<style scoped>\n",
       "    .dataframe tbody tr th:only-of-type {\n",
       "        vertical-align: middle;\n",
       "    }\n",
       "\n",
       "    .dataframe tbody tr th {\n",
       "        vertical-align: top;\n",
       "    }\n",
       "\n",
       "    .dataframe thead th {\n",
       "        text-align: right;\n",
       "    }\n",
       "</style>\n",
       "<table border=\"1\" class=\"dataframe\">\n",
       "  <thead>\n",
       "    <tr style=\"text-align: right;\">\n",
       "      <th></th>\n",
       "      <th>Country/Region</th>\n",
       "      <th>Cases</th>\n",
       "      <th>Deaths</th>\n",
       "      <th>PCases</th>\n",
       "      <th>PDeaths</th>\n",
       "      <th>Cases (+)</th>\n",
       "      <th>Deaths (+)</th>\n",
       "      <th>Fatality Rate</th>\n",
       "      <th>Continent</th>\n",
       "    </tr>\n",
       "  </thead>\n",
       "  <tbody>\n",
       "    <tr>\n",
       "      <th>0</th>\n",
       "      <td>US</td>\n",
       "      <td>97622089</td>\n",
       "      <td>1071649</td>\n",
       "      <td>97548842</td>\n",
       "      <td>1070907</td>\n",
       "      <td>73247</td>\n",
       "      <td>742</td>\n",
       "      <td>1.10</td>\n",
       "      <td>North America</td>\n",
       "    </tr>\n",
       "    <tr>\n",
       "      <th>1</th>\n",
       "      <td>India</td>\n",
       "      <td>44655926</td>\n",
       "      <td>530461</td>\n",
       "      <td>44655828</td>\n",
       "      <td>530452</td>\n",
       "      <td>98</td>\n",
       "      <td>9</td>\n",
       "      <td>1.19</td>\n",
       "      <td>Asia</td>\n",
       "    </tr>\n",
       "    <tr>\n",
       "      <th>2</th>\n",
       "      <td>France</td>\n",
       "      <td>37068741</td>\n",
       "      <td>158184</td>\n",
       "      <td>37033582</td>\n",
       "      <td>158034</td>\n",
       "      <td>35159</td>\n",
       "      <td>150</td>\n",
       "      <td>0.43</td>\n",
       "      <td>Europe</td>\n",
       "    </tr>\n",
       "    <tr>\n",
       "      <th>3</th>\n",
       "      <td>Germany</td>\n",
       "      <td>35728277</td>\n",
       "      <td>154095</td>\n",
       "      <td>35649648</td>\n",
       "      <td>153814</td>\n",
       "      <td>78629</td>\n",
       "      <td>281</td>\n",
       "      <td>0.43</td>\n",
       "      <td>Europe</td>\n",
       "    </tr>\n",
       "    <tr>\n",
       "      <th>4</th>\n",
       "      <td>Brazil</td>\n",
       "      <td>34837035</td>\n",
       "      <td>688219</td>\n",
       "      <td>34837035</td>\n",
       "      <td>688219</td>\n",
       "      <td>0</td>\n",
       "      <td>0</td>\n",
       "      <td>1.98</td>\n",
       "      <td>South America</td>\n",
       "    </tr>\n",
       "  </tbody>\n",
       "</table>\n",
       "</div>"
      ],
      "text/plain": [
       "  Country/Region     Cases   Deaths    PCases  PDeaths  Cases (+)  Deaths (+)  \\\n",
       "0             US  97622089  1071649  97548842  1070907      73247         742   \n",
       "1          India  44655926   530461  44655828   530452         98           9   \n",
       "2         France  37068741   158184  37033582   158034      35159         150   \n",
       "3        Germany  35728277   154095  35649648   153814      78629         281   \n",
       "4         Brazil  34837035   688219  34837035   688219          0           0   \n",
       "\n",
       "   Fatality Rate      Continent  \n",
       "0           1.10  North America  \n",
       "1           1.19           Asia  \n",
       "2           0.43         Europe  \n",
       "3           0.43         Europe  \n",
       "4           1.98  South America  "
      ]
     },
     "execution_count": 13,
     "metadata": {},
     "output_type": "execute_result"
    }
   ],
   "source": [
    "#hide\n",
    "for c in 'Cases, Deaths'.split(', '):\n",
    "    df_table[f'{c} (+)'] = (df_table[c] - df_table[f'P{c}']).clip(0)\n",
    "    #Clip ça veut dire, les chiffres negatif sont interdit\n",
    "df_table['Fatality Rate'] = (100* df_table['Deaths']/ df_table['Cases']).round(2)\n",
    "df_table['Continent'] = df_table['Country/Region'].map(mapping['map.continent'])\n",
    "df_table.head(5)"
   ]
  },
  {
   "cell_type": "code",
   "execution_count": 14,
   "id": "aboriginal-bulgaria",
   "metadata": {
    "execution": {
     "iopub.execute_input": "2022-11-04T00:51:25.990845Z",
     "iopub.status.busy": "2022-11-04T00:51:25.990259Z",
     "iopub.status.idle": "2022-11-04T00:51:25.992646Z",
     "shell.execute_reply": "2022-11-04T00:51:25.993195Z"
    },
    "papermill": {
     "duration": 0.038375,
     "end_time": "2022-11-04T00:51:25.993320",
     "exception": false,
     "start_time": "2022-11-04T00:51:25.954945",
     "status": "completed"
    },
    "tags": []
   },
   "outputs": [],
   "source": [
    "#hide\n",
    "#delete problematic countries from table\n",
    "df_table = df_table[~df_table['Country/Region'].isin(['Cape Verde', 'Cruise Ship', 'Kosovo'])]"
   ]
  },
  {
   "cell_type": "code",
   "execution_count": 15,
   "id": "fantastic-effect",
   "metadata": {
    "execution": {
     "iopub.execute_input": "2022-11-04T00:51:26.060566Z",
     "iopub.status.busy": "2022-11-04T00:51:26.059987Z",
     "iopub.status.idle": "2022-11-04T00:51:26.077544Z",
     "shell.execute_reply": "2022-11-04T00:51:26.078009Z"
    },
    "papermill": {
     "duration": 0.054926,
     "end_time": "2022-11-04T00:51:26.078137",
     "exception": false,
     "start_time": "2022-11-04T00:51:26.023211",
     "status": "completed"
    },
    "tags": []
   },
   "outputs": [
    {
     "data": {
      "text/html": [
       "<div>\n",
       "<style scoped>\n",
       "    .dataframe tbody tr th:only-of-type {\n",
       "        vertical-align: middle;\n",
       "    }\n",
       "\n",
       "    .dataframe tbody tr th {\n",
       "        vertical-align: top;\n",
       "    }\n",
       "\n",
       "    .dataframe thead th {\n",
       "        text-align: right;\n",
       "    }\n",
       "</style>\n",
       "<table border=\"1\" class=\"dataframe\">\n",
       "  <thead>\n",
       "    <tr style=\"text-align: right;\">\n",
       "      <th></th>\n",
       "      <th>Country/Region</th>\n",
       "      <th>Cases</th>\n",
       "      <th>Deaths</th>\n",
       "      <th>PCases</th>\n",
       "      <th>PDeaths</th>\n",
       "      <th>Cases (+)</th>\n",
       "      <th>Deaths (+)</th>\n",
       "      <th>Fatality Rate</th>\n",
       "      <th>Continent</th>\n",
       "    </tr>\n",
       "  </thead>\n",
       "  <tbody>\n",
       "    <tr>\n",
       "      <th>0</th>\n",
       "      <td>US</td>\n",
       "      <td>97622089</td>\n",
       "      <td>1071649</td>\n",
       "      <td>97548842</td>\n",
       "      <td>1070907</td>\n",
       "      <td>73247</td>\n",
       "      <td>742</td>\n",
       "      <td>1.1</td>\n",
       "      <td>North America</td>\n",
       "    </tr>\n",
       "    <tr>\n",
       "      <th>1</th>\n",
       "      <td>India</td>\n",
       "      <td>44655926</td>\n",
       "      <td>530461</td>\n",
       "      <td>44655828</td>\n",
       "      <td>530452</td>\n",
       "      <td>98</td>\n",
       "      <td>9</td>\n",
       "      <td>1.2</td>\n",
       "      <td>Asia</td>\n",
       "    </tr>\n",
       "    <tr>\n",
       "      <th>2</th>\n",
       "      <td>France</td>\n",
       "      <td>37068741</td>\n",
       "      <td>158184</td>\n",
       "      <td>37033582</td>\n",
       "      <td>158034</td>\n",
       "      <td>35159</td>\n",
       "      <td>150</td>\n",
       "      <td>0.4</td>\n",
       "      <td>Europe</td>\n",
       "    </tr>\n",
       "    <tr>\n",
       "      <th>3</th>\n",
       "      <td>Germany</td>\n",
       "      <td>35728277</td>\n",
       "      <td>154095</td>\n",
       "      <td>35649648</td>\n",
       "      <td>153814</td>\n",
       "      <td>78629</td>\n",
       "      <td>281</td>\n",
       "      <td>0.4</td>\n",
       "      <td>Europe</td>\n",
       "    </tr>\n",
       "    <tr>\n",
       "      <th>4</th>\n",
       "      <td>Brazil</td>\n",
       "      <td>34837035</td>\n",
       "      <td>688219</td>\n",
       "      <td>34837035</td>\n",
       "      <td>688219</td>\n",
       "      <td>0</td>\n",
       "      <td>0</td>\n",
       "      <td>2.0</td>\n",
       "      <td>South America</td>\n",
       "    </tr>\n",
       "  </tbody>\n",
       "</table>\n",
       "</div>"
      ],
      "text/plain": [
       "  Country/Region     Cases   Deaths    PCases  PDeaths  Cases (+)  Deaths (+)  \\\n",
       "0             US  97622089  1071649  97548842  1070907      73247         742   \n",
       "1          India  44655926   530461  44655828   530452         98           9   \n",
       "2         France  37068741   158184  37033582   158034      35159         150   \n",
       "3        Germany  35728277   154095  35649648   153814      78629         281   \n",
       "4         Brazil  34837035   688219  34837035   688219          0           0   \n",
       "\n",
       "   Fatality Rate      Continent  \n",
       "0            1.1  North America  \n",
       "1            1.2           Asia  \n",
       "2            0.4         Europe  \n",
       "3            0.4         Europe  \n",
       "4            2.0  South America  "
      ]
     },
     "execution_count": 15,
     "metadata": {},
     "output_type": "execute_result"
    }
   ],
   "source": [
    "#hide\n",
    "df_table = (pd.DataFrame(dict(Cases=dfc_cases, Deaths=dfc_deaths, PCases=dfp_cases, PDeaths=dfp_deaths))\n",
    "             .sort_values(by=['Cases', 'Deaths'], ascending=[False, False])\n",
    "             .reset_index())\n",
    "df_table.rename(columns={'index': 'Country/Region'}, inplace=True)\n",
    "for c in 'Cases, Deaths'.split(', '):\n",
    "    df_table[f'{c} (+)'] = (df_table[c] - df_table[f'P{c}']).clip(0)  # DATA BUG\n",
    "df_table['Fatality Rate'] = (100 * df_table['Deaths'] / df_table['Cases']).round(1)\n",
    "df_table['Continent'] = df_table['Country/Region'].map(mapping['map.continent'])\n",
    "df_table.head(5)"
   ]
  },
  {
   "cell_type": "code",
   "execution_count": 16,
   "id": "fewer-occasion",
   "metadata": {
    "execution": {
     "iopub.execute_input": "2022-11-04T00:51:26.144448Z",
     "iopub.status.busy": "2022-11-04T00:51:26.143769Z",
     "iopub.status.idle": "2022-11-04T00:51:26.147134Z",
     "shell.execute_reply": "2022-11-04T00:51:26.146597Z"
    },
    "papermill": {
     "duration": 0.038532,
     "end_time": "2022-11-04T00:51:26.147254",
     "exception": false,
     "start_time": "2022-11-04T00:51:26.108722",
     "status": "completed"
    },
    "tags": []
   },
   "outputs": [],
   "source": [
    "#hide\n",
    "#delete problematic countries from table\n",
    "df_table = df_table[~df_table['Country/Region'].isin(['Cape Verde', 'Cruise Ship', 'Kosovo'])]"
   ]
  },
  {
   "cell_type": "code",
   "execution_count": 17,
   "id": "related-center",
   "metadata": {
    "execution": {
     "iopub.execute_input": "2022-11-04T00:51:26.226546Z",
     "iopub.status.busy": "2022-11-04T00:51:26.225919Z",
     "iopub.status.idle": "2022-11-04T00:51:26.228674Z",
     "shell.execute_reply": "2022-11-04T00:51:26.228103Z"
    },
    "papermill": {
     "duration": 0.050674,
     "end_time": "2022-11-04T00:51:26.228788",
     "exception": false,
     "start_time": "2022-11-04T00:51:26.178114",
     "status": "completed"
    },
    "tags": []
   },
   "outputs": [],
   "source": [
    "#hide\n",
    "metrics = [df_table.columns[index] for index in [1,2,5,6]]\n",
    "# s_china = df_table[df_table['Country/Region'].eq('China')][metrics].sum().add_prefix('China ')\n",
    "s_us = df_table[df_table['Country/Region'].eq('US')][metrics].sum().add_prefix('US ')\n",
    "s_eu = df_table[df_table['Continent'].eq('Europe')][metrics].sum().add_prefix('EU ')\n",
    "s_ind = df_table[df_table['Country/Region'].eq('India')][metrics].sum().add_prefix('India ')\n",
    "summary = {'updated': pd.to_datetime(dt_today), 'since': pd.to_datetime(dt_yday)}\n",
    "summary = {'updated': pd.to_datetime(dt_today), 'since': pd.to_datetime(dt_yday)}\n",
    "summary = {**summary, **df_table[metrics].sum(), **s_ind, **s_us, **s_eu}"
   ]
  },
  {
   "cell_type": "code",
   "execution_count": 18,
   "id": "engaging-syndrome",
   "metadata": {
    "execution": {
     "iopub.execute_input": "2022-11-04T00:51:26.294850Z",
     "iopub.status.busy": "2022-11-04T00:51:26.294260Z",
     "iopub.status.idle": "2022-11-04T00:51:26.315069Z",
     "shell.execute_reply": "2022-11-04T00:51:26.315553Z"
    },
    "papermill": {
     "duration": 0.056493,
     "end_time": "2022-11-04T00:51:26.315701",
     "exception": false,
     "start_time": "2022-11-04T00:51:26.259208",
     "status": "completed"
    },
    "tags": []
   },
   "outputs": [],
   "source": [
    "#hide\n",
    "dft_ct_new_cases = dft_cases.groupby(COL_REGION)[dt_cols].sum().diff(axis=1).fillna(0).astype(int)"
   ]
  },
  {
   "cell_type": "code",
   "execution_count": 19,
   "id": "neutral-assignment",
   "metadata": {
    "execution": {
     "iopub.execute_input": "2022-11-04T00:51:26.384584Z",
     "iopub.status.busy": "2022-11-04T00:51:26.384001Z",
     "iopub.status.idle": "2022-11-04T00:51:26.385939Z",
     "shell.execute_reply": "2022-11-04T00:51:26.386394Z"
    },
    "papermill": {
     "duration": 0.039377,
     "end_time": "2022-11-04T00:51:26.386523",
     "exception": false,
     "start_time": "2022-11-04T00:51:26.347146",
     "status": "completed"
    },
    "tags": []
   },
   "outputs": [],
   "source": [
    "#hide\n",
    "everydaycases = dft_ct_new_cases.cumsum(axis=1)"
   ]
  },
  {
   "cell_type": "code",
   "execution_count": 20,
   "id": "parliamentary-calgary",
   "metadata": {
    "execution": {
     "iopub.execute_input": "2022-11-04T00:51:26.451713Z",
     "iopub.status.busy": "2022-11-04T00:51:26.451135Z",
     "iopub.status.idle": "2022-11-04T00:51:26.983838Z",
     "shell.execute_reply": "2022-11-04T00:51:26.984382Z"
    },
    "papermill": {
     "duration": 0.567576,
     "end_time": "2022-11-04T00:51:26.984533",
     "exception": false,
     "start_time": "2022-11-04T00:51:26.416957",
     "status": "completed"
    },
    "tags": []
   },
   "outputs": [],
   "source": [
    "#hide\n",
    "import pandas as pd\n",
    "import matplotlib.pyplot as plt\n",
    "import matplotlib.ticker as ticker\n",
    "import matplotlib.animation as animation\n",
    "from IPython.display import HTML"
   ]
  },
  {
   "cell_type": "code",
   "execution_count": 21,
   "id": "lasting-extraction",
   "metadata": {
    "execution": {
     "iopub.execute_input": "2022-11-04T00:51:27.052982Z",
     "iopub.status.busy": "2022-11-04T00:51:27.052388Z",
     "iopub.status.idle": "2022-11-04T00:51:27.059975Z",
     "shell.execute_reply": "2022-11-04T00:51:27.060447Z"
    },
    "papermill": {
     "duration": 0.045334,
     "end_time": "2022-11-04T00:51:27.060580",
     "exception": false,
     "start_time": "2022-11-04T00:51:27.015246",
     "status": "completed"
    },
    "tags": []
   },
   "outputs": [],
   "source": [
    "#hide\n",
    "t = everydaycases.stack()"
   ]
  },
  {
   "cell_type": "code",
   "execution_count": 22,
   "id": "premier-sleeve",
   "metadata": {
    "execution": {
     "iopub.execute_input": "2022-11-04T00:51:27.126475Z",
     "iopub.status.busy": "2022-11-04T00:51:27.125840Z",
     "iopub.status.idle": "2022-11-04T00:51:27.138929Z",
     "shell.execute_reply": "2022-11-04T00:51:27.138446Z"
    },
    "papermill": {
     "duration": 0.047853,
     "end_time": "2022-11-04T00:51:27.139043",
     "exception": false,
     "start_time": "2022-11-04T00:51:27.091190",
     "status": "completed"
    },
    "tags": []
   },
   "outputs": [],
   "source": [
    "#hide\n",
    "g = t.reset_index(['Country/Region'])"
   ]
  },
  {
   "cell_type": "code",
   "execution_count": 23,
   "id": "distributed-pittsburgh",
   "metadata": {
    "execution": {
     "iopub.execute_input": "2022-11-04T00:51:27.204716Z",
     "iopub.status.busy": "2022-11-04T00:51:27.204024Z",
     "iopub.status.idle": "2022-11-04T00:51:27.206717Z",
     "shell.execute_reply": "2022-11-04T00:51:27.206129Z"
    },
    "papermill": {
     "duration": 0.03722,
     "end_time": "2022-11-04T00:51:27.206842",
     "exception": false,
     "start_time": "2022-11-04T00:51:27.169622",
     "status": "completed"
    },
    "tags": []
   },
   "outputs": [],
   "source": [
    "#hide\n",
    "g.index.name = 'date'"
   ]
  },
  {
   "cell_type": "code",
   "execution_count": 24,
   "id": "naked-donor",
   "metadata": {
    "execution": {
     "iopub.execute_input": "2022-11-04T00:51:27.272889Z",
     "iopub.status.busy": "2022-11-04T00:51:27.272283Z",
     "iopub.status.idle": "2022-11-04T00:51:27.274730Z",
     "shell.execute_reply": "2022-11-04T00:51:27.274176Z"
    },
    "papermill": {
     "duration": 0.036456,
     "end_time": "2022-11-04T00:51:27.274841",
     "exception": false,
     "start_time": "2022-11-04T00:51:27.238385",
     "status": "completed"
    },
    "tags": []
   },
   "outputs": [],
   "source": [
    "# #hide\n",
    "# g = g.reset_index(['date'])"
   ]
  },
  {
   "cell_type": "code",
   "execution_count": 25,
   "id": "incomplete-mustang",
   "metadata": {
    "execution": {
     "iopub.execute_input": "2022-11-04T00:51:27.339762Z",
     "iopub.status.busy": "2022-11-04T00:51:27.339071Z",
     "iopub.status.idle": "2022-11-04T00:51:27.341656Z",
     "shell.execute_reply": "2022-11-04T00:51:27.341011Z"
    },
    "papermill": {
     "duration": 0.036467,
     "end_time": "2022-11-04T00:51:27.341778",
     "exception": false,
     "start_time": "2022-11-04T00:51:27.305311",
     "status": "completed"
    },
    "tags": []
   },
   "outputs": [],
   "source": [
    "#hide\n",
    "# g.head()"
   ]
  },
  {
   "cell_type": "code",
   "execution_count": 26,
   "id": "specific-kruger",
   "metadata": {
    "execution": {
     "iopub.execute_input": "2022-11-04T00:51:27.406757Z",
     "iopub.status.busy": "2022-11-04T00:51:27.406075Z",
     "iopub.status.idle": "2022-11-04T00:51:27.408583Z",
     "shell.execute_reply": "2022-11-04T00:51:27.407944Z"
    },
    "papermill": {
     "duration": 0.036282,
     "end_time": "2022-11-04T00:51:27.408705",
     "exception": false,
     "start_time": "2022-11-04T00:51:27.372423",
     "status": "completed"
    },
    "tags": []
   },
   "outputs": [],
   "source": [
    "#hide\n",
    "# g.columns = ['date','country','cases']"
   ]
  },
  {
   "cell_type": "code",
   "execution_count": 27,
   "id": "tender-conversion",
   "metadata": {
    "execution": {
     "iopub.execute_input": "2022-11-04T00:51:27.473943Z",
     "iopub.status.busy": "2022-11-04T00:51:27.473252Z",
     "iopub.status.idle": "2022-11-04T00:51:27.475788Z",
     "shell.execute_reply": "2022-11-04T00:51:27.475257Z"
    },
    "papermill": {
     "duration": 0.036145,
     "end_time": "2022-11-04T00:51:27.475907",
     "exception": false,
     "start_time": "2022-11-04T00:51:27.439762",
     "status": "completed"
    },
    "tags": []
   },
   "outputs": [],
   "source": [
    "#hide\n",
    "# g['continent'] = g.country"
   ]
  },
  {
   "cell_type": "code",
   "execution_count": 28,
   "id": "substantial-wilderness",
   "metadata": {
    "execution": {
     "iopub.execute_input": "2022-11-04T00:51:27.540932Z",
     "iopub.status.busy": "2022-11-04T00:51:27.540248Z",
     "iopub.status.idle": "2022-11-04T00:51:27.542811Z",
     "shell.execute_reply": "2022-11-04T00:51:27.542277Z"
    },
    "papermill": {
     "duration": 0.036599,
     "end_time": "2022-11-04T00:51:27.542931",
     "exception": false,
     "start_time": "2022-11-04T00:51:27.506332",
     "status": "completed"
    },
    "tags": []
   },
   "outputs": [],
   "source": [
    "#hide\n",
    "# cols = list(g.columns.values)"
   ]
  },
  {
   "cell_type": "code",
   "execution_count": 29,
   "id": "solved-farming",
   "metadata": {
    "execution": {
     "iopub.execute_input": "2022-11-04T00:51:27.608467Z",
     "iopub.status.busy": "2022-11-04T00:51:27.607764Z",
     "iopub.status.idle": "2022-11-04T00:51:27.610096Z",
     "shell.execute_reply": "2022-11-04T00:51:27.609511Z"
    },
    "papermill": {
     "duration": 0.036332,
     "end_time": "2022-11-04T00:51:27.610212",
     "exception": false,
     "start_time": "2022-11-04T00:51:27.573880",
     "status": "completed"
    },
    "tags": []
   },
   "outputs": [],
   "source": [
    "#hide\n",
    "# cols.insert(0, cols.pop())"
   ]
  },
  {
   "cell_type": "code",
   "execution_count": 30,
   "id": "executed-adoption",
   "metadata": {
    "execution": {
     "iopub.execute_input": "2022-11-04T00:51:27.675803Z",
     "iopub.status.busy": "2022-11-04T00:51:27.675104Z",
     "iopub.status.idle": "2022-11-04T00:51:27.677618Z",
     "shell.execute_reply": "2022-11-04T00:51:27.676977Z"
    },
    "papermill": {
     "duration": 0.036916,
     "end_time": "2022-11-04T00:51:27.677742",
     "exception": false,
     "start_time": "2022-11-04T00:51:27.640826",
     "status": "completed"
    },
    "tags": []
   },
   "outputs": [],
   "source": [
    "#hide\n",
    "# g = g[cols]"
   ]
  },
  {
   "cell_type": "code",
   "execution_count": 31,
   "id": "subject-dublin",
   "metadata": {
    "execution": {
     "iopub.execute_input": "2022-11-04T00:51:27.742521Z",
     "iopub.status.busy": "2022-11-04T00:51:27.741879Z",
     "iopub.status.idle": "2022-11-04T00:51:27.745038Z",
     "shell.execute_reply": "2022-11-04T00:51:27.745509Z"
    },
    "papermill": {
     "duration": 0.036689,
     "end_time": "2022-11-04T00:51:27.745636",
     "exception": false,
     "start_time": "2022-11-04T00:51:27.708947",
     "status": "completed"
    },
    "tags": []
   },
   "outputs": [],
   "source": [
    "#hide\n",
    "# g['continent'] = g['continent'].map(mapping['map.continent'])"
   ]
  },
  {
   "cell_type": "code",
   "execution_count": 32,
   "id": "freelance-scout",
   "metadata": {
    "execution": {
     "iopub.execute_input": "2022-11-04T00:51:27.810818Z",
     "iopub.status.busy": "2022-11-04T00:51:27.810122Z",
     "iopub.status.idle": "2022-11-04T00:51:27.811856Z",
     "shell.execute_reply": "2022-11-04T00:51:27.812390Z"
    },
    "papermill": {
     "duration": 0.036406,
     "end_time": "2022-11-04T00:51:27.812533",
     "exception": false,
     "start_time": "2022-11-04T00:51:27.776127",
     "status": "completed"
    },
    "tags": []
   },
   "outputs": [],
   "source": [
    "#hide\n",
    "# g.head()"
   ]
  },
  {
   "cell_type": "code",
   "execution_count": 33,
   "id": "limited-engine",
   "metadata": {
    "execution": {
     "iopub.execute_input": "2022-11-04T00:51:27.877668Z",
     "iopub.status.busy": "2022-11-04T00:51:27.876982Z",
     "iopub.status.idle": "2022-11-04T00:51:27.879596Z",
     "shell.execute_reply": "2022-11-04T00:51:27.879060Z"
    },
    "papermill": {
     "duration": 0.036773,
     "end_time": "2022-11-04T00:51:27.879718",
     "exception": false,
     "start_time": "2022-11-04T00:51:27.842945",
     "status": "completed"
    },
    "tags": []
   },
   "outputs": [],
   "source": [
    "# hide\n",
    "# g['date'] = g['date'].astype('datetime64[ns]')"
   ]
  },
  {
   "cell_type": "code",
   "execution_count": 34,
   "id": "sophisticated-supervisor",
   "metadata": {
    "execution": {
     "iopub.execute_input": "2022-11-04T00:51:27.945604Z",
     "iopub.status.busy": "2022-11-04T00:51:27.944910Z",
     "iopub.status.idle": "2022-11-04T00:51:27.947379Z",
     "shell.execute_reply": "2022-11-04T00:51:27.946792Z"
    },
    "papermill": {
     "duration": 0.036486,
     "end_time": "2022-11-04T00:51:27.947490",
     "exception": false,
     "start_time": "2022-11-04T00:51:27.911004",
     "status": "completed"
    },
    "tags": []
   },
   "outputs": [],
   "source": [
    "#hide\n",
    "# g['date'] = g.date.dt.dayofyear"
   ]
  },
  {
   "cell_type": "code",
   "execution_count": 35,
   "id": "inside-dubai",
   "metadata": {
    "execution": {
     "iopub.execute_input": "2022-11-04T00:51:28.012854Z",
     "iopub.status.busy": "2022-11-04T00:51:28.012156Z",
     "iopub.status.idle": "2022-11-04T00:51:28.014703Z",
     "shell.execute_reply": "2022-11-04T00:51:28.014160Z"
    },
    "papermill": {
     "duration": 0.036834,
     "end_time": "2022-11-04T00:51:28.014825",
     "exception": false,
     "start_time": "2022-11-04T00:51:27.977991",
     "status": "completed"
    },
    "tags": []
   },
   "outputs": [],
   "source": [
    "#hide\n",
    "# g = g.rename(columns= {'continent':'group','country':'name','cases':'value'})"
   ]
  },
  {
   "cell_type": "code",
   "execution_count": 36,
   "id": "fleet-motorcycle",
   "metadata": {
    "execution": {
     "iopub.execute_input": "2022-11-04T00:51:28.080689Z",
     "iopub.status.busy": "2022-11-04T00:51:28.079988Z",
     "iopub.status.idle": "2022-11-04T00:51:28.082377Z",
     "shell.execute_reply": "2022-11-04T00:51:28.081874Z"
    },
    "papermill": {
     "duration": 0.036651,
     "end_time": "2022-11-04T00:51:28.082487",
     "exception": false,
     "start_time": "2022-11-04T00:51:28.045836",
     "status": "completed"
    },
    "tags": []
   },
   "outputs": [],
   "source": [
    "#hide\n",
    "# cols = ['name','group','day','value']"
   ]
  },
  {
   "cell_type": "code",
   "execution_count": 37,
   "id": "continued-sleeping",
   "metadata": {
    "execution": {
     "iopub.execute_input": "2022-11-04T00:51:28.147550Z",
     "iopub.status.busy": "2022-11-04T00:51:28.146969Z",
     "iopub.status.idle": "2022-11-04T00:51:28.149147Z",
     "shell.execute_reply": "2022-11-04T00:51:28.149696Z"
    },
    "papermill": {
     "duration": 0.036907,
     "end_time": "2022-11-04T00:51:28.149826",
     "exception": false,
     "start_time": "2022-11-04T00:51:28.112919",
     "status": "completed"
    },
    "tags": []
   },
   "outputs": [],
   "source": [
    "#hide\n",
    "# g.rename(columns= {'date':'day'},inplace = True)"
   ]
  },
  {
   "cell_type": "code",
   "execution_count": 38,
   "id": "major-fight",
   "metadata": {
    "execution": {
     "iopub.execute_input": "2022-11-04T00:51:28.214858Z",
     "iopub.status.busy": "2022-11-04T00:51:28.214244Z",
     "iopub.status.idle": "2022-11-04T00:51:28.216776Z",
     "shell.execute_reply": "2022-11-04T00:51:28.216332Z"
    },
    "papermill": {
     "duration": 0.036544,
     "end_time": "2022-11-04T00:51:28.216891",
     "exception": false,
     "start_time": "2022-11-04T00:51:28.180347",
     "status": "completed"
    },
    "tags": []
   },
   "outputs": [],
   "source": [
    "#hide\n",
    "# g = g[cols]"
   ]
  },
  {
   "cell_type": "code",
   "execution_count": 39,
   "id": "structured-mobile",
   "metadata": {
    "execution": {
     "iopub.execute_input": "2022-11-04T00:51:28.282850Z",
     "iopub.status.busy": "2022-11-04T00:51:28.282151Z",
     "iopub.status.idle": "2022-11-04T00:51:28.283902Z",
     "shell.execute_reply": "2022-11-04T00:51:28.284437Z"
    },
    "papermill": {
     "duration": 0.036586,
     "end_time": "2022-11-04T00:51:28.284580",
     "exception": false,
     "start_time": "2022-11-04T00:51:28.247994",
     "status": "completed"
    },
    "tags": []
   },
   "outputs": [],
   "source": [
    "# #hide\n",
    "# g = g[g.group.notna()]"
   ]
  },
  {
   "cell_type": "code",
   "execution_count": 40,
   "id": "determined-closing",
   "metadata": {
    "execution": {
     "iopub.execute_input": "2022-11-04T00:51:28.350011Z",
     "iopub.status.busy": "2022-11-04T00:51:28.349398Z",
     "iopub.status.idle": "2022-11-04T00:51:28.351600Z",
     "shell.execute_reply": "2022-11-04T00:51:28.352154Z"
    },
    "papermill": {
     "duration": 0.037025,
     "end_time": "2022-11-04T00:51:28.352284",
     "exception": false,
     "start_time": "2022-11-04T00:51:28.315259",
     "status": "completed"
    },
    "tags": []
   },
   "outputs": [],
   "source": [
    "# #hide\n",
    "# colors = dict(zip(\n",
    "#     [\"Oceania\", \"Europe\", \"Asia\", \"South America\", \"Middle East\", \"North America\", \"Africa\"],\n",
    "#     [\"#adb0ff\", \"#ffb3ff\", \"#90d595\", \"#e48381\", \"#aafbff\", \"#f7bb5f\", \"#eafb50\"]\n",
    "# ))\n",
    "# group_lk = g.set_index('name')['group'].to_dict()"
   ]
  },
  {
   "cell_type": "code",
   "execution_count": null,
   "id": "gross-drinking",
   "metadata": {
    "papermill": {
     "duration": 0.030519,
     "end_time": "2022-11-04T00:51:28.413314",
     "exception": false,
     "start_time": "2022-11-04T00:51:28.382795",
     "status": "completed"
    },
    "tags": []
   },
   "outputs": [],
   "source": []
  },
  {
   "cell_type": "code",
   "execution_count": 41,
   "id": "subject-macintosh",
   "metadata": {
    "execution": {
     "iopub.execute_input": "2022-11-04T00:51:28.479159Z",
     "iopub.status.busy": "2022-11-04T00:51:28.478552Z",
     "iopub.status.idle": "2022-11-04T00:51:28.481446Z",
     "shell.execute_reply": "2022-11-04T00:51:28.480970Z"
    },
    "papermill": {
     "duration": 0.037647,
     "end_time": "2022-11-04T00:51:28.481557",
     "exception": false,
     "start_time": "2022-11-04T00:51:28.443910",
     "status": "completed"
    },
    "tags": []
   },
   "outputs": [],
   "source": [
    "# #hide\n",
    "# fig, ax = plt.subplots(figsize=(15, 8))\n",
    "\n",
    "# def draw_barchart(current_day):\n",
    "#     dff = g[g['day'].eq(current_day)].sort_values(by='value', ascending=True).tail(10)\n",
    "#     ax.clear()\n",
    "#     ax.barh(dff['name'], dff['value'], color=[colors[group_lk[x]] for x in dff['name']])\n",
    "#     dx = dff['value'].max() / 200\n",
    "    \n",
    "#     for i, (value, name) in enumerate(zip(dff['value'], dff['name'])):\n",
    "#         ax.text(value-dx, i,     name,           size=14, weight=600, ha='right', va='bottom')\n",
    "#         ax.text(value-dx, i-.25, group_lk[name], size=10, color='#444444', ha='right', va='baseline')\n",
    "#         ax.text(value+dx, i,     f'{value:,.0f}',  size=14, ha='left',  va='center')\n",
    "#     ax.text(1, 0.4, current_day, transform=ax.transAxes, color='#777777', size=46, ha='right', weight=800)\n",
    "#     ax.text(0, 1.06, 'Population (thousands)', transform=ax.transAxes, size=12, color='#777777')\n",
    "#     ax.xaxis.set_major_formatter(ticker.StrMethodFormatter('{x:,.0f}'))\n",
    "#     ax.xaxis.set_ticks_position('top')\n",
    "#     ax.tick_params(axis='x', colors='#777777', labelsize=12)\n",
    "#     ax.set_yticks([])\n",
    "#     ax.margins(0, 0.01)\n",
    "#     ax.grid(which='major', axis='x', linestyle='-')\n",
    "#     ax.set_axisbelow(True)\n",
    "    \n",
    "#     ax.text(0, 1.15, 'Coronavirus',\n",
    "#             transform=ax.transAxes, size=24, weight=600, ha='left', va='top')\n",
    "# #     ax.text(1, 0, 'by @pratapvardhan; credit @jburnmurdoch', transform=ax.transAxes, color='#777777', ha='right',\n",
    "# #             bbox=dict(facecolor='white', alpha=0.8, edgecolor='white'))\n",
    "#     plt.box(False)"
   ]
  },
  {
   "cell_type": "code",
   "execution_count": 42,
   "id": "sexual-wages",
   "metadata": {
    "execution": {
     "iopub.execute_input": "2022-11-04T00:51:28.547257Z",
     "iopub.status.busy": "2022-11-04T00:51:28.546539Z",
     "iopub.status.idle": "2022-11-04T00:51:28.548293Z",
     "shell.execute_reply": "2022-11-04T00:51:28.548835Z"
    },
    "papermill": {
     "duration": 0.036752,
     "end_time": "2022-11-04T00:51:28.548977",
     "exception": false,
     "start_time": "2022-11-04T00:51:28.512225",
     "status": "completed"
    },
    "tags": []
   },
   "outputs": [],
   "source": [
    "# #hide_input\n",
    "# fig, ax = plt.subplots(figsize=(15, 8))\n",
    "# animator = animation.FuncAnimation(fig, draw_barchart, frames=range(g.day.values.min(), g.day.values.max()))\n",
    "# HTML(animator.to_jshtml())\n",
    "# # or use animator.to_html5_video() or animator.save() "
   ]
  },
  {
   "cell_type": "code",
   "execution_count": null,
   "id": "australian-container",
   "metadata": {
    "papermill": {
     "duration": 0.030446,
     "end_time": "2022-11-04T00:51:28.610154",
     "exception": false,
     "start_time": "2022-11-04T00:51:28.579708",
     "status": "completed"
    },
    "tags": []
   },
   "outputs": [],
   "source": []
  },
  {
   "cell_type": "code",
   "execution_count": null,
   "id": "mediterranean-pontiac",
   "metadata": {
    "papermill": {
     "duration": 0.030252,
     "end_time": "2022-11-04T00:51:28.670713",
     "exception": false,
     "start_time": "2022-11-04T00:51:28.640461",
     "status": "completed"
    },
    "tags": []
   },
   "outputs": [],
   "source": []
  },
  {
   "cell_type": "code",
   "execution_count": null,
   "id": "aging-legislature",
   "metadata": {
    "papermill": {
     "duration": 0.030419,
     "end_time": "2022-11-04T00:51:28.731720",
     "exception": false,
     "start_time": "2022-11-04T00:51:28.701301",
     "status": "completed"
    },
    "tags": []
   },
   "outputs": [],
   "source": []
  }
 ],
 "metadata": {
  "kernelspec": {
   "display_name": "Python 3",
   "language": "python",
   "name": "python3"
  },
  "language_info": {
   "codemirror_mode": {
    "name": "ipython",
    "version": 3
   },
   "file_extension": ".py",
   "mimetype": "text/x-python",
   "name": "python",
   "nbconvert_exporter": "python",
   "pygments_lexer": "ipython3",
   "version": "3.6.15"
  },
  "papermill": {
   "duration": 6.161124,
   "end_time": "2022-11-04T00:51:29.080798",
   "environment_variables": {},
   "exception": null,
   "input_path": "2020-03-21-covid19exp.ipynb",
   "output_path": "2020-03-21-covid19exp.ipynb",
   "parameters": {},
   "start_time": "2022-11-04T00:51:22.919674",
   "version": "2.0.0"
  }
 },
 "nbformat": 4,
 "nbformat_minor": 5
}