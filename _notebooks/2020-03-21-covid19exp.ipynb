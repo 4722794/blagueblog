{
 "cells": [
  {
   "cell_type": "markdown",
   "id": "muslim-click",
   "metadata": {
    "papermill": {
     "duration": 0.041314,
     "end_time": "2021-05-19T12:11:36.854182",
     "exception": false,
     "start_time": "2021-05-19T12:11:36.812868",
     "status": "completed"
    },
    "tags": []
   },
   "source": [
    "# COVID-19 Case Race\n",
    "> A race chart to see rising cases around the world\n",
    "\n",
    "- author: Hargun Oberoi\n",
    "- image: images/covid-overview.png\n",
    "- hide: false\n",
    "- badges: false"
   ]
  },
  {
   "cell_type": "code",
   "execution_count": 1,
   "id": "proof-material",
   "metadata": {
    "execution": {
     "iopub.execute_input": "2021-05-19T12:11:36.931753Z",
     "iopub.status.busy": "2021-05-19T12:11:36.930664Z",
     "iopub.status.idle": "2021-05-19T12:11:37.294363Z",
     "shell.execute_reply": "2021-05-19T12:11:37.293080Z"
    },
    "papermill": {
     "duration": 0.406728,
     "end_time": "2021-05-19T12:11:37.294581",
     "exception": false,
     "start_time": "2021-05-19T12:11:36.887853",
     "status": "completed"
    },
    "tags": []
   },
   "outputs": [],
   "source": [
    "#hide\n",
    "import numpy as np\n",
    "import pandas as pd\n",
    "from jinja2 import Template\n",
    "from IPython.display import HTML"
   ]
  },
  {
   "cell_type": "code",
   "execution_count": 2,
   "id": "developed-terminology",
   "metadata": {
    "execution": {
     "iopub.execute_input": "2021-05-19T12:11:37.368024Z",
     "iopub.status.busy": "2021-05-19T12:11:37.366988Z",
     "iopub.status.idle": "2021-05-19T12:11:37.369149Z",
     "shell.execute_reply": "2021-05-19T12:11:37.369958Z"
    },
    "papermill": {
     "duration": 0.040283,
     "end_time": "2021-05-19T12:11:37.370175",
     "exception": false,
     "start_time": "2021-05-19T12:11:37.329892",
     "status": "completed"
    },
    "tags": []
   },
   "outputs": [],
   "source": [
    "#hide\n",
    "\n",
    "# FETCH\n",
    "base_url = 'https://raw.githubusercontent.com/pratapvardhan/notebooks/master/covid19/'\n",
    "paths = {\n",
    "    'mapping': base_url + 'mapping_countries.csv',\n",
    "    'overview': base_url + 'overview.tpl'\n",
    "}"
   ]
  },
  {
   "cell_type": "code",
   "execution_count": 3,
   "id": "dynamic-saver",
   "metadata": {
    "execution": {
     "iopub.execute_input": "2021-05-19T12:11:37.446361Z",
     "iopub.status.busy": "2021-05-19T12:11:37.445764Z",
     "iopub.status.idle": "2021-05-19T12:11:37.449091Z",
     "shell.execute_reply": "2021-05-19T12:11:37.448578Z"
    },
    "papermill": {
     "duration": 0.047214,
     "end_time": "2021-05-19T12:11:37.449213",
     "exception": false,
     "start_time": "2021-05-19T12:11:37.401999",
     "status": "completed"
    },
    "tags": []
   },
   "outputs": [
    {
     "data": {
      "text/plain": [
       "'https://raw.githubusercontent.com/pratapvardhan/notebooks/master/covid19/mapping_countries.csv'"
      ]
     },
     "execution_count": 3,
     "metadata": {},
     "output_type": "execute_result"
    }
   ],
   "source": [
    "#hide\n",
    "paths['mapping']"
   ]
  },
  {
   "cell_type": "code",
   "execution_count": 4,
   "id": "urban-software",
   "metadata": {
    "execution": {
     "iopub.execute_input": "2021-05-19T12:11:37.524179Z",
     "iopub.status.busy": "2021-05-19T12:11:37.523605Z",
     "iopub.status.idle": "2021-05-19T12:11:37.526455Z",
     "shell.execute_reply": "2021-05-19T12:11:37.525964Z"
    },
    "papermill": {
     "duration": 0.044544,
     "end_time": "2021-05-19T12:11:37.526584",
     "exception": false,
     "start_time": "2021-05-19T12:11:37.482040",
     "status": "completed"
    },
    "tags": []
   },
   "outputs": [],
   "source": [
    "#hide\n",
    "def get_mappings(url):\n",
    "    df = pd.read_csv(url)\n",
    "    return {\n",
    "        'df': df,\n",
    "        'replace.country': dict(df.dropna(subset=['Name']).set_index('Country')['Name']),\n",
    "        'map.continent': dict(df.set_index('Name')['Continent'])\n",
    "    }"
   ]
  },
  {
   "cell_type": "code",
   "execution_count": 5,
   "id": "intimate-machinery",
   "metadata": {
    "execution": {
     "iopub.execute_input": "2021-05-19T12:11:37.600578Z",
     "iopub.status.busy": "2021-05-19T12:11:37.599960Z",
     "iopub.status.idle": "2021-05-19T12:11:37.660268Z",
     "shell.execute_reply": "2021-05-19T12:11:37.659729Z"
    },
    "papermill": {
     "duration": 0.099663,
     "end_time": "2021-05-19T12:11:37.660425",
     "exception": false,
     "start_time": "2021-05-19T12:11:37.560762",
     "status": "completed"
    },
    "tags": []
   },
   "outputs": [],
   "source": [
    "#hide\n",
    "mapping = get_mappings(paths['mapping'])"
   ]
  },
  {
   "cell_type": "code",
   "execution_count": 6,
   "id": "certified-tactics",
   "metadata": {
    "execution": {
     "iopub.execute_input": "2021-05-19T12:11:37.751908Z",
     "iopub.status.busy": "2021-05-19T12:11:37.751323Z",
     "iopub.status.idle": "2021-05-19T12:11:37.753731Z",
     "shell.execute_reply": "2021-05-19T12:11:37.753241Z"
    },
    "papermill": {
     "duration": 0.054474,
     "end_time": "2021-05-19T12:11:37.753852",
     "exception": false,
     "start_time": "2021-05-19T12:11:37.699378",
     "status": "completed"
    },
    "tags": []
   },
   "outputs": [],
   "source": [
    "#hide\n",
    "def get_template(path):\n",
    "    from urllib.parse import urlparse\n",
    "    if bool(urlparse(path).netloc):\n",
    "        from urllib.request import urlopen\n",
    "        return urlopen(path).read().decode('utf8')\n",
    "    return open(path).read()"
   ]
  },
  {
   "cell_type": "code",
   "execution_count": 7,
   "id": "realistic-blast",
   "metadata": {
    "execution": {
     "iopub.execute_input": "2021-05-19T12:11:37.828946Z",
     "iopub.status.busy": "2021-05-19T12:11:37.828365Z",
     "iopub.status.idle": "2021-05-19T12:11:37.830933Z",
     "shell.execute_reply": "2021-05-19T12:11:37.830423Z"
    },
    "papermill": {
     "duration": 0.043248,
     "end_time": "2021-05-19T12:11:37.831061",
     "exception": false,
     "start_time": "2021-05-19T12:11:37.787813",
     "status": "completed"
    },
    "tags": []
   },
   "outputs": [],
   "source": [
    "#hide\n",
    "def get_frame(name):\n",
    "    url = (\n",
    "        'https://raw.githubusercontent.com/CSSEGISandData/COVID-19/master/csse_covid_19_data/'\n",
    "        f'csse_covid_19_time_series/time_series_covid19_{name}_global.csv')\n",
    "    df = pd.read_csv(url)\n",
    "    # rename countries\n",
    "    df['Country/Region'] = df['Country/Region'].replace(mapping['replace.country'])\n",
    "    return df"
   ]
  },
  {
   "cell_type": "code",
   "execution_count": 8,
   "id": "affiliated-characterization",
   "metadata": {
    "execution": {
     "iopub.execute_input": "2021-05-19T12:11:37.903165Z",
     "iopub.status.busy": "2021-05-19T12:11:37.902573Z",
     "iopub.status.idle": "2021-05-19T12:11:37.904809Z",
     "shell.execute_reply": "2021-05-19T12:11:37.904290Z"
    },
    "papermill": {
     "duration": 0.041621,
     "end_time": "2021-05-19T12:11:37.904924",
     "exception": false,
     "start_time": "2021-05-19T12:11:37.863303",
     "status": "completed"
    },
    "tags": []
   },
   "outputs": [],
   "source": [
    "#hide\n",
    "def get_dates(df):\n",
    "    dt_cols = df.columns[~df.columns.isin(['Province/State', 'Country/Region', 'Lat', 'Long'])]\n",
    "    LAST_DATE_I = -1\n",
    "    # sometimes last column may be empty, then go backwards\n",
    "    for i in range(-1, -len(dt_cols), -1):\n",
    "        if not df[dt_cols[i]].fillna(0).eq(0).all():\n",
    "            LAST_DATE_I = i\n",
    "            break\n",
    "    return LAST_DATE_I, dt_cols"
   ]
  },
  {
   "cell_type": "code",
   "execution_count": 9,
   "id": "recent-optimization",
   "metadata": {
    "execution": {
     "iopub.execute_input": "2021-05-19T12:11:37.974023Z",
     "iopub.status.busy": "2021-05-19T12:11:37.973431Z",
     "iopub.status.idle": "2021-05-19T12:11:38.481144Z",
     "shell.execute_reply": "2021-05-19T12:11:38.480511Z"
    },
    "papermill": {
     "duration": 0.544522,
     "end_time": "2021-05-19T12:11:38.481306",
     "exception": false,
     "start_time": "2021-05-19T12:11:37.936784",
     "status": "completed"
    },
    "tags": []
   },
   "outputs": [],
   "source": [
    "#hide\n",
    "COL_REGION = 'Country/Region'\n",
    "# Confirmed, Recovered, Deaths\n",
    "df = get_frame('confirmed')\n",
    "# dft_: timeseries, dfc_: today country agg\n",
    "dft_cases = df\n",
    "dft_deaths = get_frame('deaths')\n",
    "dft_recovered = get_frame('recovered')\n",
    "LAST_DATE_I, dt_cols = get_dates(df)"
   ]
  },
  {
   "cell_type": "code",
   "execution_count": 10,
   "id": "absolute-copper",
   "metadata": {
    "execution": {
     "iopub.execute_input": "2021-05-19T12:11:38.567151Z",
     "iopub.status.busy": "2021-05-19T12:11:38.566128Z",
     "iopub.status.idle": "2021-05-19T12:11:38.568198Z",
     "shell.execute_reply": "2021-05-19T12:11:38.568681Z"
    },
    "papermill": {
     "duration": 0.046654,
     "end_time": "2021-05-19T12:11:38.568817",
     "exception": false,
     "start_time": "2021-05-19T12:11:38.522163",
     "status": "completed"
    },
    "tags": []
   },
   "outputs": [],
   "source": [
    "#hide\n",
    "LAST_DATE_I, dt_cols = get_dates(df)\n",
    "dt_today =dt_cols[LAST_DATE_I]\n",
    "# dt_5day = dt_cols[LAST_DATE_I - 5]\n",
    "dt_yday = dt_cols[LAST_DATE_I - 1]"
   ]
  },
  {
   "cell_type": "code",
   "execution_count": 11,
   "id": "restricted-sheriff",
   "metadata": {
    "execution": {
     "iopub.execute_input": "2021-05-19T12:11:38.642342Z",
     "iopub.status.busy": "2021-05-19T12:11:38.641746Z",
     "iopub.status.idle": "2021-05-19T12:11:38.649225Z",
     "shell.execute_reply": "2021-05-19T12:11:38.649665Z"
    },
    "papermill": {
     "duration": 0.048137,
     "end_time": "2021-05-19T12:11:38.649822",
     "exception": false,
     "start_time": "2021-05-19T12:11:38.601685",
     "status": "completed"
    },
    "tags": []
   },
   "outputs": [],
   "source": [
    "#hide\n",
    "dfc_cases = dft_cases.groupby(COL_REGION)[dt_today].sum()\n",
    "dfc_deaths = dft_deaths.groupby(COL_REGION)[dt_today].sum()\n",
    "# dfp_cases = dft_cases.groupby(COL_REGION)[dt_5day].sum()\n",
    "# dfp_deaths = dft_deaths.groupby(COL_REGION)[dt_5day].sum()\n",
    "dfp_cases = dft_cases.groupby(COL_REGION)[dt_yday].sum()\n",
    "dfp_deaths = dft_deaths.groupby(COL_REGION)[dt_yday].sum()"
   ]
  },
  {
   "cell_type": "code",
   "execution_count": 12,
   "id": "deluxe-hepatitis",
   "metadata": {
    "execution": {
     "iopub.execute_input": "2021-05-19T12:11:38.723859Z",
     "iopub.status.busy": "2021-05-19T12:11:38.722221Z",
     "iopub.status.idle": "2021-05-19T12:11:38.729810Z",
     "shell.execute_reply": "2021-05-19T12:11:38.728782Z"
    },
    "papermill": {
     "duration": 0.047371,
     "end_time": "2021-05-19T12:11:38.729942",
     "exception": false,
     "start_time": "2021-05-19T12:11:38.682571",
     "status": "completed"
    },
    "tags": []
   },
   "outputs": [],
   "source": [
    "#hide\n",
    "df_table = (pd.DataFrame(dict(Cases = dfc_cases, Deaths = dfc_deaths, PCases = dfp_cases, PDeaths = dfp_deaths))\n",
    "            .sort_values(by = ['Cases','Deaths'], ascending = [False, False])\n",
    "            .reset_index())"
   ]
  },
  {
   "cell_type": "code",
   "execution_count": 13,
   "id": "educational-chancellor",
   "metadata": {
    "execution": {
     "iopub.execute_input": "2021-05-19T12:11:38.823283Z",
     "iopub.status.busy": "2021-05-19T12:11:38.816650Z",
     "iopub.status.idle": "2021-05-19T12:11:38.828675Z",
     "shell.execute_reply": "2021-05-19T12:11:38.828176Z"
    },
    "papermill": {
     "duration": 0.064964,
     "end_time": "2021-05-19T12:11:38.828800",
     "exception": false,
     "start_time": "2021-05-19T12:11:38.763836",
     "status": "completed"
    },
    "tags": []
   },
   "outputs": [
    {
     "data": {
      "text/html": [
       "<div>\n",
       "<style scoped>\n",
       "    .dataframe tbody tr th:only-of-type {\n",
       "        vertical-align: middle;\n",
       "    }\n",
       "\n",
       "    .dataframe tbody tr th {\n",
       "        vertical-align: top;\n",
       "    }\n",
       "\n",
       "    .dataframe thead th {\n",
       "        text-align: right;\n",
       "    }\n",
       "</style>\n",
       "<table border=\"1\" class=\"dataframe\">\n",
       "  <thead>\n",
       "    <tr style=\"text-align: right;\">\n",
       "      <th></th>\n",
       "      <th>Country/Region</th>\n",
       "      <th>Cases</th>\n",
       "      <th>Deaths</th>\n",
       "      <th>PCases</th>\n",
       "      <th>PDeaths</th>\n",
       "      <th>Cases (+)</th>\n",
       "      <th>Deaths (+)</th>\n",
       "      <th>Fatality Rate</th>\n",
       "      <th>Continent</th>\n",
       "    </tr>\n",
       "  </thead>\n",
       "  <tbody>\n",
       "    <tr>\n",
       "      <th>0</th>\n",
       "      <td>US</td>\n",
       "      <td>32997331</td>\n",
       "      <td>587219</td>\n",
       "      <td>32969480</td>\n",
       "      <td>586362</td>\n",
       "      <td>27851</td>\n",
       "      <td>857</td>\n",
       "      <td>1.78</td>\n",
       "      <td>North America</td>\n",
       "    </tr>\n",
       "    <tr>\n",
       "      <th>1</th>\n",
       "      <td>India</td>\n",
       "      <td>25496330</td>\n",
       "      <td>283248</td>\n",
       "      <td>25228996</td>\n",
       "      <td>278719</td>\n",
       "      <td>267334</td>\n",
       "      <td>4529</td>\n",
       "      <td>1.11</td>\n",
       "      <td>Asia</td>\n",
       "    </tr>\n",
       "    <tr>\n",
       "      <th>2</th>\n",
       "      <td>Brazil</td>\n",
       "      <td>15732836</td>\n",
       "      <td>439050</td>\n",
       "      <td>15657391</td>\n",
       "      <td>436537</td>\n",
       "      <td>75445</td>\n",
       "      <td>2513</td>\n",
       "      <td>2.79</td>\n",
       "      <td>South America</td>\n",
       "    </tr>\n",
       "    <tr>\n",
       "      <th>3</th>\n",
       "      <td>France</td>\n",
       "      <td>5959593</td>\n",
       "      <td>108201</td>\n",
       "      <td>5942370</td>\n",
       "      <td>107973</td>\n",
       "      <td>17223</td>\n",
       "      <td>228</td>\n",
       "      <td>1.82</td>\n",
       "      <td>Europe</td>\n",
       "    </tr>\n",
       "    <tr>\n",
       "      <th>4</th>\n",
       "      <td>Turkey</td>\n",
       "      <td>5139485</td>\n",
       "      <td>45186</td>\n",
       "      <td>5127548</td>\n",
       "      <td>44983</td>\n",
       "      <td>11937</td>\n",
       "      <td>203</td>\n",
       "      <td>0.88</td>\n",
       "      <td>Asia</td>\n",
       "    </tr>\n",
       "  </tbody>\n",
       "</table>\n",
       "</div>"
      ],
      "text/plain": [
       "  Country/Region     Cases  Deaths    PCases  PDeaths  Cases (+)  Deaths (+)  \\\n",
       "0             US  32997331  587219  32969480   586362      27851         857   \n",
       "1          India  25496330  283248  25228996   278719     267334        4529   \n",
       "2         Brazil  15732836  439050  15657391   436537      75445        2513   \n",
       "3         France   5959593  108201   5942370   107973      17223         228   \n",
       "4         Turkey   5139485   45186   5127548    44983      11937         203   \n",
       "\n",
       "   Fatality Rate      Continent  \n",
       "0           1.78  North America  \n",
       "1           1.11           Asia  \n",
       "2           2.79  South America  \n",
       "3           1.82         Europe  \n",
       "4           0.88           Asia  "
      ]
     },
     "execution_count": 13,
     "metadata": {},
     "output_type": "execute_result"
    }
   ],
   "source": [
    "#hide\n",
    "for c in 'Cases, Deaths'.split(', '):\n",
    "    df_table[f'{c} (+)'] = (df_table[c] - df_table[f'P{c}']).clip(0)\n",
    "    #Clip ça veut dire, les chiffres negatif sont interdit\n",
    "df_table['Fatality Rate'] = (100* df_table['Deaths']/ df_table['Cases']).round(2)\n",
    "df_table['Continent'] = df_table['Country/Region'].map(mapping['map.continent'])\n",
    "df_table.head(5)"
   ]
  },
  {
   "cell_type": "code",
   "execution_count": 14,
   "id": "aboriginal-bulgaria",
   "metadata": {
    "execution": {
     "iopub.execute_input": "2021-05-19T12:11:38.904921Z",
     "iopub.status.busy": "2021-05-19T12:11:38.904311Z",
     "iopub.status.idle": "2021-05-19T12:11:38.907512Z",
     "shell.execute_reply": "2021-05-19T12:11:38.907954Z"
    },
    "papermill": {
     "duration": 0.044892,
     "end_time": "2021-05-19T12:11:38.908104",
     "exception": false,
     "start_time": "2021-05-19T12:11:38.863212",
     "status": "completed"
    },
    "tags": []
   },
   "outputs": [],
   "source": [
    "#hide\n",
    "#delete problematic countries from table\n",
    "df_table = df_table[~df_table['Country/Region'].isin(['Cape Verde', 'Cruise Ship', 'Kosovo'])]"
   ]
  },
  {
   "cell_type": "code",
   "execution_count": 15,
   "id": "fantastic-effect",
   "metadata": {
    "execution": {
     "iopub.execute_input": "2021-05-19T12:11:38.998928Z",
     "iopub.status.busy": "2021-05-19T12:11:38.985626Z",
     "iopub.status.idle": "2021-05-19T12:11:39.005875Z",
     "shell.execute_reply": "2021-05-19T12:11:39.006319Z"
    },
    "papermill": {
     "duration": 0.065063,
     "end_time": "2021-05-19T12:11:39.006464",
     "exception": false,
     "start_time": "2021-05-19T12:11:38.941401",
     "status": "completed"
    },
    "tags": []
   },
   "outputs": [
    {
     "data": {
      "text/html": [
       "<div>\n",
       "<style scoped>\n",
       "    .dataframe tbody tr th:only-of-type {\n",
       "        vertical-align: middle;\n",
       "    }\n",
       "\n",
       "    .dataframe tbody tr th {\n",
       "        vertical-align: top;\n",
       "    }\n",
       "\n",
       "    .dataframe thead th {\n",
       "        text-align: right;\n",
       "    }\n",
       "</style>\n",
       "<table border=\"1\" class=\"dataframe\">\n",
       "  <thead>\n",
       "    <tr style=\"text-align: right;\">\n",
       "      <th></th>\n",
       "      <th>Country/Region</th>\n",
       "      <th>Cases</th>\n",
       "      <th>Deaths</th>\n",
       "      <th>PCases</th>\n",
       "      <th>PDeaths</th>\n",
       "      <th>Cases (+)</th>\n",
       "      <th>Deaths (+)</th>\n",
       "      <th>Fatality Rate</th>\n",
       "      <th>Continent</th>\n",
       "    </tr>\n",
       "  </thead>\n",
       "  <tbody>\n",
       "    <tr>\n",
       "      <th>0</th>\n",
       "      <td>US</td>\n",
       "      <td>32997331</td>\n",
       "      <td>587219</td>\n",
       "      <td>32969480</td>\n",
       "      <td>586362</td>\n",
       "      <td>27851</td>\n",
       "      <td>857</td>\n",
       "      <td>1.8</td>\n",
       "      <td>North America</td>\n",
       "    </tr>\n",
       "    <tr>\n",
       "      <th>1</th>\n",
       "      <td>India</td>\n",
       "      <td>25496330</td>\n",
       "      <td>283248</td>\n",
       "      <td>25228996</td>\n",
       "      <td>278719</td>\n",
       "      <td>267334</td>\n",
       "      <td>4529</td>\n",
       "      <td>1.1</td>\n",
       "      <td>Asia</td>\n",
       "    </tr>\n",
       "    <tr>\n",
       "      <th>2</th>\n",
       "      <td>Brazil</td>\n",
       "      <td>15732836</td>\n",
       "      <td>439050</td>\n",
       "      <td>15657391</td>\n",
       "      <td>436537</td>\n",
       "      <td>75445</td>\n",
       "      <td>2513</td>\n",
       "      <td>2.8</td>\n",
       "      <td>South America</td>\n",
       "    </tr>\n",
       "    <tr>\n",
       "      <th>3</th>\n",
       "      <td>France</td>\n",
       "      <td>5959593</td>\n",
       "      <td>108201</td>\n",
       "      <td>5942370</td>\n",
       "      <td>107973</td>\n",
       "      <td>17223</td>\n",
       "      <td>228</td>\n",
       "      <td>1.8</td>\n",
       "      <td>Europe</td>\n",
       "    </tr>\n",
       "    <tr>\n",
       "      <th>4</th>\n",
       "      <td>Turkey</td>\n",
       "      <td>5139485</td>\n",
       "      <td>45186</td>\n",
       "      <td>5127548</td>\n",
       "      <td>44983</td>\n",
       "      <td>11937</td>\n",
       "      <td>203</td>\n",
       "      <td>0.9</td>\n",
       "      <td>Asia</td>\n",
       "    </tr>\n",
       "  </tbody>\n",
       "</table>\n",
       "</div>"
      ],
      "text/plain": [
       "  Country/Region     Cases  Deaths    PCases  PDeaths  Cases (+)  Deaths (+)  \\\n",
       "0             US  32997331  587219  32969480   586362      27851         857   \n",
       "1          India  25496330  283248  25228996   278719     267334        4529   \n",
       "2         Brazil  15732836  439050  15657391   436537      75445        2513   \n",
       "3         France   5959593  108201   5942370   107973      17223         228   \n",
       "4         Turkey   5139485   45186   5127548    44983      11937         203   \n",
       "\n",
       "   Fatality Rate      Continent  \n",
       "0            1.8  North America  \n",
       "1            1.1           Asia  \n",
       "2            2.8  South America  \n",
       "3            1.8         Europe  \n",
       "4            0.9           Asia  "
      ]
     },
     "execution_count": 15,
     "metadata": {},
     "output_type": "execute_result"
    }
   ],
   "source": [
    "#hide\n",
    "df_table = (pd.DataFrame(dict(Cases=dfc_cases, Deaths=dfc_deaths, PCases=dfp_cases, PDeaths=dfp_deaths))\n",
    "             .sort_values(by=['Cases', 'Deaths'], ascending=[False, False])\n",
    "             .reset_index())\n",
    "df_table.rename(columns={'index': 'Country/Region'}, inplace=True)\n",
    "for c in 'Cases, Deaths'.split(', '):\n",
    "    df_table[f'{c} (+)'] = (df_table[c] - df_table[f'P{c}']).clip(0)  # DATA BUG\n",
    "df_table['Fatality Rate'] = (100 * df_table['Deaths'] / df_table['Cases']).round(1)\n",
    "df_table['Continent'] = df_table['Country/Region'].map(mapping['map.continent'])\n",
    "df_table.head(5)"
   ]
  },
  {
   "cell_type": "code",
   "execution_count": 16,
   "id": "fewer-occasion",
   "metadata": {
    "execution": {
     "iopub.execute_input": "2021-05-19T12:11:39.080484Z",
     "iopub.status.busy": "2021-05-19T12:11:39.079867Z",
     "iopub.status.idle": "2021-05-19T12:11:39.081781Z",
     "shell.execute_reply": "2021-05-19T12:11:39.082427Z"
    },
    "papermill": {
     "duration": 0.041638,
     "end_time": "2021-05-19T12:11:39.082580",
     "exception": false,
     "start_time": "2021-05-19T12:11:39.040942",
     "status": "completed"
    },
    "tags": []
   },
   "outputs": [],
   "source": [
    "#hide\n",
    "#delete problematic countries from table\n",
    "df_table = df_table[~df_table['Country/Region'].isin(['Cape Verde', 'Cruise Ship', 'Kosovo'])]"
   ]
  },
  {
   "cell_type": "code",
   "execution_count": 17,
   "id": "related-center",
   "metadata": {
    "execution": {
     "iopub.execute_input": "2021-05-19T12:11:39.167954Z",
     "iopub.status.busy": "2021-05-19T12:11:39.167376Z",
     "iopub.status.idle": "2021-05-19T12:11:39.170164Z",
     "shell.execute_reply": "2021-05-19T12:11:39.169669Z"
    },
    "papermill": {
     "duration": 0.054613,
     "end_time": "2021-05-19T12:11:39.170285",
     "exception": false,
     "start_time": "2021-05-19T12:11:39.115672",
     "status": "completed"
    },
    "tags": []
   },
   "outputs": [],
   "source": [
    "#hide\n",
    "metrics = [df_table.columns[index] for index in [1,2,5,6]]\n",
    "# s_china = df_table[df_table['Country/Region'].eq('China')][metrics].sum().add_prefix('China ')\n",
    "s_us = df_table[df_table['Country/Region'].eq('US')][metrics].sum().add_prefix('US ')\n",
    "s_eu = df_table[df_table['Continent'].eq('Europe')][metrics].sum().add_prefix('EU ')\n",
    "s_ind = df_table[df_table['Country/Region'].eq('India')][metrics].sum().add_prefix('India ')\n",
    "summary = {'updated': pd.to_datetime(dt_today), 'since': pd.to_datetime(dt_yday)}\n",
    "summary = {'updated': pd.to_datetime(dt_today), 'since': pd.to_datetime(dt_yday)}\n",
    "summary = {**summary, **df_table[metrics].sum(), **s_ind, **s_us, **s_eu}"
   ]
  },
  {
   "cell_type": "code",
   "execution_count": 18,
   "id": "engaging-syndrome",
   "metadata": {
    "execution": {
     "iopub.execute_input": "2021-05-19T12:11:39.244051Z",
     "iopub.status.busy": "2021-05-19T12:11:39.243510Z",
     "iopub.status.idle": "2021-05-19T12:11:39.255857Z",
     "shell.execute_reply": "2021-05-19T12:11:39.256329Z"
    },
    "papermill": {
     "duration": 0.052563,
     "end_time": "2021-05-19T12:11:39.256504",
     "exception": false,
     "start_time": "2021-05-19T12:11:39.203941",
     "status": "completed"
    },
    "tags": []
   },
   "outputs": [],
   "source": [
    "#hide\n",
    "dft_ct_new_cases = dft_cases.groupby(COL_REGION)[dt_cols].sum().diff(axis=1).fillna(0).astype(int)"
   ]
  },
  {
   "cell_type": "code",
   "execution_count": 19,
   "id": "neutral-assignment",
   "metadata": {
    "execution": {
     "iopub.execute_input": "2021-05-19T12:11:39.330255Z",
     "iopub.status.busy": "2021-05-19T12:11:39.329681Z",
     "iopub.status.idle": "2021-05-19T12:11:39.332094Z",
     "shell.execute_reply": "2021-05-19T12:11:39.332572Z"
    },
    "papermill": {
     "duration": 0.042697,
     "end_time": "2021-05-19T12:11:39.332721",
     "exception": false,
     "start_time": "2021-05-19T12:11:39.290024",
     "status": "completed"
    },
    "tags": []
   },
   "outputs": [],
   "source": [
    "#hide\n",
    "everydaycases = dft_ct_new_cases.cumsum(axis=1)"
   ]
  },
  {
   "cell_type": "code",
   "execution_count": 20,
   "id": "parliamentary-calgary",
   "metadata": {
    "execution": {
     "iopub.execute_input": "2021-05-19T12:11:39.408173Z",
     "iopub.status.busy": "2021-05-19T12:11:39.407625Z",
     "iopub.status.idle": "2021-05-19T12:11:39.998248Z",
     "shell.execute_reply": "2021-05-19T12:11:39.997622Z"
    },
    "papermill": {
     "duration": 0.631105,
     "end_time": "2021-05-19T12:11:39.998409",
     "exception": false,
     "start_time": "2021-05-19T12:11:39.367304",
     "status": "completed"
    },
    "tags": []
   },
   "outputs": [],
   "source": [
    "#hide\n",
    "import pandas as pd\n",
    "import matplotlib.pyplot as plt\n",
    "import matplotlib.ticker as ticker\n",
    "import matplotlib.animation as animation\n",
    "from IPython.display import HTML"
   ]
  },
  {
   "cell_type": "code",
   "execution_count": 21,
   "id": "lasting-extraction",
   "metadata": {
    "execution": {
     "iopub.execute_input": "2021-05-19T12:11:40.086680Z",
     "iopub.status.busy": "2021-05-19T12:11:40.085633Z",
     "iopub.status.idle": "2021-05-19T12:11:40.091370Z",
     "shell.execute_reply": "2021-05-19T12:11:40.090871Z"
    },
    "papermill": {
     "duration": 0.052706,
     "end_time": "2021-05-19T12:11:40.091492",
     "exception": false,
     "start_time": "2021-05-19T12:11:40.038786",
     "status": "completed"
    },
    "tags": []
   },
   "outputs": [],
   "source": [
    "#hide\n",
    "t = everydaycases.stack()"
   ]
  },
  {
   "cell_type": "code",
   "execution_count": 22,
   "id": "premier-sleeve",
   "metadata": {
    "execution": {
     "iopub.execute_input": "2021-05-19T12:11:40.175817Z",
     "iopub.status.busy": "2021-05-19T12:11:40.175177Z",
     "iopub.status.idle": "2021-05-19T12:11:40.184439Z",
     "shell.execute_reply": "2021-05-19T12:11:40.183831Z"
    },
    "papermill": {
     "duration": 0.053345,
     "end_time": "2021-05-19T12:11:40.184580",
     "exception": false,
     "start_time": "2021-05-19T12:11:40.131235",
     "status": "completed"
    },
    "tags": []
   },
   "outputs": [],
   "source": [
    "#hide\n",
    "g = t.reset_index(['Country/Region'])"
   ]
  },
  {
   "cell_type": "code",
   "execution_count": 23,
   "id": "distributed-pittsburgh",
   "metadata": {
    "execution": {
     "iopub.execute_input": "2021-05-19T12:11:40.255815Z",
     "iopub.status.busy": "2021-05-19T12:11:40.255256Z",
     "iopub.status.idle": "2021-05-19T12:11:40.258452Z",
     "shell.execute_reply": "2021-05-19T12:11:40.258901Z"
    },
    "papermill": {
     "duration": 0.041312,
     "end_time": "2021-05-19T12:11:40.259049",
     "exception": false,
     "start_time": "2021-05-19T12:11:40.217737",
     "status": "completed"
    },
    "tags": []
   },
   "outputs": [],
   "source": [
    "#hide\n",
    "g.index.name = 'date'"
   ]
  },
  {
   "cell_type": "code",
   "execution_count": 24,
   "id": "naked-donor",
   "metadata": {
    "execution": {
     "iopub.execute_input": "2021-05-19T12:11:40.330990Z",
     "iopub.status.busy": "2021-05-19T12:11:40.330391Z",
     "iopub.status.idle": "2021-05-19T12:11:40.333006Z",
     "shell.execute_reply": "2021-05-19T12:11:40.333416Z"
    },
    "papermill": {
     "duration": 0.040799,
     "end_time": "2021-05-19T12:11:40.333553",
     "exception": false,
     "start_time": "2021-05-19T12:11:40.292754",
     "status": "completed"
    },
    "tags": []
   },
   "outputs": [],
   "source": [
    "# #hide\n",
    "# g = g.reset_index(['date'])"
   ]
  },
  {
   "cell_type": "code",
   "execution_count": 25,
   "id": "incomplete-mustang",
   "metadata": {
    "execution": {
     "iopub.execute_input": "2021-05-19T12:11:40.404903Z",
     "iopub.status.busy": "2021-05-19T12:11:40.404284Z",
     "iopub.status.idle": "2021-05-19T12:11:40.406474Z",
     "shell.execute_reply": "2021-05-19T12:11:40.406042Z"
    },
    "papermill": {
     "duration": 0.040026,
     "end_time": "2021-05-19T12:11:40.406589",
     "exception": false,
     "start_time": "2021-05-19T12:11:40.366563",
     "status": "completed"
    },
    "tags": []
   },
   "outputs": [],
   "source": [
    "#hide\n",
    "# g.head()"
   ]
  },
  {
   "cell_type": "code",
   "execution_count": 26,
   "id": "specific-kruger",
   "metadata": {
    "execution": {
     "iopub.execute_input": "2021-05-19T12:11:40.479747Z",
     "iopub.status.busy": "2021-05-19T12:11:40.478714Z",
     "iopub.status.idle": "2021-05-19T12:11:40.480879Z",
     "shell.execute_reply": "2021-05-19T12:11:40.481857Z"
    },
    "papermill": {
     "duration": 0.041533,
     "end_time": "2021-05-19T12:11:40.482093",
     "exception": false,
     "start_time": "2021-05-19T12:11:40.440560",
     "status": "completed"
    },
    "tags": []
   },
   "outputs": [],
   "source": [
    "#hide\n",
    "# g.columns = ['date','country','cases']"
   ]
  },
  {
   "cell_type": "code",
   "execution_count": 27,
   "id": "tender-conversion",
   "metadata": {
    "execution": {
     "iopub.execute_input": "2021-05-19T12:11:40.560510Z",
     "iopub.status.busy": "2021-05-19T12:11:40.559451Z",
     "iopub.status.idle": "2021-05-19T12:11:40.561593Z",
     "shell.execute_reply": "2021-05-19T12:11:40.562393Z"
    },
    "papermill": {
     "duration": 0.044461,
     "end_time": "2021-05-19T12:11:40.562616",
     "exception": false,
     "start_time": "2021-05-19T12:11:40.518155",
     "status": "completed"
    },
    "tags": []
   },
   "outputs": [],
   "source": [
    "#hide\n",
    "# g['continent'] = g.country"
   ]
  },
  {
   "cell_type": "code",
   "execution_count": 28,
   "id": "substantial-wilderness",
   "metadata": {
    "execution": {
     "iopub.execute_input": "2021-05-19T12:11:40.636286Z",
     "iopub.status.busy": "2021-05-19T12:11:40.635695Z",
     "iopub.status.idle": "2021-05-19T12:11:40.638322Z",
     "shell.execute_reply": "2021-05-19T12:11:40.637827Z"
    },
    "papermill": {
     "duration": 0.040874,
     "end_time": "2021-05-19T12:11:40.638442",
     "exception": false,
     "start_time": "2021-05-19T12:11:40.597568",
     "status": "completed"
    },
    "tags": []
   },
   "outputs": [],
   "source": [
    "#hide\n",
    "# cols = list(g.columns.values)"
   ]
  },
  {
   "cell_type": "code",
   "execution_count": 29,
   "id": "solved-farming",
   "metadata": {
    "execution": {
     "iopub.execute_input": "2021-05-19T12:11:40.710874Z",
     "iopub.status.busy": "2021-05-19T12:11:40.710295Z",
     "iopub.status.idle": "2021-05-19T12:11:40.712575Z",
     "shell.execute_reply": "2021-05-19T12:11:40.713132Z"
    },
    "papermill": {
     "duration": 0.04145,
     "end_time": "2021-05-19T12:11:40.713270",
     "exception": false,
     "start_time": "2021-05-19T12:11:40.671820",
     "status": "completed"
    },
    "tags": []
   },
   "outputs": [],
   "source": [
    "#hide\n",
    "# cols.insert(0, cols.pop())"
   ]
  },
  {
   "cell_type": "code",
   "execution_count": 30,
   "id": "executed-adoption",
   "metadata": {
    "execution": {
     "iopub.execute_input": "2021-05-19T12:11:40.785373Z",
     "iopub.status.busy": "2021-05-19T12:11:40.784808Z",
     "iopub.status.idle": "2021-05-19T12:11:40.787682Z",
     "shell.execute_reply": "2021-05-19T12:11:40.787249Z"
    },
    "papermill": {
     "duration": 0.040295,
     "end_time": "2021-05-19T12:11:40.787796",
     "exception": false,
     "start_time": "2021-05-19T12:11:40.747501",
     "status": "completed"
    },
    "tags": []
   },
   "outputs": [],
   "source": [
    "#hide\n",
    "# g = g[cols]"
   ]
  },
  {
   "cell_type": "code",
   "execution_count": 31,
   "id": "subject-dublin",
   "metadata": {
    "execution": {
     "iopub.execute_input": "2021-05-19T12:11:40.859622Z",
     "iopub.status.busy": "2021-05-19T12:11:40.859041Z",
     "iopub.status.idle": "2021-05-19T12:11:40.861423Z",
     "shell.execute_reply": "2021-05-19T12:11:40.860934Z"
    },
    "papermill": {
     "duration": 0.040779,
     "end_time": "2021-05-19T12:11:40.861549",
     "exception": false,
     "start_time": "2021-05-19T12:11:40.820770",
     "status": "completed"
    },
    "tags": []
   },
   "outputs": [],
   "source": [
    "#hide\n",
    "# g['continent'] = g['continent'].map(mapping['map.continent'])"
   ]
  },
  {
   "cell_type": "code",
   "execution_count": 32,
   "id": "freelance-scout",
   "metadata": {
    "execution": {
     "iopub.execute_input": "2021-05-19T12:11:40.931312Z",
     "iopub.status.busy": "2021-05-19T12:11:40.930765Z",
     "iopub.status.idle": "2021-05-19T12:11:40.933074Z",
     "shell.execute_reply": "2021-05-19T12:11:40.932600Z"
    },
    "papermill": {
     "duration": 0.038494,
     "end_time": "2021-05-19T12:11:40.933195",
     "exception": false,
     "start_time": "2021-05-19T12:11:40.894701",
     "status": "completed"
    },
    "tags": []
   },
   "outputs": [],
   "source": [
    "#hide\n",
    "# g.head()"
   ]
  },
  {
   "cell_type": "code",
   "execution_count": 33,
   "id": "limited-engine",
   "metadata": {
    "execution": {
     "iopub.execute_input": "2021-05-19T12:11:41.011907Z",
     "iopub.status.busy": "2021-05-19T12:11:41.011323Z",
     "iopub.status.idle": "2021-05-19T12:11:41.013765Z",
     "shell.execute_reply": "2021-05-19T12:11:41.013272Z"
    },
    "papermill": {
     "duration": 0.042258,
     "end_time": "2021-05-19T12:11:41.013887",
     "exception": false,
     "start_time": "2021-05-19T12:11:40.971629",
     "status": "completed"
    },
    "tags": []
   },
   "outputs": [],
   "source": [
    "# hide\n",
    "# g['date'] = g['date'].astype('datetime64[ns]')"
   ]
  },
  {
   "cell_type": "code",
   "execution_count": 34,
   "id": "sophisticated-supervisor",
   "metadata": {
    "execution": {
     "iopub.execute_input": "2021-05-19T12:11:41.095805Z",
     "iopub.status.busy": "2021-05-19T12:11:41.095220Z",
     "iopub.status.idle": "2021-05-19T12:11:41.097467Z",
     "shell.execute_reply": "2021-05-19T12:11:41.096976Z"
    },
    "papermill": {
     "duration": 0.044787,
     "end_time": "2021-05-19T12:11:41.097590",
     "exception": false,
     "start_time": "2021-05-19T12:11:41.052803",
     "status": "completed"
    },
    "tags": []
   },
   "outputs": [],
   "source": [
    "#hide\n",
    "# g['date'] = g.date.dt.dayofyear"
   ]
  },
  {
   "cell_type": "code",
   "execution_count": 35,
   "id": "inside-dubai",
   "metadata": {
    "execution": {
     "iopub.execute_input": "2021-05-19T12:11:41.171542Z",
     "iopub.status.busy": "2021-05-19T12:11:41.170948Z",
     "iopub.status.idle": "2021-05-19T12:11:41.173327Z",
     "shell.execute_reply": "2021-05-19T12:11:41.173797Z"
    },
    "papermill": {
     "duration": 0.041784,
     "end_time": "2021-05-19T12:11:41.173942",
     "exception": false,
     "start_time": "2021-05-19T12:11:41.132158",
     "status": "completed"
    },
    "tags": []
   },
   "outputs": [],
   "source": [
    "#hide\n",
    "# g = g.rename(columns= {'continent':'group','country':'name','cases':'value'})"
   ]
  },
  {
   "cell_type": "code",
   "execution_count": 36,
   "id": "fleet-motorcycle",
   "metadata": {
    "execution": {
     "iopub.execute_input": "2021-05-19T12:11:41.247709Z",
     "iopub.status.busy": "2021-05-19T12:11:41.247155Z",
     "iopub.status.idle": "2021-05-19T12:11:41.248899Z",
     "shell.execute_reply": "2021-05-19T12:11:41.249392Z"
    },
    "papermill": {
     "duration": 0.041579,
     "end_time": "2021-05-19T12:11:41.249531",
     "exception": false,
     "start_time": "2021-05-19T12:11:41.207952",
     "status": "completed"
    },
    "tags": []
   },
   "outputs": [],
   "source": [
    "#hide\n",
    "# cols = ['name','group','day','value']"
   ]
  },
  {
   "cell_type": "code",
   "execution_count": 37,
   "id": "continued-sleeping",
   "metadata": {
    "execution": {
     "iopub.execute_input": "2021-05-19T12:11:41.318865Z",
     "iopub.status.busy": "2021-05-19T12:11:41.318324Z",
     "iopub.status.idle": "2021-05-19T12:11:41.320511Z",
     "shell.execute_reply": "2021-05-19T12:11:41.321029Z"
    },
    "papermill": {
     "duration": 0.039297,
     "end_time": "2021-05-19T12:11:41.321156",
     "exception": false,
     "start_time": "2021-05-19T12:11:41.281859",
     "status": "completed"
    },
    "tags": []
   },
   "outputs": [],
   "source": [
    "#hide\n",
    "# g.rename(columns= {'date':'day'},inplace = True)"
   ]
  },
  {
   "cell_type": "code",
   "execution_count": 38,
   "id": "major-fight",
   "metadata": {
    "execution": {
     "iopub.execute_input": "2021-05-19T12:11:41.390842Z",
     "iopub.status.busy": "2021-05-19T12:11:41.390299Z",
     "iopub.status.idle": "2021-05-19T12:11:41.392664Z",
     "shell.execute_reply": "2021-05-19T12:11:41.393181Z"
    },
    "papermill": {
     "duration": 0.039611,
     "end_time": "2021-05-19T12:11:41.393309",
     "exception": false,
     "start_time": "2021-05-19T12:11:41.353698",
     "status": "completed"
    },
    "tags": []
   },
   "outputs": [],
   "source": [
    "#hide\n",
    "# g = g[cols]"
   ]
  },
  {
   "cell_type": "code",
   "execution_count": 39,
   "id": "structured-mobile",
   "metadata": {
    "execution": {
     "iopub.execute_input": "2021-05-19T12:11:41.463128Z",
     "iopub.status.busy": "2021-05-19T12:11:41.462563Z",
     "iopub.status.idle": "2021-05-19T12:11:41.464815Z",
     "shell.execute_reply": "2021-05-19T12:11:41.465330Z"
    },
    "papermill": {
     "duration": 0.03988,
     "end_time": "2021-05-19T12:11:41.465477",
     "exception": false,
     "start_time": "2021-05-19T12:11:41.425597",
     "status": "completed"
    },
    "tags": []
   },
   "outputs": [],
   "source": [
    "# #hide\n",
    "# g = g[g.group.notna()]"
   ]
  },
  {
   "cell_type": "code",
   "execution_count": 40,
   "id": "determined-closing",
   "metadata": {
    "execution": {
     "iopub.execute_input": "2021-05-19T12:11:41.535924Z",
     "iopub.status.busy": "2021-05-19T12:11:41.535377Z",
     "iopub.status.idle": "2021-05-19T12:11:41.538224Z",
     "shell.execute_reply": "2021-05-19T12:11:41.538777Z"
    },
    "papermill": {
     "duration": 0.04111,
     "end_time": "2021-05-19T12:11:41.538915",
     "exception": false,
     "start_time": "2021-05-19T12:11:41.497805",
     "status": "completed"
    },
    "tags": []
   },
   "outputs": [],
   "source": [
    "# #hide\n",
    "# colors = dict(zip(\n",
    "#     [\"Oceania\", \"Europe\", \"Asia\", \"South America\", \"Middle East\", \"North America\", \"Africa\"],\n",
    "#     [\"#adb0ff\", \"#ffb3ff\", \"#90d595\", \"#e48381\", \"#aafbff\", \"#f7bb5f\", \"#eafb50\"]\n",
    "# ))\n",
    "# group_lk = g.set_index('name')['group'].to_dict()"
   ]
  },
  {
   "cell_type": "code",
   "execution_count": null,
   "id": "gross-drinking",
   "metadata": {
    "papermill": {
     "duration": 0.033002,
     "end_time": "2021-05-19T12:11:41.605165",
     "exception": false,
     "start_time": "2021-05-19T12:11:41.572163",
     "status": "completed"
    },
    "tags": []
   },
   "outputs": [],
   "source": []
  },
  {
   "cell_type": "code",
   "execution_count": 41,
   "id": "subject-macintosh",
   "metadata": {
    "execution": {
     "iopub.execute_input": "2021-05-19T12:11:41.682491Z",
     "iopub.status.busy": "2021-05-19T12:11:41.681884Z",
     "iopub.status.idle": "2021-05-19T12:11:41.684552Z",
     "shell.execute_reply": "2021-05-19T12:11:41.684028Z"
    },
    "papermill": {
     "duration": 0.045285,
     "end_time": "2021-05-19T12:11:41.684676",
     "exception": false,
     "start_time": "2021-05-19T12:11:41.639391",
     "status": "completed"
    },
    "tags": []
   },
   "outputs": [],
   "source": [
    "# #hide\n",
    "# fig, ax = plt.subplots(figsize=(15, 8))\n",
    "\n",
    "# def draw_barchart(current_day):\n",
    "#     dff = g[g['day'].eq(current_day)].sort_values(by='value', ascending=True).tail(10)\n",
    "#     ax.clear()\n",
    "#     ax.barh(dff['name'], dff['value'], color=[colors[group_lk[x]] for x in dff['name']])\n",
    "#     dx = dff['value'].max() / 200\n",
    "    \n",
    "#     for i, (value, name) in enumerate(zip(dff['value'], dff['name'])):\n",
    "#         ax.text(value-dx, i,     name,           size=14, weight=600, ha='right', va='bottom')\n",
    "#         ax.text(value-dx, i-.25, group_lk[name], size=10, color='#444444', ha='right', va='baseline')\n",
    "#         ax.text(value+dx, i,     f'{value:,.0f}',  size=14, ha='left',  va='center')\n",
    "#     ax.text(1, 0.4, current_day, transform=ax.transAxes, color='#777777', size=46, ha='right', weight=800)\n",
    "#     ax.text(0, 1.06, 'Population (thousands)', transform=ax.transAxes, size=12, color='#777777')\n",
    "#     ax.xaxis.set_major_formatter(ticker.StrMethodFormatter('{x:,.0f}'))\n",
    "#     ax.xaxis.set_ticks_position('top')\n",
    "#     ax.tick_params(axis='x', colors='#777777', labelsize=12)\n",
    "#     ax.set_yticks([])\n",
    "#     ax.margins(0, 0.01)\n",
    "#     ax.grid(which='major', axis='x', linestyle='-')\n",
    "#     ax.set_axisbelow(True)\n",
    "    \n",
    "#     ax.text(0, 1.15, 'Coronavirus',\n",
    "#             transform=ax.transAxes, size=24, weight=600, ha='left', va='top')\n",
    "# #     ax.text(1, 0, 'by @pratapvardhan; credit @jburnmurdoch', transform=ax.transAxes, color='#777777', ha='right',\n",
    "# #             bbox=dict(facecolor='white', alpha=0.8, edgecolor='white'))\n",
    "#     plt.box(False)"
   ]
  },
  {
   "cell_type": "code",
   "execution_count": 42,
   "id": "sexual-wages",
   "metadata": {
    "execution": {
     "iopub.execute_input": "2021-05-19T12:11:41.757462Z",
     "iopub.status.busy": "2021-05-19T12:11:41.756877Z",
     "iopub.status.idle": "2021-05-19T12:11:41.759308Z",
     "shell.execute_reply": "2021-05-19T12:11:41.759863Z"
    },
    "papermill": {
     "duration": 0.041461,
     "end_time": "2021-05-19T12:11:41.760003",
     "exception": false,
     "start_time": "2021-05-19T12:11:41.718542",
     "status": "completed"
    },
    "tags": []
   },
   "outputs": [],
   "source": [
    "# #hide_input\n",
    "# fig, ax = plt.subplots(figsize=(15, 8))\n",
    "# animator = animation.FuncAnimation(fig, draw_barchart, frames=range(g.day.values.min(), g.day.values.max()))\n",
    "# HTML(animator.to_jshtml())\n",
    "# # or use animator.to_html5_video() or animator.save() "
   ]
  },
  {
   "cell_type": "code",
   "execution_count": null,
   "id": "australian-container",
   "metadata": {
    "papermill": {
     "duration": 0.034005,
     "end_time": "2021-05-19T12:11:41.828422",
     "exception": false,
     "start_time": "2021-05-19T12:11:41.794417",
     "status": "completed"
    },
    "tags": []
   },
   "outputs": [],
   "source": []
  },
  {
   "cell_type": "code",
   "execution_count": null,
   "id": "mediterranean-pontiac",
   "metadata": {
    "papermill": {
     "duration": 0.033586,
     "end_time": "2021-05-19T12:11:41.896095",
     "exception": false,
     "start_time": "2021-05-19T12:11:41.862509",
     "status": "completed"
    },
    "tags": []
   },
   "outputs": [],
   "source": []
  },
  {
   "cell_type": "code",
   "execution_count": null,
   "id": "aging-legislature",
   "metadata": {
    "papermill": {
     "duration": 0.033294,
     "end_time": "2021-05-19T12:11:41.963213",
     "exception": false,
     "start_time": "2021-05-19T12:11:41.929919",
     "status": "completed"
    },
    "tags": []
   },
   "outputs": [],
   "source": []
  }
 ],
 "metadata": {
  "kernelspec": {
   "display_name": "Python 3",
   "language": "python",
   "name": "python3"
  },
  "language_info": {
   "codemirror_mode": {
    "name": "ipython",
    "version": 3
   },
   "file_extension": ".py",
   "mimetype": "text/x-python",
   "name": "python",
   "nbconvert_exporter": "python",
   "pygments_lexer": "ipython3",
   "version": "3.6.13"
  },
  "papermill": {
   "duration": 6.689356,
   "end_time": "2021-05-19T12:11:42.404199",
   "environment_variables": {},
   "exception": null,
   "input_path": "2020-03-21-covid19exp.ipynb",
   "output_path": "2020-03-21-covid19exp.ipynb",
   "parameters": {},
   "start_time": "2021-05-19T12:11:35.714843",
   "version": "2.0.0"
  }
 },
 "nbformat": 4,
 "nbformat_minor": 5
}