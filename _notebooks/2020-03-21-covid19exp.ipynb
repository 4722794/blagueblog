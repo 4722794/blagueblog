{
 "cells": [
  {
   "cell_type": "markdown",
   "metadata": {
    "papermill": {
     "duration": 0.036235,
     "end_time": "2020-12-20T00:12:22.943451",
     "exception": false,
     "start_time": "2020-12-20T00:12:22.907216",
     "status": "completed"
    },
    "tags": []
   },
   "source": [
    "# COVID-19 Case Race\n",
    "> A race chart to see rising cases around the world\n",
    "\n",
    "- author: Hargun Oberoi\n",
    "- image: images/covid-overview.png\n",
    "- hide: false\n",
    "- badges: false"
   ]
  },
  {
   "cell_type": "code",
   "execution_count": 1,
   "metadata": {
    "execution": {
     "iopub.execute_input": "2020-12-20T00:12:23.020435Z",
     "iopub.status.busy": "2020-12-20T00:12:23.019724Z",
     "iopub.status.idle": "2020-12-20T00:12:23.374380Z",
     "shell.execute_reply": "2020-12-20T00:12:23.373431Z"
    },
    "papermill": {
     "duration": 0.398795,
     "end_time": "2020-12-20T00:12:23.374544",
     "exception": false,
     "start_time": "2020-12-20T00:12:22.975749",
     "status": "completed"
    },
    "tags": []
   },
   "outputs": [],
   "source": [
    "#hide\n",
    "import numpy as np\n",
    "import pandas as pd\n",
    "from jinja2 import Template\n",
    "from IPython.display import HTML"
   ]
  },
  {
   "cell_type": "code",
   "execution_count": 2,
   "metadata": {
    "execution": {
     "iopub.execute_input": "2020-12-20T00:12:23.444279Z",
     "iopub.status.busy": "2020-12-20T00:12:23.443609Z",
     "iopub.status.idle": "2020-12-20T00:12:23.446005Z",
     "shell.execute_reply": "2020-12-20T00:12:23.445491Z"
    },
    "papermill": {
     "duration": 0.038947,
     "end_time": "2020-12-20T00:12:23.446154",
     "exception": false,
     "start_time": "2020-12-20T00:12:23.407207",
     "status": "completed"
    },
    "tags": []
   },
   "outputs": [],
   "source": [
    "#hide\n",
    "\n",
    "# FETCH\n",
    "base_url = 'https://raw.githubusercontent.com/pratapvardhan/notebooks/master/covid19/'\n",
    "paths = {\n",
    "    'mapping': base_url + 'mapping_countries.csv',\n",
    "    'overview': base_url + 'overview.tpl'\n",
    "}"
   ]
  },
  {
   "cell_type": "code",
   "execution_count": 3,
   "metadata": {
    "execution": {
     "iopub.execute_input": "2020-12-20T00:12:23.522516Z",
     "iopub.status.busy": "2020-12-20T00:12:23.521828Z",
     "iopub.status.idle": "2020-12-20T00:12:23.525325Z",
     "shell.execute_reply": "2020-12-20T00:12:23.525894Z"
    },
    "papermill": {
     "duration": 0.046686,
     "end_time": "2020-12-20T00:12:23.526046",
     "exception": false,
     "start_time": "2020-12-20T00:12:23.479360",
     "status": "completed"
    },
    "tags": []
   },
   "outputs": [
    {
     "data": {
      "text/plain": [
       "'https://raw.githubusercontent.com/pratapvardhan/notebooks/master/covid19/mapping_countries.csv'"
      ]
     },
     "execution_count": 3,
     "metadata": {},
     "output_type": "execute_result"
    }
   ],
   "source": [
    "#hide\n",
    "paths['mapping']"
   ]
  },
  {
   "cell_type": "code",
   "execution_count": 4,
   "metadata": {
    "execution": {
     "iopub.execute_input": "2020-12-20T00:12:23.597745Z",
     "iopub.status.busy": "2020-12-20T00:12:23.597070Z",
     "iopub.status.idle": "2020-12-20T00:12:23.599781Z",
     "shell.execute_reply": "2020-12-20T00:12:23.599150Z"
    },
    "papermill": {
     "duration": 0.040262,
     "end_time": "2020-12-20T00:12:23.599915",
     "exception": false,
     "start_time": "2020-12-20T00:12:23.559653",
     "status": "completed"
    },
    "tags": []
   },
   "outputs": [],
   "source": [
    "#hide\n",
    "def get_mappings(url):\n",
    "    df = pd.read_csv(url)\n",
    "    return {\n",
    "        'df': df,\n",
    "        'replace.country': dict(df.dropna(subset=['Name']).set_index('Country')['Name']),\n",
    "        'map.continent': dict(df.set_index('Name')['Continent'])\n",
    "    }"
   ]
  },
  {
   "cell_type": "code",
   "execution_count": 5,
   "metadata": {
    "execution": {
     "iopub.execute_input": "2020-12-20T00:12:23.677038Z",
     "iopub.status.busy": "2020-12-20T00:12:23.676305Z",
     "iopub.status.idle": "2020-12-20T00:12:23.724701Z",
     "shell.execute_reply": "2020-12-20T00:12:23.724097Z"
    },
    "papermill": {
     "duration": 0.088466,
     "end_time": "2020-12-20T00:12:23.724850",
     "exception": false,
     "start_time": "2020-12-20T00:12:23.636384",
     "status": "completed"
    },
    "tags": []
   },
   "outputs": [],
   "source": [
    "#hide\n",
    "mapping = get_mappings(paths['mapping'])"
   ]
  },
  {
   "cell_type": "code",
   "execution_count": 6,
   "metadata": {
    "execution": {
     "iopub.execute_input": "2020-12-20T00:12:23.797400Z",
     "iopub.status.busy": "2020-12-20T00:12:23.796745Z",
     "iopub.status.idle": "2020-12-20T00:12:23.798702Z",
     "shell.execute_reply": "2020-12-20T00:12:23.799392Z"
    },
    "papermill": {
     "duration": 0.040746,
     "end_time": "2020-12-20T00:12:23.799538",
     "exception": false,
     "start_time": "2020-12-20T00:12:23.758792",
     "status": "completed"
    },
    "tags": []
   },
   "outputs": [],
   "source": [
    "#hide\n",
    "def get_template(path):\n",
    "    from urllib.parse import urlparse\n",
    "    if bool(urlparse(path).netloc):\n",
    "        from urllib.request import urlopen\n",
    "        return urlopen(path).read().decode('utf8')\n",
    "    return open(path).read()"
   ]
  },
  {
   "cell_type": "code",
   "execution_count": 7,
   "metadata": {
    "execution": {
     "iopub.execute_input": "2020-12-20T00:12:23.870501Z",
     "iopub.status.busy": "2020-12-20T00:12:23.869822Z",
     "iopub.status.idle": "2020-12-20T00:12:23.871752Z",
     "shell.execute_reply": "2020-12-20T00:12:23.872356Z"
    },
    "papermill": {
     "duration": 0.040115,
     "end_time": "2020-12-20T00:12:23.872509",
     "exception": false,
     "start_time": "2020-12-20T00:12:23.832394",
     "status": "completed"
    },
    "tags": []
   },
   "outputs": [],
   "source": [
    "#hide\n",
    "def get_frame(name):\n",
    "    url = (\n",
    "        'https://raw.githubusercontent.com/CSSEGISandData/COVID-19/master/csse_covid_19_data/'\n",
    "        f'csse_covid_19_time_series/time_series_covid19_{name}_global.csv')\n",
    "    df = pd.read_csv(url)\n",
    "    # rename countries\n",
    "    df['Country/Region'] = df['Country/Region'].replace(mapping['replace.country'])\n",
    "    return df"
   ]
  },
  {
   "cell_type": "code",
   "execution_count": 8,
   "metadata": {
    "execution": {
     "iopub.execute_input": "2020-12-20T00:12:23.944198Z",
     "iopub.status.busy": "2020-12-20T00:12:23.943537Z",
     "iopub.status.idle": "2020-12-20T00:12:23.945494Z",
     "shell.execute_reply": "2020-12-20T00:12:23.946132Z"
    },
    "papermill": {
     "duration": 0.041145,
     "end_time": "2020-12-20T00:12:23.946290",
     "exception": false,
     "start_time": "2020-12-20T00:12:23.905145",
     "status": "completed"
    },
    "tags": []
   },
   "outputs": [],
   "source": [
    "#hide\n",
    "def get_dates(df):\n",
    "    dt_cols = df.columns[~df.columns.isin(['Province/State', 'Country/Region', 'Lat', 'Long'])]\n",
    "    LAST_DATE_I = -1\n",
    "    # sometimes last column may be empty, then go backwards\n",
    "    for i in range(-1, -len(dt_cols), -1):\n",
    "        if not df[dt_cols[i]].fillna(0).eq(0).all():\n",
    "            LAST_DATE_I = i\n",
    "            break\n",
    "    return LAST_DATE_I, dt_cols"
   ]
  },
  {
   "cell_type": "code",
   "execution_count": 9,
   "metadata": {
    "execution": {
     "iopub.execute_input": "2020-12-20T00:12:24.018383Z",
     "iopub.status.busy": "2020-12-20T00:12:24.017718Z",
     "iopub.status.idle": "2020-12-20T00:12:24.328949Z",
     "shell.execute_reply": "2020-12-20T00:12:24.327691Z"
    },
    "papermill": {
     "duration": 0.34961,
     "end_time": "2020-12-20T00:12:24.329109",
     "exception": false,
     "start_time": "2020-12-20T00:12:23.979499",
     "status": "completed"
    },
    "tags": []
   },
   "outputs": [],
   "source": [
    "#hide\n",
    "COL_REGION = 'Country/Region'\n",
    "# Confirmed, Recovered, Deaths\n",
    "df = get_frame('confirmed')\n",
    "# dft_: timeseries, dfc_: today country agg\n",
    "dft_cases = df\n",
    "dft_deaths = get_frame('deaths')\n",
    "dft_recovered = get_frame('recovered')\n",
    "LAST_DATE_I, dt_cols = get_dates(df)"
   ]
  },
  {
   "cell_type": "code",
   "execution_count": 10,
   "metadata": {
    "execution": {
     "iopub.execute_input": "2020-12-20T00:12:24.399332Z",
     "iopub.status.busy": "2020-12-20T00:12:24.398645Z",
     "iopub.status.idle": "2020-12-20T00:12:24.401247Z",
     "shell.execute_reply": "2020-12-20T00:12:24.400658Z"
    },
    "papermill": {
     "duration": 0.040042,
     "end_time": "2020-12-20T00:12:24.401382",
     "exception": false,
     "start_time": "2020-12-20T00:12:24.361340",
     "status": "completed"
    },
    "tags": []
   },
   "outputs": [],
   "source": [
    "#hide\n",
    "LAST_DATE_I, dt_cols = get_dates(df)\n",
    "dt_today =dt_cols[LAST_DATE_I]\n",
    "# dt_5day = dt_cols[LAST_DATE_I - 5]\n",
    "dt_yday = dt_cols[LAST_DATE_I - 1]"
   ]
  },
  {
   "cell_type": "code",
   "execution_count": 11,
   "metadata": {
    "execution": {
     "iopub.execute_input": "2020-12-20T00:12:24.475725Z",
     "iopub.status.busy": "2020-12-20T00:12:24.474565Z",
     "iopub.status.idle": "2020-12-20T00:12:24.480390Z",
     "shell.execute_reply": "2020-12-20T00:12:24.479785Z"
    },
    "papermill": {
     "duration": 0.04671,
     "end_time": "2020-12-20T00:12:24.480540",
     "exception": false,
     "start_time": "2020-12-20T00:12:24.433830",
     "status": "completed"
    },
    "tags": []
   },
   "outputs": [],
   "source": [
    "#hide\n",
    "dfc_cases = dft_cases.groupby(COL_REGION)[dt_today].sum()\n",
    "dfc_deaths = dft_deaths.groupby(COL_REGION)[dt_today].sum()\n",
    "# dfp_cases = dft_cases.groupby(COL_REGION)[dt_5day].sum()\n",
    "# dfp_deaths = dft_deaths.groupby(COL_REGION)[dt_5day].sum()\n",
    "dfp_cases = dft_cases.groupby(COL_REGION)[dt_yday].sum()\n",
    "dfp_deaths = dft_deaths.groupby(COL_REGION)[dt_yday].sum()"
   ]
  },
  {
   "cell_type": "code",
   "execution_count": 12,
   "metadata": {
    "execution": {
     "iopub.execute_input": "2020-12-20T00:12:24.560987Z",
     "iopub.status.busy": "2020-12-20T00:12:24.560332Z",
     "iopub.status.idle": "2020-12-20T00:12:24.566311Z",
     "shell.execute_reply": "2020-12-20T00:12:24.565754Z"
    },
    "papermill": {
     "duration": 0.053559,
     "end_time": "2020-12-20T00:12:24.566448",
     "exception": false,
     "start_time": "2020-12-20T00:12:24.512889",
     "status": "completed"
    },
    "tags": []
   },
   "outputs": [],
   "source": [
    "#hide\n",
    "df_table = (pd.DataFrame(dict(Cases = dfc_cases, Deaths = dfc_deaths, PCases = dfp_cases, PDeaths = dfp_deaths))\n",
    "            .sort_values(by = ['Cases','Deaths'], ascending = [False, False])\n",
    "            .reset_index())"
   ]
  },
  {
   "cell_type": "code",
   "execution_count": 13,
   "metadata": {
    "execution": {
     "iopub.execute_input": "2020-12-20T00:12:24.662604Z",
     "iopub.status.busy": "2020-12-20T00:12:24.661923Z",
     "iopub.status.idle": "2020-12-20T00:12:24.669895Z",
     "shell.execute_reply": "2020-12-20T00:12:24.670518Z"
    },
    "papermill": {
     "duration": 0.072009,
     "end_time": "2020-12-20T00:12:24.670669",
     "exception": false,
     "start_time": "2020-12-20T00:12:24.598660",
     "status": "completed"
    },
    "tags": []
   },
   "outputs": [
    {
     "data": {
      "text/html": [
       "<div>\n",
       "<style scoped>\n",
       "    .dataframe tbody tr th:only-of-type {\n",
       "        vertical-align: middle;\n",
       "    }\n",
       "\n",
       "    .dataframe tbody tr th {\n",
       "        vertical-align: top;\n",
       "    }\n",
       "\n",
       "    .dataframe thead th {\n",
       "        text-align: right;\n",
       "    }\n",
       "</style>\n",
       "<table border=\"1\" class=\"dataframe\">\n",
       "  <thead>\n",
       "    <tr style=\"text-align: right;\">\n",
       "      <th></th>\n",
       "      <th>Country/Region</th>\n",
       "      <th>Cases</th>\n",
       "      <th>Deaths</th>\n",
       "      <th>PCases</th>\n",
       "      <th>PDeaths</th>\n",
       "      <th>Cases (+)</th>\n",
       "      <th>Deaths (+)</th>\n",
       "      <th>Fatality Rate</th>\n",
       "      <th>Continent</th>\n",
       "    </tr>\n",
       "  </thead>\n",
       "  <tbody>\n",
       "    <tr>\n",
       "      <th>0</th>\n",
       "      <td>US</td>\n",
       "      <td>17459296</td>\n",
       "      <td>313588</td>\n",
       "      <td>17209587</td>\n",
       "      <td>310774</td>\n",
       "      <td>249709</td>\n",
       "      <td>2814</td>\n",
       "      <td>1.80</td>\n",
       "      <td>North America</td>\n",
       "    </tr>\n",
       "    <tr>\n",
       "      <th>1</th>\n",
       "      <td>India</td>\n",
       "      <td>10004599</td>\n",
       "      <td>145136</td>\n",
       "      <td>9979447</td>\n",
       "      <td>144789</td>\n",
       "      <td>25152</td>\n",
       "      <td>347</td>\n",
       "      <td>1.45</td>\n",
       "      <td>Asia</td>\n",
       "    </tr>\n",
       "    <tr>\n",
       "      <th>2</th>\n",
       "      <td>Brazil</td>\n",
       "      <td>7162978</td>\n",
       "      <td>185650</td>\n",
       "      <td>7110434</td>\n",
       "      <td>184827</td>\n",
       "      <td>52544</td>\n",
       "      <td>823</td>\n",
       "      <td>2.59</td>\n",
       "      <td>South America</td>\n",
       "    </tr>\n",
       "    <tr>\n",
       "      <th>3</th>\n",
       "      <td>Russia</td>\n",
       "      <td>2764843</td>\n",
       "      <td>49170</td>\n",
       "      <td>2736727</td>\n",
       "      <td>48568</td>\n",
       "      <td>28116</td>\n",
       "      <td>602</td>\n",
       "      <td>1.78</td>\n",
       "      <td>Europe</td>\n",
       "    </tr>\n",
       "    <tr>\n",
       "      <th>4</th>\n",
       "      <td>France</td>\n",
       "      <td>2499529</td>\n",
       "      <td>60345</td>\n",
       "      <td>2483524</td>\n",
       "      <td>59733</td>\n",
       "      <td>16005</td>\n",
       "      <td>612</td>\n",
       "      <td>2.41</td>\n",
       "      <td>Europe</td>\n",
       "    </tr>\n",
       "  </tbody>\n",
       "</table>\n",
       "</div>"
      ],
      "text/plain": [
       "  Country/Region     Cases  Deaths    PCases  PDeaths  Cases (+)  Deaths (+)  \\\n",
       "0             US  17459296  313588  17209587   310774     249709        2814   \n",
       "1          India  10004599  145136   9979447   144789      25152         347   \n",
       "2         Brazil   7162978  185650   7110434   184827      52544         823   \n",
       "3         Russia   2764843   49170   2736727    48568      28116         602   \n",
       "4         France   2499529   60345   2483524    59733      16005         612   \n",
       "\n",
       "   Fatality Rate      Continent  \n",
       "0           1.80  North America  \n",
       "1           1.45           Asia  \n",
       "2           2.59  South America  \n",
       "3           1.78         Europe  \n",
       "4           2.41         Europe  "
      ]
     },
     "execution_count": 13,
     "metadata": {},
     "output_type": "execute_result"
    }
   ],
   "source": [
    "#hide\n",
    "for c in 'Cases, Deaths'.split(', '):\n",
    "    df_table[f'{c} (+)'] = (df_table[c] - df_table[f'P{c}']).clip(0)\n",
    "    #Clip ça veut dire, les chiffres negatif sont interdit\n",
    "df_table['Fatality Rate'] = (100* df_table['Deaths']/ df_table['Cases']).round(2)\n",
    "df_table['Continent'] = df_table['Country/Region'].map(mapping['map.continent'])\n",
    "df_table.head(5)"
   ]
  },
  {
   "cell_type": "code",
   "execution_count": 14,
   "metadata": {
    "execution": {
     "iopub.execute_input": "2020-12-20T00:12:24.743337Z",
     "iopub.status.busy": "2020-12-20T00:12:24.742599Z",
     "iopub.status.idle": "2020-12-20T00:12:24.744708Z",
     "shell.execute_reply": "2020-12-20T00:12:24.745495Z"
    },
    "papermill": {
     "duration": 0.04094,
     "end_time": "2020-12-20T00:12:24.745646",
     "exception": false,
     "start_time": "2020-12-20T00:12:24.704706",
     "status": "completed"
    },
    "tags": []
   },
   "outputs": [],
   "source": [
    "#hide\n",
    "#delete problematic countries from table\n",
    "df_table = df_table[~df_table['Country/Region'].isin(['Cape Verde', 'Cruise Ship', 'Kosovo'])]"
   ]
  },
  {
   "cell_type": "code",
   "execution_count": 15,
   "metadata": {
    "execution": {
     "iopub.execute_input": "2020-12-20T00:12:24.821980Z",
     "iopub.status.busy": "2020-12-20T00:12:24.821139Z",
     "iopub.status.idle": "2020-12-20T00:12:24.841923Z",
     "shell.execute_reply": "2020-12-20T00:12:24.842458Z"
    },
    "papermill": {
     "duration": 0.063744,
     "end_time": "2020-12-20T00:12:24.842616",
     "exception": false,
     "start_time": "2020-12-20T00:12:24.778872",
     "status": "completed"
    },
    "tags": []
   },
   "outputs": [
    {
     "data": {
      "text/html": [
       "<div>\n",
       "<style scoped>\n",
       "    .dataframe tbody tr th:only-of-type {\n",
       "        vertical-align: middle;\n",
       "    }\n",
       "\n",
       "    .dataframe tbody tr th {\n",
       "        vertical-align: top;\n",
       "    }\n",
       "\n",
       "    .dataframe thead th {\n",
       "        text-align: right;\n",
       "    }\n",
       "</style>\n",
       "<table border=\"1\" class=\"dataframe\">\n",
       "  <thead>\n",
       "    <tr style=\"text-align: right;\">\n",
       "      <th></th>\n",
       "      <th>Country/Region</th>\n",
       "      <th>Cases</th>\n",
       "      <th>Deaths</th>\n",
       "      <th>PCases</th>\n",
       "      <th>PDeaths</th>\n",
       "      <th>Cases (+)</th>\n",
       "      <th>Deaths (+)</th>\n",
       "      <th>Fatality Rate</th>\n",
       "      <th>Continent</th>\n",
       "    </tr>\n",
       "  </thead>\n",
       "  <tbody>\n",
       "    <tr>\n",
       "      <th>0</th>\n",
       "      <td>US</td>\n",
       "      <td>17459296</td>\n",
       "      <td>313588</td>\n",
       "      <td>17209587</td>\n",
       "      <td>310774</td>\n",
       "      <td>249709</td>\n",
       "      <td>2814</td>\n",
       "      <td>1.8</td>\n",
       "      <td>North America</td>\n",
       "    </tr>\n",
       "    <tr>\n",
       "      <th>1</th>\n",
       "      <td>India</td>\n",
       "      <td>10004599</td>\n",
       "      <td>145136</td>\n",
       "      <td>9979447</td>\n",
       "      <td>144789</td>\n",
       "      <td>25152</td>\n",
       "      <td>347</td>\n",
       "      <td>1.5</td>\n",
       "      <td>Asia</td>\n",
       "    </tr>\n",
       "    <tr>\n",
       "      <th>2</th>\n",
       "      <td>Brazil</td>\n",
       "      <td>7162978</td>\n",
       "      <td>185650</td>\n",
       "      <td>7110434</td>\n",
       "      <td>184827</td>\n",
       "      <td>52544</td>\n",
       "      <td>823</td>\n",
       "      <td>2.6</td>\n",
       "      <td>South America</td>\n",
       "    </tr>\n",
       "    <tr>\n",
       "      <th>3</th>\n",
       "      <td>Russia</td>\n",
       "      <td>2764843</td>\n",
       "      <td>49170</td>\n",
       "      <td>2736727</td>\n",
       "      <td>48568</td>\n",
       "      <td>28116</td>\n",
       "      <td>602</td>\n",
       "      <td>1.8</td>\n",
       "      <td>Europe</td>\n",
       "    </tr>\n",
       "    <tr>\n",
       "      <th>4</th>\n",
       "      <td>France</td>\n",
       "      <td>2499529</td>\n",
       "      <td>60345</td>\n",
       "      <td>2483524</td>\n",
       "      <td>59733</td>\n",
       "      <td>16005</td>\n",
       "      <td>612</td>\n",
       "      <td>2.4</td>\n",
       "      <td>Europe</td>\n",
       "    </tr>\n",
       "  </tbody>\n",
       "</table>\n",
       "</div>"
      ],
      "text/plain": [
       "  Country/Region     Cases  Deaths    PCases  PDeaths  Cases (+)  Deaths (+)  \\\n",
       "0             US  17459296  313588  17209587   310774     249709        2814   \n",
       "1          India  10004599  145136   9979447   144789      25152         347   \n",
       "2         Brazil   7162978  185650   7110434   184827      52544         823   \n",
       "3         Russia   2764843   49170   2736727    48568      28116         602   \n",
       "4         France   2499529   60345   2483524    59733      16005         612   \n",
       "\n",
       "   Fatality Rate      Continent  \n",
       "0            1.8  North America  \n",
       "1            1.5           Asia  \n",
       "2            2.6  South America  \n",
       "3            1.8         Europe  \n",
       "4            2.4         Europe  "
      ]
     },
     "execution_count": 15,
     "metadata": {},
     "output_type": "execute_result"
    }
   ],
   "source": [
    "#hide\n",
    "df_table = (pd.DataFrame(dict(Cases=dfc_cases, Deaths=dfc_deaths, PCases=dfp_cases, PDeaths=dfp_deaths))\n",
    "             .sort_values(by=['Cases', 'Deaths'], ascending=[False, False])\n",
    "             .reset_index())\n",
    "df_table.rename(columns={'index': 'Country/Region'}, inplace=True)\n",
    "for c in 'Cases, Deaths'.split(', '):\n",
    "    df_table[f'{c} (+)'] = (df_table[c] - df_table[f'P{c}']).clip(0)  # DATA BUG\n",
    "df_table['Fatality Rate'] = (100 * df_table['Deaths'] / df_table['Cases']).round(1)\n",
    "df_table['Continent'] = df_table['Country/Region'].map(mapping['map.continent'])\n",
    "df_table.head(5)"
   ]
  },
  {
   "cell_type": "code",
   "execution_count": 16,
   "metadata": {
    "execution": {
     "iopub.execute_input": "2020-12-20T00:12:24.913099Z",
     "iopub.status.busy": "2020-12-20T00:12:24.912392Z",
     "iopub.status.idle": "2020-12-20T00:12:24.915222Z",
     "shell.execute_reply": "2020-12-20T00:12:24.915886Z"
    },
    "papermill": {
     "duration": 0.040585,
     "end_time": "2020-12-20T00:12:24.916028",
     "exception": false,
     "start_time": "2020-12-20T00:12:24.875443",
     "status": "completed"
    },
    "tags": []
   },
   "outputs": [],
   "source": [
    "#hide\n",
    "#delete problematic countries from table\n",
    "df_table = df_table[~df_table['Country/Region'].isin(['Cape Verde', 'Cruise Ship', 'Kosovo'])]"
   ]
  },
  {
   "cell_type": "code",
   "execution_count": 17,
   "metadata": {
    "execution": {
     "iopub.execute_input": "2020-12-20T00:12:25.003048Z",
     "iopub.status.busy": "2020-12-20T00:12:25.002383Z",
     "iopub.status.idle": "2020-12-20T00:12:25.004253Z",
     "shell.execute_reply": "2020-12-20T00:12:25.004851Z"
    },
    "papermill": {
     "duration": 0.055969,
     "end_time": "2020-12-20T00:12:25.005002",
     "exception": false,
     "start_time": "2020-12-20T00:12:24.949033",
     "status": "completed"
    },
    "tags": []
   },
   "outputs": [],
   "source": [
    "#hide\n",
    "metrics = [df_table.columns[index] for index in [1,2,5,6]]\n",
    "# s_china = df_table[df_table['Country/Region'].eq('China')][metrics].sum().add_prefix('China ')\n",
    "s_us = df_table[df_table['Country/Region'].eq('US')][metrics].sum().add_prefix('US ')\n",
    "s_eu = df_table[df_table['Continent'].eq('Europe')][metrics].sum().add_prefix('EU ')\n",
    "s_ind = df_table[df_table['Country/Region'].eq('India')][metrics].sum().add_prefix('India ')\n",
    "summary = {'updated': pd.to_datetime(dt_today), 'since': pd.to_datetime(dt_yday)}\n",
    "summary = {'updated': pd.to_datetime(dt_today), 'since': pd.to_datetime(dt_yday)}\n",
    "summary = {**summary, **df_table[metrics].sum(), **s_ind, **s_us, **s_eu}"
   ]
  },
  {
   "cell_type": "code",
   "execution_count": 18,
   "metadata": {
    "execution": {
     "iopub.execute_input": "2020-12-20T00:12:25.085771Z",
     "iopub.status.busy": "2020-12-20T00:12:25.085086Z",
     "iopub.status.idle": "2020-12-20T00:12:25.094351Z",
     "shell.execute_reply": "2020-12-20T00:12:25.093833Z"
    },
    "papermill": {
     "duration": 0.055053,
     "end_time": "2020-12-20T00:12:25.094486",
     "exception": false,
     "start_time": "2020-12-20T00:12:25.039433",
     "status": "completed"
    },
    "tags": []
   },
   "outputs": [],
   "source": [
    "#hide\n",
    "dft_ct_new_cases = dft_cases.groupby(COL_REGION)[dt_cols].sum().diff(axis=1).fillna(0).astype(int)"
   ]
  },
  {
   "cell_type": "code",
   "execution_count": 19,
   "metadata": {
    "execution": {
     "iopub.execute_input": "2020-12-20T00:12:25.165633Z",
     "iopub.status.busy": "2020-12-20T00:12:25.164765Z",
     "iopub.status.idle": "2020-12-20T00:12:25.169215Z",
     "shell.execute_reply": "2020-12-20T00:12:25.169846Z"
    },
    "papermill": {
     "duration": 0.041806,
     "end_time": "2020-12-20T00:12:25.169985",
     "exception": false,
     "start_time": "2020-12-20T00:12:25.128179",
     "status": "completed"
    },
    "tags": []
   },
   "outputs": [],
   "source": [
    "#hide\n",
    "everydaycases = dft_ct_new_cases.cumsum(axis=1)"
   ]
  },
  {
   "cell_type": "code",
   "execution_count": 20,
   "metadata": {
    "execution": {
     "iopub.execute_input": "2020-12-20T00:12:25.241888Z",
     "iopub.status.busy": "2020-12-20T00:12:25.241228Z",
     "iopub.status.idle": "2020-12-20T00:12:27.506767Z",
     "shell.execute_reply": "2020-12-20T00:12:27.507334Z"
    },
    "papermill": {
     "duration": 2.30435,
     "end_time": "2020-12-20T00:12:27.507536",
     "exception": false,
     "start_time": "2020-12-20T00:12:25.203186",
     "status": "completed"
    },
    "tags": []
   },
   "outputs": [],
   "source": [
    "#hide\n",
    "import pandas as pd\n",
    "import matplotlib.pyplot as plt\n",
    "import matplotlib.ticker as ticker\n",
    "import matplotlib.animation as animation\n",
    "from IPython.display import HTML"
   ]
  },
  {
   "cell_type": "code",
   "execution_count": 21,
   "metadata": {
    "execution": {
     "iopub.execute_input": "2020-12-20T00:12:27.583362Z",
     "iopub.status.busy": "2020-12-20T00:12:27.582645Z",
     "iopub.status.idle": "2020-12-20T00:12:27.588337Z",
     "shell.execute_reply": "2020-12-20T00:12:27.587731Z"
    },
    "papermill": {
     "duration": 0.046019,
     "end_time": "2020-12-20T00:12:27.588488",
     "exception": false,
     "start_time": "2020-12-20T00:12:27.542469",
     "status": "completed"
    },
    "tags": []
   },
   "outputs": [],
   "source": [
    "#hide\n",
    "t = everydaycases.stack()"
   ]
  },
  {
   "cell_type": "code",
   "execution_count": 22,
   "metadata": {
    "execution": {
     "iopub.execute_input": "2020-12-20T00:12:27.660793Z",
     "iopub.status.busy": "2020-12-20T00:12:27.660120Z",
     "iopub.status.idle": "2020-12-20T00:12:27.666274Z",
     "shell.execute_reply": "2020-12-20T00:12:27.666916Z"
    },
    "papermill": {
     "duration": 0.045665,
     "end_time": "2020-12-20T00:12:27.667107",
     "exception": false,
     "start_time": "2020-12-20T00:12:27.621442",
     "status": "completed"
    },
    "tags": []
   },
   "outputs": [],
   "source": [
    "#hide\n",
    "g = t.reset_index(['Country/Region'])"
   ]
  },
  {
   "cell_type": "code",
   "execution_count": 23,
   "metadata": {
    "execution": {
     "iopub.execute_input": "2020-12-20T00:12:27.740544Z",
     "iopub.status.busy": "2020-12-20T00:12:27.739737Z",
     "iopub.status.idle": "2020-12-20T00:12:27.742330Z",
     "shell.execute_reply": "2020-12-20T00:12:27.741710Z"
    },
    "papermill": {
     "duration": 0.040816,
     "end_time": "2020-12-20T00:12:27.742453",
     "exception": false,
     "start_time": "2020-12-20T00:12:27.701637",
     "status": "completed"
    },
    "tags": []
   },
   "outputs": [],
   "source": [
    "#hide\n",
    "g.index.name = 'date'"
   ]
  },
  {
   "cell_type": "code",
   "execution_count": 24,
   "metadata": {
    "execution": {
     "iopub.execute_input": "2020-12-20T00:12:27.816607Z",
     "iopub.status.busy": "2020-12-20T00:12:27.815925Z",
     "iopub.status.idle": "2020-12-20T00:12:27.818514Z",
     "shell.execute_reply": "2020-12-20T00:12:27.817924Z"
    },
    "papermill": {
     "duration": 0.042,
     "end_time": "2020-12-20T00:12:27.818672",
     "exception": false,
     "start_time": "2020-12-20T00:12:27.776672",
     "status": "completed"
    },
    "tags": []
   },
   "outputs": [],
   "source": [
    "# #hide\n",
    "# g = g.reset_index(['date'])"
   ]
  },
  {
   "cell_type": "code",
   "execution_count": 25,
   "metadata": {
    "execution": {
     "iopub.execute_input": "2020-12-20T00:12:27.891985Z",
     "iopub.status.busy": "2020-12-20T00:12:27.891306Z",
     "iopub.status.idle": "2020-12-20T00:12:27.893782Z",
     "shell.execute_reply": "2020-12-20T00:12:27.894430Z"
    },
    "papermill": {
     "duration": 0.041893,
     "end_time": "2020-12-20T00:12:27.894582",
     "exception": false,
     "start_time": "2020-12-20T00:12:27.852689",
     "status": "completed"
    },
    "tags": []
   },
   "outputs": [],
   "source": [
    "#hide\n",
    "# g.head()"
   ]
  },
  {
   "cell_type": "code",
   "execution_count": 26,
   "metadata": {
    "execution": {
     "iopub.execute_input": "2020-12-20T00:12:27.966711Z",
     "iopub.status.busy": "2020-12-20T00:12:27.966016Z",
     "iopub.status.idle": "2020-12-20T00:12:27.967924Z",
     "shell.execute_reply": "2020-12-20T00:12:27.968560Z"
    },
    "papermill": {
     "duration": 0.039975,
     "end_time": "2020-12-20T00:12:27.968707",
     "exception": false,
     "start_time": "2020-12-20T00:12:27.928732",
     "status": "completed"
    },
    "tags": []
   },
   "outputs": [],
   "source": [
    "#hide\n",
    "# g.columns = ['date','country','cases']"
   ]
  },
  {
   "cell_type": "code",
   "execution_count": 27,
   "metadata": {
    "execution": {
     "iopub.execute_input": "2020-12-20T00:12:28.042139Z",
     "iopub.status.busy": "2020-12-20T00:12:28.041465Z",
     "iopub.status.idle": "2020-12-20T00:12:28.043466Z",
     "shell.execute_reply": "2020-12-20T00:12:28.043995Z"
    },
    "papermill": {
     "duration": 0.041762,
     "end_time": "2020-12-20T00:12:28.044150",
     "exception": false,
     "start_time": "2020-12-20T00:12:28.002388",
     "status": "completed"
    },
    "tags": []
   },
   "outputs": [],
   "source": [
    "#hide\n",
    "# g['continent'] = g.country"
   ]
  },
  {
   "cell_type": "code",
   "execution_count": 28,
   "metadata": {
    "execution": {
     "iopub.execute_input": "2020-12-20T00:12:28.117364Z",
     "iopub.status.busy": "2020-12-20T00:12:28.116681Z",
     "iopub.status.idle": "2020-12-20T00:12:28.118823Z",
     "shell.execute_reply": "2020-12-20T00:12:28.119423Z"
    },
    "papermill": {
     "duration": 0.03918,
     "end_time": "2020-12-20T00:12:28.119567",
     "exception": false,
     "start_time": "2020-12-20T00:12:28.080387",
     "status": "completed"
    },
    "tags": []
   },
   "outputs": [],
   "source": [
    "#hide\n",
    "# cols = list(g.columns.values)"
   ]
  },
  {
   "cell_type": "code",
   "execution_count": 29,
   "metadata": {
    "execution": {
     "iopub.execute_input": "2020-12-20T00:12:28.188714Z",
     "iopub.status.busy": "2020-12-20T00:12:28.188023Z",
     "iopub.status.idle": "2020-12-20T00:12:28.190523Z",
     "shell.execute_reply": "2020-12-20T00:12:28.189955Z"
    },
    "papermill": {
     "duration": 0.03909,
     "end_time": "2020-12-20T00:12:28.190659",
     "exception": false,
     "start_time": "2020-12-20T00:12:28.151569",
     "status": "completed"
    },
    "tags": []
   },
   "outputs": [],
   "source": [
    "#hide\n",
    "# cols.insert(0, cols.pop())"
   ]
  },
  {
   "cell_type": "code",
   "execution_count": 30,
   "metadata": {
    "execution": {
     "iopub.execute_input": "2020-12-20T00:12:28.260935Z",
     "iopub.status.busy": "2020-12-20T00:12:28.260272Z",
     "iopub.status.idle": "2020-12-20T00:12:28.262673Z",
     "shell.execute_reply": "2020-12-20T00:12:28.262024Z"
    },
    "papermill": {
     "duration": 0.03855,
     "end_time": "2020-12-20T00:12:28.262811",
     "exception": false,
     "start_time": "2020-12-20T00:12:28.224261",
     "status": "completed"
    },
    "tags": []
   },
   "outputs": [],
   "source": [
    "#hide\n",
    "# g = g[cols]"
   ]
  },
  {
   "cell_type": "code",
   "execution_count": 31,
   "metadata": {
    "execution": {
     "iopub.execute_input": "2020-12-20T00:12:28.336375Z",
     "iopub.status.busy": "2020-12-20T00:12:28.335722Z",
     "iopub.status.idle": "2020-12-20T00:12:28.338169Z",
     "shell.execute_reply": "2020-12-20T00:12:28.337600Z"
    },
    "papermill": {
     "duration": 0.041379,
     "end_time": "2020-12-20T00:12:28.338305",
     "exception": false,
     "start_time": "2020-12-20T00:12:28.296926",
     "status": "completed"
    },
    "tags": []
   },
   "outputs": [],
   "source": [
    "#hide\n",
    "# g['continent'] = g['continent'].map(mapping['map.continent'])"
   ]
  },
  {
   "cell_type": "code",
   "execution_count": 32,
   "metadata": {
    "execution": {
     "iopub.execute_input": "2020-12-20T00:12:28.436467Z",
     "iopub.status.busy": "2020-12-20T00:12:28.435792Z",
     "iopub.status.idle": "2020-12-20T00:12:28.438285Z",
     "shell.execute_reply": "2020-12-20T00:12:28.437721Z"
    },
    "papermill": {
     "duration": 0.06478,
     "end_time": "2020-12-20T00:12:28.438420",
     "exception": false,
     "start_time": "2020-12-20T00:12:28.373640",
     "status": "completed"
    },
    "tags": []
   },
   "outputs": [],
   "source": [
    "#hide\n",
    "# g.head()"
   ]
  },
  {
   "cell_type": "code",
   "execution_count": 33,
   "metadata": {
    "execution": {
     "iopub.execute_input": "2020-12-20T00:12:28.508805Z",
     "iopub.status.busy": "2020-12-20T00:12:28.508097Z",
     "iopub.status.idle": "2020-12-20T00:12:28.510784Z",
     "shell.execute_reply": "2020-12-20T00:12:28.510131Z"
    },
    "papermill": {
     "duration": 0.039365,
     "end_time": "2020-12-20T00:12:28.510917",
     "exception": false,
     "start_time": "2020-12-20T00:12:28.471552",
     "status": "completed"
    },
    "tags": []
   },
   "outputs": [],
   "source": [
    "# hide\n",
    "# g['date'] = g['date'].astype('datetime64[ns]')"
   ]
  },
  {
   "cell_type": "code",
   "execution_count": 34,
   "metadata": {
    "execution": {
     "iopub.execute_input": "2020-12-20T00:12:28.581271Z",
     "iopub.status.busy": "2020-12-20T00:12:28.580600Z",
     "iopub.status.idle": "2020-12-20T00:12:28.583144Z",
     "shell.execute_reply": "2020-12-20T00:12:28.582479Z"
    },
    "papermill": {
     "duration": 0.038589,
     "end_time": "2020-12-20T00:12:28.583272",
     "exception": false,
     "start_time": "2020-12-20T00:12:28.544683",
     "status": "completed"
    },
    "tags": []
   },
   "outputs": [],
   "source": [
    "#hide\n",
    "# g['date'] = g.date.dt.dayofyear"
   ]
  },
  {
   "cell_type": "code",
   "execution_count": 35,
   "metadata": {
    "execution": {
     "iopub.execute_input": "2020-12-20T00:12:28.653062Z",
     "iopub.status.busy": "2020-12-20T00:12:28.652422Z",
     "iopub.status.idle": "2020-12-20T00:12:28.654264Z",
     "shell.execute_reply": "2020-12-20T00:12:28.654821Z"
    },
    "papermill": {
     "duration": 0.03881,
     "end_time": "2020-12-20T00:12:28.654960",
     "exception": false,
     "start_time": "2020-12-20T00:12:28.616150",
     "status": "completed"
    },
    "tags": []
   },
   "outputs": [],
   "source": [
    "#hide\n",
    "# g = g.rename(columns= {'continent':'group','country':'name','cases':'value'})"
   ]
  },
  {
   "cell_type": "code",
   "execution_count": 36,
   "metadata": {
    "execution": {
     "iopub.execute_input": "2020-12-20T00:12:28.724274Z",
     "iopub.status.busy": "2020-12-20T00:12:28.723625Z",
     "iopub.status.idle": "2020-12-20T00:12:28.725576Z",
     "shell.execute_reply": "2020-12-20T00:12:28.726208Z"
    },
    "papermill": {
     "duration": 0.039434,
     "end_time": "2020-12-20T00:12:28.726357",
     "exception": false,
     "start_time": "2020-12-20T00:12:28.686923",
     "status": "completed"
    },
    "tags": []
   },
   "outputs": [],
   "source": [
    "#hide\n",
    "# cols = ['name','group','day','value']"
   ]
  },
  {
   "cell_type": "code",
   "execution_count": 37,
   "metadata": {
    "execution": {
     "iopub.execute_input": "2020-12-20T00:12:28.798011Z",
     "iopub.status.busy": "2020-12-20T00:12:28.797356Z",
     "iopub.status.idle": "2020-12-20T00:12:28.799195Z",
     "shell.execute_reply": "2020-12-20T00:12:28.799846Z"
    },
    "papermill": {
     "duration": 0.040423,
     "end_time": "2020-12-20T00:12:28.799999",
     "exception": false,
     "start_time": "2020-12-20T00:12:28.759576",
     "status": "completed"
    },
    "tags": []
   },
   "outputs": [],
   "source": [
    "#hide\n",
    "# g.rename(columns= {'date':'day'},inplace = True)"
   ]
  },
  {
   "cell_type": "code",
   "execution_count": 38,
   "metadata": {
    "execution": {
     "iopub.execute_input": "2020-12-20T00:12:28.871447Z",
     "iopub.status.busy": "2020-12-20T00:12:28.870796Z",
     "iopub.status.idle": "2020-12-20T00:12:28.872605Z",
     "shell.execute_reply": "2020-12-20T00:12:28.873207Z"
    },
    "papermill": {
     "duration": 0.038586,
     "end_time": "2020-12-20T00:12:28.873340",
     "exception": false,
     "start_time": "2020-12-20T00:12:28.834754",
     "status": "completed"
    },
    "tags": []
   },
   "outputs": [],
   "source": [
    "#hide\n",
    "# g = g[cols]"
   ]
  },
  {
   "cell_type": "code",
   "execution_count": 39,
   "metadata": {
    "execution": {
     "iopub.execute_input": "2020-12-20T00:12:28.944432Z",
     "iopub.status.busy": "2020-12-20T00:12:28.943782Z",
     "iopub.status.idle": "2020-12-20T00:12:28.946196Z",
     "shell.execute_reply": "2020-12-20T00:12:28.945554Z"
    },
    "papermill": {
     "duration": 0.04061,
     "end_time": "2020-12-20T00:12:28.946332",
     "exception": false,
     "start_time": "2020-12-20T00:12:28.905722",
     "status": "completed"
    },
    "tags": []
   },
   "outputs": [],
   "source": [
    "# #hide\n",
    "# g = g[g.group.notna()]"
   ]
  },
  {
   "cell_type": "code",
   "execution_count": 40,
   "metadata": {
    "execution": {
     "iopub.execute_input": "2020-12-20T00:12:29.018839Z",
     "iopub.status.busy": "2020-12-20T00:12:29.018150Z",
     "iopub.status.idle": "2020-12-20T00:12:29.020618Z",
     "shell.execute_reply": "2020-12-20T00:12:29.019950Z"
    },
    "papermill": {
     "duration": 0.039567,
     "end_time": "2020-12-20T00:12:29.020761",
     "exception": false,
     "start_time": "2020-12-20T00:12:28.981194",
     "status": "completed"
    },
    "tags": []
   },
   "outputs": [],
   "source": [
    "# #hide\n",
    "# colors = dict(zip(\n",
    "#     [\"Oceania\", \"Europe\", \"Asia\", \"South America\", \"Middle East\", \"North America\", \"Africa\"],\n",
    "#     [\"#adb0ff\", \"#ffb3ff\", \"#90d595\", \"#e48381\", \"#aafbff\", \"#f7bb5f\", \"#eafb50\"]\n",
    "# ))\n",
    "# group_lk = g.set_index('name')['group'].to_dict()"
   ]
  },
  {
   "cell_type": "code",
   "execution_count": null,
   "metadata": {
    "papermill": {
     "duration": 0.038842,
     "end_time": "2020-12-20T00:12:29.093002",
     "exception": false,
     "start_time": "2020-12-20T00:12:29.054160",
     "status": "completed"
    },
    "tags": []
   },
   "outputs": [],
   "source": []
  },
  {
   "cell_type": "code",
   "execution_count": 41,
   "metadata": {
    "execution": {
     "iopub.execute_input": "2020-12-20T00:12:29.164506Z",
     "iopub.status.busy": "2020-12-20T00:12:29.163825Z",
     "iopub.status.idle": "2020-12-20T00:12:29.166876Z",
     "shell.execute_reply": "2020-12-20T00:12:29.165971Z"
    },
    "papermill": {
     "duration": 0.040369,
     "end_time": "2020-12-20T00:12:29.167030",
     "exception": false,
     "start_time": "2020-12-20T00:12:29.126661",
     "status": "completed"
    },
    "tags": []
   },
   "outputs": [],
   "source": [
    "# #hide\n",
    "# fig, ax = plt.subplots(figsize=(15, 8))\n",
    "\n",
    "# def draw_barchart(current_day):\n",
    "#     dff = g[g['day'].eq(current_day)].sort_values(by='value', ascending=True).tail(10)\n",
    "#     ax.clear()\n",
    "#     ax.barh(dff['name'], dff['value'], color=[colors[group_lk[x]] for x in dff['name']])\n",
    "#     dx = dff['value'].max() / 200\n",
    "    \n",
    "#     for i, (value, name) in enumerate(zip(dff['value'], dff['name'])):\n",
    "#         ax.text(value-dx, i,     name,           size=14, weight=600, ha='right', va='bottom')\n",
    "#         ax.text(value-dx, i-.25, group_lk[name], size=10, color='#444444', ha='right', va='baseline')\n",
    "#         ax.text(value+dx, i,     f'{value:,.0f}',  size=14, ha='left',  va='center')\n",
    "#     ax.text(1, 0.4, current_day, transform=ax.transAxes, color='#777777', size=46, ha='right', weight=800)\n",
    "#     ax.text(0, 1.06, 'Population (thousands)', transform=ax.transAxes, size=12, color='#777777')\n",
    "#     ax.xaxis.set_major_formatter(ticker.StrMethodFormatter('{x:,.0f}'))\n",
    "#     ax.xaxis.set_ticks_position('top')\n",
    "#     ax.tick_params(axis='x', colors='#777777', labelsize=12)\n",
    "#     ax.set_yticks([])\n",
    "#     ax.margins(0, 0.01)\n",
    "#     ax.grid(which='major', axis='x', linestyle='-')\n",
    "#     ax.set_axisbelow(True)\n",
    "    \n",
    "#     ax.text(0, 1.15, 'Coronavirus',\n",
    "#             transform=ax.transAxes, size=24, weight=600, ha='left', va='top')\n",
    "# #     ax.text(1, 0, 'by @pratapvardhan; credit @jburnmurdoch', transform=ax.transAxes, color='#777777', ha='right',\n",
    "# #             bbox=dict(facecolor='white', alpha=0.8, edgecolor='white'))\n",
    "#     plt.box(False)"
   ]
  },
  {
   "cell_type": "code",
   "execution_count": 42,
   "metadata": {
    "execution": {
     "iopub.execute_input": "2020-12-20T00:12:29.239551Z",
     "iopub.status.busy": "2020-12-20T00:12:29.238833Z",
     "iopub.status.idle": "2020-12-20T00:12:29.241190Z",
     "shell.execute_reply": "2020-12-20T00:12:29.241727Z"
    },
    "papermill": {
     "duration": 0.040329,
     "end_time": "2020-12-20T00:12:29.241862",
     "exception": false,
     "start_time": "2020-12-20T00:12:29.201533",
     "status": "completed"
    },
    "tags": []
   },
   "outputs": [],
   "source": [
    "# #hide_input\n",
    "# fig, ax = plt.subplots(figsize=(15, 8))\n",
    "# animator = animation.FuncAnimation(fig, draw_barchart, frames=range(g.day.values.min(), g.day.values.max()))\n",
    "# HTML(animator.to_jshtml())\n",
    "# # or use animator.to_html5_video() or animator.save() "
   ]
  },
  {
   "cell_type": "code",
   "execution_count": null,
   "metadata": {
    "papermill": {
     "duration": 0.032615,
     "end_time": "2020-12-20T00:12:29.306800",
     "exception": false,
     "start_time": "2020-12-20T00:12:29.274185",
     "status": "completed"
    },
    "tags": []
   },
   "outputs": [],
   "source": []
  },
  {
   "cell_type": "code",
   "execution_count": null,
   "metadata": {
    "papermill": {
     "duration": 0.033244,
     "end_time": "2020-12-20T00:12:29.374969",
     "exception": false,
     "start_time": "2020-12-20T00:12:29.341725",
     "status": "completed"
    },
    "tags": []
   },
   "outputs": [],
   "source": []
  },
  {
   "cell_type": "code",
   "execution_count": null,
   "metadata": {
    "papermill": {
     "duration": 0.032568,
     "end_time": "2020-12-20T00:12:29.441999",
     "exception": false,
     "start_time": "2020-12-20T00:12:29.409431",
     "status": "completed"
    },
    "tags": []
   },
   "outputs": [],
   "source": []
  }
 ],
 "metadata": {
  "kernelspec": {
   "display_name": "Python 3",
   "language": "python",
   "name": "python3"
  },
  "language_info": {
   "codemirror_mode": {
    "name": "ipython",
    "version": 3
   },
   "file_extension": ".py",
   "mimetype": "text/x-python",
   "name": "python",
   "nbconvert_exporter": "python",
   "pygments_lexer": "ipython3",
   "version": "3.6.12"
  },
  "papermill": {
   "duration": 7.977211,
   "end_time": "2020-12-20T00:12:29.782762",
   "environment_variables": {},
   "exception": null,
   "input_path": "2020-03-21-covid19exp.ipynb",
   "output_path": "2020-03-21-covid19exp.ipynb",
   "parameters": {},
   "start_time": "2020-12-20T00:12:21.805551",
   "version": "2.0.0"
  }
 },
 "nbformat": 4,
 "nbformat_minor": 4
}