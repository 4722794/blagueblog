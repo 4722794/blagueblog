{
 "cells": [
  {
   "cell_type": "markdown",
   "id": "muslim-click",
   "metadata": {
    "papermill": {
     "duration": 0.034808,
     "end_time": "2022-07-17T00:45:24.168358",
     "exception": false,
     "start_time": "2022-07-17T00:45:24.133550",
     "status": "completed"
    },
    "tags": []
   },
   "source": [
    "# COVID-19 Case Race\n",
    "> A race chart to see rising cases around the world\n",
    "\n",
    "- author: Hargun Oberoi\n",
    "- image: images/covid-overview.png\n",
    "- hide: false\n",
    "- badges: false"
   ]
  },
  {
   "cell_type": "code",
   "execution_count": 1,
   "id": "proof-material",
   "metadata": {
    "execution": {
     "iopub.execute_input": "2022-07-17T00:45:24.240175Z",
     "iopub.status.busy": "2022-07-17T00:45:24.239528Z",
     "iopub.status.idle": "2022-07-17T00:45:24.565403Z",
     "shell.execute_reply": "2022-07-17T00:45:24.564535Z"
    },
    "papermill": {
     "duration": 0.365372,
     "end_time": "2022-07-17T00:45:24.565554",
     "exception": false,
     "start_time": "2022-07-17T00:45:24.200182",
     "status": "completed"
    },
    "tags": []
   },
   "outputs": [],
   "source": [
    "#hide\n",
    "import numpy as np\n",
    "import pandas as pd\n",
    "from jinja2 import Template\n",
    "from IPython.display import HTML"
   ]
  },
  {
   "cell_type": "code",
   "execution_count": 2,
   "id": "developed-terminology",
   "metadata": {
    "execution": {
     "iopub.execute_input": "2022-07-17T00:45:24.630844Z",
     "iopub.status.busy": "2022-07-17T00:45:24.630135Z",
     "iopub.status.idle": "2022-07-17T00:45:24.631913Z",
     "shell.execute_reply": "2022-07-17T00:45:24.632460Z"
    },
    "papermill": {
     "duration": 0.036941,
     "end_time": "2022-07-17T00:45:24.632609",
     "exception": false,
     "start_time": "2022-07-17T00:45:24.595668",
     "status": "completed"
    },
    "tags": []
   },
   "outputs": [],
   "source": [
    "#hide\n",
    "\n",
    "# FETCH\n",
    "base_url = 'https://raw.githubusercontent.com/pratapvardhan/notebooks/master/covid19/'\n",
    "paths = {\n",
    "    'mapping': base_url + 'mapping_countries.csv',\n",
    "    'overview': base_url + 'overview.tpl'\n",
    "}"
   ]
  },
  {
   "cell_type": "code",
   "execution_count": 3,
   "id": "dynamic-saver",
   "metadata": {
    "execution": {
     "iopub.execute_input": "2022-07-17T00:45:24.702912Z",
     "iopub.status.busy": "2022-07-17T00:45:24.702319Z",
     "iopub.status.idle": "2022-07-17T00:45:24.705311Z",
     "shell.execute_reply": "2022-07-17T00:45:24.705861Z"
    },
    "papermill": {
     "duration": 0.043041,
     "end_time": "2022-07-17T00:45:24.705991",
     "exception": false,
     "start_time": "2022-07-17T00:45:24.662950",
     "status": "completed"
    },
    "tags": []
   },
   "outputs": [
    {
     "data": {
      "text/plain": [
       "'https://raw.githubusercontent.com/pratapvardhan/notebooks/master/covid19/mapping_countries.csv'"
      ]
     },
     "execution_count": 3,
     "metadata": {},
     "output_type": "execute_result"
    }
   ],
   "source": [
    "#hide\n",
    "paths['mapping']"
   ]
  },
  {
   "cell_type": "code",
   "execution_count": 4,
   "id": "urban-software",
   "metadata": {
    "execution": {
     "iopub.execute_input": "2022-07-17T00:45:24.772032Z",
     "iopub.status.busy": "2022-07-17T00:45:24.771397Z",
     "iopub.status.idle": "2022-07-17T00:45:24.773971Z",
     "shell.execute_reply": "2022-07-17T00:45:24.773476Z"
    },
    "papermill": {
     "duration": 0.038081,
     "end_time": "2022-07-17T00:45:24.774084",
     "exception": false,
     "start_time": "2022-07-17T00:45:24.736003",
     "status": "completed"
    },
    "tags": []
   },
   "outputs": [],
   "source": [
    "#hide\n",
    "def get_mappings(url):\n",
    "    df = pd.read_csv(url)\n",
    "    return {\n",
    "        'df': df,\n",
    "        'replace.country': dict(df.dropna(subset=['Name']).set_index('Country')['Name']),\n",
    "        'map.continent': dict(df.set_index('Name')['Continent'])\n",
    "    }"
   ]
  },
  {
   "cell_type": "code",
   "execution_count": 5,
   "id": "intimate-machinery",
   "metadata": {
    "execution": {
     "iopub.execute_input": "2022-07-17T00:45:24.840003Z",
     "iopub.status.busy": "2022-07-17T00:45:24.839401Z",
     "iopub.status.idle": "2022-07-17T00:45:24.878293Z",
     "shell.execute_reply": "2022-07-17T00:45:24.877698Z"
    },
    "papermill": {
     "duration": 0.074346,
     "end_time": "2022-07-17T00:45:24.878425",
     "exception": false,
     "start_time": "2022-07-17T00:45:24.804079",
     "status": "completed"
    },
    "tags": []
   },
   "outputs": [],
   "source": [
    "#hide\n",
    "mapping = get_mappings(paths['mapping'])"
   ]
  },
  {
   "cell_type": "code",
   "execution_count": 6,
   "id": "certified-tactics",
   "metadata": {
    "execution": {
     "iopub.execute_input": "2022-07-17T00:45:24.945441Z",
     "iopub.status.busy": "2022-07-17T00:45:24.944805Z",
     "iopub.status.idle": "2022-07-17T00:45:24.947329Z",
     "shell.execute_reply": "2022-07-17T00:45:24.946877Z"
    },
    "papermill": {
     "duration": 0.037714,
     "end_time": "2022-07-17T00:45:24.947441",
     "exception": false,
     "start_time": "2022-07-17T00:45:24.909727",
     "status": "completed"
    },
    "tags": []
   },
   "outputs": [],
   "source": [
    "#hide\n",
    "def get_template(path):\n",
    "    from urllib.parse import urlparse\n",
    "    if bool(urlparse(path).netloc):\n",
    "        from urllib.request import urlopen\n",
    "        return urlopen(path).read().decode('utf8')\n",
    "    return open(path).read()"
   ]
  },
  {
   "cell_type": "code",
   "execution_count": 7,
   "id": "realistic-blast",
   "metadata": {
    "execution": {
     "iopub.execute_input": "2022-07-17T00:45:25.012906Z",
     "iopub.status.busy": "2022-07-17T00:45:25.012302Z",
     "iopub.status.idle": "2022-07-17T00:45:25.014889Z",
     "shell.execute_reply": "2022-07-17T00:45:25.014416Z"
    },
    "papermill": {
     "duration": 0.037566,
     "end_time": "2022-07-17T00:45:25.015014",
     "exception": false,
     "start_time": "2022-07-17T00:45:24.977448",
     "status": "completed"
    },
    "tags": []
   },
   "outputs": [],
   "source": [
    "#hide\n",
    "def get_frame(name):\n",
    "    url = (\n",
    "        'https://raw.githubusercontent.com/CSSEGISandData/COVID-19/master/csse_covid_19_data/'\n",
    "        f'csse_covid_19_time_series/time_series_covid19_{name}_global.csv')\n",
    "    df = pd.read_csv(url)\n",
    "    # rename countries\n",
    "    df['Country/Region'] = df['Country/Region'].replace(mapping['replace.country'])\n",
    "    return df"
   ]
  },
  {
   "cell_type": "code",
   "execution_count": 8,
   "id": "affiliated-characterization",
   "metadata": {
    "execution": {
     "iopub.execute_input": "2022-07-17T00:45:25.081330Z",
     "iopub.status.busy": "2022-07-17T00:45:25.080713Z",
     "iopub.status.idle": "2022-07-17T00:45:25.083095Z",
     "shell.execute_reply": "2022-07-17T00:45:25.083654Z"
    },
    "papermill": {
     "duration": 0.038872,
     "end_time": "2022-07-17T00:45:25.083784",
     "exception": false,
     "start_time": "2022-07-17T00:45:25.044912",
     "status": "completed"
    },
    "tags": []
   },
   "outputs": [],
   "source": [
    "#hide\n",
    "def get_dates(df):\n",
    "    dt_cols = df.columns[~df.columns.isin(['Province/State', 'Country/Region', 'Lat', 'Long'])]\n",
    "    LAST_DATE_I = -1\n",
    "    # sometimes last column may be empty, then go backwards\n",
    "    for i in range(-1, -len(dt_cols), -1):\n",
    "        if not df[dt_cols[i]].fillna(0).eq(0).all():\n",
    "            LAST_DATE_I = i\n",
    "            break\n",
    "    return LAST_DATE_I, dt_cols"
   ]
  },
  {
   "cell_type": "code",
   "execution_count": 9,
   "id": "recent-optimization",
   "metadata": {
    "execution": {
     "iopub.execute_input": "2022-07-17T00:45:25.149035Z",
     "iopub.status.busy": "2022-07-17T00:45:25.148420Z",
     "iopub.status.idle": "2022-07-17T00:45:25.613303Z",
     "shell.execute_reply": "2022-07-17T00:45:25.612718Z"
    },
    "papermill": {
     "duration": 0.499625,
     "end_time": "2022-07-17T00:45:25.613442",
     "exception": false,
     "start_time": "2022-07-17T00:45:25.113817",
     "status": "completed"
    },
    "tags": []
   },
   "outputs": [],
   "source": [
    "#hide\n",
    "COL_REGION = 'Country/Region'\n",
    "# Confirmed, Recovered, Deaths\n",
    "df = get_frame('confirmed')\n",
    "# dft_: timeseries, dfc_: today country agg\n",
    "dft_cases = df\n",
    "dft_deaths = get_frame('deaths')\n",
    "dft_recovered = get_frame('recovered')\n",
    "LAST_DATE_I, dt_cols = get_dates(df)"
   ]
  },
  {
   "cell_type": "code",
   "execution_count": 10,
   "id": "absolute-copper",
   "metadata": {
    "execution": {
     "iopub.execute_input": "2022-07-17T00:45:25.680321Z",
     "iopub.status.busy": "2022-07-17T00:45:25.679574Z",
     "iopub.status.idle": "2022-07-17T00:45:25.681415Z",
     "shell.execute_reply": "2022-07-17T00:45:25.681931Z"
    },
    "papermill": {
     "duration": 0.038293,
     "end_time": "2022-07-17T00:45:25.682075",
     "exception": false,
     "start_time": "2022-07-17T00:45:25.643782",
     "status": "completed"
    },
    "tags": []
   },
   "outputs": [],
   "source": [
    "#hide\n",
    "LAST_DATE_I, dt_cols = get_dates(df)\n",
    "dt_today =dt_cols[LAST_DATE_I]\n",
    "# dt_5day = dt_cols[LAST_DATE_I - 5]\n",
    "dt_yday = dt_cols[LAST_DATE_I - 1]"
   ]
  },
  {
   "cell_type": "code",
   "execution_count": 11,
   "id": "restricted-sheriff",
   "metadata": {
    "execution": {
     "iopub.execute_input": "2022-07-17T00:45:25.750087Z",
     "iopub.status.busy": "2022-07-17T00:45:25.749464Z",
     "iopub.status.idle": "2022-07-17T00:45:25.756008Z",
     "shell.execute_reply": "2022-07-17T00:45:25.755511Z"
    },
    "papermill": {
     "duration": 0.043805,
     "end_time": "2022-07-17T00:45:25.756149",
     "exception": false,
     "start_time": "2022-07-17T00:45:25.712344",
     "status": "completed"
    },
    "tags": []
   },
   "outputs": [],
   "source": [
    "#hide\n",
    "dfc_cases = dft_cases.groupby(COL_REGION)[dt_today].sum()\n",
    "dfc_deaths = dft_deaths.groupby(COL_REGION)[dt_today].sum()\n",
    "# dfp_cases = dft_cases.groupby(COL_REGION)[dt_5day].sum()\n",
    "# dfp_deaths = dft_deaths.groupby(COL_REGION)[dt_5day].sum()\n",
    "dfp_cases = dft_cases.groupby(COL_REGION)[dt_yday].sum()\n",
    "dfp_deaths = dft_deaths.groupby(COL_REGION)[dt_yday].sum()"
   ]
  },
  {
   "cell_type": "code",
   "execution_count": 12,
   "id": "deluxe-hepatitis",
   "metadata": {
    "execution": {
     "iopub.execute_input": "2022-07-17T00:45:25.823093Z",
     "iopub.status.busy": "2022-07-17T00:45:25.822494Z",
     "iopub.status.idle": "2022-07-17T00:45:25.827121Z",
     "shell.execute_reply": "2022-07-17T00:45:25.827683Z"
    },
    "papermill": {
     "duration": 0.041452,
     "end_time": "2022-07-17T00:45:25.827817",
     "exception": false,
     "start_time": "2022-07-17T00:45:25.786365",
     "status": "completed"
    },
    "tags": []
   },
   "outputs": [],
   "source": [
    "#hide\n",
    "df_table = (pd.DataFrame(dict(Cases = dfc_cases, Deaths = dfc_deaths, PCases = dfp_cases, PDeaths = dfp_deaths))\n",
    "            .sort_values(by = ['Cases','Deaths'], ascending = [False, False])\n",
    "            .reset_index())"
   ]
  },
  {
   "cell_type": "code",
   "execution_count": 13,
   "id": "educational-chancellor",
   "metadata": {
    "execution": {
     "iopub.execute_input": "2022-07-17T00:45:25.906119Z",
     "iopub.status.busy": "2022-07-17T00:45:25.890819Z",
     "iopub.status.idle": "2022-07-17T00:45:25.913830Z",
     "shell.execute_reply": "2022-07-17T00:45:25.914314Z"
    },
    "papermill": {
     "duration": 0.056683,
     "end_time": "2022-07-17T00:45:25.914449",
     "exception": false,
     "start_time": "2022-07-17T00:45:25.857766",
     "status": "completed"
    },
    "tags": []
   },
   "outputs": [
    {
     "data": {
      "text/html": [
       "<div>\n",
       "<style scoped>\n",
       "    .dataframe tbody tr th:only-of-type {\n",
       "        vertical-align: middle;\n",
       "    }\n",
       "\n",
       "    .dataframe tbody tr th {\n",
       "        vertical-align: top;\n",
       "    }\n",
       "\n",
       "    .dataframe thead th {\n",
       "        text-align: right;\n",
       "    }\n",
       "</style>\n",
       "<table border=\"1\" class=\"dataframe\">\n",
       "  <thead>\n",
       "    <tr style=\"text-align: right;\">\n",
       "      <th></th>\n",
       "      <th>Country/Region</th>\n",
       "      <th>Cases</th>\n",
       "      <th>Deaths</th>\n",
       "      <th>PCases</th>\n",
       "      <th>PDeaths</th>\n",
       "      <th>Cases (+)</th>\n",
       "      <th>Deaths (+)</th>\n",
       "      <th>Fatality Rate</th>\n",
       "      <th>Continent</th>\n",
       "    </tr>\n",
       "  </thead>\n",
       "  <tbody>\n",
       "    <tr>\n",
       "      <th>0</th>\n",
       "      <td>US</td>\n",
       "      <td>89453076</td>\n",
       "      <td>1023736</td>\n",
       "      <td>89294234</td>\n",
       "      <td>1023256</td>\n",
       "      <td>158842</td>\n",
       "      <td>480</td>\n",
       "      <td>1.14</td>\n",
       "      <td>North America</td>\n",
       "    </tr>\n",
       "    <tr>\n",
       "      <th>1</th>\n",
       "      <td>India</td>\n",
       "      <td>43730071</td>\n",
       "      <td>525660</td>\n",
       "      <td>43710027</td>\n",
       "      <td>525604</td>\n",
       "      <td>20044</td>\n",
       "      <td>56</td>\n",
       "      <td>1.20</td>\n",
       "      <td>Asia</td>\n",
       "    </tr>\n",
       "    <tr>\n",
       "      <th>2</th>\n",
       "      <td>Brazil</td>\n",
       "      <td>33250117</td>\n",
       "      <td>675090</td>\n",
       "      <td>33142158</td>\n",
       "      <td>674779</td>\n",
       "      <td>107959</td>\n",
       "      <td>311</td>\n",
       "      <td>2.03</td>\n",
       "      <td>South America</td>\n",
       "    </tr>\n",
       "    <tr>\n",
       "      <th>3</th>\n",
       "      <td>France</td>\n",
       "      <td>32881809</td>\n",
       "      <td>151454</td>\n",
       "      <td>32881645</td>\n",
       "      <td>151454</td>\n",
       "      <td>164</td>\n",
       "      <td>0</td>\n",
       "      <td>0.46</td>\n",
       "      <td>Europe</td>\n",
       "    </tr>\n",
       "    <tr>\n",
       "      <th>4</th>\n",
       "      <td>Germany</td>\n",
       "      <td>29692989</td>\n",
       "      <td>142533</td>\n",
       "      <td>29569943</td>\n",
       "      <td>142399</td>\n",
       "      <td>123046</td>\n",
       "      <td>134</td>\n",
       "      <td>0.48</td>\n",
       "      <td>Europe</td>\n",
       "    </tr>\n",
       "  </tbody>\n",
       "</table>\n",
       "</div>"
      ],
      "text/plain": [
       "  Country/Region     Cases   Deaths    PCases  PDeaths  Cases (+)  Deaths (+)  \\\n",
       "0             US  89453076  1023736  89294234  1023256     158842         480   \n",
       "1          India  43730071   525660  43710027   525604      20044          56   \n",
       "2         Brazil  33250117   675090  33142158   674779     107959         311   \n",
       "3         France  32881809   151454  32881645   151454        164           0   \n",
       "4        Germany  29692989   142533  29569943   142399     123046         134   \n",
       "\n",
       "   Fatality Rate      Continent  \n",
       "0           1.14  North America  \n",
       "1           1.20           Asia  \n",
       "2           2.03  South America  \n",
       "3           0.46         Europe  \n",
       "4           0.48         Europe  "
      ]
     },
     "execution_count": 13,
     "metadata": {},
     "output_type": "execute_result"
    }
   ],
   "source": [
    "#hide\n",
    "for c in 'Cases, Deaths'.split(', '):\n",
    "    df_table[f'{c} (+)'] = (df_table[c] - df_table[f'P{c}']).clip(0)\n",
    "    #Clip ça veut dire, les chiffres negatif sont interdit\n",
    "df_table['Fatality Rate'] = (100* df_table['Deaths']/ df_table['Cases']).round(2)\n",
    "df_table['Continent'] = df_table['Country/Region'].map(mapping['map.continent'])\n",
    "df_table.head(5)"
   ]
  },
  {
   "cell_type": "code",
   "execution_count": 14,
   "id": "aboriginal-bulgaria",
   "metadata": {
    "execution": {
     "iopub.execute_input": "2022-07-17T00:45:25.981988Z",
     "iopub.status.busy": "2022-07-17T00:45:25.981354Z",
     "iopub.status.idle": "2022-07-17T00:45:25.983982Z",
     "shell.execute_reply": "2022-07-17T00:45:25.983411Z"
    },
    "papermill": {
     "duration": 0.038973,
     "end_time": "2022-07-17T00:45:25.984094",
     "exception": false,
     "start_time": "2022-07-17T00:45:25.945121",
     "status": "completed"
    },
    "tags": []
   },
   "outputs": [],
   "source": [
    "#hide\n",
    "#delete problematic countries from table\n",
    "df_table = df_table[~df_table['Country/Region'].isin(['Cape Verde', 'Cruise Ship', 'Kosovo'])]"
   ]
  },
  {
   "cell_type": "code",
   "execution_count": 15,
   "id": "fantastic-effect",
   "metadata": {
    "execution": {
     "iopub.execute_input": "2022-07-17T00:45:26.053908Z",
     "iopub.status.busy": "2022-07-17T00:45:26.053313Z",
     "iopub.status.idle": "2022-07-17T00:45:26.071463Z",
     "shell.execute_reply": "2022-07-17T00:45:26.070999Z"
    },
    "papermill": {
     "duration": 0.056733,
     "end_time": "2022-07-17T00:45:26.071583",
     "exception": false,
     "start_time": "2022-07-17T00:45:26.014850",
     "status": "completed"
    },
    "tags": []
   },
   "outputs": [
    {
     "data": {
      "text/html": [
       "<div>\n",
       "<style scoped>\n",
       "    .dataframe tbody tr th:only-of-type {\n",
       "        vertical-align: middle;\n",
       "    }\n",
       "\n",
       "    .dataframe tbody tr th {\n",
       "        vertical-align: top;\n",
       "    }\n",
       "\n",
       "    .dataframe thead th {\n",
       "        text-align: right;\n",
       "    }\n",
       "</style>\n",
       "<table border=\"1\" class=\"dataframe\">\n",
       "  <thead>\n",
       "    <tr style=\"text-align: right;\">\n",
       "      <th></th>\n",
       "      <th>Country/Region</th>\n",
       "      <th>Cases</th>\n",
       "      <th>Deaths</th>\n",
       "      <th>PCases</th>\n",
       "      <th>PDeaths</th>\n",
       "      <th>Cases (+)</th>\n",
       "      <th>Deaths (+)</th>\n",
       "      <th>Fatality Rate</th>\n",
       "      <th>Continent</th>\n",
       "    </tr>\n",
       "  </thead>\n",
       "  <tbody>\n",
       "    <tr>\n",
       "      <th>0</th>\n",
       "      <td>US</td>\n",
       "      <td>89453076</td>\n",
       "      <td>1023736</td>\n",
       "      <td>89294234</td>\n",
       "      <td>1023256</td>\n",
       "      <td>158842</td>\n",
       "      <td>480</td>\n",
       "      <td>1.1</td>\n",
       "      <td>North America</td>\n",
       "    </tr>\n",
       "    <tr>\n",
       "      <th>1</th>\n",
       "      <td>India</td>\n",
       "      <td>43730071</td>\n",
       "      <td>525660</td>\n",
       "      <td>43710027</td>\n",
       "      <td>525604</td>\n",
       "      <td>20044</td>\n",
       "      <td>56</td>\n",
       "      <td>1.2</td>\n",
       "      <td>Asia</td>\n",
       "    </tr>\n",
       "    <tr>\n",
       "      <th>2</th>\n",
       "      <td>Brazil</td>\n",
       "      <td>33250117</td>\n",
       "      <td>675090</td>\n",
       "      <td>33142158</td>\n",
       "      <td>674779</td>\n",
       "      <td>107959</td>\n",
       "      <td>311</td>\n",
       "      <td>2.0</td>\n",
       "      <td>South America</td>\n",
       "    </tr>\n",
       "    <tr>\n",
       "      <th>3</th>\n",
       "      <td>France</td>\n",
       "      <td>32881809</td>\n",
       "      <td>151454</td>\n",
       "      <td>32881645</td>\n",
       "      <td>151454</td>\n",
       "      <td>164</td>\n",
       "      <td>0</td>\n",
       "      <td>0.5</td>\n",
       "      <td>Europe</td>\n",
       "    </tr>\n",
       "    <tr>\n",
       "      <th>4</th>\n",
       "      <td>Germany</td>\n",
       "      <td>29692989</td>\n",
       "      <td>142533</td>\n",
       "      <td>29569943</td>\n",
       "      <td>142399</td>\n",
       "      <td>123046</td>\n",
       "      <td>134</td>\n",
       "      <td>0.5</td>\n",
       "      <td>Europe</td>\n",
       "    </tr>\n",
       "  </tbody>\n",
       "</table>\n",
       "</div>"
      ],
      "text/plain": [
       "  Country/Region     Cases   Deaths    PCases  PDeaths  Cases (+)  Deaths (+)  \\\n",
       "0             US  89453076  1023736  89294234  1023256     158842         480   \n",
       "1          India  43730071   525660  43710027   525604      20044          56   \n",
       "2         Brazil  33250117   675090  33142158   674779     107959         311   \n",
       "3         France  32881809   151454  32881645   151454        164           0   \n",
       "4        Germany  29692989   142533  29569943   142399     123046         134   \n",
       "\n",
       "   Fatality Rate      Continent  \n",
       "0            1.1  North America  \n",
       "1            1.2           Asia  \n",
       "2            2.0  South America  \n",
       "3            0.5         Europe  \n",
       "4            0.5         Europe  "
      ]
     },
     "execution_count": 15,
     "metadata": {},
     "output_type": "execute_result"
    }
   ],
   "source": [
    "#hide\n",
    "df_table = (pd.DataFrame(dict(Cases=dfc_cases, Deaths=dfc_deaths, PCases=dfp_cases, PDeaths=dfp_deaths))\n",
    "             .sort_values(by=['Cases', 'Deaths'], ascending=[False, False])\n",
    "             .reset_index())\n",
    "df_table.rename(columns={'index': 'Country/Region'}, inplace=True)\n",
    "for c in 'Cases, Deaths'.split(', '):\n",
    "    df_table[f'{c} (+)'] = (df_table[c] - df_table[f'P{c}']).clip(0)  # DATA BUG\n",
    "df_table['Fatality Rate'] = (100 * df_table['Deaths'] / df_table['Cases']).round(1)\n",
    "df_table['Continent'] = df_table['Country/Region'].map(mapping['map.continent'])\n",
    "df_table.head(5)"
   ]
  },
  {
   "cell_type": "code",
   "execution_count": 16,
   "id": "fewer-occasion",
   "metadata": {
    "execution": {
     "iopub.execute_input": "2022-07-17T00:45:26.140169Z",
     "iopub.status.busy": "2022-07-17T00:45:26.139414Z",
     "iopub.status.idle": "2022-07-17T00:45:26.141287Z",
     "shell.execute_reply": "2022-07-17T00:45:26.141800Z"
    },
    "papermill": {
     "duration": 0.039109,
     "end_time": "2022-07-17T00:45:26.141942",
     "exception": false,
     "start_time": "2022-07-17T00:45:26.102833",
     "status": "completed"
    },
    "tags": []
   },
   "outputs": [],
   "source": [
    "#hide\n",
    "#delete problematic countries from table\n",
    "df_table = df_table[~df_table['Country/Region'].isin(['Cape Verde', 'Cruise Ship', 'Kosovo'])]"
   ]
  },
  {
   "cell_type": "code",
   "execution_count": 17,
   "id": "related-center",
   "metadata": {
    "execution": {
     "iopub.execute_input": "2022-07-17T00:45:26.222839Z",
     "iopub.status.busy": "2022-07-17T00:45:26.222211Z",
     "iopub.status.idle": "2022-07-17T00:45:26.225052Z",
     "shell.execute_reply": "2022-07-17T00:45:26.224471Z"
    },
    "papermill": {
     "duration": 0.052222,
     "end_time": "2022-07-17T00:45:26.225165",
     "exception": false,
     "start_time": "2022-07-17T00:45:26.172943",
     "status": "completed"
    },
    "tags": []
   },
   "outputs": [],
   "source": [
    "#hide\n",
    "metrics = [df_table.columns[index] for index in [1,2,5,6]]\n",
    "# s_china = df_table[df_table['Country/Region'].eq('China')][metrics].sum().add_prefix('China ')\n",
    "s_us = df_table[df_table['Country/Region'].eq('US')][metrics].sum().add_prefix('US ')\n",
    "s_eu = df_table[df_table['Continent'].eq('Europe')][metrics].sum().add_prefix('EU ')\n",
    "s_ind = df_table[df_table['Country/Region'].eq('India')][metrics].sum().add_prefix('India ')\n",
    "summary = {'updated': pd.to_datetime(dt_today), 'since': pd.to_datetime(dt_yday)}\n",
    "summary = {'updated': pd.to_datetime(dt_today), 'since': pd.to_datetime(dt_yday)}\n",
    "summary = {**summary, **df_table[metrics].sum(), **s_ind, **s_us, **s_eu}"
   ]
  },
  {
   "cell_type": "code",
   "execution_count": 18,
   "id": "engaging-syndrome",
   "metadata": {
    "execution": {
     "iopub.execute_input": "2022-07-17T00:45:26.293159Z",
     "iopub.status.busy": "2022-07-17T00:45:26.292495Z",
     "iopub.status.idle": "2022-07-17T00:45:26.312289Z",
     "shell.execute_reply": "2022-07-17T00:45:26.312838Z"
    },
    "papermill": {
     "duration": 0.056885,
     "end_time": "2022-07-17T00:45:26.312990",
     "exception": false,
     "start_time": "2022-07-17T00:45:26.256105",
     "status": "completed"
    },
    "tags": []
   },
   "outputs": [],
   "source": [
    "#hide\n",
    "dft_ct_new_cases = dft_cases.groupby(COL_REGION)[dt_cols].sum().diff(axis=1).fillna(0).astype(int)"
   ]
  },
  {
   "cell_type": "code",
   "execution_count": 19,
   "id": "neutral-assignment",
   "metadata": {
    "execution": {
     "iopub.execute_input": "2022-07-17T00:45:26.382194Z",
     "iopub.status.busy": "2022-07-17T00:45:26.381554Z",
     "iopub.status.idle": "2022-07-17T00:45:26.384100Z",
     "shell.execute_reply": "2022-07-17T00:45:26.383624Z"
    },
    "papermill": {
     "duration": 0.039749,
     "end_time": "2022-07-17T00:45:26.384232",
     "exception": false,
     "start_time": "2022-07-17T00:45:26.344483",
     "status": "completed"
    },
    "tags": []
   },
   "outputs": [],
   "source": [
    "#hide\n",
    "everydaycases = dft_ct_new_cases.cumsum(axis=1)"
   ]
  },
  {
   "cell_type": "code",
   "execution_count": 20,
   "id": "parliamentary-calgary",
   "metadata": {
    "execution": {
     "iopub.execute_input": "2022-07-17T00:45:26.451087Z",
     "iopub.status.busy": "2022-07-17T00:45:26.450445Z",
     "iopub.status.idle": "2022-07-17T00:45:27.028245Z",
     "shell.execute_reply": "2022-07-17T00:45:27.028840Z"
    },
    "papermill": {
     "duration": 0.613737,
     "end_time": "2022-07-17T00:45:27.028980",
     "exception": false,
     "start_time": "2022-07-17T00:45:26.415243",
     "status": "completed"
    },
    "tags": []
   },
   "outputs": [],
   "source": [
    "#hide\n",
    "import pandas as pd\n",
    "import matplotlib.pyplot as plt\n",
    "import matplotlib.ticker as ticker\n",
    "import matplotlib.animation as animation\n",
    "from IPython.display import HTML"
   ]
  },
  {
   "cell_type": "code",
   "execution_count": 21,
   "id": "lasting-extraction",
   "metadata": {
    "execution": {
     "iopub.execute_input": "2022-07-17T00:45:27.098230Z",
     "iopub.status.busy": "2022-07-17T00:45:27.097613Z",
     "iopub.status.idle": "2022-07-17T00:45:27.104660Z",
     "shell.execute_reply": "2022-07-17T00:45:27.105145Z"
    },
    "papermill": {
     "duration": 0.045196,
     "end_time": "2022-07-17T00:45:27.105281",
     "exception": false,
     "start_time": "2022-07-17T00:45:27.060085",
     "status": "completed"
    },
    "tags": []
   },
   "outputs": [],
   "source": [
    "#hide\n",
    "t = everydaycases.stack()"
   ]
  },
  {
   "cell_type": "code",
   "execution_count": 22,
   "id": "premier-sleeve",
   "metadata": {
    "execution": {
     "iopub.execute_input": "2022-07-17T00:45:27.171569Z",
     "iopub.status.busy": "2022-07-17T00:45:27.170970Z",
     "iopub.status.idle": "2022-07-17T00:45:27.182695Z",
     "shell.execute_reply": "2022-07-17T00:45:27.182213Z"
    },
    "papermill": {
     "duration": 0.046439,
     "end_time": "2022-07-17T00:45:27.182805",
     "exception": false,
     "start_time": "2022-07-17T00:45:27.136366",
     "status": "completed"
    },
    "tags": []
   },
   "outputs": [],
   "source": [
    "#hide\n",
    "g = t.reset_index(['Country/Region'])"
   ]
  },
  {
   "cell_type": "code",
   "execution_count": 23,
   "id": "distributed-pittsburgh",
   "metadata": {
    "execution": {
     "iopub.execute_input": "2022-07-17T00:45:27.248186Z",
     "iopub.status.busy": "2022-07-17T00:45:27.247590Z",
     "iopub.status.idle": "2022-07-17T00:45:27.250592Z",
     "shell.execute_reply": "2022-07-17T00:45:27.250120Z"
    },
    "papermill": {
     "duration": 0.037183,
     "end_time": "2022-07-17T00:45:27.250696",
     "exception": false,
     "start_time": "2022-07-17T00:45:27.213513",
     "status": "completed"
    },
    "tags": []
   },
   "outputs": [],
   "source": [
    "#hide\n",
    "g.index.name = 'date'"
   ]
  },
  {
   "cell_type": "code",
   "execution_count": 24,
   "id": "naked-donor",
   "metadata": {
    "execution": {
     "iopub.execute_input": "2022-07-17T00:45:27.316269Z",
     "iopub.status.busy": "2022-07-17T00:45:27.315627Z",
     "iopub.status.idle": "2022-07-17T00:45:27.318162Z",
     "shell.execute_reply": "2022-07-17T00:45:27.317713Z"
    },
    "papermill": {
     "duration": 0.036888,
     "end_time": "2022-07-17T00:45:27.318273",
     "exception": false,
     "start_time": "2022-07-17T00:45:27.281385",
     "status": "completed"
    },
    "tags": []
   },
   "outputs": [],
   "source": [
    "# #hide\n",
    "# g = g.reset_index(['date'])"
   ]
  },
  {
   "cell_type": "code",
   "execution_count": 25,
   "id": "incomplete-mustang",
   "metadata": {
    "execution": {
     "iopub.execute_input": "2022-07-17T00:45:27.383304Z",
     "iopub.status.busy": "2022-07-17T00:45:27.382645Z",
     "iopub.status.idle": "2022-07-17T00:45:27.385261Z",
     "shell.execute_reply": "2022-07-17T00:45:27.384750Z"
    },
    "papermill": {
     "duration": 0.03645,
     "end_time": "2022-07-17T00:45:27.385381",
     "exception": false,
     "start_time": "2022-07-17T00:45:27.348931",
     "status": "completed"
    },
    "tags": []
   },
   "outputs": [],
   "source": [
    "#hide\n",
    "# g.head()"
   ]
  },
  {
   "cell_type": "code",
   "execution_count": 26,
   "id": "specific-kruger",
   "metadata": {
    "execution": {
     "iopub.execute_input": "2022-07-17T00:45:27.451243Z",
     "iopub.status.busy": "2022-07-17T00:45:27.450542Z",
     "iopub.status.idle": "2022-07-17T00:45:27.453115Z",
     "shell.execute_reply": "2022-07-17T00:45:27.452464Z"
    },
    "papermill": {
     "duration": 0.036798,
     "end_time": "2022-07-17T00:45:27.453235",
     "exception": false,
     "start_time": "2022-07-17T00:45:27.416437",
     "status": "completed"
    },
    "tags": []
   },
   "outputs": [],
   "source": [
    "#hide\n",
    "# g.columns = ['date','country','cases']"
   ]
  },
  {
   "cell_type": "code",
   "execution_count": 27,
   "id": "tender-conversion",
   "metadata": {
    "execution": {
     "iopub.execute_input": "2022-07-17T00:45:27.519752Z",
     "iopub.status.busy": "2022-07-17T00:45:27.519163Z",
     "iopub.status.idle": "2022-07-17T00:45:27.521965Z",
     "shell.execute_reply": "2022-07-17T00:45:27.521492Z"
    },
    "papermill": {
     "duration": 0.037063,
     "end_time": "2022-07-17T00:45:27.522070",
     "exception": false,
     "start_time": "2022-07-17T00:45:27.485007",
     "status": "completed"
    },
    "tags": []
   },
   "outputs": [],
   "source": [
    "#hide\n",
    "# g['continent'] = g.country"
   ]
  },
  {
   "cell_type": "code",
   "execution_count": 28,
   "id": "substantial-wilderness",
   "metadata": {
    "execution": {
     "iopub.execute_input": "2022-07-17T00:45:27.587886Z",
     "iopub.status.busy": "2022-07-17T00:45:27.587181Z",
     "iopub.status.idle": "2022-07-17T00:45:27.589793Z",
     "shell.execute_reply": "2022-07-17T00:45:27.589275Z"
    },
    "papermill": {
     "duration": 0.036942,
     "end_time": "2022-07-17T00:45:27.589918",
     "exception": false,
     "start_time": "2022-07-17T00:45:27.552976",
     "status": "completed"
    },
    "tags": []
   },
   "outputs": [],
   "source": [
    "#hide\n",
    "# cols = list(g.columns.values)"
   ]
  },
  {
   "cell_type": "code",
   "execution_count": 29,
   "id": "solved-farming",
   "metadata": {
    "execution": {
     "iopub.execute_input": "2022-07-17T00:45:27.655460Z",
     "iopub.status.busy": "2022-07-17T00:45:27.654755Z",
     "iopub.status.idle": "2022-07-17T00:45:27.657170Z",
     "shell.execute_reply": "2022-07-17T00:45:27.656519Z"
    },
    "papermill": {
     "duration": 0.036629,
     "end_time": "2022-07-17T00:45:27.657291",
     "exception": false,
     "start_time": "2022-07-17T00:45:27.620662",
     "status": "completed"
    },
    "tags": []
   },
   "outputs": [],
   "source": [
    "#hide\n",
    "# cols.insert(0, cols.pop())"
   ]
  },
  {
   "cell_type": "code",
   "execution_count": 30,
   "id": "executed-adoption",
   "metadata": {
    "execution": {
     "iopub.execute_input": "2022-07-17T00:45:27.723469Z",
     "iopub.status.busy": "2022-07-17T00:45:27.722835Z",
     "iopub.status.idle": "2022-07-17T00:45:27.725123Z",
     "shell.execute_reply": "2022-07-17T00:45:27.724550Z"
    },
    "papermill": {
     "duration": 0.03669,
     "end_time": "2022-07-17T00:45:27.725233",
     "exception": false,
     "start_time": "2022-07-17T00:45:27.688543",
     "status": "completed"
    },
    "tags": []
   },
   "outputs": [],
   "source": [
    "#hide\n",
    "# g = g[cols]"
   ]
  },
  {
   "cell_type": "code",
   "execution_count": 31,
   "id": "subject-dublin",
   "metadata": {
    "execution": {
     "iopub.execute_input": "2022-07-17T00:45:27.790707Z",
     "iopub.status.busy": "2022-07-17T00:45:27.790117Z",
     "iopub.status.idle": "2022-07-17T00:45:27.792519Z",
     "shell.execute_reply": "2022-07-17T00:45:27.792973Z"
    },
    "papermill": {
     "duration": 0.037153,
     "end_time": "2022-07-17T00:45:27.793100",
     "exception": false,
     "start_time": "2022-07-17T00:45:27.755947",
     "status": "completed"
    },
    "tags": []
   },
   "outputs": [],
   "source": [
    "#hide\n",
    "# g['continent'] = g['continent'].map(mapping['map.continent'])"
   ]
  },
  {
   "cell_type": "code",
   "execution_count": 32,
   "id": "freelance-scout",
   "metadata": {
    "execution": {
     "iopub.execute_input": "2022-07-17T00:45:27.859284Z",
     "iopub.status.busy": "2022-07-17T00:45:27.858554Z",
     "iopub.status.idle": "2022-07-17T00:45:27.860364Z",
     "shell.execute_reply": "2022-07-17T00:45:27.860918Z"
    },
    "papermill": {
     "duration": 0.037014,
     "end_time": "2022-07-17T00:45:27.861060",
     "exception": false,
     "start_time": "2022-07-17T00:45:27.824046",
     "status": "completed"
    },
    "tags": []
   },
   "outputs": [],
   "source": [
    "#hide\n",
    "# g.head()"
   ]
  },
  {
   "cell_type": "code",
   "execution_count": 33,
   "id": "limited-engine",
   "metadata": {
    "execution": {
     "iopub.execute_input": "2022-07-17T00:45:27.927166Z",
     "iopub.status.busy": "2022-07-17T00:45:27.926527Z",
     "iopub.status.idle": "2022-07-17T00:45:27.930194Z",
     "shell.execute_reply": "2022-07-17T00:45:27.930626Z"
    },
    "papermill": {
     "duration": 0.038527,
     "end_time": "2022-07-17T00:45:27.930758",
     "exception": false,
     "start_time": "2022-07-17T00:45:27.892231",
     "status": "completed"
    },
    "tags": []
   },
   "outputs": [],
   "source": [
    "# hide\n",
    "# g['date'] = g['date'].astype('datetime64[ns]')"
   ]
  },
  {
   "cell_type": "code",
   "execution_count": 34,
   "id": "sophisticated-supervisor",
   "metadata": {
    "execution": {
     "iopub.execute_input": "2022-07-17T00:45:27.997024Z",
     "iopub.status.busy": "2022-07-17T00:45:27.996371Z",
     "iopub.status.idle": "2022-07-17T00:45:27.998727Z",
     "shell.execute_reply": "2022-07-17T00:45:27.998251Z"
    },
    "papermill": {
     "duration": 0.037071,
     "end_time": "2022-07-17T00:45:27.998835",
     "exception": false,
     "start_time": "2022-07-17T00:45:27.961764",
     "status": "completed"
    },
    "tags": []
   },
   "outputs": [],
   "source": [
    "#hide\n",
    "# g['date'] = g.date.dt.dayofyear"
   ]
  },
  {
   "cell_type": "code",
   "execution_count": 35,
   "id": "inside-dubai",
   "metadata": {
    "execution": {
     "iopub.execute_input": "2022-07-17T00:45:28.065406Z",
     "iopub.status.busy": "2022-07-17T00:45:28.064693Z",
     "iopub.status.idle": "2022-07-17T00:45:28.068396Z",
     "shell.execute_reply": "2022-07-17T00:45:28.068858Z"
    },
    "papermill": {
     "duration": 0.038849,
     "end_time": "2022-07-17T00:45:28.068991",
     "exception": false,
     "start_time": "2022-07-17T00:45:28.030142",
     "status": "completed"
    },
    "tags": []
   },
   "outputs": [],
   "source": [
    "#hide\n",
    "# g = g.rename(columns= {'continent':'group','country':'name','cases':'value'})"
   ]
  },
  {
   "cell_type": "code",
   "execution_count": 36,
   "id": "fleet-motorcycle",
   "metadata": {
    "execution": {
     "iopub.execute_input": "2022-07-17T00:45:28.135281Z",
     "iopub.status.busy": "2022-07-17T00:45:28.134567Z",
     "iopub.status.idle": "2022-07-17T00:45:28.137214Z",
     "shell.execute_reply": "2022-07-17T00:45:28.136562Z"
    },
    "papermill": {
     "duration": 0.037386,
     "end_time": "2022-07-17T00:45:28.137337",
     "exception": false,
     "start_time": "2022-07-17T00:45:28.099951",
     "status": "completed"
    },
    "tags": []
   },
   "outputs": [],
   "source": [
    "#hide\n",
    "# cols = ['name','group','day','value']"
   ]
  },
  {
   "cell_type": "code",
   "execution_count": 37,
   "id": "continued-sleeping",
   "metadata": {
    "execution": {
     "iopub.execute_input": "2022-07-17T00:45:28.202810Z",
     "iopub.status.busy": "2022-07-17T00:45:28.202230Z",
     "iopub.status.idle": "2022-07-17T00:45:28.204620Z",
     "shell.execute_reply": "2022-07-17T00:45:28.205066Z"
    },
    "papermill": {
     "duration": 0.036938,
     "end_time": "2022-07-17T00:45:28.205190",
     "exception": false,
     "start_time": "2022-07-17T00:45:28.168252",
     "status": "completed"
    },
    "tags": []
   },
   "outputs": [],
   "source": [
    "#hide\n",
    "# g.rename(columns= {'date':'day'},inplace = True)"
   ]
  },
  {
   "cell_type": "code",
   "execution_count": 38,
   "id": "major-fight",
   "metadata": {
    "execution": {
     "iopub.execute_input": "2022-07-17T00:45:28.270658Z",
     "iopub.status.busy": "2022-07-17T00:45:28.270074Z",
     "iopub.status.idle": "2022-07-17T00:45:28.272410Z",
     "shell.execute_reply": "2022-07-17T00:45:28.272977Z"
    },
    "papermill": {
     "duration": 0.037203,
     "end_time": "2022-07-17T00:45:28.273100",
     "exception": false,
     "start_time": "2022-07-17T00:45:28.235897",
     "status": "completed"
    },
    "tags": []
   },
   "outputs": [],
   "source": [
    "#hide\n",
    "# g = g[cols]"
   ]
  },
  {
   "cell_type": "code",
   "execution_count": 39,
   "id": "structured-mobile",
   "metadata": {
    "execution": {
     "iopub.execute_input": "2022-07-17T00:45:28.338542Z",
     "iopub.status.busy": "2022-07-17T00:45:28.337850Z",
     "iopub.status.idle": "2022-07-17T00:45:28.340424Z",
     "shell.execute_reply": "2022-07-17T00:45:28.339852Z"
    },
    "papermill": {
     "duration": 0.036888,
     "end_time": "2022-07-17T00:45:28.340547",
     "exception": false,
     "start_time": "2022-07-17T00:45:28.303659",
     "status": "completed"
    },
    "tags": []
   },
   "outputs": [],
   "source": [
    "# #hide\n",
    "# g = g[g.group.notna()]"
   ]
  },
  {
   "cell_type": "code",
   "execution_count": 40,
   "id": "determined-closing",
   "metadata": {
    "execution": {
     "iopub.execute_input": "2022-07-17T00:45:28.406064Z",
     "iopub.status.busy": "2022-07-17T00:45:28.405380Z",
     "iopub.status.idle": "2022-07-17T00:45:28.409585Z",
     "shell.execute_reply": "2022-07-17T00:45:28.410074Z"
    },
    "papermill": {
     "duration": 0.038498,
     "end_time": "2022-07-17T00:45:28.410211",
     "exception": false,
     "start_time": "2022-07-17T00:45:28.371713",
     "status": "completed"
    },
    "tags": []
   },
   "outputs": [],
   "source": [
    "# #hide\n",
    "# colors = dict(zip(\n",
    "#     [\"Oceania\", \"Europe\", \"Asia\", \"South America\", \"Middle East\", \"North America\", \"Africa\"],\n",
    "#     [\"#adb0ff\", \"#ffb3ff\", \"#90d595\", \"#e48381\", \"#aafbff\", \"#f7bb5f\", \"#eafb50\"]\n",
    "# ))\n",
    "# group_lk = g.set_index('name')['group'].to_dict()"
   ]
  },
  {
   "cell_type": "code",
   "execution_count": null,
   "id": "gross-drinking",
   "metadata": {
    "papermill": {
     "duration": 0.030619,
     "end_time": "2022-07-17T00:45:28.471821",
     "exception": false,
     "start_time": "2022-07-17T00:45:28.441202",
     "status": "completed"
    },
    "tags": []
   },
   "outputs": [],
   "source": []
  },
  {
   "cell_type": "code",
   "execution_count": 41,
   "id": "subject-macintosh",
   "metadata": {
    "execution": {
     "iopub.execute_input": "2022-07-17T00:45:28.538254Z",
     "iopub.status.busy": "2022-07-17T00:45:28.537665Z",
     "iopub.status.idle": "2022-07-17T00:45:28.540024Z",
     "shell.execute_reply": "2022-07-17T00:45:28.540502Z"
    },
    "papermill": {
     "duration": 0.037504,
     "end_time": "2022-07-17T00:45:28.540624",
     "exception": false,
     "start_time": "2022-07-17T00:45:28.503120",
     "status": "completed"
    },
    "tags": []
   },
   "outputs": [],
   "source": [
    "# #hide\n",
    "# fig, ax = plt.subplots(figsize=(15, 8))\n",
    "\n",
    "# def draw_barchart(current_day):\n",
    "#     dff = g[g['day'].eq(current_day)].sort_values(by='value', ascending=True).tail(10)\n",
    "#     ax.clear()\n",
    "#     ax.barh(dff['name'], dff['value'], color=[colors[group_lk[x]] for x in dff['name']])\n",
    "#     dx = dff['value'].max() / 200\n",
    "    \n",
    "#     for i, (value, name) in enumerate(zip(dff['value'], dff['name'])):\n",
    "#         ax.text(value-dx, i,     name,           size=14, weight=600, ha='right', va='bottom')\n",
    "#         ax.text(value-dx, i-.25, group_lk[name], size=10, color='#444444', ha='right', va='baseline')\n",
    "#         ax.text(value+dx, i,     f'{value:,.0f}',  size=14, ha='left',  va='center')\n",
    "#     ax.text(1, 0.4, current_day, transform=ax.transAxes, color='#777777', size=46, ha='right', weight=800)\n",
    "#     ax.text(0, 1.06, 'Population (thousands)', transform=ax.transAxes, size=12, color='#777777')\n",
    "#     ax.xaxis.set_major_formatter(ticker.StrMethodFormatter('{x:,.0f}'))\n",
    "#     ax.xaxis.set_ticks_position('top')\n",
    "#     ax.tick_params(axis='x', colors='#777777', labelsize=12)\n",
    "#     ax.set_yticks([])\n",
    "#     ax.margins(0, 0.01)\n",
    "#     ax.grid(which='major', axis='x', linestyle='-')\n",
    "#     ax.set_axisbelow(True)\n",
    "    \n",
    "#     ax.text(0, 1.15, 'Coronavirus',\n",
    "#             transform=ax.transAxes, size=24, weight=600, ha='left', va='top')\n",
    "# #     ax.text(1, 0, 'by @pratapvardhan; credit @jburnmurdoch', transform=ax.transAxes, color='#777777', ha='right',\n",
    "# #             bbox=dict(facecolor='white', alpha=0.8, edgecolor='white'))\n",
    "#     plt.box(False)"
   ]
  },
  {
   "cell_type": "code",
   "execution_count": 42,
   "id": "sexual-wages",
   "metadata": {
    "execution": {
     "iopub.execute_input": "2022-07-17T00:45:28.606518Z",
     "iopub.status.busy": "2022-07-17T00:45:28.605906Z",
     "iopub.status.idle": "2022-07-17T00:45:28.608792Z",
     "shell.execute_reply": "2022-07-17T00:45:28.608308Z"
    },
    "papermill": {
     "duration": 0.03756,
     "end_time": "2022-07-17T00:45:28.608904",
     "exception": false,
     "start_time": "2022-07-17T00:45:28.571344",
     "status": "completed"
    },
    "tags": []
   },
   "outputs": [],
   "source": [
    "# #hide_input\n",
    "# fig, ax = plt.subplots(figsize=(15, 8))\n",
    "# animator = animation.FuncAnimation(fig, draw_barchart, frames=range(g.day.values.min(), g.day.values.max()))\n",
    "# HTML(animator.to_jshtml())\n",
    "# # or use animator.to_html5_video() or animator.save() "
   ]
  },
  {
   "cell_type": "code",
   "execution_count": null,
   "id": "australian-container",
   "metadata": {
    "papermill": {
     "duration": 0.030953,
     "end_time": "2022-07-17T00:45:28.670937",
     "exception": false,
     "start_time": "2022-07-17T00:45:28.639984",
     "status": "completed"
    },
    "tags": []
   },
   "outputs": [],
   "source": []
  },
  {
   "cell_type": "code",
   "execution_count": null,
   "id": "mediterranean-pontiac",
   "metadata": {
    "papermill": {
     "duration": 0.03075,
     "end_time": "2022-07-17T00:45:28.732659",
     "exception": false,
     "start_time": "2022-07-17T00:45:28.701909",
     "status": "completed"
    },
    "tags": []
   },
   "outputs": [],
   "source": []
  },
  {
   "cell_type": "code",
   "execution_count": null,
   "id": "aging-legislature",
   "metadata": {
    "papermill": {
     "duration": 0.030623,
     "end_time": "2022-07-17T00:45:28.794193",
     "exception": false,
     "start_time": "2022-07-17T00:45:28.763570",
     "status": "completed"
    },
    "tags": []
   },
   "outputs": [],
   "source": []
  }
 ],
 "metadata": {
  "kernelspec": {
   "display_name": "Python 3",
   "language": "python",
   "name": "python3"
  },
  "language_info": {
   "codemirror_mode": {
    "name": "ipython",
    "version": 3
   },
   "file_extension": ".py",
   "mimetype": "text/x-python",
   "name": "python",
   "nbconvert_exporter": "python",
   "pygments_lexer": "ipython3",
   "version": "3.6.15"
  },
  "papermill": {
   "duration": 6.057475,
   "end_time": "2022-07-17T00:45:29.243871",
   "environment_variables": {},
   "exception": null,
   "input_path": "2020-03-21-covid19exp.ipynb",
   "output_path": "2020-03-21-covid19exp.ipynb",
   "parameters": {},
   "start_time": "2022-07-17T00:45:23.186396",
   "version": "2.0.0"
  }
 },
 "nbformat": 4,
 "nbformat_minor": 5
}