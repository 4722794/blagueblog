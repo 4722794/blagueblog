{
 "cells": [
  {
   "cell_type": "markdown",
   "id": "muslim-click",
   "metadata": {
    "papermill": {
     "duration": 0.044439,
     "end_time": "2021-04-28T00:06:40.943332",
     "exception": false,
     "start_time": "2021-04-28T00:06:40.898893",
     "status": "completed"
    },
    "tags": []
   },
   "source": [
    "# COVID-19 Case Race\n",
    "> A race chart to see rising cases around the world\n",
    "\n",
    "- author: Hargun Oberoi\n",
    "- image: images/covid-overview.png\n",
    "- hide: false\n",
    "- badges: false"
   ]
  },
  {
   "cell_type": "code",
   "execution_count": 1,
   "id": "proof-material",
   "metadata": {
    "execution": {
     "iopub.execute_input": "2021-04-28T00:06:41.032524Z",
     "iopub.status.busy": "2021-04-28T00:06:41.031790Z",
     "iopub.status.idle": "2021-04-28T00:06:41.406265Z",
     "shell.execute_reply": "2021-04-28T00:06:41.405701Z"
    },
    "papermill": {
     "duration": 0.423038,
     "end_time": "2021-04-28T00:06:41.406423",
     "exception": false,
     "start_time": "2021-04-28T00:06:40.983385",
     "status": "completed"
    },
    "tags": []
   },
   "outputs": [],
   "source": [
    "#hide\n",
    "import numpy as np\n",
    "import pandas as pd\n",
    "from jinja2 import Template\n",
    "from IPython.display import HTML"
   ]
  },
  {
   "cell_type": "code",
   "execution_count": 2,
   "id": "developed-terminology",
   "metadata": {
    "execution": {
     "iopub.execute_input": "2021-04-28T00:06:41.493303Z",
     "iopub.status.busy": "2021-04-28T00:06:41.492550Z",
     "iopub.status.idle": "2021-04-28T00:06:41.495066Z",
     "shell.execute_reply": "2021-04-28T00:06:41.494511Z"
    },
    "papermill": {
     "duration": 0.050162,
     "end_time": "2021-04-28T00:06:41.495192",
     "exception": false,
     "start_time": "2021-04-28T00:06:41.445030",
     "status": "completed"
    },
    "tags": []
   },
   "outputs": [],
   "source": [
    "#hide\n",
    "\n",
    "# FETCH\n",
    "base_url = 'https://raw.githubusercontent.com/pratapvardhan/notebooks/master/covid19/'\n",
    "paths = {\n",
    "    'mapping': base_url + 'mapping_countries.csv',\n",
    "    'overview': base_url + 'overview.tpl'\n",
    "}"
   ]
  },
  {
   "cell_type": "code",
   "execution_count": 3,
   "id": "dynamic-saver",
   "metadata": {
    "execution": {
     "iopub.execute_input": "2021-04-28T00:06:41.588101Z",
     "iopub.status.busy": "2021-04-28T00:06:41.587394Z",
     "iopub.status.idle": "2021-04-28T00:06:41.589797Z",
     "shell.execute_reply": "2021-04-28T00:06:41.590406Z"
    },
    "papermill": {
     "duration": 0.056776,
     "end_time": "2021-04-28T00:06:41.590571",
     "exception": false,
     "start_time": "2021-04-28T00:06:41.533795",
     "status": "completed"
    },
    "tags": []
   },
   "outputs": [
    {
     "data": {
      "text/plain": [
       "'https://raw.githubusercontent.com/pratapvardhan/notebooks/master/covid19/mapping_countries.csv'"
      ]
     },
     "execution_count": 3,
     "metadata": {},
     "output_type": "execute_result"
    }
   ],
   "source": [
    "#hide\n",
    "paths['mapping']"
   ]
  },
  {
   "cell_type": "code",
   "execution_count": 4,
   "id": "urban-software",
   "metadata": {
    "execution": {
     "iopub.execute_input": "2021-04-28T00:06:41.672741Z",
     "iopub.status.busy": "2021-04-28T00:06:41.672102Z",
     "iopub.status.idle": "2021-04-28T00:06:41.674387Z",
     "shell.execute_reply": "2021-04-28T00:06:41.673753Z"
    },
    "papermill": {
     "duration": 0.046385,
     "end_time": "2021-04-28T00:06:41.674520",
     "exception": false,
     "start_time": "2021-04-28T00:06:41.628135",
     "status": "completed"
    },
    "tags": []
   },
   "outputs": [],
   "source": [
    "#hide\n",
    "def get_mappings(url):\n",
    "    df = pd.read_csv(url)\n",
    "    return {\n",
    "        'df': df,\n",
    "        'replace.country': dict(df.dropna(subset=['Name']).set_index('Country')['Name']),\n",
    "        'map.continent': dict(df.set_index('Name')['Continent'])\n",
    "    }"
   ]
  },
  {
   "cell_type": "code",
   "execution_count": 5,
   "id": "intimate-machinery",
   "metadata": {
    "execution": {
     "iopub.execute_input": "2021-04-28T00:06:41.759411Z",
     "iopub.status.busy": "2021-04-28T00:06:41.758747Z",
     "iopub.status.idle": "2021-04-28T00:06:41.802166Z",
     "shell.execute_reply": "2021-04-28T00:06:41.802714Z"
    },
    "papermill": {
     "duration": 0.089218,
     "end_time": "2021-04-28T00:06:41.802903",
     "exception": false,
     "start_time": "2021-04-28T00:06:41.713685",
     "status": "completed"
    },
    "tags": []
   },
   "outputs": [],
   "source": [
    "#hide\n",
    "mapping = get_mappings(paths['mapping'])"
   ]
  },
  {
   "cell_type": "code",
   "execution_count": 6,
   "id": "certified-tactics",
   "metadata": {
    "execution": {
     "iopub.execute_input": "2021-04-28T00:06:41.885805Z",
     "iopub.status.busy": "2021-04-28T00:06:41.885148Z",
     "iopub.status.idle": "2021-04-28T00:06:41.888035Z",
     "shell.execute_reply": "2021-04-28T00:06:41.887497Z"
    },
    "papermill": {
     "duration": 0.046789,
     "end_time": "2021-04-28T00:06:41.888180",
     "exception": false,
     "start_time": "2021-04-28T00:06:41.841391",
     "status": "completed"
    },
    "tags": []
   },
   "outputs": [],
   "source": [
    "#hide\n",
    "def get_template(path):\n",
    "    from urllib.parse import urlparse\n",
    "    if bool(urlparse(path).netloc):\n",
    "        from urllib.request import urlopen\n",
    "        return urlopen(path).read().decode('utf8')\n",
    "    return open(path).read()"
   ]
  },
  {
   "cell_type": "code",
   "execution_count": 7,
   "id": "realistic-blast",
   "metadata": {
    "execution": {
     "iopub.execute_input": "2021-04-28T00:06:41.971974Z",
     "iopub.status.busy": "2021-04-28T00:06:41.971325Z",
     "iopub.status.idle": "2021-04-28T00:06:41.973680Z",
     "shell.execute_reply": "2021-04-28T00:06:41.973119Z"
    },
    "papermill": {
     "duration": 0.045085,
     "end_time": "2021-04-28T00:06:41.973800",
     "exception": false,
     "start_time": "2021-04-28T00:06:41.928715",
     "status": "completed"
    },
    "tags": []
   },
   "outputs": [],
   "source": [
    "#hide\n",
    "def get_frame(name):\n",
    "    url = (\n",
    "        'https://raw.githubusercontent.com/CSSEGISandData/COVID-19/master/csse_covid_19_data/'\n",
    "        f'csse_covid_19_time_series/time_series_covid19_{name}_global.csv')\n",
    "    df = pd.read_csv(url)\n",
    "    # rename countries\n",
    "    df['Country/Region'] = df['Country/Region'].replace(mapping['replace.country'])\n",
    "    return df"
   ]
  },
  {
   "cell_type": "code",
   "execution_count": 8,
   "id": "affiliated-characterization",
   "metadata": {
    "execution": {
     "iopub.execute_input": "2021-04-28T00:06:42.060579Z",
     "iopub.status.busy": "2021-04-28T00:06:42.059941Z",
     "iopub.status.idle": "2021-04-28T00:06:42.062259Z",
     "shell.execute_reply": "2021-04-28T00:06:42.061755Z"
    },
    "papermill": {
     "duration": 0.0459,
     "end_time": "2021-04-28T00:06:42.062372",
     "exception": false,
     "start_time": "2021-04-28T00:06:42.016472",
     "status": "completed"
    },
    "tags": []
   },
   "outputs": [],
   "source": [
    "#hide\n",
    "def get_dates(df):\n",
    "    dt_cols = df.columns[~df.columns.isin(['Province/State', 'Country/Region', 'Lat', 'Long'])]\n",
    "    LAST_DATE_I = -1\n",
    "    # sometimes last column may be empty, then go backwards\n",
    "    for i in range(-1, -len(dt_cols), -1):\n",
    "        if not df[dt_cols[i]].fillna(0).eq(0).all():\n",
    "            LAST_DATE_I = i\n",
    "            break\n",
    "    return LAST_DATE_I, dt_cols"
   ]
  },
  {
   "cell_type": "code",
   "execution_count": 9,
   "id": "recent-optimization",
   "metadata": {
    "execution": {
     "iopub.execute_input": "2021-04-28T00:06:42.146037Z",
     "iopub.status.busy": "2021-04-28T00:06:42.145352Z",
     "iopub.status.idle": "2021-04-28T00:06:42.526897Z",
     "shell.execute_reply": "2021-04-28T00:06:42.525627Z"
    },
    "papermill": {
     "duration": 0.426049,
     "end_time": "2021-04-28T00:06:42.527027",
     "exception": false,
     "start_time": "2021-04-28T00:06:42.100978",
     "status": "completed"
    },
    "tags": []
   },
   "outputs": [],
   "source": [
    "#hide\n",
    "COL_REGION = 'Country/Region'\n",
    "# Confirmed, Recovered, Deaths\n",
    "df = get_frame('confirmed')\n",
    "# dft_: timeseries, dfc_: today country agg\n",
    "dft_cases = df\n",
    "dft_deaths = get_frame('deaths')\n",
    "dft_recovered = get_frame('recovered')\n",
    "LAST_DATE_I, dt_cols = get_dates(df)"
   ]
  },
  {
   "cell_type": "code",
   "execution_count": 10,
   "id": "absolute-copper",
   "metadata": {
    "execution": {
     "iopub.execute_input": "2021-04-28T00:06:42.611448Z",
     "iopub.status.busy": "2021-04-28T00:06:42.610809Z",
     "iopub.status.idle": "2021-04-28T00:06:42.613341Z",
     "shell.execute_reply": "2021-04-28T00:06:42.612712Z"
    },
    "papermill": {
     "duration": 0.048348,
     "end_time": "2021-04-28T00:06:42.613469",
     "exception": false,
     "start_time": "2021-04-28T00:06:42.565121",
     "status": "completed"
    },
    "tags": []
   },
   "outputs": [],
   "source": [
    "#hide\n",
    "LAST_DATE_I, dt_cols = get_dates(df)\n",
    "dt_today =dt_cols[LAST_DATE_I]\n",
    "# dt_5day = dt_cols[LAST_DATE_I - 5]\n",
    "dt_yday = dt_cols[LAST_DATE_I - 1]"
   ]
  },
  {
   "cell_type": "code",
   "execution_count": 11,
   "id": "restricted-sheriff",
   "metadata": {
    "execution": {
     "iopub.execute_input": "2021-04-28T00:06:42.696848Z",
     "iopub.status.busy": "2021-04-28T00:06:42.696208Z",
     "iopub.status.idle": "2021-04-28T00:06:42.704402Z",
     "shell.execute_reply": "2021-04-28T00:06:42.705027Z"
    },
    "papermill": {
     "duration": 0.053372,
     "end_time": "2021-04-28T00:06:42.705190",
     "exception": false,
     "start_time": "2021-04-28T00:06:42.651818",
     "status": "completed"
    },
    "tags": []
   },
   "outputs": [],
   "source": [
    "#hide\n",
    "dfc_cases = dft_cases.groupby(COL_REGION)[dt_today].sum()\n",
    "dfc_deaths = dft_deaths.groupby(COL_REGION)[dt_today].sum()\n",
    "# dfp_cases = dft_cases.groupby(COL_REGION)[dt_5day].sum()\n",
    "# dfp_deaths = dft_deaths.groupby(COL_REGION)[dt_5day].sum()\n",
    "dfp_cases = dft_cases.groupby(COL_REGION)[dt_yday].sum()\n",
    "dfp_deaths = dft_deaths.groupby(COL_REGION)[dt_yday].sum()"
   ]
  },
  {
   "cell_type": "code",
   "execution_count": 12,
   "id": "deluxe-hepatitis",
   "metadata": {
    "execution": {
     "iopub.execute_input": "2021-04-28T00:06:42.789245Z",
     "iopub.status.busy": "2021-04-28T00:06:42.788608Z",
     "iopub.status.idle": "2021-04-28T00:06:42.793294Z",
     "shell.execute_reply": "2021-04-28T00:06:42.792783Z"
    },
    "papermill": {
     "duration": 0.04877,
     "end_time": "2021-04-28T00:06:42.793424",
     "exception": false,
     "start_time": "2021-04-28T00:06:42.744654",
     "status": "completed"
    },
    "tags": []
   },
   "outputs": [],
   "source": [
    "#hide\n",
    "df_table = (pd.DataFrame(dict(Cases = dfc_cases, Deaths = dfc_deaths, PCases = dfp_cases, PDeaths = dfp_deaths))\n",
    "            .sort_values(by = ['Cases','Deaths'], ascending = [False, False])\n",
    "            .reset_index())"
   ]
  },
  {
   "cell_type": "code",
   "execution_count": 13,
   "id": "educational-chancellor",
   "metadata": {
    "execution": {
     "iopub.execute_input": "2021-04-28T00:06:42.890448Z",
     "iopub.status.busy": "2021-04-28T00:06:42.889758Z",
     "iopub.status.idle": "2021-04-28T00:06:42.897704Z",
     "shell.execute_reply": "2021-04-28T00:06:42.898332Z"
    },
    "papermill": {
     "duration": 0.066767,
     "end_time": "2021-04-28T00:06:42.898488",
     "exception": false,
     "start_time": "2021-04-28T00:06:42.831721",
     "status": "completed"
    },
    "tags": []
   },
   "outputs": [
    {
     "data": {
      "text/html": [
       "<div>\n",
       "<style scoped>\n",
       "    .dataframe tbody tr th:only-of-type {\n",
       "        vertical-align: middle;\n",
       "    }\n",
       "\n",
       "    .dataframe tbody tr th {\n",
       "        vertical-align: top;\n",
       "    }\n",
       "\n",
       "    .dataframe thead th {\n",
       "        text-align: right;\n",
       "    }\n",
       "</style>\n",
       "<table border=\"1\" class=\"dataframe\">\n",
       "  <thead>\n",
       "    <tr style=\"text-align: right;\">\n",
       "      <th></th>\n",
       "      <th>Country/Region</th>\n",
       "      <th>Cases</th>\n",
       "      <th>Deaths</th>\n",
       "      <th>PCases</th>\n",
       "      <th>PDeaths</th>\n",
       "      <th>Cases (+)</th>\n",
       "      <th>Deaths (+)</th>\n",
       "      <th>Fatality Rate</th>\n",
       "      <th>Continent</th>\n",
       "    </tr>\n",
       "  </thead>\n",
       "  <tbody>\n",
       "    <tr>\n",
       "      <th>0</th>\n",
       "      <td>US</td>\n",
       "      <td>32124869</td>\n",
       "      <td>572674</td>\n",
       "      <td>32077178</td>\n",
       "      <td>572200</td>\n",
       "      <td>47691</td>\n",
       "      <td>474</td>\n",
       "      <td>1.78</td>\n",
       "      <td>North America</td>\n",
       "    </tr>\n",
       "    <tr>\n",
       "      <th>1</th>\n",
       "      <td>India</td>\n",
       "      <td>17636186</td>\n",
       "      <td>197894</td>\n",
       "      <td>17313163</td>\n",
       "      <td>195123</td>\n",
       "      <td>323023</td>\n",
       "      <td>2771</td>\n",
       "      <td>1.12</td>\n",
       "      <td>Asia</td>\n",
       "    </tr>\n",
       "    <tr>\n",
       "      <th>2</th>\n",
       "      <td>Brazil</td>\n",
       "      <td>14369423</td>\n",
       "      <td>391936</td>\n",
       "      <td>14340787</td>\n",
       "      <td>390797</td>\n",
       "      <td>28636</td>\n",
       "      <td>1139</td>\n",
       "      <td>2.73</td>\n",
       "      <td>South America</td>\n",
       "    </tr>\n",
       "    <tr>\n",
       "      <th>3</th>\n",
       "      <td>France</td>\n",
       "      <td>5565080</td>\n",
       "      <td>103415</td>\n",
       "      <td>5559121</td>\n",
       "      <td>103017</td>\n",
       "      <td>5959</td>\n",
       "      <td>398</td>\n",
       "      <td>1.86</td>\n",
       "      <td>Europe</td>\n",
       "    </tr>\n",
       "    <tr>\n",
       "      <th>4</th>\n",
       "      <td>Russia</td>\n",
       "      <td>4717321</td>\n",
       "      <td>106783</td>\n",
       "      <td>4708640</td>\n",
       "      <td>106434</td>\n",
       "      <td>8681</td>\n",
       "      <td>349</td>\n",
       "      <td>2.26</td>\n",
       "      <td>Europe</td>\n",
       "    </tr>\n",
       "  </tbody>\n",
       "</table>\n",
       "</div>"
      ],
      "text/plain": [
       "  Country/Region     Cases  Deaths    PCases  PDeaths  Cases (+)  Deaths (+)  \\\n",
       "0             US  32124869  572674  32077178   572200      47691         474   \n",
       "1          India  17636186  197894  17313163   195123     323023        2771   \n",
       "2         Brazil  14369423  391936  14340787   390797      28636        1139   \n",
       "3         France   5565080  103415   5559121   103017       5959         398   \n",
       "4         Russia   4717321  106783   4708640   106434       8681         349   \n",
       "\n",
       "   Fatality Rate      Continent  \n",
       "0           1.78  North America  \n",
       "1           1.12           Asia  \n",
       "2           2.73  South America  \n",
       "3           1.86         Europe  \n",
       "4           2.26         Europe  "
      ]
     },
     "execution_count": 13,
     "metadata": {},
     "output_type": "execute_result"
    }
   ],
   "source": [
    "#hide\n",
    "for c in 'Cases, Deaths'.split(', '):\n",
    "    df_table[f'{c} (+)'] = (df_table[c] - df_table[f'P{c}']).clip(0)\n",
    "    #Clip ça veut dire, les chiffres negatif sont interdit\n",
    "df_table['Fatality Rate'] = (100* df_table['Deaths']/ df_table['Cases']).round(2)\n",
    "df_table['Continent'] = df_table['Country/Region'].map(mapping['map.continent'])\n",
    "df_table.head(5)"
   ]
  },
  {
   "cell_type": "code",
   "execution_count": 14,
   "id": "aboriginal-bulgaria",
   "metadata": {
    "execution": {
     "iopub.execute_input": "2021-04-28T00:06:42.983023Z",
     "iopub.status.busy": "2021-04-28T00:06:42.982329Z",
     "iopub.status.idle": "2021-04-28T00:06:42.985591Z",
     "shell.execute_reply": "2021-04-28T00:06:42.986101Z"
    },
    "papermill": {
     "duration": 0.047451,
     "end_time": "2021-04-28T00:06:42.986265",
     "exception": false,
     "start_time": "2021-04-28T00:06:42.938814",
     "status": "completed"
    },
    "tags": []
   },
   "outputs": [],
   "source": [
    "#hide\n",
    "#delete problematic countries from table\n",
    "df_table = df_table[~df_table['Country/Region'].isin(['Cape Verde', 'Cruise Ship', 'Kosovo'])]"
   ]
  },
  {
   "cell_type": "code",
   "execution_count": 15,
   "id": "fantastic-effect",
   "metadata": {
    "execution": {
     "iopub.execute_input": "2021-04-28T00:06:43.074201Z",
     "iopub.status.busy": "2021-04-28T00:06:43.073554Z",
     "iopub.status.idle": "2021-04-28T00:06:43.099237Z",
     "shell.execute_reply": "2021-04-28T00:06:43.098558Z"
    },
    "papermill": {
     "duration": 0.072989,
     "end_time": "2021-04-28T00:06:43.099414",
     "exception": false,
     "start_time": "2021-04-28T00:06:43.026425",
     "status": "completed"
    },
    "tags": []
   },
   "outputs": [
    {
     "data": {
      "text/html": [
       "<div>\n",
       "<style scoped>\n",
       "    .dataframe tbody tr th:only-of-type {\n",
       "        vertical-align: middle;\n",
       "    }\n",
       "\n",
       "    .dataframe tbody tr th {\n",
       "        vertical-align: top;\n",
       "    }\n",
       "\n",
       "    .dataframe thead th {\n",
       "        text-align: right;\n",
       "    }\n",
       "</style>\n",
       "<table border=\"1\" class=\"dataframe\">\n",
       "  <thead>\n",
       "    <tr style=\"text-align: right;\">\n",
       "      <th></th>\n",
       "      <th>Country/Region</th>\n",
       "      <th>Cases</th>\n",
       "      <th>Deaths</th>\n",
       "      <th>PCases</th>\n",
       "      <th>PDeaths</th>\n",
       "      <th>Cases (+)</th>\n",
       "      <th>Deaths (+)</th>\n",
       "      <th>Fatality Rate</th>\n",
       "      <th>Continent</th>\n",
       "    </tr>\n",
       "  </thead>\n",
       "  <tbody>\n",
       "    <tr>\n",
       "      <th>0</th>\n",
       "      <td>US</td>\n",
       "      <td>32124869</td>\n",
       "      <td>572674</td>\n",
       "      <td>32077178</td>\n",
       "      <td>572200</td>\n",
       "      <td>47691</td>\n",
       "      <td>474</td>\n",
       "      <td>1.8</td>\n",
       "      <td>North America</td>\n",
       "    </tr>\n",
       "    <tr>\n",
       "      <th>1</th>\n",
       "      <td>India</td>\n",
       "      <td>17636186</td>\n",
       "      <td>197894</td>\n",
       "      <td>17313163</td>\n",
       "      <td>195123</td>\n",
       "      <td>323023</td>\n",
       "      <td>2771</td>\n",
       "      <td>1.1</td>\n",
       "      <td>Asia</td>\n",
       "    </tr>\n",
       "    <tr>\n",
       "      <th>2</th>\n",
       "      <td>Brazil</td>\n",
       "      <td>14369423</td>\n",
       "      <td>391936</td>\n",
       "      <td>14340787</td>\n",
       "      <td>390797</td>\n",
       "      <td>28636</td>\n",
       "      <td>1139</td>\n",
       "      <td>2.7</td>\n",
       "      <td>South America</td>\n",
       "    </tr>\n",
       "    <tr>\n",
       "      <th>3</th>\n",
       "      <td>France</td>\n",
       "      <td>5565080</td>\n",
       "      <td>103415</td>\n",
       "      <td>5559121</td>\n",
       "      <td>103017</td>\n",
       "      <td>5959</td>\n",
       "      <td>398</td>\n",
       "      <td>1.9</td>\n",
       "      <td>Europe</td>\n",
       "    </tr>\n",
       "    <tr>\n",
       "      <th>4</th>\n",
       "      <td>Russia</td>\n",
       "      <td>4717321</td>\n",
       "      <td>106783</td>\n",
       "      <td>4708640</td>\n",
       "      <td>106434</td>\n",
       "      <td>8681</td>\n",
       "      <td>349</td>\n",
       "      <td>2.3</td>\n",
       "      <td>Europe</td>\n",
       "    </tr>\n",
       "  </tbody>\n",
       "</table>\n",
       "</div>"
      ],
      "text/plain": [
       "  Country/Region     Cases  Deaths    PCases  PDeaths  Cases (+)  Deaths (+)  \\\n",
       "0             US  32124869  572674  32077178   572200      47691         474   \n",
       "1          India  17636186  197894  17313163   195123     323023        2771   \n",
       "2         Brazil  14369423  391936  14340787   390797      28636        1139   \n",
       "3         France   5565080  103415   5559121   103017       5959         398   \n",
       "4         Russia   4717321  106783   4708640   106434       8681         349   \n",
       "\n",
       "   Fatality Rate      Continent  \n",
       "0            1.8  North America  \n",
       "1            1.1           Asia  \n",
       "2            2.7  South America  \n",
       "3            1.9         Europe  \n",
       "4            2.3         Europe  "
      ]
     },
     "execution_count": 15,
     "metadata": {},
     "output_type": "execute_result"
    }
   ],
   "source": [
    "#hide\n",
    "df_table = (pd.DataFrame(dict(Cases=dfc_cases, Deaths=dfc_deaths, PCases=dfp_cases, PDeaths=dfp_deaths))\n",
    "             .sort_values(by=['Cases', 'Deaths'], ascending=[False, False])\n",
    "             .reset_index())\n",
    "df_table.rename(columns={'index': 'Country/Region'}, inplace=True)\n",
    "for c in 'Cases, Deaths'.split(', '):\n",
    "    df_table[f'{c} (+)'] = (df_table[c] - df_table[f'P{c}']).clip(0)  # DATA BUG\n",
    "df_table['Fatality Rate'] = (100 * df_table['Deaths'] / df_table['Cases']).round(1)\n",
    "df_table['Continent'] = df_table['Country/Region'].map(mapping['map.continent'])\n",
    "df_table.head(5)"
   ]
  },
  {
   "cell_type": "code",
   "execution_count": 16,
   "id": "fewer-occasion",
   "metadata": {
    "execution": {
     "iopub.execute_input": "2021-04-28T00:06:43.187279Z",
     "iopub.status.busy": "2021-04-28T00:06:43.186630Z",
     "iopub.status.idle": "2021-04-28T00:06:43.189143Z",
     "shell.execute_reply": "2021-04-28T00:06:43.188590Z"
    },
    "papermill": {
     "duration": 0.048787,
     "end_time": "2021-04-28T00:06:43.189277",
     "exception": false,
     "start_time": "2021-04-28T00:06:43.140490",
     "status": "completed"
    },
    "tags": []
   },
   "outputs": [],
   "source": [
    "#hide\n",
    "#delete problematic countries from table\n",
    "df_table = df_table[~df_table['Country/Region'].isin(['Cape Verde', 'Cruise Ship', 'Kosovo'])]"
   ]
  },
  {
   "cell_type": "code",
   "execution_count": 17,
   "id": "related-center",
   "metadata": {
    "execution": {
     "iopub.execute_input": "2021-04-28T00:06:43.277791Z",
     "iopub.status.busy": "2021-04-28T00:06:43.277140Z",
     "iopub.status.idle": "2021-04-28T00:06:43.291653Z",
     "shell.execute_reply": "2021-04-28T00:06:43.291114Z"
    },
    "papermill": {
     "duration": 0.063604,
     "end_time": "2021-04-28T00:06:43.291789",
     "exception": false,
     "start_time": "2021-04-28T00:06:43.228185",
     "status": "completed"
    },
    "tags": []
   },
   "outputs": [],
   "source": [
    "#hide\n",
    "metrics = [df_table.columns[index] for index in [1,2,5,6]]\n",
    "# s_china = df_table[df_table['Country/Region'].eq('China')][metrics].sum().add_prefix('China ')\n",
    "s_us = df_table[df_table['Country/Region'].eq('US')][metrics].sum().add_prefix('US ')\n",
    "s_eu = df_table[df_table['Continent'].eq('Europe')][metrics].sum().add_prefix('EU ')\n",
    "s_ind = df_table[df_table['Country/Region'].eq('India')][metrics].sum().add_prefix('India ')\n",
    "summary = {'updated': pd.to_datetime(dt_today), 'since': pd.to_datetime(dt_yday)}\n",
    "summary = {'updated': pd.to_datetime(dt_today), 'since': pd.to_datetime(dt_yday)}\n",
    "summary = {**summary, **df_table[metrics].sum(), **s_ind, **s_us, **s_eu}"
   ]
  },
  {
   "cell_type": "code",
   "execution_count": 18,
   "id": "engaging-syndrome",
   "metadata": {
    "execution": {
     "iopub.execute_input": "2021-04-28T00:06:43.377279Z",
     "iopub.status.busy": "2021-04-28T00:06:43.376618Z",
     "iopub.status.idle": "2021-04-28T00:06:43.388942Z",
     "shell.execute_reply": "2021-04-28T00:06:43.389488Z"
    },
    "papermill": {
     "duration": 0.058194,
     "end_time": "2021-04-28T00:06:43.389651",
     "exception": false,
     "start_time": "2021-04-28T00:06:43.331457",
     "status": "completed"
    },
    "tags": []
   },
   "outputs": [],
   "source": [
    "#hide\n",
    "dft_ct_new_cases = dft_cases.groupby(COL_REGION)[dt_cols].sum().diff(axis=1).fillna(0).astype(int)"
   ]
  },
  {
   "cell_type": "code",
   "execution_count": 19,
   "id": "neutral-assignment",
   "metadata": {
    "execution": {
     "iopub.execute_input": "2021-04-28T00:06:43.477407Z",
     "iopub.status.busy": "2021-04-28T00:06:43.476704Z",
     "iopub.status.idle": "2021-04-28T00:06:43.478805Z",
     "shell.execute_reply": "2021-04-28T00:06:43.479322Z"
    },
    "papermill": {
     "duration": 0.048955,
     "end_time": "2021-04-28T00:06:43.479473",
     "exception": false,
     "start_time": "2021-04-28T00:06:43.430518",
     "status": "completed"
    },
    "tags": []
   },
   "outputs": [],
   "source": [
    "#hide\n",
    "everydaycases = dft_ct_new_cases.cumsum(axis=1)"
   ]
  },
  {
   "cell_type": "code",
   "execution_count": 20,
   "id": "parliamentary-calgary",
   "metadata": {
    "execution": {
     "iopub.execute_input": "2021-04-28T00:06:43.564704Z",
     "iopub.status.busy": "2021-04-28T00:06:43.564011Z",
     "iopub.status.idle": "2021-04-28T00:06:44.166430Z",
     "shell.execute_reply": "2021-04-28T00:06:44.166951Z"
    },
    "papermill": {
     "duration": 0.647388,
     "end_time": "2021-04-28T00:06:44.167130",
     "exception": false,
     "start_time": "2021-04-28T00:06:43.519742",
     "status": "completed"
    },
    "tags": []
   },
   "outputs": [],
   "source": [
    "#hide\n",
    "import pandas as pd\n",
    "import matplotlib.pyplot as plt\n",
    "import matplotlib.ticker as ticker\n",
    "import matplotlib.animation as animation\n",
    "from IPython.display import HTML"
   ]
  },
  {
   "cell_type": "code",
   "execution_count": 21,
   "id": "lasting-extraction",
   "metadata": {
    "execution": {
     "iopub.execute_input": "2021-04-28T00:06:44.253434Z",
     "iopub.status.busy": "2021-04-28T00:06:44.252647Z",
     "iopub.status.idle": "2021-04-28T00:06:44.257935Z",
     "shell.execute_reply": "2021-04-28T00:06:44.258866Z"
    },
    "papermill": {
     "duration": 0.05225,
     "end_time": "2021-04-28T00:06:44.259026",
     "exception": false,
     "start_time": "2021-04-28T00:06:44.206776",
     "status": "completed"
    },
    "tags": []
   },
   "outputs": [],
   "source": [
    "#hide\n",
    "t = everydaycases.stack()"
   ]
  },
  {
   "cell_type": "code",
   "execution_count": 22,
   "id": "premier-sleeve",
   "metadata": {
    "execution": {
     "iopub.execute_input": "2021-04-28T00:06:44.343488Z",
     "iopub.status.busy": "2021-04-28T00:06:44.342813Z",
     "iopub.status.idle": "2021-04-28T00:06:44.350641Z",
     "shell.execute_reply": "2021-04-28T00:06:44.351303Z"
    },
    "papermill": {
     "duration": 0.052705,
     "end_time": "2021-04-28T00:06:44.351464",
     "exception": false,
     "start_time": "2021-04-28T00:06:44.298759",
     "status": "completed"
    },
    "tags": []
   },
   "outputs": [],
   "source": [
    "#hide\n",
    "g = t.reset_index(['Country/Region'])"
   ]
  },
  {
   "cell_type": "code",
   "execution_count": 23,
   "id": "distributed-pittsburgh",
   "metadata": {
    "execution": {
     "iopub.execute_input": "2021-04-28T00:06:44.437109Z",
     "iopub.status.busy": "2021-04-28T00:06:44.436441Z",
     "iopub.status.idle": "2021-04-28T00:06:44.446847Z",
     "shell.execute_reply": "2021-04-28T00:06:44.450976Z"
    },
    "papermill": {
     "duration": 0.060332,
     "end_time": "2021-04-28T00:06:44.451137",
     "exception": false,
     "start_time": "2021-04-28T00:06:44.390805",
     "status": "completed"
    },
    "tags": []
   },
   "outputs": [],
   "source": [
    "#hide\n",
    "g.index.name = 'date'"
   ]
  },
  {
   "cell_type": "code",
   "execution_count": 24,
   "id": "naked-donor",
   "metadata": {
    "execution": {
     "iopub.execute_input": "2021-04-28T00:06:44.537807Z",
     "iopub.status.busy": "2021-04-28T00:06:44.537148Z",
     "iopub.status.idle": "2021-04-28T00:06:44.540305Z",
     "shell.execute_reply": "2021-04-28T00:06:44.539652Z"
    },
    "papermill": {
     "duration": 0.049115,
     "end_time": "2021-04-28T00:06:44.540446",
     "exception": false,
     "start_time": "2021-04-28T00:06:44.491331",
     "status": "completed"
    },
    "tags": []
   },
   "outputs": [],
   "source": [
    "# #hide\n",
    "# g = g.reset_index(['date'])"
   ]
  },
  {
   "cell_type": "code",
   "execution_count": 25,
   "id": "incomplete-mustang",
   "metadata": {
    "execution": {
     "iopub.execute_input": "2021-04-28T00:06:44.625191Z",
     "iopub.status.busy": "2021-04-28T00:06:44.624512Z",
     "iopub.status.idle": "2021-04-28T00:06:44.625809Z",
     "shell.execute_reply": "2021-04-28T00:06:44.626609Z"
    },
    "papermill": {
     "duration": 0.045773,
     "end_time": "2021-04-28T00:06:44.626767",
     "exception": false,
     "start_time": "2021-04-28T00:06:44.580994",
     "status": "completed"
    },
    "tags": []
   },
   "outputs": [],
   "source": [
    "#hide\n",
    "# g.head()"
   ]
  },
  {
   "cell_type": "code",
   "execution_count": 26,
   "id": "specific-kruger",
   "metadata": {
    "execution": {
     "iopub.execute_input": "2021-04-28T00:06:44.711397Z",
     "iopub.status.busy": "2021-04-28T00:06:44.710725Z",
     "iopub.status.idle": "2021-04-28T00:06:44.713208Z",
     "shell.execute_reply": "2021-04-28T00:06:44.712546Z"
    },
    "papermill": {
     "duration": 0.046519,
     "end_time": "2021-04-28T00:06:44.713338",
     "exception": false,
     "start_time": "2021-04-28T00:06:44.666819",
     "status": "completed"
    },
    "tags": []
   },
   "outputs": [],
   "source": [
    "#hide\n",
    "# g.columns = ['date','country','cases']"
   ]
  },
  {
   "cell_type": "code",
   "execution_count": 27,
   "id": "tender-conversion",
   "metadata": {
    "execution": {
     "iopub.execute_input": "2021-04-28T00:06:44.798516Z",
     "iopub.status.busy": "2021-04-28T00:06:44.797863Z",
     "iopub.status.idle": "2021-04-28T00:06:44.800515Z",
     "shell.execute_reply": "2021-04-28T00:06:44.799829Z"
    },
    "papermill": {
     "duration": 0.047061,
     "end_time": "2021-04-28T00:06:44.800650",
     "exception": false,
     "start_time": "2021-04-28T00:06:44.753589",
     "status": "completed"
    },
    "tags": []
   },
   "outputs": [],
   "source": [
    "#hide\n",
    "# g['continent'] = g.country"
   ]
  },
  {
   "cell_type": "code",
   "execution_count": 28,
   "id": "substantial-wilderness",
   "metadata": {
    "execution": {
     "iopub.execute_input": "2021-04-28T00:06:44.886583Z",
     "iopub.status.busy": "2021-04-28T00:06:44.885934Z",
     "iopub.status.idle": "2021-04-28T00:06:44.888585Z",
     "shell.execute_reply": "2021-04-28T00:06:44.887955Z"
    },
    "papermill": {
     "duration": 0.047246,
     "end_time": "2021-04-28T00:06:44.888715",
     "exception": false,
     "start_time": "2021-04-28T00:06:44.841469",
     "status": "completed"
    },
    "tags": []
   },
   "outputs": [],
   "source": [
    "#hide\n",
    "# cols = list(g.columns.values)"
   ]
  },
  {
   "cell_type": "code",
   "execution_count": 29,
   "id": "solved-farming",
   "metadata": {
    "execution": {
     "iopub.execute_input": "2021-04-28T00:06:44.974084Z",
     "iopub.status.busy": "2021-04-28T00:06:44.973439Z",
     "iopub.status.idle": "2021-04-28T00:06:44.976369Z",
     "shell.execute_reply": "2021-04-28T00:06:44.975803Z"
    },
    "papermill": {
     "duration": 0.046695,
     "end_time": "2021-04-28T00:06:44.976497",
     "exception": false,
     "start_time": "2021-04-28T00:06:44.929802",
     "status": "completed"
    },
    "tags": []
   },
   "outputs": [],
   "source": [
    "#hide\n",
    "# cols.insert(0, cols.pop())"
   ]
  },
  {
   "cell_type": "code",
   "execution_count": 30,
   "id": "executed-adoption",
   "metadata": {
    "execution": {
     "iopub.execute_input": "2021-04-28T00:06:45.061239Z",
     "iopub.status.busy": "2021-04-28T00:06:45.060618Z",
     "iopub.status.idle": "2021-04-28T00:06:45.062325Z",
     "shell.execute_reply": "2021-04-28T00:06:45.062856Z"
    },
    "papermill": {
     "duration": 0.046685,
     "end_time": "2021-04-28T00:06:45.062998",
     "exception": false,
     "start_time": "2021-04-28T00:06:45.016313",
     "status": "completed"
    },
    "tags": []
   },
   "outputs": [],
   "source": [
    "#hide\n",
    "# g = g[cols]"
   ]
  },
  {
   "cell_type": "code",
   "execution_count": 31,
   "id": "subject-dublin",
   "metadata": {
    "execution": {
     "iopub.execute_input": "2021-04-28T00:06:45.148159Z",
     "iopub.status.busy": "2021-04-28T00:06:45.147471Z",
     "iopub.status.idle": "2021-04-28T00:06:45.149774Z",
     "shell.execute_reply": "2021-04-28T00:06:45.150392Z"
    },
    "papermill": {
     "duration": 0.047416,
     "end_time": "2021-04-28T00:06:45.150541",
     "exception": false,
     "start_time": "2021-04-28T00:06:45.103125",
     "status": "completed"
    },
    "tags": []
   },
   "outputs": [],
   "source": [
    "#hide\n",
    "# g['continent'] = g['continent'].map(mapping['map.continent'])"
   ]
  },
  {
   "cell_type": "code",
   "execution_count": 32,
   "id": "freelance-scout",
   "metadata": {
    "execution": {
     "iopub.execute_input": "2021-04-28T00:06:45.234892Z",
     "iopub.status.busy": "2021-04-28T00:06:45.234154Z",
     "iopub.status.idle": "2021-04-28T00:06:45.236432Z",
     "shell.execute_reply": "2021-04-28T00:06:45.236925Z"
    },
    "papermill": {
     "duration": 0.046721,
     "end_time": "2021-04-28T00:06:45.237069",
     "exception": false,
     "start_time": "2021-04-28T00:06:45.190348",
     "status": "completed"
    },
    "tags": []
   },
   "outputs": [],
   "source": [
    "#hide\n",
    "# g.head()"
   ]
  },
  {
   "cell_type": "code",
   "execution_count": 33,
   "id": "limited-engine",
   "metadata": {
    "execution": {
     "iopub.execute_input": "2021-04-28T00:06:45.324977Z",
     "iopub.status.busy": "2021-04-28T00:06:45.324317Z",
     "iopub.status.idle": "2021-04-28T00:06:45.326672Z",
     "shell.execute_reply": "2021-04-28T00:06:45.326018Z"
    },
    "papermill": {
     "duration": 0.046795,
     "end_time": "2021-04-28T00:06:45.326802",
     "exception": false,
     "start_time": "2021-04-28T00:06:45.280007",
     "status": "completed"
    },
    "tags": []
   },
   "outputs": [],
   "source": [
    "# hide\n",
    "# g['date'] = g['date'].astype('datetime64[ns]')"
   ]
  },
  {
   "cell_type": "code",
   "execution_count": 34,
   "id": "sophisticated-supervisor",
   "metadata": {
    "execution": {
     "iopub.execute_input": "2021-04-28T00:06:45.419022Z",
     "iopub.status.busy": "2021-04-28T00:06:45.418363Z",
     "iopub.status.idle": "2021-04-28T00:06:45.420760Z",
     "shell.execute_reply": "2021-04-28T00:06:45.420161Z"
    },
    "papermill": {
     "duration": 0.048033,
     "end_time": "2021-04-28T00:06:45.420895",
     "exception": false,
     "start_time": "2021-04-28T00:06:45.372862",
     "status": "completed"
    },
    "tags": []
   },
   "outputs": [],
   "source": [
    "#hide\n",
    "# g['date'] = g.date.dt.dayofyear"
   ]
  },
  {
   "cell_type": "code",
   "execution_count": 35,
   "id": "inside-dubai",
   "metadata": {
    "execution": {
     "iopub.execute_input": "2021-04-28T00:06:45.505874Z",
     "iopub.status.busy": "2021-04-28T00:06:45.505261Z",
     "iopub.status.idle": "2021-04-28T00:06:45.507610Z",
     "shell.execute_reply": "2021-04-28T00:06:45.506940Z"
    },
    "papermill": {
     "duration": 0.047073,
     "end_time": "2021-04-28T00:06:45.507731",
     "exception": false,
     "start_time": "2021-04-28T00:06:45.460658",
     "status": "completed"
    },
    "tags": []
   },
   "outputs": [],
   "source": [
    "#hide\n",
    "# g = g.rename(columns= {'continent':'group','country':'name','cases':'value'})"
   ]
  },
  {
   "cell_type": "code",
   "execution_count": 36,
   "id": "fleet-motorcycle",
   "metadata": {
    "execution": {
     "iopub.execute_input": "2021-04-28T00:06:45.591565Z",
     "iopub.status.busy": "2021-04-28T00:06:45.590893Z",
     "iopub.status.idle": "2021-04-28T00:06:45.593400Z",
     "shell.execute_reply": "2021-04-28T00:06:45.592843Z"
    },
    "papermill": {
     "duration": 0.044985,
     "end_time": "2021-04-28T00:06:45.593537",
     "exception": false,
     "start_time": "2021-04-28T00:06:45.548552",
     "status": "completed"
    },
    "tags": []
   },
   "outputs": [],
   "source": [
    "#hide\n",
    "# cols = ['name','group','day','value']"
   ]
  },
  {
   "cell_type": "code",
   "execution_count": 37,
   "id": "continued-sleeping",
   "metadata": {
    "execution": {
     "iopub.execute_input": "2021-04-28T00:06:45.678310Z",
     "iopub.status.busy": "2021-04-28T00:06:45.677530Z",
     "iopub.status.idle": "2021-04-28T00:06:45.679136Z",
     "shell.execute_reply": "2021-04-28T00:06:45.679745Z"
    },
    "papermill": {
     "duration": 0.046919,
     "end_time": "2021-04-28T00:06:45.679913",
     "exception": false,
     "start_time": "2021-04-28T00:06:45.632994",
     "status": "completed"
    },
    "tags": []
   },
   "outputs": [],
   "source": [
    "#hide\n",
    "# g.rename(columns= {'date':'day'},inplace = True)"
   ]
  },
  {
   "cell_type": "code",
   "execution_count": 38,
   "id": "major-fight",
   "metadata": {
    "execution": {
     "iopub.execute_input": "2021-04-28T00:06:45.765194Z",
     "iopub.status.busy": "2021-04-28T00:06:45.764514Z",
     "iopub.status.idle": "2021-04-28T00:06:45.767130Z",
     "shell.execute_reply": "2021-04-28T00:06:45.766460Z"
    },
    "papermill": {
     "duration": 0.046836,
     "end_time": "2021-04-28T00:06:45.767261",
     "exception": false,
     "start_time": "2021-04-28T00:06:45.720425",
     "status": "completed"
    },
    "tags": []
   },
   "outputs": [],
   "source": [
    "#hide\n",
    "# g = g[cols]"
   ]
  },
  {
   "cell_type": "code",
   "execution_count": 39,
   "id": "structured-mobile",
   "metadata": {
    "execution": {
     "iopub.execute_input": "2021-04-28T00:06:45.850669Z",
     "iopub.status.busy": "2021-04-28T00:06:45.850007Z",
     "iopub.status.idle": "2021-04-28T00:06:45.852779Z",
     "shell.execute_reply": "2021-04-28T00:06:45.853617Z"
    },
    "papermill": {
     "duration": 0.046368,
     "end_time": "2021-04-28T00:06:45.853919",
     "exception": false,
     "start_time": "2021-04-28T00:06:45.807551",
     "status": "completed"
    },
    "tags": []
   },
   "outputs": [],
   "source": [
    "# #hide\n",
    "# g = g[g.group.notna()]"
   ]
  },
  {
   "cell_type": "code",
   "execution_count": 40,
   "id": "determined-closing",
   "metadata": {
    "execution": {
     "iopub.execute_input": "2021-04-28T00:06:45.937489Z",
     "iopub.status.busy": "2021-04-28T00:06:45.936832Z",
     "iopub.status.idle": "2021-04-28T00:06:45.941126Z",
     "shell.execute_reply": "2021-04-28T00:06:45.940551Z"
    },
    "papermill": {
     "duration": 0.046677,
     "end_time": "2021-04-28T00:06:45.941267",
     "exception": false,
     "start_time": "2021-04-28T00:06:45.894590",
     "status": "completed"
    },
    "tags": []
   },
   "outputs": [],
   "source": [
    "# #hide\n",
    "# colors = dict(zip(\n",
    "#     [\"Oceania\", \"Europe\", \"Asia\", \"South America\", \"Middle East\", \"North America\", \"Africa\"],\n",
    "#     [\"#adb0ff\", \"#ffb3ff\", \"#90d595\", \"#e48381\", \"#aafbff\", \"#f7bb5f\", \"#eafb50\"]\n",
    "# ))\n",
    "# group_lk = g.set_index('name')['group'].to_dict()"
   ]
  },
  {
   "cell_type": "code",
   "execution_count": null,
   "id": "gross-drinking",
   "metadata": {
    "papermill": {
     "duration": 0.040836,
     "end_time": "2021-04-28T00:06:46.023165",
     "exception": false,
     "start_time": "2021-04-28T00:06:45.982329",
     "status": "completed"
    },
    "tags": []
   },
   "outputs": [],
   "source": []
  },
  {
   "cell_type": "code",
   "execution_count": 41,
   "id": "subject-macintosh",
   "metadata": {
    "execution": {
     "iopub.execute_input": "2021-04-28T00:06:46.116797Z",
     "iopub.status.busy": "2021-04-28T00:06:46.116127Z",
     "iopub.status.idle": "2021-04-28T00:06:46.120256Z",
     "shell.execute_reply": "2021-04-28T00:06:46.119685Z"
    },
    "papermill": {
     "duration": 0.047218,
     "end_time": "2021-04-28T00:06:46.120384",
     "exception": false,
     "start_time": "2021-04-28T00:06:46.073166",
     "status": "completed"
    },
    "tags": []
   },
   "outputs": [],
   "source": [
    "# #hide\n",
    "# fig, ax = plt.subplots(figsize=(15, 8))\n",
    "\n",
    "# def draw_barchart(current_day):\n",
    "#     dff = g[g['day'].eq(current_day)].sort_values(by='value', ascending=True).tail(10)\n",
    "#     ax.clear()\n",
    "#     ax.barh(dff['name'], dff['value'], color=[colors[group_lk[x]] for x in dff['name']])\n",
    "#     dx = dff['value'].max() / 200\n",
    "    \n",
    "#     for i, (value, name) in enumerate(zip(dff['value'], dff['name'])):\n",
    "#         ax.text(value-dx, i,     name,           size=14, weight=600, ha='right', va='bottom')\n",
    "#         ax.text(value-dx, i-.25, group_lk[name], size=10, color='#444444', ha='right', va='baseline')\n",
    "#         ax.text(value+dx, i,     f'{value:,.0f}',  size=14, ha='left',  va='center')\n",
    "#     ax.text(1, 0.4, current_day, transform=ax.transAxes, color='#777777', size=46, ha='right', weight=800)\n",
    "#     ax.text(0, 1.06, 'Population (thousands)', transform=ax.transAxes, size=12, color='#777777')\n",
    "#     ax.xaxis.set_major_formatter(ticker.StrMethodFormatter('{x:,.0f}'))\n",
    "#     ax.xaxis.set_ticks_position('top')\n",
    "#     ax.tick_params(axis='x', colors='#777777', labelsize=12)\n",
    "#     ax.set_yticks([])\n",
    "#     ax.margins(0, 0.01)\n",
    "#     ax.grid(which='major', axis='x', linestyle='-')\n",
    "#     ax.set_axisbelow(True)\n",
    "    \n",
    "#     ax.text(0, 1.15, 'Coronavirus',\n",
    "#             transform=ax.transAxes, size=24, weight=600, ha='left', va='top')\n",
    "# #     ax.text(1, 0, 'by @pratapvardhan; credit @jburnmurdoch', transform=ax.transAxes, color='#777777', ha='right',\n",
    "# #             bbox=dict(facecolor='white', alpha=0.8, edgecolor='white'))\n",
    "#     plt.box(False)"
   ]
  },
  {
   "cell_type": "code",
   "execution_count": 42,
   "id": "sexual-wages",
   "metadata": {
    "execution": {
     "iopub.execute_input": "2021-04-28T00:06:46.207395Z",
     "iopub.status.busy": "2021-04-28T00:06:46.206747Z",
     "iopub.status.idle": "2021-04-28T00:06:46.209326Z",
     "shell.execute_reply": "2021-04-28T00:06:46.208673Z"
    },
    "papermill": {
     "duration": 0.046987,
     "end_time": "2021-04-28T00:06:46.209477",
     "exception": false,
     "start_time": "2021-04-28T00:06:46.162490",
     "status": "completed"
    },
    "tags": []
   },
   "outputs": [],
   "source": [
    "# #hide_input\n",
    "# fig, ax = plt.subplots(figsize=(15, 8))\n",
    "# animator = animation.FuncAnimation(fig, draw_barchart, frames=range(g.day.values.min(), g.day.values.max()))\n",
    "# HTML(animator.to_jshtml())\n",
    "# # or use animator.to_html5_video() or animator.save() "
   ]
  },
  {
   "cell_type": "code",
   "execution_count": null,
   "id": "australian-container",
   "metadata": {
    "papermill": {
     "duration": 0.039259,
     "end_time": "2021-04-28T00:06:46.288079",
     "exception": false,
     "start_time": "2021-04-28T00:06:46.248820",
     "status": "completed"
    },
    "tags": []
   },
   "outputs": [],
   "source": []
  },
  {
   "cell_type": "code",
   "execution_count": null,
   "id": "mediterranean-pontiac",
   "metadata": {
    "papermill": {
     "duration": 0.045071,
     "end_time": "2021-04-28T00:06:46.371999",
     "exception": false,
     "start_time": "2021-04-28T00:06:46.326928",
     "status": "completed"
    },
    "tags": []
   },
   "outputs": [],
   "source": []
  },
  {
   "cell_type": "code",
   "execution_count": null,
   "id": "aging-legislature",
   "metadata": {
    "papermill": {
     "duration": 0.039537,
     "end_time": "2021-04-28T00:06:46.450534",
     "exception": false,
     "start_time": "2021-04-28T00:06:46.410997",
     "status": "completed"
    },
    "tags": []
   },
   "outputs": [],
   "source": []
  }
 ],
 "metadata": {
  "kernelspec": {
   "display_name": "Python 3",
   "language": "python",
   "name": "python3"
  },
  "language_info": {
   "codemirror_mode": {
    "name": "ipython",
    "version": 3
   },
   "file_extension": ".py",
   "mimetype": "text/x-python",
   "name": "python",
   "nbconvert_exporter": "python",
   "pygments_lexer": "ipython3",
   "version": "3.6.13"
  },
  "papermill": {
   "duration": 7.222158,
   "end_time": "2021-04-28T00:06:46.805333",
   "environment_variables": {},
   "exception": null,
   "input_path": "2020-03-21-covid19exp.ipynb",
   "output_path": "2020-03-21-covid19exp.ipynb",
   "parameters": {},
   "start_time": "2021-04-28T00:06:39.583175",
   "version": "2.0.0"
  }
 },
 "nbformat": 4,
 "nbformat_minor": 5
}