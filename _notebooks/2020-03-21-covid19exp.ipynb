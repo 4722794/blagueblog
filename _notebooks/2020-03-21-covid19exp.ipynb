{
 "cells": [
  {
   "cell_type": "markdown",
   "id": "muslim-click",
   "metadata": {
    "papermill": {
     "duration": 0.037126,
     "end_time": "2022-10-05T12:19:53.421728",
     "exception": false,
     "start_time": "2022-10-05T12:19:53.384602",
     "status": "completed"
    },
    "tags": []
   },
   "source": [
    "# COVID-19 Case Race\n",
    "> A race chart to see rising cases around the world\n",
    "\n",
    "- author: Hargun Oberoi\n",
    "- image: images/covid-overview.png\n",
    "- hide: false\n",
    "- badges: false"
   ]
  },
  {
   "cell_type": "code",
   "execution_count": 1,
   "id": "proof-material",
   "metadata": {
    "execution": {
     "iopub.execute_input": "2022-10-05T12:19:53.494939Z",
     "iopub.status.busy": "2022-10-05T12:19:53.493522Z",
     "iopub.status.idle": "2022-10-05T12:19:53.868864Z",
     "shell.execute_reply": "2022-10-05T12:19:53.870027Z"
    },
    "papermill": {
     "duration": 0.418652,
     "end_time": "2022-10-05T12:19:53.870240",
     "exception": false,
     "start_time": "2022-10-05T12:19:53.451588",
     "status": "completed"
    },
    "tags": []
   },
   "outputs": [],
   "source": [
    "#hide\n",
    "import numpy as np\n",
    "import pandas as pd\n",
    "from jinja2 import Template\n",
    "from IPython.display import HTML"
   ]
  },
  {
   "cell_type": "code",
   "execution_count": 2,
   "id": "developed-terminology",
   "metadata": {
    "execution": {
     "iopub.execute_input": "2022-10-05T12:19:53.939523Z",
     "iopub.status.busy": "2022-10-05T12:19:53.938792Z",
     "iopub.status.idle": "2022-10-05T12:19:53.941774Z",
     "shell.execute_reply": "2022-10-05T12:19:53.940930Z"
    },
    "papermill": {
     "duration": 0.037351,
     "end_time": "2022-10-05T12:19:53.941947",
     "exception": false,
     "start_time": "2022-10-05T12:19:53.904596",
     "status": "completed"
    },
    "tags": []
   },
   "outputs": [],
   "source": [
    "#hide\n",
    "\n",
    "# FETCH\n",
    "base_url = 'https://raw.githubusercontent.com/pratapvardhan/notebooks/master/covid19/'\n",
    "paths = {\n",
    "    'mapping': base_url + 'mapping_countries.csv',\n",
    "    'overview': base_url + 'overview.tpl'\n",
    "}"
   ]
  },
  {
   "cell_type": "code",
   "execution_count": 3,
   "id": "dynamic-saver",
   "metadata": {
    "execution": {
     "iopub.execute_input": "2022-10-05T12:19:54.016939Z",
     "iopub.status.busy": "2022-10-05T12:19:54.013816Z",
     "iopub.status.idle": "2022-10-05T12:19:54.019500Z",
     "shell.execute_reply": "2022-10-05T12:19:54.019952Z"
    },
    "papermill": {
     "duration": 0.045183,
     "end_time": "2022-10-05T12:19:54.020093",
     "exception": false,
     "start_time": "2022-10-05T12:19:53.974910",
     "status": "completed"
    },
    "tags": []
   },
   "outputs": [
    {
     "data": {
      "text/plain": [
       "'https://raw.githubusercontent.com/pratapvardhan/notebooks/master/covid19/mapping_countries.csv'"
      ]
     },
     "execution_count": 3,
     "metadata": {},
     "output_type": "execute_result"
    }
   ],
   "source": [
    "#hide\n",
    "paths['mapping']"
   ]
  },
  {
   "cell_type": "code",
   "execution_count": 4,
   "id": "urban-software",
   "metadata": {
    "execution": {
     "iopub.execute_input": "2022-10-05T12:19:54.089517Z",
     "iopub.status.busy": "2022-10-05T12:19:54.088847Z",
     "iopub.status.idle": "2022-10-05T12:19:54.092483Z",
     "shell.execute_reply": "2022-10-05T12:19:54.093007Z"
    },
    "papermill": {
     "duration": 0.042308,
     "end_time": "2022-10-05T12:19:54.093149",
     "exception": false,
     "start_time": "2022-10-05T12:19:54.050841",
     "status": "completed"
    },
    "tags": []
   },
   "outputs": [],
   "source": [
    "#hide\n",
    "def get_mappings(url):\n",
    "    df = pd.read_csv(url)\n",
    "    return {\n",
    "        'df': df,\n",
    "        'replace.country': dict(df.dropna(subset=['Name']).set_index('Country')['Name']),\n",
    "        'map.continent': dict(df.set_index('Name')['Continent'])\n",
    "    }"
   ]
  },
  {
   "cell_type": "code",
   "execution_count": 5,
   "id": "intimate-machinery",
   "metadata": {
    "execution": {
     "iopub.execute_input": "2022-10-05T12:19:54.168149Z",
     "iopub.status.busy": "2022-10-05T12:19:54.167364Z",
     "iopub.status.idle": "2022-10-05T12:19:54.196080Z",
     "shell.execute_reply": "2022-10-05T12:19:54.194687Z"
    },
    "papermill": {
     "duration": 0.071253,
     "end_time": "2022-10-05T12:19:54.196215",
     "exception": false,
     "start_time": "2022-10-05T12:19:54.124962",
     "status": "completed"
    },
    "tags": []
   },
   "outputs": [],
   "source": [
    "#hide\n",
    "mapping = get_mappings(paths['mapping'])"
   ]
  },
  {
   "cell_type": "code",
   "execution_count": 6,
   "id": "certified-tactics",
   "metadata": {
    "execution": {
     "iopub.execute_input": "2022-10-05T12:19:54.267570Z",
     "iopub.status.busy": "2022-10-05T12:19:54.266941Z",
     "iopub.status.idle": "2022-10-05T12:19:54.269375Z",
     "shell.execute_reply": "2022-10-05T12:19:54.268901Z"
    },
    "papermill": {
     "duration": 0.039698,
     "end_time": "2022-10-05T12:19:54.269495",
     "exception": false,
     "start_time": "2022-10-05T12:19:54.229797",
     "status": "completed"
    },
    "tags": []
   },
   "outputs": [],
   "source": [
    "#hide\n",
    "def get_template(path):\n",
    "    from urllib.parse import urlparse\n",
    "    if bool(urlparse(path).netloc):\n",
    "        from urllib.request import urlopen\n",
    "        return urlopen(path).read().decode('utf8')\n",
    "    return open(path).read()"
   ]
  },
  {
   "cell_type": "code",
   "execution_count": 7,
   "id": "realistic-blast",
   "metadata": {
    "execution": {
     "iopub.execute_input": "2022-10-05T12:19:54.336424Z",
     "iopub.status.busy": "2022-10-05T12:19:54.335810Z",
     "iopub.status.idle": "2022-10-05T12:19:54.339949Z",
     "shell.execute_reply": "2022-10-05T12:19:54.339469Z"
    },
    "papermill": {
     "duration": 0.0411,
     "end_time": "2022-10-05T12:19:54.340051",
     "exception": false,
     "start_time": "2022-10-05T12:19:54.298951",
     "status": "completed"
    },
    "tags": []
   },
   "outputs": [],
   "source": [
    "#hide\n",
    "def get_frame(name):\n",
    "    url = (\n",
    "        'https://raw.githubusercontent.com/CSSEGISandData/COVID-19/master/csse_covid_19_data/'\n",
    "        f'csse_covid_19_time_series/time_series_covid19_{name}_global.csv')\n",
    "    df = pd.read_csv(url)\n",
    "    # rename countries\n",
    "    df['Country/Region'] = df['Country/Region'].replace(mapping['replace.country'])\n",
    "    return df"
   ]
  },
  {
   "cell_type": "code",
   "execution_count": 8,
   "id": "affiliated-characterization",
   "metadata": {
    "execution": {
     "iopub.execute_input": "2022-10-05T12:19:54.405682Z",
     "iopub.status.busy": "2022-10-05T12:19:54.405007Z",
     "iopub.status.idle": "2022-10-05T12:19:54.407642Z",
     "shell.execute_reply": "2022-10-05T12:19:54.408210Z"
    },
    "papermill": {
     "duration": 0.038956,
     "end_time": "2022-10-05T12:19:54.408343",
     "exception": false,
     "start_time": "2022-10-05T12:19:54.369387",
     "status": "completed"
    },
    "tags": []
   },
   "outputs": [],
   "source": [
    "#hide\n",
    "def get_dates(df):\n",
    "    dt_cols = df.columns[~df.columns.isin(['Province/State', 'Country/Region', 'Lat', 'Long'])]\n",
    "    LAST_DATE_I = -1\n",
    "    # sometimes last column may be empty, then go backwards\n",
    "    for i in range(-1, -len(dt_cols), -1):\n",
    "        if not df[dt_cols[i]].fillna(0).eq(0).all():\n",
    "            LAST_DATE_I = i\n",
    "            break\n",
    "    return LAST_DATE_I, dt_cols"
   ]
  },
  {
   "cell_type": "code",
   "execution_count": 9,
   "id": "recent-optimization",
   "metadata": {
    "execution": {
     "iopub.execute_input": "2022-10-05T12:19:54.472018Z",
     "iopub.status.busy": "2022-10-05T12:19:54.471392Z",
     "iopub.status.idle": "2022-10-05T12:19:54.858072Z",
     "shell.execute_reply": "2022-10-05T12:19:54.856878Z"
    },
    "papermill": {
     "duration": 0.419971,
     "end_time": "2022-10-05T12:19:54.858247",
     "exception": false,
     "start_time": "2022-10-05T12:19:54.438276",
     "status": "completed"
    },
    "tags": []
   },
   "outputs": [],
   "source": [
    "#hide\n",
    "COL_REGION = 'Country/Region'\n",
    "# Confirmed, Recovered, Deaths\n",
    "df = get_frame('confirmed')\n",
    "# dft_: timeseries, dfc_: today country agg\n",
    "dft_cases = df\n",
    "dft_deaths = get_frame('deaths')\n",
    "dft_recovered = get_frame('recovered')\n",
    "LAST_DATE_I, dt_cols = get_dates(df)"
   ]
  },
  {
   "cell_type": "code",
   "execution_count": 10,
   "id": "absolute-copper",
   "metadata": {
    "execution": {
     "iopub.execute_input": "2022-10-05T12:19:54.922714Z",
     "iopub.status.busy": "2022-10-05T12:19:54.922030Z",
     "iopub.status.idle": "2022-10-05T12:19:54.925134Z",
     "shell.execute_reply": "2022-10-05T12:19:54.924518Z"
    },
    "papermill": {
     "duration": 0.03793,
     "end_time": "2022-10-05T12:19:54.925257",
     "exception": false,
     "start_time": "2022-10-05T12:19:54.887327",
     "status": "completed"
    },
    "tags": []
   },
   "outputs": [],
   "source": [
    "#hide\n",
    "LAST_DATE_I, dt_cols = get_dates(df)\n",
    "dt_today =dt_cols[LAST_DATE_I]\n",
    "# dt_5day = dt_cols[LAST_DATE_I - 5]\n",
    "dt_yday = dt_cols[LAST_DATE_I - 1]"
   ]
  },
  {
   "cell_type": "code",
   "execution_count": 11,
   "id": "restricted-sheriff",
   "metadata": {
    "execution": {
     "iopub.execute_input": "2022-10-05T12:19:54.992806Z",
     "iopub.status.busy": "2022-10-05T12:19:54.988550Z",
     "iopub.status.idle": "2022-10-05T12:19:54.996475Z",
     "shell.execute_reply": "2022-10-05T12:19:54.995887Z"
    },
    "papermill": {
     "duration": 0.042803,
     "end_time": "2022-10-05T12:19:54.996593",
     "exception": false,
     "start_time": "2022-10-05T12:19:54.953790",
     "status": "completed"
    },
    "tags": []
   },
   "outputs": [],
   "source": [
    "#hide\n",
    "dfc_cases = dft_cases.groupby(COL_REGION)[dt_today].sum()\n",
    "dfc_deaths = dft_deaths.groupby(COL_REGION)[dt_today].sum()\n",
    "# dfp_cases = dft_cases.groupby(COL_REGION)[dt_5day].sum()\n",
    "# dfp_deaths = dft_deaths.groupby(COL_REGION)[dt_5day].sum()\n",
    "dfp_cases = dft_cases.groupby(COL_REGION)[dt_yday].sum()\n",
    "dfp_deaths = dft_deaths.groupby(COL_REGION)[dt_yday].sum()"
   ]
  },
  {
   "cell_type": "code",
   "execution_count": 12,
   "id": "deluxe-hepatitis",
   "metadata": {
    "execution": {
     "iopub.execute_input": "2022-10-05T12:19:55.063293Z",
     "iopub.status.busy": "2022-10-05T12:19:55.061354Z",
     "iopub.status.idle": "2022-10-05T12:19:55.066615Z",
     "shell.execute_reply": "2022-10-05T12:19:55.066071Z"
    },
    "papermill": {
     "duration": 0.04066,
     "end_time": "2022-10-05T12:19:55.066734",
     "exception": false,
     "start_time": "2022-10-05T12:19:55.026074",
     "status": "completed"
    },
    "tags": []
   },
   "outputs": [],
   "source": [
    "#hide\n",
    "df_table = (pd.DataFrame(dict(Cases = dfc_cases, Deaths = dfc_deaths, PCases = dfp_cases, PDeaths = dfp_deaths))\n",
    "            .sort_values(by = ['Cases','Deaths'], ascending = [False, False])\n",
    "            .reset_index())"
   ]
  },
  {
   "cell_type": "code",
   "execution_count": 13,
   "id": "educational-chancellor",
   "metadata": {
    "execution": {
     "iopub.execute_input": "2022-10-05T12:19:55.147726Z",
     "iopub.status.busy": "2022-10-05T12:19:55.142397Z",
     "iopub.status.idle": "2022-10-05T12:19:55.152095Z",
     "shell.execute_reply": "2022-10-05T12:19:55.151703Z"
    },
    "papermill": {
     "duration": 0.057732,
     "end_time": "2022-10-05T12:19:55.152184",
     "exception": false,
     "start_time": "2022-10-05T12:19:55.094452",
     "status": "completed"
    },
    "tags": []
   },
   "outputs": [
    {
     "data": {
      "text/html": [
       "<div>\n",
       "<style scoped>\n",
       "    .dataframe tbody tr th:only-of-type {\n",
       "        vertical-align: middle;\n",
       "    }\n",
       "\n",
       "    .dataframe tbody tr th {\n",
       "        vertical-align: top;\n",
       "    }\n",
       "\n",
       "    .dataframe thead th {\n",
       "        text-align: right;\n",
       "    }\n",
       "</style>\n",
       "<table border=\"1\" class=\"dataframe\">\n",
       "  <thead>\n",
       "    <tr style=\"text-align: right;\">\n",
       "      <th></th>\n",
       "      <th>Country/Region</th>\n",
       "      <th>Cases</th>\n",
       "      <th>Deaths</th>\n",
       "      <th>PCases</th>\n",
       "      <th>PDeaths</th>\n",
       "      <th>Cases (+)</th>\n",
       "      <th>Deaths (+)</th>\n",
       "      <th>Fatality Rate</th>\n",
       "      <th>Continent</th>\n",
       "    </tr>\n",
       "  </thead>\n",
       "  <tbody>\n",
       "    <tr>\n",
       "      <th>0</th>\n",
       "      <td>US</td>\n",
       "      <td>96481081</td>\n",
       "      <td>1060408</td>\n",
       "      <td>96438726</td>\n",
       "      <td>1059866</td>\n",
       "      <td>42355</td>\n",
       "      <td>542</td>\n",
       "      <td>1.10</td>\n",
       "      <td>North America</td>\n",
       "    </tr>\n",
       "    <tr>\n",
       "      <th>1</th>\n",
       "      <td>India</td>\n",
       "      <td>44601892</td>\n",
       "      <td>528733</td>\n",
       "      <td>44599466</td>\n",
       "      <td>528716</td>\n",
       "      <td>2426</td>\n",
       "      <td>17</td>\n",
       "      <td>1.19</td>\n",
       "      <td>Asia</td>\n",
       "    </tr>\n",
       "    <tr>\n",
       "      <th>2</th>\n",
       "      <td>France</td>\n",
       "      <td>35790213</td>\n",
       "      <td>156312</td>\n",
       "      <td>35701024</td>\n",
       "      <td>156238</td>\n",
       "      <td>89189</td>\n",
       "      <td>74</td>\n",
       "      <td>0.44</td>\n",
       "      <td>Europe</td>\n",
       "    </tr>\n",
       "    <tr>\n",
       "      <th>3</th>\n",
       "      <td>Brazil</td>\n",
       "      <td>34684529</td>\n",
       "      <td>686371</td>\n",
       "      <td>34684529</td>\n",
       "      <td>686371</td>\n",
       "      <td>0</td>\n",
       "      <td>0</td>\n",
       "      <td>1.98</td>\n",
       "      <td>South America</td>\n",
       "    </tr>\n",
       "    <tr>\n",
       "      <th>4</th>\n",
       "      <td>Germany</td>\n",
       "      <td>33519761</td>\n",
       "      <td>150192</td>\n",
       "      <td>33386229</td>\n",
       "      <td>150064</td>\n",
       "      <td>133532</td>\n",
       "      <td>128</td>\n",
       "      <td>0.45</td>\n",
       "      <td>Europe</td>\n",
       "    </tr>\n",
       "  </tbody>\n",
       "</table>\n",
       "</div>"
      ],
      "text/plain": [
       "  Country/Region     Cases   Deaths    PCases  PDeaths  Cases (+)  Deaths (+)  \\\n",
       "0             US  96481081  1060408  96438726  1059866      42355         542   \n",
       "1          India  44601892   528733  44599466   528716       2426          17   \n",
       "2         France  35790213   156312  35701024   156238      89189          74   \n",
       "3         Brazil  34684529   686371  34684529   686371          0           0   \n",
       "4        Germany  33519761   150192  33386229   150064     133532         128   \n",
       "\n",
       "   Fatality Rate      Continent  \n",
       "0           1.10  North America  \n",
       "1           1.19           Asia  \n",
       "2           0.44         Europe  \n",
       "3           1.98  South America  \n",
       "4           0.45         Europe  "
      ]
     },
     "execution_count": 13,
     "metadata": {},
     "output_type": "execute_result"
    }
   ],
   "source": [
    "#hide\n",
    "for c in 'Cases, Deaths'.split(', '):\n",
    "    df_table[f'{c} (+)'] = (df_table[c] - df_table[f'P{c}']).clip(0)\n",
    "    #Clip ça veut dire, les chiffres negatif sont interdit\n",
    "df_table['Fatality Rate'] = (100* df_table['Deaths']/ df_table['Cases']).round(2)\n",
    "df_table['Continent'] = df_table['Country/Region'].map(mapping['map.continent'])\n",
    "df_table.head(5)"
   ]
  },
  {
   "cell_type": "code",
   "execution_count": 14,
   "id": "aboriginal-bulgaria",
   "metadata": {
    "execution": {
     "iopub.execute_input": "2022-10-05T12:19:55.216165Z",
     "iopub.status.busy": "2022-10-05T12:19:55.214985Z",
     "iopub.status.idle": "2022-10-05T12:19:55.217432Z",
     "shell.execute_reply": "2022-10-05T12:19:55.218320Z"
    },
    "papermill": {
     "duration": 0.037475,
     "end_time": "2022-10-05T12:19:55.218579",
     "exception": false,
     "start_time": "2022-10-05T12:19:55.181104",
     "status": "completed"
    },
    "tags": []
   },
   "outputs": [],
   "source": [
    "#hide\n",
    "#delete problematic countries from table\n",
    "df_table = df_table[~df_table['Country/Region'].isin(['Cape Verde', 'Cruise Ship', 'Kosovo'])]"
   ]
  },
  {
   "cell_type": "code",
   "execution_count": 15,
   "id": "fantastic-effect",
   "metadata": {
    "execution": {
     "iopub.execute_input": "2022-10-05T12:19:55.293547Z",
     "iopub.status.busy": "2022-10-05T12:19:55.289329Z",
     "iopub.status.idle": "2022-10-05T12:19:55.311506Z",
     "shell.execute_reply": "2022-10-05T12:19:55.310845Z"
    },
    "papermill": {
     "duration": 0.060246,
     "end_time": "2022-10-05T12:19:55.311624",
     "exception": false,
     "start_time": "2022-10-05T12:19:55.251378",
     "status": "completed"
    },
    "tags": []
   },
   "outputs": [
    {
     "data": {
      "text/html": [
       "<div>\n",
       "<style scoped>\n",
       "    .dataframe tbody tr th:only-of-type {\n",
       "        vertical-align: middle;\n",
       "    }\n",
       "\n",
       "    .dataframe tbody tr th {\n",
       "        vertical-align: top;\n",
       "    }\n",
       "\n",
       "    .dataframe thead th {\n",
       "        text-align: right;\n",
       "    }\n",
       "</style>\n",
       "<table border=\"1\" class=\"dataframe\">\n",
       "  <thead>\n",
       "    <tr style=\"text-align: right;\">\n",
       "      <th></th>\n",
       "      <th>Country/Region</th>\n",
       "      <th>Cases</th>\n",
       "      <th>Deaths</th>\n",
       "      <th>PCases</th>\n",
       "      <th>PDeaths</th>\n",
       "      <th>Cases (+)</th>\n",
       "      <th>Deaths (+)</th>\n",
       "      <th>Fatality Rate</th>\n",
       "      <th>Continent</th>\n",
       "    </tr>\n",
       "  </thead>\n",
       "  <tbody>\n",
       "    <tr>\n",
       "      <th>0</th>\n",
       "      <td>US</td>\n",
       "      <td>96481081</td>\n",
       "      <td>1060408</td>\n",
       "      <td>96438726</td>\n",
       "      <td>1059866</td>\n",
       "      <td>42355</td>\n",
       "      <td>542</td>\n",
       "      <td>1.1</td>\n",
       "      <td>North America</td>\n",
       "    </tr>\n",
       "    <tr>\n",
       "      <th>1</th>\n",
       "      <td>India</td>\n",
       "      <td>44601892</td>\n",
       "      <td>528733</td>\n",
       "      <td>44599466</td>\n",
       "      <td>528716</td>\n",
       "      <td>2426</td>\n",
       "      <td>17</td>\n",
       "      <td>1.2</td>\n",
       "      <td>Asia</td>\n",
       "    </tr>\n",
       "    <tr>\n",
       "      <th>2</th>\n",
       "      <td>France</td>\n",
       "      <td>35790213</td>\n",
       "      <td>156312</td>\n",
       "      <td>35701024</td>\n",
       "      <td>156238</td>\n",
       "      <td>89189</td>\n",
       "      <td>74</td>\n",
       "      <td>0.4</td>\n",
       "      <td>Europe</td>\n",
       "    </tr>\n",
       "    <tr>\n",
       "      <th>3</th>\n",
       "      <td>Brazil</td>\n",
       "      <td>34684529</td>\n",
       "      <td>686371</td>\n",
       "      <td>34684529</td>\n",
       "      <td>686371</td>\n",
       "      <td>0</td>\n",
       "      <td>0</td>\n",
       "      <td>2.0</td>\n",
       "      <td>South America</td>\n",
       "    </tr>\n",
       "    <tr>\n",
       "      <th>4</th>\n",
       "      <td>Germany</td>\n",
       "      <td>33519761</td>\n",
       "      <td>150192</td>\n",
       "      <td>33386229</td>\n",
       "      <td>150064</td>\n",
       "      <td>133532</td>\n",
       "      <td>128</td>\n",
       "      <td>0.4</td>\n",
       "      <td>Europe</td>\n",
       "    </tr>\n",
       "  </tbody>\n",
       "</table>\n",
       "</div>"
      ],
      "text/plain": [
       "  Country/Region     Cases   Deaths    PCases  PDeaths  Cases (+)  Deaths (+)  \\\n",
       "0             US  96481081  1060408  96438726  1059866      42355         542   \n",
       "1          India  44601892   528733  44599466   528716       2426          17   \n",
       "2         France  35790213   156312  35701024   156238      89189          74   \n",
       "3         Brazil  34684529   686371  34684529   686371          0           0   \n",
       "4        Germany  33519761   150192  33386229   150064     133532         128   \n",
       "\n",
       "   Fatality Rate      Continent  \n",
       "0            1.1  North America  \n",
       "1            1.2           Asia  \n",
       "2            0.4         Europe  \n",
       "3            2.0  South America  \n",
       "4            0.4         Europe  "
      ]
     },
     "execution_count": 15,
     "metadata": {},
     "output_type": "execute_result"
    }
   ],
   "source": [
    "#hide\n",
    "df_table = (pd.DataFrame(dict(Cases=dfc_cases, Deaths=dfc_deaths, PCases=dfp_cases, PDeaths=dfp_deaths))\n",
    "             .sort_values(by=['Cases', 'Deaths'], ascending=[False, False])\n",
    "             .reset_index())\n",
    "df_table.rename(columns={'index': 'Country/Region'}, inplace=True)\n",
    "for c in 'Cases, Deaths'.split(', '):\n",
    "    df_table[f'{c} (+)'] = (df_table[c] - df_table[f'P{c}']).clip(0)  # DATA BUG\n",
    "df_table['Fatality Rate'] = (100 * df_table['Deaths'] / df_table['Cases']).round(1)\n",
    "df_table['Continent'] = df_table['Country/Region'].map(mapping['map.continent'])\n",
    "df_table.head(5)"
   ]
  },
  {
   "cell_type": "code",
   "execution_count": 16,
   "id": "fewer-occasion",
   "metadata": {
    "execution": {
     "iopub.execute_input": "2022-10-05T12:19:55.380419Z",
     "iopub.status.busy": "2022-10-05T12:19:55.379767Z",
     "iopub.status.idle": "2022-10-05T12:19:55.383844Z",
     "shell.execute_reply": "2022-10-05T12:19:55.383378Z"
    },
    "papermill": {
     "duration": 0.041346,
     "end_time": "2022-10-05T12:19:55.383947",
     "exception": false,
     "start_time": "2022-10-05T12:19:55.342601",
     "status": "completed"
    },
    "tags": []
   },
   "outputs": [],
   "source": [
    "#hide\n",
    "#delete problematic countries from table\n",
    "df_table = df_table[~df_table['Country/Region'].isin(['Cape Verde', 'Cruise Ship', 'Kosovo'])]"
   ]
  },
  {
   "cell_type": "code",
   "execution_count": 17,
   "id": "related-center",
   "metadata": {
    "execution": {
     "iopub.execute_input": "2022-10-05T12:19:55.453943Z",
     "iopub.status.busy": "2022-10-05T12:19:55.453265Z",
     "iopub.status.idle": "2022-10-05T12:19:55.469817Z",
     "shell.execute_reply": "2022-10-05T12:19:55.469276Z"
    },
    "papermill": {
     "duration": 0.05664,
     "end_time": "2022-10-05T12:19:55.469937",
     "exception": false,
     "start_time": "2022-10-05T12:19:55.413297",
     "status": "completed"
    },
    "tags": []
   },
   "outputs": [],
   "source": [
    "#hide\n",
    "metrics = [df_table.columns[index] for index in [1,2,5,6]]\n",
    "# s_china = df_table[df_table['Country/Region'].eq('China')][metrics].sum().add_prefix('China ')\n",
    "s_us = df_table[df_table['Country/Region'].eq('US')][metrics].sum().add_prefix('US ')\n",
    "s_eu = df_table[df_table['Continent'].eq('Europe')][metrics].sum().add_prefix('EU ')\n",
    "s_ind = df_table[df_table['Country/Region'].eq('India')][metrics].sum().add_prefix('India ')\n",
    "summary = {'updated': pd.to_datetime(dt_today), 'since': pd.to_datetime(dt_yday)}\n",
    "summary = {'updated': pd.to_datetime(dt_today), 'since': pd.to_datetime(dt_yday)}\n",
    "summary = {**summary, **df_table[metrics].sum(), **s_ind, **s_us, **s_eu}"
   ]
  },
  {
   "cell_type": "code",
   "execution_count": 18,
   "id": "engaging-syndrome",
   "metadata": {
    "execution": {
     "iopub.execute_input": "2022-10-05T12:19:55.536725Z",
     "iopub.status.busy": "2022-10-05T12:19:55.536102Z",
     "iopub.status.idle": "2022-10-05T12:19:55.557137Z",
     "shell.execute_reply": "2022-10-05T12:19:55.557698Z"
    },
    "papermill": {
     "duration": 0.0577,
     "end_time": "2022-10-05T12:19:55.557837",
     "exception": false,
     "start_time": "2022-10-05T12:19:55.500137",
     "status": "completed"
    },
    "tags": []
   },
   "outputs": [],
   "source": [
    "#hide\n",
    "dft_ct_new_cases = dft_cases.groupby(COL_REGION)[dt_cols].sum().diff(axis=1).fillna(0).astype(int)"
   ]
  },
  {
   "cell_type": "code",
   "execution_count": 19,
   "id": "neutral-assignment",
   "metadata": {
    "execution": {
     "iopub.execute_input": "2022-10-05T12:19:55.627302Z",
     "iopub.status.busy": "2022-10-05T12:19:55.626651Z",
     "iopub.status.idle": "2022-10-05T12:19:55.629599Z",
     "shell.execute_reply": "2022-10-05T12:19:55.629209Z"
    },
    "papermill": {
     "duration": 0.041869,
     "end_time": "2022-10-05T12:19:55.629689",
     "exception": false,
     "start_time": "2022-10-05T12:19:55.587820",
     "status": "completed"
    },
    "tags": []
   },
   "outputs": [],
   "source": [
    "#hide\n",
    "everydaycases = dft_ct_new_cases.cumsum(axis=1)"
   ]
  },
  {
   "cell_type": "code",
   "execution_count": 20,
   "id": "parliamentary-calgary",
   "metadata": {
    "execution": {
     "iopub.execute_input": "2022-10-05T12:19:55.690625Z",
     "iopub.status.busy": "2022-10-05T12:19:55.689971Z",
     "iopub.status.idle": "2022-10-05T12:19:56.291814Z",
     "shell.execute_reply": "2022-10-05T12:19:56.290997Z"
    },
    "papermill": {
     "duration": 0.634255,
     "end_time": "2022-10-05T12:19:56.292008",
     "exception": false,
     "start_time": "2022-10-05T12:19:55.657753",
     "status": "completed"
    },
    "tags": []
   },
   "outputs": [],
   "source": [
    "#hide\n",
    "import pandas as pd\n",
    "import matplotlib.pyplot as plt\n",
    "import matplotlib.ticker as ticker\n",
    "import matplotlib.animation as animation\n",
    "from IPython.display import HTML"
   ]
  },
  {
   "cell_type": "code",
   "execution_count": 21,
   "id": "lasting-extraction",
   "metadata": {
    "execution": {
     "iopub.execute_input": "2022-10-05T12:19:56.365039Z",
     "iopub.status.busy": "2022-10-05T12:19:56.364360Z",
     "iopub.status.idle": "2022-10-05T12:19:56.373011Z",
     "shell.execute_reply": "2022-10-05T12:19:56.372468Z"
    },
    "papermill": {
     "duration": 0.049055,
     "end_time": "2022-10-05T12:19:56.373119",
     "exception": false,
     "start_time": "2022-10-05T12:19:56.324064",
     "status": "completed"
    },
    "tags": []
   },
   "outputs": [],
   "source": [
    "#hide\n",
    "t = everydaycases.stack()"
   ]
  },
  {
   "cell_type": "code",
   "execution_count": 22,
   "id": "premier-sleeve",
   "metadata": {
    "execution": {
     "iopub.execute_input": "2022-10-05T12:19:56.439108Z",
     "iopub.status.busy": "2022-10-05T12:19:56.438426Z",
     "iopub.status.idle": "2022-10-05T12:19:56.452547Z",
     "shell.execute_reply": "2022-10-05T12:19:56.451908Z"
    },
    "papermill": {
     "duration": 0.049591,
     "end_time": "2022-10-05T12:19:56.452663",
     "exception": false,
     "start_time": "2022-10-05T12:19:56.403072",
     "status": "completed"
    },
    "tags": []
   },
   "outputs": [],
   "source": [
    "#hide\n",
    "g = t.reset_index(['Country/Region'])"
   ]
  },
  {
   "cell_type": "code",
   "execution_count": 23,
   "id": "distributed-pittsburgh",
   "metadata": {
    "execution": {
     "iopub.execute_input": "2022-10-05T12:19:56.518443Z",
     "iopub.status.busy": "2022-10-05T12:19:56.517233Z",
     "iopub.status.idle": "2022-10-05T12:19:56.519749Z",
     "shell.execute_reply": "2022-10-05T12:19:56.520639Z"
    },
    "papermill": {
     "duration": 0.03975,
     "end_time": "2022-10-05T12:19:56.520866",
     "exception": false,
     "start_time": "2022-10-05T12:19:56.481116",
     "status": "completed"
    },
    "tags": []
   },
   "outputs": [],
   "source": [
    "#hide\n",
    "g.index.name = 'date'"
   ]
  },
  {
   "cell_type": "code",
   "execution_count": 24,
   "id": "naked-donor",
   "metadata": {
    "execution": {
     "iopub.execute_input": "2022-10-05T12:19:56.590332Z",
     "iopub.status.busy": "2022-10-05T12:19:56.589711Z",
     "iopub.status.idle": "2022-10-05T12:19:56.594418Z",
     "shell.execute_reply": "2022-10-05T12:19:56.593839Z"
    },
    "papermill": {
     "duration": 0.041227,
     "end_time": "2022-10-05T12:19:56.594546",
     "exception": false,
     "start_time": "2022-10-05T12:19:56.553319",
     "status": "completed"
    },
    "tags": []
   },
   "outputs": [],
   "source": [
    "# #hide\n",
    "# g = g.reset_index(['date'])"
   ]
  },
  {
   "cell_type": "code",
   "execution_count": 25,
   "id": "incomplete-mustang",
   "metadata": {
    "execution": {
     "iopub.execute_input": "2022-10-05T12:19:56.658466Z",
     "iopub.status.busy": "2022-10-05T12:19:56.657480Z",
     "iopub.status.idle": "2022-10-05T12:19:56.659497Z",
     "shell.execute_reply": "2022-10-05T12:19:56.660195Z"
    },
    "papermill": {
     "duration": 0.036593,
     "end_time": "2022-10-05T12:19:56.660375",
     "exception": false,
     "start_time": "2022-10-05T12:19:56.623782",
     "status": "completed"
    },
    "tags": []
   },
   "outputs": [],
   "source": [
    "#hide\n",
    "# g.head()"
   ]
  },
  {
   "cell_type": "code",
   "execution_count": 26,
   "id": "specific-kruger",
   "metadata": {
    "execution": {
     "iopub.execute_input": "2022-10-05T12:19:56.729957Z",
     "iopub.status.busy": "2022-10-05T12:19:56.728776Z",
     "iopub.status.idle": "2022-10-05T12:19:56.731312Z",
     "shell.execute_reply": "2022-10-05T12:19:56.732205Z"
    },
    "papermill": {
     "duration": 0.039569,
     "end_time": "2022-10-05T12:19:56.732433",
     "exception": false,
     "start_time": "2022-10-05T12:19:56.692864",
     "status": "completed"
    },
    "tags": []
   },
   "outputs": [],
   "source": [
    "#hide\n",
    "# g.columns = ['date','country','cases']"
   ]
  },
  {
   "cell_type": "code",
   "execution_count": 27,
   "id": "tender-conversion",
   "metadata": {
    "execution": {
     "iopub.execute_input": "2022-10-05T12:19:56.802592Z",
     "iopub.status.busy": "2022-10-05T12:19:56.801376Z",
     "iopub.status.idle": "2022-10-05T12:19:56.806001Z",
     "shell.execute_reply": "2022-10-05T12:19:56.805528Z"
    },
    "papermill": {
     "duration": 0.041837,
     "end_time": "2022-10-05T12:19:56.806104",
     "exception": false,
     "start_time": "2022-10-05T12:19:56.764267",
     "status": "completed"
    },
    "tags": []
   },
   "outputs": [],
   "source": [
    "#hide\n",
    "# g['continent'] = g.country"
   ]
  },
  {
   "cell_type": "code",
   "execution_count": 28,
   "id": "substantial-wilderness",
   "metadata": {
    "execution": {
     "iopub.execute_input": "2022-10-05T12:19:56.875021Z",
     "iopub.status.busy": "2022-10-05T12:19:56.874138Z",
     "iopub.status.idle": "2022-10-05T12:19:56.875896Z",
     "shell.execute_reply": "2022-10-05T12:19:56.876661Z"
    },
    "papermill": {
     "duration": 0.038137,
     "end_time": "2022-10-05T12:19:56.876802",
     "exception": false,
     "start_time": "2022-10-05T12:19:56.838665",
     "status": "completed"
    },
    "tags": []
   },
   "outputs": [],
   "source": [
    "#hide\n",
    "# cols = list(g.columns.values)"
   ]
  },
  {
   "cell_type": "code",
   "execution_count": 29,
   "id": "solved-farming",
   "metadata": {
    "execution": {
     "iopub.execute_input": "2022-10-05T12:19:56.949258Z",
     "iopub.status.busy": "2022-10-05T12:19:56.948558Z",
     "iopub.status.idle": "2022-10-05T12:19:56.952459Z",
     "shell.execute_reply": "2022-10-05T12:19:56.952952Z"
    },
    "papermill": {
     "duration": 0.042905,
     "end_time": "2022-10-05T12:19:56.953103",
     "exception": false,
     "start_time": "2022-10-05T12:19:56.910198",
     "status": "completed"
    },
    "tags": []
   },
   "outputs": [],
   "source": [
    "#hide\n",
    "# cols.insert(0, cols.pop())"
   ]
  },
  {
   "cell_type": "code",
   "execution_count": 30,
   "id": "executed-adoption",
   "metadata": {
    "execution": {
     "iopub.execute_input": "2022-10-05T12:19:57.028302Z",
     "iopub.status.busy": "2022-10-05T12:19:57.027063Z",
     "iopub.status.idle": "2022-10-05T12:19:57.029069Z",
     "shell.execute_reply": "2022-10-05T12:19:57.029578Z"
    },
    "papermill": {
     "duration": 0.043067,
     "end_time": "2022-10-05T12:19:57.029728",
     "exception": false,
     "start_time": "2022-10-05T12:19:56.986661",
     "status": "completed"
    },
    "tags": []
   },
   "outputs": [],
   "source": [
    "#hide\n",
    "# g = g[cols]"
   ]
  },
  {
   "cell_type": "code",
   "execution_count": 31,
   "id": "subject-dublin",
   "metadata": {
    "execution": {
     "iopub.execute_input": "2022-10-05T12:19:57.103812Z",
     "iopub.status.busy": "2022-10-05T12:19:57.102932Z",
     "iopub.status.idle": "2022-10-05T12:19:57.107862Z",
     "shell.execute_reply": "2022-10-05T12:19:57.107305Z"
    },
    "papermill": {
     "duration": 0.043981,
     "end_time": "2022-10-05T12:19:57.107982",
     "exception": false,
     "start_time": "2022-10-05T12:19:57.064001",
     "status": "completed"
    },
    "tags": []
   },
   "outputs": [],
   "source": [
    "#hide\n",
    "# g['continent'] = g['continent'].map(mapping['map.continent'])"
   ]
  },
  {
   "cell_type": "code",
   "execution_count": 32,
   "id": "freelance-scout",
   "metadata": {
    "execution": {
     "iopub.execute_input": "2022-10-05T12:19:57.181394Z",
     "iopub.status.busy": "2022-10-05T12:19:57.180204Z",
     "iopub.status.idle": "2022-10-05T12:19:57.184992Z",
     "shell.execute_reply": "2022-10-05T12:19:57.184413Z"
    },
    "papermill": {
     "duration": 0.043549,
     "end_time": "2022-10-05T12:19:57.185116",
     "exception": false,
     "start_time": "2022-10-05T12:19:57.141567",
     "status": "completed"
    },
    "tags": []
   },
   "outputs": [],
   "source": [
    "#hide\n",
    "# g.head()"
   ]
  },
  {
   "cell_type": "code",
   "execution_count": 33,
   "id": "limited-engine",
   "metadata": {
    "execution": {
     "iopub.execute_input": "2022-10-05T12:19:57.256913Z",
     "iopub.status.busy": "2022-10-05T12:19:57.256251Z",
     "iopub.status.idle": "2022-10-05T12:19:57.259349Z",
     "shell.execute_reply": "2022-10-05T12:19:57.259940Z"
    },
    "papermill": {
     "duration": 0.04119,
     "end_time": "2022-10-05T12:19:57.260063",
     "exception": false,
     "start_time": "2022-10-05T12:19:57.218873",
     "status": "completed"
    },
    "tags": []
   },
   "outputs": [],
   "source": [
    "# hide\n",
    "# g['date'] = g['date'].astype('datetime64[ns]')"
   ]
  },
  {
   "cell_type": "code",
   "execution_count": 34,
   "id": "sophisticated-supervisor",
   "metadata": {
    "execution": {
     "iopub.execute_input": "2022-10-05T12:19:57.327948Z",
     "iopub.status.busy": "2022-10-05T12:19:57.327018Z",
     "iopub.status.idle": "2022-10-05T12:19:57.328964Z",
     "shell.execute_reply": "2022-10-05T12:19:57.329665Z"
    },
    "papermill": {
     "duration": 0.038309,
     "end_time": "2022-10-05T12:19:57.329851",
     "exception": false,
     "start_time": "2022-10-05T12:19:57.291542",
     "status": "completed"
    },
    "tags": []
   },
   "outputs": [],
   "source": [
    "#hide\n",
    "# g['date'] = g.date.dt.dayofyear"
   ]
  },
  {
   "cell_type": "code",
   "execution_count": 35,
   "id": "inside-dubai",
   "metadata": {
    "execution": {
     "iopub.execute_input": "2022-10-05T12:19:57.401179Z",
     "iopub.status.busy": "2022-10-05T12:19:57.400264Z",
     "iopub.status.idle": "2022-10-05T12:19:57.405668Z",
     "shell.execute_reply": "2022-10-05T12:19:57.405129Z"
    },
    "papermill": {
     "duration": 0.043745,
     "end_time": "2022-10-05T12:19:57.405801",
     "exception": false,
     "start_time": "2022-10-05T12:19:57.362056",
     "status": "completed"
    },
    "tags": []
   },
   "outputs": [],
   "source": [
    "#hide\n",
    "# g = g.rename(columns= {'continent':'group','country':'name','cases':'value'})"
   ]
  },
  {
   "cell_type": "code",
   "execution_count": 36,
   "id": "fleet-motorcycle",
   "metadata": {
    "execution": {
     "iopub.execute_input": "2022-10-05T12:19:57.478194Z",
     "iopub.status.busy": "2022-10-05T12:19:57.477297Z",
     "iopub.status.idle": "2022-10-05T12:19:57.479966Z",
     "shell.execute_reply": "2022-10-05T12:19:57.479261Z"
    },
    "papermill": {
     "duration": 0.040143,
     "end_time": "2022-10-05T12:19:57.480123",
     "exception": false,
     "start_time": "2022-10-05T12:19:57.439980",
     "status": "completed"
    },
    "tags": []
   },
   "outputs": [],
   "source": [
    "#hide\n",
    "# cols = ['name','group','day','value']"
   ]
  },
  {
   "cell_type": "code",
   "execution_count": 37,
   "id": "continued-sleeping",
   "metadata": {
    "execution": {
     "iopub.execute_input": "2022-10-05T12:19:57.549071Z",
     "iopub.status.busy": "2022-10-05T12:19:57.548486Z",
     "iopub.status.idle": "2022-10-05T12:19:57.551948Z",
     "shell.execute_reply": "2022-10-05T12:19:57.550941Z"
    },
    "papermill": {
     "duration": 0.037854,
     "end_time": "2022-10-05T12:19:57.552154",
     "exception": false,
     "start_time": "2022-10-05T12:19:57.514300",
     "status": "completed"
    },
    "tags": []
   },
   "outputs": [],
   "source": [
    "#hide\n",
    "# g.rename(columns= {'date':'day'},inplace = True)"
   ]
  },
  {
   "cell_type": "code",
   "execution_count": 38,
   "id": "major-fight",
   "metadata": {
    "execution": {
     "iopub.execute_input": "2022-10-05T12:19:57.623808Z",
     "iopub.status.busy": "2022-10-05T12:19:57.622625Z",
     "iopub.status.idle": "2022-10-05T12:19:57.625080Z",
     "shell.execute_reply": "2022-10-05T12:19:57.625964Z"
    },
    "papermill": {
     "duration": 0.038802,
     "end_time": "2022-10-05T12:19:57.626190",
     "exception": false,
     "start_time": "2022-10-05T12:19:57.587388",
     "status": "completed"
    },
    "tags": []
   },
   "outputs": [],
   "source": [
    "#hide\n",
    "# g = g[cols]"
   ]
  },
  {
   "cell_type": "code",
   "execution_count": 39,
   "id": "structured-mobile",
   "metadata": {
    "execution": {
     "iopub.execute_input": "2022-10-05T12:19:57.692678Z",
     "iopub.status.busy": "2022-10-05T12:19:57.691763Z",
     "iopub.status.idle": "2022-10-05T12:19:57.694513Z",
     "shell.execute_reply": "2022-10-05T12:19:57.693749Z"
    },
    "papermill": {
     "duration": 0.037251,
     "end_time": "2022-10-05T12:19:57.694677",
     "exception": false,
     "start_time": "2022-10-05T12:19:57.657426",
     "status": "completed"
    },
    "tags": []
   },
   "outputs": [],
   "source": [
    "# #hide\n",
    "# g = g[g.group.notna()]"
   ]
  },
  {
   "cell_type": "code",
   "execution_count": 40,
   "id": "determined-closing",
   "metadata": {
    "execution": {
     "iopub.execute_input": "2022-10-05T12:19:57.761698Z",
     "iopub.status.busy": "2022-10-05T12:19:57.761140Z",
     "iopub.status.idle": "2022-10-05T12:19:57.765442Z",
     "shell.execute_reply": "2022-10-05T12:19:57.764899Z"
    },
    "papermill": {
     "duration": 0.03754,
     "end_time": "2022-10-05T12:19:57.765562",
     "exception": false,
     "start_time": "2022-10-05T12:19:57.728022",
     "status": "completed"
    },
    "tags": []
   },
   "outputs": [],
   "source": [
    "# #hide\n",
    "# colors = dict(zip(\n",
    "#     [\"Oceania\", \"Europe\", \"Asia\", \"South America\", \"Middle East\", \"North America\", \"Africa\"],\n",
    "#     [\"#adb0ff\", \"#ffb3ff\", \"#90d595\", \"#e48381\", \"#aafbff\", \"#f7bb5f\", \"#eafb50\"]\n",
    "# ))\n",
    "# group_lk = g.set_index('name')['group'].to_dict()"
   ]
  },
  {
   "cell_type": "code",
   "execution_count": null,
   "id": "gross-drinking",
   "metadata": {
    "papermill": {
     "duration": 0.029886,
     "end_time": "2022-10-05T12:19:57.826349",
     "exception": false,
     "start_time": "2022-10-05T12:19:57.796463",
     "status": "completed"
    },
    "tags": []
   },
   "outputs": [],
   "source": []
  },
  {
   "cell_type": "code",
   "execution_count": 41,
   "id": "subject-macintosh",
   "metadata": {
    "execution": {
     "iopub.execute_input": "2022-10-05T12:19:57.894195Z",
     "iopub.status.busy": "2022-10-05T12:19:57.893483Z",
     "iopub.status.idle": "2022-10-05T12:19:57.899151Z",
     "shell.execute_reply": "2022-10-05T12:19:57.899749Z"
    },
    "papermill": {
     "duration": 0.041646,
     "end_time": "2022-10-05T12:19:57.899892",
     "exception": false,
     "start_time": "2022-10-05T12:19:57.858246",
     "status": "completed"
    },
    "tags": []
   },
   "outputs": [],
   "source": [
    "# #hide\n",
    "# fig, ax = plt.subplots(figsize=(15, 8))\n",
    "\n",
    "# def draw_barchart(current_day):\n",
    "#     dff = g[g['day'].eq(current_day)].sort_values(by='value', ascending=True).tail(10)\n",
    "#     ax.clear()\n",
    "#     ax.barh(dff['name'], dff['value'], color=[colors[group_lk[x]] for x in dff['name']])\n",
    "#     dx = dff['value'].max() / 200\n",
    "    \n",
    "#     for i, (value, name) in enumerate(zip(dff['value'], dff['name'])):\n",
    "#         ax.text(value-dx, i,     name,           size=14, weight=600, ha='right', va='bottom')\n",
    "#         ax.text(value-dx, i-.25, group_lk[name], size=10, color='#444444', ha='right', va='baseline')\n",
    "#         ax.text(value+dx, i,     f'{value:,.0f}',  size=14, ha='left',  va='center')\n",
    "#     ax.text(1, 0.4, current_day, transform=ax.transAxes, color='#777777', size=46, ha='right', weight=800)\n",
    "#     ax.text(0, 1.06, 'Population (thousands)', transform=ax.transAxes, size=12, color='#777777')\n",
    "#     ax.xaxis.set_major_formatter(ticker.StrMethodFormatter('{x:,.0f}'))\n",
    "#     ax.xaxis.set_ticks_position('top')\n",
    "#     ax.tick_params(axis='x', colors='#777777', labelsize=12)\n",
    "#     ax.set_yticks([])\n",
    "#     ax.margins(0, 0.01)\n",
    "#     ax.grid(which='major', axis='x', linestyle='-')\n",
    "#     ax.set_axisbelow(True)\n",
    "    \n",
    "#     ax.text(0, 1.15, 'Coronavirus',\n",
    "#             transform=ax.transAxes, size=24, weight=600, ha='left', va='top')\n",
    "# #     ax.text(1, 0, 'by @pratapvardhan; credit @jburnmurdoch', transform=ax.transAxes, color='#777777', ha='right',\n",
    "# #             bbox=dict(facecolor='white', alpha=0.8, edgecolor='white'))\n",
    "#     plt.box(False)"
   ]
  },
  {
   "cell_type": "code",
   "execution_count": 42,
   "id": "sexual-wages",
   "metadata": {
    "execution": {
     "iopub.execute_input": "2022-10-05T12:19:57.968944Z",
     "iopub.status.busy": "2022-10-05T12:19:57.967750Z",
     "iopub.status.idle": "2022-10-05T12:19:57.973089Z",
     "shell.execute_reply": "2022-10-05T12:19:57.973515Z"
    },
    "papermill": {
     "duration": 0.042305,
     "end_time": "2022-10-05T12:19:57.973639",
     "exception": false,
     "start_time": "2022-10-05T12:19:57.931334",
     "status": "completed"
    },
    "tags": []
   },
   "outputs": [],
   "source": [
    "# #hide_input\n",
    "# fig, ax = plt.subplots(figsize=(15, 8))\n",
    "# animator = animation.FuncAnimation(fig, draw_barchart, frames=range(g.day.values.min(), g.day.values.max()))\n",
    "# HTML(animator.to_jshtml())\n",
    "# # or use animator.to_html5_video() or animator.save() "
   ]
  },
  {
   "cell_type": "code",
   "execution_count": null,
   "id": "australian-container",
   "metadata": {
    "papermill": {
     "duration": 0.032543,
     "end_time": "2022-10-05T12:19:58.038458",
     "exception": false,
     "start_time": "2022-10-05T12:19:58.005915",
     "status": "completed"
    },
    "tags": []
   },
   "outputs": [],
   "source": []
  },
  {
   "cell_type": "code",
   "execution_count": null,
   "id": "mediterranean-pontiac",
   "metadata": {
    "papermill": {
     "duration": 0.030681,
     "end_time": "2022-10-05T12:19:58.100821",
     "exception": false,
     "start_time": "2022-10-05T12:19:58.070140",
     "status": "completed"
    },
    "tags": []
   },
   "outputs": [],
   "source": []
  },
  {
   "cell_type": "code",
   "execution_count": null,
   "id": "aging-legislature",
   "metadata": {
    "papermill": {
     "duration": 0.029523,
     "end_time": "2022-10-05T12:19:58.161390",
     "exception": false,
     "start_time": "2022-10-05T12:19:58.131867",
     "status": "completed"
    },
    "tags": []
   },
   "outputs": [],
   "source": []
  }
 ],
 "metadata": {
  "kernelspec": {
   "display_name": "Python 3",
   "language": "python",
   "name": "python3"
  },
  "language_info": {
   "codemirror_mode": {
    "name": "ipython",
    "version": 3
   },
   "file_extension": ".py",
   "mimetype": "text/x-python",
   "name": "python",
   "nbconvert_exporter": "python",
   "pygments_lexer": "ipython3",
   "version": "3.6.15"
  },
  "papermill": {
   "duration": 6.392335,
   "end_time": "2022-10-05T12:19:58.510659",
   "environment_variables": {},
   "exception": null,
   "input_path": "2020-03-21-covid19exp.ipynb",
   "output_path": "2020-03-21-covid19exp.ipynb",
   "parameters": {},
   "start_time": "2022-10-05T12:19:52.118324",
   "version": "2.0.0"
  }
 },
 "nbformat": 4,
 "nbformat_minor": 5
}