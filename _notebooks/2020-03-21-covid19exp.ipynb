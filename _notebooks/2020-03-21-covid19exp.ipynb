{
 "cells": [
  {
   "cell_type": "markdown",
   "id": "muslim-click",
   "metadata": {
    "papermill": {
     "duration": 0.039379,
     "end_time": "2021-12-31T12:13:07.353024",
     "exception": false,
     "start_time": "2021-12-31T12:13:07.313645",
     "status": "completed"
    },
    "tags": []
   },
   "source": [
    "# COVID-19 Case Race\n",
    "> A race chart to see rising cases around the world\n",
    "\n",
    "- author: Hargun Oberoi\n",
    "- image: images/covid-overview.png\n",
    "- hide: false\n",
    "- badges: false"
   ]
  },
  {
   "cell_type": "code",
   "execution_count": 1,
   "id": "proof-material",
   "metadata": {
    "execution": {
     "iopub.execute_input": "2021-12-31T12:13:07.436462Z",
     "iopub.status.busy": "2021-12-31T12:13:07.435841Z",
     "iopub.status.idle": "2021-12-31T12:13:07.804248Z",
     "shell.execute_reply": "2021-12-31T12:13:07.803668Z"
    },
    "papermill": {
     "duration": 0.412077,
     "end_time": "2021-12-31T12:13:07.804401",
     "exception": false,
     "start_time": "2021-12-31T12:13:07.392324",
     "status": "completed"
    },
    "tags": []
   },
   "outputs": [],
   "source": [
    "#hide\n",
    "import numpy as np\n",
    "import pandas as pd\n",
    "from jinja2 import Template\n",
    "from IPython.display import HTML"
   ]
  },
  {
   "cell_type": "code",
   "execution_count": 2,
   "id": "developed-terminology",
   "metadata": {
    "execution": {
     "iopub.execute_input": "2021-12-31T12:13:07.885163Z",
     "iopub.status.busy": "2021-12-31T12:13:07.884511Z",
     "iopub.status.idle": "2021-12-31T12:13:07.887825Z",
     "shell.execute_reply": "2021-12-31T12:13:07.887373Z"
    },
    "papermill": {
     "duration": 0.04588,
     "end_time": "2021-12-31T12:13:07.887952",
     "exception": false,
     "start_time": "2021-12-31T12:13:07.842072",
     "status": "completed"
    },
    "tags": []
   },
   "outputs": [],
   "source": [
    "#hide\n",
    "\n",
    "# FETCH\n",
    "base_url = 'https://raw.githubusercontent.com/pratapvardhan/notebooks/master/covid19/'\n",
    "paths = {\n",
    "    'mapping': base_url + 'mapping_countries.csv',\n",
    "    'overview': base_url + 'overview.tpl'\n",
    "}"
   ]
  },
  {
   "cell_type": "code",
   "execution_count": 3,
   "id": "dynamic-saver",
   "metadata": {
    "execution": {
     "iopub.execute_input": "2021-12-31T12:13:07.962033Z",
     "iopub.status.busy": "2021-12-31T12:13:07.961441Z",
     "iopub.status.idle": "2021-12-31T12:13:07.964882Z",
     "shell.execute_reply": "2021-12-31T12:13:07.964381Z"
    },
    "papermill": {
     "duration": 0.046609,
     "end_time": "2021-12-31T12:13:07.965014",
     "exception": false,
     "start_time": "2021-12-31T12:13:07.918405",
     "status": "completed"
    },
    "tags": []
   },
   "outputs": [
    {
     "data": {
      "text/plain": [
       "'https://raw.githubusercontent.com/pratapvardhan/notebooks/master/covid19/mapping_countries.csv'"
      ]
     },
     "execution_count": 3,
     "metadata": {},
     "output_type": "execute_result"
    }
   ],
   "source": [
    "#hide\n",
    "paths['mapping']"
   ]
  },
  {
   "cell_type": "code",
   "execution_count": 4,
   "id": "urban-software",
   "metadata": {
    "execution": {
     "iopub.execute_input": "2021-12-31T12:13:08.045235Z",
     "iopub.status.busy": "2021-12-31T12:13:08.044529Z",
     "iopub.status.idle": "2021-12-31T12:13:08.047242Z",
     "shell.execute_reply": "2021-12-31T12:13:08.046499Z"
    },
    "papermill": {
     "duration": 0.047774,
     "end_time": "2021-12-31T12:13:08.047369",
     "exception": false,
     "start_time": "2021-12-31T12:13:07.999595",
     "status": "completed"
    },
    "tags": []
   },
   "outputs": [],
   "source": [
    "#hide\n",
    "def get_mappings(url):\n",
    "    df = pd.read_csv(url)\n",
    "    return {\n",
    "        'df': df,\n",
    "        'replace.country': dict(df.dropna(subset=['Name']).set_index('Country')['Name']),\n",
    "        'map.continent': dict(df.set_index('Name')['Continent'])\n",
    "    }"
   ]
  },
  {
   "cell_type": "code",
   "execution_count": 5,
   "id": "intimate-machinery",
   "metadata": {
    "execution": {
     "iopub.execute_input": "2021-12-31T12:13:08.123219Z",
     "iopub.status.busy": "2021-12-31T12:13:08.122549Z",
     "iopub.status.idle": "2021-12-31T12:13:08.151747Z",
     "shell.execute_reply": "2021-12-31T12:13:08.151259Z"
    },
    "papermill": {
     "duration": 0.070091,
     "end_time": "2021-12-31T12:13:08.151882",
     "exception": false,
     "start_time": "2021-12-31T12:13:08.081791",
     "status": "completed"
    },
    "tags": []
   },
   "outputs": [],
   "source": [
    "#hide\n",
    "mapping = get_mappings(paths['mapping'])"
   ]
  },
  {
   "cell_type": "code",
   "execution_count": 6,
   "id": "certified-tactics",
   "metadata": {
    "execution": {
     "iopub.execute_input": "2021-12-31T12:13:08.231420Z",
     "iopub.status.busy": "2021-12-31T12:13:08.230672Z",
     "iopub.status.idle": "2021-12-31T12:13:08.232776Z",
     "shell.execute_reply": "2021-12-31T12:13:08.233223Z"
    },
    "papermill": {
     "duration": 0.0469,
     "end_time": "2021-12-31T12:13:08.233382",
     "exception": false,
     "start_time": "2021-12-31T12:13:08.186482",
     "status": "completed"
    },
    "tags": []
   },
   "outputs": [],
   "source": [
    "#hide\n",
    "def get_template(path):\n",
    "    from urllib.parse import urlparse\n",
    "    if bool(urlparse(path).netloc):\n",
    "        from urllib.request import urlopen\n",
    "        return urlopen(path).read().decode('utf8')\n",
    "    return open(path).read()"
   ]
  },
  {
   "cell_type": "code",
   "execution_count": 7,
   "id": "realistic-blast",
   "metadata": {
    "execution": {
     "iopub.execute_input": "2021-12-31T12:13:08.308468Z",
     "iopub.status.busy": "2021-12-31T12:13:08.307652Z",
     "iopub.status.idle": "2021-12-31T12:13:08.312091Z",
     "shell.execute_reply": "2021-12-31T12:13:08.312713Z"
    },
    "papermill": {
     "duration": 0.04666,
     "end_time": "2021-12-31T12:13:08.312903",
     "exception": false,
     "start_time": "2021-12-31T12:13:08.266243",
     "status": "completed"
    },
    "tags": []
   },
   "outputs": [],
   "source": [
    "#hide\n",
    "def get_frame(name):\n",
    "    url = (\n",
    "        'https://raw.githubusercontent.com/CSSEGISandData/COVID-19/master/csse_covid_19_data/'\n",
    "        f'csse_covid_19_time_series/time_series_covid19_{name}_global.csv')\n",
    "    df = pd.read_csv(url)\n",
    "    # rename countries\n",
    "    df['Country/Region'] = df['Country/Region'].replace(mapping['replace.country'])\n",
    "    return df"
   ]
  },
  {
   "cell_type": "code",
   "execution_count": 8,
   "id": "affiliated-characterization",
   "metadata": {
    "execution": {
     "iopub.execute_input": "2021-12-31T12:13:08.386505Z",
     "iopub.status.busy": "2021-12-31T12:13:08.385901Z",
     "iopub.status.idle": "2021-12-31T12:13:08.389265Z",
     "shell.execute_reply": "2021-12-31T12:13:08.388761Z"
    },
    "papermill": {
     "duration": 0.043763,
     "end_time": "2021-12-31T12:13:08.389392",
     "exception": false,
     "start_time": "2021-12-31T12:13:08.345629",
     "status": "completed"
    },
    "tags": []
   },
   "outputs": [],
   "source": [
    "#hide\n",
    "def get_dates(df):\n",
    "    dt_cols = df.columns[~df.columns.isin(['Province/State', 'Country/Region', 'Lat', 'Long'])]\n",
    "    LAST_DATE_I = -1\n",
    "    # sometimes last column may be empty, then go backwards\n",
    "    for i in range(-1, -len(dt_cols), -1):\n",
    "        if not df[dt_cols[i]].fillna(0).eq(0).all():\n",
    "            LAST_DATE_I = i\n",
    "            break\n",
    "    return LAST_DATE_I, dt_cols"
   ]
  },
  {
   "cell_type": "code",
   "execution_count": 9,
   "id": "recent-optimization",
   "metadata": {
    "execution": {
     "iopub.execute_input": "2021-12-31T12:13:08.459014Z",
     "iopub.status.busy": "2021-12-31T12:13:08.458425Z",
     "iopub.status.idle": "2021-12-31T12:13:08.828799Z",
     "shell.execute_reply": "2021-12-31T12:13:08.828126Z"
    },
    "papermill": {
     "duration": 0.40762,
     "end_time": "2021-12-31T12:13:08.828990",
     "exception": false,
     "start_time": "2021-12-31T12:13:08.421370",
     "status": "completed"
    },
    "tags": []
   },
   "outputs": [],
   "source": [
    "#hide\n",
    "COL_REGION = 'Country/Region'\n",
    "# Confirmed, Recovered, Deaths\n",
    "df = get_frame('confirmed')\n",
    "# dft_: timeseries, dfc_: today country agg\n",
    "dft_cases = df\n",
    "dft_deaths = get_frame('deaths')\n",
    "dft_recovered = get_frame('recovered')\n",
    "LAST_DATE_I, dt_cols = get_dates(df)"
   ]
  },
  {
   "cell_type": "code",
   "execution_count": 10,
   "id": "absolute-copper",
   "metadata": {
    "execution": {
     "iopub.execute_input": "2021-12-31T12:13:08.903166Z",
     "iopub.status.busy": "2021-12-31T12:13:08.902498Z",
     "iopub.status.idle": "2021-12-31T12:13:08.908086Z",
     "shell.execute_reply": "2021-12-31T12:13:08.907574Z"
    },
    "papermill": {
     "duration": 0.046298,
     "end_time": "2021-12-31T12:13:08.908208",
     "exception": false,
     "start_time": "2021-12-31T12:13:08.861910",
     "status": "completed"
    },
    "tags": []
   },
   "outputs": [],
   "source": [
    "#hide\n",
    "LAST_DATE_I, dt_cols = get_dates(df)\n",
    "dt_today =dt_cols[LAST_DATE_I]\n",
    "# dt_5day = dt_cols[LAST_DATE_I - 5]\n",
    "dt_yday = dt_cols[LAST_DATE_I - 1]"
   ]
  },
  {
   "cell_type": "code",
   "execution_count": 11,
   "id": "restricted-sheriff",
   "metadata": {
    "execution": {
     "iopub.execute_input": "2021-12-31T12:13:08.987796Z",
     "iopub.status.busy": "2021-12-31T12:13:08.980602Z",
     "iopub.status.idle": "2021-12-31T12:13:08.990933Z",
     "shell.execute_reply": "2021-12-31T12:13:08.990417Z"
    },
    "papermill": {
     "duration": 0.048891,
     "end_time": "2021-12-31T12:13:08.991056",
     "exception": false,
     "start_time": "2021-12-31T12:13:08.942165",
     "status": "completed"
    },
    "tags": []
   },
   "outputs": [],
   "source": [
    "#hide\n",
    "dfc_cases = dft_cases.groupby(COL_REGION)[dt_today].sum()\n",
    "dfc_deaths = dft_deaths.groupby(COL_REGION)[dt_today].sum()\n",
    "# dfp_cases = dft_cases.groupby(COL_REGION)[dt_5day].sum()\n",
    "# dfp_deaths = dft_deaths.groupby(COL_REGION)[dt_5day].sum()\n",
    "dfp_cases = dft_cases.groupby(COL_REGION)[dt_yday].sum()\n",
    "dfp_deaths = dft_deaths.groupby(COL_REGION)[dt_yday].sum()"
   ]
  },
  {
   "cell_type": "code",
   "execution_count": 12,
   "id": "deluxe-hepatitis",
   "metadata": {
    "execution": {
     "iopub.execute_input": "2021-12-31T12:13:09.071181Z",
     "iopub.status.busy": "2021-12-31T12:13:09.069888Z",
     "iopub.status.idle": "2021-12-31T12:13:09.077074Z",
     "shell.execute_reply": "2021-12-31T12:13:09.076072Z"
    },
    "papermill": {
     "duration": 0.045752,
     "end_time": "2021-12-31T12:13:09.077221",
     "exception": false,
     "start_time": "2021-12-31T12:13:09.031469",
     "status": "completed"
    },
    "tags": []
   },
   "outputs": [],
   "source": [
    "#hide\n",
    "df_table = (pd.DataFrame(dict(Cases = dfc_cases, Deaths = dfc_deaths, PCases = dfp_cases, PDeaths = dfp_deaths))\n",
    "            .sort_values(by = ['Cases','Deaths'], ascending = [False, False])\n",
    "            .reset_index())"
   ]
  },
  {
   "cell_type": "code",
   "execution_count": 13,
   "id": "educational-chancellor",
   "metadata": {
    "execution": {
     "iopub.execute_input": "2021-12-31T12:13:09.166905Z",
     "iopub.status.busy": "2021-12-31T12:13:09.161878Z",
     "iopub.status.idle": "2021-12-31T12:13:09.170027Z",
     "shell.execute_reply": "2021-12-31T12:13:09.169539Z"
    },
    "papermill": {
     "duration": 0.059374,
     "end_time": "2021-12-31T12:13:09.170154",
     "exception": false,
     "start_time": "2021-12-31T12:13:09.110780",
     "status": "completed"
    },
    "tags": []
   },
   "outputs": [
    {
     "data": {
      "text/html": [
       "<div>\n",
       "<style scoped>\n",
       "    .dataframe tbody tr th:only-of-type {\n",
       "        vertical-align: middle;\n",
       "    }\n",
       "\n",
       "    .dataframe tbody tr th {\n",
       "        vertical-align: top;\n",
       "    }\n",
       "\n",
       "    .dataframe thead th {\n",
       "        text-align: right;\n",
       "    }\n",
       "</style>\n",
       "<table border=\"1\" class=\"dataframe\">\n",
       "  <thead>\n",
       "    <tr style=\"text-align: right;\">\n",
       "      <th></th>\n",
       "      <th>Country/Region</th>\n",
       "      <th>Cases</th>\n",
       "      <th>Deaths</th>\n",
       "      <th>PCases</th>\n",
       "      <th>PDeaths</th>\n",
       "      <th>Cases (+)</th>\n",
       "      <th>Deaths (+)</th>\n",
       "      <th>Fatality Rate</th>\n",
       "      <th>Continent</th>\n",
       "    </tr>\n",
       "  </thead>\n",
       "  <tbody>\n",
       "    <tr>\n",
       "      <th>0</th>\n",
       "      <td>US</td>\n",
       "      <td>54306755</td>\n",
       "      <td>824301</td>\n",
       "      <td>53659688</td>\n",
       "      <td>822892</td>\n",
       "      <td>647067</td>\n",
       "      <td>1409</td>\n",
       "      <td>1.52</td>\n",
       "      <td>North America</td>\n",
       "    </tr>\n",
       "    <tr>\n",
       "      <th>1</th>\n",
       "      <td>India</td>\n",
       "      <td>34838804</td>\n",
       "      <td>481080</td>\n",
       "      <td>34822040</td>\n",
       "      <td>480860</td>\n",
       "      <td>16764</td>\n",
       "      <td>220</td>\n",
       "      <td>1.38</td>\n",
       "      <td>Asia</td>\n",
       "    </tr>\n",
       "    <tr>\n",
       "      <th>2</th>\n",
       "      <td>Brazil</td>\n",
       "      <td>22281649</td>\n",
       "      <td>619249</td>\n",
       "      <td>22269031</td>\n",
       "      <td>619095</td>\n",
       "      <td>12618</td>\n",
       "      <td>154</td>\n",
       "      <td>2.78</td>\n",
       "      <td>South America</td>\n",
       "    </tr>\n",
       "    <tr>\n",
       "      <th>3</th>\n",
       "      <td>United Kingdom</td>\n",
       "      <td>12820359</td>\n",
       "      <td>148893</td>\n",
       "      <td>12630442</td>\n",
       "      <td>148557</td>\n",
       "      <td>189917</td>\n",
       "      <td>336</td>\n",
       "      <td>1.16</td>\n",
       "      <td>Europe</td>\n",
       "    </tr>\n",
       "    <tr>\n",
       "      <th>4</th>\n",
       "      <td>Russia</td>\n",
       "      <td>10299923</td>\n",
       "      <td>301791</td>\n",
       "      <td>10279009</td>\n",
       "      <td>300886</td>\n",
       "      <td>20914</td>\n",
       "      <td>905</td>\n",
       "      <td>2.93</td>\n",
       "      <td>Europe</td>\n",
       "    </tr>\n",
       "  </tbody>\n",
       "</table>\n",
       "</div>"
      ],
      "text/plain": [
       "   Country/Region     Cases  Deaths    PCases  PDeaths  Cases (+)  Deaths (+)  \\\n",
       "0              US  54306755  824301  53659688   822892     647067        1409   \n",
       "1           India  34838804  481080  34822040   480860      16764         220   \n",
       "2          Brazil  22281649  619249  22269031   619095      12618         154   \n",
       "3  United Kingdom  12820359  148893  12630442   148557     189917         336   \n",
       "4          Russia  10299923  301791  10279009   300886      20914         905   \n",
       "\n",
       "   Fatality Rate      Continent  \n",
       "0           1.52  North America  \n",
       "1           1.38           Asia  \n",
       "2           2.78  South America  \n",
       "3           1.16         Europe  \n",
       "4           2.93         Europe  "
      ]
     },
     "execution_count": 13,
     "metadata": {},
     "output_type": "execute_result"
    }
   ],
   "source": [
    "#hide\n",
    "for c in 'Cases, Deaths'.split(', '):\n",
    "    df_table[f'{c} (+)'] = (df_table[c] - df_table[f'P{c}']).clip(0)\n",
    "    #Clip ça veut dire, les chiffres negatif sont interdit\n",
    "df_table['Fatality Rate'] = (100* df_table['Deaths']/ df_table['Cases']).round(2)\n",
    "df_table['Continent'] = df_table['Country/Region'].map(mapping['map.continent'])\n",
    "df_table.head(5)"
   ]
  },
  {
   "cell_type": "code",
   "execution_count": 14,
   "id": "aboriginal-bulgaria",
   "metadata": {
    "execution": {
     "iopub.execute_input": "2021-12-31T12:13:09.247045Z",
     "iopub.status.busy": "2021-12-31T12:13:09.245925Z",
     "iopub.status.idle": "2021-12-31T12:13:09.250025Z",
     "shell.execute_reply": "2021-12-31T12:13:09.250474Z"
    },
    "papermill": {
     "duration": 0.0455,
     "end_time": "2021-12-31T12:13:09.250627",
     "exception": false,
     "start_time": "2021-12-31T12:13:09.205127",
     "status": "completed"
    },
    "tags": []
   },
   "outputs": [],
   "source": [
    "#hide\n",
    "#delete problematic countries from table\n",
    "df_table = df_table[~df_table['Country/Region'].isin(['Cape Verde', 'Cruise Ship', 'Kosovo'])]"
   ]
  },
  {
   "cell_type": "code",
   "execution_count": 15,
   "id": "fantastic-effect",
   "metadata": {
    "execution": {
     "iopub.execute_input": "2021-12-31T12:13:09.329418Z",
     "iopub.status.busy": "2021-12-31T12:13:09.328805Z",
     "iopub.status.idle": "2021-12-31T12:13:09.347346Z",
     "shell.execute_reply": "2021-12-31T12:13:09.346850Z"
    },
    "papermill": {
     "duration": 0.064304,
     "end_time": "2021-12-31T12:13:09.347471",
     "exception": false,
     "start_time": "2021-12-31T12:13:09.283167",
     "status": "completed"
    },
    "tags": []
   },
   "outputs": [
    {
     "data": {
      "text/html": [
       "<div>\n",
       "<style scoped>\n",
       "    .dataframe tbody tr th:only-of-type {\n",
       "        vertical-align: middle;\n",
       "    }\n",
       "\n",
       "    .dataframe tbody tr th {\n",
       "        vertical-align: top;\n",
       "    }\n",
       "\n",
       "    .dataframe thead th {\n",
       "        text-align: right;\n",
       "    }\n",
       "</style>\n",
       "<table border=\"1\" class=\"dataframe\">\n",
       "  <thead>\n",
       "    <tr style=\"text-align: right;\">\n",
       "      <th></th>\n",
       "      <th>Country/Region</th>\n",
       "      <th>Cases</th>\n",
       "      <th>Deaths</th>\n",
       "      <th>PCases</th>\n",
       "      <th>PDeaths</th>\n",
       "      <th>Cases (+)</th>\n",
       "      <th>Deaths (+)</th>\n",
       "      <th>Fatality Rate</th>\n",
       "      <th>Continent</th>\n",
       "    </tr>\n",
       "  </thead>\n",
       "  <tbody>\n",
       "    <tr>\n",
       "      <th>0</th>\n",
       "      <td>US</td>\n",
       "      <td>54306755</td>\n",
       "      <td>824301</td>\n",
       "      <td>53659688</td>\n",
       "      <td>822892</td>\n",
       "      <td>647067</td>\n",
       "      <td>1409</td>\n",
       "      <td>1.5</td>\n",
       "      <td>North America</td>\n",
       "    </tr>\n",
       "    <tr>\n",
       "      <th>1</th>\n",
       "      <td>India</td>\n",
       "      <td>34838804</td>\n",
       "      <td>481080</td>\n",
       "      <td>34822040</td>\n",
       "      <td>480860</td>\n",
       "      <td>16764</td>\n",
       "      <td>220</td>\n",
       "      <td>1.4</td>\n",
       "      <td>Asia</td>\n",
       "    </tr>\n",
       "    <tr>\n",
       "      <th>2</th>\n",
       "      <td>Brazil</td>\n",
       "      <td>22281649</td>\n",
       "      <td>619249</td>\n",
       "      <td>22269031</td>\n",
       "      <td>619095</td>\n",
       "      <td>12618</td>\n",
       "      <td>154</td>\n",
       "      <td>2.8</td>\n",
       "      <td>South America</td>\n",
       "    </tr>\n",
       "    <tr>\n",
       "      <th>3</th>\n",
       "      <td>United Kingdom</td>\n",
       "      <td>12820359</td>\n",
       "      <td>148893</td>\n",
       "      <td>12630442</td>\n",
       "      <td>148557</td>\n",
       "      <td>189917</td>\n",
       "      <td>336</td>\n",
       "      <td>1.2</td>\n",
       "      <td>Europe</td>\n",
       "    </tr>\n",
       "    <tr>\n",
       "      <th>4</th>\n",
       "      <td>Russia</td>\n",
       "      <td>10299923</td>\n",
       "      <td>301791</td>\n",
       "      <td>10279009</td>\n",
       "      <td>300886</td>\n",
       "      <td>20914</td>\n",
       "      <td>905</td>\n",
       "      <td>2.9</td>\n",
       "      <td>Europe</td>\n",
       "    </tr>\n",
       "  </tbody>\n",
       "</table>\n",
       "</div>"
      ],
      "text/plain": [
       "   Country/Region     Cases  Deaths    PCases  PDeaths  Cases (+)  Deaths (+)  \\\n",
       "0              US  54306755  824301  53659688   822892     647067        1409   \n",
       "1           India  34838804  481080  34822040   480860      16764         220   \n",
       "2          Brazil  22281649  619249  22269031   619095      12618         154   \n",
       "3  United Kingdom  12820359  148893  12630442   148557     189917         336   \n",
       "4          Russia  10299923  301791  10279009   300886      20914         905   \n",
       "\n",
       "   Fatality Rate      Continent  \n",
       "0            1.5  North America  \n",
       "1            1.4           Asia  \n",
       "2            2.8  South America  \n",
       "3            1.2         Europe  \n",
       "4            2.9         Europe  "
      ]
     },
     "execution_count": 15,
     "metadata": {},
     "output_type": "execute_result"
    }
   ],
   "source": [
    "#hide\n",
    "df_table = (pd.DataFrame(dict(Cases=dfc_cases, Deaths=dfc_deaths, PCases=dfp_cases, PDeaths=dfp_deaths))\n",
    "             .sort_values(by=['Cases', 'Deaths'], ascending=[False, False])\n",
    "             .reset_index())\n",
    "df_table.rename(columns={'index': 'Country/Region'}, inplace=True)\n",
    "for c in 'Cases, Deaths'.split(', '):\n",
    "    df_table[f'{c} (+)'] = (df_table[c] - df_table[f'P{c}']).clip(0)  # DATA BUG\n",
    "df_table['Fatality Rate'] = (100 * df_table['Deaths'] / df_table['Cases']).round(1)\n",
    "df_table['Continent'] = df_table['Country/Region'].map(mapping['map.continent'])\n",
    "df_table.head(5)"
   ]
  },
  {
   "cell_type": "code",
   "execution_count": 16,
   "id": "fewer-occasion",
   "metadata": {
    "execution": {
     "iopub.execute_input": "2021-12-31T12:13:09.426147Z",
     "iopub.status.busy": "2021-12-31T12:13:09.425600Z",
     "iopub.status.idle": "2021-12-31T12:13:09.429858Z",
     "shell.execute_reply": "2021-12-31T12:13:09.430323Z"
    },
    "papermill": {
     "duration": 0.049669,
     "end_time": "2021-12-31T12:13:09.430456",
     "exception": false,
     "start_time": "2021-12-31T12:13:09.380787",
     "status": "completed"
    },
    "tags": []
   },
   "outputs": [],
   "source": [
    "#hide\n",
    "#delete problematic countries from table\n",
    "df_table = df_table[~df_table['Country/Region'].isin(['Cape Verde', 'Cruise Ship', 'Kosovo'])]"
   ]
  },
  {
   "cell_type": "code",
   "execution_count": 17,
   "id": "related-center",
   "metadata": {
    "execution": {
     "iopub.execute_input": "2021-12-31T12:13:09.504895Z",
     "iopub.status.busy": "2021-12-31T12:13:09.504344Z",
     "iopub.status.idle": "2021-12-31T12:13:09.517378Z",
     "shell.execute_reply": "2021-12-31T12:13:09.516935Z"
    },
    "papermill": {
     "duration": 0.054839,
     "end_time": "2021-12-31T12:13:09.517496",
     "exception": false,
     "start_time": "2021-12-31T12:13:09.462657",
     "status": "completed"
    },
    "tags": []
   },
   "outputs": [],
   "source": [
    "#hide\n",
    "metrics = [df_table.columns[index] for index in [1,2,5,6]]\n",
    "# s_china = df_table[df_table['Country/Region'].eq('China')][metrics].sum().add_prefix('China ')\n",
    "s_us = df_table[df_table['Country/Region'].eq('US')][metrics].sum().add_prefix('US ')\n",
    "s_eu = df_table[df_table['Continent'].eq('Europe')][metrics].sum().add_prefix('EU ')\n",
    "s_ind = df_table[df_table['Country/Region'].eq('India')][metrics].sum().add_prefix('India ')\n",
    "summary = {'updated': pd.to_datetime(dt_today), 'since': pd.to_datetime(dt_yday)}\n",
    "summary = {'updated': pd.to_datetime(dt_today), 'since': pd.to_datetime(dt_yday)}\n",
    "summary = {**summary, **df_table[metrics].sum(), **s_ind, **s_us, **s_eu}"
   ]
  },
  {
   "cell_type": "code",
   "execution_count": 18,
   "id": "engaging-syndrome",
   "metadata": {
    "execution": {
     "iopub.execute_input": "2021-12-31T12:13:09.590833Z",
     "iopub.status.busy": "2021-12-31T12:13:09.589965Z",
     "iopub.status.idle": "2021-12-31T12:13:09.607343Z",
     "shell.execute_reply": "2021-12-31T12:13:09.606875Z"
    },
    "papermill": {
     "duration": 0.056325,
     "end_time": "2021-12-31T12:13:09.607468",
     "exception": false,
     "start_time": "2021-12-31T12:13:09.551143",
     "status": "completed"
    },
    "tags": []
   },
   "outputs": [],
   "source": [
    "#hide\n",
    "dft_ct_new_cases = dft_cases.groupby(COL_REGION)[dt_cols].sum().diff(axis=1).fillna(0).astype(int)"
   ]
  },
  {
   "cell_type": "code",
   "execution_count": 19,
   "id": "neutral-assignment",
   "metadata": {
    "execution": {
     "iopub.execute_input": "2021-12-31T12:13:09.682786Z",
     "iopub.status.busy": "2021-12-31T12:13:09.682133Z",
     "iopub.status.idle": "2021-12-31T12:13:09.686065Z",
     "shell.execute_reply": "2021-12-31T12:13:09.685621Z"
    },
    "papermill": {
     "duration": 0.043321,
     "end_time": "2021-12-31T12:13:09.686184",
     "exception": false,
     "start_time": "2021-12-31T12:13:09.642863",
     "status": "completed"
    },
    "tags": []
   },
   "outputs": [],
   "source": [
    "#hide\n",
    "everydaycases = dft_ct_new_cases.cumsum(axis=1)"
   ]
  },
  {
   "cell_type": "code",
   "execution_count": 20,
   "id": "parliamentary-calgary",
   "metadata": {
    "execution": {
     "iopub.execute_input": "2021-12-31T12:13:09.767594Z",
     "iopub.status.busy": "2021-12-31T12:13:09.767025Z",
     "iopub.status.idle": "2021-12-31T12:13:10.499819Z",
     "shell.execute_reply": "2021-12-31T12:13:10.499259Z"
    },
    "papermill": {
     "duration": 0.774426,
     "end_time": "2021-12-31T12:13:10.499966",
     "exception": false,
     "start_time": "2021-12-31T12:13:09.725540",
     "status": "completed"
    },
    "tags": []
   },
   "outputs": [],
   "source": [
    "#hide\n",
    "import pandas as pd\n",
    "import matplotlib.pyplot as plt\n",
    "import matplotlib.ticker as ticker\n",
    "import matplotlib.animation as animation\n",
    "from IPython.display import HTML"
   ]
  },
  {
   "cell_type": "code",
   "execution_count": 21,
   "id": "lasting-extraction",
   "metadata": {
    "execution": {
     "iopub.execute_input": "2021-12-31T12:13:10.576818Z",
     "iopub.status.busy": "2021-12-31T12:13:10.576257Z",
     "iopub.status.idle": "2021-12-31T12:13:10.582877Z",
     "shell.execute_reply": "2021-12-31T12:13:10.583324Z"
    },
    "papermill": {
     "duration": 0.048786,
     "end_time": "2021-12-31T12:13:10.583465",
     "exception": false,
     "start_time": "2021-12-31T12:13:10.534679",
     "status": "completed"
    },
    "tags": []
   },
   "outputs": [],
   "source": [
    "#hide\n",
    "t = everydaycases.stack()"
   ]
  },
  {
   "cell_type": "code",
   "execution_count": 22,
   "id": "premier-sleeve",
   "metadata": {
    "execution": {
     "iopub.execute_input": "2021-12-31T12:13:10.654746Z",
     "iopub.status.busy": "2021-12-31T12:13:10.654069Z",
     "iopub.status.idle": "2021-12-31T12:13:10.665531Z",
     "shell.execute_reply": "2021-12-31T12:13:10.664779Z"
    },
    "papermill": {
     "duration": 0.050065,
     "end_time": "2021-12-31T12:13:10.665675",
     "exception": false,
     "start_time": "2021-12-31T12:13:10.615610",
     "status": "completed"
    },
    "tags": []
   },
   "outputs": [],
   "source": [
    "#hide\n",
    "g = t.reset_index(['Country/Region'])"
   ]
  },
  {
   "cell_type": "code",
   "execution_count": 23,
   "id": "distributed-pittsburgh",
   "metadata": {
    "execution": {
     "iopub.execute_input": "2021-12-31T12:13:10.734567Z",
     "iopub.status.busy": "2021-12-31T12:13:10.734008Z",
     "iopub.status.idle": "2021-12-31T12:13:10.736312Z",
     "shell.execute_reply": "2021-12-31T12:13:10.735853Z"
    },
    "papermill": {
     "duration": 0.038229,
     "end_time": "2021-12-31T12:13:10.736419",
     "exception": false,
     "start_time": "2021-12-31T12:13:10.698190",
     "status": "completed"
    },
    "tags": []
   },
   "outputs": [],
   "source": [
    "#hide\n",
    "g.index.name = 'date'"
   ]
  },
  {
   "cell_type": "code",
   "execution_count": 24,
   "id": "naked-donor",
   "metadata": {
    "execution": {
     "iopub.execute_input": "2021-12-31T12:13:10.806002Z",
     "iopub.status.busy": "2021-12-31T12:13:10.805506Z",
     "iopub.status.idle": "2021-12-31T12:13:10.809235Z",
     "shell.execute_reply": "2021-12-31T12:13:10.808824Z"
    },
    "papermill": {
     "duration": 0.041088,
     "end_time": "2021-12-31T12:13:10.809353",
     "exception": false,
     "start_time": "2021-12-31T12:13:10.768265",
     "status": "completed"
    },
    "tags": []
   },
   "outputs": [],
   "source": [
    "# #hide\n",
    "# g = g.reset_index(['date'])"
   ]
  },
  {
   "cell_type": "code",
   "execution_count": 25,
   "id": "incomplete-mustang",
   "metadata": {
    "execution": {
     "iopub.execute_input": "2021-12-31T12:13:10.889533Z",
     "iopub.status.busy": "2021-12-31T12:13:10.888923Z",
     "iopub.status.idle": "2021-12-31T12:13:10.891245Z",
     "shell.execute_reply": "2021-12-31T12:13:10.890793Z"
    },
    "papermill": {
     "duration": 0.039498,
     "end_time": "2021-12-31T12:13:10.891364",
     "exception": false,
     "start_time": "2021-12-31T12:13:10.851866",
     "status": "completed"
    },
    "tags": []
   },
   "outputs": [],
   "source": [
    "#hide\n",
    "# g.head()"
   ]
  },
  {
   "cell_type": "code",
   "execution_count": 26,
   "id": "specific-kruger",
   "metadata": {
    "execution": {
     "iopub.execute_input": "2021-12-31T12:13:10.962860Z",
     "iopub.status.busy": "2021-12-31T12:13:10.962287Z",
     "iopub.status.idle": "2021-12-31T12:13:10.964898Z",
     "shell.execute_reply": "2021-12-31T12:13:10.965416Z"
    },
    "papermill": {
     "duration": 0.041113,
     "end_time": "2021-12-31T12:13:10.965562",
     "exception": false,
     "start_time": "2021-12-31T12:13:10.924449",
     "status": "completed"
    },
    "tags": []
   },
   "outputs": [],
   "source": [
    "#hide\n",
    "# g.columns = ['date','country','cases']"
   ]
  },
  {
   "cell_type": "code",
   "execution_count": 27,
   "id": "tender-conversion",
   "metadata": {
    "execution": {
     "iopub.execute_input": "2021-12-31T12:13:11.037396Z",
     "iopub.status.busy": "2021-12-31T12:13:11.036815Z",
     "iopub.status.idle": "2021-12-31T12:13:11.040773Z",
     "shell.execute_reply": "2021-12-31T12:13:11.040282Z"
    },
    "papermill": {
     "duration": 0.040486,
     "end_time": "2021-12-31T12:13:11.040905",
     "exception": false,
     "start_time": "2021-12-31T12:13:11.000419",
     "status": "completed"
    },
    "tags": []
   },
   "outputs": [],
   "source": [
    "#hide\n",
    "# g['continent'] = g.country"
   ]
  },
  {
   "cell_type": "code",
   "execution_count": 28,
   "id": "substantial-wilderness",
   "metadata": {
    "execution": {
     "iopub.execute_input": "2021-12-31T12:13:11.114436Z",
     "iopub.status.busy": "2021-12-31T12:13:11.113693Z",
     "iopub.status.idle": "2021-12-31T12:13:11.115889Z",
     "shell.execute_reply": "2021-12-31T12:13:11.115286Z"
    },
    "papermill": {
     "duration": 0.040608,
     "end_time": "2021-12-31T12:13:11.116032",
     "exception": false,
     "start_time": "2021-12-31T12:13:11.075424",
     "status": "completed"
    },
    "tags": []
   },
   "outputs": [],
   "source": [
    "#hide\n",
    "# cols = list(g.columns.values)"
   ]
  },
  {
   "cell_type": "code",
   "execution_count": 29,
   "id": "solved-farming",
   "metadata": {
    "execution": {
     "iopub.execute_input": "2021-12-31T12:13:11.190320Z",
     "iopub.status.busy": "2021-12-31T12:13:11.189767Z",
     "iopub.status.idle": "2021-12-31T12:13:11.192349Z",
     "shell.execute_reply": "2021-12-31T12:13:11.191884Z"
    },
    "papermill": {
     "duration": 0.042628,
     "end_time": "2021-12-31T12:13:11.192468",
     "exception": false,
     "start_time": "2021-12-31T12:13:11.149840",
     "status": "completed"
    },
    "tags": []
   },
   "outputs": [],
   "source": [
    "#hide\n",
    "# cols.insert(0, cols.pop())"
   ]
  },
  {
   "cell_type": "code",
   "execution_count": 30,
   "id": "executed-adoption",
   "metadata": {
    "execution": {
     "iopub.execute_input": "2021-12-31T12:13:11.262059Z",
     "iopub.status.busy": "2021-12-31T12:13:11.261437Z",
     "iopub.status.idle": "2021-12-31T12:13:11.265088Z",
     "shell.execute_reply": "2021-12-31T12:13:11.264597Z"
    },
    "papermill": {
     "duration": 0.040128,
     "end_time": "2021-12-31T12:13:11.265203",
     "exception": false,
     "start_time": "2021-12-31T12:13:11.225075",
     "status": "completed"
    },
    "tags": []
   },
   "outputs": [],
   "source": [
    "#hide\n",
    "# g = g[cols]"
   ]
  },
  {
   "cell_type": "code",
   "execution_count": 31,
   "id": "subject-dublin",
   "metadata": {
    "execution": {
     "iopub.execute_input": "2021-12-31T12:13:11.341248Z",
     "iopub.status.busy": "2021-12-31T12:13:11.340614Z",
     "iopub.status.idle": "2021-12-31T12:13:11.344695Z",
     "shell.execute_reply": "2021-12-31T12:13:11.344250Z"
    },
    "papermill": {
     "duration": 0.04291,
     "end_time": "2021-12-31T12:13:11.344816",
     "exception": false,
     "start_time": "2021-12-31T12:13:11.301906",
     "status": "completed"
    },
    "tags": []
   },
   "outputs": [],
   "source": [
    "#hide\n",
    "# g['continent'] = g['continent'].map(mapping['map.continent'])"
   ]
  },
  {
   "cell_type": "code",
   "execution_count": 32,
   "id": "freelance-scout",
   "metadata": {
    "execution": {
     "iopub.execute_input": "2021-12-31T12:13:11.420346Z",
     "iopub.status.busy": "2021-12-31T12:13:11.419286Z",
     "iopub.status.idle": "2021-12-31T12:13:11.421438Z",
     "shell.execute_reply": "2021-12-31T12:13:11.422241Z"
    },
    "papermill": {
     "duration": 0.043642,
     "end_time": "2021-12-31T12:13:11.422460",
     "exception": false,
     "start_time": "2021-12-31T12:13:11.378818",
     "status": "completed"
    },
    "tags": []
   },
   "outputs": [],
   "source": [
    "#hide\n",
    "# g.head()"
   ]
  },
  {
   "cell_type": "code",
   "execution_count": 33,
   "id": "limited-engine",
   "metadata": {
    "execution": {
     "iopub.execute_input": "2021-12-31T12:13:11.494016Z",
     "iopub.status.busy": "2021-12-31T12:13:11.493362Z",
     "iopub.status.idle": "2021-12-31T12:13:11.497448Z",
     "shell.execute_reply": "2021-12-31T12:13:11.496970Z"
    },
    "papermill": {
     "duration": 0.04146,
     "end_time": "2021-12-31T12:13:11.497598",
     "exception": false,
     "start_time": "2021-12-31T12:13:11.456138",
     "status": "completed"
    },
    "tags": []
   },
   "outputs": [],
   "source": [
    "# hide\n",
    "# g['date'] = g['date'].astype('datetime64[ns]')"
   ]
  },
  {
   "cell_type": "code",
   "execution_count": 34,
   "id": "sophisticated-supervisor",
   "metadata": {
    "execution": {
     "iopub.execute_input": "2021-12-31T12:13:11.569197Z",
     "iopub.status.busy": "2021-12-31T12:13:11.568455Z",
     "iopub.status.idle": "2021-12-31T12:13:11.572760Z",
     "shell.execute_reply": "2021-12-31T12:13:11.572132Z"
    },
    "papermill": {
     "duration": 0.04162,
     "end_time": "2021-12-31T12:13:11.572907",
     "exception": false,
     "start_time": "2021-12-31T12:13:11.531287",
     "status": "completed"
    },
    "tags": []
   },
   "outputs": [],
   "source": [
    "#hide\n",
    "# g['date'] = g.date.dt.dayofyear"
   ]
  },
  {
   "cell_type": "code",
   "execution_count": 35,
   "id": "inside-dubai",
   "metadata": {
    "execution": {
     "iopub.execute_input": "2021-12-31T12:13:11.645480Z",
     "iopub.status.busy": "2021-12-31T12:13:11.644473Z",
     "iopub.status.idle": "2021-12-31T12:13:11.646827Z",
     "shell.execute_reply": "2021-12-31T12:13:11.647273Z"
    },
    "papermill": {
     "duration": 0.040274,
     "end_time": "2021-12-31T12:13:11.647409",
     "exception": false,
     "start_time": "2021-12-31T12:13:11.607135",
     "status": "completed"
    },
    "tags": []
   },
   "outputs": [],
   "source": [
    "#hide\n",
    "# g = g.rename(columns= {'continent':'group','country':'name','cases':'value'})"
   ]
  },
  {
   "cell_type": "code",
   "execution_count": 36,
   "id": "fleet-motorcycle",
   "metadata": {
    "execution": {
     "iopub.execute_input": "2021-12-31T12:13:11.718127Z",
     "iopub.status.busy": "2021-12-31T12:13:11.717300Z",
     "iopub.status.idle": "2021-12-31T12:13:11.720948Z",
     "shell.execute_reply": "2021-12-31T12:13:11.721362Z"
    },
    "papermill": {
     "duration": 0.041656,
     "end_time": "2021-12-31T12:13:11.721501",
     "exception": false,
     "start_time": "2021-12-31T12:13:11.679845",
     "status": "completed"
    },
    "tags": []
   },
   "outputs": [],
   "source": [
    "#hide\n",
    "# cols = ['name','group','day','value']"
   ]
  },
  {
   "cell_type": "code",
   "execution_count": 37,
   "id": "continued-sleeping",
   "metadata": {
    "execution": {
     "iopub.execute_input": "2021-12-31T12:13:11.791579Z",
     "iopub.status.busy": "2021-12-31T12:13:11.790929Z",
     "iopub.status.idle": "2021-12-31T12:13:11.793296Z",
     "shell.execute_reply": "2021-12-31T12:13:11.792827Z"
    },
    "papermill": {
     "duration": 0.038486,
     "end_time": "2021-12-31T12:13:11.793424",
     "exception": false,
     "start_time": "2021-12-31T12:13:11.754938",
     "status": "completed"
    },
    "tags": []
   },
   "outputs": [],
   "source": [
    "#hide\n",
    "# g.rename(columns= {'date':'day'},inplace = True)"
   ]
  },
  {
   "cell_type": "code",
   "execution_count": 38,
   "id": "major-fight",
   "metadata": {
    "execution": {
     "iopub.execute_input": "2021-12-31T12:13:11.859822Z",
     "iopub.status.busy": "2021-12-31T12:13:11.859236Z",
     "iopub.status.idle": "2021-12-31T12:13:11.861289Z",
     "shell.execute_reply": "2021-12-31T12:13:11.861675Z"
    },
    "papermill": {
     "duration": 0.036797,
     "end_time": "2021-12-31T12:13:11.861794",
     "exception": false,
     "start_time": "2021-12-31T12:13:11.824997",
     "status": "completed"
    },
    "tags": []
   },
   "outputs": [],
   "source": [
    "#hide\n",
    "# g = g[cols]"
   ]
  },
  {
   "cell_type": "code",
   "execution_count": 39,
   "id": "structured-mobile",
   "metadata": {
    "execution": {
     "iopub.execute_input": "2021-12-31T12:13:11.930983Z",
     "iopub.status.busy": "2021-12-31T12:13:11.929745Z",
     "iopub.status.idle": "2021-12-31T12:13:11.933733Z",
     "shell.execute_reply": "2021-12-31T12:13:11.933246Z"
    },
    "papermill": {
     "duration": 0.041129,
     "end_time": "2021-12-31T12:13:11.933855",
     "exception": false,
     "start_time": "2021-12-31T12:13:11.892726",
     "status": "completed"
    },
    "tags": []
   },
   "outputs": [],
   "source": [
    "# #hide\n",
    "# g = g[g.group.notna()]"
   ]
  },
  {
   "cell_type": "code",
   "execution_count": 40,
   "id": "determined-closing",
   "metadata": {
    "execution": {
     "iopub.execute_input": "2021-12-31T12:13:12.006081Z",
     "iopub.status.busy": "2021-12-31T12:13:12.005312Z",
     "iopub.status.idle": "2021-12-31T12:13:12.009333Z",
     "shell.execute_reply": "2021-12-31T12:13:12.009894Z"
    },
    "papermill": {
     "duration": 0.043274,
     "end_time": "2021-12-31T12:13:12.010069",
     "exception": false,
     "start_time": "2021-12-31T12:13:11.966795",
     "status": "completed"
    },
    "tags": []
   },
   "outputs": [],
   "source": [
    "# #hide\n",
    "# colors = dict(zip(\n",
    "#     [\"Oceania\", \"Europe\", \"Asia\", \"South America\", \"Middle East\", \"North America\", \"Africa\"],\n",
    "#     [\"#adb0ff\", \"#ffb3ff\", \"#90d595\", \"#e48381\", \"#aafbff\", \"#f7bb5f\", \"#eafb50\"]\n",
    "# ))\n",
    "# group_lk = g.set_index('name')['group'].to_dict()"
   ]
  },
  {
   "cell_type": "code",
   "execution_count": null,
   "id": "gross-drinking",
   "metadata": {
    "papermill": {
     "duration": 0.031172,
     "end_time": "2021-12-31T12:13:12.073724",
     "exception": false,
     "start_time": "2021-12-31T12:13:12.042552",
     "status": "completed"
    },
    "tags": []
   },
   "outputs": [],
   "source": []
  },
  {
   "cell_type": "code",
   "execution_count": 41,
   "id": "subject-macintosh",
   "metadata": {
    "execution": {
     "iopub.execute_input": "2021-12-31T12:13:12.140642Z",
     "iopub.status.busy": "2021-12-31T12:13:12.140124Z",
     "iopub.status.idle": "2021-12-31T12:13:12.142367Z",
     "shell.execute_reply": "2021-12-31T12:13:12.142921Z"
    },
    "papermill": {
     "duration": 0.038009,
     "end_time": "2021-12-31T12:13:12.143062",
     "exception": false,
     "start_time": "2021-12-31T12:13:12.105053",
     "status": "completed"
    },
    "tags": []
   },
   "outputs": [],
   "source": [
    "# #hide\n",
    "# fig, ax = plt.subplots(figsize=(15, 8))\n",
    "\n",
    "# def draw_barchart(current_day):\n",
    "#     dff = g[g['day'].eq(current_day)].sort_values(by='value', ascending=True).tail(10)\n",
    "#     ax.clear()\n",
    "#     ax.barh(dff['name'], dff['value'], color=[colors[group_lk[x]] for x in dff['name']])\n",
    "#     dx = dff['value'].max() / 200\n",
    "    \n",
    "#     for i, (value, name) in enumerate(zip(dff['value'], dff['name'])):\n",
    "#         ax.text(value-dx, i,     name,           size=14, weight=600, ha='right', va='bottom')\n",
    "#         ax.text(value-dx, i-.25, group_lk[name], size=10, color='#444444', ha='right', va='baseline')\n",
    "#         ax.text(value+dx, i,     f'{value:,.0f}',  size=14, ha='left',  va='center')\n",
    "#     ax.text(1, 0.4, current_day, transform=ax.transAxes, color='#777777', size=46, ha='right', weight=800)\n",
    "#     ax.text(0, 1.06, 'Population (thousands)', transform=ax.transAxes, size=12, color='#777777')\n",
    "#     ax.xaxis.set_major_formatter(ticker.StrMethodFormatter('{x:,.0f}'))\n",
    "#     ax.xaxis.set_ticks_position('top')\n",
    "#     ax.tick_params(axis='x', colors='#777777', labelsize=12)\n",
    "#     ax.set_yticks([])\n",
    "#     ax.margins(0, 0.01)\n",
    "#     ax.grid(which='major', axis='x', linestyle='-')\n",
    "#     ax.set_axisbelow(True)\n",
    "    \n",
    "#     ax.text(0, 1.15, 'Coronavirus',\n",
    "#             transform=ax.transAxes, size=24, weight=600, ha='left', va='top')\n",
    "# #     ax.text(1, 0, 'by @pratapvardhan; credit @jburnmurdoch', transform=ax.transAxes, color='#777777', ha='right',\n",
    "# #             bbox=dict(facecolor='white', alpha=0.8, edgecolor='white'))\n",
    "#     plt.box(False)"
   ]
  },
  {
   "cell_type": "code",
   "execution_count": 42,
   "id": "sexual-wages",
   "metadata": {
    "execution": {
     "iopub.execute_input": "2021-12-31T12:13:12.212083Z",
     "iopub.status.busy": "2021-12-31T12:13:12.211024Z",
     "iopub.status.idle": "2021-12-31T12:13:12.213339Z",
     "shell.execute_reply": "2021-12-31T12:13:12.214201Z"
    },
    "papermill": {
     "duration": 0.039576,
     "end_time": "2021-12-31T12:13:12.214615",
     "exception": false,
     "start_time": "2021-12-31T12:13:12.175039",
     "status": "completed"
    },
    "tags": []
   },
   "outputs": [],
   "source": [
    "# #hide_input\n",
    "# fig, ax = plt.subplots(figsize=(15, 8))\n",
    "# animator = animation.FuncAnimation(fig, draw_barchart, frames=range(g.day.values.min(), g.day.values.max()))\n",
    "# HTML(animator.to_jshtml())\n",
    "# # or use animator.to_html5_video() or animator.save() "
   ]
  },
  {
   "cell_type": "code",
   "execution_count": null,
   "id": "australian-container",
   "metadata": {
    "papermill": {
     "duration": 0.032299,
     "end_time": "2021-12-31T12:13:12.279938",
     "exception": false,
     "start_time": "2021-12-31T12:13:12.247639",
     "status": "completed"
    },
    "tags": []
   },
   "outputs": [],
   "source": []
  },
  {
   "cell_type": "code",
   "execution_count": null,
   "id": "mediterranean-pontiac",
   "metadata": {
    "papermill": {
     "duration": 0.033706,
     "end_time": "2021-12-31T12:13:12.346668",
     "exception": false,
     "start_time": "2021-12-31T12:13:12.312962",
     "status": "completed"
    },
    "tags": []
   },
   "outputs": [],
   "source": []
  },
  {
   "cell_type": "code",
   "execution_count": null,
   "id": "aging-legislature",
   "metadata": {
    "papermill": {
     "duration": 0.0316,
     "end_time": "2021-12-31T12:13:12.409551",
     "exception": false,
     "start_time": "2021-12-31T12:13:12.377951",
     "status": "completed"
    },
    "tags": []
   },
   "outputs": [],
   "source": []
  }
 ],
 "metadata": {
  "kernelspec": {
   "display_name": "Python 3",
   "language": "python",
   "name": "python3"
  },
  "language_info": {
   "codemirror_mode": {
    "name": "ipython",
    "version": 3
   },
   "file_extension": ".py",
   "mimetype": "text/x-python",
   "name": "python",
   "nbconvert_exporter": "python",
   "pygments_lexer": "ipython3",
   "version": "3.6.15"
  },
  "papermill": {
   "duration": 6.729543,
   "end_time": "2021-12-31T12:13:12.752460",
   "environment_variables": {},
   "exception": null,
   "input_path": "2020-03-21-covid19exp.ipynb",
   "output_path": "2020-03-21-covid19exp.ipynb",
   "parameters": {},
   "start_time": "2021-12-31T12:13:06.022917",
   "version": "2.0.0"
  }
 },
 "nbformat": 4,
 "nbformat_minor": 5
}