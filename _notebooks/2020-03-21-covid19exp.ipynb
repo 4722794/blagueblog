{
 "cells": [
  {
   "cell_type": "markdown",
   "id": "muslim-click",
   "metadata": {
    "papermill": {
     "duration": 0.039296,
     "end_time": "2021-04-12T12:04:24.782778",
     "exception": false,
     "start_time": "2021-04-12T12:04:24.743482",
     "status": "completed"
    },
    "tags": []
   },
   "source": [
    "# COVID-19 Case Race\n",
    "> A race chart to see rising cases around the world\n",
    "\n",
    "- author: Hargun Oberoi\n",
    "- image: images/covid-overview.png\n",
    "- hide: false\n",
    "- badges: false"
   ]
  },
  {
   "cell_type": "code",
   "execution_count": 1,
   "id": "proof-material",
   "metadata": {
    "execution": {
     "iopub.execute_input": "2021-04-12T12:04:24.862302Z",
     "iopub.status.busy": "2021-04-12T12:04:24.861710Z",
     "iopub.status.idle": "2021-04-12T12:04:25.192404Z",
     "shell.execute_reply": "2021-04-12T12:04:25.191549Z"
    },
    "papermill": {
     "duration": 0.375922,
     "end_time": "2021-04-12T12:04:25.192566",
     "exception": false,
     "start_time": "2021-04-12T12:04:24.816644",
     "status": "completed"
    },
    "tags": []
   },
   "outputs": [],
   "source": [
    "#hide\n",
    "import numpy as np\n",
    "import pandas as pd\n",
    "from jinja2 import Template\n",
    "from IPython.display import HTML"
   ]
  },
  {
   "cell_type": "code",
   "execution_count": 2,
   "id": "developed-terminology",
   "metadata": {
    "execution": {
     "iopub.execute_input": "2021-04-12T12:04:25.265069Z",
     "iopub.status.busy": "2021-04-12T12:04:25.264464Z",
     "iopub.status.idle": "2021-04-12T12:04:25.267036Z",
     "shell.execute_reply": "2021-04-12T12:04:25.266564Z"
    },
    "papermill": {
     "duration": 0.041042,
     "end_time": "2021-04-12T12:04:25.267161",
     "exception": false,
     "start_time": "2021-04-12T12:04:25.226119",
     "status": "completed"
    },
    "tags": []
   },
   "outputs": [],
   "source": [
    "#hide\n",
    "\n",
    "# FETCH\n",
    "base_url = 'https://raw.githubusercontent.com/pratapvardhan/notebooks/master/covid19/'\n",
    "paths = {\n",
    "    'mapping': base_url + 'mapping_countries.csv',\n",
    "    'overview': base_url + 'overview.tpl'\n",
    "}"
   ]
  },
  {
   "cell_type": "code",
   "execution_count": 3,
   "id": "dynamic-saver",
   "metadata": {
    "execution": {
     "iopub.execute_input": "2021-04-12T12:04:25.346656Z",
     "iopub.status.busy": "2021-04-12T12:04:25.341526Z",
     "iopub.status.idle": "2021-04-12T12:04:25.351825Z",
     "shell.execute_reply": "2021-04-12T12:04:25.351355Z"
    },
    "papermill": {
     "duration": 0.051736,
     "end_time": "2021-04-12T12:04:25.351975",
     "exception": false,
     "start_time": "2021-04-12T12:04:25.300239",
     "status": "completed"
    },
    "tags": []
   },
   "outputs": [
    {
     "data": {
      "text/plain": [
       "'https://raw.githubusercontent.com/pratapvardhan/notebooks/master/covid19/mapping_countries.csv'"
      ]
     },
     "execution_count": 3,
     "metadata": {},
     "output_type": "execute_result"
    }
   ],
   "source": [
    "#hide\n",
    "paths['mapping']"
   ]
  },
  {
   "cell_type": "code",
   "execution_count": 4,
   "id": "urban-software",
   "metadata": {
    "execution": {
     "iopub.execute_input": "2021-04-12T12:04:25.425679Z",
     "iopub.status.busy": "2021-04-12T12:04:25.425084Z",
     "iopub.status.idle": "2021-04-12T12:04:25.427344Z",
     "shell.execute_reply": "2021-04-12T12:04:25.426768Z"
    },
    "papermill": {
     "duration": 0.042009,
     "end_time": "2021-04-12T12:04:25.427476",
     "exception": false,
     "start_time": "2021-04-12T12:04:25.385467",
     "status": "completed"
    },
    "tags": []
   },
   "outputs": [],
   "source": [
    "#hide\n",
    "def get_mappings(url):\n",
    "    df = pd.read_csv(url)\n",
    "    return {\n",
    "        'df': df,\n",
    "        'replace.country': dict(df.dropna(subset=['Name']).set_index('Country')['Name']),\n",
    "        'map.continent': dict(df.set_index('Name')['Continent'])\n",
    "    }"
   ]
  },
  {
   "cell_type": "code",
   "execution_count": 5,
   "id": "intimate-machinery",
   "metadata": {
    "execution": {
     "iopub.execute_input": "2021-04-12T12:04:25.500485Z",
     "iopub.status.busy": "2021-04-12T12:04:25.499868Z",
     "iopub.status.idle": "2021-04-12T12:04:25.590562Z",
     "shell.execute_reply": "2021-04-12T12:04:25.589808Z"
    },
    "papermill": {
     "duration": 0.129546,
     "end_time": "2021-04-12T12:04:25.590757",
     "exception": false,
     "start_time": "2021-04-12T12:04:25.461211",
     "status": "completed"
    },
    "tags": []
   },
   "outputs": [],
   "source": [
    "#hide\n",
    "mapping = get_mappings(paths['mapping'])"
   ]
  },
  {
   "cell_type": "code",
   "execution_count": 6,
   "id": "certified-tactics",
   "metadata": {
    "execution": {
     "iopub.execute_input": "2021-04-12T12:04:25.668324Z",
     "iopub.status.busy": "2021-04-12T12:04:25.667689Z",
     "iopub.status.idle": "2021-04-12T12:04:25.670601Z",
     "shell.execute_reply": "2021-04-12T12:04:25.670102Z"
    },
    "papermill": {
     "duration": 0.043612,
     "end_time": "2021-04-12T12:04:25.670726",
     "exception": false,
     "start_time": "2021-04-12T12:04:25.627114",
     "status": "completed"
    },
    "tags": []
   },
   "outputs": [],
   "source": [
    "#hide\n",
    "def get_template(path):\n",
    "    from urllib.parse import urlparse\n",
    "    if bool(urlparse(path).netloc):\n",
    "        from urllib.request import urlopen\n",
    "        return urlopen(path).read().decode('utf8')\n",
    "    return open(path).read()"
   ]
  },
  {
   "cell_type": "code",
   "execution_count": 7,
   "id": "realistic-blast",
   "metadata": {
    "execution": {
     "iopub.execute_input": "2021-04-12T12:04:25.743322Z",
     "iopub.status.busy": "2021-04-12T12:04:25.742778Z",
     "iopub.status.idle": "2021-04-12T12:04:25.744941Z",
     "shell.execute_reply": "2021-04-12T12:04:25.744478Z"
    },
    "papermill": {
     "duration": 0.040603,
     "end_time": "2021-04-12T12:04:25.745054",
     "exception": false,
     "start_time": "2021-04-12T12:04:25.704451",
     "status": "completed"
    },
    "tags": []
   },
   "outputs": [],
   "source": [
    "#hide\n",
    "def get_frame(name):\n",
    "    url = (\n",
    "        'https://raw.githubusercontent.com/CSSEGISandData/COVID-19/master/csse_covid_19_data/'\n",
    "        f'csse_covid_19_time_series/time_series_covid19_{name}_global.csv')\n",
    "    df = pd.read_csv(url)\n",
    "    # rename countries\n",
    "    df['Country/Region'] = df['Country/Region'].replace(mapping['replace.country'])\n",
    "    return df"
   ]
  },
  {
   "cell_type": "code",
   "execution_count": 8,
   "id": "affiliated-characterization",
   "metadata": {
    "execution": {
     "iopub.execute_input": "2021-04-12T12:04:25.819021Z",
     "iopub.status.busy": "2021-04-12T12:04:25.818452Z",
     "iopub.status.idle": "2021-04-12T12:04:25.821290Z",
     "shell.execute_reply": "2021-04-12T12:04:25.821801Z"
    },
    "papermill": {
     "duration": 0.043771,
     "end_time": "2021-04-12T12:04:25.821933",
     "exception": false,
     "start_time": "2021-04-12T12:04:25.778162",
     "status": "completed"
    },
    "tags": []
   },
   "outputs": [],
   "source": [
    "#hide\n",
    "def get_dates(df):\n",
    "    dt_cols = df.columns[~df.columns.isin(['Province/State', 'Country/Region', 'Lat', 'Long'])]\n",
    "    LAST_DATE_I = -1\n",
    "    # sometimes last column may be empty, then go backwards\n",
    "    for i in range(-1, -len(dt_cols), -1):\n",
    "        if not df[dt_cols[i]].fillna(0).eq(0).all():\n",
    "            LAST_DATE_I = i\n",
    "            break\n",
    "    return LAST_DATE_I, dt_cols"
   ]
  },
  {
   "cell_type": "code",
   "execution_count": 9,
   "id": "recent-optimization",
   "metadata": {
    "execution": {
     "iopub.execute_input": "2021-04-12T12:04:25.894213Z",
     "iopub.status.busy": "2021-04-12T12:04:25.893648Z",
     "iopub.status.idle": "2021-04-12T12:04:26.336189Z",
     "shell.execute_reply": "2021-04-12T12:04:26.335330Z"
    },
    "papermill": {
     "duration": 0.482378,
     "end_time": "2021-04-12T12:04:26.336461",
     "exception": false,
     "start_time": "2021-04-12T12:04:25.854083",
     "status": "completed"
    },
    "tags": []
   },
   "outputs": [],
   "source": [
    "#hide\n",
    "COL_REGION = 'Country/Region'\n",
    "# Confirmed, Recovered, Deaths\n",
    "df = get_frame('confirmed')\n",
    "# dft_: timeseries, dfc_: today country agg\n",
    "dft_cases = df\n",
    "dft_deaths = get_frame('deaths')\n",
    "dft_recovered = get_frame('recovered')\n",
    "LAST_DATE_I, dt_cols = get_dates(df)"
   ]
  },
  {
   "cell_type": "code",
   "execution_count": 10,
   "id": "absolute-copper",
   "metadata": {
    "execution": {
     "iopub.execute_input": "2021-04-12T12:04:26.410448Z",
     "iopub.status.busy": "2021-04-12T12:04:26.409663Z",
     "iopub.status.idle": "2021-04-12T12:04:26.411061Z",
     "shell.execute_reply": "2021-04-12T12:04:26.411555Z"
    },
    "papermill": {
     "duration": 0.040845,
     "end_time": "2021-04-12T12:04:26.411701",
     "exception": false,
     "start_time": "2021-04-12T12:04:26.370856",
     "status": "completed"
    },
    "tags": []
   },
   "outputs": [],
   "source": [
    "#hide\n",
    "LAST_DATE_I, dt_cols = get_dates(df)\n",
    "dt_today =dt_cols[LAST_DATE_I]\n",
    "# dt_5day = dt_cols[LAST_DATE_I - 5]\n",
    "dt_yday = dt_cols[LAST_DATE_I - 1]"
   ]
  },
  {
   "cell_type": "code",
   "execution_count": 11,
   "id": "restricted-sheriff",
   "metadata": {
    "execution": {
     "iopub.execute_input": "2021-04-12T12:04:26.485691Z",
     "iopub.status.busy": "2021-04-12T12:04:26.485117Z",
     "iopub.status.idle": "2021-04-12T12:04:26.491447Z",
     "shell.execute_reply": "2021-04-12T12:04:26.490953Z"
    },
    "papermill": {
     "duration": 0.047376,
     "end_time": "2021-04-12T12:04:26.491579",
     "exception": false,
     "start_time": "2021-04-12T12:04:26.444203",
     "status": "completed"
    },
    "tags": []
   },
   "outputs": [],
   "source": [
    "#hide\n",
    "dfc_cases = dft_cases.groupby(COL_REGION)[dt_today].sum()\n",
    "dfc_deaths = dft_deaths.groupby(COL_REGION)[dt_today].sum()\n",
    "# dfp_cases = dft_cases.groupby(COL_REGION)[dt_5day].sum()\n",
    "# dfp_deaths = dft_deaths.groupby(COL_REGION)[dt_5day].sum()\n",
    "dfp_cases = dft_cases.groupby(COL_REGION)[dt_yday].sum()\n",
    "dfp_deaths = dft_deaths.groupby(COL_REGION)[dt_yday].sum()"
   ]
  },
  {
   "cell_type": "code",
   "execution_count": 12,
   "id": "deluxe-hepatitis",
   "metadata": {
    "execution": {
     "iopub.execute_input": "2021-04-12T12:04:26.563793Z",
     "iopub.status.busy": "2021-04-12T12:04:26.563257Z",
     "iopub.status.idle": "2021-04-12T12:04:26.568063Z",
     "shell.execute_reply": "2021-04-12T12:04:26.567572Z"
    },
    "papermill": {
     "duration": 0.044483,
     "end_time": "2021-04-12T12:04:26.568183",
     "exception": false,
     "start_time": "2021-04-12T12:04:26.523700",
     "status": "completed"
    },
    "tags": []
   },
   "outputs": [],
   "source": [
    "#hide\n",
    "df_table = (pd.DataFrame(dict(Cases = dfc_cases, Deaths = dfc_deaths, PCases = dfp_cases, PDeaths = dfp_deaths))\n",
    "            .sort_values(by = ['Cases','Deaths'], ascending = [False, False])\n",
    "            .reset_index())"
   ]
  },
  {
   "cell_type": "code",
   "execution_count": 13,
   "id": "educational-chancellor",
   "metadata": {
    "execution": {
     "iopub.execute_input": "2021-04-12T12:04:26.655189Z",
     "iopub.status.busy": "2021-04-12T12:04:26.641784Z",
     "iopub.status.idle": "2021-04-12T12:04:26.662344Z",
     "shell.execute_reply": "2021-04-12T12:04:26.662882Z"
    },
    "papermill": {
     "duration": 0.062842,
     "end_time": "2021-04-12T12:04:26.663024",
     "exception": false,
     "start_time": "2021-04-12T12:04:26.600182",
     "status": "completed"
    },
    "tags": []
   },
   "outputs": [
    {
     "data": {
      "text/html": [
       "<div>\n",
       "<style scoped>\n",
       "    .dataframe tbody tr th:only-of-type {\n",
       "        vertical-align: middle;\n",
       "    }\n",
       "\n",
       "    .dataframe tbody tr th {\n",
       "        vertical-align: top;\n",
       "    }\n",
       "\n",
       "    .dataframe thead th {\n",
       "        text-align: right;\n",
       "    }\n",
       "</style>\n",
       "<table border=\"1\" class=\"dataframe\">\n",
       "  <thead>\n",
       "    <tr style=\"text-align: right;\">\n",
       "      <th></th>\n",
       "      <th>Country/Region</th>\n",
       "      <th>Cases</th>\n",
       "      <th>Deaths</th>\n",
       "      <th>PCases</th>\n",
       "      <th>PDeaths</th>\n",
       "      <th>Cases (+)</th>\n",
       "      <th>Deaths (+)</th>\n",
       "      <th>Fatality Rate</th>\n",
       "      <th>Continent</th>\n",
       "    </tr>\n",
       "  </thead>\n",
       "  <tbody>\n",
       "    <tr>\n",
       "      <th>0</th>\n",
       "      <td>US</td>\n",
       "      <td>31197873</td>\n",
       "      <td>562066</td>\n",
       "      <td>31151495</td>\n",
       "      <td>561783</td>\n",
       "      <td>46378</td>\n",
       "      <td>283</td>\n",
       "      <td>1.80</td>\n",
       "      <td>North America</td>\n",
       "    </tr>\n",
       "    <tr>\n",
       "      <th>1</th>\n",
       "      <td>India</td>\n",
       "      <td>13527717</td>\n",
       "      <td>170179</td>\n",
       "      <td>13358805</td>\n",
       "      <td>169275</td>\n",
       "      <td>168912</td>\n",
       "      <td>904</td>\n",
       "      <td>1.26</td>\n",
       "      <td>Asia</td>\n",
       "    </tr>\n",
       "    <tr>\n",
       "      <th>2</th>\n",
       "      <td>Brazil</td>\n",
       "      <td>13482023</td>\n",
       "      <td>353137</td>\n",
       "      <td>13445006</td>\n",
       "      <td>351334</td>\n",
       "      <td>37017</td>\n",
       "      <td>1803</td>\n",
       "      <td>2.62</td>\n",
       "      <td>South America</td>\n",
       "    </tr>\n",
       "    <tr>\n",
       "      <th>3</th>\n",
       "      <td>France</td>\n",
       "      <td>5119585</td>\n",
       "      <td>98909</td>\n",
       "      <td>5001685</td>\n",
       "      <td>98213</td>\n",
       "      <td>117900</td>\n",
       "      <td>696</td>\n",
       "      <td>1.93</td>\n",
       "      <td>Europe</td>\n",
       "    </tr>\n",
       "    <tr>\n",
       "      <th>4</th>\n",
       "      <td>Russia</td>\n",
       "      <td>4589209</td>\n",
       "      <td>101282</td>\n",
       "      <td>4580633</td>\n",
       "      <td>100949</td>\n",
       "      <td>8576</td>\n",
       "      <td>333</td>\n",
       "      <td>2.21</td>\n",
       "      <td>Europe</td>\n",
       "    </tr>\n",
       "  </tbody>\n",
       "</table>\n",
       "</div>"
      ],
      "text/plain": [
       "  Country/Region     Cases  Deaths    PCases  PDeaths  Cases (+)  Deaths (+)  \\\n",
       "0             US  31197873  562066  31151495   561783      46378         283   \n",
       "1          India  13527717  170179  13358805   169275     168912         904   \n",
       "2         Brazil  13482023  353137  13445006   351334      37017        1803   \n",
       "3         France   5119585   98909   5001685    98213     117900         696   \n",
       "4         Russia   4589209  101282   4580633   100949       8576         333   \n",
       "\n",
       "   Fatality Rate      Continent  \n",
       "0           1.80  North America  \n",
       "1           1.26           Asia  \n",
       "2           2.62  South America  \n",
       "3           1.93         Europe  \n",
       "4           2.21         Europe  "
      ]
     },
     "execution_count": 13,
     "metadata": {},
     "output_type": "execute_result"
    }
   ],
   "source": [
    "#hide\n",
    "for c in 'Cases, Deaths'.split(', '):\n",
    "    df_table[f'{c} (+)'] = (df_table[c] - df_table[f'P{c}']).clip(0)\n",
    "    #Clip ça veut dire, les chiffres negatif sont interdit\n",
    "df_table['Fatality Rate'] = (100* df_table['Deaths']/ df_table['Cases']).round(2)\n",
    "df_table['Continent'] = df_table['Country/Region'].map(mapping['map.continent'])\n",
    "df_table.head(5)"
   ]
  },
  {
   "cell_type": "code",
   "execution_count": 14,
   "id": "aboriginal-bulgaria",
   "metadata": {
    "execution": {
     "iopub.execute_input": "2021-04-12T12:04:26.736911Z",
     "iopub.status.busy": "2021-04-12T12:04:26.736313Z",
     "iopub.status.idle": "2021-04-12T12:04:26.738555Z",
     "shell.execute_reply": "2021-04-12T12:04:26.738061Z"
    },
    "papermill": {
     "duration": 0.041939,
     "end_time": "2021-04-12T12:04:26.738684",
     "exception": false,
     "start_time": "2021-04-12T12:04:26.696745",
     "status": "completed"
    },
    "tags": []
   },
   "outputs": [],
   "source": [
    "#hide\n",
    "#delete problematic countries from table\n",
    "df_table = df_table[~df_table['Country/Region'].isin(['Cape Verde', 'Cruise Ship', 'Kosovo'])]"
   ]
  },
  {
   "cell_type": "code",
   "execution_count": 15,
   "id": "fantastic-effect",
   "metadata": {
    "execution": {
     "iopub.execute_input": "2021-04-12T12:04:26.817603Z",
     "iopub.status.busy": "2021-04-12T12:04:26.817065Z",
     "iopub.status.idle": "2021-04-12T12:04:26.836239Z",
     "shell.execute_reply": "2021-04-12T12:04:26.835804Z"
    },
    "papermill": {
     "duration": 0.064588,
     "end_time": "2021-04-12T12:04:26.836377",
     "exception": false,
     "start_time": "2021-04-12T12:04:26.771789",
     "status": "completed"
    },
    "tags": []
   },
   "outputs": [
    {
     "data": {
      "text/html": [
       "<div>\n",
       "<style scoped>\n",
       "    .dataframe tbody tr th:only-of-type {\n",
       "        vertical-align: middle;\n",
       "    }\n",
       "\n",
       "    .dataframe tbody tr th {\n",
       "        vertical-align: top;\n",
       "    }\n",
       "\n",
       "    .dataframe thead th {\n",
       "        text-align: right;\n",
       "    }\n",
       "</style>\n",
       "<table border=\"1\" class=\"dataframe\">\n",
       "  <thead>\n",
       "    <tr style=\"text-align: right;\">\n",
       "      <th></th>\n",
       "      <th>Country/Region</th>\n",
       "      <th>Cases</th>\n",
       "      <th>Deaths</th>\n",
       "      <th>PCases</th>\n",
       "      <th>PDeaths</th>\n",
       "      <th>Cases (+)</th>\n",
       "      <th>Deaths (+)</th>\n",
       "      <th>Fatality Rate</th>\n",
       "      <th>Continent</th>\n",
       "    </tr>\n",
       "  </thead>\n",
       "  <tbody>\n",
       "    <tr>\n",
       "      <th>0</th>\n",
       "      <td>US</td>\n",
       "      <td>31197873</td>\n",
       "      <td>562066</td>\n",
       "      <td>31151495</td>\n",
       "      <td>561783</td>\n",
       "      <td>46378</td>\n",
       "      <td>283</td>\n",
       "      <td>1.8</td>\n",
       "      <td>North America</td>\n",
       "    </tr>\n",
       "    <tr>\n",
       "      <th>1</th>\n",
       "      <td>India</td>\n",
       "      <td>13527717</td>\n",
       "      <td>170179</td>\n",
       "      <td>13358805</td>\n",
       "      <td>169275</td>\n",
       "      <td>168912</td>\n",
       "      <td>904</td>\n",
       "      <td>1.3</td>\n",
       "      <td>Asia</td>\n",
       "    </tr>\n",
       "    <tr>\n",
       "      <th>2</th>\n",
       "      <td>Brazil</td>\n",
       "      <td>13482023</td>\n",
       "      <td>353137</td>\n",
       "      <td>13445006</td>\n",
       "      <td>351334</td>\n",
       "      <td>37017</td>\n",
       "      <td>1803</td>\n",
       "      <td>2.6</td>\n",
       "      <td>South America</td>\n",
       "    </tr>\n",
       "    <tr>\n",
       "      <th>3</th>\n",
       "      <td>France</td>\n",
       "      <td>5119585</td>\n",
       "      <td>98909</td>\n",
       "      <td>5001685</td>\n",
       "      <td>98213</td>\n",
       "      <td>117900</td>\n",
       "      <td>696</td>\n",
       "      <td>1.9</td>\n",
       "      <td>Europe</td>\n",
       "    </tr>\n",
       "    <tr>\n",
       "      <th>4</th>\n",
       "      <td>Russia</td>\n",
       "      <td>4589209</td>\n",
       "      <td>101282</td>\n",
       "      <td>4580633</td>\n",
       "      <td>100949</td>\n",
       "      <td>8576</td>\n",
       "      <td>333</td>\n",
       "      <td>2.2</td>\n",
       "      <td>Europe</td>\n",
       "    </tr>\n",
       "  </tbody>\n",
       "</table>\n",
       "</div>"
      ],
      "text/plain": [
       "  Country/Region     Cases  Deaths    PCases  PDeaths  Cases (+)  Deaths (+)  \\\n",
       "0             US  31197873  562066  31151495   561783      46378         283   \n",
       "1          India  13527717  170179  13358805   169275     168912         904   \n",
       "2         Brazil  13482023  353137  13445006   351334      37017        1803   \n",
       "3         France   5119585   98909   5001685    98213     117900         696   \n",
       "4         Russia   4589209  101282   4580633   100949       8576         333   \n",
       "\n",
       "   Fatality Rate      Continent  \n",
       "0            1.8  North America  \n",
       "1            1.3           Asia  \n",
       "2            2.6  South America  \n",
       "3            1.9         Europe  \n",
       "4            2.2         Europe  "
      ]
     },
     "execution_count": 15,
     "metadata": {},
     "output_type": "execute_result"
    }
   ],
   "source": [
    "#hide\n",
    "df_table = (pd.DataFrame(dict(Cases=dfc_cases, Deaths=dfc_deaths, PCases=dfp_cases, PDeaths=dfp_deaths))\n",
    "             .sort_values(by=['Cases', 'Deaths'], ascending=[False, False])\n",
    "             .reset_index())\n",
    "df_table.rename(columns={'index': 'Country/Region'}, inplace=True)\n",
    "for c in 'Cases, Deaths'.split(', '):\n",
    "    df_table[f'{c} (+)'] = (df_table[c] - df_table[f'P{c}']).clip(0)  # DATA BUG\n",
    "df_table['Fatality Rate'] = (100 * df_table['Deaths'] / df_table['Cases']).round(1)\n",
    "df_table['Continent'] = df_table['Country/Region'].map(mapping['map.continent'])\n",
    "df_table.head(5)"
   ]
  },
  {
   "cell_type": "code",
   "execution_count": 16,
   "id": "fewer-occasion",
   "metadata": {
    "execution": {
     "iopub.execute_input": "2021-04-12T12:04:26.909952Z",
     "iopub.status.busy": "2021-04-12T12:04:26.909407Z",
     "iopub.status.idle": "2021-04-12T12:04:26.911449Z",
     "shell.execute_reply": "2021-04-12T12:04:26.911887Z"
    },
    "papermill": {
     "duration": 0.042256,
     "end_time": "2021-04-12T12:04:26.912015",
     "exception": false,
     "start_time": "2021-04-12T12:04:26.869759",
     "status": "completed"
    },
    "tags": []
   },
   "outputs": [],
   "source": [
    "#hide\n",
    "#delete problematic countries from table\n",
    "df_table = df_table[~df_table['Country/Region'].isin(['Cape Verde', 'Cruise Ship', 'Kosovo'])]"
   ]
  },
  {
   "cell_type": "code",
   "execution_count": 17,
   "id": "related-center",
   "metadata": {
    "execution": {
     "iopub.execute_input": "2021-04-12T12:04:26.986944Z",
     "iopub.status.busy": "2021-04-12T12:04:26.986357Z",
     "iopub.status.idle": "2021-04-12T12:04:27.000766Z",
     "shell.execute_reply": "2021-04-12T12:04:27.000241Z"
    },
    "papermill": {
     "duration": 0.056288,
     "end_time": "2021-04-12T12:04:27.000892",
     "exception": false,
     "start_time": "2021-04-12T12:04:26.944604",
     "status": "completed"
    },
    "tags": []
   },
   "outputs": [],
   "source": [
    "#hide\n",
    "metrics = [df_table.columns[index] for index in [1,2,5,6]]\n",
    "# s_china = df_table[df_table['Country/Region'].eq('China')][metrics].sum().add_prefix('China ')\n",
    "s_us = df_table[df_table['Country/Region'].eq('US')][metrics].sum().add_prefix('US ')\n",
    "s_eu = df_table[df_table['Continent'].eq('Europe')][metrics].sum().add_prefix('EU ')\n",
    "s_ind = df_table[df_table['Country/Region'].eq('India')][metrics].sum().add_prefix('India ')\n",
    "summary = {'updated': pd.to_datetime(dt_today), 'since': pd.to_datetime(dt_yday)}\n",
    "summary = {'updated': pd.to_datetime(dt_today), 'since': pd.to_datetime(dt_yday)}\n",
    "summary = {**summary, **df_table[metrics].sum(), **s_ind, **s_us, **s_eu}"
   ]
  },
  {
   "cell_type": "code",
   "execution_count": 18,
   "id": "engaging-syndrome",
   "metadata": {
    "execution": {
     "iopub.execute_input": "2021-04-12T12:04:27.076022Z",
     "iopub.status.busy": "2021-04-12T12:04:27.075445Z",
     "iopub.status.idle": "2021-04-12T12:04:27.088848Z",
     "shell.execute_reply": "2021-04-12T12:04:27.088364Z"
    },
    "papermill": {
     "duration": 0.054455,
     "end_time": "2021-04-12T12:04:27.088978",
     "exception": false,
     "start_time": "2021-04-12T12:04:27.034523",
     "status": "completed"
    },
    "tags": []
   },
   "outputs": [],
   "source": [
    "#hide\n",
    "dft_ct_new_cases = dft_cases.groupby(COL_REGION)[dt_cols].sum().diff(axis=1).fillna(0).astype(int)"
   ]
  },
  {
   "cell_type": "code",
   "execution_count": 19,
   "id": "neutral-assignment",
   "metadata": {
    "execution": {
     "iopub.execute_input": "2021-04-12T12:04:27.165373Z",
     "iopub.status.busy": "2021-04-12T12:04:27.164794Z",
     "iopub.status.idle": "2021-04-12T12:04:27.167345Z",
     "shell.execute_reply": "2021-04-12T12:04:27.166882Z"
    },
    "papermill": {
     "duration": 0.04363,
     "end_time": "2021-04-12T12:04:27.167466",
     "exception": false,
     "start_time": "2021-04-12T12:04:27.123836",
     "status": "completed"
    },
    "tags": []
   },
   "outputs": [],
   "source": [
    "#hide\n",
    "everydaycases = dft_ct_new_cases.cumsum(axis=1)"
   ]
  },
  {
   "cell_type": "code",
   "execution_count": 20,
   "id": "parliamentary-calgary",
   "metadata": {
    "execution": {
     "iopub.execute_input": "2021-04-12T12:04:27.240908Z",
     "iopub.status.busy": "2021-04-12T12:04:27.240312Z",
     "iopub.status.idle": "2021-04-12T12:04:27.748981Z",
     "shell.execute_reply": "2021-04-12T12:04:27.748431Z"
    },
    "papermill": {
     "duration": 0.546888,
     "end_time": "2021-04-12T12:04:27.749124",
     "exception": false,
     "start_time": "2021-04-12T12:04:27.202236",
     "status": "completed"
    },
    "tags": []
   },
   "outputs": [],
   "source": [
    "#hide\n",
    "import pandas as pd\n",
    "import matplotlib.pyplot as plt\n",
    "import matplotlib.ticker as ticker\n",
    "import matplotlib.animation as animation\n",
    "from IPython.display import HTML"
   ]
  },
  {
   "cell_type": "code",
   "execution_count": 21,
   "id": "lasting-extraction",
   "metadata": {
    "execution": {
     "iopub.execute_input": "2021-04-12T12:04:27.821699Z",
     "iopub.status.busy": "2021-04-12T12:04:27.821157Z",
     "iopub.status.idle": "2021-04-12T12:04:27.826449Z",
     "shell.execute_reply": "2021-04-12T12:04:27.825908Z"
    },
    "papermill": {
     "duration": 0.043553,
     "end_time": "2021-04-12T12:04:27.826562",
     "exception": false,
     "start_time": "2021-04-12T12:04:27.783009",
     "status": "completed"
    },
    "tags": []
   },
   "outputs": [],
   "source": [
    "#hide\n",
    "t = everydaycases.stack()"
   ]
  },
  {
   "cell_type": "code",
   "execution_count": 22,
   "id": "premier-sleeve",
   "metadata": {
    "execution": {
     "iopub.execute_input": "2021-04-12T12:04:27.900512Z",
     "iopub.status.busy": "2021-04-12T12:04:27.899908Z",
     "iopub.status.idle": "2021-04-12T12:04:27.907960Z",
     "shell.execute_reply": "2021-04-12T12:04:27.907306Z"
    },
    "papermill": {
     "duration": 0.048888,
     "end_time": "2021-04-12T12:04:27.908117",
     "exception": false,
     "start_time": "2021-04-12T12:04:27.859229",
     "status": "completed"
    },
    "tags": []
   },
   "outputs": [],
   "source": [
    "#hide\n",
    "g = t.reset_index(['Country/Region'])"
   ]
  },
  {
   "cell_type": "code",
   "execution_count": 23,
   "id": "distributed-pittsburgh",
   "metadata": {
    "execution": {
     "iopub.execute_input": "2021-04-12T12:04:27.980183Z",
     "iopub.status.busy": "2021-04-12T12:04:27.979174Z",
     "iopub.status.idle": "2021-04-12T12:04:27.980826Z",
     "shell.execute_reply": "2021-04-12T12:04:27.981250Z"
    },
    "papermill": {
     "duration": 0.04052,
     "end_time": "2021-04-12T12:04:27.981378",
     "exception": false,
     "start_time": "2021-04-12T12:04:27.940858",
     "status": "completed"
    },
    "tags": []
   },
   "outputs": [],
   "source": [
    "#hide\n",
    "g.index.name = 'date'"
   ]
  },
  {
   "cell_type": "code",
   "execution_count": 24,
   "id": "naked-donor",
   "metadata": {
    "execution": {
     "iopub.execute_input": "2021-04-12T12:04:28.051649Z",
     "iopub.status.busy": "2021-04-12T12:04:28.051064Z",
     "iopub.status.idle": "2021-04-12T12:04:28.053342Z",
     "shell.execute_reply": "2021-04-12T12:04:28.052853Z"
    },
    "papermill": {
     "duration": 0.038794,
     "end_time": "2021-04-12T12:04:28.053462",
     "exception": false,
     "start_time": "2021-04-12T12:04:28.014668",
     "status": "completed"
    },
    "tags": []
   },
   "outputs": [],
   "source": [
    "# #hide\n",
    "# g = g.reset_index(['date'])"
   ]
  },
  {
   "cell_type": "code",
   "execution_count": 25,
   "id": "incomplete-mustang",
   "metadata": {
    "execution": {
     "iopub.execute_input": "2021-04-12T12:04:28.124872Z",
     "iopub.status.busy": "2021-04-12T12:04:28.124323Z",
     "iopub.status.idle": "2021-04-12T12:04:28.126765Z",
     "shell.execute_reply": "2021-04-12T12:04:28.126267Z"
    },
    "papermill": {
     "duration": 0.039362,
     "end_time": "2021-04-12T12:04:28.126884",
     "exception": false,
     "start_time": "2021-04-12T12:04:28.087522",
     "status": "completed"
    },
    "tags": []
   },
   "outputs": [],
   "source": [
    "#hide\n",
    "# g.head()"
   ]
  },
  {
   "cell_type": "code",
   "execution_count": 26,
   "id": "specific-kruger",
   "metadata": {
    "execution": {
     "iopub.execute_input": "2021-04-12T12:04:28.198803Z",
     "iopub.status.busy": "2021-04-12T12:04:28.197793Z",
     "iopub.status.idle": "2021-04-12T12:04:28.199878Z",
     "shell.execute_reply": "2021-04-12T12:04:28.200715Z"
    },
    "papermill": {
     "duration": 0.041264,
     "end_time": "2021-04-12T12:04:28.200940",
     "exception": false,
     "start_time": "2021-04-12T12:04:28.159676",
     "status": "completed"
    },
    "tags": []
   },
   "outputs": [],
   "source": [
    "#hide\n",
    "# g.columns = ['date','country','cases']"
   ]
  },
  {
   "cell_type": "code",
   "execution_count": 27,
   "id": "tender-conversion",
   "metadata": {
    "execution": {
     "iopub.execute_input": "2021-04-12T12:04:28.272364Z",
     "iopub.status.busy": "2021-04-12T12:04:28.271812Z",
     "iopub.status.idle": "2021-04-12T12:04:28.274265Z",
     "shell.execute_reply": "2021-04-12T12:04:28.273808Z"
    },
    "papermill": {
     "duration": 0.038688,
     "end_time": "2021-04-12T12:04:28.274378",
     "exception": false,
     "start_time": "2021-04-12T12:04:28.235690",
     "status": "completed"
    },
    "tags": []
   },
   "outputs": [],
   "source": [
    "#hide\n",
    "# g['continent'] = g.country"
   ]
  },
  {
   "cell_type": "code",
   "execution_count": 28,
   "id": "substantial-wilderness",
   "metadata": {
    "execution": {
     "iopub.execute_input": "2021-04-12T12:04:28.342560Z",
     "iopub.status.busy": "2021-04-12T12:04:28.342036Z",
     "iopub.status.idle": "2021-04-12T12:04:28.344370Z",
     "shell.execute_reply": "2021-04-12T12:04:28.344890Z"
    },
    "papermill": {
     "duration": 0.038371,
     "end_time": "2021-04-12T12:04:28.345019",
     "exception": false,
     "start_time": "2021-04-12T12:04:28.306648",
     "status": "completed"
    },
    "tags": []
   },
   "outputs": [],
   "source": [
    "#hide\n",
    "# cols = list(g.columns.values)"
   ]
  },
  {
   "cell_type": "code",
   "execution_count": 29,
   "id": "solved-farming",
   "metadata": {
    "execution": {
     "iopub.execute_input": "2021-04-12T12:04:28.416591Z",
     "iopub.status.busy": "2021-04-12T12:04:28.416033Z",
     "iopub.status.idle": "2021-04-12T12:04:28.418146Z",
     "shell.execute_reply": "2021-04-12T12:04:28.417696Z"
    },
    "papermill": {
     "duration": 0.040151,
     "end_time": "2021-04-12T12:04:28.418254",
     "exception": false,
     "start_time": "2021-04-12T12:04:28.378103",
     "status": "completed"
    },
    "tags": []
   },
   "outputs": [],
   "source": [
    "#hide\n",
    "# cols.insert(0, cols.pop())"
   ]
  },
  {
   "cell_type": "code",
   "execution_count": 30,
   "id": "executed-adoption",
   "metadata": {
    "execution": {
     "iopub.execute_input": "2021-04-12T12:04:28.485241Z",
     "iopub.status.busy": "2021-04-12T12:04:28.484703Z",
     "iopub.status.idle": "2021-04-12T12:04:28.487053Z",
     "shell.execute_reply": "2021-04-12T12:04:28.486562Z"
    },
    "papermill": {
     "duration": 0.036917,
     "end_time": "2021-04-12T12:04:28.487170",
     "exception": false,
     "start_time": "2021-04-12T12:04:28.450253",
     "status": "completed"
    },
    "tags": []
   },
   "outputs": [],
   "source": [
    "#hide\n",
    "# g = g[cols]"
   ]
  },
  {
   "cell_type": "code",
   "execution_count": 31,
   "id": "subject-dublin",
   "metadata": {
    "execution": {
     "iopub.execute_input": "2021-04-12T12:04:28.554242Z",
     "iopub.status.busy": "2021-04-12T12:04:28.553683Z",
     "iopub.status.idle": "2021-04-12T12:04:28.555893Z",
     "shell.execute_reply": "2021-04-12T12:04:28.555463Z"
    },
    "papermill": {
     "duration": 0.037321,
     "end_time": "2021-04-12T12:04:28.556005",
     "exception": false,
     "start_time": "2021-04-12T12:04:28.518684",
     "status": "completed"
    },
    "tags": []
   },
   "outputs": [],
   "source": [
    "#hide\n",
    "# g['continent'] = g['continent'].map(mapping['map.continent'])"
   ]
  },
  {
   "cell_type": "code",
   "execution_count": 32,
   "id": "freelance-scout",
   "metadata": {
    "execution": {
     "iopub.execute_input": "2021-04-12T12:04:28.624380Z",
     "iopub.status.busy": "2021-04-12T12:04:28.623818Z",
     "iopub.status.idle": "2021-04-12T12:04:28.626136Z",
     "shell.execute_reply": "2021-04-12T12:04:28.626670Z"
    },
    "papermill": {
     "duration": 0.038848,
     "end_time": "2021-04-12T12:04:28.626803",
     "exception": false,
     "start_time": "2021-04-12T12:04:28.587955",
     "status": "completed"
    },
    "tags": []
   },
   "outputs": [],
   "source": [
    "#hide\n",
    "# g.head()"
   ]
  },
  {
   "cell_type": "code",
   "execution_count": 33,
   "id": "limited-engine",
   "metadata": {
    "execution": {
     "iopub.execute_input": "2021-04-12T12:04:28.694844Z",
     "iopub.status.busy": "2021-04-12T12:04:28.694270Z",
     "iopub.status.idle": "2021-04-12T12:04:28.696641Z",
     "shell.execute_reply": "2021-04-12T12:04:28.697155Z"
    },
    "papermill": {
     "duration": 0.039193,
     "end_time": "2021-04-12T12:04:28.697280",
     "exception": false,
     "start_time": "2021-04-12T12:04:28.658087",
     "status": "completed"
    },
    "tags": []
   },
   "outputs": [],
   "source": [
    "# hide\n",
    "# g['date'] = g['date'].astype('datetime64[ns]')"
   ]
  },
  {
   "cell_type": "code",
   "execution_count": 34,
   "id": "sophisticated-supervisor",
   "metadata": {
    "execution": {
     "iopub.execute_input": "2021-04-12T12:04:28.765186Z",
     "iopub.status.busy": "2021-04-12T12:04:28.764652Z",
     "iopub.status.idle": "2021-04-12T12:04:28.766699Z",
     "shell.execute_reply": "2021-04-12T12:04:28.767229Z"
    },
    "papermill": {
     "duration": 0.038141,
     "end_time": "2021-04-12T12:04:28.767360",
     "exception": false,
     "start_time": "2021-04-12T12:04:28.729219",
     "status": "completed"
    },
    "tags": []
   },
   "outputs": [],
   "source": [
    "#hide\n",
    "# g['date'] = g.date.dt.dayofyear"
   ]
  },
  {
   "cell_type": "code",
   "execution_count": 35,
   "id": "inside-dubai",
   "metadata": {
    "execution": {
     "iopub.execute_input": "2021-04-12T12:04:28.835995Z",
     "iopub.status.busy": "2021-04-12T12:04:28.834996Z",
     "iopub.status.idle": "2021-04-12T12:04:28.837106Z",
     "shell.execute_reply": "2021-04-12T12:04:28.837916Z"
    },
    "papermill": {
     "duration": 0.039511,
     "end_time": "2021-04-12T12:04:28.838136",
     "exception": false,
     "start_time": "2021-04-12T12:04:28.798625",
     "status": "completed"
    },
    "tags": []
   },
   "outputs": [],
   "source": [
    "#hide\n",
    "# g = g.rename(columns= {'continent':'group','country':'name','cases':'value'})"
   ]
  },
  {
   "cell_type": "code",
   "execution_count": 36,
   "id": "fleet-motorcycle",
   "metadata": {
    "execution": {
     "iopub.execute_input": "2021-04-12T12:04:28.910625Z",
     "iopub.status.busy": "2021-04-12T12:04:28.909621Z",
     "iopub.status.idle": "2021-04-12T12:04:28.911678Z",
     "shell.execute_reply": "2021-04-12T12:04:28.912509Z"
    },
    "papermill": {
     "duration": 0.040149,
     "end_time": "2021-04-12T12:04:28.912732",
     "exception": false,
     "start_time": "2021-04-12T12:04:28.872583",
     "status": "completed"
    },
    "tags": []
   },
   "outputs": [],
   "source": [
    "#hide\n",
    "# cols = ['name','group','day','value']"
   ]
  },
  {
   "cell_type": "code",
   "execution_count": 37,
   "id": "continued-sleeping",
   "metadata": {
    "execution": {
     "iopub.execute_input": "2021-04-12T12:04:28.985367Z",
     "iopub.status.busy": "2021-04-12T12:04:28.984834Z",
     "iopub.status.idle": "2021-04-12T12:04:28.987160Z",
     "shell.execute_reply": "2021-04-12T12:04:28.986676Z"
    },
    "papermill": {
     "duration": 0.040194,
     "end_time": "2021-04-12T12:04:28.987278",
     "exception": false,
     "start_time": "2021-04-12T12:04:28.947084",
     "status": "completed"
    },
    "tags": []
   },
   "outputs": [],
   "source": [
    "#hide\n",
    "# g.rename(columns= {'date':'day'},inplace = True)"
   ]
  },
  {
   "cell_type": "code",
   "execution_count": 38,
   "id": "major-fight",
   "metadata": {
    "execution": {
     "iopub.execute_input": "2021-04-12T12:04:29.056622Z",
     "iopub.status.busy": "2021-04-12T12:04:29.056065Z",
     "iopub.status.idle": "2021-04-12T12:04:29.058519Z",
     "shell.execute_reply": "2021-04-12T12:04:29.058090Z"
    },
    "papermill": {
     "duration": 0.038712,
     "end_time": "2021-04-12T12:04:29.058638",
     "exception": false,
     "start_time": "2021-04-12T12:04:29.019926",
     "status": "completed"
    },
    "tags": []
   },
   "outputs": [],
   "source": [
    "#hide\n",
    "# g = g[cols]"
   ]
  },
  {
   "cell_type": "code",
   "execution_count": 39,
   "id": "structured-mobile",
   "metadata": {
    "execution": {
     "iopub.execute_input": "2021-04-12T12:04:29.127433Z",
     "iopub.status.busy": "2021-04-12T12:04:29.126862Z",
     "iopub.status.idle": "2021-04-12T12:04:29.129045Z",
     "shell.execute_reply": "2021-04-12T12:04:29.128586Z"
    },
    "papermill": {
     "duration": 0.037637,
     "end_time": "2021-04-12T12:04:29.129157",
     "exception": false,
     "start_time": "2021-04-12T12:04:29.091520",
     "status": "completed"
    },
    "tags": []
   },
   "outputs": [],
   "source": [
    "# #hide\n",
    "# g = g[g.group.notna()]"
   ]
  },
  {
   "cell_type": "code",
   "execution_count": 40,
   "id": "determined-closing",
   "metadata": {
    "execution": {
     "iopub.execute_input": "2021-04-12T12:04:29.199283Z",
     "iopub.status.busy": "2021-04-12T12:04:29.198671Z",
     "iopub.status.idle": "2021-04-12T12:04:29.201329Z",
     "shell.execute_reply": "2021-04-12T12:04:29.200814Z"
    },
    "papermill": {
     "duration": 0.039915,
     "end_time": "2021-04-12T12:04:29.201441",
     "exception": false,
     "start_time": "2021-04-12T12:04:29.161526",
     "status": "completed"
    },
    "tags": []
   },
   "outputs": [],
   "source": [
    "# #hide\n",
    "# colors = dict(zip(\n",
    "#     [\"Oceania\", \"Europe\", \"Asia\", \"South America\", \"Middle East\", \"North America\", \"Africa\"],\n",
    "#     [\"#adb0ff\", \"#ffb3ff\", \"#90d595\", \"#e48381\", \"#aafbff\", \"#f7bb5f\", \"#eafb50\"]\n",
    "# ))\n",
    "# group_lk = g.set_index('name')['group'].to_dict()"
   ]
  },
  {
   "cell_type": "code",
   "execution_count": null,
   "id": "gross-drinking",
   "metadata": {
    "papermill": {
     "duration": 0.032794,
     "end_time": "2021-04-12T12:04:29.267312",
     "exception": false,
     "start_time": "2021-04-12T12:04:29.234518",
     "status": "completed"
    },
    "tags": []
   },
   "outputs": [],
   "source": []
  },
  {
   "cell_type": "code",
   "execution_count": 41,
   "id": "subject-macintosh",
   "metadata": {
    "execution": {
     "iopub.execute_input": "2021-04-12T12:04:29.335854Z",
     "iopub.status.busy": "2021-04-12T12:04:29.335301Z",
     "iopub.status.idle": "2021-04-12T12:04:29.337515Z",
     "shell.execute_reply": "2021-04-12T12:04:29.338026Z"
    },
    "papermill": {
     "duration": 0.03922,
     "end_time": "2021-04-12T12:04:29.338155",
     "exception": false,
     "start_time": "2021-04-12T12:04:29.298935",
     "status": "completed"
    },
    "tags": []
   },
   "outputs": [],
   "source": [
    "# #hide\n",
    "# fig, ax = plt.subplots(figsize=(15, 8))\n",
    "\n",
    "# def draw_barchart(current_day):\n",
    "#     dff = g[g['day'].eq(current_day)].sort_values(by='value', ascending=True).tail(10)\n",
    "#     ax.clear()\n",
    "#     ax.barh(dff['name'], dff['value'], color=[colors[group_lk[x]] for x in dff['name']])\n",
    "#     dx = dff['value'].max() / 200\n",
    "    \n",
    "#     for i, (value, name) in enumerate(zip(dff['value'], dff['name'])):\n",
    "#         ax.text(value-dx, i,     name,           size=14, weight=600, ha='right', va='bottom')\n",
    "#         ax.text(value-dx, i-.25, group_lk[name], size=10, color='#444444', ha='right', va='baseline')\n",
    "#         ax.text(value+dx, i,     f'{value:,.0f}',  size=14, ha='left',  va='center')\n",
    "#     ax.text(1, 0.4, current_day, transform=ax.transAxes, color='#777777', size=46, ha='right', weight=800)\n",
    "#     ax.text(0, 1.06, 'Population (thousands)', transform=ax.transAxes, size=12, color='#777777')\n",
    "#     ax.xaxis.set_major_formatter(ticker.StrMethodFormatter('{x:,.0f}'))\n",
    "#     ax.xaxis.set_ticks_position('top')\n",
    "#     ax.tick_params(axis='x', colors='#777777', labelsize=12)\n",
    "#     ax.set_yticks([])\n",
    "#     ax.margins(0, 0.01)\n",
    "#     ax.grid(which='major', axis='x', linestyle='-')\n",
    "#     ax.set_axisbelow(True)\n",
    "    \n",
    "#     ax.text(0, 1.15, 'Coronavirus',\n",
    "#             transform=ax.transAxes, size=24, weight=600, ha='left', va='top')\n",
    "# #     ax.text(1, 0, 'by @pratapvardhan; credit @jburnmurdoch', transform=ax.transAxes, color='#777777', ha='right',\n",
    "# #             bbox=dict(facecolor='white', alpha=0.8, edgecolor='white'))\n",
    "#     plt.box(False)"
   ]
  },
  {
   "cell_type": "code",
   "execution_count": 42,
   "id": "sexual-wages",
   "metadata": {
    "execution": {
     "iopub.execute_input": "2021-04-12T12:04:29.405583Z",
     "iopub.status.busy": "2021-04-12T12:04:29.405046Z",
     "iopub.status.idle": "2021-04-12T12:04:29.407320Z",
     "shell.execute_reply": "2021-04-12T12:04:29.407767Z"
    },
    "papermill": {
     "duration": 0.037531,
     "end_time": "2021-04-12T12:04:29.407909",
     "exception": false,
     "start_time": "2021-04-12T12:04:29.370378",
     "status": "completed"
    },
    "tags": []
   },
   "outputs": [],
   "source": [
    "# #hide_input\n",
    "# fig, ax = plt.subplots(figsize=(15, 8))\n",
    "# animator = animation.FuncAnimation(fig, draw_barchart, frames=range(g.day.values.min(), g.day.values.max()))\n",
    "# HTML(animator.to_jshtml())\n",
    "# # or use animator.to_html5_video() or animator.save() "
   ]
  },
  {
   "cell_type": "code",
   "execution_count": null,
   "id": "australian-container",
   "metadata": {
    "papermill": {
     "duration": 0.032164,
     "end_time": "2021-04-12T12:04:29.472641",
     "exception": false,
     "start_time": "2021-04-12T12:04:29.440477",
     "status": "completed"
    },
    "tags": []
   },
   "outputs": [],
   "source": []
  },
  {
   "cell_type": "code",
   "execution_count": null,
   "id": "mediterranean-pontiac",
   "metadata": {
    "papermill": {
     "duration": 0.031167,
     "end_time": "2021-04-12T12:04:29.536780",
     "exception": false,
     "start_time": "2021-04-12T12:04:29.505613",
     "status": "completed"
    },
    "tags": []
   },
   "outputs": [],
   "source": []
  },
  {
   "cell_type": "code",
   "execution_count": null,
   "id": "aging-legislature",
   "metadata": {
    "papermill": {
     "duration": 0.03115,
     "end_time": "2021-04-12T12:04:29.599279",
     "exception": false,
     "start_time": "2021-04-12T12:04:29.568129",
     "status": "completed"
    },
    "tags": []
   },
   "outputs": [],
   "source": []
  }
 ],
 "metadata": {
  "kernelspec": {
   "display_name": "Python 3",
   "language": "python",
   "name": "python3"
  },
  "language_info": {
   "codemirror_mode": {
    "name": "ipython",
    "version": 3
   },
   "file_extension": ".py",
   "mimetype": "text/x-python",
   "name": "python",
   "nbconvert_exporter": "python",
   "pygments_lexer": "ipython3",
   "version": "3.6.13"
  },
  "papermill": {
   "duration": 8.33085,
   "end_time": "2021-04-12T12:04:31.925425",
   "environment_variables": {},
   "exception": null,
   "input_path": "2020-03-21-covid19exp.ipynb",
   "output_path": "2020-03-21-covid19exp.ipynb",
   "parameters": {},
   "start_time": "2021-04-12T12:04:23.594575",
   "version": "2.0.0"
  }
 },
 "nbformat": 4,
 "nbformat_minor": 5
}