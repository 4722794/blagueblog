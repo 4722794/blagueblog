{
 "cells": [
  {
   "cell_type": "markdown",
   "id": "muslim-click",
   "metadata": {
    "papermill": {
     "duration": 0.034759,
     "end_time": "2022-06-16T12:16:17.480621",
     "exception": false,
     "start_time": "2022-06-16T12:16:17.445862",
     "status": "completed"
    },
    "tags": []
   },
   "source": [
    "# COVID-19 Case Race\n",
    "> A race chart to see rising cases around the world\n",
    "\n",
    "- author: Hargun Oberoi\n",
    "- image: images/covid-overview.png\n",
    "- hide: false\n",
    "- badges: false"
   ]
  },
  {
   "cell_type": "code",
   "execution_count": 1,
   "id": "proof-material",
   "metadata": {
    "execution": {
     "iopub.execute_input": "2022-06-16T12:16:17.550775Z",
     "iopub.status.busy": "2022-06-16T12:16:17.550163Z",
     "iopub.status.idle": "2022-06-16T12:16:17.850420Z",
     "shell.execute_reply": "2022-06-16T12:16:17.849925Z"
    },
    "papermill": {
     "duration": 0.338469,
     "end_time": "2022-06-16T12:16:17.850545",
     "exception": false,
     "start_time": "2022-06-16T12:16:17.512076",
     "status": "completed"
    },
    "tags": []
   },
   "outputs": [],
   "source": [
    "#hide\n",
    "import numpy as np\n",
    "import pandas as pd\n",
    "from jinja2 import Template\n",
    "from IPython.display import HTML"
   ]
  },
  {
   "cell_type": "code",
   "execution_count": 2,
   "id": "developed-terminology",
   "metadata": {
    "execution": {
     "iopub.execute_input": "2022-06-16T12:16:17.908704Z",
     "iopub.status.busy": "2022-06-16T12:16:17.908157Z",
     "iopub.status.idle": "2022-06-16T12:16:17.910526Z",
     "shell.execute_reply": "2022-06-16T12:16:17.911022Z"
    },
    "papermill": {
     "duration": 0.033759,
     "end_time": "2022-06-16T12:16:17.911143",
     "exception": false,
     "start_time": "2022-06-16T12:16:17.877384",
     "status": "completed"
    },
    "tags": []
   },
   "outputs": [],
   "source": [
    "#hide\n",
    "\n",
    "# FETCH\n",
    "base_url = 'https://raw.githubusercontent.com/pratapvardhan/notebooks/master/covid19/'\n",
    "paths = {\n",
    "    'mapping': base_url + 'mapping_countries.csv',\n",
    "    'overview': base_url + 'overview.tpl'\n",
    "}"
   ]
  },
  {
   "cell_type": "code",
   "execution_count": 3,
   "id": "dynamic-saver",
   "metadata": {
    "execution": {
     "iopub.execute_input": "2022-06-16T12:16:17.976991Z",
     "iopub.status.busy": "2022-06-16T12:16:17.975391Z",
     "iopub.status.idle": "2022-06-16T12:16:17.980124Z",
     "shell.execute_reply": "2022-06-16T12:16:17.979703Z"
    },
    "papermill": {
     "duration": 0.038881,
     "end_time": "2022-06-16T12:16:17.980225",
     "exception": false,
     "start_time": "2022-06-16T12:16:17.941344",
     "status": "completed"
    },
    "tags": []
   },
   "outputs": [
    {
     "data": {
      "text/plain": [
       "'https://raw.githubusercontent.com/pratapvardhan/notebooks/master/covid19/mapping_countries.csv'"
      ]
     },
     "execution_count": 3,
     "metadata": {},
     "output_type": "execute_result"
    }
   ],
   "source": [
    "#hide\n",
    "paths['mapping']"
   ]
  },
  {
   "cell_type": "code",
   "execution_count": 4,
   "id": "urban-software",
   "metadata": {
    "execution": {
     "iopub.execute_input": "2022-06-16T12:16:18.043268Z",
     "iopub.status.busy": "2022-06-16T12:16:18.042578Z",
     "iopub.status.idle": "2022-06-16T12:16:18.043956Z",
     "shell.execute_reply": "2022-06-16T12:16:18.044570Z"
    },
    "papermill": {
     "duration": 0.037894,
     "end_time": "2022-06-16T12:16:18.044709",
     "exception": false,
     "start_time": "2022-06-16T12:16:18.006815",
     "status": "completed"
    },
    "tags": []
   },
   "outputs": [],
   "source": [
    "#hide\n",
    "def get_mappings(url):\n",
    "    df = pd.read_csv(url)\n",
    "    return {\n",
    "        'df': df,\n",
    "        'replace.country': dict(df.dropna(subset=['Name']).set_index('Country')['Name']),\n",
    "        'map.continent': dict(df.set_index('Name')['Continent'])\n",
    "    }"
   ]
  },
  {
   "cell_type": "code",
   "execution_count": 5,
   "id": "intimate-machinery",
   "metadata": {
    "execution": {
     "iopub.execute_input": "2022-06-16T12:16:18.102884Z",
     "iopub.status.busy": "2022-06-16T12:16:18.102352Z",
     "iopub.status.idle": "2022-06-16T12:16:18.130568Z",
     "shell.execute_reply": "2022-06-16T12:16:18.130977Z"
    },
    "papermill": {
     "duration": 0.060322,
     "end_time": "2022-06-16T12:16:18.131113",
     "exception": false,
     "start_time": "2022-06-16T12:16:18.070791",
     "status": "completed"
    },
    "tags": []
   },
   "outputs": [],
   "source": [
    "#hide\n",
    "mapping = get_mappings(paths['mapping'])"
   ]
  },
  {
   "cell_type": "code",
   "execution_count": 6,
   "id": "certified-tactics",
   "metadata": {
    "execution": {
     "iopub.execute_input": "2022-06-16T12:16:18.190509Z",
     "iopub.status.busy": "2022-06-16T12:16:18.187108Z",
     "iopub.status.idle": "2022-06-16T12:16:18.195556Z",
     "shell.execute_reply": "2022-06-16T12:16:18.194099Z"
    },
    "papermill": {
     "duration": 0.038151,
     "end_time": "2022-06-16T12:16:18.195681",
     "exception": false,
     "start_time": "2022-06-16T12:16:18.157530",
     "status": "completed"
    },
    "tags": []
   },
   "outputs": [],
   "source": [
    "#hide\n",
    "def get_template(path):\n",
    "    from urllib.parse import urlparse\n",
    "    if bool(urlparse(path).netloc):\n",
    "        from urllib.request import urlopen\n",
    "        return urlopen(path).read().decode('utf8')\n",
    "    return open(path).read()"
   ]
  },
  {
   "cell_type": "code",
   "execution_count": 7,
   "id": "realistic-blast",
   "metadata": {
    "execution": {
     "iopub.execute_input": "2022-06-16T12:16:18.256123Z",
     "iopub.status.busy": "2022-06-16T12:16:18.255563Z",
     "iopub.status.idle": "2022-06-16T12:16:18.257722Z",
     "shell.execute_reply": "2022-06-16T12:16:18.257301Z"
    },
    "papermill": {
     "duration": 0.033197,
     "end_time": "2022-06-16T12:16:18.257848",
     "exception": false,
     "start_time": "2022-06-16T12:16:18.224651",
     "status": "completed"
    },
    "tags": []
   },
   "outputs": [],
   "source": [
    "#hide\n",
    "def get_frame(name):\n",
    "    url = (\n",
    "        'https://raw.githubusercontent.com/CSSEGISandData/COVID-19/master/csse_covid_19_data/'\n",
    "        f'csse_covid_19_time_series/time_series_covid19_{name}_global.csv')\n",
    "    df = pd.read_csv(url)\n",
    "    # rename countries\n",
    "    df['Country/Region'] = df['Country/Region'].replace(mapping['replace.country'])\n",
    "    return df"
   ]
  },
  {
   "cell_type": "code",
   "execution_count": 8,
   "id": "affiliated-characterization",
   "metadata": {
    "execution": {
     "iopub.execute_input": "2022-06-16T12:16:18.316494Z",
     "iopub.status.busy": "2022-06-16T12:16:18.315943Z",
     "iopub.status.idle": "2022-06-16T12:16:18.317861Z",
     "shell.execute_reply": "2022-06-16T12:16:18.322787Z"
    },
    "papermill": {
     "duration": 0.038614,
     "end_time": "2022-06-16T12:16:18.322945",
     "exception": false,
     "start_time": "2022-06-16T12:16:18.284331",
     "status": "completed"
    },
    "tags": []
   },
   "outputs": [],
   "source": [
    "#hide\n",
    "def get_dates(df):\n",
    "    dt_cols = df.columns[~df.columns.isin(['Province/State', 'Country/Region', 'Lat', 'Long'])]\n",
    "    LAST_DATE_I = -1\n",
    "    # sometimes last column may be empty, then go backwards\n",
    "    for i in range(-1, -len(dt_cols), -1):\n",
    "        if not df[dt_cols[i]].fillna(0).eq(0).all():\n",
    "            LAST_DATE_I = i\n",
    "            break\n",
    "    return LAST_DATE_I, dt_cols"
   ]
  },
  {
   "cell_type": "code",
   "execution_count": 9,
   "id": "recent-optimization",
   "metadata": {
    "execution": {
     "iopub.execute_input": "2022-06-16T12:16:18.380774Z",
     "iopub.status.busy": "2022-06-16T12:16:18.380112Z",
     "iopub.status.idle": "2022-06-16T12:16:18.690651Z",
     "shell.execute_reply": "2022-06-16T12:16:18.690057Z"
    },
    "papermill": {
     "duration": 0.341392,
     "end_time": "2022-06-16T12:16:18.690791",
     "exception": false,
     "start_time": "2022-06-16T12:16:18.349399",
     "status": "completed"
    },
    "tags": []
   },
   "outputs": [],
   "source": [
    "#hide\n",
    "COL_REGION = 'Country/Region'\n",
    "# Confirmed, Recovered, Deaths\n",
    "df = get_frame('confirmed')\n",
    "# dft_: timeseries, dfc_: today country agg\n",
    "dft_cases = df\n",
    "dft_deaths = get_frame('deaths')\n",
    "dft_recovered = get_frame('recovered')\n",
    "LAST_DATE_I, dt_cols = get_dates(df)"
   ]
  },
  {
   "cell_type": "code",
   "execution_count": 10,
   "id": "absolute-copper",
   "metadata": {
    "execution": {
     "iopub.execute_input": "2022-06-16T12:16:18.754669Z",
     "iopub.status.busy": "2022-06-16T12:16:18.754143Z",
     "iopub.status.idle": "2022-06-16T12:16:18.756456Z",
     "shell.execute_reply": "2022-06-16T12:16:18.756946Z"
    },
    "papermill": {
     "duration": 0.033973,
     "end_time": "2022-06-16T12:16:18.757066",
     "exception": false,
     "start_time": "2022-06-16T12:16:18.723093",
     "status": "completed"
    },
    "tags": []
   },
   "outputs": [],
   "source": [
    "#hide\n",
    "LAST_DATE_I, dt_cols = get_dates(df)\n",
    "dt_today =dt_cols[LAST_DATE_I]\n",
    "# dt_5day = dt_cols[LAST_DATE_I - 5]\n",
    "dt_yday = dt_cols[LAST_DATE_I - 1]"
   ]
  },
  {
   "cell_type": "code",
   "execution_count": 11,
   "id": "restricted-sheriff",
   "metadata": {
    "execution": {
     "iopub.execute_input": "2022-06-16T12:16:18.815175Z",
     "iopub.status.busy": "2022-06-16T12:16:18.814647Z",
     "iopub.status.idle": "2022-06-16T12:16:18.822460Z",
     "shell.execute_reply": "2022-06-16T12:16:18.822841Z"
    },
    "papermill": {
     "duration": 0.039748,
     "end_time": "2022-06-16T12:16:18.822964",
     "exception": false,
     "start_time": "2022-06-16T12:16:18.783216",
     "status": "completed"
    },
    "tags": []
   },
   "outputs": [],
   "source": [
    "#hide\n",
    "dfc_cases = dft_cases.groupby(COL_REGION)[dt_today].sum()\n",
    "dfc_deaths = dft_deaths.groupby(COL_REGION)[dt_today].sum()\n",
    "# dfp_cases = dft_cases.groupby(COL_REGION)[dt_5day].sum()\n",
    "# dfp_deaths = dft_deaths.groupby(COL_REGION)[dt_5day].sum()\n",
    "dfp_cases = dft_cases.groupby(COL_REGION)[dt_yday].sum()\n",
    "dfp_deaths = dft_deaths.groupby(COL_REGION)[dt_yday].sum()"
   ]
  },
  {
   "cell_type": "code",
   "execution_count": 12,
   "id": "deluxe-hepatitis",
   "metadata": {
    "execution": {
     "iopub.execute_input": "2022-06-16T12:16:18.881904Z",
     "iopub.status.busy": "2022-06-16T12:16:18.881232Z",
     "iopub.status.idle": "2022-06-16T12:16:18.885846Z",
     "shell.execute_reply": "2022-06-16T12:16:18.885315Z"
    },
    "papermill": {
     "duration": 0.036339,
     "end_time": "2022-06-16T12:16:18.885969",
     "exception": false,
     "start_time": "2022-06-16T12:16:18.849630",
     "status": "completed"
    },
    "tags": []
   },
   "outputs": [],
   "source": [
    "#hide\n",
    "df_table = (pd.DataFrame(dict(Cases = dfc_cases, Deaths = dfc_deaths, PCases = dfp_cases, PDeaths = dfp_deaths))\n",
    "            .sort_values(by = ['Cases','Deaths'], ascending = [False, False])\n",
    "            .reset_index())"
   ]
  },
  {
   "cell_type": "code",
   "execution_count": 13,
   "id": "educational-chancellor",
   "metadata": {
    "execution": {
     "iopub.execute_input": "2022-06-16T12:16:18.956626Z",
     "iopub.status.busy": "2022-06-16T12:16:18.956089Z",
     "iopub.status.idle": "2022-06-16T12:16:18.963864Z",
     "shell.execute_reply": "2022-06-16T12:16:18.963438Z"
    },
    "papermill": {
     "duration": 0.05148,
     "end_time": "2022-06-16T12:16:18.963964",
     "exception": false,
     "start_time": "2022-06-16T12:16:18.912484",
     "status": "completed"
    },
    "tags": []
   },
   "outputs": [
    {
     "data": {
      "text/html": [
       "<div>\n",
       "<style scoped>\n",
       "    .dataframe tbody tr th:only-of-type {\n",
       "        vertical-align: middle;\n",
       "    }\n",
       "\n",
       "    .dataframe tbody tr th {\n",
       "        vertical-align: top;\n",
       "    }\n",
       "\n",
       "    .dataframe thead th {\n",
       "        text-align: right;\n",
       "    }\n",
       "</style>\n",
       "<table border=\"1\" class=\"dataframe\">\n",
       "  <thead>\n",
       "    <tr style=\"text-align: right;\">\n",
       "      <th></th>\n",
       "      <th>Country/Region</th>\n",
       "      <th>Cases</th>\n",
       "      <th>Deaths</th>\n",
       "      <th>PCases</th>\n",
       "      <th>PDeaths</th>\n",
       "      <th>Cases (+)</th>\n",
       "      <th>Deaths (+)</th>\n",
       "      <th>Fatality Rate</th>\n",
       "      <th>Continent</th>\n",
       "    </tr>\n",
       "  </thead>\n",
       "  <tbody>\n",
       "    <tr>\n",
       "      <th>0</th>\n",
       "      <td>US</td>\n",
       "      <td>85941735</td>\n",
       "      <td>1012607</td>\n",
       "      <td>85758638</td>\n",
       "      <td>1011925</td>\n",
       "      <td>183097</td>\n",
       "      <td>682</td>\n",
       "      <td>1.18</td>\n",
       "      <td>North America</td>\n",
       "    </tr>\n",
       "    <tr>\n",
       "      <th>1</th>\n",
       "      <td>India</td>\n",
       "      <td>43257730</td>\n",
       "      <td>524803</td>\n",
       "      <td>43245517</td>\n",
       "      <td>524792</td>\n",
       "      <td>12213</td>\n",
       "      <td>11</td>\n",
       "      <td>1.21</td>\n",
       "      <td>Asia</td>\n",
       "    </tr>\n",
       "    <tr>\n",
       "      <th>2</th>\n",
       "      <td>Brazil</td>\n",
       "      <td>31611769</td>\n",
       "      <td>668693</td>\n",
       "      <td>31541479</td>\n",
       "      <td>668354</td>\n",
       "      <td>70290</td>\n",
       "      <td>339</td>\n",
       "      <td>2.12</td>\n",
       "      <td>South America</td>\n",
       "    </tr>\n",
       "    <tr>\n",
       "      <th>3</th>\n",
       "      <td>France</td>\n",
       "      <td>30175534</td>\n",
       "      <td>149986</td>\n",
       "      <td>30123426</td>\n",
       "      <td>149937</td>\n",
       "      <td>52108</td>\n",
       "      <td>49</td>\n",
       "      <td>0.50</td>\n",
       "      <td>Europe</td>\n",
       "    </tr>\n",
       "    <tr>\n",
       "      <th>4</th>\n",
       "      <td>Germany</td>\n",
       "      <td>27096571</td>\n",
       "      <td>140099</td>\n",
       "      <td>27007429</td>\n",
       "      <td>140026</td>\n",
       "      <td>89142</td>\n",
       "      <td>73</td>\n",
       "      <td>0.52</td>\n",
       "      <td>Europe</td>\n",
       "    </tr>\n",
       "  </tbody>\n",
       "</table>\n",
       "</div>"
      ],
      "text/plain": [
       "  Country/Region     Cases   Deaths    PCases  PDeaths  Cases (+)  Deaths (+)  \\\n",
       "0             US  85941735  1012607  85758638  1011925     183097         682   \n",
       "1          India  43257730   524803  43245517   524792      12213          11   \n",
       "2         Brazil  31611769   668693  31541479   668354      70290         339   \n",
       "3         France  30175534   149986  30123426   149937      52108          49   \n",
       "4        Germany  27096571   140099  27007429   140026      89142          73   \n",
       "\n",
       "   Fatality Rate      Continent  \n",
       "0           1.18  North America  \n",
       "1           1.21           Asia  \n",
       "2           2.12  South America  \n",
       "3           0.50         Europe  \n",
       "4           0.52         Europe  "
      ]
     },
     "execution_count": 13,
     "metadata": {},
     "output_type": "execute_result"
    }
   ],
   "source": [
    "#hide\n",
    "for c in 'Cases, Deaths'.split(', '):\n",
    "    df_table[f'{c} (+)'] = (df_table[c] - df_table[f'P{c}']).clip(0)\n",
    "    #Clip ça veut dire, les chiffres negatif sont interdit\n",
    "df_table['Fatality Rate'] = (100* df_table['Deaths']/ df_table['Cases']).round(2)\n",
    "df_table['Continent'] = df_table['Country/Region'].map(mapping['map.continent'])\n",
    "df_table.head(5)"
   ]
  },
  {
   "cell_type": "code",
   "execution_count": 14,
   "id": "aboriginal-bulgaria",
   "metadata": {
    "execution": {
     "iopub.execute_input": "2022-06-16T12:16:19.026922Z",
     "iopub.status.busy": "2022-06-16T12:16:19.026358Z",
     "iopub.status.idle": "2022-06-16T12:16:19.028368Z",
     "shell.execute_reply": "2022-06-16T12:16:19.028729Z"
    },
    "papermill": {
     "duration": 0.03833,
     "end_time": "2022-06-16T12:16:19.028850",
     "exception": false,
     "start_time": "2022-06-16T12:16:18.990520",
     "status": "completed"
    },
    "tags": []
   },
   "outputs": [],
   "source": [
    "#hide\n",
    "#delete problematic countries from table\n",
    "df_table = df_table[~df_table['Country/Region'].isin(['Cape Verde', 'Cruise Ship', 'Kosovo'])]"
   ]
  },
  {
   "cell_type": "code",
   "execution_count": 15,
   "id": "fantastic-effect",
   "metadata": {
    "execution": {
     "iopub.execute_input": "2022-06-16T12:16:19.090177Z",
     "iopub.status.busy": "2022-06-16T12:16:19.089615Z",
     "iopub.status.idle": "2022-06-16T12:16:19.106326Z",
     "shell.execute_reply": "2022-06-16T12:16:19.106834Z"
    },
    "papermill": {
     "duration": 0.05174,
     "end_time": "2022-06-16T12:16:19.106980",
     "exception": false,
     "start_time": "2022-06-16T12:16:19.055240",
     "status": "completed"
    },
    "tags": []
   },
   "outputs": [
    {
     "data": {
      "text/html": [
       "<div>\n",
       "<style scoped>\n",
       "    .dataframe tbody tr th:only-of-type {\n",
       "        vertical-align: middle;\n",
       "    }\n",
       "\n",
       "    .dataframe tbody tr th {\n",
       "        vertical-align: top;\n",
       "    }\n",
       "\n",
       "    .dataframe thead th {\n",
       "        text-align: right;\n",
       "    }\n",
       "</style>\n",
       "<table border=\"1\" class=\"dataframe\">\n",
       "  <thead>\n",
       "    <tr style=\"text-align: right;\">\n",
       "      <th></th>\n",
       "      <th>Country/Region</th>\n",
       "      <th>Cases</th>\n",
       "      <th>Deaths</th>\n",
       "      <th>PCases</th>\n",
       "      <th>PDeaths</th>\n",
       "      <th>Cases (+)</th>\n",
       "      <th>Deaths (+)</th>\n",
       "      <th>Fatality Rate</th>\n",
       "      <th>Continent</th>\n",
       "    </tr>\n",
       "  </thead>\n",
       "  <tbody>\n",
       "    <tr>\n",
       "      <th>0</th>\n",
       "      <td>US</td>\n",
       "      <td>85941735</td>\n",
       "      <td>1012607</td>\n",
       "      <td>85758638</td>\n",
       "      <td>1011925</td>\n",
       "      <td>183097</td>\n",
       "      <td>682</td>\n",
       "      <td>1.2</td>\n",
       "      <td>North America</td>\n",
       "    </tr>\n",
       "    <tr>\n",
       "      <th>1</th>\n",
       "      <td>India</td>\n",
       "      <td>43257730</td>\n",
       "      <td>524803</td>\n",
       "      <td>43245517</td>\n",
       "      <td>524792</td>\n",
       "      <td>12213</td>\n",
       "      <td>11</td>\n",
       "      <td>1.2</td>\n",
       "      <td>Asia</td>\n",
       "    </tr>\n",
       "    <tr>\n",
       "      <th>2</th>\n",
       "      <td>Brazil</td>\n",
       "      <td>31611769</td>\n",
       "      <td>668693</td>\n",
       "      <td>31541479</td>\n",
       "      <td>668354</td>\n",
       "      <td>70290</td>\n",
       "      <td>339</td>\n",
       "      <td>2.1</td>\n",
       "      <td>South America</td>\n",
       "    </tr>\n",
       "    <tr>\n",
       "      <th>3</th>\n",
       "      <td>France</td>\n",
       "      <td>30175534</td>\n",
       "      <td>149986</td>\n",
       "      <td>30123426</td>\n",
       "      <td>149937</td>\n",
       "      <td>52108</td>\n",
       "      <td>49</td>\n",
       "      <td>0.5</td>\n",
       "      <td>Europe</td>\n",
       "    </tr>\n",
       "    <tr>\n",
       "      <th>4</th>\n",
       "      <td>Germany</td>\n",
       "      <td>27096571</td>\n",
       "      <td>140099</td>\n",
       "      <td>27007429</td>\n",
       "      <td>140026</td>\n",
       "      <td>89142</td>\n",
       "      <td>73</td>\n",
       "      <td>0.5</td>\n",
       "      <td>Europe</td>\n",
       "    </tr>\n",
       "  </tbody>\n",
       "</table>\n",
       "</div>"
      ],
      "text/plain": [
       "  Country/Region     Cases   Deaths    PCases  PDeaths  Cases (+)  Deaths (+)  \\\n",
       "0             US  85941735  1012607  85758638  1011925     183097         682   \n",
       "1          India  43257730   524803  43245517   524792      12213          11   \n",
       "2         Brazil  31611769   668693  31541479   668354      70290         339   \n",
       "3         France  30175534   149986  30123426   149937      52108          49   \n",
       "4        Germany  27096571   140099  27007429   140026      89142          73   \n",
       "\n",
       "   Fatality Rate      Continent  \n",
       "0            1.2  North America  \n",
       "1            1.2           Asia  \n",
       "2            2.1  South America  \n",
       "3            0.5         Europe  \n",
       "4            0.5         Europe  "
      ]
     },
     "execution_count": 15,
     "metadata": {},
     "output_type": "execute_result"
    }
   ],
   "source": [
    "#hide\n",
    "df_table = (pd.DataFrame(dict(Cases=dfc_cases, Deaths=dfc_deaths, PCases=dfp_cases, PDeaths=dfp_deaths))\n",
    "             .sort_values(by=['Cases', 'Deaths'], ascending=[False, False])\n",
    "             .reset_index())\n",
    "df_table.rename(columns={'index': 'Country/Region'}, inplace=True)\n",
    "for c in 'Cases, Deaths'.split(', '):\n",
    "    df_table[f'{c} (+)'] = (df_table[c] - df_table[f'P{c}']).clip(0)  # DATA BUG\n",
    "df_table['Fatality Rate'] = (100 * df_table['Deaths'] / df_table['Cases']).round(1)\n",
    "df_table['Continent'] = df_table['Country/Region'].map(mapping['map.continent'])\n",
    "df_table.head(5)"
   ]
  },
  {
   "cell_type": "code",
   "execution_count": 16,
   "id": "fewer-occasion",
   "metadata": {
    "execution": {
     "iopub.execute_input": "2022-06-16T12:16:19.171569Z",
     "iopub.status.busy": "2022-06-16T12:16:19.171043Z",
     "iopub.status.idle": "2022-06-16T12:16:19.174115Z",
     "shell.execute_reply": "2022-06-16T12:16:19.174604Z"
    },
    "papermill": {
     "duration": 0.035321,
     "end_time": "2022-06-16T12:16:19.174715",
     "exception": false,
     "start_time": "2022-06-16T12:16:19.139394",
     "status": "completed"
    },
    "tags": []
   },
   "outputs": [],
   "source": [
    "#hide\n",
    "#delete problematic countries from table\n",
    "df_table = df_table[~df_table['Country/Region'].isin(['Cape Verde', 'Cruise Ship', 'Kosovo'])]"
   ]
  },
  {
   "cell_type": "code",
   "execution_count": 17,
   "id": "related-center",
   "metadata": {
    "execution": {
     "iopub.execute_input": "2022-06-16T12:16:19.244633Z",
     "iopub.status.busy": "2022-06-16T12:16:19.244104Z",
     "iopub.status.idle": "2022-06-16T12:16:19.246234Z",
     "shell.execute_reply": "2022-06-16T12:16:19.246621Z"
    },
    "papermill": {
     "duration": 0.045182,
     "end_time": "2022-06-16T12:16:19.246753",
     "exception": false,
     "start_time": "2022-06-16T12:16:19.201571",
     "status": "completed"
    },
    "tags": []
   },
   "outputs": [],
   "source": [
    "#hide\n",
    "metrics = [df_table.columns[index] for index in [1,2,5,6]]\n",
    "# s_china = df_table[df_table['Country/Region'].eq('China')][metrics].sum().add_prefix('China ')\n",
    "s_us = df_table[df_table['Country/Region'].eq('US')][metrics].sum().add_prefix('US ')\n",
    "s_eu = df_table[df_table['Continent'].eq('Europe')][metrics].sum().add_prefix('EU ')\n",
    "s_ind = df_table[df_table['Country/Region'].eq('India')][metrics].sum().add_prefix('India ')\n",
    "summary = {'updated': pd.to_datetime(dt_today), 'since': pd.to_datetime(dt_yday)}\n",
    "summary = {'updated': pd.to_datetime(dt_today), 'since': pd.to_datetime(dt_yday)}\n",
    "summary = {**summary, **df_table[metrics].sum(), **s_ind, **s_us, **s_eu}"
   ]
  },
  {
   "cell_type": "code",
   "execution_count": 18,
   "id": "engaging-syndrome",
   "metadata": {
    "execution": {
     "iopub.execute_input": "2022-06-16T12:16:19.306298Z",
     "iopub.status.busy": "2022-06-16T12:16:19.305755Z",
     "iopub.status.idle": "2022-06-16T12:16:19.322710Z",
     "shell.execute_reply": "2022-06-16T12:16:19.323129Z"
    },
    "papermill": {
     "duration": 0.049301,
     "end_time": "2022-06-16T12:16:19.323260",
     "exception": false,
     "start_time": "2022-06-16T12:16:19.273959",
     "status": "completed"
    },
    "tags": []
   },
   "outputs": [],
   "source": [
    "#hide\n",
    "dft_ct_new_cases = dft_cases.groupby(COL_REGION)[dt_cols].sum().diff(axis=1).fillna(0).astype(int)"
   ]
  },
  {
   "cell_type": "code",
   "execution_count": 19,
   "id": "neutral-assignment",
   "metadata": {
    "execution": {
     "iopub.execute_input": "2022-06-16T12:16:19.383802Z",
     "iopub.status.busy": "2022-06-16T12:16:19.383266Z",
     "iopub.status.idle": "2022-06-16T12:16:19.385349Z",
     "shell.execute_reply": "2022-06-16T12:16:19.385862Z"
    },
    "papermill": {
     "duration": 0.035564,
     "end_time": "2022-06-16T12:16:19.385984",
     "exception": false,
     "start_time": "2022-06-16T12:16:19.350420",
     "status": "completed"
    },
    "tags": []
   },
   "outputs": [],
   "source": [
    "#hide\n",
    "everydaycases = dft_ct_new_cases.cumsum(axis=1)"
   ]
  },
  {
   "cell_type": "code",
   "execution_count": 20,
   "id": "parliamentary-calgary",
   "metadata": {
    "execution": {
     "iopub.execute_input": "2022-06-16T12:16:19.444617Z",
     "iopub.status.busy": "2022-06-16T12:16:19.444080Z",
     "iopub.status.idle": "2022-06-16T12:16:19.961977Z",
     "shell.execute_reply": "2022-06-16T12:16:19.961387Z"
    },
    "papermill": {
     "duration": 0.54909,
     "end_time": "2022-06-16T12:16:19.962115",
     "exception": false,
     "start_time": "2022-06-16T12:16:19.413025",
     "status": "completed"
    },
    "tags": []
   },
   "outputs": [],
   "source": [
    "#hide\n",
    "import pandas as pd\n",
    "import matplotlib.pyplot as plt\n",
    "import matplotlib.ticker as ticker\n",
    "import matplotlib.animation as animation\n",
    "from IPython.display import HTML"
   ]
  },
  {
   "cell_type": "code",
   "execution_count": 21,
   "id": "lasting-extraction",
   "metadata": {
    "execution": {
     "iopub.execute_input": "2022-06-16T12:16:20.023722Z",
     "iopub.status.busy": "2022-06-16T12:16:20.023195Z",
     "iopub.status.idle": "2022-06-16T12:16:20.033632Z",
     "shell.execute_reply": "2022-06-16T12:16:20.033193Z"
    },
    "papermill": {
     "duration": 0.043529,
     "end_time": "2022-06-16T12:16:20.033756",
     "exception": false,
     "start_time": "2022-06-16T12:16:19.990227",
     "status": "completed"
    },
    "tags": []
   },
   "outputs": [],
   "source": [
    "#hide\n",
    "t = everydaycases.stack()"
   ]
  },
  {
   "cell_type": "code",
   "execution_count": 22,
   "id": "premier-sleeve",
   "metadata": {
    "execution": {
     "iopub.execute_input": "2022-06-16T12:16:20.092837Z",
     "iopub.status.busy": "2022-06-16T12:16:20.092276Z",
     "iopub.status.idle": "2022-06-16T12:16:20.103968Z",
     "shell.execute_reply": "2022-06-16T12:16:20.103546Z"
    },
    "papermill": {
     "duration": 0.042925,
     "end_time": "2022-06-16T12:16:20.104068",
     "exception": false,
     "start_time": "2022-06-16T12:16:20.061143",
     "status": "completed"
    },
    "tags": []
   },
   "outputs": [],
   "source": [
    "#hide\n",
    "g = t.reset_index(['Country/Region'])"
   ]
  },
  {
   "cell_type": "code",
   "execution_count": 23,
   "id": "distributed-pittsburgh",
   "metadata": {
    "execution": {
     "iopub.execute_input": "2022-06-16T12:16:20.161823Z",
     "iopub.status.busy": "2022-06-16T12:16:20.161255Z",
     "iopub.status.idle": "2022-06-16T12:16:20.163707Z",
     "shell.execute_reply": "2022-06-16T12:16:20.163277Z"
    },
    "papermill": {
     "duration": 0.032772,
     "end_time": "2022-06-16T12:16:20.163803",
     "exception": false,
     "start_time": "2022-06-16T12:16:20.131031",
     "status": "completed"
    },
    "tags": []
   },
   "outputs": [],
   "source": [
    "#hide\n",
    "g.index.name = 'date'"
   ]
  },
  {
   "cell_type": "code",
   "execution_count": 24,
   "id": "naked-donor",
   "metadata": {
    "execution": {
     "iopub.execute_input": "2022-06-16T12:16:20.222869Z",
     "iopub.status.busy": "2022-06-16T12:16:20.222368Z",
     "iopub.status.idle": "2022-06-16T12:16:20.224456Z",
     "shell.execute_reply": "2022-06-16T12:16:20.224029Z"
    },
    "papermill": {
     "duration": 0.033897,
     "end_time": "2022-06-16T12:16:20.224555",
     "exception": false,
     "start_time": "2022-06-16T12:16:20.190658",
     "status": "completed"
    },
    "tags": []
   },
   "outputs": [],
   "source": [
    "# #hide\n",
    "# g = g.reset_index(['date'])"
   ]
  },
  {
   "cell_type": "code",
   "execution_count": 25,
   "id": "incomplete-mustang",
   "metadata": {
    "execution": {
     "iopub.execute_input": "2022-06-16T12:16:20.282737Z",
     "iopub.status.busy": "2022-06-16T12:16:20.282061Z",
     "iopub.status.idle": "2022-06-16T12:16:20.283651Z",
     "shell.execute_reply": "2022-06-16T12:16:20.284061Z"
    },
    "papermill": {
     "duration": 0.032516,
     "end_time": "2022-06-16T12:16:20.284174",
     "exception": false,
     "start_time": "2022-06-16T12:16:20.251658",
     "status": "completed"
    },
    "tags": []
   },
   "outputs": [],
   "source": [
    "#hide\n",
    "# g.head()"
   ]
  },
  {
   "cell_type": "code",
   "execution_count": 26,
   "id": "specific-kruger",
   "metadata": {
    "execution": {
     "iopub.execute_input": "2022-06-16T12:16:20.342381Z",
     "iopub.status.busy": "2022-06-16T12:16:20.341659Z",
     "iopub.status.idle": "2022-06-16T12:16:20.345012Z",
     "shell.execute_reply": "2022-06-16T12:16:20.344476Z"
    },
    "papermill": {
     "duration": 0.033929,
     "end_time": "2022-06-16T12:16:20.345130",
     "exception": false,
     "start_time": "2022-06-16T12:16:20.311201",
     "status": "completed"
    },
    "tags": []
   },
   "outputs": [],
   "source": [
    "#hide\n",
    "# g.columns = ['date','country','cases']"
   ]
  },
  {
   "cell_type": "code",
   "execution_count": 27,
   "id": "tender-conversion",
   "metadata": {
    "execution": {
     "iopub.execute_input": "2022-06-16T12:16:20.403214Z",
     "iopub.status.busy": "2022-06-16T12:16:20.402543Z",
     "iopub.status.idle": "2022-06-16T12:16:20.404191Z",
     "shell.execute_reply": "2022-06-16T12:16:20.404722Z"
    },
    "papermill": {
     "duration": 0.032774,
     "end_time": "2022-06-16T12:16:20.404862",
     "exception": false,
     "start_time": "2022-06-16T12:16:20.372088",
     "status": "completed"
    },
    "tags": []
   },
   "outputs": [],
   "source": [
    "#hide\n",
    "# g['continent'] = g.country"
   ]
  },
  {
   "cell_type": "code",
   "execution_count": 28,
   "id": "substantial-wilderness",
   "metadata": {
    "execution": {
     "iopub.execute_input": "2022-06-16T12:16:20.463840Z",
     "iopub.status.busy": "2022-06-16T12:16:20.463157Z",
     "iopub.status.idle": "2022-06-16T12:16:20.464790Z",
     "shell.execute_reply": "2022-06-16T12:16:20.465294Z"
    },
    "papermill": {
     "duration": 0.03295,
     "end_time": "2022-06-16T12:16:20.465436",
     "exception": false,
     "start_time": "2022-06-16T12:16:20.432486",
     "status": "completed"
    },
    "tags": []
   },
   "outputs": [],
   "source": [
    "#hide\n",
    "# cols = list(g.columns.values)"
   ]
  },
  {
   "cell_type": "code",
   "execution_count": 29,
   "id": "solved-farming",
   "metadata": {
    "execution": {
     "iopub.execute_input": "2022-06-16T12:16:20.527148Z",
     "iopub.status.busy": "2022-06-16T12:16:20.526636Z",
     "iopub.status.idle": "2022-06-16T12:16:20.528729Z",
     "shell.execute_reply": "2022-06-16T12:16:20.529218Z"
    },
    "papermill": {
     "duration": 0.036509,
     "end_time": "2022-06-16T12:16:20.529333",
     "exception": false,
     "start_time": "2022-06-16T12:16:20.492824",
     "status": "completed"
    },
    "tags": []
   },
   "outputs": [],
   "source": [
    "#hide\n",
    "# cols.insert(0, cols.pop())"
   ]
  },
  {
   "cell_type": "code",
   "execution_count": 30,
   "id": "executed-adoption",
   "metadata": {
    "execution": {
     "iopub.execute_input": "2022-06-16T12:16:20.587994Z",
     "iopub.status.busy": "2022-06-16T12:16:20.587313Z",
     "iopub.status.idle": "2022-06-16T12:16:20.588823Z",
     "shell.execute_reply": "2022-06-16T12:16:20.589434Z"
    },
    "papermill": {
     "duration": 0.033181,
     "end_time": "2022-06-16T12:16:20.589567",
     "exception": false,
     "start_time": "2022-06-16T12:16:20.556386",
     "status": "completed"
    },
    "tags": []
   },
   "outputs": [],
   "source": [
    "#hide\n",
    "# g = g[cols]"
   ]
  },
  {
   "cell_type": "code",
   "execution_count": 31,
   "id": "subject-dublin",
   "metadata": {
    "execution": {
     "iopub.execute_input": "2022-06-16T12:16:20.648780Z",
     "iopub.status.busy": "2022-06-16T12:16:20.648260Z",
     "iopub.status.idle": "2022-06-16T12:16:20.650398Z",
     "shell.execute_reply": "2022-06-16T12:16:20.650887Z"
    },
    "papermill": {
     "duration": 0.034071,
     "end_time": "2022-06-16T12:16:20.651006",
     "exception": false,
     "start_time": "2022-06-16T12:16:20.616935",
     "status": "completed"
    },
    "tags": []
   },
   "outputs": [],
   "source": [
    "#hide\n",
    "# g['continent'] = g['continent'].map(mapping['map.continent'])"
   ]
  },
  {
   "cell_type": "code",
   "execution_count": 32,
   "id": "freelance-scout",
   "metadata": {
    "execution": {
     "iopub.execute_input": "2022-06-16T12:16:20.710423Z",
     "iopub.status.busy": "2022-06-16T12:16:20.709507Z",
     "iopub.status.idle": "2022-06-16T12:16:20.712845Z",
     "shell.execute_reply": "2022-06-16T12:16:20.712415Z"
    },
    "papermill": {
     "duration": 0.034677,
     "end_time": "2022-06-16T12:16:20.712946",
     "exception": false,
     "start_time": "2022-06-16T12:16:20.678269",
     "status": "completed"
    },
    "tags": []
   },
   "outputs": [],
   "source": [
    "#hide\n",
    "# g.head()"
   ]
  },
  {
   "cell_type": "code",
   "execution_count": 33,
   "id": "limited-engine",
   "metadata": {
    "execution": {
     "iopub.execute_input": "2022-06-16T12:16:20.771423Z",
     "iopub.status.busy": "2022-06-16T12:16:20.770738Z",
     "iopub.status.idle": "2022-06-16T12:16:20.773057Z",
     "shell.execute_reply": "2022-06-16T12:16:20.772636Z"
    },
    "papermill": {
     "duration": 0.033037,
     "end_time": "2022-06-16T12:16:20.773153",
     "exception": false,
     "start_time": "2022-06-16T12:16:20.740116",
     "status": "completed"
    },
    "tags": []
   },
   "outputs": [],
   "source": [
    "# hide\n",
    "# g['date'] = g['date'].astype('datetime64[ns]')"
   ]
  },
  {
   "cell_type": "code",
   "execution_count": 34,
   "id": "sophisticated-supervisor",
   "metadata": {
    "execution": {
     "iopub.execute_input": "2022-06-16T12:16:20.833600Z",
     "iopub.status.busy": "2022-06-16T12:16:20.833075Z",
     "iopub.status.idle": "2022-06-16T12:16:20.835448Z",
     "shell.execute_reply": "2022-06-16T12:16:20.834946Z"
    },
    "papermill": {
     "duration": 0.035336,
     "end_time": "2022-06-16T12:16:20.835547",
     "exception": false,
     "start_time": "2022-06-16T12:16:20.800211",
     "status": "completed"
    },
    "tags": []
   },
   "outputs": [],
   "source": [
    "#hide\n",
    "# g['date'] = g.date.dt.dayofyear"
   ]
  },
  {
   "cell_type": "code",
   "execution_count": 35,
   "id": "inside-dubai",
   "metadata": {
    "execution": {
     "iopub.execute_input": "2022-06-16T12:16:20.893394Z",
     "iopub.status.busy": "2022-06-16T12:16:20.892717Z",
     "iopub.status.idle": "2022-06-16T12:16:20.894410Z",
     "shell.execute_reply": "2022-06-16T12:16:20.894864Z"
    },
    "papermill": {
     "duration": 0.032555,
     "end_time": "2022-06-16T12:16:20.894979",
     "exception": false,
     "start_time": "2022-06-16T12:16:20.862424",
     "status": "completed"
    },
    "tags": []
   },
   "outputs": [],
   "source": [
    "#hide\n",
    "# g = g.rename(columns= {'continent':'group','country':'name','cases':'value'})"
   ]
  },
  {
   "cell_type": "code",
   "execution_count": 36,
   "id": "fleet-motorcycle",
   "metadata": {
    "execution": {
     "iopub.execute_input": "2022-06-16T12:16:20.953021Z",
     "iopub.status.busy": "2022-06-16T12:16:20.952336Z",
     "iopub.status.idle": "2022-06-16T12:16:20.954111Z",
     "shell.execute_reply": "2022-06-16T12:16:20.954617Z"
    },
    "papermill": {
     "duration": 0.032764,
     "end_time": "2022-06-16T12:16:20.954757",
     "exception": false,
     "start_time": "2022-06-16T12:16:20.921993",
     "status": "completed"
    },
    "tags": []
   },
   "outputs": [],
   "source": [
    "#hide\n",
    "# cols = ['name','group','day','value']"
   ]
  },
  {
   "cell_type": "code",
   "execution_count": 37,
   "id": "continued-sleeping",
   "metadata": {
    "execution": {
     "iopub.execute_input": "2022-06-16T12:16:21.012948Z",
     "iopub.status.busy": "2022-06-16T12:16:21.012272Z",
     "iopub.status.idle": "2022-06-16T12:16:21.014788Z",
     "shell.execute_reply": "2022-06-16T12:16:21.014140Z"
    },
    "papermill": {
     "duration": 0.033094,
     "end_time": "2022-06-16T12:16:21.014907",
     "exception": false,
     "start_time": "2022-06-16T12:16:20.981813",
     "status": "completed"
    },
    "tags": []
   },
   "outputs": [],
   "source": [
    "#hide\n",
    "# g.rename(columns= {'date':'day'},inplace = True)"
   ]
  },
  {
   "cell_type": "code",
   "execution_count": 38,
   "id": "major-fight",
   "metadata": {
    "execution": {
     "iopub.execute_input": "2022-06-16T12:16:21.073169Z",
     "iopub.status.busy": "2022-06-16T12:16:21.072491Z",
     "iopub.status.idle": "2022-06-16T12:16:21.074227Z",
     "shell.execute_reply": "2022-06-16T12:16:21.074727Z"
    },
    "papermill": {
     "duration": 0.032781,
     "end_time": "2022-06-16T12:16:21.074866",
     "exception": false,
     "start_time": "2022-06-16T12:16:21.042085",
     "status": "completed"
    },
    "tags": []
   },
   "outputs": [],
   "source": [
    "#hide\n",
    "# g = g[cols]"
   ]
  },
  {
   "cell_type": "code",
   "execution_count": 39,
   "id": "structured-mobile",
   "metadata": {
    "execution": {
     "iopub.execute_input": "2022-06-16T12:16:21.137009Z",
     "iopub.status.busy": "2022-06-16T12:16:21.136337Z",
     "iopub.status.idle": "2022-06-16T12:16:21.137932Z",
     "shell.execute_reply": "2022-06-16T12:16:21.138330Z"
    },
    "papermill": {
     "duration": 0.036435,
     "end_time": "2022-06-16T12:16:21.138445",
     "exception": false,
     "start_time": "2022-06-16T12:16:21.102010",
     "status": "completed"
    },
    "tags": []
   },
   "outputs": [],
   "source": [
    "# #hide\n",
    "# g = g[g.group.notna()]"
   ]
  },
  {
   "cell_type": "code",
   "execution_count": 40,
   "id": "determined-closing",
   "metadata": {
    "execution": {
     "iopub.execute_input": "2022-06-16T12:16:21.196913Z",
     "iopub.status.busy": "2022-06-16T12:16:21.196216Z",
     "iopub.status.idle": "2022-06-16T12:16:21.200146Z",
     "shell.execute_reply": "2022-06-16T12:16:21.199717Z"
    },
    "papermill": {
     "duration": 0.034671,
     "end_time": "2022-06-16T12:16:21.200243",
     "exception": false,
     "start_time": "2022-06-16T12:16:21.165572",
     "status": "completed"
    },
    "tags": []
   },
   "outputs": [],
   "source": [
    "# #hide\n",
    "# colors = dict(zip(\n",
    "#     [\"Oceania\", \"Europe\", \"Asia\", \"South America\", \"Middle East\", \"North America\", \"Africa\"],\n",
    "#     [\"#adb0ff\", \"#ffb3ff\", \"#90d595\", \"#e48381\", \"#aafbff\", \"#f7bb5f\", \"#eafb50\"]\n",
    "# ))\n",
    "# group_lk = g.set_index('name')['group'].to_dict()"
   ]
  },
  {
   "cell_type": "code",
   "execution_count": null,
   "id": "gross-drinking",
   "metadata": {
    "papermill": {
     "duration": 0.026635,
     "end_time": "2022-06-16T12:16:21.253427",
     "exception": false,
     "start_time": "2022-06-16T12:16:21.226792",
     "status": "completed"
    },
    "tags": []
   },
   "outputs": [],
   "source": []
  },
  {
   "cell_type": "code",
   "execution_count": 41,
   "id": "subject-macintosh",
   "metadata": {
    "execution": {
     "iopub.execute_input": "2022-06-16T12:16:21.311829Z",
     "iopub.status.busy": "2022-06-16T12:16:21.311278Z",
     "iopub.status.idle": "2022-06-16T12:16:21.313661Z",
     "shell.execute_reply": "2022-06-16T12:16:21.313147Z"
    },
    "papermill": {
     "duration": 0.033552,
     "end_time": "2022-06-16T12:16:21.313782",
     "exception": false,
     "start_time": "2022-06-16T12:16:21.280230",
     "status": "completed"
    },
    "tags": []
   },
   "outputs": [],
   "source": [
    "# #hide\n",
    "# fig, ax = plt.subplots(figsize=(15, 8))\n",
    "\n",
    "# def draw_barchart(current_day):\n",
    "#     dff = g[g['day'].eq(current_day)].sort_values(by='value', ascending=True).tail(10)\n",
    "#     ax.clear()\n",
    "#     ax.barh(dff['name'], dff['value'], color=[colors[group_lk[x]] for x in dff['name']])\n",
    "#     dx = dff['value'].max() / 200\n",
    "    \n",
    "#     for i, (value, name) in enumerate(zip(dff['value'], dff['name'])):\n",
    "#         ax.text(value-dx, i,     name,           size=14, weight=600, ha='right', va='bottom')\n",
    "#         ax.text(value-dx, i-.25, group_lk[name], size=10, color='#444444', ha='right', va='baseline')\n",
    "#         ax.text(value+dx, i,     f'{value:,.0f}',  size=14, ha='left',  va='center')\n",
    "#     ax.text(1, 0.4, current_day, transform=ax.transAxes, color='#777777', size=46, ha='right', weight=800)\n",
    "#     ax.text(0, 1.06, 'Population (thousands)', transform=ax.transAxes, size=12, color='#777777')\n",
    "#     ax.xaxis.set_major_formatter(ticker.StrMethodFormatter('{x:,.0f}'))\n",
    "#     ax.xaxis.set_ticks_position('top')\n",
    "#     ax.tick_params(axis='x', colors='#777777', labelsize=12)\n",
    "#     ax.set_yticks([])\n",
    "#     ax.margins(0, 0.01)\n",
    "#     ax.grid(which='major', axis='x', linestyle='-')\n",
    "#     ax.set_axisbelow(True)\n",
    "    \n",
    "#     ax.text(0, 1.15, 'Coronavirus',\n",
    "#             transform=ax.transAxes, size=24, weight=600, ha='left', va='top')\n",
    "# #     ax.text(1, 0, 'by @pratapvardhan; credit @jburnmurdoch', transform=ax.transAxes, color='#777777', ha='right',\n",
    "# #             bbox=dict(facecolor='white', alpha=0.8, edgecolor='white'))\n",
    "#     plt.box(False)"
   ]
  },
  {
   "cell_type": "code",
   "execution_count": 42,
   "id": "sexual-wages",
   "metadata": {
    "execution": {
     "iopub.execute_input": "2022-06-16T12:16:21.376132Z",
     "iopub.status.busy": "2022-06-16T12:16:21.375434Z",
     "iopub.status.idle": "2022-06-16T12:16:21.377592Z",
     "shell.execute_reply": "2022-06-16T12:16:21.376974Z"
    },
    "papermill": {
     "duration": 0.032859,
     "end_time": "2022-06-16T12:16:21.377711",
     "exception": false,
     "start_time": "2022-06-16T12:16:21.344852",
     "status": "completed"
    },
    "tags": []
   },
   "outputs": [],
   "source": [
    "# #hide_input\n",
    "# fig, ax = plt.subplots(figsize=(15, 8))\n",
    "# animator = animation.FuncAnimation(fig, draw_barchart, frames=range(g.day.values.min(), g.day.values.max()))\n",
    "# HTML(animator.to_jshtml())\n",
    "# # or use animator.to_html5_video() or animator.save() "
   ]
  },
  {
   "cell_type": "code",
   "execution_count": null,
   "id": "australian-container",
   "metadata": {
    "papermill": {
     "duration": 0.030928,
     "end_time": "2022-06-16T12:16:21.436362",
     "exception": false,
     "start_time": "2022-06-16T12:16:21.405434",
     "status": "completed"
    },
    "tags": []
   },
   "outputs": [],
   "source": []
  },
  {
   "cell_type": "code",
   "execution_count": null,
   "id": "mediterranean-pontiac",
   "metadata": {
    "papermill": {
     "duration": 0.02692,
     "end_time": "2022-06-16T12:16:21.490025",
     "exception": false,
     "start_time": "2022-06-16T12:16:21.463105",
     "status": "completed"
    },
    "tags": []
   },
   "outputs": [],
   "source": []
  },
  {
   "cell_type": "code",
   "execution_count": null,
   "id": "aging-legislature",
   "metadata": {
    "papermill": {
     "duration": 0.029325,
     "end_time": "2022-06-16T12:16:21.546466",
     "exception": false,
     "start_time": "2022-06-16T12:16:21.517141",
     "status": "completed"
    },
    "tags": []
   },
   "outputs": [],
   "source": []
  }
 ],
 "metadata": {
  "kernelspec": {
   "display_name": "Python 3",
   "language": "python",
   "name": "python3"
  },
  "language_info": {
   "codemirror_mode": {
    "name": "ipython",
    "version": 3
   },
   "file_extension": ".py",
   "mimetype": "text/x-python",
   "name": "python",
   "nbconvert_exporter": "python",
   "pygments_lexer": "ipython3",
   "version": "3.6.15"
  },
  "papermill": {
   "duration": 5.350718,
   "end_time": "2022-06-16T12:16:21.893569",
   "environment_variables": {},
   "exception": null,
   "input_path": "2020-03-21-covid19exp.ipynb",
   "output_path": "2020-03-21-covid19exp.ipynb",
   "parameters": {},
   "start_time": "2022-06-16T12:16:16.542851",
   "version": "2.0.0"
  }
 },
 "nbformat": 4,
 "nbformat_minor": 5
}