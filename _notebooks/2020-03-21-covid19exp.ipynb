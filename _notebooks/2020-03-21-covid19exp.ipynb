{
 "cells": [
  {
   "cell_type": "markdown",
   "id": "muslim-click",
   "metadata": {
    "papermill": {
     "duration": 0.031758,
     "end_time": "2022-06-05T12:14:38.249129",
     "exception": false,
     "start_time": "2022-06-05T12:14:38.217371",
     "status": "completed"
    },
    "tags": []
   },
   "source": [
    "# COVID-19 Case Race\n",
    "> A race chart to see rising cases around the world\n",
    "\n",
    "- author: Hargun Oberoi\n",
    "- image: images/covid-overview.png\n",
    "- hide: false\n",
    "- badges: false"
   ]
  },
  {
   "cell_type": "code",
   "execution_count": 1,
   "id": "proof-material",
   "metadata": {
    "execution": {
     "iopub.execute_input": "2022-06-05T12:14:38.310939Z",
     "iopub.status.busy": "2022-06-05T12:14:38.310349Z",
     "iopub.status.idle": "2022-06-05T12:14:38.636296Z",
     "shell.execute_reply": "2022-06-05T12:14:38.636834Z"
    },
    "papermill": {
     "duration": 0.36168,
     "end_time": "2022-06-05T12:14:38.637019",
     "exception": false,
     "start_time": "2022-06-05T12:14:38.275339",
     "status": "completed"
    },
    "tags": []
   },
   "outputs": [],
   "source": [
    "#hide\n",
    "import numpy as np\n",
    "import pandas as pd\n",
    "from jinja2 import Template\n",
    "from IPython.display import HTML"
   ]
  },
  {
   "cell_type": "code",
   "execution_count": 2,
   "id": "developed-terminology",
   "metadata": {
    "execution": {
     "iopub.execute_input": "2022-06-05T12:14:38.694220Z",
     "iopub.status.busy": "2022-06-05T12:14:38.693693Z",
     "iopub.status.idle": "2022-06-05T12:14:38.696029Z",
     "shell.execute_reply": "2022-06-05T12:14:38.696513Z"
    },
    "papermill": {
     "duration": 0.033012,
     "end_time": "2022-06-05T12:14:38.696629",
     "exception": false,
     "start_time": "2022-06-05T12:14:38.663617",
     "status": "completed"
    },
    "tags": []
   },
   "outputs": [],
   "source": [
    "#hide\n",
    "\n",
    "# FETCH\n",
    "base_url = 'https://raw.githubusercontent.com/pratapvardhan/notebooks/master/covid19/'\n",
    "paths = {\n",
    "    'mapping': base_url + 'mapping_countries.csv',\n",
    "    'overview': base_url + 'overview.tpl'\n",
    "}"
   ]
  },
  {
   "cell_type": "code",
   "execution_count": 3,
   "id": "dynamic-saver",
   "metadata": {
    "execution": {
     "iopub.execute_input": "2022-06-05T12:14:38.757001Z",
     "iopub.status.busy": "2022-06-05T12:14:38.756483Z",
     "iopub.status.idle": "2022-06-05T12:14:38.759959Z",
     "shell.execute_reply": "2022-06-05T12:14:38.759541Z"
    },
    "papermill": {
     "duration": 0.037982,
     "end_time": "2022-06-05T12:14:38.760055",
     "exception": false,
     "start_time": "2022-06-05T12:14:38.722073",
     "status": "completed"
    },
    "tags": []
   },
   "outputs": [
    {
     "data": {
      "text/plain": [
       "'https://raw.githubusercontent.com/pratapvardhan/notebooks/master/covid19/mapping_countries.csv'"
      ]
     },
     "execution_count": 3,
     "metadata": {},
     "output_type": "execute_result"
    }
   ],
   "source": [
    "#hide\n",
    "paths['mapping']"
   ]
  },
  {
   "cell_type": "code",
   "execution_count": 4,
   "id": "urban-software",
   "metadata": {
    "execution": {
     "iopub.execute_input": "2022-06-05T12:14:38.816845Z",
     "iopub.status.busy": "2022-06-05T12:14:38.816329Z",
     "iopub.status.idle": "2022-06-05T12:14:38.818641Z",
     "shell.execute_reply": "2022-06-05T12:14:38.819134Z"
    },
    "papermill": {
     "duration": 0.03342,
     "end_time": "2022-06-05T12:14:38.819247",
     "exception": false,
     "start_time": "2022-06-05T12:14:38.785827",
     "status": "completed"
    },
    "tags": []
   },
   "outputs": [],
   "source": [
    "#hide\n",
    "def get_mappings(url):\n",
    "    df = pd.read_csv(url)\n",
    "    return {\n",
    "        'df': df,\n",
    "        'replace.country': dict(df.dropna(subset=['Name']).set_index('Country')['Name']),\n",
    "        'map.continent': dict(df.set_index('Name')['Continent'])\n",
    "    }"
   ]
  },
  {
   "cell_type": "code",
   "execution_count": 5,
   "id": "intimate-machinery",
   "metadata": {
    "execution": {
     "iopub.execute_input": "2022-06-05T12:14:38.875666Z",
     "iopub.status.busy": "2022-06-05T12:14:38.875135Z",
     "iopub.status.idle": "2022-06-05T12:14:38.935364Z",
     "shell.execute_reply": "2022-06-05T12:14:38.934744Z"
    },
    "papermill": {
     "duration": 0.090593,
     "end_time": "2022-06-05T12:14:38.935500",
     "exception": false,
     "start_time": "2022-06-05T12:14:38.844907",
     "status": "completed"
    },
    "tags": []
   },
   "outputs": [],
   "source": [
    "#hide\n",
    "mapping = get_mappings(paths['mapping'])"
   ]
  },
  {
   "cell_type": "code",
   "execution_count": 6,
   "id": "certified-tactics",
   "metadata": {
    "execution": {
     "iopub.execute_input": "2022-06-05T12:14:38.999558Z",
     "iopub.status.busy": "2022-06-05T12:14:38.998986Z",
     "iopub.status.idle": "2022-06-05T12:14:39.001945Z",
     "shell.execute_reply": "2022-06-05T12:14:39.001483Z"
    },
    "papermill": {
     "duration": 0.036839,
     "end_time": "2022-06-05T12:14:39.002049",
     "exception": false,
     "start_time": "2022-06-05T12:14:38.965210",
     "status": "completed"
    },
    "tags": []
   },
   "outputs": [],
   "source": [
    "#hide\n",
    "def get_template(path):\n",
    "    from urllib.parse import urlparse\n",
    "    if bool(urlparse(path).netloc):\n",
    "        from urllib.request import urlopen\n",
    "        return urlopen(path).read().decode('utf8')\n",
    "    return open(path).read()"
   ]
  },
  {
   "cell_type": "code",
   "execution_count": 7,
   "id": "realistic-blast",
   "metadata": {
    "execution": {
     "iopub.execute_input": "2022-06-05T12:14:39.065893Z",
     "iopub.status.busy": "2022-06-05T12:14:39.065214Z",
     "iopub.status.idle": "2022-06-05T12:14:39.067398Z",
     "shell.execute_reply": "2022-06-05T12:14:39.066901Z"
    },
    "papermill": {
     "duration": 0.036321,
     "end_time": "2022-06-05T12:14:39.067497",
     "exception": false,
     "start_time": "2022-06-05T12:14:39.031176",
     "status": "completed"
    },
    "tags": []
   },
   "outputs": [],
   "source": [
    "#hide\n",
    "def get_frame(name):\n",
    "    url = (\n",
    "        'https://raw.githubusercontent.com/CSSEGISandData/COVID-19/master/csse_covid_19_data/'\n",
    "        f'csse_covid_19_time_series/time_series_covid19_{name}_global.csv')\n",
    "    df = pd.read_csv(url)\n",
    "    # rename countries\n",
    "    df['Country/Region'] = df['Country/Region'].replace(mapping['replace.country'])\n",
    "    return df"
   ]
  },
  {
   "cell_type": "code",
   "execution_count": 8,
   "id": "affiliated-characterization",
   "metadata": {
    "execution": {
     "iopub.execute_input": "2022-06-05T12:14:39.125094Z",
     "iopub.status.busy": "2022-06-05T12:14:39.124569Z",
     "iopub.status.idle": "2022-06-05T12:14:39.126907Z",
     "shell.execute_reply": "2022-06-05T12:14:39.127398Z"
    },
    "papermill": {
     "duration": 0.034137,
     "end_time": "2022-06-05T12:14:39.127515",
     "exception": false,
     "start_time": "2022-06-05T12:14:39.093378",
     "status": "completed"
    },
    "tags": []
   },
   "outputs": [],
   "source": [
    "#hide\n",
    "def get_dates(df):\n",
    "    dt_cols = df.columns[~df.columns.isin(['Province/State', 'Country/Region', 'Lat', 'Long'])]\n",
    "    LAST_DATE_I = -1\n",
    "    # sometimes last column may be empty, then go backwards\n",
    "    for i in range(-1, -len(dt_cols), -1):\n",
    "        if not df[dt_cols[i]].fillna(0).eq(0).all():\n",
    "            LAST_DATE_I = i\n",
    "            break\n",
    "    return LAST_DATE_I, dt_cols"
   ]
  },
  {
   "cell_type": "code",
   "execution_count": 9,
   "id": "recent-optimization",
   "metadata": {
    "execution": {
     "iopub.execute_input": "2022-06-05T12:14:39.184212Z",
     "iopub.status.busy": "2022-06-05T12:14:39.183656Z",
     "iopub.status.idle": "2022-06-05T12:14:39.839403Z",
     "shell.execute_reply": "2022-06-05T12:14:39.838337Z"
    },
    "papermill": {
     "duration": 0.686352,
     "end_time": "2022-06-05T12:14:39.839521",
     "exception": false,
     "start_time": "2022-06-05T12:14:39.153169",
     "status": "completed"
    },
    "tags": []
   },
   "outputs": [],
   "source": [
    "#hide\n",
    "COL_REGION = 'Country/Region'\n",
    "# Confirmed, Recovered, Deaths\n",
    "df = get_frame('confirmed')\n",
    "# dft_: timeseries, dfc_: today country agg\n",
    "dft_cases = df\n",
    "dft_deaths = get_frame('deaths')\n",
    "dft_recovered = get_frame('recovered')\n",
    "LAST_DATE_I, dt_cols = get_dates(df)"
   ]
  },
  {
   "cell_type": "code",
   "execution_count": 10,
   "id": "absolute-copper",
   "metadata": {
    "execution": {
     "iopub.execute_input": "2022-06-05T12:14:39.896241Z",
     "iopub.status.busy": "2022-06-05T12:14:39.895581Z",
     "iopub.status.idle": "2022-06-05T12:14:39.897759Z",
     "shell.execute_reply": "2022-06-05T12:14:39.897125Z"
    },
    "papermill": {
     "duration": 0.032257,
     "end_time": "2022-06-05T12:14:39.897876",
     "exception": false,
     "start_time": "2022-06-05T12:14:39.865619",
     "status": "completed"
    },
    "tags": []
   },
   "outputs": [],
   "source": [
    "#hide\n",
    "LAST_DATE_I, dt_cols = get_dates(df)\n",
    "dt_today =dt_cols[LAST_DATE_I]\n",
    "# dt_5day = dt_cols[LAST_DATE_I - 5]\n",
    "dt_yday = dt_cols[LAST_DATE_I - 1]"
   ]
  },
  {
   "cell_type": "code",
   "execution_count": 11,
   "id": "restricted-sheriff",
   "metadata": {
    "execution": {
     "iopub.execute_input": "2022-06-05T12:14:39.954266Z",
     "iopub.status.busy": "2022-06-05T12:14:39.953752Z",
     "iopub.status.idle": "2022-06-05T12:14:39.961094Z",
     "shell.execute_reply": "2022-06-05T12:14:39.961578Z"
    },
    "papermill": {
     "duration": 0.037939,
     "end_time": "2022-06-05T12:14:39.961684",
     "exception": false,
     "start_time": "2022-06-05T12:14:39.923745",
     "status": "completed"
    },
    "tags": []
   },
   "outputs": [],
   "source": [
    "#hide\n",
    "dfc_cases = dft_cases.groupby(COL_REGION)[dt_today].sum()\n",
    "dfc_deaths = dft_deaths.groupby(COL_REGION)[dt_today].sum()\n",
    "# dfp_cases = dft_cases.groupby(COL_REGION)[dt_5day].sum()\n",
    "# dfp_deaths = dft_deaths.groupby(COL_REGION)[dt_5day].sum()\n",
    "dfp_cases = dft_cases.groupby(COL_REGION)[dt_yday].sum()\n",
    "dfp_deaths = dft_deaths.groupby(COL_REGION)[dt_yday].sum()"
   ]
  },
  {
   "cell_type": "code",
   "execution_count": 12,
   "id": "deluxe-hepatitis",
   "metadata": {
    "execution": {
     "iopub.execute_input": "2022-06-05T12:14:40.018886Z",
     "iopub.status.busy": "2022-06-05T12:14:40.018195Z",
     "iopub.status.idle": "2022-06-05T12:14:40.022346Z",
     "shell.execute_reply": "2022-06-05T12:14:40.021853Z"
    },
    "papermill": {
     "duration": 0.03516,
     "end_time": "2022-06-05T12:14:40.022438",
     "exception": false,
     "start_time": "2022-06-05T12:14:39.987278",
     "status": "completed"
    },
    "tags": []
   },
   "outputs": [],
   "source": [
    "#hide\n",
    "df_table = (pd.DataFrame(dict(Cases = dfc_cases, Deaths = dfc_deaths, PCases = dfp_cases, PDeaths = dfp_deaths))\n",
    "            .sort_values(by = ['Cases','Deaths'], ascending = [False, False])\n",
    "            .reset_index())"
   ]
  },
  {
   "cell_type": "code",
   "execution_count": 13,
   "id": "educational-chancellor",
   "metadata": {
    "execution": {
     "iopub.execute_input": "2022-06-05T12:14:40.081812Z",
     "iopub.status.busy": "2022-06-05T12:14:40.081298Z",
     "iopub.status.idle": "2022-06-05T12:14:40.098714Z",
     "shell.execute_reply": "2022-06-05T12:14:40.098298Z"
    },
    "papermill": {
     "duration": 0.05083,
     "end_time": "2022-06-05T12:14:40.098813",
     "exception": false,
     "start_time": "2022-06-05T12:14:40.047983",
     "status": "completed"
    },
    "tags": []
   },
   "outputs": [
    {
     "data": {
      "text/html": [
       "<div>\n",
       "<style scoped>\n",
       "    .dataframe tbody tr th:only-of-type {\n",
       "        vertical-align: middle;\n",
       "    }\n",
       "\n",
       "    .dataframe tbody tr th {\n",
       "        vertical-align: top;\n",
       "    }\n",
       "\n",
       "    .dataframe thead th {\n",
       "        text-align: right;\n",
       "    }\n",
       "</style>\n",
       "<table border=\"1\" class=\"dataframe\">\n",
       "  <thead>\n",
       "    <tr style=\"text-align: right;\">\n",
       "      <th></th>\n",
       "      <th>Country/Region</th>\n",
       "      <th>Cases</th>\n",
       "      <th>Deaths</th>\n",
       "      <th>PCases</th>\n",
       "      <th>PDeaths</th>\n",
       "      <th>Cases (+)</th>\n",
       "      <th>Deaths (+)</th>\n",
       "      <th>Fatality Rate</th>\n",
       "      <th>Continent</th>\n",
       "    </tr>\n",
       "  </thead>\n",
       "  <tbody>\n",
       "    <tr>\n",
       "      <th>0</th>\n",
       "      <td>US</td>\n",
       "      <td>84748884</td>\n",
       "      <td>1008567</td>\n",
       "      <td>84724329</td>\n",
       "      <td>1008422</td>\n",
       "      <td>24555</td>\n",
       "      <td>145</td>\n",
       "      <td>1.19</td>\n",
       "      <td>North America</td>\n",
       "    </tr>\n",
       "    <tr>\n",
       "      <th>1</th>\n",
       "      <td>India</td>\n",
       "      <td>43176817</td>\n",
       "      <td>524692</td>\n",
       "      <td>43172547</td>\n",
       "      <td>524677</td>\n",
       "      <td>4270</td>\n",
       "      <td>15</td>\n",
       "      <td>1.22</td>\n",
       "      <td>Asia</td>\n",
       "    </tr>\n",
       "    <tr>\n",
       "      <th>2</th>\n",
       "      <td>Brazil</td>\n",
       "      <td>31137479</td>\n",
       "      <td>666971</td>\n",
       "      <td>31137479</td>\n",
       "      <td>666971</td>\n",
       "      <td>0</td>\n",
       "      <td>0</td>\n",
       "      <td>2.14</td>\n",
       "      <td>South America</td>\n",
       "    </tr>\n",
       "    <tr>\n",
       "      <th>3</th>\n",
       "      <td>France</td>\n",
       "      <td>29813848</td>\n",
       "      <td>149506</td>\n",
       "      <td>29788676</td>\n",
       "      <td>149503</td>\n",
       "      <td>25172</td>\n",
       "      <td>3</td>\n",
       "      <td>0.50</td>\n",
       "      <td>Europe</td>\n",
       "    </tr>\n",
       "    <tr>\n",
       "      <th>4</th>\n",
       "      <td>Germany</td>\n",
       "      <td>26493235</td>\n",
       "      <td>139386</td>\n",
       "      <td>26493235</td>\n",
       "      <td>139386</td>\n",
       "      <td>0</td>\n",
       "      <td>0</td>\n",
       "      <td>0.53</td>\n",
       "      <td>Europe</td>\n",
       "    </tr>\n",
       "  </tbody>\n",
       "</table>\n",
       "</div>"
      ],
      "text/plain": [
       "  Country/Region     Cases   Deaths    PCases  PDeaths  Cases (+)  Deaths (+)  \\\n",
       "0             US  84748884  1008567  84724329  1008422      24555         145   \n",
       "1          India  43176817   524692  43172547   524677       4270          15   \n",
       "2         Brazil  31137479   666971  31137479   666971          0           0   \n",
       "3         France  29813848   149506  29788676   149503      25172           3   \n",
       "4        Germany  26493235   139386  26493235   139386          0           0   \n",
       "\n",
       "   Fatality Rate      Continent  \n",
       "0           1.19  North America  \n",
       "1           1.22           Asia  \n",
       "2           2.14  South America  \n",
       "3           0.50         Europe  \n",
       "4           0.53         Europe  "
      ]
     },
     "execution_count": 13,
     "metadata": {},
     "output_type": "execute_result"
    }
   ],
   "source": [
    "#hide\n",
    "for c in 'Cases, Deaths'.split(', '):\n",
    "    df_table[f'{c} (+)'] = (df_table[c] - df_table[f'P{c}']).clip(0)\n",
    "    #Clip ça veut dire, les chiffres negatif sont interdit\n",
    "df_table['Fatality Rate'] = (100* df_table['Deaths']/ df_table['Cases']).round(2)\n",
    "df_table['Continent'] = df_table['Country/Region'].map(mapping['map.continent'])\n",
    "df_table.head(5)"
   ]
  },
  {
   "cell_type": "code",
   "execution_count": 14,
   "id": "aboriginal-bulgaria",
   "metadata": {
    "execution": {
     "iopub.execute_input": "2022-06-05T12:14:40.156534Z",
     "iopub.status.busy": "2022-06-05T12:14:40.156032Z",
     "iopub.status.idle": "2022-06-05T12:14:40.158331Z",
     "shell.execute_reply": "2022-06-05T12:14:40.158845Z"
    },
    "papermill": {
     "duration": 0.034037,
     "end_time": "2022-06-05T12:14:40.158954",
     "exception": false,
     "start_time": "2022-06-05T12:14:40.124917",
     "status": "completed"
    },
    "tags": []
   },
   "outputs": [],
   "source": [
    "#hide\n",
    "#delete problematic countries from table\n",
    "df_table = df_table[~df_table['Country/Region'].isin(['Cape Verde', 'Cruise Ship', 'Kosovo'])]"
   ]
  },
  {
   "cell_type": "code",
   "execution_count": 15,
   "id": "fantastic-effect",
   "metadata": {
    "execution": {
     "iopub.execute_input": "2022-06-05T12:14:40.218056Z",
     "iopub.status.busy": "2022-06-05T12:14:40.217553Z",
     "iopub.status.idle": "2022-06-05T12:14:40.235996Z",
     "shell.execute_reply": "2022-06-05T12:14:40.235583Z"
    },
    "papermill": {
     "duration": 0.051183,
     "end_time": "2022-06-05T12:14:40.236087",
     "exception": false,
     "start_time": "2022-06-05T12:14:40.184904",
     "status": "completed"
    },
    "tags": []
   },
   "outputs": [
    {
     "data": {
      "text/html": [
       "<div>\n",
       "<style scoped>\n",
       "    .dataframe tbody tr th:only-of-type {\n",
       "        vertical-align: middle;\n",
       "    }\n",
       "\n",
       "    .dataframe tbody tr th {\n",
       "        vertical-align: top;\n",
       "    }\n",
       "\n",
       "    .dataframe thead th {\n",
       "        text-align: right;\n",
       "    }\n",
       "</style>\n",
       "<table border=\"1\" class=\"dataframe\">\n",
       "  <thead>\n",
       "    <tr style=\"text-align: right;\">\n",
       "      <th></th>\n",
       "      <th>Country/Region</th>\n",
       "      <th>Cases</th>\n",
       "      <th>Deaths</th>\n",
       "      <th>PCases</th>\n",
       "      <th>PDeaths</th>\n",
       "      <th>Cases (+)</th>\n",
       "      <th>Deaths (+)</th>\n",
       "      <th>Fatality Rate</th>\n",
       "      <th>Continent</th>\n",
       "    </tr>\n",
       "  </thead>\n",
       "  <tbody>\n",
       "    <tr>\n",
       "      <th>0</th>\n",
       "      <td>US</td>\n",
       "      <td>84748884</td>\n",
       "      <td>1008567</td>\n",
       "      <td>84724329</td>\n",
       "      <td>1008422</td>\n",
       "      <td>24555</td>\n",
       "      <td>145</td>\n",
       "      <td>1.2</td>\n",
       "      <td>North America</td>\n",
       "    </tr>\n",
       "    <tr>\n",
       "      <th>1</th>\n",
       "      <td>India</td>\n",
       "      <td>43176817</td>\n",
       "      <td>524692</td>\n",
       "      <td>43172547</td>\n",
       "      <td>524677</td>\n",
       "      <td>4270</td>\n",
       "      <td>15</td>\n",
       "      <td>1.2</td>\n",
       "      <td>Asia</td>\n",
       "    </tr>\n",
       "    <tr>\n",
       "      <th>2</th>\n",
       "      <td>Brazil</td>\n",
       "      <td>31137479</td>\n",
       "      <td>666971</td>\n",
       "      <td>31137479</td>\n",
       "      <td>666971</td>\n",
       "      <td>0</td>\n",
       "      <td>0</td>\n",
       "      <td>2.1</td>\n",
       "      <td>South America</td>\n",
       "    </tr>\n",
       "    <tr>\n",
       "      <th>3</th>\n",
       "      <td>France</td>\n",
       "      <td>29813848</td>\n",
       "      <td>149506</td>\n",
       "      <td>29788676</td>\n",
       "      <td>149503</td>\n",
       "      <td>25172</td>\n",
       "      <td>3</td>\n",
       "      <td>0.5</td>\n",
       "      <td>Europe</td>\n",
       "    </tr>\n",
       "    <tr>\n",
       "      <th>4</th>\n",
       "      <td>Germany</td>\n",
       "      <td>26493235</td>\n",
       "      <td>139386</td>\n",
       "      <td>26493235</td>\n",
       "      <td>139386</td>\n",
       "      <td>0</td>\n",
       "      <td>0</td>\n",
       "      <td>0.5</td>\n",
       "      <td>Europe</td>\n",
       "    </tr>\n",
       "  </tbody>\n",
       "</table>\n",
       "</div>"
      ],
      "text/plain": [
       "  Country/Region     Cases   Deaths    PCases  PDeaths  Cases (+)  Deaths (+)  \\\n",
       "0             US  84748884  1008567  84724329  1008422      24555         145   \n",
       "1          India  43176817   524692  43172547   524677       4270          15   \n",
       "2         Brazil  31137479   666971  31137479   666971          0           0   \n",
       "3         France  29813848   149506  29788676   149503      25172           3   \n",
       "4        Germany  26493235   139386  26493235   139386          0           0   \n",
       "\n",
       "   Fatality Rate      Continent  \n",
       "0            1.2  North America  \n",
       "1            1.2           Asia  \n",
       "2            2.1  South America  \n",
       "3            0.5         Europe  \n",
       "4            0.5         Europe  "
      ]
     },
     "execution_count": 15,
     "metadata": {},
     "output_type": "execute_result"
    }
   ],
   "source": [
    "#hide\n",
    "df_table = (pd.DataFrame(dict(Cases=dfc_cases, Deaths=dfc_deaths, PCases=dfp_cases, PDeaths=dfp_deaths))\n",
    "             .sort_values(by=['Cases', 'Deaths'], ascending=[False, False])\n",
    "             .reset_index())\n",
    "df_table.rename(columns={'index': 'Country/Region'}, inplace=True)\n",
    "for c in 'Cases, Deaths'.split(', '):\n",
    "    df_table[f'{c} (+)'] = (df_table[c] - df_table[f'P{c}']).clip(0)  # DATA BUG\n",
    "df_table['Fatality Rate'] = (100 * df_table['Deaths'] / df_table['Cases']).round(1)\n",
    "df_table['Continent'] = df_table['Country/Region'].map(mapping['map.continent'])\n",
    "df_table.head(5)"
   ]
  },
  {
   "cell_type": "code",
   "execution_count": 16,
   "id": "fewer-occasion",
   "metadata": {
    "execution": {
     "iopub.execute_input": "2022-06-05T12:14:40.294234Z",
     "iopub.status.busy": "2022-06-05T12:14:40.293728Z",
     "iopub.status.idle": "2022-06-05T12:14:40.296110Z",
     "shell.execute_reply": "2022-06-05T12:14:40.296521Z"
    },
    "papermill": {
     "duration": 0.033982,
     "end_time": "2022-06-05T12:14:40.296625",
     "exception": false,
     "start_time": "2022-06-05T12:14:40.262643",
     "status": "completed"
    },
    "tags": []
   },
   "outputs": [],
   "source": [
    "#hide\n",
    "#delete problematic countries from table\n",
    "df_table = df_table[~df_table['Country/Region'].isin(['Cape Verde', 'Cruise Ship', 'Kosovo'])]"
   ]
  },
  {
   "cell_type": "code",
   "execution_count": 17,
   "id": "related-center",
   "metadata": {
    "execution": {
     "iopub.execute_input": "2022-06-05T12:14:40.364474Z",
     "iopub.status.busy": "2022-06-05T12:14:40.363967Z",
     "iopub.status.idle": "2022-06-05T12:14:40.366086Z",
     "shell.execute_reply": "2022-06-05T12:14:40.366493Z"
    },
    "papermill": {
     "duration": 0.043741,
     "end_time": "2022-06-05T12:14:40.366599",
     "exception": false,
     "start_time": "2022-06-05T12:14:40.322858",
     "status": "completed"
    },
    "tags": []
   },
   "outputs": [],
   "source": [
    "#hide\n",
    "metrics = [df_table.columns[index] for index in [1,2,5,6]]\n",
    "# s_china = df_table[df_table['Country/Region'].eq('China')][metrics].sum().add_prefix('China ')\n",
    "s_us = df_table[df_table['Country/Region'].eq('US')][metrics].sum().add_prefix('US ')\n",
    "s_eu = df_table[df_table['Continent'].eq('Europe')][metrics].sum().add_prefix('EU ')\n",
    "s_ind = df_table[df_table['Country/Region'].eq('India')][metrics].sum().add_prefix('India ')\n",
    "summary = {'updated': pd.to_datetime(dt_today), 'since': pd.to_datetime(dt_yday)}\n",
    "summary = {'updated': pd.to_datetime(dt_today), 'since': pd.to_datetime(dt_yday)}\n",
    "summary = {**summary, **df_table[metrics].sum(), **s_ind, **s_us, **s_eu}"
   ]
  },
  {
   "cell_type": "code",
   "execution_count": 18,
   "id": "engaging-syndrome",
   "metadata": {
    "execution": {
     "iopub.execute_input": "2022-06-05T12:14:40.424648Z",
     "iopub.status.busy": "2022-06-05T12:14:40.424145Z",
     "iopub.status.idle": "2022-06-05T12:14:40.442846Z",
     "shell.execute_reply": "2022-06-05T12:14:40.442318Z"
    },
    "papermill": {
     "duration": 0.049473,
     "end_time": "2022-06-05T12:14:40.442941",
     "exception": false,
     "start_time": "2022-06-05T12:14:40.393468",
     "status": "completed"
    },
    "tags": []
   },
   "outputs": [],
   "source": [
    "#hide\n",
    "dft_ct_new_cases = dft_cases.groupby(COL_REGION)[dt_cols].sum().diff(axis=1).fillna(0).astype(int)"
   ]
  },
  {
   "cell_type": "code",
   "execution_count": 19,
   "id": "neutral-assignment",
   "metadata": {
    "execution": {
     "iopub.execute_input": "2022-06-05T12:14:40.502232Z",
     "iopub.status.busy": "2022-06-05T12:14:40.501723Z",
     "iopub.status.idle": "2022-06-05T12:14:40.504589Z",
     "shell.execute_reply": "2022-06-05T12:14:40.504177Z"
    },
    "papermill": {
     "duration": 0.035134,
     "end_time": "2022-06-05T12:14:40.504681",
     "exception": false,
     "start_time": "2022-06-05T12:14:40.469547",
     "status": "completed"
    },
    "tags": []
   },
   "outputs": [],
   "source": [
    "#hide\n",
    "everydaycases = dft_ct_new_cases.cumsum(axis=1)"
   ]
  },
  {
   "cell_type": "code",
   "execution_count": 20,
   "id": "parliamentary-calgary",
   "metadata": {
    "execution": {
     "iopub.execute_input": "2022-06-05T12:14:40.561826Z",
     "iopub.status.busy": "2022-06-05T12:14:40.561305Z",
     "iopub.status.idle": "2022-06-05T12:14:41.123398Z",
     "shell.execute_reply": "2022-06-05T12:14:41.122782Z"
    },
    "papermill": {
     "duration": 0.59237,
     "end_time": "2022-06-05T12:14:41.123528",
     "exception": false,
     "start_time": "2022-06-05T12:14:40.531158",
     "status": "completed"
    },
    "tags": []
   },
   "outputs": [],
   "source": [
    "#hide\n",
    "import pandas as pd\n",
    "import matplotlib.pyplot as plt\n",
    "import matplotlib.ticker as ticker\n",
    "import matplotlib.animation as animation\n",
    "from IPython.display import HTML"
   ]
  },
  {
   "cell_type": "code",
   "execution_count": 21,
   "id": "lasting-extraction",
   "metadata": {
    "execution": {
     "iopub.execute_input": "2022-06-05T12:14:41.183907Z",
     "iopub.status.busy": "2022-06-05T12:14:41.183390Z",
     "iopub.status.idle": "2022-06-05T12:14:41.189086Z",
     "shell.execute_reply": "2022-06-05T12:14:41.189575Z"
    },
    "papermill": {
     "duration": 0.038238,
     "end_time": "2022-06-05T12:14:41.189686",
     "exception": false,
     "start_time": "2022-06-05T12:14:41.151448",
     "status": "completed"
    },
    "tags": []
   },
   "outputs": [],
   "source": [
    "#hide\n",
    "t = everydaycases.stack()"
   ]
  },
  {
   "cell_type": "code",
   "execution_count": 22,
   "id": "premier-sleeve",
   "metadata": {
    "execution": {
     "iopub.execute_input": "2022-06-05T12:14:41.247234Z",
     "iopub.status.busy": "2022-06-05T12:14:41.246703Z",
     "iopub.status.idle": "2022-06-05T12:14:41.257073Z",
     "shell.execute_reply": "2022-06-05T12:14:41.257562Z"
    },
    "papermill": {
     "duration": 0.04146,
     "end_time": "2022-06-05T12:14:41.257674",
     "exception": false,
     "start_time": "2022-06-05T12:14:41.216214",
     "status": "completed"
    },
    "tags": []
   },
   "outputs": [],
   "source": [
    "#hide\n",
    "g = t.reset_index(['Country/Region'])"
   ]
  },
  {
   "cell_type": "code",
   "execution_count": 23,
   "id": "distributed-pittsburgh",
   "metadata": {
    "execution": {
     "iopub.execute_input": "2022-06-05T12:14:41.315833Z",
     "iopub.status.busy": "2022-06-05T12:14:41.315328Z",
     "iopub.status.idle": "2022-06-05T12:14:41.318224Z",
     "shell.execute_reply": "2022-06-05T12:14:41.317816Z"
    },
    "papermill": {
     "duration": 0.033489,
     "end_time": "2022-06-05T12:14:41.318318",
     "exception": false,
     "start_time": "2022-06-05T12:14:41.284829",
     "status": "completed"
    },
    "tags": []
   },
   "outputs": [],
   "source": [
    "#hide\n",
    "g.index.name = 'date'"
   ]
  },
  {
   "cell_type": "code",
   "execution_count": 24,
   "id": "naked-donor",
   "metadata": {
    "execution": {
     "iopub.execute_input": "2022-06-05T12:14:41.374905Z",
     "iopub.status.busy": "2022-06-05T12:14:41.374243Z",
     "iopub.status.idle": "2022-06-05T12:14:41.376613Z",
     "shell.execute_reply": "2022-06-05T12:14:41.376022Z"
    },
    "papermill": {
     "duration": 0.031894,
     "end_time": "2022-06-05T12:14:41.376720",
     "exception": false,
     "start_time": "2022-06-05T12:14:41.344826",
     "status": "completed"
    },
    "tags": []
   },
   "outputs": [],
   "source": [
    "# #hide\n",
    "# g = g.reset_index(['date'])"
   ]
  },
  {
   "cell_type": "code",
   "execution_count": 25,
   "id": "incomplete-mustang",
   "metadata": {
    "execution": {
     "iopub.execute_input": "2022-06-05T12:14:41.434736Z",
     "iopub.status.busy": "2022-06-05T12:14:41.434206Z",
     "iopub.status.idle": "2022-06-05T12:14:41.437254Z",
     "shell.execute_reply": "2022-06-05T12:14:41.436754Z"
    },
    "papermill": {
     "duration": 0.03244,
     "end_time": "2022-06-05T12:14:41.437345",
     "exception": false,
     "start_time": "2022-06-05T12:14:41.404905",
     "status": "completed"
    },
    "tags": []
   },
   "outputs": [],
   "source": [
    "#hide\n",
    "# g.head()"
   ]
  },
  {
   "cell_type": "code",
   "execution_count": 26,
   "id": "specific-kruger",
   "metadata": {
    "execution": {
     "iopub.execute_input": "2022-06-05T12:14:41.494833Z",
     "iopub.status.busy": "2022-06-05T12:14:41.494121Z",
     "iopub.status.idle": "2022-06-05T12:14:41.497396Z",
     "shell.execute_reply": "2022-06-05T12:14:41.496972Z"
    },
    "papermill": {
     "duration": 0.033361,
     "end_time": "2022-06-05T12:14:41.497490",
     "exception": false,
     "start_time": "2022-06-05T12:14:41.464129",
     "status": "completed"
    },
    "tags": []
   },
   "outputs": [],
   "source": [
    "#hide\n",
    "# g.columns = ['date','country','cases']"
   ]
  },
  {
   "cell_type": "code",
   "execution_count": 27,
   "id": "tender-conversion",
   "metadata": {
    "execution": {
     "iopub.execute_input": "2022-06-05T12:14:41.554001Z",
     "iopub.status.busy": "2022-06-05T12:14:41.553472Z",
     "iopub.status.idle": "2022-06-05T12:14:41.555943Z",
     "shell.execute_reply": "2022-06-05T12:14:41.555419Z"
    },
    "papermill": {
     "duration": 0.031974,
     "end_time": "2022-06-05T12:14:41.556041",
     "exception": false,
     "start_time": "2022-06-05T12:14:41.524067",
     "status": "completed"
    },
    "tags": []
   },
   "outputs": [],
   "source": [
    "#hide\n",
    "# g['continent'] = g.country"
   ]
  },
  {
   "cell_type": "code",
   "execution_count": 28,
   "id": "substantial-wilderness",
   "metadata": {
    "execution": {
     "iopub.execute_input": "2022-06-05T12:14:41.612995Z",
     "iopub.status.busy": "2022-06-05T12:14:41.612331Z",
     "iopub.status.idle": "2022-06-05T12:14:41.614056Z",
     "shell.execute_reply": "2022-06-05T12:14:41.614580Z"
    },
    "papermill": {
     "duration": 0.032058,
     "end_time": "2022-06-05T12:14:41.614718",
     "exception": false,
     "start_time": "2022-06-05T12:14:41.582660",
     "status": "completed"
    },
    "tags": []
   },
   "outputs": [],
   "source": [
    "#hide\n",
    "# cols = list(g.columns.values)"
   ]
  },
  {
   "cell_type": "code",
   "execution_count": 29,
   "id": "solved-farming",
   "metadata": {
    "execution": {
     "iopub.execute_input": "2022-06-05T12:14:41.671303Z",
     "iopub.status.busy": "2022-06-05T12:14:41.670791Z",
     "iopub.status.idle": "2022-06-05T12:14:41.673615Z",
     "shell.execute_reply": "2022-06-05T12:14:41.673207Z"
    },
    "papermill": {
     "duration": 0.032167,
     "end_time": "2022-06-05T12:14:41.673705",
     "exception": false,
     "start_time": "2022-06-05T12:14:41.641538",
     "status": "completed"
    },
    "tags": []
   },
   "outputs": [],
   "source": [
    "#hide\n",
    "# cols.insert(0, cols.pop())"
   ]
  },
  {
   "cell_type": "code",
   "execution_count": 30,
   "id": "executed-adoption",
   "metadata": {
    "execution": {
     "iopub.execute_input": "2022-06-05T12:14:41.731221Z",
     "iopub.status.busy": "2022-06-05T12:14:41.730544Z",
     "iopub.status.idle": "2022-06-05T12:14:41.732260Z",
     "shell.execute_reply": "2022-06-05T12:14:41.732760Z"
    },
    "papermill": {
     "duration": 0.032604,
     "end_time": "2022-06-05T12:14:41.732893",
     "exception": false,
     "start_time": "2022-06-05T12:14:41.700289",
     "status": "completed"
    },
    "tags": []
   },
   "outputs": [],
   "source": [
    "#hide\n",
    "# g = g[cols]"
   ]
  },
  {
   "cell_type": "code",
   "execution_count": 31,
   "id": "subject-dublin",
   "metadata": {
    "execution": {
     "iopub.execute_input": "2022-06-05T12:14:41.790515Z",
     "iopub.status.busy": "2022-06-05T12:14:41.789981Z",
     "iopub.status.idle": "2022-06-05T12:14:41.792408Z",
     "shell.execute_reply": "2022-06-05T12:14:41.791914Z"
    },
    "papermill": {
     "duration": 0.031792,
     "end_time": "2022-06-05T12:14:41.792501",
     "exception": false,
     "start_time": "2022-06-05T12:14:41.760709",
     "status": "completed"
    },
    "tags": []
   },
   "outputs": [],
   "source": [
    "#hide\n",
    "# g['continent'] = g['continent'].map(mapping['map.continent'])"
   ]
  },
  {
   "cell_type": "code",
   "execution_count": 32,
   "id": "freelance-scout",
   "metadata": {
    "execution": {
     "iopub.execute_input": "2022-06-05T12:14:41.849489Z",
     "iopub.status.busy": "2022-06-05T12:14:41.848830Z",
     "iopub.status.idle": "2022-06-05T12:14:41.852229Z",
     "shell.execute_reply": "2022-06-05T12:14:41.852602Z"
    },
    "papermill": {
     "duration": 0.033516,
     "end_time": "2022-06-05T12:14:41.852712",
     "exception": false,
     "start_time": "2022-06-05T12:14:41.819196",
     "status": "completed"
    },
    "tags": []
   },
   "outputs": [],
   "source": [
    "#hide\n",
    "# g.head()"
   ]
  },
  {
   "cell_type": "code",
   "execution_count": 33,
   "id": "limited-engine",
   "metadata": {
    "execution": {
     "iopub.execute_input": "2022-06-05T12:14:41.909052Z",
     "iopub.status.busy": "2022-06-05T12:14:41.908396Z",
     "iopub.status.idle": "2022-06-05T12:14:41.910823Z",
     "shell.execute_reply": "2022-06-05T12:14:41.910168Z"
    },
    "papermill": {
     "duration": 0.031886,
     "end_time": "2022-06-05T12:14:41.910941",
     "exception": false,
     "start_time": "2022-06-05T12:14:41.879055",
     "status": "completed"
    },
    "tags": []
   },
   "outputs": [],
   "source": [
    "# hide\n",
    "# g['date'] = g['date'].astype('datetime64[ns]')"
   ]
  },
  {
   "cell_type": "code",
   "execution_count": 34,
   "id": "sophisticated-supervisor",
   "metadata": {
    "execution": {
     "iopub.execute_input": "2022-06-05T12:14:41.967962Z",
     "iopub.status.busy": "2022-06-05T12:14:41.967309Z",
     "iopub.status.idle": "2022-06-05T12:14:41.969898Z",
     "shell.execute_reply": "2022-06-05T12:14:41.969374Z"
    },
    "papermill": {
     "duration": 0.032397,
     "end_time": "2022-06-05T12:14:41.970013",
     "exception": false,
     "start_time": "2022-06-05T12:14:41.937616",
     "status": "completed"
    },
    "tags": []
   },
   "outputs": [],
   "source": [
    "#hide\n",
    "# g['date'] = g.date.dt.dayofyear"
   ]
  },
  {
   "cell_type": "code",
   "execution_count": 35,
   "id": "inside-dubai",
   "metadata": {
    "execution": {
     "iopub.execute_input": "2022-06-05T12:14:42.026692Z",
     "iopub.status.busy": "2022-06-05T12:14:42.025857Z",
     "iopub.status.idle": "2022-06-05T12:14:42.028754Z",
     "shell.execute_reply": "2022-06-05T12:14:42.029238Z"
    },
    "papermill": {
     "duration": 0.032558,
     "end_time": "2022-06-05T12:14:42.029343",
     "exception": false,
     "start_time": "2022-06-05T12:14:41.996785",
     "status": "completed"
    },
    "tags": []
   },
   "outputs": [],
   "source": [
    "#hide\n",
    "# g = g.rename(columns= {'continent':'group','country':'name','cases':'value'})"
   ]
  },
  {
   "cell_type": "code",
   "execution_count": 36,
   "id": "fleet-motorcycle",
   "metadata": {
    "execution": {
     "iopub.execute_input": "2022-06-05T12:14:42.086370Z",
     "iopub.status.busy": "2022-06-05T12:14:42.085701Z",
     "iopub.status.idle": "2022-06-05T12:14:42.087408Z",
     "shell.execute_reply": "2022-06-05T12:14:42.087911Z"
    },
    "papermill": {
     "duration": 0.03219,
     "end_time": "2022-06-05T12:14:42.088043",
     "exception": false,
     "start_time": "2022-06-05T12:14:42.055853",
     "status": "completed"
    },
    "tags": []
   },
   "outputs": [],
   "source": [
    "#hide\n",
    "# cols = ['name','group','day','value']"
   ]
  },
  {
   "cell_type": "code",
   "execution_count": 37,
   "id": "continued-sleeping",
   "metadata": {
    "execution": {
     "iopub.execute_input": "2022-06-05T12:14:42.145970Z",
     "iopub.status.busy": "2022-06-05T12:14:42.145448Z",
     "iopub.status.idle": "2022-06-05T12:14:42.147832Z",
     "shell.execute_reply": "2022-06-05T12:14:42.147436Z"
    },
    "papermill": {
     "duration": 0.031966,
     "end_time": "2022-06-05T12:14:42.147927",
     "exception": false,
     "start_time": "2022-06-05T12:14:42.115961",
     "status": "completed"
    },
    "tags": []
   },
   "outputs": [],
   "source": [
    "#hide\n",
    "# g.rename(columns= {'date':'day'},inplace = True)"
   ]
  },
  {
   "cell_type": "code",
   "execution_count": 38,
   "id": "major-fight",
   "metadata": {
    "execution": {
     "iopub.execute_input": "2022-06-05T12:14:42.204957Z",
     "iopub.status.busy": "2022-06-05T12:14:42.204302Z",
     "iopub.status.idle": "2022-06-05T12:14:42.206630Z",
     "shell.execute_reply": "2022-06-05T12:14:42.206217Z"
    },
    "papermill": {
     "duration": 0.03212,
     "end_time": "2022-06-05T12:14:42.206728",
     "exception": false,
     "start_time": "2022-06-05T12:14:42.174608",
     "status": "completed"
    },
    "tags": []
   },
   "outputs": [],
   "source": [
    "#hide\n",
    "# g = g[cols]"
   ]
  },
  {
   "cell_type": "code",
   "execution_count": 39,
   "id": "structured-mobile",
   "metadata": {
    "execution": {
     "iopub.execute_input": "2022-06-05T12:14:42.262967Z",
     "iopub.status.busy": "2022-06-05T12:14:42.262282Z",
     "iopub.status.idle": "2022-06-05T12:14:42.264954Z",
     "shell.execute_reply": "2022-06-05T12:14:42.264431Z"
    },
    "papermill": {
     "duration": 0.032005,
     "end_time": "2022-06-05T12:14:42.265068",
     "exception": false,
     "start_time": "2022-06-05T12:14:42.233063",
     "status": "completed"
    },
    "tags": []
   },
   "outputs": [],
   "source": [
    "# #hide\n",
    "# g = g[g.group.notna()]"
   ]
  },
  {
   "cell_type": "code",
   "execution_count": 40,
   "id": "determined-closing",
   "metadata": {
    "execution": {
     "iopub.execute_input": "2022-06-05T12:14:42.322185Z",
     "iopub.status.busy": "2022-06-05T12:14:42.321525Z",
     "iopub.status.idle": "2022-06-05T12:14:42.325943Z",
     "shell.execute_reply": "2022-06-05T12:14:42.325418Z"
    },
    "papermill": {
     "duration": 0.033992,
     "end_time": "2022-06-05T12:14:42.326056",
     "exception": false,
     "start_time": "2022-06-05T12:14:42.292064",
     "status": "completed"
    },
    "tags": []
   },
   "outputs": [],
   "source": [
    "# #hide\n",
    "# colors = dict(zip(\n",
    "#     [\"Oceania\", \"Europe\", \"Asia\", \"South America\", \"Middle East\", \"North America\", \"Africa\"],\n",
    "#     [\"#adb0ff\", \"#ffb3ff\", \"#90d595\", \"#e48381\", \"#aafbff\", \"#f7bb5f\", \"#eafb50\"]\n",
    "# ))\n",
    "# group_lk = g.set_index('name')['group'].to_dict()"
   ]
  },
  {
   "cell_type": "code",
   "execution_count": null,
   "id": "gross-drinking",
   "metadata": {
    "papermill": {
     "duration": 0.026546,
     "end_time": "2022-06-05T12:14:42.379391",
     "exception": false,
     "start_time": "2022-06-05T12:14:42.352845",
     "status": "completed"
    },
    "tags": []
   },
   "outputs": [],
   "source": []
  },
  {
   "cell_type": "code",
   "execution_count": 41,
   "id": "subject-macintosh",
   "metadata": {
    "execution": {
     "iopub.execute_input": "2022-06-05T12:14:42.437034Z",
     "iopub.status.busy": "2022-06-05T12:14:42.436359Z",
     "iopub.status.idle": "2022-06-05T12:14:42.438859Z",
     "shell.execute_reply": "2022-06-05T12:14:42.438267Z"
    },
    "papermill": {
     "duration": 0.032826,
     "end_time": "2022-06-05T12:14:42.438974",
     "exception": false,
     "start_time": "2022-06-05T12:14:42.406148",
     "status": "completed"
    },
    "tags": []
   },
   "outputs": [],
   "source": [
    "# #hide\n",
    "# fig, ax = plt.subplots(figsize=(15, 8))\n",
    "\n",
    "# def draw_barchart(current_day):\n",
    "#     dff = g[g['day'].eq(current_day)].sort_values(by='value', ascending=True).tail(10)\n",
    "#     ax.clear()\n",
    "#     ax.barh(dff['name'], dff['value'], color=[colors[group_lk[x]] for x in dff['name']])\n",
    "#     dx = dff['value'].max() / 200\n",
    "    \n",
    "#     for i, (value, name) in enumerate(zip(dff['value'], dff['name'])):\n",
    "#         ax.text(value-dx, i,     name,           size=14, weight=600, ha='right', va='bottom')\n",
    "#         ax.text(value-dx, i-.25, group_lk[name], size=10, color='#444444', ha='right', va='baseline')\n",
    "#         ax.text(value+dx, i,     f'{value:,.0f}',  size=14, ha='left',  va='center')\n",
    "#     ax.text(1, 0.4, current_day, transform=ax.transAxes, color='#777777', size=46, ha='right', weight=800)\n",
    "#     ax.text(0, 1.06, 'Population (thousands)', transform=ax.transAxes, size=12, color='#777777')\n",
    "#     ax.xaxis.set_major_formatter(ticker.StrMethodFormatter('{x:,.0f}'))\n",
    "#     ax.xaxis.set_ticks_position('top')\n",
    "#     ax.tick_params(axis='x', colors='#777777', labelsize=12)\n",
    "#     ax.set_yticks([])\n",
    "#     ax.margins(0, 0.01)\n",
    "#     ax.grid(which='major', axis='x', linestyle='-')\n",
    "#     ax.set_axisbelow(True)\n",
    "    \n",
    "#     ax.text(0, 1.15, 'Coronavirus',\n",
    "#             transform=ax.transAxes, size=24, weight=600, ha='left', va='top')\n",
    "# #     ax.text(1, 0, 'by @pratapvardhan; credit @jburnmurdoch', transform=ax.transAxes, color='#777777', ha='right',\n",
    "# #             bbox=dict(facecolor='white', alpha=0.8, edgecolor='white'))\n",
    "#     plt.box(False)"
   ]
  },
  {
   "cell_type": "code",
   "execution_count": 42,
   "id": "sexual-wages",
   "metadata": {
    "execution": {
     "iopub.execute_input": "2022-06-05T12:14:42.497009Z",
     "iopub.status.busy": "2022-06-05T12:14:42.496314Z",
     "iopub.status.idle": "2022-06-05T12:14:42.498010Z",
     "shell.execute_reply": "2022-06-05T12:14:42.498536Z"
    },
    "papermill": {
     "duration": 0.032815,
     "end_time": "2022-06-05T12:14:42.498679",
     "exception": false,
     "start_time": "2022-06-05T12:14:42.465864",
     "status": "completed"
    },
    "tags": []
   },
   "outputs": [],
   "source": [
    "# #hide_input\n",
    "# fig, ax = plt.subplots(figsize=(15, 8))\n",
    "# animator = animation.FuncAnimation(fig, draw_barchart, frames=range(g.day.values.min(), g.day.values.max()))\n",
    "# HTML(animator.to_jshtml())\n",
    "# # or use animator.to_html5_video() or animator.save() "
   ]
  },
  {
   "cell_type": "code",
   "execution_count": null,
   "id": "australian-container",
   "metadata": {
    "papermill": {
     "duration": 0.026518,
     "end_time": "2022-06-05T12:14:42.552240",
     "exception": false,
     "start_time": "2022-06-05T12:14:42.525722",
     "status": "completed"
    },
    "tags": []
   },
   "outputs": [],
   "source": []
  },
  {
   "cell_type": "code",
   "execution_count": null,
   "id": "mediterranean-pontiac",
   "metadata": {
    "papermill": {
     "duration": 0.026467,
     "end_time": "2022-06-05T12:14:42.605210",
     "exception": false,
     "start_time": "2022-06-05T12:14:42.578743",
     "status": "completed"
    },
    "tags": []
   },
   "outputs": [],
   "source": []
  },
  {
   "cell_type": "code",
   "execution_count": null,
   "id": "aging-legislature",
   "metadata": {
    "papermill": {
     "duration": 0.026431,
     "end_time": "2022-06-05T12:14:42.658343",
     "exception": false,
     "start_time": "2022-06-05T12:14:42.631912",
     "status": "completed"
    },
    "tags": []
   },
   "outputs": [],
   "source": []
  }
 ],
 "metadata": {
  "kernelspec": {
   "display_name": "Python 3",
   "language": "python",
   "name": "python3"
  },
  "language_info": {
   "codemirror_mode": {
    "name": "ipython",
    "version": 3
   },
   "file_extension": ".py",
   "mimetype": "text/x-python",
   "name": "python",
   "nbconvert_exporter": "python",
   "pygments_lexer": "ipython3",
   "version": "3.6.15"
  },
  "papermill": {
   "duration": 5.873282,
   "end_time": "2022-06-05T12:14:43.003688",
   "environment_variables": {},
   "exception": null,
   "input_path": "2020-03-21-covid19exp.ipynb",
   "output_path": "2020-03-21-covid19exp.ipynb",
   "parameters": {},
   "start_time": "2022-06-05T12:14:37.130406",
   "version": "2.0.0"
  }
 },
 "nbformat": 4,
 "nbformat_minor": 5
}