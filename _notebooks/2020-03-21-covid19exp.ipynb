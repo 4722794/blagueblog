{
 "cells": [
  {
   "cell_type": "markdown",
   "metadata": {
    "papermill": {
     "duration": 0.037075,
     "end_time": "2021-01-20T00:44:18.282755",
     "exception": false,
     "start_time": "2021-01-20T00:44:18.245680",
     "status": "completed"
    },
    "tags": []
   },
   "source": [
    "# COVID-19 Case Race\n",
    "> A race chart to see rising cases around the world\n",
    "\n",
    "- author: Hargun Oberoi\n",
    "- image: images/covid-overview.png\n",
    "- hide: false\n",
    "- badges: false"
   ]
  },
  {
   "cell_type": "code",
   "execution_count": 1,
   "metadata": {
    "execution": {
     "iopub.execute_input": "2021-01-20T00:44:18.360849Z",
     "iopub.status.busy": "2021-01-20T00:44:18.360169Z",
     "iopub.status.idle": "2021-01-20T00:44:18.738123Z",
     "shell.execute_reply": "2021-01-20T00:44:18.738689Z"
    },
    "papermill": {
     "duration": 0.423025,
     "end_time": "2021-01-20T00:44:18.738928",
     "exception": false,
     "start_time": "2021-01-20T00:44:18.315903",
     "status": "completed"
    },
    "tags": []
   },
   "outputs": [],
   "source": [
    "#hide\n",
    "import numpy as np\n",
    "import pandas as pd\n",
    "from jinja2 import Template\n",
    "from IPython.display import HTML"
   ]
  },
  {
   "cell_type": "code",
   "execution_count": 2,
   "metadata": {
    "execution": {
     "iopub.execute_input": "2021-01-20T00:44:18.814585Z",
     "iopub.status.busy": "2021-01-20T00:44:18.813815Z",
     "iopub.status.idle": "2021-01-20T00:44:18.815986Z",
     "shell.execute_reply": "2021-01-20T00:44:18.816615Z"
    },
    "papermill": {
     "duration": 0.042526,
     "end_time": "2021-01-20T00:44:18.816786",
     "exception": false,
     "start_time": "2021-01-20T00:44:18.774260",
     "status": "completed"
    },
    "tags": []
   },
   "outputs": [],
   "source": [
    "#hide\n",
    "\n",
    "# FETCH\n",
    "base_url = 'https://raw.githubusercontent.com/pratapvardhan/notebooks/master/covid19/'\n",
    "paths = {\n",
    "    'mapping': base_url + 'mapping_countries.csv',\n",
    "    'overview': base_url + 'overview.tpl'\n",
    "}"
   ]
  },
  {
   "cell_type": "code",
   "execution_count": 3,
   "metadata": {
    "execution": {
     "iopub.execute_input": "2021-01-20T00:44:18.898155Z",
     "iopub.status.busy": "2021-01-20T00:44:18.897477Z",
     "iopub.status.idle": "2021-01-20T00:44:18.901957Z",
     "shell.execute_reply": "2021-01-20T00:44:18.902494Z"
    },
    "papermill": {
     "duration": 0.051242,
     "end_time": "2021-01-20T00:44:18.902666",
     "exception": false,
     "start_time": "2021-01-20T00:44:18.851424",
     "status": "completed"
    },
    "tags": []
   },
   "outputs": [
    {
     "data": {
      "text/plain": [
       "'https://raw.githubusercontent.com/pratapvardhan/notebooks/master/covid19/mapping_countries.csv'"
      ]
     },
     "execution_count": 3,
     "metadata": {},
     "output_type": "execute_result"
    }
   ],
   "source": [
    "#hide\n",
    "paths['mapping']"
   ]
  },
  {
   "cell_type": "code",
   "execution_count": 4,
   "metadata": {
    "execution": {
     "iopub.execute_input": "2021-01-20T00:44:18.977476Z",
     "iopub.status.busy": "2021-01-20T00:44:18.976711Z",
     "iopub.status.idle": "2021-01-20T00:44:18.979271Z",
     "shell.execute_reply": "2021-01-20T00:44:18.978718Z"
    },
    "papermill": {
     "duration": 0.042747,
     "end_time": "2021-01-20T00:44:18.979408",
     "exception": false,
     "start_time": "2021-01-20T00:44:18.936661",
     "status": "completed"
    },
    "tags": []
   },
   "outputs": [],
   "source": [
    "#hide\n",
    "def get_mappings(url):\n",
    "    df = pd.read_csv(url)\n",
    "    return {\n",
    "        'df': df,\n",
    "        'replace.country': dict(df.dropna(subset=['Name']).set_index('Country')['Name']),\n",
    "        'map.continent': dict(df.set_index('Name')['Continent'])\n",
    "    }"
   ]
  },
  {
   "cell_type": "code",
   "execution_count": 5,
   "metadata": {
    "execution": {
     "iopub.execute_input": "2021-01-20T00:44:19.055446Z",
     "iopub.status.busy": "2021-01-20T00:44:19.054637Z",
     "iopub.status.idle": "2021-01-20T00:44:19.107172Z",
     "shell.execute_reply": "2021-01-20T00:44:19.106507Z"
    },
    "papermill": {
     "duration": 0.092934,
     "end_time": "2021-01-20T00:44:19.107343",
     "exception": false,
     "start_time": "2021-01-20T00:44:19.014409",
     "status": "completed"
    },
    "tags": []
   },
   "outputs": [],
   "source": [
    "#hide\n",
    "mapping = get_mappings(paths['mapping'])"
   ]
  },
  {
   "cell_type": "code",
   "execution_count": 6,
   "metadata": {
    "execution": {
     "iopub.execute_input": "2021-01-20T00:44:19.184680Z",
     "iopub.status.busy": "2021-01-20T00:44:19.183923Z",
     "iopub.status.idle": "2021-01-20T00:44:19.186391Z",
     "shell.execute_reply": "2021-01-20T00:44:19.185799Z"
    },
    "papermill": {
     "duration": 0.042133,
     "end_time": "2021-01-20T00:44:19.186530",
     "exception": false,
     "start_time": "2021-01-20T00:44:19.144397",
     "status": "completed"
    },
    "tags": []
   },
   "outputs": [],
   "source": [
    "#hide\n",
    "def get_template(path):\n",
    "    from urllib.parse import urlparse\n",
    "    if bool(urlparse(path).netloc):\n",
    "        from urllib.request import urlopen\n",
    "        return urlopen(path).read().decode('utf8')\n",
    "    return open(path).read()"
   ]
  },
  {
   "cell_type": "code",
   "execution_count": 7,
   "metadata": {
    "execution": {
     "iopub.execute_input": "2021-01-20T00:44:19.259863Z",
     "iopub.status.busy": "2021-01-20T00:44:19.259211Z",
     "iopub.status.idle": "2021-01-20T00:44:19.261674Z",
     "shell.execute_reply": "2021-01-20T00:44:19.260973Z"
    },
    "papermill": {
     "duration": 0.041385,
     "end_time": "2021-01-20T00:44:19.261840",
     "exception": false,
     "start_time": "2021-01-20T00:44:19.220455",
     "status": "completed"
    },
    "tags": []
   },
   "outputs": [],
   "source": [
    "#hide\n",
    "def get_frame(name):\n",
    "    url = (\n",
    "        'https://raw.githubusercontent.com/CSSEGISandData/COVID-19/master/csse_covid_19_data/'\n",
    "        f'csse_covid_19_time_series/time_series_covid19_{name}_global.csv')\n",
    "    df = pd.read_csv(url)\n",
    "    # rename countries\n",
    "    df['Country/Region'] = df['Country/Region'].replace(mapping['replace.country'])\n",
    "    return df"
   ]
  },
  {
   "cell_type": "code",
   "execution_count": 8,
   "metadata": {
    "execution": {
     "iopub.execute_input": "2021-01-20T00:44:19.333897Z",
     "iopub.status.busy": "2021-01-20T00:44:19.333256Z",
     "iopub.status.idle": "2021-01-20T00:44:19.335037Z",
     "shell.execute_reply": "2021-01-20T00:44:19.335571Z"
    },
    "papermill": {
     "duration": 0.041133,
     "end_time": "2021-01-20T00:44:19.335723",
     "exception": false,
     "start_time": "2021-01-20T00:44:19.294590",
     "status": "completed"
    },
    "tags": []
   },
   "outputs": [],
   "source": [
    "#hide\n",
    "def get_dates(df):\n",
    "    dt_cols = df.columns[~df.columns.isin(['Province/State', 'Country/Region', 'Lat', 'Long'])]\n",
    "    LAST_DATE_I = -1\n",
    "    # sometimes last column may be empty, then go backwards\n",
    "    for i in range(-1, -len(dt_cols), -1):\n",
    "        if not df[dt_cols[i]].fillna(0).eq(0).all():\n",
    "            LAST_DATE_I = i\n",
    "            break\n",
    "    return LAST_DATE_I, dt_cols"
   ]
  },
  {
   "cell_type": "code",
   "execution_count": 9,
   "metadata": {
    "execution": {
     "iopub.execute_input": "2021-01-20T00:44:19.408464Z",
     "iopub.status.busy": "2021-01-20T00:44:19.407783Z",
     "iopub.status.idle": "2021-01-20T00:44:19.712283Z",
     "shell.execute_reply": "2021-01-20T00:44:19.712910Z"
    },
    "papermill": {
     "duration": 0.344281,
     "end_time": "2021-01-20T00:44:19.713089",
     "exception": false,
     "start_time": "2021-01-20T00:44:19.368808",
     "status": "completed"
    },
    "tags": []
   },
   "outputs": [],
   "source": [
    "#hide\n",
    "COL_REGION = 'Country/Region'\n",
    "# Confirmed, Recovered, Deaths\n",
    "df = get_frame('confirmed')\n",
    "# dft_: timeseries, dfc_: today country agg\n",
    "dft_cases = df\n",
    "dft_deaths = get_frame('deaths')\n",
    "dft_recovered = get_frame('recovered')\n",
    "LAST_DATE_I, dt_cols = get_dates(df)"
   ]
  },
  {
   "cell_type": "code",
   "execution_count": 10,
   "metadata": {
    "execution": {
     "iopub.execute_input": "2021-01-20T00:44:19.783961Z",
     "iopub.status.busy": "2021-01-20T00:44:19.783273Z",
     "iopub.status.idle": "2021-01-20T00:44:19.785580Z",
     "shell.execute_reply": "2021-01-20T00:44:19.786143Z"
    },
    "papermill": {
     "duration": 0.041966,
     "end_time": "2021-01-20T00:44:19.786286",
     "exception": false,
     "start_time": "2021-01-20T00:44:19.744320",
     "status": "completed"
    },
    "tags": []
   },
   "outputs": [],
   "source": [
    "#hide\n",
    "LAST_DATE_I, dt_cols = get_dates(df)\n",
    "dt_today =dt_cols[LAST_DATE_I]\n",
    "# dt_5day = dt_cols[LAST_DATE_I - 5]\n",
    "dt_yday = dt_cols[LAST_DATE_I - 1]"
   ]
  },
  {
   "cell_type": "code",
   "execution_count": 11,
   "metadata": {
    "execution": {
     "iopub.execute_input": "2021-01-20T00:44:19.857603Z",
     "iopub.status.busy": "2021-01-20T00:44:19.856945Z",
     "iopub.status.idle": "2021-01-20T00:44:19.865927Z",
     "shell.execute_reply": "2021-01-20T00:44:19.865385Z"
    },
    "papermill": {
     "duration": 0.048226,
     "end_time": "2021-01-20T00:44:19.866058",
     "exception": false,
     "start_time": "2021-01-20T00:44:19.817832",
     "status": "completed"
    },
    "tags": []
   },
   "outputs": [],
   "source": [
    "#hide\n",
    "dfc_cases = dft_cases.groupby(COL_REGION)[dt_today].sum()\n",
    "dfc_deaths = dft_deaths.groupby(COL_REGION)[dt_today].sum()\n",
    "# dfp_cases = dft_cases.groupby(COL_REGION)[dt_5day].sum()\n",
    "# dfp_deaths = dft_deaths.groupby(COL_REGION)[dt_5day].sum()\n",
    "dfp_cases = dft_cases.groupby(COL_REGION)[dt_yday].sum()\n",
    "dfp_deaths = dft_deaths.groupby(COL_REGION)[dt_yday].sum()"
   ]
  },
  {
   "cell_type": "code",
   "execution_count": 12,
   "metadata": {
    "execution": {
     "iopub.execute_input": "2021-01-20T00:44:19.942568Z",
     "iopub.status.busy": "2021-01-20T00:44:19.941896Z",
     "iopub.status.idle": "2021-01-20T00:44:19.946923Z",
     "shell.execute_reply": "2021-01-20T00:44:19.947437Z"
    },
    "papermill": {
     "duration": 0.048275,
     "end_time": "2021-01-20T00:44:19.947604",
     "exception": false,
     "start_time": "2021-01-20T00:44:19.899329",
     "status": "completed"
    },
    "tags": []
   },
   "outputs": [],
   "source": [
    "#hide\n",
    "df_table = (pd.DataFrame(dict(Cases = dfc_cases, Deaths = dfc_deaths, PCases = dfp_cases, PDeaths = dfp_deaths))\n",
    "            .sort_values(by = ['Cases','Deaths'], ascending = [False, False])\n",
    "            .reset_index())"
   ]
  },
  {
   "cell_type": "code",
   "execution_count": 13,
   "metadata": {
    "execution": {
     "iopub.execute_input": "2021-01-20T00:44:20.039725Z",
     "iopub.status.busy": "2021-01-20T00:44:20.038969Z",
     "iopub.status.idle": "2021-01-20T00:44:20.049471Z",
     "shell.execute_reply": "2021-01-20T00:44:20.048914Z"
    },
    "papermill": {
     "duration": 0.067516,
     "end_time": "2021-01-20T00:44:20.049633",
     "exception": false,
     "start_time": "2021-01-20T00:44:19.982117",
     "status": "completed"
    },
    "tags": []
   },
   "outputs": [
    {
     "data": {
      "text/html": [
       "<div>\n",
       "<style scoped>\n",
       "    .dataframe tbody tr th:only-of-type {\n",
       "        vertical-align: middle;\n",
       "    }\n",
       "\n",
       "    .dataframe tbody tr th {\n",
       "        vertical-align: top;\n",
       "    }\n",
       "\n",
       "    .dataframe thead th {\n",
       "        text-align: right;\n",
       "    }\n",
       "</style>\n",
       "<table border=\"1\" class=\"dataframe\">\n",
       "  <thead>\n",
       "    <tr style=\"text-align: right;\">\n",
       "      <th></th>\n",
       "      <th>Country/Region</th>\n",
       "      <th>Cases</th>\n",
       "      <th>Deaths</th>\n",
       "      <th>PCases</th>\n",
       "      <th>PDeaths</th>\n",
       "      <th>Cases (+)</th>\n",
       "      <th>Deaths (+)</th>\n",
       "      <th>Fatality Rate</th>\n",
       "      <th>Continent</th>\n",
       "    </tr>\n",
       "  </thead>\n",
       "  <tbody>\n",
       "    <tr>\n",
       "      <th>0</th>\n",
       "      <td>US</td>\n",
       "      <td>24078772</td>\n",
       "      <td>399003</td>\n",
       "      <td>23936773</td>\n",
       "      <td>397600</td>\n",
       "      <td>141999</td>\n",
       "      <td>1403</td>\n",
       "      <td>1.66</td>\n",
       "      <td>North America</td>\n",
       "    </tr>\n",
       "    <tr>\n",
       "      <th>1</th>\n",
       "      <td>India</td>\n",
       "      <td>10581823</td>\n",
       "      <td>152556</td>\n",
       "      <td>10571773</td>\n",
       "      <td>152419</td>\n",
       "      <td>10050</td>\n",
       "      <td>137</td>\n",
       "      <td>1.44</td>\n",
       "      <td>Asia</td>\n",
       "    </tr>\n",
       "    <tr>\n",
       "      <th>2</th>\n",
       "      <td>Brazil</td>\n",
       "      <td>8511770</td>\n",
       "      <td>210299</td>\n",
       "      <td>8488099</td>\n",
       "      <td>209847</td>\n",
       "      <td>23671</td>\n",
       "      <td>452</td>\n",
       "      <td>2.47</td>\n",
       "      <td>South America</td>\n",
       "    </tr>\n",
       "    <tr>\n",
       "      <th>3</th>\n",
       "      <td>Russia</td>\n",
       "      <td>3552888</td>\n",
       "      <td>65059</td>\n",
       "      <td>3530379</td>\n",
       "      <td>64601</td>\n",
       "      <td>22509</td>\n",
       "      <td>458</td>\n",
       "      <td>1.83</td>\n",
       "      <td>Europe</td>\n",
       "    </tr>\n",
       "    <tr>\n",
       "      <th>4</th>\n",
       "      <td>United Kingdom</td>\n",
       "      <td>3443350</td>\n",
       "      <td>90031</td>\n",
       "      <td>3405740</td>\n",
       "      <td>89429</td>\n",
       "      <td>37610</td>\n",
       "      <td>602</td>\n",
       "      <td>2.61</td>\n",
       "      <td>Europe</td>\n",
       "    </tr>\n",
       "  </tbody>\n",
       "</table>\n",
       "</div>"
      ],
      "text/plain": [
       "   Country/Region     Cases  Deaths    PCases  PDeaths  Cases (+)  Deaths (+)  \\\n",
       "0              US  24078772  399003  23936773   397600     141999        1403   \n",
       "1           India  10581823  152556  10571773   152419      10050         137   \n",
       "2          Brazil   8511770  210299   8488099   209847      23671         452   \n",
       "3          Russia   3552888   65059   3530379    64601      22509         458   \n",
       "4  United Kingdom   3443350   90031   3405740    89429      37610         602   \n",
       "\n",
       "   Fatality Rate      Continent  \n",
       "0           1.66  North America  \n",
       "1           1.44           Asia  \n",
       "2           2.47  South America  \n",
       "3           1.83         Europe  \n",
       "4           2.61         Europe  "
      ]
     },
     "execution_count": 13,
     "metadata": {},
     "output_type": "execute_result"
    }
   ],
   "source": [
    "#hide\n",
    "for c in 'Cases, Deaths'.split(', '):\n",
    "    df_table[f'{c} (+)'] = (df_table[c] - df_table[f'P{c}']).clip(0)\n",
    "    #Clip ça veut dire, les chiffres negatif sont interdit\n",
    "df_table['Fatality Rate'] = (100* df_table['Deaths']/ df_table['Cases']).round(2)\n",
    "df_table['Continent'] = df_table['Country/Region'].map(mapping['map.continent'])\n",
    "df_table.head(5)"
   ]
  },
  {
   "cell_type": "code",
   "execution_count": 14,
   "metadata": {
    "execution": {
     "iopub.execute_input": "2021-01-20T00:44:20.128320Z",
     "iopub.status.busy": "2021-01-20T00:44:20.127603Z",
     "iopub.status.idle": "2021-01-20T00:44:20.130117Z",
     "shell.execute_reply": "2021-01-20T00:44:20.129596Z"
    },
    "papermill": {
     "duration": 0.043868,
     "end_time": "2021-01-20T00:44:20.130267",
     "exception": false,
     "start_time": "2021-01-20T00:44:20.086399",
     "status": "completed"
    },
    "tags": []
   },
   "outputs": [],
   "source": [
    "#hide\n",
    "#delete problematic countries from table\n",
    "df_table = df_table[~df_table['Country/Region'].isin(['Cape Verde', 'Cruise Ship', 'Kosovo'])]"
   ]
  },
  {
   "cell_type": "code",
   "execution_count": 15,
   "metadata": {
    "execution": {
     "iopub.execute_input": "2021-01-20T00:44:20.206641Z",
     "iopub.status.busy": "2021-01-20T00:44:20.206044Z",
     "iopub.status.idle": "2021-01-20T00:44:20.228564Z",
     "shell.execute_reply": "2021-01-20T00:44:20.227976Z"
    },
    "papermill": {
     "duration": 0.065617,
     "end_time": "2021-01-20T00:44:20.228702",
     "exception": false,
     "start_time": "2021-01-20T00:44:20.163085",
     "status": "completed"
    },
    "tags": []
   },
   "outputs": [
    {
     "data": {
      "text/html": [
       "<div>\n",
       "<style scoped>\n",
       "    .dataframe tbody tr th:only-of-type {\n",
       "        vertical-align: middle;\n",
       "    }\n",
       "\n",
       "    .dataframe tbody tr th {\n",
       "        vertical-align: top;\n",
       "    }\n",
       "\n",
       "    .dataframe thead th {\n",
       "        text-align: right;\n",
       "    }\n",
       "</style>\n",
       "<table border=\"1\" class=\"dataframe\">\n",
       "  <thead>\n",
       "    <tr style=\"text-align: right;\">\n",
       "      <th></th>\n",
       "      <th>Country/Region</th>\n",
       "      <th>Cases</th>\n",
       "      <th>Deaths</th>\n",
       "      <th>PCases</th>\n",
       "      <th>PDeaths</th>\n",
       "      <th>Cases (+)</th>\n",
       "      <th>Deaths (+)</th>\n",
       "      <th>Fatality Rate</th>\n",
       "      <th>Continent</th>\n",
       "    </tr>\n",
       "  </thead>\n",
       "  <tbody>\n",
       "    <tr>\n",
       "      <th>0</th>\n",
       "      <td>US</td>\n",
       "      <td>24078772</td>\n",
       "      <td>399003</td>\n",
       "      <td>23936773</td>\n",
       "      <td>397600</td>\n",
       "      <td>141999</td>\n",
       "      <td>1403</td>\n",
       "      <td>1.7</td>\n",
       "      <td>North America</td>\n",
       "    </tr>\n",
       "    <tr>\n",
       "      <th>1</th>\n",
       "      <td>India</td>\n",
       "      <td>10581823</td>\n",
       "      <td>152556</td>\n",
       "      <td>10571773</td>\n",
       "      <td>152419</td>\n",
       "      <td>10050</td>\n",
       "      <td>137</td>\n",
       "      <td>1.4</td>\n",
       "      <td>Asia</td>\n",
       "    </tr>\n",
       "    <tr>\n",
       "      <th>2</th>\n",
       "      <td>Brazil</td>\n",
       "      <td>8511770</td>\n",
       "      <td>210299</td>\n",
       "      <td>8488099</td>\n",
       "      <td>209847</td>\n",
       "      <td>23671</td>\n",
       "      <td>452</td>\n",
       "      <td>2.5</td>\n",
       "      <td>South America</td>\n",
       "    </tr>\n",
       "    <tr>\n",
       "      <th>3</th>\n",
       "      <td>Russia</td>\n",
       "      <td>3552888</td>\n",
       "      <td>65059</td>\n",
       "      <td>3530379</td>\n",
       "      <td>64601</td>\n",
       "      <td>22509</td>\n",
       "      <td>458</td>\n",
       "      <td>1.8</td>\n",
       "      <td>Europe</td>\n",
       "    </tr>\n",
       "    <tr>\n",
       "      <th>4</th>\n",
       "      <td>United Kingdom</td>\n",
       "      <td>3443350</td>\n",
       "      <td>90031</td>\n",
       "      <td>3405740</td>\n",
       "      <td>89429</td>\n",
       "      <td>37610</td>\n",
       "      <td>602</td>\n",
       "      <td>2.6</td>\n",
       "      <td>Europe</td>\n",
       "    </tr>\n",
       "  </tbody>\n",
       "</table>\n",
       "</div>"
      ],
      "text/plain": [
       "   Country/Region     Cases  Deaths    PCases  PDeaths  Cases (+)  Deaths (+)  \\\n",
       "0              US  24078772  399003  23936773   397600     141999        1403   \n",
       "1           India  10581823  152556  10571773   152419      10050         137   \n",
       "2          Brazil   8511770  210299   8488099   209847      23671         452   \n",
       "3          Russia   3552888   65059   3530379    64601      22509         458   \n",
       "4  United Kingdom   3443350   90031   3405740    89429      37610         602   \n",
       "\n",
       "   Fatality Rate      Continent  \n",
       "0            1.7  North America  \n",
       "1            1.4           Asia  \n",
       "2            2.5  South America  \n",
       "3            1.8         Europe  \n",
       "4            2.6         Europe  "
      ]
     },
     "execution_count": 15,
     "metadata": {},
     "output_type": "execute_result"
    }
   ],
   "source": [
    "#hide\n",
    "df_table = (pd.DataFrame(dict(Cases=dfc_cases, Deaths=dfc_deaths, PCases=dfp_cases, PDeaths=dfp_deaths))\n",
    "             .sort_values(by=['Cases', 'Deaths'], ascending=[False, False])\n",
    "             .reset_index())\n",
    "df_table.rename(columns={'index': 'Country/Region'}, inplace=True)\n",
    "for c in 'Cases, Deaths'.split(', '):\n",
    "    df_table[f'{c} (+)'] = (df_table[c] - df_table[f'P{c}']).clip(0)  # DATA BUG\n",
    "df_table['Fatality Rate'] = (100 * df_table['Deaths'] / df_table['Cases']).round(1)\n",
    "df_table['Continent'] = df_table['Country/Region'].map(mapping['map.continent'])\n",
    "df_table.head(5)"
   ]
  },
  {
   "cell_type": "code",
   "execution_count": 16,
   "metadata": {
    "execution": {
     "iopub.execute_input": "2021-01-20T00:44:20.302624Z",
     "iopub.status.busy": "2021-01-20T00:44:20.301987Z",
     "iopub.status.idle": "2021-01-20T00:44:20.303957Z",
     "shell.execute_reply": "2021-01-20T00:44:20.304439Z"
    },
    "papermill": {
     "duration": 0.042384,
     "end_time": "2021-01-20T00:44:20.304624",
     "exception": false,
     "start_time": "2021-01-20T00:44:20.262240",
     "status": "completed"
    },
    "tags": []
   },
   "outputs": [],
   "source": [
    "#hide\n",
    "#delete problematic countries from table\n",
    "df_table = df_table[~df_table['Country/Region'].isin(['Cape Verde', 'Cruise Ship', 'Kosovo'])]"
   ]
  },
  {
   "cell_type": "code",
   "execution_count": 17,
   "metadata": {
    "execution": {
     "iopub.execute_input": "2021-01-20T00:44:20.394708Z",
     "iopub.status.busy": "2021-01-20T00:44:20.394068Z",
     "iopub.status.idle": "2021-01-20T00:44:20.396712Z",
     "shell.execute_reply": "2021-01-20T00:44:20.395989Z"
    },
    "papermill": {
     "duration": 0.058688,
     "end_time": "2021-01-20T00:44:20.396849",
     "exception": false,
     "start_time": "2021-01-20T00:44:20.338161",
     "status": "completed"
    },
    "tags": []
   },
   "outputs": [],
   "source": [
    "#hide\n",
    "metrics = [df_table.columns[index] for index in [1,2,5,6]]\n",
    "# s_china = df_table[df_table['Country/Region'].eq('China')][metrics].sum().add_prefix('China ')\n",
    "s_us = df_table[df_table['Country/Region'].eq('US')][metrics].sum().add_prefix('US ')\n",
    "s_eu = df_table[df_table['Continent'].eq('Europe')][metrics].sum().add_prefix('EU ')\n",
    "s_ind = df_table[df_table['Country/Region'].eq('India')][metrics].sum().add_prefix('India ')\n",
    "summary = {'updated': pd.to_datetime(dt_today), 'since': pd.to_datetime(dt_yday)}\n",
    "summary = {'updated': pd.to_datetime(dt_today), 'since': pd.to_datetime(dt_yday)}\n",
    "summary = {**summary, **df_table[metrics].sum(), **s_ind, **s_us, **s_eu}"
   ]
  },
  {
   "cell_type": "code",
   "execution_count": 18,
   "metadata": {
    "execution": {
     "iopub.execute_input": "2021-01-20T00:44:20.472415Z",
     "iopub.status.busy": "2021-01-20T00:44:20.471771Z",
     "iopub.status.idle": "2021-01-20T00:44:20.483331Z",
     "shell.execute_reply": "2021-01-20T00:44:20.482788Z"
    },
    "papermill": {
     "duration": 0.051878,
     "end_time": "2021-01-20T00:44:20.483467",
     "exception": false,
     "start_time": "2021-01-20T00:44:20.431589",
     "status": "completed"
    },
    "tags": []
   },
   "outputs": [],
   "source": [
    "#hide\n",
    "dft_ct_new_cases = dft_cases.groupby(COL_REGION)[dt_cols].sum().diff(axis=1).fillna(0).astype(int)"
   ]
  },
  {
   "cell_type": "code",
   "execution_count": 19,
   "metadata": {
    "execution": {
     "iopub.execute_input": "2021-01-20T00:44:20.559668Z",
     "iopub.status.busy": "2021-01-20T00:44:20.559063Z",
     "iopub.status.idle": "2021-01-20T00:44:20.560812Z",
     "shell.execute_reply": "2021-01-20T00:44:20.561392Z"
    },
    "papermill": {
     "duration": 0.043747,
     "end_time": "2021-01-20T00:44:20.561529",
     "exception": false,
     "start_time": "2021-01-20T00:44:20.517782",
     "status": "completed"
    },
    "tags": []
   },
   "outputs": [],
   "source": [
    "#hide\n",
    "everydaycases = dft_ct_new_cases.cumsum(axis=1)"
   ]
  },
  {
   "cell_type": "code",
   "execution_count": 20,
   "metadata": {
    "execution": {
     "iopub.execute_input": "2021-01-20T00:44:20.633790Z",
     "iopub.status.busy": "2021-01-20T00:44:20.632946Z",
     "iopub.status.idle": "2021-01-20T00:44:21.679681Z",
     "shell.execute_reply": "2021-01-20T00:44:21.679133Z"
    },
    "papermill": {
     "duration": 1.084822,
     "end_time": "2021-01-20T00:44:21.679832",
     "exception": false,
     "start_time": "2021-01-20T00:44:20.595010",
     "status": "completed"
    },
    "tags": []
   },
   "outputs": [],
   "source": [
    "#hide\n",
    "import pandas as pd\n",
    "import matplotlib.pyplot as plt\n",
    "import matplotlib.ticker as ticker\n",
    "import matplotlib.animation as animation\n",
    "from IPython.display import HTML"
   ]
  },
  {
   "cell_type": "code",
   "execution_count": 21,
   "metadata": {
    "execution": {
     "iopub.execute_input": "2021-01-20T00:44:21.754053Z",
     "iopub.status.busy": "2021-01-20T00:44:21.753409Z",
     "iopub.status.idle": "2021-01-20T00:44:21.759016Z",
     "shell.execute_reply": "2021-01-20T00:44:21.758434Z"
    },
    "papermill": {
     "duration": 0.045516,
     "end_time": "2021-01-20T00:44:21.759162",
     "exception": false,
     "start_time": "2021-01-20T00:44:21.713646",
     "status": "completed"
    },
    "tags": []
   },
   "outputs": [],
   "source": [
    "#hide\n",
    "t = everydaycases.stack()"
   ]
  },
  {
   "cell_type": "code",
   "execution_count": 22,
   "metadata": {
    "execution": {
     "iopub.execute_input": "2021-01-20T00:44:21.832625Z",
     "iopub.status.busy": "2021-01-20T00:44:21.831969Z",
     "iopub.status.idle": "2021-01-20T00:44:21.839391Z",
     "shell.execute_reply": "2021-01-20T00:44:21.840026Z"
    },
    "papermill": {
     "duration": 0.04664,
     "end_time": "2021-01-20T00:44:21.840235",
     "exception": false,
     "start_time": "2021-01-20T00:44:21.793595",
     "status": "completed"
    },
    "tags": []
   },
   "outputs": [],
   "source": [
    "#hide\n",
    "g = t.reset_index(['Country/Region'])"
   ]
  },
  {
   "cell_type": "code",
   "execution_count": 23,
   "metadata": {
    "execution": {
     "iopub.execute_input": "2021-01-20T00:44:21.911781Z",
     "iopub.status.busy": "2021-01-20T00:44:21.911163Z",
     "iopub.status.idle": "2021-01-20T00:44:21.913306Z",
     "shell.execute_reply": "2021-01-20T00:44:21.913876Z"
    },
    "papermill": {
     "duration": 0.040168,
     "end_time": "2021-01-20T00:44:21.914052",
     "exception": false,
     "start_time": "2021-01-20T00:44:21.873884",
     "status": "completed"
    },
    "tags": []
   },
   "outputs": [],
   "source": [
    "#hide\n",
    "g.index.name = 'date'"
   ]
  },
  {
   "cell_type": "code",
   "execution_count": 24,
   "metadata": {
    "execution": {
     "iopub.execute_input": "2021-01-20T00:44:21.990346Z",
     "iopub.status.busy": "2021-01-20T00:44:21.989639Z",
     "iopub.status.idle": "2021-01-20T00:44:21.992215Z",
     "shell.execute_reply": "2021-01-20T00:44:21.991684Z"
    },
    "papermill": {
     "duration": 0.042298,
     "end_time": "2021-01-20T00:44:21.992348",
     "exception": false,
     "start_time": "2021-01-20T00:44:21.950050",
     "status": "completed"
    },
    "tags": []
   },
   "outputs": [],
   "source": [
    "# #hide\n",
    "# g = g.reset_index(['date'])"
   ]
  },
  {
   "cell_type": "code",
   "execution_count": 25,
   "metadata": {
    "execution": {
     "iopub.execute_input": "2021-01-20T00:44:22.067613Z",
     "iopub.status.busy": "2021-01-20T00:44:22.066927Z",
     "iopub.status.idle": "2021-01-20T00:44:22.069081Z",
     "shell.execute_reply": "2021-01-20T00:44:22.069705Z"
    },
    "papermill": {
     "duration": 0.042475,
     "end_time": "2021-01-20T00:44:22.069871",
     "exception": false,
     "start_time": "2021-01-20T00:44:22.027396",
     "status": "completed"
    },
    "tags": []
   },
   "outputs": [],
   "source": [
    "#hide\n",
    "# g.head()"
   ]
  },
  {
   "cell_type": "code",
   "execution_count": 26,
   "metadata": {
    "execution": {
     "iopub.execute_input": "2021-01-20T00:44:22.145186Z",
     "iopub.status.busy": "2021-01-20T00:44:22.144450Z",
     "iopub.status.idle": "2021-01-20T00:44:22.146599Z",
     "shell.execute_reply": "2021-01-20T00:44:22.147213Z"
    },
    "papermill": {
     "duration": 0.041457,
     "end_time": "2021-01-20T00:44:22.147361",
     "exception": false,
     "start_time": "2021-01-20T00:44:22.105904",
     "status": "completed"
    },
    "tags": []
   },
   "outputs": [],
   "source": [
    "#hide\n",
    "# g.columns = ['date','country','cases']"
   ]
  },
  {
   "cell_type": "code",
   "execution_count": 27,
   "metadata": {
    "execution": {
     "iopub.execute_input": "2021-01-20T00:44:22.221542Z",
     "iopub.status.busy": "2021-01-20T00:44:22.220898Z",
     "iopub.status.idle": "2021-01-20T00:44:22.223514Z",
     "shell.execute_reply": "2021-01-20T00:44:22.222959Z"
    },
    "papermill": {
     "duration": 0.040428,
     "end_time": "2021-01-20T00:44:22.223681",
     "exception": false,
     "start_time": "2021-01-20T00:44:22.183253",
     "status": "completed"
    },
    "tags": []
   },
   "outputs": [],
   "source": [
    "#hide\n",
    "# g['continent'] = g.country"
   ]
  },
  {
   "cell_type": "code",
   "execution_count": 28,
   "metadata": {
    "execution": {
     "iopub.execute_input": "2021-01-20T00:44:22.296469Z",
     "iopub.status.busy": "2021-01-20T00:44:22.295795Z",
     "iopub.status.idle": "2021-01-20T00:44:22.298298Z",
     "shell.execute_reply": "2021-01-20T00:44:22.297639Z"
    },
    "papermill": {
     "duration": 0.041363,
     "end_time": "2021-01-20T00:44:22.298434",
     "exception": false,
     "start_time": "2021-01-20T00:44:22.257071",
     "status": "completed"
    },
    "tags": []
   },
   "outputs": [],
   "source": [
    "#hide\n",
    "# cols = list(g.columns.values)"
   ]
  },
  {
   "cell_type": "code",
   "execution_count": 29,
   "metadata": {
    "execution": {
     "iopub.execute_input": "2021-01-20T00:44:22.370868Z",
     "iopub.status.busy": "2021-01-20T00:44:22.370216Z",
     "iopub.status.idle": "2021-01-20T00:44:22.372338Z",
     "shell.execute_reply": "2021-01-20T00:44:22.372874Z"
    },
    "papermill": {
     "duration": 0.040581,
     "end_time": "2021-01-20T00:44:22.373019",
     "exception": false,
     "start_time": "2021-01-20T00:44:22.332438",
     "status": "completed"
    },
    "tags": []
   },
   "outputs": [],
   "source": [
    "#hide\n",
    "# cols.insert(0, cols.pop())"
   ]
  },
  {
   "cell_type": "code",
   "execution_count": 30,
   "metadata": {
    "execution": {
     "iopub.execute_input": "2021-01-20T00:44:22.447136Z",
     "iopub.status.busy": "2021-01-20T00:44:22.446409Z",
     "iopub.status.idle": "2021-01-20T00:44:22.448117Z",
     "shell.execute_reply": "2021-01-20T00:44:22.448762Z"
    },
    "papermill": {
     "duration": 0.040873,
     "end_time": "2021-01-20T00:44:22.448903",
     "exception": false,
     "start_time": "2021-01-20T00:44:22.408030",
     "status": "completed"
    },
    "tags": []
   },
   "outputs": [],
   "source": [
    "#hide\n",
    "# g = g[cols]"
   ]
  },
  {
   "cell_type": "code",
   "execution_count": 31,
   "metadata": {
    "execution": {
     "iopub.execute_input": "2021-01-20T00:44:22.521608Z",
     "iopub.status.busy": "2021-01-20T00:44:22.520939Z",
     "iopub.status.idle": "2021-01-20T00:44:22.523328Z",
     "shell.execute_reply": "2021-01-20T00:44:22.522685Z"
    },
    "papermill": {
     "duration": 0.040718,
     "end_time": "2021-01-20T00:44:22.523454",
     "exception": false,
     "start_time": "2021-01-20T00:44:22.482736",
     "status": "completed"
    },
    "tags": []
   },
   "outputs": [],
   "source": [
    "#hide\n",
    "# g['continent'] = g['continent'].map(mapping['map.continent'])"
   ]
  },
  {
   "cell_type": "code",
   "execution_count": 32,
   "metadata": {
    "execution": {
     "iopub.execute_input": "2021-01-20T00:44:22.595915Z",
     "iopub.status.busy": "2021-01-20T00:44:22.595264Z",
     "iopub.status.idle": "2021-01-20T00:44:22.597814Z",
     "shell.execute_reply": "2021-01-20T00:44:22.597187Z"
    },
    "papermill": {
     "duration": 0.040352,
     "end_time": "2021-01-20T00:44:22.597943",
     "exception": false,
     "start_time": "2021-01-20T00:44:22.557591",
     "status": "completed"
    },
    "tags": []
   },
   "outputs": [],
   "source": [
    "#hide\n",
    "# g.head()"
   ]
  },
  {
   "cell_type": "code",
   "execution_count": 33,
   "metadata": {
    "execution": {
     "iopub.execute_input": "2021-01-20T00:44:22.672765Z",
     "iopub.status.busy": "2021-01-20T00:44:22.672120Z",
     "iopub.status.idle": "2021-01-20T00:44:22.674502Z",
     "shell.execute_reply": "2021-01-20T00:44:22.673933Z"
    },
    "papermill": {
     "duration": 0.042552,
     "end_time": "2021-01-20T00:44:22.674626",
     "exception": false,
     "start_time": "2021-01-20T00:44:22.632074",
     "status": "completed"
    },
    "tags": []
   },
   "outputs": [],
   "source": [
    "# hide\n",
    "# g['date'] = g['date'].astype('datetime64[ns]')"
   ]
  },
  {
   "cell_type": "code",
   "execution_count": 34,
   "metadata": {
    "execution": {
     "iopub.execute_input": "2021-01-20T00:44:22.751090Z",
     "iopub.status.busy": "2021-01-20T00:44:22.749585Z",
     "iopub.status.idle": "2021-01-20T00:44:22.751798Z",
     "shell.execute_reply": "2021-01-20T00:44:22.752344Z"
    },
    "papermill": {
     "duration": 0.044478,
     "end_time": "2021-01-20T00:44:22.752490",
     "exception": false,
     "start_time": "2021-01-20T00:44:22.708012",
     "status": "completed"
    },
    "tags": []
   },
   "outputs": [],
   "source": [
    "#hide\n",
    "# g['date'] = g.date.dt.dayofyear"
   ]
  },
  {
   "cell_type": "code",
   "execution_count": 35,
   "metadata": {
    "execution": {
     "iopub.execute_input": "2021-01-20T00:44:22.825749Z",
     "iopub.status.busy": "2021-01-20T00:44:22.825132Z",
     "iopub.status.idle": "2021-01-20T00:44:22.827369Z",
     "shell.execute_reply": "2021-01-20T00:44:22.826754Z"
    },
    "papermill": {
     "duration": 0.039959,
     "end_time": "2021-01-20T00:44:22.827500",
     "exception": false,
     "start_time": "2021-01-20T00:44:22.787541",
     "status": "completed"
    },
    "tags": []
   },
   "outputs": [],
   "source": [
    "#hide\n",
    "# g = g.rename(columns= {'continent':'group','country':'name','cases':'value'})"
   ]
  },
  {
   "cell_type": "code",
   "execution_count": 36,
   "metadata": {
    "execution": {
     "iopub.execute_input": "2021-01-20T00:44:22.896755Z",
     "iopub.status.busy": "2021-01-20T00:44:22.895989Z",
     "iopub.status.idle": "2021-01-20T00:44:22.897957Z",
     "shell.execute_reply": "2021-01-20T00:44:22.898482Z"
    },
    "papermill": {
     "duration": 0.037958,
     "end_time": "2021-01-20T00:44:22.898710",
     "exception": false,
     "start_time": "2021-01-20T00:44:22.860752",
     "status": "completed"
    },
    "tags": []
   },
   "outputs": [],
   "source": [
    "#hide\n",
    "# cols = ['name','group','day','value']"
   ]
  },
  {
   "cell_type": "code",
   "execution_count": 37,
   "metadata": {
    "execution": {
     "iopub.execute_input": "2021-01-20T00:44:22.970589Z",
     "iopub.status.busy": "2021-01-20T00:44:22.969936Z",
     "iopub.status.idle": "2021-01-20T00:44:22.972231Z",
     "shell.execute_reply": "2021-01-20T00:44:22.971705Z"
    },
    "papermill": {
     "duration": 0.039685,
     "end_time": "2021-01-20T00:44:22.972392",
     "exception": false,
     "start_time": "2021-01-20T00:44:22.932707",
     "status": "completed"
    },
    "tags": []
   },
   "outputs": [],
   "source": [
    "#hide\n",
    "# g.rename(columns= {'date':'day'},inplace = True)"
   ]
  },
  {
   "cell_type": "code",
   "execution_count": 38,
   "metadata": {
    "execution": {
     "iopub.execute_input": "2021-01-20T00:44:23.047060Z",
     "iopub.status.busy": "2021-01-20T00:44:23.046341Z",
     "iopub.status.idle": "2021-01-20T00:44:23.048294Z",
     "shell.execute_reply": "2021-01-20T00:44:23.048855Z"
    },
    "papermill": {
     "duration": 0.042223,
     "end_time": "2021-01-20T00:44:23.049001",
     "exception": false,
     "start_time": "2021-01-20T00:44:23.006778",
     "status": "completed"
    },
    "tags": []
   },
   "outputs": [],
   "source": [
    "#hide\n",
    "# g = g[cols]"
   ]
  },
  {
   "cell_type": "code",
   "execution_count": 39,
   "metadata": {
    "execution": {
     "iopub.execute_input": "2021-01-20T00:44:23.128074Z",
     "iopub.status.busy": "2021-01-20T00:44:23.127348Z",
     "iopub.status.idle": "2021-01-20T00:44:23.130105Z",
     "shell.execute_reply": "2021-01-20T00:44:23.129444Z"
    },
    "papermill": {
     "duration": 0.042434,
     "end_time": "2021-01-20T00:44:23.130253",
     "exception": false,
     "start_time": "2021-01-20T00:44:23.087819",
     "status": "completed"
    },
    "tags": []
   },
   "outputs": [],
   "source": [
    "# #hide\n",
    "# g = g[g.group.notna()]"
   ]
  },
  {
   "cell_type": "code",
   "execution_count": 40,
   "metadata": {
    "execution": {
     "iopub.execute_input": "2021-01-20T00:44:23.210237Z",
     "iopub.status.busy": "2021-01-20T00:44:23.209569Z",
     "iopub.status.idle": "2021-01-20T00:44:23.211304Z",
     "shell.execute_reply": "2021-01-20T00:44:23.212048Z"
    },
    "papermill": {
     "duration": 0.043272,
     "end_time": "2021-01-20T00:44:23.212196",
     "exception": false,
     "start_time": "2021-01-20T00:44:23.168924",
     "status": "completed"
    },
    "tags": []
   },
   "outputs": [],
   "source": [
    "# #hide\n",
    "# colors = dict(zip(\n",
    "#     [\"Oceania\", \"Europe\", \"Asia\", \"South America\", \"Middle East\", \"North America\", \"Africa\"],\n",
    "#     [\"#adb0ff\", \"#ffb3ff\", \"#90d595\", \"#e48381\", \"#aafbff\", \"#f7bb5f\", \"#eafb50\"]\n",
    "# ))\n",
    "# group_lk = g.set_index('name')['group'].to_dict()"
   ]
  },
  {
   "cell_type": "code",
   "execution_count": null,
   "metadata": {
    "papermill": {
     "duration": 0.036123,
     "end_time": "2021-01-20T00:44:23.282843",
     "exception": false,
     "start_time": "2021-01-20T00:44:23.246720",
     "status": "completed"
    },
    "tags": []
   },
   "outputs": [],
   "source": []
  },
  {
   "cell_type": "code",
   "execution_count": 41,
   "metadata": {
    "execution": {
     "iopub.execute_input": "2021-01-20T00:44:23.358951Z",
     "iopub.status.busy": "2021-01-20T00:44:23.358249Z",
     "iopub.status.idle": "2021-01-20T00:44:23.360715Z",
     "shell.execute_reply": "2021-01-20T00:44:23.360133Z"
    },
    "papermill": {
     "duration": 0.041666,
     "end_time": "2021-01-20T00:44:23.360867",
     "exception": false,
     "start_time": "2021-01-20T00:44:23.319201",
     "status": "completed"
    },
    "tags": []
   },
   "outputs": [],
   "source": [
    "# #hide\n",
    "# fig, ax = plt.subplots(figsize=(15, 8))\n",
    "\n",
    "# def draw_barchart(current_day):\n",
    "#     dff = g[g['day'].eq(current_day)].sort_values(by='value', ascending=True).tail(10)\n",
    "#     ax.clear()\n",
    "#     ax.barh(dff['name'], dff['value'], color=[colors[group_lk[x]] for x in dff['name']])\n",
    "#     dx = dff['value'].max() / 200\n",
    "    \n",
    "#     for i, (value, name) in enumerate(zip(dff['value'], dff['name'])):\n",
    "#         ax.text(value-dx, i,     name,           size=14, weight=600, ha='right', va='bottom')\n",
    "#         ax.text(value-dx, i-.25, group_lk[name], size=10, color='#444444', ha='right', va='baseline')\n",
    "#         ax.text(value+dx, i,     f'{value:,.0f}',  size=14, ha='left',  va='center')\n",
    "#     ax.text(1, 0.4, current_day, transform=ax.transAxes, color='#777777', size=46, ha='right', weight=800)\n",
    "#     ax.text(0, 1.06, 'Population (thousands)', transform=ax.transAxes, size=12, color='#777777')\n",
    "#     ax.xaxis.set_major_formatter(ticker.StrMethodFormatter('{x:,.0f}'))\n",
    "#     ax.xaxis.set_ticks_position('top')\n",
    "#     ax.tick_params(axis='x', colors='#777777', labelsize=12)\n",
    "#     ax.set_yticks([])\n",
    "#     ax.margins(0, 0.01)\n",
    "#     ax.grid(which='major', axis='x', linestyle='-')\n",
    "#     ax.set_axisbelow(True)\n",
    "    \n",
    "#     ax.text(0, 1.15, 'Coronavirus',\n",
    "#             transform=ax.transAxes, size=24, weight=600, ha='left', va='top')\n",
    "# #     ax.text(1, 0, 'by @pratapvardhan; credit @jburnmurdoch', transform=ax.transAxes, color='#777777', ha='right',\n",
    "# #             bbox=dict(facecolor='white', alpha=0.8, edgecolor='white'))\n",
    "#     plt.box(False)"
   ]
  },
  {
   "cell_type": "code",
   "execution_count": 42,
   "metadata": {
    "execution": {
     "iopub.execute_input": "2021-01-20T00:44:23.434209Z",
     "iopub.status.busy": "2021-01-20T00:44:23.433585Z",
     "iopub.status.idle": "2021-01-20T00:44:23.436090Z",
     "shell.execute_reply": "2021-01-20T00:44:23.435512Z"
    },
    "papermill": {
     "duration": 0.041494,
     "end_time": "2021-01-20T00:44:23.436222",
     "exception": false,
     "start_time": "2021-01-20T00:44:23.394728",
     "status": "completed"
    },
    "tags": []
   },
   "outputs": [],
   "source": [
    "# #hide_input\n",
    "# fig, ax = plt.subplots(figsize=(15, 8))\n",
    "# animator = animation.FuncAnimation(fig, draw_barchart, frames=range(g.day.values.min(), g.day.values.max()))\n",
    "# HTML(animator.to_jshtml())\n",
    "# # or use animator.to_html5_video() or animator.save() "
   ]
  },
  {
   "cell_type": "code",
   "execution_count": null,
   "metadata": {
    "papermill": {
     "duration": 0.034838,
     "end_time": "2021-01-20T00:44:23.506495",
     "exception": false,
     "start_time": "2021-01-20T00:44:23.471657",
     "status": "completed"
    },
    "tags": []
   },
   "outputs": [],
   "source": []
  },
  {
   "cell_type": "code",
   "execution_count": null,
   "metadata": {
    "papermill": {
     "duration": 0.035337,
     "end_time": "2021-01-20T00:44:23.575189",
     "exception": false,
     "start_time": "2021-01-20T00:44:23.539852",
     "status": "completed"
    },
    "tags": []
   },
   "outputs": [],
   "source": []
  },
  {
   "cell_type": "code",
   "execution_count": null,
   "metadata": {
    "papermill": {
     "duration": 0.033831,
     "end_time": "2021-01-20T00:44:23.644559",
     "exception": false,
     "start_time": "2021-01-20T00:44:23.610728",
     "status": "completed"
    },
    "tags": []
   },
   "outputs": [],
   "source": []
  }
 ],
 "metadata": {
  "kernelspec": {
   "display_name": "Python 3",
   "language": "python",
   "name": "python3"
  },
  "language_info": {
   "codemirror_mode": {
    "name": "ipython",
    "version": 3
   },
   "file_extension": ".py",
   "mimetype": "text/x-python",
   "name": "python",
   "nbconvert_exporter": "python",
   "pygments_lexer": "ipython3",
   "version": "3.6.12"
  },
  "papermill": {
   "duration": 6.874937,
   "end_time": "2021-01-20T00:44:23.986884",
   "environment_variables": {},
   "exception": null,
   "input_path": "2020-03-21-covid19exp.ipynb",
   "output_path": "2020-03-21-covid19exp.ipynb",
   "parameters": {},
   "start_time": "2021-01-20T00:44:17.111947",
   "version": "2.0.0"
  }
 },
 "nbformat": 4,
 "nbformat_minor": 4
}