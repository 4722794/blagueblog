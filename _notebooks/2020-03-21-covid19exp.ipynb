{
 "cells": [
  {
   "cell_type": "markdown",
   "id": "muslim-click",
   "metadata": {
    "papermill": {
     "duration": 0.035116,
     "end_time": "2022-09-20T12:21:45.645506",
     "exception": false,
     "start_time": "2022-09-20T12:21:45.610390",
     "status": "completed"
    },
    "tags": []
   },
   "source": [
    "# COVID-19 Case Race\n",
    "> A race chart to see rising cases around the world\n",
    "\n",
    "- author: Hargun Oberoi\n",
    "- image: images/covid-overview.png\n",
    "- hide: false\n",
    "- badges: false"
   ]
  },
  {
   "cell_type": "code",
   "execution_count": 1,
   "id": "proof-material",
   "metadata": {
    "execution": {
     "iopub.execute_input": "2022-09-20T12:21:45.716062Z",
     "iopub.status.busy": "2022-09-20T12:21:45.715449Z",
     "iopub.status.idle": "2022-09-20T12:21:46.040546Z",
     "shell.execute_reply": "2022-09-20T12:21:46.039510Z"
    },
    "papermill": {
     "duration": 0.364908,
     "end_time": "2022-09-20T12:21:46.040689",
     "exception": false,
     "start_time": "2022-09-20T12:21:45.675781",
     "status": "completed"
    },
    "tags": []
   },
   "outputs": [],
   "source": [
    "#hide\n",
    "import numpy as np\n",
    "import pandas as pd\n",
    "from jinja2 import Template\n",
    "from IPython.display import HTML"
   ]
  },
  {
   "cell_type": "code",
   "execution_count": 2,
   "id": "developed-terminology",
   "metadata": {
    "execution": {
     "iopub.execute_input": "2022-09-20T12:21:46.105663Z",
     "iopub.status.busy": "2022-09-20T12:21:46.104974Z",
     "iopub.status.idle": "2022-09-20T12:21:46.107292Z",
     "shell.execute_reply": "2022-09-20T12:21:46.106648Z"
    },
    "papermill": {
     "duration": 0.037008,
     "end_time": "2022-09-20T12:21:46.107417",
     "exception": false,
     "start_time": "2022-09-20T12:21:46.070409",
     "status": "completed"
    },
    "tags": []
   },
   "outputs": [],
   "source": [
    "#hide\n",
    "\n",
    "# FETCH\n",
    "base_url = 'https://raw.githubusercontent.com/pratapvardhan/notebooks/master/covid19/'\n",
    "paths = {\n",
    "    'mapping': base_url + 'mapping_countries.csv',\n",
    "    'overview': base_url + 'overview.tpl'\n",
    "}"
   ]
  },
  {
   "cell_type": "code",
   "execution_count": 3,
   "id": "dynamic-saver",
   "metadata": {
    "execution": {
     "iopub.execute_input": "2022-09-20T12:21:46.177420Z",
     "iopub.status.busy": "2022-09-20T12:21:46.175236Z",
     "iopub.status.idle": "2022-09-20T12:21:46.180700Z",
     "shell.execute_reply": "2022-09-20T12:21:46.180139Z"
    },
    "papermill": {
     "duration": 0.043096,
     "end_time": "2022-09-20T12:21:46.180809",
     "exception": false,
     "start_time": "2022-09-20T12:21:46.137713",
     "status": "completed"
    },
    "tags": []
   },
   "outputs": [
    {
     "data": {
      "text/plain": [
       "'https://raw.githubusercontent.com/pratapvardhan/notebooks/master/covid19/mapping_countries.csv'"
      ]
     },
     "execution_count": 3,
     "metadata": {},
     "output_type": "execute_result"
    }
   ],
   "source": [
    "#hide\n",
    "paths['mapping']"
   ]
  },
  {
   "cell_type": "code",
   "execution_count": 4,
   "id": "urban-software",
   "metadata": {
    "execution": {
     "iopub.execute_input": "2022-09-20T12:21:46.246453Z",
     "iopub.status.busy": "2022-09-20T12:21:46.245714Z",
     "iopub.status.idle": "2022-09-20T12:21:46.247944Z",
     "shell.execute_reply": "2022-09-20T12:21:46.247382Z"
    },
    "papermill": {
     "duration": 0.037264,
     "end_time": "2022-09-20T12:21:46.248053",
     "exception": false,
     "start_time": "2022-09-20T12:21:46.210789",
     "status": "completed"
    },
    "tags": []
   },
   "outputs": [],
   "source": [
    "#hide\n",
    "def get_mappings(url):\n",
    "    df = pd.read_csv(url)\n",
    "    return {\n",
    "        'df': df,\n",
    "        'replace.country': dict(df.dropna(subset=['Name']).set_index('Country')['Name']),\n",
    "        'map.continent': dict(df.set_index('Name')['Continent'])\n",
    "    }"
   ]
  },
  {
   "cell_type": "code",
   "execution_count": 5,
   "id": "intimate-machinery",
   "metadata": {
    "execution": {
     "iopub.execute_input": "2022-09-20T12:21:46.313502Z",
     "iopub.status.busy": "2022-09-20T12:21:46.312911Z",
     "iopub.status.idle": "2022-09-20T12:21:46.339954Z",
     "shell.execute_reply": "2022-09-20T12:21:46.339358Z"
    },
    "papermill": {
     "duration": 0.062168,
     "end_time": "2022-09-20T12:21:46.340084",
     "exception": false,
     "start_time": "2022-09-20T12:21:46.277916",
     "status": "completed"
    },
    "tags": []
   },
   "outputs": [],
   "source": [
    "#hide\n",
    "mapping = get_mappings(paths['mapping'])"
   ]
  },
  {
   "cell_type": "code",
   "execution_count": 6,
   "id": "certified-tactics",
   "metadata": {
    "execution": {
     "iopub.execute_input": "2022-09-20T12:21:46.404444Z",
     "iopub.status.busy": "2022-09-20T12:21:46.403847Z",
     "iopub.status.idle": "2022-09-20T12:21:46.408741Z",
     "shell.execute_reply": "2022-09-20T12:21:46.409302Z"
    },
    "papermill": {
     "duration": 0.038327,
     "end_time": "2022-09-20T12:21:46.409434",
     "exception": false,
     "start_time": "2022-09-20T12:21:46.371107",
     "status": "completed"
    },
    "tags": []
   },
   "outputs": [],
   "source": [
    "#hide\n",
    "def get_template(path):\n",
    "    from urllib.parse import urlparse\n",
    "    if bool(urlparse(path).netloc):\n",
    "        from urllib.request import urlopen\n",
    "        return urlopen(path).read().decode('utf8')\n",
    "    return open(path).read()"
   ]
  },
  {
   "cell_type": "code",
   "execution_count": 7,
   "id": "realistic-blast",
   "metadata": {
    "execution": {
     "iopub.execute_input": "2022-09-20T12:21:46.474680Z",
     "iopub.status.busy": "2022-09-20T12:21:46.473921Z",
     "iopub.status.idle": "2022-09-20T12:21:46.475712Z",
     "shell.execute_reply": "2022-09-20T12:21:46.476248Z"
    },
    "papermill": {
     "duration": 0.037088,
     "end_time": "2022-09-20T12:21:46.476387",
     "exception": false,
     "start_time": "2022-09-20T12:21:46.439299",
     "status": "completed"
    },
    "tags": []
   },
   "outputs": [],
   "source": [
    "#hide\n",
    "def get_frame(name):\n",
    "    url = (\n",
    "        'https://raw.githubusercontent.com/CSSEGISandData/COVID-19/master/csse_covid_19_data/'\n",
    "        f'csse_covid_19_time_series/time_series_covid19_{name}_global.csv')\n",
    "    df = pd.read_csv(url)\n",
    "    # rename countries\n",
    "    df['Country/Region'] = df['Country/Region'].replace(mapping['replace.country'])\n",
    "    return df"
   ]
  },
  {
   "cell_type": "code",
   "execution_count": 8,
   "id": "affiliated-characterization",
   "metadata": {
    "execution": {
     "iopub.execute_input": "2022-09-20T12:21:46.543486Z",
     "iopub.status.busy": "2022-09-20T12:21:46.542857Z",
     "iopub.status.idle": "2022-09-20T12:21:46.545191Z",
     "shell.execute_reply": "2022-09-20T12:21:46.544623Z"
    },
    "papermill": {
     "duration": 0.038416,
     "end_time": "2022-09-20T12:21:46.545302",
     "exception": false,
     "start_time": "2022-09-20T12:21:46.506886",
     "status": "completed"
    },
    "tags": []
   },
   "outputs": [],
   "source": [
    "#hide\n",
    "def get_dates(df):\n",
    "    dt_cols = df.columns[~df.columns.isin(['Province/State', 'Country/Region', 'Lat', 'Long'])]\n",
    "    LAST_DATE_I = -1\n",
    "    # sometimes last column may be empty, then go backwards\n",
    "    for i in range(-1, -len(dt_cols), -1):\n",
    "        if not df[dt_cols[i]].fillna(0).eq(0).all():\n",
    "            LAST_DATE_I = i\n",
    "            break\n",
    "    return LAST_DATE_I, dt_cols"
   ]
  },
  {
   "cell_type": "code",
   "execution_count": 9,
   "id": "recent-optimization",
   "metadata": {
    "execution": {
     "iopub.execute_input": "2022-09-20T12:21:46.610206Z",
     "iopub.status.busy": "2022-09-20T12:21:46.609559Z",
     "iopub.status.idle": "2022-09-20T12:21:46.976250Z",
     "shell.execute_reply": "2022-09-20T12:21:46.975069Z"
    },
    "papermill": {
     "duration": 0.401428,
     "end_time": "2022-09-20T12:21:46.976383",
     "exception": false,
     "start_time": "2022-09-20T12:21:46.574955",
     "status": "completed"
    },
    "tags": []
   },
   "outputs": [],
   "source": [
    "#hide\n",
    "COL_REGION = 'Country/Region'\n",
    "# Confirmed, Recovered, Deaths\n",
    "df = get_frame('confirmed')\n",
    "# dft_: timeseries, dfc_: today country agg\n",
    "dft_cases = df\n",
    "dft_deaths = get_frame('deaths')\n",
    "dft_recovered = get_frame('recovered')\n",
    "LAST_DATE_I, dt_cols = get_dates(df)"
   ]
  },
  {
   "cell_type": "code",
   "execution_count": 10,
   "id": "absolute-copper",
   "metadata": {
    "execution": {
     "iopub.execute_input": "2022-09-20T12:21:47.042414Z",
     "iopub.status.busy": "2022-09-20T12:21:47.041705Z",
     "iopub.status.idle": "2022-09-20T12:21:47.043992Z",
     "shell.execute_reply": "2022-09-20T12:21:47.043392Z"
    },
    "papermill": {
     "duration": 0.037798,
     "end_time": "2022-09-20T12:21:47.044103",
     "exception": false,
     "start_time": "2022-09-20T12:21:47.006305",
     "status": "completed"
    },
    "tags": []
   },
   "outputs": [],
   "source": [
    "#hide\n",
    "LAST_DATE_I, dt_cols = get_dates(df)\n",
    "dt_today =dt_cols[LAST_DATE_I]\n",
    "# dt_5day = dt_cols[LAST_DATE_I - 5]\n",
    "dt_yday = dt_cols[LAST_DATE_I - 1]"
   ]
  },
  {
   "cell_type": "code",
   "execution_count": 11,
   "id": "restricted-sheriff",
   "metadata": {
    "execution": {
     "iopub.execute_input": "2022-09-20T12:21:47.109308Z",
     "iopub.status.busy": "2022-09-20T12:21:47.108721Z",
     "iopub.status.idle": "2022-09-20T12:21:47.116792Z",
     "shell.execute_reply": "2022-09-20T12:21:47.117239Z"
    },
    "papermill": {
     "duration": 0.043618,
     "end_time": "2022-09-20T12:21:47.117364",
     "exception": false,
     "start_time": "2022-09-20T12:21:47.073746",
     "status": "completed"
    },
    "tags": []
   },
   "outputs": [],
   "source": [
    "#hide\n",
    "dfc_cases = dft_cases.groupby(COL_REGION)[dt_today].sum()\n",
    "dfc_deaths = dft_deaths.groupby(COL_REGION)[dt_today].sum()\n",
    "# dfp_cases = dft_cases.groupby(COL_REGION)[dt_5day].sum()\n",
    "# dfp_deaths = dft_deaths.groupby(COL_REGION)[dt_5day].sum()\n",
    "dfp_cases = dft_cases.groupby(COL_REGION)[dt_yday].sum()\n",
    "dfp_deaths = dft_deaths.groupby(COL_REGION)[dt_yday].sum()"
   ]
  },
  {
   "cell_type": "code",
   "execution_count": 12,
   "id": "deluxe-hepatitis",
   "metadata": {
    "execution": {
     "iopub.execute_input": "2022-09-20T12:21:47.183631Z",
     "iopub.status.busy": "2022-09-20T12:21:47.183048Z",
     "iopub.status.idle": "2022-09-20T12:21:47.188220Z",
     "shell.execute_reply": "2022-09-20T12:21:47.187656Z"
    },
    "papermill": {
     "duration": 0.041138,
     "end_time": "2022-09-20T12:21:47.188329",
     "exception": false,
     "start_time": "2022-09-20T12:21:47.147191",
     "status": "completed"
    },
    "tags": []
   },
   "outputs": [],
   "source": [
    "#hide\n",
    "df_table = (pd.DataFrame(dict(Cases = dfc_cases, Deaths = dfc_deaths, PCases = dfp_cases, PDeaths = dfp_deaths))\n",
    "            .sort_values(by = ['Cases','Deaths'], ascending = [False, False])\n",
    "            .reset_index())"
   ]
  },
  {
   "cell_type": "code",
   "execution_count": 13,
   "id": "educational-chancellor",
   "metadata": {
    "execution": {
     "iopub.execute_input": "2022-09-20T12:21:47.266595Z",
     "iopub.status.busy": "2022-09-20T12:21:47.265951Z",
     "iopub.status.idle": "2022-09-20T12:21:47.274124Z",
     "shell.execute_reply": "2022-09-20T12:21:47.273598Z"
    },
    "papermill": {
     "duration": 0.056264,
     "end_time": "2022-09-20T12:21:47.274239",
     "exception": false,
     "start_time": "2022-09-20T12:21:47.217975",
     "status": "completed"
    },
    "tags": []
   },
   "outputs": [
    {
     "data": {
      "text/html": [
       "<div>\n",
       "<style scoped>\n",
       "    .dataframe tbody tr th:only-of-type {\n",
       "        vertical-align: middle;\n",
       "    }\n",
       "\n",
       "    .dataframe tbody tr th {\n",
       "        vertical-align: top;\n",
       "    }\n",
       "\n",
       "    .dataframe thead th {\n",
       "        text-align: right;\n",
       "    }\n",
       "</style>\n",
       "<table border=\"1\" class=\"dataframe\">\n",
       "  <thead>\n",
       "    <tr style=\"text-align: right;\">\n",
       "      <th></th>\n",
       "      <th>Country/Region</th>\n",
       "      <th>Cases</th>\n",
       "      <th>Deaths</th>\n",
       "      <th>PCases</th>\n",
       "      <th>PDeaths</th>\n",
       "      <th>Cases (+)</th>\n",
       "      <th>Deaths (+)</th>\n",
       "      <th>Fatality Rate</th>\n",
       "      <th>Continent</th>\n",
       "    </tr>\n",
       "  </thead>\n",
       "  <tbody>\n",
       "    <tr>\n",
       "      <th>0</th>\n",
       "      <td>US</td>\n",
       "      <td>95713363</td>\n",
       "      <td>1053840</td>\n",
       "      <td>95658236</td>\n",
       "      <td>1053419</td>\n",
       "      <td>55127</td>\n",
       "      <td>421</td>\n",
       "      <td>1.10</td>\n",
       "      <td>North America</td>\n",
       "    </tr>\n",
       "    <tr>\n",
       "      <th>1</th>\n",
       "      <td>India</td>\n",
       "      <td>44543089</td>\n",
       "      <td>528370</td>\n",
       "      <td>44539046</td>\n",
       "      <td>528355</td>\n",
       "      <td>4043</td>\n",
       "      <td>15</td>\n",
       "      <td>1.19</td>\n",
       "      <td>Asia</td>\n",
       "    </tr>\n",
       "    <tr>\n",
       "      <th>2</th>\n",
       "      <td>France</td>\n",
       "      <td>35138509</td>\n",
       "      <td>155783</td>\n",
       "      <td>35076991</td>\n",
       "      <td>155712</td>\n",
       "      <td>61518</td>\n",
       "      <td>71</td>\n",
       "      <td>0.44</td>\n",
       "      <td>Europe</td>\n",
       "    </tr>\n",
       "    <tr>\n",
       "      <th>3</th>\n",
       "      <td>Brazil</td>\n",
       "      <td>34592163</td>\n",
       "      <td>685424</td>\n",
       "      <td>34568833</td>\n",
       "      <td>685203</td>\n",
       "      <td>23330</td>\n",
       "      <td>221</td>\n",
       "      <td>1.98</td>\n",
       "      <td>South America</td>\n",
       "    </tr>\n",
       "    <tr>\n",
       "      <th>4</th>\n",
       "      <td>Germany</td>\n",
       "      <td>32740593</td>\n",
       "      <td>149079</td>\n",
       "      <td>32680356</td>\n",
       "      <td>148933</td>\n",
       "      <td>60237</td>\n",
       "      <td>146</td>\n",
       "      <td>0.46</td>\n",
       "      <td>Europe</td>\n",
       "    </tr>\n",
       "  </tbody>\n",
       "</table>\n",
       "</div>"
      ],
      "text/plain": [
       "  Country/Region     Cases   Deaths    PCases  PDeaths  Cases (+)  Deaths (+)  \\\n",
       "0             US  95713363  1053840  95658236  1053419      55127         421   \n",
       "1          India  44543089   528370  44539046   528355       4043          15   \n",
       "2         France  35138509   155783  35076991   155712      61518          71   \n",
       "3         Brazil  34592163   685424  34568833   685203      23330         221   \n",
       "4        Germany  32740593   149079  32680356   148933      60237         146   \n",
       "\n",
       "   Fatality Rate      Continent  \n",
       "0           1.10  North America  \n",
       "1           1.19           Asia  \n",
       "2           0.44         Europe  \n",
       "3           1.98  South America  \n",
       "4           0.46         Europe  "
      ]
     },
     "execution_count": 13,
     "metadata": {},
     "output_type": "execute_result"
    }
   ],
   "source": [
    "#hide\n",
    "for c in 'Cases, Deaths'.split(', '):\n",
    "    df_table[f'{c} (+)'] = (df_table[c] - df_table[f'P{c}']).clip(0)\n",
    "    #Clip ça veut dire, les chiffres negatif sont interdit\n",
    "df_table['Fatality Rate'] = (100* df_table['Deaths']/ df_table['Cases']).round(2)\n",
    "df_table['Continent'] = df_table['Country/Region'].map(mapping['map.continent'])\n",
    "df_table.head(5)"
   ]
  },
  {
   "cell_type": "code",
   "execution_count": 14,
   "id": "aboriginal-bulgaria",
   "metadata": {
    "execution": {
     "iopub.execute_input": "2022-09-20T12:21:47.340764Z",
     "iopub.status.busy": "2022-09-20T12:21:47.340173Z",
     "iopub.status.idle": "2022-09-20T12:21:47.342734Z",
     "shell.execute_reply": "2022-09-20T12:21:47.343184Z"
    },
    "papermill": {
     "duration": 0.038848,
     "end_time": "2022-09-20T12:21:47.343313",
     "exception": false,
     "start_time": "2022-09-20T12:21:47.304465",
     "status": "completed"
    },
    "tags": []
   },
   "outputs": [],
   "source": [
    "#hide\n",
    "#delete problematic countries from table\n",
    "df_table = df_table[~df_table['Country/Region'].isin(['Cape Verde', 'Cruise Ship', 'Kosovo'])]"
   ]
  },
  {
   "cell_type": "code",
   "execution_count": 15,
   "id": "fantastic-effect",
   "metadata": {
    "execution": {
     "iopub.execute_input": "2022-09-20T12:21:47.411872Z",
     "iopub.status.busy": "2022-09-20T12:21:47.406585Z",
     "iopub.status.idle": "2022-09-20T12:21:47.429236Z",
     "shell.execute_reply": "2022-09-20T12:21:47.428766Z"
    },
    "papermill": {
     "duration": 0.055824,
     "end_time": "2022-09-20T12:21:47.429350",
     "exception": false,
     "start_time": "2022-09-20T12:21:47.373526",
     "status": "completed"
    },
    "tags": []
   },
   "outputs": [
    {
     "data": {
      "text/html": [
       "<div>\n",
       "<style scoped>\n",
       "    .dataframe tbody tr th:only-of-type {\n",
       "        vertical-align: middle;\n",
       "    }\n",
       "\n",
       "    .dataframe tbody tr th {\n",
       "        vertical-align: top;\n",
       "    }\n",
       "\n",
       "    .dataframe thead th {\n",
       "        text-align: right;\n",
       "    }\n",
       "</style>\n",
       "<table border=\"1\" class=\"dataframe\">\n",
       "  <thead>\n",
       "    <tr style=\"text-align: right;\">\n",
       "      <th></th>\n",
       "      <th>Country/Region</th>\n",
       "      <th>Cases</th>\n",
       "      <th>Deaths</th>\n",
       "      <th>PCases</th>\n",
       "      <th>PDeaths</th>\n",
       "      <th>Cases (+)</th>\n",
       "      <th>Deaths (+)</th>\n",
       "      <th>Fatality Rate</th>\n",
       "      <th>Continent</th>\n",
       "    </tr>\n",
       "  </thead>\n",
       "  <tbody>\n",
       "    <tr>\n",
       "      <th>0</th>\n",
       "      <td>US</td>\n",
       "      <td>95713363</td>\n",
       "      <td>1053840</td>\n",
       "      <td>95658236</td>\n",
       "      <td>1053419</td>\n",
       "      <td>55127</td>\n",
       "      <td>421</td>\n",
       "      <td>1.1</td>\n",
       "      <td>North America</td>\n",
       "    </tr>\n",
       "    <tr>\n",
       "      <th>1</th>\n",
       "      <td>India</td>\n",
       "      <td>44543089</td>\n",
       "      <td>528370</td>\n",
       "      <td>44539046</td>\n",
       "      <td>528355</td>\n",
       "      <td>4043</td>\n",
       "      <td>15</td>\n",
       "      <td>1.2</td>\n",
       "      <td>Asia</td>\n",
       "    </tr>\n",
       "    <tr>\n",
       "      <th>2</th>\n",
       "      <td>France</td>\n",
       "      <td>35138509</td>\n",
       "      <td>155783</td>\n",
       "      <td>35076991</td>\n",
       "      <td>155712</td>\n",
       "      <td>61518</td>\n",
       "      <td>71</td>\n",
       "      <td>0.4</td>\n",
       "      <td>Europe</td>\n",
       "    </tr>\n",
       "    <tr>\n",
       "      <th>3</th>\n",
       "      <td>Brazil</td>\n",
       "      <td>34592163</td>\n",
       "      <td>685424</td>\n",
       "      <td>34568833</td>\n",
       "      <td>685203</td>\n",
       "      <td>23330</td>\n",
       "      <td>221</td>\n",
       "      <td>2.0</td>\n",
       "      <td>South America</td>\n",
       "    </tr>\n",
       "    <tr>\n",
       "      <th>4</th>\n",
       "      <td>Germany</td>\n",
       "      <td>32740593</td>\n",
       "      <td>149079</td>\n",
       "      <td>32680356</td>\n",
       "      <td>148933</td>\n",
       "      <td>60237</td>\n",
       "      <td>146</td>\n",
       "      <td>0.5</td>\n",
       "      <td>Europe</td>\n",
       "    </tr>\n",
       "  </tbody>\n",
       "</table>\n",
       "</div>"
      ],
      "text/plain": [
       "  Country/Region     Cases   Deaths    PCases  PDeaths  Cases (+)  Deaths (+)  \\\n",
       "0             US  95713363  1053840  95658236  1053419      55127         421   \n",
       "1          India  44543089   528370  44539046   528355       4043          15   \n",
       "2         France  35138509   155783  35076991   155712      61518          71   \n",
       "3         Brazil  34592163   685424  34568833   685203      23330         221   \n",
       "4        Germany  32740593   149079  32680356   148933      60237         146   \n",
       "\n",
       "   Fatality Rate      Continent  \n",
       "0            1.1  North America  \n",
       "1            1.2           Asia  \n",
       "2            0.4         Europe  \n",
       "3            2.0  South America  \n",
       "4            0.5         Europe  "
      ]
     },
     "execution_count": 15,
     "metadata": {},
     "output_type": "execute_result"
    }
   ],
   "source": [
    "#hide\n",
    "df_table = (pd.DataFrame(dict(Cases=dfc_cases, Deaths=dfc_deaths, PCases=dfp_cases, PDeaths=dfp_deaths))\n",
    "             .sort_values(by=['Cases', 'Deaths'], ascending=[False, False])\n",
    "             .reset_index())\n",
    "df_table.rename(columns={'index': 'Country/Region'}, inplace=True)\n",
    "for c in 'Cases, Deaths'.split(', '):\n",
    "    df_table[f'{c} (+)'] = (df_table[c] - df_table[f'P{c}']).clip(0)  # DATA BUG\n",
    "df_table['Fatality Rate'] = (100 * df_table['Deaths'] / df_table['Cases']).round(1)\n",
    "df_table['Continent'] = df_table['Country/Region'].map(mapping['map.continent'])\n",
    "df_table.head(5)"
   ]
  },
  {
   "cell_type": "code",
   "execution_count": 16,
   "id": "fewer-occasion",
   "metadata": {
    "execution": {
     "iopub.execute_input": "2022-09-20T12:21:47.497246Z",
     "iopub.status.busy": "2022-09-20T12:21:47.496632Z",
     "iopub.status.idle": "2022-09-20T12:21:47.499241Z",
     "shell.execute_reply": "2022-09-20T12:21:47.498671Z"
    },
    "papermill": {
     "duration": 0.039085,
     "end_time": "2022-09-20T12:21:47.499350",
     "exception": false,
     "start_time": "2022-09-20T12:21:47.460265",
     "status": "completed"
    },
    "tags": []
   },
   "outputs": [],
   "source": [
    "#hide\n",
    "#delete problematic countries from table\n",
    "df_table = df_table[~df_table['Country/Region'].isin(['Cape Verde', 'Cruise Ship', 'Kosovo'])]"
   ]
  },
  {
   "cell_type": "code",
   "execution_count": 17,
   "id": "related-center",
   "metadata": {
    "execution": {
     "iopub.execute_input": "2022-09-20T12:21:47.578685Z",
     "iopub.status.busy": "2022-09-20T12:21:47.578038Z",
     "iopub.status.idle": "2022-09-20T12:21:47.580443Z",
     "shell.execute_reply": "2022-09-20T12:21:47.580891Z"
    },
    "papermill": {
     "duration": 0.051094,
     "end_time": "2022-09-20T12:21:47.581018",
     "exception": false,
     "start_time": "2022-09-20T12:21:47.529924",
     "status": "completed"
    },
    "tags": []
   },
   "outputs": [],
   "source": [
    "#hide\n",
    "metrics = [df_table.columns[index] for index in [1,2,5,6]]\n",
    "# s_china = df_table[df_table['Country/Region'].eq('China')][metrics].sum().add_prefix('China ')\n",
    "s_us = df_table[df_table['Country/Region'].eq('US')][metrics].sum().add_prefix('US ')\n",
    "s_eu = df_table[df_table['Continent'].eq('Europe')][metrics].sum().add_prefix('EU ')\n",
    "s_ind = df_table[df_table['Country/Region'].eq('India')][metrics].sum().add_prefix('India ')\n",
    "summary = {'updated': pd.to_datetime(dt_today), 'since': pd.to_datetime(dt_yday)}\n",
    "summary = {'updated': pd.to_datetime(dt_today), 'since': pd.to_datetime(dt_yday)}\n",
    "summary = {**summary, **df_table[metrics].sum(), **s_ind, **s_us, **s_eu}"
   ]
  },
  {
   "cell_type": "code",
   "execution_count": 18,
   "id": "engaging-syndrome",
   "metadata": {
    "execution": {
     "iopub.execute_input": "2022-09-20T12:21:47.648496Z",
     "iopub.status.busy": "2022-09-20T12:21:47.647913Z",
     "iopub.status.idle": "2022-09-20T12:21:47.668229Z",
     "shell.execute_reply": "2022-09-20T12:21:47.667735Z"
    },
    "papermill": {
     "duration": 0.056342,
     "end_time": "2022-09-20T12:21:47.668343",
     "exception": false,
     "start_time": "2022-09-20T12:21:47.612001",
     "status": "completed"
    },
    "tags": []
   },
   "outputs": [],
   "source": [
    "#hide\n",
    "dft_ct_new_cases = dft_cases.groupby(COL_REGION)[dt_cols].sum().diff(axis=1).fillna(0).astype(int)"
   ]
  },
  {
   "cell_type": "code",
   "execution_count": 19,
   "id": "neutral-assignment",
   "metadata": {
    "execution": {
     "iopub.execute_input": "2022-09-20T12:21:47.737402Z",
     "iopub.status.busy": "2022-09-20T12:21:47.736712Z",
     "iopub.status.idle": "2022-09-20T12:21:47.739214Z",
     "shell.execute_reply": "2022-09-20T12:21:47.738761Z"
    },
    "papermill": {
     "duration": 0.040297,
     "end_time": "2022-09-20T12:21:47.739327",
     "exception": false,
     "start_time": "2022-09-20T12:21:47.699030",
     "status": "completed"
    },
    "tags": []
   },
   "outputs": [],
   "source": [
    "#hide\n",
    "everydaycases = dft_ct_new_cases.cumsum(axis=1)"
   ]
  },
  {
   "cell_type": "code",
   "execution_count": 20,
   "id": "parliamentary-calgary",
   "metadata": {
    "execution": {
     "iopub.execute_input": "2022-09-20T12:21:47.805268Z",
     "iopub.status.busy": "2022-09-20T12:21:47.804686Z",
     "iopub.status.idle": "2022-09-20T12:21:48.341269Z",
     "shell.execute_reply": "2022-09-20T12:21:48.341787Z"
    },
    "papermill": {
     "duration": 0.571883,
     "end_time": "2022-09-20T12:21:48.341946",
     "exception": false,
     "start_time": "2022-09-20T12:21:47.770063",
     "status": "completed"
    },
    "tags": []
   },
   "outputs": [],
   "source": [
    "#hide\n",
    "import pandas as pd\n",
    "import matplotlib.pyplot as plt\n",
    "import matplotlib.ticker as ticker\n",
    "import matplotlib.animation as animation\n",
    "from IPython.display import HTML"
   ]
  },
  {
   "cell_type": "code",
   "execution_count": 21,
   "id": "lasting-extraction",
   "metadata": {
    "execution": {
     "iopub.execute_input": "2022-09-20T12:21:48.410540Z",
     "iopub.status.busy": "2022-09-20T12:21:48.409932Z",
     "iopub.status.idle": "2022-09-20T12:21:48.417595Z",
     "shell.execute_reply": "2022-09-20T12:21:48.417122Z"
    },
    "papermill": {
     "duration": 0.04505,
     "end_time": "2022-09-20T12:21:48.417703",
     "exception": false,
     "start_time": "2022-09-20T12:21:48.372653",
     "status": "completed"
    },
    "tags": []
   },
   "outputs": [],
   "source": [
    "#hide\n",
    "t = everydaycases.stack()"
   ]
  },
  {
   "cell_type": "code",
   "execution_count": 22,
   "id": "premier-sleeve",
   "metadata": {
    "execution": {
     "iopub.execute_input": "2022-09-20T12:21:48.483960Z",
     "iopub.status.busy": "2022-09-20T12:21:48.483364Z",
     "iopub.status.idle": "2022-09-20T12:21:48.497611Z",
     "shell.execute_reply": "2022-09-20T12:21:48.496548Z"
    },
    "papermill": {
     "duration": 0.049396,
     "end_time": "2022-09-20T12:21:48.497728",
     "exception": false,
     "start_time": "2022-09-20T12:21:48.448332",
     "status": "completed"
    },
    "tags": []
   },
   "outputs": [],
   "source": [
    "#hide\n",
    "g = t.reset_index(['Country/Region'])"
   ]
  },
  {
   "cell_type": "code",
   "execution_count": 23,
   "id": "distributed-pittsburgh",
   "metadata": {
    "execution": {
     "iopub.execute_input": "2022-09-20T12:21:48.563515Z",
     "iopub.status.busy": "2022-09-20T12:21:48.562815Z",
     "iopub.status.idle": "2022-09-20T12:21:48.565121Z",
     "shell.execute_reply": "2022-09-20T12:21:48.564483Z"
    },
    "papermill": {
     "duration": 0.037034,
     "end_time": "2022-09-20T12:21:48.565248",
     "exception": false,
     "start_time": "2022-09-20T12:21:48.528214",
     "status": "completed"
    },
    "tags": []
   },
   "outputs": [],
   "source": [
    "#hide\n",
    "g.index.name = 'date'"
   ]
  },
  {
   "cell_type": "code",
   "execution_count": 24,
   "id": "naked-donor",
   "metadata": {
    "execution": {
     "iopub.execute_input": "2022-09-20T12:21:48.631036Z",
     "iopub.status.busy": "2022-09-20T12:21:48.630443Z",
     "iopub.status.idle": "2022-09-20T12:21:48.632683Z",
     "shell.execute_reply": "2022-09-20T12:21:48.633127Z"
    },
    "papermill": {
     "duration": 0.036943,
     "end_time": "2022-09-20T12:21:48.633251",
     "exception": false,
     "start_time": "2022-09-20T12:21:48.596308",
     "status": "completed"
    },
    "tags": []
   },
   "outputs": [],
   "source": [
    "# #hide\n",
    "# g = g.reset_index(['date'])"
   ]
  },
  {
   "cell_type": "code",
   "execution_count": 25,
   "id": "incomplete-mustang",
   "metadata": {
    "execution": {
     "iopub.execute_input": "2022-09-20T12:21:48.698867Z",
     "iopub.status.busy": "2022-09-20T12:21:48.698217Z",
     "iopub.status.idle": "2022-09-20T12:21:48.700573Z",
     "shell.execute_reply": "2022-09-20T12:21:48.700007Z"
    },
    "papermill": {
     "duration": 0.036799,
     "end_time": "2022-09-20T12:21:48.700680",
     "exception": false,
     "start_time": "2022-09-20T12:21:48.663881",
     "status": "completed"
    },
    "tags": []
   },
   "outputs": [],
   "source": [
    "#hide\n",
    "# g.head()"
   ]
  },
  {
   "cell_type": "code",
   "execution_count": 26,
   "id": "specific-kruger",
   "metadata": {
    "execution": {
     "iopub.execute_input": "2022-09-20T12:21:48.766459Z",
     "iopub.status.busy": "2022-09-20T12:21:48.765726Z",
     "iopub.status.idle": "2022-09-20T12:21:48.768410Z",
     "shell.execute_reply": "2022-09-20T12:21:48.767750Z"
    },
    "papermill": {
     "duration": 0.037094,
     "end_time": "2022-09-20T12:21:48.768535",
     "exception": false,
     "start_time": "2022-09-20T12:21:48.731441",
     "status": "completed"
    },
    "tags": []
   },
   "outputs": [],
   "source": [
    "#hide\n",
    "# g.columns = ['date','country','cases']"
   ]
  },
  {
   "cell_type": "code",
   "execution_count": 27,
   "id": "tender-conversion",
   "metadata": {
    "execution": {
     "iopub.execute_input": "2022-09-20T12:21:48.833851Z",
     "iopub.status.busy": "2022-09-20T12:21:48.833142Z",
     "iopub.status.idle": "2022-09-20T12:21:48.835803Z",
     "shell.execute_reply": "2022-09-20T12:21:48.835268Z"
    },
    "papermill": {
     "duration": 0.03672,
     "end_time": "2022-09-20T12:21:48.835924",
     "exception": false,
     "start_time": "2022-09-20T12:21:48.799204",
     "status": "completed"
    },
    "tags": []
   },
   "outputs": [],
   "source": [
    "#hide\n",
    "# g['continent'] = g.country"
   ]
  },
  {
   "cell_type": "code",
   "execution_count": 28,
   "id": "substantial-wilderness",
   "metadata": {
    "execution": {
     "iopub.execute_input": "2022-09-20T12:21:48.902625Z",
     "iopub.status.busy": "2022-09-20T12:21:48.901891Z",
     "iopub.status.idle": "2022-09-20T12:21:48.904231Z",
     "shell.execute_reply": "2022-09-20T12:21:48.903666Z"
    },
    "papermill": {
     "duration": 0.036958,
     "end_time": "2022-09-20T12:21:48.904339",
     "exception": false,
     "start_time": "2022-09-20T12:21:48.867381",
     "status": "completed"
    },
    "tags": []
   },
   "outputs": [],
   "source": [
    "#hide\n",
    "# cols = list(g.columns.values)"
   ]
  },
  {
   "cell_type": "code",
   "execution_count": 29,
   "id": "solved-farming",
   "metadata": {
    "execution": {
     "iopub.execute_input": "2022-09-20T12:21:48.969813Z",
     "iopub.status.busy": "2022-09-20T12:21:48.969135Z",
     "iopub.status.idle": "2022-09-20T12:21:48.972826Z",
     "shell.execute_reply": "2022-09-20T12:21:48.973337Z"
    },
    "papermill": {
     "duration": 0.038586,
     "end_time": "2022-09-20T12:21:48.973478",
     "exception": false,
     "start_time": "2022-09-20T12:21:48.934892",
     "status": "completed"
    },
    "tags": []
   },
   "outputs": [],
   "source": [
    "#hide\n",
    "# cols.insert(0, cols.pop())"
   ]
  },
  {
   "cell_type": "code",
   "execution_count": 30,
   "id": "executed-adoption",
   "metadata": {
    "execution": {
     "iopub.execute_input": "2022-09-20T12:21:49.039250Z",
     "iopub.status.busy": "2022-09-20T12:21:49.038556Z",
     "iopub.status.idle": "2022-09-20T12:21:49.041115Z",
     "shell.execute_reply": "2022-09-20T12:21:49.040582Z"
    },
    "papermill": {
     "duration": 0.036966,
     "end_time": "2022-09-20T12:21:49.041235",
     "exception": false,
     "start_time": "2022-09-20T12:21:49.004269",
     "status": "completed"
    },
    "tags": []
   },
   "outputs": [],
   "source": [
    "#hide\n",
    "# g = g[cols]"
   ]
  },
  {
   "cell_type": "code",
   "execution_count": 31,
   "id": "subject-dublin",
   "metadata": {
    "execution": {
     "iopub.execute_input": "2022-09-20T12:21:49.107141Z",
     "iopub.status.busy": "2022-09-20T12:21:49.106524Z",
     "iopub.status.idle": "2022-09-20T12:21:49.109446Z",
     "shell.execute_reply": "2022-09-20T12:21:49.108976Z"
    },
    "papermill": {
     "duration": 0.037191,
     "end_time": "2022-09-20T12:21:49.109554",
     "exception": false,
     "start_time": "2022-09-20T12:21:49.072363",
     "status": "completed"
    },
    "tags": []
   },
   "outputs": [],
   "source": [
    "#hide\n",
    "# g['continent'] = g['continent'].map(mapping['map.continent'])"
   ]
  },
  {
   "cell_type": "code",
   "execution_count": 32,
   "id": "freelance-scout",
   "metadata": {
    "execution": {
     "iopub.execute_input": "2022-09-20T12:21:49.175559Z",
     "iopub.status.busy": "2022-09-20T12:21:49.174857Z",
     "iopub.status.idle": "2022-09-20T12:21:49.177295Z",
     "shell.execute_reply": "2022-09-20T12:21:49.176660Z"
    },
    "papermill": {
     "duration": 0.037173,
     "end_time": "2022-09-20T12:21:49.177404",
     "exception": false,
     "start_time": "2022-09-20T12:21:49.140231",
     "status": "completed"
    },
    "tags": []
   },
   "outputs": [],
   "source": [
    "#hide\n",
    "# g.head()"
   ]
  },
  {
   "cell_type": "code",
   "execution_count": 33,
   "id": "limited-engine",
   "metadata": {
    "execution": {
     "iopub.execute_input": "2022-09-20T12:21:49.242804Z",
     "iopub.status.busy": "2022-09-20T12:21:49.242069Z",
     "iopub.status.idle": "2022-09-20T12:21:49.245642Z",
     "shell.execute_reply": "2022-09-20T12:21:49.245108Z"
    },
    "papermill": {
     "duration": 0.037751,
     "end_time": "2022-09-20T12:21:49.245762",
     "exception": false,
     "start_time": "2022-09-20T12:21:49.208011",
     "status": "completed"
    },
    "tags": []
   },
   "outputs": [],
   "source": [
    "# hide\n",
    "# g['date'] = g['date'].astype('datetime64[ns]')"
   ]
  },
  {
   "cell_type": "code",
   "execution_count": 34,
   "id": "sophisticated-supervisor",
   "metadata": {
    "execution": {
     "iopub.execute_input": "2022-09-20T12:21:49.311637Z",
     "iopub.status.busy": "2022-09-20T12:21:49.311033Z",
     "iopub.status.idle": "2022-09-20T12:21:49.313517Z",
     "shell.execute_reply": "2022-09-20T12:21:49.313044Z"
    },
    "papermill": {
     "duration": 0.036524,
     "end_time": "2022-09-20T12:21:49.313624",
     "exception": false,
     "start_time": "2022-09-20T12:21:49.277100",
     "status": "completed"
    },
    "tags": []
   },
   "outputs": [],
   "source": [
    "#hide\n",
    "# g['date'] = g.date.dt.dayofyear"
   ]
  },
  {
   "cell_type": "code",
   "execution_count": 35,
   "id": "inside-dubai",
   "metadata": {
    "execution": {
     "iopub.execute_input": "2022-09-20T12:21:49.378793Z",
     "iopub.status.busy": "2022-09-20T12:21:49.378056Z",
     "iopub.status.idle": "2022-09-20T12:21:49.380650Z",
     "shell.execute_reply": "2022-09-20T12:21:49.380003Z"
    },
    "papermill": {
     "duration": 0.036578,
     "end_time": "2022-09-20T12:21:49.380770",
     "exception": false,
     "start_time": "2022-09-20T12:21:49.344192",
     "status": "completed"
    },
    "tags": []
   },
   "outputs": [],
   "source": [
    "#hide\n",
    "# g = g.rename(columns= {'continent':'group','country':'name','cases':'value'})"
   ]
  },
  {
   "cell_type": "code",
   "execution_count": 36,
   "id": "fleet-motorcycle",
   "metadata": {
    "execution": {
     "iopub.execute_input": "2022-09-20T12:21:49.446298Z",
     "iopub.status.busy": "2022-09-20T12:21:49.445577Z",
     "iopub.status.idle": "2022-09-20T12:21:49.448140Z",
     "shell.execute_reply": "2022-09-20T12:21:49.447601Z"
    },
    "papermill": {
     "duration": 0.036733,
     "end_time": "2022-09-20T12:21:49.448263",
     "exception": false,
     "start_time": "2022-09-20T12:21:49.411530",
     "status": "completed"
    },
    "tags": []
   },
   "outputs": [],
   "source": [
    "#hide\n",
    "# cols = ['name','group','day','value']"
   ]
  },
  {
   "cell_type": "code",
   "execution_count": 37,
   "id": "continued-sleeping",
   "metadata": {
    "execution": {
     "iopub.execute_input": "2022-09-20T12:21:49.514148Z",
     "iopub.status.busy": "2022-09-20T12:21:49.513530Z",
     "iopub.status.idle": "2022-09-20T12:21:49.515942Z",
     "shell.execute_reply": "2022-09-20T12:21:49.515375Z"
    },
    "papermill": {
     "duration": 0.036585,
     "end_time": "2022-09-20T12:21:49.516052",
     "exception": false,
     "start_time": "2022-09-20T12:21:49.479467",
     "status": "completed"
    },
    "tags": []
   },
   "outputs": [],
   "source": [
    "#hide\n",
    "# g.rename(columns= {'date':'day'},inplace = True)"
   ]
  },
  {
   "cell_type": "code",
   "execution_count": 38,
   "id": "major-fight",
   "metadata": {
    "execution": {
     "iopub.execute_input": "2022-09-20T12:21:49.581507Z",
     "iopub.status.busy": "2022-09-20T12:21:49.580821Z",
     "iopub.status.idle": "2022-09-20T12:21:49.585685Z",
     "shell.execute_reply": "2022-09-20T12:21:49.585231Z"
    },
    "papermill": {
     "duration": 0.039009,
     "end_time": "2022-09-20T12:21:49.585798",
     "exception": false,
     "start_time": "2022-09-20T12:21:49.546789",
     "status": "completed"
    },
    "tags": []
   },
   "outputs": [],
   "source": [
    "#hide\n",
    "# g = g[cols]"
   ]
  },
  {
   "cell_type": "code",
   "execution_count": 39,
   "id": "structured-mobile",
   "metadata": {
    "execution": {
     "iopub.execute_input": "2022-09-20T12:21:49.651998Z",
     "iopub.status.busy": "2022-09-20T12:21:49.651300Z",
     "iopub.status.idle": "2022-09-20T12:21:49.653409Z",
     "shell.execute_reply": "2022-09-20T12:21:49.652825Z"
    },
    "papermill": {
     "duration": 0.037103,
     "end_time": "2022-09-20T12:21:49.653534",
     "exception": false,
     "start_time": "2022-09-20T12:21:49.616431",
     "status": "completed"
    },
    "tags": []
   },
   "outputs": [],
   "source": [
    "# #hide\n",
    "# g = g[g.group.notna()]"
   ]
  },
  {
   "cell_type": "code",
   "execution_count": 40,
   "id": "determined-closing",
   "metadata": {
    "execution": {
     "iopub.execute_input": "2022-09-20T12:21:49.719523Z",
     "iopub.status.busy": "2022-09-20T12:21:49.718939Z",
     "iopub.status.idle": "2022-09-20T12:21:49.721302Z",
     "shell.execute_reply": "2022-09-20T12:21:49.721719Z"
    },
    "papermill": {
     "duration": 0.03708,
     "end_time": "2022-09-20T12:21:49.721845",
     "exception": false,
     "start_time": "2022-09-20T12:21:49.684765",
     "status": "completed"
    },
    "tags": []
   },
   "outputs": [],
   "source": [
    "# #hide\n",
    "# colors = dict(zip(\n",
    "#     [\"Oceania\", \"Europe\", \"Asia\", \"South America\", \"Middle East\", \"North America\", \"Africa\"],\n",
    "#     [\"#adb0ff\", \"#ffb3ff\", \"#90d595\", \"#e48381\", \"#aafbff\", \"#f7bb5f\", \"#eafb50\"]\n",
    "# ))\n",
    "# group_lk = g.set_index('name')['group'].to_dict()"
   ]
  },
  {
   "cell_type": "code",
   "execution_count": null,
   "id": "gross-drinking",
   "metadata": {
    "papermill": {
     "duration": 0.030597,
     "end_time": "2022-09-20T12:21:49.783167",
     "exception": false,
     "start_time": "2022-09-20T12:21:49.752570",
     "status": "completed"
    },
    "tags": []
   },
   "outputs": [],
   "source": []
  },
  {
   "cell_type": "code",
   "execution_count": 41,
   "id": "subject-macintosh",
   "metadata": {
    "execution": {
     "iopub.execute_input": "2022-09-20T12:21:49.849599Z",
     "iopub.status.busy": "2022-09-20T12:21:49.848905Z",
     "iopub.status.idle": "2022-09-20T12:21:49.851435Z",
     "shell.execute_reply": "2022-09-20T12:21:49.850948Z"
    },
    "papermill": {
     "duration": 0.03768,
     "end_time": "2022-09-20T12:21:49.851549",
     "exception": false,
     "start_time": "2022-09-20T12:21:49.813869",
     "status": "completed"
    },
    "tags": []
   },
   "outputs": [],
   "source": [
    "# #hide\n",
    "# fig, ax = plt.subplots(figsize=(15, 8))\n",
    "\n",
    "# def draw_barchart(current_day):\n",
    "#     dff = g[g['day'].eq(current_day)].sort_values(by='value', ascending=True).tail(10)\n",
    "#     ax.clear()\n",
    "#     ax.barh(dff['name'], dff['value'], color=[colors[group_lk[x]] for x in dff['name']])\n",
    "#     dx = dff['value'].max() / 200\n",
    "    \n",
    "#     for i, (value, name) in enumerate(zip(dff['value'], dff['name'])):\n",
    "#         ax.text(value-dx, i,     name,           size=14, weight=600, ha='right', va='bottom')\n",
    "#         ax.text(value-dx, i-.25, group_lk[name], size=10, color='#444444', ha='right', va='baseline')\n",
    "#         ax.text(value+dx, i,     f'{value:,.0f}',  size=14, ha='left',  va='center')\n",
    "#     ax.text(1, 0.4, current_day, transform=ax.transAxes, color='#777777', size=46, ha='right', weight=800)\n",
    "#     ax.text(0, 1.06, 'Population (thousands)', transform=ax.transAxes, size=12, color='#777777')\n",
    "#     ax.xaxis.set_major_formatter(ticker.StrMethodFormatter('{x:,.0f}'))\n",
    "#     ax.xaxis.set_ticks_position('top')\n",
    "#     ax.tick_params(axis='x', colors='#777777', labelsize=12)\n",
    "#     ax.set_yticks([])\n",
    "#     ax.margins(0, 0.01)\n",
    "#     ax.grid(which='major', axis='x', linestyle='-')\n",
    "#     ax.set_axisbelow(True)\n",
    "    \n",
    "#     ax.text(0, 1.15, 'Coronavirus',\n",
    "#             transform=ax.transAxes, size=24, weight=600, ha='left', va='top')\n",
    "# #     ax.text(1, 0, 'by @pratapvardhan; credit @jburnmurdoch', transform=ax.transAxes, color='#777777', ha='right',\n",
    "# #             bbox=dict(facecolor='white', alpha=0.8, edgecolor='white'))\n",
    "#     plt.box(False)"
   ]
  },
  {
   "cell_type": "code",
   "execution_count": 42,
   "id": "sexual-wages",
   "metadata": {
    "execution": {
     "iopub.execute_input": "2022-09-20T12:21:49.917505Z",
     "iopub.status.busy": "2022-09-20T12:21:49.916812Z",
     "iopub.status.idle": "2022-09-20T12:21:49.919333Z",
     "shell.execute_reply": "2022-09-20T12:21:49.918792Z"
    },
    "papermill": {
     "duration": 0.037027,
     "end_time": "2022-09-20T12:21:49.919455",
     "exception": false,
     "start_time": "2022-09-20T12:21:49.882428",
     "status": "completed"
    },
    "tags": []
   },
   "outputs": [],
   "source": [
    "# #hide_input\n",
    "# fig, ax = plt.subplots(figsize=(15, 8))\n",
    "# animator = animation.FuncAnimation(fig, draw_barchart, frames=range(g.day.values.min(), g.day.values.max()))\n",
    "# HTML(animator.to_jshtml())\n",
    "# # or use animator.to_html5_video() or animator.save() "
   ]
  },
  {
   "cell_type": "code",
   "execution_count": null,
   "id": "australian-container",
   "metadata": {
    "papermill": {
     "duration": 0.031351,
     "end_time": "2022-09-20T12:21:49.981819",
     "exception": false,
     "start_time": "2022-09-20T12:21:49.950468",
     "status": "completed"
    },
    "tags": []
   },
   "outputs": [],
   "source": []
  },
  {
   "cell_type": "code",
   "execution_count": null,
   "id": "mediterranean-pontiac",
   "metadata": {
    "papermill": {
     "duration": 0.030548,
     "end_time": "2022-09-20T12:21:50.043107",
     "exception": false,
     "start_time": "2022-09-20T12:21:50.012559",
     "status": "completed"
    },
    "tags": []
   },
   "outputs": [],
   "source": []
  },
  {
   "cell_type": "code",
   "execution_count": null,
   "id": "aging-legislature",
   "metadata": {
    "papermill": {
     "duration": 0.030505,
     "end_time": "2022-09-20T12:21:50.104309",
     "exception": false,
     "start_time": "2022-09-20T12:21:50.073804",
     "status": "completed"
    },
    "tags": []
   },
   "outputs": [],
   "source": []
  }
 ],
 "metadata": {
  "kernelspec": {
   "display_name": "Python 3",
   "language": "python",
   "name": "python3"
  },
  "language_info": {
   "codemirror_mode": {
    "name": "ipython",
    "version": 3
   },
   "file_extension": ".py",
   "mimetype": "text/x-python",
   "name": "python",
   "nbconvert_exporter": "python",
   "pygments_lexer": "ipython3",
   "version": "3.6.15"
  },
  "papermill": {
   "duration": 5.79002,
   "end_time": "2022-09-20T12:21:50.454470",
   "environment_variables": {},
   "exception": null,
   "input_path": "2020-03-21-covid19exp.ipynb",
   "output_path": "2020-03-21-covid19exp.ipynb",
   "parameters": {},
   "start_time": "2022-09-20T12:21:44.664450",
   "version": "2.0.0"
  }
 },
 "nbformat": 4,
 "nbformat_minor": 5
}