{
 "cells": [
  {
   "cell_type": "markdown",
   "id": "muslim-click",
   "metadata": {
    "papermill": {
     "duration": 0.034587,
     "end_time": "2021-12-07T00:26:00.354117",
     "exception": false,
     "start_time": "2021-12-07T00:26:00.319530",
     "status": "completed"
    },
    "tags": []
   },
   "source": [
    "# COVID-19 Case Race\n",
    "> A race chart to see rising cases around the world\n",
    "\n",
    "- author: Hargun Oberoi\n",
    "- image: images/covid-overview.png\n",
    "- hide: false\n",
    "- badges: false"
   ]
  },
  {
   "cell_type": "code",
   "execution_count": 1,
   "id": "proof-material",
   "metadata": {
    "execution": {
     "iopub.execute_input": "2021-12-07T00:26:00.424191Z",
     "iopub.status.busy": "2021-12-07T00:26:00.423665Z",
     "iopub.status.idle": "2021-12-07T00:26:00.749272Z",
     "shell.execute_reply": "2021-12-07T00:26:00.748677Z"
    },
    "papermill": {
     "duration": 0.365115,
     "end_time": "2021-12-07T00:26:00.749432",
     "exception": false,
     "start_time": "2021-12-07T00:26:00.384317",
     "status": "completed"
    },
    "tags": []
   },
   "outputs": [],
   "source": [
    "#hide\n",
    "import numpy as np\n",
    "import pandas as pd\n",
    "from jinja2 import Template\n",
    "from IPython.display import HTML"
   ]
  },
  {
   "cell_type": "code",
   "execution_count": 2,
   "id": "developed-terminology",
   "metadata": {
    "execution": {
     "iopub.execute_input": "2021-12-07T00:26:00.817806Z",
     "iopub.status.busy": "2021-12-07T00:26:00.817295Z",
     "iopub.status.idle": "2021-12-07T00:26:00.819533Z",
     "shell.execute_reply": "2021-12-07T00:26:00.819122Z"
    },
    "papermill": {
     "duration": 0.038102,
     "end_time": "2021-12-07T00:26:00.819644",
     "exception": false,
     "start_time": "2021-12-07T00:26:00.781542",
     "status": "completed"
    },
    "tags": []
   },
   "outputs": [],
   "source": [
    "#hide\n",
    "\n",
    "# FETCH\n",
    "base_url = 'https://raw.githubusercontent.com/pratapvardhan/notebooks/master/covid19/'\n",
    "paths = {\n",
    "    'mapping': base_url + 'mapping_countries.csv',\n",
    "    'overview': base_url + 'overview.tpl'\n",
    "}"
   ]
  },
  {
   "cell_type": "code",
   "execution_count": 3,
   "id": "dynamic-saver",
   "metadata": {
    "execution": {
     "iopub.execute_input": "2021-12-07T00:26:00.887765Z",
     "iopub.status.busy": "2021-12-07T00:26:00.887253Z",
     "iopub.status.idle": "2021-12-07T00:26:00.890071Z",
     "shell.execute_reply": "2021-12-07T00:26:00.889645Z"
    },
    "papermill": {
     "duration": 0.040989,
     "end_time": "2021-12-07T00:26:00.890179",
     "exception": false,
     "start_time": "2021-12-07T00:26:00.849190",
     "status": "completed"
    },
    "tags": []
   },
   "outputs": [
    {
     "data": {
      "text/plain": [
       "'https://raw.githubusercontent.com/pratapvardhan/notebooks/master/covid19/mapping_countries.csv'"
      ]
     },
     "execution_count": 3,
     "metadata": {},
     "output_type": "execute_result"
    }
   ],
   "source": [
    "#hide\n",
    "paths['mapping']"
   ]
  },
  {
   "cell_type": "code",
   "execution_count": 4,
   "id": "urban-software",
   "metadata": {
    "execution": {
     "iopub.execute_input": "2021-12-07T00:26:00.954526Z",
     "iopub.status.busy": "2021-12-07T00:26:00.954018Z",
     "iopub.status.idle": "2021-12-07T00:26:00.956959Z",
     "shell.execute_reply": "2021-12-07T00:26:00.957349Z"
    },
    "papermill": {
     "duration": 0.0375,
     "end_time": "2021-12-07T00:26:00.957471",
     "exception": false,
     "start_time": "2021-12-07T00:26:00.919971",
     "status": "completed"
    },
    "tags": []
   },
   "outputs": [],
   "source": [
    "#hide\n",
    "def get_mappings(url):\n",
    "    df = pd.read_csv(url)\n",
    "    return {\n",
    "        'df': df,\n",
    "        'replace.country': dict(df.dropna(subset=['Name']).set_index('Country')['Name']),\n",
    "        'map.continent': dict(df.set_index('Name')['Continent'])\n",
    "    }"
   ]
  },
  {
   "cell_type": "code",
   "execution_count": 5,
   "id": "intimate-machinery",
   "metadata": {
    "execution": {
     "iopub.execute_input": "2021-12-07T00:26:01.022702Z",
     "iopub.status.busy": "2021-12-07T00:26:01.022190Z",
     "iopub.status.idle": "2021-12-07T00:26:01.050646Z",
     "shell.execute_reply": "2021-12-07T00:26:01.050181Z"
    },
    "papermill": {
     "duration": 0.062892,
     "end_time": "2021-12-07T00:26:01.050766",
     "exception": false,
     "start_time": "2021-12-07T00:26:00.987874",
     "status": "completed"
    },
    "tags": []
   },
   "outputs": [],
   "source": [
    "#hide\n",
    "mapping = get_mappings(paths['mapping'])"
   ]
  },
  {
   "cell_type": "code",
   "execution_count": 6,
   "id": "certified-tactics",
   "metadata": {
    "execution": {
     "iopub.execute_input": "2021-12-07T00:26:01.116023Z",
     "iopub.status.busy": "2021-12-07T00:26:01.115495Z",
     "iopub.status.idle": "2021-12-07T00:26:01.117958Z",
     "shell.execute_reply": "2021-12-07T00:26:01.117547Z"
    },
    "papermill": {
     "duration": 0.036964,
     "end_time": "2021-12-07T00:26:01.118067",
     "exception": false,
     "start_time": "2021-12-07T00:26:01.081103",
     "status": "completed"
    },
    "tags": []
   },
   "outputs": [],
   "source": [
    "#hide\n",
    "def get_template(path):\n",
    "    from urllib.parse import urlparse\n",
    "    if bool(urlparse(path).netloc):\n",
    "        from urllib.request import urlopen\n",
    "        return urlopen(path).read().decode('utf8')\n",
    "    return open(path).read()"
   ]
  },
  {
   "cell_type": "code",
   "execution_count": 7,
   "id": "realistic-blast",
   "metadata": {
    "execution": {
     "iopub.execute_input": "2021-12-07T00:26:01.182760Z",
     "iopub.status.busy": "2021-12-07T00:26:01.182175Z",
     "iopub.status.idle": "2021-12-07T00:26:01.184412Z",
     "shell.execute_reply": "2021-12-07T00:26:01.183980Z"
    },
    "papermill": {
     "duration": 0.036089,
     "end_time": "2021-12-07T00:26:01.184516",
     "exception": false,
     "start_time": "2021-12-07T00:26:01.148427",
     "status": "completed"
    },
    "tags": []
   },
   "outputs": [],
   "source": [
    "#hide\n",
    "def get_frame(name):\n",
    "    url = (\n",
    "        'https://raw.githubusercontent.com/CSSEGISandData/COVID-19/master/csse_covid_19_data/'\n",
    "        f'csse_covid_19_time_series/time_series_covid19_{name}_global.csv')\n",
    "    df = pd.read_csv(url)\n",
    "    # rename countries\n",
    "    df['Country/Region'] = df['Country/Region'].replace(mapping['replace.country'])\n",
    "    return df"
   ]
  },
  {
   "cell_type": "code",
   "execution_count": 8,
   "id": "affiliated-characterization",
   "metadata": {
    "execution": {
     "iopub.execute_input": "2021-12-07T00:26:01.249624Z",
     "iopub.status.busy": "2021-12-07T00:26:01.249097Z",
     "iopub.status.idle": "2021-12-07T00:26:01.251231Z",
     "shell.execute_reply": "2021-12-07T00:26:01.250824Z"
    },
    "papermill": {
     "duration": 0.036987,
     "end_time": "2021-12-07T00:26:01.251338",
     "exception": false,
     "start_time": "2021-12-07T00:26:01.214351",
     "status": "completed"
    },
    "tags": []
   },
   "outputs": [],
   "source": [
    "#hide\n",
    "def get_dates(df):\n",
    "    dt_cols = df.columns[~df.columns.isin(['Province/State', 'Country/Region', 'Lat', 'Long'])]\n",
    "    LAST_DATE_I = -1\n",
    "    # sometimes last column may be empty, then go backwards\n",
    "    for i in range(-1, -len(dt_cols), -1):\n",
    "        if not df[dt_cols[i]].fillna(0).eq(0).all():\n",
    "            LAST_DATE_I = i\n",
    "            break\n",
    "    return LAST_DATE_I, dt_cols"
   ]
  },
  {
   "cell_type": "code",
   "execution_count": 9,
   "id": "recent-optimization",
   "metadata": {
    "execution": {
     "iopub.execute_input": "2021-12-07T00:26:01.316688Z",
     "iopub.status.busy": "2021-12-07T00:26:01.316150Z",
     "iopub.status.idle": "2021-12-07T00:26:01.619132Z",
     "shell.execute_reply": "2021-12-07T00:26:01.618599Z"
    },
    "papermill": {
     "duration": 0.337951,
     "end_time": "2021-12-07T00:26:01.619273",
     "exception": false,
     "start_time": "2021-12-07T00:26:01.281322",
     "status": "completed"
    },
    "tags": []
   },
   "outputs": [],
   "source": [
    "#hide\n",
    "COL_REGION = 'Country/Region'\n",
    "# Confirmed, Recovered, Deaths\n",
    "df = get_frame('confirmed')\n",
    "# dft_: timeseries, dfc_: today country agg\n",
    "dft_cases = df\n",
    "dft_deaths = get_frame('deaths')\n",
    "dft_recovered = get_frame('recovered')\n",
    "LAST_DATE_I, dt_cols = get_dates(df)"
   ]
  },
  {
   "cell_type": "code",
   "execution_count": 10,
   "id": "absolute-copper",
   "metadata": {
    "execution": {
     "iopub.execute_input": "2021-12-07T00:26:01.686507Z",
     "iopub.status.busy": "2021-12-07T00:26:01.685980Z",
     "iopub.status.idle": "2021-12-07T00:26:01.688434Z",
     "shell.execute_reply": "2021-12-07T00:26:01.688021Z"
    },
    "papermill": {
     "duration": 0.038236,
     "end_time": "2021-12-07T00:26:01.688549",
     "exception": false,
     "start_time": "2021-12-07T00:26:01.650313",
     "status": "completed"
    },
    "tags": []
   },
   "outputs": [],
   "source": [
    "#hide\n",
    "LAST_DATE_I, dt_cols = get_dates(df)\n",
    "dt_today =dt_cols[LAST_DATE_I]\n",
    "# dt_5day = dt_cols[LAST_DATE_I - 5]\n",
    "dt_yday = dt_cols[LAST_DATE_I - 1]"
   ]
  },
  {
   "cell_type": "code",
   "execution_count": 11,
   "id": "restricted-sheriff",
   "metadata": {
    "execution": {
     "iopub.execute_input": "2021-12-07T00:26:01.756491Z",
     "iopub.status.busy": "2021-12-07T00:26:01.755971Z",
     "iopub.status.idle": "2021-12-07T00:26:01.761564Z",
     "shell.execute_reply": "2021-12-07T00:26:01.761141Z"
    },
    "papermill": {
     "duration": 0.043242,
     "end_time": "2021-12-07T00:26:01.761686",
     "exception": false,
     "start_time": "2021-12-07T00:26:01.718444",
     "status": "completed"
    },
    "tags": []
   },
   "outputs": [],
   "source": [
    "#hide\n",
    "dfc_cases = dft_cases.groupby(COL_REGION)[dt_today].sum()\n",
    "dfc_deaths = dft_deaths.groupby(COL_REGION)[dt_today].sum()\n",
    "# dfp_cases = dft_cases.groupby(COL_REGION)[dt_5day].sum()\n",
    "# dfp_deaths = dft_deaths.groupby(COL_REGION)[dt_5day].sum()\n",
    "dfp_cases = dft_cases.groupby(COL_REGION)[dt_yday].sum()\n",
    "dfp_deaths = dft_deaths.groupby(COL_REGION)[dt_yday].sum()"
   ]
  },
  {
   "cell_type": "code",
   "execution_count": 12,
   "id": "deluxe-hepatitis",
   "metadata": {
    "execution": {
     "iopub.execute_input": "2021-12-07T00:26:01.827469Z",
     "iopub.status.busy": "2021-12-07T00:26:01.826958Z",
     "iopub.status.idle": "2021-12-07T00:26:01.831035Z",
     "shell.execute_reply": "2021-12-07T00:26:01.830601Z"
    },
    "papermill": {
     "duration": 0.039403,
     "end_time": "2021-12-07T00:26:01.831145",
     "exception": false,
     "start_time": "2021-12-07T00:26:01.791742",
     "status": "completed"
    },
    "tags": []
   },
   "outputs": [],
   "source": [
    "#hide\n",
    "df_table = (pd.DataFrame(dict(Cases = dfc_cases, Deaths = dfc_deaths, PCases = dfp_cases, PDeaths = dfp_deaths))\n",
    "            .sort_values(by = ['Cases','Deaths'], ascending = [False, False])\n",
    "            .reset_index())"
   ]
  },
  {
   "cell_type": "code",
   "execution_count": 13,
   "id": "educational-chancellor",
   "metadata": {
    "execution": {
     "iopub.execute_input": "2021-12-07T00:26:01.903489Z",
     "iopub.status.busy": "2021-12-07T00:26:01.902958Z",
     "iopub.status.idle": "2021-12-07T00:26:01.918134Z",
     "shell.execute_reply": "2021-12-07T00:26:01.918518Z"
    },
    "papermill": {
     "duration": 0.057792,
     "end_time": "2021-12-07T00:26:01.918646",
     "exception": false,
     "start_time": "2021-12-07T00:26:01.860854",
     "status": "completed"
    },
    "tags": []
   },
   "outputs": [
    {
     "data": {
      "text/html": [
       "<div>\n",
       "<style scoped>\n",
       "    .dataframe tbody tr th:only-of-type {\n",
       "        vertical-align: middle;\n",
       "    }\n",
       "\n",
       "    .dataframe tbody tr th {\n",
       "        vertical-align: top;\n",
       "    }\n",
       "\n",
       "    .dataframe thead th {\n",
       "        text-align: right;\n",
       "    }\n",
       "</style>\n",
       "<table border=\"1\" class=\"dataframe\">\n",
       "  <thead>\n",
       "    <tr style=\"text-align: right;\">\n",
       "      <th></th>\n",
       "      <th>Country/Region</th>\n",
       "      <th>Cases</th>\n",
       "      <th>Deaths</th>\n",
       "      <th>PCases</th>\n",
       "      <th>PDeaths</th>\n",
       "      <th>Cases (+)</th>\n",
       "      <th>Deaths (+)</th>\n",
       "      <th>Fatality Rate</th>\n",
       "      <th>Continent</th>\n",
       "    </tr>\n",
       "  </thead>\n",
       "  <tbody>\n",
       "    <tr>\n",
       "      <th>0</th>\n",
       "      <td>US</td>\n",
       "      <td>49085361</td>\n",
       "      <td>788363</td>\n",
       "      <td>49051146</td>\n",
       "      <td>788202</td>\n",
       "      <td>34215</td>\n",
       "      <td>161</td>\n",
       "      <td>1.61</td>\n",
       "      <td>North America</td>\n",
       "    </tr>\n",
       "    <tr>\n",
       "      <th>1</th>\n",
       "      <td>India</td>\n",
       "      <td>34641561</td>\n",
       "      <td>473537</td>\n",
       "      <td>34624360</td>\n",
       "      <td>470530</td>\n",
       "      <td>17201</td>\n",
       "      <td>3007</td>\n",
       "      <td>1.37</td>\n",
       "      <td>Asia</td>\n",
       "    </tr>\n",
       "    <tr>\n",
       "      <th>2</th>\n",
       "      <td>Brazil</td>\n",
       "      <td>22143091</td>\n",
       "      <td>615636</td>\n",
       "      <td>22138247</td>\n",
       "      <td>615570</td>\n",
       "      <td>4844</td>\n",
       "      <td>66</td>\n",
       "      <td>2.78</td>\n",
       "      <td>South America</td>\n",
       "    </tr>\n",
       "    <tr>\n",
       "      <th>3</th>\n",
       "      <td>United Kingdom</td>\n",
       "      <td>10523316</td>\n",
       "      <td>146055</td>\n",
       "      <td>10479955</td>\n",
       "      <td>146001</td>\n",
       "      <td>43361</td>\n",
       "      <td>54</td>\n",
       "      <td>1.39</td>\n",
       "      <td>Europe</td>\n",
       "    </tr>\n",
       "    <tr>\n",
       "      <th>4</th>\n",
       "      <td>Russia</td>\n",
       "      <td>9630296</td>\n",
       "      <td>275824</td>\n",
       "      <td>9598283</td>\n",
       "      <td>274648</td>\n",
       "      <td>32013</td>\n",
       "      <td>1176</td>\n",
       "      <td>2.86</td>\n",
       "      <td>Europe</td>\n",
       "    </tr>\n",
       "  </tbody>\n",
       "</table>\n",
       "</div>"
      ],
      "text/plain": [
       "   Country/Region     Cases  Deaths    PCases  PDeaths  Cases (+)  Deaths (+)  \\\n",
       "0              US  49085361  788363  49051146   788202      34215         161   \n",
       "1           India  34641561  473537  34624360   470530      17201        3007   \n",
       "2          Brazil  22143091  615636  22138247   615570       4844          66   \n",
       "3  United Kingdom  10523316  146055  10479955   146001      43361          54   \n",
       "4          Russia   9630296  275824   9598283   274648      32013        1176   \n",
       "\n",
       "   Fatality Rate      Continent  \n",
       "0           1.61  North America  \n",
       "1           1.37           Asia  \n",
       "2           2.78  South America  \n",
       "3           1.39         Europe  \n",
       "4           2.86         Europe  "
      ]
     },
     "execution_count": 13,
     "metadata": {},
     "output_type": "execute_result"
    }
   ],
   "source": [
    "#hide\n",
    "for c in 'Cases, Deaths'.split(', '):\n",
    "    df_table[f'{c} (+)'] = (df_table[c] - df_table[f'P{c}']).clip(0)\n",
    "    #Clip ça veut dire, les chiffres negatif sont interdit\n",
    "df_table['Fatality Rate'] = (100* df_table['Deaths']/ df_table['Cases']).round(2)\n",
    "df_table['Continent'] = df_table['Country/Region'].map(mapping['map.continent'])\n",
    "df_table.head(5)"
   ]
  },
  {
   "cell_type": "code",
   "execution_count": 14,
   "id": "aboriginal-bulgaria",
   "metadata": {
    "execution": {
     "iopub.execute_input": "2021-12-07T00:26:01.984174Z",
     "iopub.status.busy": "2021-12-07T00:26:01.983671Z",
     "iopub.status.idle": "2021-12-07T00:26:01.986066Z",
     "shell.execute_reply": "2021-12-07T00:26:01.985660Z"
    },
    "papermill": {
     "duration": 0.037112,
     "end_time": "2021-12-07T00:26:01.986171",
     "exception": false,
     "start_time": "2021-12-07T00:26:01.949059",
     "status": "completed"
    },
    "tags": []
   },
   "outputs": [],
   "source": [
    "#hide\n",
    "#delete problematic countries from table\n",
    "df_table = df_table[~df_table['Country/Region'].isin(['Cape Verde', 'Cruise Ship', 'Kosovo'])]"
   ]
  },
  {
   "cell_type": "code",
   "execution_count": 15,
   "id": "fantastic-effect",
   "metadata": {
    "execution": {
     "iopub.execute_input": "2021-12-07T00:26:02.054672Z",
     "iopub.status.busy": "2021-12-07T00:26:02.054165Z",
     "iopub.status.idle": "2021-12-07T00:26:02.071044Z",
     "shell.execute_reply": "2021-12-07T00:26:02.071479Z"
    },
    "papermill": {
     "duration": 0.055006,
     "end_time": "2021-12-07T00:26:02.071606",
     "exception": false,
     "start_time": "2021-12-07T00:26:02.016600",
     "status": "completed"
    },
    "tags": []
   },
   "outputs": [
    {
     "data": {
      "text/html": [
       "<div>\n",
       "<style scoped>\n",
       "    .dataframe tbody tr th:only-of-type {\n",
       "        vertical-align: middle;\n",
       "    }\n",
       "\n",
       "    .dataframe tbody tr th {\n",
       "        vertical-align: top;\n",
       "    }\n",
       "\n",
       "    .dataframe thead th {\n",
       "        text-align: right;\n",
       "    }\n",
       "</style>\n",
       "<table border=\"1\" class=\"dataframe\">\n",
       "  <thead>\n",
       "    <tr style=\"text-align: right;\">\n",
       "      <th></th>\n",
       "      <th>Country/Region</th>\n",
       "      <th>Cases</th>\n",
       "      <th>Deaths</th>\n",
       "      <th>PCases</th>\n",
       "      <th>PDeaths</th>\n",
       "      <th>Cases (+)</th>\n",
       "      <th>Deaths (+)</th>\n",
       "      <th>Fatality Rate</th>\n",
       "      <th>Continent</th>\n",
       "    </tr>\n",
       "  </thead>\n",
       "  <tbody>\n",
       "    <tr>\n",
       "      <th>0</th>\n",
       "      <td>US</td>\n",
       "      <td>49085361</td>\n",
       "      <td>788363</td>\n",
       "      <td>49051146</td>\n",
       "      <td>788202</td>\n",
       "      <td>34215</td>\n",
       "      <td>161</td>\n",
       "      <td>1.6</td>\n",
       "      <td>North America</td>\n",
       "    </tr>\n",
       "    <tr>\n",
       "      <th>1</th>\n",
       "      <td>India</td>\n",
       "      <td>34641561</td>\n",
       "      <td>473537</td>\n",
       "      <td>34624360</td>\n",
       "      <td>470530</td>\n",
       "      <td>17201</td>\n",
       "      <td>3007</td>\n",
       "      <td>1.4</td>\n",
       "      <td>Asia</td>\n",
       "    </tr>\n",
       "    <tr>\n",
       "      <th>2</th>\n",
       "      <td>Brazil</td>\n",
       "      <td>22143091</td>\n",
       "      <td>615636</td>\n",
       "      <td>22138247</td>\n",
       "      <td>615570</td>\n",
       "      <td>4844</td>\n",
       "      <td>66</td>\n",
       "      <td>2.8</td>\n",
       "      <td>South America</td>\n",
       "    </tr>\n",
       "    <tr>\n",
       "      <th>3</th>\n",
       "      <td>United Kingdom</td>\n",
       "      <td>10523316</td>\n",
       "      <td>146055</td>\n",
       "      <td>10479955</td>\n",
       "      <td>146001</td>\n",
       "      <td>43361</td>\n",
       "      <td>54</td>\n",
       "      <td>1.4</td>\n",
       "      <td>Europe</td>\n",
       "    </tr>\n",
       "    <tr>\n",
       "      <th>4</th>\n",
       "      <td>Russia</td>\n",
       "      <td>9630296</td>\n",
       "      <td>275824</td>\n",
       "      <td>9598283</td>\n",
       "      <td>274648</td>\n",
       "      <td>32013</td>\n",
       "      <td>1176</td>\n",
       "      <td>2.9</td>\n",
       "      <td>Europe</td>\n",
       "    </tr>\n",
       "  </tbody>\n",
       "</table>\n",
       "</div>"
      ],
      "text/plain": [
       "   Country/Region     Cases  Deaths    PCases  PDeaths  Cases (+)  Deaths (+)  \\\n",
       "0              US  49085361  788363  49051146   788202      34215         161   \n",
       "1           India  34641561  473537  34624360   470530      17201        3007   \n",
       "2          Brazil  22143091  615636  22138247   615570       4844          66   \n",
       "3  United Kingdom  10523316  146055  10479955   146001      43361          54   \n",
       "4          Russia   9630296  275824   9598283   274648      32013        1176   \n",
       "\n",
       "   Fatality Rate      Continent  \n",
       "0            1.6  North America  \n",
       "1            1.4           Asia  \n",
       "2            2.8  South America  \n",
       "3            1.4         Europe  \n",
       "4            2.9         Europe  "
      ]
     },
     "execution_count": 15,
     "metadata": {},
     "output_type": "execute_result"
    }
   ],
   "source": [
    "#hide\n",
    "df_table = (pd.DataFrame(dict(Cases=dfc_cases, Deaths=dfc_deaths, PCases=dfp_cases, PDeaths=dfp_deaths))\n",
    "             .sort_values(by=['Cases', 'Deaths'], ascending=[False, False])\n",
    "             .reset_index())\n",
    "df_table.rename(columns={'index': 'Country/Region'}, inplace=True)\n",
    "for c in 'Cases, Deaths'.split(', '):\n",
    "    df_table[f'{c} (+)'] = (df_table[c] - df_table[f'P{c}']).clip(0)  # DATA BUG\n",
    "df_table['Fatality Rate'] = (100 * df_table['Deaths'] / df_table['Cases']).round(1)\n",
    "df_table['Continent'] = df_table['Country/Region'].map(mapping['map.continent'])\n",
    "df_table.head(5)"
   ]
  },
  {
   "cell_type": "code",
   "execution_count": 16,
   "id": "fewer-occasion",
   "metadata": {
    "execution": {
     "iopub.execute_input": "2021-12-07T00:26:02.137787Z",
     "iopub.status.busy": "2021-12-07T00:26:02.137273Z",
     "iopub.status.idle": "2021-12-07T00:26:02.139283Z",
     "shell.execute_reply": "2021-12-07T00:26:02.139666Z"
    },
    "papermill": {
     "duration": 0.037413,
     "end_time": "2021-12-07T00:26:02.139788",
     "exception": false,
     "start_time": "2021-12-07T00:26:02.102375",
     "status": "completed"
    },
    "tags": []
   },
   "outputs": [],
   "source": [
    "#hide\n",
    "#delete problematic countries from table\n",
    "df_table = df_table[~df_table['Country/Region'].isin(['Cape Verde', 'Cruise Ship', 'Kosovo'])]"
   ]
  },
  {
   "cell_type": "code",
   "execution_count": 17,
   "id": "related-center",
   "metadata": {
    "execution": {
     "iopub.execute_input": "2021-12-07T00:26:02.211515Z",
     "iopub.status.busy": "2021-12-07T00:26:02.210996Z",
     "iopub.status.idle": "2021-12-07T00:26:02.220280Z",
     "shell.execute_reply": "2021-12-07T00:26:02.220690Z"
    },
    "papermill": {
     "duration": 0.050596,
     "end_time": "2021-12-07T00:26:02.220840",
     "exception": false,
     "start_time": "2021-12-07T00:26:02.170244",
     "status": "completed"
    },
    "tags": []
   },
   "outputs": [],
   "source": [
    "#hide\n",
    "metrics = [df_table.columns[index] for index in [1,2,5,6]]\n",
    "# s_china = df_table[df_table['Country/Region'].eq('China')][metrics].sum().add_prefix('China ')\n",
    "s_us = df_table[df_table['Country/Region'].eq('US')][metrics].sum().add_prefix('US ')\n",
    "s_eu = df_table[df_table['Continent'].eq('Europe')][metrics].sum().add_prefix('EU ')\n",
    "s_ind = df_table[df_table['Country/Region'].eq('India')][metrics].sum().add_prefix('India ')\n",
    "summary = {'updated': pd.to_datetime(dt_today), 'since': pd.to_datetime(dt_yday)}\n",
    "summary = {'updated': pd.to_datetime(dt_today), 'since': pd.to_datetime(dt_yday)}\n",
    "summary = {**summary, **df_table[metrics].sum(), **s_ind, **s_us, **s_eu}"
   ]
  },
  {
   "cell_type": "code",
   "execution_count": 18,
   "id": "engaging-syndrome",
   "metadata": {
    "execution": {
     "iopub.execute_input": "2021-12-07T00:26:02.287499Z",
     "iopub.status.busy": "2021-12-07T00:26:02.286984Z",
     "iopub.status.idle": "2021-12-07T00:26:02.301474Z",
     "shell.execute_reply": "2021-12-07T00:26:02.301046Z"
    },
    "papermill": {
     "duration": 0.049891,
     "end_time": "2021-12-07T00:26:02.301595",
     "exception": false,
     "start_time": "2021-12-07T00:26:02.251704",
     "status": "completed"
    },
    "tags": []
   },
   "outputs": [],
   "source": [
    "#hide\n",
    "dft_ct_new_cases = dft_cases.groupby(COL_REGION)[dt_cols].sum().diff(axis=1).fillna(0).astype(int)"
   ]
  },
  {
   "cell_type": "code",
   "execution_count": 19,
   "id": "neutral-assignment",
   "metadata": {
    "execution": {
     "iopub.execute_input": "2021-12-07T00:26:02.369670Z",
     "iopub.status.busy": "2021-12-07T00:26:02.369033Z",
     "iopub.status.idle": "2021-12-07T00:26:02.370546Z",
     "shell.execute_reply": "2021-12-07T00:26:02.370925Z"
    },
    "papermill": {
     "duration": 0.038657,
     "end_time": "2021-12-07T00:26:02.371058",
     "exception": false,
     "start_time": "2021-12-07T00:26:02.332401",
     "status": "completed"
    },
    "tags": []
   },
   "outputs": [],
   "source": [
    "#hide\n",
    "everydaycases = dft_ct_new_cases.cumsum(axis=1)"
   ]
  },
  {
   "cell_type": "code",
   "execution_count": 20,
   "id": "parliamentary-calgary",
   "metadata": {
    "execution": {
     "iopub.execute_input": "2021-12-07T00:26:02.437195Z",
     "iopub.status.busy": "2021-12-07T00:26:02.436641Z",
     "iopub.status.idle": "2021-12-07T00:26:03.157920Z",
     "shell.execute_reply": "2021-12-07T00:26:03.156882Z"
    },
    "papermill": {
     "duration": 0.756091,
     "end_time": "2021-12-07T00:26:03.158050",
     "exception": false,
     "start_time": "2021-12-07T00:26:02.401959",
     "status": "completed"
    },
    "tags": []
   },
   "outputs": [],
   "source": [
    "#hide\n",
    "import pandas as pd\n",
    "import matplotlib.pyplot as plt\n",
    "import matplotlib.ticker as ticker\n",
    "import matplotlib.animation as animation\n",
    "from IPython.display import HTML"
   ]
  },
  {
   "cell_type": "code",
   "execution_count": 21,
   "id": "lasting-extraction",
   "metadata": {
    "execution": {
     "iopub.execute_input": "2021-12-07T00:26:03.225135Z",
     "iopub.status.busy": "2021-12-07T00:26:03.224543Z",
     "iopub.status.idle": "2021-12-07T00:26:03.230448Z",
     "shell.execute_reply": "2021-12-07T00:26:03.229918Z"
    },
    "papermill": {
     "duration": 0.041772,
     "end_time": "2021-12-07T00:26:03.230574",
     "exception": false,
     "start_time": "2021-12-07T00:26:03.188802",
     "status": "completed"
    },
    "tags": []
   },
   "outputs": [],
   "source": [
    "#hide\n",
    "t = everydaycases.stack()"
   ]
  },
  {
   "cell_type": "code",
   "execution_count": 22,
   "id": "premier-sleeve",
   "metadata": {
    "execution": {
     "iopub.execute_input": "2021-12-07T00:26:03.297066Z",
     "iopub.status.busy": "2021-12-07T00:26:03.296508Z",
     "iopub.status.idle": "2021-12-07T00:26:03.305680Z",
     "shell.execute_reply": "2021-12-07T00:26:03.305241Z"
    },
    "papermill": {
     "duration": 0.043811,
     "end_time": "2021-12-07T00:26:03.305792",
     "exception": false,
     "start_time": "2021-12-07T00:26:03.261981",
     "status": "completed"
    },
    "tags": []
   },
   "outputs": [],
   "source": [
    "#hide\n",
    "g = t.reset_index(['Country/Region'])"
   ]
  },
  {
   "cell_type": "code",
   "execution_count": 23,
   "id": "distributed-pittsburgh",
   "metadata": {
    "execution": {
     "iopub.execute_input": "2021-12-07T00:26:03.371387Z",
     "iopub.status.busy": "2021-12-07T00:26:03.370845Z",
     "iopub.status.idle": "2021-12-07T00:26:03.374047Z",
     "shell.execute_reply": "2021-12-07T00:26:03.374434Z"
    },
    "papermill": {
     "duration": 0.038064,
     "end_time": "2021-12-07T00:26:03.374568",
     "exception": false,
     "start_time": "2021-12-07T00:26:03.336504",
     "status": "completed"
    },
    "tags": []
   },
   "outputs": [],
   "source": [
    "#hide\n",
    "g.index.name = 'date'"
   ]
  },
  {
   "cell_type": "code",
   "execution_count": 24,
   "id": "naked-donor",
   "metadata": {
    "execution": {
     "iopub.execute_input": "2021-12-07T00:26:03.443181Z",
     "iopub.status.busy": "2021-12-07T00:26:03.442615Z",
     "iopub.status.idle": "2021-12-07T00:26:03.444304Z",
     "shell.execute_reply": "2021-12-07T00:26:03.444715Z"
    },
    "papermill": {
     "duration": 0.037123,
     "end_time": "2021-12-07T00:26:03.444867",
     "exception": false,
     "start_time": "2021-12-07T00:26:03.407744",
     "status": "completed"
    },
    "tags": []
   },
   "outputs": [],
   "source": [
    "# #hide\n",
    "# g = g.reset_index(['date'])"
   ]
  },
  {
   "cell_type": "code",
   "execution_count": 25,
   "id": "incomplete-mustang",
   "metadata": {
    "execution": {
     "iopub.execute_input": "2021-12-07T00:26:03.510698Z",
     "iopub.status.busy": "2021-12-07T00:26:03.510151Z",
     "iopub.status.idle": "2021-12-07T00:26:03.516222Z",
     "shell.execute_reply": "2021-12-07T00:26:03.515805Z"
    },
    "papermill": {
     "duration": 0.040366,
     "end_time": "2021-12-07T00:26:03.516339",
     "exception": false,
     "start_time": "2021-12-07T00:26:03.475973",
     "status": "completed"
    },
    "tags": []
   },
   "outputs": [],
   "source": [
    "#hide\n",
    "# g.head()"
   ]
  },
  {
   "cell_type": "code",
   "execution_count": 26,
   "id": "specific-kruger",
   "metadata": {
    "execution": {
     "iopub.execute_input": "2021-12-07T00:26:03.583656Z",
     "iopub.status.busy": "2021-12-07T00:26:03.583033Z",
     "iopub.status.idle": "2021-12-07T00:26:03.586462Z",
     "shell.execute_reply": "2021-12-07T00:26:03.585962Z"
    },
    "papermill": {
     "duration": 0.038222,
     "end_time": "2021-12-07T00:26:03.586587",
     "exception": false,
     "start_time": "2021-12-07T00:26:03.548365",
     "status": "completed"
    },
    "tags": []
   },
   "outputs": [],
   "source": [
    "#hide\n",
    "# g.columns = ['date','country','cases']"
   ]
  },
  {
   "cell_type": "code",
   "execution_count": 27,
   "id": "tender-conversion",
   "metadata": {
    "execution": {
     "iopub.execute_input": "2021-12-07T00:26:03.652407Z",
     "iopub.status.busy": "2021-12-07T00:26:03.651835Z",
     "iopub.status.idle": "2021-12-07T00:26:03.653543Z",
     "shell.execute_reply": "2021-12-07T00:26:03.653935Z"
    },
    "papermill": {
     "duration": 0.036274,
     "end_time": "2021-12-07T00:26:03.654070",
     "exception": false,
     "start_time": "2021-12-07T00:26:03.617796",
     "status": "completed"
    },
    "tags": []
   },
   "outputs": [],
   "source": [
    "#hide\n",
    "# g['continent'] = g.country"
   ]
  },
  {
   "cell_type": "code",
   "execution_count": 28,
   "id": "substantial-wilderness",
   "metadata": {
    "execution": {
     "iopub.execute_input": "2021-12-07T00:26:03.721200Z",
     "iopub.status.busy": "2021-12-07T00:26:03.720638Z",
     "iopub.status.idle": "2021-12-07T00:26:03.723591Z",
     "shell.execute_reply": "2021-12-07T00:26:03.723179Z"
    },
    "papermill": {
     "duration": 0.036535,
     "end_time": "2021-12-07T00:26:03.723702",
     "exception": false,
     "start_time": "2021-12-07T00:26:03.687167",
     "status": "completed"
    },
    "tags": []
   },
   "outputs": [],
   "source": [
    "#hide\n",
    "# cols = list(g.columns.values)"
   ]
  },
  {
   "cell_type": "code",
   "execution_count": 29,
   "id": "solved-farming",
   "metadata": {
    "execution": {
     "iopub.execute_input": "2021-12-07T00:26:03.788267Z",
     "iopub.status.busy": "2021-12-07T00:26:03.787646Z",
     "iopub.status.idle": "2021-12-07T00:26:03.788837Z",
     "shell.execute_reply": "2021-12-07T00:26:03.789401Z"
    },
    "papermill": {
     "duration": 0.03541,
     "end_time": "2021-12-07T00:26:03.789538",
     "exception": false,
     "start_time": "2021-12-07T00:26:03.754128",
     "status": "completed"
    },
    "tags": []
   },
   "outputs": [],
   "source": [
    "#hide\n",
    "# cols.insert(0, cols.pop())"
   ]
  },
  {
   "cell_type": "code",
   "execution_count": 30,
   "id": "executed-adoption",
   "metadata": {
    "execution": {
     "iopub.execute_input": "2021-12-07T00:26:03.857916Z",
     "iopub.status.busy": "2021-12-07T00:26:03.857400Z",
     "iopub.status.idle": "2021-12-07T00:26:03.859497Z",
     "shell.execute_reply": "2021-12-07T00:26:03.859069Z"
    },
    "papermill": {
     "duration": 0.037514,
     "end_time": "2021-12-07T00:26:03.859600",
     "exception": false,
     "start_time": "2021-12-07T00:26:03.822086",
     "status": "completed"
    },
    "tags": []
   },
   "outputs": [],
   "source": [
    "#hide\n",
    "# g = g[cols]"
   ]
  },
  {
   "cell_type": "code",
   "execution_count": 31,
   "id": "subject-dublin",
   "metadata": {
    "execution": {
     "iopub.execute_input": "2021-12-07T00:26:03.926608Z",
     "iopub.status.busy": "2021-12-07T00:26:03.926057Z",
     "iopub.status.idle": "2021-12-07T00:26:03.929687Z",
     "shell.execute_reply": "2021-12-07T00:26:03.929282Z"
    },
    "papermill": {
     "duration": 0.039046,
     "end_time": "2021-12-07T00:26:03.929794",
     "exception": false,
     "start_time": "2021-12-07T00:26:03.890748",
     "status": "completed"
    },
    "tags": []
   },
   "outputs": [],
   "source": [
    "#hide\n",
    "# g['continent'] = g['continent'].map(mapping['map.continent'])"
   ]
  },
  {
   "cell_type": "code",
   "execution_count": 32,
   "id": "freelance-scout",
   "metadata": {
    "execution": {
     "iopub.execute_input": "2021-12-07T00:26:03.995144Z",
     "iopub.status.busy": "2021-12-07T00:26:03.994398Z",
     "iopub.status.idle": "2021-12-07T00:26:03.996465Z",
     "shell.execute_reply": "2021-12-07T00:26:03.995831Z"
    },
    "papermill": {
     "duration": 0.035531,
     "end_time": "2021-12-07T00:26:03.996588",
     "exception": false,
     "start_time": "2021-12-07T00:26:03.961057",
     "status": "completed"
    },
    "tags": []
   },
   "outputs": [],
   "source": [
    "#hide\n",
    "# g.head()"
   ]
  },
  {
   "cell_type": "code",
   "execution_count": 33,
   "id": "limited-engine",
   "metadata": {
    "execution": {
     "iopub.execute_input": "2021-12-07T00:26:04.064570Z",
     "iopub.status.busy": "2021-12-07T00:26:04.063989Z",
     "iopub.status.idle": "2021-12-07T00:26:04.066182Z",
     "shell.execute_reply": "2021-12-07T00:26:04.065720Z"
    },
    "papermill": {
     "duration": 0.037488,
     "end_time": "2021-12-07T00:26:04.066301",
     "exception": false,
     "start_time": "2021-12-07T00:26:04.028813",
     "status": "completed"
    },
    "tags": []
   },
   "outputs": [],
   "source": [
    "# hide\n",
    "# g['date'] = g['date'].astype('datetime64[ns]')"
   ]
  },
  {
   "cell_type": "code",
   "execution_count": 34,
   "id": "sophisticated-supervisor",
   "metadata": {
    "execution": {
     "iopub.execute_input": "2021-12-07T00:26:04.131008Z",
     "iopub.status.busy": "2021-12-07T00:26:04.130480Z",
     "iopub.status.idle": "2021-12-07T00:26:04.134722Z",
     "shell.execute_reply": "2021-12-07T00:26:04.134315Z"
    },
    "papermill": {
     "duration": 0.037599,
     "end_time": "2021-12-07T00:26:04.134829",
     "exception": false,
     "start_time": "2021-12-07T00:26:04.097230",
     "status": "completed"
    },
    "tags": []
   },
   "outputs": [],
   "source": [
    "#hide\n",
    "# g['date'] = g.date.dt.dayofyear"
   ]
  },
  {
   "cell_type": "code",
   "execution_count": 35,
   "id": "inside-dubai",
   "metadata": {
    "execution": {
     "iopub.execute_input": "2021-12-07T00:26:04.199044Z",
     "iopub.status.busy": "2021-12-07T00:26:04.198530Z",
     "iopub.status.idle": "2021-12-07T00:26:04.200506Z",
     "shell.execute_reply": "2021-12-07T00:26:04.200916Z"
    },
    "papermill": {
     "duration": 0.035846,
     "end_time": "2021-12-07T00:26:04.201042",
     "exception": false,
     "start_time": "2021-12-07T00:26:04.165196",
     "status": "completed"
    },
    "tags": []
   },
   "outputs": [],
   "source": [
    "#hide\n",
    "# g = g.rename(columns= {'continent':'group','country':'name','cases':'value'})"
   ]
  },
  {
   "cell_type": "code",
   "execution_count": 36,
   "id": "fleet-motorcycle",
   "metadata": {
    "execution": {
     "iopub.execute_input": "2021-12-07T00:26:04.266844Z",
     "iopub.status.busy": "2021-12-07T00:26:04.266247Z",
     "iopub.status.idle": "2021-12-07T00:26:04.267754Z",
     "shell.execute_reply": "2021-12-07T00:26:04.268216Z"
    },
    "papermill": {
     "duration": 0.03673,
     "end_time": "2021-12-07T00:26:04.268355",
     "exception": false,
     "start_time": "2021-12-07T00:26:04.231625",
     "status": "completed"
    },
    "tags": []
   },
   "outputs": [],
   "source": [
    "#hide\n",
    "# cols = ['name','group','day','value']"
   ]
  },
  {
   "cell_type": "code",
   "execution_count": 37,
   "id": "continued-sleeping",
   "metadata": {
    "execution": {
     "iopub.execute_input": "2021-12-07T00:26:04.334169Z",
     "iopub.status.busy": "2021-12-07T00:26:04.333647Z",
     "iopub.status.idle": "2021-12-07T00:26:04.336016Z",
     "shell.execute_reply": "2021-12-07T00:26:04.335609Z"
    },
    "papermill": {
     "duration": 0.0364,
     "end_time": "2021-12-07T00:26:04.336126",
     "exception": false,
     "start_time": "2021-12-07T00:26:04.299726",
     "status": "completed"
    },
    "tags": []
   },
   "outputs": [],
   "source": [
    "#hide\n",
    "# g.rename(columns= {'date':'day'},inplace = True)"
   ]
  },
  {
   "cell_type": "code",
   "execution_count": 38,
   "id": "major-fight",
   "metadata": {
    "execution": {
     "iopub.execute_input": "2021-12-07T00:26:04.401440Z",
     "iopub.status.busy": "2021-12-07T00:26:04.400816Z",
     "iopub.status.idle": "2021-12-07T00:26:04.402252Z",
     "shell.execute_reply": "2021-12-07T00:26:04.402744Z"
    },
    "papermill": {
     "duration": 0.036013,
     "end_time": "2021-12-07T00:26:04.402885",
     "exception": false,
     "start_time": "2021-12-07T00:26:04.366872",
     "status": "completed"
    },
    "tags": []
   },
   "outputs": [],
   "source": [
    "#hide\n",
    "# g = g[cols]"
   ]
  },
  {
   "cell_type": "code",
   "execution_count": 39,
   "id": "structured-mobile",
   "metadata": {
    "execution": {
     "iopub.execute_input": "2021-12-07T00:26:04.468417Z",
     "iopub.status.busy": "2021-12-07T00:26:04.467865Z",
     "iopub.status.idle": "2021-12-07T00:26:04.469931Z",
     "shell.execute_reply": "2021-12-07T00:26:04.469523Z"
    },
    "papermill": {
     "duration": 0.035999,
     "end_time": "2021-12-07T00:26:04.470043",
     "exception": false,
     "start_time": "2021-12-07T00:26:04.434044",
     "status": "completed"
    },
    "tags": []
   },
   "outputs": [],
   "source": [
    "# #hide\n",
    "# g = g[g.group.notna()]"
   ]
  },
  {
   "cell_type": "code",
   "execution_count": 40,
   "id": "determined-closing",
   "metadata": {
    "execution": {
     "iopub.execute_input": "2021-12-07T00:26:04.535392Z",
     "iopub.status.busy": "2021-12-07T00:26:04.534769Z",
     "iopub.status.idle": "2021-12-07T00:26:04.536262Z",
     "shell.execute_reply": "2021-12-07T00:26:04.536727Z"
    },
    "papermill": {
     "duration": 0.036056,
     "end_time": "2021-12-07T00:26:04.536892",
     "exception": false,
     "start_time": "2021-12-07T00:26:04.500836",
     "status": "completed"
    },
    "tags": []
   },
   "outputs": [],
   "source": [
    "# #hide\n",
    "# colors = dict(zip(\n",
    "#     [\"Oceania\", \"Europe\", \"Asia\", \"South America\", \"Middle East\", \"North America\", \"Africa\"],\n",
    "#     [\"#adb0ff\", \"#ffb3ff\", \"#90d595\", \"#e48381\", \"#aafbff\", \"#f7bb5f\", \"#eafb50\"]\n",
    "# ))\n",
    "# group_lk = g.set_index('name')['group'].to_dict()"
   ]
  },
  {
   "cell_type": "code",
   "execution_count": null,
   "id": "gross-drinking",
   "metadata": {
    "papermill": {
     "duration": 0.030584,
     "end_time": "2021-12-07T00:26:04.598225",
     "exception": false,
     "start_time": "2021-12-07T00:26:04.567641",
     "status": "completed"
    },
    "tags": []
   },
   "outputs": [],
   "source": []
  },
  {
   "cell_type": "code",
   "execution_count": 41,
   "id": "subject-macintosh",
   "metadata": {
    "execution": {
     "iopub.execute_input": "2021-12-07T00:26:04.664444Z",
     "iopub.status.busy": "2021-12-07T00:26:04.663798Z",
     "iopub.status.idle": "2021-12-07T00:26:04.665289Z",
     "shell.execute_reply": "2021-12-07T00:26:04.665781Z"
    },
    "papermill": {
     "duration": 0.036973,
     "end_time": "2021-12-07T00:26:04.665924",
     "exception": false,
     "start_time": "2021-12-07T00:26:04.628951",
     "status": "completed"
    },
    "tags": []
   },
   "outputs": [],
   "source": [
    "# #hide\n",
    "# fig, ax = plt.subplots(figsize=(15, 8))\n",
    "\n",
    "# def draw_barchart(current_day):\n",
    "#     dff = g[g['day'].eq(current_day)].sort_values(by='value', ascending=True).tail(10)\n",
    "#     ax.clear()\n",
    "#     ax.barh(dff['name'], dff['value'], color=[colors[group_lk[x]] for x in dff['name']])\n",
    "#     dx = dff['value'].max() / 200\n",
    "    \n",
    "#     for i, (value, name) in enumerate(zip(dff['value'], dff['name'])):\n",
    "#         ax.text(value-dx, i,     name,           size=14, weight=600, ha='right', va='bottom')\n",
    "#         ax.text(value-dx, i-.25, group_lk[name], size=10, color='#444444', ha='right', va='baseline')\n",
    "#         ax.text(value+dx, i,     f'{value:,.0f}',  size=14, ha='left',  va='center')\n",
    "#     ax.text(1, 0.4, current_day, transform=ax.transAxes, color='#777777', size=46, ha='right', weight=800)\n",
    "#     ax.text(0, 1.06, 'Population (thousands)', transform=ax.transAxes, size=12, color='#777777')\n",
    "#     ax.xaxis.set_major_formatter(ticker.StrMethodFormatter('{x:,.0f}'))\n",
    "#     ax.xaxis.set_ticks_position('top')\n",
    "#     ax.tick_params(axis='x', colors='#777777', labelsize=12)\n",
    "#     ax.set_yticks([])\n",
    "#     ax.margins(0, 0.01)\n",
    "#     ax.grid(which='major', axis='x', linestyle='-')\n",
    "#     ax.set_axisbelow(True)\n",
    "    \n",
    "#     ax.text(0, 1.15, 'Coronavirus',\n",
    "#             transform=ax.transAxes, size=24, weight=600, ha='left', va='top')\n",
    "# #     ax.text(1, 0, 'by @pratapvardhan; credit @jburnmurdoch', transform=ax.transAxes, color='#777777', ha='right',\n",
    "# #             bbox=dict(facecolor='white', alpha=0.8, edgecolor='white'))\n",
    "#     plt.box(False)"
   ]
  },
  {
   "cell_type": "code",
   "execution_count": 42,
   "id": "sexual-wages",
   "metadata": {
    "execution": {
     "iopub.execute_input": "2021-12-07T00:26:04.732018Z",
     "iopub.status.busy": "2021-12-07T00:26:04.731501Z",
     "iopub.status.idle": "2021-12-07T00:26:04.733690Z",
     "shell.execute_reply": "2021-12-07T00:26:04.733262Z"
    },
    "papermill": {
     "duration": 0.036372,
     "end_time": "2021-12-07T00:26:04.733797",
     "exception": false,
     "start_time": "2021-12-07T00:26:04.697425",
     "status": "completed"
    },
    "tags": []
   },
   "outputs": [],
   "source": [
    "# #hide_input\n",
    "# fig, ax = plt.subplots(figsize=(15, 8))\n",
    "# animator = animation.FuncAnimation(fig, draw_barchart, frames=range(g.day.values.min(), g.day.values.max()))\n",
    "# HTML(animator.to_jshtml())\n",
    "# # or use animator.to_html5_video() or animator.save() "
   ]
  },
  {
   "cell_type": "code",
   "execution_count": null,
   "id": "australian-container",
   "metadata": {
    "papermill": {
     "duration": 0.030488,
     "end_time": "2021-12-07T00:26:04.794869",
     "exception": false,
     "start_time": "2021-12-07T00:26:04.764381",
     "status": "completed"
    },
    "tags": []
   },
   "outputs": [],
   "source": []
  },
  {
   "cell_type": "code",
   "execution_count": null,
   "id": "mediterranean-pontiac",
   "metadata": {
    "papermill": {
     "duration": 0.030377,
     "end_time": "2021-12-07T00:26:04.855688",
     "exception": false,
     "start_time": "2021-12-07T00:26:04.825311",
     "status": "completed"
    },
    "tags": []
   },
   "outputs": [],
   "source": []
  },
  {
   "cell_type": "code",
   "execution_count": null,
   "id": "aging-legislature",
   "metadata": {
    "papermill": {
     "duration": 0.030294,
     "end_time": "2021-12-07T00:26:04.916576",
     "exception": false,
     "start_time": "2021-12-07T00:26:04.886282",
     "status": "completed"
    },
    "tags": []
   },
   "outputs": [],
   "source": []
  }
 ],
 "metadata": {
  "kernelspec": {
   "display_name": "Python 3",
   "language": "python",
   "name": "python3"
  },
  "language_info": {
   "codemirror_mode": {
    "name": "ipython",
    "version": 3
   },
   "file_extension": ".py",
   "mimetype": "text/x-python",
   "name": "python",
   "nbconvert_exporter": "python",
   "pygments_lexer": "ipython3",
   "version": "3.6.15"
  },
  "papermill": {
   "duration": 5.866498,
   "end_time": "2021-12-07T00:26:05.254929",
   "environment_variables": {},
   "exception": null,
   "input_path": "2020-03-21-covid19exp.ipynb",
   "output_path": "2020-03-21-covid19exp.ipynb",
   "parameters": {},
   "start_time": "2021-12-07T00:25:59.388431",
   "version": "2.0.0"
  }
 },
 "nbformat": 4,
 "nbformat_minor": 5
}