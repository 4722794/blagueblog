{
 "cells": [
  {
   "cell_type": "markdown",
   "metadata": {
    "papermill": {
     "duration": 0.038966,
     "end_time": "2020-12-21T00:15:19.784225",
     "exception": false,
     "start_time": "2020-12-21T00:15:19.745259",
     "status": "completed"
    },
    "tags": []
   },
   "source": [
    "# COVID-19 Case Race\n",
    "> A race chart to see rising cases around the world\n",
    "\n",
    "- author: Hargun Oberoi\n",
    "- image: images/covid-overview.png\n",
    "- hide: false\n",
    "- badges: false"
   ]
  },
  {
   "cell_type": "code",
   "execution_count": 1,
   "metadata": {
    "execution": {
     "iopub.execute_input": "2020-12-21T00:15:19.856426Z",
     "iopub.status.busy": "2020-12-21T00:15:19.855814Z",
     "iopub.status.idle": "2020-12-21T00:15:20.190373Z",
     "shell.execute_reply": "2020-12-21T00:15:20.189764Z"
    },
    "papermill": {
     "duration": 0.376858,
     "end_time": "2020-12-21T00:15:20.190551",
     "exception": false,
     "start_time": "2020-12-21T00:15:19.813693",
     "status": "completed"
    },
    "tags": []
   },
   "outputs": [],
   "source": [
    "#hide\n",
    "import numpy as np\n",
    "import pandas as pd\n",
    "from jinja2 import Template\n",
    "from IPython.display import HTML"
   ]
  },
  {
   "cell_type": "code",
   "execution_count": 2,
   "metadata": {
    "execution": {
     "iopub.execute_input": "2020-12-21T00:15:20.257524Z",
     "iopub.status.busy": "2020-12-21T00:15:20.256770Z",
     "iopub.status.idle": "2020-12-21T00:15:20.258251Z",
     "shell.execute_reply": "2020-12-21T00:15:20.258880Z"
    },
    "papermill": {
     "duration": 0.036491,
     "end_time": "2020-12-21T00:15:20.259045",
     "exception": false,
     "start_time": "2020-12-21T00:15:20.222554",
     "status": "completed"
    },
    "tags": []
   },
   "outputs": [],
   "source": [
    "#hide\n",
    "\n",
    "# FETCH\n",
    "base_url = 'https://raw.githubusercontent.com/pratapvardhan/notebooks/master/covid19/'\n",
    "paths = {\n",
    "    'mapping': base_url + 'mapping_countries.csv',\n",
    "    'overview': base_url + 'overview.tpl'\n",
    "}"
   ]
  },
  {
   "cell_type": "code",
   "execution_count": 3,
   "metadata": {
    "execution": {
     "iopub.execute_input": "2020-12-21T00:15:20.333837Z",
     "iopub.status.busy": "2020-12-21T00:15:20.333248Z",
     "iopub.status.idle": "2020-12-21T00:15:20.336593Z",
     "shell.execute_reply": "2020-12-21T00:15:20.336094Z"
    },
    "papermill": {
     "duration": 0.047566,
     "end_time": "2020-12-21T00:15:20.336718",
     "exception": false,
     "start_time": "2020-12-21T00:15:20.289152",
     "status": "completed"
    },
    "tags": []
   },
   "outputs": [
    {
     "data": {
      "text/plain": [
       "'https://raw.githubusercontent.com/pratapvardhan/notebooks/master/covid19/mapping_countries.csv'"
      ]
     },
     "execution_count": 3,
     "metadata": {},
     "output_type": "execute_result"
    }
   ],
   "source": [
    "#hide\n",
    "paths['mapping']"
   ]
  },
  {
   "cell_type": "code",
   "execution_count": 4,
   "metadata": {
    "execution": {
     "iopub.execute_input": "2020-12-21T00:15:20.404223Z",
     "iopub.status.busy": "2020-12-21T00:15:20.403597Z",
     "iopub.status.idle": "2020-12-21T00:15:20.405835Z",
     "shell.execute_reply": "2020-12-21T00:15:20.405341Z"
    },
    "papermill": {
     "duration": 0.038748,
     "end_time": "2020-12-21T00:15:20.405959",
     "exception": false,
     "start_time": "2020-12-21T00:15:20.367211",
     "status": "completed"
    },
    "tags": []
   },
   "outputs": [],
   "source": [
    "#hide\n",
    "def get_mappings(url):\n",
    "    df = pd.read_csv(url)\n",
    "    return {\n",
    "        'df': df,\n",
    "        'replace.country': dict(df.dropna(subset=['Name']).set_index('Country')['Name']),\n",
    "        'map.continent': dict(df.set_index('Name')['Continent'])\n",
    "    }"
   ]
  },
  {
   "cell_type": "code",
   "execution_count": 5,
   "metadata": {
    "execution": {
     "iopub.execute_input": "2020-12-21T00:15:20.473708Z",
     "iopub.status.busy": "2020-12-21T00:15:20.473123Z",
     "iopub.status.idle": "2020-12-21T00:15:20.527705Z",
     "shell.execute_reply": "2020-12-21T00:15:20.527189Z"
    },
    "papermill": {
     "duration": 0.091795,
     "end_time": "2020-12-21T00:15:20.527846",
     "exception": false,
     "start_time": "2020-12-21T00:15:20.436051",
     "status": "completed"
    },
    "tags": []
   },
   "outputs": [],
   "source": [
    "#hide\n",
    "mapping = get_mappings(paths['mapping'])"
   ]
  },
  {
   "cell_type": "code",
   "execution_count": 6,
   "metadata": {
    "execution": {
     "iopub.execute_input": "2020-12-21T00:15:20.593486Z",
     "iopub.status.busy": "2020-12-21T00:15:20.592882Z",
     "iopub.status.idle": "2020-12-21T00:15:20.594619Z",
     "shell.execute_reply": "2020-12-21T00:15:20.595120Z"
    },
    "papermill": {
     "duration": 0.037109,
     "end_time": "2020-12-21T00:15:20.595284",
     "exception": false,
     "start_time": "2020-12-21T00:15:20.558175",
     "status": "completed"
    },
    "tags": []
   },
   "outputs": [],
   "source": [
    "#hide\n",
    "def get_template(path):\n",
    "    from urllib.parse import urlparse\n",
    "    if bool(urlparse(path).netloc):\n",
    "        from urllib.request import urlopen\n",
    "        return urlopen(path).read().decode('utf8')\n",
    "    return open(path).read()"
   ]
  },
  {
   "cell_type": "code",
   "execution_count": 7,
   "metadata": {
    "execution": {
     "iopub.execute_input": "2020-12-21T00:15:20.664227Z",
     "iopub.status.busy": "2020-12-21T00:15:20.663624Z",
     "iopub.status.idle": "2020-12-21T00:15:20.666587Z",
     "shell.execute_reply": "2020-12-21T00:15:20.667056Z"
    },
    "papermill": {
     "duration": 0.041013,
     "end_time": "2020-12-21T00:15:20.667227",
     "exception": false,
     "start_time": "2020-12-21T00:15:20.626214",
     "status": "completed"
    },
    "tags": []
   },
   "outputs": [],
   "source": [
    "#hide\n",
    "def get_frame(name):\n",
    "    url = (\n",
    "        'https://raw.githubusercontent.com/CSSEGISandData/COVID-19/master/csse_covid_19_data/'\n",
    "        f'csse_covid_19_time_series/time_series_covid19_{name}_global.csv')\n",
    "    df = pd.read_csv(url)\n",
    "    # rename countries\n",
    "    df['Country/Region'] = df['Country/Region'].replace(mapping['replace.country'])\n",
    "    return df"
   ]
  },
  {
   "cell_type": "code",
   "execution_count": 8,
   "metadata": {
    "execution": {
     "iopub.execute_input": "2020-12-21T00:15:20.732957Z",
     "iopub.status.busy": "2020-12-21T00:15:20.732376Z",
     "iopub.status.idle": "2020-12-21T00:15:20.734897Z",
     "shell.execute_reply": "2020-12-21T00:15:20.735488Z"
    },
    "papermill": {
     "duration": 0.038639,
     "end_time": "2020-12-21T00:15:20.735629",
     "exception": false,
     "start_time": "2020-12-21T00:15:20.696990",
     "status": "completed"
    },
    "tags": []
   },
   "outputs": [],
   "source": [
    "#hide\n",
    "def get_dates(df):\n",
    "    dt_cols = df.columns[~df.columns.isin(['Province/State', 'Country/Region', 'Lat', 'Long'])]\n",
    "    LAST_DATE_I = -1\n",
    "    # sometimes last column may be empty, then go backwards\n",
    "    for i in range(-1, -len(dt_cols), -1):\n",
    "        if not df[dt_cols[i]].fillna(0).eq(0).all():\n",
    "            LAST_DATE_I = i\n",
    "            break\n",
    "    return LAST_DATE_I, dt_cols"
   ]
  },
  {
   "cell_type": "code",
   "execution_count": 9,
   "metadata": {
    "execution": {
     "iopub.execute_input": "2020-12-21T00:15:20.800149Z",
     "iopub.status.busy": "2020-12-21T00:15:20.799549Z",
     "iopub.status.idle": "2020-12-21T00:15:21.188237Z",
     "shell.execute_reply": "2020-12-21T00:15:21.187651Z"
    },
    "papermill": {
     "duration": 0.423443,
     "end_time": "2020-12-21T00:15:21.188465",
     "exception": false,
     "start_time": "2020-12-21T00:15:20.765022",
     "status": "completed"
    },
    "tags": []
   },
   "outputs": [],
   "source": [
    "#hide\n",
    "COL_REGION = 'Country/Region'\n",
    "# Confirmed, Recovered, Deaths\n",
    "df = get_frame('confirmed')\n",
    "# dft_: timeseries, dfc_: today country agg\n",
    "dft_cases = df\n",
    "dft_deaths = get_frame('deaths')\n",
    "dft_recovered = get_frame('recovered')\n",
    "LAST_DATE_I, dt_cols = get_dates(df)"
   ]
  },
  {
   "cell_type": "code",
   "execution_count": 10,
   "metadata": {
    "execution": {
     "iopub.execute_input": "2020-12-21T00:15:21.256125Z",
     "iopub.status.busy": "2020-12-21T00:15:21.255519Z",
     "iopub.status.idle": "2020-12-21T00:15:21.257734Z",
     "shell.execute_reply": "2020-12-21T00:15:21.257228Z"
    },
    "papermill": {
     "duration": 0.037599,
     "end_time": "2020-12-21T00:15:21.257862",
     "exception": false,
     "start_time": "2020-12-21T00:15:21.220263",
     "status": "completed"
    },
    "tags": []
   },
   "outputs": [],
   "source": [
    "#hide\n",
    "LAST_DATE_I, dt_cols = get_dates(df)\n",
    "dt_today =dt_cols[LAST_DATE_I]\n",
    "# dt_5day = dt_cols[LAST_DATE_I - 5]\n",
    "dt_yday = dt_cols[LAST_DATE_I - 1]"
   ]
  },
  {
   "cell_type": "code",
   "execution_count": 11,
   "metadata": {
    "execution": {
     "iopub.execute_input": "2020-12-21T00:15:21.325768Z",
     "iopub.status.busy": "2020-12-21T00:15:21.325169Z",
     "iopub.status.idle": "2020-12-21T00:15:21.333711Z",
     "shell.execute_reply": "2020-12-21T00:15:21.333237Z"
    },
    "papermill": {
     "duration": 0.045876,
     "end_time": "2020-12-21T00:15:21.333841",
     "exception": false,
     "start_time": "2020-12-21T00:15:21.287965",
     "status": "completed"
    },
    "tags": []
   },
   "outputs": [],
   "source": [
    "#hide\n",
    "dfc_cases = dft_cases.groupby(COL_REGION)[dt_today].sum()\n",
    "dfc_deaths = dft_deaths.groupby(COL_REGION)[dt_today].sum()\n",
    "# dfp_cases = dft_cases.groupby(COL_REGION)[dt_5day].sum()\n",
    "# dfp_deaths = dft_deaths.groupby(COL_REGION)[dt_5day].sum()\n",
    "dfp_cases = dft_cases.groupby(COL_REGION)[dt_yday].sum()\n",
    "dfp_deaths = dft_deaths.groupby(COL_REGION)[dt_yday].sum()"
   ]
  },
  {
   "cell_type": "code",
   "execution_count": 12,
   "metadata": {
    "execution": {
     "iopub.execute_input": "2020-12-21T00:15:21.399546Z",
     "iopub.status.busy": "2020-12-21T00:15:21.398958Z",
     "iopub.status.idle": "2020-12-21T00:15:21.403098Z",
     "shell.execute_reply": "2020-12-21T00:15:21.403601Z"
    },
    "papermill": {
     "duration": 0.040175,
     "end_time": "2020-12-21T00:15:21.403741",
     "exception": false,
     "start_time": "2020-12-21T00:15:21.363566",
     "status": "completed"
    },
    "tags": []
   },
   "outputs": [],
   "source": [
    "#hide\n",
    "df_table = (pd.DataFrame(dict(Cases = dfc_cases, Deaths = dfc_deaths, PCases = dfp_cases, PDeaths = dfp_deaths))\n",
    "            .sort_values(by = ['Cases','Deaths'], ascending = [False, False])\n",
    "            .reset_index())"
   ]
  },
  {
   "cell_type": "code",
   "execution_count": 13,
   "metadata": {
    "execution": {
     "iopub.execute_input": "2020-12-21T00:15:21.481877Z",
     "iopub.status.busy": "2020-12-21T00:15:21.481285Z",
     "iopub.status.idle": "2020-12-21T00:15:21.488974Z",
     "shell.execute_reply": "2020-12-21T00:15:21.488507Z"
    },
    "papermill": {
     "duration": 0.056313,
     "end_time": "2020-12-21T00:15:21.489097",
     "exception": false,
     "start_time": "2020-12-21T00:15:21.432784",
     "status": "completed"
    },
    "tags": []
   },
   "outputs": [
    {
     "data": {
      "text/html": [
       "<div>\n",
       "<style scoped>\n",
       "    .dataframe tbody tr th:only-of-type {\n",
       "        vertical-align: middle;\n",
       "    }\n",
       "\n",
       "    .dataframe tbody tr th {\n",
       "        vertical-align: top;\n",
       "    }\n",
       "\n",
       "    .dataframe thead th {\n",
       "        text-align: right;\n",
       "    }\n",
       "</style>\n",
       "<table border=\"1\" class=\"dataframe\">\n",
       "  <thead>\n",
       "    <tr style=\"text-align: right;\">\n",
       "      <th></th>\n",
       "      <th>Country/Region</th>\n",
       "      <th>Cases</th>\n",
       "      <th>Deaths</th>\n",
       "      <th>PCases</th>\n",
       "      <th>PDeaths</th>\n",
       "      <th>Cases (+)</th>\n",
       "      <th>Deaths (+)</th>\n",
       "      <th>Fatality Rate</th>\n",
       "      <th>Continent</th>\n",
       "    </tr>\n",
       "  </thead>\n",
       "  <tbody>\n",
       "    <tr>\n",
       "      <th>0</th>\n",
       "      <td>US</td>\n",
       "      <td>17655591</td>\n",
       "      <td>316159</td>\n",
       "      <td>17459296</td>\n",
       "      <td>313588</td>\n",
       "      <td>196295</td>\n",
       "      <td>2571</td>\n",
       "      <td>1.79</td>\n",
       "      <td>North America</td>\n",
       "    </tr>\n",
       "    <tr>\n",
       "      <th>1</th>\n",
       "      <td>India</td>\n",
       "      <td>10031223</td>\n",
       "      <td>145477</td>\n",
       "      <td>10004599</td>\n",
       "      <td>145136</td>\n",
       "      <td>26624</td>\n",
       "      <td>341</td>\n",
       "      <td>1.45</td>\n",
       "      <td>Asia</td>\n",
       "    </tr>\n",
       "    <tr>\n",
       "      <th>2</th>\n",
       "      <td>Brazil</td>\n",
       "      <td>7213155</td>\n",
       "      <td>186356</td>\n",
       "      <td>7162978</td>\n",
       "      <td>185650</td>\n",
       "      <td>50177</td>\n",
       "      <td>706</td>\n",
       "      <td>2.58</td>\n",
       "      <td>South America</td>\n",
       "    </tr>\n",
       "    <tr>\n",
       "      <th>3</th>\n",
       "      <td>Russia</td>\n",
       "      <td>2792615</td>\n",
       "      <td>49744</td>\n",
       "      <td>2764843</td>\n",
       "      <td>49170</td>\n",
       "      <td>27772</td>\n",
       "      <td>574</td>\n",
       "      <td>1.78</td>\n",
       "      <td>Europe</td>\n",
       "    </tr>\n",
       "    <tr>\n",
       "      <th>4</th>\n",
       "      <td>France</td>\n",
       "      <td>2516957</td>\n",
       "      <td>60534</td>\n",
       "      <td>2499529</td>\n",
       "      <td>60345</td>\n",
       "      <td>17428</td>\n",
       "      <td>189</td>\n",
       "      <td>2.41</td>\n",
       "      <td>Europe</td>\n",
       "    </tr>\n",
       "  </tbody>\n",
       "</table>\n",
       "</div>"
      ],
      "text/plain": [
       "  Country/Region     Cases  Deaths    PCases  PDeaths  Cases (+)  Deaths (+)  \\\n",
       "0             US  17655591  316159  17459296   313588     196295        2571   \n",
       "1          India  10031223  145477  10004599   145136      26624         341   \n",
       "2         Brazil   7213155  186356   7162978   185650      50177         706   \n",
       "3         Russia   2792615   49744   2764843    49170      27772         574   \n",
       "4         France   2516957   60534   2499529    60345      17428         189   \n",
       "\n",
       "   Fatality Rate      Continent  \n",
       "0           1.79  North America  \n",
       "1           1.45           Asia  \n",
       "2           2.58  South America  \n",
       "3           1.78         Europe  \n",
       "4           2.41         Europe  "
      ]
     },
     "execution_count": 13,
     "metadata": {},
     "output_type": "execute_result"
    }
   ],
   "source": [
    "#hide\n",
    "for c in 'Cases, Deaths'.split(', '):\n",
    "    df_table[f'{c} (+)'] = (df_table[c] - df_table[f'P{c}']).clip(0)\n",
    "    #Clip ça veut dire, les chiffres negatif sont interdit\n",
    "df_table['Fatality Rate'] = (100* df_table['Deaths']/ df_table['Cases']).round(2)\n",
    "df_table['Continent'] = df_table['Country/Region'].map(mapping['map.continent'])\n",
    "df_table.head(5)"
   ]
  },
  {
   "cell_type": "code",
   "execution_count": 14,
   "metadata": {
    "execution": {
     "iopub.execute_input": "2020-12-21T00:15:21.555942Z",
     "iopub.status.busy": "2020-12-21T00:15:21.555355Z",
     "iopub.status.idle": "2020-12-21T00:15:21.557915Z",
     "shell.execute_reply": "2020-12-21T00:15:21.558472Z"
    },
    "papermill": {
     "duration": 0.040198,
     "end_time": "2020-12-21T00:15:21.558610",
     "exception": false,
     "start_time": "2020-12-21T00:15:21.518412",
     "status": "completed"
    },
    "tags": []
   },
   "outputs": [],
   "source": [
    "#hide\n",
    "#delete problematic countries from table\n",
    "df_table = df_table[~df_table['Country/Region'].isin(['Cape Verde', 'Cruise Ship', 'Kosovo'])]"
   ]
  },
  {
   "cell_type": "code",
   "execution_count": 15,
   "metadata": {
    "execution": {
     "iopub.execute_input": "2020-12-21T00:15:21.624146Z",
     "iopub.status.busy": "2020-12-21T00:15:21.621683Z",
     "iopub.status.idle": "2020-12-21T00:15:21.641333Z",
     "shell.execute_reply": "2020-12-21T00:15:21.640866Z"
    },
    "papermill": {
     "duration": 0.054759,
     "end_time": "2020-12-21T00:15:21.641456",
     "exception": false,
     "start_time": "2020-12-21T00:15:21.586697",
     "status": "completed"
    },
    "tags": []
   },
   "outputs": [
    {
     "data": {
      "text/html": [
       "<div>\n",
       "<style scoped>\n",
       "    .dataframe tbody tr th:only-of-type {\n",
       "        vertical-align: middle;\n",
       "    }\n",
       "\n",
       "    .dataframe tbody tr th {\n",
       "        vertical-align: top;\n",
       "    }\n",
       "\n",
       "    .dataframe thead th {\n",
       "        text-align: right;\n",
       "    }\n",
       "</style>\n",
       "<table border=\"1\" class=\"dataframe\">\n",
       "  <thead>\n",
       "    <tr style=\"text-align: right;\">\n",
       "      <th></th>\n",
       "      <th>Country/Region</th>\n",
       "      <th>Cases</th>\n",
       "      <th>Deaths</th>\n",
       "      <th>PCases</th>\n",
       "      <th>PDeaths</th>\n",
       "      <th>Cases (+)</th>\n",
       "      <th>Deaths (+)</th>\n",
       "      <th>Fatality Rate</th>\n",
       "      <th>Continent</th>\n",
       "    </tr>\n",
       "  </thead>\n",
       "  <tbody>\n",
       "    <tr>\n",
       "      <th>0</th>\n",
       "      <td>US</td>\n",
       "      <td>17655591</td>\n",
       "      <td>316159</td>\n",
       "      <td>17459296</td>\n",
       "      <td>313588</td>\n",
       "      <td>196295</td>\n",
       "      <td>2571</td>\n",
       "      <td>1.8</td>\n",
       "      <td>North America</td>\n",
       "    </tr>\n",
       "    <tr>\n",
       "      <th>1</th>\n",
       "      <td>India</td>\n",
       "      <td>10031223</td>\n",
       "      <td>145477</td>\n",
       "      <td>10004599</td>\n",
       "      <td>145136</td>\n",
       "      <td>26624</td>\n",
       "      <td>341</td>\n",
       "      <td>1.5</td>\n",
       "      <td>Asia</td>\n",
       "    </tr>\n",
       "    <tr>\n",
       "      <th>2</th>\n",
       "      <td>Brazil</td>\n",
       "      <td>7213155</td>\n",
       "      <td>186356</td>\n",
       "      <td>7162978</td>\n",
       "      <td>185650</td>\n",
       "      <td>50177</td>\n",
       "      <td>706</td>\n",
       "      <td>2.6</td>\n",
       "      <td>South America</td>\n",
       "    </tr>\n",
       "    <tr>\n",
       "      <th>3</th>\n",
       "      <td>Russia</td>\n",
       "      <td>2792615</td>\n",
       "      <td>49744</td>\n",
       "      <td>2764843</td>\n",
       "      <td>49170</td>\n",
       "      <td>27772</td>\n",
       "      <td>574</td>\n",
       "      <td>1.8</td>\n",
       "      <td>Europe</td>\n",
       "    </tr>\n",
       "    <tr>\n",
       "      <th>4</th>\n",
       "      <td>France</td>\n",
       "      <td>2516957</td>\n",
       "      <td>60534</td>\n",
       "      <td>2499529</td>\n",
       "      <td>60345</td>\n",
       "      <td>17428</td>\n",
       "      <td>189</td>\n",
       "      <td>2.4</td>\n",
       "      <td>Europe</td>\n",
       "    </tr>\n",
       "  </tbody>\n",
       "</table>\n",
       "</div>"
      ],
      "text/plain": [
       "  Country/Region     Cases  Deaths    PCases  PDeaths  Cases (+)  Deaths (+)  \\\n",
       "0             US  17655591  316159  17459296   313588     196295        2571   \n",
       "1          India  10031223  145477  10004599   145136      26624         341   \n",
       "2         Brazil   7213155  186356   7162978   185650      50177         706   \n",
       "3         Russia   2792615   49744   2764843    49170      27772         574   \n",
       "4         France   2516957   60534   2499529    60345      17428         189   \n",
       "\n",
       "   Fatality Rate      Continent  \n",
       "0            1.8  North America  \n",
       "1            1.5           Asia  \n",
       "2            2.6  South America  \n",
       "3            1.8         Europe  \n",
       "4            2.4         Europe  "
      ]
     },
     "execution_count": 15,
     "metadata": {},
     "output_type": "execute_result"
    }
   ],
   "source": [
    "#hide\n",
    "df_table = (pd.DataFrame(dict(Cases=dfc_cases, Deaths=dfc_deaths, PCases=dfp_cases, PDeaths=dfp_deaths))\n",
    "             .sort_values(by=['Cases', 'Deaths'], ascending=[False, False])\n",
    "             .reset_index())\n",
    "df_table.rename(columns={'index': 'Country/Region'}, inplace=True)\n",
    "for c in 'Cases, Deaths'.split(', '):\n",
    "    df_table[f'{c} (+)'] = (df_table[c] - df_table[f'P{c}']).clip(0)  # DATA BUG\n",
    "df_table['Fatality Rate'] = (100 * df_table['Deaths'] / df_table['Cases']).round(1)\n",
    "df_table['Continent'] = df_table['Country/Region'].map(mapping['map.continent'])\n",
    "df_table.head(5)"
   ]
  },
  {
   "cell_type": "code",
   "execution_count": 16,
   "metadata": {
    "execution": {
     "iopub.execute_input": "2020-12-21T00:15:21.705061Z",
     "iopub.status.busy": "2020-12-21T00:15:21.704528Z",
     "iopub.status.idle": "2020-12-21T00:15:21.706793Z",
     "shell.execute_reply": "2020-12-21T00:15:21.706331Z"
    },
    "papermill": {
     "duration": 0.037017,
     "end_time": "2020-12-21T00:15:21.706921",
     "exception": false,
     "start_time": "2020-12-21T00:15:21.669904",
     "status": "completed"
    },
    "tags": []
   },
   "outputs": [],
   "source": [
    "#hide\n",
    "#delete problematic countries from table\n",
    "df_table = df_table[~df_table['Country/Region'].isin(['Cape Verde', 'Cruise Ship', 'Kosovo'])]"
   ]
  },
  {
   "cell_type": "code",
   "execution_count": 17,
   "metadata": {
    "execution": {
     "iopub.execute_input": "2020-12-21T00:15:21.776178Z",
     "iopub.status.busy": "2020-12-21T00:15:21.775513Z",
     "iopub.status.idle": "2020-12-21T00:15:21.789223Z",
     "shell.execute_reply": "2020-12-21T00:15:21.788754Z"
    },
    "papermill": {
     "duration": 0.052372,
     "end_time": "2020-12-21T00:15:21.789345",
     "exception": false,
     "start_time": "2020-12-21T00:15:21.736973",
     "status": "completed"
    },
    "tags": []
   },
   "outputs": [],
   "source": [
    "#hide\n",
    "metrics = [df_table.columns[index] for index in [1,2,5,6]]\n",
    "# s_china = df_table[df_table['Country/Region'].eq('China')][metrics].sum().add_prefix('China ')\n",
    "s_us = df_table[df_table['Country/Region'].eq('US')][metrics].sum().add_prefix('US ')\n",
    "s_eu = df_table[df_table['Continent'].eq('Europe')][metrics].sum().add_prefix('EU ')\n",
    "s_ind = df_table[df_table['Country/Region'].eq('India')][metrics].sum().add_prefix('India ')\n",
    "summary = {'updated': pd.to_datetime(dt_today), 'since': pd.to_datetime(dt_yday)}\n",
    "summary = {'updated': pd.to_datetime(dt_today), 'since': pd.to_datetime(dt_yday)}\n",
    "summary = {**summary, **df_table[metrics].sum(), **s_ind, **s_us, **s_eu}"
   ]
  },
  {
   "cell_type": "code",
   "execution_count": 18,
   "metadata": {
    "execution": {
     "iopub.execute_input": "2020-12-21T00:15:21.856393Z",
     "iopub.status.busy": "2020-12-21T00:15:21.855814Z",
     "iopub.status.idle": "2020-12-21T00:15:21.866370Z",
     "shell.execute_reply": "2020-12-21T00:15:21.865874Z"
    },
    "papermill": {
     "duration": 0.047063,
     "end_time": "2020-12-21T00:15:21.866490",
     "exception": false,
     "start_time": "2020-12-21T00:15:21.819427",
     "status": "completed"
    },
    "tags": []
   },
   "outputs": [],
   "source": [
    "#hide\n",
    "dft_ct_new_cases = dft_cases.groupby(COL_REGION)[dt_cols].sum().diff(axis=1).fillna(0).astype(int)"
   ]
  },
  {
   "cell_type": "code",
   "execution_count": 19,
   "metadata": {
    "execution": {
     "iopub.execute_input": "2020-12-21T00:15:21.934188Z",
     "iopub.status.busy": "2020-12-21T00:15:21.933606Z",
     "iopub.status.idle": "2020-12-21T00:15:21.936269Z",
     "shell.execute_reply": "2020-12-21T00:15:21.935795Z"
    },
    "papermill": {
     "duration": 0.039875,
     "end_time": "2020-12-21T00:15:21.936397",
     "exception": false,
     "start_time": "2020-12-21T00:15:21.896522",
     "status": "completed"
    },
    "tags": []
   },
   "outputs": [],
   "source": [
    "#hide\n",
    "everydaycases = dft_ct_new_cases.cumsum(axis=1)"
   ]
  },
  {
   "cell_type": "code",
   "execution_count": 20,
   "metadata": {
    "execution": {
     "iopub.execute_input": "2020-12-21T00:15:22.003661Z",
     "iopub.status.busy": "2020-12-21T00:15:22.003073Z",
     "iopub.status.idle": "2020-12-21T00:15:24.163333Z",
     "shell.execute_reply": "2020-12-21T00:15:24.163835Z"
    },
    "papermill": {
     "duration": 2.19631,
     "end_time": "2020-12-21T00:15:24.163993",
     "exception": false,
     "start_time": "2020-12-21T00:15:21.967683",
     "status": "completed"
    },
    "tags": []
   },
   "outputs": [],
   "source": [
    "#hide\n",
    "import pandas as pd\n",
    "import matplotlib.pyplot as plt\n",
    "import matplotlib.ticker as ticker\n",
    "import matplotlib.animation as animation\n",
    "from IPython.display import HTML"
   ]
  },
  {
   "cell_type": "code",
   "execution_count": 21,
   "metadata": {
    "execution": {
     "iopub.execute_input": "2020-12-21T00:15:24.231840Z",
     "iopub.status.busy": "2020-12-21T00:15:24.231247Z",
     "iopub.status.idle": "2020-12-21T00:15:24.236125Z",
     "shell.execute_reply": "2020-12-21T00:15:24.236604Z"
    },
    "papermill": {
     "duration": 0.042476,
     "end_time": "2020-12-21T00:15:24.236740",
     "exception": false,
     "start_time": "2020-12-21T00:15:24.194264",
     "status": "completed"
    },
    "tags": []
   },
   "outputs": [],
   "source": [
    "#hide\n",
    "t = everydaycases.stack()"
   ]
  },
  {
   "cell_type": "code",
   "execution_count": 22,
   "metadata": {
    "execution": {
     "iopub.execute_input": "2020-12-21T00:15:24.302324Z",
     "iopub.status.busy": "2020-12-21T00:15:24.301734Z",
     "iopub.status.idle": "2020-12-21T00:15:24.309306Z",
     "shell.execute_reply": "2020-12-21T00:15:24.308871Z"
    },
    "papermill": {
     "duration": 0.042467,
     "end_time": "2020-12-21T00:15:24.309425",
     "exception": false,
     "start_time": "2020-12-21T00:15:24.266958",
     "status": "completed"
    },
    "tags": []
   },
   "outputs": [],
   "source": [
    "#hide\n",
    "g = t.reset_index(['Country/Region'])"
   ]
  },
  {
   "cell_type": "code",
   "execution_count": 23,
   "metadata": {
    "execution": {
     "iopub.execute_input": "2020-12-21T00:15:24.373197Z",
     "iopub.status.busy": "2020-12-21T00:15:24.372602Z",
     "iopub.status.idle": "2020-12-21T00:15:24.375208Z",
     "shell.execute_reply": "2020-12-21T00:15:24.374729Z"
    },
    "papermill": {
     "duration": 0.037074,
     "end_time": "2020-12-21T00:15:24.375323",
     "exception": false,
     "start_time": "2020-12-21T00:15:24.338249",
     "status": "completed"
    },
    "tags": []
   },
   "outputs": [],
   "source": [
    "#hide\n",
    "g.index.name = 'date'"
   ]
  },
  {
   "cell_type": "code",
   "execution_count": 24,
   "metadata": {
    "execution": {
     "iopub.execute_input": "2020-12-21T00:15:24.438363Z",
     "iopub.status.busy": "2020-12-21T00:15:24.437563Z",
     "iopub.status.idle": "2020-12-21T00:15:24.439248Z",
     "shell.execute_reply": "2020-12-21T00:15:24.439897Z"
    },
    "papermill": {
     "duration": 0.035694,
     "end_time": "2020-12-21T00:15:24.440078",
     "exception": false,
     "start_time": "2020-12-21T00:15:24.404384",
     "status": "completed"
    },
    "tags": []
   },
   "outputs": [],
   "source": [
    "# #hide\n",
    "# g = g.reset_index(['date'])"
   ]
  },
  {
   "cell_type": "code",
   "execution_count": 25,
   "metadata": {
    "execution": {
     "iopub.execute_input": "2020-12-21T00:15:24.508024Z",
     "iopub.status.busy": "2020-12-21T00:15:24.507270Z",
     "iopub.status.idle": "2020-12-21T00:15:24.509727Z",
     "shell.execute_reply": "2020-12-21T00:15:24.510282Z"
    },
    "papermill": {
     "duration": 0.038421,
     "end_time": "2020-12-21T00:15:24.510425",
     "exception": false,
     "start_time": "2020-12-21T00:15:24.472004",
     "status": "completed"
    },
    "tags": []
   },
   "outputs": [],
   "source": [
    "#hide\n",
    "# g.head()"
   ]
  },
  {
   "cell_type": "code",
   "execution_count": 26,
   "metadata": {
    "execution": {
     "iopub.execute_input": "2020-12-21T00:15:24.581653Z",
     "iopub.status.busy": "2020-12-21T00:15:24.580827Z",
     "iopub.status.idle": "2020-12-21T00:15:24.584006Z",
     "shell.execute_reply": "2020-12-21T00:15:24.583349Z"
    },
    "papermill": {
     "duration": 0.041421,
     "end_time": "2020-12-21T00:15:24.584177",
     "exception": false,
     "start_time": "2020-12-21T00:15:24.542756",
     "status": "completed"
    },
    "tags": []
   },
   "outputs": [],
   "source": [
    "#hide\n",
    "# g.columns = ['date','country','cases']"
   ]
  },
  {
   "cell_type": "code",
   "execution_count": 27,
   "metadata": {
    "execution": {
     "iopub.execute_input": "2020-12-21T00:15:24.650811Z",
     "iopub.status.busy": "2020-12-21T00:15:24.650188Z",
     "iopub.status.idle": "2020-12-21T00:15:24.652440Z",
     "shell.execute_reply": "2020-12-21T00:15:24.652993Z"
    },
    "papermill": {
     "duration": 0.037415,
     "end_time": "2020-12-21T00:15:24.653135",
     "exception": false,
     "start_time": "2020-12-21T00:15:24.615720",
     "status": "completed"
    },
    "tags": []
   },
   "outputs": [],
   "source": [
    "#hide\n",
    "# g['continent'] = g.country"
   ]
  },
  {
   "cell_type": "code",
   "execution_count": 28,
   "metadata": {
    "execution": {
     "iopub.execute_input": "2020-12-21T00:15:24.720020Z",
     "iopub.status.busy": "2020-12-21T00:15:24.719425Z",
     "iopub.status.idle": "2020-12-21T00:15:24.721638Z",
     "shell.execute_reply": "2020-12-21T00:15:24.721148Z"
    },
    "papermill": {
     "duration": 0.036851,
     "end_time": "2020-12-21T00:15:24.721761",
     "exception": false,
     "start_time": "2020-12-21T00:15:24.684910",
     "status": "completed"
    },
    "tags": []
   },
   "outputs": [],
   "source": [
    "#hide\n",
    "# cols = list(g.columns.values)"
   ]
  },
  {
   "cell_type": "code",
   "execution_count": 29,
   "metadata": {
    "execution": {
     "iopub.execute_input": "2020-12-21T00:15:24.788023Z",
     "iopub.status.busy": "2020-12-21T00:15:24.786947Z",
     "iopub.status.idle": "2020-12-21T00:15:24.789103Z",
     "shell.execute_reply": "2020-12-21T00:15:24.789781Z"
    },
    "papermill": {
     "duration": 0.038469,
     "end_time": "2020-12-21T00:15:24.789922",
     "exception": false,
     "start_time": "2020-12-21T00:15:24.751453",
     "status": "completed"
    },
    "tags": []
   },
   "outputs": [],
   "source": [
    "#hide\n",
    "# cols.insert(0, cols.pop())"
   ]
  },
  {
   "cell_type": "code",
   "execution_count": 30,
   "metadata": {
    "execution": {
     "iopub.execute_input": "2020-12-21T00:15:24.857757Z",
     "iopub.status.busy": "2020-12-21T00:15:24.856731Z",
     "iopub.status.idle": "2020-12-21T00:15:24.858825Z",
     "shell.execute_reply": "2020-12-21T00:15:24.859678Z"
    },
    "papermill": {
     "duration": 0.038993,
     "end_time": "2020-12-21T00:15:24.859915",
     "exception": false,
     "start_time": "2020-12-21T00:15:24.820922",
     "status": "completed"
    },
    "tags": []
   },
   "outputs": [],
   "source": [
    "#hide\n",
    "# g = g[cols]"
   ]
  },
  {
   "cell_type": "code",
   "execution_count": 31,
   "metadata": {
    "execution": {
     "iopub.execute_input": "2020-12-21T00:15:24.926821Z",
     "iopub.status.busy": "2020-12-21T00:15:24.926231Z",
     "iopub.status.idle": "2020-12-21T00:15:24.928592Z",
     "shell.execute_reply": "2020-12-21T00:15:24.929148Z"
    },
    "papermill": {
     "duration": 0.038268,
     "end_time": "2020-12-21T00:15:24.929296",
     "exception": false,
     "start_time": "2020-12-21T00:15:24.891028",
     "status": "completed"
    },
    "tags": []
   },
   "outputs": [],
   "source": [
    "#hide\n",
    "# g['continent'] = g['continent'].map(mapping['map.continent'])"
   ]
  },
  {
   "cell_type": "code",
   "execution_count": 32,
   "metadata": {
    "execution": {
     "iopub.execute_input": "2020-12-21T00:15:24.995890Z",
     "iopub.status.busy": "2020-12-21T00:15:24.995301Z",
     "iopub.status.idle": "2020-12-21T00:15:24.997694Z",
     "shell.execute_reply": "2020-12-21T00:15:24.998251Z"
    },
    "papermill": {
     "duration": 0.037936,
     "end_time": "2020-12-21T00:15:24.998391",
     "exception": false,
     "start_time": "2020-12-21T00:15:24.960455",
     "status": "completed"
    },
    "tags": []
   },
   "outputs": [],
   "source": [
    "#hide\n",
    "# g.head()"
   ]
  },
  {
   "cell_type": "code",
   "execution_count": 33,
   "metadata": {
    "execution": {
     "iopub.execute_input": "2020-12-21T00:15:25.064212Z",
     "iopub.status.busy": "2020-12-21T00:15:25.063619Z",
     "iopub.status.idle": "2020-12-21T00:15:25.066102Z",
     "shell.execute_reply": "2020-12-21T00:15:25.065609Z"
    },
    "papermill": {
     "duration": 0.037056,
     "end_time": "2020-12-21T00:15:25.066226",
     "exception": false,
     "start_time": "2020-12-21T00:15:25.029170",
     "status": "completed"
    },
    "tags": []
   },
   "outputs": [],
   "source": [
    "# hide\n",
    "# g['date'] = g['date'].astype('datetime64[ns]')"
   ]
  },
  {
   "cell_type": "code",
   "execution_count": 34,
   "metadata": {
    "execution": {
     "iopub.execute_input": "2020-12-21T00:15:25.133028Z",
     "iopub.status.busy": "2020-12-21T00:15:25.132445Z",
     "iopub.status.idle": "2020-12-21T00:15:25.134843Z",
     "shell.execute_reply": "2020-12-21T00:15:25.135431Z"
    },
    "papermill": {
     "duration": 0.038375,
     "end_time": "2020-12-21T00:15:25.135576",
     "exception": false,
     "start_time": "2020-12-21T00:15:25.097201",
     "status": "completed"
    },
    "tags": []
   },
   "outputs": [],
   "source": [
    "#hide\n",
    "# g['date'] = g.date.dt.dayofyear"
   ]
  },
  {
   "cell_type": "code",
   "execution_count": 35,
   "metadata": {
    "execution": {
     "iopub.execute_input": "2020-12-21T00:15:25.201455Z",
     "iopub.status.busy": "2020-12-21T00:15:25.200211Z",
     "iopub.status.idle": "2020-12-21T00:15:25.203938Z",
     "shell.execute_reply": "2020-12-21T00:15:25.204491Z"
    },
    "papermill": {
     "duration": 0.038336,
     "end_time": "2020-12-21T00:15:25.204632",
     "exception": false,
     "start_time": "2020-12-21T00:15:25.166296",
     "status": "completed"
    },
    "tags": []
   },
   "outputs": [],
   "source": [
    "#hide\n",
    "# g = g.rename(columns= {'continent':'group','country':'name','cases':'value'})"
   ]
  },
  {
   "cell_type": "code",
   "execution_count": 36,
   "metadata": {
    "execution": {
     "iopub.execute_input": "2020-12-21T00:15:25.270499Z",
     "iopub.status.busy": "2020-12-21T00:15:25.269956Z",
     "iopub.status.idle": "2020-12-21T00:15:25.272295Z",
     "shell.execute_reply": "2020-12-21T00:15:25.272848Z"
    },
    "papermill": {
     "duration": 0.037418,
     "end_time": "2020-12-21T00:15:25.272992",
     "exception": false,
     "start_time": "2020-12-21T00:15:25.235574",
     "status": "completed"
    },
    "tags": []
   },
   "outputs": [],
   "source": [
    "#hide\n",
    "# cols = ['name','group','day','value']"
   ]
  },
  {
   "cell_type": "code",
   "execution_count": 37,
   "metadata": {
    "execution": {
     "iopub.execute_input": "2020-12-21T00:15:25.339045Z",
     "iopub.status.busy": "2020-12-21T00:15:25.338441Z",
     "iopub.status.idle": "2020-12-21T00:15:25.340220Z",
     "shell.execute_reply": "2020-12-21T00:15:25.340715Z"
    },
    "papermill": {
     "duration": 0.037527,
     "end_time": "2020-12-21T00:15:25.340859",
     "exception": false,
     "start_time": "2020-12-21T00:15:25.303332",
     "status": "completed"
    },
    "tags": []
   },
   "outputs": [],
   "source": [
    "#hide\n",
    "# g.rename(columns= {'date':'day'},inplace = True)"
   ]
  },
  {
   "cell_type": "code",
   "execution_count": 38,
   "metadata": {
    "execution": {
     "iopub.execute_input": "2020-12-21T00:15:25.406340Z",
     "iopub.status.busy": "2020-12-21T00:15:25.405187Z",
     "iopub.status.idle": "2020-12-21T00:15:25.407396Z",
     "shell.execute_reply": "2020-12-21T00:15:25.408158Z"
    },
    "papermill": {
     "duration": 0.037649,
     "end_time": "2020-12-21T00:15:25.408372",
     "exception": false,
     "start_time": "2020-12-21T00:15:25.370723",
     "status": "completed"
    },
    "tags": []
   },
   "outputs": [],
   "source": [
    "#hide\n",
    "# g = g[cols]"
   ]
  },
  {
   "cell_type": "code",
   "execution_count": 39,
   "metadata": {
    "execution": {
     "iopub.execute_input": "2020-12-21T00:15:25.474101Z",
     "iopub.status.busy": "2020-12-21T00:15:25.473438Z",
     "iopub.status.idle": "2020-12-21T00:15:25.475768Z",
     "shell.execute_reply": "2020-12-21T00:15:25.475273Z"
    },
    "papermill": {
     "duration": 0.037131,
     "end_time": "2020-12-21T00:15:25.475890",
     "exception": false,
     "start_time": "2020-12-21T00:15:25.438759",
     "status": "completed"
    },
    "tags": []
   },
   "outputs": [],
   "source": [
    "# #hide\n",
    "# g = g[g.group.notna()]"
   ]
  },
  {
   "cell_type": "code",
   "execution_count": 40,
   "metadata": {
    "execution": {
     "iopub.execute_input": "2020-12-21T00:15:25.543576Z",
     "iopub.status.busy": "2020-12-21T00:15:25.542986Z",
     "iopub.status.idle": "2020-12-21T00:15:25.545084Z",
     "shell.execute_reply": "2020-12-21T00:15:25.545642Z"
    },
    "papermill": {
     "duration": 0.038325,
     "end_time": "2020-12-21T00:15:25.545782",
     "exception": false,
     "start_time": "2020-12-21T00:15:25.507457",
     "status": "completed"
    },
    "tags": []
   },
   "outputs": [],
   "source": [
    "# #hide\n",
    "# colors = dict(zip(\n",
    "#     [\"Oceania\", \"Europe\", \"Asia\", \"South America\", \"Middle East\", \"North America\", \"Africa\"],\n",
    "#     [\"#adb0ff\", \"#ffb3ff\", \"#90d595\", \"#e48381\", \"#aafbff\", \"#f7bb5f\", \"#eafb50\"]\n",
    "# ))\n",
    "# group_lk = g.set_index('name')['group'].to_dict()"
   ]
  },
  {
   "cell_type": "code",
   "execution_count": null,
   "metadata": {
    "papermill": {
     "duration": 0.033091,
     "end_time": "2020-12-21T00:15:25.610255",
     "exception": false,
     "start_time": "2020-12-21T00:15:25.577164",
     "status": "completed"
    },
    "tags": []
   },
   "outputs": [],
   "source": []
  },
  {
   "cell_type": "code",
   "execution_count": 41,
   "metadata": {
    "execution": {
     "iopub.execute_input": "2020-12-21T00:15:25.953443Z",
     "iopub.status.busy": "2020-12-21T00:15:25.952389Z",
     "iopub.status.idle": "2020-12-21T00:15:25.954523Z",
     "shell.execute_reply": "2020-12-21T00:15:25.955384Z"
    },
    "papermill": {
     "duration": 0.039348,
     "end_time": "2020-12-21T00:15:25.955617",
     "exception": false,
     "start_time": "2020-12-21T00:15:25.916269",
     "status": "completed"
    },
    "tags": []
   },
   "outputs": [],
   "source": [
    "# #hide\n",
    "# fig, ax = plt.subplots(figsize=(15, 8))\n",
    "\n",
    "# def draw_barchart(current_day):\n",
    "#     dff = g[g['day'].eq(current_day)].sort_values(by='value', ascending=True).tail(10)\n",
    "#     ax.clear()\n",
    "#     ax.barh(dff['name'], dff['value'], color=[colors[group_lk[x]] for x in dff['name']])\n",
    "#     dx = dff['value'].max() / 200\n",
    "    \n",
    "#     for i, (value, name) in enumerate(zip(dff['value'], dff['name'])):\n",
    "#         ax.text(value-dx, i,     name,           size=14, weight=600, ha='right', va='bottom')\n",
    "#         ax.text(value-dx, i-.25, group_lk[name], size=10, color='#444444', ha='right', va='baseline')\n",
    "#         ax.text(value+dx, i,     f'{value:,.0f}',  size=14, ha='left',  va='center')\n",
    "#     ax.text(1, 0.4, current_day, transform=ax.transAxes, color='#777777', size=46, ha='right', weight=800)\n",
    "#     ax.text(0, 1.06, 'Population (thousands)', transform=ax.transAxes, size=12, color='#777777')\n",
    "#     ax.xaxis.set_major_formatter(ticker.StrMethodFormatter('{x:,.0f}'))\n",
    "#     ax.xaxis.set_ticks_position('top')\n",
    "#     ax.tick_params(axis='x', colors='#777777', labelsize=12)\n",
    "#     ax.set_yticks([])\n",
    "#     ax.margins(0, 0.01)\n",
    "#     ax.grid(which='major', axis='x', linestyle='-')\n",
    "#     ax.set_axisbelow(True)\n",
    "    \n",
    "#     ax.text(0, 1.15, 'Coronavirus',\n",
    "#             transform=ax.transAxes, size=24, weight=600, ha='left', va='top')\n",
    "# #     ax.text(1, 0, 'by @pratapvardhan; credit @jburnmurdoch', transform=ax.transAxes, color='#777777', ha='right',\n",
    "# #             bbox=dict(facecolor='white', alpha=0.8, edgecolor='white'))\n",
    "#     plt.box(False)"
   ]
  },
  {
   "cell_type": "code",
   "execution_count": 42,
   "metadata": {
    "execution": {
     "iopub.execute_input": "2020-12-21T00:15:26.021825Z",
     "iopub.status.busy": "2020-12-21T00:15:26.021222Z",
     "iopub.status.idle": "2020-12-21T00:15:26.023481Z",
     "shell.execute_reply": "2020-12-21T00:15:26.022876Z"
    },
    "papermill": {
     "duration": 0.036607,
     "end_time": "2020-12-21T00:15:26.023613",
     "exception": false,
     "start_time": "2020-12-21T00:15:25.987006",
     "status": "completed"
    },
    "tags": []
   },
   "outputs": [],
   "source": [
    "# #hide_input\n",
    "# fig, ax = plt.subplots(figsize=(15, 8))\n",
    "# animator = animation.FuncAnimation(fig, draw_barchart, frames=range(g.day.values.min(), g.day.values.max()))\n",
    "# HTML(animator.to_jshtml())\n",
    "# # or use animator.to_html5_video() or animator.save() "
   ]
  },
  {
   "cell_type": "code",
   "execution_count": null,
   "metadata": {
    "papermill": {
     "duration": 0.030742,
     "end_time": "2020-12-21T00:15:26.085711",
     "exception": false,
     "start_time": "2020-12-21T00:15:26.054969",
     "status": "completed"
    },
    "tags": []
   },
   "outputs": [],
   "source": []
  },
  {
   "cell_type": "code",
   "execution_count": null,
   "metadata": {
    "papermill": {
     "duration": 0.030236,
     "end_time": "2020-12-21T00:15:26.146628",
     "exception": false,
     "start_time": "2020-12-21T00:15:26.116392",
     "status": "completed"
    },
    "tags": []
   },
   "outputs": [],
   "source": []
  },
  {
   "cell_type": "code",
   "execution_count": null,
   "metadata": {
    "papermill": {
     "duration": 0.030597,
     "end_time": "2020-12-21T00:15:26.207583",
     "exception": false,
     "start_time": "2020-12-21T00:15:26.176986",
     "status": "completed"
    },
    "tags": []
   },
   "outputs": [],
   "source": []
  }
 ],
 "metadata": {
  "kernelspec": {
   "display_name": "Python 3",
   "language": "python",
   "name": "python3"
  },
  "language_info": {
   "codemirror_mode": {
    "name": "ipython",
    "version": 3
   },
   "file_extension": ".py",
   "mimetype": "text/x-python",
   "name": "python",
   "nbconvert_exporter": "python",
   "pygments_lexer": "ipython3",
   "version": "3.6.12"
  },
  "papermill": {
   "duration": 7.88074,
   "end_time": "2020-12-21T00:15:26.545976",
   "environment_variables": {},
   "exception": null,
   "input_path": "2020-03-21-covid19exp.ipynb",
   "output_path": "2020-03-21-covid19exp.ipynb",
   "parameters": {},
   "start_time": "2020-12-21T00:15:18.665236",
   "version": "2.0.0"
  }
 },
 "nbformat": 4,
 "nbformat_minor": 4
}