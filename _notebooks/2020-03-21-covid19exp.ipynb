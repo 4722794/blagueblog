{
 "cells": [
  {
   "cell_type": "markdown",
   "metadata": {
    "papermill": {
     "duration": 0.030473,
     "end_time": "2020-11-25T00:10:41.951794",
     "exception": false,
     "start_time": "2020-11-25T00:10:41.921321",
     "status": "completed"
    },
    "tags": []
   },
   "source": [
    "# COVID-19 Case Race\n",
    "> A race chart to see rising cases around the world\n",
    "\n",
    "- author: Hargun Oberoi\n",
    "- image: images/covid-overview.png\n",
    "- hide: false\n",
    "- badges: false"
   ]
  },
  {
   "cell_type": "code",
   "execution_count": 1,
   "metadata": {
    "execution": {
     "iopub.execute_input": "2020-11-25T00:10:42.010299Z",
     "iopub.status.busy": "2020-11-25T00:10:42.009775Z",
     "iopub.status.idle": "2020-11-25T00:10:42.308239Z",
     "shell.execute_reply": "2020-11-25T00:10:42.307683Z"
    },
    "papermill": {
     "duration": 0.329367,
     "end_time": "2020-11-25T00:10:42.308411",
     "exception": false,
     "start_time": "2020-11-25T00:10:41.979044",
     "status": "completed"
    },
    "tags": []
   },
   "outputs": [],
   "source": [
    "#hide\n",
    "import numpy as np\n",
    "import pandas as pd\n",
    "from jinja2 import Template\n",
    "from IPython.display import HTML"
   ]
  },
  {
   "cell_type": "code",
   "execution_count": 2,
   "metadata": {
    "execution": {
     "iopub.execute_input": "2020-11-25T00:10:42.370189Z",
     "iopub.status.busy": "2020-11-25T00:10:42.369649Z",
     "iopub.status.idle": "2020-11-25T00:10:42.371362Z",
     "shell.execute_reply": "2020-11-25T00:10:42.371749Z"
    },
    "papermill": {
     "duration": 0.03446,
     "end_time": "2020-11-25T00:10:42.371894",
     "exception": false,
     "start_time": "2020-11-25T00:10:42.337434",
     "status": "completed"
    },
    "tags": []
   },
   "outputs": [],
   "source": [
    "#hide\n",
    "\n",
    "# FETCH\n",
    "base_url = 'https://raw.githubusercontent.com/pratapvardhan/notebooks/master/covid19/'\n",
    "paths = {\n",
    "    'mapping': base_url + 'mapping_countries.csv',\n",
    "    'overview': base_url + 'overview.tpl'\n",
    "}"
   ]
  },
  {
   "cell_type": "code",
   "execution_count": 3,
   "metadata": {
    "execution": {
     "iopub.execute_input": "2020-11-25T00:10:42.434641Z",
     "iopub.status.busy": "2020-11-25T00:10:42.434123Z",
     "iopub.status.idle": "2020-11-25T00:10:42.436760Z",
     "shell.execute_reply": "2020-11-25T00:10:42.437153Z"
    },
    "papermill": {
     "duration": 0.038872,
     "end_time": "2020-11-25T00:10:42.437294",
     "exception": false,
     "start_time": "2020-11-25T00:10:42.398422",
     "status": "completed"
    },
    "tags": []
   },
   "outputs": [
    {
     "data": {
      "text/plain": [
       "'https://raw.githubusercontent.com/pratapvardhan/notebooks/master/covid19/mapping_countries.csv'"
      ]
     },
     "execution_count": 3,
     "metadata": {},
     "output_type": "execute_result"
    }
   ],
   "source": [
    "#hide\n",
    "paths['mapping']"
   ]
  },
  {
   "cell_type": "code",
   "execution_count": 4,
   "metadata": {
    "execution": {
     "iopub.execute_input": "2020-11-25T00:10:43.013165Z",
     "iopub.status.busy": "2020-11-25T00:10:43.012596Z",
     "iopub.status.idle": "2020-11-25T00:10:43.018374Z",
     "shell.execute_reply": "2020-11-25T00:10:43.017944Z"
    },
    "papermill": {
     "duration": 0.554185,
     "end_time": "2020-11-25T00:10:43.018500",
     "exception": false,
     "start_time": "2020-11-25T00:10:42.464315",
     "status": "completed"
    },
    "tags": []
   },
   "outputs": [],
   "source": [
    "#hide\n",
    "def get_mappings(url):\n",
    "    df = pd.read_csv(url)\n",
    "    return {\n",
    "        'df': df,\n",
    "        'replace.country': dict(df.dropna(subset=['Name']).set_index('Country')['Name']),\n",
    "        'map.continent': dict(df.set_index('Name')['Continent'])\n",
    "    }"
   ]
  },
  {
   "cell_type": "code",
   "execution_count": 5,
   "metadata": {
    "execution": {
     "iopub.execute_input": "2020-11-25T00:10:44.311051Z",
     "iopub.status.busy": "2020-11-25T00:10:44.310471Z",
     "iopub.status.idle": "2020-11-25T00:10:44.379618Z",
     "shell.execute_reply": "2020-11-25T00:10:44.379081Z"
    },
    "papermill": {
     "duration": 0.71898,
     "end_time": "2020-11-25T00:10:44.379769",
     "exception": false,
     "start_time": "2020-11-25T00:10:43.660789",
     "status": "completed"
    },
    "tags": []
   },
   "outputs": [],
   "source": [
    "#hide\n",
    "mapping = get_mappings(paths['mapping'])"
   ]
  },
  {
   "cell_type": "code",
   "execution_count": 6,
   "metadata": {
    "execution": {
     "iopub.execute_input": "2020-11-25T00:10:45.038448Z",
     "iopub.status.busy": "2020-11-25T00:10:45.037916Z",
     "iopub.status.idle": "2020-11-25T00:10:45.039887Z",
     "shell.execute_reply": "2020-11-25T00:10:45.039385Z"
    },
    "papermill": {
     "duration": 0.033727,
     "end_time": "2020-11-25T00:10:45.040004",
     "exception": false,
     "start_time": "2020-11-25T00:10:45.006277",
     "status": "completed"
    },
    "tags": []
   },
   "outputs": [],
   "source": [
    "#hide\n",
    "def get_template(path):\n",
    "    from urllib.parse import urlparse\n",
    "    if bool(urlparse(path).netloc):\n",
    "        from urllib.request import urlopen\n",
    "        return urlopen(path).read().decode('utf8')\n",
    "    return open(path).read()"
   ]
  },
  {
   "cell_type": "code",
   "execution_count": 7,
   "metadata": {
    "execution": {
     "iopub.execute_input": "2020-11-25T00:10:45.097503Z",
     "iopub.status.busy": "2020-11-25T00:10:45.096994Z",
     "iopub.status.idle": "2020-11-25T00:10:45.099347Z",
     "shell.execute_reply": "2020-11-25T00:10:45.098941Z"
    },
    "papermill": {
     "duration": 0.033062,
     "end_time": "2020-11-25T00:10:45.099458",
     "exception": false,
     "start_time": "2020-11-25T00:10:45.066396",
     "status": "completed"
    },
    "tags": []
   },
   "outputs": [],
   "source": [
    "#hide\n",
    "def get_frame(name):\n",
    "    url = (\n",
    "        'https://raw.githubusercontent.com/CSSEGISandData/COVID-19/master/csse_covid_19_data/'\n",
    "        f'csse_covid_19_time_series/time_series_covid19_{name}_global.csv')\n",
    "    df = pd.read_csv(url)\n",
    "    # rename countries\n",
    "    df['Country/Region'] = df['Country/Region'].replace(mapping['replace.country'])\n",
    "    return df"
   ]
  },
  {
   "cell_type": "code",
   "execution_count": 8,
   "metadata": {
    "execution": {
     "iopub.execute_input": "2020-11-25T00:10:45.157426Z",
     "iopub.status.busy": "2020-11-25T00:10:45.156913Z",
     "iopub.status.idle": "2020-11-25T00:10:45.159079Z",
     "shell.execute_reply": "2020-11-25T00:10:45.158672Z"
    },
    "papermill": {
     "duration": 0.033579,
     "end_time": "2020-11-25T00:10:45.159220",
     "exception": false,
     "start_time": "2020-11-25T00:10:45.125641",
     "status": "completed"
    },
    "tags": []
   },
   "outputs": [],
   "source": [
    "#hide\n",
    "def get_dates(df):\n",
    "    dt_cols = df.columns[~df.columns.isin(['Province/State', 'Country/Region', 'Lat', 'Long'])]\n",
    "    LAST_DATE_I = -1\n",
    "    # sometimes last column may be empty, then go backwards\n",
    "    for i in range(-1, -len(dt_cols), -1):\n",
    "        if not df[dt_cols[i]].fillna(0).eq(0).all():\n",
    "            LAST_DATE_I = i\n",
    "            break\n",
    "    return LAST_DATE_I, dt_cols"
   ]
  },
  {
   "cell_type": "code",
   "execution_count": 9,
   "metadata": {
    "execution": {
     "iopub.execute_input": "2020-11-25T00:10:45.218195Z",
     "iopub.status.busy": "2020-11-25T00:10:45.217660Z",
     "iopub.status.idle": "2020-11-25T00:10:45.395965Z",
     "shell.execute_reply": "2020-11-25T00:10:45.395488Z"
    },
    "papermill": {
     "duration": 0.210061,
     "end_time": "2020-11-25T00:10:45.396103",
     "exception": false,
     "start_time": "2020-11-25T00:10:45.186042",
     "status": "completed"
    },
    "tags": []
   },
   "outputs": [],
   "source": [
    "#hide\n",
    "COL_REGION = 'Country/Region'\n",
    "# Confirmed, Recovered, Deaths\n",
    "df = get_frame('confirmed')\n",
    "# dft_: timeseries, dfc_: today country agg\n",
    "dft_cases = df\n",
    "dft_deaths = get_frame('deaths')\n",
    "dft_recovered = get_frame('recovered')\n",
    "LAST_DATE_I, dt_cols = get_dates(df)"
   ]
  },
  {
   "cell_type": "code",
   "execution_count": 10,
   "metadata": {
    "execution": {
     "iopub.execute_input": "2020-11-25T00:10:45.455743Z",
     "iopub.status.busy": "2020-11-25T00:10:45.455113Z",
     "iopub.status.idle": "2020-11-25T00:10:45.456664Z",
     "shell.execute_reply": "2020-11-25T00:10:45.457117Z"
    },
    "papermill": {
     "duration": 0.03437,
     "end_time": "2020-11-25T00:10:45.457278",
     "exception": false,
     "start_time": "2020-11-25T00:10:45.422908",
     "status": "completed"
    },
    "tags": []
   },
   "outputs": [],
   "source": [
    "#hide\n",
    "LAST_DATE_I, dt_cols = get_dates(df)\n",
    "dt_today =dt_cols[LAST_DATE_I]\n",
    "# dt_5day = dt_cols[LAST_DATE_I - 5]\n",
    "dt_yday = dt_cols[LAST_DATE_I - 1]"
   ]
  },
  {
   "cell_type": "code",
   "execution_count": 11,
   "metadata": {
    "execution": {
     "iopub.execute_input": "2020-11-25T00:10:45.521335Z",
     "iopub.status.busy": "2020-11-25T00:10:45.519070Z",
     "iopub.status.idle": "2020-11-25T00:10:45.525966Z",
     "shell.execute_reply": "2020-11-25T00:10:45.525050Z"
    },
    "papermill": {
     "duration": 0.041677,
     "end_time": "2020-11-25T00:10:45.526090",
     "exception": false,
     "start_time": "2020-11-25T00:10:45.484413",
     "status": "completed"
    },
    "tags": []
   },
   "outputs": [],
   "source": [
    "#hide\n",
    "dfc_cases = dft_cases.groupby(COL_REGION)[dt_today].sum()\n",
    "dfc_deaths = dft_deaths.groupby(COL_REGION)[dt_today].sum()\n",
    "# dfp_cases = dft_cases.groupby(COL_REGION)[dt_5day].sum()\n",
    "# dfp_deaths = dft_deaths.groupby(COL_REGION)[dt_5day].sum()\n",
    "dfp_cases = dft_cases.groupby(COL_REGION)[dt_yday].sum()\n",
    "dfp_deaths = dft_deaths.groupby(COL_REGION)[dt_yday].sum()"
   ]
  },
  {
   "cell_type": "code",
   "execution_count": 12,
   "metadata": {
    "execution": {
     "iopub.execute_input": "2020-11-25T00:10:45.585557Z",
     "iopub.status.busy": "2020-11-25T00:10:45.585028Z",
     "iopub.status.idle": "2020-11-25T00:10:45.589273Z",
     "shell.execute_reply": "2020-11-25T00:10:45.588856Z"
    },
    "papermill": {
     "duration": 0.036668,
     "end_time": "2020-11-25T00:10:45.589391",
     "exception": false,
     "start_time": "2020-11-25T00:10:45.552723",
     "status": "completed"
    },
    "tags": []
   },
   "outputs": [],
   "source": [
    "#hide\n",
    "df_table = (pd.DataFrame(dict(Cases = dfc_cases, Deaths = dfc_deaths, PCases = dfp_cases, PDeaths = dfp_deaths))\n",
    "            .sort_values(by = ['Cases','Deaths'], ascending = [False, False])\n",
    "            .reset_index())"
   ]
  },
  {
   "cell_type": "code",
   "execution_count": 13,
   "metadata": {
    "execution": {
     "iopub.execute_input": "2020-11-25T00:10:45.658543Z",
     "iopub.status.busy": "2020-11-25T00:10:45.658021Z",
     "iopub.status.idle": "2020-11-25T00:10:45.664855Z",
     "shell.execute_reply": "2020-11-25T00:10:45.664418Z"
    },
    "papermill": {
     "duration": 0.049439,
     "end_time": "2020-11-25T00:10:45.664974",
     "exception": false,
     "start_time": "2020-11-25T00:10:45.615535",
     "status": "completed"
    },
    "tags": []
   },
   "outputs": [
    {
     "data": {
      "text/html": [
       "<div>\n",
       "<style scoped>\n",
       "    .dataframe tbody tr th:only-of-type {\n",
       "        vertical-align: middle;\n",
       "    }\n",
       "\n",
       "    .dataframe tbody tr th {\n",
       "        vertical-align: top;\n",
       "    }\n",
       "\n",
       "    .dataframe thead th {\n",
       "        text-align: right;\n",
       "    }\n",
       "</style>\n",
       "<table border=\"1\" class=\"dataframe\">\n",
       "  <thead>\n",
       "    <tr style=\"text-align: right;\">\n",
       "      <th></th>\n",
       "      <th>Country/Region</th>\n",
       "      <th>Cases</th>\n",
       "      <th>Deaths</th>\n",
       "      <th>PCases</th>\n",
       "      <th>PDeaths</th>\n",
       "      <th>Cases (+)</th>\n",
       "      <th>Deaths (+)</th>\n",
       "      <th>Fatality Rate</th>\n",
       "      <th>Continent</th>\n",
       "    </tr>\n",
       "  </thead>\n",
       "  <tbody>\n",
       "    <tr>\n",
       "      <th>0</th>\n",
       "      <td>US</td>\n",
       "      <td>12418311</td>\n",
       "      <td>257779</td>\n",
       "      <td>12246849</td>\n",
       "      <td>256866</td>\n",
       "      <td>171462</td>\n",
       "      <td>913</td>\n",
       "      <td>2.08</td>\n",
       "      <td>North America</td>\n",
       "    </tr>\n",
       "    <tr>\n",
       "      <th>1</th>\n",
       "      <td>India</td>\n",
       "      <td>9177840</td>\n",
       "      <td>134218</td>\n",
       "      <td>9139865</td>\n",
       "      <td>133738</td>\n",
       "      <td>37975</td>\n",
       "      <td>480</td>\n",
       "      <td>1.46</td>\n",
       "      <td>Asia</td>\n",
       "    </tr>\n",
       "    <tr>\n",
       "      <th>2</th>\n",
       "      <td>Brazil</td>\n",
       "      <td>6087608</td>\n",
       "      <td>169485</td>\n",
       "      <td>6071401</td>\n",
       "      <td>169183</td>\n",
       "      <td>16207</td>\n",
       "      <td>302</td>\n",
       "      <td>2.78</td>\n",
       "      <td>South America</td>\n",
       "    </tr>\n",
       "    <tr>\n",
       "      <th>3</th>\n",
       "      <td>France</td>\n",
       "      <td>2195940</td>\n",
       "      <td>49312</td>\n",
       "      <td>2191180</td>\n",
       "      <td>48807</td>\n",
       "      <td>4760</td>\n",
       "      <td>505</td>\n",
       "      <td>2.25</td>\n",
       "      <td>Europe</td>\n",
       "    </tr>\n",
       "    <tr>\n",
       "      <th>4</th>\n",
       "      <td>Russia</td>\n",
       "      <td>2096749</td>\n",
       "      <td>36192</td>\n",
       "      <td>2071858</td>\n",
       "      <td>35838</td>\n",
       "      <td>24891</td>\n",
       "      <td>354</td>\n",
       "      <td>1.73</td>\n",
       "      <td>Europe</td>\n",
       "    </tr>\n",
       "  </tbody>\n",
       "</table>\n",
       "</div>"
      ],
      "text/plain": [
       "  Country/Region     Cases  Deaths    PCases  PDeaths  Cases (+)  Deaths (+)  \\\n",
       "0             US  12418311  257779  12246849   256866     171462         913   \n",
       "1          India   9177840  134218   9139865   133738      37975         480   \n",
       "2         Brazil   6087608  169485   6071401   169183      16207         302   \n",
       "3         France   2195940   49312   2191180    48807       4760         505   \n",
       "4         Russia   2096749   36192   2071858    35838      24891         354   \n",
       "\n",
       "   Fatality Rate      Continent  \n",
       "0           2.08  North America  \n",
       "1           1.46           Asia  \n",
       "2           2.78  South America  \n",
       "3           2.25         Europe  \n",
       "4           1.73         Europe  "
      ]
     },
     "execution_count": 13,
     "metadata": {},
     "output_type": "execute_result"
    }
   ],
   "source": [
    "#hide\n",
    "for c in 'Cases, Deaths'.split(', '):\n",
    "    df_table[f'{c} (+)'] = (df_table[c] - df_table[f'P{c}']).clip(0)\n",
    "    #Clip ça veut dire, les chiffres negatif sont interdit\n",
    "df_table['Fatality Rate'] = (100* df_table['Deaths']/ df_table['Cases']).round(2)\n",
    "df_table['Continent'] = df_table['Country/Region'].map(mapping['map.continent'])\n",
    "df_table.head(5)"
   ]
  },
  {
   "cell_type": "code",
   "execution_count": 14,
   "metadata": {
    "execution": {
     "iopub.execute_input": "2020-11-25T00:10:45.724093Z",
     "iopub.status.busy": "2020-11-25T00:10:45.723580Z",
     "iopub.status.idle": "2020-11-25T00:10:45.725393Z",
     "shell.execute_reply": "2020-11-25T00:10:45.725799Z"
    },
    "papermill": {
     "duration": 0.034071,
     "end_time": "2020-11-25T00:10:45.725932",
     "exception": false,
     "start_time": "2020-11-25T00:10:45.691861",
     "status": "completed"
    },
    "tags": []
   },
   "outputs": [],
   "source": [
    "#hide\n",
    "#delete problematic countries from table\n",
    "df_table = df_table[~df_table['Country/Region'].isin(['Cape Verde', 'Cruise Ship', 'Kosovo'])]"
   ]
  },
  {
   "cell_type": "code",
   "execution_count": 15,
   "metadata": {
    "execution": {
     "iopub.execute_input": "2020-11-25T00:10:45.788478Z",
     "iopub.status.busy": "2020-11-25T00:10:45.787941Z",
     "iopub.status.idle": "2020-11-25T00:10:45.804279Z",
     "shell.execute_reply": "2020-11-25T00:10:45.804695Z"
    },
    "papermill": {
     "duration": 0.052032,
     "end_time": "2020-11-25T00:10:45.804846",
     "exception": false,
     "start_time": "2020-11-25T00:10:45.752814",
     "status": "completed"
    },
    "tags": []
   },
   "outputs": [
    {
     "data": {
      "text/html": [
       "<div>\n",
       "<style scoped>\n",
       "    .dataframe tbody tr th:only-of-type {\n",
       "        vertical-align: middle;\n",
       "    }\n",
       "\n",
       "    .dataframe tbody tr th {\n",
       "        vertical-align: top;\n",
       "    }\n",
       "\n",
       "    .dataframe thead th {\n",
       "        text-align: right;\n",
       "    }\n",
       "</style>\n",
       "<table border=\"1\" class=\"dataframe\">\n",
       "  <thead>\n",
       "    <tr style=\"text-align: right;\">\n",
       "      <th></th>\n",
       "      <th>Country/Region</th>\n",
       "      <th>Cases</th>\n",
       "      <th>Deaths</th>\n",
       "      <th>PCases</th>\n",
       "      <th>PDeaths</th>\n",
       "      <th>Cases (+)</th>\n",
       "      <th>Deaths (+)</th>\n",
       "      <th>Fatality Rate</th>\n",
       "      <th>Continent</th>\n",
       "    </tr>\n",
       "  </thead>\n",
       "  <tbody>\n",
       "    <tr>\n",
       "      <th>0</th>\n",
       "      <td>US</td>\n",
       "      <td>12418311</td>\n",
       "      <td>257779</td>\n",
       "      <td>12246849</td>\n",
       "      <td>256866</td>\n",
       "      <td>171462</td>\n",
       "      <td>913</td>\n",
       "      <td>2.1</td>\n",
       "      <td>North America</td>\n",
       "    </tr>\n",
       "    <tr>\n",
       "      <th>1</th>\n",
       "      <td>India</td>\n",
       "      <td>9177840</td>\n",
       "      <td>134218</td>\n",
       "      <td>9139865</td>\n",
       "      <td>133738</td>\n",
       "      <td>37975</td>\n",
       "      <td>480</td>\n",
       "      <td>1.5</td>\n",
       "      <td>Asia</td>\n",
       "    </tr>\n",
       "    <tr>\n",
       "      <th>2</th>\n",
       "      <td>Brazil</td>\n",
       "      <td>6087608</td>\n",
       "      <td>169485</td>\n",
       "      <td>6071401</td>\n",
       "      <td>169183</td>\n",
       "      <td>16207</td>\n",
       "      <td>302</td>\n",
       "      <td>2.8</td>\n",
       "      <td>South America</td>\n",
       "    </tr>\n",
       "    <tr>\n",
       "      <th>3</th>\n",
       "      <td>France</td>\n",
       "      <td>2195940</td>\n",
       "      <td>49312</td>\n",
       "      <td>2191180</td>\n",
       "      <td>48807</td>\n",
       "      <td>4760</td>\n",
       "      <td>505</td>\n",
       "      <td>2.2</td>\n",
       "      <td>Europe</td>\n",
       "    </tr>\n",
       "    <tr>\n",
       "      <th>4</th>\n",
       "      <td>Russia</td>\n",
       "      <td>2096749</td>\n",
       "      <td>36192</td>\n",
       "      <td>2071858</td>\n",
       "      <td>35838</td>\n",
       "      <td>24891</td>\n",
       "      <td>354</td>\n",
       "      <td>1.7</td>\n",
       "      <td>Europe</td>\n",
       "    </tr>\n",
       "  </tbody>\n",
       "</table>\n",
       "</div>"
      ],
      "text/plain": [
       "  Country/Region     Cases  Deaths    PCases  PDeaths  Cases (+)  Deaths (+)  \\\n",
       "0             US  12418311  257779  12246849   256866     171462         913   \n",
       "1          India   9177840  134218   9139865   133738      37975         480   \n",
       "2         Brazil   6087608  169485   6071401   169183      16207         302   \n",
       "3         France   2195940   49312   2191180    48807       4760         505   \n",
       "4         Russia   2096749   36192   2071858    35838      24891         354   \n",
       "\n",
       "   Fatality Rate      Continent  \n",
       "0            2.1  North America  \n",
       "1            1.5           Asia  \n",
       "2            2.8  South America  \n",
       "3            2.2         Europe  \n",
       "4            1.7         Europe  "
      ]
     },
     "execution_count": 15,
     "metadata": {},
     "output_type": "execute_result"
    }
   ],
   "source": [
    "#hide\n",
    "df_table = (pd.DataFrame(dict(Cases=dfc_cases, Deaths=dfc_deaths, PCases=dfp_cases, PDeaths=dfp_deaths))\n",
    "             .sort_values(by=['Cases', 'Deaths'], ascending=[False, False])\n",
    "             .reset_index())\n",
    "df_table.rename(columns={'index': 'Country/Region'}, inplace=True)\n",
    "for c in 'Cases, Deaths'.split(', '):\n",
    "    df_table[f'{c} (+)'] = (df_table[c] - df_table[f'P{c}']).clip(0)  # DATA BUG\n",
    "df_table['Fatality Rate'] = (100 * df_table['Deaths'] / df_table['Cases']).round(1)\n",
    "df_table['Continent'] = df_table['Country/Region'].map(mapping['map.continent'])\n",
    "df_table.head(5)"
   ]
  },
  {
   "cell_type": "code",
   "execution_count": 16,
   "metadata": {
    "execution": {
     "iopub.execute_input": "2020-11-25T00:10:45.866543Z",
     "iopub.status.busy": "2020-11-25T00:10:45.865925Z",
     "iopub.status.idle": "2020-11-25T00:10:45.867412Z",
     "shell.execute_reply": "2020-11-25T00:10:45.867807Z"
    },
    "papermill": {
     "duration": 0.035472,
     "end_time": "2020-11-25T00:10:45.867952",
     "exception": false,
     "start_time": "2020-11-25T00:10:45.832480",
     "status": "completed"
    },
    "tags": []
   },
   "outputs": [],
   "source": [
    "#hide\n",
    "#delete problematic countries from table\n",
    "df_table = df_table[~df_table['Country/Region'].isin(['Cape Verde', 'Cruise Ship', 'Kosovo'])]"
   ]
  },
  {
   "cell_type": "code",
   "execution_count": 17,
   "metadata": {
    "execution": {
     "iopub.execute_input": "2020-11-25T00:10:45.935453Z",
     "iopub.status.busy": "2020-11-25T00:10:45.934927Z",
     "iopub.status.idle": "2020-11-25T00:10:45.942249Z",
     "shell.execute_reply": "2020-11-25T00:10:45.942639Z"
    },
    "papermill": {
     "duration": 0.047493,
     "end_time": "2020-11-25T00:10:45.942782",
     "exception": false,
     "start_time": "2020-11-25T00:10:45.895289",
     "status": "completed"
    },
    "tags": []
   },
   "outputs": [],
   "source": [
    "#hide\n",
    "metrics = [df_table.columns[index] for index in [1,2,5,6]]\n",
    "# s_china = df_table[df_table['Country/Region'].eq('China')][metrics].sum().add_prefix('China ')\n",
    "s_us = df_table[df_table['Country/Region'].eq('US')][metrics].sum().add_prefix('US ')\n",
    "s_eu = df_table[df_table['Continent'].eq('Europe')][metrics].sum().add_prefix('EU ')\n",
    "s_ind = df_table[df_table['Country/Region'].eq('India')][metrics].sum().add_prefix('India ')\n",
    "summary = {'updated': pd.to_datetime(dt_today), 'since': pd.to_datetime(dt_yday)}\n",
    "summary = {'updated': pd.to_datetime(dt_today), 'since': pd.to_datetime(dt_yday)}\n",
    "summary = {**summary, **df_table[metrics].sum(), **s_ind, **s_us, **s_eu}"
   ]
  },
  {
   "cell_type": "code",
   "execution_count": 18,
   "metadata": {
    "execution": {
     "iopub.execute_input": "2020-11-25T00:10:46.005116Z",
     "iopub.status.busy": "2020-11-25T00:10:46.004549Z",
     "iopub.status.idle": "2020-11-25T00:10:46.013328Z",
     "shell.execute_reply": "2020-11-25T00:10:46.012899Z"
    },
    "papermill": {
     "duration": 0.043035,
     "end_time": "2020-11-25T00:10:46.013458",
     "exception": false,
     "start_time": "2020-11-25T00:10:45.970423",
     "status": "completed"
    },
    "tags": []
   },
   "outputs": [],
   "source": [
    "#hide\n",
    "dft_ct_new_cases = dft_cases.groupby(COL_REGION)[dt_cols].sum().diff(axis=1).fillna(0).astype(int)"
   ]
  },
  {
   "cell_type": "code",
   "execution_count": 19,
   "metadata": {
    "execution": {
     "iopub.execute_input": "2020-11-25T00:10:46.074851Z",
     "iopub.status.busy": "2020-11-25T00:10:46.074318Z",
     "iopub.status.idle": "2020-11-25T00:10:46.076148Z",
     "shell.execute_reply": "2020-11-25T00:10:46.076604Z"
    },
    "papermill": {
     "duration": 0.035631,
     "end_time": "2020-11-25T00:10:46.076746",
     "exception": false,
     "start_time": "2020-11-25T00:10:46.041115",
     "status": "completed"
    },
    "tags": []
   },
   "outputs": [],
   "source": [
    "#hide\n",
    "everydaycases = dft_ct_new_cases.cumsum(axis=1)"
   ]
  },
  {
   "cell_type": "code",
   "execution_count": 20,
   "metadata": {
    "execution": {
     "iopub.execute_input": "2020-11-25T00:10:46.136429Z",
     "iopub.status.busy": "2020-11-25T00:10:46.135912Z",
     "iopub.status.idle": "2020-11-25T00:10:48.489636Z",
     "shell.execute_reply": "2020-11-25T00:10:48.489123Z"
    },
    "papermill": {
     "duration": 2.385461,
     "end_time": "2020-11-25T00:10:48.489766",
     "exception": false,
     "start_time": "2020-11-25T00:10:46.104305",
     "status": "completed"
    },
    "tags": []
   },
   "outputs": [],
   "source": [
    "#hide\n",
    "import pandas as pd\n",
    "import matplotlib.pyplot as plt\n",
    "import matplotlib.ticker as ticker\n",
    "import matplotlib.animation as animation\n",
    "from IPython.display import HTML"
   ]
  },
  {
   "cell_type": "code",
   "execution_count": 21,
   "metadata": {
    "execution": {
     "iopub.execute_input": "2020-11-25T00:10:48.550349Z",
     "iopub.status.busy": "2020-11-25T00:10:48.549826Z",
     "iopub.status.idle": "2020-11-25T00:10:48.554174Z",
     "shell.execute_reply": "2020-11-25T00:10:48.554663Z"
    },
    "papermill": {
     "duration": 0.037527,
     "end_time": "2020-11-25T00:10:48.554806",
     "exception": false,
     "start_time": "2020-11-25T00:10:48.517279",
     "status": "completed"
    },
    "tags": []
   },
   "outputs": [],
   "source": [
    "#hide\n",
    "t = everydaycases.stack()"
   ]
  },
  {
   "cell_type": "code",
   "execution_count": 22,
   "metadata": {
    "execution": {
     "iopub.execute_input": "2020-11-25T00:10:48.614379Z",
     "iopub.status.busy": "2020-11-25T00:10:48.613865Z",
     "iopub.status.idle": "2020-11-25T00:10:48.620498Z",
     "shell.execute_reply": "2020-11-25T00:10:48.620083Z"
    },
    "papermill": {
     "duration": 0.038307,
     "end_time": "2020-11-25T00:10:48.620649",
     "exception": false,
     "start_time": "2020-11-25T00:10:48.582342",
     "status": "completed"
    },
    "tags": []
   },
   "outputs": [],
   "source": [
    "#hide\n",
    "g = t.reset_index(['Country/Region'])"
   ]
  },
  {
   "cell_type": "code",
   "execution_count": 23,
   "metadata": {
    "execution": {
     "iopub.execute_input": "2020-11-25T00:10:48.679088Z",
     "iopub.status.busy": "2020-11-25T00:10:48.678572Z",
     "iopub.status.idle": "2020-11-25T00:10:48.680866Z",
     "shell.execute_reply": "2020-11-25T00:10:48.680433Z"
    },
    "papermill": {
     "duration": 0.03317,
     "end_time": "2020-11-25T00:10:48.680990",
     "exception": false,
     "start_time": "2020-11-25T00:10:48.647820",
     "status": "completed"
    },
    "tags": []
   },
   "outputs": [],
   "source": [
    "#hide\n",
    "g.index.name = 'date'"
   ]
  },
  {
   "cell_type": "code",
   "execution_count": 24,
   "metadata": {
    "execution": {
     "iopub.execute_input": "2020-11-25T00:10:48.739848Z",
     "iopub.status.busy": "2020-11-25T00:10:48.739322Z",
     "iopub.status.idle": "2020-11-25T00:10:48.741152Z",
     "shell.execute_reply": "2020-11-25T00:10:48.741535Z"
    },
    "papermill": {
     "duration": 0.033243,
     "end_time": "2020-11-25T00:10:48.741676",
     "exception": false,
     "start_time": "2020-11-25T00:10:48.708433",
     "status": "completed"
    },
    "tags": []
   },
   "outputs": [],
   "source": [
    "# #hide\n",
    "# g = g.reset_index(['date'])"
   ]
  },
  {
   "cell_type": "code",
   "execution_count": 25,
   "metadata": {
    "execution": {
     "iopub.execute_input": "2020-11-25T00:10:48.800280Z",
     "iopub.status.busy": "2020-11-25T00:10:48.799681Z",
     "iopub.status.idle": "2020-11-25T00:10:48.801161Z",
     "shell.execute_reply": "2020-11-25T00:10:48.801651Z"
    },
    "papermill": {
     "duration": 0.032958,
     "end_time": "2020-11-25T00:10:48.801804",
     "exception": false,
     "start_time": "2020-11-25T00:10:48.768846",
     "status": "completed"
    },
    "tags": []
   },
   "outputs": [],
   "source": [
    "#hide\n",
    "# g.head()"
   ]
  },
  {
   "cell_type": "code",
   "execution_count": 26,
   "metadata": {
    "execution": {
     "iopub.execute_input": "2020-11-25T00:10:48.861561Z",
     "iopub.status.busy": "2020-11-25T00:10:48.861010Z",
     "iopub.status.idle": "2020-11-25T00:10:48.863432Z",
     "shell.execute_reply": "2020-11-25T00:10:48.862990Z"
    },
    "papermill": {
     "duration": 0.033454,
     "end_time": "2020-11-25T00:10:48.863556",
     "exception": false,
     "start_time": "2020-11-25T00:10:48.830102",
     "status": "completed"
    },
    "tags": []
   },
   "outputs": [],
   "source": [
    "#hide\n",
    "# g.columns = ['date','country','cases']"
   ]
  },
  {
   "cell_type": "code",
   "execution_count": 27,
   "metadata": {
    "execution": {
     "iopub.execute_input": "2020-11-25T00:10:48.922420Z",
     "iopub.status.busy": "2020-11-25T00:10:48.921883Z",
     "iopub.status.idle": "2020-11-25T00:10:48.923973Z",
     "shell.execute_reply": "2020-11-25T00:10:48.923535Z"
    },
    "papermill": {
     "duration": 0.032957,
     "end_time": "2020-11-25T00:10:48.924097",
     "exception": false,
     "start_time": "2020-11-25T00:10:48.891140",
     "status": "completed"
    },
    "tags": []
   },
   "outputs": [],
   "source": [
    "#hide\n",
    "# g['continent'] = g.country"
   ]
  },
  {
   "cell_type": "code",
   "execution_count": 28,
   "metadata": {
    "execution": {
     "iopub.execute_input": "2020-11-25T00:10:48.983089Z",
     "iopub.status.busy": "2020-11-25T00:10:48.982571Z",
     "iopub.status.idle": "2020-11-25T00:10:48.984283Z",
     "shell.execute_reply": "2020-11-25T00:10:48.984801Z"
    },
    "papermill": {
     "duration": 0.033258,
     "end_time": "2020-11-25T00:10:48.984944",
     "exception": false,
     "start_time": "2020-11-25T00:10:48.951686",
     "status": "completed"
    },
    "tags": []
   },
   "outputs": [],
   "source": [
    "#hide\n",
    "# cols = list(g.columns.values)"
   ]
  },
  {
   "cell_type": "code",
   "execution_count": 29,
   "metadata": {
    "execution": {
     "iopub.execute_input": "2020-11-25T00:10:49.043643Z",
     "iopub.status.busy": "2020-11-25T00:10:49.043128Z",
     "iopub.status.idle": "2020-11-25T00:10:49.044983Z",
     "shell.execute_reply": "2020-11-25T00:10:49.045368Z"
    },
    "papermill": {
     "duration": 0.033313,
     "end_time": "2020-11-25T00:10:49.045506",
     "exception": false,
     "start_time": "2020-11-25T00:10:49.012193",
     "status": "completed"
    },
    "tags": []
   },
   "outputs": [],
   "source": [
    "#hide\n",
    "# cols.insert(0, cols.pop())"
   ]
  },
  {
   "cell_type": "code",
   "execution_count": 30,
   "metadata": {
    "execution": {
     "iopub.execute_input": "2020-11-25T00:10:49.103893Z",
     "iopub.status.busy": "2020-11-25T00:10:49.103380Z",
     "iopub.status.idle": "2020-11-25T00:10:49.105129Z",
     "shell.execute_reply": "2020-11-25T00:10:49.105536Z"
    },
    "papermill": {
     "duration": 0.032741,
     "end_time": "2020-11-25T00:10:49.105671",
     "exception": false,
     "start_time": "2020-11-25T00:10:49.072930",
     "status": "completed"
    },
    "tags": []
   },
   "outputs": [],
   "source": [
    "#hide\n",
    "# g = g[cols]"
   ]
  },
  {
   "cell_type": "code",
   "execution_count": 31,
   "metadata": {
    "execution": {
     "iopub.execute_input": "2020-11-25T00:10:49.163336Z",
     "iopub.status.busy": "2020-11-25T00:10:49.162831Z",
     "iopub.status.idle": "2020-11-25T00:10:49.164751Z",
     "shell.execute_reply": "2020-11-25T00:10:49.165191Z"
    },
    "papermill": {
     "duration": 0.032517,
     "end_time": "2020-11-25T00:10:49.165319",
     "exception": false,
     "start_time": "2020-11-25T00:10:49.132802",
     "status": "completed"
    },
    "tags": []
   },
   "outputs": [],
   "source": [
    "#hide\n",
    "# g['continent'] = g['continent'].map(mapping['map.continent'])"
   ]
  },
  {
   "cell_type": "code",
   "execution_count": 32,
   "metadata": {
    "execution": {
     "iopub.execute_input": "2020-11-25T00:10:49.224508Z",
     "iopub.status.busy": "2020-11-25T00:10:49.223994Z",
     "iopub.status.idle": "2020-11-25T00:10:49.226131Z",
     "shell.execute_reply": "2020-11-25T00:10:49.225719Z"
    },
    "papermill": {
     "duration": 0.033272,
     "end_time": "2020-11-25T00:10:49.226249",
     "exception": false,
     "start_time": "2020-11-25T00:10:49.192977",
     "status": "completed"
    },
    "tags": []
   },
   "outputs": [],
   "source": [
    "#hide\n",
    "# g.head()"
   ]
  },
  {
   "cell_type": "code",
   "execution_count": 33,
   "metadata": {
    "execution": {
     "iopub.execute_input": "2020-11-25T00:10:49.284083Z",
     "iopub.status.busy": "2020-11-25T00:10:49.283576Z",
     "iopub.status.idle": "2020-11-25T00:10:49.285695Z",
     "shell.execute_reply": "2020-11-25T00:10:49.285268Z"
    },
    "papermill": {
     "duration": 0.032406,
     "end_time": "2020-11-25T00:10:49.285805",
     "exception": false,
     "start_time": "2020-11-25T00:10:49.253399",
     "status": "completed"
    },
    "tags": []
   },
   "outputs": [],
   "source": [
    "# hide\n",
    "# g['date'] = g['date'].astype('datetime64[ns]')"
   ]
  },
  {
   "cell_type": "code",
   "execution_count": 34,
   "metadata": {
    "execution": {
     "iopub.execute_input": "2020-11-25T00:10:49.343455Z",
     "iopub.status.busy": "2020-11-25T00:10:49.342953Z",
     "iopub.status.idle": "2020-11-25T00:10:49.345271Z",
     "shell.execute_reply": "2020-11-25T00:10:49.344859Z"
    },
    "papermill": {
     "duration": 0.032424,
     "end_time": "2020-11-25T00:10:49.345385",
     "exception": false,
     "start_time": "2020-11-25T00:10:49.312961",
     "status": "completed"
    },
    "tags": []
   },
   "outputs": [],
   "source": [
    "#hide\n",
    "# g['date'] = g.date.dt.dayofyear"
   ]
  },
  {
   "cell_type": "code",
   "execution_count": 35,
   "metadata": {
    "execution": {
     "iopub.execute_input": "2020-11-25T00:10:49.617635Z",
     "iopub.status.busy": "2020-11-25T00:10:49.616282Z",
     "iopub.status.idle": "2020-11-25T00:10:49.620577Z",
     "shell.execute_reply": "2020-11-25T00:10:49.621309Z"
    },
    "papermill": {
     "duration": 0.248752,
     "end_time": "2020-11-25T00:10:49.621464",
     "exception": false,
     "start_time": "2020-11-25T00:10:49.372712",
     "status": "completed"
    },
    "tags": []
   },
   "outputs": [],
   "source": [
    "#hide\n",
    "# g = g.rename(columns= {'continent':'group','country':'name','cases':'value'})"
   ]
  },
  {
   "cell_type": "code",
   "execution_count": 36,
   "metadata": {
    "execution": {
     "iopub.execute_input": "2020-11-25T00:10:50.693361Z",
     "iopub.status.busy": "2020-11-25T00:10:50.692823Z",
     "iopub.status.idle": "2020-11-25T00:10:50.694489Z",
     "shell.execute_reply": "2020-11-25T00:10:50.694964Z"
    },
    "papermill": {
     "duration": 0.034752,
     "end_time": "2020-11-25T00:10:50.695104",
     "exception": false,
     "start_time": "2020-11-25T00:10:50.660352",
     "status": "completed"
    },
    "tags": []
   },
   "outputs": [],
   "source": [
    "#hide\n",
    "# cols = ['name','group','day','value']"
   ]
  },
  {
   "cell_type": "code",
   "execution_count": 37,
   "metadata": {
    "execution": {
     "iopub.execute_input": "2020-11-25T00:10:50.754193Z",
     "iopub.status.busy": "2020-11-25T00:10:50.753563Z",
     "iopub.status.idle": "2020-11-25T00:10:50.755030Z",
     "shell.execute_reply": "2020-11-25T00:10:50.755493Z"
    },
    "papermill": {
     "duration": 0.033075,
     "end_time": "2020-11-25T00:10:50.755648",
     "exception": false,
     "start_time": "2020-11-25T00:10:50.722573",
     "status": "completed"
    },
    "tags": []
   },
   "outputs": [],
   "source": [
    "#hide\n",
    "# g.rename(columns= {'date':'day'},inplace = True)"
   ]
  },
  {
   "cell_type": "code",
   "execution_count": 38,
   "metadata": {
    "execution": {
     "iopub.execute_input": "2020-11-25T00:10:50.814633Z",
     "iopub.status.busy": "2020-11-25T00:10:50.814124Z",
     "iopub.status.idle": "2020-11-25T00:10:50.816016Z",
     "shell.execute_reply": "2020-11-25T00:10:50.816400Z"
    },
    "papermill": {
     "duration": 0.03271,
     "end_time": "2020-11-25T00:10:50.816535",
     "exception": false,
     "start_time": "2020-11-25T00:10:50.783825",
     "status": "completed"
    },
    "tags": []
   },
   "outputs": [],
   "source": [
    "#hide\n",
    "# g = g[cols]"
   ]
  },
  {
   "cell_type": "code",
   "execution_count": 39,
   "metadata": {
    "execution": {
     "iopub.execute_input": "2020-11-25T00:10:50.874739Z",
     "iopub.status.busy": "2020-11-25T00:10:50.874228Z",
     "iopub.status.idle": "2020-11-25T00:10:50.876348Z",
     "shell.execute_reply": "2020-11-25T00:10:50.875940Z"
    },
    "papermill": {
     "duration": 0.032812,
     "end_time": "2020-11-25T00:10:50.876467",
     "exception": false,
     "start_time": "2020-11-25T00:10:50.843655",
     "status": "completed"
    },
    "tags": []
   },
   "outputs": [],
   "source": [
    "# #hide\n",
    "# g = g[g.group.notna()]"
   ]
  },
  {
   "cell_type": "code",
   "execution_count": 40,
   "metadata": {
    "execution": {
     "iopub.execute_input": "2020-11-25T00:10:50.934377Z",
     "iopub.status.busy": "2020-11-25T00:10:50.933854Z",
     "iopub.status.idle": "2020-11-25T00:10:50.936029Z",
     "shell.execute_reply": "2020-11-25T00:10:50.935625Z"
    },
    "papermill": {
     "duration": 0.032471,
     "end_time": "2020-11-25T00:10:50.936144",
     "exception": false,
     "start_time": "2020-11-25T00:10:50.903673",
     "status": "completed"
    },
    "tags": []
   },
   "outputs": [],
   "source": [
    "# #hide\n",
    "# colors = dict(zip(\n",
    "#     [\"Oceania\", \"Europe\", \"Asia\", \"South America\", \"Middle East\", \"North America\", \"Africa\"],\n",
    "#     [\"#adb0ff\", \"#ffb3ff\", \"#90d595\", \"#e48381\", \"#aafbff\", \"#f7bb5f\", \"#eafb50\"]\n",
    "# ))\n",
    "# group_lk = g.set_index('name')['group'].to_dict()"
   ]
  },
  {
   "cell_type": "code",
   "execution_count": null,
   "metadata": {
    "papermill": {
     "duration": 0.02743,
     "end_time": "2020-11-25T00:10:50.990773",
     "exception": false,
     "start_time": "2020-11-25T00:10:50.963343",
     "status": "completed"
    },
    "tags": []
   },
   "outputs": [],
   "source": []
  },
  {
   "cell_type": "code",
   "execution_count": 41,
   "metadata": {
    "execution": {
     "iopub.execute_input": "2020-11-25T00:10:51.050277Z",
     "iopub.status.busy": "2020-11-25T00:10:51.049749Z",
     "iopub.status.idle": "2020-11-25T00:10:51.051472Z",
     "shell.execute_reply": "2020-11-25T00:10:51.051956Z"
    },
    "papermill": {
     "duration": 0.033681,
     "end_time": "2020-11-25T00:10:51.052089",
     "exception": false,
     "start_time": "2020-11-25T00:10:51.018408",
     "status": "completed"
    },
    "tags": []
   },
   "outputs": [],
   "source": [
    "# #hide\n",
    "# fig, ax = plt.subplots(figsize=(15, 8))\n",
    "\n",
    "# def draw_barchart(current_day):\n",
    "#     dff = g[g['day'].eq(current_day)].sort_values(by='value', ascending=True).tail(10)\n",
    "#     ax.clear()\n",
    "#     ax.barh(dff['name'], dff['value'], color=[colors[group_lk[x]] for x in dff['name']])\n",
    "#     dx = dff['value'].max() / 200\n",
    "    \n",
    "#     for i, (value, name) in enumerate(zip(dff['value'], dff['name'])):\n",
    "#         ax.text(value-dx, i,     name,           size=14, weight=600, ha='right', va='bottom')\n",
    "#         ax.text(value-dx, i-.25, group_lk[name], size=10, color='#444444', ha='right', va='baseline')\n",
    "#         ax.text(value+dx, i,     f'{value:,.0f}',  size=14, ha='left',  va='center')\n",
    "#     ax.text(1, 0.4, current_day, transform=ax.transAxes, color='#777777', size=46, ha='right', weight=800)\n",
    "#     ax.text(0, 1.06, 'Population (thousands)', transform=ax.transAxes, size=12, color='#777777')\n",
    "#     ax.xaxis.set_major_formatter(ticker.StrMethodFormatter('{x:,.0f}'))\n",
    "#     ax.xaxis.set_ticks_position('top')\n",
    "#     ax.tick_params(axis='x', colors='#777777', labelsize=12)\n",
    "#     ax.set_yticks([])\n",
    "#     ax.margins(0, 0.01)\n",
    "#     ax.grid(which='major', axis='x', linestyle='-')\n",
    "#     ax.set_axisbelow(True)\n",
    "    \n",
    "#     ax.text(0, 1.15, 'Coronavirus',\n",
    "#             transform=ax.transAxes, size=24, weight=600, ha='left', va='top')\n",
    "# #     ax.text(1, 0, 'by @pratapvardhan; credit @jburnmurdoch', transform=ax.transAxes, color='#777777', ha='right',\n",
    "# #             bbox=dict(facecolor='white', alpha=0.8, edgecolor='white'))\n",
    "#     plt.box(False)"
   ]
  },
  {
   "cell_type": "code",
   "execution_count": 42,
   "metadata": {
    "execution": {
     "iopub.execute_input": "2020-11-25T00:10:51.110136Z",
     "iopub.status.busy": "2020-11-25T00:10:51.109544Z",
     "iopub.status.idle": "2020-11-25T00:10:51.111711Z",
     "shell.execute_reply": "2020-11-25T00:10:51.111220Z"
    },
    "papermill": {
     "duration": 0.032639,
     "end_time": "2020-11-25T00:10:51.111838",
     "exception": false,
     "start_time": "2020-11-25T00:10:51.079199",
     "status": "completed"
    },
    "tags": []
   },
   "outputs": [],
   "source": [
    "# #hide_input\n",
    "# fig, ax = plt.subplots(figsize=(15, 8))\n",
    "# animator = animation.FuncAnimation(fig, draw_barchart, frames=range(g.day.values.min(), g.day.values.max()))\n",
    "# HTML(animator.to_jshtml())\n",
    "# # or use animator.to_html5_video() or animator.save() "
   ]
  },
  {
   "cell_type": "code",
   "execution_count": null,
   "metadata": {
    "papermill": {
     "duration": 0.027045,
     "end_time": "2020-11-25T00:10:51.166716",
     "exception": false,
     "start_time": "2020-11-25T00:10:51.139671",
     "status": "completed"
    },
    "tags": []
   },
   "outputs": [],
   "source": []
  },
  {
   "cell_type": "code",
   "execution_count": null,
   "metadata": {
    "papermill": {
     "duration": 0.027102,
     "end_time": "2020-11-25T00:10:51.221342",
     "exception": false,
     "start_time": "2020-11-25T00:10:51.194240",
     "status": "completed"
    },
    "tags": []
   },
   "outputs": [],
   "source": []
  },
  {
   "cell_type": "code",
   "execution_count": null,
   "metadata": {
    "papermill": {
     "duration": 0.02737,
     "end_time": "2020-11-25T00:10:51.276204",
     "exception": false,
     "start_time": "2020-11-25T00:10:51.248834",
     "status": "completed"
    },
    "tags": []
   },
   "outputs": [],
   "source": []
  }
 ],
 "metadata": {
  "kernelspec": {
   "display_name": "Python 3",
   "language": "python",
   "name": "python3"
  },
  "language_info": {
   "codemirror_mode": {
    "name": "ipython",
    "version": 3
   },
   "file_extension": ".py",
   "mimetype": "text/x-python",
   "name": "python",
   "nbconvert_exporter": "python",
   "pygments_lexer": "ipython3",
   "version": "3.6.12"
  },
  "papermill": {
   "duration": 10.743223,
   "end_time": "2020-11-25T00:10:51.610693",
   "environment_variables": {},
   "exception": null,
   "input_path": "2020-03-21-covid19exp.ipynb",
   "output_path": "2020-03-21-covid19exp.ipynb",
   "parameters": {},
   "start_time": "2020-11-25T00:10:40.867470",
   "version": "2.0.0"
  }
 },
 "nbformat": 4,
 "nbformat_minor": 4
}