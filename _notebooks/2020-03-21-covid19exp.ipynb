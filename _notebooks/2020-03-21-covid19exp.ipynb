{
 "cells": [
  {
   "cell_type": "markdown",
   "metadata": {
    "papermill": {
     "duration": 0.032255,
     "end_time": "2021-01-07T00:27:34.944930",
     "exception": false,
     "start_time": "2021-01-07T00:27:34.912675",
     "status": "completed"
    },
    "tags": []
   },
   "source": [
    "# COVID-19 Case Race\n",
    "> A race chart to see rising cases around the world\n",
    "\n",
    "- author: Hargun Oberoi\n",
    "- image: images/covid-overview.png\n",
    "- hide: false\n",
    "- badges: false"
   ]
  },
  {
   "cell_type": "code",
   "execution_count": 1,
   "metadata": {
    "execution": {
     "iopub.execute_input": "2021-01-07T00:27:35.007234Z",
     "iopub.status.busy": "2021-01-07T00:27:35.006668Z",
     "iopub.status.idle": "2021-01-07T00:27:35.331625Z",
     "shell.execute_reply": "2021-01-07T00:27:35.332150Z"
    },
    "papermill": {
     "duration": 0.361359,
     "end_time": "2021-01-07T00:27:35.332335",
     "exception": false,
     "start_time": "2021-01-07T00:27:34.970976",
     "status": "completed"
    },
    "tags": []
   },
   "outputs": [],
   "source": [
    "#hide\n",
    "import numpy as np\n",
    "import pandas as pd\n",
    "from jinja2 import Template\n",
    "from IPython.display import HTML"
   ]
  },
  {
   "cell_type": "code",
   "execution_count": 2,
   "metadata": {
    "execution": {
     "iopub.execute_input": "2021-01-07T00:27:35.402075Z",
     "iopub.status.busy": "2021-01-07T00:27:35.401402Z",
     "iopub.status.idle": "2021-01-07T00:27:35.402998Z",
     "shell.execute_reply": "2021-01-07T00:27:35.403487Z"
    },
    "papermill": {
     "duration": 0.03784,
     "end_time": "2021-01-07T00:27:35.403630",
     "exception": false,
     "start_time": "2021-01-07T00:27:35.365790",
     "status": "completed"
    },
    "tags": []
   },
   "outputs": [],
   "source": [
    "#hide\n",
    "\n",
    "# FETCH\n",
    "base_url = 'https://raw.githubusercontent.com/pratapvardhan/notebooks/master/covid19/'\n",
    "paths = {\n",
    "    'mapping': base_url + 'mapping_countries.csv',\n",
    "    'overview': base_url + 'overview.tpl'\n",
    "}"
   ]
  },
  {
   "cell_type": "code",
   "execution_count": 3,
   "metadata": {
    "execution": {
     "iopub.execute_input": "2021-01-07T00:27:35.477834Z",
     "iopub.status.busy": "2021-01-07T00:27:35.477249Z",
     "iopub.status.idle": "2021-01-07T00:27:35.480495Z",
     "shell.execute_reply": "2021-01-07T00:27:35.480026Z"
    },
    "papermill": {
     "duration": 0.043199,
     "end_time": "2021-01-07T00:27:35.480602",
     "exception": false,
     "start_time": "2021-01-07T00:27:35.437403",
     "status": "completed"
    },
    "tags": []
   },
   "outputs": [
    {
     "data": {
      "text/plain": [
       "'https://raw.githubusercontent.com/pratapvardhan/notebooks/master/covid19/mapping_countries.csv'"
      ]
     },
     "execution_count": 3,
     "metadata": {},
     "output_type": "execute_result"
    }
   ],
   "source": [
    "#hide\n",
    "paths['mapping']"
   ]
  },
  {
   "cell_type": "code",
   "execution_count": 4,
   "metadata": {
    "execution": {
     "iopub.execute_input": "2021-01-07T00:27:35.544197Z",
     "iopub.status.busy": "2021-01-07T00:27:35.543608Z",
     "iopub.status.idle": "2021-01-07T00:27:35.545871Z",
     "shell.execute_reply": "2021-01-07T00:27:35.546444Z"
    },
    "papermill": {
     "duration": 0.037127,
     "end_time": "2021-01-07T00:27:35.546612",
     "exception": false,
     "start_time": "2021-01-07T00:27:35.509485",
     "status": "completed"
    },
    "tags": []
   },
   "outputs": [],
   "source": [
    "#hide\n",
    "def get_mappings(url):\n",
    "    df = pd.read_csv(url)\n",
    "    return {\n",
    "        'df': df,\n",
    "        'replace.country': dict(df.dropna(subset=['Name']).set_index('Country')['Name']),\n",
    "        'map.continent': dict(df.set_index('Name')['Continent'])\n",
    "    }"
   ]
  },
  {
   "cell_type": "code",
   "execution_count": 5,
   "metadata": {
    "execution": {
     "iopub.execute_input": "2021-01-07T00:27:35.613480Z",
     "iopub.status.busy": "2021-01-07T00:27:35.612936Z",
     "iopub.status.idle": "2021-01-07T00:27:35.643369Z",
     "shell.execute_reply": "2021-01-07T00:27:35.644243Z"
    },
    "papermill": {
     "duration": 0.069831,
     "end_time": "2021-01-07T00:27:35.644396",
     "exception": false,
     "start_time": "2021-01-07T00:27:35.574565",
     "status": "completed"
    },
    "tags": []
   },
   "outputs": [],
   "source": [
    "#hide\n",
    "mapping = get_mappings(paths['mapping'])"
   ]
  },
  {
   "cell_type": "code",
   "execution_count": 6,
   "metadata": {
    "execution": {
     "iopub.execute_input": "2021-01-07T00:27:35.714800Z",
     "iopub.status.busy": "2021-01-07T00:27:35.714093Z",
     "iopub.status.idle": "2021-01-07T00:27:35.716361Z",
     "shell.execute_reply": "2021-01-07T00:27:35.715878Z"
    },
    "papermill": {
     "duration": 0.039259,
     "end_time": "2021-01-07T00:27:35.716499",
     "exception": false,
     "start_time": "2021-01-07T00:27:35.677240",
     "status": "completed"
    },
    "tags": []
   },
   "outputs": [],
   "source": [
    "#hide\n",
    "def get_template(path):\n",
    "    from urllib.parse import urlparse\n",
    "    if bool(urlparse(path).netloc):\n",
    "        from urllib.request import urlopen\n",
    "        return urlopen(path).read().decode('utf8')\n",
    "    return open(path).read()"
   ]
  },
  {
   "cell_type": "code",
   "execution_count": 7,
   "metadata": {
    "execution": {
     "iopub.execute_input": "2021-01-07T00:27:35.783844Z",
     "iopub.status.busy": "2021-01-07T00:27:35.780854Z",
     "iopub.status.idle": "2021-01-07T00:27:35.784521Z",
     "shell.execute_reply": "2021-01-07T00:27:35.784956Z"
    },
    "papermill": {
     "duration": 0.03825,
     "end_time": "2021-01-07T00:27:35.785095",
     "exception": false,
     "start_time": "2021-01-07T00:27:35.746845",
     "status": "completed"
    },
    "tags": []
   },
   "outputs": [],
   "source": [
    "#hide\n",
    "def get_frame(name):\n",
    "    url = (\n",
    "        'https://raw.githubusercontent.com/CSSEGISandData/COVID-19/master/csse_covid_19_data/'\n",
    "        f'csse_covid_19_time_series/time_series_covid19_{name}_global.csv')\n",
    "    df = pd.read_csv(url)\n",
    "    # rename countries\n",
    "    df['Country/Region'] = df['Country/Region'].replace(mapping['replace.country'])\n",
    "    return df"
   ]
  },
  {
   "cell_type": "code",
   "execution_count": 8,
   "metadata": {
    "execution": {
     "iopub.execute_input": "2021-01-07T00:27:35.851534Z",
     "iopub.status.busy": "2021-01-07T00:27:35.850974Z",
     "iopub.status.idle": "2021-01-07T00:27:35.853500Z",
     "shell.execute_reply": "2021-01-07T00:27:35.854081Z"
    },
    "papermill": {
     "duration": 0.039146,
     "end_time": "2021-01-07T00:27:35.854232",
     "exception": false,
     "start_time": "2021-01-07T00:27:35.815086",
     "status": "completed"
    },
    "tags": []
   },
   "outputs": [],
   "source": [
    "#hide\n",
    "def get_dates(df):\n",
    "    dt_cols = df.columns[~df.columns.isin(['Province/State', 'Country/Region', 'Lat', 'Long'])]\n",
    "    LAST_DATE_I = -1\n",
    "    # sometimes last column may be empty, then go backwards\n",
    "    for i in range(-1, -len(dt_cols), -1):\n",
    "        if not df[dt_cols[i]].fillna(0).eq(0).all():\n",
    "            LAST_DATE_I = i\n",
    "            break\n",
    "    return LAST_DATE_I, dt_cols"
   ]
  },
  {
   "cell_type": "code",
   "execution_count": 9,
   "metadata": {
    "execution": {
     "iopub.execute_input": "2021-01-07T00:27:35.930961Z",
     "iopub.status.busy": "2021-01-07T00:27:35.930331Z",
     "iopub.status.idle": "2021-01-07T00:27:36.153319Z",
     "shell.execute_reply": "2021-01-07T00:27:36.152443Z"
    },
    "papermill": {
     "duration": 0.267953,
     "end_time": "2021-01-07T00:27:36.153547",
     "exception": false,
     "start_time": "2021-01-07T00:27:35.885594",
     "status": "completed"
    },
    "tags": []
   },
   "outputs": [],
   "source": [
    "#hide\n",
    "COL_REGION = 'Country/Region'\n",
    "# Confirmed, Recovered, Deaths\n",
    "df = get_frame('confirmed')\n",
    "# dft_: timeseries, dfc_: today country agg\n",
    "dft_cases = df\n",
    "dft_deaths = get_frame('deaths')\n",
    "dft_recovered = get_frame('recovered')\n",
    "LAST_DATE_I, dt_cols = get_dates(df)"
   ]
  },
  {
   "cell_type": "code",
   "execution_count": 10,
   "metadata": {
    "execution": {
     "iopub.execute_input": "2021-01-07T00:27:36.219385Z",
     "iopub.status.busy": "2021-01-07T00:27:36.218874Z",
     "iopub.status.idle": "2021-01-07T00:27:36.221065Z",
     "shell.execute_reply": "2021-01-07T00:27:36.220599Z"
    },
    "papermill": {
     "duration": 0.035848,
     "end_time": "2021-01-07T00:27:36.221181",
     "exception": false,
     "start_time": "2021-01-07T00:27:36.185333",
     "status": "completed"
    },
    "tags": []
   },
   "outputs": [],
   "source": [
    "#hide\n",
    "LAST_DATE_I, dt_cols = get_dates(df)\n",
    "dt_today =dt_cols[LAST_DATE_I]\n",
    "# dt_5day = dt_cols[LAST_DATE_I - 5]\n",
    "dt_yday = dt_cols[LAST_DATE_I - 1]"
   ]
  },
  {
   "cell_type": "code",
   "execution_count": 11,
   "metadata": {
    "execution": {
     "iopub.execute_input": "2021-01-07T00:27:36.283774Z",
     "iopub.status.busy": "2021-01-07T00:27:36.283232Z",
     "iopub.status.idle": "2021-01-07T00:27:36.289722Z",
     "shell.execute_reply": "2021-01-07T00:27:36.290227Z"
    },
    "papermill": {
     "duration": 0.040295,
     "end_time": "2021-01-07T00:27:36.290361",
     "exception": false,
     "start_time": "2021-01-07T00:27:36.250066",
     "status": "completed"
    },
    "tags": []
   },
   "outputs": [],
   "source": [
    "#hide\n",
    "dfc_cases = dft_cases.groupby(COL_REGION)[dt_today].sum()\n",
    "dfc_deaths = dft_deaths.groupby(COL_REGION)[dt_today].sum()\n",
    "# dfp_cases = dft_cases.groupby(COL_REGION)[dt_5day].sum()\n",
    "# dfp_deaths = dft_deaths.groupby(COL_REGION)[dt_5day].sum()\n",
    "dfp_cases = dft_cases.groupby(COL_REGION)[dt_yday].sum()\n",
    "dfp_deaths = dft_deaths.groupby(COL_REGION)[dt_yday].sum()"
   ]
  },
  {
   "cell_type": "code",
   "execution_count": 12,
   "metadata": {
    "execution": {
     "iopub.execute_input": "2021-01-07T00:27:36.359056Z",
     "iopub.status.busy": "2021-01-07T00:27:36.358425Z",
     "iopub.status.idle": "2021-01-07T00:27:36.364360Z",
     "shell.execute_reply": "2021-01-07T00:27:36.363714Z"
    },
    "papermill": {
     "duration": 0.043975,
     "end_time": "2021-01-07T00:27:36.364485",
     "exception": false,
     "start_time": "2021-01-07T00:27:36.320510",
     "status": "completed"
    },
    "tags": []
   },
   "outputs": [],
   "source": [
    "#hide\n",
    "df_table = (pd.DataFrame(dict(Cases = dfc_cases, Deaths = dfc_deaths, PCases = dfp_cases, PDeaths = dfp_deaths))\n",
    "            .sort_values(by = ['Cases','Deaths'], ascending = [False, False])\n",
    "            .reset_index())"
   ]
  },
  {
   "cell_type": "code",
   "execution_count": 13,
   "metadata": {
    "execution": {
     "iopub.execute_input": "2021-01-07T00:27:36.446093Z",
     "iopub.status.busy": "2021-01-07T00:27:36.445538Z",
     "iopub.status.idle": "2021-01-07T00:27:36.452814Z",
     "shell.execute_reply": "2021-01-07T00:27:36.453373Z"
    },
    "papermill": {
     "duration": 0.058294,
     "end_time": "2021-01-07T00:27:36.453511",
     "exception": false,
     "start_time": "2021-01-07T00:27:36.395217",
     "status": "completed"
    },
    "tags": []
   },
   "outputs": [
    {
     "data": {
      "text/html": [
       "<div>\n",
       "<style scoped>\n",
       "    .dataframe tbody tr th:only-of-type {\n",
       "        vertical-align: middle;\n",
       "    }\n",
       "\n",
       "    .dataframe tbody tr th {\n",
       "        vertical-align: top;\n",
       "    }\n",
       "\n",
       "    .dataframe thead th {\n",
       "        text-align: right;\n",
       "    }\n",
       "</style>\n",
       "<table border=\"1\" class=\"dataframe\">\n",
       "  <thead>\n",
       "    <tr style=\"text-align: right;\">\n",
       "      <th></th>\n",
       "      <th>Country/Region</th>\n",
       "      <th>Cases</th>\n",
       "      <th>Deaths</th>\n",
       "      <th>PCases</th>\n",
       "      <th>PDeaths</th>\n",
       "      <th>Cases (+)</th>\n",
       "      <th>Deaths (+)</th>\n",
       "      <th>Fatality Rate</th>\n",
       "      <th>Continent</th>\n",
       "    </tr>\n",
       "  </thead>\n",
       "  <tbody>\n",
       "    <tr>\n",
       "      <th>0</th>\n",
       "      <td>US</td>\n",
       "      <td>21046195</td>\n",
       "      <td>357258</td>\n",
       "      <td>20817140</td>\n",
       "      <td>353483</td>\n",
       "      <td>229055</td>\n",
       "      <td>3775</td>\n",
       "      <td>1.70</td>\n",
       "      <td>North America</td>\n",
       "    </tr>\n",
       "    <tr>\n",
       "      <th>1</th>\n",
       "      <td>India</td>\n",
       "      <td>10374932</td>\n",
       "      <td>150114</td>\n",
       "      <td>10356844</td>\n",
       "      <td>149850</td>\n",
       "      <td>18088</td>\n",
       "      <td>264</td>\n",
       "      <td>1.45</td>\n",
       "      <td>Asia</td>\n",
       "    </tr>\n",
       "    <tr>\n",
       "      <th>2</th>\n",
       "      <td>Brazil</td>\n",
       "      <td>7810400</td>\n",
       "      <td>197732</td>\n",
       "      <td>7753752</td>\n",
       "      <td>196561</td>\n",
       "      <td>56648</td>\n",
       "      <td>1171</td>\n",
       "      <td>2.53</td>\n",
       "      <td>South America</td>\n",
       "    </tr>\n",
       "    <tr>\n",
       "      <th>3</th>\n",
       "      <td>Russia</td>\n",
       "      <td>3250713</td>\n",
       "      <td>58706</td>\n",
       "      <td>3226758</td>\n",
       "      <td>58203</td>\n",
       "      <td>23955</td>\n",
       "      <td>503</td>\n",
       "      <td>1.81</td>\n",
       "      <td>Europe</td>\n",
       "    </tr>\n",
       "    <tr>\n",
       "      <th>4</th>\n",
       "      <td>United Kingdom</td>\n",
       "      <td>2782709</td>\n",
       "      <td>76428</td>\n",
       "      <td>2721622</td>\n",
       "      <td>75547</td>\n",
       "      <td>61087</td>\n",
       "      <td>881</td>\n",
       "      <td>2.75</td>\n",
       "      <td>Europe</td>\n",
       "    </tr>\n",
       "  </tbody>\n",
       "</table>\n",
       "</div>"
      ],
      "text/plain": [
       "   Country/Region     Cases  Deaths    PCases  PDeaths  Cases (+)  Deaths (+)  \\\n",
       "0              US  21046195  357258  20817140   353483     229055        3775   \n",
       "1           India  10374932  150114  10356844   149850      18088         264   \n",
       "2          Brazil   7810400  197732   7753752   196561      56648        1171   \n",
       "3          Russia   3250713   58706   3226758    58203      23955         503   \n",
       "4  United Kingdom   2782709   76428   2721622    75547      61087         881   \n",
       "\n",
       "   Fatality Rate      Continent  \n",
       "0           1.70  North America  \n",
       "1           1.45           Asia  \n",
       "2           2.53  South America  \n",
       "3           1.81         Europe  \n",
       "4           2.75         Europe  "
      ]
     },
     "execution_count": 13,
     "metadata": {},
     "output_type": "execute_result"
    }
   ],
   "source": [
    "#hide\n",
    "for c in 'Cases, Deaths'.split(', '):\n",
    "    df_table[f'{c} (+)'] = (df_table[c] - df_table[f'P{c}']).clip(0)\n",
    "    #Clip ça veut dire, les chiffres negatif sont interdit\n",
    "df_table['Fatality Rate'] = (100* df_table['Deaths']/ df_table['Cases']).round(2)\n",
    "df_table['Continent'] = df_table['Country/Region'].map(mapping['map.continent'])\n",
    "df_table.head(5)"
   ]
  },
  {
   "cell_type": "code",
   "execution_count": 14,
   "metadata": {
    "execution": {
     "iopub.execute_input": "2021-01-07T00:27:36.522639Z",
     "iopub.status.busy": "2021-01-07T00:27:36.522035Z",
     "iopub.status.idle": "2021-01-07T00:27:36.525739Z",
     "shell.execute_reply": "2021-01-07T00:27:36.526251Z"
    },
    "papermill": {
     "duration": 0.042375,
     "end_time": "2021-01-07T00:27:36.526393",
     "exception": false,
     "start_time": "2021-01-07T00:27:36.484018",
     "status": "completed"
    },
    "tags": []
   },
   "outputs": [],
   "source": [
    "#hide\n",
    "#delete problematic countries from table\n",
    "df_table = df_table[~df_table['Country/Region'].isin(['Cape Verde', 'Cruise Ship', 'Kosovo'])]"
   ]
  },
  {
   "cell_type": "code",
   "execution_count": 15,
   "metadata": {
    "execution": {
     "iopub.execute_input": "2021-01-07T00:27:36.592887Z",
     "iopub.status.busy": "2021-01-07T00:27:36.592301Z",
     "iopub.status.idle": "2021-01-07T00:27:36.610978Z",
     "shell.execute_reply": "2021-01-07T00:27:36.611452Z"
    },
    "papermill": {
     "duration": 0.057011,
     "end_time": "2021-01-07T00:27:36.611584",
     "exception": false,
     "start_time": "2021-01-07T00:27:36.554573",
     "status": "completed"
    },
    "tags": []
   },
   "outputs": [
    {
     "data": {
      "text/html": [
       "<div>\n",
       "<style scoped>\n",
       "    .dataframe tbody tr th:only-of-type {\n",
       "        vertical-align: middle;\n",
       "    }\n",
       "\n",
       "    .dataframe tbody tr th {\n",
       "        vertical-align: top;\n",
       "    }\n",
       "\n",
       "    .dataframe thead th {\n",
       "        text-align: right;\n",
       "    }\n",
       "</style>\n",
       "<table border=\"1\" class=\"dataframe\">\n",
       "  <thead>\n",
       "    <tr style=\"text-align: right;\">\n",
       "      <th></th>\n",
       "      <th>Country/Region</th>\n",
       "      <th>Cases</th>\n",
       "      <th>Deaths</th>\n",
       "      <th>PCases</th>\n",
       "      <th>PDeaths</th>\n",
       "      <th>Cases (+)</th>\n",
       "      <th>Deaths (+)</th>\n",
       "      <th>Fatality Rate</th>\n",
       "      <th>Continent</th>\n",
       "    </tr>\n",
       "  </thead>\n",
       "  <tbody>\n",
       "    <tr>\n",
       "      <th>0</th>\n",
       "      <td>US</td>\n",
       "      <td>21046195</td>\n",
       "      <td>357258</td>\n",
       "      <td>20817140</td>\n",
       "      <td>353483</td>\n",
       "      <td>229055</td>\n",
       "      <td>3775</td>\n",
       "      <td>1.7</td>\n",
       "      <td>North America</td>\n",
       "    </tr>\n",
       "    <tr>\n",
       "      <th>1</th>\n",
       "      <td>India</td>\n",
       "      <td>10374932</td>\n",
       "      <td>150114</td>\n",
       "      <td>10356844</td>\n",
       "      <td>149850</td>\n",
       "      <td>18088</td>\n",
       "      <td>264</td>\n",
       "      <td>1.4</td>\n",
       "      <td>Asia</td>\n",
       "    </tr>\n",
       "    <tr>\n",
       "      <th>2</th>\n",
       "      <td>Brazil</td>\n",
       "      <td>7810400</td>\n",
       "      <td>197732</td>\n",
       "      <td>7753752</td>\n",
       "      <td>196561</td>\n",
       "      <td>56648</td>\n",
       "      <td>1171</td>\n",
       "      <td>2.5</td>\n",
       "      <td>South America</td>\n",
       "    </tr>\n",
       "    <tr>\n",
       "      <th>3</th>\n",
       "      <td>Russia</td>\n",
       "      <td>3250713</td>\n",
       "      <td>58706</td>\n",
       "      <td>3226758</td>\n",
       "      <td>58203</td>\n",
       "      <td>23955</td>\n",
       "      <td>503</td>\n",
       "      <td>1.8</td>\n",
       "      <td>Europe</td>\n",
       "    </tr>\n",
       "    <tr>\n",
       "      <th>4</th>\n",
       "      <td>United Kingdom</td>\n",
       "      <td>2782709</td>\n",
       "      <td>76428</td>\n",
       "      <td>2721622</td>\n",
       "      <td>75547</td>\n",
       "      <td>61087</td>\n",
       "      <td>881</td>\n",
       "      <td>2.7</td>\n",
       "      <td>Europe</td>\n",
       "    </tr>\n",
       "  </tbody>\n",
       "</table>\n",
       "</div>"
      ],
      "text/plain": [
       "   Country/Region     Cases  Deaths    PCases  PDeaths  Cases (+)  Deaths (+)  \\\n",
       "0              US  21046195  357258  20817140   353483     229055        3775   \n",
       "1           India  10374932  150114  10356844   149850      18088         264   \n",
       "2          Brazil   7810400  197732   7753752   196561      56648        1171   \n",
       "3          Russia   3250713   58706   3226758    58203      23955         503   \n",
       "4  United Kingdom   2782709   76428   2721622    75547      61087         881   \n",
       "\n",
       "   Fatality Rate      Continent  \n",
       "0            1.7  North America  \n",
       "1            1.4           Asia  \n",
       "2            2.5  South America  \n",
       "3            1.8         Europe  \n",
       "4            2.7         Europe  "
      ]
     },
     "execution_count": 15,
     "metadata": {},
     "output_type": "execute_result"
    }
   ],
   "source": [
    "#hide\n",
    "df_table = (pd.DataFrame(dict(Cases=dfc_cases, Deaths=dfc_deaths, PCases=dfp_cases, PDeaths=dfp_deaths))\n",
    "             .sort_values(by=['Cases', 'Deaths'], ascending=[False, False])\n",
    "             .reset_index())\n",
    "df_table.rename(columns={'index': 'Country/Region'}, inplace=True)\n",
    "for c in 'Cases, Deaths'.split(', '):\n",
    "    df_table[f'{c} (+)'] = (df_table[c] - df_table[f'P{c}']).clip(0)  # DATA BUG\n",
    "df_table['Fatality Rate'] = (100 * df_table['Deaths'] / df_table['Cases']).round(1)\n",
    "df_table['Continent'] = df_table['Country/Region'].map(mapping['map.continent'])\n",
    "df_table.head(5)"
   ]
  },
  {
   "cell_type": "code",
   "execution_count": 16,
   "metadata": {
    "execution": {
     "iopub.execute_input": "2021-01-07T00:27:36.679024Z",
     "iopub.status.busy": "2021-01-07T00:27:36.678423Z",
     "iopub.status.idle": "2021-01-07T00:27:36.680433Z",
     "shell.execute_reply": "2021-01-07T00:27:36.680024Z"
    },
    "papermill": {
     "duration": 0.040903,
     "end_time": "2021-01-07T00:27:36.680532",
     "exception": false,
     "start_time": "2021-01-07T00:27:36.639629",
     "status": "completed"
    },
    "tags": []
   },
   "outputs": [],
   "source": [
    "#hide\n",
    "#delete problematic countries from table\n",
    "df_table = df_table[~df_table['Country/Region'].isin(['Cape Verde', 'Cruise Ship', 'Kosovo'])]"
   ]
  },
  {
   "cell_type": "code",
   "execution_count": 17,
   "metadata": {
    "execution": {
     "iopub.execute_input": "2021-01-07T00:27:36.763887Z",
     "iopub.status.busy": "2021-01-07T00:27:36.763262Z",
     "iopub.status.idle": "2021-01-07T00:27:36.765189Z",
     "shell.execute_reply": "2021-01-07T00:27:36.765604Z"
    },
    "papermill": {
     "duration": 0.05259,
     "end_time": "2021-01-07T00:27:36.765735",
     "exception": false,
     "start_time": "2021-01-07T00:27:36.713145",
     "status": "completed"
    },
    "tags": []
   },
   "outputs": [],
   "source": [
    "#hide\n",
    "metrics = [df_table.columns[index] for index in [1,2,5,6]]\n",
    "# s_china = df_table[df_table['Country/Region'].eq('China')][metrics].sum().add_prefix('China ')\n",
    "s_us = df_table[df_table['Country/Region'].eq('US')][metrics].sum().add_prefix('US ')\n",
    "s_eu = df_table[df_table['Continent'].eq('Europe')][metrics].sum().add_prefix('EU ')\n",
    "s_ind = df_table[df_table['Country/Region'].eq('India')][metrics].sum().add_prefix('India ')\n",
    "summary = {'updated': pd.to_datetime(dt_today), 'since': pd.to_datetime(dt_yday)}\n",
    "summary = {'updated': pd.to_datetime(dt_today), 'since': pd.to_datetime(dt_yday)}\n",
    "summary = {**summary, **df_table[metrics].sum(), **s_ind, **s_us, **s_eu}"
   ]
  },
  {
   "cell_type": "code",
   "execution_count": 18,
   "metadata": {
    "execution": {
     "iopub.execute_input": "2021-01-07T00:27:36.831757Z",
     "iopub.status.busy": "2021-01-07T00:27:36.831168Z",
     "iopub.status.idle": "2021-01-07T00:27:36.842661Z",
     "shell.execute_reply": "2021-01-07T00:27:36.842154Z"
    },
    "papermill": {
     "duration": 0.046989,
     "end_time": "2021-01-07T00:27:36.842826",
     "exception": false,
     "start_time": "2021-01-07T00:27:36.795837",
     "status": "completed"
    },
    "tags": []
   },
   "outputs": [],
   "source": [
    "#hide\n",
    "dft_ct_new_cases = dft_cases.groupby(COL_REGION)[dt_cols].sum().diff(axis=1).fillna(0).astype(int)"
   ]
  },
  {
   "cell_type": "code",
   "execution_count": 19,
   "metadata": {
    "execution": {
     "iopub.execute_input": "2021-01-07T00:27:36.907571Z",
     "iopub.status.busy": "2021-01-07T00:27:36.907032Z",
     "iopub.status.idle": "2021-01-07T00:27:36.909413Z",
     "shell.execute_reply": "2021-01-07T00:27:36.909955Z"
    },
    "papermill": {
     "duration": 0.039383,
     "end_time": "2021-01-07T00:27:36.910087",
     "exception": false,
     "start_time": "2021-01-07T00:27:36.870704",
     "status": "completed"
    },
    "tags": []
   },
   "outputs": [],
   "source": [
    "#hide\n",
    "everydaycases = dft_ct_new_cases.cumsum(axis=1)"
   ]
  },
  {
   "cell_type": "code",
   "execution_count": 20,
   "metadata": {
    "execution": {
     "iopub.execute_input": "2021-01-07T00:27:36.977534Z",
     "iopub.status.busy": "2021-01-07T00:27:36.977055Z",
     "iopub.status.idle": "2021-01-07T00:27:37.928236Z",
     "shell.execute_reply": "2021-01-07T00:27:37.927355Z"
    },
    "papermill": {
     "duration": 0.990462,
     "end_time": "2021-01-07T00:27:37.928464",
     "exception": false,
     "start_time": "2021-01-07T00:27:36.938002",
     "status": "completed"
    },
    "tags": []
   },
   "outputs": [],
   "source": [
    "#hide\n",
    "import pandas as pd\n",
    "import matplotlib.pyplot as plt\n",
    "import matplotlib.ticker as ticker\n",
    "import matplotlib.animation as animation\n",
    "from IPython.display import HTML"
   ]
  },
  {
   "cell_type": "code",
   "execution_count": 21,
   "metadata": {
    "execution": {
     "iopub.execute_input": "2021-01-07T00:27:37.997577Z",
     "iopub.status.busy": "2021-01-07T00:27:37.997083Z",
     "iopub.status.idle": "2021-01-07T00:27:38.001513Z",
     "shell.execute_reply": "2021-01-07T00:27:38.001124Z"
    },
    "papermill": {
     "duration": 0.044818,
     "end_time": "2021-01-07T00:27:38.001620",
     "exception": false,
     "start_time": "2021-01-07T00:27:37.956802",
     "status": "completed"
    },
    "tags": []
   },
   "outputs": [],
   "source": [
    "#hide\n",
    "t = everydaycases.stack()"
   ]
  },
  {
   "cell_type": "code",
   "execution_count": 22,
   "metadata": {
    "execution": {
     "iopub.execute_input": "2021-01-07T00:27:38.064495Z",
     "iopub.status.busy": "2021-01-07T00:27:38.061994Z",
     "iopub.status.idle": "2021-01-07T00:27:38.070564Z",
     "shell.execute_reply": "2021-01-07T00:27:38.069596Z"
    },
    "papermill": {
     "duration": 0.041626,
     "end_time": "2021-01-07T00:27:38.070689",
     "exception": false,
     "start_time": "2021-01-07T00:27:38.029063",
     "status": "completed"
    },
    "tags": []
   },
   "outputs": [],
   "source": [
    "#hide\n",
    "g = t.reset_index(['Country/Region'])"
   ]
  },
  {
   "cell_type": "code",
   "execution_count": 23,
   "metadata": {
    "execution": {
     "iopub.execute_input": "2021-01-07T00:27:38.126269Z",
     "iopub.status.busy": "2021-01-07T00:27:38.125780Z",
     "iopub.status.idle": "2021-01-07T00:27:38.128304Z",
     "shell.execute_reply": "2021-01-07T00:27:38.128688Z"
    },
    "papermill": {
     "duration": 0.032745,
     "end_time": "2021-01-07T00:27:38.128803",
     "exception": false,
     "start_time": "2021-01-07T00:27:38.096058",
     "status": "completed"
    },
    "tags": []
   },
   "outputs": [],
   "source": [
    "#hide\n",
    "g.index.name = 'date'"
   ]
  },
  {
   "cell_type": "code",
   "execution_count": 24,
   "metadata": {
    "execution": {
     "iopub.execute_input": "2021-01-07T00:27:38.184998Z",
     "iopub.status.busy": "2021-01-07T00:27:38.184502Z",
     "iopub.status.idle": "2021-01-07T00:27:38.187211Z",
     "shell.execute_reply": "2021-01-07T00:27:38.186770Z"
    },
    "papermill": {
     "duration": 0.032682,
     "end_time": "2021-01-07T00:27:38.187324",
     "exception": false,
     "start_time": "2021-01-07T00:27:38.154642",
     "status": "completed"
    },
    "tags": []
   },
   "outputs": [],
   "source": [
    "# #hide\n",
    "# g = g.reset_index(['date'])"
   ]
  },
  {
   "cell_type": "code",
   "execution_count": 25,
   "metadata": {
    "execution": {
     "iopub.execute_input": "2021-01-07T00:27:38.249177Z",
     "iopub.status.busy": "2021-01-07T00:27:38.248637Z",
     "iopub.status.idle": "2021-01-07T00:27:38.250962Z",
     "shell.execute_reply": "2021-01-07T00:27:38.251561Z"
    },
    "papermill": {
     "duration": 0.036588,
     "end_time": "2021-01-07T00:27:38.251689",
     "exception": false,
     "start_time": "2021-01-07T00:27:38.215101",
     "status": "completed"
    },
    "tags": []
   },
   "outputs": [],
   "source": [
    "#hide\n",
    "# g.head()"
   ]
  },
  {
   "cell_type": "code",
   "execution_count": 26,
   "metadata": {
    "execution": {
     "iopub.execute_input": "2021-01-07T00:27:38.310292Z",
     "iopub.status.busy": "2021-01-07T00:27:38.309741Z",
     "iopub.status.idle": "2021-01-07T00:27:38.313370Z",
     "shell.execute_reply": "2021-01-07T00:27:38.312506Z"
    },
    "papermill": {
     "duration": 0.032673,
     "end_time": "2021-01-07T00:27:38.313629",
     "exception": false,
     "start_time": "2021-01-07T00:27:38.280956",
     "status": "completed"
    },
    "tags": []
   },
   "outputs": [],
   "source": [
    "#hide\n",
    "# g.columns = ['date','country','cases']"
   ]
  },
  {
   "cell_type": "code",
   "execution_count": 27,
   "metadata": {
    "execution": {
     "iopub.execute_input": "2021-01-07T00:27:38.369654Z",
     "iopub.status.busy": "2021-01-07T00:27:38.369076Z",
     "iopub.status.idle": "2021-01-07T00:27:38.371147Z",
     "shell.execute_reply": "2021-01-07T00:27:38.370671Z"
    },
    "papermill": {
     "duration": 0.031588,
     "end_time": "2021-01-07T00:27:38.371255",
     "exception": false,
     "start_time": "2021-01-07T00:27:38.339667",
     "status": "completed"
    },
    "tags": []
   },
   "outputs": [],
   "source": [
    "#hide\n",
    "# g['continent'] = g.country"
   ]
  },
  {
   "cell_type": "code",
   "execution_count": 28,
   "metadata": {
    "execution": {
     "iopub.execute_input": "2021-01-07T00:27:38.427133Z",
     "iopub.status.busy": "2021-01-07T00:27:38.426593Z",
     "iopub.status.idle": "2021-01-07T00:27:38.429284Z",
     "shell.execute_reply": "2021-01-07T00:27:38.428751Z"
    },
    "papermill": {
     "duration": 0.031406,
     "end_time": "2021-01-07T00:27:38.429391",
     "exception": false,
     "start_time": "2021-01-07T00:27:38.397985",
     "status": "completed"
    },
    "tags": []
   },
   "outputs": [],
   "source": [
    "#hide\n",
    "# cols = list(g.columns.values)"
   ]
  },
  {
   "cell_type": "code",
   "execution_count": 29,
   "metadata": {
    "execution": {
     "iopub.execute_input": "2021-01-07T00:27:38.496522Z",
     "iopub.status.busy": "2021-01-07T00:27:38.495976Z",
     "iopub.status.idle": "2021-01-07T00:27:38.498372Z",
     "shell.execute_reply": "2021-01-07T00:27:38.498952Z"
    },
    "papermill": {
     "duration": 0.03569,
     "end_time": "2021-01-07T00:27:38.499075",
     "exception": false,
     "start_time": "2021-01-07T00:27:38.463385",
     "status": "completed"
    },
    "tags": []
   },
   "outputs": [],
   "source": [
    "#hide\n",
    "# cols.insert(0, cols.pop())"
   ]
  },
  {
   "cell_type": "code",
   "execution_count": 30,
   "metadata": {
    "execution": {
     "iopub.execute_input": "2021-01-07T00:27:38.561147Z",
     "iopub.status.busy": "2021-01-07T00:27:38.560736Z",
     "iopub.status.idle": "2021-01-07T00:27:38.563166Z",
     "shell.execute_reply": "2021-01-07T00:27:38.563563Z"
    },
    "papermill": {
     "duration": 0.033092,
     "end_time": "2021-01-07T00:27:38.563671",
     "exception": false,
     "start_time": "2021-01-07T00:27:38.530579",
     "status": "completed"
    },
    "tags": []
   },
   "outputs": [],
   "source": [
    "#hide\n",
    "# g = g[cols]"
   ]
  },
  {
   "cell_type": "code",
   "execution_count": 31,
   "metadata": {
    "execution": {
     "iopub.execute_input": "2021-01-07T00:27:38.621129Z",
     "iopub.status.busy": "2021-01-07T00:27:38.620591Z",
     "iopub.status.idle": "2021-01-07T00:27:38.623136Z",
     "shell.execute_reply": "2021-01-07T00:27:38.623646Z"
    },
    "papermill": {
     "duration": 0.035168,
     "end_time": "2021-01-07T00:27:38.623775",
     "exception": false,
     "start_time": "2021-01-07T00:27:38.588607",
     "status": "completed"
    },
    "tags": []
   },
   "outputs": [],
   "source": [
    "#hide\n",
    "# g['continent'] = g['continent'].map(mapping['map.continent'])"
   ]
  },
  {
   "cell_type": "code",
   "execution_count": 32,
   "metadata": {
    "execution": {
     "iopub.execute_input": "2021-01-07T00:27:38.685783Z",
     "iopub.status.busy": "2021-01-07T00:27:38.685300Z",
     "iopub.status.idle": "2021-01-07T00:27:38.687549Z",
     "shell.execute_reply": "2021-01-07T00:27:38.688062Z"
    },
    "papermill": {
     "duration": 0.033029,
     "end_time": "2021-01-07T00:27:38.688184",
     "exception": false,
     "start_time": "2021-01-07T00:27:38.655155",
     "status": "completed"
    },
    "tags": []
   },
   "outputs": [],
   "source": [
    "#hide\n",
    "# g.head()"
   ]
  },
  {
   "cell_type": "code",
   "execution_count": 33,
   "metadata": {
    "execution": {
     "iopub.execute_input": "2021-01-07T00:27:38.751490Z",
     "iopub.status.busy": "2021-01-07T00:27:38.750932Z",
     "iopub.status.idle": "2021-01-07T00:27:38.753328Z",
     "shell.execute_reply": "2021-01-07T00:27:38.752862Z"
    },
    "papermill": {
     "duration": 0.038755,
     "end_time": "2021-01-07T00:27:38.753425",
     "exception": false,
     "start_time": "2021-01-07T00:27:38.714670",
     "status": "completed"
    },
    "tags": []
   },
   "outputs": [],
   "source": [
    "# hide\n",
    "# g['date'] = g['date'].astype('datetime64[ns]')"
   ]
  },
  {
   "cell_type": "code",
   "execution_count": 34,
   "metadata": {
    "execution": {
     "iopub.execute_input": "2021-01-07T00:27:38.823879Z",
     "iopub.status.busy": "2021-01-07T00:27:38.823255Z",
     "iopub.status.idle": "2021-01-07T00:27:38.824615Z",
     "shell.execute_reply": "2021-01-07T00:27:38.825151Z"
    },
    "papermill": {
     "duration": 0.04096,
     "end_time": "2021-01-07T00:27:38.825292",
     "exception": false,
     "start_time": "2021-01-07T00:27:38.784332",
     "status": "completed"
    },
    "tags": []
   },
   "outputs": [],
   "source": [
    "#hide\n",
    "# g['date'] = g.date.dt.dayofyear"
   ]
  },
  {
   "cell_type": "code",
   "execution_count": 35,
   "metadata": {
    "execution": {
     "iopub.execute_input": "2021-01-07T00:27:38.886348Z",
     "iopub.status.busy": "2021-01-07T00:27:38.885825Z",
     "iopub.status.idle": "2021-01-07T00:27:38.887414Z",
     "shell.execute_reply": "2021-01-07T00:27:38.887776Z"
    },
    "papermill": {
     "duration": 0.033128,
     "end_time": "2021-01-07T00:27:38.887892",
     "exception": false,
     "start_time": "2021-01-07T00:27:38.854764",
     "status": "completed"
    },
    "tags": []
   },
   "outputs": [],
   "source": [
    "#hide\n",
    "# g = g.rename(columns= {'continent':'group','country':'name','cases':'value'})"
   ]
  },
  {
   "cell_type": "code",
   "execution_count": 36,
   "metadata": {
    "execution": {
     "iopub.execute_input": "2021-01-07T00:27:38.950729Z",
     "iopub.status.busy": "2021-01-07T00:27:38.950252Z",
     "iopub.status.idle": "2021-01-07T00:27:38.952619Z",
     "shell.execute_reply": "2021-01-07T00:27:38.953147Z"
    },
    "papermill": {
     "duration": 0.031797,
     "end_time": "2021-01-07T00:27:38.953272",
     "exception": false,
     "start_time": "2021-01-07T00:27:38.921475",
     "status": "completed"
    },
    "tags": []
   },
   "outputs": [],
   "source": [
    "#hide\n",
    "# cols = ['name','group','day','value']"
   ]
  },
  {
   "cell_type": "code",
   "execution_count": 37,
   "metadata": {
    "execution": {
     "iopub.execute_input": "2021-01-07T00:27:39.007930Z",
     "iopub.status.busy": "2021-01-07T00:27:39.007430Z",
     "iopub.status.idle": "2021-01-07T00:27:39.010509Z",
     "shell.execute_reply": "2021-01-07T00:27:39.010035Z"
    },
    "papermill": {
     "duration": 0.0323,
     "end_time": "2021-01-07T00:27:39.010616",
     "exception": false,
     "start_time": "2021-01-07T00:27:38.978316",
     "status": "completed"
    },
    "tags": []
   },
   "outputs": [],
   "source": [
    "#hide\n",
    "# g.rename(columns= {'date':'day'},inplace = True)"
   ]
  },
  {
   "cell_type": "code",
   "execution_count": 38,
   "metadata": {
    "execution": {
     "iopub.execute_input": "2021-01-07T00:27:39.064075Z",
     "iopub.status.busy": "2021-01-07T00:27:39.063587Z",
     "iopub.status.idle": "2021-01-07T00:27:39.066023Z",
     "shell.execute_reply": "2021-01-07T00:27:39.066495Z"
    },
    "papermill": {
     "duration": 0.031923,
     "end_time": "2021-01-07T00:27:39.066648",
     "exception": false,
     "start_time": "2021-01-07T00:27:39.034725",
     "status": "completed"
    },
    "tags": []
   },
   "outputs": [],
   "source": [
    "#hide\n",
    "# g = g[cols]"
   ]
  },
  {
   "cell_type": "code",
   "execution_count": 39,
   "metadata": {
    "execution": {
     "iopub.execute_input": "2021-01-07T00:27:39.124900Z",
     "iopub.status.busy": "2021-01-07T00:27:39.124411Z",
     "iopub.status.idle": "2021-01-07T00:27:39.126287Z",
     "shell.execute_reply": "2021-01-07T00:27:39.126824Z"
    },
    "papermill": {
     "duration": 0.032149,
     "end_time": "2021-01-07T00:27:39.126951",
     "exception": false,
     "start_time": "2021-01-07T00:27:39.094802",
     "status": "completed"
    },
    "tags": []
   },
   "outputs": [],
   "source": [
    "# #hide\n",
    "# g = g[g.group.notna()]"
   ]
  },
  {
   "cell_type": "code",
   "execution_count": 40,
   "metadata": {
    "execution": {
     "iopub.execute_input": "2021-01-07T00:27:39.187067Z",
     "iopub.status.busy": "2021-01-07T00:27:39.186455Z",
     "iopub.status.idle": "2021-01-07T00:27:39.188978Z",
     "shell.execute_reply": "2021-01-07T00:27:39.188516Z"
    },
    "papermill": {
     "duration": 0.033808,
     "end_time": "2021-01-07T00:27:39.189085",
     "exception": false,
     "start_time": "2021-01-07T00:27:39.155277",
     "status": "completed"
    },
    "tags": []
   },
   "outputs": [],
   "source": [
    "# #hide\n",
    "# colors = dict(zip(\n",
    "#     [\"Oceania\", \"Europe\", \"Asia\", \"South America\", \"Middle East\", \"North America\", \"Africa\"],\n",
    "#     [\"#adb0ff\", \"#ffb3ff\", \"#90d595\", \"#e48381\", \"#aafbff\", \"#f7bb5f\", \"#eafb50\"]\n",
    "# ))\n",
    "# group_lk = g.set_index('name')['group'].to_dict()"
   ]
  },
  {
   "cell_type": "code",
   "execution_count": null,
   "metadata": {
    "papermill": {
     "duration": 0.029822,
     "end_time": "2021-01-07T00:27:39.247113",
     "exception": false,
     "start_time": "2021-01-07T00:27:39.217291",
     "status": "completed"
    },
    "tags": []
   },
   "outputs": [],
   "source": []
  },
  {
   "cell_type": "code",
   "execution_count": 41,
   "metadata": {
    "execution": {
     "iopub.execute_input": "2021-01-07T00:27:39.303175Z",
     "iopub.status.busy": "2021-01-07T00:27:39.302680Z",
     "iopub.status.idle": "2021-01-07T00:27:39.304692Z",
     "shell.execute_reply": "2021-01-07T00:27:39.304320Z"
    },
    "papermill": {
     "duration": 0.032016,
     "end_time": "2021-01-07T00:27:39.304777",
     "exception": false,
     "start_time": "2021-01-07T00:27:39.272761",
     "status": "completed"
    },
    "tags": []
   },
   "outputs": [],
   "source": [
    "# #hide\n",
    "# fig, ax = plt.subplots(figsize=(15, 8))\n",
    "\n",
    "# def draw_barchart(current_day):\n",
    "#     dff = g[g['day'].eq(current_day)].sort_values(by='value', ascending=True).tail(10)\n",
    "#     ax.clear()\n",
    "#     ax.barh(dff['name'], dff['value'], color=[colors[group_lk[x]] for x in dff['name']])\n",
    "#     dx = dff['value'].max() / 200\n",
    "    \n",
    "#     for i, (value, name) in enumerate(zip(dff['value'], dff['name'])):\n",
    "#         ax.text(value-dx, i,     name,           size=14, weight=600, ha='right', va='bottom')\n",
    "#         ax.text(value-dx, i-.25, group_lk[name], size=10, color='#444444', ha='right', va='baseline')\n",
    "#         ax.text(value+dx, i,     f'{value:,.0f}',  size=14, ha='left',  va='center')\n",
    "#     ax.text(1, 0.4, current_day, transform=ax.transAxes, color='#777777', size=46, ha='right', weight=800)\n",
    "#     ax.text(0, 1.06, 'Population (thousands)', transform=ax.transAxes, size=12, color='#777777')\n",
    "#     ax.xaxis.set_major_formatter(ticker.StrMethodFormatter('{x:,.0f}'))\n",
    "#     ax.xaxis.set_ticks_position('top')\n",
    "#     ax.tick_params(axis='x', colors='#777777', labelsize=12)\n",
    "#     ax.set_yticks([])\n",
    "#     ax.margins(0, 0.01)\n",
    "#     ax.grid(which='major', axis='x', linestyle='-')\n",
    "#     ax.set_axisbelow(True)\n",
    "    \n",
    "#     ax.text(0, 1.15, 'Coronavirus',\n",
    "#             transform=ax.transAxes, size=24, weight=600, ha='left', va='top')\n",
    "# #     ax.text(1, 0, 'by @pratapvardhan; credit @jburnmurdoch', transform=ax.transAxes, color='#777777', ha='right',\n",
    "# #             bbox=dict(facecolor='white', alpha=0.8, edgecolor='white'))\n",
    "#     plt.box(False)"
   ]
  },
  {
   "cell_type": "code",
   "execution_count": 42,
   "metadata": {
    "execution": {
     "iopub.execute_input": "2021-01-07T00:27:39.363246Z",
     "iopub.status.busy": "2021-01-07T00:27:39.362698Z",
     "iopub.status.idle": "2021-01-07T00:27:39.365183Z",
     "shell.execute_reply": "2021-01-07T00:27:39.365741Z"
    },
    "papermill": {
     "duration": 0.035577,
     "end_time": "2021-01-07T00:27:39.365872",
     "exception": false,
     "start_time": "2021-01-07T00:27:39.330295",
     "status": "completed"
    },
    "tags": []
   },
   "outputs": [],
   "source": [
    "# #hide_input\n",
    "# fig, ax = plt.subplots(figsize=(15, 8))\n",
    "# animator = animation.FuncAnimation(fig, draw_barchart, frames=range(g.day.values.min(), g.day.values.max()))\n",
    "# HTML(animator.to_jshtml())\n",
    "# # or use animator.to_html5_video() or animator.save() "
   ]
  },
  {
   "cell_type": "code",
   "execution_count": null,
   "metadata": {
    "papermill": {
     "duration": 0.026556,
     "end_time": "2021-01-07T00:27:39.417837",
     "exception": false,
     "start_time": "2021-01-07T00:27:39.391281",
     "status": "completed"
    },
    "tags": []
   },
   "outputs": [],
   "source": []
  },
  {
   "cell_type": "code",
   "execution_count": null,
   "metadata": {
    "papermill": {
     "duration": 0.026167,
     "end_time": "2021-01-07T00:27:39.471437",
     "exception": false,
     "start_time": "2021-01-07T00:27:39.445270",
     "status": "completed"
    },
    "tags": []
   },
   "outputs": [],
   "source": []
  },
  {
   "cell_type": "code",
   "execution_count": null,
   "metadata": {
    "papermill": {
     "duration": 0.030672,
     "end_time": "2021-01-07T00:27:39.529432",
     "exception": false,
     "start_time": "2021-01-07T00:27:39.498760",
     "status": "completed"
    },
    "tags": []
   },
   "outputs": [],
   "source": []
  }
 ],
 "metadata": {
  "kernelspec": {
   "display_name": "Python 3",
   "language": "python",
   "name": "python3"
  },
  "language_info": {
   "codemirror_mode": {
    "name": "ipython",
    "version": 3
   },
   "file_extension": ".py",
   "mimetype": "text/x-python",
   "name": "python",
   "nbconvert_exporter": "python",
   "pygments_lexer": "ipython3",
   "version": "3.6.12"
  },
  "papermill": {
   "duration": 6.027752,
   "end_time": "2021-01-07T00:27:39.868167",
   "environment_variables": {},
   "exception": null,
   "input_path": "2020-03-21-covid19exp.ipynb",
   "output_path": "2020-03-21-covid19exp.ipynb",
   "parameters": {},
   "start_time": "2021-01-07T00:27:33.840415",
   "version": "2.0.0"
  }
 },
 "nbformat": 4,
 "nbformat_minor": 4
}