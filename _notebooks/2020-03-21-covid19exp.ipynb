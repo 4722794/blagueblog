{
 "cells": [
  {
   "cell_type": "markdown",
   "id": "muslim-click",
   "metadata": {
    "papermill": {
     "duration": 0.034037,
     "end_time": "2021-03-25T00:07:19.758024",
     "exception": false,
     "start_time": "2021-03-25T00:07:19.723987",
     "status": "completed"
    },
    "tags": []
   },
   "source": [
    "# COVID-19 Case Race\n",
    "> A race chart to see rising cases around the world\n",
    "\n",
    "- author: Hargun Oberoi\n",
    "- image: images/covid-overview.png\n",
    "- hide: false\n",
    "- badges: false"
   ]
  },
  {
   "cell_type": "code",
   "execution_count": 1,
   "id": "proof-material",
   "metadata": {
    "execution": {
     "iopub.execute_input": "2021-03-25T00:07:19.828679Z",
     "iopub.status.busy": "2021-03-25T00:07:19.828165Z",
     "iopub.status.idle": "2021-03-25T00:07:20.129500Z",
     "shell.execute_reply": "2021-03-25T00:07:20.128926Z"
    },
    "papermill": {
     "duration": 0.341339,
     "end_time": "2021-03-25T00:07:20.129626",
     "exception": false,
     "start_time": "2021-03-25T00:07:19.788287",
     "status": "completed"
    },
    "tags": []
   },
   "outputs": [],
   "source": [
    "#hide\n",
    "import numpy as np\n",
    "import pandas as pd\n",
    "from jinja2 import Template\n",
    "from IPython.display import HTML"
   ]
  },
  {
   "cell_type": "code",
   "execution_count": 2,
   "id": "developed-terminology",
   "metadata": {
    "execution": {
     "iopub.execute_input": "2021-03-25T00:07:20.193588Z",
     "iopub.status.busy": "2021-03-25T00:07:20.193076Z",
     "iopub.status.idle": "2021-03-25T00:07:20.194889Z",
     "shell.execute_reply": "2021-03-25T00:07:20.195265Z"
    },
    "papermill": {
     "duration": 0.035792,
     "end_time": "2021-03-25T00:07:20.195390",
     "exception": false,
     "start_time": "2021-03-25T00:07:20.159598",
     "status": "completed"
    },
    "tags": []
   },
   "outputs": [],
   "source": [
    "#hide\n",
    "\n",
    "# FETCH\n",
    "base_url = 'https://raw.githubusercontent.com/pratapvardhan/notebooks/master/covid19/'\n",
    "paths = {\n",
    "    'mapping': base_url + 'mapping_countries.csv',\n",
    "    'overview': base_url + 'overview.tpl'\n",
    "}"
   ]
  },
  {
   "cell_type": "code",
   "execution_count": 3,
   "id": "dynamic-saver",
   "metadata": {
    "execution": {
     "iopub.execute_input": "2021-03-25T00:07:20.263901Z",
     "iopub.status.busy": "2021-03-25T00:07:20.263407Z",
     "iopub.status.idle": "2021-03-25T00:07:20.266032Z",
     "shell.execute_reply": "2021-03-25T00:07:20.265614Z"
    },
    "papermill": {
     "duration": 0.041205,
     "end_time": "2021-03-25T00:07:20.266163",
     "exception": false,
     "start_time": "2021-03-25T00:07:20.224958",
     "status": "completed"
    },
    "tags": []
   },
   "outputs": [
    {
     "data": {
      "text/plain": [
       "'https://raw.githubusercontent.com/pratapvardhan/notebooks/master/covid19/mapping_countries.csv'"
      ]
     },
     "execution_count": 3,
     "metadata": {},
     "output_type": "execute_result"
    }
   ],
   "source": [
    "#hide\n",
    "paths['mapping']"
   ]
  },
  {
   "cell_type": "code",
   "execution_count": 4,
   "id": "urban-software",
   "metadata": {
    "execution": {
     "iopub.execute_input": "2021-03-25T00:07:20.331780Z",
     "iopub.status.busy": "2021-03-25T00:07:20.331271Z",
     "iopub.status.idle": "2021-03-25T00:07:20.333314Z",
     "shell.execute_reply": "2021-03-25T00:07:20.332889Z"
    },
    "papermill": {
     "duration": 0.037219,
     "end_time": "2021-03-25T00:07:20.333420",
     "exception": false,
     "start_time": "2021-03-25T00:07:20.296201",
     "status": "completed"
    },
    "tags": []
   },
   "outputs": [],
   "source": [
    "#hide\n",
    "def get_mappings(url):\n",
    "    df = pd.read_csv(url)\n",
    "    return {\n",
    "        'df': df,\n",
    "        'replace.country': dict(df.dropna(subset=['Name']).set_index('Country')['Name']),\n",
    "        'map.continent': dict(df.set_index('Name')['Continent'])\n",
    "    }"
   ]
  },
  {
   "cell_type": "code",
   "execution_count": 5,
   "id": "intimate-machinery",
   "metadata": {
    "execution": {
     "iopub.execute_input": "2021-03-25T00:07:20.398380Z",
     "iopub.status.busy": "2021-03-25T00:07:20.397855Z",
     "iopub.status.idle": "2021-03-25T00:07:20.425260Z",
     "shell.execute_reply": "2021-03-25T00:07:20.424763Z"
    },
    "papermill": {
     "duration": 0.06205,
     "end_time": "2021-03-25T00:07:20.425390",
     "exception": false,
     "start_time": "2021-03-25T00:07:20.363340",
     "status": "completed"
    },
    "tags": []
   },
   "outputs": [],
   "source": [
    "#hide\n",
    "mapping = get_mappings(paths['mapping'])"
   ]
  },
  {
   "cell_type": "code",
   "execution_count": 6,
   "id": "certified-tactics",
   "metadata": {
    "execution": {
     "iopub.execute_input": "2021-03-25T00:07:20.492266Z",
     "iopub.status.busy": "2021-03-25T00:07:20.491762Z",
     "iopub.status.idle": "2021-03-25T00:07:20.493488Z",
     "shell.execute_reply": "2021-03-25T00:07:20.493950Z"
    },
    "papermill": {
     "duration": 0.037313,
     "end_time": "2021-03-25T00:07:20.494095",
     "exception": false,
     "start_time": "2021-03-25T00:07:20.456782",
     "status": "completed"
    },
    "tags": []
   },
   "outputs": [],
   "source": [
    "#hide\n",
    "def get_template(path):\n",
    "    from urllib.parse import urlparse\n",
    "    if bool(urlparse(path).netloc):\n",
    "        from urllib.request import urlopen\n",
    "        return urlopen(path).read().decode('utf8')\n",
    "    return open(path).read()"
   ]
  },
  {
   "cell_type": "code",
   "execution_count": 7,
   "id": "realistic-blast",
   "metadata": {
    "execution": {
     "iopub.execute_input": "2021-03-25T00:07:20.559170Z",
     "iopub.status.busy": "2021-03-25T00:07:20.558661Z",
     "iopub.status.idle": "2021-03-25T00:07:20.560394Z",
     "shell.execute_reply": "2021-03-25T00:07:20.560859Z"
    },
    "papermill": {
     "duration": 0.036898,
     "end_time": "2021-03-25T00:07:20.560985",
     "exception": false,
     "start_time": "2021-03-25T00:07:20.524087",
     "status": "completed"
    },
    "tags": []
   },
   "outputs": [],
   "source": [
    "#hide\n",
    "def get_frame(name):\n",
    "    url = (\n",
    "        'https://raw.githubusercontent.com/CSSEGISandData/COVID-19/master/csse_covid_19_data/'\n",
    "        f'csse_covid_19_time_series/time_series_covid19_{name}_global.csv')\n",
    "    df = pd.read_csv(url)\n",
    "    # rename countries\n",
    "    df['Country/Region'] = df['Country/Region'].replace(mapping['replace.country'])\n",
    "    return df"
   ]
  },
  {
   "cell_type": "code",
   "execution_count": 8,
   "id": "affiliated-characterization",
   "metadata": {
    "execution": {
     "iopub.execute_input": "2021-03-25T00:07:20.627229Z",
     "iopub.status.busy": "2021-03-25T00:07:20.626723Z",
     "iopub.status.idle": "2021-03-25T00:07:20.628780Z",
     "shell.execute_reply": "2021-03-25T00:07:20.628377Z"
    },
    "papermill": {
     "duration": 0.03772,
     "end_time": "2021-03-25T00:07:20.628898",
     "exception": false,
     "start_time": "2021-03-25T00:07:20.591178",
     "status": "completed"
    },
    "tags": []
   },
   "outputs": [],
   "source": [
    "#hide\n",
    "def get_dates(df):\n",
    "    dt_cols = df.columns[~df.columns.isin(['Province/State', 'Country/Region', 'Lat', 'Long'])]\n",
    "    LAST_DATE_I = -1\n",
    "    # sometimes last column may be empty, then go backwards\n",
    "    for i in range(-1, -len(dt_cols), -1):\n",
    "        if not df[dt_cols[i]].fillna(0).eq(0).all():\n",
    "            LAST_DATE_I = i\n",
    "            break\n",
    "    return LAST_DATE_I, dt_cols"
   ]
  },
  {
   "cell_type": "code",
   "execution_count": 9,
   "id": "recent-optimization",
   "metadata": {
    "execution": {
     "iopub.execute_input": "2021-03-25T00:07:20.694246Z",
     "iopub.status.busy": "2021-03-25T00:07:20.693702Z",
     "iopub.status.idle": "2021-03-25T00:07:20.930621Z",
     "shell.execute_reply": "2021-03-25T00:07:20.930131Z"
    },
    "papermill": {
     "duration": 0.271793,
     "end_time": "2021-03-25T00:07:20.930739",
     "exception": false,
     "start_time": "2021-03-25T00:07:20.658946",
     "status": "completed"
    },
    "tags": []
   },
   "outputs": [],
   "source": [
    "#hide\n",
    "COL_REGION = 'Country/Region'\n",
    "# Confirmed, Recovered, Deaths\n",
    "df = get_frame('confirmed')\n",
    "# dft_: timeseries, dfc_: today country agg\n",
    "dft_cases = df\n",
    "dft_deaths = get_frame('deaths')\n",
    "dft_recovered = get_frame('recovered')\n",
    "LAST_DATE_I, dt_cols = get_dates(df)"
   ]
  },
  {
   "cell_type": "code",
   "execution_count": 10,
   "id": "absolute-copper",
   "metadata": {
    "execution": {
     "iopub.execute_input": "2021-03-25T00:07:20.996804Z",
     "iopub.status.busy": "2021-03-25T00:07:20.996217Z",
     "iopub.status.idle": "2021-03-25T00:07:20.998344Z",
     "shell.execute_reply": "2021-03-25T00:07:20.997866Z"
    },
    "papermill": {
     "duration": 0.037533,
     "end_time": "2021-03-25T00:07:20.998467",
     "exception": false,
     "start_time": "2021-03-25T00:07:20.960934",
     "status": "completed"
    },
    "tags": []
   },
   "outputs": [],
   "source": [
    "#hide\n",
    "LAST_DATE_I, dt_cols = get_dates(df)\n",
    "dt_today =dt_cols[LAST_DATE_I]\n",
    "# dt_5day = dt_cols[LAST_DATE_I - 5]\n",
    "dt_yday = dt_cols[LAST_DATE_I - 1]"
   ]
  },
  {
   "cell_type": "code",
   "execution_count": 11,
   "id": "restricted-sheriff",
   "metadata": {
    "execution": {
     "iopub.execute_input": "2021-03-25T00:07:21.065027Z",
     "iopub.status.busy": "2021-03-25T00:07:21.064530Z",
     "iopub.status.idle": "2021-03-25T00:07:21.071415Z",
     "shell.execute_reply": "2021-03-25T00:07:21.070994Z"
    },
    "papermill": {
     "duration": 0.042685,
     "end_time": "2021-03-25T00:07:21.071522",
     "exception": false,
     "start_time": "2021-03-25T00:07:21.028837",
     "status": "completed"
    },
    "tags": []
   },
   "outputs": [],
   "source": [
    "#hide\n",
    "dfc_cases = dft_cases.groupby(COL_REGION)[dt_today].sum()\n",
    "dfc_deaths = dft_deaths.groupby(COL_REGION)[dt_today].sum()\n",
    "# dfp_cases = dft_cases.groupby(COL_REGION)[dt_5day].sum()\n",
    "# dfp_deaths = dft_deaths.groupby(COL_REGION)[dt_5day].sum()\n",
    "dfp_cases = dft_cases.groupby(COL_REGION)[dt_yday].sum()\n",
    "dfp_deaths = dft_deaths.groupby(COL_REGION)[dt_yday].sum()"
   ]
  },
  {
   "cell_type": "code",
   "execution_count": 12,
   "id": "deluxe-hepatitis",
   "metadata": {
    "execution": {
     "iopub.execute_input": "2021-03-25T00:07:21.137408Z",
     "iopub.status.busy": "2021-03-25T00:07:21.136903Z",
     "iopub.status.idle": "2021-03-25T00:07:21.141031Z",
     "shell.execute_reply": "2021-03-25T00:07:21.140611Z"
    },
    "papermill": {
     "duration": 0.03954,
     "end_time": "2021-03-25T00:07:21.141135",
     "exception": false,
     "start_time": "2021-03-25T00:07:21.101595",
     "status": "completed"
    },
    "tags": []
   },
   "outputs": [],
   "source": [
    "#hide\n",
    "df_table = (pd.DataFrame(dict(Cases = dfc_cases, Deaths = dfc_deaths, PCases = dfp_cases, PDeaths = dfp_deaths))\n",
    "            .sort_values(by = ['Cases','Deaths'], ascending = [False, False])\n",
    "            .reset_index())"
   ]
  },
  {
   "cell_type": "code",
   "execution_count": 13,
   "id": "educational-chancellor",
   "metadata": {
    "execution": {
     "iopub.execute_input": "2021-03-25T00:07:21.218815Z",
     "iopub.status.busy": "2021-03-25T00:07:21.218281Z",
     "iopub.status.idle": "2021-03-25T00:07:21.225252Z",
     "shell.execute_reply": "2021-03-25T00:07:21.224840Z"
    },
    "papermill": {
     "duration": 0.054263,
     "end_time": "2021-03-25T00:07:21.225365",
     "exception": false,
     "start_time": "2021-03-25T00:07:21.171102",
     "status": "completed"
    },
    "tags": []
   },
   "outputs": [
    {
     "data": {
      "text/html": [
       "<div>\n",
       "<style scoped>\n",
       "    .dataframe tbody tr th:only-of-type {\n",
       "        vertical-align: middle;\n",
       "    }\n",
       "\n",
       "    .dataframe tbody tr th {\n",
       "        vertical-align: top;\n",
       "    }\n",
       "\n",
       "    .dataframe thead th {\n",
       "        text-align: right;\n",
       "    }\n",
       "</style>\n",
       "<table border=\"1\" class=\"dataframe\">\n",
       "  <thead>\n",
       "    <tr style=\"text-align: right;\">\n",
       "      <th></th>\n",
       "      <th>Country/Region</th>\n",
       "      <th>Cases</th>\n",
       "      <th>Deaths</th>\n",
       "      <th>PCases</th>\n",
       "      <th>PDeaths</th>\n",
       "      <th>Cases (+)</th>\n",
       "      <th>Deaths (+)</th>\n",
       "      <th>Fatality Rate</th>\n",
       "      <th>Continent</th>\n",
       "    </tr>\n",
       "  </thead>\n",
       "  <tbody>\n",
       "    <tr>\n",
       "      <th>0</th>\n",
       "      <td>US</td>\n",
       "      <td>29922392</td>\n",
       "      <td>543843</td>\n",
       "      <td>29869514</td>\n",
       "      <td>542949</td>\n",
       "      <td>52878</td>\n",
       "      <td>894</td>\n",
       "      <td>1.82</td>\n",
       "      <td>North America</td>\n",
       "    </tr>\n",
       "    <tr>\n",
       "      <th>1</th>\n",
       "      <td>Brazil</td>\n",
       "      <td>12130019</td>\n",
       "      <td>298676</td>\n",
       "      <td>12047526</td>\n",
       "      <td>295425</td>\n",
       "      <td>82493</td>\n",
       "      <td>3251</td>\n",
       "      <td>2.46</td>\n",
       "      <td>South America</td>\n",
       "    </tr>\n",
       "    <tr>\n",
       "      <th>2</th>\n",
       "      <td>India</td>\n",
       "      <td>11734058</td>\n",
       "      <td>160441</td>\n",
       "      <td>11686796</td>\n",
       "      <td>160166</td>\n",
       "      <td>47262</td>\n",
       "      <td>275</td>\n",
       "      <td>1.37</td>\n",
       "      <td>Asia</td>\n",
       "    </tr>\n",
       "    <tr>\n",
       "      <th>3</th>\n",
       "      <td>Russia</td>\n",
       "      <td>4424595</td>\n",
       "      <td>94231</td>\n",
       "      <td>4416226</td>\n",
       "      <td>93812</td>\n",
       "      <td>8369</td>\n",
       "      <td>419</td>\n",
       "      <td>2.13</td>\n",
       "      <td>Europe</td>\n",
       "    </tr>\n",
       "    <tr>\n",
       "      <th>4</th>\n",
       "      <td>France</td>\n",
       "      <td>4373607</td>\n",
       "      <td>93064</td>\n",
       "      <td>4358910</td>\n",
       "      <td>92776</td>\n",
       "      <td>14697</td>\n",
       "      <td>288</td>\n",
       "      <td>2.13</td>\n",
       "      <td>Europe</td>\n",
       "    </tr>\n",
       "  </tbody>\n",
       "</table>\n",
       "</div>"
      ],
      "text/plain": [
       "  Country/Region     Cases  Deaths    PCases  PDeaths  Cases (+)  Deaths (+)  \\\n",
       "0             US  29922392  543843  29869514   542949      52878         894   \n",
       "1         Brazil  12130019  298676  12047526   295425      82493        3251   \n",
       "2          India  11734058  160441  11686796   160166      47262         275   \n",
       "3         Russia   4424595   94231   4416226    93812       8369         419   \n",
       "4         France   4373607   93064   4358910    92776      14697         288   \n",
       "\n",
       "   Fatality Rate      Continent  \n",
       "0           1.82  North America  \n",
       "1           2.46  South America  \n",
       "2           1.37           Asia  \n",
       "3           2.13         Europe  \n",
       "4           2.13         Europe  "
      ]
     },
     "execution_count": 13,
     "metadata": {},
     "output_type": "execute_result"
    }
   ],
   "source": [
    "#hide\n",
    "for c in 'Cases, Deaths'.split(', '):\n",
    "    df_table[f'{c} (+)'] = (df_table[c] - df_table[f'P{c}']).clip(0)\n",
    "    #Clip ça veut dire, les chiffres negatif sont interdit\n",
    "df_table['Fatality Rate'] = (100* df_table['Deaths']/ df_table['Cases']).round(2)\n",
    "df_table['Continent'] = df_table['Country/Region'].map(mapping['map.continent'])\n",
    "df_table.head(5)"
   ]
  },
  {
   "cell_type": "code",
   "execution_count": 14,
   "id": "aboriginal-bulgaria",
   "metadata": {
    "execution": {
     "iopub.execute_input": "2021-03-25T00:07:21.292449Z",
     "iopub.status.busy": "2021-03-25T00:07:21.291954Z",
     "iopub.status.idle": "2021-03-25T00:07:21.294223Z",
     "shell.execute_reply": "2021-03-25T00:07:21.293803Z"
    },
    "papermill": {
     "duration": 0.038248,
     "end_time": "2021-03-25T00:07:21.294335",
     "exception": false,
     "start_time": "2021-03-25T00:07:21.256087",
     "status": "completed"
    },
    "tags": []
   },
   "outputs": [],
   "source": [
    "#hide\n",
    "#delete problematic countries from table\n",
    "df_table = df_table[~df_table['Country/Region'].isin(['Cape Verde', 'Cruise Ship', 'Kosovo'])]"
   ]
  },
  {
   "cell_type": "code",
   "execution_count": 15,
   "id": "fantastic-effect",
   "metadata": {
    "execution": {
     "iopub.execute_input": "2021-03-25T00:07:21.363451Z",
     "iopub.status.busy": "2021-03-25T00:07:21.362941Z",
     "iopub.status.idle": "2021-03-25T00:07:21.379339Z",
     "shell.execute_reply": "2021-03-25T00:07:21.378930Z"
    },
    "papermill": {
     "duration": 0.054676,
     "end_time": "2021-03-25T00:07:21.379451",
     "exception": false,
     "start_time": "2021-03-25T00:07:21.324775",
     "status": "completed"
    },
    "tags": []
   },
   "outputs": [
    {
     "data": {
      "text/html": [
       "<div>\n",
       "<style scoped>\n",
       "    .dataframe tbody tr th:only-of-type {\n",
       "        vertical-align: middle;\n",
       "    }\n",
       "\n",
       "    .dataframe tbody tr th {\n",
       "        vertical-align: top;\n",
       "    }\n",
       "\n",
       "    .dataframe thead th {\n",
       "        text-align: right;\n",
       "    }\n",
       "</style>\n",
       "<table border=\"1\" class=\"dataframe\">\n",
       "  <thead>\n",
       "    <tr style=\"text-align: right;\">\n",
       "      <th></th>\n",
       "      <th>Country/Region</th>\n",
       "      <th>Cases</th>\n",
       "      <th>Deaths</th>\n",
       "      <th>PCases</th>\n",
       "      <th>PDeaths</th>\n",
       "      <th>Cases (+)</th>\n",
       "      <th>Deaths (+)</th>\n",
       "      <th>Fatality Rate</th>\n",
       "      <th>Continent</th>\n",
       "    </tr>\n",
       "  </thead>\n",
       "  <tbody>\n",
       "    <tr>\n",
       "      <th>0</th>\n",
       "      <td>US</td>\n",
       "      <td>29922392</td>\n",
       "      <td>543843</td>\n",
       "      <td>29869514</td>\n",
       "      <td>542949</td>\n",
       "      <td>52878</td>\n",
       "      <td>894</td>\n",
       "      <td>1.8</td>\n",
       "      <td>North America</td>\n",
       "    </tr>\n",
       "    <tr>\n",
       "      <th>1</th>\n",
       "      <td>Brazil</td>\n",
       "      <td>12130019</td>\n",
       "      <td>298676</td>\n",
       "      <td>12047526</td>\n",
       "      <td>295425</td>\n",
       "      <td>82493</td>\n",
       "      <td>3251</td>\n",
       "      <td>2.5</td>\n",
       "      <td>South America</td>\n",
       "    </tr>\n",
       "    <tr>\n",
       "      <th>2</th>\n",
       "      <td>India</td>\n",
       "      <td>11734058</td>\n",
       "      <td>160441</td>\n",
       "      <td>11686796</td>\n",
       "      <td>160166</td>\n",
       "      <td>47262</td>\n",
       "      <td>275</td>\n",
       "      <td>1.4</td>\n",
       "      <td>Asia</td>\n",
       "    </tr>\n",
       "    <tr>\n",
       "      <th>3</th>\n",
       "      <td>Russia</td>\n",
       "      <td>4424595</td>\n",
       "      <td>94231</td>\n",
       "      <td>4416226</td>\n",
       "      <td>93812</td>\n",
       "      <td>8369</td>\n",
       "      <td>419</td>\n",
       "      <td>2.1</td>\n",
       "      <td>Europe</td>\n",
       "    </tr>\n",
       "    <tr>\n",
       "      <th>4</th>\n",
       "      <td>France</td>\n",
       "      <td>4373607</td>\n",
       "      <td>93064</td>\n",
       "      <td>4358910</td>\n",
       "      <td>92776</td>\n",
       "      <td>14697</td>\n",
       "      <td>288</td>\n",
       "      <td>2.1</td>\n",
       "      <td>Europe</td>\n",
       "    </tr>\n",
       "  </tbody>\n",
       "</table>\n",
       "</div>"
      ],
      "text/plain": [
       "  Country/Region     Cases  Deaths    PCases  PDeaths  Cases (+)  Deaths (+)  \\\n",
       "0             US  29922392  543843  29869514   542949      52878         894   \n",
       "1         Brazil  12130019  298676  12047526   295425      82493        3251   \n",
       "2          India  11734058  160441  11686796   160166      47262         275   \n",
       "3         Russia   4424595   94231   4416226    93812       8369         419   \n",
       "4         France   4373607   93064   4358910    92776      14697         288   \n",
       "\n",
       "   Fatality Rate      Continent  \n",
       "0            1.8  North America  \n",
       "1            2.5  South America  \n",
       "2            1.4           Asia  \n",
       "3            2.1         Europe  \n",
       "4            2.1         Europe  "
      ]
     },
     "execution_count": 15,
     "metadata": {},
     "output_type": "execute_result"
    }
   ],
   "source": [
    "#hide\n",
    "df_table = (pd.DataFrame(dict(Cases=dfc_cases, Deaths=dfc_deaths, PCases=dfp_cases, PDeaths=dfp_deaths))\n",
    "             .sort_values(by=['Cases', 'Deaths'], ascending=[False, False])\n",
    "             .reset_index())\n",
    "df_table.rename(columns={'index': 'Country/Region'}, inplace=True)\n",
    "for c in 'Cases, Deaths'.split(', '):\n",
    "    df_table[f'{c} (+)'] = (df_table[c] - df_table[f'P{c}']).clip(0)  # DATA BUG\n",
    "df_table['Fatality Rate'] = (100 * df_table['Deaths'] / df_table['Cases']).round(1)\n",
    "df_table['Continent'] = df_table['Country/Region'].map(mapping['map.continent'])\n",
    "df_table.head(5)"
   ]
  },
  {
   "cell_type": "code",
   "execution_count": 16,
   "id": "fewer-occasion",
   "metadata": {
    "execution": {
     "iopub.execute_input": "2021-03-25T00:07:21.447603Z",
     "iopub.status.busy": "2021-03-25T00:07:21.447006Z",
     "iopub.status.idle": "2021-03-25T00:07:21.448446Z",
     "shell.execute_reply": "2021-03-25T00:07:21.448933Z"
    },
    "papermill": {
     "duration": 0.038459,
     "end_time": "2021-03-25T00:07:21.449074",
     "exception": false,
     "start_time": "2021-03-25T00:07:21.410615",
     "status": "completed"
    },
    "tags": []
   },
   "outputs": [],
   "source": [
    "#hide\n",
    "#delete problematic countries from table\n",
    "df_table = df_table[~df_table['Country/Region'].isin(['Cape Verde', 'Cruise Ship', 'Kosovo'])]"
   ]
  },
  {
   "cell_type": "code",
   "execution_count": 17,
   "id": "related-center",
   "metadata": {
    "execution": {
     "iopub.execute_input": "2021-03-25T00:07:21.530205Z",
     "iopub.status.busy": "2021-03-25T00:07:21.529632Z",
     "iopub.status.idle": "2021-03-25T00:07:21.531751Z",
     "shell.execute_reply": "2021-03-25T00:07:21.531254Z"
    },
    "papermill": {
     "duration": 0.051554,
     "end_time": "2021-03-25T00:07:21.531865",
     "exception": false,
     "start_time": "2021-03-25T00:07:21.480311",
     "status": "completed"
    },
    "tags": []
   },
   "outputs": [],
   "source": [
    "#hide\n",
    "metrics = [df_table.columns[index] for index in [1,2,5,6]]\n",
    "# s_china = df_table[df_table['Country/Region'].eq('China')][metrics].sum().add_prefix('China ')\n",
    "s_us = df_table[df_table['Country/Region'].eq('US')][metrics].sum().add_prefix('US ')\n",
    "s_eu = df_table[df_table['Continent'].eq('Europe')][metrics].sum().add_prefix('EU ')\n",
    "s_ind = df_table[df_table['Country/Region'].eq('India')][metrics].sum().add_prefix('India ')\n",
    "summary = {'updated': pd.to_datetime(dt_today), 'since': pd.to_datetime(dt_yday)}\n",
    "summary = {'updated': pd.to_datetime(dt_today), 'since': pd.to_datetime(dt_yday)}\n",
    "summary = {**summary, **df_table[metrics].sum(), **s_ind, **s_us, **s_eu}"
   ]
  },
  {
   "cell_type": "code",
   "execution_count": 18,
   "id": "engaging-syndrome",
   "metadata": {
    "execution": {
     "iopub.execute_input": "2021-03-25T00:07:21.598820Z",
     "iopub.status.busy": "2021-03-25T00:07:21.598307Z",
     "iopub.status.idle": "2021-03-25T00:07:21.608976Z",
     "shell.execute_reply": "2021-03-25T00:07:21.609350Z"
    },
    "papermill": {
     "duration": 0.046461,
     "end_time": "2021-03-25T00:07:21.609476",
     "exception": false,
     "start_time": "2021-03-25T00:07:21.563015",
     "status": "completed"
    },
    "tags": []
   },
   "outputs": [],
   "source": [
    "#hide\n",
    "dft_ct_new_cases = dft_cases.groupby(COL_REGION)[dt_cols].sum().diff(axis=1).fillna(0).astype(int)"
   ]
  },
  {
   "cell_type": "code",
   "execution_count": 19,
   "id": "neutral-assignment",
   "metadata": {
    "execution": {
     "iopub.execute_input": "2021-03-25T00:07:21.676908Z",
     "iopub.status.busy": "2021-03-25T00:07:21.676412Z",
     "iopub.status.idle": "2021-03-25T00:07:21.678514Z",
     "shell.execute_reply": "2021-03-25T00:07:21.678085Z"
    },
    "papermill": {
     "duration": 0.038212,
     "end_time": "2021-03-25T00:07:21.678619",
     "exception": false,
     "start_time": "2021-03-25T00:07:21.640407",
     "status": "completed"
    },
    "tags": []
   },
   "outputs": [],
   "source": [
    "#hide\n",
    "everydaycases = dft_ct_new_cases.cumsum(axis=1)"
   ]
  },
  {
   "cell_type": "code",
   "execution_count": 20,
   "id": "parliamentary-calgary",
   "metadata": {
    "execution": {
     "iopub.execute_input": "2021-03-25T00:07:21.745185Z",
     "iopub.status.busy": "2021-03-25T00:07:21.744687Z",
     "iopub.status.idle": "2021-03-25T00:07:23.571234Z",
     "shell.execute_reply": "2021-03-25T00:07:23.571703Z"
    },
    "papermill": {
     "duration": 1.862282,
     "end_time": "2021-03-25T00:07:23.571861",
     "exception": false,
     "start_time": "2021-03-25T00:07:21.709579",
     "status": "completed"
    },
    "tags": []
   },
   "outputs": [],
   "source": [
    "#hide\n",
    "import pandas as pd\n",
    "import matplotlib.pyplot as plt\n",
    "import matplotlib.ticker as ticker\n",
    "import matplotlib.animation as animation\n",
    "from IPython.display import HTML"
   ]
  },
  {
   "cell_type": "code",
   "execution_count": 21,
   "id": "lasting-extraction",
   "metadata": {
    "execution": {
     "iopub.execute_input": "2021-03-25T00:07:23.640184Z",
     "iopub.status.busy": "2021-03-25T00:07:23.639680Z",
     "iopub.status.idle": "2021-03-25T00:07:23.645287Z",
     "shell.execute_reply": "2021-03-25T00:07:23.644876Z"
    },
    "papermill": {
     "duration": 0.041598,
     "end_time": "2021-03-25T00:07:23.645399",
     "exception": false,
     "start_time": "2021-03-25T00:07:23.603801",
     "status": "completed"
    },
    "tags": []
   },
   "outputs": [],
   "source": [
    "#hide\n",
    "t = everydaycases.stack()"
   ]
  },
  {
   "cell_type": "code",
   "execution_count": 22,
   "id": "premier-sleeve",
   "metadata": {
    "execution": {
     "iopub.execute_input": "2021-03-25T00:07:23.711767Z",
     "iopub.status.busy": "2021-03-25T00:07:23.711268Z",
     "iopub.status.idle": "2021-03-25T00:07:23.718109Z",
     "shell.execute_reply": "2021-03-25T00:07:23.718514Z"
    },
    "papermill": {
     "duration": 0.042114,
     "end_time": "2021-03-25T00:07:23.718637",
     "exception": false,
     "start_time": "2021-03-25T00:07:23.676523",
     "status": "completed"
    },
    "tags": []
   },
   "outputs": [],
   "source": [
    "#hide\n",
    "g = t.reset_index(['Country/Region'])"
   ]
  },
  {
   "cell_type": "code",
   "execution_count": 23,
   "id": "distributed-pittsburgh",
   "metadata": {
    "execution": {
     "iopub.execute_input": "2021-03-25T00:07:23.784791Z",
     "iopub.status.busy": "2021-03-25T00:07:23.784200Z",
     "iopub.status.idle": "2021-03-25T00:07:23.785638Z",
     "shell.execute_reply": "2021-03-25T00:07:23.786146Z"
    },
    "papermill": {
     "duration": 0.03674,
     "end_time": "2021-03-25T00:07:23.786285",
     "exception": false,
     "start_time": "2021-03-25T00:07:23.749545",
     "status": "completed"
    },
    "tags": []
   },
   "outputs": [],
   "source": [
    "#hide\n",
    "g.index.name = 'date'"
   ]
  },
  {
   "cell_type": "code",
   "execution_count": 24,
   "id": "naked-donor",
   "metadata": {
    "execution": {
     "iopub.execute_input": "2021-03-25T00:07:23.852321Z",
     "iopub.status.busy": "2021-03-25T00:07:23.851714Z",
     "iopub.status.idle": "2021-03-25T00:07:23.853193Z",
     "shell.execute_reply": "2021-03-25T00:07:23.853676Z"
    },
    "papermill": {
     "duration": 0.036409,
     "end_time": "2021-03-25T00:07:23.853814",
     "exception": false,
     "start_time": "2021-03-25T00:07:23.817405",
     "status": "completed"
    },
    "tags": []
   },
   "outputs": [],
   "source": [
    "# #hide\n",
    "# g = g.reset_index(['date'])"
   ]
  },
  {
   "cell_type": "code",
   "execution_count": 25,
   "id": "incomplete-mustang",
   "metadata": {
    "execution": {
     "iopub.execute_input": "2021-03-25T00:07:23.920206Z",
     "iopub.status.busy": "2021-03-25T00:07:23.919704Z",
     "iopub.status.idle": "2021-03-25T00:07:23.921445Z",
     "shell.execute_reply": "2021-03-25T00:07:23.921841Z"
    },
    "papermill": {
     "duration": 0.036623,
     "end_time": "2021-03-25T00:07:23.921966",
     "exception": false,
     "start_time": "2021-03-25T00:07:23.885343",
     "status": "completed"
    },
    "tags": []
   },
   "outputs": [],
   "source": [
    "#hide\n",
    "# g.head()"
   ]
  },
  {
   "cell_type": "code",
   "execution_count": 26,
   "id": "specific-kruger",
   "metadata": {
    "execution": {
     "iopub.execute_input": "2021-03-25T00:07:23.988167Z",
     "iopub.status.busy": "2021-03-25T00:07:23.987650Z",
     "iopub.status.idle": "2021-03-25T00:07:23.989503Z",
     "shell.execute_reply": "2021-03-25T00:07:23.989877Z"
    },
    "papermill": {
     "duration": 0.036979,
     "end_time": "2021-03-25T00:07:23.990008",
     "exception": false,
     "start_time": "2021-03-25T00:07:23.953029",
     "status": "completed"
    },
    "tags": []
   },
   "outputs": [],
   "source": [
    "#hide\n",
    "# g.columns = ['date','country','cases']"
   ]
  },
  {
   "cell_type": "code",
   "execution_count": 27,
   "id": "tender-conversion",
   "metadata": {
    "execution": {
     "iopub.execute_input": "2021-03-25T00:07:24.056021Z",
     "iopub.status.busy": "2021-03-25T00:07:24.055525Z",
     "iopub.status.idle": "2021-03-25T00:07:24.057280Z",
     "shell.execute_reply": "2021-03-25T00:07:24.057701Z"
    },
    "papermill": {
     "duration": 0.036656,
     "end_time": "2021-03-25T00:07:24.057824",
     "exception": false,
     "start_time": "2021-03-25T00:07:24.021168",
     "status": "completed"
    },
    "tags": []
   },
   "outputs": [],
   "source": [
    "#hide\n",
    "# g['continent'] = g.country"
   ]
  },
  {
   "cell_type": "code",
   "execution_count": 28,
   "id": "substantial-wilderness",
   "metadata": {
    "execution": {
     "iopub.execute_input": "2021-03-25T00:07:24.123658Z",
     "iopub.status.busy": "2021-03-25T00:07:24.123142Z",
     "iopub.status.idle": "2021-03-25T00:07:24.124956Z",
     "shell.execute_reply": "2021-03-25T00:07:24.125328Z"
    },
    "papermill": {
     "duration": 0.036467,
     "end_time": "2021-03-25T00:07:24.125455",
     "exception": false,
     "start_time": "2021-03-25T00:07:24.088988",
     "status": "completed"
    },
    "tags": []
   },
   "outputs": [],
   "source": [
    "#hide\n",
    "# cols = list(g.columns.values)"
   ]
  },
  {
   "cell_type": "code",
   "execution_count": 29,
   "id": "solved-farming",
   "metadata": {
    "execution": {
     "iopub.execute_input": "2021-03-25T00:07:24.191408Z",
     "iopub.status.busy": "2021-03-25T00:07:24.190869Z",
     "iopub.status.idle": "2021-03-25T00:07:24.192820Z",
     "shell.execute_reply": "2021-03-25T00:07:24.192418Z"
    },
    "papermill": {
     "duration": 0.036544,
     "end_time": "2021-03-25T00:07:24.192931",
     "exception": false,
     "start_time": "2021-03-25T00:07:24.156387",
     "status": "completed"
    },
    "tags": []
   },
   "outputs": [],
   "source": [
    "#hide\n",
    "# cols.insert(0, cols.pop())"
   ]
  },
  {
   "cell_type": "code",
   "execution_count": 30,
   "id": "executed-adoption",
   "metadata": {
    "execution": {
     "iopub.execute_input": "2021-03-25T00:07:24.259077Z",
     "iopub.status.busy": "2021-03-25T00:07:24.258579Z",
     "iopub.status.idle": "2021-03-25T00:07:24.260793Z",
     "shell.execute_reply": "2021-03-25T00:07:24.260387Z"
    },
    "papermill": {
     "duration": 0.036601,
     "end_time": "2021-03-25T00:07:24.260905",
     "exception": false,
     "start_time": "2021-03-25T00:07:24.224304",
     "status": "completed"
    },
    "tags": []
   },
   "outputs": [],
   "source": [
    "#hide\n",
    "# g = g[cols]"
   ]
  },
  {
   "cell_type": "code",
   "execution_count": 31,
   "id": "subject-dublin",
   "metadata": {
    "execution": {
     "iopub.execute_input": "2021-03-25T00:07:24.326039Z",
     "iopub.status.busy": "2021-03-25T00:07:24.325547Z",
     "iopub.status.idle": "2021-03-25T00:07:24.327825Z",
     "shell.execute_reply": "2021-03-25T00:07:24.327429Z"
    },
    "papermill": {
     "duration": 0.036212,
     "end_time": "2021-03-25T00:07:24.327940",
     "exception": false,
     "start_time": "2021-03-25T00:07:24.291728",
     "status": "completed"
    },
    "tags": []
   },
   "outputs": [],
   "source": [
    "#hide\n",
    "# g['continent'] = g['continent'].map(mapping['map.continent'])"
   ]
  },
  {
   "cell_type": "code",
   "execution_count": 32,
   "id": "freelance-scout",
   "metadata": {
    "execution": {
     "iopub.execute_input": "2021-03-25T00:07:24.393540Z",
     "iopub.status.busy": "2021-03-25T00:07:24.393043Z",
     "iopub.status.idle": "2021-03-25T00:07:24.395092Z",
     "shell.execute_reply": "2021-03-25T00:07:24.394671Z"
    },
    "papermill": {
     "duration": 0.03629,
     "end_time": "2021-03-25T00:07:24.395198",
     "exception": false,
     "start_time": "2021-03-25T00:07:24.358908",
     "status": "completed"
    },
    "tags": []
   },
   "outputs": [],
   "source": [
    "#hide\n",
    "# g.head()"
   ]
  },
  {
   "cell_type": "code",
   "execution_count": 33,
   "id": "limited-engine",
   "metadata": {
    "execution": {
     "iopub.execute_input": "2021-03-25T00:07:24.460877Z",
     "iopub.status.busy": "2021-03-25T00:07:24.460366Z",
     "iopub.status.idle": "2021-03-25T00:07:24.462186Z",
     "shell.execute_reply": "2021-03-25T00:07:24.462621Z"
    },
    "papermill": {
     "duration": 0.036588,
     "end_time": "2021-03-25T00:07:24.462748",
     "exception": false,
     "start_time": "2021-03-25T00:07:24.426160",
     "status": "completed"
    },
    "tags": []
   },
   "outputs": [],
   "source": [
    "# hide\n",
    "# g['date'] = g['date'].astype('datetime64[ns]')"
   ]
  },
  {
   "cell_type": "code",
   "execution_count": 34,
   "id": "sophisticated-supervisor",
   "metadata": {
    "execution": {
     "iopub.execute_input": "2021-03-25T00:07:24.528850Z",
     "iopub.status.busy": "2021-03-25T00:07:24.528249Z",
     "iopub.status.idle": "2021-03-25T00:07:24.529705Z",
     "shell.execute_reply": "2021-03-25T00:07:24.530221Z"
    },
    "papermill": {
     "duration": 0.036394,
     "end_time": "2021-03-25T00:07:24.530369",
     "exception": false,
     "start_time": "2021-03-25T00:07:24.493975",
     "status": "completed"
    },
    "tags": []
   },
   "outputs": [],
   "source": [
    "#hide\n",
    "# g['date'] = g.date.dt.dayofyear"
   ]
  },
  {
   "cell_type": "code",
   "execution_count": 35,
   "id": "inside-dubai",
   "metadata": {
    "execution": {
     "iopub.execute_input": "2021-03-25T00:07:24.597104Z",
     "iopub.status.busy": "2021-03-25T00:07:24.596589Z",
     "iopub.status.idle": "2021-03-25T00:07:24.598968Z",
     "shell.execute_reply": "2021-03-25T00:07:24.598561Z"
    },
    "papermill": {
     "duration": 0.036875,
     "end_time": "2021-03-25T00:07:24.599081",
     "exception": false,
     "start_time": "2021-03-25T00:07:24.562206",
     "status": "completed"
    },
    "tags": []
   },
   "outputs": [],
   "source": [
    "#hide\n",
    "# g = g.rename(columns= {'continent':'group','country':'name','cases':'value'})"
   ]
  },
  {
   "cell_type": "code",
   "execution_count": 36,
   "id": "fleet-motorcycle",
   "metadata": {
    "execution": {
     "iopub.execute_input": "2021-03-25T00:07:24.665303Z",
     "iopub.status.busy": "2021-03-25T00:07:24.664697Z",
     "iopub.status.idle": "2021-03-25T00:07:24.666158Z",
     "shell.execute_reply": "2021-03-25T00:07:24.666619Z"
    },
    "papermill": {
     "duration": 0.036323,
     "end_time": "2021-03-25T00:07:24.666759",
     "exception": false,
     "start_time": "2021-03-25T00:07:24.630436",
     "status": "completed"
    },
    "tags": []
   },
   "outputs": [],
   "source": [
    "#hide\n",
    "# cols = ['name','group','day','value']"
   ]
  },
  {
   "cell_type": "code",
   "execution_count": 37,
   "id": "continued-sleeping",
   "metadata": {
    "execution": {
     "iopub.execute_input": "2021-03-25T00:07:24.732812Z",
     "iopub.status.busy": "2021-03-25T00:07:24.732305Z",
     "iopub.status.idle": "2021-03-25T00:07:24.734781Z",
     "shell.execute_reply": "2021-03-25T00:07:24.734373Z"
    },
    "papermill": {
     "duration": 0.036862,
     "end_time": "2021-03-25T00:07:24.734892",
     "exception": false,
     "start_time": "2021-03-25T00:07:24.698030",
     "status": "completed"
    },
    "tags": []
   },
   "outputs": [],
   "source": [
    "#hide\n",
    "# g.rename(columns= {'date':'day'},inplace = True)"
   ]
  },
  {
   "cell_type": "code",
   "execution_count": 38,
   "id": "major-fight",
   "metadata": {
    "execution": {
     "iopub.execute_input": "2021-03-25T00:07:24.801356Z",
     "iopub.status.busy": "2021-03-25T00:07:24.800840Z",
     "iopub.status.idle": "2021-03-25T00:07:24.802590Z",
     "shell.execute_reply": "2021-03-25T00:07:24.802966Z"
    },
    "papermill": {
     "duration": 0.036906,
     "end_time": "2021-03-25T00:07:24.803096",
     "exception": false,
     "start_time": "2021-03-25T00:07:24.766190",
     "status": "completed"
    },
    "tags": []
   },
   "outputs": [],
   "source": [
    "#hide\n",
    "# g = g[cols]"
   ]
  },
  {
   "cell_type": "code",
   "execution_count": 39,
   "id": "structured-mobile",
   "metadata": {
    "execution": {
     "iopub.execute_input": "2021-03-25T00:07:24.868724Z",
     "iopub.status.busy": "2021-03-25T00:07:24.868229Z",
     "iopub.status.idle": "2021-03-25T00:07:24.870048Z",
     "shell.execute_reply": "2021-03-25T00:07:24.870451Z"
    },
    "papermill": {
     "duration": 0.036498,
     "end_time": "2021-03-25T00:07:24.870579",
     "exception": false,
     "start_time": "2021-03-25T00:07:24.834081",
     "status": "completed"
    },
    "tags": []
   },
   "outputs": [],
   "source": [
    "# #hide\n",
    "# g = g[g.group.notna()]"
   ]
  },
  {
   "cell_type": "code",
   "execution_count": 40,
   "id": "determined-closing",
   "metadata": {
    "execution": {
     "iopub.execute_input": "2021-03-25T00:07:24.936478Z",
     "iopub.status.busy": "2021-03-25T00:07:24.935975Z",
     "iopub.status.idle": "2021-03-25T00:07:24.938205Z",
     "shell.execute_reply": "2021-03-25T00:07:24.937783Z"
    },
    "papermill": {
     "duration": 0.036582,
     "end_time": "2021-03-25T00:07:24.938315",
     "exception": false,
     "start_time": "2021-03-25T00:07:24.901733",
     "status": "completed"
    },
    "tags": []
   },
   "outputs": [],
   "source": [
    "# #hide\n",
    "# colors = dict(zip(\n",
    "#     [\"Oceania\", \"Europe\", \"Asia\", \"South America\", \"Middle East\", \"North America\", \"Africa\"],\n",
    "#     [\"#adb0ff\", \"#ffb3ff\", \"#90d595\", \"#e48381\", \"#aafbff\", \"#f7bb5f\", \"#eafb50\"]\n",
    "# ))\n",
    "# group_lk = g.set_index('name')['group'].to_dict()"
   ]
  },
  {
   "cell_type": "code",
   "execution_count": null,
   "id": "gross-drinking",
   "metadata": {
    "papermill": {
     "duration": 0.031238,
     "end_time": "2021-03-25T00:07:25.000332",
     "exception": false,
     "start_time": "2021-03-25T00:07:24.969094",
     "status": "completed"
    },
    "tags": []
   },
   "outputs": [],
   "source": []
  },
  {
   "cell_type": "code",
   "execution_count": 41,
   "id": "subject-macintosh",
   "metadata": {
    "execution": {
     "iopub.execute_input": "2021-03-25T00:07:25.066269Z",
     "iopub.status.busy": "2021-03-25T00:07:25.065723Z",
     "iopub.status.idle": "2021-03-25T00:07:25.067367Z",
     "shell.execute_reply": "2021-03-25T00:07:25.067741Z"
    },
    "papermill": {
     "duration": 0.036617,
     "end_time": "2021-03-25T00:07:25.067868",
     "exception": false,
     "start_time": "2021-03-25T00:07:25.031251",
     "status": "completed"
    },
    "tags": []
   },
   "outputs": [],
   "source": [
    "# #hide\n",
    "# fig, ax = plt.subplots(figsize=(15, 8))\n",
    "\n",
    "# def draw_barchart(current_day):\n",
    "#     dff = g[g['day'].eq(current_day)].sort_values(by='value', ascending=True).tail(10)\n",
    "#     ax.clear()\n",
    "#     ax.barh(dff['name'], dff['value'], color=[colors[group_lk[x]] for x in dff['name']])\n",
    "#     dx = dff['value'].max() / 200\n",
    "    \n",
    "#     for i, (value, name) in enumerate(zip(dff['value'], dff['name'])):\n",
    "#         ax.text(value-dx, i,     name,           size=14, weight=600, ha='right', va='bottom')\n",
    "#         ax.text(value-dx, i-.25, group_lk[name], size=10, color='#444444', ha='right', va='baseline')\n",
    "#         ax.text(value+dx, i,     f'{value:,.0f}',  size=14, ha='left',  va='center')\n",
    "#     ax.text(1, 0.4, current_day, transform=ax.transAxes, color='#777777', size=46, ha='right', weight=800)\n",
    "#     ax.text(0, 1.06, 'Population (thousands)', transform=ax.transAxes, size=12, color='#777777')\n",
    "#     ax.xaxis.set_major_formatter(ticker.StrMethodFormatter('{x:,.0f}'))\n",
    "#     ax.xaxis.set_ticks_position('top')\n",
    "#     ax.tick_params(axis='x', colors='#777777', labelsize=12)\n",
    "#     ax.set_yticks([])\n",
    "#     ax.margins(0, 0.01)\n",
    "#     ax.grid(which='major', axis='x', linestyle='-')\n",
    "#     ax.set_axisbelow(True)\n",
    "    \n",
    "#     ax.text(0, 1.15, 'Coronavirus',\n",
    "#             transform=ax.transAxes, size=24, weight=600, ha='left', va='top')\n",
    "# #     ax.text(1, 0, 'by @pratapvardhan; credit @jburnmurdoch', transform=ax.transAxes, color='#777777', ha='right',\n",
    "# #             bbox=dict(facecolor='white', alpha=0.8, edgecolor='white'))\n",
    "#     plt.box(False)"
   ]
  },
  {
   "cell_type": "code",
   "execution_count": 42,
   "id": "sexual-wages",
   "metadata": {
    "execution": {
     "iopub.execute_input": "2021-03-25T00:07:25.133095Z",
     "iopub.status.busy": "2021-03-25T00:07:25.132593Z",
     "iopub.status.idle": "2021-03-25T00:07:25.134875Z",
     "shell.execute_reply": "2021-03-25T00:07:25.134462Z"
    },
    "papermill": {
     "duration": 0.036385,
     "end_time": "2021-03-25T00:07:25.134986",
     "exception": false,
     "start_time": "2021-03-25T00:07:25.098601",
     "status": "completed"
    },
    "tags": []
   },
   "outputs": [],
   "source": [
    "# #hide_input\n",
    "# fig, ax = plt.subplots(figsize=(15, 8))\n",
    "# animator = animation.FuncAnimation(fig, draw_barchart, frames=range(g.day.values.min(), g.day.values.max()))\n",
    "# HTML(animator.to_jshtml())\n",
    "# # or use animator.to_html5_video() or animator.save() "
   ]
  },
  {
   "cell_type": "code",
   "execution_count": null,
   "id": "australian-container",
   "metadata": {
    "papermill": {
     "duration": 0.030743,
     "end_time": "2021-03-25T00:07:25.196660",
     "exception": false,
     "start_time": "2021-03-25T00:07:25.165917",
     "status": "completed"
    },
    "tags": []
   },
   "outputs": [],
   "source": []
  },
  {
   "cell_type": "code",
   "execution_count": null,
   "id": "mediterranean-pontiac",
   "metadata": {
    "papermill": {
     "duration": 0.030823,
     "end_time": "2021-03-25T00:07:25.258223",
     "exception": false,
     "start_time": "2021-03-25T00:07:25.227400",
     "status": "completed"
    },
    "tags": []
   },
   "outputs": [],
   "source": []
  },
  {
   "cell_type": "code",
   "execution_count": null,
   "id": "aging-legislature",
   "metadata": {
    "papermill": {
     "duration": 0.030956,
     "end_time": "2021-03-25T00:07:25.320205",
     "exception": false,
     "start_time": "2021-03-25T00:07:25.289249",
     "status": "completed"
    },
    "tags": []
   },
   "outputs": [],
   "source": []
  }
 ],
 "metadata": {
  "kernelspec": {
   "display_name": "Python 3",
   "language": "python",
   "name": "python3"
  },
  "language_info": {
   "codemirror_mode": {
    "name": "ipython",
    "version": 3
   },
   "file_extension": ".py",
   "mimetype": "text/x-python",
   "name": "python",
   "nbconvert_exporter": "python",
   "pygments_lexer": "ipython3",
   "version": "3.6.13"
  },
  "papermill": {
   "duration": 6.993678,
   "end_time": "2021-03-25T00:07:25.658073",
   "environment_variables": {},
   "exception": null,
   "input_path": "2020-03-21-covid19exp.ipynb",
   "output_path": "2020-03-21-covid19exp.ipynb",
   "parameters": {},
   "start_time": "2021-03-25T00:07:18.664395",
   "version": "2.0.0"
  }
 },
 "nbformat": 4,
 "nbformat_minor": 5
}