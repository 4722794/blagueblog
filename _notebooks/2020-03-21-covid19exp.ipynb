{
 "cells": [
  {
   "cell_type": "markdown",
   "id": "muslim-click",
   "metadata": {
    "papermill": {
     "duration": 0.042301,
     "end_time": "2022-06-13T00:45:25.089600",
     "exception": false,
     "start_time": "2022-06-13T00:45:25.047299",
     "status": "completed"
    },
    "tags": []
   },
   "source": [
    "# COVID-19 Case Race\n",
    "> A race chart to see rising cases around the world\n",
    "\n",
    "- author: Hargun Oberoi\n",
    "- image: images/covid-overview.png\n",
    "- hide: false\n",
    "- badges: false"
   ]
  },
  {
   "cell_type": "code",
   "execution_count": 1,
   "id": "proof-material",
   "metadata": {
    "execution": {
     "iopub.execute_input": "2022-06-13T00:45:25.174137Z",
     "iopub.status.busy": "2022-06-13T00:45:25.173432Z",
     "iopub.status.idle": "2022-06-13T00:45:25.557169Z",
     "shell.execute_reply": "2022-06-13T00:45:25.556208Z"
    },
    "papermill": {
     "duration": 0.432801,
     "end_time": "2022-06-13T00:45:25.557318",
     "exception": false,
     "start_time": "2022-06-13T00:45:25.124517",
     "status": "completed"
    },
    "tags": []
   },
   "outputs": [],
   "source": [
    "#hide\n",
    "import numpy as np\n",
    "import pandas as pd\n",
    "from jinja2 import Template\n",
    "from IPython.display import HTML"
   ]
  },
  {
   "cell_type": "code",
   "execution_count": 2,
   "id": "developed-terminology",
   "metadata": {
    "execution": {
     "iopub.execute_input": "2022-06-13T00:45:25.634245Z",
     "iopub.status.busy": "2022-06-13T00:45:25.633476Z",
     "iopub.status.idle": "2022-06-13T00:45:25.635827Z",
     "shell.execute_reply": "2022-06-13T00:45:25.636435Z"
    },
    "papermill": {
     "duration": 0.044168,
     "end_time": "2022-06-13T00:45:25.636573",
     "exception": false,
     "start_time": "2022-06-13T00:45:25.592405",
     "status": "completed"
    },
    "tags": []
   },
   "outputs": [],
   "source": [
    "#hide\n",
    "\n",
    "# FETCH\n",
    "base_url = 'https://raw.githubusercontent.com/pratapvardhan/notebooks/master/covid19/'\n",
    "paths = {\n",
    "    'mapping': base_url + 'mapping_countries.csv',\n",
    "    'overview': base_url + 'overview.tpl'\n",
    "}"
   ]
  },
  {
   "cell_type": "code",
   "execution_count": 3,
   "id": "dynamic-saver",
   "metadata": {
    "execution": {
     "iopub.execute_input": "2022-06-13T00:45:25.725778Z",
     "iopub.status.busy": "2022-06-13T00:45:25.724954Z",
     "iopub.status.idle": "2022-06-13T00:45:25.729232Z",
     "shell.execute_reply": "2022-06-13T00:45:25.728570Z"
    },
    "papermill": {
     "duration": 0.049809,
     "end_time": "2022-06-13T00:45:25.729409",
     "exception": false,
     "start_time": "2022-06-13T00:45:25.679600",
     "status": "completed"
    },
    "tags": []
   },
   "outputs": [
    {
     "data": {
      "text/plain": [
       "'https://raw.githubusercontent.com/pratapvardhan/notebooks/master/covid19/mapping_countries.csv'"
      ]
     },
     "execution_count": 3,
     "metadata": {},
     "output_type": "execute_result"
    }
   ],
   "source": [
    "#hide\n",
    "paths['mapping']"
   ]
  },
  {
   "cell_type": "code",
   "execution_count": 4,
   "id": "urban-software",
   "metadata": {
    "execution": {
     "iopub.execute_input": "2022-06-13T00:45:25.808498Z",
     "iopub.status.busy": "2022-06-13T00:45:25.807778Z",
     "iopub.status.idle": "2022-06-13T00:45:25.810421Z",
     "shell.execute_reply": "2022-06-13T00:45:25.809776Z"
    },
    "papermill": {
     "duration": 0.043522,
     "end_time": "2022-06-13T00:45:25.810575",
     "exception": false,
     "start_time": "2022-06-13T00:45:25.767053",
     "status": "completed"
    },
    "tags": []
   },
   "outputs": [],
   "source": [
    "#hide\n",
    "def get_mappings(url):\n",
    "    df = pd.read_csv(url)\n",
    "    return {\n",
    "        'df': df,\n",
    "        'replace.country': dict(df.dropna(subset=['Name']).set_index('Country')['Name']),\n",
    "        'map.continent': dict(df.set_index('Name')['Continent'])\n",
    "    }"
   ]
  },
  {
   "cell_type": "code",
   "execution_count": 5,
   "id": "intimate-machinery",
   "metadata": {
    "execution": {
     "iopub.execute_input": "2022-06-13T00:45:25.891921Z",
     "iopub.status.busy": "2022-06-13T00:45:25.891087Z",
     "iopub.status.idle": "2022-06-13T00:45:25.927991Z",
     "shell.execute_reply": "2022-06-13T00:45:25.927370Z"
    },
    "papermill": {
     "duration": 0.081994,
     "end_time": "2022-06-13T00:45:25.928167",
     "exception": false,
     "start_time": "2022-06-13T00:45:25.846173",
     "status": "completed"
    },
    "tags": []
   },
   "outputs": [],
   "source": [
    "#hide\n",
    "mapping = get_mappings(paths['mapping'])"
   ]
  },
  {
   "cell_type": "code",
   "execution_count": 6,
   "id": "certified-tactics",
   "metadata": {
    "execution": {
     "iopub.execute_input": "2022-06-13T00:45:26.012972Z",
     "iopub.status.busy": "2022-06-13T00:45:26.012323Z",
     "iopub.status.idle": "2022-06-13T00:45:26.015613Z",
     "shell.execute_reply": "2022-06-13T00:45:26.014815Z"
    },
    "papermill": {
     "duration": 0.044107,
     "end_time": "2022-06-13T00:45:26.015793",
     "exception": false,
     "start_time": "2022-06-13T00:45:25.971686",
     "status": "completed"
    },
    "tags": []
   },
   "outputs": [],
   "source": [
    "#hide\n",
    "def get_template(path):\n",
    "    from urllib.parse import urlparse\n",
    "    if bool(urlparse(path).netloc):\n",
    "        from urllib.request import urlopen\n",
    "        return urlopen(path).read().decode('utf8')\n",
    "    return open(path).read()"
   ]
  },
  {
   "cell_type": "code",
   "execution_count": 7,
   "id": "realistic-blast",
   "metadata": {
    "execution": {
     "iopub.execute_input": "2022-06-13T00:45:26.097000Z",
     "iopub.status.busy": "2022-06-13T00:45:26.095950Z",
     "iopub.status.idle": "2022-06-13T00:45:26.100411Z",
     "shell.execute_reply": "2022-06-13T00:45:26.099588Z"
    },
    "papermill": {
     "duration": 0.050676,
     "end_time": "2022-06-13T00:45:26.100565",
     "exception": false,
     "start_time": "2022-06-13T00:45:26.049889",
     "status": "completed"
    },
    "tags": []
   },
   "outputs": [],
   "source": [
    "#hide\n",
    "def get_frame(name):\n",
    "    url = (\n",
    "        'https://raw.githubusercontent.com/CSSEGISandData/COVID-19/master/csse_covid_19_data/'\n",
    "        f'csse_covid_19_time_series/time_series_covid19_{name}_global.csv')\n",
    "    df = pd.read_csv(url)\n",
    "    # rename countries\n",
    "    df['Country/Region'] = df['Country/Region'].replace(mapping['replace.country'])\n",
    "    return df"
   ]
  },
  {
   "cell_type": "code",
   "execution_count": 8,
   "id": "affiliated-characterization",
   "metadata": {
    "execution": {
     "iopub.execute_input": "2022-06-13T00:45:26.183487Z",
     "iopub.status.busy": "2022-06-13T00:45:26.182574Z",
     "iopub.status.idle": "2022-06-13T00:45:26.186026Z",
     "shell.execute_reply": "2022-06-13T00:45:26.185405Z"
    },
    "papermill": {
     "duration": 0.049307,
     "end_time": "2022-06-13T00:45:26.186211",
     "exception": false,
     "start_time": "2022-06-13T00:45:26.136904",
     "status": "completed"
    },
    "tags": []
   },
   "outputs": [],
   "source": [
    "#hide\n",
    "def get_dates(df):\n",
    "    dt_cols = df.columns[~df.columns.isin(['Province/State', 'Country/Region', 'Lat', 'Long'])]\n",
    "    LAST_DATE_I = -1\n",
    "    # sometimes last column may be empty, then go backwards\n",
    "    for i in range(-1, -len(dt_cols), -1):\n",
    "        if not df[dt_cols[i]].fillna(0).eq(0).all():\n",
    "            LAST_DATE_I = i\n",
    "            break\n",
    "    return LAST_DATE_I, dt_cols"
   ]
  },
  {
   "cell_type": "code",
   "execution_count": 9,
   "id": "recent-optimization",
   "metadata": {
    "execution": {
     "iopub.execute_input": "2022-06-13T00:45:26.270037Z",
     "iopub.status.busy": "2022-06-13T00:45:26.269319Z",
     "iopub.status.idle": "2022-06-13T00:45:26.789403Z",
     "shell.execute_reply": "2022-06-13T00:45:26.789913Z"
    },
    "papermill": {
     "duration": 0.567839,
     "end_time": "2022-06-13T00:45:26.790073",
     "exception": false,
     "start_time": "2022-06-13T00:45:26.222234",
     "status": "completed"
    },
    "tags": []
   },
   "outputs": [],
   "source": [
    "#hide\n",
    "COL_REGION = 'Country/Region'\n",
    "# Confirmed, Recovered, Deaths\n",
    "df = get_frame('confirmed')\n",
    "# dft_: timeseries, dfc_: today country agg\n",
    "dft_cases = df\n",
    "dft_deaths = get_frame('deaths')\n",
    "dft_recovered = get_frame('recovered')\n",
    "LAST_DATE_I, dt_cols = get_dates(df)"
   ]
  },
  {
   "cell_type": "code",
   "execution_count": 10,
   "id": "absolute-copper",
   "metadata": {
    "execution": {
     "iopub.execute_input": "2022-06-13T00:45:26.872014Z",
     "iopub.status.busy": "2022-06-13T00:45:26.869104Z",
     "iopub.status.idle": "2022-06-13T00:45:26.872975Z",
     "shell.execute_reply": "2022-06-13T00:45:26.873618Z"
    },
    "papermill": {
     "duration": 0.047332,
     "end_time": "2022-06-13T00:45:26.873782",
     "exception": false,
     "start_time": "2022-06-13T00:45:26.826450",
     "status": "completed"
    },
    "tags": []
   },
   "outputs": [],
   "source": [
    "#hide\n",
    "LAST_DATE_I, dt_cols = get_dates(df)\n",
    "dt_today =dt_cols[LAST_DATE_I]\n",
    "# dt_5day = dt_cols[LAST_DATE_I - 5]\n",
    "dt_yday = dt_cols[LAST_DATE_I - 1]"
   ]
  },
  {
   "cell_type": "code",
   "execution_count": 11,
   "id": "restricted-sheriff",
   "metadata": {
    "execution": {
     "iopub.execute_input": "2022-06-13T00:45:26.958104Z",
     "iopub.status.busy": "2022-06-13T00:45:26.957253Z",
     "iopub.status.idle": "2022-06-13T00:45:26.968445Z",
     "shell.execute_reply": "2022-06-13T00:45:26.966349Z"
    },
    "papermill": {
     "duration": 0.052414,
     "end_time": "2022-06-13T00:45:26.968592",
     "exception": false,
     "start_time": "2022-06-13T00:45:26.916178",
     "status": "completed"
    },
    "tags": []
   },
   "outputs": [],
   "source": [
    "#hide\n",
    "dfc_cases = dft_cases.groupby(COL_REGION)[dt_today].sum()\n",
    "dfc_deaths = dft_deaths.groupby(COL_REGION)[dt_today].sum()\n",
    "# dfp_cases = dft_cases.groupby(COL_REGION)[dt_5day].sum()\n",
    "# dfp_deaths = dft_deaths.groupby(COL_REGION)[dt_5day].sum()\n",
    "dfp_cases = dft_cases.groupby(COL_REGION)[dt_yday].sum()\n",
    "dfp_deaths = dft_deaths.groupby(COL_REGION)[dt_yday].sum()"
   ]
  },
  {
   "cell_type": "code",
   "execution_count": 12,
   "id": "deluxe-hepatitis",
   "metadata": {
    "execution": {
     "iopub.execute_input": "2022-06-13T00:45:27.048495Z",
     "iopub.status.busy": "2022-06-13T00:45:27.047669Z",
     "iopub.status.idle": "2022-06-13T00:45:27.053991Z",
     "shell.execute_reply": "2022-06-13T00:45:27.053396Z"
    },
    "papermill": {
     "duration": 0.049629,
     "end_time": "2022-06-13T00:45:27.054128",
     "exception": false,
     "start_time": "2022-06-13T00:45:27.004499",
     "status": "completed"
    },
    "tags": []
   },
   "outputs": [],
   "source": [
    "#hide\n",
    "df_table = (pd.DataFrame(dict(Cases = dfc_cases, Deaths = dfc_deaths, PCases = dfp_cases, PDeaths = dfp_deaths))\n",
    "            .sort_values(by = ['Cases','Deaths'], ascending = [False, False])\n",
    "            .reset_index())"
   ]
  },
  {
   "cell_type": "code",
   "execution_count": 13,
   "id": "educational-chancellor",
   "metadata": {
    "execution": {
     "iopub.execute_input": "2022-06-13T00:45:27.151709Z",
     "iopub.status.busy": "2022-06-13T00:45:27.150827Z",
     "iopub.status.idle": "2022-06-13T00:45:27.161120Z",
     "shell.execute_reply": "2022-06-13T00:45:27.160574Z"
    },
    "papermill": {
     "duration": 0.068361,
     "end_time": "2022-06-13T00:45:27.161249",
     "exception": false,
     "start_time": "2022-06-13T00:45:27.092888",
     "status": "completed"
    },
    "tags": []
   },
   "outputs": [
    {
     "data": {
      "text/html": [
       "<div>\n",
       "<style scoped>\n",
       "    .dataframe tbody tr th:only-of-type {\n",
       "        vertical-align: middle;\n",
       "    }\n",
       "\n",
       "    .dataframe tbody tr th {\n",
       "        vertical-align: top;\n",
       "    }\n",
       "\n",
       "    .dataframe thead th {\n",
       "        text-align: right;\n",
       "    }\n",
       "</style>\n",
       "<table border=\"1\" class=\"dataframe\">\n",
       "  <thead>\n",
       "    <tr style=\"text-align: right;\">\n",
       "      <th></th>\n",
       "      <th>Country/Region</th>\n",
       "      <th>Cases</th>\n",
       "      <th>Deaths</th>\n",
       "      <th>PCases</th>\n",
       "      <th>PDeaths</th>\n",
       "      <th>Cases (+)</th>\n",
       "      <th>Deaths (+)</th>\n",
       "      <th>Fatality Rate</th>\n",
       "      <th>Continent</th>\n",
       "    </tr>\n",
       "  </thead>\n",
       "  <tbody>\n",
       "    <tr>\n",
       "      <th>0</th>\n",
       "      <td>US</td>\n",
       "      <td>85500976</td>\n",
       "      <td>1011260</td>\n",
       "      <td>85468816</td>\n",
       "      <td>1011164</td>\n",
       "      <td>32160</td>\n",
       "      <td>96</td>\n",
       "      <td>1.18</td>\n",
       "      <td>North America</td>\n",
       "    </tr>\n",
       "    <tr>\n",
       "      <th>1</th>\n",
       "      <td>India</td>\n",
       "      <td>43222017</td>\n",
       "      <td>524761</td>\n",
       "      <td>43213435</td>\n",
       "      <td>524757</td>\n",
       "      <td>8582</td>\n",
       "      <td>4</td>\n",
       "      <td>1.21</td>\n",
       "      <td>Asia</td>\n",
       "    </tr>\n",
       "    <tr>\n",
       "      <th>2</th>\n",
       "      <td>Brazil</td>\n",
       "      <td>31445137</td>\n",
       "      <td>668074</td>\n",
       "      <td>31417341</td>\n",
       "      <td>667960</td>\n",
       "      <td>27796</td>\n",
       "      <td>114</td>\n",
       "      <td>2.12</td>\n",
       "      <td>South America</td>\n",
       "    </tr>\n",
       "    <tr>\n",
       "      <th>3</th>\n",
       "      <td>France</td>\n",
       "      <td>29946603</td>\n",
       "      <td>149788</td>\n",
       "      <td>29946697</td>\n",
       "      <td>149749</td>\n",
       "      <td>0</td>\n",
       "      <td>39</td>\n",
       "      <td>0.50</td>\n",
       "      <td>Europe</td>\n",
       "    </tr>\n",
       "    <tr>\n",
       "      <th>4</th>\n",
       "      <td>Germany</td>\n",
       "      <td>26803867</td>\n",
       "      <td>139806</td>\n",
       "      <td>26803867</td>\n",
       "      <td>139806</td>\n",
       "      <td>0</td>\n",
       "      <td>0</td>\n",
       "      <td>0.52</td>\n",
       "      <td>Europe</td>\n",
       "    </tr>\n",
       "  </tbody>\n",
       "</table>\n",
       "</div>"
      ],
      "text/plain": [
       "  Country/Region     Cases   Deaths    PCases  PDeaths  Cases (+)  Deaths (+)  \\\n",
       "0             US  85500976  1011260  85468816  1011164      32160          96   \n",
       "1          India  43222017   524761  43213435   524757       8582           4   \n",
       "2         Brazil  31445137   668074  31417341   667960      27796         114   \n",
       "3         France  29946603   149788  29946697   149749          0          39   \n",
       "4        Germany  26803867   139806  26803867   139806          0           0   \n",
       "\n",
       "   Fatality Rate      Continent  \n",
       "0           1.18  North America  \n",
       "1           1.21           Asia  \n",
       "2           2.12  South America  \n",
       "3           0.50         Europe  \n",
       "4           0.52         Europe  "
      ]
     },
     "execution_count": 13,
     "metadata": {},
     "output_type": "execute_result"
    }
   ],
   "source": [
    "#hide\n",
    "for c in 'Cases, Deaths'.split(', '):\n",
    "    df_table[f'{c} (+)'] = (df_table[c] - df_table[f'P{c}']).clip(0)\n",
    "    #Clip ça veut dire, les chiffres negatif sont interdit\n",
    "df_table['Fatality Rate'] = (100* df_table['Deaths']/ df_table['Cases']).round(2)\n",
    "df_table['Continent'] = df_table['Country/Region'].map(mapping['map.continent'])\n",
    "df_table.head(5)"
   ]
  },
  {
   "cell_type": "code",
   "execution_count": 14,
   "id": "aboriginal-bulgaria",
   "metadata": {
    "execution": {
     "iopub.execute_input": "2022-06-13T00:45:27.246036Z",
     "iopub.status.busy": "2022-06-13T00:45:27.245309Z",
     "iopub.status.idle": "2022-06-13T00:45:27.248308Z",
     "shell.execute_reply": "2022-06-13T00:45:27.249001Z"
    },
    "papermill": {
     "duration": 0.04699,
     "end_time": "2022-06-13T00:45:27.249138",
     "exception": false,
     "start_time": "2022-06-13T00:45:27.202148",
     "status": "completed"
    },
    "tags": []
   },
   "outputs": [],
   "source": [
    "#hide\n",
    "#delete problematic countries from table\n",
    "df_table = df_table[~df_table['Country/Region'].isin(['Cape Verde', 'Cruise Ship', 'Kosovo'])]"
   ]
  },
  {
   "cell_type": "code",
   "execution_count": 15,
   "id": "fantastic-effect",
   "metadata": {
    "execution": {
     "iopub.execute_input": "2022-06-13T00:45:27.331152Z",
     "iopub.status.busy": "2022-06-13T00:45:27.330187Z",
     "iopub.status.idle": "2022-06-13T00:45:27.353424Z",
     "shell.execute_reply": "2022-06-13T00:45:27.354092Z"
    },
    "papermill": {
     "duration": 0.067077,
     "end_time": "2022-06-13T00:45:27.354235",
     "exception": false,
     "start_time": "2022-06-13T00:45:27.287158",
     "status": "completed"
    },
    "tags": []
   },
   "outputs": [
    {
     "data": {
      "text/html": [
       "<div>\n",
       "<style scoped>\n",
       "    .dataframe tbody tr th:only-of-type {\n",
       "        vertical-align: middle;\n",
       "    }\n",
       "\n",
       "    .dataframe tbody tr th {\n",
       "        vertical-align: top;\n",
       "    }\n",
       "\n",
       "    .dataframe thead th {\n",
       "        text-align: right;\n",
       "    }\n",
       "</style>\n",
       "<table border=\"1\" class=\"dataframe\">\n",
       "  <thead>\n",
       "    <tr style=\"text-align: right;\">\n",
       "      <th></th>\n",
       "      <th>Country/Region</th>\n",
       "      <th>Cases</th>\n",
       "      <th>Deaths</th>\n",
       "      <th>PCases</th>\n",
       "      <th>PDeaths</th>\n",
       "      <th>Cases (+)</th>\n",
       "      <th>Deaths (+)</th>\n",
       "      <th>Fatality Rate</th>\n",
       "      <th>Continent</th>\n",
       "    </tr>\n",
       "  </thead>\n",
       "  <tbody>\n",
       "    <tr>\n",
       "      <th>0</th>\n",
       "      <td>US</td>\n",
       "      <td>85500976</td>\n",
       "      <td>1011260</td>\n",
       "      <td>85468816</td>\n",
       "      <td>1011164</td>\n",
       "      <td>32160</td>\n",
       "      <td>96</td>\n",
       "      <td>1.2</td>\n",
       "      <td>North America</td>\n",
       "    </tr>\n",
       "    <tr>\n",
       "      <th>1</th>\n",
       "      <td>India</td>\n",
       "      <td>43222017</td>\n",
       "      <td>524761</td>\n",
       "      <td>43213435</td>\n",
       "      <td>524757</td>\n",
       "      <td>8582</td>\n",
       "      <td>4</td>\n",
       "      <td>1.2</td>\n",
       "      <td>Asia</td>\n",
       "    </tr>\n",
       "    <tr>\n",
       "      <th>2</th>\n",
       "      <td>Brazil</td>\n",
       "      <td>31445137</td>\n",
       "      <td>668074</td>\n",
       "      <td>31417341</td>\n",
       "      <td>667960</td>\n",
       "      <td>27796</td>\n",
       "      <td>114</td>\n",
       "      <td>2.1</td>\n",
       "      <td>South America</td>\n",
       "    </tr>\n",
       "    <tr>\n",
       "      <th>3</th>\n",
       "      <td>France</td>\n",
       "      <td>29946603</td>\n",
       "      <td>149788</td>\n",
       "      <td>29946697</td>\n",
       "      <td>149749</td>\n",
       "      <td>0</td>\n",
       "      <td>39</td>\n",
       "      <td>0.5</td>\n",
       "      <td>Europe</td>\n",
       "    </tr>\n",
       "    <tr>\n",
       "      <th>4</th>\n",
       "      <td>Germany</td>\n",
       "      <td>26803867</td>\n",
       "      <td>139806</td>\n",
       "      <td>26803867</td>\n",
       "      <td>139806</td>\n",
       "      <td>0</td>\n",
       "      <td>0</td>\n",
       "      <td>0.5</td>\n",
       "      <td>Europe</td>\n",
       "    </tr>\n",
       "  </tbody>\n",
       "</table>\n",
       "</div>"
      ],
      "text/plain": [
       "  Country/Region     Cases   Deaths    PCases  PDeaths  Cases (+)  Deaths (+)  \\\n",
       "0             US  85500976  1011260  85468816  1011164      32160          96   \n",
       "1          India  43222017   524761  43213435   524757       8582           4   \n",
       "2         Brazil  31445137   668074  31417341   667960      27796         114   \n",
       "3         France  29946603   149788  29946697   149749          0          39   \n",
       "4        Germany  26803867   139806  26803867   139806          0           0   \n",
       "\n",
       "   Fatality Rate      Continent  \n",
       "0            1.2  North America  \n",
       "1            1.2           Asia  \n",
       "2            2.1  South America  \n",
       "3            0.5         Europe  \n",
       "4            0.5         Europe  "
      ]
     },
     "execution_count": 15,
     "metadata": {},
     "output_type": "execute_result"
    }
   ],
   "source": [
    "#hide\n",
    "df_table = (pd.DataFrame(dict(Cases=dfc_cases, Deaths=dfc_deaths, PCases=dfp_cases, PDeaths=dfp_deaths))\n",
    "             .sort_values(by=['Cases', 'Deaths'], ascending=[False, False])\n",
    "             .reset_index())\n",
    "df_table.rename(columns={'index': 'Country/Region'}, inplace=True)\n",
    "for c in 'Cases, Deaths'.split(', '):\n",
    "    df_table[f'{c} (+)'] = (df_table[c] - df_table[f'P{c}']).clip(0)  # DATA BUG\n",
    "df_table['Fatality Rate'] = (100 * df_table['Deaths'] / df_table['Cases']).round(1)\n",
    "df_table['Continent'] = df_table['Country/Region'].map(mapping['map.continent'])\n",
    "df_table.head(5)"
   ]
  },
  {
   "cell_type": "code",
   "execution_count": 16,
   "id": "fewer-occasion",
   "metadata": {
    "execution": {
     "iopub.execute_input": "2022-06-13T00:45:27.440611Z",
     "iopub.status.busy": "2022-06-13T00:45:27.439949Z",
     "iopub.status.idle": "2022-06-13T00:45:27.443653Z",
     "shell.execute_reply": "2022-06-13T00:45:27.444289Z"
    },
    "papermill": {
     "duration": 0.053439,
     "end_time": "2022-06-13T00:45:27.444421",
     "exception": false,
     "start_time": "2022-06-13T00:45:27.390982",
     "status": "completed"
    },
    "tags": []
   },
   "outputs": [],
   "source": [
    "#hide\n",
    "#delete problematic countries from table\n",
    "df_table = df_table[~df_table['Country/Region'].isin(['Cape Verde', 'Cruise Ship', 'Kosovo'])]"
   ]
  },
  {
   "cell_type": "code",
   "execution_count": 17,
   "id": "related-center",
   "metadata": {
    "execution": {
     "iopub.execute_input": "2022-06-13T00:45:27.532032Z",
     "iopub.status.busy": "2022-06-13T00:45:27.531387Z",
     "iopub.status.idle": "2022-06-13T00:45:27.541053Z",
     "shell.execute_reply": "2022-06-13T00:45:27.541761Z"
    },
    "papermill": {
     "duration": 0.059863,
     "end_time": "2022-06-13T00:45:27.541914",
     "exception": false,
     "start_time": "2022-06-13T00:45:27.482051",
     "status": "completed"
    },
    "tags": []
   },
   "outputs": [],
   "source": [
    "#hide\n",
    "metrics = [df_table.columns[index] for index in [1,2,5,6]]\n",
    "# s_china = df_table[df_table['Country/Region'].eq('China')][metrics].sum().add_prefix('China ')\n",
    "s_us = df_table[df_table['Country/Region'].eq('US')][metrics].sum().add_prefix('US ')\n",
    "s_eu = df_table[df_table['Continent'].eq('Europe')][metrics].sum().add_prefix('EU ')\n",
    "s_ind = df_table[df_table['Country/Region'].eq('India')][metrics].sum().add_prefix('India ')\n",
    "summary = {'updated': pd.to_datetime(dt_today), 'since': pd.to_datetime(dt_yday)}\n",
    "summary = {'updated': pd.to_datetime(dt_today), 'since': pd.to_datetime(dt_yday)}\n",
    "summary = {**summary, **df_table[metrics].sum(), **s_ind, **s_us, **s_eu}"
   ]
  },
  {
   "cell_type": "code",
   "execution_count": 18,
   "id": "engaging-syndrome",
   "metadata": {
    "execution": {
     "iopub.execute_input": "2022-06-13T00:45:27.626280Z",
     "iopub.status.busy": "2022-06-13T00:45:27.625370Z",
     "iopub.status.idle": "2022-06-13T00:45:27.649805Z",
     "shell.execute_reply": "2022-06-13T00:45:27.649008Z"
    },
    "papermill": {
     "duration": 0.071225,
     "end_time": "2022-06-13T00:45:27.649951",
     "exception": false,
     "start_time": "2022-06-13T00:45:27.578726",
     "status": "completed"
    },
    "tags": []
   },
   "outputs": [],
   "source": [
    "#hide\n",
    "dft_ct_new_cases = dft_cases.groupby(COL_REGION)[dt_cols].sum().diff(axis=1).fillna(0).astype(int)"
   ]
  },
  {
   "cell_type": "code",
   "execution_count": 19,
   "id": "neutral-assignment",
   "metadata": {
    "execution": {
     "iopub.execute_input": "2022-06-13T00:45:27.735299Z",
     "iopub.status.busy": "2022-06-13T00:45:27.734358Z",
     "iopub.status.idle": "2022-06-13T00:45:27.738031Z",
     "shell.execute_reply": "2022-06-13T00:45:27.737504Z"
    },
    "papermill": {
     "duration": 0.048144,
     "end_time": "2022-06-13T00:45:27.738168",
     "exception": false,
     "start_time": "2022-06-13T00:45:27.690024",
     "status": "completed"
    },
    "tags": []
   },
   "outputs": [],
   "source": [
    "#hide\n",
    "everydaycases = dft_ct_new_cases.cumsum(axis=1)"
   ]
  },
  {
   "cell_type": "code",
   "execution_count": 20,
   "id": "parliamentary-calgary",
   "metadata": {
    "execution": {
     "iopub.execute_input": "2022-06-13T00:45:27.820021Z",
     "iopub.status.busy": "2022-06-13T00:45:27.819326Z",
     "iopub.status.idle": "2022-06-13T00:45:28.510439Z",
     "shell.execute_reply": "2022-06-13T00:45:28.507083Z"
    },
    "papermill": {
     "duration": 0.735206,
     "end_time": "2022-06-13T00:45:28.510587",
     "exception": false,
     "start_time": "2022-06-13T00:45:27.775381",
     "status": "completed"
    },
    "tags": []
   },
   "outputs": [],
   "source": [
    "#hide\n",
    "import pandas as pd\n",
    "import matplotlib.pyplot as plt\n",
    "import matplotlib.ticker as ticker\n",
    "import matplotlib.animation as animation\n",
    "from IPython.display import HTML"
   ]
  },
  {
   "cell_type": "code",
   "execution_count": 21,
   "id": "lasting-extraction",
   "metadata": {
    "execution": {
     "iopub.execute_input": "2022-06-13T00:45:28.596347Z",
     "iopub.status.busy": "2022-06-13T00:45:28.595426Z",
     "iopub.status.idle": "2022-06-13T00:45:28.603496Z",
     "shell.execute_reply": "2022-06-13T00:45:28.602721Z"
    },
    "papermill": {
     "duration": 0.055186,
     "end_time": "2022-06-13T00:45:28.603629",
     "exception": false,
     "start_time": "2022-06-13T00:45:28.548443",
     "status": "completed"
    },
    "tags": []
   },
   "outputs": [],
   "source": [
    "#hide\n",
    "t = everydaycases.stack()"
   ]
  },
  {
   "cell_type": "code",
   "execution_count": 22,
   "id": "premier-sleeve",
   "metadata": {
    "execution": {
     "iopub.execute_input": "2022-06-13T00:45:28.683475Z",
     "iopub.status.busy": "2022-06-13T00:45:28.682618Z",
     "iopub.status.idle": "2022-06-13T00:45:28.695468Z",
     "shell.execute_reply": "2022-06-13T00:45:28.694789Z"
    },
    "papermill": {
     "duration": 0.053945,
     "end_time": "2022-06-13T00:45:28.695602",
     "exception": false,
     "start_time": "2022-06-13T00:45:28.641657",
     "status": "completed"
    },
    "tags": []
   },
   "outputs": [],
   "source": [
    "#hide\n",
    "g = t.reset_index(['Country/Region'])"
   ]
  },
  {
   "cell_type": "code",
   "execution_count": 23,
   "id": "distributed-pittsburgh",
   "metadata": {
    "execution": {
     "iopub.execute_input": "2022-06-13T00:45:28.776488Z",
     "iopub.status.busy": "2022-06-13T00:45:28.775837Z",
     "iopub.status.idle": "2022-06-13T00:45:28.779198Z",
     "shell.execute_reply": "2022-06-13T00:45:28.778633Z"
    },
    "papermill": {
     "duration": 0.043581,
     "end_time": "2022-06-13T00:45:28.779320",
     "exception": false,
     "start_time": "2022-06-13T00:45:28.735739",
     "status": "completed"
    },
    "tags": []
   },
   "outputs": [],
   "source": [
    "#hide\n",
    "g.index.name = 'date'"
   ]
  },
  {
   "cell_type": "code",
   "execution_count": 24,
   "id": "naked-donor",
   "metadata": {
    "execution": {
     "iopub.execute_input": "2022-06-13T00:45:28.856449Z",
     "iopub.status.busy": "2022-06-13T00:45:28.855800Z",
     "iopub.status.idle": "2022-06-13T00:45:28.860202Z",
     "shell.execute_reply": "2022-06-13T00:45:28.860707Z"
    },
    "papermill": {
     "duration": 0.043953,
     "end_time": "2022-06-13T00:45:28.860846",
     "exception": false,
     "start_time": "2022-06-13T00:45:28.816893",
     "status": "completed"
    },
    "tags": []
   },
   "outputs": [],
   "source": [
    "# #hide\n",
    "# g = g.reset_index(['date'])"
   ]
  },
  {
   "cell_type": "code",
   "execution_count": 25,
   "id": "incomplete-mustang",
   "metadata": {
    "execution": {
     "iopub.execute_input": "2022-06-13T00:45:28.943494Z",
     "iopub.status.busy": "2022-06-13T00:45:28.941676Z",
     "iopub.status.idle": "2022-06-13T00:45:28.944292Z",
     "shell.execute_reply": "2022-06-13T00:45:28.944805Z"
    },
    "papermill": {
     "duration": 0.046406,
     "end_time": "2022-06-13T00:45:28.944959",
     "exception": false,
     "start_time": "2022-06-13T00:45:28.898553",
     "status": "completed"
    },
    "tags": []
   },
   "outputs": [],
   "source": [
    "#hide\n",
    "# g.head()"
   ]
  },
  {
   "cell_type": "code",
   "execution_count": 26,
   "id": "specific-kruger",
   "metadata": {
    "execution": {
     "iopub.execute_input": "2022-06-13T00:45:29.027856Z",
     "iopub.status.busy": "2022-06-13T00:45:29.026998Z",
     "iopub.status.idle": "2022-06-13T00:45:29.031688Z",
     "shell.execute_reply": "2022-06-13T00:45:29.031060Z"
    },
    "papermill": {
     "duration": 0.04987,
     "end_time": "2022-06-13T00:45:29.031850",
     "exception": false,
     "start_time": "2022-06-13T00:45:28.981980",
     "status": "completed"
    },
    "tags": []
   },
   "outputs": [],
   "source": [
    "#hide\n",
    "# g.columns = ['date','country','cases']"
   ]
  },
  {
   "cell_type": "code",
   "execution_count": 27,
   "id": "tender-conversion",
   "metadata": {
    "execution": {
     "iopub.execute_input": "2022-06-13T00:45:29.120441Z",
     "iopub.status.busy": "2022-06-13T00:45:29.119677Z",
     "iopub.status.idle": "2022-06-13T00:45:29.124282Z",
     "shell.execute_reply": "2022-06-13T00:45:29.123652Z"
    },
    "papermill": {
     "duration": 0.050351,
     "end_time": "2022-06-13T00:45:29.124417",
     "exception": false,
     "start_time": "2022-06-13T00:45:29.074066",
     "status": "completed"
    },
    "tags": []
   },
   "outputs": [],
   "source": [
    "#hide\n",
    "# g['continent'] = g.country"
   ]
  },
  {
   "cell_type": "code",
   "execution_count": 28,
   "id": "substantial-wilderness",
   "metadata": {
    "execution": {
     "iopub.execute_input": "2022-06-13T00:45:29.208247Z",
     "iopub.status.busy": "2022-06-13T00:45:29.207524Z",
     "iopub.status.idle": "2022-06-13T00:45:29.211057Z",
     "shell.execute_reply": "2022-06-13T00:45:29.210334Z"
    },
    "papermill": {
     "duration": 0.047473,
     "end_time": "2022-06-13T00:45:29.211223",
     "exception": false,
     "start_time": "2022-06-13T00:45:29.163750",
     "status": "completed"
    },
    "tags": []
   },
   "outputs": [],
   "source": [
    "#hide\n",
    "# cols = list(g.columns.values)"
   ]
  },
  {
   "cell_type": "code",
   "execution_count": 29,
   "id": "solved-farming",
   "metadata": {
    "execution": {
     "iopub.execute_input": "2022-06-13T00:45:29.298862Z",
     "iopub.status.busy": "2022-06-13T00:45:29.298080Z",
     "iopub.status.idle": "2022-06-13T00:45:29.301403Z",
     "shell.execute_reply": "2022-06-13T00:45:29.300876Z"
    },
    "papermill": {
     "duration": 0.049197,
     "end_time": "2022-06-13T00:45:29.301531",
     "exception": false,
     "start_time": "2022-06-13T00:45:29.252334",
     "status": "completed"
    },
    "tags": []
   },
   "outputs": [],
   "source": [
    "#hide\n",
    "# cols.insert(0, cols.pop())"
   ]
  },
  {
   "cell_type": "code",
   "execution_count": 30,
   "id": "executed-adoption",
   "metadata": {
    "execution": {
     "iopub.execute_input": "2022-06-13T00:45:29.393865Z",
     "iopub.status.busy": "2022-06-13T00:45:29.393192Z",
     "iopub.status.idle": "2022-06-13T00:45:29.396482Z",
     "shell.execute_reply": "2022-06-13T00:45:29.395928Z"
    },
    "papermill": {
     "duration": 0.050436,
     "end_time": "2022-06-13T00:45:29.396603",
     "exception": false,
     "start_time": "2022-06-13T00:45:29.346167",
     "status": "completed"
    },
    "tags": []
   },
   "outputs": [],
   "source": [
    "#hide\n",
    "# g = g[cols]"
   ]
  },
  {
   "cell_type": "code",
   "execution_count": 31,
   "id": "subject-dublin",
   "metadata": {
    "execution": {
     "iopub.execute_input": "2022-06-13T00:45:29.477959Z",
     "iopub.status.busy": "2022-06-13T00:45:29.477256Z",
     "iopub.status.idle": "2022-06-13T00:45:29.480717Z",
     "shell.execute_reply": "2022-06-13T00:45:29.480154Z"
    },
    "papermill": {
     "duration": 0.044219,
     "end_time": "2022-06-13T00:45:29.480854",
     "exception": false,
     "start_time": "2022-06-13T00:45:29.436635",
     "status": "completed"
    },
    "tags": []
   },
   "outputs": [],
   "source": [
    "#hide\n",
    "# g['continent'] = g['continent'].map(mapping['map.continent'])"
   ]
  },
  {
   "cell_type": "code",
   "execution_count": 32,
   "id": "freelance-scout",
   "metadata": {
    "execution": {
     "iopub.execute_input": "2022-06-13T00:45:29.561646Z",
     "iopub.status.busy": "2022-06-13T00:45:29.560939Z",
     "iopub.status.idle": "2022-06-13T00:45:29.565001Z",
     "shell.execute_reply": "2022-06-13T00:45:29.565566Z"
    },
    "papermill": {
     "duration": 0.047001,
     "end_time": "2022-06-13T00:45:29.565733",
     "exception": false,
     "start_time": "2022-06-13T00:45:29.518732",
     "status": "completed"
    },
    "tags": []
   },
   "outputs": [],
   "source": [
    "#hide\n",
    "# g.head()"
   ]
  },
  {
   "cell_type": "code",
   "execution_count": 33,
   "id": "limited-engine",
   "metadata": {
    "execution": {
     "iopub.execute_input": "2022-06-13T00:45:29.645699Z",
     "iopub.status.busy": "2022-06-13T00:45:29.644997Z",
     "iopub.status.idle": "2022-06-13T00:45:29.648731Z",
     "shell.execute_reply": "2022-06-13T00:45:29.648148Z"
    },
    "papermill": {
     "duration": 0.047083,
     "end_time": "2022-06-13T00:45:29.648849",
     "exception": false,
     "start_time": "2022-06-13T00:45:29.601766",
     "status": "completed"
    },
    "tags": []
   },
   "outputs": [],
   "source": [
    "# hide\n",
    "# g['date'] = g['date'].astype('datetime64[ns]')"
   ]
  },
  {
   "cell_type": "code",
   "execution_count": 34,
   "id": "sophisticated-supervisor",
   "metadata": {
    "execution": {
     "iopub.execute_input": "2022-06-13T00:45:29.727353Z",
     "iopub.status.busy": "2022-06-13T00:45:29.726338Z",
     "iopub.status.idle": "2022-06-13T00:45:29.731526Z",
     "shell.execute_reply": "2022-06-13T00:45:29.730901Z"
    },
    "papermill": {
     "duration": 0.046415,
     "end_time": "2022-06-13T00:45:29.731657",
     "exception": false,
     "start_time": "2022-06-13T00:45:29.685242",
     "status": "completed"
    },
    "tags": []
   },
   "outputs": [],
   "source": [
    "#hide\n",
    "# g['date'] = g.date.dt.dayofyear"
   ]
  },
  {
   "cell_type": "code",
   "execution_count": 35,
   "id": "inside-dubai",
   "metadata": {
    "execution": {
     "iopub.execute_input": "2022-06-13T00:45:29.808931Z",
     "iopub.status.busy": "2022-06-13T00:45:29.808291Z",
     "iopub.status.idle": "2022-06-13T00:45:29.811568Z",
     "shell.execute_reply": "2022-06-13T00:45:29.810959Z"
    },
    "papermill": {
     "duration": 0.044189,
     "end_time": "2022-06-13T00:45:29.811719",
     "exception": false,
     "start_time": "2022-06-13T00:45:29.767530",
     "status": "completed"
    },
    "tags": []
   },
   "outputs": [],
   "source": [
    "#hide\n",
    "# g = g.rename(columns= {'continent':'group','country':'name','cases':'value'})"
   ]
  },
  {
   "cell_type": "code",
   "execution_count": 36,
   "id": "fleet-motorcycle",
   "metadata": {
    "execution": {
     "iopub.execute_input": "2022-06-13T00:45:29.890154Z",
     "iopub.status.busy": "2022-06-13T00:45:29.889446Z",
     "iopub.status.idle": "2022-06-13T00:45:29.894833Z",
     "shell.execute_reply": "2022-06-13T00:45:29.895588Z"
    },
    "papermill": {
     "duration": 0.04623,
     "end_time": "2022-06-13T00:45:29.895801",
     "exception": false,
     "start_time": "2022-06-13T00:45:29.849571",
     "status": "completed"
    },
    "tags": []
   },
   "outputs": [],
   "source": [
    "#hide\n",
    "# cols = ['name','group','day','value']"
   ]
  },
  {
   "cell_type": "code",
   "execution_count": 37,
   "id": "continued-sleeping",
   "metadata": {
    "execution": {
     "iopub.execute_input": "2022-06-13T00:45:29.981697Z",
     "iopub.status.busy": "2022-06-13T00:45:29.980728Z",
     "iopub.status.idle": "2022-06-13T00:45:29.984311Z",
     "shell.execute_reply": "2022-06-13T00:45:29.983452Z"
    },
    "papermill": {
     "duration": 0.045175,
     "end_time": "2022-06-13T00:45:29.984430",
     "exception": false,
     "start_time": "2022-06-13T00:45:29.939255",
     "status": "completed"
    },
    "tags": []
   },
   "outputs": [],
   "source": [
    "#hide\n",
    "# g.rename(columns= {'date':'day'},inplace = True)"
   ]
  },
  {
   "cell_type": "code",
   "execution_count": 38,
   "id": "major-fight",
   "metadata": {
    "execution": {
     "iopub.execute_input": "2022-06-13T00:45:30.065731Z",
     "iopub.status.busy": "2022-06-13T00:45:30.065036Z",
     "iopub.status.idle": "2022-06-13T00:45:30.068232Z",
     "shell.execute_reply": "2022-06-13T00:45:30.068755Z"
    },
    "papermill": {
     "duration": 0.048613,
     "end_time": "2022-06-13T00:45:30.068934",
     "exception": false,
     "start_time": "2022-06-13T00:45:30.020321",
     "status": "completed"
    },
    "tags": []
   },
   "outputs": [],
   "source": [
    "#hide\n",
    "# g = g[cols]"
   ]
  },
  {
   "cell_type": "code",
   "execution_count": 39,
   "id": "structured-mobile",
   "metadata": {
    "execution": {
     "iopub.execute_input": "2022-06-13T00:45:30.148848Z",
     "iopub.status.busy": "2022-06-13T00:45:30.148179Z",
     "iopub.status.idle": "2022-06-13T00:45:30.152133Z",
     "shell.execute_reply": "2022-06-13T00:45:30.152702Z"
    },
    "papermill": {
     "duration": 0.045193,
     "end_time": "2022-06-13T00:45:30.152849",
     "exception": false,
     "start_time": "2022-06-13T00:45:30.107656",
     "status": "completed"
    },
    "tags": []
   },
   "outputs": [],
   "source": [
    "# #hide\n",
    "# g = g[g.group.notna()]"
   ]
  },
  {
   "cell_type": "code",
   "execution_count": 40,
   "id": "determined-closing",
   "metadata": {
    "execution": {
     "iopub.execute_input": "2022-06-13T00:45:30.234851Z",
     "iopub.status.busy": "2022-06-13T00:45:30.233967Z",
     "iopub.status.idle": "2022-06-13T00:45:30.237215Z",
     "shell.execute_reply": "2022-06-13T00:45:30.236489Z"
    },
    "papermill": {
     "duration": 0.046213,
     "end_time": "2022-06-13T00:45:30.237335",
     "exception": false,
     "start_time": "2022-06-13T00:45:30.191122",
     "status": "completed"
    },
    "tags": []
   },
   "outputs": [],
   "source": [
    "# #hide\n",
    "# colors = dict(zip(\n",
    "#     [\"Oceania\", \"Europe\", \"Asia\", \"South America\", \"Middle East\", \"North America\", \"Africa\"],\n",
    "#     [\"#adb0ff\", \"#ffb3ff\", \"#90d595\", \"#e48381\", \"#aafbff\", \"#f7bb5f\", \"#eafb50\"]\n",
    "# ))\n",
    "# group_lk = g.set_index('name')['group'].to_dict()"
   ]
  },
  {
   "cell_type": "code",
   "execution_count": null,
   "id": "gross-drinking",
   "metadata": {
    "papermill": {
     "duration": 0.033457,
     "end_time": "2022-06-13T00:45:30.309649",
     "exception": false,
     "start_time": "2022-06-13T00:45:30.276192",
     "status": "completed"
    },
    "tags": []
   },
   "outputs": [],
   "source": []
  },
  {
   "cell_type": "code",
   "execution_count": 41,
   "id": "subject-macintosh",
   "metadata": {
    "execution": {
     "iopub.execute_input": "2022-06-13T00:45:30.395925Z",
     "iopub.status.busy": "2022-06-13T00:45:30.395219Z",
     "iopub.status.idle": "2022-06-13T00:45:30.398465Z",
     "shell.execute_reply": "2022-06-13T00:45:30.397808Z"
    },
    "papermill": {
     "duration": 0.053867,
     "end_time": "2022-06-13T00:45:30.398629",
     "exception": false,
     "start_time": "2022-06-13T00:45:30.344762",
     "status": "completed"
    },
    "tags": []
   },
   "outputs": [],
   "source": [
    "# #hide\n",
    "# fig, ax = plt.subplots(figsize=(15, 8))\n",
    "\n",
    "# def draw_barchart(current_day):\n",
    "#     dff = g[g['day'].eq(current_day)].sort_values(by='value', ascending=True).tail(10)\n",
    "#     ax.clear()\n",
    "#     ax.barh(dff['name'], dff['value'], color=[colors[group_lk[x]] for x in dff['name']])\n",
    "#     dx = dff['value'].max() / 200\n",
    "    \n",
    "#     for i, (value, name) in enumerate(zip(dff['value'], dff['name'])):\n",
    "#         ax.text(value-dx, i,     name,           size=14, weight=600, ha='right', va='bottom')\n",
    "#         ax.text(value-dx, i-.25, group_lk[name], size=10, color='#444444', ha='right', va='baseline')\n",
    "#         ax.text(value+dx, i,     f'{value:,.0f}',  size=14, ha='left',  va='center')\n",
    "#     ax.text(1, 0.4, current_day, transform=ax.transAxes, color='#777777', size=46, ha='right', weight=800)\n",
    "#     ax.text(0, 1.06, 'Population (thousands)', transform=ax.transAxes, size=12, color='#777777')\n",
    "#     ax.xaxis.set_major_formatter(ticker.StrMethodFormatter('{x:,.0f}'))\n",
    "#     ax.xaxis.set_ticks_position('top')\n",
    "#     ax.tick_params(axis='x', colors='#777777', labelsize=12)\n",
    "#     ax.set_yticks([])\n",
    "#     ax.margins(0, 0.01)\n",
    "#     ax.grid(which='major', axis='x', linestyle='-')\n",
    "#     ax.set_axisbelow(True)\n",
    "    \n",
    "#     ax.text(0, 1.15, 'Coronavirus',\n",
    "#             transform=ax.transAxes, size=24, weight=600, ha='left', va='top')\n",
    "# #     ax.text(1, 0, 'by @pratapvardhan; credit @jburnmurdoch', transform=ax.transAxes, color='#777777', ha='right',\n",
    "# #             bbox=dict(facecolor='white', alpha=0.8, edgecolor='white'))\n",
    "#     plt.box(False)"
   ]
  },
  {
   "cell_type": "code",
   "execution_count": 42,
   "id": "sexual-wages",
   "metadata": {
    "execution": {
     "iopub.execute_input": "2022-06-13T00:45:30.479654Z",
     "iopub.status.busy": "2022-06-13T00:45:30.478900Z",
     "iopub.status.idle": "2022-06-13T00:45:30.482145Z",
     "shell.execute_reply": "2022-06-13T00:45:30.481463Z"
    },
    "papermill": {
     "duration": 0.046843,
     "end_time": "2022-06-13T00:45:30.482319",
     "exception": false,
     "start_time": "2022-06-13T00:45:30.435476",
     "status": "completed"
    },
    "tags": []
   },
   "outputs": [],
   "source": [
    "# #hide_input\n",
    "# fig, ax = plt.subplots(figsize=(15, 8))\n",
    "# animator = animation.FuncAnimation(fig, draw_barchart, frames=range(g.day.values.min(), g.day.values.max()))\n",
    "# HTML(animator.to_jshtml())\n",
    "# # or use animator.to_html5_video() or animator.save() "
   ]
  },
  {
   "cell_type": "code",
   "execution_count": null,
   "id": "australian-container",
   "metadata": {
    "papermill": {
     "duration": 0.035233,
     "end_time": "2022-06-13T00:45:30.557082",
     "exception": false,
     "start_time": "2022-06-13T00:45:30.521849",
     "status": "completed"
    },
    "tags": []
   },
   "outputs": [],
   "source": []
  },
  {
   "cell_type": "code",
   "execution_count": null,
   "id": "mediterranean-pontiac",
   "metadata": {
    "papermill": {
     "duration": 0.033913,
     "end_time": "2022-06-13T00:45:30.625563",
     "exception": false,
     "start_time": "2022-06-13T00:45:30.591650",
     "status": "completed"
    },
    "tags": []
   },
   "outputs": [],
   "source": []
  },
  {
   "cell_type": "code",
   "execution_count": null,
   "id": "aging-legislature",
   "metadata": {
    "papermill": {
     "duration": 0.035966,
     "end_time": "2022-06-13T00:45:30.700648",
     "exception": false,
     "start_time": "2022-06-13T00:45:30.664682",
     "status": "completed"
    },
    "tags": []
   },
   "outputs": [],
   "source": []
  }
 ],
 "metadata": {
  "kernelspec": {
   "display_name": "Python 3",
   "language": "python",
   "name": "python3"
  },
  "language_info": {
   "codemirror_mode": {
    "name": "ipython",
    "version": 3
   },
   "file_extension": ".py",
   "mimetype": "text/x-python",
   "name": "python",
   "nbconvert_exporter": "python",
   "pygments_lexer": "ipython3",
   "version": "3.6.15"
  },
  "papermill": {
   "duration": 7.436013,
   "end_time": "2022-06-13T00:45:31.158186",
   "environment_variables": {},
   "exception": null,
   "input_path": "2020-03-21-covid19exp.ipynb",
   "output_path": "2020-03-21-covid19exp.ipynb",
   "parameters": {},
   "start_time": "2022-06-13T00:45:23.722173",
   "version": "2.0.0"
  }
 },
 "nbformat": 4,
 "nbformat_minor": 5
}