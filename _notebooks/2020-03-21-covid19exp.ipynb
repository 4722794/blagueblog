{
 "cells": [
  {
   "cell_type": "markdown",
   "id": "muslim-click",
   "metadata": {
    "papermill": {
     "duration": 0.037101,
     "end_time": "2021-11-29T00:24:51.989870",
     "exception": false,
     "start_time": "2021-11-29T00:24:51.952769",
     "status": "completed"
    },
    "tags": []
   },
   "source": [
    "# COVID-19 Case Race\n",
    "> A race chart to see rising cases around the world\n",
    "\n",
    "- author: Hargun Oberoi\n",
    "- image: images/covid-overview.png\n",
    "- hide: false\n",
    "- badges: false"
   ]
  },
  {
   "cell_type": "code",
   "execution_count": 1,
   "id": "proof-material",
   "metadata": {
    "execution": {
     "iopub.execute_input": "2021-11-29T00:24:52.070536Z",
     "iopub.status.busy": "2021-11-29T00:24:52.069885Z",
     "iopub.status.idle": "2021-11-29T00:24:52.432558Z",
     "shell.execute_reply": "2021-11-29T00:24:52.432064Z"
    },
    "papermill": {
     "duration": 0.406942,
     "end_time": "2021-11-29T00:24:52.432738",
     "exception": false,
     "start_time": "2021-11-29T00:24:52.025796",
     "status": "completed"
    },
    "tags": []
   },
   "outputs": [],
   "source": [
    "#hide\n",
    "import numpy as np\n",
    "import pandas as pd\n",
    "from jinja2 import Template\n",
    "from IPython.display import HTML"
   ]
  },
  {
   "cell_type": "code",
   "execution_count": 2,
   "id": "developed-terminology",
   "metadata": {
    "execution": {
     "iopub.execute_input": "2021-11-29T00:24:52.509035Z",
     "iopub.status.busy": "2021-11-29T00:24:52.508435Z",
     "iopub.status.idle": "2021-11-29T00:24:52.511302Z",
     "shell.execute_reply": "2021-11-29T00:24:52.510847Z"
    },
    "papermill": {
     "duration": 0.043324,
     "end_time": "2021-11-29T00:24:52.511406",
     "exception": false,
     "start_time": "2021-11-29T00:24:52.468082",
     "status": "completed"
    },
    "tags": []
   },
   "outputs": [],
   "source": [
    "#hide\n",
    "\n",
    "# FETCH\n",
    "base_url = 'https://raw.githubusercontent.com/pratapvardhan/notebooks/master/covid19/'\n",
    "paths = {\n",
    "    'mapping': base_url + 'mapping_countries.csv',\n",
    "    'overview': base_url + 'overview.tpl'\n",
    "}"
   ]
  },
  {
   "cell_type": "code",
   "execution_count": 3,
   "id": "dynamic-saver",
   "metadata": {
    "execution": {
     "iopub.execute_input": "2021-11-29T00:24:52.587650Z",
     "iopub.status.busy": "2021-11-29T00:24:52.584017Z",
     "iopub.status.idle": "2021-11-29T00:24:52.590923Z",
     "shell.execute_reply": "2021-11-29T00:24:52.591485Z"
    },
    "papermill": {
     "duration": 0.04841,
     "end_time": "2021-11-29T00:24:52.591612",
     "exception": false,
     "start_time": "2021-11-29T00:24:52.543202",
     "status": "completed"
    },
    "tags": []
   },
   "outputs": [
    {
     "data": {
      "text/plain": [
       "'https://raw.githubusercontent.com/pratapvardhan/notebooks/master/covid19/mapping_countries.csv'"
      ]
     },
     "execution_count": 3,
     "metadata": {},
     "output_type": "execute_result"
    }
   ],
   "source": [
    "#hide\n",
    "paths['mapping']"
   ]
  },
  {
   "cell_type": "code",
   "execution_count": 4,
   "id": "urban-software",
   "metadata": {
    "execution": {
     "iopub.execute_input": "2021-11-29T00:24:52.665143Z",
     "iopub.status.busy": "2021-11-29T00:24:52.664271Z",
     "iopub.status.idle": "2021-11-29T00:24:52.667095Z",
     "shell.execute_reply": "2021-11-29T00:24:52.667683Z"
    },
    "papermill": {
     "duration": 0.042807,
     "end_time": "2021-11-29T00:24:52.667812",
     "exception": false,
     "start_time": "2021-11-29T00:24:52.625005",
     "status": "completed"
    },
    "tags": []
   },
   "outputs": [],
   "source": [
    "#hide\n",
    "def get_mappings(url):\n",
    "    df = pd.read_csv(url)\n",
    "    return {\n",
    "        'df': df,\n",
    "        'replace.country': dict(df.dropna(subset=['Name']).set_index('Country')['Name']),\n",
    "        'map.continent': dict(df.set_index('Name')['Continent'])\n",
    "    }"
   ]
  },
  {
   "cell_type": "code",
   "execution_count": 5,
   "id": "intimate-machinery",
   "metadata": {
    "execution": {
     "iopub.execute_input": "2021-11-29T00:24:52.736806Z",
     "iopub.status.busy": "2021-11-29T00:24:52.736174Z",
     "iopub.status.idle": "2021-11-29T00:24:52.775752Z",
     "shell.execute_reply": "2021-11-29T00:24:52.775229Z"
    },
    "papermill": {
     "duration": 0.07708,
     "end_time": "2021-11-29T00:24:52.775888",
     "exception": false,
     "start_time": "2021-11-29T00:24:52.698808",
     "status": "completed"
    },
    "tags": []
   },
   "outputs": [],
   "source": [
    "#hide\n",
    "mapping = get_mappings(paths['mapping'])"
   ]
  },
  {
   "cell_type": "code",
   "execution_count": 6,
   "id": "certified-tactics",
   "metadata": {
    "execution": {
     "iopub.execute_input": "2021-11-29T00:24:52.847783Z",
     "iopub.status.busy": "2021-11-29T00:24:52.847244Z",
     "iopub.status.idle": "2021-11-29T00:24:52.851735Z",
     "shell.execute_reply": "2021-11-29T00:24:52.851068Z"
    },
    "papermill": {
     "duration": 0.041532,
     "end_time": "2021-11-29T00:24:52.851871",
     "exception": false,
     "start_time": "2021-11-29T00:24:52.810339",
     "status": "completed"
    },
    "tags": []
   },
   "outputs": [],
   "source": [
    "#hide\n",
    "def get_template(path):\n",
    "    from urllib.parse import urlparse\n",
    "    if bool(urlparse(path).netloc):\n",
    "        from urllib.request import urlopen\n",
    "        return urlopen(path).read().decode('utf8')\n",
    "    return open(path).read()"
   ]
  },
  {
   "cell_type": "code",
   "execution_count": 7,
   "id": "realistic-blast",
   "metadata": {
    "execution": {
     "iopub.execute_input": "2021-11-29T00:24:52.918772Z",
     "iopub.status.busy": "2021-11-29T00:24:52.918243Z",
     "iopub.status.idle": "2021-11-29T00:24:52.920532Z",
     "shell.execute_reply": "2021-11-29T00:24:52.920962Z"
    },
    "papermill": {
     "duration": 0.03768,
     "end_time": "2021-11-29T00:24:52.921080",
     "exception": false,
     "start_time": "2021-11-29T00:24:52.883400",
     "status": "completed"
    },
    "tags": []
   },
   "outputs": [],
   "source": [
    "#hide\n",
    "def get_frame(name):\n",
    "    url = (\n",
    "        'https://raw.githubusercontent.com/CSSEGISandData/COVID-19/master/csse_covid_19_data/'\n",
    "        f'csse_covid_19_time_series/time_series_covid19_{name}_global.csv')\n",
    "    df = pd.read_csv(url)\n",
    "    # rename countries\n",
    "    df['Country/Region'] = df['Country/Region'].replace(mapping['replace.country'])\n",
    "    return df"
   ]
  },
  {
   "cell_type": "code",
   "execution_count": 8,
   "id": "affiliated-characterization",
   "metadata": {
    "execution": {
     "iopub.execute_input": "2021-11-29T00:24:52.989183Z",
     "iopub.status.busy": "2021-11-29T00:24:52.988502Z",
     "iopub.status.idle": "2021-11-29T00:24:52.991279Z",
     "shell.execute_reply": "2021-11-29T00:24:52.990831Z"
    },
    "papermill": {
     "duration": 0.039951,
     "end_time": "2021-11-29T00:24:52.991404",
     "exception": false,
     "start_time": "2021-11-29T00:24:52.951453",
     "status": "completed"
    },
    "tags": []
   },
   "outputs": [],
   "source": [
    "#hide\n",
    "def get_dates(df):\n",
    "    dt_cols = df.columns[~df.columns.isin(['Province/State', 'Country/Region', 'Lat', 'Long'])]\n",
    "    LAST_DATE_I = -1\n",
    "    # sometimes last column may be empty, then go backwards\n",
    "    for i in range(-1, -len(dt_cols), -1):\n",
    "        if not df[dt_cols[i]].fillna(0).eq(0).all():\n",
    "            LAST_DATE_I = i\n",
    "            break\n",
    "    return LAST_DATE_I, dt_cols"
   ]
  },
  {
   "cell_type": "code",
   "execution_count": 9,
   "id": "recent-optimization",
   "metadata": {
    "execution": {
     "iopub.execute_input": "2021-11-29T00:24:53.064144Z",
     "iopub.status.busy": "2021-11-29T00:24:53.063509Z",
     "iopub.status.idle": "2021-11-29T00:24:53.476369Z",
     "shell.execute_reply": "2021-11-29T00:24:53.476815Z"
    },
    "papermill": {
     "duration": 0.452944,
     "end_time": "2021-11-29T00:24:53.477001",
     "exception": false,
     "start_time": "2021-11-29T00:24:53.024057",
     "status": "completed"
    },
    "tags": []
   },
   "outputs": [],
   "source": [
    "#hide\n",
    "COL_REGION = 'Country/Region'\n",
    "# Confirmed, Recovered, Deaths\n",
    "df = get_frame('confirmed')\n",
    "# dft_: timeseries, dfc_: today country agg\n",
    "dft_cases = df\n",
    "dft_deaths = get_frame('deaths')\n",
    "dft_recovered = get_frame('recovered')\n",
    "LAST_DATE_I, dt_cols = get_dates(df)"
   ]
  },
  {
   "cell_type": "code",
   "execution_count": 10,
   "id": "absolute-copper",
   "metadata": {
    "execution": {
     "iopub.execute_input": "2021-11-29T00:24:53.553838Z",
     "iopub.status.busy": "2021-11-29T00:24:53.551164Z",
     "iopub.status.idle": "2021-11-29T00:24:53.555975Z",
     "shell.execute_reply": "2021-11-29T00:24:53.556490Z"
    },
    "papermill": {
     "duration": 0.041548,
     "end_time": "2021-11-29T00:24:53.556670",
     "exception": false,
     "start_time": "2021-11-29T00:24:53.515122",
     "status": "completed"
    },
    "tags": []
   },
   "outputs": [],
   "source": [
    "#hide\n",
    "LAST_DATE_I, dt_cols = get_dates(df)\n",
    "dt_today =dt_cols[LAST_DATE_I]\n",
    "# dt_5day = dt_cols[LAST_DATE_I - 5]\n",
    "dt_yday = dt_cols[LAST_DATE_I - 1]"
   ]
  },
  {
   "cell_type": "code",
   "execution_count": 11,
   "id": "restricted-sheriff",
   "metadata": {
    "execution": {
     "iopub.execute_input": "2021-11-29T00:24:53.633455Z",
     "iopub.status.busy": "2021-11-29T00:24:53.632781Z",
     "iopub.status.idle": "2021-11-29T00:24:53.642154Z",
     "shell.execute_reply": "2021-11-29T00:24:53.642663Z"
    },
    "papermill": {
     "duration": 0.049393,
     "end_time": "2021-11-29T00:24:53.642835",
     "exception": false,
     "start_time": "2021-11-29T00:24:53.593442",
     "status": "completed"
    },
    "tags": []
   },
   "outputs": [],
   "source": [
    "#hide\n",
    "dfc_cases = dft_cases.groupby(COL_REGION)[dt_today].sum()\n",
    "dfc_deaths = dft_deaths.groupby(COL_REGION)[dt_today].sum()\n",
    "# dfp_cases = dft_cases.groupby(COL_REGION)[dt_5day].sum()\n",
    "# dfp_deaths = dft_deaths.groupby(COL_REGION)[dt_5day].sum()\n",
    "dfp_cases = dft_cases.groupby(COL_REGION)[dt_yday].sum()\n",
    "dfp_deaths = dft_deaths.groupby(COL_REGION)[dt_yday].sum()"
   ]
  },
  {
   "cell_type": "code",
   "execution_count": 12,
   "id": "deluxe-hepatitis",
   "metadata": {
    "execution": {
     "iopub.execute_input": "2021-11-29T00:24:53.719748Z",
     "iopub.status.busy": "2021-11-29T00:24:53.719010Z",
     "iopub.status.idle": "2021-11-29T00:24:53.724252Z",
     "shell.execute_reply": "2021-11-29T00:24:53.724823Z"
    },
    "papermill": {
     "duration": 0.046187,
     "end_time": "2021-11-29T00:24:53.725022",
     "exception": false,
     "start_time": "2021-11-29T00:24:53.678835",
     "status": "completed"
    },
    "tags": []
   },
   "outputs": [],
   "source": [
    "#hide\n",
    "df_table = (pd.DataFrame(dict(Cases = dfc_cases, Deaths = dfc_deaths, PCases = dfp_cases, PDeaths = dfp_deaths))\n",
    "            .sort_values(by = ['Cases','Deaths'], ascending = [False, False])\n",
    "            .reset_index())"
   ]
  },
  {
   "cell_type": "code",
   "execution_count": 13,
   "id": "educational-chancellor",
   "metadata": {
    "execution": {
     "iopub.execute_input": "2021-11-29T00:24:53.811772Z",
     "iopub.status.busy": "2021-11-29T00:24:53.811229Z",
     "iopub.status.idle": "2021-11-29T00:24:53.820006Z",
     "shell.execute_reply": "2021-11-29T00:24:53.820686Z"
    },
    "papermill": {
     "duration": 0.062396,
     "end_time": "2021-11-29T00:24:53.820881",
     "exception": false,
     "start_time": "2021-11-29T00:24:53.758485",
     "status": "completed"
    },
    "tags": []
   },
   "outputs": [
    {
     "data": {
      "text/html": [
       "<div>\n",
       "<style scoped>\n",
       "    .dataframe tbody tr th:only-of-type {\n",
       "        vertical-align: middle;\n",
       "    }\n",
       "\n",
       "    .dataframe tbody tr th {\n",
       "        vertical-align: top;\n",
       "    }\n",
       "\n",
       "    .dataframe thead th {\n",
       "        text-align: right;\n",
       "    }\n",
       "</style>\n",
       "<table border=\"1\" class=\"dataframe\">\n",
       "  <thead>\n",
       "    <tr style=\"text-align: right;\">\n",
       "      <th></th>\n",
       "      <th>Country/Region</th>\n",
       "      <th>Cases</th>\n",
       "      <th>Deaths</th>\n",
       "      <th>PCases</th>\n",
       "      <th>PDeaths</th>\n",
       "      <th>Cases (+)</th>\n",
       "      <th>Deaths (+)</th>\n",
       "      <th>Fatality Rate</th>\n",
       "      <th>Continent</th>\n",
       "    </tr>\n",
       "  </thead>\n",
       "  <tbody>\n",
       "    <tr>\n",
       "      <th>0</th>\n",
       "      <td>US</td>\n",
       "      <td>48202463</td>\n",
       "      <td>776536</td>\n",
       "      <td>48177907</td>\n",
       "      <td>776349</td>\n",
       "      <td>24556</td>\n",
       "      <td>187</td>\n",
       "      <td>1.61</td>\n",
       "      <td>North America</td>\n",
       "    </tr>\n",
       "    <tr>\n",
       "      <th>1</th>\n",
       "      <td>India</td>\n",
       "      <td>34572523</td>\n",
       "      <td>468554</td>\n",
       "      <td>34563749</td>\n",
       "      <td>467933</td>\n",
       "      <td>8774</td>\n",
       "      <td>621</td>\n",
       "      <td>1.36</td>\n",
       "      <td>Asia</td>\n",
       "    </tr>\n",
       "    <tr>\n",
       "      <th>2</th>\n",
       "      <td>Brazil</td>\n",
       "      <td>22076863</td>\n",
       "      <td>614186</td>\n",
       "      <td>22067630</td>\n",
       "      <td>613957</td>\n",
       "      <td>9233</td>\n",
       "      <td>229</td>\n",
       "      <td>2.78</td>\n",
       "      <td>South America</td>\n",
       "    </tr>\n",
       "    <tr>\n",
       "      <th>3</th>\n",
       "      <td>United Kingdom</td>\n",
       "      <td>10165779</td>\n",
       "      <td>145167</td>\n",
       "      <td>10125945</td>\n",
       "      <td>145036</td>\n",
       "      <td>39834</td>\n",
       "      <td>131</td>\n",
       "      <td>1.43</td>\n",
       "      <td>Europe</td>\n",
       "    </tr>\n",
       "    <tr>\n",
       "      <th>4</th>\n",
       "      <td>Russia</td>\n",
       "      <td>9370694</td>\n",
       "      <td>266337</td>\n",
       "      <td>9337575</td>\n",
       "      <td>265134</td>\n",
       "      <td>33119</td>\n",
       "      <td>1203</td>\n",
       "      <td>2.84</td>\n",
       "      <td>Europe</td>\n",
       "    </tr>\n",
       "  </tbody>\n",
       "</table>\n",
       "</div>"
      ],
      "text/plain": [
       "   Country/Region     Cases  Deaths    PCases  PDeaths  Cases (+)  Deaths (+)  \\\n",
       "0              US  48202463  776536  48177907   776349      24556         187   \n",
       "1           India  34572523  468554  34563749   467933       8774         621   \n",
       "2          Brazil  22076863  614186  22067630   613957       9233         229   \n",
       "3  United Kingdom  10165779  145167  10125945   145036      39834         131   \n",
       "4          Russia   9370694  266337   9337575   265134      33119        1203   \n",
       "\n",
       "   Fatality Rate      Continent  \n",
       "0           1.61  North America  \n",
       "1           1.36           Asia  \n",
       "2           2.78  South America  \n",
       "3           1.43         Europe  \n",
       "4           2.84         Europe  "
      ]
     },
     "execution_count": 13,
     "metadata": {},
     "output_type": "execute_result"
    }
   ],
   "source": [
    "#hide\n",
    "for c in 'Cases, Deaths'.split(', '):\n",
    "    df_table[f'{c} (+)'] = (df_table[c] - df_table[f'P{c}']).clip(0)\n",
    "    #Clip ça veut dire, les chiffres negatif sont interdit\n",
    "df_table['Fatality Rate'] = (100* df_table['Deaths']/ df_table['Cases']).round(2)\n",
    "df_table['Continent'] = df_table['Country/Region'].map(mapping['map.continent'])\n",
    "df_table.head(5)"
   ]
  },
  {
   "cell_type": "code",
   "execution_count": 14,
   "id": "aboriginal-bulgaria",
   "metadata": {
    "execution": {
     "iopub.execute_input": "2021-11-29T00:24:53.893506Z",
     "iopub.status.busy": "2021-11-29T00:24:53.892831Z",
     "iopub.status.idle": "2021-11-29T00:24:53.896422Z",
     "shell.execute_reply": "2021-11-29T00:24:53.897003Z"
    },
    "papermill": {
     "duration": 0.044539,
     "end_time": "2021-11-29T00:24:53.897125",
     "exception": false,
     "start_time": "2021-11-29T00:24:53.852586",
     "status": "completed"
    },
    "tags": []
   },
   "outputs": [],
   "source": [
    "#hide\n",
    "#delete problematic countries from table\n",
    "df_table = df_table[~df_table['Country/Region'].isin(['Cape Verde', 'Cruise Ship', 'Kosovo'])]"
   ]
  },
  {
   "cell_type": "code",
   "execution_count": 15,
   "id": "fantastic-effect",
   "metadata": {
    "execution": {
     "iopub.execute_input": "2021-11-29T00:24:53.978049Z",
     "iopub.status.busy": "2021-11-29T00:24:53.977339Z",
     "iopub.status.idle": "2021-11-29T00:24:53.999949Z",
     "shell.execute_reply": "2021-11-29T00:24:54.000446Z"
    },
    "papermill": {
     "duration": 0.0683,
     "end_time": "2021-11-29T00:24:54.000568",
     "exception": false,
     "start_time": "2021-11-29T00:24:53.932268",
     "status": "completed"
    },
    "tags": []
   },
   "outputs": [
    {
     "data": {
      "text/html": [
       "<div>\n",
       "<style scoped>\n",
       "    .dataframe tbody tr th:only-of-type {\n",
       "        vertical-align: middle;\n",
       "    }\n",
       "\n",
       "    .dataframe tbody tr th {\n",
       "        vertical-align: top;\n",
       "    }\n",
       "\n",
       "    .dataframe thead th {\n",
       "        text-align: right;\n",
       "    }\n",
       "</style>\n",
       "<table border=\"1\" class=\"dataframe\">\n",
       "  <thead>\n",
       "    <tr style=\"text-align: right;\">\n",
       "      <th></th>\n",
       "      <th>Country/Region</th>\n",
       "      <th>Cases</th>\n",
       "      <th>Deaths</th>\n",
       "      <th>PCases</th>\n",
       "      <th>PDeaths</th>\n",
       "      <th>Cases (+)</th>\n",
       "      <th>Deaths (+)</th>\n",
       "      <th>Fatality Rate</th>\n",
       "      <th>Continent</th>\n",
       "    </tr>\n",
       "  </thead>\n",
       "  <tbody>\n",
       "    <tr>\n",
       "      <th>0</th>\n",
       "      <td>US</td>\n",
       "      <td>48202463</td>\n",
       "      <td>776536</td>\n",
       "      <td>48177907</td>\n",
       "      <td>776349</td>\n",
       "      <td>24556</td>\n",
       "      <td>187</td>\n",
       "      <td>1.6</td>\n",
       "      <td>North America</td>\n",
       "    </tr>\n",
       "    <tr>\n",
       "      <th>1</th>\n",
       "      <td>India</td>\n",
       "      <td>34572523</td>\n",
       "      <td>468554</td>\n",
       "      <td>34563749</td>\n",
       "      <td>467933</td>\n",
       "      <td>8774</td>\n",
       "      <td>621</td>\n",
       "      <td>1.4</td>\n",
       "      <td>Asia</td>\n",
       "    </tr>\n",
       "    <tr>\n",
       "      <th>2</th>\n",
       "      <td>Brazil</td>\n",
       "      <td>22076863</td>\n",
       "      <td>614186</td>\n",
       "      <td>22067630</td>\n",
       "      <td>613957</td>\n",
       "      <td>9233</td>\n",
       "      <td>229</td>\n",
       "      <td>2.8</td>\n",
       "      <td>South America</td>\n",
       "    </tr>\n",
       "    <tr>\n",
       "      <th>3</th>\n",
       "      <td>United Kingdom</td>\n",
       "      <td>10165779</td>\n",
       "      <td>145167</td>\n",
       "      <td>10125945</td>\n",
       "      <td>145036</td>\n",
       "      <td>39834</td>\n",
       "      <td>131</td>\n",
       "      <td>1.4</td>\n",
       "      <td>Europe</td>\n",
       "    </tr>\n",
       "    <tr>\n",
       "      <th>4</th>\n",
       "      <td>Russia</td>\n",
       "      <td>9370694</td>\n",
       "      <td>266337</td>\n",
       "      <td>9337575</td>\n",
       "      <td>265134</td>\n",
       "      <td>33119</td>\n",
       "      <td>1203</td>\n",
       "      <td>2.8</td>\n",
       "      <td>Europe</td>\n",
       "    </tr>\n",
       "  </tbody>\n",
       "</table>\n",
       "</div>"
      ],
      "text/plain": [
       "   Country/Region     Cases  Deaths    PCases  PDeaths  Cases (+)  Deaths (+)  \\\n",
       "0              US  48202463  776536  48177907   776349      24556         187   \n",
       "1           India  34572523  468554  34563749   467933       8774         621   \n",
       "2          Brazil  22076863  614186  22067630   613957       9233         229   \n",
       "3  United Kingdom  10165779  145167  10125945   145036      39834         131   \n",
       "4          Russia   9370694  266337   9337575   265134      33119        1203   \n",
       "\n",
       "   Fatality Rate      Continent  \n",
       "0            1.6  North America  \n",
       "1            1.4           Asia  \n",
       "2            2.8  South America  \n",
       "3            1.4         Europe  \n",
       "4            2.8         Europe  "
      ]
     },
     "execution_count": 15,
     "metadata": {},
     "output_type": "execute_result"
    }
   ],
   "source": [
    "#hide\n",
    "df_table = (pd.DataFrame(dict(Cases=dfc_cases, Deaths=dfc_deaths, PCases=dfp_cases, PDeaths=dfp_deaths))\n",
    "             .sort_values(by=['Cases', 'Deaths'], ascending=[False, False])\n",
    "             .reset_index())\n",
    "df_table.rename(columns={'index': 'Country/Region'}, inplace=True)\n",
    "for c in 'Cases, Deaths'.split(', '):\n",
    "    df_table[f'{c} (+)'] = (df_table[c] - df_table[f'P{c}']).clip(0)  # DATA BUG\n",
    "df_table['Fatality Rate'] = (100 * df_table['Deaths'] / df_table['Cases']).round(1)\n",
    "df_table['Continent'] = df_table['Country/Region'].map(mapping['map.continent'])\n",
    "df_table.head(5)"
   ]
  },
  {
   "cell_type": "code",
   "execution_count": 16,
   "id": "fewer-occasion",
   "metadata": {
    "execution": {
     "iopub.execute_input": "2021-11-29T00:24:54.072753Z",
     "iopub.status.busy": "2021-11-29T00:24:54.072010Z",
     "iopub.status.idle": "2021-11-29T00:24:54.074622Z",
     "shell.execute_reply": "2021-11-29T00:24:54.075304Z"
    },
    "papermill": {
     "duration": 0.042758,
     "end_time": "2021-11-29T00:24:54.075422",
     "exception": false,
     "start_time": "2021-11-29T00:24:54.032664",
     "status": "completed"
    },
    "tags": []
   },
   "outputs": [],
   "source": [
    "#hide\n",
    "#delete problematic countries from table\n",
    "df_table = df_table[~df_table['Country/Region'].isin(['Cape Verde', 'Cruise Ship', 'Kosovo'])]"
   ]
  },
  {
   "cell_type": "code",
   "execution_count": 17,
   "id": "related-center",
   "metadata": {
    "execution": {
     "iopub.execute_input": "2021-11-29T00:24:54.158228Z",
     "iopub.status.busy": "2021-11-29T00:24:54.157471Z",
     "iopub.status.idle": "2021-11-29T00:24:54.171199Z",
     "shell.execute_reply": "2021-11-29T00:24:54.170707Z"
    },
    "papermill": {
     "duration": 0.058629,
     "end_time": "2021-11-29T00:24:54.171330",
     "exception": false,
     "start_time": "2021-11-29T00:24:54.112701",
     "status": "completed"
    },
    "tags": []
   },
   "outputs": [],
   "source": [
    "#hide\n",
    "metrics = [df_table.columns[index] for index in [1,2,5,6]]\n",
    "# s_china = df_table[df_table['Country/Region'].eq('China')][metrics].sum().add_prefix('China ')\n",
    "s_us = df_table[df_table['Country/Region'].eq('US')][metrics].sum().add_prefix('US ')\n",
    "s_eu = df_table[df_table['Continent'].eq('Europe')][metrics].sum().add_prefix('EU ')\n",
    "s_ind = df_table[df_table['Country/Region'].eq('India')][metrics].sum().add_prefix('India ')\n",
    "summary = {'updated': pd.to_datetime(dt_today), 'since': pd.to_datetime(dt_yday)}\n",
    "summary = {'updated': pd.to_datetime(dt_today), 'since': pd.to_datetime(dt_yday)}\n",
    "summary = {**summary, **df_table[metrics].sum(), **s_ind, **s_us, **s_eu}"
   ]
  },
  {
   "cell_type": "code",
   "execution_count": 18,
   "id": "engaging-syndrome",
   "metadata": {
    "execution": {
     "iopub.execute_input": "2021-11-29T00:24:54.245700Z",
     "iopub.status.busy": "2021-11-29T00:24:54.245094Z",
     "iopub.status.idle": "2021-11-29T00:24:54.258738Z",
     "shell.execute_reply": "2021-11-29T00:24:54.259525Z"
    },
    "papermill": {
     "duration": 0.053947,
     "end_time": "2021-11-29T00:24:54.259764",
     "exception": false,
     "start_time": "2021-11-29T00:24:54.205817",
     "status": "completed"
    },
    "tags": []
   },
   "outputs": [],
   "source": [
    "#hide\n",
    "dft_ct_new_cases = dft_cases.groupby(COL_REGION)[dt_cols].sum().diff(axis=1).fillna(0).astype(int)"
   ]
  },
  {
   "cell_type": "code",
   "execution_count": 19,
   "id": "neutral-assignment",
   "metadata": {
    "execution": {
     "iopub.execute_input": "2021-11-29T00:24:54.332729Z",
     "iopub.status.busy": "2021-11-29T00:24:54.332196Z",
     "iopub.status.idle": "2021-11-29T00:24:54.334491Z",
     "shell.execute_reply": "2021-11-29T00:24:54.335004Z"
    },
    "papermill": {
     "duration": 0.041814,
     "end_time": "2021-11-29T00:24:54.335121",
     "exception": false,
     "start_time": "2021-11-29T00:24:54.293307",
     "status": "completed"
    },
    "tags": []
   },
   "outputs": [],
   "source": [
    "#hide\n",
    "everydaycases = dft_ct_new_cases.cumsum(axis=1)"
   ]
  },
  {
   "cell_type": "code",
   "execution_count": 20,
   "id": "parliamentary-calgary",
   "metadata": {
    "execution": {
     "iopub.execute_input": "2021-11-29T00:24:54.404437Z",
     "iopub.status.busy": "2021-11-29T00:24:54.403871Z",
     "iopub.status.idle": "2021-11-29T00:24:55.097109Z",
     "shell.execute_reply": "2021-11-29T00:24:55.096553Z"
    },
    "papermill": {
     "duration": 0.730377,
     "end_time": "2021-11-29T00:24:55.097240",
     "exception": false,
     "start_time": "2021-11-29T00:24:54.366863",
     "status": "completed"
    },
    "tags": []
   },
   "outputs": [],
   "source": [
    "#hide\n",
    "import pandas as pd\n",
    "import matplotlib.pyplot as plt\n",
    "import matplotlib.ticker as ticker\n",
    "import matplotlib.animation as animation\n",
    "from IPython.display import HTML"
   ]
  },
  {
   "cell_type": "code",
   "execution_count": 21,
   "id": "lasting-extraction",
   "metadata": {
    "execution": {
     "iopub.execute_input": "2021-11-29T00:24:55.175781Z",
     "iopub.status.busy": "2021-11-29T00:24:55.175251Z",
     "iopub.status.idle": "2021-11-29T00:24:55.181394Z",
     "shell.execute_reply": "2021-11-29T00:24:55.181826Z"
    },
    "papermill": {
     "duration": 0.047867,
     "end_time": "2021-11-29T00:24:55.181960",
     "exception": false,
     "start_time": "2021-11-29T00:24:55.134093",
     "status": "completed"
    },
    "tags": []
   },
   "outputs": [],
   "source": [
    "#hide\n",
    "t = everydaycases.stack()"
   ]
  },
  {
   "cell_type": "code",
   "execution_count": 22,
   "id": "premier-sleeve",
   "metadata": {
    "execution": {
     "iopub.execute_input": "2021-11-29T00:24:55.254718Z",
     "iopub.status.busy": "2021-11-29T00:24:55.253828Z",
     "iopub.status.idle": "2021-11-29T00:24:55.263661Z",
     "shell.execute_reply": "2021-11-29T00:24:55.264408Z"
    },
    "papermill": {
     "duration": 0.048719,
     "end_time": "2021-11-29T00:24:55.264552",
     "exception": false,
     "start_time": "2021-11-29T00:24:55.215833",
     "status": "completed"
    },
    "tags": []
   },
   "outputs": [],
   "source": [
    "#hide\n",
    "g = t.reset_index(['Country/Region'])"
   ]
  },
  {
   "cell_type": "code",
   "execution_count": 23,
   "id": "distributed-pittsburgh",
   "metadata": {
    "execution": {
     "iopub.execute_input": "2021-11-29T00:24:55.338028Z",
     "iopub.status.busy": "2021-11-29T00:24:55.337454Z",
     "iopub.status.idle": "2021-11-29T00:24:55.340976Z",
     "shell.execute_reply": "2021-11-29T00:24:55.341708Z"
    },
    "papermill": {
     "duration": 0.043218,
     "end_time": "2021-11-29T00:24:55.341887",
     "exception": false,
     "start_time": "2021-11-29T00:24:55.298669",
     "status": "completed"
    },
    "tags": []
   },
   "outputs": [],
   "source": [
    "#hide\n",
    "g.index.name = 'date'"
   ]
  },
  {
   "cell_type": "code",
   "execution_count": 24,
   "id": "naked-donor",
   "metadata": {
    "execution": {
     "iopub.execute_input": "2021-11-29T00:24:55.419747Z",
     "iopub.status.busy": "2021-11-29T00:24:55.419119Z",
     "iopub.status.idle": "2021-11-29T00:24:55.421050Z",
     "shell.execute_reply": "2021-11-29T00:24:55.421527Z"
    },
    "papermill": {
     "duration": 0.044111,
     "end_time": "2021-11-29T00:24:55.421670",
     "exception": false,
     "start_time": "2021-11-29T00:24:55.377559",
     "status": "completed"
    },
    "tags": []
   },
   "outputs": [],
   "source": [
    "# #hide\n",
    "# g = g.reset_index(['date'])"
   ]
  },
  {
   "cell_type": "code",
   "execution_count": 25,
   "id": "incomplete-mustang",
   "metadata": {
    "execution": {
     "iopub.execute_input": "2021-11-29T00:24:55.499813Z",
     "iopub.status.busy": "2021-11-29T00:24:55.499219Z",
     "iopub.status.idle": "2021-11-29T00:24:55.503795Z",
     "shell.execute_reply": "2021-11-29T00:24:55.503013Z"
    },
    "papermill": {
     "duration": 0.045459,
     "end_time": "2021-11-29T00:24:55.503973",
     "exception": false,
     "start_time": "2021-11-29T00:24:55.458514",
     "status": "completed"
    },
    "tags": []
   },
   "outputs": [],
   "source": [
    "#hide\n",
    "# g.head()"
   ]
  },
  {
   "cell_type": "code",
   "execution_count": 26,
   "id": "specific-kruger",
   "metadata": {
    "execution": {
     "iopub.execute_input": "2021-11-29T00:24:55.581291Z",
     "iopub.status.busy": "2021-11-29T00:24:55.580556Z",
     "iopub.status.idle": "2021-11-29T00:24:55.583003Z",
     "shell.execute_reply": "2021-11-29T00:24:55.582386Z"
    },
    "papermill": {
     "duration": 0.042934,
     "end_time": "2021-11-29T00:24:55.583126",
     "exception": false,
     "start_time": "2021-11-29T00:24:55.540192",
     "status": "completed"
    },
    "tags": []
   },
   "outputs": [],
   "source": [
    "#hide\n",
    "# g.columns = ['date','country','cases']"
   ]
  },
  {
   "cell_type": "code",
   "execution_count": 27,
   "id": "tender-conversion",
   "metadata": {
    "execution": {
     "iopub.execute_input": "2021-11-29T00:24:55.658548Z",
     "iopub.status.busy": "2021-11-29T00:24:55.657762Z",
     "iopub.status.idle": "2021-11-29T00:24:55.659921Z",
     "shell.execute_reply": "2021-11-29T00:24:55.660482Z"
    },
    "papermill": {
     "duration": 0.043407,
     "end_time": "2021-11-29T00:24:55.660628",
     "exception": false,
     "start_time": "2021-11-29T00:24:55.617221",
     "status": "completed"
    },
    "tags": []
   },
   "outputs": [],
   "source": [
    "#hide\n",
    "# g['continent'] = g.country"
   ]
  },
  {
   "cell_type": "code",
   "execution_count": 28,
   "id": "substantial-wilderness",
   "metadata": {
    "execution": {
     "iopub.execute_input": "2021-11-29T00:24:55.738177Z",
     "iopub.status.busy": "2021-11-29T00:24:55.737562Z",
     "iopub.status.idle": "2021-11-29T00:24:55.741176Z",
     "shell.execute_reply": "2021-11-29T00:24:55.741641Z"
    },
    "papermill": {
     "duration": 0.041986,
     "end_time": "2021-11-29T00:24:55.741776",
     "exception": false,
     "start_time": "2021-11-29T00:24:55.699790",
     "status": "completed"
    },
    "tags": []
   },
   "outputs": [],
   "source": [
    "#hide\n",
    "# cols = list(g.columns.values)"
   ]
  },
  {
   "cell_type": "code",
   "execution_count": 29,
   "id": "solved-farming",
   "metadata": {
    "execution": {
     "iopub.execute_input": "2021-11-29T00:24:55.818353Z",
     "iopub.status.busy": "2021-11-29T00:24:55.817680Z",
     "iopub.status.idle": "2021-11-29T00:24:55.820240Z",
     "shell.execute_reply": "2021-11-29T00:24:55.819698Z"
    },
    "papermill": {
     "duration": 0.042688,
     "end_time": "2021-11-29T00:24:55.820388",
     "exception": false,
     "start_time": "2021-11-29T00:24:55.777700",
     "status": "completed"
    },
    "tags": []
   },
   "outputs": [],
   "source": [
    "#hide\n",
    "# cols.insert(0, cols.pop())"
   ]
  },
  {
   "cell_type": "code",
   "execution_count": 30,
   "id": "executed-adoption",
   "metadata": {
    "execution": {
     "iopub.execute_input": "2021-11-29T00:24:55.895802Z",
     "iopub.status.busy": "2021-11-29T00:24:55.895240Z",
     "iopub.status.idle": "2021-11-29T00:24:55.898830Z",
     "shell.execute_reply": "2021-11-29T00:24:55.899285Z"
    },
    "papermill": {
     "duration": 0.044451,
     "end_time": "2021-11-29T00:24:55.899419",
     "exception": false,
     "start_time": "2021-11-29T00:24:55.854968",
     "status": "completed"
    },
    "tags": []
   },
   "outputs": [],
   "source": [
    "#hide\n",
    "# g = g[cols]"
   ]
  },
  {
   "cell_type": "code",
   "execution_count": 31,
   "id": "subject-dublin",
   "metadata": {
    "execution": {
     "iopub.execute_input": "2021-11-29T00:24:55.972506Z",
     "iopub.status.busy": "2021-11-29T00:24:55.971944Z",
     "iopub.status.idle": "2021-11-29T00:24:55.973964Z",
     "shell.execute_reply": "2021-11-29T00:24:55.974451Z"
    },
    "papermill": {
     "duration": 0.039974,
     "end_time": "2021-11-29T00:24:55.974574",
     "exception": false,
     "start_time": "2021-11-29T00:24:55.934600",
     "status": "completed"
    },
    "tags": []
   },
   "outputs": [],
   "source": [
    "#hide\n",
    "# g['continent'] = g['continent'].map(mapping['map.continent'])"
   ]
  },
  {
   "cell_type": "code",
   "execution_count": 32,
   "id": "freelance-scout",
   "metadata": {
    "execution": {
     "iopub.execute_input": "2021-11-29T00:24:56.044499Z",
     "iopub.status.busy": "2021-11-29T00:24:56.043898Z",
     "iopub.status.idle": "2021-11-29T00:24:56.046274Z",
     "shell.execute_reply": "2021-11-29T00:24:56.045791Z"
    },
    "papermill": {
     "duration": 0.038061,
     "end_time": "2021-11-29T00:24:56.046410",
     "exception": false,
     "start_time": "2021-11-29T00:24:56.008349",
     "status": "completed"
    },
    "tags": []
   },
   "outputs": [],
   "source": [
    "#hide\n",
    "# g.head()"
   ]
  },
  {
   "cell_type": "code",
   "execution_count": 33,
   "id": "limited-engine",
   "metadata": {
    "execution": {
     "iopub.execute_input": "2021-11-29T00:24:56.115168Z",
     "iopub.status.busy": "2021-11-29T00:24:56.114548Z",
     "iopub.status.idle": "2021-11-29T00:24:56.117200Z",
     "shell.execute_reply": "2021-11-29T00:24:56.117789Z"
    },
    "papermill": {
     "duration": 0.038565,
     "end_time": "2021-11-29T00:24:56.117921",
     "exception": false,
     "start_time": "2021-11-29T00:24:56.079356",
     "status": "completed"
    },
    "tags": []
   },
   "outputs": [],
   "source": [
    "# hide\n",
    "# g['date'] = g['date'].astype('datetime64[ns]')"
   ]
  },
  {
   "cell_type": "code",
   "execution_count": 34,
   "id": "sophisticated-supervisor",
   "metadata": {
    "execution": {
     "iopub.execute_input": "2021-11-29T00:24:56.186201Z",
     "iopub.status.busy": "2021-11-29T00:24:56.185619Z",
     "iopub.status.idle": "2021-11-29T00:24:56.187768Z",
     "shell.execute_reply": "2021-11-29T00:24:56.188316Z"
    },
    "papermill": {
     "duration": 0.038247,
     "end_time": "2021-11-29T00:24:56.188449",
     "exception": false,
     "start_time": "2021-11-29T00:24:56.150202",
     "status": "completed"
    },
    "tags": []
   },
   "outputs": [],
   "source": [
    "#hide\n",
    "# g['date'] = g.date.dt.dayofyear"
   ]
  },
  {
   "cell_type": "code",
   "execution_count": 35,
   "id": "inside-dubai",
   "metadata": {
    "execution": {
     "iopub.execute_input": "2021-11-29T00:24:56.259787Z",
     "iopub.status.busy": "2021-11-29T00:24:56.259251Z",
     "iopub.status.idle": "2021-11-29T00:24:56.261690Z",
     "shell.execute_reply": "2021-11-29T00:24:56.261272Z"
    },
    "papermill": {
     "duration": 0.038237,
     "end_time": "2021-11-29T00:24:56.261792",
     "exception": false,
     "start_time": "2021-11-29T00:24:56.223555",
     "status": "completed"
    },
    "tags": []
   },
   "outputs": [],
   "source": [
    "#hide\n",
    "# g = g.rename(columns= {'continent':'group','country':'name','cases':'value'})"
   ]
  },
  {
   "cell_type": "code",
   "execution_count": 36,
   "id": "fleet-motorcycle",
   "metadata": {
    "execution": {
     "iopub.execute_input": "2021-11-29T00:24:56.332809Z",
     "iopub.status.busy": "2021-11-29T00:24:56.332239Z",
     "iopub.status.idle": "2021-11-29T00:24:56.336355Z",
     "shell.execute_reply": "2021-11-29T00:24:56.335841Z"
    },
    "papermill": {
     "duration": 0.041198,
     "end_time": "2021-11-29T00:24:56.336499",
     "exception": false,
     "start_time": "2021-11-29T00:24:56.295301",
     "status": "completed"
    },
    "tags": []
   },
   "outputs": [],
   "source": [
    "#hide\n",
    "# cols = ['name','group','day','value']"
   ]
  },
  {
   "cell_type": "code",
   "execution_count": 37,
   "id": "continued-sleeping",
   "metadata": {
    "execution": {
     "iopub.execute_input": "2021-11-29T00:24:56.408465Z",
     "iopub.status.busy": "2021-11-29T00:24:56.407806Z",
     "iopub.status.idle": "2021-11-29T00:24:56.412104Z",
     "shell.execute_reply": "2021-11-29T00:24:56.412646Z"
    },
    "papermill": {
     "duration": 0.040936,
     "end_time": "2021-11-29T00:24:56.412793",
     "exception": false,
     "start_time": "2021-11-29T00:24:56.371857",
     "status": "completed"
    },
    "tags": []
   },
   "outputs": [],
   "source": [
    "#hide\n",
    "# g.rename(columns= {'date':'day'},inplace = True)"
   ]
  },
  {
   "cell_type": "code",
   "execution_count": 38,
   "id": "major-fight",
   "metadata": {
    "execution": {
     "iopub.execute_input": "2021-11-29T00:24:56.487259Z",
     "iopub.status.busy": "2021-11-29T00:24:56.486626Z",
     "iopub.status.idle": "2021-11-29T00:24:56.488849Z",
     "shell.execute_reply": "2021-11-29T00:24:56.488276Z"
    },
    "papermill": {
     "duration": 0.040501,
     "end_time": "2021-11-29T00:24:56.488986",
     "exception": false,
     "start_time": "2021-11-29T00:24:56.448485",
     "status": "completed"
    },
    "tags": []
   },
   "outputs": [],
   "source": [
    "#hide\n",
    "# g = g[cols]"
   ]
  },
  {
   "cell_type": "code",
   "execution_count": 39,
   "id": "structured-mobile",
   "metadata": {
    "execution": {
     "iopub.execute_input": "2021-11-29T00:24:56.557162Z",
     "iopub.status.busy": "2021-11-29T00:24:56.556482Z",
     "iopub.status.idle": "2021-11-29T00:24:56.560281Z",
     "shell.execute_reply": "2021-11-29T00:24:56.560703Z"
    },
    "papermill": {
     "duration": 0.037829,
     "end_time": "2021-11-29T00:24:56.560824",
     "exception": false,
     "start_time": "2021-11-29T00:24:56.522995",
     "status": "completed"
    },
    "tags": []
   },
   "outputs": [],
   "source": [
    "# #hide\n",
    "# g = g[g.group.notna()]"
   ]
  },
  {
   "cell_type": "code",
   "execution_count": 40,
   "id": "determined-closing",
   "metadata": {
    "execution": {
     "iopub.execute_input": "2021-11-29T00:24:56.633714Z",
     "iopub.status.busy": "2021-11-29T00:24:56.633068Z",
     "iopub.status.idle": "2021-11-29T00:24:56.635190Z",
     "shell.execute_reply": "2021-11-29T00:24:56.635617Z"
    },
    "papermill": {
     "duration": 0.03783,
     "end_time": "2021-11-29T00:24:56.635732",
     "exception": false,
     "start_time": "2021-11-29T00:24:56.597902",
     "status": "completed"
    },
    "tags": []
   },
   "outputs": [],
   "source": [
    "# #hide\n",
    "# colors = dict(zip(\n",
    "#     [\"Oceania\", \"Europe\", \"Asia\", \"South America\", \"Middle East\", \"North America\", \"Africa\"],\n",
    "#     [\"#adb0ff\", \"#ffb3ff\", \"#90d595\", \"#e48381\", \"#aafbff\", \"#f7bb5f\", \"#eafb50\"]\n",
    "# ))\n",
    "# group_lk = g.set_index('name')['group'].to_dict()"
   ]
  },
  {
   "cell_type": "code",
   "execution_count": null,
   "id": "gross-drinking",
   "metadata": {
    "papermill": {
     "duration": 0.03298,
     "end_time": "2021-11-29T00:24:56.700771",
     "exception": false,
     "start_time": "2021-11-29T00:24:56.667791",
     "status": "completed"
    },
    "tags": []
   },
   "outputs": [],
   "source": []
  },
  {
   "cell_type": "code",
   "execution_count": 41,
   "id": "subject-macintosh",
   "metadata": {
    "execution": {
     "iopub.execute_input": "2021-11-29T00:24:56.768519Z",
     "iopub.status.busy": "2021-11-29T00:24:56.767684Z",
     "iopub.status.idle": "2021-11-29T00:24:56.772067Z",
     "shell.execute_reply": "2021-11-29T00:24:56.772510Z"
    },
    "papermill": {
     "duration": 0.040276,
     "end_time": "2021-11-29T00:24:56.772644",
     "exception": false,
     "start_time": "2021-11-29T00:24:56.732368",
     "status": "completed"
    },
    "tags": []
   },
   "outputs": [],
   "source": [
    "# #hide\n",
    "# fig, ax = plt.subplots(figsize=(15, 8))\n",
    "\n",
    "# def draw_barchart(current_day):\n",
    "#     dff = g[g['day'].eq(current_day)].sort_values(by='value', ascending=True).tail(10)\n",
    "#     ax.clear()\n",
    "#     ax.barh(dff['name'], dff['value'], color=[colors[group_lk[x]] for x in dff['name']])\n",
    "#     dx = dff['value'].max() / 200\n",
    "    \n",
    "#     for i, (value, name) in enumerate(zip(dff['value'], dff['name'])):\n",
    "#         ax.text(value-dx, i,     name,           size=14, weight=600, ha='right', va='bottom')\n",
    "#         ax.text(value-dx, i-.25, group_lk[name], size=10, color='#444444', ha='right', va='baseline')\n",
    "#         ax.text(value+dx, i,     f'{value:,.0f}',  size=14, ha='left',  va='center')\n",
    "#     ax.text(1, 0.4, current_day, transform=ax.transAxes, color='#777777', size=46, ha='right', weight=800)\n",
    "#     ax.text(0, 1.06, 'Population (thousands)', transform=ax.transAxes, size=12, color='#777777')\n",
    "#     ax.xaxis.set_major_formatter(ticker.StrMethodFormatter('{x:,.0f}'))\n",
    "#     ax.xaxis.set_ticks_position('top')\n",
    "#     ax.tick_params(axis='x', colors='#777777', labelsize=12)\n",
    "#     ax.set_yticks([])\n",
    "#     ax.margins(0, 0.01)\n",
    "#     ax.grid(which='major', axis='x', linestyle='-')\n",
    "#     ax.set_axisbelow(True)\n",
    "    \n",
    "#     ax.text(0, 1.15, 'Coronavirus',\n",
    "#             transform=ax.transAxes, size=24, weight=600, ha='left', va='top')\n",
    "# #     ax.text(1, 0, 'by @pratapvardhan; credit @jburnmurdoch', transform=ax.transAxes, color='#777777', ha='right',\n",
    "# #             bbox=dict(facecolor='white', alpha=0.8, edgecolor='white'))\n",
    "#     plt.box(False)"
   ]
  },
  {
   "cell_type": "code",
   "execution_count": 42,
   "id": "sexual-wages",
   "metadata": {
    "execution": {
     "iopub.execute_input": "2021-11-29T00:24:56.850920Z",
     "iopub.status.busy": "2021-11-29T00:24:56.850172Z",
     "iopub.status.idle": "2021-11-29T00:24:56.852218Z",
     "shell.execute_reply": "2021-11-29T00:24:56.852640Z"
    },
    "papermill": {
     "duration": 0.043084,
     "end_time": "2021-11-29T00:24:56.852783",
     "exception": false,
     "start_time": "2021-11-29T00:24:56.809699",
     "status": "completed"
    },
    "tags": []
   },
   "outputs": [],
   "source": [
    "# #hide_input\n",
    "# fig, ax = plt.subplots(figsize=(15, 8))\n",
    "# animator = animation.FuncAnimation(fig, draw_barchart, frames=range(g.day.values.min(), g.day.values.max()))\n",
    "# HTML(animator.to_jshtml())\n",
    "# # or use animator.to_html5_video() or animator.save() "
   ]
  },
  {
   "cell_type": "code",
   "execution_count": null,
   "id": "australian-container",
   "metadata": {
    "papermill": {
     "duration": 0.03399,
     "end_time": "2021-11-29T00:24:56.938228",
     "exception": false,
     "start_time": "2021-11-29T00:24:56.904238",
     "status": "completed"
    },
    "tags": []
   },
   "outputs": [],
   "source": []
  },
  {
   "cell_type": "code",
   "execution_count": null,
   "id": "mediterranean-pontiac",
   "metadata": {
    "papermill": {
     "duration": 0.031423,
     "end_time": "2021-11-29T00:24:57.001930",
     "exception": false,
     "start_time": "2021-11-29T00:24:56.970507",
     "status": "completed"
    },
    "tags": []
   },
   "outputs": [],
   "source": []
  },
  {
   "cell_type": "code",
   "execution_count": null,
   "id": "aging-legislature",
   "metadata": {
    "papermill": {
     "duration": 0.03225,
     "end_time": "2021-11-29T00:24:57.067414",
     "exception": false,
     "start_time": "2021-11-29T00:24:57.035164",
     "status": "completed"
    },
    "tags": []
   },
   "outputs": [],
   "source": []
  }
 ],
 "metadata": {
  "kernelspec": {
   "display_name": "Python 3",
   "language": "python",
   "name": "python3"
  },
  "language_info": {
   "codemirror_mode": {
    "name": "ipython",
    "version": 3
   },
   "file_extension": ".py",
   "mimetype": "text/x-python",
   "name": "python",
   "nbconvert_exporter": "python",
   "pygments_lexer": "ipython3",
   "version": "3.6.15"
  },
  "papermill": {
   "duration": 6.724357,
   "end_time": "2021-11-29T00:24:57.406797",
   "environment_variables": {},
   "exception": null,
   "input_path": "2020-03-21-covid19exp.ipynb",
   "output_path": "2020-03-21-covid19exp.ipynb",
   "parameters": {},
   "start_time": "2021-11-29T00:24:50.682440",
   "version": "2.0.0"
  }
 },
 "nbformat": 4,
 "nbformat_minor": 5
}