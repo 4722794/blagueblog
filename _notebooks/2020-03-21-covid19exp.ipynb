{
 "cells": [
  {
   "cell_type": "markdown",
   "id": "muslim-click",
   "metadata": {
    "papermill": {
     "duration": 0.038189,
     "end_time": "2022-09-21T00:54:57.532225",
     "exception": false,
     "start_time": "2022-09-21T00:54:57.494036",
     "status": "completed"
    },
    "tags": []
   },
   "source": [
    "# COVID-19 Case Race\n",
    "> A race chart to see rising cases around the world\n",
    "\n",
    "- author: Hargun Oberoi\n",
    "- image: images/covid-overview.png\n",
    "- hide: false\n",
    "- badges: false"
   ]
  },
  {
   "cell_type": "code",
   "execution_count": 1,
   "id": "proof-material",
   "metadata": {
    "execution": {
     "iopub.execute_input": "2022-09-21T00:54:57.607513Z",
     "iopub.status.busy": "2022-09-21T00:54:57.606893Z",
     "iopub.status.idle": "2022-09-21T00:54:57.950468Z",
     "shell.execute_reply": "2022-09-21T00:54:57.949325Z"
    },
    "papermill": {
     "duration": 0.388464,
     "end_time": "2022-09-21T00:54:57.950699",
     "exception": false,
     "start_time": "2022-09-21T00:54:57.562235",
     "status": "completed"
    },
    "tags": []
   },
   "outputs": [],
   "source": [
    "#hide\n",
    "import numpy as np\n",
    "import pandas as pd\n",
    "from jinja2 import Template\n",
    "from IPython.display import HTML"
   ]
  },
  {
   "cell_type": "code",
   "execution_count": 2,
   "id": "developed-terminology",
   "metadata": {
    "execution": {
     "iopub.execute_input": "2022-09-21T00:54:58.019249Z",
     "iopub.status.busy": "2022-09-21T00:54:58.018600Z",
     "iopub.status.idle": "2022-09-21T00:54:58.020647Z",
     "shell.execute_reply": "2022-09-21T00:54:58.020002Z"
    },
    "papermill": {
     "duration": 0.039444,
     "end_time": "2022-09-21T00:54:58.020771",
     "exception": false,
     "start_time": "2022-09-21T00:54:57.981327",
     "status": "completed"
    },
    "tags": []
   },
   "outputs": [],
   "source": [
    "#hide\n",
    "\n",
    "# FETCH\n",
    "base_url = 'https://raw.githubusercontent.com/pratapvardhan/notebooks/master/covid19/'\n",
    "paths = {\n",
    "    'mapping': base_url + 'mapping_countries.csv',\n",
    "    'overview': base_url + 'overview.tpl'\n",
    "}"
   ]
  },
  {
   "cell_type": "code",
   "execution_count": 3,
   "id": "dynamic-saver",
   "metadata": {
    "execution": {
     "iopub.execute_input": "2022-09-21T00:54:58.092287Z",
     "iopub.status.busy": "2022-09-21T00:54:58.091676Z",
     "iopub.status.idle": "2022-09-21T00:54:58.095305Z",
     "shell.execute_reply": "2022-09-21T00:54:58.095789Z"
    },
    "papermill": {
     "duration": 0.044815,
     "end_time": "2022-09-21T00:54:58.095935",
     "exception": false,
     "start_time": "2022-09-21T00:54:58.051120",
     "status": "completed"
    },
    "tags": []
   },
   "outputs": [
    {
     "data": {
      "text/plain": [
       "'https://raw.githubusercontent.com/pratapvardhan/notebooks/master/covid19/mapping_countries.csv'"
      ]
     },
     "execution_count": 3,
     "metadata": {},
     "output_type": "execute_result"
    }
   ],
   "source": [
    "#hide\n",
    "paths['mapping']"
   ]
  },
  {
   "cell_type": "code",
   "execution_count": 4,
   "id": "urban-software",
   "metadata": {
    "execution": {
     "iopub.execute_input": "2022-09-21T00:54:58.163260Z",
     "iopub.status.busy": "2022-09-21T00:54:58.162684Z",
     "iopub.status.idle": "2022-09-21T00:54:58.165371Z",
     "shell.execute_reply": "2022-09-21T00:54:58.164916Z"
    },
    "papermill": {
     "duration": 0.036952,
     "end_time": "2022-09-21T00:54:58.165475",
     "exception": false,
     "start_time": "2022-09-21T00:54:58.128523",
     "status": "completed"
    },
    "tags": []
   },
   "outputs": [],
   "source": [
    "#hide\n",
    "def get_mappings(url):\n",
    "    df = pd.read_csv(url)\n",
    "    return {\n",
    "        'df': df,\n",
    "        'replace.country': dict(df.dropna(subset=['Name']).set_index('Country')['Name']),\n",
    "        'map.continent': dict(df.set_index('Name')['Continent'])\n",
    "    }"
   ]
  },
  {
   "cell_type": "code",
   "execution_count": 5,
   "id": "intimate-machinery",
   "metadata": {
    "execution": {
     "iopub.execute_input": "2022-09-21T00:54:58.233744Z",
     "iopub.status.busy": "2022-09-21T00:54:58.233052Z",
     "iopub.status.idle": "2022-09-21T00:54:58.261700Z",
     "shell.execute_reply": "2022-09-21T00:54:58.261075Z"
    },
    "papermill": {
     "duration": 0.066804,
     "end_time": "2022-09-21T00:54:58.261821",
     "exception": false,
     "start_time": "2022-09-21T00:54:58.195017",
     "status": "completed"
    },
    "tags": []
   },
   "outputs": [],
   "source": [
    "#hide\n",
    "mapping = get_mappings(paths['mapping'])"
   ]
  },
  {
   "cell_type": "code",
   "execution_count": 6,
   "id": "certified-tactics",
   "metadata": {
    "execution": {
     "iopub.execute_input": "2022-09-21T00:54:58.327343Z",
     "iopub.status.busy": "2022-09-21T00:54:58.326637Z",
     "iopub.status.idle": "2022-09-21T00:54:58.329354Z",
     "shell.execute_reply": "2022-09-21T00:54:58.329922Z"
    },
    "papermill": {
     "duration": 0.040963,
     "end_time": "2022-09-21T00:54:58.330064",
     "exception": false,
     "start_time": "2022-09-21T00:54:58.289101",
     "status": "completed"
    },
    "tags": []
   },
   "outputs": [],
   "source": [
    "#hide\n",
    "def get_template(path):\n",
    "    from urllib.parse import urlparse\n",
    "    if bool(urlparse(path).netloc):\n",
    "        from urllib.request import urlopen\n",
    "        return urlopen(path).read().decode('utf8')\n",
    "    return open(path).read()"
   ]
  },
  {
   "cell_type": "code",
   "execution_count": 7,
   "id": "realistic-blast",
   "metadata": {
    "execution": {
     "iopub.execute_input": "2022-09-21T00:54:58.395385Z",
     "iopub.status.busy": "2022-09-21T00:54:58.394742Z",
     "iopub.status.idle": "2022-09-21T00:54:58.397414Z",
     "shell.execute_reply": "2022-09-21T00:54:58.397017Z"
    },
    "papermill": {
     "duration": 0.039819,
     "end_time": "2022-09-21T00:54:58.397504",
     "exception": false,
     "start_time": "2022-09-21T00:54:58.357685",
     "status": "completed"
    },
    "tags": []
   },
   "outputs": [],
   "source": [
    "#hide\n",
    "def get_frame(name):\n",
    "    url = (\n",
    "        'https://raw.githubusercontent.com/CSSEGISandData/COVID-19/master/csse_covid_19_data/'\n",
    "        f'csse_covid_19_time_series/time_series_covid19_{name}_global.csv')\n",
    "    df = pd.read_csv(url)\n",
    "    # rename countries\n",
    "    df['Country/Region'] = df['Country/Region'].replace(mapping['replace.country'])\n",
    "    return df"
   ]
  },
  {
   "cell_type": "code",
   "execution_count": 8,
   "id": "affiliated-characterization",
   "metadata": {
    "execution": {
     "iopub.execute_input": "2022-09-21T00:54:58.462385Z",
     "iopub.status.busy": "2022-09-21T00:54:58.461827Z",
     "iopub.status.idle": "2022-09-21T00:54:58.465386Z",
     "shell.execute_reply": "2022-09-21T00:54:58.465781Z"
    },
    "papermill": {
     "duration": 0.041127,
     "end_time": "2022-09-21T00:54:58.465884",
     "exception": false,
     "start_time": "2022-09-21T00:54:58.424757",
     "status": "completed"
    },
    "tags": []
   },
   "outputs": [],
   "source": [
    "#hide\n",
    "def get_dates(df):\n",
    "    dt_cols = df.columns[~df.columns.isin(['Province/State', 'Country/Region', 'Lat', 'Long'])]\n",
    "    LAST_DATE_I = -1\n",
    "    # sometimes last column may be empty, then go backwards\n",
    "    for i in range(-1, -len(dt_cols), -1):\n",
    "        if not df[dt_cols[i]].fillna(0).eq(0).all():\n",
    "            LAST_DATE_I = i\n",
    "            break\n",
    "    return LAST_DATE_I, dt_cols"
   ]
  },
  {
   "cell_type": "code",
   "execution_count": 9,
   "id": "recent-optimization",
   "metadata": {
    "execution": {
     "iopub.execute_input": "2022-09-21T00:54:58.530924Z",
     "iopub.status.busy": "2022-09-21T00:54:58.530200Z",
     "iopub.status.idle": "2022-09-21T00:54:58.957962Z",
     "shell.execute_reply": "2022-09-21T00:54:58.956162Z"
    },
    "papermill": {
     "duration": 0.466271,
     "end_time": "2022-09-21T00:54:58.958194",
     "exception": false,
     "start_time": "2022-09-21T00:54:58.491923",
     "status": "completed"
    },
    "tags": []
   },
   "outputs": [],
   "source": [
    "#hide\n",
    "COL_REGION = 'Country/Region'\n",
    "# Confirmed, Recovered, Deaths\n",
    "df = get_frame('confirmed')\n",
    "# dft_: timeseries, dfc_: today country agg\n",
    "dft_cases = df\n",
    "dft_deaths = get_frame('deaths')\n",
    "dft_recovered = get_frame('recovered')\n",
    "LAST_DATE_I, dt_cols = get_dates(df)"
   ]
  },
  {
   "cell_type": "code",
   "execution_count": 10,
   "id": "absolute-copper",
   "metadata": {
    "execution": {
     "iopub.execute_input": "2022-09-21T00:54:59.027635Z",
     "iopub.status.busy": "2022-09-21T00:54:59.026639Z",
     "iopub.status.idle": "2022-09-21T00:54:59.034424Z",
     "shell.execute_reply": "2022-09-21T00:54:59.035451Z"
    },
    "papermill": {
     "duration": 0.046168,
     "end_time": "2022-09-21T00:54:59.035692",
     "exception": false,
     "start_time": "2022-09-21T00:54:58.989524",
     "status": "completed"
    },
    "tags": []
   },
   "outputs": [],
   "source": [
    "#hide\n",
    "LAST_DATE_I, dt_cols = get_dates(df)\n",
    "dt_today =dt_cols[LAST_DATE_I]\n",
    "# dt_5day = dt_cols[LAST_DATE_I - 5]\n",
    "dt_yday = dt_cols[LAST_DATE_I - 1]"
   ]
  },
  {
   "cell_type": "code",
   "execution_count": 11,
   "id": "restricted-sheriff",
   "metadata": {
    "execution": {
     "iopub.execute_input": "2022-09-21T00:54:59.110331Z",
     "iopub.status.busy": "2022-09-21T00:54:59.109641Z",
     "iopub.status.idle": "2022-09-21T00:54:59.119263Z",
     "shell.execute_reply": "2022-09-21T00:54:59.119917Z"
    },
    "papermill": {
     "duration": 0.048927,
     "end_time": "2022-09-21T00:54:59.120063",
     "exception": false,
     "start_time": "2022-09-21T00:54:59.071136",
     "status": "completed"
    },
    "tags": []
   },
   "outputs": [],
   "source": [
    "#hide\n",
    "dfc_cases = dft_cases.groupby(COL_REGION)[dt_today].sum()\n",
    "dfc_deaths = dft_deaths.groupby(COL_REGION)[dt_today].sum()\n",
    "# dfp_cases = dft_cases.groupby(COL_REGION)[dt_5day].sum()\n",
    "# dfp_deaths = dft_deaths.groupby(COL_REGION)[dt_5day].sum()\n",
    "dfp_cases = dft_cases.groupby(COL_REGION)[dt_yday].sum()\n",
    "dfp_deaths = dft_deaths.groupby(COL_REGION)[dt_yday].sum()"
   ]
  },
  {
   "cell_type": "code",
   "execution_count": 12,
   "id": "deluxe-hepatitis",
   "metadata": {
    "execution": {
     "iopub.execute_input": "2022-09-21T00:54:59.187494Z",
     "iopub.status.busy": "2022-09-21T00:54:59.186923Z",
     "iopub.status.idle": "2022-09-21T00:54:59.191858Z",
     "shell.execute_reply": "2022-09-21T00:54:59.191401Z"
    },
    "papermill": {
     "duration": 0.041426,
     "end_time": "2022-09-21T00:54:59.191960",
     "exception": false,
     "start_time": "2022-09-21T00:54:59.150534",
     "status": "completed"
    },
    "tags": []
   },
   "outputs": [],
   "source": [
    "#hide\n",
    "df_table = (pd.DataFrame(dict(Cases = dfc_cases, Deaths = dfc_deaths, PCases = dfp_cases, PDeaths = dfp_deaths))\n",
    "            .sort_values(by = ['Cases','Deaths'], ascending = [False, False])\n",
    "            .reset_index())"
   ]
  },
  {
   "cell_type": "code",
   "execution_count": 13,
   "id": "educational-chancellor",
   "metadata": {
    "execution": {
     "iopub.execute_input": "2022-09-21T00:54:59.268818Z",
     "iopub.status.busy": "2022-09-21T00:54:59.264507Z",
     "iopub.status.idle": "2022-09-21T00:54:59.278262Z",
     "shell.execute_reply": "2022-09-21T00:54:59.277707Z"
    },
    "papermill": {
     "duration": 0.05766,
     "end_time": "2022-09-21T00:54:59.278384",
     "exception": false,
     "start_time": "2022-09-21T00:54:59.220724",
     "status": "completed"
    },
    "tags": []
   },
   "outputs": [
    {
     "data": {
      "text/html": [
       "<div>\n",
       "<style scoped>\n",
       "    .dataframe tbody tr th:only-of-type {\n",
       "        vertical-align: middle;\n",
       "    }\n",
       "\n",
       "    .dataframe tbody tr th {\n",
       "        vertical-align: top;\n",
       "    }\n",
       "\n",
       "    .dataframe thead th {\n",
       "        text-align: right;\n",
       "    }\n",
       "</style>\n",
       "<table border=\"1\" class=\"dataframe\">\n",
       "  <thead>\n",
       "    <tr style=\"text-align: right;\">\n",
       "      <th></th>\n",
       "      <th>Country/Region</th>\n",
       "      <th>Cases</th>\n",
       "      <th>Deaths</th>\n",
       "      <th>PCases</th>\n",
       "      <th>PDeaths</th>\n",
       "      <th>Cases (+)</th>\n",
       "      <th>Deaths (+)</th>\n",
       "      <th>Fatality Rate</th>\n",
       "      <th>Continent</th>\n",
       "    </tr>\n",
       "  </thead>\n",
       "  <tbody>\n",
       "    <tr>\n",
       "      <th>0</th>\n",
       "      <td>US</td>\n",
       "      <td>95713363</td>\n",
       "      <td>1053840</td>\n",
       "      <td>95658236</td>\n",
       "      <td>1053419</td>\n",
       "      <td>55127</td>\n",
       "      <td>421</td>\n",
       "      <td>1.10</td>\n",
       "      <td>North America</td>\n",
       "    </tr>\n",
       "    <tr>\n",
       "      <th>1</th>\n",
       "      <td>India</td>\n",
       "      <td>44543089</td>\n",
       "      <td>528370</td>\n",
       "      <td>44539046</td>\n",
       "      <td>528355</td>\n",
       "      <td>4043</td>\n",
       "      <td>15</td>\n",
       "      <td>1.19</td>\n",
       "      <td>Asia</td>\n",
       "    </tr>\n",
       "    <tr>\n",
       "      <th>2</th>\n",
       "      <td>France</td>\n",
       "      <td>35138509</td>\n",
       "      <td>155783</td>\n",
       "      <td>35076991</td>\n",
       "      <td>155712</td>\n",
       "      <td>61518</td>\n",
       "      <td>71</td>\n",
       "      <td>0.44</td>\n",
       "      <td>Europe</td>\n",
       "    </tr>\n",
       "    <tr>\n",
       "      <th>3</th>\n",
       "      <td>Brazil</td>\n",
       "      <td>34592163</td>\n",
       "      <td>685424</td>\n",
       "      <td>34568833</td>\n",
       "      <td>685203</td>\n",
       "      <td>23330</td>\n",
       "      <td>221</td>\n",
       "      <td>1.98</td>\n",
       "      <td>South America</td>\n",
       "    </tr>\n",
       "    <tr>\n",
       "      <th>4</th>\n",
       "      <td>Germany</td>\n",
       "      <td>32740593</td>\n",
       "      <td>149079</td>\n",
       "      <td>32680356</td>\n",
       "      <td>148933</td>\n",
       "      <td>60237</td>\n",
       "      <td>146</td>\n",
       "      <td>0.46</td>\n",
       "      <td>Europe</td>\n",
       "    </tr>\n",
       "  </tbody>\n",
       "</table>\n",
       "</div>"
      ],
      "text/plain": [
       "  Country/Region     Cases   Deaths    PCases  PDeaths  Cases (+)  Deaths (+)  \\\n",
       "0             US  95713363  1053840  95658236  1053419      55127         421   \n",
       "1          India  44543089   528370  44539046   528355       4043          15   \n",
       "2         France  35138509   155783  35076991   155712      61518          71   \n",
       "3         Brazil  34592163   685424  34568833   685203      23330         221   \n",
       "4        Germany  32740593   149079  32680356   148933      60237         146   \n",
       "\n",
       "   Fatality Rate      Continent  \n",
       "0           1.10  North America  \n",
       "1           1.19           Asia  \n",
       "2           0.44         Europe  \n",
       "3           1.98  South America  \n",
       "4           0.46         Europe  "
      ]
     },
     "execution_count": 13,
     "metadata": {},
     "output_type": "execute_result"
    }
   ],
   "source": [
    "#hide\n",
    "for c in 'Cases, Deaths'.split(', '):\n",
    "    df_table[f'{c} (+)'] = (df_table[c] - df_table[f'P{c}']).clip(0)\n",
    "    #Clip ça veut dire, les chiffres negatif sont interdit\n",
    "df_table['Fatality Rate'] = (100* df_table['Deaths']/ df_table['Cases']).round(2)\n",
    "df_table['Continent'] = df_table['Country/Region'].map(mapping['map.continent'])\n",
    "df_table.head(5)"
   ]
  },
  {
   "cell_type": "code",
   "execution_count": 14,
   "id": "aboriginal-bulgaria",
   "metadata": {
    "execution": {
     "iopub.execute_input": "2022-09-21T00:54:59.341970Z",
     "iopub.status.busy": "2022-09-21T00:54:59.341328Z",
     "iopub.status.idle": "2022-09-21T00:54:59.345663Z",
     "shell.execute_reply": "2022-09-21T00:54:59.346228Z"
    },
    "papermill": {
     "duration": 0.039923,
     "end_time": "2022-09-21T00:54:59.346328",
     "exception": false,
     "start_time": "2022-09-21T00:54:59.306405",
     "status": "completed"
    },
    "tags": []
   },
   "outputs": [],
   "source": [
    "#hide\n",
    "#delete problematic countries from table\n",
    "df_table = df_table[~df_table['Country/Region'].isin(['Cape Verde', 'Cruise Ship', 'Kosovo'])]"
   ]
  },
  {
   "cell_type": "code",
   "execution_count": 15,
   "id": "fantastic-effect",
   "metadata": {
    "execution": {
     "iopub.execute_input": "2022-09-21T00:54:59.414883Z",
     "iopub.status.busy": "2022-09-21T00:54:59.414205Z",
     "iopub.status.idle": "2022-09-21T00:54:59.436136Z",
     "shell.execute_reply": "2022-09-21T00:54:59.436712Z"
    },
    "papermill": {
     "duration": 0.062077,
     "end_time": "2022-09-21T00:54:59.436862",
     "exception": false,
     "start_time": "2022-09-21T00:54:59.374785",
     "status": "completed"
    },
    "tags": []
   },
   "outputs": [
    {
     "data": {
      "text/html": [
       "<div>\n",
       "<style scoped>\n",
       "    .dataframe tbody tr th:only-of-type {\n",
       "        vertical-align: middle;\n",
       "    }\n",
       "\n",
       "    .dataframe tbody tr th {\n",
       "        vertical-align: top;\n",
       "    }\n",
       "\n",
       "    .dataframe thead th {\n",
       "        text-align: right;\n",
       "    }\n",
       "</style>\n",
       "<table border=\"1\" class=\"dataframe\">\n",
       "  <thead>\n",
       "    <tr style=\"text-align: right;\">\n",
       "      <th></th>\n",
       "      <th>Country/Region</th>\n",
       "      <th>Cases</th>\n",
       "      <th>Deaths</th>\n",
       "      <th>PCases</th>\n",
       "      <th>PDeaths</th>\n",
       "      <th>Cases (+)</th>\n",
       "      <th>Deaths (+)</th>\n",
       "      <th>Fatality Rate</th>\n",
       "      <th>Continent</th>\n",
       "    </tr>\n",
       "  </thead>\n",
       "  <tbody>\n",
       "    <tr>\n",
       "      <th>0</th>\n",
       "      <td>US</td>\n",
       "      <td>95713363</td>\n",
       "      <td>1053840</td>\n",
       "      <td>95658236</td>\n",
       "      <td>1053419</td>\n",
       "      <td>55127</td>\n",
       "      <td>421</td>\n",
       "      <td>1.1</td>\n",
       "      <td>North America</td>\n",
       "    </tr>\n",
       "    <tr>\n",
       "      <th>1</th>\n",
       "      <td>India</td>\n",
       "      <td>44543089</td>\n",
       "      <td>528370</td>\n",
       "      <td>44539046</td>\n",
       "      <td>528355</td>\n",
       "      <td>4043</td>\n",
       "      <td>15</td>\n",
       "      <td>1.2</td>\n",
       "      <td>Asia</td>\n",
       "    </tr>\n",
       "    <tr>\n",
       "      <th>2</th>\n",
       "      <td>France</td>\n",
       "      <td>35138509</td>\n",
       "      <td>155783</td>\n",
       "      <td>35076991</td>\n",
       "      <td>155712</td>\n",
       "      <td>61518</td>\n",
       "      <td>71</td>\n",
       "      <td>0.4</td>\n",
       "      <td>Europe</td>\n",
       "    </tr>\n",
       "    <tr>\n",
       "      <th>3</th>\n",
       "      <td>Brazil</td>\n",
       "      <td>34592163</td>\n",
       "      <td>685424</td>\n",
       "      <td>34568833</td>\n",
       "      <td>685203</td>\n",
       "      <td>23330</td>\n",
       "      <td>221</td>\n",
       "      <td>2.0</td>\n",
       "      <td>South America</td>\n",
       "    </tr>\n",
       "    <tr>\n",
       "      <th>4</th>\n",
       "      <td>Germany</td>\n",
       "      <td>32740593</td>\n",
       "      <td>149079</td>\n",
       "      <td>32680356</td>\n",
       "      <td>148933</td>\n",
       "      <td>60237</td>\n",
       "      <td>146</td>\n",
       "      <td>0.5</td>\n",
       "      <td>Europe</td>\n",
       "    </tr>\n",
       "  </tbody>\n",
       "</table>\n",
       "</div>"
      ],
      "text/plain": [
       "  Country/Region     Cases   Deaths    PCases  PDeaths  Cases (+)  Deaths (+)  \\\n",
       "0             US  95713363  1053840  95658236  1053419      55127         421   \n",
       "1          India  44543089   528370  44539046   528355       4043          15   \n",
       "2         France  35138509   155783  35076991   155712      61518          71   \n",
       "3         Brazil  34592163   685424  34568833   685203      23330         221   \n",
       "4        Germany  32740593   149079  32680356   148933      60237         146   \n",
       "\n",
       "   Fatality Rate      Continent  \n",
       "0            1.1  North America  \n",
       "1            1.2           Asia  \n",
       "2            0.4         Europe  \n",
       "3            2.0  South America  \n",
       "4            0.5         Europe  "
      ]
     },
     "execution_count": 15,
     "metadata": {},
     "output_type": "execute_result"
    }
   ],
   "source": [
    "#hide\n",
    "df_table = (pd.DataFrame(dict(Cases=dfc_cases, Deaths=dfc_deaths, PCases=dfp_cases, PDeaths=dfp_deaths))\n",
    "             .sort_values(by=['Cases', 'Deaths'], ascending=[False, False])\n",
    "             .reset_index())\n",
    "df_table.rename(columns={'index': 'Country/Region'}, inplace=True)\n",
    "for c in 'Cases, Deaths'.split(', '):\n",
    "    df_table[f'{c} (+)'] = (df_table[c] - df_table[f'P{c}']).clip(0)  # DATA BUG\n",
    "df_table['Fatality Rate'] = (100 * df_table['Deaths'] / df_table['Cases']).round(1)\n",
    "df_table['Continent'] = df_table['Country/Region'].map(mapping['map.continent'])\n",
    "df_table.head(5)"
   ]
  },
  {
   "cell_type": "code",
   "execution_count": 16,
   "id": "fewer-occasion",
   "metadata": {
    "execution": {
     "iopub.execute_input": "2022-09-21T00:54:59.504377Z",
     "iopub.status.busy": "2022-09-21T00:54:59.503704Z",
     "iopub.status.idle": "2022-09-21T00:54:59.507255Z",
     "shell.execute_reply": "2022-09-21T00:54:59.507630Z"
    },
    "papermill": {
     "duration": 0.039954,
     "end_time": "2022-09-21T00:54:59.507734",
     "exception": false,
     "start_time": "2022-09-21T00:54:59.467780",
     "status": "completed"
    },
    "tags": []
   },
   "outputs": [],
   "source": [
    "#hide\n",
    "#delete problematic countries from table\n",
    "df_table = df_table[~df_table['Country/Region'].isin(['Cape Verde', 'Cruise Ship', 'Kosovo'])]"
   ]
  },
  {
   "cell_type": "code",
   "execution_count": 17,
   "id": "related-center",
   "metadata": {
    "execution": {
     "iopub.execute_input": "2022-09-21T00:54:59.574347Z",
     "iopub.status.busy": "2022-09-21T00:54:59.573670Z",
     "iopub.status.idle": "2022-09-21T00:54:59.586172Z",
     "shell.execute_reply": "2022-09-21T00:54:59.586567Z"
    },
    "papermill": {
     "duration": 0.050809,
     "end_time": "2022-09-21T00:54:59.586694",
     "exception": false,
     "start_time": "2022-09-21T00:54:59.535885",
     "status": "completed"
    },
    "tags": []
   },
   "outputs": [],
   "source": [
    "#hide\n",
    "metrics = [df_table.columns[index] for index in [1,2,5,6]]\n",
    "# s_china = df_table[df_table['Country/Region'].eq('China')][metrics].sum().add_prefix('China ')\n",
    "s_us = df_table[df_table['Country/Region'].eq('US')][metrics].sum().add_prefix('US ')\n",
    "s_eu = df_table[df_table['Continent'].eq('Europe')][metrics].sum().add_prefix('EU ')\n",
    "s_ind = df_table[df_table['Country/Region'].eq('India')][metrics].sum().add_prefix('India ')\n",
    "summary = {'updated': pd.to_datetime(dt_today), 'since': pd.to_datetime(dt_yday)}\n",
    "summary = {'updated': pd.to_datetime(dt_today), 'since': pd.to_datetime(dt_yday)}\n",
    "summary = {**summary, **df_table[metrics].sum(), **s_ind, **s_us, **s_eu}"
   ]
  },
  {
   "cell_type": "code",
   "execution_count": 18,
   "id": "engaging-syndrome",
   "metadata": {
    "execution": {
     "iopub.execute_input": "2022-09-21T00:54:59.649835Z",
     "iopub.status.busy": "2022-09-21T00:54:59.649354Z",
     "iopub.status.idle": "2022-09-21T00:54:59.669931Z",
     "shell.execute_reply": "2022-09-21T00:54:59.669533Z"
    },
    "papermill": {
     "duration": 0.056072,
     "end_time": "2022-09-21T00:54:59.670023",
     "exception": false,
     "start_time": "2022-09-21T00:54:59.613951",
     "status": "completed"
    },
    "tags": []
   },
   "outputs": [],
   "source": [
    "#hide\n",
    "dft_ct_new_cases = dft_cases.groupby(COL_REGION)[dt_cols].sum().diff(axis=1).fillna(0).astype(int)"
   ]
  },
  {
   "cell_type": "code",
   "execution_count": 19,
   "id": "neutral-assignment",
   "metadata": {
    "execution": {
     "iopub.execute_input": "2022-09-21T00:54:59.731008Z",
     "iopub.status.busy": "2022-09-21T00:54:59.730308Z",
     "iopub.status.idle": "2022-09-21T00:54:59.735502Z",
     "shell.execute_reply": "2022-09-21T00:54:59.734871Z"
    },
    "papermill": {
     "duration": 0.038056,
     "end_time": "2022-09-21T00:54:59.735621",
     "exception": false,
     "start_time": "2022-09-21T00:54:59.697565",
     "status": "completed"
    },
    "tags": []
   },
   "outputs": [],
   "source": [
    "#hide\n",
    "everydaycases = dft_ct_new_cases.cumsum(axis=1)"
   ]
  },
  {
   "cell_type": "code",
   "execution_count": 20,
   "id": "parliamentary-calgary",
   "metadata": {
    "execution": {
     "iopub.execute_input": "2022-09-21T00:54:59.798721Z",
     "iopub.status.busy": "2022-09-21T00:54:59.798094Z",
     "iopub.status.idle": "2022-09-21T00:55:00.368259Z",
     "shell.execute_reply": "2022-09-21T00:55:00.366271Z"
    },
    "papermill": {
     "duration": 0.603723,
     "end_time": "2022-09-21T00:55:00.368489",
     "exception": false,
     "start_time": "2022-09-21T00:54:59.764766",
     "status": "completed"
    },
    "tags": []
   },
   "outputs": [],
   "source": [
    "#hide\n",
    "import pandas as pd\n",
    "import matplotlib.pyplot as plt\n",
    "import matplotlib.ticker as ticker\n",
    "import matplotlib.animation as animation\n",
    "from IPython.display import HTML"
   ]
  },
  {
   "cell_type": "code",
   "execution_count": 21,
   "id": "lasting-extraction",
   "metadata": {
    "execution": {
     "iopub.execute_input": "2022-09-21T00:55:00.433012Z",
     "iopub.status.busy": "2022-09-21T00:55:00.432320Z",
     "iopub.status.idle": "2022-09-21T00:55:00.440459Z",
     "shell.execute_reply": "2022-09-21T00:55:00.439812Z"
    },
    "papermill": {
     "duration": 0.043924,
     "end_time": "2022-09-21T00:55:00.440578",
     "exception": false,
     "start_time": "2022-09-21T00:55:00.396654",
     "status": "completed"
    },
    "tags": []
   },
   "outputs": [],
   "source": [
    "#hide\n",
    "t = everydaycases.stack()"
   ]
  },
  {
   "cell_type": "code",
   "execution_count": 22,
   "id": "premier-sleeve",
   "metadata": {
    "execution": {
     "iopub.execute_input": "2022-09-21T00:55:00.511526Z",
     "iopub.status.busy": "2022-09-21T00:55:00.510830Z",
     "iopub.status.idle": "2022-09-21T00:55:00.525233Z",
     "shell.execute_reply": "2022-09-21T00:55:00.525806Z"
    },
    "papermill": {
     "duration": 0.05478,
     "end_time": "2022-09-21T00:55:00.525958",
     "exception": false,
     "start_time": "2022-09-21T00:55:00.471178",
     "status": "completed"
    },
    "tags": []
   },
   "outputs": [],
   "source": [
    "#hide\n",
    "g = t.reset_index(['Country/Region'])"
   ]
  },
  {
   "cell_type": "code",
   "execution_count": 23,
   "id": "distributed-pittsburgh",
   "metadata": {
    "execution": {
     "iopub.execute_input": "2022-09-21T00:55:00.597352Z",
     "iopub.status.busy": "2022-09-21T00:55:00.596557Z",
     "iopub.status.idle": "2022-09-21T00:55:00.598725Z",
     "shell.execute_reply": "2022-09-21T00:55:00.599352Z"
    },
    "papermill": {
     "duration": 0.040836,
     "end_time": "2022-09-21T00:55:00.599518",
     "exception": false,
     "start_time": "2022-09-21T00:55:00.558682",
     "status": "completed"
    },
    "tags": []
   },
   "outputs": [],
   "source": [
    "#hide\n",
    "g.index.name = 'date'"
   ]
  },
  {
   "cell_type": "code",
   "execution_count": 24,
   "id": "naked-donor",
   "metadata": {
    "execution": {
     "iopub.execute_input": "2022-09-21T00:55:00.670811Z",
     "iopub.status.busy": "2022-09-21T00:55:00.669601Z",
     "iopub.status.idle": "2022-09-21T00:55:00.672108Z",
     "shell.execute_reply": "2022-09-21T00:55:00.672999Z"
    },
    "papermill": {
     "duration": 0.039829,
     "end_time": "2022-09-21T00:55:00.673225",
     "exception": false,
     "start_time": "2022-09-21T00:55:00.633396",
     "status": "completed"
    },
    "tags": []
   },
   "outputs": [],
   "source": [
    "# #hide\n",
    "# g = g.reset_index(['date'])"
   ]
  },
  {
   "cell_type": "code",
   "execution_count": 25,
   "id": "incomplete-mustang",
   "metadata": {
    "execution": {
     "iopub.execute_input": "2022-09-21T00:55:00.741537Z",
     "iopub.status.busy": "2022-09-21T00:55:00.740218Z",
     "iopub.status.idle": "2022-09-21T00:55:00.742902Z",
     "shell.execute_reply": "2022-09-21T00:55:00.743821Z"
    },
    "papermill": {
     "duration": 0.038236,
     "end_time": "2022-09-21T00:55:00.744047",
     "exception": false,
     "start_time": "2022-09-21T00:55:00.705811",
     "status": "completed"
    },
    "tags": []
   },
   "outputs": [],
   "source": [
    "#hide\n",
    "# g.head()"
   ]
  },
  {
   "cell_type": "code",
   "execution_count": 26,
   "id": "specific-kruger",
   "metadata": {
    "execution": {
     "iopub.execute_input": "2022-09-21T00:55:00.819885Z",
     "iopub.status.busy": "2022-09-21T00:55:00.819211Z",
     "iopub.status.idle": "2022-09-21T00:55:00.823524Z",
     "shell.execute_reply": "2022-09-21T00:55:00.822855Z"
    },
    "papermill": {
     "duration": 0.044024,
     "end_time": "2022-09-21T00:55:00.823642",
     "exception": false,
     "start_time": "2022-09-21T00:55:00.779618",
     "status": "completed"
    },
    "tags": []
   },
   "outputs": [],
   "source": [
    "#hide\n",
    "# g.columns = ['date','country','cases']"
   ]
  },
  {
   "cell_type": "code",
   "execution_count": 27,
   "id": "tender-conversion",
   "metadata": {
    "execution": {
     "iopub.execute_input": "2022-09-21T00:55:00.895107Z",
     "iopub.status.busy": "2022-09-21T00:55:00.894354Z",
     "iopub.status.idle": "2022-09-21T00:55:00.896469Z",
     "shell.execute_reply": "2022-09-21T00:55:00.896957Z"
    },
    "papermill": {
     "duration": 0.040358,
     "end_time": "2022-09-21T00:55:00.897093",
     "exception": false,
     "start_time": "2022-09-21T00:55:00.856735",
     "status": "completed"
    },
    "tags": []
   },
   "outputs": [],
   "source": [
    "#hide\n",
    "# g['continent'] = g.country"
   ]
  },
  {
   "cell_type": "code",
   "execution_count": 28,
   "id": "substantial-wilderness",
   "metadata": {
    "execution": {
     "iopub.execute_input": "2022-09-21T00:55:00.971609Z",
     "iopub.status.busy": "2022-09-21T00:55:00.970917Z",
     "iopub.status.idle": "2022-09-21T00:55:00.973502Z",
     "shell.execute_reply": "2022-09-21T00:55:00.972845Z"
    },
    "papermill": {
     "duration": 0.041973,
     "end_time": "2022-09-21T00:55:00.973624",
     "exception": false,
     "start_time": "2022-09-21T00:55:00.931651",
     "status": "completed"
    },
    "tags": []
   },
   "outputs": [],
   "source": [
    "#hide\n",
    "# cols = list(g.columns.values)"
   ]
  },
  {
   "cell_type": "code",
   "execution_count": 29,
   "id": "solved-farming",
   "metadata": {
    "execution": {
     "iopub.execute_input": "2022-09-21T00:55:01.045476Z",
     "iopub.status.busy": "2022-09-21T00:55:01.044787Z",
     "iopub.status.idle": "2022-09-21T00:55:01.047445Z",
     "shell.execute_reply": "2022-09-21T00:55:01.046775Z"
    },
    "papermill": {
     "duration": 0.040604,
     "end_time": "2022-09-21T00:55:01.047567",
     "exception": false,
     "start_time": "2022-09-21T00:55:01.006963",
     "status": "completed"
    },
    "tags": []
   },
   "outputs": [],
   "source": [
    "#hide\n",
    "# cols.insert(0, cols.pop())"
   ]
  },
  {
   "cell_type": "code",
   "execution_count": 30,
   "id": "executed-adoption",
   "metadata": {
    "execution": {
     "iopub.execute_input": "2022-09-21T00:55:01.122932Z",
     "iopub.status.busy": "2022-09-21T00:55:01.122168Z",
     "iopub.status.idle": "2022-09-21T00:55:01.125048Z",
     "shell.execute_reply": "2022-09-21T00:55:01.124495Z"
    },
    "papermill": {
     "duration": 0.042764,
     "end_time": "2022-09-21T00:55:01.125176",
     "exception": false,
     "start_time": "2022-09-21T00:55:01.082412",
     "status": "completed"
    },
    "tags": []
   },
   "outputs": [],
   "source": [
    "#hide\n",
    "# g = g[cols]"
   ]
  },
  {
   "cell_type": "code",
   "execution_count": 31,
   "id": "subject-dublin",
   "metadata": {
    "execution": {
     "iopub.execute_input": "2022-09-21T00:55:01.195894Z",
     "iopub.status.busy": "2022-09-21T00:55:01.195037Z",
     "iopub.status.idle": "2022-09-21T00:55:01.196878Z",
     "shell.execute_reply": "2022-09-21T00:55:01.197547Z"
    },
    "papermill": {
     "duration": 0.038802,
     "end_time": "2022-09-21T00:55:01.197713",
     "exception": false,
     "start_time": "2022-09-21T00:55:01.158911",
     "status": "completed"
    },
    "tags": []
   },
   "outputs": [],
   "source": [
    "#hide\n",
    "# g['continent'] = g['continent'].map(mapping['map.continent'])"
   ]
  },
  {
   "cell_type": "code",
   "execution_count": 32,
   "id": "freelance-scout",
   "metadata": {
    "execution": {
     "iopub.execute_input": "2022-09-21T00:55:01.273273Z",
     "iopub.status.busy": "2022-09-21T00:55:01.272057Z",
     "iopub.status.idle": "2022-09-21T00:55:01.274396Z",
     "shell.execute_reply": "2022-09-21T00:55:01.274952Z"
    },
    "papermill": {
     "duration": 0.042367,
     "end_time": "2022-09-21T00:55:01.275099",
     "exception": false,
     "start_time": "2022-09-21T00:55:01.232732",
     "status": "completed"
    },
    "tags": []
   },
   "outputs": [],
   "source": [
    "#hide\n",
    "# g.head()"
   ]
  },
  {
   "cell_type": "code",
   "execution_count": 33,
   "id": "limited-engine",
   "metadata": {
    "execution": {
     "iopub.execute_input": "2022-09-21T00:55:01.346913Z",
     "iopub.status.busy": "2022-09-21T00:55:01.346222Z",
     "iopub.status.idle": "2022-09-21T00:55:01.348974Z",
     "shell.execute_reply": "2022-09-21T00:55:01.348333Z"
    },
    "papermill": {
     "duration": 0.039958,
     "end_time": "2022-09-21T00:55:01.349090",
     "exception": false,
     "start_time": "2022-09-21T00:55:01.309132",
     "status": "completed"
    },
    "tags": []
   },
   "outputs": [],
   "source": [
    "# hide\n",
    "# g['date'] = g['date'].astype('datetime64[ns]')"
   ]
  },
  {
   "cell_type": "code",
   "execution_count": 34,
   "id": "sophisticated-supervisor",
   "metadata": {
    "execution": {
     "iopub.execute_input": "2022-09-21T00:55:01.422348Z",
     "iopub.status.busy": "2022-09-21T00:55:01.421674Z",
     "iopub.status.idle": "2022-09-21T00:55:01.425174Z",
     "shell.execute_reply": "2022-09-21T00:55:01.425830Z"
    },
    "papermill": {
     "duration": 0.043166,
     "end_time": "2022-09-21T00:55:01.425974",
     "exception": false,
     "start_time": "2022-09-21T00:55:01.382808",
     "status": "completed"
    },
    "tags": []
   },
   "outputs": [],
   "source": [
    "#hide\n",
    "# g['date'] = g.date.dt.dayofyear"
   ]
  },
  {
   "cell_type": "code",
   "execution_count": 35,
   "id": "inside-dubai",
   "metadata": {
    "execution": {
     "iopub.execute_input": "2022-09-21T00:55:01.500040Z",
     "iopub.status.busy": "2022-09-21T00:55:01.499325Z",
     "iopub.status.idle": "2022-09-21T00:55:01.502230Z",
     "shell.execute_reply": "2022-09-21T00:55:01.501666Z"
    },
    "papermill": {
     "duration": 0.042174,
     "end_time": "2022-09-21T00:55:01.502360",
     "exception": false,
     "start_time": "2022-09-21T00:55:01.460186",
     "status": "completed"
    },
    "tags": []
   },
   "outputs": [],
   "source": [
    "#hide\n",
    "# g = g.rename(columns= {'continent':'group','country':'name','cases':'value'})"
   ]
  },
  {
   "cell_type": "code",
   "execution_count": 36,
   "id": "fleet-motorcycle",
   "metadata": {
    "execution": {
     "iopub.execute_input": "2022-09-21T00:55:01.582028Z",
     "iopub.status.busy": "2022-09-21T00:55:01.581327Z",
     "iopub.status.idle": "2022-09-21T00:55:01.585094Z",
     "shell.execute_reply": "2022-09-21T00:55:01.584533Z"
    },
    "papermill": {
     "duration": 0.048246,
     "end_time": "2022-09-21T00:55:01.585222",
     "exception": false,
     "start_time": "2022-09-21T00:55:01.536976",
     "status": "completed"
    },
    "tags": []
   },
   "outputs": [],
   "source": [
    "#hide\n",
    "# cols = ['name','group','day','value']"
   ]
  },
  {
   "cell_type": "code",
   "execution_count": 37,
   "id": "continued-sleeping",
   "metadata": {
    "execution": {
     "iopub.execute_input": "2022-09-21T00:55:01.660307Z",
     "iopub.status.busy": "2022-09-21T00:55:01.659602Z",
     "iopub.status.idle": "2022-09-21T00:55:01.661435Z",
     "shell.execute_reply": "2022-09-21T00:55:01.661955Z"
    },
    "papermill": {
     "duration": 0.041964,
     "end_time": "2022-09-21T00:55:01.662099",
     "exception": false,
     "start_time": "2022-09-21T00:55:01.620135",
     "status": "completed"
    },
    "tags": []
   },
   "outputs": [],
   "source": [
    "#hide\n",
    "# g.rename(columns= {'date':'day'},inplace = True)"
   ]
  },
  {
   "cell_type": "code",
   "execution_count": 38,
   "id": "major-fight",
   "metadata": {
    "execution": {
     "iopub.execute_input": "2022-09-21T00:55:01.738163Z",
     "iopub.status.busy": "2022-09-21T00:55:01.736968Z",
     "iopub.status.idle": "2022-09-21T00:55:01.739557Z",
     "shell.execute_reply": "2022-09-21T00:55:01.740454Z"
    },
    "papermill": {
     "duration": 0.043911,
     "end_time": "2022-09-21T00:55:01.740644",
     "exception": false,
     "start_time": "2022-09-21T00:55:01.696733",
     "status": "completed"
    },
    "tags": []
   },
   "outputs": [],
   "source": [
    "#hide\n",
    "# g = g[cols]"
   ]
  },
  {
   "cell_type": "code",
   "execution_count": 39,
   "id": "structured-mobile",
   "metadata": {
    "execution": {
     "iopub.execute_input": "2022-09-21T00:55:01.816583Z",
     "iopub.status.busy": "2022-09-21T00:55:01.815350Z",
     "iopub.status.idle": "2022-09-21T00:55:01.817884Z",
     "shell.execute_reply": "2022-09-21T00:55:01.818834Z"
    },
    "papermill": {
     "duration": 0.043845,
     "end_time": "2022-09-21T00:55:01.819078",
     "exception": false,
     "start_time": "2022-09-21T00:55:01.775233",
     "status": "completed"
    },
    "tags": []
   },
   "outputs": [],
   "source": [
    "# #hide\n",
    "# g = g[g.group.notna()]"
   ]
  },
  {
   "cell_type": "code",
   "execution_count": 40,
   "id": "determined-closing",
   "metadata": {
    "execution": {
     "iopub.execute_input": "2022-09-21T00:55:01.893355Z",
     "iopub.status.busy": "2022-09-21T00:55:01.892677Z",
     "iopub.status.idle": "2022-09-21T00:55:01.896792Z",
     "shell.execute_reply": "2022-09-21T00:55:01.897287Z"
    },
    "papermill": {
     "duration": 0.043035,
     "end_time": "2022-09-21T00:55:01.897439",
     "exception": false,
     "start_time": "2022-09-21T00:55:01.854404",
     "status": "completed"
    },
    "tags": []
   },
   "outputs": [],
   "source": [
    "# #hide\n",
    "# colors = dict(zip(\n",
    "#     [\"Oceania\", \"Europe\", \"Asia\", \"South America\", \"Middle East\", \"North America\", \"Africa\"],\n",
    "#     [\"#adb0ff\", \"#ffb3ff\", \"#90d595\", \"#e48381\", \"#aafbff\", \"#f7bb5f\", \"#eafb50\"]\n",
    "# ))\n",
    "# group_lk = g.set_index('name')['group'].to_dict()"
   ]
  },
  {
   "cell_type": "code",
   "execution_count": null,
   "id": "gross-drinking",
   "metadata": {
    "papermill": {
     "duration": 0.03432,
     "end_time": "2022-09-21T00:55:01.965659",
     "exception": false,
     "start_time": "2022-09-21T00:55:01.931339",
     "status": "completed"
    },
    "tags": []
   },
   "outputs": [],
   "source": []
  },
  {
   "cell_type": "code",
   "execution_count": 41,
   "id": "subject-macintosh",
   "metadata": {
    "execution": {
     "iopub.execute_input": "2022-09-21T00:55:02.040749Z",
     "iopub.status.busy": "2022-09-21T00:55:02.040035Z",
     "iopub.status.idle": "2022-09-21T00:55:02.042785Z",
     "shell.execute_reply": "2022-09-21T00:55:02.042201Z"
    },
    "papermill": {
     "duration": 0.042586,
     "end_time": "2022-09-21T00:55:02.042915",
     "exception": false,
     "start_time": "2022-09-21T00:55:02.000329",
     "status": "completed"
    },
    "tags": []
   },
   "outputs": [],
   "source": [
    "# #hide\n",
    "# fig, ax = plt.subplots(figsize=(15, 8))\n",
    "\n",
    "# def draw_barchart(current_day):\n",
    "#     dff = g[g['day'].eq(current_day)].sort_values(by='value', ascending=True).tail(10)\n",
    "#     ax.clear()\n",
    "#     ax.barh(dff['name'], dff['value'], color=[colors[group_lk[x]] for x in dff['name']])\n",
    "#     dx = dff['value'].max() / 200\n",
    "    \n",
    "#     for i, (value, name) in enumerate(zip(dff['value'], dff['name'])):\n",
    "#         ax.text(value-dx, i,     name,           size=14, weight=600, ha='right', va='bottom')\n",
    "#         ax.text(value-dx, i-.25, group_lk[name], size=10, color='#444444', ha='right', va='baseline')\n",
    "#         ax.text(value+dx, i,     f'{value:,.0f}',  size=14, ha='left',  va='center')\n",
    "#     ax.text(1, 0.4, current_day, transform=ax.transAxes, color='#777777', size=46, ha='right', weight=800)\n",
    "#     ax.text(0, 1.06, 'Population (thousands)', transform=ax.transAxes, size=12, color='#777777')\n",
    "#     ax.xaxis.set_major_formatter(ticker.StrMethodFormatter('{x:,.0f}'))\n",
    "#     ax.xaxis.set_ticks_position('top')\n",
    "#     ax.tick_params(axis='x', colors='#777777', labelsize=12)\n",
    "#     ax.set_yticks([])\n",
    "#     ax.margins(0, 0.01)\n",
    "#     ax.grid(which='major', axis='x', linestyle='-')\n",
    "#     ax.set_axisbelow(True)\n",
    "    \n",
    "#     ax.text(0, 1.15, 'Coronavirus',\n",
    "#             transform=ax.transAxes, size=24, weight=600, ha='left', va='top')\n",
    "# #     ax.text(1, 0, 'by @pratapvardhan; credit @jburnmurdoch', transform=ax.transAxes, color='#777777', ha='right',\n",
    "# #             bbox=dict(facecolor='white', alpha=0.8, edgecolor='white'))\n",
    "#     plt.box(False)"
   ]
  },
  {
   "cell_type": "code",
   "execution_count": 42,
   "id": "sexual-wages",
   "metadata": {
    "execution": {
     "iopub.execute_input": "2022-09-21T00:55:02.117646Z",
     "iopub.status.busy": "2022-09-21T00:55:02.116650Z",
     "iopub.status.idle": "2022-09-21T00:55:02.121107Z",
     "shell.execute_reply": "2022-09-21T00:55:02.121608Z"
    },
    "papermill": {
     "duration": 0.043662,
     "end_time": "2022-09-21T00:55:02.121757",
     "exception": false,
     "start_time": "2022-09-21T00:55:02.078095",
     "status": "completed"
    },
    "tags": []
   },
   "outputs": [],
   "source": [
    "# #hide_input\n",
    "# fig, ax = plt.subplots(figsize=(15, 8))\n",
    "# animator = animation.FuncAnimation(fig, draw_barchart, frames=range(g.day.values.min(), g.day.values.max()))\n",
    "# HTML(animator.to_jshtml())\n",
    "# # or use animator.to_html5_video() or animator.save() "
   ]
  },
  {
   "cell_type": "code",
   "execution_count": null,
   "id": "australian-container",
   "metadata": {
    "papermill": {
     "duration": 0.034963,
     "end_time": "2022-09-21T00:55:02.191758",
     "exception": false,
     "start_time": "2022-09-21T00:55:02.156795",
     "status": "completed"
    },
    "tags": []
   },
   "outputs": [],
   "source": []
  },
  {
   "cell_type": "code",
   "execution_count": null,
   "id": "mediterranean-pontiac",
   "metadata": {
    "papermill": {
     "duration": 0.033672,
     "end_time": "2022-09-21T00:55:02.260337",
     "exception": false,
     "start_time": "2022-09-21T00:55:02.226665",
     "status": "completed"
    },
    "tags": []
   },
   "outputs": [],
   "source": []
  },
  {
   "cell_type": "code",
   "execution_count": null,
   "id": "aging-legislature",
   "metadata": {
    "papermill": {
     "duration": 0.033319,
     "end_time": "2022-09-21T00:55:02.327047",
     "exception": false,
     "start_time": "2022-09-21T00:55:02.293728",
     "status": "completed"
    },
    "tags": []
   },
   "outputs": [],
   "source": []
  }
 ],
 "metadata": {
  "kernelspec": {
   "display_name": "Python 3",
   "language": "python",
   "name": "python3"
  },
  "language_info": {
   "codemirror_mode": {
    "name": "ipython",
    "version": 3
   },
   "file_extension": ".py",
   "mimetype": "text/x-python",
   "name": "python",
   "nbconvert_exporter": "python",
   "pygments_lexer": "ipython3",
   "version": "3.6.15"
  },
  "papermill": {
   "duration": 6.584954,
   "end_time": "2022-09-21T00:55:02.782434",
   "environment_variables": {},
   "exception": null,
   "input_path": "2020-03-21-covid19exp.ipynb",
   "output_path": "2020-03-21-covid19exp.ipynb",
   "parameters": {},
   "start_time": "2022-09-21T00:54:56.197480",
   "version": "2.0.0"
  }
 },
 "nbformat": 4,
 "nbformat_minor": 5
}