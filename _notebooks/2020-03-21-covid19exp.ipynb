{
 "cells": [
  {
   "cell_type": "markdown",
   "id": "muslim-click",
   "metadata": {
    "papermill": {
     "duration": 0.048525,
     "end_time": "2022-07-20T00:41:43.376671",
     "exception": false,
     "start_time": "2022-07-20T00:41:43.328146",
     "status": "completed"
    },
    "tags": []
   },
   "source": [
    "# COVID-19 Case Race\n",
    "> A race chart to see rising cases around the world\n",
    "\n",
    "- author: Hargun Oberoi\n",
    "- image: images/covid-overview.png\n",
    "- hide: false\n",
    "- badges: false"
   ]
  },
  {
   "cell_type": "code",
   "execution_count": 1,
   "id": "proof-material",
   "metadata": {
    "execution": {
     "iopub.execute_input": "2022-07-20T00:41:43.477538Z",
     "iopub.status.busy": "2022-07-20T00:41:43.476105Z",
     "iopub.status.idle": "2022-07-20T00:41:43.937822Z",
     "shell.execute_reply": "2022-07-20T00:41:43.937135Z"
    },
    "papermill": {
     "duration": 0.519393,
     "end_time": "2022-07-20T00:41:43.938133",
     "exception": false,
     "start_time": "2022-07-20T00:41:43.418740",
     "status": "completed"
    },
    "tags": []
   },
   "outputs": [],
   "source": [
    "#hide\n",
    "import numpy as np\n",
    "import pandas as pd\n",
    "from jinja2 import Template\n",
    "from IPython.display import HTML"
   ]
  },
  {
   "cell_type": "code",
   "execution_count": 2,
   "id": "developed-terminology",
   "metadata": {
    "execution": {
     "iopub.execute_input": "2022-07-20T00:41:44.026407Z",
     "iopub.status.busy": "2022-07-20T00:41:44.025545Z",
     "iopub.status.idle": "2022-07-20T00:41:44.028981Z",
     "shell.execute_reply": "2022-07-20T00:41:44.028174Z"
    },
    "papermill": {
     "duration": 0.051723,
     "end_time": "2022-07-20T00:41:44.029269",
     "exception": false,
     "start_time": "2022-07-20T00:41:43.977546",
     "status": "completed"
    },
    "tags": []
   },
   "outputs": [],
   "source": [
    "#hide\n",
    "\n",
    "# FETCH\n",
    "base_url = 'https://raw.githubusercontent.com/pratapvardhan/notebooks/master/covid19/'\n",
    "paths = {\n",
    "    'mapping': base_url + 'mapping_countries.csv',\n",
    "    'overview': base_url + 'overview.tpl'\n",
    "}"
   ]
  },
  {
   "cell_type": "code",
   "execution_count": 3,
   "id": "dynamic-saver",
   "metadata": {
    "execution": {
     "iopub.execute_input": "2022-07-20T00:41:44.126445Z",
     "iopub.status.busy": "2022-07-20T00:41:44.125601Z",
     "iopub.status.idle": "2022-07-20T00:41:44.130132Z",
     "shell.execute_reply": "2022-07-20T00:41:44.129473Z"
    },
    "papermill": {
     "duration": 0.061043,
     "end_time": "2022-07-20T00:41:44.130401",
     "exception": false,
     "start_time": "2022-07-20T00:41:44.069358",
     "status": "completed"
    },
    "tags": []
   },
   "outputs": [
    {
     "data": {
      "text/plain": [
       "'https://raw.githubusercontent.com/pratapvardhan/notebooks/master/covid19/mapping_countries.csv'"
      ]
     },
     "execution_count": 3,
     "metadata": {},
     "output_type": "execute_result"
    }
   ],
   "source": [
    "#hide\n",
    "paths['mapping']"
   ]
  },
  {
   "cell_type": "code",
   "execution_count": 4,
   "id": "urban-software",
   "metadata": {
    "execution": {
     "iopub.execute_input": "2022-07-20T00:41:44.219684Z",
     "iopub.status.busy": "2022-07-20T00:41:44.218802Z",
     "iopub.status.idle": "2022-07-20T00:41:44.223600Z",
     "shell.execute_reply": "2022-07-20T00:41:44.222752Z"
    },
    "papermill": {
     "duration": 0.051421,
     "end_time": "2022-07-20T00:41:44.223759",
     "exception": false,
     "start_time": "2022-07-20T00:41:44.172338",
     "status": "completed"
    },
    "tags": []
   },
   "outputs": [],
   "source": [
    "#hide\n",
    "def get_mappings(url):\n",
    "    df = pd.read_csv(url)\n",
    "    return {\n",
    "        'df': df,\n",
    "        'replace.country': dict(df.dropna(subset=['Name']).set_index('Country')['Name']),\n",
    "        'map.continent': dict(df.set_index('Name')['Continent'])\n",
    "    }"
   ]
  },
  {
   "cell_type": "code",
   "execution_count": 5,
   "id": "intimate-machinery",
   "metadata": {
    "execution": {
     "iopub.execute_input": "2022-07-20T00:41:44.315314Z",
     "iopub.status.busy": "2022-07-20T00:41:44.314505Z",
     "iopub.status.idle": "2022-07-20T00:41:44.386466Z",
     "shell.execute_reply": "2022-07-20T00:41:44.387949Z"
    },
    "papermill": {
     "duration": 0.122059,
     "end_time": "2022-07-20T00:41:44.388173",
     "exception": false,
     "start_time": "2022-07-20T00:41:44.266114",
     "status": "completed"
    },
    "tags": []
   },
   "outputs": [],
   "source": [
    "#hide\n",
    "mapping = get_mappings(paths['mapping'])"
   ]
  },
  {
   "cell_type": "code",
   "execution_count": 6,
   "id": "certified-tactics",
   "metadata": {
    "execution": {
     "iopub.execute_input": "2022-07-20T00:41:44.478807Z",
     "iopub.status.busy": "2022-07-20T00:41:44.477963Z",
     "iopub.status.idle": "2022-07-20T00:41:44.481449Z",
     "shell.execute_reply": "2022-07-20T00:41:44.480667Z"
    },
    "papermill": {
     "duration": 0.052317,
     "end_time": "2022-07-20T00:41:44.481616",
     "exception": false,
     "start_time": "2022-07-20T00:41:44.429299",
     "status": "completed"
    },
    "tags": []
   },
   "outputs": [],
   "source": [
    "#hide\n",
    "def get_template(path):\n",
    "    from urllib.parse import urlparse\n",
    "    if bool(urlparse(path).netloc):\n",
    "        from urllib.request import urlopen\n",
    "        return urlopen(path).read().decode('utf8')\n",
    "    return open(path).read()"
   ]
  },
  {
   "cell_type": "code",
   "execution_count": 7,
   "id": "realistic-blast",
   "metadata": {
    "execution": {
     "iopub.execute_input": "2022-07-20T00:41:44.572261Z",
     "iopub.status.busy": "2022-07-20T00:41:44.571405Z",
     "iopub.status.idle": "2022-07-20T00:41:44.575239Z",
     "shell.execute_reply": "2022-07-20T00:41:44.574573Z"
    },
    "papermill": {
     "duration": 0.051715,
     "end_time": "2022-07-20T00:41:44.575405",
     "exception": false,
     "start_time": "2022-07-20T00:41:44.523690",
     "status": "completed"
    },
    "tags": []
   },
   "outputs": [],
   "source": [
    "#hide\n",
    "def get_frame(name):\n",
    "    url = (\n",
    "        'https://raw.githubusercontent.com/CSSEGISandData/COVID-19/master/csse_covid_19_data/'\n",
    "        f'csse_covid_19_time_series/time_series_covid19_{name}_global.csv')\n",
    "    df = pd.read_csv(url)\n",
    "    # rename countries\n",
    "    df['Country/Region'] = df['Country/Region'].replace(mapping['replace.country'])\n",
    "    return df"
   ]
  },
  {
   "cell_type": "code",
   "execution_count": 8,
   "id": "affiliated-characterization",
   "metadata": {
    "execution": {
     "iopub.execute_input": "2022-07-20T00:41:44.665928Z",
     "iopub.status.busy": "2022-07-20T00:41:44.665095Z",
     "iopub.status.idle": "2022-07-20T00:41:44.671119Z",
     "shell.execute_reply": "2022-07-20T00:41:44.671747Z"
    },
    "papermill": {
     "duration": 0.05636,
     "end_time": "2022-07-20T00:41:44.671936",
     "exception": false,
     "start_time": "2022-07-20T00:41:44.615576",
     "status": "completed"
    },
    "tags": []
   },
   "outputs": [],
   "source": [
    "#hide\n",
    "def get_dates(df):\n",
    "    dt_cols = df.columns[~df.columns.isin(['Province/State', 'Country/Region', 'Lat', 'Long'])]\n",
    "    LAST_DATE_I = -1\n",
    "    # sometimes last column may be empty, then go backwards\n",
    "    for i in range(-1, -len(dt_cols), -1):\n",
    "        if not df[dt_cols[i]].fillna(0).eq(0).all():\n",
    "            LAST_DATE_I = i\n",
    "            break\n",
    "    return LAST_DATE_I, dt_cols"
   ]
  },
  {
   "cell_type": "code",
   "execution_count": 9,
   "id": "recent-optimization",
   "metadata": {
    "execution": {
     "iopub.execute_input": "2022-07-20T00:41:44.761832Z",
     "iopub.status.busy": "2022-07-20T00:41:44.760987Z",
     "iopub.status.idle": "2022-07-20T00:41:45.419802Z",
     "shell.execute_reply": "2022-07-20T00:41:45.419125Z"
    },
    "papermill": {
     "duration": 0.706329,
     "end_time": "2022-07-20T00:41:45.419975",
     "exception": false,
     "start_time": "2022-07-20T00:41:44.713646",
     "status": "completed"
    },
    "tags": []
   },
   "outputs": [],
   "source": [
    "#hide\n",
    "COL_REGION = 'Country/Region'\n",
    "# Confirmed, Recovered, Deaths\n",
    "df = get_frame('confirmed')\n",
    "# dft_: timeseries, dfc_: today country agg\n",
    "dft_cases = df\n",
    "dft_deaths = get_frame('deaths')\n",
    "dft_recovered = get_frame('recovered')\n",
    "LAST_DATE_I, dt_cols = get_dates(df)"
   ]
  },
  {
   "cell_type": "code",
   "execution_count": 10,
   "id": "absolute-copper",
   "metadata": {
    "execution": {
     "iopub.execute_input": "2022-07-20T00:41:45.510979Z",
     "iopub.status.busy": "2022-07-20T00:41:45.510153Z",
     "iopub.status.idle": "2022-07-20T00:41:45.515540Z",
     "shell.execute_reply": "2022-07-20T00:41:45.514837Z"
    },
    "papermill": {
     "duration": 0.053963,
     "end_time": "2022-07-20T00:41:45.515729",
     "exception": false,
     "start_time": "2022-07-20T00:41:45.461766",
     "status": "completed"
    },
    "tags": []
   },
   "outputs": [],
   "source": [
    "#hide\n",
    "LAST_DATE_I, dt_cols = get_dates(df)\n",
    "dt_today =dt_cols[LAST_DATE_I]\n",
    "# dt_5day = dt_cols[LAST_DATE_I - 5]\n",
    "dt_yday = dt_cols[LAST_DATE_I - 1]"
   ]
  },
  {
   "cell_type": "code",
   "execution_count": 11,
   "id": "restricted-sheriff",
   "metadata": {
    "execution": {
     "iopub.execute_input": "2022-07-20T00:41:45.608338Z",
     "iopub.status.busy": "2022-07-20T00:41:45.606384Z",
     "iopub.status.idle": "2022-07-20T00:41:45.615721Z",
     "shell.execute_reply": "2022-07-20T00:41:45.614723Z"
    },
    "papermill": {
     "duration": 0.060291,
     "end_time": "2022-07-20T00:41:45.615890",
     "exception": false,
     "start_time": "2022-07-20T00:41:45.555599",
     "status": "completed"
    },
    "tags": []
   },
   "outputs": [],
   "source": [
    "#hide\n",
    "dfc_cases = dft_cases.groupby(COL_REGION)[dt_today].sum()\n",
    "dfc_deaths = dft_deaths.groupby(COL_REGION)[dt_today].sum()\n",
    "# dfp_cases = dft_cases.groupby(COL_REGION)[dt_5day].sum()\n",
    "# dfp_deaths = dft_deaths.groupby(COL_REGION)[dt_5day].sum()\n",
    "dfp_cases = dft_cases.groupby(COL_REGION)[dt_yday].sum()\n",
    "dfp_deaths = dft_deaths.groupby(COL_REGION)[dt_yday].sum()"
   ]
  },
  {
   "cell_type": "code",
   "execution_count": 12,
   "id": "deluxe-hepatitis",
   "metadata": {
    "execution": {
     "iopub.execute_input": "2022-07-20T00:41:45.704791Z",
     "iopub.status.busy": "2022-07-20T00:41:45.703955Z",
     "iopub.status.idle": "2022-07-20T00:41:45.710141Z",
     "shell.execute_reply": "2022-07-20T00:41:45.711001Z"
    },
    "papermill": {
     "duration": 0.055156,
     "end_time": "2022-07-20T00:41:45.711206",
     "exception": false,
     "start_time": "2022-07-20T00:41:45.656050",
     "status": "completed"
    },
    "tags": []
   },
   "outputs": [],
   "source": [
    "#hide\n",
    "df_table = (pd.DataFrame(dict(Cases = dfc_cases, Deaths = dfc_deaths, PCases = dfp_cases, PDeaths = dfp_deaths))\n",
    "            .sort_values(by = ['Cases','Deaths'], ascending = [False, False])\n",
    "            .reset_index())"
   ]
  },
  {
   "cell_type": "code",
   "execution_count": 13,
   "id": "educational-chancellor",
   "metadata": {
    "execution": {
     "iopub.execute_input": "2022-07-20T00:41:45.823047Z",
     "iopub.status.busy": "2022-07-20T00:41:45.822146Z",
     "iopub.status.idle": "2022-07-20T00:41:45.832800Z",
     "shell.execute_reply": "2022-07-20T00:41:45.833620Z"
    },
    "papermill": {
     "duration": 0.079893,
     "end_time": "2022-07-20T00:41:45.833813",
     "exception": false,
     "start_time": "2022-07-20T00:41:45.753920",
     "status": "completed"
    },
    "tags": []
   },
   "outputs": [
    {
     "data": {
      "text/html": [
       "<div>\n",
       "<style scoped>\n",
       "    .dataframe tbody tr th:only-of-type {\n",
       "        vertical-align: middle;\n",
       "    }\n",
       "\n",
       "    .dataframe tbody tr th {\n",
       "        vertical-align: top;\n",
       "    }\n",
       "\n",
       "    .dataframe thead th {\n",
       "        text-align: right;\n",
       "    }\n",
       "</style>\n",
       "<table border=\"1\" class=\"dataframe\">\n",
       "  <thead>\n",
       "    <tr style=\"text-align: right;\">\n",
       "      <th></th>\n",
       "      <th>Country/Region</th>\n",
       "      <th>Cases</th>\n",
       "      <th>Deaths</th>\n",
       "      <th>PCases</th>\n",
       "      <th>PDeaths</th>\n",
       "      <th>Cases (+)</th>\n",
       "      <th>Deaths (+)</th>\n",
       "      <th>Fatality Rate</th>\n",
       "      <th>Continent</th>\n",
       "    </tr>\n",
       "  </thead>\n",
       "  <tbody>\n",
       "    <tr>\n",
       "      <th>0</th>\n",
       "      <td>US</td>\n",
       "      <td>89677127</td>\n",
       "      <td>1024266</td>\n",
       "      <td>89547884</td>\n",
       "      <td>1023829</td>\n",
       "      <td>129243</td>\n",
       "      <td>437</td>\n",
       "      <td>1.14</td>\n",
       "      <td>North America</td>\n",
       "    </tr>\n",
       "    <tr>\n",
       "      <th>1</th>\n",
       "      <td>India</td>\n",
       "      <td>43783062</td>\n",
       "      <td>525785</td>\n",
       "      <td>43767534</td>\n",
       "      <td>525760</td>\n",
       "      <td>15528</td>\n",
       "      <td>25</td>\n",
       "      <td>1.20</td>\n",
       "      <td>Asia</td>\n",
       "    </tr>\n",
       "    <tr>\n",
       "      <th>2</th>\n",
       "      <td>Brazil</td>\n",
       "      <td>33339815</td>\n",
       "      <td>675518</td>\n",
       "      <td>33301118</td>\n",
       "      <td>675350</td>\n",
       "      <td>38697</td>\n",
       "      <td>168</td>\n",
       "      <td>2.03</td>\n",
       "      <td>South America</td>\n",
       "    </tr>\n",
       "    <tr>\n",
       "      <th>3</th>\n",
       "      <td>France</td>\n",
       "      <td>33239622</td>\n",
       "      <td>151875</td>\n",
       "      <td>32881809</td>\n",
       "      <td>151454</td>\n",
       "      <td>357813</td>\n",
       "      <td>421</td>\n",
       "      <td>0.46</td>\n",
       "      <td>Europe</td>\n",
       "    </tr>\n",
       "    <tr>\n",
       "      <th>4</th>\n",
       "      <td>Germany</td>\n",
       "      <td>29853680</td>\n",
       "      <td>142635</td>\n",
       "      <td>29692989</td>\n",
       "      <td>142533</td>\n",
       "      <td>160691</td>\n",
       "      <td>102</td>\n",
       "      <td>0.48</td>\n",
       "      <td>Europe</td>\n",
       "    </tr>\n",
       "  </tbody>\n",
       "</table>\n",
       "</div>"
      ],
      "text/plain": [
       "  Country/Region     Cases   Deaths    PCases  PDeaths  Cases (+)  Deaths (+)  \\\n",
       "0             US  89677127  1024266  89547884  1023829     129243         437   \n",
       "1          India  43783062   525785  43767534   525760      15528          25   \n",
       "2         Brazil  33339815   675518  33301118   675350      38697         168   \n",
       "3         France  33239622   151875  32881809   151454     357813         421   \n",
       "4        Germany  29853680   142635  29692989   142533     160691         102   \n",
       "\n",
       "   Fatality Rate      Continent  \n",
       "0           1.14  North America  \n",
       "1           1.20           Asia  \n",
       "2           2.03  South America  \n",
       "3           0.46         Europe  \n",
       "4           0.48         Europe  "
      ]
     },
     "execution_count": 13,
     "metadata": {},
     "output_type": "execute_result"
    }
   ],
   "source": [
    "#hide\n",
    "for c in 'Cases, Deaths'.split(', '):\n",
    "    df_table[f'{c} (+)'] = (df_table[c] - df_table[f'P{c}']).clip(0)\n",
    "    #Clip ça veut dire, les chiffres negatif sont interdit\n",
    "df_table['Fatality Rate'] = (100* df_table['Deaths']/ df_table['Cases']).round(2)\n",
    "df_table['Continent'] = df_table['Country/Region'].map(mapping['map.continent'])\n",
    "df_table.head(5)"
   ]
  },
  {
   "cell_type": "code",
   "execution_count": 14,
   "id": "aboriginal-bulgaria",
   "metadata": {
    "execution": {
     "iopub.execute_input": "2022-07-20T00:41:45.923631Z",
     "iopub.status.busy": "2022-07-20T00:41:45.922668Z",
     "iopub.status.idle": "2022-07-20T00:41:45.929676Z",
     "shell.execute_reply": "2022-07-20T00:41:45.930296Z"
    },
    "papermill": {
     "duration": 0.054391,
     "end_time": "2022-07-20T00:41:45.930478",
     "exception": false,
     "start_time": "2022-07-20T00:41:45.876087",
     "status": "completed"
    },
    "tags": []
   },
   "outputs": [],
   "source": [
    "#hide\n",
    "#delete problematic countries from table\n",
    "df_table = df_table[~df_table['Country/Region'].isin(['Cape Verde', 'Cruise Ship', 'Kosovo'])]"
   ]
  },
  {
   "cell_type": "code",
   "execution_count": 15,
   "id": "fantastic-effect",
   "metadata": {
    "execution": {
     "iopub.execute_input": "2022-07-20T00:41:46.023453Z",
     "iopub.status.busy": "2022-07-20T00:41:46.022542Z",
     "iopub.status.idle": "2022-07-20T00:41:46.047459Z",
     "shell.execute_reply": "2022-07-20T00:41:46.046732Z"
    },
    "papermill": {
     "duration": 0.076913,
     "end_time": "2022-07-20T00:41:46.047639",
     "exception": false,
     "start_time": "2022-07-20T00:41:45.970726",
     "status": "completed"
    },
    "tags": []
   },
   "outputs": [
    {
     "data": {
      "text/html": [
       "<div>\n",
       "<style scoped>\n",
       "    .dataframe tbody tr th:only-of-type {\n",
       "        vertical-align: middle;\n",
       "    }\n",
       "\n",
       "    .dataframe tbody tr th {\n",
       "        vertical-align: top;\n",
       "    }\n",
       "\n",
       "    .dataframe thead th {\n",
       "        text-align: right;\n",
       "    }\n",
       "</style>\n",
       "<table border=\"1\" class=\"dataframe\">\n",
       "  <thead>\n",
       "    <tr style=\"text-align: right;\">\n",
       "      <th></th>\n",
       "      <th>Country/Region</th>\n",
       "      <th>Cases</th>\n",
       "      <th>Deaths</th>\n",
       "      <th>PCases</th>\n",
       "      <th>PDeaths</th>\n",
       "      <th>Cases (+)</th>\n",
       "      <th>Deaths (+)</th>\n",
       "      <th>Fatality Rate</th>\n",
       "      <th>Continent</th>\n",
       "    </tr>\n",
       "  </thead>\n",
       "  <tbody>\n",
       "    <tr>\n",
       "      <th>0</th>\n",
       "      <td>US</td>\n",
       "      <td>89677127</td>\n",
       "      <td>1024266</td>\n",
       "      <td>89547884</td>\n",
       "      <td>1023829</td>\n",
       "      <td>129243</td>\n",
       "      <td>437</td>\n",
       "      <td>1.1</td>\n",
       "      <td>North America</td>\n",
       "    </tr>\n",
       "    <tr>\n",
       "      <th>1</th>\n",
       "      <td>India</td>\n",
       "      <td>43783062</td>\n",
       "      <td>525785</td>\n",
       "      <td>43767534</td>\n",
       "      <td>525760</td>\n",
       "      <td>15528</td>\n",
       "      <td>25</td>\n",
       "      <td>1.2</td>\n",
       "      <td>Asia</td>\n",
       "    </tr>\n",
       "    <tr>\n",
       "      <th>2</th>\n",
       "      <td>Brazil</td>\n",
       "      <td>33339815</td>\n",
       "      <td>675518</td>\n",
       "      <td>33301118</td>\n",
       "      <td>675350</td>\n",
       "      <td>38697</td>\n",
       "      <td>168</td>\n",
       "      <td>2.0</td>\n",
       "      <td>South America</td>\n",
       "    </tr>\n",
       "    <tr>\n",
       "      <th>3</th>\n",
       "      <td>France</td>\n",
       "      <td>33239622</td>\n",
       "      <td>151875</td>\n",
       "      <td>32881809</td>\n",
       "      <td>151454</td>\n",
       "      <td>357813</td>\n",
       "      <td>421</td>\n",
       "      <td>0.5</td>\n",
       "      <td>Europe</td>\n",
       "    </tr>\n",
       "    <tr>\n",
       "      <th>4</th>\n",
       "      <td>Germany</td>\n",
       "      <td>29853680</td>\n",
       "      <td>142635</td>\n",
       "      <td>29692989</td>\n",
       "      <td>142533</td>\n",
       "      <td>160691</td>\n",
       "      <td>102</td>\n",
       "      <td>0.5</td>\n",
       "      <td>Europe</td>\n",
       "    </tr>\n",
       "  </tbody>\n",
       "</table>\n",
       "</div>"
      ],
      "text/plain": [
       "  Country/Region     Cases   Deaths    PCases  PDeaths  Cases (+)  Deaths (+)  \\\n",
       "0             US  89677127  1024266  89547884  1023829     129243         437   \n",
       "1          India  43783062   525785  43767534   525760      15528          25   \n",
       "2         Brazil  33339815   675518  33301118   675350      38697         168   \n",
       "3         France  33239622   151875  32881809   151454     357813         421   \n",
       "4        Germany  29853680   142635  29692989   142533     160691         102   \n",
       "\n",
       "   Fatality Rate      Continent  \n",
       "0            1.1  North America  \n",
       "1            1.2           Asia  \n",
       "2            2.0  South America  \n",
       "3            0.5         Europe  \n",
       "4            0.5         Europe  "
      ]
     },
     "execution_count": 15,
     "metadata": {},
     "output_type": "execute_result"
    }
   ],
   "source": [
    "#hide\n",
    "df_table = (pd.DataFrame(dict(Cases=dfc_cases, Deaths=dfc_deaths, PCases=dfp_cases, PDeaths=dfp_deaths))\n",
    "             .sort_values(by=['Cases', 'Deaths'], ascending=[False, False])\n",
    "             .reset_index())\n",
    "df_table.rename(columns={'index': 'Country/Region'}, inplace=True)\n",
    "for c in 'Cases, Deaths'.split(', '):\n",
    "    df_table[f'{c} (+)'] = (df_table[c] - df_table[f'P{c}']).clip(0)  # DATA BUG\n",
    "df_table['Fatality Rate'] = (100 * df_table['Deaths'] / df_table['Cases']).round(1)\n",
    "df_table['Continent'] = df_table['Country/Region'].map(mapping['map.continent'])\n",
    "df_table.head(5)"
   ]
  },
  {
   "cell_type": "code",
   "execution_count": 16,
   "id": "fewer-occasion",
   "metadata": {
    "execution": {
     "iopub.execute_input": "2022-07-20T00:41:46.141284Z",
     "iopub.status.busy": "2022-07-20T00:41:46.140429Z",
     "iopub.status.idle": "2022-07-20T00:41:46.143665Z",
     "shell.execute_reply": "2022-07-20T00:41:46.144365Z"
    },
    "papermill": {
     "duration": 0.053402,
     "end_time": "2022-07-20T00:41:46.144550",
     "exception": false,
     "start_time": "2022-07-20T00:41:46.091148",
     "status": "completed"
    },
    "tags": []
   },
   "outputs": [],
   "source": [
    "#hide\n",
    "#delete problematic countries from table\n",
    "df_table = df_table[~df_table['Country/Region'].isin(['Cape Verde', 'Cruise Ship', 'Kosovo'])]"
   ]
  },
  {
   "cell_type": "code",
   "execution_count": 17,
   "id": "related-center",
   "metadata": {
    "execution": {
     "iopub.execute_input": "2022-07-20T00:41:46.255161Z",
     "iopub.status.busy": "2022-07-20T00:41:46.254264Z",
     "iopub.status.idle": "2022-07-20T00:41:46.258046Z",
     "shell.execute_reply": "2022-07-20T00:41:46.257384Z"
    },
    "papermill": {
     "duration": 0.070321,
     "end_time": "2022-07-20T00:41:46.258209",
     "exception": false,
     "start_time": "2022-07-20T00:41:46.187888",
     "status": "completed"
    },
    "tags": []
   },
   "outputs": [],
   "source": [
    "#hide\n",
    "metrics = [df_table.columns[index] for index in [1,2,5,6]]\n",
    "# s_china = df_table[df_table['Country/Region'].eq('China')][metrics].sum().add_prefix('China ')\n",
    "s_us = df_table[df_table['Country/Region'].eq('US')][metrics].sum().add_prefix('US ')\n",
    "s_eu = df_table[df_table['Continent'].eq('Europe')][metrics].sum().add_prefix('EU ')\n",
    "s_ind = df_table[df_table['Country/Region'].eq('India')][metrics].sum().add_prefix('India ')\n",
    "summary = {'updated': pd.to_datetime(dt_today), 'since': pd.to_datetime(dt_yday)}\n",
    "summary = {'updated': pd.to_datetime(dt_today), 'since': pd.to_datetime(dt_yday)}\n",
    "summary = {**summary, **df_table[metrics].sum(), **s_ind, **s_us, **s_eu}"
   ]
  },
  {
   "cell_type": "code",
   "execution_count": 18,
   "id": "engaging-syndrome",
   "metadata": {
    "execution": {
     "iopub.execute_input": "2022-07-20T00:41:46.355007Z",
     "iopub.status.busy": "2022-07-20T00:41:46.354124Z",
     "iopub.status.idle": "2022-07-20T00:41:46.378061Z",
     "shell.execute_reply": "2022-07-20T00:41:46.378709Z"
    },
    "papermill": {
     "duration": 0.076494,
     "end_time": "2022-07-20T00:41:46.378909",
     "exception": false,
     "start_time": "2022-07-20T00:41:46.302415",
     "status": "completed"
    },
    "tags": []
   },
   "outputs": [],
   "source": [
    "#hide\n",
    "dft_ct_new_cases = dft_cases.groupby(COL_REGION)[dt_cols].sum().diff(axis=1).fillna(0).astype(int)"
   ]
  },
  {
   "cell_type": "code",
   "execution_count": 19,
   "id": "neutral-assignment",
   "metadata": {
    "execution": {
     "iopub.execute_input": "2022-07-20T00:41:46.476981Z",
     "iopub.status.busy": "2022-07-20T00:41:46.476151Z",
     "iopub.status.idle": "2022-07-20T00:41:46.479299Z",
     "shell.execute_reply": "2022-07-20T00:41:46.479926Z"
    },
    "papermill": {
     "duration": 0.057023,
     "end_time": "2022-07-20T00:41:46.480115",
     "exception": false,
     "start_time": "2022-07-20T00:41:46.423092",
     "status": "completed"
    },
    "tags": []
   },
   "outputs": [],
   "source": [
    "#hide\n",
    "everydaycases = dft_ct_new_cases.cumsum(axis=1)"
   ]
  },
  {
   "cell_type": "code",
   "execution_count": 20,
   "id": "parliamentary-calgary",
   "metadata": {
    "execution": {
     "iopub.execute_input": "2022-07-20T00:41:46.576491Z",
     "iopub.status.busy": "2022-07-20T00:41:46.571637Z",
     "iopub.status.idle": "2022-07-20T00:41:47.364589Z",
     "shell.execute_reply": "2022-07-20T00:41:47.365253Z"
    },
    "papermill": {
     "duration": 0.84164,
     "end_time": "2022-07-20T00:41:47.365469",
     "exception": false,
     "start_time": "2022-07-20T00:41:46.523829",
     "status": "completed"
    },
    "tags": []
   },
   "outputs": [],
   "source": [
    "#hide\n",
    "import pandas as pd\n",
    "import matplotlib.pyplot as plt\n",
    "import matplotlib.ticker as ticker\n",
    "import matplotlib.animation as animation\n",
    "from IPython.display import HTML"
   ]
  },
  {
   "cell_type": "code",
   "execution_count": 21,
   "id": "lasting-extraction",
   "metadata": {
    "execution": {
     "iopub.execute_input": "2022-07-20T00:41:47.459428Z",
     "iopub.status.busy": "2022-07-20T00:41:47.458550Z",
     "iopub.status.idle": "2022-07-20T00:41:47.469332Z",
     "shell.execute_reply": "2022-07-20T00:41:47.468604Z"
    },
    "papermill": {
     "duration": 0.061222,
     "end_time": "2022-07-20T00:41:47.469500",
     "exception": false,
     "start_time": "2022-07-20T00:41:47.408278",
     "status": "completed"
    },
    "tags": []
   },
   "outputs": [],
   "source": [
    "#hide\n",
    "t = everydaycases.stack()"
   ]
  },
  {
   "cell_type": "code",
   "execution_count": 22,
   "id": "premier-sleeve",
   "metadata": {
    "execution": {
     "iopub.execute_input": "2022-07-20T00:41:47.560675Z",
     "iopub.status.busy": "2022-07-20T00:41:47.559817Z",
     "iopub.status.idle": "2022-07-20T00:41:47.573530Z",
     "shell.execute_reply": "2022-07-20T00:41:47.574211Z"
    },
    "papermill": {
     "duration": 0.062602,
     "end_time": "2022-07-20T00:41:47.574451",
     "exception": false,
     "start_time": "2022-07-20T00:41:47.511849",
     "status": "completed"
    },
    "tags": []
   },
   "outputs": [],
   "source": [
    "#hide\n",
    "g = t.reset_index(['Country/Region'])"
   ]
  },
  {
   "cell_type": "code",
   "execution_count": 23,
   "id": "distributed-pittsburgh",
   "metadata": {
    "execution": {
     "iopub.execute_input": "2022-07-20T00:41:47.663394Z",
     "iopub.status.busy": "2022-07-20T00:41:47.662454Z",
     "iopub.status.idle": "2022-07-20T00:41:47.665521Z",
     "shell.execute_reply": "2022-07-20T00:41:47.666091Z"
    },
    "papermill": {
     "duration": 0.049949,
     "end_time": "2022-07-20T00:41:47.666286",
     "exception": false,
     "start_time": "2022-07-20T00:41:47.616337",
     "status": "completed"
    },
    "tags": []
   },
   "outputs": [],
   "source": [
    "#hide\n",
    "g.index.name = 'date'"
   ]
  },
  {
   "cell_type": "code",
   "execution_count": 24,
   "id": "naked-donor",
   "metadata": {
    "execution": {
     "iopub.execute_input": "2022-07-20T00:41:47.755464Z",
     "iopub.status.busy": "2022-07-20T00:41:47.754595Z",
     "iopub.status.idle": "2022-07-20T00:41:47.759663Z",
     "shell.execute_reply": "2022-07-20T00:41:47.759000Z"
    },
    "papermill": {
     "duration": 0.051609,
     "end_time": "2022-07-20T00:41:47.759824",
     "exception": false,
     "start_time": "2022-07-20T00:41:47.708215",
     "status": "completed"
    },
    "tags": []
   },
   "outputs": [],
   "source": [
    "# #hide\n",
    "# g = g.reset_index(['date'])"
   ]
  },
  {
   "cell_type": "code",
   "execution_count": 25,
   "id": "incomplete-mustang",
   "metadata": {
    "execution": {
     "iopub.execute_input": "2022-07-20T00:41:47.854740Z",
     "iopub.status.busy": "2022-07-20T00:41:47.853933Z",
     "iopub.status.idle": "2022-07-20T00:41:47.857666Z",
     "shell.execute_reply": "2022-07-20T00:41:47.856735Z"
    },
    "papermill": {
     "duration": 0.053516,
     "end_time": "2022-07-20T00:41:47.857811",
     "exception": false,
     "start_time": "2022-07-20T00:41:47.804295",
     "status": "completed"
    },
    "tags": []
   },
   "outputs": [],
   "source": [
    "#hide\n",
    "# g.head()"
   ]
  },
  {
   "cell_type": "code",
   "execution_count": 26,
   "id": "specific-kruger",
   "metadata": {
    "execution": {
     "iopub.execute_input": "2022-07-20T00:41:47.948882Z",
     "iopub.status.busy": "2022-07-20T00:41:47.948099Z",
     "iopub.status.idle": "2022-07-20T00:41:47.951037Z",
     "shell.execute_reply": "2022-07-20T00:41:47.951626Z"
    },
    "papermill": {
     "duration": 0.05068,
     "end_time": "2022-07-20T00:41:47.951874",
     "exception": false,
     "start_time": "2022-07-20T00:41:47.901194",
     "status": "completed"
    },
    "tags": []
   },
   "outputs": [],
   "source": [
    "#hide\n",
    "# g.columns = ['date','country','cases']"
   ]
  },
  {
   "cell_type": "code",
   "execution_count": 27,
   "id": "tender-conversion",
   "metadata": {
    "execution": {
     "iopub.execute_input": "2022-07-20T00:41:48.043083Z",
     "iopub.status.busy": "2022-07-20T00:41:48.042281Z",
     "iopub.status.idle": "2022-07-20T00:41:48.045761Z",
     "shell.execute_reply": "2022-07-20T00:41:48.046306Z"
    },
    "papermill": {
     "duration": 0.052214,
     "end_time": "2022-07-20T00:41:48.046473",
     "exception": false,
     "start_time": "2022-07-20T00:41:47.994259",
     "status": "completed"
    },
    "tags": []
   },
   "outputs": [],
   "source": [
    "#hide\n",
    "# g['continent'] = g.country"
   ]
  },
  {
   "cell_type": "code",
   "execution_count": 28,
   "id": "substantial-wilderness",
   "metadata": {
    "execution": {
     "iopub.execute_input": "2022-07-20T00:41:48.135887Z",
     "iopub.status.busy": "2022-07-20T00:41:48.135050Z",
     "iopub.status.idle": "2022-07-20T00:41:48.139610Z",
     "shell.execute_reply": "2022-07-20T00:41:48.138689Z"
    },
    "papermill": {
     "duration": 0.051397,
     "end_time": "2022-07-20T00:41:48.139757",
     "exception": false,
     "start_time": "2022-07-20T00:41:48.088360",
     "status": "completed"
    },
    "tags": []
   },
   "outputs": [],
   "source": [
    "#hide\n",
    "# cols = list(g.columns.values)"
   ]
  },
  {
   "cell_type": "code",
   "execution_count": 29,
   "id": "solved-farming",
   "metadata": {
    "execution": {
     "iopub.execute_input": "2022-07-20T00:41:48.230104Z",
     "iopub.status.busy": "2022-07-20T00:41:48.229272Z",
     "iopub.status.idle": "2022-07-20T00:41:48.232067Z",
     "shell.execute_reply": "2022-07-20T00:41:48.232661Z"
    },
    "papermill": {
     "duration": 0.050836,
     "end_time": "2022-07-20T00:41:48.232847",
     "exception": false,
     "start_time": "2022-07-20T00:41:48.182011",
     "status": "completed"
    },
    "tags": []
   },
   "outputs": [],
   "source": [
    "#hide\n",
    "# cols.insert(0, cols.pop())"
   ]
  },
  {
   "cell_type": "code",
   "execution_count": 30,
   "id": "executed-adoption",
   "metadata": {
    "execution": {
     "iopub.execute_input": "2022-07-20T00:41:48.325370Z",
     "iopub.status.busy": "2022-07-20T00:41:48.324510Z",
     "iopub.status.idle": "2022-07-20T00:41:48.330069Z",
     "shell.execute_reply": "2022-07-20T00:41:48.329422Z"
    },
    "papermill": {
     "duration": 0.054565,
     "end_time": "2022-07-20T00:41:48.330223",
     "exception": false,
     "start_time": "2022-07-20T00:41:48.275658",
     "status": "completed"
    },
    "tags": []
   },
   "outputs": [],
   "source": [
    "#hide\n",
    "# g = g[cols]"
   ]
  },
  {
   "cell_type": "code",
   "execution_count": 31,
   "id": "subject-dublin",
   "metadata": {
    "execution": {
     "iopub.execute_input": "2022-07-20T00:41:48.420492Z",
     "iopub.status.busy": "2022-07-20T00:41:48.419626Z",
     "iopub.status.idle": "2022-07-20T00:41:48.421877Z",
     "shell.execute_reply": "2022-07-20T00:41:48.422512Z"
    },
    "papermill": {
     "duration": 0.049283,
     "end_time": "2022-07-20T00:41:48.422714",
     "exception": false,
     "start_time": "2022-07-20T00:41:48.373431",
     "status": "completed"
    },
    "tags": []
   },
   "outputs": [],
   "source": [
    "#hide\n",
    "# g['continent'] = g['continent'].map(mapping['map.continent'])"
   ]
  },
  {
   "cell_type": "code",
   "execution_count": 32,
   "id": "freelance-scout",
   "metadata": {
    "execution": {
     "iopub.execute_input": "2022-07-20T00:41:48.517236Z",
     "iopub.status.busy": "2022-07-20T00:41:48.516342Z",
     "iopub.status.idle": "2022-07-20T00:41:48.519887Z",
     "shell.execute_reply": "2022-07-20T00:41:48.519107Z"
    },
    "papermill": {
     "duration": 0.054284,
     "end_time": "2022-07-20T00:41:48.520042",
     "exception": false,
     "start_time": "2022-07-20T00:41:48.465758",
     "status": "completed"
    },
    "tags": []
   },
   "outputs": [],
   "source": [
    "#hide\n",
    "# g.head()"
   ]
  },
  {
   "cell_type": "code",
   "execution_count": 33,
   "id": "limited-engine",
   "metadata": {
    "execution": {
     "iopub.execute_input": "2022-07-20T00:41:48.611755Z",
     "iopub.status.busy": "2022-07-20T00:41:48.610791Z",
     "iopub.status.idle": "2022-07-20T00:41:48.614804Z",
     "shell.execute_reply": "2022-07-20T00:41:48.615458Z"
    },
    "papermill": {
     "duration": 0.05296,
     "end_time": "2022-07-20T00:41:48.615641",
     "exception": false,
     "start_time": "2022-07-20T00:41:48.562681",
     "status": "completed"
    },
    "tags": []
   },
   "outputs": [],
   "source": [
    "# hide\n",
    "# g['date'] = g['date'].astype('datetime64[ns]')"
   ]
  },
  {
   "cell_type": "code",
   "execution_count": 34,
   "id": "sophisticated-supervisor",
   "metadata": {
    "execution": {
     "iopub.execute_input": "2022-07-20T00:41:48.704816Z",
     "iopub.status.busy": "2022-07-20T00:41:48.704012Z",
     "iopub.status.idle": "2022-07-20T00:41:48.707285Z",
     "shell.execute_reply": "2022-07-20T00:41:48.706591Z"
    },
    "papermill": {
     "duration": 0.049045,
     "end_time": "2022-07-20T00:41:48.707443",
     "exception": false,
     "start_time": "2022-07-20T00:41:48.658398",
     "status": "completed"
    },
    "tags": []
   },
   "outputs": [],
   "source": [
    "#hide\n",
    "# g['date'] = g.date.dt.dayofyear"
   ]
  },
  {
   "cell_type": "code",
   "execution_count": 35,
   "id": "inside-dubai",
   "metadata": {
    "execution": {
     "iopub.execute_input": "2022-07-20T00:41:48.795005Z",
     "iopub.status.busy": "2022-07-20T00:41:48.794152Z",
     "iopub.status.idle": "2022-07-20T00:41:48.797493Z",
     "shell.execute_reply": "2022-07-20T00:41:48.796701Z"
    },
    "papermill": {
     "duration": 0.048893,
     "end_time": "2022-07-20T00:41:48.797648",
     "exception": false,
     "start_time": "2022-07-20T00:41:48.748755",
     "status": "completed"
    },
    "tags": []
   },
   "outputs": [],
   "source": [
    "#hide\n",
    "# g = g.rename(columns= {'continent':'group','country':'name','cases':'value'})"
   ]
  },
  {
   "cell_type": "code",
   "execution_count": 36,
   "id": "fleet-motorcycle",
   "metadata": {
    "execution": {
     "iopub.execute_input": "2022-07-20T00:41:48.889776Z",
     "iopub.status.busy": "2022-07-20T00:41:48.888953Z",
     "iopub.status.idle": "2022-07-20T00:41:48.898760Z",
     "shell.execute_reply": "2022-07-20T00:41:48.899410Z"
    },
    "papermill": {
     "duration": 0.05967,
     "end_time": "2022-07-20T00:41:48.899679",
     "exception": false,
     "start_time": "2022-07-20T00:41:48.840009",
     "status": "completed"
    },
    "tags": []
   },
   "outputs": [],
   "source": [
    "#hide\n",
    "# cols = ['name','group','day','value']"
   ]
  },
  {
   "cell_type": "code",
   "execution_count": 37,
   "id": "continued-sleeping",
   "metadata": {
    "execution": {
     "iopub.execute_input": "2022-07-20T00:41:49.030861Z",
     "iopub.status.busy": "2022-07-20T00:41:49.029876Z",
     "iopub.status.idle": "2022-07-20T00:41:49.032798Z",
     "shell.execute_reply": "2022-07-20T00:41:49.031990Z"
    },
    "papermill": {
     "duration": 0.060244,
     "end_time": "2022-07-20T00:41:49.032957",
     "exception": false,
     "start_time": "2022-07-20T00:41:48.972713",
     "status": "completed"
    },
    "tags": []
   },
   "outputs": [],
   "source": [
    "#hide\n",
    "# g.rename(columns= {'date':'day'},inplace = True)"
   ]
  },
  {
   "cell_type": "code",
   "execution_count": 38,
   "id": "major-fight",
   "metadata": {
    "execution": {
     "iopub.execute_input": "2022-07-20T00:41:49.191475Z",
     "iopub.status.busy": "2022-07-20T00:41:49.190612Z",
     "iopub.status.idle": "2022-07-20T00:41:49.195647Z",
     "shell.execute_reply": "2022-07-20T00:41:49.194792Z"
    },
    "papermill": {
     "duration": 0.060134,
     "end_time": "2022-07-20T00:41:49.195812",
     "exception": false,
     "start_time": "2022-07-20T00:41:49.135678",
     "status": "completed"
    },
    "tags": []
   },
   "outputs": [],
   "source": [
    "#hide\n",
    "# g = g[cols]"
   ]
  },
  {
   "cell_type": "code",
   "execution_count": 39,
   "id": "structured-mobile",
   "metadata": {
    "execution": {
     "iopub.execute_input": "2022-07-20T00:41:49.300174Z",
     "iopub.status.busy": "2022-07-20T00:41:49.297561Z",
     "iopub.status.idle": "2022-07-20T00:41:49.301688Z",
     "shell.execute_reply": "2022-07-20T00:41:49.301020Z"
    },
    "papermill": {
     "duration": 0.06172,
     "end_time": "2022-07-20T00:41:49.301847",
     "exception": false,
     "start_time": "2022-07-20T00:41:49.240127",
     "status": "completed"
    },
    "tags": []
   },
   "outputs": [],
   "source": [
    "# #hide\n",
    "# g = g[g.group.notna()]"
   ]
  },
  {
   "cell_type": "code",
   "execution_count": 40,
   "id": "determined-closing",
   "metadata": {
    "execution": {
     "iopub.execute_input": "2022-07-20T00:41:49.443247Z",
     "iopub.status.busy": "2022-07-20T00:41:49.442392Z",
     "iopub.status.idle": "2022-07-20T00:41:49.445014Z",
     "shell.execute_reply": "2022-07-20T00:41:49.445630Z"
    },
    "papermill": {
     "duration": 0.069196,
     "end_time": "2022-07-20T00:41:49.445825",
     "exception": false,
     "start_time": "2022-07-20T00:41:49.376629",
     "status": "completed"
    },
    "tags": []
   },
   "outputs": [],
   "source": [
    "# #hide\n",
    "# colors = dict(zip(\n",
    "#     [\"Oceania\", \"Europe\", \"Asia\", \"South America\", \"Middle East\", \"North America\", \"Africa\"],\n",
    "#     [\"#adb0ff\", \"#ffb3ff\", \"#90d595\", \"#e48381\", \"#aafbff\", \"#f7bb5f\", \"#eafb50\"]\n",
    "# ))\n",
    "# group_lk = g.set_index('name')['group'].to_dict()"
   ]
  },
  {
   "cell_type": "code",
   "execution_count": null,
   "id": "gross-drinking",
   "metadata": {
    "papermill": {
     "duration": 0.052903,
     "end_time": "2022-07-20T00:41:49.591776",
     "exception": false,
     "start_time": "2022-07-20T00:41:49.538873",
     "status": "completed"
    },
    "tags": []
   },
   "outputs": [],
   "source": []
  },
  {
   "cell_type": "code",
   "execution_count": 41,
   "id": "subject-macintosh",
   "metadata": {
    "execution": {
     "iopub.execute_input": "2022-07-20T00:41:49.690657Z",
     "iopub.status.busy": "2022-07-20T00:41:49.689852Z",
     "iopub.status.idle": "2022-07-20T00:41:49.693478Z",
     "shell.execute_reply": "2022-07-20T00:41:49.692539Z"
    },
    "papermill": {
     "duration": 0.053476,
     "end_time": "2022-07-20T00:41:49.693640",
     "exception": false,
     "start_time": "2022-07-20T00:41:49.640164",
     "status": "completed"
    },
    "tags": []
   },
   "outputs": [],
   "source": [
    "# #hide\n",
    "# fig, ax = plt.subplots(figsize=(15, 8))\n",
    "\n",
    "# def draw_barchart(current_day):\n",
    "#     dff = g[g['day'].eq(current_day)].sort_values(by='value', ascending=True).tail(10)\n",
    "#     ax.clear()\n",
    "#     ax.barh(dff['name'], dff['value'], color=[colors[group_lk[x]] for x in dff['name']])\n",
    "#     dx = dff['value'].max() / 200\n",
    "    \n",
    "#     for i, (value, name) in enumerate(zip(dff['value'], dff['name'])):\n",
    "#         ax.text(value-dx, i,     name,           size=14, weight=600, ha='right', va='bottom')\n",
    "#         ax.text(value-dx, i-.25, group_lk[name], size=10, color='#444444', ha='right', va='baseline')\n",
    "#         ax.text(value+dx, i,     f'{value:,.0f}',  size=14, ha='left',  va='center')\n",
    "#     ax.text(1, 0.4, current_day, transform=ax.transAxes, color='#777777', size=46, ha='right', weight=800)\n",
    "#     ax.text(0, 1.06, 'Population (thousands)', transform=ax.transAxes, size=12, color='#777777')\n",
    "#     ax.xaxis.set_major_formatter(ticker.StrMethodFormatter('{x:,.0f}'))\n",
    "#     ax.xaxis.set_ticks_position('top')\n",
    "#     ax.tick_params(axis='x', colors='#777777', labelsize=12)\n",
    "#     ax.set_yticks([])\n",
    "#     ax.margins(0, 0.01)\n",
    "#     ax.grid(which='major', axis='x', linestyle='-')\n",
    "#     ax.set_axisbelow(True)\n",
    "    \n",
    "#     ax.text(0, 1.15, 'Coronavirus',\n",
    "#             transform=ax.transAxes, size=24, weight=600, ha='left', va='top')\n",
    "# #     ax.text(1, 0, 'by @pratapvardhan; credit @jburnmurdoch', transform=ax.transAxes, color='#777777', ha='right',\n",
    "# #             bbox=dict(facecolor='white', alpha=0.8, edgecolor='white'))\n",
    "#     plt.box(False)"
   ]
  },
  {
   "cell_type": "code",
   "execution_count": 42,
   "id": "sexual-wages",
   "metadata": {
    "execution": {
     "iopub.execute_input": "2022-07-20T00:41:49.889953Z",
     "iopub.status.busy": "2022-07-20T00:41:49.888518Z",
     "iopub.status.idle": "2022-07-20T00:41:49.892421Z",
     "shell.execute_reply": "2022-07-20T00:41:49.893041Z"
    },
    "papermill": {
     "duration": 0.112688,
     "end_time": "2022-07-20T00:41:49.893225",
     "exception": false,
     "start_time": "2022-07-20T00:41:49.780537",
     "status": "completed"
    },
    "tags": []
   },
   "outputs": [],
   "source": [
    "# #hide_input\n",
    "# fig, ax = plt.subplots(figsize=(15, 8))\n",
    "# animator = animation.FuncAnimation(fig, draw_barchart, frames=range(g.day.values.min(), g.day.values.max()))\n",
    "# HTML(animator.to_jshtml())\n",
    "# # or use animator.to_html5_video() or animator.save() "
   ]
  },
  {
   "cell_type": "code",
   "execution_count": null,
   "id": "australian-container",
   "metadata": {
    "papermill": {
     "duration": 0.049918,
     "end_time": "2022-07-20T00:41:50.023349",
     "exception": false,
     "start_time": "2022-07-20T00:41:49.973431",
     "status": "completed"
    },
    "tags": []
   },
   "outputs": [],
   "source": []
  },
  {
   "cell_type": "code",
   "execution_count": null,
   "id": "mediterranean-pontiac",
   "metadata": {
    "papermill": {
     "duration": 0.045874,
     "end_time": "2022-07-20T00:41:50.129909",
     "exception": false,
     "start_time": "2022-07-20T00:41:50.084035",
     "status": "completed"
    },
    "tags": []
   },
   "outputs": [],
   "source": []
  },
  {
   "cell_type": "code",
   "execution_count": null,
   "id": "aging-legislature",
   "metadata": {
    "papermill": {
     "duration": 0.050186,
     "end_time": "2022-07-20T00:41:50.224612",
     "exception": false,
     "start_time": "2022-07-20T00:41:50.174426",
     "status": "completed"
    },
    "tags": []
   },
   "outputs": [],
   "source": []
  }
 ],
 "metadata": {
  "kernelspec": {
   "display_name": "Python 3",
   "language": "python",
   "name": "python3"
  },
  "language_info": {
   "codemirror_mode": {
    "name": "ipython",
    "version": 3
   },
   "file_extension": ".py",
   "mimetype": "text/x-python",
   "name": "python",
   "nbconvert_exporter": "python",
   "pygments_lexer": "ipython3",
   "version": "3.6.15"
  },
  "papermill": {
   "duration": 8.886311,
   "end_time": "2022-07-20T00:41:50.711253",
   "environment_variables": {},
   "exception": null,
   "input_path": "2020-03-21-covid19exp.ipynb",
   "output_path": "2020-03-21-covid19exp.ipynb",
   "parameters": {},
   "start_time": "2022-07-20T00:41:41.824942",
   "version": "2.0.0"
  }
 },
 "nbformat": 4,
 "nbformat_minor": 5
}