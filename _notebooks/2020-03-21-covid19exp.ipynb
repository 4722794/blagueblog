{
 "cells": [
  {
   "cell_type": "markdown",
   "id": "muslim-click",
   "metadata": {
    "papermill": {
     "duration": 0.045043,
     "end_time": "2021-10-15T12:13:43.730757",
     "exception": false,
     "start_time": "2021-10-15T12:13:43.685714",
     "status": "completed"
    },
    "tags": []
   },
   "source": [
    "# COVID-19 Case Race\n",
    "> A race chart to see rising cases around the world\n",
    "\n",
    "- author: Hargun Oberoi\n",
    "- image: images/covid-overview.png\n",
    "- hide: false\n",
    "- badges: false"
   ]
  },
  {
   "cell_type": "code",
   "execution_count": 1,
   "id": "proof-material",
   "metadata": {
    "execution": {
     "iopub.execute_input": "2021-10-15T12:13:43.827501Z",
     "iopub.status.busy": "2021-10-15T12:13:43.826754Z",
     "iopub.status.idle": "2021-10-15T12:13:44.358732Z",
     "shell.execute_reply": "2021-10-15T12:13:44.359277Z"
    },
    "papermill": {
     "duration": 0.587985,
     "end_time": "2021-10-15T12:13:44.359491",
     "exception": false,
     "start_time": "2021-10-15T12:13:43.771506",
     "status": "completed"
    },
    "tags": []
   },
   "outputs": [],
   "source": [
    "#hide\n",
    "import numpy as np\n",
    "import pandas as pd\n",
    "from jinja2 import Template\n",
    "from IPython.display import HTML"
   ]
  },
  {
   "cell_type": "code",
   "execution_count": 2,
   "id": "developed-terminology",
   "metadata": {
    "execution": {
     "iopub.execute_input": "2021-10-15T12:13:44.454823Z",
     "iopub.status.busy": "2021-10-15T12:13:44.453854Z",
     "iopub.status.idle": "2021-10-15T12:13:44.455747Z",
     "shell.execute_reply": "2021-10-15T12:13:44.456457Z"
    },
    "papermill": {
     "duration": 0.055802,
     "end_time": "2021-10-15T12:13:44.456692",
     "exception": false,
     "start_time": "2021-10-15T12:13:44.400890",
     "status": "completed"
    },
    "tags": []
   },
   "outputs": [],
   "source": [
    "#hide\n",
    "\n",
    "# FETCH\n",
    "base_url = 'https://raw.githubusercontent.com/pratapvardhan/notebooks/master/covid19/'\n",
    "paths = {\n",
    "    'mapping': base_url + 'mapping_countries.csv',\n",
    "    'overview': base_url + 'overview.tpl'\n",
    "}"
   ]
  },
  {
   "cell_type": "code",
   "execution_count": 3,
   "id": "dynamic-saver",
   "metadata": {
    "execution": {
     "iopub.execute_input": "2021-10-15T12:13:44.548993Z",
     "iopub.status.busy": "2021-10-15T12:13:44.548316Z",
     "iopub.status.idle": "2021-10-15T12:13:44.560042Z",
     "shell.execute_reply": "2021-10-15T12:13:44.559135Z"
    },
    "papermill": {
     "duration": 0.062632,
     "end_time": "2021-10-15T12:13:44.560664",
     "exception": false,
     "start_time": "2021-10-15T12:13:44.498032",
     "status": "completed"
    },
    "tags": []
   },
   "outputs": [
    {
     "data": {
      "text/plain": [
       "'https://raw.githubusercontent.com/pratapvardhan/notebooks/master/covid19/mapping_countries.csv'"
      ]
     },
     "execution_count": 3,
     "metadata": {},
     "output_type": "execute_result"
    }
   ],
   "source": [
    "#hide\n",
    "paths['mapping']"
   ]
  },
  {
   "cell_type": "code",
   "execution_count": 4,
   "id": "urban-software",
   "metadata": {
    "execution": {
     "iopub.execute_input": "2021-10-15T12:13:44.664165Z",
     "iopub.status.busy": "2021-10-15T12:13:44.663441Z",
     "iopub.status.idle": "2021-10-15T12:13:44.667050Z",
     "shell.execute_reply": "2021-10-15T12:13:44.665501Z"
    },
    "papermill": {
     "duration": 0.052022,
     "end_time": "2021-10-15T12:13:44.667196",
     "exception": false,
     "start_time": "2021-10-15T12:13:44.615174",
     "status": "completed"
    },
    "tags": []
   },
   "outputs": [],
   "source": [
    "#hide\n",
    "def get_mappings(url):\n",
    "    df = pd.read_csv(url)\n",
    "    return {\n",
    "        'df': df,\n",
    "        'replace.country': dict(df.dropna(subset=['Name']).set_index('Country')['Name']),\n",
    "        'map.continent': dict(df.set_index('Name')['Continent'])\n",
    "    }"
   ]
  },
  {
   "cell_type": "code",
   "execution_count": 5,
   "id": "intimate-machinery",
   "metadata": {
    "execution": {
     "iopub.execute_input": "2021-10-15T12:13:44.772483Z",
     "iopub.status.busy": "2021-10-15T12:13:44.771741Z",
     "iopub.status.idle": "2021-10-15T12:13:44.816481Z",
     "shell.execute_reply": "2021-10-15T12:13:44.815866Z"
    },
    "papermill": {
     "duration": 0.104788,
     "end_time": "2021-10-15T12:13:44.816632",
     "exception": false,
     "start_time": "2021-10-15T12:13:44.711844",
     "status": "completed"
    },
    "tags": []
   },
   "outputs": [],
   "source": [
    "#hide\n",
    "mapping = get_mappings(paths['mapping'])"
   ]
  },
  {
   "cell_type": "code",
   "execution_count": 6,
   "id": "certified-tactics",
   "metadata": {
    "execution": {
     "iopub.execute_input": "2021-10-15T12:13:44.941690Z",
     "iopub.status.busy": "2021-10-15T12:13:44.940985Z",
     "iopub.status.idle": "2021-10-15T12:13:44.943264Z",
     "shell.execute_reply": "2021-10-15T12:13:44.943962Z"
    },
    "papermill": {
     "duration": 0.069393,
     "end_time": "2021-10-15T12:13:44.944141",
     "exception": false,
     "start_time": "2021-10-15T12:13:44.874748",
     "status": "completed"
    },
    "tags": []
   },
   "outputs": [],
   "source": [
    "#hide\n",
    "def get_template(path):\n",
    "    from urllib.parse import urlparse\n",
    "    if bool(urlparse(path).netloc):\n",
    "        from urllib.request import urlopen\n",
    "        return urlopen(path).read().decode('utf8')\n",
    "    return open(path).read()"
   ]
  },
  {
   "cell_type": "code",
   "execution_count": 7,
   "id": "realistic-blast",
   "metadata": {
    "execution": {
     "iopub.execute_input": "2021-10-15T12:13:45.045287Z",
     "iopub.status.busy": "2021-10-15T12:13:45.044568Z",
     "iopub.status.idle": "2021-10-15T12:13:45.051092Z",
     "shell.execute_reply": "2021-10-15T12:13:45.051618Z"
    },
    "papermill": {
     "duration": 0.06251,
     "end_time": "2021-10-15T12:13:45.051790",
     "exception": false,
     "start_time": "2021-10-15T12:13:44.989280",
     "status": "completed"
    },
    "tags": []
   },
   "outputs": [],
   "source": [
    "#hide\n",
    "def get_frame(name):\n",
    "    url = (\n",
    "        'https://raw.githubusercontent.com/CSSEGISandData/COVID-19/master/csse_covid_19_data/'\n",
    "        f'csse_covid_19_time_series/time_series_covid19_{name}_global.csv')\n",
    "    df = pd.read_csv(url)\n",
    "    # rename countries\n",
    "    df['Country/Region'] = df['Country/Region'].replace(mapping['replace.country'])\n",
    "    return df"
   ]
  },
  {
   "cell_type": "code",
   "execution_count": 8,
   "id": "affiliated-characterization",
   "metadata": {
    "execution": {
     "iopub.execute_input": "2021-10-15T12:13:45.170860Z",
     "iopub.status.busy": "2021-10-15T12:13:45.169955Z",
     "iopub.status.idle": "2021-10-15T12:13:45.172944Z",
     "shell.execute_reply": "2021-10-15T12:13:45.173551Z"
    },
    "papermill": {
     "duration": 0.059254,
     "end_time": "2021-10-15T12:13:45.173794",
     "exception": false,
     "start_time": "2021-10-15T12:13:45.114540",
     "status": "completed"
    },
    "tags": []
   },
   "outputs": [],
   "source": [
    "#hide\n",
    "def get_dates(df):\n",
    "    dt_cols = df.columns[~df.columns.isin(['Province/State', 'Country/Region', 'Lat', 'Long'])]\n",
    "    LAST_DATE_I = -1\n",
    "    # sometimes last column may be empty, then go backwards\n",
    "    for i in range(-1, -len(dt_cols), -1):\n",
    "        if not df[dt_cols[i]].fillna(0).eq(0).all():\n",
    "            LAST_DATE_I = i\n",
    "            break\n",
    "    return LAST_DATE_I, dt_cols"
   ]
  },
  {
   "cell_type": "code",
   "execution_count": 9,
   "id": "recent-optimization",
   "metadata": {
    "execution": {
     "iopub.execute_input": "2021-10-15T12:13:45.272953Z",
     "iopub.status.busy": "2021-10-15T12:13:45.272069Z",
     "iopub.status.idle": "2021-10-15T12:13:45.803092Z",
     "shell.execute_reply": "2021-10-15T12:13:45.804139Z"
    },
    "papermill": {
     "duration": 0.583562,
     "end_time": "2021-10-15T12:13:45.804335",
     "exception": false,
     "start_time": "2021-10-15T12:13:45.220773",
     "status": "completed"
    },
    "tags": []
   },
   "outputs": [],
   "source": [
    "#hide\n",
    "COL_REGION = 'Country/Region'\n",
    "# Confirmed, Recovered, Deaths\n",
    "df = get_frame('confirmed')\n",
    "# dft_: timeseries, dfc_: today country agg\n",
    "dft_cases = df\n",
    "dft_deaths = get_frame('deaths')\n",
    "dft_recovered = get_frame('recovered')\n",
    "LAST_DATE_I, dt_cols = get_dates(df)"
   ]
  },
  {
   "cell_type": "code",
   "execution_count": 10,
   "id": "absolute-copper",
   "metadata": {
    "execution": {
     "iopub.execute_input": "2021-10-15T12:13:45.899856Z",
     "iopub.status.busy": "2021-10-15T12:13:45.899180Z",
     "iopub.status.idle": "2021-10-15T12:13:45.901709Z",
     "shell.execute_reply": "2021-10-15T12:13:45.900987Z"
    },
    "papermill": {
     "duration": 0.052143,
     "end_time": "2021-10-15T12:13:45.901848",
     "exception": false,
     "start_time": "2021-10-15T12:13:45.849705",
     "status": "completed"
    },
    "tags": []
   },
   "outputs": [],
   "source": [
    "#hide\n",
    "LAST_DATE_I, dt_cols = get_dates(df)\n",
    "dt_today =dt_cols[LAST_DATE_I]\n",
    "# dt_5day = dt_cols[LAST_DATE_I - 5]\n",
    "dt_yday = dt_cols[LAST_DATE_I - 1]"
   ]
  },
  {
   "cell_type": "code",
   "execution_count": 11,
   "id": "restricted-sheriff",
   "metadata": {
    "execution": {
     "iopub.execute_input": "2021-10-15T12:13:46.019169Z",
     "iopub.status.busy": "2021-10-15T12:13:46.018352Z",
     "iopub.status.idle": "2021-10-15T12:13:46.027549Z",
     "shell.execute_reply": "2021-10-15T12:13:46.026971Z"
    },
    "papermill": {
     "duration": 0.076744,
     "end_time": "2021-10-15T12:13:46.027693",
     "exception": false,
     "start_time": "2021-10-15T12:13:45.950949",
     "status": "completed"
    },
    "tags": []
   },
   "outputs": [],
   "source": [
    "#hide\n",
    "dfc_cases = dft_cases.groupby(COL_REGION)[dt_today].sum()\n",
    "dfc_deaths = dft_deaths.groupby(COL_REGION)[dt_today].sum()\n",
    "# dfp_cases = dft_cases.groupby(COL_REGION)[dt_5day].sum()\n",
    "# dfp_deaths = dft_deaths.groupby(COL_REGION)[dt_5day].sum()\n",
    "dfp_cases = dft_cases.groupby(COL_REGION)[dt_yday].sum()\n",
    "dfp_deaths = dft_deaths.groupby(COL_REGION)[dt_yday].sum()"
   ]
  },
  {
   "cell_type": "code",
   "execution_count": 12,
   "id": "deluxe-hepatitis",
   "metadata": {
    "execution": {
     "iopub.execute_input": "2021-10-15T12:13:46.138683Z",
     "iopub.status.busy": "2021-10-15T12:13:46.137875Z",
     "iopub.status.idle": "2021-10-15T12:13:46.140430Z",
     "shell.execute_reply": "2021-10-15T12:13:46.141184Z"
    },
    "papermill": {
     "duration": 0.059022,
     "end_time": "2021-10-15T12:13:46.141352",
     "exception": false,
     "start_time": "2021-10-15T12:13:46.082330",
     "status": "completed"
    },
    "tags": []
   },
   "outputs": [],
   "source": [
    "#hide\n",
    "df_table = (pd.DataFrame(dict(Cases = dfc_cases, Deaths = dfc_deaths, PCases = dfp_cases, PDeaths = dfp_deaths))\n",
    "            .sort_values(by = ['Cases','Deaths'], ascending = [False, False])\n",
    "            .reset_index())"
   ]
  },
  {
   "cell_type": "code",
   "execution_count": 13,
   "id": "educational-chancellor",
   "metadata": {
    "execution": {
     "iopub.execute_input": "2021-10-15T12:13:46.269155Z",
     "iopub.status.busy": "2021-10-15T12:13:46.268399Z",
     "iopub.status.idle": "2021-10-15T12:13:46.296146Z",
     "shell.execute_reply": "2021-10-15T12:13:46.295462Z"
    },
    "papermill": {
     "duration": 0.095681,
     "end_time": "2021-10-15T12:13:46.296322",
     "exception": false,
     "start_time": "2021-10-15T12:13:46.200641",
     "status": "completed"
    },
    "tags": []
   },
   "outputs": [
    {
     "data": {
      "text/html": [
       "<div>\n",
       "<style scoped>\n",
       "    .dataframe tbody tr th:only-of-type {\n",
       "        vertical-align: middle;\n",
       "    }\n",
       "\n",
       "    .dataframe tbody tr th {\n",
       "        vertical-align: top;\n",
       "    }\n",
       "\n",
       "    .dataframe thead th {\n",
       "        text-align: right;\n",
       "    }\n",
       "</style>\n",
       "<table border=\"1\" class=\"dataframe\">\n",
       "  <thead>\n",
       "    <tr style=\"text-align: right;\">\n",
       "      <th></th>\n",
       "      <th>Country/Region</th>\n",
       "      <th>Cases</th>\n",
       "      <th>Deaths</th>\n",
       "      <th>PCases</th>\n",
       "      <th>PDeaths</th>\n",
       "      <th>Cases (+)</th>\n",
       "      <th>Deaths (+)</th>\n",
       "      <th>Fatality Rate</th>\n",
       "      <th>Continent</th>\n",
       "    </tr>\n",
       "  </thead>\n",
       "  <tbody>\n",
       "    <tr>\n",
       "      <th>0</th>\n",
       "      <td>US</td>\n",
       "      <td>44767906</td>\n",
       "      <td>721563</td>\n",
       "      <td>44684150</td>\n",
       "      <td>719558</td>\n",
       "      <td>83756</td>\n",
       "      <td>2005</td>\n",
       "      <td>1.61</td>\n",
       "      <td>North America</td>\n",
       "    </tr>\n",
       "    <tr>\n",
       "      <th>1</th>\n",
       "      <td>India</td>\n",
       "      <td>34037592</td>\n",
       "      <td>451814</td>\n",
       "      <td>34020730</td>\n",
       "      <td>451435</td>\n",
       "      <td>16862</td>\n",
       "      <td>379</td>\n",
       "      <td>1.33</td>\n",
       "      <td>Asia</td>\n",
       "    </tr>\n",
       "    <tr>\n",
       "      <th>2</th>\n",
       "      <td>Brazil</td>\n",
       "      <td>21612237</td>\n",
       "      <td>602099</td>\n",
       "      <td>21597949</td>\n",
       "      <td>601574</td>\n",
       "      <td>14288</td>\n",
       "      <td>525</td>\n",
       "      <td>2.79</td>\n",
       "      <td>South America</td>\n",
       "    </tr>\n",
       "    <tr>\n",
       "      <th>3</th>\n",
       "      <td>United Kingdom</td>\n",
       "      <td>8356596</td>\n",
       "      <td>138647</td>\n",
       "      <td>8311851</td>\n",
       "      <td>138487</td>\n",
       "      <td>44745</td>\n",
       "      <td>160</td>\n",
       "      <td>1.66</td>\n",
       "      <td>Europe</td>\n",
       "    </tr>\n",
       "    <tr>\n",
       "      <th>4</th>\n",
       "      <td>Russia</td>\n",
       "      <td>7773388</td>\n",
       "      <td>216403</td>\n",
       "      <td>7742899</td>\n",
       "      <td>215438</td>\n",
       "      <td>30489</td>\n",
       "      <td>965</td>\n",
       "      <td>2.78</td>\n",
       "      <td>Europe</td>\n",
       "    </tr>\n",
       "  </tbody>\n",
       "</table>\n",
       "</div>"
      ],
      "text/plain": [
       "   Country/Region     Cases  Deaths    PCases  PDeaths  Cases (+)  Deaths (+)  \\\n",
       "0              US  44767906  721563  44684150   719558      83756        2005   \n",
       "1           India  34037592  451814  34020730   451435      16862         379   \n",
       "2          Brazil  21612237  602099  21597949   601574      14288         525   \n",
       "3  United Kingdom   8356596  138647   8311851   138487      44745         160   \n",
       "4          Russia   7773388  216403   7742899   215438      30489         965   \n",
       "\n",
       "   Fatality Rate      Continent  \n",
       "0           1.61  North America  \n",
       "1           1.33           Asia  \n",
       "2           2.79  South America  \n",
       "3           1.66         Europe  \n",
       "4           2.78         Europe  "
      ]
     },
     "execution_count": 13,
     "metadata": {},
     "output_type": "execute_result"
    }
   ],
   "source": [
    "#hide\n",
    "for c in 'Cases, Deaths'.split(', '):\n",
    "    df_table[f'{c} (+)'] = (df_table[c] - df_table[f'P{c}']).clip(0)\n",
    "    #Clip ça veut dire, les chiffres negatif sont interdit\n",
    "df_table['Fatality Rate'] = (100* df_table['Deaths']/ df_table['Cases']).round(2)\n",
    "df_table['Continent'] = df_table['Country/Region'].map(mapping['map.continent'])\n",
    "df_table.head(5)"
   ]
  },
  {
   "cell_type": "code",
   "execution_count": 14,
   "id": "aboriginal-bulgaria",
   "metadata": {
    "execution": {
     "iopub.execute_input": "2021-10-15T12:13:46.392047Z",
     "iopub.status.busy": "2021-10-15T12:13:46.391261Z",
     "iopub.status.idle": "2021-10-15T12:13:46.394075Z",
     "shell.execute_reply": "2021-10-15T12:13:46.393498Z"
    },
    "papermill": {
     "duration": 0.053282,
     "end_time": "2021-10-15T12:13:46.394244",
     "exception": false,
     "start_time": "2021-10-15T12:13:46.340962",
     "status": "completed"
    },
    "tags": []
   },
   "outputs": [],
   "source": [
    "#hide\n",
    "#delete problematic countries from table\n",
    "df_table = df_table[~df_table['Country/Region'].isin(['Cape Verde', 'Cruise Ship', 'Kosovo'])]"
   ]
  },
  {
   "cell_type": "code",
   "execution_count": 15,
   "id": "fantastic-effect",
   "metadata": {
    "execution": {
     "iopub.execute_input": "2021-10-15T12:13:46.489944Z",
     "iopub.status.busy": "2021-10-15T12:13:46.489260Z",
     "iopub.status.idle": "2021-10-15T12:13:46.520914Z",
     "shell.execute_reply": "2021-10-15T12:13:46.521462Z"
    },
    "papermill": {
     "duration": 0.083716,
     "end_time": "2021-10-15T12:13:46.521632",
     "exception": false,
     "start_time": "2021-10-15T12:13:46.437916",
     "status": "completed"
    },
    "tags": []
   },
   "outputs": [
    {
     "data": {
      "text/html": [
       "<div>\n",
       "<style scoped>\n",
       "    .dataframe tbody tr th:only-of-type {\n",
       "        vertical-align: middle;\n",
       "    }\n",
       "\n",
       "    .dataframe tbody tr th {\n",
       "        vertical-align: top;\n",
       "    }\n",
       "\n",
       "    .dataframe thead th {\n",
       "        text-align: right;\n",
       "    }\n",
       "</style>\n",
       "<table border=\"1\" class=\"dataframe\">\n",
       "  <thead>\n",
       "    <tr style=\"text-align: right;\">\n",
       "      <th></th>\n",
       "      <th>Country/Region</th>\n",
       "      <th>Cases</th>\n",
       "      <th>Deaths</th>\n",
       "      <th>PCases</th>\n",
       "      <th>PDeaths</th>\n",
       "      <th>Cases (+)</th>\n",
       "      <th>Deaths (+)</th>\n",
       "      <th>Fatality Rate</th>\n",
       "      <th>Continent</th>\n",
       "    </tr>\n",
       "  </thead>\n",
       "  <tbody>\n",
       "    <tr>\n",
       "      <th>0</th>\n",
       "      <td>US</td>\n",
       "      <td>44767906</td>\n",
       "      <td>721563</td>\n",
       "      <td>44684150</td>\n",
       "      <td>719558</td>\n",
       "      <td>83756</td>\n",
       "      <td>2005</td>\n",
       "      <td>1.6</td>\n",
       "      <td>North America</td>\n",
       "    </tr>\n",
       "    <tr>\n",
       "      <th>1</th>\n",
       "      <td>India</td>\n",
       "      <td>34037592</td>\n",
       "      <td>451814</td>\n",
       "      <td>34020730</td>\n",
       "      <td>451435</td>\n",
       "      <td>16862</td>\n",
       "      <td>379</td>\n",
       "      <td>1.3</td>\n",
       "      <td>Asia</td>\n",
       "    </tr>\n",
       "    <tr>\n",
       "      <th>2</th>\n",
       "      <td>Brazil</td>\n",
       "      <td>21612237</td>\n",
       "      <td>602099</td>\n",
       "      <td>21597949</td>\n",
       "      <td>601574</td>\n",
       "      <td>14288</td>\n",
       "      <td>525</td>\n",
       "      <td>2.8</td>\n",
       "      <td>South America</td>\n",
       "    </tr>\n",
       "    <tr>\n",
       "      <th>3</th>\n",
       "      <td>United Kingdom</td>\n",
       "      <td>8356596</td>\n",
       "      <td>138647</td>\n",
       "      <td>8311851</td>\n",
       "      <td>138487</td>\n",
       "      <td>44745</td>\n",
       "      <td>160</td>\n",
       "      <td>1.7</td>\n",
       "      <td>Europe</td>\n",
       "    </tr>\n",
       "    <tr>\n",
       "      <th>4</th>\n",
       "      <td>Russia</td>\n",
       "      <td>7773388</td>\n",
       "      <td>216403</td>\n",
       "      <td>7742899</td>\n",
       "      <td>215438</td>\n",
       "      <td>30489</td>\n",
       "      <td>965</td>\n",
       "      <td>2.8</td>\n",
       "      <td>Europe</td>\n",
       "    </tr>\n",
       "  </tbody>\n",
       "</table>\n",
       "</div>"
      ],
      "text/plain": [
       "   Country/Region     Cases  Deaths    PCases  PDeaths  Cases (+)  Deaths (+)  \\\n",
       "0              US  44767906  721563  44684150   719558      83756        2005   \n",
       "1           India  34037592  451814  34020730   451435      16862         379   \n",
       "2          Brazil  21612237  602099  21597949   601574      14288         525   \n",
       "3  United Kingdom   8356596  138647   8311851   138487      44745         160   \n",
       "4          Russia   7773388  216403   7742899   215438      30489         965   \n",
       "\n",
       "   Fatality Rate      Continent  \n",
       "0            1.6  North America  \n",
       "1            1.3           Asia  \n",
       "2            2.8  South America  \n",
       "3            1.7         Europe  \n",
       "4            2.8         Europe  "
      ]
     },
     "execution_count": 15,
     "metadata": {},
     "output_type": "execute_result"
    }
   ],
   "source": [
    "#hide\n",
    "df_table = (pd.DataFrame(dict(Cases=dfc_cases, Deaths=dfc_deaths, PCases=dfp_cases, PDeaths=dfp_deaths))\n",
    "             .sort_values(by=['Cases', 'Deaths'], ascending=[False, False])\n",
    "             .reset_index())\n",
    "df_table.rename(columns={'index': 'Country/Region'}, inplace=True)\n",
    "for c in 'Cases, Deaths'.split(', '):\n",
    "    df_table[f'{c} (+)'] = (df_table[c] - df_table[f'P{c}']).clip(0)  # DATA BUG\n",
    "df_table['Fatality Rate'] = (100 * df_table['Deaths'] / df_table['Cases']).round(1)\n",
    "df_table['Continent'] = df_table['Country/Region'].map(mapping['map.continent'])\n",
    "df_table.head(5)"
   ]
  },
  {
   "cell_type": "code",
   "execution_count": 16,
   "id": "fewer-occasion",
   "metadata": {
    "execution": {
     "iopub.execute_input": "2021-10-15T12:13:46.617208Z",
     "iopub.status.busy": "2021-10-15T12:13:46.616195Z",
     "iopub.status.idle": "2021-10-15T12:13:46.620462Z",
     "shell.execute_reply": "2021-10-15T12:13:46.619850Z"
    },
    "papermill": {
     "duration": 0.054543,
     "end_time": "2021-10-15T12:13:46.620606",
     "exception": false,
     "start_time": "2021-10-15T12:13:46.566063",
     "status": "completed"
    },
    "tags": []
   },
   "outputs": [],
   "source": [
    "#hide\n",
    "#delete problematic countries from table\n",
    "df_table = df_table[~df_table['Country/Region'].isin(['Cape Verde', 'Cruise Ship', 'Kosovo'])]"
   ]
  },
  {
   "cell_type": "code",
   "execution_count": 17,
   "id": "related-center",
   "metadata": {
    "execution": {
     "iopub.execute_input": "2021-10-15T12:13:46.736133Z",
     "iopub.status.busy": "2021-10-15T12:13:46.735351Z",
     "iopub.status.idle": "2021-10-15T12:13:46.749047Z",
     "shell.execute_reply": "2021-10-15T12:13:46.749749Z"
    },
    "papermill": {
     "duration": 0.076262,
     "end_time": "2021-10-15T12:13:46.749917",
     "exception": false,
     "start_time": "2021-10-15T12:13:46.673655",
     "status": "completed"
    },
    "tags": []
   },
   "outputs": [],
   "source": [
    "#hide\n",
    "metrics = [df_table.columns[index] for index in [1,2,5,6]]\n",
    "# s_china = df_table[df_table['Country/Region'].eq('China')][metrics].sum().add_prefix('China ')\n",
    "s_us = df_table[df_table['Country/Region'].eq('US')][metrics].sum().add_prefix('US ')\n",
    "s_eu = df_table[df_table['Continent'].eq('Europe')][metrics].sum().add_prefix('EU ')\n",
    "s_ind = df_table[df_table['Country/Region'].eq('India')][metrics].sum().add_prefix('India ')\n",
    "summary = {'updated': pd.to_datetime(dt_today), 'since': pd.to_datetime(dt_yday)}\n",
    "summary = {'updated': pd.to_datetime(dt_today), 'since': pd.to_datetime(dt_yday)}\n",
    "summary = {**summary, **df_table[metrics].sum(), **s_ind, **s_us, **s_eu}"
   ]
  },
  {
   "cell_type": "code",
   "execution_count": 18,
   "id": "engaging-syndrome",
   "metadata": {
    "execution": {
     "iopub.execute_input": "2021-10-15T12:13:46.853425Z",
     "iopub.status.busy": "2021-10-15T12:13:46.852668Z",
     "iopub.status.idle": "2021-10-15T12:13:46.868899Z",
     "shell.execute_reply": "2021-10-15T12:13:46.868161Z"
    },
    "papermill": {
     "duration": 0.071905,
     "end_time": "2021-10-15T12:13:46.869161",
     "exception": false,
     "start_time": "2021-10-15T12:13:46.797256",
     "status": "completed"
    },
    "tags": []
   },
   "outputs": [],
   "source": [
    "#hide\n",
    "dft_ct_new_cases = dft_cases.groupby(COL_REGION)[dt_cols].sum().diff(axis=1).fillna(0).astype(int)"
   ]
  },
  {
   "cell_type": "code",
   "execution_count": 19,
   "id": "neutral-assignment",
   "metadata": {
    "execution": {
     "iopub.execute_input": "2021-10-15T12:13:46.979797Z",
     "iopub.status.busy": "2021-10-15T12:13:46.978942Z",
     "iopub.status.idle": "2021-10-15T12:13:46.980723Z",
     "shell.execute_reply": "2021-10-15T12:13:46.981443Z"
    },
    "papermill": {
     "duration": 0.057826,
     "end_time": "2021-10-15T12:13:46.981703",
     "exception": false,
     "start_time": "2021-10-15T12:13:46.923877",
     "status": "completed"
    },
    "tags": []
   },
   "outputs": [],
   "source": [
    "#hide\n",
    "everydaycases = dft_ct_new_cases.cumsum(axis=1)"
   ]
  },
  {
   "cell_type": "code",
   "execution_count": 20,
   "id": "parliamentary-calgary",
   "metadata": {
    "execution": {
     "iopub.execute_input": "2021-10-15T12:13:47.094233Z",
     "iopub.status.busy": "2021-10-15T12:13:47.093236Z",
     "iopub.status.idle": "2021-10-15T12:13:47.830004Z",
     "shell.execute_reply": "2021-10-15T12:13:47.829405Z"
    },
    "papermill": {
     "duration": 0.796722,
     "end_time": "2021-10-15T12:13:47.830181",
     "exception": false,
     "start_time": "2021-10-15T12:13:47.033459",
     "status": "completed"
    },
    "tags": []
   },
   "outputs": [],
   "source": [
    "#hide\n",
    "import pandas as pd\n",
    "import matplotlib.pyplot as plt\n",
    "import matplotlib.ticker as ticker\n",
    "import matplotlib.animation as animation\n",
    "from IPython.display import HTML"
   ]
  },
  {
   "cell_type": "code",
   "execution_count": 21,
   "id": "lasting-extraction",
   "metadata": {
    "execution": {
     "iopub.execute_input": "2021-10-15T12:13:47.964303Z",
     "iopub.status.busy": "2021-10-15T12:13:47.963494Z",
     "iopub.status.idle": "2021-10-15T12:13:47.970304Z",
     "shell.execute_reply": "2021-10-15T12:13:47.971280Z"
    },
    "papermill": {
     "duration": 0.070304,
     "end_time": "2021-10-15T12:13:47.971447",
     "exception": false,
     "start_time": "2021-10-15T12:13:47.901143",
     "status": "completed"
    },
    "tags": []
   },
   "outputs": [],
   "source": [
    "#hide\n",
    "t = everydaycases.stack()"
   ]
  },
  {
   "cell_type": "code",
   "execution_count": 22,
   "id": "premier-sleeve",
   "metadata": {
    "execution": {
     "iopub.execute_input": "2021-10-15T12:13:48.072779Z",
     "iopub.status.busy": "2021-10-15T12:13:48.072092Z",
     "iopub.status.idle": "2021-10-15T12:13:48.083506Z",
     "shell.execute_reply": "2021-10-15T12:13:48.082832Z"
    },
    "papermill": {
     "duration": 0.061753,
     "end_time": "2021-10-15T12:13:48.083663",
     "exception": false,
     "start_time": "2021-10-15T12:13:48.021910",
     "status": "completed"
    },
    "tags": []
   },
   "outputs": [],
   "source": [
    "#hide\n",
    "g = t.reset_index(['Country/Region'])"
   ]
  },
  {
   "cell_type": "code",
   "execution_count": 23,
   "id": "distributed-pittsburgh",
   "metadata": {
    "execution": {
     "iopub.execute_input": "2021-10-15T12:13:48.187164Z",
     "iopub.status.busy": "2021-10-15T12:13:48.185751Z",
     "iopub.status.idle": "2021-10-15T12:13:48.188484Z",
     "shell.execute_reply": "2021-10-15T12:13:48.189083Z"
    },
    "papermill": {
     "duration": 0.05688,
     "end_time": "2021-10-15T12:13:48.189246",
     "exception": false,
     "start_time": "2021-10-15T12:13:48.132366",
     "status": "completed"
    },
    "tags": []
   },
   "outputs": [],
   "source": [
    "#hide\n",
    "g.index.name = 'date'"
   ]
  },
  {
   "cell_type": "code",
   "execution_count": 24,
   "id": "naked-donor",
   "metadata": {
    "execution": {
     "iopub.execute_input": "2021-10-15T12:13:48.283745Z",
     "iopub.status.busy": "2021-10-15T12:13:48.282964Z",
     "iopub.status.idle": "2021-10-15T12:13:48.285592Z",
     "shell.execute_reply": "2021-10-15T12:13:48.284926Z"
    },
    "papermill": {
     "duration": 0.051165,
     "end_time": "2021-10-15T12:13:48.285727",
     "exception": false,
     "start_time": "2021-10-15T12:13:48.234562",
     "status": "completed"
    },
    "tags": []
   },
   "outputs": [],
   "source": [
    "# #hide\n",
    "# g = g.reset_index(['date'])"
   ]
  },
  {
   "cell_type": "code",
   "execution_count": 25,
   "id": "incomplete-mustang",
   "metadata": {
    "execution": {
     "iopub.execute_input": "2021-10-15T12:13:48.396034Z",
     "iopub.status.busy": "2021-10-15T12:13:48.395159Z",
     "iopub.status.idle": "2021-10-15T12:13:48.396961Z",
     "shell.execute_reply": "2021-10-15T12:13:48.397606Z"
    },
    "papermill": {
     "duration": 0.065223,
     "end_time": "2021-10-15T12:13:48.397761",
     "exception": false,
     "start_time": "2021-10-15T12:13:48.332538",
     "status": "completed"
    },
    "tags": []
   },
   "outputs": [],
   "source": [
    "#hide\n",
    "# g.head()"
   ]
  },
  {
   "cell_type": "code",
   "execution_count": 26,
   "id": "specific-kruger",
   "metadata": {
    "execution": {
     "iopub.execute_input": "2021-10-15T12:13:48.515574Z",
     "iopub.status.busy": "2021-10-15T12:13:48.514903Z",
     "iopub.status.idle": "2021-10-15T12:13:48.519230Z",
     "shell.execute_reply": "2021-10-15T12:13:48.518479Z"
    },
    "papermill": {
     "duration": 0.057988,
     "end_time": "2021-10-15T12:13:48.519393",
     "exception": false,
     "start_time": "2021-10-15T12:13:48.461405",
     "status": "completed"
    },
    "tags": []
   },
   "outputs": [],
   "source": [
    "#hide\n",
    "# g.columns = ['date','country','cases']"
   ]
  },
  {
   "cell_type": "code",
   "execution_count": 27,
   "id": "tender-conversion",
   "metadata": {
    "execution": {
     "iopub.execute_input": "2021-10-15T12:13:48.616106Z",
     "iopub.status.busy": "2021-10-15T12:13:48.615220Z",
     "iopub.status.idle": "2021-10-15T12:13:48.618695Z",
     "shell.execute_reply": "2021-10-15T12:13:48.619221Z"
    },
    "papermill": {
     "duration": 0.052862,
     "end_time": "2021-10-15T12:13:48.619467",
     "exception": false,
     "start_time": "2021-10-15T12:13:48.566605",
     "status": "completed"
    },
    "tags": []
   },
   "outputs": [],
   "source": [
    "#hide\n",
    "# g['continent'] = g.country"
   ]
  },
  {
   "cell_type": "code",
   "execution_count": 28,
   "id": "substantial-wilderness",
   "metadata": {
    "execution": {
     "iopub.execute_input": "2021-10-15T12:13:48.717878Z",
     "iopub.status.busy": "2021-10-15T12:13:48.717198Z",
     "iopub.status.idle": "2021-10-15T12:13:48.719735Z",
     "shell.execute_reply": "2021-10-15T12:13:48.720407Z"
    },
    "papermill": {
     "duration": 0.055377,
     "end_time": "2021-10-15T12:13:48.720597",
     "exception": false,
     "start_time": "2021-10-15T12:13:48.665220",
     "status": "completed"
    },
    "tags": []
   },
   "outputs": [],
   "source": [
    "#hide\n",
    "# cols = list(g.columns.values)"
   ]
  },
  {
   "cell_type": "code",
   "execution_count": 29,
   "id": "solved-farming",
   "metadata": {
    "execution": {
     "iopub.execute_input": "2021-10-15T12:13:48.826852Z",
     "iopub.status.busy": "2021-10-15T12:13:48.826038Z",
     "iopub.status.idle": "2021-10-15T12:13:48.827782Z",
     "shell.execute_reply": "2021-10-15T12:13:48.828578Z"
    },
    "papermill": {
     "duration": 0.062456,
     "end_time": "2021-10-15T12:13:48.828826",
     "exception": false,
     "start_time": "2021-10-15T12:13:48.766370",
     "status": "completed"
    },
    "tags": []
   },
   "outputs": [],
   "source": [
    "#hide\n",
    "# cols.insert(0, cols.pop())"
   ]
  },
  {
   "cell_type": "code",
   "execution_count": 30,
   "id": "executed-adoption",
   "metadata": {
    "execution": {
     "iopub.execute_input": "2021-10-15T12:13:49.006409Z",
     "iopub.status.busy": "2021-10-15T12:13:49.005517Z",
     "iopub.status.idle": "2021-10-15T12:13:49.011607Z",
     "shell.execute_reply": "2021-10-15T12:13:49.012637Z"
    },
    "papermill": {
     "duration": 0.076799,
     "end_time": "2021-10-15T12:13:49.012806",
     "exception": false,
     "start_time": "2021-10-15T12:13:48.936007",
     "status": "completed"
    },
    "tags": []
   },
   "outputs": [],
   "source": [
    "#hide\n",
    "# g = g[cols]"
   ]
  },
  {
   "cell_type": "code",
   "execution_count": 31,
   "id": "subject-dublin",
   "metadata": {
    "execution": {
     "iopub.execute_input": "2021-10-15T12:13:49.153493Z",
     "iopub.status.busy": "2021-10-15T12:13:49.152823Z",
     "iopub.status.idle": "2021-10-15T12:13:49.155579Z",
     "shell.execute_reply": "2021-10-15T12:13:49.156130Z"
    },
    "papermill": {
     "duration": 0.057772,
     "end_time": "2021-10-15T12:13:49.156325",
     "exception": false,
     "start_time": "2021-10-15T12:13:49.098553",
     "status": "completed"
    },
    "tags": []
   },
   "outputs": [],
   "source": [
    "#hide\n",
    "# g['continent'] = g['continent'].map(mapping['map.continent'])"
   ]
  },
  {
   "cell_type": "code",
   "execution_count": 32,
   "id": "freelance-scout",
   "metadata": {
    "execution": {
     "iopub.execute_input": "2021-10-15T12:13:49.261820Z",
     "iopub.status.busy": "2021-10-15T12:13:49.260783Z",
     "iopub.status.idle": "2021-10-15T12:13:49.264636Z",
     "shell.execute_reply": "2021-10-15T12:13:49.265359Z"
    },
    "papermill": {
     "duration": 0.058365,
     "end_time": "2021-10-15T12:13:49.265522",
     "exception": false,
     "start_time": "2021-10-15T12:13:49.207157",
     "status": "completed"
    },
    "tags": []
   },
   "outputs": [],
   "source": [
    "#hide\n",
    "# g.head()"
   ]
  },
  {
   "cell_type": "code",
   "execution_count": 33,
   "id": "limited-engine",
   "metadata": {
    "execution": {
     "iopub.execute_input": "2021-10-15T12:13:49.374172Z",
     "iopub.status.busy": "2021-10-15T12:13:49.373215Z",
     "iopub.status.idle": "2021-10-15T12:13:49.375956Z",
     "shell.execute_reply": "2021-10-15T12:13:49.375324Z"
    },
    "papermill": {
     "duration": 0.06057,
     "end_time": "2021-10-15T12:13:49.376114",
     "exception": false,
     "start_time": "2021-10-15T12:13:49.315544",
     "status": "completed"
    },
    "tags": []
   },
   "outputs": [],
   "source": [
    "# hide\n",
    "# g['date'] = g['date'].astype('datetime64[ns]')"
   ]
  },
  {
   "cell_type": "code",
   "execution_count": 34,
   "id": "sophisticated-supervisor",
   "metadata": {
    "execution": {
     "iopub.execute_input": "2021-10-15T12:13:49.488033Z",
     "iopub.status.busy": "2021-10-15T12:13:49.487073Z",
     "iopub.status.idle": "2021-10-15T12:13:49.489131Z",
     "shell.execute_reply": "2021-10-15T12:13:49.489757Z"
    },
    "papermill": {
     "duration": 0.057733,
     "end_time": "2021-10-15T12:13:49.489921",
     "exception": false,
     "start_time": "2021-10-15T12:13:49.432188",
     "status": "completed"
    },
    "tags": []
   },
   "outputs": [],
   "source": [
    "#hide\n",
    "# g['date'] = g.date.dt.dayofyear"
   ]
  },
  {
   "cell_type": "code",
   "execution_count": 35,
   "id": "inside-dubai",
   "metadata": {
    "execution": {
     "iopub.execute_input": "2021-10-15T12:13:49.595076Z",
     "iopub.status.busy": "2021-10-15T12:13:49.594126Z",
     "iopub.status.idle": "2021-10-15T12:13:49.597022Z",
     "shell.execute_reply": "2021-10-15T12:13:49.596051Z"
    },
    "papermill": {
     "duration": 0.056625,
     "end_time": "2021-10-15T12:13:49.597191",
     "exception": false,
     "start_time": "2021-10-15T12:13:49.540566",
     "status": "completed"
    },
    "tags": []
   },
   "outputs": [],
   "source": [
    "#hide\n",
    "# g = g.rename(columns= {'continent':'group','country':'name','cases':'value'})"
   ]
  },
  {
   "cell_type": "code",
   "execution_count": 36,
   "id": "fleet-motorcycle",
   "metadata": {
    "execution": {
     "iopub.execute_input": "2021-10-15T12:13:49.709288Z",
     "iopub.status.busy": "2021-10-15T12:13:49.708245Z",
     "iopub.status.idle": "2021-10-15T12:13:49.710083Z",
     "shell.execute_reply": "2021-10-15T12:13:49.710754Z"
    },
    "papermill": {
     "duration": 0.055681,
     "end_time": "2021-10-15T12:13:49.711027",
     "exception": false,
     "start_time": "2021-10-15T12:13:49.655346",
     "status": "completed"
    },
    "tags": []
   },
   "outputs": [],
   "source": [
    "#hide\n",
    "# cols = ['name','group','day','value']"
   ]
  },
  {
   "cell_type": "code",
   "execution_count": 37,
   "id": "continued-sleeping",
   "metadata": {
    "execution": {
     "iopub.execute_input": "2021-10-15T12:13:49.819548Z",
     "iopub.status.busy": "2021-10-15T12:13:49.818072Z",
     "iopub.status.idle": "2021-10-15T12:13:49.820275Z",
     "shell.execute_reply": "2021-10-15T12:13:49.818828Z"
    },
    "papermill": {
     "duration": 0.059206,
     "end_time": "2021-10-15T12:13:49.820419",
     "exception": false,
     "start_time": "2021-10-15T12:13:49.761213",
     "status": "completed"
    },
    "tags": []
   },
   "outputs": [],
   "source": [
    "#hide\n",
    "# g.rename(columns= {'date':'day'},inplace = True)"
   ]
  },
  {
   "cell_type": "code",
   "execution_count": 38,
   "id": "major-fight",
   "metadata": {
    "execution": {
     "iopub.execute_input": "2021-10-15T12:13:49.928855Z",
     "iopub.status.busy": "2021-10-15T12:13:49.927849Z",
     "iopub.status.idle": "2021-10-15T12:13:49.929536Z",
     "shell.execute_reply": "2021-10-15T12:13:49.930209Z"
    },
    "papermill": {
     "duration": 0.063724,
     "end_time": "2021-10-15T12:13:49.930368",
     "exception": false,
     "start_time": "2021-10-15T12:13:49.866644",
     "status": "completed"
    },
    "tags": []
   },
   "outputs": [],
   "source": [
    "#hide\n",
    "# g = g[cols]"
   ]
  },
  {
   "cell_type": "code",
   "execution_count": 39,
   "id": "structured-mobile",
   "metadata": {
    "execution": {
     "iopub.execute_input": "2021-10-15T12:13:50.038856Z",
     "iopub.status.busy": "2021-10-15T12:13:50.037916Z",
     "iopub.status.idle": "2021-10-15T12:13:50.040806Z",
     "shell.execute_reply": "2021-10-15T12:13:50.040032Z"
    },
    "papermill": {
     "duration": 0.053954,
     "end_time": "2021-10-15T12:13:50.040945",
     "exception": false,
     "start_time": "2021-10-15T12:13:49.986991",
     "status": "completed"
    },
    "tags": []
   },
   "outputs": [],
   "source": [
    "# #hide\n",
    "# g = g[g.group.notna()]"
   ]
  },
  {
   "cell_type": "code",
   "execution_count": 40,
   "id": "determined-closing",
   "metadata": {
    "execution": {
     "iopub.execute_input": "2021-10-15T12:13:50.153500Z",
     "iopub.status.busy": "2021-10-15T12:13:50.152608Z",
     "iopub.status.idle": "2021-10-15T12:13:50.154268Z",
     "shell.execute_reply": "2021-10-15T12:13:50.154910Z"
    },
    "papermill": {
     "duration": 0.054935,
     "end_time": "2021-10-15T12:13:50.155062",
     "exception": false,
     "start_time": "2021-10-15T12:13:50.100127",
     "status": "completed"
    },
    "tags": []
   },
   "outputs": [],
   "source": [
    "# #hide\n",
    "# colors = dict(zip(\n",
    "#     [\"Oceania\", \"Europe\", \"Asia\", \"South America\", \"Middle East\", \"North America\", \"Africa\"],\n",
    "#     [\"#adb0ff\", \"#ffb3ff\", \"#90d595\", \"#e48381\", \"#aafbff\", \"#f7bb5f\", \"#eafb50\"]\n",
    "# ))\n",
    "# group_lk = g.set_index('name')['group'].to_dict()"
   ]
  },
  {
   "cell_type": "code",
   "execution_count": null,
   "id": "gross-drinking",
   "metadata": {
    "papermill": {
     "duration": 0.043203,
     "end_time": "2021-10-15T12:13:50.244121",
     "exception": false,
     "start_time": "2021-10-15T12:13:50.200918",
     "status": "completed"
    },
    "tags": []
   },
   "outputs": [],
   "source": []
  },
  {
   "cell_type": "code",
   "execution_count": 41,
   "id": "subject-macintosh",
   "metadata": {
    "execution": {
     "iopub.execute_input": "2021-10-15T12:13:50.345975Z",
     "iopub.status.busy": "2021-10-15T12:13:50.345001Z",
     "iopub.status.idle": "2021-10-15T12:13:50.346734Z",
     "shell.execute_reply": "2021-10-15T12:13:50.347370Z"
    },
    "papermill": {
     "duration": 0.057673,
     "end_time": "2021-10-15T12:13:50.347522",
     "exception": false,
     "start_time": "2021-10-15T12:13:50.289849",
     "status": "completed"
    },
    "tags": []
   },
   "outputs": [],
   "source": [
    "# #hide\n",
    "# fig, ax = plt.subplots(figsize=(15, 8))\n",
    "\n",
    "# def draw_barchart(current_day):\n",
    "#     dff = g[g['day'].eq(current_day)].sort_values(by='value', ascending=True).tail(10)\n",
    "#     ax.clear()\n",
    "#     ax.barh(dff['name'], dff['value'], color=[colors[group_lk[x]] for x in dff['name']])\n",
    "#     dx = dff['value'].max() / 200\n",
    "    \n",
    "#     for i, (value, name) in enumerate(zip(dff['value'], dff['name'])):\n",
    "#         ax.text(value-dx, i,     name,           size=14, weight=600, ha='right', va='bottom')\n",
    "#         ax.text(value-dx, i-.25, group_lk[name], size=10, color='#444444', ha='right', va='baseline')\n",
    "#         ax.text(value+dx, i,     f'{value:,.0f}',  size=14, ha='left',  va='center')\n",
    "#     ax.text(1, 0.4, current_day, transform=ax.transAxes, color='#777777', size=46, ha='right', weight=800)\n",
    "#     ax.text(0, 1.06, 'Population (thousands)', transform=ax.transAxes, size=12, color='#777777')\n",
    "#     ax.xaxis.set_major_formatter(ticker.StrMethodFormatter('{x:,.0f}'))\n",
    "#     ax.xaxis.set_ticks_position('top')\n",
    "#     ax.tick_params(axis='x', colors='#777777', labelsize=12)\n",
    "#     ax.set_yticks([])\n",
    "#     ax.margins(0, 0.01)\n",
    "#     ax.grid(which='major', axis='x', linestyle='-')\n",
    "#     ax.set_axisbelow(True)\n",
    "    \n",
    "#     ax.text(0, 1.15, 'Coronavirus',\n",
    "#             transform=ax.transAxes, size=24, weight=600, ha='left', va='top')\n",
    "# #     ax.text(1, 0, 'by @pratapvardhan; credit @jburnmurdoch', transform=ax.transAxes, color='#777777', ha='right',\n",
    "# #             bbox=dict(facecolor='white', alpha=0.8, edgecolor='white'))\n",
    "#     plt.box(False)"
   ]
  },
  {
   "cell_type": "code",
   "execution_count": 42,
   "id": "sexual-wages",
   "metadata": {
    "execution": {
     "iopub.execute_input": "2021-10-15T12:13:50.451191Z",
     "iopub.status.busy": "2021-10-15T12:13:50.450360Z",
     "iopub.status.idle": "2021-10-15T12:13:50.451911Z",
     "shell.execute_reply": "2021-10-15T12:13:50.452525Z"
    },
    "papermill": {
     "duration": 0.056852,
     "end_time": "2021-10-15T12:13:50.452691",
     "exception": false,
     "start_time": "2021-10-15T12:13:50.395839",
     "status": "completed"
    },
    "tags": []
   },
   "outputs": [],
   "source": [
    "# #hide_input\n",
    "# fig, ax = plt.subplots(figsize=(15, 8))\n",
    "# animator = animation.FuncAnimation(fig, draw_barchart, frames=range(g.day.values.min(), g.day.values.max()))\n",
    "# HTML(animator.to_jshtml())\n",
    "# # or use animator.to_html5_video() or animator.save() "
   ]
  },
  {
   "cell_type": "code",
   "execution_count": null,
   "id": "australian-container",
   "metadata": {
    "papermill": {
     "duration": 0.046841,
     "end_time": "2021-10-15T12:13:50.549393",
     "exception": false,
     "start_time": "2021-10-15T12:13:50.502552",
     "status": "completed"
    },
    "tags": []
   },
   "outputs": [],
   "source": []
  },
  {
   "cell_type": "code",
   "execution_count": null,
   "id": "mediterranean-pontiac",
   "metadata": {
    "papermill": {
     "duration": 0.044413,
     "end_time": "2021-10-15T12:13:50.641743",
     "exception": false,
     "start_time": "2021-10-15T12:13:50.597330",
     "status": "completed"
    },
    "tags": []
   },
   "outputs": [],
   "source": []
  },
  {
   "cell_type": "code",
   "execution_count": null,
   "id": "aging-legislature",
   "metadata": {
    "papermill": {
     "duration": 0.04811,
     "end_time": "2021-10-15T12:13:50.740460",
     "exception": false,
     "start_time": "2021-10-15T12:13:50.692350",
     "status": "completed"
    },
    "tags": []
   },
   "outputs": [],
   "source": []
  }
 ],
 "metadata": {
  "kernelspec": {
   "display_name": "Python 3",
   "language": "python",
   "name": "python3"
  },
  "language_info": {
   "codemirror_mode": {
    "name": "ipython",
    "version": 3
   },
   "file_extension": ".py",
   "mimetype": "text/x-python",
   "name": "python",
   "nbconvert_exporter": "python",
   "pygments_lexer": "ipython3",
   "version": "3.6.15"
  },
  "papermill": {
   "duration": 8.924027,
   "end_time": "2021-10-15T12:13:51.206334",
   "environment_variables": {},
   "exception": null,
   "input_path": "2020-03-21-covid19exp.ipynb",
   "output_path": "2020-03-21-covid19exp.ipynb",
   "parameters": {},
   "start_time": "2021-10-15T12:13:42.282307",
   "version": "2.0.0"
  }
 },
 "nbformat": 4,
 "nbformat_minor": 5
}