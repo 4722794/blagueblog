{
 "cells": [
  {
   "cell_type": "markdown",
   "id": "muslim-click",
   "metadata": {
    "papermill": {
     "duration": 0.044542,
     "end_time": "2022-09-15T12:22:07.812277",
     "exception": false,
     "start_time": "2022-09-15T12:22:07.767735",
     "status": "completed"
    },
    "tags": []
   },
   "source": [
    "# COVID-19 Case Race\n",
    "> A race chart to see rising cases around the world\n",
    "\n",
    "- author: Hargun Oberoi\n",
    "- image: images/covid-overview.png\n",
    "- hide: false\n",
    "- badges: false"
   ]
  },
  {
   "cell_type": "code",
   "execution_count": 1,
   "id": "proof-material",
   "metadata": {
    "execution": {
     "iopub.execute_input": "2022-09-15T12:22:07.896190Z",
     "iopub.status.busy": "2022-09-15T12:22:07.895396Z",
     "iopub.status.idle": "2022-09-15T12:22:08.300694Z",
     "shell.execute_reply": "2022-09-15T12:22:08.300086Z"
    },
    "papermill": {
     "duration": 0.452917,
     "end_time": "2022-09-15T12:22:08.300850",
     "exception": false,
     "start_time": "2022-09-15T12:22:07.847933",
     "status": "completed"
    },
    "tags": []
   },
   "outputs": [],
   "source": [
    "#hide\n",
    "import numpy as np\n",
    "import pandas as pd\n",
    "from jinja2 import Template\n",
    "from IPython.display import HTML"
   ]
  },
  {
   "cell_type": "code",
   "execution_count": 2,
   "id": "developed-terminology",
   "metadata": {
    "execution": {
     "iopub.execute_input": "2022-09-15T12:22:08.385167Z",
     "iopub.status.busy": "2022-09-15T12:22:08.383063Z",
     "iopub.status.idle": "2022-09-15T12:22:08.387207Z",
     "shell.execute_reply": "2022-09-15T12:22:08.387930Z"
    },
    "papermill": {
     "duration": 0.050853,
     "end_time": "2022-09-15T12:22:08.388085",
     "exception": false,
     "start_time": "2022-09-15T12:22:08.337232",
     "status": "completed"
    },
    "tags": []
   },
   "outputs": [],
   "source": [
    "#hide\n",
    "\n",
    "# FETCH\n",
    "base_url = 'https://raw.githubusercontent.com/pratapvardhan/notebooks/master/covid19/'\n",
    "paths = {\n",
    "    'mapping': base_url + 'mapping_countries.csv',\n",
    "    'overview': base_url + 'overview.tpl'\n",
    "}"
   ]
  },
  {
   "cell_type": "code",
   "execution_count": 3,
   "id": "dynamic-saver",
   "metadata": {
    "execution": {
     "iopub.execute_input": "2022-09-15T12:22:08.474001Z",
     "iopub.status.busy": "2022-09-15T12:22:08.473297Z",
     "iopub.status.idle": "2022-09-15T12:22:08.477921Z",
     "shell.execute_reply": "2022-09-15T12:22:08.477361Z"
    },
    "papermill": {
     "duration": 0.051227,
     "end_time": "2022-09-15T12:22:08.478037",
     "exception": false,
     "start_time": "2022-09-15T12:22:08.426810",
     "status": "completed"
    },
    "tags": []
   },
   "outputs": [
    {
     "data": {
      "text/plain": [
       "'https://raw.githubusercontent.com/pratapvardhan/notebooks/master/covid19/mapping_countries.csv'"
      ]
     },
     "execution_count": 3,
     "metadata": {},
     "output_type": "execute_result"
    }
   ],
   "source": [
    "#hide\n",
    "paths['mapping']"
   ]
  },
  {
   "cell_type": "code",
   "execution_count": 4,
   "id": "urban-software",
   "metadata": {
    "execution": {
     "iopub.execute_input": "2022-09-15T12:22:08.559790Z",
     "iopub.status.busy": "2022-09-15T12:22:08.552606Z",
     "iopub.status.idle": "2022-09-15T12:22:08.565838Z",
     "shell.execute_reply": "2022-09-15T12:22:08.564789Z"
    },
    "papermill": {
     "duration": 0.052896,
     "end_time": "2022-09-15T12:22:08.565971",
     "exception": false,
     "start_time": "2022-09-15T12:22:08.513075",
     "status": "completed"
    },
    "tags": []
   },
   "outputs": [],
   "source": [
    "#hide\n",
    "def get_mappings(url):\n",
    "    df = pd.read_csv(url)\n",
    "    return {\n",
    "        'df': df,\n",
    "        'replace.country': dict(df.dropna(subset=['Name']).set_index('Country')['Name']),\n",
    "        'map.continent': dict(df.set_index('Name')['Continent'])\n",
    "    }"
   ]
  },
  {
   "cell_type": "code",
   "execution_count": 5,
   "id": "intimate-machinery",
   "metadata": {
    "execution": {
     "iopub.execute_input": "2022-09-15T12:22:08.653534Z",
     "iopub.status.busy": "2022-09-15T12:22:08.652840Z",
     "iopub.status.idle": "2022-09-15T12:22:08.683845Z",
     "shell.execute_reply": "2022-09-15T12:22:08.683249Z"
    },
    "papermill": {
     "duration": 0.074506,
     "end_time": "2022-09-15T12:22:08.683976",
     "exception": false,
     "start_time": "2022-09-15T12:22:08.609470",
     "status": "completed"
    },
    "tags": []
   },
   "outputs": [],
   "source": [
    "#hide\n",
    "mapping = get_mappings(paths['mapping'])"
   ]
  },
  {
   "cell_type": "code",
   "execution_count": 6,
   "id": "certified-tactics",
   "metadata": {
    "execution": {
     "iopub.execute_input": "2022-09-15T12:22:08.756730Z",
     "iopub.status.busy": "2022-09-15T12:22:08.756005Z",
     "iopub.status.idle": "2022-09-15T12:22:08.758874Z",
     "shell.execute_reply": "2022-09-15T12:22:08.758317Z"
    },
    "papermill": {
     "duration": 0.041212,
     "end_time": "2022-09-15T12:22:08.759000",
     "exception": false,
     "start_time": "2022-09-15T12:22:08.717788",
     "status": "completed"
    },
    "tags": []
   },
   "outputs": [],
   "source": [
    "#hide\n",
    "def get_template(path):\n",
    "    from urllib.parse import urlparse\n",
    "    if bool(urlparse(path).netloc):\n",
    "        from urllib.request import urlopen\n",
    "        return urlopen(path).read().decode('utf8')\n",
    "    return open(path).read()"
   ]
  },
  {
   "cell_type": "code",
   "execution_count": 7,
   "id": "realistic-blast",
   "metadata": {
    "execution": {
     "iopub.execute_input": "2022-09-15T12:22:08.832322Z",
     "iopub.status.busy": "2022-09-15T12:22:08.831316Z",
     "iopub.status.idle": "2022-09-15T12:22:08.833250Z",
     "shell.execute_reply": "2022-09-15T12:22:08.833951Z"
    },
    "papermill": {
     "duration": 0.041385,
     "end_time": "2022-09-15T12:22:08.834146",
     "exception": false,
     "start_time": "2022-09-15T12:22:08.792761",
     "status": "completed"
    },
    "tags": []
   },
   "outputs": [],
   "source": [
    "#hide\n",
    "def get_frame(name):\n",
    "    url = (\n",
    "        'https://raw.githubusercontent.com/CSSEGISandData/COVID-19/master/csse_covid_19_data/'\n",
    "        f'csse_covid_19_time_series/time_series_covid19_{name}_global.csv')\n",
    "    df = pd.read_csv(url)\n",
    "    # rename countries\n",
    "    df['Country/Region'] = df['Country/Region'].replace(mapping['replace.country'])\n",
    "    return df"
   ]
  },
  {
   "cell_type": "code",
   "execution_count": 8,
   "id": "affiliated-characterization",
   "metadata": {
    "execution": {
     "iopub.execute_input": "2022-09-15T12:22:08.928276Z",
     "iopub.status.busy": "2022-09-15T12:22:08.927550Z",
     "iopub.status.idle": "2022-09-15T12:22:08.930262Z",
     "shell.execute_reply": "2022-09-15T12:22:08.929705Z"
    },
    "papermill": {
     "duration": 0.058093,
     "end_time": "2022-09-15T12:22:08.930396",
     "exception": false,
     "start_time": "2022-09-15T12:22:08.872303",
     "status": "completed"
    },
    "tags": []
   },
   "outputs": [],
   "source": [
    "#hide\n",
    "def get_dates(df):\n",
    "    dt_cols = df.columns[~df.columns.isin(['Province/State', 'Country/Region', 'Lat', 'Long'])]\n",
    "    LAST_DATE_I = -1\n",
    "    # sometimes last column may be empty, then go backwards\n",
    "    for i in range(-1, -len(dt_cols), -1):\n",
    "        if not df[dt_cols[i]].fillna(0).eq(0).all():\n",
    "            LAST_DATE_I = i\n",
    "            break\n",
    "    return LAST_DATE_I, dt_cols"
   ]
  },
  {
   "cell_type": "code",
   "execution_count": 9,
   "id": "recent-optimization",
   "metadata": {
    "execution": {
     "iopub.execute_input": "2022-09-15T12:22:09.007413Z",
     "iopub.status.busy": "2022-09-15T12:22:09.006192Z",
     "iopub.status.idle": "2022-09-15T12:22:09.416253Z",
     "shell.execute_reply": "2022-09-15T12:22:09.415628Z"
    },
    "papermill": {
     "duration": 0.45121,
     "end_time": "2022-09-15T12:22:09.416393",
     "exception": false,
     "start_time": "2022-09-15T12:22:08.965183",
     "status": "completed"
    },
    "tags": []
   },
   "outputs": [],
   "source": [
    "#hide\n",
    "COL_REGION = 'Country/Region'\n",
    "# Confirmed, Recovered, Deaths\n",
    "df = get_frame('confirmed')\n",
    "# dft_: timeseries, dfc_: today country agg\n",
    "dft_cases = df\n",
    "dft_deaths = get_frame('deaths')\n",
    "dft_recovered = get_frame('recovered')\n",
    "LAST_DATE_I, dt_cols = get_dates(df)"
   ]
  },
  {
   "cell_type": "code",
   "execution_count": 10,
   "id": "absolute-copper",
   "metadata": {
    "execution": {
     "iopub.execute_input": "2022-09-15T12:22:09.507312Z",
     "iopub.status.busy": "2022-09-15T12:22:09.506585Z",
     "iopub.status.idle": "2022-09-15T12:22:09.511012Z",
     "shell.execute_reply": "2022-09-15T12:22:09.510338Z"
    },
    "papermill": {
     "duration": 0.049592,
     "end_time": "2022-09-15T12:22:09.511156",
     "exception": false,
     "start_time": "2022-09-15T12:22:09.461564",
     "status": "completed"
    },
    "tags": []
   },
   "outputs": [],
   "source": [
    "#hide\n",
    "LAST_DATE_I, dt_cols = get_dates(df)\n",
    "dt_today =dt_cols[LAST_DATE_I]\n",
    "# dt_5day = dt_cols[LAST_DATE_I - 5]\n",
    "dt_yday = dt_cols[LAST_DATE_I - 1]"
   ]
  },
  {
   "cell_type": "code",
   "execution_count": 11,
   "id": "restricted-sheriff",
   "metadata": {
    "execution": {
     "iopub.execute_input": "2022-09-15T12:22:09.585928Z",
     "iopub.status.busy": "2022-09-15T12:22:09.585253Z",
     "iopub.status.idle": "2022-09-15T12:22:09.593100Z",
     "shell.execute_reply": "2022-09-15T12:22:09.593655Z"
    },
    "papermill": {
     "duration": 0.049927,
     "end_time": "2022-09-15T12:22:09.593800",
     "exception": false,
     "start_time": "2022-09-15T12:22:09.543873",
     "status": "completed"
    },
    "tags": []
   },
   "outputs": [],
   "source": [
    "#hide\n",
    "dfc_cases = dft_cases.groupby(COL_REGION)[dt_today].sum()\n",
    "dfc_deaths = dft_deaths.groupby(COL_REGION)[dt_today].sum()\n",
    "# dfp_cases = dft_cases.groupby(COL_REGION)[dt_5day].sum()\n",
    "# dfp_deaths = dft_deaths.groupby(COL_REGION)[dt_5day].sum()\n",
    "dfp_cases = dft_cases.groupby(COL_REGION)[dt_yday].sum()\n",
    "dfp_deaths = dft_deaths.groupby(COL_REGION)[dt_yday].sum()"
   ]
  },
  {
   "cell_type": "code",
   "execution_count": 12,
   "id": "deluxe-hepatitis",
   "metadata": {
    "execution": {
     "iopub.execute_input": "2022-09-15T12:22:09.669849Z",
     "iopub.status.busy": "2022-09-15T12:22:09.669175Z",
     "iopub.status.idle": "2022-09-15T12:22:09.675705Z",
     "shell.execute_reply": "2022-09-15T12:22:09.675016Z"
    },
    "papermill": {
     "duration": 0.048355,
     "end_time": "2022-09-15T12:22:09.675822",
     "exception": false,
     "start_time": "2022-09-15T12:22:09.627467",
     "status": "completed"
    },
    "tags": []
   },
   "outputs": [],
   "source": [
    "#hide\n",
    "df_table = (pd.DataFrame(dict(Cases = dfc_cases, Deaths = dfc_deaths, PCases = dfp_cases, PDeaths = dfp_deaths))\n",
    "            .sort_values(by = ['Cases','Deaths'], ascending = [False, False])\n",
    "            .reset_index())"
   ]
  },
  {
   "cell_type": "code",
   "execution_count": 13,
   "id": "educational-chancellor",
   "metadata": {
    "execution": {
     "iopub.execute_input": "2022-09-15T12:22:09.763660Z",
     "iopub.status.busy": "2022-09-15T12:22:09.762911Z",
     "iopub.status.idle": "2022-09-15T12:22:09.772308Z",
     "shell.execute_reply": "2022-09-15T12:22:09.772798Z"
    },
    "papermill": {
     "duration": 0.064435,
     "end_time": "2022-09-15T12:22:09.772961",
     "exception": false,
     "start_time": "2022-09-15T12:22:09.708526",
     "status": "completed"
    },
    "tags": []
   },
   "outputs": [
    {
     "data": {
      "text/html": [
       "<div>\n",
       "<style scoped>\n",
       "    .dataframe tbody tr th:only-of-type {\n",
       "        vertical-align: middle;\n",
       "    }\n",
       "\n",
       "    .dataframe tbody tr th {\n",
       "        vertical-align: top;\n",
       "    }\n",
       "\n",
       "    .dataframe thead th {\n",
       "        text-align: right;\n",
       "    }\n",
       "</style>\n",
       "<table border=\"1\" class=\"dataframe\">\n",
       "  <thead>\n",
       "    <tr style=\"text-align: right;\">\n",
       "      <th></th>\n",
       "      <th>Country/Region</th>\n",
       "      <th>Cases</th>\n",
       "      <th>Deaths</th>\n",
       "      <th>PCases</th>\n",
       "      <th>PDeaths</th>\n",
       "      <th>Cases (+)</th>\n",
       "      <th>Deaths (+)</th>\n",
       "      <th>Fatality Rate</th>\n",
       "      <th>Continent</th>\n",
       "    </tr>\n",
       "  </thead>\n",
       "  <tbody>\n",
       "    <tr>\n",
       "      <th>0</th>\n",
       "      <td>US</td>\n",
       "      <td>95490495</td>\n",
       "      <td>1052214</td>\n",
       "      <td>95387022</td>\n",
       "      <td>1051277</td>\n",
       "      <td>103473</td>\n",
       "      <td>937</td>\n",
       "      <td>1.10</td>\n",
       "      <td>North America</td>\n",
       "    </tr>\n",
       "    <tr>\n",
       "      <th>1</th>\n",
       "      <td>India</td>\n",
       "      <td>44516479</td>\n",
       "      <td>528250</td>\n",
       "      <td>44510057</td>\n",
       "      <td>528216</td>\n",
       "      <td>6422</td>\n",
       "      <td>34</td>\n",
       "      <td>1.19</td>\n",
       "      <td>Asia</td>\n",
       "    </tr>\n",
       "    <tr>\n",
       "      <th>2</th>\n",
       "      <td>France</td>\n",
       "      <td>35015024</td>\n",
       "      <td>155651</td>\n",
       "      <td>34985401</td>\n",
       "      <td>155633</td>\n",
       "      <td>29623</td>\n",
       "      <td>18</td>\n",
       "      <td>0.44</td>\n",
       "      <td>Europe</td>\n",
       "    </tr>\n",
       "    <tr>\n",
       "      <th>3</th>\n",
       "      <td>Brazil</td>\n",
       "      <td>34558902</td>\n",
       "      <td>685121</td>\n",
       "      <td>34544377</td>\n",
       "      <td>685002</td>\n",
       "      <td>14525</td>\n",
       "      <td>119</td>\n",
       "      <td>1.98</td>\n",
       "      <td>South America</td>\n",
       "    </tr>\n",
       "    <tr>\n",
       "      <th>4</th>\n",
       "      <td>Germany</td>\n",
       "      <td>32604993</td>\n",
       "      <td>148728</td>\n",
       "      <td>32558479</td>\n",
       "      <td>148498</td>\n",
       "      <td>46514</td>\n",
       "      <td>230</td>\n",
       "      <td>0.46</td>\n",
       "      <td>Europe</td>\n",
       "    </tr>\n",
       "  </tbody>\n",
       "</table>\n",
       "</div>"
      ],
      "text/plain": [
       "  Country/Region     Cases   Deaths    PCases  PDeaths  Cases (+)  Deaths (+)  \\\n",
       "0             US  95490495  1052214  95387022  1051277     103473         937   \n",
       "1          India  44516479   528250  44510057   528216       6422          34   \n",
       "2         France  35015024   155651  34985401   155633      29623          18   \n",
       "3         Brazil  34558902   685121  34544377   685002      14525         119   \n",
       "4        Germany  32604993   148728  32558479   148498      46514         230   \n",
       "\n",
       "   Fatality Rate      Continent  \n",
       "0           1.10  North America  \n",
       "1           1.19           Asia  \n",
       "2           0.44         Europe  \n",
       "3           1.98  South America  \n",
       "4           0.46         Europe  "
      ]
     },
     "execution_count": 13,
     "metadata": {},
     "output_type": "execute_result"
    }
   ],
   "source": [
    "#hide\n",
    "for c in 'Cases, Deaths'.split(', '):\n",
    "    df_table[f'{c} (+)'] = (df_table[c] - df_table[f'P{c}']).clip(0)\n",
    "    #Clip ça veut dire, les chiffres negatif sont interdit\n",
    "df_table['Fatality Rate'] = (100* df_table['Deaths']/ df_table['Cases']).round(2)\n",
    "df_table['Continent'] = df_table['Country/Region'].map(mapping['map.continent'])\n",
    "df_table.head(5)"
   ]
  },
  {
   "cell_type": "code",
   "execution_count": 14,
   "id": "aboriginal-bulgaria",
   "metadata": {
    "execution": {
     "iopub.execute_input": "2022-09-15T12:22:09.854160Z",
     "iopub.status.busy": "2022-09-15T12:22:09.853453Z",
     "iopub.status.idle": "2022-09-15T12:22:09.856438Z",
     "shell.execute_reply": "2022-09-15T12:22:09.855860Z"
    },
    "papermill": {
     "duration": 0.047582,
     "end_time": "2022-09-15T12:22:09.856566",
     "exception": false,
     "start_time": "2022-09-15T12:22:09.808984",
     "status": "completed"
    },
    "tags": []
   },
   "outputs": [],
   "source": [
    "#hide\n",
    "#delete problematic countries from table\n",
    "df_table = df_table[~df_table['Country/Region'].isin(['Cape Verde', 'Cruise Ship', 'Kosovo'])]"
   ]
  },
  {
   "cell_type": "code",
   "execution_count": 15,
   "id": "fantastic-effect",
   "metadata": {
    "execution": {
     "iopub.execute_input": "2022-09-15T12:22:09.937351Z",
     "iopub.status.busy": "2022-09-15T12:22:09.936634Z",
     "iopub.status.idle": "2022-09-15T12:22:09.957411Z",
     "shell.execute_reply": "2022-09-15T12:22:09.956872Z"
    },
    "papermill": {
     "duration": 0.067128,
     "end_time": "2022-09-15T12:22:09.957545",
     "exception": false,
     "start_time": "2022-09-15T12:22:09.890417",
     "status": "completed"
    },
    "tags": []
   },
   "outputs": [
    {
     "data": {
      "text/html": [
       "<div>\n",
       "<style scoped>\n",
       "    .dataframe tbody tr th:only-of-type {\n",
       "        vertical-align: middle;\n",
       "    }\n",
       "\n",
       "    .dataframe tbody tr th {\n",
       "        vertical-align: top;\n",
       "    }\n",
       "\n",
       "    .dataframe thead th {\n",
       "        text-align: right;\n",
       "    }\n",
       "</style>\n",
       "<table border=\"1\" class=\"dataframe\">\n",
       "  <thead>\n",
       "    <tr style=\"text-align: right;\">\n",
       "      <th></th>\n",
       "      <th>Country/Region</th>\n",
       "      <th>Cases</th>\n",
       "      <th>Deaths</th>\n",
       "      <th>PCases</th>\n",
       "      <th>PDeaths</th>\n",
       "      <th>Cases (+)</th>\n",
       "      <th>Deaths (+)</th>\n",
       "      <th>Fatality Rate</th>\n",
       "      <th>Continent</th>\n",
       "    </tr>\n",
       "  </thead>\n",
       "  <tbody>\n",
       "    <tr>\n",
       "      <th>0</th>\n",
       "      <td>US</td>\n",
       "      <td>95490495</td>\n",
       "      <td>1052214</td>\n",
       "      <td>95387022</td>\n",
       "      <td>1051277</td>\n",
       "      <td>103473</td>\n",
       "      <td>937</td>\n",
       "      <td>1.1</td>\n",
       "      <td>North America</td>\n",
       "    </tr>\n",
       "    <tr>\n",
       "      <th>1</th>\n",
       "      <td>India</td>\n",
       "      <td>44516479</td>\n",
       "      <td>528250</td>\n",
       "      <td>44510057</td>\n",
       "      <td>528216</td>\n",
       "      <td>6422</td>\n",
       "      <td>34</td>\n",
       "      <td>1.2</td>\n",
       "      <td>Asia</td>\n",
       "    </tr>\n",
       "    <tr>\n",
       "      <th>2</th>\n",
       "      <td>France</td>\n",
       "      <td>35015024</td>\n",
       "      <td>155651</td>\n",
       "      <td>34985401</td>\n",
       "      <td>155633</td>\n",
       "      <td>29623</td>\n",
       "      <td>18</td>\n",
       "      <td>0.4</td>\n",
       "      <td>Europe</td>\n",
       "    </tr>\n",
       "    <tr>\n",
       "      <th>3</th>\n",
       "      <td>Brazil</td>\n",
       "      <td>34558902</td>\n",
       "      <td>685121</td>\n",
       "      <td>34544377</td>\n",
       "      <td>685002</td>\n",
       "      <td>14525</td>\n",
       "      <td>119</td>\n",
       "      <td>2.0</td>\n",
       "      <td>South America</td>\n",
       "    </tr>\n",
       "    <tr>\n",
       "      <th>4</th>\n",
       "      <td>Germany</td>\n",
       "      <td>32604993</td>\n",
       "      <td>148728</td>\n",
       "      <td>32558479</td>\n",
       "      <td>148498</td>\n",
       "      <td>46514</td>\n",
       "      <td>230</td>\n",
       "      <td>0.5</td>\n",
       "      <td>Europe</td>\n",
       "    </tr>\n",
       "  </tbody>\n",
       "</table>\n",
       "</div>"
      ],
      "text/plain": [
       "  Country/Region     Cases   Deaths    PCases  PDeaths  Cases (+)  Deaths (+)  \\\n",
       "0             US  95490495  1052214  95387022  1051277     103473         937   \n",
       "1          India  44516479   528250  44510057   528216       6422          34   \n",
       "2         France  35015024   155651  34985401   155633      29623          18   \n",
       "3         Brazil  34558902   685121  34544377   685002      14525         119   \n",
       "4        Germany  32604993   148728  32558479   148498      46514         230   \n",
       "\n",
       "   Fatality Rate      Continent  \n",
       "0            1.1  North America  \n",
       "1            1.2           Asia  \n",
       "2            0.4         Europe  \n",
       "3            2.0  South America  \n",
       "4            0.5         Europe  "
      ]
     },
     "execution_count": 15,
     "metadata": {},
     "output_type": "execute_result"
    }
   ],
   "source": [
    "#hide\n",
    "df_table = (pd.DataFrame(dict(Cases=dfc_cases, Deaths=dfc_deaths, PCases=dfp_cases, PDeaths=dfp_deaths))\n",
    "             .sort_values(by=['Cases', 'Deaths'], ascending=[False, False])\n",
    "             .reset_index())\n",
    "df_table.rename(columns={'index': 'Country/Region'}, inplace=True)\n",
    "for c in 'Cases, Deaths'.split(', '):\n",
    "    df_table[f'{c} (+)'] = (df_table[c] - df_table[f'P{c}']).clip(0)  # DATA BUG\n",
    "df_table['Fatality Rate'] = (100 * df_table['Deaths'] / df_table['Cases']).round(1)\n",
    "df_table['Continent'] = df_table['Country/Region'].map(mapping['map.continent'])\n",
    "df_table.head(5)"
   ]
  },
  {
   "cell_type": "code",
   "execution_count": 16,
   "id": "fewer-occasion",
   "metadata": {
    "execution": {
     "iopub.execute_input": "2022-09-15T12:22:10.056802Z",
     "iopub.status.busy": "2022-09-15T12:22:10.055617Z",
     "iopub.status.idle": "2022-09-15T12:22:10.059878Z",
     "shell.execute_reply": "2022-09-15T12:22:10.059334Z"
    },
    "papermill": {
     "duration": 0.061088,
     "end_time": "2022-09-15T12:22:10.060010",
     "exception": false,
     "start_time": "2022-09-15T12:22:09.998922",
     "status": "completed"
    },
    "tags": []
   },
   "outputs": [],
   "source": [
    "#hide\n",
    "#delete problematic countries from table\n",
    "df_table = df_table[~df_table['Country/Region'].isin(['Cape Verde', 'Cruise Ship', 'Kosovo'])]"
   ]
  },
  {
   "cell_type": "code",
   "execution_count": 17,
   "id": "related-center",
   "metadata": {
    "execution": {
     "iopub.execute_input": "2022-09-15T12:22:10.142963Z",
     "iopub.status.busy": "2022-09-15T12:22:10.142318Z",
     "iopub.status.idle": "2022-09-15T12:22:10.156940Z",
     "shell.execute_reply": "2022-09-15T12:22:10.156276Z"
    },
    "papermill": {
     "duration": 0.060573,
     "end_time": "2022-09-15T12:22:10.157068",
     "exception": false,
     "start_time": "2022-09-15T12:22:10.096495",
     "status": "completed"
    },
    "tags": []
   },
   "outputs": [],
   "source": [
    "#hide\n",
    "metrics = [df_table.columns[index] for index in [1,2,5,6]]\n",
    "# s_china = df_table[df_table['Country/Region'].eq('China')][metrics].sum().add_prefix('China ')\n",
    "s_us = df_table[df_table['Country/Region'].eq('US')][metrics].sum().add_prefix('US ')\n",
    "s_eu = df_table[df_table['Continent'].eq('Europe')][metrics].sum().add_prefix('EU ')\n",
    "s_ind = df_table[df_table['Country/Region'].eq('India')][metrics].sum().add_prefix('India ')\n",
    "summary = {'updated': pd.to_datetime(dt_today), 'since': pd.to_datetime(dt_yday)}\n",
    "summary = {'updated': pd.to_datetime(dt_today), 'since': pd.to_datetime(dt_yday)}\n",
    "summary = {**summary, **df_table[metrics].sum(), **s_ind, **s_us, **s_eu}"
   ]
  },
  {
   "cell_type": "code",
   "execution_count": 18,
   "id": "engaging-syndrome",
   "metadata": {
    "execution": {
     "iopub.execute_input": "2022-09-15T12:22:10.237711Z",
     "iopub.status.busy": "2022-09-15T12:22:10.237018Z",
     "iopub.status.idle": "2022-09-15T12:22:10.260233Z",
     "shell.execute_reply": "2022-09-15T12:22:10.259592Z"
    },
    "papermill": {
     "duration": 0.066721,
     "end_time": "2022-09-15T12:22:10.260554",
     "exception": false,
     "start_time": "2022-09-15T12:22:10.193833",
     "status": "completed"
    },
    "tags": []
   },
   "outputs": [],
   "source": [
    "#hide\n",
    "dft_ct_new_cases = dft_cases.groupby(COL_REGION)[dt_cols].sum().diff(axis=1).fillna(0).astype(int)"
   ]
  },
  {
   "cell_type": "code",
   "execution_count": 19,
   "id": "neutral-assignment",
   "metadata": {
    "execution": {
     "iopub.execute_input": "2022-09-15T12:22:10.344859Z",
     "iopub.status.busy": "2022-09-15T12:22:10.344167Z",
     "iopub.status.idle": "2022-09-15T12:22:10.347301Z",
     "shell.execute_reply": "2022-09-15T12:22:10.346686Z"
    },
    "papermill": {
     "duration": 0.049617,
     "end_time": "2022-09-15T12:22:10.347429",
     "exception": false,
     "start_time": "2022-09-15T12:22:10.297812",
     "status": "completed"
    },
    "tags": []
   },
   "outputs": [],
   "source": [
    "#hide\n",
    "everydaycases = dft_ct_new_cases.cumsum(axis=1)"
   ]
  },
  {
   "cell_type": "code",
   "execution_count": 20,
   "id": "parliamentary-calgary",
   "metadata": {
    "execution": {
     "iopub.execute_input": "2022-09-15T12:22:10.421484Z",
     "iopub.status.busy": "2022-09-15T12:22:10.420788Z",
     "iopub.status.idle": "2022-09-15T12:22:11.125868Z",
     "shell.execute_reply": "2022-09-15T12:22:11.125258Z"
    },
    "papermill": {
     "duration": 0.74424,
     "end_time": "2022-09-15T12:22:11.126003",
     "exception": false,
     "start_time": "2022-09-15T12:22:10.381763",
     "status": "completed"
    },
    "tags": []
   },
   "outputs": [],
   "source": [
    "#hide\n",
    "import pandas as pd\n",
    "import matplotlib.pyplot as plt\n",
    "import matplotlib.ticker as ticker\n",
    "import matplotlib.animation as animation\n",
    "from IPython.display import HTML"
   ]
  },
  {
   "cell_type": "code",
   "execution_count": 21,
   "id": "lasting-extraction",
   "metadata": {
    "execution": {
     "iopub.execute_input": "2022-09-15T12:22:11.202791Z",
     "iopub.status.busy": "2022-09-15T12:22:11.202146Z",
     "iopub.status.idle": "2022-09-15T12:22:11.215069Z",
     "shell.execute_reply": "2022-09-15T12:22:11.214533Z"
    },
    "papermill": {
     "duration": 0.055099,
     "end_time": "2022-09-15T12:22:11.215222",
     "exception": false,
     "start_time": "2022-09-15T12:22:11.160123",
     "status": "completed"
    },
    "tags": []
   },
   "outputs": [],
   "source": [
    "#hide\n",
    "t = everydaycases.stack()"
   ]
  },
  {
   "cell_type": "code",
   "execution_count": 22,
   "id": "premier-sleeve",
   "metadata": {
    "execution": {
     "iopub.execute_input": "2022-09-15T12:22:11.289755Z",
     "iopub.status.busy": "2022-09-15T12:22:11.289056Z",
     "iopub.status.idle": "2022-09-15T12:22:11.304953Z",
     "shell.execute_reply": "2022-09-15T12:22:11.304397Z"
    },
    "papermill": {
     "duration": 0.055628,
     "end_time": "2022-09-15T12:22:11.305080",
     "exception": false,
     "start_time": "2022-09-15T12:22:11.249452",
     "status": "completed"
    },
    "tags": []
   },
   "outputs": [],
   "source": [
    "#hide\n",
    "g = t.reset_index(['Country/Region'])"
   ]
  },
  {
   "cell_type": "code",
   "execution_count": 23,
   "id": "distributed-pittsburgh",
   "metadata": {
    "execution": {
     "iopub.execute_input": "2022-09-15T12:22:11.378132Z",
     "iopub.status.busy": "2022-09-15T12:22:11.377458Z",
     "iopub.status.idle": "2022-09-15T12:22:11.380325Z",
     "shell.execute_reply": "2022-09-15T12:22:11.379568Z"
    },
    "papermill": {
     "duration": 0.041654,
     "end_time": "2022-09-15T12:22:11.380552",
     "exception": false,
     "start_time": "2022-09-15T12:22:11.338898",
     "status": "completed"
    },
    "tags": []
   },
   "outputs": [],
   "source": [
    "#hide\n",
    "g.index.name = 'date'"
   ]
  },
  {
   "cell_type": "code",
   "execution_count": 24,
   "id": "naked-donor",
   "metadata": {
    "execution": {
     "iopub.execute_input": "2022-09-15T12:22:11.462326Z",
     "iopub.status.busy": "2022-09-15T12:22:11.461581Z",
     "iopub.status.idle": "2022-09-15T12:22:11.466001Z",
     "shell.execute_reply": "2022-09-15T12:22:11.465449Z"
    },
    "papermill": {
     "duration": 0.04398,
     "end_time": "2022-09-15T12:22:11.466125",
     "exception": false,
     "start_time": "2022-09-15T12:22:11.422145",
     "status": "completed"
    },
    "tags": []
   },
   "outputs": [],
   "source": [
    "# #hide\n",
    "# g = g.reset_index(['date'])"
   ]
  },
  {
   "cell_type": "code",
   "execution_count": 25,
   "id": "incomplete-mustang",
   "metadata": {
    "execution": {
     "iopub.execute_input": "2022-09-15T12:22:11.539400Z",
     "iopub.status.busy": "2022-09-15T12:22:11.538723Z",
     "iopub.status.idle": "2022-09-15T12:22:11.542163Z",
     "shell.execute_reply": "2022-09-15T12:22:11.542646Z"
    },
    "papermill": {
     "duration": 0.041942,
     "end_time": "2022-09-15T12:22:11.542807",
     "exception": false,
     "start_time": "2022-09-15T12:22:11.500865",
     "status": "completed"
    },
    "tags": []
   },
   "outputs": [],
   "source": [
    "#hide\n",
    "# g.head()"
   ]
  },
  {
   "cell_type": "code",
   "execution_count": 26,
   "id": "specific-kruger",
   "metadata": {
    "execution": {
     "iopub.execute_input": "2022-09-15T12:22:11.626965Z",
     "iopub.status.busy": "2022-09-15T12:22:11.626257Z",
     "iopub.status.idle": "2022-09-15T12:22:11.631661Z",
     "shell.execute_reply": "2022-09-15T12:22:11.630955Z"
    },
    "papermill": {
     "duration": 0.048911,
     "end_time": "2022-09-15T12:22:11.631796",
     "exception": false,
     "start_time": "2022-09-15T12:22:11.582885",
     "status": "completed"
    },
    "tags": []
   },
   "outputs": [],
   "source": [
    "#hide\n",
    "# g.columns = ['date','country','cases']"
   ]
  },
  {
   "cell_type": "code",
   "execution_count": 27,
   "id": "tender-conversion",
   "metadata": {
    "execution": {
     "iopub.execute_input": "2022-09-15T12:22:11.713945Z",
     "iopub.status.busy": "2022-09-15T12:22:11.713101Z",
     "iopub.status.idle": "2022-09-15T12:22:11.715106Z",
     "shell.execute_reply": "2022-09-15T12:22:11.714564Z"
    },
    "papermill": {
     "duration": 0.046391,
     "end_time": "2022-09-15T12:22:11.715257",
     "exception": false,
     "start_time": "2022-09-15T12:22:11.668866",
     "status": "completed"
    },
    "tags": []
   },
   "outputs": [],
   "source": [
    "#hide\n",
    "# g['continent'] = g.country"
   ]
  },
  {
   "cell_type": "code",
   "execution_count": 28,
   "id": "substantial-wilderness",
   "metadata": {
    "execution": {
     "iopub.execute_input": "2022-09-15T12:22:11.788135Z",
     "iopub.status.busy": "2022-09-15T12:22:11.787478Z",
     "iopub.status.idle": "2022-09-15T12:22:11.790564Z",
     "shell.execute_reply": "2022-09-15T12:22:11.791047Z"
    },
    "papermill": {
     "duration": 0.041983,
     "end_time": "2022-09-15T12:22:11.791205",
     "exception": false,
     "start_time": "2022-09-15T12:22:11.749222",
     "status": "completed"
    },
    "tags": []
   },
   "outputs": [],
   "source": [
    "#hide\n",
    "# cols = list(g.columns.values)"
   ]
  },
  {
   "cell_type": "code",
   "execution_count": 29,
   "id": "solved-farming",
   "metadata": {
    "execution": {
     "iopub.execute_input": "2022-09-15T12:22:11.867012Z",
     "iopub.status.busy": "2022-09-15T12:22:11.866302Z",
     "iopub.status.idle": "2022-09-15T12:22:11.870534Z",
     "shell.execute_reply": "2022-09-15T12:22:11.871061Z"
    },
    "papermill": {
     "duration": 0.043909,
     "end_time": "2022-09-15T12:22:11.871236",
     "exception": false,
     "start_time": "2022-09-15T12:22:11.827327",
     "status": "completed"
    },
    "tags": []
   },
   "outputs": [],
   "source": [
    "#hide\n",
    "# cols.insert(0, cols.pop())"
   ]
  },
  {
   "cell_type": "code",
   "execution_count": 30,
   "id": "executed-adoption",
   "metadata": {
    "execution": {
     "iopub.execute_input": "2022-09-15T12:22:11.947535Z",
     "iopub.status.busy": "2022-09-15T12:22:11.946841Z",
     "iopub.status.idle": "2022-09-15T12:22:11.948995Z",
     "shell.execute_reply": "2022-09-15T12:22:11.949451Z"
    },
    "papermill": {
     "duration": 0.043625,
     "end_time": "2022-09-15T12:22:11.949625",
     "exception": false,
     "start_time": "2022-09-15T12:22:11.906000",
     "status": "completed"
    },
    "tags": []
   },
   "outputs": [],
   "source": [
    "#hide\n",
    "# g = g[cols]"
   ]
  },
  {
   "cell_type": "code",
   "execution_count": 31,
   "id": "subject-dublin",
   "metadata": {
    "execution": {
     "iopub.execute_input": "2022-09-15T12:22:12.022691Z",
     "iopub.status.busy": "2022-09-15T12:22:12.022009Z",
     "iopub.status.idle": "2022-09-15T12:22:12.024861Z",
     "shell.execute_reply": "2022-09-15T12:22:12.024181Z"
    },
    "papermill": {
     "duration": 0.040986,
     "end_time": "2022-09-15T12:22:12.024987",
     "exception": false,
     "start_time": "2022-09-15T12:22:11.984001",
     "status": "completed"
    },
    "tags": []
   },
   "outputs": [],
   "source": [
    "#hide\n",
    "# g['continent'] = g['continent'].map(mapping['map.continent'])"
   ]
  },
  {
   "cell_type": "code",
   "execution_count": 32,
   "id": "freelance-scout",
   "metadata": {
    "execution": {
     "iopub.execute_input": "2022-09-15T12:22:12.101123Z",
     "iopub.status.busy": "2022-09-15T12:22:12.100416Z",
     "iopub.status.idle": "2022-09-15T12:22:12.103163Z",
     "shell.execute_reply": "2022-09-15T12:22:12.102484Z"
    },
    "papermill": {
     "duration": 0.043171,
     "end_time": "2022-09-15T12:22:12.103293",
     "exception": false,
     "start_time": "2022-09-15T12:22:12.060122",
     "status": "completed"
    },
    "tags": []
   },
   "outputs": [],
   "source": [
    "#hide\n",
    "# g.head()"
   ]
  },
  {
   "cell_type": "code",
   "execution_count": 33,
   "id": "limited-engine",
   "metadata": {
    "execution": {
     "iopub.execute_input": "2022-09-15T12:22:12.178882Z",
     "iopub.status.busy": "2022-09-15T12:22:12.177674Z",
     "iopub.status.idle": "2022-09-15T12:22:12.180234Z",
     "shell.execute_reply": "2022-09-15T12:22:12.181079Z"
    },
    "papermill": {
     "duration": 0.043471,
     "end_time": "2022-09-15T12:22:12.181211",
     "exception": false,
     "start_time": "2022-09-15T12:22:12.137740",
     "status": "completed"
    },
    "tags": []
   },
   "outputs": [],
   "source": [
    "# hide\n",
    "# g['date'] = g['date'].astype('datetime64[ns]')"
   ]
  },
  {
   "cell_type": "code",
   "execution_count": 34,
   "id": "sophisticated-supervisor",
   "metadata": {
    "execution": {
     "iopub.execute_input": "2022-09-15T12:22:12.259382Z",
     "iopub.status.busy": "2022-09-15T12:22:12.258307Z",
     "iopub.status.idle": "2022-09-15T12:22:12.262648Z",
     "shell.execute_reply": "2022-09-15T12:22:12.263619Z"
    },
    "papermill": {
     "duration": 0.046425,
     "end_time": "2022-09-15T12:22:12.263789",
     "exception": false,
     "start_time": "2022-09-15T12:22:12.217364",
     "status": "completed"
    },
    "tags": []
   },
   "outputs": [],
   "source": [
    "#hide\n",
    "# g['date'] = g.date.dt.dayofyear"
   ]
  },
  {
   "cell_type": "code",
   "execution_count": 35,
   "id": "inside-dubai",
   "metadata": {
    "execution": {
     "iopub.execute_input": "2022-09-15T12:22:12.343166Z",
     "iopub.status.busy": "2022-09-15T12:22:12.342459Z",
     "iopub.status.idle": "2022-09-15T12:22:12.345397Z",
     "shell.execute_reply": "2022-09-15T12:22:12.345919Z"
    },
    "papermill": {
     "duration": 0.04561,
     "end_time": "2022-09-15T12:22:12.346054",
     "exception": false,
     "start_time": "2022-09-15T12:22:12.300444",
     "status": "completed"
    },
    "tags": []
   },
   "outputs": [],
   "source": [
    "#hide\n",
    "# g = g.rename(columns= {'continent':'group','country':'name','cases':'value'})"
   ]
  },
  {
   "cell_type": "code",
   "execution_count": 36,
   "id": "fleet-motorcycle",
   "metadata": {
    "execution": {
     "iopub.execute_input": "2022-09-15T12:22:12.427213Z",
     "iopub.status.busy": "2022-09-15T12:22:12.426480Z",
     "iopub.status.idle": "2022-09-15T12:22:12.429048Z",
     "shell.execute_reply": "2022-09-15T12:22:12.429541Z"
    },
    "papermill": {
     "duration": 0.044468,
     "end_time": "2022-09-15T12:22:12.429710",
     "exception": false,
     "start_time": "2022-09-15T12:22:12.385242",
     "status": "completed"
    },
    "tags": []
   },
   "outputs": [],
   "source": [
    "#hide\n",
    "# cols = ['name','group','day','value']"
   ]
  },
  {
   "cell_type": "code",
   "execution_count": 37,
   "id": "continued-sleeping",
   "metadata": {
    "execution": {
     "iopub.execute_input": "2022-09-15T12:22:12.504057Z",
     "iopub.status.busy": "2022-09-15T12:22:12.503362Z",
     "iopub.status.idle": "2022-09-15T12:22:12.506538Z",
     "shell.execute_reply": "2022-09-15T12:22:12.507221Z"
    },
    "papermill": {
     "duration": 0.042981,
     "end_time": "2022-09-15T12:22:12.507371",
     "exception": false,
     "start_time": "2022-09-15T12:22:12.464390",
     "status": "completed"
    },
    "tags": []
   },
   "outputs": [],
   "source": [
    "#hide\n",
    "# g.rename(columns= {'date':'day'},inplace = True)"
   ]
  },
  {
   "cell_type": "code",
   "execution_count": 38,
   "id": "major-fight",
   "metadata": {
    "execution": {
     "iopub.execute_input": "2022-09-15T12:22:12.579011Z",
     "iopub.status.busy": "2022-09-15T12:22:12.578367Z",
     "iopub.status.idle": "2022-09-15T12:22:12.580891Z",
     "shell.execute_reply": "2022-09-15T12:22:12.581352Z"
    },
    "papermill": {
     "duration": 0.040929,
     "end_time": "2022-09-15T12:22:12.581490",
     "exception": false,
     "start_time": "2022-09-15T12:22:12.540561",
     "status": "completed"
    },
    "tags": []
   },
   "outputs": [],
   "source": [
    "#hide\n",
    "# g = g[cols]"
   ]
  },
  {
   "cell_type": "code",
   "execution_count": 39,
   "id": "structured-mobile",
   "metadata": {
    "execution": {
     "iopub.execute_input": "2022-09-15T12:22:12.653299Z",
     "iopub.status.busy": "2022-09-15T12:22:12.652549Z",
     "iopub.status.idle": "2022-09-15T12:22:12.655896Z",
     "shell.execute_reply": "2022-09-15T12:22:12.654917Z"
    },
    "papermill": {
     "duration": 0.041757,
     "end_time": "2022-09-15T12:22:12.656037",
     "exception": false,
     "start_time": "2022-09-15T12:22:12.614280",
     "status": "completed"
    },
    "tags": []
   },
   "outputs": [],
   "source": [
    "# #hide\n",
    "# g = g[g.group.notna()]"
   ]
  },
  {
   "cell_type": "code",
   "execution_count": 40,
   "id": "determined-closing",
   "metadata": {
    "execution": {
     "iopub.execute_input": "2022-09-15T12:22:12.740399Z",
     "iopub.status.busy": "2022-09-15T12:22:12.739719Z",
     "iopub.status.idle": "2022-09-15T12:22:12.743391Z",
     "shell.execute_reply": "2022-09-15T12:22:12.742595Z"
    },
    "papermill": {
     "duration": 0.052257,
     "end_time": "2022-09-15T12:22:12.743522",
     "exception": false,
     "start_time": "2022-09-15T12:22:12.691265",
     "status": "completed"
    },
    "tags": []
   },
   "outputs": [],
   "source": [
    "# #hide\n",
    "# colors = dict(zip(\n",
    "#     [\"Oceania\", \"Europe\", \"Asia\", \"South America\", \"Middle East\", \"North America\", \"Africa\"],\n",
    "#     [\"#adb0ff\", \"#ffb3ff\", \"#90d595\", \"#e48381\", \"#aafbff\", \"#f7bb5f\", \"#eafb50\"]\n",
    "# ))\n",
    "# group_lk = g.set_index('name')['group'].to_dict()"
   ]
  },
  {
   "cell_type": "code",
   "execution_count": null,
   "id": "gross-drinking",
   "metadata": {
    "papermill": {
     "duration": 0.03609,
     "end_time": "2022-09-15T12:22:12.817348",
     "exception": false,
     "start_time": "2022-09-15T12:22:12.781258",
     "status": "completed"
    },
    "tags": []
   },
   "outputs": [],
   "source": []
  },
  {
   "cell_type": "code",
   "execution_count": 41,
   "id": "subject-macintosh",
   "metadata": {
    "execution": {
     "iopub.execute_input": "2022-09-15T12:22:12.896589Z",
     "iopub.status.busy": "2022-09-15T12:22:12.895597Z",
     "iopub.status.idle": "2022-09-15T12:22:12.897600Z",
     "shell.execute_reply": "2022-09-15T12:22:12.898296Z"
    },
    "papermill": {
     "duration": 0.04548,
     "end_time": "2022-09-15T12:22:12.898478",
     "exception": false,
     "start_time": "2022-09-15T12:22:12.852998",
     "status": "completed"
    },
    "tags": []
   },
   "outputs": [],
   "source": [
    "# #hide\n",
    "# fig, ax = plt.subplots(figsize=(15, 8))\n",
    "\n",
    "# def draw_barchart(current_day):\n",
    "#     dff = g[g['day'].eq(current_day)].sort_values(by='value', ascending=True).tail(10)\n",
    "#     ax.clear()\n",
    "#     ax.barh(dff['name'], dff['value'], color=[colors[group_lk[x]] for x in dff['name']])\n",
    "#     dx = dff['value'].max() / 200\n",
    "    \n",
    "#     for i, (value, name) in enumerate(zip(dff['value'], dff['name'])):\n",
    "#         ax.text(value-dx, i,     name,           size=14, weight=600, ha='right', va='bottom')\n",
    "#         ax.text(value-dx, i-.25, group_lk[name], size=10, color='#444444', ha='right', va='baseline')\n",
    "#         ax.text(value+dx, i,     f'{value:,.0f}',  size=14, ha='left',  va='center')\n",
    "#     ax.text(1, 0.4, current_day, transform=ax.transAxes, color='#777777', size=46, ha='right', weight=800)\n",
    "#     ax.text(0, 1.06, 'Population (thousands)', transform=ax.transAxes, size=12, color='#777777')\n",
    "#     ax.xaxis.set_major_formatter(ticker.StrMethodFormatter('{x:,.0f}'))\n",
    "#     ax.xaxis.set_ticks_position('top')\n",
    "#     ax.tick_params(axis='x', colors='#777777', labelsize=12)\n",
    "#     ax.set_yticks([])\n",
    "#     ax.margins(0, 0.01)\n",
    "#     ax.grid(which='major', axis='x', linestyle='-')\n",
    "#     ax.set_axisbelow(True)\n",
    "    \n",
    "#     ax.text(0, 1.15, 'Coronavirus',\n",
    "#             transform=ax.transAxes, size=24, weight=600, ha='left', va='top')\n",
    "# #     ax.text(1, 0, 'by @pratapvardhan; credit @jburnmurdoch', transform=ax.transAxes, color='#777777', ha='right',\n",
    "# #             bbox=dict(facecolor='white', alpha=0.8, edgecolor='white'))\n",
    "#     plt.box(False)"
   ]
  },
  {
   "cell_type": "code",
   "execution_count": 42,
   "id": "sexual-wages",
   "metadata": {
    "execution": {
     "iopub.execute_input": "2022-09-15T12:22:12.972731Z",
     "iopub.status.busy": "2022-09-15T12:22:12.971652Z",
     "iopub.status.idle": "2022-09-15T12:22:12.973522Z",
     "shell.execute_reply": "2022-09-15T12:22:12.974166Z"
    },
    "papermill": {
     "duration": 0.040799,
     "end_time": "2022-09-15T12:22:12.974305",
     "exception": false,
     "start_time": "2022-09-15T12:22:12.933506",
     "status": "completed"
    },
    "tags": []
   },
   "outputs": [],
   "source": [
    "# #hide_input\n",
    "# fig, ax = plt.subplots(figsize=(15, 8))\n",
    "# animator = animation.FuncAnimation(fig, draw_barchart, frames=range(g.day.values.min(), g.day.values.max()))\n",
    "# HTML(animator.to_jshtml())\n",
    "# # or use animator.to_html5_video() or animator.save() "
   ]
  },
  {
   "cell_type": "code",
   "execution_count": null,
   "id": "australian-container",
   "metadata": {
    "papermill": {
     "duration": 0.036773,
     "end_time": "2022-09-15T12:22:13.047794",
     "exception": false,
     "start_time": "2022-09-15T12:22:13.011021",
     "status": "completed"
    },
    "tags": []
   },
   "outputs": [],
   "source": []
  },
  {
   "cell_type": "code",
   "execution_count": null,
   "id": "mediterranean-pontiac",
   "metadata": {
    "papermill": {
     "duration": 0.042631,
     "end_time": "2022-09-15T12:22:13.130486",
     "exception": false,
     "start_time": "2022-09-15T12:22:13.087855",
     "status": "completed"
    },
    "tags": []
   },
   "outputs": [],
   "source": []
  },
  {
   "cell_type": "code",
   "execution_count": null,
   "id": "aging-legislature",
   "metadata": {
    "papermill": {
     "duration": 0.042114,
     "end_time": "2022-09-15T12:22:13.212793",
     "exception": false,
     "start_time": "2022-09-15T12:22:13.170679",
     "status": "completed"
    },
    "tags": []
   },
   "outputs": [],
   "source": []
  }
 ],
 "metadata": {
  "kernelspec": {
   "display_name": "Python 3",
   "language": "python",
   "name": "python3"
  },
  "language_info": {
   "codemirror_mode": {
    "name": "ipython",
    "version": 3
   },
   "file_extension": ".py",
   "mimetype": "text/x-python",
   "name": "python",
   "nbconvert_exporter": "python",
   "pygments_lexer": "ipython3",
   "version": "3.6.15"
  },
  "papermill": {
   "duration": 7.127061,
   "end_time": "2022-09-15T12:22:13.568389",
   "environment_variables": {},
   "exception": null,
   "input_path": "2020-03-21-covid19exp.ipynb",
   "output_path": "2020-03-21-covid19exp.ipynb",
   "parameters": {},
   "start_time": "2022-09-15T12:22:06.441328",
   "version": "2.0.0"
  }
 },
 "nbformat": 4,
 "nbformat_minor": 5
}