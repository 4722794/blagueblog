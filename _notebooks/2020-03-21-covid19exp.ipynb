{
 "cells": [
  {
   "cell_type": "markdown",
   "metadata": {
    "papermill": {
     "duration": 0.033751,
     "end_time": "2021-01-10T12:14:35.635060",
     "exception": false,
     "start_time": "2021-01-10T12:14:35.601309",
     "status": "completed"
    },
    "tags": []
   },
   "source": [
    "# COVID-19 Case Race\n",
    "> A race chart to see rising cases around the world\n",
    "\n",
    "- author: Hargun Oberoi\n",
    "- image: images/covid-overview.png\n",
    "- hide: false\n",
    "- badges: false"
   ]
  },
  {
   "cell_type": "code",
   "execution_count": 1,
   "metadata": {
    "execution": {
     "iopub.execute_input": "2021-01-10T12:14:35.711577Z",
     "iopub.status.busy": "2021-01-10T12:14:35.710387Z",
     "iopub.status.idle": "2021-01-10T12:14:36.034550Z",
     "shell.execute_reply": "2021-01-10T12:14:36.033645Z"
    },
    "papermill": {
     "duration": 0.369218,
     "end_time": "2021-01-10T12:14:36.034796",
     "exception": false,
     "start_time": "2021-01-10T12:14:35.665578",
     "status": "completed"
    },
    "tags": []
   },
   "outputs": [],
   "source": [
    "#hide\n",
    "import numpy as np\n",
    "import pandas as pd\n",
    "from jinja2 import Template\n",
    "from IPython.display import HTML"
   ]
  },
  {
   "cell_type": "code",
   "execution_count": 2,
   "metadata": {
    "execution": {
     "iopub.execute_input": "2021-01-10T12:14:36.111357Z",
     "iopub.status.busy": "2021-01-10T12:14:36.110795Z",
     "iopub.status.idle": "2021-01-10T12:14:36.112935Z",
     "shell.execute_reply": "2021-01-10T12:14:36.112467Z"
    },
    "papermill": {
     "duration": 0.042884,
     "end_time": "2021-01-10T12:14:36.113049",
     "exception": false,
     "start_time": "2021-01-10T12:14:36.070165",
     "status": "completed"
    },
    "tags": []
   },
   "outputs": [],
   "source": [
    "#hide\n",
    "\n",
    "# FETCH\n",
    "base_url = 'https://raw.githubusercontent.com/pratapvardhan/notebooks/master/covid19/'\n",
    "paths = {\n",
    "    'mapping': base_url + 'mapping_countries.csv',\n",
    "    'overview': base_url + 'overview.tpl'\n",
    "}"
   ]
  },
  {
   "cell_type": "code",
   "execution_count": 3,
   "metadata": {
    "execution": {
     "iopub.execute_input": "2021-01-10T12:14:36.184539Z",
     "iopub.status.busy": "2021-01-10T12:14:36.179794Z",
     "iopub.status.idle": "2021-01-10T12:14:36.187538Z",
     "shell.execute_reply": "2021-01-10T12:14:36.187083Z"
    },
    "papermill": {
     "duration": 0.045381,
     "end_time": "2021-01-10T12:14:36.187651",
     "exception": false,
     "start_time": "2021-01-10T12:14:36.142270",
     "status": "completed"
    },
    "tags": []
   },
   "outputs": [
    {
     "data": {
      "text/plain": [
       "'https://raw.githubusercontent.com/pratapvardhan/notebooks/master/covid19/mapping_countries.csv'"
      ]
     },
     "execution_count": 3,
     "metadata": {},
     "output_type": "execute_result"
    }
   ],
   "source": [
    "#hide\n",
    "paths['mapping']"
   ]
  },
  {
   "cell_type": "code",
   "execution_count": 4,
   "metadata": {
    "execution": {
     "iopub.execute_input": "2021-01-10T12:14:36.251993Z",
     "iopub.status.busy": "2021-01-10T12:14:36.251379Z",
     "iopub.status.idle": "2021-01-10T12:14:36.253844Z",
     "shell.execute_reply": "2021-01-10T12:14:36.254317Z"
    },
    "papermill": {
     "duration": 0.038876,
     "end_time": "2021-01-10T12:14:36.254453",
     "exception": false,
     "start_time": "2021-01-10T12:14:36.215577",
     "status": "completed"
    },
    "tags": []
   },
   "outputs": [],
   "source": [
    "#hide\n",
    "def get_mappings(url):\n",
    "    df = pd.read_csv(url)\n",
    "    return {\n",
    "        'df': df,\n",
    "        'replace.country': dict(df.dropna(subset=['Name']).set_index('Country')['Name']),\n",
    "        'map.continent': dict(df.set_index('Name')['Continent'])\n",
    "    }"
   ]
  },
  {
   "cell_type": "code",
   "execution_count": 5,
   "metadata": {
    "execution": {
     "iopub.execute_input": "2021-01-10T12:14:36.316579Z",
     "iopub.status.busy": "2021-01-10T12:14:36.316105Z",
     "iopub.status.idle": "2021-01-10T12:14:36.344227Z",
     "shell.execute_reply": "2021-01-10T12:14:36.343653Z"
    },
    "papermill": {
     "duration": 0.060981,
     "end_time": "2021-01-10T12:14:36.344347",
     "exception": false,
     "start_time": "2021-01-10T12:14:36.283366",
     "status": "completed"
    },
    "tags": []
   },
   "outputs": [],
   "source": [
    "#hide\n",
    "mapping = get_mappings(paths['mapping'])"
   ]
  },
  {
   "cell_type": "code",
   "execution_count": 6,
   "metadata": {
    "execution": {
     "iopub.execute_input": "2021-01-10T12:14:36.407760Z",
     "iopub.status.busy": "2021-01-10T12:14:36.407116Z",
     "iopub.status.idle": "2021-01-10T12:14:36.408913Z",
     "shell.execute_reply": "2021-01-10T12:14:36.409385Z"
    },
    "papermill": {
     "duration": 0.03597,
     "end_time": "2021-01-10T12:14:36.409524",
     "exception": false,
     "start_time": "2021-01-10T12:14:36.373554",
     "status": "completed"
    },
    "tags": []
   },
   "outputs": [],
   "source": [
    "#hide\n",
    "def get_template(path):\n",
    "    from urllib.parse import urlparse\n",
    "    if bool(urlparse(path).netloc):\n",
    "        from urllib.request import urlopen\n",
    "        return urlopen(path).read().decode('utf8')\n",
    "    return open(path).read()"
   ]
  },
  {
   "cell_type": "code",
   "execution_count": 7,
   "metadata": {
    "execution": {
     "iopub.execute_input": "2021-01-10T12:14:36.472682Z",
     "iopub.status.busy": "2021-01-10T12:14:36.472123Z",
     "iopub.status.idle": "2021-01-10T12:14:36.474649Z",
     "shell.execute_reply": "2021-01-10T12:14:36.475214Z"
    },
    "papermill": {
     "duration": 0.038216,
     "end_time": "2021-01-10T12:14:36.475367",
     "exception": false,
     "start_time": "2021-01-10T12:14:36.437151",
     "status": "completed"
    },
    "tags": []
   },
   "outputs": [],
   "source": [
    "#hide\n",
    "def get_frame(name):\n",
    "    url = (\n",
    "        'https://raw.githubusercontent.com/CSSEGISandData/COVID-19/master/csse_covid_19_data/'\n",
    "        f'csse_covid_19_time_series/time_series_covid19_{name}_global.csv')\n",
    "    df = pd.read_csv(url)\n",
    "    # rename countries\n",
    "    df['Country/Region'] = df['Country/Region'].replace(mapping['replace.country'])\n",
    "    return df"
   ]
  },
  {
   "cell_type": "code",
   "execution_count": 8,
   "metadata": {
    "execution": {
     "iopub.execute_input": "2021-01-10T12:14:36.538460Z",
     "iopub.status.busy": "2021-01-10T12:14:36.537874Z",
     "iopub.status.idle": "2021-01-10T12:14:36.539953Z",
     "shell.execute_reply": "2021-01-10T12:14:36.540513Z"
    },
    "papermill": {
     "duration": 0.037879,
     "end_time": "2021-01-10T12:14:36.540650",
     "exception": false,
     "start_time": "2021-01-10T12:14:36.502771",
     "status": "completed"
    },
    "tags": []
   },
   "outputs": [],
   "source": [
    "#hide\n",
    "def get_dates(df):\n",
    "    dt_cols = df.columns[~df.columns.isin(['Province/State', 'Country/Region', 'Lat', 'Long'])]\n",
    "    LAST_DATE_I = -1\n",
    "    # sometimes last column may be empty, then go backwards\n",
    "    for i in range(-1, -len(dt_cols), -1):\n",
    "        if not df[dt_cols[i]].fillna(0).eq(0).all():\n",
    "            LAST_DATE_I = i\n",
    "            break\n",
    "    return LAST_DATE_I, dt_cols"
   ]
  },
  {
   "cell_type": "code",
   "execution_count": 9,
   "metadata": {
    "execution": {
     "iopub.execute_input": "2021-01-10T12:14:36.604915Z",
     "iopub.status.busy": "2021-01-10T12:14:36.604320Z",
     "iopub.status.idle": "2021-01-10T12:14:36.840986Z",
     "shell.execute_reply": "2021-01-10T12:14:36.840050Z"
    },
    "papermill": {
     "duration": 0.270924,
     "end_time": "2021-01-10T12:14:36.841167",
     "exception": false,
     "start_time": "2021-01-10T12:14:36.570243",
     "status": "completed"
    },
    "tags": []
   },
   "outputs": [],
   "source": [
    "#hide\n",
    "COL_REGION = 'Country/Region'\n",
    "# Confirmed, Recovered, Deaths\n",
    "df = get_frame('confirmed')\n",
    "# dft_: timeseries, dfc_: today country agg\n",
    "dft_cases = df\n",
    "dft_deaths = get_frame('deaths')\n",
    "dft_recovered = get_frame('recovered')\n",
    "LAST_DATE_I, dt_cols = get_dates(df)"
   ]
  },
  {
   "cell_type": "code",
   "execution_count": 10,
   "metadata": {
    "execution": {
     "iopub.execute_input": "2021-01-10T12:14:36.903680Z",
     "iopub.status.busy": "2021-01-10T12:14:36.903067Z",
     "iopub.status.idle": "2021-01-10T12:14:36.905103Z",
     "shell.execute_reply": "2021-01-10T12:14:36.905647Z"
    },
    "papermill": {
     "duration": 0.036073,
     "end_time": "2021-01-10T12:14:36.905788",
     "exception": false,
     "start_time": "2021-01-10T12:14:36.869715",
     "status": "completed"
    },
    "tags": []
   },
   "outputs": [],
   "source": [
    "#hide\n",
    "LAST_DATE_I, dt_cols = get_dates(df)\n",
    "dt_today =dt_cols[LAST_DATE_I]\n",
    "# dt_5day = dt_cols[LAST_DATE_I - 5]\n",
    "dt_yday = dt_cols[LAST_DATE_I - 1]"
   ]
  },
  {
   "cell_type": "code",
   "execution_count": 11,
   "metadata": {
    "execution": {
     "iopub.execute_input": "2021-01-10T12:14:36.970948Z",
     "iopub.status.busy": "2021-01-10T12:14:36.970394Z",
     "iopub.status.idle": "2021-01-10T12:14:36.979282Z",
     "shell.execute_reply": "2021-01-10T12:14:36.979868Z"
    },
    "papermill": {
     "duration": 0.046467,
     "end_time": "2021-01-10T12:14:36.980004",
     "exception": false,
     "start_time": "2021-01-10T12:14:36.933537",
     "status": "completed"
    },
    "tags": []
   },
   "outputs": [],
   "source": [
    "#hide\n",
    "dfc_cases = dft_cases.groupby(COL_REGION)[dt_today].sum()\n",
    "dfc_deaths = dft_deaths.groupby(COL_REGION)[dt_today].sum()\n",
    "# dfp_cases = dft_cases.groupby(COL_REGION)[dt_5day].sum()\n",
    "# dfp_deaths = dft_deaths.groupby(COL_REGION)[dt_5day].sum()\n",
    "dfp_cases = dft_cases.groupby(COL_REGION)[dt_yday].sum()\n",
    "dfp_deaths = dft_deaths.groupby(COL_REGION)[dt_yday].sum()"
   ]
  },
  {
   "cell_type": "code",
   "execution_count": 12,
   "metadata": {
    "execution": {
     "iopub.execute_input": "2021-01-10T12:14:37.042697Z",
     "iopub.status.busy": "2021-01-10T12:14:37.041981Z",
     "iopub.status.idle": "2021-01-10T12:14:37.048010Z",
     "shell.execute_reply": "2021-01-10T12:14:37.047487Z"
    },
    "papermill": {
     "duration": 0.041164,
     "end_time": "2021-01-10T12:14:37.048127",
     "exception": false,
     "start_time": "2021-01-10T12:14:37.006963",
     "status": "completed"
    },
    "tags": []
   },
   "outputs": [],
   "source": [
    "#hide\n",
    "df_table = (pd.DataFrame(dict(Cases = dfc_cases, Deaths = dfc_deaths, PCases = dfp_cases, PDeaths = dfp_deaths))\n",
    "            .sort_values(by = ['Cases','Deaths'], ascending = [False, False])\n",
    "            .reset_index())"
   ]
  },
  {
   "cell_type": "code",
   "execution_count": 13,
   "metadata": {
    "execution": {
     "iopub.execute_input": "2021-01-10T12:14:37.114713Z",
     "iopub.status.busy": "2021-01-10T12:14:37.114161Z",
     "iopub.status.idle": "2021-01-10T12:14:37.134524Z",
     "shell.execute_reply": "2021-01-10T12:14:37.135013Z"
    },
    "papermill": {
     "duration": 0.058708,
     "end_time": "2021-01-10T12:14:37.135158",
     "exception": false,
     "start_time": "2021-01-10T12:14:37.076450",
     "status": "completed"
    },
    "tags": []
   },
   "outputs": [
    {
     "data": {
      "text/html": [
       "<div>\n",
       "<style scoped>\n",
       "    .dataframe tbody tr th:only-of-type {\n",
       "        vertical-align: middle;\n",
       "    }\n",
       "\n",
       "    .dataframe tbody tr th {\n",
       "        vertical-align: top;\n",
       "    }\n",
       "\n",
       "    .dataframe thead th {\n",
       "        text-align: right;\n",
       "    }\n",
       "</style>\n",
       "<table border=\"1\" class=\"dataframe\">\n",
       "  <thead>\n",
       "    <tr style=\"text-align: right;\">\n",
       "      <th></th>\n",
       "      <th>Country/Region</th>\n",
       "      <th>Cases</th>\n",
       "      <th>Deaths</th>\n",
       "      <th>PCases</th>\n",
       "      <th>PDeaths</th>\n",
       "      <th>Cases (+)</th>\n",
       "      <th>Deaths (+)</th>\n",
       "      <th>Fatality Rate</th>\n",
       "      <th>Continent</th>\n",
       "    </tr>\n",
       "  </thead>\n",
       "  <tbody>\n",
       "    <tr>\n",
       "      <th>0</th>\n",
       "      <td>US</td>\n",
       "      <td>22136627</td>\n",
       "      <td>372508</td>\n",
       "      <td>21862773</td>\n",
       "      <td>368773</td>\n",
       "      <td>273854</td>\n",
       "      <td>3735</td>\n",
       "      <td>1.68</td>\n",
       "      <td>North America</td>\n",
       "    </tr>\n",
       "    <tr>\n",
       "      <th>1</th>\n",
       "      <td>India</td>\n",
       "      <td>10450284</td>\n",
       "      <td>150999</td>\n",
       "      <td>10413417</td>\n",
       "      <td>150570</td>\n",
       "      <td>36867</td>\n",
       "      <td>429</td>\n",
       "      <td>1.44</td>\n",
       "      <td>Asia</td>\n",
       "    </tr>\n",
       "    <tr>\n",
       "      <th>2</th>\n",
       "      <td>Brazil</td>\n",
       "      <td>8075998</td>\n",
       "      <td>202631</td>\n",
       "      <td>8013708</td>\n",
       "      <td>201460</td>\n",
       "      <td>62290</td>\n",
       "      <td>1171</td>\n",
       "      <td>2.51</td>\n",
       "      <td>South America</td>\n",
       "    </tr>\n",
       "    <tr>\n",
       "      <th>3</th>\n",
       "      <td>Russia</td>\n",
       "      <td>3344175</td>\n",
       "      <td>60523</td>\n",
       "      <td>3321163</td>\n",
       "      <td>60067</td>\n",
       "      <td>23012</td>\n",
       "      <td>456</td>\n",
       "      <td>1.81</td>\n",
       "      <td>Europe</td>\n",
       "    </tr>\n",
       "    <tr>\n",
       "      <th>4</th>\n",
       "      <td>United Kingdom</td>\n",
       "      <td>3026342</td>\n",
       "      <td>81000</td>\n",
       "      <td>2966244</td>\n",
       "      <td>79965</td>\n",
       "      <td>60098</td>\n",
       "      <td>1035</td>\n",
       "      <td>2.68</td>\n",
       "      <td>Europe</td>\n",
       "    </tr>\n",
       "  </tbody>\n",
       "</table>\n",
       "</div>"
      ],
      "text/plain": [
       "   Country/Region     Cases  Deaths    PCases  PDeaths  Cases (+)  Deaths (+)  \\\n",
       "0              US  22136627  372508  21862773   368773     273854        3735   \n",
       "1           India  10450284  150999  10413417   150570      36867         429   \n",
       "2          Brazil   8075998  202631   8013708   201460      62290        1171   \n",
       "3          Russia   3344175   60523   3321163    60067      23012         456   \n",
       "4  United Kingdom   3026342   81000   2966244    79965      60098        1035   \n",
       "\n",
       "   Fatality Rate      Continent  \n",
       "0           1.68  North America  \n",
       "1           1.44           Asia  \n",
       "2           2.51  South America  \n",
       "3           1.81         Europe  \n",
       "4           2.68         Europe  "
      ]
     },
     "execution_count": 13,
     "metadata": {},
     "output_type": "execute_result"
    }
   ],
   "source": [
    "#hide\n",
    "for c in 'Cases, Deaths'.split(', '):\n",
    "    df_table[f'{c} (+)'] = (df_table[c] - df_table[f'P{c}']).clip(0)\n",
    "    #Clip ça veut dire, les chiffres negatif sont interdit\n",
    "df_table['Fatality Rate'] = (100* df_table['Deaths']/ df_table['Cases']).round(2)\n",
    "df_table['Continent'] = df_table['Country/Region'].map(mapping['map.continent'])\n",
    "df_table.head(5)"
   ]
  },
  {
   "cell_type": "code",
   "execution_count": 14,
   "metadata": {
    "execution": {
     "iopub.execute_input": "2021-01-10T12:14:37.197531Z",
     "iopub.status.busy": "2021-01-10T12:14:37.196980Z",
     "iopub.status.idle": "2021-01-10T12:14:37.199356Z",
     "shell.execute_reply": "2021-01-10T12:14:37.199914Z"
    },
    "papermill": {
     "duration": 0.036441,
     "end_time": "2021-01-10T12:14:37.200053",
     "exception": false,
     "start_time": "2021-01-10T12:14:37.163612",
     "status": "completed"
    },
    "tags": []
   },
   "outputs": [],
   "source": [
    "#hide\n",
    "#delete problematic countries from table\n",
    "df_table = df_table[~df_table['Country/Region'].isin(['Cape Verde', 'Cruise Ship', 'Kosovo'])]"
   ]
  },
  {
   "cell_type": "code",
   "execution_count": 15,
   "metadata": {
    "execution": {
     "iopub.execute_input": "2021-01-10T12:14:37.267743Z",
     "iopub.status.busy": "2021-01-10T12:14:37.267146Z",
     "iopub.status.idle": "2021-01-10T12:14:37.284353Z",
     "shell.execute_reply": "2021-01-10T12:14:37.283957Z"
    },
    "papermill": {
     "duration": 0.05724,
     "end_time": "2021-01-10T12:14:37.284458",
     "exception": false,
     "start_time": "2021-01-10T12:14:37.227218",
     "status": "completed"
    },
    "tags": []
   },
   "outputs": [
    {
     "data": {
      "text/html": [
       "<div>\n",
       "<style scoped>\n",
       "    .dataframe tbody tr th:only-of-type {\n",
       "        vertical-align: middle;\n",
       "    }\n",
       "\n",
       "    .dataframe tbody tr th {\n",
       "        vertical-align: top;\n",
       "    }\n",
       "\n",
       "    .dataframe thead th {\n",
       "        text-align: right;\n",
       "    }\n",
       "</style>\n",
       "<table border=\"1\" class=\"dataframe\">\n",
       "  <thead>\n",
       "    <tr style=\"text-align: right;\">\n",
       "      <th></th>\n",
       "      <th>Country/Region</th>\n",
       "      <th>Cases</th>\n",
       "      <th>Deaths</th>\n",
       "      <th>PCases</th>\n",
       "      <th>PDeaths</th>\n",
       "      <th>Cases (+)</th>\n",
       "      <th>Deaths (+)</th>\n",
       "      <th>Fatality Rate</th>\n",
       "      <th>Continent</th>\n",
       "    </tr>\n",
       "  </thead>\n",
       "  <tbody>\n",
       "    <tr>\n",
       "      <th>0</th>\n",
       "      <td>US</td>\n",
       "      <td>22136627</td>\n",
       "      <td>372508</td>\n",
       "      <td>21862773</td>\n",
       "      <td>368773</td>\n",
       "      <td>273854</td>\n",
       "      <td>3735</td>\n",
       "      <td>1.7</td>\n",
       "      <td>North America</td>\n",
       "    </tr>\n",
       "    <tr>\n",
       "      <th>1</th>\n",
       "      <td>India</td>\n",
       "      <td>10450284</td>\n",
       "      <td>150999</td>\n",
       "      <td>10413417</td>\n",
       "      <td>150570</td>\n",
       "      <td>36867</td>\n",
       "      <td>429</td>\n",
       "      <td>1.4</td>\n",
       "      <td>Asia</td>\n",
       "    </tr>\n",
       "    <tr>\n",
       "      <th>2</th>\n",
       "      <td>Brazil</td>\n",
       "      <td>8075998</td>\n",
       "      <td>202631</td>\n",
       "      <td>8013708</td>\n",
       "      <td>201460</td>\n",
       "      <td>62290</td>\n",
       "      <td>1171</td>\n",
       "      <td>2.5</td>\n",
       "      <td>South America</td>\n",
       "    </tr>\n",
       "    <tr>\n",
       "      <th>3</th>\n",
       "      <td>Russia</td>\n",
       "      <td>3344175</td>\n",
       "      <td>60523</td>\n",
       "      <td>3321163</td>\n",
       "      <td>60067</td>\n",
       "      <td>23012</td>\n",
       "      <td>456</td>\n",
       "      <td>1.8</td>\n",
       "      <td>Europe</td>\n",
       "    </tr>\n",
       "    <tr>\n",
       "      <th>4</th>\n",
       "      <td>United Kingdom</td>\n",
       "      <td>3026342</td>\n",
       "      <td>81000</td>\n",
       "      <td>2966244</td>\n",
       "      <td>79965</td>\n",
       "      <td>60098</td>\n",
       "      <td>1035</td>\n",
       "      <td>2.7</td>\n",
       "      <td>Europe</td>\n",
       "    </tr>\n",
       "  </tbody>\n",
       "</table>\n",
       "</div>"
      ],
      "text/plain": [
       "   Country/Region     Cases  Deaths    PCases  PDeaths  Cases (+)  Deaths (+)  \\\n",
       "0              US  22136627  372508  21862773   368773     273854        3735   \n",
       "1           India  10450284  150999  10413417   150570      36867         429   \n",
       "2          Brazil   8075998  202631   8013708   201460      62290        1171   \n",
       "3          Russia   3344175   60523   3321163    60067      23012         456   \n",
       "4  United Kingdom   3026342   81000   2966244    79965      60098        1035   \n",
       "\n",
       "   Fatality Rate      Continent  \n",
       "0            1.7  North America  \n",
       "1            1.4           Asia  \n",
       "2            2.5  South America  \n",
       "3            1.8         Europe  \n",
       "4            2.7         Europe  "
      ]
     },
     "execution_count": 15,
     "metadata": {},
     "output_type": "execute_result"
    }
   ],
   "source": [
    "#hide\n",
    "df_table = (pd.DataFrame(dict(Cases=dfc_cases, Deaths=dfc_deaths, PCases=dfp_cases, PDeaths=dfp_deaths))\n",
    "             .sort_values(by=['Cases', 'Deaths'], ascending=[False, False])\n",
    "             .reset_index())\n",
    "df_table.rename(columns={'index': 'Country/Region'}, inplace=True)\n",
    "for c in 'Cases, Deaths'.split(', '):\n",
    "    df_table[f'{c} (+)'] = (df_table[c] - df_table[f'P{c}']).clip(0)  # DATA BUG\n",
    "df_table['Fatality Rate'] = (100 * df_table['Deaths'] / df_table['Cases']).round(1)\n",
    "df_table['Continent'] = df_table['Country/Region'].map(mapping['map.continent'])\n",
    "df_table.head(5)"
   ]
  },
  {
   "cell_type": "code",
   "execution_count": 16,
   "metadata": {
    "execution": {
     "iopub.execute_input": "2021-01-10T12:14:37.349234Z",
     "iopub.status.busy": "2021-01-10T12:14:37.348680Z",
     "iopub.status.idle": "2021-01-10T12:14:37.351000Z",
     "shell.execute_reply": "2021-01-10T12:14:37.351518Z"
    },
    "papermill": {
     "duration": 0.037162,
     "end_time": "2021-01-10T12:14:37.351648",
     "exception": false,
     "start_time": "2021-01-10T12:14:37.314486",
     "status": "completed"
    },
    "tags": []
   },
   "outputs": [],
   "source": [
    "#hide\n",
    "#delete problematic countries from table\n",
    "df_table = df_table[~df_table['Country/Region'].isin(['Cape Verde', 'Cruise Ship', 'Kosovo'])]"
   ]
  },
  {
   "cell_type": "code",
   "execution_count": 17,
   "metadata": {
    "execution": {
     "iopub.execute_input": "2021-01-10T12:14:37.431835Z",
     "iopub.status.busy": "2021-01-10T12:14:37.418636Z",
     "iopub.status.idle": "2021-01-10T12:14:37.435633Z",
     "shell.execute_reply": "2021-01-10T12:14:37.435134Z"
    },
    "papermill": {
     "duration": 0.054505,
     "end_time": "2021-01-10T12:14:37.435768",
     "exception": false,
     "start_time": "2021-01-10T12:14:37.381263",
     "status": "completed"
    },
    "tags": []
   },
   "outputs": [],
   "source": [
    "#hide\n",
    "metrics = [df_table.columns[index] for index in [1,2,5,6]]\n",
    "# s_china = df_table[df_table['Country/Region'].eq('China')][metrics].sum().add_prefix('China ')\n",
    "s_us = df_table[df_table['Country/Region'].eq('US')][metrics].sum().add_prefix('US ')\n",
    "s_eu = df_table[df_table['Continent'].eq('Europe')][metrics].sum().add_prefix('EU ')\n",
    "s_ind = df_table[df_table['Country/Region'].eq('India')][metrics].sum().add_prefix('India ')\n",
    "summary = {'updated': pd.to_datetime(dt_today), 'since': pd.to_datetime(dt_yday)}\n",
    "summary = {'updated': pd.to_datetime(dt_today), 'since': pd.to_datetime(dt_yday)}\n",
    "summary = {**summary, **df_table[metrics].sum(), **s_ind, **s_us, **s_eu}"
   ]
  },
  {
   "cell_type": "code",
   "execution_count": 18,
   "metadata": {
    "execution": {
     "iopub.execute_input": "2021-01-10T12:14:37.499978Z",
     "iopub.status.busy": "2021-01-10T12:14:37.499408Z",
     "iopub.status.idle": "2021-01-10T12:14:37.510203Z",
     "shell.execute_reply": "2021-01-10T12:14:37.510753Z"
    },
    "papermill": {
     "duration": 0.045802,
     "end_time": "2021-01-10T12:14:37.510898",
     "exception": false,
     "start_time": "2021-01-10T12:14:37.465096",
     "status": "completed"
    },
    "tags": []
   },
   "outputs": [],
   "source": [
    "#hide\n",
    "dft_ct_new_cases = dft_cases.groupby(COL_REGION)[dt_cols].sum().diff(axis=1).fillna(0).astype(int)"
   ]
  },
  {
   "cell_type": "code",
   "execution_count": 19,
   "metadata": {
    "execution": {
     "iopub.execute_input": "2021-01-10T12:14:37.573791Z",
     "iopub.status.busy": "2021-01-10T12:14:37.573181Z",
     "iopub.status.idle": "2021-01-10T12:14:37.575351Z",
     "shell.execute_reply": "2021-01-10T12:14:37.574887Z"
    },
    "papermill": {
     "duration": 0.036362,
     "end_time": "2021-01-10T12:14:37.575467",
     "exception": false,
     "start_time": "2021-01-10T12:14:37.539105",
     "status": "completed"
    },
    "tags": []
   },
   "outputs": [],
   "source": [
    "#hide\n",
    "everydaycases = dft_ct_new_cases.cumsum(axis=1)"
   ]
  },
  {
   "cell_type": "code",
   "execution_count": 20,
   "metadata": {
    "execution": {
     "iopub.execute_input": "2021-01-10T12:14:37.637457Z",
     "iopub.status.busy": "2021-01-10T12:14:37.636914Z",
     "iopub.status.idle": "2021-01-10T12:14:41.339485Z",
     "shell.execute_reply": "2021-01-10T12:14:41.338343Z"
    },
    "papermill": {
     "duration": 3.735585,
     "end_time": "2021-01-10T12:14:41.339626",
     "exception": false,
     "start_time": "2021-01-10T12:14:37.604041",
     "status": "completed"
    },
    "tags": []
   },
   "outputs": [],
   "source": [
    "#hide\n",
    "import pandas as pd\n",
    "import matplotlib.pyplot as plt\n",
    "import matplotlib.ticker as ticker\n",
    "import matplotlib.animation as animation\n",
    "from IPython.display import HTML"
   ]
  },
  {
   "cell_type": "code",
   "execution_count": 21,
   "metadata": {
    "execution": {
     "iopub.execute_input": "2021-01-10T12:14:41.403485Z",
     "iopub.status.busy": "2021-01-10T12:14:41.402122Z",
     "iopub.status.idle": "2021-01-10T12:14:41.406666Z",
     "shell.execute_reply": "2021-01-10T12:14:41.407254Z"
    },
    "papermill": {
     "duration": 0.039479,
     "end_time": "2021-01-10T12:14:41.407437",
     "exception": false,
     "start_time": "2021-01-10T12:14:41.367958",
     "status": "completed"
    },
    "tags": []
   },
   "outputs": [],
   "source": [
    "#hide\n",
    "t = everydaycases.stack()"
   ]
  },
  {
   "cell_type": "code",
   "execution_count": 22,
   "metadata": {
    "execution": {
     "iopub.execute_input": "2021-01-10T12:14:41.473074Z",
     "iopub.status.busy": "2021-01-10T12:14:41.472527Z",
     "iopub.status.idle": "2021-01-10T12:14:41.481246Z",
     "shell.execute_reply": "2021-01-10T12:14:41.480695Z"
    },
    "papermill": {
     "duration": 0.043101,
     "end_time": "2021-01-10T12:14:41.481361",
     "exception": false,
     "start_time": "2021-01-10T12:14:41.438260",
     "status": "completed"
    },
    "tags": []
   },
   "outputs": [],
   "source": [
    "#hide\n",
    "g = t.reset_index(['Country/Region'])"
   ]
  },
  {
   "cell_type": "code",
   "execution_count": 23,
   "metadata": {
    "execution": {
     "iopub.execute_input": "2021-01-10T12:14:41.556926Z",
     "iopub.status.busy": "2021-01-10T12:14:41.556167Z",
     "iopub.status.idle": "2021-01-10T12:14:41.558331Z",
     "shell.execute_reply": "2021-01-10T12:14:41.557728Z"
    },
    "papermill": {
     "duration": 0.043428,
     "end_time": "2021-01-10T12:14:41.558480",
     "exception": false,
     "start_time": "2021-01-10T12:14:41.515052",
     "status": "completed"
    },
    "tags": []
   },
   "outputs": [],
   "source": [
    "#hide\n",
    "g.index.name = 'date'"
   ]
  },
  {
   "cell_type": "code",
   "execution_count": 24,
   "metadata": {
    "execution": {
     "iopub.execute_input": "2021-01-10T12:14:41.623611Z",
     "iopub.status.busy": "2021-01-10T12:14:41.623028Z",
     "iopub.status.idle": "2021-01-10T12:14:41.625591Z",
     "shell.execute_reply": "2021-01-10T12:14:41.626150Z"
    },
    "papermill": {
     "duration": 0.036361,
     "end_time": "2021-01-10T12:14:41.626283",
     "exception": false,
     "start_time": "2021-01-10T12:14:41.589922",
     "status": "completed"
    },
    "tags": []
   },
   "outputs": [],
   "source": [
    "# #hide\n",
    "# g = g.reset_index(['date'])"
   ]
  },
  {
   "cell_type": "code",
   "execution_count": 25,
   "metadata": {
    "execution": {
     "iopub.execute_input": "2021-01-10T12:14:41.689386Z",
     "iopub.status.busy": "2021-01-10T12:14:41.688842Z",
     "iopub.status.idle": "2021-01-10T12:14:41.691488Z",
     "shell.execute_reply": "2021-01-10T12:14:41.691968Z"
    },
    "papermill": {
     "duration": 0.036165,
     "end_time": "2021-01-10T12:14:41.692103",
     "exception": false,
     "start_time": "2021-01-10T12:14:41.655938",
     "status": "completed"
    },
    "tags": []
   },
   "outputs": [],
   "source": [
    "#hide\n",
    "# g.head()"
   ]
  },
  {
   "cell_type": "code",
   "execution_count": 26,
   "metadata": {
    "execution": {
     "iopub.execute_input": "2021-01-10T12:14:41.756727Z",
     "iopub.status.busy": "2021-01-10T12:14:41.756135Z",
     "iopub.status.idle": "2021-01-10T12:14:41.758282Z",
     "shell.execute_reply": "2021-01-10T12:14:41.758731Z"
    },
    "papermill": {
     "duration": 0.036683,
     "end_time": "2021-01-10T12:14:41.758873",
     "exception": false,
     "start_time": "2021-01-10T12:14:41.722190",
     "status": "completed"
    },
    "tags": []
   },
   "outputs": [],
   "source": [
    "#hide\n",
    "# g.columns = ['date','country','cases']"
   ]
  },
  {
   "cell_type": "code",
   "execution_count": 27,
   "metadata": {
    "execution": {
     "iopub.execute_input": "2021-01-10T12:14:41.821809Z",
     "iopub.status.busy": "2021-01-10T12:14:41.821218Z",
     "iopub.status.idle": "2021-01-10T12:14:41.823834Z",
     "shell.execute_reply": "2021-01-10T12:14:41.823347Z"
    },
    "papermill": {
     "duration": 0.036393,
     "end_time": "2021-01-10T12:14:41.823961",
     "exception": false,
     "start_time": "2021-01-10T12:14:41.787568",
     "status": "completed"
    },
    "tags": []
   },
   "outputs": [],
   "source": [
    "#hide\n",
    "# g['continent'] = g.country"
   ]
  },
  {
   "cell_type": "code",
   "execution_count": 28,
   "metadata": {
    "execution": {
     "iopub.execute_input": "2021-01-10T12:14:41.889079Z",
     "iopub.status.busy": "2021-01-10T12:14:41.888519Z",
     "iopub.status.idle": "2021-01-10T12:14:41.890807Z",
     "shell.execute_reply": "2021-01-10T12:14:41.890266Z"
    },
    "papermill": {
     "duration": 0.03634,
     "end_time": "2021-01-10T12:14:41.890921",
     "exception": false,
     "start_time": "2021-01-10T12:14:41.854581",
     "status": "completed"
    },
    "tags": []
   },
   "outputs": [],
   "source": [
    "#hide\n",
    "# cols = list(g.columns.values)"
   ]
  },
  {
   "cell_type": "code",
   "execution_count": 29,
   "metadata": {
    "execution": {
     "iopub.execute_input": "2021-01-10T12:14:41.956303Z",
     "iopub.status.busy": "2021-01-10T12:14:41.955802Z",
     "iopub.status.idle": "2021-01-10T12:14:41.960395Z",
     "shell.execute_reply": "2021-01-10T12:14:41.959880Z"
    },
    "papermill": {
     "duration": 0.039888,
     "end_time": "2021-01-10T12:14:41.960513",
     "exception": false,
     "start_time": "2021-01-10T12:14:41.920625",
     "status": "completed"
    },
    "tags": []
   },
   "outputs": [],
   "source": [
    "#hide\n",
    "# cols.insert(0, cols.pop())"
   ]
  },
  {
   "cell_type": "code",
   "execution_count": 30,
   "metadata": {
    "execution": {
     "iopub.execute_input": "2021-01-10T12:14:42.024302Z",
     "iopub.status.busy": "2021-01-10T12:14:42.023229Z",
     "iopub.status.idle": "2021-01-10T12:14:42.027850Z",
     "shell.execute_reply": "2021-01-10T12:14:42.026910Z"
    },
    "papermill": {
     "duration": 0.039238,
     "end_time": "2021-01-10T12:14:42.028058",
     "exception": false,
     "start_time": "2021-01-10T12:14:41.988820",
     "status": "completed"
    },
    "tags": []
   },
   "outputs": [],
   "source": [
    "#hide\n",
    "# g = g[cols]"
   ]
  },
  {
   "cell_type": "code",
   "execution_count": 31,
   "metadata": {
    "execution": {
     "iopub.execute_input": "2021-01-10T12:14:42.091551Z",
     "iopub.status.busy": "2021-01-10T12:14:42.090957Z",
     "iopub.status.idle": "2021-01-10T12:14:42.094818Z",
     "shell.execute_reply": "2021-01-10T12:14:42.094332Z"
    },
    "papermill": {
     "duration": 0.037117,
     "end_time": "2021-01-10T12:14:42.094933",
     "exception": false,
     "start_time": "2021-01-10T12:14:42.057816",
     "status": "completed"
    },
    "tags": []
   },
   "outputs": [],
   "source": [
    "#hide\n",
    "# g['continent'] = g['continent'].map(mapping['map.continent'])"
   ]
  },
  {
   "cell_type": "code",
   "execution_count": 32,
   "metadata": {
    "execution": {
     "iopub.execute_input": "2021-01-10T12:14:42.158833Z",
     "iopub.status.busy": "2021-01-10T12:14:42.158278Z",
     "iopub.status.idle": "2021-01-10T12:14:42.160700Z",
     "shell.execute_reply": "2021-01-10T12:14:42.161141Z"
    },
    "papermill": {
     "duration": 0.036612,
     "end_time": "2021-01-10T12:14:42.161267",
     "exception": false,
     "start_time": "2021-01-10T12:14:42.124655",
     "status": "completed"
    },
    "tags": []
   },
   "outputs": [],
   "source": [
    "#hide\n",
    "# g.head()"
   ]
  },
  {
   "cell_type": "code",
   "execution_count": 33,
   "metadata": {
    "execution": {
     "iopub.execute_input": "2021-01-10T12:14:42.223386Z",
     "iopub.status.busy": "2021-01-10T12:14:42.222821Z",
     "iopub.status.idle": "2021-01-10T12:14:42.226354Z",
     "shell.execute_reply": "2021-01-10T12:14:42.225861Z"
    },
    "papermill": {
     "duration": 0.036292,
     "end_time": "2021-01-10T12:14:42.226466",
     "exception": false,
     "start_time": "2021-01-10T12:14:42.190174",
     "status": "completed"
    },
    "tags": []
   },
   "outputs": [],
   "source": [
    "# hide\n",
    "# g['date'] = g['date'].astype('datetime64[ns]')"
   ]
  },
  {
   "cell_type": "code",
   "execution_count": 34,
   "metadata": {
    "execution": {
     "iopub.execute_input": "2021-01-10T12:14:42.287193Z",
     "iopub.status.busy": "2021-01-10T12:14:42.286331Z",
     "iopub.status.idle": "2021-01-10T12:14:42.288486Z",
     "shell.execute_reply": "2021-01-10T12:14:42.288899Z"
    },
    "papermill": {
     "duration": 0.034366,
     "end_time": "2021-01-10T12:14:42.289012",
     "exception": false,
     "start_time": "2021-01-10T12:14:42.254646",
     "status": "completed"
    },
    "tags": []
   },
   "outputs": [],
   "source": [
    "#hide\n",
    "# g['date'] = g.date.dt.dayofyear"
   ]
  },
  {
   "cell_type": "code",
   "execution_count": 35,
   "metadata": {
    "execution": {
     "iopub.execute_input": "2021-01-10T12:14:42.348183Z",
     "iopub.status.busy": "2021-01-10T12:14:42.347543Z",
     "iopub.status.idle": "2021-01-10T12:14:42.349951Z",
     "shell.execute_reply": "2021-01-10T12:14:42.350509Z"
    },
    "papermill": {
     "duration": 0.033996,
     "end_time": "2021-01-10T12:14:42.350651",
     "exception": false,
     "start_time": "2021-01-10T12:14:42.316655",
     "status": "completed"
    },
    "tags": []
   },
   "outputs": [],
   "source": [
    "#hide\n",
    "# g = g.rename(columns= {'continent':'group','country':'name','cases':'value'})"
   ]
  },
  {
   "cell_type": "code",
   "execution_count": 36,
   "metadata": {
    "execution": {
     "iopub.execute_input": "2021-01-10T12:14:42.411944Z",
     "iopub.status.busy": "2021-01-10T12:14:42.411360Z",
     "iopub.status.idle": "2021-01-10T12:14:42.413829Z",
     "shell.execute_reply": "2021-01-10T12:14:42.414389Z"
    },
    "papermill": {
     "duration": 0.035041,
     "end_time": "2021-01-10T12:14:42.414524",
     "exception": false,
     "start_time": "2021-01-10T12:14:42.379483",
     "status": "completed"
    },
    "tags": []
   },
   "outputs": [],
   "source": [
    "#hide\n",
    "# cols = ['name','group','day','value']"
   ]
  },
  {
   "cell_type": "code",
   "execution_count": 37,
   "metadata": {
    "execution": {
     "iopub.execute_input": "2021-01-10T12:14:42.474147Z",
     "iopub.status.busy": "2021-01-10T12:14:42.473567Z",
     "iopub.status.idle": "2021-01-10T12:14:42.475446Z",
     "shell.execute_reply": "2021-01-10T12:14:42.475973Z"
    },
    "papermill": {
     "duration": 0.033897,
     "end_time": "2021-01-10T12:14:42.476110",
     "exception": false,
     "start_time": "2021-01-10T12:14:42.442213",
     "status": "completed"
    },
    "tags": []
   },
   "outputs": [],
   "source": [
    "#hide\n",
    "# g.rename(columns= {'date':'day'},inplace = True)"
   ]
  },
  {
   "cell_type": "code",
   "execution_count": 38,
   "metadata": {
    "execution": {
     "iopub.execute_input": "2021-01-10T12:14:42.536905Z",
     "iopub.status.busy": "2021-01-10T12:14:42.536325Z",
     "iopub.status.idle": "2021-01-10T12:14:42.538269Z",
     "shell.execute_reply": "2021-01-10T12:14:42.538683Z"
    },
    "papermill": {
     "duration": 0.034286,
     "end_time": "2021-01-10T12:14:42.538813",
     "exception": false,
     "start_time": "2021-01-10T12:14:42.504527",
     "status": "completed"
    },
    "tags": []
   },
   "outputs": [],
   "source": [
    "#hide\n",
    "# g = g[cols]"
   ]
  },
  {
   "cell_type": "code",
   "execution_count": 39,
   "metadata": {
    "execution": {
     "iopub.execute_input": "2021-01-10T12:14:42.601031Z",
     "iopub.status.busy": "2021-01-10T12:14:42.600471Z",
     "iopub.status.idle": "2021-01-10T12:14:42.602862Z",
     "shell.execute_reply": "2021-01-10T12:14:42.603418Z"
    },
    "papermill": {
     "duration": 0.035676,
     "end_time": "2021-01-10T12:14:42.603550",
     "exception": false,
     "start_time": "2021-01-10T12:14:42.567874",
     "status": "completed"
    },
    "tags": []
   },
   "outputs": [],
   "source": [
    "# #hide\n",
    "# g = g[g.group.notna()]"
   ]
  },
  {
   "cell_type": "code",
   "execution_count": 40,
   "metadata": {
    "execution": {
     "iopub.execute_input": "2021-01-10T12:14:42.664596Z",
     "iopub.status.busy": "2021-01-10T12:14:42.663994Z",
     "iopub.status.idle": "2021-01-10T12:14:42.666467Z",
     "shell.execute_reply": "2021-01-10T12:14:42.666983Z"
    },
    "papermill": {
     "duration": 0.035622,
     "end_time": "2021-01-10T12:14:42.667108",
     "exception": false,
     "start_time": "2021-01-10T12:14:42.631486",
     "status": "completed"
    },
    "tags": []
   },
   "outputs": [],
   "source": [
    "# #hide\n",
    "# colors = dict(zip(\n",
    "#     [\"Oceania\", \"Europe\", \"Asia\", \"South America\", \"Middle East\", \"North America\", \"Africa\"],\n",
    "#     [\"#adb0ff\", \"#ffb3ff\", \"#90d595\", \"#e48381\", \"#aafbff\", \"#f7bb5f\", \"#eafb50\"]\n",
    "# ))\n",
    "# group_lk = g.set_index('name')['group'].to_dict()"
   ]
  },
  {
   "cell_type": "code",
   "execution_count": null,
   "metadata": {
    "papermill": {
     "duration": 0.027971,
     "end_time": "2021-01-10T12:14:42.723537",
     "exception": false,
     "start_time": "2021-01-10T12:14:42.695566",
     "status": "completed"
    },
    "tags": []
   },
   "outputs": [],
   "source": []
  },
  {
   "cell_type": "code",
   "execution_count": 41,
   "metadata": {
    "execution": {
     "iopub.execute_input": "2021-01-10T12:14:42.788034Z",
     "iopub.status.busy": "2021-01-10T12:14:42.787394Z",
     "iopub.status.idle": "2021-01-10T12:14:42.789343Z",
     "shell.execute_reply": "2021-01-10T12:14:42.789844Z"
    },
    "papermill": {
     "duration": 0.036757,
     "end_time": "2021-01-10T12:14:42.789979",
     "exception": false,
     "start_time": "2021-01-10T12:14:42.753222",
     "status": "completed"
    },
    "tags": []
   },
   "outputs": [],
   "source": [
    "# #hide\n",
    "# fig, ax = plt.subplots(figsize=(15, 8))\n",
    "\n",
    "# def draw_barchart(current_day):\n",
    "#     dff = g[g['day'].eq(current_day)].sort_values(by='value', ascending=True).tail(10)\n",
    "#     ax.clear()\n",
    "#     ax.barh(dff['name'], dff['value'], color=[colors[group_lk[x]] for x in dff['name']])\n",
    "#     dx = dff['value'].max() / 200\n",
    "    \n",
    "#     for i, (value, name) in enumerate(zip(dff['value'], dff['name'])):\n",
    "#         ax.text(value-dx, i,     name,           size=14, weight=600, ha='right', va='bottom')\n",
    "#         ax.text(value-dx, i-.25, group_lk[name], size=10, color='#444444', ha='right', va='baseline')\n",
    "#         ax.text(value+dx, i,     f'{value:,.0f}',  size=14, ha='left',  va='center')\n",
    "#     ax.text(1, 0.4, current_day, transform=ax.transAxes, color='#777777', size=46, ha='right', weight=800)\n",
    "#     ax.text(0, 1.06, 'Population (thousands)', transform=ax.transAxes, size=12, color='#777777')\n",
    "#     ax.xaxis.set_major_formatter(ticker.StrMethodFormatter('{x:,.0f}'))\n",
    "#     ax.xaxis.set_ticks_position('top')\n",
    "#     ax.tick_params(axis='x', colors='#777777', labelsize=12)\n",
    "#     ax.set_yticks([])\n",
    "#     ax.margins(0, 0.01)\n",
    "#     ax.grid(which='major', axis='x', linestyle='-')\n",
    "#     ax.set_axisbelow(True)\n",
    "    \n",
    "#     ax.text(0, 1.15, 'Coronavirus',\n",
    "#             transform=ax.transAxes, size=24, weight=600, ha='left', va='top')\n",
    "# #     ax.text(1, 0, 'by @pratapvardhan; credit @jburnmurdoch', transform=ax.transAxes, color='#777777', ha='right',\n",
    "# #             bbox=dict(facecolor='white', alpha=0.8, edgecolor='white'))\n",
    "#     plt.box(False)"
   ]
  },
  {
   "cell_type": "code",
   "execution_count": 42,
   "metadata": {
    "execution": {
     "iopub.execute_input": "2021-01-10T12:14:42.851195Z",
     "iopub.status.busy": "2021-01-10T12:14:42.850599Z",
     "iopub.status.idle": "2021-01-10T12:14:42.853088Z",
     "shell.execute_reply": "2021-01-10T12:14:42.852495Z"
    },
    "papermill": {
     "duration": 0.03432,
     "end_time": "2021-01-10T12:14:42.853232",
     "exception": false,
     "start_time": "2021-01-10T12:14:42.818912",
     "status": "completed"
    },
    "tags": []
   },
   "outputs": [],
   "source": [
    "# #hide_input\n",
    "# fig, ax = plt.subplots(figsize=(15, 8))\n",
    "# animator = animation.FuncAnimation(fig, draw_barchart, frames=range(g.day.values.min(), g.day.values.max()))\n",
    "# HTML(animator.to_jshtml())\n",
    "# # or use animator.to_html5_video() or animator.save() "
   ]
  },
  {
   "cell_type": "code",
   "execution_count": null,
   "metadata": {
    "papermill": {
     "duration": 0.03041,
     "end_time": "2021-01-10T12:14:42.913573",
     "exception": false,
     "start_time": "2021-01-10T12:14:42.883163",
     "status": "completed"
    },
    "tags": []
   },
   "outputs": [],
   "source": []
  },
  {
   "cell_type": "code",
   "execution_count": null,
   "metadata": {
    "papermill": {
     "duration": 0.029354,
     "end_time": "2021-01-10T12:14:42.972388",
     "exception": false,
     "start_time": "2021-01-10T12:14:42.943034",
     "status": "completed"
    },
    "tags": []
   },
   "outputs": [],
   "source": []
  },
  {
   "cell_type": "code",
   "execution_count": null,
   "metadata": {
    "papermill": {
     "duration": 0.028284,
     "end_time": "2021-01-10T12:14:43.028886",
     "exception": false,
     "start_time": "2021-01-10T12:14:43.000602",
     "status": "completed"
    },
    "tags": []
   },
   "outputs": [],
   "source": []
  }
 ],
 "metadata": {
  "kernelspec": {
   "display_name": "Python 3",
   "language": "python",
   "name": "python3"
  },
  "language_info": {
   "codemirror_mode": {
    "name": "ipython",
    "version": 3
   },
   "file_extension": ".py",
   "mimetype": "text/x-python",
   "name": "python",
   "nbconvert_exporter": "python",
   "pygments_lexer": "ipython3",
   "version": "3.6.12"
  },
  "papermill": {
   "duration": 8.855547,
   "end_time": "2021-01-10T12:14:43.368543",
   "environment_variables": {},
   "exception": null,
   "input_path": "2020-03-21-covid19exp.ipynb",
   "output_path": "2020-03-21-covid19exp.ipynb",
   "parameters": {},
   "start_time": "2021-01-10T12:14:34.512996",
   "version": "2.0.0"
  }
 },
 "nbformat": 4,
 "nbformat_minor": 4
}