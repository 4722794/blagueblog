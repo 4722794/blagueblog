{
 "cells": [
  {
   "cell_type": "markdown",
   "id": "muslim-click",
   "metadata": {
    "papermill": {
     "duration": 0.039638,
     "end_time": "2021-12-15T00:25:56.219267",
     "exception": false,
     "start_time": "2021-12-15T00:25:56.179629",
     "status": "completed"
    },
    "tags": []
   },
   "source": [
    "# COVID-19 Case Race\n",
    "> A race chart to see rising cases around the world\n",
    "\n",
    "- author: Hargun Oberoi\n",
    "- image: images/covid-overview.png\n",
    "- hide: false\n",
    "- badges: false"
   ]
  },
  {
   "cell_type": "code",
   "execution_count": 1,
   "id": "proof-material",
   "metadata": {
    "execution": {
     "iopub.execute_input": "2021-12-15T00:25:56.295665Z",
     "iopub.status.busy": "2021-12-15T00:25:56.295055Z",
     "iopub.status.idle": "2021-12-15T00:25:56.626343Z",
     "shell.execute_reply": "2021-12-15T00:25:56.625825Z"
    },
    "papermill": {
     "duration": 0.372903,
     "end_time": "2021-12-15T00:25:56.626520",
     "exception": false,
     "start_time": "2021-12-15T00:25:56.253617",
     "status": "completed"
    },
    "tags": []
   },
   "outputs": [],
   "source": [
    "#hide\n",
    "import numpy as np\n",
    "import pandas as pd\n",
    "from jinja2 import Template\n",
    "from IPython.display import HTML"
   ]
  },
  {
   "cell_type": "code",
   "execution_count": 2,
   "id": "developed-terminology",
   "metadata": {
    "execution": {
     "iopub.execute_input": "2021-12-15T00:25:56.696284Z",
     "iopub.status.busy": "2021-12-15T00:25:56.695662Z",
     "iopub.status.idle": "2021-12-15T00:25:56.699123Z",
     "shell.execute_reply": "2021-12-15T00:25:56.699552Z"
    },
    "papermill": {
     "duration": 0.041231,
     "end_time": "2021-12-15T00:25:56.699680",
     "exception": false,
     "start_time": "2021-12-15T00:25:56.658449",
     "status": "completed"
    },
    "tags": []
   },
   "outputs": [],
   "source": [
    "#hide\n",
    "\n",
    "# FETCH\n",
    "base_url = 'https://raw.githubusercontent.com/pratapvardhan/notebooks/master/covid19/'\n",
    "paths = {\n",
    "    'mapping': base_url + 'mapping_countries.csv',\n",
    "    'overview': base_url + 'overview.tpl'\n",
    "}"
   ]
  },
  {
   "cell_type": "code",
   "execution_count": 3,
   "id": "dynamic-saver",
   "metadata": {
    "execution": {
     "iopub.execute_input": "2021-12-15T00:25:56.773390Z",
     "iopub.status.busy": "2021-12-15T00:25:56.771606Z",
     "iopub.status.idle": "2021-12-15T00:25:56.776594Z",
     "shell.execute_reply": "2021-12-15T00:25:56.776044Z"
    },
    "papermill": {
     "duration": 0.042728,
     "end_time": "2021-12-15T00:25:56.776767",
     "exception": false,
     "start_time": "2021-12-15T00:25:56.734039",
     "status": "completed"
    },
    "tags": []
   },
   "outputs": [
    {
     "data": {
      "text/plain": [
       "'https://raw.githubusercontent.com/pratapvardhan/notebooks/master/covid19/mapping_countries.csv'"
      ]
     },
     "execution_count": 3,
     "metadata": {},
     "output_type": "execute_result"
    }
   ],
   "source": [
    "#hide\n",
    "paths['mapping']"
   ]
  },
  {
   "cell_type": "code",
   "execution_count": 4,
   "id": "urban-software",
   "metadata": {
    "execution": {
     "iopub.execute_input": "2021-12-15T00:25:56.850632Z",
     "iopub.status.busy": "2021-12-15T00:25:56.850061Z",
     "iopub.status.idle": "2021-12-15T00:25:56.851232Z",
     "shell.execute_reply": "2021-12-15T00:25:56.851822Z"
    },
    "papermill": {
     "duration": 0.043037,
     "end_time": "2021-12-15T00:25:56.851983",
     "exception": false,
     "start_time": "2021-12-15T00:25:56.808946",
     "status": "completed"
    },
    "tags": []
   },
   "outputs": [],
   "source": [
    "#hide\n",
    "def get_mappings(url):\n",
    "    df = pd.read_csv(url)\n",
    "    return {\n",
    "        'df': df,\n",
    "        'replace.country': dict(df.dropna(subset=['Name']).set_index('Country')['Name']),\n",
    "        'map.continent': dict(df.set_index('Name')['Continent'])\n",
    "    }"
   ]
  },
  {
   "cell_type": "code",
   "execution_count": 5,
   "id": "intimate-machinery",
   "metadata": {
    "execution": {
     "iopub.execute_input": "2021-12-15T00:25:56.920748Z",
     "iopub.status.busy": "2021-12-15T00:25:56.920165Z",
     "iopub.status.idle": "2021-12-15T00:25:56.960394Z",
     "shell.execute_reply": "2021-12-15T00:25:56.959775Z"
    },
    "papermill": {
     "duration": 0.077397,
     "end_time": "2021-12-15T00:25:56.960546",
     "exception": false,
     "start_time": "2021-12-15T00:25:56.883149",
     "status": "completed"
    },
    "tags": []
   },
   "outputs": [],
   "source": [
    "#hide\n",
    "mapping = get_mappings(paths['mapping'])"
   ]
  },
  {
   "cell_type": "code",
   "execution_count": 6,
   "id": "certified-tactics",
   "metadata": {
    "execution": {
     "iopub.execute_input": "2021-12-15T00:25:57.035884Z",
     "iopub.status.busy": "2021-12-15T00:25:57.035350Z",
     "iopub.status.idle": "2021-12-15T00:25:57.037644Z",
     "shell.execute_reply": "2021-12-15T00:25:57.037201Z"
    },
    "papermill": {
     "duration": 0.038816,
     "end_time": "2021-12-15T00:25:57.037748",
     "exception": false,
     "start_time": "2021-12-15T00:25:56.998932",
     "status": "completed"
    },
    "tags": []
   },
   "outputs": [],
   "source": [
    "#hide\n",
    "def get_template(path):\n",
    "    from urllib.parse import urlparse\n",
    "    if bool(urlparse(path).netloc):\n",
    "        from urllib.request import urlopen\n",
    "        return urlopen(path).read().decode('utf8')\n",
    "    return open(path).read()"
   ]
  },
  {
   "cell_type": "code",
   "execution_count": 7,
   "id": "realistic-blast",
   "metadata": {
    "execution": {
     "iopub.execute_input": "2021-12-15T00:25:57.105921Z",
     "iopub.status.busy": "2021-12-15T00:25:57.105349Z",
     "iopub.status.idle": "2021-12-15T00:25:57.107721Z",
     "shell.execute_reply": "2021-12-15T00:25:57.107263Z"
    },
    "papermill": {
     "duration": 0.038118,
     "end_time": "2021-12-15T00:25:57.107826",
     "exception": false,
     "start_time": "2021-12-15T00:25:57.069708",
     "status": "completed"
    },
    "tags": []
   },
   "outputs": [],
   "source": [
    "#hide\n",
    "def get_frame(name):\n",
    "    url = (\n",
    "        'https://raw.githubusercontent.com/CSSEGISandData/COVID-19/master/csse_covid_19_data/'\n",
    "        f'csse_covid_19_time_series/time_series_covid19_{name}_global.csv')\n",
    "    df = pd.read_csv(url)\n",
    "    # rename countries\n",
    "    df['Country/Region'] = df['Country/Region'].replace(mapping['replace.country'])\n",
    "    return df"
   ]
  },
  {
   "cell_type": "code",
   "execution_count": 8,
   "id": "affiliated-characterization",
   "metadata": {
    "execution": {
     "iopub.execute_input": "2021-12-15T00:25:57.186702Z",
     "iopub.status.busy": "2021-12-15T00:25:57.186134Z",
     "iopub.status.idle": "2021-12-15T00:25:57.188509Z",
     "shell.execute_reply": "2021-12-15T00:25:57.188014Z"
    },
    "papermill": {
     "duration": 0.044029,
     "end_time": "2021-12-15T00:25:57.188651",
     "exception": false,
     "start_time": "2021-12-15T00:25:57.144622",
     "status": "completed"
    },
    "tags": []
   },
   "outputs": [],
   "source": [
    "#hide\n",
    "def get_dates(df):\n",
    "    dt_cols = df.columns[~df.columns.isin(['Province/State', 'Country/Region', 'Lat', 'Long'])]\n",
    "    LAST_DATE_I = -1\n",
    "    # sometimes last column may be empty, then go backwards\n",
    "    for i in range(-1, -len(dt_cols), -1):\n",
    "        if not df[dt_cols[i]].fillna(0).eq(0).all():\n",
    "            LAST_DATE_I = i\n",
    "            break\n",
    "    return LAST_DATE_I, dt_cols"
   ]
  },
  {
   "cell_type": "code",
   "execution_count": 9,
   "id": "recent-optimization",
   "metadata": {
    "execution": {
     "iopub.execute_input": "2021-12-15T00:25:57.283743Z",
     "iopub.status.busy": "2021-12-15T00:25:57.282990Z",
     "iopub.status.idle": "2021-12-15T00:25:57.689055Z",
     "shell.execute_reply": "2021-12-15T00:25:57.687996Z"
    },
    "papermill": {
     "duration": 0.446515,
     "end_time": "2021-12-15T00:25:57.689233",
     "exception": false,
     "start_time": "2021-12-15T00:25:57.242718",
     "status": "completed"
    },
    "tags": []
   },
   "outputs": [],
   "source": [
    "#hide\n",
    "COL_REGION = 'Country/Region'\n",
    "# Confirmed, Recovered, Deaths\n",
    "df = get_frame('confirmed')\n",
    "# dft_: timeseries, dfc_: today country agg\n",
    "dft_cases = df\n",
    "dft_deaths = get_frame('deaths')\n",
    "dft_recovered = get_frame('recovered')\n",
    "LAST_DATE_I, dt_cols = get_dates(df)"
   ]
  },
  {
   "cell_type": "code",
   "execution_count": 10,
   "id": "absolute-copper",
   "metadata": {
    "execution": {
     "iopub.execute_input": "2021-12-15T00:25:57.762472Z",
     "iopub.status.busy": "2021-12-15T00:25:57.760948Z",
     "iopub.status.idle": "2021-12-15T00:25:57.763346Z",
     "shell.execute_reply": "2021-12-15T00:25:57.763971Z"
    },
    "papermill": {
     "duration": 0.041759,
     "end_time": "2021-12-15T00:25:57.764173",
     "exception": false,
     "start_time": "2021-12-15T00:25:57.722414",
     "status": "completed"
    },
    "tags": []
   },
   "outputs": [],
   "source": [
    "#hide\n",
    "LAST_DATE_I, dt_cols = get_dates(df)\n",
    "dt_today =dt_cols[LAST_DATE_I]\n",
    "# dt_5day = dt_cols[LAST_DATE_I - 5]\n",
    "dt_yday = dt_cols[LAST_DATE_I - 1]"
   ]
  },
  {
   "cell_type": "code",
   "execution_count": 11,
   "id": "restricted-sheriff",
   "metadata": {
    "execution": {
     "iopub.execute_input": "2021-12-15T00:25:57.831130Z",
     "iopub.status.busy": "2021-12-15T00:25:57.830550Z",
     "iopub.status.idle": "2021-12-15T00:25:57.838822Z",
     "shell.execute_reply": "2021-12-15T00:25:57.839336Z"
    },
    "papermill": {
     "duration": 0.044753,
     "end_time": "2021-12-15T00:25:57.839450",
     "exception": false,
     "start_time": "2021-12-15T00:25:57.794697",
     "status": "completed"
    },
    "tags": []
   },
   "outputs": [],
   "source": [
    "#hide\n",
    "dfc_cases = dft_cases.groupby(COL_REGION)[dt_today].sum()\n",
    "dfc_deaths = dft_deaths.groupby(COL_REGION)[dt_today].sum()\n",
    "# dfp_cases = dft_cases.groupby(COL_REGION)[dt_5day].sum()\n",
    "# dfp_deaths = dft_deaths.groupby(COL_REGION)[dt_5day].sum()\n",
    "dfp_cases = dft_cases.groupby(COL_REGION)[dt_yday].sum()\n",
    "dfp_deaths = dft_deaths.groupby(COL_REGION)[dt_yday].sum()"
   ]
  },
  {
   "cell_type": "code",
   "execution_count": 12,
   "id": "deluxe-hepatitis",
   "metadata": {
    "execution": {
     "iopub.execute_input": "2021-12-15T00:25:57.906547Z",
     "iopub.status.busy": "2021-12-15T00:25:57.905825Z",
     "iopub.status.idle": "2021-12-15T00:25:57.911060Z",
     "shell.execute_reply": "2021-12-15T00:25:57.911578Z"
    },
    "papermill": {
     "duration": 0.040744,
     "end_time": "2021-12-15T00:25:57.911692",
     "exception": false,
     "start_time": "2021-12-15T00:25:57.870948",
     "status": "completed"
    },
    "tags": []
   },
   "outputs": [],
   "source": [
    "#hide\n",
    "df_table = (pd.DataFrame(dict(Cases = dfc_cases, Deaths = dfc_deaths, PCases = dfp_cases, PDeaths = dfp_deaths))\n",
    "            .sort_values(by = ['Cases','Deaths'], ascending = [False, False])\n",
    "            .reset_index())"
   ]
  },
  {
   "cell_type": "code",
   "execution_count": 13,
   "id": "educational-chancellor",
   "metadata": {
    "execution": {
     "iopub.execute_input": "2021-12-15T00:25:57.992325Z",
     "iopub.status.busy": "2021-12-15T00:25:57.991759Z",
     "iopub.status.idle": "2021-12-15T00:25:58.000041Z",
     "shell.execute_reply": "2021-12-15T00:25:58.000597Z"
    },
    "papermill": {
     "duration": 0.058751,
     "end_time": "2021-12-15T00:25:58.000789",
     "exception": false,
     "start_time": "2021-12-15T00:25:57.942038",
     "status": "completed"
    },
    "tags": []
   },
   "outputs": [
    {
     "data": {
      "text/html": [
       "<div>\n",
       "<style scoped>\n",
       "    .dataframe tbody tr th:only-of-type {\n",
       "        vertical-align: middle;\n",
       "    }\n",
       "\n",
       "    .dataframe tbody tr th {\n",
       "        vertical-align: top;\n",
       "    }\n",
       "\n",
       "    .dataframe thead th {\n",
       "        text-align: right;\n",
       "    }\n",
       "</style>\n",
       "<table border=\"1\" class=\"dataframe\">\n",
       "  <thead>\n",
       "    <tr style=\"text-align: right;\">\n",
       "      <th></th>\n",
       "      <th>Country/Region</th>\n",
       "      <th>Cases</th>\n",
       "      <th>Deaths</th>\n",
       "      <th>PCases</th>\n",
       "      <th>PDeaths</th>\n",
       "      <th>Cases (+)</th>\n",
       "      <th>Deaths (+)</th>\n",
       "      <th>Fatality Rate</th>\n",
       "      <th>Continent</th>\n",
       "    </tr>\n",
       "  </thead>\n",
       "  <tbody>\n",
       "    <tr>\n",
       "      <th>0</th>\n",
       "      <td>US</td>\n",
       "      <td>50119589</td>\n",
       "      <td>798714</td>\n",
       "      <td>49921799</td>\n",
       "      <td>797347</td>\n",
       "      <td>197790</td>\n",
       "      <td>1367</td>\n",
       "      <td>1.59</td>\n",
       "      <td>North America</td>\n",
       "    </tr>\n",
       "    <tr>\n",
       "      <th>1</th>\n",
       "      <td>India</td>\n",
       "      <td>34703644</td>\n",
       "      <td>475888</td>\n",
       "      <td>34697860</td>\n",
       "      <td>475636</td>\n",
       "      <td>5784</td>\n",
       "      <td>252</td>\n",
       "      <td>1.37</td>\n",
       "      <td>Asia</td>\n",
       "    </tr>\n",
       "    <tr>\n",
       "      <th>2</th>\n",
       "      <td>Brazil</td>\n",
       "      <td>22177059</td>\n",
       "      <td>616457</td>\n",
       "      <td>22177059</td>\n",
       "      <td>616457</td>\n",
       "      <td>0</td>\n",
       "      <td>0</td>\n",
       "      <td>2.78</td>\n",
       "      <td>South America</td>\n",
       "    </tr>\n",
       "    <tr>\n",
       "      <th>3</th>\n",
       "      <td>United Kingdom</td>\n",
       "      <td>10935244</td>\n",
       "      <td>146935</td>\n",
       "      <td>10881189</td>\n",
       "      <td>146896</td>\n",
       "      <td>54055</td>\n",
       "      <td>39</td>\n",
       "      <td>1.34</td>\n",
       "      <td>Europe</td>\n",
       "    </tr>\n",
       "    <tr>\n",
       "      <th>4</th>\n",
       "      <td>Russia</td>\n",
       "      <td>9871229</td>\n",
       "      <td>284909</td>\n",
       "      <td>9842021</td>\n",
       "      <td>283815</td>\n",
       "      <td>29208</td>\n",
       "      <td>1094</td>\n",
       "      <td>2.89</td>\n",
       "      <td>Europe</td>\n",
       "    </tr>\n",
       "  </tbody>\n",
       "</table>\n",
       "</div>"
      ],
      "text/plain": [
       "   Country/Region     Cases  Deaths    PCases  PDeaths  Cases (+)  Deaths (+)  \\\n",
       "0              US  50119589  798714  49921799   797347     197790        1367   \n",
       "1           India  34703644  475888  34697860   475636       5784         252   \n",
       "2          Brazil  22177059  616457  22177059   616457          0           0   \n",
       "3  United Kingdom  10935244  146935  10881189   146896      54055          39   \n",
       "4          Russia   9871229  284909   9842021   283815      29208        1094   \n",
       "\n",
       "   Fatality Rate      Continent  \n",
       "0           1.59  North America  \n",
       "1           1.37           Asia  \n",
       "2           2.78  South America  \n",
       "3           1.34         Europe  \n",
       "4           2.89         Europe  "
      ]
     },
     "execution_count": 13,
     "metadata": {},
     "output_type": "execute_result"
    }
   ],
   "source": [
    "#hide\n",
    "for c in 'Cases, Deaths'.split(', '):\n",
    "    df_table[f'{c} (+)'] = (df_table[c] - df_table[f'P{c}']).clip(0)\n",
    "    #Clip ça veut dire, les chiffres negatif sont interdit\n",
    "df_table['Fatality Rate'] = (100* df_table['Deaths']/ df_table['Cases']).round(2)\n",
    "df_table['Continent'] = df_table['Country/Region'].map(mapping['map.continent'])\n",
    "df_table.head(5)"
   ]
  },
  {
   "cell_type": "code",
   "execution_count": 14,
   "id": "aboriginal-bulgaria",
   "metadata": {
    "execution": {
     "iopub.execute_input": "2021-12-15T00:25:58.068558Z",
     "iopub.status.busy": "2021-12-15T00:25:58.067861Z",
     "iopub.status.idle": "2021-12-15T00:25:58.070237Z",
     "shell.execute_reply": "2021-12-15T00:25:58.070724Z"
    },
    "papermill": {
     "duration": 0.039483,
     "end_time": "2021-12-15T00:25:58.070846",
     "exception": false,
     "start_time": "2021-12-15T00:25:58.031363",
     "status": "completed"
    },
    "tags": []
   },
   "outputs": [],
   "source": [
    "#hide\n",
    "#delete problematic countries from table\n",
    "df_table = df_table[~df_table['Country/Region'].isin(['Cape Verde', 'Cruise Ship', 'Kosovo'])]"
   ]
  },
  {
   "cell_type": "code",
   "execution_count": 15,
   "id": "fantastic-effect",
   "metadata": {
    "execution": {
     "iopub.execute_input": "2021-12-15T00:25:58.143849Z",
     "iopub.status.busy": "2021-12-15T00:25:58.143286Z",
     "iopub.status.idle": "2021-12-15T00:25:58.164619Z",
     "shell.execute_reply": "2021-12-15T00:25:58.165125Z"
    },
    "papermill": {
     "duration": 0.063437,
     "end_time": "2021-12-15T00:25:58.165242",
     "exception": false,
     "start_time": "2021-12-15T00:25:58.101805",
     "status": "completed"
    },
    "tags": []
   },
   "outputs": [
    {
     "data": {
      "text/html": [
       "<div>\n",
       "<style scoped>\n",
       "    .dataframe tbody tr th:only-of-type {\n",
       "        vertical-align: middle;\n",
       "    }\n",
       "\n",
       "    .dataframe tbody tr th {\n",
       "        vertical-align: top;\n",
       "    }\n",
       "\n",
       "    .dataframe thead th {\n",
       "        text-align: right;\n",
       "    }\n",
       "</style>\n",
       "<table border=\"1\" class=\"dataframe\">\n",
       "  <thead>\n",
       "    <tr style=\"text-align: right;\">\n",
       "      <th></th>\n",
       "      <th>Country/Region</th>\n",
       "      <th>Cases</th>\n",
       "      <th>Deaths</th>\n",
       "      <th>PCases</th>\n",
       "      <th>PDeaths</th>\n",
       "      <th>Cases (+)</th>\n",
       "      <th>Deaths (+)</th>\n",
       "      <th>Fatality Rate</th>\n",
       "      <th>Continent</th>\n",
       "    </tr>\n",
       "  </thead>\n",
       "  <tbody>\n",
       "    <tr>\n",
       "      <th>0</th>\n",
       "      <td>US</td>\n",
       "      <td>50119589</td>\n",
       "      <td>798714</td>\n",
       "      <td>49921799</td>\n",
       "      <td>797347</td>\n",
       "      <td>197790</td>\n",
       "      <td>1367</td>\n",
       "      <td>1.6</td>\n",
       "      <td>North America</td>\n",
       "    </tr>\n",
       "    <tr>\n",
       "      <th>1</th>\n",
       "      <td>India</td>\n",
       "      <td>34703644</td>\n",
       "      <td>475888</td>\n",
       "      <td>34697860</td>\n",
       "      <td>475636</td>\n",
       "      <td>5784</td>\n",
       "      <td>252</td>\n",
       "      <td>1.4</td>\n",
       "      <td>Asia</td>\n",
       "    </tr>\n",
       "    <tr>\n",
       "      <th>2</th>\n",
       "      <td>Brazil</td>\n",
       "      <td>22177059</td>\n",
       "      <td>616457</td>\n",
       "      <td>22177059</td>\n",
       "      <td>616457</td>\n",
       "      <td>0</td>\n",
       "      <td>0</td>\n",
       "      <td>2.8</td>\n",
       "      <td>South America</td>\n",
       "    </tr>\n",
       "    <tr>\n",
       "      <th>3</th>\n",
       "      <td>United Kingdom</td>\n",
       "      <td>10935244</td>\n",
       "      <td>146935</td>\n",
       "      <td>10881189</td>\n",
       "      <td>146896</td>\n",
       "      <td>54055</td>\n",
       "      <td>39</td>\n",
       "      <td>1.3</td>\n",
       "      <td>Europe</td>\n",
       "    </tr>\n",
       "    <tr>\n",
       "      <th>4</th>\n",
       "      <td>Russia</td>\n",
       "      <td>9871229</td>\n",
       "      <td>284909</td>\n",
       "      <td>9842021</td>\n",
       "      <td>283815</td>\n",
       "      <td>29208</td>\n",
       "      <td>1094</td>\n",
       "      <td>2.9</td>\n",
       "      <td>Europe</td>\n",
       "    </tr>\n",
       "  </tbody>\n",
       "</table>\n",
       "</div>"
      ],
      "text/plain": [
       "   Country/Region     Cases  Deaths    PCases  PDeaths  Cases (+)  Deaths (+)  \\\n",
       "0              US  50119589  798714  49921799   797347     197790        1367   \n",
       "1           India  34703644  475888  34697860   475636       5784         252   \n",
       "2          Brazil  22177059  616457  22177059   616457          0           0   \n",
       "3  United Kingdom  10935244  146935  10881189   146896      54055          39   \n",
       "4          Russia   9871229  284909   9842021   283815      29208        1094   \n",
       "\n",
       "   Fatality Rate      Continent  \n",
       "0            1.6  North America  \n",
       "1            1.4           Asia  \n",
       "2            2.8  South America  \n",
       "3            1.3         Europe  \n",
       "4            2.9         Europe  "
      ]
     },
     "execution_count": 15,
     "metadata": {},
     "output_type": "execute_result"
    }
   ],
   "source": [
    "#hide\n",
    "df_table = (pd.DataFrame(dict(Cases=dfc_cases, Deaths=dfc_deaths, PCases=dfp_cases, PDeaths=dfp_deaths))\n",
    "             .sort_values(by=['Cases', 'Deaths'], ascending=[False, False])\n",
    "             .reset_index())\n",
    "df_table.rename(columns={'index': 'Country/Region'}, inplace=True)\n",
    "for c in 'Cases, Deaths'.split(', '):\n",
    "    df_table[f'{c} (+)'] = (df_table[c] - df_table[f'P{c}']).clip(0)  # DATA BUG\n",
    "df_table['Fatality Rate'] = (100 * df_table['Deaths'] / df_table['Cases']).round(1)\n",
    "df_table['Continent'] = df_table['Country/Region'].map(mapping['map.continent'])\n",
    "df_table.head(5)"
   ]
  },
  {
   "cell_type": "code",
   "execution_count": 16,
   "id": "fewer-occasion",
   "metadata": {
    "execution": {
     "iopub.execute_input": "2021-12-15T00:25:58.233536Z",
     "iopub.status.busy": "2021-12-15T00:25:58.232995Z",
     "iopub.status.idle": "2021-12-15T00:25:58.235942Z",
     "shell.execute_reply": "2021-12-15T00:25:58.236471Z"
    },
    "papermill": {
     "duration": 0.038884,
     "end_time": "2021-12-15T00:25:58.236587",
     "exception": false,
     "start_time": "2021-12-15T00:25:58.197703",
     "status": "completed"
    },
    "tags": []
   },
   "outputs": [],
   "source": [
    "#hide\n",
    "#delete problematic countries from table\n",
    "df_table = df_table[~df_table['Country/Region'].isin(['Cape Verde', 'Cruise Ship', 'Kosovo'])]"
   ]
  },
  {
   "cell_type": "code",
   "execution_count": 17,
   "id": "related-center",
   "metadata": {
    "execution": {
     "iopub.execute_input": "2021-12-15T00:25:58.307253Z",
     "iopub.status.busy": "2021-12-15T00:25:58.306713Z",
     "iopub.status.idle": "2021-12-15T00:25:58.321344Z",
     "shell.execute_reply": "2021-12-15T00:25:58.321915Z"
    },
    "papermill": {
     "duration": 0.054266,
     "end_time": "2021-12-15T00:25:58.322111",
     "exception": false,
     "start_time": "2021-12-15T00:25:58.267845",
     "status": "completed"
    },
    "tags": []
   },
   "outputs": [],
   "source": [
    "#hide\n",
    "metrics = [df_table.columns[index] for index in [1,2,5,6]]\n",
    "# s_china = df_table[df_table['Country/Region'].eq('China')][metrics].sum().add_prefix('China ')\n",
    "s_us = df_table[df_table['Country/Region'].eq('US')][metrics].sum().add_prefix('US ')\n",
    "s_eu = df_table[df_table['Continent'].eq('Europe')][metrics].sum().add_prefix('EU ')\n",
    "s_ind = df_table[df_table['Country/Region'].eq('India')][metrics].sum().add_prefix('India ')\n",
    "summary = {'updated': pd.to_datetime(dt_today), 'since': pd.to_datetime(dt_yday)}\n",
    "summary = {'updated': pd.to_datetime(dt_today), 'since': pd.to_datetime(dt_yday)}\n",
    "summary = {**summary, **df_table[metrics].sum(), **s_ind, **s_us, **s_eu}"
   ]
  },
  {
   "cell_type": "code",
   "execution_count": 18,
   "id": "engaging-syndrome",
   "metadata": {
    "execution": {
     "iopub.execute_input": "2021-12-15T00:25:58.404259Z",
     "iopub.status.busy": "2021-12-15T00:25:58.403287Z",
     "iopub.status.idle": "2021-12-15T00:25:58.421319Z",
     "shell.execute_reply": "2021-12-15T00:25:58.421857Z"
    },
    "papermill": {
     "duration": 0.064129,
     "end_time": "2021-12-15T00:25:58.422077",
     "exception": false,
     "start_time": "2021-12-15T00:25:58.357948",
     "status": "completed"
    },
    "tags": []
   },
   "outputs": [],
   "source": [
    "#hide\n",
    "dft_ct_new_cases = dft_cases.groupby(COL_REGION)[dt_cols].sum().diff(axis=1).fillna(0).astype(int)"
   ]
  },
  {
   "cell_type": "code",
   "execution_count": 19,
   "id": "neutral-assignment",
   "metadata": {
    "execution": {
     "iopub.execute_input": "2021-12-15T00:25:58.493249Z",
     "iopub.status.busy": "2021-12-15T00:25:58.492679Z",
     "iopub.status.idle": "2021-12-15T00:25:58.496587Z",
     "shell.execute_reply": "2021-12-15T00:25:58.497213Z"
    },
    "papermill": {
     "duration": 0.039584,
     "end_time": "2021-12-15T00:25:58.497338",
     "exception": false,
     "start_time": "2021-12-15T00:25:58.457754",
     "status": "completed"
    },
    "tags": []
   },
   "outputs": [],
   "source": [
    "#hide\n",
    "everydaycases = dft_ct_new_cases.cumsum(axis=1)"
   ]
  },
  {
   "cell_type": "code",
   "execution_count": 20,
   "id": "parliamentary-calgary",
   "metadata": {
    "execution": {
     "iopub.execute_input": "2021-12-15T00:25:58.568502Z",
     "iopub.status.busy": "2021-12-15T00:25:58.567926Z",
     "iopub.status.idle": "2021-12-15T00:25:59.250748Z",
     "shell.execute_reply": "2021-12-15T00:25:59.250255Z"
    },
    "papermill": {
     "duration": 0.719856,
     "end_time": "2021-12-15T00:25:59.250885",
     "exception": false,
     "start_time": "2021-12-15T00:25:58.531029",
     "status": "completed"
    },
    "tags": []
   },
   "outputs": [],
   "source": [
    "#hide\n",
    "import pandas as pd\n",
    "import matplotlib.pyplot as plt\n",
    "import matplotlib.ticker as ticker\n",
    "import matplotlib.animation as animation\n",
    "from IPython.display import HTML"
   ]
  },
  {
   "cell_type": "code",
   "execution_count": 21,
   "id": "lasting-extraction",
   "metadata": {
    "execution": {
     "iopub.execute_input": "2021-12-15T00:25:59.325224Z",
     "iopub.status.busy": "2021-12-15T00:25:59.324629Z",
     "iopub.status.idle": "2021-12-15T00:25:59.330227Z",
     "shell.execute_reply": "2021-12-15T00:25:59.330733Z"
    },
    "papermill": {
     "duration": 0.046443,
     "end_time": "2021-12-15T00:25:59.330856",
     "exception": false,
     "start_time": "2021-12-15T00:25:59.284413",
     "status": "completed"
    },
    "tags": []
   },
   "outputs": [],
   "source": [
    "#hide\n",
    "t = everydaycases.stack()"
   ]
  },
  {
   "cell_type": "code",
   "execution_count": 22,
   "id": "premier-sleeve",
   "metadata": {
    "execution": {
     "iopub.execute_input": "2021-12-15T00:25:59.398971Z",
     "iopub.status.busy": "2021-12-15T00:25:59.398426Z",
     "iopub.status.idle": "2021-12-15T00:25:59.407090Z",
     "shell.execute_reply": "2021-12-15T00:25:59.407657Z"
    },
    "papermill": {
     "duration": 0.044476,
     "end_time": "2021-12-15T00:25:59.407776",
     "exception": false,
     "start_time": "2021-12-15T00:25:59.363300",
     "status": "completed"
    },
    "tags": []
   },
   "outputs": [],
   "source": [
    "#hide\n",
    "g = t.reset_index(['Country/Region'])"
   ]
  },
  {
   "cell_type": "code",
   "execution_count": 23,
   "id": "distributed-pittsburgh",
   "metadata": {
    "execution": {
     "iopub.execute_input": "2021-12-15T00:25:59.474991Z",
     "iopub.status.busy": "2021-12-15T00:25:59.474441Z",
     "iopub.status.idle": "2021-12-15T00:25:59.476808Z",
     "shell.execute_reply": "2021-12-15T00:25:59.476340Z"
    },
    "papermill": {
     "duration": 0.037674,
     "end_time": "2021-12-15T00:25:59.476920",
     "exception": false,
     "start_time": "2021-12-15T00:25:59.439246",
     "status": "completed"
    },
    "tags": []
   },
   "outputs": [],
   "source": [
    "#hide\n",
    "g.index.name = 'date'"
   ]
  },
  {
   "cell_type": "code",
   "execution_count": 24,
   "id": "naked-donor",
   "metadata": {
    "execution": {
     "iopub.execute_input": "2021-12-15T00:25:59.544503Z",
     "iopub.status.busy": "2021-12-15T00:25:59.543951Z",
     "iopub.status.idle": "2021-12-15T00:25:59.546288Z",
     "shell.execute_reply": "2021-12-15T00:25:59.545752Z"
    },
    "papermill": {
     "duration": 0.037246,
     "end_time": "2021-12-15T00:25:59.546394",
     "exception": false,
     "start_time": "2021-12-15T00:25:59.509148",
     "status": "completed"
    },
    "tags": []
   },
   "outputs": [],
   "source": [
    "# #hide\n",
    "# g = g.reset_index(['date'])"
   ]
  },
  {
   "cell_type": "code",
   "execution_count": 25,
   "id": "incomplete-mustang",
   "metadata": {
    "execution": {
     "iopub.execute_input": "2021-12-15T00:25:59.613697Z",
     "iopub.status.busy": "2021-12-15T00:25:59.613160Z",
     "iopub.status.idle": "2021-12-15T00:25:59.615181Z",
     "shell.execute_reply": "2021-12-15T00:25:59.615593Z"
    },
    "papermill": {
     "duration": 0.036983,
     "end_time": "2021-12-15T00:25:59.615709",
     "exception": false,
     "start_time": "2021-12-15T00:25:59.578726",
     "status": "completed"
    },
    "tags": []
   },
   "outputs": [],
   "source": [
    "#hide\n",
    "# g.head()"
   ]
  },
  {
   "cell_type": "code",
   "execution_count": 26,
   "id": "specific-kruger",
   "metadata": {
    "execution": {
     "iopub.execute_input": "2021-12-15T00:25:59.685334Z",
     "iopub.status.busy": "2021-12-15T00:25:59.684777Z",
     "iopub.status.idle": "2021-12-15T00:25:59.686830Z",
     "shell.execute_reply": "2021-12-15T00:25:59.687245Z"
    },
    "papermill": {
     "duration": 0.04017,
     "end_time": "2021-12-15T00:25:59.687363",
     "exception": false,
     "start_time": "2021-12-15T00:25:59.647193",
     "status": "completed"
    },
    "tags": []
   },
   "outputs": [],
   "source": [
    "#hide\n",
    "# g.columns = ['date','country','cases']"
   ]
  },
  {
   "cell_type": "code",
   "execution_count": 27,
   "id": "tender-conversion",
   "metadata": {
    "execution": {
     "iopub.execute_input": "2021-12-15T00:25:59.756411Z",
     "iopub.status.busy": "2021-12-15T00:25:59.755732Z",
     "iopub.status.idle": "2021-12-15T00:25:59.759899Z",
     "shell.execute_reply": "2021-12-15T00:25:59.760574Z"
    },
    "papermill": {
     "duration": 0.041756,
     "end_time": "2021-12-15T00:25:59.760728",
     "exception": false,
     "start_time": "2021-12-15T00:25:59.718972",
     "status": "completed"
    },
    "tags": []
   },
   "outputs": [],
   "source": [
    "#hide\n",
    "# g['continent'] = g.country"
   ]
  },
  {
   "cell_type": "code",
   "execution_count": 28,
   "id": "substantial-wilderness",
   "metadata": {
    "execution": {
     "iopub.execute_input": "2021-12-15T00:25:59.829835Z",
     "iopub.status.busy": "2021-12-15T00:25:59.829286Z",
     "iopub.status.idle": "2021-12-15T00:25:59.831996Z",
     "shell.execute_reply": "2021-12-15T00:25:59.831537Z"
    },
    "papermill": {
     "duration": 0.037243,
     "end_time": "2021-12-15T00:25:59.832103",
     "exception": false,
     "start_time": "2021-12-15T00:25:59.794860",
     "status": "completed"
    },
    "tags": []
   },
   "outputs": [],
   "source": [
    "#hide\n",
    "# cols = list(g.columns.values)"
   ]
  },
  {
   "cell_type": "code",
   "execution_count": 29,
   "id": "solved-farming",
   "metadata": {
    "execution": {
     "iopub.execute_input": "2021-12-15T00:25:59.898914Z",
     "iopub.status.busy": "2021-12-15T00:25:59.898375Z",
     "iopub.status.idle": "2021-12-15T00:25:59.901018Z",
     "shell.execute_reply": "2021-12-15T00:25:59.900268Z"
    },
    "papermill": {
     "duration": 0.036992,
     "end_time": "2021-12-15T00:25:59.901169",
     "exception": false,
     "start_time": "2021-12-15T00:25:59.864177",
     "status": "completed"
    },
    "tags": []
   },
   "outputs": [],
   "source": [
    "#hide\n",
    "# cols.insert(0, cols.pop())"
   ]
  },
  {
   "cell_type": "code",
   "execution_count": 30,
   "id": "executed-adoption",
   "metadata": {
    "execution": {
     "iopub.execute_input": "2021-12-15T00:25:59.968516Z",
     "iopub.status.busy": "2021-12-15T00:25:59.967996Z",
     "iopub.status.idle": "2021-12-15T00:25:59.970379Z",
     "shell.execute_reply": "2021-12-15T00:25:59.969942Z"
    },
    "papermill": {
     "duration": 0.037094,
     "end_time": "2021-12-15T00:25:59.970479",
     "exception": false,
     "start_time": "2021-12-15T00:25:59.933385",
     "status": "completed"
    },
    "tags": []
   },
   "outputs": [],
   "source": [
    "#hide\n",
    "# g = g[cols]"
   ]
  },
  {
   "cell_type": "code",
   "execution_count": 31,
   "id": "subject-dublin",
   "metadata": {
    "execution": {
     "iopub.execute_input": "2021-12-15T00:26:00.037752Z",
     "iopub.status.busy": "2021-12-15T00:26:00.037181Z",
     "iopub.status.idle": "2021-12-15T00:26:00.039417Z",
     "shell.execute_reply": "2021-12-15T00:26:00.038959Z"
    },
    "papermill": {
     "duration": 0.03748,
     "end_time": "2021-12-15T00:26:00.039524",
     "exception": false,
     "start_time": "2021-12-15T00:26:00.002044",
     "status": "completed"
    },
    "tags": []
   },
   "outputs": [],
   "source": [
    "#hide\n",
    "# g['continent'] = g['continent'].map(mapping['map.continent'])"
   ]
  },
  {
   "cell_type": "code",
   "execution_count": 32,
   "id": "freelance-scout",
   "metadata": {
    "execution": {
     "iopub.execute_input": "2021-12-15T00:26:00.111513Z",
     "iopub.status.busy": "2021-12-15T00:26:00.110768Z",
     "iopub.status.idle": "2021-12-15T00:26:00.113454Z",
     "shell.execute_reply": "2021-12-15T00:26:00.113008Z"
    },
    "papermill": {
     "duration": 0.038466,
     "end_time": "2021-12-15T00:26:00.113556",
     "exception": false,
     "start_time": "2021-12-15T00:26:00.075090",
     "status": "completed"
    },
    "tags": []
   },
   "outputs": [],
   "source": [
    "#hide\n",
    "# g.head()"
   ]
  },
  {
   "cell_type": "code",
   "execution_count": 33,
   "id": "limited-engine",
   "metadata": {
    "execution": {
     "iopub.execute_input": "2021-12-15T00:26:00.179664Z",
     "iopub.status.busy": "2021-12-15T00:26:00.179124Z",
     "iopub.status.idle": "2021-12-15T00:26:00.182832Z",
     "shell.execute_reply": "2021-12-15T00:26:00.183331Z"
    },
    "papermill": {
     "duration": 0.038967,
     "end_time": "2021-12-15T00:26:00.183449",
     "exception": false,
     "start_time": "2021-12-15T00:26:00.144482",
     "status": "completed"
    },
    "tags": []
   },
   "outputs": [],
   "source": [
    "# hide\n",
    "# g['date'] = g['date'].astype('datetime64[ns]')"
   ]
  },
  {
   "cell_type": "code",
   "execution_count": 34,
   "id": "sophisticated-supervisor",
   "metadata": {
    "execution": {
     "iopub.execute_input": "2021-12-15T00:26:00.250762Z",
     "iopub.status.busy": "2021-12-15T00:26:00.250221Z",
     "iopub.status.idle": "2021-12-15T00:26:00.252328Z",
     "shell.execute_reply": "2021-12-15T00:26:00.252767Z"
    },
    "papermill": {
     "duration": 0.037094,
     "end_time": "2021-12-15T00:26:00.252894",
     "exception": false,
     "start_time": "2021-12-15T00:26:00.215800",
     "status": "completed"
    },
    "tags": []
   },
   "outputs": [],
   "source": [
    "#hide\n",
    "# g['date'] = g.date.dt.dayofyear"
   ]
  },
  {
   "cell_type": "code",
   "execution_count": 35,
   "id": "inside-dubai",
   "metadata": {
    "execution": {
     "iopub.execute_input": "2021-12-15T00:26:00.320657Z",
     "iopub.status.busy": "2021-12-15T00:26:00.320117Z",
     "iopub.status.idle": "2021-12-15T00:26:00.324090Z",
     "shell.execute_reply": "2021-12-15T00:26:00.323515Z"
    },
    "papermill": {
     "duration": 0.038622,
     "end_time": "2021-12-15T00:26:00.324235",
     "exception": false,
     "start_time": "2021-12-15T00:26:00.285613",
     "status": "completed"
    },
    "tags": []
   },
   "outputs": [],
   "source": [
    "#hide\n",
    "# g = g.rename(columns= {'continent':'group','country':'name','cases':'value'})"
   ]
  },
  {
   "cell_type": "code",
   "execution_count": 36,
   "id": "fleet-motorcycle",
   "metadata": {
    "execution": {
     "iopub.execute_input": "2021-12-15T00:26:00.391016Z",
     "iopub.status.busy": "2021-12-15T00:26:00.390467Z",
     "iopub.status.idle": "2021-12-15T00:26:00.393831Z",
     "shell.execute_reply": "2021-12-15T00:26:00.394260Z"
    },
    "papermill": {
     "duration": 0.038428,
     "end_time": "2021-12-15T00:26:00.394383",
     "exception": false,
     "start_time": "2021-12-15T00:26:00.355955",
     "status": "completed"
    },
    "tags": []
   },
   "outputs": [],
   "source": [
    "#hide\n",
    "# cols = ['name','group','day','value']"
   ]
  },
  {
   "cell_type": "code",
   "execution_count": 37,
   "id": "continued-sleeping",
   "metadata": {
    "execution": {
     "iopub.execute_input": "2021-12-15T00:26:00.462838Z",
     "iopub.status.busy": "2021-12-15T00:26:00.462185Z",
     "iopub.status.idle": "2021-12-15T00:26:00.464842Z",
     "shell.execute_reply": "2021-12-15T00:26:00.464164Z"
    },
    "papermill": {
     "duration": 0.038525,
     "end_time": "2021-12-15T00:26:00.464959",
     "exception": false,
     "start_time": "2021-12-15T00:26:00.426434",
     "status": "completed"
    },
    "tags": []
   },
   "outputs": [],
   "source": [
    "#hide\n",
    "# g.rename(columns= {'date':'day'},inplace = True)"
   ]
  },
  {
   "cell_type": "code",
   "execution_count": 38,
   "id": "major-fight",
   "metadata": {
    "execution": {
     "iopub.execute_input": "2021-12-15T00:26:00.531490Z",
     "iopub.status.busy": "2021-12-15T00:26:00.530904Z",
     "iopub.status.idle": "2021-12-15T00:26:00.534458Z",
     "shell.execute_reply": "2021-12-15T00:26:00.534873Z"
    },
    "papermill": {
     "duration": 0.038097,
     "end_time": "2021-12-15T00:26:00.535002",
     "exception": false,
     "start_time": "2021-12-15T00:26:00.496905",
     "status": "completed"
    },
    "tags": []
   },
   "outputs": [],
   "source": [
    "#hide\n",
    "# g = g[cols]"
   ]
  },
  {
   "cell_type": "code",
   "execution_count": 39,
   "id": "structured-mobile",
   "metadata": {
    "execution": {
     "iopub.execute_input": "2021-12-15T00:26:00.601059Z",
     "iopub.status.busy": "2021-12-15T00:26:00.600496Z",
     "iopub.status.idle": "2021-12-15T00:26:00.602387Z",
     "shell.execute_reply": "2021-12-15T00:26:00.601868Z"
    },
    "papermill": {
     "duration": 0.035534,
     "end_time": "2021-12-15T00:26:00.602489",
     "exception": false,
     "start_time": "2021-12-15T00:26:00.566955",
     "status": "completed"
    },
    "tags": []
   },
   "outputs": [],
   "source": [
    "# #hide\n",
    "# g = g[g.group.notna()]"
   ]
  },
  {
   "cell_type": "code",
   "execution_count": 40,
   "id": "determined-closing",
   "metadata": {
    "execution": {
     "iopub.execute_input": "2021-12-15T00:26:00.668376Z",
     "iopub.status.busy": "2021-12-15T00:26:00.667789Z",
     "iopub.status.idle": "2021-12-15T00:26:00.669899Z",
     "shell.execute_reply": "2021-12-15T00:26:00.670297Z"
    },
    "papermill": {
     "duration": 0.03603,
     "end_time": "2021-12-15T00:26:00.670409",
     "exception": false,
     "start_time": "2021-12-15T00:26:00.634379",
     "status": "completed"
    },
    "tags": []
   },
   "outputs": [],
   "source": [
    "# #hide\n",
    "# colors = dict(zip(\n",
    "#     [\"Oceania\", \"Europe\", \"Asia\", \"South America\", \"Middle East\", \"North America\", \"Africa\"],\n",
    "#     [\"#adb0ff\", \"#ffb3ff\", \"#90d595\", \"#e48381\", \"#aafbff\", \"#f7bb5f\", \"#eafb50\"]\n",
    "# ))\n",
    "# group_lk = g.set_index('name')['group'].to_dict()"
   ]
  },
  {
   "cell_type": "code",
   "execution_count": null,
   "id": "gross-drinking",
   "metadata": {
    "papermill": {
     "duration": 0.031592,
     "end_time": "2021-12-15T00:26:00.732580",
     "exception": false,
     "start_time": "2021-12-15T00:26:00.700988",
     "status": "completed"
    },
    "tags": []
   },
   "outputs": [],
   "source": []
  },
  {
   "cell_type": "code",
   "execution_count": 41,
   "id": "subject-macintosh",
   "metadata": {
    "execution": {
     "iopub.execute_input": "2021-12-15T00:26:00.797458Z",
     "iopub.status.busy": "2021-12-15T00:26:00.796894Z",
     "iopub.status.idle": "2021-12-15T00:26:00.799000Z",
     "shell.execute_reply": "2021-12-15T00:26:00.798463Z"
    },
    "papermill": {
     "duration": 0.036122,
     "end_time": "2021-12-15T00:26:00.799107",
     "exception": false,
     "start_time": "2021-12-15T00:26:00.762985",
     "status": "completed"
    },
    "tags": []
   },
   "outputs": [],
   "source": [
    "# #hide\n",
    "# fig, ax = plt.subplots(figsize=(15, 8))\n",
    "\n",
    "# def draw_barchart(current_day):\n",
    "#     dff = g[g['day'].eq(current_day)].sort_values(by='value', ascending=True).tail(10)\n",
    "#     ax.clear()\n",
    "#     ax.barh(dff['name'], dff['value'], color=[colors[group_lk[x]] for x in dff['name']])\n",
    "#     dx = dff['value'].max() / 200\n",
    "    \n",
    "#     for i, (value, name) in enumerate(zip(dff['value'], dff['name'])):\n",
    "#         ax.text(value-dx, i,     name,           size=14, weight=600, ha='right', va='bottom')\n",
    "#         ax.text(value-dx, i-.25, group_lk[name], size=10, color='#444444', ha='right', va='baseline')\n",
    "#         ax.text(value+dx, i,     f'{value:,.0f}',  size=14, ha='left',  va='center')\n",
    "#     ax.text(1, 0.4, current_day, transform=ax.transAxes, color='#777777', size=46, ha='right', weight=800)\n",
    "#     ax.text(0, 1.06, 'Population (thousands)', transform=ax.transAxes, size=12, color='#777777')\n",
    "#     ax.xaxis.set_major_formatter(ticker.StrMethodFormatter('{x:,.0f}'))\n",
    "#     ax.xaxis.set_ticks_position('top')\n",
    "#     ax.tick_params(axis='x', colors='#777777', labelsize=12)\n",
    "#     ax.set_yticks([])\n",
    "#     ax.margins(0, 0.01)\n",
    "#     ax.grid(which='major', axis='x', linestyle='-')\n",
    "#     ax.set_axisbelow(True)\n",
    "    \n",
    "#     ax.text(0, 1.15, 'Coronavirus',\n",
    "#             transform=ax.transAxes, size=24, weight=600, ha='left', va='top')\n",
    "# #     ax.text(1, 0, 'by @pratapvardhan; credit @jburnmurdoch', transform=ax.transAxes, color='#777777', ha='right',\n",
    "# #             bbox=dict(facecolor='white', alpha=0.8, edgecolor='white'))\n",
    "#     plt.box(False)"
   ]
  },
  {
   "cell_type": "code",
   "execution_count": 42,
   "id": "sexual-wages",
   "metadata": {
    "execution": {
     "iopub.execute_input": "2021-12-15T00:26:00.866342Z",
     "iopub.status.busy": "2021-12-15T00:26:00.865802Z",
     "iopub.status.idle": "2021-12-15T00:26:00.868222Z",
     "shell.execute_reply": "2021-12-15T00:26:00.867764Z"
    },
    "papermill": {
     "duration": 0.037082,
     "end_time": "2021-12-15T00:26:00.868333",
     "exception": false,
     "start_time": "2021-12-15T00:26:00.831251",
     "status": "completed"
    },
    "tags": []
   },
   "outputs": [],
   "source": [
    "# #hide_input\n",
    "# fig, ax = plt.subplots(figsize=(15, 8))\n",
    "# animator = animation.FuncAnimation(fig, draw_barchart, frames=range(g.day.values.min(), g.day.values.max()))\n",
    "# HTML(animator.to_jshtml())\n",
    "# # or use animator.to_html5_video() or animator.save() "
   ]
  },
  {
   "cell_type": "code",
   "execution_count": null,
   "id": "australian-container",
   "metadata": {
    "papermill": {
     "duration": 0.031594,
     "end_time": "2021-12-15T00:26:00.932076",
     "exception": false,
     "start_time": "2021-12-15T00:26:00.900482",
     "status": "completed"
    },
    "tags": []
   },
   "outputs": [],
   "source": []
  },
  {
   "cell_type": "code",
   "execution_count": null,
   "id": "mediterranean-pontiac",
   "metadata": {
    "papermill": {
     "duration": 0.03134,
     "end_time": "2021-12-15T00:26:00.996166",
     "exception": false,
     "start_time": "2021-12-15T00:26:00.964826",
     "status": "completed"
    },
    "tags": []
   },
   "outputs": [],
   "source": []
  },
  {
   "cell_type": "code",
   "execution_count": null,
   "id": "aging-legislature",
   "metadata": {
    "papermill": {
     "duration": 0.03318,
     "end_time": "2021-12-15T00:26:01.061062",
     "exception": false,
     "start_time": "2021-12-15T00:26:01.027882",
     "status": "completed"
    },
    "tags": []
   },
   "outputs": [],
   "source": []
  }
 ],
 "metadata": {
  "kernelspec": {
   "display_name": "Python 3",
   "language": "python",
   "name": "python3"
  },
  "language_info": {
   "codemirror_mode": {
    "name": "ipython",
    "version": 3
   },
   "file_extension": ".py",
   "mimetype": "text/x-python",
   "name": "python",
   "nbconvert_exporter": "python",
   "pygments_lexer": "ipython3",
   "version": "3.6.15"
  },
  "papermill": {
   "duration": 6.166541,
   "end_time": "2021-12-15T00:26:01.409220",
   "environment_variables": {},
   "exception": null,
   "input_path": "2020-03-21-covid19exp.ipynb",
   "output_path": "2020-03-21-covid19exp.ipynb",
   "parameters": {},
   "start_time": "2021-12-15T00:25:55.242679",
   "version": "2.0.0"
  }
 },
 "nbformat": 4,
 "nbformat_minor": 5
}