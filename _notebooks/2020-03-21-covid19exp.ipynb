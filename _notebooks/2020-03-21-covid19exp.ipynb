{
 "cells": [
  {
   "cell_type": "markdown",
   "id": "muslim-click",
   "metadata": {
    "papermill": {
     "duration": 0.042533,
     "end_time": "2021-11-01T12:14:09.145432",
     "exception": false,
     "start_time": "2021-11-01T12:14:09.102899",
     "status": "completed"
    },
    "tags": []
   },
   "source": [
    "# COVID-19 Case Race\n",
    "> A race chart to see rising cases around the world\n",
    "\n",
    "- author: Hargun Oberoi\n",
    "- image: images/covid-overview.png\n",
    "- hide: false\n",
    "- badges: false"
   ]
  },
  {
   "cell_type": "code",
   "execution_count": 1,
   "id": "proof-material",
   "metadata": {
    "execution": {
     "iopub.execute_input": "2021-11-01T12:14:09.231455Z",
     "iopub.status.busy": "2021-11-01T12:14:09.230796Z",
     "iopub.status.idle": "2021-11-01T12:14:09.617897Z",
     "shell.execute_reply": "2021-11-01T12:14:09.617247Z"
    },
    "papermill": {
     "duration": 0.434782,
     "end_time": "2021-11-01T12:14:09.618122",
     "exception": false,
     "start_time": "2021-11-01T12:14:09.183340",
     "status": "completed"
    },
    "tags": []
   },
   "outputs": [],
   "source": [
    "#hide\n",
    "import numpy as np\n",
    "import pandas as pd\n",
    "from jinja2 import Template\n",
    "from IPython.display import HTML"
   ]
  },
  {
   "cell_type": "code",
   "execution_count": 2,
   "id": "developed-terminology",
   "metadata": {
    "execution": {
     "iopub.execute_input": "2021-11-01T12:14:09.700923Z",
     "iopub.status.busy": "2021-11-01T12:14:09.700241Z",
     "iopub.status.idle": "2021-11-01T12:14:09.702732Z",
     "shell.execute_reply": "2021-11-01T12:14:09.702173Z"
    },
    "papermill": {
     "duration": 0.046052,
     "end_time": "2021-11-01T12:14:09.702865",
     "exception": false,
     "start_time": "2021-11-01T12:14:09.656813",
     "status": "completed"
    },
    "tags": []
   },
   "outputs": [],
   "source": [
    "#hide\n",
    "\n",
    "# FETCH\n",
    "base_url = 'https://raw.githubusercontent.com/pratapvardhan/notebooks/master/covid19/'\n",
    "paths = {\n",
    "    'mapping': base_url + 'mapping_countries.csv',\n",
    "    'overview': base_url + 'overview.tpl'\n",
    "}"
   ]
  },
  {
   "cell_type": "code",
   "execution_count": 3,
   "id": "dynamic-saver",
   "metadata": {
    "execution": {
     "iopub.execute_input": "2021-11-01T12:14:09.788905Z",
     "iopub.status.busy": "2021-11-01T12:14:09.788244Z",
     "iopub.status.idle": "2021-11-01T12:14:09.791447Z",
     "shell.execute_reply": "2021-11-01T12:14:09.791960Z"
    },
    "papermill": {
     "duration": 0.052046,
     "end_time": "2021-11-01T12:14:09.792126",
     "exception": false,
     "start_time": "2021-11-01T12:14:09.740080",
     "status": "completed"
    },
    "tags": []
   },
   "outputs": [
    {
     "data": {
      "text/plain": [
       "'https://raw.githubusercontent.com/pratapvardhan/notebooks/master/covid19/mapping_countries.csv'"
      ]
     },
     "execution_count": 3,
     "metadata": {},
     "output_type": "execute_result"
    }
   ],
   "source": [
    "#hide\n",
    "paths['mapping']"
   ]
  },
  {
   "cell_type": "code",
   "execution_count": 4,
   "id": "urban-software",
   "metadata": {
    "execution": {
     "iopub.execute_input": "2021-11-01T12:14:09.875721Z",
     "iopub.status.busy": "2021-11-01T12:14:09.875017Z",
     "iopub.status.idle": "2021-11-01T12:14:09.877374Z",
     "shell.execute_reply": "2021-11-01T12:14:09.876710Z"
    },
    "papermill": {
     "duration": 0.046655,
     "end_time": "2021-11-01T12:14:09.877519",
     "exception": false,
     "start_time": "2021-11-01T12:14:09.830864",
     "status": "completed"
    },
    "tags": []
   },
   "outputs": [],
   "source": [
    "#hide\n",
    "def get_mappings(url):\n",
    "    df = pd.read_csv(url)\n",
    "    return {\n",
    "        'df': df,\n",
    "        'replace.country': dict(df.dropna(subset=['Name']).set_index('Country')['Name']),\n",
    "        'map.continent': dict(df.set_index('Name')['Continent'])\n",
    "    }"
   ]
  },
  {
   "cell_type": "code",
   "execution_count": 5,
   "id": "intimate-machinery",
   "metadata": {
    "execution": {
     "iopub.execute_input": "2021-11-01T12:14:09.963218Z",
     "iopub.status.busy": "2021-11-01T12:14:09.962551Z",
     "iopub.status.idle": "2021-11-01T12:14:10.002456Z",
     "shell.execute_reply": "2021-11-01T12:14:10.003018Z"
    },
    "papermill": {
     "duration": 0.086464,
     "end_time": "2021-11-01T12:14:10.003192",
     "exception": false,
     "start_time": "2021-11-01T12:14:09.916728",
     "status": "completed"
    },
    "tags": []
   },
   "outputs": [],
   "source": [
    "#hide\n",
    "mapping = get_mappings(paths['mapping'])"
   ]
  },
  {
   "cell_type": "code",
   "execution_count": 6,
   "id": "certified-tactics",
   "metadata": {
    "execution": {
     "iopub.execute_input": "2021-11-01T12:14:10.088895Z",
     "iopub.status.busy": "2021-11-01T12:14:10.088233Z",
     "iopub.status.idle": "2021-11-01T12:14:10.090772Z",
     "shell.execute_reply": "2021-11-01T12:14:10.090211Z"
    },
    "papermill": {
     "duration": 0.049959,
     "end_time": "2021-11-01T12:14:10.090908",
     "exception": false,
     "start_time": "2021-11-01T12:14:10.040949",
     "status": "completed"
    },
    "tags": []
   },
   "outputs": [],
   "source": [
    "#hide\n",
    "def get_template(path):\n",
    "    from urllib.parse import urlparse\n",
    "    if bool(urlparse(path).netloc):\n",
    "        from urllib.request import urlopen\n",
    "        return urlopen(path).read().decode('utf8')\n",
    "    return open(path).read()"
   ]
  },
  {
   "cell_type": "code",
   "execution_count": 7,
   "id": "realistic-blast",
   "metadata": {
    "execution": {
     "iopub.execute_input": "2021-11-01T12:14:10.174747Z",
     "iopub.status.busy": "2021-11-01T12:14:10.174079Z",
     "iopub.status.idle": "2021-11-01T12:14:10.177456Z",
     "shell.execute_reply": "2021-11-01T12:14:10.176895Z"
    },
    "papermill": {
     "duration": 0.047055,
     "end_time": "2021-11-01T12:14:10.177630",
     "exception": false,
     "start_time": "2021-11-01T12:14:10.130575",
     "status": "completed"
    },
    "tags": []
   },
   "outputs": [],
   "source": [
    "#hide\n",
    "def get_frame(name):\n",
    "    url = (\n",
    "        'https://raw.githubusercontent.com/CSSEGISandData/COVID-19/master/csse_covid_19_data/'\n",
    "        f'csse_covid_19_time_series/time_series_covid19_{name}_global.csv')\n",
    "    df = pd.read_csv(url)\n",
    "    # rename countries\n",
    "    df['Country/Region'] = df['Country/Region'].replace(mapping['replace.country'])\n",
    "    return df"
   ]
  },
  {
   "cell_type": "code",
   "execution_count": 8,
   "id": "affiliated-characterization",
   "metadata": {
    "execution": {
     "iopub.execute_input": "2021-11-01T12:14:10.259512Z",
     "iopub.status.busy": "2021-11-01T12:14:10.258844Z",
     "iopub.status.idle": "2021-11-01T12:14:10.261308Z",
     "shell.execute_reply": "2021-11-01T12:14:10.260747Z"
    },
    "papermill": {
     "duration": 0.046213,
     "end_time": "2021-11-01T12:14:10.261446",
     "exception": false,
     "start_time": "2021-11-01T12:14:10.215233",
     "status": "completed"
    },
    "tags": []
   },
   "outputs": [],
   "source": [
    "#hide\n",
    "def get_dates(df):\n",
    "    dt_cols = df.columns[~df.columns.isin(['Province/State', 'Country/Region', 'Lat', 'Long'])]\n",
    "    LAST_DATE_I = -1\n",
    "    # sometimes last column may be empty, then go backwards\n",
    "    for i in range(-1, -len(dt_cols), -1):\n",
    "        if not df[dt_cols[i]].fillna(0).eq(0).all():\n",
    "            LAST_DATE_I = i\n",
    "            break\n",
    "    return LAST_DATE_I, dt_cols"
   ]
  },
  {
   "cell_type": "code",
   "execution_count": 9,
   "id": "recent-optimization",
   "metadata": {
    "execution": {
     "iopub.execute_input": "2021-11-01T12:14:10.343487Z",
     "iopub.status.busy": "2021-11-01T12:14:10.342430Z",
     "iopub.status.idle": "2021-11-01T12:14:10.767191Z",
     "shell.execute_reply": "2021-11-01T12:14:10.766584Z"
    },
    "papermill": {
     "duration": 0.46802,
     "end_time": "2021-11-01T12:14:10.767342",
     "exception": false,
     "start_time": "2021-11-01T12:14:10.299322",
     "status": "completed"
    },
    "tags": []
   },
   "outputs": [],
   "source": [
    "#hide\n",
    "COL_REGION = 'Country/Region'\n",
    "# Confirmed, Recovered, Deaths\n",
    "df = get_frame('confirmed')\n",
    "# dft_: timeseries, dfc_: today country agg\n",
    "dft_cases = df\n",
    "dft_deaths = get_frame('deaths')\n",
    "dft_recovered = get_frame('recovered')\n",
    "LAST_DATE_I, dt_cols = get_dates(df)"
   ]
  },
  {
   "cell_type": "code",
   "execution_count": 10,
   "id": "absolute-copper",
   "metadata": {
    "execution": {
     "iopub.execute_input": "2021-11-01T12:14:10.851439Z",
     "iopub.status.busy": "2021-11-01T12:14:10.850778Z",
     "iopub.status.idle": "2021-11-01T12:14:10.852728Z",
     "shell.execute_reply": "2021-11-01T12:14:10.853236Z"
    },
    "papermill": {
     "duration": 0.046463,
     "end_time": "2021-11-01T12:14:10.853391",
     "exception": false,
     "start_time": "2021-11-01T12:14:10.806928",
     "status": "completed"
    },
    "tags": []
   },
   "outputs": [],
   "source": [
    "#hide\n",
    "LAST_DATE_I, dt_cols = get_dates(df)\n",
    "dt_today =dt_cols[LAST_DATE_I]\n",
    "# dt_5day = dt_cols[LAST_DATE_I - 5]\n",
    "dt_yday = dt_cols[LAST_DATE_I - 1]"
   ]
  },
  {
   "cell_type": "code",
   "execution_count": 11,
   "id": "restricted-sheriff",
   "metadata": {
    "execution": {
     "iopub.execute_input": "2021-11-01T12:14:10.938868Z",
     "iopub.status.busy": "2021-11-01T12:14:10.938187Z",
     "iopub.status.idle": "2021-11-01T12:14:10.945068Z",
     "shell.execute_reply": "2021-11-01T12:14:10.944502Z"
    },
    "papermill": {
     "duration": 0.052688,
     "end_time": "2021-11-01T12:14:10.945206",
     "exception": false,
     "start_time": "2021-11-01T12:14:10.892518",
     "status": "completed"
    },
    "tags": []
   },
   "outputs": [],
   "source": [
    "#hide\n",
    "dfc_cases = dft_cases.groupby(COL_REGION)[dt_today].sum()\n",
    "dfc_deaths = dft_deaths.groupby(COL_REGION)[dt_today].sum()\n",
    "# dfp_cases = dft_cases.groupby(COL_REGION)[dt_5day].sum()\n",
    "# dfp_deaths = dft_deaths.groupby(COL_REGION)[dt_5day].sum()\n",
    "dfp_cases = dft_cases.groupby(COL_REGION)[dt_yday].sum()\n",
    "dfp_deaths = dft_deaths.groupby(COL_REGION)[dt_yday].sum()"
   ]
  },
  {
   "cell_type": "code",
   "execution_count": 12,
   "id": "deluxe-hepatitis",
   "metadata": {
    "execution": {
     "iopub.execute_input": "2021-11-01T12:14:11.027785Z",
     "iopub.status.busy": "2021-11-01T12:14:11.027048Z",
     "iopub.status.idle": "2021-11-01T12:14:11.034406Z",
     "shell.execute_reply": "2021-11-01T12:14:11.035043Z"
    },
    "papermill": {
     "duration": 0.051439,
     "end_time": "2021-11-01T12:14:11.035202",
     "exception": false,
     "start_time": "2021-11-01T12:14:10.983763",
     "status": "completed"
    },
    "tags": []
   },
   "outputs": [],
   "source": [
    "#hide\n",
    "df_table = (pd.DataFrame(dict(Cases = dfc_cases, Deaths = dfc_deaths, PCases = dfp_cases, PDeaths = dfp_deaths))\n",
    "            .sort_values(by = ['Cases','Deaths'], ascending = [False, False])\n",
    "            .reset_index())"
   ]
  },
  {
   "cell_type": "code",
   "execution_count": 13,
   "id": "educational-chancellor",
   "metadata": {
    "execution": {
     "iopub.execute_input": "2021-11-01T12:14:11.137146Z",
     "iopub.status.busy": "2021-11-01T12:14:11.136446Z",
     "iopub.status.idle": "2021-11-01T12:14:11.144873Z",
     "shell.execute_reply": "2021-11-01T12:14:11.145418Z"
    },
    "papermill": {
     "duration": 0.072014,
     "end_time": "2021-11-01T12:14:11.145616",
     "exception": false,
     "start_time": "2021-11-01T12:14:11.073602",
     "status": "completed"
    },
    "tags": []
   },
   "outputs": [
    {
     "data": {
      "text/html": [
       "<div>\n",
       "<style scoped>\n",
       "    .dataframe tbody tr th:only-of-type {\n",
       "        vertical-align: middle;\n",
       "    }\n",
       "\n",
       "    .dataframe tbody tr th {\n",
       "        vertical-align: top;\n",
       "    }\n",
       "\n",
       "    .dataframe thead th {\n",
       "        text-align: right;\n",
       "    }\n",
       "</style>\n",
       "<table border=\"1\" class=\"dataframe\">\n",
       "  <thead>\n",
       "    <tr style=\"text-align: right;\">\n",
       "      <th></th>\n",
       "      <th>Country/Region</th>\n",
       "      <th>Cases</th>\n",
       "      <th>Deaths</th>\n",
       "      <th>PCases</th>\n",
       "      <th>PDeaths</th>\n",
       "      <th>Cases (+)</th>\n",
       "      <th>Deaths (+)</th>\n",
       "      <th>Fatality Rate</th>\n",
       "      <th>Continent</th>\n",
       "    </tr>\n",
       "  </thead>\n",
       "  <tbody>\n",
       "    <tr>\n",
       "      <th>0</th>\n",
       "      <td>US</td>\n",
       "      <td>45970785</td>\n",
       "      <td>745832</td>\n",
       "      <td>45953186</td>\n",
       "      <td>745668</td>\n",
       "      <td>17599</td>\n",
       "      <td>164</td>\n",
       "      <td>1.62</td>\n",
       "      <td>North America</td>\n",
       "    </tr>\n",
       "    <tr>\n",
       "      <th>1</th>\n",
       "      <td>India</td>\n",
       "      <td>34285814</td>\n",
       "      <td>458437</td>\n",
       "      <td>34273300</td>\n",
       "      <td>458186</td>\n",
       "      <td>12514</td>\n",
       "      <td>251</td>\n",
       "      <td>1.34</td>\n",
       "      <td>Asia</td>\n",
       "    </tr>\n",
       "    <tr>\n",
       "      <th>2</th>\n",
       "      <td>Brazil</td>\n",
       "      <td>21810855</td>\n",
       "      <td>607824</td>\n",
       "      <td>21804094</td>\n",
       "      <td>607694</td>\n",
       "      <td>6761</td>\n",
       "      <td>130</td>\n",
       "      <td>2.79</td>\n",
       "      <td>South America</td>\n",
       "    </tr>\n",
       "    <tr>\n",
       "      <th>3</th>\n",
       "      <td>United Kingdom</td>\n",
       "      <td>9100442</td>\n",
       "      <td>141055</td>\n",
       "      <td>9062710</td>\n",
       "      <td>140981</td>\n",
       "      <td>37732</td>\n",
       "      <td>74</td>\n",
       "      <td>1.55</td>\n",
       "      <td>Europe</td>\n",
       "    </tr>\n",
       "    <tr>\n",
       "      <th>4</th>\n",
       "      <td>Russia</td>\n",
       "      <td>8377984</td>\n",
       "      <td>234194</td>\n",
       "      <td>8338053</td>\n",
       "      <td>233063</td>\n",
       "      <td>39931</td>\n",
       "      <td>1131</td>\n",
       "      <td>2.80</td>\n",
       "      <td>Europe</td>\n",
       "    </tr>\n",
       "  </tbody>\n",
       "</table>\n",
       "</div>"
      ],
      "text/plain": [
       "   Country/Region     Cases  Deaths    PCases  PDeaths  Cases (+)  Deaths (+)  \\\n",
       "0              US  45970785  745832  45953186   745668      17599         164   \n",
       "1           India  34285814  458437  34273300   458186      12514         251   \n",
       "2          Brazil  21810855  607824  21804094   607694       6761         130   \n",
       "3  United Kingdom   9100442  141055   9062710   140981      37732          74   \n",
       "4          Russia   8377984  234194   8338053   233063      39931        1131   \n",
       "\n",
       "   Fatality Rate      Continent  \n",
       "0           1.62  North America  \n",
       "1           1.34           Asia  \n",
       "2           2.79  South America  \n",
       "3           1.55         Europe  \n",
       "4           2.80         Europe  "
      ]
     },
     "execution_count": 13,
     "metadata": {},
     "output_type": "execute_result"
    }
   ],
   "source": [
    "#hide\n",
    "for c in 'Cases, Deaths'.split(', '):\n",
    "    df_table[f'{c} (+)'] = (df_table[c] - df_table[f'P{c}']).clip(0)\n",
    "    #Clip ça veut dire, les chiffres negatif sont interdit\n",
    "df_table['Fatality Rate'] = (100* df_table['Deaths']/ df_table['Cases']).round(2)\n",
    "df_table['Continent'] = df_table['Country/Region'].map(mapping['map.continent'])\n",
    "df_table.head(5)"
   ]
  },
  {
   "cell_type": "code",
   "execution_count": 14,
   "id": "aboriginal-bulgaria",
   "metadata": {
    "execution": {
     "iopub.execute_input": "2021-11-01T12:14:11.233729Z",
     "iopub.status.busy": "2021-11-01T12:14:11.233029Z",
     "iopub.status.idle": "2021-11-01T12:14:11.236019Z",
     "shell.execute_reply": "2021-11-01T12:14:11.236525Z"
    },
    "papermill": {
     "duration": 0.046674,
     "end_time": "2021-11-01T12:14:11.236680",
     "exception": false,
     "start_time": "2021-11-01T12:14:11.190006",
     "status": "completed"
    },
    "tags": []
   },
   "outputs": [],
   "source": [
    "#hide\n",
    "#delete problematic countries from table\n",
    "df_table = df_table[~df_table['Country/Region'].isin(['Cape Verde', 'Cruise Ship', 'Kosovo'])]"
   ]
  },
  {
   "cell_type": "code",
   "execution_count": 15,
   "id": "fantastic-effect",
   "metadata": {
    "execution": {
     "iopub.execute_input": "2021-11-01T12:14:11.323752Z",
     "iopub.status.busy": "2021-11-01T12:14:11.323089Z",
     "iopub.status.idle": "2021-11-01T12:14:11.344495Z",
     "shell.execute_reply": "2021-11-01T12:14:11.345115Z"
    },
    "papermill": {
     "duration": 0.069834,
     "end_time": "2021-11-01T12:14:11.345276",
     "exception": false,
     "start_time": "2021-11-01T12:14:11.275442",
     "status": "completed"
    },
    "tags": []
   },
   "outputs": [
    {
     "data": {
      "text/html": [
       "<div>\n",
       "<style scoped>\n",
       "    .dataframe tbody tr th:only-of-type {\n",
       "        vertical-align: middle;\n",
       "    }\n",
       "\n",
       "    .dataframe tbody tr th {\n",
       "        vertical-align: top;\n",
       "    }\n",
       "\n",
       "    .dataframe thead th {\n",
       "        text-align: right;\n",
       "    }\n",
       "</style>\n",
       "<table border=\"1\" class=\"dataframe\">\n",
       "  <thead>\n",
       "    <tr style=\"text-align: right;\">\n",
       "      <th></th>\n",
       "      <th>Country/Region</th>\n",
       "      <th>Cases</th>\n",
       "      <th>Deaths</th>\n",
       "      <th>PCases</th>\n",
       "      <th>PDeaths</th>\n",
       "      <th>Cases (+)</th>\n",
       "      <th>Deaths (+)</th>\n",
       "      <th>Fatality Rate</th>\n",
       "      <th>Continent</th>\n",
       "    </tr>\n",
       "  </thead>\n",
       "  <tbody>\n",
       "    <tr>\n",
       "      <th>0</th>\n",
       "      <td>US</td>\n",
       "      <td>45970785</td>\n",
       "      <td>745832</td>\n",
       "      <td>45953186</td>\n",
       "      <td>745668</td>\n",
       "      <td>17599</td>\n",
       "      <td>164</td>\n",
       "      <td>1.6</td>\n",
       "      <td>North America</td>\n",
       "    </tr>\n",
       "    <tr>\n",
       "      <th>1</th>\n",
       "      <td>India</td>\n",
       "      <td>34285814</td>\n",
       "      <td>458437</td>\n",
       "      <td>34273300</td>\n",
       "      <td>458186</td>\n",
       "      <td>12514</td>\n",
       "      <td>251</td>\n",
       "      <td>1.3</td>\n",
       "      <td>Asia</td>\n",
       "    </tr>\n",
       "    <tr>\n",
       "      <th>2</th>\n",
       "      <td>Brazil</td>\n",
       "      <td>21810855</td>\n",
       "      <td>607824</td>\n",
       "      <td>21804094</td>\n",
       "      <td>607694</td>\n",
       "      <td>6761</td>\n",
       "      <td>130</td>\n",
       "      <td>2.8</td>\n",
       "      <td>South America</td>\n",
       "    </tr>\n",
       "    <tr>\n",
       "      <th>3</th>\n",
       "      <td>United Kingdom</td>\n",
       "      <td>9100442</td>\n",
       "      <td>141055</td>\n",
       "      <td>9062710</td>\n",
       "      <td>140981</td>\n",
       "      <td>37732</td>\n",
       "      <td>74</td>\n",
       "      <td>1.5</td>\n",
       "      <td>Europe</td>\n",
       "    </tr>\n",
       "    <tr>\n",
       "      <th>4</th>\n",
       "      <td>Russia</td>\n",
       "      <td>8377984</td>\n",
       "      <td>234194</td>\n",
       "      <td>8338053</td>\n",
       "      <td>233063</td>\n",
       "      <td>39931</td>\n",
       "      <td>1131</td>\n",
       "      <td>2.8</td>\n",
       "      <td>Europe</td>\n",
       "    </tr>\n",
       "  </tbody>\n",
       "</table>\n",
       "</div>"
      ],
      "text/plain": [
       "   Country/Region     Cases  Deaths    PCases  PDeaths  Cases (+)  Deaths (+)  \\\n",
       "0              US  45970785  745832  45953186   745668      17599         164   \n",
       "1           India  34285814  458437  34273300   458186      12514         251   \n",
       "2          Brazil  21810855  607824  21804094   607694       6761         130   \n",
       "3  United Kingdom   9100442  141055   9062710   140981      37732          74   \n",
       "4          Russia   8377984  234194   8338053   233063      39931        1131   \n",
       "\n",
       "   Fatality Rate      Continent  \n",
       "0            1.6  North America  \n",
       "1            1.3           Asia  \n",
       "2            2.8  South America  \n",
       "3            1.5         Europe  \n",
       "4            2.8         Europe  "
      ]
     },
     "execution_count": 15,
     "metadata": {},
     "output_type": "execute_result"
    }
   ],
   "source": [
    "#hide\n",
    "df_table = (pd.DataFrame(dict(Cases=dfc_cases, Deaths=dfc_deaths, PCases=dfp_cases, PDeaths=dfp_deaths))\n",
    "             .sort_values(by=['Cases', 'Deaths'], ascending=[False, False])\n",
    "             .reset_index())\n",
    "df_table.rename(columns={'index': 'Country/Region'}, inplace=True)\n",
    "for c in 'Cases, Deaths'.split(', '):\n",
    "    df_table[f'{c} (+)'] = (df_table[c] - df_table[f'P{c}']).clip(0)  # DATA BUG\n",
    "df_table['Fatality Rate'] = (100 * df_table['Deaths'] / df_table['Cases']).round(1)\n",
    "df_table['Continent'] = df_table['Country/Region'].map(mapping['map.continent'])\n",
    "df_table.head(5)"
   ]
  },
  {
   "cell_type": "code",
   "execution_count": 16,
   "id": "fewer-occasion",
   "metadata": {
    "execution": {
     "iopub.execute_input": "2021-11-01T12:14:11.430479Z",
     "iopub.status.busy": "2021-11-01T12:14:11.429751Z",
     "iopub.status.idle": "2021-11-01T12:14:11.432104Z",
     "shell.execute_reply": "2021-11-01T12:14:11.432672Z"
    },
    "papermill": {
     "duration": 0.047933,
     "end_time": "2021-11-01T12:14:11.432824",
     "exception": false,
     "start_time": "2021-11-01T12:14:11.384891",
     "status": "completed"
    },
    "tags": []
   },
   "outputs": [],
   "source": [
    "#hide\n",
    "#delete problematic countries from table\n",
    "df_table = df_table[~df_table['Country/Region'].isin(['Cape Verde', 'Cruise Ship', 'Kosovo'])]"
   ]
  },
  {
   "cell_type": "code",
   "execution_count": 17,
   "id": "related-center",
   "metadata": {
    "execution": {
     "iopub.execute_input": "2021-11-01T12:14:11.524811Z",
     "iopub.status.busy": "2021-11-01T12:14:11.524137Z",
     "iopub.status.idle": "2021-11-01T12:14:11.535621Z",
     "shell.execute_reply": "2021-11-01T12:14:11.534632Z"
    },
    "papermill": {
     "duration": 0.064465,
     "end_time": "2021-11-01T12:14:11.535769",
     "exception": false,
     "start_time": "2021-11-01T12:14:11.471304",
     "status": "completed"
    },
    "tags": []
   },
   "outputs": [],
   "source": [
    "#hide\n",
    "metrics = [df_table.columns[index] for index in [1,2,5,6]]\n",
    "# s_china = df_table[df_table['Country/Region'].eq('China')][metrics].sum().add_prefix('China ')\n",
    "s_us = df_table[df_table['Country/Region'].eq('US')][metrics].sum().add_prefix('US ')\n",
    "s_eu = df_table[df_table['Continent'].eq('Europe')][metrics].sum().add_prefix('EU ')\n",
    "s_ind = df_table[df_table['Country/Region'].eq('India')][metrics].sum().add_prefix('India ')\n",
    "summary = {'updated': pd.to_datetime(dt_today), 'since': pd.to_datetime(dt_yday)}\n",
    "summary = {'updated': pd.to_datetime(dt_today), 'since': pd.to_datetime(dt_yday)}\n",
    "summary = {**summary, **df_table[metrics].sum(), **s_ind, **s_us, **s_eu}"
   ]
  },
  {
   "cell_type": "code",
   "execution_count": 18,
   "id": "engaging-syndrome",
   "metadata": {
    "execution": {
     "iopub.execute_input": "2021-11-01T12:14:11.625243Z",
     "iopub.status.busy": "2021-11-01T12:14:11.624552Z",
     "iopub.status.idle": "2021-11-01T12:14:11.639597Z",
     "shell.execute_reply": "2021-11-01T12:14:11.639013Z"
    },
    "papermill": {
     "duration": 0.059671,
     "end_time": "2021-11-01T12:14:11.639742",
     "exception": false,
     "start_time": "2021-11-01T12:14:11.580071",
     "status": "completed"
    },
    "tags": []
   },
   "outputs": [],
   "source": [
    "#hide\n",
    "dft_ct_new_cases = dft_cases.groupby(COL_REGION)[dt_cols].sum().diff(axis=1).fillna(0).astype(int)"
   ]
  },
  {
   "cell_type": "code",
   "execution_count": 19,
   "id": "neutral-assignment",
   "metadata": {
    "execution": {
     "iopub.execute_input": "2021-11-01T12:14:11.728407Z",
     "iopub.status.busy": "2021-11-01T12:14:11.727314Z",
     "iopub.status.idle": "2021-11-01T12:14:11.729635Z",
     "shell.execute_reply": "2021-11-01T12:14:11.729033Z"
    },
    "papermill": {
     "duration": 0.050813,
     "end_time": "2021-11-01T12:14:11.729772",
     "exception": false,
     "start_time": "2021-11-01T12:14:11.678959",
     "status": "completed"
    },
    "tags": []
   },
   "outputs": [],
   "source": [
    "#hide\n",
    "everydaycases = dft_ct_new_cases.cumsum(axis=1)"
   ]
  },
  {
   "cell_type": "code",
   "execution_count": 20,
   "id": "parliamentary-calgary",
   "metadata": {
    "execution": {
     "iopub.execute_input": "2021-11-01T12:14:11.817714Z",
     "iopub.status.busy": "2021-11-01T12:14:11.817004Z",
     "iopub.status.idle": "2021-11-01T12:14:12.570757Z",
     "shell.execute_reply": "2021-11-01T12:14:12.570145Z"
    },
    "papermill": {
     "duration": 0.797518,
     "end_time": "2021-11-01T12:14:12.570906",
     "exception": false,
     "start_time": "2021-11-01T12:14:11.773388",
     "status": "completed"
    },
    "tags": []
   },
   "outputs": [],
   "source": [
    "#hide\n",
    "import pandas as pd\n",
    "import matplotlib.pyplot as plt\n",
    "import matplotlib.ticker as ticker\n",
    "import matplotlib.animation as animation\n",
    "from IPython.display import HTML"
   ]
  },
  {
   "cell_type": "code",
   "execution_count": 21,
   "id": "lasting-extraction",
   "metadata": {
    "execution": {
     "iopub.execute_input": "2021-11-01T12:14:12.657101Z",
     "iopub.status.busy": "2021-11-01T12:14:12.656435Z",
     "iopub.status.idle": "2021-11-01T12:14:12.662245Z",
     "shell.execute_reply": "2021-11-01T12:14:12.662788Z"
    },
    "papermill": {
     "duration": 0.052769,
     "end_time": "2021-11-01T12:14:12.662954",
     "exception": false,
     "start_time": "2021-11-01T12:14:12.610185",
     "status": "completed"
    },
    "tags": []
   },
   "outputs": [],
   "source": [
    "#hide\n",
    "t = everydaycases.stack()"
   ]
  },
  {
   "cell_type": "code",
   "execution_count": 22,
   "id": "premier-sleeve",
   "metadata": {
    "execution": {
     "iopub.execute_input": "2021-11-01T12:14:12.745441Z",
     "iopub.status.busy": "2021-11-01T12:14:12.744773Z",
     "iopub.status.idle": "2021-11-01T12:14:12.755079Z",
     "shell.execute_reply": "2021-11-01T12:14:12.754515Z"
    },
    "papermill": {
     "duration": 0.053156,
     "end_time": "2021-11-01T12:14:12.755229",
     "exception": false,
     "start_time": "2021-11-01T12:14:12.702073",
     "status": "completed"
    },
    "tags": []
   },
   "outputs": [],
   "source": [
    "#hide\n",
    "g = t.reset_index(['Country/Region'])"
   ]
  },
  {
   "cell_type": "code",
   "execution_count": 23,
   "id": "distributed-pittsburgh",
   "metadata": {
    "execution": {
     "iopub.execute_input": "2021-11-01T12:14:12.840585Z",
     "iopub.status.busy": "2021-11-01T12:14:12.839043Z",
     "iopub.status.idle": "2021-11-01T12:14:12.841310Z",
     "shell.execute_reply": "2021-11-01T12:14:12.841881Z"
    },
    "papermill": {
     "duration": 0.047123,
     "end_time": "2021-11-01T12:14:12.842034",
     "exception": false,
     "start_time": "2021-11-01T12:14:12.794911",
     "status": "completed"
    },
    "tags": []
   },
   "outputs": [],
   "source": [
    "#hide\n",
    "g.index.name = 'date'"
   ]
  },
  {
   "cell_type": "code",
   "execution_count": 24,
   "id": "naked-donor",
   "metadata": {
    "execution": {
     "iopub.execute_input": "2021-11-01T12:14:12.926036Z",
     "iopub.status.busy": "2021-11-01T12:14:12.924512Z",
     "iopub.status.idle": "2021-11-01T12:14:12.926759Z",
     "shell.execute_reply": "2021-11-01T12:14:12.927297Z"
    },
    "papermill": {
     "duration": 0.046667,
     "end_time": "2021-11-01T12:14:12.927447",
     "exception": false,
     "start_time": "2021-11-01T12:14:12.880780",
     "status": "completed"
    },
    "tags": []
   },
   "outputs": [],
   "source": [
    "# #hide\n",
    "# g = g.reset_index(['date'])"
   ]
  },
  {
   "cell_type": "code",
   "execution_count": 25,
   "id": "incomplete-mustang",
   "metadata": {
    "execution": {
     "iopub.execute_input": "2021-11-01T12:14:13.012645Z",
     "iopub.status.busy": "2021-11-01T12:14:13.009519Z",
     "iopub.status.idle": "2021-11-01T12:14:13.013377Z",
     "shell.execute_reply": "2021-11-01T12:14:13.013945Z"
    },
    "papermill": {
     "duration": 0.047289,
     "end_time": "2021-11-01T12:14:13.014104",
     "exception": false,
     "start_time": "2021-11-01T12:14:12.966815",
     "status": "completed"
    },
    "tags": []
   },
   "outputs": [],
   "source": [
    "#hide\n",
    "# g.head()"
   ]
  },
  {
   "cell_type": "code",
   "execution_count": 26,
   "id": "specific-kruger",
   "metadata": {
    "execution": {
     "iopub.execute_input": "2021-11-01T12:14:13.099606Z",
     "iopub.status.busy": "2021-11-01T12:14:13.098162Z",
     "iopub.status.idle": "2021-11-01T12:14:13.100326Z",
     "shell.execute_reply": "2021-11-01T12:14:13.100858Z"
    },
    "papermill": {
     "duration": 0.046681,
     "end_time": "2021-11-01T12:14:13.101014",
     "exception": false,
     "start_time": "2021-11-01T12:14:13.054333",
     "status": "completed"
    },
    "tags": []
   },
   "outputs": [],
   "source": [
    "#hide\n",
    "# g.columns = ['date','country','cases']"
   ]
  },
  {
   "cell_type": "code",
   "execution_count": 27,
   "id": "tender-conversion",
   "metadata": {
    "execution": {
     "iopub.execute_input": "2021-11-01T12:14:13.183485Z",
     "iopub.status.busy": "2021-11-01T12:14:13.182823Z",
     "iopub.status.idle": "2021-11-01T12:14:13.185362Z",
     "shell.execute_reply": "2021-11-01T12:14:13.184798Z"
    },
    "papermill": {
     "duration": 0.045408,
     "end_time": "2021-11-01T12:14:13.185496",
     "exception": false,
     "start_time": "2021-11-01T12:14:13.140088",
     "status": "completed"
    },
    "tags": []
   },
   "outputs": [],
   "source": [
    "#hide\n",
    "# g['continent'] = g.country"
   ]
  },
  {
   "cell_type": "code",
   "execution_count": 28,
   "id": "substantial-wilderness",
   "metadata": {
    "execution": {
     "iopub.execute_input": "2021-11-01T12:14:13.270361Z",
     "iopub.status.busy": "2021-11-01T12:14:13.269697Z",
     "iopub.status.idle": "2021-11-01T12:14:13.271572Z",
     "shell.execute_reply": "2021-11-01T12:14:13.272289Z"
    },
    "papermill": {
     "duration": 0.047051,
     "end_time": "2021-11-01T12:14:13.272447",
     "exception": false,
     "start_time": "2021-11-01T12:14:13.225396",
     "status": "completed"
    },
    "tags": []
   },
   "outputs": [],
   "source": [
    "#hide\n",
    "# cols = list(g.columns.values)"
   ]
  },
  {
   "cell_type": "code",
   "execution_count": 29,
   "id": "solved-farming",
   "metadata": {
    "execution": {
     "iopub.execute_input": "2021-11-01T12:14:13.356129Z",
     "iopub.status.busy": "2021-11-01T12:14:13.355466Z",
     "iopub.status.idle": "2021-11-01T12:14:13.357402Z",
     "shell.execute_reply": "2021-11-01T12:14:13.357966Z"
    },
    "papermill": {
     "duration": 0.046356,
     "end_time": "2021-11-01T12:14:13.358123",
     "exception": false,
     "start_time": "2021-11-01T12:14:13.311767",
     "status": "completed"
    },
    "tags": []
   },
   "outputs": [],
   "source": [
    "#hide\n",
    "# cols.insert(0, cols.pop())"
   ]
  },
  {
   "cell_type": "code",
   "execution_count": 30,
   "id": "executed-adoption",
   "metadata": {
    "execution": {
     "iopub.execute_input": "2021-11-01T12:14:13.446420Z",
     "iopub.status.busy": "2021-11-01T12:14:13.445747Z",
     "iopub.status.idle": "2021-11-01T12:14:13.447671Z",
     "shell.execute_reply": "2021-11-01T12:14:13.448177Z"
    },
    "papermill": {
     "duration": 0.044905,
     "end_time": "2021-11-01T12:14:13.448331",
     "exception": false,
     "start_time": "2021-11-01T12:14:13.403426",
     "status": "completed"
    },
    "tags": []
   },
   "outputs": [],
   "source": [
    "#hide\n",
    "# g = g[cols]"
   ]
  },
  {
   "cell_type": "code",
   "execution_count": 31,
   "id": "subject-dublin",
   "metadata": {
    "execution": {
     "iopub.execute_input": "2021-11-01T12:14:13.531756Z",
     "iopub.status.busy": "2021-11-01T12:14:13.531071Z",
     "iopub.status.idle": "2021-11-01T12:14:13.533035Z",
     "shell.execute_reply": "2021-11-01T12:14:13.533863Z"
    },
    "papermill": {
     "duration": 0.04589,
     "end_time": "2021-11-01T12:14:13.534042",
     "exception": false,
     "start_time": "2021-11-01T12:14:13.488152",
     "status": "completed"
    },
    "tags": []
   },
   "outputs": [],
   "source": [
    "#hide\n",
    "# g['continent'] = g['continent'].map(mapping['map.continent'])"
   ]
  },
  {
   "cell_type": "code",
   "execution_count": 32,
   "id": "freelance-scout",
   "metadata": {
    "execution": {
     "iopub.execute_input": "2021-11-01T12:14:13.617199Z",
     "iopub.status.busy": "2021-11-01T12:14:13.616534Z",
     "iopub.status.idle": "2021-11-01T12:14:13.619048Z",
     "shell.execute_reply": "2021-11-01T12:14:13.618487Z"
    },
    "papermill": {
     "duration": 0.045039,
     "end_time": "2021-11-01T12:14:13.619184",
     "exception": false,
     "start_time": "2021-11-01T12:14:13.574145",
     "status": "completed"
    },
    "tags": []
   },
   "outputs": [],
   "source": [
    "#hide\n",
    "# g.head()"
   ]
  },
  {
   "cell_type": "code",
   "execution_count": 33,
   "id": "limited-engine",
   "metadata": {
    "execution": {
     "iopub.execute_input": "2021-11-01T12:14:13.703312Z",
     "iopub.status.busy": "2021-11-01T12:14:13.702655Z",
     "iopub.status.idle": "2021-11-01T12:14:13.704640Z",
     "shell.execute_reply": "2021-11-01T12:14:13.705217Z"
    },
    "papermill": {
     "duration": 0.045273,
     "end_time": "2021-11-01T12:14:13.705365",
     "exception": false,
     "start_time": "2021-11-01T12:14:13.660092",
     "status": "completed"
    },
    "tags": []
   },
   "outputs": [],
   "source": [
    "# hide\n",
    "# g['date'] = g['date'].astype('datetime64[ns]')"
   ]
  },
  {
   "cell_type": "code",
   "execution_count": 34,
   "id": "sophisticated-supervisor",
   "metadata": {
    "execution": {
     "iopub.execute_input": "2021-11-01T12:14:13.786769Z",
     "iopub.status.busy": "2021-11-01T12:14:13.786111Z",
     "iopub.status.idle": "2021-11-01T12:14:13.788272Z",
     "shell.execute_reply": "2021-11-01T12:14:13.788892Z"
    },
    "papermill": {
     "duration": 0.045262,
     "end_time": "2021-11-01T12:14:13.789052",
     "exception": false,
     "start_time": "2021-11-01T12:14:13.743790",
     "status": "completed"
    },
    "tags": []
   },
   "outputs": [],
   "source": [
    "#hide\n",
    "# g['date'] = g.date.dt.dayofyear"
   ]
  },
  {
   "cell_type": "code",
   "execution_count": 35,
   "id": "inside-dubai",
   "metadata": {
    "execution": {
     "iopub.execute_input": "2021-11-01T12:14:13.873649Z",
     "iopub.status.busy": "2021-11-01T12:14:13.872929Z",
     "iopub.status.idle": "2021-11-01T12:14:13.875472Z",
     "shell.execute_reply": "2021-11-01T12:14:13.874907Z"
    },
    "papermill": {
     "duration": 0.04747,
     "end_time": "2021-11-01T12:14:13.875698",
     "exception": false,
     "start_time": "2021-11-01T12:14:13.828228",
     "status": "completed"
    },
    "tags": []
   },
   "outputs": [],
   "source": [
    "#hide\n",
    "# g = g.rename(columns= {'continent':'group','country':'name','cases':'value'})"
   ]
  },
  {
   "cell_type": "code",
   "execution_count": 36,
   "id": "fleet-motorcycle",
   "metadata": {
    "execution": {
     "iopub.execute_input": "2021-11-01T12:14:13.963905Z",
     "iopub.status.busy": "2021-11-01T12:14:13.963246Z",
     "iopub.status.idle": "2021-11-01T12:14:13.965711Z",
     "shell.execute_reply": "2021-11-01T12:14:13.965111Z"
    },
    "papermill": {
     "duration": 0.046786,
     "end_time": "2021-11-01T12:14:13.965846",
     "exception": false,
     "start_time": "2021-11-01T12:14:13.919060",
     "status": "completed"
    },
    "tags": []
   },
   "outputs": [],
   "source": [
    "#hide\n",
    "# cols = ['name','group','day','value']"
   ]
  },
  {
   "cell_type": "code",
   "execution_count": 37,
   "id": "continued-sleeping",
   "metadata": {
    "execution": {
     "iopub.execute_input": "2021-11-01T12:14:14.048320Z",
     "iopub.status.busy": "2021-11-01T12:14:14.047663Z",
     "iopub.status.idle": "2021-11-01T12:14:14.050203Z",
     "shell.execute_reply": "2021-11-01T12:14:14.049636Z"
    },
    "papermill": {
     "duration": 0.045122,
     "end_time": "2021-11-01T12:14:14.050338",
     "exception": false,
     "start_time": "2021-11-01T12:14:14.005216",
     "status": "completed"
    },
    "tags": []
   },
   "outputs": [],
   "source": [
    "#hide\n",
    "# g.rename(columns= {'date':'day'},inplace = True)"
   ]
  },
  {
   "cell_type": "code",
   "execution_count": 38,
   "id": "major-fight",
   "metadata": {
    "execution": {
     "iopub.execute_input": "2021-11-01T12:14:14.135118Z",
     "iopub.status.busy": "2021-11-01T12:14:14.134454Z",
     "iopub.status.idle": "2021-11-01T12:14:14.136916Z",
     "shell.execute_reply": "2021-11-01T12:14:14.136351Z"
    },
    "papermill": {
     "duration": 0.046853,
     "end_time": "2021-11-01T12:14:14.137054",
     "exception": false,
     "start_time": "2021-11-01T12:14:14.090201",
     "status": "completed"
    },
    "tags": []
   },
   "outputs": [],
   "source": [
    "#hide\n",
    "# g = g[cols]"
   ]
  },
  {
   "cell_type": "code",
   "execution_count": 39,
   "id": "structured-mobile",
   "metadata": {
    "execution": {
     "iopub.execute_input": "2021-11-01T12:14:14.222774Z",
     "iopub.status.busy": "2021-11-01T12:14:14.222114Z",
     "iopub.status.idle": "2021-11-01T12:14:14.224643Z",
     "shell.execute_reply": "2021-11-01T12:14:14.224078Z"
    },
    "papermill": {
     "duration": 0.047687,
     "end_time": "2021-11-01T12:14:14.224778",
     "exception": false,
     "start_time": "2021-11-01T12:14:14.177091",
     "status": "completed"
    },
    "tags": []
   },
   "outputs": [],
   "source": [
    "# #hide\n",
    "# g = g[g.group.notna()]"
   ]
  },
  {
   "cell_type": "code",
   "execution_count": 40,
   "id": "determined-closing",
   "metadata": {
    "execution": {
     "iopub.execute_input": "2021-11-01T12:14:14.307495Z",
     "iopub.status.busy": "2021-11-01T12:14:14.306828Z",
     "iopub.status.idle": "2021-11-01T12:14:14.309284Z",
     "shell.execute_reply": "2021-11-01T12:14:14.308573Z"
    },
    "papermill": {
     "duration": 0.045446,
     "end_time": "2021-11-01T12:14:14.309421",
     "exception": false,
     "start_time": "2021-11-01T12:14:14.263975",
     "status": "completed"
    },
    "tags": []
   },
   "outputs": [],
   "source": [
    "# #hide\n",
    "# colors = dict(zip(\n",
    "#     [\"Oceania\", \"Europe\", \"Asia\", \"South America\", \"Middle East\", \"North America\", \"Africa\"],\n",
    "#     [\"#adb0ff\", \"#ffb3ff\", \"#90d595\", \"#e48381\", \"#aafbff\", \"#f7bb5f\", \"#eafb50\"]\n",
    "# ))\n",
    "# group_lk = g.set_index('name')['group'].to_dict()"
   ]
  },
  {
   "cell_type": "code",
   "execution_count": null,
   "id": "gross-drinking",
   "metadata": {
    "papermill": {
     "duration": 0.039034,
     "end_time": "2021-11-01T12:14:14.388469",
     "exception": false,
     "start_time": "2021-11-01T12:14:14.349435",
     "status": "completed"
    },
    "tags": []
   },
   "outputs": [],
   "source": []
  },
  {
   "cell_type": "code",
   "execution_count": 41,
   "id": "subject-macintosh",
   "metadata": {
    "execution": {
     "iopub.execute_input": "2021-11-01T12:14:14.476363Z",
     "iopub.status.busy": "2021-11-01T12:14:14.475692Z",
     "iopub.status.idle": "2021-11-01T12:14:14.477711Z",
     "shell.execute_reply": "2021-11-01T12:14:14.478289Z"
    },
    "papermill": {
     "duration": 0.048846,
     "end_time": "2021-11-01T12:14:14.478442",
     "exception": false,
     "start_time": "2021-11-01T12:14:14.429596",
     "status": "completed"
    },
    "tags": []
   },
   "outputs": [],
   "source": [
    "# #hide\n",
    "# fig, ax = plt.subplots(figsize=(15, 8))\n",
    "\n",
    "# def draw_barchart(current_day):\n",
    "#     dff = g[g['day'].eq(current_day)].sort_values(by='value', ascending=True).tail(10)\n",
    "#     ax.clear()\n",
    "#     ax.barh(dff['name'], dff['value'], color=[colors[group_lk[x]] for x in dff['name']])\n",
    "#     dx = dff['value'].max() / 200\n",
    "    \n",
    "#     for i, (value, name) in enumerate(zip(dff['value'], dff['name'])):\n",
    "#         ax.text(value-dx, i,     name,           size=14, weight=600, ha='right', va='bottom')\n",
    "#         ax.text(value-dx, i-.25, group_lk[name], size=10, color='#444444', ha='right', va='baseline')\n",
    "#         ax.text(value+dx, i,     f'{value:,.0f}',  size=14, ha='left',  va='center')\n",
    "#     ax.text(1, 0.4, current_day, transform=ax.transAxes, color='#777777', size=46, ha='right', weight=800)\n",
    "#     ax.text(0, 1.06, 'Population (thousands)', transform=ax.transAxes, size=12, color='#777777')\n",
    "#     ax.xaxis.set_major_formatter(ticker.StrMethodFormatter('{x:,.0f}'))\n",
    "#     ax.xaxis.set_ticks_position('top')\n",
    "#     ax.tick_params(axis='x', colors='#777777', labelsize=12)\n",
    "#     ax.set_yticks([])\n",
    "#     ax.margins(0, 0.01)\n",
    "#     ax.grid(which='major', axis='x', linestyle='-')\n",
    "#     ax.set_axisbelow(True)\n",
    "    \n",
    "#     ax.text(0, 1.15, 'Coronavirus',\n",
    "#             transform=ax.transAxes, size=24, weight=600, ha='left', va='top')\n",
    "# #     ax.text(1, 0, 'by @pratapvardhan; credit @jburnmurdoch', transform=ax.transAxes, color='#777777', ha='right',\n",
    "# #             bbox=dict(facecolor='white', alpha=0.8, edgecolor='white'))\n",
    "#     plt.box(False)"
   ]
  },
  {
   "cell_type": "code",
   "execution_count": 42,
   "id": "sexual-wages",
   "metadata": {
    "execution": {
     "iopub.execute_input": "2021-11-01T12:14:14.562332Z",
     "iopub.status.busy": "2021-11-01T12:14:14.561660Z",
     "iopub.status.idle": "2021-11-01T12:14:14.571378Z",
     "shell.execute_reply": "2021-11-01T12:14:14.570753Z"
    },
    "papermill": {
     "duration": 0.053152,
     "end_time": "2021-11-01T12:14:14.571517",
     "exception": false,
     "start_time": "2021-11-01T12:14:14.518365",
     "status": "completed"
    },
    "tags": []
   },
   "outputs": [],
   "source": [
    "# #hide_input\n",
    "# fig, ax = plt.subplots(figsize=(15, 8))\n",
    "# animator = animation.FuncAnimation(fig, draw_barchart, frames=range(g.day.values.min(), g.day.values.max()))\n",
    "# HTML(animator.to_jshtml())\n",
    "# # or use animator.to_html5_video() or animator.save() "
   ]
  },
  {
   "cell_type": "code",
   "execution_count": null,
   "id": "australian-container",
   "metadata": {
    "papermill": {
     "duration": 0.040259,
     "end_time": "2021-11-01T12:14:14.650424",
     "exception": false,
     "start_time": "2021-11-01T12:14:14.610165",
     "status": "completed"
    },
    "tags": []
   },
   "outputs": [],
   "source": []
  },
  {
   "cell_type": "code",
   "execution_count": null,
   "id": "mediterranean-pontiac",
   "metadata": {
    "papermill": {
     "duration": 0.039242,
     "end_time": "2021-11-01T12:14:14.729881",
     "exception": false,
     "start_time": "2021-11-01T12:14:14.690639",
     "status": "completed"
    },
    "tags": []
   },
   "outputs": [],
   "source": []
  },
  {
   "cell_type": "code",
   "execution_count": null,
   "id": "aging-legislature",
   "metadata": {
    "papermill": {
     "duration": 0.039517,
     "end_time": "2021-11-01T12:14:14.808361",
     "exception": false,
     "start_time": "2021-11-01T12:14:14.768844",
     "status": "completed"
    },
    "tags": []
   },
   "outputs": [],
   "source": []
  }
 ],
 "metadata": {
  "kernelspec": {
   "display_name": "Python 3",
   "language": "python",
   "name": "python3"
  },
  "language_info": {
   "codemirror_mode": {
    "name": "ipython",
    "version": 3
   },
   "file_extension": ".py",
   "mimetype": "text/x-python",
   "name": "python",
   "nbconvert_exporter": "python",
   "pygments_lexer": "ipython3",
   "version": "3.6.15"
  },
  "papermill": {
   "duration": 7.292302,
   "end_time": "2021-11-01T12:14:15.256900",
   "environment_variables": {},
   "exception": null,
   "input_path": "2020-03-21-covid19exp.ipynb",
   "output_path": "2020-03-21-covid19exp.ipynb",
   "parameters": {},
   "start_time": "2021-11-01T12:14:07.964598",
   "version": "2.0.0"
  }
 },
 "nbformat": 4,
 "nbformat_minor": 5
}