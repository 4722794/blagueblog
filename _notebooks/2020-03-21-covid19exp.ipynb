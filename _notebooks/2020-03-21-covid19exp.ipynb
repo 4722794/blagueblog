{
 "cells": [
  {
   "cell_type": "markdown",
   "id": "muslim-click",
   "metadata": {
    "papermill": {
     "duration": 0.03437,
     "end_time": "2022-12-05T00:38:14.792439",
     "exception": false,
     "start_time": "2022-12-05T00:38:14.758069",
     "status": "completed"
    },
    "tags": []
   },
   "source": [
    "# COVID-19 Case Race\n",
    "> A race chart to see rising cases around the world\n",
    "\n",
    "- author: Hargun Oberoi\n",
    "- image: images/covid-overview.png\n",
    "- hide: false\n",
    "- badges: false"
   ]
  },
  {
   "cell_type": "code",
   "execution_count": 1,
   "id": "proof-material",
   "metadata": {
    "execution": {
     "iopub.execute_input": "2022-12-05T00:38:14.861658Z",
     "iopub.status.busy": "2022-12-05T00:38:14.861064Z",
     "iopub.status.idle": "2022-12-05T00:38:15.167997Z",
     "shell.execute_reply": "2022-12-05T00:38:15.167521Z"
    },
    "papermill": {
     "duration": 0.345553,
     "end_time": "2022-12-05T00:38:15.168123",
     "exception": false,
     "start_time": "2022-12-05T00:38:14.822570",
     "status": "completed"
    },
    "tags": []
   },
   "outputs": [],
   "source": [
    "#hide\n",
    "import numpy as np\n",
    "import pandas as pd\n",
    "from jinja2 import Template\n",
    "from IPython.display import HTML"
   ]
  },
  {
   "cell_type": "code",
   "execution_count": 2,
   "id": "developed-terminology",
   "metadata": {
    "execution": {
     "iopub.execute_input": "2022-12-05T00:38:15.232449Z",
     "iopub.status.busy": "2022-12-05T00:38:15.231892Z",
     "iopub.status.idle": "2022-12-05T00:38:15.233774Z",
     "shell.execute_reply": "2022-12-05T00:38:15.234283Z"
    },
    "papermill": {
     "duration": 0.036418,
     "end_time": "2022-12-05T00:38:15.234398",
     "exception": false,
     "start_time": "2022-12-05T00:38:15.197980",
     "status": "completed"
    },
    "tags": []
   },
   "outputs": [],
   "source": [
    "#hide\n",
    "\n",
    "# FETCH\n",
    "base_url = 'https://raw.githubusercontent.com/pratapvardhan/notebooks/master/covid19/'\n",
    "paths = {\n",
    "    'mapping': base_url + 'mapping_countries.csv',\n",
    "    'overview': base_url + 'overview.tpl'\n",
    "}"
   ]
  },
  {
   "cell_type": "code",
   "execution_count": 3,
   "id": "dynamic-saver",
   "metadata": {
    "execution": {
     "iopub.execute_input": "2022-12-05T00:38:15.302210Z",
     "iopub.status.busy": "2022-12-05T00:38:15.300998Z",
     "iopub.status.idle": "2022-12-05T00:38:15.305272Z",
     "shell.execute_reply": "2022-12-05T00:38:15.304749Z"
    },
    "papermill": {
     "duration": 0.041293,
     "end_time": "2022-12-05T00:38:15.305367",
     "exception": false,
     "start_time": "2022-12-05T00:38:15.264074",
     "status": "completed"
    },
    "tags": []
   },
   "outputs": [
    {
     "data": {
      "text/plain": [
       "'https://raw.githubusercontent.com/pratapvardhan/notebooks/master/covid19/mapping_countries.csv'"
      ]
     },
     "execution_count": 3,
     "metadata": {},
     "output_type": "execute_result"
    }
   ],
   "source": [
    "#hide\n",
    "paths['mapping']"
   ]
  },
  {
   "cell_type": "code",
   "execution_count": 4,
   "id": "urban-software",
   "metadata": {
    "execution": {
     "iopub.execute_input": "2022-12-05T00:38:15.370267Z",
     "iopub.status.busy": "2022-12-05T00:38:15.369700Z",
     "iopub.status.idle": "2022-12-05T00:38:15.372120Z",
     "shell.execute_reply": "2022-12-05T00:38:15.371686Z"
    },
    "papermill": {
     "duration": 0.036735,
     "end_time": "2022-12-05T00:38:15.372216",
     "exception": false,
     "start_time": "2022-12-05T00:38:15.335481",
     "status": "completed"
    },
    "tags": []
   },
   "outputs": [],
   "source": [
    "#hide\n",
    "def get_mappings(url):\n",
    "    df = pd.read_csv(url)\n",
    "    return {\n",
    "        'df': df,\n",
    "        'replace.country': dict(df.dropna(subset=['Name']).set_index('Country')['Name']),\n",
    "        'map.continent': dict(df.set_index('Name')['Continent'])\n",
    "    }"
   ]
  },
  {
   "cell_type": "code",
   "execution_count": 5,
   "id": "intimate-machinery",
   "metadata": {
    "execution": {
     "iopub.execute_input": "2022-12-05T00:38:15.437106Z",
     "iopub.status.busy": "2022-12-05T00:38:15.436561Z",
     "iopub.status.idle": "2022-12-05T00:38:15.473376Z",
     "shell.execute_reply": "2022-12-05T00:38:15.472906Z"
    },
    "papermill": {
     "duration": 0.071336,
     "end_time": "2022-12-05T00:38:15.473498",
     "exception": false,
     "start_time": "2022-12-05T00:38:15.402162",
     "status": "completed"
    },
    "tags": []
   },
   "outputs": [],
   "source": [
    "#hide\n",
    "mapping = get_mappings(paths['mapping'])"
   ]
  },
  {
   "cell_type": "code",
   "execution_count": 6,
   "id": "certified-tactics",
   "metadata": {
    "execution": {
     "iopub.execute_input": "2022-12-05T00:38:15.538579Z",
     "iopub.status.busy": "2022-12-05T00:38:15.538024Z",
     "iopub.status.idle": "2022-12-05T00:38:15.540341Z",
     "shell.execute_reply": "2022-12-05T00:38:15.539905Z"
    },
    "papermill": {
     "duration": 0.036796,
     "end_time": "2022-12-05T00:38:15.540436",
     "exception": false,
     "start_time": "2022-12-05T00:38:15.503640",
     "status": "completed"
    },
    "tags": []
   },
   "outputs": [],
   "source": [
    "#hide\n",
    "def get_template(path):\n",
    "    from urllib.parse import urlparse\n",
    "    if bool(urlparse(path).netloc):\n",
    "        from urllib.request import urlopen\n",
    "        return urlopen(path).read().decode('utf8')\n",
    "    return open(path).read()"
   ]
  },
  {
   "cell_type": "code",
   "execution_count": 7,
   "id": "realistic-blast",
   "metadata": {
    "execution": {
     "iopub.execute_input": "2022-12-05T00:38:15.605497Z",
     "iopub.status.busy": "2022-12-05T00:38:15.604905Z",
     "iopub.status.idle": "2022-12-05T00:38:15.606927Z",
     "shell.execute_reply": "2022-12-05T00:38:15.607353Z"
    },
    "papermill": {
     "duration": 0.036946,
     "end_time": "2022-12-05T00:38:15.607464",
     "exception": false,
     "start_time": "2022-12-05T00:38:15.570518",
     "status": "completed"
    },
    "tags": []
   },
   "outputs": [],
   "source": [
    "#hide\n",
    "def get_frame(name):\n",
    "    url = (\n",
    "        'https://raw.githubusercontent.com/CSSEGISandData/COVID-19/master/csse_covid_19_data/'\n",
    "        f'csse_covid_19_time_series/time_series_covid19_{name}_global.csv')\n",
    "    df = pd.read_csv(url)\n",
    "    # rename countries\n",
    "    df['Country/Region'] = df['Country/Region'].replace(mapping['replace.country'])\n",
    "    return df"
   ]
  },
  {
   "cell_type": "code",
   "execution_count": 8,
   "id": "affiliated-characterization",
   "metadata": {
    "execution": {
     "iopub.execute_input": "2022-12-05T00:38:15.672969Z",
     "iopub.status.busy": "2022-12-05T00:38:15.672404Z",
     "iopub.status.idle": "2022-12-05T00:38:15.674519Z",
     "shell.execute_reply": "2022-12-05T00:38:15.674936Z"
    },
    "papermill": {
     "duration": 0.037429,
     "end_time": "2022-12-05T00:38:15.675048",
     "exception": false,
     "start_time": "2022-12-05T00:38:15.637619",
     "status": "completed"
    },
    "tags": []
   },
   "outputs": [],
   "source": [
    "#hide\n",
    "def get_dates(df):\n",
    "    dt_cols = df.columns[~df.columns.isin(['Province/State', 'Country/Region', 'Lat', 'Long'])]\n",
    "    LAST_DATE_I = -1\n",
    "    # sometimes last column may be empty, then go backwards\n",
    "    for i in range(-1, -len(dt_cols), -1):\n",
    "        if not df[dt_cols[i]].fillna(0).eq(0).all():\n",
    "            LAST_DATE_I = i\n",
    "            break\n",
    "    return LAST_DATE_I, dt_cols"
   ]
  },
  {
   "cell_type": "code",
   "execution_count": 9,
   "id": "recent-optimization",
   "metadata": {
    "execution": {
     "iopub.execute_input": "2022-12-05T00:38:15.739745Z",
     "iopub.status.busy": "2022-12-05T00:38:15.739190Z",
     "iopub.status.idle": "2022-12-05T00:38:16.225103Z",
     "shell.execute_reply": "2022-12-05T00:38:16.224008Z"
    },
    "papermill": {
     "duration": 0.520226,
     "end_time": "2022-12-05T00:38:16.225222",
     "exception": false,
     "start_time": "2022-12-05T00:38:15.704996",
     "status": "completed"
    },
    "tags": []
   },
   "outputs": [],
   "source": [
    "#hide\n",
    "COL_REGION = 'Country/Region'\n",
    "# Confirmed, Recovered, Deaths\n",
    "df = get_frame('confirmed')\n",
    "# dft_: timeseries, dfc_: today country agg\n",
    "dft_cases = df\n",
    "dft_deaths = get_frame('deaths')\n",
    "dft_recovered = get_frame('recovered')\n",
    "LAST_DATE_I, dt_cols = get_dates(df)"
   ]
  },
  {
   "cell_type": "code",
   "execution_count": 10,
   "id": "absolute-copper",
   "metadata": {
    "execution": {
     "iopub.execute_input": "2022-12-05T00:38:16.291340Z",
     "iopub.status.busy": "2022-12-05T00:38:16.290481Z",
     "iopub.status.idle": "2022-12-05T00:38:16.292568Z",
     "shell.execute_reply": "2022-12-05T00:38:16.292038Z"
    },
    "papermill": {
     "duration": 0.036977,
     "end_time": "2022-12-05T00:38:16.292665",
     "exception": false,
     "start_time": "2022-12-05T00:38:16.255688",
     "status": "completed"
    },
    "tags": []
   },
   "outputs": [],
   "source": [
    "#hide\n",
    "LAST_DATE_I, dt_cols = get_dates(df)\n",
    "dt_today =dt_cols[LAST_DATE_I]\n",
    "# dt_5day = dt_cols[LAST_DATE_I - 5]\n",
    "dt_yday = dt_cols[LAST_DATE_I - 1]"
   ]
  },
  {
   "cell_type": "code",
   "execution_count": 11,
   "id": "restricted-sheriff",
   "metadata": {
    "execution": {
     "iopub.execute_input": "2022-12-05T00:38:16.355480Z",
     "iopub.status.busy": "2022-12-05T00:38:16.354933Z",
     "iopub.status.idle": "2022-12-05T00:38:16.363834Z",
     "shell.execute_reply": "2022-12-05T00:38:16.364334Z"
    },
    "papermill": {
     "duration": 0.041695,
     "end_time": "2022-12-05T00:38:16.364447",
     "exception": false,
     "start_time": "2022-12-05T00:38:16.322752",
     "status": "completed"
    },
    "tags": []
   },
   "outputs": [],
   "source": [
    "#hide\n",
    "dfc_cases = dft_cases.groupby(COL_REGION)[dt_today].sum()\n",
    "dfc_deaths = dft_deaths.groupby(COL_REGION)[dt_today].sum()\n",
    "# dfp_cases = dft_cases.groupby(COL_REGION)[dt_5day].sum()\n",
    "# dfp_deaths = dft_deaths.groupby(COL_REGION)[dt_5day].sum()\n",
    "dfp_cases = dft_cases.groupby(COL_REGION)[dt_yday].sum()\n",
    "dfp_deaths = dft_deaths.groupby(COL_REGION)[dt_yday].sum()"
   ]
  },
  {
   "cell_type": "code",
   "execution_count": 12,
   "id": "deluxe-hepatitis",
   "metadata": {
    "execution": {
     "iopub.execute_input": "2022-12-05T00:38:16.432128Z",
     "iopub.status.busy": "2022-12-05T00:38:16.431039Z",
     "iopub.status.idle": "2022-12-05T00:38:16.437069Z",
     "shell.execute_reply": "2022-12-05T00:38:16.436603Z"
    },
    "papermill": {
     "duration": 0.041708,
     "end_time": "2022-12-05T00:38:16.437175",
     "exception": false,
     "start_time": "2022-12-05T00:38:16.395467",
     "status": "completed"
    },
    "tags": []
   },
   "outputs": [],
   "source": [
    "#hide\n",
    "df_table = (pd.DataFrame(dict(Cases = dfc_cases, Deaths = dfc_deaths, PCases = dfp_cases, PDeaths = dfp_deaths))\n",
    "            .sort_values(by = ['Cases','Deaths'], ascending = [False, False])\n",
    "            .reset_index())"
   ]
  },
  {
   "cell_type": "code",
   "execution_count": 13,
   "id": "educational-chancellor",
   "metadata": {
    "execution": {
     "iopub.execute_input": "2022-12-05T00:38:16.513243Z",
     "iopub.status.busy": "2022-12-05T00:38:16.512688Z",
     "iopub.status.idle": "2022-12-05T00:38:16.520965Z",
     "shell.execute_reply": "2022-12-05T00:38:16.520518Z"
    },
    "papermill": {
     "duration": 0.053795,
     "end_time": "2022-12-05T00:38:16.521063",
     "exception": false,
     "start_time": "2022-12-05T00:38:16.467268",
     "status": "completed"
    },
    "tags": []
   },
   "outputs": [
    {
     "data": {
      "text/html": [
       "<div>\n",
       "<style scoped>\n",
       "    .dataframe tbody tr th:only-of-type {\n",
       "        vertical-align: middle;\n",
       "    }\n",
       "\n",
       "    .dataframe tbody tr th {\n",
       "        vertical-align: top;\n",
       "    }\n",
       "\n",
       "    .dataframe thead th {\n",
       "        text-align: right;\n",
       "    }\n",
       "</style>\n",
       "<table border=\"1\" class=\"dataframe\">\n",
       "  <thead>\n",
       "    <tr style=\"text-align: right;\">\n",
       "      <th></th>\n",
       "      <th>Country/Region</th>\n",
       "      <th>Cases</th>\n",
       "      <th>Deaths</th>\n",
       "      <th>PCases</th>\n",
       "      <th>PDeaths</th>\n",
       "      <th>Cases (+)</th>\n",
       "      <th>Deaths (+)</th>\n",
       "      <th>Fatality Rate</th>\n",
       "      <th>Continent</th>\n",
       "    </tr>\n",
       "  </thead>\n",
       "  <tbody>\n",
       "    <tr>\n",
       "      <th>0</th>\n",
       "      <td>US</td>\n",
       "      <td>98967906</td>\n",
       "      <td>1081431</td>\n",
       "      <td>98962019</td>\n",
       "      <td>1081412</td>\n",
       "      <td>5887</td>\n",
       "      <td>19</td>\n",
       "      <td>1.09</td>\n",
       "      <td>North America</td>\n",
       "    </tr>\n",
       "    <tr>\n",
       "      <th>1</th>\n",
       "      <td>India</td>\n",
       "      <td>44674616</td>\n",
       "      <td>530628</td>\n",
       "      <td>44674390</td>\n",
       "      <td>530627</td>\n",
       "      <td>226</td>\n",
       "      <td>1</td>\n",
       "      <td>1.19</td>\n",
       "      <td>Asia</td>\n",
       "    </tr>\n",
       "    <tr>\n",
       "      <th>2</th>\n",
       "      <td>France</td>\n",
       "      <td>38174893</td>\n",
       "      <td>160133</td>\n",
       "      <td>38174893</td>\n",
       "      <td>160133</td>\n",
       "      <td>0</td>\n",
       "      <td>0</td>\n",
       "      <td>0.42</td>\n",
       "      <td>Europe</td>\n",
       "    </tr>\n",
       "    <tr>\n",
       "      <th>3</th>\n",
       "      <td>Germany</td>\n",
       "      <td>36557861</td>\n",
       "      <td>158198</td>\n",
       "      <td>36557861</td>\n",
       "      <td>158198</td>\n",
       "      <td>0</td>\n",
       "      <td>0</td>\n",
       "      <td>0.43</td>\n",
       "      <td>Europe</td>\n",
       "    </tr>\n",
       "    <tr>\n",
       "      <th>4</th>\n",
       "      <td>Brazil</td>\n",
       "      <td>35337546</td>\n",
       "      <td>690074</td>\n",
       "      <td>35337546</td>\n",
       "      <td>690074</td>\n",
       "      <td>0</td>\n",
       "      <td>0</td>\n",
       "      <td>1.95</td>\n",
       "      <td>South America</td>\n",
       "    </tr>\n",
       "  </tbody>\n",
       "</table>\n",
       "</div>"
      ],
      "text/plain": [
       "  Country/Region     Cases   Deaths    PCases  PDeaths  Cases (+)  Deaths (+)  \\\n",
       "0             US  98967906  1081431  98962019  1081412       5887          19   \n",
       "1          India  44674616   530628  44674390   530627        226           1   \n",
       "2         France  38174893   160133  38174893   160133          0           0   \n",
       "3        Germany  36557861   158198  36557861   158198          0           0   \n",
       "4         Brazil  35337546   690074  35337546   690074          0           0   \n",
       "\n",
       "   Fatality Rate      Continent  \n",
       "0           1.09  North America  \n",
       "1           1.19           Asia  \n",
       "2           0.42         Europe  \n",
       "3           0.43         Europe  \n",
       "4           1.95  South America  "
      ]
     },
     "execution_count": 13,
     "metadata": {},
     "output_type": "execute_result"
    }
   ],
   "source": [
    "#hide\n",
    "for c in 'Cases, Deaths'.split(', '):\n",
    "    df_table[f'{c} (+)'] = (df_table[c] - df_table[f'P{c}']).clip(0)\n",
    "    #Clip ça veut dire, les chiffres negatif sont interdit\n",
    "df_table['Fatality Rate'] = (100* df_table['Deaths']/ df_table['Cases']).round(2)\n",
    "df_table['Continent'] = df_table['Country/Region'].map(mapping['map.continent'])\n",
    "df_table.head(5)"
   ]
  },
  {
   "cell_type": "code",
   "execution_count": 14,
   "id": "aboriginal-bulgaria",
   "metadata": {
    "execution": {
     "iopub.execute_input": "2022-12-05T00:38:16.587908Z",
     "iopub.status.busy": "2022-12-05T00:38:16.587355Z",
     "iopub.status.idle": "2022-12-05T00:38:16.589649Z",
     "shell.execute_reply": "2022-12-05T00:38:16.590066Z"
    },
    "papermill": {
     "duration": 0.038412,
     "end_time": "2022-12-05T00:38:16.590174",
     "exception": false,
     "start_time": "2022-12-05T00:38:16.551762",
     "status": "completed"
    },
    "tags": []
   },
   "outputs": [],
   "source": [
    "#hide\n",
    "#delete problematic countries from table\n",
    "df_table = df_table[~df_table['Country/Region'].isin(['Cape Verde', 'Cruise Ship', 'Kosovo'])]"
   ]
  },
  {
   "cell_type": "code",
   "execution_count": 15,
   "id": "fantastic-effect",
   "metadata": {
    "execution": {
     "iopub.execute_input": "2022-12-05T00:38:16.658577Z",
     "iopub.status.busy": "2022-12-05T00:38:16.658028Z",
     "iopub.status.idle": "2022-12-05T00:38:16.674971Z",
     "shell.execute_reply": "2022-12-05T00:38:16.674526Z"
    },
    "papermill": {
     "duration": 0.054465,
     "end_time": "2022-12-05T00:38:16.675072",
     "exception": false,
     "start_time": "2022-12-05T00:38:16.620607",
     "status": "completed"
    },
    "tags": []
   },
   "outputs": [
    {
     "data": {
      "text/html": [
       "<div>\n",
       "<style scoped>\n",
       "    .dataframe tbody tr th:only-of-type {\n",
       "        vertical-align: middle;\n",
       "    }\n",
       "\n",
       "    .dataframe tbody tr th {\n",
       "        vertical-align: top;\n",
       "    }\n",
       "\n",
       "    .dataframe thead th {\n",
       "        text-align: right;\n",
       "    }\n",
       "</style>\n",
       "<table border=\"1\" class=\"dataframe\">\n",
       "  <thead>\n",
       "    <tr style=\"text-align: right;\">\n",
       "      <th></th>\n",
       "      <th>Country/Region</th>\n",
       "      <th>Cases</th>\n",
       "      <th>Deaths</th>\n",
       "      <th>PCases</th>\n",
       "      <th>PDeaths</th>\n",
       "      <th>Cases (+)</th>\n",
       "      <th>Deaths (+)</th>\n",
       "      <th>Fatality Rate</th>\n",
       "      <th>Continent</th>\n",
       "    </tr>\n",
       "  </thead>\n",
       "  <tbody>\n",
       "    <tr>\n",
       "      <th>0</th>\n",
       "      <td>US</td>\n",
       "      <td>98967906</td>\n",
       "      <td>1081431</td>\n",
       "      <td>98962019</td>\n",
       "      <td>1081412</td>\n",
       "      <td>5887</td>\n",
       "      <td>19</td>\n",
       "      <td>1.1</td>\n",
       "      <td>North America</td>\n",
       "    </tr>\n",
       "    <tr>\n",
       "      <th>1</th>\n",
       "      <td>India</td>\n",
       "      <td>44674616</td>\n",
       "      <td>530628</td>\n",
       "      <td>44674390</td>\n",
       "      <td>530627</td>\n",
       "      <td>226</td>\n",
       "      <td>1</td>\n",
       "      <td>1.2</td>\n",
       "      <td>Asia</td>\n",
       "    </tr>\n",
       "    <tr>\n",
       "      <th>2</th>\n",
       "      <td>France</td>\n",
       "      <td>38174893</td>\n",
       "      <td>160133</td>\n",
       "      <td>38174893</td>\n",
       "      <td>160133</td>\n",
       "      <td>0</td>\n",
       "      <td>0</td>\n",
       "      <td>0.4</td>\n",
       "      <td>Europe</td>\n",
       "    </tr>\n",
       "    <tr>\n",
       "      <th>3</th>\n",
       "      <td>Germany</td>\n",
       "      <td>36557861</td>\n",
       "      <td>158198</td>\n",
       "      <td>36557861</td>\n",
       "      <td>158198</td>\n",
       "      <td>0</td>\n",
       "      <td>0</td>\n",
       "      <td>0.4</td>\n",
       "      <td>Europe</td>\n",
       "    </tr>\n",
       "    <tr>\n",
       "      <th>4</th>\n",
       "      <td>Brazil</td>\n",
       "      <td>35337546</td>\n",
       "      <td>690074</td>\n",
       "      <td>35337546</td>\n",
       "      <td>690074</td>\n",
       "      <td>0</td>\n",
       "      <td>0</td>\n",
       "      <td>2.0</td>\n",
       "      <td>South America</td>\n",
       "    </tr>\n",
       "  </tbody>\n",
       "</table>\n",
       "</div>"
      ],
      "text/plain": [
       "  Country/Region     Cases   Deaths    PCases  PDeaths  Cases (+)  Deaths (+)  \\\n",
       "0             US  98967906  1081431  98962019  1081412       5887          19   \n",
       "1          India  44674616   530628  44674390   530627        226           1   \n",
       "2         France  38174893   160133  38174893   160133          0           0   \n",
       "3        Germany  36557861   158198  36557861   158198          0           0   \n",
       "4         Brazil  35337546   690074  35337546   690074          0           0   \n",
       "\n",
       "   Fatality Rate      Continent  \n",
       "0            1.1  North America  \n",
       "1            1.2           Asia  \n",
       "2            0.4         Europe  \n",
       "3            0.4         Europe  \n",
       "4            2.0  South America  "
      ]
     },
     "execution_count": 15,
     "metadata": {},
     "output_type": "execute_result"
    }
   ],
   "source": [
    "#hide\n",
    "df_table = (pd.DataFrame(dict(Cases=dfc_cases, Deaths=dfc_deaths, PCases=dfp_cases, PDeaths=dfp_deaths))\n",
    "             .sort_values(by=['Cases', 'Deaths'], ascending=[False, False])\n",
    "             .reset_index())\n",
    "df_table.rename(columns={'index': 'Country/Region'}, inplace=True)\n",
    "for c in 'Cases, Deaths'.split(', '):\n",
    "    df_table[f'{c} (+)'] = (df_table[c] - df_table[f'P{c}']).clip(0)  # DATA BUG\n",
    "df_table['Fatality Rate'] = (100 * df_table['Deaths'] / df_table['Cases']).round(1)\n",
    "df_table['Continent'] = df_table['Country/Region'].map(mapping['map.continent'])\n",
    "df_table.head(5)"
   ]
  },
  {
   "cell_type": "code",
   "execution_count": 16,
   "id": "fewer-occasion",
   "metadata": {
    "execution": {
     "iopub.execute_input": "2022-12-05T00:38:16.742718Z",
     "iopub.status.busy": "2022-12-05T00:38:16.742165Z",
     "iopub.status.idle": "2022-12-05T00:38:16.744600Z",
     "shell.execute_reply": "2022-12-05T00:38:16.744155Z"
    },
    "papermill": {
     "duration": 0.038402,
     "end_time": "2022-12-05T00:38:16.744700",
     "exception": false,
     "start_time": "2022-12-05T00:38:16.706298",
     "status": "completed"
    },
    "tags": []
   },
   "outputs": [],
   "source": [
    "#hide\n",
    "#delete problematic countries from table\n",
    "df_table = df_table[~df_table['Country/Region'].isin(['Cape Verde', 'Cruise Ship', 'Kosovo'])]"
   ]
  },
  {
   "cell_type": "code",
   "execution_count": 17,
   "id": "related-center",
   "metadata": {
    "execution": {
     "iopub.execute_input": "2022-12-05T00:38:16.823467Z",
     "iopub.status.busy": "2022-12-05T00:38:16.822910Z",
     "iopub.status.idle": "2022-12-05T00:38:16.825278Z",
     "shell.execute_reply": "2022-12-05T00:38:16.824758Z"
    },
    "papermill": {
     "duration": 0.049775,
     "end_time": "2022-12-05T00:38:16.825377",
     "exception": false,
     "start_time": "2022-12-05T00:38:16.775602",
     "status": "completed"
    },
    "tags": []
   },
   "outputs": [],
   "source": [
    "#hide\n",
    "metrics = [df_table.columns[index] for index in [1,2,5,6]]\n",
    "# s_china = df_table[df_table['Country/Region'].eq('China')][metrics].sum().add_prefix('China ')\n",
    "s_us = df_table[df_table['Country/Region'].eq('US')][metrics].sum().add_prefix('US ')\n",
    "s_eu = df_table[df_table['Continent'].eq('Europe')][metrics].sum().add_prefix('EU ')\n",
    "s_ind = df_table[df_table['Country/Region'].eq('India')][metrics].sum().add_prefix('India ')\n",
    "summary = {'updated': pd.to_datetime(dt_today), 'since': pd.to_datetime(dt_yday)}\n",
    "summary = {'updated': pd.to_datetime(dt_today), 'since': pd.to_datetime(dt_yday)}\n",
    "summary = {**summary, **df_table[metrics].sum(), **s_ind, **s_us, **s_eu}"
   ]
  },
  {
   "cell_type": "code",
   "execution_count": 18,
   "id": "engaging-syndrome",
   "metadata": {
    "execution": {
     "iopub.execute_input": "2022-12-05T00:38:16.892264Z",
     "iopub.status.busy": "2022-12-05T00:38:16.891714Z",
     "iopub.status.idle": "2022-12-05T00:38:16.911734Z",
     "shell.execute_reply": "2022-12-05T00:38:16.911288Z"
    },
    "papermill": {
     "duration": 0.055438,
     "end_time": "2022-12-05T00:38:16.911833",
     "exception": false,
     "start_time": "2022-12-05T00:38:16.856395",
     "status": "completed"
    },
    "tags": []
   },
   "outputs": [],
   "source": [
    "#hide\n",
    "dft_ct_new_cases = dft_cases.groupby(COL_REGION)[dt_cols].sum().diff(axis=1).fillna(0).astype(int)"
   ]
  },
  {
   "cell_type": "code",
   "execution_count": 19,
   "id": "neutral-assignment",
   "metadata": {
    "execution": {
     "iopub.execute_input": "2022-12-05T00:38:16.980153Z",
     "iopub.status.busy": "2022-12-05T00:38:16.979576Z",
     "iopub.status.idle": "2022-12-05T00:38:16.981947Z",
     "shell.execute_reply": "2022-12-05T00:38:16.981395Z"
    },
    "papermill": {
     "duration": 0.03911,
     "end_time": "2022-12-05T00:38:16.982046",
     "exception": false,
     "start_time": "2022-12-05T00:38:16.942936",
     "status": "completed"
    },
    "tags": []
   },
   "outputs": [],
   "source": [
    "#hide\n",
    "everydaycases = dft_ct_new_cases.cumsum(axis=1)"
   ]
  },
  {
   "cell_type": "code",
   "execution_count": 20,
   "id": "parliamentary-calgary",
   "metadata": {
    "execution": {
     "iopub.execute_input": "2022-12-05T00:38:17.049054Z",
     "iopub.status.busy": "2022-12-05T00:38:17.048488Z",
     "iopub.status.idle": "2022-12-05T00:38:17.621382Z",
     "shell.execute_reply": "2022-12-05T00:38:17.620904Z"
    },
    "papermill": {
     "duration": 0.608208,
     "end_time": "2022-12-05T00:38:17.621519",
     "exception": false,
     "start_time": "2022-12-05T00:38:17.013311",
     "status": "completed"
    },
    "tags": []
   },
   "outputs": [],
   "source": [
    "#hide\n",
    "import pandas as pd\n",
    "import matplotlib.pyplot as plt\n",
    "import matplotlib.ticker as ticker\n",
    "import matplotlib.animation as animation\n",
    "from IPython.display import HTML"
   ]
  },
  {
   "cell_type": "code",
   "execution_count": 21,
   "id": "lasting-extraction",
   "metadata": {
    "execution": {
     "iopub.execute_input": "2022-12-05T00:38:17.690100Z",
     "iopub.status.busy": "2022-12-05T00:38:17.689539Z",
     "iopub.status.idle": "2022-12-05T00:38:17.696149Z",
     "shell.execute_reply": "2022-12-05T00:38:17.696662Z"
    },
    "papermill": {
     "duration": 0.043887,
     "end_time": "2022-12-05T00:38:17.696781",
     "exception": false,
     "start_time": "2022-12-05T00:38:17.652894",
     "status": "completed"
    },
    "tags": []
   },
   "outputs": [],
   "source": [
    "#hide\n",
    "t = everydaycases.stack()"
   ]
  },
  {
   "cell_type": "code",
   "execution_count": 22,
   "id": "premier-sleeve",
   "metadata": {
    "execution": {
     "iopub.execute_input": "2022-12-05T00:38:17.762874Z",
     "iopub.status.busy": "2022-12-05T00:38:17.762311Z",
     "iopub.status.idle": "2022-12-05T00:38:17.776779Z",
     "shell.execute_reply": "2022-12-05T00:38:17.776321Z"
    },
    "papermill": {
     "duration": 0.049052,
     "end_time": "2022-12-05T00:38:17.776880",
     "exception": false,
     "start_time": "2022-12-05T00:38:17.727828",
     "status": "completed"
    },
    "tags": []
   },
   "outputs": [],
   "source": [
    "#hide\n",
    "g = t.reset_index(['Country/Region'])"
   ]
  },
  {
   "cell_type": "code",
   "execution_count": 23,
   "id": "distributed-pittsburgh",
   "metadata": {
    "execution": {
     "iopub.execute_input": "2022-12-05T00:38:17.842878Z",
     "iopub.status.busy": "2022-12-05T00:38:17.842318Z",
     "iopub.status.idle": "2022-12-05T00:38:17.844804Z",
     "shell.execute_reply": "2022-12-05T00:38:17.844386Z"
    },
    "papermill": {
     "duration": 0.037048,
     "end_time": "2022-12-05T00:38:17.844906",
     "exception": false,
     "start_time": "2022-12-05T00:38:17.807858",
     "status": "completed"
    },
    "tags": []
   },
   "outputs": [],
   "source": [
    "#hide\n",
    "g.index.name = 'date'"
   ]
  },
  {
   "cell_type": "code",
   "execution_count": 24,
   "id": "naked-donor",
   "metadata": {
    "execution": {
     "iopub.execute_input": "2022-12-05T00:38:17.910590Z",
     "iopub.status.busy": "2022-12-05T00:38:17.910019Z",
     "iopub.status.idle": "2022-12-05T00:38:17.912434Z",
     "shell.execute_reply": "2022-12-05T00:38:17.911908Z"
    },
    "papermill": {
     "duration": 0.036605,
     "end_time": "2022-12-05T00:38:17.912531",
     "exception": false,
     "start_time": "2022-12-05T00:38:17.875926",
     "status": "completed"
    },
    "tags": []
   },
   "outputs": [],
   "source": [
    "# #hide\n",
    "# g = g.reset_index(['date'])"
   ]
  },
  {
   "cell_type": "code",
   "execution_count": 25,
   "id": "incomplete-mustang",
   "metadata": {
    "execution": {
     "iopub.execute_input": "2022-12-05T00:38:17.978556Z",
     "iopub.status.busy": "2022-12-05T00:38:17.977998Z",
     "iopub.status.idle": "2022-12-05T00:38:17.980438Z",
     "shell.execute_reply": "2022-12-05T00:38:17.979917Z"
    },
    "papermill": {
     "duration": 0.036703,
     "end_time": "2022-12-05T00:38:17.980538",
     "exception": false,
     "start_time": "2022-12-05T00:38:17.943835",
     "status": "completed"
    },
    "tags": []
   },
   "outputs": [],
   "source": [
    "#hide\n",
    "# g.head()"
   ]
  },
  {
   "cell_type": "code",
   "execution_count": 26,
   "id": "specific-kruger",
   "metadata": {
    "execution": {
     "iopub.execute_input": "2022-12-05T00:38:18.046205Z",
     "iopub.status.busy": "2022-12-05T00:38:18.045638Z",
     "iopub.status.idle": "2022-12-05T00:38:18.048457Z",
     "shell.execute_reply": "2022-12-05T00:38:18.048033Z"
    },
    "papermill": {
     "duration": 0.036873,
     "end_time": "2022-12-05T00:38:18.048558",
     "exception": false,
     "start_time": "2022-12-05T00:38:18.011685",
     "status": "completed"
    },
    "tags": []
   },
   "outputs": [],
   "source": [
    "#hide\n",
    "# g.columns = ['date','country','cases']"
   ]
  },
  {
   "cell_type": "code",
   "execution_count": 27,
   "id": "tender-conversion",
   "metadata": {
    "execution": {
     "iopub.execute_input": "2022-12-05T00:38:18.114503Z",
     "iopub.status.busy": "2022-12-05T00:38:18.113929Z",
     "iopub.status.idle": "2022-12-05T00:38:18.116385Z",
     "shell.execute_reply": "2022-12-05T00:38:18.115839Z"
    },
    "papermill": {
     "duration": 0.036904,
     "end_time": "2022-12-05T00:38:18.116488",
     "exception": false,
     "start_time": "2022-12-05T00:38:18.079584",
     "status": "completed"
    },
    "tags": []
   },
   "outputs": [],
   "source": [
    "#hide\n",
    "# g['continent'] = g.country"
   ]
  },
  {
   "cell_type": "code",
   "execution_count": 28,
   "id": "substantial-wilderness",
   "metadata": {
    "execution": {
     "iopub.execute_input": "2022-12-05T00:38:18.182580Z",
     "iopub.status.busy": "2022-12-05T00:38:18.182004Z",
     "iopub.status.idle": "2022-12-05T00:38:18.184332Z",
     "shell.execute_reply": "2022-12-05T00:38:18.183791Z"
    },
    "papermill": {
     "duration": 0.036744,
     "end_time": "2022-12-05T00:38:18.184434",
     "exception": false,
     "start_time": "2022-12-05T00:38:18.147690",
     "status": "completed"
    },
    "tags": []
   },
   "outputs": [],
   "source": [
    "#hide\n",
    "# cols = list(g.columns.values)"
   ]
  },
  {
   "cell_type": "code",
   "execution_count": 29,
   "id": "solved-farming",
   "metadata": {
    "execution": {
     "iopub.execute_input": "2022-12-05T00:38:18.249931Z",
     "iopub.status.busy": "2022-12-05T00:38:18.249341Z",
     "iopub.status.idle": "2022-12-05T00:38:18.251583Z",
     "shell.execute_reply": "2022-12-05T00:38:18.251153Z"
    },
    "papermill": {
     "duration": 0.036229,
     "end_time": "2022-12-05T00:38:18.251677",
     "exception": false,
     "start_time": "2022-12-05T00:38:18.215448",
     "status": "completed"
    },
    "tags": []
   },
   "outputs": [],
   "source": [
    "#hide\n",
    "# cols.insert(0, cols.pop())"
   ]
  },
  {
   "cell_type": "code",
   "execution_count": 30,
   "id": "executed-adoption",
   "metadata": {
    "execution": {
     "iopub.execute_input": "2022-12-05T00:38:18.317234Z",
     "iopub.status.busy": "2022-12-05T00:38:18.316645Z",
     "iopub.status.idle": "2022-12-05T00:38:18.319580Z",
     "shell.execute_reply": "2022-12-05T00:38:18.319037Z"
    },
    "papermill": {
     "duration": 0.037129,
     "end_time": "2022-12-05T00:38:18.319681",
     "exception": false,
     "start_time": "2022-12-05T00:38:18.282552",
     "status": "completed"
    },
    "tags": []
   },
   "outputs": [],
   "source": [
    "#hide\n",
    "# g = g[cols]"
   ]
  },
  {
   "cell_type": "code",
   "execution_count": 31,
   "id": "subject-dublin",
   "metadata": {
    "execution": {
     "iopub.execute_input": "2022-12-05T00:38:18.385297Z",
     "iopub.status.busy": "2022-12-05T00:38:18.384728Z",
     "iopub.status.idle": "2022-12-05T00:38:18.387090Z",
     "shell.execute_reply": "2022-12-05T00:38:18.386563Z"
    },
    "papermill": {
     "duration": 0.036606,
     "end_time": "2022-12-05T00:38:18.387187",
     "exception": false,
     "start_time": "2022-12-05T00:38:18.350581",
     "status": "completed"
    },
    "tags": []
   },
   "outputs": [],
   "source": [
    "#hide\n",
    "# g['continent'] = g['continent'].map(mapping['map.continent'])"
   ]
  },
  {
   "cell_type": "code",
   "execution_count": 32,
   "id": "freelance-scout",
   "metadata": {
    "execution": {
     "iopub.execute_input": "2022-12-05T00:38:18.453128Z",
     "iopub.status.busy": "2022-12-05T00:38:18.452568Z",
     "iopub.status.idle": "2022-12-05T00:38:18.454968Z",
     "shell.execute_reply": "2022-12-05T00:38:18.454515Z"
    },
    "papermill": {
     "duration": 0.036523,
     "end_time": "2022-12-05T00:38:18.455069",
     "exception": false,
     "start_time": "2022-12-05T00:38:18.418546",
     "status": "completed"
    },
    "tags": []
   },
   "outputs": [],
   "source": [
    "#hide\n",
    "# g.head()"
   ]
  },
  {
   "cell_type": "code",
   "execution_count": 33,
   "id": "limited-engine",
   "metadata": {
    "execution": {
     "iopub.execute_input": "2022-12-05T00:38:18.520391Z",
     "iopub.status.busy": "2022-12-05T00:38:18.519826Z",
     "iopub.status.idle": "2022-12-05T00:38:18.522188Z",
     "shell.execute_reply": "2022-12-05T00:38:18.521662Z"
    },
    "papermill": {
     "duration": 0.036274,
     "end_time": "2022-12-05T00:38:18.522285",
     "exception": false,
     "start_time": "2022-12-05T00:38:18.486011",
     "status": "completed"
    },
    "tags": []
   },
   "outputs": [],
   "source": [
    "# hide\n",
    "# g['date'] = g['date'].astype('datetime64[ns]')"
   ]
  },
  {
   "cell_type": "code",
   "execution_count": 34,
   "id": "sophisticated-supervisor",
   "metadata": {
    "execution": {
     "iopub.execute_input": "2022-12-05T00:38:18.587914Z",
     "iopub.status.busy": "2022-12-05T00:38:18.587347Z",
     "iopub.status.idle": "2022-12-05T00:38:18.589687Z",
     "shell.execute_reply": "2022-12-05T00:38:18.589145Z"
    },
    "papermill": {
     "duration": 0.036401,
     "end_time": "2022-12-05T00:38:18.589790",
     "exception": false,
     "start_time": "2022-12-05T00:38:18.553389",
     "status": "completed"
    },
    "tags": []
   },
   "outputs": [],
   "source": [
    "#hide\n",
    "# g['date'] = g.date.dt.dayofyear"
   ]
  },
  {
   "cell_type": "code",
   "execution_count": 35,
   "id": "inside-dubai",
   "metadata": {
    "execution": {
     "iopub.execute_input": "2022-12-05T00:38:18.655479Z",
     "iopub.status.busy": "2022-12-05T00:38:18.654914Z",
     "iopub.status.idle": "2022-12-05T00:38:18.657340Z",
     "shell.execute_reply": "2022-12-05T00:38:18.656807Z"
    },
    "papermill": {
     "duration": 0.036689,
     "end_time": "2022-12-05T00:38:18.657438",
     "exception": false,
     "start_time": "2022-12-05T00:38:18.620749",
     "status": "completed"
    },
    "tags": []
   },
   "outputs": [],
   "source": [
    "#hide\n",
    "# g = g.rename(columns= {'continent':'group','country':'name','cases':'value'})"
   ]
  },
  {
   "cell_type": "code",
   "execution_count": 36,
   "id": "fleet-motorcycle",
   "metadata": {
    "execution": {
     "iopub.execute_input": "2022-12-05T00:38:18.722904Z",
     "iopub.status.busy": "2022-12-05T00:38:18.722336Z",
     "iopub.status.idle": "2022-12-05T00:38:18.724761Z",
     "shell.execute_reply": "2022-12-05T00:38:18.724238Z"
    },
    "papermill": {
     "duration": 0.036499,
     "end_time": "2022-12-05T00:38:18.724861",
     "exception": false,
     "start_time": "2022-12-05T00:38:18.688362",
     "status": "completed"
    },
    "tags": []
   },
   "outputs": [],
   "source": [
    "#hide\n",
    "# cols = ['name','group','day','value']"
   ]
  },
  {
   "cell_type": "code",
   "execution_count": 37,
   "id": "continued-sleeping",
   "metadata": {
    "execution": {
     "iopub.execute_input": "2022-12-05T00:38:18.790628Z",
     "iopub.status.busy": "2022-12-05T00:38:18.790066Z",
     "iopub.status.idle": "2022-12-05T00:38:18.792459Z",
     "shell.execute_reply": "2022-12-05T00:38:18.791925Z"
    },
    "papermill": {
     "duration": 0.03653,
     "end_time": "2022-12-05T00:38:18.792557",
     "exception": false,
     "start_time": "2022-12-05T00:38:18.756027",
     "status": "completed"
    },
    "tags": []
   },
   "outputs": [],
   "source": [
    "#hide\n",
    "# g.rename(columns= {'date':'day'},inplace = True)"
   ]
  },
  {
   "cell_type": "code",
   "execution_count": 38,
   "id": "major-fight",
   "metadata": {
    "execution": {
     "iopub.execute_input": "2022-12-05T00:38:18.858146Z",
     "iopub.status.busy": "2022-12-05T00:38:18.857578Z",
     "iopub.status.idle": "2022-12-05T00:38:18.860400Z",
     "shell.execute_reply": "2022-12-05T00:38:18.859876Z"
    },
    "papermill": {
     "duration": 0.036888,
     "end_time": "2022-12-05T00:38:18.860498",
     "exception": false,
     "start_time": "2022-12-05T00:38:18.823610",
     "status": "completed"
    },
    "tags": []
   },
   "outputs": [],
   "source": [
    "#hide\n",
    "# g = g[cols]"
   ]
  },
  {
   "cell_type": "code",
   "execution_count": 39,
   "id": "structured-mobile",
   "metadata": {
    "execution": {
     "iopub.execute_input": "2022-12-05T00:38:18.925809Z",
     "iopub.status.busy": "2022-12-05T00:38:18.925212Z",
     "iopub.status.idle": "2022-12-05T00:38:18.927633Z",
     "shell.execute_reply": "2022-12-05T00:38:18.927200Z"
    },
    "papermill": {
     "duration": 0.036375,
     "end_time": "2022-12-05T00:38:18.927729",
     "exception": false,
     "start_time": "2022-12-05T00:38:18.891354",
     "status": "completed"
    },
    "tags": []
   },
   "outputs": [],
   "source": [
    "# #hide\n",
    "# g = g[g.group.notna()]"
   ]
  },
  {
   "cell_type": "code",
   "execution_count": 40,
   "id": "determined-closing",
   "metadata": {
    "execution": {
     "iopub.execute_input": "2022-12-05T00:38:18.992876Z",
     "iopub.status.busy": "2022-12-05T00:38:18.992308Z",
     "iopub.status.idle": "2022-12-05T00:38:18.994678Z",
     "shell.execute_reply": "2022-12-05T00:38:18.994153Z"
    },
    "papermill": {
     "duration": 0.036033,
     "end_time": "2022-12-05T00:38:18.994774",
     "exception": false,
     "start_time": "2022-12-05T00:38:18.958741",
     "status": "completed"
    },
    "tags": []
   },
   "outputs": [],
   "source": [
    "# #hide\n",
    "# colors = dict(zip(\n",
    "#     [\"Oceania\", \"Europe\", \"Asia\", \"South America\", \"Middle East\", \"North America\", \"Africa\"],\n",
    "#     [\"#adb0ff\", \"#ffb3ff\", \"#90d595\", \"#e48381\", \"#aafbff\", \"#f7bb5f\", \"#eafb50\"]\n",
    "# ))\n",
    "# group_lk = g.set_index('name')['group'].to_dict()"
   ]
  },
  {
   "cell_type": "code",
   "execution_count": null,
   "id": "gross-drinking",
   "metadata": {
    "papermill": {
     "duration": 0.030823,
     "end_time": "2022-12-05T00:38:19.056470",
     "exception": false,
     "start_time": "2022-12-05T00:38:19.025647",
     "status": "completed"
    },
    "tags": []
   },
   "outputs": [],
   "source": []
  },
  {
   "cell_type": "code",
   "execution_count": 41,
   "id": "subject-macintosh",
   "metadata": {
    "execution": {
     "iopub.execute_input": "2022-12-05T00:38:19.122642Z",
     "iopub.status.busy": "2022-12-05T00:38:19.122071Z",
     "iopub.status.idle": "2022-12-05T00:38:19.124443Z",
     "shell.execute_reply": "2022-12-05T00:38:19.123895Z"
    },
    "papermill": {
     "duration": 0.037091,
     "end_time": "2022-12-05T00:38:19.124542",
     "exception": false,
     "start_time": "2022-12-05T00:38:19.087451",
     "status": "completed"
    },
    "tags": []
   },
   "outputs": [],
   "source": [
    "# #hide\n",
    "# fig, ax = plt.subplots(figsize=(15, 8))\n",
    "\n",
    "# def draw_barchart(current_day):\n",
    "#     dff = g[g['day'].eq(current_day)].sort_values(by='value', ascending=True).tail(10)\n",
    "#     ax.clear()\n",
    "#     ax.barh(dff['name'], dff['value'], color=[colors[group_lk[x]] for x in dff['name']])\n",
    "#     dx = dff['value'].max() / 200\n",
    "    \n",
    "#     for i, (value, name) in enumerate(zip(dff['value'], dff['name'])):\n",
    "#         ax.text(value-dx, i,     name,           size=14, weight=600, ha='right', va='bottom')\n",
    "#         ax.text(value-dx, i-.25, group_lk[name], size=10, color='#444444', ha='right', va='baseline')\n",
    "#         ax.text(value+dx, i,     f'{value:,.0f}',  size=14, ha='left',  va='center')\n",
    "#     ax.text(1, 0.4, current_day, transform=ax.transAxes, color='#777777', size=46, ha='right', weight=800)\n",
    "#     ax.text(0, 1.06, 'Population (thousands)', transform=ax.transAxes, size=12, color='#777777')\n",
    "#     ax.xaxis.set_major_formatter(ticker.StrMethodFormatter('{x:,.0f}'))\n",
    "#     ax.xaxis.set_ticks_position('top')\n",
    "#     ax.tick_params(axis='x', colors='#777777', labelsize=12)\n",
    "#     ax.set_yticks([])\n",
    "#     ax.margins(0, 0.01)\n",
    "#     ax.grid(which='major', axis='x', linestyle='-')\n",
    "#     ax.set_axisbelow(True)\n",
    "    \n",
    "#     ax.text(0, 1.15, 'Coronavirus',\n",
    "#             transform=ax.transAxes, size=24, weight=600, ha='left', va='top')\n",
    "# #     ax.text(1, 0, 'by @pratapvardhan; credit @jburnmurdoch', transform=ax.transAxes, color='#777777', ha='right',\n",
    "# #             bbox=dict(facecolor='white', alpha=0.8, edgecolor='white'))\n",
    "#     plt.box(False)"
   ]
  },
  {
   "cell_type": "code",
   "execution_count": 42,
   "id": "sexual-wages",
   "metadata": {
    "execution": {
     "iopub.execute_input": "2022-12-05T00:38:19.189876Z",
     "iopub.status.busy": "2022-12-05T00:38:19.189283Z",
     "iopub.status.idle": "2022-12-05T00:38:19.191652Z",
     "shell.execute_reply": "2022-12-05T00:38:19.191131Z"
    },
    "papermill": {
     "duration": 0.036233,
     "end_time": "2022-12-05T00:38:19.191749",
     "exception": false,
     "start_time": "2022-12-05T00:38:19.155516",
     "status": "completed"
    },
    "tags": []
   },
   "outputs": [],
   "source": [
    "# #hide_input\n",
    "# fig, ax = plt.subplots(figsize=(15, 8))\n",
    "# animator = animation.FuncAnimation(fig, draw_barchart, frames=range(g.day.values.min(), g.day.values.max()))\n",
    "# HTML(animator.to_jshtml())\n",
    "# # or use animator.to_html5_video() or animator.save() "
   ]
  },
  {
   "cell_type": "code",
   "execution_count": null,
   "id": "australian-container",
   "metadata": {
    "papermill": {
     "duration": 0.03086,
     "end_time": "2022-12-05T00:38:19.253647",
     "exception": false,
     "start_time": "2022-12-05T00:38:19.222787",
     "status": "completed"
    },
    "tags": []
   },
   "outputs": [],
   "source": []
  },
  {
   "cell_type": "code",
   "execution_count": null,
   "id": "mediterranean-pontiac",
   "metadata": {
    "papermill": {
     "duration": 0.030858,
     "end_time": "2022-12-05T00:38:19.315257",
     "exception": false,
     "start_time": "2022-12-05T00:38:19.284399",
     "status": "completed"
    },
    "tags": []
   },
   "outputs": [],
   "source": []
  },
  {
   "cell_type": "code",
   "execution_count": null,
   "id": "aging-legislature",
   "metadata": {
    "papermill": {
     "duration": 0.03069,
     "end_time": "2022-12-05T00:38:19.376926",
     "exception": false,
     "start_time": "2022-12-05T00:38:19.346236",
     "status": "completed"
    },
    "tags": []
   },
   "outputs": [],
   "source": []
  }
 ],
 "metadata": {
  "kernelspec": {
   "display_name": "Python 3",
   "language": "python",
   "name": "python3"
  },
  "language_info": {
   "codemirror_mode": {
    "name": "ipython",
    "version": 3
   },
   "file_extension": ".py",
   "mimetype": "text/x-python",
   "name": "python",
   "nbconvert_exporter": "python",
   "pygments_lexer": "ipython3",
   "version": "3.6.15"
  },
  "papermill": {
   "duration": 5.892804,
   "end_time": "2022-12-05T00:38:19.726345",
   "environment_variables": {},
   "exception": null,
   "input_path": "2020-03-21-covid19exp.ipynb",
   "output_path": "2020-03-21-covid19exp.ipynb",
   "parameters": {},
   "start_time": "2022-12-05T00:38:13.833541",
   "version": "2.0.0"
  }
 },
 "nbformat": 4,
 "nbformat_minor": 5
}