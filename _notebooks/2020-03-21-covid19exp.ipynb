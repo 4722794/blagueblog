{
 "cells": [
  {
   "cell_type": "markdown",
   "id": "muslim-click",
   "metadata": {
    "papermill": {
     "duration": 0.045457,
     "end_time": "2022-12-02T00:38:53.182255",
     "exception": false,
     "start_time": "2022-12-02T00:38:53.136798",
     "status": "completed"
    },
    "tags": []
   },
   "source": [
    "# COVID-19 Case Race\n",
    "> A race chart to see rising cases around the world\n",
    "\n",
    "- author: Hargun Oberoi\n",
    "- image: images/covid-overview.png\n",
    "- hide: false\n",
    "- badges: false"
   ]
  },
  {
   "cell_type": "code",
   "execution_count": 1,
   "id": "proof-material",
   "metadata": {
    "execution": {
     "iopub.execute_input": "2022-12-02T00:38:53.278881Z",
     "iopub.status.busy": "2022-12-02T00:38:53.277916Z",
     "iopub.status.idle": "2022-12-02T00:38:53.670423Z",
     "shell.execute_reply": "2022-12-02T00:38:53.669789Z"
    },
    "papermill": {
     "duration": 0.443656,
     "end_time": "2022-12-02T00:38:53.670573",
     "exception": false,
     "start_time": "2022-12-02T00:38:53.226917",
     "status": "completed"
    },
    "tags": []
   },
   "outputs": [],
   "source": [
    "#hide\n",
    "import numpy as np\n",
    "import pandas as pd\n",
    "from jinja2 import Template\n",
    "from IPython.display import HTML"
   ]
  },
  {
   "cell_type": "code",
   "execution_count": 2,
   "id": "developed-terminology",
   "metadata": {
    "execution": {
     "iopub.execute_input": "2022-12-02T00:38:53.749235Z",
     "iopub.status.busy": "2022-12-02T00:38:53.748127Z",
     "iopub.status.idle": "2022-12-02T00:38:53.751140Z",
     "shell.execute_reply": "2022-12-02T00:38:53.752953Z"
    },
    "papermill": {
     "duration": 0.048089,
     "end_time": "2022-12-02T00:38:53.753127",
     "exception": false,
     "start_time": "2022-12-02T00:38:53.705038",
     "status": "completed"
    },
    "tags": []
   },
   "outputs": [],
   "source": [
    "#hide\n",
    "\n",
    "# FETCH\n",
    "base_url = 'https://raw.githubusercontent.com/pratapvardhan/notebooks/master/covid19/'\n",
    "paths = {\n",
    "    'mapping': base_url + 'mapping_countries.csv',\n",
    "    'overview': base_url + 'overview.tpl'\n",
    "}"
   ]
  },
  {
   "cell_type": "code",
   "execution_count": 3,
   "id": "dynamic-saver",
   "metadata": {
    "execution": {
     "iopub.execute_input": "2022-12-02T00:38:53.837463Z",
     "iopub.status.busy": "2022-12-02T00:38:53.836724Z",
     "iopub.status.idle": "2022-12-02T00:38:53.841484Z",
     "shell.execute_reply": "2022-12-02T00:38:53.842288Z"
    },
    "papermill": {
     "duration": 0.053839,
     "end_time": "2022-12-02T00:38:53.842450",
     "exception": false,
     "start_time": "2022-12-02T00:38:53.788611",
     "status": "completed"
    },
    "tags": []
   },
   "outputs": [
    {
     "data": {
      "text/plain": [
       "'https://raw.githubusercontent.com/pratapvardhan/notebooks/master/covid19/mapping_countries.csv'"
      ]
     },
     "execution_count": 3,
     "metadata": {},
     "output_type": "execute_result"
    }
   ],
   "source": [
    "#hide\n",
    "paths['mapping']"
   ]
  },
  {
   "cell_type": "code",
   "execution_count": 4,
   "id": "urban-software",
   "metadata": {
    "execution": {
     "iopub.execute_input": "2022-12-02T00:38:53.924037Z",
     "iopub.status.busy": "2022-12-02T00:38:53.923327Z",
     "iopub.status.idle": "2022-12-02T00:38:53.926084Z",
     "shell.execute_reply": "2022-12-02T00:38:53.926734Z"
    },
    "papermill": {
     "duration": 0.046424,
     "end_time": "2022-12-02T00:38:53.926885",
     "exception": false,
     "start_time": "2022-12-02T00:38:53.880461",
     "status": "completed"
    },
    "tags": []
   },
   "outputs": [],
   "source": [
    "#hide\n",
    "def get_mappings(url):\n",
    "    df = pd.read_csv(url)\n",
    "    return {\n",
    "        'df': df,\n",
    "        'replace.country': dict(df.dropna(subset=['Name']).set_index('Country')['Name']),\n",
    "        'map.continent': dict(df.set_index('Name')['Continent'])\n",
    "    }"
   ]
  },
  {
   "cell_type": "code",
   "execution_count": 5,
   "id": "intimate-machinery",
   "metadata": {
    "execution": {
     "iopub.execute_input": "2022-12-02T00:38:54.005900Z",
     "iopub.status.busy": "2022-12-02T00:38:54.005085Z",
     "iopub.status.idle": "2022-12-02T00:38:54.040372Z",
     "shell.execute_reply": "2022-12-02T00:38:54.039438Z"
    },
    "papermill": {
     "duration": 0.078773,
     "end_time": "2022-12-02T00:38:54.040582",
     "exception": false,
     "start_time": "2022-12-02T00:38:53.961809",
     "status": "completed"
    },
    "tags": []
   },
   "outputs": [],
   "source": [
    "#hide\n",
    "mapping = get_mappings(paths['mapping'])"
   ]
  },
  {
   "cell_type": "code",
   "execution_count": 6,
   "id": "certified-tactics",
   "metadata": {
    "execution": {
     "iopub.execute_input": "2022-12-02T00:38:54.122477Z",
     "iopub.status.busy": "2022-12-02T00:38:54.120977Z",
     "iopub.status.idle": "2022-12-02T00:38:54.123166Z",
     "shell.execute_reply": "2022-12-02T00:38:54.123819Z"
    },
    "papermill": {
     "duration": 0.043519,
     "end_time": "2022-12-02T00:38:54.123971",
     "exception": false,
     "start_time": "2022-12-02T00:38:54.080452",
     "status": "completed"
    },
    "tags": []
   },
   "outputs": [],
   "source": [
    "#hide\n",
    "def get_template(path):\n",
    "    from urllib.parse import urlparse\n",
    "    if bool(urlparse(path).netloc):\n",
    "        from urllib.request import urlopen\n",
    "        return urlopen(path).read().decode('utf8')\n",
    "    return open(path).read()"
   ]
  },
  {
   "cell_type": "code",
   "execution_count": 7,
   "id": "realistic-blast",
   "metadata": {
    "execution": {
     "iopub.execute_input": "2022-12-02T00:38:54.209874Z",
     "iopub.status.busy": "2022-12-02T00:38:54.209160Z",
     "iopub.status.idle": "2022-12-02T00:38:54.214109Z",
     "shell.execute_reply": "2022-12-02T00:38:54.213571Z"
    },
    "papermill": {
     "duration": 0.050617,
     "end_time": "2022-12-02T00:38:54.214241",
     "exception": false,
     "start_time": "2022-12-02T00:38:54.163624",
     "status": "completed"
    },
    "tags": []
   },
   "outputs": [],
   "source": [
    "#hide\n",
    "def get_frame(name):\n",
    "    url = (\n",
    "        'https://raw.githubusercontent.com/CSSEGISandData/COVID-19/master/csse_covid_19_data/'\n",
    "        f'csse_covid_19_time_series/time_series_covid19_{name}_global.csv')\n",
    "    df = pd.read_csv(url)\n",
    "    # rename countries\n",
    "    df['Country/Region'] = df['Country/Region'].replace(mapping['replace.country'])\n",
    "    return df"
   ]
  },
  {
   "cell_type": "code",
   "execution_count": 8,
   "id": "affiliated-characterization",
   "metadata": {
    "execution": {
     "iopub.execute_input": "2022-12-02T00:38:54.294594Z",
     "iopub.status.busy": "2022-12-02T00:38:54.293831Z",
     "iopub.status.idle": "2022-12-02T00:38:54.295797Z",
     "shell.execute_reply": "2022-12-02T00:38:54.296315Z"
    },
    "papermill": {
     "duration": 0.047787,
     "end_time": "2022-12-02T00:38:54.296465",
     "exception": false,
     "start_time": "2022-12-02T00:38:54.248678",
     "status": "completed"
    },
    "tags": []
   },
   "outputs": [],
   "source": [
    "#hide\n",
    "def get_dates(df):\n",
    "    dt_cols = df.columns[~df.columns.isin(['Province/State', 'Country/Region', 'Lat', 'Long'])]\n",
    "    LAST_DATE_I = -1\n",
    "    # sometimes last column may be empty, then go backwards\n",
    "    for i in range(-1, -len(dt_cols), -1):\n",
    "        if not df[dt_cols[i]].fillna(0).eq(0).all():\n",
    "            LAST_DATE_I = i\n",
    "            break\n",
    "    return LAST_DATE_I, dt_cols"
   ]
  },
  {
   "cell_type": "code",
   "execution_count": 9,
   "id": "recent-optimization",
   "metadata": {
    "execution": {
     "iopub.execute_input": "2022-12-02T00:38:54.386612Z",
     "iopub.status.busy": "2022-12-02T00:38:54.385875Z",
     "iopub.status.idle": "2022-12-02T00:38:54.891062Z",
     "shell.execute_reply": "2022-12-02T00:38:54.889688Z"
    },
    "papermill": {
     "duration": 0.553051,
     "end_time": "2022-12-02T00:38:54.891217",
     "exception": false,
     "start_time": "2022-12-02T00:38:54.338166",
     "status": "completed"
    },
    "tags": []
   },
   "outputs": [],
   "source": [
    "#hide\n",
    "COL_REGION = 'Country/Region'\n",
    "# Confirmed, Recovered, Deaths\n",
    "df = get_frame('confirmed')\n",
    "# dft_: timeseries, dfc_: today country agg\n",
    "dft_cases = df\n",
    "dft_deaths = get_frame('deaths')\n",
    "dft_recovered = get_frame('recovered')\n",
    "LAST_DATE_I, dt_cols = get_dates(df)"
   ]
  },
  {
   "cell_type": "code",
   "execution_count": 10,
   "id": "absolute-copper",
   "metadata": {
    "execution": {
     "iopub.execute_input": "2022-12-02T00:38:54.977667Z",
     "iopub.status.busy": "2022-12-02T00:38:54.975870Z",
     "iopub.status.idle": "2022-12-02T00:38:54.978442Z",
     "shell.execute_reply": "2022-12-02T00:38:54.978947Z"
    },
    "papermill": {
     "duration": 0.045376,
     "end_time": "2022-12-02T00:38:54.979121",
     "exception": false,
     "start_time": "2022-12-02T00:38:54.933745",
     "status": "completed"
    },
    "tags": []
   },
   "outputs": [],
   "source": [
    "#hide\n",
    "LAST_DATE_I, dt_cols = get_dates(df)\n",
    "dt_today =dt_cols[LAST_DATE_I]\n",
    "# dt_5day = dt_cols[LAST_DATE_I - 5]\n",
    "dt_yday = dt_cols[LAST_DATE_I - 1]"
   ]
  },
  {
   "cell_type": "code",
   "execution_count": 11,
   "id": "restricted-sheriff",
   "metadata": {
    "execution": {
     "iopub.execute_input": "2022-12-02T00:38:55.068106Z",
     "iopub.status.busy": "2022-12-02T00:38:55.067372Z",
     "iopub.status.idle": "2022-12-02T00:38:55.078028Z",
     "shell.execute_reply": "2022-12-02T00:38:55.077447Z"
    },
    "papermill": {
     "duration": 0.059422,
     "end_time": "2022-12-02T00:38:55.078156",
     "exception": false,
     "start_time": "2022-12-02T00:38:55.018734",
     "status": "completed"
    },
    "tags": []
   },
   "outputs": [],
   "source": [
    "#hide\n",
    "dfc_cases = dft_cases.groupby(COL_REGION)[dt_today].sum()\n",
    "dfc_deaths = dft_deaths.groupby(COL_REGION)[dt_today].sum()\n",
    "# dfp_cases = dft_cases.groupby(COL_REGION)[dt_5day].sum()\n",
    "# dfp_deaths = dft_deaths.groupby(COL_REGION)[dt_5day].sum()\n",
    "dfp_cases = dft_cases.groupby(COL_REGION)[dt_yday].sum()\n",
    "dfp_deaths = dft_deaths.groupby(COL_REGION)[dt_yday].sum()"
   ]
  },
  {
   "cell_type": "code",
   "execution_count": 12,
   "id": "deluxe-hepatitis",
   "metadata": {
    "execution": {
     "iopub.execute_input": "2022-12-02T00:38:55.154489Z",
     "iopub.status.busy": "2022-12-02T00:38:55.153787Z",
     "iopub.status.idle": "2022-12-02T00:38:55.158713Z",
     "shell.execute_reply": "2022-12-02T00:38:55.159281Z"
    },
    "papermill": {
     "duration": 0.047082,
     "end_time": "2022-12-02T00:38:55.159440",
     "exception": false,
     "start_time": "2022-12-02T00:38:55.112358",
     "status": "completed"
    },
    "tags": []
   },
   "outputs": [],
   "source": [
    "#hide\n",
    "df_table = (pd.DataFrame(dict(Cases = dfc_cases, Deaths = dfc_deaths, PCases = dfp_cases, PDeaths = dfp_deaths))\n",
    "            .sort_values(by = ['Cases','Deaths'], ascending = [False, False])\n",
    "            .reset_index())"
   ]
  },
  {
   "cell_type": "code",
   "execution_count": 13,
   "id": "educational-chancellor",
   "metadata": {
    "execution": {
     "iopub.execute_input": "2022-12-02T00:38:55.252711Z",
     "iopub.status.busy": "2022-12-02T00:38:55.235591Z",
     "iopub.status.idle": "2022-12-02T00:38:55.263967Z",
     "shell.execute_reply": "2022-12-02T00:38:55.263381Z"
    },
    "papermill": {
     "duration": 0.070743,
     "end_time": "2022-12-02T00:38:55.264101",
     "exception": false,
     "start_time": "2022-12-02T00:38:55.193358",
     "status": "completed"
    },
    "tags": []
   },
   "outputs": [
    {
     "data": {
      "text/html": [
       "<div>\n",
       "<style scoped>\n",
       "    .dataframe tbody tr th:only-of-type {\n",
       "        vertical-align: middle;\n",
       "    }\n",
       "\n",
       "    .dataframe tbody tr th {\n",
       "        vertical-align: top;\n",
       "    }\n",
       "\n",
       "    .dataframe thead th {\n",
       "        text-align: right;\n",
       "    }\n",
       "</style>\n",
       "<table border=\"1\" class=\"dataframe\">\n",
       "  <thead>\n",
       "    <tr style=\"text-align: right;\">\n",
       "      <th></th>\n",
       "      <th>Country/Region</th>\n",
       "      <th>Cases</th>\n",
       "      <th>Deaths</th>\n",
       "      <th>PCases</th>\n",
       "      <th>PDeaths</th>\n",
       "      <th>Cases (+)</th>\n",
       "      <th>Deaths (+)</th>\n",
       "      <th>Fatality Rate</th>\n",
       "      <th>Continent</th>\n",
       "    </tr>\n",
       "  </thead>\n",
       "  <tbody>\n",
       "    <tr>\n",
       "      <th>0</th>\n",
       "      <td>US</td>\n",
       "      <td>98806857</td>\n",
       "      <td>1080536</td>\n",
       "      <td>98696871</td>\n",
       "      <td>1079969</td>\n",
       "      <td>109986</td>\n",
       "      <td>567</td>\n",
       "      <td>1.09</td>\n",
       "      <td>North America</td>\n",
       "    </tr>\n",
       "    <tr>\n",
       "      <th>1</th>\n",
       "      <td>India</td>\n",
       "      <td>44673863</td>\n",
       "      <td>530622</td>\n",
       "      <td>44673567</td>\n",
       "      <td>530620</td>\n",
       "      <td>296</td>\n",
       "      <td>2</td>\n",
       "      <td>1.19</td>\n",
       "      <td>Asia</td>\n",
       "    </tr>\n",
       "    <tr>\n",
       "      <th>2</th>\n",
       "      <td>France</td>\n",
       "      <td>38046448</td>\n",
       "      <td>159990</td>\n",
       "      <td>37979248</td>\n",
       "      <td>159915</td>\n",
       "      <td>67200</td>\n",
       "      <td>75</td>\n",
       "      <td>0.42</td>\n",
       "      <td>Europe</td>\n",
       "    </tr>\n",
       "    <tr>\n",
       "      <th>3</th>\n",
       "      <td>Germany</td>\n",
       "      <td>36499600</td>\n",
       "      <td>157943</td>\n",
       "      <td>36463485</td>\n",
       "      <td>157791</td>\n",
       "      <td>36115</td>\n",
       "      <td>152</td>\n",
       "      <td>0.43</td>\n",
       "      <td>Europe</td>\n",
       "    </tr>\n",
       "    <tr>\n",
       "      <th>4</th>\n",
       "      <td>Brazil</td>\n",
       "      <td>35227599</td>\n",
       "      <td>689665</td>\n",
       "      <td>35227599</td>\n",
       "      <td>689665</td>\n",
       "      <td>0</td>\n",
       "      <td>0</td>\n",
       "      <td>1.96</td>\n",
       "      <td>South America</td>\n",
       "    </tr>\n",
       "  </tbody>\n",
       "</table>\n",
       "</div>"
      ],
      "text/plain": [
       "  Country/Region     Cases   Deaths    PCases  PDeaths  Cases (+)  Deaths (+)  \\\n",
       "0             US  98806857  1080536  98696871  1079969     109986         567   \n",
       "1          India  44673863   530622  44673567   530620        296           2   \n",
       "2         France  38046448   159990  37979248   159915      67200          75   \n",
       "3        Germany  36499600   157943  36463485   157791      36115         152   \n",
       "4         Brazil  35227599   689665  35227599   689665          0           0   \n",
       "\n",
       "   Fatality Rate      Continent  \n",
       "0           1.09  North America  \n",
       "1           1.19           Asia  \n",
       "2           0.42         Europe  \n",
       "3           0.43         Europe  \n",
       "4           1.96  South America  "
      ]
     },
     "execution_count": 13,
     "metadata": {},
     "output_type": "execute_result"
    }
   ],
   "source": [
    "#hide\n",
    "for c in 'Cases, Deaths'.split(', '):\n",
    "    df_table[f'{c} (+)'] = (df_table[c] - df_table[f'P{c}']).clip(0)\n",
    "    #Clip ça veut dire, les chiffres negatif sont interdit\n",
    "df_table['Fatality Rate'] = (100* df_table['Deaths']/ df_table['Cases']).round(2)\n",
    "df_table['Continent'] = df_table['Country/Region'].map(mapping['map.continent'])\n",
    "df_table.head(5)"
   ]
  },
  {
   "cell_type": "code",
   "execution_count": 14,
   "id": "aboriginal-bulgaria",
   "metadata": {
    "execution": {
     "iopub.execute_input": "2022-12-02T00:38:55.341911Z",
     "iopub.status.busy": "2022-12-02T00:38:55.341037Z",
     "iopub.status.idle": "2022-12-02T00:38:55.346871Z",
     "shell.execute_reply": "2022-12-02T00:38:55.347753Z"
    },
    "papermill": {
     "duration": 0.046943,
     "end_time": "2022-12-02T00:38:55.347923",
     "exception": false,
     "start_time": "2022-12-02T00:38:55.300980",
     "status": "completed"
    },
    "tags": []
   },
   "outputs": [],
   "source": [
    "#hide\n",
    "#delete problematic countries from table\n",
    "df_table = df_table[~df_table['Country/Region'].isin(['Cape Verde', 'Cruise Ship', 'Kosovo'])]"
   ]
  },
  {
   "cell_type": "code",
   "execution_count": 15,
   "id": "fantastic-effect",
   "metadata": {
    "execution": {
     "iopub.execute_input": "2022-12-02T00:38:55.432664Z",
     "iopub.status.busy": "2022-12-02T00:38:55.431976Z",
     "iopub.status.idle": "2022-12-02T00:38:55.455220Z",
     "shell.execute_reply": "2022-12-02T00:38:55.455853Z"
    },
    "papermill": {
     "duration": 0.06816,
     "end_time": "2022-12-02T00:38:55.456031",
     "exception": false,
     "start_time": "2022-12-02T00:38:55.387871",
     "status": "completed"
    },
    "tags": []
   },
   "outputs": [
    {
     "data": {
      "text/html": [
       "<div>\n",
       "<style scoped>\n",
       "    .dataframe tbody tr th:only-of-type {\n",
       "        vertical-align: middle;\n",
       "    }\n",
       "\n",
       "    .dataframe tbody tr th {\n",
       "        vertical-align: top;\n",
       "    }\n",
       "\n",
       "    .dataframe thead th {\n",
       "        text-align: right;\n",
       "    }\n",
       "</style>\n",
       "<table border=\"1\" class=\"dataframe\">\n",
       "  <thead>\n",
       "    <tr style=\"text-align: right;\">\n",
       "      <th></th>\n",
       "      <th>Country/Region</th>\n",
       "      <th>Cases</th>\n",
       "      <th>Deaths</th>\n",
       "      <th>PCases</th>\n",
       "      <th>PDeaths</th>\n",
       "      <th>Cases (+)</th>\n",
       "      <th>Deaths (+)</th>\n",
       "      <th>Fatality Rate</th>\n",
       "      <th>Continent</th>\n",
       "    </tr>\n",
       "  </thead>\n",
       "  <tbody>\n",
       "    <tr>\n",
       "      <th>0</th>\n",
       "      <td>US</td>\n",
       "      <td>98806857</td>\n",
       "      <td>1080536</td>\n",
       "      <td>98696871</td>\n",
       "      <td>1079969</td>\n",
       "      <td>109986</td>\n",
       "      <td>567</td>\n",
       "      <td>1.1</td>\n",
       "      <td>North America</td>\n",
       "    </tr>\n",
       "    <tr>\n",
       "      <th>1</th>\n",
       "      <td>India</td>\n",
       "      <td>44673863</td>\n",
       "      <td>530622</td>\n",
       "      <td>44673567</td>\n",
       "      <td>530620</td>\n",
       "      <td>296</td>\n",
       "      <td>2</td>\n",
       "      <td>1.2</td>\n",
       "      <td>Asia</td>\n",
       "    </tr>\n",
       "    <tr>\n",
       "      <th>2</th>\n",
       "      <td>France</td>\n",
       "      <td>38046448</td>\n",
       "      <td>159990</td>\n",
       "      <td>37979248</td>\n",
       "      <td>159915</td>\n",
       "      <td>67200</td>\n",
       "      <td>75</td>\n",
       "      <td>0.4</td>\n",
       "      <td>Europe</td>\n",
       "    </tr>\n",
       "    <tr>\n",
       "      <th>3</th>\n",
       "      <td>Germany</td>\n",
       "      <td>36499600</td>\n",
       "      <td>157943</td>\n",
       "      <td>36463485</td>\n",
       "      <td>157791</td>\n",
       "      <td>36115</td>\n",
       "      <td>152</td>\n",
       "      <td>0.4</td>\n",
       "      <td>Europe</td>\n",
       "    </tr>\n",
       "    <tr>\n",
       "      <th>4</th>\n",
       "      <td>Brazil</td>\n",
       "      <td>35227599</td>\n",
       "      <td>689665</td>\n",
       "      <td>35227599</td>\n",
       "      <td>689665</td>\n",
       "      <td>0</td>\n",
       "      <td>0</td>\n",
       "      <td>2.0</td>\n",
       "      <td>South America</td>\n",
       "    </tr>\n",
       "  </tbody>\n",
       "</table>\n",
       "</div>"
      ],
      "text/plain": [
       "  Country/Region     Cases   Deaths    PCases  PDeaths  Cases (+)  Deaths (+)  \\\n",
       "0             US  98806857  1080536  98696871  1079969     109986         567   \n",
       "1          India  44673863   530622  44673567   530620        296           2   \n",
       "2         France  38046448   159990  37979248   159915      67200          75   \n",
       "3        Germany  36499600   157943  36463485   157791      36115         152   \n",
       "4         Brazil  35227599   689665  35227599   689665          0           0   \n",
       "\n",
       "   Fatality Rate      Continent  \n",
       "0            1.1  North America  \n",
       "1            1.2           Asia  \n",
       "2            0.4         Europe  \n",
       "3            0.4         Europe  \n",
       "4            2.0  South America  "
      ]
     },
     "execution_count": 15,
     "metadata": {},
     "output_type": "execute_result"
    }
   ],
   "source": [
    "#hide\n",
    "df_table = (pd.DataFrame(dict(Cases=dfc_cases, Deaths=dfc_deaths, PCases=dfp_cases, PDeaths=dfp_deaths))\n",
    "             .sort_values(by=['Cases', 'Deaths'], ascending=[False, False])\n",
    "             .reset_index())\n",
    "df_table.rename(columns={'index': 'Country/Region'}, inplace=True)\n",
    "for c in 'Cases, Deaths'.split(', '):\n",
    "    df_table[f'{c} (+)'] = (df_table[c] - df_table[f'P{c}']).clip(0)  # DATA BUG\n",
    "df_table['Fatality Rate'] = (100 * df_table['Deaths'] / df_table['Cases']).round(1)\n",
    "df_table['Continent'] = df_table['Country/Region'].map(mapping['map.continent'])\n",
    "df_table.head(5)"
   ]
  },
  {
   "cell_type": "code",
   "execution_count": 16,
   "id": "fewer-occasion",
   "metadata": {
    "execution": {
     "iopub.execute_input": "2022-12-02T00:38:55.533544Z",
     "iopub.status.busy": "2022-12-02T00:38:55.532869Z",
     "iopub.status.idle": "2022-12-02T00:38:55.534824Z",
     "shell.execute_reply": "2022-12-02T00:38:55.535494Z"
    },
    "papermill": {
     "duration": 0.044286,
     "end_time": "2022-12-02T00:38:55.535643",
     "exception": false,
     "start_time": "2022-12-02T00:38:55.491357",
     "status": "completed"
    },
    "tags": []
   },
   "outputs": [],
   "source": [
    "#hide\n",
    "#delete problematic countries from table\n",
    "df_table = df_table[~df_table['Country/Region'].isin(['Cape Verde', 'Cruise Ship', 'Kosovo'])]"
   ]
  },
  {
   "cell_type": "code",
   "execution_count": 17,
   "id": "related-center",
   "metadata": {
    "execution": {
     "iopub.execute_input": "2022-12-02T00:38:55.628052Z",
     "iopub.status.busy": "2022-12-02T00:38:55.627343Z",
     "iopub.status.idle": "2022-12-02T00:38:55.629107Z",
     "shell.execute_reply": "2022-12-02T00:38:55.629740Z"
    },
    "papermill": {
     "duration": 0.05908,
     "end_time": "2022-12-02T00:38:55.629891",
     "exception": false,
     "start_time": "2022-12-02T00:38:55.570811",
     "status": "completed"
    },
    "tags": []
   },
   "outputs": [],
   "source": [
    "#hide\n",
    "metrics = [df_table.columns[index] for index in [1,2,5,6]]\n",
    "# s_china = df_table[df_table['Country/Region'].eq('China')][metrics].sum().add_prefix('China ')\n",
    "s_us = df_table[df_table['Country/Region'].eq('US')][metrics].sum().add_prefix('US ')\n",
    "s_eu = df_table[df_table['Continent'].eq('Europe')][metrics].sum().add_prefix('EU ')\n",
    "s_ind = df_table[df_table['Country/Region'].eq('India')][metrics].sum().add_prefix('India ')\n",
    "summary = {'updated': pd.to_datetime(dt_today), 'since': pd.to_datetime(dt_yday)}\n",
    "summary = {'updated': pd.to_datetime(dt_today), 'since': pd.to_datetime(dt_yday)}\n",
    "summary = {**summary, **df_table[metrics].sum(), **s_ind, **s_us, **s_eu}"
   ]
  },
  {
   "cell_type": "code",
   "execution_count": 18,
   "id": "engaging-syndrome",
   "metadata": {
    "execution": {
     "iopub.execute_input": "2022-12-02T00:38:55.706691Z",
     "iopub.status.busy": "2022-12-02T00:38:55.706003Z",
     "iopub.status.idle": "2022-12-02T00:38:55.731635Z",
     "shell.execute_reply": "2022-12-02T00:38:55.732177Z"
    },
    "papermill": {
     "duration": 0.06737,
     "end_time": "2022-12-02T00:38:55.732335",
     "exception": false,
     "start_time": "2022-12-02T00:38:55.664965",
     "status": "completed"
    },
    "tags": []
   },
   "outputs": [],
   "source": [
    "#hide\n",
    "dft_ct_new_cases = dft_cases.groupby(COL_REGION)[dt_cols].sum().diff(axis=1).fillna(0).astype(int)"
   ]
  },
  {
   "cell_type": "code",
   "execution_count": 19,
   "id": "neutral-assignment",
   "metadata": {
    "execution": {
     "iopub.execute_input": "2022-12-02T00:38:55.812739Z",
     "iopub.status.busy": "2022-12-02T00:38:55.812019Z",
     "iopub.status.idle": "2022-12-02T00:38:55.819251Z",
     "shell.execute_reply": "2022-12-02T00:38:55.819817Z"
    },
    "papermill": {
     "duration": 0.052577,
     "end_time": "2022-12-02T00:38:55.819971",
     "exception": false,
     "start_time": "2022-12-02T00:38:55.767394",
     "status": "completed"
    },
    "tags": []
   },
   "outputs": [],
   "source": [
    "#hide\n",
    "everydaycases = dft_ct_new_cases.cumsum(axis=1)"
   ]
  },
  {
   "cell_type": "code",
   "execution_count": 20,
   "id": "parliamentary-calgary",
   "metadata": {
    "execution": {
     "iopub.execute_input": "2022-12-02T00:38:55.893299Z",
     "iopub.status.busy": "2022-12-02T00:38:55.892606Z",
     "iopub.status.idle": "2022-12-02T00:38:56.576034Z",
     "shell.execute_reply": "2022-12-02T00:38:56.576527Z"
    },
    "papermill": {
     "duration": 0.721632,
     "end_time": "2022-12-02T00:38:56.576690",
     "exception": false,
     "start_time": "2022-12-02T00:38:55.855058",
     "status": "completed"
    },
    "tags": []
   },
   "outputs": [],
   "source": [
    "#hide\n",
    "import pandas as pd\n",
    "import matplotlib.pyplot as plt\n",
    "import matplotlib.ticker as ticker\n",
    "import matplotlib.animation as animation\n",
    "from IPython.display import HTML"
   ]
  },
  {
   "cell_type": "code",
   "execution_count": 21,
   "id": "lasting-extraction",
   "metadata": {
    "execution": {
     "iopub.execute_input": "2022-12-02T00:38:56.657398Z",
     "iopub.status.busy": "2022-12-02T00:38:56.656656Z",
     "iopub.status.idle": "2022-12-02T00:38:56.666390Z",
     "shell.execute_reply": "2022-12-02T00:38:56.665782Z"
    },
    "papermill": {
     "duration": 0.053458,
     "end_time": "2022-12-02T00:38:56.666524",
     "exception": false,
     "start_time": "2022-12-02T00:38:56.613066",
     "status": "completed"
    },
    "tags": []
   },
   "outputs": [],
   "source": [
    "#hide\n",
    "t = everydaycases.stack()"
   ]
  },
  {
   "cell_type": "code",
   "execution_count": 22,
   "id": "premier-sleeve",
   "metadata": {
    "execution": {
     "iopub.execute_input": "2022-12-02T00:38:56.744957Z",
     "iopub.status.busy": "2022-12-02T00:38:56.744257Z",
     "iopub.status.idle": "2022-12-02T00:38:56.760922Z",
     "shell.execute_reply": "2022-12-02T00:38:56.760364Z"
    },
    "papermill": {
     "duration": 0.058382,
     "end_time": "2022-12-02T00:38:56.761065",
     "exception": false,
     "start_time": "2022-12-02T00:38:56.702683",
     "status": "completed"
    },
    "tags": []
   },
   "outputs": [],
   "source": [
    "#hide\n",
    "g = t.reset_index(['Country/Region'])"
   ]
  },
  {
   "cell_type": "code",
   "execution_count": 23,
   "id": "distributed-pittsburgh",
   "metadata": {
    "execution": {
     "iopub.execute_input": "2022-12-02T00:38:56.836274Z",
     "iopub.status.busy": "2022-12-02T00:38:56.835234Z",
     "iopub.status.idle": "2022-12-02T00:38:56.838770Z",
     "shell.execute_reply": "2022-12-02T00:38:56.839446Z"
    },
    "papermill": {
     "duration": 0.043369,
     "end_time": "2022-12-02T00:38:56.839594",
     "exception": false,
     "start_time": "2022-12-02T00:38:56.796225",
     "status": "completed"
    },
    "tags": []
   },
   "outputs": [],
   "source": [
    "#hide\n",
    "g.index.name = 'date'"
   ]
  },
  {
   "cell_type": "code",
   "execution_count": 24,
   "id": "naked-donor",
   "metadata": {
    "execution": {
     "iopub.execute_input": "2022-12-02T00:38:56.914646Z",
     "iopub.status.busy": "2022-12-02T00:38:56.913139Z",
     "iopub.status.idle": "2022-12-02T00:38:56.915470Z",
     "shell.execute_reply": "2022-12-02T00:38:56.916115Z"
    },
    "papermill": {
     "duration": 0.042316,
     "end_time": "2022-12-02T00:38:56.916265",
     "exception": false,
     "start_time": "2022-12-02T00:38:56.873949",
     "status": "completed"
    },
    "tags": []
   },
   "outputs": [],
   "source": [
    "# #hide\n",
    "# g = g.reset_index(['date'])"
   ]
  },
  {
   "cell_type": "code",
   "execution_count": 25,
   "id": "incomplete-mustang",
   "metadata": {
    "execution": {
     "iopub.execute_input": "2022-12-02T00:38:56.990517Z",
     "iopub.status.busy": "2022-12-02T00:38:56.989806Z",
     "iopub.status.idle": "2022-12-02T00:38:56.995673Z",
     "shell.execute_reply": "2022-12-02T00:38:56.996346Z"
    },
    "papermill": {
     "duration": 0.045449,
     "end_time": "2022-12-02T00:38:56.996525",
     "exception": false,
     "start_time": "2022-12-02T00:38:56.951076",
     "status": "completed"
    },
    "tags": []
   },
   "outputs": [],
   "source": [
    "#hide\n",
    "# g.head()"
   ]
  },
  {
   "cell_type": "code",
   "execution_count": 26,
   "id": "specific-kruger",
   "metadata": {
    "execution": {
     "iopub.execute_input": "2022-12-02T00:38:57.077053Z",
     "iopub.status.busy": "2022-12-02T00:38:57.076342Z",
     "iopub.status.idle": "2022-12-02T00:38:57.079660Z",
     "shell.execute_reply": "2022-12-02T00:38:57.079095Z"
    },
    "papermill": {
     "duration": 0.04668,
     "end_time": "2022-12-02T00:38:57.079786",
     "exception": false,
     "start_time": "2022-12-02T00:38:57.033106",
     "status": "completed"
    },
    "tags": []
   },
   "outputs": [],
   "source": [
    "#hide\n",
    "# g.columns = ['date','country','cases']"
   ]
  },
  {
   "cell_type": "code",
   "execution_count": 27,
   "id": "tender-conversion",
   "metadata": {
    "execution": {
     "iopub.execute_input": "2022-12-02T00:38:57.159150Z",
     "iopub.status.busy": "2022-12-02T00:38:57.158426Z",
     "iopub.status.idle": "2022-12-02T00:38:57.161074Z",
     "shell.execute_reply": "2022-12-02T00:38:57.160418Z"
    },
    "papermill": {
     "duration": 0.043283,
     "end_time": "2022-12-02T00:38:57.161196",
     "exception": false,
     "start_time": "2022-12-02T00:38:57.117913",
     "status": "completed"
    },
    "tags": []
   },
   "outputs": [],
   "source": [
    "#hide\n",
    "# g['continent'] = g.country"
   ]
  },
  {
   "cell_type": "code",
   "execution_count": 28,
   "id": "substantial-wilderness",
   "metadata": {
    "execution": {
     "iopub.execute_input": "2022-12-02T00:38:57.241444Z",
     "iopub.status.busy": "2022-12-02T00:38:57.240738Z",
     "iopub.status.idle": "2022-12-02T00:38:57.245643Z",
     "shell.execute_reply": "2022-12-02T00:38:57.245024Z"
    },
    "papermill": {
     "duration": 0.046405,
     "end_time": "2022-12-02T00:38:57.245770",
     "exception": false,
     "start_time": "2022-12-02T00:38:57.199365",
     "status": "completed"
    },
    "tags": []
   },
   "outputs": [],
   "source": [
    "#hide\n",
    "# cols = list(g.columns.values)"
   ]
  },
  {
   "cell_type": "code",
   "execution_count": 29,
   "id": "solved-farming",
   "metadata": {
    "execution": {
     "iopub.execute_input": "2022-12-02T00:38:57.326594Z",
     "iopub.status.busy": "2022-12-02T00:38:57.325949Z",
     "iopub.status.idle": "2022-12-02T00:38:57.329466Z",
     "shell.execute_reply": "2022-12-02T00:38:57.330065Z"
    },
    "papermill": {
     "duration": 0.043012,
     "end_time": "2022-12-02T00:38:57.330201",
     "exception": false,
     "start_time": "2022-12-02T00:38:57.287189",
     "status": "completed"
    },
    "tags": []
   },
   "outputs": [],
   "source": [
    "#hide\n",
    "# cols.insert(0, cols.pop())"
   ]
  },
  {
   "cell_type": "code",
   "execution_count": 30,
   "id": "executed-adoption",
   "metadata": {
    "execution": {
     "iopub.execute_input": "2022-12-02T00:38:57.403199Z",
     "iopub.status.busy": "2022-12-02T00:38:57.402495Z",
     "iopub.status.idle": "2022-12-02T00:38:57.405983Z",
     "shell.execute_reply": "2022-12-02T00:38:57.406623Z"
    },
    "papermill": {
     "duration": 0.04243,
     "end_time": "2022-12-02T00:38:57.406768",
     "exception": false,
     "start_time": "2022-12-02T00:38:57.364338",
     "status": "completed"
    },
    "tags": []
   },
   "outputs": [],
   "source": [
    "#hide\n",
    "# g = g[cols]"
   ]
  },
  {
   "cell_type": "code",
   "execution_count": 31,
   "id": "subject-dublin",
   "metadata": {
    "execution": {
     "iopub.execute_input": "2022-12-02T00:38:57.480409Z",
     "iopub.status.busy": "2022-12-02T00:38:57.479731Z",
     "iopub.status.idle": "2022-12-02T00:38:57.483776Z",
     "shell.execute_reply": "2022-12-02T00:38:57.483095Z"
    },
    "papermill": {
     "duration": 0.042994,
     "end_time": "2022-12-02T00:38:57.483905",
     "exception": false,
     "start_time": "2022-12-02T00:38:57.440911",
     "status": "completed"
    },
    "tags": []
   },
   "outputs": [],
   "source": [
    "#hide\n",
    "# g['continent'] = g['continent'].map(mapping['map.continent'])"
   ]
  },
  {
   "cell_type": "code",
   "execution_count": 32,
   "id": "freelance-scout",
   "metadata": {
    "execution": {
     "iopub.execute_input": "2022-12-02T00:38:57.557588Z",
     "iopub.status.busy": "2022-12-02T00:38:57.556877Z",
     "iopub.status.idle": "2022-12-02T00:38:57.559621Z",
     "shell.execute_reply": "2022-12-02T00:38:57.559056Z"
    },
    "papermill": {
     "duration": 0.041216,
     "end_time": "2022-12-02T00:38:57.559748",
     "exception": false,
     "start_time": "2022-12-02T00:38:57.518532",
     "status": "completed"
    },
    "tags": []
   },
   "outputs": [],
   "source": [
    "#hide\n",
    "# g.head()"
   ]
  },
  {
   "cell_type": "code",
   "execution_count": 33,
   "id": "limited-engine",
   "metadata": {
    "execution": {
     "iopub.execute_input": "2022-12-02T00:38:57.640486Z",
     "iopub.status.busy": "2022-12-02T00:38:57.639677Z",
     "iopub.status.idle": "2022-12-02T00:38:57.641732Z",
     "shell.execute_reply": "2022-12-02T00:38:57.642340Z"
    },
    "papermill": {
     "duration": 0.046354,
     "end_time": "2022-12-02T00:38:57.642502",
     "exception": false,
     "start_time": "2022-12-02T00:38:57.596148",
     "status": "completed"
    },
    "tags": []
   },
   "outputs": [],
   "source": [
    "# hide\n",
    "# g['date'] = g['date'].astype('datetime64[ns]')"
   ]
  },
  {
   "cell_type": "code",
   "execution_count": 34,
   "id": "sophisticated-supervisor",
   "metadata": {
    "execution": {
     "iopub.execute_input": "2022-12-02T00:38:57.716788Z",
     "iopub.status.busy": "2022-12-02T00:38:57.715708Z",
     "iopub.status.idle": "2022-12-02T00:38:57.717447Z",
     "shell.execute_reply": "2022-12-02T00:38:57.718215Z"
    },
    "papermill": {
     "duration": 0.040926,
     "end_time": "2022-12-02T00:38:57.718371",
     "exception": false,
     "start_time": "2022-12-02T00:38:57.677445",
     "status": "completed"
    },
    "tags": []
   },
   "outputs": [],
   "source": [
    "#hide\n",
    "# g['date'] = g.date.dt.dayofyear"
   ]
  },
  {
   "cell_type": "code",
   "execution_count": 35,
   "id": "inside-dubai",
   "metadata": {
    "execution": {
     "iopub.execute_input": "2022-12-02T00:38:57.799659Z",
     "iopub.status.busy": "2022-12-02T00:38:57.798940Z",
     "iopub.status.idle": "2022-12-02T00:38:57.803005Z",
     "shell.execute_reply": "2022-12-02T00:38:57.802334Z"
    },
    "papermill": {
     "duration": 0.041974,
     "end_time": "2022-12-02T00:38:57.803145",
     "exception": false,
     "start_time": "2022-12-02T00:38:57.761171",
     "status": "completed"
    },
    "tags": []
   },
   "outputs": [],
   "source": [
    "#hide\n",
    "# g = g.rename(columns= {'continent':'group','country':'name','cases':'value'})"
   ]
  },
  {
   "cell_type": "code",
   "execution_count": 36,
   "id": "fleet-motorcycle",
   "metadata": {
    "execution": {
     "iopub.execute_input": "2022-12-02T00:38:57.878999Z",
     "iopub.status.busy": "2022-12-02T00:38:57.878364Z",
     "iopub.status.idle": "2022-12-02T00:38:57.881015Z",
     "shell.execute_reply": "2022-12-02T00:38:57.880418Z"
    },
    "papermill": {
     "duration": 0.042649,
     "end_time": "2022-12-02T00:38:57.881130",
     "exception": false,
     "start_time": "2022-12-02T00:38:57.838481",
     "status": "completed"
    },
    "tags": []
   },
   "outputs": [],
   "source": [
    "#hide\n",
    "# cols = ['name','group','day','value']"
   ]
  },
  {
   "cell_type": "code",
   "execution_count": 37,
   "id": "continued-sleeping",
   "metadata": {
    "execution": {
     "iopub.execute_input": "2022-12-02T00:38:57.960759Z",
     "iopub.status.busy": "2022-12-02T00:38:57.960065Z",
     "iopub.status.idle": "2022-12-02T00:38:57.962305Z",
     "shell.execute_reply": "2022-12-02T00:38:57.962826Z"
    },
    "papermill": {
     "duration": 0.045359,
     "end_time": "2022-12-02T00:38:57.962972",
     "exception": false,
     "start_time": "2022-12-02T00:38:57.917613",
     "status": "completed"
    },
    "tags": []
   },
   "outputs": [],
   "source": [
    "#hide\n",
    "# g.rename(columns= {'date':'day'},inplace = True)"
   ]
  },
  {
   "cell_type": "code",
   "execution_count": 38,
   "id": "major-fight",
   "metadata": {
    "execution": {
     "iopub.execute_input": "2022-12-02T00:38:58.041822Z",
     "iopub.status.busy": "2022-12-02T00:38:58.040634Z",
     "iopub.status.idle": "2022-12-02T00:38:58.044028Z",
     "shell.execute_reply": "2022-12-02T00:38:58.042496Z"
    },
    "papermill": {
     "duration": 0.045516,
     "end_time": "2022-12-02T00:38:58.044172",
     "exception": false,
     "start_time": "2022-12-02T00:38:57.998656",
     "status": "completed"
    },
    "tags": []
   },
   "outputs": [],
   "source": [
    "#hide\n",
    "# g = g[cols]"
   ]
  },
  {
   "cell_type": "code",
   "execution_count": 39,
   "id": "structured-mobile",
   "metadata": {
    "execution": {
     "iopub.execute_input": "2022-12-02T00:38:58.129652Z",
     "iopub.status.busy": "2022-12-02T00:38:58.127877Z",
     "iopub.status.idle": "2022-12-02T00:38:58.131005Z",
     "shell.execute_reply": "2022-12-02T00:38:58.132214Z"
    },
    "papermill": {
     "duration": 0.047497,
     "end_time": "2022-12-02T00:38:58.132506",
     "exception": false,
     "start_time": "2022-12-02T00:38:58.085009",
     "status": "completed"
    },
    "tags": []
   },
   "outputs": [],
   "source": [
    "# #hide\n",
    "# g = g[g.group.notna()]"
   ]
  },
  {
   "cell_type": "code",
   "execution_count": 40,
   "id": "determined-closing",
   "metadata": {
    "execution": {
     "iopub.execute_input": "2022-12-02T00:38:58.217134Z",
     "iopub.status.busy": "2022-12-02T00:38:58.216442Z",
     "iopub.status.idle": "2022-12-02T00:38:58.219412Z",
     "shell.execute_reply": "2022-12-02T00:38:58.220046Z"
    },
    "papermill": {
     "duration": 0.048792,
     "end_time": "2022-12-02T00:38:58.220192",
     "exception": false,
     "start_time": "2022-12-02T00:38:58.171400",
     "status": "completed"
    },
    "tags": []
   },
   "outputs": [],
   "source": [
    "# #hide\n",
    "# colors = dict(zip(\n",
    "#     [\"Oceania\", \"Europe\", \"Asia\", \"South America\", \"Middle East\", \"North America\", \"Africa\"],\n",
    "#     [\"#adb0ff\", \"#ffb3ff\", \"#90d595\", \"#e48381\", \"#aafbff\", \"#f7bb5f\", \"#eafb50\"]\n",
    "# ))\n",
    "# group_lk = g.set_index('name')['group'].to_dict()"
   ]
  },
  {
   "cell_type": "code",
   "execution_count": null,
   "id": "gross-drinking",
   "metadata": {
    "papermill": {
     "duration": 0.034734,
     "end_time": "2022-12-02T00:38:58.289721",
     "exception": false,
     "start_time": "2022-12-02T00:38:58.254987",
     "status": "completed"
    },
    "tags": []
   },
   "outputs": [],
   "source": []
  },
  {
   "cell_type": "code",
   "execution_count": 41,
   "id": "subject-macintosh",
   "metadata": {
    "execution": {
     "iopub.execute_input": "2022-12-02T00:38:58.367569Z",
     "iopub.status.busy": "2022-12-02T00:38:58.366779Z",
     "iopub.status.idle": "2022-12-02T00:38:58.372356Z",
     "shell.execute_reply": "2022-12-02T00:38:58.371798Z"
    },
    "papermill": {
     "duration": 0.048401,
     "end_time": "2022-12-02T00:38:58.372486",
     "exception": false,
     "start_time": "2022-12-02T00:38:58.324085",
     "status": "completed"
    },
    "tags": []
   },
   "outputs": [],
   "source": [
    "# #hide\n",
    "# fig, ax = plt.subplots(figsize=(15, 8))\n",
    "\n",
    "# def draw_barchart(current_day):\n",
    "#     dff = g[g['day'].eq(current_day)].sort_values(by='value', ascending=True).tail(10)\n",
    "#     ax.clear()\n",
    "#     ax.barh(dff['name'], dff['value'], color=[colors[group_lk[x]] for x in dff['name']])\n",
    "#     dx = dff['value'].max() / 200\n",
    "    \n",
    "#     for i, (value, name) in enumerate(zip(dff['value'], dff['name'])):\n",
    "#         ax.text(value-dx, i,     name,           size=14, weight=600, ha='right', va='bottom')\n",
    "#         ax.text(value-dx, i-.25, group_lk[name], size=10, color='#444444', ha='right', va='baseline')\n",
    "#         ax.text(value+dx, i,     f'{value:,.0f}',  size=14, ha='left',  va='center')\n",
    "#     ax.text(1, 0.4, current_day, transform=ax.transAxes, color='#777777', size=46, ha='right', weight=800)\n",
    "#     ax.text(0, 1.06, 'Population (thousands)', transform=ax.transAxes, size=12, color='#777777')\n",
    "#     ax.xaxis.set_major_formatter(ticker.StrMethodFormatter('{x:,.0f}'))\n",
    "#     ax.xaxis.set_ticks_position('top')\n",
    "#     ax.tick_params(axis='x', colors='#777777', labelsize=12)\n",
    "#     ax.set_yticks([])\n",
    "#     ax.margins(0, 0.01)\n",
    "#     ax.grid(which='major', axis='x', linestyle='-')\n",
    "#     ax.set_axisbelow(True)\n",
    "    \n",
    "#     ax.text(0, 1.15, 'Coronavirus',\n",
    "#             transform=ax.transAxes, size=24, weight=600, ha='left', va='top')\n",
    "# #     ax.text(1, 0, 'by @pratapvardhan; credit @jburnmurdoch', transform=ax.transAxes, color='#777777', ha='right',\n",
    "# #             bbox=dict(facecolor='white', alpha=0.8, edgecolor='white'))\n",
    "#     plt.box(False)"
   ]
  },
  {
   "cell_type": "code",
   "execution_count": 42,
   "id": "sexual-wages",
   "metadata": {
    "execution": {
     "iopub.execute_input": "2022-12-02T00:38:58.449116Z",
     "iopub.status.busy": "2022-12-02T00:38:58.448404Z",
     "iopub.status.idle": "2022-12-02T00:38:58.452475Z",
     "shell.execute_reply": "2022-12-02T00:38:58.452966Z"
    },
    "papermill": {
     "duration": 0.045814,
     "end_time": "2022-12-02T00:38:58.453116",
     "exception": false,
     "start_time": "2022-12-02T00:38:58.407302",
     "status": "completed"
    },
    "tags": []
   },
   "outputs": [],
   "source": [
    "# #hide_input\n",
    "# fig, ax = plt.subplots(figsize=(15, 8))\n",
    "# animator = animation.FuncAnimation(fig, draw_barchart, frames=range(g.day.values.min(), g.day.values.max()))\n",
    "# HTML(animator.to_jshtml())\n",
    "# # or use animator.to_html5_video() or animator.save() "
   ]
  },
  {
   "cell_type": "code",
   "execution_count": null,
   "id": "australian-container",
   "metadata": {
    "papermill": {
     "duration": 0.039063,
     "end_time": "2022-12-02T00:38:58.533598",
     "exception": false,
     "start_time": "2022-12-02T00:38:58.494535",
     "status": "completed"
    },
    "tags": []
   },
   "outputs": [],
   "source": []
  },
  {
   "cell_type": "code",
   "execution_count": null,
   "id": "mediterranean-pontiac",
   "metadata": {
    "papermill": {
     "duration": 0.038283,
     "end_time": "2022-12-02T00:38:58.615800",
     "exception": false,
     "start_time": "2022-12-02T00:38:58.577517",
     "status": "completed"
    },
    "tags": []
   },
   "outputs": [],
   "source": []
  },
  {
   "cell_type": "code",
   "execution_count": null,
   "id": "aging-legislature",
   "metadata": {
    "papermill": {
     "duration": 0.03359,
     "end_time": "2022-12-02T00:38:58.684991",
     "exception": false,
     "start_time": "2022-12-02T00:38:58.651401",
     "status": "completed"
    },
    "tags": []
   },
   "outputs": [],
   "source": []
  }
 ],
 "metadata": {
  "kernelspec": {
   "display_name": "Python 3",
   "language": "python",
   "name": "python3"
  },
  "language_info": {
   "codemirror_mode": {
    "name": "ipython",
    "version": 3
   },
   "file_extension": ".py",
   "mimetype": "text/x-python",
   "name": "python",
   "nbconvert_exporter": "python",
   "pygments_lexer": "ipython3",
   "version": "3.6.15"
  },
  "papermill": {
   "duration": 7.359474,
   "end_time": "2022-12-02T00:38:59.139199",
   "environment_variables": {},
   "exception": null,
   "input_path": "2020-03-21-covid19exp.ipynb",
   "output_path": "2020-03-21-covid19exp.ipynb",
   "parameters": {},
   "start_time": "2022-12-02T00:38:51.779725",
   "version": "2.0.0"
  }
 },
 "nbformat": 4,
 "nbformat_minor": 5
}