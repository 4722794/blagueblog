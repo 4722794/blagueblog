{
 "cells": [
  {
   "cell_type": "markdown",
   "id": "muslim-click",
   "metadata": {
    "papermill": {
     "duration": 0.044606,
     "end_time": "2021-11-18T12:12:27.777596",
     "exception": false,
     "start_time": "2021-11-18T12:12:27.732990",
     "status": "completed"
    },
    "tags": []
   },
   "source": [
    "# COVID-19 Case Race\n",
    "> A race chart to see rising cases around the world\n",
    "\n",
    "- author: Hargun Oberoi\n",
    "- image: images/covid-overview.png\n",
    "- hide: false\n",
    "- badges: false"
   ]
  },
  {
   "cell_type": "code",
   "execution_count": 1,
   "id": "proof-material",
   "metadata": {
    "execution": {
     "iopub.execute_input": "2021-11-18T12:12:27.876252Z",
     "iopub.status.busy": "2021-11-18T12:12:27.875557Z",
     "iopub.status.idle": "2021-11-18T12:12:28.290630Z",
     "shell.execute_reply": "2021-11-18T12:12:28.290011Z"
    },
    "papermill": {
     "duration": 0.471243,
     "end_time": "2021-11-18T12:12:28.290821",
     "exception": false,
     "start_time": "2021-11-18T12:12:27.819578",
     "status": "completed"
    },
    "tags": []
   },
   "outputs": [],
   "source": [
    "#hide\n",
    "import numpy as np\n",
    "import pandas as pd\n",
    "from jinja2 import Template\n",
    "from IPython.display import HTML"
   ]
  },
  {
   "cell_type": "code",
   "execution_count": 2,
   "id": "developed-terminology",
   "metadata": {
    "execution": {
     "iopub.execute_input": "2021-11-18T12:12:28.376966Z",
     "iopub.status.busy": "2021-11-18T12:12:28.376247Z",
     "iopub.status.idle": "2021-11-18T12:12:28.377707Z",
     "shell.execute_reply": "2021-11-18T12:12:28.378297Z"
    },
    "papermill": {
     "duration": 0.046987,
     "end_time": "2021-11-18T12:12:28.378449",
     "exception": false,
     "start_time": "2021-11-18T12:12:28.331462",
     "status": "completed"
    },
    "tags": []
   },
   "outputs": [],
   "source": [
    "#hide\n",
    "\n",
    "# FETCH\n",
    "base_url = 'https://raw.githubusercontent.com/pratapvardhan/notebooks/master/covid19/'\n",
    "paths = {\n",
    "    'mapping': base_url + 'mapping_countries.csv',\n",
    "    'overview': base_url + 'overview.tpl'\n",
    "}"
   ]
  },
  {
   "cell_type": "code",
   "execution_count": 3,
   "id": "dynamic-saver",
   "metadata": {
    "execution": {
     "iopub.execute_input": "2021-11-18T12:12:28.470811Z",
     "iopub.status.busy": "2021-11-18T12:12:28.470109Z",
     "iopub.status.idle": "2021-11-18T12:12:28.472909Z",
     "shell.execute_reply": "2021-11-18T12:12:28.473622Z"
    },
    "papermill": {
     "duration": 0.0558,
     "end_time": "2021-11-18T12:12:28.473767",
     "exception": false,
     "start_time": "2021-11-18T12:12:28.417967",
     "status": "completed"
    },
    "tags": []
   },
   "outputs": [
    {
     "data": {
      "text/plain": [
       "'https://raw.githubusercontent.com/pratapvardhan/notebooks/master/covid19/mapping_countries.csv'"
      ]
     },
     "execution_count": 3,
     "metadata": {},
     "output_type": "execute_result"
    }
   ],
   "source": [
    "#hide\n",
    "paths['mapping']"
   ]
  },
  {
   "cell_type": "code",
   "execution_count": 4,
   "id": "urban-software",
   "metadata": {
    "execution": {
     "iopub.execute_input": "2021-11-18T12:12:28.563555Z",
     "iopub.status.busy": "2021-11-18T12:12:28.562708Z",
     "iopub.status.idle": "2021-11-18T12:12:28.566061Z",
     "shell.execute_reply": "2021-11-18T12:12:28.566766Z"
    },
    "papermill": {
     "duration": 0.050027,
     "end_time": "2021-11-18T12:12:28.566915",
     "exception": false,
     "start_time": "2021-11-18T12:12:28.516888",
     "status": "completed"
    },
    "tags": []
   },
   "outputs": [],
   "source": [
    "#hide\n",
    "def get_mappings(url):\n",
    "    df = pd.read_csv(url)\n",
    "    return {\n",
    "        'df': df,\n",
    "        'replace.country': dict(df.dropna(subset=['Name']).set_index('Country')['Name']),\n",
    "        'map.continent': dict(df.set_index('Name')['Continent'])\n",
    "    }"
   ]
  },
  {
   "cell_type": "code",
   "execution_count": 5,
   "id": "intimate-machinery",
   "metadata": {
    "execution": {
     "iopub.execute_input": "2021-11-18T12:12:28.654697Z",
     "iopub.status.busy": "2021-11-18T12:12:28.654011Z",
     "iopub.status.idle": "2021-11-18T12:12:28.696487Z",
     "shell.execute_reply": "2021-11-18T12:12:28.695793Z"
    },
    "papermill": {
     "duration": 0.089108,
     "end_time": "2021-11-18T12:12:28.696666",
     "exception": false,
     "start_time": "2021-11-18T12:12:28.607558",
     "status": "completed"
    },
    "tags": []
   },
   "outputs": [],
   "source": [
    "#hide\n",
    "mapping = get_mappings(paths['mapping'])"
   ]
  },
  {
   "cell_type": "code",
   "execution_count": 6,
   "id": "certified-tactics",
   "metadata": {
    "execution": {
     "iopub.execute_input": "2021-11-18T12:12:28.784556Z",
     "iopub.status.busy": "2021-11-18T12:12:28.783772Z",
     "iopub.status.idle": "2021-11-18T12:12:28.785859Z",
     "shell.execute_reply": "2021-11-18T12:12:28.786495Z"
    },
    "papermill": {
     "duration": 0.04989,
     "end_time": "2021-11-18T12:12:28.786672",
     "exception": false,
     "start_time": "2021-11-18T12:12:28.736782",
     "status": "completed"
    },
    "tags": []
   },
   "outputs": [],
   "source": [
    "#hide\n",
    "def get_template(path):\n",
    "    from urllib.parse import urlparse\n",
    "    if bool(urlparse(path).netloc):\n",
    "        from urllib.request import urlopen\n",
    "        return urlopen(path).read().decode('utf8')\n",
    "    return open(path).read()"
   ]
  },
  {
   "cell_type": "code",
   "execution_count": 7,
   "id": "realistic-blast",
   "metadata": {
    "execution": {
     "iopub.execute_input": "2021-11-18T12:12:28.873652Z",
     "iopub.status.busy": "2021-11-18T12:12:28.872917Z",
     "iopub.status.idle": "2021-11-18T12:12:28.888645Z",
     "shell.execute_reply": "2021-11-18T12:12:28.889357Z"
    },
    "papermill": {
     "duration": 0.061576,
     "end_time": "2021-11-18T12:12:28.889518",
     "exception": false,
     "start_time": "2021-11-18T12:12:28.827942",
     "status": "completed"
    },
    "tags": []
   },
   "outputs": [],
   "source": [
    "#hide\n",
    "def get_frame(name):\n",
    "    url = (\n",
    "        'https://raw.githubusercontent.com/CSSEGISandData/COVID-19/master/csse_covid_19_data/'\n",
    "        f'csse_covid_19_time_series/time_series_covid19_{name}_global.csv')\n",
    "    df = pd.read_csv(url)\n",
    "    # rename countries\n",
    "    df['Country/Region'] = df['Country/Region'].replace(mapping['replace.country'])\n",
    "    return df"
   ]
  },
  {
   "cell_type": "code",
   "execution_count": 8,
   "id": "affiliated-characterization",
   "metadata": {
    "execution": {
     "iopub.execute_input": "2021-11-18T12:12:28.978287Z",
     "iopub.status.busy": "2021-11-18T12:12:28.977609Z",
     "iopub.status.idle": "2021-11-18T12:12:28.980210Z",
     "shell.execute_reply": "2021-11-18T12:12:28.979615Z"
    },
    "papermill": {
     "duration": 0.049311,
     "end_time": "2021-11-18T12:12:28.980354",
     "exception": false,
     "start_time": "2021-11-18T12:12:28.931043",
     "status": "completed"
    },
    "tags": []
   },
   "outputs": [],
   "source": [
    "#hide\n",
    "def get_dates(df):\n",
    "    dt_cols = df.columns[~df.columns.isin(['Province/State', 'Country/Region', 'Lat', 'Long'])]\n",
    "    LAST_DATE_I = -1\n",
    "    # sometimes last column may be empty, then go backwards\n",
    "    for i in range(-1, -len(dt_cols), -1):\n",
    "        if not df[dt_cols[i]].fillna(0).eq(0).all():\n",
    "            LAST_DATE_I = i\n",
    "            break\n",
    "    return LAST_DATE_I, dt_cols"
   ]
  },
  {
   "cell_type": "code",
   "execution_count": 9,
   "id": "recent-optimization",
   "metadata": {
    "execution": {
     "iopub.execute_input": "2021-11-18T12:12:29.067463Z",
     "iopub.status.busy": "2021-11-18T12:12:29.066522Z",
     "iopub.status.idle": "2021-11-18T12:12:29.541495Z",
     "shell.execute_reply": "2021-11-18T12:12:29.540941Z"
    },
    "papermill": {
     "duration": 0.521845,
     "end_time": "2021-11-18T12:12:29.541777",
     "exception": false,
     "start_time": "2021-11-18T12:12:29.019932",
     "status": "completed"
    },
    "tags": []
   },
   "outputs": [],
   "source": [
    "#hide\n",
    "COL_REGION = 'Country/Region'\n",
    "# Confirmed, Recovered, Deaths\n",
    "df = get_frame('confirmed')\n",
    "# dft_: timeseries, dfc_: today country agg\n",
    "dft_cases = df\n",
    "dft_deaths = get_frame('deaths')\n",
    "dft_recovered = get_frame('recovered')\n",
    "LAST_DATE_I, dt_cols = get_dates(df)"
   ]
  },
  {
   "cell_type": "code",
   "execution_count": 10,
   "id": "absolute-copper",
   "metadata": {
    "execution": {
     "iopub.execute_input": "2021-11-18T12:12:29.625448Z",
     "iopub.status.busy": "2021-11-18T12:12:29.624811Z",
     "iopub.status.idle": "2021-11-18T12:12:29.627826Z",
     "shell.execute_reply": "2021-11-18T12:12:29.627040Z"
    },
    "papermill": {
     "duration": 0.047064,
     "end_time": "2021-11-18T12:12:29.628002",
     "exception": false,
     "start_time": "2021-11-18T12:12:29.580938",
     "status": "completed"
    },
    "tags": []
   },
   "outputs": [],
   "source": [
    "#hide\n",
    "LAST_DATE_I, dt_cols = get_dates(df)\n",
    "dt_today =dt_cols[LAST_DATE_I]\n",
    "# dt_5day = dt_cols[LAST_DATE_I - 5]\n",
    "dt_yday = dt_cols[LAST_DATE_I - 1]"
   ]
  },
  {
   "cell_type": "code",
   "execution_count": 11,
   "id": "restricted-sheriff",
   "metadata": {
    "execution": {
     "iopub.execute_input": "2021-11-18T12:12:29.713451Z",
     "iopub.status.busy": "2021-11-18T12:12:29.712665Z",
     "iopub.status.idle": "2021-11-18T12:12:29.727429Z",
     "shell.execute_reply": "2021-11-18T12:12:29.726844Z"
    },
    "papermill": {
     "duration": 0.061583,
     "end_time": "2021-11-18T12:12:29.727561",
     "exception": false,
     "start_time": "2021-11-18T12:12:29.665978",
     "status": "completed"
    },
    "tags": []
   },
   "outputs": [],
   "source": [
    "#hide\n",
    "dfc_cases = dft_cases.groupby(COL_REGION)[dt_today].sum()\n",
    "dfc_deaths = dft_deaths.groupby(COL_REGION)[dt_today].sum()\n",
    "# dfp_cases = dft_cases.groupby(COL_REGION)[dt_5day].sum()\n",
    "# dfp_deaths = dft_deaths.groupby(COL_REGION)[dt_5day].sum()\n",
    "dfp_cases = dft_cases.groupby(COL_REGION)[dt_yday].sum()\n",
    "dfp_deaths = dft_deaths.groupby(COL_REGION)[dt_yday].sum()"
   ]
  },
  {
   "cell_type": "code",
   "execution_count": 12,
   "id": "deluxe-hepatitis",
   "metadata": {
    "execution": {
     "iopub.execute_input": "2021-11-18T12:12:29.823987Z",
     "iopub.status.busy": "2021-11-18T12:12:29.823290Z",
     "iopub.status.idle": "2021-11-18T12:12:29.828561Z",
     "shell.execute_reply": "2021-11-18T12:12:29.829196Z"
    },
    "papermill": {
     "duration": 0.056498,
     "end_time": "2021-11-18T12:12:29.829351",
     "exception": false,
     "start_time": "2021-11-18T12:12:29.772853",
     "status": "completed"
    },
    "tags": []
   },
   "outputs": [],
   "source": [
    "#hide\n",
    "df_table = (pd.DataFrame(dict(Cases = dfc_cases, Deaths = dfc_deaths, PCases = dfp_cases, PDeaths = dfp_deaths))\n",
    "            .sort_values(by = ['Cases','Deaths'], ascending = [False, False])\n",
    "            .reset_index())"
   ]
  },
  {
   "cell_type": "code",
   "execution_count": 13,
   "id": "educational-chancellor",
   "metadata": {
    "execution": {
     "iopub.execute_input": "2021-11-18T12:12:29.934825Z",
     "iopub.status.busy": "2021-11-18T12:12:29.934132Z",
     "iopub.status.idle": "2021-11-18T12:12:29.946887Z",
     "shell.execute_reply": "2021-11-18T12:12:29.946153Z"
    },
    "papermill": {
     "duration": 0.077542,
     "end_time": "2021-11-18T12:12:29.947033",
     "exception": false,
     "start_time": "2021-11-18T12:12:29.869491",
     "status": "completed"
    },
    "tags": []
   },
   "outputs": [
    {
     "data": {
      "text/html": [
       "<div>\n",
       "<style scoped>\n",
       "    .dataframe tbody tr th:only-of-type {\n",
       "        vertical-align: middle;\n",
       "    }\n",
       "\n",
       "    .dataframe tbody tr th {\n",
       "        vertical-align: top;\n",
       "    }\n",
       "\n",
       "    .dataframe thead th {\n",
       "        text-align: right;\n",
       "    }\n",
       "</style>\n",
       "<table border=\"1\" class=\"dataframe\">\n",
       "  <thead>\n",
       "    <tr style=\"text-align: right;\">\n",
       "      <th></th>\n",
       "      <th>Country/Region</th>\n",
       "      <th>Cases</th>\n",
       "      <th>Deaths</th>\n",
       "      <th>PCases</th>\n",
       "      <th>PDeaths</th>\n",
       "      <th>Cases (+)</th>\n",
       "      <th>Deaths (+)</th>\n",
       "      <th>Fatality Rate</th>\n",
       "      <th>Continent</th>\n",
       "    </tr>\n",
       "  </thead>\n",
       "  <tbody>\n",
       "    <tr>\n",
       "      <th>0</th>\n",
       "      <td>US</td>\n",
       "      <td>47420114</td>\n",
       "      <td>767433</td>\n",
       "      <td>47309008</td>\n",
       "      <td>765811</td>\n",
       "      <td>111106</td>\n",
       "      <td>1622</td>\n",
       "      <td>1.62</td>\n",
       "      <td>North America</td>\n",
       "    </tr>\n",
       "    <tr>\n",
       "      <th>1</th>\n",
       "      <td>India</td>\n",
       "      <td>34478517</td>\n",
       "      <td>464623</td>\n",
       "      <td>34466598</td>\n",
       "      <td>464153</td>\n",
       "      <td>11919</td>\n",
       "      <td>470</td>\n",
       "      <td>1.35</td>\n",
       "      <td>Asia</td>\n",
       "    </tr>\n",
       "    <tr>\n",
       "      <th>2</th>\n",
       "      <td>Brazil</td>\n",
       "      <td>21977661</td>\n",
       "      <td>611851</td>\n",
       "      <td>21965684</td>\n",
       "      <td>611478</td>\n",
       "      <td>11977</td>\n",
       "      <td>373</td>\n",
       "      <td>2.78</td>\n",
       "      <td>South America</td>\n",
       "    </tr>\n",
       "    <tr>\n",
       "      <th>3</th>\n",
       "      <td>United Kingdom</td>\n",
       "      <td>9724617</td>\n",
       "      <td>143799</td>\n",
       "      <td>9686363</td>\n",
       "      <td>143598</td>\n",
       "      <td>38254</td>\n",
       "      <td>201</td>\n",
       "      <td>1.48</td>\n",
       "      <td>Europe</td>\n",
       "    </tr>\n",
       "    <tr>\n",
       "      <th>4</th>\n",
       "      <td>Russia</td>\n",
       "      <td>9027163</td>\n",
       "      <td>254229</td>\n",
       "      <td>8991748</td>\n",
       "      <td>253009</td>\n",
       "      <td>35415</td>\n",
       "      <td>1220</td>\n",
       "      <td>2.82</td>\n",
       "      <td>Europe</td>\n",
       "    </tr>\n",
       "  </tbody>\n",
       "</table>\n",
       "</div>"
      ],
      "text/plain": [
       "   Country/Region     Cases  Deaths    PCases  PDeaths  Cases (+)  Deaths (+)  \\\n",
       "0              US  47420114  767433  47309008   765811     111106        1622   \n",
       "1           India  34478517  464623  34466598   464153      11919         470   \n",
       "2          Brazil  21977661  611851  21965684   611478      11977         373   \n",
       "3  United Kingdom   9724617  143799   9686363   143598      38254         201   \n",
       "4          Russia   9027163  254229   8991748   253009      35415        1220   \n",
       "\n",
       "   Fatality Rate      Continent  \n",
       "0           1.62  North America  \n",
       "1           1.35           Asia  \n",
       "2           2.78  South America  \n",
       "3           1.48         Europe  \n",
       "4           2.82         Europe  "
      ]
     },
     "execution_count": 13,
     "metadata": {},
     "output_type": "execute_result"
    }
   ],
   "source": [
    "#hide\n",
    "for c in 'Cases, Deaths'.split(', '):\n",
    "    df_table[f'{c} (+)'] = (df_table[c] - df_table[f'P{c}']).clip(0)\n",
    "    #Clip ça veut dire, les chiffres negatif sont interdit\n",
    "df_table['Fatality Rate'] = (100* df_table['Deaths']/ df_table['Cases']).round(2)\n",
    "df_table['Continent'] = df_table['Country/Region'].map(mapping['map.continent'])\n",
    "df_table.head(5)"
   ]
  },
  {
   "cell_type": "code",
   "execution_count": 14,
   "id": "aboriginal-bulgaria",
   "metadata": {
    "execution": {
     "iopub.execute_input": "2021-11-18T12:12:30.040507Z",
     "iopub.status.busy": "2021-11-18T12:12:30.039864Z",
     "iopub.status.idle": "2021-11-18T12:12:30.042847Z",
     "shell.execute_reply": "2021-11-18T12:12:30.042229Z"
    },
    "papermill": {
     "duration": 0.052911,
     "end_time": "2021-11-18T12:12:30.042973",
     "exception": false,
     "start_time": "2021-11-18T12:12:29.990062",
     "status": "completed"
    },
    "tags": []
   },
   "outputs": [],
   "source": [
    "#hide\n",
    "#delete problematic countries from table\n",
    "df_table = df_table[~df_table['Country/Region'].isin(['Cape Verde', 'Cruise Ship', 'Kosovo'])]"
   ]
  },
  {
   "cell_type": "code",
   "execution_count": 15,
   "id": "fantastic-effect",
   "metadata": {
    "execution": {
     "iopub.execute_input": "2021-11-18T12:12:30.131110Z",
     "iopub.status.busy": "2021-11-18T12:12:30.130242Z",
     "iopub.status.idle": "2021-11-18T12:12:30.155614Z",
     "shell.execute_reply": "2021-11-18T12:12:30.156369Z"
    },
    "papermill": {
     "duration": 0.074329,
     "end_time": "2021-11-18T12:12:30.156610",
     "exception": false,
     "start_time": "2021-11-18T12:12:30.082281",
     "status": "completed"
    },
    "tags": []
   },
   "outputs": [
    {
     "data": {
      "text/html": [
       "<div>\n",
       "<style scoped>\n",
       "    .dataframe tbody tr th:only-of-type {\n",
       "        vertical-align: middle;\n",
       "    }\n",
       "\n",
       "    .dataframe tbody tr th {\n",
       "        vertical-align: top;\n",
       "    }\n",
       "\n",
       "    .dataframe thead th {\n",
       "        text-align: right;\n",
       "    }\n",
       "</style>\n",
       "<table border=\"1\" class=\"dataframe\">\n",
       "  <thead>\n",
       "    <tr style=\"text-align: right;\">\n",
       "      <th></th>\n",
       "      <th>Country/Region</th>\n",
       "      <th>Cases</th>\n",
       "      <th>Deaths</th>\n",
       "      <th>PCases</th>\n",
       "      <th>PDeaths</th>\n",
       "      <th>Cases (+)</th>\n",
       "      <th>Deaths (+)</th>\n",
       "      <th>Fatality Rate</th>\n",
       "      <th>Continent</th>\n",
       "    </tr>\n",
       "  </thead>\n",
       "  <tbody>\n",
       "    <tr>\n",
       "      <th>0</th>\n",
       "      <td>US</td>\n",
       "      <td>47420114</td>\n",
       "      <td>767433</td>\n",
       "      <td>47309008</td>\n",
       "      <td>765811</td>\n",
       "      <td>111106</td>\n",
       "      <td>1622</td>\n",
       "      <td>1.6</td>\n",
       "      <td>North America</td>\n",
       "    </tr>\n",
       "    <tr>\n",
       "      <th>1</th>\n",
       "      <td>India</td>\n",
       "      <td>34478517</td>\n",
       "      <td>464623</td>\n",
       "      <td>34466598</td>\n",
       "      <td>464153</td>\n",
       "      <td>11919</td>\n",
       "      <td>470</td>\n",
       "      <td>1.3</td>\n",
       "      <td>Asia</td>\n",
       "    </tr>\n",
       "    <tr>\n",
       "      <th>2</th>\n",
       "      <td>Brazil</td>\n",
       "      <td>21977661</td>\n",
       "      <td>611851</td>\n",
       "      <td>21965684</td>\n",
       "      <td>611478</td>\n",
       "      <td>11977</td>\n",
       "      <td>373</td>\n",
       "      <td>2.8</td>\n",
       "      <td>South America</td>\n",
       "    </tr>\n",
       "    <tr>\n",
       "      <th>3</th>\n",
       "      <td>United Kingdom</td>\n",
       "      <td>9724617</td>\n",
       "      <td>143799</td>\n",
       "      <td>9686363</td>\n",
       "      <td>143598</td>\n",
       "      <td>38254</td>\n",
       "      <td>201</td>\n",
       "      <td>1.5</td>\n",
       "      <td>Europe</td>\n",
       "    </tr>\n",
       "    <tr>\n",
       "      <th>4</th>\n",
       "      <td>Russia</td>\n",
       "      <td>9027163</td>\n",
       "      <td>254229</td>\n",
       "      <td>8991748</td>\n",
       "      <td>253009</td>\n",
       "      <td>35415</td>\n",
       "      <td>1220</td>\n",
       "      <td>2.8</td>\n",
       "      <td>Europe</td>\n",
       "    </tr>\n",
       "  </tbody>\n",
       "</table>\n",
       "</div>"
      ],
      "text/plain": [
       "   Country/Region     Cases  Deaths    PCases  PDeaths  Cases (+)  Deaths (+)  \\\n",
       "0              US  47420114  767433  47309008   765811     111106        1622   \n",
       "1           India  34478517  464623  34466598   464153      11919         470   \n",
       "2          Brazil  21977661  611851  21965684   611478      11977         373   \n",
       "3  United Kingdom   9724617  143799   9686363   143598      38254         201   \n",
       "4          Russia   9027163  254229   8991748   253009      35415        1220   \n",
       "\n",
       "   Fatality Rate      Continent  \n",
       "0            1.6  North America  \n",
       "1            1.3           Asia  \n",
       "2            2.8  South America  \n",
       "3            1.5         Europe  \n",
       "4            2.8         Europe  "
      ]
     },
     "execution_count": 15,
     "metadata": {},
     "output_type": "execute_result"
    }
   ],
   "source": [
    "#hide\n",
    "df_table = (pd.DataFrame(dict(Cases=dfc_cases, Deaths=dfc_deaths, PCases=dfp_cases, PDeaths=dfp_deaths))\n",
    "             .sort_values(by=['Cases', 'Deaths'], ascending=[False, False])\n",
    "             .reset_index())\n",
    "df_table.rename(columns={'index': 'Country/Region'}, inplace=True)\n",
    "for c in 'Cases, Deaths'.split(', '):\n",
    "    df_table[f'{c} (+)'] = (df_table[c] - df_table[f'P{c}']).clip(0)  # DATA BUG\n",
    "df_table['Fatality Rate'] = (100 * df_table['Deaths'] / df_table['Cases']).round(1)\n",
    "df_table['Continent'] = df_table['Country/Region'].map(mapping['map.continent'])\n",
    "df_table.head(5)"
   ]
  },
  {
   "cell_type": "code",
   "execution_count": 16,
   "id": "fewer-occasion",
   "metadata": {
    "execution": {
     "iopub.execute_input": "2021-11-18T12:12:30.246591Z",
     "iopub.status.busy": "2021-11-18T12:12:30.245900Z",
     "iopub.status.idle": "2021-11-18T12:12:30.248894Z",
     "shell.execute_reply": "2021-11-18T12:12:30.248348Z"
    },
    "papermill": {
     "duration": 0.049597,
     "end_time": "2021-11-18T12:12:30.249037",
     "exception": false,
     "start_time": "2021-11-18T12:12:30.199440",
     "status": "completed"
    },
    "tags": []
   },
   "outputs": [],
   "source": [
    "#hide\n",
    "#delete problematic countries from table\n",
    "df_table = df_table[~df_table['Country/Region'].isin(['Cape Verde', 'Cruise Ship', 'Kosovo'])]"
   ]
  },
  {
   "cell_type": "code",
   "execution_count": 17,
   "id": "related-center",
   "metadata": {
    "execution": {
     "iopub.execute_input": "2021-11-18T12:12:30.357020Z",
     "iopub.status.busy": "2021-11-18T12:12:30.356283Z",
     "iopub.status.idle": "2021-11-18T12:12:30.361625Z",
     "shell.execute_reply": "2021-11-18T12:12:30.361048Z"
    },
    "papermill": {
     "duration": 0.069991,
     "end_time": "2021-11-18T12:12:30.361769",
     "exception": false,
     "start_time": "2021-11-18T12:12:30.291778",
     "status": "completed"
    },
    "tags": []
   },
   "outputs": [],
   "source": [
    "#hide\n",
    "metrics = [df_table.columns[index] for index in [1,2,5,6]]\n",
    "# s_china = df_table[df_table['Country/Region'].eq('China')][metrics].sum().add_prefix('China ')\n",
    "s_us = df_table[df_table['Country/Region'].eq('US')][metrics].sum().add_prefix('US ')\n",
    "s_eu = df_table[df_table['Continent'].eq('Europe')][metrics].sum().add_prefix('EU ')\n",
    "s_ind = df_table[df_table['Country/Region'].eq('India')][metrics].sum().add_prefix('India ')\n",
    "summary = {'updated': pd.to_datetime(dt_today), 'since': pd.to_datetime(dt_yday)}\n",
    "summary = {'updated': pd.to_datetime(dt_today), 'since': pd.to_datetime(dt_yday)}\n",
    "summary = {**summary, **df_table[metrics].sum(), **s_ind, **s_us, **s_eu}"
   ]
  },
  {
   "cell_type": "code",
   "execution_count": 18,
   "id": "engaging-syndrome",
   "metadata": {
    "execution": {
     "iopub.execute_input": "2021-11-18T12:12:30.451176Z",
     "iopub.status.busy": "2021-11-18T12:12:30.450476Z",
     "iopub.status.idle": "2021-11-18T12:12:30.468711Z",
     "shell.execute_reply": "2021-11-18T12:12:30.468158Z"
    },
    "papermill": {
     "duration": 0.065682,
     "end_time": "2021-11-18T12:12:30.468852",
     "exception": false,
     "start_time": "2021-11-18T12:12:30.403170",
     "status": "completed"
    },
    "tags": []
   },
   "outputs": [],
   "source": [
    "#hide\n",
    "dft_ct_new_cases = dft_cases.groupby(COL_REGION)[dt_cols].sum().diff(axis=1).fillna(0).astype(int)"
   ]
  },
  {
   "cell_type": "code",
   "execution_count": 19,
   "id": "neutral-assignment",
   "metadata": {
    "execution": {
     "iopub.execute_input": "2021-11-18T12:12:30.566160Z",
     "iopub.status.busy": "2021-11-18T12:12:30.565311Z",
     "iopub.status.idle": "2021-11-18T12:12:30.567923Z",
     "shell.execute_reply": "2021-11-18T12:12:30.567243Z"
    },
    "papermill": {
     "duration": 0.057651,
     "end_time": "2021-11-18T12:12:30.568053",
     "exception": false,
     "start_time": "2021-11-18T12:12:30.510402",
     "status": "completed"
    },
    "tags": []
   },
   "outputs": [],
   "source": [
    "#hide\n",
    "everydaycases = dft_ct_new_cases.cumsum(axis=1)"
   ]
  },
  {
   "cell_type": "code",
   "execution_count": 20,
   "id": "parliamentary-calgary",
   "metadata": {
    "execution": {
     "iopub.execute_input": "2021-11-18T12:12:30.656403Z",
     "iopub.status.busy": "2021-11-18T12:12:30.655741Z",
     "iopub.status.idle": "2021-11-18T12:12:31.433137Z",
     "shell.execute_reply": "2021-11-18T12:12:31.432406Z"
    },
    "papermill": {
     "duration": 0.8225,
     "end_time": "2021-11-18T12:12:31.433280",
     "exception": false,
     "start_time": "2021-11-18T12:12:30.610780",
     "status": "completed"
    },
    "tags": []
   },
   "outputs": [],
   "source": [
    "#hide\n",
    "import pandas as pd\n",
    "import matplotlib.pyplot as plt\n",
    "import matplotlib.ticker as ticker\n",
    "import matplotlib.animation as animation\n",
    "from IPython.display import HTML"
   ]
  },
  {
   "cell_type": "code",
   "execution_count": 21,
   "id": "lasting-extraction",
   "metadata": {
    "execution": {
     "iopub.execute_input": "2021-11-18T12:12:31.517533Z",
     "iopub.status.busy": "2021-11-18T12:12:31.516882Z",
     "iopub.status.idle": "2021-11-18T12:12:31.523498Z",
     "shell.execute_reply": "2021-11-18T12:12:31.522719Z"
    },
    "papermill": {
     "duration": 0.05043,
     "end_time": "2021-11-18T12:12:31.523667",
     "exception": false,
     "start_time": "2021-11-18T12:12:31.473237",
     "status": "completed"
    },
    "tags": []
   },
   "outputs": [],
   "source": [
    "#hide\n",
    "t = everydaycases.stack()"
   ]
  },
  {
   "cell_type": "code",
   "execution_count": 22,
   "id": "premier-sleeve",
   "metadata": {
    "execution": {
     "iopub.execute_input": "2021-11-18T12:12:31.606764Z",
     "iopub.status.busy": "2021-11-18T12:12:31.606077Z",
     "iopub.status.idle": "2021-11-18T12:12:31.616402Z",
     "shell.execute_reply": "2021-11-18T12:12:31.617023Z"
    },
    "papermill": {
     "duration": 0.055281,
     "end_time": "2021-11-18T12:12:31.617181",
     "exception": false,
     "start_time": "2021-11-18T12:12:31.561900",
     "status": "completed"
    },
    "tags": []
   },
   "outputs": [],
   "source": [
    "#hide\n",
    "g = t.reset_index(['Country/Region'])"
   ]
  },
  {
   "cell_type": "code",
   "execution_count": 23,
   "id": "distributed-pittsburgh",
   "metadata": {
    "execution": {
     "iopub.execute_input": "2021-11-18T12:12:31.700851Z",
     "iopub.status.busy": "2021-11-18T12:12:31.700202Z",
     "iopub.status.idle": "2021-11-18T12:12:31.704301Z",
     "shell.execute_reply": "2021-11-18T12:12:31.703679Z"
    },
    "papermill": {
     "duration": 0.048496,
     "end_time": "2021-11-18T12:12:31.704434",
     "exception": false,
     "start_time": "2021-11-18T12:12:31.655938",
     "status": "completed"
    },
    "tags": []
   },
   "outputs": [],
   "source": [
    "#hide\n",
    "g.index.name = 'date'"
   ]
  },
  {
   "cell_type": "code",
   "execution_count": 24,
   "id": "naked-donor",
   "metadata": {
    "execution": {
     "iopub.execute_input": "2021-11-18T12:12:31.792031Z",
     "iopub.status.busy": "2021-11-18T12:12:31.791356Z",
     "iopub.status.idle": "2021-11-18T12:12:31.793911Z",
     "shell.execute_reply": "2021-11-18T12:12:31.793247Z"
    },
    "papermill": {
     "duration": 0.048004,
     "end_time": "2021-11-18T12:12:31.794036",
     "exception": false,
     "start_time": "2021-11-18T12:12:31.746032",
     "status": "completed"
    },
    "tags": []
   },
   "outputs": [],
   "source": [
    "# #hide\n",
    "# g = g.reset_index(['date'])"
   ]
  },
  {
   "cell_type": "code",
   "execution_count": 25,
   "id": "incomplete-mustang",
   "metadata": {
    "execution": {
     "iopub.execute_input": "2021-11-18T12:12:31.881081Z",
     "iopub.status.busy": "2021-11-18T12:12:31.880404Z",
     "iopub.status.idle": "2021-11-18T12:12:31.885013Z",
     "shell.execute_reply": "2021-11-18T12:12:31.884460Z"
    },
    "papermill": {
     "duration": 0.049764,
     "end_time": "2021-11-18T12:12:31.885169",
     "exception": false,
     "start_time": "2021-11-18T12:12:31.835405",
     "status": "completed"
    },
    "tags": []
   },
   "outputs": [],
   "source": [
    "#hide\n",
    "# g.head()"
   ]
  },
  {
   "cell_type": "code",
   "execution_count": 26,
   "id": "specific-kruger",
   "metadata": {
    "execution": {
     "iopub.execute_input": "2021-11-18T12:12:31.990191Z",
     "iopub.status.busy": "2021-11-18T12:12:31.989509Z",
     "iopub.status.idle": "2021-11-18T12:12:31.992050Z",
     "shell.execute_reply": "2021-11-18T12:12:31.991475Z"
    },
    "papermill": {
     "duration": 0.051014,
     "end_time": "2021-11-18T12:12:31.992199",
     "exception": false,
     "start_time": "2021-11-18T12:12:31.941185",
     "status": "completed"
    },
    "tags": []
   },
   "outputs": [],
   "source": [
    "#hide\n",
    "# g.columns = ['date','country','cases']"
   ]
  },
  {
   "cell_type": "code",
   "execution_count": 27,
   "id": "tender-conversion",
   "metadata": {
    "execution": {
     "iopub.execute_input": "2021-11-18T12:12:32.079285Z",
     "iopub.status.busy": "2021-11-18T12:12:32.078525Z",
     "iopub.status.idle": "2021-11-18T12:12:32.082627Z",
     "shell.execute_reply": "2021-11-18T12:12:32.081948Z"
    },
    "papermill": {
     "duration": 0.04987,
     "end_time": "2021-11-18T12:12:32.082789",
     "exception": false,
     "start_time": "2021-11-18T12:12:32.032919",
     "status": "completed"
    },
    "tags": []
   },
   "outputs": [],
   "source": [
    "#hide\n",
    "# g['continent'] = g.country"
   ]
  },
  {
   "cell_type": "code",
   "execution_count": 28,
   "id": "substantial-wilderness",
   "metadata": {
    "execution": {
     "iopub.execute_input": "2021-11-18T12:12:32.171599Z",
     "iopub.status.busy": "2021-11-18T12:12:32.170859Z",
     "iopub.status.idle": "2021-11-18T12:12:32.173003Z",
     "shell.execute_reply": "2021-11-18T12:12:32.173625Z"
    },
    "papermill": {
     "duration": 0.050135,
     "end_time": "2021-11-18T12:12:32.173796",
     "exception": false,
     "start_time": "2021-11-18T12:12:32.123661",
     "status": "completed"
    },
    "tags": []
   },
   "outputs": [],
   "source": [
    "#hide\n",
    "# cols = list(g.columns.values)"
   ]
  },
  {
   "cell_type": "code",
   "execution_count": 29,
   "id": "solved-farming",
   "metadata": {
    "execution": {
     "iopub.execute_input": "2021-11-18T12:12:32.267944Z",
     "iopub.status.busy": "2021-11-18T12:12:32.267246Z",
     "iopub.status.idle": "2021-11-18T12:12:32.269041Z",
     "shell.execute_reply": "2021-11-18T12:12:32.269599Z"
    },
    "papermill": {
     "duration": 0.051115,
     "end_time": "2021-11-18T12:12:32.269765",
     "exception": false,
     "start_time": "2021-11-18T12:12:32.218650",
     "status": "completed"
    },
    "tags": []
   },
   "outputs": [],
   "source": [
    "#hide\n",
    "# cols.insert(0, cols.pop())"
   ]
  },
  {
   "cell_type": "code",
   "execution_count": 30,
   "id": "executed-adoption",
   "metadata": {
    "execution": {
     "iopub.execute_input": "2021-11-18T12:12:32.356651Z",
     "iopub.status.busy": "2021-11-18T12:12:32.355732Z",
     "iopub.status.idle": "2021-11-18T12:12:32.358257Z",
     "shell.execute_reply": "2021-11-18T12:12:32.359096Z"
    },
    "papermill": {
     "duration": 0.048362,
     "end_time": "2021-11-18T12:12:32.359259",
     "exception": false,
     "start_time": "2021-11-18T12:12:32.310897",
     "status": "completed"
    },
    "tags": []
   },
   "outputs": [],
   "source": [
    "#hide\n",
    "# g = g[cols]"
   ]
  },
  {
   "cell_type": "code",
   "execution_count": 31,
   "id": "subject-dublin",
   "metadata": {
    "execution": {
     "iopub.execute_input": "2021-11-18T12:12:32.446105Z",
     "iopub.status.busy": "2021-11-18T12:12:32.445387Z",
     "iopub.status.idle": "2021-11-18T12:12:32.449704Z",
     "shell.execute_reply": "2021-11-18T12:12:32.449045Z"
    },
    "papermill": {
     "duration": 0.050119,
     "end_time": "2021-11-18T12:12:32.449840",
     "exception": false,
     "start_time": "2021-11-18T12:12:32.399721",
     "status": "completed"
    },
    "tags": []
   },
   "outputs": [],
   "source": [
    "#hide\n",
    "# g['continent'] = g['continent'].map(mapping['map.continent'])"
   ]
  },
  {
   "cell_type": "code",
   "execution_count": 32,
   "id": "freelance-scout",
   "metadata": {
    "execution": {
     "iopub.execute_input": "2021-11-18T12:12:32.537469Z",
     "iopub.status.busy": "2021-11-18T12:12:32.536779Z",
     "iopub.status.idle": "2021-11-18T12:12:32.539447Z",
     "shell.execute_reply": "2021-11-18T12:12:32.538832Z"
    },
    "papermill": {
     "duration": 0.048473,
     "end_time": "2021-11-18T12:12:32.539582",
     "exception": false,
     "start_time": "2021-11-18T12:12:32.491109",
     "status": "completed"
    },
    "tags": []
   },
   "outputs": [],
   "source": [
    "#hide\n",
    "# g.head()"
   ]
  },
  {
   "cell_type": "code",
   "execution_count": 33,
   "id": "limited-engine",
   "metadata": {
    "execution": {
     "iopub.execute_input": "2021-11-18T12:12:32.628249Z",
     "iopub.status.busy": "2021-11-18T12:12:32.627474Z",
     "iopub.status.idle": "2021-11-18T12:12:32.631604Z",
     "shell.execute_reply": "2021-11-18T12:12:32.632147Z"
    },
    "papermill": {
     "duration": 0.049963,
     "end_time": "2021-11-18T12:12:32.632309",
     "exception": false,
     "start_time": "2021-11-18T12:12:32.582346",
     "status": "completed"
    },
    "tags": []
   },
   "outputs": [],
   "source": [
    "# hide\n",
    "# g['date'] = g['date'].astype('datetime64[ns]')"
   ]
  },
  {
   "cell_type": "code",
   "execution_count": 34,
   "id": "sophisticated-supervisor",
   "metadata": {
    "execution": {
     "iopub.execute_input": "2021-11-18T12:12:32.720047Z",
     "iopub.status.busy": "2021-11-18T12:12:32.719317Z",
     "iopub.status.idle": "2021-11-18T12:12:32.722019Z",
     "shell.execute_reply": "2021-11-18T12:12:32.721097Z"
    },
    "papermill": {
     "duration": 0.047207,
     "end_time": "2021-11-18T12:12:32.722162",
     "exception": false,
     "start_time": "2021-11-18T12:12:32.674955",
     "status": "completed"
    },
    "tags": []
   },
   "outputs": [],
   "source": [
    "#hide\n",
    "# g['date'] = g.date.dt.dayofyear"
   ]
  },
  {
   "cell_type": "code",
   "execution_count": 35,
   "id": "inside-dubai",
   "metadata": {
    "execution": {
     "iopub.execute_input": "2021-11-18T12:12:32.812553Z",
     "iopub.status.busy": "2021-11-18T12:12:32.811837Z",
     "iopub.status.idle": "2021-11-18T12:12:32.813976Z",
     "shell.execute_reply": "2021-11-18T12:12:32.814533Z"
    },
    "papermill": {
     "duration": 0.049102,
     "end_time": "2021-11-18T12:12:32.814723",
     "exception": false,
     "start_time": "2021-11-18T12:12:32.765621",
     "status": "completed"
    },
    "tags": []
   },
   "outputs": [],
   "source": [
    "#hide\n",
    "# g = g.rename(columns= {'continent':'group','country':'name','cases':'value'})"
   ]
  },
  {
   "cell_type": "code",
   "execution_count": 36,
   "id": "fleet-motorcycle",
   "metadata": {
    "execution": {
     "iopub.execute_input": "2021-11-18T12:12:32.901927Z",
     "iopub.status.busy": "2021-11-18T12:12:32.901311Z",
     "iopub.status.idle": "2021-11-18T12:12:32.905974Z",
     "shell.execute_reply": "2021-11-18T12:12:32.905440Z"
    },
    "papermill": {
     "duration": 0.049519,
     "end_time": "2021-11-18T12:12:32.906100",
     "exception": false,
     "start_time": "2021-11-18T12:12:32.856581",
     "status": "completed"
    },
    "tags": []
   },
   "outputs": [],
   "source": [
    "#hide\n",
    "# cols = ['name','group','day','value']"
   ]
  },
  {
   "cell_type": "code",
   "execution_count": 37,
   "id": "continued-sleeping",
   "metadata": {
    "execution": {
     "iopub.execute_input": "2021-11-18T12:12:32.993758Z",
     "iopub.status.busy": "2021-11-18T12:12:32.993012Z",
     "iopub.status.idle": "2021-11-18T12:12:32.995096Z",
     "shell.execute_reply": "2021-11-18T12:12:32.995622Z"
    },
    "papermill": {
     "duration": 0.047808,
     "end_time": "2021-11-18T12:12:32.995777",
     "exception": false,
     "start_time": "2021-11-18T12:12:32.947969",
     "status": "completed"
    },
    "tags": []
   },
   "outputs": [],
   "source": [
    "#hide\n",
    "# g.rename(columns= {'date':'day'},inplace = True)"
   ]
  },
  {
   "cell_type": "code",
   "execution_count": 38,
   "id": "major-fight",
   "metadata": {
    "execution": {
     "iopub.execute_input": "2021-11-18T12:12:33.083730Z",
     "iopub.status.busy": "2021-11-18T12:12:33.082959Z",
     "iopub.status.idle": "2021-11-18T12:12:33.085364Z",
     "shell.execute_reply": "2021-11-18T12:12:33.084669Z"
    },
    "papermill": {
     "duration": 0.049068,
     "end_time": "2021-11-18T12:12:33.085529",
     "exception": false,
     "start_time": "2021-11-18T12:12:33.036461",
     "status": "completed"
    },
    "tags": []
   },
   "outputs": [],
   "source": [
    "#hide\n",
    "# g = g[cols]"
   ]
  },
  {
   "cell_type": "code",
   "execution_count": 39,
   "id": "structured-mobile",
   "metadata": {
    "execution": {
     "iopub.execute_input": "2021-11-18T12:12:33.172818Z",
     "iopub.status.busy": "2021-11-18T12:12:33.172132Z",
     "iopub.status.idle": "2021-11-18T12:12:33.174845Z",
     "shell.execute_reply": "2021-11-18T12:12:33.174157Z"
    },
    "papermill": {
     "duration": 0.047887,
     "end_time": "2021-11-18T12:12:33.174970",
     "exception": false,
     "start_time": "2021-11-18T12:12:33.127083",
     "status": "completed"
    },
    "tags": []
   },
   "outputs": [],
   "source": [
    "# #hide\n",
    "# g = g[g.group.notna()]"
   ]
  },
  {
   "cell_type": "code",
   "execution_count": 40,
   "id": "determined-closing",
   "metadata": {
    "execution": {
     "iopub.execute_input": "2021-11-18T12:12:33.261459Z",
     "iopub.status.busy": "2021-11-18T12:12:33.260758Z",
     "iopub.status.idle": "2021-11-18T12:12:33.263378Z",
     "shell.execute_reply": "2021-11-18T12:12:33.262639Z"
    },
    "papermill": {
     "duration": 0.047431,
     "end_time": "2021-11-18T12:12:33.263519",
     "exception": false,
     "start_time": "2021-11-18T12:12:33.216088",
     "status": "completed"
    },
    "tags": []
   },
   "outputs": [],
   "source": [
    "# #hide\n",
    "# colors = dict(zip(\n",
    "#     [\"Oceania\", \"Europe\", \"Asia\", \"South America\", \"Middle East\", \"North America\", \"Africa\"],\n",
    "#     [\"#adb0ff\", \"#ffb3ff\", \"#90d595\", \"#e48381\", \"#aafbff\", \"#f7bb5f\", \"#eafb50\"]\n",
    "# ))\n",
    "# group_lk = g.set_index('name')['group'].to_dict()"
   ]
  },
  {
   "cell_type": "code",
   "execution_count": null,
   "id": "gross-drinking",
   "metadata": {
    "papermill": {
     "duration": 0.040579,
     "end_time": "2021-11-18T12:12:33.344789",
     "exception": false,
     "start_time": "2021-11-18T12:12:33.304210",
     "status": "completed"
    },
    "tags": []
   },
   "outputs": [],
   "source": []
  },
  {
   "cell_type": "code",
   "execution_count": 41,
   "id": "subject-macintosh",
   "metadata": {
    "execution": {
     "iopub.execute_input": "2021-11-18T12:12:33.430401Z",
     "iopub.status.busy": "2021-11-18T12:12:33.429659Z",
     "iopub.status.idle": "2021-11-18T12:12:33.434268Z",
     "shell.execute_reply": "2021-11-18T12:12:33.433704Z"
    },
    "papermill": {
     "duration": 0.049198,
     "end_time": "2021-11-18T12:12:33.434414",
     "exception": false,
     "start_time": "2021-11-18T12:12:33.385216",
     "status": "completed"
    },
    "tags": []
   },
   "outputs": [],
   "source": [
    "# #hide\n",
    "# fig, ax = plt.subplots(figsize=(15, 8))\n",
    "\n",
    "# def draw_barchart(current_day):\n",
    "#     dff = g[g['day'].eq(current_day)].sort_values(by='value', ascending=True).tail(10)\n",
    "#     ax.clear()\n",
    "#     ax.barh(dff['name'], dff['value'], color=[colors[group_lk[x]] for x in dff['name']])\n",
    "#     dx = dff['value'].max() / 200\n",
    "    \n",
    "#     for i, (value, name) in enumerate(zip(dff['value'], dff['name'])):\n",
    "#         ax.text(value-dx, i,     name,           size=14, weight=600, ha='right', va='bottom')\n",
    "#         ax.text(value-dx, i-.25, group_lk[name], size=10, color='#444444', ha='right', va='baseline')\n",
    "#         ax.text(value+dx, i,     f'{value:,.0f}',  size=14, ha='left',  va='center')\n",
    "#     ax.text(1, 0.4, current_day, transform=ax.transAxes, color='#777777', size=46, ha='right', weight=800)\n",
    "#     ax.text(0, 1.06, 'Population (thousands)', transform=ax.transAxes, size=12, color='#777777')\n",
    "#     ax.xaxis.set_major_formatter(ticker.StrMethodFormatter('{x:,.0f}'))\n",
    "#     ax.xaxis.set_ticks_position('top')\n",
    "#     ax.tick_params(axis='x', colors='#777777', labelsize=12)\n",
    "#     ax.set_yticks([])\n",
    "#     ax.margins(0, 0.01)\n",
    "#     ax.grid(which='major', axis='x', linestyle='-')\n",
    "#     ax.set_axisbelow(True)\n",
    "    \n",
    "#     ax.text(0, 1.15, 'Coronavirus',\n",
    "#             transform=ax.transAxes, size=24, weight=600, ha='left', va='top')\n",
    "# #     ax.text(1, 0, 'by @pratapvardhan; credit @jburnmurdoch', transform=ax.transAxes, color='#777777', ha='right',\n",
    "# #             bbox=dict(facecolor='white', alpha=0.8, edgecolor='white'))\n",
    "#     plt.box(False)"
   ]
  },
  {
   "cell_type": "code",
   "execution_count": 42,
   "id": "sexual-wages",
   "metadata": {
    "execution": {
     "iopub.execute_input": "2021-11-18T12:12:33.525527Z",
     "iopub.status.busy": "2021-11-18T12:12:33.524672Z",
     "iopub.status.idle": "2021-11-18T12:12:33.527081Z",
     "shell.execute_reply": "2021-11-18T12:12:33.526342Z"
    },
    "papermill": {
     "duration": 0.050235,
     "end_time": "2021-11-18T12:12:33.527293",
     "exception": false,
     "start_time": "2021-11-18T12:12:33.477058",
     "status": "completed"
    },
    "tags": []
   },
   "outputs": [],
   "source": [
    "# #hide_input\n",
    "# fig, ax = plt.subplots(figsize=(15, 8))\n",
    "# animator = animation.FuncAnimation(fig, draw_barchart, frames=range(g.day.values.min(), g.day.values.max()))\n",
    "# HTML(animator.to_jshtml())\n",
    "# # or use animator.to_html5_video() or animator.save() "
   ]
  },
  {
   "cell_type": "code",
   "execution_count": null,
   "id": "australian-container",
   "metadata": {
    "papermill": {
     "duration": 0.043204,
     "end_time": "2021-11-18T12:12:33.612082",
     "exception": false,
     "start_time": "2021-11-18T12:12:33.568878",
     "status": "completed"
    },
    "tags": []
   },
   "outputs": [],
   "source": []
  },
  {
   "cell_type": "code",
   "execution_count": null,
   "id": "mediterranean-pontiac",
   "metadata": {
    "papermill": {
     "duration": 0.039782,
     "end_time": "2021-11-18T12:12:33.692952",
     "exception": false,
     "start_time": "2021-11-18T12:12:33.653170",
     "status": "completed"
    },
    "tags": []
   },
   "outputs": [],
   "source": []
  },
  {
   "cell_type": "code",
   "execution_count": null,
   "id": "aging-legislature",
   "metadata": {
    "papermill": {
     "duration": 0.039994,
     "end_time": "2021-11-18T12:12:33.774591",
     "exception": false,
     "start_time": "2021-11-18T12:12:33.734597",
     "status": "completed"
    },
    "tags": []
   },
   "outputs": [],
   "source": []
  }
 ],
 "metadata": {
  "kernelspec": {
   "display_name": "Python 3",
   "language": "python",
   "name": "python3"
  },
  "language_info": {
   "codemirror_mode": {
    "name": "ipython",
    "version": 3
   },
   "file_extension": ".py",
   "mimetype": "text/x-python",
   "name": "python",
   "nbconvert_exporter": "python",
   "pygments_lexer": "ipython3",
   "version": "3.6.15"
  },
  "papermill": {
   "duration": 7.596244,
   "end_time": "2021-11-18T12:12:34.127296",
   "environment_variables": {},
   "exception": null,
   "input_path": "2020-03-21-covid19exp.ipynb",
   "output_path": "2020-03-21-covid19exp.ipynb",
   "parameters": {},
   "start_time": "2021-11-18T12:12:26.531052",
   "version": "2.0.0"
  }
 },
 "nbformat": 4,
 "nbformat_minor": 5
}