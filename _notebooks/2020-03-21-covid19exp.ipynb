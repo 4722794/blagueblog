{
 "cells": [
  {
   "cell_type": "markdown",
   "id": "muslim-click",
   "metadata": {
    "papermill": {
     "duration": 0.036852,
     "end_time": "2021-10-01T12:11:57.339566",
     "exception": false,
     "start_time": "2021-10-01T12:11:57.302714",
     "status": "completed"
    },
    "tags": []
   },
   "source": [
    "# COVID-19 Case Race\n",
    "> A race chart to see rising cases around the world\n",
    "\n",
    "- author: Hargun Oberoi\n",
    "- image: images/covid-overview.png\n",
    "- hide: false\n",
    "- badges: false"
   ]
  },
  {
   "cell_type": "code",
   "execution_count": 1,
   "id": "proof-material",
   "metadata": {
    "execution": {
     "iopub.execute_input": "2021-10-01T12:11:57.416247Z",
     "iopub.status.busy": "2021-10-01T12:11:57.415625Z",
     "iopub.status.idle": "2021-10-01T12:11:57.780487Z",
     "shell.execute_reply": "2021-10-01T12:11:57.779812Z"
    },
    "papermill": {
     "duration": 0.407995,
     "end_time": "2021-10-01T12:11:57.780640",
     "exception": false,
     "start_time": "2021-10-01T12:11:57.372645",
     "status": "completed"
    },
    "tags": []
   },
   "outputs": [],
   "source": [
    "#hide\n",
    "import numpy as np\n",
    "import pandas as pd\n",
    "from jinja2 import Template\n",
    "from IPython.display import HTML"
   ]
  },
  {
   "cell_type": "code",
   "execution_count": 2,
   "id": "developed-terminology",
   "metadata": {
    "execution": {
     "iopub.execute_input": "2021-10-01T12:11:57.856183Z",
     "iopub.status.busy": "2021-10-01T12:11:57.855506Z",
     "iopub.status.idle": "2021-10-01T12:11:57.857700Z",
     "shell.execute_reply": "2021-10-01T12:11:57.858176Z"
    },
    "papermill": {
     "duration": 0.043155,
     "end_time": "2021-10-01T12:11:57.858328",
     "exception": false,
     "start_time": "2021-10-01T12:11:57.815173",
     "status": "completed"
    },
    "tags": []
   },
   "outputs": [],
   "source": [
    "#hide\n",
    "\n",
    "# FETCH\n",
    "base_url = 'https://raw.githubusercontent.com/pratapvardhan/notebooks/master/covid19/'\n",
    "paths = {\n",
    "    'mapping': base_url + 'mapping_countries.csv',\n",
    "    'overview': base_url + 'overview.tpl'\n",
    "}"
   ]
  },
  {
   "cell_type": "code",
   "execution_count": 3,
   "id": "dynamic-saver",
   "metadata": {
    "execution": {
     "iopub.execute_input": "2021-10-01T12:11:57.936041Z",
     "iopub.status.busy": "2021-10-01T12:11:57.934019Z",
     "iopub.status.idle": "2021-10-01T12:11:57.939052Z",
     "shell.execute_reply": "2021-10-01T12:11:57.939579Z"
    },
    "papermill": {
     "duration": 0.04664,
     "end_time": "2021-10-01T12:11:57.939721",
     "exception": false,
     "start_time": "2021-10-01T12:11:57.893081",
     "status": "completed"
    },
    "tags": []
   },
   "outputs": [
    {
     "data": {
      "text/plain": [
       "'https://raw.githubusercontent.com/pratapvardhan/notebooks/master/covid19/mapping_countries.csv'"
      ]
     },
     "execution_count": 3,
     "metadata": {},
     "output_type": "execute_result"
    }
   ],
   "source": [
    "#hide\n",
    "paths['mapping']"
   ]
  },
  {
   "cell_type": "code",
   "execution_count": 4,
   "id": "urban-software",
   "metadata": {
    "execution": {
     "iopub.execute_input": "2021-10-01T12:11:58.018751Z",
     "iopub.status.busy": "2021-10-01T12:11:58.017960Z",
     "iopub.status.idle": "2021-10-01T12:11:58.020344Z",
     "shell.execute_reply": "2021-10-01T12:11:58.019855Z"
    },
    "papermill": {
     "duration": 0.044456,
     "end_time": "2021-10-01T12:11:58.020487",
     "exception": false,
     "start_time": "2021-10-01T12:11:57.976031",
     "status": "completed"
    },
    "tags": []
   },
   "outputs": [],
   "source": [
    "#hide\n",
    "def get_mappings(url):\n",
    "    df = pd.read_csv(url)\n",
    "    return {\n",
    "        'df': df,\n",
    "        'replace.country': dict(df.dropna(subset=['Name']).set_index('Country')['Name']),\n",
    "        'map.continent': dict(df.set_index('Name')['Continent'])\n",
    "    }"
   ]
  },
  {
   "cell_type": "code",
   "execution_count": 5,
   "id": "intimate-machinery",
   "metadata": {
    "execution": {
     "iopub.execute_input": "2021-10-01T12:11:58.091423Z",
     "iopub.status.busy": "2021-10-01T12:11:58.090843Z",
     "iopub.status.idle": "2021-10-01T12:11:58.132187Z",
     "shell.execute_reply": "2021-10-01T12:11:58.132824Z"
    },
    "papermill": {
     "duration": 0.079738,
     "end_time": "2021-10-01T12:11:58.132998",
     "exception": false,
     "start_time": "2021-10-01T12:11:58.053260",
     "status": "completed"
    },
    "tags": []
   },
   "outputs": [],
   "source": [
    "#hide\n",
    "mapping = get_mappings(paths['mapping'])"
   ]
  },
  {
   "cell_type": "code",
   "execution_count": 6,
   "id": "certified-tactics",
   "metadata": {
    "execution": {
     "iopub.execute_input": "2021-10-01T12:11:58.204082Z",
     "iopub.status.busy": "2021-10-01T12:11:58.203517Z",
     "iopub.status.idle": "2021-10-01T12:11:58.205795Z",
     "shell.execute_reply": "2021-10-01T12:11:58.206323Z"
    },
    "papermill": {
     "duration": 0.040164,
     "end_time": "2021-10-01T12:11:58.206459",
     "exception": false,
     "start_time": "2021-10-01T12:11:58.166295",
     "status": "completed"
    },
    "tags": []
   },
   "outputs": [],
   "source": [
    "#hide\n",
    "def get_template(path):\n",
    "    from urllib.parse import urlparse\n",
    "    if bool(urlparse(path).netloc):\n",
    "        from urllib.request import urlopen\n",
    "        return urlopen(path).read().decode('utf8')\n",
    "    return open(path).read()"
   ]
  },
  {
   "cell_type": "code",
   "execution_count": 7,
   "id": "realistic-blast",
   "metadata": {
    "execution": {
     "iopub.execute_input": "2021-10-01T12:11:58.284756Z",
     "iopub.status.busy": "2021-10-01T12:11:58.284086Z",
     "iopub.status.idle": "2021-10-01T12:11:58.286431Z",
     "shell.execute_reply": "2021-10-01T12:11:58.285995Z"
    },
    "papermill": {
     "duration": 0.042422,
     "end_time": "2021-10-01T12:11:58.286558",
     "exception": false,
     "start_time": "2021-10-01T12:11:58.244136",
     "status": "completed"
    },
    "tags": []
   },
   "outputs": [],
   "source": [
    "#hide\n",
    "def get_frame(name):\n",
    "    url = (\n",
    "        'https://raw.githubusercontent.com/CSSEGISandData/COVID-19/master/csse_covid_19_data/'\n",
    "        f'csse_covid_19_time_series/time_series_covid19_{name}_global.csv')\n",
    "    df = pd.read_csv(url)\n",
    "    # rename countries\n",
    "    df['Country/Region'] = df['Country/Region'].replace(mapping['replace.country'])\n",
    "    return df"
   ]
  },
  {
   "cell_type": "code",
   "execution_count": 8,
   "id": "affiliated-characterization",
   "metadata": {
    "execution": {
     "iopub.execute_input": "2021-10-01T12:11:58.360473Z",
     "iopub.status.busy": "2021-10-01T12:11:58.359863Z",
     "iopub.status.idle": "2021-10-01T12:11:58.362321Z",
     "shell.execute_reply": "2021-10-01T12:11:58.362852Z"
    },
    "papermill": {
     "duration": 0.042694,
     "end_time": "2021-10-01T12:11:58.363039",
     "exception": false,
     "start_time": "2021-10-01T12:11:58.320345",
     "status": "completed"
    },
    "tags": []
   },
   "outputs": [],
   "source": [
    "#hide\n",
    "def get_dates(df):\n",
    "    dt_cols = df.columns[~df.columns.isin(['Province/State', 'Country/Region', 'Lat', 'Long'])]\n",
    "    LAST_DATE_I = -1\n",
    "    # sometimes last column may be empty, then go backwards\n",
    "    for i in range(-1, -len(dt_cols), -1):\n",
    "        if not df[dt_cols[i]].fillna(0).eq(0).all():\n",
    "            LAST_DATE_I = i\n",
    "            break\n",
    "    return LAST_DATE_I, dt_cols"
   ]
  },
  {
   "cell_type": "code",
   "execution_count": 9,
   "id": "recent-optimization",
   "metadata": {
    "execution": {
     "iopub.execute_input": "2021-10-01T12:11:58.436770Z",
     "iopub.status.busy": "2021-10-01T12:11:58.436020Z",
     "iopub.status.idle": "2021-10-01T12:11:58.838679Z",
     "shell.execute_reply": "2021-10-01T12:11:58.838170Z"
    },
    "papermill": {
     "duration": 0.440966,
     "end_time": "2021-10-01T12:11:58.838812",
     "exception": false,
     "start_time": "2021-10-01T12:11:58.397846",
     "status": "completed"
    },
    "tags": []
   },
   "outputs": [],
   "source": [
    "#hide\n",
    "COL_REGION = 'Country/Region'\n",
    "# Confirmed, Recovered, Deaths\n",
    "df = get_frame('confirmed')\n",
    "# dft_: timeseries, dfc_: today country agg\n",
    "dft_cases = df\n",
    "dft_deaths = get_frame('deaths')\n",
    "dft_recovered = get_frame('recovered')\n",
    "LAST_DATE_I, dt_cols = get_dates(df)"
   ]
  },
  {
   "cell_type": "code",
   "execution_count": 10,
   "id": "absolute-copper",
   "metadata": {
    "execution": {
     "iopub.execute_input": "2021-10-01T12:11:58.916960Z",
     "iopub.status.busy": "2021-10-01T12:11:58.916047Z",
     "iopub.status.idle": "2021-10-01T12:11:58.918810Z",
     "shell.execute_reply": "2021-10-01T12:11:58.918312Z"
    },
    "papermill": {
     "duration": 0.043515,
     "end_time": "2021-10-01T12:11:58.918953",
     "exception": false,
     "start_time": "2021-10-01T12:11:58.875438",
     "status": "completed"
    },
    "tags": []
   },
   "outputs": [],
   "source": [
    "#hide\n",
    "LAST_DATE_I, dt_cols = get_dates(df)\n",
    "dt_today =dt_cols[LAST_DATE_I]\n",
    "# dt_5day = dt_cols[LAST_DATE_I - 5]\n",
    "dt_yday = dt_cols[LAST_DATE_I - 1]"
   ]
  },
  {
   "cell_type": "code",
   "execution_count": 11,
   "id": "restricted-sheriff",
   "metadata": {
    "execution": {
     "iopub.execute_input": "2021-10-01T12:11:58.995023Z",
     "iopub.status.busy": "2021-10-01T12:11:58.994445Z",
     "iopub.status.idle": "2021-10-01T12:11:59.004344Z",
     "shell.execute_reply": "2021-10-01T12:11:59.003833Z"
    },
    "papermill": {
     "duration": 0.051611,
     "end_time": "2021-10-01T12:11:59.004544",
     "exception": false,
     "start_time": "2021-10-01T12:11:58.952933",
     "status": "completed"
    },
    "tags": []
   },
   "outputs": [],
   "source": [
    "#hide\n",
    "dfc_cases = dft_cases.groupby(COL_REGION)[dt_today].sum()\n",
    "dfc_deaths = dft_deaths.groupby(COL_REGION)[dt_today].sum()\n",
    "# dfp_cases = dft_cases.groupby(COL_REGION)[dt_5day].sum()\n",
    "# dfp_deaths = dft_deaths.groupby(COL_REGION)[dt_5day].sum()\n",
    "dfp_cases = dft_cases.groupby(COL_REGION)[dt_yday].sum()\n",
    "dfp_deaths = dft_deaths.groupby(COL_REGION)[dt_yday].sum()"
   ]
  },
  {
   "cell_type": "code",
   "execution_count": 12,
   "id": "deluxe-hepatitis",
   "metadata": {
    "execution": {
     "iopub.execute_input": "2021-10-01T12:11:59.080829Z",
     "iopub.status.busy": "2021-10-01T12:11:59.080169Z",
     "iopub.status.idle": "2021-10-01T12:11:59.085324Z",
     "shell.execute_reply": "2021-10-01T12:11:59.085866Z"
    },
    "papermill": {
     "duration": 0.046327,
     "end_time": "2021-10-01T12:11:59.085981",
     "exception": false,
     "start_time": "2021-10-01T12:11:59.039654",
     "status": "completed"
    },
    "tags": []
   },
   "outputs": [],
   "source": [
    "#hide\n",
    "df_table = (pd.DataFrame(dict(Cases = dfc_cases, Deaths = dfc_deaths, PCases = dfp_cases, PDeaths = dfp_deaths))\n",
    "            .sort_values(by = ['Cases','Deaths'], ascending = [False, False])\n",
    "            .reset_index())"
   ]
  },
  {
   "cell_type": "code",
   "execution_count": 13,
   "id": "educational-chancellor",
   "metadata": {
    "execution": {
     "iopub.execute_input": "2021-10-01T12:11:59.174172Z",
     "iopub.status.busy": "2021-10-01T12:11:59.173623Z",
     "iopub.status.idle": "2021-10-01T12:11:59.182801Z",
     "shell.execute_reply": "2021-10-01T12:11:59.183319Z"
    },
    "papermill": {
     "duration": 0.062515,
     "end_time": "2021-10-01T12:11:59.183456",
     "exception": false,
     "start_time": "2021-10-01T12:11:59.120941",
     "status": "completed"
    },
    "tags": []
   },
   "outputs": [
    {
     "data": {
      "text/html": [
       "<div>\n",
       "<style scoped>\n",
       "    .dataframe tbody tr th:only-of-type {\n",
       "        vertical-align: middle;\n",
       "    }\n",
       "\n",
       "    .dataframe tbody tr th {\n",
       "        vertical-align: top;\n",
       "    }\n",
       "\n",
       "    .dataframe thead th {\n",
       "        text-align: right;\n",
       "    }\n",
       "</style>\n",
       "<table border=\"1\" class=\"dataframe\">\n",
       "  <thead>\n",
       "    <tr style=\"text-align: right;\">\n",
       "      <th></th>\n",
       "      <th>Country/Region</th>\n",
       "      <th>Cases</th>\n",
       "      <th>Deaths</th>\n",
       "      <th>PCases</th>\n",
       "      <th>PDeaths</th>\n",
       "      <th>Cases (+)</th>\n",
       "      <th>Deaths (+)</th>\n",
       "      <th>Fatality Rate</th>\n",
       "      <th>Continent</th>\n",
       "    </tr>\n",
       "  </thead>\n",
       "  <tbody>\n",
       "    <tr>\n",
       "      <th>0</th>\n",
       "      <td>US</td>\n",
       "      <td>43459809</td>\n",
       "      <td>697842</td>\n",
       "      <td>43349749</td>\n",
       "      <td>695124</td>\n",
       "      <td>110060</td>\n",
       "      <td>2718</td>\n",
       "      <td>1.61</td>\n",
       "      <td>North America</td>\n",
       "    </tr>\n",
       "    <tr>\n",
       "      <th>1</th>\n",
       "      <td>India</td>\n",
       "      <td>33766707</td>\n",
       "      <td>448339</td>\n",
       "      <td>33739980</td>\n",
       "      <td>448062</td>\n",
       "      <td>26727</td>\n",
       "      <td>277</td>\n",
       "      <td>1.33</td>\n",
       "      <td>Asia</td>\n",
       "    </tr>\n",
       "    <tr>\n",
       "      <th>2</th>\n",
       "      <td>Brazil</td>\n",
       "      <td>21427073</td>\n",
       "      <td>596749</td>\n",
       "      <td>21399546</td>\n",
       "      <td>596122</td>\n",
       "      <td>27527</td>\n",
       "      <td>627</td>\n",
       "      <td>2.79</td>\n",
       "      <td>South America</td>\n",
       "    </tr>\n",
       "    <tr>\n",
       "      <th>3</th>\n",
       "      <td>United Kingdom</td>\n",
       "      <td>7843887</td>\n",
       "      <td>137043</td>\n",
       "      <td>7808054</td>\n",
       "      <td>136906</td>\n",
       "      <td>35833</td>\n",
       "      <td>137</td>\n",
       "      <td>1.75</td>\n",
       "      <td>Europe</td>\n",
       "    </tr>\n",
       "    <tr>\n",
       "      <th>4</th>\n",
       "      <td>Russia</td>\n",
       "      <td>7401104</td>\n",
       "      <td>203549</td>\n",
       "      <td>7377774</td>\n",
       "      <td>202700</td>\n",
       "      <td>23330</td>\n",
       "      <td>849</td>\n",
       "      <td>2.75</td>\n",
       "      <td>Europe</td>\n",
       "    </tr>\n",
       "  </tbody>\n",
       "</table>\n",
       "</div>"
      ],
      "text/plain": [
       "   Country/Region     Cases  Deaths    PCases  PDeaths  Cases (+)  Deaths (+)  \\\n",
       "0              US  43459809  697842  43349749   695124     110060        2718   \n",
       "1           India  33766707  448339  33739980   448062      26727         277   \n",
       "2          Brazil  21427073  596749  21399546   596122      27527         627   \n",
       "3  United Kingdom   7843887  137043   7808054   136906      35833         137   \n",
       "4          Russia   7401104  203549   7377774   202700      23330         849   \n",
       "\n",
       "   Fatality Rate      Continent  \n",
       "0           1.61  North America  \n",
       "1           1.33           Asia  \n",
       "2           2.79  South America  \n",
       "3           1.75         Europe  \n",
       "4           2.75         Europe  "
      ]
     },
     "execution_count": 13,
     "metadata": {},
     "output_type": "execute_result"
    }
   ],
   "source": [
    "#hide\n",
    "for c in 'Cases, Deaths'.split(', '):\n",
    "    df_table[f'{c} (+)'] = (df_table[c] - df_table[f'P{c}']).clip(0)\n",
    "    #Clip ça veut dire, les chiffres negatif sont interdit\n",
    "df_table['Fatality Rate'] = (100* df_table['Deaths']/ df_table['Cases']).round(2)\n",
    "df_table['Continent'] = df_table['Country/Region'].map(mapping['map.continent'])\n",
    "df_table.head(5)"
   ]
  },
  {
   "cell_type": "code",
   "execution_count": 14,
   "id": "aboriginal-bulgaria",
   "metadata": {
    "execution": {
     "iopub.execute_input": "2021-10-01T12:11:59.253813Z",
     "iopub.status.busy": "2021-10-01T12:11:59.253185Z",
     "iopub.status.idle": "2021-10-01T12:11:59.256938Z",
     "shell.execute_reply": "2021-10-01T12:11:59.256349Z"
    },
    "papermill": {
     "duration": 0.040484,
     "end_time": "2021-10-01T12:11:59.257098",
     "exception": false,
     "start_time": "2021-10-01T12:11:59.216614",
     "status": "completed"
    },
    "tags": []
   },
   "outputs": [],
   "source": [
    "#hide\n",
    "#delete problematic countries from table\n",
    "df_table = df_table[~df_table['Country/Region'].isin(['Cape Verde', 'Cruise Ship', 'Kosovo'])]"
   ]
  },
  {
   "cell_type": "code",
   "execution_count": 15,
   "id": "fantastic-effect",
   "metadata": {
    "execution": {
     "iopub.execute_input": "2021-10-01T12:11:59.335800Z",
     "iopub.status.busy": "2021-10-01T12:11:59.335182Z",
     "iopub.status.idle": "2021-10-01T12:11:59.357763Z",
     "shell.execute_reply": "2021-10-01T12:11:59.357296Z"
    },
    "papermill": {
     "duration": 0.064221,
     "end_time": "2021-10-01T12:11:59.357864",
     "exception": false,
     "start_time": "2021-10-01T12:11:59.293643",
     "status": "completed"
    },
    "tags": []
   },
   "outputs": [
    {
     "data": {
      "text/html": [
       "<div>\n",
       "<style scoped>\n",
       "    .dataframe tbody tr th:only-of-type {\n",
       "        vertical-align: middle;\n",
       "    }\n",
       "\n",
       "    .dataframe tbody tr th {\n",
       "        vertical-align: top;\n",
       "    }\n",
       "\n",
       "    .dataframe thead th {\n",
       "        text-align: right;\n",
       "    }\n",
       "</style>\n",
       "<table border=\"1\" class=\"dataframe\">\n",
       "  <thead>\n",
       "    <tr style=\"text-align: right;\">\n",
       "      <th></th>\n",
       "      <th>Country/Region</th>\n",
       "      <th>Cases</th>\n",
       "      <th>Deaths</th>\n",
       "      <th>PCases</th>\n",
       "      <th>PDeaths</th>\n",
       "      <th>Cases (+)</th>\n",
       "      <th>Deaths (+)</th>\n",
       "      <th>Fatality Rate</th>\n",
       "      <th>Continent</th>\n",
       "    </tr>\n",
       "  </thead>\n",
       "  <tbody>\n",
       "    <tr>\n",
       "      <th>0</th>\n",
       "      <td>US</td>\n",
       "      <td>43459809</td>\n",
       "      <td>697842</td>\n",
       "      <td>43349749</td>\n",
       "      <td>695124</td>\n",
       "      <td>110060</td>\n",
       "      <td>2718</td>\n",
       "      <td>1.6</td>\n",
       "      <td>North America</td>\n",
       "    </tr>\n",
       "    <tr>\n",
       "      <th>1</th>\n",
       "      <td>India</td>\n",
       "      <td>33766707</td>\n",
       "      <td>448339</td>\n",
       "      <td>33739980</td>\n",
       "      <td>448062</td>\n",
       "      <td>26727</td>\n",
       "      <td>277</td>\n",
       "      <td>1.3</td>\n",
       "      <td>Asia</td>\n",
       "    </tr>\n",
       "    <tr>\n",
       "      <th>2</th>\n",
       "      <td>Brazil</td>\n",
       "      <td>21427073</td>\n",
       "      <td>596749</td>\n",
       "      <td>21399546</td>\n",
       "      <td>596122</td>\n",
       "      <td>27527</td>\n",
       "      <td>627</td>\n",
       "      <td>2.8</td>\n",
       "      <td>South America</td>\n",
       "    </tr>\n",
       "    <tr>\n",
       "      <th>3</th>\n",
       "      <td>United Kingdom</td>\n",
       "      <td>7843887</td>\n",
       "      <td>137043</td>\n",
       "      <td>7808054</td>\n",
       "      <td>136906</td>\n",
       "      <td>35833</td>\n",
       "      <td>137</td>\n",
       "      <td>1.7</td>\n",
       "      <td>Europe</td>\n",
       "    </tr>\n",
       "    <tr>\n",
       "      <th>4</th>\n",
       "      <td>Russia</td>\n",
       "      <td>7401104</td>\n",
       "      <td>203549</td>\n",
       "      <td>7377774</td>\n",
       "      <td>202700</td>\n",
       "      <td>23330</td>\n",
       "      <td>849</td>\n",
       "      <td>2.8</td>\n",
       "      <td>Europe</td>\n",
       "    </tr>\n",
       "  </tbody>\n",
       "</table>\n",
       "</div>"
      ],
      "text/plain": [
       "   Country/Region     Cases  Deaths    PCases  PDeaths  Cases (+)  Deaths (+)  \\\n",
       "0              US  43459809  697842  43349749   695124     110060        2718   \n",
       "1           India  33766707  448339  33739980   448062      26727         277   \n",
       "2          Brazil  21427073  596749  21399546   596122      27527         627   \n",
       "3  United Kingdom   7843887  137043   7808054   136906      35833         137   \n",
       "4          Russia   7401104  203549   7377774   202700      23330         849   \n",
       "\n",
       "   Fatality Rate      Continent  \n",
       "0            1.6  North America  \n",
       "1            1.3           Asia  \n",
       "2            2.8  South America  \n",
       "3            1.7         Europe  \n",
       "4            2.8         Europe  "
      ]
     },
     "execution_count": 15,
     "metadata": {},
     "output_type": "execute_result"
    }
   ],
   "source": [
    "#hide\n",
    "df_table = (pd.DataFrame(dict(Cases=dfc_cases, Deaths=dfc_deaths, PCases=dfp_cases, PDeaths=dfp_deaths))\n",
    "             .sort_values(by=['Cases', 'Deaths'], ascending=[False, False])\n",
    "             .reset_index())\n",
    "df_table.rename(columns={'index': 'Country/Region'}, inplace=True)\n",
    "for c in 'Cases, Deaths'.split(', '):\n",
    "    df_table[f'{c} (+)'] = (df_table[c] - df_table[f'P{c}']).clip(0)  # DATA BUG\n",
    "df_table['Fatality Rate'] = (100 * df_table['Deaths'] / df_table['Cases']).round(1)\n",
    "df_table['Continent'] = df_table['Country/Region'].map(mapping['map.continent'])\n",
    "df_table.head(5)"
   ]
  },
  {
   "cell_type": "code",
   "execution_count": 16,
   "id": "fewer-occasion",
   "metadata": {
    "execution": {
     "iopub.execute_input": "2021-10-01T12:11:59.434622Z",
     "iopub.status.busy": "2021-10-01T12:11:59.433904Z",
     "iopub.status.idle": "2021-10-01T12:11:59.437469Z",
     "shell.execute_reply": "2021-10-01T12:11:59.436937Z"
    },
    "papermill": {
     "duration": 0.045595,
     "end_time": "2021-10-01T12:11:59.437587",
     "exception": false,
     "start_time": "2021-10-01T12:11:59.391992",
     "status": "completed"
    },
    "tags": []
   },
   "outputs": [],
   "source": [
    "#hide\n",
    "#delete problematic countries from table\n",
    "df_table = df_table[~df_table['Country/Region'].isin(['Cape Verde', 'Cruise Ship', 'Kosovo'])]"
   ]
  },
  {
   "cell_type": "code",
   "execution_count": 17,
   "id": "related-center",
   "metadata": {
    "execution": {
     "iopub.execute_input": "2021-10-01T12:11:59.533538Z",
     "iopub.status.busy": "2021-10-01T12:11:59.532939Z",
     "iopub.status.idle": "2021-10-01T12:11:59.535790Z",
     "shell.execute_reply": "2021-10-01T12:11:59.535325Z"
    },
    "papermill": {
     "duration": 0.061221,
     "end_time": "2021-10-01T12:11:59.535908",
     "exception": false,
     "start_time": "2021-10-01T12:11:59.474687",
     "status": "completed"
    },
    "tags": []
   },
   "outputs": [],
   "source": [
    "#hide\n",
    "metrics = [df_table.columns[index] for index in [1,2,5,6]]\n",
    "# s_china = df_table[df_table['Country/Region'].eq('China')][metrics].sum().add_prefix('China ')\n",
    "s_us = df_table[df_table['Country/Region'].eq('US')][metrics].sum().add_prefix('US ')\n",
    "s_eu = df_table[df_table['Continent'].eq('Europe')][metrics].sum().add_prefix('EU ')\n",
    "s_ind = df_table[df_table['Country/Region'].eq('India')][metrics].sum().add_prefix('India ')\n",
    "summary = {'updated': pd.to_datetime(dt_today), 'since': pd.to_datetime(dt_yday)}\n",
    "summary = {'updated': pd.to_datetime(dt_today), 'since': pd.to_datetime(dt_yday)}\n",
    "summary = {**summary, **df_table[metrics].sum(), **s_ind, **s_us, **s_eu}"
   ]
  },
  {
   "cell_type": "code",
   "execution_count": 18,
   "id": "engaging-syndrome",
   "metadata": {
    "execution": {
     "iopub.execute_input": "2021-10-01T12:11:59.610952Z",
     "iopub.status.busy": "2021-10-01T12:11:59.610329Z",
     "iopub.status.idle": "2021-10-01T12:11:59.625226Z",
     "shell.execute_reply": "2021-10-01T12:11:59.625754Z"
    },
    "papermill": {
     "duration": 0.055289,
     "end_time": "2021-10-01T12:11:59.625883",
     "exception": false,
     "start_time": "2021-10-01T12:11:59.570594",
     "status": "completed"
    },
    "tags": []
   },
   "outputs": [],
   "source": [
    "#hide\n",
    "dft_ct_new_cases = dft_cases.groupby(COL_REGION)[dt_cols].sum().diff(axis=1).fillna(0).astype(int)"
   ]
  },
  {
   "cell_type": "code",
   "execution_count": 19,
   "id": "neutral-assignment",
   "metadata": {
    "execution": {
     "iopub.execute_input": "2021-10-01T12:11:59.698177Z",
     "iopub.status.busy": "2021-10-01T12:11:59.697437Z",
     "iopub.status.idle": "2021-10-01T12:11:59.699930Z",
     "shell.execute_reply": "2021-10-01T12:11:59.700588Z"
    },
    "papermill": {
     "duration": 0.041496,
     "end_time": "2021-10-01T12:11:59.700741",
     "exception": false,
     "start_time": "2021-10-01T12:11:59.659245",
     "status": "completed"
    },
    "tags": []
   },
   "outputs": [],
   "source": [
    "#hide\n",
    "everydaycases = dft_ct_new_cases.cumsum(axis=1)"
   ]
  },
  {
   "cell_type": "code",
   "execution_count": 20,
   "id": "parliamentary-calgary",
   "metadata": {
    "execution": {
     "iopub.execute_input": "2021-10-01T12:11:59.774823Z",
     "iopub.status.busy": "2021-10-01T12:11:59.774204Z",
     "iopub.status.idle": "2021-10-01T12:12:00.385001Z",
     "shell.execute_reply": "2021-10-01T12:12:00.384462Z"
    },
    "papermill": {
     "duration": 0.649375,
     "end_time": "2021-10-01T12:12:00.385173",
     "exception": false,
     "start_time": "2021-10-01T12:11:59.735798",
     "status": "completed"
    },
    "tags": []
   },
   "outputs": [],
   "source": [
    "#hide\n",
    "import pandas as pd\n",
    "import matplotlib.pyplot as plt\n",
    "import matplotlib.ticker as ticker\n",
    "import matplotlib.animation as animation\n",
    "from IPython.display import HTML"
   ]
  },
  {
   "cell_type": "code",
   "execution_count": 21,
   "id": "lasting-extraction",
   "metadata": {
    "execution": {
     "iopub.execute_input": "2021-10-01T12:12:00.464096Z",
     "iopub.status.busy": "2021-10-01T12:12:00.463461Z",
     "iopub.status.idle": "2021-10-01T12:12:00.469331Z",
     "shell.execute_reply": "2021-10-01T12:12:00.469785Z"
    },
    "papermill": {
     "duration": 0.047043,
     "end_time": "2021-10-01T12:12:00.469951",
     "exception": false,
     "start_time": "2021-10-01T12:12:00.422908",
     "status": "completed"
    },
    "tags": []
   },
   "outputs": [],
   "source": [
    "#hide\n",
    "t = everydaycases.stack()"
   ]
  },
  {
   "cell_type": "code",
   "execution_count": 22,
   "id": "premier-sleeve",
   "metadata": {
    "execution": {
     "iopub.execute_input": "2021-10-01T12:12:00.546566Z",
     "iopub.status.busy": "2021-10-01T12:12:00.545857Z",
     "iopub.status.idle": "2021-10-01T12:12:00.554954Z",
     "shell.execute_reply": "2021-10-01T12:12:00.555505Z"
    },
    "papermill": {
     "duration": 0.048139,
     "end_time": "2021-10-01T12:12:00.555619",
     "exception": false,
     "start_time": "2021-10-01T12:12:00.507480",
     "status": "completed"
    },
    "tags": []
   },
   "outputs": [],
   "source": [
    "#hide\n",
    "g = t.reset_index(['Country/Region'])"
   ]
  },
  {
   "cell_type": "code",
   "execution_count": 23,
   "id": "distributed-pittsburgh",
   "metadata": {
    "execution": {
     "iopub.execute_input": "2021-10-01T12:12:00.629036Z",
     "iopub.status.busy": "2021-10-01T12:12:00.628465Z",
     "iopub.status.idle": "2021-10-01T12:12:00.630863Z",
     "shell.execute_reply": "2021-10-01T12:12:00.630403Z"
    },
    "papermill": {
     "duration": 0.040785,
     "end_time": "2021-10-01T12:12:00.630959",
     "exception": false,
     "start_time": "2021-10-01T12:12:00.590174",
     "status": "completed"
    },
    "tags": []
   },
   "outputs": [],
   "source": [
    "#hide\n",
    "g.index.name = 'date'"
   ]
  },
  {
   "cell_type": "code",
   "execution_count": 24,
   "id": "naked-donor",
   "metadata": {
    "execution": {
     "iopub.execute_input": "2021-10-01T12:12:00.701445Z",
     "iopub.status.busy": "2021-10-01T12:12:00.700871Z",
     "iopub.status.idle": "2021-10-01T12:12:00.703590Z",
     "shell.execute_reply": "2021-10-01T12:12:00.703118Z"
    },
    "papermill": {
     "duration": 0.038802,
     "end_time": "2021-10-01T12:12:00.703709",
     "exception": false,
     "start_time": "2021-10-01T12:12:00.664907",
     "status": "completed"
    },
    "tags": []
   },
   "outputs": [],
   "source": [
    "# #hide\n",
    "# g = g.reset_index(['date'])"
   ]
  },
  {
   "cell_type": "code",
   "execution_count": 25,
   "id": "incomplete-mustang",
   "metadata": {
    "execution": {
     "iopub.execute_input": "2021-10-01T12:12:00.774623Z",
     "iopub.status.busy": "2021-10-01T12:12:00.773985Z",
     "iopub.status.idle": "2021-10-01T12:12:00.776053Z",
     "shell.execute_reply": "2021-10-01T12:12:00.776750Z"
    },
    "papermill": {
     "duration": 0.039444,
     "end_time": "2021-10-01T12:12:00.776861",
     "exception": false,
     "start_time": "2021-10-01T12:12:00.737417",
     "status": "completed"
    },
    "tags": []
   },
   "outputs": [],
   "source": [
    "#hide\n",
    "# g.head()"
   ]
  },
  {
   "cell_type": "code",
   "execution_count": 26,
   "id": "specific-kruger",
   "metadata": {
    "execution": {
     "iopub.execute_input": "2021-10-01T12:12:00.849421Z",
     "iopub.status.busy": "2021-10-01T12:12:00.848865Z",
     "iopub.status.idle": "2021-10-01T12:12:00.850702Z",
     "shell.execute_reply": "2021-10-01T12:12:00.851253Z"
    },
    "papermill": {
     "duration": 0.041409,
     "end_time": "2021-10-01T12:12:00.851363",
     "exception": false,
     "start_time": "2021-10-01T12:12:00.809954",
     "status": "completed"
    },
    "tags": []
   },
   "outputs": [],
   "source": [
    "#hide\n",
    "# g.columns = ['date','country','cases']"
   ]
  },
  {
   "cell_type": "code",
   "execution_count": 27,
   "id": "tender-conversion",
   "metadata": {
    "execution": {
     "iopub.execute_input": "2021-10-01T12:12:00.925797Z",
     "iopub.status.busy": "2021-10-01T12:12:00.925197Z",
     "iopub.status.idle": "2021-10-01T12:12:00.927585Z",
     "shell.execute_reply": "2021-10-01T12:12:00.927120Z"
    },
    "papermill": {
     "duration": 0.040809,
     "end_time": "2021-10-01T12:12:00.927684",
     "exception": false,
     "start_time": "2021-10-01T12:12:00.886875",
     "status": "completed"
    },
    "tags": []
   },
   "outputs": [],
   "source": [
    "#hide\n",
    "# g['continent'] = g.country"
   ]
  },
  {
   "cell_type": "code",
   "execution_count": 28,
   "id": "substantial-wilderness",
   "metadata": {
    "execution": {
     "iopub.execute_input": "2021-10-01T12:12:00.999408Z",
     "iopub.status.busy": "2021-10-01T12:12:00.998822Z",
     "iopub.status.idle": "2021-10-01T12:12:01.001516Z",
     "shell.execute_reply": "2021-10-01T12:12:01.001037Z"
    },
    "papermill": {
     "duration": 0.040432,
     "end_time": "2021-10-01T12:12:01.001621",
     "exception": false,
     "start_time": "2021-10-01T12:12:00.961189",
     "status": "completed"
    },
    "tags": []
   },
   "outputs": [],
   "source": [
    "#hide\n",
    "# cols = list(g.columns.values)"
   ]
  },
  {
   "cell_type": "code",
   "execution_count": 29,
   "id": "solved-farming",
   "metadata": {
    "execution": {
     "iopub.execute_input": "2021-10-01T12:12:01.073736Z",
     "iopub.status.busy": "2021-10-01T12:12:01.073118Z",
     "iopub.status.idle": "2021-10-01T12:12:01.075147Z",
     "shell.execute_reply": "2021-10-01T12:12:01.075697Z"
    },
    "papermill": {
     "duration": 0.040936,
     "end_time": "2021-10-01T12:12:01.075948",
     "exception": false,
     "start_time": "2021-10-01T12:12:01.035012",
     "status": "completed"
    },
    "tags": []
   },
   "outputs": [],
   "source": [
    "#hide\n",
    "# cols.insert(0, cols.pop())"
   ]
  },
  {
   "cell_type": "code",
   "execution_count": 30,
   "id": "executed-adoption",
   "metadata": {
    "execution": {
     "iopub.execute_input": "2021-10-01T12:12:01.160961Z",
     "iopub.status.busy": "2021-10-01T12:12:01.160156Z",
     "iopub.status.idle": "2021-10-01T12:12:01.162642Z",
     "shell.execute_reply": "2021-10-01T12:12:01.162052Z"
    },
    "papermill": {
     "duration": 0.051402,
     "end_time": "2021-10-01T12:12:01.162757",
     "exception": false,
     "start_time": "2021-10-01T12:12:01.111355",
     "status": "completed"
    },
    "tags": []
   },
   "outputs": [],
   "source": [
    "#hide\n",
    "# g = g[cols]"
   ]
  },
  {
   "cell_type": "code",
   "execution_count": 31,
   "id": "subject-dublin",
   "metadata": {
    "execution": {
     "iopub.execute_input": "2021-10-01T12:12:01.239170Z",
     "iopub.status.busy": "2021-10-01T12:12:01.238521Z",
     "iopub.status.idle": "2021-10-01T12:12:01.240412Z",
     "shell.execute_reply": "2021-10-01T12:12:01.240979Z"
    },
    "papermill": {
     "duration": 0.041173,
     "end_time": "2021-10-01T12:12:01.241097",
     "exception": false,
     "start_time": "2021-10-01T12:12:01.199924",
     "status": "completed"
    },
    "tags": []
   },
   "outputs": [],
   "source": [
    "#hide\n",
    "# g['continent'] = g['continent'].map(mapping['map.continent'])"
   ]
  },
  {
   "cell_type": "code",
   "execution_count": 32,
   "id": "freelance-scout",
   "metadata": {
    "execution": {
     "iopub.execute_input": "2021-10-01T12:12:01.314828Z",
     "iopub.status.busy": "2021-10-01T12:12:01.314204Z",
     "iopub.status.idle": "2021-10-01T12:12:01.316286Z",
     "shell.execute_reply": "2021-10-01T12:12:01.316953Z"
    },
    "papermill": {
     "duration": 0.041121,
     "end_time": "2021-10-01T12:12:01.317096",
     "exception": false,
     "start_time": "2021-10-01T12:12:01.275975",
     "status": "completed"
    },
    "tags": []
   },
   "outputs": [],
   "source": [
    "#hide\n",
    "# g.head()"
   ]
  },
  {
   "cell_type": "code",
   "execution_count": 33,
   "id": "limited-engine",
   "metadata": {
    "execution": {
     "iopub.execute_input": "2021-10-01T12:12:01.391842Z",
     "iopub.status.busy": "2021-10-01T12:12:01.391239Z",
     "iopub.status.idle": "2021-10-01T12:12:01.393318Z",
     "shell.execute_reply": "2021-10-01T12:12:01.393781Z"
    },
    "papermill": {
     "duration": 0.041341,
     "end_time": "2021-10-01T12:12:01.393917",
     "exception": false,
     "start_time": "2021-10-01T12:12:01.352576",
     "status": "completed"
    },
    "tags": []
   },
   "outputs": [],
   "source": [
    "# hide\n",
    "# g['date'] = g['date'].astype('datetime64[ns]')"
   ]
  },
  {
   "cell_type": "code",
   "execution_count": 34,
   "id": "sophisticated-supervisor",
   "metadata": {
    "execution": {
     "iopub.execute_input": "2021-10-01T12:12:01.470812Z",
     "iopub.status.busy": "2021-10-01T12:12:01.470211Z",
     "iopub.status.idle": "2021-10-01T12:12:01.472207Z",
     "shell.execute_reply": "2021-10-01T12:12:01.472856Z"
    },
    "papermill": {
     "duration": 0.042087,
     "end_time": "2021-10-01T12:12:01.472984",
     "exception": false,
     "start_time": "2021-10-01T12:12:01.430897",
     "status": "completed"
    },
    "tags": []
   },
   "outputs": [],
   "source": [
    "#hide\n",
    "# g['date'] = g.date.dt.dayofyear"
   ]
  },
  {
   "cell_type": "code",
   "execution_count": 35,
   "id": "inside-dubai",
   "metadata": {
    "execution": {
     "iopub.execute_input": "2021-10-01T12:12:01.547575Z",
     "iopub.status.busy": "2021-10-01T12:12:01.546911Z",
     "iopub.status.idle": "2021-10-01T12:12:01.549641Z",
     "shell.execute_reply": "2021-10-01T12:12:01.549117Z"
    },
    "papermill": {
     "duration": 0.040834,
     "end_time": "2021-10-01T12:12:01.549744",
     "exception": false,
     "start_time": "2021-10-01T12:12:01.508910",
     "status": "completed"
    },
    "tags": []
   },
   "outputs": [],
   "source": [
    "#hide\n",
    "# g = g.rename(columns= {'continent':'group','country':'name','cases':'value'})"
   ]
  },
  {
   "cell_type": "code",
   "execution_count": 36,
   "id": "fleet-motorcycle",
   "metadata": {
    "execution": {
     "iopub.execute_input": "2021-10-01T12:12:01.623584Z",
     "iopub.status.busy": "2021-10-01T12:12:01.622942Z",
     "iopub.status.idle": "2021-10-01T12:12:01.626191Z",
     "shell.execute_reply": "2021-10-01T12:12:01.626737Z"
    },
    "papermill": {
     "duration": 0.041332,
     "end_time": "2021-10-01T12:12:01.626887",
     "exception": false,
     "start_time": "2021-10-01T12:12:01.585555",
     "status": "completed"
    },
    "tags": []
   },
   "outputs": [],
   "source": [
    "#hide\n",
    "# cols = ['name','group','day','value']"
   ]
  },
  {
   "cell_type": "code",
   "execution_count": 37,
   "id": "continued-sleeping",
   "metadata": {
    "execution": {
     "iopub.execute_input": "2021-10-01T12:12:01.699529Z",
     "iopub.status.busy": "2021-10-01T12:12:01.698905Z",
     "iopub.status.idle": "2021-10-01T12:12:01.701752Z",
     "shell.execute_reply": "2021-10-01T12:12:01.701041Z"
    },
    "papermill": {
     "duration": 0.040169,
     "end_time": "2021-10-01T12:12:01.701935",
     "exception": false,
     "start_time": "2021-10-01T12:12:01.661766",
     "status": "completed"
    },
    "tags": []
   },
   "outputs": [],
   "source": [
    "#hide\n",
    "# g.rename(columns= {'date':'day'},inplace = True)"
   ]
  },
  {
   "cell_type": "code",
   "execution_count": 38,
   "id": "major-fight",
   "metadata": {
    "execution": {
     "iopub.execute_input": "2021-10-01T12:12:01.775377Z",
     "iopub.status.busy": "2021-10-01T12:12:01.774776Z",
     "iopub.status.idle": "2021-10-01T12:12:01.776735Z",
     "shell.execute_reply": "2021-10-01T12:12:01.777321Z"
    },
    "papermill": {
     "duration": 0.040848,
     "end_time": "2021-10-01T12:12:01.777435",
     "exception": false,
     "start_time": "2021-10-01T12:12:01.736587",
     "status": "completed"
    },
    "tags": []
   },
   "outputs": [],
   "source": [
    "#hide\n",
    "# g = g[cols]"
   ]
  },
  {
   "cell_type": "code",
   "execution_count": 39,
   "id": "structured-mobile",
   "metadata": {
    "execution": {
     "iopub.execute_input": "2021-10-01T12:12:01.851842Z",
     "iopub.status.busy": "2021-10-01T12:12:01.851173Z",
     "iopub.status.idle": "2021-10-01T12:12:01.853620Z",
     "shell.execute_reply": "2021-10-01T12:12:01.854188Z"
    },
    "papermill": {
     "duration": 0.043204,
     "end_time": "2021-10-01T12:12:01.854327",
     "exception": false,
     "start_time": "2021-10-01T12:12:01.811123",
     "status": "completed"
    },
    "tags": []
   },
   "outputs": [],
   "source": [
    "# #hide\n",
    "# g = g[g.group.notna()]"
   ]
  },
  {
   "cell_type": "code",
   "execution_count": 40,
   "id": "determined-closing",
   "metadata": {
    "execution": {
     "iopub.execute_input": "2021-10-01T12:12:01.931425Z",
     "iopub.status.busy": "2021-10-01T12:12:01.930684Z",
     "iopub.status.idle": "2021-10-01T12:12:01.933334Z",
     "shell.execute_reply": "2021-10-01T12:12:01.932844Z"
    },
    "papermill": {
     "duration": 0.042036,
     "end_time": "2021-10-01T12:12:01.933445",
     "exception": false,
     "start_time": "2021-10-01T12:12:01.891409",
     "status": "completed"
    },
    "tags": []
   },
   "outputs": [],
   "source": [
    "# #hide\n",
    "# colors = dict(zip(\n",
    "#     [\"Oceania\", \"Europe\", \"Asia\", \"South America\", \"Middle East\", \"North America\", \"Africa\"],\n",
    "#     [\"#adb0ff\", \"#ffb3ff\", \"#90d595\", \"#e48381\", \"#aafbff\", \"#f7bb5f\", \"#eafb50\"]\n",
    "# ))\n",
    "# group_lk = g.set_index('name')['group'].to_dict()"
   ]
  },
  {
   "cell_type": "code",
   "execution_count": null,
   "id": "gross-drinking",
   "metadata": {
    "papermill": {
     "duration": 0.036379,
     "end_time": "2021-10-01T12:12:02.005393",
     "exception": false,
     "start_time": "2021-10-01T12:12:01.969014",
     "status": "completed"
    },
    "tags": []
   },
   "outputs": [],
   "source": []
  },
  {
   "cell_type": "code",
   "execution_count": 41,
   "id": "subject-macintosh",
   "metadata": {
    "execution": {
     "iopub.execute_input": "2021-10-01T12:12:02.086468Z",
     "iopub.status.busy": "2021-10-01T12:12:02.085763Z",
     "iopub.status.idle": "2021-10-01T12:12:02.088444Z",
     "shell.execute_reply": "2021-10-01T12:12:02.089073Z"
    },
    "papermill": {
     "duration": 0.045945,
     "end_time": "2021-10-01T12:12:02.089203",
     "exception": false,
     "start_time": "2021-10-01T12:12:02.043258",
     "status": "completed"
    },
    "tags": []
   },
   "outputs": [],
   "source": [
    "# #hide\n",
    "# fig, ax = plt.subplots(figsize=(15, 8))\n",
    "\n",
    "# def draw_barchart(current_day):\n",
    "#     dff = g[g['day'].eq(current_day)].sort_values(by='value', ascending=True).tail(10)\n",
    "#     ax.clear()\n",
    "#     ax.barh(dff['name'], dff['value'], color=[colors[group_lk[x]] for x in dff['name']])\n",
    "#     dx = dff['value'].max() / 200\n",
    "    \n",
    "#     for i, (value, name) in enumerate(zip(dff['value'], dff['name'])):\n",
    "#         ax.text(value-dx, i,     name,           size=14, weight=600, ha='right', va='bottom')\n",
    "#         ax.text(value-dx, i-.25, group_lk[name], size=10, color='#444444', ha='right', va='baseline')\n",
    "#         ax.text(value+dx, i,     f'{value:,.0f}',  size=14, ha='left',  va='center')\n",
    "#     ax.text(1, 0.4, current_day, transform=ax.transAxes, color='#777777', size=46, ha='right', weight=800)\n",
    "#     ax.text(0, 1.06, 'Population (thousands)', transform=ax.transAxes, size=12, color='#777777')\n",
    "#     ax.xaxis.set_major_formatter(ticker.StrMethodFormatter('{x:,.0f}'))\n",
    "#     ax.xaxis.set_ticks_position('top')\n",
    "#     ax.tick_params(axis='x', colors='#777777', labelsize=12)\n",
    "#     ax.set_yticks([])\n",
    "#     ax.margins(0, 0.01)\n",
    "#     ax.grid(which='major', axis='x', linestyle='-')\n",
    "#     ax.set_axisbelow(True)\n",
    "    \n",
    "#     ax.text(0, 1.15, 'Coronavirus',\n",
    "#             transform=ax.transAxes, size=24, weight=600, ha='left', va='top')\n",
    "# #     ax.text(1, 0, 'by @pratapvardhan; credit @jburnmurdoch', transform=ax.transAxes, color='#777777', ha='right',\n",
    "# #             bbox=dict(facecolor='white', alpha=0.8, edgecolor='white'))\n",
    "#     plt.box(False)"
   ]
  },
  {
   "cell_type": "code",
   "execution_count": 42,
   "id": "sexual-wages",
   "metadata": {
    "execution": {
     "iopub.execute_input": "2021-10-01T12:12:02.173394Z",
     "iopub.status.busy": "2021-10-01T12:12:02.172670Z",
     "iopub.status.idle": "2021-10-01T12:12:02.175184Z",
     "shell.execute_reply": "2021-10-01T12:12:02.174586Z"
    },
    "papermill": {
     "duration": 0.045495,
     "end_time": "2021-10-01T12:12:02.175321",
     "exception": false,
     "start_time": "2021-10-01T12:12:02.129826",
     "status": "completed"
    },
    "tags": []
   },
   "outputs": [],
   "source": [
    "# #hide_input\n",
    "# fig, ax = plt.subplots(figsize=(15, 8))\n",
    "# animator = animation.FuncAnimation(fig, draw_barchart, frames=range(g.day.values.min(), g.day.values.max()))\n",
    "# HTML(animator.to_jshtml())\n",
    "# # or use animator.to_html5_video() or animator.save() "
   ]
  },
  {
   "cell_type": "code",
   "execution_count": null,
   "id": "australian-container",
   "metadata": {
    "papermill": {
     "duration": 0.036088,
     "end_time": "2021-10-01T12:12:02.247599",
     "exception": false,
     "start_time": "2021-10-01T12:12:02.211511",
     "status": "completed"
    },
    "tags": []
   },
   "outputs": [],
   "source": []
  },
  {
   "cell_type": "code",
   "execution_count": null,
   "id": "mediterranean-pontiac",
   "metadata": {
    "papermill": {
     "duration": 0.034391,
     "end_time": "2021-10-01T12:12:02.317111",
     "exception": false,
     "start_time": "2021-10-01T12:12:02.282720",
     "status": "completed"
    },
    "tags": []
   },
   "outputs": [],
   "source": []
  },
  {
   "cell_type": "code",
   "execution_count": null,
   "id": "aging-legislature",
   "metadata": {
    "papermill": {
     "duration": 0.033459,
     "end_time": "2021-10-01T12:12:02.385420",
     "exception": false,
     "start_time": "2021-10-01T12:12:02.351961",
     "status": "completed"
    },
    "tags": []
   },
   "outputs": [],
   "source": []
  }
 ],
 "metadata": {
  "kernelspec": {
   "display_name": "Python 3",
   "language": "python",
   "name": "python3"
  },
  "language_info": {
   "codemirror_mode": {
    "name": "ipython",
    "version": 3
   },
   "file_extension": ".py",
   "mimetype": "text/x-python",
   "name": "python",
   "nbconvert_exporter": "python",
   "pygments_lexer": "ipython3",
   "version": "3.6.15"
  },
  "papermill": {
   "duration": 6.487929,
   "end_time": "2021-10-01T12:12:02.728456",
   "environment_variables": {},
   "exception": null,
   "input_path": "2020-03-21-covid19exp.ipynb",
   "output_path": "2020-03-21-covid19exp.ipynb",
   "parameters": {},
   "start_time": "2021-10-01T12:11:56.240527",
   "version": "2.0.0"
  }
 },
 "nbformat": 4,
 "nbformat_minor": 5
}