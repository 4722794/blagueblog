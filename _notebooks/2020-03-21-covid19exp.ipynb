{
 "cells": [
  {
   "cell_type": "markdown",
   "id": "muslim-click",
   "metadata": {
    "papermill": {
     "duration": 0.036137,
     "end_time": "2022-09-01T00:43:08.847241",
     "exception": false,
     "start_time": "2022-09-01T00:43:08.811104",
     "status": "completed"
    },
    "tags": []
   },
   "source": [
    "# COVID-19 Case Race\n",
    "> A race chart to see rising cases around the world\n",
    "\n",
    "- author: Hargun Oberoi\n",
    "- image: images/covid-overview.png\n",
    "- hide: false\n",
    "- badges: false"
   ]
  },
  {
   "cell_type": "code",
   "execution_count": 1,
   "id": "proof-material",
   "metadata": {
    "execution": {
     "iopub.execute_input": "2022-09-01T00:43:08.917741Z",
     "iopub.status.busy": "2022-09-01T00:43:08.916545Z",
     "iopub.status.idle": "2022-09-01T00:43:09.234305Z",
     "shell.execute_reply": "2022-09-01T00:43:09.233324Z"
    },
    "papermill": {
     "duration": 0.357008,
     "end_time": "2022-09-01T00:43:09.234474",
     "exception": false,
     "start_time": "2022-09-01T00:43:08.877466",
     "status": "completed"
    },
    "tags": []
   },
   "outputs": [],
   "source": [
    "#hide\n",
    "import numpy as np\n",
    "import pandas as pd\n",
    "from jinja2 import Template\n",
    "from IPython.display import HTML"
   ]
  },
  {
   "cell_type": "code",
   "execution_count": 2,
   "id": "developed-terminology",
   "metadata": {
    "execution": {
     "iopub.execute_input": "2022-09-01T00:43:09.299378Z",
     "iopub.status.busy": "2022-09-01T00:43:09.298737Z",
     "iopub.status.idle": "2022-09-01T00:43:09.301952Z",
     "shell.execute_reply": "2022-09-01T00:43:09.301436Z"
    },
    "papermill": {
     "duration": 0.037567,
     "end_time": "2022-09-01T00:43:09.302079",
     "exception": false,
     "start_time": "2022-09-01T00:43:09.264512",
     "status": "completed"
    },
    "tags": []
   },
   "outputs": [],
   "source": [
    "#hide\n",
    "\n",
    "# FETCH\n",
    "base_url = 'https://raw.githubusercontent.com/pratapvardhan/notebooks/master/covid19/'\n",
    "paths = {\n",
    "    'mapping': base_url + 'mapping_countries.csv',\n",
    "    'overview': base_url + 'overview.tpl'\n",
    "}"
   ]
  },
  {
   "cell_type": "code",
   "execution_count": 3,
   "id": "dynamic-saver",
   "metadata": {
    "execution": {
     "iopub.execute_input": "2022-09-01T00:43:09.371615Z",
     "iopub.status.busy": "2022-09-01T00:43:09.370973Z",
     "iopub.status.idle": "2022-09-01T00:43:09.374513Z",
     "shell.execute_reply": "2022-09-01T00:43:09.374947Z"
    },
    "papermill": {
     "duration": 0.04385,
     "end_time": "2022-09-01T00:43:09.375090",
     "exception": false,
     "start_time": "2022-09-01T00:43:09.331240",
     "status": "completed"
    },
    "tags": []
   },
   "outputs": [
    {
     "data": {
      "text/plain": [
       "'https://raw.githubusercontent.com/pratapvardhan/notebooks/master/covid19/mapping_countries.csv'"
      ]
     },
     "execution_count": 3,
     "metadata": {},
     "output_type": "execute_result"
    }
   ],
   "source": [
    "#hide\n",
    "paths['mapping']"
   ]
  },
  {
   "cell_type": "code",
   "execution_count": 4,
   "id": "urban-software",
   "metadata": {
    "execution": {
     "iopub.execute_input": "2022-09-01T00:43:09.441241Z",
     "iopub.status.busy": "2022-09-01T00:43:09.440486Z",
     "iopub.status.idle": "2022-09-01T00:43:09.442246Z",
     "shell.execute_reply": "2022-09-01T00:43:09.442806Z"
    },
    "papermill": {
     "duration": 0.038323,
     "end_time": "2022-09-01T00:43:09.442976",
     "exception": false,
     "start_time": "2022-09-01T00:43:09.404653",
     "status": "completed"
    },
    "tags": []
   },
   "outputs": [],
   "source": [
    "#hide\n",
    "def get_mappings(url):\n",
    "    df = pd.read_csv(url)\n",
    "    return {\n",
    "        'df': df,\n",
    "        'replace.country': dict(df.dropna(subset=['Name']).set_index('Country')['Name']),\n",
    "        'map.continent': dict(df.set_index('Name')['Continent'])\n",
    "    }"
   ]
  },
  {
   "cell_type": "code",
   "execution_count": 5,
   "id": "intimate-machinery",
   "metadata": {
    "execution": {
     "iopub.execute_input": "2022-09-01T00:43:09.501569Z",
     "iopub.status.busy": "2022-09-01T00:43:09.500979Z",
     "iopub.status.idle": "2022-09-01T00:43:09.549470Z",
     "shell.execute_reply": "2022-09-01T00:43:09.550048Z"
    },
    "papermill": {
     "duration": 0.080857,
     "end_time": "2022-09-01T00:43:09.550212",
     "exception": false,
     "start_time": "2022-09-01T00:43:09.469355",
     "status": "completed"
    },
    "tags": []
   },
   "outputs": [],
   "source": [
    "#hide\n",
    "mapping = get_mappings(paths['mapping'])"
   ]
  },
  {
   "cell_type": "code",
   "execution_count": 6,
   "id": "certified-tactics",
   "metadata": {
    "execution": {
     "iopub.execute_input": "2022-09-01T00:43:09.609889Z",
     "iopub.status.busy": "2022-09-01T00:43:09.609238Z",
     "iopub.status.idle": "2022-09-01T00:43:09.611560Z",
     "shell.execute_reply": "2022-09-01T00:43:09.610975Z"
    },
    "papermill": {
     "duration": 0.033668,
     "end_time": "2022-09-01T00:43:09.611679",
     "exception": false,
     "start_time": "2022-09-01T00:43:09.578011",
     "status": "completed"
    },
    "tags": []
   },
   "outputs": [],
   "source": [
    "#hide\n",
    "def get_template(path):\n",
    "    from urllib.parse import urlparse\n",
    "    if bool(urlparse(path).netloc):\n",
    "        from urllib.request import urlopen\n",
    "        return urlopen(path).read().decode('utf8')\n",
    "    return open(path).read()"
   ]
  },
  {
   "cell_type": "code",
   "execution_count": 7,
   "id": "realistic-blast",
   "metadata": {
    "execution": {
     "iopub.execute_input": "2022-09-01T00:43:09.676028Z",
     "iopub.status.busy": "2022-09-01T00:43:09.675369Z",
     "iopub.status.idle": "2022-09-01T00:43:09.678586Z",
     "shell.execute_reply": "2022-09-01T00:43:09.678072Z"
    },
    "papermill": {
     "duration": 0.037651,
     "end_time": "2022-09-01T00:43:09.678707",
     "exception": false,
     "start_time": "2022-09-01T00:43:09.641056",
     "status": "completed"
    },
    "tags": []
   },
   "outputs": [],
   "source": [
    "#hide\n",
    "def get_frame(name):\n",
    "    url = (\n",
    "        'https://raw.githubusercontent.com/CSSEGISandData/COVID-19/master/csse_covid_19_data/'\n",
    "        f'csse_covid_19_time_series/time_series_covid19_{name}_global.csv')\n",
    "    df = pd.read_csv(url)\n",
    "    # rename countries\n",
    "    df['Country/Region'] = df['Country/Region'].replace(mapping['replace.country'])\n",
    "    return df"
   ]
  },
  {
   "cell_type": "code",
   "execution_count": 8,
   "id": "affiliated-characterization",
   "metadata": {
    "execution": {
     "iopub.execute_input": "2022-09-01T00:43:09.744008Z",
     "iopub.status.busy": "2022-09-01T00:43:09.743370Z",
     "iopub.status.idle": "2022-09-01T00:43:09.745977Z",
     "shell.execute_reply": "2022-09-01T00:43:09.745525Z"
    },
    "papermill": {
     "duration": 0.037584,
     "end_time": "2022-09-01T00:43:09.746094",
     "exception": false,
     "start_time": "2022-09-01T00:43:09.708510",
     "status": "completed"
    },
    "tags": []
   },
   "outputs": [],
   "source": [
    "#hide\n",
    "def get_dates(df):\n",
    "    dt_cols = df.columns[~df.columns.isin(['Province/State', 'Country/Region', 'Lat', 'Long'])]\n",
    "    LAST_DATE_I = -1\n",
    "    # sometimes last column may be empty, then go backwards\n",
    "    for i in range(-1, -len(dt_cols), -1):\n",
    "        if not df[dt_cols[i]].fillna(0).eq(0).all():\n",
    "            LAST_DATE_I = i\n",
    "            break\n",
    "    return LAST_DATE_I, dt_cols"
   ]
  },
  {
   "cell_type": "code",
   "execution_count": 9,
   "id": "recent-optimization",
   "metadata": {
    "execution": {
     "iopub.execute_input": "2022-09-01T00:43:09.803164Z",
     "iopub.status.busy": "2022-09-01T00:43:09.802593Z",
     "iopub.status.idle": "2022-09-01T00:43:10.384547Z",
     "shell.execute_reply": "2022-09-01T00:43:10.383467Z"
    },
    "papermill": {
     "duration": 0.612615,
     "end_time": "2022-09-01T00:43:10.384678",
     "exception": false,
     "start_time": "2022-09-01T00:43:09.772063",
     "status": "completed"
    },
    "tags": []
   },
   "outputs": [],
   "source": [
    "#hide\n",
    "COL_REGION = 'Country/Region'\n",
    "# Confirmed, Recovered, Deaths\n",
    "df = get_frame('confirmed')\n",
    "# dft_: timeseries, dfc_: today country agg\n",
    "dft_cases = df\n",
    "dft_deaths = get_frame('deaths')\n",
    "dft_recovered = get_frame('recovered')\n",
    "LAST_DATE_I, dt_cols = get_dates(df)"
   ]
  },
  {
   "cell_type": "code",
   "execution_count": 10,
   "id": "absolute-copper",
   "metadata": {
    "execution": {
     "iopub.execute_input": "2022-09-01T00:43:10.443163Z",
     "iopub.status.busy": "2022-09-01T00:43:10.442607Z",
     "iopub.status.idle": "2022-09-01T00:43:10.445040Z",
     "shell.execute_reply": "2022-09-01T00:43:10.445548Z"
    },
    "papermill": {
     "duration": 0.034764,
     "end_time": "2022-09-01T00:43:10.445679",
     "exception": false,
     "start_time": "2022-09-01T00:43:10.410915",
     "status": "completed"
    },
    "tags": []
   },
   "outputs": [],
   "source": [
    "#hide\n",
    "LAST_DATE_I, dt_cols = get_dates(df)\n",
    "dt_today =dt_cols[LAST_DATE_I]\n",
    "# dt_5day = dt_cols[LAST_DATE_I - 5]\n",
    "dt_yday = dt_cols[LAST_DATE_I - 1]"
   ]
  },
  {
   "cell_type": "code",
   "execution_count": 11,
   "id": "restricted-sheriff",
   "metadata": {
    "execution": {
     "iopub.execute_input": "2022-09-01T00:43:10.503731Z",
     "iopub.status.busy": "2022-09-01T00:43:10.503152Z",
     "iopub.status.idle": "2022-09-01T00:43:10.511859Z",
     "shell.execute_reply": "2022-09-01T00:43:10.511430Z"
    },
    "papermill": {
     "duration": 0.040383,
     "end_time": "2022-09-01T00:43:10.511999",
     "exception": false,
     "start_time": "2022-09-01T00:43:10.471616",
     "status": "completed"
    },
    "tags": []
   },
   "outputs": [],
   "source": [
    "#hide\n",
    "dfc_cases = dft_cases.groupby(COL_REGION)[dt_today].sum()\n",
    "dfc_deaths = dft_deaths.groupby(COL_REGION)[dt_today].sum()\n",
    "# dfp_cases = dft_cases.groupby(COL_REGION)[dt_5day].sum()\n",
    "# dfp_deaths = dft_deaths.groupby(COL_REGION)[dt_5day].sum()\n",
    "dfp_cases = dft_cases.groupby(COL_REGION)[dt_yday].sum()\n",
    "dfp_deaths = dft_deaths.groupby(COL_REGION)[dt_yday].sum()"
   ]
  },
  {
   "cell_type": "code",
   "execution_count": 12,
   "id": "deluxe-hepatitis",
   "metadata": {
    "execution": {
     "iopub.execute_input": "2022-09-01T00:43:10.570587Z",
     "iopub.status.busy": "2022-09-01T00:43:10.570031Z",
     "iopub.status.idle": "2022-09-01T00:43:10.574461Z",
     "shell.execute_reply": "2022-09-01T00:43:10.574973Z"
    },
    "papermill": {
     "duration": 0.036825,
     "end_time": "2022-09-01T00:43:10.575103",
     "exception": false,
     "start_time": "2022-09-01T00:43:10.538278",
     "status": "completed"
    },
    "tags": []
   },
   "outputs": [],
   "source": [
    "#hide\n",
    "df_table = (pd.DataFrame(dict(Cases = dfc_cases, Deaths = dfc_deaths, PCases = dfp_cases, PDeaths = dfp_deaths))\n",
    "            .sort_values(by = ['Cases','Deaths'], ascending = [False, False])\n",
    "            .reset_index())"
   ]
  },
  {
   "cell_type": "code",
   "execution_count": 13,
   "id": "educational-chancellor",
   "metadata": {
    "execution": {
     "iopub.execute_input": "2022-09-01T00:43:10.645055Z",
     "iopub.status.busy": "2022-09-01T00:43:10.640175Z",
     "iopub.status.idle": "2022-09-01T00:43:10.652910Z",
     "shell.execute_reply": "2022-09-01T00:43:10.652462Z"
    },
    "papermill": {
     "duration": 0.051939,
     "end_time": "2022-09-01T00:43:10.653023",
     "exception": false,
     "start_time": "2022-09-01T00:43:10.601084",
     "status": "completed"
    },
    "tags": []
   },
   "outputs": [
    {
     "data": {
      "text/html": [
       "<div>\n",
       "<style scoped>\n",
       "    .dataframe tbody tr th:only-of-type {\n",
       "        vertical-align: middle;\n",
       "    }\n",
       "\n",
       "    .dataframe tbody tr th {\n",
       "        vertical-align: top;\n",
       "    }\n",
       "\n",
       "    .dataframe thead th {\n",
       "        text-align: right;\n",
       "    }\n",
       "</style>\n",
       "<table border=\"1\" class=\"dataframe\">\n",
       "  <thead>\n",
       "    <tr style=\"text-align: right;\">\n",
       "      <th></th>\n",
       "      <th>Country/Region</th>\n",
       "      <th>Cases</th>\n",
       "      <th>Deaths</th>\n",
       "      <th>PCases</th>\n",
       "      <th>PDeaths</th>\n",
       "      <th>Cases (+)</th>\n",
       "      <th>Deaths (+)</th>\n",
       "      <th>Fatality Rate</th>\n",
       "      <th>Continent</th>\n",
       "    </tr>\n",
       "  </thead>\n",
       "  <tbody>\n",
       "    <tr>\n",
       "      <th>0</th>\n",
       "      <td>US</td>\n",
       "      <td>94379514</td>\n",
       "      <td>1044730</td>\n",
       "      <td>94285683</td>\n",
       "      <td>1044373</td>\n",
       "      <td>93831</td>\n",
       "      <td>357</td>\n",
       "      <td>1.11</td>\n",
       "      <td>North America</td>\n",
       "    </tr>\n",
       "    <tr>\n",
       "      <th>1</th>\n",
       "      <td>India</td>\n",
       "      <td>44415723</td>\n",
       "      <td>527799</td>\n",
       "      <td>44415723</td>\n",
       "      <td>527799</td>\n",
       "      <td>0</td>\n",
       "      <td>0</td>\n",
       "      <td>1.19</td>\n",
       "      <td>Asia</td>\n",
       "    </tr>\n",
       "    <tr>\n",
       "      <th>2</th>\n",
       "      <td>France</td>\n",
       "      <td>34726269</td>\n",
       "      <td>155079</td>\n",
       "      <td>34698583</td>\n",
       "      <td>155007</td>\n",
       "      <td>27686</td>\n",
       "      <td>72</td>\n",
       "      <td>0.45</td>\n",
       "      <td>Europe</td>\n",
       "    </tr>\n",
       "    <tr>\n",
       "      <th>3</th>\n",
       "      <td>Brazil</td>\n",
       "      <td>34414011</td>\n",
       "      <td>683851</td>\n",
       "      <td>34397205</td>\n",
       "      <td>683622</td>\n",
       "      <td>16806</td>\n",
       "      <td>229</td>\n",
       "      <td>1.99</td>\n",
       "      <td>South America</td>\n",
       "    </tr>\n",
       "    <tr>\n",
       "      <th>4</th>\n",
       "      <td>Germany</td>\n",
       "      <td>32095854</td>\n",
       "      <td>147223</td>\n",
       "      <td>32095854</td>\n",
       "      <td>147223</td>\n",
       "      <td>0</td>\n",
       "      <td>0</td>\n",
       "      <td>0.46</td>\n",
       "      <td>Europe</td>\n",
       "    </tr>\n",
       "  </tbody>\n",
       "</table>\n",
       "</div>"
      ],
      "text/plain": [
       "  Country/Region     Cases   Deaths    PCases  PDeaths  Cases (+)  Deaths (+)  \\\n",
       "0             US  94379514  1044730  94285683  1044373      93831         357   \n",
       "1          India  44415723   527799  44415723   527799          0           0   \n",
       "2         France  34726269   155079  34698583   155007      27686          72   \n",
       "3         Brazil  34414011   683851  34397205   683622      16806         229   \n",
       "4        Germany  32095854   147223  32095854   147223          0           0   \n",
       "\n",
       "   Fatality Rate      Continent  \n",
       "0           1.11  North America  \n",
       "1           1.19           Asia  \n",
       "2           0.45         Europe  \n",
       "3           1.99  South America  \n",
       "4           0.46         Europe  "
      ]
     },
     "execution_count": 13,
     "metadata": {},
     "output_type": "execute_result"
    }
   ],
   "source": [
    "#hide\n",
    "for c in 'Cases, Deaths'.split(', '):\n",
    "    df_table[f'{c} (+)'] = (df_table[c] - df_table[f'P{c}']).clip(0)\n",
    "    #Clip ça veut dire, les chiffres negatif sont interdit\n",
    "df_table['Fatality Rate'] = (100* df_table['Deaths']/ df_table['Cases']).round(2)\n",
    "df_table['Continent'] = df_table['Country/Region'].map(mapping['map.continent'])\n",
    "df_table.head(5)"
   ]
  },
  {
   "cell_type": "code",
   "execution_count": 14,
   "id": "aboriginal-bulgaria",
   "metadata": {
    "execution": {
     "iopub.execute_input": "2022-09-01T00:43:10.712049Z",
     "iopub.status.busy": "2022-09-01T00:43:10.711460Z",
     "iopub.status.idle": "2022-09-01T00:43:10.714436Z",
     "shell.execute_reply": "2022-09-01T00:43:10.714954Z"
    },
    "papermill": {
     "duration": 0.035455,
     "end_time": "2022-09-01T00:43:10.715087",
     "exception": false,
     "start_time": "2022-09-01T00:43:10.679632",
     "status": "completed"
    },
    "tags": []
   },
   "outputs": [],
   "source": [
    "#hide\n",
    "#delete problematic countries from table\n",
    "df_table = df_table[~df_table['Country/Region'].isin(['Cape Verde', 'Cruise Ship', 'Kosovo'])]"
   ]
  },
  {
   "cell_type": "code",
   "execution_count": 15,
   "id": "fantastic-effect",
   "metadata": {
    "execution": {
     "iopub.execute_input": "2022-09-01T00:43:10.776617Z",
     "iopub.status.busy": "2022-09-01T00:43:10.776045Z",
     "iopub.status.idle": "2022-09-01T00:43:10.794347Z",
     "shell.execute_reply": "2022-09-01T00:43:10.793891Z"
    },
    "papermill": {
     "duration": 0.053011,
     "end_time": "2022-09-01T00:43:10.794460",
     "exception": false,
     "start_time": "2022-09-01T00:43:10.741449",
     "status": "completed"
    },
    "tags": []
   },
   "outputs": [
    {
     "data": {
      "text/html": [
       "<div>\n",
       "<style scoped>\n",
       "    .dataframe tbody tr th:only-of-type {\n",
       "        vertical-align: middle;\n",
       "    }\n",
       "\n",
       "    .dataframe tbody tr th {\n",
       "        vertical-align: top;\n",
       "    }\n",
       "\n",
       "    .dataframe thead th {\n",
       "        text-align: right;\n",
       "    }\n",
       "</style>\n",
       "<table border=\"1\" class=\"dataframe\">\n",
       "  <thead>\n",
       "    <tr style=\"text-align: right;\">\n",
       "      <th></th>\n",
       "      <th>Country/Region</th>\n",
       "      <th>Cases</th>\n",
       "      <th>Deaths</th>\n",
       "      <th>PCases</th>\n",
       "      <th>PDeaths</th>\n",
       "      <th>Cases (+)</th>\n",
       "      <th>Deaths (+)</th>\n",
       "      <th>Fatality Rate</th>\n",
       "      <th>Continent</th>\n",
       "    </tr>\n",
       "  </thead>\n",
       "  <tbody>\n",
       "    <tr>\n",
       "      <th>0</th>\n",
       "      <td>US</td>\n",
       "      <td>94379514</td>\n",
       "      <td>1044730</td>\n",
       "      <td>94285683</td>\n",
       "      <td>1044373</td>\n",
       "      <td>93831</td>\n",
       "      <td>357</td>\n",
       "      <td>1.1</td>\n",
       "      <td>North America</td>\n",
       "    </tr>\n",
       "    <tr>\n",
       "      <th>1</th>\n",
       "      <td>India</td>\n",
       "      <td>44415723</td>\n",
       "      <td>527799</td>\n",
       "      <td>44415723</td>\n",
       "      <td>527799</td>\n",
       "      <td>0</td>\n",
       "      <td>0</td>\n",
       "      <td>1.2</td>\n",
       "      <td>Asia</td>\n",
       "    </tr>\n",
       "    <tr>\n",
       "      <th>2</th>\n",
       "      <td>France</td>\n",
       "      <td>34726269</td>\n",
       "      <td>155079</td>\n",
       "      <td>34698583</td>\n",
       "      <td>155007</td>\n",
       "      <td>27686</td>\n",
       "      <td>72</td>\n",
       "      <td>0.4</td>\n",
       "      <td>Europe</td>\n",
       "    </tr>\n",
       "    <tr>\n",
       "      <th>3</th>\n",
       "      <td>Brazil</td>\n",
       "      <td>34414011</td>\n",
       "      <td>683851</td>\n",
       "      <td>34397205</td>\n",
       "      <td>683622</td>\n",
       "      <td>16806</td>\n",
       "      <td>229</td>\n",
       "      <td>2.0</td>\n",
       "      <td>South America</td>\n",
       "    </tr>\n",
       "    <tr>\n",
       "      <th>4</th>\n",
       "      <td>Germany</td>\n",
       "      <td>32095854</td>\n",
       "      <td>147223</td>\n",
       "      <td>32095854</td>\n",
       "      <td>147223</td>\n",
       "      <td>0</td>\n",
       "      <td>0</td>\n",
       "      <td>0.5</td>\n",
       "      <td>Europe</td>\n",
       "    </tr>\n",
       "  </tbody>\n",
       "</table>\n",
       "</div>"
      ],
      "text/plain": [
       "  Country/Region     Cases   Deaths    PCases  PDeaths  Cases (+)  Deaths (+)  \\\n",
       "0             US  94379514  1044730  94285683  1044373      93831         357   \n",
       "1          India  44415723   527799  44415723   527799          0           0   \n",
       "2         France  34726269   155079  34698583   155007      27686          72   \n",
       "3         Brazil  34414011   683851  34397205   683622      16806         229   \n",
       "4        Germany  32095854   147223  32095854   147223          0           0   \n",
       "\n",
       "   Fatality Rate      Continent  \n",
       "0            1.1  North America  \n",
       "1            1.2           Asia  \n",
       "2            0.4         Europe  \n",
       "3            2.0  South America  \n",
       "4            0.5         Europe  "
      ]
     },
     "execution_count": 15,
     "metadata": {},
     "output_type": "execute_result"
    }
   ],
   "source": [
    "#hide\n",
    "df_table = (pd.DataFrame(dict(Cases=dfc_cases, Deaths=dfc_deaths, PCases=dfp_cases, PDeaths=dfp_deaths))\n",
    "             .sort_values(by=['Cases', 'Deaths'], ascending=[False, False])\n",
    "             .reset_index())\n",
    "df_table.rename(columns={'index': 'Country/Region'}, inplace=True)\n",
    "for c in 'Cases, Deaths'.split(', '):\n",
    "    df_table[f'{c} (+)'] = (df_table[c] - df_table[f'P{c}']).clip(0)  # DATA BUG\n",
    "df_table['Fatality Rate'] = (100 * df_table['Deaths'] / df_table['Cases']).round(1)\n",
    "df_table['Continent'] = df_table['Country/Region'].map(mapping['map.continent'])\n",
    "df_table.head(5)"
   ]
  },
  {
   "cell_type": "code",
   "execution_count": 16,
   "id": "fewer-occasion",
   "metadata": {
    "execution": {
     "iopub.execute_input": "2022-09-01T00:43:10.855232Z",
     "iopub.status.busy": "2022-09-01T00:43:10.854657Z",
     "iopub.status.idle": "2022-09-01T00:43:10.856906Z",
     "shell.execute_reply": "2022-09-01T00:43:10.857319Z"
    },
    "papermill": {
     "duration": 0.035904,
     "end_time": "2022-09-01T00:43:10.857451",
     "exception": false,
     "start_time": "2022-09-01T00:43:10.821547",
     "status": "completed"
    },
    "tags": []
   },
   "outputs": [],
   "source": [
    "#hide\n",
    "#delete problematic countries from table\n",
    "df_table = df_table[~df_table['Country/Region'].isin(['Cape Verde', 'Cruise Ship', 'Kosovo'])]"
   ]
  },
  {
   "cell_type": "code",
   "execution_count": 17,
   "id": "related-center",
   "metadata": {
    "execution": {
     "iopub.execute_input": "2022-09-01T00:43:10.920879Z",
     "iopub.status.busy": "2022-09-01T00:43:10.920258Z",
     "iopub.status.idle": "2022-09-01T00:43:10.933600Z",
     "shell.execute_reply": "2022-09-01T00:43:10.933148Z"
    },
    "papermill": {
     "duration": 0.049306,
     "end_time": "2022-09-01T00:43:10.933717",
     "exception": false,
     "start_time": "2022-09-01T00:43:10.884411",
     "status": "completed"
    },
    "tags": []
   },
   "outputs": [],
   "source": [
    "#hide\n",
    "metrics = [df_table.columns[index] for index in [1,2,5,6]]\n",
    "# s_china = df_table[df_table['Country/Region'].eq('China')][metrics].sum().add_prefix('China ')\n",
    "s_us = df_table[df_table['Country/Region'].eq('US')][metrics].sum().add_prefix('US ')\n",
    "s_eu = df_table[df_table['Continent'].eq('Europe')][metrics].sum().add_prefix('EU ')\n",
    "s_ind = df_table[df_table['Country/Region'].eq('India')][metrics].sum().add_prefix('India ')\n",
    "summary = {'updated': pd.to_datetime(dt_today), 'since': pd.to_datetime(dt_yday)}\n",
    "summary = {'updated': pd.to_datetime(dt_today), 'since': pd.to_datetime(dt_yday)}\n",
    "summary = {**summary, **df_table[metrics].sum(), **s_ind, **s_us, **s_eu}"
   ]
  },
  {
   "cell_type": "code",
   "execution_count": 18,
   "id": "engaging-syndrome",
   "metadata": {
    "execution": {
     "iopub.execute_input": "2022-09-01T00:43:10.993301Z",
     "iopub.status.busy": "2022-09-01T00:43:10.992743Z",
     "iopub.status.idle": "2022-09-01T00:43:11.014187Z",
     "shell.execute_reply": "2022-09-01T00:43:11.013603Z"
    },
    "papermill": {
     "duration": 0.053641,
     "end_time": "2022-09-01T00:43:11.014324",
     "exception": false,
     "start_time": "2022-09-01T00:43:10.960683",
     "status": "completed"
    },
    "tags": []
   },
   "outputs": [],
   "source": [
    "#hide\n",
    "dft_ct_new_cases = dft_cases.groupby(COL_REGION)[dt_cols].sum().diff(axis=1).fillna(0).astype(int)"
   ]
  },
  {
   "cell_type": "code",
   "execution_count": 19,
   "id": "neutral-assignment",
   "metadata": {
    "execution": {
     "iopub.execute_input": "2022-09-01T00:43:11.076763Z",
     "iopub.status.busy": "2022-09-01T00:43:11.075916Z",
     "iopub.status.idle": "2022-09-01T00:43:11.077533Z",
     "shell.execute_reply": "2022-09-01T00:43:11.078172Z"
    },
    "papermill": {
     "duration": 0.036262,
     "end_time": "2022-09-01T00:43:11.078325",
     "exception": false,
     "start_time": "2022-09-01T00:43:11.042063",
     "status": "completed"
    },
    "tags": []
   },
   "outputs": [],
   "source": [
    "#hide\n",
    "everydaycases = dft_ct_new_cases.cumsum(axis=1)"
   ]
  },
  {
   "cell_type": "code",
   "execution_count": 20,
   "id": "parliamentary-calgary",
   "metadata": {
    "execution": {
     "iopub.execute_input": "2022-09-01T00:43:11.144907Z",
     "iopub.status.busy": "2022-09-01T00:43:11.143847Z",
     "iopub.status.idle": "2022-09-01T00:43:11.640234Z",
     "shell.execute_reply": "2022-09-01T00:43:11.639621Z"
    },
    "papermill": {
     "duration": 0.531525,
     "end_time": "2022-09-01T00:43:11.640384",
     "exception": false,
     "start_time": "2022-09-01T00:43:11.108859",
     "status": "completed"
    },
    "tags": []
   },
   "outputs": [],
   "source": [
    "#hide\n",
    "import pandas as pd\n",
    "import matplotlib.pyplot as plt\n",
    "import matplotlib.ticker as ticker\n",
    "import matplotlib.animation as animation\n",
    "from IPython.display import HTML"
   ]
  },
  {
   "cell_type": "code",
   "execution_count": 21,
   "id": "lasting-extraction",
   "metadata": {
    "execution": {
     "iopub.execute_input": "2022-09-01T00:43:11.708299Z",
     "iopub.status.busy": "2022-09-01T00:43:11.707512Z",
     "iopub.status.idle": "2022-09-01T00:43:11.714811Z",
     "shell.execute_reply": "2022-09-01T00:43:11.715248Z"
    },
    "papermill": {
     "duration": 0.044582,
     "end_time": "2022-09-01T00:43:11.715393",
     "exception": false,
     "start_time": "2022-09-01T00:43:11.670811",
     "status": "completed"
    },
    "tags": []
   },
   "outputs": [],
   "source": [
    "#hide\n",
    "t = everydaycases.stack()"
   ]
  },
  {
   "cell_type": "code",
   "execution_count": 22,
   "id": "premier-sleeve",
   "metadata": {
    "execution": {
     "iopub.execute_input": "2022-09-01T00:43:11.781660Z",
     "iopub.status.busy": "2022-09-01T00:43:11.781038Z",
     "iopub.status.idle": "2022-09-01T00:43:11.793016Z",
     "shell.execute_reply": "2022-09-01T00:43:11.792535Z"
    },
    "papermill": {
     "duration": 0.047095,
     "end_time": "2022-09-01T00:43:11.793141",
     "exception": false,
     "start_time": "2022-09-01T00:43:11.746046",
     "status": "completed"
    },
    "tags": []
   },
   "outputs": [],
   "source": [
    "#hide\n",
    "g = t.reset_index(['Country/Region'])"
   ]
  },
  {
   "cell_type": "code",
   "execution_count": 23,
   "id": "distributed-pittsburgh",
   "metadata": {
    "execution": {
     "iopub.execute_input": "2022-09-01T00:43:11.858217Z",
     "iopub.status.busy": "2022-09-01T00:43:11.857643Z",
     "iopub.status.idle": "2022-09-01T00:43:11.860283Z",
     "shell.execute_reply": "2022-09-01T00:43:11.859827Z"
    },
    "papermill": {
     "duration": 0.036909,
     "end_time": "2022-09-01T00:43:11.860396",
     "exception": false,
     "start_time": "2022-09-01T00:43:11.823487",
     "status": "completed"
    },
    "tags": []
   },
   "outputs": [],
   "source": [
    "#hide\n",
    "g.index.name = 'date'"
   ]
  },
  {
   "cell_type": "code",
   "execution_count": 24,
   "id": "naked-donor",
   "metadata": {
    "execution": {
     "iopub.execute_input": "2022-09-01T00:43:11.918603Z",
     "iopub.status.busy": "2022-09-01T00:43:11.918066Z",
     "iopub.status.idle": "2022-09-01T00:43:11.920329Z",
     "shell.execute_reply": "2022-09-01T00:43:11.920761Z"
    },
    "papermill": {
     "duration": 0.033636,
     "end_time": "2022-09-01T00:43:11.920884",
     "exception": false,
     "start_time": "2022-09-01T00:43:11.887248",
     "status": "completed"
    },
    "tags": []
   },
   "outputs": [],
   "source": [
    "# #hide\n",
    "# g = g.reset_index(['date'])"
   ]
  },
  {
   "cell_type": "code",
   "execution_count": 25,
   "id": "incomplete-mustang",
   "metadata": {
    "execution": {
     "iopub.execute_input": "2022-09-01T00:43:11.979010Z",
     "iopub.status.busy": "2022-09-01T00:43:11.978373Z",
     "iopub.status.idle": "2022-09-01T00:43:11.980024Z",
     "shell.execute_reply": "2022-09-01T00:43:11.980480Z"
    },
    "papermill": {
     "duration": 0.032864,
     "end_time": "2022-09-01T00:43:11.980612",
     "exception": false,
     "start_time": "2022-09-01T00:43:11.947748",
     "status": "completed"
    },
    "tags": []
   },
   "outputs": [],
   "source": [
    "#hide\n",
    "# g.head()"
   ]
  },
  {
   "cell_type": "code",
   "execution_count": 26,
   "id": "specific-kruger",
   "metadata": {
    "execution": {
     "iopub.execute_input": "2022-09-01T00:43:12.046516Z",
     "iopub.status.busy": "2022-09-01T00:43:12.045806Z",
     "iopub.status.idle": "2022-09-01T00:43:12.049779Z",
     "shell.execute_reply": "2022-09-01T00:43:12.050208Z"
    },
    "papermill": {
     "duration": 0.039346,
     "end_time": "2022-09-01T00:43:12.050336",
     "exception": false,
     "start_time": "2022-09-01T00:43:12.010990",
     "status": "completed"
    },
    "tags": []
   },
   "outputs": [],
   "source": [
    "#hide\n",
    "# g.columns = ['date','country','cases']"
   ]
  },
  {
   "cell_type": "code",
   "execution_count": 27,
   "id": "tender-conversion",
   "metadata": {
    "execution": {
     "iopub.execute_input": "2022-09-01T00:43:12.108522Z",
     "iopub.status.busy": "2022-09-01T00:43:12.107755Z",
     "iopub.status.idle": "2022-09-01T00:43:12.109337Z",
     "shell.execute_reply": "2022-09-01T00:43:12.109975Z"
    },
    "papermill": {
     "duration": 0.032899,
     "end_time": "2022-09-01T00:43:12.110129",
     "exception": false,
     "start_time": "2022-09-01T00:43:12.077230",
     "status": "completed"
    },
    "tags": []
   },
   "outputs": [],
   "source": [
    "#hide\n",
    "# g['continent'] = g.country"
   ]
  },
  {
   "cell_type": "code",
   "execution_count": 28,
   "id": "substantial-wilderness",
   "metadata": {
    "execution": {
     "iopub.execute_input": "2022-09-01T00:43:12.175873Z",
     "iopub.status.busy": "2022-09-01T00:43:12.175155Z",
     "iopub.status.idle": "2022-09-01T00:43:12.179846Z",
     "shell.execute_reply": "2022-09-01T00:43:12.179134Z"
    },
    "papermill": {
     "duration": 0.039257,
     "end_time": "2022-09-01T00:43:12.180007",
     "exception": false,
     "start_time": "2022-09-01T00:43:12.140750",
     "status": "completed"
    },
    "tags": []
   },
   "outputs": [],
   "source": [
    "#hide\n",
    "# cols = list(g.columns.values)"
   ]
  },
  {
   "cell_type": "code",
   "execution_count": 29,
   "id": "solved-farming",
   "metadata": {
    "execution": {
     "iopub.execute_input": "2022-09-01T00:43:12.238933Z",
     "iopub.status.busy": "2022-09-01T00:43:12.238214Z",
     "iopub.status.idle": "2022-09-01T00:43:12.239765Z",
     "shell.execute_reply": "2022-09-01T00:43:12.240455Z"
    },
    "papermill": {
     "duration": 0.03323,
     "end_time": "2022-09-01T00:43:12.240612",
     "exception": false,
     "start_time": "2022-09-01T00:43:12.207382",
     "status": "completed"
    },
    "tags": []
   },
   "outputs": [],
   "source": [
    "#hide\n",
    "# cols.insert(0, cols.pop())"
   ]
  },
  {
   "cell_type": "code",
   "execution_count": 30,
   "id": "executed-adoption",
   "metadata": {
    "execution": {
     "iopub.execute_input": "2022-09-01T00:43:12.305991Z",
     "iopub.status.busy": "2022-09-01T00:43:12.305416Z",
     "iopub.status.idle": "2022-09-01T00:43:12.307961Z",
     "shell.execute_reply": "2022-09-01T00:43:12.307505Z"
    },
    "papermill": {
     "duration": 0.036735,
     "end_time": "2022-09-01T00:43:12.308073",
     "exception": false,
     "start_time": "2022-09-01T00:43:12.271338",
     "status": "completed"
    },
    "tags": []
   },
   "outputs": [],
   "source": [
    "#hide\n",
    "# g = g[cols]"
   ]
  },
  {
   "cell_type": "code",
   "execution_count": 31,
   "id": "subject-dublin",
   "metadata": {
    "execution": {
     "iopub.execute_input": "2022-09-01T00:43:12.365630Z",
     "iopub.status.busy": "2022-09-01T00:43:12.364925Z",
     "iopub.status.idle": "2022-09-01T00:43:12.368623Z",
     "shell.execute_reply": "2022-09-01T00:43:12.369053Z"
    },
    "papermill": {
     "duration": 0.034447,
     "end_time": "2022-09-01T00:43:12.369190",
     "exception": false,
     "start_time": "2022-09-01T00:43:12.334743",
     "status": "completed"
    },
    "tags": []
   },
   "outputs": [],
   "source": [
    "#hide\n",
    "# g['continent'] = g['continent'].map(mapping['map.continent'])"
   ]
  },
  {
   "cell_type": "code",
   "execution_count": 32,
   "id": "freelance-scout",
   "metadata": {
    "execution": {
     "iopub.execute_input": "2022-09-01T00:43:12.433992Z",
     "iopub.status.busy": "2022-09-01T00:43:12.433423Z",
     "iopub.status.idle": "2022-09-01T00:43:12.435948Z",
     "shell.execute_reply": "2022-09-01T00:43:12.435494Z"
    },
    "papermill": {
     "duration": 0.036511,
     "end_time": "2022-09-01T00:43:12.436062",
     "exception": false,
     "start_time": "2022-09-01T00:43:12.399551",
     "status": "completed"
    },
    "tags": []
   },
   "outputs": [],
   "source": [
    "#hide\n",
    "# g.head()"
   ]
  },
  {
   "cell_type": "code",
   "execution_count": 33,
   "id": "limited-engine",
   "metadata": {
    "execution": {
     "iopub.execute_input": "2022-09-01T00:43:12.493894Z",
     "iopub.status.busy": "2022-09-01T00:43:12.493196Z",
     "iopub.status.idle": "2022-09-01T00:43:12.497097Z",
     "shell.execute_reply": "2022-09-01T00:43:12.497585Z"
    },
    "papermill": {
     "duration": 0.034978,
     "end_time": "2022-09-01T00:43:12.497738",
     "exception": false,
     "start_time": "2022-09-01T00:43:12.462760",
     "status": "completed"
    },
    "tags": []
   },
   "outputs": [],
   "source": [
    "# hide\n",
    "# g['date'] = g['date'].astype('datetime64[ns]')"
   ]
  },
  {
   "cell_type": "code",
   "execution_count": 34,
   "id": "sophisticated-supervisor",
   "metadata": {
    "execution": {
     "iopub.execute_input": "2022-09-01T00:43:12.562925Z",
     "iopub.status.busy": "2022-09-01T00:43:12.562357Z",
     "iopub.status.idle": "2022-09-01T00:43:12.566227Z",
     "shell.execute_reply": "2022-09-01T00:43:12.565741Z"
    },
    "papermill": {
     "duration": 0.037881,
     "end_time": "2022-09-01T00:43:12.566345",
     "exception": false,
     "start_time": "2022-09-01T00:43:12.528464",
     "status": "completed"
    },
    "tags": []
   },
   "outputs": [],
   "source": [
    "#hide\n",
    "# g['date'] = g.date.dt.dayofyear"
   ]
  },
  {
   "cell_type": "code",
   "execution_count": 35,
   "id": "inside-dubai",
   "metadata": {
    "execution": {
     "iopub.execute_input": "2022-09-01T00:43:12.631430Z",
     "iopub.status.busy": "2022-09-01T00:43:12.630728Z",
     "iopub.status.idle": "2022-09-01T00:43:12.634787Z",
     "shell.execute_reply": "2022-09-01T00:43:12.634303Z"
    },
    "papermill": {
     "duration": 0.038285,
     "end_time": "2022-09-01T00:43:12.634901",
     "exception": false,
     "start_time": "2022-09-01T00:43:12.596616",
     "status": "completed"
    },
    "tags": []
   },
   "outputs": [],
   "source": [
    "#hide\n",
    "# g = g.rename(columns= {'continent':'group','country':'name','cases':'value'})"
   ]
  },
  {
   "cell_type": "code",
   "execution_count": 36,
   "id": "fleet-motorcycle",
   "metadata": {
    "execution": {
     "iopub.execute_input": "2022-09-01T00:43:12.700048Z",
     "iopub.status.busy": "2022-09-01T00:43:12.699311Z",
     "iopub.status.idle": "2022-09-01T00:43:12.701121Z",
     "shell.execute_reply": "2022-09-01T00:43:12.701683Z"
    },
    "papermill": {
     "duration": 0.036515,
     "end_time": "2022-09-01T00:43:12.701834",
     "exception": false,
     "start_time": "2022-09-01T00:43:12.665319",
     "status": "completed"
    },
    "tags": []
   },
   "outputs": [],
   "source": [
    "#hide\n",
    "# cols = ['name','group','day','value']"
   ]
  },
  {
   "cell_type": "code",
   "execution_count": 37,
   "id": "continued-sleeping",
   "metadata": {
    "execution": {
     "iopub.execute_input": "2022-09-01T00:43:12.760231Z",
     "iopub.status.busy": "2022-09-01T00:43:12.759495Z",
     "iopub.status.idle": "2022-09-01T00:43:12.761171Z",
     "shell.execute_reply": "2022-09-01T00:43:12.761713Z"
    },
    "papermill": {
     "duration": 0.032698,
     "end_time": "2022-09-01T00:43:12.761864",
     "exception": false,
     "start_time": "2022-09-01T00:43:12.729166",
     "status": "completed"
    },
    "tags": []
   },
   "outputs": [],
   "source": [
    "#hide\n",
    "# g.rename(columns= {'date':'day'},inplace = True)"
   ]
  },
  {
   "cell_type": "code",
   "execution_count": 38,
   "id": "major-fight",
   "metadata": {
    "execution": {
     "iopub.execute_input": "2022-09-01T00:43:12.827135Z",
     "iopub.status.busy": "2022-09-01T00:43:12.826439Z",
     "iopub.status.idle": "2022-09-01T00:43:12.828664Z",
     "shell.execute_reply": "2022-09-01T00:43:12.828140Z"
    },
    "papermill": {
     "duration": 0.036103,
     "end_time": "2022-09-01T00:43:12.828769",
     "exception": false,
     "start_time": "2022-09-01T00:43:12.792666",
     "status": "completed"
    },
    "tags": []
   },
   "outputs": [],
   "source": [
    "#hide\n",
    "# g = g[cols]"
   ]
  },
  {
   "cell_type": "code",
   "execution_count": 39,
   "id": "structured-mobile",
   "metadata": {
    "execution": {
     "iopub.execute_input": "2022-09-01T00:43:12.886748Z",
     "iopub.status.busy": "2022-09-01T00:43:12.886047Z",
     "iopub.status.idle": "2022-09-01T00:43:12.890015Z",
     "shell.execute_reply": "2022-09-01T00:43:12.889529Z"
    },
    "papermill": {
     "duration": 0.034424,
     "end_time": "2022-09-01T00:43:12.890131",
     "exception": false,
     "start_time": "2022-09-01T00:43:12.855707",
     "status": "completed"
    },
    "tags": []
   },
   "outputs": [],
   "source": [
    "# #hide\n",
    "# g = g[g.group.notna()]"
   ]
  },
  {
   "cell_type": "code",
   "execution_count": 40,
   "id": "determined-closing",
   "metadata": {
    "execution": {
     "iopub.execute_input": "2022-09-01T00:43:12.955331Z",
     "iopub.status.busy": "2022-09-01T00:43:12.954617Z",
     "iopub.status.idle": "2022-09-01T00:43:12.956419Z",
     "shell.execute_reply": "2022-09-01T00:43:12.956979Z"
    },
    "papermill": {
     "duration": 0.036562,
     "end_time": "2022-09-01T00:43:12.957132",
     "exception": false,
     "start_time": "2022-09-01T00:43:12.920570",
     "status": "completed"
    },
    "tags": []
   },
   "outputs": [],
   "source": [
    "# #hide\n",
    "# colors = dict(zip(\n",
    "#     [\"Oceania\", \"Europe\", \"Asia\", \"South America\", \"Middle East\", \"North America\", \"Africa\"],\n",
    "#     [\"#adb0ff\", \"#ffb3ff\", \"#90d595\", \"#e48381\", \"#aafbff\", \"#f7bb5f\", \"#eafb50\"]\n",
    "# ))\n",
    "# group_lk = g.set_index('name')['group'].to_dict()"
   ]
  },
  {
   "cell_type": "code",
   "execution_count": null,
   "id": "gross-drinking",
   "metadata": {
    "papermill": {
     "duration": 0.026854,
     "end_time": "2022-09-01T00:43:13.011442",
     "exception": false,
     "start_time": "2022-09-01T00:43:12.984588",
     "status": "completed"
    },
    "tags": []
   },
   "outputs": [],
   "source": []
  },
  {
   "cell_type": "code",
   "execution_count": 41,
   "id": "subject-macintosh",
   "metadata": {
    "execution": {
     "iopub.execute_input": "2022-09-01T00:43:13.070687Z",
     "iopub.status.busy": "2022-09-01T00:43:13.070114Z",
     "iopub.status.idle": "2022-09-01T00:43:13.072200Z",
     "shell.execute_reply": "2022-09-01T00:43:13.072642Z"
    },
    "papermill": {
     "duration": 0.034362,
     "end_time": "2022-09-01T00:43:13.072771",
     "exception": false,
     "start_time": "2022-09-01T00:43:13.038409",
     "status": "completed"
    },
    "tags": []
   },
   "outputs": [],
   "source": [
    "# #hide\n",
    "# fig, ax = plt.subplots(figsize=(15, 8))\n",
    "\n",
    "# def draw_barchart(current_day):\n",
    "#     dff = g[g['day'].eq(current_day)].sort_values(by='value', ascending=True).tail(10)\n",
    "#     ax.clear()\n",
    "#     ax.barh(dff['name'], dff['value'], color=[colors[group_lk[x]] for x in dff['name']])\n",
    "#     dx = dff['value'].max() / 200\n",
    "    \n",
    "#     for i, (value, name) in enumerate(zip(dff['value'], dff['name'])):\n",
    "#         ax.text(value-dx, i,     name,           size=14, weight=600, ha='right', va='bottom')\n",
    "#         ax.text(value-dx, i-.25, group_lk[name], size=10, color='#444444', ha='right', va='baseline')\n",
    "#         ax.text(value+dx, i,     f'{value:,.0f}',  size=14, ha='left',  va='center')\n",
    "#     ax.text(1, 0.4, current_day, transform=ax.transAxes, color='#777777', size=46, ha='right', weight=800)\n",
    "#     ax.text(0, 1.06, 'Population (thousands)', transform=ax.transAxes, size=12, color='#777777')\n",
    "#     ax.xaxis.set_major_formatter(ticker.StrMethodFormatter('{x:,.0f}'))\n",
    "#     ax.xaxis.set_ticks_position('top')\n",
    "#     ax.tick_params(axis='x', colors='#777777', labelsize=12)\n",
    "#     ax.set_yticks([])\n",
    "#     ax.margins(0, 0.01)\n",
    "#     ax.grid(which='major', axis='x', linestyle='-')\n",
    "#     ax.set_axisbelow(True)\n",
    "    \n",
    "#     ax.text(0, 1.15, 'Coronavirus',\n",
    "#             transform=ax.transAxes, size=24, weight=600, ha='left', va='top')\n",
    "# #     ax.text(1, 0, 'by @pratapvardhan; credit @jburnmurdoch', transform=ax.transAxes, color='#777777', ha='right',\n",
    "# #             bbox=dict(facecolor='white', alpha=0.8, edgecolor='white'))\n",
    "#     plt.box(False)"
   ]
  },
  {
   "cell_type": "code",
   "execution_count": 42,
   "id": "sexual-wages",
   "metadata": {
    "execution": {
     "iopub.execute_input": "2022-09-01T00:43:13.130863Z",
     "iopub.status.busy": "2022-09-01T00:43:13.130142Z",
     "iopub.status.idle": "2022-09-01T00:43:13.131682Z",
     "shell.execute_reply": "2022-09-01T00:43:13.132348Z"
    },
    "papermill": {
     "duration": 0.033003,
     "end_time": "2022-09-01T00:43:13.132506",
     "exception": false,
     "start_time": "2022-09-01T00:43:13.099503",
     "status": "completed"
    },
    "tags": []
   },
   "outputs": [],
   "source": [
    "# #hide_input\n",
    "# fig, ax = plt.subplots(figsize=(15, 8))\n",
    "# animator = animation.FuncAnimation(fig, draw_barchart, frames=range(g.day.values.min(), g.day.values.max()))\n",
    "# HTML(animator.to_jshtml())\n",
    "# # or use animator.to_html5_video() or animator.save() "
   ]
  },
  {
   "cell_type": "code",
   "execution_count": null,
   "id": "australian-container",
   "metadata": {
    "papermill": {
     "duration": 0.030144,
     "end_time": "2022-09-01T00:43:13.193140",
     "exception": false,
     "start_time": "2022-09-01T00:43:13.162996",
     "status": "completed"
    },
    "tags": []
   },
   "outputs": [],
   "source": []
  },
  {
   "cell_type": "code",
   "execution_count": null,
   "id": "mediterranean-pontiac",
   "metadata": {
    "papermill": {
     "duration": 0.03034,
     "end_time": "2022-09-01T00:43:13.253765",
     "exception": false,
     "start_time": "2022-09-01T00:43:13.223425",
     "status": "completed"
    },
    "tags": []
   },
   "outputs": [],
   "source": []
  },
  {
   "cell_type": "code",
   "execution_count": null,
   "id": "aging-legislature",
   "metadata": {
    "papermill": {
     "duration": 0.030125,
     "end_time": "2022-09-01T00:43:13.314443",
     "exception": false,
     "start_time": "2022-09-01T00:43:13.284318",
     "status": "completed"
    },
    "tags": []
   },
   "outputs": [],
   "source": []
  }
 ],
 "metadata": {
  "kernelspec": {
   "display_name": "Python 3",
   "language": "python",
   "name": "python3"
  },
  "language_info": {
   "codemirror_mode": {
    "name": "ipython",
    "version": 3
   },
   "file_extension": ".py",
   "mimetype": "text/x-python",
   "name": "python",
   "nbconvert_exporter": "python",
   "pygments_lexer": "ipython3",
   "version": "3.6.15"
  },
  "papermill": {
   "duration": 6.19647,
   "end_time": "2022-09-01T00:43:13.764459",
   "environment_variables": {},
   "exception": null,
   "input_path": "2020-03-21-covid19exp.ipynb",
   "output_path": "2020-03-21-covid19exp.ipynb",
   "parameters": {},
   "start_time": "2022-09-01T00:43:07.567989",
   "version": "2.0.0"
  }
 },
 "nbformat": 4,
 "nbformat_minor": 5
}