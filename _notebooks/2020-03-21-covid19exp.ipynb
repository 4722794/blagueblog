{
 "cells": [
  {
   "cell_type": "markdown",
   "id": "muslim-click",
   "metadata": {
    "papermill": {
     "duration": 0.033452,
     "end_time": "2021-05-01T12:11:08.721423",
     "exception": false,
     "start_time": "2021-05-01T12:11:08.687971",
     "status": "completed"
    },
    "tags": []
   },
   "source": [
    "# COVID-19 Case Race\n",
    "> A race chart to see rising cases around the world\n",
    "\n",
    "- author: Hargun Oberoi\n",
    "- image: images/covid-overview.png\n",
    "- hide: false\n",
    "- badges: false"
   ]
  },
  {
   "cell_type": "code",
   "execution_count": 1,
   "id": "proof-material",
   "metadata": {
    "execution": {
     "iopub.execute_input": "2021-05-01T12:11:08.785606Z",
     "iopub.status.busy": "2021-05-01T12:11:08.785100Z",
     "iopub.status.idle": "2021-05-01T12:11:09.085882Z",
     "shell.execute_reply": "2021-05-01T12:11:09.085296Z"
    },
    "papermill": {
     "duration": 0.337954,
     "end_time": "2021-05-01T12:11:09.086073",
     "exception": false,
     "start_time": "2021-05-01T12:11:08.748119",
     "status": "completed"
    },
    "tags": []
   },
   "outputs": [],
   "source": [
    "#hide\n",
    "import numpy as np\n",
    "import pandas as pd\n",
    "from jinja2 import Template\n",
    "from IPython.display import HTML"
   ]
  },
  {
   "cell_type": "code",
   "execution_count": 2,
   "id": "developed-terminology",
   "metadata": {
    "execution": {
     "iopub.execute_input": "2021-05-01T12:11:09.149114Z",
     "iopub.status.busy": "2021-05-01T12:11:09.148658Z",
     "iopub.status.idle": "2021-05-01T12:11:09.150911Z",
     "shell.execute_reply": "2021-05-01T12:11:09.150495Z"
    },
    "papermill": {
     "duration": 0.035831,
     "end_time": "2021-05-01T12:11:09.151002",
     "exception": false,
     "start_time": "2021-05-01T12:11:09.115171",
     "status": "completed"
    },
    "tags": []
   },
   "outputs": [],
   "source": [
    "#hide\n",
    "\n",
    "# FETCH\n",
    "base_url = 'https://raw.githubusercontent.com/pratapvardhan/notebooks/master/covid19/'\n",
    "paths = {\n",
    "    'mapping': base_url + 'mapping_countries.csv',\n",
    "    'overview': base_url + 'overview.tpl'\n",
    "}"
   ]
  },
  {
   "cell_type": "code",
   "execution_count": 3,
   "id": "dynamic-saver",
   "metadata": {
    "execution": {
     "iopub.execute_input": "2021-05-01T12:11:09.212936Z",
     "iopub.status.busy": "2021-05-01T12:11:09.212369Z",
     "iopub.status.idle": "2021-05-01T12:11:09.215844Z",
     "shell.execute_reply": "2021-05-01T12:11:09.216257Z"
    },
    "papermill": {
     "duration": 0.03913,
     "end_time": "2021-05-01T12:11:09.216359",
     "exception": false,
     "start_time": "2021-05-01T12:11:09.177229",
     "status": "completed"
    },
    "tags": []
   },
   "outputs": [
    {
     "data": {
      "text/plain": [
       "'https://raw.githubusercontent.com/pratapvardhan/notebooks/master/covid19/mapping_countries.csv'"
      ]
     },
     "execution_count": 3,
     "metadata": {},
     "output_type": "execute_result"
    }
   ],
   "source": [
    "#hide\n",
    "paths['mapping']"
   ]
  },
  {
   "cell_type": "code",
   "execution_count": 4,
   "id": "urban-software",
   "metadata": {
    "execution": {
     "iopub.execute_input": "2021-05-01T12:11:09.277074Z",
     "iopub.status.busy": "2021-05-01T12:11:09.276520Z",
     "iopub.status.idle": "2021-05-01T12:11:09.279990Z",
     "shell.execute_reply": "2021-05-01T12:11:09.279503Z"
    },
    "papermill": {
     "duration": 0.038719,
     "end_time": "2021-05-01T12:11:09.280087",
     "exception": false,
     "start_time": "2021-05-01T12:11:09.241368",
     "status": "completed"
    },
    "tags": []
   },
   "outputs": [],
   "source": [
    "#hide\n",
    "def get_mappings(url):\n",
    "    df = pd.read_csv(url)\n",
    "    return {\n",
    "        'df': df,\n",
    "        'replace.country': dict(df.dropna(subset=['Name']).set_index('Country')['Name']),\n",
    "        'map.continent': dict(df.set_index('Name')['Continent'])\n",
    "    }"
   ]
  },
  {
   "cell_type": "code",
   "execution_count": 5,
   "id": "intimate-machinery",
   "metadata": {
    "execution": {
     "iopub.execute_input": "2021-05-01T12:11:09.340849Z",
     "iopub.status.busy": "2021-05-01T12:11:09.340365Z",
     "iopub.status.idle": "2021-05-01T12:11:09.378836Z",
     "shell.execute_reply": "2021-05-01T12:11:09.378123Z"
    },
    "papermill": {
     "duration": 0.071787,
     "end_time": "2021-05-01T12:11:09.379010",
     "exception": false,
     "start_time": "2021-05-01T12:11:09.307223",
     "status": "completed"
    },
    "tags": []
   },
   "outputs": [],
   "source": [
    "#hide\n",
    "mapping = get_mappings(paths['mapping'])"
   ]
  },
  {
   "cell_type": "code",
   "execution_count": 6,
   "id": "certified-tactics",
   "metadata": {
    "execution": {
     "iopub.execute_input": "2021-05-01T12:11:09.438178Z",
     "iopub.status.busy": "2021-05-01T12:11:09.437639Z",
     "iopub.status.idle": "2021-05-01T12:11:09.440081Z",
     "shell.execute_reply": "2021-05-01T12:11:09.440607Z"
    },
    "papermill": {
     "duration": 0.032849,
     "end_time": "2021-05-01T12:11:09.440730",
     "exception": false,
     "start_time": "2021-05-01T12:11:09.407881",
     "status": "completed"
    },
    "tags": []
   },
   "outputs": [],
   "source": [
    "#hide\n",
    "def get_template(path):\n",
    "    from urllib.parse import urlparse\n",
    "    if bool(urlparse(path).netloc):\n",
    "        from urllib.request import urlopen\n",
    "        return urlopen(path).read().decode('utf8')\n",
    "    return open(path).read()"
   ]
  },
  {
   "cell_type": "code",
   "execution_count": 7,
   "id": "realistic-blast",
   "metadata": {
    "execution": {
     "iopub.execute_input": "2021-05-01T12:11:09.498857Z",
     "iopub.status.busy": "2021-05-01T12:11:09.498299Z",
     "iopub.status.idle": "2021-05-01T12:11:09.500574Z",
     "shell.execute_reply": "2021-05-01T12:11:09.500940Z"
    },
    "papermill": {
     "duration": 0.035099,
     "end_time": "2021-05-01T12:11:09.501036",
     "exception": false,
     "start_time": "2021-05-01T12:11:09.465937",
     "status": "completed"
    },
    "tags": []
   },
   "outputs": [],
   "source": [
    "#hide\n",
    "def get_frame(name):\n",
    "    url = (\n",
    "        'https://raw.githubusercontent.com/CSSEGISandData/COVID-19/master/csse_covid_19_data/'\n",
    "        f'csse_covid_19_time_series/time_series_covid19_{name}_global.csv')\n",
    "    df = pd.read_csv(url)\n",
    "    # rename countries\n",
    "    df['Country/Region'] = df['Country/Region'].replace(mapping['replace.country'])\n",
    "    return df"
   ]
  },
  {
   "cell_type": "code",
   "execution_count": 8,
   "id": "affiliated-characterization",
   "metadata": {
    "execution": {
     "iopub.execute_input": "2021-05-01T12:11:09.558825Z",
     "iopub.status.busy": "2021-05-01T12:11:09.558225Z",
     "iopub.status.idle": "2021-05-01T12:11:09.561056Z",
     "shell.execute_reply": "2021-05-01T12:11:09.561584Z"
    },
    "papermill": {
     "duration": 0.034257,
     "end_time": "2021-05-01T12:11:09.561705",
     "exception": false,
     "start_time": "2021-05-01T12:11:09.527448",
     "status": "completed"
    },
    "tags": []
   },
   "outputs": [],
   "source": [
    "#hide\n",
    "def get_dates(df):\n",
    "    dt_cols = df.columns[~df.columns.isin(['Province/State', 'Country/Region', 'Lat', 'Long'])]\n",
    "    LAST_DATE_I = -1\n",
    "    # sometimes last column may be empty, then go backwards\n",
    "    for i in range(-1, -len(dt_cols), -1):\n",
    "        if not df[dt_cols[i]].fillna(0).eq(0).all():\n",
    "            LAST_DATE_I = i\n",
    "            break\n",
    "    return LAST_DATE_I, dt_cols"
   ]
  },
  {
   "cell_type": "code",
   "execution_count": 9,
   "id": "recent-optimization",
   "metadata": {
    "execution": {
     "iopub.execute_input": "2021-05-01T12:11:09.619463Z",
     "iopub.status.busy": "2021-05-01T12:11:09.618163Z",
     "iopub.status.idle": "2021-05-01T12:11:09.906582Z",
     "shell.execute_reply": "2021-05-01T12:11:09.905605Z"
    },
    "papermill": {
     "duration": 0.319422,
     "end_time": "2021-05-01T12:11:09.906804",
     "exception": false,
     "start_time": "2021-05-01T12:11:09.587382",
     "status": "completed"
    },
    "tags": []
   },
   "outputs": [],
   "source": [
    "#hide\n",
    "COL_REGION = 'Country/Region'\n",
    "# Confirmed, Recovered, Deaths\n",
    "df = get_frame('confirmed')\n",
    "# dft_: timeseries, dfc_: today country agg\n",
    "dft_cases = df\n",
    "dft_deaths = get_frame('deaths')\n",
    "dft_recovered = get_frame('recovered')\n",
    "LAST_DATE_I, dt_cols = get_dates(df)"
   ]
  },
  {
   "cell_type": "code",
   "execution_count": 10,
   "id": "absolute-copper",
   "metadata": {
    "execution": {
     "iopub.execute_input": "2021-05-01T12:11:09.965509Z",
     "iopub.status.busy": "2021-05-01T12:11:09.964980Z",
     "iopub.status.idle": "2021-05-01T12:11:09.969230Z",
     "shell.execute_reply": "2021-05-01T12:11:09.968418Z"
    },
    "papermill": {
     "duration": 0.035249,
     "end_time": "2021-05-01T12:11:09.969324",
     "exception": false,
     "start_time": "2021-05-01T12:11:09.934075",
     "status": "completed"
    },
    "tags": []
   },
   "outputs": [],
   "source": [
    "#hide\n",
    "LAST_DATE_I, dt_cols = get_dates(df)\n",
    "dt_today =dt_cols[LAST_DATE_I]\n",
    "# dt_5day = dt_cols[LAST_DATE_I - 5]\n",
    "dt_yday = dt_cols[LAST_DATE_I - 1]"
   ]
  },
  {
   "cell_type": "code",
   "execution_count": 11,
   "id": "restricted-sheriff",
   "metadata": {
    "execution": {
     "iopub.execute_input": "2021-05-01T12:11:10.027957Z",
     "iopub.status.busy": "2021-05-01T12:11:10.027193Z",
     "iopub.status.idle": "2021-05-01T12:11:10.031712Z",
     "shell.execute_reply": "2021-05-01T12:11:10.031354Z"
    },
    "papermill": {
     "duration": 0.036353,
     "end_time": "2021-05-01T12:11:10.031797",
     "exception": false,
     "start_time": "2021-05-01T12:11:09.995444",
     "status": "completed"
    },
    "tags": []
   },
   "outputs": [],
   "source": [
    "#hide\n",
    "dfc_cases = dft_cases.groupby(COL_REGION)[dt_today].sum()\n",
    "dfc_deaths = dft_deaths.groupby(COL_REGION)[dt_today].sum()\n",
    "# dfp_cases = dft_cases.groupby(COL_REGION)[dt_5day].sum()\n",
    "# dfp_deaths = dft_deaths.groupby(COL_REGION)[dt_5day].sum()\n",
    "dfp_cases = dft_cases.groupby(COL_REGION)[dt_yday].sum()\n",
    "dfp_deaths = dft_deaths.groupby(COL_REGION)[dt_yday].sum()"
   ]
  },
  {
   "cell_type": "code",
   "execution_count": 12,
   "id": "deluxe-hepatitis",
   "metadata": {
    "execution": {
     "iopub.execute_input": "2021-05-01T12:11:10.089670Z",
     "iopub.status.busy": "2021-05-01T12:11:10.087876Z",
     "iopub.status.idle": "2021-05-01T12:11:10.092880Z",
     "shell.execute_reply": "2021-05-01T12:11:10.092521Z"
    },
    "papermill": {
     "duration": 0.03575,
     "end_time": "2021-05-01T12:11:10.092962",
     "exception": false,
     "start_time": "2021-05-01T12:11:10.057212",
     "status": "completed"
    },
    "tags": []
   },
   "outputs": [],
   "source": [
    "#hide\n",
    "df_table = (pd.DataFrame(dict(Cases = dfc_cases, Deaths = dfc_deaths, PCases = dfp_cases, PDeaths = dfp_deaths))\n",
    "            .sort_values(by = ['Cases','Deaths'], ascending = [False, False])\n",
    "            .reset_index())"
   ]
  },
  {
   "cell_type": "code",
   "execution_count": 13,
   "id": "educational-chancellor",
   "metadata": {
    "execution": {
     "iopub.execute_input": "2021-05-01T12:11:10.161198Z",
     "iopub.status.busy": "2021-05-01T12:11:10.160770Z",
     "iopub.status.idle": "2021-05-01T12:11:10.166805Z",
     "shell.execute_reply": "2021-05-01T12:11:10.166465Z"
    },
    "papermill": {
     "duration": 0.04925,
     "end_time": "2021-05-01T12:11:10.166890",
     "exception": false,
     "start_time": "2021-05-01T12:11:10.117640",
     "status": "completed"
    },
    "tags": []
   },
   "outputs": [
    {
     "data": {
      "text/html": [
       "<div>\n",
       "<style scoped>\n",
       "    .dataframe tbody tr th:only-of-type {\n",
       "        vertical-align: middle;\n",
       "    }\n",
       "\n",
       "    .dataframe tbody tr th {\n",
       "        vertical-align: top;\n",
       "    }\n",
       "\n",
       "    .dataframe thead th {\n",
       "        text-align: right;\n",
       "    }\n",
       "</style>\n",
       "<table border=\"1\" class=\"dataframe\">\n",
       "  <thead>\n",
       "    <tr style=\"text-align: right;\">\n",
       "      <th></th>\n",
       "      <th>Country/Region</th>\n",
       "      <th>Cases</th>\n",
       "      <th>Deaths</th>\n",
       "      <th>PCases</th>\n",
       "      <th>PDeaths</th>\n",
       "      <th>Cases (+)</th>\n",
       "      <th>Deaths (+)</th>\n",
       "      <th>Fatality Rate</th>\n",
       "      <th>Continent</th>\n",
       "    </tr>\n",
       "  </thead>\n",
       "  <tbody>\n",
       "    <tr>\n",
       "      <th>0</th>\n",
       "      <td>US</td>\n",
       "      <td>32345430</td>\n",
       "      <td>576232</td>\n",
       "      <td>32289049</td>\n",
       "      <td>575194</td>\n",
       "      <td>56381</td>\n",
       "      <td>1038</td>\n",
       "      <td>1.78</td>\n",
       "      <td>North America</td>\n",
       "    </tr>\n",
       "    <tr>\n",
       "      <th>1</th>\n",
       "      <td>India</td>\n",
       "      <td>19164969</td>\n",
       "      <td>211853</td>\n",
       "      <td>18762976</td>\n",
       "      <td>208330</td>\n",
       "      <td>401993</td>\n",
       "      <td>3523</td>\n",
       "      <td>1.11</td>\n",
       "      <td>Asia</td>\n",
       "    </tr>\n",
       "    <tr>\n",
       "      <th>2</th>\n",
       "      <td>Brazil</td>\n",
       "      <td>14659011</td>\n",
       "      <td>403781</td>\n",
       "      <td>14590678</td>\n",
       "      <td>401186</td>\n",
       "      <td>68333</td>\n",
       "      <td>2595</td>\n",
       "      <td>2.75</td>\n",
       "      <td>South America</td>\n",
       "    </tr>\n",
       "    <tr>\n",
       "      <th>3</th>\n",
       "      <td>France</td>\n",
       "      <td>5677835</td>\n",
       "      <td>104675</td>\n",
       "      <td>5653533</td>\n",
       "      <td>104385</td>\n",
       "      <td>24302</td>\n",
       "      <td>290</td>\n",
       "      <td>1.84</td>\n",
       "      <td>Europe</td>\n",
       "    </tr>\n",
       "    <tr>\n",
       "      <th>4</th>\n",
       "      <td>Turkey</td>\n",
       "      <td>4820591</td>\n",
       "      <td>40131</td>\n",
       "      <td>4788700</td>\n",
       "      <td>39737</td>\n",
       "      <td>31891</td>\n",
       "      <td>394</td>\n",
       "      <td>0.83</td>\n",
       "      <td>Asia</td>\n",
       "    </tr>\n",
       "  </tbody>\n",
       "</table>\n",
       "</div>"
      ],
      "text/plain": [
       "  Country/Region     Cases  Deaths    PCases  PDeaths  Cases (+)  Deaths (+)  \\\n",
       "0             US  32345430  576232  32289049   575194      56381        1038   \n",
       "1          India  19164969  211853  18762976   208330     401993        3523   \n",
       "2         Brazil  14659011  403781  14590678   401186      68333        2595   \n",
       "3         France   5677835  104675   5653533   104385      24302         290   \n",
       "4         Turkey   4820591   40131   4788700    39737      31891         394   \n",
       "\n",
       "   Fatality Rate      Continent  \n",
       "0           1.78  North America  \n",
       "1           1.11           Asia  \n",
       "2           2.75  South America  \n",
       "3           1.84         Europe  \n",
       "4           0.83           Asia  "
      ]
     },
     "execution_count": 13,
     "metadata": {},
     "output_type": "execute_result"
    }
   ],
   "source": [
    "#hide\n",
    "for c in 'Cases, Deaths'.split(', '):\n",
    "    df_table[f'{c} (+)'] = (df_table[c] - df_table[f'P{c}']).clip(0)\n",
    "    #Clip ça veut dire, les chiffres negatif sont interdit\n",
    "df_table['Fatality Rate'] = (100* df_table['Deaths']/ df_table['Cases']).round(2)\n",
    "df_table['Continent'] = df_table['Country/Region'].map(mapping['map.continent'])\n",
    "df_table.head(5)"
   ]
  },
  {
   "cell_type": "code",
   "execution_count": 14,
   "id": "aboriginal-bulgaria",
   "metadata": {
    "execution": {
     "iopub.execute_input": "2021-05-01T12:11:10.230208Z",
     "iopub.status.busy": "2021-05-01T12:11:10.229752Z",
     "iopub.status.idle": "2021-05-01T12:11:10.232210Z",
     "shell.execute_reply": "2021-05-01T12:11:10.231790Z"
    },
    "papermill": {
     "duration": 0.037646,
     "end_time": "2021-05-01T12:11:10.232296",
     "exception": false,
     "start_time": "2021-05-01T12:11:10.194650",
     "status": "completed"
    },
    "tags": []
   },
   "outputs": [],
   "source": [
    "#hide\n",
    "#delete problematic countries from table\n",
    "df_table = df_table[~df_table['Country/Region'].isin(['Cape Verde', 'Cruise Ship', 'Kosovo'])]"
   ]
  },
  {
   "cell_type": "code",
   "execution_count": 15,
   "id": "fantastic-effect",
   "metadata": {
    "execution": {
     "iopub.execute_input": "2021-05-01T12:11:10.300489Z",
     "iopub.status.busy": "2021-05-01T12:11:10.299891Z",
     "iopub.status.idle": "2021-05-01T12:11:10.316900Z",
     "shell.execute_reply": "2021-05-01T12:11:10.317420Z"
    },
    "papermill": {
     "duration": 0.057034,
     "end_time": "2021-05-01T12:11:10.317566",
     "exception": false,
     "start_time": "2021-05-01T12:11:10.260532",
     "status": "completed"
    },
    "tags": []
   },
   "outputs": [
    {
     "data": {
      "text/html": [
       "<div>\n",
       "<style scoped>\n",
       "    .dataframe tbody tr th:only-of-type {\n",
       "        vertical-align: middle;\n",
       "    }\n",
       "\n",
       "    .dataframe tbody tr th {\n",
       "        vertical-align: top;\n",
       "    }\n",
       "\n",
       "    .dataframe thead th {\n",
       "        text-align: right;\n",
       "    }\n",
       "</style>\n",
       "<table border=\"1\" class=\"dataframe\">\n",
       "  <thead>\n",
       "    <tr style=\"text-align: right;\">\n",
       "      <th></th>\n",
       "      <th>Country/Region</th>\n",
       "      <th>Cases</th>\n",
       "      <th>Deaths</th>\n",
       "      <th>PCases</th>\n",
       "      <th>PDeaths</th>\n",
       "      <th>Cases (+)</th>\n",
       "      <th>Deaths (+)</th>\n",
       "      <th>Fatality Rate</th>\n",
       "      <th>Continent</th>\n",
       "    </tr>\n",
       "  </thead>\n",
       "  <tbody>\n",
       "    <tr>\n",
       "      <th>0</th>\n",
       "      <td>US</td>\n",
       "      <td>32345430</td>\n",
       "      <td>576232</td>\n",
       "      <td>32289049</td>\n",
       "      <td>575194</td>\n",
       "      <td>56381</td>\n",
       "      <td>1038</td>\n",
       "      <td>1.8</td>\n",
       "      <td>North America</td>\n",
       "    </tr>\n",
       "    <tr>\n",
       "      <th>1</th>\n",
       "      <td>India</td>\n",
       "      <td>19164969</td>\n",
       "      <td>211853</td>\n",
       "      <td>18762976</td>\n",
       "      <td>208330</td>\n",
       "      <td>401993</td>\n",
       "      <td>3523</td>\n",
       "      <td>1.1</td>\n",
       "      <td>Asia</td>\n",
       "    </tr>\n",
       "    <tr>\n",
       "      <th>2</th>\n",
       "      <td>Brazil</td>\n",
       "      <td>14659011</td>\n",
       "      <td>403781</td>\n",
       "      <td>14590678</td>\n",
       "      <td>401186</td>\n",
       "      <td>68333</td>\n",
       "      <td>2595</td>\n",
       "      <td>2.8</td>\n",
       "      <td>South America</td>\n",
       "    </tr>\n",
       "    <tr>\n",
       "      <th>3</th>\n",
       "      <td>France</td>\n",
       "      <td>5677835</td>\n",
       "      <td>104675</td>\n",
       "      <td>5653533</td>\n",
       "      <td>104385</td>\n",
       "      <td>24302</td>\n",
       "      <td>290</td>\n",
       "      <td>1.8</td>\n",
       "      <td>Europe</td>\n",
       "    </tr>\n",
       "    <tr>\n",
       "      <th>4</th>\n",
       "      <td>Turkey</td>\n",
       "      <td>4820591</td>\n",
       "      <td>40131</td>\n",
       "      <td>4788700</td>\n",
       "      <td>39737</td>\n",
       "      <td>31891</td>\n",
       "      <td>394</td>\n",
       "      <td>0.8</td>\n",
       "      <td>Asia</td>\n",
       "    </tr>\n",
       "  </tbody>\n",
       "</table>\n",
       "</div>"
      ],
      "text/plain": [
       "  Country/Region     Cases  Deaths    PCases  PDeaths  Cases (+)  Deaths (+)  \\\n",
       "0             US  32345430  576232  32289049   575194      56381        1038   \n",
       "1          India  19164969  211853  18762976   208330     401993        3523   \n",
       "2         Brazil  14659011  403781  14590678   401186      68333        2595   \n",
       "3         France   5677835  104675   5653533   104385      24302         290   \n",
       "4         Turkey   4820591   40131   4788700    39737      31891         394   \n",
       "\n",
       "   Fatality Rate      Continent  \n",
       "0            1.8  North America  \n",
       "1            1.1           Asia  \n",
       "2            2.8  South America  \n",
       "3            1.8         Europe  \n",
       "4            0.8           Asia  "
      ]
     },
     "execution_count": 15,
     "metadata": {},
     "output_type": "execute_result"
    }
   ],
   "source": [
    "#hide\n",
    "df_table = (pd.DataFrame(dict(Cases=dfc_cases, Deaths=dfc_deaths, PCases=dfp_cases, PDeaths=dfp_deaths))\n",
    "             .sort_values(by=['Cases', 'Deaths'], ascending=[False, False])\n",
    "             .reset_index())\n",
    "df_table.rename(columns={'index': 'Country/Region'}, inplace=True)\n",
    "for c in 'Cases, Deaths'.split(', '):\n",
    "    df_table[f'{c} (+)'] = (df_table[c] - df_table[f'P{c}']).clip(0)  # DATA BUG\n",
    "df_table['Fatality Rate'] = (100 * df_table['Deaths'] / df_table['Cases']).round(1)\n",
    "df_table['Continent'] = df_table['Country/Region'].map(mapping['map.continent'])\n",
    "df_table.head(5)"
   ]
  },
  {
   "cell_type": "code",
   "execution_count": 16,
   "id": "fewer-occasion",
   "metadata": {
    "execution": {
     "iopub.execute_input": "2021-05-01T12:11:10.377713Z",
     "iopub.status.busy": "2021-05-01T12:11:10.377286Z",
     "iopub.status.idle": "2021-05-01T12:11:10.379704Z",
     "shell.execute_reply": "2021-05-01T12:11:10.380067Z"
    },
    "papermill": {
     "duration": 0.033742,
     "end_time": "2021-05-01T12:11:10.380209",
     "exception": false,
     "start_time": "2021-05-01T12:11:10.346467",
     "status": "completed"
    },
    "tags": []
   },
   "outputs": [],
   "source": [
    "#hide\n",
    "#delete problematic countries from table\n",
    "df_table = df_table[~df_table['Country/Region'].isin(['Cape Verde', 'Cruise Ship', 'Kosovo'])]"
   ]
  },
  {
   "cell_type": "code",
   "execution_count": 17,
   "id": "related-center",
   "metadata": {
    "execution": {
     "iopub.execute_input": "2021-05-01T12:11:10.452842Z",
     "iopub.status.busy": "2021-05-01T12:11:10.452306Z",
     "iopub.status.idle": "2021-05-01T12:11:10.455075Z",
     "shell.execute_reply": "2021-05-01T12:11:10.454662Z"
    },
    "papermill": {
     "duration": 0.04676,
     "end_time": "2021-05-01T12:11:10.455172",
     "exception": false,
     "start_time": "2021-05-01T12:11:10.408412",
     "status": "completed"
    },
    "tags": []
   },
   "outputs": [],
   "source": [
    "#hide\n",
    "metrics = [df_table.columns[index] for index in [1,2,5,6]]\n",
    "# s_china = df_table[df_table['Country/Region'].eq('China')][metrics].sum().add_prefix('China ')\n",
    "s_us = df_table[df_table['Country/Region'].eq('US')][metrics].sum().add_prefix('US ')\n",
    "s_eu = df_table[df_table['Continent'].eq('Europe')][metrics].sum().add_prefix('EU ')\n",
    "s_ind = df_table[df_table['Country/Region'].eq('India')][metrics].sum().add_prefix('India ')\n",
    "summary = {'updated': pd.to_datetime(dt_today), 'since': pd.to_datetime(dt_yday)}\n",
    "summary = {'updated': pd.to_datetime(dt_today), 'since': pd.to_datetime(dt_yday)}\n",
    "summary = {**summary, **df_table[metrics].sum(), **s_ind, **s_us, **s_eu}"
   ]
  },
  {
   "cell_type": "code",
   "execution_count": 18,
   "id": "engaging-syndrome",
   "metadata": {
    "execution": {
     "iopub.execute_input": "2021-05-01T12:11:10.515370Z",
     "iopub.status.busy": "2021-05-01T12:11:10.514867Z",
     "iopub.status.idle": "2021-05-01T12:11:10.528330Z",
     "shell.execute_reply": "2021-05-01T12:11:10.527502Z"
    },
    "papermill": {
     "duration": 0.046497,
     "end_time": "2021-05-01T12:11:10.528422",
     "exception": false,
     "start_time": "2021-05-01T12:11:10.481925",
     "status": "completed"
    },
    "tags": []
   },
   "outputs": [],
   "source": [
    "#hide\n",
    "dft_ct_new_cases = dft_cases.groupby(COL_REGION)[dt_cols].sum().diff(axis=1).fillna(0).astype(int)"
   ]
  },
  {
   "cell_type": "code",
   "execution_count": 19,
   "id": "neutral-assignment",
   "metadata": {
    "execution": {
     "iopub.execute_input": "2021-05-01T12:11:10.587051Z",
     "iopub.status.busy": "2021-05-01T12:11:10.586563Z",
     "iopub.status.idle": "2021-05-01T12:11:10.589050Z",
     "shell.execute_reply": "2021-05-01T12:11:10.589368Z"
    },
    "papermill": {
     "duration": 0.034307,
     "end_time": "2021-05-01T12:11:10.589469",
     "exception": false,
     "start_time": "2021-05-01T12:11:10.555162",
     "status": "completed"
    },
    "tags": []
   },
   "outputs": [],
   "source": [
    "#hide\n",
    "everydaycases = dft_ct_new_cases.cumsum(axis=1)"
   ]
  },
  {
   "cell_type": "code",
   "execution_count": 20,
   "id": "parliamentary-calgary",
   "metadata": {
    "execution": {
     "iopub.execute_input": "2021-05-01T12:11:10.646204Z",
     "iopub.status.busy": "2021-05-01T12:11:10.645090Z",
     "iopub.status.idle": "2021-05-01T12:11:11.081862Z",
     "shell.execute_reply": "2021-05-01T12:11:11.081079Z"
    },
    "papermill": {
     "duration": 0.466556,
     "end_time": "2021-05-01T12:11:11.082002",
     "exception": false,
     "start_time": "2021-05-01T12:11:10.615446",
     "status": "completed"
    },
    "tags": []
   },
   "outputs": [],
   "source": [
    "#hide\n",
    "import pandas as pd\n",
    "import matplotlib.pyplot as plt\n",
    "import matplotlib.ticker as ticker\n",
    "import matplotlib.animation as animation\n",
    "from IPython.display import HTML"
   ]
  },
  {
   "cell_type": "code",
   "execution_count": 21,
   "id": "lasting-extraction",
   "metadata": {
    "execution": {
     "iopub.execute_input": "2021-05-01T12:11:11.144539Z",
     "iopub.status.busy": "2021-05-01T12:11:11.144052Z",
     "iopub.status.idle": "2021-05-01T12:11:11.149275Z",
     "shell.execute_reply": "2021-05-01T12:11:11.148881Z"
    },
    "papermill": {
     "duration": 0.03943,
     "end_time": "2021-05-01T12:11:11.149384",
     "exception": false,
     "start_time": "2021-05-01T12:11:11.109954",
     "status": "completed"
    },
    "tags": []
   },
   "outputs": [],
   "source": [
    "#hide\n",
    "t = everydaycases.stack()"
   ]
  },
  {
   "cell_type": "code",
   "execution_count": 22,
   "id": "premier-sleeve",
   "metadata": {
    "execution": {
     "iopub.execute_input": "2021-05-01T12:11:11.207914Z",
     "iopub.status.busy": "2021-05-01T12:11:11.207488Z",
     "iopub.status.idle": "2021-05-01T12:11:11.218315Z",
     "shell.execute_reply": "2021-05-01T12:11:11.217926Z"
    },
    "papermill": {
     "duration": 0.042092,
     "end_time": "2021-05-01T12:11:11.218406",
     "exception": false,
     "start_time": "2021-05-01T12:11:11.176314",
     "status": "completed"
    },
    "tags": []
   },
   "outputs": [],
   "source": [
    "#hide\n",
    "g = t.reset_index(['Country/Region'])"
   ]
  },
  {
   "cell_type": "code",
   "execution_count": 23,
   "id": "distributed-pittsburgh",
   "metadata": {
    "execution": {
     "iopub.execute_input": "2021-05-01T12:11:11.275227Z",
     "iopub.status.busy": "2021-05-01T12:11:11.274810Z",
     "iopub.status.idle": "2021-05-01T12:11:11.277265Z",
     "shell.execute_reply": "2021-05-01T12:11:11.277631Z"
    },
    "papermill": {
     "duration": 0.032945,
     "end_time": "2021-05-01T12:11:11.277739",
     "exception": false,
     "start_time": "2021-05-01T12:11:11.244794",
     "status": "completed"
    },
    "tags": []
   },
   "outputs": [],
   "source": [
    "#hide\n",
    "g.index.name = 'date'"
   ]
  },
  {
   "cell_type": "code",
   "execution_count": 24,
   "id": "naked-donor",
   "metadata": {
    "execution": {
     "iopub.execute_input": "2021-05-01T12:11:11.336749Z",
     "iopub.status.busy": "2021-05-01T12:11:11.336197Z",
     "iopub.status.idle": "2021-05-01T12:11:11.338768Z",
     "shell.execute_reply": "2021-05-01T12:11:11.338291Z"
    },
    "papermill": {
     "duration": 0.032243,
     "end_time": "2021-05-01T12:11:11.338885",
     "exception": false,
     "start_time": "2021-05-01T12:11:11.306642",
     "status": "completed"
    },
    "tags": []
   },
   "outputs": [],
   "source": [
    "# #hide\n",
    "# g = g.reset_index(['date'])"
   ]
  },
  {
   "cell_type": "code",
   "execution_count": 25,
   "id": "incomplete-mustang",
   "metadata": {
    "execution": {
     "iopub.execute_input": "2021-05-01T12:11:11.397873Z",
     "iopub.status.busy": "2021-05-01T12:11:11.397395Z",
     "iopub.status.idle": "2021-05-01T12:11:11.400019Z",
     "shell.execute_reply": "2021-05-01T12:11:11.399660Z"
    },
    "papermill": {
     "duration": 0.033115,
     "end_time": "2021-05-01T12:11:11.400102",
     "exception": false,
     "start_time": "2021-05-01T12:11:11.366987",
     "status": "completed"
    },
    "tags": []
   },
   "outputs": [],
   "source": [
    "#hide\n",
    "# g.head()"
   ]
  },
  {
   "cell_type": "code",
   "execution_count": 26,
   "id": "specific-kruger",
   "metadata": {
    "execution": {
     "iopub.execute_input": "2021-05-01T12:11:11.457952Z",
     "iopub.status.busy": "2021-05-01T12:11:11.457445Z",
     "iopub.status.idle": "2021-05-01T12:11:11.459572Z",
     "shell.execute_reply": "2021-05-01T12:11:11.459235Z"
    },
    "papermill": {
     "duration": 0.032057,
     "end_time": "2021-05-01T12:11:11.459657",
     "exception": false,
     "start_time": "2021-05-01T12:11:11.427600",
     "status": "completed"
    },
    "tags": []
   },
   "outputs": [],
   "source": [
    "#hide\n",
    "# g.columns = ['date','country','cases']"
   ]
  },
  {
   "cell_type": "code",
   "execution_count": 27,
   "id": "tender-conversion",
   "metadata": {
    "execution": {
     "iopub.execute_input": "2021-05-01T12:11:11.518833Z",
     "iopub.status.busy": "2021-05-01T12:11:11.518242Z",
     "iopub.status.idle": "2021-05-01T12:11:11.520775Z",
     "shell.execute_reply": "2021-05-01T12:11:11.520339Z"
    },
    "papermill": {
     "duration": 0.033309,
     "end_time": "2021-05-01T12:11:11.520884",
     "exception": false,
     "start_time": "2021-05-01T12:11:11.487575",
     "status": "completed"
    },
    "tags": []
   },
   "outputs": [],
   "source": [
    "#hide\n",
    "# g['continent'] = g.country"
   ]
  },
  {
   "cell_type": "code",
   "execution_count": 28,
   "id": "substantial-wilderness",
   "metadata": {
    "execution": {
     "iopub.execute_input": "2021-05-01T12:11:11.579275Z",
     "iopub.status.busy": "2021-05-01T12:11:11.578686Z",
     "iopub.status.idle": "2021-05-01T12:11:11.581339Z",
     "shell.execute_reply": "2021-05-01T12:11:11.580858Z"
    },
    "papermill": {
     "duration": 0.031958,
     "end_time": "2021-05-01T12:11:11.581443",
     "exception": false,
     "start_time": "2021-05-01T12:11:11.549485",
     "status": "completed"
    },
    "tags": []
   },
   "outputs": [],
   "source": [
    "#hide\n",
    "# cols = list(g.columns.values)"
   ]
  },
  {
   "cell_type": "code",
   "execution_count": 29,
   "id": "solved-farming",
   "metadata": {
    "execution": {
     "iopub.execute_input": "2021-05-01T12:11:11.640538Z",
     "iopub.status.busy": "2021-05-01T12:11:11.640035Z",
     "iopub.status.idle": "2021-05-01T12:11:11.642159Z",
     "shell.execute_reply": "2021-05-01T12:11:11.641769Z"
    },
    "papermill": {
     "duration": 0.033269,
     "end_time": "2021-05-01T12:11:11.642258",
     "exception": false,
     "start_time": "2021-05-01T12:11:11.608989",
     "status": "completed"
    },
    "tags": []
   },
   "outputs": [],
   "source": [
    "#hide\n",
    "# cols.insert(0, cols.pop())"
   ]
  },
  {
   "cell_type": "code",
   "execution_count": 30,
   "id": "executed-adoption",
   "metadata": {
    "execution": {
     "iopub.execute_input": "2021-05-01T12:11:11.700359Z",
     "iopub.status.busy": "2021-05-01T12:11:11.699775Z",
     "iopub.status.idle": "2021-05-01T12:11:11.702268Z",
     "shell.execute_reply": "2021-05-01T12:11:11.702686Z"
    },
    "papermill": {
     "duration": 0.034717,
     "end_time": "2021-05-01T12:11:11.702792",
     "exception": false,
     "start_time": "2021-05-01T12:11:11.668075",
     "status": "completed"
    },
    "tags": []
   },
   "outputs": [],
   "source": [
    "#hide\n",
    "# g = g[cols]"
   ]
  },
  {
   "cell_type": "code",
   "execution_count": 31,
   "id": "subject-dublin",
   "metadata": {
    "execution": {
     "iopub.execute_input": "2021-05-01T12:11:11.762159Z",
     "iopub.status.busy": "2021-05-01T12:11:11.761721Z",
     "iopub.status.idle": "2021-05-01T12:11:11.763779Z",
     "shell.execute_reply": "2021-05-01T12:11:11.763425Z"
    },
    "papermill": {
     "duration": 0.032784,
     "end_time": "2021-05-01T12:11:11.763861",
     "exception": false,
     "start_time": "2021-05-01T12:11:11.731077",
     "status": "completed"
    },
    "tags": []
   },
   "outputs": [],
   "source": [
    "#hide\n",
    "# g['continent'] = g['continent'].map(mapping['map.continent'])"
   ]
  },
  {
   "cell_type": "code",
   "execution_count": 32,
   "id": "freelance-scout",
   "metadata": {
    "execution": {
     "iopub.execute_input": "2021-05-01T12:11:11.823292Z",
     "iopub.status.busy": "2021-05-01T12:11:11.822748Z",
     "iopub.status.idle": "2021-05-01T12:11:11.824692Z",
     "shell.execute_reply": "2021-05-01T12:11:11.825202Z"
    },
    "papermill": {
     "duration": 0.034275,
     "end_time": "2021-05-01T12:11:11.825328",
     "exception": false,
     "start_time": "2021-05-01T12:11:11.791053",
     "status": "completed"
    },
    "tags": []
   },
   "outputs": [],
   "source": [
    "#hide\n",
    "# g.head()"
   ]
  },
  {
   "cell_type": "code",
   "execution_count": 33,
   "id": "limited-engine",
   "metadata": {
    "execution": {
     "iopub.execute_input": "2021-05-01T12:11:11.883782Z",
     "iopub.status.busy": "2021-05-01T12:11:11.883279Z",
     "iopub.status.idle": "2021-05-01T12:11:11.885604Z",
     "shell.execute_reply": "2021-05-01T12:11:11.885135Z"
    },
    "papermill": {
     "duration": 0.032529,
     "end_time": "2021-05-01T12:11:11.885706",
     "exception": false,
     "start_time": "2021-05-01T12:11:11.853177",
     "status": "completed"
    },
    "tags": []
   },
   "outputs": [],
   "source": [
    "# hide\n",
    "# g['date'] = g['date'].astype('datetime64[ns]')"
   ]
  },
  {
   "cell_type": "code",
   "execution_count": 34,
   "id": "sophisticated-supervisor",
   "metadata": {
    "execution": {
     "iopub.execute_input": "2021-05-01T12:11:11.945450Z",
     "iopub.status.busy": "2021-05-01T12:11:11.945033Z",
     "iopub.status.idle": "2021-05-01T12:11:11.947097Z",
     "shell.execute_reply": "2021-05-01T12:11:11.946713Z"
    },
    "papermill": {
     "duration": 0.033981,
     "end_time": "2021-05-01T12:11:11.947191",
     "exception": false,
     "start_time": "2021-05-01T12:11:11.913210",
     "status": "completed"
    },
    "tags": []
   },
   "outputs": [],
   "source": [
    "#hide\n",
    "# g['date'] = g.date.dt.dayofyear"
   ]
  },
  {
   "cell_type": "code",
   "execution_count": 35,
   "id": "inside-dubai",
   "metadata": {
    "execution": {
     "iopub.execute_input": "2021-05-01T12:11:12.002700Z",
     "iopub.status.busy": "2021-05-01T12:11:12.002218Z",
     "iopub.status.idle": "2021-05-01T12:11:12.004142Z",
     "shell.execute_reply": "2021-05-01T12:11:12.004589Z"
    },
    "papermill": {
     "duration": 0.032139,
     "end_time": "2021-05-01T12:11:12.004718",
     "exception": false,
     "start_time": "2021-05-01T12:11:11.972579",
     "status": "completed"
    },
    "tags": []
   },
   "outputs": [],
   "source": [
    "#hide\n",
    "# g = g.rename(columns= {'continent':'group','country':'name','cases':'value'})"
   ]
  },
  {
   "cell_type": "code",
   "execution_count": 36,
   "id": "fleet-motorcycle",
   "metadata": {
    "execution": {
     "iopub.execute_input": "2021-05-01T12:11:12.064107Z",
     "iopub.status.busy": "2021-05-01T12:11:12.063690Z",
     "iopub.status.idle": "2021-05-01T12:11:12.066313Z",
     "shell.execute_reply": "2021-05-01T12:11:12.066689Z"
    },
    "papermill": {
     "duration": 0.033996,
     "end_time": "2021-05-01T12:11:12.066782",
     "exception": false,
     "start_time": "2021-05-01T12:11:12.032786",
     "status": "completed"
    },
    "tags": []
   },
   "outputs": [],
   "source": [
    "#hide\n",
    "# cols = ['name','group','day','value']"
   ]
  },
  {
   "cell_type": "code",
   "execution_count": 37,
   "id": "continued-sleeping",
   "metadata": {
    "execution": {
     "iopub.execute_input": "2021-05-01T12:11:12.123369Z",
     "iopub.status.busy": "2021-05-01T12:11:12.122948Z",
     "iopub.status.idle": "2021-05-01T12:11:12.125249Z",
     "shell.execute_reply": "2021-05-01T12:11:12.125714Z"
    },
    "papermill": {
     "duration": 0.031916,
     "end_time": "2021-05-01T12:11:12.125840",
     "exception": false,
     "start_time": "2021-05-01T12:11:12.093924",
     "status": "completed"
    },
    "tags": []
   },
   "outputs": [],
   "source": [
    "#hide\n",
    "# g.rename(columns= {'date':'day'},inplace = True)"
   ]
  },
  {
   "cell_type": "code",
   "execution_count": 38,
   "id": "major-fight",
   "metadata": {
    "execution": {
     "iopub.execute_input": "2021-05-01T12:11:12.185681Z",
     "iopub.status.busy": "2021-05-01T12:11:12.185236Z",
     "iopub.status.idle": "2021-05-01T12:11:12.188289Z",
     "shell.execute_reply": "2021-05-01T12:11:12.187946Z"
    },
    "papermill": {
     "duration": 0.03475,
     "end_time": "2021-05-01T12:11:12.188374",
     "exception": false,
     "start_time": "2021-05-01T12:11:12.153624",
     "status": "completed"
    },
    "tags": []
   },
   "outputs": [],
   "source": [
    "#hide\n",
    "# g = g[cols]"
   ]
  },
  {
   "cell_type": "code",
   "execution_count": 39,
   "id": "structured-mobile",
   "metadata": {
    "execution": {
     "iopub.execute_input": "2021-05-01T12:11:12.246424Z",
     "iopub.status.busy": "2021-05-01T12:11:12.245932Z",
     "iopub.status.idle": "2021-05-01T12:11:12.248408Z",
     "shell.execute_reply": "2021-05-01T12:11:12.248941Z"
    },
    "papermill": {
     "duration": 0.034756,
     "end_time": "2021-05-01T12:11:12.249033",
     "exception": false,
     "start_time": "2021-05-01T12:11:12.214277",
     "status": "completed"
    },
    "tags": []
   },
   "outputs": [],
   "source": [
    "# #hide\n",
    "# g = g[g.group.notna()]"
   ]
  },
  {
   "cell_type": "code",
   "execution_count": 40,
   "id": "determined-closing",
   "metadata": {
    "execution": {
     "iopub.execute_input": "2021-05-01T12:11:12.308802Z",
     "iopub.status.busy": "2021-05-01T12:11:12.308212Z",
     "iopub.status.idle": "2021-05-01T12:11:12.310736Z",
     "shell.execute_reply": "2021-05-01T12:11:12.310332Z"
    },
    "papermill": {
     "duration": 0.032965,
     "end_time": "2021-05-01T12:11:12.310831",
     "exception": false,
     "start_time": "2021-05-01T12:11:12.277866",
     "status": "completed"
    },
    "tags": []
   },
   "outputs": [],
   "source": [
    "# #hide\n",
    "# colors = dict(zip(\n",
    "#     [\"Oceania\", \"Europe\", \"Asia\", \"South America\", \"Middle East\", \"North America\", \"Africa\"],\n",
    "#     [\"#adb0ff\", \"#ffb3ff\", \"#90d595\", \"#e48381\", \"#aafbff\", \"#f7bb5f\", \"#eafb50\"]\n",
    "# ))\n",
    "# group_lk = g.set_index('name')['group'].to_dict()"
   ]
  },
  {
   "cell_type": "code",
   "execution_count": null,
   "id": "gross-drinking",
   "metadata": {
    "papermill": {
     "duration": 0.027113,
     "end_time": "2021-05-01T12:11:12.365072",
     "exception": false,
     "start_time": "2021-05-01T12:11:12.337959",
     "status": "completed"
    },
    "tags": []
   },
   "outputs": [],
   "source": []
  },
  {
   "cell_type": "code",
   "execution_count": 41,
   "id": "subject-macintosh",
   "metadata": {
    "execution": {
     "iopub.execute_input": "2021-05-01T12:11:12.423987Z",
     "iopub.status.busy": "2021-05-01T12:11:12.423485Z",
     "iopub.status.idle": "2021-05-01T12:11:12.425888Z",
     "shell.execute_reply": "2021-05-01T12:11:12.426444Z"
    },
    "papermill": {
     "duration": 0.033253,
     "end_time": "2021-05-01T12:11:12.426565",
     "exception": false,
     "start_time": "2021-05-01T12:11:12.393312",
     "status": "completed"
    },
    "tags": []
   },
   "outputs": [],
   "source": [
    "# #hide\n",
    "# fig, ax = plt.subplots(figsize=(15, 8))\n",
    "\n",
    "# def draw_barchart(current_day):\n",
    "#     dff = g[g['day'].eq(current_day)].sort_values(by='value', ascending=True).tail(10)\n",
    "#     ax.clear()\n",
    "#     ax.barh(dff['name'], dff['value'], color=[colors[group_lk[x]] for x in dff['name']])\n",
    "#     dx = dff['value'].max() / 200\n",
    "    \n",
    "#     for i, (value, name) in enumerate(zip(dff['value'], dff['name'])):\n",
    "#         ax.text(value-dx, i,     name,           size=14, weight=600, ha='right', va='bottom')\n",
    "#         ax.text(value-dx, i-.25, group_lk[name], size=10, color='#444444', ha='right', va='baseline')\n",
    "#         ax.text(value+dx, i,     f'{value:,.0f}',  size=14, ha='left',  va='center')\n",
    "#     ax.text(1, 0.4, current_day, transform=ax.transAxes, color='#777777', size=46, ha='right', weight=800)\n",
    "#     ax.text(0, 1.06, 'Population (thousands)', transform=ax.transAxes, size=12, color='#777777')\n",
    "#     ax.xaxis.set_major_formatter(ticker.StrMethodFormatter('{x:,.0f}'))\n",
    "#     ax.xaxis.set_ticks_position('top')\n",
    "#     ax.tick_params(axis='x', colors='#777777', labelsize=12)\n",
    "#     ax.set_yticks([])\n",
    "#     ax.margins(0, 0.01)\n",
    "#     ax.grid(which='major', axis='x', linestyle='-')\n",
    "#     ax.set_axisbelow(True)\n",
    "    \n",
    "#     ax.text(0, 1.15, 'Coronavirus',\n",
    "#             transform=ax.transAxes, size=24, weight=600, ha='left', va='top')\n",
    "# #     ax.text(1, 0, 'by @pratapvardhan; credit @jburnmurdoch', transform=ax.transAxes, color='#777777', ha='right',\n",
    "# #             bbox=dict(facecolor='white', alpha=0.8, edgecolor='white'))\n",
    "#     plt.box(False)"
   ]
  },
  {
   "cell_type": "code",
   "execution_count": 42,
   "id": "sexual-wages",
   "metadata": {
    "execution": {
     "iopub.execute_input": "2021-05-01T12:11:12.486104Z",
     "iopub.status.busy": "2021-05-01T12:11:12.485530Z",
     "iopub.status.idle": "2021-05-01T12:11:12.487938Z",
     "shell.execute_reply": "2021-05-01T12:11:12.488422Z"
    },
    "papermill": {
     "duration": 0.034781,
     "end_time": "2021-05-01T12:11:12.488539",
     "exception": false,
     "start_time": "2021-05-01T12:11:12.453758",
     "status": "completed"
    },
    "tags": []
   },
   "outputs": [],
   "source": [
    "# #hide_input\n",
    "# fig, ax = plt.subplots(figsize=(15, 8))\n",
    "# animator = animation.FuncAnimation(fig, draw_barchart, frames=range(g.day.values.min(), g.day.values.max()))\n",
    "# HTML(animator.to_jshtml())\n",
    "# # or use animator.to_html5_video() or animator.save() "
   ]
  },
  {
   "cell_type": "code",
   "execution_count": null,
   "id": "australian-container",
   "metadata": {
    "papermill": {
     "duration": 0.028446,
     "end_time": "2021-05-01T12:11:12.543854",
     "exception": false,
     "start_time": "2021-05-01T12:11:12.515408",
     "status": "completed"
    },
    "tags": []
   },
   "outputs": [],
   "source": []
  },
  {
   "cell_type": "code",
   "execution_count": null,
   "id": "mediterranean-pontiac",
   "metadata": {
    "papermill": {
     "duration": 0.028891,
     "end_time": "2021-05-01T12:11:12.602323",
     "exception": false,
     "start_time": "2021-05-01T12:11:12.573432",
     "status": "completed"
    },
    "tags": []
   },
   "outputs": [],
   "source": []
  },
  {
   "cell_type": "code",
   "execution_count": null,
   "id": "aging-legislature",
   "metadata": {
    "papermill": {
     "duration": 0.029184,
     "end_time": "2021-05-01T12:11:12.658930",
     "exception": false,
     "start_time": "2021-05-01T12:11:12.629746",
     "status": "completed"
    },
    "tags": []
   },
   "outputs": [],
   "source": []
  }
 ],
 "metadata": {
  "kernelspec": {
   "display_name": "Python 3",
   "language": "python",
   "name": "python3"
  },
  "language_info": {
   "codemirror_mode": {
    "name": "ipython",
    "version": 3
   },
   "file_extension": ".py",
   "mimetype": "text/x-python",
   "name": "python",
   "nbconvert_exporter": "python",
   "pygments_lexer": "ipython3",
   "version": "3.6.13"
  },
  "papermill": {
   "duration": 6.281024,
   "end_time": "2021-05-01T12:11:13.874834",
   "environment_variables": {},
   "exception": null,
   "input_path": "2020-03-21-covid19exp.ipynb",
   "output_path": "2020-03-21-covid19exp.ipynb",
   "parameters": {},
   "start_time": "2021-05-01T12:11:07.593810",
   "version": "2.0.0"
  }
 },
 "nbformat": 4,
 "nbformat_minor": 5
}