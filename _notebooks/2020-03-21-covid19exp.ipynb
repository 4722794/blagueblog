{
 "cells": [
  {
   "cell_type": "markdown",
   "id": "muslim-click",
   "metadata": {
    "papermill": {
     "duration": 0.0441,
     "end_time": "2021-04-01T00:06:35.432146",
     "exception": false,
     "start_time": "2021-04-01T00:06:35.388046",
     "status": "completed"
    },
    "tags": []
   },
   "source": [
    "# COVID-19 Case Race\n",
    "> A race chart to see rising cases around the world\n",
    "\n",
    "- author: Hargun Oberoi\n",
    "- image: images/covid-overview.png\n",
    "- hide: false\n",
    "- badges: false"
   ]
  },
  {
   "cell_type": "code",
   "execution_count": 1,
   "id": "proof-material",
   "metadata": {
    "execution": {
     "iopub.execute_input": "2021-04-01T00:06:35.523604Z",
     "iopub.status.busy": "2021-04-01T00:06:35.522860Z",
     "iopub.status.idle": "2021-04-01T00:06:35.903188Z",
     "shell.execute_reply": "2021-04-01T00:06:35.902178Z"
    },
    "papermill": {
     "duration": 0.431553,
     "end_time": "2021-04-01T00:06:35.903345",
     "exception": false,
     "start_time": "2021-04-01T00:06:35.471792",
     "status": "completed"
    },
    "tags": []
   },
   "outputs": [],
   "source": [
    "#hide\n",
    "import numpy as np\n",
    "import pandas as pd\n",
    "from jinja2 import Template\n",
    "from IPython.display import HTML"
   ]
  },
  {
   "cell_type": "code",
   "execution_count": 2,
   "id": "developed-terminology",
   "metadata": {
    "execution": {
     "iopub.execute_input": "2021-04-01T00:06:35.988358Z",
     "iopub.status.busy": "2021-04-01T00:06:35.987648Z",
     "iopub.status.idle": "2021-04-01T00:06:35.989601Z",
     "shell.execute_reply": "2021-04-01T00:06:35.990184Z"
    },
    "papermill": {
     "duration": 0.046194,
     "end_time": "2021-04-01T00:06:35.990351",
     "exception": false,
     "start_time": "2021-04-01T00:06:35.944157",
     "status": "completed"
    },
    "tags": []
   },
   "outputs": [],
   "source": [
    "#hide\n",
    "\n",
    "# FETCH\n",
    "base_url = 'https://raw.githubusercontent.com/pratapvardhan/notebooks/master/covid19/'\n",
    "paths = {\n",
    "    'mapping': base_url + 'mapping_countries.csv',\n",
    "    'overview': base_url + 'overview.tpl'\n",
    "}"
   ]
  },
  {
   "cell_type": "code",
   "execution_count": 3,
   "id": "dynamic-saver",
   "metadata": {
    "execution": {
     "iopub.execute_input": "2021-04-01T00:06:36.079841Z",
     "iopub.status.busy": "2021-04-01T00:06:36.079051Z",
     "iopub.status.idle": "2021-04-01T00:06:36.081776Z",
     "shell.execute_reply": "2021-04-01T00:06:36.082427Z"
    },
    "papermill": {
     "duration": 0.05238,
     "end_time": "2021-04-01T00:06:36.082591",
     "exception": false,
     "start_time": "2021-04-01T00:06:36.030211",
     "status": "completed"
    },
    "tags": []
   },
   "outputs": [
    {
     "data": {
      "text/plain": [
       "'https://raw.githubusercontent.com/pratapvardhan/notebooks/master/covid19/mapping_countries.csv'"
      ]
     },
     "execution_count": 3,
     "metadata": {},
     "output_type": "execute_result"
    }
   ],
   "source": [
    "#hide\n",
    "paths['mapping']"
   ]
  },
  {
   "cell_type": "code",
   "execution_count": 4,
   "id": "urban-software",
   "metadata": {
    "execution": {
     "iopub.execute_input": "2021-04-01T00:06:36.165594Z",
     "iopub.status.busy": "2021-04-01T00:06:36.164941Z",
     "iopub.status.idle": "2021-04-01T00:06:36.167093Z",
     "shell.execute_reply": "2021-04-01T00:06:36.167609Z"
    },
    "papermill": {
     "duration": 0.047232,
     "end_time": "2021-04-01T00:06:36.167753",
     "exception": false,
     "start_time": "2021-04-01T00:06:36.120521",
     "status": "completed"
    },
    "tags": []
   },
   "outputs": [],
   "source": [
    "#hide\n",
    "def get_mappings(url):\n",
    "    df = pd.read_csv(url)\n",
    "    return {\n",
    "        'df': df,\n",
    "        'replace.country': dict(df.dropna(subset=['Name']).set_index('Country')['Name']),\n",
    "        'map.continent': dict(df.set_index('Name')['Continent'])\n",
    "    }"
   ]
  },
  {
   "cell_type": "code",
   "execution_count": 5,
   "id": "intimate-machinery",
   "metadata": {
    "execution": {
     "iopub.execute_input": "2021-04-01T00:06:36.250161Z",
     "iopub.status.busy": "2021-04-01T00:06:36.249367Z",
     "iopub.status.idle": "2021-04-01T00:06:36.294540Z",
     "shell.execute_reply": "2021-04-01T00:06:36.293908Z"
    },
    "papermill": {
     "duration": 0.088644,
     "end_time": "2021-04-01T00:06:36.294703",
     "exception": false,
     "start_time": "2021-04-01T00:06:36.206059",
     "status": "completed"
    },
    "tags": []
   },
   "outputs": [],
   "source": [
    "#hide\n",
    "mapping = get_mappings(paths['mapping'])"
   ]
  },
  {
   "cell_type": "code",
   "execution_count": 6,
   "id": "certified-tactics",
   "metadata": {
    "execution": {
     "iopub.execute_input": "2021-04-01T00:06:36.378497Z",
     "iopub.status.busy": "2021-04-01T00:06:36.377822Z",
     "iopub.status.idle": "2021-04-01T00:06:36.379270Z",
     "shell.execute_reply": "2021-04-01T00:06:36.379879Z"
    },
    "papermill": {
     "duration": 0.046618,
     "end_time": "2021-04-01T00:06:36.380025",
     "exception": false,
     "start_time": "2021-04-01T00:06:36.333407",
     "status": "completed"
    },
    "tags": []
   },
   "outputs": [],
   "source": [
    "#hide\n",
    "def get_template(path):\n",
    "    from urllib.parse import urlparse\n",
    "    if bool(urlparse(path).netloc):\n",
    "        from urllib.request import urlopen\n",
    "        return urlopen(path).read().decode('utf8')\n",
    "    return open(path).read()"
   ]
  },
  {
   "cell_type": "code",
   "execution_count": 7,
   "id": "realistic-blast",
   "metadata": {
    "execution": {
     "iopub.execute_input": "2021-04-01T00:06:36.465404Z",
     "iopub.status.busy": "2021-04-01T00:06:36.464713Z",
     "iopub.status.idle": "2021-04-01T00:06:36.467257Z",
     "shell.execute_reply": "2021-04-01T00:06:36.466711Z"
    },
    "papermill": {
     "duration": 0.047516,
     "end_time": "2021-04-01T00:06:36.467406",
     "exception": false,
     "start_time": "2021-04-01T00:06:36.419890",
     "status": "completed"
    },
    "tags": []
   },
   "outputs": [],
   "source": [
    "#hide\n",
    "def get_frame(name):\n",
    "    url = (\n",
    "        'https://raw.githubusercontent.com/CSSEGISandData/COVID-19/master/csse_covid_19_data/'\n",
    "        f'csse_covid_19_time_series/time_series_covid19_{name}_global.csv')\n",
    "    df = pd.read_csv(url)\n",
    "    # rename countries\n",
    "    df['Country/Region'] = df['Country/Region'].replace(mapping['replace.country'])\n",
    "    return df"
   ]
  },
  {
   "cell_type": "code",
   "execution_count": 8,
   "id": "affiliated-characterization",
   "metadata": {
    "execution": {
     "iopub.execute_input": "2021-04-01T00:06:36.552993Z",
     "iopub.status.busy": "2021-04-01T00:06:36.552291Z",
     "iopub.status.idle": "2021-04-01T00:06:36.555050Z",
     "shell.execute_reply": "2021-04-01T00:06:36.554450Z"
    },
    "papermill": {
     "duration": 0.047967,
     "end_time": "2021-04-01T00:06:36.555184",
     "exception": false,
     "start_time": "2021-04-01T00:06:36.507217",
     "status": "completed"
    },
    "tags": []
   },
   "outputs": [],
   "source": [
    "#hide\n",
    "def get_dates(df):\n",
    "    dt_cols = df.columns[~df.columns.isin(['Province/State', 'Country/Region', 'Lat', 'Long'])]\n",
    "    LAST_DATE_I = -1\n",
    "    # sometimes last column may be empty, then go backwards\n",
    "    for i in range(-1, -len(dt_cols), -1):\n",
    "        if not df[dt_cols[i]].fillna(0).eq(0).all():\n",
    "            LAST_DATE_I = i\n",
    "            break\n",
    "    return LAST_DATE_I, dt_cols"
   ]
  },
  {
   "cell_type": "code",
   "execution_count": 9,
   "id": "recent-optimization",
   "metadata": {
    "execution": {
     "iopub.execute_input": "2021-04-01T00:06:36.641598Z",
     "iopub.status.busy": "2021-04-01T00:06:36.640862Z",
     "iopub.status.idle": "2021-04-01T00:06:37.016586Z",
     "shell.execute_reply": "2021-04-01T00:06:37.016002Z"
    },
    "papermill": {
     "duration": 0.422547,
     "end_time": "2021-04-01T00:06:37.016726",
     "exception": false,
     "start_time": "2021-04-01T00:06:36.594179",
     "status": "completed"
    },
    "tags": []
   },
   "outputs": [],
   "source": [
    "#hide\n",
    "COL_REGION = 'Country/Region'\n",
    "# Confirmed, Recovered, Deaths\n",
    "df = get_frame('confirmed')\n",
    "# dft_: timeseries, dfc_: today country agg\n",
    "dft_cases = df\n",
    "dft_deaths = get_frame('deaths')\n",
    "dft_recovered = get_frame('recovered')\n",
    "LAST_DATE_I, dt_cols = get_dates(df)"
   ]
  },
  {
   "cell_type": "code",
   "execution_count": 10,
   "id": "absolute-copper",
   "metadata": {
    "execution": {
     "iopub.execute_input": "2021-04-01T00:06:37.101442Z",
     "iopub.status.busy": "2021-04-01T00:06:37.100763Z",
     "iopub.status.idle": "2021-04-01T00:06:37.102830Z",
     "shell.execute_reply": "2021-04-01T00:06:37.103420Z"
    },
    "papermill": {
     "duration": 0.046888,
     "end_time": "2021-04-01T00:06:37.103560",
     "exception": false,
     "start_time": "2021-04-01T00:06:37.056672",
     "status": "completed"
    },
    "tags": []
   },
   "outputs": [],
   "source": [
    "#hide\n",
    "LAST_DATE_I, dt_cols = get_dates(df)\n",
    "dt_today =dt_cols[LAST_DATE_I]\n",
    "# dt_5day = dt_cols[LAST_DATE_I - 5]\n",
    "dt_yday = dt_cols[LAST_DATE_I - 1]"
   ]
  },
  {
   "cell_type": "code",
   "execution_count": 11,
   "id": "restricted-sheriff",
   "metadata": {
    "execution": {
     "iopub.execute_input": "2021-04-01T00:06:37.185676Z",
     "iopub.status.busy": "2021-04-01T00:06:37.185047Z",
     "iopub.status.idle": "2021-04-01T00:06:37.194138Z",
     "shell.execute_reply": "2021-04-01T00:06:37.193568Z"
    },
    "papermill": {
     "duration": 0.053875,
     "end_time": "2021-04-01T00:06:37.194266",
     "exception": false,
     "start_time": "2021-04-01T00:06:37.140391",
     "status": "completed"
    },
    "tags": []
   },
   "outputs": [],
   "source": [
    "#hide\n",
    "dfc_cases = dft_cases.groupby(COL_REGION)[dt_today].sum()\n",
    "dfc_deaths = dft_deaths.groupby(COL_REGION)[dt_today].sum()\n",
    "# dfp_cases = dft_cases.groupby(COL_REGION)[dt_5day].sum()\n",
    "# dfp_deaths = dft_deaths.groupby(COL_REGION)[dt_5day].sum()\n",
    "dfp_cases = dft_cases.groupby(COL_REGION)[dt_yday].sum()\n",
    "dfp_deaths = dft_deaths.groupby(COL_REGION)[dt_yday].sum()"
   ]
  },
  {
   "cell_type": "code",
   "execution_count": 12,
   "id": "deluxe-hepatitis",
   "metadata": {
    "execution": {
     "iopub.execute_input": "2021-04-01T00:06:37.278608Z",
     "iopub.status.busy": "2021-04-01T00:06:37.277917Z",
     "iopub.status.idle": "2021-04-01T00:06:37.283155Z",
     "shell.execute_reply": "2021-04-01T00:06:37.284005Z"
    },
    "papermill": {
     "duration": 0.051898,
     "end_time": "2021-04-01T00:06:37.284312",
     "exception": false,
     "start_time": "2021-04-01T00:06:37.232414",
     "status": "completed"
    },
    "tags": []
   },
   "outputs": [],
   "source": [
    "#hide\n",
    "df_table = (pd.DataFrame(dict(Cases = dfc_cases, Deaths = dfc_deaths, PCases = dfp_cases, PDeaths = dfp_deaths))\n",
    "            .sort_values(by = ['Cases','Deaths'], ascending = [False, False])\n",
    "            .reset_index())"
   ]
  },
  {
   "cell_type": "code",
   "execution_count": 13,
   "id": "educational-chancellor",
   "metadata": {
    "execution": {
     "iopub.execute_input": "2021-04-01T00:06:37.385486Z",
     "iopub.status.busy": "2021-04-01T00:06:37.384757Z",
     "iopub.status.idle": "2021-04-01T00:06:37.393274Z",
     "shell.execute_reply": "2021-04-01T00:06:37.393932Z"
    },
    "papermill": {
     "duration": 0.071525,
     "end_time": "2021-04-01T00:06:37.394087",
     "exception": false,
     "start_time": "2021-04-01T00:06:37.322562",
     "status": "completed"
    },
    "tags": []
   },
   "outputs": [
    {
     "data": {
      "text/html": [
       "<div>\n",
       "<style scoped>\n",
       "    .dataframe tbody tr th:only-of-type {\n",
       "        vertical-align: middle;\n",
       "    }\n",
       "\n",
       "    .dataframe tbody tr th {\n",
       "        vertical-align: top;\n",
       "    }\n",
       "\n",
       "    .dataframe thead th {\n",
       "        text-align: right;\n",
       "    }\n",
       "</style>\n",
       "<table border=\"1\" class=\"dataframe\">\n",
       "  <thead>\n",
       "    <tr style=\"text-align: right;\">\n",
       "      <th></th>\n",
       "      <th>Country/Region</th>\n",
       "      <th>Cases</th>\n",
       "      <th>Deaths</th>\n",
       "      <th>PCases</th>\n",
       "      <th>PDeaths</th>\n",
       "      <th>Cases (+)</th>\n",
       "      <th>Deaths (+)</th>\n",
       "      <th>Fatality Rate</th>\n",
       "      <th>Continent</th>\n",
       "    </tr>\n",
       "  </thead>\n",
       "  <tbody>\n",
       "    <tr>\n",
       "      <th>0</th>\n",
       "      <td>US</td>\n",
       "      <td>30393701</td>\n",
       "      <td>550996</td>\n",
       "      <td>30332461</td>\n",
       "      <td>550121</td>\n",
       "      <td>61240</td>\n",
       "      <td>875</td>\n",
       "      <td>1.81</td>\n",
       "      <td>North America</td>\n",
       "    </tr>\n",
       "    <tr>\n",
       "      <th>1</th>\n",
       "      <td>Brazil</td>\n",
       "      <td>12658109</td>\n",
       "      <td>317646</td>\n",
       "      <td>12573615</td>\n",
       "      <td>313866</td>\n",
       "      <td>84494</td>\n",
       "      <td>3780</td>\n",
       "      <td>2.51</td>\n",
       "      <td>South America</td>\n",
       "    </tr>\n",
       "    <tr>\n",
       "      <th>2</th>\n",
       "      <td>India</td>\n",
       "      <td>12149335</td>\n",
       "      <td>162468</td>\n",
       "      <td>12095855</td>\n",
       "      <td>162114</td>\n",
       "      <td>53480</td>\n",
       "      <td>354</td>\n",
       "      <td>1.34</td>\n",
       "      <td>Asia</td>\n",
       "    </tr>\n",
       "    <tr>\n",
       "      <th>3</th>\n",
       "      <td>France</td>\n",
       "      <td>4646014</td>\n",
       "      <td>95495</td>\n",
       "      <td>4615295</td>\n",
       "      <td>95114</td>\n",
       "      <td>30719</td>\n",
       "      <td>381</td>\n",
       "      <td>2.06</td>\n",
       "      <td>Europe</td>\n",
       "    </tr>\n",
       "    <tr>\n",
       "      <th>4</th>\n",
       "      <td>Russia</td>\n",
       "      <td>4486078</td>\n",
       "      <td>96817</td>\n",
       "      <td>4477916</td>\n",
       "      <td>96413</td>\n",
       "      <td>8162</td>\n",
       "      <td>404</td>\n",
       "      <td>2.16</td>\n",
       "      <td>Europe</td>\n",
       "    </tr>\n",
       "  </tbody>\n",
       "</table>\n",
       "</div>"
      ],
      "text/plain": [
       "  Country/Region     Cases  Deaths    PCases  PDeaths  Cases (+)  Deaths (+)  \\\n",
       "0             US  30393701  550996  30332461   550121      61240         875   \n",
       "1         Brazil  12658109  317646  12573615   313866      84494        3780   \n",
       "2          India  12149335  162468  12095855   162114      53480         354   \n",
       "3         France   4646014   95495   4615295    95114      30719         381   \n",
       "4         Russia   4486078   96817   4477916    96413       8162         404   \n",
       "\n",
       "   Fatality Rate      Continent  \n",
       "0           1.81  North America  \n",
       "1           2.51  South America  \n",
       "2           1.34           Asia  \n",
       "3           2.06         Europe  \n",
       "4           2.16         Europe  "
      ]
     },
     "execution_count": 13,
     "metadata": {},
     "output_type": "execute_result"
    }
   ],
   "source": [
    "#hide\n",
    "for c in 'Cases, Deaths'.split(', '):\n",
    "    df_table[f'{c} (+)'] = (df_table[c] - df_table[f'P{c}']).clip(0)\n",
    "    #Clip ça veut dire, les chiffres negatif sont interdit\n",
    "df_table['Fatality Rate'] = (100* df_table['Deaths']/ df_table['Cases']).round(2)\n",
    "df_table['Continent'] = df_table['Country/Region'].map(mapping['map.continent'])\n",
    "df_table.head(5)"
   ]
  },
  {
   "cell_type": "code",
   "execution_count": 14,
   "id": "aboriginal-bulgaria",
   "metadata": {
    "execution": {
     "iopub.execute_input": "2021-04-01T00:06:37.478182Z",
     "iopub.status.busy": "2021-04-01T00:06:37.477541Z",
     "iopub.status.idle": "2021-04-01T00:06:37.480270Z",
     "shell.execute_reply": "2021-04-01T00:06:37.479548Z"
    },
    "papermill": {
     "duration": 0.047976,
     "end_time": "2021-04-01T00:06:37.480394",
     "exception": false,
     "start_time": "2021-04-01T00:06:37.432418",
     "status": "completed"
    },
    "tags": []
   },
   "outputs": [],
   "source": [
    "#hide\n",
    "#delete problematic countries from table\n",
    "df_table = df_table[~df_table['Country/Region'].isin(['Cape Verde', 'Cruise Ship', 'Kosovo'])]"
   ]
  },
  {
   "cell_type": "code",
   "execution_count": 15,
   "id": "fantastic-effect",
   "metadata": {
    "execution": {
     "iopub.execute_input": "2021-04-01T00:06:37.568464Z",
     "iopub.status.busy": "2021-04-01T00:06:37.567820Z",
     "iopub.status.idle": "2021-04-01T00:06:37.589684Z",
     "shell.execute_reply": "2021-04-01T00:06:37.589164Z"
    },
    "papermill": {
     "duration": 0.070434,
     "end_time": "2021-04-01T00:06:37.589831",
     "exception": false,
     "start_time": "2021-04-01T00:06:37.519397",
     "status": "completed"
    },
    "tags": []
   },
   "outputs": [
    {
     "data": {
      "text/html": [
       "<div>\n",
       "<style scoped>\n",
       "    .dataframe tbody tr th:only-of-type {\n",
       "        vertical-align: middle;\n",
       "    }\n",
       "\n",
       "    .dataframe tbody tr th {\n",
       "        vertical-align: top;\n",
       "    }\n",
       "\n",
       "    .dataframe thead th {\n",
       "        text-align: right;\n",
       "    }\n",
       "</style>\n",
       "<table border=\"1\" class=\"dataframe\">\n",
       "  <thead>\n",
       "    <tr style=\"text-align: right;\">\n",
       "      <th></th>\n",
       "      <th>Country/Region</th>\n",
       "      <th>Cases</th>\n",
       "      <th>Deaths</th>\n",
       "      <th>PCases</th>\n",
       "      <th>PDeaths</th>\n",
       "      <th>Cases (+)</th>\n",
       "      <th>Deaths (+)</th>\n",
       "      <th>Fatality Rate</th>\n",
       "      <th>Continent</th>\n",
       "    </tr>\n",
       "  </thead>\n",
       "  <tbody>\n",
       "    <tr>\n",
       "      <th>0</th>\n",
       "      <td>US</td>\n",
       "      <td>30393701</td>\n",
       "      <td>550996</td>\n",
       "      <td>30332461</td>\n",
       "      <td>550121</td>\n",
       "      <td>61240</td>\n",
       "      <td>875</td>\n",
       "      <td>1.8</td>\n",
       "      <td>North America</td>\n",
       "    </tr>\n",
       "    <tr>\n",
       "      <th>1</th>\n",
       "      <td>Brazil</td>\n",
       "      <td>12658109</td>\n",
       "      <td>317646</td>\n",
       "      <td>12573615</td>\n",
       "      <td>313866</td>\n",
       "      <td>84494</td>\n",
       "      <td>3780</td>\n",
       "      <td>2.5</td>\n",
       "      <td>South America</td>\n",
       "    </tr>\n",
       "    <tr>\n",
       "      <th>2</th>\n",
       "      <td>India</td>\n",
       "      <td>12149335</td>\n",
       "      <td>162468</td>\n",
       "      <td>12095855</td>\n",
       "      <td>162114</td>\n",
       "      <td>53480</td>\n",
       "      <td>354</td>\n",
       "      <td>1.3</td>\n",
       "      <td>Asia</td>\n",
       "    </tr>\n",
       "    <tr>\n",
       "      <th>3</th>\n",
       "      <td>France</td>\n",
       "      <td>4646014</td>\n",
       "      <td>95495</td>\n",
       "      <td>4615295</td>\n",
       "      <td>95114</td>\n",
       "      <td>30719</td>\n",
       "      <td>381</td>\n",
       "      <td>2.1</td>\n",
       "      <td>Europe</td>\n",
       "    </tr>\n",
       "    <tr>\n",
       "      <th>4</th>\n",
       "      <td>Russia</td>\n",
       "      <td>4486078</td>\n",
       "      <td>96817</td>\n",
       "      <td>4477916</td>\n",
       "      <td>96413</td>\n",
       "      <td>8162</td>\n",
       "      <td>404</td>\n",
       "      <td>2.2</td>\n",
       "      <td>Europe</td>\n",
       "    </tr>\n",
       "  </tbody>\n",
       "</table>\n",
       "</div>"
      ],
      "text/plain": [
       "  Country/Region     Cases  Deaths    PCases  PDeaths  Cases (+)  Deaths (+)  \\\n",
       "0             US  30393701  550996  30332461   550121      61240         875   \n",
       "1         Brazil  12658109  317646  12573615   313866      84494        3780   \n",
       "2          India  12149335  162468  12095855   162114      53480         354   \n",
       "3         France   4646014   95495   4615295    95114      30719         381   \n",
       "4         Russia   4486078   96817   4477916    96413       8162         404   \n",
       "\n",
       "   Fatality Rate      Continent  \n",
       "0            1.8  North America  \n",
       "1            2.5  South America  \n",
       "2            1.3           Asia  \n",
       "3            2.1         Europe  \n",
       "4            2.2         Europe  "
      ]
     },
     "execution_count": 15,
     "metadata": {},
     "output_type": "execute_result"
    }
   ],
   "source": [
    "#hide\n",
    "df_table = (pd.DataFrame(dict(Cases=dfc_cases, Deaths=dfc_deaths, PCases=dfp_cases, PDeaths=dfp_deaths))\n",
    "             .sort_values(by=['Cases', 'Deaths'], ascending=[False, False])\n",
    "             .reset_index())\n",
    "df_table.rename(columns={'index': 'Country/Region'}, inplace=True)\n",
    "for c in 'Cases, Deaths'.split(', '):\n",
    "    df_table[f'{c} (+)'] = (df_table[c] - df_table[f'P{c}']).clip(0)  # DATA BUG\n",
    "df_table['Fatality Rate'] = (100 * df_table['Deaths'] / df_table['Cases']).round(1)\n",
    "df_table['Continent'] = df_table['Country/Region'].map(mapping['map.continent'])\n",
    "df_table.head(5)"
   ]
  },
  {
   "cell_type": "code",
   "execution_count": 16,
   "id": "fewer-occasion",
   "metadata": {
    "execution": {
     "iopub.execute_input": "2021-04-01T00:06:37.675095Z",
     "iopub.status.busy": "2021-04-01T00:06:37.674481Z",
     "iopub.status.idle": "2021-04-01T00:06:37.676533Z",
     "shell.execute_reply": "2021-04-01T00:06:37.677077Z"
    },
    "papermill": {
     "duration": 0.048022,
     "end_time": "2021-04-01T00:06:37.677216",
     "exception": false,
     "start_time": "2021-04-01T00:06:37.629194",
     "status": "completed"
    },
    "tags": []
   },
   "outputs": [],
   "source": [
    "#hide\n",
    "#delete problematic countries from table\n",
    "df_table = df_table[~df_table['Country/Region'].isin(['Cape Verde', 'Cruise Ship', 'Kosovo'])]"
   ]
  },
  {
   "cell_type": "code",
   "execution_count": 17,
   "id": "related-center",
   "metadata": {
    "execution": {
     "iopub.execute_input": "2021-04-01T00:06:37.766792Z",
     "iopub.status.busy": "2021-04-01T00:06:37.766073Z",
     "iopub.status.idle": "2021-04-01T00:06:37.780503Z",
     "shell.execute_reply": "2021-04-01T00:06:37.781019Z"
    },
    "papermill": {
     "duration": 0.06451,
     "end_time": "2021-04-01T00:06:37.781171",
     "exception": false,
     "start_time": "2021-04-01T00:06:37.716661",
     "status": "completed"
    },
    "tags": []
   },
   "outputs": [],
   "source": [
    "#hide\n",
    "metrics = [df_table.columns[index] for index in [1,2,5,6]]\n",
    "# s_china = df_table[df_table['Country/Region'].eq('China')][metrics].sum().add_prefix('China ')\n",
    "s_us = df_table[df_table['Country/Region'].eq('US')][metrics].sum().add_prefix('US ')\n",
    "s_eu = df_table[df_table['Continent'].eq('Europe')][metrics].sum().add_prefix('EU ')\n",
    "s_ind = df_table[df_table['Country/Region'].eq('India')][metrics].sum().add_prefix('India ')\n",
    "summary = {'updated': pd.to_datetime(dt_today), 'since': pd.to_datetime(dt_yday)}\n",
    "summary = {'updated': pd.to_datetime(dt_today), 'since': pd.to_datetime(dt_yday)}\n",
    "summary = {**summary, **df_table[metrics].sum(), **s_ind, **s_us, **s_eu}"
   ]
  },
  {
   "cell_type": "code",
   "execution_count": 18,
   "id": "engaging-syndrome",
   "metadata": {
    "execution": {
     "iopub.execute_input": "2021-04-01T00:06:37.868357Z",
     "iopub.status.busy": "2021-04-01T00:06:37.867168Z",
     "iopub.status.idle": "2021-04-01T00:06:37.880598Z",
     "shell.execute_reply": "2021-04-01T00:06:37.880061Z"
    },
    "papermill": {
     "duration": 0.058265,
     "end_time": "2021-04-01T00:06:37.880725",
     "exception": false,
     "start_time": "2021-04-01T00:06:37.822460",
     "status": "completed"
    },
    "tags": []
   },
   "outputs": [],
   "source": [
    "#hide\n",
    "dft_ct_new_cases = dft_cases.groupby(COL_REGION)[dt_cols].sum().diff(axis=1).fillna(0).astype(int)"
   ]
  },
  {
   "cell_type": "code",
   "execution_count": 19,
   "id": "neutral-assignment",
   "metadata": {
    "execution": {
     "iopub.execute_input": "2021-04-01T00:06:37.963762Z",
     "iopub.status.busy": "2021-04-01T00:06:37.963181Z",
     "iopub.status.idle": "2021-04-01T00:06:37.965449Z",
     "shell.execute_reply": "2021-04-01T00:06:37.966023Z"
    },
    "papermill": {
     "duration": 0.046815,
     "end_time": "2021-04-01T00:06:37.966151",
     "exception": false,
     "start_time": "2021-04-01T00:06:37.919336",
     "status": "completed"
    },
    "tags": []
   },
   "outputs": [],
   "source": [
    "#hide\n",
    "everydaycases = dft_ct_new_cases.cumsum(axis=1)"
   ]
  },
  {
   "cell_type": "code",
   "execution_count": 20,
   "id": "parliamentary-calgary",
   "metadata": {
    "execution": {
     "iopub.execute_input": "2021-04-01T00:06:38.050879Z",
     "iopub.status.busy": "2021-04-01T00:06:38.050219Z",
     "iopub.status.idle": "2021-04-01T00:06:38.619502Z",
     "shell.execute_reply": "2021-04-01T00:06:38.618898Z"
    },
    "papermill": {
     "duration": 0.613507,
     "end_time": "2021-04-01T00:06:38.619641",
     "exception": false,
     "start_time": "2021-04-01T00:06:38.006134",
     "status": "completed"
    },
    "tags": []
   },
   "outputs": [],
   "source": [
    "#hide\n",
    "import pandas as pd\n",
    "import matplotlib.pyplot as plt\n",
    "import matplotlib.ticker as ticker\n",
    "import matplotlib.animation as animation\n",
    "from IPython.display import HTML"
   ]
  },
  {
   "cell_type": "code",
   "execution_count": 21,
   "id": "lasting-extraction",
   "metadata": {
    "execution": {
     "iopub.execute_input": "2021-04-01T00:06:38.706895Z",
     "iopub.status.busy": "2021-04-01T00:06:38.706255Z",
     "iopub.status.idle": "2021-04-01T00:06:38.712090Z",
     "shell.execute_reply": "2021-04-01T00:06:38.712685Z"
    },
    "papermill": {
     "duration": 0.052714,
     "end_time": "2021-04-01T00:06:38.712876",
     "exception": false,
     "start_time": "2021-04-01T00:06:38.660162",
     "status": "completed"
    },
    "tags": []
   },
   "outputs": [],
   "source": [
    "#hide\n",
    "t = everydaycases.stack()"
   ]
  },
  {
   "cell_type": "code",
   "execution_count": 22,
   "id": "premier-sleeve",
   "metadata": {
    "execution": {
     "iopub.execute_input": "2021-04-01T00:06:38.798788Z",
     "iopub.status.busy": "2021-04-01T00:06:38.796015Z",
     "iopub.status.idle": "2021-04-01T00:06:38.807573Z",
     "shell.execute_reply": "2021-04-01T00:06:38.808129Z"
    },
    "papermill": {
     "duration": 0.056417,
     "end_time": "2021-04-01T00:06:38.808292",
     "exception": false,
     "start_time": "2021-04-01T00:06:38.751875",
     "status": "completed"
    },
    "tags": []
   },
   "outputs": [],
   "source": [
    "#hide\n",
    "g = t.reset_index(['Country/Region'])"
   ]
  },
  {
   "cell_type": "code",
   "execution_count": 23,
   "id": "distributed-pittsburgh",
   "metadata": {
    "execution": {
     "iopub.execute_input": "2021-04-01T00:06:38.895523Z",
     "iopub.status.busy": "2021-04-01T00:06:38.894816Z",
     "iopub.status.idle": "2021-04-01T00:06:38.897418Z",
     "shell.execute_reply": "2021-04-01T00:06:38.896837Z"
    },
    "papermill": {
     "duration": 0.04815,
     "end_time": "2021-04-01T00:06:38.897555",
     "exception": false,
     "start_time": "2021-04-01T00:06:38.849405",
     "status": "completed"
    },
    "tags": []
   },
   "outputs": [],
   "source": [
    "#hide\n",
    "g.index.name = 'date'"
   ]
  },
  {
   "cell_type": "code",
   "execution_count": 24,
   "id": "naked-donor",
   "metadata": {
    "execution": {
     "iopub.execute_input": "2021-04-01T00:06:38.990945Z",
     "iopub.status.busy": "2021-04-01T00:06:38.990326Z",
     "iopub.status.idle": "2021-04-01T00:06:38.992754Z",
     "shell.execute_reply": "2021-04-01T00:06:38.992049Z"
    },
    "papermill": {
     "duration": 0.045192,
     "end_time": "2021-04-01T00:06:38.992886",
     "exception": false,
     "start_time": "2021-04-01T00:06:38.947694",
     "status": "completed"
    },
    "tags": []
   },
   "outputs": [],
   "source": [
    "# #hide\n",
    "# g = g.reset_index(['date'])"
   ]
  },
  {
   "cell_type": "code",
   "execution_count": 25,
   "id": "incomplete-mustang",
   "metadata": {
    "execution": {
     "iopub.execute_input": "2021-04-01T00:06:39.073884Z",
     "iopub.status.busy": "2021-04-01T00:06:39.073206Z",
     "iopub.status.idle": "2021-04-01T00:06:39.075240Z",
     "shell.execute_reply": "2021-04-01T00:06:39.075806Z"
    },
    "papermill": {
     "duration": 0.044832,
     "end_time": "2021-04-01T00:06:39.075996",
     "exception": false,
     "start_time": "2021-04-01T00:06:39.031164",
     "status": "completed"
    },
    "tags": []
   },
   "outputs": [],
   "source": [
    "#hide\n",
    "# g.head()"
   ]
  },
  {
   "cell_type": "code",
   "execution_count": 26,
   "id": "specific-kruger",
   "metadata": {
    "execution": {
     "iopub.execute_input": "2021-04-01T00:06:39.157407Z",
     "iopub.status.busy": "2021-04-01T00:06:39.156773Z",
     "iopub.status.idle": "2021-04-01T00:06:39.159779Z",
     "shell.execute_reply": "2021-04-01T00:06:39.160351Z"
    },
    "papermill": {
     "duration": 0.045419,
     "end_time": "2021-04-01T00:06:39.160486",
     "exception": false,
     "start_time": "2021-04-01T00:06:39.115067",
     "status": "completed"
    },
    "tags": []
   },
   "outputs": [],
   "source": [
    "#hide\n",
    "# g.columns = ['date','country','cases']"
   ]
  },
  {
   "cell_type": "code",
   "execution_count": 27,
   "id": "tender-conversion",
   "metadata": {
    "execution": {
     "iopub.execute_input": "2021-04-01T00:06:39.241555Z",
     "iopub.status.busy": "2021-04-01T00:06:39.240888Z",
     "iopub.status.idle": "2021-04-01T00:06:39.243378Z",
     "shell.execute_reply": "2021-04-01T00:06:39.242833Z"
    },
    "papermill": {
     "duration": 0.044919,
     "end_time": "2021-04-01T00:06:39.243495",
     "exception": false,
     "start_time": "2021-04-01T00:06:39.198576",
     "status": "completed"
    },
    "tags": []
   },
   "outputs": [],
   "source": [
    "#hide\n",
    "# g['continent'] = g.country"
   ]
  },
  {
   "cell_type": "code",
   "execution_count": 28,
   "id": "substantial-wilderness",
   "metadata": {
    "execution": {
     "iopub.execute_input": "2021-04-01T00:06:39.332231Z",
     "iopub.status.busy": "2021-04-01T00:06:39.331505Z",
     "iopub.status.idle": "2021-04-01T00:06:39.334087Z",
     "shell.execute_reply": "2021-04-01T00:06:39.333530Z"
    },
    "papermill": {
     "duration": 0.049361,
     "end_time": "2021-04-01T00:06:39.334211",
     "exception": false,
     "start_time": "2021-04-01T00:06:39.284850",
     "status": "completed"
    },
    "tags": []
   },
   "outputs": [],
   "source": [
    "#hide\n",
    "# cols = list(g.columns.values)"
   ]
  },
  {
   "cell_type": "code",
   "execution_count": 29,
   "id": "solved-farming",
   "metadata": {
    "execution": {
     "iopub.execute_input": "2021-04-01T00:06:39.419198Z",
     "iopub.status.busy": "2021-04-01T00:06:39.418463Z",
     "iopub.status.idle": "2021-04-01T00:06:39.421051Z",
     "shell.execute_reply": "2021-04-01T00:06:39.420515Z"
    },
    "papermill": {
     "duration": 0.046412,
     "end_time": "2021-04-01T00:06:39.421179",
     "exception": false,
     "start_time": "2021-04-01T00:06:39.374767",
     "status": "completed"
    },
    "tags": []
   },
   "outputs": [],
   "source": [
    "#hide\n",
    "# cols.insert(0, cols.pop())"
   ]
  },
  {
   "cell_type": "code",
   "execution_count": 30,
   "id": "executed-adoption",
   "metadata": {
    "execution": {
     "iopub.execute_input": "2021-04-01T00:06:39.505397Z",
     "iopub.status.busy": "2021-04-01T00:06:39.504742Z",
     "iopub.status.idle": "2021-04-01T00:06:39.507277Z",
     "shell.execute_reply": "2021-04-01T00:06:39.506742Z"
    },
    "papermill": {
     "duration": 0.046139,
     "end_time": "2021-04-01T00:06:39.507401",
     "exception": false,
     "start_time": "2021-04-01T00:06:39.461262",
     "status": "completed"
    },
    "tags": []
   },
   "outputs": [],
   "source": [
    "#hide\n",
    "# g = g[cols]"
   ]
  },
  {
   "cell_type": "code",
   "execution_count": 31,
   "id": "subject-dublin",
   "metadata": {
    "execution": {
     "iopub.execute_input": "2021-04-01T00:06:39.591419Z",
     "iopub.status.busy": "2021-04-01T00:06:39.590737Z",
     "iopub.status.idle": "2021-04-01T00:06:39.593312Z",
     "shell.execute_reply": "2021-04-01T00:06:39.592779Z"
    },
    "papermill": {
     "duration": 0.046572,
     "end_time": "2021-04-01T00:06:39.593449",
     "exception": false,
     "start_time": "2021-04-01T00:06:39.546877",
     "status": "completed"
    },
    "tags": []
   },
   "outputs": [],
   "source": [
    "#hide\n",
    "# g['continent'] = g['continent'].map(mapping['map.continent'])"
   ]
  },
  {
   "cell_type": "code",
   "execution_count": 32,
   "id": "freelance-scout",
   "metadata": {
    "execution": {
     "iopub.execute_input": "2021-04-01T00:06:39.679848Z",
     "iopub.status.busy": "2021-04-01T00:06:39.679251Z",
     "iopub.status.idle": "2021-04-01T00:06:39.681289Z",
     "shell.execute_reply": "2021-04-01T00:06:39.681883Z"
    },
    "papermill": {
     "duration": 0.046803,
     "end_time": "2021-04-01T00:06:39.682039",
     "exception": false,
     "start_time": "2021-04-01T00:06:39.635236",
     "status": "completed"
    },
    "tags": []
   },
   "outputs": [],
   "source": [
    "#hide\n",
    "# g.head()"
   ]
  },
  {
   "cell_type": "code",
   "execution_count": 33,
   "id": "limited-engine",
   "metadata": {
    "execution": {
     "iopub.execute_input": "2021-04-01T00:06:39.767876Z",
     "iopub.status.busy": "2021-04-01T00:06:39.767187Z",
     "iopub.status.idle": "2021-04-01T00:06:39.769068Z",
     "shell.execute_reply": "2021-04-01T00:06:39.769785Z"
    },
    "papermill": {
     "duration": 0.047551,
     "end_time": "2021-04-01T00:06:39.769937",
     "exception": false,
     "start_time": "2021-04-01T00:06:39.722386",
     "status": "completed"
    },
    "tags": []
   },
   "outputs": [],
   "source": [
    "# hide\n",
    "# g['date'] = g['date'].astype('datetime64[ns]')"
   ]
  },
  {
   "cell_type": "code",
   "execution_count": 34,
   "id": "sophisticated-supervisor",
   "metadata": {
    "execution": {
     "iopub.execute_input": "2021-04-01T00:06:39.855940Z",
     "iopub.status.busy": "2021-04-01T00:06:39.855328Z",
     "iopub.status.idle": "2021-04-01T00:06:39.857305Z",
     "shell.execute_reply": "2021-04-01T00:06:39.857887Z"
    },
    "papermill": {
     "duration": 0.048225,
     "end_time": "2021-04-01T00:06:39.858052",
     "exception": false,
     "start_time": "2021-04-01T00:06:39.809827",
     "status": "completed"
    },
    "tags": []
   },
   "outputs": [],
   "source": [
    "#hide\n",
    "# g['date'] = g.date.dt.dayofyear"
   ]
  },
  {
   "cell_type": "code",
   "execution_count": 35,
   "id": "inside-dubai",
   "metadata": {
    "execution": {
     "iopub.execute_input": "2021-04-01T00:06:39.946280Z",
     "iopub.status.busy": "2021-04-01T00:06:39.945603Z",
     "iopub.status.idle": "2021-04-01T00:06:39.948188Z",
     "shell.execute_reply": "2021-04-01T00:06:39.947670Z"
    },
    "papermill": {
     "duration": 0.048333,
     "end_time": "2021-04-01T00:06:39.948310",
     "exception": false,
     "start_time": "2021-04-01T00:06:39.899977",
     "status": "completed"
    },
    "tags": []
   },
   "outputs": [],
   "source": [
    "#hide\n",
    "# g = g.rename(columns= {'continent':'group','country':'name','cases':'value'})"
   ]
  },
  {
   "cell_type": "code",
   "execution_count": 36,
   "id": "fleet-motorcycle",
   "metadata": {
    "execution": {
     "iopub.execute_input": "2021-04-01T00:06:40.031376Z",
     "iopub.status.busy": "2021-04-01T00:06:40.030771Z",
     "iopub.status.idle": "2021-04-01T00:06:40.033455Z",
     "shell.execute_reply": "2021-04-01T00:06:40.032844Z"
    },
    "papermill": {
     "duration": 0.045683,
     "end_time": "2021-04-01T00:06:40.033576",
     "exception": false,
     "start_time": "2021-04-01T00:06:39.987893",
     "status": "completed"
    },
    "tags": []
   },
   "outputs": [],
   "source": [
    "#hide\n",
    "# cols = ['name','group','day','value']"
   ]
  },
  {
   "cell_type": "code",
   "execution_count": 37,
   "id": "continued-sleeping",
   "metadata": {
    "execution": {
     "iopub.execute_input": "2021-04-01T00:06:40.116722Z",
     "iopub.status.busy": "2021-04-01T00:06:40.116048Z",
     "iopub.status.idle": "2021-04-01T00:06:40.118766Z",
     "shell.execute_reply": "2021-04-01T00:06:40.118037Z"
    },
    "papermill": {
     "duration": 0.045806,
     "end_time": "2021-04-01T00:06:40.118894",
     "exception": false,
     "start_time": "2021-04-01T00:06:40.073088",
     "status": "completed"
    },
    "tags": []
   },
   "outputs": [],
   "source": [
    "#hide\n",
    "# g.rename(columns= {'date':'day'},inplace = True)"
   ]
  },
  {
   "cell_type": "code",
   "execution_count": 38,
   "id": "major-fight",
   "metadata": {
    "execution": {
     "iopub.execute_input": "2021-04-01T00:06:40.205193Z",
     "iopub.status.busy": "2021-04-01T00:06:40.204310Z",
     "iopub.status.idle": "2021-04-01T00:06:40.207386Z",
     "shell.execute_reply": "2021-04-01T00:06:40.206746Z"
    },
    "papermill": {
     "duration": 0.04695,
     "end_time": "2021-04-01T00:06:40.207512",
     "exception": false,
     "start_time": "2021-04-01T00:06:40.160562",
     "status": "completed"
    },
    "tags": []
   },
   "outputs": [],
   "source": [
    "#hide\n",
    "# g = g[cols]"
   ]
  },
  {
   "cell_type": "code",
   "execution_count": 39,
   "id": "structured-mobile",
   "metadata": {
    "execution": {
     "iopub.execute_input": "2021-04-01T00:06:40.289931Z",
     "iopub.status.busy": "2021-04-01T00:06:40.289283Z",
     "iopub.status.idle": "2021-04-01T00:06:40.291850Z",
     "shell.execute_reply": "2021-04-01T00:06:40.291264Z"
    },
    "papermill": {
     "duration": 0.046551,
     "end_time": "2021-04-01T00:06:40.291970",
     "exception": false,
     "start_time": "2021-04-01T00:06:40.245419",
     "status": "completed"
    },
    "tags": []
   },
   "outputs": [],
   "source": [
    "# #hide\n",
    "# g = g[g.group.notna()]"
   ]
  },
  {
   "cell_type": "code",
   "execution_count": 40,
   "id": "determined-closing",
   "metadata": {
    "execution": {
     "iopub.execute_input": "2021-04-01T00:06:40.373983Z",
     "iopub.status.busy": "2021-04-01T00:06:40.373316Z",
     "iopub.status.idle": "2021-04-01T00:06:40.375857Z",
     "shell.execute_reply": "2021-04-01T00:06:40.375263Z"
    },
    "papermill": {
     "duration": 0.044981,
     "end_time": "2021-04-01T00:06:40.376057",
     "exception": false,
     "start_time": "2021-04-01T00:06:40.331076",
     "status": "completed"
    },
    "tags": []
   },
   "outputs": [],
   "source": [
    "# #hide\n",
    "# colors = dict(zip(\n",
    "#     [\"Oceania\", \"Europe\", \"Asia\", \"South America\", \"Middle East\", \"North America\", \"Africa\"],\n",
    "#     [\"#adb0ff\", \"#ffb3ff\", \"#90d595\", \"#e48381\", \"#aafbff\", \"#f7bb5f\", \"#eafb50\"]\n",
    "# ))\n",
    "# group_lk = g.set_index('name')['group'].to_dict()"
   ]
  },
  {
   "cell_type": "code",
   "execution_count": null,
   "id": "gross-drinking",
   "metadata": {
    "papermill": {
     "duration": 0.038824,
     "end_time": "2021-04-01T00:06:40.454710",
     "exception": false,
     "start_time": "2021-04-01T00:06:40.415886",
     "status": "completed"
    },
    "tags": []
   },
   "outputs": [],
   "source": []
  },
  {
   "cell_type": "code",
   "execution_count": 41,
   "id": "subject-macintosh",
   "metadata": {
    "execution": {
     "iopub.execute_input": "2021-04-01T00:06:40.537433Z",
     "iopub.status.busy": "2021-04-01T00:06:40.536641Z",
     "iopub.status.idle": "2021-04-01T00:06:40.539437Z",
     "shell.execute_reply": "2021-04-01T00:06:40.538852Z"
    },
    "papermill": {
     "duration": 0.045622,
     "end_time": "2021-04-01T00:06:40.539560",
     "exception": false,
     "start_time": "2021-04-01T00:06:40.493938",
     "status": "completed"
    },
    "tags": []
   },
   "outputs": [],
   "source": [
    "# #hide\n",
    "# fig, ax = plt.subplots(figsize=(15, 8))\n",
    "\n",
    "# def draw_barchart(current_day):\n",
    "#     dff = g[g['day'].eq(current_day)].sort_values(by='value', ascending=True).tail(10)\n",
    "#     ax.clear()\n",
    "#     ax.barh(dff['name'], dff['value'], color=[colors[group_lk[x]] for x in dff['name']])\n",
    "#     dx = dff['value'].max() / 200\n",
    "    \n",
    "#     for i, (value, name) in enumerate(zip(dff['value'], dff['name'])):\n",
    "#         ax.text(value-dx, i,     name,           size=14, weight=600, ha='right', va='bottom')\n",
    "#         ax.text(value-dx, i-.25, group_lk[name], size=10, color='#444444', ha='right', va='baseline')\n",
    "#         ax.text(value+dx, i,     f'{value:,.0f}',  size=14, ha='left',  va='center')\n",
    "#     ax.text(1, 0.4, current_day, transform=ax.transAxes, color='#777777', size=46, ha='right', weight=800)\n",
    "#     ax.text(0, 1.06, 'Population (thousands)', transform=ax.transAxes, size=12, color='#777777')\n",
    "#     ax.xaxis.set_major_formatter(ticker.StrMethodFormatter('{x:,.0f}'))\n",
    "#     ax.xaxis.set_ticks_position('top')\n",
    "#     ax.tick_params(axis='x', colors='#777777', labelsize=12)\n",
    "#     ax.set_yticks([])\n",
    "#     ax.margins(0, 0.01)\n",
    "#     ax.grid(which='major', axis='x', linestyle='-')\n",
    "#     ax.set_axisbelow(True)\n",
    "    \n",
    "#     ax.text(0, 1.15, 'Coronavirus',\n",
    "#             transform=ax.transAxes, size=24, weight=600, ha='left', va='top')\n",
    "# #     ax.text(1, 0, 'by @pratapvardhan; credit @jburnmurdoch', transform=ax.transAxes, color='#777777', ha='right',\n",
    "# #             bbox=dict(facecolor='white', alpha=0.8, edgecolor='white'))\n",
    "#     plt.box(False)"
   ]
  },
  {
   "cell_type": "code",
   "execution_count": 42,
   "id": "sexual-wages",
   "metadata": {
    "execution": {
     "iopub.execute_input": "2021-04-01T00:06:40.623289Z",
     "iopub.status.busy": "2021-04-01T00:06:40.622307Z",
     "iopub.status.idle": "2021-04-01T00:06:40.624383Z",
     "shell.execute_reply": "2021-04-01T00:06:40.624991Z"
    },
    "papermill": {
     "duration": 0.045184,
     "end_time": "2021-04-01T00:06:40.625131",
     "exception": false,
     "start_time": "2021-04-01T00:06:40.579947",
     "status": "completed"
    },
    "tags": []
   },
   "outputs": [],
   "source": [
    "# #hide_input\n",
    "# fig, ax = plt.subplots(figsize=(15, 8))\n",
    "# animator = animation.FuncAnimation(fig, draw_barchart, frames=range(g.day.values.min(), g.day.values.max()))\n",
    "# HTML(animator.to_jshtml())\n",
    "# # or use animator.to_html5_video() or animator.save() "
   ]
  },
  {
   "cell_type": "code",
   "execution_count": null,
   "id": "australian-container",
   "metadata": {
    "papermill": {
     "duration": 0.040807,
     "end_time": "2021-04-01T00:06:40.705341",
     "exception": false,
     "start_time": "2021-04-01T00:06:40.664534",
     "status": "completed"
    },
    "tags": []
   },
   "outputs": [],
   "source": []
  },
  {
   "cell_type": "code",
   "execution_count": null,
   "id": "mediterranean-pontiac",
   "metadata": {
    "papermill": {
     "duration": 0.03898,
     "end_time": "2021-04-01T00:06:40.782703",
     "exception": false,
     "start_time": "2021-04-01T00:06:40.743723",
     "status": "completed"
    },
    "tags": []
   },
   "outputs": [],
   "source": []
  },
  {
   "cell_type": "code",
   "execution_count": null,
   "id": "aging-legislature",
   "metadata": {
    "papermill": {
     "duration": 0.038888,
     "end_time": "2021-04-01T00:06:40.860134",
     "exception": false,
     "start_time": "2021-04-01T00:06:40.821246",
     "status": "completed"
    },
    "tags": []
   },
   "outputs": [],
   "source": []
  }
 ],
 "metadata": {
  "kernelspec": {
   "display_name": "Python 3",
   "language": "python",
   "name": "python3"
  },
  "language_info": {
   "codemirror_mode": {
    "name": "ipython",
    "version": 3
   },
   "file_extension": ".py",
   "mimetype": "text/x-python",
   "name": "python",
   "nbconvert_exporter": "python",
   "pygments_lexer": "ipython3",
   "version": "3.6.13"
  },
  "papermill": {
   "duration": 6.971861,
   "end_time": "2021-04-01T00:06:41.207948",
   "environment_variables": {},
   "exception": null,
   "input_path": "2020-03-21-covid19exp.ipynb",
   "output_path": "2020-03-21-covid19exp.ipynb",
   "parameters": {},
   "start_time": "2021-04-01T00:06:34.236087",
   "version": "2.0.0"
  }
 },
 "nbformat": 4,
 "nbformat_minor": 5
}