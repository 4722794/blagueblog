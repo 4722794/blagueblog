{
 "cells": [
  {
   "cell_type": "markdown",
   "id": "muslim-click",
   "metadata": {
    "papermill": {
     "duration": 0.042463,
     "end_time": "2021-09-04T12:11:07.176898",
     "exception": false,
     "start_time": "2021-09-04T12:11:07.134435",
     "status": "completed"
    },
    "tags": []
   },
   "source": [
    "# COVID-19 Case Race\n",
    "> A race chart to see rising cases around the world\n",
    "\n",
    "- author: Hargun Oberoi\n",
    "- image: images/covid-overview.png\n",
    "- hide: false\n",
    "- badges: false"
   ]
  },
  {
   "cell_type": "code",
   "execution_count": 1,
   "id": "proof-material",
   "metadata": {
    "execution": {
     "iopub.execute_input": "2021-09-04T12:11:07.266867Z",
     "iopub.status.busy": "2021-09-04T12:11:07.266195Z",
     "iopub.status.idle": "2021-09-04T12:11:07.665815Z",
     "shell.execute_reply": "2021-09-04T12:11:07.665231Z"
    },
    "papermill": {
     "duration": 0.449423,
     "end_time": "2021-09-04T12:11:07.665982",
     "exception": false,
     "start_time": "2021-09-04T12:11:07.216559",
     "status": "completed"
    },
    "tags": []
   },
   "outputs": [],
   "source": [
    "#hide\n",
    "import numpy as np\n",
    "import pandas as pd\n",
    "from jinja2 import Template\n",
    "from IPython.display import HTML"
   ]
  },
  {
   "cell_type": "code",
   "execution_count": 2,
   "id": "developed-terminology",
   "metadata": {
    "execution": {
     "iopub.execute_input": "2021-09-04T12:11:07.748193Z",
     "iopub.status.busy": "2021-09-04T12:11:07.747527Z",
     "iopub.status.idle": "2021-09-04T12:11:07.749056Z",
     "shell.execute_reply": "2021-09-04T12:11:07.749688Z"
    },
    "papermill": {
     "duration": 0.04661,
     "end_time": "2021-09-04T12:11:07.749843",
     "exception": false,
     "start_time": "2021-09-04T12:11:07.703233",
     "status": "completed"
    },
    "tags": []
   },
   "outputs": [],
   "source": [
    "#hide\n",
    "\n",
    "# FETCH\n",
    "base_url = 'https://raw.githubusercontent.com/pratapvardhan/notebooks/master/covid19/'\n",
    "paths = {\n",
    "    'mapping': base_url + 'mapping_countries.csv',\n",
    "    'overview': base_url + 'overview.tpl'\n",
    "}"
   ]
  },
  {
   "cell_type": "code",
   "execution_count": 3,
   "id": "dynamic-saver",
   "metadata": {
    "execution": {
     "iopub.execute_input": "2021-09-04T12:11:07.839864Z",
     "iopub.status.busy": "2021-09-04T12:11:07.839061Z",
     "iopub.status.idle": "2021-09-04T12:11:07.842918Z",
     "shell.execute_reply": "2021-09-04T12:11:07.843494Z"
    },
    "papermill": {
     "duration": 0.055972,
     "end_time": "2021-09-04T12:11:07.843661",
     "exception": false,
     "start_time": "2021-09-04T12:11:07.787689",
     "status": "completed"
    },
    "tags": []
   },
   "outputs": [
    {
     "data": {
      "text/plain": [
       "'https://raw.githubusercontent.com/pratapvardhan/notebooks/master/covid19/mapping_countries.csv'"
      ]
     },
     "execution_count": 3,
     "metadata": {},
     "output_type": "execute_result"
    }
   ],
   "source": [
    "#hide\n",
    "paths['mapping']"
   ]
  },
  {
   "cell_type": "code",
   "execution_count": 4,
   "id": "urban-software",
   "metadata": {
    "execution": {
     "iopub.execute_input": "2021-09-04T12:11:07.930760Z",
     "iopub.status.busy": "2021-09-04T12:11:07.929953Z",
     "iopub.status.idle": "2021-09-04T12:11:07.932495Z",
     "shell.execute_reply": "2021-09-04T12:11:07.931947Z"
    },
    "papermill": {
     "duration": 0.049337,
     "end_time": "2021-09-04T12:11:07.932624",
     "exception": false,
     "start_time": "2021-09-04T12:11:07.883287",
     "status": "completed"
    },
    "tags": []
   },
   "outputs": [],
   "source": [
    "#hide\n",
    "def get_mappings(url):\n",
    "    df = pd.read_csv(url)\n",
    "    return {\n",
    "        'df': df,\n",
    "        'replace.country': dict(df.dropna(subset=['Name']).set_index('Country')['Name']),\n",
    "        'map.continent': dict(df.set_index('Name')['Continent'])\n",
    "    }"
   ]
  },
  {
   "cell_type": "code",
   "execution_count": 5,
   "id": "intimate-machinery",
   "metadata": {
    "execution": {
     "iopub.execute_input": "2021-09-04T12:11:08.019538Z",
     "iopub.status.busy": "2021-09-04T12:11:08.018860Z",
     "iopub.status.idle": "2021-09-04T12:11:08.094920Z",
     "shell.execute_reply": "2021-09-04T12:11:08.093813Z"
    },
    "papermill": {
     "duration": 0.122961,
     "end_time": "2021-09-04T12:11:08.095073",
     "exception": false,
     "start_time": "2021-09-04T12:11:07.972112",
     "status": "completed"
    },
    "tags": []
   },
   "outputs": [],
   "source": [
    "#hide\n",
    "mapping = get_mappings(paths['mapping'])"
   ]
  },
  {
   "cell_type": "code",
   "execution_count": 6,
   "id": "certified-tactics",
   "metadata": {
    "execution": {
     "iopub.execute_input": "2021-09-04T12:11:08.178565Z",
     "iopub.status.busy": "2021-09-04T12:11:08.177907Z",
     "iopub.status.idle": "2021-09-04T12:11:08.179726Z",
     "shell.execute_reply": "2021-09-04T12:11:08.180359Z"
    },
    "papermill": {
     "duration": 0.046191,
     "end_time": "2021-09-04T12:11:08.180511",
     "exception": false,
     "start_time": "2021-09-04T12:11:08.134320",
     "status": "completed"
    },
    "tags": []
   },
   "outputs": [],
   "source": [
    "#hide\n",
    "def get_template(path):\n",
    "    from urllib.parse import urlparse\n",
    "    if bool(urlparse(path).netloc):\n",
    "        from urllib.request import urlopen\n",
    "        return urlopen(path).read().decode('utf8')\n",
    "    return open(path).read()"
   ]
  },
  {
   "cell_type": "code",
   "execution_count": 7,
   "id": "realistic-blast",
   "metadata": {
    "execution": {
     "iopub.execute_input": "2021-09-04T12:11:08.264089Z",
     "iopub.status.busy": "2021-09-04T12:11:08.262699Z",
     "iopub.status.idle": "2021-09-04T12:11:08.265859Z",
     "shell.execute_reply": "2021-09-04T12:11:08.265306Z"
    },
    "papermill": {
     "duration": 0.046947,
     "end_time": "2021-09-04T12:11:08.265996",
     "exception": false,
     "start_time": "2021-09-04T12:11:08.219049",
     "status": "completed"
    },
    "tags": []
   },
   "outputs": [],
   "source": [
    "#hide\n",
    "def get_frame(name):\n",
    "    url = (\n",
    "        'https://raw.githubusercontent.com/CSSEGISandData/COVID-19/master/csse_covid_19_data/'\n",
    "        f'csse_covid_19_time_series/time_series_covid19_{name}_global.csv')\n",
    "    df = pd.read_csv(url)\n",
    "    # rename countries\n",
    "    df['Country/Region'] = df['Country/Region'].replace(mapping['replace.country'])\n",
    "    return df"
   ]
  },
  {
   "cell_type": "code",
   "execution_count": 8,
   "id": "affiliated-characterization",
   "metadata": {
    "execution": {
     "iopub.execute_input": "2021-09-04T12:11:08.354997Z",
     "iopub.status.busy": "2021-09-04T12:11:08.354325Z",
     "iopub.status.idle": "2021-09-04T12:11:08.357033Z",
     "shell.execute_reply": "2021-09-04T12:11:08.356467Z"
    },
    "papermill": {
     "duration": 0.052731,
     "end_time": "2021-09-04T12:11:08.357174",
     "exception": false,
     "start_time": "2021-09-04T12:11:08.304443",
     "status": "completed"
    },
    "tags": []
   },
   "outputs": [],
   "source": [
    "#hide\n",
    "def get_dates(df):\n",
    "    dt_cols = df.columns[~df.columns.isin(['Province/State', 'Country/Region', 'Lat', 'Long'])]\n",
    "    LAST_DATE_I = -1\n",
    "    # sometimes last column may be empty, then go backwards\n",
    "    for i in range(-1, -len(dt_cols), -1):\n",
    "        if not df[dt_cols[i]].fillna(0).eq(0).all():\n",
    "            LAST_DATE_I = i\n",
    "            break\n",
    "    return LAST_DATE_I, dt_cols"
   ]
  },
  {
   "cell_type": "code",
   "execution_count": 9,
   "id": "recent-optimization",
   "metadata": {
    "execution": {
     "iopub.execute_input": "2021-09-04T12:11:08.440985Z",
     "iopub.status.busy": "2021-09-04T12:11:08.439177Z",
     "iopub.status.idle": "2021-09-04T12:11:09.036859Z",
     "shell.execute_reply": "2021-09-04T12:11:09.035751Z"
    },
    "papermill": {
     "duration": 0.641322,
     "end_time": "2021-09-04T12:11:09.037003",
     "exception": false,
     "start_time": "2021-09-04T12:11:08.395681",
     "status": "completed"
    },
    "tags": []
   },
   "outputs": [],
   "source": [
    "#hide\n",
    "COL_REGION = 'Country/Region'\n",
    "# Confirmed, Recovered, Deaths\n",
    "df = get_frame('confirmed')\n",
    "# dft_: timeseries, dfc_: today country agg\n",
    "dft_cases = df\n",
    "dft_deaths = get_frame('deaths')\n",
    "dft_recovered = get_frame('recovered')\n",
    "LAST_DATE_I, dt_cols = get_dates(df)"
   ]
  },
  {
   "cell_type": "code",
   "execution_count": 10,
   "id": "absolute-copper",
   "metadata": {
    "execution": {
     "iopub.execute_input": "2021-09-04T12:11:09.122370Z",
     "iopub.status.busy": "2021-09-04T12:11:09.121253Z",
     "iopub.status.idle": "2021-09-04T12:11:09.123520Z",
     "shell.execute_reply": "2021-09-04T12:11:09.124051Z"
    },
    "papermill": {
     "duration": 0.048857,
     "end_time": "2021-09-04T12:11:09.124198",
     "exception": false,
     "start_time": "2021-09-04T12:11:09.075341",
     "status": "completed"
    },
    "tags": []
   },
   "outputs": [],
   "source": [
    "#hide\n",
    "LAST_DATE_I, dt_cols = get_dates(df)\n",
    "dt_today =dt_cols[LAST_DATE_I]\n",
    "# dt_5day = dt_cols[LAST_DATE_I - 5]\n",
    "dt_yday = dt_cols[LAST_DATE_I - 1]"
   ]
  },
  {
   "cell_type": "code",
   "execution_count": 11,
   "id": "restricted-sheriff",
   "metadata": {
    "execution": {
     "iopub.execute_input": "2021-09-04T12:11:09.215986Z",
     "iopub.status.busy": "2021-09-04T12:11:09.214144Z",
     "iopub.status.idle": "2021-09-04T12:11:09.218564Z",
     "shell.execute_reply": "2021-09-04T12:11:09.218008Z"
    },
    "papermill": {
     "duration": 0.054579,
     "end_time": "2021-09-04T12:11:09.218702",
     "exception": false,
     "start_time": "2021-09-04T12:11:09.164123",
     "status": "completed"
    },
    "tags": []
   },
   "outputs": [],
   "source": [
    "#hide\n",
    "dfc_cases = dft_cases.groupby(COL_REGION)[dt_today].sum()\n",
    "dfc_deaths = dft_deaths.groupby(COL_REGION)[dt_today].sum()\n",
    "# dfp_cases = dft_cases.groupby(COL_REGION)[dt_5day].sum()\n",
    "# dfp_deaths = dft_deaths.groupby(COL_REGION)[dt_5day].sum()\n",
    "dfp_cases = dft_cases.groupby(COL_REGION)[dt_yday].sum()\n",
    "dfp_deaths = dft_deaths.groupby(COL_REGION)[dt_yday].sum()"
   ]
  },
  {
   "cell_type": "code",
   "execution_count": 12,
   "id": "deluxe-hepatitis",
   "metadata": {
    "execution": {
     "iopub.execute_input": "2021-09-04T12:11:09.304864Z",
     "iopub.status.busy": "2021-09-04T12:11:09.303826Z",
     "iopub.status.idle": "2021-09-04T12:11:09.310314Z",
     "shell.execute_reply": "2021-09-04T12:11:09.310950Z"
    },
    "papermill": {
     "duration": 0.051825,
     "end_time": "2021-09-04T12:11:09.311116",
     "exception": false,
     "start_time": "2021-09-04T12:11:09.259291",
     "status": "completed"
    },
    "tags": []
   },
   "outputs": [],
   "source": [
    "#hide\n",
    "df_table = (pd.DataFrame(dict(Cases = dfc_cases, Deaths = dfc_deaths, PCases = dfp_cases, PDeaths = dfp_deaths))\n",
    "            .sort_values(by = ['Cases','Deaths'], ascending = [False, False])\n",
    "            .reset_index())"
   ]
  },
  {
   "cell_type": "code",
   "execution_count": 13,
   "id": "educational-chancellor",
   "metadata": {
    "execution": {
     "iopub.execute_input": "2021-09-04T12:11:09.415011Z",
     "iopub.status.busy": "2021-09-04T12:11:09.409122Z",
     "iopub.status.idle": "2021-09-04T12:11:09.418045Z",
     "shell.execute_reply": "2021-09-04T12:11:09.418815Z"
    },
    "papermill": {
     "duration": 0.070687,
     "end_time": "2021-09-04T12:11:09.418973",
     "exception": false,
     "start_time": "2021-09-04T12:11:09.348286",
     "status": "completed"
    },
    "tags": []
   },
   "outputs": [
    {
     "data": {
      "text/html": [
       "<div>\n",
       "<style scoped>\n",
       "    .dataframe tbody tr th:only-of-type {\n",
       "        vertical-align: middle;\n",
       "    }\n",
       "\n",
       "    .dataframe tbody tr th {\n",
       "        vertical-align: top;\n",
       "    }\n",
       "\n",
       "    .dataframe thead th {\n",
       "        text-align: right;\n",
       "    }\n",
       "</style>\n",
       "<table border=\"1\" class=\"dataframe\">\n",
       "  <thead>\n",
       "    <tr style=\"text-align: right;\">\n",
       "      <th></th>\n",
       "      <th>Country/Region</th>\n",
       "      <th>Cases</th>\n",
       "      <th>Deaths</th>\n",
       "      <th>PCases</th>\n",
       "      <th>PDeaths</th>\n",
       "      <th>Cases (+)</th>\n",
       "      <th>Deaths (+)</th>\n",
       "      <th>Fatality Rate</th>\n",
       "      <th>Continent</th>\n",
       "    </tr>\n",
       "  </thead>\n",
       "  <tbody>\n",
       "    <tr>\n",
       "      <th>0</th>\n",
       "      <td>US</td>\n",
       "      <td>39850256</td>\n",
       "      <td>647579</td>\n",
       "      <td>39549299</td>\n",
       "      <td>643669</td>\n",
       "      <td>300957</td>\n",
       "      <td>3910</td>\n",
       "      <td>1.63</td>\n",
       "      <td>North America</td>\n",
       "    </tr>\n",
       "    <tr>\n",
       "      <th>1</th>\n",
       "      <td>India</td>\n",
       "      <td>32945907</td>\n",
       "      <td>440225</td>\n",
       "      <td>32903289</td>\n",
       "      <td>439895</td>\n",
       "      <td>42618</td>\n",
       "      <td>330</td>\n",
       "      <td>1.34</td>\n",
       "      <td>Asia</td>\n",
       "    </tr>\n",
       "    <tr>\n",
       "      <th>2</th>\n",
       "      <td>Brazil</td>\n",
       "      <td>20856060</td>\n",
       "      <td>582670</td>\n",
       "      <td>20830495</td>\n",
       "      <td>581914</td>\n",
       "      <td>25565</td>\n",
       "      <td>756</td>\n",
       "      <td>2.79</td>\n",
       "      <td>South America</td>\n",
       "    </tr>\n",
       "    <tr>\n",
       "      <th>3</th>\n",
       "      <td>United Kingdom</td>\n",
       "      <td>6937270</td>\n",
       "      <td>133365</td>\n",
       "      <td>6894915</td>\n",
       "      <td>133244</td>\n",
       "      <td>42355</td>\n",
       "      <td>121</td>\n",
       "      <td>1.92</td>\n",
       "      <td>Europe</td>\n",
       "    </tr>\n",
       "    <tr>\n",
       "      <th>4</th>\n",
       "      <td>France</td>\n",
       "      <td>6897529</td>\n",
       "      <td>115269</td>\n",
       "      <td>6882305</td>\n",
       "      <td>115157</td>\n",
       "      <td>15224</td>\n",
       "      <td>112</td>\n",
       "      <td>1.67</td>\n",
       "      <td>Europe</td>\n",
       "    </tr>\n",
       "  </tbody>\n",
       "</table>\n",
       "</div>"
      ],
      "text/plain": [
       "   Country/Region     Cases  Deaths    PCases  PDeaths  Cases (+)  Deaths (+)  \\\n",
       "0              US  39850256  647579  39549299   643669     300957        3910   \n",
       "1           India  32945907  440225  32903289   439895      42618         330   \n",
       "2          Brazil  20856060  582670  20830495   581914      25565         756   \n",
       "3  United Kingdom   6937270  133365   6894915   133244      42355         121   \n",
       "4          France   6897529  115269   6882305   115157      15224         112   \n",
       "\n",
       "   Fatality Rate      Continent  \n",
       "0           1.63  North America  \n",
       "1           1.34           Asia  \n",
       "2           2.79  South America  \n",
       "3           1.92         Europe  \n",
       "4           1.67         Europe  "
      ]
     },
     "execution_count": 13,
     "metadata": {},
     "output_type": "execute_result"
    }
   ],
   "source": [
    "#hide\n",
    "for c in 'Cases, Deaths'.split(', '):\n",
    "    df_table[f'{c} (+)'] = (df_table[c] - df_table[f'P{c}']).clip(0)\n",
    "    #Clip ça veut dire, les chiffres negatif sont interdit\n",
    "df_table['Fatality Rate'] = (100* df_table['Deaths']/ df_table['Cases']).round(2)\n",
    "df_table['Continent'] = df_table['Country/Region'].map(mapping['map.continent'])\n",
    "df_table.head(5)"
   ]
  },
  {
   "cell_type": "code",
   "execution_count": 14,
   "id": "aboriginal-bulgaria",
   "metadata": {
    "execution": {
     "iopub.execute_input": "2021-09-04T12:11:09.502702Z",
     "iopub.status.busy": "2021-09-04T12:11:09.502025Z",
     "iopub.status.idle": "2021-09-04T12:11:09.504197Z",
     "shell.execute_reply": "2021-09-04T12:11:09.504678Z"
    },
    "papermill": {
     "duration": 0.047615,
     "end_time": "2021-09-04T12:11:09.504858",
     "exception": false,
     "start_time": "2021-09-04T12:11:09.457243",
     "status": "completed"
    },
    "tags": []
   },
   "outputs": [],
   "source": [
    "#hide\n",
    "#delete problematic countries from table\n",
    "df_table = df_table[~df_table['Country/Region'].isin(['Cape Verde', 'Cruise Ship', 'Kosovo'])]"
   ]
  },
  {
   "cell_type": "code",
   "execution_count": 15,
   "id": "fantastic-effect",
   "metadata": {
    "execution": {
     "iopub.execute_input": "2021-09-04T12:11:09.593368Z",
     "iopub.status.busy": "2021-09-04T12:11:09.592694Z",
     "iopub.status.idle": "2021-09-04T12:11:09.617851Z",
     "shell.execute_reply": "2021-09-04T12:11:09.616608Z"
    },
    "papermill": {
     "duration": 0.07303,
     "end_time": "2021-09-04T12:11:09.618213",
     "exception": false,
     "start_time": "2021-09-04T12:11:09.545183",
     "status": "completed"
    },
    "tags": []
   },
   "outputs": [
    {
     "data": {
      "text/html": [
       "<div>\n",
       "<style scoped>\n",
       "    .dataframe tbody tr th:only-of-type {\n",
       "        vertical-align: middle;\n",
       "    }\n",
       "\n",
       "    .dataframe tbody tr th {\n",
       "        vertical-align: top;\n",
       "    }\n",
       "\n",
       "    .dataframe thead th {\n",
       "        text-align: right;\n",
       "    }\n",
       "</style>\n",
       "<table border=\"1\" class=\"dataframe\">\n",
       "  <thead>\n",
       "    <tr style=\"text-align: right;\">\n",
       "      <th></th>\n",
       "      <th>Country/Region</th>\n",
       "      <th>Cases</th>\n",
       "      <th>Deaths</th>\n",
       "      <th>PCases</th>\n",
       "      <th>PDeaths</th>\n",
       "      <th>Cases (+)</th>\n",
       "      <th>Deaths (+)</th>\n",
       "      <th>Fatality Rate</th>\n",
       "      <th>Continent</th>\n",
       "    </tr>\n",
       "  </thead>\n",
       "  <tbody>\n",
       "    <tr>\n",
       "      <th>0</th>\n",
       "      <td>US</td>\n",
       "      <td>39850256</td>\n",
       "      <td>647579</td>\n",
       "      <td>39549299</td>\n",
       "      <td>643669</td>\n",
       "      <td>300957</td>\n",
       "      <td>3910</td>\n",
       "      <td>1.6</td>\n",
       "      <td>North America</td>\n",
       "    </tr>\n",
       "    <tr>\n",
       "      <th>1</th>\n",
       "      <td>India</td>\n",
       "      <td>32945907</td>\n",
       "      <td>440225</td>\n",
       "      <td>32903289</td>\n",
       "      <td>439895</td>\n",
       "      <td>42618</td>\n",
       "      <td>330</td>\n",
       "      <td>1.3</td>\n",
       "      <td>Asia</td>\n",
       "    </tr>\n",
       "    <tr>\n",
       "      <th>2</th>\n",
       "      <td>Brazil</td>\n",
       "      <td>20856060</td>\n",
       "      <td>582670</td>\n",
       "      <td>20830495</td>\n",
       "      <td>581914</td>\n",
       "      <td>25565</td>\n",
       "      <td>756</td>\n",
       "      <td>2.8</td>\n",
       "      <td>South America</td>\n",
       "    </tr>\n",
       "    <tr>\n",
       "      <th>3</th>\n",
       "      <td>United Kingdom</td>\n",
       "      <td>6937270</td>\n",
       "      <td>133365</td>\n",
       "      <td>6894915</td>\n",
       "      <td>133244</td>\n",
       "      <td>42355</td>\n",
       "      <td>121</td>\n",
       "      <td>1.9</td>\n",
       "      <td>Europe</td>\n",
       "    </tr>\n",
       "    <tr>\n",
       "      <th>4</th>\n",
       "      <td>France</td>\n",
       "      <td>6897529</td>\n",
       "      <td>115269</td>\n",
       "      <td>6882305</td>\n",
       "      <td>115157</td>\n",
       "      <td>15224</td>\n",
       "      <td>112</td>\n",
       "      <td>1.7</td>\n",
       "      <td>Europe</td>\n",
       "    </tr>\n",
       "  </tbody>\n",
       "</table>\n",
       "</div>"
      ],
      "text/plain": [
       "   Country/Region     Cases  Deaths    PCases  PDeaths  Cases (+)  Deaths (+)  \\\n",
       "0              US  39850256  647579  39549299   643669     300957        3910   \n",
       "1           India  32945907  440225  32903289   439895      42618         330   \n",
       "2          Brazil  20856060  582670  20830495   581914      25565         756   \n",
       "3  United Kingdom   6937270  133365   6894915   133244      42355         121   \n",
       "4          France   6897529  115269   6882305   115157      15224         112   \n",
       "\n",
       "   Fatality Rate      Continent  \n",
       "0            1.6  North America  \n",
       "1            1.3           Asia  \n",
       "2            2.8  South America  \n",
       "3            1.9         Europe  \n",
       "4            1.7         Europe  "
      ]
     },
     "execution_count": 15,
     "metadata": {},
     "output_type": "execute_result"
    }
   ],
   "source": [
    "#hide\n",
    "df_table = (pd.DataFrame(dict(Cases=dfc_cases, Deaths=dfc_deaths, PCases=dfp_cases, PDeaths=dfp_deaths))\n",
    "             .sort_values(by=['Cases', 'Deaths'], ascending=[False, False])\n",
    "             .reset_index())\n",
    "df_table.rename(columns={'index': 'Country/Region'}, inplace=True)\n",
    "for c in 'Cases, Deaths'.split(', '):\n",
    "    df_table[f'{c} (+)'] = (df_table[c] - df_table[f'P{c}']).clip(0)  # DATA BUG\n",
    "df_table['Fatality Rate'] = (100 * df_table['Deaths'] / df_table['Cases']).round(1)\n",
    "df_table['Continent'] = df_table['Country/Region'].map(mapping['map.continent'])\n",
    "df_table.head(5)"
   ]
  },
  {
   "cell_type": "code",
   "execution_count": 16,
   "id": "fewer-occasion",
   "metadata": {
    "execution": {
     "iopub.execute_input": "2021-09-04T12:11:09.707199Z",
     "iopub.status.busy": "2021-09-04T12:11:09.706364Z",
     "iopub.status.idle": "2021-09-04T12:11:09.709416Z",
     "shell.execute_reply": "2021-09-04T12:11:09.710329Z"
    },
    "papermill": {
     "duration": 0.0505,
     "end_time": "2021-09-04T12:11:09.710497",
     "exception": false,
     "start_time": "2021-09-04T12:11:09.659997",
     "status": "completed"
    },
    "tags": []
   },
   "outputs": [],
   "source": [
    "#hide\n",
    "#delete problematic countries from table\n",
    "df_table = df_table[~df_table['Country/Region'].isin(['Cape Verde', 'Cruise Ship', 'Kosovo'])]"
   ]
  },
  {
   "cell_type": "code",
   "execution_count": 17,
   "id": "related-center",
   "metadata": {
    "execution": {
     "iopub.execute_input": "2021-09-04T12:11:09.811427Z",
     "iopub.status.busy": "2021-09-04T12:11:09.810711Z",
     "iopub.status.idle": "2021-09-04T12:11:09.813231Z",
     "shell.execute_reply": "2021-09-04T12:11:09.813800Z"
    },
    "papermill": {
     "duration": 0.064411,
     "end_time": "2021-09-04T12:11:09.813961",
     "exception": false,
     "start_time": "2021-09-04T12:11:09.749550",
     "status": "completed"
    },
    "tags": []
   },
   "outputs": [],
   "source": [
    "#hide\n",
    "metrics = [df_table.columns[index] for index in [1,2,5,6]]\n",
    "# s_china = df_table[df_table['Country/Region'].eq('China')][metrics].sum().add_prefix('China ')\n",
    "s_us = df_table[df_table['Country/Region'].eq('US')][metrics].sum().add_prefix('US ')\n",
    "s_eu = df_table[df_table['Continent'].eq('Europe')][metrics].sum().add_prefix('EU ')\n",
    "s_ind = df_table[df_table['Country/Region'].eq('India')][metrics].sum().add_prefix('India ')\n",
    "summary = {'updated': pd.to_datetime(dt_today), 'since': pd.to_datetime(dt_yday)}\n",
    "summary = {'updated': pd.to_datetime(dt_today), 'since': pd.to_datetime(dt_yday)}\n",
    "summary = {**summary, **df_table[metrics].sum(), **s_ind, **s_us, **s_eu}"
   ]
  },
  {
   "cell_type": "code",
   "execution_count": 18,
   "id": "engaging-syndrome",
   "metadata": {
    "execution": {
     "iopub.execute_input": "2021-09-04T12:11:09.900179Z",
     "iopub.status.busy": "2021-09-04T12:11:09.895995Z",
     "iopub.status.idle": "2021-09-04T12:11:09.912157Z",
     "shell.execute_reply": "2021-09-04T12:11:09.911602Z"
    },
    "papermill": {
     "duration": 0.060169,
     "end_time": "2021-09-04T12:11:09.912300",
     "exception": false,
     "start_time": "2021-09-04T12:11:09.852131",
     "status": "completed"
    },
    "tags": []
   },
   "outputs": [],
   "source": [
    "#hide\n",
    "dft_ct_new_cases = dft_cases.groupby(COL_REGION)[dt_cols].sum().diff(axis=1).fillna(0).astype(int)"
   ]
  },
  {
   "cell_type": "code",
   "execution_count": 19,
   "id": "neutral-assignment",
   "metadata": {
    "execution": {
     "iopub.execute_input": "2021-09-04T12:11:09.996870Z",
     "iopub.status.busy": "2021-09-04T12:11:09.996217Z",
     "iopub.status.idle": "2021-09-04T12:11:09.999645Z",
     "shell.execute_reply": "2021-09-04T12:11:09.999056Z"
    },
    "papermill": {
     "duration": 0.048283,
     "end_time": "2021-09-04T12:11:09.999784",
     "exception": false,
     "start_time": "2021-09-04T12:11:09.951501",
     "status": "completed"
    },
    "tags": []
   },
   "outputs": [],
   "source": [
    "#hide\n",
    "everydaycases = dft_ct_new_cases.cumsum(axis=1)"
   ]
  },
  {
   "cell_type": "code",
   "execution_count": 20,
   "id": "parliamentary-calgary",
   "metadata": {
    "execution": {
     "iopub.execute_input": "2021-09-04T12:11:10.082977Z",
     "iopub.status.busy": "2021-09-04T12:11:10.082306Z",
     "iopub.status.idle": "2021-09-04T12:11:10.804151Z",
     "shell.execute_reply": "2021-09-04T12:11:10.803569Z"
    },
    "papermill": {
     "duration": 0.76528,
     "end_time": "2021-09-04T12:11:10.804298",
     "exception": false,
     "start_time": "2021-09-04T12:11:10.039018",
     "status": "completed"
    },
    "tags": []
   },
   "outputs": [],
   "source": [
    "#hide\n",
    "import pandas as pd\n",
    "import matplotlib.pyplot as plt\n",
    "import matplotlib.ticker as ticker\n",
    "import matplotlib.animation as animation\n",
    "from IPython.display import HTML"
   ]
  },
  {
   "cell_type": "code",
   "execution_count": 21,
   "id": "lasting-extraction",
   "metadata": {
    "execution": {
     "iopub.execute_input": "2021-09-04T12:11:10.892363Z",
     "iopub.status.busy": "2021-09-04T12:11:10.891630Z",
     "iopub.status.idle": "2021-09-04T12:11:10.897054Z",
     "shell.execute_reply": "2021-09-04T12:11:10.897677Z"
    },
    "papermill": {
     "duration": 0.052508,
     "end_time": "2021-09-04T12:11:10.897834",
     "exception": false,
     "start_time": "2021-09-04T12:11:10.845326",
     "status": "completed"
    },
    "tags": []
   },
   "outputs": [],
   "source": [
    "#hide\n",
    "t = everydaycases.stack()"
   ]
  },
  {
   "cell_type": "code",
   "execution_count": 22,
   "id": "premier-sleeve",
   "metadata": {
    "execution": {
     "iopub.execute_input": "2021-09-04T12:11:10.983176Z",
     "iopub.status.busy": "2021-09-04T12:11:10.982499Z",
     "iopub.status.idle": "2021-09-04T12:11:10.991890Z",
     "shell.execute_reply": "2021-09-04T12:11:10.991349Z"
    },
    "papermill": {
     "duration": 0.054405,
     "end_time": "2021-09-04T12:11:10.992049",
     "exception": false,
     "start_time": "2021-09-04T12:11:10.937644",
     "status": "completed"
    },
    "tags": []
   },
   "outputs": [],
   "source": [
    "#hide\n",
    "g = t.reset_index(['Country/Region'])"
   ]
  },
  {
   "cell_type": "code",
   "execution_count": 23,
   "id": "distributed-pittsburgh",
   "metadata": {
    "execution": {
     "iopub.execute_input": "2021-09-04T12:11:11.078980Z",
     "iopub.status.busy": "2021-09-04T12:11:11.078327Z",
     "iopub.status.idle": "2021-09-04T12:11:11.080930Z",
     "shell.execute_reply": "2021-09-04T12:11:11.080298Z"
    },
    "papermill": {
     "duration": 0.049689,
     "end_time": "2021-09-04T12:11:11.081070",
     "exception": false,
     "start_time": "2021-09-04T12:11:11.031381",
     "status": "completed"
    },
    "tags": []
   },
   "outputs": [],
   "source": [
    "#hide\n",
    "g.index.name = 'date'"
   ]
  },
  {
   "cell_type": "code",
   "execution_count": 24,
   "id": "naked-donor",
   "metadata": {
    "execution": {
     "iopub.execute_input": "2021-09-04T12:11:11.164956Z",
     "iopub.status.busy": "2021-09-04T12:11:11.163642Z",
     "iopub.status.idle": "2021-09-04T12:11:11.165663Z",
     "shell.execute_reply": "2021-09-04T12:11:11.166193Z"
    },
    "papermill": {
     "duration": 0.046084,
     "end_time": "2021-09-04T12:11:11.166345",
     "exception": false,
     "start_time": "2021-09-04T12:11:11.120261",
     "status": "completed"
    },
    "tags": []
   },
   "outputs": [],
   "source": [
    "# #hide\n",
    "# g = g.reset_index(['date'])"
   ]
  },
  {
   "cell_type": "code",
   "execution_count": 25,
   "id": "incomplete-mustang",
   "metadata": {
    "execution": {
     "iopub.execute_input": "2021-09-04T12:11:11.251839Z",
     "iopub.status.busy": "2021-09-04T12:11:11.250367Z",
     "iopub.status.idle": "2021-09-04T12:11:11.252552Z",
     "shell.execute_reply": "2021-09-04T12:11:11.253080Z"
    },
    "papermill": {
     "duration": 0.047349,
     "end_time": "2021-09-04T12:11:11.253243",
     "exception": false,
     "start_time": "2021-09-04T12:11:11.205894",
     "status": "completed"
    },
    "tags": []
   },
   "outputs": [],
   "source": [
    "#hide\n",
    "# g.head()"
   ]
  },
  {
   "cell_type": "code",
   "execution_count": 26,
   "id": "specific-kruger",
   "metadata": {
    "execution": {
     "iopub.execute_input": "2021-09-04T12:11:11.337126Z",
     "iopub.status.busy": "2021-09-04T12:11:11.335679Z",
     "iopub.status.idle": "2021-09-04T12:11:11.337852Z",
     "shell.execute_reply": "2021-09-04T12:11:11.338483Z"
    },
    "papermill": {
     "duration": 0.046437,
     "end_time": "2021-09-04T12:11:11.338641",
     "exception": false,
     "start_time": "2021-09-04T12:11:11.292204",
     "status": "completed"
    },
    "tags": []
   },
   "outputs": [],
   "source": [
    "#hide\n",
    "# g.columns = ['date','country','cases']"
   ]
  },
  {
   "cell_type": "code",
   "execution_count": 27,
   "id": "tender-conversion",
   "metadata": {
    "execution": {
     "iopub.execute_input": "2021-09-04T12:11:11.426392Z",
     "iopub.status.busy": "2021-09-04T12:11:11.425016Z",
     "iopub.status.idle": "2021-09-04T12:11:11.427087Z",
     "shell.execute_reply": "2021-09-04T12:11:11.427630Z"
    },
    "papermill": {
     "duration": 0.048718,
     "end_time": "2021-09-04T12:11:11.427780",
     "exception": false,
     "start_time": "2021-09-04T12:11:11.379062",
     "status": "completed"
    },
    "tags": []
   },
   "outputs": [],
   "source": [
    "#hide\n",
    "# g['continent'] = g.country"
   ]
  },
  {
   "cell_type": "code",
   "execution_count": 28,
   "id": "substantial-wilderness",
   "metadata": {
    "execution": {
     "iopub.execute_input": "2021-09-04T12:11:11.513293Z",
     "iopub.status.busy": "2021-09-04T12:11:11.511898Z",
     "iopub.status.idle": "2021-09-04T12:11:11.514012Z",
     "shell.execute_reply": "2021-09-04T12:11:11.514541Z"
    },
    "papermill": {
     "duration": 0.046875,
     "end_time": "2021-09-04T12:11:11.514694",
     "exception": false,
     "start_time": "2021-09-04T12:11:11.467819",
     "status": "completed"
    },
    "tags": []
   },
   "outputs": [],
   "source": [
    "#hide\n",
    "# cols = list(g.columns.values)"
   ]
  },
  {
   "cell_type": "code",
   "execution_count": 29,
   "id": "solved-farming",
   "metadata": {
    "execution": {
     "iopub.execute_input": "2021-09-04T12:11:11.598371Z",
     "iopub.status.busy": "2021-09-04T12:11:11.597721Z",
     "iopub.status.idle": "2021-09-04T12:11:11.600417Z",
     "shell.execute_reply": "2021-09-04T12:11:11.599803Z"
    },
    "papermill": {
     "duration": 0.044797,
     "end_time": "2021-09-04T12:11:11.600551",
     "exception": false,
     "start_time": "2021-09-04T12:11:11.555754",
     "status": "completed"
    },
    "tags": []
   },
   "outputs": [],
   "source": [
    "#hide\n",
    "# cols.insert(0, cols.pop())"
   ]
  },
  {
   "cell_type": "code",
   "execution_count": 30,
   "id": "executed-adoption",
   "metadata": {
    "execution": {
     "iopub.execute_input": "2021-09-04T12:11:11.690668Z",
     "iopub.status.busy": "2021-09-04T12:11:11.690006Z",
     "iopub.status.idle": "2021-09-04T12:11:11.692221Z",
     "shell.execute_reply": "2021-09-04T12:11:11.692804Z"
    },
    "papermill": {
     "duration": 0.046937,
     "end_time": "2021-09-04T12:11:11.692954",
     "exception": false,
     "start_time": "2021-09-04T12:11:11.646017",
     "status": "completed"
    },
    "tags": []
   },
   "outputs": [],
   "source": [
    "#hide\n",
    "# g = g[cols]"
   ]
  },
  {
   "cell_type": "code",
   "execution_count": 31,
   "id": "subject-dublin",
   "metadata": {
    "execution": {
     "iopub.execute_input": "2021-09-04T12:11:11.782217Z",
     "iopub.status.busy": "2021-09-04T12:11:11.781313Z",
     "iopub.status.idle": "2021-09-04T12:11:11.783435Z",
     "shell.execute_reply": "2021-09-04T12:11:11.782838Z"
    },
    "papermill": {
     "duration": 0.049901,
     "end_time": "2021-09-04T12:11:11.783568",
     "exception": false,
     "start_time": "2021-09-04T12:11:11.733667",
     "status": "completed"
    },
    "tags": []
   },
   "outputs": [],
   "source": [
    "#hide\n",
    "# g['continent'] = g['continent'].map(mapping['map.continent'])"
   ]
  },
  {
   "cell_type": "code",
   "execution_count": 32,
   "id": "freelance-scout",
   "metadata": {
    "execution": {
     "iopub.execute_input": "2021-09-04T12:11:11.867275Z",
     "iopub.status.busy": "2021-09-04T12:11:11.866603Z",
     "iopub.status.idle": "2021-09-04T12:11:11.868522Z",
     "shell.execute_reply": "2021-09-04T12:11:11.869018Z"
    },
    "papermill": {
     "duration": 0.04479,
     "end_time": "2021-09-04T12:11:11.869166",
     "exception": false,
     "start_time": "2021-09-04T12:11:11.824376",
     "status": "completed"
    },
    "tags": []
   },
   "outputs": [],
   "source": [
    "#hide\n",
    "# g.head()"
   ]
  },
  {
   "cell_type": "code",
   "execution_count": 33,
   "id": "limited-engine",
   "metadata": {
    "execution": {
     "iopub.execute_input": "2021-09-04T12:11:11.952439Z",
     "iopub.status.busy": "2021-09-04T12:11:11.951786Z",
     "iopub.status.idle": "2021-09-04T12:11:11.955809Z",
     "shell.execute_reply": "2021-09-04T12:11:11.955242Z"
    },
    "papermill": {
     "duration": 0.047371,
     "end_time": "2021-09-04T12:11:11.955988",
     "exception": false,
     "start_time": "2021-09-04T12:11:11.908617",
     "status": "completed"
    },
    "tags": []
   },
   "outputs": [],
   "source": [
    "# hide\n",
    "# g['date'] = g['date'].astype('datetime64[ns]')"
   ]
  },
  {
   "cell_type": "code",
   "execution_count": 34,
   "id": "sophisticated-supervisor",
   "metadata": {
    "execution": {
     "iopub.execute_input": "2021-09-04T12:11:12.040232Z",
     "iopub.status.busy": "2021-09-04T12:11:12.039586Z",
     "iopub.status.idle": "2021-09-04T12:11:12.042066Z",
     "shell.execute_reply": "2021-09-04T12:11:12.041496Z"
    },
    "papermill": {
     "duration": 0.045348,
     "end_time": "2021-09-04T12:11:12.042193",
     "exception": false,
     "start_time": "2021-09-04T12:11:11.996845",
     "status": "completed"
    },
    "tags": []
   },
   "outputs": [],
   "source": [
    "#hide\n",
    "# g['date'] = g.date.dt.dayofyear"
   ]
  },
  {
   "cell_type": "code",
   "execution_count": 35,
   "id": "inside-dubai",
   "metadata": {
    "execution": {
     "iopub.execute_input": "2021-09-04T12:11:12.129315Z",
     "iopub.status.busy": "2021-09-04T12:11:12.128666Z",
     "iopub.status.idle": "2021-09-04T12:11:12.130604Z",
     "shell.execute_reply": "2021-09-04T12:11:12.131145Z"
    },
    "papermill": {
     "duration": 0.047727,
     "end_time": "2021-09-04T12:11:12.131293",
     "exception": false,
     "start_time": "2021-09-04T12:11:12.083566",
     "status": "completed"
    },
    "tags": []
   },
   "outputs": [],
   "source": [
    "#hide\n",
    "# g = g.rename(columns= {'continent':'group','country':'name','cases':'value'})"
   ]
  },
  {
   "cell_type": "code",
   "execution_count": 36,
   "id": "fleet-motorcycle",
   "metadata": {
    "execution": {
     "iopub.execute_input": "2021-09-04T12:11:12.217780Z",
     "iopub.status.busy": "2021-09-04T12:11:12.216834Z",
     "iopub.status.idle": "2021-09-04T12:11:12.221544Z",
     "shell.execute_reply": "2021-09-04T12:11:12.220964Z"
    },
    "papermill": {
     "duration": 0.049726,
     "end_time": "2021-09-04T12:11:12.221686",
     "exception": false,
     "start_time": "2021-09-04T12:11:12.171960",
     "status": "completed"
    },
    "tags": []
   },
   "outputs": [],
   "source": [
    "#hide\n",
    "# cols = ['name','group','day','value']"
   ]
  },
  {
   "cell_type": "code",
   "execution_count": 37,
   "id": "continued-sleeping",
   "metadata": {
    "execution": {
     "iopub.execute_input": "2021-09-04T12:11:12.305943Z",
     "iopub.status.busy": "2021-09-04T12:11:12.305282Z",
     "iopub.status.idle": "2021-09-04T12:11:12.308392Z",
     "shell.execute_reply": "2021-09-04T12:11:12.307816Z"
    },
    "papermill": {
     "duration": 0.046456,
     "end_time": "2021-09-04T12:11:12.308524",
     "exception": false,
     "start_time": "2021-09-04T12:11:12.262068",
     "status": "completed"
    },
    "tags": []
   },
   "outputs": [],
   "source": [
    "#hide\n",
    "# g.rename(columns= {'date':'day'},inplace = True)"
   ]
  },
  {
   "cell_type": "code",
   "execution_count": 38,
   "id": "major-fight",
   "metadata": {
    "execution": {
     "iopub.execute_input": "2021-09-04T12:11:12.391599Z",
     "iopub.status.busy": "2021-09-04T12:11:12.390937Z",
     "iopub.status.idle": "2021-09-04T12:11:12.392870Z",
     "shell.execute_reply": "2021-09-04T12:11:12.393387Z"
    },
    "papermill": {
     "duration": 0.046337,
     "end_time": "2021-09-04T12:11:12.393532",
     "exception": false,
     "start_time": "2021-09-04T12:11:12.347195",
     "status": "completed"
    },
    "tags": []
   },
   "outputs": [],
   "source": [
    "#hide\n",
    "# g = g[cols]"
   ]
  },
  {
   "cell_type": "code",
   "execution_count": 39,
   "id": "structured-mobile",
   "metadata": {
    "execution": {
     "iopub.execute_input": "2021-09-04T12:11:12.477024Z",
     "iopub.status.busy": "2021-09-04T12:11:12.476384Z",
     "iopub.status.idle": "2021-09-04T12:11:12.478189Z",
     "shell.execute_reply": "2021-09-04T12:11:12.478981Z"
    },
    "papermill": {
     "duration": 0.045113,
     "end_time": "2021-09-04T12:11:12.479147",
     "exception": false,
     "start_time": "2021-09-04T12:11:12.434034",
     "status": "completed"
    },
    "tags": []
   },
   "outputs": [],
   "source": [
    "# #hide\n",
    "# g = g[g.group.notna()]"
   ]
  },
  {
   "cell_type": "code",
   "execution_count": 40,
   "id": "determined-closing",
   "metadata": {
    "execution": {
     "iopub.execute_input": "2021-09-04T12:11:12.562332Z",
     "iopub.status.busy": "2021-09-04T12:11:12.561685Z",
     "iopub.status.idle": "2021-09-04T12:11:12.564139Z",
     "shell.execute_reply": "2021-09-04T12:11:12.563602Z"
    },
    "papermill": {
     "duration": 0.045779,
     "end_time": "2021-09-04T12:11:12.564269",
     "exception": false,
     "start_time": "2021-09-04T12:11:12.518490",
     "status": "completed"
    },
    "tags": []
   },
   "outputs": [],
   "source": [
    "# #hide\n",
    "# colors = dict(zip(\n",
    "#     [\"Oceania\", \"Europe\", \"Asia\", \"South America\", \"Middle East\", \"North America\", \"Africa\"],\n",
    "#     [\"#adb0ff\", \"#ffb3ff\", \"#90d595\", \"#e48381\", \"#aafbff\", \"#f7bb5f\", \"#eafb50\"]\n",
    "# ))\n",
    "# group_lk = g.set_index('name')['group'].to_dict()"
   ]
  },
  {
   "cell_type": "code",
   "execution_count": null,
   "id": "gross-drinking",
   "metadata": {
    "papermill": {
     "duration": 0.038848,
     "end_time": "2021-09-04T12:11:12.641945",
     "exception": false,
     "start_time": "2021-09-04T12:11:12.603097",
     "status": "completed"
    },
    "tags": []
   },
   "outputs": [],
   "source": []
  },
  {
   "cell_type": "code",
   "execution_count": 41,
   "id": "subject-macintosh",
   "metadata": {
    "execution": {
     "iopub.execute_input": "2021-09-04T12:11:12.726339Z",
     "iopub.status.busy": "2021-09-04T12:11:12.725486Z",
     "iopub.status.idle": "2021-09-04T12:11:12.730216Z",
     "shell.execute_reply": "2021-09-04T12:11:12.730800Z"
    },
    "papermill": {
     "duration": 0.048919,
     "end_time": "2021-09-04T12:11:12.731009",
     "exception": false,
     "start_time": "2021-09-04T12:11:12.682090",
     "status": "completed"
    },
    "tags": []
   },
   "outputs": [],
   "source": [
    "# #hide\n",
    "# fig, ax = plt.subplots(figsize=(15, 8))\n",
    "\n",
    "# def draw_barchart(current_day):\n",
    "#     dff = g[g['day'].eq(current_day)].sort_values(by='value', ascending=True).tail(10)\n",
    "#     ax.clear()\n",
    "#     ax.barh(dff['name'], dff['value'], color=[colors[group_lk[x]] for x in dff['name']])\n",
    "#     dx = dff['value'].max() / 200\n",
    "    \n",
    "#     for i, (value, name) in enumerate(zip(dff['value'], dff['name'])):\n",
    "#         ax.text(value-dx, i,     name,           size=14, weight=600, ha='right', va='bottom')\n",
    "#         ax.text(value-dx, i-.25, group_lk[name], size=10, color='#444444', ha='right', va='baseline')\n",
    "#         ax.text(value+dx, i,     f'{value:,.0f}',  size=14, ha='left',  va='center')\n",
    "#     ax.text(1, 0.4, current_day, transform=ax.transAxes, color='#777777', size=46, ha='right', weight=800)\n",
    "#     ax.text(0, 1.06, 'Population (thousands)', transform=ax.transAxes, size=12, color='#777777')\n",
    "#     ax.xaxis.set_major_formatter(ticker.StrMethodFormatter('{x:,.0f}'))\n",
    "#     ax.xaxis.set_ticks_position('top')\n",
    "#     ax.tick_params(axis='x', colors='#777777', labelsize=12)\n",
    "#     ax.set_yticks([])\n",
    "#     ax.margins(0, 0.01)\n",
    "#     ax.grid(which='major', axis='x', linestyle='-')\n",
    "#     ax.set_axisbelow(True)\n",
    "    \n",
    "#     ax.text(0, 1.15, 'Coronavirus',\n",
    "#             transform=ax.transAxes, size=24, weight=600, ha='left', va='top')\n",
    "# #     ax.text(1, 0, 'by @pratapvardhan; credit @jburnmurdoch', transform=ax.transAxes, color='#777777', ha='right',\n",
    "# #             bbox=dict(facecolor='white', alpha=0.8, edgecolor='white'))\n",
    "#     plt.box(False)"
   ]
  },
  {
   "cell_type": "code",
   "execution_count": 42,
   "id": "sexual-wages",
   "metadata": {
    "execution": {
     "iopub.execute_input": "2021-09-04T12:11:12.817951Z",
     "iopub.status.busy": "2021-09-04T12:11:12.817296Z",
     "iopub.status.idle": "2021-09-04T12:11:12.819242Z",
     "shell.execute_reply": "2021-09-04T12:11:12.819793Z"
    },
    "papermill": {
     "duration": 0.048088,
     "end_time": "2021-09-04T12:11:12.819942",
     "exception": false,
     "start_time": "2021-09-04T12:11:12.771854",
     "status": "completed"
    },
    "tags": []
   },
   "outputs": [],
   "source": [
    "# #hide_input\n",
    "# fig, ax = plt.subplots(figsize=(15, 8))\n",
    "# animator = animation.FuncAnimation(fig, draw_barchart, frames=range(g.day.values.min(), g.day.values.max()))\n",
    "# HTML(animator.to_jshtml())\n",
    "# # or use animator.to_html5_video() or animator.save() "
   ]
  },
  {
   "cell_type": "code",
   "execution_count": null,
   "id": "australian-container",
   "metadata": {
    "papermill": {
     "duration": 0.039594,
     "end_time": "2021-09-04T12:11:12.898661",
     "exception": false,
     "start_time": "2021-09-04T12:11:12.859067",
     "status": "completed"
    },
    "tags": []
   },
   "outputs": [],
   "source": []
  },
  {
   "cell_type": "code",
   "execution_count": null,
   "id": "mediterranean-pontiac",
   "metadata": {
    "papermill": {
     "duration": 0.039116,
     "end_time": "2021-09-04T12:11:12.978373",
     "exception": false,
     "start_time": "2021-09-04T12:11:12.939257",
     "status": "completed"
    },
    "tags": []
   },
   "outputs": [],
   "source": []
  },
  {
   "cell_type": "code",
   "execution_count": null,
   "id": "aging-legislature",
   "metadata": {
    "papermill": {
     "duration": 0.038531,
     "end_time": "2021-09-04T12:11:13.056336",
     "exception": false,
     "start_time": "2021-09-04T12:11:13.017805",
     "status": "completed"
    },
    "tags": []
   },
   "outputs": [],
   "source": []
  }
 ],
 "metadata": {
  "kernelspec": {
   "display_name": "Python 3",
   "language": "python",
   "name": "python3"
  },
  "language_info": {
   "codemirror_mode": {
    "name": "ipython",
    "version": 3
   },
   "file_extension": ".py",
   "mimetype": "text/x-python",
   "name": "python",
   "nbconvert_exporter": "python",
   "pygments_lexer": "ipython3",
   "version": "3.6.14"
  },
  "papermill": {
   "duration": 7.500886,
   "end_time": "2021-09-04T12:11:13.506044",
   "environment_variables": {},
   "exception": null,
   "input_path": "2020-03-21-covid19exp.ipynb",
   "output_path": "2020-03-21-covid19exp.ipynb",
   "parameters": {},
   "start_time": "2021-09-04T12:11:06.005158",
   "version": "2.0.0"
  }
 },
 "nbformat": 4,
 "nbformat_minor": 5
}