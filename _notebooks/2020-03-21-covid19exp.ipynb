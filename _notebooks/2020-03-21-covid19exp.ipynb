{
 "cells": [
  {
   "cell_type": "markdown",
   "id": "muslim-click",
   "metadata": {
    "papermill": {
     "duration": 0.037633,
     "end_time": "2021-01-21T00:43:30.569621",
     "exception": false,
     "start_time": "2021-01-21T00:43:30.531988",
     "status": "completed"
    },
    "tags": []
   },
   "source": [
    "# COVID-19 Case Race\n",
    "> A race chart to see rising cases around the world\n",
    "\n",
    "- author: Hargun Oberoi\n",
    "- image: images/covid-overview.png\n",
    "- hide: false\n",
    "- badges: false"
   ]
  },
  {
   "cell_type": "code",
   "execution_count": 1,
   "id": "proof-material",
   "metadata": {
    "execution": {
     "iopub.execute_input": "2021-01-21T00:43:30.644357Z",
     "iopub.status.busy": "2021-01-21T00:43:30.643770Z",
     "iopub.status.idle": "2021-01-21T00:43:30.959868Z",
     "shell.execute_reply": "2021-01-21T00:43:30.960440Z"
    },
    "papermill": {
     "duration": 0.360659,
     "end_time": "2021-01-21T00:43:30.961126",
     "exception": false,
     "start_time": "2021-01-21T00:43:30.600467",
     "status": "completed"
    },
    "tags": []
   },
   "outputs": [],
   "source": [
    "#hide\n",
    "import numpy as np\n",
    "import pandas as pd\n",
    "from jinja2 import Template\n",
    "from IPython.display import HTML"
   ]
  },
  {
   "cell_type": "code",
   "execution_count": 2,
   "id": "developed-terminology",
   "metadata": {
    "execution": {
     "iopub.execute_input": "2021-01-21T00:43:31.028091Z",
     "iopub.status.busy": "2021-01-21T00:43:31.027546Z",
     "iopub.status.idle": "2021-01-21T00:43:31.030079Z",
     "shell.execute_reply": "2021-01-21T00:43:31.029638Z"
    },
    "papermill": {
     "duration": 0.037922,
     "end_time": "2021-01-21T00:43:31.030193",
     "exception": false,
     "start_time": "2021-01-21T00:43:30.992271",
     "status": "completed"
    },
    "tags": []
   },
   "outputs": [],
   "source": [
    "#hide\n",
    "\n",
    "# FETCH\n",
    "base_url = 'https://raw.githubusercontent.com/pratapvardhan/notebooks/master/covid19/'\n",
    "paths = {\n",
    "    'mapping': base_url + 'mapping_countries.csv',\n",
    "    'overview': base_url + 'overview.tpl'\n",
    "}"
   ]
  },
  {
   "cell_type": "code",
   "execution_count": 3,
   "id": "dynamic-saver",
   "metadata": {
    "execution": {
     "iopub.execute_input": "2021-01-21T00:43:31.129990Z",
     "iopub.status.busy": "2021-01-21T00:43:31.129451Z",
     "iopub.status.idle": "2021-01-21T00:43:31.132098Z",
     "shell.execute_reply": "2021-01-21T00:43:31.132582Z"
    },
    "papermill": {
     "duration": 0.071362,
     "end_time": "2021-01-21T00:43:31.132718",
     "exception": false,
     "start_time": "2021-01-21T00:43:31.061356",
     "status": "completed"
    },
    "tags": []
   },
   "outputs": [
    {
     "data": {
      "text/plain": [
       "'https://raw.githubusercontent.com/pratapvardhan/notebooks/master/covid19/mapping_countries.csv'"
      ]
     },
     "execution_count": 3,
     "metadata": {},
     "output_type": "execute_result"
    }
   ],
   "source": [
    "#hide\n",
    "paths['mapping']"
   ]
  },
  {
   "cell_type": "code",
   "execution_count": 4,
   "id": "urban-software",
   "metadata": {
    "execution": {
     "iopub.execute_input": "2021-01-21T00:43:31.203307Z",
     "iopub.status.busy": "2021-01-21T00:43:31.202765Z",
     "iopub.status.idle": "2021-01-21T00:43:31.205656Z",
     "shell.execute_reply": "2021-01-21T00:43:31.205195Z"
    },
    "papermill": {
     "duration": 0.042212,
     "end_time": "2021-01-21T00:43:31.205766",
     "exception": false,
     "start_time": "2021-01-21T00:43:31.163554",
     "status": "completed"
    },
    "tags": []
   },
   "outputs": [],
   "source": [
    "#hide\n",
    "def get_mappings(url):\n",
    "    df = pd.read_csv(url)\n",
    "    return {\n",
    "        'df': df,\n",
    "        'replace.country': dict(df.dropna(subset=['Name']).set_index('Country')['Name']),\n",
    "        'map.continent': dict(df.set_index('Name')['Continent'])\n",
    "    }"
   ]
  },
  {
   "cell_type": "code",
   "execution_count": 5,
   "id": "intimate-machinery",
   "metadata": {
    "execution": {
     "iopub.execute_input": "2021-01-21T00:43:31.276236Z",
     "iopub.status.busy": "2021-01-21T00:43:31.275664Z",
     "iopub.status.idle": "2021-01-21T00:43:31.323614Z",
     "shell.execute_reply": "2021-01-21T00:43:31.322687Z"
    },
    "papermill": {
     "duration": 0.086255,
     "end_time": "2021-01-21T00:43:31.323732",
     "exception": false,
     "start_time": "2021-01-21T00:43:31.237477",
     "status": "completed"
    },
    "tags": []
   },
   "outputs": [],
   "source": [
    "#hide\n",
    "mapping = get_mappings(paths['mapping'])"
   ]
  },
  {
   "cell_type": "code",
   "execution_count": 6,
   "id": "certified-tactics",
   "metadata": {
    "execution": {
     "iopub.execute_input": "2021-01-21T00:43:31.388905Z",
     "iopub.status.busy": "2021-01-21T00:43:31.388332Z",
     "iopub.status.idle": "2021-01-21T00:43:31.391063Z",
     "shell.execute_reply": "2021-01-21T00:43:31.390646Z"
    },
    "papermill": {
     "duration": 0.037524,
     "end_time": "2021-01-21T00:43:31.391164",
     "exception": false,
     "start_time": "2021-01-21T00:43:31.353640",
     "status": "completed"
    },
    "tags": []
   },
   "outputs": [],
   "source": [
    "#hide\n",
    "def get_template(path):\n",
    "    from urllib.parse import urlparse\n",
    "    if bool(urlparse(path).netloc):\n",
    "        from urllib.request import urlopen\n",
    "        return urlopen(path).read().decode('utf8')\n",
    "    return open(path).read()"
   ]
  },
  {
   "cell_type": "code",
   "execution_count": 7,
   "id": "realistic-blast",
   "metadata": {
    "execution": {
     "iopub.execute_input": "2021-01-21T00:43:31.459164Z",
     "iopub.status.busy": "2021-01-21T00:43:31.458631Z",
     "iopub.status.idle": "2021-01-21T00:43:31.461564Z",
     "shell.execute_reply": "2021-01-21T00:43:31.461081Z"
    },
    "papermill": {
     "duration": 0.040126,
     "end_time": "2021-01-21T00:43:31.461671",
     "exception": false,
     "start_time": "2021-01-21T00:43:31.421545",
     "status": "completed"
    },
    "tags": []
   },
   "outputs": [],
   "source": [
    "#hide\n",
    "def get_frame(name):\n",
    "    url = (\n",
    "        'https://raw.githubusercontent.com/CSSEGISandData/COVID-19/master/csse_covid_19_data/'\n",
    "        f'csse_covid_19_time_series/time_series_covid19_{name}_global.csv')\n",
    "    df = pd.read_csv(url)\n",
    "    # rename countries\n",
    "    df['Country/Region'] = df['Country/Region'].replace(mapping['replace.country'])\n",
    "    return df"
   ]
  },
  {
   "cell_type": "code",
   "execution_count": 8,
   "id": "affiliated-characterization",
   "metadata": {
    "execution": {
     "iopub.execute_input": "2021-01-21T00:43:31.530784Z",
     "iopub.status.busy": "2021-01-21T00:43:31.530242Z",
     "iopub.status.idle": "2021-01-21T00:43:31.533007Z",
     "shell.execute_reply": "2021-01-21T00:43:31.532569Z"
    },
    "papermill": {
     "duration": 0.04165,
     "end_time": "2021-01-21T00:43:31.533120",
     "exception": false,
     "start_time": "2021-01-21T00:43:31.491470",
     "status": "completed"
    },
    "tags": []
   },
   "outputs": [],
   "source": [
    "#hide\n",
    "def get_dates(df):\n",
    "    dt_cols = df.columns[~df.columns.isin(['Province/State', 'Country/Region', 'Lat', 'Long'])]\n",
    "    LAST_DATE_I = -1\n",
    "    # sometimes last column may be empty, then go backwards\n",
    "    for i in range(-1, -len(dt_cols), -1):\n",
    "        if not df[dt_cols[i]].fillna(0).eq(0).all():\n",
    "            LAST_DATE_I = i\n",
    "            break\n",
    "    return LAST_DATE_I, dt_cols"
   ]
  },
  {
   "cell_type": "code",
   "execution_count": 9,
   "id": "recent-optimization",
   "metadata": {
    "execution": {
     "iopub.execute_input": "2021-01-21T00:43:31.600280Z",
     "iopub.status.busy": "2021-01-21T00:43:31.599746Z",
     "iopub.status.idle": "2021-01-21T00:43:32.047023Z",
     "shell.execute_reply": "2021-01-21T00:43:32.045975Z"
    },
    "papermill": {
     "duration": 0.483582,
     "end_time": "2021-01-21T00:43:32.047159",
     "exception": false,
     "start_time": "2021-01-21T00:43:31.563577",
     "status": "completed"
    },
    "tags": []
   },
   "outputs": [],
   "source": [
    "#hide\n",
    "COL_REGION = 'Country/Region'\n",
    "# Confirmed, Recovered, Deaths\n",
    "df = get_frame('confirmed')\n",
    "# dft_: timeseries, dfc_: today country agg\n",
    "dft_cases = df\n",
    "dft_deaths = get_frame('deaths')\n",
    "dft_recovered = get_frame('recovered')\n",
    "LAST_DATE_I, dt_cols = get_dates(df)"
   ]
  },
  {
   "cell_type": "code",
   "execution_count": 10,
   "id": "absolute-copper",
   "metadata": {
    "execution": {
     "iopub.execute_input": "2021-01-21T00:43:32.117097Z",
     "iopub.status.busy": "2021-01-21T00:43:32.115716Z",
     "iopub.status.idle": "2021-01-21T00:43:32.118715Z",
     "shell.execute_reply": "2021-01-21T00:43:32.117974Z"
    },
    "papermill": {
     "duration": 0.039683,
     "end_time": "2021-01-21T00:43:32.118826",
     "exception": false,
     "start_time": "2021-01-21T00:43:32.079143",
     "status": "completed"
    },
    "tags": []
   },
   "outputs": [],
   "source": [
    "#hide\n",
    "LAST_DATE_I, dt_cols = get_dates(df)\n",
    "dt_today =dt_cols[LAST_DATE_I]\n",
    "# dt_5day = dt_cols[LAST_DATE_I - 5]\n",
    "dt_yday = dt_cols[LAST_DATE_I - 1]"
   ]
  },
  {
   "cell_type": "code",
   "execution_count": 11,
   "id": "restricted-sheriff",
   "metadata": {
    "execution": {
     "iopub.execute_input": "2021-01-21T00:43:32.189118Z",
     "iopub.status.busy": "2021-01-21T00:43:32.188117Z",
     "iopub.status.idle": "2021-01-21T00:43:32.196350Z",
     "shell.execute_reply": "2021-01-21T00:43:32.195886Z"
    },
    "papermill": {
     "duration": 0.046542,
     "end_time": "2021-01-21T00:43:32.196479",
     "exception": false,
     "start_time": "2021-01-21T00:43:32.149937",
     "status": "completed"
    },
    "tags": []
   },
   "outputs": [],
   "source": [
    "#hide\n",
    "dfc_cases = dft_cases.groupby(COL_REGION)[dt_today].sum()\n",
    "dfc_deaths = dft_deaths.groupby(COL_REGION)[dt_today].sum()\n",
    "# dfp_cases = dft_cases.groupby(COL_REGION)[dt_5day].sum()\n",
    "# dfp_deaths = dft_deaths.groupby(COL_REGION)[dt_5day].sum()\n",
    "dfp_cases = dft_cases.groupby(COL_REGION)[dt_yday].sum()\n",
    "dfp_deaths = dft_deaths.groupby(COL_REGION)[dt_yday].sum()"
   ]
  },
  {
   "cell_type": "code",
   "execution_count": 12,
   "id": "deluxe-hepatitis",
   "metadata": {
    "execution": {
     "iopub.execute_input": "2021-01-21T00:43:32.263447Z",
     "iopub.status.busy": "2021-01-21T00:43:32.262894Z",
     "iopub.status.idle": "2021-01-21T00:43:32.266524Z",
     "shell.execute_reply": "2021-01-21T00:43:32.267063Z"
    },
    "papermill": {
     "duration": 0.041171,
     "end_time": "2021-01-21T00:43:32.267194",
     "exception": false,
     "start_time": "2021-01-21T00:43:32.226023",
     "status": "completed"
    },
    "tags": []
   },
   "outputs": [],
   "source": [
    "#hide\n",
    "df_table = (pd.DataFrame(dict(Cases = dfc_cases, Deaths = dfc_deaths, PCases = dfp_cases, PDeaths = dfp_deaths))\n",
    "            .sort_values(by = ['Cases','Deaths'], ascending = [False, False])\n",
    "            .reset_index())"
   ]
  },
  {
   "cell_type": "code",
   "execution_count": 13,
   "id": "educational-chancellor",
   "metadata": {
    "execution": {
     "iopub.execute_input": "2021-01-21T00:43:32.347779Z",
     "iopub.status.busy": "2021-01-21T00:43:32.347230Z",
     "iopub.status.idle": "2021-01-21T00:43:32.354642Z",
     "shell.execute_reply": "2021-01-21T00:43:32.354212Z"
    },
    "papermill": {
     "duration": 0.055965,
     "end_time": "2021-01-21T00:43:32.354755",
     "exception": false,
     "start_time": "2021-01-21T00:43:32.298790",
     "status": "completed"
    },
    "tags": []
   },
   "outputs": [
    {
     "data": {
      "text/html": [
       "<div>\n",
       "<style scoped>\n",
       "    .dataframe tbody tr th:only-of-type {\n",
       "        vertical-align: middle;\n",
       "    }\n",
       "\n",
       "    .dataframe tbody tr th {\n",
       "        vertical-align: top;\n",
       "    }\n",
       "\n",
       "    .dataframe thead th {\n",
       "        text-align: right;\n",
       "    }\n",
       "</style>\n",
       "<table border=\"1\" class=\"dataframe\">\n",
       "  <thead>\n",
       "    <tr style=\"text-align: right;\">\n",
       "      <th></th>\n",
       "      <th>Country/Region</th>\n",
       "      <th>Cases</th>\n",
       "      <th>Deaths</th>\n",
       "      <th>PCases</th>\n",
       "      <th>PDeaths</th>\n",
       "      <th>Cases (+)</th>\n",
       "      <th>Deaths (+)</th>\n",
       "      <th>Fatality Rate</th>\n",
       "      <th>Continent</th>\n",
       "    </tr>\n",
       "  </thead>\n",
       "  <tbody>\n",
       "    <tr>\n",
       "      <th>0</th>\n",
       "      <td>US</td>\n",
       "      <td>24256028</td>\n",
       "      <td>401772</td>\n",
       "      <td>24078772</td>\n",
       "      <td>399003</td>\n",
       "      <td>177256</td>\n",
       "      <td>2769</td>\n",
       "      <td>1.66</td>\n",
       "      <td>North America</td>\n",
       "    </tr>\n",
       "    <tr>\n",
       "      <th>1</th>\n",
       "      <td>India</td>\n",
       "      <td>10595639</td>\n",
       "      <td>152718</td>\n",
       "      <td>10581823</td>\n",
       "      <td>152556</td>\n",
       "      <td>13816</td>\n",
       "      <td>162</td>\n",
       "      <td>1.44</td>\n",
       "      <td>Asia</td>\n",
       "    </tr>\n",
       "    <tr>\n",
       "      <th>2</th>\n",
       "      <td>Brazil</td>\n",
       "      <td>8573864</td>\n",
       "      <td>211491</td>\n",
       "      <td>8511770</td>\n",
       "      <td>210299</td>\n",
       "      <td>62094</td>\n",
       "      <td>1192</td>\n",
       "      <td>2.47</td>\n",
       "      <td>South America</td>\n",
       "    </tr>\n",
       "    <tr>\n",
       "      <th>3</th>\n",
       "      <td>Russia</td>\n",
       "      <td>3574330</td>\n",
       "      <td>65632</td>\n",
       "      <td>3552888</td>\n",
       "      <td>65059</td>\n",
       "      <td>21442</td>\n",
       "      <td>573</td>\n",
       "      <td>1.84</td>\n",
       "      <td>Europe</td>\n",
       "    </tr>\n",
       "    <tr>\n",
       "      <th>4</th>\n",
       "      <td>United Kingdom</td>\n",
       "      <td>3476804</td>\n",
       "      <td>91643</td>\n",
       "      <td>3443350</td>\n",
       "      <td>90031</td>\n",
       "      <td>33454</td>\n",
       "      <td>1612</td>\n",
       "      <td>2.64</td>\n",
       "      <td>Europe</td>\n",
       "    </tr>\n",
       "  </tbody>\n",
       "</table>\n",
       "</div>"
      ],
      "text/plain": [
       "   Country/Region     Cases  Deaths    PCases  PDeaths  Cases (+)  Deaths (+)  \\\n",
       "0              US  24256028  401772  24078772   399003     177256        2769   \n",
       "1           India  10595639  152718  10581823   152556      13816         162   \n",
       "2          Brazil   8573864  211491   8511770   210299      62094        1192   \n",
       "3          Russia   3574330   65632   3552888    65059      21442         573   \n",
       "4  United Kingdom   3476804   91643   3443350    90031      33454        1612   \n",
       "\n",
       "   Fatality Rate      Continent  \n",
       "0           1.66  North America  \n",
       "1           1.44           Asia  \n",
       "2           2.47  South America  \n",
       "3           1.84         Europe  \n",
       "4           2.64         Europe  "
      ]
     },
     "execution_count": 13,
     "metadata": {},
     "output_type": "execute_result"
    }
   ],
   "source": [
    "#hide\n",
    "for c in 'Cases, Deaths'.split(', '):\n",
    "    df_table[f'{c} (+)'] = (df_table[c] - df_table[f'P{c}']).clip(0)\n",
    "    #Clip ça veut dire, les chiffres negatif sont interdit\n",
    "df_table['Fatality Rate'] = (100* df_table['Deaths']/ df_table['Cases']).round(2)\n",
    "df_table['Continent'] = df_table['Country/Region'].map(mapping['map.continent'])\n",
    "df_table.head(5)"
   ]
  },
  {
   "cell_type": "code",
   "execution_count": 14,
   "id": "aboriginal-bulgaria",
   "metadata": {
    "execution": {
     "iopub.execute_input": "2021-01-21T00:43:32.423996Z",
     "iopub.status.busy": "2021-01-21T00:43:32.423444Z",
     "iopub.status.idle": "2021-01-21T00:43:32.425612Z",
     "shell.execute_reply": "2021-01-21T00:43:32.425161Z"
    },
    "papermill": {
     "duration": 0.038892,
     "end_time": "2021-01-21T00:43:32.425719",
     "exception": false,
     "start_time": "2021-01-21T00:43:32.386827",
     "status": "completed"
    },
    "tags": []
   },
   "outputs": [],
   "source": [
    "#hide\n",
    "#delete problematic countries from table\n",
    "df_table = df_table[~df_table['Country/Region'].isin(['Cape Verde', 'Cruise Ship', 'Kosovo'])]"
   ]
  },
  {
   "cell_type": "code",
   "execution_count": 15,
   "id": "fantastic-effect",
   "metadata": {
    "execution": {
     "iopub.execute_input": "2021-01-21T00:43:32.496215Z",
     "iopub.status.busy": "2021-01-21T00:43:32.494328Z",
     "iopub.status.idle": "2021-01-21T00:43:32.513314Z",
     "shell.execute_reply": "2021-01-21T00:43:32.512864Z"
    },
    "papermill": {
     "duration": 0.057016,
     "end_time": "2021-01-21T00:43:32.513422",
     "exception": false,
     "start_time": "2021-01-21T00:43:32.456406",
     "status": "completed"
    },
    "tags": []
   },
   "outputs": [
    {
     "data": {
      "text/html": [
       "<div>\n",
       "<style scoped>\n",
       "    .dataframe tbody tr th:only-of-type {\n",
       "        vertical-align: middle;\n",
       "    }\n",
       "\n",
       "    .dataframe tbody tr th {\n",
       "        vertical-align: top;\n",
       "    }\n",
       "\n",
       "    .dataframe thead th {\n",
       "        text-align: right;\n",
       "    }\n",
       "</style>\n",
       "<table border=\"1\" class=\"dataframe\">\n",
       "  <thead>\n",
       "    <tr style=\"text-align: right;\">\n",
       "      <th></th>\n",
       "      <th>Country/Region</th>\n",
       "      <th>Cases</th>\n",
       "      <th>Deaths</th>\n",
       "      <th>PCases</th>\n",
       "      <th>PDeaths</th>\n",
       "      <th>Cases (+)</th>\n",
       "      <th>Deaths (+)</th>\n",
       "      <th>Fatality Rate</th>\n",
       "      <th>Continent</th>\n",
       "    </tr>\n",
       "  </thead>\n",
       "  <tbody>\n",
       "    <tr>\n",
       "      <th>0</th>\n",
       "      <td>US</td>\n",
       "      <td>24256028</td>\n",
       "      <td>401772</td>\n",
       "      <td>24078772</td>\n",
       "      <td>399003</td>\n",
       "      <td>177256</td>\n",
       "      <td>2769</td>\n",
       "      <td>1.7</td>\n",
       "      <td>North America</td>\n",
       "    </tr>\n",
       "    <tr>\n",
       "      <th>1</th>\n",
       "      <td>India</td>\n",
       "      <td>10595639</td>\n",
       "      <td>152718</td>\n",
       "      <td>10581823</td>\n",
       "      <td>152556</td>\n",
       "      <td>13816</td>\n",
       "      <td>162</td>\n",
       "      <td>1.4</td>\n",
       "      <td>Asia</td>\n",
       "    </tr>\n",
       "    <tr>\n",
       "      <th>2</th>\n",
       "      <td>Brazil</td>\n",
       "      <td>8573864</td>\n",
       "      <td>211491</td>\n",
       "      <td>8511770</td>\n",
       "      <td>210299</td>\n",
       "      <td>62094</td>\n",
       "      <td>1192</td>\n",
       "      <td>2.5</td>\n",
       "      <td>South America</td>\n",
       "    </tr>\n",
       "    <tr>\n",
       "      <th>3</th>\n",
       "      <td>Russia</td>\n",
       "      <td>3574330</td>\n",
       "      <td>65632</td>\n",
       "      <td>3552888</td>\n",
       "      <td>65059</td>\n",
       "      <td>21442</td>\n",
       "      <td>573</td>\n",
       "      <td>1.8</td>\n",
       "      <td>Europe</td>\n",
       "    </tr>\n",
       "    <tr>\n",
       "      <th>4</th>\n",
       "      <td>United Kingdom</td>\n",
       "      <td>3476804</td>\n",
       "      <td>91643</td>\n",
       "      <td>3443350</td>\n",
       "      <td>90031</td>\n",
       "      <td>33454</td>\n",
       "      <td>1612</td>\n",
       "      <td>2.6</td>\n",
       "      <td>Europe</td>\n",
       "    </tr>\n",
       "  </tbody>\n",
       "</table>\n",
       "</div>"
      ],
      "text/plain": [
       "   Country/Region     Cases  Deaths    PCases  PDeaths  Cases (+)  Deaths (+)  \\\n",
       "0              US  24256028  401772  24078772   399003     177256        2769   \n",
       "1           India  10595639  152718  10581823   152556      13816         162   \n",
       "2          Brazil   8573864  211491   8511770   210299      62094        1192   \n",
       "3          Russia   3574330   65632   3552888    65059      21442         573   \n",
       "4  United Kingdom   3476804   91643   3443350    90031      33454        1612   \n",
       "\n",
       "   Fatality Rate      Continent  \n",
       "0            1.7  North America  \n",
       "1            1.4           Asia  \n",
       "2            2.5  South America  \n",
       "3            1.8         Europe  \n",
       "4            2.6         Europe  "
      ]
     },
     "execution_count": 15,
     "metadata": {},
     "output_type": "execute_result"
    }
   ],
   "source": [
    "#hide\n",
    "df_table = (pd.DataFrame(dict(Cases=dfc_cases, Deaths=dfc_deaths, PCases=dfp_cases, PDeaths=dfp_deaths))\n",
    "             .sort_values(by=['Cases', 'Deaths'], ascending=[False, False])\n",
    "             .reset_index())\n",
    "df_table.rename(columns={'index': 'Country/Region'}, inplace=True)\n",
    "for c in 'Cases, Deaths'.split(', '):\n",
    "    df_table[f'{c} (+)'] = (df_table[c] - df_table[f'P{c}']).clip(0)  # DATA BUG\n",
    "df_table['Fatality Rate'] = (100 * df_table['Deaths'] / df_table['Cases']).round(1)\n",
    "df_table['Continent'] = df_table['Country/Region'].map(mapping['map.continent'])\n",
    "df_table.head(5)"
   ]
  },
  {
   "cell_type": "code",
   "execution_count": 16,
   "id": "fewer-occasion",
   "metadata": {
    "execution": {
     "iopub.execute_input": "2021-01-21T00:43:32.583548Z",
     "iopub.status.busy": "2021-01-21T00:43:32.583024Z",
     "iopub.status.idle": "2021-01-21T00:43:32.585819Z",
     "shell.execute_reply": "2021-01-21T00:43:32.585334Z"
    },
    "papermill": {
     "duration": 0.04082,
     "end_time": "2021-01-21T00:43:32.585934",
     "exception": false,
     "start_time": "2021-01-21T00:43:32.545114",
     "status": "completed"
    },
    "tags": []
   },
   "outputs": [],
   "source": [
    "#hide\n",
    "#delete problematic countries from table\n",
    "df_table = df_table[~df_table['Country/Region'].isin(['Cape Verde', 'Cruise Ship', 'Kosovo'])]"
   ]
  },
  {
   "cell_type": "code",
   "execution_count": 17,
   "id": "related-center",
   "metadata": {
    "execution": {
     "iopub.execute_input": "2021-01-21T00:43:32.658039Z",
     "iopub.status.busy": "2021-01-21T00:43:32.657502Z",
     "iopub.status.idle": "2021-01-21T00:43:32.670211Z",
     "shell.execute_reply": "2021-01-21T00:43:32.670677Z"
    },
    "papermill": {
     "duration": 0.052975,
     "end_time": "2021-01-21T00:43:32.670797",
     "exception": false,
     "start_time": "2021-01-21T00:43:32.617822",
     "status": "completed"
    },
    "tags": []
   },
   "outputs": [],
   "source": [
    "#hide\n",
    "metrics = [df_table.columns[index] for index in [1,2,5,6]]\n",
    "# s_china = df_table[df_table['Country/Region'].eq('China')][metrics].sum().add_prefix('China ')\n",
    "s_us = df_table[df_table['Country/Region'].eq('US')][metrics].sum().add_prefix('US ')\n",
    "s_eu = df_table[df_table['Continent'].eq('Europe')][metrics].sum().add_prefix('EU ')\n",
    "s_ind = df_table[df_table['Country/Region'].eq('India')][metrics].sum().add_prefix('India ')\n",
    "summary = {'updated': pd.to_datetime(dt_today), 'since': pd.to_datetime(dt_yday)}\n",
    "summary = {'updated': pd.to_datetime(dt_today), 'since': pd.to_datetime(dt_yday)}\n",
    "summary = {**summary, **df_table[metrics].sum(), **s_ind, **s_us, **s_eu}"
   ]
  },
  {
   "cell_type": "code",
   "execution_count": 18,
   "id": "engaging-syndrome",
   "metadata": {
    "execution": {
     "iopub.execute_input": "2021-01-21T00:43:32.741443Z",
     "iopub.status.busy": "2021-01-21T00:43:32.740868Z",
     "iopub.status.idle": "2021-01-21T00:43:32.753605Z",
     "shell.execute_reply": "2021-01-21T00:43:32.753154Z"
    },
    "papermill": {
     "duration": 0.050429,
     "end_time": "2021-01-21T00:43:32.753716",
     "exception": false,
     "start_time": "2021-01-21T00:43:32.703287",
     "status": "completed"
    },
    "tags": []
   },
   "outputs": [],
   "source": [
    "#hide\n",
    "dft_ct_new_cases = dft_cases.groupby(COL_REGION)[dt_cols].sum().diff(axis=1).fillna(0).astype(int)"
   ]
  },
  {
   "cell_type": "code",
   "execution_count": 19,
   "id": "neutral-assignment",
   "metadata": {
    "execution": {
     "iopub.execute_input": "2021-01-21T00:43:32.826340Z",
     "iopub.status.busy": "2021-01-21T00:43:32.825811Z",
     "iopub.status.idle": "2021-01-21T00:43:32.828669Z",
     "shell.execute_reply": "2021-01-21T00:43:32.828185Z"
    },
    "papermill": {
     "duration": 0.041724,
     "end_time": "2021-01-21T00:43:32.828782",
     "exception": false,
     "start_time": "2021-01-21T00:43:32.787058",
     "status": "completed"
    },
    "tags": []
   },
   "outputs": [],
   "source": [
    "#hide\n",
    "everydaycases = dft_ct_new_cases.cumsum(axis=1)"
   ]
  },
  {
   "cell_type": "code",
   "execution_count": 20,
   "id": "parliamentary-calgary",
   "metadata": {
    "execution": {
     "iopub.execute_input": "2021-01-21T00:43:32.897311Z",
     "iopub.status.busy": "2021-01-21T00:43:32.896773Z",
     "iopub.status.idle": "2021-01-21T00:43:33.858193Z",
     "shell.execute_reply": "2021-01-21T00:43:33.857318Z"
    },
    "papermill": {
     "duration": 0.998206,
     "end_time": "2021-01-21T00:43:33.858416",
     "exception": false,
     "start_time": "2021-01-21T00:43:32.860210",
     "status": "completed"
    },
    "tags": []
   },
   "outputs": [],
   "source": [
    "#hide\n",
    "import pandas as pd\n",
    "import matplotlib.pyplot as plt\n",
    "import matplotlib.ticker as ticker\n",
    "import matplotlib.animation as animation\n",
    "from IPython.display import HTML"
   ]
  },
  {
   "cell_type": "code",
   "execution_count": 21,
   "id": "lasting-extraction",
   "metadata": {
    "execution": {
     "iopub.execute_input": "2021-01-21T00:43:33.932819Z",
     "iopub.status.busy": "2021-01-21T00:43:33.932246Z",
     "iopub.status.idle": "2021-01-21T00:43:33.937057Z",
     "shell.execute_reply": "2021-01-21T00:43:33.936594Z"
    },
    "papermill": {
     "duration": 0.045086,
     "end_time": "2021-01-21T00:43:33.937180",
     "exception": false,
     "start_time": "2021-01-21T00:43:33.892094",
     "status": "completed"
    },
    "tags": []
   },
   "outputs": [],
   "source": [
    "#hide\n",
    "t = everydaycases.stack()"
   ]
  },
  {
   "cell_type": "code",
   "execution_count": 22,
   "id": "premier-sleeve",
   "metadata": {
    "execution": {
     "iopub.execute_input": "2021-01-21T00:43:34.008751Z",
     "iopub.status.busy": "2021-01-21T00:43:34.008106Z",
     "iopub.status.idle": "2021-01-21T00:43:34.015302Z",
     "shell.execute_reply": "2021-01-21T00:43:34.014828Z"
    },
    "papermill": {
     "duration": 0.045695,
     "end_time": "2021-01-21T00:43:34.015431",
     "exception": false,
     "start_time": "2021-01-21T00:43:33.969736",
     "status": "completed"
    },
    "tags": []
   },
   "outputs": [],
   "source": [
    "#hide\n",
    "g = t.reset_index(['Country/Region'])"
   ]
  },
  {
   "cell_type": "code",
   "execution_count": 23,
   "id": "distributed-pittsburgh",
   "metadata": {
    "execution": {
     "iopub.execute_input": "2021-01-21T00:43:34.088603Z",
     "iopub.status.busy": "2021-01-21T00:43:34.087986Z",
     "iopub.status.idle": "2021-01-21T00:43:34.091981Z",
     "shell.execute_reply": "2021-01-21T00:43:34.091493Z"
    },
    "papermill": {
     "duration": 0.043903,
     "end_time": "2021-01-21T00:43:34.092103",
     "exception": false,
     "start_time": "2021-01-21T00:43:34.048200",
     "status": "completed"
    },
    "tags": []
   },
   "outputs": [],
   "source": [
    "#hide\n",
    "g.index.name = 'date'"
   ]
  },
  {
   "cell_type": "code",
   "execution_count": 24,
   "id": "naked-donor",
   "metadata": {
    "execution": {
     "iopub.execute_input": "2021-01-21T00:43:34.164472Z",
     "iopub.status.busy": "2021-01-21T00:43:34.163895Z",
     "iopub.status.idle": "2021-01-21T00:43:34.166289Z",
     "shell.execute_reply": "2021-01-21T00:43:34.165836Z"
    },
    "papermill": {
     "duration": 0.039618,
     "end_time": "2021-01-21T00:43:34.166402",
     "exception": false,
     "start_time": "2021-01-21T00:43:34.126784",
     "status": "completed"
    },
    "tags": []
   },
   "outputs": [],
   "source": [
    "# #hide\n",
    "# g = g.reset_index(['date'])"
   ]
  },
  {
   "cell_type": "code",
   "execution_count": 25,
   "id": "incomplete-mustang",
   "metadata": {
    "execution": {
     "iopub.execute_input": "2021-01-21T00:43:34.235559Z",
     "iopub.status.busy": "2021-01-21T00:43:34.234966Z",
     "iopub.status.idle": "2021-01-21T00:43:34.237315Z",
     "shell.execute_reply": "2021-01-21T00:43:34.236852Z"
    },
    "papermill": {
     "duration": 0.03895,
     "end_time": "2021-01-21T00:43:34.237431",
     "exception": false,
     "start_time": "2021-01-21T00:43:34.198481",
     "status": "completed"
    },
    "tags": []
   },
   "outputs": [],
   "source": [
    "#hide\n",
    "# g.head()"
   ]
  },
  {
   "cell_type": "code",
   "execution_count": 26,
   "id": "specific-kruger",
   "metadata": {
    "execution": {
     "iopub.execute_input": "2021-01-21T00:43:34.307310Z",
     "iopub.status.busy": "2021-01-21T00:43:34.306727Z",
     "iopub.status.idle": "2021-01-21T00:43:34.308837Z",
     "shell.execute_reply": "2021-01-21T00:43:34.308252Z"
    },
    "papermill": {
     "duration": 0.039197,
     "end_time": "2021-01-21T00:43:34.308960",
     "exception": false,
     "start_time": "2021-01-21T00:43:34.269763",
     "status": "completed"
    },
    "tags": []
   },
   "outputs": [],
   "source": [
    "#hide\n",
    "# g.columns = ['date','country','cases']"
   ]
  },
  {
   "cell_type": "code",
   "execution_count": 27,
   "id": "tender-conversion",
   "metadata": {
    "execution": {
     "iopub.execute_input": "2021-01-21T00:43:34.387433Z",
     "iopub.status.busy": "2021-01-21T00:43:34.386608Z",
     "iopub.status.idle": "2021-01-21T00:43:34.388085Z",
     "shell.execute_reply": "2021-01-21T00:43:34.388656Z"
    },
    "papermill": {
     "duration": 0.042365,
     "end_time": "2021-01-21T00:43:34.388807",
     "exception": false,
     "start_time": "2021-01-21T00:43:34.346442",
     "status": "completed"
    },
    "tags": []
   },
   "outputs": [],
   "source": [
    "#hide\n",
    "# g['continent'] = g.country"
   ]
  },
  {
   "cell_type": "code",
   "execution_count": 28,
   "id": "substantial-wilderness",
   "metadata": {
    "execution": {
     "iopub.execute_input": "2021-01-21T00:43:34.459030Z",
     "iopub.status.busy": "2021-01-21T00:43:34.458444Z",
     "iopub.status.idle": "2021-01-21T00:43:34.461344Z",
     "shell.execute_reply": "2021-01-21T00:43:34.460870Z"
    },
    "papermill": {
     "duration": 0.03948,
     "end_time": "2021-01-21T00:43:34.461467",
     "exception": false,
     "start_time": "2021-01-21T00:43:34.421987",
     "status": "completed"
    },
    "tags": []
   },
   "outputs": [],
   "source": [
    "#hide\n",
    "# cols = list(g.columns.values)"
   ]
  },
  {
   "cell_type": "code",
   "execution_count": 29,
   "id": "solved-farming",
   "metadata": {
    "execution": {
     "iopub.execute_input": "2021-01-21T00:43:34.529437Z",
     "iopub.status.busy": "2021-01-21T00:43:34.528851Z",
     "iopub.status.idle": "2021-01-21T00:43:34.530935Z",
     "shell.execute_reply": "2021-01-21T00:43:34.530411Z"
    },
    "papermill": {
     "duration": 0.037744,
     "end_time": "2021-01-21T00:43:34.531046",
     "exception": false,
     "start_time": "2021-01-21T00:43:34.493302",
     "status": "completed"
    },
    "tags": []
   },
   "outputs": [],
   "source": [
    "#hide\n",
    "# cols.insert(0, cols.pop())"
   ]
  },
  {
   "cell_type": "code",
   "execution_count": 30,
   "id": "executed-adoption",
   "metadata": {
    "execution": {
     "iopub.execute_input": "2021-01-21T00:43:34.599784Z",
     "iopub.status.busy": "2021-01-21T00:43:34.599212Z",
     "iopub.status.idle": "2021-01-21T00:43:34.601409Z",
     "shell.execute_reply": "2021-01-21T00:43:34.600920Z"
    },
    "papermill": {
     "duration": 0.038176,
     "end_time": "2021-01-21T00:43:34.601526",
     "exception": false,
     "start_time": "2021-01-21T00:43:34.563350",
     "status": "completed"
    },
    "tags": []
   },
   "outputs": [],
   "source": [
    "#hide\n",
    "# g = g[cols]"
   ]
  },
  {
   "cell_type": "code",
   "execution_count": 31,
   "id": "subject-dublin",
   "metadata": {
    "execution": {
     "iopub.execute_input": "2021-01-21T00:43:34.670202Z",
     "iopub.status.busy": "2021-01-21T00:43:34.669619Z",
     "iopub.status.idle": "2021-01-21T00:43:34.672020Z",
     "shell.execute_reply": "2021-01-21T00:43:34.671560Z"
    },
    "papermill": {
     "duration": 0.038494,
     "end_time": "2021-01-21T00:43:34.672134",
     "exception": false,
     "start_time": "2021-01-21T00:43:34.633640",
     "status": "completed"
    },
    "tags": []
   },
   "outputs": [],
   "source": [
    "#hide\n",
    "# g['continent'] = g['continent'].map(mapping['map.continent'])"
   ]
  },
  {
   "cell_type": "code",
   "execution_count": 32,
   "id": "freelance-scout",
   "metadata": {
    "execution": {
     "iopub.execute_input": "2021-01-21T00:43:34.740148Z",
     "iopub.status.busy": "2021-01-21T00:43:34.739614Z",
     "iopub.status.idle": "2021-01-21T00:43:34.742233Z",
     "shell.execute_reply": "2021-01-21T00:43:34.741742Z"
    },
    "papermill": {
     "duration": 0.038034,
     "end_time": "2021-01-21T00:43:34.742352",
     "exception": false,
     "start_time": "2021-01-21T00:43:34.704318",
     "status": "completed"
    },
    "tags": []
   },
   "outputs": [],
   "source": [
    "#hide\n",
    "# g.head()"
   ]
  },
  {
   "cell_type": "code",
   "execution_count": 33,
   "id": "limited-engine",
   "metadata": {
    "execution": {
     "iopub.execute_input": "2021-01-21T00:43:34.812276Z",
     "iopub.status.busy": "2021-01-21T00:43:34.811721Z",
     "iopub.status.idle": "2021-01-21T00:43:34.814121Z",
     "shell.execute_reply": "2021-01-21T00:43:34.813687Z"
    },
    "papermill": {
     "duration": 0.039886,
     "end_time": "2021-01-21T00:43:34.814237",
     "exception": false,
     "start_time": "2021-01-21T00:43:34.774351",
     "status": "completed"
    },
    "tags": []
   },
   "outputs": [],
   "source": [
    "# hide\n",
    "# g['date'] = g['date'].astype('datetime64[ns]')"
   ]
  },
  {
   "cell_type": "code",
   "execution_count": 34,
   "id": "sophisticated-supervisor",
   "metadata": {
    "execution": {
     "iopub.execute_input": "2021-01-21T00:43:34.882380Z",
     "iopub.status.busy": "2021-01-21T00:43:34.881807Z",
     "iopub.status.idle": "2021-01-21T00:43:34.884516Z",
     "shell.execute_reply": "2021-01-21T00:43:34.884004Z"
    },
    "papermill": {
     "duration": 0.038215,
     "end_time": "2021-01-21T00:43:34.884638",
     "exception": false,
     "start_time": "2021-01-21T00:43:34.846423",
     "status": "completed"
    },
    "tags": []
   },
   "outputs": [],
   "source": [
    "#hide\n",
    "# g['date'] = g.date.dt.dayofyear"
   ]
  },
  {
   "cell_type": "code",
   "execution_count": 35,
   "id": "inside-dubai",
   "metadata": {
    "execution": {
     "iopub.execute_input": "2021-01-21T00:43:34.953485Z",
     "iopub.status.busy": "2021-01-21T00:43:34.952923Z",
     "iopub.status.idle": "2021-01-21T00:43:34.955577Z",
     "shell.execute_reply": "2021-01-21T00:43:34.955120Z"
    },
    "papermill": {
     "duration": 0.039214,
     "end_time": "2021-01-21T00:43:34.955690",
     "exception": false,
     "start_time": "2021-01-21T00:43:34.916476",
     "status": "completed"
    },
    "tags": []
   },
   "outputs": [],
   "source": [
    "#hide\n",
    "# g = g.rename(columns= {'continent':'group','country':'name','cases':'value'})"
   ]
  },
  {
   "cell_type": "code",
   "execution_count": 36,
   "id": "fleet-motorcycle",
   "metadata": {
    "execution": {
     "iopub.execute_input": "2021-01-21T00:43:35.026013Z",
     "iopub.status.busy": "2021-01-21T00:43:35.025396Z",
     "iopub.status.idle": "2021-01-21T00:43:35.027604Z",
     "shell.execute_reply": "2021-01-21T00:43:35.027116Z"
    },
    "papermill": {
     "duration": 0.039015,
     "end_time": "2021-01-21T00:43:35.027720",
     "exception": false,
     "start_time": "2021-01-21T00:43:34.988705",
     "status": "completed"
    },
    "tags": []
   },
   "outputs": [],
   "source": [
    "#hide\n",
    "# cols = ['name','group','day','value']"
   ]
  },
  {
   "cell_type": "code",
   "execution_count": 37,
   "id": "continued-sleeping",
   "metadata": {
    "execution": {
     "iopub.execute_input": "2021-01-21T00:43:35.096993Z",
     "iopub.status.busy": "2021-01-21T00:43:35.096345Z",
     "iopub.status.idle": "2021-01-21T00:43:35.098590Z",
     "shell.execute_reply": "2021-01-21T00:43:35.098020Z"
    },
    "papermill": {
     "duration": 0.038446,
     "end_time": "2021-01-21T00:43:35.098710",
     "exception": false,
     "start_time": "2021-01-21T00:43:35.060264",
     "status": "completed"
    },
    "tags": []
   },
   "outputs": [],
   "source": [
    "#hide\n",
    "# g.rename(columns= {'date':'day'},inplace = True)"
   ]
  },
  {
   "cell_type": "code",
   "execution_count": 38,
   "id": "major-fight",
   "metadata": {
    "execution": {
     "iopub.execute_input": "2021-01-21T00:43:35.169942Z",
     "iopub.status.busy": "2021-01-21T00:43:35.169325Z",
     "iopub.status.idle": "2021-01-21T00:43:35.171603Z",
     "shell.execute_reply": "2021-01-21T00:43:35.171015Z"
    },
    "papermill": {
     "duration": 0.03929,
     "end_time": "2021-01-21T00:43:35.171729",
     "exception": false,
     "start_time": "2021-01-21T00:43:35.132439",
     "status": "completed"
    },
    "tags": []
   },
   "outputs": [],
   "source": [
    "#hide\n",
    "# g = g[cols]"
   ]
  },
  {
   "cell_type": "code",
   "execution_count": 39,
   "id": "structured-mobile",
   "metadata": {
    "execution": {
     "iopub.execute_input": "2021-01-21T00:43:35.239967Z",
     "iopub.status.busy": "2021-01-21T00:43:35.239392Z",
     "iopub.status.idle": "2021-01-21T00:43:35.241768Z",
     "shell.execute_reply": "2021-01-21T00:43:35.241265Z"
    },
    "papermill": {
     "duration": 0.037456,
     "end_time": "2021-01-21T00:43:35.241886",
     "exception": false,
     "start_time": "2021-01-21T00:43:35.204430",
     "status": "completed"
    },
    "tags": []
   },
   "outputs": [],
   "source": [
    "# #hide\n",
    "# g = g[g.group.notna()]"
   ]
  },
  {
   "cell_type": "code",
   "execution_count": 40,
   "id": "determined-closing",
   "metadata": {
    "execution": {
     "iopub.execute_input": "2021-01-21T00:43:35.308009Z",
     "iopub.status.busy": "2021-01-21T00:43:35.307438Z",
     "iopub.status.idle": "2021-01-21T00:43:35.310586Z",
     "shell.execute_reply": "2021-01-21T00:43:35.310135Z"
    },
    "papermill": {
     "duration": 0.039247,
     "end_time": "2021-01-21T00:43:35.310693",
     "exception": false,
     "start_time": "2021-01-21T00:43:35.271446",
     "status": "completed"
    },
    "tags": []
   },
   "outputs": [],
   "source": [
    "# #hide\n",
    "# colors = dict(zip(\n",
    "#     [\"Oceania\", \"Europe\", \"Asia\", \"South America\", \"Middle East\", \"North America\", \"Africa\"],\n",
    "#     [\"#adb0ff\", \"#ffb3ff\", \"#90d595\", \"#e48381\", \"#aafbff\", \"#f7bb5f\", \"#eafb50\"]\n",
    "# ))\n",
    "# group_lk = g.set_index('name')['group'].to_dict()"
   ]
  },
  {
   "cell_type": "code",
   "execution_count": null,
   "id": "gross-drinking",
   "metadata": {
    "papermill": {
     "duration": 0.031942,
     "end_time": "2021-01-21T00:43:35.373119",
     "exception": false,
     "start_time": "2021-01-21T00:43:35.341177",
     "status": "completed"
    },
    "tags": []
   },
   "outputs": [],
   "source": []
  },
  {
   "cell_type": "code",
   "execution_count": 41,
   "id": "subject-macintosh",
   "metadata": {
    "execution": {
     "iopub.execute_input": "2021-01-21T00:43:35.443797Z",
     "iopub.status.busy": "2021-01-21T00:43:35.443215Z",
     "iopub.status.idle": "2021-01-21T00:43:35.445377Z",
     "shell.execute_reply": "2021-01-21T00:43:35.444886Z"
    },
    "papermill": {
     "duration": 0.039647,
     "end_time": "2021-01-21T00:43:35.445496",
     "exception": false,
     "start_time": "2021-01-21T00:43:35.405849",
     "status": "completed"
    },
    "tags": []
   },
   "outputs": [],
   "source": [
    "# #hide\n",
    "# fig, ax = plt.subplots(figsize=(15, 8))\n",
    "\n",
    "# def draw_barchart(current_day):\n",
    "#     dff = g[g['day'].eq(current_day)].sort_values(by='value', ascending=True).tail(10)\n",
    "#     ax.clear()\n",
    "#     ax.barh(dff['name'], dff['value'], color=[colors[group_lk[x]] for x in dff['name']])\n",
    "#     dx = dff['value'].max() / 200\n",
    "    \n",
    "#     for i, (value, name) in enumerate(zip(dff['value'], dff['name'])):\n",
    "#         ax.text(value-dx, i,     name,           size=14, weight=600, ha='right', va='bottom')\n",
    "#         ax.text(value-dx, i-.25, group_lk[name], size=10, color='#444444', ha='right', va='baseline')\n",
    "#         ax.text(value+dx, i,     f'{value:,.0f}',  size=14, ha='left',  va='center')\n",
    "#     ax.text(1, 0.4, current_day, transform=ax.transAxes, color='#777777', size=46, ha='right', weight=800)\n",
    "#     ax.text(0, 1.06, 'Population (thousands)', transform=ax.transAxes, size=12, color='#777777')\n",
    "#     ax.xaxis.set_major_formatter(ticker.StrMethodFormatter('{x:,.0f}'))\n",
    "#     ax.xaxis.set_ticks_position('top')\n",
    "#     ax.tick_params(axis='x', colors='#777777', labelsize=12)\n",
    "#     ax.set_yticks([])\n",
    "#     ax.margins(0, 0.01)\n",
    "#     ax.grid(which='major', axis='x', linestyle='-')\n",
    "#     ax.set_axisbelow(True)\n",
    "    \n",
    "#     ax.text(0, 1.15, 'Coronavirus',\n",
    "#             transform=ax.transAxes, size=24, weight=600, ha='left', va='top')\n",
    "# #     ax.text(1, 0, 'by @pratapvardhan; credit @jburnmurdoch', transform=ax.transAxes, color='#777777', ha='right',\n",
    "# #             bbox=dict(facecolor='white', alpha=0.8, edgecolor='white'))\n",
    "#     plt.box(False)"
   ]
  },
  {
   "cell_type": "code",
   "execution_count": 42,
   "id": "sexual-wages",
   "metadata": {
    "execution": {
     "iopub.execute_input": "2021-01-21T00:43:35.513960Z",
     "iopub.status.busy": "2021-01-21T00:43:35.513398Z",
     "iopub.status.idle": "2021-01-21T00:43:35.515518Z",
     "shell.execute_reply": "2021-01-21T00:43:35.516026Z"
    },
    "papermill": {
     "duration": 0.038719,
     "end_time": "2021-01-21T00:43:35.516154",
     "exception": false,
     "start_time": "2021-01-21T00:43:35.477435",
     "status": "completed"
    },
    "tags": []
   },
   "outputs": [],
   "source": [
    "# #hide_input\n",
    "# fig, ax = plt.subplots(figsize=(15, 8))\n",
    "# animator = animation.FuncAnimation(fig, draw_barchart, frames=range(g.day.values.min(), g.day.values.max()))\n",
    "# HTML(animator.to_jshtml())\n",
    "# # or use animator.to_html5_video() or animator.save() "
   ]
  },
  {
   "cell_type": "code",
   "execution_count": null,
   "id": "australian-container",
   "metadata": {
    "papermill": {
     "duration": 0.031772,
     "end_time": "2021-01-21T00:43:35.580201",
     "exception": false,
     "start_time": "2021-01-21T00:43:35.548429",
     "status": "completed"
    },
    "tags": []
   },
   "outputs": [],
   "source": []
  },
  {
   "cell_type": "code",
   "execution_count": null,
   "id": "mediterranean-pontiac",
   "metadata": {
    "papermill": {
     "duration": 0.031924,
     "end_time": "2021-01-21T00:43:35.644388",
     "exception": false,
     "start_time": "2021-01-21T00:43:35.612464",
     "status": "completed"
    },
    "tags": []
   },
   "outputs": [],
   "source": []
  },
  {
   "cell_type": "code",
   "execution_count": null,
   "id": "aging-legislature",
   "metadata": {
    "papermill": {
     "duration": 0.031427,
     "end_time": "2021-01-21T00:43:35.708020",
     "exception": false,
     "start_time": "2021-01-21T00:43:35.676593",
     "status": "completed"
    },
    "tags": []
   },
   "outputs": [],
   "source": []
  }
 ],
 "metadata": {
  "kernelspec": {
   "display_name": "Python 3",
   "language": "python",
   "name": "python3"
  },
  "language_info": {
   "codemirror_mode": {
    "name": "ipython",
    "version": 3
   },
   "file_extension": ".py",
   "mimetype": "text/x-python",
   "name": "python",
   "nbconvert_exporter": "python",
   "pygments_lexer": "ipython3",
   "version": "3.6.12"
  },
  "papermill": {
   "duration": 6.606569,
   "end_time": "2021-01-21T00:43:36.047610",
   "environment_variables": {},
   "exception": null,
   "input_path": "2020-03-21-covid19exp.ipynb",
   "output_path": "2020-03-21-covid19exp.ipynb",
   "parameters": {},
   "start_time": "2021-01-21T00:43:29.441041",
   "version": "2.0.0"
  }
 },
 "nbformat": 4,
 "nbformat_minor": 5
}