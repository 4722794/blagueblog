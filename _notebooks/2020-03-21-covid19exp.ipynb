{
 "cells": [
  {
   "cell_type": "markdown",
   "id": "muslim-click",
   "metadata": {
    "papermill": {
     "duration": 0.048829,
     "end_time": "2021-02-19T12:06:52.776066",
     "exception": false,
     "start_time": "2021-02-19T12:06:52.727237",
     "status": "completed"
    },
    "tags": []
   },
   "source": [
    "# COVID-19 Case Race\n",
    "> A race chart to see rising cases around the world\n",
    "\n",
    "- author: Hargun Oberoi\n",
    "- image: images/covid-overview.png\n",
    "- hide: false\n",
    "- badges: false"
   ]
  },
  {
   "cell_type": "code",
   "execution_count": 1,
   "id": "proof-material",
   "metadata": {
    "execution": {
     "iopub.execute_input": "2021-02-19T12:06:52.860454Z",
     "iopub.status.busy": "2021-02-19T12:06:52.859840Z",
     "iopub.status.idle": "2021-02-19T12:06:53.209743Z",
     "shell.execute_reply": "2021-02-19T12:06:53.209173Z"
    },
    "papermill": {
     "duration": 0.397891,
     "end_time": "2021-02-19T12:06:53.209905",
     "exception": false,
     "start_time": "2021-02-19T12:06:52.812014",
     "status": "completed"
    },
    "tags": []
   },
   "outputs": [],
   "source": [
    "#hide\n",
    "import numpy as np\n",
    "import pandas as pd\n",
    "from jinja2 import Template\n",
    "from IPython.display import HTML"
   ]
  },
  {
   "cell_type": "code",
   "execution_count": 2,
   "id": "developed-terminology",
   "metadata": {
    "execution": {
     "iopub.execute_input": "2021-02-19T12:06:53.291218Z",
     "iopub.status.busy": "2021-02-19T12:06:53.290105Z",
     "iopub.status.idle": "2021-02-19T12:06:53.291869Z",
     "shell.execute_reply": "2021-02-19T12:06:53.292347Z"
    },
    "papermill": {
     "duration": 0.044198,
     "end_time": "2021-02-19T12:06:53.292489",
     "exception": false,
     "start_time": "2021-02-19T12:06:53.248291",
     "status": "completed"
    },
    "tags": []
   },
   "outputs": [],
   "source": [
    "#hide\n",
    "\n",
    "# FETCH\n",
    "base_url = 'https://raw.githubusercontent.com/pratapvardhan/notebooks/master/covid19/'\n",
    "paths = {\n",
    "    'mapping': base_url + 'mapping_countries.csv',\n",
    "    'overview': base_url + 'overview.tpl'\n",
    "}"
   ]
  },
  {
   "cell_type": "code",
   "execution_count": 3,
   "id": "dynamic-saver",
   "metadata": {
    "execution": {
     "iopub.execute_input": "2021-02-19T12:06:53.373554Z",
     "iopub.status.busy": "2021-02-19T12:06:53.368392Z",
     "iopub.status.idle": "2021-02-19T12:06:53.376350Z",
     "shell.execute_reply": "2021-02-19T12:06:53.376815Z"
    },
    "papermill": {
     "duration": 0.050537,
     "end_time": "2021-02-19T12:06:53.376961",
     "exception": false,
     "start_time": "2021-02-19T12:06:53.326424",
     "status": "completed"
    },
    "tags": []
   },
   "outputs": [
    {
     "data": {
      "text/plain": [
       "'https://raw.githubusercontent.com/pratapvardhan/notebooks/master/covid19/mapping_countries.csv'"
      ]
     },
     "execution_count": 3,
     "metadata": {},
     "output_type": "execute_result"
    }
   ],
   "source": [
    "#hide\n",
    "paths['mapping']"
   ]
  },
  {
   "cell_type": "code",
   "execution_count": 4,
   "id": "urban-software",
   "metadata": {
    "execution": {
     "iopub.execute_input": "2021-02-19T12:06:53.453332Z",
     "iopub.status.busy": "2021-02-19T12:06:53.452715Z",
     "iopub.status.idle": "2021-02-19T12:06:53.455248Z",
     "shell.execute_reply": "2021-02-19T12:06:53.454727Z"
    },
    "papermill": {
     "duration": 0.043972,
     "end_time": "2021-02-19T12:06:53.455370",
     "exception": false,
     "start_time": "2021-02-19T12:06:53.411398",
     "status": "completed"
    },
    "tags": []
   },
   "outputs": [],
   "source": [
    "#hide\n",
    "def get_mappings(url):\n",
    "    df = pd.read_csv(url)\n",
    "    return {\n",
    "        'df': df,\n",
    "        'replace.country': dict(df.dropna(subset=['Name']).set_index('Country')['Name']),\n",
    "        'map.continent': dict(df.set_index('Name')['Continent'])\n",
    "    }"
   ]
  },
  {
   "cell_type": "code",
   "execution_count": 5,
   "id": "intimate-machinery",
   "metadata": {
    "execution": {
     "iopub.execute_input": "2021-02-19T12:06:53.529451Z",
     "iopub.status.busy": "2021-02-19T12:06:53.528829Z",
     "iopub.status.idle": "2021-02-19T12:06:53.560667Z",
     "shell.execute_reply": "2021-02-19T12:06:53.559831Z"
    },
    "papermill": {
     "duration": 0.071351,
     "end_time": "2021-02-19T12:06:53.560869",
     "exception": false,
     "start_time": "2021-02-19T12:06:53.489518",
     "status": "completed"
    },
    "tags": []
   },
   "outputs": [],
   "source": [
    "#hide\n",
    "mapping = get_mappings(paths['mapping'])"
   ]
  },
  {
   "cell_type": "code",
   "execution_count": 6,
   "id": "certified-tactics",
   "metadata": {
    "execution": {
     "iopub.execute_input": "2021-02-19T12:06:53.637599Z",
     "iopub.status.busy": "2021-02-19T12:06:53.636989Z",
     "iopub.status.idle": "2021-02-19T12:06:53.639318Z",
     "shell.execute_reply": "2021-02-19T12:06:53.638802Z"
    },
    "papermill": {
     "duration": 0.042949,
     "end_time": "2021-02-19T12:06:53.639441",
     "exception": false,
     "start_time": "2021-02-19T12:06:53.596492",
     "status": "completed"
    },
    "tags": []
   },
   "outputs": [],
   "source": [
    "#hide\n",
    "def get_template(path):\n",
    "    from urllib.parse import urlparse\n",
    "    if bool(urlparse(path).netloc):\n",
    "        from urllib.request import urlopen\n",
    "        return urlopen(path).read().decode('utf8')\n",
    "    return open(path).read()"
   ]
  },
  {
   "cell_type": "code",
   "execution_count": 7,
   "id": "realistic-blast",
   "metadata": {
    "execution": {
     "iopub.execute_input": "2021-02-19T12:06:53.713305Z",
     "iopub.status.busy": "2021-02-19T12:06:53.712704Z",
     "iopub.status.idle": "2021-02-19T12:06:53.715149Z",
     "shell.execute_reply": "2021-02-19T12:06:53.715727Z"
    },
    "papermill": {
     "duration": 0.042365,
     "end_time": "2021-02-19T12:06:53.715860",
     "exception": false,
     "start_time": "2021-02-19T12:06:53.673495",
     "status": "completed"
    },
    "tags": []
   },
   "outputs": [],
   "source": [
    "#hide\n",
    "def get_frame(name):\n",
    "    url = (\n",
    "        'https://raw.githubusercontent.com/CSSEGISandData/COVID-19/master/csse_covid_19_data/'\n",
    "        f'csse_covid_19_time_series/time_series_covid19_{name}_global.csv')\n",
    "    df = pd.read_csv(url)\n",
    "    # rename countries\n",
    "    df['Country/Region'] = df['Country/Region'].replace(mapping['replace.country'])\n",
    "    return df"
   ]
  },
  {
   "cell_type": "code",
   "execution_count": 8,
   "id": "affiliated-characterization",
   "metadata": {
    "execution": {
     "iopub.execute_input": "2021-02-19T12:06:53.791296Z",
     "iopub.status.busy": "2021-02-19T12:06:53.790687Z",
     "iopub.status.idle": "2021-02-19T12:06:53.793051Z",
     "shell.execute_reply": "2021-02-19T12:06:53.792565Z"
    },
    "papermill": {
     "duration": 0.043163,
     "end_time": "2021-02-19T12:06:53.793172",
     "exception": false,
     "start_time": "2021-02-19T12:06:53.750009",
     "status": "completed"
    },
    "tags": []
   },
   "outputs": [],
   "source": [
    "#hide\n",
    "def get_dates(df):\n",
    "    dt_cols = df.columns[~df.columns.isin(['Province/State', 'Country/Region', 'Lat', 'Long'])]\n",
    "    LAST_DATE_I = -1\n",
    "    # sometimes last column may be empty, then go backwards\n",
    "    for i in range(-1, -len(dt_cols), -1):\n",
    "        if not df[dt_cols[i]].fillna(0).eq(0).all():\n",
    "            LAST_DATE_I = i\n",
    "            break\n",
    "    return LAST_DATE_I, dt_cols"
   ]
  },
  {
   "cell_type": "code",
   "execution_count": 9,
   "id": "recent-optimization",
   "metadata": {
    "execution": {
     "iopub.execute_input": "2021-02-19T12:06:53.865997Z",
     "iopub.status.busy": "2021-02-19T12:06:53.865070Z",
     "iopub.status.idle": "2021-02-19T12:06:54.134680Z",
     "shell.execute_reply": "2021-02-19T12:06:54.133894Z"
    },
    "papermill": {
     "duration": 0.307747,
     "end_time": "2021-02-19T12:06:54.134870",
     "exception": false,
     "start_time": "2021-02-19T12:06:53.827123",
     "status": "completed"
    },
    "tags": []
   },
   "outputs": [],
   "source": [
    "#hide\n",
    "COL_REGION = 'Country/Region'\n",
    "# Confirmed, Recovered, Deaths\n",
    "df = get_frame('confirmed')\n",
    "# dft_: timeseries, dfc_: today country agg\n",
    "dft_cases = df\n",
    "dft_deaths = get_frame('deaths')\n",
    "dft_recovered = get_frame('recovered')\n",
    "LAST_DATE_I, dt_cols = get_dates(df)"
   ]
  },
  {
   "cell_type": "code",
   "execution_count": 10,
   "id": "absolute-copper",
   "metadata": {
    "execution": {
     "iopub.execute_input": "2021-02-19T12:06:54.213747Z",
     "iopub.status.busy": "2021-02-19T12:06:54.213133Z",
     "iopub.status.idle": "2021-02-19T12:06:54.215723Z",
     "shell.execute_reply": "2021-02-19T12:06:54.215230Z"
    },
    "papermill": {
     "duration": 0.043974,
     "end_time": "2021-02-19T12:06:54.215851",
     "exception": false,
     "start_time": "2021-02-19T12:06:54.171877",
     "status": "completed"
    },
    "tags": []
   },
   "outputs": [],
   "source": [
    "#hide\n",
    "LAST_DATE_I, dt_cols = get_dates(df)\n",
    "dt_today =dt_cols[LAST_DATE_I]\n",
    "# dt_5day = dt_cols[LAST_DATE_I - 5]\n",
    "dt_yday = dt_cols[LAST_DATE_I - 1]"
   ]
  },
  {
   "cell_type": "code",
   "execution_count": 11,
   "id": "restricted-sheriff",
   "metadata": {
    "execution": {
     "iopub.execute_input": "2021-02-19T12:06:54.292583Z",
     "iopub.status.busy": "2021-02-19T12:06:54.291967Z",
     "iopub.status.idle": "2021-02-19T12:06:54.301064Z",
     "shell.execute_reply": "2021-02-19T12:06:54.301592Z"
    },
    "papermill": {
     "duration": 0.051785,
     "end_time": "2021-02-19T12:06:54.301737",
     "exception": false,
     "start_time": "2021-02-19T12:06:54.249952",
     "status": "completed"
    },
    "tags": []
   },
   "outputs": [],
   "source": [
    "#hide\n",
    "dfc_cases = dft_cases.groupby(COL_REGION)[dt_today].sum()\n",
    "dfc_deaths = dft_deaths.groupby(COL_REGION)[dt_today].sum()\n",
    "# dfp_cases = dft_cases.groupby(COL_REGION)[dt_5day].sum()\n",
    "# dfp_deaths = dft_deaths.groupby(COL_REGION)[dt_5day].sum()\n",
    "dfp_cases = dft_cases.groupby(COL_REGION)[dt_yday].sum()\n",
    "dfp_deaths = dft_deaths.groupby(COL_REGION)[dt_yday].sum()"
   ]
  },
  {
   "cell_type": "code",
   "execution_count": 12,
   "id": "deluxe-hepatitis",
   "metadata": {
    "execution": {
     "iopub.execute_input": "2021-02-19T12:06:54.375888Z",
     "iopub.status.busy": "2021-02-19T12:06:54.375281Z",
     "iopub.status.idle": "2021-02-19T12:06:54.379396Z",
     "shell.execute_reply": "2021-02-19T12:06:54.379862Z"
    },
    "papermill": {
     "duration": 0.043956,
     "end_time": "2021-02-19T12:06:54.380001",
     "exception": false,
     "start_time": "2021-02-19T12:06:54.336045",
     "status": "completed"
    },
    "tags": []
   },
   "outputs": [],
   "source": [
    "#hide\n",
    "df_table = (pd.DataFrame(dict(Cases = dfc_cases, Deaths = dfc_deaths, PCases = dfp_cases, PDeaths = dfp_deaths))\n",
    "            .sort_values(by = ['Cases','Deaths'], ascending = [False, False])\n",
    "            .reset_index())"
   ]
  },
  {
   "cell_type": "code",
   "execution_count": 13,
   "id": "educational-chancellor",
   "metadata": {
    "execution": {
     "iopub.execute_input": "2021-02-19T12:06:54.470613Z",
     "iopub.status.busy": "2021-02-19T12:06:54.469970Z",
     "iopub.status.idle": "2021-02-19T12:06:54.478205Z",
     "shell.execute_reply": "2021-02-19T12:06:54.477696Z"
    },
    "papermill": {
     "duration": 0.064369,
     "end_time": "2021-02-19T12:06:54.478331",
     "exception": false,
     "start_time": "2021-02-19T12:06:54.413962",
     "status": "completed"
    },
    "tags": []
   },
   "outputs": [
    {
     "data": {
      "text/html": [
       "<div>\n",
       "<style scoped>\n",
       "    .dataframe tbody tr th:only-of-type {\n",
       "        vertical-align: middle;\n",
       "    }\n",
       "\n",
       "    .dataframe tbody tr th {\n",
       "        vertical-align: top;\n",
       "    }\n",
       "\n",
       "    .dataframe thead th {\n",
       "        text-align: right;\n",
       "    }\n",
       "</style>\n",
       "<table border=\"1\" class=\"dataframe\">\n",
       "  <thead>\n",
       "    <tr style=\"text-align: right;\">\n",
       "      <th></th>\n",
       "      <th>Country/Region</th>\n",
       "      <th>Cases</th>\n",
       "      <th>Deaths</th>\n",
       "      <th>PCases</th>\n",
       "      <th>PDeaths</th>\n",
       "      <th>Cases (+)</th>\n",
       "      <th>Deaths (+)</th>\n",
       "      <th>Fatality Rate</th>\n",
       "      <th>Continent</th>\n",
       "    </tr>\n",
       "  </thead>\n",
       "  <tbody>\n",
       "    <tr>\n",
       "      <th>0</th>\n",
       "      <td>US</td>\n",
       "      <td>27896040</td>\n",
       "      <td>493098</td>\n",
       "      <td>27826812</td>\n",
       "      <td>490540</td>\n",
       "      <td>69228</td>\n",
       "      <td>2558</td>\n",
       "      <td>1.77</td>\n",
       "      <td>North America</td>\n",
       "    </tr>\n",
       "    <tr>\n",
       "      <th>1</th>\n",
       "      <td>India</td>\n",
       "      <td>10963394</td>\n",
       "      <td>156111</td>\n",
       "      <td>10950201</td>\n",
       "      <td>156014</td>\n",
       "      <td>13193</td>\n",
       "      <td>97</td>\n",
       "      <td>1.42</td>\n",
       "      <td>Asia</td>\n",
       "    </tr>\n",
       "    <tr>\n",
       "      <th>2</th>\n",
       "      <td>Brazil</td>\n",
       "      <td>10030626</td>\n",
       "      <td>243457</td>\n",
       "      <td>9978747</td>\n",
       "      <td>242090</td>\n",
       "      <td>51879</td>\n",
       "      <td>1367</td>\n",
       "      <td>2.43</td>\n",
       "      <td>South America</td>\n",
       "    </tr>\n",
       "    <tr>\n",
       "      <th>3</th>\n",
       "      <td>United Kingdom</td>\n",
       "      <td>4095187</td>\n",
       "      <td>119614</td>\n",
       "      <td>4083092</td>\n",
       "      <td>119159</td>\n",
       "      <td>12095</td>\n",
       "      <td>455</td>\n",
       "      <td>2.92</td>\n",
       "      <td>Europe</td>\n",
       "    </tr>\n",
       "    <tr>\n",
       "      <th>4</th>\n",
       "      <td>Russia</td>\n",
       "      <td>4079407</td>\n",
       "      <td>80587</td>\n",
       "      <td>4066164</td>\n",
       "      <td>80118</td>\n",
       "      <td>13243</td>\n",
       "      <td>469</td>\n",
       "      <td>1.98</td>\n",
       "      <td>Europe</td>\n",
       "    </tr>\n",
       "  </tbody>\n",
       "</table>\n",
       "</div>"
      ],
      "text/plain": [
       "   Country/Region     Cases  Deaths    PCases  PDeaths  Cases (+)  Deaths (+)  \\\n",
       "0              US  27896040  493098  27826812   490540      69228        2558   \n",
       "1           India  10963394  156111  10950201   156014      13193          97   \n",
       "2          Brazil  10030626  243457   9978747   242090      51879        1367   \n",
       "3  United Kingdom   4095187  119614   4083092   119159      12095         455   \n",
       "4          Russia   4079407   80587   4066164    80118      13243         469   \n",
       "\n",
       "   Fatality Rate      Continent  \n",
       "0           1.77  North America  \n",
       "1           1.42           Asia  \n",
       "2           2.43  South America  \n",
       "3           2.92         Europe  \n",
       "4           1.98         Europe  "
      ]
     },
     "execution_count": 13,
     "metadata": {},
     "output_type": "execute_result"
    }
   ],
   "source": [
    "#hide\n",
    "for c in 'Cases, Deaths'.split(', '):\n",
    "    df_table[f'{c} (+)'] = (df_table[c] - df_table[f'P{c}']).clip(0)\n",
    "    #Clip ça veut dire, les chiffres negatif sont interdit\n",
    "df_table['Fatality Rate'] = (100* df_table['Deaths']/ df_table['Cases']).round(2)\n",
    "df_table['Continent'] = df_table['Country/Region'].map(mapping['map.continent'])\n",
    "df_table.head(5)"
   ]
  },
  {
   "cell_type": "code",
   "execution_count": 14,
   "id": "aboriginal-bulgaria",
   "metadata": {
    "execution": {
     "iopub.execute_input": "2021-02-19T12:06:54.557312Z",
     "iopub.status.busy": "2021-02-19T12:06:54.556699Z",
     "iopub.status.idle": "2021-02-19T12:06:54.559246Z",
     "shell.execute_reply": "2021-02-19T12:06:54.559767Z"
    },
    "papermill": {
     "duration": 0.046523,
     "end_time": "2021-02-19T12:06:54.559912",
     "exception": false,
     "start_time": "2021-02-19T12:06:54.513389",
     "status": "completed"
    },
    "tags": []
   },
   "outputs": [],
   "source": [
    "#hide\n",
    "#delete problematic countries from table\n",
    "df_table = df_table[~df_table['Country/Region'].isin(['Cape Verde', 'Cruise Ship', 'Kosovo'])]"
   ]
  },
  {
   "cell_type": "code",
   "execution_count": 15,
   "id": "fantastic-effect",
   "metadata": {
    "execution": {
     "iopub.execute_input": "2021-02-19T12:06:54.640248Z",
     "iopub.status.busy": "2021-02-19T12:06:54.639637Z",
     "iopub.status.idle": "2021-02-19T12:06:54.658316Z",
     "shell.execute_reply": "2021-02-19T12:06:54.658825Z"
    },
    "papermill": {
     "duration": 0.064439,
     "end_time": "2021-02-19T12:06:54.658968",
     "exception": false,
     "start_time": "2021-02-19T12:06:54.594529",
     "status": "completed"
    },
    "tags": []
   },
   "outputs": [
    {
     "data": {
      "text/html": [
       "<div>\n",
       "<style scoped>\n",
       "    .dataframe tbody tr th:only-of-type {\n",
       "        vertical-align: middle;\n",
       "    }\n",
       "\n",
       "    .dataframe tbody tr th {\n",
       "        vertical-align: top;\n",
       "    }\n",
       "\n",
       "    .dataframe thead th {\n",
       "        text-align: right;\n",
       "    }\n",
       "</style>\n",
       "<table border=\"1\" class=\"dataframe\">\n",
       "  <thead>\n",
       "    <tr style=\"text-align: right;\">\n",
       "      <th></th>\n",
       "      <th>Country/Region</th>\n",
       "      <th>Cases</th>\n",
       "      <th>Deaths</th>\n",
       "      <th>PCases</th>\n",
       "      <th>PDeaths</th>\n",
       "      <th>Cases (+)</th>\n",
       "      <th>Deaths (+)</th>\n",
       "      <th>Fatality Rate</th>\n",
       "      <th>Continent</th>\n",
       "    </tr>\n",
       "  </thead>\n",
       "  <tbody>\n",
       "    <tr>\n",
       "      <th>0</th>\n",
       "      <td>US</td>\n",
       "      <td>27896040</td>\n",
       "      <td>493098</td>\n",
       "      <td>27826812</td>\n",
       "      <td>490540</td>\n",
       "      <td>69228</td>\n",
       "      <td>2558</td>\n",
       "      <td>1.8</td>\n",
       "      <td>North America</td>\n",
       "    </tr>\n",
       "    <tr>\n",
       "      <th>1</th>\n",
       "      <td>India</td>\n",
       "      <td>10963394</td>\n",
       "      <td>156111</td>\n",
       "      <td>10950201</td>\n",
       "      <td>156014</td>\n",
       "      <td>13193</td>\n",
       "      <td>97</td>\n",
       "      <td>1.4</td>\n",
       "      <td>Asia</td>\n",
       "    </tr>\n",
       "    <tr>\n",
       "      <th>2</th>\n",
       "      <td>Brazil</td>\n",
       "      <td>10030626</td>\n",
       "      <td>243457</td>\n",
       "      <td>9978747</td>\n",
       "      <td>242090</td>\n",
       "      <td>51879</td>\n",
       "      <td>1367</td>\n",
       "      <td>2.4</td>\n",
       "      <td>South America</td>\n",
       "    </tr>\n",
       "    <tr>\n",
       "      <th>3</th>\n",
       "      <td>United Kingdom</td>\n",
       "      <td>4095187</td>\n",
       "      <td>119614</td>\n",
       "      <td>4083092</td>\n",
       "      <td>119159</td>\n",
       "      <td>12095</td>\n",
       "      <td>455</td>\n",
       "      <td>2.9</td>\n",
       "      <td>Europe</td>\n",
       "    </tr>\n",
       "    <tr>\n",
       "      <th>4</th>\n",
       "      <td>Russia</td>\n",
       "      <td>4079407</td>\n",
       "      <td>80587</td>\n",
       "      <td>4066164</td>\n",
       "      <td>80118</td>\n",
       "      <td>13243</td>\n",
       "      <td>469</td>\n",
       "      <td>2.0</td>\n",
       "      <td>Europe</td>\n",
       "    </tr>\n",
       "  </tbody>\n",
       "</table>\n",
       "</div>"
      ],
      "text/plain": [
       "   Country/Region     Cases  Deaths    PCases  PDeaths  Cases (+)  Deaths (+)  \\\n",
       "0              US  27896040  493098  27826812   490540      69228        2558   \n",
       "1           India  10963394  156111  10950201   156014      13193          97   \n",
       "2          Brazil  10030626  243457   9978747   242090      51879        1367   \n",
       "3  United Kingdom   4095187  119614   4083092   119159      12095         455   \n",
       "4          Russia   4079407   80587   4066164    80118      13243         469   \n",
       "\n",
       "   Fatality Rate      Continent  \n",
       "0            1.8  North America  \n",
       "1            1.4           Asia  \n",
       "2            2.4  South America  \n",
       "3            2.9         Europe  \n",
       "4            2.0         Europe  "
      ]
     },
     "execution_count": 15,
     "metadata": {},
     "output_type": "execute_result"
    }
   ],
   "source": [
    "#hide\n",
    "df_table = (pd.DataFrame(dict(Cases=dfc_cases, Deaths=dfc_deaths, PCases=dfp_cases, PDeaths=dfp_deaths))\n",
    "             .sort_values(by=['Cases', 'Deaths'], ascending=[False, False])\n",
    "             .reset_index())\n",
    "df_table.rename(columns={'index': 'Country/Region'}, inplace=True)\n",
    "for c in 'Cases, Deaths'.split(', '):\n",
    "    df_table[f'{c} (+)'] = (df_table[c] - df_table[f'P{c}']).clip(0)  # DATA BUG\n",
    "df_table['Fatality Rate'] = (100 * df_table['Deaths'] / df_table['Cases']).round(1)\n",
    "df_table['Continent'] = df_table['Country/Region'].map(mapping['map.continent'])\n",
    "df_table.head(5)"
   ]
  },
  {
   "cell_type": "code",
   "execution_count": 16,
   "id": "fewer-occasion",
   "metadata": {
    "execution": {
     "iopub.execute_input": "2021-02-19T12:06:54.735494Z",
     "iopub.status.busy": "2021-02-19T12:06:54.734886Z",
     "iopub.status.idle": "2021-02-19T12:06:54.737161Z",
     "shell.execute_reply": "2021-02-19T12:06:54.736567Z"
    },
    "papermill": {
     "duration": 0.042658,
     "end_time": "2021-02-19T12:06:54.737282",
     "exception": false,
     "start_time": "2021-02-19T12:06:54.694624",
     "status": "completed"
    },
    "tags": []
   },
   "outputs": [],
   "source": [
    "#hide\n",
    "#delete problematic countries from table\n",
    "df_table = df_table[~df_table['Country/Region'].isin(['Cape Verde', 'Cruise Ship', 'Kosovo'])]"
   ]
  },
  {
   "cell_type": "code",
   "execution_count": 17,
   "id": "related-center",
   "metadata": {
    "execution": {
     "iopub.execute_input": "2021-02-19T12:06:54.828838Z",
     "iopub.status.busy": "2021-02-19T12:06:54.828210Z",
     "iopub.status.idle": "2021-02-19T12:06:54.830122Z",
     "shell.execute_reply": "2021-02-19T12:06:54.830621Z"
    },
    "papermill": {
     "duration": 0.058251,
     "end_time": "2021-02-19T12:06:54.830768",
     "exception": false,
     "start_time": "2021-02-19T12:06:54.772517",
     "status": "completed"
    },
    "tags": []
   },
   "outputs": [],
   "source": [
    "#hide\n",
    "metrics = [df_table.columns[index] for index in [1,2,5,6]]\n",
    "# s_china = df_table[df_table['Country/Region'].eq('China')][metrics].sum().add_prefix('China ')\n",
    "s_us = df_table[df_table['Country/Region'].eq('US')][metrics].sum().add_prefix('US ')\n",
    "s_eu = df_table[df_table['Continent'].eq('Europe')][metrics].sum().add_prefix('EU ')\n",
    "s_ind = df_table[df_table['Country/Region'].eq('India')][metrics].sum().add_prefix('India ')\n",
    "summary = {'updated': pd.to_datetime(dt_today), 'since': pd.to_datetime(dt_yday)}\n",
    "summary = {'updated': pd.to_datetime(dt_today), 'since': pd.to_datetime(dt_yday)}\n",
    "summary = {**summary, **df_table[metrics].sum(), **s_ind, **s_us, **s_eu}"
   ]
  },
  {
   "cell_type": "code",
   "execution_count": 18,
   "id": "engaging-syndrome",
   "metadata": {
    "execution": {
     "iopub.execute_input": "2021-02-19T12:06:54.908649Z",
     "iopub.status.busy": "2021-02-19T12:06:54.908039Z",
     "iopub.status.idle": "2021-02-19T12:06:54.921437Z",
     "shell.execute_reply": "2021-02-19T12:06:54.920917Z"
    },
    "papermill": {
     "duration": 0.055425,
     "end_time": "2021-02-19T12:06:54.921558",
     "exception": false,
     "start_time": "2021-02-19T12:06:54.866133",
     "status": "completed"
    },
    "tags": []
   },
   "outputs": [],
   "source": [
    "#hide\n",
    "dft_ct_new_cases = dft_cases.groupby(COL_REGION)[dt_cols].sum().diff(axis=1).fillna(0).astype(int)"
   ]
  },
  {
   "cell_type": "code",
   "execution_count": 19,
   "id": "neutral-assignment",
   "metadata": {
    "execution": {
     "iopub.execute_input": "2021-02-19T12:06:54.999500Z",
     "iopub.status.busy": "2021-02-19T12:06:54.998889Z",
     "iopub.status.idle": "2021-02-19T12:06:55.001794Z",
     "shell.execute_reply": "2021-02-19T12:06:55.002404Z"
    },
    "papermill": {
     "duration": 0.045783,
     "end_time": "2021-02-19T12:06:55.002546",
     "exception": false,
     "start_time": "2021-02-19T12:06:54.956763",
     "status": "completed"
    },
    "tags": []
   },
   "outputs": [],
   "source": [
    "#hide\n",
    "everydaycases = dft_ct_new_cases.cumsum(axis=1)"
   ]
  },
  {
   "cell_type": "code",
   "execution_count": 20,
   "id": "parliamentary-calgary",
   "metadata": {
    "execution": {
     "iopub.execute_input": "2021-02-19T12:06:55.077925Z",
     "iopub.status.busy": "2021-02-19T12:06:55.077301Z",
     "iopub.status.idle": "2021-02-19T12:06:56.698687Z",
     "shell.execute_reply": "2021-02-19T12:06:56.699195Z"
    },
    "papermill": {
     "duration": 1.661504,
     "end_time": "2021-02-19T12:06:56.699360",
     "exception": false,
     "start_time": "2021-02-19T12:06:55.037856",
     "status": "completed"
    },
    "tags": []
   },
   "outputs": [],
   "source": [
    "#hide\n",
    "import pandas as pd\n",
    "import matplotlib.pyplot as plt\n",
    "import matplotlib.ticker as ticker\n",
    "import matplotlib.animation as animation\n",
    "from IPython.display import HTML"
   ]
  },
  {
   "cell_type": "code",
   "execution_count": 21,
   "id": "lasting-extraction",
   "metadata": {
    "execution": {
     "iopub.execute_input": "2021-02-19T12:06:56.781704Z",
     "iopub.status.busy": "2021-02-19T12:06:56.781082Z",
     "iopub.status.idle": "2021-02-19T12:06:56.786578Z",
     "shell.execute_reply": "2021-02-19T12:06:56.786052Z"
    },
    "papermill": {
     "duration": 0.047945,
     "end_time": "2021-02-19T12:06:56.786708",
     "exception": false,
     "start_time": "2021-02-19T12:06:56.738763",
     "status": "completed"
    },
    "tags": []
   },
   "outputs": [],
   "source": [
    "#hide\n",
    "t = everydaycases.stack()"
   ]
  },
  {
   "cell_type": "code",
   "execution_count": 22,
   "id": "premier-sleeve",
   "metadata": {
    "execution": {
     "iopub.execute_input": "2021-02-19T12:06:56.863318Z",
     "iopub.status.busy": "2021-02-19T12:06:56.862704Z",
     "iopub.status.idle": "2021-02-19T12:06:56.870116Z",
     "shell.execute_reply": "2021-02-19T12:06:56.870629Z"
    },
    "papermill": {
     "duration": 0.047985,
     "end_time": "2021-02-19T12:06:56.870776",
     "exception": false,
     "start_time": "2021-02-19T12:06:56.822791",
     "status": "completed"
    },
    "tags": []
   },
   "outputs": [],
   "source": [
    "#hide\n",
    "g = t.reset_index(['Country/Region'])"
   ]
  },
  {
   "cell_type": "code",
   "execution_count": 23,
   "id": "distributed-pittsburgh",
   "metadata": {
    "execution": {
     "iopub.execute_input": "2021-02-19T12:06:56.946659Z",
     "iopub.status.busy": "2021-02-19T12:06:56.946012Z",
     "iopub.status.idle": "2021-02-19T12:06:56.948836Z",
     "shell.execute_reply": "2021-02-19T12:06:56.949417Z"
    },
    "papermill": {
     "duration": 0.043424,
     "end_time": "2021-02-19T12:06:56.949559",
     "exception": false,
     "start_time": "2021-02-19T12:06:56.906135",
     "status": "completed"
    },
    "tags": []
   },
   "outputs": [],
   "source": [
    "#hide\n",
    "g.index.name = 'date'"
   ]
  },
  {
   "cell_type": "code",
   "execution_count": 24,
   "id": "naked-donor",
   "metadata": {
    "execution": {
     "iopub.execute_input": "2021-02-19T12:06:57.024838Z",
     "iopub.status.busy": "2021-02-19T12:06:57.024184Z",
     "iopub.status.idle": "2021-02-19T12:06:57.026079Z",
     "shell.execute_reply": "2021-02-19T12:06:57.026592Z"
    },
    "papermill": {
     "duration": 0.041671,
     "end_time": "2021-02-19T12:06:57.026747",
     "exception": false,
     "start_time": "2021-02-19T12:06:56.985076",
     "status": "completed"
    },
    "tags": []
   },
   "outputs": [],
   "source": [
    "# #hide\n",
    "# g = g.reset_index(['date'])"
   ]
  },
  {
   "cell_type": "code",
   "execution_count": 25,
   "id": "incomplete-mustang",
   "metadata": {
    "execution": {
     "iopub.execute_input": "2021-02-19T12:06:57.102310Z",
     "iopub.status.busy": "2021-02-19T12:06:57.101677Z",
     "iopub.status.idle": "2021-02-19T12:06:57.104214Z",
     "shell.execute_reply": "2021-02-19T12:06:57.104794Z"
    },
    "papermill": {
     "duration": 0.042532,
     "end_time": "2021-02-19T12:06:57.104930",
     "exception": false,
     "start_time": "2021-02-19T12:06:57.062398",
     "status": "completed"
    },
    "tags": []
   },
   "outputs": [],
   "source": [
    "#hide\n",
    "# g.head()"
   ]
  },
  {
   "cell_type": "code",
   "execution_count": 26,
   "id": "specific-kruger",
   "metadata": {
    "execution": {
     "iopub.execute_input": "2021-02-19T12:06:57.180186Z",
     "iopub.status.busy": "2021-02-19T12:06:57.179574Z",
     "iopub.status.idle": "2021-02-19T12:06:57.182522Z",
     "shell.execute_reply": "2021-02-19T12:06:57.183106Z"
    },
    "papermill": {
     "duration": 0.042966,
     "end_time": "2021-02-19T12:06:57.183245",
     "exception": false,
     "start_time": "2021-02-19T12:06:57.140279",
     "status": "completed"
    },
    "tags": []
   },
   "outputs": [],
   "source": [
    "#hide\n",
    "# g.columns = ['date','country','cases']"
   ]
  },
  {
   "cell_type": "code",
   "execution_count": 27,
   "id": "tender-conversion",
   "metadata": {
    "execution": {
     "iopub.execute_input": "2021-02-19T12:06:57.261209Z",
     "iopub.status.busy": "2021-02-19T12:06:57.260607Z",
     "iopub.status.idle": "2021-02-19T12:06:57.263052Z",
     "shell.execute_reply": "2021-02-19T12:06:57.263666Z"
    },
    "papermill": {
     "duration": 0.045293,
     "end_time": "2021-02-19T12:06:57.263804",
     "exception": false,
     "start_time": "2021-02-19T12:06:57.218511",
     "status": "completed"
    },
    "tags": []
   },
   "outputs": [],
   "source": [
    "#hide\n",
    "# g['continent'] = g.country"
   ]
  },
  {
   "cell_type": "code",
   "execution_count": 28,
   "id": "substantial-wilderness",
   "metadata": {
    "execution": {
     "iopub.execute_input": "2021-02-19T12:06:57.339749Z",
     "iopub.status.busy": "2021-02-19T12:06:57.338414Z",
     "iopub.status.idle": "2021-02-19T12:06:57.340435Z",
     "shell.execute_reply": "2021-02-19T12:06:57.340917Z"
    },
    "papermill": {
     "duration": 0.041658,
     "end_time": "2021-02-19T12:06:57.341050",
     "exception": false,
     "start_time": "2021-02-19T12:06:57.299392",
     "status": "completed"
    },
    "tags": []
   },
   "outputs": [],
   "source": [
    "#hide\n",
    "# cols = list(g.columns.values)"
   ]
  },
  {
   "cell_type": "code",
   "execution_count": 29,
   "id": "solved-farming",
   "metadata": {
    "execution": {
     "iopub.execute_input": "2021-02-19T12:06:57.416158Z",
     "iopub.status.busy": "2021-02-19T12:06:57.415354Z",
     "iopub.status.idle": "2021-02-19T12:06:57.419495Z",
     "shell.execute_reply": "2021-02-19T12:06:57.419960Z"
    },
    "papermill": {
     "duration": 0.04405,
     "end_time": "2021-02-19T12:06:57.420103",
     "exception": false,
     "start_time": "2021-02-19T12:06:57.376053",
     "status": "completed"
    },
    "tags": []
   },
   "outputs": [],
   "source": [
    "#hide\n",
    "# cols.insert(0, cols.pop())"
   ]
  },
  {
   "cell_type": "code",
   "execution_count": 30,
   "id": "executed-adoption",
   "metadata": {
    "execution": {
     "iopub.execute_input": "2021-02-19T12:06:57.495683Z",
     "iopub.status.busy": "2021-02-19T12:06:57.494797Z",
     "iopub.status.idle": "2021-02-19T12:06:57.497605Z",
     "shell.execute_reply": "2021-02-19T12:06:57.497110Z"
    },
    "papermill": {
     "duration": 0.042262,
     "end_time": "2021-02-19T12:06:57.497726",
     "exception": false,
     "start_time": "2021-02-19T12:06:57.455464",
     "status": "completed"
    },
    "tags": []
   },
   "outputs": [],
   "source": [
    "#hide\n",
    "# g = g[cols]"
   ]
  },
  {
   "cell_type": "code",
   "execution_count": 31,
   "id": "subject-dublin",
   "metadata": {
    "execution": {
     "iopub.execute_input": "2021-02-19T12:06:57.572367Z",
     "iopub.status.busy": "2021-02-19T12:06:57.571731Z",
     "iopub.status.idle": "2021-02-19T12:06:57.575842Z",
     "shell.execute_reply": "2021-02-19T12:06:57.575234Z"
    },
    "papermill": {
     "duration": 0.043026,
     "end_time": "2021-02-19T12:06:57.575963",
     "exception": false,
     "start_time": "2021-02-19T12:06:57.532937",
     "status": "completed"
    },
    "tags": []
   },
   "outputs": [],
   "source": [
    "#hide\n",
    "# g['continent'] = g['continent'].map(mapping['map.continent'])"
   ]
  },
  {
   "cell_type": "code",
   "execution_count": 32,
   "id": "freelance-scout",
   "metadata": {
    "execution": {
     "iopub.execute_input": "2021-02-19T12:06:57.651981Z",
     "iopub.status.busy": "2021-02-19T12:06:57.650826Z",
     "iopub.status.idle": "2021-02-19T12:06:57.652874Z",
     "shell.execute_reply": "2021-02-19T12:06:57.653375Z"
    },
    "papermill": {
     "duration": 0.042092,
     "end_time": "2021-02-19T12:06:57.653513",
     "exception": false,
     "start_time": "2021-02-19T12:06:57.611421",
     "status": "completed"
    },
    "tags": []
   },
   "outputs": [],
   "source": [
    "#hide\n",
    "# g.head()"
   ]
  },
  {
   "cell_type": "code",
   "execution_count": 33,
   "id": "limited-engine",
   "metadata": {
    "execution": {
     "iopub.execute_input": "2021-02-19T12:06:57.728817Z",
     "iopub.status.busy": "2021-02-19T12:06:57.727794Z",
     "iopub.status.idle": "2021-02-19T12:06:57.729896Z",
     "shell.execute_reply": "2021-02-19T12:06:57.730773Z"
    },
    "papermill": {
     "duration": 0.042562,
     "end_time": "2021-02-19T12:06:57.730992",
     "exception": false,
     "start_time": "2021-02-19T12:06:57.688430",
     "status": "completed"
    },
    "tags": []
   },
   "outputs": [],
   "source": [
    "# hide\n",
    "# g['date'] = g['date'].astype('datetime64[ns]')"
   ]
  },
  {
   "cell_type": "code",
   "execution_count": 34,
   "id": "sophisticated-supervisor",
   "metadata": {
    "execution": {
     "iopub.execute_input": "2021-02-19T12:06:57.806100Z",
     "iopub.status.busy": "2021-02-19T12:06:57.805474Z",
     "iopub.status.idle": "2021-02-19T12:06:57.807837Z",
     "shell.execute_reply": "2021-02-19T12:06:57.807324Z"
    },
    "papermill": {
     "duration": 0.040863,
     "end_time": "2021-02-19T12:06:57.807954",
     "exception": false,
     "start_time": "2021-02-19T12:06:57.767091",
     "status": "completed"
    },
    "tags": []
   },
   "outputs": [],
   "source": [
    "#hide\n",
    "# g['date'] = g.date.dt.dayofyear"
   ]
  },
  {
   "cell_type": "code",
   "execution_count": 35,
   "id": "inside-dubai",
   "metadata": {
    "execution": {
     "iopub.execute_input": "2021-02-19T12:06:57.884275Z",
     "iopub.status.busy": "2021-02-19T12:06:57.883658Z",
     "iopub.status.idle": "2021-02-19T12:06:57.886467Z",
     "shell.execute_reply": "2021-02-19T12:06:57.885946Z"
    },
    "papermill": {
     "duration": 0.043382,
     "end_time": "2021-02-19T12:06:57.886597",
     "exception": false,
     "start_time": "2021-02-19T12:06:57.843215",
     "status": "completed"
    },
    "tags": []
   },
   "outputs": [],
   "source": [
    "#hide\n",
    "# g = g.rename(columns= {'continent':'group','country':'name','cases':'value'})"
   ]
  },
  {
   "cell_type": "code",
   "execution_count": 36,
   "id": "fleet-motorcycle",
   "metadata": {
    "execution": {
     "iopub.execute_input": "2021-02-19T12:06:57.961103Z",
     "iopub.status.busy": "2021-02-19T12:06:57.960498Z",
     "iopub.status.idle": "2021-02-19T12:06:57.963254Z",
     "shell.execute_reply": "2021-02-19T12:06:57.962766Z"
    },
    "papermill": {
     "duration": 0.041646,
     "end_time": "2021-02-19T12:06:57.963385",
     "exception": false,
     "start_time": "2021-02-19T12:06:57.921739",
     "status": "completed"
    },
    "tags": []
   },
   "outputs": [],
   "source": [
    "#hide\n",
    "# cols = ['name','group','day','value']"
   ]
  },
  {
   "cell_type": "code",
   "execution_count": 37,
   "id": "continued-sleeping",
   "metadata": {
    "execution": {
     "iopub.execute_input": "2021-02-19T12:06:58.038076Z",
     "iopub.status.busy": "2021-02-19T12:06:58.037473Z",
     "iopub.status.idle": "2021-02-19T12:06:58.039823Z",
     "shell.execute_reply": "2021-02-19T12:06:58.040403Z"
    },
    "papermill": {
     "duration": 0.041993,
     "end_time": "2021-02-19T12:06:58.040542",
     "exception": false,
     "start_time": "2021-02-19T12:06:57.998549",
     "status": "completed"
    },
    "tags": []
   },
   "outputs": [],
   "source": [
    "#hide\n",
    "# g.rename(columns= {'date':'day'},inplace = True)"
   ]
  },
  {
   "cell_type": "code",
   "execution_count": 38,
   "id": "major-fight",
   "metadata": {
    "execution": {
     "iopub.execute_input": "2021-02-19T12:06:58.116384Z",
     "iopub.status.busy": "2021-02-19T12:06:58.115334Z",
     "iopub.status.idle": "2021-02-19T12:06:58.117467Z",
     "shell.execute_reply": "2021-02-19T12:06:58.118055Z"
    },
    "papermill": {
     "duration": 0.042327,
     "end_time": "2021-02-19T12:06:58.118210",
     "exception": false,
     "start_time": "2021-02-19T12:06:58.075883",
     "status": "completed"
    },
    "tags": []
   },
   "outputs": [],
   "source": [
    "#hide\n",
    "# g = g[cols]"
   ]
  },
  {
   "cell_type": "code",
   "execution_count": 39,
   "id": "structured-mobile",
   "metadata": {
    "execution": {
     "iopub.execute_input": "2021-02-19T12:06:58.193532Z",
     "iopub.status.busy": "2021-02-19T12:06:58.192923Z",
     "iopub.status.idle": "2021-02-19T12:06:58.195311Z",
     "shell.execute_reply": "2021-02-19T12:06:58.195892Z"
    },
    "papermill": {
     "duration": 0.042664,
     "end_time": "2021-02-19T12:06:58.196032",
     "exception": false,
     "start_time": "2021-02-19T12:06:58.153368",
     "status": "completed"
    },
    "tags": []
   },
   "outputs": [],
   "source": [
    "# #hide\n",
    "# g = g[g.group.notna()]"
   ]
  },
  {
   "cell_type": "code",
   "execution_count": 40,
   "id": "determined-closing",
   "metadata": {
    "execution": {
     "iopub.execute_input": "2021-02-19T12:06:58.270457Z",
     "iopub.status.busy": "2021-02-19T12:06:58.269803Z",
     "iopub.status.idle": "2021-02-19T12:06:58.273759Z",
     "shell.execute_reply": "2021-02-19T12:06:58.273241Z"
    },
    "papermill": {
     "duration": 0.042386,
     "end_time": "2021-02-19T12:06:58.273881",
     "exception": false,
     "start_time": "2021-02-19T12:06:58.231495",
     "status": "completed"
    },
    "tags": []
   },
   "outputs": [],
   "source": [
    "# #hide\n",
    "# colors = dict(zip(\n",
    "#     [\"Oceania\", \"Europe\", \"Asia\", \"South America\", \"Middle East\", \"North America\", \"Africa\"],\n",
    "#     [\"#adb0ff\", \"#ffb3ff\", \"#90d595\", \"#e48381\", \"#aafbff\", \"#f7bb5f\", \"#eafb50\"]\n",
    "# ))\n",
    "# group_lk = g.set_index('name')['group'].to_dict()"
   ]
  },
  {
   "cell_type": "code",
   "execution_count": null,
   "id": "gross-drinking",
   "metadata": {
    "papermill": {
     "duration": 0.034889,
     "end_time": "2021-02-19T12:06:58.343744",
     "exception": false,
     "start_time": "2021-02-19T12:06:58.308855",
     "status": "completed"
    },
    "tags": []
   },
   "outputs": [],
   "source": []
  },
  {
   "cell_type": "code",
   "execution_count": 41,
   "id": "subject-macintosh",
   "metadata": {
    "execution": {
     "iopub.execute_input": "2021-02-19T12:06:58.420664Z",
     "iopub.status.busy": "2021-02-19T12:06:58.419605Z",
     "iopub.status.idle": "2021-02-19T12:06:58.424006Z",
     "shell.execute_reply": "2021-02-19T12:06:58.424474Z"
    },
    "papermill": {
     "duration": 0.045831,
     "end_time": "2021-02-19T12:06:58.424617",
     "exception": false,
     "start_time": "2021-02-19T12:06:58.378786",
     "status": "completed"
    },
    "tags": []
   },
   "outputs": [],
   "source": [
    "# #hide\n",
    "# fig, ax = plt.subplots(figsize=(15, 8))\n",
    "\n",
    "# def draw_barchart(current_day):\n",
    "#     dff = g[g['day'].eq(current_day)].sort_values(by='value', ascending=True).tail(10)\n",
    "#     ax.clear()\n",
    "#     ax.barh(dff['name'], dff['value'], color=[colors[group_lk[x]] for x in dff['name']])\n",
    "#     dx = dff['value'].max() / 200\n",
    "    \n",
    "#     for i, (value, name) in enumerate(zip(dff['value'], dff['name'])):\n",
    "#         ax.text(value-dx, i,     name,           size=14, weight=600, ha='right', va='bottom')\n",
    "#         ax.text(value-dx, i-.25, group_lk[name], size=10, color='#444444', ha='right', va='baseline')\n",
    "#         ax.text(value+dx, i,     f'{value:,.0f}',  size=14, ha='left',  va='center')\n",
    "#     ax.text(1, 0.4, current_day, transform=ax.transAxes, color='#777777', size=46, ha='right', weight=800)\n",
    "#     ax.text(0, 1.06, 'Population (thousands)', transform=ax.transAxes, size=12, color='#777777')\n",
    "#     ax.xaxis.set_major_formatter(ticker.StrMethodFormatter('{x:,.0f}'))\n",
    "#     ax.xaxis.set_ticks_position('top')\n",
    "#     ax.tick_params(axis='x', colors='#777777', labelsize=12)\n",
    "#     ax.set_yticks([])\n",
    "#     ax.margins(0, 0.01)\n",
    "#     ax.grid(which='major', axis='x', linestyle='-')\n",
    "#     ax.set_axisbelow(True)\n",
    "    \n",
    "#     ax.text(0, 1.15, 'Coronavirus',\n",
    "#             transform=ax.transAxes, size=24, weight=600, ha='left', va='top')\n",
    "# #     ax.text(1, 0, 'by @pratapvardhan; credit @jburnmurdoch', transform=ax.transAxes, color='#777777', ha='right',\n",
    "# #             bbox=dict(facecolor='white', alpha=0.8, edgecolor='white'))\n",
    "#     plt.box(False)"
   ]
  },
  {
   "cell_type": "code",
   "execution_count": 42,
   "id": "sexual-wages",
   "metadata": {
    "execution": {
     "iopub.execute_input": "2021-02-19T12:06:58.500063Z",
     "iopub.status.busy": "2021-02-19T12:06:58.499208Z",
     "iopub.status.idle": "2021-02-19T12:06:58.501570Z",
     "shell.execute_reply": "2021-02-19T12:06:58.502060Z"
    },
    "papermill": {
     "duration": 0.042505,
     "end_time": "2021-02-19T12:06:58.502218",
     "exception": false,
     "start_time": "2021-02-19T12:06:58.459713",
     "status": "completed"
    },
    "tags": []
   },
   "outputs": [],
   "source": [
    "# #hide_input\n",
    "# fig, ax = plt.subplots(figsize=(15, 8))\n",
    "# animator = animation.FuncAnimation(fig, draw_barchart, frames=range(g.day.values.min(), g.day.values.max()))\n",
    "# HTML(animator.to_jshtml())\n",
    "# # or use animator.to_html5_video() or animator.save() "
   ]
  },
  {
   "cell_type": "code",
   "execution_count": null,
   "id": "australian-container",
   "metadata": {
    "papermill": {
     "duration": 0.035011,
     "end_time": "2021-02-19T12:06:58.572441",
     "exception": false,
     "start_time": "2021-02-19T12:06:58.537430",
     "status": "completed"
    },
    "tags": []
   },
   "outputs": [],
   "source": []
  },
  {
   "cell_type": "code",
   "execution_count": null,
   "id": "mediterranean-pontiac",
   "metadata": {
    "papermill": {
     "duration": 0.035004,
     "end_time": "2021-02-19T12:06:58.642368",
     "exception": false,
     "start_time": "2021-02-19T12:06:58.607364",
     "status": "completed"
    },
    "tags": []
   },
   "outputs": [],
   "source": []
  },
  {
   "cell_type": "code",
   "execution_count": null,
   "id": "aging-legislature",
   "metadata": {
    "papermill": {
     "duration": 0.03494,
     "end_time": "2021-02-19T12:06:58.712642",
     "exception": false,
     "start_time": "2021-02-19T12:06:58.677702",
     "status": "completed"
    },
    "tags": []
   },
   "outputs": [],
   "source": []
  }
 ],
 "metadata": {
  "kernelspec": {
   "display_name": "Python 3",
   "language": "python",
   "name": "python3"
  },
  "language_info": {
   "codemirror_mode": {
    "name": "ipython",
    "version": 3
   },
   "file_extension": ".py",
   "mimetype": "text/x-python",
   "name": "python",
   "nbconvert_exporter": "python",
   "pygments_lexer": "ipython3",
   "version": "3.6.12"
  },
  "papermill": {
   "duration": 7.64093,
   "end_time": "2021-02-19T12:06:59.055002",
   "environment_variables": {},
   "exception": null,
   "input_path": "2020-03-21-covid19exp.ipynb",
   "output_path": "2020-03-21-covid19exp.ipynb",
   "parameters": {},
   "start_time": "2021-02-19T12:06:51.414072",
   "version": "2.0.0"
  }
 },
 "nbformat": 4,
 "nbformat_minor": 5
}