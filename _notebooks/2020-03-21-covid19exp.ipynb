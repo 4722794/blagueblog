{
 "cells": [
  {
   "cell_type": "markdown",
   "id": "muslim-click",
   "metadata": {
    "papermill": {
     "duration": 0.035678,
     "end_time": "2022-02-13T12:11:47.700568",
     "exception": false,
     "start_time": "2022-02-13T12:11:47.664890",
     "status": "completed"
    },
    "tags": []
   },
   "source": [
    "# COVID-19 Case Race\n",
    "> A race chart to see rising cases around the world\n",
    "\n",
    "- author: Hargun Oberoi\n",
    "- image: images/covid-overview.png\n",
    "- hide: false\n",
    "- badges: false"
   ]
  },
  {
   "cell_type": "code",
   "execution_count": 1,
   "id": "proof-material",
   "metadata": {
    "execution": {
     "iopub.execute_input": "2022-02-13T12:11:47.776660Z",
     "iopub.status.busy": "2022-02-13T12:11:47.776066Z",
     "iopub.status.idle": "2022-02-13T12:11:48.106062Z",
     "shell.execute_reply": "2022-02-13T12:11:48.105059Z"
    },
    "papermill": {
     "duration": 0.371062,
     "end_time": "2022-02-13T12:11:48.106229",
     "exception": false,
     "start_time": "2022-02-13T12:11:47.735167",
     "status": "completed"
    },
    "tags": []
   },
   "outputs": [],
   "source": [
    "#hide\n",
    "import numpy as np\n",
    "import pandas as pd\n",
    "from jinja2 import Template\n",
    "from IPython.display import HTML"
   ]
  },
  {
   "cell_type": "code",
   "execution_count": 2,
   "id": "developed-terminology",
   "metadata": {
    "execution": {
     "iopub.execute_input": "2022-02-13T12:11:48.179417Z",
     "iopub.status.busy": "2022-02-13T12:11:48.178774Z",
     "iopub.status.idle": "2022-02-13T12:11:48.181102Z",
     "shell.execute_reply": "2022-02-13T12:11:48.180441Z"
    },
    "papermill": {
     "duration": 0.04143,
     "end_time": "2022-02-13T12:11:48.181225",
     "exception": false,
     "start_time": "2022-02-13T12:11:48.139795",
     "status": "completed"
    },
    "tags": []
   },
   "outputs": [],
   "source": [
    "#hide\n",
    "\n",
    "# FETCH\n",
    "base_url = 'https://raw.githubusercontent.com/pratapvardhan/notebooks/master/covid19/'\n",
    "paths = {\n",
    "    'mapping': base_url + 'mapping_countries.csv',\n",
    "    'overview': base_url + 'overview.tpl'\n",
    "}"
   ]
  },
  {
   "cell_type": "code",
   "execution_count": 3,
   "id": "dynamic-saver",
   "metadata": {
    "execution": {
     "iopub.execute_input": "2022-02-13T12:11:48.256750Z",
     "iopub.status.busy": "2022-02-13T12:11:48.256196Z",
     "iopub.status.idle": "2022-02-13T12:11:48.259305Z",
     "shell.execute_reply": "2022-02-13T12:11:48.258832Z"
    },
    "papermill": {
     "duration": 0.045215,
     "end_time": "2022-02-13T12:11:48.259418",
     "exception": false,
     "start_time": "2022-02-13T12:11:48.214203",
     "status": "completed"
    },
    "tags": []
   },
   "outputs": [
    {
     "data": {
      "text/plain": [
       "'https://raw.githubusercontent.com/pratapvardhan/notebooks/master/covid19/mapping_countries.csv'"
      ]
     },
     "execution_count": 3,
     "metadata": {},
     "output_type": "execute_result"
    }
   ],
   "source": [
    "#hide\n",
    "paths['mapping']"
   ]
  },
  {
   "cell_type": "code",
   "execution_count": 4,
   "id": "urban-software",
   "metadata": {
    "execution": {
     "iopub.execute_input": "2022-02-13T12:11:48.339799Z",
     "iopub.status.busy": "2022-02-13T12:11:48.339137Z",
     "iopub.status.idle": "2022-02-13T12:11:48.341645Z",
     "shell.execute_reply": "2022-02-13T12:11:48.341141Z"
    },
    "papermill": {
     "duration": 0.041583,
     "end_time": "2022-02-13T12:11:48.341765",
     "exception": false,
     "start_time": "2022-02-13T12:11:48.300182",
     "status": "completed"
    },
    "tags": []
   },
   "outputs": [],
   "source": [
    "#hide\n",
    "def get_mappings(url):\n",
    "    df = pd.read_csv(url)\n",
    "    return {\n",
    "        'df': df,\n",
    "        'replace.country': dict(df.dropna(subset=['Name']).set_index('Country')['Name']),\n",
    "        'map.continent': dict(df.set_index('Name')['Continent'])\n",
    "    }"
   ]
  },
  {
   "cell_type": "code",
   "execution_count": 5,
   "id": "intimate-machinery",
   "metadata": {
    "execution": {
     "iopub.execute_input": "2022-02-13T12:11:48.412125Z",
     "iopub.status.busy": "2022-02-13T12:11:48.411523Z",
     "iopub.status.idle": "2022-02-13T12:11:48.447035Z",
     "shell.execute_reply": "2022-02-13T12:11:48.446588Z"
    },
    "papermill": {
     "duration": 0.072645,
     "end_time": "2022-02-13T12:11:48.447155",
     "exception": false,
     "start_time": "2022-02-13T12:11:48.374510",
     "status": "completed"
    },
    "tags": []
   },
   "outputs": [],
   "source": [
    "#hide\n",
    "mapping = get_mappings(paths['mapping'])"
   ]
  },
  {
   "cell_type": "code",
   "execution_count": 6,
   "id": "certified-tactics",
   "metadata": {
    "execution": {
     "iopub.execute_input": "2022-02-13T12:11:48.513575Z",
     "iopub.status.busy": "2022-02-13T12:11:48.513005Z",
     "iopub.status.idle": "2022-02-13T12:11:48.515659Z",
     "shell.execute_reply": "2022-02-13T12:11:48.515162Z"
    },
    "papermill": {
     "duration": 0.037693,
     "end_time": "2022-02-13T12:11:48.515771",
     "exception": false,
     "start_time": "2022-02-13T12:11:48.478078",
     "status": "completed"
    },
    "tags": []
   },
   "outputs": [],
   "source": [
    "#hide\n",
    "def get_template(path):\n",
    "    from urllib.parse import urlparse\n",
    "    if bool(urlparse(path).netloc):\n",
    "        from urllib.request import urlopen\n",
    "        return urlopen(path).read().decode('utf8')\n",
    "    return open(path).read()"
   ]
  },
  {
   "cell_type": "code",
   "execution_count": 7,
   "id": "realistic-blast",
   "metadata": {
    "execution": {
     "iopub.execute_input": "2022-02-13T12:11:48.582647Z",
     "iopub.status.busy": "2022-02-13T12:11:48.582004Z",
     "iopub.status.idle": "2022-02-13T12:11:48.583255Z",
     "shell.execute_reply": "2022-02-13T12:11:48.583724Z"
    },
    "papermill": {
     "duration": 0.037607,
     "end_time": "2022-02-13T12:11:48.583852",
     "exception": false,
     "start_time": "2022-02-13T12:11:48.546245",
     "status": "completed"
    },
    "tags": []
   },
   "outputs": [],
   "source": [
    "#hide\n",
    "def get_frame(name):\n",
    "    url = (\n",
    "        'https://raw.githubusercontent.com/CSSEGISandData/COVID-19/master/csse_covid_19_data/'\n",
    "        f'csse_covid_19_time_series/time_series_covid19_{name}_global.csv')\n",
    "    df = pd.read_csv(url)\n",
    "    # rename countries\n",
    "    df['Country/Region'] = df['Country/Region'].replace(mapping['replace.country'])\n",
    "    return df"
   ]
  },
  {
   "cell_type": "code",
   "execution_count": 8,
   "id": "affiliated-characterization",
   "metadata": {
    "execution": {
     "iopub.execute_input": "2022-02-13T12:11:48.653809Z",
     "iopub.status.busy": "2022-02-13T12:11:48.653217Z",
     "iopub.status.idle": "2022-02-13T12:11:48.655886Z",
     "shell.execute_reply": "2022-02-13T12:11:48.655259Z"
    },
    "papermill": {
     "duration": 0.041303,
     "end_time": "2022-02-13T12:11:48.656040",
     "exception": false,
     "start_time": "2022-02-13T12:11:48.614737",
     "status": "completed"
    },
    "tags": []
   },
   "outputs": [],
   "source": [
    "#hide\n",
    "def get_dates(df):\n",
    "    dt_cols = df.columns[~df.columns.isin(['Province/State', 'Country/Region', 'Lat', 'Long'])]\n",
    "    LAST_DATE_I = -1\n",
    "    # sometimes last column may be empty, then go backwards\n",
    "    for i in range(-1, -len(dt_cols), -1):\n",
    "        if not df[dt_cols[i]].fillna(0).eq(0).all():\n",
    "            LAST_DATE_I = i\n",
    "            break\n",
    "    return LAST_DATE_I, dt_cols"
   ]
  },
  {
   "cell_type": "code",
   "execution_count": 9,
   "id": "recent-optimization",
   "metadata": {
    "execution": {
     "iopub.execute_input": "2022-02-13T12:11:48.723551Z",
     "iopub.status.busy": "2022-02-13T12:11:48.722933Z",
     "iopub.status.idle": "2022-02-13T12:11:49.131602Z",
     "shell.execute_reply": "2022-02-13T12:11:49.131085Z"
    },
    "papermill": {
     "duration": 0.443673,
     "end_time": "2022-02-13T12:11:49.131741",
     "exception": false,
     "start_time": "2022-02-13T12:11:48.688068",
     "status": "completed"
    },
    "tags": []
   },
   "outputs": [],
   "source": [
    "#hide\n",
    "COL_REGION = 'Country/Region'\n",
    "# Confirmed, Recovered, Deaths\n",
    "df = get_frame('confirmed')\n",
    "# dft_: timeseries, dfc_: today country agg\n",
    "dft_cases = df\n",
    "dft_deaths = get_frame('deaths')\n",
    "dft_recovered = get_frame('recovered')\n",
    "LAST_DATE_I, dt_cols = get_dates(df)"
   ]
  },
  {
   "cell_type": "code",
   "execution_count": 10,
   "id": "absolute-copper",
   "metadata": {
    "execution": {
     "iopub.execute_input": "2022-02-13T12:11:49.203477Z",
     "iopub.status.busy": "2022-02-13T12:11:49.202894Z",
     "iopub.status.idle": "2022-02-13T12:11:49.205729Z",
     "shell.execute_reply": "2022-02-13T12:11:49.205082Z"
    },
    "papermill": {
     "duration": 0.039906,
     "end_time": "2022-02-13T12:11:49.205840",
     "exception": false,
     "start_time": "2022-02-13T12:11:49.165934",
     "status": "completed"
    },
    "tags": []
   },
   "outputs": [],
   "source": [
    "#hide\n",
    "LAST_DATE_I, dt_cols = get_dates(df)\n",
    "dt_today =dt_cols[LAST_DATE_I]\n",
    "# dt_5day = dt_cols[LAST_DATE_I - 5]\n",
    "dt_yday = dt_cols[LAST_DATE_I - 1]"
   ]
  },
  {
   "cell_type": "code",
   "execution_count": 11,
   "id": "restricted-sheriff",
   "metadata": {
    "execution": {
     "iopub.execute_input": "2022-02-13T12:11:49.276756Z",
     "iopub.status.busy": "2022-02-13T12:11:49.276101Z",
     "iopub.status.idle": "2022-02-13T12:11:49.284475Z",
     "shell.execute_reply": "2022-02-13T12:11:49.285025Z"
    },
    "papermill": {
     "duration": 0.04734,
     "end_time": "2022-02-13T12:11:49.285161",
     "exception": false,
     "start_time": "2022-02-13T12:11:49.237821",
     "status": "completed"
    },
    "tags": []
   },
   "outputs": [],
   "source": [
    "#hide\n",
    "dfc_cases = dft_cases.groupby(COL_REGION)[dt_today].sum()\n",
    "dfc_deaths = dft_deaths.groupby(COL_REGION)[dt_today].sum()\n",
    "# dfp_cases = dft_cases.groupby(COL_REGION)[dt_5day].sum()\n",
    "# dfp_deaths = dft_deaths.groupby(COL_REGION)[dt_5day].sum()\n",
    "dfp_cases = dft_cases.groupby(COL_REGION)[dt_yday].sum()\n",
    "dfp_deaths = dft_deaths.groupby(COL_REGION)[dt_yday].sum()"
   ]
  },
  {
   "cell_type": "code",
   "execution_count": 12,
   "id": "deluxe-hepatitis",
   "metadata": {
    "execution": {
     "iopub.execute_input": "2022-02-13T12:11:49.356448Z",
     "iopub.status.busy": "2022-02-13T12:11:49.355805Z",
     "iopub.status.idle": "2022-02-13T12:11:49.360488Z",
     "shell.execute_reply": "2022-02-13T12:11:49.361040Z"
    },
    "papermill": {
     "duration": 0.044202,
     "end_time": "2022-02-13T12:11:49.361164",
     "exception": false,
     "start_time": "2022-02-13T12:11:49.316962",
     "status": "completed"
    },
    "tags": []
   },
   "outputs": [],
   "source": [
    "#hide\n",
    "df_table = (pd.DataFrame(dict(Cases = dfc_cases, Deaths = dfc_deaths, PCases = dfp_cases, PDeaths = dfp_deaths))\n",
    "            .sort_values(by = ['Cases','Deaths'], ascending = [False, False])\n",
    "            .reset_index())"
   ]
  },
  {
   "cell_type": "code",
   "execution_count": 13,
   "id": "educational-chancellor",
   "metadata": {
    "execution": {
     "iopub.execute_input": "2022-02-13T12:11:49.442714Z",
     "iopub.status.busy": "2022-02-13T12:11:49.442135Z",
     "iopub.status.idle": "2022-02-13T12:11:49.450250Z",
     "shell.execute_reply": "2022-02-13T12:11:49.450781Z"
    },
    "papermill": {
     "duration": 0.058594,
     "end_time": "2022-02-13T12:11:49.450903",
     "exception": false,
     "start_time": "2022-02-13T12:11:49.392309",
     "status": "completed"
    },
    "tags": []
   },
   "outputs": [
    {
     "data": {
      "text/html": [
       "<div>\n",
       "<style scoped>\n",
       "    .dataframe tbody tr th:only-of-type {\n",
       "        vertical-align: middle;\n",
       "    }\n",
       "\n",
       "    .dataframe tbody tr th {\n",
       "        vertical-align: top;\n",
       "    }\n",
       "\n",
       "    .dataframe thead th {\n",
       "        text-align: right;\n",
       "    }\n",
       "</style>\n",
       "<table border=\"1\" class=\"dataframe\">\n",
       "  <thead>\n",
       "    <tr style=\"text-align: right;\">\n",
       "      <th></th>\n",
       "      <th>Country/Region</th>\n",
       "      <th>Cases</th>\n",
       "      <th>Deaths</th>\n",
       "      <th>PCases</th>\n",
       "      <th>PDeaths</th>\n",
       "      <th>Cases (+)</th>\n",
       "      <th>Deaths (+)</th>\n",
       "      <th>Fatality Rate</th>\n",
       "      <th>Continent</th>\n",
       "    </tr>\n",
       "  </thead>\n",
       "  <tbody>\n",
       "    <tr>\n",
       "      <th>0</th>\n",
       "      <td>US</td>\n",
       "      <td>77707349</td>\n",
       "      <td>919255</td>\n",
       "      <td>77650446</td>\n",
       "      <td>918451</td>\n",
       "      <td>56903</td>\n",
       "      <td>804</td>\n",
       "      <td>1.18</td>\n",
       "      <td>North America</td>\n",
       "    </tr>\n",
       "    <tr>\n",
       "      <th>1</th>\n",
       "      <td>India</td>\n",
       "      <td>42631421</td>\n",
       "      <td>508665</td>\n",
       "      <td>42586544</td>\n",
       "      <td>507981</td>\n",
       "      <td>44877</td>\n",
       "      <td>684</td>\n",
       "      <td>1.19</td>\n",
       "      <td>Asia</td>\n",
       "    </tr>\n",
       "    <tr>\n",
       "      <th>2</th>\n",
       "      <td>Brazil</td>\n",
       "      <td>27434286</td>\n",
       "      <td>638346</td>\n",
       "      <td>27299336</td>\n",
       "      <td>637467</td>\n",
       "      <td>134950</td>\n",
       "      <td>879</td>\n",
       "      <td>2.33</td>\n",
       "      <td>South America</td>\n",
       "    </tr>\n",
       "    <tr>\n",
       "      <th>3</th>\n",
       "      <td>France</td>\n",
       "      <td>21765182</td>\n",
       "      <td>135695</td>\n",
       "      <td>21646561</td>\n",
       "      <td>135534</td>\n",
       "      <td>118621</td>\n",
       "      <td>161</td>\n",
       "      <td>0.62</td>\n",
       "      <td>Europe</td>\n",
       "    </tr>\n",
       "    <tr>\n",
       "      <th>4</th>\n",
       "      <td>United Kingdom</td>\n",
       "      <td>18392137</td>\n",
       "      <td>160076</td>\n",
       "      <td>18346553</td>\n",
       "      <td>159909</td>\n",
       "      <td>45584</td>\n",
       "      <td>167</td>\n",
       "      <td>0.87</td>\n",
       "      <td>Europe</td>\n",
       "    </tr>\n",
       "  </tbody>\n",
       "</table>\n",
       "</div>"
      ],
      "text/plain": [
       "   Country/Region     Cases  Deaths    PCases  PDeaths  Cases (+)  Deaths (+)  \\\n",
       "0              US  77707349  919255  77650446   918451      56903         804   \n",
       "1           India  42631421  508665  42586544   507981      44877         684   \n",
       "2          Brazil  27434286  638346  27299336   637467     134950         879   \n",
       "3          France  21765182  135695  21646561   135534     118621         161   \n",
       "4  United Kingdom  18392137  160076  18346553   159909      45584         167   \n",
       "\n",
       "   Fatality Rate      Continent  \n",
       "0           1.18  North America  \n",
       "1           1.19           Asia  \n",
       "2           2.33  South America  \n",
       "3           0.62         Europe  \n",
       "4           0.87         Europe  "
      ]
     },
     "execution_count": 13,
     "metadata": {},
     "output_type": "execute_result"
    }
   ],
   "source": [
    "#hide\n",
    "for c in 'Cases, Deaths'.split(', '):\n",
    "    df_table[f'{c} (+)'] = (df_table[c] - df_table[f'P{c}']).clip(0)\n",
    "    #Clip ça veut dire, les chiffres negatif sont interdit\n",
    "df_table['Fatality Rate'] = (100* df_table['Deaths']/ df_table['Cases']).round(2)\n",
    "df_table['Continent'] = df_table['Country/Region'].map(mapping['map.continent'])\n",
    "df_table.head(5)"
   ]
  },
  {
   "cell_type": "code",
   "execution_count": 14,
   "id": "aboriginal-bulgaria",
   "metadata": {
    "execution": {
     "iopub.execute_input": "2022-02-13T12:11:49.517075Z",
     "iopub.status.busy": "2022-02-13T12:11:49.516519Z",
     "iopub.status.idle": "2022-02-13T12:11:49.519111Z",
     "shell.execute_reply": "2022-02-13T12:11:49.518514Z"
    },
    "papermill": {
     "duration": 0.037472,
     "end_time": "2022-02-13T12:11:49.519224",
     "exception": false,
     "start_time": "2022-02-13T12:11:49.481752",
     "status": "completed"
    },
    "tags": []
   },
   "outputs": [],
   "source": [
    "#hide\n",
    "#delete problematic countries from table\n",
    "df_table = df_table[~df_table['Country/Region'].isin(['Cape Verde', 'Cruise Ship', 'Kosovo'])]"
   ]
  },
  {
   "cell_type": "code",
   "execution_count": 15,
   "id": "fantastic-effect",
   "metadata": {
    "execution": {
     "iopub.execute_input": "2022-02-13T12:11:49.590093Z",
     "iopub.status.busy": "2022-02-13T12:11:49.589531Z",
     "iopub.status.idle": "2022-02-13T12:11:49.610429Z",
     "shell.execute_reply": "2022-02-13T12:11:49.609918Z"
    },
    "papermill": {
     "duration": 0.058865,
     "end_time": "2022-02-13T12:11:49.610554",
     "exception": false,
     "start_time": "2022-02-13T12:11:49.551689",
     "status": "completed"
    },
    "tags": []
   },
   "outputs": [
    {
     "data": {
      "text/html": [
       "<div>\n",
       "<style scoped>\n",
       "    .dataframe tbody tr th:only-of-type {\n",
       "        vertical-align: middle;\n",
       "    }\n",
       "\n",
       "    .dataframe tbody tr th {\n",
       "        vertical-align: top;\n",
       "    }\n",
       "\n",
       "    .dataframe thead th {\n",
       "        text-align: right;\n",
       "    }\n",
       "</style>\n",
       "<table border=\"1\" class=\"dataframe\">\n",
       "  <thead>\n",
       "    <tr style=\"text-align: right;\">\n",
       "      <th></th>\n",
       "      <th>Country/Region</th>\n",
       "      <th>Cases</th>\n",
       "      <th>Deaths</th>\n",
       "      <th>PCases</th>\n",
       "      <th>PDeaths</th>\n",
       "      <th>Cases (+)</th>\n",
       "      <th>Deaths (+)</th>\n",
       "      <th>Fatality Rate</th>\n",
       "      <th>Continent</th>\n",
       "    </tr>\n",
       "  </thead>\n",
       "  <tbody>\n",
       "    <tr>\n",
       "      <th>0</th>\n",
       "      <td>US</td>\n",
       "      <td>77707349</td>\n",
       "      <td>919255</td>\n",
       "      <td>77650446</td>\n",
       "      <td>918451</td>\n",
       "      <td>56903</td>\n",
       "      <td>804</td>\n",
       "      <td>1.2</td>\n",
       "      <td>North America</td>\n",
       "    </tr>\n",
       "    <tr>\n",
       "      <th>1</th>\n",
       "      <td>India</td>\n",
       "      <td>42631421</td>\n",
       "      <td>508665</td>\n",
       "      <td>42586544</td>\n",
       "      <td>507981</td>\n",
       "      <td>44877</td>\n",
       "      <td>684</td>\n",
       "      <td>1.2</td>\n",
       "      <td>Asia</td>\n",
       "    </tr>\n",
       "    <tr>\n",
       "      <th>2</th>\n",
       "      <td>Brazil</td>\n",
       "      <td>27434286</td>\n",
       "      <td>638346</td>\n",
       "      <td>27299336</td>\n",
       "      <td>637467</td>\n",
       "      <td>134950</td>\n",
       "      <td>879</td>\n",
       "      <td>2.3</td>\n",
       "      <td>South America</td>\n",
       "    </tr>\n",
       "    <tr>\n",
       "      <th>3</th>\n",
       "      <td>France</td>\n",
       "      <td>21765182</td>\n",
       "      <td>135695</td>\n",
       "      <td>21646561</td>\n",
       "      <td>135534</td>\n",
       "      <td>118621</td>\n",
       "      <td>161</td>\n",
       "      <td>0.6</td>\n",
       "      <td>Europe</td>\n",
       "    </tr>\n",
       "    <tr>\n",
       "      <th>4</th>\n",
       "      <td>United Kingdom</td>\n",
       "      <td>18392137</td>\n",
       "      <td>160076</td>\n",
       "      <td>18346553</td>\n",
       "      <td>159909</td>\n",
       "      <td>45584</td>\n",
       "      <td>167</td>\n",
       "      <td>0.9</td>\n",
       "      <td>Europe</td>\n",
       "    </tr>\n",
       "  </tbody>\n",
       "</table>\n",
       "</div>"
      ],
      "text/plain": [
       "   Country/Region     Cases  Deaths    PCases  PDeaths  Cases (+)  Deaths (+)  \\\n",
       "0              US  77707349  919255  77650446   918451      56903         804   \n",
       "1           India  42631421  508665  42586544   507981      44877         684   \n",
       "2          Brazil  27434286  638346  27299336   637467     134950         879   \n",
       "3          France  21765182  135695  21646561   135534     118621         161   \n",
       "4  United Kingdom  18392137  160076  18346553   159909      45584         167   \n",
       "\n",
       "   Fatality Rate      Continent  \n",
       "0            1.2  North America  \n",
       "1            1.2           Asia  \n",
       "2            2.3  South America  \n",
       "3            0.6         Europe  \n",
       "4            0.9         Europe  "
      ]
     },
     "execution_count": 15,
     "metadata": {},
     "output_type": "execute_result"
    }
   ],
   "source": [
    "#hide\n",
    "df_table = (pd.DataFrame(dict(Cases=dfc_cases, Deaths=dfc_deaths, PCases=dfp_cases, PDeaths=dfp_deaths))\n",
    "             .sort_values(by=['Cases', 'Deaths'], ascending=[False, False])\n",
    "             .reset_index())\n",
    "df_table.rename(columns={'index': 'Country/Region'}, inplace=True)\n",
    "for c in 'Cases, Deaths'.split(', '):\n",
    "    df_table[f'{c} (+)'] = (df_table[c] - df_table[f'P{c}']).clip(0)  # DATA BUG\n",
    "df_table['Fatality Rate'] = (100 * df_table['Deaths'] / df_table['Cases']).round(1)\n",
    "df_table['Continent'] = df_table['Country/Region'].map(mapping['map.continent'])\n",
    "df_table.head(5)"
   ]
  },
  {
   "cell_type": "code",
   "execution_count": 16,
   "id": "fewer-occasion",
   "metadata": {
    "execution": {
     "iopub.execute_input": "2022-02-13T12:11:49.683699Z",
     "iopub.status.busy": "2022-02-13T12:11:49.683106Z",
     "iopub.status.idle": "2022-02-13T12:11:49.685524Z",
     "shell.execute_reply": "2022-02-13T12:11:49.684964Z"
    },
    "papermill": {
     "duration": 0.042479,
     "end_time": "2022-02-13T12:11:49.685640",
     "exception": false,
     "start_time": "2022-02-13T12:11:49.643161",
     "status": "completed"
    },
    "tags": []
   },
   "outputs": [],
   "source": [
    "#hide\n",
    "#delete problematic countries from table\n",
    "df_table = df_table[~df_table['Country/Region'].isin(['Cape Verde', 'Cruise Ship', 'Kosovo'])]"
   ]
  },
  {
   "cell_type": "code",
   "execution_count": 17,
   "id": "related-center",
   "metadata": {
    "execution": {
     "iopub.execute_input": "2022-02-13T12:11:49.761535Z",
     "iopub.status.busy": "2022-02-13T12:11:49.760745Z",
     "iopub.status.idle": "2022-02-13T12:11:49.771608Z",
     "shell.execute_reply": "2022-02-13T12:11:49.770847Z"
    },
    "papermill": {
     "duration": 0.053934,
     "end_time": "2022-02-13T12:11:49.771727",
     "exception": false,
     "start_time": "2022-02-13T12:11:49.717793",
     "status": "completed"
    },
    "tags": []
   },
   "outputs": [],
   "source": [
    "#hide\n",
    "metrics = [df_table.columns[index] for index in [1,2,5,6]]\n",
    "# s_china = df_table[df_table['Country/Region'].eq('China')][metrics].sum().add_prefix('China ')\n",
    "s_us = df_table[df_table['Country/Region'].eq('US')][metrics].sum().add_prefix('US ')\n",
    "s_eu = df_table[df_table['Continent'].eq('Europe')][metrics].sum().add_prefix('EU ')\n",
    "s_ind = df_table[df_table['Country/Region'].eq('India')][metrics].sum().add_prefix('India ')\n",
    "summary = {'updated': pd.to_datetime(dt_today), 'since': pd.to_datetime(dt_yday)}\n",
    "summary = {'updated': pd.to_datetime(dt_today), 'since': pd.to_datetime(dt_yday)}\n",
    "summary = {**summary, **df_table[metrics].sum(), **s_ind, **s_us, **s_eu}"
   ]
  },
  {
   "cell_type": "code",
   "execution_count": 18,
   "id": "engaging-syndrome",
   "metadata": {
    "execution": {
     "iopub.execute_input": "2022-02-13T12:11:49.845014Z",
     "iopub.status.busy": "2022-02-13T12:11:49.843110Z",
     "iopub.status.idle": "2022-02-13T12:11:49.862354Z",
     "shell.execute_reply": "2022-02-13T12:11:49.862933Z"
    },
    "papermill": {
     "duration": 0.058841,
     "end_time": "2022-02-13T12:11:49.863087",
     "exception": false,
     "start_time": "2022-02-13T12:11:49.804246",
     "status": "completed"
    },
    "tags": []
   },
   "outputs": [],
   "source": [
    "#hide\n",
    "dft_ct_new_cases = dft_cases.groupby(COL_REGION)[dt_cols].sum().diff(axis=1).fillna(0).astype(int)"
   ]
  },
  {
   "cell_type": "code",
   "execution_count": 19,
   "id": "neutral-assignment",
   "metadata": {
    "execution": {
     "iopub.execute_input": "2022-02-13T12:11:49.935337Z",
     "iopub.status.busy": "2022-02-13T12:11:49.934716Z",
     "iopub.status.idle": "2022-02-13T12:11:49.937458Z",
     "shell.execute_reply": "2022-02-13T12:11:49.936988Z"
    },
    "papermill": {
     "duration": 0.040242,
     "end_time": "2022-02-13T12:11:49.937566",
     "exception": false,
     "start_time": "2022-02-13T12:11:49.897324",
     "status": "completed"
    },
    "tags": []
   },
   "outputs": [],
   "source": [
    "#hide\n",
    "everydaycases = dft_ct_new_cases.cumsum(axis=1)"
   ]
  },
  {
   "cell_type": "code",
   "execution_count": 20,
   "id": "parliamentary-calgary",
   "metadata": {
    "execution": {
     "iopub.execute_input": "2022-02-13T12:11:50.005892Z",
     "iopub.status.busy": "2022-02-13T12:11:50.005333Z",
     "iopub.status.idle": "2022-02-13T12:11:50.673062Z",
     "shell.execute_reply": "2022-02-13T12:11:50.673536Z"
    },
    "papermill": {
     "duration": 0.705654,
     "end_time": "2022-02-13T12:11:50.673714",
     "exception": false,
     "start_time": "2022-02-13T12:11:49.968060",
     "status": "completed"
    },
    "tags": []
   },
   "outputs": [],
   "source": [
    "#hide\n",
    "import pandas as pd\n",
    "import matplotlib.pyplot as plt\n",
    "import matplotlib.ticker as ticker\n",
    "import matplotlib.animation as animation\n",
    "from IPython.display import HTML"
   ]
  },
  {
   "cell_type": "code",
   "execution_count": 21,
   "id": "lasting-extraction",
   "metadata": {
    "execution": {
     "iopub.execute_input": "2022-02-13T12:11:50.745881Z",
     "iopub.status.busy": "2022-02-13T12:11:50.745275Z",
     "iopub.status.idle": "2022-02-13T12:11:50.752065Z",
     "shell.execute_reply": "2022-02-13T12:11:50.752822Z"
    },
    "papermill": {
     "duration": 0.044676,
     "end_time": "2022-02-13T12:11:50.752951",
     "exception": false,
     "start_time": "2022-02-13T12:11:50.708275",
     "status": "completed"
    },
    "tags": []
   },
   "outputs": [],
   "source": [
    "#hide\n",
    "t = everydaycases.stack()"
   ]
  },
  {
   "cell_type": "code",
   "execution_count": 22,
   "id": "premier-sleeve",
   "metadata": {
    "execution": {
     "iopub.execute_input": "2022-02-13T12:11:50.823991Z",
     "iopub.status.busy": "2022-02-13T12:11:50.823366Z",
     "iopub.status.idle": "2022-02-13T12:11:50.834098Z",
     "shell.execute_reply": "2022-02-13T12:11:50.833590Z"
    },
    "papermill": {
     "duration": 0.049733,
     "end_time": "2022-02-13T12:11:50.834228",
     "exception": false,
     "start_time": "2022-02-13T12:11:50.784495",
     "status": "completed"
    },
    "tags": []
   },
   "outputs": [],
   "source": [
    "#hide\n",
    "g = t.reset_index(['Country/Region'])"
   ]
  },
  {
   "cell_type": "code",
   "execution_count": 23,
   "id": "distributed-pittsburgh",
   "metadata": {
    "execution": {
     "iopub.execute_input": "2022-02-13T12:11:50.902749Z",
     "iopub.status.busy": "2022-02-13T12:11:50.902173Z",
     "iopub.status.idle": "2022-02-13T12:11:50.905736Z",
     "shell.execute_reply": "2022-02-13T12:11:50.905277Z"
    },
    "papermill": {
     "duration": 0.040574,
     "end_time": "2022-02-13T12:11:50.905856",
     "exception": false,
     "start_time": "2022-02-13T12:11:50.865282",
     "status": "completed"
    },
    "tags": []
   },
   "outputs": [],
   "source": [
    "#hide\n",
    "g.index.name = 'date'"
   ]
  },
  {
   "cell_type": "code",
   "execution_count": 24,
   "id": "naked-donor",
   "metadata": {
    "execution": {
     "iopub.execute_input": "2022-02-13T12:11:50.976015Z",
     "iopub.status.busy": "2022-02-13T12:11:50.975438Z",
     "iopub.status.idle": "2022-02-13T12:11:50.978289Z",
     "shell.execute_reply": "2022-02-13T12:11:50.977505Z"
    },
    "papermill": {
     "duration": 0.04024,
     "end_time": "2022-02-13T12:11:50.978410",
     "exception": false,
     "start_time": "2022-02-13T12:11:50.938170",
     "status": "completed"
    },
    "tags": []
   },
   "outputs": [],
   "source": [
    "# #hide\n",
    "# g = g.reset_index(['date'])"
   ]
  },
  {
   "cell_type": "code",
   "execution_count": 25,
   "id": "incomplete-mustang",
   "metadata": {
    "execution": {
     "iopub.execute_input": "2022-02-13T12:11:51.045322Z",
     "iopub.status.busy": "2022-02-13T12:11:51.044732Z",
     "iopub.status.idle": "2022-02-13T12:11:51.047613Z",
     "shell.execute_reply": "2022-02-13T12:11:51.047178Z"
    },
    "papermill": {
     "duration": 0.036487,
     "end_time": "2022-02-13T12:11:51.047719",
     "exception": false,
     "start_time": "2022-02-13T12:11:51.011232",
     "status": "completed"
    },
    "tags": []
   },
   "outputs": [],
   "source": [
    "#hide\n",
    "# g.head()"
   ]
  },
  {
   "cell_type": "code",
   "execution_count": 26,
   "id": "specific-kruger",
   "metadata": {
    "execution": {
     "iopub.execute_input": "2022-02-13T12:11:51.114937Z",
     "iopub.status.busy": "2022-02-13T12:11:51.114393Z",
     "iopub.status.idle": "2022-02-13T12:11:51.116096Z",
     "shell.execute_reply": "2022-02-13T12:11:51.116697Z"
    },
    "papermill": {
     "duration": 0.036856,
     "end_time": "2022-02-13T12:11:51.116820",
     "exception": false,
     "start_time": "2022-02-13T12:11:51.079964",
     "status": "completed"
    },
    "tags": []
   },
   "outputs": [],
   "source": [
    "#hide\n",
    "# g.columns = ['date','country','cases']"
   ]
  },
  {
   "cell_type": "code",
   "execution_count": 27,
   "id": "tender-conversion",
   "metadata": {
    "execution": {
     "iopub.execute_input": "2022-02-13T12:11:51.189328Z",
     "iopub.status.busy": "2022-02-13T12:11:51.188759Z",
     "iopub.status.idle": "2022-02-13T12:11:51.191177Z",
     "shell.execute_reply": "2022-02-13T12:11:51.190732Z"
    },
    "papermill": {
     "duration": 0.041977,
     "end_time": "2022-02-13T12:11:51.191290",
     "exception": false,
     "start_time": "2022-02-13T12:11:51.149313",
     "status": "completed"
    },
    "tags": []
   },
   "outputs": [],
   "source": [
    "#hide\n",
    "# g['continent'] = g.country"
   ]
  },
  {
   "cell_type": "code",
   "execution_count": 28,
   "id": "substantial-wilderness",
   "metadata": {
    "execution": {
     "iopub.execute_input": "2022-02-13T12:11:51.256962Z",
     "iopub.status.busy": "2022-02-13T12:11:51.256401Z",
     "iopub.status.idle": "2022-02-13T12:11:51.258940Z",
     "shell.execute_reply": "2022-02-13T12:11:51.258401Z"
    },
    "papermill": {
     "duration": 0.036732,
     "end_time": "2022-02-13T12:11:51.259048",
     "exception": false,
     "start_time": "2022-02-13T12:11:51.222316",
     "status": "completed"
    },
    "tags": []
   },
   "outputs": [],
   "source": [
    "#hide\n",
    "# cols = list(g.columns.values)"
   ]
  },
  {
   "cell_type": "code",
   "execution_count": 29,
   "id": "solved-farming",
   "metadata": {
    "execution": {
     "iopub.execute_input": "2022-02-13T12:11:51.326261Z",
     "iopub.status.busy": "2022-02-13T12:11:51.325639Z",
     "iopub.status.idle": "2022-02-13T12:11:51.328044Z",
     "shell.execute_reply": "2022-02-13T12:11:51.327449Z"
    },
    "papermill": {
     "duration": 0.037622,
     "end_time": "2022-02-13T12:11:51.328154",
     "exception": false,
     "start_time": "2022-02-13T12:11:51.290532",
     "status": "completed"
    },
    "tags": []
   },
   "outputs": [],
   "source": [
    "#hide\n",
    "# cols.insert(0, cols.pop())"
   ]
  },
  {
   "cell_type": "code",
   "execution_count": 30,
   "id": "executed-adoption",
   "metadata": {
    "execution": {
     "iopub.execute_input": "2022-02-13T12:11:51.398670Z",
     "iopub.status.busy": "2022-02-13T12:11:51.398056Z",
     "iopub.status.idle": "2022-02-13T12:11:51.400700Z",
     "shell.execute_reply": "2022-02-13T12:11:51.400210Z"
    },
    "papermill": {
     "duration": 0.039525,
     "end_time": "2022-02-13T12:11:51.400809",
     "exception": false,
     "start_time": "2022-02-13T12:11:51.361284",
     "status": "completed"
    },
    "tags": []
   },
   "outputs": [],
   "source": [
    "#hide\n",
    "# g = g[cols]"
   ]
  },
  {
   "cell_type": "code",
   "execution_count": 31,
   "id": "subject-dublin",
   "metadata": {
    "execution": {
     "iopub.execute_input": "2022-02-13T12:11:51.470348Z",
     "iopub.status.busy": "2022-02-13T12:11:51.469766Z",
     "iopub.status.idle": "2022-02-13T12:11:51.473905Z",
     "shell.execute_reply": "2022-02-13T12:11:51.473455Z"
    },
    "papermill": {
     "duration": 0.039214,
     "end_time": "2022-02-13T12:11:51.474018",
     "exception": false,
     "start_time": "2022-02-13T12:11:51.434804",
     "status": "completed"
    },
    "tags": []
   },
   "outputs": [],
   "source": [
    "#hide\n",
    "# g['continent'] = g['continent'].map(mapping['map.continent'])"
   ]
  },
  {
   "cell_type": "code",
   "execution_count": 32,
   "id": "freelance-scout",
   "metadata": {
    "execution": {
     "iopub.execute_input": "2022-02-13T12:11:51.542655Z",
     "iopub.status.busy": "2022-02-13T12:11:51.542099Z",
     "iopub.status.idle": "2022-02-13T12:11:51.544129Z",
     "shell.execute_reply": "2022-02-13T12:11:51.544546Z"
    },
    "papermill": {
     "duration": 0.038435,
     "end_time": "2022-02-13T12:11:51.544676",
     "exception": false,
     "start_time": "2022-02-13T12:11:51.506241",
     "status": "completed"
    },
    "tags": []
   },
   "outputs": [],
   "source": [
    "#hide\n",
    "# g.head()"
   ]
  },
  {
   "cell_type": "code",
   "execution_count": 33,
   "id": "limited-engine",
   "metadata": {
    "execution": {
     "iopub.execute_input": "2022-02-13T12:11:51.614074Z",
     "iopub.status.busy": "2022-02-13T12:11:51.613374Z",
     "iopub.status.idle": "2022-02-13T12:11:51.615411Z",
     "shell.execute_reply": "2022-02-13T12:11:51.615897Z"
    },
    "papermill": {
     "duration": 0.037774,
     "end_time": "2022-02-13T12:11:51.616041",
     "exception": false,
     "start_time": "2022-02-13T12:11:51.578267",
     "status": "completed"
    },
    "tags": []
   },
   "outputs": [],
   "source": [
    "# hide\n",
    "# g['date'] = g['date'].astype('datetime64[ns]')"
   ]
  },
  {
   "cell_type": "code",
   "execution_count": 34,
   "id": "sophisticated-supervisor",
   "metadata": {
    "execution": {
     "iopub.execute_input": "2022-02-13T12:11:51.685235Z",
     "iopub.status.busy": "2022-02-13T12:11:51.684661Z",
     "iopub.status.idle": "2022-02-13T12:11:51.688185Z",
     "shell.execute_reply": "2022-02-13T12:11:51.688645Z"
    },
    "papermill": {
     "duration": 0.040183,
     "end_time": "2022-02-13T12:11:51.688789",
     "exception": false,
     "start_time": "2022-02-13T12:11:51.648606",
     "status": "completed"
    },
    "tags": []
   },
   "outputs": [],
   "source": [
    "#hide\n",
    "# g['date'] = g.date.dt.dayofyear"
   ]
  },
  {
   "cell_type": "code",
   "execution_count": 35,
   "id": "inside-dubai",
   "metadata": {
    "execution": {
     "iopub.execute_input": "2022-02-13T12:11:51.755557Z",
     "iopub.status.busy": "2022-02-13T12:11:51.755003Z",
     "iopub.status.idle": "2022-02-13T12:11:51.757185Z",
     "shell.execute_reply": "2022-02-13T12:11:51.756608Z"
    },
    "papermill": {
     "duration": 0.036905,
     "end_time": "2022-02-13T12:11:51.757296",
     "exception": false,
     "start_time": "2022-02-13T12:11:51.720391",
     "status": "completed"
    },
    "tags": []
   },
   "outputs": [],
   "source": [
    "#hide\n",
    "# g = g.rename(columns= {'continent':'group','country':'name','cases':'value'})"
   ]
  },
  {
   "cell_type": "code",
   "execution_count": 36,
   "id": "fleet-motorcycle",
   "metadata": {
    "execution": {
     "iopub.execute_input": "2022-02-13T12:11:51.827106Z",
     "iopub.status.busy": "2022-02-13T12:11:51.826554Z",
     "iopub.status.idle": "2022-02-13T12:11:51.830323Z",
     "shell.execute_reply": "2022-02-13T12:11:51.829769Z"
    },
    "papermill": {
     "duration": 0.039767,
     "end_time": "2022-02-13T12:11:51.830439",
     "exception": false,
     "start_time": "2022-02-13T12:11:51.790672",
     "status": "completed"
    },
    "tags": []
   },
   "outputs": [],
   "source": [
    "#hide\n",
    "# cols = ['name','group','day','value']"
   ]
  },
  {
   "cell_type": "code",
   "execution_count": 37,
   "id": "continued-sleeping",
   "metadata": {
    "execution": {
     "iopub.execute_input": "2022-02-13T12:11:51.902139Z",
     "iopub.status.busy": "2022-02-13T12:11:51.901405Z",
     "iopub.status.idle": "2022-02-13T12:11:51.904510Z",
     "shell.execute_reply": "2022-02-13T12:11:51.905113Z"
    },
    "papermill": {
     "duration": 0.040237,
     "end_time": "2022-02-13T12:11:51.905260",
     "exception": false,
     "start_time": "2022-02-13T12:11:51.865023",
     "status": "completed"
    },
    "tags": []
   },
   "outputs": [],
   "source": [
    "#hide\n",
    "# g.rename(columns= {'date':'day'},inplace = True)"
   ]
  },
  {
   "cell_type": "code",
   "execution_count": 38,
   "id": "major-fight",
   "metadata": {
    "execution": {
     "iopub.execute_input": "2022-02-13T12:11:51.976147Z",
     "iopub.status.busy": "2022-02-13T12:11:51.975587Z",
     "iopub.status.idle": "2022-02-13T12:11:51.978247Z",
     "shell.execute_reply": "2022-02-13T12:11:51.977664Z"
    },
    "papermill": {
     "duration": 0.039126,
     "end_time": "2022-02-13T12:11:51.978360",
     "exception": false,
     "start_time": "2022-02-13T12:11:51.939234",
     "status": "completed"
    },
    "tags": []
   },
   "outputs": [],
   "source": [
    "#hide\n",
    "# g = g[cols]"
   ]
  },
  {
   "cell_type": "code",
   "execution_count": 39,
   "id": "structured-mobile",
   "metadata": {
    "execution": {
     "iopub.execute_input": "2022-02-13T12:11:52.047049Z",
     "iopub.status.busy": "2022-02-13T12:11:52.046438Z",
     "iopub.status.idle": "2022-02-13T12:11:52.048508Z",
     "shell.execute_reply": "2022-02-13T12:11:52.048938Z"
    },
    "papermill": {
     "duration": 0.038415,
     "end_time": "2022-02-13T12:11:52.049072",
     "exception": false,
     "start_time": "2022-02-13T12:11:52.010657",
     "status": "completed"
    },
    "tags": []
   },
   "outputs": [],
   "source": [
    "# #hide\n",
    "# g = g[g.group.notna()]"
   ]
  },
  {
   "cell_type": "code",
   "execution_count": 40,
   "id": "determined-closing",
   "metadata": {
    "execution": {
     "iopub.execute_input": "2022-02-13T12:11:52.124995Z",
     "iopub.status.busy": "2022-02-13T12:11:52.124436Z",
     "iopub.status.idle": "2022-02-13T12:11:52.126791Z",
     "shell.execute_reply": "2022-02-13T12:11:52.126249Z"
    },
    "papermill": {
     "duration": 0.038305,
     "end_time": "2022-02-13T12:11:52.126901",
     "exception": false,
     "start_time": "2022-02-13T12:11:52.088596",
     "status": "completed"
    },
    "tags": []
   },
   "outputs": [],
   "source": [
    "# #hide\n",
    "# colors = dict(zip(\n",
    "#     [\"Oceania\", \"Europe\", \"Asia\", \"South America\", \"Middle East\", \"North America\", \"Africa\"],\n",
    "#     [\"#adb0ff\", \"#ffb3ff\", \"#90d595\", \"#e48381\", \"#aafbff\", \"#f7bb5f\", \"#eafb50\"]\n",
    "# ))\n",
    "# group_lk = g.set_index('name')['group'].to_dict()"
   ]
  },
  {
   "cell_type": "code",
   "execution_count": null,
   "id": "gross-drinking",
   "metadata": {
    "papermill": {
     "duration": 0.034507,
     "end_time": "2022-02-13T12:11:52.194055",
     "exception": false,
     "start_time": "2022-02-13T12:11:52.159548",
     "status": "completed"
    },
    "tags": []
   },
   "outputs": [],
   "source": []
  },
  {
   "cell_type": "code",
   "execution_count": 41,
   "id": "subject-macintosh",
   "metadata": {
    "execution": {
     "iopub.execute_input": "2022-02-13T12:11:52.262399Z",
     "iopub.status.busy": "2022-02-13T12:11:52.261829Z",
     "iopub.status.idle": "2022-02-13T12:11:52.265403Z",
     "shell.execute_reply": "2022-02-13T12:11:52.265829Z"
    },
    "papermill": {
     "duration": 0.039683,
     "end_time": "2022-02-13T12:11:52.265963",
     "exception": false,
     "start_time": "2022-02-13T12:11:52.226280",
     "status": "completed"
    },
    "tags": []
   },
   "outputs": [],
   "source": [
    "# #hide\n",
    "# fig, ax = plt.subplots(figsize=(15, 8))\n",
    "\n",
    "# def draw_barchart(current_day):\n",
    "#     dff = g[g['day'].eq(current_day)].sort_values(by='value', ascending=True).tail(10)\n",
    "#     ax.clear()\n",
    "#     ax.barh(dff['name'], dff['value'], color=[colors[group_lk[x]] for x in dff['name']])\n",
    "#     dx = dff['value'].max() / 200\n",
    "    \n",
    "#     for i, (value, name) in enumerate(zip(dff['value'], dff['name'])):\n",
    "#         ax.text(value-dx, i,     name,           size=14, weight=600, ha='right', va='bottom')\n",
    "#         ax.text(value-dx, i-.25, group_lk[name], size=10, color='#444444', ha='right', va='baseline')\n",
    "#         ax.text(value+dx, i,     f'{value:,.0f}',  size=14, ha='left',  va='center')\n",
    "#     ax.text(1, 0.4, current_day, transform=ax.transAxes, color='#777777', size=46, ha='right', weight=800)\n",
    "#     ax.text(0, 1.06, 'Population (thousands)', transform=ax.transAxes, size=12, color='#777777')\n",
    "#     ax.xaxis.set_major_formatter(ticker.StrMethodFormatter('{x:,.0f}'))\n",
    "#     ax.xaxis.set_ticks_position('top')\n",
    "#     ax.tick_params(axis='x', colors='#777777', labelsize=12)\n",
    "#     ax.set_yticks([])\n",
    "#     ax.margins(0, 0.01)\n",
    "#     ax.grid(which='major', axis='x', linestyle='-')\n",
    "#     ax.set_axisbelow(True)\n",
    "    \n",
    "#     ax.text(0, 1.15, 'Coronavirus',\n",
    "#             transform=ax.transAxes, size=24, weight=600, ha='left', va='top')\n",
    "# #     ax.text(1, 0, 'by @pratapvardhan; credit @jburnmurdoch', transform=ax.transAxes, color='#777777', ha='right',\n",
    "# #             bbox=dict(facecolor='white', alpha=0.8, edgecolor='white'))\n",
    "#     plt.box(False)"
   ]
  },
  {
   "cell_type": "code",
   "execution_count": 42,
   "id": "sexual-wages",
   "metadata": {
    "execution": {
     "iopub.execute_input": "2022-02-13T12:11:52.336028Z",
     "iopub.status.busy": "2022-02-13T12:11:52.335423Z",
     "iopub.status.idle": "2022-02-13T12:11:52.337777Z",
     "shell.execute_reply": "2022-02-13T12:11:52.337307Z"
    },
    "papermill": {
     "duration": 0.040331,
     "end_time": "2022-02-13T12:11:52.337884",
     "exception": false,
     "start_time": "2022-02-13T12:11:52.297553",
     "status": "completed"
    },
    "tags": []
   },
   "outputs": [],
   "source": [
    "# #hide_input\n",
    "# fig, ax = plt.subplots(figsize=(15, 8))\n",
    "# animator = animation.FuncAnimation(fig, draw_barchart, frames=range(g.day.values.min(), g.day.values.max()))\n",
    "# HTML(animator.to_jshtml())\n",
    "# # or use animator.to_html5_video() or animator.save() "
   ]
  },
  {
   "cell_type": "code",
   "execution_count": null,
   "id": "australian-container",
   "metadata": {
    "papermill": {
     "duration": 0.033611,
     "end_time": "2022-02-13T12:11:52.406742",
     "exception": false,
     "start_time": "2022-02-13T12:11:52.373131",
     "status": "completed"
    },
    "tags": []
   },
   "outputs": [],
   "source": []
  },
  {
   "cell_type": "code",
   "execution_count": null,
   "id": "mediterranean-pontiac",
   "metadata": {
    "papermill": {
     "duration": 0.033939,
     "end_time": "2022-02-13T12:11:52.472091",
     "exception": false,
     "start_time": "2022-02-13T12:11:52.438152",
     "status": "completed"
    },
    "tags": []
   },
   "outputs": [],
   "source": []
  },
  {
   "cell_type": "code",
   "execution_count": null,
   "id": "aging-legislature",
   "metadata": {
    "papermill": {
     "duration": 0.030915,
     "end_time": "2022-02-13T12:11:52.535746",
     "exception": false,
     "start_time": "2022-02-13T12:11:52.504831",
     "status": "completed"
    },
    "tags": []
   },
   "outputs": [],
   "source": []
  }
 ],
 "metadata": {
  "kernelspec": {
   "display_name": "Python 3",
   "language": "python",
   "name": "python3"
  },
  "language_info": {
   "codemirror_mode": {
    "name": "ipython",
    "version": 3
   },
   "file_extension": ".py",
   "mimetype": "text/x-python",
   "name": "python",
   "nbconvert_exporter": "python",
   "pygments_lexer": "ipython3",
   "version": "3.6.15"
  },
  "papermill": {
   "duration": 6.282327,
   "end_time": "2022-02-13T12:11:52.884658",
   "environment_variables": {},
   "exception": null,
   "input_path": "2020-03-21-covid19exp.ipynb",
   "output_path": "2020-03-21-covid19exp.ipynb",
   "parameters": {},
   "start_time": "2022-02-13T12:11:46.602331",
   "version": "2.0.0"
  }
 },
 "nbformat": 4,
 "nbformat_minor": 5
}