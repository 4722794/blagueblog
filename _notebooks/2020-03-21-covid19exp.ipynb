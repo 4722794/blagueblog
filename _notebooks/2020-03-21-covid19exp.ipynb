{
 "cells": [
  {
   "cell_type": "markdown",
   "id": "muslim-click",
   "metadata": {
    "papermill": {
     "duration": 0.034449,
     "end_time": "2022-02-03T12:12:03.611024",
     "exception": false,
     "start_time": "2022-02-03T12:12:03.576575",
     "status": "completed"
    },
    "tags": []
   },
   "source": [
    "# COVID-19 Case Race\n",
    "> A race chart to see rising cases around the world\n",
    "\n",
    "- author: Hargun Oberoi\n",
    "- image: images/covid-overview.png\n",
    "- hide: false\n",
    "- badges: false"
   ]
  },
  {
   "cell_type": "code",
   "execution_count": 1,
   "id": "proof-material",
   "metadata": {
    "execution": {
     "iopub.execute_input": "2022-02-03T12:12:03.681349Z",
     "iopub.status.busy": "2022-02-03T12:12:03.680829Z",
     "iopub.status.idle": "2022-02-03T12:12:03.995689Z",
     "shell.execute_reply": "2022-02-03T12:12:03.995155Z"
    },
    "papermill": {
     "duration": 0.35487,
     "end_time": "2022-02-03T12:12:03.995840",
     "exception": false,
     "start_time": "2022-02-03T12:12:03.640970",
     "status": "completed"
    },
    "tags": []
   },
   "outputs": [],
   "source": [
    "#hide\n",
    "import numpy as np\n",
    "import pandas as pd\n",
    "from jinja2 import Template\n",
    "from IPython.display import HTML"
   ]
  },
  {
   "cell_type": "code",
   "execution_count": 2,
   "id": "developed-terminology",
   "metadata": {
    "execution": {
     "iopub.execute_input": "2022-02-03T12:12:04.060831Z",
     "iopub.status.busy": "2022-02-03T12:12:04.060223Z",
     "iopub.status.idle": "2022-02-03T12:12:04.061722Z",
     "shell.execute_reply": "2022-02-03T12:12:04.062194Z"
    },
    "papermill": {
     "duration": 0.036059,
     "end_time": "2022-02-03T12:12:04.062328",
     "exception": false,
     "start_time": "2022-02-03T12:12:04.026269",
     "status": "completed"
    },
    "tags": []
   },
   "outputs": [],
   "source": [
    "#hide\n",
    "\n",
    "# FETCH\n",
    "base_url = 'https://raw.githubusercontent.com/pratapvardhan/notebooks/master/covid19/'\n",
    "paths = {\n",
    "    'mapping': base_url + 'mapping_countries.csv',\n",
    "    'overview': base_url + 'overview.tpl'\n",
    "}"
   ]
  },
  {
   "cell_type": "code",
   "execution_count": 3,
   "id": "dynamic-saver",
   "metadata": {
    "execution": {
     "iopub.execute_input": "2022-02-03T12:12:04.129754Z",
     "iopub.status.busy": "2022-02-03T12:12:04.128014Z",
     "iopub.status.idle": "2022-02-03T12:12:04.132675Z",
     "shell.execute_reply": "2022-02-03T12:12:04.132248Z"
    },
    "papermill": {
     "duration": 0.041075,
     "end_time": "2022-02-03T12:12:04.132778",
     "exception": false,
     "start_time": "2022-02-03T12:12:04.091703",
     "status": "completed"
    },
    "tags": []
   },
   "outputs": [
    {
     "data": {
      "text/plain": [
       "'https://raw.githubusercontent.com/pratapvardhan/notebooks/master/covid19/mapping_countries.csv'"
      ]
     },
     "execution_count": 3,
     "metadata": {},
     "output_type": "execute_result"
    }
   ],
   "source": [
    "#hide\n",
    "paths['mapping']"
   ]
  },
  {
   "cell_type": "code",
   "execution_count": 4,
   "id": "urban-software",
   "metadata": {
    "execution": {
     "iopub.execute_input": "2022-02-03T12:12:04.196695Z",
     "iopub.status.busy": "2022-02-03T12:12:04.196181Z",
     "iopub.status.idle": "2022-02-03T12:12:04.197941Z",
     "shell.execute_reply": "2022-02-03T12:12:04.198377Z"
    },
    "papermill": {
     "duration": 0.036115,
     "end_time": "2022-02-03T12:12:04.198493",
     "exception": false,
     "start_time": "2022-02-03T12:12:04.162378",
     "status": "completed"
    },
    "tags": []
   },
   "outputs": [],
   "source": [
    "#hide\n",
    "def get_mappings(url):\n",
    "    df = pd.read_csv(url)\n",
    "    return {\n",
    "        'df': df,\n",
    "        'replace.country': dict(df.dropna(subset=['Name']).set_index('Country')['Name']),\n",
    "        'map.continent': dict(df.set_index('Name')['Continent'])\n",
    "    }"
   ]
  },
  {
   "cell_type": "code",
   "execution_count": 5,
   "id": "intimate-machinery",
   "metadata": {
    "execution": {
     "iopub.execute_input": "2022-02-03T12:12:04.262255Z",
     "iopub.status.busy": "2022-02-03T12:12:04.261737Z",
     "iopub.status.idle": "2022-02-03T12:12:04.289007Z",
     "shell.execute_reply": "2022-02-03T12:12:04.288516Z"
    },
    "papermill": {
     "duration": 0.061233,
     "end_time": "2022-02-03T12:12:04.289124",
     "exception": false,
     "start_time": "2022-02-03T12:12:04.227891",
     "status": "completed"
    },
    "tags": []
   },
   "outputs": [],
   "source": [
    "#hide\n",
    "mapping = get_mappings(paths['mapping'])"
   ]
  },
  {
   "cell_type": "code",
   "execution_count": 6,
   "id": "certified-tactics",
   "metadata": {
    "execution": {
     "iopub.execute_input": "2022-02-03T12:12:04.354173Z",
     "iopub.status.busy": "2022-02-03T12:12:04.353584Z",
     "iopub.status.idle": "2022-02-03T12:12:04.355769Z",
     "shell.execute_reply": "2022-02-03T12:12:04.355085Z"
    },
    "papermill": {
     "duration": 0.036002,
     "end_time": "2022-02-03T12:12:04.355886",
     "exception": false,
     "start_time": "2022-02-03T12:12:04.319884",
     "status": "completed"
    },
    "tags": []
   },
   "outputs": [],
   "source": [
    "#hide\n",
    "def get_template(path):\n",
    "    from urllib.parse import urlparse\n",
    "    if bool(urlparse(path).netloc):\n",
    "        from urllib.request import urlopen\n",
    "        return urlopen(path).read().decode('utf8')\n",
    "    return open(path).read()"
   ]
  },
  {
   "cell_type": "code",
   "execution_count": 7,
   "id": "realistic-blast",
   "metadata": {
    "execution": {
     "iopub.execute_input": "2022-02-03T12:12:04.419335Z",
     "iopub.status.busy": "2022-02-03T12:12:04.418774Z",
     "iopub.status.idle": "2022-02-03T12:12:04.420963Z",
     "shell.execute_reply": "2022-02-03T12:12:04.420536Z"
    },
    "papermill": {
     "duration": 0.035539,
     "end_time": "2022-02-03T12:12:04.421065",
     "exception": false,
     "start_time": "2022-02-03T12:12:04.385526",
     "status": "completed"
    },
    "tags": []
   },
   "outputs": [],
   "source": [
    "#hide\n",
    "def get_frame(name):\n",
    "    url = (\n",
    "        'https://raw.githubusercontent.com/CSSEGISandData/COVID-19/master/csse_covid_19_data/'\n",
    "        f'csse_covid_19_time_series/time_series_covid19_{name}_global.csv')\n",
    "    df = pd.read_csv(url)\n",
    "    # rename countries\n",
    "    df['Country/Region'] = df['Country/Region'].replace(mapping['replace.country'])\n",
    "    return df"
   ]
  },
  {
   "cell_type": "code",
   "execution_count": 8,
   "id": "affiliated-characterization",
   "metadata": {
    "execution": {
     "iopub.execute_input": "2022-02-03T12:12:04.485328Z",
     "iopub.status.busy": "2022-02-03T12:12:04.484817Z",
     "iopub.status.idle": "2022-02-03T12:12:04.487350Z",
     "shell.execute_reply": "2022-02-03T12:12:04.486946Z"
    },
    "papermill": {
     "duration": 0.036945,
     "end_time": "2022-02-03T12:12:04.487455",
     "exception": false,
     "start_time": "2022-02-03T12:12:04.450510",
     "status": "completed"
    },
    "tags": []
   },
   "outputs": [],
   "source": [
    "#hide\n",
    "def get_dates(df):\n",
    "    dt_cols = df.columns[~df.columns.isin(['Province/State', 'Country/Region', 'Lat', 'Long'])]\n",
    "    LAST_DATE_I = -1\n",
    "    # sometimes last column may be empty, then go backwards\n",
    "    for i in range(-1, -len(dt_cols), -1):\n",
    "        if not df[dt_cols[i]].fillna(0).eq(0).all():\n",
    "            LAST_DATE_I = i\n",
    "            break\n",
    "    return LAST_DATE_I, dt_cols"
   ]
  },
  {
   "cell_type": "code",
   "execution_count": 9,
   "id": "recent-optimization",
   "metadata": {
    "execution": {
     "iopub.execute_input": "2022-02-03T12:12:04.551336Z",
     "iopub.status.busy": "2022-02-03T12:12:04.550805Z",
     "iopub.status.idle": "2022-02-03T12:12:04.859297Z",
     "shell.execute_reply": "2022-02-03T12:12:04.858780Z"
    },
    "papermill": {
     "duration": 0.342603,
     "end_time": "2022-02-03T12:12:04.859434",
     "exception": false,
     "start_time": "2022-02-03T12:12:04.516831",
     "status": "completed"
    },
    "tags": []
   },
   "outputs": [],
   "source": [
    "#hide\n",
    "COL_REGION = 'Country/Region'\n",
    "# Confirmed, Recovered, Deaths\n",
    "df = get_frame('confirmed')\n",
    "# dft_: timeseries, dfc_: today country agg\n",
    "dft_cases = df\n",
    "dft_deaths = get_frame('deaths')\n",
    "dft_recovered = get_frame('recovered')\n",
    "LAST_DATE_I, dt_cols = get_dates(df)"
   ]
  },
  {
   "cell_type": "code",
   "execution_count": 10,
   "id": "absolute-copper",
   "metadata": {
    "execution": {
     "iopub.execute_input": "2022-02-03T12:12:04.926104Z",
     "iopub.status.busy": "2022-02-03T12:12:04.925473Z",
     "iopub.status.idle": "2022-02-03T12:12:04.926907Z",
     "shell.execute_reply": "2022-02-03T12:12:04.927308Z"
    },
    "papermill": {
     "duration": 0.035761,
     "end_time": "2022-02-03T12:12:04.927426",
     "exception": false,
     "start_time": "2022-02-03T12:12:04.891665",
     "status": "completed"
    },
    "tags": []
   },
   "outputs": [],
   "source": [
    "#hide\n",
    "LAST_DATE_I, dt_cols = get_dates(df)\n",
    "dt_today =dt_cols[LAST_DATE_I]\n",
    "# dt_5day = dt_cols[LAST_DATE_I - 5]\n",
    "dt_yday = dt_cols[LAST_DATE_I - 1]"
   ]
  },
  {
   "cell_type": "code",
   "execution_count": 11,
   "id": "restricted-sheriff",
   "metadata": {
    "execution": {
     "iopub.execute_input": "2022-02-03T12:12:04.991735Z",
     "iopub.status.busy": "2022-02-03T12:12:04.991224Z",
     "iopub.status.idle": "2022-02-03T12:12:04.998795Z",
     "shell.execute_reply": "2022-02-03T12:12:04.999228Z"
    },
    "papermill": {
     "duration": 0.042179,
     "end_time": "2022-02-03T12:12:04.999346",
     "exception": false,
     "start_time": "2022-02-03T12:12:04.957167",
     "status": "completed"
    },
    "tags": []
   },
   "outputs": [],
   "source": [
    "#hide\n",
    "dfc_cases = dft_cases.groupby(COL_REGION)[dt_today].sum()\n",
    "dfc_deaths = dft_deaths.groupby(COL_REGION)[dt_today].sum()\n",
    "# dfp_cases = dft_cases.groupby(COL_REGION)[dt_5day].sum()\n",
    "# dfp_deaths = dft_deaths.groupby(COL_REGION)[dt_5day].sum()\n",
    "dfp_cases = dft_cases.groupby(COL_REGION)[dt_yday].sum()\n",
    "dfp_deaths = dft_deaths.groupby(COL_REGION)[dt_yday].sum()"
   ]
  },
  {
   "cell_type": "code",
   "execution_count": 12,
   "id": "deluxe-hepatitis",
   "metadata": {
    "execution": {
     "iopub.execute_input": "2022-02-03T12:12:05.063876Z",
     "iopub.status.busy": "2022-02-03T12:12:05.063359Z",
     "iopub.status.idle": "2022-02-03T12:12:05.068559Z",
     "shell.execute_reply": "2022-02-03T12:12:05.068114Z"
    },
    "papermill": {
     "duration": 0.039676,
     "end_time": "2022-02-03T12:12:05.068668",
     "exception": false,
     "start_time": "2022-02-03T12:12:05.028992",
     "status": "completed"
    },
    "tags": []
   },
   "outputs": [],
   "source": [
    "#hide\n",
    "df_table = (pd.DataFrame(dict(Cases = dfc_cases, Deaths = dfc_deaths, PCases = dfp_cases, PDeaths = dfp_deaths))\n",
    "            .sort_values(by = ['Cases','Deaths'], ascending = [False, False])\n",
    "            .reset_index())"
   ]
  },
  {
   "cell_type": "code",
   "execution_count": 13,
   "id": "educational-chancellor",
   "metadata": {
    "execution": {
     "iopub.execute_input": "2022-02-03T12:12:05.145346Z",
     "iopub.status.busy": "2022-02-03T12:12:05.144811Z",
     "iopub.status.idle": "2022-02-03T12:12:05.151863Z",
     "shell.execute_reply": "2022-02-03T12:12:05.152271Z"
    },
    "papermill": {
     "duration": 0.054251,
     "end_time": "2022-02-03T12:12:05.152395",
     "exception": false,
     "start_time": "2022-02-03T12:12:05.098144",
     "status": "completed"
    },
    "tags": []
   },
   "outputs": [
    {
     "data": {
      "text/html": [
       "<div>\n",
       "<style scoped>\n",
       "    .dataframe tbody tr th:only-of-type {\n",
       "        vertical-align: middle;\n",
       "    }\n",
       "\n",
       "    .dataframe tbody tr th {\n",
       "        vertical-align: top;\n",
       "    }\n",
       "\n",
       "    .dataframe thead th {\n",
       "        text-align: right;\n",
       "    }\n",
       "</style>\n",
       "<table border=\"1\" class=\"dataframe\">\n",
       "  <thead>\n",
       "    <tr style=\"text-align: right;\">\n",
       "      <th></th>\n",
       "      <th>Country/Region</th>\n",
       "      <th>Cases</th>\n",
       "      <th>Deaths</th>\n",
       "      <th>PCases</th>\n",
       "      <th>PDeaths</th>\n",
       "      <th>Cases (+)</th>\n",
       "      <th>Deaths (+)</th>\n",
       "      <th>Fatality Rate</th>\n",
       "      <th>Continent</th>\n",
       "    </tr>\n",
       "  </thead>\n",
       "  <tbody>\n",
       "    <tr>\n",
       "      <th>0</th>\n",
       "      <td>US</td>\n",
       "      <td>75680487</td>\n",
       "      <td>894316</td>\n",
       "      <td>75350359</td>\n",
       "      <td>890770</td>\n",
       "      <td>330128</td>\n",
       "      <td>3546</td>\n",
       "      <td>1.18</td>\n",
       "      <td>North America</td>\n",
       "    </tr>\n",
       "    <tr>\n",
       "      <th>1</th>\n",
       "      <td>India</td>\n",
       "      <td>41803318</td>\n",
       "      <td>498983</td>\n",
       "      <td>41630885</td>\n",
       "      <td>497975</td>\n",
       "      <td>172433</td>\n",
       "      <td>1008</td>\n",
       "      <td>1.19</td>\n",
       "      <td>Asia</td>\n",
       "    </tr>\n",
       "    <tr>\n",
       "      <th>2</th>\n",
       "      <td>Brazil</td>\n",
       "      <td>25820745</td>\n",
       "      <td>629301</td>\n",
       "      <td>25634781</td>\n",
       "      <td>628356</td>\n",
       "      <td>185964</td>\n",
       "      <td>945</td>\n",
       "      <td>2.44</td>\n",
       "      <td>South America</td>\n",
       "    </tr>\n",
       "    <tr>\n",
       "      <th>3</th>\n",
       "      <td>France</td>\n",
       "      <td>19998301</td>\n",
       "      <td>132583</td>\n",
       "      <td>19681231</td>\n",
       "      <td>132307</td>\n",
       "      <td>317070</td>\n",
       "      <td>276</td>\n",
       "      <td>0.66</td>\n",
       "      <td>Europe</td>\n",
       "    </tr>\n",
       "    <tr>\n",
       "      <th>4</th>\n",
       "      <td>United Kingdom</td>\n",
       "      <td>17632062</td>\n",
       "      <td>157938</td>\n",
       "      <td>17544380</td>\n",
       "      <td>157404</td>\n",
       "      <td>87682</td>\n",
       "      <td>534</td>\n",
       "      <td>0.90</td>\n",
       "      <td>Europe</td>\n",
       "    </tr>\n",
       "  </tbody>\n",
       "</table>\n",
       "</div>"
      ],
      "text/plain": [
       "   Country/Region     Cases  Deaths    PCases  PDeaths  Cases (+)  Deaths (+)  \\\n",
       "0              US  75680487  894316  75350359   890770     330128        3546   \n",
       "1           India  41803318  498983  41630885   497975     172433        1008   \n",
       "2          Brazil  25820745  629301  25634781   628356     185964         945   \n",
       "3          France  19998301  132583  19681231   132307     317070         276   \n",
       "4  United Kingdom  17632062  157938  17544380   157404      87682         534   \n",
       "\n",
       "   Fatality Rate      Continent  \n",
       "0           1.18  North America  \n",
       "1           1.19           Asia  \n",
       "2           2.44  South America  \n",
       "3           0.66         Europe  \n",
       "4           0.90         Europe  "
      ]
     },
     "execution_count": 13,
     "metadata": {},
     "output_type": "execute_result"
    }
   ],
   "source": [
    "#hide\n",
    "for c in 'Cases, Deaths'.split(', '):\n",
    "    df_table[f'{c} (+)'] = (df_table[c] - df_table[f'P{c}']).clip(0)\n",
    "    #Clip ça veut dire, les chiffres negatif sont interdit\n",
    "df_table['Fatality Rate'] = (100* df_table['Deaths']/ df_table['Cases']).round(2)\n",
    "df_table['Continent'] = df_table['Country/Region'].map(mapping['map.continent'])\n",
    "df_table.head(5)"
   ]
  },
  {
   "cell_type": "code",
   "execution_count": 14,
   "id": "aboriginal-bulgaria",
   "metadata": {
    "execution": {
     "iopub.execute_input": "2022-02-03T12:12:05.216807Z",
     "iopub.status.busy": "2022-02-03T12:12:05.216303Z",
     "iopub.status.idle": "2022-02-03T12:12:05.218906Z",
     "shell.execute_reply": "2022-02-03T12:12:05.219387Z"
    },
    "papermill": {
     "duration": 0.037059,
     "end_time": "2022-02-03T12:12:05.219506",
     "exception": false,
     "start_time": "2022-02-03T12:12:05.182447",
     "status": "completed"
    },
    "tags": []
   },
   "outputs": [],
   "source": [
    "#hide\n",
    "#delete problematic countries from table\n",
    "df_table = df_table[~df_table['Country/Region'].isin(['Cape Verde', 'Cruise Ship', 'Kosovo'])]"
   ]
  },
  {
   "cell_type": "code",
   "execution_count": 15,
   "id": "fantastic-effect",
   "metadata": {
    "execution": {
     "iopub.execute_input": "2022-02-03T12:12:05.296903Z",
     "iopub.status.busy": "2022-02-03T12:12:05.285930Z",
     "iopub.status.idle": "2022-02-03T12:12:05.304162Z",
     "shell.execute_reply": "2022-02-03T12:12:05.303757Z"
    },
    "papermill": {
     "duration": 0.055042,
     "end_time": "2022-02-03T12:12:05.304266",
     "exception": false,
     "start_time": "2022-02-03T12:12:05.249224",
     "status": "completed"
    },
    "tags": []
   },
   "outputs": [
    {
     "data": {
      "text/html": [
       "<div>\n",
       "<style scoped>\n",
       "    .dataframe tbody tr th:only-of-type {\n",
       "        vertical-align: middle;\n",
       "    }\n",
       "\n",
       "    .dataframe tbody tr th {\n",
       "        vertical-align: top;\n",
       "    }\n",
       "\n",
       "    .dataframe thead th {\n",
       "        text-align: right;\n",
       "    }\n",
       "</style>\n",
       "<table border=\"1\" class=\"dataframe\">\n",
       "  <thead>\n",
       "    <tr style=\"text-align: right;\">\n",
       "      <th></th>\n",
       "      <th>Country/Region</th>\n",
       "      <th>Cases</th>\n",
       "      <th>Deaths</th>\n",
       "      <th>PCases</th>\n",
       "      <th>PDeaths</th>\n",
       "      <th>Cases (+)</th>\n",
       "      <th>Deaths (+)</th>\n",
       "      <th>Fatality Rate</th>\n",
       "      <th>Continent</th>\n",
       "    </tr>\n",
       "  </thead>\n",
       "  <tbody>\n",
       "    <tr>\n",
       "      <th>0</th>\n",
       "      <td>US</td>\n",
       "      <td>75680487</td>\n",
       "      <td>894316</td>\n",
       "      <td>75350359</td>\n",
       "      <td>890770</td>\n",
       "      <td>330128</td>\n",
       "      <td>3546</td>\n",
       "      <td>1.2</td>\n",
       "      <td>North America</td>\n",
       "    </tr>\n",
       "    <tr>\n",
       "      <th>1</th>\n",
       "      <td>India</td>\n",
       "      <td>41803318</td>\n",
       "      <td>498983</td>\n",
       "      <td>41630885</td>\n",
       "      <td>497975</td>\n",
       "      <td>172433</td>\n",
       "      <td>1008</td>\n",
       "      <td>1.2</td>\n",
       "      <td>Asia</td>\n",
       "    </tr>\n",
       "    <tr>\n",
       "      <th>2</th>\n",
       "      <td>Brazil</td>\n",
       "      <td>25820745</td>\n",
       "      <td>629301</td>\n",
       "      <td>25634781</td>\n",
       "      <td>628356</td>\n",
       "      <td>185964</td>\n",
       "      <td>945</td>\n",
       "      <td>2.4</td>\n",
       "      <td>South America</td>\n",
       "    </tr>\n",
       "    <tr>\n",
       "      <th>3</th>\n",
       "      <td>France</td>\n",
       "      <td>19998301</td>\n",
       "      <td>132583</td>\n",
       "      <td>19681231</td>\n",
       "      <td>132307</td>\n",
       "      <td>317070</td>\n",
       "      <td>276</td>\n",
       "      <td>0.7</td>\n",
       "      <td>Europe</td>\n",
       "    </tr>\n",
       "    <tr>\n",
       "      <th>4</th>\n",
       "      <td>United Kingdom</td>\n",
       "      <td>17632062</td>\n",
       "      <td>157938</td>\n",
       "      <td>17544380</td>\n",
       "      <td>157404</td>\n",
       "      <td>87682</td>\n",
       "      <td>534</td>\n",
       "      <td>0.9</td>\n",
       "      <td>Europe</td>\n",
       "    </tr>\n",
       "  </tbody>\n",
       "</table>\n",
       "</div>"
      ],
      "text/plain": [
       "   Country/Region     Cases  Deaths    PCases  PDeaths  Cases (+)  Deaths (+)  \\\n",
       "0              US  75680487  894316  75350359   890770     330128        3546   \n",
       "1           India  41803318  498983  41630885   497975     172433        1008   \n",
       "2          Brazil  25820745  629301  25634781   628356     185964         945   \n",
       "3          France  19998301  132583  19681231   132307     317070         276   \n",
       "4  United Kingdom  17632062  157938  17544380   157404      87682         534   \n",
       "\n",
       "   Fatality Rate      Continent  \n",
       "0            1.2  North America  \n",
       "1            1.2           Asia  \n",
       "2            2.4  South America  \n",
       "3            0.7         Europe  \n",
       "4            0.9         Europe  "
      ]
     },
     "execution_count": 15,
     "metadata": {},
     "output_type": "execute_result"
    }
   ],
   "source": [
    "#hide\n",
    "df_table = (pd.DataFrame(dict(Cases=dfc_cases, Deaths=dfc_deaths, PCases=dfp_cases, PDeaths=dfp_deaths))\n",
    "             .sort_values(by=['Cases', 'Deaths'], ascending=[False, False])\n",
    "             .reset_index())\n",
    "df_table.rename(columns={'index': 'Country/Region'}, inplace=True)\n",
    "for c in 'Cases, Deaths'.split(', '):\n",
    "    df_table[f'{c} (+)'] = (df_table[c] - df_table[f'P{c}']).clip(0)  # DATA BUG\n",
    "df_table['Fatality Rate'] = (100 * df_table['Deaths'] / df_table['Cases']).round(1)\n",
    "df_table['Continent'] = df_table['Country/Region'].map(mapping['map.continent'])\n",
    "df_table.head(5)"
   ]
  },
  {
   "cell_type": "code",
   "execution_count": 16,
   "id": "fewer-occasion",
   "metadata": {
    "execution": {
     "iopub.execute_input": "2022-02-03T12:12:05.370062Z",
     "iopub.status.busy": "2022-02-03T12:12:05.369442Z",
     "iopub.status.idle": "2022-02-03T12:12:05.370933Z",
     "shell.execute_reply": "2022-02-03T12:12:05.371395Z"
    },
    "papermill": {
     "duration": 0.036822,
     "end_time": "2022-02-03T12:12:05.371523",
     "exception": false,
     "start_time": "2022-02-03T12:12:05.334701",
     "status": "completed"
    },
    "tags": []
   },
   "outputs": [],
   "source": [
    "#hide\n",
    "#delete problematic countries from table\n",
    "df_table = df_table[~df_table['Country/Region'].isin(['Cape Verde', 'Cruise Ship', 'Kosovo'])]"
   ]
  },
  {
   "cell_type": "code",
   "execution_count": 17,
   "id": "related-center",
   "metadata": {
    "execution": {
     "iopub.execute_input": "2022-02-03T12:12:05.449199Z",
     "iopub.status.busy": "2022-02-03T12:12:05.448688Z",
     "iopub.status.idle": "2022-02-03T12:12:05.450698Z",
     "shell.execute_reply": "2022-02-03T12:12:05.451082Z"
    },
    "papermill": {
     "duration": 0.048987,
     "end_time": "2022-02-03T12:12:05.451198",
     "exception": false,
     "start_time": "2022-02-03T12:12:05.402211",
     "status": "completed"
    },
    "tags": []
   },
   "outputs": [],
   "source": [
    "#hide\n",
    "metrics = [df_table.columns[index] for index in [1,2,5,6]]\n",
    "# s_china = df_table[df_table['Country/Region'].eq('China')][metrics].sum().add_prefix('China ')\n",
    "s_us = df_table[df_table['Country/Region'].eq('US')][metrics].sum().add_prefix('US ')\n",
    "s_eu = df_table[df_table['Continent'].eq('Europe')][metrics].sum().add_prefix('EU ')\n",
    "s_ind = df_table[df_table['Country/Region'].eq('India')][metrics].sum().add_prefix('India ')\n",
    "summary = {'updated': pd.to_datetime(dt_today), 'since': pd.to_datetime(dt_yday)}\n",
    "summary = {'updated': pd.to_datetime(dt_today), 'since': pd.to_datetime(dt_yday)}\n",
    "summary = {**summary, **df_table[metrics].sum(), **s_ind, **s_us, **s_eu}"
   ]
  },
  {
   "cell_type": "code",
   "execution_count": 18,
   "id": "engaging-syndrome",
   "metadata": {
    "execution": {
     "iopub.execute_input": "2022-02-03T12:12:05.516627Z",
     "iopub.status.busy": "2022-02-03T12:12:05.516125Z",
     "iopub.status.idle": "2022-02-03T12:12:05.530119Z",
     "shell.execute_reply": "2022-02-03T12:12:05.529684Z"
    },
    "papermill": {
     "duration": 0.048526,
     "end_time": "2022-02-03T12:12:05.530221",
     "exception": false,
     "start_time": "2022-02-03T12:12:05.481695",
     "status": "completed"
    },
    "tags": []
   },
   "outputs": [],
   "source": [
    "#hide\n",
    "dft_ct_new_cases = dft_cases.groupby(COL_REGION)[dt_cols].sum().diff(axis=1).fillna(0).astype(int)"
   ]
  },
  {
   "cell_type": "code",
   "execution_count": 19,
   "id": "neutral-assignment",
   "metadata": {
    "execution": {
     "iopub.execute_input": "2022-02-03T12:12:05.596177Z",
     "iopub.status.busy": "2022-02-03T12:12:05.595595Z",
     "iopub.status.idle": "2022-02-03T12:12:05.597795Z",
     "shell.execute_reply": "2022-02-03T12:12:05.597278Z"
    },
    "papermill": {
     "duration": 0.037339,
     "end_time": "2022-02-03T12:12:05.597912",
     "exception": false,
     "start_time": "2022-02-03T12:12:05.560573",
     "status": "completed"
    },
    "tags": []
   },
   "outputs": [],
   "source": [
    "#hide\n",
    "everydaycases = dft_ct_new_cases.cumsum(axis=1)"
   ]
  },
  {
   "cell_type": "code",
   "execution_count": 20,
   "id": "parliamentary-calgary",
   "metadata": {
    "execution": {
     "iopub.execute_input": "2022-02-03T12:12:05.662945Z",
     "iopub.status.busy": "2022-02-03T12:12:05.662433Z",
     "iopub.status.idle": "2022-02-03T12:12:06.300418Z",
     "shell.execute_reply": "2022-02-03T12:12:06.299953Z"
    },
    "papermill": {
     "duration": 0.671989,
     "end_time": "2022-02-03T12:12:06.300543",
     "exception": false,
     "start_time": "2022-02-03T12:12:05.628554",
     "status": "completed"
    },
    "tags": []
   },
   "outputs": [],
   "source": [
    "#hide\n",
    "import pandas as pd\n",
    "import matplotlib.pyplot as plt\n",
    "import matplotlib.ticker as ticker\n",
    "import matplotlib.animation as animation\n",
    "from IPython.display import HTML"
   ]
  },
  {
   "cell_type": "code",
   "execution_count": 21,
   "id": "lasting-extraction",
   "metadata": {
    "execution": {
     "iopub.execute_input": "2022-02-03T12:12:06.367475Z",
     "iopub.status.busy": "2022-02-03T12:12:06.366954Z",
     "iopub.status.idle": "2022-02-03T12:12:06.373296Z",
     "shell.execute_reply": "2022-02-03T12:12:06.372859Z"
    },
    "papermill": {
     "duration": 0.042257,
     "end_time": "2022-02-03T12:12:06.373410",
     "exception": false,
     "start_time": "2022-02-03T12:12:06.331153",
     "status": "completed"
    },
    "tags": []
   },
   "outputs": [],
   "source": [
    "#hide\n",
    "t = everydaycases.stack()"
   ]
  },
  {
   "cell_type": "code",
   "execution_count": 22,
   "id": "premier-sleeve",
   "metadata": {
    "execution": {
     "iopub.execute_input": "2022-02-03T12:12:06.438683Z",
     "iopub.status.busy": "2022-02-03T12:12:06.438170Z",
     "iopub.status.idle": "2022-02-03T12:12:06.448435Z",
     "shell.execute_reply": "2022-02-03T12:12:06.447996Z"
    },
    "papermill": {
     "duration": 0.044567,
     "end_time": "2022-02-03T12:12:06.448543",
     "exception": false,
     "start_time": "2022-02-03T12:12:06.403976",
     "status": "completed"
    },
    "tags": []
   },
   "outputs": [],
   "source": [
    "#hide\n",
    "g = t.reset_index(['Country/Region'])"
   ]
  },
  {
   "cell_type": "code",
   "execution_count": 23,
   "id": "distributed-pittsburgh",
   "metadata": {
    "execution": {
     "iopub.execute_input": "2022-02-03T12:12:06.514175Z",
     "iopub.status.busy": "2022-02-03T12:12:06.513599Z",
     "iopub.status.idle": "2022-02-03T12:12:06.515712Z",
     "shell.execute_reply": "2022-02-03T12:12:06.515293Z"
    },
    "papermill": {
     "duration": 0.036703,
     "end_time": "2022-02-03T12:12:06.515823",
     "exception": false,
     "start_time": "2022-02-03T12:12:06.479120",
     "status": "completed"
    },
    "tags": []
   },
   "outputs": [],
   "source": [
    "#hide\n",
    "g.index.name = 'date'"
   ]
  },
  {
   "cell_type": "code",
   "execution_count": 24,
   "id": "naked-donor",
   "metadata": {
    "execution": {
     "iopub.execute_input": "2022-02-03T12:12:06.581180Z",
     "iopub.status.busy": "2022-02-03T12:12:06.580570Z",
     "iopub.status.idle": "2022-02-03T12:12:06.584530Z",
     "shell.execute_reply": "2022-02-03T12:12:06.584057Z"
    },
    "papermill": {
     "duration": 0.037925,
     "end_time": "2022-02-03T12:12:06.584658",
     "exception": false,
     "start_time": "2022-02-03T12:12:06.546733",
     "status": "completed"
    },
    "tags": []
   },
   "outputs": [],
   "source": [
    "# #hide\n",
    "# g = g.reset_index(['date'])"
   ]
  },
  {
   "cell_type": "code",
   "execution_count": 25,
   "id": "incomplete-mustang",
   "metadata": {
    "execution": {
     "iopub.execute_input": "2022-02-03T12:12:06.649168Z",
     "iopub.status.busy": "2022-02-03T12:12:06.648564Z",
     "iopub.status.idle": "2022-02-03T12:12:06.650667Z",
     "shell.execute_reply": "2022-02-03T12:12:06.650093Z"
    },
    "papermill": {
     "duration": 0.035645,
     "end_time": "2022-02-03T12:12:06.650786",
     "exception": false,
     "start_time": "2022-02-03T12:12:06.615141",
     "status": "completed"
    },
    "tags": []
   },
   "outputs": [],
   "source": [
    "#hide\n",
    "# g.head()"
   ]
  },
  {
   "cell_type": "code",
   "execution_count": 26,
   "id": "specific-kruger",
   "metadata": {
    "execution": {
     "iopub.execute_input": "2022-02-03T12:12:06.715800Z",
     "iopub.status.busy": "2022-02-03T12:12:06.715197Z",
     "iopub.status.idle": "2022-02-03T12:12:06.717231Z",
     "shell.execute_reply": "2022-02-03T12:12:06.716805Z"
    },
    "papermill": {
     "duration": 0.035347,
     "end_time": "2022-02-03T12:12:06.717336",
     "exception": false,
     "start_time": "2022-02-03T12:12:06.681989",
     "status": "completed"
    },
    "tags": []
   },
   "outputs": [],
   "source": [
    "#hide\n",
    "# g.columns = ['date','country','cases']"
   ]
  },
  {
   "cell_type": "code",
   "execution_count": 27,
   "id": "tender-conversion",
   "metadata": {
    "execution": {
     "iopub.execute_input": "2022-02-03T12:12:06.781213Z",
     "iopub.status.busy": "2022-02-03T12:12:06.780630Z",
     "iopub.status.idle": "2022-02-03T12:12:06.782797Z",
     "shell.execute_reply": "2022-02-03T12:12:06.782330Z"
    },
    "papermill": {
     "duration": 0.035374,
     "end_time": "2022-02-03T12:12:06.782916",
     "exception": false,
     "start_time": "2022-02-03T12:12:06.747542",
     "status": "completed"
    },
    "tags": []
   },
   "outputs": [],
   "source": [
    "#hide\n",
    "# g['continent'] = g.country"
   ]
  },
  {
   "cell_type": "code",
   "execution_count": 28,
   "id": "substantial-wilderness",
   "metadata": {
    "execution": {
     "iopub.execute_input": "2022-02-03T12:12:06.848140Z",
     "iopub.status.busy": "2022-02-03T12:12:06.847615Z",
     "iopub.status.idle": "2022-02-03T12:12:06.849221Z",
     "shell.execute_reply": "2022-02-03T12:12:06.849627Z"
    },
    "papermill": {
     "duration": 0.035805,
     "end_time": "2022-02-03T12:12:06.849757",
     "exception": false,
     "start_time": "2022-02-03T12:12:06.813952",
     "status": "completed"
    },
    "tags": []
   },
   "outputs": [],
   "source": [
    "#hide\n",
    "# cols = list(g.columns.values)"
   ]
  },
  {
   "cell_type": "code",
   "execution_count": 29,
   "id": "solved-farming",
   "metadata": {
    "execution": {
     "iopub.execute_input": "2022-02-03T12:12:06.914335Z",
     "iopub.status.busy": "2022-02-03T12:12:06.913723Z",
     "iopub.status.idle": "2022-02-03T12:12:06.916450Z",
     "shell.execute_reply": "2022-02-03T12:12:06.915982Z"
    },
    "papermill": {
     "duration": 0.036507,
     "end_time": "2022-02-03T12:12:06.916572",
     "exception": false,
     "start_time": "2022-02-03T12:12:06.880065",
     "status": "completed"
    },
    "tags": []
   },
   "outputs": [],
   "source": [
    "#hide\n",
    "# cols.insert(0, cols.pop())"
   ]
  },
  {
   "cell_type": "code",
   "execution_count": 30,
   "id": "executed-adoption",
   "metadata": {
    "execution": {
     "iopub.execute_input": "2022-02-03T12:12:06.981904Z",
     "iopub.status.busy": "2022-02-03T12:12:06.981250Z",
     "iopub.status.idle": "2022-02-03T12:12:06.982803Z",
     "shell.execute_reply": "2022-02-03T12:12:06.983266Z"
    },
    "papermill": {
     "duration": 0.03596,
     "end_time": "2022-02-03T12:12:06.983400",
     "exception": false,
     "start_time": "2022-02-03T12:12:06.947440",
     "status": "completed"
    },
    "tags": []
   },
   "outputs": [],
   "source": [
    "#hide\n",
    "# g = g[cols]"
   ]
  },
  {
   "cell_type": "code",
   "execution_count": 31,
   "id": "subject-dublin",
   "metadata": {
    "execution": {
     "iopub.execute_input": "2022-02-03T12:12:07.049142Z",
     "iopub.status.busy": "2022-02-03T12:12:07.048534Z",
     "iopub.status.idle": "2022-02-03T12:12:07.050079Z",
     "shell.execute_reply": "2022-02-03T12:12:07.050545Z"
    },
    "papermill": {
     "duration": 0.035772,
     "end_time": "2022-02-03T12:12:07.050684",
     "exception": false,
     "start_time": "2022-02-03T12:12:07.014912",
     "status": "completed"
    },
    "tags": []
   },
   "outputs": [],
   "source": [
    "#hide\n",
    "# g['continent'] = g['continent'].map(mapping['map.continent'])"
   ]
  },
  {
   "cell_type": "code",
   "execution_count": 32,
   "id": "freelance-scout",
   "metadata": {
    "execution": {
     "iopub.execute_input": "2022-02-03T12:12:07.115805Z",
     "iopub.status.busy": "2022-02-03T12:12:07.115184Z",
     "iopub.status.idle": "2022-02-03T12:12:07.118653Z",
     "shell.execute_reply": "2022-02-03T12:12:07.119099Z"
    },
    "papermill": {
     "duration": 0.037788,
     "end_time": "2022-02-03T12:12:07.119242",
     "exception": false,
     "start_time": "2022-02-03T12:12:07.081454",
     "status": "completed"
    },
    "tags": []
   },
   "outputs": [],
   "source": [
    "#hide\n",
    "# g.head()"
   ]
  },
  {
   "cell_type": "code",
   "execution_count": 33,
   "id": "limited-engine",
   "metadata": {
    "execution": {
     "iopub.execute_input": "2022-02-03T12:12:07.184525Z",
     "iopub.status.busy": "2022-02-03T12:12:07.183982Z",
     "iopub.status.idle": "2022-02-03T12:12:07.186091Z",
     "shell.execute_reply": "2022-02-03T12:12:07.185648Z"
    },
    "papermill": {
     "duration": 0.035996,
     "end_time": "2022-02-03T12:12:07.186200",
     "exception": false,
     "start_time": "2022-02-03T12:12:07.150204",
     "status": "completed"
    },
    "tags": []
   },
   "outputs": [],
   "source": [
    "# hide\n",
    "# g['date'] = g['date'].astype('datetime64[ns]')"
   ]
  },
  {
   "cell_type": "code",
   "execution_count": 34,
   "id": "sophisticated-supervisor",
   "metadata": {
    "execution": {
     "iopub.execute_input": "2022-02-03T12:12:07.251539Z",
     "iopub.status.busy": "2022-02-03T12:12:07.250928Z",
     "iopub.status.idle": "2022-02-03T12:12:07.252436Z",
     "shell.execute_reply": "2022-02-03T12:12:07.252902Z"
    },
    "papermill": {
     "duration": 0.036022,
     "end_time": "2022-02-03T12:12:07.253043",
     "exception": false,
     "start_time": "2022-02-03T12:12:07.217021",
     "status": "completed"
    },
    "tags": []
   },
   "outputs": [],
   "source": [
    "#hide\n",
    "# g['date'] = g.date.dt.dayofyear"
   ]
  },
  {
   "cell_type": "code",
   "execution_count": 35,
   "id": "inside-dubai",
   "metadata": {
    "execution": {
     "iopub.execute_input": "2022-02-03T12:12:07.317821Z",
     "iopub.status.busy": "2022-02-03T12:12:07.317145Z",
     "iopub.status.idle": "2022-02-03T12:12:07.318704Z",
     "shell.execute_reply": "2022-02-03T12:12:07.319170Z"
    },
    "papermill": {
     "duration": 0.035704,
     "end_time": "2022-02-03T12:12:07.319311",
     "exception": false,
     "start_time": "2022-02-03T12:12:07.283607",
     "status": "completed"
    },
    "tags": []
   },
   "outputs": [],
   "source": [
    "#hide\n",
    "# g = g.rename(columns= {'continent':'group','country':'name','cases':'value'})"
   ]
  },
  {
   "cell_type": "code",
   "execution_count": 36,
   "id": "fleet-motorcycle",
   "metadata": {
    "execution": {
     "iopub.execute_input": "2022-02-03T12:12:07.384982Z",
     "iopub.status.busy": "2022-02-03T12:12:07.384382Z",
     "iopub.status.idle": "2022-02-03T12:12:07.386495Z",
     "shell.execute_reply": "2022-02-03T12:12:07.386064Z"
    },
    "papermill": {
     "duration": 0.036017,
     "end_time": "2022-02-03T12:12:07.386601",
     "exception": false,
     "start_time": "2022-02-03T12:12:07.350584",
     "status": "completed"
    },
    "tags": []
   },
   "outputs": [],
   "source": [
    "#hide\n",
    "# cols = ['name','group','day','value']"
   ]
  },
  {
   "cell_type": "code",
   "execution_count": 37,
   "id": "continued-sleeping",
   "metadata": {
    "execution": {
     "iopub.execute_input": "2022-02-03T12:12:07.451481Z",
     "iopub.status.busy": "2022-02-03T12:12:07.450874Z",
     "iopub.status.idle": "2022-02-03T12:12:07.452380Z",
     "shell.execute_reply": "2022-02-03T12:12:07.452873Z"
    },
    "papermill": {
     "duration": 0.035882,
     "end_time": "2022-02-03T12:12:07.453016",
     "exception": false,
     "start_time": "2022-02-03T12:12:07.417134",
     "status": "completed"
    },
    "tags": []
   },
   "outputs": [],
   "source": [
    "#hide\n",
    "# g.rename(columns= {'date':'day'},inplace = True)"
   ]
  },
  {
   "cell_type": "code",
   "execution_count": 38,
   "id": "major-fight",
   "metadata": {
    "execution": {
     "iopub.execute_input": "2022-02-03T12:12:07.517936Z",
     "iopub.status.busy": "2022-02-03T12:12:07.517313Z",
     "iopub.status.idle": "2022-02-03T12:12:07.520255Z",
     "shell.execute_reply": "2022-02-03T12:12:07.519841Z"
    },
    "papermill": {
     "duration": 0.036414,
     "end_time": "2022-02-03T12:12:07.520363",
     "exception": false,
     "start_time": "2022-02-03T12:12:07.483949",
     "status": "completed"
    },
    "tags": []
   },
   "outputs": [],
   "source": [
    "#hide\n",
    "# g = g[cols]"
   ]
  },
  {
   "cell_type": "code",
   "execution_count": 39,
   "id": "structured-mobile",
   "metadata": {
    "execution": {
     "iopub.execute_input": "2022-02-03T12:12:07.585242Z",
     "iopub.status.busy": "2022-02-03T12:12:07.584632Z",
     "iopub.status.idle": "2022-02-03T12:12:07.588641Z",
     "shell.execute_reply": "2022-02-03T12:12:07.588168Z"
    },
    "papermill": {
     "duration": 0.037825,
     "end_time": "2022-02-03T12:12:07.588769",
     "exception": false,
     "start_time": "2022-02-03T12:12:07.550944",
     "status": "completed"
    },
    "tags": []
   },
   "outputs": [],
   "source": [
    "# #hide\n",
    "# g = g[g.group.notna()]"
   ]
  },
  {
   "cell_type": "code",
   "execution_count": 40,
   "id": "determined-closing",
   "metadata": {
    "execution": {
     "iopub.execute_input": "2022-02-03T12:12:07.654336Z",
     "iopub.status.busy": "2022-02-03T12:12:07.653703Z",
     "iopub.status.idle": "2022-02-03T12:12:07.655641Z",
     "shell.execute_reply": "2022-02-03T12:12:07.655072Z"
    },
    "papermill": {
     "duration": 0.036114,
     "end_time": "2022-02-03T12:12:07.655760",
     "exception": false,
     "start_time": "2022-02-03T12:12:07.619646",
     "status": "completed"
    },
    "tags": []
   },
   "outputs": [],
   "source": [
    "# #hide\n",
    "# colors = dict(zip(\n",
    "#     [\"Oceania\", \"Europe\", \"Asia\", \"South America\", \"Middle East\", \"North America\", \"Africa\"],\n",
    "#     [\"#adb0ff\", \"#ffb3ff\", \"#90d595\", \"#e48381\", \"#aafbff\", \"#f7bb5f\", \"#eafb50\"]\n",
    "# ))\n",
    "# group_lk = g.set_index('name')['group'].to_dict()"
   ]
  },
  {
   "cell_type": "code",
   "execution_count": null,
   "id": "gross-drinking",
   "metadata": {
    "papermill": {
     "duration": 0.030471,
     "end_time": "2022-02-03T12:12:07.717259",
     "exception": false,
     "start_time": "2022-02-03T12:12:07.686788",
     "status": "completed"
    },
    "tags": []
   },
   "outputs": [],
   "source": []
  },
  {
   "cell_type": "code",
   "execution_count": 41,
   "id": "subject-macintosh",
   "metadata": {
    "execution": {
     "iopub.execute_input": "2022-02-03T12:12:07.782932Z",
     "iopub.status.busy": "2022-02-03T12:12:07.782371Z",
     "iopub.status.idle": "2022-02-03T12:12:07.786062Z",
     "shell.execute_reply": "2022-02-03T12:12:07.785637Z"
    },
    "papermill": {
     "duration": 0.038246,
     "end_time": "2022-02-03T12:12:07.786177",
     "exception": false,
     "start_time": "2022-02-03T12:12:07.747931",
     "status": "completed"
    },
    "tags": []
   },
   "outputs": [],
   "source": [
    "# #hide\n",
    "# fig, ax = plt.subplots(figsize=(15, 8))\n",
    "\n",
    "# def draw_barchart(current_day):\n",
    "#     dff = g[g['day'].eq(current_day)].sort_values(by='value', ascending=True).tail(10)\n",
    "#     ax.clear()\n",
    "#     ax.barh(dff['name'], dff['value'], color=[colors[group_lk[x]] for x in dff['name']])\n",
    "#     dx = dff['value'].max() / 200\n",
    "    \n",
    "#     for i, (value, name) in enumerate(zip(dff['value'], dff['name'])):\n",
    "#         ax.text(value-dx, i,     name,           size=14, weight=600, ha='right', va='bottom')\n",
    "#         ax.text(value-dx, i-.25, group_lk[name], size=10, color='#444444', ha='right', va='baseline')\n",
    "#         ax.text(value+dx, i,     f'{value:,.0f}',  size=14, ha='left',  va='center')\n",
    "#     ax.text(1, 0.4, current_day, transform=ax.transAxes, color='#777777', size=46, ha='right', weight=800)\n",
    "#     ax.text(0, 1.06, 'Population (thousands)', transform=ax.transAxes, size=12, color='#777777')\n",
    "#     ax.xaxis.set_major_formatter(ticker.StrMethodFormatter('{x:,.0f}'))\n",
    "#     ax.xaxis.set_ticks_position('top')\n",
    "#     ax.tick_params(axis='x', colors='#777777', labelsize=12)\n",
    "#     ax.set_yticks([])\n",
    "#     ax.margins(0, 0.01)\n",
    "#     ax.grid(which='major', axis='x', linestyle='-')\n",
    "#     ax.set_axisbelow(True)\n",
    "    \n",
    "#     ax.text(0, 1.15, 'Coronavirus',\n",
    "#             transform=ax.transAxes, size=24, weight=600, ha='left', va='top')\n",
    "# #     ax.text(1, 0, 'by @pratapvardhan; credit @jburnmurdoch', transform=ax.transAxes, color='#777777', ha='right',\n",
    "# #             bbox=dict(facecolor='white', alpha=0.8, edgecolor='white'))\n",
    "#     plt.box(False)"
   ]
  },
  {
   "cell_type": "code",
   "execution_count": 42,
   "id": "sexual-wages",
   "metadata": {
    "execution": {
     "iopub.execute_input": "2022-02-03T12:12:07.851451Z",
     "iopub.status.busy": "2022-02-03T12:12:07.850827Z",
     "iopub.status.idle": "2022-02-03T12:12:07.852799Z",
     "shell.execute_reply": "2022-02-03T12:12:07.852278Z"
    },
    "papermill": {
     "duration": 0.035995,
     "end_time": "2022-02-03T12:12:07.852910",
     "exception": false,
     "start_time": "2022-02-03T12:12:07.816915",
     "status": "completed"
    },
    "tags": []
   },
   "outputs": [],
   "source": [
    "# #hide_input\n",
    "# fig, ax = plt.subplots(figsize=(15, 8))\n",
    "# animator = animation.FuncAnimation(fig, draw_barchart, frames=range(g.day.values.min(), g.day.values.max()))\n",
    "# HTML(animator.to_jshtml())\n",
    "# # or use animator.to_html5_video() or animator.save() "
   ]
  },
  {
   "cell_type": "code",
   "execution_count": null,
   "id": "australian-container",
   "metadata": {
    "papermill": {
     "duration": 0.030631,
     "end_time": "2022-02-03T12:12:07.914314",
     "exception": false,
     "start_time": "2022-02-03T12:12:07.883683",
     "status": "completed"
    },
    "tags": []
   },
   "outputs": [],
   "source": []
  },
  {
   "cell_type": "code",
   "execution_count": null,
   "id": "mediterranean-pontiac",
   "metadata": {
    "papermill": {
     "duration": 0.031002,
     "end_time": "2022-02-03T12:12:07.976795",
     "exception": false,
     "start_time": "2022-02-03T12:12:07.945793",
     "status": "completed"
    },
    "tags": []
   },
   "outputs": [],
   "source": []
  },
  {
   "cell_type": "code",
   "execution_count": null,
   "id": "aging-legislature",
   "metadata": {
    "papermill": {
     "duration": 0.030483,
     "end_time": "2022-02-03T12:12:08.038070",
     "exception": false,
     "start_time": "2022-02-03T12:12:08.007587",
     "status": "completed"
    },
    "tags": []
   },
   "outputs": [],
   "source": []
  }
 ],
 "metadata": {
  "kernelspec": {
   "display_name": "Python 3",
   "language": "python",
   "name": "python3"
  },
  "language_info": {
   "codemirror_mode": {
    "name": "ipython",
    "version": 3
   },
   "file_extension": ".py",
   "mimetype": "text/x-python",
   "name": "python",
   "nbconvert_exporter": "python",
   "pygments_lexer": "ipython3",
   "version": "3.6.15"
  },
  "papermill": {
   "duration": 5.832693,
   "end_time": "2022-02-03T12:12:08.488378",
   "environment_variables": {},
   "exception": null,
   "input_path": "2020-03-21-covid19exp.ipynb",
   "output_path": "2020-03-21-covid19exp.ipynb",
   "parameters": {},
   "start_time": "2022-02-03T12:12:02.655685",
   "version": "2.0.0"
  }
 },
 "nbformat": 4,
 "nbformat_minor": 5
}