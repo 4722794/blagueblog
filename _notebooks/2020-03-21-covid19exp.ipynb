{
 "cells": [
  {
   "cell_type": "markdown",
   "id": "muslim-click",
   "metadata": {
    "papermill": {
     "duration": 0.039935,
     "end_time": "2021-08-07T00:19:41.722751",
     "exception": false,
     "start_time": "2021-08-07T00:19:41.682816",
     "status": "completed"
    },
    "tags": []
   },
   "source": [
    "# COVID-19 Case Race\n",
    "> A race chart to see rising cases around the world\n",
    "\n",
    "- author: Hargun Oberoi\n",
    "- image: images/covid-overview.png\n",
    "- hide: false\n",
    "- badges: false"
   ]
  },
  {
   "cell_type": "code",
   "execution_count": 1,
   "id": "proof-material",
   "metadata": {
    "execution": {
     "iopub.execute_input": "2021-08-07T00:19:41.820578Z",
     "iopub.status.busy": "2021-08-07T00:19:41.819932Z",
     "iopub.status.idle": "2021-08-07T00:19:42.199227Z",
     "shell.execute_reply": "2021-08-07T00:19:42.198510Z"
    },
    "papermill": {
     "duration": 0.430299,
     "end_time": "2021-08-07T00:19:42.199413",
     "exception": false,
     "start_time": "2021-08-07T00:19:41.769114",
     "status": "completed"
    },
    "tags": []
   },
   "outputs": [],
   "source": [
    "#hide\n",
    "import numpy as np\n",
    "import pandas as pd\n",
    "from jinja2 import Template\n",
    "from IPython.display import HTML"
   ]
  },
  {
   "cell_type": "code",
   "execution_count": 2,
   "id": "developed-terminology",
   "metadata": {
    "execution": {
     "iopub.execute_input": "2021-08-07T00:19:42.277091Z",
     "iopub.status.busy": "2021-08-07T00:19:42.276476Z",
     "iopub.status.idle": "2021-08-07T00:19:42.278735Z",
     "shell.execute_reply": "2021-08-07T00:19:42.278148Z"
    },
    "papermill": {
     "duration": 0.041806,
     "end_time": "2021-08-07T00:19:42.278854",
     "exception": false,
     "start_time": "2021-08-07T00:19:42.237048",
     "status": "completed"
    },
    "tags": []
   },
   "outputs": [],
   "source": [
    "#hide\n",
    "\n",
    "# FETCH\n",
    "base_url = 'https://raw.githubusercontent.com/pratapvardhan/notebooks/master/covid19/'\n",
    "paths = {\n",
    "    'mapping': base_url + 'mapping_countries.csv',\n",
    "    'overview': base_url + 'overview.tpl'\n",
    "}"
   ]
  },
  {
   "cell_type": "code",
   "execution_count": 3,
   "id": "dynamic-saver",
   "metadata": {
    "execution": {
     "iopub.execute_input": "2021-08-07T00:19:42.355975Z",
     "iopub.status.busy": "2021-08-07T00:19:42.355377Z",
     "iopub.status.idle": "2021-08-07T00:19:42.358456Z",
     "shell.execute_reply": "2021-08-07T00:19:42.358919Z"
    },
    "papermill": {
     "duration": 0.047452,
     "end_time": "2021-08-07T00:19:42.359068",
     "exception": false,
     "start_time": "2021-08-07T00:19:42.311616",
     "status": "completed"
    },
    "tags": []
   },
   "outputs": [
    {
     "data": {
      "text/plain": [
       "'https://raw.githubusercontent.com/pratapvardhan/notebooks/master/covid19/mapping_countries.csv'"
      ]
     },
     "execution_count": 3,
     "metadata": {},
     "output_type": "execute_result"
    }
   ],
   "source": [
    "#hide\n",
    "paths['mapping']"
   ]
  },
  {
   "cell_type": "code",
   "execution_count": 4,
   "id": "urban-software",
   "metadata": {
    "execution": {
     "iopub.execute_input": "2021-08-07T00:19:42.432840Z",
     "iopub.status.busy": "2021-08-07T00:19:42.432131Z",
     "iopub.status.idle": "2021-08-07T00:19:42.433767Z",
     "shell.execute_reply": "2021-08-07T00:19:42.434389Z"
    },
    "papermill": {
     "duration": 0.042126,
     "end_time": "2021-08-07T00:19:42.434540",
     "exception": false,
     "start_time": "2021-08-07T00:19:42.392414",
     "status": "completed"
    },
    "tags": []
   },
   "outputs": [],
   "source": [
    "#hide\n",
    "def get_mappings(url):\n",
    "    df = pd.read_csv(url)\n",
    "    return {\n",
    "        'df': df,\n",
    "        'replace.country': dict(df.dropna(subset=['Name']).set_index('Country')['Name']),\n",
    "        'map.continent': dict(df.set_index('Name')['Continent'])\n",
    "    }"
   ]
  },
  {
   "cell_type": "code",
   "execution_count": 5,
   "id": "intimate-machinery",
   "metadata": {
    "execution": {
     "iopub.execute_input": "2021-08-07T00:19:42.515379Z",
     "iopub.status.busy": "2021-08-07T00:19:42.514620Z",
     "iopub.status.idle": "2021-08-07T00:19:42.577789Z",
     "shell.execute_reply": "2021-08-07T00:19:42.577281Z"
    },
    "papermill": {
     "duration": 0.107394,
     "end_time": "2021-08-07T00:19:42.577920",
     "exception": false,
     "start_time": "2021-08-07T00:19:42.470526",
     "status": "completed"
    },
    "tags": []
   },
   "outputs": [],
   "source": [
    "#hide\n",
    "mapping = get_mappings(paths['mapping'])"
   ]
  },
  {
   "cell_type": "code",
   "execution_count": 6,
   "id": "certified-tactics",
   "metadata": {
    "execution": {
     "iopub.execute_input": "2021-08-07T00:19:42.658978Z",
     "iopub.status.busy": "2021-08-07T00:19:42.658315Z",
     "iopub.status.idle": "2021-08-07T00:19:42.661139Z",
     "shell.execute_reply": "2021-08-07T00:19:42.660662Z"
    },
    "papermill": {
     "duration": 0.046447,
     "end_time": "2021-08-07T00:19:42.661265",
     "exception": false,
     "start_time": "2021-08-07T00:19:42.614818",
     "status": "completed"
    },
    "tags": []
   },
   "outputs": [],
   "source": [
    "#hide\n",
    "def get_template(path):\n",
    "    from urllib.parse import urlparse\n",
    "    if bool(urlparse(path).netloc):\n",
    "        from urllib.request import urlopen\n",
    "        return urlopen(path).read().decode('utf8')\n",
    "    return open(path).read()"
   ]
  },
  {
   "cell_type": "code",
   "execution_count": 7,
   "id": "realistic-blast",
   "metadata": {
    "execution": {
     "iopub.execute_input": "2021-08-07T00:19:42.737222Z",
     "iopub.status.busy": "2021-08-07T00:19:42.736616Z",
     "iopub.status.idle": "2021-08-07T00:19:42.738881Z",
     "shell.execute_reply": "2021-08-07T00:19:42.739320Z"
    },
    "papermill": {
     "duration": 0.042636,
     "end_time": "2021-08-07T00:19:42.739465",
     "exception": false,
     "start_time": "2021-08-07T00:19:42.696829",
     "status": "completed"
    },
    "tags": []
   },
   "outputs": [],
   "source": [
    "#hide\n",
    "def get_frame(name):\n",
    "    url = (\n",
    "        'https://raw.githubusercontent.com/CSSEGISandData/COVID-19/master/csse_covid_19_data/'\n",
    "        f'csse_covid_19_time_series/time_series_covid19_{name}_global.csv')\n",
    "    df = pd.read_csv(url)\n",
    "    # rename countries\n",
    "    df['Country/Region'] = df['Country/Region'].replace(mapping['replace.country'])\n",
    "    return df"
   ]
  },
  {
   "cell_type": "code",
   "execution_count": 8,
   "id": "affiliated-characterization",
   "metadata": {
    "execution": {
     "iopub.execute_input": "2021-08-07T00:19:42.813666Z",
     "iopub.status.busy": "2021-08-07T00:19:42.813057Z",
     "iopub.status.idle": "2021-08-07T00:19:42.815357Z",
     "shell.execute_reply": "2021-08-07T00:19:42.814864Z"
    },
    "papermill": {
     "duration": 0.042667,
     "end_time": "2021-08-07T00:19:42.815485",
     "exception": false,
     "start_time": "2021-08-07T00:19:42.772818",
     "status": "completed"
    },
    "tags": []
   },
   "outputs": [],
   "source": [
    "#hide\n",
    "def get_dates(df):\n",
    "    dt_cols = df.columns[~df.columns.isin(['Province/State', 'Country/Region', 'Lat', 'Long'])]\n",
    "    LAST_DATE_I = -1\n",
    "    # sometimes last column may be empty, then go backwards\n",
    "    for i in range(-1, -len(dt_cols), -1):\n",
    "        if not df[dt_cols[i]].fillna(0).eq(0).all():\n",
    "            LAST_DATE_I = i\n",
    "            break\n",
    "    return LAST_DATE_I, dt_cols"
   ]
  },
  {
   "cell_type": "code",
   "execution_count": 9,
   "id": "recent-optimization",
   "metadata": {
    "execution": {
     "iopub.execute_input": "2021-08-07T00:19:42.887130Z",
     "iopub.status.busy": "2021-08-07T00:19:42.886498Z",
     "iopub.status.idle": "2021-08-07T00:19:43.459258Z",
     "shell.execute_reply": "2021-08-07T00:19:43.459755Z"
    },
    "papermill": {
     "duration": 0.610947,
     "end_time": "2021-08-07T00:19:43.459908",
     "exception": false,
     "start_time": "2021-08-07T00:19:42.848961",
     "status": "completed"
    },
    "tags": []
   },
   "outputs": [],
   "source": [
    "#hide\n",
    "COL_REGION = 'Country/Region'\n",
    "# Confirmed, Recovered, Deaths\n",
    "df = get_frame('confirmed')\n",
    "# dft_: timeseries, dfc_: today country agg\n",
    "dft_cases = df\n",
    "dft_deaths = get_frame('deaths')\n",
    "dft_recovered = get_frame('recovered')\n",
    "LAST_DATE_I, dt_cols = get_dates(df)"
   ]
  },
  {
   "cell_type": "code",
   "execution_count": 10,
   "id": "absolute-copper",
   "metadata": {
    "execution": {
     "iopub.execute_input": "2021-08-07T00:19:43.532519Z",
     "iopub.status.busy": "2021-08-07T00:19:43.531921Z",
     "iopub.status.idle": "2021-08-07T00:19:43.534587Z",
     "shell.execute_reply": "2021-08-07T00:19:43.534090Z"
    },
    "papermill": {
     "duration": 0.041485,
     "end_time": "2021-08-07T00:19:43.534715",
     "exception": false,
     "start_time": "2021-08-07T00:19:43.493230",
     "status": "completed"
    },
    "tags": []
   },
   "outputs": [],
   "source": [
    "#hide\n",
    "LAST_DATE_I, dt_cols = get_dates(df)\n",
    "dt_today =dt_cols[LAST_DATE_I]\n",
    "# dt_5day = dt_cols[LAST_DATE_I - 5]\n",
    "dt_yday = dt_cols[LAST_DATE_I - 1]"
   ]
  },
  {
   "cell_type": "code",
   "execution_count": 11,
   "id": "restricted-sheriff",
   "metadata": {
    "execution": {
     "iopub.execute_input": "2021-08-07T00:19:43.612167Z",
     "iopub.status.busy": "2021-08-07T00:19:43.611263Z",
     "iopub.status.idle": "2021-08-07T00:19:43.618710Z",
     "shell.execute_reply": "2021-08-07T00:19:43.618168Z"
    },
    "papermill": {
     "duration": 0.050907,
     "end_time": "2021-08-07T00:19:43.618842",
     "exception": false,
     "start_time": "2021-08-07T00:19:43.567935",
     "status": "completed"
    },
    "tags": []
   },
   "outputs": [],
   "source": [
    "#hide\n",
    "dfc_cases = dft_cases.groupby(COL_REGION)[dt_today].sum()\n",
    "dfc_deaths = dft_deaths.groupby(COL_REGION)[dt_today].sum()\n",
    "# dfp_cases = dft_cases.groupby(COL_REGION)[dt_5day].sum()\n",
    "# dfp_deaths = dft_deaths.groupby(COL_REGION)[dt_5day].sum()\n",
    "dfp_cases = dft_cases.groupby(COL_REGION)[dt_yday].sum()\n",
    "dfp_deaths = dft_deaths.groupby(COL_REGION)[dt_yday].sum()"
   ]
  },
  {
   "cell_type": "code",
   "execution_count": 12,
   "id": "deluxe-hepatitis",
   "metadata": {
    "execution": {
     "iopub.execute_input": "2021-08-07T00:19:43.692585Z",
     "iopub.status.busy": "2021-08-07T00:19:43.691966Z",
     "iopub.status.idle": "2021-08-07T00:19:43.696676Z",
     "shell.execute_reply": "2021-08-07T00:19:43.696176Z"
    },
    "papermill": {
     "duration": 0.044696,
     "end_time": "2021-08-07T00:19:43.696799",
     "exception": false,
     "start_time": "2021-08-07T00:19:43.652103",
     "status": "completed"
    },
    "tags": []
   },
   "outputs": [],
   "source": [
    "#hide\n",
    "df_table = (pd.DataFrame(dict(Cases = dfc_cases, Deaths = dfc_deaths, PCases = dfp_cases, PDeaths = dfp_deaths))\n",
    "            .sort_values(by = ['Cases','Deaths'], ascending = [False, False])\n",
    "            .reset_index())"
   ]
  },
  {
   "cell_type": "code",
   "execution_count": 13,
   "id": "educational-chancellor",
   "metadata": {
    "execution": {
     "iopub.execute_input": "2021-08-07T00:19:43.784367Z",
     "iopub.status.busy": "2021-08-07T00:19:43.783730Z",
     "iopub.status.idle": "2021-08-07T00:19:43.792913Z",
     "shell.execute_reply": "2021-08-07T00:19:43.792439Z"
    },
    "papermill": {
     "duration": 0.06308,
     "end_time": "2021-08-07T00:19:43.793038",
     "exception": false,
     "start_time": "2021-08-07T00:19:43.729958",
     "status": "completed"
    },
    "tags": []
   },
   "outputs": [
    {
     "data": {
      "text/html": [
       "<div>\n",
       "<style scoped>\n",
       "    .dataframe tbody tr th:only-of-type {\n",
       "        vertical-align: middle;\n",
       "    }\n",
       "\n",
       "    .dataframe tbody tr th {\n",
       "        vertical-align: top;\n",
       "    }\n",
       "\n",
       "    .dataframe thead th {\n",
       "        text-align: right;\n",
       "    }\n",
       "</style>\n",
       "<table border=\"1\" class=\"dataframe\">\n",
       "  <thead>\n",
       "    <tr style=\"text-align: right;\">\n",
       "      <th></th>\n",
       "      <th>Country/Region</th>\n",
       "      <th>Cases</th>\n",
       "      <th>Deaths</th>\n",
       "      <th>PCases</th>\n",
       "      <th>PDeaths</th>\n",
       "      <th>Cases (+)</th>\n",
       "      <th>Deaths (+)</th>\n",
       "      <th>Fatality Rate</th>\n",
       "      <th>Continent</th>\n",
       "    </tr>\n",
       "  </thead>\n",
       "  <tbody>\n",
       "    <tr>\n",
       "      <th>0</th>\n",
       "      <td>US</td>\n",
       "      <td>35440488</td>\n",
       "      <td>615320</td>\n",
       "      <td>35330664</td>\n",
       "      <td>614785</td>\n",
       "      <td>109824</td>\n",
       "      <td>535</td>\n",
       "      <td>1.74</td>\n",
       "      <td>North America</td>\n",
       "    </tr>\n",
       "    <tr>\n",
       "      <th>1</th>\n",
       "      <td>India</td>\n",
       "      <td>31856757</td>\n",
       "      <td>426754</td>\n",
       "      <td>31812114</td>\n",
       "      <td>426290</td>\n",
       "      <td>44643</td>\n",
       "      <td>464</td>\n",
       "      <td>1.34</td>\n",
       "      <td>Asia</td>\n",
       "    </tr>\n",
       "    <tr>\n",
       "      <th>2</th>\n",
       "      <td>Brazil</td>\n",
       "      <td>20066587</td>\n",
       "      <td>560706</td>\n",
       "      <td>20026533</td>\n",
       "      <td>559607</td>\n",
       "      <td>40054</td>\n",
       "      <td>1099</td>\n",
       "      <td>2.79</td>\n",
       "      <td>South America</td>\n",
       "    </tr>\n",
       "    <tr>\n",
       "      <th>3</th>\n",
       "      <td>France</td>\n",
       "      <td>6299138</td>\n",
       "      <td>112283</td>\n",
       "      <td>6272189</td>\n",
       "      <td>112233</td>\n",
       "      <td>26949</td>\n",
       "      <td>50</td>\n",
       "      <td>1.78</td>\n",
       "      <td>Europe</td>\n",
       "    </tr>\n",
       "    <tr>\n",
       "      <th>4</th>\n",
       "      <td>Russia</td>\n",
       "      <td>6296570</td>\n",
       "      <td>159803</td>\n",
       "      <td>6274006</td>\n",
       "      <td>159032</td>\n",
       "      <td>22564</td>\n",
       "      <td>771</td>\n",
       "      <td>2.54</td>\n",
       "      <td>Europe</td>\n",
       "    </tr>\n",
       "  </tbody>\n",
       "</table>\n",
       "</div>"
      ],
      "text/plain": [
       "  Country/Region     Cases  Deaths    PCases  PDeaths  Cases (+)  Deaths (+)  \\\n",
       "0             US  35440488  615320  35330664   614785     109824         535   \n",
       "1          India  31856757  426754  31812114   426290      44643         464   \n",
       "2         Brazil  20066587  560706  20026533   559607      40054        1099   \n",
       "3         France   6299138  112283   6272189   112233      26949          50   \n",
       "4         Russia   6296570  159803   6274006   159032      22564         771   \n",
       "\n",
       "   Fatality Rate      Continent  \n",
       "0           1.74  North America  \n",
       "1           1.34           Asia  \n",
       "2           2.79  South America  \n",
       "3           1.78         Europe  \n",
       "4           2.54         Europe  "
      ]
     },
     "execution_count": 13,
     "metadata": {},
     "output_type": "execute_result"
    }
   ],
   "source": [
    "#hide\n",
    "for c in 'Cases, Deaths'.split(', '):\n",
    "    df_table[f'{c} (+)'] = (df_table[c] - df_table[f'P{c}']).clip(0)\n",
    "    #Clip ça veut dire, les chiffres negatif sont interdit\n",
    "df_table['Fatality Rate'] = (100* df_table['Deaths']/ df_table['Cases']).round(2)\n",
    "df_table['Continent'] = df_table['Country/Region'].map(mapping['map.continent'])\n",
    "df_table.head(5)"
   ]
  },
  {
   "cell_type": "code",
   "execution_count": 14,
   "id": "aboriginal-bulgaria",
   "metadata": {
    "execution": {
     "iopub.execute_input": "2021-08-07T00:19:43.867113Z",
     "iopub.status.busy": "2021-08-07T00:19:43.866511Z",
     "iopub.status.idle": "2021-08-07T00:19:43.868306Z",
     "shell.execute_reply": "2021-08-07T00:19:43.868740Z"
    },
    "papermill": {
     "duration": 0.041792,
     "end_time": "2021-08-07T00:19:43.868884",
     "exception": false,
     "start_time": "2021-08-07T00:19:43.827092",
     "status": "completed"
    },
    "tags": []
   },
   "outputs": [],
   "source": [
    "#hide\n",
    "#delete problematic countries from table\n",
    "df_table = df_table[~df_table['Country/Region'].isin(['Cape Verde', 'Cruise Ship', 'Kosovo'])]"
   ]
  },
  {
   "cell_type": "code",
   "execution_count": 15,
   "id": "fantastic-effect",
   "metadata": {
    "execution": {
     "iopub.execute_input": "2021-08-07T00:19:43.944753Z",
     "iopub.status.busy": "2021-08-07T00:19:43.944152Z",
     "iopub.status.idle": "2021-08-07T00:19:43.965362Z",
     "shell.execute_reply": "2021-08-07T00:19:43.965968Z"
    },
    "papermill": {
     "duration": 0.063651,
     "end_time": "2021-08-07T00:19:43.966149",
     "exception": false,
     "start_time": "2021-08-07T00:19:43.902498",
     "status": "completed"
    },
    "tags": []
   },
   "outputs": [
    {
     "data": {
      "text/html": [
       "<div>\n",
       "<style scoped>\n",
       "    .dataframe tbody tr th:only-of-type {\n",
       "        vertical-align: middle;\n",
       "    }\n",
       "\n",
       "    .dataframe tbody tr th {\n",
       "        vertical-align: top;\n",
       "    }\n",
       "\n",
       "    .dataframe thead th {\n",
       "        text-align: right;\n",
       "    }\n",
       "</style>\n",
       "<table border=\"1\" class=\"dataframe\">\n",
       "  <thead>\n",
       "    <tr style=\"text-align: right;\">\n",
       "      <th></th>\n",
       "      <th>Country/Region</th>\n",
       "      <th>Cases</th>\n",
       "      <th>Deaths</th>\n",
       "      <th>PCases</th>\n",
       "      <th>PDeaths</th>\n",
       "      <th>Cases (+)</th>\n",
       "      <th>Deaths (+)</th>\n",
       "      <th>Fatality Rate</th>\n",
       "      <th>Continent</th>\n",
       "    </tr>\n",
       "  </thead>\n",
       "  <tbody>\n",
       "    <tr>\n",
       "      <th>0</th>\n",
       "      <td>US</td>\n",
       "      <td>35440488</td>\n",
       "      <td>615320</td>\n",
       "      <td>35330664</td>\n",
       "      <td>614785</td>\n",
       "      <td>109824</td>\n",
       "      <td>535</td>\n",
       "      <td>1.7</td>\n",
       "      <td>North America</td>\n",
       "    </tr>\n",
       "    <tr>\n",
       "      <th>1</th>\n",
       "      <td>India</td>\n",
       "      <td>31856757</td>\n",
       "      <td>426754</td>\n",
       "      <td>31812114</td>\n",
       "      <td>426290</td>\n",
       "      <td>44643</td>\n",
       "      <td>464</td>\n",
       "      <td>1.3</td>\n",
       "      <td>Asia</td>\n",
       "    </tr>\n",
       "    <tr>\n",
       "      <th>2</th>\n",
       "      <td>Brazil</td>\n",
       "      <td>20066587</td>\n",
       "      <td>560706</td>\n",
       "      <td>20026533</td>\n",
       "      <td>559607</td>\n",
       "      <td>40054</td>\n",
       "      <td>1099</td>\n",
       "      <td>2.8</td>\n",
       "      <td>South America</td>\n",
       "    </tr>\n",
       "    <tr>\n",
       "      <th>3</th>\n",
       "      <td>France</td>\n",
       "      <td>6299138</td>\n",
       "      <td>112283</td>\n",
       "      <td>6272189</td>\n",
       "      <td>112233</td>\n",
       "      <td>26949</td>\n",
       "      <td>50</td>\n",
       "      <td>1.8</td>\n",
       "      <td>Europe</td>\n",
       "    </tr>\n",
       "    <tr>\n",
       "      <th>4</th>\n",
       "      <td>Russia</td>\n",
       "      <td>6296570</td>\n",
       "      <td>159803</td>\n",
       "      <td>6274006</td>\n",
       "      <td>159032</td>\n",
       "      <td>22564</td>\n",
       "      <td>771</td>\n",
       "      <td>2.5</td>\n",
       "      <td>Europe</td>\n",
       "    </tr>\n",
       "  </tbody>\n",
       "</table>\n",
       "</div>"
      ],
      "text/plain": [
       "  Country/Region     Cases  Deaths    PCases  PDeaths  Cases (+)  Deaths (+)  \\\n",
       "0             US  35440488  615320  35330664   614785     109824         535   \n",
       "1          India  31856757  426754  31812114   426290      44643         464   \n",
       "2         Brazil  20066587  560706  20026533   559607      40054        1099   \n",
       "3         France   6299138  112283   6272189   112233      26949          50   \n",
       "4         Russia   6296570  159803   6274006   159032      22564         771   \n",
       "\n",
       "   Fatality Rate      Continent  \n",
       "0            1.7  North America  \n",
       "1            1.3           Asia  \n",
       "2            2.8  South America  \n",
       "3            1.8         Europe  \n",
       "4            2.5         Europe  "
      ]
     },
     "execution_count": 15,
     "metadata": {},
     "output_type": "execute_result"
    }
   ],
   "source": [
    "#hide\n",
    "df_table = (pd.DataFrame(dict(Cases=dfc_cases, Deaths=dfc_deaths, PCases=dfp_cases, PDeaths=dfp_deaths))\n",
    "             .sort_values(by=['Cases', 'Deaths'], ascending=[False, False])\n",
    "             .reset_index())\n",
    "df_table.rename(columns={'index': 'Country/Region'}, inplace=True)\n",
    "for c in 'Cases, Deaths'.split(', '):\n",
    "    df_table[f'{c} (+)'] = (df_table[c] - df_table[f'P{c}']).clip(0)  # DATA BUG\n",
    "df_table['Fatality Rate'] = (100 * df_table['Deaths'] / df_table['Cases']).round(1)\n",
    "df_table['Continent'] = df_table['Country/Region'].map(mapping['map.continent'])\n",
    "df_table.head(5)"
   ]
  },
  {
   "cell_type": "code",
   "execution_count": 16,
   "id": "fewer-occasion",
   "metadata": {
    "execution": {
     "iopub.execute_input": "2021-08-07T00:19:44.041320Z",
     "iopub.status.busy": "2021-08-07T00:19:44.040729Z",
     "iopub.status.idle": "2021-08-07T00:19:44.043978Z",
     "shell.execute_reply": "2021-08-07T00:19:44.043486Z"
    },
    "papermill": {
     "duration": 0.042683,
     "end_time": "2021-08-07T00:19:44.044099",
     "exception": false,
     "start_time": "2021-08-07T00:19:44.001416",
     "status": "completed"
    },
    "tags": []
   },
   "outputs": [],
   "source": [
    "#hide\n",
    "#delete problematic countries from table\n",
    "df_table = df_table[~df_table['Country/Region'].isin(['Cape Verde', 'Cruise Ship', 'Kosovo'])]"
   ]
  },
  {
   "cell_type": "code",
   "execution_count": 17,
   "id": "related-center",
   "metadata": {
    "execution": {
     "iopub.execute_input": "2021-08-07T00:19:44.127827Z",
     "iopub.status.busy": "2021-08-07T00:19:44.127056Z",
     "iopub.status.idle": "2021-08-07T00:19:44.137654Z",
     "shell.execute_reply": "2021-08-07T00:19:44.138187Z"
    },
    "papermill": {
     "duration": 0.059859,
     "end_time": "2021-08-07T00:19:44.138361",
     "exception": false,
     "start_time": "2021-08-07T00:19:44.078502",
     "status": "completed"
    },
    "tags": []
   },
   "outputs": [],
   "source": [
    "#hide\n",
    "metrics = [df_table.columns[index] for index in [1,2,5,6]]\n",
    "# s_china = df_table[df_table['Country/Region'].eq('China')][metrics].sum().add_prefix('China ')\n",
    "s_us = df_table[df_table['Country/Region'].eq('US')][metrics].sum().add_prefix('US ')\n",
    "s_eu = df_table[df_table['Continent'].eq('Europe')][metrics].sum().add_prefix('EU ')\n",
    "s_ind = df_table[df_table['Country/Region'].eq('India')][metrics].sum().add_prefix('India ')\n",
    "summary = {'updated': pd.to_datetime(dt_today), 'since': pd.to_datetime(dt_yday)}\n",
    "summary = {'updated': pd.to_datetime(dt_today), 'since': pd.to_datetime(dt_yday)}\n",
    "summary = {**summary, **df_table[metrics].sum(), **s_ind, **s_us, **s_eu}"
   ]
  },
  {
   "cell_type": "code",
   "execution_count": 18,
   "id": "engaging-syndrome",
   "metadata": {
    "execution": {
     "iopub.execute_input": "2021-08-07T00:19:44.214589Z",
     "iopub.status.busy": "2021-08-07T00:19:44.213972Z",
     "iopub.status.idle": "2021-08-07T00:19:44.230927Z",
     "shell.execute_reply": "2021-08-07T00:19:44.230329Z"
    },
    "papermill": {
     "duration": 0.058243,
     "end_time": "2021-08-07T00:19:44.231066",
     "exception": false,
     "start_time": "2021-08-07T00:19:44.172823",
     "status": "completed"
    },
    "tags": []
   },
   "outputs": [],
   "source": [
    "#hide\n",
    "dft_ct_new_cases = dft_cases.groupby(COL_REGION)[dt_cols].sum().diff(axis=1).fillna(0).astype(int)"
   ]
  },
  {
   "cell_type": "code",
   "execution_count": 19,
   "id": "neutral-assignment",
   "metadata": {
    "execution": {
     "iopub.execute_input": "2021-08-07T00:19:44.306834Z",
     "iopub.status.busy": "2021-08-07T00:19:44.306181Z",
     "iopub.status.idle": "2021-08-07T00:19:44.308804Z",
     "shell.execute_reply": "2021-08-07T00:19:44.308307Z"
    },
    "papermill": {
     "duration": 0.043101,
     "end_time": "2021-08-07T00:19:44.308924",
     "exception": false,
     "start_time": "2021-08-07T00:19:44.265823",
     "status": "completed"
    },
    "tags": []
   },
   "outputs": [],
   "source": [
    "#hide\n",
    "everydaycases = dft_ct_new_cases.cumsum(axis=1)"
   ]
  },
  {
   "cell_type": "code",
   "execution_count": 20,
   "id": "parliamentary-calgary",
   "metadata": {
    "execution": {
     "iopub.execute_input": "2021-08-07T00:19:44.383762Z",
     "iopub.status.busy": "2021-08-07T00:19:44.383162Z",
     "iopub.status.idle": "2021-08-07T00:19:44.981238Z",
     "shell.execute_reply": "2021-08-07T00:19:44.980729Z"
    },
    "papermill": {
     "duration": 0.638093,
     "end_time": "2021-08-07T00:19:44.981369",
     "exception": false,
     "start_time": "2021-08-07T00:19:44.343276",
     "status": "completed"
    },
    "tags": []
   },
   "outputs": [],
   "source": [
    "#hide\n",
    "import pandas as pd\n",
    "import matplotlib.pyplot as plt\n",
    "import matplotlib.ticker as ticker\n",
    "import matplotlib.animation as animation\n",
    "from IPython.display import HTML"
   ]
  },
  {
   "cell_type": "code",
   "execution_count": 21,
   "id": "lasting-extraction",
   "metadata": {
    "execution": {
     "iopub.execute_input": "2021-08-07T00:19:45.064898Z",
     "iopub.status.busy": "2021-08-07T00:19:45.064217Z",
     "iopub.status.idle": "2021-08-07T00:19:45.068866Z",
     "shell.execute_reply": "2021-08-07T00:19:45.068375Z"
    },
    "papermill": {
     "duration": 0.049882,
     "end_time": "2021-08-07T00:19:45.068997",
     "exception": false,
     "start_time": "2021-08-07T00:19:45.019115",
     "status": "completed"
    },
    "tags": []
   },
   "outputs": [],
   "source": [
    "#hide\n",
    "t = everydaycases.stack()"
   ]
  },
  {
   "cell_type": "code",
   "execution_count": 22,
   "id": "premier-sleeve",
   "metadata": {
    "execution": {
     "iopub.execute_input": "2021-08-07T00:19:45.142876Z",
     "iopub.status.busy": "2021-08-07T00:19:45.142192Z",
     "iopub.status.idle": "2021-08-07T00:19:45.150820Z",
     "shell.execute_reply": "2021-08-07T00:19:45.151579Z"
    },
    "papermill": {
     "duration": 0.048266,
     "end_time": "2021-08-07T00:19:45.151822",
     "exception": false,
     "start_time": "2021-08-07T00:19:45.103556",
     "status": "completed"
    },
    "tags": []
   },
   "outputs": [],
   "source": [
    "#hide\n",
    "g = t.reset_index(['Country/Region'])"
   ]
  },
  {
   "cell_type": "code",
   "execution_count": 23,
   "id": "distributed-pittsburgh",
   "metadata": {
    "execution": {
     "iopub.execute_input": "2021-08-07T00:19:45.230249Z",
     "iopub.status.busy": "2021-08-07T00:19:45.229644Z",
     "iopub.status.idle": "2021-08-07T00:19:45.231808Z",
     "shell.execute_reply": "2021-08-07T00:19:45.231283Z"
    },
    "papermill": {
     "duration": 0.042866,
     "end_time": "2021-08-07T00:19:45.231918",
     "exception": false,
     "start_time": "2021-08-07T00:19:45.189052",
     "status": "completed"
    },
    "tags": []
   },
   "outputs": [],
   "source": [
    "#hide\n",
    "g.index.name = 'date'"
   ]
  },
  {
   "cell_type": "code",
   "execution_count": 24,
   "id": "naked-donor",
   "metadata": {
    "execution": {
     "iopub.execute_input": "2021-08-07T00:19:45.313422Z",
     "iopub.status.busy": "2021-08-07T00:19:45.312689Z",
     "iopub.status.idle": "2021-08-07T00:19:45.315661Z",
     "shell.execute_reply": "2021-08-07T00:19:45.315078Z"
    },
    "papermill": {
     "duration": 0.045673,
     "end_time": "2021-08-07T00:19:45.315782",
     "exception": false,
     "start_time": "2021-08-07T00:19:45.270109",
     "status": "completed"
    },
    "tags": []
   },
   "outputs": [],
   "source": [
    "# #hide\n",
    "# g = g.reset_index(['date'])"
   ]
  },
  {
   "cell_type": "code",
   "execution_count": 25,
   "id": "incomplete-mustang",
   "metadata": {
    "execution": {
     "iopub.execute_input": "2021-08-07T00:19:45.403160Z",
     "iopub.status.busy": "2021-08-07T00:19:45.402499Z",
     "iopub.status.idle": "2021-08-07T00:19:45.405131Z",
     "shell.execute_reply": "2021-08-07T00:19:45.405750Z"
    },
    "papermill": {
     "duration": 0.051594,
     "end_time": "2021-08-07T00:19:45.405889",
     "exception": false,
     "start_time": "2021-08-07T00:19:45.354295",
     "status": "completed"
    },
    "tags": []
   },
   "outputs": [],
   "source": [
    "#hide\n",
    "# g.head()"
   ]
  },
  {
   "cell_type": "code",
   "execution_count": 26,
   "id": "specific-kruger",
   "metadata": {
    "execution": {
     "iopub.execute_input": "2021-08-07T00:19:45.483714Z",
     "iopub.status.busy": "2021-08-07T00:19:45.483131Z",
     "iopub.status.idle": "2021-08-07T00:19:45.485118Z",
     "shell.execute_reply": "2021-08-07T00:19:45.485571Z"
    },
    "papermill": {
     "duration": 0.04315,
     "end_time": "2021-08-07T00:19:45.485715",
     "exception": false,
     "start_time": "2021-08-07T00:19:45.442565",
     "status": "completed"
    },
    "tags": []
   },
   "outputs": [],
   "source": [
    "#hide\n",
    "# g.columns = ['date','country','cases']"
   ]
  },
  {
   "cell_type": "code",
   "execution_count": 27,
   "id": "tender-conversion",
   "metadata": {
    "execution": {
     "iopub.execute_input": "2021-08-07T00:19:45.569542Z",
     "iopub.status.busy": "2021-08-07T00:19:45.568864Z",
     "iopub.status.idle": "2021-08-07T00:19:45.570637Z",
     "shell.execute_reply": "2021-08-07T00:19:45.571186Z"
    },
    "papermill": {
     "duration": 0.047296,
     "end_time": "2021-08-07T00:19:45.571325",
     "exception": false,
     "start_time": "2021-08-07T00:19:45.524029",
     "status": "completed"
    },
    "tags": []
   },
   "outputs": [],
   "source": [
    "#hide\n",
    "# g['continent'] = g.country"
   ]
  },
  {
   "cell_type": "code",
   "execution_count": 28,
   "id": "substantial-wilderness",
   "metadata": {
    "execution": {
     "iopub.execute_input": "2021-08-07T00:19:45.656148Z",
     "iopub.status.busy": "2021-08-07T00:19:45.655564Z",
     "iopub.status.idle": "2021-08-07T00:19:45.657843Z",
     "shell.execute_reply": "2021-08-07T00:19:45.657350Z"
    },
    "papermill": {
     "duration": 0.048561,
     "end_time": "2021-08-07T00:19:45.657962",
     "exception": false,
     "start_time": "2021-08-07T00:19:45.609401",
     "status": "completed"
    },
    "tags": []
   },
   "outputs": [],
   "source": [
    "#hide\n",
    "# cols = list(g.columns.values)"
   ]
  },
  {
   "cell_type": "code",
   "execution_count": 29,
   "id": "solved-farming",
   "metadata": {
    "execution": {
     "iopub.execute_input": "2021-08-07T00:19:45.731012Z",
     "iopub.status.busy": "2021-08-07T00:19:45.730324Z",
     "iopub.status.idle": "2021-08-07T00:19:45.731804Z",
     "shell.execute_reply": "2021-08-07T00:19:45.732291Z"
    },
    "papermill": {
     "duration": 0.039995,
     "end_time": "2021-08-07T00:19:45.732430",
     "exception": false,
     "start_time": "2021-08-07T00:19:45.692435",
     "status": "completed"
    },
    "tags": []
   },
   "outputs": [],
   "source": [
    "#hide\n",
    "# cols.insert(0, cols.pop())"
   ]
  },
  {
   "cell_type": "code",
   "execution_count": 30,
   "id": "executed-adoption",
   "metadata": {
    "execution": {
     "iopub.execute_input": "2021-08-07T00:19:45.809629Z",
     "iopub.status.busy": "2021-08-07T00:19:45.809026Z",
     "iopub.status.idle": "2021-08-07T00:19:45.811358Z",
     "shell.execute_reply": "2021-08-07T00:19:45.810870Z"
    },
    "papermill": {
     "duration": 0.042557,
     "end_time": "2021-08-07T00:19:45.811480",
     "exception": false,
     "start_time": "2021-08-07T00:19:45.768923",
     "status": "completed"
    },
    "tags": []
   },
   "outputs": [],
   "source": [
    "#hide\n",
    "# g = g[cols]"
   ]
  },
  {
   "cell_type": "code",
   "execution_count": 31,
   "id": "subject-dublin",
   "metadata": {
    "execution": {
     "iopub.execute_input": "2021-08-07T00:19:45.889577Z",
     "iopub.status.busy": "2021-08-07T00:19:45.888933Z",
     "iopub.status.idle": "2021-08-07T00:19:45.891428Z",
     "shell.execute_reply": "2021-08-07T00:19:45.891982Z"
    },
    "papermill": {
     "duration": 0.045384,
     "end_time": "2021-08-07T00:19:45.892137",
     "exception": false,
     "start_time": "2021-08-07T00:19:45.846753",
     "status": "completed"
    },
    "tags": []
   },
   "outputs": [],
   "source": [
    "#hide\n",
    "# g['continent'] = g['continent'].map(mapping['map.continent'])"
   ]
  },
  {
   "cell_type": "code",
   "execution_count": 32,
   "id": "freelance-scout",
   "metadata": {
    "execution": {
     "iopub.execute_input": "2021-08-07T00:19:45.970075Z",
     "iopub.status.busy": "2021-08-07T00:19:45.969452Z",
     "iopub.status.idle": "2021-08-07T00:19:45.971694Z",
     "shell.execute_reply": "2021-08-07T00:19:45.972153Z"
    },
    "papermill": {
     "duration": 0.04366,
     "end_time": "2021-08-07T00:19:45.972294",
     "exception": false,
     "start_time": "2021-08-07T00:19:45.928634",
     "status": "completed"
    },
    "tags": []
   },
   "outputs": [],
   "source": [
    "#hide\n",
    "# g.head()"
   ]
  },
  {
   "cell_type": "code",
   "execution_count": 33,
   "id": "limited-engine",
   "metadata": {
    "execution": {
     "iopub.execute_input": "2021-08-07T00:19:46.045922Z",
     "iopub.status.busy": "2021-08-07T00:19:46.044650Z",
     "iopub.status.idle": "2021-08-07T00:19:46.046608Z",
     "shell.execute_reply": "2021-08-07T00:19:46.047068Z"
    },
    "papermill": {
     "duration": 0.040309,
     "end_time": "2021-08-07T00:19:46.047207",
     "exception": false,
     "start_time": "2021-08-07T00:19:46.006898",
     "status": "completed"
    },
    "tags": []
   },
   "outputs": [],
   "source": [
    "# hide\n",
    "# g['date'] = g['date'].astype('datetime64[ns]')"
   ]
  },
  {
   "cell_type": "code",
   "execution_count": 34,
   "id": "sophisticated-supervisor",
   "metadata": {
    "execution": {
     "iopub.execute_input": "2021-08-07T00:19:46.119803Z",
     "iopub.status.busy": "2021-08-07T00:19:46.119217Z",
     "iopub.status.idle": "2021-08-07T00:19:46.121740Z",
     "shell.execute_reply": "2021-08-07T00:19:46.121274Z"
    },
    "papermill": {
     "duration": 0.04018,
     "end_time": "2021-08-07T00:19:46.121865",
     "exception": false,
     "start_time": "2021-08-07T00:19:46.081685",
     "status": "completed"
    },
    "tags": []
   },
   "outputs": [],
   "source": [
    "#hide\n",
    "# g['date'] = g.date.dt.dayofyear"
   ]
  },
  {
   "cell_type": "code",
   "execution_count": 35,
   "id": "inside-dubai",
   "metadata": {
    "execution": {
     "iopub.execute_input": "2021-08-07T00:19:46.194637Z",
     "iopub.status.busy": "2021-08-07T00:19:46.194010Z",
     "iopub.status.idle": "2021-08-07T00:19:46.201504Z",
     "shell.execute_reply": "2021-08-07T00:19:46.201953Z"
    },
    "papermill": {
     "duration": 0.046088,
     "end_time": "2021-08-07T00:19:46.202265",
     "exception": false,
     "start_time": "2021-08-07T00:19:46.156177",
     "status": "completed"
    },
    "tags": []
   },
   "outputs": [],
   "source": [
    "#hide\n",
    "# g = g.rename(columns= {'continent':'group','country':'name','cases':'value'})"
   ]
  },
  {
   "cell_type": "code",
   "execution_count": 36,
   "id": "fleet-motorcycle",
   "metadata": {
    "execution": {
     "iopub.execute_input": "2021-08-07T00:19:46.277709Z",
     "iopub.status.busy": "2021-08-07T00:19:46.277118Z",
     "iopub.status.idle": "2021-08-07T00:19:46.278984Z",
     "shell.execute_reply": "2021-08-07T00:19:46.279439Z"
    },
    "papermill": {
     "duration": 0.040415,
     "end_time": "2021-08-07T00:19:46.279579",
     "exception": false,
     "start_time": "2021-08-07T00:19:46.239164",
     "status": "completed"
    },
    "tags": []
   },
   "outputs": [],
   "source": [
    "#hide\n",
    "# cols = ['name','group','day','value']"
   ]
  },
  {
   "cell_type": "code",
   "execution_count": 37,
   "id": "continued-sleeping",
   "metadata": {
    "execution": {
     "iopub.execute_input": "2021-08-07T00:19:46.353111Z",
     "iopub.status.busy": "2021-08-07T00:19:46.352505Z",
     "iopub.status.idle": "2021-08-07T00:19:46.354760Z",
     "shell.execute_reply": "2021-08-07T00:19:46.354227Z"
    },
    "papermill": {
     "duration": 0.040969,
     "end_time": "2021-08-07T00:19:46.354882",
     "exception": false,
     "start_time": "2021-08-07T00:19:46.313913",
     "status": "completed"
    },
    "tags": []
   },
   "outputs": [],
   "source": [
    "#hide\n",
    "# g.rename(columns= {'date':'day'},inplace = True)"
   ]
  },
  {
   "cell_type": "code",
   "execution_count": 38,
   "id": "major-fight",
   "metadata": {
    "execution": {
     "iopub.execute_input": "2021-08-07T00:19:46.427946Z",
     "iopub.status.busy": "2021-08-07T00:19:46.427211Z",
     "iopub.status.idle": "2021-08-07T00:19:46.428626Z",
     "shell.execute_reply": "2021-08-07T00:19:46.429181Z"
    },
    "papermill": {
     "duration": 0.040194,
     "end_time": "2021-08-07T00:19:46.429328",
     "exception": false,
     "start_time": "2021-08-07T00:19:46.389134",
     "status": "completed"
    },
    "tags": []
   },
   "outputs": [],
   "source": [
    "#hide\n",
    "# g = g[cols]"
   ]
  },
  {
   "cell_type": "code",
   "execution_count": 39,
   "id": "structured-mobile",
   "metadata": {
    "execution": {
     "iopub.execute_input": "2021-08-07T00:19:46.507038Z",
     "iopub.status.busy": "2021-08-07T00:19:46.505768Z",
     "iopub.status.idle": "2021-08-07T00:19:46.508156Z",
     "shell.execute_reply": "2021-08-07T00:19:46.509209Z"
    },
    "papermill": {
     "duration": 0.043774,
     "end_time": "2021-08-07T00:19:46.509446",
     "exception": false,
     "start_time": "2021-08-07T00:19:46.465672",
     "status": "completed"
    },
    "tags": []
   },
   "outputs": [],
   "source": [
    "# #hide\n",
    "# g = g[g.group.notna()]"
   ]
  },
  {
   "cell_type": "code",
   "execution_count": 40,
   "id": "determined-closing",
   "metadata": {
    "execution": {
     "iopub.execute_input": "2021-08-07T00:19:46.591585Z",
     "iopub.status.busy": "2021-08-07T00:19:46.590989Z",
     "iopub.status.idle": "2021-08-07T00:19:46.592782Z",
     "shell.execute_reply": "2021-08-07T00:19:46.593215Z"
    },
    "papermill": {
     "duration": 0.045147,
     "end_time": "2021-08-07T00:19:46.593358",
     "exception": false,
     "start_time": "2021-08-07T00:19:46.548211",
     "status": "completed"
    },
    "tags": []
   },
   "outputs": [],
   "source": [
    "# #hide\n",
    "# colors = dict(zip(\n",
    "#     [\"Oceania\", \"Europe\", \"Asia\", \"South America\", \"Middle East\", \"North America\", \"Africa\"],\n",
    "#     [\"#adb0ff\", \"#ffb3ff\", \"#90d595\", \"#e48381\", \"#aafbff\", \"#f7bb5f\", \"#eafb50\"]\n",
    "# ))\n",
    "# group_lk = g.set_index('name')['group'].to_dict()"
   ]
  },
  {
   "cell_type": "code",
   "execution_count": null,
   "id": "gross-drinking",
   "metadata": {
    "papermill": {
     "duration": 0.034193,
     "end_time": "2021-08-07T00:19:46.661726",
     "exception": false,
     "start_time": "2021-08-07T00:19:46.627533",
     "status": "completed"
    },
    "tags": []
   },
   "outputs": [],
   "source": []
  },
  {
   "cell_type": "code",
   "execution_count": 41,
   "id": "subject-macintosh",
   "metadata": {
    "execution": {
     "iopub.execute_input": "2021-08-07T00:19:46.735353Z",
     "iopub.status.busy": "2021-08-07T00:19:46.734705Z",
     "iopub.status.idle": "2021-08-07T00:19:46.741588Z",
     "shell.execute_reply": "2021-08-07T00:19:46.742037Z"
    },
    "papermill": {
     "duration": 0.0462,
     "end_time": "2021-08-07T00:19:46.742186",
     "exception": false,
     "start_time": "2021-08-07T00:19:46.695986",
     "status": "completed"
    },
    "tags": []
   },
   "outputs": [],
   "source": [
    "# #hide\n",
    "# fig, ax = plt.subplots(figsize=(15, 8))\n",
    "\n",
    "# def draw_barchart(current_day):\n",
    "#     dff = g[g['day'].eq(current_day)].sort_values(by='value', ascending=True).tail(10)\n",
    "#     ax.clear()\n",
    "#     ax.barh(dff['name'], dff['value'], color=[colors[group_lk[x]] for x in dff['name']])\n",
    "#     dx = dff['value'].max() / 200\n",
    "    \n",
    "#     for i, (value, name) in enumerate(zip(dff['value'], dff['name'])):\n",
    "#         ax.text(value-dx, i,     name,           size=14, weight=600, ha='right', va='bottom')\n",
    "#         ax.text(value-dx, i-.25, group_lk[name], size=10, color='#444444', ha='right', va='baseline')\n",
    "#         ax.text(value+dx, i,     f'{value:,.0f}',  size=14, ha='left',  va='center')\n",
    "#     ax.text(1, 0.4, current_day, transform=ax.transAxes, color='#777777', size=46, ha='right', weight=800)\n",
    "#     ax.text(0, 1.06, 'Population (thousands)', transform=ax.transAxes, size=12, color='#777777')\n",
    "#     ax.xaxis.set_major_formatter(ticker.StrMethodFormatter('{x:,.0f}'))\n",
    "#     ax.xaxis.set_ticks_position('top')\n",
    "#     ax.tick_params(axis='x', colors='#777777', labelsize=12)\n",
    "#     ax.set_yticks([])\n",
    "#     ax.margins(0, 0.01)\n",
    "#     ax.grid(which='major', axis='x', linestyle='-')\n",
    "#     ax.set_axisbelow(True)\n",
    "    \n",
    "#     ax.text(0, 1.15, 'Coronavirus',\n",
    "#             transform=ax.transAxes, size=24, weight=600, ha='left', va='top')\n",
    "# #     ax.text(1, 0, 'by @pratapvardhan; credit @jburnmurdoch', transform=ax.transAxes, color='#777777', ha='right',\n",
    "# #             bbox=dict(facecolor='white', alpha=0.8, edgecolor='white'))\n",
    "#     plt.box(False)"
   ]
  },
  {
   "cell_type": "code",
   "execution_count": 42,
   "id": "sexual-wages",
   "metadata": {
    "execution": {
     "iopub.execute_input": "2021-08-07T00:19:46.817894Z",
     "iopub.status.busy": "2021-08-07T00:19:46.817299Z",
     "iopub.status.idle": "2021-08-07T00:19:46.819603Z",
     "shell.execute_reply": "2021-08-07T00:19:46.819113Z"
    },
    "papermill": {
     "duration": 0.040499,
     "end_time": "2021-08-07T00:19:46.819723",
     "exception": false,
     "start_time": "2021-08-07T00:19:46.779224",
     "status": "completed"
    },
    "tags": []
   },
   "outputs": [],
   "source": [
    "# #hide_input\n",
    "# fig, ax = plt.subplots(figsize=(15, 8))\n",
    "# animator = animation.FuncAnimation(fig, draw_barchart, frames=range(g.day.values.min(), g.day.values.max()))\n",
    "# HTML(animator.to_jshtml())\n",
    "# # or use animator.to_html5_video() or animator.save() "
   ]
  },
  {
   "cell_type": "code",
   "execution_count": null,
   "id": "australian-container",
   "metadata": {
    "papermill": {
     "duration": 0.034153,
     "end_time": "2021-08-07T00:19:46.888357",
     "exception": false,
     "start_time": "2021-08-07T00:19:46.854204",
     "status": "completed"
    },
    "tags": []
   },
   "outputs": [],
   "source": []
  },
  {
   "cell_type": "code",
   "execution_count": null,
   "id": "mediterranean-pontiac",
   "metadata": {
    "papermill": {
     "duration": 0.034696,
     "end_time": "2021-08-07T00:19:46.957227",
     "exception": false,
     "start_time": "2021-08-07T00:19:46.922531",
     "status": "completed"
    },
    "tags": []
   },
   "outputs": [],
   "source": []
  },
  {
   "cell_type": "code",
   "execution_count": null,
   "id": "aging-legislature",
   "metadata": {
    "papermill": {
     "duration": 0.033933,
     "end_time": "2021-08-07T00:19:47.025549",
     "exception": false,
     "start_time": "2021-08-07T00:19:46.991616",
     "status": "completed"
    },
    "tags": []
   },
   "outputs": [],
   "source": []
  }
 ],
 "metadata": {
  "kernelspec": {
   "display_name": "Python 3",
   "language": "python",
   "name": "python3"
  },
  "language_info": {
   "codemirror_mode": {
    "name": "ipython",
    "version": 3
   },
   "file_extension": ".py",
   "mimetype": "text/x-python",
   "name": "python",
   "nbconvert_exporter": "python",
   "pygments_lexer": "ipython3",
   "version": "3.6.14"
  },
  "papermill": {
   "duration": 6.886782,
   "end_time": "2021-08-07T00:19:47.467690",
   "environment_variables": {},
   "exception": null,
   "input_path": "2020-03-21-covid19exp.ipynb",
   "output_path": "2020-03-21-covid19exp.ipynb",
   "parameters": {},
   "start_time": "2021-08-07T00:19:40.580908",
   "version": "2.0.0"
  }
 },
 "nbformat": 4,
 "nbformat_minor": 5
}