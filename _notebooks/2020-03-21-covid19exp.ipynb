{
 "cells": [
  {
   "cell_type": "markdown",
   "id": "muslim-click",
   "metadata": {
    "papermill": {
     "duration": 0.043306,
     "end_time": "2021-07-27T12:10:32.511207",
     "exception": false,
     "start_time": "2021-07-27T12:10:32.467901",
     "status": "completed"
    },
    "tags": []
   },
   "source": [
    "# COVID-19 Case Race\n",
    "> A race chart to see rising cases around the world\n",
    "\n",
    "- author: Hargun Oberoi\n",
    "- image: images/covid-overview.png\n",
    "- hide: false\n",
    "- badges: false"
   ]
  },
  {
   "cell_type": "code",
   "execution_count": 1,
   "id": "proof-material",
   "metadata": {
    "execution": {
     "iopub.execute_input": "2021-07-27T12:10:32.601298Z",
     "iopub.status.busy": "2021-07-27T12:10:32.600608Z",
     "iopub.status.idle": "2021-07-27T12:10:32.999891Z",
     "shell.execute_reply": "2021-07-27T12:10:32.999088Z"
    },
    "papermill": {
     "duration": 0.448455,
     "end_time": "2021-07-27T12:10:33.000056",
     "exception": false,
     "start_time": "2021-07-27T12:10:32.551601",
     "status": "completed"
    },
    "tags": []
   },
   "outputs": [],
   "source": [
    "#hide\n",
    "import numpy as np\n",
    "import pandas as pd\n",
    "from jinja2 import Template\n",
    "from IPython.display import HTML"
   ]
  },
  {
   "cell_type": "code",
   "execution_count": 2,
   "id": "developed-terminology",
   "metadata": {
    "execution": {
     "iopub.execute_input": "2021-07-27T12:10:33.081543Z",
     "iopub.status.busy": "2021-07-27T12:10:33.080858Z",
     "iopub.status.idle": "2021-07-27T12:10:33.083316Z",
     "shell.execute_reply": "2021-07-27T12:10:33.082638Z"
    },
    "papermill": {
     "duration": 0.04613,
     "end_time": "2021-07-27T12:10:33.083448",
     "exception": false,
     "start_time": "2021-07-27T12:10:33.037318",
     "status": "completed"
    },
    "tags": []
   },
   "outputs": [],
   "source": [
    "#hide\n",
    "\n",
    "# FETCH\n",
    "base_url = 'https://raw.githubusercontent.com/pratapvardhan/notebooks/master/covid19/'\n",
    "paths = {\n",
    "    'mapping': base_url + 'mapping_countries.csv',\n",
    "    'overview': base_url + 'overview.tpl'\n",
    "}"
   ]
  },
  {
   "cell_type": "code",
   "execution_count": 3,
   "id": "dynamic-saver",
   "metadata": {
    "execution": {
     "iopub.execute_input": "2021-07-27T12:10:33.171586Z",
     "iopub.status.busy": "2021-07-27T12:10:33.170862Z",
     "iopub.status.idle": "2021-07-27T12:10:33.174538Z",
     "shell.execute_reply": "2021-07-27T12:10:33.174023Z"
    },
    "papermill": {
     "duration": 0.053136,
     "end_time": "2021-07-27T12:10:33.174665",
     "exception": false,
     "start_time": "2021-07-27T12:10:33.121529",
     "status": "completed"
    },
    "tags": []
   },
   "outputs": [
    {
     "data": {
      "text/plain": [
       "'https://raw.githubusercontent.com/pratapvardhan/notebooks/master/covid19/mapping_countries.csv'"
      ]
     },
     "execution_count": 3,
     "metadata": {},
     "output_type": "execute_result"
    }
   ],
   "source": [
    "#hide\n",
    "paths['mapping']"
   ]
  },
  {
   "cell_type": "code",
   "execution_count": 4,
   "id": "urban-software",
   "metadata": {
    "execution": {
     "iopub.execute_input": "2021-07-27T12:10:33.250837Z",
     "iopub.status.busy": "2021-07-27T12:10:33.250250Z",
     "iopub.status.idle": "2021-07-27T12:10:33.252733Z",
     "shell.execute_reply": "2021-07-27T12:10:33.252259Z"
    },
    "papermill": {
     "duration": 0.041787,
     "end_time": "2021-07-27T12:10:33.252847",
     "exception": false,
     "start_time": "2021-07-27T12:10:33.211060",
     "status": "completed"
    },
    "tags": []
   },
   "outputs": [],
   "source": [
    "#hide\n",
    "def get_mappings(url):\n",
    "    df = pd.read_csv(url)\n",
    "    return {\n",
    "        'df': df,\n",
    "        'replace.country': dict(df.dropna(subset=['Name']).set_index('Country')['Name']),\n",
    "        'map.continent': dict(df.set_index('Name')['Continent'])\n",
    "    }"
   ]
  },
  {
   "cell_type": "code",
   "execution_count": 5,
   "id": "intimate-machinery",
   "metadata": {
    "execution": {
     "iopub.execute_input": "2021-07-27T12:10:33.329583Z",
     "iopub.status.busy": "2021-07-27T12:10:33.328943Z",
     "iopub.status.idle": "2021-07-27T12:10:33.367345Z",
     "shell.execute_reply": "2021-07-27T12:10:33.367858Z"
    },
    "papermill": {
     "duration": 0.079078,
     "end_time": "2021-07-27T12:10:33.368032",
     "exception": false,
     "start_time": "2021-07-27T12:10:33.288954",
     "status": "completed"
    },
    "tags": []
   },
   "outputs": [],
   "source": [
    "#hide\n",
    "mapping = get_mappings(paths['mapping'])"
   ]
  },
  {
   "cell_type": "code",
   "execution_count": 6,
   "id": "certified-tactics",
   "metadata": {
    "execution": {
     "iopub.execute_input": "2021-07-27T12:10:33.442064Z",
     "iopub.status.busy": "2021-07-27T12:10:33.441417Z",
     "iopub.status.idle": "2021-07-27T12:10:33.444061Z",
     "shell.execute_reply": "2021-07-27T12:10:33.443322Z"
    },
    "papermill": {
     "duration": 0.044017,
     "end_time": "2021-07-27T12:10:33.444220",
     "exception": false,
     "start_time": "2021-07-27T12:10:33.400203",
     "status": "completed"
    },
    "tags": []
   },
   "outputs": [],
   "source": [
    "#hide\n",
    "def get_template(path):\n",
    "    from urllib.parse import urlparse\n",
    "    if bool(urlparse(path).netloc):\n",
    "        from urllib.request import urlopen\n",
    "        return urlopen(path).read().decode('utf8')\n",
    "    return open(path).read()"
   ]
  },
  {
   "cell_type": "code",
   "execution_count": 7,
   "id": "realistic-blast",
   "metadata": {
    "execution": {
     "iopub.execute_input": "2021-07-27T12:10:33.518136Z",
     "iopub.status.busy": "2021-07-27T12:10:33.512898Z",
     "iopub.status.idle": "2021-07-27T12:10:33.518719Z",
     "shell.execute_reply": "2021-07-27T12:10:33.519148Z"
    },
    "papermill": {
     "duration": 0.042736,
     "end_time": "2021-07-27T12:10:33.519290",
     "exception": false,
     "start_time": "2021-07-27T12:10:33.476554",
     "status": "completed"
    },
    "tags": []
   },
   "outputs": [],
   "source": [
    "#hide\n",
    "def get_frame(name):\n",
    "    url = (\n",
    "        'https://raw.githubusercontent.com/CSSEGISandData/COVID-19/master/csse_covid_19_data/'\n",
    "        f'csse_covid_19_time_series/time_series_covid19_{name}_global.csv')\n",
    "    df = pd.read_csv(url)\n",
    "    # rename countries\n",
    "    df['Country/Region'] = df['Country/Region'].replace(mapping['replace.country'])\n",
    "    return df"
   ]
  },
  {
   "cell_type": "code",
   "execution_count": 8,
   "id": "affiliated-characterization",
   "metadata": {
    "execution": {
     "iopub.execute_input": "2021-07-27T12:10:33.612321Z",
     "iopub.status.busy": "2021-07-27T12:10:33.611621Z",
     "iopub.status.idle": "2021-07-27T12:10:33.614281Z",
     "shell.execute_reply": "2021-07-27T12:10:33.613443Z"
    },
    "papermill": {
     "duration": 0.054162,
     "end_time": "2021-07-27T12:10:33.614422",
     "exception": false,
     "start_time": "2021-07-27T12:10:33.560260",
     "status": "completed"
    },
    "tags": []
   },
   "outputs": [],
   "source": [
    "#hide\n",
    "def get_dates(df):\n",
    "    dt_cols = df.columns[~df.columns.isin(['Province/State', 'Country/Region', 'Lat', 'Long'])]\n",
    "    LAST_DATE_I = -1\n",
    "    # sometimes last column may be empty, then go backwards\n",
    "    for i in range(-1, -len(dt_cols), -1):\n",
    "        if not df[dt_cols[i]].fillna(0).eq(0).all():\n",
    "            LAST_DATE_I = i\n",
    "            break\n",
    "    return LAST_DATE_I, dt_cols"
   ]
  },
  {
   "cell_type": "code",
   "execution_count": 9,
   "id": "recent-optimization",
   "metadata": {
    "execution": {
     "iopub.execute_input": "2021-07-27T12:10:33.694303Z",
     "iopub.status.busy": "2021-07-27T12:10:33.693613Z",
     "iopub.status.idle": "2021-07-27T12:10:34.102314Z",
     "shell.execute_reply": "2021-07-27T12:10:34.101740Z"
    },
    "papermill": {
     "duration": 0.449401,
     "end_time": "2021-07-27T12:10:34.102462",
     "exception": false,
     "start_time": "2021-07-27T12:10:33.653061",
     "status": "completed"
    },
    "tags": []
   },
   "outputs": [],
   "source": [
    "#hide\n",
    "COL_REGION = 'Country/Region'\n",
    "# Confirmed, Recovered, Deaths\n",
    "df = get_frame('confirmed')\n",
    "# dft_: timeseries, dfc_: today country agg\n",
    "dft_cases = df\n",
    "dft_deaths = get_frame('deaths')\n",
    "dft_recovered = get_frame('recovered')\n",
    "LAST_DATE_I, dt_cols = get_dates(df)"
   ]
  },
  {
   "cell_type": "code",
   "execution_count": 10,
   "id": "absolute-copper",
   "metadata": {
    "execution": {
     "iopub.execute_input": "2021-07-27T12:10:34.189972Z",
     "iopub.status.busy": "2021-07-27T12:10:34.189179Z",
     "iopub.status.idle": "2021-07-27T12:10:34.191209Z",
     "shell.execute_reply": "2021-07-27T12:10:34.191861Z"
    },
    "papermill": {
     "duration": 0.047471,
     "end_time": "2021-07-27T12:10:34.192011",
     "exception": false,
     "start_time": "2021-07-27T12:10:34.144540",
     "status": "completed"
    },
    "tags": []
   },
   "outputs": [],
   "source": [
    "#hide\n",
    "LAST_DATE_I, dt_cols = get_dates(df)\n",
    "dt_today =dt_cols[LAST_DATE_I]\n",
    "# dt_5day = dt_cols[LAST_DATE_I - 5]\n",
    "dt_yday = dt_cols[LAST_DATE_I - 1]"
   ]
  },
  {
   "cell_type": "code",
   "execution_count": 11,
   "id": "restricted-sheriff",
   "metadata": {
    "execution": {
     "iopub.execute_input": "2021-07-27T12:10:34.273838Z",
     "iopub.status.busy": "2021-07-27T12:10:34.273152Z",
     "iopub.status.idle": "2021-07-27T12:10:34.282180Z",
     "shell.execute_reply": "2021-07-27T12:10:34.281704Z"
    },
    "papermill": {
     "duration": 0.052586,
     "end_time": "2021-07-27T12:10:34.282293",
     "exception": false,
     "start_time": "2021-07-27T12:10:34.229707",
     "status": "completed"
    },
    "tags": []
   },
   "outputs": [],
   "source": [
    "#hide\n",
    "dfc_cases = dft_cases.groupby(COL_REGION)[dt_today].sum()\n",
    "dfc_deaths = dft_deaths.groupby(COL_REGION)[dt_today].sum()\n",
    "# dfp_cases = dft_cases.groupby(COL_REGION)[dt_5day].sum()\n",
    "# dfp_deaths = dft_deaths.groupby(COL_REGION)[dt_5day].sum()\n",
    "dfp_cases = dft_cases.groupby(COL_REGION)[dt_yday].sum()\n",
    "dfp_deaths = dft_deaths.groupby(COL_REGION)[dt_yday].sum()"
   ]
  },
  {
   "cell_type": "code",
   "execution_count": 12,
   "id": "deluxe-hepatitis",
   "metadata": {
    "execution": {
     "iopub.execute_input": "2021-07-27T12:10:34.359477Z",
     "iopub.status.busy": "2021-07-27T12:10:34.358893Z",
     "iopub.status.idle": "2021-07-27T12:10:34.364573Z",
     "shell.execute_reply": "2021-07-27T12:10:34.364076Z"
    },
    "papermill": {
     "duration": 0.047123,
     "end_time": "2021-07-27T12:10:34.364756",
     "exception": false,
     "start_time": "2021-07-27T12:10:34.317633",
     "status": "completed"
    },
    "tags": []
   },
   "outputs": [],
   "source": [
    "#hide\n",
    "df_table = (pd.DataFrame(dict(Cases = dfc_cases, Deaths = dfc_deaths, PCases = dfp_cases, PDeaths = dfp_deaths))\n",
    "            .sort_values(by = ['Cases','Deaths'], ascending = [False, False])\n",
    "            .reset_index())"
   ]
  },
  {
   "cell_type": "code",
   "execution_count": 13,
   "id": "educational-chancellor",
   "metadata": {
    "execution": {
     "iopub.execute_input": "2021-07-27T12:10:34.462185Z",
     "iopub.status.busy": "2021-07-27T12:10:34.461454Z",
     "iopub.status.idle": "2021-07-27T12:10:34.469833Z",
     "shell.execute_reply": "2021-07-27T12:10:34.470457Z"
    },
    "papermill": {
     "duration": 0.069143,
     "end_time": "2021-07-27T12:10:34.470627",
     "exception": false,
     "start_time": "2021-07-27T12:10:34.401484",
     "status": "completed"
    },
    "tags": []
   },
   "outputs": [
    {
     "data": {
      "text/html": [
       "<div>\n",
       "<style scoped>\n",
       "    .dataframe tbody tr th:only-of-type {\n",
       "        vertical-align: middle;\n",
       "    }\n",
       "\n",
       "    .dataframe tbody tr th {\n",
       "        vertical-align: top;\n",
       "    }\n",
       "\n",
       "    .dataframe thead th {\n",
       "        text-align: right;\n",
       "    }\n",
       "</style>\n",
       "<table border=\"1\" class=\"dataframe\">\n",
       "  <thead>\n",
       "    <tr style=\"text-align: right;\">\n",
       "      <th></th>\n",
       "      <th>Country/Region</th>\n",
       "      <th>Cases</th>\n",
       "      <th>Deaths</th>\n",
       "      <th>PCases</th>\n",
       "      <th>PDeaths</th>\n",
       "      <th>Cases (+)</th>\n",
       "      <th>Deaths (+)</th>\n",
       "      <th>Fatality Rate</th>\n",
       "      <th>Continent</th>\n",
       "    </tr>\n",
       "  </thead>\n",
       "  <tbody>\n",
       "    <tr>\n",
       "      <th>0</th>\n",
       "      <td>US</td>\n",
       "      <td>34533179</td>\n",
       "      <td>610952</td>\n",
       "      <td>34443761</td>\n",
       "      <td>610891</td>\n",
       "      <td>89418</td>\n",
       "      <td>61</td>\n",
       "      <td>1.77</td>\n",
       "      <td>North America</td>\n",
       "    </tr>\n",
       "    <tr>\n",
       "      <th>1</th>\n",
       "      <td>India</td>\n",
       "      <td>31440951</td>\n",
       "      <td>421382</td>\n",
       "      <td>31411262</td>\n",
       "      <td>420967</td>\n",
       "      <td>29689</td>\n",
       "      <td>415</td>\n",
       "      <td>1.34</td>\n",
       "      <td>Asia</td>\n",
       "    </tr>\n",
       "    <tr>\n",
       "      <th>2</th>\n",
       "      <td>Brazil</td>\n",
       "      <td>19707662</td>\n",
       "      <td>550502</td>\n",
       "      <td>19688663</td>\n",
       "      <td>549924</td>\n",
       "      <td>18999</td>\n",
       "      <td>578</td>\n",
       "      <td>2.79</td>\n",
       "      <td>South America</td>\n",
       "    </tr>\n",
       "    <tr>\n",
       "      <th>3</th>\n",
       "      <td>Russia</td>\n",
       "      <td>6071893</td>\n",
       "      <td>152069</td>\n",
       "      <td>6049215</td>\n",
       "      <td>151352</td>\n",
       "      <td>22678</td>\n",
       "      <td>717</td>\n",
       "      <td>2.50</td>\n",
       "      <td>Europe</td>\n",
       "    </tr>\n",
       "    <tr>\n",
       "      <th>4</th>\n",
       "      <td>France</td>\n",
       "      <td>6061802</td>\n",
       "      <td>111851</td>\n",
       "      <td>6056388</td>\n",
       "      <td>111806</td>\n",
       "      <td>5414</td>\n",
       "      <td>45</td>\n",
       "      <td>1.85</td>\n",
       "      <td>Europe</td>\n",
       "    </tr>\n",
       "  </tbody>\n",
       "</table>\n",
       "</div>"
      ],
      "text/plain": [
       "  Country/Region     Cases  Deaths    PCases  PDeaths  Cases (+)  Deaths (+)  \\\n",
       "0             US  34533179  610952  34443761   610891      89418          61   \n",
       "1          India  31440951  421382  31411262   420967      29689         415   \n",
       "2         Brazil  19707662  550502  19688663   549924      18999         578   \n",
       "3         Russia   6071893  152069   6049215   151352      22678         717   \n",
       "4         France   6061802  111851   6056388   111806       5414          45   \n",
       "\n",
       "   Fatality Rate      Continent  \n",
       "0           1.77  North America  \n",
       "1           1.34           Asia  \n",
       "2           2.79  South America  \n",
       "3           2.50         Europe  \n",
       "4           1.85         Europe  "
      ]
     },
     "execution_count": 13,
     "metadata": {},
     "output_type": "execute_result"
    }
   ],
   "source": [
    "#hide\n",
    "for c in 'Cases, Deaths'.split(', '):\n",
    "    df_table[f'{c} (+)'] = (df_table[c] - df_table[f'P{c}']).clip(0)\n",
    "    #Clip ça veut dire, les chiffres negatif sont interdit\n",
    "df_table['Fatality Rate'] = (100* df_table['Deaths']/ df_table['Cases']).round(2)\n",
    "df_table['Continent'] = df_table['Country/Region'].map(mapping['map.continent'])\n",
    "df_table.head(5)"
   ]
  },
  {
   "cell_type": "code",
   "execution_count": 14,
   "id": "aboriginal-bulgaria",
   "metadata": {
    "execution": {
     "iopub.execute_input": "2021-07-27T12:10:34.546644Z",
     "iopub.status.busy": "2021-07-27T12:10:34.545890Z",
     "iopub.status.idle": "2021-07-27T12:10:34.548892Z",
     "shell.execute_reply": "2021-07-27T12:10:34.548400Z"
    },
    "papermill": {
     "duration": 0.043362,
     "end_time": "2021-07-27T12:10:34.549018",
     "exception": false,
     "start_time": "2021-07-27T12:10:34.505656",
     "status": "completed"
    },
    "tags": []
   },
   "outputs": [],
   "source": [
    "#hide\n",
    "#delete problematic countries from table\n",
    "df_table = df_table[~df_table['Country/Region'].isin(['Cape Verde', 'Cruise Ship', 'Kosovo'])]"
   ]
  },
  {
   "cell_type": "code",
   "execution_count": 15,
   "id": "fantastic-effect",
   "metadata": {
    "execution": {
     "iopub.execute_input": "2021-07-27T12:10:34.636713Z",
     "iopub.status.busy": "2021-07-27T12:10:34.636068Z",
     "iopub.status.idle": "2021-07-27T12:10:34.658066Z",
     "shell.execute_reply": "2021-07-27T12:10:34.658702Z"
    },
    "papermill": {
     "duration": 0.07106,
     "end_time": "2021-07-27T12:10:34.658866",
     "exception": false,
     "start_time": "2021-07-27T12:10:34.587806",
     "status": "completed"
    },
    "tags": []
   },
   "outputs": [
    {
     "data": {
      "text/html": [
       "<div>\n",
       "<style scoped>\n",
       "    .dataframe tbody tr th:only-of-type {\n",
       "        vertical-align: middle;\n",
       "    }\n",
       "\n",
       "    .dataframe tbody tr th {\n",
       "        vertical-align: top;\n",
       "    }\n",
       "\n",
       "    .dataframe thead th {\n",
       "        text-align: right;\n",
       "    }\n",
       "</style>\n",
       "<table border=\"1\" class=\"dataframe\">\n",
       "  <thead>\n",
       "    <tr style=\"text-align: right;\">\n",
       "      <th></th>\n",
       "      <th>Country/Region</th>\n",
       "      <th>Cases</th>\n",
       "      <th>Deaths</th>\n",
       "      <th>PCases</th>\n",
       "      <th>PDeaths</th>\n",
       "      <th>Cases (+)</th>\n",
       "      <th>Deaths (+)</th>\n",
       "      <th>Fatality Rate</th>\n",
       "      <th>Continent</th>\n",
       "    </tr>\n",
       "  </thead>\n",
       "  <tbody>\n",
       "    <tr>\n",
       "      <th>0</th>\n",
       "      <td>US</td>\n",
       "      <td>34533179</td>\n",
       "      <td>610952</td>\n",
       "      <td>34443761</td>\n",
       "      <td>610891</td>\n",
       "      <td>89418</td>\n",
       "      <td>61</td>\n",
       "      <td>1.8</td>\n",
       "      <td>North America</td>\n",
       "    </tr>\n",
       "    <tr>\n",
       "      <th>1</th>\n",
       "      <td>India</td>\n",
       "      <td>31440951</td>\n",
       "      <td>421382</td>\n",
       "      <td>31411262</td>\n",
       "      <td>420967</td>\n",
       "      <td>29689</td>\n",
       "      <td>415</td>\n",
       "      <td>1.3</td>\n",
       "      <td>Asia</td>\n",
       "    </tr>\n",
       "    <tr>\n",
       "      <th>2</th>\n",
       "      <td>Brazil</td>\n",
       "      <td>19707662</td>\n",
       "      <td>550502</td>\n",
       "      <td>19688663</td>\n",
       "      <td>549924</td>\n",
       "      <td>18999</td>\n",
       "      <td>578</td>\n",
       "      <td>2.8</td>\n",
       "      <td>South America</td>\n",
       "    </tr>\n",
       "    <tr>\n",
       "      <th>3</th>\n",
       "      <td>Russia</td>\n",
       "      <td>6071893</td>\n",
       "      <td>152069</td>\n",
       "      <td>6049215</td>\n",
       "      <td>151352</td>\n",
       "      <td>22678</td>\n",
       "      <td>717</td>\n",
       "      <td>2.5</td>\n",
       "      <td>Europe</td>\n",
       "    </tr>\n",
       "    <tr>\n",
       "      <th>4</th>\n",
       "      <td>France</td>\n",
       "      <td>6061802</td>\n",
       "      <td>111851</td>\n",
       "      <td>6056388</td>\n",
       "      <td>111806</td>\n",
       "      <td>5414</td>\n",
       "      <td>45</td>\n",
       "      <td>1.8</td>\n",
       "      <td>Europe</td>\n",
       "    </tr>\n",
       "  </tbody>\n",
       "</table>\n",
       "</div>"
      ],
      "text/plain": [
       "  Country/Region     Cases  Deaths    PCases  PDeaths  Cases (+)  Deaths (+)  \\\n",
       "0             US  34533179  610952  34443761   610891      89418          61   \n",
       "1          India  31440951  421382  31411262   420967      29689         415   \n",
       "2         Brazil  19707662  550502  19688663   549924      18999         578   \n",
       "3         Russia   6071893  152069   6049215   151352      22678         717   \n",
       "4         France   6061802  111851   6056388   111806       5414          45   \n",
       "\n",
       "   Fatality Rate      Continent  \n",
       "0            1.8  North America  \n",
       "1            1.3           Asia  \n",
       "2            2.8  South America  \n",
       "3            2.5         Europe  \n",
       "4            1.8         Europe  "
      ]
     },
     "execution_count": 15,
     "metadata": {},
     "output_type": "execute_result"
    }
   ],
   "source": [
    "#hide\n",
    "df_table = (pd.DataFrame(dict(Cases=dfc_cases, Deaths=dfc_deaths, PCases=dfp_cases, PDeaths=dfp_deaths))\n",
    "             .sort_values(by=['Cases', 'Deaths'], ascending=[False, False])\n",
    "             .reset_index())\n",
    "df_table.rename(columns={'index': 'Country/Region'}, inplace=True)\n",
    "for c in 'Cases, Deaths'.split(', '):\n",
    "    df_table[f'{c} (+)'] = (df_table[c] - df_table[f'P{c}']).clip(0)  # DATA BUG\n",
    "df_table['Fatality Rate'] = (100 * df_table['Deaths'] / df_table['Cases']).round(1)\n",
    "df_table['Continent'] = df_table['Country/Region'].map(mapping['map.continent'])\n",
    "df_table.head(5)"
   ]
  },
  {
   "cell_type": "code",
   "execution_count": 16,
   "id": "fewer-occasion",
   "metadata": {
    "execution": {
     "iopub.execute_input": "2021-07-27T12:10:34.742509Z",
     "iopub.status.busy": "2021-07-27T12:10:34.741862Z",
     "iopub.status.idle": "2021-07-27T12:10:34.745260Z",
     "shell.execute_reply": "2021-07-27T12:10:34.744755Z"
    },
    "papermill": {
     "duration": 0.046565,
     "end_time": "2021-07-27T12:10:34.745384",
     "exception": false,
     "start_time": "2021-07-27T12:10:34.698819",
     "status": "completed"
    },
    "tags": []
   },
   "outputs": [],
   "source": [
    "#hide\n",
    "#delete problematic countries from table\n",
    "df_table = df_table[~df_table['Country/Region'].isin(['Cape Verde', 'Cruise Ship', 'Kosovo'])]"
   ]
  },
  {
   "cell_type": "code",
   "execution_count": 17,
   "id": "related-center",
   "metadata": {
    "execution": {
     "iopub.execute_input": "2021-07-27T12:10:34.839630Z",
     "iopub.status.busy": "2021-07-27T12:10:34.838816Z",
     "iopub.status.idle": "2021-07-27T12:10:34.841248Z",
     "shell.execute_reply": "2021-07-27T12:10:34.841767Z"
    },
    "papermill": {
     "duration": 0.059682,
     "end_time": "2021-07-27T12:10:34.841899",
     "exception": false,
     "start_time": "2021-07-27T12:10:34.782217",
     "status": "completed"
    },
    "tags": []
   },
   "outputs": [],
   "source": [
    "#hide\n",
    "metrics = [df_table.columns[index] for index in [1,2,5,6]]\n",
    "# s_china = df_table[df_table['Country/Region'].eq('China')][metrics].sum().add_prefix('China ')\n",
    "s_us = df_table[df_table['Country/Region'].eq('US')][metrics].sum().add_prefix('US ')\n",
    "s_eu = df_table[df_table['Continent'].eq('Europe')][metrics].sum().add_prefix('EU ')\n",
    "s_ind = df_table[df_table['Country/Region'].eq('India')][metrics].sum().add_prefix('India ')\n",
    "summary = {'updated': pd.to_datetime(dt_today), 'since': pd.to_datetime(dt_yday)}\n",
    "summary = {'updated': pd.to_datetime(dt_today), 'since': pd.to_datetime(dt_yday)}\n",
    "summary = {**summary, **df_table[metrics].sum(), **s_ind, **s_us, **s_eu}"
   ]
  },
  {
   "cell_type": "code",
   "execution_count": 18,
   "id": "engaging-syndrome",
   "metadata": {
    "execution": {
     "iopub.execute_input": "2021-07-27T12:10:34.917324Z",
     "iopub.status.busy": "2021-07-27T12:10:34.916777Z",
     "iopub.status.idle": "2021-07-27T12:10:34.929162Z",
     "shell.execute_reply": "2021-07-27T12:10:34.929754Z"
    },
    "papermill": {
     "duration": 0.053159,
     "end_time": "2021-07-27T12:10:34.929899",
     "exception": false,
     "start_time": "2021-07-27T12:10:34.876740",
     "status": "completed"
    },
    "tags": []
   },
   "outputs": [],
   "source": [
    "#hide\n",
    "dft_ct_new_cases = dft_cases.groupby(COL_REGION)[dt_cols].sum().diff(axis=1).fillna(0).astype(int)"
   ]
  },
  {
   "cell_type": "code",
   "execution_count": 19,
   "id": "neutral-assignment",
   "metadata": {
    "execution": {
     "iopub.execute_input": "2021-07-27T12:10:35.005843Z",
     "iopub.status.busy": "2021-07-27T12:10:35.005280Z",
     "iopub.status.idle": "2021-07-27T12:10:35.007607Z",
     "shell.execute_reply": "2021-07-27T12:10:35.007031Z"
    },
    "papermill": {
     "duration": 0.041892,
     "end_time": "2021-07-27T12:10:35.007754",
     "exception": false,
     "start_time": "2021-07-27T12:10:34.965862",
     "status": "completed"
    },
    "tags": []
   },
   "outputs": [],
   "source": [
    "#hide\n",
    "everydaycases = dft_ct_new_cases.cumsum(axis=1)"
   ]
  },
  {
   "cell_type": "code",
   "execution_count": 20,
   "id": "parliamentary-calgary",
   "metadata": {
    "execution": {
     "iopub.execute_input": "2021-07-27T12:10:35.088490Z",
     "iopub.status.busy": "2021-07-27T12:10:35.087875Z",
     "iopub.status.idle": "2021-07-27T12:10:35.811752Z",
     "shell.execute_reply": "2021-07-27T12:10:35.812285Z"
    },
    "papermill": {
     "duration": 0.767924,
     "end_time": "2021-07-27T12:10:35.812455",
     "exception": false,
     "start_time": "2021-07-27T12:10:35.044531",
     "status": "completed"
    },
    "tags": []
   },
   "outputs": [],
   "source": [
    "#hide\n",
    "import pandas as pd\n",
    "import matplotlib.pyplot as plt\n",
    "import matplotlib.ticker as ticker\n",
    "import matplotlib.animation as animation\n",
    "from IPython.display import HTML"
   ]
  },
  {
   "cell_type": "code",
   "execution_count": 21,
   "id": "lasting-extraction",
   "metadata": {
    "execution": {
     "iopub.execute_input": "2021-07-27T12:10:35.883193Z",
     "iopub.status.busy": "2021-07-27T12:10:35.882665Z",
     "iopub.status.idle": "2021-07-27T12:10:35.887461Z",
     "shell.execute_reply": "2021-07-27T12:10:35.887931Z"
    },
    "papermill": {
     "duration": 0.04332,
     "end_time": "2021-07-27T12:10:35.888058",
     "exception": false,
     "start_time": "2021-07-27T12:10:35.844738",
     "status": "completed"
    },
    "tags": []
   },
   "outputs": [],
   "source": [
    "#hide\n",
    "t = everydaycases.stack()"
   ]
  },
  {
   "cell_type": "code",
   "execution_count": 22,
   "id": "premier-sleeve",
   "metadata": {
    "execution": {
     "iopub.execute_input": "2021-07-27T12:10:35.956962Z",
     "iopub.status.busy": "2021-07-27T12:10:35.956225Z",
     "iopub.status.idle": "2021-07-27T12:10:35.963908Z",
     "shell.execute_reply": "2021-07-27T12:10:35.964417Z"
    },
    "papermill": {
     "duration": 0.045036,
     "end_time": "2021-07-27T12:10:35.964536",
     "exception": false,
     "start_time": "2021-07-27T12:10:35.919500",
     "status": "completed"
    },
    "tags": []
   },
   "outputs": [],
   "source": [
    "#hide\n",
    "g = t.reset_index(['Country/Region'])"
   ]
  },
  {
   "cell_type": "code",
   "execution_count": 23,
   "id": "distributed-pittsburgh",
   "metadata": {
    "execution": {
     "iopub.execute_input": "2021-07-27T12:10:36.035120Z",
     "iopub.status.busy": "2021-07-27T12:10:36.034438Z",
     "iopub.status.idle": "2021-07-27T12:10:36.036873Z",
     "shell.execute_reply": "2021-07-27T12:10:36.036446Z"
    },
    "papermill": {
     "duration": 0.038901,
     "end_time": "2021-07-27T12:10:36.036977",
     "exception": false,
     "start_time": "2021-07-27T12:10:35.998076",
     "status": "completed"
    },
    "tags": []
   },
   "outputs": [],
   "source": [
    "#hide\n",
    "g.index.name = 'date'"
   ]
  },
  {
   "cell_type": "code",
   "execution_count": 24,
   "id": "naked-donor",
   "metadata": {
    "execution": {
     "iopub.execute_input": "2021-07-27T12:10:36.114153Z",
     "iopub.status.busy": "2021-07-27T12:10:36.113469Z",
     "iopub.status.idle": "2021-07-27T12:10:36.115266Z",
     "shell.execute_reply": "2021-07-27T12:10:36.115835Z"
    },
    "papermill": {
     "duration": 0.042428,
     "end_time": "2021-07-27T12:10:36.115983",
     "exception": false,
     "start_time": "2021-07-27T12:10:36.073555",
     "status": "completed"
    },
    "tags": []
   },
   "outputs": [],
   "source": [
    "# #hide\n",
    "# g = g.reset_index(['date'])"
   ]
  },
  {
   "cell_type": "code",
   "execution_count": 25,
   "id": "incomplete-mustang",
   "metadata": {
    "execution": {
     "iopub.execute_input": "2021-07-27T12:10:36.187043Z",
     "iopub.status.busy": "2021-07-27T12:10:36.186490Z",
     "iopub.status.idle": "2021-07-27T12:10:36.188760Z",
     "shell.execute_reply": "2021-07-27T12:10:36.188291Z"
    },
    "papermill": {
     "duration": 0.039814,
     "end_time": "2021-07-27T12:10:36.188871",
     "exception": false,
     "start_time": "2021-07-27T12:10:36.149057",
     "status": "completed"
    },
    "tags": []
   },
   "outputs": [],
   "source": [
    "#hide\n",
    "# g.head()"
   ]
  },
  {
   "cell_type": "code",
   "execution_count": 26,
   "id": "specific-kruger",
   "metadata": {
    "execution": {
     "iopub.execute_input": "2021-07-27T12:10:36.256055Z",
     "iopub.status.busy": "2021-07-27T12:10:36.255437Z",
     "iopub.status.idle": "2021-07-27T12:10:36.257192Z",
     "shell.execute_reply": "2021-07-27T12:10:36.257729Z"
    },
    "papermill": {
     "duration": 0.038838,
     "end_time": "2021-07-27T12:10:36.257858",
     "exception": false,
     "start_time": "2021-07-27T12:10:36.219020",
     "status": "completed"
    },
    "tags": []
   },
   "outputs": [],
   "source": [
    "#hide\n",
    "# g.columns = ['date','country','cases']"
   ]
  },
  {
   "cell_type": "code",
   "execution_count": 27,
   "id": "tender-conversion",
   "metadata": {
    "execution": {
     "iopub.execute_input": "2021-07-27T12:10:36.336158Z",
     "iopub.status.busy": "2021-07-27T12:10:36.335492Z",
     "iopub.status.idle": "2021-07-27T12:10:36.338051Z",
     "shell.execute_reply": "2021-07-27T12:10:36.337362Z"
    },
    "papermill": {
     "duration": 0.042614,
     "end_time": "2021-07-27T12:10:36.338166",
     "exception": false,
     "start_time": "2021-07-27T12:10:36.295552",
     "status": "completed"
    },
    "tags": []
   },
   "outputs": [],
   "source": [
    "#hide\n",
    "# g['continent'] = g.country"
   ]
  },
  {
   "cell_type": "code",
   "execution_count": 28,
   "id": "substantial-wilderness",
   "metadata": {
    "execution": {
     "iopub.execute_input": "2021-07-27T12:10:36.414938Z",
     "iopub.status.busy": "2021-07-27T12:10:36.414354Z",
     "iopub.status.idle": "2021-07-27T12:10:36.416486Z",
     "shell.execute_reply": "2021-07-27T12:10:36.415898Z"
    },
    "papermill": {
     "duration": 0.04282,
     "end_time": "2021-07-27T12:10:36.416603",
     "exception": false,
     "start_time": "2021-07-27T12:10:36.373783",
     "status": "completed"
    },
    "tags": []
   },
   "outputs": [],
   "source": [
    "#hide\n",
    "# cols = list(g.columns.values)"
   ]
  },
  {
   "cell_type": "code",
   "execution_count": 29,
   "id": "solved-farming",
   "metadata": {
    "execution": {
     "iopub.execute_input": "2021-07-27T12:10:36.489123Z",
     "iopub.status.busy": "2021-07-27T12:10:36.488563Z",
     "iopub.status.idle": "2021-07-27T12:10:36.490018Z",
     "shell.execute_reply": "2021-07-27T12:10:36.490525Z"
    },
    "papermill": {
     "duration": 0.040286,
     "end_time": "2021-07-27T12:10:36.490651",
     "exception": false,
     "start_time": "2021-07-27T12:10:36.450365",
     "status": "completed"
    },
    "tags": []
   },
   "outputs": [],
   "source": [
    "#hide\n",
    "# cols.insert(0, cols.pop())"
   ]
  },
  {
   "cell_type": "code",
   "execution_count": 30,
   "id": "executed-adoption",
   "metadata": {
    "execution": {
     "iopub.execute_input": "2021-07-27T12:10:36.567350Z",
     "iopub.status.busy": "2021-07-27T12:10:36.566763Z",
     "iopub.status.idle": "2021-07-27T12:10:36.568233Z",
     "shell.execute_reply": "2021-07-27T12:10:36.568798Z"
    },
    "papermill": {
     "duration": 0.044839,
     "end_time": "2021-07-27T12:10:36.568930",
     "exception": false,
     "start_time": "2021-07-27T12:10:36.524091",
     "status": "completed"
    },
    "tags": []
   },
   "outputs": [],
   "source": [
    "#hide\n",
    "# g = g[cols]"
   ]
  },
  {
   "cell_type": "code",
   "execution_count": 31,
   "id": "subject-dublin",
   "metadata": {
    "execution": {
     "iopub.execute_input": "2021-07-27T12:10:36.649131Z",
     "iopub.status.busy": "2021-07-27T12:10:36.648501Z",
     "iopub.status.idle": "2021-07-27T12:10:36.650815Z",
     "shell.execute_reply": "2021-07-27T12:10:36.650214Z"
    },
    "papermill": {
     "duration": 0.043478,
     "end_time": "2021-07-27T12:10:36.650936",
     "exception": false,
     "start_time": "2021-07-27T12:10:36.607458",
     "status": "completed"
    },
    "tags": []
   },
   "outputs": [],
   "source": [
    "#hide\n",
    "# g['continent'] = g['continent'].map(mapping['map.continent'])"
   ]
  },
  {
   "cell_type": "code",
   "execution_count": 32,
   "id": "freelance-scout",
   "metadata": {
    "execution": {
     "iopub.execute_input": "2021-07-27T12:10:36.734194Z",
     "iopub.status.busy": "2021-07-27T12:10:36.733530Z",
     "iopub.status.idle": "2021-07-27T12:10:36.735986Z",
     "shell.execute_reply": "2021-07-27T12:10:36.735304Z"
    },
    "papermill": {
     "duration": 0.045627,
     "end_time": "2021-07-27T12:10:36.736252",
     "exception": false,
     "start_time": "2021-07-27T12:10:36.690625",
     "status": "completed"
    },
    "tags": []
   },
   "outputs": [],
   "source": [
    "#hide\n",
    "# g.head()"
   ]
  },
  {
   "cell_type": "code",
   "execution_count": 33,
   "id": "limited-engine",
   "metadata": {
    "execution": {
     "iopub.execute_input": "2021-07-27T12:10:36.822891Z",
     "iopub.status.busy": "2021-07-27T12:10:36.821329Z",
     "iopub.status.idle": "2021-07-27T12:10:36.823675Z",
     "shell.execute_reply": "2021-07-27T12:10:36.824257Z"
    },
    "papermill": {
     "duration": 0.048759,
     "end_time": "2021-07-27T12:10:36.824429",
     "exception": false,
     "start_time": "2021-07-27T12:10:36.775670",
     "status": "completed"
    },
    "tags": []
   },
   "outputs": [],
   "source": [
    "# hide\n",
    "# g['date'] = g['date'].astype('datetime64[ns]')"
   ]
  },
  {
   "cell_type": "code",
   "execution_count": 34,
   "id": "sophisticated-supervisor",
   "metadata": {
    "execution": {
     "iopub.execute_input": "2021-07-27T12:10:36.906518Z",
     "iopub.status.busy": "2021-07-27T12:10:36.905936Z",
     "iopub.status.idle": "2021-07-27T12:10:36.908003Z",
     "shell.execute_reply": "2021-07-27T12:10:36.908450Z"
    },
    "papermill": {
     "duration": 0.044771,
     "end_time": "2021-07-27T12:10:36.908581",
     "exception": false,
     "start_time": "2021-07-27T12:10:36.863810",
     "status": "completed"
    },
    "tags": []
   },
   "outputs": [],
   "source": [
    "#hide\n",
    "# g['date'] = g.date.dt.dayofyear"
   ]
  },
  {
   "cell_type": "code",
   "execution_count": 35,
   "id": "inside-dubai",
   "metadata": {
    "execution": {
     "iopub.execute_input": "2021-07-27T12:10:36.980123Z",
     "iopub.status.busy": "2021-07-27T12:10:36.979538Z",
     "iopub.status.idle": "2021-07-27T12:10:36.981683Z",
     "shell.execute_reply": "2021-07-27T12:10:36.981166Z"
    },
    "papermill": {
     "duration": 0.039916,
     "end_time": "2021-07-27T12:10:36.981792",
     "exception": false,
     "start_time": "2021-07-27T12:10:36.941876",
     "status": "completed"
    },
    "tags": []
   },
   "outputs": [],
   "source": [
    "#hide\n",
    "# g = g.rename(columns= {'continent':'group','country':'name','cases':'value'})"
   ]
  },
  {
   "cell_type": "code",
   "execution_count": 36,
   "id": "fleet-motorcycle",
   "metadata": {
    "execution": {
     "iopub.execute_input": "2021-07-27T12:10:37.048230Z",
     "iopub.status.busy": "2021-07-27T12:10:37.047535Z",
     "iopub.status.idle": "2021-07-27T12:10:37.049535Z",
     "shell.execute_reply": "2021-07-27T12:10:37.049971Z"
    },
    "papermill": {
     "duration": 0.036888,
     "end_time": "2021-07-27T12:10:37.050087",
     "exception": false,
     "start_time": "2021-07-27T12:10:37.013199",
     "status": "completed"
    },
    "tags": []
   },
   "outputs": [],
   "source": [
    "#hide\n",
    "# cols = ['name','group','day','value']"
   ]
  },
  {
   "cell_type": "code",
   "execution_count": 37,
   "id": "continued-sleeping",
   "metadata": {
    "execution": {
     "iopub.execute_input": "2021-07-27T12:10:37.120585Z",
     "iopub.status.busy": "2021-07-27T12:10:37.120019Z",
     "iopub.status.idle": "2021-07-27T12:10:37.122129Z",
     "shell.execute_reply": "2021-07-27T12:10:37.121569Z"
    },
    "papermill": {
     "duration": 0.039753,
     "end_time": "2021-07-27T12:10:37.122242",
     "exception": false,
     "start_time": "2021-07-27T12:10:37.082489",
     "status": "completed"
    },
    "tags": []
   },
   "outputs": [],
   "source": [
    "#hide\n",
    "# g.rename(columns= {'date':'day'},inplace = True)"
   ]
  },
  {
   "cell_type": "code",
   "execution_count": 38,
   "id": "major-fight",
   "metadata": {
    "execution": {
     "iopub.execute_input": "2021-07-27T12:10:37.193134Z",
     "iopub.status.busy": "2021-07-27T12:10:37.192561Z",
     "iopub.status.idle": "2021-07-27T12:10:37.194814Z",
     "shell.execute_reply": "2021-07-27T12:10:37.194330Z"
    },
    "papermill": {
     "duration": 0.03952,
     "end_time": "2021-07-27T12:10:37.194927",
     "exception": false,
     "start_time": "2021-07-27T12:10:37.155407",
     "status": "completed"
    },
    "tags": []
   },
   "outputs": [],
   "source": [
    "#hide\n",
    "# g = g[cols]"
   ]
  },
  {
   "cell_type": "code",
   "execution_count": 39,
   "id": "structured-mobile",
   "metadata": {
    "execution": {
     "iopub.execute_input": "2021-07-27T12:10:37.264937Z",
     "iopub.status.busy": "2021-07-27T12:10:37.264385Z",
     "iopub.status.idle": "2021-07-27T12:10:37.266696Z",
     "shell.execute_reply": "2021-07-27T12:10:37.266227Z"
    },
    "papermill": {
     "duration": 0.038229,
     "end_time": "2021-07-27T12:10:37.266806",
     "exception": false,
     "start_time": "2021-07-27T12:10:37.228577",
     "status": "completed"
    },
    "tags": []
   },
   "outputs": [],
   "source": [
    "# #hide\n",
    "# g = g[g.group.notna()]"
   ]
  },
  {
   "cell_type": "code",
   "execution_count": 40,
   "id": "determined-closing",
   "metadata": {
    "execution": {
     "iopub.execute_input": "2021-07-27T12:10:37.337726Z",
     "iopub.status.busy": "2021-07-27T12:10:37.337106Z",
     "iopub.status.idle": "2021-07-27T12:10:37.339454Z",
     "shell.execute_reply": "2021-07-27T12:10:37.339005Z"
    },
    "papermill": {
     "duration": 0.038238,
     "end_time": "2021-07-27T12:10:37.339564",
     "exception": false,
     "start_time": "2021-07-27T12:10:37.301326",
     "status": "completed"
    },
    "tags": []
   },
   "outputs": [],
   "source": [
    "# #hide\n",
    "# colors = dict(zip(\n",
    "#     [\"Oceania\", \"Europe\", \"Asia\", \"South America\", \"Middle East\", \"North America\", \"Africa\"],\n",
    "#     [\"#adb0ff\", \"#ffb3ff\", \"#90d595\", \"#e48381\", \"#aafbff\", \"#f7bb5f\", \"#eafb50\"]\n",
    "# ))\n",
    "# group_lk = g.set_index('name')['group'].to_dict()"
   ]
  },
  {
   "cell_type": "code",
   "execution_count": null,
   "id": "gross-drinking",
   "metadata": {
    "papermill": {
     "duration": 0.035094,
     "end_time": "2021-07-27T12:10:37.407653",
     "exception": false,
     "start_time": "2021-07-27T12:10:37.372559",
     "status": "completed"
    },
    "tags": []
   },
   "outputs": [],
   "source": []
  },
  {
   "cell_type": "code",
   "execution_count": 41,
   "id": "subject-macintosh",
   "metadata": {
    "execution": {
     "iopub.execute_input": "2021-07-27T12:10:37.476347Z",
     "iopub.status.busy": "2021-07-27T12:10:37.475784Z",
     "iopub.status.idle": "2021-07-27T12:10:37.477999Z",
     "shell.execute_reply": "2021-07-27T12:10:37.477483Z"
    },
    "papermill": {
     "duration": 0.037951,
     "end_time": "2021-07-27T12:10:37.478107",
     "exception": false,
     "start_time": "2021-07-27T12:10:37.440156",
     "status": "completed"
    },
    "tags": []
   },
   "outputs": [],
   "source": [
    "# #hide\n",
    "# fig, ax = plt.subplots(figsize=(15, 8))\n",
    "\n",
    "# def draw_barchart(current_day):\n",
    "#     dff = g[g['day'].eq(current_day)].sort_values(by='value', ascending=True).tail(10)\n",
    "#     ax.clear()\n",
    "#     ax.barh(dff['name'], dff['value'], color=[colors[group_lk[x]] for x in dff['name']])\n",
    "#     dx = dff['value'].max() / 200\n",
    "    \n",
    "#     for i, (value, name) in enumerate(zip(dff['value'], dff['name'])):\n",
    "#         ax.text(value-dx, i,     name,           size=14, weight=600, ha='right', va='bottom')\n",
    "#         ax.text(value-dx, i-.25, group_lk[name], size=10, color='#444444', ha='right', va='baseline')\n",
    "#         ax.text(value+dx, i,     f'{value:,.0f}',  size=14, ha='left',  va='center')\n",
    "#     ax.text(1, 0.4, current_day, transform=ax.transAxes, color='#777777', size=46, ha='right', weight=800)\n",
    "#     ax.text(0, 1.06, 'Population (thousands)', transform=ax.transAxes, size=12, color='#777777')\n",
    "#     ax.xaxis.set_major_formatter(ticker.StrMethodFormatter('{x:,.0f}'))\n",
    "#     ax.xaxis.set_ticks_position('top')\n",
    "#     ax.tick_params(axis='x', colors='#777777', labelsize=12)\n",
    "#     ax.set_yticks([])\n",
    "#     ax.margins(0, 0.01)\n",
    "#     ax.grid(which='major', axis='x', linestyle='-')\n",
    "#     ax.set_axisbelow(True)\n",
    "    \n",
    "#     ax.text(0, 1.15, 'Coronavirus',\n",
    "#             transform=ax.transAxes, size=24, weight=600, ha='left', va='top')\n",
    "# #     ax.text(1, 0, 'by @pratapvardhan; credit @jburnmurdoch', transform=ax.transAxes, color='#777777', ha='right',\n",
    "# #             bbox=dict(facecolor='white', alpha=0.8, edgecolor='white'))\n",
    "#     plt.box(False)"
   ]
  },
  {
   "cell_type": "code",
   "execution_count": 42,
   "id": "sexual-wages",
   "metadata": {
    "execution": {
     "iopub.execute_input": "2021-07-27T12:10:37.545118Z",
     "iopub.status.busy": "2021-07-27T12:10:37.544575Z",
     "iopub.status.idle": "2021-07-27T12:10:37.546477Z",
     "shell.execute_reply": "2021-07-27T12:10:37.546891Z"
    },
    "papermill": {
     "duration": 0.037479,
     "end_time": "2021-07-27T12:10:37.547008",
     "exception": false,
     "start_time": "2021-07-27T12:10:37.509529",
     "status": "completed"
    },
    "tags": []
   },
   "outputs": [],
   "source": [
    "# #hide_input\n",
    "# fig, ax = plt.subplots(figsize=(15, 8))\n",
    "# animator = animation.FuncAnimation(fig, draw_barchart, frames=range(g.day.values.min(), g.day.values.max()))\n",
    "# HTML(animator.to_jshtml())\n",
    "# # or use animator.to_html5_video() or animator.save() "
   ]
  },
  {
   "cell_type": "code",
   "execution_count": null,
   "id": "australian-container",
   "metadata": {
    "papermill": {
     "duration": 0.032602,
     "end_time": "2021-07-27T12:10:37.610362",
     "exception": false,
     "start_time": "2021-07-27T12:10:37.577760",
     "status": "completed"
    },
    "tags": []
   },
   "outputs": [],
   "source": []
  },
  {
   "cell_type": "code",
   "execution_count": null,
   "id": "mediterranean-pontiac",
   "metadata": {
    "papermill": {
     "duration": 0.037739,
     "end_time": "2021-07-27T12:10:37.680658",
     "exception": false,
     "start_time": "2021-07-27T12:10:37.642919",
     "status": "completed"
    },
    "tags": []
   },
   "outputs": [],
   "source": []
  },
  {
   "cell_type": "code",
   "execution_count": null,
   "id": "aging-legislature",
   "metadata": {
    "papermill": {
     "duration": 0.032759,
     "end_time": "2021-07-27T12:10:37.749443",
     "exception": false,
     "start_time": "2021-07-27T12:10:37.716684",
     "status": "completed"
    },
    "tags": []
   },
   "outputs": [],
   "source": []
  }
 ],
 "metadata": {
  "kernelspec": {
   "display_name": "Python 3",
   "language": "python",
   "name": "python3"
  },
  "language_info": {
   "codemirror_mode": {
    "name": "ipython",
    "version": 3
   },
   "file_extension": ".py",
   "mimetype": "text/x-python",
   "name": "python",
   "nbconvert_exporter": "python",
   "pygments_lexer": "ipython3",
   "version": "3.6.14"
  },
  "papermill": {
   "duration": 6.76994,
   "end_time": "2021-07-27T12:10:38.089947",
   "environment_variables": {},
   "exception": null,
   "input_path": "2020-03-21-covid19exp.ipynb",
   "output_path": "2020-03-21-covid19exp.ipynb",
   "parameters": {},
   "start_time": "2021-07-27T12:10:31.320007",
   "version": "2.0.0"
  }
 },
 "nbformat": 4,
 "nbformat_minor": 5
}