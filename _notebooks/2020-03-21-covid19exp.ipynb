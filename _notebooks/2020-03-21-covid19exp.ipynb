{
 "cells": [
  {
   "cell_type": "markdown",
   "id": "muslim-click",
   "metadata": {
    "papermill": {
     "duration": 0.034595,
     "end_time": "2022-08-24T12:18:18.138942",
     "exception": false,
     "start_time": "2022-08-24T12:18:18.104347",
     "status": "completed"
    },
    "tags": []
   },
   "source": [
    "# COVID-19 Case Race\n",
    "> A race chart to see rising cases around the world\n",
    "\n",
    "- author: Hargun Oberoi\n",
    "- image: images/covid-overview.png\n",
    "- hide: false\n",
    "- badges: false"
   ]
  },
  {
   "cell_type": "code",
   "execution_count": 1,
   "id": "proof-material",
   "metadata": {
    "execution": {
     "iopub.execute_input": "2022-08-24T12:18:18.208085Z",
     "iopub.status.busy": "2022-08-24T12:18:18.206730Z",
     "iopub.status.idle": "2022-08-24T12:18:18.514597Z",
     "shell.execute_reply": "2022-08-24T12:18:18.514092Z"
    },
    "papermill": {
     "duration": 0.345405,
     "end_time": "2022-08-24T12:18:18.514728",
     "exception": false,
     "start_time": "2022-08-24T12:18:18.169323",
     "status": "completed"
    },
    "tags": []
   },
   "outputs": [],
   "source": [
    "#hide\n",
    "import numpy as np\n",
    "import pandas as pd\n",
    "from jinja2 import Template\n",
    "from IPython.display import HTML"
   ]
  },
  {
   "cell_type": "code",
   "execution_count": 2,
   "id": "developed-terminology",
   "metadata": {
    "execution": {
     "iopub.execute_input": "2022-08-24T12:18:18.579064Z",
     "iopub.status.busy": "2022-08-24T12:18:18.578469Z",
     "iopub.status.idle": "2022-08-24T12:18:18.580414Z",
     "shell.execute_reply": "2022-08-24T12:18:18.580825Z"
    },
    "papermill": {
     "duration": 0.036069,
     "end_time": "2022-08-24T12:18:18.580936",
     "exception": false,
     "start_time": "2022-08-24T12:18:18.544867",
     "status": "completed"
    },
    "tags": []
   },
   "outputs": [],
   "source": [
    "#hide\n",
    "\n",
    "# FETCH\n",
    "base_url = 'https://raw.githubusercontent.com/pratapvardhan/notebooks/master/covid19/'\n",
    "paths = {\n",
    "    'mapping': base_url + 'mapping_countries.csv',\n",
    "    'overview': base_url + 'overview.tpl'\n",
    "}"
   ]
  },
  {
   "cell_type": "code",
   "execution_count": 3,
   "id": "dynamic-saver",
   "metadata": {
    "execution": {
     "iopub.execute_input": "2022-08-24T12:18:18.648532Z",
     "iopub.status.busy": "2022-08-24T12:18:18.647339Z",
     "iopub.status.idle": "2022-08-24T12:18:18.651227Z",
     "shell.execute_reply": "2022-08-24T12:18:18.651667Z"
    },
    "papermill": {
     "duration": 0.04128,
     "end_time": "2022-08-24T12:18:18.651777",
     "exception": false,
     "start_time": "2022-08-24T12:18:18.610497",
     "status": "completed"
    },
    "tags": []
   },
   "outputs": [
    {
     "data": {
      "text/plain": [
       "'https://raw.githubusercontent.com/pratapvardhan/notebooks/master/covid19/mapping_countries.csv'"
      ]
     },
     "execution_count": 3,
     "metadata": {},
     "output_type": "execute_result"
    }
   ],
   "source": [
    "#hide\n",
    "paths['mapping']"
   ]
  },
  {
   "cell_type": "code",
   "execution_count": 4,
   "id": "urban-software",
   "metadata": {
    "execution": {
     "iopub.execute_input": "2022-08-24T12:18:18.716488Z",
     "iopub.status.busy": "2022-08-24T12:18:18.715916Z",
     "iopub.status.idle": "2022-08-24T12:18:18.718715Z",
     "shell.execute_reply": "2022-08-24T12:18:18.718216Z"
    },
    "papermill": {
     "duration": 0.037095,
     "end_time": "2022-08-24T12:18:18.718815",
     "exception": false,
     "start_time": "2022-08-24T12:18:18.681720",
     "status": "completed"
    },
    "tags": []
   },
   "outputs": [],
   "source": [
    "#hide\n",
    "def get_mappings(url):\n",
    "    df = pd.read_csv(url)\n",
    "    return {\n",
    "        'df': df,\n",
    "        'replace.country': dict(df.dropna(subset=['Name']).set_index('Country')['Name']),\n",
    "        'map.continent': dict(df.set_index('Name')['Continent'])\n",
    "    }"
   ]
  },
  {
   "cell_type": "code",
   "execution_count": 5,
   "id": "intimate-machinery",
   "metadata": {
    "execution": {
     "iopub.execute_input": "2022-08-24T12:18:18.783239Z",
     "iopub.status.busy": "2022-08-24T12:18:18.782668Z",
     "iopub.status.idle": "2022-08-24T12:18:18.825486Z",
     "shell.execute_reply": "2022-08-24T12:18:18.825942Z"
    },
    "papermill": {
     "duration": 0.077466,
     "end_time": "2022-08-24T12:18:18.826054",
     "exception": false,
     "start_time": "2022-08-24T12:18:18.748588",
     "status": "completed"
    },
    "tags": []
   },
   "outputs": [],
   "source": [
    "#hide\n",
    "mapping = get_mappings(paths['mapping'])"
   ]
  },
  {
   "cell_type": "code",
   "execution_count": 6,
   "id": "certified-tactics",
   "metadata": {
    "execution": {
     "iopub.execute_input": "2022-08-24T12:18:18.890505Z",
     "iopub.status.busy": "2022-08-24T12:18:18.889944Z",
     "iopub.status.idle": "2022-08-24T12:18:18.891861Z",
     "shell.execute_reply": "2022-08-24T12:18:18.892271Z"
    },
    "papermill": {
     "duration": 0.036248,
     "end_time": "2022-08-24T12:18:18.892379",
     "exception": false,
     "start_time": "2022-08-24T12:18:18.856131",
     "status": "completed"
    },
    "tags": []
   },
   "outputs": [],
   "source": [
    "#hide\n",
    "def get_template(path):\n",
    "    from urllib.parse import urlparse\n",
    "    if bool(urlparse(path).netloc):\n",
    "        from urllib.request import urlopen\n",
    "        return urlopen(path).read().decode('utf8')\n",
    "    return open(path).read()"
   ]
  },
  {
   "cell_type": "code",
   "execution_count": 7,
   "id": "realistic-blast",
   "metadata": {
    "execution": {
     "iopub.execute_input": "2022-08-24T12:18:18.956265Z",
     "iopub.status.busy": "2022-08-24T12:18:18.955703Z",
     "iopub.status.idle": "2022-08-24T12:18:18.958027Z",
     "shell.execute_reply": "2022-08-24T12:18:18.957594Z"
    },
    "papermill": {
     "duration": 0.035941,
     "end_time": "2022-08-24T12:18:18.958122",
     "exception": false,
     "start_time": "2022-08-24T12:18:18.922181",
     "status": "completed"
    },
    "tags": []
   },
   "outputs": [],
   "source": [
    "#hide\n",
    "def get_frame(name):\n",
    "    url = (\n",
    "        'https://raw.githubusercontent.com/CSSEGISandData/COVID-19/master/csse_covid_19_data/'\n",
    "        f'csse_covid_19_time_series/time_series_covid19_{name}_global.csv')\n",
    "    df = pd.read_csv(url)\n",
    "    # rename countries\n",
    "    df['Country/Region'] = df['Country/Region'].replace(mapping['replace.country'])\n",
    "    return df"
   ]
  },
  {
   "cell_type": "code",
   "execution_count": 8,
   "id": "affiliated-characterization",
   "metadata": {
    "execution": {
     "iopub.execute_input": "2022-08-24T12:18:19.022825Z",
     "iopub.status.busy": "2022-08-24T12:18:19.022230Z",
     "iopub.status.idle": "2022-08-24T12:18:19.024690Z",
     "shell.execute_reply": "2022-08-24T12:18:19.024151Z"
    },
    "papermill": {
     "duration": 0.036709,
     "end_time": "2022-08-24T12:18:19.024786",
     "exception": false,
     "start_time": "2022-08-24T12:18:18.988077",
     "status": "completed"
    },
    "tags": []
   },
   "outputs": [],
   "source": [
    "#hide\n",
    "def get_dates(df):\n",
    "    dt_cols = df.columns[~df.columns.isin(['Province/State', 'Country/Region', 'Lat', 'Long'])]\n",
    "    LAST_DATE_I = -1\n",
    "    # sometimes last column may be empty, then go backwards\n",
    "    for i in range(-1, -len(dt_cols), -1):\n",
    "        if not df[dt_cols[i]].fillna(0).eq(0).all():\n",
    "            LAST_DATE_I = i\n",
    "            break\n",
    "    return LAST_DATE_I, dt_cols"
   ]
  },
  {
   "cell_type": "code",
   "execution_count": 9,
   "id": "recent-optimization",
   "metadata": {
    "execution": {
     "iopub.execute_input": "2022-08-24T12:18:19.088719Z",
     "iopub.status.busy": "2022-08-24T12:18:19.088103Z",
     "iopub.status.idle": "2022-08-24T12:18:19.542647Z",
     "shell.execute_reply": "2022-08-24T12:18:19.542126Z"
    },
    "papermill": {
     "duration": 0.48827,
     "end_time": "2022-08-24T12:18:19.542763",
     "exception": false,
     "start_time": "2022-08-24T12:18:19.054493",
     "status": "completed"
    },
    "tags": []
   },
   "outputs": [],
   "source": [
    "#hide\n",
    "COL_REGION = 'Country/Region'\n",
    "# Confirmed, Recovered, Deaths\n",
    "df = get_frame('confirmed')\n",
    "# dft_: timeseries, dfc_: today country agg\n",
    "dft_cases = df\n",
    "dft_deaths = get_frame('deaths')\n",
    "dft_recovered = get_frame('recovered')\n",
    "LAST_DATE_I, dt_cols = get_dates(df)"
   ]
  },
  {
   "cell_type": "code",
   "execution_count": 10,
   "id": "absolute-copper",
   "metadata": {
    "execution": {
     "iopub.execute_input": "2022-08-24T12:18:19.607947Z",
     "iopub.status.busy": "2022-08-24T12:18:19.607378Z",
     "iopub.status.idle": "2022-08-24T12:18:19.609901Z",
     "shell.execute_reply": "2022-08-24T12:18:19.609452Z"
    },
    "papermill": {
     "duration": 0.036936,
     "end_time": "2022-08-24T12:18:19.610001",
     "exception": false,
     "start_time": "2022-08-24T12:18:19.573065",
     "status": "completed"
    },
    "tags": []
   },
   "outputs": [],
   "source": [
    "#hide\n",
    "LAST_DATE_I, dt_cols = get_dates(df)\n",
    "dt_today =dt_cols[LAST_DATE_I]\n",
    "# dt_5day = dt_cols[LAST_DATE_I - 5]\n",
    "dt_yday = dt_cols[LAST_DATE_I - 1]"
   ]
  },
  {
   "cell_type": "code",
   "execution_count": 11,
   "id": "restricted-sheriff",
   "metadata": {
    "execution": {
     "iopub.execute_input": "2022-08-24T12:18:19.675272Z",
     "iopub.status.busy": "2022-08-24T12:18:19.674713Z",
     "iopub.status.idle": "2022-08-24T12:18:19.681490Z",
     "shell.execute_reply": "2022-08-24T12:18:19.681914Z"
    },
    "papermill": {
     "duration": 0.042182,
     "end_time": "2022-08-24T12:18:19.682033",
     "exception": false,
     "start_time": "2022-08-24T12:18:19.639851",
     "status": "completed"
    },
    "tags": []
   },
   "outputs": [],
   "source": [
    "#hide\n",
    "dfc_cases = dft_cases.groupby(COL_REGION)[dt_today].sum()\n",
    "dfc_deaths = dft_deaths.groupby(COL_REGION)[dt_today].sum()\n",
    "# dfp_cases = dft_cases.groupby(COL_REGION)[dt_5day].sum()\n",
    "# dfp_deaths = dft_deaths.groupby(COL_REGION)[dt_5day].sum()\n",
    "dfp_cases = dft_cases.groupby(COL_REGION)[dt_yday].sum()\n",
    "dfp_deaths = dft_deaths.groupby(COL_REGION)[dt_yday].sum()"
   ]
  },
  {
   "cell_type": "code",
   "execution_count": 12,
   "id": "deluxe-hepatitis",
   "metadata": {
    "execution": {
     "iopub.execute_input": "2022-08-24T12:18:19.747422Z",
     "iopub.status.busy": "2022-08-24T12:18:19.746861Z",
     "iopub.status.idle": "2022-08-24T12:18:19.751062Z",
     "shell.execute_reply": "2022-08-24T12:18:19.751497Z"
    },
    "papermill": {
     "duration": 0.039511,
     "end_time": "2022-08-24T12:18:19.751608",
     "exception": false,
     "start_time": "2022-08-24T12:18:19.712097",
     "status": "completed"
    },
    "tags": []
   },
   "outputs": [],
   "source": [
    "#hide\n",
    "df_table = (pd.DataFrame(dict(Cases = dfc_cases, Deaths = dfc_deaths, PCases = dfp_cases, PDeaths = dfp_deaths))\n",
    "            .sort_values(by = ['Cases','Deaths'], ascending = [False, False])\n",
    "            .reset_index())"
   ]
  },
  {
   "cell_type": "code",
   "execution_count": 13,
   "id": "educational-chancellor",
   "metadata": {
    "execution": {
     "iopub.execute_input": "2022-08-24T12:18:19.823405Z",
     "iopub.status.busy": "2022-08-24T12:18:19.822835Z",
     "iopub.status.idle": "2022-08-24T12:18:19.834833Z",
     "shell.execute_reply": "2022-08-24T12:18:19.834355Z"
    },
    "papermill": {
     "duration": 0.053436,
     "end_time": "2022-08-24T12:18:19.834933",
     "exception": false,
     "start_time": "2022-08-24T12:18:19.781497",
     "status": "completed"
    },
    "tags": []
   },
   "outputs": [
    {
     "data": {
      "text/html": [
       "<div>\n",
       "<style scoped>\n",
       "    .dataframe tbody tr th:only-of-type {\n",
       "        vertical-align: middle;\n",
       "    }\n",
       "\n",
       "    .dataframe tbody tr th {\n",
       "        vertical-align: top;\n",
       "    }\n",
       "\n",
       "    .dataframe thead th {\n",
       "        text-align: right;\n",
       "    }\n",
       "</style>\n",
       "<table border=\"1\" class=\"dataframe\">\n",
       "  <thead>\n",
       "    <tr style=\"text-align: right;\">\n",
       "      <th></th>\n",
       "      <th>Country/Region</th>\n",
       "      <th>Cases</th>\n",
       "      <th>Deaths</th>\n",
       "      <th>PCases</th>\n",
       "      <th>PDeaths</th>\n",
       "      <th>Cases (+)</th>\n",
       "      <th>Deaths (+)</th>\n",
       "      <th>Fatality Rate</th>\n",
       "      <th>Continent</th>\n",
       "    </tr>\n",
       "  </thead>\n",
       "  <tbody>\n",
       "    <tr>\n",
       "      <th>0</th>\n",
       "      <td>US</td>\n",
       "      <td>93754248</td>\n",
       "      <td>1041466</td>\n",
       "      <td>93623893</td>\n",
       "      <td>1040898</td>\n",
       "      <td>130355</td>\n",
       "      <td>568</td>\n",
       "      <td>1.11</td>\n",
       "      <td>North America</td>\n",
       "    </tr>\n",
       "    <tr>\n",
       "      <th>1</th>\n",
       "      <td>India</td>\n",
       "      <td>44368195</td>\n",
       "      <td>527452</td>\n",
       "      <td>44357546</td>\n",
       "      <td>527416</td>\n",
       "      <td>10649</td>\n",
       "      <td>36</td>\n",
       "      <td>1.19</td>\n",
       "      <td>Asia</td>\n",
       "    </tr>\n",
       "    <tr>\n",
       "      <th>2</th>\n",
       "      <td>France</td>\n",
       "      <td>34603400</td>\n",
       "      <td>154745</td>\n",
       "      <td>34573992</td>\n",
       "      <td>154657</td>\n",
       "      <td>29408</td>\n",
       "      <td>88</td>\n",
       "      <td>0.45</td>\n",
       "      <td>Europe</td>\n",
       "    </tr>\n",
       "    <tr>\n",
       "      <th>3</th>\n",
       "      <td>Brazil</td>\n",
       "      <td>34284864</td>\n",
       "      <td>682549</td>\n",
       "      <td>34284864</td>\n",
       "      <td>682549</td>\n",
       "      <td>0</td>\n",
       "      <td>0</td>\n",
       "      <td>1.99</td>\n",
       "      <td>South America</td>\n",
       "    </tr>\n",
       "    <tr>\n",
       "      <th>4</th>\n",
       "      <td>Germany</td>\n",
       "      <td>31921578</td>\n",
       "      <td>146797</td>\n",
       "      <td>31868639</td>\n",
       "      <td>146650</td>\n",
       "      <td>52939</td>\n",
       "      <td>147</td>\n",
       "      <td>0.46</td>\n",
       "      <td>Europe</td>\n",
       "    </tr>\n",
       "  </tbody>\n",
       "</table>\n",
       "</div>"
      ],
      "text/plain": [
       "  Country/Region     Cases   Deaths    PCases  PDeaths  Cases (+)  Deaths (+)  \\\n",
       "0             US  93754248  1041466  93623893  1040898     130355         568   \n",
       "1          India  44368195   527452  44357546   527416      10649          36   \n",
       "2         France  34603400   154745  34573992   154657      29408          88   \n",
       "3         Brazil  34284864   682549  34284864   682549          0           0   \n",
       "4        Germany  31921578   146797  31868639   146650      52939         147   \n",
       "\n",
       "   Fatality Rate      Continent  \n",
       "0           1.11  North America  \n",
       "1           1.19           Asia  \n",
       "2           0.45         Europe  \n",
       "3           1.99  South America  \n",
       "4           0.46         Europe  "
      ]
     },
     "execution_count": 13,
     "metadata": {},
     "output_type": "execute_result"
    }
   ],
   "source": [
    "#hide\n",
    "for c in 'Cases, Deaths'.split(', '):\n",
    "    df_table[f'{c} (+)'] = (df_table[c] - df_table[f'P{c}']).clip(0)\n",
    "    #Clip ça veut dire, les chiffres negatif sont interdit\n",
    "df_table['Fatality Rate'] = (100* df_table['Deaths']/ df_table['Cases']).round(2)\n",
    "df_table['Continent'] = df_table['Country/Region'].map(mapping['map.continent'])\n",
    "df_table.head(5)"
   ]
  },
  {
   "cell_type": "code",
   "execution_count": 14,
   "id": "aboriginal-bulgaria",
   "metadata": {
    "execution": {
     "iopub.execute_input": "2022-08-24T12:18:19.901562Z",
     "iopub.status.busy": "2022-08-24T12:18:19.901000Z",
     "iopub.status.idle": "2022-08-24T12:18:19.902785Z",
     "shell.execute_reply": "2022-08-24T12:18:19.903212Z"
    },
    "papermill": {
     "duration": 0.037943,
     "end_time": "2022-08-24T12:18:19.903330",
     "exception": false,
     "start_time": "2022-08-24T12:18:19.865387",
     "status": "completed"
    },
    "tags": []
   },
   "outputs": [],
   "source": [
    "#hide\n",
    "#delete problematic countries from table\n",
    "df_table = df_table[~df_table['Country/Region'].isin(['Cape Verde', 'Cruise Ship', 'Kosovo'])]"
   ]
  },
  {
   "cell_type": "code",
   "execution_count": 15,
   "id": "fantastic-effect",
   "metadata": {
    "execution": {
     "iopub.execute_input": "2022-08-24T12:18:19.971170Z",
     "iopub.status.busy": "2022-08-24T12:18:19.970617Z",
     "iopub.status.idle": "2022-08-24T12:18:19.987687Z",
     "shell.execute_reply": "2022-08-24T12:18:19.987145Z"
    },
    "papermill": {
     "duration": 0.054232,
     "end_time": "2022-08-24T12:18:19.987786",
     "exception": false,
     "start_time": "2022-08-24T12:18:19.933554",
     "status": "completed"
    },
    "tags": []
   },
   "outputs": [
    {
     "data": {
      "text/html": [
       "<div>\n",
       "<style scoped>\n",
       "    .dataframe tbody tr th:only-of-type {\n",
       "        vertical-align: middle;\n",
       "    }\n",
       "\n",
       "    .dataframe tbody tr th {\n",
       "        vertical-align: top;\n",
       "    }\n",
       "\n",
       "    .dataframe thead th {\n",
       "        text-align: right;\n",
       "    }\n",
       "</style>\n",
       "<table border=\"1\" class=\"dataframe\">\n",
       "  <thead>\n",
       "    <tr style=\"text-align: right;\">\n",
       "      <th></th>\n",
       "      <th>Country/Region</th>\n",
       "      <th>Cases</th>\n",
       "      <th>Deaths</th>\n",
       "      <th>PCases</th>\n",
       "      <th>PDeaths</th>\n",
       "      <th>Cases (+)</th>\n",
       "      <th>Deaths (+)</th>\n",
       "      <th>Fatality Rate</th>\n",
       "      <th>Continent</th>\n",
       "    </tr>\n",
       "  </thead>\n",
       "  <tbody>\n",
       "    <tr>\n",
       "      <th>0</th>\n",
       "      <td>US</td>\n",
       "      <td>93754248</td>\n",
       "      <td>1041466</td>\n",
       "      <td>93623893</td>\n",
       "      <td>1040898</td>\n",
       "      <td>130355</td>\n",
       "      <td>568</td>\n",
       "      <td>1.1</td>\n",
       "      <td>North America</td>\n",
       "    </tr>\n",
       "    <tr>\n",
       "      <th>1</th>\n",
       "      <td>India</td>\n",
       "      <td>44368195</td>\n",
       "      <td>527452</td>\n",
       "      <td>44357546</td>\n",
       "      <td>527416</td>\n",
       "      <td>10649</td>\n",
       "      <td>36</td>\n",
       "      <td>1.2</td>\n",
       "      <td>Asia</td>\n",
       "    </tr>\n",
       "    <tr>\n",
       "      <th>2</th>\n",
       "      <td>France</td>\n",
       "      <td>34603400</td>\n",
       "      <td>154745</td>\n",
       "      <td>34573992</td>\n",
       "      <td>154657</td>\n",
       "      <td>29408</td>\n",
       "      <td>88</td>\n",
       "      <td>0.4</td>\n",
       "      <td>Europe</td>\n",
       "    </tr>\n",
       "    <tr>\n",
       "      <th>3</th>\n",
       "      <td>Brazil</td>\n",
       "      <td>34284864</td>\n",
       "      <td>682549</td>\n",
       "      <td>34284864</td>\n",
       "      <td>682549</td>\n",
       "      <td>0</td>\n",
       "      <td>0</td>\n",
       "      <td>2.0</td>\n",
       "      <td>South America</td>\n",
       "    </tr>\n",
       "    <tr>\n",
       "      <th>4</th>\n",
       "      <td>Germany</td>\n",
       "      <td>31921578</td>\n",
       "      <td>146797</td>\n",
       "      <td>31868639</td>\n",
       "      <td>146650</td>\n",
       "      <td>52939</td>\n",
       "      <td>147</td>\n",
       "      <td>0.5</td>\n",
       "      <td>Europe</td>\n",
       "    </tr>\n",
       "  </tbody>\n",
       "</table>\n",
       "</div>"
      ],
      "text/plain": [
       "  Country/Region     Cases   Deaths    PCases  PDeaths  Cases (+)  Deaths (+)  \\\n",
       "0             US  93754248  1041466  93623893  1040898     130355         568   \n",
       "1          India  44368195   527452  44357546   527416      10649          36   \n",
       "2         France  34603400   154745  34573992   154657      29408          88   \n",
       "3         Brazil  34284864   682549  34284864   682549          0           0   \n",
       "4        Germany  31921578   146797  31868639   146650      52939         147   \n",
       "\n",
       "   Fatality Rate      Continent  \n",
       "0            1.1  North America  \n",
       "1            1.2           Asia  \n",
       "2            0.4         Europe  \n",
       "3            2.0  South America  \n",
       "4            0.5         Europe  "
      ]
     },
     "execution_count": 15,
     "metadata": {},
     "output_type": "execute_result"
    }
   ],
   "source": [
    "#hide\n",
    "df_table = (pd.DataFrame(dict(Cases=dfc_cases, Deaths=dfc_deaths, PCases=dfp_cases, PDeaths=dfp_deaths))\n",
    "             .sort_values(by=['Cases', 'Deaths'], ascending=[False, False])\n",
    "             .reset_index())\n",
    "df_table.rename(columns={'index': 'Country/Region'}, inplace=True)\n",
    "for c in 'Cases, Deaths'.split(', '):\n",
    "    df_table[f'{c} (+)'] = (df_table[c] - df_table[f'P{c}']).clip(0)  # DATA BUG\n",
    "df_table['Fatality Rate'] = (100 * df_table['Deaths'] / df_table['Cases']).round(1)\n",
    "df_table['Continent'] = df_table['Country/Region'].map(mapping['map.continent'])\n",
    "df_table.head(5)"
   ]
  },
  {
   "cell_type": "code",
   "execution_count": 16,
   "id": "fewer-occasion",
   "metadata": {
    "execution": {
     "iopub.execute_input": "2022-08-24T12:18:20.054130Z",
     "iopub.status.busy": "2022-08-24T12:18:20.053579Z",
     "iopub.status.idle": "2022-08-24T12:18:20.056265Z",
     "shell.execute_reply": "2022-08-24T12:18:20.055828Z"
    },
    "papermill": {
     "duration": 0.037592,
     "end_time": "2022-08-24T12:18:20.056362",
     "exception": false,
     "start_time": "2022-08-24T12:18:20.018770",
     "status": "completed"
    },
    "tags": []
   },
   "outputs": [],
   "source": [
    "#hide\n",
    "#delete problematic countries from table\n",
    "df_table = df_table[~df_table['Country/Region'].isin(['Cape Verde', 'Cruise Ship', 'Kosovo'])]"
   ]
  },
  {
   "cell_type": "code",
   "execution_count": 17,
   "id": "related-center",
   "metadata": {
    "execution": {
     "iopub.execute_input": "2022-08-24T12:18:20.127722Z",
     "iopub.status.busy": "2022-08-24T12:18:20.127170Z",
     "iopub.status.idle": "2022-08-24T12:18:20.136042Z",
     "shell.execute_reply": "2022-08-24T12:18:20.136462Z"
    },
    "papermill": {
     "duration": 0.049378,
     "end_time": "2022-08-24T12:18:20.136577",
     "exception": false,
     "start_time": "2022-08-24T12:18:20.087199",
     "status": "completed"
    },
    "tags": []
   },
   "outputs": [],
   "source": [
    "#hide\n",
    "metrics = [df_table.columns[index] for index in [1,2,5,6]]\n",
    "# s_china = df_table[df_table['Country/Region'].eq('China')][metrics].sum().add_prefix('China ')\n",
    "s_us = df_table[df_table['Country/Region'].eq('US')][metrics].sum().add_prefix('US ')\n",
    "s_eu = df_table[df_table['Continent'].eq('Europe')][metrics].sum().add_prefix('EU ')\n",
    "s_ind = df_table[df_table['Country/Region'].eq('India')][metrics].sum().add_prefix('India ')\n",
    "summary = {'updated': pd.to_datetime(dt_today), 'since': pd.to_datetime(dt_yday)}\n",
    "summary = {'updated': pd.to_datetime(dt_today), 'since': pd.to_datetime(dt_yday)}\n",
    "summary = {**summary, **df_table[metrics].sum(), **s_ind, **s_us, **s_eu}"
   ]
  },
  {
   "cell_type": "code",
   "execution_count": 18,
   "id": "engaging-syndrome",
   "metadata": {
    "execution": {
     "iopub.execute_input": "2022-08-24T12:18:20.202985Z",
     "iopub.status.busy": "2022-08-24T12:18:20.202405Z",
     "iopub.status.idle": "2022-08-24T12:18:20.220375Z",
     "shell.execute_reply": "2022-08-24T12:18:20.219838Z"
    },
    "papermill": {
     "duration": 0.05291,
     "end_time": "2022-08-24T12:18:20.220476",
     "exception": false,
     "start_time": "2022-08-24T12:18:20.167566",
     "status": "completed"
    },
    "tags": []
   },
   "outputs": [],
   "source": [
    "#hide\n",
    "dft_ct_new_cases = dft_cases.groupby(COL_REGION)[dt_cols].sum().diff(axis=1).fillna(0).astype(int)"
   ]
  },
  {
   "cell_type": "code",
   "execution_count": 19,
   "id": "neutral-assignment",
   "metadata": {
    "execution": {
     "iopub.execute_input": "2022-08-24T12:18:20.287164Z",
     "iopub.status.busy": "2022-08-24T12:18:20.286616Z",
     "iopub.status.idle": "2022-08-24T12:18:20.288851Z",
     "shell.execute_reply": "2022-08-24T12:18:20.289269Z"
    },
    "papermill": {
     "duration": 0.038126,
     "end_time": "2022-08-24T12:18:20.289380",
     "exception": false,
     "start_time": "2022-08-24T12:18:20.251254",
     "status": "completed"
    },
    "tags": []
   },
   "outputs": [],
   "source": [
    "#hide\n",
    "everydaycases = dft_ct_new_cases.cumsum(axis=1)"
   ]
  },
  {
   "cell_type": "code",
   "execution_count": 20,
   "id": "parliamentary-calgary",
   "metadata": {
    "execution": {
     "iopub.execute_input": "2022-08-24T12:18:20.354504Z",
     "iopub.status.busy": "2022-08-24T12:18:20.353956Z",
     "iopub.status.idle": "2022-08-24T12:18:20.951643Z",
     "shell.execute_reply": "2022-08-24T12:18:20.951052Z"
    },
    "papermill": {
     "duration": 0.631623,
     "end_time": "2022-08-24T12:18:20.951754",
     "exception": false,
     "start_time": "2022-08-24T12:18:20.320131",
     "status": "completed"
    },
    "tags": []
   },
   "outputs": [],
   "source": [
    "#hide\n",
    "import pandas as pd\n",
    "import matplotlib.pyplot as plt\n",
    "import matplotlib.ticker as ticker\n",
    "import matplotlib.animation as animation\n",
    "from IPython.display import HTML"
   ]
  },
  {
   "cell_type": "code",
   "execution_count": 21,
   "id": "lasting-extraction",
   "metadata": {
    "execution": {
     "iopub.execute_input": "2022-08-24T12:18:21.019513Z",
     "iopub.status.busy": "2022-08-24T12:18:21.018956Z",
     "iopub.status.idle": "2022-08-24T12:18:21.025817Z",
     "shell.execute_reply": "2022-08-24T12:18:21.025363Z"
    },
    "papermill": {
     "duration": 0.043257,
     "end_time": "2022-08-24T12:18:21.025917",
     "exception": false,
     "start_time": "2022-08-24T12:18:20.982660",
     "status": "completed"
    },
    "tags": []
   },
   "outputs": [],
   "source": [
    "#hide\n",
    "t = everydaycases.stack()"
   ]
  },
  {
   "cell_type": "code",
   "execution_count": 22,
   "id": "premier-sleeve",
   "metadata": {
    "execution": {
     "iopub.execute_input": "2022-08-24T12:18:21.091516Z",
     "iopub.status.busy": "2022-08-24T12:18:21.090955Z",
     "iopub.status.idle": "2022-08-24T12:18:21.102042Z",
     "shell.execute_reply": "2022-08-24T12:18:21.101488Z"
    },
    "papermill": {
     "duration": 0.045343,
     "end_time": "2022-08-24T12:18:21.102144",
     "exception": false,
     "start_time": "2022-08-24T12:18:21.056801",
     "status": "completed"
    },
    "tags": []
   },
   "outputs": [],
   "source": [
    "#hide\n",
    "g = t.reset_index(['Country/Region'])"
   ]
  },
  {
   "cell_type": "code",
   "execution_count": 23,
   "id": "distributed-pittsburgh",
   "metadata": {
    "execution": {
     "iopub.execute_input": "2022-08-24T12:18:21.167196Z",
     "iopub.status.busy": "2022-08-24T12:18:21.166633Z",
     "iopub.status.idle": "2022-08-24T12:18:21.169080Z",
     "shell.execute_reply": "2022-08-24T12:18:21.168659Z"
    },
    "papermill": {
     "duration": 0.036265,
     "end_time": "2022-08-24T12:18:21.169180",
     "exception": false,
     "start_time": "2022-08-24T12:18:21.132915",
     "status": "completed"
    },
    "tags": []
   },
   "outputs": [],
   "source": [
    "#hide\n",
    "g.index.name = 'date'"
   ]
  },
  {
   "cell_type": "code",
   "execution_count": 24,
   "id": "naked-donor",
   "metadata": {
    "execution": {
     "iopub.execute_input": "2022-08-24T12:18:21.235432Z",
     "iopub.status.busy": "2022-08-24T12:18:21.234867Z",
     "iopub.status.idle": "2022-08-24T12:18:21.237276Z",
     "shell.execute_reply": "2022-08-24T12:18:21.236756Z"
    },
    "papermill": {
     "duration": 0.037272,
     "end_time": "2022-08-24T12:18:21.237374",
     "exception": false,
     "start_time": "2022-08-24T12:18:21.200102",
     "status": "completed"
    },
    "tags": []
   },
   "outputs": [],
   "source": [
    "# #hide\n",
    "# g = g.reset_index(['date'])"
   ]
  },
  {
   "cell_type": "code",
   "execution_count": 25,
   "id": "incomplete-mustang",
   "metadata": {
    "execution": {
     "iopub.execute_input": "2022-08-24T12:18:21.302257Z",
     "iopub.status.busy": "2022-08-24T12:18:21.301695Z",
     "iopub.status.idle": "2022-08-24T12:18:21.304136Z",
     "shell.execute_reply": "2022-08-24T12:18:21.303615Z"
    },
    "papermill": {
     "duration": 0.036019,
     "end_time": "2022-08-24T12:18:21.304232",
     "exception": false,
     "start_time": "2022-08-24T12:18:21.268213",
     "status": "completed"
    },
    "tags": []
   },
   "outputs": [],
   "source": [
    "#hide\n",
    "# g.head()"
   ]
  },
  {
   "cell_type": "code",
   "execution_count": 26,
   "id": "specific-kruger",
   "metadata": {
    "execution": {
     "iopub.execute_input": "2022-08-24T12:18:21.368969Z",
     "iopub.status.busy": "2022-08-24T12:18:21.368392Z",
     "iopub.status.idle": "2022-08-24T12:18:21.370361Z",
     "shell.execute_reply": "2022-08-24T12:18:21.370773Z"
    },
    "papermill": {
     "duration": 0.035894,
     "end_time": "2022-08-24T12:18:21.370886",
     "exception": false,
     "start_time": "2022-08-24T12:18:21.334992",
     "status": "completed"
    },
    "tags": []
   },
   "outputs": [],
   "source": [
    "#hide\n",
    "# g.columns = ['date','country','cases']"
   ]
  },
  {
   "cell_type": "code",
   "execution_count": 27,
   "id": "tender-conversion",
   "metadata": {
    "execution": {
     "iopub.execute_input": "2022-08-24T12:18:21.436096Z",
     "iopub.status.busy": "2022-08-24T12:18:21.435531Z",
     "iopub.status.idle": "2022-08-24T12:18:21.439012Z",
     "shell.execute_reply": "2022-08-24T12:18:21.439430Z"
    },
    "papermill": {
     "duration": 0.037902,
     "end_time": "2022-08-24T12:18:21.439551",
     "exception": false,
     "start_time": "2022-08-24T12:18:21.401649",
     "status": "completed"
    },
    "tags": []
   },
   "outputs": [],
   "source": [
    "#hide\n",
    "# g['continent'] = g.country"
   ]
  },
  {
   "cell_type": "code",
   "execution_count": 28,
   "id": "substantial-wilderness",
   "metadata": {
    "execution": {
     "iopub.execute_input": "2022-08-24T12:18:21.505172Z",
     "iopub.status.busy": "2022-08-24T12:18:21.504610Z",
     "iopub.status.idle": "2022-08-24T12:18:21.507171Z",
     "shell.execute_reply": "2022-08-24T12:18:21.506720Z"
    },
    "papermill": {
     "duration": 0.03635,
     "end_time": "2022-08-24T12:18:21.507270",
     "exception": false,
     "start_time": "2022-08-24T12:18:21.470920",
     "status": "completed"
    },
    "tags": []
   },
   "outputs": [],
   "source": [
    "#hide\n",
    "# cols = list(g.columns.values)"
   ]
  },
  {
   "cell_type": "code",
   "execution_count": 29,
   "id": "solved-farming",
   "metadata": {
    "execution": {
     "iopub.execute_input": "2022-08-24T12:18:21.571740Z",
     "iopub.status.busy": "2022-08-24T12:18:21.571186Z",
     "iopub.status.idle": "2022-08-24T12:18:21.573556Z",
     "shell.execute_reply": "2022-08-24T12:18:21.573018Z"
    },
    "papermill": {
     "duration": 0.03576,
     "end_time": "2022-08-24T12:18:21.573651",
     "exception": false,
     "start_time": "2022-08-24T12:18:21.537891",
     "status": "completed"
    },
    "tags": []
   },
   "outputs": [],
   "source": [
    "#hide\n",
    "# cols.insert(0, cols.pop())"
   ]
  },
  {
   "cell_type": "code",
   "execution_count": 30,
   "id": "executed-adoption",
   "metadata": {
    "execution": {
     "iopub.execute_input": "2022-08-24T12:18:21.638511Z",
     "iopub.status.busy": "2022-08-24T12:18:21.637950Z",
     "iopub.status.idle": "2022-08-24T12:18:21.640336Z",
     "shell.execute_reply": "2022-08-24T12:18:21.639902Z"
    },
    "papermill": {
     "duration": 0.035989,
     "end_time": "2022-08-24T12:18:21.640432",
     "exception": false,
     "start_time": "2022-08-24T12:18:21.604443",
     "status": "completed"
    },
    "tags": []
   },
   "outputs": [],
   "source": [
    "#hide\n",
    "# g = g[cols]"
   ]
  },
  {
   "cell_type": "code",
   "execution_count": 31,
   "id": "subject-dublin",
   "metadata": {
    "execution": {
     "iopub.execute_input": "2022-08-24T12:18:21.705137Z",
     "iopub.status.busy": "2022-08-24T12:18:21.704571Z",
     "iopub.status.idle": "2022-08-24T12:18:21.707023Z",
     "shell.execute_reply": "2022-08-24T12:18:21.706582Z"
    },
    "papermill": {
     "duration": 0.036077,
     "end_time": "2022-08-24T12:18:21.707118",
     "exception": false,
     "start_time": "2022-08-24T12:18:21.671041",
     "status": "completed"
    },
    "tags": []
   },
   "outputs": [],
   "source": [
    "#hide\n",
    "# g['continent'] = g['continent'].map(mapping['map.continent'])"
   ]
  },
  {
   "cell_type": "code",
   "execution_count": 32,
   "id": "freelance-scout",
   "metadata": {
    "execution": {
     "iopub.execute_input": "2022-08-24T12:18:21.772167Z",
     "iopub.status.busy": "2022-08-24T12:18:21.771609Z",
     "iopub.status.idle": "2022-08-24T12:18:21.774018Z",
     "shell.execute_reply": "2022-08-24T12:18:21.773581Z"
    },
    "papermill": {
     "duration": 0.036238,
     "end_time": "2022-08-24T12:18:21.774115",
     "exception": false,
     "start_time": "2022-08-24T12:18:21.737877",
     "status": "completed"
    },
    "tags": []
   },
   "outputs": [],
   "source": [
    "#hide\n",
    "# g.head()"
   ]
  },
  {
   "cell_type": "code",
   "execution_count": 33,
   "id": "limited-engine",
   "metadata": {
    "execution": {
     "iopub.execute_input": "2022-08-24T12:18:21.838953Z",
     "iopub.status.busy": "2022-08-24T12:18:21.838351Z",
     "iopub.status.idle": "2022-08-24T12:18:21.840693Z",
     "shell.execute_reply": "2022-08-24T12:18:21.840174Z"
    },
    "papermill": {
     "duration": 0.03593,
     "end_time": "2022-08-24T12:18:21.840788",
     "exception": false,
     "start_time": "2022-08-24T12:18:21.804858",
     "status": "completed"
    },
    "tags": []
   },
   "outputs": [],
   "source": [
    "# hide\n",
    "# g['date'] = g['date'].astype('datetime64[ns]')"
   ]
  },
  {
   "cell_type": "code",
   "execution_count": 34,
   "id": "sophisticated-supervisor",
   "metadata": {
    "execution": {
     "iopub.execute_input": "2022-08-24T12:18:21.905677Z",
     "iopub.status.busy": "2022-08-24T12:18:21.905115Z",
     "iopub.status.idle": "2022-08-24T12:18:21.907577Z",
     "shell.execute_reply": "2022-08-24T12:18:21.907137Z"
    },
    "papermill": {
     "duration": 0.036027,
     "end_time": "2022-08-24T12:18:21.907675",
     "exception": false,
     "start_time": "2022-08-24T12:18:21.871648",
     "status": "completed"
    },
    "tags": []
   },
   "outputs": [],
   "source": [
    "#hide\n",
    "# g['date'] = g.date.dt.dayofyear"
   ]
  },
  {
   "cell_type": "code",
   "execution_count": 35,
   "id": "inside-dubai",
   "metadata": {
    "execution": {
     "iopub.execute_input": "2022-08-24T12:18:21.973278Z",
     "iopub.status.busy": "2022-08-24T12:18:21.972714Z",
     "iopub.status.idle": "2022-08-24T12:18:21.975183Z",
     "shell.execute_reply": "2022-08-24T12:18:21.974741Z"
    },
    "papermill": {
     "duration": 0.036603,
     "end_time": "2022-08-24T12:18:21.975283",
     "exception": false,
     "start_time": "2022-08-24T12:18:21.938680",
     "status": "completed"
    },
    "tags": []
   },
   "outputs": [],
   "source": [
    "#hide\n",
    "# g = g.rename(columns= {'continent':'group','country':'name','cases':'value'})"
   ]
  },
  {
   "cell_type": "code",
   "execution_count": 36,
   "id": "fleet-motorcycle",
   "metadata": {
    "execution": {
     "iopub.execute_input": "2022-08-24T12:18:22.040302Z",
     "iopub.status.busy": "2022-08-24T12:18:22.039755Z",
     "iopub.status.idle": "2022-08-24T12:18:22.042120Z",
     "shell.execute_reply": "2022-08-24T12:18:22.041676Z"
    },
    "papermill": {
     "duration": 0.035847,
     "end_time": "2022-08-24T12:18:22.042218",
     "exception": false,
     "start_time": "2022-08-24T12:18:22.006371",
     "status": "completed"
    },
    "tags": []
   },
   "outputs": [],
   "source": [
    "#hide\n",
    "# cols = ['name','group','day','value']"
   ]
  },
  {
   "cell_type": "code",
   "execution_count": 37,
   "id": "continued-sleeping",
   "metadata": {
    "execution": {
     "iopub.execute_input": "2022-08-24T12:18:22.107098Z",
     "iopub.status.busy": "2022-08-24T12:18:22.106508Z",
     "iopub.status.idle": "2022-08-24T12:18:22.108805Z",
     "shell.execute_reply": "2022-08-24T12:18:22.108289Z"
    },
    "papermill": {
     "duration": 0.035865,
     "end_time": "2022-08-24T12:18:22.108901",
     "exception": false,
     "start_time": "2022-08-24T12:18:22.073036",
     "status": "completed"
    },
    "tags": []
   },
   "outputs": [],
   "source": [
    "#hide\n",
    "# g.rename(columns= {'date':'day'},inplace = True)"
   ]
  },
  {
   "cell_type": "code",
   "execution_count": 38,
   "id": "major-fight",
   "metadata": {
    "execution": {
     "iopub.execute_input": "2022-08-24T12:18:22.174247Z",
     "iopub.status.busy": "2022-08-24T12:18:22.173675Z",
     "iopub.status.idle": "2022-08-24T12:18:22.176031Z",
     "shell.execute_reply": "2022-08-24T12:18:22.175504Z"
    },
    "papermill": {
     "duration": 0.036177,
     "end_time": "2022-08-24T12:18:22.176131",
     "exception": false,
     "start_time": "2022-08-24T12:18:22.139954",
     "status": "completed"
    },
    "tags": []
   },
   "outputs": [],
   "source": [
    "#hide\n",
    "# g = g[cols]"
   ]
  },
  {
   "cell_type": "code",
   "execution_count": 39,
   "id": "structured-mobile",
   "metadata": {
    "execution": {
     "iopub.execute_input": "2022-08-24T12:18:22.241311Z",
     "iopub.status.busy": "2022-08-24T12:18:22.240758Z",
     "iopub.status.idle": "2022-08-24T12:18:22.244051Z",
     "shell.execute_reply": "2022-08-24T12:18:22.244485Z"
    },
    "papermill": {
     "duration": 0.037606,
     "end_time": "2022-08-24T12:18:22.244599",
     "exception": false,
     "start_time": "2022-08-24T12:18:22.206993",
     "status": "completed"
    },
    "tags": []
   },
   "outputs": [],
   "source": [
    "# #hide\n",
    "# g = g[g.group.notna()]"
   ]
  },
  {
   "cell_type": "code",
   "execution_count": 40,
   "id": "determined-closing",
   "metadata": {
    "execution": {
     "iopub.execute_input": "2022-08-24T12:18:22.309679Z",
     "iopub.status.busy": "2022-08-24T12:18:22.309111Z",
     "iopub.status.idle": "2022-08-24T12:18:22.311589Z",
     "shell.execute_reply": "2022-08-24T12:18:22.311150Z"
    },
    "papermill": {
     "duration": 0.0362,
     "end_time": "2022-08-24T12:18:22.311688",
     "exception": false,
     "start_time": "2022-08-24T12:18:22.275488",
     "status": "completed"
    },
    "tags": []
   },
   "outputs": [],
   "source": [
    "# #hide\n",
    "# colors = dict(zip(\n",
    "#     [\"Oceania\", \"Europe\", \"Asia\", \"South America\", \"Middle East\", \"North America\", \"Africa\"],\n",
    "#     [\"#adb0ff\", \"#ffb3ff\", \"#90d595\", \"#e48381\", \"#aafbff\", \"#f7bb5f\", \"#eafb50\"]\n",
    "# ))\n",
    "# group_lk = g.set_index('name')['group'].to_dict()"
   ]
  },
  {
   "cell_type": "code",
   "execution_count": null,
   "id": "gross-drinking",
   "metadata": {
    "papermill": {
     "duration": 0.030656,
     "end_time": "2022-08-24T12:18:22.373241",
     "exception": false,
     "start_time": "2022-08-24T12:18:22.342585",
     "status": "completed"
    },
    "tags": []
   },
   "outputs": [],
   "source": []
  },
  {
   "cell_type": "code",
   "execution_count": 41,
   "id": "subject-macintosh",
   "metadata": {
    "execution": {
     "iopub.execute_input": "2022-08-24T12:18:22.439347Z",
     "iopub.status.busy": "2022-08-24T12:18:22.438767Z",
     "iopub.status.idle": "2022-08-24T12:18:22.441101Z",
     "shell.execute_reply": "2022-08-24T12:18:22.440578Z"
    },
    "papermill": {
     "duration": 0.037089,
     "end_time": "2022-08-24T12:18:22.441199",
     "exception": false,
     "start_time": "2022-08-24T12:18:22.404110",
     "status": "completed"
    },
    "tags": []
   },
   "outputs": [],
   "source": [
    "# #hide\n",
    "# fig, ax = plt.subplots(figsize=(15, 8))\n",
    "\n",
    "# def draw_barchart(current_day):\n",
    "#     dff = g[g['day'].eq(current_day)].sort_values(by='value', ascending=True).tail(10)\n",
    "#     ax.clear()\n",
    "#     ax.barh(dff['name'], dff['value'], color=[colors[group_lk[x]] for x in dff['name']])\n",
    "#     dx = dff['value'].max() / 200\n",
    "    \n",
    "#     for i, (value, name) in enumerate(zip(dff['value'], dff['name'])):\n",
    "#         ax.text(value-dx, i,     name,           size=14, weight=600, ha='right', va='bottom')\n",
    "#         ax.text(value-dx, i-.25, group_lk[name], size=10, color='#444444', ha='right', va='baseline')\n",
    "#         ax.text(value+dx, i,     f'{value:,.0f}',  size=14, ha='left',  va='center')\n",
    "#     ax.text(1, 0.4, current_day, transform=ax.transAxes, color='#777777', size=46, ha='right', weight=800)\n",
    "#     ax.text(0, 1.06, 'Population (thousands)', transform=ax.transAxes, size=12, color='#777777')\n",
    "#     ax.xaxis.set_major_formatter(ticker.StrMethodFormatter('{x:,.0f}'))\n",
    "#     ax.xaxis.set_ticks_position('top')\n",
    "#     ax.tick_params(axis='x', colors='#777777', labelsize=12)\n",
    "#     ax.set_yticks([])\n",
    "#     ax.margins(0, 0.01)\n",
    "#     ax.grid(which='major', axis='x', linestyle='-')\n",
    "#     ax.set_axisbelow(True)\n",
    "    \n",
    "#     ax.text(0, 1.15, 'Coronavirus',\n",
    "#             transform=ax.transAxes, size=24, weight=600, ha='left', va='top')\n",
    "# #     ax.text(1, 0, 'by @pratapvardhan; credit @jburnmurdoch', transform=ax.transAxes, color='#777777', ha='right',\n",
    "# #             bbox=dict(facecolor='white', alpha=0.8, edgecolor='white'))\n",
    "#     plt.box(False)"
   ]
  },
  {
   "cell_type": "code",
   "execution_count": 42,
   "id": "sexual-wages",
   "metadata": {
    "execution": {
     "iopub.execute_input": "2022-08-24T12:18:22.506944Z",
     "iopub.status.busy": "2022-08-24T12:18:22.506334Z",
     "iopub.status.idle": "2022-08-24T12:18:22.508797Z",
     "shell.execute_reply": "2022-08-24T12:18:22.508347Z"
    },
    "papermill": {
     "duration": 0.036648,
     "end_time": "2022-08-24T12:18:22.508897",
     "exception": false,
     "start_time": "2022-08-24T12:18:22.472249",
     "status": "completed"
    },
    "tags": []
   },
   "outputs": [],
   "source": [
    "# #hide_input\n",
    "# fig, ax = plt.subplots(figsize=(15, 8))\n",
    "# animator = animation.FuncAnimation(fig, draw_barchart, frames=range(g.day.values.min(), g.day.values.max()))\n",
    "# HTML(animator.to_jshtml())\n",
    "# # or use animator.to_html5_video() or animator.save() "
   ]
  },
  {
   "cell_type": "code",
   "execution_count": null,
   "id": "australian-container",
   "metadata": {
    "papermill": {
     "duration": 0.031108,
     "end_time": "2022-08-24T12:18:22.571075",
     "exception": false,
     "start_time": "2022-08-24T12:18:22.539967",
     "status": "completed"
    },
    "tags": []
   },
   "outputs": [],
   "source": []
  },
  {
   "cell_type": "code",
   "execution_count": null,
   "id": "mediterranean-pontiac",
   "metadata": {
    "papermill": {
     "duration": 0.030753,
     "end_time": "2022-08-24T12:18:22.632568",
     "exception": false,
     "start_time": "2022-08-24T12:18:22.601815",
     "status": "completed"
    },
    "tags": []
   },
   "outputs": [],
   "source": []
  },
  {
   "cell_type": "code",
   "execution_count": null,
   "id": "aging-legislature",
   "metadata": {
    "papermill": {
     "duration": 0.030987,
     "end_time": "2022-08-24T12:18:22.694495",
     "exception": false,
     "start_time": "2022-08-24T12:18:22.663508",
     "status": "completed"
    },
    "tags": []
   },
   "outputs": [],
   "source": []
  }
 ],
 "metadata": {
  "kernelspec": {
   "display_name": "Python 3",
   "language": "python",
   "name": "python3"
  },
  "language_info": {
   "codemirror_mode": {
    "name": "ipython",
    "version": 3
   },
   "file_extension": ".py",
   "mimetype": "text/x-python",
   "name": "python",
   "nbconvert_exporter": "python",
   "pygments_lexer": "ipython3",
   "version": "3.6.15"
  },
  "papermill": {
   "duration": 5.863035,
   "end_time": "2022-08-24T12:18:23.044191",
   "environment_variables": {},
   "exception": null,
   "input_path": "2020-03-21-covid19exp.ipynb",
   "output_path": "2020-03-21-covid19exp.ipynb",
   "parameters": {},
   "start_time": "2022-08-24T12:18:17.181156",
   "version": "2.0.0"
  }
 },
 "nbformat": 4,
 "nbformat_minor": 5
}