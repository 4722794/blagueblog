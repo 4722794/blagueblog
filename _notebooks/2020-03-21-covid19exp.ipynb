{
 "cells": [
  {
   "cell_type": "markdown",
   "id": "muslim-click",
   "metadata": {
    "papermill": {
     "duration": 0.030538,
     "end_time": "2022-03-22T12:14:25.335804",
     "exception": false,
     "start_time": "2022-03-22T12:14:25.305266",
     "status": "completed"
    },
    "tags": []
   },
   "source": [
    "# COVID-19 Case Race\n",
    "> A race chart to see rising cases around the world\n",
    "\n",
    "- author: Hargun Oberoi\n",
    "- image: images/covid-overview.png\n",
    "- hide: false\n",
    "- badges: false"
   ]
  },
  {
   "cell_type": "code",
   "execution_count": 1,
   "id": "proof-material",
   "metadata": {
    "execution": {
     "iopub.execute_input": "2022-03-22T12:14:25.399974Z",
     "iopub.status.busy": "2022-03-22T12:14:25.399469Z",
     "iopub.status.idle": "2022-03-22T12:14:25.685485Z",
     "shell.execute_reply": "2022-03-22T12:14:25.685974Z"
    },
    "papermill": {
     "duration": 0.323094,
     "end_time": "2022-03-22T12:14:25.686159",
     "exception": false,
     "start_time": "2022-03-22T12:14:25.363065",
     "status": "completed"
    },
    "tags": []
   },
   "outputs": [],
   "source": [
    "#hide\n",
    "import numpy as np\n",
    "import pandas as pd\n",
    "from jinja2 import Template\n",
    "from IPython.display import HTML"
   ]
  },
  {
   "cell_type": "code",
   "execution_count": 2,
   "id": "developed-terminology",
   "metadata": {
    "execution": {
     "iopub.execute_input": "2022-03-22T12:14:25.744556Z",
     "iopub.status.busy": "2022-03-22T12:14:25.743904Z",
     "iopub.status.idle": "2022-03-22T12:14:25.747465Z",
     "shell.execute_reply": "2022-03-22T12:14:25.747916Z"
    },
    "papermill": {
     "duration": 0.034953,
     "end_time": "2022-03-22T12:14:25.748068",
     "exception": false,
     "start_time": "2022-03-22T12:14:25.713115",
     "status": "completed"
    },
    "tags": []
   },
   "outputs": [],
   "source": [
    "#hide\n",
    "\n",
    "# FETCH\n",
    "base_url = 'https://raw.githubusercontent.com/pratapvardhan/notebooks/master/covid19/'\n",
    "paths = {\n",
    "    'mapping': base_url + 'mapping_countries.csv',\n",
    "    'overview': base_url + 'overview.tpl'\n",
    "}"
   ]
  },
  {
   "cell_type": "code",
   "execution_count": 3,
   "id": "dynamic-saver",
   "metadata": {
    "execution": {
     "iopub.execute_input": "2022-03-22T12:14:25.810765Z",
     "iopub.status.busy": "2022-03-22T12:14:25.810164Z",
     "iopub.status.idle": "2022-03-22T12:14:25.812284Z",
     "shell.execute_reply": "2022-03-22T12:14:25.812640Z"
    },
    "papermill": {
     "duration": 0.038224,
     "end_time": "2022-03-22T12:14:25.812756",
     "exception": false,
     "start_time": "2022-03-22T12:14:25.774532",
     "status": "completed"
    },
    "tags": []
   },
   "outputs": [
    {
     "data": {
      "text/plain": [
       "'https://raw.githubusercontent.com/pratapvardhan/notebooks/master/covid19/mapping_countries.csv'"
      ]
     },
     "execution_count": 3,
     "metadata": {},
     "output_type": "execute_result"
    }
   ],
   "source": [
    "#hide\n",
    "paths['mapping']"
   ]
  },
  {
   "cell_type": "code",
   "execution_count": 4,
   "id": "urban-software",
   "metadata": {
    "execution": {
     "iopub.execute_input": "2022-03-22T12:14:25.870593Z",
     "iopub.status.busy": "2022-03-22T12:14:25.869987Z",
     "iopub.status.idle": "2022-03-22T12:14:25.873423Z",
     "shell.execute_reply": "2022-03-22T12:14:25.873765Z"
    },
    "papermill": {
     "duration": 0.034783,
     "end_time": "2022-03-22T12:14:25.873882",
     "exception": false,
     "start_time": "2022-03-22T12:14:25.839099",
     "status": "completed"
    },
    "tags": []
   },
   "outputs": [],
   "source": [
    "#hide\n",
    "def get_mappings(url):\n",
    "    df = pd.read_csv(url)\n",
    "    return {\n",
    "        'df': df,\n",
    "        'replace.country': dict(df.dropna(subset=['Name']).set_index('Country')['Name']),\n",
    "        'map.continent': dict(df.set_index('Name')['Continent'])\n",
    "    }"
   ]
  },
  {
   "cell_type": "code",
   "execution_count": 5,
   "id": "intimate-machinery",
   "metadata": {
    "execution": {
     "iopub.execute_input": "2022-03-22T12:14:25.932071Z",
     "iopub.status.busy": "2022-03-22T12:14:25.931465Z",
     "iopub.status.idle": "2022-03-22T12:14:25.991822Z",
     "shell.execute_reply": "2022-03-22T12:14:25.991313Z"
    },
    "papermill": {
     "duration": 0.09176,
     "end_time": "2022-03-22T12:14:25.991957",
     "exception": false,
     "start_time": "2022-03-22T12:14:25.900197",
     "status": "completed"
    },
    "tags": []
   },
   "outputs": [],
   "source": [
    "#hide\n",
    "mapping = get_mappings(paths['mapping'])"
   ]
  },
  {
   "cell_type": "code",
   "execution_count": 6,
   "id": "certified-tactics",
   "metadata": {
    "execution": {
     "iopub.execute_input": "2022-03-22T12:14:26.050858Z",
     "iopub.status.busy": "2022-03-22T12:14:26.050397Z",
     "iopub.status.idle": "2022-03-22T12:14:26.052119Z",
     "shell.execute_reply": "2022-03-22T12:14:26.052577Z"
    },
    "papermill": {
     "duration": 0.033354,
     "end_time": "2022-03-22T12:14:26.052695",
     "exception": false,
     "start_time": "2022-03-22T12:14:26.019341",
     "status": "completed"
    },
    "tags": []
   },
   "outputs": [],
   "source": [
    "#hide\n",
    "def get_template(path):\n",
    "    from urllib.parse import urlparse\n",
    "    if bool(urlparse(path).netloc):\n",
    "        from urllib.request import urlopen\n",
    "        return urlopen(path).read().decode('utf8')\n",
    "    return open(path).read()"
   ]
  },
  {
   "cell_type": "code",
   "execution_count": 7,
   "id": "realistic-blast",
   "metadata": {
    "execution": {
     "iopub.execute_input": "2022-03-22T12:14:26.109887Z",
     "iopub.status.busy": "2022-03-22T12:14:26.109295Z",
     "iopub.status.idle": "2022-03-22T12:14:26.110685Z",
     "shell.execute_reply": "2022-03-22T12:14:26.111195Z"
    },
    "papermill": {
     "duration": 0.032519,
     "end_time": "2022-03-22T12:14:26.111335",
     "exception": false,
     "start_time": "2022-03-22T12:14:26.078816",
     "status": "completed"
    },
    "tags": []
   },
   "outputs": [],
   "source": [
    "#hide\n",
    "def get_frame(name):\n",
    "    url = (\n",
    "        'https://raw.githubusercontent.com/CSSEGISandData/COVID-19/master/csse_covid_19_data/'\n",
    "        f'csse_covid_19_time_series/time_series_covid19_{name}_global.csv')\n",
    "    df = pd.read_csv(url)\n",
    "    # rename countries\n",
    "    df['Country/Region'] = df['Country/Region'].replace(mapping['replace.country'])\n",
    "    return df"
   ]
  },
  {
   "cell_type": "code",
   "execution_count": 8,
   "id": "affiliated-characterization",
   "metadata": {
    "execution": {
     "iopub.execute_input": "2022-03-22T12:14:26.169689Z",
     "iopub.status.busy": "2022-03-22T12:14:26.169236Z",
     "iopub.status.idle": "2022-03-22T12:14:26.171118Z",
     "shell.execute_reply": "2022-03-22T12:14:26.171486Z"
    },
    "papermill": {
     "duration": 0.032971,
     "end_time": "2022-03-22T12:14:26.171597",
     "exception": false,
     "start_time": "2022-03-22T12:14:26.138626",
     "status": "completed"
    },
    "tags": []
   },
   "outputs": [],
   "source": [
    "#hide\n",
    "def get_dates(df):\n",
    "    dt_cols = df.columns[~df.columns.isin(['Province/State', 'Country/Region', 'Lat', 'Long'])]\n",
    "    LAST_DATE_I = -1\n",
    "    # sometimes last column may be empty, then go backwards\n",
    "    for i in range(-1, -len(dt_cols), -1):\n",
    "        if not df[dt_cols[i]].fillna(0).eq(0).all():\n",
    "            LAST_DATE_I = i\n",
    "            break\n",
    "    return LAST_DATE_I, dt_cols"
   ]
  },
  {
   "cell_type": "code",
   "execution_count": 9,
   "id": "recent-optimization",
   "metadata": {
    "execution": {
     "iopub.execute_input": "2022-03-22T12:14:26.228596Z",
     "iopub.status.busy": "2022-03-22T12:14:26.228116Z",
     "iopub.status.idle": "2022-03-22T12:14:26.786902Z",
     "shell.execute_reply": "2022-03-22T12:14:26.786371Z"
    },
    "papermill": {
     "duration": 0.589496,
     "end_time": "2022-03-22T12:14:26.787042",
     "exception": false,
     "start_time": "2022-03-22T12:14:26.197546",
     "status": "completed"
    },
    "tags": []
   },
   "outputs": [],
   "source": [
    "#hide\n",
    "COL_REGION = 'Country/Region'\n",
    "# Confirmed, Recovered, Deaths\n",
    "df = get_frame('confirmed')\n",
    "# dft_: timeseries, dfc_: today country agg\n",
    "dft_cases = df\n",
    "dft_deaths = get_frame('deaths')\n",
    "dft_recovered = get_frame('recovered')\n",
    "LAST_DATE_I, dt_cols = get_dates(df)"
   ]
  },
  {
   "cell_type": "code",
   "execution_count": 10,
   "id": "absolute-copper",
   "metadata": {
    "execution": {
     "iopub.execute_input": "2022-03-22T12:14:26.845167Z",
     "iopub.status.busy": "2022-03-22T12:14:26.844693Z",
     "iopub.status.idle": "2022-03-22T12:14:26.847684Z",
     "shell.execute_reply": "2022-03-22T12:14:26.848027Z"
    },
    "papermill": {
     "duration": 0.034383,
     "end_time": "2022-03-22T12:14:26.848142",
     "exception": false,
     "start_time": "2022-03-22T12:14:26.813759",
     "status": "completed"
    },
    "tags": []
   },
   "outputs": [],
   "source": [
    "#hide\n",
    "LAST_DATE_I, dt_cols = get_dates(df)\n",
    "dt_today =dt_cols[LAST_DATE_I]\n",
    "# dt_5day = dt_cols[LAST_DATE_I - 5]\n",
    "dt_yday = dt_cols[LAST_DATE_I - 1]"
   ]
  },
  {
   "cell_type": "code",
   "execution_count": 11,
   "id": "restricted-sheriff",
   "metadata": {
    "execution": {
     "iopub.execute_input": "2022-03-22T12:14:26.906641Z",
     "iopub.status.busy": "2022-03-22T12:14:26.904981Z",
     "iopub.status.idle": "2022-03-22T12:14:26.912397Z",
     "shell.execute_reply": "2022-03-22T12:14:26.912766Z"
    },
    "papermill": {
     "duration": 0.038717,
     "end_time": "2022-03-22T12:14:26.912877",
     "exception": false,
     "start_time": "2022-03-22T12:14:26.874160",
     "status": "completed"
    },
    "tags": []
   },
   "outputs": [],
   "source": [
    "#hide\n",
    "dfc_cases = dft_cases.groupby(COL_REGION)[dt_today].sum()\n",
    "dfc_deaths = dft_deaths.groupby(COL_REGION)[dt_today].sum()\n",
    "# dfp_cases = dft_cases.groupby(COL_REGION)[dt_5day].sum()\n",
    "# dfp_deaths = dft_deaths.groupby(COL_REGION)[dt_5day].sum()\n",
    "dfp_cases = dft_cases.groupby(COL_REGION)[dt_yday].sum()\n",
    "dfp_deaths = dft_deaths.groupby(COL_REGION)[dt_yday].sum()"
   ]
  },
  {
   "cell_type": "code",
   "execution_count": 12,
   "id": "deluxe-hepatitis",
   "metadata": {
    "execution": {
     "iopub.execute_input": "2022-03-22T12:14:26.971303Z",
     "iopub.status.busy": "2022-03-22T12:14:26.970826Z",
     "iopub.status.idle": "2022-03-22T12:14:26.974641Z",
     "shell.execute_reply": "2022-03-22T12:14:26.975003Z"
    },
    "papermill": {
     "duration": 0.036075,
     "end_time": "2022-03-22T12:14:26.975113",
     "exception": false,
     "start_time": "2022-03-22T12:14:26.939038",
     "status": "completed"
    },
    "tags": []
   },
   "outputs": [],
   "source": [
    "#hide\n",
    "df_table = (pd.DataFrame(dict(Cases = dfc_cases, Deaths = dfc_deaths, PCases = dfp_cases, PDeaths = dfp_deaths))\n",
    "            .sort_values(by = ['Cases','Deaths'], ascending = [False, False])\n",
    "            .reset_index())"
   ]
  },
  {
   "cell_type": "code",
   "execution_count": 13,
   "id": "educational-chancellor",
   "metadata": {
    "execution": {
     "iopub.execute_input": "2022-03-22T12:14:27.043662Z",
     "iopub.status.busy": "2022-03-22T12:14:27.043183Z",
     "iopub.status.idle": "2022-03-22T12:14:27.049866Z",
     "shell.execute_reply": "2022-03-22T12:14:27.049479Z"
    },
    "papermill": {
     "duration": 0.048773,
     "end_time": "2022-03-22T12:14:27.049962",
     "exception": false,
     "start_time": "2022-03-22T12:14:27.001189",
     "status": "completed"
    },
    "tags": []
   },
   "outputs": [
    {
     "data": {
      "text/html": [
       "<div>\n",
       "<style scoped>\n",
       "    .dataframe tbody tr th:only-of-type {\n",
       "        vertical-align: middle;\n",
       "    }\n",
       "\n",
       "    .dataframe tbody tr th {\n",
       "        vertical-align: top;\n",
       "    }\n",
       "\n",
       "    .dataframe thead th {\n",
       "        text-align: right;\n",
       "    }\n",
       "</style>\n",
       "<table border=\"1\" class=\"dataframe\">\n",
       "  <thead>\n",
       "    <tr style=\"text-align: right;\">\n",
       "      <th></th>\n",
       "      <th>Country/Region</th>\n",
       "      <th>Cases</th>\n",
       "      <th>Deaths</th>\n",
       "      <th>PCases</th>\n",
       "      <th>PDeaths</th>\n",
       "      <th>Cases (+)</th>\n",
       "      <th>Deaths (+)</th>\n",
       "      <th>Fatality Rate</th>\n",
       "      <th>Continent</th>\n",
       "    </tr>\n",
       "  </thead>\n",
       "  <tbody>\n",
       "    <tr>\n",
       "      <th>0</th>\n",
       "      <td>US</td>\n",
       "      <td>79778889</td>\n",
       "      <td>972634</td>\n",
       "      <td>79734788</td>\n",
       "      <td>971162</td>\n",
       "      <td>44101</td>\n",
       "      <td>1472</td>\n",
       "      <td>1.22</td>\n",
       "      <td>North America</td>\n",
       "    </tr>\n",
       "    <tr>\n",
       "      <th>1</th>\n",
       "      <td>India</td>\n",
       "      <td>43010971</td>\n",
       "      <td>516543</td>\n",
       "      <td>43009390</td>\n",
       "      <td>516510</td>\n",
       "      <td>1581</td>\n",
       "      <td>33</td>\n",
       "      <td>1.20</td>\n",
       "      <td>Asia</td>\n",
       "    </tr>\n",
       "    <tr>\n",
       "      <th>2</th>\n",
       "      <td>Brazil</td>\n",
       "      <td>29650082</td>\n",
       "      <td>657595</td>\n",
       "      <td>29637814</td>\n",
       "      <td>657495</td>\n",
       "      <td>12268</td>\n",
       "      <td>100</td>\n",
       "      <td>2.22</td>\n",
       "      <td>South America</td>\n",
       "    </tr>\n",
       "    <tr>\n",
       "      <th>3</th>\n",
       "      <td>France</td>\n",
       "      <td>24347772</td>\n",
       "      <td>142114</td>\n",
       "      <td>24323239</td>\n",
       "      <td>141961</td>\n",
       "      <td>24533</td>\n",
       "      <td>153</td>\n",
       "      <td>0.58</td>\n",
       "      <td>Europe</td>\n",
       "    </tr>\n",
       "    <tr>\n",
       "      <th>4</th>\n",
       "      <td>United Kingdom</td>\n",
       "      <td>20470351</td>\n",
       "      <td>164266</td>\n",
       "      <td>20243940</td>\n",
       "      <td>164099</td>\n",
       "      <td>226411</td>\n",
       "      <td>167</td>\n",
       "      <td>0.80</td>\n",
       "      <td>Europe</td>\n",
       "    </tr>\n",
       "  </tbody>\n",
       "</table>\n",
       "</div>"
      ],
      "text/plain": [
       "   Country/Region     Cases  Deaths    PCases  PDeaths  Cases (+)  Deaths (+)  \\\n",
       "0              US  79778889  972634  79734788   971162      44101        1472   \n",
       "1           India  43010971  516543  43009390   516510       1581          33   \n",
       "2          Brazil  29650082  657595  29637814   657495      12268         100   \n",
       "3          France  24347772  142114  24323239   141961      24533         153   \n",
       "4  United Kingdom  20470351  164266  20243940   164099     226411         167   \n",
       "\n",
       "   Fatality Rate      Continent  \n",
       "0           1.22  North America  \n",
       "1           1.20           Asia  \n",
       "2           2.22  South America  \n",
       "3           0.58         Europe  \n",
       "4           0.80         Europe  "
      ]
     },
     "execution_count": 13,
     "metadata": {},
     "output_type": "execute_result"
    }
   ],
   "source": [
    "#hide\n",
    "for c in 'Cases, Deaths'.split(', '):\n",
    "    df_table[f'{c} (+)'] = (df_table[c] - df_table[f'P{c}']).clip(0)\n",
    "    #Clip ça veut dire, les chiffres negatif sont interdit\n",
    "df_table['Fatality Rate'] = (100* df_table['Deaths']/ df_table['Cases']).round(2)\n",
    "df_table['Continent'] = df_table['Country/Region'].map(mapping['map.continent'])\n",
    "df_table.head(5)"
   ]
  },
  {
   "cell_type": "code",
   "execution_count": 14,
   "id": "aboriginal-bulgaria",
   "metadata": {
    "execution": {
     "iopub.execute_input": "2022-03-22T12:14:27.108923Z",
     "iopub.status.busy": "2022-03-22T12:14:27.108471Z",
     "iopub.status.idle": "2022-03-22T12:14:27.110322Z",
     "shell.execute_reply": "2022-03-22T12:14:27.110749Z"
    },
    "papermill": {
     "duration": 0.033998,
     "end_time": "2022-03-22T12:14:27.110860",
     "exception": false,
     "start_time": "2022-03-22T12:14:27.076862",
     "status": "completed"
    },
    "tags": []
   },
   "outputs": [],
   "source": [
    "#hide\n",
    "#delete problematic countries from table\n",
    "df_table = df_table[~df_table['Country/Region'].isin(['Cape Verde', 'Cruise Ship', 'Kosovo'])]"
   ]
  },
  {
   "cell_type": "code",
   "execution_count": 15,
   "id": "fantastic-effect",
   "metadata": {
    "execution": {
     "iopub.execute_input": "2022-03-22T12:14:27.170763Z",
     "iopub.status.busy": "2022-03-22T12:14:27.170289Z",
     "iopub.status.idle": "2022-03-22T12:14:27.185643Z",
     "shell.execute_reply": "2022-03-22T12:14:27.186035Z"
    },
    "papermill": {
     "duration": 0.048763,
     "end_time": "2022-03-22T12:14:27.186156",
     "exception": false,
     "start_time": "2022-03-22T12:14:27.137393",
     "status": "completed"
    },
    "tags": []
   },
   "outputs": [
    {
     "data": {
      "text/html": [
       "<div>\n",
       "<style scoped>\n",
       "    .dataframe tbody tr th:only-of-type {\n",
       "        vertical-align: middle;\n",
       "    }\n",
       "\n",
       "    .dataframe tbody tr th {\n",
       "        vertical-align: top;\n",
       "    }\n",
       "\n",
       "    .dataframe thead th {\n",
       "        text-align: right;\n",
       "    }\n",
       "</style>\n",
       "<table border=\"1\" class=\"dataframe\">\n",
       "  <thead>\n",
       "    <tr style=\"text-align: right;\">\n",
       "      <th></th>\n",
       "      <th>Country/Region</th>\n",
       "      <th>Cases</th>\n",
       "      <th>Deaths</th>\n",
       "      <th>PCases</th>\n",
       "      <th>PDeaths</th>\n",
       "      <th>Cases (+)</th>\n",
       "      <th>Deaths (+)</th>\n",
       "      <th>Fatality Rate</th>\n",
       "      <th>Continent</th>\n",
       "    </tr>\n",
       "  </thead>\n",
       "  <tbody>\n",
       "    <tr>\n",
       "      <th>0</th>\n",
       "      <td>US</td>\n",
       "      <td>79778889</td>\n",
       "      <td>972634</td>\n",
       "      <td>79734788</td>\n",
       "      <td>971162</td>\n",
       "      <td>44101</td>\n",
       "      <td>1472</td>\n",
       "      <td>1.2</td>\n",
       "      <td>North America</td>\n",
       "    </tr>\n",
       "    <tr>\n",
       "      <th>1</th>\n",
       "      <td>India</td>\n",
       "      <td>43010971</td>\n",
       "      <td>516543</td>\n",
       "      <td>43009390</td>\n",
       "      <td>516510</td>\n",
       "      <td>1581</td>\n",
       "      <td>33</td>\n",
       "      <td>1.2</td>\n",
       "      <td>Asia</td>\n",
       "    </tr>\n",
       "    <tr>\n",
       "      <th>2</th>\n",
       "      <td>Brazil</td>\n",
       "      <td>29650082</td>\n",
       "      <td>657595</td>\n",
       "      <td>29637814</td>\n",
       "      <td>657495</td>\n",
       "      <td>12268</td>\n",
       "      <td>100</td>\n",
       "      <td>2.2</td>\n",
       "      <td>South America</td>\n",
       "    </tr>\n",
       "    <tr>\n",
       "      <th>3</th>\n",
       "      <td>France</td>\n",
       "      <td>24347772</td>\n",
       "      <td>142114</td>\n",
       "      <td>24323239</td>\n",
       "      <td>141961</td>\n",
       "      <td>24533</td>\n",
       "      <td>153</td>\n",
       "      <td>0.6</td>\n",
       "      <td>Europe</td>\n",
       "    </tr>\n",
       "    <tr>\n",
       "      <th>4</th>\n",
       "      <td>United Kingdom</td>\n",
       "      <td>20470351</td>\n",
       "      <td>164266</td>\n",
       "      <td>20243940</td>\n",
       "      <td>164099</td>\n",
       "      <td>226411</td>\n",
       "      <td>167</td>\n",
       "      <td>0.8</td>\n",
       "      <td>Europe</td>\n",
       "    </tr>\n",
       "  </tbody>\n",
       "</table>\n",
       "</div>"
      ],
      "text/plain": [
       "   Country/Region     Cases  Deaths    PCases  PDeaths  Cases (+)  Deaths (+)  \\\n",
       "0              US  79778889  972634  79734788   971162      44101        1472   \n",
       "1           India  43010971  516543  43009390   516510       1581          33   \n",
       "2          Brazil  29650082  657595  29637814   657495      12268         100   \n",
       "3          France  24347772  142114  24323239   141961      24533         153   \n",
       "4  United Kingdom  20470351  164266  20243940   164099     226411         167   \n",
       "\n",
       "   Fatality Rate      Continent  \n",
       "0            1.2  North America  \n",
       "1            1.2           Asia  \n",
       "2            2.2  South America  \n",
       "3            0.6         Europe  \n",
       "4            0.8         Europe  "
      ]
     },
     "execution_count": 15,
     "metadata": {},
     "output_type": "execute_result"
    }
   ],
   "source": [
    "#hide\n",
    "df_table = (pd.DataFrame(dict(Cases=dfc_cases, Deaths=dfc_deaths, PCases=dfp_cases, PDeaths=dfp_deaths))\n",
    "             .sort_values(by=['Cases', 'Deaths'], ascending=[False, False])\n",
    "             .reset_index())\n",
    "df_table.rename(columns={'index': 'Country/Region'}, inplace=True)\n",
    "for c in 'Cases, Deaths'.split(', '):\n",
    "    df_table[f'{c} (+)'] = (df_table[c] - df_table[f'P{c}']).clip(0)  # DATA BUG\n",
    "df_table['Fatality Rate'] = (100 * df_table['Deaths'] / df_table['Cases']).round(1)\n",
    "df_table['Continent'] = df_table['Country/Region'].map(mapping['map.continent'])\n",
    "df_table.head(5)"
   ]
  },
  {
   "cell_type": "code",
   "execution_count": 16,
   "id": "fewer-occasion",
   "metadata": {
    "execution": {
     "iopub.execute_input": "2022-03-22T12:14:27.246548Z",
     "iopub.status.busy": "2022-03-22T12:14:27.246061Z",
     "iopub.status.idle": "2022-03-22T12:14:27.248244Z",
     "shell.execute_reply": "2022-03-22T12:14:27.247858Z"
    },
    "papermill": {
     "duration": 0.03483,
     "end_time": "2022-03-22T12:14:27.248344",
     "exception": false,
     "start_time": "2022-03-22T12:14:27.213514",
     "status": "completed"
    },
    "tags": []
   },
   "outputs": [],
   "source": [
    "#hide\n",
    "#delete problematic countries from table\n",
    "df_table = df_table[~df_table['Country/Region'].isin(['Cape Verde', 'Cruise Ship', 'Kosovo'])]"
   ]
  },
  {
   "cell_type": "code",
   "execution_count": 17,
   "id": "related-center",
   "metadata": {
    "execution": {
     "iopub.execute_input": "2022-03-22T12:14:27.317981Z",
     "iopub.status.busy": "2022-03-22T12:14:27.317511Z",
     "iopub.status.idle": "2022-03-22T12:14:27.319629Z",
     "shell.execute_reply": "2022-03-22T12:14:27.319243Z"
    },
    "papermill": {
     "duration": 0.044319,
     "end_time": "2022-03-22T12:14:27.319726",
     "exception": false,
     "start_time": "2022-03-22T12:14:27.275407",
     "status": "completed"
    },
    "tags": []
   },
   "outputs": [],
   "source": [
    "#hide\n",
    "metrics = [df_table.columns[index] for index in [1,2,5,6]]\n",
    "# s_china = df_table[df_table['Country/Region'].eq('China')][metrics].sum().add_prefix('China ')\n",
    "s_us = df_table[df_table['Country/Region'].eq('US')][metrics].sum().add_prefix('US ')\n",
    "s_eu = df_table[df_table['Continent'].eq('Europe')][metrics].sum().add_prefix('EU ')\n",
    "s_ind = df_table[df_table['Country/Region'].eq('India')][metrics].sum().add_prefix('India ')\n",
    "summary = {'updated': pd.to_datetime(dt_today), 'since': pd.to_datetime(dt_yday)}\n",
    "summary = {'updated': pd.to_datetime(dt_today), 'since': pd.to_datetime(dt_yday)}\n",
    "summary = {**summary, **df_table[metrics].sum(), **s_ind, **s_us, **s_eu}"
   ]
  },
  {
   "cell_type": "code",
   "execution_count": 18,
   "id": "engaging-syndrome",
   "metadata": {
    "execution": {
     "iopub.execute_input": "2022-03-22T12:14:27.378246Z",
     "iopub.status.busy": "2022-03-22T12:14:27.377800Z",
     "iopub.status.idle": "2022-03-22T12:14:27.393818Z",
     "shell.execute_reply": "2022-03-22T12:14:27.393374Z"
    },
    "papermill": {
     "duration": 0.047233,
     "end_time": "2022-03-22T12:14:27.393985",
     "exception": false,
     "start_time": "2022-03-22T12:14:27.346752",
     "status": "completed"
    },
    "tags": []
   },
   "outputs": [],
   "source": [
    "#hide\n",
    "dft_ct_new_cases = dft_cases.groupby(COL_REGION)[dt_cols].sum().diff(axis=1).fillna(0).astype(int)"
   ]
  },
  {
   "cell_type": "code",
   "execution_count": 19,
   "id": "neutral-assignment",
   "metadata": {
    "execution": {
     "iopub.execute_input": "2022-03-22T12:14:27.465339Z",
     "iopub.status.busy": "2022-03-22T12:14:27.464760Z",
     "iopub.status.idle": "2022-03-22T12:14:27.467566Z",
     "shell.execute_reply": "2022-03-22T12:14:27.467049Z"
    },
    "papermill": {
     "duration": 0.039043,
     "end_time": "2022-03-22T12:14:27.467689",
     "exception": false,
     "start_time": "2022-03-22T12:14:27.428646",
     "status": "completed"
    },
    "tags": []
   },
   "outputs": [],
   "source": [
    "#hide\n",
    "everydaycases = dft_ct_new_cases.cumsum(axis=1)"
   ]
  },
  {
   "cell_type": "code",
   "execution_count": 20,
   "id": "parliamentary-calgary",
   "metadata": {
    "execution": {
     "iopub.execute_input": "2022-03-22T12:14:27.527441Z",
     "iopub.status.busy": "2022-03-22T12:14:27.526938Z",
     "iopub.status.idle": "2022-03-22T12:14:28.048387Z",
     "shell.execute_reply": "2022-03-22T12:14:28.049669Z"
    },
    "papermill": {
     "duration": 0.553865,
     "end_time": "2022-03-22T12:14:28.049826",
     "exception": false,
     "start_time": "2022-03-22T12:14:27.495961",
     "status": "completed"
    },
    "tags": []
   },
   "outputs": [],
   "source": [
    "#hide\n",
    "import pandas as pd\n",
    "import matplotlib.pyplot as plt\n",
    "import matplotlib.ticker as ticker\n",
    "import matplotlib.animation as animation\n",
    "from IPython.display import HTML"
   ]
  },
  {
   "cell_type": "code",
   "execution_count": 21,
   "id": "lasting-extraction",
   "metadata": {
    "execution": {
     "iopub.execute_input": "2022-03-22T12:14:28.132214Z",
     "iopub.status.busy": "2022-03-22T12:14:28.131736Z",
     "iopub.status.idle": "2022-03-22T12:14:28.137446Z",
     "shell.execute_reply": "2022-03-22T12:14:28.137069Z"
    },
    "papermill": {
     "duration": 0.053792,
     "end_time": "2022-03-22T12:14:28.137551",
     "exception": false,
     "start_time": "2022-03-22T12:14:28.083759",
     "status": "completed"
    },
    "tags": []
   },
   "outputs": [],
   "source": [
    "#hide\n",
    "t = everydaycases.stack()"
   ]
  },
  {
   "cell_type": "code",
   "execution_count": 22,
   "id": "premier-sleeve",
   "metadata": {
    "execution": {
     "iopub.execute_input": "2022-03-22T12:14:28.194570Z",
     "iopub.status.busy": "2022-03-22T12:14:28.194121Z",
     "iopub.status.idle": "2022-03-22T12:14:28.205681Z",
     "shell.execute_reply": "2022-03-22T12:14:28.206020Z"
    },
    "papermill": {
     "duration": 0.041049,
     "end_time": "2022-03-22T12:14:28.206132",
     "exception": false,
     "start_time": "2022-03-22T12:14:28.165083",
     "status": "completed"
    },
    "tags": []
   },
   "outputs": [],
   "source": [
    "#hide\n",
    "g = t.reset_index(['Country/Region'])"
   ]
  },
  {
   "cell_type": "code",
   "execution_count": 23,
   "id": "distributed-pittsburgh",
   "metadata": {
    "execution": {
     "iopub.execute_input": "2022-03-22T12:14:28.263593Z",
     "iopub.status.busy": "2022-03-22T12:14:28.263099Z",
     "iopub.status.idle": "2022-03-22T12:14:28.264751Z",
     "shell.execute_reply": "2022-03-22T12:14:28.265090Z"
    },
    "papermill": {
     "duration": 0.032061,
     "end_time": "2022-03-22T12:14:28.265202",
     "exception": false,
     "start_time": "2022-03-22T12:14:28.233141",
     "status": "completed"
    },
    "tags": []
   },
   "outputs": [],
   "source": [
    "#hide\n",
    "g.index.name = 'date'"
   ]
  },
  {
   "cell_type": "code",
   "execution_count": 24,
   "id": "naked-donor",
   "metadata": {
    "execution": {
     "iopub.execute_input": "2022-03-22T12:14:28.322732Z",
     "iopub.status.busy": "2022-03-22T12:14:28.322153Z",
     "iopub.status.idle": "2022-03-22T12:14:28.325355Z",
     "shell.execute_reply": "2022-03-22T12:14:28.324972Z"
    },
    "papermill": {
     "duration": 0.0333,
     "end_time": "2022-03-22T12:14:28.325447",
     "exception": false,
     "start_time": "2022-03-22T12:14:28.292147",
     "status": "completed"
    },
    "tags": []
   },
   "outputs": [],
   "source": [
    "# #hide\n",
    "# g = g.reset_index(['date'])"
   ]
  },
  {
   "cell_type": "code",
   "execution_count": 25,
   "id": "incomplete-mustang",
   "metadata": {
    "execution": {
     "iopub.execute_input": "2022-03-22T12:14:28.382516Z",
     "iopub.status.busy": "2022-03-22T12:14:28.382065Z",
     "iopub.status.idle": "2022-03-22T12:14:28.383921Z",
     "shell.execute_reply": "2022-03-22T12:14:28.384342Z"
    },
    "papermill": {
     "duration": 0.032061,
     "end_time": "2022-03-22T12:14:28.384448",
     "exception": false,
     "start_time": "2022-03-22T12:14:28.352387",
     "status": "completed"
    },
    "tags": []
   },
   "outputs": [],
   "source": [
    "#hide\n",
    "# g.head()"
   ]
  },
  {
   "cell_type": "code",
   "execution_count": 26,
   "id": "specific-kruger",
   "metadata": {
    "execution": {
     "iopub.execute_input": "2022-03-22T12:14:28.441789Z",
     "iopub.status.busy": "2022-03-22T12:14:28.441199Z",
     "iopub.status.idle": "2022-03-22T12:14:28.444431Z",
     "shell.execute_reply": "2022-03-22T12:14:28.444869Z"
    },
    "papermill": {
     "duration": 0.033683,
     "end_time": "2022-03-22T12:14:28.445003",
     "exception": false,
     "start_time": "2022-03-22T12:14:28.411320",
     "status": "completed"
    },
    "tags": []
   },
   "outputs": [],
   "source": [
    "#hide\n",
    "# g.columns = ['date','country','cases']"
   ]
  },
  {
   "cell_type": "code",
   "execution_count": 27,
   "id": "tender-conversion",
   "metadata": {
    "execution": {
     "iopub.execute_input": "2022-03-22T12:14:28.503022Z",
     "iopub.status.busy": "2022-03-22T12:14:28.502433Z",
     "iopub.status.idle": "2022-03-22T12:14:28.503925Z",
     "shell.execute_reply": "2022-03-22T12:14:28.504358Z"
    },
    "papermill": {
     "duration": 0.032377,
     "end_time": "2022-03-22T12:14:28.504496",
     "exception": false,
     "start_time": "2022-03-22T12:14:28.472119",
     "status": "completed"
    },
    "tags": []
   },
   "outputs": [],
   "source": [
    "#hide\n",
    "# g['continent'] = g.country"
   ]
  },
  {
   "cell_type": "code",
   "execution_count": 28,
   "id": "substantial-wilderness",
   "metadata": {
    "execution": {
     "iopub.execute_input": "2022-03-22T12:14:28.562123Z",
     "iopub.status.busy": "2022-03-22T12:14:28.561535Z",
     "iopub.status.idle": "2022-03-22T12:14:28.563731Z",
     "shell.execute_reply": "2022-03-22T12:14:28.563266Z"
    },
    "papermill": {
     "duration": 0.032164,
     "end_time": "2022-03-22T12:14:28.563849",
     "exception": false,
     "start_time": "2022-03-22T12:14:28.531685",
     "status": "completed"
    },
    "tags": []
   },
   "outputs": [],
   "source": [
    "#hide\n",
    "# cols = list(g.columns.values)"
   ]
  },
  {
   "cell_type": "code",
   "execution_count": 29,
   "id": "solved-farming",
   "metadata": {
    "execution": {
     "iopub.execute_input": "2022-03-22T12:14:28.621623Z",
     "iopub.status.busy": "2022-03-22T12:14:28.621166Z",
     "iopub.status.idle": "2022-03-22T12:14:28.623029Z",
     "shell.execute_reply": "2022-03-22T12:14:28.623391Z"
    },
    "papermill": {
     "duration": 0.032198,
     "end_time": "2022-03-22T12:14:28.623510",
     "exception": false,
     "start_time": "2022-03-22T12:14:28.591312",
     "status": "completed"
    },
    "tags": []
   },
   "outputs": [],
   "source": [
    "#hide\n",
    "# cols.insert(0, cols.pop())"
   ]
  },
  {
   "cell_type": "code",
   "execution_count": 30,
   "id": "executed-adoption",
   "metadata": {
    "execution": {
     "iopub.execute_input": "2022-03-22T12:14:28.681192Z",
     "iopub.status.busy": "2022-03-22T12:14:28.680603Z",
     "iopub.status.idle": "2022-03-22T12:14:28.684019Z",
     "shell.execute_reply": "2022-03-22T12:14:28.683650Z"
    },
    "papermill": {
     "duration": 0.033244,
     "end_time": "2022-03-22T12:14:28.684117",
     "exception": false,
     "start_time": "2022-03-22T12:14:28.650873",
     "status": "completed"
    },
    "tags": []
   },
   "outputs": [],
   "source": [
    "#hide\n",
    "# g = g[cols]"
   ]
  },
  {
   "cell_type": "code",
   "execution_count": 31,
   "id": "subject-dublin",
   "metadata": {
    "execution": {
     "iopub.execute_input": "2022-03-22T12:14:28.741729Z",
     "iopub.status.busy": "2022-03-22T12:14:28.741130Z",
     "iopub.status.idle": "2022-03-22T12:14:28.742541Z",
     "shell.execute_reply": "2022-03-22T12:14:28.743001Z"
    },
    "papermill": {
     "duration": 0.031978,
     "end_time": "2022-03-22T12:14:28.743159",
     "exception": false,
     "start_time": "2022-03-22T12:14:28.711181",
     "status": "completed"
    },
    "tags": []
   },
   "outputs": [],
   "source": [
    "#hide\n",
    "# g['continent'] = g['continent'].map(mapping['map.continent'])"
   ]
  },
  {
   "cell_type": "code",
   "execution_count": 32,
   "id": "freelance-scout",
   "metadata": {
    "execution": {
     "iopub.execute_input": "2022-03-22T12:14:28.802064Z",
     "iopub.status.busy": "2022-03-22T12:14:28.801577Z",
     "iopub.status.idle": "2022-03-22T12:14:28.803613Z",
     "shell.execute_reply": "2022-03-22T12:14:28.803245Z"
    },
    "papermill": {
     "duration": 0.032246,
     "end_time": "2022-03-22T12:14:28.803715",
     "exception": false,
     "start_time": "2022-03-22T12:14:28.771469",
     "status": "completed"
    },
    "tags": []
   },
   "outputs": [],
   "source": [
    "#hide\n",
    "# g.head()"
   ]
  },
  {
   "cell_type": "code",
   "execution_count": 33,
   "id": "limited-engine",
   "metadata": {
    "execution": {
     "iopub.execute_input": "2022-03-22T12:14:28.860491Z",
     "iopub.status.busy": "2022-03-22T12:14:28.859910Z",
     "iopub.status.idle": "2022-03-22T12:14:28.863302Z",
     "shell.execute_reply": "2022-03-22T12:14:28.862916Z"
    },
    "papermill": {
     "duration": 0.033036,
     "end_time": "2022-03-22T12:14:28.863401",
     "exception": false,
     "start_time": "2022-03-22T12:14:28.830365",
     "status": "completed"
    },
    "tags": []
   },
   "outputs": [],
   "source": [
    "# hide\n",
    "# g['date'] = g['date'].astype('datetime64[ns]')"
   ]
  },
  {
   "cell_type": "code",
   "execution_count": 34,
   "id": "sophisticated-supervisor",
   "metadata": {
    "execution": {
     "iopub.execute_input": "2022-03-22T12:14:28.921113Z",
     "iopub.status.busy": "2022-03-22T12:14:28.920529Z",
     "iopub.status.idle": "2022-03-22T12:14:28.922349Z",
     "shell.execute_reply": "2022-03-22T12:14:28.921849Z"
    },
    "papermill": {
     "duration": 0.031964,
     "end_time": "2022-03-22T12:14:28.922442",
     "exception": false,
     "start_time": "2022-03-22T12:14:28.890478",
     "status": "completed"
    },
    "tags": []
   },
   "outputs": [],
   "source": [
    "#hide\n",
    "# g['date'] = g.date.dt.dayofyear"
   ]
  },
  {
   "cell_type": "code",
   "execution_count": 35,
   "id": "inside-dubai",
   "metadata": {
    "execution": {
     "iopub.execute_input": "2022-03-22T12:14:28.979540Z",
     "iopub.status.busy": "2022-03-22T12:14:28.978914Z",
     "iopub.status.idle": "2022-03-22T12:14:28.981985Z",
     "shell.execute_reply": "2022-03-22T12:14:28.981401Z"
    },
    "papermill": {
     "duration": 0.032926,
     "end_time": "2022-03-22T12:14:28.982103",
     "exception": false,
     "start_time": "2022-03-22T12:14:28.949177",
     "status": "completed"
    },
    "tags": []
   },
   "outputs": [],
   "source": [
    "#hide\n",
    "# g = g.rename(columns= {'continent':'group','country':'name','cases':'value'})"
   ]
  },
  {
   "cell_type": "code",
   "execution_count": 36,
   "id": "fleet-motorcycle",
   "metadata": {
    "execution": {
     "iopub.execute_input": "2022-03-22T12:14:29.039499Z",
     "iopub.status.busy": "2022-03-22T12:14:29.038870Z",
     "iopub.status.idle": "2022-03-22T12:14:29.042026Z",
     "shell.execute_reply": "2022-03-22T12:14:29.041538Z"
    },
    "papermill": {
     "duration": 0.03299,
     "end_time": "2022-03-22T12:14:29.042141",
     "exception": false,
     "start_time": "2022-03-22T12:14:29.009151",
     "status": "completed"
    },
    "tags": []
   },
   "outputs": [],
   "source": [
    "#hide\n",
    "# cols = ['name','group','day','value']"
   ]
  },
  {
   "cell_type": "code",
   "execution_count": 37,
   "id": "continued-sleeping",
   "metadata": {
    "execution": {
     "iopub.execute_input": "2022-03-22T12:14:29.099093Z",
     "iopub.status.busy": "2022-03-22T12:14:29.098644Z",
     "iopub.status.idle": "2022-03-22T12:14:29.100481Z",
     "shell.execute_reply": "2022-03-22T12:14:29.100910Z"
    },
    "papermill": {
     "duration": 0.03181,
     "end_time": "2022-03-22T12:14:29.101017",
     "exception": false,
     "start_time": "2022-03-22T12:14:29.069207",
     "status": "completed"
    },
    "tags": []
   },
   "outputs": [],
   "source": [
    "#hide\n",
    "# g.rename(columns= {'date':'day'},inplace = True)"
   ]
  },
  {
   "cell_type": "code",
   "execution_count": 38,
   "id": "major-fight",
   "metadata": {
    "execution": {
     "iopub.execute_input": "2022-03-22T12:14:29.158900Z",
     "iopub.status.busy": "2022-03-22T12:14:29.158274Z",
     "iopub.status.idle": "2022-03-22T12:14:29.161538Z",
     "shell.execute_reply": "2022-03-22T12:14:29.161978Z"
    },
    "papermill": {
     "duration": 0.034514,
     "end_time": "2022-03-22T12:14:29.162124",
     "exception": false,
     "start_time": "2022-03-22T12:14:29.127610",
     "status": "completed"
    },
    "tags": []
   },
   "outputs": [],
   "source": [
    "#hide\n",
    "# g = g[cols]"
   ]
  },
  {
   "cell_type": "code",
   "execution_count": 39,
   "id": "structured-mobile",
   "metadata": {
    "execution": {
     "iopub.execute_input": "2022-03-22T12:14:29.220914Z",
     "iopub.status.busy": "2022-03-22T12:14:29.220362Z",
     "iopub.status.idle": "2022-03-22T12:14:29.222371Z",
     "shell.execute_reply": "2022-03-22T12:14:29.221949Z"
    },
    "papermill": {
     "duration": 0.032429,
     "end_time": "2022-03-22T12:14:29.222485",
     "exception": false,
     "start_time": "2022-03-22T12:14:29.190056",
     "status": "completed"
    },
    "tags": []
   },
   "outputs": [],
   "source": [
    "# #hide\n",
    "# g = g[g.group.notna()]"
   ]
  },
  {
   "cell_type": "code",
   "execution_count": 40,
   "id": "determined-closing",
   "metadata": {
    "execution": {
     "iopub.execute_input": "2022-03-22T12:14:29.281333Z",
     "iopub.status.busy": "2022-03-22T12:14:29.280706Z",
     "iopub.status.idle": "2022-03-22T12:14:29.281945Z",
     "shell.execute_reply": "2022-03-22T12:14:29.282484Z"
    },
    "papermill": {
     "duration": 0.032165,
     "end_time": "2022-03-22T12:14:29.282623",
     "exception": false,
     "start_time": "2022-03-22T12:14:29.250458",
     "status": "completed"
    },
    "tags": []
   },
   "outputs": [],
   "source": [
    "# #hide\n",
    "# colors = dict(zip(\n",
    "#     [\"Oceania\", \"Europe\", \"Asia\", \"South America\", \"Middle East\", \"North America\", \"Africa\"],\n",
    "#     [\"#adb0ff\", \"#ffb3ff\", \"#90d595\", \"#e48381\", \"#aafbff\", \"#f7bb5f\", \"#eafb50\"]\n",
    "# ))\n",
    "# group_lk = g.set_index('name')['group'].to_dict()"
   ]
  },
  {
   "cell_type": "code",
   "execution_count": null,
   "id": "gross-drinking",
   "metadata": {
    "papermill": {
     "duration": 0.027015,
     "end_time": "2022-03-22T12:14:29.337942",
     "exception": false,
     "start_time": "2022-03-22T12:14:29.310927",
     "status": "completed"
    },
    "tags": []
   },
   "outputs": [],
   "source": []
  },
  {
   "cell_type": "code",
   "execution_count": 41,
   "id": "subject-macintosh",
   "metadata": {
    "execution": {
     "iopub.execute_input": "2022-03-22T12:14:29.396476Z",
     "iopub.status.busy": "2022-03-22T12:14:29.396010Z",
     "iopub.status.idle": "2022-03-22T12:14:29.397993Z",
     "shell.execute_reply": "2022-03-22T12:14:29.398428Z"
    },
    "papermill": {
     "duration": 0.033517,
     "end_time": "2022-03-22T12:14:29.398545",
     "exception": false,
     "start_time": "2022-03-22T12:14:29.365028",
     "status": "completed"
    },
    "tags": []
   },
   "outputs": [],
   "source": [
    "# #hide\n",
    "# fig, ax = plt.subplots(figsize=(15, 8))\n",
    "\n",
    "# def draw_barchart(current_day):\n",
    "#     dff = g[g['day'].eq(current_day)].sort_values(by='value', ascending=True).tail(10)\n",
    "#     ax.clear()\n",
    "#     ax.barh(dff['name'], dff['value'], color=[colors[group_lk[x]] for x in dff['name']])\n",
    "#     dx = dff['value'].max() / 200\n",
    "    \n",
    "#     for i, (value, name) in enumerate(zip(dff['value'], dff['name'])):\n",
    "#         ax.text(value-dx, i,     name,           size=14, weight=600, ha='right', va='bottom')\n",
    "#         ax.text(value-dx, i-.25, group_lk[name], size=10, color='#444444', ha='right', va='baseline')\n",
    "#         ax.text(value+dx, i,     f'{value:,.0f}',  size=14, ha='left',  va='center')\n",
    "#     ax.text(1, 0.4, current_day, transform=ax.transAxes, color='#777777', size=46, ha='right', weight=800)\n",
    "#     ax.text(0, 1.06, 'Population (thousands)', transform=ax.transAxes, size=12, color='#777777')\n",
    "#     ax.xaxis.set_major_formatter(ticker.StrMethodFormatter('{x:,.0f}'))\n",
    "#     ax.xaxis.set_ticks_position('top')\n",
    "#     ax.tick_params(axis='x', colors='#777777', labelsize=12)\n",
    "#     ax.set_yticks([])\n",
    "#     ax.margins(0, 0.01)\n",
    "#     ax.grid(which='major', axis='x', linestyle='-')\n",
    "#     ax.set_axisbelow(True)\n",
    "    \n",
    "#     ax.text(0, 1.15, 'Coronavirus',\n",
    "#             transform=ax.transAxes, size=24, weight=600, ha='left', va='top')\n",
    "# #     ax.text(1, 0, 'by @pratapvardhan; credit @jburnmurdoch', transform=ax.transAxes, color='#777777', ha='right',\n",
    "# #             bbox=dict(facecolor='white', alpha=0.8, edgecolor='white'))\n",
    "#     plt.box(False)"
   ]
  },
  {
   "cell_type": "code",
   "execution_count": 42,
   "id": "sexual-wages",
   "metadata": {
    "execution": {
     "iopub.execute_input": "2022-03-22T12:14:29.456015Z",
     "iopub.status.busy": "2022-03-22T12:14:29.455409Z",
     "iopub.status.idle": "2022-03-22T12:14:29.458778Z",
     "shell.execute_reply": "2022-03-22T12:14:29.459240Z"
    },
    "papermill": {
     "duration": 0.033982,
     "end_time": "2022-03-22T12:14:29.459382",
     "exception": false,
     "start_time": "2022-03-22T12:14:29.425400",
     "status": "completed"
    },
    "tags": []
   },
   "outputs": [],
   "source": [
    "# #hide_input\n",
    "# fig, ax = plt.subplots(figsize=(15, 8))\n",
    "# animator = animation.FuncAnimation(fig, draw_barchart, frames=range(g.day.values.min(), g.day.values.max()))\n",
    "# HTML(animator.to_jshtml())\n",
    "# # or use animator.to_html5_video() or animator.save() "
   ]
  },
  {
   "cell_type": "code",
   "execution_count": null,
   "id": "australian-container",
   "metadata": {
    "papermill": {
     "duration": 0.02722,
     "end_time": "2022-03-22T12:14:29.513965",
     "exception": false,
     "start_time": "2022-03-22T12:14:29.486745",
     "status": "completed"
    },
    "tags": []
   },
   "outputs": [],
   "source": []
  },
  {
   "cell_type": "code",
   "execution_count": null,
   "id": "mediterranean-pontiac",
   "metadata": {
    "papermill": {
     "duration": 0.026686,
     "end_time": "2022-03-22T12:14:29.567313",
     "exception": false,
     "start_time": "2022-03-22T12:14:29.540627",
     "status": "completed"
    },
    "tags": []
   },
   "outputs": [],
   "source": []
  },
  {
   "cell_type": "code",
   "execution_count": null,
   "id": "aging-legislature",
   "metadata": {
    "papermill": {
     "duration": 0.026702,
     "end_time": "2022-03-22T12:14:29.620965",
     "exception": false,
     "start_time": "2022-03-22T12:14:29.594263",
     "status": "completed"
    },
    "tags": []
   },
   "outputs": [],
   "source": []
  }
 ],
 "metadata": {
  "kernelspec": {
   "display_name": "Python 3",
   "language": "python",
   "name": "python3"
  },
  "language_info": {
   "codemirror_mode": {
    "name": "ipython",
    "version": 3
   },
   "file_extension": ".py",
   "mimetype": "text/x-python",
   "name": "python",
   "nbconvert_exporter": "python",
   "pygments_lexer": "ipython3",
   "version": "3.6.15"
  },
  "papermill": {
   "duration": 5.745399,
   "end_time": "2022-03-22T12:14:29.965143",
   "environment_variables": {},
   "exception": null,
   "input_path": "2020-03-21-covid19exp.ipynb",
   "output_path": "2020-03-21-covid19exp.ipynb",
   "parameters": {},
   "start_time": "2022-03-22T12:14:24.219744",
   "version": "2.0.0"
  }
 },
 "nbformat": 4,
 "nbformat_minor": 5
}