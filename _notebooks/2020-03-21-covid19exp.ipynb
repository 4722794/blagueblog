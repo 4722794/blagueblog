{
 "cells": [
  {
   "cell_type": "markdown",
   "id": "muslim-click",
   "metadata": {
    "papermill": {
     "duration": 0.046265,
     "end_time": "2022-03-26T12:13:48.824400",
     "exception": false,
     "start_time": "2022-03-26T12:13:48.778135",
     "status": "completed"
    },
    "tags": []
   },
   "source": [
    "# COVID-19 Case Race\n",
    "> A race chart to see rising cases around the world\n",
    "\n",
    "- author: Hargun Oberoi\n",
    "- image: images/covid-overview.png\n",
    "- hide: false\n",
    "- badges: false"
   ]
  },
  {
   "cell_type": "code",
   "execution_count": 1,
   "id": "proof-material",
   "metadata": {
    "execution": {
     "iopub.execute_input": "2022-03-26T12:13:48.906403Z",
     "iopub.status.busy": "2022-03-26T12:13:48.905726Z",
     "iopub.status.idle": "2022-03-26T12:13:49.290877Z",
     "shell.execute_reply": "2022-03-26T12:13:49.290253Z"
    },
    "papermill": {
     "duration": 0.429705,
     "end_time": "2022-03-26T12:13:49.291032",
     "exception": false,
     "start_time": "2022-03-26T12:13:48.861327",
     "status": "completed"
    },
    "tags": []
   },
   "outputs": [],
   "source": [
    "#hide\n",
    "import numpy as np\n",
    "import pandas as pd\n",
    "from jinja2 import Template\n",
    "from IPython.display import HTML"
   ]
  },
  {
   "cell_type": "code",
   "execution_count": 2,
   "id": "developed-terminology",
   "metadata": {
    "execution": {
     "iopub.execute_input": "2022-03-26T12:13:49.369741Z",
     "iopub.status.busy": "2022-03-26T12:13:49.369115Z",
     "iopub.status.idle": "2022-03-26T12:13:49.370476Z",
     "shell.execute_reply": "2022-03-26T12:13:49.371042Z"
    },
    "papermill": {
     "duration": 0.046073,
     "end_time": "2022-03-26T12:13:49.371183",
     "exception": false,
     "start_time": "2022-03-26T12:13:49.325110",
     "status": "completed"
    },
    "tags": []
   },
   "outputs": [],
   "source": [
    "#hide\n",
    "\n",
    "# FETCH\n",
    "base_url = 'https://raw.githubusercontent.com/pratapvardhan/notebooks/master/covid19/'\n",
    "paths = {\n",
    "    'mapping': base_url + 'mapping_countries.csv',\n",
    "    'overview': base_url + 'overview.tpl'\n",
    "}"
   ]
  },
  {
   "cell_type": "code",
   "execution_count": 3,
   "id": "dynamic-saver",
   "metadata": {
    "execution": {
     "iopub.execute_input": "2022-03-26T12:13:49.459729Z",
     "iopub.status.busy": "2022-03-26T12:13:49.459119Z",
     "iopub.status.idle": "2022-03-26T12:13:49.462471Z",
     "shell.execute_reply": "2022-03-26T12:13:49.462961Z"
    },
    "papermill": {
     "duration": 0.055631,
     "end_time": "2022-03-26T12:13:49.463103",
     "exception": false,
     "start_time": "2022-03-26T12:13:49.407472",
     "status": "completed"
    },
    "tags": []
   },
   "outputs": [
    {
     "data": {
      "text/plain": [
       "'https://raw.githubusercontent.com/pratapvardhan/notebooks/master/covid19/mapping_countries.csv'"
      ]
     },
     "execution_count": 3,
     "metadata": {},
     "output_type": "execute_result"
    }
   ],
   "source": [
    "#hide\n",
    "paths['mapping']"
   ]
  },
  {
   "cell_type": "code",
   "execution_count": 4,
   "id": "urban-software",
   "metadata": {
    "execution": {
     "iopub.execute_input": "2022-03-26T12:13:49.536203Z",
     "iopub.status.busy": "2022-03-26T12:13:49.535596Z",
     "iopub.status.idle": "2022-03-26T12:13:49.538314Z",
     "shell.execute_reply": "2022-03-26T12:13:49.537804Z"
    },
    "papermill": {
     "duration": 0.041899,
     "end_time": "2022-03-26T12:13:49.538444",
     "exception": false,
     "start_time": "2022-03-26T12:13:49.496545",
     "status": "completed"
    },
    "tags": []
   },
   "outputs": [],
   "source": [
    "#hide\n",
    "def get_mappings(url):\n",
    "    df = pd.read_csv(url)\n",
    "    return {\n",
    "        'df': df,\n",
    "        'replace.country': dict(df.dropna(subset=['Name']).set_index('Country')['Name']),\n",
    "        'map.continent': dict(df.set_index('Name')['Continent'])\n",
    "    }"
   ]
  },
  {
   "cell_type": "code",
   "execution_count": 5,
   "id": "intimate-machinery",
   "metadata": {
    "execution": {
     "iopub.execute_input": "2022-03-26T12:13:49.609489Z",
     "iopub.status.busy": "2022-03-26T12:13:49.608895Z",
     "iopub.status.idle": "2022-03-26T12:13:49.635360Z",
     "shell.execute_reply": "2022-03-26T12:13:49.634852Z"
    },
    "papermill": {
     "duration": 0.063988,
     "end_time": "2022-03-26T12:13:49.635483",
     "exception": false,
     "start_time": "2022-03-26T12:13:49.571495",
     "status": "completed"
    },
    "tags": []
   },
   "outputs": [],
   "source": [
    "#hide\n",
    "mapping = get_mappings(paths['mapping'])"
   ]
  },
  {
   "cell_type": "code",
   "execution_count": 6,
   "id": "certified-tactics",
   "metadata": {
    "execution": {
     "iopub.execute_input": "2022-03-26T12:13:49.709775Z",
     "iopub.status.busy": "2022-03-26T12:13:49.708988Z",
     "iopub.status.idle": "2022-03-26T12:13:49.712503Z",
     "shell.execute_reply": "2022-03-26T12:13:49.712924Z"
    },
    "papermill": {
     "duration": 0.043836,
     "end_time": "2022-03-26T12:13:49.713060",
     "exception": false,
     "start_time": "2022-03-26T12:13:49.669224",
     "status": "completed"
    },
    "tags": []
   },
   "outputs": [],
   "source": [
    "#hide\n",
    "def get_template(path):\n",
    "    from urllib.parse import urlparse\n",
    "    if bool(urlparse(path).netloc):\n",
    "        from urllib.request import urlopen\n",
    "        return urlopen(path).read().decode('utf8')\n",
    "    return open(path).read()"
   ]
  },
  {
   "cell_type": "code",
   "execution_count": 7,
   "id": "realistic-blast",
   "metadata": {
    "execution": {
     "iopub.execute_input": "2022-03-26T12:13:49.783095Z",
     "iopub.status.busy": "2022-03-26T12:13:49.782536Z",
     "iopub.status.idle": "2022-03-26T12:13:49.785280Z",
     "shell.execute_reply": "2022-03-26T12:13:49.785758Z"
    },
    "papermill": {
     "duration": 0.03969,
     "end_time": "2022-03-26T12:13:49.785898",
     "exception": false,
     "start_time": "2022-03-26T12:13:49.746208",
     "status": "completed"
    },
    "tags": []
   },
   "outputs": [],
   "source": [
    "#hide\n",
    "def get_frame(name):\n",
    "    url = (\n",
    "        'https://raw.githubusercontent.com/CSSEGISandData/COVID-19/master/csse_covid_19_data/'\n",
    "        f'csse_covid_19_time_series/time_series_covid19_{name}_global.csv')\n",
    "    df = pd.read_csv(url)\n",
    "    # rename countries\n",
    "    df['Country/Region'] = df['Country/Region'].replace(mapping['replace.country'])\n",
    "    return df"
   ]
  },
  {
   "cell_type": "code",
   "execution_count": 8,
   "id": "affiliated-characterization",
   "metadata": {
    "execution": {
     "iopub.execute_input": "2022-03-26T12:13:49.857617Z",
     "iopub.status.busy": "2022-03-26T12:13:49.856806Z",
     "iopub.status.idle": "2022-03-26T12:13:49.858529Z",
     "shell.execute_reply": "2022-03-26T12:13:49.859171Z"
    },
    "papermill": {
     "duration": 0.041501,
     "end_time": "2022-03-26T12:13:49.859344",
     "exception": false,
     "start_time": "2022-03-26T12:13:49.817843",
     "status": "completed"
    },
    "tags": []
   },
   "outputs": [],
   "source": [
    "#hide\n",
    "def get_dates(df):\n",
    "    dt_cols = df.columns[~df.columns.isin(['Province/State', 'Country/Region', 'Lat', 'Long'])]\n",
    "    LAST_DATE_I = -1\n",
    "    # sometimes last column may be empty, then go backwards\n",
    "    for i in range(-1, -len(dt_cols), -1):\n",
    "        if not df[dt_cols[i]].fillna(0).eq(0).all():\n",
    "            LAST_DATE_I = i\n",
    "            break\n",
    "    return LAST_DATE_I, dt_cols"
   ]
  },
  {
   "cell_type": "code",
   "execution_count": 9,
   "id": "recent-optimization",
   "metadata": {
    "execution": {
     "iopub.execute_input": "2022-03-26T12:13:49.935905Z",
     "iopub.status.busy": "2022-03-26T12:13:49.935299Z",
     "iopub.status.idle": "2022-03-26T12:13:50.330396Z",
     "shell.execute_reply": "2022-03-26T12:13:50.329645Z"
    },
    "papermill": {
     "duration": 0.437475,
     "end_time": "2022-03-26T12:13:50.330547",
     "exception": false,
     "start_time": "2022-03-26T12:13:49.893072",
     "status": "completed"
    },
    "tags": []
   },
   "outputs": [],
   "source": [
    "#hide\n",
    "COL_REGION = 'Country/Region'\n",
    "# Confirmed, Recovered, Deaths\n",
    "df = get_frame('confirmed')\n",
    "# dft_: timeseries, dfc_: today country agg\n",
    "dft_cases = df\n",
    "dft_deaths = get_frame('deaths')\n",
    "dft_recovered = get_frame('recovered')\n",
    "LAST_DATE_I, dt_cols = get_dates(df)"
   ]
  },
  {
   "cell_type": "code",
   "execution_count": 10,
   "id": "absolute-copper",
   "metadata": {
    "execution": {
     "iopub.execute_input": "2022-03-26T12:13:50.405195Z",
     "iopub.status.busy": "2022-03-26T12:13:50.404587Z",
     "iopub.status.idle": "2022-03-26T12:13:50.408637Z",
     "shell.execute_reply": "2022-03-26T12:13:50.408133Z"
    },
    "papermill": {
     "duration": 0.043866,
     "end_time": "2022-03-26T12:13:50.408761",
     "exception": false,
     "start_time": "2022-03-26T12:13:50.364895",
     "status": "completed"
    },
    "tags": []
   },
   "outputs": [],
   "source": [
    "#hide\n",
    "LAST_DATE_I, dt_cols = get_dates(df)\n",
    "dt_today =dt_cols[LAST_DATE_I]\n",
    "# dt_5day = dt_cols[LAST_DATE_I - 5]\n",
    "dt_yday = dt_cols[LAST_DATE_I - 1]"
   ]
  },
  {
   "cell_type": "code",
   "execution_count": 11,
   "id": "restricted-sheriff",
   "metadata": {
    "execution": {
     "iopub.execute_input": "2022-03-26T12:13:50.490646Z",
     "iopub.status.busy": "2022-03-26T12:13:50.489725Z",
     "iopub.status.idle": "2022-03-26T12:13:50.495536Z",
     "shell.execute_reply": "2022-03-26T12:13:50.495033Z"
    },
    "papermill": {
     "duration": 0.047854,
     "end_time": "2022-03-26T12:13:50.495657",
     "exception": false,
     "start_time": "2022-03-26T12:13:50.447803",
     "status": "completed"
    },
    "tags": []
   },
   "outputs": [],
   "source": [
    "#hide\n",
    "dfc_cases = dft_cases.groupby(COL_REGION)[dt_today].sum()\n",
    "dfc_deaths = dft_deaths.groupby(COL_REGION)[dt_today].sum()\n",
    "# dfp_cases = dft_cases.groupby(COL_REGION)[dt_5day].sum()\n",
    "# dfp_deaths = dft_deaths.groupby(COL_REGION)[dt_5day].sum()\n",
    "dfp_cases = dft_cases.groupby(COL_REGION)[dt_yday].sum()\n",
    "dfp_deaths = dft_deaths.groupby(COL_REGION)[dt_yday].sum()"
   ]
  },
  {
   "cell_type": "code",
   "execution_count": 12,
   "id": "deluxe-hepatitis",
   "metadata": {
    "execution": {
     "iopub.execute_input": "2022-03-26T12:13:50.574702Z",
     "iopub.status.busy": "2022-03-26T12:13:50.574095Z",
     "iopub.status.idle": "2022-03-26T12:13:50.578525Z",
     "shell.execute_reply": "2022-03-26T12:13:50.579089Z"
    },
    "papermill": {
     "duration": 0.045759,
     "end_time": "2022-03-26T12:13:50.579230",
     "exception": false,
     "start_time": "2022-03-26T12:13:50.533471",
     "status": "completed"
    },
    "tags": []
   },
   "outputs": [],
   "source": [
    "#hide\n",
    "df_table = (pd.DataFrame(dict(Cases = dfc_cases, Deaths = dfc_deaths, PCases = dfp_cases, PDeaths = dfp_deaths))\n",
    "            .sort_values(by = ['Cases','Deaths'], ascending = [False, False])\n",
    "            .reset_index())"
   ]
  },
  {
   "cell_type": "code",
   "execution_count": 13,
   "id": "educational-chancellor",
   "metadata": {
    "execution": {
     "iopub.execute_input": "2022-03-26T12:13:50.672060Z",
     "iopub.status.busy": "2022-03-26T12:13:50.671462Z",
     "iopub.status.idle": "2022-03-26T12:13:50.680513Z",
     "shell.execute_reply": "2022-03-26T12:13:50.680037Z"
    },
    "papermill": {
     "duration": 0.06779,
     "end_time": "2022-03-26T12:13:50.680637",
     "exception": false,
     "start_time": "2022-03-26T12:13:50.612847",
     "status": "completed"
    },
    "tags": []
   },
   "outputs": [
    {
     "data": {
      "text/html": [
       "<div>\n",
       "<style scoped>\n",
       "    .dataframe tbody tr th:only-of-type {\n",
       "        vertical-align: middle;\n",
       "    }\n",
       "\n",
       "    .dataframe tbody tr th {\n",
       "        vertical-align: top;\n",
       "    }\n",
       "\n",
       "    .dataframe thead th {\n",
       "        text-align: right;\n",
       "    }\n",
       "</style>\n",
       "<table border=\"1\" class=\"dataframe\">\n",
       "  <thead>\n",
       "    <tr style=\"text-align: right;\">\n",
       "      <th></th>\n",
       "      <th>Country/Region</th>\n",
       "      <th>Cases</th>\n",
       "      <th>Deaths</th>\n",
       "      <th>PCases</th>\n",
       "      <th>PDeaths</th>\n",
       "      <th>Cases (+)</th>\n",
       "      <th>Deaths (+)</th>\n",
       "      <th>Fatality Rate</th>\n",
       "      <th>Continent</th>\n",
       "    </tr>\n",
       "  </thead>\n",
       "  <tbody>\n",
       "    <tr>\n",
       "      <th>0</th>\n",
       "      <td>US</td>\n",
       "      <td>79936777</td>\n",
       "      <td>976505</td>\n",
       "      <td>79888564</td>\n",
       "      <td>975863</td>\n",
       "      <td>48213</td>\n",
       "      <td>642</td>\n",
       "      <td>1.22</td>\n",
       "      <td>North America</td>\n",
       "    </tr>\n",
       "    <tr>\n",
       "      <th>1</th>\n",
       "      <td>India</td>\n",
       "      <td>43018032</td>\n",
       "      <td>520855</td>\n",
       "      <td>43016372</td>\n",
       "      <td>516755</td>\n",
       "      <td>1660</td>\n",
       "      <td>4100</td>\n",
       "      <td>1.21</td>\n",
       "      <td>Asia</td>\n",
       "    </tr>\n",
       "    <tr>\n",
       "      <th>2</th>\n",
       "      <td>Brazil</td>\n",
       "      <td>29809769</td>\n",
       "      <td>658855</td>\n",
       "      <td>29775568</td>\n",
       "      <td>658600</td>\n",
       "      <td>34201</td>\n",
       "      <td>255</td>\n",
       "      <td>2.21</td>\n",
       "      <td>South America</td>\n",
       "    </tr>\n",
       "    <tr>\n",
       "      <th>3</th>\n",
       "      <td>France</td>\n",
       "      <td>24967222</td>\n",
       "      <td>142597</td>\n",
       "      <td>24823603</td>\n",
       "      <td>142476</td>\n",
       "      <td>143619</td>\n",
       "      <td>121</td>\n",
       "      <td>0.57</td>\n",
       "      <td>Europe</td>\n",
       "    </tr>\n",
       "    <tr>\n",
       "      <th>4</th>\n",
       "      <td>United Kingdom</td>\n",
       "      <td>20848912</td>\n",
       "      <td>165046</td>\n",
       "      <td>20770686</td>\n",
       "      <td>164874</td>\n",
       "      <td>78226</td>\n",
       "      <td>172</td>\n",
       "      <td>0.79</td>\n",
       "      <td>Europe</td>\n",
       "    </tr>\n",
       "  </tbody>\n",
       "</table>\n",
       "</div>"
      ],
      "text/plain": [
       "   Country/Region     Cases  Deaths    PCases  PDeaths  Cases (+)  Deaths (+)  \\\n",
       "0              US  79936777  976505  79888564   975863      48213         642   \n",
       "1           India  43018032  520855  43016372   516755       1660        4100   \n",
       "2          Brazil  29809769  658855  29775568   658600      34201         255   \n",
       "3          France  24967222  142597  24823603   142476     143619         121   \n",
       "4  United Kingdom  20848912  165046  20770686   164874      78226         172   \n",
       "\n",
       "   Fatality Rate      Continent  \n",
       "0           1.22  North America  \n",
       "1           1.21           Asia  \n",
       "2           2.21  South America  \n",
       "3           0.57         Europe  \n",
       "4           0.79         Europe  "
      ]
     },
     "execution_count": 13,
     "metadata": {},
     "output_type": "execute_result"
    }
   ],
   "source": [
    "#hide\n",
    "for c in 'Cases, Deaths'.split(', '):\n",
    "    df_table[f'{c} (+)'] = (df_table[c] - df_table[f'P{c}']).clip(0)\n",
    "    #Clip ça veut dire, les chiffres negatif sont interdit\n",
    "df_table['Fatality Rate'] = (100* df_table['Deaths']/ df_table['Cases']).round(2)\n",
    "df_table['Continent'] = df_table['Country/Region'].map(mapping['map.continent'])\n",
    "df_table.head(5)"
   ]
  },
  {
   "cell_type": "code",
   "execution_count": 14,
   "id": "aboriginal-bulgaria",
   "metadata": {
    "execution": {
     "iopub.execute_input": "2022-03-26T12:13:50.759121Z",
     "iopub.status.busy": "2022-03-26T12:13:50.758523Z",
     "iopub.status.idle": "2022-03-26T12:13:50.760751Z",
     "shell.execute_reply": "2022-03-26T12:13:50.761229Z"
    },
    "papermill": {
     "duration": 0.046656,
     "end_time": "2022-03-26T12:13:50.761367",
     "exception": false,
     "start_time": "2022-03-26T12:13:50.714711",
     "status": "completed"
    },
    "tags": []
   },
   "outputs": [],
   "source": [
    "#hide\n",
    "#delete problematic countries from table\n",
    "df_table = df_table[~df_table['Country/Region'].isin(['Cape Verde', 'Cruise Ship', 'Kosovo'])]"
   ]
  },
  {
   "cell_type": "code",
   "execution_count": 15,
   "id": "fantastic-effect",
   "metadata": {
    "execution": {
     "iopub.execute_input": "2022-03-26T12:13:50.837430Z",
     "iopub.status.busy": "2022-03-26T12:13:50.836880Z",
     "iopub.status.idle": "2022-03-26T12:13:50.855392Z",
     "shell.execute_reply": "2022-03-26T12:13:50.855861Z"
    },
    "papermill": {
     "duration": 0.060387,
     "end_time": "2022-03-26T12:13:50.855989",
     "exception": false,
     "start_time": "2022-03-26T12:13:50.795602",
     "status": "completed"
    },
    "tags": []
   },
   "outputs": [
    {
     "data": {
      "text/html": [
       "<div>\n",
       "<style scoped>\n",
       "    .dataframe tbody tr th:only-of-type {\n",
       "        vertical-align: middle;\n",
       "    }\n",
       "\n",
       "    .dataframe tbody tr th {\n",
       "        vertical-align: top;\n",
       "    }\n",
       "\n",
       "    .dataframe thead th {\n",
       "        text-align: right;\n",
       "    }\n",
       "</style>\n",
       "<table border=\"1\" class=\"dataframe\">\n",
       "  <thead>\n",
       "    <tr style=\"text-align: right;\">\n",
       "      <th></th>\n",
       "      <th>Country/Region</th>\n",
       "      <th>Cases</th>\n",
       "      <th>Deaths</th>\n",
       "      <th>PCases</th>\n",
       "      <th>PDeaths</th>\n",
       "      <th>Cases (+)</th>\n",
       "      <th>Deaths (+)</th>\n",
       "      <th>Fatality Rate</th>\n",
       "      <th>Continent</th>\n",
       "    </tr>\n",
       "  </thead>\n",
       "  <tbody>\n",
       "    <tr>\n",
       "      <th>0</th>\n",
       "      <td>US</td>\n",
       "      <td>79936777</td>\n",
       "      <td>976505</td>\n",
       "      <td>79888564</td>\n",
       "      <td>975863</td>\n",
       "      <td>48213</td>\n",
       "      <td>642</td>\n",
       "      <td>1.2</td>\n",
       "      <td>North America</td>\n",
       "    </tr>\n",
       "    <tr>\n",
       "      <th>1</th>\n",
       "      <td>India</td>\n",
       "      <td>43018032</td>\n",
       "      <td>520855</td>\n",
       "      <td>43016372</td>\n",
       "      <td>516755</td>\n",
       "      <td>1660</td>\n",
       "      <td>4100</td>\n",
       "      <td>1.2</td>\n",
       "      <td>Asia</td>\n",
       "    </tr>\n",
       "    <tr>\n",
       "      <th>2</th>\n",
       "      <td>Brazil</td>\n",
       "      <td>29809769</td>\n",
       "      <td>658855</td>\n",
       "      <td>29775568</td>\n",
       "      <td>658600</td>\n",
       "      <td>34201</td>\n",
       "      <td>255</td>\n",
       "      <td>2.2</td>\n",
       "      <td>South America</td>\n",
       "    </tr>\n",
       "    <tr>\n",
       "      <th>3</th>\n",
       "      <td>France</td>\n",
       "      <td>24967222</td>\n",
       "      <td>142597</td>\n",
       "      <td>24823603</td>\n",
       "      <td>142476</td>\n",
       "      <td>143619</td>\n",
       "      <td>121</td>\n",
       "      <td>0.6</td>\n",
       "      <td>Europe</td>\n",
       "    </tr>\n",
       "    <tr>\n",
       "      <th>4</th>\n",
       "      <td>United Kingdom</td>\n",
       "      <td>20848912</td>\n",
       "      <td>165046</td>\n",
       "      <td>20770686</td>\n",
       "      <td>164874</td>\n",
       "      <td>78226</td>\n",
       "      <td>172</td>\n",
       "      <td>0.8</td>\n",
       "      <td>Europe</td>\n",
       "    </tr>\n",
       "  </tbody>\n",
       "</table>\n",
       "</div>"
      ],
      "text/plain": [
       "   Country/Region     Cases  Deaths    PCases  PDeaths  Cases (+)  Deaths (+)  \\\n",
       "0              US  79936777  976505  79888564   975863      48213         642   \n",
       "1           India  43018032  520855  43016372   516755       1660        4100   \n",
       "2          Brazil  29809769  658855  29775568   658600      34201         255   \n",
       "3          France  24967222  142597  24823603   142476     143619         121   \n",
       "4  United Kingdom  20848912  165046  20770686   164874      78226         172   \n",
       "\n",
       "   Fatality Rate      Continent  \n",
       "0            1.2  North America  \n",
       "1            1.2           Asia  \n",
       "2            2.2  South America  \n",
       "3            0.6         Europe  \n",
       "4            0.8         Europe  "
      ]
     },
     "execution_count": 15,
     "metadata": {},
     "output_type": "execute_result"
    }
   ],
   "source": [
    "#hide\n",
    "df_table = (pd.DataFrame(dict(Cases=dfc_cases, Deaths=dfc_deaths, PCases=dfp_cases, PDeaths=dfp_deaths))\n",
    "             .sort_values(by=['Cases', 'Deaths'], ascending=[False, False])\n",
    "             .reset_index())\n",
    "df_table.rename(columns={'index': 'Country/Region'}, inplace=True)\n",
    "for c in 'Cases, Deaths'.split(', '):\n",
    "    df_table[f'{c} (+)'] = (df_table[c] - df_table[f'P{c}']).clip(0)  # DATA BUG\n",
    "df_table['Fatality Rate'] = (100 * df_table['Deaths'] / df_table['Cases']).round(1)\n",
    "df_table['Continent'] = df_table['Country/Region'].map(mapping['map.continent'])\n",
    "df_table.head(5)"
   ]
  },
  {
   "cell_type": "code",
   "execution_count": 16,
   "id": "fewer-occasion",
   "metadata": {
    "execution": {
     "iopub.execute_input": "2022-03-26T12:13:50.929794Z",
     "iopub.status.busy": "2022-03-26T12:13:50.929198Z",
     "iopub.status.idle": "2022-03-26T12:13:50.932645Z",
     "shell.execute_reply": "2022-03-26T12:13:50.933032Z"
    },
    "papermill": {
     "duration": 0.043675,
     "end_time": "2022-03-26T12:13:50.933152",
     "exception": false,
     "start_time": "2022-03-26T12:13:50.889477",
     "status": "completed"
    },
    "tags": []
   },
   "outputs": [],
   "source": [
    "#hide\n",
    "#delete problematic countries from table\n",
    "df_table = df_table[~df_table['Country/Region'].isin(['Cape Verde', 'Cruise Ship', 'Kosovo'])]"
   ]
  },
  {
   "cell_type": "code",
   "execution_count": 17,
   "id": "related-center",
   "metadata": {
    "execution": {
     "iopub.execute_input": "2022-03-26T12:13:51.018736Z",
     "iopub.status.busy": "2022-03-26T12:13:51.018140Z",
     "iopub.status.idle": "2022-03-26T12:13:51.023837Z",
     "shell.execute_reply": "2022-03-26T12:13:51.024284Z"
    },
    "papermill": {
     "duration": 0.05856,
     "end_time": "2022-03-26T12:13:51.024413",
     "exception": false,
     "start_time": "2022-03-26T12:13:50.965853",
     "status": "completed"
    },
    "tags": []
   },
   "outputs": [],
   "source": [
    "#hide\n",
    "metrics = [df_table.columns[index] for index in [1,2,5,6]]\n",
    "# s_china = df_table[df_table['Country/Region'].eq('China')][metrics].sum().add_prefix('China ')\n",
    "s_us = df_table[df_table['Country/Region'].eq('US')][metrics].sum().add_prefix('US ')\n",
    "s_eu = df_table[df_table['Continent'].eq('Europe')][metrics].sum().add_prefix('EU ')\n",
    "s_ind = df_table[df_table['Country/Region'].eq('India')][metrics].sum().add_prefix('India ')\n",
    "summary = {'updated': pd.to_datetime(dt_today), 'since': pd.to_datetime(dt_yday)}\n",
    "summary = {'updated': pd.to_datetime(dt_today), 'since': pd.to_datetime(dt_yday)}\n",
    "summary = {**summary, **df_table[metrics].sum(), **s_ind, **s_us, **s_eu}"
   ]
  },
  {
   "cell_type": "code",
   "execution_count": 18,
   "id": "engaging-syndrome",
   "metadata": {
    "execution": {
     "iopub.execute_input": "2022-03-26T12:13:51.097988Z",
     "iopub.status.busy": "2022-03-26T12:13:51.097412Z",
     "iopub.status.idle": "2022-03-26T12:13:51.116072Z",
     "shell.execute_reply": "2022-03-26T12:13:51.115593Z"
    },
    "papermill": {
     "duration": 0.057927,
     "end_time": "2022-03-26T12:13:51.116206",
     "exception": false,
     "start_time": "2022-03-26T12:13:51.058279",
     "status": "completed"
    },
    "tags": []
   },
   "outputs": [],
   "source": [
    "#hide\n",
    "dft_ct_new_cases = dft_cases.groupby(COL_REGION)[dt_cols].sum().diff(axis=1).fillna(0).astype(int)"
   ]
  },
  {
   "cell_type": "code",
   "execution_count": 19,
   "id": "neutral-assignment",
   "metadata": {
    "execution": {
     "iopub.execute_input": "2022-03-26T12:13:51.188098Z",
     "iopub.status.busy": "2022-03-26T12:13:51.187258Z",
     "iopub.status.idle": "2022-03-26T12:13:51.188762Z",
     "shell.execute_reply": "2022-03-26T12:13:51.189228Z"
    },
    "papermill": {
     "duration": 0.040537,
     "end_time": "2022-03-26T12:13:51.189365",
     "exception": false,
     "start_time": "2022-03-26T12:13:51.148828",
     "status": "completed"
    },
    "tags": []
   },
   "outputs": [],
   "source": [
    "#hide\n",
    "everydaycases = dft_ct_new_cases.cumsum(axis=1)"
   ]
  },
  {
   "cell_type": "code",
   "execution_count": 20,
   "id": "parliamentary-calgary",
   "metadata": {
    "execution": {
     "iopub.execute_input": "2022-03-26T12:13:51.260872Z",
     "iopub.status.busy": "2022-03-26T12:13:51.260307Z",
     "iopub.status.idle": "2022-03-26T12:13:51.948542Z",
     "shell.execute_reply": "2022-03-26T12:13:51.947970Z"
    },
    "papermill": {
     "duration": 0.724923,
     "end_time": "2022-03-26T12:13:51.948679",
     "exception": false,
     "start_time": "2022-03-26T12:13:51.223756",
     "status": "completed"
    },
    "tags": []
   },
   "outputs": [],
   "source": [
    "#hide\n",
    "import pandas as pd\n",
    "import matplotlib.pyplot as plt\n",
    "import matplotlib.ticker as ticker\n",
    "import matplotlib.animation as animation\n",
    "from IPython.display import HTML"
   ]
  },
  {
   "cell_type": "code",
   "execution_count": 21,
   "id": "lasting-extraction",
   "metadata": {
    "execution": {
     "iopub.execute_input": "2022-03-26T12:13:52.027485Z",
     "iopub.status.busy": "2022-03-26T12:13:52.026911Z",
     "iopub.status.idle": "2022-03-26T12:13:52.033656Z",
     "shell.execute_reply": "2022-03-26T12:13:52.033138Z"
    },
    "papermill": {
     "duration": 0.052681,
     "end_time": "2022-03-26T12:13:52.033782",
     "exception": false,
     "start_time": "2022-03-26T12:13:51.981101",
     "status": "completed"
    },
    "tags": []
   },
   "outputs": [],
   "source": [
    "#hide\n",
    "t = everydaycases.stack()"
   ]
  },
  {
   "cell_type": "code",
   "execution_count": 22,
   "id": "premier-sleeve",
   "metadata": {
    "execution": {
     "iopub.execute_input": "2022-03-26T12:13:52.104702Z",
     "iopub.status.busy": "2022-03-26T12:13:52.104126Z",
     "iopub.status.idle": "2022-03-26T12:13:52.114565Z",
     "shell.execute_reply": "2022-03-26T12:13:52.115117Z"
    },
    "papermill": {
     "duration": 0.048163,
     "end_time": "2022-03-26T12:13:52.115260",
     "exception": false,
     "start_time": "2022-03-26T12:13:52.067097",
     "status": "completed"
    },
    "tags": []
   },
   "outputs": [],
   "source": [
    "#hide\n",
    "g = t.reset_index(['Country/Region'])"
   ]
  },
  {
   "cell_type": "code",
   "execution_count": 23,
   "id": "distributed-pittsburgh",
   "metadata": {
    "execution": {
     "iopub.execute_input": "2022-03-26T12:13:52.184167Z",
     "iopub.status.busy": "2022-03-26T12:13:52.183413Z",
     "iopub.status.idle": "2022-03-26T12:13:52.187518Z",
     "shell.execute_reply": "2022-03-26T12:13:52.187110Z"
    },
    "papermill": {
     "duration": 0.041118,
     "end_time": "2022-03-26T12:13:52.187621",
     "exception": false,
     "start_time": "2022-03-26T12:13:52.146503",
     "status": "completed"
    },
    "tags": []
   },
   "outputs": [],
   "source": [
    "#hide\n",
    "g.index.name = 'date'"
   ]
  },
  {
   "cell_type": "code",
   "execution_count": 24,
   "id": "naked-donor",
   "metadata": {
    "execution": {
     "iopub.execute_input": "2022-03-26T12:13:52.263840Z",
     "iopub.status.busy": "2022-03-26T12:13:52.262867Z",
     "iopub.status.idle": "2022-03-26T12:13:52.264860Z",
     "shell.execute_reply": "2022-03-26T12:13:52.265615Z"
    },
    "papermill": {
     "duration": 0.041068,
     "end_time": "2022-03-26T12:13:52.265794",
     "exception": false,
     "start_time": "2022-03-26T12:13:52.224726",
     "status": "completed"
    },
    "tags": []
   },
   "outputs": [],
   "source": [
    "# #hide\n",
    "# g = g.reset_index(['date'])"
   ]
  },
  {
   "cell_type": "code",
   "execution_count": 25,
   "id": "incomplete-mustang",
   "metadata": {
    "execution": {
     "iopub.execute_input": "2022-03-26T12:13:52.342674Z",
     "iopub.status.busy": "2022-03-26T12:13:52.342049Z",
     "iopub.status.idle": "2022-03-26T12:13:52.343909Z",
     "shell.execute_reply": "2022-03-26T12:13:52.344352Z"
    },
    "papermill": {
     "duration": 0.044452,
     "end_time": "2022-03-26T12:13:52.344494",
     "exception": false,
     "start_time": "2022-03-26T12:13:52.300042",
     "status": "completed"
    },
    "tags": []
   },
   "outputs": [],
   "source": [
    "#hide\n",
    "# g.head()"
   ]
  },
  {
   "cell_type": "code",
   "execution_count": 26,
   "id": "specific-kruger",
   "metadata": {
    "execution": {
     "iopub.execute_input": "2022-03-26T12:13:52.417586Z",
     "iopub.status.busy": "2022-03-26T12:13:52.417031Z",
     "iopub.status.idle": "2022-03-26T12:13:52.424205Z",
     "shell.execute_reply": "2022-03-26T12:13:52.423763Z"
    },
    "papermill": {
     "duration": 0.045854,
     "end_time": "2022-03-26T12:13:52.424321",
     "exception": false,
     "start_time": "2022-03-26T12:13:52.378467",
     "status": "completed"
    },
    "tags": []
   },
   "outputs": [],
   "source": [
    "#hide\n",
    "# g.columns = ['date','country','cases']"
   ]
  },
  {
   "cell_type": "code",
   "execution_count": 27,
   "id": "tender-conversion",
   "metadata": {
    "execution": {
     "iopub.execute_input": "2022-03-26T12:13:52.496493Z",
     "iopub.status.busy": "2022-03-26T12:13:52.495904Z",
     "iopub.status.idle": "2022-03-26T12:13:52.499285Z",
     "shell.execute_reply": "2022-03-26T12:13:52.498790Z"
    },
    "papermill": {
     "duration": 0.041595,
     "end_time": "2022-03-26T12:13:52.499402",
     "exception": false,
     "start_time": "2022-03-26T12:13:52.457807",
     "status": "completed"
    },
    "tags": []
   },
   "outputs": [],
   "source": [
    "#hide\n",
    "# g['continent'] = g.country"
   ]
  },
  {
   "cell_type": "code",
   "execution_count": 28,
   "id": "substantial-wilderness",
   "metadata": {
    "execution": {
     "iopub.execute_input": "2022-03-26T12:13:52.570537Z",
     "iopub.status.busy": "2022-03-26T12:13:52.569916Z",
     "iopub.status.idle": "2022-03-26T12:13:52.572089Z",
     "shell.execute_reply": "2022-03-26T12:13:52.571625Z"
    },
    "papermill": {
     "duration": 0.038745,
     "end_time": "2022-03-26T12:13:52.572222",
     "exception": false,
     "start_time": "2022-03-26T12:13:52.533477",
     "status": "completed"
    },
    "tags": []
   },
   "outputs": [],
   "source": [
    "#hide\n",
    "# cols = list(g.columns.values)"
   ]
  },
  {
   "cell_type": "code",
   "execution_count": 29,
   "id": "solved-farming",
   "metadata": {
    "execution": {
     "iopub.execute_input": "2022-03-26T12:13:52.649582Z",
     "iopub.status.busy": "2022-03-26T12:13:52.648548Z",
     "iopub.status.idle": "2022-03-26T12:13:52.652931Z",
     "shell.execute_reply": "2022-03-26T12:13:52.652419Z"
    },
    "papermill": {
     "duration": 0.047115,
     "end_time": "2022-03-26T12:13:52.653043",
     "exception": false,
     "start_time": "2022-03-26T12:13:52.605928",
     "status": "completed"
    },
    "tags": []
   },
   "outputs": [],
   "source": [
    "#hide\n",
    "# cols.insert(0, cols.pop())"
   ]
  },
  {
   "cell_type": "code",
   "execution_count": 30,
   "id": "executed-adoption",
   "metadata": {
    "execution": {
     "iopub.execute_input": "2022-03-26T12:13:52.729297Z",
     "iopub.status.busy": "2022-03-26T12:13:52.728671Z",
     "iopub.status.idle": "2022-03-26T12:13:52.731824Z",
     "shell.execute_reply": "2022-03-26T12:13:52.732279Z"
    },
    "papermill": {
     "duration": 0.046062,
     "end_time": "2022-03-26T12:13:52.732458",
     "exception": false,
     "start_time": "2022-03-26T12:13:52.686396",
     "status": "completed"
    },
    "tags": []
   },
   "outputs": [],
   "source": [
    "#hide\n",
    "# g = g[cols]"
   ]
  },
  {
   "cell_type": "code",
   "execution_count": 31,
   "id": "subject-dublin",
   "metadata": {
    "execution": {
     "iopub.execute_input": "2022-03-26T12:13:52.812979Z",
     "iopub.status.busy": "2022-03-26T12:13:52.811679Z",
     "iopub.status.idle": "2022-03-26T12:13:52.814216Z",
     "shell.execute_reply": "2022-03-26T12:13:52.813674Z"
    },
    "papermill": {
     "duration": 0.044587,
     "end_time": "2022-03-26T12:13:52.814353",
     "exception": false,
     "start_time": "2022-03-26T12:13:52.769766",
     "status": "completed"
    },
    "tags": []
   },
   "outputs": [],
   "source": [
    "#hide\n",
    "# g['continent'] = g['continent'].map(mapping['map.continent'])"
   ]
  },
  {
   "cell_type": "code",
   "execution_count": 32,
   "id": "freelance-scout",
   "metadata": {
    "execution": {
     "iopub.execute_input": "2022-03-26T12:13:52.896135Z",
     "iopub.status.busy": "2022-03-26T12:13:52.895541Z",
     "iopub.status.idle": "2022-03-26T12:13:52.897607Z",
     "shell.execute_reply": "2022-03-26T12:13:52.898115Z"
    },
    "papermill": {
     "duration": 0.040776,
     "end_time": "2022-03-26T12:13:52.898257",
     "exception": false,
     "start_time": "2022-03-26T12:13:52.857481",
     "status": "completed"
    },
    "tags": []
   },
   "outputs": [],
   "source": [
    "#hide\n",
    "# g.head()"
   ]
  },
  {
   "cell_type": "code",
   "execution_count": 33,
   "id": "limited-engine",
   "metadata": {
    "execution": {
     "iopub.execute_input": "2022-03-26T12:13:52.976080Z",
     "iopub.status.busy": "2022-03-26T12:13:52.975446Z",
     "iopub.status.idle": "2022-03-26T12:13:52.978319Z",
     "shell.execute_reply": "2022-03-26T12:13:52.977758Z"
    },
    "papermill": {
     "duration": 0.041085,
     "end_time": "2022-03-26T12:13:52.978442",
     "exception": false,
     "start_time": "2022-03-26T12:13:52.937357",
     "status": "completed"
    },
    "tags": []
   },
   "outputs": [],
   "source": [
    "# hide\n",
    "# g['date'] = g['date'].astype('datetime64[ns]')"
   ]
  },
  {
   "cell_type": "code",
   "execution_count": 34,
   "id": "sophisticated-supervisor",
   "metadata": {
    "execution": {
     "iopub.execute_input": "2022-03-26T12:13:53.053147Z",
     "iopub.status.busy": "2022-03-26T12:13:53.052298Z",
     "iopub.status.idle": "2022-03-26T12:13:53.054190Z",
     "shell.execute_reply": "2022-03-26T12:13:53.054848Z"
    },
    "papermill": {
     "duration": 0.041859,
     "end_time": "2022-03-26T12:13:53.055034",
     "exception": false,
     "start_time": "2022-03-26T12:13:53.013175",
     "status": "completed"
    },
    "tags": []
   },
   "outputs": [],
   "source": [
    "#hide\n",
    "# g['date'] = g.date.dt.dayofyear"
   ]
  },
  {
   "cell_type": "code",
   "execution_count": 35,
   "id": "inside-dubai",
   "metadata": {
    "execution": {
     "iopub.execute_input": "2022-03-26T12:13:53.133024Z",
     "iopub.status.busy": "2022-03-26T12:13:53.132405Z",
     "iopub.status.idle": "2022-03-26T12:13:53.134673Z",
     "shell.execute_reply": "2022-03-26T12:13:53.134078Z"
    },
    "papermill": {
     "duration": 0.044523,
     "end_time": "2022-03-26T12:13:53.134797",
     "exception": false,
     "start_time": "2022-03-26T12:13:53.090274",
     "status": "completed"
    },
    "tags": []
   },
   "outputs": [],
   "source": [
    "#hide\n",
    "# g = g.rename(columns= {'continent':'group','country':'name','cases':'value'})"
   ]
  },
  {
   "cell_type": "code",
   "execution_count": 36,
   "id": "fleet-motorcycle",
   "metadata": {
    "execution": {
     "iopub.execute_input": "2022-03-26T12:13:53.211371Z",
     "iopub.status.busy": "2022-03-26T12:13:53.210776Z",
     "iopub.status.idle": "2022-03-26T12:13:53.212803Z",
     "shell.execute_reply": "2022-03-26T12:13:53.213248Z"
    },
    "papermill": {
     "duration": 0.043073,
     "end_time": "2022-03-26T12:13:53.213391",
     "exception": false,
     "start_time": "2022-03-26T12:13:53.170318",
     "status": "completed"
    },
    "tags": []
   },
   "outputs": [],
   "source": [
    "#hide\n",
    "# cols = ['name','group','day','value']"
   ]
  },
  {
   "cell_type": "code",
   "execution_count": 37,
   "id": "continued-sleeping",
   "metadata": {
    "execution": {
     "iopub.execute_input": "2022-03-26T12:13:53.290037Z",
     "iopub.status.busy": "2022-03-26T12:13:53.289347Z",
     "iopub.status.idle": "2022-03-26T12:13:53.292100Z",
     "shell.execute_reply": "2022-03-26T12:13:53.292577Z"
    },
    "papermill": {
     "duration": 0.044102,
     "end_time": "2022-03-26T12:13:53.292731",
     "exception": false,
     "start_time": "2022-03-26T12:13:53.248629",
     "status": "completed"
    },
    "tags": []
   },
   "outputs": [],
   "source": [
    "#hide\n",
    "# g.rename(columns= {'date':'day'},inplace = True)"
   ]
  },
  {
   "cell_type": "code",
   "execution_count": 38,
   "id": "major-fight",
   "metadata": {
    "execution": {
     "iopub.execute_input": "2022-03-26T12:13:53.371065Z",
     "iopub.status.busy": "2022-03-26T12:13:53.370210Z",
     "iopub.status.idle": "2022-03-26T12:13:53.374640Z",
     "shell.execute_reply": "2022-03-26T12:13:53.374147Z"
    },
    "papermill": {
     "duration": 0.045611,
     "end_time": "2022-03-26T12:13:53.374769",
     "exception": false,
     "start_time": "2022-03-26T12:13:53.329158",
     "status": "completed"
    },
    "tags": []
   },
   "outputs": [],
   "source": [
    "#hide\n",
    "# g = g[cols]"
   ]
  },
  {
   "cell_type": "code",
   "execution_count": 39,
   "id": "structured-mobile",
   "metadata": {
    "execution": {
     "iopub.execute_input": "2022-03-26T12:13:53.452178Z",
     "iopub.status.busy": "2022-03-26T12:13:53.451355Z",
     "iopub.status.idle": "2022-03-26T12:13:53.453042Z",
     "shell.execute_reply": "2022-03-26T12:13:53.453688Z"
    },
    "papermill": {
     "duration": 0.044099,
     "end_time": "2022-03-26T12:13:53.453825",
     "exception": false,
     "start_time": "2022-03-26T12:13:53.409726",
     "status": "completed"
    },
    "tags": []
   },
   "outputs": [],
   "source": [
    "# #hide\n",
    "# g = g[g.group.notna()]"
   ]
  },
  {
   "cell_type": "code",
   "execution_count": 40,
   "id": "determined-closing",
   "metadata": {
    "execution": {
     "iopub.execute_input": "2022-03-26T12:13:53.527593Z",
     "iopub.status.busy": "2022-03-26T12:13:53.527013Z",
     "iopub.status.idle": "2022-03-26T12:13:53.529226Z",
     "shell.execute_reply": "2022-03-26T12:13:53.528782Z"
    },
    "papermill": {
     "duration": 0.042603,
     "end_time": "2022-03-26T12:13:53.529341",
     "exception": false,
     "start_time": "2022-03-26T12:13:53.486738",
     "status": "completed"
    },
    "tags": []
   },
   "outputs": [],
   "source": [
    "# #hide\n",
    "# colors = dict(zip(\n",
    "#     [\"Oceania\", \"Europe\", \"Asia\", \"South America\", \"Middle East\", \"North America\", \"Africa\"],\n",
    "#     [\"#adb0ff\", \"#ffb3ff\", \"#90d595\", \"#e48381\", \"#aafbff\", \"#f7bb5f\", \"#eafb50\"]\n",
    "# ))\n",
    "# group_lk = g.set_index('name')['group'].to_dict()"
   ]
  },
  {
   "cell_type": "code",
   "execution_count": null,
   "id": "gross-drinking",
   "metadata": {
    "papermill": {
     "duration": 0.032026,
     "end_time": "2022-03-26T12:13:53.594724",
     "exception": false,
     "start_time": "2022-03-26T12:13:53.562698",
     "status": "completed"
    },
    "tags": []
   },
   "outputs": [],
   "source": []
  },
  {
   "cell_type": "code",
   "execution_count": 41,
   "id": "subject-macintosh",
   "metadata": {
    "execution": {
     "iopub.execute_input": "2022-03-26T12:13:53.664463Z",
     "iopub.status.busy": "2022-03-26T12:13:53.663840Z",
     "iopub.status.idle": "2022-03-26T12:13:53.666446Z",
     "shell.execute_reply": "2022-03-26T12:13:53.665937Z"
    },
    "papermill": {
     "duration": 0.038928,
     "end_time": "2022-03-26T12:13:53.666568",
     "exception": false,
     "start_time": "2022-03-26T12:13:53.627640",
     "status": "completed"
    },
    "tags": []
   },
   "outputs": [],
   "source": [
    "# #hide\n",
    "# fig, ax = plt.subplots(figsize=(15, 8))\n",
    "\n",
    "# def draw_barchart(current_day):\n",
    "#     dff = g[g['day'].eq(current_day)].sort_values(by='value', ascending=True).tail(10)\n",
    "#     ax.clear()\n",
    "#     ax.barh(dff['name'], dff['value'], color=[colors[group_lk[x]] for x in dff['name']])\n",
    "#     dx = dff['value'].max() / 200\n",
    "    \n",
    "#     for i, (value, name) in enumerate(zip(dff['value'], dff['name'])):\n",
    "#         ax.text(value-dx, i,     name,           size=14, weight=600, ha='right', va='bottom')\n",
    "#         ax.text(value-dx, i-.25, group_lk[name], size=10, color='#444444', ha='right', va='baseline')\n",
    "#         ax.text(value+dx, i,     f'{value:,.0f}',  size=14, ha='left',  va='center')\n",
    "#     ax.text(1, 0.4, current_day, transform=ax.transAxes, color='#777777', size=46, ha='right', weight=800)\n",
    "#     ax.text(0, 1.06, 'Population (thousands)', transform=ax.transAxes, size=12, color='#777777')\n",
    "#     ax.xaxis.set_major_formatter(ticker.StrMethodFormatter('{x:,.0f}'))\n",
    "#     ax.xaxis.set_ticks_position('top')\n",
    "#     ax.tick_params(axis='x', colors='#777777', labelsize=12)\n",
    "#     ax.set_yticks([])\n",
    "#     ax.margins(0, 0.01)\n",
    "#     ax.grid(which='major', axis='x', linestyle='-')\n",
    "#     ax.set_axisbelow(True)\n",
    "    \n",
    "#     ax.text(0, 1.15, 'Coronavirus',\n",
    "#             transform=ax.transAxes, size=24, weight=600, ha='left', va='top')\n",
    "# #     ax.text(1, 0, 'by @pratapvardhan; credit @jburnmurdoch', transform=ax.transAxes, color='#777777', ha='right',\n",
    "# #             bbox=dict(facecolor='white', alpha=0.8, edgecolor='white'))\n",
    "#     plt.box(False)"
   ]
  },
  {
   "cell_type": "code",
   "execution_count": 42,
   "id": "sexual-wages",
   "metadata": {
    "execution": {
     "iopub.execute_input": "2022-03-26T12:13:53.739477Z",
     "iopub.status.busy": "2022-03-26T12:13:53.738830Z",
     "iopub.status.idle": "2022-03-26T12:13:53.741475Z",
     "shell.execute_reply": "2022-03-26T12:13:53.740967Z"
    },
    "papermill": {
     "duration": 0.040711,
     "end_time": "2022-03-26T12:13:53.741601",
     "exception": false,
     "start_time": "2022-03-26T12:13:53.700890",
     "status": "completed"
    },
    "tags": []
   },
   "outputs": [],
   "source": [
    "# #hide_input\n",
    "# fig, ax = plt.subplots(figsize=(15, 8))\n",
    "# animator = animation.FuncAnimation(fig, draw_barchart, frames=range(g.day.values.min(), g.day.values.max()))\n",
    "# HTML(animator.to_jshtml())\n",
    "# # or use animator.to_html5_video() or animator.save() "
   ]
  },
  {
   "cell_type": "code",
   "execution_count": null,
   "id": "australian-container",
   "metadata": {
    "papermill": {
     "duration": 0.034669,
     "end_time": "2022-03-26T12:13:53.810806",
     "exception": false,
     "start_time": "2022-03-26T12:13:53.776137",
     "status": "completed"
    },
    "tags": []
   },
   "outputs": [],
   "source": []
  },
  {
   "cell_type": "code",
   "execution_count": null,
   "id": "mediterranean-pontiac",
   "metadata": {
    "papermill": {
     "duration": 0.034763,
     "end_time": "2022-03-26T12:13:53.885011",
     "exception": false,
     "start_time": "2022-03-26T12:13:53.850248",
     "status": "completed"
    },
    "tags": []
   },
   "outputs": [],
   "source": []
  },
  {
   "cell_type": "code",
   "execution_count": null,
   "id": "aging-legislature",
   "metadata": {
    "papermill": {
     "duration": 0.034933,
     "end_time": "2022-03-26T12:13:53.959358",
     "exception": false,
     "start_time": "2022-03-26T12:13:53.924425",
     "status": "completed"
    },
    "tags": []
   },
   "outputs": [],
   "source": []
  }
 ],
 "metadata": {
  "kernelspec": {
   "display_name": "Python 3",
   "language": "python",
   "name": "python3"
  },
  "language_info": {
   "codemirror_mode": {
    "name": "ipython",
    "version": 3
   },
   "file_extension": ".py",
   "mimetype": "text/x-python",
   "name": "python",
   "nbconvert_exporter": "python",
   "pygments_lexer": "ipython3",
   "version": "3.6.15"
  },
  "papermill": {
   "duration": 6.81799,
   "end_time": "2022-03-26T12:13:54.311695",
   "environment_variables": {},
   "exception": null,
   "input_path": "2020-03-21-covid19exp.ipynb",
   "output_path": "2020-03-21-covid19exp.ipynb",
   "parameters": {},
   "start_time": "2022-03-26T12:13:47.493705",
   "version": "2.0.0"
  }
 },
 "nbformat": 4,
 "nbformat_minor": 5
}