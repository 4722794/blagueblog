{
 "cells": [
  {
   "cell_type": "markdown",
   "id": "muslim-click",
   "metadata": {
    "papermill": {
     "duration": 0.039888,
     "end_time": "2021-03-14T12:07:10.155151",
     "exception": false,
     "start_time": "2021-03-14T12:07:10.115263",
     "status": "completed"
    },
    "tags": []
   },
   "source": [
    "# COVID-19 Case Race\n",
    "> A race chart to see rising cases around the world\n",
    "\n",
    "- author: Hargun Oberoi\n",
    "- image: images/covid-overview.png\n",
    "- hide: false\n",
    "- badges: false"
   ]
  },
  {
   "cell_type": "code",
   "execution_count": 1,
   "id": "proof-material",
   "metadata": {
    "execution": {
     "iopub.execute_input": "2021-03-14T12:07:10.237336Z",
     "iopub.status.busy": "2021-03-14T12:07:10.236713Z",
     "iopub.status.idle": "2021-03-14T12:07:10.573849Z",
     "shell.execute_reply": "2021-03-14T12:07:10.572914Z"
    },
    "papermill": {
     "duration": 0.385385,
     "end_time": "2021-03-14T12:07:10.574093",
     "exception": false,
     "start_time": "2021-03-14T12:07:10.188708",
     "status": "completed"
    },
    "tags": []
   },
   "outputs": [],
   "source": [
    "#hide\n",
    "import numpy as np\n",
    "import pandas as pd\n",
    "from jinja2 import Template\n",
    "from IPython.display import HTML"
   ]
  },
  {
   "cell_type": "code",
   "execution_count": 2,
   "id": "developed-terminology",
   "metadata": {
    "execution": {
     "iopub.execute_input": "2021-03-14T12:07:10.650216Z",
     "iopub.status.busy": "2021-03-14T12:07:10.649613Z",
     "iopub.status.idle": "2021-03-14T12:07:10.652024Z",
     "shell.execute_reply": "2021-03-14T12:07:10.652573Z"
    },
    "papermill": {
     "duration": 0.041519,
     "end_time": "2021-03-14T12:07:10.652713",
     "exception": false,
     "start_time": "2021-03-14T12:07:10.611194",
     "status": "completed"
    },
    "tags": []
   },
   "outputs": [],
   "source": [
    "#hide\n",
    "\n",
    "# FETCH\n",
    "base_url = 'https://raw.githubusercontent.com/pratapvardhan/notebooks/master/covid19/'\n",
    "paths = {\n",
    "    'mapping': base_url + 'mapping_countries.csv',\n",
    "    'overview': base_url + 'overview.tpl'\n",
    "}"
   ]
  },
  {
   "cell_type": "code",
   "execution_count": 3,
   "id": "dynamic-saver",
   "metadata": {
    "execution": {
     "iopub.execute_input": "2021-03-14T12:07:10.729788Z",
     "iopub.status.busy": "2021-03-14T12:07:10.729159Z",
     "iopub.status.idle": "2021-03-14T12:07:10.732265Z",
     "shell.execute_reply": "2021-03-14T12:07:10.732823Z"
    },
    "papermill": {
     "duration": 0.047389,
     "end_time": "2021-03-14T12:07:10.732963",
     "exception": false,
     "start_time": "2021-03-14T12:07:10.685574",
     "status": "completed"
    },
    "tags": []
   },
   "outputs": [
    {
     "data": {
      "text/plain": [
       "'https://raw.githubusercontent.com/pratapvardhan/notebooks/master/covid19/mapping_countries.csv'"
      ]
     },
     "execution_count": 3,
     "metadata": {},
     "output_type": "execute_result"
    }
   ],
   "source": [
    "#hide\n",
    "paths['mapping']"
   ]
  },
  {
   "cell_type": "code",
   "execution_count": 4,
   "id": "urban-software",
   "metadata": {
    "execution": {
     "iopub.execute_input": "2021-03-14T12:07:10.805531Z",
     "iopub.status.busy": "2021-03-14T12:07:10.804898Z",
     "iopub.status.idle": "2021-03-14T12:07:10.807116Z",
     "shell.execute_reply": "2021-03-14T12:07:10.806541Z"
    },
    "papermill": {
     "duration": 0.041466,
     "end_time": "2021-03-14T12:07:10.807247",
     "exception": false,
     "start_time": "2021-03-14T12:07:10.765781",
     "status": "completed"
    },
    "tags": []
   },
   "outputs": [],
   "source": [
    "#hide\n",
    "def get_mappings(url):\n",
    "    df = pd.read_csv(url)\n",
    "    return {\n",
    "        'df': df,\n",
    "        'replace.country': dict(df.dropna(subset=['Name']).set_index('Country')['Name']),\n",
    "        'map.continent': dict(df.set_index('Name')['Continent'])\n",
    "    }"
   ]
  },
  {
   "cell_type": "code",
   "execution_count": 5,
   "id": "intimate-machinery",
   "metadata": {
    "execution": {
     "iopub.execute_input": "2021-03-14T12:07:10.881192Z",
     "iopub.status.busy": "2021-03-14T12:07:10.880613Z",
     "iopub.status.idle": "2021-03-14T12:07:10.918754Z",
     "shell.execute_reply": "2021-03-14T12:07:10.917850Z"
    },
    "papermill": {
     "duration": 0.07848,
     "end_time": "2021-03-14T12:07:10.918962",
     "exception": false,
     "start_time": "2021-03-14T12:07:10.840482",
     "status": "completed"
    },
    "tags": []
   },
   "outputs": [],
   "source": [
    "#hide\n",
    "mapping = get_mappings(paths['mapping'])"
   ]
  },
  {
   "cell_type": "code",
   "execution_count": 6,
   "id": "certified-tactics",
   "metadata": {
    "execution": {
     "iopub.execute_input": "2021-03-14T12:07:10.994267Z",
     "iopub.status.busy": "2021-03-14T12:07:10.993679Z",
     "iopub.status.idle": "2021-03-14T12:07:10.995992Z",
     "shell.execute_reply": "2021-03-14T12:07:10.996432Z"
    },
    "papermill": {
     "duration": 0.042675,
     "end_time": "2021-03-14T12:07:10.996575",
     "exception": false,
     "start_time": "2021-03-14T12:07:10.953900",
     "status": "completed"
    },
    "tags": []
   },
   "outputs": [],
   "source": [
    "#hide\n",
    "def get_template(path):\n",
    "    from urllib.parse import urlparse\n",
    "    if bool(urlparse(path).netloc):\n",
    "        from urllib.request import urlopen\n",
    "        return urlopen(path).read().decode('utf8')\n",
    "    return open(path).read()"
   ]
  },
  {
   "cell_type": "code",
   "execution_count": 7,
   "id": "realistic-blast",
   "metadata": {
    "execution": {
     "iopub.execute_input": "2021-03-14T12:07:11.068972Z",
     "iopub.status.busy": "2021-03-14T12:07:11.068382Z",
     "iopub.status.idle": "2021-03-14T12:07:11.070789Z",
     "shell.execute_reply": "2021-03-14T12:07:11.071258Z"
    },
    "papermill": {
     "duration": 0.041551,
     "end_time": "2021-03-14T12:07:11.071399",
     "exception": false,
     "start_time": "2021-03-14T12:07:11.029848",
     "status": "completed"
    },
    "tags": []
   },
   "outputs": [],
   "source": [
    "#hide\n",
    "def get_frame(name):\n",
    "    url = (\n",
    "        'https://raw.githubusercontent.com/CSSEGISandData/COVID-19/master/csse_covid_19_data/'\n",
    "        f'csse_covid_19_time_series/time_series_covid19_{name}_global.csv')\n",
    "    df = pd.read_csv(url)\n",
    "    # rename countries\n",
    "    df['Country/Region'] = df['Country/Region'].replace(mapping['replace.country'])\n",
    "    return df"
   ]
  },
  {
   "cell_type": "code",
   "execution_count": 8,
   "id": "affiliated-characterization",
   "metadata": {
    "execution": {
     "iopub.execute_input": "2021-03-14T12:07:11.147049Z",
     "iopub.status.busy": "2021-03-14T12:07:11.146461Z",
     "iopub.status.idle": "2021-03-14T12:07:11.149394Z",
     "shell.execute_reply": "2021-03-14T12:07:11.148867Z"
    },
    "papermill": {
     "duration": 0.044838,
     "end_time": "2021-03-14T12:07:11.149518",
     "exception": false,
     "start_time": "2021-03-14T12:07:11.104680",
     "status": "completed"
    },
    "tags": []
   },
   "outputs": [],
   "source": [
    "#hide\n",
    "def get_dates(df):\n",
    "    dt_cols = df.columns[~df.columns.isin(['Province/State', 'Country/Region', 'Lat', 'Long'])]\n",
    "    LAST_DATE_I = -1\n",
    "    # sometimes last column may be empty, then go backwards\n",
    "    for i in range(-1, -len(dt_cols), -1):\n",
    "        if not df[dt_cols[i]].fillna(0).eq(0).all():\n",
    "            LAST_DATE_I = i\n",
    "            break\n",
    "    return LAST_DATE_I, dt_cols"
   ]
  },
  {
   "cell_type": "code",
   "execution_count": 9,
   "id": "recent-optimization",
   "metadata": {
    "execution": {
     "iopub.execute_input": "2021-03-14T12:07:11.221842Z",
     "iopub.status.busy": "2021-03-14T12:07:11.221206Z",
     "iopub.status.idle": "2021-03-14T12:07:11.474530Z",
     "shell.execute_reply": "2021-03-14T12:07:11.474004Z"
    },
    "papermill": {
     "duration": 0.292048,
     "end_time": "2021-03-14T12:07:11.474668",
     "exception": false,
     "start_time": "2021-03-14T12:07:11.182620",
     "status": "completed"
    },
    "tags": []
   },
   "outputs": [],
   "source": [
    "#hide\n",
    "COL_REGION = 'Country/Region'\n",
    "# Confirmed, Recovered, Deaths\n",
    "df = get_frame('confirmed')\n",
    "# dft_: timeseries, dfc_: today country agg\n",
    "dft_cases = df\n",
    "dft_deaths = get_frame('deaths')\n",
    "dft_recovered = get_frame('recovered')\n",
    "LAST_DATE_I, dt_cols = get_dates(df)"
   ]
  },
  {
   "cell_type": "code",
   "execution_count": 10,
   "id": "absolute-copper",
   "metadata": {
    "execution": {
     "iopub.execute_input": "2021-03-14T12:07:11.549760Z",
     "iopub.status.busy": "2021-03-14T12:07:11.549115Z",
     "iopub.status.idle": "2021-03-14T12:07:11.551429Z",
     "shell.execute_reply": "2021-03-14T12:07:11.550938Z"
    },
    "papermill": {
     "duration": 0.041245,
     "end_time": "2021-03-14T12:07:11.551551",
     "exception": false,
     "start_time": "2021-03-14T12:07:11.510306",
     "status": "completed"
    },
    "tags": []
   },
   "outputs": [],
   "source": [
    "#hide\n",
    "LAST_DATE_I, dt_cols = get_dates(df)\n",
    "dt_today =dt_cols[LAST_DATE_I]\n",
    "# dt_5day = dt_cols[LAST_DATE_I - 5]\n",
    "dt_yday = dt_cols[LAST_DATE_I - 1]"
   ]
  },
  {
   "cell_type": "code",
   "execution_count": 11,
   "id": "restricted-sheriff",
   "metadata": {
    "execution": {
     "iopub.execute_input": "2021-03-14T12:07:11.626788Z",
     "iopub.status.busy": "2021-03-14T12:07:11.626203Z",
     "iopub.status.idle": "2021-03-14T12:07:11.633813Z",
     "shell.execute_reply": "2021-03-14T12:07:11.633337Z"
    },
    "papermill": {
     "duration": 0.049195,
     "end_time": "2021-03-14T12:07:11.633938",
     "exception": false,
     "start_time": "2021-03-14T12:07:11.584743",
     "status": "completed"
    },
    "tags": []
   },
   "outputs": [],
   "source": [
    "#hide\n",
    "dfc_cases = dft_cases.groupby(COL_REGION)[dt_today].sum()\n",
    "dfc_deaths = dft_deaths.groupby(COL_REGION)[dt_today].sum()\n",
    "# dfp_cases = dft_cases.groupby(COL_REGION)[dt_5day].sum()\n",
    "# dfp_deaths = dft_deaths.groupby(COL_REGION)[dt_5day].sum()\n",
    "dfp_cases = dft_cases.groupby(COL_REGION)[dt_yday].sum()\n",
    "dfp_deaths = dft_deaths.groupby(COL_REGION)[dt_yday].sum()"
   ]
  },
  {
   "cell_type": "code",
   "execution_count": 12,
   "id": "deluxe-hepatitis",
   "metadata": {
    "execution": {
     "iopub.execute_input": "2021-03-14T12:07:11.708565Z",
     "iopub.status.busy": "2021-03-14T12:07:11.707984Z",
     "iopub.status.idle": "2021-03-14T12:07:11.711919Z",
     "shell.execute_reply": "2021-03-14T12:07:11.712390Z"
    },
    "papermill": {
     "duration": 0.045407,
     "end_time": "2021-03-14T12:07:11.712531",
     "exception": false,
     "start_time": "2021-03-14T12:07:11.667124",
     "status": "completed"
    },
    "tags": []
   },
   "outputs": [],
   "source": [
    "#hide\n",
    "df_table = (pd.DataFrame(dict(Cases = dfc_cases, Deaths = dfc_deaths, PCases = dfp_cases, PDeaths = dfp_deaths))\n",
    "            .sort_values(by = ['Cases','Deaths'], ascending = [False, False])\n",
    "            .reset_index())"
   ]
  },
  {
   "cell_type": "code",
   "execution_count": 13,
   "id": "educational-chancellor",
   "metadata": {
    "execution": {
     "iopub.execute_input": "2021-03-14T12:07:11.794012Z",
     "iopub.status.busy": "2021-03-14T12:07:11.792929Z",
     "iopub.status.idle": "2021-03-14T12:07:11.808502Z",
     "shell.execute_reply": "2021-03-14T12:07:11.808976Z"
    },
    "papermill": {
     "duration": 0.063566,
     "end_time": "2021-03-14T12:07:11.809118",
     "exception": false,
     "start_time": "2021-03-14T12:07:11.745552",
     "status": "completed"
    },
    "tags": []
   },
   "outputs": [
    {
     "data": {
      "text/html": [
       "<div>\n",
       "<style scoped>\n",
       "    .dataframe tbody tr th:only-of-type {\n",
       "        vertical-align: middle;\n",
       "    }\n",
       "\n",
       "    .dataframe tbody tr th {\n",
       "        vertical-align: top;\n",
       "    }\n",
       "\n",
       "    .dataframe thead th {\n",
       "        text-align: right;\n",
       "    }\n",
       "</style>\n",
       "<table border=\"1\" class=\"dataframe\">\n",
       "  <thead>\n",
       "    <tr style=\"text-align: right;\">\n",
       "      <th></th>\n",
       "      <th>Country/Region</th>\n",
       "      <th>Cases</th>\n",
       "      <th>Deaths</th>\n",
       "      <th>PCases</th>\n",
       "      <th>PDeaths</th>\n",
       "      <th>Cases (+)</th>\n",
       "      <th>Deaths (+)</th>\n",
       "      <th>Fatality Rate</th>\n",
       "      <th>Continent</th>\n",
       "    </tr>\n",
       "  </thead>\n",
       "  <tbody>\n",
       "    <tr>\n",
       "      <th>0</th>\n",
       "      <td>US</td>\n",
       "      <td>29400553</td>\n",
       "      <td>534315</td>\n",
       "      <td>29347338</td>\n",
       "      <td>532590</td>\n",
       "      <td>53215</td>\n",
       "      <td>1725</td>\n",
       "      <td>1.82</td>\n",
       "      <td>North America</td>\n",
       "    </tr>\n",
       "    <tr>\n",
       "      <th>1</th>\n",
       "      <td>Brazil</td>\n",
       "      <td>11439558</td>\n",
       "      <td>277102</td>\n",
       "      <td>11363380</td>\n",
       "      <td>275105</td>\n",
       "      <td>76178</td>\n",
       "      <td>1997</td>\n",
       "      <td>2.42</td>\n",
       "      <td>South America</td>\n",
       "    </tr>\n",
       "    <tr>\n",
       "      <th>2</th>\n",
       "      <td>India</td>\n",
       "      <td>11359048</td>\n",
       "      <td>158607</td>\n",
       "      <td>11333728</td>\n",
       "      <td>158446</td>\n",
       "      <td>25320</td>\n",
       "      <td>161</td>\n",
       "      <td>1.40</td>\n",
       "      <td>Asia</td>\n",
       "    </tr>\n",
       "    <tr>\n",
       "      <th>3</th>\n",
       "      <td>Russia</td>\n",
       "      <td>4331396</td>\n",
       "      <td>90169</td>\n",
       "      <td>4321588</td>\n",
       "      <td>89701</td>\n",
       "      <td>9808</td>\n",
       "      <td>468</td>\n",
       "      <td>2.08</td>\n",
       "      <td>Europe</td>\n",
       "    </tr>\n",
       "    <tr>\n",
       "      <th>4</th>\n",
       "      <td>United Kingdom</td>\n",
       "      <td>4267015</td>\n",
       "      <td>125701</td>\n",
       "      <td>4261398</td>\n",
       "      <td>125579</td>\n",
       "      <td>5617</td>\n",
       "      <td>122</td>\n",
       "      <td>2.95</td>\n",
       "      <td>Europe</td>\n",
       "    </tr>\n",
       "  </tbody>\n",
       "</table>\n",
       "</div>"
      ],
      "text/plain": [
       "   Country/Region     Cases  Deaths    PCases  PDeaths  Cases (+)  Deaths (+)  \\\n",
       "0              US  29400553  534315  29347338   532590      53215        1725   \n",
       "1          Brazil  11439558  277102  11363380   275105      76178        1997   \n",
       "2           India  11359048  158607  11333728   158446      25320         161   \n",
       "3          Russia   4331396   90169   4321588    89701       9808         468   \n",
       "4  United Kingdom   4267015  125701   4261398   125579       5617         122   \n",
       "\n",
       "   Fatality Rate      Continent  \n",
       "0           1.82  North America  \n",
       "1           2.42  South America  \n",
       "2           1.40           Asia  \n",
       "3           2.08         Europe  \n",
       "4           2.95         Europe  "
      ]
     },
     "execution_count": 13,
     "metadata": {},
     "output_type": "execute_result"
    }
   ],
   "source": [
    "#hide\n",
    "for c in 'Cases, Deaths'.split(', '):\n",
    "    df_table[f'{c} (+)'] = (df_table[c] - df_table[f'P{c}']).clip(0)\n",
    "    #Clip ça veut dire, les chiffres negatif sont interdit\n",
    "df_table['Fatality Rate'] = (100* df_table['Deaths']/ df_table['Cases']).round(2)\n",
    "df_table['Continent'] = df_table['Country/Region'].map(mapping['map.continent'])\n",
    "df_table.head(5)"
   ]
  },
  {
   "cell_type": "code",
   "execution_count": 14,
   "id": "aboriginal-bulgaria",
   "metadata": {
    "execution": {
     "iopub.execute_input": "2021-03-14T12:07:11.886945Z",
     "iopub.status.busy": "2021-03-14T12:07:11.886004Z",
     "iopub.status.idle": "2021-03-14T12:07:11.887879Z",
     "shell.execute_reply": "2021-03-14T12:07:11.888501Z"
    },
    "papermill": {
     "duration": 0.044928,
     "end_time": "2021-03-14T12:07:11.888699",
     "exception": false,
     "start_time": "2021-03-14T12:07:11.843771",
     "status": "completed"
    },
    "tags": []
   },
   "outputs": [],
   "source": [
    "#hide\n",
    "#delete problematic countries from table\n",
    "df_table = df_table[~df_table['Country/Region'].isin(['Cape Verde', 'Cruise Ship', 'Kosovo'])]"
   ]
  },
  {
   "cell_type": "code",
   "execution_count": 15,
   "id": "fantastic-effect",
   "metadata": {
    "execution": {
     "iopub.execute_input": "2021-03-14T12:07:11.973815Z",
     "iopub.status.busy": "2021-03-14T12:07:11.973165Z",
     "iopub.status.idle": "2021-03-14T12:07:11.991362Z",
     "shell.execute_reply": "2021-03-14T12:07:11.992103Z"
    },
    "papermill": {
     "duration": 0.065705,
     "end_time": "2021-03-14T12:07:11.992293",
     "exception": false,
     "start_time": "2021-03-14T12:07:11.926588",
     "status": "completed"
    },
    "tags": []
   },
   "outputs": [
    {
     "data": {
      "text/html": [
       "<div>\n",
       "<style scoped>\n",
       "    .dataframe tbody tr th:only-of-type {\n",
       "        vertical-align: middle;\n",
       "    }\n",
       "\n",
       "    .dataframe tbody tr th {\n",
       "        vertical-align: top;\n",
       "    }\n",
       "\n",
       "    .dataframe thead th {\n",
       "        text-align: right;\n",
       "    }\n",
       "</style>\n",
       "<table border=\"1\" class=\"dataframe\">\n",
       "  <thead>\n",
       "    <tr style=\"text-align: right;\">\n",
       "      <th></th>\n",
       "      <th>Country/Region</th>\n",
       "      <th>Cases</th>\n",
       "      <th>Deaths</th>\n",
       "      <th>PCases</th>\n",
       "      <th>PDeaths</th>\n",
       "      <th>Cases (+)</th>\n",
       "      <th>Deaths (+)</th>\n",
       "      <th>Fatality Rate</th>\n",
       "      <th>Continent</th>\n",
       "    </tr>\n",
       "  </thead>\n",
       "  <tbody>\n",
       "    <tr>\n",
       "      <th>0</th>\n",
       "      <td>US</td>\n",
       "      <td>29400553</td>\n",
       "      <td>534315</td>\n",
       "      <td>29347338</td>\n",
       "      <td>532590</td>\n",
       "      <td>53215</td>\n",
       "      <td>1725</td>\n",
       "      <td>1.8</td>\n",
       "      <td>North America</td>\n",
       "    </tr>\n",
       "    <tr>\n",
       "      <th>1</th>\n",
       "      <td>Brazil</td>\n",
       "      <td>11439558</td>\n",
       "      <td>277102</td>\n",
       "      <td>11363380</td>\n",
       "      <td>275105</td>\n",
       "      <td>76178</td>\n",
       "      <td>1997</td>\n",
       "      <td>2.4</td>\n",
       "      <td>South America</td>\n",
       "    </tr>\n",
       "    <tr>\n",
       "      <th>2</th>\n",
       "      <td>India</td>\n",
       "      <td>11359048</td>\n",
       "      <td>158607</td>\n",
       "      <td>11333728</td>\n",
       "      <td>158446</td>\n",
       "      <td>25320</td>\n",
       "      <td>161</td>\n",
       "      <td>1.4</td>\n",
       "      <td>Asia</td>\n",
       "    </tr>\n",
       "    <tr>\n",
       "      <th>3</th>\n",
       "      <td>Russia</td>\n",
       "      <td>4331396</td>\n",
       "      <td>90169</td>\n",
       "      <td>4321588</td>\n",
       "      <td>89701</td>\n",
       "      <td>9808</td>\n",
       "      <td>468</td>\n",
       "      <td>2.1</td>\n",
       "      <td>Europe</td>\n",
       "    </tr>\n",
       "    <tr>\n",
       "      <th>4</th>\n",
       "      <td>United Kingdom</td>\n",
       "      <td>4267015</td>\n",
       "      <td>125701</td>\n",
       "      <td>4261398</td>\n",
       "      <td>125579</td>\n",
       "      <td>5617</td>\n",
       "      <td>122</td>\n",
       "      <td>2.9</td>\n",
       "      <td>Europe</td>\n",
       "    </tr>\n",
       "  </tbody>\n",
       "</table>\n",
       "</div>"
      ],
      "text/plain": [
       "   Country/Region     Cases  Deaths    PCases  PDeaths  Cases (+)  Deaths (+)  \\\n",
       "0              US  29400553  534315  29347338   532590      53215        1725   \n",
       "1          Brazil  11439558  277102  11363380   275105      76178        1997   \n",
       "2           India  11359048  158607  11333728   158446      25320         161   \n",
       "3          Russia   4331396   90169   4321588    89701       9808         468   \n",
       "4  United Kingdom   4267015  125701   4261398   125579       5617         122   \n",
       "\n",
       "   Fatality Rate      Continent  \n",
       "0            1.8  North America  \n",
       "1            2.4  South America  \n",
       "2            1.4           Asia  \n",
       "3            2.1         Europe  \n",
       "4            2.9         Europe  "
      ]
     },
     "execution_count": 15,
     "metadata": {},
     "output_type": "execute_result"
    }
   ],
   "source": [
    "#hide\n",
    "df_table = (pd.DataFrame(dict(Cases=dfc_cases, Deaths=dfc_deaths, PCases=dfp_cases, PDeaths=dfp_deaths))\n",
    "             .sort_values(by=['Cases', 'Deaths'], ascending=[False, False])\n",
    "             .reset_index())\n",
    "df_table.rename(columns={'index': 'Country/Region'}, inplace=True)\n",
    "for c in 'Cases, Deaths'.split(', '):\n",
    "    df_table[f'{c} (+)'] = (df_table[c] - df_table[f'P{c}']).clip(0)  # DATA BUG\n",
    "df_table['Fatality Rate'] = (100 * df_table['Deaths'] / df_table['Cases']).round(1)\n",
    "df_table['Continent'] = df_table['Country/Region'].map(mapping['map.continent'])\n",
    "df_table.head(5)"
   ]
  },
  {
   "cell_type": "code",
   "execution_count": 16,
   "id": "fewer-occasion",
   "metadata": {
    "execution": {
     "iopub.execute_input": "2021-03-14T12:07:12.070777Z",
     "iopub.status.busy": "2021-03-14T12:07:12.070174Z",
     "iopub.status.idle": "2021-03-14T12:07:12.071565Z",
     "shell.execute_reply": "2021-03-14T12:07:12.072061Z"
    },
    "papermill": {
     "duration": 0.043954,
     "end_time": "2021-03-14T12:07:12.072203",
     "exception": false,
     "start_time": "2021-03-14T12:07:12.028249",
     "status": "completed"
    },
    "tags": []
   },
   "outputs": [],
   "source": [
    "#hide\n",
    "#delete problematic countries from table\n",
    "df_table = df_table[~df_table['Country/Region'].isin(['Cape Verde', 'Cruise Ship', 'Kosovo'])]"
   ]
  },
  {
   "cell_type": "code",
   "execution_count": 17,
   "id": "related-center",
   "metadata": {
    "execution": {
     "iopub.execute_input": "2021-03-14T12:07:12.147856Z",
     "iopub.status.busy": "2021-03-14T12:07:12.147267Z",
     "iopub.status.idle": "2021-03-14T12:07:12.161478Z",
     "shell.execute_reply": "2021-03-14T12:07:12.160955Z"
    },
    "papermill": {
     "duration": 0.055424,
     "end_time": "2021-03-14T12:07:12.161605",
     "exception": false,
     "start_time": "2021-03-14T12:07:12.106181",
     "status": "completed"
    },
    "tags": []
   },
   "outputs": [],
   "source": [
    "#hide\n",
    "metrics = [df_table.columns[index] for index in [1,2,5,6]]\n",
    "# s_china = df_table[df_table['Country/Region'].eq('China')][metrics].sum().add_prefix('China ')\n",
    "s_us = df_table[df_table['Country/Region'].eq('US')][metrics].sum().add_prefix('US ')\n",
    "s_eu = df_table[df_table['Continent'].eq('Europe')][metrics].sum().add_prefix('EU ')\n",
    "s_ind = df_table[df_table['Country/Region'].eq('India')][metrics].sum().add_prefix('India ')\n",
    "summary = {'updated': pd.to_datetime(dt_today), 'since': pd.to_datetime(dt_yday)}\n",
    "summary = {'updated': pd.to_datetime(dt_today), 'since': pd.to_datetime(dt_yday)}\n",
    "summary = {**summary, **df_table[metrics].sum(), **s_ind, **s_us, **s_eu}"
   ]
  },
  {
   "cell_type": "code",
   "execution_count": 18,
   "id": "engaging-syndrome",
   "metadata": {
    "execution": {
     "iopub.execute_input": "2021-03-14T12:07:12.235460Z",
     "iopub.status.busy": "2021-03-14T12:07:12.234875Z",
     "iopub.status.idle": "2021-03-14T12:07:12.246436Z",
     "shell.execute_reply": "2021-03-14T12:07:12.246935Z"
    },
    "papermill": {
     "duration": 0.051215,
     "end_time": "2021-03-14T12:07:12.247079",
     "exception": false,
     "start_time": "2021-03-14T12:07:12.195864",
     "status": "completed"
    },
    "tags": []
   },
   "outputs": [],
   "source": [
    "#hide\n",
    "dft_ct_new_cases = dft_cases.groupby(COL_REGION)[dt_cols].sum().diff(axis=1).fillna(0).astype(int)"
   ]
  },
  {
   "cell_type": "code",
   "execution_count": 19,
   "id": "neutral-assignment",
   "metadata": {
    "execution": {
     "iopub.execute_input": "2021-03-14T12:07:12.321844Z",
     "iopub.status.busy": "2021-03-14T12:07:12.321235Z",
     "iopub.status.idle": "2021-03-14T12:07:12.324248Z",
     "shell.execute_reply": "2021-03-14T12:07:12.323780Z"
    },
    "papermill": {
     "duration": 0.043196,
     "end_time": "2021-03-14T12:07:12.324372",
     "exception": false,
     "start_time": "2021-03-14T12:07:12.281176",
     "status": "completed"
    },
    "tags": []
   },
   "outputs": [],
   "source": [
    "#hide\n",
    "everydaycases = dft_ct_new_cases.cumsum(axis=1)"
   ]
  },
  {
   "cell_type": "code",
   "execution_count": 20,
   "id": "parliamentary-calgary",
   "metadata": {
    "execution": {
     "iopub.execute_input": "2021-03-14T12:07:12.400295Z",
     "iopub.status.busy": "2021-03-14T12:07:12.399703Z",
     "iopub.status.idle": "2021-03-14T12:07:13.224886Z",
     "shell.execute_reply": "2021-03-14T12:07:13.224345Z"
    },
    "papermill": {
     "duration": 0.865767,
     "end_time": "2021-03-14T12:07:13.225017",
     "exception": false,
     "start_time": "2021-03-14T12:07:12.359250",
     "status": "completed"
    },
    "tags": []
   },
   "outputs": [],
   "source": [
    "#hide\n",
    "import pandas as pd\n",
    "import matplotlib.pyplot as plt\n",
    "import matplotlib.ticker as ticker\n",
    "import matplotlib.animation as animation\n",
    "from IPython.display import HTML"
   ]
  },
  {
   "cell_type": "code",
   "execution_count": 21,
   "id": "lasting-extraction",
   "metadata": {
    "execution": {
     "iopub.execute_input": "2021-03-14T12:07:13.301753Z",
     "iopub.status.busy": "2021-03-14T12:07:13.301125Z",
     "iopub.status.idle": "2021-03-14T12:07:13.306908Z",
     "shell.execute_reply": "2021-03-14T12:07:13.306435Z"
    },
    "papermill": {
     "duration": 0.04687,
     "end_time": "2021-03-14T12:07:13.307036",
     "exception": false,
     "start_time": "2021-03-14T12:07:13.260166",
     "status": "completed"
    },
    "tags": []
   },
   "outputs": [],
   "source": [
    "#hide\n",
    "t = everydaycases.stack()"
   ]
  },
  {
   "cell_type": "code",
   "execution_count": 22,
   "id": "premier-sleeve",
   "metadata": {
    "execution": {
     "iopub.execute_input": "2021-03-14T12:07:13.380718Z",
     "iopub.status.busy": "2021-03-14T12:07:13.380118Z",
     "iopub.status.idle": "2021-03-14T12:07:13.387459Z",
     "shell.execute_reply": "2021-03-14T12:07:13.387901Z"
    },
    "papermill": {
     "duration": 0.046414,
     "end_time": "2021-03-14T12:07:13.388051",
     "exception": false,
     "start_time": "2021-03-14T12:07:13.341637",
     "status": "completed"
    },
    "tags": []
   },
   "outputs": [],
   "source": [
    "#hide\n",
    "g = t.reset_index(['Country/Region'])"
   ]
  },
  {
   "cell_type": "code",
   "execution_count": 23,
   "id": "distributed-pittsburgh",
   "metadata": {
    "execution": {
     "iopub.execute_input": "2021-03-14T12:07:13.462100Z",
     "iopub.status.busy": "2021-03-14T12:07:13.461506Z",
     "iopub.status.idle": "2021-03-14T12:07:13.464692Z",
     "shell.execute_reply": "2021-03-14T12:07:13.464196Z"
    },
    "papermill": {
     "duration": 0.042639,
     "end_time": "2021-03-14T12:07:13.464816",
     "exception": false,
     "start_time": "2021-03-14T12:07:13.422177",
     "status": "completed"
    },
    "tags": []
   },
   "outputs": [],
   "source": [
    "#hide\n",
    "g.index.name = 'date'"
   ]
  },
  {
   "cell_type": "code",
   "execution_count": 24,
   "id": "naked-donor",
   "metadata": {
    "execution": {
     "iopub.execute_input": "2021-03-14T12:07:13.536459Z",
     "iopub.status.busy": "2021-03-14T12:07:13.535834Z",
     "iopub.status.idle": "2021-03-14T12:07:13.538622Z",
     "shell.execute_reply": "2021-03-14T12:07:13.537626Z"
    },
    "papermill": {
     "duration": 0.039959,
     "end_time": "2021-03-14T12:07:13.538807",
     "exception": false,
     "start_time": "2021-03-14T12:07:13.498848",
     "status": "completed"
    },
    "tags": []
   },
   "outputs": [],
   "source": [
    "# #hide\n",
    "# g = g.reset_index(['date'])"
   ]
  },
  {
   "cell_type": "code",
   "execution_count": 25,
   "id": "incomplete-mustang",
   "metadata": {
    "execution": {
     "iopub.execute_input": "2021-03-14T12:07:13.613455Z",
     "iopub.status.busy": "2021-03-14T12:07:13.612837Z",
     "iopub.status.idle": "2021-03-14T12:07:13.615224Z",
     "shell.execute_reply": "2021-03-14T12:07:13.615786Z"
    },
    "papermill": {
     "duration": 0.041502,
     "end_time": "2021-03-14T12:07:13.615927",
     "exception": false,
     "start_time": "2021-03-14T12:07:13.574425",
     "status": "completed"
    },
    "tags": []
   },
   "outputs": [],
   "source": [
    "#hide\n",
    "# g.head()"
   ]
  },
  {
   "cell_type": "code",
   "execution_count": 26,
   "id": "specific-kruger",
   "metadata": {
    "execution": {
     "iopub.execute_input": "2021-03-14T12:07:13.688599Z",
     "iopub.status.busy": "2021-03-14T12:07:13.687975Z",
     "iopub.status.idle": "2021-03-14T12:07:13.690283Z",
     "shell.execute_reply": "2021-03-14T12:07:13.689801Z"
    },
    "papermill": {
     "duration": 0.040031,
     "end_time": "2021-03-14T12:07:13.690413",
     "exception": false,
     "start_time": "2021-03-14T12:07:13.650382",
     "status": "completed"
    },
    "tags": []
   },
   "outputs": [],
   "source": [
    "#hide\n",
    "# g.columns = ['date','country','cases']"
   ]
  },
  {
   "cell_type": "code",
   "execution_count": 27,
   "id": "tender-conversion",
   "metadata": {
    "execution": {
     "iopub.execute_input": "2021-03-14T12:07:13.763558Z",
     "iopub.status.busy": "2021-03-14T12:07:13.762767Z",
     "iopub.status.idle": "2021-03-14T12:07:13.765434Z",
     "shell.execute_reply": "2021-03-14T12:07:13.766006Z"
    },
    "papermill": {
     "duration": 0.041762,
     "end_time": "2021-03-14T12:07:13.766150",
     "exception": false,
     "start_time": "2021-03-14T12:07:13.724388",
     "status": "completed"
    },
    "tags": []
   },
   "outputs": [],
   "source": [
    "#hide\n",
    "# g['continent'] = g.country"
   ]
  },
  {
   "cell_type": "code",
   "execution_count": 28,
   "id": "substantial-wilderness",
   "metadata": {
    "execution": {
     "iopub.execute_input": "2021-03-14T12:07:13.838556Z",
     "iopub.status.busy": "2021-03-14T12:07:13.837947Z",
     "iopub.status.idle": "2021-03-14T12:07:13.840147Z",
     "shell.execute_reply": "2021-03-14T12:07:13.839677Z"
    },
    "papermill": {
     "duration": 0.039836,
     "end_time": "2021-03-14T12:07:13.840275",
     "exception": false,
     "start_time": "2021-03-14T12:07:13.800439",
     "status": "completed"
    },
    "tags": []
   },
   "outputs": [],
   "source": [
    "#hide\n",
    "# cols = list(g.columns.values)"
   ]
  },
  {
   "cell_type": "code",
   "execution_count": 29,
   "id": "solved-farming",
   "metadata": {
    "execution": {
     "iopub.execute_input": "2021-03-14T12:07:13.917480Z",
     "iopub.status.busy": "2021-03-14T12:07:13.916843Z",
     "iopub.status.idle": "2021-03-14T12:07:13.919425Z",
     "shell.execute_reply": "2021-03-14T12:07:13.919903Z"
    },
    "papermill": {
     "duration": 0.044005,
     "end_time": "2021-03-14T12:07:13.920051",
     "exception": false,
     "start_time": "2021-03-14T12:07:13.876046",
     "status": "completed"
    },
    "tags": []
   },
   "outputs": [],
   "source": [
    "#hide\n",
    "# cols.insert(0, cols.pop())"
   ]
  },
  {
   "cell_type": "code",
   "execution_count": 30,
   "id": "executed-adoption",
   "metadata": {
    "execution": {
     "iopub.execute_input": "2021-03-14T12:07:13.997258Z",
     "iopub.status.busy": "2021-03-14T12:07:13.996648Z",
     "iopub.status.idle": "2021-03-14T12:07:13.999665Z",
     "shell.execute_reply": "2021-03-14T12:07:13.999151Z"
    },
    "papermill": {
     "duration": 0.043816,
     "end_time": "2021-03-14T12:07:13.999791",
     "exception": false,
     "start_time": "2021-03-14T12:07:13.955975",
     "status": "completed"
    },
    "tags": []
   },
   "outputs": [],
   "source": [
    "#hide\n",
    "# g = g[cols]"
   ]
  },
  {
   "cell_type": "code",
   "execution_count": 31,
   "id": "subject-dublin",
   "metadata": {
    "execution": {
     "iopub.execute_input": "2021-03-14T12:07:14.076248Z",
     "iopub.status.busy": "2021-03-14T12:07:14.075638Z",
     "iopub.status.idle": "2021-03-14T12:07:14.078401Z",
     "shell.execute_reply": "2021-03-14T12:07:14.077922Z"
    },
    "papermill": {
     "duration": 0.041255,
     "end_time": "2021-03-14T12:07:14.078534",
     "exception": false,
     "start_time": "2021-03-14T12:07:14.037279",
     "status": "completed"
    },
    "tags": []
   },
   "outputs": [],
   "source": [
    "#hide\n",
    "# g['continent'] = g['continent'].map(mapping['map.continent'])"
   ]
  },
  {
   "cell_type": "code",
   "execution_count": 32,
   "id": "freelance-scout",
   "metadata": {
    "execution": {
     "iopub.execute_input": "2021-03-14T12:07:14.151841Z",
     "iopub.status.busy": "2021-03-14T12:07:14.151244Z",
     "iopub.status.idle": "2021-03-14T12:07:14.153602Z",
     "shell.execute_reply": "2021-03-14T12:07:14.154162Z"
    },
    "papermill": {
     "duration": 0.041218,
     "end_time": "2021-03-14T12:07:14.154307",
     "exception": false,
     "start_time": "2021-03-14T12:07:14.113089",
     "status": "completed"
    },
    "tags": []
   },
   "outputs": [],
   "source": [
    "#hide\n",
    "# g.head()"
   ]
  },
  {
   "cell_type": "code",
   "execution_count": 33,
   "id": "limited-engine",
   "metadata": {
    "execution": {
     "iopub.execute_input": "2021-03-14T12:07:14.227204Z",
     "iopub.status.busy": "2021-03-14T12:07:14.226610Z",
     "iopub.status.idle": "2021-03-14T12:07:14.228466Z",
     "shell.execute_reply": "2021-03-14T12:07:14.228917Z"
    },
    "papermill": {
     "duration": 0.040522,
     "end_time": "2021-03-14T12:07:14.229064",
     "exception": false,
     "start_time": "2021-03-14T12:07:14.188542",
     "status": "completed"
    },
    "tags": []
   },
   "outputs": [],
   "source": [
    "# hide\n",
    "# g['date'] = g['date'].astype('datetime64[ns]')"
   ]
  },
  {
   "cell_type": "code",
   "execution_count": 34,
   "id": "sophisticated-supervisor",
   "metadata": {
    "execution": {
     "iopub.execute_input": "2021-03-14T12:07:14.304560Z",
     "iopub.status.busy": "2021-03-14T12:07:14.303948Z",
     "iopub.status.idle": "2021-03-14T12:07:14.306513Z",
     "shell.execute_reply": "2021-03-14T12:07:14.307073Z"
    },
    "papermill": {
     "duration": 0.043651,
     "end_time": "2021-03-14T12:07:14.307220",
     "exception": false,
     "start_time": "2021-03-14T12:07:14.263569",
     "status": "completed"
    },
    "tags": []
   },
   "outputs": [],
   "source": [
    "#hide\n",
    "# g['date'] = g.date.dt.dayofyear"
   ]
  },
  {
   "cell_type": "code",
   "execution_count": 35,
   "id": "inside-dubai",
   "metadata": {
    "execution": {
     "iopub.execute_input": "2021-03-14T12:07:14.380180Z",
     "iopub.status.busy": "2021-03-14T12:07:14.379592Z",
     "iopub.status.idle": "2021-03-14T12:07:14.382086Z",
     "shell.execute_reply": "2021-03-14T12:07:14.383487Z"
    },
    "papermill": {
     "duration": 0.042111,
     "end_time": "2021-03-14T12:07:14.383637",
     "exception": false,
     "start_time": "2021-03-14T12:07:14.341526",
     "status": "completed"
    },
    "tags": []
   },
   "outputs": [],
   "source": [
    "#hide\n",
    "# g = g.rename(columns= {'continent':'group','country':'name','cases':'value'})"
   ]
  },
  {
   "cell_type": "code",
   "execution_count": 36,
   "id": "fleet-motorcycle",
   "metadata": {
    "execution": {
     "iopub.execute_input": "2021-03-14T12:07:14.456282Z",
     "iopub.status.busy": "2021-03-14T12:07:14.455694Z",
     "iopub.status.idle": "2021-03-14T12:07:14.458229Z",
     "shell.execute_reply": "2021-03-14T12:07:14.457731Z"
    },
    "papermill": {
     "duration": 0.040205,
     "end_time": "2021-03-14T12:07:14.458354",
     "exception": false,
     "start_time": "2021-03-14T12:07:14.418149",
     "status": "completed"
    },
    "tags": []
   },
   "outputs": [],
   "source": [
    "#hide\n",
    "# cols = ['name','group','day','value']"
   ]
  },
  {
   "cell_type": "code",
   "execution_count": 37,
   "id": "continued-sleeping",
   "metadata": {
    "execution": {
     "iopub.execute_input": "2021-03-14T12:07:14.531331Z",
     "iopub.status.busy": "2021-03-14T12:07:14.530249Z",
     "iopub.status.idle": "2021-03-14T12:07:14.532017Z",
     "shell.execute_reply": "2021-03-14T12:07:14.532492Z"
    },
    "papermill": {
     "duration": 0.040065,
     "end_time": "2021-03-14T12:07:14.532638",
     "exception": false,
     "start_time": "2021-03-14T12:07:14.492573",
     "status": "completed"
    },
    "tags": []
   },
   "outputs": [],
   "source": [
    "#hide\n",
    "# g.rename(columns= {'date':'day'},inplace = True)"
   ]
  },
  {
   "cell_type": "code",
   "execution_count": 38,
   "id": "major-fight",
   "metadata": {
    "execution": {
     "iopub.execute_input": "2021-03-14T12:07:14.610038Z",
     "iopub.status.busy": "2021-03-14T12:07:14.609412Z",
     "iopub.status.idle": "2021-03-14T12:07:14.611857Z",
     "shell.execute_reply": "2021-03-14T12:07:14.611385Z"
    },
    "papermill": {
     "duration": 0.042498,
     "end_time": "2021-03-14T12:07:14.611984",
     "exception": false,
     "start_time": "2021-03-14T12:07:14.569486",
     "status": "completed"
    },
    "tags": []
   },
   "outputs": [],
   "source": [
    "#hide\n",
    "# g = g[cols]"
   ]
  },
  {
   "cell_type": "code",
   "execution_count": 39,
   "id": "structured-mobile",
   "metadata": {
    "execution": {
     "iopub.execute_input": "2021-03-14T12:07:14.694989Z",
     "iopub.status.busy": "2021-03-14T12:07:14.694362Z",
     "iopub.status.idle": "2021-03-14T12:07:14.696646Z",
     "shell.execute_reply": "2021-03-14T12:07:14.696070Z"
    },
    "papermill": {
     "duration": 0.043525,
     "end_time": "2021-03-14T12:07:14.696772",
     "exception": false,
     "start_time": "2021-03-14T12:07:14.653247",
     "status": "completed"
    },
    "tags": []
   },
   "outputs": [],
   "source": [
    "# #hide\n",
    "# g = g[g.group.notna()]"
   ]
  },
  {
   "cell_type": "code",
   "execution_count": 40,
   "id": "determined-closing",
   "metadata": {
    "execution": {
     "iopub.execute_input": "2021-03-14T12:07:14.769490Z",
     "iopub.status.busy": "2021-03-14T12:07:14.768869Z",
     "iopub.status.idle": "2021-03-14T12:07:14.770685Z",
     "shell.execute_reply": "2021-03-14T12:07:14.771127Z"
    },
    "papermill": {
     "duration": 0.040013,
     "end_time": "2021-03-14T12:07:14.771272",
     "exception": false,
     "start_time": "2021-03-14T12:07:14.731259",
     "status": "completed"
    },
    "tags": []
   },
   "outputs": [],
   "source": [
    "# #hide\n",
    "# colors = dict(zip(\n",
    "#     [\"Oceania\", \"Europe\", \"Asia\", \"South America\", \"Middle East\", \"North America\", \"Africa\"],\n",
    "#     [\"#adb0ff\", \"#ffb3ff\", \"#90d595\", \"#e48381\", \"#aafbff\", \"#f7bb5f\", \"#eafb50\"]\n",
    "# ))\n",
    "# group_lk = g.set_index('name')['group'].to_dict()"
   ]
  },
  {
   "cell_type": "code",
   "execution_count": null,
   "id": "gross-drinking",
   "metadata": {
    "papermill": {
     "duration": 0.034072,
     "end_time": "2021-03-14T12:07:14.839479",
     "exception": false,
     "start_time": "2021-03-14T12:07:14.805407",
     "status": "completed"
    },
    "tags": []
   },
   "outputs": [],
   "source": []
  },
  {
   "cell_type": "code",
   "execution_count": 41,
   "id": "subject-macintosh",
   "metadata": {
    "execution": {
     "iopub.execute_input": "2021-03-14T12:07:14.914171Z",
     "iopub.status.busy": "2021-03-14T12:07:14.913532Z",
     "iopub.status.idle": "2021-03-14T12:07:14.916028Z",
     "shell.execute_reply": "2021-03-14T12:07:14.916502Z"
    },
    "papermill": {
     "duration": 0.042928,
     "end_time": "2021-03-14T12:07:14.916652",
     "exception": false,
     "start_time": "2021-03-14T12:07:14.873724",
     "status": "completed"
    },
    "tags": []
   },
   "outputs": [],
   "source": [
    "# #hide\n",
    "# fig, ax = plt.subplots(figsize=(15, 8))\n",
    "\n",
    "# def draw_barchart(current_day):\n",
    "#     dff = g[g['day'].eq(current_day)].sort_values(by='value', ascending=True).tail(10)\n",
    "#     ax.clear()\n",
    "#     ax.barh(dff['name'], dff['value'], color=[colors[group_lk[x]] for x in dff['name']])\n",
    "#     dx = dff['value'].max() / 200\n",
    "    \n",
    "#     for i, (value, name) in enumerate(zip(dff['value'], dff['name'])):\n",
    "#         ax.text(value-dx, i,     name,           size=14, weight=600, ha='right', va='bottom')\n",
    "#         ax.text(value-dx, i-.25, group_lk[name], size=10, color='#444444', ha='right', va='baseline')\n",
    "#         ax.text(value+dx, i,     f'{value:,.0f}',  size=14, ha='left',  va='center')\n",
    "#     ax.text(1, 0.4, current_day, transform=ax.transAxes, color='#777777', size=46, ha='right', weight=800)\n",
    "#     ax.text(0, 1.06, 'Population (thousands)', transform=ax.transAxes, size=12, color='#777777')\n",
    "#     ax.xaxis.set_major_formatter(ticker.StrMethodFormatter('{x:,.0f}'))\n",
    "#     ax.xaxis.set_ticks_position('top')\n",
    "#     ax.tick_params(axis='x', colors='#777777', labelsize=12)\n",
    "#     ax.set_yticks([])\n",
    "#     ax.margins(0, 0.01)\n",
    "#     ax.grid(which='major', axis='x', linestyle='-')\n",
    "#     ax.set_axisbelow(True)\n",
    "    \n",
    "#     ax.text(0, 1.15, 'Coronavirus',\n",
    "#             transform=ax.transAxes, size=24, weight=600, ha='left', va='top')\n",
    "# #     ax.text(1, 0, 'by @pratapvardhan; credit @jburnmurdoch', transform=ax.transAxes, color='#777777', ha='right',\n",
    "# #             bbox=dict(facecolor='white', alpha=0.8, edgecolor='white'))\n",
    "#     plt.box(False)"
   ]
  },
  {
   "cell_type": "code",
   "execution_count": 42,
   "id": "sexual-wages",
   "metadata": {
    "execution": {
     "iopub.execute_input": "2021-03-14T12:07:14.989652Z",
     "iopub.status.busy": "2021-03-14T12:07:14.989032Z",
     "iopub.status.idle": "2021-03-14T12:07:14.991074Z",
     "shell.execute_reply": "2021-03-14T12:07:14.991631Z"
    },
    "papermill": {
     "duration": 0.040766,
     "end_time": "2021-03-14T12:07:14.991779",
     "exception": false,
     "start_time": "2021-03-14T12:07:14.951013",
     "status": "completed"
    },
    "tags": []
   },
   "outputs": [],
   "source": [
    "# #hide_input\n",
    "# fig, ax = plt.subplots(figsize=(15, 8))\n",
    "# animator = animation.FuncAnimation(fig, draw_barchart, frames=range(g.day.values.min(), g.day.values.max()))\n",
    "# HTML(animator.to_jshtml())\n",
    "# # or use animator.to_html5_video() or animator.save() "
   ]
  },
  {
   "cell_type": "code",
   "execution_count": null,
   "id": "australian-container",
   "metadata": {
    "papermill": {
     "duration": 0.033809,
     "end_time": "2021-03-14T12:07:15.059520",
     "exception": false,
     "start_time": "2021-03-14T12:07:15.025711",
     "status": "completed"
    },
    "tags": []
   },
   "outputs": [],
   "source": []
  },
  {
   "cell_type": "code",
   "execution_count": null,
   "id": "mediterranean-pontiac",
   "metadata": {
    "papermill": {
     "duration": 0.033527,
     "end_time": "2021-03-14T12:07:15.127112",
     "exception": false,
     "start_time": "2021-03-14T12:07:15.093585",
     "status": "completed"
    },
    "tags": []
   },
   "outputs": [],
   "source": []
  },
  {
   "cell_type": "code",
   "execution_count": null,
   "id": "aging-legislature",
   "metadata": {
    "papermill": {
     "duration": 0.034103,
     "end_time": "2021-03-14T12:07:15.194993",
     "exception": false,
     "start_time": "2021-03-14T12:07:15.160890",
     "status": "completed"
    },
    "tags": []
   },
   "outputs": [],
   "source": []
  }
 ],
 "metadata": {
  "kernelspec": {
   "display_name": "Python 3",
   "language": "python",
   "name": "python3"
  },
  "language_info": {
   "codemirror_mode": {
    "name": "ipython",
    "version": 3
   },
   "file_extension": ".py",
   "mimetype": "text/x-python",
   "name": "python",
   "nbconvert_exporter": "python",
   "pygments_lexer": "ipython3",
   "version": "3.6.13"
  },
  "papermill": {
   "duration": 6.534866,
   "end_time": "2021-03-14T12:07:15.536858",
   "environment_variables": {},
   "exception": null,
   "input_path": "2020-03-21-covid19exp.ipynb",
   "output_path": "2020-03-21-covid19exp.ipynb",
   "parameters": {},
   "start_time": "2021-03-14T12:07:09.001992",
   "version": "2.0.0"
  }
 },
 "nbformat": 4,
 "nbformat_minor": 5
}