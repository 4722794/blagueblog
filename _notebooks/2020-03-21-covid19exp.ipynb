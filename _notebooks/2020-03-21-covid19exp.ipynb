{
 "cells": [
  {
   "cell_type": "markdown",
   "id": "muslim-click",
   "metadata": {
    "papermill": {
     "duration": 0.038596,
     "end_time": "2021-05-27T12:24:39.417368",
     "exception": false,
     "start_time": "2021-05-27T12:24:39.378772",
     "status": "completed"
    },
    "tags": []
   },
   "source": [
    "# COVID-19 Case Race\n",
    "> A race chart to see rising cases around the world\n",
    "\n",
    "- author: Hargun Oberoi\n",
    "- image: images/covid-overview.png\n",
    "- hide: false\n",
    "- badges: false"
   ]
  },
  {
   "cell_type": "code",
   "execution_count": 1,
   "id": "proof-material",
   "metadata": {
    "execution": {
     "iopub.execute_input": "2021-05-27T12:24:39.485938Z",
     "iopub.status.busy": "2021-05-27T12:24:39.485373Z",
     "iopub.status.idle": "2021-05-27T12:24:39.823947Z",
     "shell.execute_reply": "2021-05-27T12:24:39.823027Z"
    },
    "papermill": {
     "duration": 0.37748,
     "end_time": "2021-05-27T12:24:39.824073",
     "exception": false,
     "start_time": "2021-05-27T12:24:39.446593",
     "status": "completed"
    },
    "tags": []
   },
   "outputs": [],
   "source": [
    "#hide\n",
    "import numpy as np\n",
    "import pandas as pd\n",
    "from jinja2 import Template\n",
    "from IPython.display import HTML"
   ]
  },
  {
   "cell_type": "code",
   "execution_count": 2,
   "id": "developed-terminology",
   "metadata": {
    "execution": {
     "iopub.execute_input": "2021-05-27T12:24:39.889527Z",
     "iopub.status.busy": "2021-05-27T12:24:39.888959Z",
     "iopub.status.idle": "2021-05-27T12:24:39.891721Z",
     "shell.execute_reply": "2021-05-27T12:24:39.892201Z"
    },
    "papermill": {
     "duration": 0.038787,
     "end_time": "2021-05-27T12:24:39.892315",
     "exception": false,
     "start_time": "2021-05-27T12:24:39.853528",
     "status": "completed"
    },
    "tags": []
   },
   "outputs": [],
   "source": [
    "#hide\n",
    "\n",
    "# FETCH\n",
    "base_url = 'https://raw.githubusercontent.com/pratapvardhan/notebooks/master/covid19/'\n",
    "paths = {\n",
    "    'mapping': base_url + 'mapping_countries.csv',\n",
    "    'overview': base_url + 'overview.tpl'\n",
    "}"
   ]
  },
  {
   "cell_type": "code",
   "execution_count": 3,
   "id": "dynamic-saver",
   "metadata": {
    "execution": {
     "iopub.execute_input": "2021-05-27T12:24:39.961675Z",
     "iopub.status.busy": "2021-05-27T12:24:39.961084Z",
     "iopub.status.idle": "2021-05-27T12:24:39.963616Z",
     "shell.execute_reply": "2021-05-27T12:24:39.964048Z"
    },
    "papermill": {
     "duration": 0.044356,
     "end_time": "2021-05-27T12:24:39.964176",
     "exception": false,
     "start_time": "2021-05-27T12:24:39.919820",
     "status": "completed"
    },
    "tags": []
   },
   "outputs": [
    {
     "data": {
      "text/plain": [
       "'https://raw.githubusercontent.com/pratapvardhan/notebooks/master/covid19/mapping_countries.csv'"
      ]
     },
     "execution_count": 3,
     "metadata": {},
     "output_type": "execute_result"
    }
   ],
   "source": [
    "#hide\n",
    "paths['mapping']"
   ]
  },
  {
   "cell_type": "code",
   "execution_count": 4,
   "id": "urban-software",
   "metadata": {
    "execution": {
     "iopub.execute_input": "2021-05-27T12:24:40.031519Z",
     "iopub.status.busy": "2021-05-27T12:24:40.030979Z",
     "iopub.status.idle": "2021-05-27T12:24:40.033319Z",
     "shell.execute_reply": "2021-05-27T12:24:40.033827Z"
    },
    "papermill": {
     "duration": 0.037713,
     "end_time": "2021-05-27T12:24:40.033937",
     "exception": false,
     "start_time": "2021-05-27T12:24:39.996224",
     "status": "completed"
    },
    "tags": []
   },
   "outputs": [],
   "source": [
    "#hide\n",
    "def get_mappings(url):\n",
    "    df = pd.read_csv(url)\n",
    "    return {\n",
    "        'df': df,\n",
    "        'replace.country': dict(df.dropna(subset=['Name']).set_index('Country')['Name']),\n",
    "        'map.continent': dict(df.set_index('Name')['Continent'])\n",
    "    }"
   ]
  },
  {
   "cell_type": "code",
   "execution_count": 5,
   "id": "intimate-machinery",
   "metadata": {
    "execution": {
     "iopub.execute_input": "2021-05-27T12:24:40.099057Z",
     "iopub.status.busy": "2021-05-27T12:24:40.098508Z",
     "iopub.status.idle": "2021-05-27T12:24:40.171301Z",
     "shell.execute_reply": "2021-05-27T12:24:40.170311Z"
    },
    "papermill": {
     "duration": 0.108203,
     "end_time": "2021-05-27T12:24:40.171505",
     "exception": false,
     "start_time": "2021-05-27T12:24:40.063302",
     "status": "completed"
    },
    "tags": []
   },
   "outputs": [],
   "source": [
    "#hide\n",
    "mapping = get_mappings(paths['mapping'])"
   ]
  },
  {
   "cell_type": "code",
   "execution_count": 6,
   "id": "certified-tactics",
   "metadata": {
    "execution": {
     "iopub.execute_input": "2021-05-27T12:24:40.237996Z",
     "iopub.status.busy": "2021-05-27T12:24:40.237457Z",
     "iopub.status.idle": "2021-05-27T12:24:40.239629Z",
     "shell.execute_reply": "2021-05-27T12:24:40.240003Z"
    },
    "papermill": {
     "duration": 0.036758,
     "end_time": "2021-05-27T12:24:40.240138",
     "exception": false,
     "start_time": "2021-05-27T12:24:40.203380",
     "status": "completed"
    },
    "tags": []
   },
   "outputs": [],
   "source": [
    "#hide\n",
    "def get_template(path):\n",
    "    from urllib.parse import urlparse\n",
    "    if bool(urlparse(path).netloc):\n",
    "        from urllib.request import urlopen\n",
    "        return urlopen(path).read().decode('utf8')\n",
    "    return open(path).read()"
   ]
  },
  {
   "cell_type": "code",
   "execution_count": 7,
   "id": "realistic-blast",
   "metadata": {
    "execution": {
     "iopub.execute_input": "2021-05-27T12:24:40.307532Z",
     "iopub.status.busy": "2021-05-27T12:24:40.306993Z",
     "iopub.status.idle": "2021-05-27T12:24:40.309296Z",
     "shell.execute_reply": "2021-05-27T12:24:40.309807Z"
    },
    "papermill": {
     "duration": 0.038905,
     "end_time": "2021-05-27T12:24:40.309929",
     "exception": false,
     "start_time": "2021-05-27T12:24:40.271024",
     "status": "completed"
    },
    "tags": []
   },
   "outputs": [],
   "source": [
    "#hide\n",
    "def get_frame(name):\n",
    "    url = (\n",
    "        'https://raw.githubusercontent.com/CSSEGISandData/COVID-19/master/csse_covid_19_data/'\n",
    "        f'csse_covid_19_time_series/time_series_covid19_{name}_global.csv')\n",
    "    df = pd.read_csv(url)\n",
    "    # rename countries\n",
    "    df['Country/Region'] = df['Country/Region'].replace(mapping['replace.country'])\n",
    "    return df"
   ]
  },
  {
   "cell_type": "code",
   "execution_count": 8,
   "id": "affiliated-characterization",
   "metadata": {
    "execution": {
     "iopub.execute_input": "2021-05-27T12:24:40.375927Z",
     "iopub.status.busy": "2021-05-27T12:24:40.375341Z",
     "iopub.status.idle": "2021-05-27T12:24:40.378126Z",
     "shell.execute_reply": "2021-05-27T12:24:40.378527Z"
    },
    "papermill": {
     "duration": 0.038366,
     "end_time": "2021-05-27T12:24:40.378644",
     "exception": false,
     "start_time": "2021-05-27T12:24:40.340278",
     "status": "completed"
    },
    "tags": []
   },
   "outputs": [],
   "source": [
    "#hide\n",
    "def get_dates(df):\n",
    "    dt_cols = df.columns[~df.columns.isin(['Province/State', 'Country/Region', 'Lat', 'Long'])]\n",
    "    LAST_DATE_I = -1\n",
    "    # sometimes last column may be empty, then go backwards\n",
    "    for i in range(-1, -len(dt_cols), -1):\n",
    "        if not df[dt_cols[i]].fillna(0).eq(0).all():\n",
    "            LAST_DATE_I = i\n",
    "            break\n",
    "    return LAST_DATE_I, dt_cols"
   ]
  },
  {
   "cell_type": "code",
   "execution_count": 9,
   "id": "recent-optimization",
   "metadata": {
    "execution": {
     "iopub.execute_input": "2021-05-27T12:24:40.447753Z",
     "iopub.status.busy": "2021-05-27T12:24:40.447196Z",
     "iopub.status.idle": "2021-05-27T12:24:40.899243Z",
     "shell.execute_reply": "2021-05-27T12:24:40.898661Z"
    },
    "papermill": {
     "duration": 0.489028,
     "end_time": "2021-05-27T12:24:40.899374",
     "exception": false,
     "start_time": "2021-05-27T12:24:40.410346",
     "status": "completed"
    },
    "tags": []
   },
   "outputs": [],
   "source": [
    "#hide\n",
    "COL_REGION = 'Country/Region'\n",
    "# Confirmed, Recovered, Deaths\n",
    "df = get_frame('confirmed')\n",
    "# dft_: timeseries, dfc_: today country agg\n",
    "dft_cases = df\n",
    "dft_deaths = get_frame('deaths')\n",
    "dft_recovered = get_frame('recovered')\n",
    "LAST_DATE_I, dt_cols = get_dates(df)"
   ]
  },
  {
   "cell_type": "code",
   "execution_count": 10,
   "id": "absolute-copper",
   "metadata": {
    "execution": {
     "iopub.execute_input": "2021-05-27T12:24:40.962102Z",
     "iopub.status.busy": "2021-05-27T12:24:40.961525Z",
     "iopub.status.idle": "2021-05-27T12:24:40.963191Z",
     "shell.execute_reply": "2021-05-27T12:24:40.963618Z"
    },
    "papermill": {
     "duration": 0.035857,
     "end_time": "2021-05-27T12:24:40.963748",
     "exception": false,
     "start_time": "2021-05-27T12:24:40.927891",
     "status": "completed"
    },
    "tags": []
   },
   "outputs": [],
   "source": [
    "#hide\n",
    "LAST_DATE_I, dt_cols = get_dates(df)\n",
    "dt_today =dt_cols[LAST_DATE_I]\n",
    "# dt_5day = dt_cols[LAST_DATE_I - 5]\n",
    "dt_yday = dt_cols[LAST_DATE_I - 1]"
   ]
  },
  {
   "cell_type": "code",
   "execution_count": 11,
   "id": "restricted-sheriff",
   "metadata": {
    "execution": {
     "iopub.execute_input": "2021-05-27T12:24:41.030389Z",
     "iopub.status.busy": "2021-05-27T12:24:41.029974Z",
     "iopub.status.idle": "2021-05-27T12:24:41.037078Z",
     "shell.execute_reply": "2021-05-27T12:24:41.037513Z"
    },
    "papermill": {
     "duration": 0.043861,
     "end_time": "2021-05-27T12:24:41.037609",
     "exception": false,
     "start_time": "2021-05-27T12:24:40.993748",
     "status": "completed"
    },
    "tags": []
   },
   "outputs": [],
   "source": [
    "#hide\n",
    "dfc_cases = dft_cases.groupby(COL_REGION)[dt_today].sum()\n",
    "dfc_deaths = dft_deaths.groupby(COL_REGION)[dt_today].sum()\n",
    "# dfp_cases = dft_cases.groupby(COL_REGION)[dt_5day].sum()\n",
    "# dfp_deaths = dft_deaths.groupby(COL_REGION)[dt_5day].sum()\n",
    "dfp_cases = dft_cases.groupby(COL_REGION)[dt_yday].sum()\n",
    "dfp_deaths = dft_deaths.groupby(COL_REGION)[dt_yday].sum()"
   ]
  },
  {
   "cell_type": "code",
   "execution_count": 12,
   "id": "deluxe-hepatitis",
   "metadata": {
    "execution": {
     "iopub.execute_input": "2021-05-27T12:24:41.103524Z",
     "iopub.status.busy": "2021-05-27T12:24:41.101854Z",
     "iopub.status.idle": "2021-05-27T12:24:41.105381Z",
     "shell.execute_reply": "2021-05-27T12:24:41.105714Z"
    },
    "papermill": {
     "duration": 0.040608,
     "end_time": "2021-05-27T12:24:41.105813",
     "exception": false,
     "start_time": "2021-05-27T12:24:41.065205",
     "status": "completed"
    },
    "tags": []
   },
   "outputs": [],
   "source": [
    "#hide\n",
    "df_table = (pd.DataFrame(dict(Cases = dfc_cases, Deaths = dfc_deaths, PCases = dfp_cases, PDeaths = dfp_deaths))\n",
    "            .sort_values(by = ['Cases','Deaths'], ascending = [False, False])\n",
    "            .reset_index())"
   ]
  },
  {
   "cell_type": "code",
   "execution_count": 13,
   "id": "educational-chancellor",
   "metadata": {
    "execution": {
     "iopub.execute_input": "2021-05-27T12:24:41.181775Z",
     "iopub.status.busy": "2021-05-27T12:24:41.181335Z",
     "iopub.status.idle": "2021-05-27T12:24:41.188060Z",
     "shell.execute_reply": "2021-05-27T12:24:41.187728Z"
    },
    "papermill": {
     "duration": 0.054469,
     "end_time": "2021-05-27T12:24:41.188168",
     "exception": false,
     "start_time": "2021-05-27T12:24:41.133699",
     "status": "completed"
    },
    "tags": []
   },
   "outputs": [
    {
     "data": {
      "text/html": [
       "<div>\n",
       "<style scoped>\n",
       "    .dataframe tbody tr th:only-of-type {\n",
       "        vertical-align: middle;\n",
       "    }\n",
       "\n",
       "    .dataframe tbody tr th {\n",
       "        vertical-align: top;\n",
       "    }\n",
       "\n",
       "    .dataframe thead th {\n",
       "        text-align: right;\n",
       "    }\n",
       "</style>\n",
       "<table border=\"1\" class=\"dataframe\">\n",
       "  <thead>\n",
       "    <tr style=\"text-align: right;\">\n",
       "      <th></th>\n",
       "      <th>Country/Region</th>\n",
       "      <th>Cases</th>\n",
       "      <th>Deaths</th>\n",
       "      <th>PCases</th>\n",
       "      <th>PDeaths</th>\n",
       "      <th>Cases (+)</th>\n",
       "      <th>Deaths (+)</th>\n",
       "      <th>Fatality Rate</th>\n",
       "      <th>Continent</th>\n",
       "    </tr>\n",
       "  </thead>\n",
       "  <tbody>\n",
       "    <tr>\n",
       "      <th>0</th>\n",
       "      <td>US</td>\n",
       "      <td>33190470</td>\n",
       "      <td>591950</td>\n",
       "      <td>33166418</td>\n",
       "      <td>590941</td>\n",
       "      <td>24052</td>\n",
       "      <td>1009</td>\n",
       "      <td>1.78</td>\n",
       "      <td>North America</td>\n",
       "    </tr>\n",
       "    <tr>\n",
       "      <th>1</th>\n",
       "      <td>India</td>\n",
       "      <td>27369093</td>\n",
       "      <td>315235</td>\n",
       "      <td>27157795</td>\n",
       "      <td>311388</td>\n",
       "      <td>211298</td>\n",
       "      <td>3847</td>\n",
       "      <td>1.15</td>\n",
       "      <td>Asia</td>\n",
       "    </tr>\n",
       "    <tr>\n",
       "      <th>2</th>\n",
       "      <td>Brazil</td>\n",
       "      <td>16274695</td>\n",
       "      <td>454429</td>\n",
       "      <td>16194209</td>\n",
       "      <td>452031</td>\n",
       "      <td>80486</td>\n",
       "      <td>2398</td>\n",
       "      <td>2.79</td>\n",
       "      <td>South America</td>\n",
       "    </tr>\n",
       "    <tr>\n",
       "      <th>3</th>\n",
       "      <td>France</td>\n",
       "      <td>5683143</td>\n",
       "      <td>109185</td>\n",
       "      <td>5670486</td>\n",
       "      <td>109040</td>\n",
       "      <td>12657</td>\n",
       "      <td>145</td>\n",
       "      <td>1.92</td>\n",
       "      <td>Europe</td>\n",
       "    </tr>\n",
       "    <tr>\n",
       "      <th>4</th>\n",
       "      <td>Turkey</td>\n",
       "      <td>5212123</td>\n",
       "      <td>46787</td>\n",
       "      <td>5203385</td>\n",
       "      <td>46621</td>\n",
       "      <td>8738</td>\n",
       "      <td>166</td>\n",
       "      <td>0.90</td>\n",
       "      <td>Asia</td>\n",
       "    </tr>\n",
       "  </tbody>\n",
       "</table>\n",
       "</div>"
      ],
      "text/plain": [
       "  Country/Region     Cases  Deaths    PCases  PDeaths  Cases (+)  Deaths (+)  \\\n",
       "0             US  33190470  591950  33166418   590941      24052        1009   \n",
       "1          India  27369093  315235  27157795   311388     211298        3847   \n",
       "2         Brazil  16274695  454429  16194209   452031      80486        2398   \n",
       "3         France   5683143  109185   5670486   109040      12657         145   \n",
       "4         Turkey   5212123   46787   5203385    46621       8738         166   \n",
       "\n",
       "   Fatality Rate      Continent  \n",
       "0           1.78  North America  \n",
       "1           1.15           Asia  \n",
       "2           2.79  South America  \n",
       "3           1.92         Europe  \n",
       "4           0.90           Asia  "
      ]
     },
     "execution_count": 13,
     "metadata": {},
     "output_type": "execute_result"
    }
   ],
   "source": [
    "#hide\n",
    "for c in 'Cases, Deaths'.split(', '):\n",
    "    df_table[f'{c} (+)'] = (df_table[c] - df_table[f'P{c}']).clip(0)\n",
    "    #Clip ça veut dire, les chiffres negatif sont interdit\n",
    "df_table['Fatality Rate'] = (100* df_table['Deaths']/ df_table['Cases']).round(2)\n",
    "df_table['Continent'] = df_table['Country/Region'].map(mapping['map.continent'])\n",
    "df_table.head(5)"
   ]
  },
  {
   "cell_type": "code",
   "execution_count": 14,
   "id": "aboriginal-bulgaria",
   "metadata": {
    "execution": {
     "iopub.execute_input": "2021-05-27T12:24:41.251275Z",
     "iopub.status.busy": "2021-05-27T12:24:41.250739Z",
     "iopub.status.idle": "2021-05-27T12:24:41.252949Z",
     "shell.execute_reply": "2021-05-27T12:24:41.253369Z"
    },
    "papermill": {
     "duration": 0.03601,
     "end_time": "2021-05-27T12:24:41.253473",
     "exception": false,
     "start_time": "2021-05-27T12:24:41.217463",
     "status": "completed"
    },
    "tags": []
   },
   "outputs": [],
   "source": [
    "#hide\n",
    "#delete problematic countries from table\n",
    "df_table = df_table[~df_table['Country/Region'].isin(['Cape Verde', 'Cruise Ship', 'Kosovo'])]"
   ]
  },
  {
   "cell_type": "code",
   "execution_count": 15,
   "id": "fantastic-effect",
   "metadata": {
    "execution": {
     "iopub.execute_input": "2021-05-27T12:24:41.325104Z",
     "iopub.status.busy": "2021-05-27T12:24:41.324632Z",
     "iopub.status.idle": "2021-05-27T12:24:41.341230Z",
     "shell.execute_reply": "2021-05-27T12:24:41.341655Z"
    },
    "papermill": {
     "duration": 0.05717,
     "end_time": "2021-05-27T12:24:41.341753",
     "exception": false,
     "start_time": "2021-05-27T12:24:41.284583",
     "status": "completed"
    },
    "tags": []
   },
   "outputs": [
    {
     "data": {
      "text/html": [
       "<div>\n",
       "<style scoped>\n",
       "    .dataframe tbody tr th:only-of-type {\n",
       "        vertical-align: middle;\n",
       "    }\n",
       "\n",
       "    .dataframe tbody tr th {\n",
       "        vertical-align: top;\n",
       "    }\n",
       "\n",
       "    .dataframe thead th {\n",
       "        text-align: right;\n",
       "    }\n",
       "</style>\n",
       "<table border=\"1\" class=\"dataframe\">\n",
       "  <thead>\n",
       "    <tr style=\"text-align: right;\">\n",
       "      <th></th>\n",
       "      <th>Country/Region</th>\n",
       "      <th>Cases</th>\n",
       "      <th>Deaths</th>\n",
       "      <th>PCases</th>\n",
       "      <th>PDeaths</th>\n",
       "      <th>Cases (+)</th>\n",
       "      <th>Deaths (+)</th>\n",
       "      <th>Fatality Rate</th>\n",
       "      <th>Continent</th>\n",
       "    </tr>\n",
       "  </thead>\n",
       "  <tbody>\n",
       "    <tr>\n",
       "      <th>0</th>\n",
       "      <td>US</td>\n",
       "      <td>33190470</td>\n",
       "      <td>591950</td>\n",
       "      <td>33166418</td>\n",
       "      <td>590941</td>\n",
       "      <td>24052</td>\n",
       "      <td>1009</td>\n",
       "      <td>1.8</td>\n",
       "      <td>North America</td>\n",
       "    </tr>\n",
       "    <tr>\n",
       "      <th>1</th>\n",
       "      <td>India</td>\n",
       "      <td>27369093</td>\n",
       "      <td>315235</td>\n",
       "      <td>27157795</td>\n",
       "      <td>311388</td>\n",
       "      <td>211298</td>\n",
       "      <td>3847</td>\n",
       "      <td>1.2</td>\n",
       "      <td>Asia</td>\n",
       "    </tr>\n",
       "    <tr>\n",
       "      <th>2</th>\n",
       "      <td>Brazil</td>\n",
       "      <td>16274695</td>\n",
       "      <td>454429</td>\n",
       "      <td>16194209</td>\n",
       "      <td>452031</td>\n",
       "      <td>80486</td>\n",
       "      <td>2398</td>\n",
       "      <td>2.8</td>\n",
       "      <td>South America</td>\n",
       "    </tr>\n",
       "    <tr>\n",
       "      <th>3</th>\n",
       "      <td>France</td>\n",
       "      <td>5683143</td>\n",
       "      <td>109185</td>\n",
       "      <td>5670486</td>\n",
       "      <td>109040</td>\n",
       "      <td>12657</td>\n",
       "      <td>145</td>\n",
       "      <td>1.9</td>\n",
       "      <td>Europe</td>\n",
       "    </tr>\n",
       "    <tr>\n",
       "      <th>4</th>\n",
       "      <td>Turkey</td>\n",
       "      <td>5212123</td>\n",
       "      <td>46787</td>\n",
       "      <td>5203385</td>\n",
       "      <td>46621</td>\n",
       "      <td>8738</td>\n",
       "      <td>166</td>\n",
       "      <td>0.9</td>\n",
       "      <td>Asia</td>\n",
       "    </tr>\n",
       "  </tbody>\n",
       "</table>\n",
       "</div>"
      ],
      "text/plain": [
       "  Country/Region     Cases  Deaths    PCases  PDeaths  Cases (+)  Deaths (+)  \\\n",
       "0             US  33190470  591950  33166418   590941      24052        1009   \n",
       "1          India  27369093  315235  27157795   311388     211298        3847   \n",
       "2         Brazil  16274695  454429  16194209   452031      80486        2398   \n",
       "3         France   5683143  109185   5670486   109040      12657         145   \n",
       "4         Turkey   5212123   46787   5203385    46621       8738         166   \n",
       "\n",
       "   Fatality Rate      Continent  \n",
       "0            1.8  North America  \n",
       "1            1.2           Asia  \n",
       "2            2.8  South America  \n",
       "3            1.9         Europe  \n",
       "4            0.9           Asia  "
      ]
     },
     "execution_count": 15,
     "metadata": {},
     "output_type": "execute_result"
    }
   ],
   "source": [
    "#hide\n",
    "df_table = (pd.DataFrame(dict(Cases=dfc_cases, Deaths=dfc_deaths, PCases=dfp_cases, PDeaths=dfp_deaths))\n",
    "             .sort_values(by=['Cases', 'Deaths'], ascending=[False, False])\n",
    "             .reset_index())\n",
    "df_table.rename(columns={'index': 'Country/Region'}, inplace=True)\n",
    "for c in 'Cases, Deaths'.split(', '):\n",
    "    df_table[f'{c} (+)'] = (df_table[c] - df_table[f'P{c}']).clip(0)  # DATA BUG\n",
    "df_table['Fatality Rate'] = (100 * df_table['Deaths'] / df_table['Cases']).round(1)\n",
    "df_table['Continent'] = df_table['Country/Region'].map(mapping['map.continent'])\n",
    "df_table.head(5)"
   ]
  },
  {
   "cell_type": "code",
   "execution_count": 16,
   "id": "fewer-occasion",
   "metadata": {
    "execution": {
     "iopub.execute_input": "2021-05-27T12:24:41.406304Z",
     "iopub.status.busy": "2021-05-27T12:24:41.405732Z",
     "iopub.status.idle": "2021-05-27T12:24:41.407967Z",
     "shell.execute_reply": "2021-05-27T12:24:41.408517Z"
    },
    "papermill": {
     "duration": 0.03866,
     "end_time": "2021-05-27T12:24:41.408637",
     "exception": false,
     "start_time": "2021-05-27T12:24:41.369977",
     "status": "completed"
    },
    "tags": []
   },
   "outputs": [],
   "source": [
    "#hide\n",
    "#delete problematic countries from table\n",
    "df_table = df_table[~df_table['Country/Region'].isin(['Cape Verde', 'Cruise Ship', 'Kosovo'])]"
   ]
  },
  {
   "cell_type": "code",
   "execution_count": 17,
   "id": "related-center",
   "metadata": {
    "execution": {
     "iopub.execute_input": "2021-05-27T12:24:41.478851Z",
     "iopub.status.busy": "2021-05-27T12:24:41.478219Z",
     "iopub.status.idle": "2021-05-27T12:24:41.490129Z",
     "shell.execute_reply": "2021-05-27T12:24:41.490467Z"
    },
    "papermill": {
     "duration": 0.050949,
     "end_time": "2021-05-27T12:24:41.490572",
     "exception": false,
     "start_time": "2021-05-27T12:24:41.439623",
     "status": "completed"
    },
    "tags": []
   },
   "outputs": [],
   "source": [
    "#hide\n",
    "metrics = [df_table.columns[index] for index in [1,2,5,6]]\n",
    "# s_china = df_table[df_table['Country/Region'].eq('China')][metrics].sum().add_prefix('China ')\n",
    "s_us = df_table[df_table['Country/Region'].eq('US')][metrics].sum().add_prefix('US ')\n",
    "s_eu = df_table[df_table['Continent'].eq('Europe')][metrics].sum().add_prefix('EU ')\n",
    "s_ind = df_table[df_table['Country/Region'].eq('India')][metrics].sum().add_prefix('India ')\n",
    "summary = {'updated': pd.to_datetime(dt_today), 'since': pd.to_datetime(dt_yday)}\n",
    "summary = {'updated': pd.to_datetime(dt_today), 'since': pd.to_datetime(dt_yday)}\n",
    "summary = {**summary, **df_table[metrics].sum(), **s_ind, **s_us, **s_eu}"
   ]
  },
  {
   "cell_type": "code",
   "execution_count": 18,
   "id": "engaging-syndrome",
   "metadata": {
    "execution": {
     "iopub.execute_input": "2021-05-27T12:24:41.555751Z",
     "iopub.status.busy": "2021-05-27T12:24:41.555211Z",
     "iopub.status.idle": "2021-05-27T12:24:41.568804Z",
     "shell.execute_reply": "2021-05-27T12:24:41.567893Z"
    },
    "papermill": {
     "duration": 0.049191,
     "end_time": "2021-05-27T12:24:41.568997",
     "exception": false,
     "start_time": "2021-05-27T12:24:41.519806",
     "status": "completed"
    },
    "tags": []
   },
   "outputs": [],
   "source": [
    "#hide\n",
    "dft_ct_new_cases = dft_cases.groupby(COL_REGION)[dt_cols].sum().diff(axis=1).fillna(0).astype(int)"
   ]
  },
  {
   "cell_type": "code",
   "execution_count": 19,
   "id": "neutral-assignment",
   "metadata": {
    "execution": {
     "iopub.execute_input": "2021-05-27T12:24:41.638683Z",
     "iopub.status.busy": "2021-05-27T12:24:41.638125Z",
     "iopub.status.idle": "2021-05-27T12:24:41.640183Z",
     "shell.execute_reply": "2021-05-27T12:24:41.639851Z"
    },
    "papermill": {
     "duration": 0.037785,
     "end_time": "2021-05-27T12:24:41.640270",
     "exception": false,
     "start_time": "2021-05-27T12:24:41.602485",
     "status": "completed"
    },
    "tags": []
   },
   "outputs": [],
   "source": [
    "#hide\n",
    "everydaycases = dft_ct_new_cases.cumsum(axis=1)"
   ]
  },
  {
   "cell_type": "code",
   "execution_count": 20,
   "id": "parliamentary-calgary",
   "metadata": {
    "execution": {
     "iopub.execute_input": "2021-05-27T12:24:41.704084Z",
     "iopub.status.busy": "2021-05-27T12:24:41.703451Z",
     "iopub.status.idle": "2021-05-27T12:24:42.282248Z",
     "shell.execute_reply": "2021-05-27T12:24:42.281380Z"
    },
    "papermill": {
     "duration": 0.613113,
     "end_time": "2021-05-27T12:24:42.282514",
     "exception": false,
     "start_time": "2021-05-27T12:24:41.669401",
     "status": "completed"
    },
    "tags": []
   },
   "outputs": [],
   "source": [
    "#hide\n",
    "import pandas as pd\n",
    "import matplotlib.pyplot as plt\n",
    "import matplotlib.ticker as ticker\n",
    "import matplotlib.animation as animation\n",
    "from IPython.display import HTML"
   ]
  },
  {
   "cell_type": "code",
   "execution_count": 21,
   "id": "lasting-extraction",
   "metadata": {
    "execution": {
     "iopub.execute_input": "2021-05-27T12:24:42.354351Z",
     "iopub.status.busy": "2021-05-27T12:24:42.353805Z",
     "iopub.status.idle": "2021-05-27T12:24:42.359789Z",
     "shell.execute_reply": "2021-05-27T12:24:42.360226Z"
    },
    "papermill": {
     "duration": 0.043441,
     "end_time": "2021-05-27T12:24:42.360358",
     "exception": false,
     "start_time": "2021-05-27T12:24:42.316917",
     "status": "completed"
    },
    "tags": []
   },
   "outputs": [],
   "source": [
    "#hide\n",
    "t = everydaycases.stack()"
   ]
  },
  {
   "cell_type": "code",
   "execution_count": 22,
   "id": "premier-sleeve",
   "metadata": {
    "execution": {
     "iopub.execute_input": "2021-05-27T12:24:42.424403Z",
     "iopub.status.busy": "2021-05-27T12:24:42.423868Z",
     "iopub.status.idle": "2021-05-27T12:24:42.432674Z",
     "shell.execute_reply": "2021-05-27T12:24:42.433088Z"
    },
    "papermill": {
     "duration": 0.042906,
     "end_time": "2021-05-27T12:24:42.433217",
     "exception": false,
     "start_time": "2021-05-27T12:24:42.390311",
     "status": "completed"
    },
    "tags": []
   },
   "outputs": [],
   "source": [
    "#hide\n",
    "g = t.reset_index(['Country/Region'])"
   ]
  },
  {
   "cell_type": "code",
   "execution_count": 23,
   "id": "distributed-pittsburgh",
   "metadata": {
    "execution": {
     "iopub.execute_input": "2021-05-27T12:24:42.496143Z",
     "iopub.status.busy": "2021-05-27T12:24:42.495725Z",
     "iopub.status.idle": "2021-05-27T12:24:42.498406Z",
     "shell.execute_reply": "2021-05-27T12:24:42.498817Z"
    },
    "papermill": {
     "duration": 0.036089,
     "end_time": "2021-05-27T12:24:42.498930",
     "exception": false,
     "start_time": "2021-05-27T12:24:42.462841",
     "status": "completed"
    },
    "tags": []
   },
   "outputs": [],
   "source": [
    "#hide\n",
    "g.index.name = 'date'"
   ]
  },
  {
   "cell_type": "code",
   "execution_count": 24,
   "id": "naked-donor",
   "metadata": {
    "execution": {
     "iopub.execute_input": "2021-05-27T12:24:42.561771Z",
     "iopub.status.busy": "2021-05-27T12:24:42.561239Z",
     "iopub.status.idle": "2021-05-27T12:24:42.563434Z",
     "shell.execute_reply": "2021-05-27T12:24:42.562980Z"
    },
    "papermill": {
     "duration": 0.037176,
     "end_time": "2021-05-27T12:24:42.563539",
     "exception": false,
     "start_time": "2021-05-27T12:24:42.526363",
     "status": "completed"
    },
    "tags": []
   },
   "outputs": [],
   "source": [
    "# #hide\n",
    "# g = g.reset_index(['date'])"
   ]
  },
  {
   "cell_type": "code",
   "execution_count": 25,
   "id": "incomplete-mustang",
   "metadata": {
    "execution": {
     "iopub.execute_input": "2021-05-27T12:24:42.630776Z",
     "iopub.status.busy": "2021-05-27T12:24:42.630166Z",
     "iopub.status.idle": "2021-05-27T12:24:42.633075Z",
     "shell.execute_reply": "2021-05-27T12:24:42.632578Z"
    },
    "papermill": {
     "duration": 0.038339,
     "end_time": "2021-05-27T12:24:42.633198",
     "exception": false,
     "start_time": "2021-05-27T12:24:42.594859",
     "status": "completed"
    },
    "tags": []
   },
   "outputs": [],
   "source": [
    "#hide\n",
    "# g.head()"
   ]
  },
  {
   "cell_type": "code",
   "execution_count": 26,
   "id": "specific-kruger",
   "metadata": {
    "execution": {
     "iopub.execute_input": "2021-05-27T12:24:42.699450Z",
     "iopub.status.busy": "2021-05-27T12:24:42.699018Z",
     "iopub.status.idle": "2021-05-27T12:24:42.701422Z",
     "shell.execute_reply": "2021-05-27T12:24:42.701846Z"
    },
    "papermill": {
     "duration": 0.039937,
     "end_time": "2021-05-27T12:24:42.701957",
     "exception": false,
     "start_time": "2021-05-27T12:24:42.662020",
     "status": "completed"
    },
    "tags": []
   },
   "outputs": [],
   "source": [
    "#hide\n",
    "# g.columns = ['date','country','cases']"
   ]
  },
  {
   "cell_type": "code",
   "execution_count": 27,
   "id": "tender-conversion",
   "metadata": {
    "execution": {
     "iopub.execute_input": "2021-05-27T12:24:42.767306Z",
     "iopub.status.busy": "2021-05-27T12:24:42.766793Z",
     "iopub.status.idle": "2021-05-27T12:24:42.768977Z",
     "shell.execute_reply": "2021-05-27T12:24:42.769491Z"
    },
    "papermill": {
     "duration": 0.037081,
     "end_time": "2021-05-27T12:24:42.769610",
     "exception": false,
     "start_time": "2021-05-27T12:24:42.732529",
     "status": "completed"
    },
    "tags": []
   },
   "outputs": [],
   "source": [
    "#hide\n",
    "# g['continent'] = g.country"
   ]
  },
  {
   "cell_type": "code",
   "execution_count": 28,
   "id": "substantial-wilderness",
   "metadata": {
    "execution": {
     "iopub.execute_input": "2021-05-27T12:24:42.835767Z",
     "iopub.status.busy": "2021-05-27T12:24:42.835174Z",
     "iopub.status.idle": "2021-05-27T12:24:42.837525Z",
     "shell.execute_reply": "2021-05-27T12:24:42.836951Z"
    },
    "papermill": {
     "duration": 0.035326,
     "end_time": "2021-05-27T12:24:42.837635",
     "exception": false,
     "start_time": "2021-05-27T12:24:42.802309",
     "status": "completed"
    },
    "tags": []
   },
   "outputs": [],
   "source": [
    "#hide\n",
    "# cols = list(g.columns.values)"
   ]
  },
  {
   "cell_type": "code",
   "execution_count": 29,
   "id": "solved-farming",
   "metadata": {
    "execution": {
     "iopub.execute_input": "2021-05-27T12:24:42.908553Z",
     "iopub.status.busy": "2021-05-27T12:24:42.907748Z",
     "iopub.status.idle": "2021-05-27T12:24:42.909387Z",
     "shell.execute_reply": "2021-05-27T12:24:42.910009Z"
    },
    "papermill": {
     "duration": 0.038816,
     "end_time": "2021-05-27T12:24:42.910183",
     "exception": false,
     "start_time": "2021-05-27T12:24:42.871367",
     "status": "completed"
    },
    "tags": []
   },
   "outputs": [],
   "source": [
    "#hide\n",
    "# cols.insert(0, cols.pop())"
   ]
  },
  {
   "cell_type": "code",
   "execution_count": 30,
   "id": "executed-adoption",
   "metadata": {
    "execution": {
     "iopub.execute_input": "2021-05-27T12:24:42.978217Z",
     "iopub.status.busy": "2021-05-27T12:24:42.977642Z",
     "iopub.status.idle": "2021-05-27T12:24:42.979903Z",
     "shell.execute_reply": "2021-05-27T12:24:42.979413Z"
    },
    "papermill": {
     "duration": 0.038727,
     "end_time": "2021-05-27T12:24:42.980012",
     "exception": false,
     "start_time": "2021-05-27T12:24:42.941285",
     "status": "completed"
    },
    "tags": []
   },
   "outputs": [],
   "source": [
    "#hide\n",
    "# g = g[cols]"
   ]
  },
  {
   "cell_type": "code",
   "execution_count": 31,
   "id": "subject-dublin",
   "metadata": {
    "execution": {
     "iopub.execute_input": "2021-05-27T12:24:43.048344Z",
     "iopub.status.busy": "2021-05-27T12:24:43.047799Z",
     "iopub.status.idle": "2021-05-27T12:24:43.049612Z",
     "shell.execute_reply": "2021-05-27T12:24:43.050021Z"
    },
    "papermill": {
     "duration": 0.03825,
     "end_time": "2021-05-27T12:24:43.050138",
     "exception": false,
     "start_time": "2021-05-27T12:24:43.011888",
     "status": "completed"
    },
    "tags": []
   },
   "outputs": [],
   "source": [
    "#hide\n",
    "# g['continent'] = g['continent'].map(mapping['map.continent'])"
   ]
  },
  {
   "cell_type": "code",
   "execution_count": 32,
   "id": "freelance-scout",
   "metadata": {
    "execution": {
     "iopub.execute_input": "2021-05-27T12:24:43.117294Z",
     "iopub.status.busy": "2021-05-27T12:24:43.116715Z",
     "iopub.status.idle": "2021-05-27T12:24:43.119031Z",
     "shell.execute_reply": "2021-05-27T12:24:43.119496Z"
    },
    "papermill": {
     "duration": 0.038265,
     "end_time": "2021-05-27T12:24:43.119628",
     "exception": false,
     "start_time": "2021-05-27T12:24:43.081363",
     "status": "completed"
    },
    "tags": []
   },
   "outputs": [],
   "source": [
    "#hide\n",
    "# g.head()"
   ]
  },
  {
   "cell_type": "code",
   "execution_count": 33,
   "id": "limited-engine",
   "metadata": {
    "execution": {
     "iopub.execute_input": "2021-05-27T12:24:43.185696Z",
     "iopub.status.busy": "2021-05-27T12:24:43.185200Z",
     "iopub.status.idle": "2021-05-27T12:24:43.187453Z",
     "shell.execute_reply": "2021-05-27T12:24:43.188002Z"
    },
    "papermill": {
     "duration": 0.037732,
     "end_time": "2021-05-27T12:24:43.188129",
     "exception": false,
     "start_time": "2021-05-27T12:24:43.150397",
     "status": "completed"
    },
    "tags": []
   },
   "outputs": [],
   "source": [
    "# hide\n",
    "# g['date'] = g['date'].astype('datetime64[ns]')"
   ]
  },
  {
   "cell_type": "code",
   "execution_count": 34,
   "id": "sophisticated-supervisor",
   "metadata": {
    "execution": {
     "iopub.execute_input": "2021-05-27T12:24:43.256133Z",
     "iopub.status.busy": "2021-05-27T12:24:43.255591Z",
     "iopub.status.idle": "2021-05-27T12:24:43.257365Z",
     "shell.execute_reply": "2021-05-27T12:24:43.257773Z"
    },
    "papermill": {
     "duration": 0.03714,
     "end_time": "2021-05-27T12:24:43.257897",
     "exception": false,
     "start_time": "2021-05-27T12:24:43.220757",
     "status": "completed"
    },
    "tags": []
   },
   "outputs": [],
   "source": [
    "#hide\n",
    "# g['date'] = g.date.dt.dayofyear"
   ]
  },
  {
   "cell_type": "code",
   "execution_count": 35,
   "id": "inside-dubai",
   "metadata": {
    "execution": {
     "iopub.execute_input": "2021-05-27T12:24:43.325931Z",
     "iopub.status.busy": "2021-05-27T12:24:43.325384Z",
     "iopub.status.idle": "2021-05-27T12:24:43.327752Z",
     "shell.execute_reply": "2021-05-27T12:24:43.328258Z"
    },
    "papermill": {
     "duration": 0.039032,
     "end_time": "2021-05-27T12:24:43.328380",
     "exception": false,
     "start_time": "2021-05-27T12:24:43.289348",
     "status": "completed"
    },
    "tags": []
   },
   "outputs": [],
   "source": [
    "#hide\n",
    "# g = g.rename(columns= {'continent':'group','country':'name','cases':'value'})"
   ]
  },
  {
   "cell_type": "code",
   "execution_count": 36,
   "id": "fleet-motorcycle",
   "metadata": {
    "execution": {
     "iopub.execute_input": "2021-05-27T12:24:43.390009Z",
     "iopub.status.busy": "2021-05-27T12:24:43.389541Z",
     "iopub.status.idle": "2021-05-27T12:24:43.391961Z",
     "shell.execute_reply": "2021-05-27T12:24:43.392467Z"
    },
    "papermill": {
     "duration": 0.034888,
     "end_time": "2021-05-27T12:24:43.392591",
     "exception": false,
     "start_time": "2021-05-27T12:24:43.357703",
     "status": "completed"
    },
    "tags": []
   },
   "outputs": [],
   "source": [
    "#hide\n",
    "# cols = ['name','group','day','value']"
   ]
  },
  {
   "cell_type": "code",
   "execution_count": 37,
   "id": "continued-sleeping",
   "metadata": {
    "execution": {
     "iopub.execute_input": "2021-05-27T12:24:43.459267Z",
     "iopub.status.busy": "2021-05-27T12:24:43.458741Z",
     "iopub.status.idle": "2021-05-27T12:24:43.460975Z",
     "shell.execute_reply": "2021-05-27T12:24:43.461516Z"
    },
    "papermill": {
     "duration": 0.037805,
     "end_time": "2021-05-27T12:24:43.461645",
     "exception": false,
     "start_time": "2021-05-27T12:24:43.423840",
     "status": "completed"
    },
    "tags": []
   },
   "outputs": [],
   "source": [
    "#hide\n",
    "# g.rename(columns= {'date':'day'},inplace = True)"
   ]
  },
  {
   "cell_type": "code",
   "execution_count": 38,
   "id": "major-fight",
   "metadata": {
    "execution": {
     "iopub.execute_input": "2021-05-27T12:24:43.524454Z",
     "iopub.status.busy": "2021-05-27T12:24:43.523882Z",
     "iopub.status.idle": "2021-05-27T12:24:43.526499Z",
     "shell.execute_reply": "2021-05-27T12:24:43.526082Z"
    },
    "papermill": {
     "duration": 0.034361,
     "end_time": "2021-05-27T12:24:43.526587",
     "exception": false,
     "start_time": "2021-05-27T12:24:43.492226",
     "status": "completed"
    },
    "tags": []
   },
   "outputs": [],
   "source": [
    "#hide\n",
    "# g = g[cols]"
   ]
  },
  {
   "cell_type": "code",
   "execution_count": 39,
   "id": "structured-mobile",
   "metadata": {
    "execution": {
     "iopub.execute_input": "2021-05-27T12:24:43.586759Z",
     "iopub.status.busy": "2021-05-27T12:24:43.586201Z",
     "iopub.status.idle": "2021-05-27T12:24:43.588236Z",
     "shell.execute_reply": "2021-05-27T12:24:43.588698Z"
    },
    "papermill": {
     "duration": 0.034598,
     "end_time": "2021-05-27T12:24:43.588836",
     "exception": false,
     "start_time": "2021-05-27T12:24:43.554238",
     "status": "completed"
    },
    "tags": []
   },
   "outputs": [],
   "source": [
    "# #hide\n",
    "# g = g[g.group.notna()]"
   ]
  },
  {
   "cell_type": "code",
   "execution_count": 40,
   "id": "determined-closing",
   "metadata": {
    "execution": {
     "iopub.execute_input": "2021-05-27T12:24:43.655114Z",
     "iopub.status.busy": "2021-05-27T12:24:43.654522Z",
     "iopub.status.idle": "2021-05-27T12:24:43.657402Z",
     "shell.execute_reply": "2021-05-27T12:24:43.657753Z"
    },
    "papermill": {
     "duration": 0.037979,
     "end_time": "2021-05-27T12:24:43.657849",
     "exception": false,
     "start_time": "2021-05-27T12:24:43.619870",
     "status": "completed"
    },
    "tags": []
   },
   "outputs": [],
   "source": [
    "# #hide\n",
    "# colors = dict(zip(\n",
    "#     [\"Oceania\", \"Europe\", \"Asia\", \"South America\", \"Middle East\", \"North America\", \"Africa\"],\n",
    "#     [\"#adb0ff\", \"#ffb3ff\", \"#90d595\", \"#e48381\", \"#aafbff\", \"#f7bb5f\", \"#eafb50\"]\n",
    "# ))\n",
    "# group_lk = g.set_index('name')['group'].to_dict()"
   ]
  },
  {
   "cell_type": "code",
   "execution_count": null,
   "id": "gross-drinking",
   "metadata": {
    "papermill": {
     "duration": 0.029177,
     "end_time": "2021-05-27T12:24:43.715392",
     "exception": false,
     "start_time": "2021-05-27T12:24:43.686215",
     "status": "completed"
    },
    "tags": []
   },
   "outputs": [],
   "source": []
  },
  {
   "cell_type": "code",
   "execution_count": 41,
   "id": "subject-macintosh",
   "metadata": {
    "execution": {
     "iopub.execute_input": "2021-05-27T12:24:43.780700Z",
     "iopub.status.busy": "2021-05-27T12:24:43.780147Z",
     "iopub.status.idle": "2021-05-27T12:24:43.782466Z",
     "shell.execute_reply": "2021-05-27T12:24:43.782921Z"
    },
    "papermill": {
     "duration": 0.037722,
     "end_time": "2021-05-27T12:24:43.783029",
     "exception": false,
     "start_time": "2021-05-27T12:24:43.745307",
     "status": "completed"
    },
    "tags": []
   },
   "outputs": [],
   "source": [
    "# #hide\n",
    "# fig, ax = plt.subplots(figsize=(15, 8))\n",
    "\n",
    "# def draw_barchart(current_day):\n",
    "#     dff = g[g['day'].eq(current_day)].sort_values(by='value', ascending=True).tail(10)\n",
    "#     ax.clear()\n",
    "#     ax.barh(dff['name'], dff['value'], color=[colors[group_lk[x]] for x in dff['name']])\n",
    "#     dx = dff['value'].max() / 200\n",
    "    \n",
    "#     for i, (value, name) in enumerate(zip(dff['value'], dff['name'])):\n",
    "#         ax.text(value-dx, i,     name,           size=14, weight=600, ha='right', va='bottom')\n",
    "#         ax.text(value-dx, i-.25, group_lk[name], size=10, color='#444444', ha='right', va='baseline')\n",
    "#         ax.text(value+dx, i,     f'{value:,.0f}',  size=14, ha='left',  va='center')\n",
    "#     ax.text(1, 0.4, current_day, transform=ax.transAxes, color='#777777', size=46, ha='right', weight=800)\n",
    "#     ax.text(0, 1.06, 'Population (thousands)', transform=ax.transAxes, size=12, color='#777777')\n",
    "#     ax.xaxis.set_major_formatter(ticker.StrMethodFormatter('{x:,.0f}'))\n",
    "#     ax.xaxis.set_ticks_position('top')\n",
    "#     ax.tick_params(axis='x', colors='#777777', labelsize=12)\n",
    "#     ax.set_yticks([])\n",
    "#     ax.margins(0, 0.01)\n",
    "#     ax.grid(which='major', axis='x', linestyle='-')\n",
    "#     ax.set_axisbelow(True)\n",
    "    \n",
    "#     ax.text(0, 1.15, 'Coronavirus',\n",
    "#             transform=ax.transAxes, size=24, weight=600, ha='left', va='top')\n",
    "# #     ax.text(1, 0, 'by @pratapvardhan; credit @jburnmurdoch', transform=ax.transAxes, color='#777777', ha='right',\n",
    "# #             bbox=dict(facecolor='white', alpha=0.8, edgecolor='white'))\n",
    "#     plt.box(False)"
   ]
  },
  {
   "cell_type": "code",
   "execution_count": 42,
   "id": "sexual-wages",
   "metadata": {
    "execution": {
     "iopub.execute_input": "2021-05-27T12:24:43.849476Z",
     "iopub.status.busy": "2021-05-27T12:24:43.848890Z",
     "iopub.status.idle": "2021-05-27T12:24:43.851657Z",
     "shell.execute_reply": "2021-05-27T12:24:43.851200Z"
    },
    "papermill": {
     "duration": 0.037145,
     "end_time": "2021-05-27T12:24:43.851763",
     "exception": false,
     "start_time": "2021-05-27T12:24:43.814618",
     "status": "completed"
    },
    "tags": []
   },
   "outputs": [],
   "source": [
    "# #hide_input\n",
    "# fig, ax = plt.subplots(figsize=(15, 8))\n",
    "# animator = animation.FuncAnimation(fig, draw_barchart, frames=range(g.day.values.min(), g.day.values.max()))\n",
    "# HTML(animator.to_jshtml())\n",
    "# # or use animator.to_html5_video() or animator.save() "
   ]
  },
  {
   "cell_type": "code",
   "execution_count": null,
   "id": "australian-container",
   "metadata": {
    "papermill": {
     "duration": 0.030412,
     "end_time": "2021-05-27T12:24:43.912090",
     "exception": false,
     "start_time": "2021-05-27T12:24:43.881678",
     "status": "completed"
    },
    "tags": []
   },
   "outputs": [],
   "source": []
  },
  {
   "cell_type": "code",
   "execution_count": null,
   "id": "mediterranean-pontiac",
   "metadata": {
    "papermill": {
     "duration": 0.029958,
     "end_time": "2021-05-27T12:24:43.973067",
     "exception": false,
     "start_time": "2021-05-27T12:24:43.943109",
     "status": "completed"
    },
    "tags": []
   },
   "outputs": [],
   "source": []
  },
  {
   "cell_type": "code",
   "execution_count": null,
   "id": "aging-legislature",
   "metadata": {
    "papermill": {
     "duration": 0.030668,
     "end_time": "2021-05-27T12:24:44.034359",
     "exception": false,
     "start_time": "2021-05-27T12:24:44.003691",
     "status": "completed"
    },
    "tags": []
   },
   "outputs": [],
   "source": []
  }
 ],
 "metadata": {
  "kernelspec": {
   "display_name": "Python 3",
   "language": "python",
   "name": "python3"
  },
  "language_info": {
   "codemirror_mode": {
    "name": "ipython",
    "version": 3
   },
   "file_extension": ".py",
   "mimetype": "text/x-python",
   "name": "python",
   "nbconvert_exporter": "python",
   "pygments_lexer": "ipython3",
   "version": "3.6.13"
  },
  "papermill": {
   "duration": 6.061502,
   "end_time": "2021-05-27T12:24:44.372451",
   "environment_variables": {},
   "exception": null,
   "input_path": "2020-03-21-covid19exp.ipynb",
   "output_path": "2020-03-21-covid19exp.ipynb",
   "parameters": {},
   "start_time": "2021-05-27T12:24:38.310949",
   "version": "2.0.0"
  }
 },
 "nbformat": 4,
 "nbformat_minor": 5
}