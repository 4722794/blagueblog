{
 "cells": [
  {
   "cell_type": "markdown",
   "id": "muslim-click",
   "metadata": {
    "papermill": {
     "duration": 0.035763,
     "end_time": "2022-10-06T00:56:13.167651",
     "exception": false,
     "start_time": "2022-10-06T00:56:13.131888",
     "status": "completed"
    },
    "tags": []
   },
   "source": [
    "# COVID-19 Case Race\n",
    "> A race chart to see rising cases around the world\n",
    "\n",
    "- author: Hargun Oberoi\n",
    "- image: images/covid-overview.png\n",
    "- hide: false\n",
    "- badges: false"
   ]
  },
  {
   "cell_type": "code",
   "execution_count": 1,
   "id": "proof-material",
   "metadata": {
    "execution": {
     "iopub.execute_input": "2022-10-06T00:56:13.237298Z",
     "iopub.status.busy": "2022-10-06T00:56:13.236706Z",
     "iopub.status.idle": "2022-10-06T00:56:13.551943Z",
     "shell.execute_reply": "2022-10-06T00:56:13.551414Z"
    },
    "papermill": {
     "duration": 0.35401,
     "end_time": "2022-10-06T00:56:13.552085",
     "exception": false,
     "start_time": "2022-10-06T00:56:13.198075",
     "status": "completed"
    },
    "tags": []
   },
   "outputs": [],
   "source": [
    "#hide\n",
    "import numpy as np\n",
    "import pandas as pd\n",
    "from jinja2 import Template\n",
    "from IPython.display import HTML"
   ]
  },
  {
   "cell_type": "code",
   "execution_count": 2,
   "id": "developed-terminology",
   "metadata": {
    "execution": {
     "iopub.execute_input": "2022-10-06T00:56:13.615717Z",
     "iopub.status.busy": "2022-10-06T00:56:13.614998Z",
     "iopub.status.idle": "2022-10-06T00:56:13.617601Z",
     "shell.execute_reply": "2022-10-06T00:56:13.617087Z"
    },
    "papermill": {
     "duration": 0.036184,
     "end_time": "2022-10-06T00:56:13.617722",
     "exception": false,
     "start_time": "2022-10-06T00:56:13.581538",
     "status": "completed"
    },
    "tags": []
   },
   "outputs": [],
   "source": [
    "#hide\n",
    "\n",
    "# FETCH\n",
    "base_url = 'https://raw.githubusercontent.com/pratapvardhan/notebooks/master/covid19/'\n",
    "paths = {\n",
    "    'mapping': base_url + 'mapping_countries.csv',\n",
    "    'overview': base_url + 'overview.tpl'\n",
    "}"
   ]
  },
  {
   "cell_type": "code",
   "execution_count": 3,
   "id": "dynamic-saver",
   "metadata": {
    "execution": {
     "iopub.execute_input": "2022-10-06T00:56:13.686376Z",
     "iopub.status.busy": "2022-10-06T00:56:13.685803Z",
     "iopub.status.idle": "2022-10-06T00:56:13.688602Z",
     "shell.execute_reply": "2022-10-06T00:56:13.689078Z"
    },
    "papermill": {
     "duration": 0.041998,
     "end_time": "2022-10-06T00:56:13.689194",
     "exception": false,
     "start_time": "2022-10-06T00:56:13.647196",
     "status": "completed"
    },
    "tags": []
   },
   "outputs": [
    {
     "data": {
      "text/plain": [
       "'https://raw.githubusercontent.com/pratapvardhan/notebooks/master/covid19/mapping_countries.csv'"
      ]
     },
     "execution_count": 3,
     "metadata": {},
     "output_type": "execute_result"
    }
   ],
   "source": [
    "#hide\n",
    "paths['mapping']"
   ]
  },
  {
   "cell_type": "code",
   "execution_count": 4,
   "id": "urban-software",
   "metadata": {
    "execution": {
     "iopub.execute_input": "2022-10-06T00:56:13.753267Z",
     "iopub.status.busy": "2022-10-06T00:56:13.752613Z",
     "iopub.status.idle": "2022-10-06T00:56:13.755019Z",
     "shell.execute_reply": "2022-10-06T00:56:13.754531Z"
    },
    "papermill": {
     "duration": 0.036316,
     "end_time": "2022-10-06T00:56:13.755120",
     "exception": false,
     "start_time": "2022-10-06T00:56:13.718804",
     "status": "completed"
    },
    "tags": []
   },
   "outputs": [],
   "source": [
    "#hide\n",
    "def get_mappings(url):\n",
    "    df = pd.read_csv(url)\n",
    "    return {\n",
    "        'df': df,\n",
    "        'replace.country': dict(df.dropna(subset=['Name']).set_index('Country')['Name']),\n",
    "        'map.continent': dict(df.set_index('Name')['Continent'])\n",
    "    }"
   ]
  },
  {
   "cell_type": "code",
   "execution_count": 5,
   "id": "intimate-machinery",
   "metadata": {
    "execution": {
     "iopub.execute_input": "2022-10-06T00:56:13.818785Z",
     "iopub.status.busy": "2022-10-06T00:56:13.818215Z",
     "iopub.status.idle": "2022-10-06T00:56:13.855543Z",
     "shell.execute_reply": "2022-10-06T00:56:13.854998Z"
    },
    "papermill": {
     "duration": 0.071122,
     "end_time": "2022-10-06T00:56:13.855647",
     "exception": false,
     "start_time": "2022-10-06T00:56:13.784525",
     "status": "completed"
    },
    "tags": []
   },
   "outputs": [],
   "source": [
    "#hide\n",
    "mapping = get_mappings(paths['mapping'])"
   ]
  },
  {
   "cell_type": "code",
   "execution_count": 6,
   "id": "certified-tactics",
   "metadata": {
    "execution": {
     "iopub.execute_input": "2022-10-06T00:56:13.919165Z",
     "iopub.status.busy": "2022-10-06T00:56:13.918594Z",
     "iopub.status.idle": "2022-10-06T00:56:13.920936Z",
     "shell.execute_reply": "2022-10-06T00:56:13.921376Z"
    },
    "papermill": {
     "duration": 0.036386,
     "end_time": "2022-10-06T00:56:13.921488",
     "exception": false,
     "start_time": "2022-10-06T00:56:13.885102",
     "status": "completed"
    },
    "tags": []
   },
   "outputs": [],
   "source": [
    "#hide\n",
    "def get_template(path):\n",
    "    from urllib.parse import urlparse\n",
    "    if bool(urlparse(path).netloc):\n",
    "        from urllib.request import urlopen\n",
    "        return urlopen(path).read().decode('utf8')\n",
    "    return open(path).read()"
   ]
  },
  {
   "cell_type": "code",
   "execution_count": 7,
   "id": "realistic-blast",
   "metadata": {
    "execution": {
     "iopub.execute_input": "2022-10-06T00:56:13.985069Z",
     "iopub.status.busy": "2022-10-06T00:56:13.984413Z",
     "iopub.status.idle": "2022-10-06T00:56:13.986487Z",
     "shell.execute_reply": "2022-10-06T00:56:13.986967Z"
    },
    "papermill": {
     "duration": 0.036176,
     "end_time": "2022-10-06T00:56:13.987098",
     "exception": false,
     "start_time": "2022-10-06T00:56:13.950922",
     "status": "completed"
    },
    "tags": []
   },
   "outputs": [],
   "source": [
    "#hide\n",
    "def get_frame(name):\n",
    "    url = (\n",
    "        'https://raw.githubusercontent.com/CSSEGISandData/COVID-19/master/csse_covid_19_data/'\n",
    "        f'csse_covid_19_time_series/time_series_covid19_{name}_global.csv')\n",
    "    df = pd.read_csv(url)\n",
    "    # rename countries\n",
    "    df['Country/Region'] = df['Country/Region'].replace(mapping['replace.country'])\n",
    "    return df"
   ]
  },
  {
   "cell_type": "code",
   "execution_count": 8,
   "id": "affiliated-characterization",
   "metadata": {
    "execution": {
     "iopub.execute_input": "2022-10-06T00:56:14.051580Z",
     "iopub.status.busy": "2022-10-06T00:56:14.050981Z",
     "iopub.status.idle": "2022-10-06T00:56:14.052936Z",
     "shell.execute_reply": "2022-10-06T00:56:14.053377Z"
    },
    "papermill": {
     "duration": 0.036833,
     "end_time": "2022-10-06T00:56:14.053489",
     "exception": false,
     "start_time": "2022-10-06T00:56:14.016656",
     "status": "completed"
    },
    "tags": []
   },
   "outputs": [],
   "source": [
    "#hide\n",
    "def get_dates(df):\n",
    "    dt_cols = df.columns[~df.columns.isin(['Province/State', 'Country/Region', 'Lat', 'Long'])]\n",
    "    LAST_DATE_I = -1\n",
    "    # sometimes last column may be empty, then go backwards\n",
    "    for i in range(-1, -len(dt_cols), -1):\n",
    "        if not df[dt_cols[i]].fillna(0).eq(0).all():\n",
    "            LAST_DATE_I = i\n",
    "            break\n",
    "    return LAST_DATE_I, dt_cols"
   ]
  },
  {
   "cell_type": "code",
   "execution_count": 9,
   "id": "recent-optimization",
   "metadata": {
    "execution": {
     "iopub.execute_input": "2022-10-06T00:56:14.116501Z",
     "iopub.status.busy": "2022-10-06T00:56:14.115914Z",
     "iopub.status.idle": "2022-10-06T00:56:14.622386Z",
     "shell.execute_reply": "2022-10-06T00:56:14.621825Z"
    },
    "papermill": {
     "duration": 0.539843,
     "end_time": "2022-10-06T00:56:14.622522",
     "exception": false,
     "start_time": "2022-10-06T00:56:14.082679",
     "status": "completed"
    },
    "tags": []
   },
   "outputs": [],
   "source": [
    "#hide\n",
    "COL_REGION = 'Country/Region'\n",
    "# Confirmed, Recovered, Deaths\n",
    "df = get_frame('confirmed')\n",
    "# dft_: timeseries, dfc_: today country agg\n",
    "dft_cases = df\n",
    "dft_deaths = get_frame('deaths')\n",
    "dft_recovered = get_frame('recovered')\n",
    "LAST_DATE_I, dt_cols = get_dates(df)"
   ]
  },
  {
   "cell_type": "code",
   "execution_count": 10,
   "id": "absolute-copper",
   "metadata": {
    "execution": {
     "iopub.execute_input": "2022-10-06T00:56:14.685957Z",
     "iopub.status.busy": "2022-10-06T00:56:14.685377Z",
     "iopub.status.idle": "2022-10-06T00:56:14.690167Z",
     "shell.execute_reply": "2022-10-06T00:56:14.690703Z"
    },
    "papermill": {
     "duration": 0.037639,
     "end_time": "2022-10-06T00:56:14.690826",
     "exception": false,
     "start_time": "2022-10-06T00:56:14.653187",
     "status": "completed"
    },
    "tags": []
   },
   "outputs": [],
   "source": [
    "#hide\n",
    "LAST_DATE_I, dt_cols = get_dates(df)\n",
    "dt_today =dt_cols[LAST_DATE_I]\n",
    "# dt_5day = dt_cols[LAST_DATE_I - 5]\n",
    "dt_yday = dt_cols[LAST_DATE_I - 1]"
   ]
  },
  {
   "cell_type": "code",
   "execution_count": 11,
   "id": "restricted-sheriff",
   "metadata": {
    "execution": {
     "iopub.execute_input": "2022-10-06T00:56:14.754331Z",
     "iopub.status.busy": "2022-10-06T00:56:14.753764Z",
     "iopub.status.idle": "2022-10-06T00:56:14.761486Z",
     "shell.execute_reply": "2022-10-06T00:56:14.762032Z"
    },
    "papermill": {
     "duration": 0.042066,
     "end_time": "2022-10-06T00:56:14.762147",
     "exception": false,
     "start_time": "2022-10-06T00:56:14.720081",
     "status": "completed"
    },
    "tags": []
   },
   "outputs": [],
   "source": [
    "#hide\n",
    "dfc_cases = dft_cases.groupby(COL_REGION)[dt_today].sum()\n",
    "dfc_deaths = dft_deaths.groupby(COL_REGION)[dt_today].sum()\n",
    "# dfp_cases = dft_cases.groupby(COL_REGION)[dt_5day].sum()\n",
    "# dfp_deaths = dft_deaths.groupby(COL_REGION)[dt_5day].sum()\n",
    "dfp_cases = dft_cases.groupby(COL_REGION)[dt_yday].sum()\n",
    "dfp_deaths = dft_deaths.groupby(COL_REGION)[dt_yday].sum()"
   ]
  },
  {
   "cell_type": "code",
   "execution_count": 12,
   "id": "deluxe-hepatitis",
   "metadata": {
    "execution": {
     "iopub.execute_input": "2022-10-06T00:56:14.825951Z",
     "iopub.status.busy": "2022-10-06T00:56:14.825383Z",
     "iopub.status.idle": "2022-10-06T00:56:14.830360Z",
     "shell.execute_reply": "2022-10-06T00:56:14.830904Z"
    },
    "papermill": {
     "duration": 0.039485,
     "end_time": "2022-10-06T00:56:14.831020",
     "exception": false,
     "start_time": "2022-10-06T00:56:14.791535",
     "status": "completed"
    },
    "tags": []
   },
   "outputs": [],
   "source": [
    "#hide\n",
    "df_table = (pd.DataFrame(dict(Cases = dfc_cases, Deaths = dfc_deaths, PCases = dfp_cases, PDeaths = dfp_deaths))\n",
    "            .sort_values(by = ['Cases','Deaths'], ascending = [False, False])\n",
    "            .reset_index())"
   ]
  },
  {
   "cell_type": "code",
   "execution_count": 13,
   "id": "educational-chancellor",
   "metadata": {
    "execution": {
     "iopub.execute_input": "2022-10-06T00:56:14.905796Z",
     "iopub.status.busy": "2022-10-06T00:56:14.901337Z",
     "iopub.status.idle": "2022-10-06T00:56:14.913752Z",
     "shell.execute_reply": "2022-10-06T00:56:14.913295Z"
    },
    "papermill": {
     "duration": 0.05363,
     "end_time": "2022-10-06T00:56:14.913853",
     "exception": false,
     "start_time": "2022-10-06T00:56:14.860223",
     "status": "completed"
    },
    "tags": []
   },
   "outputs": [
    {
     "data": {
      "text/html": [
       "<div>\n",
       "<style scoped>\n",
       "    .dataframe tbody tr th:only-of-type {\n",
       "        vertical-align: middle;\n",
       "    }\n",
       "\n",
       "    .dataframe tbody tr th {\n",
       "        vertical-align: top;\n",
       "    }\n",
       "\n",
       "    .dataframe thead th {\n",
       "        text-align: right;\n",
       "    }\n",
       "</style>\n",
       "<table border=\"1\" class=\"dataframe\">\n",
       "  <thead>\n",
       "    <tr style=\"text-align: right;\">\n",
       "      <th></th>\n",
       "      <th>Country/Region</th>\n",
       "      <th>Cases</th>\n",
       "      <th>Deaths</th>\n",
       "      <th>PCases</th>\n",
       "      <th>PDeaths</th>\n",
       "      <th>Cases (+)</th>\n",
       "      <th>Deaths (+)</th>\n",
       "      <th>Fatality Rate</th>\n",
       "      <th>Continent</th>\n",
       "    </tr>\n",
       "  </thead>\n",
       "  <tbody>\n",
       "    <tr>\n",
       "      <th>0</th>\n",
       "      <td>US</td>\n",
       "      <td>96481081</td>\n",
       "      <td>1060408</td>\n",
       "      <td>96438726</td>\n",
       "      <td>1059866</td>\n",
       "      <td>42355</td>\n",
       "      <td>542</td>\n",
       "      <td>1.10</td>\n",
       "      <td>North America</td>\n",
       "    </tr>\n",
       "    <tr>\n",
       "      <th>1</th>\n",
       "      <td>India</td>\n",
       "      <td>44601892</td>\n",
       "      <td>528733</td>\n",
       "      <td>44599466</td>\n",
       "      <td>528716</td>\n",
       "      <td>2426</td>\n",
       "      <td>17</td>\n",
       "      <td>1.19</td>\n",
       "      <td>Asia</td>\n",
       "    </tr>\n",
       "    <tr>\n",
       "      <th>2</th>\n",
       "      <td>France</td>\n",
       "      <td>35790213</td>\n",
       "      <td>156312</td>\n",
       "      <td>35701024</td>\n",
       "      <td>156238</td>\n",
       "      <td>89189</td>\n",
       "      <td>74</td>\n",
       "      <td>0.44</td>\n",
       "      <td>Europe</td>\n",
       "    </tr>\n",
       "    <tr>\n",
       "      <th>3</th>\n",
       "      <td>Brazil</td>\n",
       "      <td>34684529</td>\n",
       "      <td>686371</td>\n",
       "      <td>34684529</td>\n",
       "      <td>686371</td>\n",
       "      <td>0</td>\n",
       "      <td>0</td>\n",
       "      <td>1.98</td>\n",
       "      <td>South America</td>\n",
       "    </tr>\n",
       "    <tr>\n",
       "      <th>4</th>\n",
       "      <td>Germany</td>\n",
       "      <td>33519761</td>\n",
       "      <td>150192</td>\n",
       "      <td>33386229</td>\n",
       "      <td>150064</td>\n",
       "      <td>133532</td>\n",
       "      <td>128</td>\n",
       "      <td>0.45</td>\n",
       "      <td>Europe</td>\n",
       "    </tr>\n",
       "  </tbody>\n",
       "</table>\n",
       "</div>"
      ],
      "text/plain": [
       "  Country/Region     Cases   Deaths    PCases  PDeaths  Cases (+)  Deaths (+)  \\\n",
       "0             US  96481081  1060408  96438726  1059866      42355         542   \n",
       "1          India  44601892   528733  44599466   528716       2426          17   \n",
       "2         France  35790213   156312  35701024   156238      89189          74   \n",
       "3         Brazil  34684529   686371  34684529   686371          0           0   \n",
       "4        Germany  33519761   150192  33386229   150064     133532         128   \n",
       "\n",
       "   Fatality Rate      Continent  \n",
       "0           1.10  North America  \n",
       "1           1.19           Asia  \n",
       "2           0.44         Europe  \n",
       "3           1.98  South America  \n",
       "4           0.45         Europe  "
      ]
     },
     "execution_count": 13,
     "metadata": {},
     "output_type": "execute_result"
    }
   ],
   "source": [
    "#hide\n",
    "for c in 'Cases, Deaths'.split(', '):\n",
    "    df_table[f'{c} (+)'] = (df_table[c] - df_table[f'P{c}']).clip(0)\n",
    "    #Clip ça veut dire, les chiffres negatif sont interdit\n",
    "df_table['Fatality Rate'] = (100* df_table['Deaths']/ df_table['Cases']).round(2)\n",
    "df_table['Continent'] = df_table['Country/Region'].map(mapping['map.continent'])\n",
    "df_table.head(5)"
   ]
  },
  {
   "cell_type": "code",
   "execution_count": 14,
   "id": "aboriginal-bulgaria",
   "metadata": {
    "execution": {
     "iopub.execute_input": "2022-10-06T00:56:14.978041Z",
     "iopub.status.busy": "2022-10-06T00:56:14.977478Z",
     "iopub.status.idle": "2022-10-06T00:56:14.980538Z",
     "shell.execute_reply": "2022-10-06T00:56:14.981080Z"
    },
    "papermill": {
     "duration": 0.037485,
     "end_time": "2022-10-06T00:56:14.981194",
     "exception": false,
     "start_time": "2022-10-06T00:56:14.943709",
     "status": "completed"
    },
    "tags": []
   },
   "outputs": [],
   "source": [
    "#hide\n",
    "#delete problematic countries from table\n",
    "df_table = df_table[~df_table['Country/Region'].isin(['Cape Verde', 'Cruise Ship', 'Kosovo'])]"
   ]
  },
  {
   "cell_type": "code",
   "execution_count": 15,
   "id": "fantastic-effect",
   "metadata": {
    "execution": {
     "iopub.execute_input": "2022-10-06T00:56:15.048118Z",
     "iopub.status.busy": "2022-10-06T00:56:15.047548Z",
     "iopub.status.idle": "2022-10-06T00:56:15.064504Z",
     "shell.execute_reply": "2022-10-06T00:56:15.064973Z"
    },
    "papermill": {
     "duration": 0.054229,
     "end_time": "2022-10-06T00:56:15.065085",
     "exception": false,
     "start_time": "2022-10-06T00:56:15.010856",
     "status": "completed"
    },
    "tags": []
   },
   "outputs": [
    {
     "data": {
      "text/html": [
       "<div>\n",
       "<style scoped>\n",
       "    .dataframe tbody tr th:only-of-type {\n",
       "        vertical-align: middle;\n",
       "    }\n",
       "\n",
       "    .dataframe tbody tr th {\n",
       "        vertical-align: top;\n",
       "    }\n",
       "\n",
       "    .dataframe thead th {\n",
       "        text-align: right;\n",
       "    }\n",
       "</style>\n",
       "<table border=\"1\" class=\"dataframe\">\n",
       "  <thead>\n",
       "    <tr style=\"text-align: right;\">\n",
       "      <th></th>\n",
       "      <th>Country/Region</th>\n",
       "      <th>Cases</th>\n",
       "      <th>Deaths</th>\n",
       "      <th>PCases</th>\n",
       "      <th>PDeaths</th>\n",
       "      <th>Cases (+)</th>\n",
       "      <th>Deaths (+)</th>\n",
       "      <th>Fatality Rate</th>\n",
       "      <th>Continent</th>\n",
       "    </tr>\n",
       "  </thead>\n",
       "  <tbody>\n",
       "    <tr>\n",
       "      <th>0</th>\n",
       "      <td>US</td>\n",
       "      <td>96481081</td>\n",
       "      <td>1060408</td>\n",
       "      <td>96438726</td>\n",
       "      <td>1059866</td>\n",
       "      <td>42355</td>\n",
       "      <td>542</td>\n",
       "      <td>1.1</td>\n",
       "      <td>North America</td>\n",
       "    </tr>\n",
       "    <tr>\n",
       "      <th>1</th>\n",
       "      <td>India</td>\n",
       "      <td>44601892</td>\n",
       "      <td>528733</td>\n",
       "      <td>44599466</td>\n",
       "      <td>528716</td>\n",
       "      <td>2426</td>\n",
       "      <td>17</td>\n",
       "      <td>1.2</td>\n",
       "      <td>Asia</td>\n",
       "    </tr>\n",
       "    <tr>\n",
       "      <th>2</th>\n",
       "      <td>France</td>\n",
       "      <td>35790213</td>\n",
       "      <td>156312</td>\n",
       "      <td>35701024</td>\n",
       "      <td>156238</td>\n",
       "      <td>89189</td>\n",
       "      <td>74</td>\n",
       "      <td>0.4</td>\n",
       "      <td>Europe</td>\n",
       "    </tr>\n",
       "    <tr>\n",
       "      <th>3</th>\n",
       "      <td>Brazil</td>\n",
       "      <td>34684529</td>\n",
       "      <td>686371</td>\n",
       "      <td>34684529</td>\n",
       "      <td>686371</td>\n",
       "      <td>0</td>\n",
       "      <td>0</td>\n",
       "      <td>2.0</td>\n",
       "      <td>South America</td>\n",
       "    </tr>\n",
       "    <tr>\n",
       "      <th>4</th>\n",
       "      <td>Germany</td>\n",
       "      <td>33519761</td>\n",
       "      <td>150192</td>\n",
       "      <td>33386229</td>\n",
       "      <td>150064</td>\n",
       "      <td>133532</td>\n",
       "      <td>128</td>\n",
       "      <td>0.4</td>\n",
       "      <td>Europe</td>\n",
       "    </tr>\n",
       "  </tbody>\n",
       "</table>\n",
       "</div>"
      ],
      "text/plain": [
       "  Country/Region     Cases   Deaths    PCases  PDeaths  Cases (+)  Deaths (+)  \\\n",
       "0             US  96481081  1060408  96438726  1059866      42355         542   \n",
       "1          India  44601892   528733  44599466   528716       2426          17   \n",
       "2         France  35790213   156312  35701024   156238      89189          74   \n",
       "3         Brazil  34684529   686371  34684529   686371          0           0   \n",
       "4        Germany  33519761   150192  33386229   150064     133532         128   \n",
       "\n",
       "   Fatality Rate      Continent  \n",
       "0            1.1  North America  \n",
       "1            1.2           Asia  \n",
       "2            0.4         Europe  \n",
       "3            2.0  South America  \n",
       "4            0.4         Europe  "
      ]
     },
     "execution_count": 15,
     "metadata": {},
     "output_type": "execute_result"
    }
   ],
   "source": [
    "#hide\n",
    "df_table = (pd.DataFrame(dict(Cases=dfc_cases, Deaths=dfc_deaths, PCases=dfp_cases, PDeaths=dfp_deaths))\n",
    "             .sort_values(by=['Cases', 'Deaths'], ascending=[False, False])\n",
    "             .reset_index())\n",
    "df_table.rename(columns={'index': 'Country/Region'}, inplace=True)\n",
    "for c in 'Cases, Deaths'.split(', '):\n",
    "    df_table[f'{c} (+)'] = (df_table[c] - df_table[f'P{c}']).clip(0)  # DATA BUG\n",
    "df_table['Fatality Rate'] = (100 * df_table['Deaths'] / df_table['Cases']).round(1)\n",
    "df_table['Continent'] = df_table['Country/Region'].map(mapping['map.continent'])\n",
    "df_table.head(5)"
   ]
  },
  {
   "cell_type": "code",
   "execution_count": 16,
   "id": "fewer-occasion",
   "metadata": {
    "execution": {
     "iopub.execute_input": "2022-10-06T00:56:15.131556Z",
     "iopub.status.busy": "2022-10-06T00:56:15.130960Z",
     "iopub.status.idle": "2022-10-06T00:56:15.133424Z",
     "shell.execute_reply": "2022-10-06T00:56:15.133958Z"
    },
    "papermill": {
     "duration": 0.038378,
     "end_time": "2022-10-06T00:56:15.134074",
     "exception": false,
     "start_time": "2022-10-06T00:56:15.095696",
     "status": "completed"
    },
    "tags": []
   },
   "outputs": [],
   "source": [
    "#hide\n",
    "#delete problematic countries from table\n",
    "df_table = df_table[~df_table['Country/Region'].isin(['Cape Verde', 'Cruise Ship', 'Kosovo'])]"
   ]
  },
  {
   "cell_type": "code",
   "execution_count": 17,
   "id": "related-center",
   "metadata": {
    "execution": {
     "iopub.execute_input": "2022-10-06T00:56:15.212647Z",
     "iopub.status.busy": "2022-10-06T00:56:15.205266Z",
     "iopub.status.idle": "2022-10-06T00:56:15.214581Z",
     "shell.execute_reply": "2022-10-06T00:56:15.214997Z"
    },
    "papermill": {
     "duration": 0.050812,
     "end_time": "2022-10-06T00:56:15.215116",
     "exception": false,
     "start_time": "2022-10-06T00:56:15.164304",
     "status": "completed"
    },
    "tags": []
   },
   "outputs": [],
   "source": [
    "#hide\n",
    "metrics = [df_table.columns[index] for index in [1,2,5,6]]\n",
    "# s_china = df_table[df_table['Country/Region'].eq('China')][metrics].sum().add_prefix('China ')\n",
    "s_us = df_table[df_table['Country/Region'].eq('US')][metrics].sum().add_prefix('US ')\n",
    "s_eu = df_table[df_table['Continent'].eq('Europe')][metrics].sum().add_prefix('EU ')\n",
    "s_ind = df_table[df_table['Country/Region'].eq('India')][metrics].sum().add_prefix('India ')\n",
    "summary = {'updated': pd.to_datetime(dt_today), 'since': pd.to_datetime(dt_yday)}\n",
    "summary = {'updated': pd.to_datetime(dt_today), 'since': pd.to_datetime(dt_yday)}\n",
    "summary = {**summary, **df_table[metrics].sum(), **s_ind, **s_us, **s_eu}"
   ]
  },
  {
   "cell_type": "code",
   "execution_count": 18,
   "id": "engaging-syndrome",
   "metadata": {
    "execution": {
     "iopub.execute_input": "2022-10-06T00:56:15.280313Z",
     "iopub.status.busy": "2022-10-06T00:56:15.279702Z",
     "iopub.status.idle": "2022-10-06T00:56:15.300206Z",
     "shell.execute_reply": "2022-10-06T00:56:15.299737Z"
    },
    "papermill": {
     "duration": 0.054857,
     "end_time": "2022-10-06T00:56:15.300315",
     "exception": false,
     "start_time": "2022-10-06T00:56:15.245458",
     "status": "completed"
    },
    "tags": []
   },
   "outputs": [],
   "source": [
    "#hide\n",
    "dft_ct_new_cases = dft_cases.groupby(COL_REGION)[dt_cols].sum().diff(axis=1).fillna(0).astype(int)"
   ]
  },
  {
   "cell_type": "code",
   "execution_count": 19,
   "id": "neutral-assignment",
   "metadata": {
    "execution": {
     "iopub.execute_input": "2022-10-06T00:56:15.366519Z",
     "iopub.status.busy": "2022-10-06T00:56:15.365953Z",
     "iopub.status.idle": "2022-10-06T00:56:15.368367Z",
     "shell.execute_reply": "2022-10-06T00:56:15.368914Z"
    },
    "papermill": {
     "duration": 0.038266,
     "end_time": "2022-10-06T00:56:15.369030",
     "exception": false,
     "start_time": "2022-10-06T00:56:15.330764",
     "status": "completed"
    },
    "tags": []
   },
   "outputs": [],
   "source": [
    "#hide\n",
    "everydaycases = dft_ct_new_cases.cumsum(axis=1)"
   ]
  },
  {
   "cell_type": "code",
   "execution_count": 20,
   "id": "parliamentary-calgary",
   "metadata": {
    "execution": {
     "iopub.execute_input": "2022-10-06T00:56:15.434556Z",
     "iopub.status.busy": "2022-10-06T00:56:15.433971Z",
     "iopub.status.idle": "2022-10-06T00:56:15.960148Z",
     "shell.execute_reply": "2022-10-06T00:56:15.959633Z"
    },
    "papermill": {
     "duration": 0.560552,
     "end_time": "2022-10-06T00:56:15.960274",
     "exception": false,
     "start_time": "2022-10-06T00:56:15.399722",
     "status": "completed"
    },
    "tags": []
   },
   "outputs": [],
   "source": [
    "#hide\n",
    "import pandas as pd\n",
    "import matplotlib.pyplot as plt\n",
    "import matplotlib.ticker as ticker\n",
    "import matplotlib.animation as animation\n",
    "from IPython.display import HTML"
   ]
  },
  {
   "cell_type": "code",
   "execution_count": 21,
   "id": "lasting-extraction",
   "metadata": {
    "execution": {
     "iopub.execute_input": "2022-10-06T00:56:16.028193Z",
     "iopub.status.busy": "2022-10-06T00:56:16.027614Z",
     "iopub.status.idle": "2022-10-06T00:56:16.034870Z",
     "shell.execute_reply": "2022-10-06T00:56:16.035367Z"
    },
    "papermill": {
     "duration": 0.044498,
     "end_time": "2022-10-06T00:56:16.035496",
     "exception": false,
     "start_time": "2022-10-06T00:56:15.990998",
     "status": "completed"
    },
    "tags": []
   },
   "outputs": [],
   "source": [
    "#hide\n",
    "t = everydaycases.stack()"
   ]
  },
  {
   "cell_type": "code",
   "execution_count": 22,
   "id": "premier-sleeve",
   "metadata": {
    "execution": {
     "iopub.execute_input": "2022-10-06T00:56:16.100949Z",
     "iopub.status.busy": "2022-10-06T00:56:16.100375Z",
     "iopub.status.idle": "2022-10-06T00:56:16.112731Z",
     "shell.execute_reply": "2022-10-06T00:56:16.112158Z"
    },
    "papermill": {
     "duration": 0.046752,
     "end_time": "2022-10-06T00:56:16.112840",
     "exception": false,
     "start_time": "2022-10-06T00:56:16.066088",
     "status": "completed"
    },
    "tags": []
   },
   "outputs": [],
   "source": [
    "#hide\n",
    "g = t.reset_index(['Country/Region'])"
   ]
  },
  {
   "cell_type": "code",
   "execution_count": 23,
   "id": "distributed-pittsburgh",
   "metadata": {
    "execution": {
     "iopub.execute_input": "2022-10-06T00:56:16.177404Z",
     "iopub.status.busy": "2022-10-06T00:56:16.176843Z",
     "iopub.status.idle": "2022-10-06T00:56:16.179208Z",
     "shell.execute_reply": "2022-10-06T00:56:16.179781Z"
    },
    "papermill": {
     "duration": 0.036608,
     "end_time": "2022-10-06T00:56:16.179902",
     "exception": false,
     "start_time": "2022-10-06T00:56:16.143294",
     "status": "completed"
    },
    "tags": []
   },
   "outputs": [],
   "source": [
    "#hide\n",
    "g.index.name = 'date'"
   ]
  },
  {
   "cell_type": "code",
   "execution_count": 24,
   "id": "naked-donor",
   "metadata": {
    "execution": {
     "iopub.execute_input": "2022-10-06T00:56:16.244074Z",
     "iopub.status.busy": "2022-10-06T00:56:16.243491Z",
     "iopub.status.idle": "2022-10-06T00:56:16.245956Z",
     "shell.execute_reply": "2022-10-06T00:56:16.245399Z"
    },
    "papermill": {
     "duration": 0.03571,
     "end_time": "2022-10-06T00:56:16.246058",
     "exception": false,
     "start_time": "2022-10-06T00:56:16.210348",
     "status": "completed"
    },
    "tags": []
   },
   "outputs": [],
   "source": [
    "# #hide\n",
    "# g = g.reset_index(['date'])"
   ]
  },
  {
   "cell_type": "code",
   "execution_count": 25,
   "id": "incomplete-mustang",
   "metadata": {
    "execution": {
     "iopub.execute_input": "2022-10-06T00:56:16.310902Z",
     "iopub.status.busy": "2022-10-06T00:56:16.310240Z",
     "iopub.status.idle": "2022-10-06T00:56:16.312847Z",
     "shell.execute_reply": "2022-10-06T00:56:16.312215Z"
    },
    "papermill": {
     "duration": 0.036354,
     "end_time": "2022-10-06T00:56:16.312964",
     "exception": false,
     "start_time": "2022-10-06T00:56:16.276610",
     "status": "completed"
    },
    "tags": []
   },
   "outputs": [],
   "source": [
    "#hide\n",
    "# g.head()"
   ]
  },
  {
   "cell_type": "code",
   "execution_count": 26,
   "id": "specific-kruger",
   "metadata": {
    "execution": {
     "iopub.execute_input": "2022-10-06T00:56:16.377680Z",
     "iopub.status.busy": "2022-10-06T00:56:16.377077Z",
     "iopub.status.idle": "2022-10-06T00:56:16.380627Z",
     "shell.execute_reply": "2022-10-06T00:56:16.381109Z"
    },
    "papermill": {
     "duration": 0.037635,
     "end_time": "2022-10-06T00:56:16.381233",
     "exception": false,
     "start_time": "2022-10-06T00:56:16.343598",
     "status": "completed"
    },
    "tags": []
   },
   "outputs": [],
   "source": [
    "#hide\n",
    "# g.columns = ['date','country','cases']"
   ]
  },
  {
   "cell_type": "code",
   "execution_count": 27,
   "id": "tender-conversion",
   "metadata": {
    "execution": {
     "iopub.execute_input": "2022-10-06T00:56:16.445763Z",
     "iopub.status.busy": "2022-10-06T00:56:16.445097Z",
     "iopub.status.idle": "2022-10-06T00:56:16.447656Z",
     "shell.execute_reply": "2022-10-06T00:56:16.447058Z"
    },
    "papermill": {
     "duration": 0.036187,
     "end_time": "2022-10-06T00:56:16.447763",
     "exception": false,
     "start_time": "2022-10-06T00:56:16.411576",
     "status": "completed"
    },
    "tags": []
   },
   "outputs": [],
   "source": [
    "#hide\n",
    "# g['continent'] = g.country"
   ]
  },
  {
   "cell_type": "code",
   "execution_count": 28,
   "id": "substantial-wilderness",
   "metadata": {
    "execution": {
     "iopub.execute_input": "2022-10-06T00:56:16.513518Z",
     "iopub.status.busy": "2022-10-06T00:56:16.512863Z",
     "iopub.status.idle": "2022-10-06T00:56:16.515444Z",
     "shell.execute_reply": "2022-10-06T00:56:16.514852Z"
    },
    "papermill": {
     "duration": 0.03727,
     "end_time": "2022-10-06T00:56:16.515566",
     "exception": false,
     "start_time": "2022-10-06T00:56:16.478296",
     "status": "completed"
    },
    "tags": []
   },
   "outputs": [],
   "source": [
    "#hide\n",
    "# cols = list(g.columns.values)"
   ]
  },
  {
   "cell_type": "code",
   "execution_count": 29,
   "id": "solved-farming",
   "metadata": {
    "execution": {
     "iopub.execute_input": "2022-10-06T00:56:16.579919Z",
     "iopub.status.busy": "2022-10-06T00:56:16.579340Z",
     "iopub.status.idle": "2022-10-06T00:56:16.581819Z",
     "shell.execute_reply": "2022-10-06T00:56:16.581263Z"
    },
    "papermill": {
     "duration": 0.035763,
     "end_time": "2022-10-06T00:56:16.581922",
     "exception": false,
     "start_time": "2022-10-06T00:56:16.546159",
     "status": "completed"
    },
    "tags": []
   },
   "outputs": [],
   "source": [
    "#hide\n",
    "# cols.insert(0, cols.pop())"
   ]
  },
  {
   "cell_type": "code",
   "execution_count": 30,
   "id": "executed-adoption",
   "metadata": {
    "execution": {
     "iopub.execute_input": "2022-10-06T00:56:16.646103Z",
     "iopub.status.busy": "2022-10-06T00:56:16.645448Z",
     "iopub.status.idle": "2022-10-06T00:56:16.648045Z",
     "shell.execute_reply": "2022-10-06T00:56:16.647540Z"
    },
    "papermill": {
     "duration": 0.035886,
     "end_time": "2022-10-06T00:56:16.648163",
     "exception": false,
     "start_time": "2022-10-06T00:56:16.612277",
     "status": "completed"
    },
    "tags": []
   },
   "outputs": [],
   "source": [
    "#hide\n",
    "# g = g[cols]"
   ]
  },
  {
   "cell_type": "code",
   "execution_count": 31,
   "id": "subject-dublin",
   "metadata": {
    "execution": {
     "iopub.execute_input": "2022-10-06T00:56:16.713188Z",
     "iopub.status.busy": "2022-10-06T00:56:16.712618Z",
     "iopub.status.idle": "2022-10-06T00:56:16.715176Z",
     "shell.execute_reply": "2022-10-06T00:56:16.714738Z"
    },
    "papermill": {
     "duration": 0.036402,
     "end_time": "2022-10-06T00:56:16.715300",
     "exception": false,
     "start_time": "2022-10-06T00:56:16.678898",
     "status": "completed"
    },
    "tags": []
   },
   "outputs": [],
   "source": [
    "#hide\n",
    "# g['continent'] = g['continent'].map(mapping['map.continent'])"
   ]
  },
  {
   "cell_type": "code",
   "execution_count": 32,
   "id": "freelance-scout",
   "metadata": {
    "execution": {
     "iopub.execute_input": "2022-10-06T00:56:16.779434Z",
     "iopub.status.busy": "2022-10-06T00:56:16.778739Z",
     "iopub.status.idle": "2022-10-06T00:56:16.781311Z",
     "shell.execute_reply": "2022-10-06T00:56:16.780754Z"
    },
    "papermill": {
     "duration": 0.035764,
     "end_time": "2022-10-06T00:56:16.781424",
     "exception": false,
     "start_time": "2022-10-06T00:56:16.745660",
     "status": "completed"
    },
    "tags": []
   },
   "outputs": [],
   "source": [
    "#hide\n",
    "# g.head()"
   ]
  },
  {
   "cell_type": "code",
   "execution_count": 33,
   "id": "limited-engine",
   "metadata": {
    "execution": {
     "iopub.execute_input": "2022-10-06T00:56:16.845919Z",
     "iopub.status.busy": "2022-10-06T00:56:16.845277Z",
     "iopub.status.idle": "2022-10-06T00:56:16.847997Z",
     "shell.execute_reply": "2022-10-06T00:56:16.847470Z"
    },
    "papermill": {
     "duration": 0.036137,
     "end_time": "2022-10-06T00:56:16.848113",
     "exception": false,
     "start_time": "2022-10-06T00:56:16.811976",
     "status": "completed"
    },
    "tags": []
   },
   "outputs": [],
   "source": [
    "# hide\n",
    "# g['date'] = g['date'].astype('datetime64[ns]')"
   ]
  },
  {
   "cell_type": "code",
   "execution_count": 34,
   "id": "sophisticated-supervisor",
   "metadata": {
    "execution": {
     "iopub.execute_input": "2022-10-06T00:56:16.913441Z",
     "iopub.status.busy": "2022-10-06T00:56:16.912771Z",
     "iopub.status.idle": "2022-10-06T00:56:16.915176Z",
     "shell.execute_reply": "2022-10-06T00:56:16.914712Z"
    },
    "papermill": {
     "duration": 0.035889,
     "end_time": "2022-10-06T00:56:16.915297",
     "exception": false,
     "start_time": "2022-10-06T00:56:16.879408",
     "status": "completed"
    },
    "tags": []
   },
   "outputs": [],
   "source": [
    "#hide\n",
    "# g['date'] = g.date.dt.dayofyear"
   ]
  },
  {
   "cell_type": "code",
   "execution_count": 35,
   "id": "inside-dubai",
   "metadata": {
    "execution": {
     "iopub.execute_input": "2022-10-06T00:56:16.979322Z",
     "iopub.status.busy": "2022-10-06T00:56:16.978633Z",
     "iopub.status.idle": "2022-10-06T00:56:16.981233Z",
     "shell.execute_reply": "2022-10-06T00:56:16.980677Z"
    },
    "papermill": {
     "duration": 0.035796,
     "end_time": "2022-10-06T00:56:16.981346",
     "exception": false,
     "start_time": "2022-10-06T00:56:16.945550",
     "status": "completed"
    },
    "tags": []
   },
   "outputs": [],
   "source": [
    "#hide\n",
    "# g = g.rename(columns= {'continent':'group','country':'name','cases':'value'})"
   ]
  },
  {
   "cell_type": "code",
   "execution_count": 36,
   "id": "fleet-motorcycle",
   "metadata": {
    "execution": {
     "iopub.execute_input": "2022-10-06T00:56:17.046571Z",
     "iopub.status.busy": "2022-10-06T00:56:17.045916Z",
     "iopub.status.idle": "2022-10-06T00:56:17.048357Z",
     "shell.execute_reply": "2022-10-06T00:56:17.047868Z"
    },
    "papermill": {
     "duration": 0.035981,
     "end_time": "2022-10-06T00:56:17.048458",
     "exception": false,
     "start_time": "2022-10-06T00:56:17.012477",
     "status": "completed"
    },
    "tags": []
   },
   "outputs": [],
   "source": [
    "#hide\n",
    "# cols = ['name','group','day','value']"
   ]
  },
  {
   "cell_type": "code",
   "execution_count": 37,
   "id": "continued-sleeping",
   "metadata": {
    "execution": {
     "iopub.execute_input": "2022-10-06T00:56:17.113264Z",
     "iopub.status.busy": "2022-10-06T00:56:17.112593Z",
     "iopub.status.idle": "2022-10-06T00:56:17.115158Z",
     "shell.execute_reply": "2022-10-06T00:56:17.114594Z"
    },
    "papermill": {
     "duration": 0.0365,
     "end_time": "2022-10-06T00:56:17.115296",
     "exception": false,
     "start_time": "2022-10-06T00:56:17.078796",
     "status": "completed"
    },
    "tags": []
   },
   "outputs": [],
   "source": [
    "#hide\n",
    "# g.rename(columns= {'date':'day'},inplace = True)"
   ]
  },
  {
   "cell_type": "code",
   "execution_count": 38,
   "id": "major-fight",
   "metadata": {
    "execution": {
     "iopub.execute_input": "2022-10-06T00:56:17.179985Z",
     "iopub.status.busy": "2022-10-06T00:56:17.179363Z",
     "iopub.status.idle": "2022-10-06T00:56:17.181285Z",
     "shell.execute_reply": "2022-10-06T00:56:17.181703Z"
    },
    "papermill": {
     "duration": 0.035825,
     "end_time": "2022-10-06T00:56:17.181825",
     "exception": false,
     "start_time": "2022-10-06T00:56:17.146000",
     "status": "completed"
    },
    "tags": []
   },
   "outputs": [],
   "source": [
    "#hide\n",
    "# g = g[cols]"
   ]
  },
  {
   "cell_type": "code",
   "execution_count": 39,
   "id": "structured-mobile",
   "metadata": {
    "execution": {
     "iopub.execute_input": "2022-10-06T00:56:17.246422Z",
     "iopub.status.busy": "2022-10-06T00:56:17.245765Z",
     "iopub.status.idle": "2022-10-06T00:56:17.248329Z",
     "shell.execute_reply": "2022-10-06T00:56:17.247695Z"
    },
    "papermill": {
     "duration": 0.036192,
     "end_time": "2022-10-06T00:56:17.248448",
     "exception": false,
     "start_time": "2022-10-06T00:56:17.212256",
     "status": "completed"
    },
    "tags": []
   },
   "outputs": [],
   "source": [
    "# #hide\n",
    "# g = g[g.group.notna()]"
   ]
  },
  {
   "cell_type": "code",
   "execution_count": 40,
   "id": "determined-closing",
   "metadata": {
    "execution": {
     "iopub.execute_input": "2022-10-06T00:56:17.313296Z",
     "iopub.status.busy": "2022-10-06T00:56:17.312631Z",
     "iopub.status.idle": "2022-10-06T00:56:17.315159Z",
     "shell.execute_reply": "2022-10-06T00:56:17.314524Z"
    },
    "papermill": {
     "duration": 0.036256,
     "end_time": "2022-10-06T00:56:17.315297",
     "exception": false,
     "start_time": "2022-10-06T00:56:17.279041",
     "status": "completed"
    },
    "tags": []
   },
   "outputs": [],
   "source": [
    "# #hide\n",
    "# colors = dict(zip(\n",
    "#     [\"Oceania\", \"Europe\", \"Asia\", \"South America\", \"Middle East\", \"North America\", \"Africa\"],\n",
    "#     [\"#adb0ff\", \"#ffb3ff\", \"#90d595\", \"#e48381\", \"#aafbff\", \"#f7bb5f\", \"#eafb50\"]\n",
    "# ))\n",
    "# group_lk = g.set_index('name')['group'].to_dict()"
   ]
  },
  {
   "cell_type": "code",
   "execution_count": null,
   "id": "gross-drinking",
   "metadata": {
    "papermill": {
     "duration": 0.030385,
     "end_time": "2022-10-06T00:56:17.376747",
     "exception": false,
     "start_time": "2022-10-06T00:56:17.346362",
     "status": "completed"
    },
    "tags": []
   },
   "outputs": [],
   "source": []
  },
  {
   "cell_type": "code",
   "execution_count": 41,
   "id": "subject-macintosh",
   "metadata": {
    "execution": {
     "iopub.execute_input": "2022-10-06T00:56:17.442109Z",
     "iopub.status.busy": "2022-10-06T00:56:17.441518Z",
     "iopub.status.idle": "2022-10-06T00:56:17.444005Z",
     "shell.execute_reply": "2022-10-06T00:56:17.444451Z"
    },
    "papermill": {
     "duration": 0.037188,
     "end_time": "2022-10-06T00:56:17.444572",
     "exception": false,
     "start_time": "2022-10-06T00:56:17.407384",
     "status": "completed"
    },
    "tags": []
   },
   "outputs": [],
   "source": [
    "# #hide\n",
    "# fig, ax = plt.subplots(figsize=(15, 8))\n",
    "\n",
    "# def draw_barchart(current_day):\n",
    "#     dff = g[g['day'].eq(current_day)].sort_values(by='value', ascending=True).tail(10)\n",
    "#     ax.clear()\n",
    "#     ax.barh(dff['name'], dff['value'], color=[colors[group_lk[x]] for x in dff['name']])\n",
    "#     dx = dff['value'].max() / 200\n",
    "    \n",
    "#     for i, (value, name) in enumerate(zip(dff['value'], dff['name'])):\n",
    "#         ax.text(value-dx, i,     name,           size=14, weight=600, ha='right', va='bottom')\n",
    "#         ax.text(value-dx, i-.25, group_lk[name], size=10, color='#444444', ha='right', va='baseline')\n",
    "#         ax.text(value+dx, i,     f'{value:,.0f}',  size=14, ha='left',  va='center')\n",
    "#     ax.text(1, 0.4, current_day, transform=ax.transAxes, color='#777777', size=46, ha='right', weight=800)\n",
    "#     ax.text(0, 1.06, 'Population (thousands)', transform=ax.transAxes, size=12, color='#777777')\n",
    "#     ax.xaxis.set_major_formatter(ticker.StrMethodFormatter('{x:,.0f}'))\n",
    "#     ax.xaxis.set_ticks_position('top')\n",
    "#     ax.tick_params(axis='x', colors='#777777', labelsize=12)\n",
    "#     ax.set_yticks([])\n",
    "#     ax.margins(0, 0.01)\n",
    "#     ax.grid(which='major', axis='x', linestyle='-')\n",
    "#     ax.set_axisbelow(True)\n",
    "    \n",
    "#     ax.text(0, 1.15, 'Coronavirus',\n",
    "#             transform=ax.transAxes, size=24, weight=600, ha='left', va='top')\n",
    "# #     ax.text(1, 0, 'by @pratapvardhan; credit @jburnmurdoch', transform=ax.transAxes, color='#777777', ha='right',\n",
    "# #             bbox=dict(facecolor='white', alpha=0.8, edgecolor='white'))\n",
    "#     plt.box(False)"
   ]
  },
  {
   "cell_type": "code",
   "execution_count": 42,
   "id": "sexual-wages",
   "metadata": {
    "execution": {
     "iopub.execute_input": "2022-10-06T00:56:17.509211Z",
     "iopub.status.busy": "2022-10-06T00:56:17.508563Z",
     "iopub.status.idle": "2022-10-06T00:56:17.510614Z",
     "shell.execute_reply": "2022-10-06T00:56:17.511089Z"
    },
    "papermill": {
     "duration": 0.036409,
     "end_time": "2022-10-06T00:56:17.511248",
     "exception": false,
     "start_time": "2022-10-06T00:56:17.474839",
     "status": "completed"
    },
    "tags": []
   },
   "outputs": [],
   "source": [
    "# #hide_input\n",
    "# fig, ax = plt.subplots(figsize=(15, 8))\n",
    "# animator = animation.FuncAnimation(fig, draw_barchart, frames=range(g.day.values.min(), g.day.values.max()))\n",
    "# HTML(animator.to_jshtml())\n",
    "# # or use animator.to_html5_video() or animator.save() "
   ]
  },
  {
   "cell_type": "code",
   "execution_count": null,
   "id": "australian-container",
   "metadata": {
    "papermill": {
     "duration": 0.030173,
     "end_time": "2022-10-06T00:56:17.572010",
     "exception": false,
     "start_time": "2022-10-06T00:56:17.541837",
     "status": "completed"
    },
    "tags": []
   },
   "outputs": [],
   "source": []
  },
  {
   "cell_type": "code",
   "execution_count": null,
   "id": "mediterranean-pontiac",
   "metadata": {
    "papermill": {
     "duration": 0.030087,
     "end_time": "2022-10-06T00:56:17.632204",
     "exception": false,
     "start_time": "2022-10-06T00:56:17.602117",
     "status": "completed"
    },
    "tags": []
   },
   "outputs": [],
   "source": []
  },
  {
   "cell_type": "code",
   "execution_count": null,
   "id": "aging-legislature",
   "metadata": {
    "papermill": {
     "duration": 0.030266,
     "end_time": "2022-10-06T00:56:17.692929",
     "exception": false,
     "start_time": "2022-10-06T00:56:17.662663",
     "status": "completed"
    },
    "tags": []
   },
   "outputs": [],
   "source": []
  }
 ],
 "metadata": {
  "kernelspec": {
   "display_name": "Python 3",
   "language": "python",
   "name": "python3"
  },
  "language_info": {
   "codemirror_mode": {
    "name": "ipython",
    "version": 3
   },
   "file_extension": ".py",
   "mimetype": "text/x-python",
   "name": "python",
   "nbconvert_exporter": "python",
   "pygments_lexer": "ipython3",
   "version": "3.6.15"
  },
  "papermill": {
   "duration": 5.843762,
   "end_time": "2022-10-06T00:56:18.042627",
   "environment_variables": {},
   "exception": null,
   "input_path": "2020-03-21-covid19exp.ipynb",
   "output_path": "2020-03-21-covid19exp.ipynb",
   "parameters": {},
   "start_time": "2022-10-06T00:56:12.198865",
   "version": "2.0.0"
  }
 },
 "nbformat": 4,
 "nbformat_minor": 5
}