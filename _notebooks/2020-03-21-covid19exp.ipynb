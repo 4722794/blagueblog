{
 "cells": [
  {
   "cell_type": "markdown",
   "id": "muslim-click",
   "metadata": {
    "papermill": {
     "duration": 0.043269,
     "end_time": "2021-11-24T00:25:09.578852",
     "exception": false,
     "start_time": "2021-11-24T00:25:09.535583",
     "status": "completed"
    },
    "tags": []
   },
   "source": [
    "# COVID-19 Case Race\n",
    "> A race chart to see rising cases around the world\n",
    "\n",
    "- author: Hargun Oberoi\n",
    "- image: images/covid-overview.png\n",
    "- hide: false\n",
    "- badges: false"
   ]
  },
  {
   "cell_type": "code",
   "execution_count": 1,
   "id": "proof-material",
   "metadata": {
    "execution": {
     "iopub.execute_input": "2021-11-24T00:25:09.674554Z",
     "iopub.status.busy": "2021-11-24T00:25:09.673865Z",
     "iopub.status.idle": "2021-11-24T00:25:10.069712Z",
     "shell.execute_reply": "2021-11-24T00:25:10.069066Z"
    },
    "papermill": {
     "duration": 0.449713,
     "end_time": "2021-11-24T00:25:10.069879",
     "exception": false,
     "start_time": "2021-11-24T00:25:09.620166",
     "status": "completed"
    },
    "tags": []
   },
   "outputs": [],
   "source": [
    "#hide\n",
    "import numpy as np\n",
    "import pandas as pd\n",
    "from jinja2 import Template\n",
    "from IPython.display import HTML"
   ]
  },
  {
   "cell_type": "code",
   "execution_count": 2,
   "id": "developed-terminology",
   "metadata": {
    "execution": {
     "iopub.execute_input": "2021-11-24T00:25:10.152635Z",
     "iopub.status.busy": "2021-11-24T00:25:10.151957Z",
     "iopub.status.idle": "2021-11-24T00:25:10.154521Z",
     "shell.execute_reply": "2021-11-24T00:25:10.153958Z"
    },
    "papermill": {
     "duration": 0.046896,
     "end_time": "2021-11-24T00:25:10.154655",
     "exception": false,
     "start_time": "2021-11-24T00:25:10.107759",
     "status": "completed"
    },
    "tags": []
   },
   "outputs": [],
   "source": [
    "#hide\n",
    "\n",
    "# FETCH\n",
    "base_url = 'https://raw.githubusercontent.com/pratapvardhan/notebooks/master/covid19/'\n",
    "paths = {\n",
    "    'mapping': base_url + 'mapping_countries.csv',\n",
    "    'overview': base_url + 'overview.tpl'\n",
    "}"
   ]
  },
  {
   "cell_type": "code",
   "execution_count": 3,
   "id": "dynamic-saver",
   "metadata": {
    "execution": {
     "iopub.execute_input": "2021-11-24T00:25:10.243592Z",
     "iopub.status.busy": "2021-11-24T00:25:10.242904Z",
     "iopub.status.idle": "2021-11-24T00:25:10.246435Z",
     "shell.execute_reply": "2021-11-24T00:25:10.245873Z"
    },
    "papermill": {
     "duration": 0.052752,
     "end_time": "2021-11-24T00:25:10.246566",
     "exception": false,
     "start_time": "2021-11-24T00:25:10.193814",
     "status": "completed"
    },
    "tags": []
   },
   "outputs": [
    {
     "data": {
      "text/plain": [
       "'https://raw.githubusercontent.com/pratapvardhan/notebooks/master/covid19/mapping_countries.csv'"
      ]
     },
     "execution_count": 3,
     "metadata": {},
     "output_type": "execute_result"
    }
   ],
   "source": [
    "#hide\n",
    "paths['mapping']"
   ]
  },
  {
   "cell_type": "code",
   "execution_count": 4,
   "id": "urban-software",
   "metadata": {
    "execution": {
     "iopub.execute_input": "2021-11-24T00:25:10.328124Z",
     "iopub.status.busy": "2021-11-24T00:25:10.327457Z",
     "iopub.status.idle": "2021-11-24T00:25:10.329996Z",
     "shell.execute_reply": "2021-11-24T00:25:10.329457Z"
    },
    "papermill": {
     "duration": 0.045575,
     "end_time": "2021-11-24T00:25:10.330131",
     "exception": false,
     "start_time": "2021-11-24T00:25:10.284556",
     "status": "completed"
    },
    "tags": []
   },
   "outputs": [],
   "source": [
    "#hide\n",
    "def get_mappings(url):\n",
    "    df = pd.read_csv(url)\n",
    "    return {\n",
    "        'df': df,\n",
    "        'replace.country': dict(df.dropna(subset=['Name']).set_index('Country')['Name']),\n",
    "        'map.continent': dict(df.set_index('Name')['Continent'])\n",
    "    }"
   ]
  },
  {
   "cell_type": "code",
   "execution_count": 5,
   "id": "intimate-machinery",
   "metadata": {
    "execution": {
     "iopub.execute_input": "2021-11-24T00:25:10.412354Z",
     "iopub.status.busy": "2021-11-24T00:25:10.411173Z",
     "iopub.status.idle": "2021-11-24T00:25:10.482834Z",
     "shell.execute_reply": "2021-11-24T00:25:10.481950Z"
    },
    "papermill": {
     "duration": 0.114943,
     "end_time": "2021-11-24T00:25:10.483032",
     "exception": false,
     "start_time": "2021-11-24T00:25:10.368089",
     "status": "completed"
    },
    "tags": []
   },
   "outputs": [],
   "source": [
    "#hide\n",
    "mapping = get_mappings(paths['mapping'])"
   ]
  },
  {
   "cell_type": "code",
   "execution_count": 6,
   "id": "certified-tactics",
   "metadata": {
    "execution": {
     "iopub.execute_input": "2021-11-24T00:25:10.565069Z",
     "iopub.status.busy": "2021-11-24T00:25:10.564412Z",
     "iopub.status.idle": "2021-11-24T00:25:10.567388Z",
     "shell.execute_reply": "2021-11-24T00:25:10.566804Z"
    },
    "papermill": {
     "duration": 0.045715,
     "end_time": "2021-11-24T00:25:10.567535",
     "exception": false,
     "start_time": "2021-11-24T00:25:10.521820",
     "status": "completed"
    },
    "tags": []
   },
   "outputs": [],
   "source": [
    "#hide\n",
    "def get_template(path):\n",
    "    from urllib.parse import urlparse\n",
    "    if bool(urlparse(path).netloc):\n",
    "        from urllib.request import urlopen\n",
    "        return urlopen(path).read().decode('utf8')\n",
    "    return open(path).read()"
   ]
  },
  {
   "cell_type": "code",
   "execution_count": 7,
   "id": "realistic-blast",
   "metadata": {
    "execution": {
     "iopub.execute_input": "2021-11-24T00:25:10.649617Z",
     "iopub.status.busy": "2021-11-24T00:25:10.648964Z",
     "iopub.status.idle": "2021-11-24T00:25:10.651665Z",
     "shell.execute_reply": "2021-11-24T00:25:10.651111Z"
    },
    "papermill": {
     "duration": 0.046919,
     "end_time": "2021-11-24T00:25:10.651795",
     "exception": false,
     "start_time": "2021-11-24T00:25:10.604876",
     "status": "completed"
    },
    "tags": []
   },
   "outputs": [],
   "source": [
    "#hide\n",
    "def get_frame(name):\n",
    "    url = (\n",
    "        'https://raw.githubusercontent.com/CSSEGISandData/COVID-19/master/csse_covid_19_data/'\n",
    "        f'csse_covid_19_time_series/time_series_covid19_{name}_global.csv')\n",
    "    df = pd.read_csv(url)\n",
    "    # rename countries\n",
    "    df['Country/Region'] = df['Country/Region'].replace(mapping['replace.country'])\n",
    "    return df"
   ]
  },
  {
   "cell_type": "code",
   "execution_count": 8,
   "id": "affiliated-characterization",
   "metadata": {
    "execution": {
     "iopub.execute_input": "2021-11-24T00:25:10.734556Z",
     "iopub.status.busy": "2021-11-24T00:25:10.733821Z",
     "iopub.status.idle": "2021-11-24T00:25:10.737603Z",
     "shell.execute_reply": "2021-11-24T00:25:10.738166Z"
    },
    "papermill": {
     "duration": 0.049018,
     "end_time": "2021-11-24T00:25:10.738323",
     "exception": false,
     "start_time": "2021-11-24T00:25:10.689305",
     "status": "completed"
    },
    "tags": []
   },
   "outputs": [],
   "source": [
    "#hide\n",
    "def get_dates(df):\n",
    "    dt_cols = df.columns[~df.columns.isin(['Province/State', 'Country/Region', 'Lat', 'Long'])]\n",
    "    LAST_DATE_I = -1\n",
    "    # sometimes last column may be empty, then go backwards\n",
    "    for i in range(-1, -len(dt_cols), -1):\n",
    "        if not df[dt_cols[i]].fillna(0).eq(0).all():\n",
    "            LAST_DATE_I = i\n",
    "            break\n",
    "    return LAST_DATE_I, dt_cols"
   ]
  },
  {
   "cell_type": "code",
   "execution_count": 9,
   "id": "recent-optimization",
   "metadata": {
    "execution": {
     "iopub.execute_input": "2021-11-24T00:25:10.832046Z",
     "iopub.status.busy": "2021-11-24T00:25:10.831372Z",
     "iopub.status.idle": "2021-11-24T00:25:11.480560Z",
     "shell.execute_reply": "2021-11-24T00:25:11.479959Z"
    },
    "papermill": {
     "duration": 0.694598,
     "end_time": "2021-11-24T00:25:11.480709",
     "exception": false,
     "start_time": "2021-11-24T00:25:10.786111",
     "status": "completed"
    },
    "tags": []
   },
   "outputs": [],
   "source": [
    "#hide\n",
    "COL_REGION = 'Country/Region'\n",
    "# Confirmed, Recovered, Deaths\n",
    "df = get_frame('confirmed')\n",
    "# dft_: timeseries, dfc_: today country agg\n",
    "dft_cases = df\n",
    "dft_deaths = get_frame('deaths')\n",
    "dft_recovered = get_frame('recovered')\n",
    "LAST_DATE_I, dt_cols = get_dates(df)"
   ]
  },
  {
   "cell_type": "code",
   "execution_count": 10,
   "id": "absolute-copper",
   "metadata": {
    "execution": {
     "iopub.execute_input": "2021-11-24T00:25:11.566028Z",
     "iopub.status.busy": "2021-11-24T00:25:11.565365Z",
     "iopub.status.idle": "2021-11-24T00:25:11.569007Z",
     "shell.execute_reply": "2021-11-24T00:25:11.569516Z"
    },
    "papermill": {
     "duration": 0.04953,
     "end_time": "2021-11-24T00:25:11.569673",
     "exception": false,
     "start_time": "2021-11-24T00:25:11.520143",
     "status": "completed"
    },
    "tags": []
   },
   "outputs": [],
   "source": [
    "#hide\n",
    "LAST_DATE_I, dt_cols = get_dates(df)\n",
    "dt_today =dt_cols[LAST_DATE_I]\n",
    "# dt_5day = dt_cols[LAST_DATE_I - 5]\n",
    "dt_yday = dt_cols[LAST_DATE_I - 1]"
   ]
  },
  {
   "cell_type": "code",
   "execution_count": 11,
   "id": "restricted-sheriff",
   "metadata": {
    "execution": {
     "iopub.execute_input": "2021-11-24T00:25:11.655328Z",
     "iopub.status.busy": "2021-11-24T00:25:11.654620Z",
     "iopub.status.idle": "2021-11-24T00:25:11.661883Z",
     "shell.execute_reply": "2021-11-24T00:25:11.661320Z"
    },
    "papermill": {
     "duration": 0.05457,
     "end_time": "2021-11-24T00:25:11.662016",
     "exception": false,
     "start_time": "2021-11-24T00:25:11.607446",
     "status": "completed"
    },
    "tags": []
   },
   "outputs": [],
   "source": [
    "#hide\n",
    "dfc_cases = dft_cases.groupby(COL_REGION)[dt_today].sum()\n",
    "dfc_deaths = dft_deaths.groupby(COL_REGION)[dt_today].sum()\n",
    "# dfp_cases = dft_cases.groupby(COL_REGION)[dt_5day].sum()\n",
    "# dfp_deaths = dft_deaths.groupby(COL_REGION)[dt_5day].sum()\n",
    "dfp_cases = dft_cases.groupby(COL_REGION)[dt_yday].sum()\n",
    "dfp_deaths = dft_deaths.groupby(COL_REGION)[dt_yday].sum()"
   ]
  },
  {
   "cell_type": "code",
   "execution_count": 12,
   "id": "deluxe-hepatitis",
   "metadata": {
    "execution": {
     "iopub.execute_input": "2021-11-24T00:25:11.748076Z",
     "iopub.status.busy": "2021-11-24T00:25:11.747417Z",
     "iopub.status.idle": "2021-11-24T00:25:11.752077Z",
     "shell.execute_reply": "2021-11-24T00:25:11.752717Z"
    },
    "papermill": {
     "duration": 0.051406,
     "end_time": "2021-11-24T00:25:11.752877",
     "exception": false,
     "start_time": "2021-11-24T00:25:11.701471",
     "status": "completed"
    },
    "tags": []
   },
   "outputs": [],
   "source": [
    "#hide\n",
    "df_table = (pd.DataFrame(dict(Cases = dfc_cases, Deaths = dfc_deaths, PCases = dfp_cases, PDeaths = dfp_deaths))\n",
    "            .sort_values(by = ['Cases','Deaths'], ascending = [False, False])\n",
    "            .reset_index())"
   ]
  },
  {
   "cell_type": "code",
   "execution_count": 13,
   "id": "educational-chancellor",
   "metadata": {
    "execution": {
     "iopub.execute_input": "2021-11-24T00:25:11.850172Z",
     "iopub.status.busy": "2021-11-24T00:25:11.849472Z",
     "iopub.status.idle": "2021-11-24T00:25:11.857753Z",
     "shell.execute_reply": "2021-11-24T00:25:11.858259Z"
    },
    "papermill": {
     "duration": 0.067215,
     "end_time": "2021-11-24T00:25:11.858425",
     "exception": false,
     "start_time": "2021-11-24T00:25:11.791210",
     "status": "completed"
    },
    "tags": []
   },
   "outputs": [
    {
     "data": {
      "text/html": [
       "<div>\n",
       "<style scoped>\n",
       "    .dataframe tbody tr th:only-of-type {\n",
       "        vertical-align: middle;\n",
       "    }\n",
       "\n",
       "    .dataframe tbody tr th {\n",
       "        vertical-align: top;\n",
       "    }\n",
       "\n",
       "    .dataframe thead th {\n",
       "        text-align: right;\n",
       "    }\n",
       "</style>\n",
       "<table border=\"1\" class=\"dataframe\">\n",
       "  <thead>\n",
       "    <tr style=\"text-align: right;\">\n",
       "      <th></th>\n",
       "      <th>Country/Region</th>\n",
       "      <th>Cases</th>\n",
       "      <th>Deaths</th>\n",
       "      <th>PCases</th>\n",
       "      <th>PDeaths</th>\n",
       "      <th>Cases (+)</th>\n",
       "      <th>Deaths (+)</th>\n",
       "      <th>Fatality Rate</th>\n",
       "      <th>Continent</th>\n",
       "    </tr>\n",
       "  </thead>\n",
       "  <tbody>\n",
       "    <tr>\n",
       "      <th>0</th>\n",
       "      <td>US</td>\n",
       "      <td>47888171</td>\n",
       "      <td>772344</td>\n",
       "      <td>47730591</td>\n",
       "      <td>771118</td>\n",
       "      <td>157580</td>\n",
       "      <td>1226</td>\n",
       "      <td>1.61</td>\n",
       "      <td>North America</td>\n",
       "    </tr>\n",
       "    <tr>\n",
       "      <th>1</th>\n",
       "      <td>India</td>\n",
       "      <td>34526480</td>\n",
       "      <td>466147</td>\n",
       "      <td>34518901</td>\n",
       "      <td>465911</td>\n",
       "      <td>7579</td>\n",
       "      <td>236</td>\n",
       "      <td>1.35</td>\n",
       "      <td>Asia</td>\n",
       "    </tr>\n",
       "    <tr>\n",
       "      <th>2</th>\n",
       "      <td>Brazil</td>\n",
       "      <td>22019870</td>\n",
       "      <td>612782</td>\n",
       "      <td>22017276</td>\n",
       "      <td>612659</td>\n",
       "      <td>2594</td>\n",
       "      <td>123</td>\n",
       "      <td>2.78</td>\n",
       "      <td>South America</td>\n",
       "    </tr>\n",
       "    <tr>\n",
       "      <th>3</th>\n",
       "      <td>United Kingdom</td>\n",
       "      <td>9942859</td>\n",
       "      <td>144414</td>\n",
       "      <td>9897206</td>\n",
       "      <td>144369</td>\n",
       "      <td>45653</td>\n",
       "      <td>45</td>\n",
       "      <td>1.45</td>\n",
       "      <td>Europe</td>\n",
       "    </tr>\n",
       "    <tr>\n",
       "      <th>4</th>\n",
       "      <td>Russia</td>\n",
       "      <td>9205431</td>\n",
       "      <td>260319</td>\n",
       "      <td>9170898</td>\n",
       "      <td>259107</td>\n",
       "      <td>34533</td>\n",
       "      <td>1212</td>\n",
       "      <td>2.83</td>\n",
       "      <td>Europe</td>\n",
       "    </tr>\n",
       "  </tbody>\n",
       "</table>\n",
       "</div>"
      ],
      "text/plain": [
       "   Country/Region     Cases  Deaths    PCases  PDeaths  Cases (+)  Deaths (+)  \\\n",
       "0              US  47888171  772344  47730591   771118     157580        1226   \n",
       "1           India  34526480  466147  34518901   465911       7579         236   \n",
       "2          Brazil  22019870  612782  22017276   612659       2594         123   \n",
       "3  United Kingdom   9942859  144414   9897206   144369      45653          45   \n",
       "4          Russia   9205431  260319   9170898   259107      34533        1212   \n",
       "\n",
       "   Fatality Rate      Continent  \n",
       "0           1.61  North America  \n",
       "1           1.35           Asia  \n",
       "2           2.78  South America  \n",
       "3           1.45         Europe  \n",
       "4           2.83         Europe  "
      ]
     },
     "execution_count": 13,
     "metadata": {},
     "output_type": "execute_result"
    }
   ],
   "source": [
    "#hide\n",
    "for c in 'Cases, Deaths'.split(', '):\n",
    "    df_table[f'{c} (+)'] = (df_table[c] - df_table[f'P{c}']).clip(0)\n",
    "    #Clip ça veut dire, les chiffres negatif sont interdit\n",
    "df_table['Fatality Rate'] = (100* df_table['Deaths']/ df_table['Cases']).round(2)\n",
    "df_table['Continent'] = df_table['Country/Region'].map(mapping['map.continent'])\n",
    "df_table.head(5)"
   ]
  },
  {
   "cell_type": "code",
   "execution_count": 14,
   "id": "aboriginal-bulgaria",
   "metadata": {
    "execution": {
     "iopub.execute_input": "2021-11-24T00:25:11.941747Z",
     "iopub.status.busy": "2021-11-24T00:25:11.941093Z",
     "iopub.status.idle": "2021-11-24T00:25:11.944171Z",
     "shell.execute_reply": "2021-11-24T00:25:11.943647Z"
    },
    "papermill": {
     "duration": 0.047618,
     "end_time": "2021-11-24T00:25:11.944306",
     "exception": false,
     "start_time": "2021-11-24T00:25:11.896688",
     "status": "completed"
    },
    "tags": []
   },
   "outputs": [],
   "source": [
    "#hide\n",
    "#delete problematic countries from table\n",
    "df_table = df_table[~df_table['Country/Region'].isin(['Cape Verde', 'Cruise Ship', 'Kosovo'])]"
   ]
  },
  {
   "cell_type": "code",
   "execution_count": 15,
   "id": "fantastic-effect",
   "metadata": {
    "execution": {
     "iopub.execute_input": "2021-11-24T00:25:12.038353Z",
     "iopub.status.busy": "2021-11-24T00:25:12.037668Z",
     "iopub.status.idle": "2021-11-24T00:25:12.060236Z",
     "shell.execute_reply": "2021-11-24T00:25:12.059392Z"
    },
    "papermill": {
     "duration": 0.077485,
     "end_time": "2021-11-24T00:25:12.060379",
     "exception": false,
     "start_time": "2021-11-24T00:25:11.982894",
     "status": "completed"
    },
    "tags": []
   },
   "outputs": [
    {
     "data": {
      "text/html": [
       "<div>\n",
       "<style scoped>\n",
       "    .dataframe tbody tr th:only-of-type {\n",
       "        vertical-align: middle;\n",
       "    }\n",
       "\n",
       "    .dataframe tbody tr th {\n",
       "        vertical-align: top;\n",
       "    }\n",
       "\n",
       "    .dataframe thead th {\n",
       "        text-align: right;\n",
       "    }\n",
       "</style>\n",
       "<table border=\"1\" class=\"dataframe\">\n",
       "  <thead>\n",
       "    <tr style=\"text-align: right;\">\n",
       "      <th></th>\n",
       "      <th>Country/Region</th>\n",
       "      <th>Cases</th>\n",
       "      <th>Deaths</th>\n",
       "      <th>PCases</th>\n",
       "      <th>PDeaths</th>\n",
       "      <th>Cases (+)</th>\n",
       "      <th>Deaths (+)</th>\n",
       "      <th>Fatality Rate</th>\n",
       "      <th>Continent</th>\n",
       "    </tr>\n",
       "  </thead>\n",
       "  <tbody>\n",
       "    <tr>\n",
       "      <th>0</th>\n",
       "      <td>US</td>\n",
       "      <td>47888171</td>\n",
       "      <td>772344</td>\n",
       "      <td>47730591</td>\n",
       "      <td>771118</td>\n",
       "      <td>157580</td>\n",
       "      <td>1226</td>\n",
       "      <td>1.6</td>\n",
       "      <td>North America</td>\n",
       "    </tr>\n",
       "    <tr>\n",
       "      <th>1</th>\n",
       "      <td>India</td>\n",
       "      <td>34526480</td>\n",
       "      <td>466147</td>\n",
       "      <td>34518901</td>\n",
       "      <td>465911</td>\n",
       "      <td>7579</td>\n",
       "      <td>236</td>\n",
       "      <td>1.4</td>\n",
       "      <td>Asia</td>\n",
       "    </tr>\n",
       "    <tr>\n",
       "      <th>2</th>\n",
       "      <td>Brazil</td>\n",
       "      <td>22019870</td>\n",
       "      <td>612782</td>\n",
       "      <td>22017276</td>\n",
       "      <td>612659</td>\n",
       "      <td>2594</td>\n",
       "      <td>123</td>\n",
       "      <td>2.8</td>\n",
       "      <td>South America</td>\n",
       "    </tr>\n",
       "    <tr>\n",
       "      <th>3</th>\n",
       "      <td>United Kingdom</td>\n",
       "      <td>9942859</td>\n",
       "      <td>144414</td>\n",
       "      <td>9897206</td>\n",
       "      <td>144369</td>\n",
       "      <td>45653</td>\n",
       "      <td>45</td>\n",
       "      <td>1.5</td>\n",
       "      <td>Europe</td>\n",
       "    </tr>\n",
       "    <tr>\n",
       "      <th>4</th>\n",
       "      <td>Russia</td>\n",
       "      <td>9205431</td>\n",
       "      <td>260319</td>\n",
       "      <td>9170898</td>\n",
       "      <td>259107</td>\n",
       "      <td>34533</td>\n",
       "      <td>1212</td>\n",
       "      <td>2.8</td>\n",
       "      <td>Europe</td>\n",
       "    </tr>\n",
       "  </tbody>\n",
       "</table>\n",
       "</div>"
      ],
      "text/plain": [
       "   Country/Region     Cases  Deaths    PCases  PDeaths  Cases (+)  Deaths (+)  \\\n",
       "0              US  47888171  772344  47730591   771118     157580        1226   \n",
       "1           India  34526480  466147  34518901   465911       7579         236   \n",
       "2          Brazil  22019870  612782  22017276   612659       2594         123   \n",
       "3  United Kingdom   9942859  144414   9897206   144369      45653          45   \n",
       "4          Russia   9205431  260319   9170898   259107      34533        1212   \n",
       "\n",
       "   Fatality Rate      Continent  \n",
       "0            1.6  North America  \n",
       "1            1.4           Asia  \n",
       "2            2.8  South America  \n",
       "3            1.5         Europe  \n",
       "4            2.8         Europe  "
      ]
     },
     "execution_count": 15,
     "metadata": {},
     "output_type": "execute_result"
    }
   ],
   "source": [
    "#hide\n",
    "df_table = (pd.DataFrame(dict(Cases=dfc_cases, Deaths=dfc_deaths, PCases=dfp_cases, PDeaths=dfp_deaths))\n",
    "             .sort_values(by=['Cases', 'Deaths'], ascending=[False, False])\n",
    "             .reset_index())\n",
    "df_table.rename(columns={'index': 'Country/Region'}, inplace=True)\n",
    "for c in 'Cases, Deaths'.split(', '):\n",
    "    df_table[f'{c} (+)'] = (df_table[c] - df_table[f'P{c}']).clip(0)  # DATA BUG\n",
    "df_table['Fatality Rate'] = (100 * df_table['Deaths'] / df_table['Cases']).round(1)\n",
    "df_table['Continent'] = df_table['Country/Region'].map(mapping['map.continent'])\n",
    "df_table.head(5)"
   ]
  },
  {
   "cell_type": "code",
   "execution_count": 16,
   "id": "fewer-occasion",
   "metadata": {
    "execution": {
     "iopub.execute_input": "2021-11-24T00:25:12.145003Z",
     "iopub.status.busy": "2021-11-24T00:25:12.144347Z",
     "iopub.status.idle": "2021-11-24T00:25:12.146992Z",
     "shell.execute_reply": "2021-11-24T00:25:12.146415Z"
    },
    "papermill": {
     "duration": 0.047565,
     "end_time": "2021-11-24T00:25:12.147124",
     "exception": false,
     "start_time": "2021-11-24T00:25:12.099559",
     "status": "completed"
    },
    "tags": []
   },
   "outputs": [],
   "source": [
    "#hide\n",
    "#delete problematic countries from table\n",
    "df_table = df_table[~df_table['Country/Region'].isin(['Cape Verde', 'Cruise Ship', 'Kosovo'])]"
   ]
  },
  {
   "cell_type": "code",
   "execution_count": 17,
   "id": "related-center",
   "metadata": {
    "execution": {
     "iopub.execute_input": "2021-11-24T00:25:12.250350Z",
     "iopub.status.busy": "2021-11-24T00:25:12.249677Z",
     "iopub.status.idle": "2021-11-24T00:25:12.261663Z",
     "shell.execute_reply": "2021-11-24T00:25:12.260021Z"
    },
    "papermill": {
     "duration": 0.072908,
     "end_time": "2021-11-24T00:25:12.261807",
     "exception": false,
     "start_time": "2021-11-24T00:25:12.188899",
     "status": "completed"
    },
    "tags": []
   },
   "outputs": [],
   "source": [
    "#hide\n",
    "metrics = [df_table.columns[index] for index in [1,2,5,6]]\n",
    "# s_china = df_table[df_table['Country/Region'].eq('China')][metrics].sum().add_prefix('China ')\n",
    "s_us = df_table[df_table['Country/Region'].eq('US')][metrics].sum().add_prefix('US ')\n",
    "s_eu = df_table[df_table['Continent'].eq('Europe')][metrics].sum().add_prefix('EU ')\n",
    "s_ind = df_table[df_table['Country/Region'].eq('India')][metrics].sum().add_prefix('India ')\n",
    "summary = {'updated': pd.to_datetime(dt_today), 'since': pd.to_datetime(dt_yday)}\n",
    "summary = {'updated': pd.to_datetime(dt_today), 'since': pd.to_datetime(dt_yday)}\n",
    "summary = {**summary, **df_table[metrics].sum(), **s_ind, **s_us, **s_eu}"
   ]
  },
  {
   "cell_type": "code",
   "execution_count": 18,
   "id": "engaging-syndrome",
   "metadata": {
    "execution": {
     "iopub.execute_input": "2021-11-24T00:25:12.347853Z",
     "iopub.status.busy": "2021-11-24T00:25:12.345049Z",
     "iopub.status.idle": "2021-11-24T00:25:12.360795Z",
     "shell.execute_reply": "2021-11-24T00:25:12.360258Z"
    },
    "papermill": {
     "duration": 0.059244,
     "end_time": "2021-11-24T00:25:12.360936",
     "exception": false,
     "start_time": "2021-11-24T00:25:12.301692",
     "status": "completed"
    },
    "tags": []
   },
   "outputs": [],
   "source": [
    "#hide\n",
    "dft_ct_new_cases = dft_cases.groupby(COL_REGION)[dt_cols].sum().diff(axis=1).fillna(0).astype(int)"
   ]
  },
  {
   "cell_type": "code",
   "execution_count": 19,
   "id": "neutral-assignment",
   "metadata": {
    "execution": {
     "iopub.execute_input": "2021-11-24T00:25:12.444742Z",
     "iopub.status.busy": "2021-11-24T00:25:12.444071Z",
     "iopub.status.idle": "2021-11-24T00:25:12.448448Z",
     "shell.execute_reply": "2021-11-24T00:25:12.447908Z"
    },
    "papermill": {
     "duration": 0.049134,
     "end_time": "2021-11-24T00:25:12.448589",
     "exception": false,
     "start_time": "2021-11-24T00:25:12.399455",
     "status": "completed"
    },
    "tags": []
   },
   "outputs": [],
   "source": [
    "#hide\n",
    "everydaycases = dft_ct_new_cases.cumsum(axis=1)"
   ]
  },
  {
   "cell_type": "code",
   "execution_count": 20,
   "id": "parliamentary-calgary",
   "metadata": {
    "execution": {
     "iopub.execute_input": "2021-11-24T00:25:12.534336Z",
     "iopub.status.busy": "2021-11-24T00:25:12.533682Z",
     "iopub.status.idle": "2021-11-24T00:25:13.277270Z",
     "shell.execute_reply": "2021-11-24T00:25:13.276688Z"
    },
    "papermill": {
     "duration": 0.789312,
     "end_time": "2021-11-24T00:25:13.277423",
     "exception": false,
     "start_time": "2021-11-24T00:25:12.488111",
     "status": "completed"
    },
    "tags": []
   },
   "outputs": [],
   "source": [
    "#hide\n",
    "import pandas as pd\n",
    "import matplotlib.pyplot as plt\n",
    "import matplotlib.ticker as ticker\n",
    "import matplotlib.animation as animation\n",
    "from IPython.display import HTML"
   ]
  },
  {
   "cell_type": "code",
   "execution_count": 21,
   "id": "lasting-extraction",
   "metadata": {
    "execution": {
     "iopub.execute_input": "2021-11-24T00:25:13.362194Z",
     "iopub.status.busy": "2021-11-24T00:25:13.361532Z",
     "iopub.status.idle": "2021-11-24T00:25:13.368095Z",
     "shell.execute_reply": "2021-11-24T00:25:13.368599Z"
    },
    "papermill": {
     "duration": 0.052445,
     "end_time": "2021-11-24T00:25:13.369637",
     "exception": false,
     "start_time": "2021-11-24T00:25:13.317192",
     "status": "completed"
    },
    "tags": []
   },
   "outputs": [],
   "source": [
    "#hide\n",
    "t = everydaycases.stack()"
   ]
  },
  {
   "cell_type": "code",
   "execution_count": 22,
   "id": "premier-sleeve",
   "metadata": {
    "execution": {
     "iopub.execute_input": "2021-11-24T00:25:13.452960Z",
     "iopub.status.busy": "2021-11-24T00:25:13.452309Z",
     "iopub.status.idle": "2021-11-24T00:25:13.462705Z",
     "shell.execute_reply": "2021-11-24T00:25:13.462166Z"
    },
    "papermill": {
     "duration": 0.054085,
     "end_time": "2021-11-24T00:25:13.462857",
     "exception": false,
     "start_time": "2021-11-24T00:25:13.408772",
     "status": "completed"
    },
    "tags": []
   },
   "outputs": [],
   "source": [
    "#hide\n",
    "g = t.reset_index(['Country/Region'])"
   ]
  },
  {
   "cell_type": "code",
   "execution_count": 23,
   "id": "distributed-pittsburgh",
   "metadata": {
    "execution": {
     "iopub.execute_input": "2021-11-24T00:25:13.547155Z",
     "iopub.status.busy": "2021-11-24T00:25:13.546437Z",
     "iopub.status.idle": "2021-11-24T00:25:13.550492Z",
     "shell.execute_reply": "2021-11-24T00:25:13.549853Z"
    },
    "papermill": {
     "duration": 0.04744,
     "end_time": "2021-11-24T00:25:13.550633",
     "exception": false,
     "start_time": "2021-11-24T00:25:13.503193",
     "status": "completed"
    },
    "tags": []
   },
   "outputs": [],
   "source": [
    "#hide\n",
    "g.index.name = 'date'"
   ]
  },
  {
   "cell_type": "code",
   "execution_count": 24,
   "id": "naked-donor",
   "metadata": {
    "execution": {
     "iopub.execute_input": "2021-11-24T00:25:13.632247Z",
     "iopub.status.busy": "2021-11-24T00:25:13.631209Z",
     "iopub.status.idle": "2021-11-24T00:25:13.634677Z",
     "shell.execute_reply": "2021-11-24T00:25:13.634021Z"
    },
    "papermill": {
     "duration": 0.046043,
     "end_time": "2021-11-24T00:25:13.634812",
     "exception": false,
     "start_time": "2021-11-24T00:25:13.588769",
     "status": "completed"
    },
    "tags": []
   },
   "outputs": [],
   "source": [
    "# #hide\n",
    "# g = g.reset_index(['date'])"
   ]
  },
  {
   "cell_type": "code",
   "execution_count": 25,
   "id": "incomplete-mustang",
   "metadata": {
    "execution": {
     "iopub.execute_input": "2021-11-24T00:25:13.718214Z",
     "iopub.status.busy": "2021-11-24T00:25:13.717553Z",
     "iopub.status.idle": "2021-11-24T00:25:13.720260Z",
     "shell.execute_reply": "2021-11-24T00:25:13.719718Z"
    },
    "papermill": {
     "duration": 0.046189,
     "end_time": "2021-11-24T00:25:13.720394",
     "exception": false,
     "start_time": "2021-11-24T00:25:13.674205",
     "status": "completed"
    },
    "tags": []
   },
   "outputs": [],
   "source": [
    "#hide\n",
    "# g.head()"
   ]
  },
  {
   "cell_type": "code",
   "execution_count": 26,
   "id": "specific-kruger",
   "metadata": {
    "execution": {
     "iopub.execute_input": "2021-11-24T00:25:13.805461Z",
     "iopub.status.busy": "2021-11-24T00:25:13.804795Z",
     "iopub.status.idle": "2021-11-24T00:25:13.808668Z",
     "shell.execute_reply": "2021-11-24T00:25:13.809178Z"
    },
    "papermill": {
     "duration": 0.046197,
     "end_time": "2021-11-24T00:25:13.809338",
     "exception": false,
     "start_time": "2021-11-24T00:25:13.763141",
     "status": "completed"
    },
    "tags": []
   },
   "outputs": [],
   "source": [
    "#hide\n",
    "# g.columns = ['date','country','cases']"
   ]
  },
  {
   "cell_type": "code",
   "execution_count": 27,
   "id": "tender-conversion",
   "metadata": {
    "execution": {
     "iopub.execute_input": "2021-11-24T00:25:13.894365Z",
     "iopub.status.busy": "2021-11-24T00:25:13.893691Z",
     "iopub.status.idle": "2021-11-24T00:25:13.896150Z",
     "shell.execute_reply": "2021-11-24T00:25:13.895499Z"
    },
    "papermill": {
     "duration": 0.047673,
     "end_time": "2021-11-24T00:25:13.896284",
     "exception": false,
     "start_time": "2021-11-24T00:25:13.848611",
     "status": "completed"
    },
    "tags": []
   },
   "outputs": [],
   "source": [
    "#hide\n",
    "# g['continent'] = g.country"
   ]
  },
  {
   "cell_type": "code",
   "execution_count": 28,
   "id": "substantial-wilderness",
   "metadata": {
    "execution": {
     "iopub.execute_input": "2021-11-24T00:25:13.977701Z",
     "iopub.status.busy": "2021-11-24T00:25:13.977036Z",
     "iopub.status.idle": "2021-11-24T00:25:13.979624Z",
     "shell.execute_reply": "2021-11-24T00:25:13.979060Z"
    },
    "papermill": {
     "duration": 0.044857,
     "end_time": "2021-11-24T00:25:13.979757",
     "exception": false,
     "start_time": "2021-11-24T00:25:13.934900",
     "status": "completed"
    },
    "tags": []
   },
   "outputs": [],
   "source": [
    "#hide\n",
    "# cols = list(g.columns.values)"
   ]
  },
  {
   "cell_type": "code",
   "execution_count": 29,
   "id": "solved-farming",
   "metadata": {
    "execution": {
     "iopub.execute_input": "2021-11-24T00:25:14.065019Z",
     "iopub.status.busy": "2021-11-24T00:25:14.063832Z",
     "iopub.status.idle": "2021-11-24T00:25:14.068864Z",
     "shell.execute_reply": "2021-11-24T00:25:14.068328Z"
    },
    "papermill": {
     "duration": 0.048923,
     "end_time": "2021-11-24T00:25:14.069000",
     "exception": false,
     "start_time": "2021-11-24T00:25:14.020077",
     "status": "completed"
    },
    "tags": []
   },
   "outputs": [],
   "source": [
    "#hide\n",
    "# cols.insert(0, cols.pop())"
   ]
  },
  {
   "cell_type": "code",
   "execution_count": 30,
   "id": "executed-adoption",
   "metadata": {
    "execution": {
     "iopub.execute_input": "2021-11-24T00:25:14.150906Z",
     "iopub.status.busy": "2021-11-24T00:25:14.150184Z",
     "iopub.status.idle": "2021-11-24T00:25:14.152335Z",
     "shell.execute_reply": "2021-11-24T00:25:14.151625Z"
    },
    "papermill": {
     "duration": 0.045531,
     "end_time": "2021-11-24T00:25:14.152470",
     "exception": false,
     "start_time": "2021-11-24T00:25:14.106939",
     "status": "completed"
    },
    "tags": []
   },
   "outputs": [],
   "source": [
    "#hide\n",
    "# g = g[cols]"
   ]
  },
  {
   "cell_type": "code",
   "execution_count": 31,
   "id": "subject-dublin",
   "metadata": {
    "execution": {
     "iopub.execute_input": "2021-11-24T00:25:14.235670Z",
     "iopub.status.busy": "2021-11-24T00:25:14.235012Z",
     "iopub.status.idle": "2021-11-24T00:25:14.237335Z",
     "shell.execute_reply": "2021-11-24T00:25:14.237868Z"
    },
    "papermill": {
     "duration": 0.046608,
     "end_time": "2021-11-24T00:25:14.238017",
     "exception": false,
     "start_time": "2021-11-24T00:25:14.191409",
     "status": "completed"
    },
    "tags": []
   },
   "outputs": [],
   "source": [
    "#hide\n",
    "# g['continent'] = g['continent'].map(mapping['map.continent'])"
   ]
  },
  {
   "cell_type": "code",
   "execution_count": 32,
   "id": "freelance-scout",
   "metadata": {
    "execution": {
     "iopub.execute_input": "2021-11-24T00:25:14.320891Z",
     "iopub.status.busy": "2021-11-24T00:25:14.320229Z",
     "iopub.status.idle": "2021-11-24T00:25:14.324059Z",
     "shell.execute_reply": "2021-11-24T00:25:14.324572Z"
    },
    "papermill": {
     "duration": 0.047335,
     "end_time": "2021-11-24T00:25:14.324728",
     "exception": false,
     "start_time": "2021-11-24T00:25:14.277393",
     "status": "completed"
    },
    "tags": []
   },
   "outputs": [],
   "source": [
    "#hide\n",
    "# g.head()"
   ]
  },
  {
   "cell_type": "code",
   "execution_count": 33,
   "id": "limited-engine",
   "metadata": {
    "execution": {
     "iopub.execute_input": "2021-11-24T00:25:14.407309Z",
     "iopub.status.busy": "2021-11-24T00:25:14.406576Z",
     "iopub.status.idle": "2021-11-24T00:25:14.409012Z",
     "shell.execute_reply": "2021-11-24T00:25:14.408309Z"
    },
    "papermill": {
     "duration": 0.046321,
     "end_time": "2021-11-24T00:25:14.409145",
     "exception": false,
     "start_time": "2021-11-24T00:25:14.362824",
     "status": "completed"
    },
    "tags": []
   },
   "outputs": [],
   "source": [
    "# hide\n",
    "# g['date'] = g['date'].astype('datetime64[ns]')"
   ]
  },
  {
   "cell_type": "code",
   "execution_count": 34,
   "id": "sophisticated-supervisor",
   "metadata": {
    "execution": {
     "iopub.execute_input": "2021-11-24T00:25:14.491788Z",
     "iopub.status.busy": "2021-11-24T00:25:14.491109Z",
     "iopub.status.idle": "2021-11-24T00:25:14.493600Z",
     "shell.execute_reply": "2021-11-24T00:25:14.494131Z"
    },
    "papermill": {
     "duration": 0.046557,
     "end_time": "2021-11-24T00:25:14.494291",
     "exception": false,
     "start_time": "2021-11-24T00:25:14.447734",
     "status": "completed"
    },
    "tags": []
   },
   "outputs": [],
   "source": [
    "#hide\n",
    "# g['date'] = g.date.dt.dayofyear"
   ]
  },
  {
   "cell_type": "code",
   "execution_count": 35,
   "id": "inside-dubai",
   "metadata": {
    "execution": {
     "iopub.execute_input": "2021-11-24T00:25:14.576934Z",
     "iopub.status.busy": "2021-11-24T00:25:14.576268Z",
     "iopub.status.idle": "2021-11-24T00:25:14.578508Z",
     "shell.execute_reply": "2021-11-24T00:25:14.579195Z"
    },
    "papermill": {
     "duration": 0.045661,
     "end_time": "2021-11-24T00:25:14.579453",
     "exception": false,
     "start_time": "2021-11-24T00:25:14.533792",
     "status": "completed"
    },
    "tags": []
   },
   "outputs": [],
   "source": [
    "#hide\n",
    "# g = g.rename(columns= {'continent':'group','country':'name','cases':'value'})"
   ]
  },
  {
   "cell_type": "code",
   "execution_count": 36,
   "id": "fleet-motorcycle",
   "metadata": {
    "execution": {
     "iopub.execute_input": "2021-11-24T00:25:14.661642Z",
     "iopub.status.busy": "2021-11-24T00:25:14.660988Z",
     "iopub.status.idle": "2021-11-24T00:25:14.663210Z",
     "shell.execute_reply": "2021-11-24T00:25:14.663748Z"
    },
    "papermill": {
     "duration": 0.04634,
     "end_time": "2021-11-24T00:25:14.663896",
     "exception": false,
     "start_time": "2021-11-24T00:25:14.617556",
     "status": "completed"
    },
    "tags": []
   },
   "outputs": [],
   "source": [
    "#hide\n",
    "# cols = ['name','group','day','value']"
   ]
  },
  {
   "cell_type": "code",
   "execution_count": 37,
   "id": "continued-sleeping",
   "metadata": {
    "execution": {
     "iopub.execute_input": "2021-11-24T00:25:14.747165Z",
     "iopub.status.busy": "2021-11-24T00:25:14.746457Z",
     "iopub.status.idle": "2021-11-24T00:25:14.750344Z",
     "shell.execute_reply": "2021-11-24T00:25:14.749666Z"
    },
    "papermill": {
     "duration": 0.047578,
     "end_time": "2021-11-24T00:25:14.750475",
     "exception": false,
     "start_time": "2021-11-24T00:25:14.702897",
     "status": "completed"
    },
    "tags": []
   },
   "outputs": [],
   "source": [
    "#hide\n",
    "# g.rename(columns= {'date':'day'},inplace = True)"
   ]
  },
  {
   "cell_type": "code",
   "execution_count": 38,
   "id": "major-fight",
   "metadata": {
    "execution": {
     "iopub.execute_input": "2021-11-24T00:25:14.834095Z",
     "iopub.status.busy": "2021-11-24T00:25:14.833379Z",
     "iopub.status.idle": "2021-11-24T00:25:14.837492Z",
     "shell.execute_reply": "2021-11-24T00:25:14.836927Z"
    },
    "papermill": {
     "duration": 0.047779,
     "end_time": "2021-11-24T00:25:14.837621",
     "exception": false,
     "start_time": "2021-11-24T00:25:14.789842",
     "status": "completed"
    },
    "tags": []
   },
   "outputs": [],
   "source": [
    "#hide\n",
    "# g = g[cols]"
   ]
  },
  {
   "cell_type": "code",
   "execution_count": 39,
   "id": "structured-mobile",
   "metadata": {
    "execution": {
     "iopub.execute_input": "2021-11-24T00:25:14.921520Z",
     "iopub.status.busy": "2021-11-24T00:25:14.920861Z",
     "iopub.status.idle": "2021-11-24T00:25:14.923778Z",
     "shell.execute_reply": "2021-11-24T00:25:14.923244Z"
    },
    "papermill": {
     "duration": 0.046113,
     "end_time": "2021-11-24T00:25:14.923912",
     "exception": false,
     "start_time": "2021-11-24T00:25:14.877799",
     "status": "completed"
    },
    "tags": []
   },
   "outputs": [],
   "source": [
    "# #hide\n",
    "# g = g[g.group.notna()]"
   ]
  },
  {
   "cell_type": "code",
   "execution_count": 40,
   "id": "determined-closing",
   "metadata": {
    "execution": {
     "iopub.execute_input": "2021-11-24T00:25:15.008849Z",
     "iopub.status.busy": "2021-11-24T00:25:15.007899Z",
     "iopub.status.idle": "2021-11-24T00:25:15.011030Z",
     "shell.execute_reply": "2021-11-24T00:25:15.011973Z"
    },
    "papermill": {
     "duration": 0.050219,
     "end_time": "2021-11-24T00:25:15.012159",
     "exception": false,
     "start_time": "2021-11-24T00:25:14.961940",
     "status": "completed"
    },
    "tags": []
   },
   "outputs": [],
   "source": [
    "# #hide\n",
    "# colors = dict(zip(\n",
    "#     [\"Oceania\", \"Europe\", \"Asia\", \"South America\", \"Middle East\", \"North America\", \"Africa\"],\n",
    "#     [\"#adb0ff\", \"#ffb3ff\", \"#90d595\", \"#e48381\", \"#aafbff\", \"#f7bb5f\", \"#eafb50\"]\n",
    "# ))\n",
    "# group_lk = g.set_index('name')['group'].to_dict()"
   ]
  },
  {
   "cell_type": "code",
   "execution_count": null,
   "id": "gross-drinking",
   "metadata": {
    "papermill": {
     "duration": 0.049829,
     "end_time": "2021-11-24T00:25:15.104727",
     "exception": false,
     "start_time": "2021-11-24T00:25:15.054898",
     "status": "completed"
    },
    "tags": []
   },
   "outputs": [],
   "source": []
  },
  {
   "cell_type": "code",
   "execution_count": 41,
   "id": "subject-macintosh",
   "metadata": {
    "execution": {
     "iopub.execute_input": "2021-11-24T00:25:15.200262Z",
     "iopub.status.busy": "2021-11-24T00:25:15.199574Z",
     "iopub.status.idle": "2021-11-24T00:25:15.202333Z",
     "shell.execute_reply": "2021-11-24T00:25:15.201533Z"
    },
    "papermill": {
     "duration": 0.054875,
     "end_time": "2021-11-24T00:25:15.202470",
     "exception": false,
     "start_time": "2021-11-24T00:25:15.147595",
     "status": "completed"
    },
    "tags": []
   },
   "outputs": [],
   "source": [
    "# #hide\n",
    "# fig, ax = plt.subplots(figsize=(15, 8))\n",
    "\n",
    "# def draw_barchart(current_day):\n",
    "#     dff = g[g['day'].eq(current_day)].sort_values(by='value', ascending=True).tail(10)\n",
    "#     ax.clear()\n",
    "#     ax.barh(dff['name'], dff['value'], color=[colors[group_lk[x]] for x in dff['name']])\n",
    "#     dx = dff['value'].max() / 200\n",
    "    \n",
    "#     for i, (value, name) in enumerate(zip(dff['value'], dff['name'])):\n",
    "#         ax.text(value-dx, i,     name,           size=14, weight=600, ha='right', va='bottom')\n",
    "#         ax.text(value-dx, i-.25, group_lk[name], size=10, color='#444444', ha='right', va='baseline')\n",
    "#         ax.text(value+dx, i,     f'{value:,.0f}',  size=14, ha='left',  va='center')\n",
    "#     ax.text(1, 0.4, current_day, transform=ax.transAxes, color='#777777', size=46, ha='right', weight=800)\n",
    "#     ax.text(0, 1.06, 'Population (thousands)', transform=ax.transAxes, size=12, color='#777777')\n",
    "#     ax.xaxis.set_major_formatter(ticker.StrMethodFormatter('{x:,.0f}'))\n",
    "#     ax.xaxis.set_ticks_position('top')\n",
    "#     ax.tick_params(axis='x', colors='#777777', labelsize=12)\n",
    "#     ax.set_yticks([])\n",
    "#     ax.margins(0, 0.01)\n",
    "#     ax.grid(which='major', axis='x', linestyle='-')\n",
    "#     ax.set_axisbelow(True)\n",
    "    \n",
    "#     ax.text(0, 1.15, 'Coronavirus',\n",
    "#             transform=ax.transAxes, size=24, weight=600, ha='left', va='top')\n",
    "# #     ax.text(1, 0, 'by @pratapvardhan; credit @jburnmurdoch', transform=ax.transAxes, color='#777777', ha='right',\n",
    "# #             bbox=dict(facecolor='white', alpha=0.8, edgecolor='white'))\n",
    "#     plt.box(False)"
   ]
  },
  {
   "cell_type": "code",
   "execution_count": 42,
   "id": "sexual-wages",
   "metadata": {
    "execution": {
     "iopub.execute_input": "2021-11-24T00:25:15.286715Z",
     "iopub.status.busy": "2021-11-24T00:25:15.286041Z",
     "iopub.status.idle": "2021-11-24T00:25:15.288625Z",
     "shell.execute_reply": "2021-11-24T00:25:15.288074Z"
    },
    "papermill": {
     "duration": 0.045488,
     "end_time": "2021-11-24T00:25:15.288755",
     "exception": false,
     "start_time": "2021-11-24T00:25:15.243267",
     "status": "completed"
    },
    "tags": []
   },
   "outputs": [],
   "source": [
    "# #hide_input\n",
    "# fig, ax = plt.subplots(figsize=(15, 8))\n",
    "# animator = animation.FuncAnimation(fig, draw_barchart, frames=range(g.day.values.min(), g.day.values.max()))\n",
    "# HTML(animator.to_jshtml())\n",
    "# # or use animator.to_html5_video() or animator.save() "
   ]
  },
  {
   "cell_type": "code",
   "execution_count": null,
   "id": "australian-container",
   "metadata": {
    "papermill": {
     "duration": 0.038729,
     "end_time": "2021-11-24T00:25:15.368874",
     "exception": false,
     "start_time": "2021-11-24T00:25:15.330145",
     "status": "completed"
    },
    "tags": []
   },
   "outputs": [],
   "source": []
  },
  {
   "cell_type": "code",
   "execution_count": null,
   "id": "mediterranean-pontiac",
   "metadata": {
    "papermill": {
     "duration": 0.038173,
     "end_time": "2021-11-24T00:25:15.446566",
     "exception": false,
     "start_time": "2021-11-24T00:25:15.408393",
     "status": "completed"
    },
    "tags": []
   },
   "outputs": [],
   "source": []
  },
  {
   "cell_type": "code",
   "execution_count": null,
   "id": "aging-legislature",
   "metadata": {
    "papermill": {
     "duration": 0.039421,
     "end_time": "2021-11-24T00:25:15.524836",
     "exception": false,
     "start_time": "2021-11-24T00:25:15.485415",
     "status": "completed"
    },
    "tags": []
   },
   "outputs": [],
   "source": []
  }
 ],
 "metadata": {
  "kernelspec": {
   "display_name": "Python 3",
   "language": "python",
   "name": "python3"
  },
  "language_info": {
   "codemirror_mode": {
    "name": "ipython",
    "version": 3
   },
   "file_extension": ".py",
   "mimetype": "text/x-python",
   "name": "python",
   "nbconvert_exporter": "python",
   "pygments_lexer": "ipython3",
   "version": "3.6.15"
  },
  "papermill": {
   "duration": 7.675911,
   "end_time": "2021-11-24T00:25:15.871949",
   "environment_variables": {},
   "exception": null,
   "input_path": "2020-03-21-covid19exp.ipynb",
   "output_path": "2020-03-21-covid19exp.ipynb",
   "parameters": {},
   "start_time": "2021-11-24T00:25:08.196038",
   "version": "2.0.0"
  }
 },
 "nbformat": 4,
 "nbformat_minor": 5
}