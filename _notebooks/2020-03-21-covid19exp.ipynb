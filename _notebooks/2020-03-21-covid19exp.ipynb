{
 "cells": [
  {
   "cell_type": "markdown",
   "id": "muslim-click",
   "metadata": {
    "papermill": {
     "duration": 0.037594,
     "end_time": "2022-03-06T00:32:47.944865",
     "exception": false,
     "start_time": "2022-03-06T00:32:47.907271",
     "status": "completed"
    },
    "tags": []
   },
   "source": [
    "# COVID-19 Case Race\n",
    "> A race chart to see rising cases around the world\n",
    "\n",
    "- author: Hargun Oberoi\n",
    "- image: images/covid-overview.png\n",
    "- hide: false\n",
    "- badges: false"
   ]
  },
  {
   "cell_type": "code",
   "execution_count": 1,
   "id": "proof-material",
   "metadata": {
    "execution": {
     "iopub.execute_input": "2022-03-06T00:32:48.023055Z",
     "iopub.status.busy": "2022-03-06T00:32:48.022458Z",
     "iopub.status.idle": "2022-03-06T00:32:48.392506Z",
     "shell.execute_reply": "2022-03-06T00:32:48.391716Z"
    },
    "papermill": {
     "duration": 0.413507,
     "end_time": "2022-03-06T00:32:48.392664",
     "exception": false,
     "start_time": "2022-03-06T00:32:47.979157",
     "status": "completed"
    },
    "tags": []
   },
   "outputs": [],
   "source": [
    "#hide\n",
    "import numpy as np\n",
    "import pandas as pd\n",
    "from jinja2 import Template\n",
    "from IPython.display import HTML"
   ]
  },
  {
   "cell_type": "code",
   "execution_count": 2,
   "id": "developed-terminology",
   "metadata": {
    "execution": {
     "iopub.execute_input": "2022-03-06T00:32:48.465072Z",
     "iopub.status.busy": "2022-03-06T00:32:48.464444Z",
     "iopub.status.idle": "2022-03-06T00:32:48.468513Z",
     "shell.execute_reply": "2022-03-06T00:32:48.467983Z"
    },
    "papermill": {
     "duration": 0.042497,
     "end_time": "2022-03-06T00:32:48.468639",
     "exception": false,
     "start_time": "2022-03-06T00:32:48.426142",
     "status": "completed"
    },
    "tags": []
   },
   "outputs": [],
   "source": [
    "#hide\n",
    "\n",
    "# FETCH\n",
    "base_url = 'https://raw.githubusercontent.com/pratapvardhan/notebooks/master/covid19/'\n",
    "paths = {\n",
    "    'mapping': base_url + 'mapping_countries.csv',\n",
    "    'overview': base_url + 'overview.tpl'\n",
    "}"
   ]
  },
  {
   "cell_type": "code",
   "execution_count": 3,
   "id": "dynamic-saver",
   "metadata": {
    "execution": {
     "iopub.execute_input": "2022-03-06T00:32:48.545674Z",
     "iopub.status.busy": "2022-03-06T00:32:48.545049Z",
     "iopub.status.idle": "2022-03-06T00:32:48.547953Z",
     "shell.execute_reply": "2022-03-06T00:32:48.548420Z"
    },
    "papermill": {
     "duration": 0.046596,
     "end_time": "2022-03-06T00:32:48.548563",
     "exception": false,
     "start_time": "2022-03-06T00:32:48.501967",
     "status": "completed"
    },
    "tags": []
   },
   "outputs": [
    {
     "data": {
      "text/plain": [
       "'https://raw.githubusercontent.com/pratapvardhan/notebooks/master/covid19/mapping_countries.csv'"
      ]
     },
     "execution_count": 3,
     "metadata": {},
     "output_type": "execute_result"
    }
   ],
   "source": [
    "#hide\n",
    "paths['mapping']"
   ]
  },
  {
   "cell_type": "code",
   "execution_count": 4,
   "id": "urban-software",
   "metadata": {
    "execution": {
     "iopub.execute_input": "2022-03-06T00:32:48.625295Z",
     "iopub.status.busy": "2022-03-06T00:32:48.624252Z",
     "iopub.status.idle": "2022-03-06T00:32:48.628697Z",
     "shell.execute_reply": "2022-03-06T00:32:48.628185Z"
    },
    "papermill": {
     "duration": 0.046448,
     "end_time": "2022-03-06T00:32:48.628823",
     "exception": false,
     "start_time": "2022-03-06T00:32:48.582375",
     "status": "completed"
    },
    "tags": []
   },
   "outputs": [],
   "source": [
    "#hide\n",
    "def get_mappings(url):\n",
    "    df = pd.read_csv(url)\n",
    "    return {\n",
    "        'df': df,\n",
    "        'replace.country': dict(df.dropna(subset=['Name']).set_index('Country')['Name']),\n",
    "        'map.continent': dict(df.set_index('Name')['Continent'])\n",
    "    }"
   ]
  },
  {
   "cell_type": "code",
   "execution_count": 5,
   "id": "intimate-machinery",
   "metadata": {
    "execution": {
     "iopub.execute_input": "2022-03-06T00:32:48.703099Z",
     "iopub.status.busy": "2022-03-06T00:32:48.702491Z",
     "iopub.status.idle": "2022-03-06T00:32:48.750639Z",
     "shell.execute_reply": "2022-03-06T00:32:48.750118Z"
    },
    "papermill": {
     "duration": 0.088326,
     "end_time": "2022-03-06T00:32:48.750780",
     "exception": false,
     "start_time": "2022-03-06T00:32:48.662454",
     "status": "completed"
    },
    "tags": []
   },
   "outputs": [],
   "source": [
    "#hide\n",
    "mapping = get_mappings(paths['mapping'])"
   ]
  },
  {
   "cell_type": "code",
   "execution_count": 6,
   "id": "certified-tactics",
   "metadata": {
    "execution": {
     "iopub.execute_input": "2022-03-06T00:32:48.824657Z",
     "iopub.status.busy": "2022-03-06T00:32:48.824060Z",
     "iopub.status.idle": "2022-03-06T00:32:48.826994Z",
     "shell.execute_reply": "2022-03-06T00:32:48.827504Z"
    },
    "papermill": {
     "duration": 0.04353,
     "end_time": "2022-03-06T00:32:48.827650",
     "exception": false,
     "start_time": "2022-03-06T00:32:48.784120",
     "status": "completed"
    },
    "tags": []
   },
   "outputs": [],
   "source": [
    "#hide\n",
    "def get_template(path):\n",
    "    from urllib.parse import urlparse\n",
    "    if bool(urlparse(path).netloc):\n",
    "        from urllib.request import urlopen\n",
    "        return urlopen(path).read().decode('utf8')\n",
    "    return open(path).read()"
   ]
  },
  {
   "cell_type": "code",
   "execution_count": 7,
   "id": "realistic-blast",
   "metadata": {
    "execution": {
     "iopub.execute_input": "2022-03-06T00:32:48.899950Z",
     "iopub.status.busy": "2022-03-06T00:32:48.899352Z",
     "iopub.status.idle": "2022-03-06T00:32:48.901660Z",
     "shell.execute_reply": "2022-03-06T00:32:48.902143Z"
    },
    "papermill": {
     "duration": 0.041355,
     "end_time": "2022-03-06T00:32:48.902291",
     "exception": false,
     "start_time": "2022-03-06T00:32:48.860936",
     "status": "completed"
    },
    "tags": []
   },
   "outputs": [],
   "source": [
    "#hide\n",
    "def get_frame(name):\n",
    "    url = (\n",
    "        'https://raw.githubusercontent.com/CSSEGISandData/COVID-19/master/csse_covid_19_data/'\n",
    "        f'csse_covid_19_time_series/time_series_covid19_{name}_global.csv')\n",
    "    df = pd.read_csv(url)\n",
    "    # rename countries\n",
    "    df['Country/Region'] = df['Country/Region'].replace(mapping['replace.country'])\n",
    "    return df"
   ]
  },
  {
   "cell_type": "code",
   "execution_count": 8,
   "id": "affiliated-characterization",
   "metadata": {
    "execution": {
     "iopub.execute_input": "2022-03-06T00:32:48.976999Z",
     "iopub.status.busy": "2022-03-06T00:32:48.976383Z",
     "iopub.status.idle": "2022-03-06T00:32:48.978299Z",
     "shell.execute_reply": "2022-03-06T00:32:48.978737Z"
    },
    "papermill": {
     "duration": 0.042603,
     "end_time": "2022-03-06T00:32:48.978889",
     "exception": false,
     "start_time": "2022-03-06T00:32:48.936286",
     "status": "completed"
    },
    "tags": []
   },
   "outputs": [],
   "source": [
    "#hide\n",
    "def get_dates(df):\n",
    "    dt_cols = df.columns[~df.columns.isin(['Province/State', 'Country/Region', 'Lat', 'Long'])]\n",
    "    LAST_DATE_I = -1\n",
    "    # sometimes last column may be empty, then go backwards\n",
    "    for i in range(-1, -len(dt_cols), -1):\n",
    "        if not df[dt_cols[i]].fillna(0).eq(0).all():\n",
    "            LAST_DATE_I = i\n",
    "            break\n",
    "    return LAST_DATE_I, dt_cols"
   ]
  },
  {
   "cell_type": "code",
   "execution_count": 9,
   "id": "recent-optimization",
   "metadata": {
    "execution": {
     "iopub.execute_input": "2022-03-06T00:32:49.053801Z",
     "iopub.status.busy": "2022-03-06T00:32:49.053119Z",
     "iopub.status.idle": "2022-03-06T00:32:49.424398Z",
     "shell.execute_reply": "2022-03-06T00:32:49.422310Z"
    },
    "papermill": {
     "duration": 0.412186,
     "end_time": "2022-03-06T00:32:49.424693",
     "exception": false,
     "start_time": "2022-03-06T00:32:49.012507",
     "status": "completed"
    },
    "tags": []
   },
   "outputs": [],
   "source": [
    "#hide\n",
    "COL_REGION = 'Country/Region'\n",
    "# Confirmed, Recovered, Deaths\n",
    "df = get_frame('confirmed')\n",
    "# dft_: timeseries, dfc_: today country agg\n",
    "dft_cases = df\n",
    "dft_deaths = get_frame('deaths')\n",
    "dft_recovered = get_frame('recovered')\n",
    "LAST_DATE_I, dt_cols = get_dates(df)"
   ]
  },
  {
   "cell_type": "code",
   "execution_count": 10,
   "id": "absolute-copper",
   "metadata": {
    "execution": {
     "iopub.execute_input": "2022-03-06T00:32:49.500031Z",
     "iopub.status.busy": "2022-03-06T00:32:49.499420Z",
     "iopub.status.idle": "2022-03-06T00:32:49.501258Z",
     "shell.execute_reply": "2022-03-06T00:32:49.501732Z"
    },
    "papermill": {
     "duration": 0.042744,
     "end_time": "2022-03-06T00:32:49.501884",
     "exception": false,
     "start_time": "2022-03-06T00:32:49.459140",
     "status": "completed"
    },
    "tags": []
   },
   "outputs": [],
   "source": [
    "#hide\n",
    "LAST_DATE_I, dt_cols = get_dates(df)\n",
    "dt_today =dt_cols[LAST_DATE_I]\n",
    "# dt_5day = dt_cols[LAST_DATE_I - 5]\n",
    "dt_yday = dt_cols[LAST_DATE_I - 1]"
   ]
  },
  {
   "cell_type": "code",
   "execution_count": 11,
   "id": "restricted-sheriff",
   "metadata": {
    "execution": {
     "iopub.execute_input": "2022-03-06T00:32:49.574173Z",
     "iopub.status.busy": "2022-03-06T00:32:49.573570Z",
     "iopub.status.idle": "2022-03-06T00:32:49.582437Z",
     "shell.execute_reply": "2022-03-06T00:32:49.581956Z"
    },
    "papermill": {
     "duration": 0.047059,
     "end_time": "2022-03-06T00:32:49.582554",
     "exception": false,
     "start_time": "2022-03-06T00:32:49.535495",
     "status": "completed"
    },
    "tags": []
   },
   "outputs": [],
   "source": [
    "#hide\n",
    "dfc_cases = dft_cases.groupby(COL_REGION)[dt_today].sum()\n",
    "dfc_deaths = dft_deaths.groupby(COL_REGION)[dt_today].sum()\n",
    "# dfp_cases = dft_cases.groupby(COL_REGION)[dt_5day].sum()\n",
    "# dfp_deaths = dft_deaths.groupby(COL_REGION)[dt_5day].sum()\n",
    "dfp_cases = dft_cases.groupby(COL_REGION)[dt_yday].sum()\n",
    "dfp_deaths = dft_deaths.groupby(COL_REGION)[dt_yday].sum()"
   ]
  },
  {
   "cell_type": "code",
   "execution_count": 12,
   "id": "deluxe-hepatitis",
   "metadata": {
    "execution": {
     "iopub.execute_input": "2022-03-06T00:32:49.658440Z",
     "iopub.status.busy": "2022-03-06T00:32:49.657819Z",
     "iopub.status.idle": "2022-03-06T00:32:49.663339Z",
     "shell.execute_reply": "2022-03-06T00:32:49.662868Z"
    },
    "papermill": {
     "duration": 0.047741,
     "end_time": "2022-03-06T00:32:49.663477",
     "exception": false,
     "start_time": "2022-03-06T00:32:49.615736",
     "status": "completed"
    },
    "tags": []
   },
   "outputs": [],
   "source": [
    "#hide\n",
    "df_table = (pd.DataFrame(dict(Cases = dfc_cases, Deaths = dfc_deaths, PCases = dfp_cases, PDeaths = dfp_deaths))\n",
    "            .sort_values(by = ['Cases','Deaths'], ascending = [False, False])\n",
    "            .reset_index())"
   ]
  },
  {
   "cell_type": "code",
   "execution_count": 13,
   "id": "educational-chancellor",
   "metadata": {
    "execution": {
     "iopub.execute_input": "2022-03-06T00:32:49.749242Z",
     "iopub.status.busy": "2022-03-06T00:32:49.748640Z",
     "iopub.status.idle": "2022-03-06T00:32:49.757180Z",
     "shell.execute_reply": "2022-03-06T00:32:49.756707Z"
    },
    "papermill": {
     "duration": 0.062182,
     "end_time": "2022-03-06T00:32:49.757323",
     "exception": false,
     "start_time": "2022-03-06T00:32:49.695141",
     "status": "completed"
    },
    "tags": []
   },
   "outputs": [
    {
     "data": {
      "text/html": [
       "<div>\n",
       "<style scoped>\n",
       "    .dataframe tbody tr th:only-of-type {\n",
       "        vertical-align: middle;\n",
       "    }\n",
       "\n",
       "    .dataframe tbody tr th {\n",
       "        vertical-align: top;\n",
       "    }\n",
       "\n",
       "    .dataframe thead th {\n",
       "        text-align: right;\n",
       "    }\n",
       "</style>\n",
       "<table border=\"1\" class=\"dataframe\">\n",
       "  <thead>\n",
       "    <tr style=\"text-align: right;\">\n",
       "      <th></th>\n",
       "      <th>Country/Region</th>\n",
       "      <th>Cases</th>\n",
       "      <th>Deaths</th>\n",
       "      <th>PCases</th>\n",
       "      <th>PDeaths</th>\n",
       "      <th>Cases (+)</th>\n",
       "      <th>Deaths (+)</th>\n",
       "      <th>Fatality Rate</th>\n",
       "      <th>Continent</th>\n",
       "    </tr>\n",
       "  </thead>\n",
       "  <tbody>\n",
       "    <tr>\n",
       "      <th>0</th>\n",
       "      <td>US</td>\n",
       "      <td>79250509</td>\n",
       "      <td>958144</td>\n",
       "      <td>79196008</td>\n",
       "      <td>956261</td>\n",
       "      <td>54501</td>\n",
       "      <td>1883</td>\n",
       "      <td>1.21</td>\n",
       "      <td>North America</td>\n",
       "    </tr>\n",
       "    <tr>\n",
       "      <th>1</th>\n",
       "      <td>India</td>\n",
       "      <td>42957477</td>\n",
       "      <td>514878</td>\n",
       "      <td>42951556</td>\n",
       "      <td>514589</td>\n",
       "      <td>5921</td>\n",
       "      <td>289</td>\n",
       "      <td>1.20</td>\n",
       "      <td>Asia</td>\n",
       "    </tr>\n",
       "    <tr>\n",
       "      <th>2</th>\n",
       "      <td>Brazil</td>\n",
       "      <td>28978052</td>\n",
       "      <td>651522</td>\n",
       "      <td>28906672</td>\n",
       "      <td>650824</td>\n",
       "      <td>71380</td>\n",
       "      <td>698</td>\n",
       "      <td>2.25</td>\n",
       "      <td>South America</td>\n",
       "    </tr>\n",
       "    <tr>\n",
       "      <th>3</th>\n",
       "      <td>France</td>\n",
       "      <td>23137902</td>\n",
       "      <td>140144</td>\n",
       "      <td>23079453</td>\n",
       "      <td>139962</td>\n",
       "      <td>58449</td>\n",
       "      <td>182</td>\n",
       "      <td>0.61</td>\n",
       "      <td>Europe</td>\n",
       "    </tr>\n",
       "    <tr>\n",
       "      <th>4</th>\n",
       "      <td>United Kingdom</td>\n",
       "      <td>19256835</td>\n",
       "      <td>162582</td>\n",
       "      <td>19211944</td>\n",
       "      <td>162472</td>\n",
       "      <td>44891</td>\n",
       "      <td>110</td>\n",
       "      <td>0.84</td>\n",
       "      <td>Europe</td>\n",
       "    </tr>\n",
       "  </tbody>\n",
       "</table>\n",
       "</div>"
      ],
      "text/plain": [
       "   Country/Region     Cases  Deaths    PCases  PDeaths  Cases (+)  Deaths (+)  \\\n",
       "0              US  79250509  958144  79196008   956261      54501        1883   \n",
       "1           India  42957477  514878  42951556   514589       5921         289   \n",
       "2          Brazil  28978052  651522  28906672   650824      71380         698   \n",
       "3          France  23137902  140144  23079453   139962      58449         182   \n",
       "4  United Kingdom  19256835  162582  19211944   162472      44891         110   \n",
       "\n",
       "   Fatality Rate      Continent  \n",
       "0           1.21  North America  \n",
       "1           1.20           Asia  \n",
       "2           2.25  South America  \n",
       "3           0.61         Europe  \n",
       "4           0.84         Europe  "
      ]
     },
     "execution_count": 13,
     "metadata": {},
     "output_type": "execute_result"
    }
   ],
   "source": [
    "#hide\n",
    "for c in 'Cases, Deaths'.split(', '):\n",
    "    df_table[f'{c} (+)'] = (df_table[c] - df_table[f'P{c}']).clip(0)\n",
    "    #Clip ça veut dire, les chiffres negatif sont interdit\n",
    "df_table['Fatality Rate'] = (100* df_table['Deaths']/ df_table['Cases']).round(2)\n",
    "df_table['Continent'] = df_table['Country/Region'].map(mapping['map.continent'])\n",
    "df_table.head(5)"
   ]
  },
  {
   "cell_type": "code",
   "execution_count": 14,
   "id": "aboriginal-bulgaria",
   "metadata": {
    "execution": {
     "iopub.execute_input": "2022-03-06T00:32:49.831396Z",
     "iopub.status.busy": "2022-03-06T00:32:49.830839Z",
     "iopub.status.idle": "2022-03-06T00:32:49.836531Z",
     "shell.execute_reply": "2022-03-06T00:32:49.837030Z"
    },
    "papermill": {
     "duration": 0.045647,
     "end_time": "2022-03-06T00:32:49.837173",
     "exception": false,
     "start_time": "2022-03-06T00:32:49.791526",
     "status": "completed"
    },
    "tags": []
   },
   "outputs": [],
   "source": [
    "#hide\n",
    "#delete problematic countries from table\n",
    "df_table = df_table[~df_table['Country/Region'].isin(['Cape Verde', 'Cruise Ship', 'Kosovo'])]"
   ]
  },
  {
   "cell_type": "code",
   "execution_count": 15,
   "id": "fantastic-effect",
   "metadata": {
    "execution": {
     "iopub.execute_input": "2022-03-06T00:32:49.915090Z",
     "iopub.status.busy": "2022-03-06T00:32:49.914483Z",
     "iopub.status.idle": "2022-03-06T00:32:49.933914Z",
     "shell.execute_reply": "2022-03-06T00:32:49.933373Z"
    },
    "papermill": {
     "duration": 0.063754,
     "end_time": "2022-03-06T00:32:49.934044",
     "exception": false,
     "start_time": "2022-03-06T00:32:49.870290",
     "status": "completed"
    },
    "tags": []
   },
   "outputs": [
    {
     "data": {
      "text/html": [
       "<div>\n",
       "<style scoped>\n",
       "    .dataframe tbody tr th:only-of-type {\n",
       "        vertical-align: middle;\n",
       "    }\n",
       "\n",
       "    .dataframe tbody tr th {\n",
       "        vertical-align: top;\n",
       "    }\n",
       "\n",
       "    .dataframe thead th {\n",
       "        text-align: right;\n",
       "    }\n",
       "</style>\n",
       "<table border=\"1\" class=\"dataframe\">\n",
       "  <thead>\n",
       "    <tr style=\"text-align: right;\">\n",
       "      <th></th>\n",
       "      <th>Country/Region</th>\n",
       "      <th>Cases</th>\n",
       "      <th>Deaths</th>\n",
       "      <th>PCases</th>\n",
       "      <th>PDeaths</th>\n",
       "      <th>Cases (+)</th>\n",
       "      <th>Deaths (+)</th>\n",
       "      <th>Fatality Rate</th>\n",
       "      <th>Continent</th>\n",
       "    </tr>\n",
       "  </thead>\n",
       "  <tbody>\n",
       "    <tr>\n",
       "      <th>0</th>\n",
       "      <td>US</td>\n",
       "      <td>79250509</td>\n",
       "      <td>958144</td>\n",
       "      <td>79196008</td>\n",
       "      <td>956261</td>\n",
       "      <td>54501</td>\n",
       "      <td>1883</td>\n",
       "      <td>1.2</td>\n",
       "      <td>North America</td>\n",
       "    </tr>\n",
       "    <tr>\n",
       "      <th>1</th>\n",
       "      <td>India</td>\n",
       "      <td>42957477</td>\n",
       "      <td>514878</td>\n",
       "      <td>42951556</td>\n",
       "      <td>514589</td>\n",
       "      <td>5921</td>\n",
       "      <td>289</td>\n",
       "      <td>1.2</td>\n",
       "      <td>Asia</td>\n",
       "    </tr>\n",
       "    <tr>\n",
       "      <th>2</th>\n",
       "      <td>Brazil</td>\n",
       "      <td>28978052</td>\n",
       "      <td>651522</td>\n",
       "      <td>28906672</td>\n",
       "      <td>650824</td>\n",
       "      <td>71380</td>\n",
       "      <td>698</td>\n",
       "      <td>2.2</td>\n",
       "      <td>South America</td>\n",
       "    </tr>\n",
       "    <tr>\n",
       "      <th>3</th>\n",
       "      <td>France</td>\n",
       "      <td>23137902</td>\n",
       "      <td>140144</td>\n",
       "      <td>23079453</td>\n",
       "      <td>139962</td>\n",
       "      <td>58449</td>\n",
       "      <td>182</td>\n",
       "      <td>0.6</td>\n",
       "      <td>Europe</td>\n",
       "    </tr>\n",
       "    <tr>\n",
       "      <th>4</th>\n",
       "      <td>United Kingdom</td>\n",
       "      <td>19256835</td>\n",
       "      <td>162582</td>\n",
       "      <td>19211944</td>\n",
       "      <td>162472</td>\n",
       "      <td>44891</td>\n",
       "      <td>110</td>\n",
       "      <td>0.8</td>\n",
       "      <td>Europe</td>\n",
       "    </tr>\n",
       "  </tbody>\n",
       "</table>\n",
       "</div>"
      ],
      "text/plain": [
       "   Country/Region     Cases  Deaths    PCases  PDeaths  Cases (+)  Deaths (+)  \\\n",
       "0              US  79250509  958144  79196008   956261      54501        1883   \n",
       "1           India  42957477  514878  42951556   514589       5921         289   \n",
       "2          Brazil  28978052  651522  28906672   650824      71380         698   \n",
       "3          France  23137902  140144  23079453   139962      58449         182   \n",
       "4  United Kingdom  19256835  162582  19211944   162472      44891         110   \n",
       "\n",
       "   Fatality Rate      Continent  \n",
       "0            1.2  North America  \n",
       "1            1.2           Asia  \n",
       "2            2.2  South America  \n",
       "3            0.6         Europe  \n",
       "4            0.8         Europe  "
      ]
     },
     "execution_count": 15,
     "metadata": {},
     "output_type": "execute_result"
    }
   ],
   "source": [
    "#hide\n",
    "df_table = (pd.DataFrame(dict(Cases=dfc_cases, Deaths=dfc_deaths, PCases=dfp_cases, PDeaths=dfp_deaths))\n",
    "             .sort_values(by=['Cases', 'Deaths'], ascending=[False, False])\n",
    "             .reset_index())\n",
    "df_table.rename(columns={'index': 'Country/Region'}, inplace=True)\n",
    "for c in 'Cases, Deaths'.split(', '):\n",
    "    df_table[f'{c} (+)'] = (df_table[c] - df_table[f'P{c}']).clip(0)  # DATA BUG\n",
    "df_table['Fatality Rate'] = (100 * df_table['Deaths'] / df_table['Cases']).round(1)\n",
    "df_table['Continent'] = df_table['Country/Region'].map(mapping['map.continent'])\n",
    "df_table.head(5)"
   ]
  },
  {
   "cell_type": "code",
   "execution_count": 16,
   "id": "fewer-occasion",
   "metadata": {
    "execution": {
     "iopub.execute_input": "2022-03-06T00:32:50.011607Z",
     "iopub.status.busy": "2022-03-06T00:32:50.011014Z",
     "iopub.status.idle": "2022-03-06T00:32:50.013152Z",
     "shell.execute_reply": "2022-03-06T00:32:50.013624Z"
    },
    "papermill": {
     "duration": 0.041711,
     "end_time": "2022-03-06T00:32:50.013757",
     "exception": false,
     "start_time": "2022-03-06T00:32:49.972046",
     "status": "completed"
    },
    "tags": []
   },
   "outputs": [],
   "source": [
    "#hide\n",
    "#delete problematic countries from table\n",
    "df_table = df_table[~df_table['Country/Region'].isin(['Cape Verde', 'Cruise Ship', 'Kosovo'])]"
   ]
  },
  {
   "cell_type": "code",
   "execution_count": 17,
   "id": "related-center",
   "metadata": {
    "execution": {
     "iopub.execute_input": "2022-03-06T00:32:50.100355Z",
     "iopub.status.busy": "2022-03-06T00:32:50.099765Z",
     "iopub.status.idle": "2022-03-06T00:32:50.102459Z",
     "shell.execute_reply": "2022-03-06T00:32:50.101993Z"
    },
    "papermill": {
     "duration": 0.055607,
     "end_time": "2022-03-06T00:32:50.102581",
     "exception": false,
     "start_time": "2022-03-06T00:32:50.046974",
     "status": "completed"
    },
    "tags": []
   },
   "outputs": [],
   "source": [
    "#hide\n",
    "metrics = [df_table.columns[index] for index in [1,2,5,6]]\n",
    "# s_china = df_table[df_table['Country/Region'].eq('China')][metrics].sum().add_prefix('China ')\n",
    "s_us = df_table[df_table['Country/Region'].eq('US')][metrics].sum().add_prefix('US ')\n",
    "s_eu = df_table[df_table['Continent'].eq('Europe')][metrics].sum().add_prefix('EU ')\n",
    "s_ind = df_table[df_table['Country/Region'].eq('India')][metrics].sum().add_prefix('India ')\n",
    "summary = {'updated': pd.to_datetime(dt_today), 'since': pd.to_datetime(dt_yday)}\n",
    "summary = {'updated': pd.to_datetime(dt_today), 'since': pd.to_datetime(dt_yday)}\n",
    "summary = {**summary, **df_table[metrics].sum(), **s_ind, **s_us, **s_eu}"
   ]
  },
  {
   "cell_type": "code",
   "execution_count": 18,
   "id": "engaging-syndrome",
   "metadata": {
    "execution": {
     "iopub.execute_input": "2022-03-06T00:32:50.174627Z",
     "iopub.status.busy": "2022-03-06T00:32:50.174049Z",
     "iopub.status.idle": "2022-03-06T00:32:50.191843Z",
     "shell.execute_reply": "2022-03-06T00:32:50.191459Z"
    },
    "papermill": {
     "duration": 0.056831,
     "end_time": "2022-03-06T00:32:50.191947",
     "exception": false,
     "start_time": "2022-03-06T00:32:50.135116",
     "status": "completed"
    },
    "tags": []
   },
   "outputs": [],
   "source": [
    "#hide\n",
    "dft_ct_new_cases = dft_cases.groupby(COL_REGION)[dt_cols].sum().diff(axis=1).fillna(0).astype(int)"
   ]
  },
  {
   "cell_type": "code",
   "execution_count": 19,
   "id": "neutral-assignment",
   "metadata": {
    "execution": {
     "iopub.execute_input": "2022-03-06T00:32:50.261570Z",
     "iopub.status.busy": "2022-03-06T00:32:50.260978Z",
     "iopub.status.idle": "2022-03-06T00:32:50.266519Z",
     "shell.execute_reply": "2022-03-06T00:32:50.267023Z"
    },
    "papermill": {
     "duration": 0.041808,
     "end_time": "2022-03-06T00:32:50.267149",
     "exception": false,
     "start_time": "2022-03-06T00:32:50.225341",
     "status": "completed"
    },
    "tags": []
   },
   "outputs": [],
   "source": [
    "#hide\n",
    "everydaycases = dft_ct_new_cases.cumsum(axis=1)"
   ]
  },
  {
   "cell_type": "code",
   "execution_count": 20,
   "id": "parliamentary-calgary",
   "metadata": {
    "execution": {
     "iopub.execute_input": "2022-03-06T00:32:50.338314Z",
     "iopub.status.busy": "2022-03-06T00:32:50.337716Z",
     "iopub.status.idle": "2022-03-06T00:32:51.066288Z",
     "shell.execute_reply": "2022-03-06T00:32:51.065730Z"
    },
    "papermill": {
     "duration": 0.766474,
     "end_time": "2022-03-06T00:32:51.066432",
     "exception": false,
     "start_time": "2022-03-06T00:32:50.299958",
     "status": "completed"
    },
    "tags": []
   },
   "outputs": [],
   "source": [
    "#hide\n",
    "import pandas as pd\n",
    "import matplotlib.pyplot as plt\n",
    "import matplotlib.ticker as ticker\n",
    "import matplotlib.animation as animation\n",
    "from IPython.display import HTML"
   ]
  },
  {
   "cell_type": "code",
   "execution_count": 21,
   "id": "lasting-extraction",
   "metadata": {
    "execution": {
     "iopub.execute_input": "2022-03-06T00:32:51.144560Z",
     "iopub.status.busy": "2022-03-06T00:32:51.143939Z",
     "iopub.status.idle": "2022-03-06T00:32:51.151061Z",
     "shell.execute_reply": "2022-03-06T00:32:51.151558Z"
    },
    "papermill": {
     "duration": 0.049216,
     "end_time": "2022-03-06T00:32:51.151709",
     "exception": false,
     "start_time": "2022-03-06T00:32:51.102493",
     "status": "completed"
    },
    "tags": []
   },
   "outputs": [],
   "source": [
    "#hide\n",
    "t = everydaycases.stack()"
   ]
  },
  {
   "cell_type": "code",
   "execution_count": 22,
   "id": "premier-sleeve",
   "metadata": {
    "execution": {
     "iopub.execute_input": "2022-03-06T00:32:51.226679Z",
     "iopub.status.busy": "2022-03-06T00:32:51.226053Z",
     "iopub.status.idle": "2022-03-06T00:32:51.240380Z",
     "shell.execute_reply": "2022-03-06T00:32:51.239366Z"
    },
    "papermill": {
     "duration": 0.054516,
     "end_time": "2022-03-06T00:32:51.240536",
     "exception": false,
     "start_time": "2022-03-06T00:32:51.186020",
     "status": "completed"
    },
    "tags": []
   },
   "outputs": [],
   "source": [
    "#hide\n",
    "g = t.reset_index(['Country/Region'])"
   ]
  },
  {
   "cell_type": "code",
   "execution_count": 23,
   "id": "distributed-pittsburgh",
   "metadata": {
    "execution": {
     "iopub.execute_input": "2022-03-06T00:32:51.320848Z",
     "iopub.status.busy": "2022-03-06T00:32:51.320177Z",
     "iopub.status.idle": "2022-03-06T00:32:51.324547Z",
     "shell.execute_reply": "2022-03-06T00:32:51.324057Z"
    },
    "papermill": {
     "duration": 0.043563,
     "end_time": "2022-03-06T00:32:51.324675",
     "exception": false,
     "start_time": "2022-03-06T00:32:51.281112",
     "status": "completed"
    },
    "tags": []
   },
   "outputs": [],
   "source": [
    "#hide\n",
    "g.index.name = 'date'"
   ]
  },
  {
   "cell_type": "code",
   "execution_count": 24,
   "id": "naked-donor",
   "metadata": {
    "execution": {
     "iopub.execute_input": "2022-03-06T00:32:51.400508Z",
     "iopub.status.busy": "2022-03-06T00:32:51.399878Z",
     "iopub.status.idle": "2022-03-06T00:32:51.402134Z",
     "shell.execute_reply": "2022-03-06T00:32:51.401689Z"
    },
    "papermill": {
     "duration": 0.041652,
     "end_time": "2022-03-06T00:32:51.402255",
     "exception": false,
     "start_time": "2022-03-06T00:32:51.360603",
     "status": "completed"
    },
    "tags": []
   },
   "outputs": [],
   "source": [
    "# #hide\n",
    "# g = g.reset_index(['date'])"
   ]
  },
  {
   "cell_type": "code",
   "execution_count": 25,
   "id": "incomplete-mustang",
   "metadata": {
    "execution": {
     "iopub.execute_input": "2022-03-06T00:32:51.474581Z",
     "iopub.status.busy": "2022-03-06T00:32:51.473952Z",
     "iopub.status.idle": "2022-03-06T00:32:51.478107Z",
     "shell.execute_reply": "2022-03-06T00:32:51.477620Z"
    },
    "papermill": {
     "duration": 0.042156,
     "end_time": "2022-03-06T00:32:51.478236",
     "exception": false,
     "start_time": "2022-03-06T00:32:51.436080",
     "status": "completed"
    },
    "tags": []
   },
   "outputs": [],
   "source": [
    "#hide\n",
    "# g.head()"
   ]
  },
  {
   "cell_type": "code",
   "execution_count": 26,
   "id": "specific-kruger",
   "metadata": {
    "execution": {
     "iopub.execute_input": "2022-03-06T00:32:51.550850Z",
     "iopub.status.busy": "2022-03-06T00:32:51.550298Z",
     "iopub.status.idle": "2022-03-06T00:32:51.553141Z",
     "shell.execute_reply": "2022-03-06T00:32:51.552674Z"
    },
    "papermill": {
     "duration": 0.040629,
     "end_time": "2022-03-06T00:32:51.553266",
     "exception": false,
     "start_time": "2022-03-06T00:32:51.512637",
     "status": "completed"
    },
    "tags": []
   },
   "outputs": [],
   "source": [
    "#hide\n",
    "# g.columns = ['date','country','cases']"
   ]
  },
  {
   "cell_type": "code",
   "execution_count": 27,
   "id": "tender-conversion",
   "metadata": {
    "execution": {
     "iopub.execute_input": "2022-03-06T00:32:51.626743Z",
     "iopub.status.busy": "2022-03-06T00:32:51.625652Z",
     "iopub.status.idle": "2022-03-06T00:32:51.627826Z",
     "shell.execute_reply": "2022-03-06T00:32:51.628616Z"
    },
    "papermill": {
     "duration": 0.042057,
     "end_time": "2022-03-06T00:32:51.628846",
     "exception": false,
     "start_time": "2022-03-06T00:32:51.586789",
     "status": "completed"
    },
    "tags": []
   },
   "outputs": [],
   "source": [
    "#hide\n",
    "# g['continent'] = g.country"
   ]
  },
  {
   "cell_type": "code",
   "execution_count": 28,
   "id": "substantial-wilderness",
   "metadata": {
    "execution": {
     "iopub.execute_input": "2022-03-06T00:32:51.703158Z",
     "iopub.status.busy": "2022-03-06T00:32:51.702353Z",
     "iopub.status.idle": "2022-03-06T00:32:51.706629Z",
     "shell.execute_reply": "2022-03-06T00:32:51.706159Z"
    },
    "papermill": {
     "duration": 0.041955,
     "end_time": "2022-03-06T00:32:51.706751",
     "exception": false,
     "start_time": "2022-03-06T00:32:51.664796",
     "status": "completed"
    },
    "tags": []
   },
   "outputs": [],
   "source": [
    "#hide\n",
    "# cols = list(g.columns.values)"
   ]
  },
  {
   "cell_type": "code",
   "execution_count": 29,
   "id": "solved-farming",
   "metadata": {
    "execution": {
     "iopub.execute_input": "2022-03-06T00:32:51.778314Z",
     "iopub.status.busy": "2022-03-06T00:32:51.777705Z",
     "iopub.status.idle": "2022-03-06T00:32:51.779975Z",
     "shell.execute_reply": "2022-03-06T00:32:51.779509Z"
    },
    "papermill": {
     "duration": 0.039951,
     "end_time": "2022-03-06T00:32:51.780099",
     "exception": false,
     "start_time": "2022-03-06T00:32:51.740148",
     "status": "completed"
    },
    "tags": []
   },
   "outputs": [],
   "source": [
    "#hide\n",
    "# cols.insert(0, cols.pop())"
   ]
  },
  {
   "cell_type": "code",
   "execution_count": 30,
   "id": "executed-adoption",
   "metadata": {
    "execution": {
     "iopub.execute_input": "2022-03-06T00:32:51.854067Z",
     "iopub.status.busy": "2022-03-06T00:32:51.852998Z",
     "iopub.status.idle": "2022-03-06T00:32:51.857609Z",
     "shell.execute_reply": "2022-03-06T00:32:51.856545Z"
    },
    "papermill": {
     "duration": 0.043834,
     "end_time": "2022-03-06T00:32:51.857745",
     "exception": false,
     "start_time": "2022-03-06T00:32:51.813911",
     "status": "completed"
    },
    "tags": []
   },
   "outputs": [],
   "source": [
    "#hide\n",
    "# g = g[cols]"
   ]
  },
  {
   "cell_type": "code",
   "execution_count": 31,
   "id": "subject-dublin",
   "metadata": {
    "execution": {
     "iopub.execute_input": "2022-03-06T00:32:51.930493Z",
     "iopub.status.busy": "2022-03-06T00:32:51.929887Z",
     "iopub.status.idle": "2022-03-06T00:32:51.933929Z",
     "shell.execute_reply": "2022-03-06T00:32:51.933421Z"
    },
    "papermill": {
     "duration": 0.042372,
     "end_time": "2022-03-06T00:32:51.934056",
     "exception": false,
     "start_time": "2022-03-06T00:32:51.891684",
     "status": "completed"
    },
    "tags": []
   },
   "outputs": [],
   "source": [
    "#hide\n",
    "# g['continent'] = g['continent'].map(mapping['map.continent'])"
   ]
  },
  {
   "cell_type": "code",
   "execution_count": 32,
   "id": "freelance-scout",
   "metadata": {
    "execution": {
     "iopub.execute_input": "2022-03-06T00:32:52.008293Z",
     "iopub.status.busy": "2022-03-06T00:32:52.007668Z",
     "iopub.status.idle": "2022-03-06T00:32:52.010022Z",
     "shell.execute_reply": "2022-03-06T00:32:52.009541Z"
    },
    "papermill": {
     "duration": 0.041599,
     "end_time": "2022-03-06T00:32:52.010150",
     "exception": false,
     "start_time": "2022-03-06T00:32:51.968551",
     "status": "completed"
    },
    "tags": []
   },
   "outputs": [],
   "source": [
    "#hide\n",
    "# g.head()"
   ]
  },
  {
   "cell_type": "code",
   "execution_count": 33,
   "id": "limited-engine",
   "metadata": {
    "execution": {
     "iopub.execute_input": "2022-03-06T00:32:52.084636Z",
     "iopub.status.busy": "2022-03-06T00:32:52.083902Z",
     "iopub.status.idle": "2022-03-06T00:32:52.087680Z",
     "shell.execute_reply": "2022-03-06T00:32:52.088207Z"
    },
    "papermill": {
     "duration": 0.043768,
     "end_time": "2022-03-06T00:32:52.088373",
     "exception": false,
     "start_time": "2022-03-06T00:32:52.044605",
     "status": "completed"
    },
    "tags": []
   },
   "outputs": [],
   "source": [
    "# hide\n",
    "# g['date'] = g['date'].astype('datetime64[ns]')"
   ]
  },
  {
   "cell_type": "code",
   "execution_count": 34,
   "id": "sophisticated-supervisor",
   "metadata": {
    "execution": {
     "iopub.execute_input": "2022-03-06T00:32:52.161272Z",
     "iopub.status.busy": "2022-03-06T00:32:52.160258Z",
     "iopub.status.idle": "2022-03-06T00:32:52.162255Z",
     "shell.execute_reply": "2022-03-06T00:32:52.162673Z"
    },
    "papermill": {
     "duration": 0.040297,
     "end_time": "2022-03-06T00:32:52.162802",
     "exception": false,
     "start_time": "2022-03-06T00:32:52.122505",
     "status": "completed"
    },
    "tags": []
   },
   "outputs": [],
   "source": [
    "#hide\n",
    "# g['date'] = g.date.dt.dayofyear"
   ]
  },
  {
   "cell_type": "code",
   "execution_count": 35,
   "id": "inside-dubai",
   "metadata": {
    "execution": {
     "iopub.execute_input": "2022-03-06T00:32:52.233321Z",
     "iopub.status.busy": "2022-03-06T00:32:52.232770Z",
     "iopub.status.idle": "2022-03-06T00:32:52.235101Z",
     "shell.execute_reply": "2022-03-06T00:32:52.234620Z"
    },
    "papermill": {
     "duration": 0.038738,
     "end_time": "2022-03-06T00:32:52.235227",
     "exception": false,
     "start_time": "2022-03-06T00:32:52.196489",
     "status": "completed"
    },
    "tags": []
   },
   "outputs": [],
   "source": [
    "#hide\n",
    "# g = g.rename(columns= {'continent':'group','country':'name','cases':'value'})"
   ]
  },
  {
   "cell_type": "code",
   "execution_count": 36,
   "id": "fleet-motorcycle",
   "metadata": {
    "execution": {
     "iopub.execute_input": "2022-03-06T00:32:52.307812Z",
     "iopub.status.busy": "2022-03-06T00:32:52.307208Z",
     "iopub.status.idle": "2022-03-06T00:32:52.310714Z",
     "shell.execute_reply": "2022-03-06T00:32:52.311158Z"
    },
    "papermill": {
     "duration": 0.042152,
     "end_time": "2022-03-06T00:32:52.311324",
     "exception": false,
     "start_time": "2022-03-06T00:32:52.269172",
     "status": "completed"
    },
    "tags": []
   },
   "outputs": [],
   "source": [
    "#hide\n",
    "# cols = ['name','group','day','value']"
   ]
  },
  {
   "cell_type": "code",
   "execution_count": 37,
   "id": "continued-sleeping",
   "metadata": {
    "execution": {
     "iopub.execute_input": "2022-03-06T00:32:52.384984Z",
     "iopub.status.busy": "2022-03-06T00:32:52.384319Z",
     "iopub.status.idle": "2022-03-06T00:32:52.387148Z",
     "shell.execute_reply": "2022-03-06T00:32:52.386672Z"
    },
    "papermill": {
     "duration": 0.041712,
     "end_time": "2022-03-06T00:32:52.387276",
     "exception": false,
     "start_time": "2022-03-06T00:32:52.345564",
     "status": "completed"
    },
    "tags": []
   },
   "outputs": [],
   "source": [
    "#hide\n",
    "# g.rename(columns= {'date':'day'},inplace = True)"
   ]
  },
  {
   "cell_type": "code",
   "execution_count": 38,
   "id": "major-fight",
   "metadata": {
    "execution": {
     "iopub.execute_input": "2022-03-06T00:32:52.461393Z",
     "iopub.status.busy": "2022-03-06T00:32:52.460810Z",
     "iopub.status.idle": "2022-03-06T00:32:52.462587Z",
     "shell.execute_reply": "2022-03-06T00:32:52.463051Z"
    },
    "papermill": {
     "duration": 0.040842,
     "end_time": "2022-03-06T00:32:52.463193",
     "exception": false,
     "start_time": "2022-03-06T00:32:52.422351",
     "status": "completed"
    },
    "tags": []
   },
   "outputs": [],
   "source": [
    "#hide\n",
    "# g = g[cols]"
   ]
  },
  {
   "cell_type": "code",
   "execution_count": 39,
   "id": "structured-mobile",
   "metadata": {
    "execution": {
     "iopub.execute_input": "2022-03-06T00:32:52.536176Z",
     "iopub.status.busy": "2022-03-06T00:32:52.535587Z",
     "iopub.status.idle": "2022-03-06T00:32:52.538619Z",
     "shell.execute_reply": "2022-03-06T00:32:52.538123Z"
    },
    "papermill": {
     "duration": 0.041171,
     "end_time": "2022-03-06T00:32:52.538742",
     "exception": false,
     "start_time": "2022-03-06T00:32:52.497571",
     "status": "completed"
    },
    "tags": []
   },
   "outputs": [],
   "source": [
    "# #hide\n",
    "# g = g[g.group.notna()]"
   ]
  },
  {
   "cell_type": "code",
   "execution_count": 40,
   "id": "determined-closing",
   "metadata": {
    "execution": {
     "iopub.execute_input": "2022-03-06T00:32:52.612600Z",
     "iopub.status.busy": "2022-03-06T00:32:52.611968Z",
     "iopub.status.idle": "2022-03-06T00:32:52.614274Z",
     "shell.execute_reply": "2022-03-06T00:32:52.613682Z"
    },
    "papermill": {
     "duration": 0.040553,
     "end_time": "2022-03-06T00:32:52.614400",
     "exception": false,
     "start_time": "2022-03-06T00:32:52.573847",
     "status": "completed"
    },
    "tags": []
   },
   "outputs": [],
   "source": [
    "# #hide\n",
    "# colors = dict(zip(\n",
    "#     [\"Oceania\", \"Europe\", \"Asia\", \"South America\", \"Middle East\", \"North America\", \"Africa\"],\n",
    "#     [\"#adb0ff\", \"#ffb3ff\", \"#90d595\", \"#e48381\", \"#aafbff\", \"#f7bb5f\", \"#eafb50\"]\n",
    "# ))\n",
    "# group_lk = g.set_index('name')['group'].to_dict()"
   ]
  },
  {
   "cell_type": "code",
   "execution_count": null,
   "id": "gross-drinking",
   "metadata": {
    "papermill": {
     "duration": 0.034775,
     "end_time": "2022-03-06T00:32:52.683951",
     "exception": false,
     "start_time": "2022-03-06T00:32:52.649176",
     "status": "completed"
    },
    "tags": []
   },
   "outputs": [],
   "source": []
  },
  {
   "cell_type": "code",
   "execution_count": 41,
   "id": "subject-macintosh",
   "metadata": {
    "execution": {
     "iopub.execute_input": "2022-03-06T00:32:52.758179Z",
     "iopub.status.busy": "2022-03-06T00:32:52.757529Z",
     "iopub.status.idle": "2022-03-06T00:32:52.759835Z",
     "shell.execute_reply": "2022-03-06T00:32:52.759335Z"
    },
    "papermill": {
     "duration": 0.0412,
     "end_time": "2022-03-06T00:32:52.759957",
     "exception": false,
     "start_time": "2022-03-06T00:32:52.718757",
     "status": "completed"
    },
    "tags": []
   },
   "outputs": [],
   "source": [
    "# #hide\n",
    "# fig, ax = plt.subplots(figsize=(15, 8))\n",
    "\n",
    "# def draw_barchart(current_day):\n",
    "#     dff = g[g['day'].eq(current_day)].sort_values(by='value', ascending=True).tail(10)\n",
    "#     ax.clear()\n",
    "#     ax.barh(dff['name'], dff['value'], color=[colors[group_lk[x]] for x in dff['name']])\n",
    "#     dx = dff['value'].max() / 200\n",
    "    \n",
    "#     for i, (value, name) in enumerate(zip(dff['value'], dff['name'])):\n",
    "#         ax.text(value-dx, i,     name,           size=14, weight=600, ha='right', va='bottom')\n",
    "#         ax.text(value-dx, i-.25, group_lk[name], size=10, color='#444444', ha='right', va='baseline')\n",
    "#         ax.text(value+dx, i,     f'{value:,.0f}',  size=14, ha='left',  va='center')\n",
    "#     ax.text(1, 0.4, current_day, transform=ax.transAxes, color='#777777', size=46, ha='right', weight=800)\n",
    "#     ax.text(0, 1.06, 'Population (thousands)', transform=ax.transAxes, size=12, color='#777777')\n",
    "#     ax.xaxis.set_major_formatter(ticker.StrMethodFormatter('{x:,.0f}'))\n",
    "#     ax.xaxis.set_ticks_position('top')\n",
    "#     ax.tick_params(axis='x', colors='#777777', labelsize=12)\n",
    "#     ax.set_yticks([])\n",
    "#     ax.margins(0, 0.01)\n",
    "#     ax.grid(which='major', axis='x', linestyle='-')\n",
    "#     ax.set_axisbelow(True)\n",
    "    \n",
    "#     ax.text(0, 1.15, 'Coronavirus',\n",
    "#             transform=ax.transAxes, size=24, weight=600, ha='left', va='top')\n",
    "# #     ax.text(1, 0, 'by @pratapvardhan; credit @jburnmurdoch', transform=ax.transAxes, color='#777777', ha='right',\n",
    "# #             bbox=dict(facecolor='white', alpha=0.8, edgecolor='white'))\n",
    "#     plt.box(False)"
   ]
  },
  {
   "cell_type": "code",
   "execution_count": 42,
   "id": "sexual-wages",
   "metadata": {
    "execution": {
     "iopub.execute_input": "2022-03-06T00:32:52.832309Z",
     "iopub.status.busy": "2022-03-06T00:32:52.831721Z",
     "iopub.status.idle": "2022-03-06T00:32:52.833960Z",
     "shell.execute_reply": "2022-03-06T00:32:52.833344Z"
    },
    "papermill": {
     "duration": 0.039907,
     "end_time": "2022-03-06T00:32:52.834088",
     "exception": false,
     "start_time": "2022-03-06T00:32:52.794181",
     "status": "completed"
    },
    "tags": []
   },
   "outputs": [],
   "source": [
    "# #hide_input\n",
    "# fig, ax = plt.subplots(figsize=(15, 8))\n",
    "# animator = animation.FuncAnimation(fig, draw_barchart, frames=range(g.day.values.min(), g.day.values.max()))\n",
    "# HTML(animator.to_jshtml())\n",
    "# # or use animator.to_html5_video() or animator.save() "
   ]
  },
  {
   "cell_type": "code",
   "execution_count": null,
   "id": "australian-container",
   "metadata": {
    "papermill": {
     "duration": 0.034797,
     "end_time": "2022-03-06T00:32:52.903495",
     "exception": false,
     "start_time": "2022-03-06T00:32:52.868698",
     "status": "completed"
    },
    "tags": []
   },
   "outputs": [],
   "source": []
  },
  {
   "cell_type": "code",
   "execution_count": null,
   "id": "mediterranean-pontiac",
   "metadata": {
    "papermill": {
     "duration": 0.034218,
     "end_time": "2022-03-06T00:32:52.972112",
     "exception": false,
     "start_time": "2022-03-06T00:32:52.937894",
     "status": "completed"
    },
    "tags": []
   },
   "outputs": [],
   "source": []
  },
  {
   "cell_type": "code",
   "execution_count": null,
   "id": "aging-legislature",
   "metadata": {
    "papermill": {
     "duration": 0.034346,
     "end_time": "2022-03-06T00:32:53.041945",
     "exception": false,
     "start_time": "2022-03-06T00:32:53.007599",
     "status": "completed"
    },
    "tags": []
   },
   "outputs": [],
   "source": []
  }
 ],
 "metadata": {
  "kernelspec": {
   "display_name": "Python 3",
   "language": "python",
   "name": "python3"
  },
  "language_info": {
   "codemirror_mode": {
    "name": "ipython",
    "version": 3
   },
   "file_extension": ".py",
   "mimetype": "text/x-python",
   "name": "python",
   "nbconvert_exporter": "python",
   "pygments_lexer": "ipython3",
   "version": "3.6.15"
  },
  "papermill": {
   "duration": 6.88077,
   "end_time": "2022-03-06T00:32:53.495702",
   "environment_variables": {},
   "exception": null,
   "input_path": "2020-03-21-covid19exp.ipynb",
   "output_path": "2020-03-21-covid19exp.ipynb",
   "parameters": {},
   "start_time": "2022-03-06T00:32:46.614932",
   "version": "2.0.0"
  }
 },
 "nbformat": 4,
 "nbformat_minor": 5
}