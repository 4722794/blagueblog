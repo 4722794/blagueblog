{
 "cells": [
  {
   "cell_type": "markdown",
   "id": "muslim-click",
   "metadata": {
    "papermill": {
     "duration": 0.04096,
     "end_time": "2021-03-31T12:04:09.971380",
     "exception": false,
     "start_time": "2021-03-31T12:04:09.930420",
     "status": "completed"
    },
    "tags": []
   },
   "source": [
    "# COVID-19 Case Race\n",
    "> A race chart to see rising cases around the world\n",
    "\n",
    "- author: Hargun Oberoi\n",
    "- image: images/covid-overview.png\n",
    "- hide: false\n",
    "- badges: false"
   ]
  },
  {
   "cell_type": "code",
   "execution_count": 1,
   "id": "proof-material",
   "metadata": {
    "execution": {
     "iopub.execute_input": "2021-03-31T12:04:10.046895Z",
     "iopub.status.busy": "2021-03-31T12:04:10.046237Z",
     "iopub.status.idle": "2021-03-31T12:04:10.381133Z",
     "shell.execute_reply": "2021-03-31T12:04:10.380210Z"
    },
    "papermill": {
     "duration": 0.376716,
     "end_time": "2021-03-31T12:04:10.381361",
     "exception": false,
     "start_time": "2021-03-31T12:04:10.004645",
     "status": "completed"
    },
    "tags": []
   },
   "outputs": [],
   "source": [
    "#hide\n",
    "import numpy as np\n",
    "import pandas as pd\n",
    "from jinja2 import Template\n",
    "from IPython.display import HTML"
   ]
  },
  {
   "cell_type": "code",
   "execution_count": 2,
   "id": "developed-terminology",
   "metadata": {
    "execution": {
     "iopub.execute_input": "2021-03-31T12:04:10.451642Z",
     "iopub.status.busy": "2021-03-31T12:04:10.450426Z",
     "iopub.status.idle": "2021-03-31T12:04:10.452332Z",
     "shell.execute_reply": "2021-03-31T12:04:10.452789Z"
    },
    "papermill": {
     "duration": 0.038085,
     "end_time": "2021-03-31T12:04:10.452924",
     "exception": false,
     "start_time": "2021-03-31T12:04:10.414839",
     "status": "completed"
    },
    "tags": []
   },
   "outputs": [],
   "source": [
    "#hide\n",
    "\n",
    "# FETCH\n",
    "base_url = 'https://raw.githubusercontent.com/pratapvardhan/notebooks/master/covid19/'\n",
    "paths = {\n",
    "    'mapping': base_url + 'mapping_countries.csv',\n",
    "    'overview': base_url + 'overview.tpl'\n",
    "}"
   ]
  },
  {
   "cell_type": "code",
   "execution_count": 3,
   "id": "dynamic-saver",
   "metadata": {
    "execution": {
     "iopub.execute_input": "2021-03-31T12:04:10.533197Z",
     "iopub.status.busy": "2021-03-31T12:04:10.532659Z",
     "iopub.status.idle": "2021-03-31T12:04:10.535502Z",
     "shell.execute_reply": "2021-03-31T12:04:10.535018Z"
    },
    "papermill": {
     "duration": 0.049444,
     "end_time": "2021-03-31T12:04:10.535614",
     "exception": false,
     "start_time": "2021-03-31T12:04:10.486170",
     "status": "completed"
    },
    "tags": []
   },
   "outputs": [
    {
     "data": {
      "text/plain": [
       "'https://raw.githubusercontent.com/pratapvardhan/notebooks/master/covid19/mapping_countries.csv'"
      ]
     },
     "execution_count": 3,
     "metadata": {},
     "output_type": "execute_result"
    }
   ],
   "source": [
    "#hide\n",
    "paths['mapping']"
   ]
  },
  {
   "cell_type": "code",
   "execution_count": 4,
   "id": "urban-software",
   "metadata": {
    "execution": {
     "iopub.execute_input": "2021-03-31T12:04:10.608791Z",
     "iopub.status.busy": "2021-03-31T12:04:10.608212Z",
     "iopub.status.idle": "2021-03-31T12:04:10.611073Z",
     "shell.execute_reply": "2021-03-31T12:04:10.611625Z"
    },
    "papermill": {
     "duration": 0.043187,
     "end_time": "2021-03-31T12:04:10.611763",
     "exception": false,
     "start_time": "2021-03-31T12:04:10.568576",
     "status": "completed"
    },
    "tags": []
   },
   "outputs": [],
   "source": [
    "#hide\n",
    "def get_mappings(url):\n",
    "    df = pd.read_csv(url)\n",
    "    return {\n",
    "        'df': df,\n",
    "        'replace.country': dict(df.dropna(subset=['Name']).set_index('Country')['Name']),\n",
    "        'map.continent': dict(df.set_index('Name')['Continent'])\n",
    "    }"
   ]
  },
  {
   "cell_type": "code",
   "execution_count": 5,
   "id": "intimate-machinery",
   "metadata": {
    "execution": {
     "iopub.execute_input": "2021-03-31T12:04:10.683628Z",
     "iopub.status.busy": "2021-03-31T12:04:10.683019Z",
     "iopub.status.idle": "2021-03-31T12:04:10.718179Z",
     "shell.execute_reply": "2021-03-31T12:04:10.717293Z"
    },
    "papermill": {
     "duration": 0.074221,
     "end_time": "2021-03-31T12:04:10.718384",
     "exception": false,
     "start_time": "2021-03-31T12:04:10.644163",
     "status": "completed"
    },
    "tags": []
   },
   "outputs": [],
   "source": [
    "#hide\n",
    "mapping = get_mappings(paths['mapping'])"
   ]
  },
  {
   "cell_type": "code",
   "execution_count": 6,
   "id": "certified-tactics",
   "metadata": {
    "execution": {
     "iopub.execute_input": "2021-03-31T12:04:10.790264Z",
     "iopub.status.busy": "2021-03-31T12:04:10.789697Z",
     "iopub.status.idle": "2021-03-31T12:04:10.792330Z",
     "shell.execute_reply": "2021-03-31T12:04:10.791899Z"
    },
    "papermill": {
     "duration": 0.040286,
     "end_time": "2021-03-31T12:04:10.792445",
     "exception": false,
     "start_time": "2021-03-31T12:04:10.752159",
     "status": "completed"
    },
    "tags": []
   },
   "outputs": [],
   "source": [
    "#hide\n",
    "def get_template(path):\n",
    "    from urllib.parse import urlparse\n",
    "    if bool(urlparse(path).netloc):\n",
    "        from urllib.request import urlopen\n",
    "        return urlopen(path).read().decode('utf8')\n",
    "    return open(path).read()"
   ]
  },
  {
   "cell_type": "code",
   "execution_count": 7,
   "id": "realistic-blast",
   "metadata": {
    "execution": {
     "iopub.execute_input": "2021-03-31T12:04:10.863877Z",
     "iopub.status.busy": "2021-03-31T12:04:10.863299Z",
     "iopub.status.idle": "2021-03-31T12:04:10.865321Z",
     "shell.execute_reply": "2021-03-31T12:04:10.865775Z"
    },
    "papermill": {
     "duration": 0.041561,
     "end_time": "2021-03-31T12:04:10.865901",
     "exception": false,
     "start_time": "2021-03-31T12:04:10.824340",
     "status": "completed"
    },
    "tags": []
   },
   "outputs": [],
   "source": [
    "#hide\n",
    "def get_frame(name):\n",
    "    url = (\n",
    "        'https://raw.githubusercontent.com/CSSEGISandData/COVID-19/master/csse_covid_19_data/'\n",
    "        f'csse_covid_19_time_series/time_series_covid19_{name}_global.csv')\n",
    "    df = pd.read_csv(url)\n",
    "    # rename countries\n",
    "    df['Country/Region'] = df['Country/Region'].replace(mapping['replace.country'])\n",
    "    return df"
   ]
  },
  {
   "cell_type": "code",
   "execution_count": 8,
   "id": "affiliated-characterization",
   "metadata": {
    "execution": {
     "iopub.execute_input": "2021-03-31T12:04:10.932854Z",
     "iopub.status.busy": "2021-03-31T12:04:10.932371Z",
     "iopub.status.idle": "2021-03-31T12:04:10.934482Z",
     "shell.execute_reply": "2021-03-31T12:04:10.934083Z"
    },
    "papermill": {
     "duration": 0.037847,
     "end_time": "2021-03-31T12:04:10.934581",
     "exception": false,
     "start_time": "2021-03-31T12:04:10.896734",
     "status": "completed"
    },
    "tags": []
   },
   "outputs": [],
   "source": [
    "#hide\n",
    "def get_dates(df):\n",
    "    dt_cols = df.columns[~df.columns.isin(['Province/State', 'Country/Region', 'Lat', 'Long'])]\n",
    "    LAST_DATE_I = -1\n",
    "    # sometimes last column may be empty, then go backwards\n",
    "    for i in range(-1, -len(dt_cols), -1):\n",
    "        if not df[dt_cols[i]].fillna(0).eq(0).all():\n",
    "            LAST_DATE_I = i\n",
    "            break\n",
    "    return LAST_DATE_I, dt_cols"
   ]
  },
  {
   "cell_type": "code",
   "execution_count": 9,
   "id": "recent-optimization",
   "metadata": {
    "execution": {
     "iopub.execute_input": "2021-03-31T12:04:11.005620Z",
     "iopub.status.busy": "2021-03-31T12:04:11.004625Z",
     "iopub.status.idle": "2021-03-31T12:04:11.292119Z",
     "shell.execute_reply": "2021-03-31T12:04:11.291344Z"
    },
    "papermill": {
     "duration": 0.326502,
     "end_time": "2021-03-31T12:04:11.292313",
     "exception": false,
     "start_time": "2021-03-31T12:04:10.965811",
     "status": "completed"
    },
    "tags": []
   },
   "outputs": [],
   "source": [
    "#hide\n",
    "COL_REGION = 'Country/Region'\n",
    "# Confirmed, Recovered, Deaths\n",
    "df = get_frame('confirmed')\n",
    "# dft_: timeseries, dfc_: today country agg\n",
    "dft_cases = df\n",
    "dft_deaths = get_frame('deaths')\n",
    "dft_recovered = get_frame('recovered')\n",
    "LAST_DATE_I, dt_cols = get_dates(df)"
   ]
  },
  {
   "cell_type": "code",
   "execution_count": 10,
   "id": "absolute-copper",
   "metadata": {
    "execution": {
     "iopub.execute_input": "2021-03-31T12:04:11.367874Z",
     "iopub.status.busy": "2021-03-31T12:04:11.366802Z",
     "iopub.status.idle": "2021-03-31T12:04:11.368938Z",
     "shell.execute_reply": "2021-03-31T12:04:11.369756Z"
    },
    "papermill": {
     "duration": 0.042541,
     "end_time": "2021-03-31T12:04:11.369981",
     "exception": false,
     "start_time": "2021-03-31T12:04:11.327440",
     "status": "completed"
    },
    "tags": []
   },
   "outputs": [],
   "source": [
    "#hide\n",
    "LAST_DATE_I, dt_cols = get_dates(df)\n",
    "dt_today =dt_cols[LAST_DATE_I]\n",
    "# dt_5day = dt_cols[LAST_DATE_I - 5]\n",
    "dt_yday = dt_cols[LAST_DATE_I - 1]"
   ]
  },
  {
   "cell_type": "code",
   "execution_count": 11,
   "id": "restricted-sheriff",
   "metadata": {
    "execution": {
     "iopub.execute_input": "2021-03-31T12:04:11.439226Z",
     "iopub.status.busy": "2021-03-31T12:04:11.438626Z",
     "iopub.status.idle": "2021-03-31T12:04:11.446367Z",
     "shell.execute_reply": "2021-03-31T12:04:11.445882Z"
    },
    "papermill": {
     "duration": 0.045396,
     "end_time": "2021-03-31T12:04:11.446480",
     "exception": false,
     "start_time": "2021-03-31T12:04:11.401084",
     "status": "completed"
    },
    "tags": []
   },
   "outputs": [],
   "source": [
    "#hide\n",
    "dfc_cases = dft_cases.groupby(COL_REGION)[dt_today].sum()\n",
    "dfc_deaths = dft_deaths.groupby(COL_REGION)[dt_today].sum()\n",
    "# dfp_cases = dft_cases.groupby(COL_REGION)[dt_5day].sum()\n",
    "# dfp_deaths = dft_deaths.groupby(COL_REGION)[dt_5day].sum()\n",
    "dfp_cases = dft_cases.groupby(COL_REGION)[dt_yday].sum()\n",
    "dfp_deaths = dft_deaths.groupby(COL_REGION)[dt_yday].sum()"
   ]
  },
  {
   "cell_type": "code",
   "execution_count": 12,
   "id": "deluxe-hepatitis",
   "metadata": {
    "execution": {
     "iopub.execute_input": "2021-03-31T12:04:11.516741Z",
     "iopub.status.busy": "2021-03-31T12:04:11.516187Z",
     "iopub.status.idle": "2021-03-31T12:04:11.520623Z",
     "shell.execute_reply": "2021-03-31T12:04:11.520136Z"
    },
    "papermill": {
     "duration": 0.042197,
     "end_time": "2021-03-31T12:04:11.520740",
     "exception": false,
     "start_time": "2021-03-31T12:04:11.478543",
     "status": "completed"
    },
    "tags": []
   },
   "outputs": [],
   "source": [
    "#hide\n",
    "df_table = (pd.DataFrame(dict(Cases = dfc_cases, Deaths = dfc_deaths, PCases = dfp_cases, PDeaths = dfp_deaths))\n",
    "            .sort_values(by = ['Cases','Deaths'], ascending = [False, False])\n",
    "            .reset_index())"
   ]
  },
  {
   "cell_type": "code",
   "execution_count": 13,
   "id": "educational-chancellor",
   "metadata": {
    "execution": {
     "iopub.execute_input": "2021-03-31T12:04:11.603281Z",
     "iopub.status.busy": "2021-03-31T12:04:11.602675Z",
     "iopub.status.idle": "2021-03-31T12:04:11.609786Z",
     "shell.execute_reply": "2021-03-31T12:04:11.609406Z"
    },
    "papermill": {
     "duration": 0.059276,
     "end_time": "2021-03-31T12:04:11.609889",
     "exception": false,
     "start_time": "2021-03-31T12:04:11.550613",
     "status": "completed"
    },
    "tags": []
   },
   "outputs": [
    {
     "data": {
      "text/html": [
       "<div>\n",
       "<style scoped>\n",
       "    .dataframe tbody tr th:only-of-type {\n",
       "        vertical-align: middle;\n",
       "    }\n",
       "\n",
       "    .dataframe tbody tr th {\n",
       "        vertical-align: top;\n",
       "    }\n",
       "\n",
       "    .dataframe thead th {\n",
       "        text-align: right;\n",
       "    }\n",
       "</style>\n",
       "<table border=\"1\" class=\"dataframe\">\n",
       "  <thead>\n",
       "    <tr style=\"text-align: right;\">\n",
       "      <th></th>\n",
       "      <th>Country/Region</th>\n",
       "      <th>Cases</th>\n",
       "      <th>Deaths</th>\n",
       "      <th>PCases</th>\n",
       "      <th>PDeaths</th>\n",
       "      <th>Cases (+)</th>\n",
       "      <th>Deaths (+)</th>\n",
       "      <th>Fatality Rate</th>\n",
       "      <th>Continent</th>\n",
       "    </tr>\n",
       "  </thead>\n",
       "  <tbody>\n",
       "    <tr>\n",
       "      <th>0</th>\n",
       "      <td>US</td>\n",
       "      <td>30393701</td>\n",
       "      <td>550996</td>\n",
       "      <td>30332461</td>\n",
       "      <td>550121</td>\n",
       "      <td>61240</td>\n",
       "      <td>875</td>\n",
       "      <td>1.81</td>\n",
       "      <td>North America</td>\n",
       "    </tr>\n",
       "    <tr>\n",
       "      <th>1</th>\n",
       "      <td>Brazil</td>\n",
       "      <td>12658109</td>\n",
       "      <td>317646</td>\n",
       "      <td>12573615</td>\n",
       "      <td>313866</td>\n",
       "      <td>84494</td>\n",
       "      <td>3780</td>\n",
       "      <td>2.51</td>\n",
       "      <td>South America</td>\n",
       "    </tr>\n",
       "    <tr>\n",
       "      <th>2</th>\n",
       "      <td>India</td>\n",
       "      <td>12149335</td>\n",
       "      <td>162468</td>\n",
       "      <td>12095855</td>\n",
       "      <td>162114</td>\n",
       "      <td>53480</td>\n",
       "      <td>354</td>\n",
       "      <td>1.34</td>\n",
       "      <td>Asia</td>\n",
       "    </tr>\n",
       "    <tr>\n",
       "      <th>3</th>\n",
       "      <td>France</td>\n",
       "      <td>4646014</td>\n",
       "      <td>95495</td>\n",
       "      <td>4615295</td>\n",
       "      <td>95114</td>\n",
       "      <td>30719</td>\n",
       "      <td>381</td>\n",
       "      <td>2.06</td>\n",
       "      <td>Europe</td>\n",
       "    </tr>\n",
       "    <tr>\n",
       "      <th>4</th>\n",
       "      <td>Russia</td>\n",
       "      <td>4486078</td>\n",
       "      <td>96817</td>\n",
       "      <td>4477916</td>\n",
       "      <td>96413</td>\n",
       "      <td>8162</td>\n",
       "      <td>404</td>\n",
       "      <td>2.16</td>\n",
       "      <td>Europe</td>\n",
       "    </tr>\n",
       "  </tbody>\n",
       "</table>\n",
       "</div>"
      ],
      "text/plain": [
       "  Country/Region     Cases  Deaths    PCases  PDeaths  Cases (+)  Deaths (+)  \\\n",
       "0             US  30393701  550996  30332461   550121      61240         875   \n",
       "1         Brazil  12658109  317646  12573615   313866      84494        3780   \n",
       "2          India  12149335  162468  12095855   162114      53480         354   \n",
       "3         France   4646014   95495   4615295    95114      30719         381   \n",
       "4         Russia   4486078   96817   4477916    96413       8162         404   \n",
       "\n",
       "   Fatality Rate      Continent  \n",
       "0           1.81  North America  \n",
       "1           2.51  South America  \n",
       "2           1.34           Asia  \n",
       "3           2.06         Europe  \n",
       "4           2.16         Europe  "
      ]
     },
     "execution_count": 13,
     "metadata": {},
     "output_type": "execute_result"
    }
   ],
   "source": [
    "#hide\n",
    "for c in 'Cases, Deaths'.split(', '):\n",
    "    df_table[f'{c} (+)'] = (df_table[c] - df_table[f'P{c}']).clip(0)\n",
    "    #Clip ça veut dire, les chiffres negatif sont interdit\n",
    "df_table['Fatality Rate'] = (100* df_table['Deaths']/ df_table['Cases']).round(2)\n",
    "df_table['Continent'] = df_table['Country/Region'].map(mapping['map.continent'])\n",
    "df_table.head(5)"
   ]
  },
  {
   "cell_type": "code",
   "execution_count": 14,
   "id": "aboriginal-bulgaria",
   "metadata": {
    "execution": {
     "iopub.execute_input": "2021-03-31T12:04:11.679300Z",
     "iopub.status.busy": "2021-03-31T12:04:11.678736Z",
     "iopub.status.idle": "2021-03-31T12:04:11.681480Z",
     "shell.execute_reply": "2021-03-31T12:04:11.681011Z"
    },
    "papermill": {
     "duration": 0.041348,
     "end_time": "2021-03-31T12:04:11.681596",
     "exception": false,
     "start_time": "2021-03-31T12:04:11.640248",
     "status": "completed"
    },
    "tags": []
   },
   "outputs": [],
   "source": [
    "#hide\n",
    "#delete problematic countries from table\n",
    "df_table = df_table[~df_table['Country/Region'].isin(['Cape Verde', 'Cruise Ship', 'Kosovo'])]"
   ]
  },
  {
   "cell_type": "code",
   "execution_count": 15,
   "id": "fantastic-effect",
   "metadata": {
    "execution": {
     "iopub.execute_input": "2021-03-31T12:04:11.758683Z",
     "iopub.status.busy": "2021-03-31T12:04:11.755227Z",
     "iopub.status.idle": "2021-03-31T12:04:11.776520Z",
     "shell.execute_reply": "2021-03-31T12:04:11.776085Z"
    },
    "papermill": {
     "duration": 0.063326,
     "end_time": "2021-03-31T12:04:11.776641",
     "exception": false,
     "start_time": "2021-03-31T12:04:11.713315",
     "status": "completed"
    },
    "tags": []
   },
   "outputs": [
    {
     "data": {
      "text/html": [
       "<div>\n",
       "<style scoped>\n",
       "    .dataframe tbody tr th:only-of-type {\n",
       "        vertical-align: middle;\n",
       "    }\n",
       "\n",
       "    .dataframe tbody tr th {\n",
       "        vertical-align: top;\n",
       "    }\n",
       "\n",
       "    .dataframe thead th {\n",
       "        text-align: right;\n",
       "    }\n",
       "</style>\n",
       "<table border=\"1\" class=\"dataframe\">\n",
       "  <thead>\n",
       "    <tr style=\"text-align: right;\">\n",
       "      <th></th>\n",
       "      <th>Country/Region</th>\n",
       "      <th>Cases</th>\n",
       "      <th>Deaths</th>\n",
       "      <th>PCases</th>\n",
       "      <th>PDeaths</th>\n",
       "      <th>Cases (+)</th>\n",
       "      <th>Deaths (+)</th>\n",
       "      <th>Fatality Rate</th>\n",
       "      <th>Continent</th>\n",
       "    </tr>\n",
       "  </thead>\n",
       "  <tbody>\n",
       "    <tr>\n",
       "      <th>0</th>\n",
       "      <td>US</td>\n",
       "      <td>30393701</td>\n",
       "      <td>550996</td>\n",
       "      <td>30332461</td>\n",
       "      <td>550121</td>\n",
       "      <td>61240</td>\n",
       "      <td>875</td>\n",
       "      <td>1.8</td>\n",
       "      <td>North America</td>\n",
       "    </tr>\n",
       "    <tr>\n",
       "      <th>1</th>\n",
       "      <td>Brazil</td>\n",
       "      <td>12658109</td>\n",
       "      <td>317646</td>\n",
       "      <td>12573615</td>\n",
       "      <td>313866</td>\n",
       "      <td>84494</td>\n",
       "      <td>3780</td>\n",
       "      <td>2.5</td>\n",
       "      <td>South America</td>\n",
       "    </tr>\n",
       "    <tr>\n",
       "      <th>2</th>\n",
       "      <td>India</td>\n",
       "      <td>12149335</td>\n",
       "      <td>162468</td>\n",
       "      <td>12095855</td>\n",
       "      <td>162114</td>\n",
       "      <td>53480</td>\n",
       "      <td>354</td>\n",
       "      <td>1.3</td>\n",
       "      <td>Asia</td>\n",
       "    </tr>\n",
       "    <tr>\n",
       "      <th>3</th>\n",
       "      <td>France</td>\n",
       "      <td>4646014</td>\n",
       "      <td>95495</td>\n",
       "      <td>4615295</td>\n",
       "      <td>95114</td>\n",
       "      <td>30719</td>\n",
       "      <td>381</td>\n",
       "      <td>2.1</td>\n",
       "      <td>Europe</td>\n",
       "    </tr>\n",
       "    <tr>\n",
       "      <th>4</th>\n",
       "      <td>Russia</td>\n",
       "      <td>4486078</td>\n",
       "      <td>96817</td>\n",
       "      <td>4477916</td>\n",
       "      <td>96413</td>\n",
       "      <td>8162</td>\n",
       "      <td>404</td>\n",
       "      <td>2.2</td>\n",
       "      <td>Europe</td>\n",
       "    </tr>\n",
       "  </tbody>\n",
       "</table>\n",
       "</div>"
      ],
      "text/plain": [
       "  Country/Region     Cases  Deaths    PCases  PDeaths  Cases (+)  Deaths (+)  \\\n",
       "0             US  30393701  550996  30332461   550121      61240         875   \n",
       "1         Brazil  12658109  317646  12573615   313866      84494        3780   \n",
       "2          India  12149335  162468  12095855   162114      53480         354   \n",
       "3         France   4646014   95495   4615295    95114      30719         381   \n",
       "4         Russia   4486078   96817   4477916    96413       8162         404   \n",
       "\n",
       "   Fatality Rate      Continent  \n",
       "0            1.8  North America  \n",
       "1            2.5  South America  \n",
       "2            1.3           Asia  \n",
       "3            2.1         Europe  \n",
       "4            2.2         Europe  "
      ]
     },
     "execution_count": 15,
     "metadata": {},
     "output_type": "execute_result"
    }
   ],
   "source": [
    "#hide\n",
    "df_table = (pd.DataFrame(dict(Cases=dfc_cases, Deaths=dfc_deaths, PCases=dfp_cases, PDeaths=dfp_deaths))\n",
    "             .sort_values(by=['Cases', 'Deaths'], ascending=[False, False])\n",
    "             .reset_index())\n",
    "df_table.rename(columns={'index': 'Country/Region'}, inplace=True)\n",
    "for c in 'Cases, Deaths'.split(', '):\n",
    "    df_table[f'{c} (+)'] = (df_table[c] - df_table[f'P{c}']).clip(0)  # DATA BUG\n",
    "df_table['Fatality Rate'] = (100 * df_table['Deaths'] / df_table['Cases']).round(1)\n",
    "df_table['Continent'] = df_table['Country/Region'].map(mapping['map.continent'])\n",
    "df_table.head(5)"
   ]
  },
  {
   "cell_type": "code",
   "execution_count": 16,
   "id": "fewer-occasion",
   "metadata": {
    "execution": {
     "iopub.execute_input": "2021-03-31T12:04:11.847569Z",
     "iopub.status.busy": "2021-03-31T12:04:11.847007Z",
     "iopub.status.idle": "2021-03-31T12:04:11.850133Z",
     "shell.execute_reply": "2021-03-31T12:04:11.849676Z"
    },
    "papermill": {
     "duration": 0.040957,
     "end_time": "2021-03-31T12:04:11.850249",
     "exception": false,
     "start_time": "2021-03-31T12:04:11.809292",
     "status": "completed"
    },
    "tags": []
   },
   "outputs": [],
   "source": [
    "#hide\n",
    "#delete problematic countries from table\n",
    "df_table = df_table[~df_table['Country/Region'].isin(['Cape Verde', 'Cruise Ship', 'Kosovo'])]"
   ]
  },
  {
   "cell_type": "code",
   "execution_count": 17,
   "id": "related-center",
   "metadata": {
    "execution": {
     "iopub.execute_input": "2021-03-31T12:04:11.930385Z",
     "iopub.status.busy": "2021-03-31T12:04:11.929825Z",
     "iopub.status.idle": "2021-03-31T12:04:11.943466Z",
     "shell.execute_reply": "2021-03-31T12:04:11.942918Z"
    },
    "papermill": {
     "duration": 0.059867,
     "end_time": "2021-03-31T12:04:11.943585",
     "exception": false,
     "start_time": "2021-03-31T12:04:11.883718",
     "status": "completed"
    },
    "tags": []
   },
   "outputs": [],
   "source": [
    "#hide\n",
    "metrics = [df_table.columns[index] for index in [1,2,5,6]]\n",
    "# s_china = df_table[df_table['Country/Region'].eq('China')][metrics].sum().add_prefix('China ')\n",
    "s_us = df_table[df_table['Country/Region'].eq('US')][metrics].sum().add_prefix('US ')\n",
    "s_eu = df_table[df_table['Continent'].eq('Europe')][metrics].sum().add_prefix('EU ')\n",
    "s_ind = df_table[df_table['Country/Region'].eq('India')][metrics].sum().add_prefix('India ')\n",
    "summary = {'updated': pd.to_datetime(dt_today), 'since': pd.to_datetime(dt_yday)}\n",
    "summary = {'updated': pd.to_datetime(dt_today), 'since': pd.to_datetime(dt_yday)}\n",
    "summary = {**summary, **df_table[metrics].sum(), **s_ind, **s_us, **s_eu}"
   ]
  },
  {
   "cell_type": "code",
   "execution_count": 18,
   "id": "engaging-syndrome",
   "metadata": {
    "execution": {
     "iopub.execute_input": "2021-03-31T12:04:12.017866Z",
     "iopub.status.busy": "2021-03-31T12:04:12.017295Z",
     "iopub.status.idle": "2021-03-31T12:04:12.029168Z",
     "shell.execute_reply": "2021-03-31T12:04:12.029635Z"
    },
    "papermill": {
     "duration": 0.052001,
     "end_time": "2021-03-31T12:04:12.029779",
     "exception": false,
     "start_time": "2021-03-31T12:04:11.977778",
     "status": "completed"
    },
    "tags": []
   },
   "outputs": [],
   "source": [
    "#hide\n",
    "dft_ct_new_cases = dft_cases.groupby(COL_REGION)[dt_cols].sum().diff(axis=1).fillna(0).astype(int)"
   ]
  },
  {
   "cell_type": "code",
   "execution_count": 19,
   "id": "neutral-assignment",
   "metadata": {
    "execution": {
     "iopub.execute_input": "2021-03-31T12:04:12.103166Z",
     "iopub.status.busy": "2021-03-31T12:04:12.102592Z",
     "iopub.status.idle": "2021-03-31T12:04:12.104723Z",
     "shell.execute_reply": "2021-03-31T12:04:12.104229Z"
    },
    "papermill": {
     "duration": 0.041807,
     "end_time": "2021-03-31T12:04:12.104850",
     "exception": false,
     "start_time": "2021-03-31T12:04:12.063043",
     "status": "completed"
    },
    "tags": []
   },
   "outputs": [],
   "source": [
    "#hide\n",
    "everydaycases = dft_ct_new_cases.cumsum(axis=1)"
   ]
  },
  {
   "cell_type": "code",
   "execution_count": 20,
   "id": "parliamentary-calgary",
   "metadata": {
    "execution": {
     "iopub.execute_input": "2021-03-31T12:04:12.175008Z",
     "iopub.status.busy": "2021-03-31T12:04:12.174449Z",
     "iopub.status.idle": "2021-03-31T12:04:12.831967Z",
     "shell.execute_reply": "2021-03-31T12:04:12.831443Z"
    },
    "papermill": {
     "duration": 0.694021,
     "end_time": "2021-03-31T12:04:12.832105",
     "exception": false,
     "start_time": "2021-03-31T12:04:12.138084",
     "status": "completed"
    },
    "tags": []
   },
   "outputs": [],
   "source": [
    "#hide\n",
    "import pandas as pd\n",
    "import matplotlib.pyplot as plt\n",
    "import matplotlib.ticker as ticker\n",
    "import matplotlib.animation as animation\n",
    "from IPython.display import HTML"
   ]
  },
  {
   "cell_type": "code",
   "execution_count": 21,
   "id": "lasting-extraction",
   "metadata": {
    "execution": {
     "iopub.execute_input": "2021-03-31T12:04:12.904902Z",
     "iopub.status.busy": "2021-03-31T12:04:12.904321Z",
     "iopub.status.idle": "2021-03-31T12:04:12.909964Z",
     "shell.execute_reply": "2021-03-31T12:04:12.909501Z"
    },
    "papermill": {
     "duration": 0.044041,
     "end_time": "2021-03-31T12:04:12.910077",
     "exception": false,
     "start_time": "2021-03-31T12:04:12.866036",
     "status": "completed"
    },
    "tags": []
   },
   "outputs": [],
   "source": [
    "#hide\n",
    "t = everydaycases.stack()"
   ]
  },
  {
   "cell_type": "code",
   "execution_count": 22,
   "id": "premier-sleeve",
   "metadata": {
    "execution": {
     "iopub.execute_input": "2021-03-31T12:04:12.983027Z",
     "iopub.status.busy": "2021-03-31T12:04:12.982447Z",
     "iopub.status.idle": "2021-03-31T12:04:12.989959Z",
     "shell.execute_reply": "2021-03-31T12:04:12.989502Z"
    },
    "papermill": {
     "duration": 0.04686,
     "end_time": "2021-03-31T12:04:12.990081",
     "exception": false,
     "start_time": "2021-03-31T12:04:12.943221",
     "status": "completed"
    },
    "tags": []
   },
   "outputs": [],
   "source": [
    "#hide\n",
    "g = t.reset_index(['Country/Region'])"
   ]
  },
  {
   "cell_type": "code",
   "execution_count": 23,
   "id": "distributed-pittsburgh",
   "metadata": {
    "execution": {
     "iopub.execute_input": "2021-03-31T12:04:13.064866Z",
     "iopub.status.busy": "2021-03-31T12:04:13.064268Z",
     "iopub.status.idle": "2021-03-31T12:04:13.066485Z",
     "shell.execute_reply": "2021-03-31T12:04:13.065914Z"
    },
    "papermill": {
     "duration": 0.042265,
     "end_time": "2021-03-31T12:04:13.066606",
     "exception": false,
     "start_time": "2021-03-31T12:04:13.024341",
     "status": "completed"
    },
    "tags": []
   },
   "outputs": [],
   "source": [
    "#hide\n",
    "g.index.name = 'date'"
   ]
  },
  {
   "cell_type": "code",
   "execution_count": 24,
   "id": "naked-donor",
   "metadata": {
    "execution": {
     "iopub.execute_input": "2021-03-31T12:04:13.141231Z",
     "iopub.status.busy": "2021-03-31T12:04:13.140220Z",
     "iopub.status.idle": "2021-03-31T12:04:13.142320Z",
     "shell.execute_reply": "2021-03-31T12:04:13.143157Z"
    },
    "papermill": {
     "duration": 0.04181,
     "end_time": "2021-03-31T12:04:13.143381",
     "exception": false,
     "start_time": "2021-03-31T12:04:13.101571",
     "status": "completed"
    },
    "tags": []
   },
   "outputs": [],
   "source": [
    "# #hide\n",
    "# g = g.reset_index(['date'])"
   ]
  },
  {
   "cell_type": "code",
   "execution_count": 25,
   "id": "incomplete-mustang",
   "metadata": {
    "execution": {
     "iopub.execute_input": "2021-03-31T12:04:13.215962Z",
     "iopub.status.busy": "2021-03-31T12:04:13.215362Z",
     "iopub.status.idle": "2021-03-31T12:04:13.217310Z",
     "shell.execute_reply": "2021-03-31T12:04:13.217799Z"
    },
    "papermill": {
     "duration": 0.040152,
     "end_time": "2021-03-31T12:04:13.217934",
     "exception": false,
     "start_time": "2021-03-31T12:04:13.177782",
     "status": "completed"
    },
    "tags": []
   },
   "outputs": [],
   "source": [
    "#hide\n",
    "# g.head()"
   ]
  },
  {
   "cell_type": "code",
   "execution_count": 26,
   "id": "specific-kruger",
   "metadata": {
    "execution": {
     "iopub.execute_input": "2021-03-31T12:04:13.287889Z",
     "iopub.status.busy": "2021-03-31T12:04:13.287337Z",
     "iopub.status.idle": "2021-03-31T12:04:13.288996Z",
     "shell.execute_reply": "2021-03-31T12:04:13.289402Z"
    },
    "papermill": {
     "duration": 0.039018,
     "end_time": "2021-03-31T12:04:13.289532",
     "exception": false,
     "start_time": "2021-03-31T12:04:13.250514",
     "status": "completed"
    },
    "tags": []
   },
   "outputs": [],
   "source": [
    "#hide\n",
    "# g.columns = ['date','country','cases']"
   ]
  },
  {
   "cell_type": "code",
   "execution_count": 27,
   "id": "tender-conversion",
   "metadata": {
    "execution": {
     "iopub.execute_input": "2021-03-31T12:04:13.356855Z",
     "iopub.status.busy": "2021-03-31T12:04:13.356294Z",
     "iopub.status.idle": "2021-03-31T12:04:13.358226Z",
     "shell.execute_reply": "2021-03-31T12:04:13.358757Z"
    },
    "papermill": {
     "duration": 0.03851,
     "end_time": "2021-03-31T12:04:13.358880",
     "exception": false,
     "start_time": "2021-03-31T12:04:13.320370",
     "status": "completed"
    },
    "tags": []
   },
   "outputs": [],
   "source": [
    "#hide\n",
    "# g['continent'] = g.country"
   ]
  },
  {
   "cell_type": "code",
   "execution_count": 28,
   "id": "substantial-wilderness",
   "metadata": {
    "execution": {
     "iopub.execute_input": "2021-03-31T12:04:13.427636Z",
     "iopub.status.busy": "2021-03-31T12:04:13.427102Z",
     "iopub.status.idle": "2021-03-31T12:04:13.429036Z",
     "shell.execute_reply": "2021-03-31T12:04:13.429440Z"
    },
    "papermill": {
     "duration": 0.03805,
     "end_time": "2021-03-31T12:04:13.429568",
     "exception": false,
     "start_time": "2021-03-31T12:04:13.391518",
     "status": "completed"
    },
    "tags": []
   },
   "outputs": [],
   "source": [
    "#hide\n",
    "# cols = list(g.columns.values)"
   ]
  },
  {
   "cell_type": "code",
   "execution_count": 29,
   "id": "solved-farming",
   "metadata": {
    "execution": {
     "iopub.execute_input": "2021-03-31T12:04:13.498532Z",
     "iopub.status.busy": "2021-03-31T12:04:13.497951Z",
     "iopub.status.idle": "2021-03-31T12:04:13.500347Z",
     "shell.execute_reply": "2021-03-31T12:04:13.499775Z"
    },
    "papermill": {
     "duration": 0.039371,
     "end_time": "2021-03-31T12:04:13.500467",
     "exception": false,
     "start_time": "2021-03-31T12:04:13.461096",
     "status": "completed"
    },
    "tags": []
   },
   "outputs": [],
   "source": [
    "#hide\n",
    "# cols.insert(0, cols.pop())"
   ]
  },
  {
   "cell_type": "code",
   "execution_count": 30,
   "id": "executed-adoption",
   "metadata": {
    "execution": {
     "iopub.execute_input": "2021-03-31T12:04:13.567715Z",
     "iopub.status.busy": "2021-03-31T12:04:13.567191Z",
     "iopub.status.idle": "2021-03-31T12:04:13.569577Z",
     "shell.execute_reply": "2021-03-31T12:04:13.570088Z"
    },
    "papermill": {
     "duration": 0.038017,
     "end_time": "2021-03-31T12:04:13.570214",
     "exception": false,
     "start_time": "2021-03-31T12:04:13.532197",
     "status": "completed"
    },
    "tags": []
   },
   "outputs": [],
   "source": [
    "#hide\n",
    "# g = g[cols]"
   ]
  },
  {
   "cell_type": "code",
   "execution_count": 31,
   "id": "subject-dublin",
   "metadata": {
    "execution": {
     "iopub.execute_input": "2021-03-31T12:04:13.639023Z",
     "iopub.status.busy": "2021-03-31T12:04:13.638425Z",
     "iopub.status.idle": "2021-03-31T12:04:13.640660Z",
     "shell.execute_reply": "2021-03-31T12:04:13.641080Z"
    },
    "papermill": {
     "duration": 0.039991,
     "end_time": "2021-03-31T12:04:13.641194",
     "exception": false,
     "start_time": "2021-03-31T12:04:13.601203",
     "status": "completed"
    },
    "tags": []
   },
   "outputs": [],
   "source": [
    "#hide\n",
    "# g['continent'] = g['continent'].map(mapping['map.continent'])"
   ]
  },
  {
   "cell_type": "code",
   "execution_count": 32,
   "id": "freelance-scout",
   "metadata": {
    "execution": {
     "iopub.execute_input": "2021-03-31T12:04:13.709388Z",
     "iopub.status.busy": "2021-03-31T12:04:13.708802Z",
     "iopub.status.idle": "2021-03-31T12:04:13.711070Z",
     "shell.execute_reply": "2021-03-31T12:04:13.711570Z"
    },
    "papermill": {
     "duration": 0.038376,
     "end_time": "2021-03-31T12:04:13.711696",
     "exception": false,
     "start_time": "2021-03-31T12:04:13.673320",
     "status": "completed"
    },
    "tags": []
   },
   "outputs": [],
   "source": [
    "#hide\n",
    "# g.head()"
   ]
  },
  {
   "cell_type": "code",
   "execution_count": 33,
   "id": "limited-engine",
   "metadata": {
    "execution": {
     "iopub.execute_input": "2021-03-31T12:04:13.782718Z",
     "iopub.status.busy": "2021-03-31T12:04:13.782180Z",
     "iopub.status.idle": "2021-03-31T12:04:13.784011Z",
     "shell.execute_reply": "2021-03-31T12:04:13.784441Z"
    },
    "papermill": {
     "duration": 0.039853,
     "end_time": "2021-03-31T12:04:13.784570",
     "exception": false,
     "start_time": "2021-03-31T12:04:13.744717",
     "status": "completed"
    },
    "tags": []
   },
   "outputs": [],
   "source": [
    "# hide\n",
    "# g['date'] = g['date'].astype('datetime64[ns]')"
   ]
  },
  {
   "cell_type": "code",
   "execution_count": 34,
   "id": "sophisticated-supervisor",
   "metadata": {
    "execution": {
     "iopub.execute_input": "2021-03-31T12:04:13.853262Z",
     "iopub.status.busy": "2021-03-31T12:04:13.852731Z",
     "iopub.status.idle": "2021-03-31T12:04:13.855296Z",
     "shell.execute_reply": "2021-03-31T12:04:13.855706Z"
    },
    "papermill": {
     "duration": 0.039218,
     "end_time": "2021-03-31T12:04:13.855837",
     "exception": false,
     "start_time": "2021-03-31T12:04:13.816619",
     "status": "completed"
    },
    "tags": []
   },
   "outputs": [],
   "source": [
    "#hide\n",
    "# g['date'] = g.date.dt.dayofyear"
   ]
  },
  {
   "cell_type": "code",
   "execution_count": 35,
   "id": "inside-dubai",
   "metadata": {
    "execution": {
     "iopub.execute_input": "2021-03-31T12:04:13.923155Z",
     "iopub.status.busy": "2021-03-31T12:04:13.922601Z",
     "iopub.status.idle": "2021-03-31T12:04:13.924768Z",
     "shell.execute_reply": "2021-03-31T12:04:13.925225Z"
    },
    "papermill": {
     "duration": 0.038199,
     "end_time": "2021-03-31T12:04:13.925349",
     "exception": false,
     "start_time": "2021-03-31T12:04:13.887150",
     "status": "completed"
    },
    "tags": []
   },
   "outputs": [],
   "source": [
    "#hide\n",
    "# g = g.rename(columns= {'continent':'group','country':'name','cases':'value'})"
   ]
  },
  {
   "cell_type": "code",
   "execution_count": 36,
   "id": "fleet-motorcycle",
   "metadata": {
    "execution": {
     "iopub.execute_input": "2021-03-31T12:04:13.996349Z",
     "iopub.status.busy": "2021-03-31T12:04:13.995755Z",
     "iopub.status.idle": "2021-03-31T12:04:13.998050Z",
     "shell.execute_reply": "2021-03-31T12:04:13.997568Z"
    },
    "papermill": {
     "duration": 0.04115,
     "end_time": "2021-03-31T12:04:13.998167",
     "exception": false,
     "start_time": "2021-03-31T12:04:13.957017",
     "status": "completed"
    },
    "tags": []
   },
   "outputs": [],
   "source": [
    "#hide\n",
    "# cols = ['name','group','day','value']"
   ]
  },
  {
   "cell_type": "code",
   "execution_count": 37,
   "id": "continued-sleeping",
   "metadata": {
    "execution": {
     "iopub.execute_input": "2021-03-31T12:04:14.069281Z",
     "iopub.status.busy": "2021-03-31T12:04:14.068699Z",
     "iopub.status.idle": "2021-03-31T12:04:14.071485Z",
     "shell.execute_reply": "2021-03-31T12:04:14.071993Z"
    },
    "papermill": {
     "duration": 0.041597,
     "end_time": "2021-03-31T12:04:14.072122",
     "exception": false,
     "start_time": "2021-03-31T12:04:14.030525",
     "status": "completed"
    },
    "tags": []
   },
   "outputs": [],
   "source": [
    "#hide\n",
    "# g.rename(columns= {'date':'day'},inplace = True)"
   ]
  },
  {
   "cell_type": "code",
   "execution_count": 38,
   "id": "major-fight",
   "metadata": {
    "execution": {
     "iopub.execute_input": "2021-03-31T12:04:14.141289Z",
     "iopub.status.busy": "2021-03-31T12:04:14.140761Z",
     "iopub.status.idle": "2021-03-31T12:04:14.143036Z",
     "shell.execute_reply": "2021-03-31T12:04:14.143575Z"
    },
    "papermill": {
     "duration": 0.039861,
     "end_time": "2021-03-31T12:04:14.143702",
     "exception": false,
     "start_time": "2021-03-31T12:04:14.103841",
     "status": "completed"
    },
    "tags": []
   },
   "outputs": [],
   "source": [
    "#hide\n",
    "# g = g[cols]"
   ]
  },
  {
   "cell_type": "code",
   "execution_count": 39,
   "id": "structured-mobile",
   "metadata": {
    "execution": {
     "iopub.execute_input": "2021-03-31T12:04:14.213110Z",
     "iopub.status.busy": "2021-03-31T12:04:14.212163Z",
     "iopub.status.idle": "2021-03-31T12:04:14.214094Z",
     "shell.execute_reply": "2021-03-31T12:04:14.214839Z"
    },
    "papermill": {
     "duration": 0.039222,
     "end_time": "2021-03-31T12:04:14.215046",
     "exception": false,
     "start_time": "2021-03-31T12:04:14.175824",
     "status": "completed"
    },
    "tags": []
   },
   "outputs": [],
   "source": [
    "# #hide\n",
    "# g = g[g.group.notna()]"
   ]
  },
  {
   "cell_type": "code",
   "execution_count": 40,
   "id": "determined-closing",
   "metadata": {
    "execution": {
     "iopub.execute_input": "2021-03-31T12:04:14.287900Z",
     "iopub.status.busy": "2021-03-31T12:04:14.286798Z",
     "iopub.status.idle": "2021-03-31T12:04:14.289014Z",
     "shell.execute_reply": "2021-03-31T12:04:14.289503Z"
    },
    "papermill": {
     "duration": 0.040474,
     "end_time": "2021-03-31T12:04:14.289640",
     "exception": false,
     "start_time": "2021-03-31T12:04:14.249166",
     "status": "completed"
    },
    "tags": []
   },
   "outputs": [],
   "source": [
    "# #hide\n",
    "# colors = dict(zip(\n",
    "#     [\"Oceania\", \"Europe\", \"Asia\", \"South America\", \"Middle East\", \"North America\", \"Africa\"],\n",
    "#     [\"#adb0ff\", \"#ffb3ff\", \"#90d595\", \"#e48381\", \"#aafbff\", \"#f7bb5f\", \"#eafb50\"]\n",
    "# ))\n",
    "# group_lk = g.set_index('name')['group'].to_dict()"
   ]
  },
  {
   "cell_type": "code",
   "execution_count": null,
   "id": "gross-drinking",
   "metadata": {
    "papermill": {
     "duration": 0.033469,
     "end_time": "2021-03-31T12:04:14.356791",
     "exception": false,
     "start_time": "2021-03-31T12:04:14.323322",
     "status": "completed"
    },
    "tags": []
   },
   "outputs": [],
   "source": []
  },
  {
   "cell_type": "code",
   "execution_count": 41,
   "id": "subject-macintosh",
   "metadata": {
    "execution": {
     "iopub.execute_input": "2021-03-31T12:04:14.426879Z",
     "iopub.status.busy": "2021-03-31T12:04:14.426296Z",
     "iopub.status.idle": "2021-03-31T12:04:14.428672Z",
     "shell.execute_reply": "2021-03-31T12:04:14.429186Z"
    },
    "papermill": {
     "duration": 0.040277,
     "end_time": "2021-03-31T12:04:14.429317",
     "exception": false,
     "start_time": "2021-03-31T12:04:14.389040",
     "status": "completed"
    },
    "tags": []
   },
   "outputs": [],
   "source": [
    "# #hide\n",
    "# fig, ax = plt.subplots(figsize=(15, 8))\n",
    "\n",
    "# def draw_barchart(current_day):\n",
    "#     dff = g[g['day'].eq(current_day)].sort_values(by='value', ascending=True).tail(10)\n",
    "#     ax.clear()\n",
    "#     ax.barh(dff['name'], dff['value'], color=[colors[group_lk[x]] for x in dff['name']])\n",
    "#     dx = dff['value'].max() / 200\n",
    "    \n",
    "#     for i, (value, name) in enumerate(zip(dff['value'], dff['name'])):\n",
    "#         ax.text(value-dx, i,     name,           size=14, weight=600, ha='right', va='bottom')\n",
    "#         ax.text(value-dx, i-.25, group_lk[name], size=10, color='#444444', ha='right', va='baseline')\n",
    "#         ax.text(value+dx, i,     f'{value:,.0f}',  size=14, ha='left',  va='center')\n",
    "#     ax.text(1, 0.4, current_day, transform=ax.transAxes, color='#777777', size=46, ha='right', weight=800)\n",
    "#     ax.text(0, 1.06, 'Population (thousands)', transform=ax.transAxes, size=12, color='#777777')\n",
    "#     ax.xaxis.set_major_formatter(ticker.StrMethodFormatter('{x:,.0f}'))\n",
    "#     ax.xaxis.set_ticks_position('top')\n",
    "#     ax.tick_params(axis='x', colors='#777777', labelsize=12)\n",
    "#     ax.set_yticks([])\n",
    "#     ax.margins(0, 0.01)\n",
    "#     ax.grid(which='major', axis='x', linestyle='-')\n",
    "#     ax.set_axisbelow(True)\n",
    "    \n",
    "#     ax.text(0, 1.15, 'Coronavirus',\n",
    "#             transform=ax.transAxes, size=24, weight=600, ha='left', va='top')\n",
    "# #     ax.text(1, 0, 'by @pratapvardhan; credit @jburnmurdoch', transform=ax.transAxes, color='#777777', ha='right',\n",
    "# #             bbox=dict(facecolor='white', alpha=0.8, edgecolor='white'))\n",
    "#     plt.box(False)"
   ]
  },
  {
   "cell_type": "code",
   "execution_count": 42,
   "id": "sexual-wages",
   "metadata": {
    "execution": {
     "iopub.execute_input": "2021-03-31T12:04:14.496938Z",
     "iopub.status.busy": "2021-03-31T12:04:14.496350Z",
     "iopub.status.idle": "2021-03-31T12:04:14.498156Z",
     "shell.execute_reply": "2021-03-31T12:04:14.498643Z"
    },
    "papermill": {
     "duration": 0.037161,
     "end_time": "2021-03-31T12:04:14.498780",
     "exception": false,
     "start_time": "2021-03-31T12:04:14.461619",
     "status": "completed"
    },
    "tags": []
   },
   "outputs": [],
   "source": [
    "# #hide_input\n",
    "# fig, ax = plt.subplots(figsize=(15, 8))\n",
    "# animator = animation.FuncAnimation(fig, draw_barchart, frames=range(g.day.values.min(), g.day.values.max()))\n",
    "# HTML(animator.to_jshtml())\n",
    "# # or use animator.to_html5_video() or animator.save() "
   ]
  },
  {
   "cell_type": "code",
   "execution_count": null,
   "id": "australian-container",
   "metadata": {
    "papermill": {
     "duration": 0.030901,
     "end_time": "2021-03-31T12:04:14.561697",
     "exception": false,
     "start_time": "2021-03-31T12:04:14.530796",
     "status": "completed"
    },
    "tags": []
   },
   "outputs": [],
   "source": []
  },
  {
   "cell_type": "code",
   "execution_count": null,
   "id": "mediterranean-pontiac",
   "metadata": {
    "papermill": {
     "duration": 0.03144,
     "end_time": "2021-03-31T12:04:14.625485",
     "exception": false,
     "start_time": "2021-03-31T12:04:14.594045",
     "status": "completed"
    },
    "tags": []
   },
   "outputs": [],
   "source": []
  },
  {
   "cell_type": "code",
   "execution_count": null,
   "id": "aging-legislature",
   "metadata": {
    "papermill": {
     "duration": 0.032048,
     "end_time": "2021-03-31T12:04:14.689943",
     "exception": false,
     "start_time": "2021-03-31T12:04:14.657895",
     "status": "completed"
    },
    "tags": []
   },
   "outputs": [],
   "source": []
  }
 ],
 "metadata": {
  "kernelspec": {
   "display_name": "Python 3",
   "language": "python",
   "name": "python3"
  },
  "language_info": {
   "codemirror_mode": {
    "name": "ipython",
    "version": 3
   },
   "file_extension": ".py",
   "mimetype": "text/x-python",
   "name": "python",
   "nbconvert_exporter": "python",
   "pygments_lexer": "ipython3",
   "version": "3.6.13"
  },
  "papermill": {
   "duration": 6.182254,
   "end_time": "2021-03-31T12:04:15.031427",
   "environment_variables": {},
   "exception": null,
   "input_path": "2020-03-21-covid19exp.ipynb",
   "output_path": "2020-03-21-covid19exp.ipynb",
   "parameters": {},
   "start_time": "2021-03-31T12:04:08.849173",
   "version": "2.0.0"
  }
 },
 "nbformat": 4,
 "nbformat_minor": 5
}