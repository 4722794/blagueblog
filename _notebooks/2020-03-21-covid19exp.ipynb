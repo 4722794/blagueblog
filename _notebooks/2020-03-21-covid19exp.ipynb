{
 "cells": [
  {
   "cell_type": "markdown",
   "metadata": {
    "papermill": {
     "duration": 0.032474,
     "end_time": "2020-11-30T00:11:58.496029",
     "exception": false,
     "start_time": "2020-11-30T00:11:58.463555",
     "status": "completed"
    },
    "tags": []
   },
   "source": [
    "# COVID-19 Case Race\n",
    "> A race chart to see rising cases around the world\n",
    "\n",
    "- author: Hargun Oberoi\n",
    "- image: images/covid-overview.png\n",
    "- hide: false\n",
    "- badges: false"
   ]
  },
  {
   "cell_type": "code",
   "execution_count": 1,
   "metadata": {
    "execution": {
     "iopub.execute_input": "2020-11-30T00:11:58.559767Z",
     "iopub.status.busy": "2020-11-30T00:11:58.559206Z",
     "iopub.status.idle": "2020-11-30T00:11:58.884270Z",
     "shell.execute_reply": "2020-11-30T00:11:58.883481Z"
    },
    "papermill": {
     "duration": 0.358383,
     "end_time": "2020-11-30T00:11:58.884448",
     "exception": false,
     "start_time": "2020-11-30T00:11:58.526065",
     "status": "completed"
    },
    "tags": []
   },
   "outputs": [],
   "source": [
    "#hide\n",
    "import numpy as np\n",
    "import pandas as pd\n",
    "from jinja2 import Template\n",
    "from IPython.display import HTML"
   ]
  },
  {
   "cell_type": "code",
   "execution_count": 2,
   "metadata": {
    "execution": {
     "iopub.execute_input": "2020-11-30T00:11:58.950980Z",
     "iopub.status.busy": "2020-11-30T00:11:58.950354Z",
     "iopub.status.idle": "2020-11-30T00:11:58.952918Z",
     "shell.execute_reply": "2020-11-30T00:11:58.952267Z"
    },
    "papermill": {
     "duration": 0.037666,
     "end_time": "2020-11-30T00:11:58.953132",
     "exception": false,
     "start_time": "2020-11-30T00:11:58.915466",
     "status": "completed"
    },
    "tags": []
   },
   "outputs": [],
   "source": [
    "#hide\n",
    "\n",
    "# FETCH\n",
    "base_url = 'https://raw.githubusercontent.com/pratapvardhan/notebooks/master/covid19/'\n",
    "paths = {\n",
    "    'mapping': base_url + 'mapping_countries.csv',\n",
    "    'overview': base_url + 'overview.tpl'\n",
    "}"
   ]
  },
  {
   "cell_type": "code",
   "execution_count": 3,
   "metadata": {
    "execution": {
     "iopub.execute_input": "2020-11-30T00:11:59.026604Z",
     "iopub.status.busy": "2020-11-30T00:11:59.025958Z",
     "iopub.status.idle": "2020-11-30T00:11:59.029645Z",
     "shell.execute_reply": "2020-11-30T00:11:59.028923Z"
    },
    "papermill": {
     "duration": 0.044955,
     "end_time": "2020-11-30T00:11:59.029807",
     "exception": false,
     "start_time": "2020-11-30T00:11:58.984852",
     "status": "completed"
    },
    "tags": []
   },
   "outputs": [
    {
     "data": {
      "text/plain": [
       "'https://raw.githubusercontent.com/pratapvardhan/notebooks/master/covid19/mapping_countries.csv'"
      ]
     },
     "execution_count": 3,
     "metadata": {},
     "output_type": "execute_result"
    }
   ],
   "source": [
    "#hide\n",
    "paths['mapping']"
   ]
  },
  {
   "cell_type": "code",
   "execution_count": 4,
   "metadata": {
    "execution": {
     "iopub.execute_input": "2020-11-30T00:11:59.101545Z",
     "iopub.status.busy": "2020-11-30T00:11:59.100861Z",
     "iopub.status.idle": "2020-11-30T00:11:59.103844Z",
     "shell.execute_reply": "2020-11-30T00:11:59.103295Z"
    },
    "papermill": {
     "duration": 0.042389,
     "end_time": "2020-11-30T00:11:59.103998",
     "exception": false,
     "start_time": "2020-11-30T00:11:59.061609",
     "status": "completed"
    },
    "tags": []
   },
   "outputs": [],
   "source": [
    "#hide\n",
    "def get_mappings(url):\n",
    "    df = pd.read_csv(url)\n",
    "    return {\n",
    "        'df': df,\n",
    "        'replace.country': dict(df.dropna(subset=['Name']).set_index('Country')['Name']),\n",
    "        'map.continent': dict(df.set_index('Name')['Continent'])\n",
    "    }"
   ]
  },
  {
   "cell_type": "code",
   "execution_count": 5,
   "metadata": {
    "execution": {
     "iopub.execute_input": "2020-11-30T00:11:59.172860Z",
     "iopub.status.busy": "2020-11-30T00:11:59.172128Z",
     "iopub.status.idle": "2020-11-30T00:11:59.250347Z",
     "shell.execute_reply": "2020-11-30T00:11:59.250795Z"
    },
    "papermill": {
     "duration": 0.11629,
     "end_time": "2020-11-30T00:11:59.250986",
     "exception": false,
     "start_time": "2020-11-30T00:11:59.134696",
     "status": "completed"
    },
    "tags": []
   },
   "outputs": [],
   "source": [
    "#hide\n",
    "mapping = get_mappings(paths['mapping'])"
   ]
  },
  {
   "cell_type": "code",
   "execution_count": 6,
   "metadata": {
    "execution": {
     "iopub.execute_input": "2020-11-30T00:11:59.323849Z",
     "iopub.status.busy": "2020-11-30T00:11:59.322976Z",
     "iopub.status.idle": "2020-11-30T00:11:59.328407Z",
     "shell.execute_reply": "2020-11-30T00:11:59.328987Z"
    },
    "papermill": {
     "duration": 0.046608,
     "end_time": "2020-11-30T00:11:59.329178",
     "exception": false,
     "start_time": "2020-11-30T00:11:59.282570",
     "status": "completed"
    },
    "tags": []
   },
   "outputs": [],
   "source": [
    "#hide\n",
    "def get_template(path):\n",
    "    from urllib.parse import urlparse\n",
    "    if bool(urlparse(path).netloc):\n",
    "        from urllib.request import urlopen\n",
    "        return urlopen(path).read().decode('utf8')\n",
    "    return open(path).read()"
   ]
  },
  {
   "cell_type": "code",
   "execution_count": 7,
   "metadata": {
    "execution": {
     "iopub.execute_input": "2020-11-30T00:11:59.407110Z",
     "iopub.status.busy": "2020-11-30T00:11:59.406429Z",
     "iopub.status.idle": "2020-11-30T00:11:59.408929Z",
     "shell.execute_reply": "2020-11-30T00:11:59.408251Z"
    },
    "papermill": {
     "duration": 0.050829,
     "end_time": "2020-11-30T00:11:59.409178",
     "exception": false,
     "start_time": "2020-11-30T00:11:59.358349",
     "status": "completed"
    },
    "tags": []
   },
   "outputs": [],
   "source": [
    "#hide\n",
    "def get_frame(name):\n",
    "    url = (\n",
    "        'https://raw.githubusercontent.com/CSSEGISandData/COVID-19/master/csse_covid_19_data/'\n",
    "        f'csse_covid_19_time_series/time_series_covid19_{name}_global.csv')\n",
    "    df = pd.read_csv(url)\n",
    "    # rename countries\n",
    "    df['Country/Region'] = df['Country/Region'].replace(mapping['replace.country'])\n",
    "    return df"
   ]
  },
  {
   "cell_type": "code",
   "execution_count": 8,
   "metadata": {
    "execution": {
     "iopub.execute_input": "2020-11-30T00:11:59.477313Z",
     "iopub.status.busy": "2020-11-30T00:11:59.476726Z",
     "iopub.status.idle": "2020-11-30T00:11:59.478615Z",
     "shell.execute_reply": "2020-11-30T00:11:59.479308Z"
    },
    "papermill": {
     "duration": 0.038891,
     "end_time": "2020-11-30T00:11:59.479440",
     "exception": false,
     "start_time": "2020-11-30T00:11:59.440549",
     "status": "completed"
    },
    "tags": []
   },
   "outputs": [],
   "source": [
    "#hide\n",
    "def get_dates(df):\n",
    "    dt_cols = df.columns[~df.columns.isin(['Province/State', 'Country/Region', 'Lat', 'Long'])]\n",
    "    LAST_DATE_I = -1\n",
    "    # sometimes last column may be empty, then go backwards\n",
    "    for i in range(-1, -len(dt_cols), -1):\n",
    "        if not df[dt_cols[i]].fillna(0).eq(0).all():\n",
    "            LAST_DATE_I = i\n",
    "            break\n",
    "    return LAST_DATE_I, dt_cols"
   ]
  },
  {
   "cell_type": "code",
   "execution_count": 9,
   "metadata": {
    "execution": {
     "iopub.execute_input": "2020-11-30T00:11:59.543244Z",
     "iopub.status.busy": "2020-11-30T00:11:59.542542Z",
     "iopub.status.idle": "2020-11-30T00:12:00.020579Z",
     "shell.execute_reply": "2020-11-30T00:12:00.021030Z"
    },
    "papermill": {
     "duration": 0.513311,
     "end_time": "2020-11-30T00:12:00.021189",
     "exception": false,
     "start_time": "2020-11-30T00:11:59.507878",
     "status": "completed"
    },
    "tags": []
   },
   "outputs": [],
   "source": [
    "#hide\n",
    "COL_REGION = 'Country/Region'\n",
    "# Confirmed, Recovered, Deaths\n",
    "df = get_frame('confirmed')\n",
    "# dft_: timeseries, dfc_: today country agg\n",
    "dft_cases = df\n",
    "dft_deaths = get_frame('deaths')\n",
    "dft_recovered = get_frame('recovered')\n",
    "LAST_DATE_I, dt_cols = get_dates(df)"
   ]
  },
  {
   "cell_type": "code",
   "execution_count": 10,
   "metadata": {
    "execution": {
     "iopub.execute_input": "2020-11-30T00:12:00.092685Z",
     "iopub.status.busy": "2020-11-30T00:12:00.092009Z",
     "iopub.status.idle": "2020-11-30T00:12:00.094680Z",
     "shell.execute_reply": "2020-11-30T00:12:00.094141Z"
    },
    "papermill": {
     "duration": 0.040265,
     "end_time": "2020-11-30T00:12:00.094802",
     "exception": false,
     "start_time": "2020-11-30T00:12:00.054537",
     "status": "completed"
    },
    "tags": []
   },
   "outputs": [],
   "source": [
    "#hide\n",
    "LAST_DATE_I, dt_cols = get_dates(df)\n",
    "dt_today =dt_cols[LAST_DATE_I]\n",
    "# dt_5day = dt_cols[LAST_DATE_I - 5]\n",
    "dt_yday = dt_cols[LAST_DATE_I - 1]"
   ]
  },
  {
   "cell_type": "code",
   "execution_count": 11,
   "metadata": {
    "execution": {
     "iopub.execute_input": "2020-11-30T00:12:00.165644Z",
     "iopub.status.busy": "2020-11-30T00:12:00.164997Z",
     "iopub.status.idle": "2020-11-30T00:12:00.172478Z",
     "shell.execute_reply": "2020-11-30T00:12:00.171955Z"
    },
    "papermill": {
     "duration": 0.044334,
     "end_time": "2020-11-30T00:12:00.172604",
     "exception": false,
     "start_time": "2020-11-30T00:12:00.128270",
     "status": "completed"
    },
    "tags": []
   },
   "outputs": [],
   "source": [
    "#hide\n",
    "dfc_cases = dft_cases.groupby(COL_REGION)[dt_today].sum()\n",
    "dfc_deaths = dft_deaths.groupby(COL_REGION)[dt_today].sum()\n",
    "# dfp_cases = dft_cases.groupby(COL_REGION)[dt_5day].sum()\n",
    "# dfp_deaths = dft_deaths.groupby(COL_REGION)[dt_5day].sum()\n",
    "dfp_cases = dft_cases.groupby(COL_REGION)[dt_yday].sum()\n",
    "dfp_deaths = dft_deaths.groupby(COL_REGION)[dt_yday].sum()"
   ]
  },
  {
   "cell_type": "code",
   "execution_count": 12,
   "metadata": {
    "execution": {
     "iopub.execute_input": "2020-11-30T00:12:00.237226Z",
     "iopub.status.busy": "2020-11-30T00:12:00.236680Z",
     "iopub.status.idle": "2020-11-30T00:12:00.241474Z",
     "shell.execute_reply": "2020-11-30T00:12:00.242098Z"
    },
    "papermill": {
     "duration": 0.040939,
     "end_time": "2020-11-30T00:12:00.242222",
     "exception": false,
     "start_time": "2020-11-30T00:12:00.201283",
     "status": "completed"
    },
    "tags": []
   },
   "outputs": [],
   "source": [
    "#hide\n",
    "df_table = (pd.DataFrame(dict(Cases = dfc_cases, Deaths = dfc_deaths, PCases = dfp_cases, PDeaths = dfp_deaths))\n",
    "            .sort_values(by = ['Cases','Deaths'], ascending = [False, False])\n",
    "            .reset_index())"
   ]
  },
  {
   "cell_type": "code",
   "execution_count": 13,
   "metadata": {
    "execution": {
     "iopub.execute_input": "2020-11-30T00:12:00.319730Z",
     "iopub.status.busy": "2020-11-30T00:12:00.319179Z",
     "iopub.status.idle": "2020-11-30T00:12:00.327530Z",
     "shell.execute_reply": "2020-11-30T00:12:00.328028Z"
    },
    "papermill": {
     "duration": 0.057269,
     "end_time": "2020-11-30T00:12:00.328161",
     "exception": false,
     "start_time": "2020-11-30T00:12:00.270892",
     "status": "completed"
    },
    "tags": []
   },
   "outputs": [
    {
     "data": {
      "text/html": [
       "<div>\n",
       "<style scoped>\n",
       "    .dataframe tbody tr th:only-of-type {\n",
       "        vertical-align: middle;\n",
       "    }\n",
       "\n",
       "    .dataframe tbody tr th {\n",
       "        vertical-align: top;\n",
       "    }\n",
       "\n",
       "    .dataframe thead th {\n",
       "        text-align: right;\n",
       "    }\n",
       "</style>\n",
       "<table border=\"1\" class=\"dataframe\">\n",
       "  <thead>\n",
       "    <tr style=\"text-align: right;\">\n",
       "      <th></th>\n",
       "      <th>Country/Region</th>\n",
       "      <th>Cases</th>\n",
       "      <th>Deaths</th>\n",
       "      <th>PCases</th>\n",
       "      <th>PDeaths</th>\n",
       "      <th>Cases (+)</th>\n",
       "      <th>Deaths (+)</th>\n",
       "      <th>Fatality Rate</th>\n",
       "      <th>Continent</th>\n",
       "    </tr>\n",
       "  </thead>\n",
       "  <tbody>\n",
       "    <tr>\n",
       "      <th>0</th>\n",
       "      <td>US</td>\n",
       "      <td>13244417</td>\n",
       "      <td>266047</td>\n",
       "      <td>13088821</td>\n",
       "      <td>264858</td>\n",
       "      <td>155596</td>\n",
       "      <td>1189</td>\n",
       "      <td>2.01</td>\n",
       "      <td>North America</td>\n",
       "    </tr>\n",
       "    <tr>\n",
       "      <th>1</th>\n",
       "      <td>India</td>\n",
       "      <td>9392919</td>\n",
       "      <td>136696</td>\n",
       "      <td>9351109</td>\n",
       "      <td>136200</td>\n",
       "      <td>41810</td>\n",
       "      <td>496</td>\n",
       "      <td>1.46</td>\n",
       "      <td>Asia</td>\n",
       "    </tr>\n",
       "    <tr>\n",
       "      <th>2</th>\n",
       "      <td>Brazil</td>\n",
       "      <td>6290272</td>\n",
       "      <td>172561</td>\n",
       "      <td>6238350</td>\n",
       "      <td>171974</td>\n",
       "      <td>51922</td>\n",
       "      <td>587</td>\n",
       "      <td>2.74</td>\n",
       "      <td>South America</td>\n",
       "    </tr>\n",
       "    <tr>\n",
       "      <th>3</th>\n",
       "      <td>France</td>\n",
       "      <td>2260789</td>\n",
       "      <td>52212</td>\n",
       "      <td>2248209</td>\n",
       "      <td>51999</td>\n",
       "      <td>12580</td>\n",
       "      <td>213</td>\n",
       "      <td>2.31</td>\n",
       "      <td>Europe</td>\n",
       "    </tr>\n",
       "    <tr>\n",
       "      <th>4</th>\n",
       "      <td>Russia</td>\n",
       "      <td>2223500</td>\n",
       "      <td>38676</td>\n",
       "      <td>2196691</td>\n",
       "      <td>38175</td>\n",
       "      <td>26809</td>\n",
       "      <td>501</td>\n",
       "      <td>1.74</td>\n",
       "      <td>Europe</td>\n",
       "    </tr>\n",
       "  </tbody>\n",
       "</table>\n",
       "</div>"
      ],
      "text/plain": [
       "  Country/Region     Cases  Deaths    PCases  PDeaths  Cases (+)  Deaths (+)  \\\n",
       "0             US  13244417  266047  13088821   264858     155596        1189   \n",
       "1          India   9392919  136696   9351109   136200      41810         496   \n",
       "2         Brazil   6290272  172561   6238350   171974      51922         587   \n",
       "3         France   2260789   52212   2248209    51999      12580         213   \n",
       "4         Russia   2223500   38676   2196691    38175      26809         501   \n",
       "\n",
       "   Fatality Rate      Continent  \n",
       "0           2.01  North America  \n",
       "1           1.46           Asia  \n",
       "2           2.74  South America  \n",
       "3           2.31         Europe  \n",
       "4           1.74         Europe  "
      ]
     },
     "execution_count": 13,
     "metadata": {},
     "output_type": "execute_result"
    }
   ],
   "source": [
    "#hide\n",
    "for c in 'Cases, Deaths'.split(', '):\n",
    "    df_table[f'{c} (+)'] = (df_table[c] - df_table[f'P{c}']).clip(0)\n",
    "    #Clip ça veut dire, les chiffres negatif sont interdit\n",
    "df_table['Fatality Rate'] = (100* df_table['Deaths']/ df_table['Cases']).round(2)\n",
    "df_table['Continent'] = df_table['Country/Region'].map(mapping['map.continent'])\n",
    "df_table.head(5)"
   ]
  },
  {
   "cell_type": "code",
   "execution_count": 14,
   "metadata": {
    "execution": {
     "iopub.execute_input": "2020-11-30T00:12:00.398086Z",
     "iopub.status.busy": "2020-11-30T00:12:00.397482Z",
     "iopub.status.idle": "2020-11-30T00:12:00.400065Z",
     "shell.execute_reply": "2020-11-30T00:12:00.399529Z"
    },
    "papermill": {
     "duration": 0.0416,
     "end_time": "2020-11-30T00:12:00.400193",
     "exception": false,
     "start_time": "2020-11-30T00:12:00.358593",
     "status": "completed"
    },
    "tags": []
   },
   "outputs": [],
   "source": [
    "#hide\n",
    "#delete problematic countries from table\n",
    "df_table = df_table[~df_table['Country/Region'].isin(['Cape Verde', 'Cruise Ship', 'Kosovo'])]"
   ]
  },
  {
   "cell_type": "code",
   "execution_count": 15,
   "metadata": {
    "execution": {
     "iopub.execute_input": "2020-11-30T00:12:00.466313Z",
     "iopub.status.busy": "2020-11-30T00:12:00.465711Z",
     "iopub.status.idle": "2020-11-30T00:12:00.486964Z",
     "shell.execute_reply": "2020-11-30T00:12:00.486453Z"
    },
    "papermill": {
     "duration": 0.057666,
     "end_time": "2020-11-30T00:12:00.487129",
     "exception": false,
     "start_time": "2020-11-30T00:12:00.429463",
     "status": "completed"
    },
    "tags": []
   },
   "outputs": [
    {
     "data": {
      "text/html": [
       "<div>\n",
       "<style scoped>\n",
       "    .dataframe tbody tr th:only-of-type {\n",
       "        vertical-align: middle;\n",
       "    }\n",
       "\n",
       "    .dataframe tbody tr th {\n",
       "        vertical-align: top;\n",
       "    }\n",
       "\n",
       "    .dataframe thead th {\n",
       "        text-align: right;\n",
       "    }\n",
       "</style>\n",
       "<table border=\"1\" class=\"dataframe\">\n",
       "  <thead>\n",
       "    <tr style=\"text-align: right;\">\n",
       "      <th></th>\n",
       "      <th>Country/Region</th>\n",
       "      <th>Cases</th>\n",
       "      <th>Deaths</th>\n",
       "      <th>PCases</th>\n",
       "      <th>PDeaths</th>\n",
       "      <th>Cases (+)</th>\n",
       "      <th>Deaths (+)</th>\n",
       "      <th>Fatality Rate</th>\n",
       "      <th>Continent</th>\n",
       "    </tr>\n",
       "  </thead>\n",
       "  <tbody>\n",
       "    <tr>\n",
       "      <th>0</th>\n",
       "      <td>US</td>\n",
       "      <td>13244417</td>\n",
       "      <td>266047</td>\n",
       "      <td>13088821</td>\n",
       "      <td>264858</td>\n",
       "      <td>155596</td>\n",
       "      <td>1189</td>\n",
       "      <td>2.0</td>\n",
       "      <td>North America</td>\n",
       "    </tr>\n",
       "    <tr>\n",
       "      <th>1</th>\n",
       "      <td>India</td>\n",
       "      <td>9392919</td>\n",
       "      <td>136696</td>\n",
       "      <td>9351109</td>\n",
       "      <td>136200</td>\n",
       "      <td>41810</td>\n",
       "      <td>496</td>\n",
       "      <td>1.5</td>\n",
       "      <td>Asia</td>\n",
       "    </tr>\n",
       "    <tr>\n",
       "      <th>2</th>\n",
       "      <td>Brazil</td>\n",
       "      <td>6290272</td>\n",
       "      <td>172561</td>\n",
       "      <td>6238350</td>\n",
       "      <td>171974</td>\n",
       "      <td>51922</td>\n",
       "      <td>587</td>\n",
       "      <td>2.7</td>\n",
       "      <td>South America</td>\n",
       "    </tr>\n",
       "    <tr>\n",
       "      <th>3</th>\n",
       "      <td>France</td>\n",
       "      <td>2260789</td>\n",
       "      <td>52212</td>\n",
       "      <td>2248209</td>\n",
       "      <td>51999</td>\n",
       "      <td>12580</td>\n",
       "      <td>213</td>\n",
       "      <td>2.3</td>\n",
       "      <td>Europe</td>\n",
       "    </tr>\n",
       "    <tr>\n",
       "      <th>4</th>\n",
       "      <td>Russia</td>\n",
       "      <td>2223500</td>\n",
       "      <td>38676</td>\n",
       "      <td>2196691</td>\n",
       "      <td>38175</td>\n",
       "      <td>26809</td>\n",
       "      <td>501</td>\n",
       "      <td>1.7</td>\n",
       "      <td>Europe</td>\n",
       "    </tr>\n",
       "  </tbody>\n",
       "</table>\n",
       "</div>"
      ],
      "text/plain": [
       "  Country/Region     Cases  Deaths    PCases  PDeaths  Cases (+)  Deaths (+)  \\\n",
       "0             US  13244417  266047  13088821   264858     155596        1189   \n",
       "1          India   9392919  136696   9351109   136200      41810         496   \n",
       "2         Brazil   6290272  172561   6238350   171974      51922         587   \n",
       "3         France   2260789   52212   2248209    51999      12580         213   \n",
       "4         Russia   2223500   38676   2196691    38175      26809         501   \n",
       "\n",
       "   Fatality Rate      Continent  \n",
       "0            2.0  North America  \n",
       "1            1.5           Asia  \n",
       "2            2.7  South America  \n",
       "3            2.3         Europe  \n",
       "4            1.7         Europe  "
      ]
     },
     "execution_count": 15,
     "metadata": {},
     "output_type": "execute_result"
    }
   ],
   "source": [
    "#hide\n",
    "df_table = (pd.DataFrame(dict(Cases=dfc_cases, Deaths=dfc_deaths, PCases=dfp_cases, PDeaths=dfp_deaths))\n",
    "             .sort_values(by=['Cases', 'Deaths'], ascending=[False, False])\n",
    "             .reset_index())\n",
    "df_table.rename(columns={'index': 'Country/Region'}, inplace=True)\n",
    "for c in 'Cases, Deaths'.split(', '):\n",
    "    df_table[f'{c} (+)'] = (df_table[c] - df_table[f'P{c}']).clip(0)  # DATA BUG\n",
    "df_table['Fatality Rate'] = (100 * df_table['Deaths'] / df_table['Cases']).round(1)\n",
    "df_table['Continent'] = df_table['Country/Region'].map(mapping['map.continent'])\n",
    "df_table.head(5)"
   ]
  },
  {
   "cell_type": "code",
   "execution_count": 16,
   "metadata": {
    "execution": {
     "iopub.execute_input": "2020-11-30T00:12:00.552576Z",
     "iopub.status.busy": "2020-11-30T00:12:00.551906Z",
     "iopub.status.idle": "2020-11-30T00:12:00.554213Z",
     "shell.execute_reply": "2020-11-30T00:12:00.554702Z"
    },
    "papermill": {
     "duration": 0.038193,
     "end_time": "2020-11-30T00:12:00.554835",
     "exception": false,
     "start_time": "2020-11-30T00:12:00.516642",
     "status": "completed"
    },
    "tags": []
   },
   "outputs": [],
   "source": [
    "#hide\n",
    "#delete problematic countries from table\n",
    "df_table = df_table[~df_table['Country/Region'].isin(['Cape Verde', 'Cruise Ship', 'Kosovo'])]"
   ]
  },
  {
   "cell_type": "code",
   "execution_count": 17,
   "metadata": {
    "execution": {
     "iopub.execute_input": "2020-11-30T00:12:00.623931Z",
     "iopub.status.busy": "2020-11-30T00:12:00.623333Z",
     "iopub.status.idle": "2020-11-30T00:12:00.638106Z",
     "shell.execute_reply": "2020-11-30T00:12:00.638628Z"
    },
    "papermill": {
     "duration": 0.05392,
     "end_time": "2020-11-30T00:12:00.638848",
     "exception": false,
     "start_time": "2020-11-30T00:12:00.584928",
     "status": "completed"
    },
    "tags": []
   },
   "outputs": [],
   "source": [
    "#hide\n",
    "metrics = [df_table.columns[index] for index in [1,2,5,6]]\n",
    "# s_china = df_table[df_table['Country/Region'].eq('China')][metrics].sum().add_prefix('China ')\n",
    "s_us = df_table[df_table['Country/Region'].eq('US')][metrics].sum().add_prefix('US ')\n",
    "s_eu = df_table[df_table['Continent'].eq('Europe')][metrics].sum().add_prefix('EU ')\n",
    "s_ind = df_table[df_table['Country/Region'].eq('India')][metrics].sum().add_prefix('India ')\n",
    "summary = {'updated': pd.to_datetime(dt_today), 'since': pd.to_datetime(dt_yday)}\n",
    "summary = {'updated': pd.to_datetime(dt_today), 'since': pd.to_datetime(dt_yday)}\n",
    "summary = {**summary, **df_table[metrics].sum(), **s_ind, **s_us, **s_eu}"
   ]
  },
  {
   "cell_type": "code",
   "execution_count": 18,
   "metadata": {
    "execution": {
     "iopub.execute_input": "2020-11-30T00:12:00.713063Z",
     "iopub.status.busy": "2020-11-30T00:12:00.712324Z",
     "iopub.status.idle": "2020-11-30T00:12:00.720631Z",
     "shell.execute_reply": "2020-11-30T00:12:00.721297Z"
    },
    "papermill": {
     "duration": 0.048131,
     "end_time": "2020-11-30T00:12:00.721436",
     "exception": false,
     "start_time": "2020-11-30T00:12:00.673305",
     "status": "completed"
    },
    "tags": []
   },
   "outputs": [],
   "source": [
    "#hide\n",
    "dft_ct_new_cases = dft_cases.groupby(COL_REGION)[dt_cols].sum().diff(axis=1).fillna(0).astype(int)"
   ]
  },
  {
   "cell_type": "code",
   "execution_count": 19,
   "metadata": {
    "execution": {
     "iopub.execute_input": "2020-11-30T00:12:00.788987Z",
     "iopub.status.busy": "2020-11-30T00:12:00.788399Z",
     "iopub.status.idle": "2020-11-30T00:12:00.792053Z",
     "shell.execute_reply": "2020-11-30T00:12:00.791375Z"
    },
    "papermill": {
     "duration": 0.039572,
     "end_time": "2020-11-30T00:12:00.792203",
     "exception": false,
     "start_time": "2020-11-30T00:12:00.752631",
     "status": "completed"
    },
    "tags": []
   },
   "outputs": [],
   "source": [
    "#hide\n",
    "everydaycases = dft_ct_new_cases.cumsum(axis=1)"
   ]
  },
  {
   "cell_type": "code",
   "execution_count": 20,
   "metadata": {
    "execution": {
     "iopub.execute_input": "2020-11-30T00:12:00.869883Z",
     "iopub.status.busy": "2020-11-30T00:12:00.869283Z",
     "iopub.status.idle": "2020-11-30T00:12:03.643655Z",
     "shell.execute_reply": "2020-11-30T00:12:03.643081Z"
    },
    "papermill": {
     "duration": 2.810957,
     "end_time": "2020-11-30T00:12:03.643788",
     "exception": false,
     "start_time": "2020-11-30T00:12:00.832831",
     "status": "completed"
    },
    "tags": []
   },
   "outputs": [],
   "source": [
    "#hide\n",
    "import pandas as pd\n",
    "import matplotlib.pyplot as plt\n",
    "import matplotlib.ticker as ticker\n",
    "import matplotlib.animation as animation\n",
    "from IPython.display import HTML"
   ]
  },
  {
   "cell_type": "code",
   "execution_count": 21,
   "metadata": {
    "execution": {
     "iopub.execute_input": "2020-11-30T00:12:03.711021Z",
     "iopub.status.busy": "2020-11-30T00:12:03.710431Z",
     "iopub.status.idle": "2020-11-30T00:12:03.715542Z",
     "shell.execute_reply": "2020-11-30T00:12:03.715049Z"
    },
    "papermill": {
     "duration": 0.041161,
     "end_time": "2020-11-30T00:12:03.715658",
     "exception": false,
     "start_time": "2020-11-30T00:12:03.674497",
     "status": "completed"
    },
    "tags": []
   },
   "outputs": [],
   "source": [
    "#hide\n",
    "t = everydaycases.stack()"
   ]
  },
  {
   "cell_type": "code",
   "execution_count": 22,
   "metadata": {
    "execution": {
     "iopub.execute_input": "2020-11-30T00:12:03.781350Z",
     "iopub.status.busy": "2020-11-30T00:12:03.780800Z",
     "iopub.status.idle": "2020-11-30T00:12:03.786896Z",
     "shell.execute_reply": "2020-11-30T00:12:03.786432Z"
    },
    "papermill": {
     "duration": 0.040711,
     "end_time": "2020-11-30T00:12:03.787066",
     "exception": false,
     "start_time": "2020-11-30T00:12:03.746355",
     "status": "completed"
    },
    "tags": []
   },
   "outputs": [],
   "source": [
    "#hide\n",
    "g = t.reset_index(['Country/Region'])"
   ]
  },
  {
   "cell_type": "code",
   "execution_count": 23,
   "metadata": {
    "execution": {
     "iopub.execute_input": "2020-11-30T00:12:03.859936Z",
     "iopub.status.busy": "2020-11-30T00:12:03.859176Z",
     "iopub.status.idle": "2020-11-30T00:12:03.861147Z",
     "shell.execute_reply": "2020-11-30T00:12:03.862052Z"
    },
    "papermill": {
     "duration": 0.04206,
     "end_time": "2020-11-30T00:12:03.862244",
     "exception": false,
     "start_time": "2020-11-30T00:12:03.820184",
     "status": "completed"
    },
    "tags": []
   },
   "outputs": [],
   "source": [
    "#hide\n",
    "g.index.name = 'date'"
   ]
  },
  {
   "cell_type": "code",
   "execution_count": 24,
   "metadata": {
    "execution": {
     "iopub.execute_input": "2020-11-30T00:12:03.933596Z",
     "iopub.status.busy": "2020-11-30T00:12:03.933019Z",
     "iopub.status.idle": "2020-11-30T00:12:03.935533Z",
     "shell.execute_reply": "2020-11-30T00:12:03.934956Z"
    },
    "papermill": {
     "duration": 0.038342,
     "end_time": "2020-11-30T00:12:03.935680",
     "exception": false,
     "start_time": "2020-11-30T00:12:03.897338",
     "status": "completed"
    },
    "tags": []
   },
   "outputs": [],
   "source": [
    "# #hide\n",
    "# g = g.reset_index(['date'])"
   ]
  },
  {
   "cell_type": "code",
   "execution_count": 25,
   "metadata": {
    "execution": {
     "iopub.execute_input": "2020-11-30T00:12:04.006179Z",
     "iopub.status.busy": "2020-11-30T00:12:04.005593Z",
     "iopub.status.idle": "2020-11-30T00:12:04.007355Z",
     "shell.execute_reply": "2020-11-30T00:12:04.007962Z"
    },
    "papermill": {
     "duration": 0.038552,
     "end_time": "2020-11-30T00:12:04.008117",
     "exception": false,
     "start_time": "2020-11-30T00:12:03.969565",
     "status": "completed"
    },
    "tags": []
   },
   "outputs": [],
   "source": [
    "#hide\n",
    "# g.head()"
   ]
  },
  {
   "cell_type": "code",
   "execution_count": 26,
   "metadata": {
    "execution": {
     "iopub.execute_input": "2020-11-30T00:12:04.079305Z",
     "iopub.status.busy": "2020-11-30T00:12:04.078628Z",
     "iopub.status.idle": "2020-11-30T00:12:04.080489Z",
     "shell.execute_reply": "2020-11-30T00:12:04.080992Z"
    },
    "papermill": {
     "duration": 0.039649,
     "end_time": "2020-11-30T00:12:04.081131",
     "exception": false,
     "start_time": "2020-11-30T00:12:04.041482",
     "status": "completed"
    },
    "tags": []
   },
   "outputs": [],
   "source": [
    "#hide\n",
    "# g.columns = ['date','country','cases']"
   ]
  },
  {
   "cell_type": "code",
   "execution_count": 27,
   "metadata": {
    "execution": {
     "iopub.execute_input": "2020-11-30T00:12:04.152239Z",
     "iopub.status.busy": "2020-11-30T00:12:04.151538Z",
     "iopub.status.idle": "2020-11-30T00:12:04.153770Z",
     "shell.execute_reply": "2020-11-30T00:12:04.153274Z"
    },
    "papermill": {
     "duration": 0.039178,
     "end_time": "2020-11-30T00:12:04.153893",
     "exception": false,
     "start_time": "2020-11-30T00:12:04.114715",
     "status": "completed"
    },
    "tags": []
   },
   "outputs": [],
   "source": [
    "#hide\n",
    "# g['continent'] = g.country"
   ]
  },
  {
   "cell_type": "code",
   "execution_count": 28,
   "metadata": {
    "execution": {
     "iopub.execute_input": "2020-11-30T00:12:04.226704Z",
     "iopub.status.busy": "2020-11-30T00:12:04.226152Z",
     "iopub.status.idle": "2020-11-30T00:12:04.228176Z",
     "shell.execute_reply": "2020-11-30T00:12:04.228630Z"
    },
    "papermill": {
     "duration": 0.039121,
     "end_time": "2020-11-30T00:12:04.228779",
     "exception": false,
     "start_time": "2020-11-30T00:12:04.189658",
     "status": "completed"
    },
    "tags": []
   },
   "outputs": [],
   "source": [
    "#hide\n",
    "# cols = list(g.columns.values)"
   ]
  },
  {
   "cell_type": "code",
   "execution_count": 29,
   "metadata": {
    "execution": {
     "iopub.execute_input": "2020-11-30T00:12:04.300104Z",
     "iopub.status.busy": "2020-11-30T00:12:04.299306Z",
     "iopub.status.idle": "2020-11-30T00:12:04.302272Z",
     "shell.execute_reply": "2020-11-30T00:12:04.301684Z"
    },
    "papermill": {
     "duration": 0.039807,
     "end_time": "2020-11-30T00:12:04.302428",
     "exception": false,
     "start_time": "2020-11-30T00:12:04.262621",
     "status": "completed"
    },
    "tags": []
   },
   "outputs": [],
   "source": [
    "#hide\n",
    "# cols.insert(0, cols.pop())"
   ]
  },
  {
   "cell_type": "code",
   "execution_count": 30,
   "metadata": {
    "execution": {
     "iopub.execute_input": "2020-11-30T00:12:04.382982Z",
     "iopub.status.busy": "2020-11-30T00:12:04.382321Z",
     "iopub.status.idle": "2020-11-30T00:12:04.385107Z",
     "shell.execute_reply": "2020-11-30T00:12:04.385669Z"
    },
    "papermill": {
     "duration": 0.04417,
     "end_time": "2020-11-30T00:12:04.385814",
     "exception": false,
     "start_time": "2020-11-30T00:12:04.341644",
     "status": "completed"
    },
    "tags": []
   },
   "outputs": [],
   "source": [
    "#hide\n",
    "# g = g[cols]"
   ]
  },
  {
   "cell_type": "code",
   "execution_count": 31,
   "metadata": {
    "execution": {
     "iopub.execute_input": "2020-11-30T00:12:04.461540Z",
     "iopub.status.busy": "2020-11-30T00:12:04.460819Z",
     "iopub.status.idle": "2020-11-30T00:12:04.463888Z",
     "shell.execute_reply": "2020-11-30T00:12:04.463379Z"
    },
    "papermill": {
     "duration": 0.042324,
     "end_time": "2020-11-30T00:12:04.464050",
     "exception": false,
     "start_time": "2020-11-30T00:12:04.421726",
     "status": "completed"
    },
    "tags": []
   },
   "outputs": [],
   "source": [
    "#hide\n",
    "# g['continent'] = g['continent'].map(mapping['map.continent'])"
   ]
  },
  {
   "cell_type": "code",
   "execution_count": 32,
   "metadata": {
    "execution": {
     "iopub.execute_input": "2020-11-30T00:12:04.645305Z",
     "iopub.status.busy": "2020-11-30T00:12:04.644573Z",
     "iopub.status.idle": "2020-11-30T00:12:04.647177Z",
     "shell.execute_reply": "2020-11-30T00:12:04.646486Z"
    },
    "papermill": {
     "duration": 0.042192,
     "end_time": "2020-11-30T00:12:04.647314",
     "exception": false,
     "start_time": "2020-11-30T00:12:04.605122",
     "status": "completed"
    },
    "tags": []
   },
   "outputs": [],
   "source": [
    "#hide\n",
    "# g.head()"
   ]
  },
  {
   "cell_type": "code",
   "execution_count": 33,
   "metadata": {
    "execution": {
     "iopub.execute_input": "2020-11-30T00:12:05.190990Z",
     "iopub.status.busy": "2020-11-30T00:12:05.190290Z",
     "iopub.status.idle": "2020-11-30T00:12:05.192233Z",
     "shell.execute_reply": "2020-11-30T00:12:05.192802Z"
    },
    "papermill": {
     "duration": 0.041056,
     "end_time": "2020-11-30T00:12:05.192948",
     "exception": false,
     "start_time": "2020-11-30T00:12:05.151892",
     "status": "completed"
    },
    "tags": []
   },
   "outputs": [],
   "source": [
    "# hide\n",
    "# g['date'] = g['date'].astype('datetime64[ns]')"
   ]
  },
  {
   "cell_type": "code",
   "execution_count": 34,
   "metadata": {
    "execution": {
     "iopub.execute_input": "2020-11-30T00:12:05.264915Z",
     "iopub.status.busy": "2020-11-30T00:12:05.264307Z",
     "iopub.status.idle": "2020-11-30T00:12:05.266851Z",
     "shell.execute_reply": "2020-11-30T00:12:05.266221Z"
    },
    "papermill": {
     "duration": 0.040806,
     "end_time": "2020-11-30T00:12:05.267034",
     "exception": false,
     "start_time": "2020-11-30T00:12:05.226228",
     "status": "completed"
    },
    "tags": []
   },
   "outputs": [],
   "source": [
    "#hide\n",
    "# g['date'] = g.date.dt.dayofyear"
   ]
  },
  {
   "cell_type": "code",
   "execution_count": 35,
   "metadata": {
    "execution": {
     "iopub.execute_input": "2020-11-30T00:12:05.340511Z",
     "iopub.status.busy": "2020-11-30T00:12:05.339855Z",
     "iopub.status.idle": "2020-11-30T00:12:05.342408Z",
     "shell.execute_reply": "2020-11-30T00:12:05.341880Z"
    },
    "papermill": {
     "duration": 0.042168,
     "end_time": "2020-11-30T00:12:05.342537",
     "exception": false,
     "start_time": "2020-11-30T00:12:05.300369",
     "status": "completed"
    },
    "tags": []
   },
   "outputs": [],
   "source": [
    "#hide\n",
    "# g = g.rename(columns= {'continent':'group','country':'name','cases':'value'})"
   ]
  },
  {
   "cell_type": "code",
   "execution_count": 36,
   "metadata": {
    "execution": {
     "iopub.execute_input": "2020-11-30T00:12:05.412836Z",
     "iopub.status.busy": "2020-11-30T00:12:05.412215Z",
     "iopub.status.idle": "2020-11-30T00:12:05.414687Z",
     "shell.execute_reply": "2020-11-30T00:12:05.414131Z"
    },
    "papermill": {
     "duration": 0.038652,
     "end_time": "2020-11-30T00:12:05.414807",
     "exception": false,
     "start_time": "2020-11-30T00:12:05.376155",
     "status": "completed"
    },
    "tags": []
   },
   "outputs": [],
   "source": [
    "#hide\n",
    "# cols = ['name','group','day','value']"
   ]
  },
  {
   "cell_type": "code",
   "execution_count": 37,
   "metadata": {
    "execution": {
     "iopub.execute_input": "2020-11-30T00:12:05.483928Z",
     "iopub.status.busy": "2020-11-30T00:12:05.483348Z",
     "iopub.status.idle": "2020-11-30T00:12:05.485705Z",
     "shell.execute_reply": "2020-11-30T00:12:05.485261Z"
    },
    "papermill": {
     "duration": 0.036986,
     "end_time": "2020-11-30T00:12:05.485873",
     "exception": false,
     "start_time": "2020-11-30T00:12:05.448887",
     "status": "completed"
    },
    "tags": []
   },
   "outputs": [],
   "source": [
    "#hide\n",
    "# g.rename(columns= {'date':'day'},inplace = True)"
   ]
  },
  {
   "cell_type": "code",
   "execution_count": 38,
   "metadata": {
    "execution": {
     "iopub.execute_input": "2020-11-30T00:12:05.552387Z",
     "iopub.status.busy": "2020-11-30T00:12:05.551820Z",
     "iopub.status.idle": "2020-11-30T00:12:05.554126Z",
     "shell.execute_reply": "2020-11-30T00:12:05.553662Z"
    },
    "papermill": {
     "duration": 0.03777,
     "end_time": "2020-11-30T00:12:05.554248",
     "exception": false,
     "start_time": "2020-11-30T00:12:05.516478",
     "status": "completed"
    },
    "tags": []
   },
   "outputs": [],
   "source": [
    "#hide\n",
    "# g = g[cols]"
   ]
  },
  {
   "cell_type": "code",
   "execution_count": 39,
   "metadata": {
    "execution": {
     "iopub.execute_input": "2020-11-30T00:12:05.625479Z",
     "iopub.status.busy": "2020-11-30T00:12:05.624899Z",
     "iopub.status.idle": "2020-11-30T00:12:05.627646Z",
     "shell.execute_reply": "2020-11-30T00:12:05.627148Z"
    },
    "papermill": {
     "duration": 0.039605,
     "end_time": "2020-11-30T00:12:05.627769",
     "exception": false,
     "start_time": "2020-11-30T00:12:05.588164",
     "status": "completed"
    },
    "tags": []
   },
   "outputs": [],
   "source": [
    "# #hide\n",
    "# g = g[g.group.notna()]"
   ]
  },
  {
   "cell_type": "code",
   "execution_count": 40,
   "metadata": {
    "execution": {
     "iopub.execute_input": "2020-11-30T00:12:05.699595Z",
     "iopub.status.busy": "2020-11-30T00:12:05.698901Z",
     "iopub.status.idle": "2020-11-30T00:12:05.701663Z",
     "shell.execute_reply": "2020-11-30T00:12:05.700995Z"
    },
    "papermill": {
     "duration": 0.041024,
     "end_time": "2020-11-30T00:12:05.701811",
     "exception": false,
     "start_time": "2020-11-30T00:12:05.660787",
     "status": "completed"
    },
    "tags": []
   },
   "outputs": [],
   "source": [
    "# #hide\n",
    "# colors = dict(zip(\n",
    "#     [\"Oceania\", \"Europe\", \"Asia\", \"South America\", \"Middle East\", \"North America\", \"Africa\"],\n",
    "#     [\"#adb0ff\", \"#ffb3ff\", \"#90d595\", \"#e48381\", \"#aafbff\", \"#f7bb5f\", \"#eafb50\"]\n",
    "# ))\n",
    "# group_lk = g.set_index('name')['group'].to_dict()"
   ]
  },
  {
   "cell_type": "code",
   "execution_count": null,
   "metadata": {
    "papermill": {
     "duration": 0.030975,
     "end_time": "2020-11-30T00:12:05.765391",
     "exception": false,
     "start_time": "2020-11-30T00:12:05.734416",
     "status": "completed"
    },
    "tags": []
   },
   "outputs": [],
   "source": []
  },
  {
   "cell_type": "code",
   "execution_count": 41,
   "metadata": {
    "execution": {
     "iopub.execute_input": "2020-11-30T00:12:05.833634Z",
     "iopub.status.busy": "2020-11-30T00:12:05.833065Z",
     "iopub.status.idle": "2020-11-30T00:12:05.834800Z",
     "shell.execute_reply": "2020-11-30T00:12:05.835372Z"
    },
    "papermill": {
     "duration": 0.037937,
     "end_time": "2020-11-30T00:12:05.835498",
     "exception": false,
     "start_time": "2020-11-30T00:12:05.797561",
     "status": "completed"
    },
    "tags": []
   },
   "outputs": [],
   "source": [
    "# #hide\n",
    "# fig, ax = plt.subplots(figsize=(15, 8))\n",
    "\n",
    "# def draw_barchart(current_day):\n",
    "#     dff = g[g['day'].eq(current_day)].sort_values(by='value', ascending=True).tail(10)\n",
    "#     ax.clear()\n",
    "#     ax.barh(dff['name'], dff['value'], color=[colors[group_lk[x]] for x in dff['name']])\n",
    "#     dx = dff['value'].max() / 200\n",
    "    \n",
    "#     for i, (value, name) in enumerate(zip(dff['value'], dff['name'])):\n",
    "#         ax.text(value-dx, i,     name,           size=14, weight=600, ha='right', va='bottom')\n",
    "#         ax.text(value-dx, i-.25, group_lk[name], size=10, color='#444444', ha='right', va='baseline')\n",
    "#         ax.text(value+dx, i,     f'{value:,.0f}',  size=14, ha='left',  va='center')\n",
    "#     ax.text(1, 0.4, current_day, transform=ax.transAxes, color='#777777', size=46, ha='right', weight=800)\n",
    "#     ax.text(0, 1.06, 'Population (thousands)', transform=ax.transAxes, size=12, color='#777777')\n",
    "#     ax.xaxis.set_major_formatter(ticker.StrMethodFormatter('{x:,.0f}'))\n",
    "#     ax.xaxis.set_ticks_position('top')\n",
    "#     ax.tick_params(axis='x', colors='#777777', labelsize=12)\n",
    "#     ax.set_yticks([])\n",
    "#     ax.margins(0, 0.01)\n",
    "#     ax.grid(which='major', axis='x', linestyle='-')\n",
    "#     ax.set_axisbelow(True)\n",
    "    \n",
    "#     ax.text(0, 1.15, 'Coronavirus',\n",
    "#             transform=ax.transAxes, size=24, weight=600, ha='left', va='top')\n",
    "# #     ax.text(1, 0, 'by @pratapvardhan; credit @jburnmurdoch', transform=ax.transAxes, color='#777777', ha='right',\n",
    "# #             bbox=dict(facecolor='white', alpha=0.8, edgecolor='white'))\n",
    "#     plt.box(False)"
   ]
  },
  {
   "cell_type": "code",
   "execution_count": 42,
   "metadata": {
    "execution": {
     "iopub.execute_input": "2020-11-30T00:12:05.900729Z",
     "iopub.status.busy": "2020-11-30T00:12:05.900122Z",
     "iopub.status.idle": "2020-11-30T00:12:05.903161Z",
     "shell.execute_reply": "2020-11-30T00:12:05.903911Z"
    },
    "papermill": {
     "duration": 0.037577,
     "end_time": "2020-11-30T00:12:05.904305",
     "exception": false,
     "start_time": "2020-11-30T00:12:05.866728",
     "status": "completed"
    },
    "tags": []
   },
   "outputs": [],
   "source": [
    "# #hide_input\n",
    "# fig, ax = plt.subplots(figsize=(15, 8))\n",
    "# animator = animation.FuncAnimation(fig, draw_barchart, frames=range(g.day.values.min(), g.day.values.max()))\n",
    "# HTML(animator.to_jshtml())\n",
    "# # or use animator.to_html5_video() or animator.save() "
   ]
  },
  {
   "cell_type": "code",
   "execution_count": null,
   "metadata": {
    "papermill": {
     "duration": 0.033782,
     "end_time": "2020-11-30T00:12:05.973979",
     "exception": false,
     "start_time": "2020-11-30T00:12:05.940197",
     "status": "completed"
    },
    "tags": []
   },
   "outputs": [],
   "source": []
  },
  {
   "cell_type": "code",
   "execution_count": null,
   "metadata": {
    "papermill": {
     "duration": 0.032338,
     "end_time": "2020-11-30T00:12:06.039161",
     "exception": false,
     "start_time": "2020-11-30T00:12:06.006823",
     "status": "completed"
    },
    "tags": []
   },
   "outputs": [],
   "source": []
  },
  {
   "cell_type": "code",
   "execution_count": null,
   "metadata": {
    "papermill": {
     "duration": 0.032662,
     "end_time": "2020-11-30T00:12:06.103130",
     "exception": false,
     "start_time": "2020-11-30T00:12:06.070468",
     "status": "completed"
    },
    "tags": []
   },
   "outputs": [],
   "source": []
  }
 ],
 "metadata": {
  "kernelspec": {
   "display_name": "Python 3",
   "language": "python",
   "name": "python3"
  },
  "language_info": {
   "codemirror_mode": {
    "name": "ipython",
    "version": 3
   },
   "file_extension": ".py",
   "mimetype": "text/x-python",
   "name": "python",
   "nbconvert_exporter": "python",
   "pygments_lexer": "ipython3",
   "version": "3.6.12"
  },
  "papermill": {
   "duration": 9.066124,
   "end_time": "2020-11-30T00:12:06.444546",
   "environment_variables": {},
   "exception": null,
   "input_path": "2020-03-21-covid19exp.ipynb",
   "output_path": "2020-03-21-covid19exp.ipynb",
   "parameters": {},
   "start_time": "2020-11-30T00:11:57.378422",
   "version": "2.0.0"
  }
 },
 "nbformat": 4,
 "nbformat_minor": 4
}