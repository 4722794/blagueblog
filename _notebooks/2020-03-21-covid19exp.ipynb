{
 "cells": [
  {
   "cell_type": "markdown",
   "id": "muslim-click",
   "metadata": {
    "papermill": {
     "duration": 0.034886,
     "end_time": "2022-09-14T00:47:48.170875",
     "exception": false,
     "start_time": "2022-09-14T00:47:48.135989",
     "status": "completed"
    },
    "tags": []
   },
   "source": [
    "# COVID-19 Case Race\n",
    "> A race chart to see rising cases around the world\n",
    "\n",
    "- author: Hargun Oberoi\n",
    "- image: images/covid-overview.png\n",
    "- hide: false\n",
    "- badges: false"
   ]
  },
  {
   "cell_type": "code",
   "execution_count": 1,
   "id": "proof-material",
   "metadata": {
    "execution": {
     "iopub.execute_input": "2022-09-14T00:47:48.241450Z",
     "iopub.status.busy": "2022-09-14T00:47:48.240838Z",
     "iopub.status.idle": "2022-09-14T00:47:48.563439Z",
     "shell.execute_reply": "2022-09-14T00:47:48.562841Z"
    },
    "papermill": {
     "duration": 0.36282,
     "end_time": "2022-09-14T00:47:48.563601",
     "exception": false,
     "start_time": "2022-09-14T00:47:48.200781",
     "status": "completed"
    },
    "tags": []
   },
   "outputs": [],
   "source": [
    "#hide\n",
    "import numpy as np\n",
    "import pandas as pd\n",
    "from jinja2 import Template\n",
    "from IPython.display import HTML"
   ]
  },
  {
   "cell_type": "code",
   "execution_count": 2,
   "id": "developed-terminology",
   "metadata": {
    "execution": {
     "iopub.execute_input": "2022-09-14T00:47:48.628189Z",
     "iopub.status.busy": "2022-09-14T00:47:48.627504Z",
     "iopub.status.idle": "2022-09-14T00:47:48.629869Z",
     "shell.execute_reply": "2022-09-14T00:47:48.629400Z"
    },
    "papermill": {
     "duration": 0.03626,
     "end_time": "2022-09-14T00:47:48.629978",
     "exception": false,
     "start_time": "2022-09-14T00:47:48.593718",
     "status": "completed"
    },
    "tags": []
   },
   "outputs": [],
   "source": [
    "#hide\n",
    "\n",
    "# FETCH\n",
    "base_url = 'https://raw.githubusercontent.com/pratapvardhan/notebooks/master/covid19/'\n",
    "paths = {\n",
    "    'mapping': base_url + 'mapping_countries.csv',\n",
    "    'overview': base_url + 'overview.tpl'\n",
    "}"
   ]
  },
  {
   "cell_type": "code",
   "execution_count": 3,
   "id": "dynamic-saver",
   "metadata": {
    "execution": {
     "iopub.execute_input": "2022-09-14T00:47:48.698774Z",
     "iopub.status.busy": "2022-09-14T00:47:48.698174Z",
     "iopub.status.idle": "2022-09-14T00:47:48.701533Z",
     "shell.execute_reply": "2022-09-14T00:47:48.702004Z"
    },
    "papermill": {
     "duration": 0.043049,
     "end_time": "2022-09-14T00:47:48.702150",
     "exception": false,
     "start_time": "2022-09-14T00:47:48.659101",
     "status": "completed"
    },
    "tags": []
   },
   "outputs": [
    {
     "data": {
      "text/plain": [
       "'https://raw.githubusercontent.com/pratapvardhan/notebooks/master/covid19/mapping_countries.csv'"
      ]
     },
     "execution_count": 3,
     "metadata": {},
     "output_type": "execute_result"
    }
   ],
   "source": [
    "#hide\n",
    "paths['mapping']"
   ]
  },
  {
   "cell_type": "code",
   "execution_count": 4,
   "id": "urban-software",
   "metadata": {
    "execution": {
     "iopub.execute_input": "2022-09-14T00:47:48.766806Z",
     "iopub.status.busy": "2022-09-14T00:47:48.766104Z",
     "iopub.status.idle": "2022-09-14T00:47:48.768627Z",
     "shell.execute_reply": "2022-09-14T00:47:48.768095Z"
    },
    "papermill": {
     "duration": 0.037126,
     "end_time": "2022-09-14T00:47:48.768746",
     "exception": false,
     "start_time": "2022-09-14T00:47:48.731620",
     "status": "completed"
    },
    "tags": []
   },
   "outputs": [],
   "source": [
    "#hide\n",
    "def get_mappings(url):\n",
    "    df = pd.read_csv(url)\n",
    "    return {\n",
    "        'df': df,\n",
    "        'replace.country': dict(df.dropna(subset=['Name']).set_index('Country')['Name']),\n",
    "        'map.continent': dict(df.set_index('Name')['Continent'])\n",
    "    }"
   ]
  },
  {
   "cell_type": "code",
   "execution_count": 5,
   "id": "intimate-machinery",
   "metadata": {
    "execution": {
     "iopub.execute_input": "2022-09-14T00:47:48.833621Z",
     "iopub.status.busy": "2022-09-14T00:47:48.833031Z",
     "iopub.status.idle": "2022-09-14T00:47:48.884396Z",
     "shell.execute_reply": "2022-09-14T00:47:48.883922Z"
    },
    "papermill": {
     "duration": 0.085907,
     "end_time": "2022-09-14T00:47:48.884508",
     "exception": false,
     "start_time": "2022-09-14T00:47:48.798601",
     "status": "completed"
    },
    "tags": []
   },
   "outputs": [],
   "source": [
    "#hide\n",
    "mapping = get_mappings(paths['mapping'])"
   ]
  },
  {
   "cell_type": "code",
   "execution_count": 6,
   "id": "certified-tactics",
   "metadata": {
    "execution": {
     "iopub.execute_input": "2022-09-14T00:47:48.948725Z",
     "iopub.status.busy": "2022-09-14T00:47:48.948141Z",
     "iopub.status.idle": "2022-09-14T00:47:48.950509Z",
     "shell.execute_reply": "2022-09-14T00:47:48.950980Z"
    },
    "papermill": {
     "duration": 0.03705,
     "end_time": "2022-09-14T00:47:48.951106",
     "exception": false,
     "start_time": "2022-09-14T00:47:48.914056",
     "status": "completed"
    },
    "tags": []
   },
   "outputs": [],
   "source": [
    "#hide\n",
    "def get_template(path):\n",
    "    from urllib.parse import urlparse\n",
    "    if bool(urlparse(path).netloc):\n",
    "        from urllib.request import urlopen\n",
    "        return urlopen(path).read().decode('utf8')\n",
    "    return open(path).read()"
   ]
  },
  {
   "cell_type": "code",
   "execution_count": 7,
   "id": "realistic-blast",
   "metadata": {
    "execution": {
     "iopub.execute_input": "2022-09-14T00:47:49.015592Z",
     "iopub.status.busy": "2022-09-14T00:47:49.014917Z",
     "iopub.status.idle": "2022-09-14T00:47:49.017388Z",
     "shell.execute_reply": "2022-09-14T00:47:49.016871Z"
    },
    "papermill": {
     "duration": 0.036743,
     "end_time": "2022-09-14T00:47:49.017495",
     "exception": false,
     "start_time": "2022-09-14T00:47:48.980752",
     "status": "completed"
    },
    "tags": []
   },
   "outputs": [],
   "source": [
    "#hide\n",
    "def get_frame(name):\n",
    "    url = (\n",
    "        'https://raw.githubusercontent.com/CSSEGISandData/COVID-19/master/csse_covid_19_data/'\n",
    "        f'csse_covid_19_time_series/time_series_covid19_{name}_global.csv')\n",
    "    df = pd.read_csv(url)\n",
    "    # rename countries\n",
    "    df['Country/Region'] = df['Country/Region'].replace(mapping['replace.country'])\n",
    "    return df"
   ]
  },
  {
   "cell_type": "code",
   "execution_count": 8,
   "id": "affiliated-characterization",
   "metadata": {
    "execution": {
     "iopub.execute_input": "2022-09-14T00:47:49.083801Z",
     "iopub.status.busy": "2022-09-14T00:47:49.083186Z",
     "iopub.status.idle": "2022-09-14T00:47:49.086258Z",
     "shell.execute_reply": "2022-09-14T00:47:49.085747Z"
    },
    "papermill": {
     "duration": 0.039076,
     "end_time": "2022-09-14T00:47:49.086380",
     "exception": false,
     "start_time": "2022-09-14T00:47:49.047304",
     "status": "completed"
    },
    "tags": []
   },
   "outputs": [],
   "source": [
    "#hide\n",
    "def get_dates(df):\n",
    "    dt_cols = df.columns[~df.columns.isin(['Province/State', 'Country/Region', 'Lat', 'Long'])]\n",
    "    LAST_DATE_I = -1\n",
    "    # sometimes last column may be empty, then go backwards\n",
    "    for i in range(-1, -len(dt_cols), -1):\n",
    "        if not df[dt_cols[i]].fillna(0).eq(0).all():\n",
    "            LAST_DATE_I = i\n",
    "            break\n",
    "    return LAST_DATE_I, dt_cols"
   ]
  },
  {
   "cell_type": "code",
   "execution_count": 9,
   "id": "recent-optimization",
   "metadata": {
    "execution": {
     "iopub.execute_input": "2022-09-14T00:47:49.151017Z",
     "iopub.status.busy": "2022-09-14T00:47:49.150411Z",
     "iopub.status.idle": "2022-09-14T00:47:49.702153Z",
     "shell.execute_reply": "2022-09-14T00:47:49.700935Z"
    },
    "papermill": {
     "duration": 0.586451,
     "end_time": "2022-09-14T00:47:49.702295",
     "exception": false,
     "start_time": "2022-09-14T00:47:49.115844",
     "status": "completed"
    },
    "tags": []
   },
   "outputs": [],
   "source": [
    "#hide\n",
    "COL_REGION = 'Country/Region'\n",
    "# Confirmed, Recovered, Deaths\n",
    "df = get_frame('confirmed')\n",
    "# dft_: timeseries, dfc_: today country agg\n",
    "dft_cases = df\n",
    "dft_deaths = get_frame('deaths')\n",
    "dft_recovered = get_frame('recovered')\n",
    "LAST_DATE_I, dt_cols = get_dates(df)"
   ]
  },
  {
   "cell_type": "code",
   "execution_count": 10,
   "id": "absolute-copper",
   "metadata": {
    "execution": {
     "iopub.execute_input": "2022-09-14T00:47:49.767300Z",
     "iopub.status.busy": "2022-09-14T00:47:49.766631Z",
     "iopub.status.idle": "2022-09-14T00:47:49.769075Z",
     "shell.execute_reply": "2022-09-14T00:47:49.768541Z"
    },
    "papermill": {
     "duration": 0.037081,
     "end_time": "2022-09-14T00:47:49.769197",
     "exception": false,
     "start_time": "2022-09-14T00:47:49.732116",
     "status": "completed"
    },
    "tags": []
   },
   "outputs": [],
   "source": [
    "#hide\n",
    "LAST_DATE_I, dt_cols = get_dates(df)\n",
    "dt_today =dt_cols[LAST_DATE_I]\n",
    "# dt_5day = dt_cols[LAST_DATE_I - 5]\n",
    "dt_yday = dt_cols[LAST_DATE_I - 1]"
   ]
  },
  {
   "cell_type": "code",
   "execution_count": 11,
   "id": "restricted-sheriff",
   "metadata": {
    "execution": {
     "iopub.execute_input": "2022-09-14T00:47:49.834931Z",
     "iopub.status.busy": "2022-09-14T00:47:49.834328Z",
     "iopub.status.idle": "2022-09-14T00:47:49.841644Z",
     "shell.execute_reply": "2022-09-14T00:47:49.841168Z"
    },
    "papermill": {
     "duration": 0.042642,
     "end_time": "2022-09-14T00:47:49.841753",
     "exception": false,
     "start_time": "2022-09-14T00:47:49.799111",
     "status": "completed"
    },
    "tags": []
   },
   "outputs": [],
   "source": [
    "#hide\n",
    "dfc_cases = dft_cases.groupby(COL_REGION)[dt_today].sum()\n",
    "dfc_deaths = dft_deaths.groupby(COL_REGION)[dt_today].sum()\n",
    "# dfp_cases = dft_cases.groupby(COL_REGION)[dt_5day].sum()\n",
    "# dfp_deaths = dft_deaths.groupby(COL_REGION)[dt_5day].sum()\n",
    "dfp_cases = dft_cases.groupby(COL_REGION)[dt_yday].sum()\n",
    "dfp_deaths = dft_deaths.groupby(COL_REGION)[dt_yday].sum()"
   ]
  },
  {
   "cell_type": "code",
   "execution_count": 12,
   "id": "deluxe-hepatitis",
   "metadata": {
    "execution": {
     "iopub.execute_input": "2022-09-14T00:47:49.906406Z",
     "iopub.status.busy": "2022-09-14T00:47:49.905811Z",
     "iopub.status.idle": "2022-09-14T00:47:49.910220Z",
     "shell.execute_reply": "2022-09-14T00:47:49.910697Z"
    },
    "papermill": {
     "duration": 0.039548,
     "end_time": "2022-09-14T00:47:49.910816",
     "exception": false,
     "start_time": "2022-09-14T00:47:49.871268",
     "status": "completed"
    },
    "tags": []
   },
   "outputs": [],
   "source": [
    "#hide\n",
    "df_table = (pd.DataFrame(dict(Cases = dfc_cases, Deaths = dfc_deaths, PCases = dfp_cases, PDeaths = dfp_deaths))\n",
    "            .sort_values(by = ['Cases','Deaths'], ascending = [False, False])\n",
    "            .reset_index())"
   ]
  },
  {
   "cell_type": "code",
   "execution_count": 13,
   "id": "educational-chancellor",
   "metadata": {
    "execution": {
     "iopub.execute_input": "2022-09-14T00:47:49.988135Z",
     "iopub.status.busy": "2022-09-14T00:47:49.987525Z",
     "iopub.status.idle": "2022-09-14T00:47:49.995334Z",
     "shell.execute_reply": "2022-09-14T00:47:49.994758Z"
    },
    "papermill": {
     "duration": 0.055141,
     "end_time": "2022-09-14T00:47:49.995444",
     "exception": false,
     "start_time": "2022-09-14T00:47:49.940303",
     "status": "completed"
    },
    "tags": []
   },
   "outputs": [
    {
     "data": {
      "text/html": [
       "<div>\n",
       "<style scoped>\n",
       "    .dataframe tbody tr th:only-of-type {\n",
       "        vertical-align: middle;\n",
       "    }\n",
       "\n",
       "    .dataframe tbody tr th {\n",
       "        vertical-align: top;\n",
       "    }\n",
       "\n",
       "    .dataframe thead th {\n",
       "        text-align: right;\n",
       "    }\n",
       "</style>\n",
       "<table border=\"1\" class=\"dataframe\">\n",
       "  <thead>\n",
       "    <tr style=\"text-align: right;\">\n",
       "      <th></th>\n",
       "      <th>Country/Region</th>\n",
       "      <th>Cases</th>\n",
       "      <th>Deaths</th>\n",
       "      <th>PCases</th>\n",
       "      <th>PDeaths</th>\n",
       "      <th>Cases (+)</th>\n",
       "      <th>Deaths (+)</th>\n",
       "      <th>Fatality Rate</th>\n",
       "      <th>Continent</th>\n",
       "    </tr>\n",
       "  </thead>\n",
       "  <tbody>\n",
       "    <tr>\n",
       "      <th>0</th>\n",
       "      <td>US</td>\n",
       "      <td>95320071</td>\n",
       "      <td>1050767</td>\n",
       "      <td>95250705</td>\n",
       "      <td>1050323</td>\n",
       "      <td>69366</td>\n",
       "      <td>444</td>\n",
       "      <td>1.10</td>\n",
       "      <td>North America</td>\n",
       "    </tr>\n",
       "    <tr>\n",
       "      <th>1</th>\n",
       "      <td>India</td>\n",
       "      <td>44502363</td>\n",
       "      <td>528185</td>\n",
       "      <td>44500580</td>\n",
       "      <td>528165</td>\n",
       "      <td>1783</td>\n",
       "      <td>20</td>\n",
       "      <td>1.19</td>\n",
       "      <td>Asia</td>\n",
       "    </tr>\n",
       "    <tr>\n",
       "      <th>2</th>\n",
       "      <td>France</td>\n",
       "      <td>34939449</td>\n",
       "      <td>155569</td>\n",
       "      <td>34898909</td>\n",
       "      <td>155508</td>\n",
       "      <td>40540</td>\n",
       "      <td>61</td>\n",
       "      <td>0.45</td>\n",
       "      <td>Europe</td>\n",
       "    </tr>\n",
       "    <tr>\n",
       "      <th>3</th>\n",
       "      <td>Brazil</td>\n",
       "      <td>34533957</td>\n",
       "      <td>684898</td>\n",
       "      <td>34516739</td>\n",
       "      <td>684813</td>\n",
       "      <td>17218</td>\n",
       "      <td>85</td>\n",
       "      <td>1.98</td>\n",
       "      <td>South America</td>\n",
       "    </tr>\n",
       "    <tr>\n",
       "      <th>4</th>\n",
       "      <td>Germany</td>\n",
       "      <td>32507180</td>\n",
       "      <td>148389</td>\n",
       "      <td>32452250</td>\n",
       "      <td>148299</td>\n",
       "      <td>54930</td>\n",
       "      <td>90</td>\n",
       "      <td>0.46</td>\n",
       "      <td>Europe</td>\n",
       "    </tr>\n",
       "  </tbody>\n",
       "</table>\n",
       "</div>"
      ],
      "text/plain": [
       "  Country/Region     Cases   Deaths    PCases  PDeaths  Cases (+)  Deaths (+)  \\\n",
       "0             US  95320071  1050767  95250705  1050323      69366         444   \n",
       "1          India  44502363   528185  44500580   528165       1783          20   \n",
       "2         France  34939449   155569  34898909   155508      40540          61   \n",
       "3         Brazil  34533957   684898  34516739   684813      17218          85   \n",
       "4        Germany  32507180   148389  32452250   148299      54930          90   \n",
       "\n",
       "   Fatality Rate      Continent  \n",
       "0           1.10  North America  \n",
       "1           1.19           Asia  \n",
       "2           0.45         Europe  \n",
       "3           1.98  South America  \n",
       "4           0.46         Europe  "
      ]
     },
     "execution_count": 13,
     "metadata": {},
     "output_type": "execute_result"
    }
   ],
   "source": [
    "#hide\n",
    "for c in 'Cases, Deaths'.split(', '):\n",
    "    df_table[f'{c} (+)'] = (df_table[c] - df_table[f'P{c}']).clip(0)\n",
    "    #Clip ça veut dire, les chiffres negatif sont interdit\n",
    "df_table['Fatality Rate'] = (100* df_table['Deaths']/ df_table['Cases']).round(2)\n",
    "df_table['Continent'] = df_table['Country/Region'].map(mapping['map.continent'])\n",
    "df_table.head(5)"
   ]
  },
  {
   "cell_type": "code",
   "execution_count": 14,
   "id": "aboriginal-bulgaria",
   "metadata": {
    "execution": {
     "iopub.execute_input": "2022-09-14T00:47:50.061307Z",
     "iopub.status.busy": "2022-09-14T00:47:50.060712Z",
     "iopub.status.idle": "2022-09-14T00:47:50.063304Z",
     "shell.execute_reply": "2022-09-14T00:47:50.062826Z"
    },
    "papermill": {
     "duration": 0.038083,
     "end_time": "2022-09-14T00:47:50.063415",
     "exception": false,
     "start_time": "2022-09-14T00:47:50.025332",
     "status": "completed"
    },
    "tags": []
   },
   "outputs": [],
   "source": [
    "#hide\n",
    "#delete problematic countries from table\n",
    "df_table = df_table[~df_table['Country/Region'].isin(['Cape Verde', 'Cruise Ship', 'Kosovo'])]"
   ]
  },
  {
   "cell_type": "code",
   "execution_count": 15,
   "id": "fantastic-effect",
   "metadata": {
    "execution": {
     "iopub.execute_input": "2022-09-14T00:47:50.132057Z",
     "iopub.status.busy": "2022-09-14T00:47:50.130667Z",
     "iopub.status.idle": "2022-09-14T00:47:50.150267Z",
     "shell.execute_reply": "2022-09-14T00:47:50.149371Z"
    },
    "papermill": {
     "duration": 0.057201,
     "end_time": "2022-09-14T00:47:50.150385",
     "exception": false,
     "start_time": "2022-09-14T00:47:50.093184",
     "status": "completed"
    },
    "tags": []
   },
   "outputs": [
    {
     "data": {
      "text/html": [
       "<div>\n",
       "<style scoped>\n",
       "    .dataframe tbody tr th:only-of-type {\n",
       "        vertical-align: middle;\n",
       "    }\n",
       "\n",
       "    .dataframe tbody tr th {\n",
       "        vertical-align: top;\n",
       "    }\n",
       "\n",
       "    .dataframe thead th {\n",
       "        text-align: right;\n",
       "    }\n",
       "</style>\n",
       "<table border=\"1\" class=\"dataframe\">\n",
       "  <thead>\n",
       "    <tr style=\"text-align: right;\">\n",
       "      <th></th>\n",
       "      <th>Country/Region</th>\n",
       "      <th>Cases</th>\n",
       "      <th>Deaths</th>\n",
       "      <th>PCases</th>\n",
       "      <th>PDeaths</th>\n",
       "      <th>Cases (+)</th>\n",
       "      <th>Deaths (+)</th>\n",
       "      <th>Fatality Rate</th>\n",
       "      <th>Continent</th>\n",
       "    </tr>\n",
       "  </thead>\n",
       "  <tbody>\n",
       "    <tr>\n",
       "      <th>0</th>\n",
       "      <td>US</td>\n",
       "      <td>95320071</td>\n",
       "      <td>1050767</td>\n",
       "      <td>95250705</td>\n",
       "      <td>1050323</td>\n",
       "      <td>69366</td>\n",
       "      <td>444</td>\n",
       "      <td>1.1</td>\n",
       "      <td>North America</td>\n",
       "    </tr>\n",
       "    <tr>\n",
       "      <th>1</th>\n",
       "      <td>India</td>\n",
       "      <td>44502363</td>\n",
       "      <td>528185</td>\n",
       "      <td>44500580</td>\n",
       "      <td>528165</td>\n",
       "      <td>1783</td>\n",
       "      <td>20</td>\n",
       "      <td>1.2</td>\n",
       "      <td>Asia</td>\n",
       "    </tr>\n",
       "    <tr>\n",
       "      <th>2</th>\n",
       "      <td>France</td>\n",
       "      <td>34939449</td>\n",
       "      <td>155569</td>\n",
       "      <td>34898909</td>\n",
       "      <td>155508</td>\n",
       "      <td>40540</td>\n",
       "      <td>61</td>\n",
       "      <td>0.4</td>\n",
       "      <td>Europe</td>\n",
       "    </tr>\n",
       "    <tr>\n",
       "      <th>3</th>\n",
       "      <td>Brazil</td>\n",
       "      <td>34533957</td>\n",
       "      <td>684898</td>\n",
       "      <td>34516739</td>\n",
       "      <td>684813</td>\n",
       "      <td>17218</td>\n",
       "      <td>85</td>\n",
       "      <td>2.0</td>\n",
       "      <td>South America</td>\n",
       "    </tr>\n",
       "    <tr>\n",
       "      <th>4</th>\n",
       "      <td>Germany</td>\n",
       "      <td>32507180</td>\n",
       "      <td>148389</td>\n",
       "      <td>32452250</td>\n",
       "      <td>148299</td>\n",
       "      <td>54930</td>\n",
       "      <td>90</td>\n",
       "      <td>0.5</td>\n",
       "      <td>Europe</td>\n",
       "    </tr>\n",
       "  </tbody>\n",
       "</table>\n",
       "</div>"
      ],
      "text/plain": [
       "  Country/Region     Cases   Deaths    PCases  PDeaths  Cases (+)  Deaths (+)  \\\n",
       "0             US  95320071  1050767  95250705  1050323      69366         444   \n",
       "1          India  44502363   528185  44500580   528165       1783          20   \n",
       "2         France  34939449   155569  34898909   155508      40540          61   \n",
       "3         Brazil  34533957   684898  34516739   684813      17218          85   \n",
       "4        Germany  32507180   148389  32452250   148299      54930          90   \n",
       "\n",
       "   Fatality Rate      Continent  \n",
       "0            1.1  North America  \n",
       "1            1.2           Asia  \n",
       "2            0.4         Europe  \n",
       "3            2.0  South America  \n",
       "4            0.5         Europe  "
      ]
     },
     "execution_count": 15,
     "metadata": {},
     "output_type": "execute_result"
    }
   ],
   "source": [
    "#hide\n",
    "df_table = (pd.DataFrame(dict(Cases=dfc_cases, Deaths=dfc_deaths, PCases=dfp_cases, PDeaths=dfp_deaths))\n",
    "             .sort_values(by=['Cases', 'Deaths'], ascending=[False, False])\n",
    "             .reset_index())\n",
    "df_table.rename(columns={'index': 'Country/Region'}, inplace=True)\n",
    "for c in 'Cases, Deaths'.split(', '):\n",
    "    df_table[f'{c} (+)'] = (df_table[c] - df_table[f'P{c}']).clip(0)  # DATA BUG\n",
    "df_table['Fatality Rate'] = (100 * df_table['Deaths'] / df_table['Cases']).round(1)\n",
    "df_table['Continent'] = df_table['Country/Region'].map(mapping['map.continent'])\n",
    "df_table.head(5)"
   ]
  },
  {
   "cell_type": "code",
   "execution_count": 16,
   "id": "fewer-occasion",
   "metadata": {
    "execution": {
     "iopub.execute_input": "2022-09-14T00:47:50.216823Z",
     "iopub.status.busy": "2022-09-14T00:47:50.215919Z",
     "iopub.status.idle": "2022-09-14T00:47:50.219191Z",
     "shell.execute_reply": "2022-09-14T00:47:50.219616Z"
    },
    "papermill": {
     "duration": 0.038789,
     "end_time": "2022-09-14T00:47:50.219740",
     "exception": false,
     "start_time": "2022-09-14T00:47:50.180951",
     "status": "completed"
    },
    "tags": []
   },
   "outputs": [],
   "source": [
    "#hide\n",
    "#delete problematic countries from table\n",
    "df_table = df_table[~df_table['Country/Region'].isin(['Cape Verde', 'Cruise Ship', 'Kosovo'])]"
   ]
  },
  {
   "cell_type": "code",
   "execution_count": 17,
   "id": "related-center",
   "metadata": {
    "execution": {
     "iopub.execute_input": "2022-09-14T00:47:50.297611Z",
     "iopub.status.busy": "2022-09-14T00:47:50.286495Z",
     "iopub.status.idle": "2022-09-14T00:47:50.300079Z",
     "shell.execute_reply": "2022-09-14T00:47:50.299507Z"
    },
    "papermill": {
     "duration": 0.050269,
     "end_time": "2022-09-14T00:47:50.300189",
     "exception": false,
     "start_time": "2022-09-14T00:47:50.249920",
     "status": "completed"
    },
    "tags": []
   },
   "outputs": [],
   "source": [
    "#hide\n",
    "metrics = [df_table.columns[index] for index in [1,2,5,6]]\n",
    "# s_china = df_table[df_table['Country/Region'].eq('China')][metrics].sum().add_prefix('China ')\n",
    "s_us = df_table[df_table['Country/Region'].eq('US')][metrics].sum().add_prefix('US ')\n",
    "s_eu = df_table[df_table['Continent'].eq('Europe')][metrics].sum().add_prefix('EU ')\n",
    "s_ind = df_table[df_table['Country/Region'].eq('India')][metrics].sum().add_prefix('India ')\n",
    "summary = {'updated': pd.to_datetime(dt_today), 'since': pd.to_datetime(dt_yday)}\n",
    "summary = {'updated': pd.to_datetime(dt_today), 'since': pd.to_datetime(dt_yday)}\n",
    "summary = {**summary, **df_table[metrics].sum(), **s_ind, **s_us, **s_eu}"
   ]
  },
  {
   "cell_type": "code",
   "execution_count": 18,
   "id": "engaging-syndrome",
   "metadata": {
    "execution": {
     "iopub.execute_input": "2022-09-14T00:47:50.365884Z",
     "iopub.status.busy": "2022-09-14T00:47:50.365306Z",
     "iopub.status.idle": "2022-09-14T00:47:50.386025Z",
     "shell.execute_reply": "2022-09-14T00:47:50.385491Z"
    },
    "papermill": {
     "duration": 0.055431,
     "end_time": "2022-09-14T00:47:50.386174",
     "exception": false,
     "start_time": "2022-09-14T00:47:50.330743",
     "status": "completed"
    },
    "tags": []
   },
   "outputs": [],
   "source": [
    "#hide\n",
    "dft_ct_new_cases = dft_cases.groupby(COL_REGION)[dt_cols].sum().diff(axis=1).fillna(0).astype(int)"
   ]
  },
  {
   "cell_type": "code",
   "execution_count": 19,
   "id": "neutral-assignment",
   "metadata": {
    "execution": {
     "iopub.execute_input": "2022-09-14T00:47:50.453311Z",
     "iopub.status.busy": "2022-09-14T00:47:50.452733Z",
     "iopub.status.idle": "2022-09-14T00:47:50.456391Z",
     "shell.execute_reply": "2022-09-14T00:47:50.455944Z"
    },
    "papermill": {
     "duration": 0.039728,
     "end_time": "2022-09-14T00:47:50.456502",
     "exception": false,
     "start_time": "2022-09-14T00:47:50.416774",
     "status": "completed"
    },
    "tags": []
   },
   "outputs": [],
   "source": [
    "#hide\n",
    "everydaycases = dft_ct_new_cases.cumsum(axis=1)"
   ]
  },
  {
   "cell_type": "code",
   "execution_count": 20,
   "id": "parliamentary-calgary",
   "metadata": {
    "execution": {
     "iopub.execute_input": "2022-09-14T00:47:50.521752Z",
     "iopub.status.busy": "2022-09-14T00:47:50.521178Z",
     "iopub.status.idle": "2022-09-14T00:47:51.063522Z",
     "shell.execute_reply": "2022-09-14T00:47:51.064033Z"
    },
    "papermill": {
     "duration": 0.576972,
     "end_time": "2022-09-14T00:47:51.064216",
     "exception": false,
     "start_time": "2022-09-14T00:47:50.487244",
     "status": "completed"
    },
    "tags": []
   },
   "outputs": [],
   "source": [
    "#hide\n",
    "import pandas as pd\n",
    "import matplotlib.pyplot as plt\n",
    "import matplotlib.ticker as ticker\n",
    "import matplotlib.animation as animation\n",
    "from IPython.display import HTML"
   ]
  },
  {
   "cell_type": "code",
   "execution_count": 21,
   "id": "lasting-extraction",
   "metadata": {
    "execution": {
     "iopub.execute_input": "2022-09-14T00:47:51.133243Z",
     "iopub.status.busy": "2022-09-14T00:47:51.132608Z",
     "iopub.status.idle": "2022-09-14T00:47:51.140372Z",
     "shell.execute_reply": "2022-09-14T00:47:51.139855Z"
    },
    "papermill": {
     "duration": 0.045568,
     "end_time": "2022-09-14T00:47:51.140489",
     "exception": false,
     "start_time": "2022-09-14T00:47:51.094921",
     "status": "completed"
    },
    "tags": []
   },
   "outputs": [],
   "source": [
    "#hide\n",
    "t = everydaycases.stack()"
   ]
  },
  {
   "cell_type": "code",
   "execution_count": 22,
   "id": "premier-sleeve",
   "metadata": {
    "execution": {
     "iopub.execute_input": "2022-09-14T00:47:51.206997Z",
     "iopub.status.busy": "2022-09-14T00:47:51.206292Z",
     "iopub.status.idle": "2022-09-14T00:47:51.219534Z",
     "shell.execute_reply": "2022-09-14T00:47:51.219037Z"
    },
    "papermill": {
     "duration": 0.048326,
     "end_time": "2022-09-14T00:47:51.219656",
     "exception": false,
     "start_time": "2022-09-14T00:47:51.171330",
     "status": "completed"
    },
    "tags": []
   },
   "outputs": [],
   "source": [
    "#hide\n",
    "g = t.reset_index(['Country/Region'])"
   ]
  },
  {
   "cell_type": "code",
   "execution_count": 23,
   "id": "distributed-pittsburgh",
   "metadata": {
    "execution": {
     "iopub.execute_input": "2022-09-14T00:47:51.285701Z",
     "iopub.status.busy": "2022-09-14T00:47:51.285000Z",
     "iopub.status.idle": "2022-09-14T00:47:51.287531Z",
     "shell.execute_reply": "2022-09-14T00:47:51.286994Z"
    },
    "papermill": {
     "duration": 0.037212,
     "end_time": "2022-09-14T00:47:51.287658",
     "exception": false,
     "start_time": "2022-09-14T00:47:51.250446",
     "status": "completed"
    },
    "tags": []
   },
   "outputs": [],
   "source": [
    "#hide\n",
    "g.index.name = 'date'"
   ]
  },
  {
   "cell_type": "code",
   "execution_count": 24,
   "id": "naked-donor",
   "metadata": {
    "execution": {
     "iopub.execute_input": "2022-09-14T00:47:51.351848Z",
     "iopub.status.busy": "2022-09-14T00:47:51.351188Z",
     "iopub.status.idle": "2022-09-14T00:47:51.354998Z",
     "shell.execute_reply": "2022-09-14T00:47:51.355536Z"
    },
    "papermill": {
     "duration": 0.037052,
     "end_time": "2022-09-14T00:47:51.355661",
     "exception": false,
     "start_time": "2022-09-14T00:47:51.318609",
     "status": "completed"
    },
    "tags": []
   },
   "outputs": [],
   "source": [
    "# #hide\n",
    "# g = g.reset_index(['date'])"
   ]
  },
  {
   "cell_type": "code",
   "execution_count": 25,
   "id": "incomplete-mustang",
   "metadata": {
    "execution": {
     "iopub.execute_input": "2022-09-14T00:47:51.420133Z",
     "iopub.status.busy": "2022-09-14T00:47:51.419490Z",
     "iopub.status.idle": "2022-09-14T00:47:51.421806Z",
     "shell.execute_reply": "2022-09-14T00:47:51.422266Z"
    },
    "papermill": {
     "duration": 0.036478,
     "end_time": "2022-09-14T00:47:51.422398",
     "exception": false,
     "start_time": "2022-09-14T00:47:51.385920",
     "status": "completed"
    },
    "tags": []
   },
   "outputs": [],
   "source": [
    "#hide\n",
    "# g.head()"
   ]
  },
  {
   "cell_type": "code",
   "execution_count": 26,
   "id": "specific-kruger",
   "metadata": {
    "execution": {
     "iopub.execute_input": "2022-09-14T00:47:51.487669Z",
     "iopub.status.busy": "2022-09-14T00:47:51.486912Z",
     "iopub.status.idle": "2022-09-14T00:47:51.490177Z",
     "shell.execute_reply": "2022-09-14T00:47:51.489652Z"
    },
    "papermill": {
     "duration": 0.037254,
     "end_time": "2022-09-14T00:47:51.490290",
     "exception": false,
     "start_time": "2022-09-14T00:47:51.453036",
     "status": "completed"
    },
    "tags": []
   },
   "outputs": [],
   "source": [
    "#hide\n",
    "# g.columns = ['date','country','cases']"
   ]
  },
  {
   "cell_type": "code",
   "execution_count": 27,
   "id": "tender-conversion",
   "metadata": {
    "execution": {
     "iopub.execute_input": "2022-09-14T00:47:51.555206Z",
     "iopub.status.busy": "2022-09-14T00:47:51.554518Z",
     "iopub.status.idle": "2022-09-14T00:47:51.557232Z",
     "shell.execute_reply": "2022-09-14T00:47:51.556695Z"
    },
    "papermill": {
     "duration": 0.036755,
     "end_time": "2022-09-14T00:47:51.557354",
     "exception": false,
     "start_time": "2022-09-14T00:47:51.520599",
     "status": "completed"
    },
    "tags": []
   },
   "outputs": [],
   "source": [
    "#hide\n",
    "# g['continent'] = g.country"
   ]
  },
  {
   "cell_type": "code",
   "execution_count": 28,
   "id": "substantial-wilderness",
   "metadata": {
    "execution": {
     "iopub.execute_input": "2022-09-14T00:47:51.622616Z",
     "iopub.status.busy": "2022-09-14T00:47:51.621892Z",
     "iopub.status.idle": "2022-09-14T00:47:51.624586Z",
     "shell.execute_reply": "2022-09-14T00:47:51.624049Z"
    },
    "papermill": {
     "duration": 0.036617,
     "end_time": "2022-09-14T00:47:51.624707",
     "exception": false,
     "start_time": "2022-09-14T00:47:51.588090",
     "status": "completed"
    },
    "tags": []
   },
   "outputs": [],
   "source": [
    "#hide\n",
    "# cols = list(g.columns.values)"
   ]
  },
  {
   "cell_type": "code",
   "execution_count": 29,
   "id": "solved-farming",
   "metadata": {
    "execution": {
     "iopub.execute_input": "2022-09-14T00:47:51.689799Z",
     "iopub.status.busy": "2022-09-14T00:47:51.689046Z",
     "iopub.status.idle": "2022-09-14T00:47:51.691544Z",
     "shell.execute_reply": "2022-09-14T00:47:51.691065Z"
    },
    "papermill": {
     "duration": 0.036207,
     "end_time": "2022-09-14T00:47:51.691661",
     "exception": false,
     "start_time": "2022-09-14T00:47:51.655454",
     "status": "completed"
    },
    "tags": []
   },
   "outputs": [],
   "source": [
    "#hide\n",
    "# cols.insert(0, cols.pop())"
   ]
  },
  {
   "cell_type": "code",
   "execution_count": 30,
   "id": "executed-adoption",
   "metadata": {
    "execution": {
     "iopub.execute_input": "2022-09-14T00:47:51.756557Z",
     "iopub.status.busy": "2022-09-14T00:47:51.755882Z",
     "iopub.status.idle": "2022-09-14T00:47:51.758552Z",
     "shell.execute_reply": "2022-09-14T00:47:51.758013Z"
    },
    "papermill": {
     "duration": 0.036612,
     "end_time": "2022-09-14T00:47:51.758700",
     "exception": false,
     "start_time": "2022-09-14T00:47:51.722088",
     "status": "completed"
    },
    "tags": []
   },
   "outputs": [],
   "source": [
    "#hide\n",
    "# g = g[cols]"
   ]
  },
  {
   "cell_type": "code",
   "execution_count": 31,
   "id": "subject-dublin",
   "metadata": {
    "execution": {
     "iopub.execute_input": "2022-09-14T00:47:51.824299Z",
     "iopub.status.busy": "2022-09-14T00:47:51.823692Z",
     "iopub.status.idle": "2022-09-14T00:47:51.826487Z",
     "shell.execute_reply": "2022-09-14T00:47:51.825887Z"
    },
    "papermill": {
     "duration": 0.036833,
     "end_time": "2022-09-14T00:47:51.826624",
     "exception": false,
     "start_time": "2022-09-14T00:47:51.789791",
     "status": "completed"
    },
    "tags": []
   },
   "outputs": [],
   "source": [
    "#hide\n",
    "# g['continent'] = g['continent'].map(mapping['map.continent'])"
   ]
  },
  {
   "cell_type": "code",
   "execution_count": 32,
   "id": "freelance-scout",
   "metadata": {
    "execution": {
     "iopub.execute_input": "2022-09-14T00:47:51.891470Z",
     "iopub.status.busy": "2022-09-14T00:47:51.890805Z",
     "iopub.status.idle": "2022-09-14T00:47:51.893452Z",
     "shell.execute_reply": "2022-09-14T00:47:51.892880Z"
    },
    "papermill": {
     "duration": 0.036339,
     "end_time": "2022-09-14T00:47:51.893573",
     "exception": false,
     "start_time": "2022-09-14T00:47:51.857234",
     "status": "completed"
    },
    "tags": []
   },
   "outputs": [],
   "source": [
    "#hide\n",
    "# g.head()"
   ]
  },
  {
   "cell_type": "code",
   "execution_count": 33,
   "id": "limited-engine",
   "metadata": {
    "execution": {
     "iopub.execute_input": "2022-09-14T00:47:51.957818Z",
     "iopub.status.busy": "2022-09-14T00:47:51.957239Z",
     "iopub.status.idle": "2022-09-14T00:47:51.960080Z",
     "shell.execute_reply": "2022-09-14T00:47:51.959612Z"
    },
    "papermill": {
     "duration": 0.036401,
     "end_time": "2022-09-14T00:47:51.960187",
     "exception": false,
     "start_time": "2022-09-14T00:47:51.923786",
     "status": "completed"
    },
    "tags": []
   },
   "outputs": [],
   "source": [
    "# hide\n",
    "# g['date'] = g['date'].astype('datetime64[ns]')"
   ]
  },
  {
   "cell_type": "code",
   "execution_count": 34,
   "id": "sophisticated-supervisor",
   "metadata": {
    "execution": {
     "iopub.execute_input": "2022-09-14T00:47:52.024759Z",
     "iopub.status.busy": "2022-09-14T00:47:52.024096Z",
     "iopub.status.idle": "2022-09-14T00:47:52.026593Z",
     "shell.execute_reply": "2022-09-14T00:47:52.025920Z"
    },
    "papermill": {
     "duration": 0.036114,
     "end_time": "2022-09-14T00:47:52.026713",
     "exception": false,
     "start_time": "2022-09-14T00:47:51.990599",
     "status": "completed"
    },
    "tags": []
   },
   "outputs": [],
   "source": [
    "#hide\n",
    "# g['date'] = g.date.dt.dayofyear"
   ]
  },
  {
   "cell_type": "code",
   "execution_count": 35,
   "id": "inside-dubai",
   "metadata": {
    "execution": {
     "iopub.execute_input": "2022-09-14T00:47:52.091694Z",
     "iopub.status.busy": "2022-09-14T00:47:52.091009Z",
     "iopub.status.idle": "2022-09-14T00:47:52.093631Z",
     "shell.execute_reply": "2022-09-14T00:47:52.092984Z"
    },
    "papermill": {
     "duration": 0.036733,
     "end_time": "2022-09-14T00:47:52.093755",
     "exception": false,
     "start_time": "2022-09-14T00:47:52.057022",
     "status": "completed"
    },
    "tags": []
   },
   "outputs": [],
   "source": [
    "#hide\n",
    "# g = g.rename(columns= {'continent':'group','country':'name','cases':'value'})"
   ]
  },
  {
   "cell_type": "code",
   "execution_count": 36,
   "id": "fleet-motorcycle",
   "metadata": {
    "execution": {
     "iopub.execute_input": "2022-09-14T00:47:52.159112Z",
     "iopub.status.busy": "2022-09-14T00:47:52.158521Z",
     "iopub.status.idle": "2022-09-14T00:47:52.160742Z",
     "shell.execute_reply": "2022-09-14T00:47:52.161291Z"
    },
    "papermill": {
     "duration": 0.036607,
     "end_time": "2022-09-14T00:47:52.161419",
     "exception": false,
     "start_time": "2022-09-14T00:47:52.124812",
     "status": "completed"
    },
    "tags": []
   },
   "outputs": [],
   "source": [
    "#hide\n",
    "# cols = ['name','group','day','value']"
   ]
  },
  {
   "cell_type": "code",
   "execution_count": 37,
   "id": "continued-sleeping",
   "metadata": {
    "execution": {
     "iopub.execute_input": "2022-09-14T00:47:52.225879Z",
     "iopub.status.busy": "2022-09-14T00:47:52.225295Z",
     "iopub.status.idle": "2022-09-14T00:47:52.228132Z",
     "shell.execute_reply": "2022-09-14T00:47:52.227662Z"
    },
    "papermill": {
     "duration": 0.036589,
     "end_time": "2022-09-14T00:47:52.228239",
     "exception": false,
     "start_time": "2022-09-14T00:47:52.191650",
     "status": "completed"
    },
    "tags": []
   },
   "outputs": [],
   "source": [
    "#hide\n",
    "# g.rename(columns= {'date':'day'},inplace = True)"
   ]
  },
  {
   "cell_type": "code",
   "execution_count": 38,
   "id": "major-fight",
   "metadata": {
    "execution": {
     "iopub.execute_input": "2022-09-14T00:47:52.293500Z",
     "iopub.status.busy": "2022-09-14T00:47:52.292884Z",
     "iopub.status.idle": "2022-09-14T00:47:52.295515Z",
     "shell.execute_reply": "2022-09-14T00:47:52.294938Z"
    },
    "papermill": {
     "duration": 0.036693,
     "end_time": "2022-09-14T00:47:52.295628",
     "exception": false,
     "start_time": "2022-09-14T00:47:52.258935",
     "status": "completed"
    },
    "tags": []
   },
   "outputs": [],
   "source": [
    "#hide\n",
    "# g = g[cols]"
   ]
  },
  {
   "cell_type": "code",
   "execution_count": 39,
   "id": "structured-mobile",
   "metadata": {
    "execution": {
     "iopub.execute_input": "2022-09-14T00:47:52.360469Z",
     "iopub.status.busy": "2022-09-14T00:47:52.359767Z",
     "iopub.status.idle": "2022-09-14T00:47:52.363949Z",
     "shell.execute_reply": "2022-09-14T00:47:52.364461Z"
    },
    "papermill": {
     "duration": 0.038748,
     "end_time": "2022-09-14T00:47:52.364603",
     "exception": false,
     "start_time": "2022-09-14T00:47:52.325855",
     "status": "completed"
    },
    "tags": []
   },
   "outputs": [],
   "source": [
    "# #hide\n",
    "# g = g[g.group.notna()]"
   ]
  },
  {
   "cell_type": "code",
   "execution_count": 40,
   "id": "determined-closing",
   "metadata": {
    "execution": {
     "iopub.execute_input": "2022-09-14T00:47:52.429389Z",
     "iopub.status.busy": "2022-09-14T00:47:52.428709Z",
     "iopub.status.idle": "2022-09-14T00:47:52.431327Z",
     "shell.execute_reply": "2022-09-14T00:47:52.430680Z"
    },
    "papermill": {
     "duration": 0.036372,
     "end_time": "2022-09-14T00:47:52.431452",
     "exception": false,
     "start_time": "2022-09-14T00:47:52.395080",
     "status": "completed"
    },
    "tags": []
   },
   "outputs": [],
   "source": [
    "# #hide\n",
    "# colors = dict(zip(\n",
    "#     [\"Oceania\", \"Europe\", \"Asia\", \"South America\", \"Middle East\", \"North America\", \"Africa\"],\n",
    "#     [\"#adb0ff\", \"#ffb3ff\", \"#90d595\", \"#e48381\", \"#aafbff\", \"#f7bb5f\", \"#eafb50\"]\n",
    "# ))\n",
    "# group_lk = g.set_index('name')['group'].to_dict()"
   ]
  },
  {
   "cell_type": "code",
   "execution_count": null,
   "id": "gross-drinking",
   "metadata": {
    "papermill": {
     "duration": 0.030971,
     "end_time": "2022-09-14T00:47:52.494947",
     "exception": false,
     "start_time": "2022-09-14T00:47:52.463976",
     "status": "completed"
    },
    "tags": []
   },
   "outputs": [],
   "source": []
  },
  {
   "cell_type": "code",
   "execution_count": 41,
   "id": "subject-macintosh",
   "metadata": {
    "execution": {
     "iopub.execute_input": "2022-09-14T00:47:52.561224Z",
     "iopub.status.busy": "2022-09-14T00:47:52.560586Z",
     "iopub.status.idle": "2022-09-14T00:47:52.563219Z",
     "shell.execute_reply": "2022-09-14T00:47:52.562762Z"
    },
    "papermill": {
     "duration": 0.037521,
     "end_time": "2022-09-14T00:47:52.563337",
     "exception": false,
     "start_time": "2022-09-14T00:47:52.525816",
     "status": "completed"
    },
    "tags": []
   },
   "outputs": [],
   "source": [
    "# #hide\n",
    "# fig, ax = plt.subplots(figsize=(15, 8))\n",
    "\n",
    "# def draw_barchart(current_day):\n",
    "#     dff = g[g['day'].eq(current_day)].sort_values(by='value', ascending=True).tail(10)\n",
    "#     ax.clear()\n",
    "#     ax.barh(dff['name'], dff['value'], color=[colors[group_lk[x]] for x in dff['name']])\n",
    "#     dx = dff['value'].max() / 200\n",
    "    \n",
    "#     for i, (value, name) in enumerate(zip(dff['value'], dff['name'])):\n",
    "#         ax.text(value-dx, i,     name,           size=14, weight=600, ha='right', va='bottom')\n",
    "#         ax.text(value-dx, i-.25, group_lk[name], size=10, color='#444444', ha='right', va='baseline')\n",
    "#         ax.text(value+dx, i,     f'{value:,.0f}',  size=14, ha='left',  va='center')\n",
    "#     ax.text(1, 0.4, current_day, transform=ax.transAxes, color='#777777', size=46, ha='right', weight=800)\n",
    "#     ax.text(0, 1.06, 'Population (thousands)', transform=ax.transAxes, size=12, color='#777777')\n",
    "#     ax.xaxis.set_major_formatter(ticker.StrMethodFormatter('{x:,.0f}'))\n",
    "#     ax.xaxis.set_ticks_position('top')\n",
    "#     ax.tick_params(axis='x', colors='#777777', labelsize=12)\n",
    "#     ax.set_yticks([])\n",
    "#     ax.margins(0, 0.01)\n",
    "#     ax.grid(which='major', axis='x', linestyle='-')\n",
    "#     ax.set_axisbelow(True)\n",
    "    \n",
    "#     ax.text(0, 1.15, 'Coronavirus',\n",
    "#             transform=ax.transAxes, size=24, weight=600, ha='left', va='top')\n",
    "# #     ax.text(1, 0, 'by @pratapvardhan; credit @jburnmurdoch', transform=ax.transAxes, color='#777777', ha='right',\n",
    "# #             bbox=dict(facecolor='white', alpha=0.8, edgecolor='white'))\n",
    "#     plt.box(False)"
   ]
  },
  {
   "cell_type": "code",
   "execution_count": 42,
   "id": "sexual-wages",
   "metadata": {
    "execution": {
     "iopub.execute_input": "2022-09-14T00:47:52.628805Z",
     "iopub.status.busy": "2022-09-14T00:47:52.628118Z",
     "iopub.status.idle": "2022-09-14T00:47:52.630642Z",
     "shell.execute_reply": "2022-09-14T00:47:52.630064Z"
    },
    "papermill": {
     "duration": 0.036918,
     "end_time": "2022-09-14T00:47:52.630755",
     "exception": false,
     "start_time": "2022-09-14T00:47:52.593837",
     "status": "completed"
    },
    "tags": []
   },
   "outputs": [],
   "source": [
    "# #hide_input\n",
    "# fig, ax = plt.subplots(figsize=(15, 8))\n",
    "# animator = animation.FuncAnimation(fig, draw_barchart, frames=range(g.day.values.min(), g.day.values.max()))\n",
    "# HTML(animator.to_jshtml())\n",
    "# # or use animator.to_html5_video() or animator.save() "
   ]
  },
  {
   "cell_type": "code",
   "execution_count": null,
   "id": "australian-container",
   "metadata": {
    "papermill": {
     "duration": 0.030653,
     "end_time": "2022-09-14T00:47:52.691985",
     "exception": false,
     "start_time": "2022-09-14T00:47:52.661332",
     "status": "completed"
    },
    "tags": []
   },
   "outputs": [],
   "source": []
  },
  {
   "cell_type": "code",
   "execution_count": null,
   "id": "mediterranean-pontiac",
   "metadata": {
    "papermill": {
     "duration": 0.030501,
     "end_time": "2022-09-14T00:47:52.753194",
     "exception": false,
     "start_time": "2022-09-14T00:47:52.722693",
     "status": "completed"
    },
    "tags": []
   },
   "outputs": [],
   "source": []
  },
  {
   "cell_type": "code",
   "execution_count": null,
   "id": "aging-legislature",
   "metadata": {
    "papermill": {
     "duration": 0.030451,
     "end_time": "2022-09-14T00:47:52.814412",
     "exception": false,
     "start_time": "2022-09-14T00:47:52.783961",
     "status": "completed"
    },
    "tags": []
   },
   "outputs": [],
   "source": []
  }
 ],
 "metadata": {
  "kernelspec": {
   "display_name": "Python 3",
   "language": "python",
   "name": "python3"
  },
  "language_info": {
   "codemirror_mode": {
    "name": "ipython",
    "version": 3
   },
   "file_extension": ".py",
   "mimetype": "text/x-python",
   "name": "python",
   "nbconvert_exporter": "python",
   "pygments_lexer": "ipython3",
   "version": "3.6.15"
  },
  "papermill": {
   "duration": 5.977919,
   "end_time": "2022-09-14T00:47:53.164232",
   "environment_variables": {},
   "exception": null,
   "input_path": "2020-03-21-covid19exp.ipynb",
   "output_path": "2020-03-21-covid19exp.ipynb",
   "parameters": {},
   "start_time": "2022-09-14T00:47:47.186313",
   "version": "2.0.0"
  }
 },
 "nbformat": 4,
 "nbformat_minor": 5
}