{
 "cells": [
  {
   "cell_type": "markdown",
   "id": "muslim-click",
   "metadata": {
    "papermill": {
     "duration": 0.034099,
     "end_time": "2021-09-29T00:21:58.368258",
     "exception": false,
     "start_time": "2021-09-29T00:21:58.334159",
     "status": "completed"
    },
    "tags": []
   },
   "source": [
    "# COVID-19 Case Race\n",
    "> A race chart to see rising cases around the world\n",
    "\n",
    "- author: Hargun Oberoi\n",
    "- image: images/covid-overview.png\n",
    "- hide: false\n",
    "- badges: false"
   ]
  },
  {
   "cell_type": "code",
   "execution_count": 1,
   "id": "proof-material",
   "metadata": {
    "execution": {
     "iopub.execute_input": "2021-09-29T00:21:58.436033Z",
     "iopub.status.busy": "2021-09-29T00:21:58.434718Z",
     "iopub.status.idle": "2021-09-29T00:21:58.746239Z",
     "shell.execute_reply": "2021-09-29T00:21:58.745750Z"
    },
    "papermill": {
     "duration": 0.348084,
     "end_time": "2021-09-29T00:21:58.746381",
     "exception": false,
     "start_time": "2021-09-29T00:21:58.398297",
     "status": "completed"
    },
    "tags": []
   },
   "outputs": [],
   "source": [
    "#hide\n",
    "import numpy as np\n",
    "import pandas as pd\n",
    "from jinja2 import Template\n",
    "from IPython.display import HTML"
   ]
  },
  {
   "cell_type": "code",
   "execution_count": 2,
   "id": "developed-terminology",
   "metadata": {
    "execution": {
     "iopub.execute_input": "2021-09-29T00:21:58.812415Z",
     "iopub.status.busy": "2021-09-29T00:21:58.811818Z",
     "iopub.status.idle": "2021-09-29T00:21:58.813290Z",
     "shell.execute_reply": "2021-09-29T00:21:58.813755Z"
    },
    "papermill": {
     "duration": 0.036983,
     "end_time": "2021-09-29T00:21:58.813886",
     "exception": false,
     "start_time": "2021-09-29T00:21:58.776903",
     "status": "completed"
    },
    "tags": []
   },
   "outputs": [],
   "source": [
    "#hide\n",
    "\n",
    "# FETCH\n",
    "base_url = 'https://raw.githubusercontent.com/pratapvardhan/notebooks/master/covid19/'\n",
    "paths = {\n",
    "    'mapping': base_url + 'mapping_countries.csv',\n",
    "    'overview': base_url + 'overview.tpl'\n",
    "}"
   ]
  },
  {
   "cell_type": "code",
   "execution_count": 3,
   "id": "dynamic-saver",
   "metadata": {
    "execution": {
     "iopub.execute_input": "2021-09-29T00:21:58.881845Z",
     "iopub.status.busy": "2021-09-29T00:21:58.881339Z",
     "iopub.status.idle": "2021-09-29T00:21:58.883745Z",
     "shell.execute_reply": "2021-09-29T00:21:58.884184Z"
    },
    "papermill": {
     "duration": 0.040638,
     "end_time": "2021-09-29T00:21:58.884297",
     "exception": false,
     "start_time": "2021-09-29T00:21:58.843659",
     "status": "completed"
    },
    "tags": []
   },
   "outputs": [
    {
     "data": {
      "text/plain": [
       "'https://raw.githubusercontent.com/pratapvardhan/notebooks/master/covid19/mapping_countries.csv'"
      ]
     },
     "execution_count": 3,
     "metadata": {},
     "output_type": "execute_result"
    }
   ],
   "source": [
    "#hide\n",
    "paths['mapping']"
   ]
  },
  {
   "cell_type": "code",
   "execution_count": 4,
   "id": "urban-software",
   "metadata": {
    "execution": {
     "iopub.execute_input": "2021-09-29T00:21:58.948380Z",
     "iopub.status.busy": "2021-09-29T00:21:58.947874Z",
     "iopub.status.idle": "2021-09-29T00:21:58.949973Z",
     "shell.execute_reply": "2021-09-29T00:21:58.949569Z"
    },
    "papermill": {
     "duration": 0.035883,
     "end_time": "2021-09-29T00:21:58.950076",
     "exception": false,
     "start_time": "2021-09-29T00:21:58.914193",
     "status": "completed"
    },
    "tags": []
   },
   "outputs": [],
   "source": [
    "#hide\n",
    "def get_mappings(url):\n",
    "    df = pd.read_csv(url)\n",
    "    return {\n",
    "        'df': df,\n",
    "        'replace.country': dict(df.dropna(subset=['Name']).set_index('Country')['Name']),\n",
    "        'map.continent': dict(df.set_index('Name')['Continent'])\n",
    "    }"
   ]
  },
  {
   "cell_type": "code",
   "execution_count": 5,
   "id": "intimate-machinery",
   "metadata": {
    "execution": {
     "iopub.execute_input": "2021-09-29T00:21:59.013927Z",
     "iopub.status.busy": "2021-09-29T00:21:59.013422Z",
     "iopub.status.idle": "2021-09-29T00:21:59.071089Z",
     "shell.execute_reply": "2021-09-29T00:21:59.071579Z"
    },
    "papermill": {
     "duration": 0.092008,
     "end_time": "2021-09-29T00:21:59.071713",
     "exception": false,
     "start_time": "2021-09-29T00:21:58.979705",
     "status": "completed"
    },
    "tags": []
   },
   "outputs": [],
   "source": [
    "#hide\n",
    "mapping = get_mappings(paths['mapping'])"
   ]
  },
  {
   "cell_type": "code",
   "execution_count": 6,
   "id": "certified-tactics",
   "metadata": {
    "execution": {
     "iopub.execute_input": "2021-09-29T00:21:59.136866Z",
     "iopub.status.busy": "2021-09-29T00:21:59.136356Z",
     "iopub.status.idle": "2021-09-29T00:21:59.138222Z",
     "shell.execute_reply": "2021-09-29T00:21:59.138604Z"
    },
    "papermill": {
     "duration": 0.036152,
     "end_time": "2021-09-29T00:21:59.138717",
     "exception": false,
     "start_time": "2021-09-29T00:21:59.102565",
     "status": "completed"
    },
    "tags": []
   },
   "outputs": [],
   "source": [
    "#hide\n",
    "def get_template(path):\n",
    "    from urllib.parse import urlparse\n",
    "    if bool(urlparse(path).netloc):\n",
    "        from urllib.request import urlopen\n",
    "        return urlopen(path).read().decode('utf8')\n",
    "    return open(path).read()"
   ]
  },
  {
   "cell_type": "code",
   "execution_count": 7,
   "id": "realistic-blast",
   "metadata": {
    "execution": {
     "iopub.execute_input": "2021-09-29T00:21:59.202283Z",
     "iopub.status.busy": "2021-09-29T00:21:59.201773Z",
     "iopub.status.idle": "2021-09-29T00:21:59.203484Z",
     "shell.execute_reply": "2021-09-29T00:21:59.203871Z"
    },
    "papermill": {
     "duration": 0.035593,
     "end_time": "2021-09-29T00:21:59.203984",
     "exception": false,
     "start_time": "2021-09-29T00:21:59.168391",
     "status": "completed"
    },
    "tags": []
   },
   "outputs": [],
   "source": [
    "#hide\n",
    "def get_frame(name):\n",
    "    url = (\n",
    "        'https://raw.githubusercontent.com/CSSEGISandData/COVID-19/master/csse_covid_19_data/'\n",
    "        f'csse_covid_19_time_series/time_series_covid19_{name}_global.csv')\n",
    "    df = pd.read_csv(url)\n",
    "    # rename countries\n",
    "    df['Country/Region'] = df['Country/Region'].replace(mapping['replace.country'])\n",
    "    return df"
   ]
  },
  {
   "cell_type": "code",
   "execution_count": 8,
   "id": "affiliated-characterization",
   "metadata": {
    "execution": {
     "iopub.execute_input": "2021-09-29T00:21:59.268591Z",
     "iopub.status.busy": "2021-09-29T00:21:59.268081Z",
     "iopub.status.idle": "2021-09-29T00:21:59.270076Z",
     "shell.execute_reply": "2021-09-29T00:21:59.270557Z"
    },
    "papermill": {
     "duration": 0.036947,
     "end_time": "2021-09-29T00:21:59.270667",
     "exception": false,
     "start_time": "2021-09-29T00:21:59.233720",
     "status": "completed"
    },
    "tags": []
   },
   "outputs": [],
   "source": [
    "#hide\n",
    "def get_dates(df):\n",
    "    dt_cols = df.columns[~df.columns.isin(['Province/State', 'Country/Region', 'Lat', 'Long'])]\n",
    "    LAST_DATE_I = -1\n",
    "    # sometimes last column may be empty, then go backwards\n",
    "    for i in range(-1, -len(dt_cols), -1):\n",
    "        if not df[dt_cols[i]].fillna(0).eq(0).all():\n",
    "            LAST_DATE_I = i\n",
    "            break\n",
    "    return LAST_DATE_I, dt_cols"
   ]
  },
  {
   "cell_type": "code",
   "execution_count": 9,
   "id": "recent-optimization",
   "metadata": {
    "execution": {
     "iopub.execute_input": "2021-09-29T00:21:59.334637Z",
     "iopub.status.busy": "2021-09-29T00:21:59.334123Z",
     "iopub.status.idle": "2021-09-29T00:21:59.865372Z",
     "shell.execute_reply": "2021-09-29T00:21:59.864836Z"
    },
    "papermill": {
     "duration": 0.565164,
     "end_time": "2021-09-29T00:21:59.865511",
     "exception": false,
     "start_time": "2021-09-29T00:21:59.300347",
     "status": "completed"
    },
    "tags": []
   },
   "outputs": [],
   "source": [
    "#hide\n",
    "COL_REGION = 'Country/Region'\n",
    "# Confirmed, Recovered, Deaths\n",
    "df = get_frame('confirmed')\n",
    "# dft_: timeseries, dfc_: today country agg\n",
    "dft_cases = df\n",
    "dft_deaths = get_frame('deaths')\n",
    "dft_recovered = get_frame('recovered')\n",
    "LAST_DATE_I, dt_cols = get_dates(df)"
   ]
  },
  {
   "cell_type": "code",
   "execution_count": 10,
   "id": "absolute-copper",
   "metadata": {
    "execution": {
     "iopub.execute_input": "2021-09-29T00:21:59.930894Z",
     "iopub.status.busy": "2021-09-29T00:21:59.930382Z",
     "iopub.status.idle": "2021-09-29T00:21:59.932729Z",
     "shell.execute_reply": "2021-09-29T00:21:59.932320Z"
    },
    "papermill": {
     "duration": 0.036418,
     "end_time": "2021-09-29T00:21:59.932836",
     "exception": false,
     "start_time": "2021-09-29T00:21:59.896418",
     "status": "completed"
    },
    "tags": []
   },
   "outputs": [],
   "source": [
    "#hide\n",
    "LAST_DATE_I, dt_cols = get_dates(df)\n",
    "dt_today =dt_cols[LAST_DATE_I]\n",
    "# dt_5day = dt_cols[LAST_DATE_I - 5]\n",
    "dt_yday = dt_cols[LAST_DATE_I - 1]"
   ]
  },
  {
   "cell_type": "code",
   "execution_count": 11,
   "id": "restricted-sheriff",
   "metadata": {
    "execution": {
     "iopub.execute_input": "2021-09-29T00:21:59.997736Z",
     "iopub.status.busy": "2021-09-29T00:21:59.997225Z",
     "iopub.status.idle": "2021-09-29T00:22:00.004738Z",
     "shell.execute_reply": "2021-09-29T00:22:00.004333Z"
    },
    "papermill": {
     "duration": 0.042191,
     "end_time": "2021-09-29T00:22:00.004838",
     "exception": false,
     "start_time": "2021-09-29T00:21:59.962647",
     "status": "completed"
    },
    "tags": []
   },
   "outputs": [],
   "source": [
    "#hide\n",
    "dfc_cases = dft_cases.groupby(COL_REGION)[dt_today].sum()\n",
    "dfc_deaths = dft_deaths.groupby(COL_REGION)[dt_today].sum()\n",
    "# dfp_cases = dft_cases.groupby(COL_REGION)[dt_5day].sum()\n",
    "# dfp_deaths = dft_deaths.groupby(COL_REGION)[dt_5day].sum()\n",
    "dfp_cases = dft_cases.groupby(COL_REGION)[dt_yday].sum()\n",
    "dfp_deaths = dft_deaths.groupby(COL_REGION)[dt_yday].sum()"
   ]
  },
  {
   "cell_type": "code",
   "execution_count": 12,
   "id": "deluxe-hepatitis",
   "metadata": {
    "execution": {
     "iopub.execute_input": "2021-09-29T00:22:00.069722Z",
     "iopub.status.busy": "2021-09-29T00:22:00.069211Z",
     "iopub.status.idle": "2021-09-29T00:22:00.073490Z",
     "shell.execute_reply": "2021-09-29T00:22:00.073926Z"
    },
    "papermill": {
     "duration": 0.039413,
     "end_time": "2021-09-29T00:22:00.074039",
     "exception": false,
     "start_time": "2021-09-29T00:22:00.034626",
     "status": "completed"
    },
    "tags": []
   },
   "outputs": [],
   "source": [
    "#hide\n",
    "df_table = (pd.DataFrame(dict(Cases = dfc_cases, Deaths = dfc_deaths, PCases = dfp_cases, PDeaths = dfp_deaths))\n",
    "            .sort_values(by = ['Cases','Deaths'], ascending = [False, False])\n",
    "            .reset_index())"
   ]
  },
  {
   "cell_type": "code",
   "execution_count": 13,
   "id": "educational-chancellor",
   "metadata": {
    "execution": {
     "iopub.execute_input": "2021-09-29T00:22:00.150096Z",
     "iopub.status.busy": "2021-09-29T00:22:00.149583Z",
     "iopub.status.idle": "2021-09-29T00:22:00.156502Z",
     "shell.execute_reply": "2021-09-29T00:22:00.156888Z"
    },
    "papermill": {
     "duration": 0.053411,
     "end_time": "2021-09-29T00:22:00.157002",
     "exception": false,
     "start_time": "2021-09-29T00:22:00.103591",
     "status": "completed"
    },
    "tags": []
   },
   "outputs": [
    {
     "data": {
      "text/html": [
       "<div>\n",
       "<style scoped>\n",
       "    .dataframe tbody tr th:only-of-type {\n",
       "        vertical-align: middle;\n",
       "    }\n",
       "\n",
       "    .dataframe tbody tr th {\n",
       "        vertical-align: top;\n",
       "    }\n",
       "\n",
       "    .dataframe thead th {\n",
       "        text-align: right;\n",
       "    }\n",
       "</style>\n",
       "<table border=\"1\" class=\"dataframe\">\n",
       "  <thead>\n",
       "    <tr style=\"text-align: right;\">\n",
       "      <th></th>\n",
       "      <th>Country/Region</th>\n",
       "      <th>Cases</th>\n",
       "      <th>Deaths</th>\n",
       "      <th>PCases</th>\n",
       "      <th>PDeaths</th>\n",
       "      <th>Cases (+)</th>\n",
       "      <th>Deaths (+)</th>\n",
       "      <th>Fatality Rate</th>\n",
       "      <th>Continent</th>\n",
       "    </tr>\n",
       "  </thead>\n",
       "  <tbody>\n",
       "    <tr>\n",
       "      <th>0</th>\n",
       "      <td>US</td>\n",
       "      <td>43116442</td>\n",
       "      <td>690426</td>\n",
       "      <td>42931354</td>\n",
       "      <td>688032</td>\n",
       "      <td>185088</td>\n",
       "      <td>2394</td>\n",
       "      <td>1.60</td>\n",
       "      <td>North America</td>\n",
       "    </tr>\n",
       "    <tr>\n",
       "      <th>1</th>\n",
       "      <td>India</td>\n",
       "      <td>33697581</td>\n",
       "      <td>447373</td>\n",
       "      <td>33678786</td>\n",
       "      <td>447194</td>\n",
       "      <td>18795</td>\n",
       "      <td>179</td>\n",
       "      <td>1.33</td>\n",
       "      <td>Asia</td>\n",
       "    </tr>\n",
       "    <tr>\n",
       "      <th>2</th>\n",
       "      <td>Brazil</td>\n",
       "      <td>21366395</td>\n",
       "      <td>594653</td>\n",
       "      <td>21351972</td>\n",
       "      <td>594443</td>\n",
       "      <td>14423</td>\n",
       "      <td>210</td>\n",
       "      <td>2.78</td>\n",
       "      <td>South America</td>\n",
       "    </tr>\n",
       "    <tr>\n",
       "      <th>3</th>\n",
       "      <td>United Kingdom</td>\n",
       "      <td>7737941</td>\n",
       "      <td>136569</td>\n",
       "      <td>7700358</td>\n",
       "      <td>136529</td>\n",
       "      <td>37583</td>\n",
       "      <td>40</td>\n",
       "      <td>1.76</td>\n",
       "      <td>Europe</td>\n",
       "    </tr>\n",
       "    <tr>\n",
       "      <th>4</th>\n",
       "      <td>Russia</td>\n",
       "      <td>7334843</td>\n",
       "      <td>201015</td>\n",
       "      <td>7313112</td>\n",
       "      <td>200245</td>\n",
       "      <td>21731</td>\n",
       "      <td>770</td>\n",
       "      <td>2.74</td>\n",
       "      <td>Europe</td>\n",
       "    </tr>\n",
       "  </tbody>\n",
       "</table>\n",
       "</div>"
      ],
      "text/plain": [
       "   Country/Region     Cases  Deaths    PCases  PDeaths  Cases (+)  Deaths (+)  \\\n",
       "0              US  43116442  690426  42931354   688032     185088        2394   \n",
       "1           India  33697581  447373  33678786   447194      18795         179   \n",
       "2          Brazil  21366395  594653  21351972   594443      14423         210   \n",
       "3  United Kingdom   7737941  136569   7700358   136529      37583          40   \n",
       "4          Russia   7334843  201015   7313112   200245      21731         770   \n",
       "\n",
       "   Fatality Rate      Continent  \n",
       "0           1.60  North America  \n",
       "1           1.33           Asia  \n",
       "2           2.78  South America  \n",
       "3           1.76         Europe  \n",
       "4           2.74         Europe  "
      ]
     },
     "execution_count": 13,
     "metadata": {},
     "output_type": "execute_result"
    }
   ],
   "source": [
    "#hide\n",
    "for c in 'Cases, Deaths'.split(', '):\n",
    "    df_table[f'{c} (+)'] = (df_table[c] - df_table[f'P{c}']).clip(0)\n",
    "    #Clip ça veut dire, les chiffres negatif sont interdit\n",
    "df_table['Fatality Rate'] = (100* df_table['Deaths']/ df_table['Cases']).round(2)\n",
    "df_table['Continent'] = df_table['Country/Region'].map(mapping['map.continent'])\n",
    "df_table.head(5)"
   ]
  },
  {
   "cell_type": "code",
   "execution_count": 14,
   "id": "aboriginal-bulgaria",
   "metadata": {
    "execution": {
     "iopub.execute_input": "2021-09-29T00:22:00.222349Z",
     "iopub.status.busy": "2021-09-29T00:22:00.221842Z",
     "iopub.status.idle": "2021-09-29T00:22:00.224965Z",
     "shell.execute_reply": "2021-09-29T00:22:00.224561Z"
    },
    "papermill": {
     "duration": 0.036952,
     "end_time": "2021-09-29T00:22:00.225066",
     "exception": false,
     "start_time": "2021-09-29T00:22:00.188114",
     "status": "completed"
    },
    "tags": []
   },
   "outputs": [],
   "source": [
    "#hide\n",
    "#delete problematic countries from table\n",
    "df_table = df_table[~df_table['Country/Region'].isin(['Cape Verde', 'Cruise Ship', 'Kosovo'])]"
   ]
  },
  {
   "cell_type": "code",
   "execution_count": 15,
   "id": "fantastic-effect",
   "metadata": {
    "execution": {
     "iopub.execute_input": "2021-09-29T00:22:00.292353Z",
     "iopub.status.busy": "2021-09-29T00:22:00.291844Z",
     "iopub.status.idle": "2021-09-29T00:22:00.308389Z",
     "shell.execute_reply": "2021-09-29T00:22:00.308859Z"
    },
    "papermill": {
     "duration": 0.05394,
     "end_time": "2021-09-29T00:22:00.308985",
     "exception": false,
     "start_time": "2021-09-29T00:22:00.255045",
     "status": "completed"
    },
    "tags": []
   },
   "outputs": [
    {
     "data": {
      "text/html": [
       "<div>\n",
       "<style scoped>\n",
       "    .dataframe tbody tr th:only-of-type {\n",
       "        vertical-align: middle;\n",
       "    }\n",
       "\n",
       "    .dataframe tbody tr th {\n",
       "        vertical-align: top;\n",
       "    }\n",
       "\n",
       "    .dataframe thead th {\n",
       "        text-align: right;\n",
       "    }\n",
       "</style>\n",
       "<table border=\"1\" class=\"dataframe\">\n",
       "  <thead>\n",
       "    <tr style=\"text-align: right;\">\n",
       "      <th></th>\n",
       "      <th>Country/Region</th>\n",
       "      <th>Cases</th>\n",
       "      <th>Deaths</th>\n",
       "      <th>PCases</th>\n",
       "      <th>PDeaths</th>\n",
       "      <th>Cases (+)</th>\n",
       "      <th>Deaths (+)</th>\n",
       "      <th>Fatality Rate</th>\n",
       "      <th>Continent</th>\n",
       "    </tr>\n",
       "  </thead>\n",
       "  <tbody>\n",
       "    <tr>\n",
       "      <th>0</th>\n",
       "      <td>US</td>\n",
       "      <td>43116442</td>\n",
       "      <td>690426</td>\n",
       "      <td>42931354</td>\n",
       "      <td>688032</td>\n",
       "      <td>185088</td>\n",
       "      <td>2394</td>\n",
       "      <td>1.6</td>\n",
       "      <td>North America</td>\n",
       "    </tr>\n",
       "    <tr>\n",
       "      <th>1</th>\n",
       "      <td>India</td>\n",
       "      <td>33697581</td>\n",
       "      <td>447373</td>\n",
       "      <td>33678786</td>\n",
       "      <td>447194</td>\n",
       "      <td>18795</td>\n",
       "      <td>179</td>\n",
       "      <td>1.3</td>\n",
       "      <td>Asia</td>\n",
       "    </tr>\n",
       "    <tr>\n",
       "      <th>2</th>\n",
       "      <td>Brazil</td>\n",
       "      <td>21366395</td>\n",
       "      <td>594653</td>\n",
       "      <td>21351972</td>\n",
       "      <td>594443</td>\n",
       "      <td>14423</td>\n",
       "      <td>210</td>\n",
       "      <td>2.8</td>\n",
       "      <td>South America</td>\n",
       "    </tr>\n",
       "    <tr>\n",
       "      <th>3</th>\n",
       "      <td>United Kingdom</td>\n",
       "      <td>7737941</td>\n",
       "      <td>136569</td>\n",
       "      <td>7700358</td>\n",
       "      <td>136529</td>\n",
       "      <td>37583</td>\n",
       "      <td>40</td>\n",
       "      <td>1.8</td>\n",
       "      <td>Europe</td>\n",
       "    </tr>\n",
       "    <tr>\n",
       "      <th>4</th>\n",
       "      <td>Russia</td>\n",
       "      <td>7334843</td>\n",
       "      <td>201015</td>\n",
       "      <td>7313112</td>\n",
       "      <td>200245</td>\n",
       "      <td>21731</td>\n",
       "      <td>770</td>\n",
       "      <td>2.7</td>\n",
       "      <td>Europe</td>\n",
       "    </tr>\n",
       "  </tbody>\n",
       "</table>\n",
       "</div>"
      ],
      "text/plain": [
       "   Country/Region     Cases  Deaths    PCases  PDeaths  Cases (+)  Deaths (+)  \\\n",
       "0              US  43116442  690426  42931354   688032     185088        2394   \n",
       "1           India  33697581  447373  33678786   447194      18795         179   \n",
       "2          Brazil  21366395  594653  21351972   594443      14423         210   \n",
       "3  United Kingdom   7737941  136569   7700358   136529      37583          40   \n",
       "4          Russia   7334843  201015   7313112   200245      21731         770   \n",
       "\n",
       "   Fatality Rate      Continent  \n",
       "0            1.6  North America  \n",
       "1            1.3           Asia  \n",
       "2            2.8  South America  \n",
       "3            1.8         Europe  \n",
       "4            2.7         Europe  "
      ]
     },
     "execution_count": 15,
     "metadata": {},
     "output_type": "execute_result"
    }
   ],
   "source": [
    "#hide\n",
    "df_table = (pd.DataFrame(dict(Cases=dfc_cases, Deaths=dfc_deaths, PCases=dfp_cases, PDeaths=dfp_deaths))\n",
    "             .sort_values(by=['Cases', 'Deaths'], ascending=[False, False])\n",
    "             .reset_index())\n",
    "df_table.rename(columns={'index': 'Country/Region'}, inplace=True)\n",
    "for c in 'Cases, Deaths'.split(', '):\n",
    "    df_table[f'{c} (+)'] = (df_table[c] - df_table[f'P{c}']).clip(0)  # DATA BUG\n",
    "df_table['Fatality Rate'] = (100 * df_table['Deaths'] / df_table['Cases']).round(1)\n",
    "df_table['Continent'] = df_table['Country/Region'].map(mapping['map.continent'])\n",
    "df_table.head(5)"
   ]
  },
  {
   "cell_type": "code",
   "execution_count": 16,
   "id": "fewer-occasion",
   "metadata": {
    "execution": {
     "iopub.execute_input": "2021-09-29T00:22:00.375215Z",
     "iopub.status.busy": "2021-09-29T00:22:00.374685Z",
     "iopub.status.idle": "2021-09-29T00:22:00.377093Z",
     "shell.execute_reply": "2021-09-29T00:22:00.376681Z"
    },
    "papermill": {
     "duration": 0.0368,
     "end_time": "2021-09-29T00:22:00.377196",
     "exception": false,
     "start_time": "2021-09-29T00:22:00.340396",
     "status": "completed"
    },
    "tags": []
   },
   "outputs": [],
   "source": [
    "#hide\n",
    "#delete problematic countries from table\n",
    "df_table = df_table[~df_table['Country/Region'].isin(['Cape Verde', 'Cruise Ship', 'Kosovo'])]"
   ]
  },
  {
   "cell_type": "code",
   "execution_count": 17,
   "id": "related-center",
   "metadata": {
    "execution": {
     "iopub.execute_input": "2021-09-29T00:22:00.455063Z",
     "iopub.status.busy": "2021-09-29T00:22:00.454553Z",
     "iopub.status.idle": "2021-09-29T00:22:00.456872Z",
     "shell.execute_reply": "2021-09-29T00:22:00.456443Z"
    },
    "papermill": {
     "duration": 0.049168,
     "end_time": "2021-09-29T00:22:00.456970",
     "exception": false,
     "start_time": "2021-09-29T00:22:00.407802",
     "status": "completed"
    },
    "tags": []
   },
   "outputs": [],
   "source": [
    "#hide\n",
    "metrics = [df_table.columns[index] for index in [1,2,5,6]]\n",
    "# s_china = df_table[df_table['Country/Region'].eq('China')][metrics].sum().add_prefix('China ')\n",
    "s_us = df_table[df_table['Country/Region'].eq('US')][metrics].sum().add_prefix('US ')\n",
    "s_eu = df_table[df_table['Continent'].eq('Europe')][metrics].sum().add_prefix('EU ')\n",
    "s_ind = df_table[df_table['Country/Region'].eq('India')][metrics].sum().add_prefix('India ')\n",
    "summary = {'updated': pd.to_datetime(dt_today), 'since': pd.to_datetime(dt_yday)}\n",
    "summary = {'updated': pd.to_datetime(dt_today), 'since': pd.to_datetime(dt_yday)}\n",
    "summary = {**summary, **df_table[metrics].sum(), **s_ind, **s_us, **s_eu}"
   ]
  },
  {
   "cell_type": "code",
   "execution_count": 18,
   "id": "engaging-syndrome",
   "metadata": {
    "execution": {
     "iopub.execute_input": "2021-09-29T00:22:00.521953Z",
     "iopub.status.busy": "2021-09-29T00:22:00.521450Z",
     "iopub.status.idle": "2021-09-29T00:22:00.535357Z",
     "shell.execute_reply": "2021-09-29T00:22:00.535749Z"
    },
    "papermill": {
     "duration": 0.048402,
     "end_time": "2021-09-29T00:22:00.535864",
     "exception": false,
     "start_time": "2021-09-29T00:22:00.487462",
     "status": "completed"
    },
    "tags": []
   },
   "outputs": [],
   "source": [
    "#hide\n",
    "dft_ct_new_cases = dft_cases.groupby(COL_REGION)[dt_cols].sum().diff(axis=1).fillna(0).astype(int)"
   ]
  },
  {
   "cell_type": "code",
   "execution_count": 19,
   "id": "neutral-assignment",
   "metadata": {
    "execution": {
     "iopub.execute_input": "2021-09-29T00:22:00.602037Z",
     "iopub.status.busy": "2021-09-29T00:22:00.601530Z",
     "iopub.status.idle": "2021-09-29T00:22:00.603601Z",
     "shell.execute_reply": "2021-09-29T00:22:00.604037Z"
    },
    "papermill": {
     "duration": 0.0377,
     "end_time": "2021-09-29T00:22:00.604147",
     "exception": false,
     "start_time": "2021-09-29T00:22:00.566447",
     "status": "completed"
    },
    "tags": []
   },
   "outputs": [],
   "source": [
    "#hide\n",
    "everydaycases = dft_ct_new_cases.cumsum(axis=1)"
   ]
  },
  {
   "cell_type": "code",
   "execution_count": 20,
   "id": "parliamentary-calgary",
   "metadata": {
    "execution": {
     "iopub.execute_input": "2021-09-29T00:22:00.668983Z",
     "iopub.status.busy": "2021-09-29T00:22:00.668474Z",
     "iopub.status.idle": "2021-09-29T00:22:01.168171Z",
     "shell.execute_reply": "2021-09-29T00:22:01.167626Z"
    },
    "papermill": {
     "duration": 0.53354,
     "end_time": "2021-09-29T00:22:01.168315",
     "exception": false,
     "start_time": "2021-09-29T00:22:00.634775",
     "status": "completed"
    },
    "tags": []
   },
   "outputs": [],
   "source": [
    "#hide\n",
    "import pandas as pd\n",
    "import matplotlib.pyplot as plt\n",
    "import matplotlib.ticker as ticker\n",
    "import matplotlib.animation as animation\n",
    "from IPython.display import HTML"
   ]
  },
  {
   "cell_type": "code",
   "execution_count": 21,
   "id": "lasting-extraction",
   "metadata": {
    "execution": {
     "iopub.execute_input": "2021-09-29T00:22:01.235932Z",
     "iopub.status.busy": "2021-09-29T00:22:01.235410Z",
     "iopub.status.idle": "2021-09-29T00:22:01.240910Z",
     "shell.execute_reply": "2021-09-29T00:22:01.240499Z"
    },
    "papermill": {
     "duration": 0.041047,
     "end_time": "2021-09-29T00:22:01.241020",
     "exception": false,
     "start_time": "2021-09-29T00:22:01.199973",
     "status": "completed"
    },
    "tags": []
   },
   "outputs": [],
   "source": [
    "#hide\n",
    "t = everydaycases.stack()"
   ]
  },
  {
   "cell_type": "code",
   "execution_count": 22,
   "id": "premier-sleeve",
   "metadata": {
    "execution": {
     "iopub.execute_input": "2021-09-29T00:22:01.305937Z",
     "iopub.status.busy": "2021-09-29T00:22:01.305415Z",
     "iopub.status.idle": "2021-09-29T00:22:01.313444Z",
     "shell.execute_reply": "2021-09-29T00:22:01.313888Z"
    },
    "papermill": {
     "duration": 0.042228,
     "end_time": "2021-09-29T00:22:01.314004",
     "exception": false,
     "start_time": "2021-09-29T00:22:01.271776",
     "status": "completed"
    },
    "tags": []
   },
   "outputs": [],
   "source": [
    "#hide\n",
    "g = t.reset_index(['Country/Region'])"
   ]
  },
  {
   "cell_type": "code",
   "execution_count": 23,
   "id": "distributed-pittsburgh",
   "metadata": {
    "execution": {
     "iopub.execute_input": "2021-09-29T00:22:01.378361Z",
     "iopub.status.busy": "2021-09-29T00:22:01.377860Z",
     "iopub.status.idle": "2021-09-29T00:22:01.379991Z",
     "shell.execute_reply": "2021-09-29T00:22:01.379589Z"
    },
    "papermill": {
     "duration": 0.035586,
     "end_time": "2021-09-29T00:22:01.380093",
     "exception": false,
     "start_time": "2021-09-29T00:22:01.344507",
     "status": "completed"
    },
    "tags": []
   },
   "outputs": [],
   "source": [
    "#hide\n",
    "g.index.name = 'date'"
   ]
  },
  {
   "cell_type": "code",
   "execution_count": 24,
   "id": "naked-donor",
   "metadata": {
    "execution": {
     "iopub.execute_input": "2021-09-29T00:22:01.444400Z",
     "iopub.status.busy": "2021-09-29T00:22:01.443886Z",
     "iopub.status.idle": "2021-09-29T00:22:01.446098Z",
     "shell.execute_reply": "2021-09-29T00:22:01.445695Z"
    },
    "papermill": {
     "duration": 0.035474,
     "end_time": "2021-09-29T00:22:01.446197",
     "exception": false,
     "start_time": "2021-09-29T00:22:01.410723",
     "status": "completed"
    },
    "tags": []
   },
   "outputs": [],
   "source": [
    "# #hide\n",
    "# g = g.reset_index(['date'])"
   ]
  },
  {
   "cell_type": "code",
   "execution_count": 25,
   "id": "incomplete-mustang",
   "metadata": {
    "execution": {
     "iopub.execute_input": "2021-09-29T00:22:01.510305Z",
     "iopub.status.busy": "2021-09-29T00:22:01.509800Z",
     "iopub.status.idle": "2021-09-29T00:22:01.512048Z",
     "shell.execute_reply": "2021-09-29T00:22:01.511647Z"
    },
    "papermill": {
     "duration": 0.035435,
     "end_time": "2021-09-29T00:22:01.512148",
     "exception": false,
     "start_time": "2021-09-29T00:22:01.476713",
     "status": "completed"
    },
    "tags": []
   },
   "outputs": [],
   "source": [
    "#hide\n",
    "# g.head()"
   ]
  },
  {
   "cell_type": "code",
   "execution_count": 26,
   "id": "specific-kruger",
   "metadata": {
    "execution": {
     "iopub.execute_input": "2021-09-29T00:22:01.576433Z",
     "iopub.status.busy": "2021-09-29T00:22:01.575924Z",
     "iopub.status.idle": "2021-09-29T00:22:01.577712Z",
     "shell.execute_reply": "2021-09-29T00:22:01.578199Z"
    },
    "papermill": {
     "duration": 0.035462,
     "end_time": "2021-09-29T00:22:01.578311",
     "exception": false,
     "start_time": "2021-09-29T00:22:01.542849",
     "status": "completed"
    },
    "tags": []
   },
   "outputs": [],
   "source": [
    "#hide\n",
    "# g.columns = ['date','country','cases']"
   ]
  },
  {
   "cell_type": "code",
   "execution_count": 27,
   "id": "tender-conversion",
   "metadata": {
    "execution": {
     "iopub.execute_input": "2021-09-29T00:22:01.642521Z",
     "iopub.status.busy": "2021-09-29T00:22:01.642014Z",
     "iopub.status.idle": "2021-09-29T00:22:01.644275Z",
     "shell.execute_reply": "2021-09-29T00:22:01.643847Z"
    },
    "papermill": {
     "duration": 0.035278,
     "end_time": "2021-09-29T00:22:01.644372",
     "exception": false,
     "start_time": "2021-09-29T00:22:01.609094",
     "status": "completed"
    },
    "tags": []
   },
   "outputs": [],
   "source": [
    "#hide\n",
    "# g['continent'] = g.country"
   ]
  },
  {
   "cell_type": "code",
   "execution_count": 28,
   "id": "substantial-wilderness",
   "metadata": {
    "execution": {
     "iopub.execute_input": "2021-09-29T00:22:01.708524Z",
     "iopub.status.busy": "2021-09-29T00:22:01.708013Z",
     "iopub.status.idle": "2021-09-29T00:22:01.710271Z",
     "shell.execute_reply": "2021-09-29T00:22:01.709867Z"
    },
    "papermill": {
     "duration": 0.035336,
     "end_time": "2021-09-29T00:22:01.710371",
     "exception": false,
     "start_time": "2021-09-29T00:22:01.675035",
     "status": "completed"
    },
    "tags": []
   },
   "outputs": [],
   "source": [
    "#hide\n",
    "# cols = list(g.columns.values)"
   ]
  },
  {
   "cell_type": "code",
   "execution_count": 29,
   "id": "solved-farming",
   "metadata": {
    "execution": {
     "iopub.execute_input": "2021-09-29T00:22:01.774610Z",
     "iopub.status.busy": "2021-09-29T00:22:01.774108Z",
     "iopub.status.idle": "2021-09-29T00:22:01.776338Z",
     "shell.execute_reply": "2021-09-29T00:22:01.775914Z"
    },
    "papermill": {
     "duration": 0.035462,
     "end_time": "2021-09-29T00:22:01.776435",
     "exception": false,
     "start_time": "2021-09-29T00:22:01.740973",
     "status": "completed"
    },
    "tags": []
   },
   "outputs": [],
   "source": [
    "#hide\n",
    "# cols.insert(0, cols.pop())"
   ]
  },
  {
   "cell_type": "code",
   "execution_count": 30,
   "id": "executed-adoption",
   "metadata": {
    "execution": {
     "iopub.execute_input": "2021-09-29T00:22:01.840516Z",
     "iopub.status.busy": "2021-09-29T00:22:01.840003Z",
     "iopub.status.idle": "2021-09-29T00:22:01.842264Z",
     "shell.execute_reply": "2021-09-29T00:22:01.841860Z"
    },
    "papermill": {
     "duration": 0.035389,
     "end_time": "2021-09-29T00:22:01.842366",
     "exception": false,
     "start_time": "2021-09-29T00:22:01.806977",
     "status": "completed"
    },
    "tags": []
   },
   "outputs": [],
   "source": [
    "#hide\n",
    "# g = g[cols]"
   ]
  },
  {
   "cell_type": "code",
   "execution_count": 31,
   "id": "subject-dublin",
   "metadata": {
    "execution": {
     "iopub.execute_input": "2021-09-29T00:22:01.906637Z",
     "iopub.status.busy": "2021-09-29T00:22:01.906048Z",
     "iopub.status.idle": "2021-09-29T00:22:01.907878Z",
     "shell.execute_reply": "2021-09-29T00:22:01.908312Z"
    },
    "papermill": {
     "duration": 0.035531,
     "end_time": "2021-09-29T00:22:01.908429",
     "exception": false,
     "start_time": "2021-09-29T00:22:01.872898",
     "status": "completed"
    },
    "tags": []
   },
   "outputs": [],
   "source": [
    "#hide\n",
    "# g['continent'] = g['continent'].map(mapping['map.continent'])"
   ]
  },
  {
   "cell_type": "code",
   "execution_count": 32,
   "id": "freelance-scout",
   "metadata": {
    "execution": {
     "iopub.execute_input": "2021-09-29T00:22:01.972685Z",
     "iopub.status.busy": "2021-09-29T00:22:01.972179Z",
     "iopub.status.idle": "2021-09-29T00:22:01.974413Z",
     "shell.execute_reply": "2021-09-29T00:22:01.973986Z"
    },
    "papermill": {
     "duration": 0.035531,
     "end_time": "2021-09-29T00:22:01.974514",
     "exception": false,
     "start_time": "2021-09-29T00:22:01.938983",
     "status": "completed"
    },
    "tags": []
   },
   "outputs": [],
   "source": [
    "#hide\n",
    "# g.head()"
   ]
  },
  {
   "cell_type": "code",
   "execution_count": 33,
   "id": "limited-engine",
   "metadata": {
    "execution": {
     "iopub.execute_input": "2021-09-29T00:22:02.039075Z",
     "iopub.status.busy": "2021-09-29T00:22:02.038565Z",
     "iopub.status.idle": "2021-09-29T00:22:02.040418Z",
     "shell.execute_reply": "2021-09-29T00:22:02.040857Z"
    },
    "papermill": {
     "duration": 0.0359,
     "end_time": "2021-09-29T00:22:02.040973",
     "exception": false,
     "start_time": "2021-09-29T00:22:02.005073",
     "status": "completed"
    },
    "tags": []
   },
   "outputs": [],
   "source": [
    "# hide\n",
    "# g['date'] = g['date'].astype('datetime64[ns]')"
   ]
  },
  {
   "cell_type": "code",
   "execution_count": 34,
   "id": "sophisticated-supervisor",
   "metadata": {
    "execution": {
     "iopub.execute_input": "2021-09-29T00:22:02.105565Z",
     "iopub.status.busy": "2021-09-29T00:22:02.105051Z",
     "iopub.status.idle": "2021-09-29T00:22:02.106832Z",
     "shell.execute_reply": "2021-09-29T00:22:02.107240Z"
    },
    "papermill": {
     "duration": 0.035629,
     "end_time": "2021-09-29T00:22:02.107362",
     "exception": false,
     "start_time": "2021-09-29T00:22:02.071733",
     "status": "completed"
    },
    "tags": []
   },
   "outputs": [],
   "source": [
    "#hide\n",
    "# g['date'] = g.date.dt.dayofyear"
   ]
  },
  {
   "cell_type": "code",
   "execution_count": 35,
   "id": "inside-dubai",
   "metadata": {
    "execution": {
     "iopub.execute_input": "2021-09-29T00:22:02.171703Z",
     "iopub.status.busy": "2021-09-29T00:22:02.171183Z",
     "iopub.status.idle": "2021-09-29T00:22:02.173395Z",
     "shell.execute_reply": "2021-09-29T00:22:02.172991Z"
    },
    "papermill": {
     "duration": 0.03568,
     "end_time": "2021-09-29T00:22:02.173496",
     "exception": false,
     "start_time": "2021-09-29T00:22:02.137816",
     "status": "completed"
    },
    "tags": []
   },
   "outputs": [],
   "source": [
    "#hide\n",
    "# g = g.rename(columns= {'continent':'group','country':'name','cases':'value'})"
   ]
  },
  {
   "cell_type": "code",
   "execution_count": 36,
   "id": "fleet-motorcycle",
   "metadata": {
    "execution": {
     "iopub.execute_input": "2021-09-29T00:22:02.237823Z",
     "iopub.status.busy": "2021-09-29T00:22:02.237323Z",
     "iopub.status.idle": "2021-09-29T00:22:02.239489Z",
     "shell.execute_reply": "2021-09-29T00:22:02.239056Z"
    },
    "papermill": {
     "duration": 0.035394,
     "end_time": "2021-09-29T00:22:02.239593",
     "exception": false,
     "start_time": "2021-09-29T00:22:02.204199",
     "status": "completed"
    },
    "tags": []
   },
   "outputs": [],
   "source": [
    "#hide\n",
    "# cols = ['name','group','day','value']"
   ]
  },
  {
   "cell_type": "code",
   "execution_count": 37,
   "id": "continued-sleeping",
   "metadata": {
    "execution": {
     "iopub.execute_input": "2021-09-29T00:22:02.303690Z",
     "iopub.status.busy": "2021-09-29T00:22:02.303172Z",
     "iopub.status.idle": "2021-09-29T00:22:02.304937Z",
     "shell.execute_reply": "2021-09-29T00:22:02.305369Z"
    },
    "papermill": {
     "duration": 0.035381,
     "end_time": "2021-09-29T00:22:02.305478",
     "exception": false,
     "start_time": "2021-09-29T00:22:02.270097",
     "status": "completed"
    },
    "tags": []
   },
   "outputs": [],
   "source": [
    "#hide\n",
    "# g.rename(columns= {'date':'day'},inplace = True)"
   ]
  },
  {
   "cell_type": "code",
   "execution_count": 38,
   "id": "major-fight",
   "metadata": {
    "execution": {
     "iopub.execute_input": "2021-09-29T00:22:02.369568Z",
     "iopub.status.busy": "2021-09-29T00:22:02.369059Z",
     "iopub.status.idle": "2021-09-29T00:22:02.370760Z",
     "shell.execute_reply": "2021-09-29T00:22:02.371213Z"
    },
    "papermill": {
     "duration": 0.035276,
     "end_time": "2021-09-29T00:22:02.371327",
     "exception": false,
     "start_time": "2021-09-29T00:22:02.336051",
     "status": "completed"
    },
    "tags": []
   },
   "outputs": [],
   "source": [
    "#hide\n",
    "# g = g[cols]"
   ]
  },
  {
   "cell_type": "code",
   "execution_count": 39,
   "id": "structured-mobile",
   "metadata": {
    "execution": {
     "iopub.execute_input": "2021-09-29T00:22:02.435458Z",
     "iopub.status.busy": "2021-09-29T00:22:02.434912Z",
     "iopub.status.idle": "2021-09-29T00:22:02.437114Z",
     "shell.execute_reply": "2021-09-29T00:22:02.436685Z"
    },
    "papermill": {
     "duration": 0.035424,
     "end_time": "2021-09-29T00:22:02.437210",
     "exception": false,
     "start_time": "2021-09-29T00:22:02.401786",
     "status": "completed"
    },
    "tags": []
   },
   "outputs": [],
   "source": [
    "# #hide\n",
    "# g = g[g.group.notna()]"
   ]
  },
  {
   "cell_type": "code",
   "execution_count": 40,
   "id": "determined-closing",
   "metadata": {
    "execution": {
     "iopub.execute_input": "2021-09-29T00:22:02.501673Z",
     "iopub.status.busy": "2021-09-29T00:22:02.501159Z",
     "iopub.status.idle": "2021-09-29T00:22:02.503316Z",
     "shell.execute_reply": "2021-09-29T00:22:02.502888Z"
    },
    "papermill": {
     "duration": 0.035615,
     "end_time": "2021-09-29T00:22:02.503426",
     "exception": false,
     "start_time": "2021-09-29T00:22:02.467811",
     "status": "completed"
    },
    "tags": []
   },
   "outputs": [],
   "source": [
    "# #hide\n",
    "# colors = dict(zip(\n",
    "#     [\"Oceania\", \"Europe\", \"Asia\", \"South America\", \"Middle East\", \"North America\", \"Africa\"],\n",
    "#     [\"#adb0ff\", \"#ffb3ff\", \"#90d595\", \"#e48381\", \"#aafbff\", \"#f7bb5f\", \"#eafb50\"]\n",
    "# ))\n",
    "# group_lk = g.set_index('name')['group'].to_dict()"
   ]
  },
  {
   "cell_type": "code",
   "execution_count": null,
   "id": "gross-drinking",
   "metadata": {
    "papermill": {
     "duration": 0.030505,
     "end_time": "2021-09-29T00:22:02.564584",
     "exception": false,
     "start_time": "2021-09-29T00:22:02.534079",
     "status": "completed"
    },
    "tags": []
   },
   "outputs": [],
   "source": []
  },
  {
   "cell_type": "code",
   "execution_count": 41,
   "id": "subject-macintosh",
   "metadata": {
    "execution": {
     "iopub.execute_input": "2021-09-29T00:22:02.630114Z",
     "iopub.status.busy": "2021-09-29T00:22:02.629580Z",
     "iopub.status.idle": "2021-09-29T00:22:02.631380Z",
     "shell.execute_reply": "2021-09-29T00:22:02.631795Z"
    },
    "papermill": {
     "duration": 0.036519,
     "end_time": "2021-09-29T00:22:02.631906",
     "exception": false,
     "start_time": "2021-09-29T00:22:02.595387",
     "status": "completed"
    },
    "tags": []
   },
   "outputs": [],
   "source": [
    "# #hide\n",
    "# fig, ax = plt.subplots(figsize=(15, 8))\n",
    "\n",
    "# def draw_barchart(current_day):\n",
    "#     dff = g[g['day'].eq(current_day)].sort_values(by='value', ascending=True).tail(10)\n",
    "#     ax.clear()\n",
    "#     ax.barh(dff['name'], dff['value'], color=[colors[group_lk[x]] for x in dff['name']])\n",
    "#     dx = dff['value'].max() / 200\n",
    "    \n",
    "#     for i, (value, name) in enumerate(zip(dff['value'], dff['name'])):\n",
    "#         ax.text(value-dx, i,     name,           size=14, weight=600, ha='right', va='bottom')\n",
    "#         ax.text(value-dx, i-.25, group_lk[name], size=10, color='#444444', ha='right', va='baseline')\n",
    "#         ax.text(value+dx, i,     f'{value:,.0f}',  size=14, ha='left',  va='center')\n",
    "#     ax.text(1, 0.4, current_day, transform=ax.transAxes, color='#777777', size=46, ha='right', weight=800)\n",
    "#     ax.text(0, 1.06, 'Population (thousands)', transform=ax.transAxes, size=12, color='#777777')\n",
    "#     ax.xaxis.set_major_formatter(ticker.StrMethodFormatter('{x:,.0f}'))\n",
    "#     ax.xaxis.set_ticks_position('top')\n",
    "#     ax.tick_params(axis='x', colors='#777777', labelsize=12)\n",
    "#     ax.set_yticks([])\n",
    "#     ax.margins(0, 0.01)\n",
    "#     ax.grid(which='major', axis='x', linestyle='-')\n",
    "#     ax.set_axisbelow(True)\n",
    "    \n",
    "#     ax.text(0, 1.15, 'Coronavirus',\n",
    "#             transform=ax.transAxes, size=24, weight=600, ha='left', va='top')\n",
    "# #     ax.text(1, 0, 'by @pratapvardhan; credit @jburnmurdoch', transform=ax.transAxes, color='#777777', ha='right',\n",
    "# #             bbox=dict(facecolor='white', alpha=0.8, edgecolor='white'))\n",
    "#     plt.box(False)"
   ]
  },
  {
   "cell_type": "code",
   "execution_count": 42,
   "id": "sexual-wages",
   "metadata": {
    "execution": {
     "iopub.execute_input": "2021-09-29T00:22:02.695935Z",
     "iopub.status.busy": "2021-09-29T00:22:02.695415Z",
     "iopub.status.idle": "2021-09-29T00:22:02.697527Z",
     "shell.execute_reply": "2021-09-29T00:22:02.697096Z"
    },
    "papermill": {
     "duration": 0.0352,
     "end_time": "2021-09-29T00:22:02.697624",
     "exception": false,
     "start_time": "2021-09-29T00:22:02.662424",
     "status": "completed"
    },
    "tags": []
   },
   "outputs": [],
   "source": [
    "# #hide_input\n",
    "# fig, ax = plt.subplots(figsize=(15, 8))\n",
    "# animator = animation.FuncAnimation(fig, draw_barchart, frames=range(g.day.values.min(), g.day.values.max()))\n",
    "# HTML(animator.to_jshtml())\n",
    "# # or use animator.to_html5_video() or animator.save() "
   ]
  },
  {
   "cell_type": "code",
   "execution_count": null,
   "id": "australian-container",
   "metadata": {
    "papermill": {
     "duration": 0.03056,
     "end_time": "2021-09-29T00:22:02.758915",
     "exception": false,
     "start_time": "2021-09-29T00:22:02.728355",
     "status": "completed"
    },
    "tags": []
   },
   "outputs": [],
   "source": []
  },
  {
   "cell_type": "code",
   "execution_count": null,
   "id": "mediterranean-pontiac",
   "metadata": {
    "papermill": {
     "duration": 0.030349,
     "end_time": "2021-09-29T00:22:02.819755",
     "exception": false,
     "start_time": "2021-09-29T00:22:02.789406",
     "status": "completed"
    },
    "tags": []
   },
   "outputs": [],
   "source": []
  },
  {
   "cell_type": "code",
   "execution_count": null,
   "id": "aging-legislature",
   "metadata": {
    "papermill": {
     "duration": 0.030534,
     "end_time": "2021-09-29T00:22:02.880872",
     "exception": false,
     "start_time": "2021-09-29T00:22:02.850338",
     "status": "completed"
    },
    "tags": []
   },
   "outputs": [],
   "source": []
  }
 ],
 "metadata": {
  "kernelspec": {
   "display_name": "Python 3",
   "language": "python",
   "name": "python3"
  },
  "language_info": {
   "codemirror_mode": {
    "name": "ipython",
    "version": 3
   },
   "file_extension": ".py",
   "mimetype": "text/x-python",
   "name": "python",
   "nbconvert_exporter": "python",
   "pygments_lexer": "ipython3",
   "version": "3.6.15"
  },
  "papermill": {
   "duration": 5.91837,
   "end_time": "2021-09-29T00:22:03.218283",
   "environment_variables": {},
   "exception": null,
   "input_path": "2020-03-21-covid19exp.ipynb",
   "output_path": "2020-03-21-covid19exp.ipynb",
   "parameters": {},
   "start_time": "2021-09-29T00:21:57.299913",
   "version": "2.0.0"
  }
 },
 "nbformat": 4,
 "nbformat_minor": 5
}