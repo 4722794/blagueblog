{
 "cells": [
  {
   "cell_type": "markdown",
   "id": "muslim-click",
   "metadata": {
    "papermill": {
     "duration": 0.040728,
     "end_time": "2021-09-07T12:10:48.910686",
     "exception": false,
     "start_time": "2021-09-07T12:10:48.869958",
     "status": "completed"
    },
    "tags": []
   },
   "source": [
    "# COVID-19 Case Race\n",
    "> A race chart to see rising cases around the world\n",
    "\n",
    "- author: Hargun Oberoi\n",
    "- image: images/covid-overview.png\n",
    "- hide: false\n",
    "- badges: false"
   ]
  },
  {
   "cell_type": "code",
   "execution_count": 1,
   "id": "proof-material",
   "metadata": {
    "execution": {
     "iopub.execute_input": "2021-09-07T12:10:48.994589Z",
     "iopub.status.busy": "2021-09-07T12:10:48.993988Z",
     "iopub.status.idle": "2021-09-07T12:10:49.384631Z",
     "shell.execute_reply": "2021-09-07T12:10:49.384024Z"
    },
    "papermill": {
     "duration": 0.436271,
     "end_time": "2021-09-07T12:10:49.384812",
     "exception": false,
     "start_time": "2021-09-07T12:10:48.948541",
     "status": "completed"
    },
    "tags": []
   },
   "outputs": [],
   "source": [
    "#hide\n",
    "import numpy as np\n",
    "import pandas as pd\n",
    "from jinja2 import Template\n",
    "from IPython.display import HTML"
   ]
  },
  {
   "cell_type": "code",
   "execution_count": 2,
   "id": "developed-terminology",
   "metadata": {
    "execution": {
     "iopub.execute_input": "2021-09-07T12:10:49.465179Z",
     "iopub.status.busy": "2021-09-07T12:10:49.464498Z",
     "iopub.status.idle": "2021-09-07T12:10:49.466983Z",
     "shell.execute_reply": "2021-09-07T12:10:49.466417Z"
    },
    "papermill": {
     "duration": 0.044841,
     "end_time": "2021-09-07T12:10:49.467117",
     "exception": false,
     "start_time": "2021-09-07T12:10:49.422276",
     "status": "completed"
    },
    "tags": []
   },
   "outputs": [],
   "source": [
    "#hide\n",
    "\n",
    "# FETCH\n",
    "base_url = 'https://raw.githubusercontent.com/pratapvardhan/notebooks/master/covid19/'\n",
    "paths = {\n",
    "    'mapping': base_url + 'mapping_countries.csv',\n",
    "    'overview': base_url + 'overview.tpl'\n",
    "}"
   ]
  },
  {
   "cell_type": "code",
   "execution_count": 3,
   "id": "dynamic-saver",
   "metadata": {
    "execution": {
     "iopub.execute_input": "2021-09-07T12:10:49.552329Z",
     "iopub.status.busy": "2021-09-07T12:10:49.551703Z",
     "iopub.status.idle": "2021-09-07T12:10:49.554172Z",
     "shell.execute_reply": "2021-09-07T12:10:49.554729Z"
    },
    "papermill": {
     "duration": 0.050698,
     "end_time": "2021-09-07T12:10:49.554864",
     "exception": false,
     "start_time": "2021-09-07T12:10:49.504166",
     "status": "completed"
    },
    "tags": []
   },
   "outputs": [
    {
     "data": {
      "text/plain": [
       "'https://raw.githubusercontent.com/pratapvardhan/notebooks/master/covid19/mapping_countries.csv'"
      ]
     },
     "execution_count": 3,
     "metadata": {},
     "output_type": "execute_result"
    }
   ],
   "source": [
    "#hide\n",
    "paths['mapping']"
   ]
  },
  {
   "cell_type": "code",
   "execution_count": 4,
   "id": "urban-software",
   "metadata": {
    "execution": {
     "iopub.execute_input": "2021-09-07T12:10:49.640893Z",
     "iopub.status.busy": "2021-09-07T12:10:49.640218Z",
     "iopub.status.idle": "2021-09-07T12:10:49.642632Z",
     "shell.execute_reply": "2021-09-07T12:10:49.642133Z"
    },
    "papermill": {
     "duration": 0.049794,
     "end_time": "2021-09-07T12:10:49.642747",
     "exception": false,
     "start_time": "2021-09-07T12:10:49.592953",
     "status": "completed"
    },
    "tags": []
   },
   "outputs": [],
   "source": [
    "#hide\n",
    "def get_mappings(url):\n",
    "    df = pd.read_csv(url)\n",
    "    return {\n",
    "        'df': df,\n",
    "        'replace.country': dict(df.dropna(subset=['Name']).set_index('Country')['Name']),\n",
    "        'map.continent': dict(df.set_index('Name')['Continent'])\n",
    "    }"
   ]
  },
  {
   "cell_type": "code",
   "execution_count": 5,
   "id": "intimate-machinery",
   "metadata": {
    "execution": {
     "iopub.execute_input": "2021-09-07T12:10:49.722674Z",
     "iopub.status.busy": "2021-09-07T12:10:49.722013Z",
     "iopub.status.idle": "2021-09-07T12:10:49.763091Z",
     "shell.execute_reply": "2021-09-07T12:10:49.762602Z"
    },
    "papermill": {
     "duration": 0.084334,
     "end_time": "2021-09-07T12:10:49.763220",
     "exception": false,
     "start_time": "2021-09-07T12:10:49.678886",
     "status": "completed"
    },
    "tags": []
   },
   "outputs": [],
   "source": [
    "#hide\n",
    "mapping = get_mappings(paths['mapping'])"
   ]
  },
  {
   "cell_type": "code",
   "execution_count": 6,
   "id": "certified-tactics",
   "metadata": {
    "execution": {
     "iopub.execute_input": "2021-09-07T12:10:49.843814Z",
     "iopub.status.busy": "2021-09-07T12:10:49.843104Z",
     "iopub.status.idle": "2021-09-07T12:10:49.845105Z",
     "shell.execute_reply": "2021-09-07T12:10:49.845605Z"
    },
    "papermill": {
     "duration": 0.045204,
     "end_time": "2021-09-07T12:10:49.845745",
     "exception": false,
     "start_time": "2021-09-07T12:10:49.800541",
     "status": "completed"
    },
    "tags": []
   },
   "outputs": [],
   "source": [
    "#hide\n",
    "def get_template(path):\n",
    "    from urllib.parse import urlparse\n",
    "    if bool(urlparse(path).netloc):\n",
    "        from urllib.request import urlopen\n",
    "        return urlopen(path).read().decode('utf8')\n",
    "    return open(path).read()"
   ]
  },
  {
   "cell_type": "code",
   "execution_count": 7,
   "id": "realistic-blast",
   "metadata": {
    "execution": {
     "iopub.execute_input": "2021-09-07T12:10:49.925547Z",
     "iopub.status.busy": "2021-09-07T12:10:49.924860Z",
     "iopub.status.idle": "2021-09-07T12:10:49.929068Z",
     "shell.execute_reply": "2021-09-07T12:10:49.928455Z"
    },
    "papermill": {
     "duration": 0.046726,
     "end_time": "2021-09-07T12:10:49.929202",
     "exception": false,
     "start_time": "2021-09-07T12:10:49.882476",
     "status": "completed"
    },
    "tags": []
   },
   "outputs": [],
   "source": [
    "#hide\n",
    "def get_frame(name):\n",
    "    url = (\n",
    "        'https://raw.githubusercontent.com/CSSEGISandData/COVID-19/master/csse_covid_19_data/'\n",
    "        f'csse_covid_19_time_series/time_series_covid19_{name}_global.csv')\n",
    "    df = pd.read_csv(url)\n",
    "    # rename countries\n",
    "    df['Country/Region'] = df['Country/Region'].replace(mapping['replace.country'])\n",
    "    return df"
   ]
  },
  {
   "cell_type": "code",
   "execution_count": 8,
   "id": "affiliated-characterization",
   "metadata": {
    "execution": {
     "iopub.execute_input": "2021-09-07T12:10:50.017149Z",
     "iopub.status.busy": "2021-09-07T12:10:50.016472Z",
     "iopub.status.idle": "2021-09-07T12:10:50.019111Z",
     "shell.execute_reply": "2021-09-07T12:10:50.018544Z"
    },
    "papermill": {
     "duration": 0.051909,
     "end_time": "2021-09-07T12:10:50.019277",
     "exception": false,
     "start_time": "2021-09-07T12:10:49.967368",
     "status": "completed"
    },
    "tags": []
   },
   "outputs": [],
   "source": [
    "#hide\n",
    "def get_dates(df):\n",
    "    dt_cols = df.columns[~df.columns.isin(['Province/State', 'Country/Region', 'Lat', 'Long'])]\n",
    "    LAST_DATE_I = -1\n",
    "    # sometimes last column may be empty, then go backwards\n",
    "    for i in range(-1, -len(dt_cols), -1):\n",
    "        if not df[dt_cols[i]].fillna(0).eq(0).all():\n",
    "            LAST_DATE_I = i\n",
    "            break\n",
    "    return LAST_DATE_I, dt_cols"
   ]
  },
  {
   "cell_type": "code",
   "execution_count": 9,
   "id": "recent-optimization",
   "metadata": {
    "execution": {
     "iopub.execute_input": "2021-09-07T12:10:50.104969Z",
     "iopub.status.busy": "2021-09-07T12:10:50.104250Z",
     "iopub.status.idle": "2021-09-07T12:10:50.529364Z",
     "shell.execute_reply": "2021-09-07T12:10:50.528743Z"
    },
    "papermill": {
     "duration": 0.466828,
     "end_time": "2021-09-07T12:10:50.529514",
     "exception": false,
     "start_time": "2021-09-07T12:10:50.062686",
     "status": "completed"
    },
    "tags": []
   },
   "outputs": [],
   "source": [
    "#hide\n",
    "COL_REGION = 'Country/Region'\n",
    "# Confirmed, Recovered, Deaths\n",
    "df = get_frame('confirmed')\n",
    "# dft_: timeseries, dfc_: today country agg\n",
    "dft_cases = df\n",
    "dft_deaths = get_frame('deaths')\n",
    "dft_recovered = get_frame('recovered')\n",
    "LAST_DATE_I, dt_cols = get_dates(df)"
   ]
  },
  {
   "cell_type": "code",
   "execution_count": 10,
   "id": "absolute-copper",
   "metadata": {
    "execution": {
     "iopub.execute_input": "2021-09-07T12:10:50.611903Z",
     "iopub.status.busy": "2021-09-07T12:10:50.611261Z",
     "iopub.status.idle": "2021-09-07T12:10:50.613498Z",
     "shell.execute_reply": "2021-09-07T12:10:50.614081Z"
    },
    "papermill": {
     "duration": 0.046465,
     "end_time": "2021-09-07T12:10:50.614295",
     "exception": false,
     "start_time": "2021-09-07T12:10:50.567830",
     "status": "completed"
    },
    "tags": []
   },
   "outputs": [],
   "source": [
    "#hide\n",
    "LAST_DATE_I, dt_cols = get_dates(df)\n",
    "dt_today =dt_cols[LAST_DATE_I]\n",
    "# dt_5day = dt_cols[LAST_DATE_I - 5]\n",
    "dt_yday = dt_cols[LAST_DATE_I - 1]"
   ]
  },
  {
   "cell_type": "code",
   "execution_count": 11,
   "id": "restricted-sheriff",
   "metadata": {
    "execution": {
     "iopub.execute_input": "2021-09-07T12:10:50.690044Z",
     "iopub.status.busy": "2021-09-07T12:10:50.689392Z",
     "iopub.status.idle": "2021-09-07T12:10:50.699380Z",
     "shell.execute_reply": "2021-09-07T12:10:50.698885Z"
    },
    "papermill": {
     "duration": 0.050716,
     "end_time": "2021-09-07T12:10:50.699513",
     "exception": false,
     "start_time": "2021-09-07T12:10:50.648797",
     "status": "completed"
    },
    "tags": []
   },
   "outputs": [],
   "source": [
    "#hide\n",
    "dfc_cases = dft_cases.groupby(COL_REGION)[dt_today].sum()\n",
    "dfc_deaths = dft_deaths.groupby(COL_REGION)[dt_today].sum()\n",
    "# dfp_cases = dft_cases.groupby(COL_REGION)[dt_5day].sum()\n",
    "# dfp_deaths = dft_deaths.groupby(COL_REGION)[dt_5day].sum()\n",
    "dfp_cases = dft_cases.groupby(COL_REGION)[dt_yday].sum()\n",
    "dfp_deaths = dft_deaths.groupby(COL_REGION)[dt_yday].sum()"
   ]
  },
  {
   "cell_type": "code",
   "execution_count": 12,
   "id": "deluxe-hepatitis",
   "metadata": {
    "execution": {
     "iopub.execute_input": "2021-09-07T12:10:50.773875Z",
     "iopub.status.busy": "2021-09-07T12:10:50.773254Z",
     "iopub.status.idle": "2021-09-07T12:10:50.778925Z",
     "shell.execute_reply": "2021-09-07T12:10:50.778441Z"
    },
    "papermill": {
     "duration": 0.045913,
     "end_time": "2021-09-07T12:10:50.779036",
     "exception": false,
     "start_time": "2021-09-07T12:10:50.733123",
     "status": "completed"
    },
    "tags": []
   },
   "outputs": [],
   "source": [
    "#hide\n",
    "df_table = (pd.DataFrame(dict(Cases = dfc_cases, Deaths = dfc_deaths, PCases = dfp_cases, PDeaths = dfp_deaths))\n",
    "            .sort_values(by = ['Cases','Deaths'], ascending = [False, False])\n",
    "            .reset_index())"
   ]
  },
  {
   "cell_type": "code",
   "execution_count": 13,
   "id": "educational-chancellor",
   "metadata": {
    "execution": {
     "iopub.execute_input": "2021-09-07T12:10:50.870206Z",
     "iopub.status.busy": "2021-09-07T12:10:50.869549Z",
     "iopub.status.idle": "2021-09-07T12:10:50.877240Z",
     "shell.execute_reply": "2021-09-07T12:10:50.877839Z"
    },
    "papermill": {
     "duration": 0.063538,
     "end_time": "2021-09-07T12:10:50.877993",
     "exception": false,
     "start_time": "2021-09-07T12:10:50.814455",
     "status": "completed"
    },
    "tags": []
   },
   "outputs": [
    {
     "data": {
      "text/html": [
       "<div>\n",
       "<style scoped>\n",
       "    .dataframe tbody tr th:only-of-type {\n",
       "        vertical-align: middle;\n",
       "    }\n",
       "\n",
       "    .dataframe tbody tr th {\n",
       "        vertical-align: top;\n",
       "    }\n",
       "\n",
       "    .dataframe thead th {\n",
       "        text-align: right;\n",
       "    }\n",
       "</style>\n",
       "<table border=\"1\" class=\"dataframe\">\n",
       "  <thead>\n",
       "    <tr style=\"text-align: right;\">\n",
       "      <th></th>\n",
       "      <th>Country/Region</th>\n",
       "      <th>Cases</th>\n",
       "      <th>Deaths</th>\n",
       "      <th>PCases</th>\n",
       "      <th>PDeaths</th>\n",
       "      <th>Cases (+)</th>\n",
       "      <th>Deaths (+)</th>\n",
       "      <th>Fatality Rate</th>\n",
       "      <th>Continent</th>\n",
       "    </tr>\n",
       "  </thead>\n",
       "  <tbody>\n",
       "    <tr>\n",
       "      <th>0</th>\n",
       "      <td>US</td>\n",
       "      <td>40018318</td>\n",
       "      <td>648998</td>\n",
       "      <td>39944987</td>\n",
       "      <td>648468</td>\n",
       "      <td>73331</td>\n",
       "      <td>530</td>\n",
       "      <td>1.62</td>\n",
       "      <td>North America</td>\n",
       "    </tr>\n",
       "    <tr>\n",
       "      <th>1</th>\n",
       "      <td>India</td>\n",
       "      <td>33058843</td>\n",
       "      <td>441042</td>\n",
       "      <td>33027621</td>\n",
       "      <td>440752</td>\n",
       "      <td>31222</td>\n",
       "      <td>290</td>\n",
       "      <td>1.33</td>\n",
       "      <td>Asia</td>\n",
       "    </tr>\n",
       "    <tr>\n",
       "      <th>2</th>\n",
       "      <td>Brazil</td>\n",
       "      <td>20899933</td>\n",
       "      <td>583810</td>\n",
       "      <td>20890779</td>\n",
       "      <td>583628</td>\n",
       "      <td>9154</td>\n",
       "      <td>182</td>\n",
       "      <td>2.79</td>\n",
       "      <td>South America</td>\n",
       "    </tr>\n",
       "    <tr>\n",
       "      <th>3</th>\n",
       "      <td>United Kingdom</td>\n",
       "      <td>7051516</td>\n",
       "      <td>133598</td>\n",
       "      <td>7010540</td>\n",
       "      <td>133553</td>\n",
       "      <td>40976</td>\n",
       "      <td>45</td>\n",
       "      <td>1.89</td>\n",
       "      <td>Europe</td>\n",
       "    </tr>\n",
       "    <tr>\n",
       "      <th>4</th>\n",
       "      <td>Russia</td>\n",
       "      <td>6929862</td>\n",
       "      <td>184672</td>\n",
       "      <td>6912375</td>\n",
       "      <td>183896</td>\n",
       "      <td>17487</td>\n",
       "      <td>776</td>\n",
       "      <td>2.66</td>\n",
       "      <td>Europe</td>\n",
       "    </tr>\n",
       "  </tbody>\n",
       "</table>\n",
       "</div>"
      ],
      "text/plain": [
       "   Country/Region     Cases  Deaths    PCases  PDeaths  Cases (+)  Deaths (+)  \\\n",
       "0              US  40018318  648998  39944987   648468      73331         530   \n",
       "1           India  33058843  441042  33027621   440752      31222         290   \n",
       "2          Brazil  20899933  583810  20890779   583628       9154         182   \n",
       "3  United Kingdom   7051516  133598   7010540   133553      40976          45   \n",
       "4          Russia   6929862  184672   6912375   183896      17487         776   \n",
       "\n",
       "   Fatality Rate      Continent  \n",
       "0           1.62  North America  \n",
       "1           1.33           Asia  \n",
       "2           2.79  South America  \n",
       "3           1.89         Europe  \n",
       "4           2.66         Europe  "
      ]
     },
     "execution_count": 13,
     "metadata": {},
     "output_type": "execute_result"
    }
   ],
   "source": [
    "#hide\n",
    "for c in 'Cases, Deaths'.split(', '):\n",
    "    df_table[f'{c} (+)'] = (df_table[c] - df_table[f'P{c}']).clip(0)\n",
    "    #Clip ça veut dire, les chiffres negatif sont interdit\n",
    "df_table['Fatality Rate'] = (100* df_table['Deaths']/ df_table['Cases']).round(2)\n",
    "df_table['Continent'] = df_table['Country/Region'].map(mapping['map.continent'])\n",
    "df_table.head(5)"
   ]
  },
  {
   "cell_type": "code",
   "execution_count": 14,
   "id": "aboriginal-bulgaria",
   "metadata": {
    "execution": {
     "iopub.execute_input": "2021-09-07T12:10:50.962099Z",
     "iopub.status.busy": "2021-09-07T12:10:50.961453Z",
     "iopub.status.idle": "2021-09-07T12:10:50.967645Z",
     "shell.execute_reply": "2021-09-07T12:10:50.967151Z"
    },
    "papermill": {
     "duration": 0.051419,
     "end_time": "2021-09-07T12:10:50.967762",
     "exception": false,
     "start_time": "2021-09-07T12:10:50.916343",
     "status": "completed"
    },
    "tags": []
   },
   "outputs": [],
   "source": [
    "#hide\n",
    "#delete problematic countries from table\n",
    "df_table = df_table[~df_table['Country/Region'].isin(['Cape Verde', 'Cruise Ship', 'Kosovo'])]"
   ]
  },
  {
   "cell_type": "code",
   "execution_count": 15,
   "id": "fantastic-effect",
   "metadata": {
    "execution": {
     "iopub.execute_input": "2021-09-07T12:10:51.046545Z",
     "iopub.status.busy": "2021-09-07T12:10:51.045945Z",
     "iopub.status.idle": "2021-09-07T12:10:51.067256Z",
     "shell.execute_reply": "2021-09-07T12:10:51.066724Z"
    },
    "papermill": {
     "duration": 0.064667,
     "end_time": "2021-09-07T12:10:51.067383",
     "exception": false,
     "start_time": "2021-09-07T12:10:51.002716",
     "status": "completed"
    },
    "tags": []
   },
   "outputs": [
    {
     "data": {
      "text/html": [
       "<div>\n",
       "<style scoped>\n",
       "    .dataframe tbody tr th:only-of-type {\n",
       "        vertical-align: middle;\n",
       "    }\n",
       "\n",
       "    .dataframe tbody tr th {\n",
       "        vertical-align: top;\n",
       "    }\n",
       "\n",
       "    .dataframe thead th {\n",
       "        text-align: right;\n",
       "    }\n",
       "</style>\n",
       "<table border=\"1\" class=\"dataframe\">\n",
       "  <thead>\n",
       "    <tr style=\"text-align: right;\">\n",
       "      <th></th>\n",
       "      <th>Country/Region</th>\n",
       "      <th>Cases</th>\n",
       "      <th>Deaths</th>\n",
       "      <th>PCases</th>\n",
       "      <th>PDeaths</th>\n",
       "      <th>Cases (+)</th>\n",
       "      <th>Deaths (+)</th>\n",
       "      <th>Fatality Rate</th>\n",
       "      <th>Continent</th>\n",
       "    </tr>\n",
       "  </thead>\n",
       "  <tbody>\n",
       "    <tr>\n",
       "      <th>0</th>\n",
       "      <td>US</td>\n",
       "      <td>40018318</td>\n",
       "      <td>648998</td>\n",
       "      <td>39944987</td>\n",
       "      <td>648468</td>\n",
       "      <td>73331</td>\n",
       "      <td>530</td>\n",
       "      <td>1.6</td>\n",
       "      <td>North America</td>\n",
       "    </tr>\n",
       "    <tr>\n",
       "      <th>1</th>\n",
       "      <td>India</td>\n",
       "      <td>33058843</td>\n",
       "      <td>441042</td>\n",
       "      <td>33027621</td>\n",
       "      <td>440752</td>\n",
       "      <td>31222</td>\n",
       "      <td>290</td>\n",
       "      <td>1.3</td>\n",
       "      <td>Asia</td>\n",
       "    </tr>\n",
       "    <tr>\n",
       "      <th>2</th>\n",
       "      <td>Brazil</td>\n",
       "      <td>20899933</td>\n",
       "      <td>583810</td>\n",
       "      <td>20890779</td>\n",
       "      <td>583628</td>\n",
       "      <td>9154</td>\n",
       "      <td>182</td>\n",
       "      <td>2.8</td>\n",
       "      <td>South America</td>\n",
       "    </tr>\n",
       "    <tr>\n",
       "      <th>3</th>\n",
       "      <td>United Kingdom</td>\n",
       "      <td>7051516</td>\n",
       "      <td>133598</td>\n",
       "      <td>7010540</td>\n",
       "      <td>133553</td>\n",
       "      <td>40976</td>\n",
       "      <td>45</td>\n",
       "      <td>1.9</td>\n",
       "      <td>Europe</td>\n",
       "    </tr>\n",
       "    <tr>\n",
       "      <th>4</th>\n",
       "      <td>Russia</td>\n",
       "      <td>6929862</td>\n",
       "      <td>184672</td>\n",
       "      <td>6912375</td>\n",
       "      <td>183896</td>\n",
       "      <td>17487</td>\n",
       "      <td>776</td>\n",
       "      <td>2.7</td>\n",
       "      <td>Europe</td>\n",
       "    </tr>\n",
       "  </tbody>\n",
       "</table>\n",
       "</div>"
      ],
      "text/plain": [
       "   Country/Region     Cases  Deaths    PCases  PDeaths  Cases (+)  Deaths (+)  \\\n",
       "0              US  40018318  648998  39944987   648468      73331         530   \n",
       "1           India  33058843  441042  33027621   440752      31222         290   \n",
       "2          Brazil  20899933  583810  20890779   583628       9154         182   \n",
       "3  United Kingdom   7051516  133598   7010540   133553      40976          45   \n",
       "4          Russia   6929862  184672   6912375   183896      17487         776   \n",
       "\n",
       "   Fatality Rate      Continent  \n",
       "0            1.6  North America  \n",
       "1            1.3           Asia  \n",
       "2            2.8  South America  \n",
       "3            1.9         Europe  \n",
       "4            2.7         Europe  "
      ]
     },
     "execution_count": 15,
     "metadata": {},
     "output_type": "execute_result"
    }
   ],
   "source": [
    "#hide\n",
    "df_table = (pd.DataFrame(dict(Cases=dfc_cases, Deaths=dfc_deaths, PCases=dfp_cases, PDeaths=dfp_deaths))\n",
    "             .sort_values(by=['Cases', 'Deaths'], ascending=[False, False])\n",
    "             .reset_index())\n",
    "df_table.rename(columns={'index': 'Country/Region'}, inplace=True)\n",
    "for c in 'Cases, Deaths'.split(', '):\n",
    "    df_table[f'{c} (+)'] = (df_table[c] - df_table[f'P{c}']).clip(0)  # DATA BUG\n",
    "df_table['Fatality Rate'] = (100 * df_table['Deaths'] / df_table['Cases']).round(1)\n",
    "df_table['Continent'] = df_table['Country/Region'].map(mapping['map.continent'])\n",
    "df_table.head(5)"
   ]
  },
  {
   "cell_type": "code",
   "execution_count": 16,
   "id": "fewer-occasion",
   "metadata": {
    "execution": {
     "iopub.execute_input": "2021-09-07T12:10:51.153155Z",
     "iopub.status.busy": "2021-09-07T12:10:51.152495Z",
     "iopub.status.idle": "2021-09-07T12:10:51.155936Z",
     "shell.execute_reply": "2021-09-07T12:10:51.155386Z"
    },
    "papermill": {
     "duration": 0.048953,
     "end_time": "2021-09-07T12:10:51.156076",
     "exception": false,
     "start_time": "2021-09-07T12:10:51.107123",
     "status": "completed"
    },
    "tags": []
   },
   "outputs": [],
   "source": [
    "#hide\n",
    "#delete problematic countries from table\n",
    "df_table = df_table[~df_table['Country/Region'].isin(['Cape Verde', 'Cruise Ship', 'Kosovo'])]"
   ]
  },
  {
   "cell_type": "code",
   "execution_count": 17,
   "id": "related-center",
   "metadata": {
    "execution": {
     "iopub.execute_input": "2021-09-07T12:10:51.252702Z",
     "iopub.status.busy": "2021-09-07T12:10:51.252117Z",
     "iopub.status.idle": "2021-09-07T12:10:51.254922Z",
     "shell.execute_reply": "2021-09-07T12:10:51.254435Z"
    },
    "papermill": {
     "duration": 0.060587,
     "end_time": "2021-09-07T12:10:51.255038",
     "exception": false,
     "start_time": "2021-09-07T12:10:51.194451",
     "status": "completed"
    },
    "tags": []
   },
   "outputs": [],
   "source": [
    "#hide\n",
    "metrics = [df_table.columns[index] for index in [1,2,5,6]]\n",
    "# s_china = df_table[df_table['Country/Region'].eq('China')][metrics].sum().add_prefix('China ')\n",
    "s_us = df_table[df_table['Country/Region'].eq('US')][metrics].sum().add_prefix('US ')\n",
    "s_eu = df_table[df_table['Continent'].eq('Europe')][metrics].sum().add_prefix('EU ')\n",
    "s_ind = df_table[df_table['Country/Region'].eq('India')][metrics].sum().add_prefix('India ')\n",
    "summary = {'updated': pd.to_datetime(dt_today), 'since': pd.to_datetime(dt_yday)}\n",
    "summary = {'updated': pd.to_datetime(dt_today), 'since': pd.to_datetime(dt_yday)}\n",
    "summary = {**summary, **df_table[metrics].sum(), **s_ind, **s_us, **s_eu}"
   ]
  },
  {
   "cell_type": "code",
   "execution_count": 18,
   "id": "engaging-syndrome",
   "metadata": {
    "execution": {
     "iopub.execute_input": "2021-09-07T12:10:51.335640Z",
     "iopub.status.busy": "2021-09-07T12:10:51.334994Z",
     "iopub.status.idle": "2021-09-07T12:10:51.351766Z",
     "shell.execute_reply": "2021-09-07T12:10:51.350996Z"
    },
    "papermill": {
     "duration": 0.061827,
     "end_time": "2021-09-07T12:10:51.351914",
     "exception": false,
     "start_time": "2021-09-07T12:10:51.290087",
     "status": "completed"
    },
    "tags": []
   },
   "outputs": [],
   "source": [
    "#hide\n",
    "dft_ct_new_cases = dft_cases.groupby(COL_REGION)[dt_cols].sum().diff(axis=1).fillna(0).astype(int)"
   ]
  },
  {
   "cell_type": "code",
   "execution_count": 19,
   "id": "neutral-assignment",
   "metadata": {
    "execution": {
     "iopub.execute_input": "2021-09-07T12:10:51.440030Z",
     "iopub.status.busy": "2021-09-07T12:10:51.439379Z",
     "iopub.status.idle": "2021-09-07T12:10:51.441649Z",
     "shell.execute_reply": "2021-09-07T12:10:51.442210Z"
    },
    "papermill": {
     "duration": 0.050746,
     "end_time": "2021-09-07T12:10:51.442352",
     "exception": false,
     "start_time": "2021-09-07T12:10:51.391606",
     "status": "completed"
    },
    "tags": []
   },
   "outputs": [],
   "source": [
    "#hide\n",
    "everydaycases = dft_ct_new_cases.cumsum(axis=1)"
   ]
  },
  {
   "cell_type": "code",
   "execution_count": 20,
   "id": "parliamentary-calgary",
   "metadata": {
    "execution": {
     "iopub.execute_input": "2021-09-07T12:10:51.524491Z",
     "iopub.status.busy": "2021-09-07T12:10:51.523861Z",
     "iopub.status.idle": "2021-09-07T12:10:52.182466Z",
     "shell.execute_reply": "2021-09-07T12:10:52.181951Z"
    },
    "papermill": {
     "duration": 0.701523,
     "end_time": "2021-09-07T12:10:52.182602",
     "exception": false,
     "start_time": "2021-09-07T12:10:51.481079",
     "status": "completed"
    },
    "tags": []
   },
   "outputs": [],
   "source": [
    "#hide\n",
    "import pandas as pd\n",
    "import matplotlib.pyplot as plt\n",
    "import matplotlib.ticker as ticker\n",
    "import matplotlib.animation as animation\n",
    "from IPython.display import HTML"
   ]
  },
  {
   "cell_type": "code",
   "execution_count": 21,
   "id": "lasting-extraction",
   "metadata": {
    "execution": {
     "iopub.execute_input": "2021-09-07T12:10:52.267346Z",
     "iopub.status.busy": "2021-09-07T12:10:52.266660Z",
     "iopub.status.idle": "2021-09-07T12:10:52.272658Z",
     "shell.execute_reply": "2021-09-07T12:10:52.272071Z"
    },
    "papermill": {
     "duration": 0.050324,
     "end_time": "2021-09-07T12:10:52.272774",
     "exception": false,
     "start_time": "2021-09-07T12:10:52.222450",
     "status": "completed"
    },
    "tags": []
   },
   "outputs": [],
   "source": [
    "#hide\n",
    "t = everydaycases.stack()"
   ]
  },
  {
   "cell_type": "code",
   "execution_count": 22,
   "id": "premier-sleeve",
   "metadata": {
    "execution": {
     "iopub.execute_input": "2021-09-07T12:10:52.354050Z",
     "iopub.status.busy": "2021-09-07T12:10:52.353291Z",
     "iopub.status.idle": "2021-09-07T12:10:52.362785Z",
     "shell.execute_reply": "2021-09-07T12:10:52.363358Z"
    },
    "papermill": {
     "duration": 0.053492,
     "end_time": "2021-09-07T12:10:52.363524",
     "exception": false,
     "start_time": "2021-09-07T12:10:52.310032",
     "status": "completed"
    },
    "tags": []
   },
   "outputs": [],
   "source": [
    "#hide\n",
    "g = t.reset_index(['Country/Region'])"
   ]
  },
  {
   "cell_type": "code",
   "execution_count": 23,
   "id": "distributed-pittsburgh",
   "metadata": {
    "execution": {
     "iopub.execute_input": "2021-09-07T12:10:52.445070Z",
     "iopub.status.busy": "2021-09-07T12:10:52.444390Z",
     "iopub.status.idle": "2021-09-07T12:10:52.449006Z",
     "shell.execute_reply": "2021-09-07T12:10:52.449630Z"
    },
    "papermill": {
     "duration": 0.047718,
     "end_time": "2021-09-07T12:10:52.449758",
     "exception": false,
     "start_time": "2021-09-07T12:10:52.402040",
     "status": "completed"
    },
    "tags": []
   },
   "outputs": [],
   "source": [
    "#hide\n",
    "g.index.name = 'date'"
   ]
  },
  {
   "cell_type": "code",
   "execution_count": 24,
   "id": "naked-donor",
   "metadata": {
    "execution": {
     "iopub.execute_input": "2021-09-07T12:10:52.527711Z",
     "iopub.status.busy": "2021-09-07T12:10:52.527012Z",
     "iopub.status.idle": "2021-09-07T12:10:52.529589Z",
     "shell.execute_reply": "2021-09-07T12:10:52.529046Z"
    },
    "papermill": {
     "duration": 0.043082,
     "end_time": "2021-09-07T12:10:52.529705",
     "exception": false,
     "start_time": "2021-09-07T12:10:52.486623",
     "status": "completed"
    },
    "tags": []
   },
   "outputs": [],
   "source": [
    "# #hide\n",
    "# g = g.reset_index(['date'])"
   ]
  },
  {
   "cell_type": "code",
   "execution_count": 25,
   "id": "incomplete-mustang",
   "metadata": {
    "execution": {
     "iopub.execute_input": "2021-09-07T12:10:52.608553Z",
     "iopub.status.busy": "2021-09-07T12:10:52.607899Z",
     "iopub.status.idle": "2021-09-07T12:10:52.610731Z",
     "shell.execute_reply": "2021-09-07T12:10:52.610081Z"
    },
    "papermill": {
     "duration": 0.045136,
     "end_time": "2021-09-07T12:10:52.610846",
     "exception": false,
     "start_time": "2021-09-07T12:10:52.565710",
     "status": "completed"
    },
    "tags": []
   },
   "outputs": [],
   "source": [
    "#hide\n",
    "# g.head()"
   ]
  },
  {
   "cell_type": "code",
   "execution_count": 26,
   "id": "specific-kruger",
   "metadata": {
    "execution": {
     "iopub.execute_input": "2021-09-07T12:10:52.688757Z",
     "iopub.status.busy": "2021-09-07T12:10:52.688144Z",
     "iopub.status.idle": "2021-09-07T12:10:52.690521Z",
     "shell.execute_reply": "2021-09-07T12:10:52.689917Z"
    },
    "papermill": {
     "duration": 0.042189,
     "end_time": "2021-09-07T12:10:52.690658",
     "exception": false,
     "start_time": "2021-09-07T12:10:52.648469",
     "status": "completed"
    },
    "tags": []
   },
   "outputs": [],
   "source": [
    "#hide\n",
    "# g.columns = ['date','country','cases']"
   ]
  },
  {
   "cell_type": "code",
   "execution_count": 27,
   "id": "tender-conversion",
   "metadata": {
    "execution": {
     "iopub.execute_input": "2021-09-07T12:10:52.771079Z",
     "iopub.status.busy": "2021-09-07T12:10:52.770363Z",
     "iopub.status.idle": "2021-09-07T12:10:52.772625Z",
     "shell.execute_reply": "2021-09-07T12:10:52.773234Z"
    },
    "papermill": {
     "duration": 0.044479,
     "end_time": "2021-09-07T12:10:52.773386",
     "exception": false,
     "start_time": "2021-09-07T12:10:52.728907",
     "status": "completed"
    },
    "tags": []
   },
   "outputs": [],
   "source": [
    "#hide\n",
    "# g['continent'] = g.country"
   ]
  },
  {
   "cell_type": "code",
   "execution_count": 28,
   "id": "substantial-wilderness",
   "metadata": {
    "execution": {
     "iopub.execute_input": "2021-09-07T12:10:52.851039Z",
     "iopub.status.busy": "2021-09-07T12:10:52.850289Z",
     "iopub.status.idle": "2021-09-07T12:10:52.852202Z",
     "shell.execute_reply": "2021-09-07T12:10:52.852876Z"
    },
    "papermill": {
     "duration": 0.044391,
     "end_time": "2021-09-07T12:10:52.853010",
     "exception": false,
     "start_time": "2021-09-07T12:10:52.808619",
     "status": "completed"
    },
    "tags": []
   },
   "outputs": [],
   "source": [
    "#hide\n",
    "# cols = list(g.columns.values)"
   ]
  },
  {
   "cell_type": "code",
   "execution_count": 29,
   "id": "solved-farming",
   "metadata": {
    "execution": {
     "iopub.execute_input": "2021-09-07T12:10:52.933267Z",
     "iopub.status.busy": "2021-09-07T12:10:52.932635Z",
     "iopub.status.idle": "2021-09-07T12:10:52.935419Z",
     "shell.execute_reply": "2021-09-07T12:10:52.935986Z"
    },
    "papermill": {
     "duration": 0.045963,
     "end_time": "2021-09-07T12:10:52.936147",
     "exception": false,
     "start_time": "2021-09-07T12:10:52.890184",
     "status": "completed"
    },
    "tags": []
   },
   "outputs": [],
   "source": [
    "#hide\n",
    "# cols.insert(0, cols.pop())"
   ]
  },
  {
   "cell_type": "code",
   "execution_count": 30,
   "id": "executed-adoption",
   "metadata": {
    "execution": {
     "iopub.execute_input": "2021-09-07T12:10:53.018875Z",
     "iopub.status.busy": "2021-09-07T12:10:53.018227Z",
     "iopub.status.idle": "2021-09-07T12:10:53.020537Z",
     "shell.execute_reply": "2021-09-07T12:10:53.020002Z"
    },
    "papermill": {
     "duration": 0.043183,
     "end_time": "2021-09-07T12:10:53.020671",
     "exception": false,
     "start_time": "2021-09-07T12:10:52.977488",
     "status": "completed"
    },
    "tags": []
   },
   "outputs": [],
   "source": [
    "#hide\n",
    "# g = g[cols]"
   ]
  },
  {
   "cell_type": "code",
   "execution_count": 31,
   "id": "subject-dublin",
   "metadata": {
    "execution": {
     "iopub.execute_input": "2021-09-07T12:10:53.101954Z",
     "iopub.status.busy": "2021-09-07T12:10:53.101280Z",
     "iopub.status.idle": "2021-09-07T12:10:53.103700Z",
     "shell.execute_reply": "2021-09-07T12:10:53.103099Z"
    },
    "papermill": {
     "duration": 0.045929,
     "end_time": "2021-09-07T12:10:53.103813",
     "exception": false,
     "start_time": "2021-09-07T12:10:53.057884",
     "status": "completed"
    },
    "tags": []
   },
   "outputs": [],
   "source": [
    "#hide\n",
    "# g['continent'] = g['continent'].map(mapping['map.continent'])"
   ]
  },
  {
   "cell_type": "code",
   "execution_count": 32,
   "id": "freelance-scout",
   "metadata": {
    "execution": {
     "iopub.execute_input": "2021-09-07T12:10:53.192143Z",
     "iopub.status.busy": "2021-09-07T12:10:53.190701Z",
     "iopub.status.idle": "2021-09-07T12:10:53.192842Z",
     "shell.execute_reply": "2021-09-07T12:10:53.193400Z"
    },
    "papermill": {
     "duration": 0.051659,
     "end_time": "2021-09-07T12:10:53.193543",
     "exception": false,
     "start_time": "2021-09-07T12:10:53.141884",
     "status": "completed"
    },
    "tags": []
   },
   "outputs": [],
   "source": [
    "#hide\n",
    "# g.head()"
   ]
  },
  {
   "cell_type": "code",
   "execution_count": 33,
   "id": "limited-engine",
   "metadata": {
    "execution": {
     "iopub.execute_input": "2021-09-07T12:10:53.287598Z",
     "iopub.status.busy": "2021-09-07T12:10:53.285980Z",
     "iopub.status.idle": "2021-09-07T12:10:53.288374Z",
     "shell.execute_reply": "2021-09-07T12:10:53.288932Z"
    },
    "papermill": {
     "duration": 0.053012,
     "end_time": "2021-09-07T12:10:53.289082",
     "exception": false,
     "start_time": "2021-09-07T12:10:53.236070",
     "status": "completed"
    },
    "tags": []
   },
   "outputs": [],
   "source": [
    "# hide\n",
    "# g['date'] = g['date'].astype('datetime64[ns]')"
   ]
  },
  {
   "cell_type": "code",
   "execution_count": 34,
   "id": "sophisticated-supervisor",
   "metadata": {
    "execution": {
     "iopub.execute_input": "2021-09-07T12:10:53.370720Z",
     "iopub.status.busy": "2021-09-07T12:10:53.370050Z",
     "iopub.status.idle": "2021-09-07T12:10:53.372676Z",
     "shell.execute_reply": "2021-09-07T12:10:53.372014Z"
    },
    "papermill": {
     "duration": 0.045368,
     "end_time": "2021-09-07T12:10:53.372802",
     "exception": false,
     "start_time": "2021-09-07T12:10:53.327434",
     "status": "completed"
    },
    "tags": []
   },
   "outputs": [],
   "source": [
    "#hide\n",
    "# g['date'] = g.date.dt.dayofyear"
   ]
  },
  {
   "cell_type": "code",
   "execution_count": 35,
   "id": "inside-dubai",
   "metadata": {
    "execution": {
     "iopub.execute_input": "2021-09-07T12:10:53.453005Z",
     "iopub.status.busy": "2021-09-07T12:10:53.452383Z",
     "iopub.status.idle": "2021-09-07T12:10:53.454401Z",
     "shell.execute_reply": "2021-09-07T12:10:53.454863Z"
    },
    "papermill": {
     "duration": 0.043715,
     "end_time": "2021-09-07T12:10:53.454991",
     "exception": false,
     "start_time": "2021-09-07T12:10:53.411276",
     "status": "completed"
    },
    "tags": []
   },
   "outputs": [],
   "source": [
    "#hide\n",
    "# g = g.rename(columns= {'continent':'group','country':'name','cases':'value'})"
   ]
  },
  {
   "cell_type": "code",
   "execution_count": 36,
   "id": "fleet-motorcycle",
   "metadata": {
    "execution": {
     "iopub.execute_input": "2021-09-07T12:10:53.534553Z",
     "iopub.status.busy": "2021-09-07T12:10:53.533832Z",
     "iopub.status.idle": "2021-09-07T12:10:53.536145Z",
     "shell.execute_reply": "2021-09-07T12:10:53.535653Z"
    },
    "papermill": {
     "duration": 0.045075,
     "end_time": "2021-09-07T12:10:53.536268",
     "exception": false,
     "start_time": "2021-09-07T12:10:53.491193",
     "status": "completed"
    },
    "tags": []
   },
   "outputs": [],
   "source": [
    "#hide\n",
    "# cols = ['name','group','day','value']"
   ]
  },
  {
   "cell_type": "code",
   "execution_count": 37,
   "id": "continued-sleeping",
   "metadata": {
    "execution": {
     "iopub.execute_input": "2021-09-07T12:10:53.613420Z",
     "iopub.status.busy": "2021-09-07T12:10:53.612801Z",
     "iopub.status.idle": "2021-09-07T12:10:53.615169Z",
     "shell.execute_reply": "2021-09-07T12:10:53.614677Z"
    },
    "papermill": {
     "duration": 0.041853,
     "end_time": "2021-09-07T12:10:53.615284",
     "exception": false,
     "start_time": "2021-09-07T12:10:53.573431",
     "status": "completed"
    },
    "tags": []
   },
   "outputs": [],
   "source": [
    "#hide\n",
    "# g.rename(columns= {'date':'day'},inplace = True)"
   ]
  },
  {
   "cell_type": "code",
   "execution_count": 38,
   "id": "major-fight",
   "metadata": {
    "execution": {
     "iopub.execute_input": "2021-09-07T12:10:53.696746Z",
     "iopub.status.busy": "2021-09-07T12:10:53.696097Z",
     "iopub.status.idle": "2021-09-07T12:10:53.697395Z",
     "shell.execute_reply": "2021-09-07T12:10:53.698015Z"
    },
    "papermill": {
     "duration": 0.044401,
     "end_time": "2021-09-07T12:10:53.698185",
     "exception": false,
     "start_time": "2021-09-07T12:10:53.653784",
     "status": "completed"
    },
    "tags": []
   },
   "outputs": [],
   "source": [
    "#hide\n",
    "# g = g[cols]"
   ]
  },
  {
   "cell_type": "code",
   "execution_count": 39,
   "id": "structured-mobile",
   "metadata": {
    "execution": {
     "iopub.execute_input": "2021-09-07T12:10:53.780071Z",
     "iopub.status.busy": "2021-09-07T12:10:53.779384Z",
     "iopub.status.idle": "2021-09-07T12:10:53.781877Z",
     "shell.execute_reply": "2021-09-07T12:10:53.781155Z"
    },
    "papermill": {
     "duration": 0.043726,
     "end_time": "2021-09-07T12:10:53.782001",
     "exception": false,
     "start_time": "2021-09-07T12:10:53.738275",
     "status": "completed"
    },
    "tags": []
   },
   "outputs": [],
   "source": [
    "# #hide\n",
    "# g = g[g.group.notna()]"
   ]
  },
  {
   "cell_type": "code",
   "execution_count": 40,
   "id": "determined-closing",
   "metadata": {
    "execution": {
     "iopub.execute_input": "2021-09-07T12:10:53.858511Z",
     "iopub.status.busy": "2021-09-07T12:10:53.857858Z",
     "iopub.status.idle": "2021-09-07T12:10:53.862589Z",
     "shell.execute_reply": "2021-09-07T12:10:53.863225Z"
    },
    "papermill": {
     "duration": 0.046011,
     "end_time": "2021-09-07T12:10:53.863387",
     "exception": false,
     "start_time": "2021-09-07T12:10:53.817376",
     "status": "completed"
    },
    "tags": []
   },
   "outputs": [],
   "source": [
    "# #hide\n",
    "# colors = dict(zip(\n",
    "#     [\"Oceania\", \"Europe\", \"Asia\", \"South America\", \"Middle East\", \"North America\", \"Africa\"],\n",
    "#     [\"#adb0ff\", \"#ffb3ff\", \"#90d595\", \"#e48381\", \"#aafbff\", \"#f7bb5f\", \"#eafb50\"]\n",
    "# ))\n",
    "# group_lk = g.set_index('name')['group'].to_dict()"
   ]
  },
  {
   "cell_type": "code",
   "execution_count": null,
   "id": "gross-drinking",
   "metadata": {
    "papermill": {
     "duration": 0.034335,
     "end_time": "2021-09-07T12:10:53.934224",
     "exception": false,
     "start_time": "2021-09-07T12:10:53.899889",
     "status": "completed"
    },
    "tags": []
   },
   "outputs": [],
   "source": []
  },
  {
   "cell_type": "code",
   "execution_count": 41,
   "id": "subject-macintosh",
   "metadata": {
    "execution": {
     "iopub.execute_input": "2021-09-07T12:10:54.018175Z",
     "iopub.status.busy": "2021-09-07T12:10:54.017491Z",
     "iopub.status.idle": "2021-09-07T12:10:54.019979Z",
     "shell.execute_reply": "2021-09-07T12:10:54.019361Z"
    },
    "papermill": {
     "duration": 0.046463,
     "end_time": "2021-09-07T12:10:54.020101",
     "exception": false,
     "start_time": "2021-09-07T12:10:53.973638",
     "status": "completed"
    },
    "tags": []
   },
   "outputs": [],
   "source": [
    "# #hide\n",
    "# fig, ax = plt.subplots(figsize=(15, 8))\n",
    "\n",
    "# def draw_barchart(current_day):\n",
    "#     dff = g[g['day'].eq(current_day)].sort_values(by='value', ascending=True).tail(10)\n",
    "#     ax.clear()\n",
    "#     ax.barh(dff['name'], dff['value'], color=[colors[group_lk[x]] for x in dff['name']])\n",
    "#     dx = dff['value'].max() / 200\n",
    "    \n",
    "#     for i, (value, name) in enumerate(zip(dff['value'], dff['name'])):\n",
    "#         ax.text(value-dx, i,     name,           size=14, weight=600, ha='right', va='bottom')\n",
    "#         ax.text(value-dx, i-.25, group_lk[name], size=10, color='#444444', ha='right', va='baseline')\n",
    "#         ax.text(value+dx, i,     f'{value:,.0f}',  size=14, ha='left',  va='center')\n",
    "#     ax.text(1, 0.4, current_day, transform=ax.transAxes, color='#777777', size=46, ha='right', weight=800)\n",
    "#     ax.text(0, 1.06, 'Population (thousands)', transform=ax.transAxes, size=12, color='#777777')\n",
    "#     ax.xaxis.set_major_formatter(ticker.StrMethodFormatter('{x:,.0f}'))\n",
    "#     ax.xaxis.set_ticks_position('top')\n",
    "#     ax.tick_params(axis='x', colors='#777777', labelsize=12)\n",
    "#     ax.set_yticks([])\n",
    "#     ax.margins(0, 0.01)\n",
    "#     ax.grid(which='major', axis='x', linestyle='-')\n",
    "#     ax.set_axisbelow(True)\n",
    "    \n",
    "#     ax.text(0, 1.15, 'Coronavirus',\n",
    "#             transform=ax.transAxes, size=24, weight=600, ha='left', va='top')\n",
    "# #     ax.text(1, 0, 'by @pratapvardhan; credit @jburnmurdoch', transform=ax.transAxes, color='#777777', ha='right',\n",
    "# #             bbox=dict(facecolor='white', alpha=0.8, edgecolor='white'))\n",
    "#     plt.box(False)"
   ]
  },
  {
   "cell_type": "code",
   "execution_count": 42,
   "id": "sexual-wages",
   "metadata": {
    "execution": {
     "iopub.execute_input": "2021-09-07T12:10:54.103107Z",
     "iopub.status.busy": "2021-09-07T12:10:54.102438Z",
     "iopub.status.idle": "2021-09-07T12:10:54.105059Z",
     "shell.execute_reply": "2021-09-07T12:10:54.104500Z"
    },
    "papermill": {
     "duration": 0.044933,
     "end_time": "2021-09-07T12:10:54.105186",
     "exception": false,
     "start_time": "2021-09-07T12:10:54.060253",
     "status": "completed"
    },
    "tags": []
   },
   "outputs": [],
   "source": [
    "# #hide_input\n",
    "# fig, ax = plt.subplots(figsize=(15, 8))\n",
    "# animator = animation.FuncAnimation(fig, draw_barchart, frames=range(g.day.values.min(), g.day.values.max()))\n",
    "# HTML(animator.to_jshtml())\n",
    "# # or use animator.to_html5_video() or animator.save() "
   ]
  },
  {
   "cell_type": "code",
   "execution_count": null,
   "id": "australian-container",
   "metadata": {
    "papermill": {
     "duration": 0.040225,
     "end_time": "2021-09-07T12:10:54.186493",
     "exception": false,
     "start_time": "2021-09-07T12:10:54.146268",
     "status": "completed"
    },
    "tags": []
   },
   "outputs": [],
   "source": []
  },
  {
   "cell_type": "code",
   "execution_count": null,
   "id": "mediterranean-pontiac",
   "metadata": {
    "papermill": {
     "duration": 0.039135,
     "end_time": "2021-09-07T12:10:54.262311",
     "exception": false,
     "start_time": "2021-09-07T12:10:54.223176",
     "status": "completed"
    },
    "tags": []
   },
   "outputs": [],
   "source": []
  },
  {
   "cell_type": "code",
   "execution_count": null,
   "id": "aging-legislature",
   "metadata": {
    "papermill": {
     "duration": 0.036234,
     "end_time": "2021-09-07T12:10:54.336198",
     "exception": false,
     "start_time": "2021-09-07T12:10:54.299964",
     "status": "completed"
    },
    "tags": []
   },
   "outputs": [],
   "source": []
  }
 ],
 "metadata": {
  "kernelspec": {
   "display_name": "Python 3",
   "language": "python",
   "name": "python3"
  },
  "language_info": {
   "codemirror_mode": {
    "name": "ipython",
    "version": 3
   },
   "file_extension": ".py",
   "mimetype": "text/x-python",
   "name": "python",
   "nbconvert_exporter": "python",
   "pygments_lexer": "ipython3",
   "version": "3.6.14"
  },
  "papermill": {
   "duration": 7.013448,
   "end_time": "2021-09-07T12:10:54.782068",
   "environment_variables": {},
   "exception": null,
   "input_path": "2020-03-21-covid19exp.ipynb",
   "output_path": "2020-03-21-covid19exp.ipynb",
   "parameters": {},
   "start_time": "2021-09-07T12:10:47.768620",
   "version": "2.0.0"
  }
 },
 "nbformat": 4,
 "nbformat_minor": 5
}