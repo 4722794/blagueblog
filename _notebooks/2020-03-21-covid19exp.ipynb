{
 "cells": [
  {
   "cell_type": "markdown",
   "id": "muslim-click",
   "metadata": {
    "papermill": {
     "duration": 0.035046,
     "end_time": "2022-08-06T12:14:42.794561",
     "exception": false,
     "start_time": "2022-08-06T12:14:42.759515",
     "status": "completed"
    },
    "tags": []
   },
   "source": [
    "# COVID-19 Case Race\n",
    "> A race chart to see rising cases around the world\n",
    "\n",
    "- author: Hargun Oberoi\n",
    "- image: images/covid-overview.png\n",
    "- hide: false\n",
    "- badges: false"
   ]
  },
  {
   "cell_type": "code",
   "execution_count": 1,
   "id": "proof-material",
   "metadata": {
    "execution": {
     "iopub.execute_input": "2022-08-06T12:14:42.863884Z",
     "iopub.status.busy": "2022-08-06T12:14:42.863279Z",
     "iopub.status.idle": "2022-08-06T12:14:43.197113Z",
     "shell.execute_reply": "2022-08-06T12:14:43.196469Z"
    },
    "papermill": {
     "duration": 0.372803,
     "end_time": "2022-08-06T12:14:43.197280",
     "exception": false,
     "start_time": "2022-08-06T12:14:42.824477",
     "status": "completed"
    },
    "tags": []
   },
   "outputs": [],
   "source": [
    "#hide\n",
    "import numpy as np\n",
    "import pandas as pd\n",
    "from jinja2 import Template\n",
    "from IPython.display import HTML"
   ]
  },
  {
   "cell_type": "code",
   "execution_count": 2,
   "id": "developed-terminology",
   "metadata": {
    "execution": {
     "iopub.execute_input": "2022-08-06T12:14:43.262105Z",
     "iopub.status.busy": "2022-08-06T12:14:43.261513Z",
     "iopub.status.idle": "2022-08-06T12:14:43.264529Z",
     "shell.execute_reply": "2022-08-06T12:14:43.264056Z"
    },
    "papermill": {
     "duration": 0.037391,
     "end_time": "2022-08-06T12:14:43.264641",
     "exception": false,
     "start_time": "2022-08-06T12:14:43.227250",
     "status": "completed"
    },
    "tags": []
   },
   "outputs": [],
   "source": [
    "#hide\n",
    "\n",
    "# FETCH\n",
    "base_url = 'https://raw.githubusercontent.com/pratapvardhan/notebooks/master/covid19/'\n",
    "paths = {\n",
    "    'mapping': base_url + 'mapping_countries.csv',\n",
    "    'overview': base_url + 'overview.tpl'\n",
    "}"
   ]
  },
  {
   "cell_type": "code",
   "execution_count": 3,
   "id": "dynamic-saver",
   "metadata": {
    "execution": {
     "iopub.execute_input": "2022-08-06T12:14:43.332947Z",
     "iopub.status.busy": "2022-08-06T12:14:43.332305Z",
     "iopub.status.idle": "2022-08-06T12:14:43.335488Z",
     "shell.execute_reply": "2022-08-06T12:14:43.335960Z"
    },
    "papermill": {
     "duration": 0.04248,
     "end_time": "2022-08-06T12:14:43.336093",
     "exception": false,
     "start_time": "2022-08-06T12:14:43.293613",
     "status": "completed"
    },
    "tags": []
   },
   "outputs": [
    {
     "data": {
      "text/plain": [
       "'https://raw.githubusercontent.com/pratapvardhan/notebooks/master/covid19/mapping_countries.csv'"
      ]
     },
     "execution_count": 3,
     "metadata": {},
     "output_type": "execute_result"
    }
   ],
   "source": [
    "#hide\n",
    "paths['mapping']"
   ]
  },
  {
   "cell_type": "code",
   "execution_count": 4,
   "id": "urban-software",
   "metadata": {
    "execution": {
     "iopub.execute_input": "2022-08-06T12:14:43.401265Z",
     "iopub.status.busy": "2022-08-06T12:14:43.400495Z",
     "iopub.status.idle": "2022-08-06T12:14:43.402279Z",
     "shell.execute_reply": "2022-08-06T12:14:43.402819Z"
    },
    "papermill": {
     "duration": 0.037313,
     "end_time": "2022-08-06T12:14:43.402974",
     "exception": false,
     "start_time": "2022-08-06T12:14:43.365661",
     "status": "completed"
    },
    "tags": []
   },
   "outputs": [],
   "source": [
    "#hide\n",
    "def get_mappings(url):\n",
    "    df = pd.read_csv(url)\n",
    "    return {\n",
    "        'df': df,\n",
    "        'replace.country': dict(df.dropna(subset=['Name']).set_index('Country')['Name']),\n",
    "        'map.continent': dict(df.set_index('Name')['Continent'])\n",
    "    }"
   ]
  },
  {
   "cell_type": "code",
   "execution_count": 5,
   "id": "intimate-machinery",
   "metadata": {
    "execution": {
     "iopub.execute_input": "2022-08-06T12:14:43.468020Z",
     "iopub.status.busy": "2022-08-06T12:14:43.467429Z",
     "iopub.status.idle": "2022-08-06T12:14:43.514341Z",
     "shell.execute_reply": "2022-08-06T12:14:43.513756Z"
    },
    "papermill": {
     "duration": 0.081892,
     "end_time": "2022-08-06T12:14:43.514478",
     "exception": false,
     "start_time": "2022-08-06T12:14:43.432586",
     "status": "completed"
    },
    "tags": []
   },
   "outputs": [],
   "source": [
    "#hide\n",
    "mapping = get_mappings(paths['mapping'])"
   ]
  },
  {
   "cell_type": "code",
   "execution_count": 6,
   "id": "certified-tactics",
   "metadata": {
    "execution": {
     "iopub.execute_input": "2022-08-06T12:14:43.579404Z",
     "iopub.status.busy": "2022-08-06T12:14:43.578821Z",
     "iopub.status.idle": "2022-08-06T12:14:43.581179Z",
     "shell.execute_reply": "2022-08-06T12:14:43.581746Z"
    },
    "papermill": {
     "duration": 0.03761,
     "end_time": "2022-08-06T12:14:43.581883",
     "exception": false,
     "start_time": "2022-08-06T12:14:43.544273",
     "status": "completed"
    },
    "tags": []
   },
   "outputs": [],
   "source": [
    "#hide\n",
    "def get_template(path):\n",
    "    from urllib.parse import urlparse\n",
    "    if bool(urlparse(path).netloc):\n",
    "        from urllib.request import urlopen\n",
    "        return urlopen(path).read().decode('utf8')\n",
    "    return open(path).read()"
   ]
  },
  {
   "cell_type": "code",
   "execution_count": 7,
   "id": "realistic-blast",
   "metadata": {
    "execution": {
     "iopub.execute_input": "2022-08-06T12:14:43.646104Z",
     "iopub.status.busy": "2022-08-06T12:14:43.645418Z",
     "iopub.status.idle": "2022-08-06T12:14:43.648033Z",
     "shell.execute_reply": "2022-08-06T12:14:43.647492Z"
    },
    "papermill": {
     "duration": 0.037117,
     "end_time": "2022-08-06T12:14:43.648158",
     "exception": false,
     "start_time": "2022-08-06T12:14:43.611041",
     "status": "completed"
    },
    "tags": []
   },
   "outputs": [],
   "source": [
    "#hide\n",
    "def get_frame(name):\n",
    "    url = (\n",
    "        'https://raw.githubusercontent.com/CSSEGISandData/COVID-19/master/csse_covid_19_data/'\n",
    "        f'csse_covid_19_time_series/time_series_covid19_{name}_global.csv')\n",
    "    df = pd.read_csv(url)\n",
    "    # rename countries\n",
    "    df['Country/Region'] = df['Country/Region'].replace(mapping['replace.country'])\n",
    "    return df"
   ]
  },
  {
   "cell_type": "code",
   "execution_count": 8,
   "id": "affiliated-characterization",
   "metadata": {
    "execution": {
     "iopub.execute_input": "2022-08-06T12:14:43.714000Z",
     "iopub.status.busy": "2022-08-06T12:14:43.713383Z",
     "iopub.status.idle": "2022-08-06T12:14:43.717078Z",
     "shell.execute_reply": "2022-08-06T12:14:43.717508Z"
    },
    "papermill": {
     "duration": 0.039528,
     "end_time": "2022-08-06T12:14:43.717643",
     "exception": false,
     "start_time": "2022-08-06T12:14:43.678115",
     "status": "completed"
    },
    "tags": []
   },
   "outputs": [],
   "source": [
    "#hide\n",
    "def get_dates(df):\n",
    "    dt_cols = df.columns[~df.columns.isin(['Province/State', 'Country/Region', 'Lat', 'Long'])]\n",
    "    LAST_DATE_I = -1\n",
    "    # sometimes last column may be empty, then go backwards\n",
    "    for i in range(-1, -len(dt_cols), -1):\n",
    "        if not df[dt_cols[i]].fillna(0).eq(0).all():\n",
    "            LAST_DATE_I = i\n",
    "            break\n",
    "    return LAST_DATE_I, dt_cols"
   ]
  },
  {
   "cell_type": "code",
   "execution_count": 9,
   "id": "recent-optimization",
   "metadata": {
    "execution": {
     "iopub.execute_input": "2022-08-06T12:14:43.781845Z",
     "iopub.status.busy": "2022-08-06T12:14:43.780895Z",
     "iopub.status.idle": "2022-08-06T12:14:44.321595Z",
     "shell.execute_reply": "2022-08-06T12:14:44.320985Z"
    },
    "papermill": {
     "duration": 0.574804,
     "end_time": "2022-08-06T12:14:44.321749",
     "exception": false,
     "start_time": "2022-08-06T12:14:43.746945",
     "status": "completed"
    },
    "tags": []
   },
   "outputs": [],
   "source": [
    "#hide\n",
    "COL_REGION = 'Country/Region'\n",
    "# Confirmed, Recovered, Deaths\n",
    "df = get_frame('confirmed')\n",
    "# dft_: timeseries, dfc_: today country agg\n",
    "dft_cases = df\n",
    "dft_deaths = get_frame('deaths')\n",
    "dft_recovered = get_frame('recovered')\n",
    "LAST_DATE_I, dt_cols = get_dates(df)"
   ]
  },
  {
   "cell_type": "code",
   "execution_count": 10,
   "id": "absolute-copper",
   "metadata": {
    "execution": {
     "iopub.execute_input": "2022-08-06T12:14:44.386369Z",
     "iopub.status.busy": "2022-08-06T12:14:44.385766Z",
     "iopub.status.idle": "2022-08-06T12:14:44.388380Z",
     "shell.execute_reply": "2022-08-06T12:14:44.387827Z"
    },
    "papermill": {
     "duration": 0.036961,
     "end_time": "2022-08-06T12:14:44.388492",
     "exception": false,
     "start_time": "2022-08-06T12:14:44.351531",
     "status": "completed"
    },
    "tags": []
   },
   "outputs": [],
   "source": [
    "#hide\n",
    "LAST_DATE_I, dt_cols = get_dates(df)\n",
    "dt_today =dt_cols[LAST_DATE_I]\n",
    "# dt_5day = dt_cols[LAST_DATE_I - 5]\n",
    "dt_yday = dt_cols[LAST_DATE_I - 1]"
   ]
  },
  {
   "cell_type": "code",
   "execution_count": 11,
   "id": "restricted-sheriff",
   "metadata": {
    "execution": {
     "iopub.execute_input": "2022-08-06T12:14:44.453166Z",
     "iopub.status.busy": "2022-08-06T12:14:44.452540Z",
     "iopub.status.idle": "2022-08-06T12:14:44.460096Z",
     "shell.execute_reply": "2022-08-06T12:14:44.460570Z"
    },
    "papermill": {
     "duration": 0.043095,
     "end_time": "2022-08-06T12:14:44.460705",
     "exception": false,
     "start_time": "2022-08-06T12:14:44.417610",
     "status": "completed"
    },
    "tags": []
   },
   "outputs": [],
   "source": [
    "#hide\n",
    "dfc_cases = dft_cases.groupby(COL_REGION)[dt_today].sum()\n",
    "dfc_deaths = dft_deaths.groupby(COL_REGION)[dt_today].sum()\n",
    "# dfp_cases = dft_cases.groupby(COL_REGION)[dt_5day].sum()\n",
    "# dfp_deaths = dft_deaths.groupby(COL_REGION)[dt_5day].sum()\n",
    "dfp_cases = dft_cases.groupby(COL_REGION)[dt_yday].sum()\n",
    "dfp_deaths = dft_deaths.groupby(COL_REGION)[dt_yday].sum()"
   ]
  },
  {
   "cell_type": "code",
   "execution_count": 12,
   "id": "deluxe-hepatitis",
   "metadata": {
    "execution": {
     "iopub.execute_input": "2022-08-06T12:14:44.526418Z",
     "iopub.status.busy": "2022-08-06T12:14:44.525824Z",
     "iopub.status.idle": "2022-08-06T12:14:44.530345Z",
     "shell.execute_reply": "2022-08-06T12:14:44.530819Z"
    },
    "papermill": {
     "duration": 0.040832,
     "end_time": "2022-08-06T12:14:44.530953",
     "exception": false,
     "start_time": "2022-08-06T12:14:44.490121",
     "status": "completed"
    },
    "tags": []
   },
   "outputs": [],
   "source": [
    "#hide\n",
    "df_table = (pd.DataFrame(dict(Cases = dfc_cases, Deaths = dfc_deaths, PCases = dfp_cases, PDeaths = dfp_deaths))\n",
    "            .sort_values(by = ['Cases','Deaths'], ascending = [False, False])\n",
    "            .reset_index())"
   ]
  },
  {
   "cell_type": "code",
   "execution_count": 13,
   "id": "educational-chancellor",
   "metadata": {
    "execution": {
     "iopub.execute_input": "2022-08-06T12:14:44.607063Z",
     "iopub.status.busy": "2022-08-06T12:14:44.606479Z",
     "iopub.status.idle": "2022-08-06T12:14:44.615901Z",
     "shell.execute_reply": "2022-08-06T12:14:44.616358Z"
    },
    "papermill": {
     "duration": 0.056477,
     "end_time": "2022-08-06T12:14:44.616488",
     "exception": false,
     "start_time": "2022-08-06T12:14:44.560011",
     "status": "completed"
    },
    "tags": []
   },
   "outputs": [
    {
     "data": {
      "text/html": [
       "<div>\n",
       "<style scoped>\n",
       "    .dataframe tbody tr th:only-of-type {\n",
       "        vertical-align: middle;\n",
       "    }\n",
       "\n",
       "    .dataframe tbody tr th {\n",
       "        vertical-align: top;\n",
       "    }\n",
       "\n",
       "    .dataframe thead th {\n",
       "        text-align: right;\n",
       "    }\n",
       "</style>\n",
       "<table border=\"1\" class=\"dataframe\">\n",
       "  <thead>\n",
       "    <tr style=\"text-align: right;\">\n",
       "      <th></th>\n",
       "      <th>Country/Region</th>\n",
       "      <th>Cases</th>\n",
       "      <th>Deaths</th>\n",
       "      <th>PCases</th>\n",
       "      <th>PDeaths</th>\n",
       "      <th>Cases (+)</th>\n",
       "      <th>Deaths (+)</th>\n",
       "      <th>Fatality Rate</th>\n",
       "      <th>Continent</th>\n",
       "    </tr>\n",
       "  </thead>\n",
       "  <tbody>\n",
       "    <tr>\n",
       "      <th>0</th>\n",
       "      <td>US</td>\n",
       "      <td>92090455</td>\n",
       "      <td>1033516</td>\n",
       "      <td>91961519</td>\n",
       "      <td>1032820</td>\n",
       "      <td>128936</td>\n",
       "      <td>696</td>\n",
       "      <td>1.12</td>\n",
       "      <td>North America</td>\n",
       "    </tr>\n",
       "    <tr>\n",
       "      <th>1</th>\n",
       "      <td>India</td>\n",
       "      <td>44126994</td>\n",
       "      <td>526649</td>\n",
       "      <td>44107588</td>\n",
       "      <td>526600</td>\n",
       "      <td>19406</td>\n",
       "      <td>49</td>\n",
       "      <td>1.19</td>\n",
       "      <td>Asia</td>\n",
       "    </tr>\n",
       "    <tr>\n",
       "      <th>2</th>\n",
       "      <td>France</td>\n",
       "      <td>34237067</td>\n",
       "      <td>153577</td>\n",
       "      <td>34206310</td>\n",
       "      <td>153497</td>\n",
       "      <td>30757</td>\n",
       "      <td>80</td>\n",
       "      <td>0.45</td>\n",
       "      <td>Europe</td>\n",
       "    </tr>\n",
       "    <tr>\n",
       "      <th>3</th>\n",
       "      <td>Brazil</td>\n",
       "      <td>33994470</td>\n",
       "      <td>679758</td>\n",
       "      <td>33964494</td>\n",
       "      <td>679536</td>\n",
       "      <td>29976</td>\n",
       "      <td>222</td>\n",
       "      <td>2.00</td>\n",
       "      <td>South America</td>\n",
       "    </tr>\n",
       "    <tr>\n",
       "      <th>4</th>\n",
       "      <td>Germany</td>\n",
       "      <td>31228314</td>\n",
       "      <td>144858</td>\n",
       "      <td>31178705</td>\n",
       "      <td>144717</td>\n",
       "      <td>49609</td>\n",
       "      <td>141</td>\n",
       "      <td>0.46</td>\n",
       "      <td>Europe</td>\n",
       "    </tr>\n",
       "  </tbody>\n",
       "</table>\n",
       "</div>"
      ],
      "text/plain": [
       "  Country/Region     Cases   Deaths    PCases  PDeaths  Cases (+)  Deaths (+)  \\\n",
       "0             US  92090455  1033516  91961519  1032820     128936         696   \n",
       "1          India  44126994   526649  44107588   526600      19406          49   \n",
       "2         France  34237067   153577  34206310   153497      30757          80   \n",
       "3         Brazil  33994470   679758  33964494   679536      29976         222   \n",
       "4        Germany  31228314   144858  31178705   144717      49609         141   \n",
       "\n",
       "   Fatality Rate      Continent  \n",
       "0           1.12  North America  \n",
       "1           1.19           Asia  \n",
       "2           0.45         Europe  \n",
       "3           2.00  South America  \n",
       "4           0.46         Europe  "
      ]
     },
     "execution_count": 13,
     "metadata": {},
     "output_type": "execute_result"
    }
   ],
   "source": [
    "#hide\n",
    "for c in 'Cases, Deaths'.split(', '):\n",
    "    df_table[f'{c} (+)'] = (df_table[c] - df_table[f'P{c}']).clip(0)\n",
    "    #Clip ça veut dire, les chiffres negatif sont interdit\n",
    "df_table['Fatality Rate'] = (100* df_table['Deaths']/ df_table['Cases']).round(2)\n",
    "df_table['Continent'] = df_table['Country/Region'].map(mapping['map.continent'])\n",
    "df_table.head(5)"
   ]
  },
  {
   "cell_type": "code",
   "execution_count": 14,
   "id": "aboriginal-bulgaria",
   "metadata": {
    "execution": {
     "iopub.execute_input": "2022-08-06T12:14:44.681600Z",
     "iopub.status.busy": "2022-08-06T12:14:44.680996Z",
     "iopub.status.idle": "2022-08-06T12:14:44.683559Z",
     "shell.execute_reply": "2022-08-06T12:14:44.682993Z"
    },
    "papermill": {
     "duration": 0.03751,
     "end_time": "2022-08-06T12:14:44.683672",
     "exception": false,
     "start_time": "2022-08-06T12:14:44.646162",
     "status": "completed"
    },
    "tags": []
   },
   "outputs": [],
   "source": [
    "#hide\n",
    "#delete problematic countries from table\n",
    "df_table = df_table[~df_table['Country/Region'].isin(['Cape Verde', 'Cruise Ship', 'Kosovo'])]"
   ]
  },
  {
   "cell_type": "code",
   "execution_count": 15,
   "id": "fantastic-effect",
   "metadata": {
    "execution": {
     "iopub.execute_input": "2022-08-06T12:14:44.750260Z",
     "iopub.status.busy": "2022-08-06T12:14:44.749677Z",
     "iopub.status.idle": "2022-08-06T12:14:44.767373Z",
     "shell.execute_reply": "2022-08-06T12:14:44.766905Z"
    },
    "papermill": {
     "duration": 0.054256,
     "end_time": "2022-08-06T12:14:44.767484",
     "exception": false,
     "start_time": "2022-08-06T12:14:44.713228",
     "status": "completed"
    },
    "tags": []
   },
   "outputs": [
    {
     "data": {
      "text/html": [
       "<div>\n",
       "<style scoped>\n",
       "    .dataframe tbody tr th:only-of-type {\n",
       "        vertical-align: middle;\n",
       "    }\n",
       "\n",
       "    .dataframe tbody tr th {\n",
       "        vertical-align: top;\n",
       "    }\n",
       "\n",
       "    .dataframe thead th {\n",
       "        text-align: right;\n",
       "    }\n",
       "</style>\n",
       "<table border=\"1\" class=\"dataframe\">\n",
       "  <thead>\n",
       "    <tr style=\"text-align: right;\">\n",
       "      <th></th>\n",
       "      <th>Country/Region</th>\n",
       "      <th>Cases</th>\n",
       "      <th>Deaths</th>\n",
       "      <th>PCases</th>\n",
       "      <th>PDeaths</th>\n",
       "      <th>Cases (+)</th>\n",
       "      <th>Deaths (+)</th>\n",
       "      <th>Fatality Rate</th>\n",
       "      <th>Continent</th>\n",
       "    </tr>\n",
       "  </thead>\n",
       "  <tbody>\n",
       "    <tr>\n",
       "      <th>0</th>\n",
       "      <td>US</td>\n",
       "      <td>92090455</td>\n",
       "      <td>1033516</td>\n",
       "      <td>91961519</td>\n",
       "      <td>1032820</td>\n",
       "      <td>128936</td>\n",
       "      <td>696</td>\n",
       "      <td>1.1</td>\n",
       "      <td>North America</td>\n",
       "    </tr>\n",
       "    <tr>\n",
       "      <th>1</th>\n",
       "      <td>India</td>\n",
       "      <td>44126994</td>\n",
       "      <td>526649</td>\n",
       "      <td>44107588</td>\n",
       "      <td>526600</td>\n",
       "      <td>19406</td>\n",
       "      <td>49</td>\n",
       "      <td>1.2</td>\n",
       "      <td>Asia</td>\n",
       "    </tr>\n",
       "    <tr>\n",
       "      <th>2</th>\n",
       "      <td>France</td>\n",
       "      <td>34237067</td>\n",
       "      <td>153577</td>\n",
       "      <td>34206310</td>\n",
       "      <td>153497</td>\n",
       "      <td>30757</td>\n",
       "      <td>80</td>\n",
       "      <td>0.4</td>\n",
       "      <td>Europe</td>\n",
       "    </tr>\n",
       "    <tr>\n",
       "      <th>3</th>\n",
       "      <td>Brazil</td>\n",
       "      <td>33994470</td>\n",
       "      <td>679758</td>\n",
       "      <td>33964494</td>\n",
       "      <td>679536</td>\n",
       "      <td>29976</td>\n",
       "      <td>222</td>\n",
       "      <td>2.0</td>\n",
       "      <td>South America</td>\n",
       "    </tr>\n",
       "    <tr>\n",
       "      <th>4</th>\n",
       "      <td>Germany</td>\n",
       "      <td>31228314</td>\n",
       "      <td>144858</td>\n",
       "      <td>31178705</td>\n",
       "      <td>144717</td>\n",
       "      <td>49609</td>\n",
       "      <td>141</td>\n",
       "      <td>0.5</td>\n",
       "      <td>Europe</td>\n",
       "    </tr>\n",
       "  </tbody>\n",
       "</table>\n",
       "</div>"
      ],
      "text/plain": [
       "  Country/Region     Cases   Deaths    PCases  PDeaths  Cases (+)  Deaths (+)  \\\n",
       "0             US  92090455  1033516  91961519  1032820     128936         696   \n",
       "1          India  44126994   526649  44107588   526600      19406          49   \n",
       "2         France  34237067   153577  34206310   153497      30757          80   \n",
       "3         Brazil  33994470   679758  33964494   679536      29976         222   \n",
       "4        Germany  31228314   144858  31178705   144717      49609         141   \n",
       "\n",
       "   Fatality Rate      Continent  \n",
       "0            1.1  North America  \n",
       "1            1.2           Asia  \n",
       "2            0.4         Europe  \n",
       "3            2.0  South America  \n",
       "4            0.5         Europe  "
      ]
     },
     "execution_count": 15,
     "metadata": {},
     "output_type": "execute_result"
    }
   ],
   "source": [
    "#hide\n",
    "df_table = (pd.DataFrame(dict(Cases=dfc_cases, Deaths=dfc_deaths, PCases=dfp_cases, PDeaths=dfp_deaths))\n",
    "             .sort_values(by=['Cases', 'Deaths'], ascending=[False, False])\n",
    "             .reset_index())\n",
    "df_table.rename(columns={'index': 'Country/Region'}, inplace=True)\n",
    "for c in 'Cases, Deaths'.split(', '):\n",
    "    df_table[f'{c} (+)'] = (df_table[c] - df_table[f'P{c}']).clip(0)  # DATA BUG\n",
    "df_table['Fatality Rate'] = (100 * df_table['Deaths'] / df_table['Cases']).round(1)\n",
    "df_table['Continent'] = df_table['Country/Region'].map(mapping['map.continent'])\n",
    "df_table.head(5)"
   ]
  },
  {
   "cell_type": "code",
   "execution_count": 16,
   "id": "fewer-occasion",
   "metadata": {
    "execution": {
     "iopub.execute_input": "2022-08-06T12:14:44.833348Z",
     "iopub.status.busy": "2022-08-06T12:14:44.832725Z",
     "iopub.status.idle": "2022-08-06T12:14:44.835419Z",
     "shell.execute_reply": "2022-08-06T12:14:44.834971Z"
    },
    "papermill": {
     "duration": 0.037853,
     "end_time": "2022-08-06T12:14:44.835531",
     "exception": false,
     "start_time": "2022-08-06T12:14:44.797678",
     "status": "completed"
    },
    "tags": []
   },
   "outputs": [],
   "source": [
    "#hide\n",
    "#delete problematic countries from table\n",
    "df_table = df_table[~df_table['Country/Region'].isin(['Cape Verde', 'Cruise Ship', 'Kosovo'])]"
   ]
  },
  {
   "cell_type": "code",
   "execution_count": 17,
   "id": "related-center",
   "metadata": {
    "execution": {
     "iopub.execute_input": "2022-08-06T12:14:44.902748Z",
     "iopub.status.busy": "2022-08-06T12:14:44.902170Z",
     "iopub.status.idle": "2022-08-06T12:14:44.915600Z",
     "shell.execute_reply": "2022-08-06T12:14:44.915033Z"
    },
    "papermill": {
     "duration": 0.050236,
     "end_time": "2022-08-06T12:14:44.915710",
     "exception": false,
     "start_time": "2022-08-06T12:14:44.865474",
     "status": "completed"
    },
    "tags": []
   },
   "outputs": [],
   "source": [
    "#hide\n",
    "metrics = [df_table.columns[index] for index in [1,2,5,6]]\n",
    "# s_china = df_table[df_table['Country/Region'].eq('China')][metrics].sum().add_prefix('China ')\n",
    "s_us = df_table[df_table['Country/Region'].eq('US')][metrics].sum().add_prefix('US ')\n",
    "s_eu = df_table[df_table['Continent'].eq('Europe')][metrics].sum().add_prefix('EU ')\n",
    "s_ind = df_table[df_table['Country/Region'].eq('India')][metrics].sum().add_prefix('India ')\n",
    "summary = {'updated': pd.to_datetime(dt_today), 'since': pd.to_datetime(dt_yday)}\n",
    "summary = {'updated': pd.to_datetime(dt_today), 'since': pd.to_datetime(dt_yday)}\n",
    "summary = {**summary, **df_table[metrics].sum(), **s_ind, **s_us, **s_eu}"
   ]
  },
  {
   "cell_type": "code",
   "execution_count": 18,
   "id": "engaging-syndrome",
   "metadata": {
    "execution": {
     "iopub.execute_input": "2022-08-06T12:14:44.982293Z",
     "iopub.status.busy": "2022-08-06T12:14:44.981685Z",
     "iopub.status.idle": "2022-08-06T12:14:45.003704Z",
     "shell.execute_reply": "2022-08-06T12:14:45.003181Z"
    },
    "papermill": {
     "duration": 0.057811,
     "end_time": "2022-08-06T12:14:45.003830",
     "exception": false,
     "start_time": "2022-08-06T12:14:44.946019",
     "status": "completed"
    },
    "tags": []
   },
   "outputs": [],
   "source": [
    "#hide\n",
    "dft_ct_new_cases = dft_cases.groupby(COL_REGION)[dt_cols].sum().diff(axis=1).fillna(0).astype(int)"
   ]
  },
  {
   "cell_type": "code",
   "execution_count": 19,
   "id": "neutral-assignment",
   "metadata": {
    "execution": {
     "iopub.execute_input": "2022-08-06T12:14:45.073031Z",
     "iopub.status.busy": "2022-08-06T12:14:45.072372Z",
     "iopub.status.idle": "2022-08-06T12:14:45.077914Z",
     "shell.execute_reply": "2022-08-06T12:14:45.078346Z"
    },
    "papermill": {
     "duration": 0.044337,
     "end_time": "2022-08-06T12:14:45.078496",
     "exception": false,
     "start_time": "2022-08-06T12:14:45.034159",
     "status": "completed"
    },
    "tags": []
   },
   "outputs": [],
   "source": [
    "#hide\n",
    "everydaycases = dft_ct_new_cases.cumsum(axis=1)"
   ]
  },
  {
   "cell_type": "code",
   "execution_count": 20,
   "id": "parliamentary-calgary",
   "metadata": {
    "execution": {
     "iopub.execute_input": "2022-08-06T12:14:45.144942Z",
     "iopub.status.busy": "2022-08-06T12:14:45.144289Z",
     "iopub.status.idle": "2022-08-06T12:14:45.724369Z",
     "shell.execute_reply": "2022-08-06T12:14:45.723354Z"
    },
    "papermill": {
     "duration": 0.615104,
     "end_time": "2022-08-06T12:14:45.724514",
     "exception": false,
     "start_time": "2022-08-06T12:14:45.109410",
     "status": "completed"
    },
    "tags": []
   },
   "outputs": [],
   "source": [
    "#hide\n",
    "import pandas as pd\n",
    "import matplotlib.pyplot as plt\n",
    "import matplotlib.ticker as ticker\n",
    "import matplotlib.animation as animation\n",
    "from IPython.display import HTML"
   ]
  },
  {
   "cell_type": "code",
   "execution_count": 21,
   "id": "lasting-extraction",
   "metadata": {
    "execution": {
     "iopub.execute_input": "2022-08-06T12:14:45.792422Z",
     "iopub.status.busy": "2022-08-06T12:14:45.791804Z",
     "iopub.status.idle": "2022-08-06T12:14:45.799342Z",
     "shell.execute_reply": "2022-08-06T12:14:45.798858Z"
    },
    "papermill": {
     "duration": 0.044404,
     "end_time": "2022-08-06T12:14:45.799463",
     "exception": false,
     "start_time": "2022-08-06T12:14:45.755059",
     "status": "completed"
    },
    "tags": []
   },
   "outputs": [],
   "source": [
    "#hide\n",
    "t = everydaycases.stack()"
   ]
  },
  {
   "cell_type": "code",
   "execution_count": 22,
   "id": "premier-sleeve",
   "metadata": {
    "execution": {
     "iopub.execute_input": "2022-08-06T12:14:45.868528Z",
     "iopub.status.busy": "2022-08-06T12:14:45.867937Z",
     "iopub.status.idle": "2022-08-06T12:14:45.880277Z",
     "shell.execute_reply": "2022-08-06T12:14:45.879789Z"
    },
    "papermill": {
     "duration": 0.049832,
     "end_time": "2022-08-06T12:14:45.880395",
     "exception": false,
     "start_time": "2022-08-06T12:14:45.830563",
     "status": "completed"
    },
    "tags": []
   },
   "outputs": [],
   "source": [
    "#hide\n",
    "g = t.reset_index(['Country/Region'])"
   ]
  },
  {
   "cell_type": "code",
   "execution_count": 23,
   "id": "distributed-pittsburgh",
   "metadata": {
    "execution": {
     "iopub.execute_input": "2022-08-06T12:14:45.952284Z",
     "iopub.status.busy": "2022-08-06T12:14:45.951537Z",
     "iopub.status.idle": "2022-08-06T12:14:45.954077Z",
     "shell.execute_reply": "2022-08-06T12:14:45.953513Z"
    },
    "papermill": {
     "duration": 0.040933,
     "end_time": "2022-08-06T12:14:45.954194",
     "exception": false,
     "start_time": "2022-08-06T12:14:45.913261",
     "status": "completed"
    },
    "tags": []
   },
   "outputs": [],
   "source": [
    "#hide\n",
    "g.index.name = 'date'"
   ]
  },
  {
   "cell_type": "code",
   "execution_count": 24,
   "id": "naked-donor",
   "metadata": {
    "execution": {
     "iopub.execute_input": "2022-08-06T12:14:46.024876Z",
     "iopub.status.busy": "2022-08-06T12:14:46.024225Z",
     "iopub.status.idle": "2022-08-06T12:14:46.026747Z",
     "shell.execute_reply": "2022-08-06T12:14:46.026178Z"
    },
    "papermill": {
     "duration": 0.041107,
     "end_time": "2022-08-06T12:14:46.026862",
     "exception": false,
     "start_time": "2022-08-06T12:14:45.985755",
     "status": "completed"
    },
    "tags": []
   },
   "outputs": [],
   "source": [
    "# #hide\n",
    "# g = g.reset_index(['date'])"
   ]
  },
  {
   "cell_type": "code",
   "execution_count": 25,
   "id": "incomplete-mustang",
   "metadata": {
    "execution": {
     "iopub.execute_input": "2022-08-06T12:14:46.092388Z",
     "iopub.status.busy": "2022-08-06T12:14:46.091691Z",
     "iopub.status.idle": "2022-08-06T12:14:46.095042Z",
     "shell.execute_reply": "2022-08-06T12:14:46.095564Z"
    },
    "papermill": {
     "duration": 0.038398,
     "end_time": "2022-08-06T12:14:46.095711",
     "exception": false,
     "start_time": "2022-08-06T12:14:46.057313",
     "status": "completed"
    },
    "tags": []
   },
   "outputs": [],
   "source": [
    "#hide\n",
    "# g.head()"
   ]
  },
  {
   "cell_type": "code",
   "execution_count": 26,
   "id": "specific-kruger",
   "metadata": {
    "execution": {
     "iopub.execute_input": "2022-08-06T12:14:46.164231Z",
     "iopub.status.busy": "2022-08-06T12:14:46.163533Z",
     "iopub.status.idle": "2022-08-06T12:14:46.167314Z",
     "shell.execute_reply": "2022-08-06T12:14:46.167760Z"
    },
    "papermill": {
     "duration": 0.04039,
     "end_time": "2022-08-06T12:14:46.167897",
     "exception": false,
     "start_time": "2022-08-06T12:14:46.127507",
     "status": "completed"
    },
    "tags": []
   },
   "outputs": [],
   "source": [
    "#hide\n",
    "# g.columns = ['date','country','cases']"
   ]
  },
  {
   "cell_type": "code",
   "execution_count": 27,
   "id": "tender-conversion",
   "metadata": {
    "execution": {
     "iopub.execute_input": "2022-08-06T12:14:46.233367Z",
     "iopub.status.busy": "2022-08-06T12:14:46.232598Z",
     "iopub.status.idle": "2022-08-06T12:14:46.234482Z",
     "shell.execute_reply": "2022-08-06T12:14:46.234989Z"
    },
    "papermill": {
     "duration": 0.036792,
     "end_time": "2022-08-06T12:14:46.235140",
     "exception": false,
     "start_time": "2022-08-06T12:14:46.198348",
     "status": "completed"
    },
    "tags": []
   },
   "outputs": [],
   "source": [
    "#hide\n",
    "# g['continent'] = g.country"
   ]
  },
  {
   "cell_type": "code",
   "execution_count": 28,
   "id": "substantial-wilderness",
   "metadata": {
    "execution": {
     "iopub.execute_input": "2022-08-06T12:14:46.307618Z",
     "iopub.status.busy": "2022-08-06T12:14:46.306908Z",
     "iopub.status.idle": "2022-08-06T12:14:46.309434Z",
     "shell.execute_reply": "2022-08-06T12:14:46.308848Z"
    },
    "papermill": {
     "duration": 0.04109,
     "end_time": "2022-08-06T12:14:46.309551",
     "exception": false,
     "start_time": "2022-08-06T12:14:46.268461",
     "status": "completed"
    },
    "tags": []
   },
   "outputs": [],
   "source": [
    "#hide\n",
    "# cols = list(g.columns.values)"
   ]
  },
  {
   "cell_type": "code",
   "execution_count": 29,
   "id": "solved-farming",
   "metadata": {
    "execution": {
     "iopub.execute_input": "2022-08-06T12:14:46.374285Z",
     "iopub.status.busy": "2022-08-06T12:14:46.373673Z",
     "iopub.status.idle": "2022-08-06T12:14:46.376258Z",
     "shell.execute_reply": "2022-08-06T12:14:46.375751Z"
    },
    "papermill": {
     "duration": 0.036476,
     "end_time": "2022-08-06T12:14:46.376372",
     "exception": false,
     "start_time": "2022-08-06T12:14:46.339896",
     "status": "completed"
    },
    "tags": []
   },
   "outputs": [],
   "source": [
    "#hide\n",
    "# cols.insert(0, cols.pop())"
   ]
  },
  {
   "cell_type": "code",
   "execution_count": 30,
   "id": "executed-adoption",
   "metadata": {
    "execution": {
     "iopub.execute_input": "2022-08-06T12:14:46.449744Z",
     "iopub.status.busy": "2022-08-06T12:14:46.449027Z",
     "iopub.status.idle": "2022-08-06T12:14:46.451580Z",
     "shell.execute_reply": "2022-08-06T12:14:46.451105Z"
    },
    "papermill": {
     "duration": 0.040039,
     "end_time": "2022-08-06T12:14:46.451696",
     "exception": false,
     "start_time": "2022-08-06T12:14:46.411657",
     "status": "completed"
    },
    "tags": []
   },
   "outputs": [],
   "source": [
    "#hide\n",
    "# g = g[cols]"
   ]
  },
  {
   "cell_type": "code",
   "execution_count": 31,
   "id": "subject-dublin",
   "metadata": {
    "execution": {
     "iopub.execute_input": "2022-08-06T12:14:46.516500Z",
     "iopub.status.busy": "2022-08-06T12:14:46.515873Z",
     "iopub.status.idle": "2022-08-06T12:14:46.518517Z",
     "shell.execute_reply": "2022-08-06T12:14:46.518044Z"
    },
    "papermill": {
     "duration": 0.036615,
     "end_time": "2022-08-06T12:14:46.518630",
     "exception": false,
     "start_time": "2022-08-06T12:14:46.482015",
     "status": "completed"
    },
    "tags": []
   },
   "outputs": [],
   "source": [
    "#hide\n",
    "# g['continent'] = g['continent'].map(mapping['map.continent'])"
   ]
  },
  {
   "cell_type": "code",
   "execution_count": 32,
   "id": "freelance-scout",
   "metadata": {
    "execution": {
     "iopub.execute_input": "2022-08-06T12:14:46.584707Z",
     "iopub.status.busy": "2022-08-06T12:14:46.584095Z",
     "iopub.status.idle": "2022-08-06T12:14:46.586765Z",
     "shell.execute_reply": "2022-08-06T12:14:46.586290Z"
    },
    "papermill": {
     "duration": 0.036579,
     "end_time": "2022-08-06T12:14:46.586877",
     "exception": false,
     "start_time": "2022-08-06T12:14:46.550298",
     "status": "completed"
    },
    "tags": []
   },
   "outputs": [],
   "source": [
    "#hide\n",
    "# g.head()"
   ]
  },
  {
   "cell_type": "code",
   "execution_count": 33,
   "id": "limited-engine",
   "metadata": {
    "execution": {
     "iopub.execute_input": "2022-08-06T12:14:46.651856Z",
     "iopub.status.busy": "2022-08-06T12:14:46.651218Z",
     "iopub.status.idle": "2022-08-06T12:14:46.653733Z",
     "shell.execute_reply": "2022-08-06T12:14:46.654288Z"
    },
    "papermill": {
     "duration": 0.037326,
     "end_time": "2022-08-06T12:14:46.654425",
     "exception": false,
     "start_time": "2022-08-06T12:14:46.617099",
     "status": "completed"
    },
    "tags": []
   },
   "outputs": [],
   "source": [
    "# hide\n",
    "# g['date'] = g['date'].astype('datetime64[ns]')"
   ]
  },
  {
   "cell_type": "code",
   "execution_count": 34,
   "id": "sophisticated-supervisor",
   "metadata": {
    "execution": {
     "iopub.execute_input": "2022-08-06T12:14:46.719705Z",
     "iopub.status.busy": "2022-08-06T12:14:46.719090Z",
     "iopub.status.idle": "2022-08-06T12:14:46.722748Z",
     "shell.execute_reply": "2022-08-06T12:14:46.723172Z"
    },
    "papermill": {
     "duration": 0.038313,
     "end_time": "2022-08-06T12:14:46.723311",
     "exception": false,
     "start_time": "2022-08-06T12:14:46.684998",
     "status": "completed"
    },
    "tags": []
   },
   "outputs": [],
   "source": [
    "#hide\n",
    "# g['date'] = g.date.dt.dayofyear"
   ]
  },
  {
   "cell_type": "code",
   "execution_count": 35,
   "id": "inside-dubai",
   "metadata": {
    "execution": {
     "iopub.execute_input": "2022-08-06T12:14:46.789165Z",
     "iopub.status.busy": "2022-08-06T12:14:46.788518Z",
     "iopub.status.idle": "2022-08-06T12:14:46.791030Z",
     "shell.execute_reply": "2022-08-06T12:14:46.790560Z"
    },
    "papermill": {
     "duration": 0.036767,
     "end_time": "2022-08-06T12:14:46.791144",
     "exception": false,
     "start_time": "2022-08-06T12:14:46.754377",
     "status": "completed"
    },
    "tags": []
   },
   "outputs": [],
   "source": [
    "#hide\n",
    "# g = g.rename(columns= {'continent':'group','country':'name','cases':'value'})"
   ]
  },
  {
   "cell_type": "code",
   "execution_count": 36,
   "id": "fleet-motorcycle",
   "metadata": {
    "execution": {
     "iopub.execute_input": "2022-08-06T12:14:46.856544Z",
     "iopub.status.busy": "2022-08-06T12:14:46.855839Z",
     "iopub.status.idle": "2022-08-06T12:14:46.859756Z",
     "shell.execute_reply": "2022-08-06T12:14:46.860184Z"
    },
    "papermill": {
     "duration": 0.03871,
     "end_time": "2022-08-06T12:14:46.860329",
     "exception": false,
     "start_time": "2022-08-06T12:14:46.821619",
     "status": "completed"
    },
    "tags": []
   },
   "outputs": [],
   "source": [
    "#hide\n",
    "# cols = ['name','group','day','value']"
   ]
  },
  {
   "cell_type": "code",
   "execution_count": 37,
   "id": "continued-sleeping",
   "metadata": {
    "execution": {
     "iopub.execute_input": "2022-08-06T12:14:46.933484Z",
     "iopub.status.busy": "2022-08-06T12:14:46.932715Z",
     "iopub.status.idle": "2022-08-06T12:14:46.935345Z",
     "shell.execute_reply": "2022-08-06T12:14:46.934802Z"
    },
    "papermill": {
     "duration": 0.040201,
     "end_time": "2022-08-06T12:14:46.935475",
     "exception": false,
     "start_time": "2022-08-06T12:14:46.895274",
     "status": "completed"
    },
    "tags": []
   },
   "outputs": [],
   "source": [
    "#hide\n",
    "# g.rename(columns= {'date':'day'},inplace = True)"
   ]
  },
  {
   "cell_type": "code",
   "execution_count": 38,
   "id": "major-fight",
   "metadata": {
    "execution": {
     "iopub.execute_input": "2022-08-06T12:14:47.002358Z",
     "iopub.status.busy": "2022-08-06T12:14:47.001721Z",
     "iopub.status.idle": "2022-08-06T12:14:47.004101Z",
     "shell.execute_reply": "2022-08-06T12:14:47.003616Z"
    },
    "papermill": {
     "duration": 0.037606,
     "end_time": "2022-08-06T12:14:47.004220",
     "exception": false,
     "start_time": "2022-08-06T12:14:46.966614",
     "status": "completed"
    },
    "tags": []
   },
   "outputs": [],
   "source": [
    "#hide\n",
    "# g = g[cols]"
   ]
  },
  {
   "cell_type": "code",
   "execution_count": 39,
   "id": "structured-mobile",
   "metadata": {
    "execution": {
     "iopub.execute_input": "2022-08-06T12:14:47.074253Z",
     "iopub.status.busy": "2022-08-06T12:14:47.073607Z",
     "iopub.status.idle": "2022-08-06T12:14:47.076569Z",
     "shell.execute_reply": "2022-08-06T12:14:47.076084Z"
    },
    "papermill": {
     "duration": 0.039333,
     "end_time": "2022-08-06T12:14:47.076688",
     "exception": false,
     "start_time": "2022-08-06T12:14:47.037355",
     "status": "completed"
    },
    "tags": []
   },
   "outputs": [],
   "source": [
    "# #hide\n",
    "# g = g[g.group.notna()]"
   ]
  },
  {
   "cell_type": "code",
   "execution_count": 40,
   "id": "determined-closing",
   "metadata": {
    "execution": {
     "iopub.execute_input": "2022-08-06T12:14:47.142662Z",
     "iopub.status.busy": "2022-08-06T12:14:47.142038Z",
     "iopub.status.idle": "2022-08-06T12:14:47.144763Z",
     "shell.execute_reply": "2022-08-06T12:14:47.144277Z"
    },
    "papermill": {
     "duration": 0.037705,
     "end_time": "2022-08-06T12:14:47.144921",
     "exception": false,
     "start_time": "2022-08-06T12:14:47.107216",
     "status": "completed"
    },
    "tags": []
   },
   "outputs": [],
   "source": [
    "# #hide\n",
    "# colors = dict(zip(\n",
    "#     [\"Oceania\", \"Europe\", \"Asia\", \"South America\", \"Middle East\", \"North America\", \"Africa\"],\n",
    "#     [\"#adb0ff\", \"#ffb3ff\", \"#90d595\", \"#e48381\", \"#aafbff\", \"#f7bb5f\", \"#eafb50\"]\n",
    "# ))\n",
    "# group_lk = g.set_index('name')['group'].to_dict()"
   ]
  },
  {
   "cell_type": "code",
   "execution_count": null,
   "id": "gross-drinking",
   "metadata": {
    "papermill": {
     "duration": 0.031949,
     "end_time": "2022-08-06T12:14:47.207888",
     "exception": false,
     "start_time": "2022-08-06T12:14:47.175939",
     "status": "completed"
    },
    "tags": []
   },
   "outputs": [],
   "source": []
  },
  {
   "cell_type": "code",
   "execution_count": 41,
   "id": "subject-macintosh",
   "metadata": {
    "execution": {
     "iopub.execute_input": "2022-08-06T12:14:47.275589Z",
     "iopub.status.busy": "2022-08-06T12:14:47.274840Z",
     "iopub.status.idle": "2022-08-06T12:14:47.277357Z",
     "shell.execute_reply": "2022-08-06T12:14:47.276868Z"
    },
    "papermill": {
     "duration": 0.038116,
     "end_time": "2022-08-06T12:14:47.277471",
     "exception": false,
     "start_time": "2022-08-06T12:14:47.239355",
     "status": "completed"
    },
    "tags": []
   },
   "outputs": [],
   "source": [
    "# #hide\n",
    "# fig, ax = plt.subplots(figsize=(15, 8))\n",
    "\n",
    "# def draw_barchart(current_day):\n",
    "#     dff = g[g['day'].eq(current_day)].sort_values(by='value', ascending=True).tail(10)\n",
    "#     ax.clear()\n",
    "#     ax.barh(dff['name'], dff['value'], color=[colors[group_lk[x]] for x in dff['name']])\n",
    "#     dx = dff['value'].max() / 200\n",
    "    \n",
    "#     for i, (value, name) in enumerate(zip(dff['value'], dff['name'])):\n",
    "#         ax.text(value-dx, i,     name,           size=14, weight=600, ha='right', va='bottom')\n",
    "#         ax.text(value-dx, i-.25, group_lk[name], size=10, color='#444444', ha='right', va='baseline')\n",
    "#         ax.text(value+dx, i,     f'{value:,.0f}',  size=14, ha='left',  va='center')\n",
    "#     ax.text(1, 0.4, current_day, transform=ax.transAxes, color='#777777', size=46, ha='right', weight=800)\n",
    "#     ax.text(0, 1.06, 'Population (thousands)', transform=ax.transAxes, size=12, color='#777777')\n",
    "#     ax.xaxis.set_major_formatter(ticker.StrMethodFormatter('{x:,.0f}'))\n",
    "#     ax.xaxis.set_ticks_position('top')\n",
    "#     ax.tick_params(axis='x', colors='#777777', labelsize=12)\n",
    "#     ax.set_yticks([])\n",
    "#     ax.margins(0, 0.01)\n",
    "#     ax.grid(which='major', axis='x', linestyle='-')\n",
    "#     ax.set_axisbelow(True)\n",
    "    \n",
    "#     ax.text(0, 1.15, 'Coronavirus',\n",
    "#             transform=ax.transAxes, size=24, weight=600, ha='left', va='top')\n",
    "# #     ax.text(1, 0, 'by @pratapvardhan; credit @jburnmurdoch', transform=ax.transAxes, color='#777777', ha='right',\n",
    "# #             bbox=dict(facecolor='white', alpha=0.8, edgecolor='white'))\n",
    "#     plt.box(False)"
   ]
  },
  {
   "cell_type": "code",
   "execution_count": 42,
   "id": "sexual-wages",
   "metadata": {
    "execution": {
     "iopub.execute_input": "2022-08-06T12:14:47.342634Z",
     "iopub.status.busy": "2022-08-06T12:14:47.342041Z",
     "iopub.status.idle": "2022-08-06T12:14:47.344243Z",
     "shell.execute_reply": "2022-08-06T12:14:47.344824Z"
    },
    "papermill": {
     "duration": 0.036972,
     "end_time": "2022-08-06T12:14:47.344961",
     "exception": false,
     "start_time": "2022-08-06T12:14:47.307989",
     "status": "completed"
    },
    "tags": []
   },
   "outputs": [],
   "source": [
    "# #hide_input\n",
    "# fig, ax = plt.subplots(figsize=(15, 8))\n",
    "# animator = animation.FuncAnimation(fig, draw_barchart, frames=range(g.day.values.min(), g.day.values.max()))\n",
    "# HTML(animator.to_jshtml())\n",
    "# # or use animator.to_html5_video() or animator.save() "
   ]
  },
  {
   "cell_type": "code",
   "execution_count": null,
   "id": "australian-container",
   "metadata": {
    "papermill": {
     "duration": 0.030222,
     "end_time": "2022-08-06T12:14:47.405483",
     "exception": false,
     "start_time": "2022-08-06T12:14:47.375261",
     "status": "completed"
    },
    "tags": []
   },
   "outputs": [],
   "source": []
  },
  {
   "cell_type": "code",
   "execution_count": null,
   "id": "mediterranean-pontiac",
   "metadata": {
    "papermill": {
     "duration": 0.030446,
     "end_time": "2022-08-06T12:14:47.466209",
     "exception": false,
     "start_time": "2022-08-06T12:14:47.435763",
     "status": "completed"
    },
    "tags": []
   },
   "outputs": [],
   "source": []
  },
  {
   "cell_type": "code",
   "execution_count": null,
   "id": "aging-legislature",
   "metadata": {
    "papermill": {
     "duration": 0.030459,
     "end_time": "2022-08-06T12:14:47.527295",
     "exception": false,
     "start_time": "2022-08-06T12:14:47.496836",
     "status": "completed"
    },
    "tags": []
   },
   "outputs": [],
   "source": []
  }
 ],
 "metadata": {
  "kernelspec": {
   "display_name": "Python 3",
   "language": "python",
   "name": "python3"
  },
  "language_info": {
   "codemirror_mode": {
    "name": "ipython",
    "version": 3
   },
   "file_extension": ".py",
   "mimetype": "text/x-python",
   "name": "python",
   "nbconvert_exporter": "python",
   "pygments_lexer": "ipython3",
   "version": "3.6.15"
  },
  "papermill": {
   "duration": 6.17422,
   "end_time": "2022-08-06T12:14:47.979082",
   "environment_variables": {},
   "exception": null,
   "input_path": "2020-03-21-covid19exp.ipynb",
   "output_path": "2020-03-21-covid19exp.ipynb",
   "parameters": {},
   "start_time": "2022-08-06T12:14:41.804862",
   "version": "2.0.0"
  }
 },
 "nbformat": 4,
 "nbformat_minor": 5
}