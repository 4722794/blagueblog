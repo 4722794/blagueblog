{
 "cells": [
  {
   "cell_type": "markdown",
   "id": "muslim-click",
   "metadata": {
    "papermill": {
     "duration": 0.037061,
     "end_time": "2022-09-09T00:52:26.695721",
     "exception": false,
     "start_time": "2022-09-09T00:52:26.658660",
     "status": "completed"
    },
    "tags": []
   },
   "source": [
    "# COVID-19 Case Race\n",
    "> A race chart to see rising cases around the world\n",
    "\n",
    "- author: Hargun Oberoi\n",
    "- image: images/covid-overview.png\n",
    "- hide: false\n",
    "- badges: false"
   ]
  },
  {
   "cell_type": "code",
   "execution_count": 1,
   "id": "proof-material",
   "metadata": {
    "execution": {
     "iopub.execute_input": "2022-09-09T00:52:26.767982Z",
     "iopub.status.busy": "2022-09-09T00:52:26.767304Z",
     "iopub.status.idle": "2022-09-09T00:52:27.126986Z",
     "shell.execute_reply": "2022-09-09T00:52:27.126400Z"
    },
    "papermill": {
     "duration": 0.400552,
     "end_time": "2022-09-09T00:52:27.127150",
     "exception": false,
     "start_time": "2022-09-09T00:52:26.726598",
     "status": "completed"
    },
    "tags": []
   },
   "outputs": [],
   "source": [
    "#hide\n",
    "import numpy as np\n",
    "import pandas as pd\n",
    "from jinja2 import Template\n",
    "from IPython.display import HTML"
   ]
  },
  {
   "cell_type": "code",
   "execution_count": 2,
   "id": "developed-terminology",
   "metadata": {
    "execution": {
     "iopub.execute_input": "2022-09-09T00:52:27.195482Z",
     "iopub.status.busy": "2022-09-09T00:52:27.194687Z",
     "iopub.status.idle": "2022-09-09T00:52:27.196356Z",
     "shell.execute_reply": "2022-09-09T00:52:27.196822Z"
    },
    "papermill": {
     "duration": 0.037624,
     "end_time": "2022-09-09T00:52:27.196965",
     "exception": false,
     "start_time": "2022-09-09T00:52:27.159341",
     "status": "completed"
    },
    "tags": []
   },
   "outputs": [],
   "source": [
    "#hide\n",
    "\n",
    "# FETCH\n",
    "base_url = 'https://raw.githubusercontent.com/pratapvardhan/notebooks/master/covid19/'\n",
    "paths = {\n",
    "    'mapping': base_url + 'mapping_countries.csv',\n",
    "    'overview': base_url + 'overview.tpl'\n",
    "}"
   ]
  },
  {
   "cell_type": "code",
   "execution_count": 3,
   "id": "dynamic-saver",
   "metadata": {
    "execution": {
     "iopub.execute_input": "2022-09-09T00:52:27.268750Z",
     "iopub.status.busy": "2022-09-09T00:52:27.268013Z",
     "iopub.status.idle": "2022-09-09T00:52:27.271531Z",
     "shell.execute_reply": "2022-09-09T00:52:27.271011Z"
    },
    "papermill": {
     "duration": 0.044763,
     "end_time": "2022-09-09T00:52:27.271662",
     "exception": false,
     "start_time": "2022-09-09T00:52:27.226899",
     "status": "completed"
    },
    "tags": []
   },
   "outputs": [
    {
     "data": {
      "text/plain": [
       "'https://raw.githubusercontent.com/pratapvardhan/notebooks/master/covid19/mapping_countries.csv'"
      ]
     },
     "execution_count": 3,
     "metadata": {},
     "output_type": "execute_result"
    }
   ],
   "source": [
    "#hide\n",
    "paths['mapping']"
   ]
  },
  {
   "cell_type": "code",
   "execution_count": 4,
   "id": "urban-software",
   "metadata": {
    "execution": {
     "iopub.execute_input": "2022-09-09T00:52:27.339372Z",
     "iopub.status.busy": "2022-09-09T00:52:27.338609Z",
     "iopub.status.idle": "2022-09-09T00:52:27.340289Z",
     "shell.execute_reply": "2022-09-09T00:52:27.340841Z"
    },
    "papermill": {
     "duration": 0.038712,
     "end_time": "2022-09-09T00:52:27.340989",
     "exception": false,
     "start_time": "2022-09-09T00:52:27.302277",
     "status": "completed"
    },
    "tags": []
   },
   "outputs": [],
   "source": [
    "#hide\n",
    "def get_mappings(url):\n",
    "    df = pd.read_csv(url)\n",
    "    return {\n",
    "        'df': df,\n",
    "        'replace.country': dict(df.dropna(subset=['Name']).set_index('Country')['Name']),\n",
    "        'map.continent': dict(df.set_index('Name')['Continent'])\n",
    "    }"
   ]
  },
  {
   "cell_type": "code",
   "execution_count": 5,
   "id": "intimate-machinery",
   "metadata": {
    "execution": {
     "iopub.execute_input": "2022-09-09T00:52:27.407373Z",
     "iopub.status.busy": "2022-09-09T00:52:27.406740Z",
     "iopub.status.idle": "2022-09-09T00:52:27.437563Z",
     "shell.execute_reply": "2022-09-09T00:52:27.436971Z"
    },
    "papermill": {
     "duration": 0.066829,
     "end_time": "2022-09-09T00:52:27.437720",
     "exception": false,
     "start_time": "2022-09-09T00:52:27.370891",
     "status": "completed"
    },
    "tags": []
   },
   "outputs": [],
   "source": [
    "#hide\n",
    "mapping = get_mappings(paths['mapping'])"
   ]
  },
  {
   "cell_type": "code",
   "execution_count": 6,
   "id": "certified-tactics",
   "metadata": {
    "execution": {
     "iopub.execute_input": "2022-09-09T00:52:27.505238Z",
     "iopub.status.busy": "2022-09-09T00:52:27.504557Z",
     "iopub.status.idle": "2022-09-09T00:52:27.507089Z",
     "shell.execute_reply": "2022-09-09T00:52:27.506607Z"
    },
    "papermill": {
     "duration": 0.038504,
     "end_time": "2022-09-09T00:52:27.507213",
     "exception": false,
     "start_time": "2022-09-09T00:52:27.468709",
     "status": "completed"
    },
    "tags": []
   },
   "outputs": [],
   "source": [
    "#hide\n",
    "def get_template(path):\n",
    "    from urllib.parse import urlparse\n",
    "    if bool(urlparse(path).netloc):\n",
    "        from urllib.request import urlopen\n",
    "        return urlopen(path).read().decode('utf8')\n",
    "    return open(path).read()"
   ]
  },
  {
   "cell_type": "code",
   "execution_count": 7,
   "id": "realistic-blast",
   "metadata": {
    "execution": {
     "iopub.execute_input": "2022-09-09T00:52:27.573787Z",
     "iopub.status.busy": "2022-09-09T00:52:27.573026Z",
     "iopub.status.idle": "2022-09-09T00:52:27.574835Z",
     "shell.execute_reply": "2022-09-09T00:52:27.575408Z"
    },
    "papermill": {
     "duration": 0.038257,
     "end_time": "2022-09-09T00:52:27.575552",
     "exception": false,
     "start_time": "2022-09-09T00:52:27.537295",
     "status": "completed"
    },
    "tags": []
   },
   "outputs": [],
   "source": [
    "#hide\n",
    "def get_frame(name):\n",
    "    url = (\n",
    "        'https://raw.githubusercontent.com/CSSEGISandData/COVID-19/master/csse_covid_19_data/'\n",
    "        f'csse_covid_19_time_series/time_series_covid19_{name}_global.csv')\n",
    "    df = pd.read_csv(url)\n",
    "    # rename countries\n",
    "    df['Country/Region'] = df['Country/Region'].replace(mapping['replace.country'])\n",
    "    return df"
   ]
  },
  {
   "cell_type": "code",
   "execution_count": 8,
   "id": "affiliated-characterization",
   "metadata": {
    "execution": {
     "iopub.execute_input": "2022-09-09T00:52:27.643348Z",
     "iopub.status.busy": "2022-09-09T00:52:27.642554Z",
     "iopub.status.idle": "2022-09-09T00:52:27.646885Z",
     "shell.execute_reply": "2022-09-09T00:52:27.646315Z"
    },
    "papermill": {
     "duration": 0.04134,
     "end_time": "2022-09-09T00:52:27.647031",
     "exception": false,
     "start_time": "2022-09-09T00:52:27.605691",
     "status": "completed"
    },
    "tags": []
   },
   "outputs": [],
   "source": [
    "#hide\n",
    "def get_dates(df):\n",
    "    dt_cols = df.columns[~df.columns.isin(['Province/State', 'Country/Region', 'Lat', 'Long'])]\n",
    "    LAST_DATE_I = -1\n",
    "    # sometimes last column may be empty, then go backwards\n",
    "    for i in range(-1, -len(dt_cols), -1):\n",
    "        if not df[dt_cols[i]].fillna(0).eq(0).all():\n",
    "            LAST_DATE_I = i\n",
    "            break\n",
    "    return LAST_DATE_I, dt_cols"
   ]
  },
  {
   "cell_type": "code",
   "execution_count": 9,
   "id": "recent-optimization",
   "metadata": {
    "execution": {
     "iopub.execute_input": "2022-09-09T00:52:27.713233Z",
     "iopub.status.busy": "2022-09-09T00:52:27.712638Z",
     "iopub.status.idle": "2022-09-09T00:52:28.117597Z",
     "shell.execute_reply": "2022-09-09T00:52:28.116249Z"
    },
    "papermill": {
     "duration": 0.440441,
     "end_time": "2022-09-09T00:52:28.117756",
     "exception": false,
     "start_time": "2022-09-09T00:52:27.677315",
     "status": "completed"
    },
    "tags": []
   },
   "outputs": [],
   "source": [
    "#hide\n",
    "COL_REGION = 'Country/Region'\n",
    "# Confirmed, Recovered, Deaths\n",
    "df = get_frame('confirmed')\n",
    "# dft_: timeseries, dfc_: today country agg\n",
    "dft_cases = df\n",
    "dft_deaths = get_frame('deaths')\n",
    "dft_recovered = get_frame('recovered')\n",
    "LAST_DATE_I, dt_cols = get_dates(df)"
   ]
  },
  {
   "cell_type": "code",
   "execution_count": 10,
   "id": "absolute-copper",
   "metadata": {
    "execution": {
     "iopub.execute_input": "2022-09-09T00:52:28.186123Z",
     "iopub.status.busy": "2022-09-09T00:52:28.185399Z",
     "iopub.status.idle": "2022-09-09T00:52:28.186955Z",
     "shell.execute_reply": "2022-09-09T00:52:28.187619Z"
    },
    "papermill": {
     "duration": 0.039353,
     "end_time": "2022-09-09T00:52:28.187795",
     "exception": false,
     "start_time": "2022-09-09T00:52:28.148442",
     "status": "completed"
    },
    "tags": []
   },
   "outputs": [],
   "source": [
    "#hide\n",
    "LAST_DATE_I, dt_cols = get_dates(df)\n",
    "dt_today =dt_cols[LAST_DATE_I]\n",
    "# dt_5day = dt_cols[LAST_DATE_I - 5]\n",
    "dt_yday = dt_cols[LAST_DATE_I - 1]"
   ]
  },
  {
   "cell_type": "code",
   "execution_count": 11,
   "id": "restricted-sheriff",
   "metadata": {
    "execution": {
     "iopub.execute_input": "2022-09-09T00:52:28.257917Z",
     "iopub.status.busy": "2022-09-09T00:52:28.257308Z",
     "iopub.status.idle": "2022-09-09T00:52:28.263500Z",
     "shell.execute_reply": "2022-09-09T00:52:28.264001Z"
    },
    "papermill": {
     "duration": 0.045517,
     "end_time": "2022-09-09T00:52:28.264156",
     "exception": false,
     "start_time": "2022-09-09T00:52:28.218639",
     "status": "completed"
    },
    "tags": []
   },
   "outputs": [],
   "source": [
    "#hide\n",
    "dfc_cases = dft_cases.groupby(COL_REGION)[dt_today].sum()\n",
    "dfc_deaths = dft_deaths.groupby(COL_REGION)[dt_today].sum()\n",
    "# dfp_cases = dft_cases.groupby(COL_REGION)[dt_5day].sum()\n",
    "# dfp_deaths = dft_deaths.groupby(COL_REGION)[dt_5day].sum()\n",
    "dfp_cases = dft_cases.groupby(COL_REGION)[dt_yday].sum()\n",
    "dfp_deaths = dft_deaths.groupby(COL_REGION)[dt_yday].sum()"
   ]
  },
  {
   "cell_type": "code",
   "execution_count": 12,
   "id": "deluxe-hepatitis",
   "metadata": {
    "execution": {
     "iopub.execute_input": "2022-09-09T00:52:28.332542Z",
     "iopub.status.busy": "2022-09-09T00:52:28.331930Z",
     "iopub.status.idle": "2022-09-09T00:52:28.336881Z",
     "shell.execute_reply": "2022-09-09T00:52:28.337418Z"
    },
    "papermill": {
     "duration": 0.04303,
     "end_time": "2022-09-09T00:52:28.337568",
     "exception": false,
     "start_time": "2022-09-09T00:52:28.294538",
     "status": "completed"
    },
    "tags": []
   },
   "outputs": [],
   "source": [
    "#hide\n",
    "df_table = (pd.DataFrame(dict(Cases = dfc_cases, Deaths = dfc_deaths, PCases = dfp_cases, PDeaths = dfp_deaths))\n",
    "            .sort_values(by = ['Cases','Deaths'], ascending = [False, False])\n",
    "            .reset_index())"
   ]
  },
  {
   "cell_type": "code",
   "execution_count": 13,
   "id": "educational-chancellor",
   "metadata": {
    "execution": {
     "iopub.execute_input": "2022-09-09T00:52:28.418030Z",
     "iopub.status.busy": "2022-09-09T00:52:28.417388Z",
     "iopub.status.idle": "2022-09-09T00:52:28.425511Z",
     "shell.execute_reply": "2022-09-09T00:52:28.425052Z"
    },
    "papermill": {
     "duration": 0.057996,
     "end_time": "2022-09-09T00:52:28.425638",
     "exception": false,
     "start_time": "2022-09-09T00:52:28.367642",
     "status": "completed"
    },
    "tags": []
   },
   "outputs": [
    {
     "data": {
      "text/html": [
       "<div>\n",
       "<style scoped>\n",
       "    .dataframe tbody tr th:only-of-type {\n",
       "        vertical-align: middle;\n",
       "    }\n",
       "\n",
       "    .dataframe tbody tr th {\n",
       "        vertical-align: top;\n",
       "    }\n",
       "\n",
       "    .dataframe thead th {\n",
       "        text-align: right;\n",
       "    }\n",
       "</style>\n",
       "<table border=\"1\" class=\"dataframe\">\n",
       "  <thead>\n",
       "    <tr style=\"text-align: right;\">\n",
       "      <th></th>\n",
       "      <th>Country/Region</th>\n",
       "      <th>Cases</th>\n",
       "      <th>Deaths</th>\n",
       "      <th>PCases</th>\n",
       "      <th>PDeaths</th>\n",
       "      <th>Cases (+)</th>\n",
       "      <th>Deaths (+)</th>\n",
       "      <th>Fatality Rate</th>\n",
       "      <th>Continent</th>\n",
       "    </tr>\n",
       "  </thead>\n",
       "  <tbody>\n",
       "    <tr>\n",
       "      <th>0</th>\n",
       "      <td>US</td>\n",
       "      <td>94995356</td>\n",
       "      <td>1049075</td>\n",
       "      <td>94872999</td>\n",
       "      <td>1048287</td>\n",
       "      <td>122357</td>\n",
       "      <td>788</td>\n",
       "      <td>1.10</td>\n",
       "      <td>North America</td>\n",
       "    </tr>\n",
       "    <tr>\n",
       "      <th>1</th>\n",
       "      <td>India</td>\n",
       "      <td>44478636</td>\n",
       "      <td>528090</td>\n",
       "      <td>44469661</td>\n",
       "      <td>528057</td>\n",
       "      <td>8975</td>\n",
       "      <td>33</td>\n",
       "      <td>1.19</td>\n",
       "      <td>Asia</td>\n",
       "    </tr>\n",
       "    <tr>\n",
       "      <th>2</th>\n",
       "      <td>France</td>\n",
       "      <td>34859956</td>\n",
       "      <td>155419</td>\n",
       "      <td>34839791</td>\n",
       "      <td>155373</td>\n",
       "      <td>20165</td>\n",
       "      <td>46</td>\n",
       "      <td>0.45</td>\n",
       "      <td>Europe</td>\n",
       "    </tr>\n",
       "    <tr>\n",
       "      <th>3</th>\n",
       "      <td>Brazil</td>\n",
       "      <td>34477539</td>\n",
       "      <td>684425</td>\n",
       "      <td>34477539</td>\n",
       "      <td>684425</td>\n",
       "      <td>0</td>\n",
       "      <td>0</td>\n",
       "      <td>1.99</td>\n",
       "      <td>South America</td>\n",
       "    </tr>\n",
       "    <tr>\n",
       "      <th>4</th>\n",
       "      <td>Germany</td>\n",
       "      <td>32386089</td>\n",
       "      <td>148098</td>\n",
       "      <td>32344032</td>\n",
       "      <td>147981</td>\n",
       "      <td>42057</td>\n",
       "      <td>117</td>\n",
       "      <td>0.46</td>\n",
       "      <td>Europe</td>\n",
       "    </tr>\n",
       "  </tbody>\n",
       "</table>\n",
       "</div>"
      ],
      "text/plain": [
       "  Country/Region     Cases   Deaths    PCases  PDeaths  Cases (+)  Deaths (+)  \\\n",
       "0             US  94995356  1049075  94872999  1048287     122357         788   \n",
       "1          India  44478636   528090  44469661   528057       8975          33   \n",
       "2         France  34859956   155419  34839791   155373      20165          46   \n",
       "3         Brazil  34477539   684425  34477539   684425          0           0   \n",
       "4        Germany  32386089   148098  32344032   147981      42057         117   \n",
       "\n",
       "   Fatality Rate      Continent  \n",
       "0           1.10  North America  \n",
       "1           1.19           Asia  \n",
       "2           0.45         Europe  \n",
       "3           1.99  South America  \n",
       "4           0.46         Europe  "
      ]
     },
     "execution_count": 13,
     "metadata": {},
     "output_type": "execute_result"
    }
   ],
   "source": [
    "#hide\n",
    "for c in 'Cases, Deaths'.split(', '):\n",
    "    df_table[f'{c} (+)'] = (df_table[c] - df_table[f'P{c}']).clip(0)\n",
    "    #Clip ça veut dire, les chiffres negatif sont interdit\n",
    "df_table['Fatality Rate'] = (100* df_table['Deaths']/ df_table['Cases']).round(2)\n",
    "df_table['Continent'] = df_table['Country/Region'].map(mapping['map.continent'])\n",
    "df_table.head(5)"
   ]
  },
  {
   "cell_type": "code",
   "execution_count": 14,
   "id": "aboriginal-bulgaria",
   "metadata": {
    "execution": {
     "iopub.execute_input": "2022-09-09T00:52:28.492800Z",
     "iopub.status.busy": "2022-09-09T00:52:28.492205Z",
     "iopub.status.idle": "2022-09-09T00:52:28.495903Z",
     "shell.execute_reply": "2022-09-09T00:52:28.496440Z"
    },
    "papermill": {
     "duration": 0.04024,
     "end_time": "2022-09-09T00:52:28.496586",
     "exception": false,
     "start_time": "2022-09-09T00:52:28.456346",
     "status": "completed"
    },
    "tags": []
   },
   "outputs": [],
   "source": [
    "#hide\n",
    "#delete problematic countries from table\n",
    "df_table = df_table[~df_table['Country/Region'].isin(['Cape Verde', 'Cruise Ship', 'Kosovo'])]"
   ]
  },
  {
   "cell_type": "code",
   "execution_count": 15,
   "id": "fantastic-effect",
   "metadata": {
    "execution": {
     "iopub.execute_input": "2022-09-09T00:52:28.567314Z",
     "iopub.status.busy": "2022-09-09T00:52:28.566673Z",
     "iopub.status.idle": "2022-09-09T00:52:28.585870Z",
     "shell.execute_reply": "2022-09-09T00:52:28.585217Z"
    },
    "papermill": {
     "duration": 0.058846,
     "end_time": "2022-09-09T00:52:28.586009",
     "exception": false,
     "start_time": "2022-09-09T00:52:28.527163",
     "status": "completed"
    },
    "tags": []
   },
   "outputs": [
    {
     "data": {
      "text/html": [
       "<div>\n",
       "<style scoped>\n",
       "    .dataframe tbody tr th:only-of-type {\n",
       "        vertical-align: middle;\n",
       "    }\n",
       "\n",
       "    .dataframe tbody tr th {\n",
       "        vertical-align: top;\n",
       "    }\n",
       "\n",
       "    .dataframe thead th {\n",
       "        text-align: right;\n",
       "    }\n",
       "</style>\n",
       "<table border=\"1\" class=\"dataframe\">\n",
       "  <thead>\n",
       "    <tr style=\"text-align: right;\">\n",
       "      <th></th>\n",
       "      <th>Country/Region</th>\n",
       "      <th>Cases</th>\n",
       "      <th>Deaths</th>\n",
       "      <th>PCases</th>\n",
       "      <th>PDeaths</th>\n",
       "      <th>Cases (+)</th>\n",
       "      <th>Deaths (+)</th>\n",
       "      <th>Fatality Rate</th>\n",
       "      <th>Continent</th>\n",
       "    </tr>\n",
       "  </thead>\n",
       "  <tbody>\n",
       "    <tr>\n",
       "      <th>0</th>\n",
       "      <td>US</td>\n",
       "      <td>94995356</td>\n",
       "      <td>1049075</td>\n",
       "      <td>94872999</td>\n",
       "      <td>1048287</td>\n",
       "      <td>122357</td>\n",
       "      <td>788</td>\n",
       "      <td>1.1</td>\n",
       "      <td>North America</td>\n",
       "    </tr>\n",
       "    <tr>\n",
       "      <th>1</th>\n",
       "      <td>India</td>\n",
       "      <td>44478636</td>\n",
       "      <td>528090</td>\n",
       "      <td>44469661</td>\n",
       "      <td>528057</td>\n",
       "      <td>8975</td>\n",
       "      <td>33</td>\n",
       "      <td>1.2</td>\n",
       "      <td>Asia</td>\n",
       "    </tr>\n",
       "    <tr>\n",
       "      <th>2</th>\n",
       "      <td>France</td>\n",
       "      <td>34859956</td>\n",
       "      <td>155419</td>\n",
       "      <td>34839791</td>\n",
       "      <td>155373</td>\n",
       "      <td>20165</td>\n",
       "      <td>46</td>\n",
       "      <td>0.4</td>\n",
       "      <td>Europe</td>\n",
       "    </tr>\n",
       "    <tr>\n",
       "      <th>3</th>\n",
       "      <td>Brazil</td>\n",
       "      <td>34477539</td>\n",
       "      <td>684425</td>\n",
       "      <td>34477539</td>\n",
       "      <td>684425</td>\n",
       "      <td>0</td>\n",
       "      <td>0</td>\n",
       "      <td>2.0</td>\n",
       "      <td>South America</td>\n",
       "    </tr>\n",
       "    <tr>\n",
       "      <th>4</th>\n",
       "      <td>Germany</td>\n",
       "      <td>32386089</td>\n",
       "      <td>148098</td>\n",
       "      <td>32344032</td>\n",
       "      <td>147981</td>\n",
       "      <td>42057</td>\n",
       "      <td>117</td>\n",
       "      <td>0.5</td>\n",
       "      <td>Europe</td>\n",
       "    </tr>\n",
       "  </tbody>\n",
       "</table>\n",
       "</div>"
      ],
      "text/plain": [
       "  Country/Region     Cases   Deaths    PCases  PDeaths  Cases (+)  Deaths (+)  \\\n",
       "0             US  94995356  1049075  94872999  1048287     122357         788   \n",
       "1          India  44478636   528090  44469661   528057       8975          33   \n",
       "2         France  34859956   155419  34839791   155373      20165          46   \n",
       "3         Brazil  34477539   684425  34477539   684425          0           0   \n",
       "4        Germany  32386089   148098  32344032   147981      42057         117   \n",
       "\n",
       "   Fatality Rate      Continent  \n",
       "0            1.1  North America  \n",
       "1            1.2           Asia  \n",
       "2            0.4         Europe  \n",
       "3            2.0  South America  \n",
       "4            0.5         Europe  "
      ]
     },
     "execution_count": 15,
     "metadata": {},
     "output_type": "execute_result"
    }
   ],
   "source": [
    "#hide\n",
    "df_table = (pd.DataFrame(dict(Cases=dfc_cases, Deaths=dfc_deaths, PCases=dfp_cases, PDeaths=dfp_deaths))\n",
    "             .sort_values(by=['Cases', 'Deaths'], ascending=[False, False])\n",
    "             .reset_index())\n",
    "df_table.rename(columns={'index': 'Country/Region'}, inplace=True)\n",
    "for c in 'Cases, Deaths'.split(', '):\n",
    "    df_table[f'{c} (+)'] = (df_table[c] - df_table[f'P{c}']).clip(0)  # DATA BUG\n",
    "df_table['Fatality Rate'] = (100 * df_table['Deaths'] / df_table['Cases']).round(1)\n",
    "df_table['Continent'] = df_table['Country/Region'].map(mapping['map.continent'])\n",
    "df_table.head(5)"
   ]
  },
  {
   "cell_type": "code",
   "execution_count": 16,
   "id": "fewer-occasion",
   "metadata": {
    "execution": {
     "iopub.execute_input": "2022-09-09T00:52:28.656612Z",
     "iopub.status.busy": "2022-09-09T00:52:28.656000Z",
     "iopub.status.idle": "2022-09-09T00:52:28.658372Z",
     "shell.execute_reply": "2022-09-09T00:52:28.658842Z"
    },
    "papermill": {
     "duration": 0.041195,
     "end_time": "2022-09-09T00:52:28.658989",
     "exception": false,
     "start_time": "2022-09-09T00:52:28.617794",
     "status": "completed"
    },
    "tags": []
   },
   "outputs": [],
   "source": [
    "#hide\n",
    "#delete problematic countries from table\n",
    "df_table = df_table[~df_table['Country/Region'].isin(['Cape Verde', 'Cruise Ship', 'Kosovo'])]"
   ]
  },
  {
   "cell_type": "code",
   "execution_count": 17,
   "id": "related-center",
   "metadata": {
    "execution": {
     "iopub.execute_input": "2022-09-09T00:52:28.741612Z",
     "iopub.status.busy": "2022-09-09T00:52:28.740972Z",
     "iopub.status.idle": "2022-09-09T00:52:28.743898Z",
     "shell.execute_reply": "2022-09-09T00:52:28.743400Z"
    },
    "papermill": {
     "duration": 0.054037,
     "end_time": "2022-09-09T00:52:28.744025",
     "exception": false,
     "start_time": "2022-09-09T00:52:28.689988",
     "status": "completed"
    },
    "tags": []
   },
   "outputs": [],
   "source": [
    "#hide\n",
    "metrics = [df_table.columns[index] for index in [1,2,5,6]]\n",
    "# s_china = df_table[df_table['Country/Region'].eq('China')][metrics].sum().add_prefix('China ')\n",
    "s_us = df_table[df_table['Country/Region'].eq('US')][metrics].sum().add_prefix('US ')\n",
    "s_eu = df_table[df_table['Continent'].eq('Europe')][metrics].sum().add_prefix('EU ')\n",
    "s_ind = df_table[df_table['Country/Region'].eq('India')][metrics].sum().add_prefix('India ')\n",
    "summary = {'updated': pd.to_datetime(dt_today), 'since': pd.to_datetime(dt_yday)}\n",
    "summary = {'updated': pd.to_datetime(dt_today), 'since': pd.to_datetime(dt_yday)}\n",
    "summary = {**summary, **df_table[metrics].sum(), **s_ind, **s_us, **s_eu}"
   ]
  },
  {
   "cell_type": "code",
   "execution_count": 18,
   "id": "engaging-syndrome",
   "metadata": {
    "execution": {
     "iopub.execute_input": "2022-09-09T00:52:28.813525Z",
     "iopub.status.busy": "2022-09-09T00:52:28.812904Z",
     "iopub.status.idle": "2022-09-09T00:52:28.837914Z",
     "shell.execute_reply": "2022-09-09T00:52:28.837356Z"
    },
    "papermill": {
     "duration": 0.062551,
     "end_time": "2022-09-09T00:52:28.838061",
     "exception": false,
     "start_time": "2022-09-09T00:52:28.775510",
     "status": "completed"
    },
    "tags": []
   },
   "outputs": [],
   "source": [
    "#hide\n",
    "dft_ct_new_cases = dft_cases.groupby(COL_REGION)[dt_cols].sum().diff(axis=1).fillna(0).astype(int)"
   ]
  },
  {
   "cell_type": "code",
   "execution_count": 19,
   "id": "neutral-assignment",
   "metadata": {
    "execution": {
     "iopub.execute_input": "2022-09-09T00:52:28.906610Z",
     "iopub.status.busy": "2022-09-09T00:52:28.905975Z",
     "iopub.status.idle": "2022-09-09T00:52:28.911819Z",
     "shell.execute_reply": "2022-09-09T00:52:28.912276Z"
    },
    "papermill": {
     "duration": 0.042233,
     "end_time": "2022-09-09T00:52:28.912432",
     "exception": false,
     "start_time": "2022-09-09T00:52:28.870199",
     "status": "completed"
    },
    "tags": []
   },
   "outputs": [],
   "source": [
    "#hide\n",
    "everydaycases = dft_ct_new_cases.cumsum(axis=1)"
   ]
  },
  {
   "cell_type": "code",
   "execution_count": 20,
   "id": "parliamentary-calgary",
   "metadata": {
    "execution": {
     "iopub.execute_input": "2022-09-09T00:52:28.980472Z",
     "iopub.status.busy": "2022-09-09T00:52:28.979880Z",
     "iopub.status.idle": "2022-09-09T00:52:29.566983Z",
     "shell.execute_reply": "2022-09-09T00:52:29.566416Z"
    },
    "papermill": {
     "duration": 0.623302,
     "end_time": "2022-09-09T00:52:29.567135",
     "exception": false,
     "start_time": "2022-09-09T00:52:28.943833",
     "status": "completed"
    },
    "tags": []
   },
   "outputs": [],
   "source": [
    "#hide\n",
    "import pandas as pd\n",
    "import matplotlib.pyplot as plt\n",
    "import matplotlib.ticker as ticker\n",
    "import matplotlib.animation as animation\n",
    "from IPython.display import HTML"
   ]
  },
  {
   "cell_type": "code",
   "execution_count": 21,
   "id": "lasting-extraction",
   "metadata": {
    "execution": {
     "iopub.execute_input": "2022-09-09T00:52:29.645925Z",
     "iopub.status.busy": "2022-09-09T00:52:29.645185Z",
     "iopub.status.idle": "2022-09-09T00:52:29.657626Z",
     "shell.execute_reply": "2022-09-09T00:52:29.657102Z"
    },
    "papermill": {
     "duration": 0.053272,
     "end_time": "2022-09-09T00:52:29.657761",
     "exception": false,
     "start_time": "2022-09-09T00:52:29.604489",
     "status": "completed"
    },
    "tags": []
   },
   "outputs": [],
   "source": [
    "#hide\n",
    "t = everydaycases.stack()"
   ]
  },
  {
   "cell_type": "code",
   "execution_count": 22,
   "id": "premier-sleeve",
   "metadata": {
    "execution": {
     "iopub.execute_input": "2022-09-09T00:52:29.820174Z",
     "iopub.status.busy": "2022-09-09T00:52:29.819433Z",
     "iopub.status.idle": "2022-09-09T00:52:29.833315Z",
     "shell.execute_reply": "2022-09-09T00:52:29.832737Z"
    },
    "papermill": {
     "duration": 0.068961,
     "end_time": "2022-09-09T00:52:29.833454",
     "exception": false,
     "start_time": "2022-09-09T00:52:29.764493",
     "status": "completed"
    },
    "tags": []
   },
   "outputs": [],
   "source": [
    "#hide\n",
    "g = t.reset_index(['Country/Region'])"
   ]
  },
  {
   "cell_type": "code",
   "execution_count": 23,
   "id": "distributed-pittsburgh",
   "metadata": {
    "execution": {
     "iopub.execute_input": "2022-09-09T00:52:30.071620Z",
     "iopub.status.busy": "2022-09-09T00:52:30.070836Z",
     "iopub.status.idle": "2022-09-09T00:52:30.073990Z",
     "shell.execute_reply": "2022-09-09T00:52:30.073339Z"
    },
    "papermill": {
     "duration": 0.164838,
     "end_time": "2022-09-09T00:52:30.074132",
     "exception": false,
     "start_time": "2022-09-09T00:52:29.909294",
     "status": "completed"
    },
    "tags": []
   },
   "outputs": [],
   "source": [
    "#hide\n",
    "g.index.name = 'date'"
   ]
  },
  {
   "cell_type": "code",
   "execution_count": 24,
   "id": "naked-donor",
   "metadata": {
    "execution": {
     "iopub.execute_input": "2022-09-09T00:52:30.150586Z",
     "iopub.status.busy": "2022-09-09T00:52:30.149974Z",
     "iopub.status.idle": "2022-09-09T00:52:30.152851Z",
     "shell.execute_reply": "2022-09-09T00:52:30.152266Z"
    },
    "papermill": {
     "duration": 0.040221,
     "end_time": "2022-09-09T00:52:30.152974",
     "exception": false,
     "start_time": "2022-09-09T00:52:30.112753",
     "status": "completed"
    },
    "tags": []
   },
   "outputs": [],
   "source": [
    "# #hide\n",
    "# g = g.reset_index(['date'])"
   ]
  },
  {
   "cell_type": "code",
   "execution_count": 25,
   "id": "incomplete-mustang",
   "metadata": {
    "execution": {
     "iopub.execute_input": "2022-09-09T00:52:30.221125Z",
     "iopub.status.busy": "2022-09-09T00:52:30.220397Z",
     "iopub.status.idle": "2022-09-09T00:52:30.224334Z",
     "shell.execute_reply": "2022-09-09T00:52:30.224758Z"
    },
    "papermill": {
     "duration": 0.039845,
     "end_time": "2022-09-09T00:52:30.224912",
     "exception": false,
     "start_time": "2022-09-09T00:52:30.185067",
     "status": "completed"
    },
    "tags": []
   },
   "outputs": [],
   "source": [
    "#hide\n",
    "# g.head()"
   ]
  },
  {
   "cell_type": "code",
   "execution_count": 26,
   "id": "specific-kruger",
   "metadata": {
    "execution": {
     "iopub.execute_input": "2022-09-09T00:52:30.292931Z",
     "iopub.status.busy": "2022-09-09T00:52:30.292176Z",
     "iopub.status.idle": "2022-09-09T00:52:30.293726Z",
     "shell.execute_reply": "2022-09-09T00:52:30.294271Z"
    },
    "papermill": {
     "duration": 0.037849,
     "end_time": "2022-09-09T00:52:30.294415",
     "exception": false,
     "start_time": "2022-09-09T00:52:30.256566",
     "status": "completed"
    },
    "tags": []
   },
   "outputs": [],
   "source": [
    "#hide\n",
    "# g.columns = ['date','country','cases']"
   ]
  },
  {
   "cell_type": "code",
   "execution_count": 27,
   "id": "tender-conversion",
   "metadata": {
    "execution": {
     "iopub.execute_input": "2022-09-09T00:52:30.361349Z",
     "iopub.status.busy": "2022-09-09T00:52:30.360641Z",
     "iopub.status.idle": "2022-09-09T00:52:30.362489Z",
     "shell.execute_reply": "2022-09-09T00:52:30.363007Z"
    },
    "papermill": {
     "duration": 0.037701,
     "end_time": "2022-09-09T00:52:30.363162",
     "exception": false,
     "start_time": "2022-09-09T00:52:30.325461",
     "status": "completed"
    },
    "tags": []
   },
   "outputs": [],
   "source": [
    "#hide\n",
    "# g['continent'] = g.country"
   ]
  },
  {
   "cell_type": "code",
   "execution_count": 28,
   "id": "substantial-wilderness",
   "metadata": {
    "execution": {
     "iopub.execute_input": "2022-09-09T00:52:30.429979Z",
     "iopub.status.busy": "2022-09-09T00:52:30.429369Z",
     "iopub.status.idle": "2022-09-09T00:52:30.431596Z",
     "shell.execute_reply": "2022-09-09T00:52:30.432137Z"
    },
    "papermill": {
     "duration": 0.037959,
     "end_time": "2022-09-09T00:52:30.432281",
     "exception": false,
     "start_time": "2022-09-09T00:52:30.394322",
     "status": "completed"
    },
    "tags": []
   },
   "outputs": [],
   "source": [
    "#hide\n",
    "# cols = list(g.columns.values)"
   ]
  },
  {
   "cell_type": "code",
   "execution_count": 29,
   "id": "solved-farming",
   "metadata": {
    "execution": {
     "iopub.execute_input": "2022-09-09T00:52:30.498844Z",
     "iopub.status.busy": "2022-09-09T00:52:30.498207Z",
     "iopub.status.idle": "2022-09-09T00:52:30.501971Z",
     "shell.execute_reply": "2022-09-09T00:52:30.502394Z"
    },
    "papermill": {
     "duration": 0.039448,
     "end_time": "2022-09-09T00:52:30.502545",
     "exception": false,
     "start_time": "2022-09-09T00:52:30.463097",
     "status": "completed"
    },
    "tags": []
   },
   "outputs": [],
   "source": [
    "#hide\n",
    "# cols.insert(0, cols.pop())"
   ]
  },
  {
   "cell_type": "code",
   "execution_count": 30,
   "id": "executed-adoption",
   "metadata": {
    "execution": {
     "iopub.execute_input": "2022-09-09T00:52:30.569883Z",
     "iopub.status.busy": "2022-09-09T00:52:30.569180Z",
     "iopub.status.idle": "2022-09-09T00:52:30.571506Z",
     "shell.execute_reply": "2022-09-09T00:52:30.570905Z"
    },
    "papermill": {
     "duration": 0.037737,
     "end_time": "2022-09-09T00:52:30.571632",
     "exception": false,
     "start_time": "2022-09-09T00:52:30.533895",
     "status": "completed"
    },
    "tags": []
   },
   "outputs": [],
   "source": [
    "#hide\n",
    "# g = g[cols]"
   ]
  },
  {
   "cell_type": "code",
   "execution_count": 31,
   "id": "subject-dublin",
   "metadata": {
    "execution": {
     "iopub.execute_input": "2022-09-09T00:52:30.638913Z",
     "iopub.status.busy": "2022-09-09T00:52:30.638186Z",
     "iopub.status.idle": "2022-09-09T00:52:30.642007Z",
     "shell.execute_reply": "2022-09-09T00:52:30.642458Z"
    },
    "papermill": {
     "duration": 0.039791,
     "end_time": "2022-09-09T00:52:30.642602",
     "exception": false,
     "start_time": "2022-09-09T00:52:30.602811",
     "status": "completed"
    },
    "tags": []
   },
   "outputs": [],
   "source": [
    "#hide\n",
    "# g['continent'] = g['continent'].map(mapping['map.continent'])"
   ]
  },
  {
   "cell_type": "code",
   "execution_count": 32,
   "id": "freelance-scout",
   "metadata": {
    "execution": {
     "iopub.execute_input": "2022-09-09T00:52:30.710350Z",
     "iopub.status.busy": "2022-09-09T00:52:30.709586Z",
     "iopub.status.idle": "2022-09-09T00:52:30.713609Z",
     "shell.execute_reply": "2022-09-09T00:52:30.714036Z"
    },
    "papermill": {
     "duration": 0.040052,
     "end_time": "2022-09-09T00:52:30.714191",
     "exception": false,
     "start_time": "2022-09-09T00:52:30.674139",
     "status": "completed"
    },
    "tags": []
   },
   "outputs": [],
   "source": [
    "#hide\n",
    "# g.head()"
   ]
  },
  {
   "cell_type": "code",
   "execution_count": 33,
   "id": "limited-engine",
   "metadata": {
    "execution": {
     "iopub.execute_input": "2022-09-09T00:52:30.782091Z",
     "iopub.status.busy": "2022-09-09T00:52:30.781389Z",
     "iopub.status.idle": "2022-09-09T00:52:30.785232Z",
     "shell.execute_reply": "2022-09-09T00:52:30.785652Z"
    },
    "papermill": {
     "duration": 0.039888,
     "end_time": "2022-09-09T00:52:30.785800",
     "exception": false,
     "start_time": "2022-09-09T00:52:30.745912",
     "status": "completed"
    },
    "tags": []
   },
   "outputs": [],
   "source": [
    "# hide\n",
    "# g['date'] = g['date'].astype('datetime64[ns]')"
   ]
  },
  {
   "cell_type": "code",
   "execution_count": 34,
   "id": "sophisticated-supervisor",
   "metadata": {
    "execution": {
     "iopub.execute_input": "2022-09-09T00:52:30.852736Z",
     "iopub.status.busy": "2022-09-09T00:52:30.852012Z",
     "iopub.status.idle": "2022-09-09T00:52:30.856318Z",
     "shell.execute_reply": "2022-09-09T00:52:30.855832Z"
    },
    "papermill": {
     "duration": 0.039552,
     "end_time": "2022-09-09T00:52:30.856440",
     "exception": false,
     "start_time": "2022-09-09T00:52:30.816888",
     "status": "completed"
    },
    "tags": []
   },
   "outputs": [],
   "source": [
    "#hide\n",
    "# g['date'] = g.date.dt.dayofyear"
   ]
  },
  {
   "cell_type": "code",
   "execution_count": 35,
   "id": "inside-dubai",
   "metadata": {
    "execution": {
     "iopub.execute_input": "2022-09-09T00:52:30.923205Z",
     "iopub.status.busy": "2022-09-09T00:52:30.922493Z",
     "iopub.status.idle": "2022-09-09T00:52:30.926539Z",
     "shell.execute_reply": "2022-09-09T00:52:30.927049Z"
    },
    "papermill": {
     "duration": 0.039924,
     "end_time": "2022-09-09T00:52:30.927221",
     "exception": false,
     "start_time": "2022-09-09T00:52:30.887297",
     "status": "completed"
    },
    "tags": []
   },
   "outputs": [],
   "source": [
    "#hide\n",
    "# g = g.rename(columns= {'continent':'group','country':'name','cases':'value'})"
   ]
  },
  {
   "cell_type": "code",
   "execution_count": 36,
   "id": "fleet-motorcycle",
   "metadata": {
    "execution": {
     "iopub.execute_input": "2022-09-09T00:52:30.995326Z",
     "iopub.status.busy": "2022-09-09T00:52:30.994560Z",
     "iopub.status.idle": "2022-09-09T00:52:30.999024Z",
     "shell.execute_reply": "2022-09-09T00:52:30.998427Z"
    },
    "papermill": {
     "duration": 0.040033,
     "end_time": "2022-09-09T00:52:30.999171",
     "exception": false,
     "start_time": "2022-09-09T00:52:30.959138",
     "status": "completed"
    },
    "tags": []
   },
   "outputs": [],
   "source": [
    "#hide\n",
    "# cols = ['name','group','day','value']"
   ]
  },
  {
   "cell_type": "code",
   "execution_count": 37,
   "id": "continued-sleeping",
   "metadata": {
    "execution": {
     "iopub.execute_input": "2022-09-09T00:52:31.066364Z",
     "iopub.status.busy": "2022-09-09T00:52:31.065600Z",
     "iopub.status.idle": "2022-09-09T00:52:31.069738Z",
     "shell.execute_reply": "2022-09-09T00:52:31.070224Z"
    },
    "papermill": {
     "duration": 0.040231,
     "end_time": "2022-09-09T00:52:31.070398",
     "exception": false,
     "start_time": "2022-09-09T00:52:31.030167",
     "status": "completed"
    },
    "tags": []
   },
   "outputs": [],
   "source": [
    "#hide\n",
    "# g.rename(columns= {'date':'day'},inplace = True)"
   ]
  },
  {
   "cell_type": "code",
   "execution_count": 38,
   "id": "major-fight",
   "metadata": {
    "execution": {
     "iopub.execute_input": "2022-09-09T00:52:31.137928Z",
     "iopub.status.busy": "2022-09-09T00:52:31.137202Z",
     "iopub.status.idle": "2022-09-09T00:52:31.139019Z",
     "shell.execute_reply": "2022-09-09T00:52:31.139586Z"
    },
    "papermill": {
     "duration": 0.038067,
     "end_time": "2022-09-09T00:52:31.139751",
     "exception": false,
     "start_time": "2022-09-09T00:52:31.101684",
     "status": "completed"
    },
    "tags": []
   },
   "outputs": [],
   "source": [
    "#hide\n",
    "# g = g[cols]"
   ]
  },
  {
   "cell_type": "code",
   "execution_count": 39,
   "id": "structured-mobile",
   "metadata": {
    "execution": {
     "iopub.execute_input": "2022-09-09T00:52:31.208032Z",
     "iopub.status.busy": "2022-09-09T00:52:31.207178Z",
     "iopub.status.idle": "2022-09-09T00:52:31.209035Z",
     "shell.execute_reply": "2022-09-09T00:52:31.209585Z"
    },
    "papermill": {
     "duration": 0.038084,
     "end_time": "2022-09-09T00:52:31.209757",
     "exception": false,
     "start_time": "2022-09-09T00:52:31.171673",
     "status": "completed"
    },
    "tags": []
   },
   "outputs": [],
   "source": [
    "# #hide\n",
    "# g = g[g.group.notna()]"
   ]
  },
  {
   "cell_type": "code",
   "execution_count": 40,
   "id": "determined-closing",
   "metadata": {
    "execution": {
     "iopub.execute_input": "2022-09-09T00:52:31.278400Z",
     "iopub.status.busy": "2022-09-09T00:52:31.277741Z",
     "iopub.status.idle": "2022-09-09T00:52:31.281621Z",
     "shell.execute_reply": "2022-09-09T00:52:31.282045Z"
    },
    "papermill": {
     "duration": 0.040025,
     "end_time": "2022-09-09T00:52:31.282197",
     "exception": false,
     "start_time": "2022-09-09T00:52:31.242172",
     "status": "completed"
    },
    "tags": []
   },
   "outputs": [],
   "source": [
    "# #hide\n",
    "# colors = dict(zip(\n",
    "#     [\"Oceania\", \"Europe\", \"Asia\", \"South America\", \"Middle East\", \"North America\", \"Africa\"],\n",
    "#     [\"#adb0ff\", \"#ffb3ff\", \"#90d595\", \"#e48381\", \"#aafbff\", \"#f7bb5f\", \"#eafb50\"]\n",
    "# ))\n",
    "# group_lk = g.set_index('name')['group'].to_dict()"
   ]
  },
  {
   "cell_type": "code",
   "execution_count": null,
   "id": "gross-drinking",
   "metadata": {
    "papermill": {
     "duration": 0.03103,
     "end_time": "2022-09-09T00:52:31.344446",
     "exception": false,
     "start_time": "2022-09-09T00:52:31.313416",
     "status": "completed"
    },
    "tags": []
   },
   "outputs": [],
   "source": []
  },
  {
   "cell_type": "code",
   "execution_count": 41,
   "id": "subject-macintosh",
   "metadata": {
    "execution": {
     "iopub.execute_input": "2022-09-09T00:52:31.416138Z",
     "iopub.status.busy": "2022-09-09T00:52:31.415307Z",
     "iopub.status.idle": "2022-09-09T00:52:31.417520Z",
     "shell.execute_reply": "2022-09-09T00:52:31.416875Z"
    },
    "papermill": {
     "duration": 0.042013,
     "end_time": "2022-09-09T00:52:31.417660",
     "exception": false,
     "start_time": "2022-09-09T00:52:31.375647",
     "status": "completed"
    },
    "tags": []
   },
   "outputs": [],
   "source": [
    "# #hide\n",
    "# fig, ax = plt.subplots(figsize=(15, 8))\n",
    "\n",
    "# def draw_barchart(current_day):\n",
    "#     dff = g[g['day'].eq(current_day)].sort_values(by='value', ascending=True).tail(10)\n",
    "#     ax.clear()\n",
    "#     ax.barh(dff['name'], dff['value'], color=[colors[group_lk[x]] for x in dff['name']])\n",
    "#     dx = dff['value'].max() / 200\n",
    "    \n",
    "#     for i, (value, name) in enumerate(zip(dff['value'], dff['name'])):\n",
    "#         ax.text(value-dx, i,     name,           size=14, weight=600, ha='right', va='bottom')\n",
    "#         ax.text(value-dx, i-.25, group_lk[name], size=10, color='#444444', ha='right', va='baseline')\n",
    "#         ax.text(value+dx, i,     f'{value:,.0f}',  size=14, ha='left',  va='center')\n",
    "#     ax.text(1, 0.4, current_day, transform=ax.transAxes, color='#777777', size=46, ha='right', weight=800)\n",
    "#     ax.text(0, 1.06, 'Population (thousands)', transform=ax.transAxes, size=12, color='#777777')\n",
    "#     ax.xaxis.set_major_formatter(ticker.StrMethodFormatter('{x:,.0f}'))\n",
    "#     ax.xaxis.set_ticks_position('top')\n",
    "#     ax.tick_params(axis='x', colors='#777777', labelsize=12)\n",
    "#     ax.set_yticks([])\n",
    "#     ax.margins(0, 0.01)\n",
    "#     ax.grid(which='major', axis='x', linestyle='-')\n",
    "#     ax.set_axisbelow(True)\n",
    "    \n",
    "#     ax.text(0, 1.15, 'Coronavirus',\n",
    "#             transform=ax.transAxes, size=24, weight=600, ha='left', va='top')\n",
    "# #     ax.text(1, 0, 'by @pratapvardhan; credit @jburnmurdoch', transform=ax.transAxes, color='#777777', ha='right',\n",
    "# #             bbox=dict(facecolor='white', alpha=0.8, edgecolor='white'))\n",
    "#     plt.box(False)"
   ]
  },
  {
   "cell_type": "code",
   "execution_count": 42,
   "id": "sexual-wages",
   "metadata": {
    "execution": {
     "iopub.execute_input": "2022-09-09T00:52:31.485760Z",
     "iopub.status.busy": "2022-09-09T00:52:31.485001Z",
     "iopub.status.idle": "2022-09-09T00:52:31.486839Z",
     "shell.execute_reply": "2022-09-09T00:52:31.487402Z"
    },
    "papermill": {
     "duration": 0.038325,
     "end_time": "2022-09-09T00:52:31.487571",
     "exception": false,
     "start_time": "2022-09-09T00:52:31.449246",
     "status": "completed"
    },
    "tags": []
   },
   "outputs": [],
   "source": [
    "# #hide_input\n",
    "# fig, ax = plt.subplots(figsize=(15, 8))\n",
    "# animator = animation.FuncAnimation(fig, draw_barchart, frames=range(g.day.values.min(), g.day.values.max()))\n",
    "# HTML(animator.to_jshtml())\n",
    "# # or use animator.to_html5_video() or animator.save() "
   ]
  },
  {
   "cell_type": "code",
   "execution_count": null,
   "id": "australian-container",
   "metadata": {
    "papermill": {
     "duration": 0.031419,
     "end_time": "2022-09-09T00:52:31.550835",
     "exception": false,
     "start_time": "2022-09-09T00:52:31.519416",
     "status": "completed"
    },
    "tags": []
   },
   "outputs": [],
   "source": []
  },
  {
   "cell_type": "code",
   "execution_count": null,
   "id": "mediterranean-pontiac",
   "metadata": {
    "papermill": {
     "duration": 0.030794,
     "end_time": "2022-09-09T00:52:31.612495",
     "exception": false,
     "start_time": "2022-09-09T00:52:31.581701",
     "status": "completed"
    },
    "tags": []
   },
   "outputs": [],
   "source": []
  },
  {
   "cell_type": "code",
   "execution_count": null,
   "id": "aging-legislature",
   "metadata": {
    "papermill": {
     "duration": 0.031705,
     "end_time": "2022-09-09T00:52:31.675207",
     "exception": false,
     "start_time": "2022-09-09T00:52:31.643502",
     "status": "completed"
    },
    "tags": []
   },
   "outputs": [],
   "source": []
  }
 ],
 "metadata": {
  "kernelspec": {
   "display_name": "Python 3",
   "language": "python",
   "name": "python3"
  },
  "language_info": {
   "codemirror_mode": {
    "name": "ipython",
    "version": 3
   },
   "file_extension": ".py",
   "mimetype": "text/x-python",
   "name": "python",
   "nbconvert_exporter": "python",
   "pygments_lexer": "ipython3",
   "version": "3.6.15"
  },
  "papermill": {
   "duration": 6.737714,
   "end_time": "2022-09-09T00:52:32.125917",
   "environment_variables": {},
   "exception": null,
   "input_path": "2020-03-21-covid19exp.ipynb",
   "output_path": "2020-03-21-covid19exp.ipynb",
   "parameters": {},
   "start_time": "2022-09-09T00:52:25.388203",
   "version": "2.0.0"
  }
 },
 "nbformat": 4,
 "nbformat_minor": 5
}