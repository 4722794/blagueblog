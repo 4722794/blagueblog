{
 "cells": [
  {
   "cell_type": "markdown",
   "id": "muslim-click",
   "metadata": {
    "papermill": {
     "duration": 0.034448,
     "end_time": "2021-09-04T00:19:56.811991",
     "exception": false,
     "start_time": "2021-09-04T00:19:56.777543",
     "status": "completed"
    },
    "tags": []
   },
   "source": [
    "# COVID-19 Case Race\n",
    "> A race chart to see rising cases around the world\n",
    "\n",
    "- author: Hargun Oberoi\n",
    "- image: images/covid-overview.png\n",
    "- hide: false\n",
    "- badges: false"
   ]
  },
  {
   "cell_type": "code",
   "execution_count": 1,
   "id": "proof-material",
   "metadata": {
    "execution": {
     "iopub.execute_input": "2021-09-04T00:19:56.881510Z",
     "iopub.status.busy": "2021-09-04T00:19:56.880949Z",
     "iopub.status.idle": "2021-09-04T00:19:57.197296Z",
     "shell.execute_reply": "2021-09-04T00:19:57.196764Z"
    },
    "papermill": {
     "duration": 0.355507,
     "end_time": "2021-09-04T00:19:57.197451",
     "exception": false,
     "start_time": "2021-09-04T00:19:56.841944",
     "status": "completed"
    },
    "tags": []
   },
   "outputs": [],
   "source": [
    "#hide\n",
    "import numpy as np\n",
    "import pandas as pd\n",
    "from jinja2 import Template\n",
    "from IPython.display import HTML"
   ]
  },
  {
   "cell_type": "code",
   "execution_count": 2,
   "id": "developed-terminology",
   "metadata": {
    "execution": {
     "iopub.execute_input": "2021-09-04T00:19:57.263482Z",
     "iopub.status.busy": "2021-09-04T00:19:57.262954Z",
     "iopub.status.idle": "2021-09-04T00:19:57.264986Z",
     "shell.execute_reply": "2021-09-04T00:19:57.264553Z"
    },
    "papermill": {
     "duration": 0.037375,
     "end_time": "2021-09-04T00:19:57.265089",
     "exception": false,
     "start_time": "2021-09-04T00:19:57.227714",
     "status": "completed"
    },
    "tags": []
   },
   "outputs": [],
   "source": [
    "#hide\n",
    "\n",
    "# FETCH\n",
    "base_url = 'https://raw.githubusercontent.com/pratapvardhan/notebooks/master/covid19/'\n",
    "paths = {\n",
    "    'mapping': base_url + 'mapping_countries.csv',\n",
    "    'overview': base_url + 'overview.tpl'\n",
    "}"
   ]
  },
  {
   "cell_type": "code",
   "execution_count": 3,
   "id": "dynamic-saver",
   "metadata": {
    "execution": {
     "iopub.execute_input": "2021-09-04T00:19:57.333852Z",
     "iopub.status.busy": "2021-09-04T00:19:57.333349Z",
     "iopub.status.idle": "2021-09-04T00:19:57.335722Z",
     "shell.execute_reply": "2021-09-04T00:19:57.336122Z"
    },
    "papermill": {
     "duration": 0.041618,
     "end_time": "2021-09-04T00:19:57.336238",
     "exception": false,
     "start_time": "2021-09-04T00:19:57.294620",
     "status": "completed"
    },
    "tags": []
   },
   "outputs": [
    {
     "data": {
      "text/plain": [
       "'https://raw.githubusercontent.com/pratapvardhan/notebooks/master/covid19/mapping_countries.csv'"
      ]
     },
     "execution_count": 3,
     "metadata": {},
     "output_type": "execute_result"
    }
   ],
   "source": [
    "#hide\n",
    "paths['mapping']"
   ]
  },
  {
   "cell_type": "code",
   "execution_count": 4,
   "id": "urban-software",
   "metadata": {
    "execution": {
     "iopub.execute_input": "2021-09-04T00:19:57.400941Z",
     "iopub.status.busy": "2021-09-04T00:19:57.400433Z",
     "iopub.status.idle": "2021-09-04T00:19:57.402907Z",
     "shell.execute_reply": "2021-09-04T00:19:57.402476Z"
    },
    "papermill": {
     "duration": 0.036959,
     "end_time": "2021-09-04T00:19:57.403008",
     "exception": false,
     "start_time": "2021-09-04T00:19:57.366049",
     "status": "completed"
    },
    "tags": []
   },
   "outputs": [],
   "source": [
    "#hide\n",
    "def get_mappings(url):\n",
    "    df = pd.read_csv(url)\n",
    "    return {\n",
    "        'df': df,\n",
    "        'replace.country': dict(df.dropna(subset=['Name']).set_index('Country')['Name']),\n",
    "        'map.continent': dict(df.set_index('Name')['Continent'])\n",
    "    }"
   ]
  },
  {
   "cell_type": "code",
   "execution_count": 5,
   "id": "intimate-machinery",
   "metadata": {
    "execution": {
     "iopub.execute_input": "2021-09-04T00:19:57.467162Z",
     "iopub.status.busy": "2021-09-04T00:19:57.466662Z",
     "iopub.status.idle": "2021-09-04T00:19:57.493380Z",
     "shell.execute_reply": "2021-09-04T00:19:57.492902Z"
    },
    "papermill": {
     "duration": 0.060976,
     "end_time": "2021-09-04T00:19:57.493506",
     "exception": false,
     "start_time": "2021-09-04T00:19:57.432530",
     "status": "completed"
    },
    "tags": []
   },
   "outputs": [],
   "source": [
    "#hide\n",
    "mapping = get_mappings(paths['mapping'])"
   ]
  },
  {
   "cell_type": "code",
   "execution_count": 6,
   "id": "certified-tactics",
   "metadata": {
    "execution": {
     "iopub.execute_input": "2021-09-04T00:19:57.558489Z",
     "iopub.status.busy": "2021-09-04T00:19:57.557965Z",
     "iopub.status.idle": "2021-09-04T00:19:57.560295Z",
     "shell.execute_reply": "2021-09-04T00:19:57.559897Z"
    },
    "papermill": {
     "duration": 0.036615,
     "end_time": "2021-09-04T00:19:57.560401",
     "exception": false,
     "start_time": "2021-09-04T00:19:57.523786",
     "status": "completed"
    },
    "tags": []
   },
   "outputs": [],
   "source": [
    "#hide\n",
    "def get_template(path):\n",
    "    from urllib.parse import urlparse\n",
    "    if bool(urlparse(path).netloc):\n",
    "        from urllib.request import urlopen\n",
    "        return urlopen(path).read().decode('utf8')\n",
    "    return open(path).read()"
   ]
  },
  {
   "cell_type": "code",
   "execution_count": 7,
   "id": "realistic-blast",
   "metadata": {
    "execution": {
     "iopub.execute_input": "2021-09-04T00:19:57.625384Z",
     "iopub.status.busy": "2021-09-04T00:19:57.624875Z",
     "iopub.status.idle": "2021-09-04T00:19:57.627345Z",
     "shell.execute_reply": "2021-09-04T00:19:57.626919Z"
    },
    "papermill": {
     "duration": 0.037039,
     "end_time": "2021-09-04T00:19:57.627451",
     "exception": false,
     "start_time": "2021-09-04T00:19:57.590412",
     "status": "completed"
    },
    "tags": []
   },
   "outputs": [],
   "source": [
    "#hide\n",
    "def get_frame(name):\n",
    "    url = (\n",
    "        'https://raw.githubusercontent.com/CSSEGISandData/COVID-19/master/csse_covid_19_data/'\n",
    "        f'csse_covid_19_time_series/time_series_covid19_{name}_global.csv')\n",
    "    df = pd.read_csv(url)\n",
    "    # rename countries\n",
    "    df['Country/Region'] = df['Country/Region'].replace(mapping['replace.country'])\n",
    "    return df"
   ]
  },
  {
   "cell_type": "code",
   "execution_count": 8,
   "id": "affiliated-characterization",
   "metadata": {
    "execution": {
     "iopub.execute_input": "2021-09-04T00:19:57.693714Z",
     "iopub.status.busy": "2021-09-04T00:19:57.693203Z",
     "iopub.status.idle": "2021-09-04T00:19:57.695246Z",
     "shell.execute_reply": "2021-09-04T00:19:57.694823Z"
    },
    "papermill": {
     "duration": 0.038022,
     "end_time": "2021-09-04T00:19:57.695353",
     "exception": false,
     "start_time": "2021-09-04T00:19:57.657331",
     "status": "completed"
    },
    "tags": []
   },
   "outputs": [],
   "source": [
    "#hide\n",
    "def get_dates(df):\n",
    "    dt_cols = df.columns[~df.columns.isin(['Province/State', 'Country/Region', 'Lat', 'Long'])]\n",
    "    LAST_DATE_I = -1\n",
    "    # sometimes last column may be empty, then go backwards\n",
    "    for i in range(-1, -len(dt_cols), -1):\n",
    "        if not df[dt_cols[i]].fillna(0).eq(0).all():\n",
    "            LAST_DATE_I = i\n",
    "            break\n",
    "    return LAST_DATE_I, dt_cols"
   ]
  },
  {
   "cell_type": "code",
   "execution_count": 9,
   "id": "recent-optimization",
   "metadata": {
    "execution": {
     "iopub.execute_input": "2021-09-04T00:19:57.759375Z",
     "iopub.status.busy": "2021-09-04T00:19:57.758823Z",
     "iopub.status.idle": "2021-09-04T00:19:58.024621Z",
     "shell.execute_reply": "2021-09-04T00:19:58.024159Z"
    },
    "papermill": {
     "duration": 0.299777,
     "end_time": "2021-09-04T00:19:58.024746",
     "exception": false,
     "start_time": "2021-09-04T00:19:57.724969",
     "status": "completed"
    },
    "tags": []
   },
   "outputs": [],
   "source": [
    "#hide\n",
    "COL_REGION = 'Country/Region'\n",
    "# Confirmed, Recovered, Deaths\n",
    "df = get_frame('confirmed')\n",
    "# dft_: timeseries, dfc_: today country agg\n",
    "dft_cases = df\n",
    "dft_deaths = get_frame('deaths')\n",
    "dft_recovered = get_frame('recovered')\n",
    "LAST_DATE_I, dt_cols = get_dates(df)"
   ]
  },
  {
   "cell_type": "code",
   "execution_count": 10,
   "id": "absolute-copper",
   "metadata": {
    "execution": {
     "iopub.execute_input": "2021-09-04T00:19:58.090788Z",
     "iopub.status.busy": "2021-09-04T00:19:58.090233Z",
     "iopub.status.idle": "2021-09-04T00:19:58.092397Z",
     "shell.execute_reply": "2021-09-04T00:19:58.091967Z"
    },
    "papermill": {
     "duration": 0.037512,
     "end_time": "2021-09-04T00:19:58.092509",
     "exception": false,
     "start_time": "2021-09-04T00:19:58.054997",
     "status": "completed"
    },
    "tags": []
   },
   "outputs": [],
   "source": [
    "#hide\n",
    "LAST_DATE_I, dt_cols = get_dates(df)\n",
    "dt_today =dt_cols[LAST_DATE_I]\n",
    "# dt_5day = dt_cols[LAST_DATE_I - 5]\n",
    "dt_yday = dt_cols[LAST_DATE_I - 1]"
   ]
  },
  {
   "cell_type": "code",
   "execution_count": 11,
   "id": "restricted-sheriff",
   "metadata": {
    "execution": {
     "iopub.execute_input": "2021-09-04T00:19:58.157295Z",
     "iopub.status.busy": "2021-09-04T00:19:58.156798Z",
     "iopub.status.idle": "2021-09-04T00:19:58.164135Z",
     "shell.execute_reply": "2021-09-04T00:19:58.163714Z"
    },
    "papermill": {
     "duration": 0.041946,
     "end_time": "2021-09-04T00:19:58.164240",
     "exception": false,
     "start_time": "2021-09-04T00:19:58.122294",
     "status": "completed"
    },
    "tags": []
   },
   "outputs": [],
   "source": [
    "#hide\n",
    "dfc_cases = dft_cases.groupby(COL_REGION)[dt_today].sum()\n",
    "dfc_deaths = dft_deaths.groupby(COL_REGION)[dt_today].sum()\n",
    "# dfp_cases = dft_cases.groupby(COL_REGION)[dt_5day].sum()\n",
    "# dfp_deaths = dft_deaths.groupby(COL_REGION)[dt_5day].sum()\n",
    "dfp_cases = dft_cases.groupby(COL_REGION)[dt_yday].sum()\n",
    "dfp_deaths = dft_deaths.groupby(COL_REGION)[dt_yday].sum()"
   ]
  },
  {
   "cell_type": "code",
   "execution_count": 12,
   "id": "deluxe-hepatitis",
   "metadata": {
    "execution": {
     "iopub.execute_input": "2021-09-04T00:19:58.230255Z",
     "iopub.status.busy": "2021-09-04T00:19:58.229754Z",
     "iopub.status.idle": "2021-09-04T00:19:58.234078Z",
     "shell.execute_reply": "2021-09-04T00:19:58.233649Z"
    },
    "papermill": {
     "duration": 0.03999,
     "end_time": "2021-09-04T00:19:58.234187",
     "exception": false,
     "start_time": "2021-09-04T00:19:58.194197",
     "status": "completed"
    },
    "tags": []
   },
   "outputs": [],
   "source": [
    "#hide\n",
    "df_table = (pd.DataFrame(dict(Cases = dfc_cases, Deaths = dfc_deaths, PCases = dfp_cases, PDeaths = dfp_deaths))\n",
    "            .sort_values(by = ['Cases','Deaths'], ascending = [False, False])\n",
    "            .reset_index())"
   ]
  },
  {
   "cell_type": "code",
   "execution_count": 13,
   "id": "educational-chancellor",
   "metadata": {
    "execution": {
     "iopub.execute_input": "2021-09-04T00:19:58.311151Z",
     "iopub.status.busy": "2021-09-04T00:19:58.310641Z",
     "iopub.status.idle": "2021-09-04T00:19:58.317768Z",
     "shell.execute_reply": "2021-09-04T00:19:58.317364Z"
    },
    "papermill": {
     "duration": 0.054003,
     "end_time": "2021-09-04T00:19:58.317875",
     "exception": false,
     "start_time": "2021-09-04T00:19:58.263872",
     "status": "completed"
    },
    "tags": []
   },
   "outputs": [
    {
     "data": {
      "text/html": [
       "<div>\n",
       "<style scoped>\n",
       "    .dataframe tbody tr th:only-of-type {\n",
       "        vertical-align: middle;\n",
       "    }\n",
       "\n",
       "    .dataframe tbody tr th {\n",
       "        vertical-align: top;\n",
       "    }\n",
       "\n",
       "    .dataframe thead th {\n",
       "        text-align: right;\n",
       "    }\n",
       "</style>\n",
       "<table border=\"1\" class=\"dataframe\">\n",
       "  <thead>\n",
       "    <tr style=\"text-align: right;\">\n",
       "      <th></th>\n",
       "      <th>Country/Region</th>\n",
       "      <th>Cases</th>\n",
       "      <th>Deaths</th>\n",
       "      <th>PCases</th>\n",
       "      <th>PDeaths</th>\n",
       "      <th>Cases (+)</th>\n",
       "      <th>Deaths (+)</th>\n",
       "      <th>Fatality Rate</th>\n",
       "      <th>Continent</th>\n",
       "    </tr>\n",
       "  </thead>\n",
       "  <tbody>\n",
       "    <tr>\n",
       "      <th>0</th>\n",
       "      <td>US</td>\n",
       "      <td>39549299</td>\n",
       "      <td>643669</td>\n",
       "      <td>39396156</td>\n",
       "      <td>642081</td>\n",
       "      <td>153143</td>\n",
       "      <td>1588</td>\n",
       "      <td>1.63</td>\n",
       "      <td>North America</td>\n",
       "    </tr>\n",
       "    <tr>\n",
       "      <th>1</th>\n",
       "      <td>India</td>\n",
       "      <td>32903289</td>\n",
       "      <td>439895</td>\n",
       "      <td>32857937</td>\n",
       "      <td>439529</td>\n",
       "      <td>45352</td>\n",
       "      <td>366</td>\n",
       "      <td>1.34</td>\n",
       "      <td>Asia</td>\n",
       "    </tr>\n",
       "    <tr>\n",
       "      <th>2</th>\n",
       "      <td>Brazil</td>\n",
       "      <td>20830495</td>\n",
       "      <td>581914</td>\n",
       "      <td>20804215</td>\n",
       "      <td>581150</td>\n",
       "      <td>26280</td>\n",
       "      <td>764</td>\n",
       "      <td>2.79</td>\n",
       "      <td>South America</td>\n",
       "    </tr>\n",
       "    <tr>\n",
       "      <th>3</th>\n",
       "      <td>United Kingdom</td>\n",
       "      <td>6894915</td>\n",
       "      <td>133244</td>\n",
       "      <td>6856933</td>\n",
       "      <td>133066</td>\n",
       "      <td>37982</td>\n",
       "      <td>178</td>\n",
       "      <td>1.93</td>\n",
       "      <td>Europe</td>\n",
       "    </tr>\n",
       "    <tr>\n",
       "      <th>4</th>\n",
       "      <td>France</td>\n",
       "      <td>6882305</td>\n",
       "      <td>115157</td>\n",
       "      <td>6868151</td>\n",
       "      <td>115031</td>\n",
       "      <td>14154</td>\n",
       "      <td>126</td>\n",
       "      <td>1.67</td>\n",
       "      <td>Europe</td>\n",
       "    </tr>\n",
       "  </tbody>\n",
       "</table>\n",
       "</div>"
      ],
      "text/plain": [
       "   Country/Region     Cases  Deaths    PCases  PDeaths  Cases (+)  Deaths (+)  \\\n",
       "0              US  39549299  643669  39396156   642081     153143        1588   \n",
       "1           India  32903289  439895  32857937   439529      45352         366   \n",
       "2          Brazil  20830495  581914  20804215   581150      26280         764   \n",
       "3  United Kingdom   6894915  133244   6856933   133066      37982         178   \n",
       "4          France   6882305  115157   6868151   115031      14154         126   \n",
       "\n",
       "   Fatality Rate      Continent  \n",
       "0           1.63  North America  \n",
       "1           1.34           Asia  \n",
       "2           2.79  South America  \n",
       "3           1.93         Europe  \n",
       "4           1.67         Europe  "
      ]
     },
     "execution_count": 13,
     "metadata": {},
     "output_type": "execute_result"
    }
   ],
   "source": [
    "#hide\n",
    "for c in 'Cases, Deaths'.split(', '):\n",
    "    df_table[f'{c} (+)'] = (df_table[c] - df_table[f'P{c}']).clip(0)\n",
    "    #Clip ça veut dire, les chiffres negatif sont interdit\n",
    "df_table['Fatality Rate'] = (100* df_table['Deaths']/ df_table['Cases']).round(2)\n",
    "df_table['Continent'] = df_table['Country/Region'].map(mapping['map.continent'])\n",
    "df_table.head(5)"
   ]
  },
  {
   "cell_type": "code",
   "execution_count": 14,
   "id": "aboriginal-bulgaria",
   "metadata": {
    "execution": {
     "iopub.execute_input": "2021-09-04T00:19:58.383516Z",
     "iopub.status.busy": "2021-09-04T00:19:58.383024Z",
     "iopub.status.idle": "2021-09-04T00:19:58.385661Z",
     "shell.execute_reply": "2021-09-04T00:19:58.386064Z"
    },
    "papermill": {
     "duration": 0.037892,
     "end_time": "2021-09-04T00:19:58.386183",
     "exception": false,
     "start_time": "2021-09-04T00:19:58.348291",
     "status": "completed"
    },
    "tags": []
   },
   "outputs": [],
   "source": [
    "#hide\n",
    "#delete problematic countries from table\n",
    "df_table = df_table[~df_table['Country/Region'].isin(['Cape Verde', 'Cruise Ship', 'Kosovo'])]"
   ]
  },
  {
   "cell_type": "code",
   "execution_count": 15,
   "id": "fantastic-effect",
   "metadata": {
    "execution": {
     "iopub.execute_input": "2021-09-04T00:19:58.454065Z",
     "iopub.status.busy": "2021-09-04T00:19:58.453566Z",
     "iopub.status.idle": "2021-09-04T00:19:58.470692Z",
     "shell.execute_reply": "2021-09-04T00:19:58.470256Z"
    },
    "papermill": {
     "duration": 0.054391,
     "end_time": "2021-09-04T00:19:58.470802",
     "exception": false,
     "start_time": "2021-09-04T00:19:58.416411",
     "status": "completed"
    },
    "tags": []
   },
   "outputs": [
    {
     "data": {
      "text/html": [
       "<div>\n",
       "<style scoped>\n",
       "    .dataframe tbody tr th:only-of-type {\n",
       "        vertical-align: middle;\n",
       "    }\n",
       "\n",
       "    .dataframe tbody tr th {\n",
       "        vertical-align: top;\n",
       "    }\n",
       "\n",
       "    .dataframe thead th {\n",
       "        text-align: right;\n",
       "    }\n",
       "</style>\n",
       "<table border=\"1\" class=\"dataframe\">\n",
       "  <thead>\n",
       "    <tr style=\"text-align: right;\">\n",
       "      <th></th>\n",
       "      <th>Country/Region</th>\n",
       "      <th>Cases</th>\n",
       "      <th>Deaths</th>\n",
       "      <th>PCases</th>\n",
       "      <th>PDeaths</th>\n",
       "      <th>Cases (+)</th>\n",
       "      <th>Deaths (+)</th>\n",
       "      <th>Fatality Rate</th>\n",
       "      <th>Continent</th>\n",
       "    </tr>\n",
       "  </thead>\n",
       "  <tbody>\n",
       "    <tr>\n",
       "      <th>0</th>\n",
       "      <td>US</td>\n",
       "      <td>39549299</td>\n",
       "      <td>643669</td>\n",
       "      <td>39396156</td>\n",
       "      <td>642081</td>\n",
       "      <td>153143</td>\n",
       "      <td>1588</td>\n",
       "      <td>1.6</td>\n",
       "      <td>North America</td>\n",
       "    </tr>\n",
       "    <tr>\n",
       "      <th>1</th>\n",
       "      <td>India</td>\n",
       "      <td>32903289</td>\n",
       "      <td>439895</td>\n",
       "      <td>32857937</td>\n",
       "      <td>439529</td>\n",
       "      <td>45352</td>\n",
       "      <td>366</td>\n",
       "      <td>1.3</td>\n",
       "      <td>Asia</td>\n",
       "    </tr>\n",
       "    <tr>\n",
       "      <th>2</th>\n",
       "      <td>Brazil</td>\n",
       "      <td>20830495</td>\n",
       "      <td>581914</td>\n",
       "      <td>20804215</td>\n",
       "      <td>581150</td>\n",
       "      <td>26280</td>\n",
       "      <td>764</td>\n",
       "      <td>2.8</td>\n",
       "      <td>South America</td>\n",
       "    </tr>\n",
       "    <tr>\n",
       "      <th>3</th>\n",
       "      <td>United Kingdom</td>\n",
       "      <td>6894915</td>\n",
       "      <td>133244</td>\n",
       "      <td>6856933</td>\n",
       "      <td>133066</td>\n",
       "      <td>37982</td>\n",
       "      <td>178</td>\n",
       "      <td>1.9</td>\n",
       "      <td>Europe</td>\n",
       "    </tr>\n",
       "    <tr>\n",
       "      <th>4</th>\n",
       "      <td>France</td>\n",
       "      <td>6882305</td>\n",
       "      <td>115157</td>\n",
       "      <td>6868151</td>\n",
       "      <td>115031</td>\n",
       "      <td>14154</td>\n",
       "      <td>126</td>\n",
       "      <td>1.7</td>\n",
       "      <td>Europe</td>\n",
       "    </tr>\n",
       "  </tbody>\n",
       "</table>\n",
       "</div>"
      ],
      "text/plain": [
       "   Country/Region     Cases  Deaths    PCases  PDeaths  Cases (+)  Deaths (+)  \\\n",
       "0              US  39549299  643669  39396156   642081     153143        1588   \n",
       "1           India  32903289  439895  32857937   439529      45352         366   \n",
       "2          Brazil  20830495  581914  20804215   581150      26280         764   \n",
       "3  United Kingdom   6894915  133244   6856933   133066      37982         178   \n",
       "4          France   6882305  115157   6868151   115031      14154         126   \n",
       "\n",
       "   Fatality Rate      Continent  \n",
       "0            1.6  North America  \n",
       "1            1.3           Asia  \n",
       "2            2.8  South America  \n",
       "3            1.9         Europe  \n",
       "4            1.7         Europe  "
      ]
     },
     "execution_count": 15,
     "metadata": {},
     "output_type": "execute_result"
    }
   ],
   "source": [
    "#hide\n",
    "df_table = (pd.DataFrame(dict(Cases=dfc_cases, Deaths=dfc_deaths, PCases=dfp_cases, PDeaths=dfp_deaths))\n",
    "             .sort_values(by=['Cases', 'Deaths'], ascending=[False, False])\n",
    "             .reset_index())\n",
    "df_table.rename(columns={'index': 'Country/Region'}, inplace=True)\n",
    "for c in 'Cases, Deaths'.split(', '):\n",
    "    df_table[f'{c} (+)'] = (df_table[c] - df_table[f'P{c}']).clip(0)  # DATA BUG\n",
    "df_table['Fatality Rate'] = (100 * df_table['Deaths'] / df_table['Cases']).round(1)\n",
    "df_table['Continent'] = df_table['Country/Region'].map(mapping['map.continent'])\n",
    "df_table.head(5)"
   ]
  },
  {
   "cell_type": "code",
   "execution_count": 16,
   "id": "fewer-occasion",
   "metadata": {
    "execution": {
     "iopub.execute_input": "2021-09-04T00:19:58.537687Z",
     "iopub.status.busy": "2021-09-04T00:19:58.537193Z",
     "iopub.status.idle": "2021-09-04T00:19:58.539289Z",
     "shell.execute_reply": "2021-09-04T00:19:58.539714Z"
    },
    "papermill": {
     "duration": 0.038356,
     "end_time": "2021-09-04T00:19:58.539831",
     "exception": false,
     "start_time": "2021-09-04T00:19:58.501475",
     "status": "completed"
    },
    "tags": []
   },
   "outputs": [],
   "source": [
    "#hide\n",
    "#delete problematic countries from table\n",
    "df_table = df_table[~df_table['Country/Region'].isin(['Cape Verde', 'Cruise Ship', 'Kosovo'])]"
   ]
  },
  {
   "cell_type": "code",
   "execution_count": 17,
   "id": "related-center",
   "metadata": {
    "execution": {
     "iopub.execute_input": "2021-09-04T00:19:58.608464Z",
     "iopub.status.busy": "2021-09-04T00:19:58.607960Z",
     "iopub.status.idle": "2021-09-04T00:19:58.620120Z",
     "shell.execute_reply": "2021-09-04T00:19:58.619615Z"
    },
    "papermill": {
     "duration": 0.050067,
     "end_time": "2021-09-04T00:19:58.620222",
     "exception": false,
     "start_time": "2021-09-04T00:19:58.570155",
     "status": "completed"
    },
    "tags": []
   },
   "outputs": [],
   "source": [
    "#hide\n",
    "metrics = [df_table.columns[index] for index in [1,2,5,6]]\n",
    "# s_china = df_table[df_table['Country/Region'].eq('China')][metrics].sum().add_prefix('China ')\n",
    "s_us = df_table[df_table['Country/Region'].eq('US')][metrics].sum().add_prefix('US ')\n",
    "s_eu = df_table[df_table['Continent'].eq('Europe')][metrics].sum().add_prefix('EU ')\n",
    "s_ind = df_table[df_table['Country/Region'].eq('India')][metrics].sum().add_prefix('India ')\n",
    "summary = {'updated': pd.to_datetime(dt_today), 'since': pd.to_datetime(dt_yday)}\n",
    "summary = {'updated': pd.to_datetime(dt_today), 'since': pd.to_datetime(dt_yday)}\n",
    "summary = {**summary, **df_table[metrics].sum(), **s_ind, **s_us, **s_eu}"
   ]
  },
  {
   "cell_type": "code",
   "execution_count": 18,
   "id": "engaging-syndrome",
   "metadata": {
    "execution": {
     "iopub.execute_input": "2021-09-04T00:19:58.685762Z",
     "iopub.status.busy": "2021-09-04T00:19:58.685274Z",
     "iopub.status.idle": "2021-09-04T00:19:58.698022Z",
     "shell.execute_reply": "2021-09-04T00:19:58.698475Z"
    },
    "papermill": {
     "duration": 0.047789,
     "end_time": "2021-09-04T00:19:58.698601",
     "exception": false,
     "start_time": "2021-09-04T00:19:58.650812",
     "status": "completed"
    },
    "tags": []
   },
   "outputs": [],
   "source": [
    "#hide\n",
    "dft_ct_new_cases = dft_cases.groupby(COL_REGION)[dt_cols].sum().diff(axis=1).fillna(0).astype(int)"
   ]
  },
  {
   "cell_type": "code",
   "execution_count": 19,
   "id": "neutral-assignment",
   "metadata": {
    "execution": {
     "iopub.execute_input": "2021-09-04T00:19:58.765369Z",
     "iopub.status.busy": "2021-09-04T00:19:58.764875Z",
     "iopub.status.idle": "2021-09-04T00:19:58.766584Z",
     "shell.execute_reply": "2021-09-04T00:19:58.767009Z"
    },
    "papermill": {
     "duration": 0.037862,
     "end_time": "2021-09-04T00:19:58.767127",
     "exception": false,
     "start_time": "2021-09-04T00:19:58.729265",
     "status": "completed"
    },
    "tags": []
   },
   "outputs": [],
   "source": [
    "#hide\n",
    "everydaycases = dft_ct_new_cases.cumsum(axis=1)"
   ]
  },
  {
   "cell_type": "code",
   "execution_count": 20,
   "id": "parliamentary-calgary",
   "metadata": {
    "execution": {
     "iopub.execute_input": "2021-09-04T00:19:58.832719Z",
     "iopub.status.busy": "2021-09-04T00:19:58.832209Z",
     "iopub.status.idle": "2021-09-04T00:19:59.341822Z",
     "shell.execute_reply": "2021-09-04T00:19:59.341299Z"
    },
    "papermill": {
     "duration": 0.544249,
     "end_time": "2021-09-04T00:19:59.341965",
     "exception": false,
     "start_time": "2021-09-04T00:19:58.797716",
     "status": "completed"
    },
    "tags": []
   },
   "outputs": [],
   "source": [
    "#hide\n",
    "import pandas as pd\n",
    "import matplotlib.pyplot as plt\n",
    "import matplotlib.ticker as ticker\n",
    "import matplotlib.animation as animation\n",
    "from IPython.display import HTML"
   ]
  },
  {
   "cell_type": "code",
   "execution_count": 21,
   "id": "lasting-extraction",
   "metadata": {
    "execution": {
     "iopub.execute_input": "2021-09-04T00:19:59.409285Z",
     "iopub.status.busy": "2021-09-04T00:19:59.408780Z",
     "iopub.status.idle": "2021-09-04T00:19:59.414347Z",
     "shell.execute_reply": "2021-09-04T00:19:59.414836Z"
    },
    "papermill": {
     "duration": 0.041698,
     "end_time": "2021-09-04T00:19:59.414961",
     "exception": false,
     "start_time": "2021-09-04T00:19:59.373263",
     "status": "completed"
    },
    "tags": []
   },
   "outputs": [],
   "source": [
    "#hide\n",
    "t = everydaycases.stack()"
   ]
  },
  {
   "cell_type": "code",
   "execution_count": 22,
   "id": "premier-sleeve",
   "metadata": {
    "execution": {
     "iopub.execute_input": "2021-09-04T00:19:59.480625Z",
     "iopub.status.busy": "2021-09-04T00:19:59.480120Z",
     "iopub.status.idle": "2021-09-04T00:19:59.488777Z",
     "shell.execute_reply": "2021-09-04T00:19:59.488353Z"
    },
    "papermill": {
     "duration": 0.043209,
     "end_time": "2021-09-04T00:19:59.488885",
     "exception": false,
     "start_time": "2021-09-04T00:19:59.445676",
     "status": "completed"
    },
    "tags": []
   },
   "outputs": [],
   "source": [
    "#hide\n",
    "g = t.reset_index(['Country/Region'])"
   ]
  },
  {
   "cell_type": "code",
   "execution_count": 23,
   "id": "distributed-pittsburgh",
   "metadata": {
    "execution": {
     "iopub.execute_input": "2021-09-04T00:19:59.554576Z",
     "iopub.status.busy": "2021-09-04T00:19:59.554061Z",
     "iopub.status.idle": "2021-09-04T00:19:59.556330Z",
     "shell.execute_reply": "2021-09-04T00:19:59.555930Z"
    },
    "papermill": {
     "duration": 0.036534,
     "end_time": "2021-09-04T00:19:59.556434",
     "exception": false,
     "start_time": "2021-09-04T00:19:59.519900",
     "status": "completed"
    },
    "tags": []
   },
   "outputs": [],
   "source": [
    "#hide\n",
    "g.index.name = 'date'"
   ]
  },
  {
   "cell_type": "code",
   "execution_count": 24,
   "id": "naked-donor",
   "metadata": {
    "execution": {
     "iopub.execute_input": "2021-09-04T00:19:59.621412Z",
     "iopub.status.busy": "2021-09-04T00:19:59.620913Z",
     "iopub.status.idle": "2021-09-04T00:19:59.622676Z",
     "shell.execute_reply": "2021-09-04T00:19:59.623156Z"
    },
    "papermill": {
     "duration": 0.036211,
     "end_time": "2021-09-04T00:19:59.623276",
     "exception": false,
     "start_time": "2021-09-04T00:19:59.587065",
     "status": "completed"
    },
    "tags": []
   },
   "outputs": [],
   "source": [
    "# #hide\n",
    "# g = g.reset_index(['date'])"
   ]
  },
  {
   "cell_type": "code",
   "execution_count": 25,
   "id": "incomplete-mustang",
   "metadata": {
    "execution": {
     "iopub.execute_input": "2021-09-04T00:19:59.687726Z",
     "iopub.status.busy": "2021-09-04T00:19:59.687233Z",
     "iopub.status.idle": "2021-09-04T00:19:59.688867Z",
     "shell.execute_reply": "2021-09-04T00:19:59.689325Z"
    },
    "papermill": {
     "duration": 0.035681,
     "end_time": "2021-09-04T00:19:59.689440",
     "exception": false,
     "start_time": "2021-09-04T00:19:59.653759",
     "status": "completed"
    },
    "tags": []
   },
   "outputs": [],
   "source": [
    "#hide\n",
    "# g.head()"
   ]
  },
  {
   "cell_type": "code",
   "execution_count": 26,
   "id": "specific-kruger",
   "metadata": {
    "execution": {
     "iopub.execute_input": "2021-09-04T00:19:59.754017Z",
     "iopub.status.busy": "2021-09-04T00:19:59.753516Z",
     "iopub.status.idle": "2021-09-04T00:19:59.755757Z",
     "shell.execute_reply": "2021-09-04T00:19:59.755358Z"
    },
    "papermill": {
     "duration": 0.035726,
     "end_time": "2021-09-04T00:19:59.755862",
     "exception": false,
     "start_time": "2021-09-04T00:19:59.720136",
     "status": "completed"
    },
    "tags": []
   },
   "outputs": [],
   "source": [
    "#hide\n",
    "# g.columns = ['date','country','cases']"
   ]
  },
  {
   "cell_type": "code",
   "execution_count": 27,
   "id": "tender-conversion",
   "metadata": {
    "execution": {
     "iopub.execute_input": "2021-09-04T00:19:59.820811Z",
     "iopub.status.busy": "2021-09-04T00:19:59.820312Z",
     "iopub.status.idle": "2021-09-04T00:19:59.822458Z",
     "shell.execute_reply": "2021-09-04T00:19:59.822041Z"
    },
    "papermill": {
     "duration": 0.036091,
     "end_time": "2021-09-04T00:19:59.822566",
     "exception": false,
     "start_time": "2021-09-04T00:19:59.786475",
     "status": "completed"
    },
    "tags": []
   },
   "outputs": [],
   "source": [
    "#hide\n",
    "# g['continent'] = g.country"
   ]
  },
  {
   "cell_type": "code",
   "execution_count": 28,
   "id": "substantial-wilderness",
   "metadata": {
    "execution": {
     "iopub.execute_input": "2021-09-04T00:19:59.887336Z",
     "iopub.status.busy": "2021-09-04T00:19:59.886843Z",
     "iopub.status.idle": "2021-09-04T00:19:59.888669Z",
     "shell.execute_reply": "2021-09-04T00:19:59.889045Z"
    },
    "papermill": {
     "duration": 0.035905,
     "end_time": "2021-09-04T00:19:59.889166",
     "exception": false,
     "start_time": "2021-09-04T00:19:59.853261",
     "status": "completed"
    },
    "tags": []
   },
   "outputs": [],
   "source": [
    "#hide\n",
    "# cols = list(g.columns.values)"
   ]
  },
  {
   "cell_type": "code",
   "execution_count": 29,
   "id": "solved-farming",
   "metadata": {
    "execution": {
     "iopub.execute_input": "2021-09-04T00:19:59.953838Z",
     "iopub.status.busy": "2021-09-04T00:19:59.953341Z",
     "iopub.status.idle": "2021-09-04T00:19:59.955059Z",
     "shell.execute_reply": "2021-09-04T00:19:59.955435Z"
    },
    "papermill": {
     "duration": 0.035815,
     "end_time": "2021-09-04T00:19:59.955561",
     "exception": false,
     "start_time": "2021-09-04T00:19:59.919746",
     "status": "completed"
    },
    "tags": []
   },
   "outputs": [],
   "source": [
    "#hide\n",
    "# cols.insert(0, cols.pop())"
   ]
  },
  {
   "cell_type": "code",
   "execution_count": 30,
   "id": "executed-adoption",
   "metadata": {
    "execution": {
     "iopub.execute_input": "2021-09-04T00:20:00.021345Z",
     "iopub.status.busy": "2021-09-04T00:20:00.020825Z",
     "iopub.status.idle": "2021-09-04T00:20:00.022406Z",
     "shell.execute_reply": "2021-09-04T00:20:00.022839Z"
    },
    "papermill": {
     "duration": 0.036519,
     "end_time": "2021-09-04T00:20:00.022967",
     "exception": false,
     "start_time": "2021-09-04T00:19:59.986448",
     "status": "completed"
    },
    "tags": []
   },
   "outputs": [],
   "source": [
    "#hide\n",
    "# g = g[cols]"
   ]
  },
  {
   "cell_type": "code",
   "execution_count": 31,
   "id": "subject-dublin",
   "metadata": {
    "execution": {
     "iopub.execute_input": "2021-09-04T00:20:00.088873Z",
     "iopub.status.busy": "2021-09-04T00:20:00.088366Z",
     "iopub.status.idle": "2021-09-04T00:20:00.090251Z",
     "shell.execute_reply": "2021-09-04T00:20:00.090704Z"
    },
    "papermill": {
     "duration": 0.03681,
     "end_time": "2021-09-04T00:20:00.090831",
     "exception": false,
     "start_time": "2021-09-04T00:20:00.054021",
     "status": "completed"
    },
    "tags": []
   },
   "outputs": [],
   "source": [
    "#hide\n",
    "# g['continent'] = g['continent'].map(mapping['map.continent'])"
   ]
  },
  {
   "cell_type": "code",
   "execution_count": 32,
   "id": "freelance-scout",
   "metadata": {
    "execution": {
     "iopub.execute_input": "2021-09-04T00:20:00.156562Z",
     "iopub.status.busy": "2021-09-04T00:20:00.156060Z",
     "iopub.status.idle": "2021-09-04T00:20:00.158144Z",
     "shell.execute_reply": "2021-09-04T00:20:00.157711Z"
    },
    "papermill": {
     "duration": 0.036391,
     "end_time": "2021-09-04T00:20:00.158258",
     "exception": false,
     "start_time": "2021-09-04T00:20:00.121867",
     "status": "completed"
    },
    "tags": []
   },
   "outputs": [],
   "source": [
    "#hide\n",
    "# g.head()"
   ]
  },
  {
   "cell_type": "code",
   "execution_count": 33,
   "id": "limited-engine",
   "metadata": {
    "execution": {
     "iopub.execute_input": "2021-09-04T00:20:00.223639Z",
     "iopub.status.busy": "2021-09-04T00:20:00.223140Z",
     "iopub.status.idle": "2021-09-04T00:20:00.225437Z",
     "shell.execute_reply": "2021-09-04T00:20:00.225035Z"
    },
    "papermill": {
     "duration": 0.036499,
     "end_time": "2021-09-04T00:20:00.225546",
     "exception": false,
     "start_time": "2021-09-04T00:20:00.189047",
     "status": "completed"
    },
    "tags": []
   },
   "outputs": [],
   "source": [
    "# hide\n",
    "# g['date'] = g['date'].astype('datetime64[ns]')"
   ]
  },
  {
   "cell_type": "code",
   "execution_count": 34,
   "id": "sophisticated-supervisor",
   "metadata": {
    "execution": {
     "iopub.execute_input": "2021-09-04T00:20:00.290966Z",
     "iopub.status.busy": "2021-09-04T00:20:00.290464Z",
     "iopub.status.idle": "2021-09-04T00:20:00.292591Z",
     "shell.execute_reply": "2021-09-04T00:20:00.292161Z"
    },
    "papermill": {
     "duration": 0.036305,
     "end_time": "2021-09-04T00:20:00.292695",
     "exception": false,
     "start_time": "2021-09-04T00:20:00.256390",
     "status": "completed"
    },
    "tags": []
   },
   "outputs": [],
   "source": [
    "#hide\n",
    "# g['date'] = g.date.dt.dayofyear"
   ]
  },
  {
   "cell_type": "code",
   "execution_count": 35,
   "id": "inside-dubai",
   "metadata": {
    "execution": {
     "iopub.execute_input": "2021-09-04T00:20:00.357652Z",
     "iopub.status.busy": "2021-09-04T00:20:00.357143Z",
     "iopub.status.idle": "2021-09-04T00:20:00.359317Z",
     "shell.execute_reply": "2021-09-04T00:20:00.358893Z"
    },
    "papermill": {
     "duration": 0.036116,
     "end_time": "2021-09-04T00:20:00.359424",
     "exception": false,
     "start_time": "2021-09-04T00:20:00.323308",
     "status": "completed"
    },
    "tags": []
   },
   "outputs": [],
   "source": [
    "#hide\n",
    "# g = g.rename(columns= {'continent':'group','country':'name','cases':'value'})"
   ]
  },
  {
   "cell_type": "code",
   "execution_count": 36,
   "id": "fleet-motorcycle",
   "metadata": {
    "execution": {
     "iopub.execute_input": "2021-09-04T00:20:00.424720Z",
     "iopub.status.busy": "2021-09-04T00:20:00.424216Z",
     "iopub.status.idle": "2021-09-04T00:20:00.425979Z",
     "shell.execute_reply": "2021-09-04T00:20:00.426426Z"
    },
    "papermill": {
     "duration": 0.036305,
     "end_time": "2021-09-04T00:20:00.426555",
     "exception": false,
     "start_time": "2021-09-04T00:20:00.390250",
     "status": "completed"
    },
    "tags": []
   },
   "outputs": [],
   "source": [
    "#hide\n",
    "# cols = ['name','group','day','value']"
   ]
  },
  {
   "cell_type": "code",
   "execution_count": 37,
   "id": "continued-sleeping",
   "metadata": {
    "execution": {
     "iopub.execute_input": "2021-09-04T00:20:00.491219Z",
     "iopub.status.busy": "2021-09-04T00:20:00.490718Z",
     "iopub.status.idle": "2021-09-04T00:20:00.492890Z",
     "shell.execute_reply": "2021-09-04T00:20:00.492489Z"
    },
    "papermill": {
     "duration": 0.035866,
     "end_time": "2021-09-04T00:20:00.492995",
     "exception": false,
     "start_time": "2021-09-04T00:20:00.457129",
     "status": "completed"
    },
    "tags": []
   },
   "outputs": [],
   "source": [
    "#hide\n",
    "# g.rename(columns= {'date':'day'},inplace = True)"
   ]
  },
  {
   "cell_type": "code",
   "execution_count": 38,
   "id": "major-fight",
   "metadata": {
    "execution": {
     "iopub.execute_input": "2021-09-04T00:20:00.558472Z",
     "iopub.status.busy": "2021-09-04T00:20:00.557944Z",
     "iopub.status.idle": "2021-09-04T00:20:00.559727Z",
     "shell.execute_reply": "2021-09-04T00:20:00.560152Z"
    },
    "papermill": {
     "duration": 0.036324,
     "end_time": "2021-09-04T00:20:00.560273",
     "exception": false,
     "start_time": "2021-09-04T00:20:00.523949",
     "status": "completed"
    },
    "tags": []
   },
   "outputs": [],
   "source": [
    "#hide\n",
    "# g = g[cols]"
   ]
  },
  {
   "cell_type": "code",
   "execution_count": 39,
   "id": "structured-mobile",
   "metadata": {
    "execution": {
     "iopub.execute_input": "2021-09-04T00:20:00.625616Z",
     "iopub.status.busy": "2021-09-04T00:20:00.625099Z",
     "iopub.status.idle": "2021-09-04T00:20:00.627128Z",
     "shell.execute_reply": "2021-09-04T00:20:00.626697Z"
    },
    "papermill": {
     "duration": 0.036389,
     "end_time": "2021-09-04T00:20:00.627240",
     "exception": false,
     "start_time": "2021-09-04T00:20:00.590851",
     "status": "completed"
    },
    "tags": []
   },
   "outputs": [],
   "source": [
    "# #hide\n",
    "# g = g[g.group.notna()]"
   ]
  },
  {
   "cell_type": "code",
   "execution_count": 40,
   "id": "determined-closing",
   "metadata": {
    "execution": {
     "iopub.execute_input": "2021-09-04T00:20:00.693358Z",
     "iopub.status.busy": "2021-09-04T00:20:00.692832Z",
     "iopub.status.idle": "2021-09-04T00:20:00.694656Z",
     "shell.execute_reply": "2021-09-04T00:20:00.695097Z"
    },
    "papermill": {
     "duration": 0.036921,
     "end_time": "2021-09-04T00:20:00.695229",
     "exception": false,
     "start_time": "2021-09-04T00:20:00.658308",
     "status": "completed"
    },
    "tags": []
   },
   "outputs": [],
   "source": [
    "# #hide\n",
    "# colors = dict(zip(\n",
    "#     [\"Oceania\", \"Europe\", \"Asia\", \"South America\", \"Middle East\", \"North America\", \"Africa\"],\n",
    "#     [\"#adb0ff\", \"#ffb3ff\", \"#90d595\", \"#e48381\", \"#aafbff\", \"#f7bb5f\", \"#eafb50\"]\n",
    "# ))\n",
    "# group_lk = g.set_index('name')['group'].to_dict()"
   ]
  },
  {
   "cell_type": "code",
   "execution_count": null,
   "id": "gross-drinking",
   "metadata": {
    "papermill": {
     "duration": 0.030792,
     "end_time": "2021-09-04T00:20:00.756881",
     "exception": false,
     "start_time": "2021-09-04T00:20:00.726089",
     "status": "completed"
    },
    "tags": []
   },
   "outputs": [],
   "source": []
  },
  {
   "cell_type": "code",
   "execution_count": 41,
   "id": "subject-macintosh",
   "metadata": {
    "execution": {
     "iopub.execute_input": "2021-09-04T00:20:00.823320Z",
     "iopub.status.busy": "2021-09-04T00:20:00.822783Z",
     "iopub.status.idle": "2021-09-04T00:20:00.824638Z",
     "shell.execute_reply": "2021-09-04T00:20:00.825082Z"
    },
    "papermill": {
     "duration": 0.03735,
     "end_time": "2021-09-04T00:20:00.825219",
     "exception": false,
     "start_time": "2021-09-04T00:20:00.787869",
     "status": "completed"
    },
    "tags": []
   },
   "outputs": [],
   "source": [
    "# #hide\n",
    "# fig, ax = plt.subplots(figsize=(15, 8))\n",
    "\n",
    "# def draw_barchart(current_day):\n",
    "#     dff = g[g['day'].eq(current_day)].sort_values(by='value', ascending=True).tail(10)\n",
    "#     ax.clear()\n",
    "#     ax.barh(dff['name'], dff['value'], color=[colors[group_lk[x]] for x in dff['name']])\n",
    "#     dx = dff['value'].max() / 200\n",
    "    \n",
    "#     for i, (value, name) in enumerate(zip(dff['value'], dff['name'])):\n",
    "#         ax.text(value-dx, i,     name,           size=14, weight=600, ha='right', va='bottom')\n",
    "#         ax.text(value-dx, i-.25, group_lk[name], size=10, color='#444444', ha='right', va='baseline')\n",
    "#         ax.text(value+dx, i,     f'{value:,.0f}',  size=14, ha='left',  va='center')\n",
    "#     ax.text(1, 0.4, current_day, transform=ax.transAxes, color='#777777', size=46, ha='right', weight=800)\n",
    "#     ax.text(0, 1.06, 'Population (thousands)', transform=ax.transAxes, size=12, color='#777777')\n",
    "#     ax.xaxis.set_major_formatter(ticker.StrMethodFormatter('{x:,.0f}'))\n",
    "#     ax.xaxis.set_ticks_position('top')\n",
    "#     ax.tick_params(axis='x', colors='#777777', labelsize=12)\n",
    "#     ax.set_yticks([])\n",
    "#     ax.margins(0, 0.01)\n",
    "#     ax.grid(which='major', axis='x', linestyle='-')\n",
    "#     ax.set_axisbelow(True)\n",
    "    \n",
    "#     ax.text(0, 1.15, 'Coronavirus',\n",
    "#             transform=ax.transAxes, size=24, weight=600, ha='left', va='top')\n",
    "# #     ax.text(1, 0, 'by @pratapvardhan; credit @jburnmurdoch', transform=ax.transAxes, color='#777777', ha='right',\n",
    "# #             bbox=dict(facecolor='white', alpha=0.8, edgecolor='white'))\n",
    "#     plt.box(False)"
   ]
  },
  {
   "cell_type": "code",
   "execution_count": 42,
   "id": "sexual-wages",
   "metadata": {
    "execution": {
     "iopub.execute_input": "2021-09-04T00:20:00.890620Z",
     "iopub.status.busy": "2021-09-04T00:20:00.890078Z",
     "iopub.status.idle": "2021-09-04T00:20:00.892234Z",
     "shell.execute_reply": "2021-09-04T00:20:00.891809Z"
    },
    "papermill": {
     "duration": 0.036243,
     "end_time": "2021-09-04T00:20:00.892340",
     "exception": false,
     "start_time": "2021-09-04T00:20:00.856097",
     "status": "completed"
    },
    "tags": []
   },
   "outputs": [],
   "source": [
    "# #hide_input\n",
    "# fig, ax = plt.subplots(figsize=(15, 8))\n",
    "# animator = animation.FuncAnimation(fig, draw_barchart, frames=range(g.day.values.min(), g.day.values.max()))\n",
    "# HTML(animator.to_jshtml())\n",
    "# # or use animator.to_html5_video() or animator.save() "
   ]
  },
  {
   "cell_type": "code",
   "execution_count": null,
   "id": "australian-container",
   "metadata": {
    "papermill": {
     "duration": 0.030655,
     "end_time": "2021-09-04T00:20:00.953894",
     "exception": false,
     "start_time": "2021-09-04T00:20:00.923239",
     "status": "completed"
    },
    "tags": []
   },
   "outputs": [],
   "source": []
  },
  {
   "cell_type": "code",
   "execution_count": null,
   "id": "mediterranean-pontiac",
   "metadata": {
    "papermill": {
     "duration": 0.030567,
     "end_time": "2021-09-04T00:20:01.015080",
     "exception": false,
     "start_time": "2021-09-04T00:20:00.984513",
     "status": "completed"
    },
    "tags": []
   },
   "outputs": [],
   "source": []
  },
  {
   "cell_type": "code",
   "execution_count": null,
   "id": "aging-legislature",
   "metadata": {
    "papermill": {
     "duration": 0.030723,
     "end_time": "2021-09-04T00:20:01.077196",
     "exception": false,
     "start_time": "2021-09-04T00:20:01.046473",
     "status": "completed"
    },
    "tags": []
   },
   "outputs": [],
   "source": []
  }
 ],
 "metadata": {
  "kernelspec": {
   "display_name": "Python 3",
   "language": "python",
   "name": "python3"
  },
  "language_info": {
   "codemirror_mode": {
    "name": "ipython",
    "version": 3
   },
   "file_extension": ".py",
   "mimetype": "text/x-python",
   "name": "python",
   "nbconvert_exporter": "python",
   "pygments_lexer": "ipython3",
   "version": "3.6.14"
  },
  "papermill": {
   "duration": 5.672526,
   "end_time": "2021-09-04T00:20:01.415434",
   "environment_variables": {},
   "exception": null,
   "input_path": "2020-03-21-covid19exp.ipynb",
   "output_path": "2020-03-21-covid19exp.ipynb",
   "parameters": {},
   "start_time": "2021-09-04T00:19:55.742908",
   "version": "2.0.0"
  }
 },
 "nbformat": 4,
 "nbformat_minor": 5
}