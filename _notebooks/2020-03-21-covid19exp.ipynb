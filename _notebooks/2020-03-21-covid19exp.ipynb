{
 "cells": [
  {
   "cell_type": "markdown",
   "metadata": {
    "papermill": {
     "duration": 0.038793,
     "end_time": "2020-12-27T12:08:06.839820",
     "exception": false,
     "start_time": "2020-12-27T12:08:06.801027",
     "status": "completed"
    },
    "tags": []
   },
   "source": [
    "# COVID-19 Case Race\n",
    "> A race chart to see rising cases around the world\n",
    "\n",
    "- author: Hargun Oberoi\n",
    "- image: images/covid-overview.png\n",
    "- hide: false\n",
    "- badges: false"
   ]
  },
  {
   "cell_type": "code",
   "execution_count": 1,
   "metadata": {
    "execution": {
     "iopub.execute_input": "2020-12-27T12:08:06.924205Z",
     "iopub.status.busy": "2020-12-27T12:08:06.923474Z",
     "iopub.status.idle": "2020-12-27T12:08:07.300676Z",
     "shell.execute_reply": "2020-12-27T12:08:07.300136Z"
    },
    "papermill": {
     "duration": 0.425742,
     "end_time": "2020-12-27T12:08:07.300831",
     "exception": false,
     "start_time": "2020-12-27T12:08:06.875089",
     "status": "completed"
    },
    "tags": []
   },
   "outputs": [],
   "source": [
    "#hide\n",
    "import numpy as np\n",
    "import pandas as pd\n",
    "from jinja2 import Template\n",
    "from IPython.display import HTML"
   ]
  },
  {
   "cell_type": "code",
   "execution_count": 2,
   "metadata": {
    "execution": {
     "iopub.execute_input": "2020-12-27T12:08:07.378565Z",
     "iopub.status.busy": "2020-12-27T12:08:07.377894Z",
     "iopub.status.idle": "2020-12-27T12:08:07.380068Z",
     "shell.execute_reply": "2020-12-27T12:08:07.380676Z"
    },
    "papermill": {
     "duration": 0.042495,
     "end_time": "2020-12-27T12:08:07.380865",
     "exception": false,
     "start_time": "2020-12-27T12:08:07.338370",
     "status": "completed"
    },
    "tags": []
   },
   "outputs": [],
   "source": [
    "#hide\n",
    "\n",
    "# FETCH\n",
    "base_url = 'https://raw.githubusercontent.com/pratapvardhan/notebooks/master/covid19/'\n",
    "paths = {\n",
    "    'mapping': base_url + 'mapping_countries.csv',\n",
    "    'overview': base_url + 'overview.tpl'\n",
    "}"
   ]
  },
  {
   "cell_type": "code",
   "execution_count": 3,
   "metadata": {
    "execution": {
     "iopub.execute_input": "2020-12-27T12:08:07.461021Z",
     "iopub.status.busy": "2020-12-27T12:08:07.460313Z",
     "iopub.status.idle": "2020-12-27T12:08:07.462906Z",
     "shell.execute_reply": "2020-12-27T12:08:07.463713Z"
    },
    "papermill": {
     "duration": 0.048003,
     "end_time": "2020-12-27T12:08:07.463879",
     "exception": false,
     "start_time": "2020-12-27T12:08:07.415876",
     "status": "completed"
    },
    "tags": []
   },
   "outputs": [
    {
     "data": {
      "text/plain": [
       "'https://raw.githubusercontent.com/pratapvardhan/notebooks/master/covid19/mapping_countries.csv'"
      ]
     },
     "execution_count": 3,
     "metadata": {},
     "output_type": "execute_result"
    }
   ],
   "source": [
    "#hide\n",
    "paths['mapping']"
   ]
  },
  {
   "cell_type": "code",
   "execution_count": 4,
   "metadata": {
    "execution": {
     "iopub.execute_input": "2020-12-27T12:08:07.543235Z",
     "iopub.status.busy": "2020-12-27T12:08:07.542580Z",
     "iopub.status.idle": "2020-12-27T12:08:07.544477Z",
     "shell.execute_reply": "2020-12-27T12:08:07.545113Z"
    },
    "papermill": {
     "duration": 0.043525,
     "end_time": "2020-12-27T12:08:07.545267",
     "exception": false,
     "start_time": "2020-12-27T12:08:07.501742",
     "status": "completed"
    },
    "tags": []
   },
   "outputs": [],
   "source": [
    "#hide\n",
    "def get_mappings(url):\n",
    "    df = pd.read_csv(url)\n",
    "    return {\n",
    "        'df': df,\n",
    "        'replace.country': dict(df.dropna(subset=['Name']).set_index('Country')['Name']),\n",
    "        'map.continent': dict(df.set_index('Name')['Continent'])\n",
    "    }"
   ]
  },
  {
   "cell_type": "code",
   "execution_count": 5,
   "metadata": {
    "execution": {
     "iopub.execute_input": "2020-12-27T12:08:07.618116Z",
     "iopub.status.busy": "2020-12-27T12:08:07.617431Z",
     "iopub.status.idle": "2020-12-27T12:08:07.678828Z",
     "shell.execute_reply": "2020-12-27T12:08:07.678224Z"
    },
    "papermill": {
     "duration": 0.100305,
     "end_time": "2020-12-27T12:08:07.678982",
     "exception": false,
     "start_time": "2020-12-27T12:08:07.578677",
     "status": "completed"
    },
    "tags": []
   },
   "outputs": [],
   "source": [
    "#hide\n",
    "mapping = get_mappings(paths['mapping'])"
   ]
  },
  {
   "cell_type": "code",
   "execution_count": 6,
   "metadata": {
    "execution": {
     "iopub.execute_input": "2020-12-27T12:08:07.755332Z",
     "iopub.status.busy": "2020-12-27T12:08:07.754636Z",
     "iopub.status.idle": "2020-12-27T12:08:07.757284Z",
     "shell.execute_reply": "2020-12-27T12:08:07.756549Z"
    },
    "papermill": {
     "duration": 0.043252,
     "end_time": "2020-12-27T12:08:07.757430",
     "exception": false,
     "start_time": "2020-12-27T12:08:07.714178",
     "status": "completed"
    },
    "tags": []
   },
   "outputs": [],
   "source": [
    "#hide\n",
    "def get_template(path):\n",
    "    from urllib.parse import urlparse\n",
    "    if bool(urlparse(path).netloc):\n",
    "        from urllib.request import urlopen\n",
    "        return urlopen(path).read().decode('utf8')\n",
    "    return open(path).read()"
   ]
  },
  {
   "cell_type": "code",
   "execution_count": 7,
   "metadata": {
    "execution": {
     "iopub.execute_input": "2020-12-27T12:08:07.836771Z",
     "iopub.status.busy": "2020-12-27T12:08:07.836065Z",
     "iopub.status.idle": "2020-12-27T12:08:07.838204Z",
     "shell.execute_reply": "2020-12-27T12:08:07.838994Z"
    },
    "papermill": {
     "duration": 0.04473,
     "end_time": "2020-12-27T12:08:07.839160",
     "exception": false,
     "start_time": "2020-12-27T12:08:07.794430",
     "status": "completed"
    },
    "tags": []
   },
   "outputs": [],
   "source": [
    "#hide\n",
    "def get_frame(name):\n",
    "    url = (\n",
    "        'https://raw.githubusercontent.com/CSSEGISandData/COVID-19/master/csse_covid_19_data/'\n",
    "        f'csse_covid_19_time_series/time_series_covid19_{name}_global.csv')\n",
    "    df = pd.read_csv(url)\n",
    "    # rename countries\n",
    "    df['Country/Region'] = df['Country/Region'].replace(mapping['replace.country'])\n",
    "    return df"
   ]
  },
  {
   "cell_type": "code",
   "execution_count": 8,
   "metadata": {
    "execution": {
     "iopub.execute_input": "2020-12-27T12:08:07.919401Z",
     "iopub.status.busy": "2020-12-27T12:08:07.918600Z",
     "iopub.status.idle": "2020-12-27T12:08:07.921222Z",
     "shell.execute_reply": "2020-12-27T12:08:07.920525Z"
    },
    "papermill": {
     "duration": 0.046349,
     "end_time": "2020-12-27T12:08:07.921365",
     "exception": false,
     "start_time": "2020-12-27T12:08:07.875016",
     "status": "completed"
    },
    "tags": []
   },
   "outputs": [],
   "source": [
    "#hide\n",
    "def get_dates(df):\n",
    "    dt_cols = df.columns[~df.columns.isin(['Province/State', 'Country/Region', 'Lat', 'Long'])]\n",
    "    LAST_DATE_I = -1\n",
    "    # sometimes last column may be empty, then go backwards\n",
    "    for i in range(-1, -len(dt_cols), -1):\n",
    "        if not df[dt_cols[i]].fillna(0).eq(0).all():\n",
    "            LAST_DATE_I = i\n",
    "            break\n",
    "    return LAST_DATE_I, dt_cols"
   ]
  },
  {
   "cell_type": "code",
   "execution_count": 9,
   "metadata": {
    "execution": {
     "iopub.execute_input": "2020-12-27T12:08:07.995771Z",
     "iopub.status.busy": "2020-12-27T12:08:07.995067Z",
     "iopub.status.idle": "2020-12-27T12:08:08.364958Z",
     "shell.execute_reply": "2020-12-27T12:08:08.364314Z"
    },
    "papermill": {
     "duration": 0.409096,
     "end_time": "2020-12-27T12:08:08.365110",
     "exception": false,
     "start_time": "2020-12-27T12:08:07.956014",
     "status": "completed"
    },
    "tags": []
   },
   "outputs": [],
   "source": [
    "#hide\n",
    "COL_REGION = 'Country/Region'\n",
    "# Confirmed, Recovered, Deaths\n",
    "df = get_frame('confirmed')\n",
    "# dft_: timeseries, dfc_: today country agg\n",
    "dft_cases = df\n",
    "dft_deaths = get_frame('deaths')\n",
    "dft_recovered = get_frame('recovered')\n",
    "LAST_DATE_I, dt_cols = get_dates(df)"
   ]
  },
  {
   "cell_type": "code",
   "execution_count": 10,
   "metadata": {
    "execution": {
     "iopub.execute_input": "2020-12-27T12:08:08.443373Z",
     "iopub.status.busy": "2020-12-27T12:08:08.442669Z",
     "iopub.status.idle": "2020-12-27T12:08:08.445693Z",
     "shell.execute_reply": "2020-12-27T12:08:08.445105Z"
    },
    "papermill": {
     "duration": 0.044938,
     "end_time": "2020-12-27T12:08:08.445835",
     "exception": false,
     "start_time": "2020-12-27T12:08:08.400897",
     "status": "completed"
    },
    "tags": []
   },
   "outputs": [],
   "source": [
    "#hide\n",
    "LAST_DATE_I, dt_cols = get_dates(df)\n",
    "dt_today =dt_cols[LAST_DATE_I]\n",
    "# dt_5day = dt_cols[LAST_DATE_I - 5]\n",
    "dt_yday = dt_cols[LAST_DATE_I - 1]"
   ]
  },
  {
   "cell_type": "code",
   "execution_count": 11,
   "metadata": {
    "execution": {
     "iopub.execute_input": "2020-12-27T12:08:08.526417Z",
     "iopub.status.busy": "2020-12-27T12:08:08.525554Z",
     "iopub.status.idle": "2020-12-27T12:08:08.535415Z",
     "shell.execute_reply": "2020-12-27T12:08:08.535960Z"
    },
    "papermill": {
     "duration": 0.05596,
     "end_time": "2020-12-27T12:08:08.536141",
     "exception": false,
     "start_time": "2020-12-27T12:08:08.480181",
     "status": "completed"
    },
    "tags": []
   },
   "outputs": [],
   "source": [
    "#hide\n",
    "dfc_cases = dft_cases.groupby(COL_REGION)[dt_today].sum()\n",
    "dfc_deaths = dft_deaths.groupby(COL_REGION)[dt_today].sum()\n",
    "# dfp_cases = dft_cases.groupby(COL_REGION)[dt_5day].sum()\n",
    "# dfp_deaths = dft_deaths.groupby(COL_REGION)[dt_5day].sum()\n",
    "dfp_cases = dft_cases.groupby(COL_REGION)[dt_yday].sum()\n",
    "dfp_deaths = dft_deaths.groupby(COL_REGION)[dt_yday].sum()"
   ]
  },
  {
   "cell_type": "code",
   "execution_count": 12,
   "metadata": {
    "execution": {
     "iopub.execute_input": "2020-12-27T12:08:08.615090Z",
     "iopub.status.busy": "2020-12-27T12:08:08.614376Z",
     "iopub.status.idle": "2020-12-27T12:08:08.619428Z",
     "shell.execute_reply": "2020-12-27T12:08:08.620699Z"
    },
    "papermill": {
     "duration": 0.048269,
     "end_time": "2020-12-27T12:08:08.620861",
     "exception": false,
     "start_time": "2020-12-27T12:08:08.572592",
     "status": "completed"
    },
    "tags": []
   },
   "outputs": [],
   "source": [
    "#hide\n",
    "df_table = (pd.DataFrame(dict(Cases = dfc_cases, Deaths = dfc_deaths, PCases = dfp_cases, PDeaths = dfp_deaths))\n",
    "            .sort_values(by = ['Cases','Deaths'], ascending = [False, False])\n",
    "            .reset_index())"
   ]
  },
  {
   "cell_type": "code",
   "execution_count": 13,
   "metadata": {
    "execution": {
     "iopub.execute_input": "2020-12-27T12:08:08.728584Z",
     "iopub.status.busy": "2020-12-27T12:08:08.722799Z",
     "iopub.status.idle": "2020-12-27T12:08:08.732182Z",
     "shell.execute_reply": "2020-12-27T12:08:08.732846Z"
    },
    "papermill": {
     "duration": 0.076094,
     "end_time": "2020-12-27T12:08:08.733075",
     "exception": false,
     "start_time": "2020-12-27T12:08:08.656981",
     "status": "completed"
    },
    "tags": []
   },
   "outputs": [
    {
     "data": {
      "text/html": [
       "<div>\n",
       "<style scoped>\n",
       "    .dataframe tbody tr th:only-of-type {\n",
       "        vertical-align: middle;\n",
       "    }\n",
       "\n",
       "    .dataframe tbody tr th {\n",
       "        vertical-align: top;\n",
       "    }\n",
       "\n",
       "    .dataframe thead th {\n",
       "        text-align: right;\n",
       "    }\n",
       "</style>\n",
       "<table border=\"1\" class=\"dataframe\">\n",
       "  <thead>\n",
       "    <tr style=\"text-align: right;\">\n",
       "      <th></th>\n",
       "      <th>Country/Region</th>\n",
       "      <th>Cases</th>\n",
       "      <th>Deaths</th>\n",
       "      <th>PCases</th>\n",
       "      <th>PDeaths</th>\n",
       "      <th>Cases (+)</th>\n",
       "      <th>Deaths (+)</th>\n",
       "      <th>Fatality Rate</th>\n",
       "      <th>Continent</th>\n",
       "    </tr>\n",
       "  </thead>\n",
       "  <tbody>\n",
       "    <tr>\n",
       "      <th>0</th>\n",
       "      <td>US</td>\n",
       "      <td>18982634</td>\n",
       "      <td>331909</td>\n",
       "      <td>18756360</td>\n",
       "      <td>330246</td>\n",
       "      <td>226274</td>\n",
       "      <td>1663</td>\n",
       "      <td>1.75</td>\n",
       "      <td>North America</td>\n",
       "    </tr>\n",
       "    <tr>\n",
       "      <th>1</th>\n",
       "      <td>India</td>\n",
       "      <td>10187850</td>\n",
       "      <td>147622</td>\n",
       "      <td>10169118</td>\n",
       "      <td>147343</td>\n",
       "      <td>18732</td>\n",
       "      <td>279</td>\n",
       "      <td>1.45</td>\n",
       "      <td>Asia</td>\n",
       "    </tr>\n",
       "    <tr>\n",
       "      <th>2</th>\n",
       "      <td>Brazil</td>\n",
       "      <td>7465806</td>\n",
       "      <td>190795</td>\n",
       "      <td>7448560</td>\n",
       "      <td>190488</td>\n",
       "      <td>17246</td>\n",
       "      <td>307</td>\n",
       "      <td>2.56</td>\n",
       "      <td>South America</td>\n",
       "    </tr>\n",
       "    <tr>\n",
       "      <th>3</th>\n",
       "      <td>Russia</td>\n",
       "      <td>2992123</td>\n",
       "      <td>53539</td>\n",
       "      <td>2963290</td>\n",
       "      <td>52985</td>\n",
       "      <td>28833</td>\n",
       "      <td>554</td>\n",
       "      <td>1.79</td>\n",
       "      <td>Europe</td>\n",
       "    </tr>\n",
       "    <tr>\n",
       "      <th>4</th>\n",
       "      <td>France</td>\n",
       "      <td>2607688</td>\n",
       "      <td>62694</td>\n",
       "      <td>2604595</td>\n",
       "      <td>62548</td>\n",
       "      <td>3093</td>\n",
       "      <td>146</td>\n",
       "      <td>2.40</td>\n",
       "      <td>Europe</td>\n",
       "    </tr>\n",
       "  </tbody>\n",
       "</table>\n",
       "</div>"
      ],
      "text/plain": [
       "  Country/Region     Cases  Deaths    PCases  PDeaths  Cases (+)  Deaths (+)  \\\n",
       "0             US  18982634  331909  18756360   330246     226274        1663   \n",
       "1          India  10187850  147622  10169118   147343      18732         279   \n",
       "2         Brazil   7465806  190795   7448560   190488      17246         307   \n",
       "3         Russia   2992123   53539   2963290    52985      28833         554   \n",
       "4         France   2607688   62694   2604595    62548       3093         146   \n",
       "\n",
       "   Fatality Rate      Continent  \n",
       "0           1.75  North America  \n",
       "1           1.45           Asia  \n",
       "2           2.56  South America  \n",
       "3           1.79         Europe  \n",
       "4           2.40         Europe  "
      ]
     },
     "execution_count": 13,
     "metadata": {},
     "output_type": "execute_result"
    }
   ],
   "source": [
    "#hide\n",
    "for c in 'Cases, Deaths'.split(', '):\n",
    "    df_table[f'{c} (+)'] = (df_table[c] - df_table[f'P{c}']).clip(0)\n",
    "    #Clip ça veut dire, les chiffres negatif sont interdit\n",
    "df_table['Fatality Rate'] = (100* df_table['Deaths']/ df_table['Cases']).round(2)\n",
    "df_table['Continent'] = df_table['Country/Region'].map(mapping['map.continent'])\n",
    "df_table.head(5)"
   ]
  },
  {
   "cell_type": "code",
   "execution_count": 14,
   "metadata": {
    "execution": {
     "iopub.execute_input": "2020-12-27T12:08:08.812090Z",
     "iopub.status.busy": "2020-12-27T12:08:08.811397Z",
     "iopub.status.idle": "2020-12-27T12:08:08.817664Z",
     "shell.execute_reply": "2020-12-27T12:08:08.818274Z"
    },
    "papermill": {
     "duration": 0.051236,
     "end_time": "2020-12-27T12:08:08.818457",
     "exception": false,
     "start_time": "2020-12-27T12:08:08.767221",
     "status": "completed"
    },
    "tags": []
   },
   "outputs": [],
   "source": [
    "#hide\n",
    "#delete problematic countries from table\n",
    "df_table = df_table[~df_table['Country/Region'].isin(['Cape Verde', 'Cruise Ship', 'Kosovo'])]"
   ]
  },
  {
   "cell_type": "code",
   "execution_count": 15,
   "metadata": {
    "execution": {
     "iopub.execute_input": "2020-12-27T12:08:08.898899Z",
     "iopub.status.busy": "2020-12-27T12:08:08.898059Z",
     "iopub.status.idle": "2020-12-27T12:08:08.920774Z",
     "shell.execute_reply": "2020-12-27T12:08:08.920088Z"
    },
    "papermill": {
     "duration": 0.067173,
     "end_time": "2020-12-27T12:08:08.920926",
     "exception": false,
     "start_time": "2020-12-27T12:08:08.853753",
     "status": "completed"
    },
    "tags": []
   },
   "outputs": [
    {
     "data": {
      "text/html": [
       "<div>\n",
       "<style scoped>\n",
       "    .dataframe tbody tr th:only-of-type {\n",
       "        vertical-align: middle;\n",
       "    }\n",
       "\n",
       "    .dataframe tbody tr th {\n",
       "        vertical-align: top;\n",
       "    }\n",
       "\n",
       "    .dataframe thead th {\n",
       "        text-align: right;\n",
       "    }\n",
       "</style>\n",
       "<table border=\"1\" class=\"dataframe\">\n",
       "  <thead>\n",
       "    <tr style=\"text-align: right;\">\n",
       "      <th></th>\n",
       "      <th>Country/Region</th>\n",
       "      <th>Cases</th>\n",
       "      <th>Deaths</th>\n",
       "      <th>PCases</th>\n",
       "      <th>PDeaths</th>\n",
       "      <th>Cases (+)</th>\n",
       "      <th>Deaths (+)</th>\n",
       "      <th>Fatality Rate</th>\n",
       "      <th>Continent</th>\n",
       "    </tr>\n",
       "  </thead>\n",
       "  <tbody>\n",
       "    <tr>\n",
       "      <th>0</th>\n",
       "      <td>US</td>\n",
       "      <td>18982634</td>\n",
       "      <td>331909</td>\n",
       "      <td>18756360</td>\n",
       "      <td>330246</td>\n",
       "      <td>226274</td>\n",
       "      <td>1663</td>\n",
       "      <td>1.7</td>\n",
       "      <td>North America</td>\n",
       "    </tr>\n",
       "    <tr>\n",
       "      <th>1</th>\n",
       "      <td>India</td>\n",
       "      <td>10187850</td>\n",
       "      <td>147622</td>\n",
       "      <td>10169118</td>\n",
       "      <td>147343</td>\n",
       "      <td>18732</td>\n",
       "      <td>279</td>\n",
       "      <td>1.4</td>\n",
       "      <td>Asia</td>\n",
       "    </tr>\n",
       "    <tr>\n",
       "      <th>2</th>\n",
       "      <td>Brazil</td>\n",
       "      <td>7465806</td>\n",
       "      <td>190795</td>\n",
       "      <td>7448560</td>\n",
       "      <td>190488</td>\n",
       "      <td>17246</td>\n",
       "      <td>307</td>\n",
       "      <td>2.6</td>\n",
       "      <td>South America</td>\n",
       "    </tr>\n",
       "    <tr>\n",
       "      <th>3</th>\n",
       "      <td>Russia</td>\n",
       "      <td>2992123</td>\n",
       "      <td>53539</td>\n",
       "      <td>2963290</td>\n",
       "      <td>52985</td>\n",
       "      <td>28833</td>\n",
       "      <td>554</td>\n",
       "      <td>1.8</td>\n",
       "      <td>Europe</td>\n",
       "    </tr>\n",
       "    <tr>\n",
       "      <th>4</th>\n",
       "      <td>France</td>\n",
       "      <td>2607688</td>\n",
       "      <td>62694</td>\n",
       "      <td>2604595</td>\n",
       "      <td>62548</td>\n",
       "      <td>3093</td>\n",
       "      <td>146</td>\n",
       "      <td>2.4</td>\n",
       "      <td>Europe</td>\n",
       "    </tr>\n",
       "  </tbody>\n",
       "</table>\n",
       "</div>"
      ],
      "text/plain": [
       "  Country/Region     Cases  Deaths    PCases  PDeaths  Cases (+)  Deaths (+)  \\\n",
       "0             US  18982634  331909  18756360   330246     226274        1663   \n",
       "1          India  10187850  147622  10169118   147343      18732         279   \n",
       "2         Brazil   7465806  190795   7448560   190488      17246         307   \n",
       "3         Russia   2992123   53539   2963290    52985      28833         554   \n",
       "4         France   2607688   62694   2604595    62548       3093         146   \n",
       "\n",
       "   Fatality Rate      Continent  \n",
       "0            1.7  North America  \n",
       "1            1.4           Asia  \n",
       "2            2.6  South America  \n",
       "3            1.8         Europe  \n",
       "4            2.4         Europe  "
      ]
     },
     "execution_count": 15,
     "metadata": {},
     "output_type": "execute_result"
    }
   ],
   "source": [
    "#hide\n",
    "df_table = (pd.DataFrame(dict(Cases=dfc_cases, Deaths=dfc_deaths, PCases=dfp_cases, PDeaths=dfp_deaths))\n",
    "             .sort_values(by=['Cases', 'Deaths'], ascending=[False, False])\n",
    "             .reset_index())\n",
    "df_table.rename(columns={'index': 'Country/Region'}, inplace=True)\n",
    "for c in 'Cases, Deaths'.split(', '):\n",
    "    df_table[f'{c} (+)'] = (df_table[c] - df_table[f'P{c}']).clip(0)  # DATA BUG\n",
    "df_table['Fatality Rate'] = (100 * df_table['Deaths'] / df_table['Cases']).round(1)\n",
    "df_table['Continent'] = df_table['Country/Region'].map(mapping['map.continent'])\n",
    "df_table.head(5)"
   ]
  },
  {
   "cell_type": "code",
   "execution_count": 16,
   "metadata": {
    "execution": {
     "iopub.execute_input": "2020-12-27T12:08:09.001026Z",
     "iopub.status.busy": "2020-12-27T12:08:09.000359Z",
     "iopub.status.idle": "2020-12-27T12:08:09.003207Z",
     "shell.execute_reply": "2020-12-27T12:08:09.002575Z"
    },
    "papermill": {
     "duration": 0.04561,
     "end_time": "2020-12-27T12:08:09.003343",
     "exception": false,
     "start_time": "2020-12-27T12:08:08.957733",
     "status": "completed"
    },
    "tags": []
   },
   "outputs": [],
   "source": [
    "#hide\n",
    "#delete problematic countries from table\n",
    "df_table = df_table[~df_table['Country/Region'].isin(['Cape Verde', 'Cruise Ship', 'Kosovo'])]"
   ]
  },
  {
   "cell_type": "code",
   "execution_count": 17,
   "metadata": {
    "execution": {
     "iopub.execute_input": "2020-12-27T12:08:09.089949Z",
     "iopub.status.busy": "2020-12-27T12:08:09.089213Z",
     "iopub.status.idle": "2020-12-27T12:08:09.098924Z",
     "shell.execute_reply": "2020-12-27T12:08:09.099542Z"
    },
    "papermill": {
     "duration": 0.061016,
     "end_time": "2020-12-27T12:08:09.099712",
     "exception": false,
     "start_time": "2020-12-27T12:08:09.038696",
     "status": "completed"
    },
    "tags": []
   },
   "outputs": [],
   "source": [
    "#hide\n",
    "metrics = [df_table.columns[index] for index in [1,2,5,6]]\n",
    "# s_china = df_table[df_table['Country/Region'].eq('China')][metrics].sum().add_prefix('China ')\n",
    "s_us = df_table[df_table['Country/Region'].eq('US')][metrics].sum().add_prefix('US ')\n",
    "s_eu = df_table[df_table['Continent'].eq('Europe')][metrics].sum().add_prefix('EU ')\n",
    "s_ind = df_table[df_table['Country/Region'].eq('India')][metrics].sum().add_prefix('India ')\n",
    "summary = {'updated': pd.to_datetime(dt_today), 'since': pd.to_datetime(dt_yday)}\n",
    "summary = {'updated': pd.to_datetime(dt_today), 'since': pd.to_datetime(dt_yday)}\n",
    "summary = {**summary, **df_table[metrics].sum(), **s_ind, **s_us, **s_eu}"
   ]
  },
  {
   "cell_type": "code",
   "execution_count": 18,
   "metadata": {
    "execution": {
     "iopub.execute_input": "2020-12-27T12:08:09.181382Z",
     "iopub.status.busy": "2020-12-27T12:08:09.180682Z",
     "iopub.status.idle": "2020-12-27T12:08:09.192943Z",
     "shell.execute_reply": "2020-12-27T12:08:09.192384Z"
    },
    "papermill": {
     "duration": 0.057791,
     "end_time": "2020-12-27T12:08:09.193108",
     "exception": false,
     "start_time": "2020-12-27T12:08:09.135317",
     "status": "completed"
    },
    "tags": []
   },
   "outputs": [],
   "source": [
    "#hide\n",
    "dft_ct_new_cases = dft_cases.groupby(COL_REGION)[dt_cols].sum().diff(axis=1).fillna(0).astype(int)"
   ]
  },
  {
   "cell_type": "code",
   "execution_count": 19,
   "metadata": {
    "execution": {
     "iopub.execute_input": "2020-12-27T12:08:09.269711Z",
     "iopub.status.busy": "2020-12-27T12:08:09.269083Z",
     "iopub.status.idle": "2020-12-27T12:08:09.271170Z",
     "shell.execute_reply": "2020-12-27T12:08:09.271810Z"
    },
    "papermill": {
     "duration": 0.043758,
     "end_time": "2020-12-27T12:08:09.271995",
     "exception": false,
     "start_time": "2020-12-27T12:08:09.228237",
     "status": "completed"
    },
    "tags": []
   },
   "outputs": [],
   "source": [
    "#hide\n",
    "everydaycases = dft_ct_new_cases.cumsum(axis=1)"
   ]
  },
  {
   "cell_type": "code",
   "execution_count": 20,
   "metadata": {
    "execution": {
     "iopub.execute_input": "2020-12-27T12:08:09.345591Z",
     "iopub.status.busy": "2020-12-27T12:08:09.344927Z",
     "iopub.status.idle": "2020-12-27T12:08:10.453718Z",
     "shell.execute_reply": "2020-12-27T12:08:10.453058Z"
    },
    "papermill": {
     "duration": 1.148286,
     "end_time": "2020-12-27T12:08:10.453901",
     "exception": false,
     "start_time": "2020-12-27T12:08:09.305615",
     "status": "completed"
    },
    "tags": []
   },
   "outputs": [],
   "source": [
    "#hide\n",
    "import pandas as pd\n",
    "import matplotlib.pyplot as plt\n",
    "import matplotlib.ticker as ticker\n",
    "import matplotlib.animation as animation\n",
    "from IPython.display import HTML"
   ]
  },
  {
   "cell_type": "code",
   "execution_count": 21,
   "metadata": {
    "execution": {
     "iopub.execute_input": "2020-12-27T12:08:10.531428Z",
     "iopub.status.busy": "2020-12-27T12:08:10.530684Z",
     "iopub.status.idle": "2020-12-27T12:08:10.535522Z",
     "shell.execute_reply": "2020-12-27T12:08:10.536177Z"
    },
    "papermill": {
     "duration": 0.046649,
     "end_time": "2020-12-27T12:08:10.536344",
     "exception": false,
     "start_time": "2020-12-27T12:08:10.489695",
     "status": "completed"
    },
    "tags": []
   },
   "outputs": [],
   "source": [
    "#hide\n",
    "t = everydaycases.stack()"
   ]
  },
  {
   "cell_type": "code",
   "execution_count": 22,
   "metadata": {
    "execution": {
     "iopub.execute_input": "2020-12-27T12:08:10.614792Z",
     "iopub.status.busy": "2020-12-27T12:08:10.614028Z",
     "iopub.status.idle": "2020-12-27T12:08:10.621895Z",
     "shell.execute_reply": "2020-12-27T12:08:10.621247Z"
    },
    "papermill": {
     "duration": 0.049287,
     "end_time": "2020-12-27T12:08:10.622036",
     "exception": false,
     "start_time": "2020-12-27T12:08:10.572749",
     "status": "completed"
    },
    "tags": []
   },
   "outputs": [],
   "source": [
    "#hide\n",
    "g = t.reset_index(['Country/Region'])"
   ]
  },
  {
   "cell_type": "code",
   "execution_count": 23,
   "metadata": {
    "execution": {
     "iopub.execute_input": "2020-12-27T12:08:10.704650Z",
     "iopub.status.busy": "2020-12-27T12:08:10.703918Z",
     "iopub.status.idle": "2020-12-27T12:08:10.707313Z",
     "shell.execute_reply": "2020-12-27T12:08:10.705930Z"
    },
    "papermill": {
     "duration": 0.048884,
     "end_time": "2020-12-27T12:08:10.707733",
     "exception": false,
     "start_time": "2020-12-27T12:08:10.658849",
     "status": "completed"
    },
    "tags": []
   },
   "outputs": [],
   "source": [
    "#hide\n",
    "g.index.name = 'date'"
   ]
  },
  {
   "cell_type": "code",
   "execution_count": 24,
   "metadata": {
    "execution": {
     "iopub.execute_input": "2020-12-27T12:08:10.789795Z",
     "iopub.status.busy": "2020-12-27T12:08:10.789126Z",
     "iopub.status.idle": "2020-12-27T12:08:10.791236Z",
     "shell.execute_reply": "2020-12-27T12:08:10.791983Z"
    },
    "papermill": {
     "duration": 0.043324,
     "end_time": "2020-12-27T12:08:10.792158",
     "exception": false,
     "start_time": "2020-12-27T12:08:10.748834",
     "status": "completed"
    },
    "tags": []
   },
   "outputs": [],
   "source": [
    "# #hide\n",
    "# g = g.reset_index(['date'])"
   ]
  },
  {
   "cell_type": "code",
   "execution_count": 25,
   "metadata": {
    "execution": {
     "iopub.execute_input": "2020-12-27T12:08:10.869963Z",
     "iopub.status.busy": "2020-12-27T12:08:10.869138Z",
     "iopub.status.idle": "2020-12-27T12:08:10.871328Z",
     "shell.execute_reply": "2020-12-27T12:08:10.871940Z"
    },
    "papermill": {
     "duration": 0.043642,
     "end_time": "2020-12-27T12:08:10.872121",
     "exception": false,
     "start_time": "2020-12-27T12:08:10.828479",
     "status": "completed"
    },
    "tags": []
   },
   "outputs": [],
   "source": [
    "#hide\n",
    "# g.head()"
   ]
  },
  {
   "cell_type": "code",
   "execution_count": 26,
   "metadata": {
    "execution": {
     "iopub.execute_input": "2020-12-27T12:08:10.949414Z",
     "iopub.status.busy": "2020-12-27T12:08:10.948725Z",
     "iopub.status.idle": "2020-12-27T12:08:10.950617Z",
     "shell.execute_reply": "2020-12-27T12:08:10.951297Z"
    },
    "papermill": {
     "duration": 0.042486,
     "end_time": "2020-12-27T12:08:10.951459",
     "exception": false,
     "start_time": "2020-12-27T12:08:10.908973",
     "status": "completed"
    },
    "tags": []
   },
   "outputs": [],
   "source": [
    "#hide\n",
    "# g.columns = ['date','country','cases']"
   ]
  },
  {
   "cell_type": "code",
   "execution_count": 27,
   "metadata": {
    "execution": {
     "iopub.execute_input": "2020-12-27T12:08:11.027230Z",
     "iopub.status.busy": "2020-12-27T12:08:11.026531Z",
     "iopub.status.idle": "2020-12-27T12:08:11.028209Z",
     "shell.execute_reply": "2020-12-27T12:08:11.028863Z"
    },
    "papermill": {
     "duration": 0.042094,
     "end_time": "2020-12-27T12:08:11.029044",
     "exception": false,
     "start_time": "2020-12-27T12:08:10.986950",
     "status": "completed"
    },
    "tags": []
   },
   "outputs": [],
   "source": [
    "#hide\n",
    "# g['continent'] = g.country"
   ]
  },
  {
   "cell_type": "code",
   "execution_count": 28,
   "metadata": {
    "execution": {
     "iopub.execute_input": "2020-12-27T12:08:11.108669Z",
     "iopub.status.busy": "2020-12-27T12:08:11.107984Z",
     "iopub.status.idle": "2020-12-27T12:08:11.109932Z",
     "shell.execute_reply": "2020-12-27T12:08:11.110558Z"
    },
    "papermill": {
     "duration": 0.044261,
     "end_time": "2020-12-27T12:08:11.110723",
     "exception": false,
     "start_time": "2020-12-27T12:08:11.066462",
     "status": "completed"
    },
    "tags": []
   },
   "outputs": [],
   "source": [
    "#hide\n",
    "# cols = list(g.columns.values)"
   ]
  },
  {
   "cell_type": "code",
   "execution_count": 29,
   "metadata": {
    "execution": {
     "iopub.execute_input": "2020-12-27T12:08:11.186618Z",
     "iopub.status.busy": "2020-12-27T12:08:11.185916Z",
     "iopub.status.idle": "2020-12-27T12:08:11.188422Z",
     "shell.execute_reply": "2020-12-27T12:08:11.187808Z"
    },
    "papermill": {
     "duration": 0.042012,
     "end_time": "2020-12-27T12:08:11.188564",
     "exception": false,
     "start_time": "2020-12-27T12:08:11.146552",
     "status": "completed"
    },
    "tags": []
   },
   "outputs": [],
   "source": [
    "#hide\n",
    "# cols.insert(0, cols.pop())"
   ]
  },
  {
   "cell_type": "code",
   "execution_count": 30,
   "metadata": {
    "execution": {
     "iopub.execute_input": "2020-12-27T12:08:11.267770Z",
     "iopub.status.busy": "2020-12-27T12:08:11.266992Z",
     "iopub.status.idle": "2020-12-27T12:08:11.269113Z",
     "shell.execute_reply": "2020-12-27T12:08:11.269791Z"
    },
    "papermill": {
     "duration": 0.044147,
     "end_time": "2020-12-27T12:08:11.270000",
     "exception": false,
     "start_time": "2020-12-27T12:08:11.225853",
     "status": "completed"
    },
    "tags": []
   },
   "outputs": [],
   "source": [
    "#hide\n",
    "# g = g[cols]"
   ]
  },
  {
   "cell_type": "code",
   "execution_count": 31,
   "metadata": {
    "execution": {
     "iopub.execute_input": "2020-12-27T12:08:11.352806Z",
     "iopub.status.busy": "2020-12-27T12:08:11.352076Z",
     "iopub.status.idle": "2020-12-27T12:08:11.355166Z",
     "shell.execute_reply": "2020-12-27T12:08:11.354368Z"
    },
    "papermill": {
     "duration": 0.048435,
     "end_time": "2020-12-27T12:08:11.355319",
     "exception": false,
     "start_time": "2020-12-27T12:08:11.306884",
     "status": "completed"
    },
    "tags": []
   },
   "outputs": [],
   "source": [
    "#hide\n",
    "# g['continent'] = g['continent'].map(mapping['map.continent'])"
   ]
  },
  {
   "cell_type": "code",
   "execution_count": 32,
   "metadata": {
    "execution": {
     "iopub.execute_input": "2020-12-27T12:08:11.434573Z",
     "iopub.status.busy": "2020-12-27T12:08:11.433836Z",
     "iopub.status.idle": "2020-12-27T12:08:11.435318Z",
     "shell.execute_reply": "2020-12-27T12:08:11.435883Z"
    },
    "papermill": {
     "duration": 0.044482,
     "end_time": "2020-12-27T12:08:11.436068",
     "exception": false,
     "start_time": "2020-12-27T12:08:11.391586",
     "status": "completed"
    },
    "tags": []
   },
   "outputs": [],
   "source": [
    "#hide\n",
    "# g.head()"
   ]
  },
  {
   "cell_type": "code",
   "execution_count": 33,
   "metadata": {
    "execution": {
     "iopub.execute_input": "2020-12-27T12:08:11.514563Z",
     "iopub.status.busy": "2020-12-27T12:08:11.513768Z",
     "iopub.status.idle": "2020-12-27T12:08:11.515839Z",
     "shell.execute_reply": "2020-12-27T12:08:11.516472Z"
    },
    "papermill": {
     "duration": 0.044756,
     "end_time": "2020-12-27T12:08:11.516645",
     "exception": false,
     "start_time": "2020-12-27T12:08:11.471889",
     "status": "completed"
    },
    "tags": []
   },
   "outputs": [],
   "source": [
    "# hide\n",
    "# g['date'] = g['date'].astype('datetime64[ns]')"
   ]
  },
  {
   "cell_type": "code",
   "execution_count": 34,
   "metadata": {
    "execution": {
     "iopub.execute_input": "2020-12-27T12:08:11.593764Z",
     "iopub.status.busy": "2020-12-27T12:08:11.593022Z",
     "iopub.status.idle": "2020-12-27T12:08:11.595036Z",
     "shell.execute_reply": "2020-12-27T12:08:11.595662Z"
    },
    "papermill": {
     "duration": 0.042209,
     "end_time": "2020-12-27T12:08:11.595844",
     "exception": false,
     "start_time": "2020-12-27T12:08:11.553635",
     "status": "completed"
    },
    "tags": []
   },
   "outputs": [],
   "source": [
    "#hide\n",
    "# g['date'] = g.date.dt.dayofyear"
   ]
  },
  {
   "cell_type": "code",
   "execution_count": 35,
   "metadata": {
    "execution": {
     "iopub.execute_input": "2020-12-27T12:08:11.672466Z",
     "iopub.status.busy": "2020-12-27T12:08:11.671787Z",
     "iopub.status.idle": "2020-12-27T12:08:11.674698Z",
     "shell.execute_reply": "2020-12-27T12:08:11.674005Z"
    },
    "papermill": {
     "duration": 0.043929,
     "end_time": "2020-12-27T12:08:11.674848",
     "exception": false,
     "start_time": "2020-12-27T12:08:11.630919",
     "status": "completed"
    },
    "tags": []
   },
   "outputs": [],
   "source": [
    "#hide\n",
    "# g = g.rename(columns= {'continent':'group','country':'name','cases':'value'})"
   ]
  },
  {
   "cell_type": "code",
   "execution_count": 36,
   "metadata": {
    "execution": {
     "iopub.execute_input": "2020-12-27T12:08:11.752716Z",
     "iopub.status.busy": "2020-12-27T12:08:11.751972Z",
     "iopub.status.idle": "2020-12-27T12:08:11.754771Z",
     "shell.execute_reply": "2020-12-27T12:08:11.754131Z"
    },
    "papermill": {
     "duration": 0.043996,
     "end_time": "2020-12-27T12:08:11.754910",
     "exception": false,
     "start_time": "2020-12-27T12:08:11.710914",
     "status": "completed"
    },
    "tags": []
   },
   "outputs": [],
   "source": [
    "#hide\n",
    "# cols = ['name','group','day','value']"
   ]
  },
  {
   "cell_type": "code",
   "execution_count": 37,
   "metadata": {
    "execution": {
     "iopub.execute_input": "2020-12-27T12:08:11.833165Z",
     "iopub.status.busy": "2020-12-27T12:08:11.832480Z",
     "iopub.status.idle": "2020-12-27T12:08:11.834516Z",
     "shell.execute_reply": "2020-12-27T12:08:11.835142Z"
    },
    "papermill": {
     "duration": 0.042092,
     "end_time": "2020-12-27T12:08:11.835327",
     "exception": false,
     "start_time": "2020-12-27T12:08:11.793235",
     "status": "completed"
    },
    "tags": []
   },
   "outputs": [],
   "source": [
    "#hide\n",
    "# g.rename(columns= {'date':'day'},inplace = True)"
   ]
  },
  {
   "cell_type": "code",
   "execution_count": 38,
   "metadata": {
    "execution": {
     "iopub.execute_input": "2020-12-27T12:08:11.913190Z",
     "iopub.status.busy": "2020-12-27T12:08:11.912466Z",
     "iopub.status.idle": "2020-12-27T12:08:11.914948Z",
     "shell.execute_reply": "2020-12-27T12:08:11.914276Z"
    },
    "papermill": {
     "duration": 0.041233,
     "end_time": "2020-12-27T12:08:11.915109",
     "exception": false,
     "start_time": "2020-12-27T12:08:11.873876",
     "status": "completed"
    },
    "tags": []
   },
   "outputs": [],
   "source": [
    "#hide\n",
    "# g = g[cols]"
   ]
  },
  {
   "cell_type": "code",
   "execution_count": 39,
   "metadata": {
    "execution": {
     "iopub.execute_input": "2020-12-27T12:08:11.990580Z",
     "iopub.status.busy": "2020-12-27T12:08:11.989748Z",
     "iopub.status.idle": "2020-12-27T12:08:11.992504Z",
     "shell.execute_reply": "2020-12-27T12:08:11.991763Z"
    },
    "papermill": {
     "duration": 0.042281,
     "end_time": "2020-12-27T12:08:11.992648",
     "exception": false,
     "start_time": "2020-12-27T12:08:11.950367",
     "status": "completed"
    },
    "tags": []
   },
   "outputs": [],
   "source": [
    "# #hide\n",
    "# g = g[g.group.notna()]"
   ]
  },
  {
   "cell_type": "code",
   "execution_count": 40,
   "metadata": {
    "execution": {
     "iopub.execute_input": "2020-12-27T12:08:12.070846Z",
     "iopub.status.busy": "2020-12-27T12:08:12.070110Z",
     "iopub.status.idle": "2020-12-27T12:08:12.071792Z",
     "shell.execute_reply": "2020-12-27T12:08:12.072471Z"
    },
    "papermill": {
     "duration": 0.04211,
     "end_time": "2020-12-27T12:08:12.072676",
     "exception": false,
     "start_time": "2020-12-27T12:08:12.030566",
     "status": "completed"
    },
    "tags": []
   },
   "outputs": [],
   "source": [
    "# #hide\n",
    "# colors = dict(zip(\n",
    "#     [\"Oceania\", \"Europe\", \"Asia\", \"South America\", \"Middle East\", \"North America\", \"Africa\"],\n",
    "#     [\"#adb0ff\", \"#ffb3ff\", \"#90d595\", \"#e48381\", \"#aafbff\", \"#f7bb5f\", \"#eafb50\"]\n",
    "# ))\n",
    "# group_lk = g.set_index('name')['group'].to_dict()"
   ]
  },
  {
   "cell_type": "code",
   "execution_count": null,
   "metadata": {
    "papermill": {
     "duration": 0.03706,
     "end_time": "2020-12-27T12:08:12.147052",
     "exception": false,
     "start_time": "2020-12-27T12:08:12.109992",
     "status": "completed"
    },
    "tags": []
   },
   "outputs": [],
   "source": []
  },
  {
   "cell_type": "code",
   "execution_count": 41,
   "metadata": {
    "execution": {
     "iopub.execute_input": "2020-12-27T12:08:12.225379Z",
     "iopub.status.busy": "2020-12-27T12:08:12.224668Z",
     "iopub.status.idle": "2020-12-27T12:08:12.227286Z",
     "shell.execute_reply": "2020-12-27T12:08:12.226696Z"
    },
    "papermill": {
     "duration": 0.043724,
     "end_time": "2020-12-27T12:08:12.227432",
     "exception": false,
     "start_time": "2020-12-27T12:08:12.183708",
     "status": "completed"
    },
    "tags": []
   },
   "outputs": [],
   "source": [
    "# #hide\n",
    "# fig, ax = plt.subplots(figsize=(15, 8))\n",
    "\n",
    "# def draw_barchart(current_day):\n",
    "#     dff = g[g['day'].eq(current_day)].sort_values(by='value', ascending=True).tail(10)\n",
    "#     ax.clear()\n",
    "#     ax.barh(dff['name'], dff['value'], color=[colors[group_lk[x]] for x in dff['name']])\n",
    "#     dx = dff['value'].max() / 200\n",
    "    \n",
    "#     for i, (value, name) in enumerate(zip(dff['value'], dff['name'])):\n",
    "#         ax.text(value-dx, i,     name,           size=14, weight=600, ha='right', va='bottom')\n",
    "#         ax.text(value-dx, i-.25, group_lk[name], size=10, color='#444444', ha='right', va='baseline')\n",
    "#         ax.text(value+dx, i,     f'{value:,.0f}',  size=14, ha='left',  va='center')\n",
    "#     ax.text(1, 0.4, current_day, transform=ax.transAxes, color='#777777', size=46, ha='right', weight=800)\n",
    "#     ax.text(0, 1.06, 'Population (thousands)', transform=ax.transAxes, size=12, color='#777777')\n",
    "#     ax.xaxis.set_major_formatter(ticker.StrMethodFormatter('{x:,.0f}'))\n",
    "#     ax.xaxis.set_ticks_position('top')\n",
    "#     ax.tick_params(axis='x', colors='#777777', labelsize=12)\n",
    "#     ax.set_yticks([])\n",
    "#     ax.margins(0, 0.01)\n",
    "#     ax.grid(which='major', axis='x', linestyle='-')\n",
    "#     ax.set_axisbelow(True)\n",
    "    \n",
    "#     ax.text(0, 1.15, 'Coronavirus',\n",
    "#             transform=ax.transAxes, size=24, weight=600, ha='left', va='top')\n",
    "# #     ax.text(1, 0, 'by @pratapvardhan; credit @jburnmurdoch', transform=ax.transAxes, color='#777777', ha='right',\n",
    "# #             bbox=dict(facecolor='white', alpha=0.8, edgecolor='white'))\n",
    "#     plt.box(False)"
   ]
  },
  {
   "cell_type": "code",
   "execution_count": 42,
   "metadata": {
    "execution": {
     "iopub.execute_input": "2020-12-27T12:08:12.307064Z",
     "iopub.status.busy": "2020-12-27T12:08:12.306323Z",
     "iopub.status.idle": "2020-12-27T12:08:12.308893Z",
     "shell.execute_reply": "2020-12-27T12:08:12.308189Z"
    },
    "papermill": {
     "duration": 0.043857,
     "end_time": "2020-12-27T12:08:12.309038",
     "exception": false,
     "start_time": "2020-12-27T12:08:12.265181",
     "status": "completed"
    },
    "tags": []
   },
   "outputs": [],
   "source": [
    "# #hide_input\n",
    "# fig, ax = plt.subplots(figsize=(15, 8))\n",
    "# animator = animation.FuncAnimation(fig, draw_barchart, frames=range(g.day.values.min(), g.day.values.max()))\n",
    "# HTML(animator.to_jshtml())\n",
    "# # or use animator.to_html5_video() or animator.save() "
   ]
  },
  {
   "cell_type": "code",
   "execution_count": null,
   "metadata": {
    "papermill": {
     "duration": 0.035277,
     "end_time": "2020-12-27T12:08:12.380734",
     "exception": false,
     "start_time": "2020-12-27T12:08:12.345457",
     "status": "completed"
    },
    "tags": []
   },
   "outputs": [],
   "source": []
  },
  {
   "cell_type": "code",
   "execution_count": null,
   "metadata": {
    "papermill": {
     "duration": 0.035611,
     "end_time": "2020-12-27T12:08:12.451924",
     "exception": false,
     "start_time": "2020-12-27T12:08:12.416313",
     "status": "completed"
    },
    "tags": []
   },
   "outputs": [],
   "source": []
  },
  {
   "cell_type": "code",
   "execution_count": null,
   "metadata": {
    "papermill": {
     "duration": 0.036405,
     "end_time": "2020-12-27T12:08:12.523661",
     "exception": false,
     "start_time": "2020-12-27T12:08:12.487256",
     "status": "completed"
    },
    "tags": []
   },
   "outputs": [],
   "source": []
  }
 ],
 "metadata": {
  "kernelspec": {
   "display_name": "Python 3",
   "language": "python",
   "name": "python3"
  },
  "language_info": {
   "codemirror_mode": {
    "name": "ipython",
    "version": 3
   },
   "file_extension": ".py",
   "mimetype": "text/x-python",
   "name": "python",
   "nbconvert_exporter": "python",
   "pygments_lexer": "ipython3",
   "version": "3.6.12"
  },
  "papermill": {
   "duration": 7.246889,
   "end_time": "2020-12-27T12:08:12.867058",
   "environment_variables": {},
   "exception": null,
   "input_path": "2020-03-21-covid19exp.ipynb",
   "output_path": "2020-03-21-covid19exp.ipynb",
   "parameters": {},
   "start_time": "2020-12-27T12:08:05.620169",
   "version": "2.0.0"
  }
 },
 "nbformat": 4,
 "nbformat_minor": 4
}