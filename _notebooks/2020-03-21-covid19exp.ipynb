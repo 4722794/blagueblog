{
 "cells": [
  {
   "cell_type": "markdown",
   "id": "muslim-click",
   "metadata": {
    "papermill": {
     "duration": 0.040277,
     "end_time": "2021-10-31T12:11:31.002048",
     "exception": false,
     "start_time": "2021-10-31T12:11:30.961771",
     "status": "completed"
    },
    "tags": []
   },
   "source": [
    "# COVID-19 Case Race\n",
    "> A race chart to see rising cases around the world\n",
    "\n",
    "- author: Hargun Oberoi\n",
    "- image: images/covid-overview.png\n",
    "- hide: false\n",
    "- badges: false"
   ]
  },
  {
   "cell_type": "code",
   "execution_count": 1,
   "id": "proof-material",
   "metadata": {
    "execution": {
     "iopub.execute_input": "2021-10-31T12:11:31.088984Z",
     "iopub.status.busy": "2021-10-31T12:11:31.088357Z",
     "iopub.status.idle": "2021-10-31T12:11:31.483477Z",
     "shell.execute_reply": "2021-10-31T12:11:31.482876Z"
    },
    "papermill": {
     "duration": 0.444756,
     "end_time": "2021-10-31T12:11:31.483639",
     "exception": false,
     "start_time": "2021-10-31T12:11:31.038883",
     "status": "completed"
    },
    "tags": []
   },
   "outputs": [],
   "source": [
    "#hide\n",
    "import numpy as np\n",
    "import pandas as pd\n",
    "from jinja2 import Template\n",
    "from IPython.display import HTML"
   ]
  },
  {
   "cell_type": "code",
   "execution_count": 2,
   "id": "developed-terminology",
   "metadata": {
    "execution": {
     "iopub.execute_input": "2021-10-31T12:11:31.561983Z",
     "iopub.status.busy": "2021-10-31T12:11:31.561313Z",
     "iopub.status.idle": "2021-10-31T12:11:31.564863Z",
     "shell.execute_reply": "2021-10-31T12:11:31.564306Z"
    },
    "papermill": {
     "duration": 0.045344,
     "end_time": "2021-10-31T12:11:31.564991",
     "exception": false,
     "start_time": "2021-10-31T12:11:31.519647",
     "status": "completed"
    },
    "tags": []
   },
   "outputs": [],
   "source": [
    "#hide\n",
    "\n",
    "# FETCH\n",
    "base_url = 'https://raw.githubusercontent.com/pratapvardhan/notebooks/master/covid19/'\n",
    "paths = {\n",
    "    'mapping': base_url + 'mapping_countries.csv',\n",
    "    'overview': base_url + 'overview.tpl'\n",
    "}"
   ]
  },
  {
   "cell_type": "code",
   "execution_count": 3,
   "id": "dynamic-saver",
   "metadata": {
    "execution": {
     "iopub.execute_input": "2021-10-31T12:11:31.647930Z",
     "iopub.status.busy": "2021-10-31T12:11:31.646333Z",
     "iopub.status.idle": "2021-10-31T12:11:31.650578Z",
     "shell.execute_reply": "2021-10-31T12:11:31.651046Z"
    },
    "papermill": {
     "duration": 0.052371,
     "end_time": "2021-10-31T12:11:31.651220",
     "exception": false,
     "start_time": "2021-10-31T12:11:31.598849",
     "status": "completed"
    },
    "tags": []
   },
   "outputs": [
    {
     "data": {
      "text/plain": [
       "'https://raw.githubusercontent.com/pratapvardhan/notebooks/master/covid19/mapping_countries.csv'"
      ]
     },
     "execution_count": 3,
     "metadata": {},
     "output_type": "execute_result"
    }
   ],
   "source": [
    "#hide\n",
    "paths['mapping']"
   ]
  },
  {
   "cell_type": "code",
   "execution_count": 4,
   "id": "urban-software",
   "metadata": {
    "execution": {
     "iopub.execute_input": "2021-10-31T12:11:31.728324Z",
     "iopub.status.busy": "2021-10-31T12:11:31.727688Z",
     "iopub.status.idle": "2021-10-31T12:11:31.729455Z",
     "shell.execute_reply": "2021-10-31T12:11:31.729903Z"
    },
    "papermill": {
     "duration": 0.041889,
     "end_time": "2021-10-31T12:11:31.730053",
     "exception": false,
     "start_time": "2021-10-31T12:11:31.688164",
     "status": "completed"
    },
    "tags": []
   },
   "outputs": [],
   "source": [
    "#hide\n",
    "def get_mappings(url):\n",
    "    df = pd.read_csv(url)\n",
    "    return {\n",
    "        'df': df,\n",
    "        'replace.country': dict(df.dropna(subset=['Name']).set_index('Country')['Name']),\n",
    "        'map.continent': dict(df.set_index('Name')['Continent'])\n",
    "    }"
   ]
  },
  {
   "cell_type": "code",
   "execution_count": 5,
   "id": "intimate-machinery",
   "metadata": {
    "execution": {
     "iopub.execute_input": "2021-10-31T12:11:31.802709Z",
     "iopub.status.busy": "2021-10-31T12:11:31.802085Z",
     "iopub.status.idle": "2021-10-31T12:11:31.834593Z",
     "shell.execute_reply": "2021-10-31T12:11:31.833427Z"
    },
    "papermill": {
     "duration": 0.071472,
     "end_time": "2021-10-31T12:11:31.834737",
     "exception": false,
     "start_time": "2021-10-31T12:11:31.763265",
     "status": "completed"
    },
    "tags": []
   },
   "outputs": [],
   "source": [
    "#hide\n",
    "mapping = get_mappings(paths['mapping'])"
   ]
  },
  {
   "cell_type": "code",
   "execution_count": 6,
   "id": "certified-tactics",
   "metadata": {
    "execution": {
     "iopub.execute_input": "2021-10-31T12:11:31.908163Z",
     "iopub.status.busy": "2021-10-31T12:11:31.907507Z",
     "iopub.status.idle": "2021-10-31T12:11:31.910255Z",
     "shell.execute_reply": "2021-10-31T12:11:31.910742Z"
    },
    "papermill": {
     "duration": 0.042477,
     "end_time": "2021-10-31T12:11:31.910893",
     "exception": false,
     "start_time": "2021-10-31T12:11:31.868416",
     "status": "completed"
    },
    "tags": []
   },
   "outputs": [],
   "source": [
    "#hide\n",
    "def get_template(path):\n",
    "    from urllib.parse import urlparse\n",
    "    if bool(urlparse(path).netloc):\n",
    "        from urllib.request import urlopen\n",
    "        return urlopen(path).read().decode('utf8')\n",
    "    return open(path).read()"
   ]
  },
  {
   "cell_type": "code",
   "execution_count": 7,
   "id": "realistic-blast",
   "metadata": {
    "execution": {
     "iopub.execute_input": "2021-10-31T12:11:31.985173Z",
     "iopub.status.busy": "2021-10-31T12:11:31.984539Z",
     "iopub.status.idle": "2021-10-31T12:11:31.986973Z",
     "shell.execute_reply": "2021-10-31T12:11:31.987587Z"
    },
    "papermill": {
     "duration": 0.043486,
     "end_time": "2021-10-31T12:11:31.987741",
     "exception": false,
     "start_time": "2021-10-31T12:11:31.944255",
     "status": "completed"
    },
    "tags": []
   },
   "outputs": [],
   "source": [
    "#hide\n",
    "def get_frame(name):\n",
    "    url = (\n",
    "        'https://raw.githubusercontent.com/CSSEGISandData/COVID-19/master/csse_covid_19_data/'\n",
    "        f'csse_covid_19_time_series/time_series_covid19_{name}_global.csv')\n",
    "    df = pd.read_csv(url)\n",
    "    # rename countries\n",
    "    df['Country/Region'] = df['Country/Region'].replace(mapping['replace.country'])\n",
    "    return df"
   ]
  },
  {
   "cell_type": "code",
   "execution_count": 8,
   "id": "affiliated-characterization",
   "metadata": {
    "execution": {
     "iopub.execute_input": "2021-10-31T12:11:32.062516Z",
     "iopub.status.busy": "2021-10-31T12:11:32.061888Z",
     "iopub.status.idle": "2021-10-31T12:11:32.063714Z",
     "shell.execute_reply": "2021-10-31T12:11:32.064192Z"
    },
    "papermill": {
     "duration": 0.043119,
     "end_time": "2021-10-31T12:11:32.064343",
     "exception": false,
     "start_time": "2021-10-31T12:11:32.021224",
     "status": "completed"
    },
    "tags": []
   },
   "outputs": [],
   "source": [
    "#hide\n",
    "def get_dates(df):\n",
    "    dt_cols = df.columns[~df.columns.isin(['Province/State', 'Country/Region', 'Lat', 'Long'])]\n",
    "    LAST_DATE_I = -1\n",
    "    # sometimes last column may be empty, then go backwards\n",
    "    for i in range(-1, -len(dt_cols), -1):\n",
    "        if not df[dt_cols[i]].fillna(0).eq(0).all():\n",
    "            LAST_DATE_I = i\n",
    "            break\n",
    "    return LAST_DATE_I, dt_cols"
   ]
  },
  {
   "cell_type": "code",
   "execution_count": 9,
   "id": "recent-optimization",
   "metadata": {
    "execution": {
     "iopub.execute_input": "2021-10-31T12:11:32.138365Z",
     "iopub.status.busy": "2021-10-31T12:11:32.137728Z",
     "iopub.status.idle": "2021-10-31T12:11:32.545618Z",
     "shell.execute_reply": "2021-10-31T12:11:32.544861Z"
    },
    "papermill": {
     "duration": 0.448046,
     "end_time": "2021-10-31T12:11:32.545761",
     "exception": false,
     "start_time": "2021-10-31T12:11:32.097715",
     "status": "completed"
    },
    "tags": []
   },
   "outputs": [],
   "source": [
    "#hide\n",
    "COL_REGION = 'Country/Region'\n",
    "# Confirmed, Recovered, Deaths\n",
    "df = get_frame('confirmed')\n",
    "# dft_: timeseries, dfc_: today country agg\n",
    "dft_cases = df\n",
    "dft_deaths = get_frame('deaths')\n",
    "dft_recovered = get_frame('recovered')\n",
    "LAST_DATE_I, dt_cols = get_dates(df)"
   ]
  },
  {
   "cell_type": "code",
   "execution_count": 10,
   "id": "absolute-copper",
   "metadata": {
    "execution": {
     "iopub.execute_input": "2021-10-31T12:11:32.620323Z",
     "iopub.status.busy": "2021-10-31T12:11:32.619682Z",
     "iopub.status.idle": "2021-10-31T12:11:32.622602Z",
     "shell.execute_reply": "2021-10-31T12:11:32.623057Z"
    },
    "papermill": {
     "duration": 0.043646,
     "end_time": "2021-10-31T12:11:32.623243",
     "exception": false,
     "start_time": "2021-10-31T12:11:32.579597",
     "status": "completed"
    },
    "tags": []
   },
   "outputs": [],
   "source": [
    "#hide\n",
    "LAST_DATE_I, dt_cols = get_dates(df)\n",
    "dt_today =dt_cols[LAST_DATE_I]\n",
    "# dt_5day = dt_cols[LAST_DATE_I - 5]\n",
    "dt_yday = dt_cols[LAST_DATE_I - 1]"
   ]
  },
  {
   "cell_type": "code",
   "execution_count": 11,
   "id": "restricted-sheriff",
   "metadata": {
    "execution": {
     "iopub.execute_input": "2021-10-31T12:11:32.696587Z",
     "iopub.status.busy": "2021-10-31T12:11:32.695958Z",
     "iopub.status.idle": "2021-10-31T12:11:32.704454Z",
     "shell.execute_reply": "2021-10-31T12:11:32.703962Z"
    },
    "papermill": {
     "duration": 0.047865,
     "end_time": "2021-10-31T12:11:32.704586",
     "exception": false,
     "start_time": "2021-10-31T12:11:32.656721",
     "status": "completed"
    },
    "tags": []
   },
   "outputs": [],
   "source": [
    "#hide\n",
    "dfc_cases = dft_cases.groupby(COL_REGION)[dt_today].sum()\n",
    "dfc_deaths = dft_deaths.groupby(COL_REGION)[dt_today].sum()\n",
    "# dfp_cases = dft_cases.groupby(COL_REGION)[dt_5day].sum()\n",
    "# dfp_deaths = dft_deaths.groupby(COL_REGION)[dt_5day].sum()\n",
    "dfp_cases = dft_cases.groupby(COL_REGION)[dt_yday].sum()\n",
    "dfp_deaths = dft_deaths.groupby(COL_REGION)[dt_yday].sum()"
   ]
  },
  {
   "cell_type": "code",
   "execution_count": 12,
   "id": "deluxe-hepatitis",
   "metadata": {
    "execution": {
     "iopub.execute_input": "2021-10-31T12:11:32.781084Z",
     "iopub.status.busy": "2021-10-31T12:11:32.780464Z",
     "iopub.status.idle": "2021-10-31T12:11:32.785220Z",
     "shell.execute_reply": "2021-10-31T12:11:32.785678Z"
    },
    "papermill": {
     "duration": 0.047638,
     "end_time": "2021-10-31T12:11:32.785840",
     "exception": false,
     "start_time": "2021-10-31T12:11:32.738202",
     "status": "completed"
    },
    "tags": []
   },
   "outputs": [],
   "source": [
    "#hide\n",
    "df_table = (pd.DataFrame(dict(Cases = dfc_cases, Deaths = dfc_deaths, PCases = dfp_cases, PDeaths = dfp_deaths))\n",
    "            .sort_values(by = ['Cases','Deaths'], ascending = [False, False])\n",
    "            .reset_index())"
   ]
  },
  {
   "cell_type": "code",
   "execution_count": 13,
   "id": "educational-chancellor",
   "metadata": {
    "execution": {
     "iopub.execute_input": "2021-10-31T12:11:32.873312Z",
     "iopub.status.busy": "2021-10-31T12:11:32.872660Z",
     "iopub.status.idle": "2021-10-31T12:11:32.882258Z",
     "shell.execute_reply": "2021-10-31T12:11:32.882740Z"
    },
    "papermill": {
     "duration": 0.063454,
     "end_time": "2021-10-31T12:11:32.882893",
     "exception": false,
     "start_time": "2021-10-31T12:11:32.819439",
     "status": "completed"
    },
    "tags": []
   },
   "outputs": [
    {
     "data": {
      "text/html": [
       "<div>\n",
       "<style scoped>\n",
       "    .dataframe tbody tr th:only-of-type {\n",
       "        vertical-align: middle;\n",
       "    }\n",
       "\n",
       "    .dataframe tbody tr th {\n",
       "        vertical-align: top;\n",
       "    }\n",
       "\n",
       "    .dataframe thead th {\n",
       "        text-align: right;\n",
       "    }\n",
       "</style>\n",
       "<table border=\"1\" class=\"dataframe\">\n",
       "  <thead>\n",
       "    <tr style=\"text-align: right;\">\n",
       "      <th></th>\n",
       "      <th>Country/Region</th>\n",
       "      <th>Cases</th>\n",
       "      <th>Deaths</th>\n",
       "      <th>PCases</th>\n",
       "      <th>PDeaths</th>\n",
       "      <th>Cases (+)</th>\n",
       "      <th>Deaths (+)</th>\n",
       "      <th>Fatality Rate</th>\n",
       "      <th>Continent</th>\n",
       "    </tr>\n",
       "  </thead>\n",
       "  <tbody>\n",
       "    <tr>\n",
       "      <th>0</th>\n",
       "      <td>US</td>\n",
       "      <td>45953186</td>\n",
       "      <td>745668</td>\n",
       "      <td>45923884</td>\n",
       "      <td>745377</td>\n",
       "      <td>29302</td>\n",
       "      <td>291</td>\n",
       "      <td>1.62</td>\n",
       "      <td>North America</td>\n",
       "    </tr>\n",
       "    <tr>\n",
       "      <th>1</th>\n",
       "      <td>India</td>\n",
       "      <td>34273300</td>\n",
       "      <td>458186</td>\n",
       "      <td>34260470</td>\n",
       "      <td>457740</td>\n",
       "      <td>12830</td>\n",
       "      <td>446</td>\n",
       "      <td>1.34</td>\n",
       "      <td>Asia</td>\n",
       "    </tr>\n",
       "    <tr>\n",
       "      <th>2</th>\n",
       "      <td>Brazil</td>\n",
       "      <td>21804094</td>\n",
       "      <td>607694</td>\n",
       "      <td>21793401</td>\n",
       "      <td>607462</td>\n",
       "      <td>10693</td>\n",
       "      <td>232</td>\n",
       "      <td>2.79</td>\n",
       "      <td>South America</td>\n",
       "    </tr>\n",
       "    <tr>\n",
       "      <th>3</th>\n",
       "      <td>United Kingdom</td>\n",
       "      <td>9062710</td>\n",
       "      <td>140981</td>\n",
       "      <td>9021701</td>\n",
       "      <td>140815</td>\n",
       "      <td>41009</td>\n",
       "      <td>166</td>\n",
       "      <td>1.56</td>\n",
       "      <td>Europe</td>\n",
       "    </tr>\n",
       "    <tr>\n",
       "      <th>4</th>\n",
       "      <td>Russia</td>\n",
       "      <td>8338053</td>\n",
       "      <td>233063</td>\n",
       "      <td>8298850</td>\n",
       "      <td>231931</td>\n",
       "      <td>39203</td>\n",
       "      <td>1132</td>\n",
       "      <td>2.80</td>\n",
       "      <td>Europe</td>\n",
       "    </tr>\n",
       "  </tbody>\n",
       "</table>\n",
       "</div>"
      ],
      "text/plain": [
       "   Country/Region     Cases  Deaths    PCases  PDeaths  Cases (+)  Deaths (+)  \\\n",
       "0              US  45953186  745668  45923884   745377      29302         291   \n",
       "1           India  34273300  458186  34260470   457740      12830         446   \n",
       "2          Brazil  21804094  607694  21793401   607462      10693         232   \n",
       "3  United Kingdom   9062710  140981   9021701   140815      41009         166   \n",
       "4          Russia   8338053  233063   8298850   231931      39203        1132   \n",
       "\n",
       "   Fatality Rate      Continent  \n",
       "0           1.62  North America  \n",
       "1           1.34           Asia  \n",
       "2           2.79  South America  \n",
       "3           1.56         Europe  \n",
       "4           2.80         Europe  "
      ]
     },
     "execution_count": 13,
     "metadata": {},
     "output_type": "execute_result"
    }
   ],
   "source": [
    "#hide\n",
    "for c in 'Cases, Deaths'.split(', '):\n",
    "    df_table[f'{c} (+)'] = (df_table[c] - df_table[f'P{c}']).clip(0)\n",
    "    #Clip ça veut dire, les chiffres negatif sont interdit\n",
    "df_table['Fatality Rate'] = (100* df_table['Deaths']/ df_table['Cases']).round(2)\n",
    "df_table['Continent'] = df_table['Country/Region'].map(mapping['map.continent'])\n",
    "df_table.head(5)"
   ]
  },
  {
   "cell_type": "code",
   "execution_count": 14,
   "id": "aboriginal-bulgaria",
   "metadata": {
    "execution": {
     "iopub.execute_input": "2021-10-31T12:11:32.958246Z",
     "iopub.status.busy": "2021-10-31T12:11:32.957639Z",
     "iopub.status.idle": "2021-10-31T12:11:32.960217Z",
     "shell.execute_reply": "2021-10-31T12:11:32.960696Z"
    },
    "papermill": {
     "duration": 0.043868,
     "end_time": "2021-10-31T12:11:32.960843",
     "exception": false,
     "start_time": "2021-10-31T12:11:32.916975",
     "status": "completed"
    },
    "tags": []
   },
   "outputs": [],
   "source": [
    "#hide\n",
    "#delete problematic countries from table\n",
    "df_table = df_table[~df_table['Country/Region'].isin(['Cape Verde', 'Cruise Ship', 'Kosovo'])]"
   ]
  },
  {
   "cell_type": "code",
   "execution_count": 15,
   "id": "fantastic-effect",
   "metadata": {
    "execution": {
     "iopub.execute_input": "2021-10-31T12:11:33.055758Z",
     "iopub.status.busy": "2021-10-31T12:11:33.037902Z",
     "iopub.status.idle": "2021-10-31T12:11:33.058800Z",
     "shell.execute_reply": "2021-10-31T12:11:33.059279Z"
    },
    "papermill": {
     "duration": 0.064742,
     "end_time": "2021-10-31T12:11:33.059443",
     "exception": false,
     "start_time": "2021-10-31T12:11:32.994701",
     "status": "completed"
    },
    "tags": []
   },
   "outputs": [
    {
     "data": {
      "text/html": [
       "<div>\n",
       "<style scoped>\n",
       "    .dataframe tbody tr th:only-of-type {\n",
       "        vertical-align: middle;\n",
       "    }\n",
       "\n",
       "    .dataframe tbody tr th {\n",
       "        vertical-align: top;\n",
       "    }\n",
       "\n",
       "    .dataframe thead th {\n",
       "        text-align: right;\n",
       "    }\n",
       "</style>\n",
       "<table border=\"1\" class=\"dataframe\">\n",
       "  <thead>\n",
       "    <tr style=\"text-align: right;\">\n",
       "      <th></th>\n",
       "      <th>Country/Region</th>\n",
       "      <th>Cases</th>\n",
       "      <th>Deaths</th>\n",
       "      <th>PCases</th>\n",
       "      <th>PDeaths</th>\n",
       "      <th>Cases (+)</th>\n",
       "      <th>Deaths (+)</th>\n",
       "      <th>Fatality Rate</th>\n",
       "      <th>Continent</th>\n",
       "    </tr>\n",
       "  </thead>\n",
       "  <tbody>\n",
       "    <tr>\n",
       "      <th>0</th>\n",
       "      <td>US</td>\n",
       "      <td>45953186</td>\n",
       "      <td>745668</td>\n",
       "      <td>45923884</td>\n",
       "      <td>745377</td>\n",
       "      <td>29302</td>\n",
       "      <td>291</td>\n",
       "      <td>1.6</td>\n",
       "      <td>North America</td>\n",
       "    </tr>\n",
       "    <tr>\n",
       "      <th>1</th>\n",
       "      <td>India</td>\n",
       "      <td>34273300</td>\n",
       "      <td>458186</td>\n",
       "      <td>34260470</td>\n",
       "      <td>457740</td>\n",
       "      <td>12830</td>\n",
       "      <td>446</td>\n",
       "      <td>1.3</td>\n",
       "      <td>Asia</td>\n",
       "    </tr>\n",
       "    <tr>\n",
       "      <th>2</th>\n",
       "      <td>Brazil</td>\n",
       "      <td>21804094</td>\n",
       "      <td>607694</td>\n",
       "      <td>21793401</td>\n",
       "      <td>607462</td>\n",
       "      <td>10693</td>\n",
       "      <td>232</td>\n",
       "      <td>2.8</td>\n",
       "      <td>South America</td>\n",
       "    </tr>\n",
       "    <tr>\n",
       "      <th>3</th>\n",
       "      <td>United Kingdom</td>\n",
       "      <td>9062710</td>\n",
       "      <td>140981</td>\n",
       "      <td>9021701</td>\n",
       "      <td>140815</td>\n",
       "      <td>41009</td>\n",
       "      <td>166</td>\n",
       "      <td>1.6</td>\n",
       "      <td>Europe</td>\n",
       "    </tr>\n",
       "    <tr>\n",
       "      <th>4</th>\n",
       "      <td>Russia</td>\n",
       "      <td>8338053</td>\n",
       "      <td>233063</td>\n",
       "      <td>8298850</td>\n",
       "      <td>231931</td>\n",
       "      <td>39203</td>\n",
       "      <td>1132</td>\n",
       "      <td>2.8</td>\n",
       "      <td>Europe</td>\n",
       "    </tr>\n",
       "  </tbody>\n",
       "</table>\n",
       "</div>"
      ],
      "text/plain": [
       "   Country/Region     Cases  Deaths    PCases  PDeaths  Cases (+)  Deaths (+)  \\\n",
       "0              US  45953186  745668  45923884   745377      29302         291   \n",
       "1           India  34273300  458186  34260470   457740      12830         446   \n",
       "2          Brazil  21804094  607694  21793401   607462      10693         232   \n",
       "3  United Kingdom   9062710  140981   9021701   140815      41009         166   \n",
       "4          Russia   8338053  233063   8298850   231931      39203        1132   \n",
       "\n",
       "   Fatality Rate      Continent  \n",
       "0            1.6  North America  \n",
       "1            1.3           Asia  \n",
       "2            2.8  South America  \n",
       "3            1.6         Europe  \n",
       "4            2.8         Europe  "
      ]
     },
     "execution_count": 15,
     "metadata": {},
     "output_type": "execute_result"
    }
   ],
   "source": [
    "#hide\n",
    "df_table = (pd.DataFrame(dict(Cases=dfc_cases, Deaths=dfc_deaths, PCases=dfp_cases, PDeaths=dfp_deaths))\n",
    "             .sort_values(by=['Cases', 'Deaths'], ascending=[False, False])\n",
    "             .reset_index())\n",
    "df_table.rename(columns={'index': 'Country/Region'}, inplace=True)\n",
    "for c in 'Cases, Deaths'.split(', '):\n",
    "    df_table[f'{c} (+)'] = (df_table[c] - df_table[f'P{c}']).clip(0)  # DATA BUG\n",
    "df_table['Fatality Rate'] = (100 * df_table['Deaths'] / df_table['Cases']).round(1)\n",
    "df_table['Continent'] = df_table['Country/Region'].map(mapping['map.continent'])\n",
    "df_table.head(5)"
   ]
  },
  {
   "cell_type": "code",
   "execution_count": 16,
   "id": "fewer-occasion",
   "metadata": {
    "execution": {
     "iopub.execute_input": "2021-10-31T12:11:33.137389Z",
     "iopub.status.busy": "2021-10-31T12:11:33.136750Z",
     "iopub.status.idle": "2021-10-31T12:11:33.139330Z",
     "shell.execute_reply": "2021-10-31T12:11:33.138774Z"
    },
    "papermill": {
     "duration": 0.045335,
     "end_time": "2021-10-31T12:11:33.139468",
     "exception": false,
     "start_time": "2021-10-31T12:11:33.094133",
     "status": "completed"
    },
    "tags": []
   },
   "outputs": [],
   "source": [
    "#hide\n",
    "#delete problematic countries from table\n",
    "df_table = df_table[~df_table['Country/Region'].isin(['Cape Verde', 'Cruise Ship', 'Kosovo'])]"
   ]
  },
  {
   "cell_type": "code",
   "execution_count": 17,
   "id": "related-center",
   "metadata": {
    "execution": {
     "iopub.execute_input": "2021-10-31T12:11:33.229546Z",
     "iopub.status.busy": "2021-10-31T12:11:33.228885Z",
     "iopub.status.idle": "2021-10-31T12:11:33.230858Z",
     "shell.execute_reply": "2021-10-31T12:11:33.231368Z"
    },
    "papermill": {
     "duration": 0.057553,
     "end_time": "2021-10-31T12:11:33.231529",
     "exception": false,
     "start_time": "2021-10-31T12:11:33.173976",
     "status": "completed"
    },
    "tags": []
   },
   "outputs": [],
   "source": [
    "#hide\n",
    "metrics = [df_table.columns[index] for index in [1,2,5,6]]\n",
    "# s_china = df_table[df_table['Country/Region'].eq('China')][metrics].sum().add_prefix('China ')\n",
    "s_us = df_table[df_table['Country/Region'].eq('US')][metrics].sum().add_prefix('US ')\n",
    "s_eu = df_table[df_table['Continent'].eq('Europe')][metrics].sum().add_prefix('EU ')\n",
    "s_ind = df_table[df_table['Country/Region'].eq('India')][metrics].sum().add_prefix('India ')\n",
    "summary = {'updated': pd.to_datetime(dt_today), 'since': pd.to_datetime(dt_yday)}\n",
    "summary = {'updated': pd.to_datetime(dt_today), 'since': pd.to_datetime(dt_yday)}\n",
    "summary = {**summary, **df_table[metrics].sum(), **s_ind, **s_us, **s_eu}"
   ]
  },
  {
   "cell_type": "code",
   "execution_count": 18,
   "id": "engaging-syndrome",
   "metadata": {
    "execution": {
     "iopub.execute_input": "2021-10-31T12:11:33.306914Z",
     "iopub.status.busy": "2021-10-31T12:11:33.306285Z",
     "iopub.status.idle": "2021-10-31T12:11:33.322927Z",
     "shell.execute_reply": "2021-10-31T12:11:33.322023Z"
    },
    "papermill": {
     "duration": 0.056988,
     "end_time": "2021-10-31T12:11:33.323067",
     "exception": false,
     "start_time": "2021-10-31T12:11:33.266079",
     "status": "completed"
    },
    "tags": []
   },
   "outputs": [],
   "source": [
    "#hide\n",
    "dft_ct_new_cases = dft_cases.groupby(COL_REGION)[dt_cols].sum().diff(axis=1).fillna(0).astype(int)"
   ]
  },
  {
   "cell_type": "code",
   "execution_count": 19,
   "id": "neutral-assignment",
   "metadata": {
    "execution": {
     "iopub.execute_input": "2021-10-31T12:11:33.398246Z",
     "iopub.status.busy": "2021-10-31T12:11:33.397619Z",
     "iopub.status.idle": "2021-10-31T12:11:33.402780Z",
     "shell.execute_reply": "2021-10-31T12:11:33.402183Z"
    },
    "papermill": {
     "duration": 0.044933,
     "end_time": "2021-10-31T12:11:33.402909",
     "exception": false,
     "start_time": "2021-10-31T12:11:33.357976",
     "status": "completed"
    },
    "tags": []
   },
   "outputs": [],
   "source": [
    "#hide\n",
    "everydaycases = dft_ct_new_cases.cumsum(axis=1)"
   ]
  },
  {
   "cell_type": "code",
   "execution_count": 20,
   "id": "parliamentary-calgary",
   "metadata": {
    "execution": {
     "iopub.execute_input": "2021-10-31T12:11:33.477262Z",
     "iopub.status.busy": "2021-10-31T12:11:33.476634Z",
     "iopub.status.idle": "2021-10-31T12:11:34.256421Z",
     "shell.execute_reply": "2021-10-31T12:11:34.255696Z"
    },
    "papermill": {
     "duration": 0.819261,
     "end_time": "2021-10-31T12:11:34.256602",
     "exception": false,
     "start_time": "2021-10-31T12:11:33.437341",
     "status": "completed"
    },
    "tags": []
   },
   "outputs": [],
   "source": [
    "#hide\n",
    "import pandas as pd\n",
    "import matplotlib.pyplot as plt\n",
    "import matplotlib.ticker as ticker\n",
    "import matplotlib.animation as animation\n",
    "from IPython.display import HTML"
   ]
  },
  {
   "cell_type": "code",
   "execution_count": 21,
   "id": "lasting-extraction",
   "metadata": {
    "execution": {
     "iopub.execute_input": "2021-10-31T12:11:34.335244Z",
     "iopub.status.busy": "2021-10-31T12:11:34.334612Z",
     "iopub.status.idle": "2021-10-31T12:11:34.340929Z",
     "shell.execute_reply": "2021-10-31T12:11:34.341436Z"
    },
    "papermill": {
     "duration": 0.046922,
     "end_time": "2021-10-31T12:11:34.341587",
     "exception": false,
     "start_time": "2021-10-31T12:11:34.294665",
     "status": "completed"
    },
    "tags": []
   },
   "outputs": [],
   "source": [
    "#hide\n",
    "t = everydaycases.stack()"
   ]
  },
  {
   "cell_type": "code",
   "execution_count": 22,
   "id": "premier-sleeve",
   "metadata": {
    "execution": {
     "iopub.execute_input": "2021-10-31T12:11:34.416166Z",
     "iopub.status.busy": "2021-10-31T12:11:34.415535Z",
     "iopub.status.idle": "2021-10-31T12:11:34.425909Z",
     "shell.execute_reply": "2021-10-31T12:11:34.425397Z"
    },
    "papermill": {
     "duration": 0.049973,
     "end_time": "2021-10-31T12:11:34.426037",
     "exception": false,
     "start_time": "2021-10-31T12:11:34.376064",
     "status": "completed"
    },
    "tags": []
   },
   "outputs": [],
   "source": [
    "#hide\n",
    "g = t.reset_index(['Country/Region'])"
   ]
  },
  {
   "cell_type": "code",
   "execution_count": 23,
   "id": "distributed-pittsburgh",
   "metadata": {
    "execution": {
     "iopub.execute_input": "2021-10-31T12:11:34.498880Z",
     "iopub.status.busy": "2021-10-31T12:11:34.498255Z",
     "iopub.status.idle": "2021-10-31T12:11:34.499974Z",
     "shell.execute_reply": "2021-10-31T12:11:34.500520Z"
    },
    "papermill": {
     "duration": 0.040567,
     "end_time": "2021-10-31T12:11:34.500665",
     "exception": false,
     "start_time": "2021-10-31T12:11:34.460098",
     "status": "completed"
    },
    "tags": []
   },
   "outputs": [],
   "source": [
    "#hide\n",
    "g.index.name = 'date'"
   ]
  },
  {
   "cell_type": "code",
   "execution_count": 24,
   "id": "naked-donor",
   "metadata": {
    "execution": {
     "iopub.execute_input": "2021-10-31T12:11:34.573579Z",
     "iopub.status.busy": "2021-10-31T12:11:34.572965Z",
     "iopub.status.idle": "2021-10-31T12:11:34.575345Z",
     "shell.execute_reply": "2021-10-31T12:11:34.575924Z"
    },
    "papermill": {
     "duration": 0.041244,
     "end_time": "2021-10-31T12:11:34.576074",
     "exception": false,
     "start_time": "2021-10-31T12:11:34.534830",
     "status": "completed"
    },
    "tags": []
   },
   "outputs": [],
   "source": [
    "# #hide\n",
    "# g = g.reset_index(['date'])"
   ]
  },
  {
   "cell_type": "code",
   "execution_count": 25,
   "id": "incomplete-mustang",
   "metadata": {
    "execution": {
     "iopub.execute_input": "2021-10-31T12:11:34.648979Z",
     "iopub.status.busy": "2021-10-31T12:11:34.648381Z",
     "iopub.status.idle": "2021-10-31T12:11:34.650378Z",
     "shell.execute_reply": "2021-10-31T12:11:34.650823Z"
    },
    "papermill": {
     "duration": 0.040979,
     "end_time": "2021-10-31T12:11:34.650969",
     "exception": false,
     "start_time": "2021-10-31T12:11:34.609990",
     "status": "completed"
    },
    "tags": []
   },
   "outputs": [],
   "source": [
    "#hide\n",
    "# g.head()"
   ]
  },
  {
   "cell_type": "code",
   "execution_count": 26,
   "id": "specific-kruger",
   "metadata": {
    "execution": {
     "iopub.execute_input": "2021-10-31T12:11:34.723738Z",
     "iopub.status.busy": "2021-10-31T12:11:34.723093Z",
     "iopub.status.idle": "2021-10-31T12:11:34.725538Z",
     "shell.execute_reply": "2021-10-31T12:11:34.726114Z"
    },
    "papermill": {
     "duration": 0.041503,
     "end_time": "2021-10-31T12:11:34.726260",
     "exception": false,
     "start_time": "2021-10-31T12:11:34.684757",
     "status": "completed"
    },
    "tags": []
   },
   "outputs": [],
   "source": [
    "#hide\n",
    "# g.columns = ['date','country','cases']"
   ]
  },
  {
   "cell_type": "code",
   "execution_count": 27,
   "id": "tender-conversion",
   "metadata": {
    "execution": {
     "iopub.execute_input": "2021-10-31T12:11:34.799790Z",
     "iopub.status.busy": "2021-10-31T12:11:34.799140Z",
     "iopub.status.idle": "2021-10-31T12:11:34.801950Z",
     "shell.execute_reply": "2021-10-31T12:11:34.801468Z"
    },
    "papermill": {
     "duration": 0.041535,
     "end_time": "2021-10-31T12:11:34.802077",
     "exception": false,
     "start_time": "2021-10-31T12:11:34.760542",
     "status": "completed"
    },
    "tags": []
   },
   "outputs": [],
   "source": [
    "#hide\n",
    "# g['continent'] = g.country"
   ]
  },
  {
   "cell_type": "code",
   "execution_count": 28,
   "id": "substantial-wilderness",
   "metadata": {
    "execution": {
     "iopub.execute_input": "2021-10-31T12:11:34.874814Z",
     "iopub.status.busy": "2021-10-31T12:11:34.874199Z",
     "iopub.status.idle": "2021-10-31T12:11:34.876809Z",
     "shell.execute_reply": "2021-10-31T12:11:34.877375Z"
    },
    "papermill": {
     "duration": 0.041024,
     "end_time": "2021-10-31T12:11:34.877522",
     "exception": false,
     "start_time": "2021-10-31T12:11:34.836498",
     "status": "completed"
    },
    "tags": []
   },
   "outputs": [],
   "source": [
    "#hide\n",
    "# cols = list(g.columns.values)"
   ]
  },
  {
   "cell_type": "code",
   "execution_count": 29,
   "id": "solved-farming",
   "metadata": {
    "execution": {
     "iopub.execute_input": "2021-10-31T12:11:34.950613Z",
     "iopub.status.busy": "2021-10-31T12:11:34.950009Z",
     "iopub.status.idle": "2021-10-31T12:11:34.952409Z",
     "shell.execute_reply": "2021-10-31T12:11:34.952976Z"
    },
    "papermill": {
     "duration": 0.041603,
     "end_time": "2021-10-31T12:11:34.953121",
     "exception": false,
     "start_time": "2021-10-31T12:11:34.911518",
     "status": "completed"
    },
    "tags": []
   },
   "outputs": [],
   "source": [
    "#hide\n",
    "# cols.insert(0, cols.pop())"
   ]
  },
  {
   "cell_type": "code",
   "execution_count": 30,
   "id": "executed-adoption",
   "metadata": {
    "execution": {
     "iopub.execute_input": "2021-10-31T12:11:35.026282Z",
     "iopub.status.busy": "2021-10-31T12:11:35.025676Z",
     "iopub.status.idle": "2021-10-31T12:11:35.027488Z",
     "shell.execute_reply": "2021-10-31T12:11:35.027975Z"
    },
    "papermill": {
     "duration": 0.041033,
     "end_time": "2021-10-31T12:11:35.028118",
     "exception": false,
     "start_time": "2021-10-31T12:11:34.987085",
     "status": "completed"
    },
    "tags": []
   },
   "outputs": [],
   "source": [
    "#hide\n",
    "# g = g[cols]"
   ]
  },
  {
   "cell_type": "code",
   "execution_count": 31,
   "id": "subject-dublin",
   "metadata": {
    "execution": {
     "iopub.execute_input": "2021-10-31T12:11:35.100757Z",
     "iopub.status.busy": "2021-10-31T12:11:35.100140Z",
     "iopub.status.idle": "2021-10-31T12:11:35.103046Z",
     "shell.execute_reply": "2021-10-31T12:11:35.103643Z"
    },
    "papermill": {
     "duration": 0.04178,
     "end_time": "2021-10-31T12:11:35.103785",
     "exception": false,
     "start_time": "2021-10-31T12:11:35.062005",
     "status": "completed"
    },
    "tags": []
   },
   "outputs": [],
   "source": [
    "#hide\n",
    "# g['continent'] = g['continent'].map(mapping['map.continent'])"
   ]
  },
  {
   "cell_type": "code",
   "execution_count": 32,
   "id": "freelance-scout",
   "metadata": {
    "execution": {
     "iopub.execute_input": "2021-10-31T12:11:35.177804Z",
     "iopub.status.busy": "2021-10-31T12:11:35.177195Z",
     "iopub.status.idle": "2021-10-31T12:11:35.179507Z",
     "shell.execute_reply": "2021-10-31T12:11:35.178978Z"
    },
    "papermill": {
     "duration": 0.041303,
     "end_time": "2021-10-31T12:11:35.179635",
     "exception": false,
     "start_time": "2021-10-31T12:11:35.138332",
     "status": "completed"
    },
    "tags": []
   },
   "outputs": [],
   "source": [
    "#hide\n",
    "# g.head()"
   ]
  },
  {
   "cell_type": "code",
   "execution_count": 33,
   "id": "limited-engine",
   "metadata": {
    "execution": {
     "iopub.execute_input": "2021-10-31T12:11:35.252513Z",
     "iopub.status.busy": "2021-10-31T12:11:35.251913Z",
     "iopub.status.idle": "2021-10-31T12:11:35.255741Z",
     "shell.execute_reply": "2021-10-31T12:11:35.256220Z"
    },
    "papermill": {
     "duration": 0.04283,
     "end_time": "2021-10-31T12:11:35.256366",
     "exception": false,
     "start_time": "2021-10-31T12:11:35.213536",
     "status": "completed"
    },
    "tags": []
   },
   "outputs": [],
   "source": [
    "# hide\n",
    "# g['date'] = g['date'].astype('datetime64[ns]')"
   ]
  },
  {
   "cell_type": "code",
   "execution_count": 34,
   "id": "sophisticated-supervisor",
   "metadata": {
    "execution": {
     "iopub.execute_input": "2021-10-31T12:11:35.329934Z",
     "iopub.status.busy": "2021-10-31T12:11:35.328575Z",
     "iopub.status.idle": "2021-10-31T12:11:35.330605Z",
     "shell.execute_reply": "2021-10-31T12:11:35.331080Z"
    },
    "papermill": {
     "duration": 0.040509,
     "end_time": "2021-10-31T12:11:35.331247",
     "exception": false,
     "start_time": "2021-10-31T12:11:35.290738",
     "status": "completed"
    },
    "tags": []
   },
   "outputs": [],
   "source": [
    "#hide\n",
    "# g['date'] = g.date.dt.dayofyear"
   ]
  },
  {
   "cell_type": "code",
   "execution_count": 35,
   "id": "inside-dubai",
   "metadata": {
    "execution": {
     "iopub.execute_input": "2021-10-31T12:11:35.404303Z",
     "iopub.status.busy": "2021-10-31T12:11:35.402991Z",
     "iopub.status.idle": "2021-10-31T12:11:35.405098Z",
     "shell.execute_reply": "2021-10-31T12:11:35.405579Z"
    },
    "papermill": {
     "duration": 0.040748,
     "end_time": "2021-10-31T12:11:35.405721",
     "exception": false,
     "start_time": "2021-10-31T12:11:35.364973",
     "status": "completed"
    },
    "tags": []
   },
   "outputs": [],
   "source": [
    "#hide\n",
    "# g = g.rename(columns= {'continent':'group','country':'name','cases':'value'})"
   ]
  },
  {
   "cell_type": "code",
   "execution_count": 36,
   "id": "fleet-motorcycle",
   "metadata": {
    "execution": {
     "iopub.execute_input": "2021-10-31T12:11:35.479446Z",
     "iopub.status.busy": "2021-10-31T12:11:35.478800Z",
     "iopub.status.idle": "2021-10-31T12:11:35.481204Z",
     "shell.execute_reply": "2021-10-31T12:11:35.481770Z"
    },
    "papermill": {
     "duration": 0.042073,
     "end_time": "2021-10-31T12:11:35.481918",
     "exception": false,
     "start_time": "2021-10-31T12:11:35.439845",
     "status": "completed"
    },
    "tags": []
   },
   "outputs": [],
   "source": [
    "#hide\n",
    "# cols = ['name','group','day','value']"
   ]
  },
  {
   "cell_type": "code",
   "execution_count": 37,
   "id": "continued-sleeping",
   "metadata": {
    "execution": {
     "iopub.execute_input": "2021-10-31T12:11:35.554703Z",
     "iopub.status.busy": "2021-10-31T12:11:35.554099Z",
     "iopub.status.idle": "2021-10-31T12:11:35.556401Z",
     "shell.execute_reply": "2021-10-31T12:11:35.555895Z"
    },
    "papermill": {
     "duration": 0.040531,
     "end_time": "2021-10-31T12:11:35.556526",
     "exception": false,
     "start_time": "2021-10-31T12:11:35.515995",
     "status": "completed"
    },
    "tags": []
   },
   "outputs": [],
   "source": [
    "#hide\n",
    "# g.rename(columns= {'date':'day'},inplace = True)"
   ]
  },
  {
   "cell_type": "code",
   "execution_count": 38,
   "id": "major-fight",
   "metadata": {
    "execution": {
     "iopub.execute_input": "2021-10-31T12:11:35.629911Z",
     "iopub.status.busy": "2021-10-31T12:11:35.629300Z",
     "iopub.status.idle": "2021-10-31T12:11:35.631721Z",
     "shell.execute_reply": "2021-10-31T12:11:35.632294Z"
    },
    "papermill": {
     "duration": 0.041797,
     "end_time": "2021-10-31T12:11:35.632445",
     "exception": false,
     "start_time": "2021-10-31T12:11:35.590648",
     "status": "completed"
    },
    "tags": []
   },
   "outputs": [],
   "source": [
    "#hide\n",
    "# g = g[cols]"
   ]
  },
  {
   "cell_type": "code",
   "execution_count": 39,
   "id": "structured-mobile",
   "metadata": {
    "execution": {
     "iopub.execute_input": "2021-10-31T12:11:35.704467Z",
     "iopub.status.busy": "2021-10-31T12:11:35.703868Z",
     "iopub.status.idle": "2021-10-31T12:11:35.705817Z",
     "shell.execute_reply": "2021-10-31T12:11:35.706323Z"
    },
    "papermill": {
     "duration": 0.040086,
     "end_time": "2021-10-31T12:11:35.706463",
     "exception": false,
     "start_time": "2021-10-31T12:11:35.666377",
     "status": "completed"
    },
    "tags": []
   },
   "outputs": [],
   "source": [
    "# #hide\n",
    "# g = g[g.group.notna()]"
   ]
  },
  {
   "cell_type": "code",
   "execution_count": 40,
   "id": "determined-closing",
   "metadata": {
    "execution": {
     "iopub.execute_input": "2021-10-31T12:11:35.779360Z",
     "iopub.status.busy": "2021-10-31T12:11:35.778715Z",
     "iopub.status.idle": "2021-10-31T12:11:35.780368Z",
     "shell.execute_reply": "2021-10-31T12:11:35.781113Z"
    },
    "papermill": {
     "duration": 0.04047,
     "end_time": "2021-10-31T12:11:35.781261",
     "exception": false,
     "start_time": "2021-10-31T12:11:35.740791",
     "status": "completed"
    },
    "tags": []
   },
   "outputs": [],
   "source": [
    "# #hide\n",
    "# colors = dict(zip(\n",
    "#     [\"Oceania\", \"Europe\", \"Asia\", \"South America\", \"Middle East\", \"North America\", \"Africa\"],\n",
    "#     [\"#adb0ff\", \"#ffb3ff\", \"#90d595\", \"#e48381\", \"#aafbff\", \"#f7bb5f\", \"#eafb50\"]\n",
    "# ))\n",
    "# group_lk = g.set_index('name')['group'].to_dict()"
   ]
  },
  {
   "cell_type": "code",
   "execution_count": null,
   "id": "gross-drinking",
   "metadata": {
    "papermill": {
     "duration": 0.034065,
     "end_time": "2021-10-31T12:11:35.849165",
     "exception": false,
     "start_time": "2021-10-31T12:11:35.815100",
     "status": "completed"
    },
    "tags": []
   },
   "outputs": [],
   "source": []
  },
  {
   "cell_type": "code",
   "execution_count": 41,
   "id": "subject-macintosh",
   "metadata": {
    "execution": {
     "iopub.execute_input": "2021-10-31T12:11:35.923307Z",
     "iopub.status.busy": "2021-10-31T12:11:35.922650Z",
     "iopub.status.idle": "2021-10-31T12:11:35.924847Z",
     "shell.execute_reply": "2021-10-31T12:11:35.925414Z"
    },
    "papermill": {
     "duration": 0.042236,
     "end_time": "2021-10-31T12:11:35.925563",
     "exception": false,
     "start_time": "2021-10-31T12:11:35.883327",
     "status": "completed"
    },
    "tags": []
   },
   "outputs": [],
   "source": [
    "# #hide\n",
    "# fig, ax = plt.subplots(figsize=(15, 8))\n",
    "\n",
    "# def draw_barchart(current_day):\n",
    "#     dff = g[g['day'].eq(current_day)].sort_values(by='value', ascending=True).tail(10)\n",
    "#     ax.clear()\n",
    "#     ax.barh(dff['name'], dff['value'], color=[colors[group_lk[x]] for x in dff['name']])\n",
    "#     dx = dff['value'].max() / 200\n",
    "    \n",
    "#     for i, (value, name) in enumerate(zip(dff['value'], dff['name'])):\n",
    "#         ax.text(value-dx, i,     name,           size=14, weight=600, ha='right', va='bottom')\n",
    "#         ax.text(value-dx, i-.25, group_lk[name], size=10, color='#444444', ha='right', va='baseline')\n",
    "#         ax.text(value+dx, i,     f'{value:,.0f}',  size=14, ha='left',  va='center')\n",
    "#     ax.text(1, 0.4, current_day, transform=ax.transAxes, color='#777777', size=46, ha='right', weight=800)\n",
    "#     ax.text(0, 1.06, 'Population (thousands)', transform=ax.transAxes, size=12, color='#777777')\n",
    "#     ax.xaxis.set_major_formatter(ticker.StrMethodFormatter('{x:,.0f}'))\n",
    "#     ax.xaxis.set_ticks_position('top')\n",
    "#     ax.tick_params(axis='x', colors='#777777', labelsize=12)\n",
    "#     ax.set_yticks([])\n",
    "#     ax.margins(0, 0.01)\n",
    "#     ax.grid(which='major', axis='x', linestyle='-')\n",
    "#     ax.set_axisbelow(True)\n",
    "    \n",
    "#     ax.text(0, 1.15, 'Coronavirus',\n",
    "#             transform=ax.transAxes, size=24, weight=600, ha='left', va='top')\n",
    "# #     ax.text(1, 0, 'by @pratapvardhan; credit @jburnmurdoch', transform=ax.transAxes, color='#777777', ha='right',\n",
    "# #             bbox=dict(facecolor='white', alpha=0.8, edgecolor='white'))\n",
    "#     plt.box(False)"
   ]
  },
  {
   "cell_type": "code",
   "execution_count": 42,
   "id": "sexual-wages",
   "metadata": {
    "execution": {
     "iopub.execute_input": "2021-10-31T12:11:35.998621Z",
     "iopub.status.busy": "2021-10-31T12:11:35.998004Z",
     "iopub.status.idle": "2021-10-31T12:11:36.000279Z",
     "shell.execute_reply": "2021-10-31T12:11:36.000792Z"
    },
    "papermill": {
     "duration": 0.041182,
     "end_time": "2021-10-31T12:11:36.000941",
     "exception": false,
     "start_time": "2021-10-31T12:11:35.959759",
     "status": "completed"
    },
    "tags": []
   },
   "outputs": [],
   "source": [
    "# #hide_input\n",
    "# fig, ax = plt.subplots(figsize=(15, 8))\n",
    "# animator = animation.FuncAnimation(fig, draw_barchart, frames=range(g.day.values.min(), g.day.values.max()))\n",
    "# HTML(animator.to_jshtml())\n",
    "# # or use animator.to_html5_video() or animator.save() "
   ]
  },
  {
   "cell_type": "code",
   "execution_count": null,
   "id": "australian-container",
   "metadata": {
    "papermill": {
     "duration": 0.033983,
     "end_time": "2021-10-31T12:11:36.069091",
     "exception": false,
     "start_time": "2021-10-31T12:11:36.035108",
     "status": "completed"
    },
    "tags": []
   },
   "outputs": [],
   "source": []
  },
  {
   "cell_type": "code",
   "execution_count": null,
   "id": "mediterranean-pontiac",
   "metadata": {
    "papermill": {
     "duration": 0.033901,
     "end_time": "2021-10-31T12:11:36.136879",
     "exception": false,
     "start_time": "2021-10-31T12:11:36.102978",
     "status": "completed"
    },
    "tags": []
   },
   "outputs": [],
   "source": []
  },
  {
   "cell_type": "code",
   "execution_count": null,
   "id": "aging-legislature",
   "metadata": {
    "papermill": {
     "duration": 0.033915,
     "end_time": "2021-10-31T12:11:36.205572",
     "exception": false,
     "start_time": "2021-10-31T12:11:36.171657",
     "status": "completed"
    },
    "tags": []
   },
   "outputs": [],
   "source": []
  }
 ],
 "metadata": {
  "kernelspec": {
   "display_name": "Python 3",
   "language": "python",
   "name": "python3"
  },
  "language_info": {
   "codemirror_mode": {
    "name": "ipython",
    "version": 3
   },
   "file_extension": ".py",
   "mimetype": "text/x-python",
   "name": "python",
   "nbconvert_exporter": "python",
   "pygments_lexer": "ipython3",
   "version": "3.6.15"
  },
  "papermill": {
   "duration": 6.848209,
   "end_time": "2021-10-31T12:11:36.650119",
   "environment_variables": {},
   "exception": null,
   "input_path": "2020-03-21-covid19exp.ipynb",
   "output_path": "2020-03-21-covid19exp.ipynb",
   "parameters": {},
   "start_time": "2021-10-31T12:11:29.801910",
   "version": "2.0.0"
  }
 },
 "nbformat": 4,
 "nbformat_minor": 5
}