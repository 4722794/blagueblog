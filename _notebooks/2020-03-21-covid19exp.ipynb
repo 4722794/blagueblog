{
 "cells": [
  {
   "cell_type": "markdown",
   "id": "muslim-click",
   "metadata": {
    "papermill": {
     "duration": 0.038423,
     "end_time": "2022-01-20T12:13:22.822393",
     "exception": false,
     "start_time": "2022-01-20T12:13:22.783970",
     "status": "completed"
    },
    "tags": []
   },
   "source": [
    "# COVID-19 Case Race\n",
    "> A race chart to see rising cases around the world\n",
    "\n",
    "- author: Hargun Oberoi\n",
    "- image: images/covid-overview.png\n",
    "- hide: false\n",
    "- badges: false"
   ]
  },
  {
   "cell_type": "code",
   "execution_count": 1,
   "id": "proof-material",
   "metadata": {
    "execution": {
     "iopub.execute_input": "2022-01-20T12:13:22.903411Z",
     "iopub.status.busy": "2022-01-20T12:13:22.902800Z",
     "iopub.status.idle": "2022-01-20T12:13:23.273954Z",
     "shell.execute_reply": "2022-01-20T12:13:23.273269Z"
    },
    "papermill": {
     "duration": 0.417684,
     "end_time": "2022-01-20T12:13:23.274154",
     "exception": false,
     "start_time": "2022-01-20T12:13:22.856470",
     "status": "completed"
    },
    "tags": []
   },
   "outputs": [],
   "source": [
    "#hide\n",
    "import numpy as np\n",
    "import pandas as pd\n",
    "from jinja2 import Template\n",
    "from IPython.display import HTML"
   ]
  },
  {
   "cell_type": "code",
   "execution_count": 2,
   "id": "developed-terminology",
   "metadata": {
    "execution": {
     "iopub.execute_input": "2022-01-20T12:13:23.351603Z",
     "iopub.status.busy": "2022-01-20T12:13:23.350531Z",
     "iopub.status.idle": "2022-01-20T12:13:23.355101Z",
     "shell.execute_reply": "2022-01-20T12:13:23.354614Z"
    },
    "papermill": {
     "duration": 0.045331,
     "end_time": "2022-01-20T12:13:23.355228",
     "exception": false,
     "start_time": "2022-01-20T12:13:23.309897",
     "status": "completed"
    },
    "tags": []
   },
   "outputs": [],
   "source": [
    "#hide\n",
    "\n",
    "# FETCH\n",
    "base_url = 'https://raw.githubusercontent.com/pratapvardhan/notebooks/master/covid19/'\n",
    "paths = {\n",
    "    'mapping': base_url + 'mapping_countries.csv',\n",
    "    'overview': base_url + 'overview.tpl'\n",
    "}"
   ]
  },
  {
   "cell_type": "code",
   "execution_count": 3,
   "id": "dynamic-saver",
   "metadata": {
    "execution": {
     "iopub.execute_input": "2022-01-20T12:13:23.432976Z",
     "iopub.status.busy": "2022-01-20T12:13:23.432377Z",
     "iopub.status.idle": "2022-01-20T12:13:23.435748Z",
     "shell.execute_reply": "2022-01-20T12:13:23.436235Z"
    },
    "papermill": {
     "duration": 0.04776,
     "end_time": "2022-01-20T12:13:23.436375",
     "exception": false,
     "start_time": "2022-01-20T12:13:23.388615",
     "status": "completed"
    },
    "tags": []
   },
   "outputs": [
    {
     "data": {
      "text/plain": [
       "'https://raw.githubusercontent.com/pratapvardhan/notebooks/master/covid19/mapping_countries.csv'"
      ]
     },
     "execution_count": 3,
     "metadata": {},
     "output_type": "execute_result"
    }
   ],
   "source": [
    "#hide\n",
    "paths['mapping']"
   ]
  },
  {
   "cell_type": "code",
   "execution_count": 4,
   "id": "urban-software",
   "metadata": {
    "execution": {
     "iopub.execute_input": "2022-01-20T12:13:23.508946Z",
     "iopub.status.busy": "2022-01-20T12:13:23.508355Z",
     "iopub.status.idle": "2022-01-20T12:13:23.511004Z",
     "shell.execute_reply": "2022-01-20T12:13:23.510531Z"
    },
    "papermill": {
     "duration": 0.041144,
     "end_time": "2022-01-20T12:13:23.511122",
     "exception": false,
     "start_time": "2022-01-20T12:13:23.469978",
     "status": "completed"
    },
    "tags": []
   },
   "outputs": [],
   "source": [
    "#hide\n",
    "def get_mappings(url):\n",
    "    df = pd.read_csv(url)\n",
    "    return {\n",
    "        'df': df,\n",
    "        'replace.country': dict(df.dropna(subset=['Name']).set_index('Country')['Name']),\n",
    "        'map.continent': dict(df.set_index('Name')['Continent'])\n",
    "    }"
   ]
  },
  {
   "cell_type": "code",
   "execution_count": 5,
   "id": "intimate-machinery",
   "metadata": {
    "execution": {
     "iopub.execute_input": "2022-01-20T12:13:23.585694Z",
     "iopub.status.busy": "2022-01-20T12:13:23.585096Z",
     "iopub.status.idle": "2022-01-20T12:13:23.634006Z",
     "shell.execute_reply": "2022-01-20T12:13:23.633061Z"
    },
    "papermill": {
     "duration": 0.089758,
     "end_time": "2022-01-20T12:13:23.634211",
     "exception": false,
     "start_time": "2022-01-20T12:13:23.544453",
     "status": "completed"
    },
    "tags": []
   },
   "outputs": [],
   "source": [
    "#hide\n",
    "mapping = get_mappings(paths['mapping'])"
   ]
  },
  {
   "cell_type": "code",
   "execution_count": 6,
   "id": "certified-tactics",
   "metadata": {
    "execution": {
     "iopub.execute_input": "2022-01-20T12:13:23.709882Z",
     "iopub.status.busy": "2022-01-20T12:13:23.709270Z",
     "iopub.status.idle": "2022-01-20T12:13:23.713676Z",
     "shell.execute_reply": "2022-01-20T12:13:23.713130Z"
    },
    "papermill": {
     "duration": 0.044708,
     "end_time": "2022-01-20T12:13:23.713798",
     "exception": false,
     "start_time": "2022-01-20T12:13:23.669090",
     "status": "completed"
    },
    "tags": []
   },
   "outputs": [],
   "source": [
    "#hide\n",
    "def get_template(path):\n",
    "    from urllib.parse import urlparse\n",
    "    if bool(urlparse(path).netloc):\n",
    "        from urllib.request import urlopen\n",
    "        return urlopen(path).read().decode('utf8')\n",
    "    return open(path).read()"
   ]
  },
  {
   "cell_type": "code",
   "execution_count": 7,
   "id": "realistic-blast",
   "metadata": {
    "execution": {
     "iopub.execute_input": "2022-01-20T12:13:23.786884Z",
     "iopub.status.busy": "2022-01-20T12:13:23.786275Z",
     "iopub.status.idle": "2022-01-20T12:13:23.788725Z",
     "shell.execute_reply": "2022-01-20T12:13:23.789202Z"
    },
    "papermill": {
     "duration": 0.041316,
     "end_time": "2022-01-20T12:13:23.789336",
     "exception": false,
     "start_time": "2022-01-20T12:13:23.748020",
     "status": "completed"
    },
    "tags": []
   },
   "outputs": [],
   "source": [
    "#hide\n",
    "def get_frame(name):\n",
    "    url = (\n",
    "        'https://raw.githubusercontent.com/CSSEGISandData/COVID-19/master/csse_covid_19_data/'\n",
    "        f'csse_covid_19_time_series/time_series_covid19_{name}_global.csv')\n",
    "    df = pd.read_csv(url)\n",
    "    # rename countries\n",
    "    df['Country/Region'] = df['Country/Region'].replace(mapping['replace.country'])\n",
    "    return df"
   ]
  },
  {
   "cell_type": "code",
   "execution_count": 8,
   "id": "affiliated-characterization",
   "metadata": {
    "execution": {
     "iopub.execute_input": "2022-01-20T12:13:23.864438Z",
     "iopub.status.busy": "2022-01-20T12:13:23.863815Z",
     "iopub.status.idle": "2022-01-20T12:13:23.865653Z",
     "shell.execute_reply": "2022-01-20T12:13:23.866100Z"
    },
    "papermill": {
     "duration": 0.042045,
     "end_time": "2022-01-20T12:13:23.866240",
     "exception": false,
     "start_time": "2022-01-20T12:13:23.824195",
     "status": "completed"
    },
    "tags": []
   },
   "outputs": [],
   "source": [
    "#hide\n",
    "def get_dates(df):\n",
    "    dt_cols = df.columns[~df.columns.isin(['Province/State', 'Country/Region', 'Lat', 'Long'])]\n",
    "    LAST_DATE_I = -1\n",
    "    # sometimes last column may be empty, then go backwards\n",
    "    for i in range(-1, -len(dt_cols), -1):\n",
    "        if not df[dt_cols[i]].fillna(0).eq(0).all():\n",
    "            LAST_DATE_I = i\n",
    "            break\n",
    "    return LAST_DATE_I, dt_cols"
   ]
  },
  {
   "cell_type": "code",
   "execution_count": 9,
   "id": "recent-optimization",
   "metadata": {
    "execution": {
     "iopub.execute_input": "2022-01-20T12:13:23.939289Z",
     "iopub.status.busy": "2022-01-20T12:13:23.938682Z",
     "iopub.status.idle": "2022-01-20T12:13:24.358031Z",
     "shell.execute_reply": "2022-01-20T12:13:24.357380Z"
    },
    "papermill": {
     "duration": 0.458806,
     "end_time": "2022-01-20T12:13:24.358198",
     "exception": false,
     "start_time": "2022-01-20T12:13:23.899392",
     "status": "completed"
    },
    "tags": []
   },
   "outputs": [],
   "source": [
    "#hide\n",
    "COL_REGION = 'Country/Region'\n",
    "# Confirmed, Recovered, Deaths\n",
    "df = get_frame('confirmed')\n",
    "# dft_: timeseries, dfc_: today country agg\n",
    "dft_cases = df\n",
    "dft_deaths = get_frame('deaths')\n",
    "dft_recovered = get_frame('recovered')\n",
    "LAST_DATE_I, dt_cols = get_dates(df)"
   ]
  },
  {
   "cell_type": "code",
   "execution_count": 10,
   "id": "absolute-copper",
   "metadata": {
    "execution": {
     "iopub.execute_input": "2022-01-20T12:13:24.437261Z",
     "iopub.status.busy": "2022-01-20T12:13:24.436137Z",
     "iopub.status.idle": "2022-01-20T12:13:24.438331Z",
     "shell.execute_reply": "2022-01-20T12:13:24.438905Z"
    },
    "papermill": {
     "duration": 0.044703,
     "end_time": "2022-01-20T12:13:24.439053",
     "exception": false,
     "start_time": "2022-01-20T12:13:24.394350",
     "status": "completed"
    },
    "tags": []
   },
   "outputs": [],
   "source": [
    "#hide\n",
    "LAST_DATE_I, dt_cols = get_dates(df)\n",
    "dt_today =dt_cols[LAST_DATE_I]\n",
    "# dt_5day = dt_cols[LAST_DATE_I - 5]\n",
    "dt_yday = dt_cols[LAST_DATE_I - 1]"
   ]
  },
  {
   "cell_type": "code",
   "execution_count": 11,
   "id": "restricted-sheriff",
   "metadata": {
    "execution": {
     "iopub.execute_input": "2022-01-20T12:13:24.512942Z",
     "iopub.status.busy": "2022-01-20T12:13:24.512342Z",
     "iopub.status.idle": "2022-01-20T12:13:24.520236Z",
     "shell.execute_reply": "2022-01-20T12:13:24.519745Z"
    },
    "papermill": {
     "duration": 0.047758,
     "end_time": "2022-01-20T12:13:24.520363",
     "exception": false,
     "start_time": "2022-01-20T12:13:24.472605",
     "status": "completed"
    },
    "tags": []
   },
   "outputs": [],
   "source": [
    "#hide\n",
    "dfc_cases = dft_cases.groupby(COL_REGION)[dt_today].sum()\n",
    "dfc_deaths = dft_deaths.groupby(COL_REGION)[dt_today].sum()\n",
    "# dfp_cases = dft_cases.groupby(COL_REGION)[dt_5day].sum()\n",
    "# dfp_deaths = dft_deaths.groupby(COL_REGION)[dt_5day].sum()\n",
    "dfp_cases = dft_cases.groupby(COL_REGION)[dt_yday].sum()\n",
    "dfp_deaths = dft_deaths.groupby(COL_REGION)[dt_yday].sum()"
   ]
  },
  {
   "cell_type": "code",
   "execution_count": 12,
   "id": "deluxe-hepatitis",
   "metadata": {
    "execution": {
     "iopub.execute_input": "2022-01-20T12:13:24.596190Z",
     "iopub.status.busy": "2022-01-20T12:13:24.595553Z",
     "iopub.status.idle": "2022-01-20T12:13:24.599908Z",
     "shell.execute_reply": "2022-01-20T12:13:24.599368Z"
    },
    "papermill": {
     "duration": 0.045955,
     "end_time": "2022-01-20T12:13:24.600033",
     "exception": false,
     "start_time": "2022-01-20T12:13:24.554078",
     "status": "completed"
    },
    "tags": []
   },
   "outputs": [],
   "source": [
    "#hide\n",
    "df_table = (pd.DataFrame(dict(Cases = dfc_cases, Deaths = dfc_deaths, PCases = dfp_cases, PDeaths = dfp_deaths))\n",
    "            .sort_values(by = ['Cases','Deaths'], ascending = [False, False])\n",
    "            .reset_index())"
   ]
  },
  {
   "cell_type": "code",
   "execution_count": 13,
   "id": "educational-chancellor",
   "metadata": {
    "execution": {
     "iopub.execute_input": "2022-01-20T12:13:24.695001Z",
     "iopub.status.busy": "2022-01-20T12:13:24.691028Z",
     "iopub.status.idle": "2022-01-20T12:13:24.718222Z",
     "shell.execute_reply": "2022-01-20T12:13:24.717737Z"
    },
    "papermill": {
     "duration": 0.073408,
     "end_time": "2022-01-20T12:13:24.718352",
     "exception": false,
     "start_time": "2022-01-20T12:13:24.644944",
     "status": "completed"
    },
    "tags": []
   },
   "outputs": [
    {
     "data": {
      "text/html": [
       "<div>\n",
       "<style scoped>\n",
       "    .dataframe tbody tr th:only-of-type {\n",
       "        vertical-align: middle;\n",
       "    }\n",
       "\n",
       "    .dataframe tbody tr th {\n",
       "        vertical-align: top;\n",
       "    }\n",
       "\n",
       "    .dataframe thead th {\n",
       "        text-align: right;\n",
       "    }\n",
       "</style>\n",
       "<table border=\"1\" class=\"dataframe\">\n",
       "  <thead>\n",
       "    <tr style=\"text-align: right;\">\n",
       "      <th></th>\n",
       "      <th>Country/Region</th>\n",
       "      <th>Cases</th>\n",
       "      <th>Deaths</th>\n",
       "      <th>PCases</th>\n",
       "      <th>PDeaths</th>\n",
       "      <th>Cases (+)</th>\n",
       "      <th>Deaths (+)</th>\n",
       "      <th>Fatality Rate</th>\n",
       "      <th>Continent</th>\n",
       "    </tr>\n",
       "  </thead>\n",
       "  <tbody>\n",
       "    <tr>\n",
       "      <th>0</th>\n",
       "      <td>US</td>\n",
       "      <td>68569950</td>\n",
       "      <td>857768</td>\n",
       "      <td>67590030</td>\n",
       "      <td>853958</td>\n",
       "      <td>979920</td>\n",
       "      <td>3810</td>\n",
       "      <td>1.25</td>\n",
       "      <td>North America</td>\n",
       "    </tr>\n",
       "    <tr>\n",
       "      <th>1</th>\n",
       "      <td>India</td>\n",
       "      <td>38218773</td>\n",
       "      <td>487693</td>\n",
       "      <td>37901241</td>\n",
       "      <td>487202</td>\n",
       "      <td>317532</td>\n",
       "      <td>491</td>\n",
       "      <td>1.28</td>\n",
       "      <td>Asia</td>\n",
       "    </tr>\n",
       "    <tr>\n",
       "      <th>2</th>\n",
       "      <td>Brazil</td>\n",
       "      <td>23425392</td>\n",
       "      <td>622125</td>\n",
       "      <td>23229851</td>\n",
       "      <td>621803</td>\n",
       "      <td>195541</td>\n",
       "      <td>322</td>\n",
       "      <td>2.66</td>\n",
       "      <td>South America</td>\n",
       "    </tr>\n",
       "    <tr>\n",
       "      <th>3</th>\n",
       "      <td>United Kingdom</td>\n",
       "      <td>15610069</td>\n",
       "      <td>153378</td>\n",
       "      <td>15501850</td>\n",
       "      <td>153017</td>\n",
       "      <td>108219</td>\n",
       "      <td>361</td>\n",
       "      <td>0.98</td>\n",
       "      <td>Europe</td>\n",
       "    </tr>\n",
       "    <tr>\n",
       "      <th>4</th>\n",
       "      <td>France</td>\n",
       "      <td>14289873</td>\n",
       "      <td>128641</td>\n",
       "      <td>14284535</td>\n",
       "      <td>128629</td>\n",
       "      <td>5338</td>\n",
       "      <td>12</td>\n",
       "      <td>0.90</td>\n",
       "      <td>Europe</td>\n",
       "    </tr>\n",
       "  </tbody>\n",
       "</table>\n",
       "</div>"
      ],
      "text/plain": [
       "   Country/Region     Cases  Deaths    PCases  PDeaths  Cases (+)  Deaths (+)  \\\n",
       "0              US  68569950  857768  67590030   853958     979920        3810   \n",
       "1           India  38218773  487693  37901241   487202     317532         491   \n",
       "2          Brazil  23425392  622125  23229851   621803     195541         322   \n",
       "3  United Kingdom  15610069  153378  15501850   153017     108219         361   \n",
       "4          France  14289873  128641  14284535   128629       5338          12   \n",
       "\n",
       "   Fatality Rate      Continent  \n",
       "0           1.25  North America  \n",
       "1           1.28           Asia  \n",
       "2           2.66  South America  \n",
       "3           0.98         Europe  \n",
       "4           0.90         Europe  "
      ]
     },
     "execution_count": 13,
     "metadata": {},
     "output_type": "execute_result"
    }
   ],
   "source": [
    "#hide\n",
    "for c in 'Cases, Deaths'.split(', '):\n",
    "    df_table[f'{c} (+)'] = (df_table[c] - df_table[f'P{c}']).clip(0)\n",
    "    #Clip ça veut dire, les chiffres negatif sont interdit\n",
    "df_table['Fatality Rate'] = (100* df_table['Deaths']/ df_table['Cases']).round(2)\n",
    "df_table['Continent'] = df_table['Country/Region'].map(mapping['map.continent'])\n",
    "df_table.head(5)"
   ]
  },
  {
   "cell_type": "code",
   "execution_count": 14,
   "id": "aboriginal-bulgaria",
   "metadata": {
    "execution": {
     "iopub.execute_input": "2022-01-20T12:13:24.800316Z",
     "iopub.status.busy": "2022-01-20T12:13:24.799663Z",
     "iopub.status.idle": "2022-01-20T12:13:24.804552Z",
     "shell.execute_reply": "2022-01-20T12:13:24.803266Z"
    },
    "papermill": {
     "duration": 0.04669,
     "end_time": "2022-01-20T12:13:24.804684",
     "exception": false,
     "start_time": "2022-01-20T12:13:24.757994",
     "status": "completed"
    },
    "tags": []
   },
   "outputs": [],
   "source": [
    "#hide\n",
    "#delete problematic countries from table\n",
    "df_table = df_table[~df_table['Country/Region'].isin(['Cape Verde', 'Cruise Ship', 'Kosovo'])]"
   ]
  },
  {
   "cell_type": "code",
   "execution_count": 15,
   "id": "fantastic-effect",
   "metadata": {
    "execution": {
     "iopub.execute_input": "2022-01-20T12:13:24.892828Z",
     "iopub.status.busy": "2022-01-20T12:13:24.892198Z",
     "iopub.status.idle": "2022-01-20T12:13:24.914606Z",
     "shell.execute_reply": "2022-01-20T12:13:24.915073Z"
    },
    "papermill": {
     "duration": 0.068366,
     "end_time": "2022-01-20T12:13:24.915234",
     "exception": false,
     "start_time": "2022-01-20T12:13:24.846868",
     "status": "completed"
    },
    "tags": []
   },
   "outputs": [
    {
     "data": {
      "text/html": [
       "<div>\n",
       "<style scoped>\n",
       "    .dataframe tbody tr th:only-of-type {\n",
       "        vertical-align: middle;\n",
       "    }\n",
       "\n",
       "    .dataframe tbody tr th {\n",
       "        vertical-align: top;\n",
       "    }\n",
       "\n",
       "    .dataframe thead th {\n",
       "        text-align: right;\n",
       "    }\n",
       "</style>\n",
       "<table border=\"1\" class=\"dataframe\">\n",
       "  <thead>\n",
       "    <tr style=\"text-align: right;\">\n",
       "      <th></th>\n",
       "      <th>Country/Region</th>\n",
       "      <th>Cases</th>\n",
       "      <th>Deaths</th>\n",
       "      <th>PCases</th>\n",
       "      <th>PDeaths</th>\n",
       "      <th>Cases (+)</th>\n",
       "      <th>Deaths (+)</th>\n",
       "      <th>Fatality Rate</th>\n",
       "      <th>Continent</th>\n",
       "    </tr>\n",
       "  </thead>\n",
       "  <tbody>\n",
       "    <tr>\n",
       "      <th>0</th>\n",
       "      <td>US</td>\n",
       "      <td>68569950</td>\n",
       "      <td>857768</td>\n",
       "      <td>67590030</td>\n",
       "      <td>853958</td>\n",
       "      <td>979920</td>\n",
       "      <td>3810</td>\n",
       "      <td>1.3</td>\n",
       "      <td>North America</td>\n",
       "    </tr>\n",
       "    <tr>\n",
       "      <th>1</th>\n",
       "      <td>India</td>\n",
       "      <td>38218773</td>\n",
       "      <td>487693</td>\n",
       "      <td>37901241</td>\n",
       "      <td>487202</td>\n",
       "      <td>317532</td>\n",
       "      <td>491</td>\n",
       "      <td>1.3</td>\n",
       "      <td>Asia</td>\n",
       "    </tr>\n",
       "    <tr>\n",
       "      <th>2</th>\n",
       "      <td>Brazil</td>\n",
       "      <td>23425392</td>\n",
       "      <td>622125</td>\n",
       "      <td>23229851</td>\n",
       "      <td>621803</td>\n",
       "      <td>195541</td>\n",
       "      <td>322</td>\n",
       "      <td>2.7</td>\n",
       "      <td>South America</td>\n",
       "    </tr>\n",
       "    <tr>\n",
       "      <th>3</th>\n",
       "      <td>United Kingdom</td>\n",
       "      <td>15610069</td>\n",
       "      <td>153378</td>\n",
       "      <td>15501850</td>\n",
       "      <td>153017</td>\n",
       "      <td>108219</td>\n",
       "      <td>361</td>\n",
       "      <td>1.0</td>\n",
       "      <td>Europe</td>\n",
       "    </tr>\n",
       "    <tr>\n",
       "      <th>4</th>\n",
       "      <td>France</td>\n",
       "      <td>14289873</td>\n",
       "      <td>128641</td>\n",
       "      <td>14284535</td>\n",
       "      <td>128629</td>\n",
       "      <td>5338</td>\n",
       "      <td>12</td>\n",
       "      <td>0.9</td>\n",
       "      <td>Europe</td>\n",
       "    </tr>\n",
       "  </tbody>\n",
       "</table>\n",
       "</div>"
      ],
      "text/plain": [
       "   Country/Region     Cases  Deaths    PCases  PDeaths  Cases (+)  Deaths (+)  \\\n",
       "0              US  68569950  857768  67590030   853958     979920        3810   \n",
       "1           India  38218773  487693  37901241   487202     317532         491   \n",
       "2          Brazil  23425392  622125  23229851   621803     195541         322   \n",
       "3  United Kingdom  15610069  153378  15501850   153017     108219         361   \n",
       "4          France  14289873  128641  14284535   128629       5338          12   \n",
       "\n",
       "   Fatality Rate      Continent  \n",
       "0            1.3  North America  \n",
       "1            1.3           Asia  \n",
       "2            2.7  South America  \n",
       "3            1.0         Europe  \n",
       "4            0.9         Europe  "
      ]
     },
     "execution_count": 15,
     "metadata": {},
     "output_type": "execute_result"
    }
   ],
   "source": [
    "#hide\n",
    "df_table = (pd.DataFrame(dict(Cases=dfc_cases, Deaths=dfc_deaths, PCases=dfp_cases, PDeaths=dfp_deaths))\n",
    "             .sort_values(by=['Cases', 'Deaths'], ascending=[False, False])\n",
    "             .reset_index())\n",
    "df_table.rename(columns={'index': 'Country/Region'}, inplace=True)\n",
    "for c in 'Cases, Deaths'.split(', '):\n",
    "    df_table[f'{c} (+)'] = (df_table[c] - df_table[f'P{c}']).clip(0)  # DATA BUG\n",
    "df_table['Fatality Rate'] = (100 * df_table['Deaths'] / df_table['Cases']).round(1)\n",
    "df_table['Continent'] = df_table['Country/Region'].map(mapping['map.continent'])\n",
    "df_table.head(5)"
   ]
  },
  {
   "cell_type": "code",
   "execution_count": 16,
   "id": "fewer-occasion",
   "metadata": {
    "execution": {
     "iopub.execute_input": "2022-01-20T12:13:25.002072Z",
     "iopub.status.busy": "2022-01-20T12:13:25.001466Z",
     "iopub.status.idle": "2022-01-20T12:13:25.005947Z",
     "shell.execute_reply": "2022-01-20T12:13:25.005467Z"
    },
    "papermill": {
     "duration": 0.053511,
     "end_time": "2022-01-20T12:13:25.006077",
     "exception": false,
     "start_time": "2022-01-20T12:13:24.952566",
     "status": "completed"
    },
    "tags": []
   },
   "outputs": [],
   "source": [
    "#hide\n",
    "#delete problematic countries from table\n",
    "df_table = df_table[~df_table['Country/Region'].isin(['Cape Verde', 'Cruise Ship', 'Kosovo'])]"
   ]
  },
  {
   "cell_type": "code",
   "execution_count": 17,
   "id": "related-center",
   "metadata": {
    "execution": {
     "iopub.execute_input": "2022-01-20T12:13:25.114813Z",
     "iopub.status.busy": "2022-01-20T12:13:25.114165Z",
     "iopub.status.idle": "2022-01-20T12:13:25.117907Z",
     "shell.execute_reply": "2022-01-20T12:13:25.117390Z"
    },
    "papermill": {
     "duration": 0.067752,
     "end_time": "2022-01-20T12:13:25.118034",
     "exception": false,
     "start_time": "2022-01-20T12:13:25.050282",
     "status": "completed"
    },
    "tags": []
   },
   "outputs": [],
   "source": [
    "#hide\n",
    "metrics = [df_table.columns[index] for index in [1,2,5,6]]\n",
    "# s_china = df_table[df_table['Country/Region'].eq('China')][metrics].sum().add_prefix('China ')\n",
    "s_us = df_table[df_table['Country/Region'].eq('US')][metrics].sum().add_prefix('US ')\n",
    "s_eu = df_table[df_table['Continent'].eq('Europe')][metrics].sum().add_prefix('EU ')\n",
    "s_ind = df_table[df_table['Country/Region'].eq('India')][metrics].sum().add_prefix('India ')\n",
    "summary = {'updated': pd.to_datetime(dt_today), 'since': pd.to_datetime(dt_yday)}\n",
    "summary = {'updated': pd.to_datetime(dt_today), 'since': pd.to_datetime(dt_yday)}\n",
    "summary = {**summary, **df_table[metrics].sum(), **s_ind, **s_us, **s_eu}"
   ]
  },
  {
   "cell_type": "code",
   "execution_count": 18,
   "id": "engaging-syndrome",
   "metadata": {
    "execution": {
     "iopub.execute_input": "2022-01-20T12:13:25.197126Z",
     "iopub.status.busy": "2022-01-20T12:13:25.196047Z",
     "iopub.status.idle": "2022-01-20T12:13:25.211745Z",
     "shell.execute_reply": "2022-01-20T12:13:25.211022Z"
    },
    "papermill": {
     "duration": 0.056597,
     "end_time": "2022-01-20T12:13:25.211930",
     "exception": false,
     "start_time": "2022-01-20T12:13:25.155333",
     "status": "completed"
    },
    "tags": []
   },
   "outputs": [],
   "source": [
    "#hide\n",
    "dft_ct_new_cases = dft_cases.groupby(COL_REGION)[dt_cols].sum().diff(axis=1).fillna(0).astype(int)"
   ]
  },
  {
   "cell_type": "code",
   "execution_count": 19,
   "id": "neutral-assignment",
   "metadata": {
    "execution": {
     "iopub.execute_input": "2022-01-20T12:13:25.292056Z",
     "iopub.status.busy": "2022-01-20T12:13:25.291424Z",
     "iopub.status.idle": "2022-01-20T12:13:25.294056Z",
     "shell.execute_reply": "2022-01-20T12:13:25.293569Z"
    },
    "papermill": {
     "duration": 0.045192,
     "end_time": "2022-01-20T12:13:25.294184",
     "exception": false,
     "start_time": "2022-01-20T12:13:25.248992",
     "status": "completed"
    },
    "tags": []
   },
   "outputs": [],
   "source": [
    "#hide\n",
    "everydaycases = dft_ct_new_cases.cumsum(axis=1)"
   ]
  },
  {
   "cell_type": "code",
   "execution_count": 20,
   "id": "parliamentary-calgary",
   "metadata": {
    "execution": {
     "iopub.execute_input": "2022-01-20T12:13:25.368860Z",
     "iopub.status.busy": "2022-01-20T12:13:25.368236Z",
     "iopub.status.idle": "2022-01-20T12:13:26.055634Z",
     "shell.execute_reply": "2022-01-20T12:13:26.054742Z"
    },
    "papermill": {
     "duration": 0.727112,
     "end_time": "2022-01-20T12:13:26.055893",
     "exception": false,
     "start_time": "2022-01-20T12:13:25.328781",
     "status": "completed"
    },
    "tags": []
   },
   "outputs": [],
   "source": [
    "#hide\n",
    "import pandas as pd\n",
    "import matplotlib.pyplot as plt\n",
    "import matplotlib.ticker as ticker\n",
    "import matplotlib.animation as animation\n",
    "from IPython.display import HTML"
   ]
  },
  {
   "cell_type": "code",
   "execution_count": 21,
   "id": "lasting-extraction",
   "metadata": {
    "execution": {
     "iopub.execute_input": "2022-01-20T12:13:26.134498Z",
     "iopub.status.busy": "2022-01-20T12:13:26.133897Z",
     "iopub.status.idle": "2022-01-20T12:13:26.140974Z",
     "shell.execute_reply": "2022-01-20T12:13:26.140487Z"
    },
    "papermill": {
     "duration": 0.048875,
     "end_time": "2022-01-20T12:13:26.141101",
     "exception": false,
     "start_time": "2022-01-20T12:13:26.092226",
     "status": "completed"
    },
    "tags": []
   },
   "outputs": [],
   "source": [
    "#hide\n",
    "t = everydaycases.stack()"
   ]
  },
  {
   "cell_type": "code",
   "execution_count": 22,
   "id": "premier-sleeve",
   "metadata": {
    "execution": {
     "iopub.execute_input": "2022-01-20T12:13:26.215245Z",
     "iopub.status.busy": "2022-01-20T12:13:26.214639Z",
     "iopub.status.idle": "2022-01-20T12:13:26.225252Z",
     "shell.execute_reply": "2022-01-20T12:13:26.225731Z"
    },
    "papermill": {
     "duration": 0.050078,
     "end_time": "2022-01-20T12:13:26.225869",
     "exception": false,
     "start_time": "2022-01-20T12:13:26.175791",
     "status": "completed"
    },
    "tags": []
   },
   "outputs": [],
   "source": [
    "#hide\n",
    "g = t.reset_index(['Country/Region'])"
   ]
  },
  {
   "cell_type": "code",
   "execution_count": 23,
   "id": "distributed-pittsburgh",
   "metadata": {
    "execution": {
     "iopub.execute_input": "2022-01-20T12:13:26.298929Z",
     "iopub.status.busy": "2022-01-20T12:13:26.298334Z",
     "iopub.status.idle": "2022-01-20T12:13:26.300764Z",
     "shell.execute_reply": "2022-01-20T12:13:26.301335Z"
    },
    "papermill": {
     "duration": 0.041298,
     "end_time": "2022-01-20T12:13:26.301470",
     "exception": false,
     "start_time": "2022-01-20T12:13:26.260172",
     "status": "completed"
    },
    "tags": []
   },
   "outputs": [],
   "source": [
    "#hide\n",
    "g.index.name = 'date'"
   ]
  },
  {
   "cell_type": "code",
   "execution_count": 24,
   "id": "naked-donor",
   "metadata": {
    "execution": {
     "iopub.execute_input": "2022-01-20T12:13:26.373896Z",
     "iopub.status.busy": "2022-01-20T12:13:26.373295Z",
     "iopub.status.idle": "2022-01-20T12:13:26.377500Z",
     "shell.execute_reply": "2022-01-20T12:13:26.376992Z"
    },
    "papermill": {
     "duration": 0.042248,
     "end_time": "2022-01-20T12:13:26.377628",
     "exception": false,
     "start_time": "2022-01-20T12:13:26.335380",
     "status": "completed"
    },
    "tags": []
   },
   "outputs": [],
   "source": [
    "# #hide\n",
    "# g = g.reset_index(['date'])"
   ]
  },
  {
   "cell_type": "code",
   "execution_count": 25,
   "id": "incomplete-mustang",
   "metadata": {
    "execution": {
     "iopub.execute_input": "2022-01-20T12:13:26.450237Z",
     "iopub.status.busy": "2022-01-20T12:13:26.449593Z",
     "iopub.status.idle": "2022-01-20T12:13:26.452124Z",
     "shell.execute_reply": "2022-01-20T12:13:26.452638Z"
    },
    "papermill": {
     "duration": 0.040813,
     "end_time": "2022-01-20T12:13:26.452774",
     "exception": false,
     "start_time": "2022-01-20T12:13:26.411961",
     "status": "completed"
    },
    "tags": []
   },
   "outputs": [],
   "source": [
    "#hide\n",
    "# g.head()"
   ]
  },
  {
   "cell_type": "code",
   "execution_count": 26,
   "id": "specific-kruger",
   "metadata": {
    "execution": {
     "iopub.execute_input": "2022-01-20T12:13:26.526252Z",
     "iopub.status.busy": "2022-01-20T12:13:26.525652Z",
     "iopub.status.idle": "2022-01-20T12:13:26.527169Z",
     "shell.execute_reply": "2022-01-20T12:13:26.527610Z"
    },
    "papermill": {
     "duration": 0.040604,
     "end_time": "2022-01-20T12:13:26.527771",
     "exception": false,
     "start_time": "2022-01-20T12:13:26.487167",
     "status": "completed"
    },
    "tags": []
   },
   "outputs": [],
   "source": [
    "#hide\n",
    "# g.columns = ['date','country','cases']"
   ]
  },
  {
   "cell_type": "code",
   "execution_count": 27,
   "id": "tender-conversion",
   "metadata": {
    "execution": {
     "iopub.execute_input": "2022-01-20T12:13:26.601455Z",
     "iopub.status.busy": "2022-01-20T12:13:26.600610Z",
     "iopub.status.idle": "2022-01-20T12:13:26.602853Z",
     "shell.execute_reply": "2022-01-20T12:13:26.603419Z"
    },
    "papermill": {
     "duration": 0.041477,
     "end_time": "2022-01-20T12:13:26.603552",
     "exception": false,
     "start_time": "2022-01-20T12:13:26.562075",
     "status": "completed"
    },
    "tags": []
   },
   "outputs": [],
   "source": [
    "#hide\n",
    "# g['continent'] = g.country"
   ]
  },
  {
   "cell_type": "code",
   "execution_count": 28,
   "id": "substantial-wilderness",
   "metadata": {
    "execution": {
     "iopub.execute_input": "2022-01-20T12:13:26.677485Z",
     "iopub.status.busy": "2022-01-20T12:13:26.676872Z",
     "iopub.status.idle": "2022-01-20T12:13:26.680571Z",
     "shell.execute_reply": "2022-01-20T12:13:26.681022Z"
    },
    "papermill": {
     "duration": 0.043068,
     "end_time": "2022-01-20T12:13:26.681161",
     "exception": false,
     "start_time": "2022-01-20T12:13:26.638093",
     "status": "completed"
    },
    "tags": []
   },
   "outputs": [],
   "source": [
    "#hide\n",
    "# cols = list(g.columns.values)"
   ]
  },
  {
   "cell_type": "code",
   "execution_count": 29,
   "id": "solved-farming",
   "metadata": {
    "execution": {
     "iopub.execute_input": "2022-01-20T12:13:26.756046Z",
     "iopub.status.busy": "2022-01-20T12:13:26.754780Z",
     "iopub.status.idle": "2022-01-20T12:13:26.757798Z",
     "shell.execute_reply": "2022-01-20T12:13:26.757012Z"
    },
    "papermill": {
     "duration": 0.042321,
     "end_time": "2022-01-20T12:13:26.757915",
     "exception": false,
     "start_time": "2022-01-20T12:13:26.715594",
     "status": "completed"
    },
    "tags": []
   },
   "outputs": [],
   "source": [
    "#hide\n",
    "# cols.insert(0, cols.pop())"
   ]
  },
  {
   "cell_type": "code",
   "execution_count": 30,
   "id": "executed-adoption",
   "metadata": {
    "execution": {
     "iopub.execute_input": "2022-01-20T12:13:26.830361Z",
     "iopub.status.busy": "2022-01-20T12:13:26.829771Z",
     "iopub.status.idle": "2022-01-20T12:13:26.833898Z",
     "shell.execute_reply": "2022-01-20T12:13:26.833421Z"
    },
    "papermill": {
     "duration": 0.041587,
     "end_time": "2022-01-20T12:13:26.834019",
     "exception": false,
     "start_time": "2022-01-20T12:13:26.792432",
     "status": "completed"
    },
    "tags": []
   },
   "outputs": [],
   "source": [
    "#hide\n",
    "# g = g[cols]"
   ]
  },
  {
   "cell_type": "code",
   "execution_count": 31,
   "id": "subject-dublin",
   "metadata": {
    "execution": {
     "iopub.execute_input": "2022-01-20T12:13:26.907996Z",
     "iopub.status.busy": "2022-01-20T12:13:26.906742Z",
     "iopub.status.idle": "2022-01-20T12:13:26.909629Z",
     "shell.execute_reply": "2022-01-20T12:13:26.908958Z"
    },
    "papermill": {
     "duration": 0.041222,
     "end_time": "2022-01-20T12:13:26.909745",
     "exception": false,
     "start_time": "2022-01-20T12:13:26.868523",
     "status": "completed"
    },
    "tags": []
   },
   "outputs": [],
   "source": [
    "#hide\n",
    "# g['continent'] = g['continent'].map(mapping['map.continent'])"
   ]
  },
  {
   "cell_type": "code",
   "execution_count": 32,
   "id": "freelance-scout",
   "metadata": {
    "execution": {
     "iopub.execute_input": "2022-01-20T12:13:26.982849Z",
     "iopub.status.busy": "2022-01-20T12:13:26.982145Z",
     "iopub.status.idle": "2022-01-20T12:13:26.986083Z",
     "shell.execute_reply": "2022-01-20T12:13:26.985577Z"
    },
    "papermill": {
     "duration": 0.041744,
     "end_time": "2022-01-20T12:13:26.986201",
     "exception": false,
     "start_time": "2022-01-20T12:13:26.944457",
     "status": "completed"
    },
    "tags": []
   },
   "outputs": [],
   "source": [
    "#hide\n",
    "# g.head()"
   ]
  },
  {
   "cell_type": "code",
   "execution_count": 33,
   "id": "limited-engine",
   "metadata": {
    "execution": {
     "iopub.execute_input": "2022-01-20T12:13:27.058855Z",
     "iopub.status.busy": "2022-01-20T12:13:27.057803Z",
     "iopub.status.idle": "2022-01-20T12:13:27.062297Z",
     "shell.execute_reply": "2022-01-20T12:13:27.062749Z"
    },
    "papermill": {
     "duration": 0.043263,
     "end_time": "2022-01-20T12:13:27.062890",
     "exception": false,
     "start_time": "2022-01-20T12:13:27.019627",
     "status": "completed"
    },
    "tags": []
   },
   "outputs": [],
   "source": [
    "# hide\n",
    "# g['date'] = g['date'].astype('datetime64[ns]')"
   ]
  },
  {
   "cell_type": "code",
   "execution_count": 34,
   "id": "sophisticated-supervisor",
   "metadata": {
    "execution": {
     "iopub.execute_input": "2022-01-20T12:13:27.136826Z",
     "iopub.status.busy": "2022-01-20T12:13:27.135774Z",
     "iopub.status.idle": "2022-01-20T12:13:27.137917Z",
     "shell.execute_reply": "2022-01-20T12:13:27.138725Z"
    },
    "papermill": {
     "duration": 0.041355,
     "end_time": "2022-01-20T12:13:27.138947",
     "exception": false,
     "start_time": "2022-01-20T12:13:27.097592",
     "status": "completed"
    },
    "tags": []
   },
   "outputs": [],
   "source": [
    "#hide\n",
    "# g['date'] = g.date.dt.dayofyear"
   ]
  },
  {
   "cell_type": "code",
   "execution_count": 35,
   "id": "inside-dubai",
   "metadata": {
    "execution": {
     "iopub.execute_input": "2022-01-20T12:13:27.215189Z",
     "iopub.status.busy": "2022-01-20T12:13:27.214589Z",
     "iopub.status.idle": "2022-01-20T12:13:27.216110Z",
     "shell.execute_reply": "2022-01-20T12:13:27.216613Z"
    },
    "papermill": {
     "duration": 0.041758,
     "end_time": "2022-01-20T12:13:27.216747",
     "exception": false,
     "start_time": "2022-01-20T12:13:27.174989",
     "status": "completed"
    },
    "tags": []
   },
   "outputs": [],
   "source": [
    "#hide\n",
    "# g = g.rename(columns= {'continent':'group','country':'name','cases':'value'})"
   ]
  },
  {
   "cell_type": "code",
   "execution_count": 36,
   "id": "fleet-motorcycle",
   "metadata": {
    "execution": {
     "iopub.execute_input": "2022-01-20T12:13:27.291519Z",
     "iopub.status.busy": "2022-01-20T12:13:27.290474Z",
     "iopub.status.idle": "2022-01-20T12:13:27.295405Z",
     "shell.execute_reply": "2022-01-20T12:13:27.294807Z"
    },
    "papermill": {
     "duration": 0.044288,
     "end_time": "2022-01-20T12:13:27.295526",
     "exception": false,
     "start_time": "2022-01-20T12:13:27.251238",
     "status": "completed"
    },
    "tags": []
   },
   "outputs": [],
   "source": [
    "#hide\n",
    "# cols = ['name','group','day','value']"
   ]
  },
  {
   "cell_type": "code",
   "execution_count": 37,
   "id": "continued-sleeping",
   "metadata": {
    "execution": {
     "iopub.execute_input": "2022-01-20T12:13:27.370430Z",
     "iopub.status.busy": "2022-01-20T12:13:27.369371Z",
     "iopub.status.idle": "2022-01-20T12:13:27.373785Z",
     "shell.execute_reply": "2022-01-20T12:13:27.374267Z"
    },
    "papermill": {
     "duration": 0.044464,
     "end_time": "2022-01-20T12:13:27.374409",
     "exception": false,
     "start_time": "2022-01-20T12:13:27.329945",
     "status": "completed"
    },
    "tags": []
   },
   "outputs": [],
   "source": [
    "#hide\n",
    "# g.rename(columns= {'date':'day'},inplace = True)"
   ]
  },
  {
   "cell_type": "code",
   "execution_count": 38,
   "id": "major-fight",
   "metadata": {
    "execution": {
     "iopub.execute_input": "2022-01-20T12:13:27.448154Z",
     "iopub.status.busy": "2022-01-20T12:13:27.447513Z",
     "iopub.status.idle": "2022-01-20T12:13:27.450784Z",
     "shell.execute_reply": "2022-01-20T12:13:27.450307Z"
    },
    "papermill": {
     "duration": 0.041838,
     "end_time": "2022-01-20T12:13:27.450909",
     "exception": false,
     "start_time": "2022-01-20T12:13:27.409071",
     "status": "completed"
    },
    "tags": []
   },
   "outputs": [],
   "source": [
    "#hide\n",
    "# g = g[cols]"
   ]
  },
  {
   "cell_type": "code",
   "execution_count": 39,
   "id": "structured-mobile",
   "metadata": {
    "execution": {
     "iopub.execute_input": "2022-01-20T12:13:27.525568Z",
     "iopub.status.busy": "2022-01-20T12:13:27.524508Z",
     "iopub.status.idle": "2022-01-20T12:13:27.528895Z",
     "shell.execute_reply": "2022-01-20T12:13:27.529348Z"
    },
    "papermill": {
     "duration": 0.04411,
     "end_time": "2022-01-20T12:13:27.529493",
     "exception": false,
     "start_time": "2022-01-20T12:13:27.485383",
     "status": "completed"
    },
    "tags": []
   },
   "outputs": [],
   "source": [
    "# #hide\n",
    "# g = g[g.group.notna()]"
   ]
  },
  {
   "cell_type": "code",
   "execution_count": 40,
   "id": "determined-closing",
   "metadata": {
    "execution": {
     "iopub.execute_input": "2022-01-20T12:13:27.604520Z",
     "iopub.status.busy": "2022-01-20T12:13:27.603394Z",
     "iopub.status.idle": "2022-01-20T12:13:27.605629Z",
     "shell.execute_reply": "2022-01-20T12:13:27.606440Z"
    },
    "papermill": {
     "duration": 0.042703,
     "end_time": "2022-01-20T12:13:27.606668",
     "exception": false,
     "start_time": "2022-01-20T12:13:27.563965",
     "status": "completed"
    },
    "tags": []
   },
   "outputs": [],
   "source": [
    "# #hide\n",
    "# colors = dict(zip(\n",
    "#     [\"Oceania\", \"Europe\", \"Asia\", \"South America\", \"Middle East\", \"North America\", \"Africa\"],\n",
    "#     [\"#adb0ff\", \"#ffb3ff\", \"#90d595\", \"#e48381\", \"#aafbff\", \"#f7bb5f\", \"#eafb50\"]\n",
    "# ))\n",
    "# group_lk = g.set_index('name')['group'].to_dict()"
   ]
  },
  {
   "cell_type": "code",
   "execution_count": null,
   "id": "gross-drinking",
   "metadata": {
    "papermill": {
     "duration": 0.035082,
     "end_time": "2022-01-20T12:13:27.677459",
     "exception": false,
     "start_time": "2022-01-20T12:13:27.642377",
     "status": "completed"
    },
    "tags": []
   },
   "outputs": [],
   "source": []
  },
  {
   "cell_type": "code",
   "execution_count": 41,
   "id": "subject-macintosh",
   "metadata": {
    "execution": {
     "iopub.execute_input": "2022-01-20T12:13:27.758151Z",
     "iopub.status.busy": "2022-01-20T12:13:27.757284Z",
     "iopub.status.idle": "2022-01-20T12:13:27.759013Z",
     "shell.execute_reply": "2022-01-20T12:13:27.759649Z"
    },
    "papermill": {
     "duration": 0.044491,
     "end_time": "2022-01-20T12:13:27.759864",
     "exception": false,
     "start_time": "2022-01-20T12:13:27.715373",
     "status": "completed"
    },
    "tags": []
   },
   "outputs": [],
   "source": [
    "# #hide\n",
    "# fig, ax = plt.subplots(figsize=(15, 8))\n",
    "\n",
    "# def draw_barchart(current_day):\n",
    "#     dff = g[g['day'].eq(current_day)].sort_values(by='value', ascending=True).tail(10)\n",
    "#     ax.clear()\n",
    "#     ax.barh(dff['name'], dff['value'], color=[colors[group_lk[x]] for x in dff['name']])\n",
    "#     dx = dff['value'].max() / 200\n",
    "    \n",
    "#     for i, (value, name) in enumerate(zip(dff['value'], dff['name'])):\n",
    "#         ax.text(value-dx, i,     name,           size=14, weight=600, ha='right', va='bottom')\n",
    "#         ax.text(value-dx, i-.25, group_lk[name], size=10, color='#444444', ha='right', va='baseline')\n",
    "#         ax.text(value+dx, i,     f'{value:,.0f}',  size=14, ha='left',  va='center')\n",
    "#     ax.text(1, 0.4, current_day, transform=ax.transAxes, color='#777777', size=46, ha='right', weight=800)\n",
    "#     ax.text(0, 1.06, 'Population (thousands)', transform=ax.transAxes, size=12, color='#777777')\n",
    "#     ax.xaxis.set_major_formatter(ticker.StrMethodFormatter('{x:,.0f}'))\n",
    "#     ax.xaxis.set_ticks_position('top')\n",
    "#     ax.tick_params(axis='x', colors='#777777', labelsize=12)\n",
    "#     ax.set_yticks([])\n",
    "#     ax.margins(0, 0.01)\n",
    "#     ax.grid(which='major', axis='x', linestyle='-')\n",
    "#     ax.set_axisbelow(True)\n",
    "    \n",
    "#     ax.text(0, 1.15, 'Coronavirus',\n",
    "#             transform=ax.transAxes, size=24, weight=600, ha='left', va='top')\n",
    "# #     ax.text(1, 0, 'by @pratapvardhan; credit @jburnmurdoch', transform=ax.transAxes, color='#777777', ha='right',\n",
    "# #             bbox=dict(facecolor='white', alpha=0.8, edgecolor='white'))\n",
    "#     plt.box(False)"
   ]
  },
  {
   "cell_type": "code",
   "execution_count": 42,
   "id": "sexual-wages",
   "metadata": {
    "execution": {
     "iopub.execute_input": "2022-01-20T12:13:27.833465Z",
     "iopub.status.busy": "2022-01-20T12:13:27.832863Z",
     "iopub.status.idle": "2022-01-20T12:13:27.835289Z",
     "shell.execute_reply": "2022-01-20T12:13:27.835897Z"
    },
    "papermill": {
     "duration": 0.04137,
     "end_time": "2022-01-20T12:13:27.836042",
     "exception": false,
     "start_time": "2022-01-20T12:13:27.794672",
     "status": "completed"
    },
    "tags": []
   },
   "outputs": [],
   "source": [
    "# #hide_input\n",
    "# fig, ax = plt.subplots(figsize=(15, 8))\n",
    "# animator = animation.FuncAnimation(fig, draw_barchart, frames=range(g.day.values.min(), g.day.values.max()))\n",
    "# HTML(animator.to_jshtml())\n",
    "# # or use animator.to_html5_video() or animator.save() "
   ]
  },
  {
   "cell_type": "code",
   "execution_count": null,
   "id": "australian-container",
   "metadata": {
    "papermill": {
     "duration": 0.034434,
     "end_time": "2022-01-20T12:13:27.905397",
     "exception": false,
     "start_time": "2022-01-20T12:13:27.870963",
     "status": "completed"
    },
    "tags": []
   },
   "outputs": [],
   "source": []
  },
  {
   "cell_type": "code",
   "execution_count": null,
   "id": "mediterranean-pontiac",
   "metadata": {
    "papermill": {
     "duration": 0.034377,
     "end_time": "2022-01-20T12:13:27.974348",
     "exception": false,
     "start_time": "2022-01-20T12:13:27.939971",
     "status": "completed"
    },
    "tags": []
   },
   "outputs": [],
   "source": []
  },
  {
   "cell_type": "code",
   "execution_count": null,
   "id": "aging-legislature",
   "metadata": {
    "papermill": {
     "duration": 0.03436,
     "end_time": "2022-01-20T12:13:28.043323",
     "exception": false,
     "start_time": "2022-01-20T12:13:28.008963",
     "status": "completed"
    },
    "tags": []
   },
   "outputs": [],
   "source": []
  }
 ],
 "metadata": {
  "kernelspec": {
   "display_name": "Python 3",
   "language": "python",
   "name": "python3"
  },
  "language_info": {
   "codemirror_mode": {
    "name": "ipython",
    "version": 3
   },
   "file_extension": ".py",
   "mimetype": "text/x-python",
   "name": "python",
   "nbconvert_exporter": "python",
   "pygments_lexer": "ipython3",
   "version": "3.6.15"
  },
  "papermill": {
   "duration": 6.910894,
   "end_time": "2022-01-20T12:13:28.398494",
   "environment_variables": {},
   "exception": null,
   "input_path": "2020-03-21-covid19exp.ipynb",
   "output_path": "2020-03-21-covid19exp.ipynb",
   "parameters": {},
   "start_time": "2022-01-20T12:13:21.487600",
   "version": "2.0.0"
  }
 },
 "nbformat": 4,
 "nbformat_minor": 5
}