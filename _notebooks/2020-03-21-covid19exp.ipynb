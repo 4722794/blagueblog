{
 "cells": [
  {
   "cell_type": "markdown",
   "id": "muslim-click",
   "metadata": {
    "papermill": {
     "duration": 0.041294,
     "end_time": "2022-01-10T00:27:43.477103",
     "exception": false,
     "start_time": "2022-01-10T00:27:43.435809",
     "status": "completed"
    },
    "tags": []
   },
   "source": [
    "# COVID-19 Case Race\n",
    "> A race chart to see rising cases around the world\n",
    "\n",
    "- author: Hargun Oberoi\n",
    "- image: images/covid-overview.png\n",
    "- hide: false\n",
    "- badges: false"
   ]
  },
  {
   "cell_type": "code",
   "execution_count": 1,
   "id": "proof-material",
   "metadata": {
    "execution": {
     "iopub.execute_input": "2022-01-10T00:27:43.572449Z",
     "iopub.status.busy": "2022-01-10T00:27:43.571510Z",
     "iopub.status.idle": "2022-01-10T00:27:44.031208Z",
     "shell.execute_reply": "2022-01-10T00:27:44.031708Z"
    },
    "papermill": {
     "duration": 0.517292,
     "end_time": "2022-01-10T00:27:44.031904",
     "exception": false,
     "start_time": "2022-01-10T00:27:43.514612",
     "status": "completed"
    },
    "tags": []
   },
   "outputs": [],
   "source": [
    "#hide\n",
    "import numpy as np\n",
    "import pandas as pd\n",
    "from jinja2 import Template\n",
    "from IPython.display import HTML"
   ]
  },
  {
   "cell_type": "code",
   "execution_count": 2,
   "id": "developed-terminology",
   "metadata": {
    "execution": {
     "iopub.execute_input": "2022-01-10T00:27:44.116173Z",
     "iopub.status.busy": "2022-01-10T00:27:44.115475Z",
     "iopub.status.idle": "2022-01-10T00:27:44.120995Z",
     "shell.execute_reply": "2022-01-10T00:27:44.120373Z"
    },
    "papermill": {
     "duration": 0.047514,
     "end_time": "2022-01-10T00:27:44.121151",
     "exception": false,
     "start_time": "2022-01-10T00:27:44.073637",
     "status": "completed"
    },
    "tags": []
   },
   "outputs": [],
   "source": [
    "#hide\n",
    "\n",
    "# FETCH\n",
    "base_url = 'https://raw.githubusercontent.com/pratapvardhan/notebooks/master/covid19/'\n",
    "paths = {\n",
    "    'mapping': base_url + 'mapping_countries.csv',\n",
    "    'overview': base_url + 'overview.tpl'\n",
    "}"
   ]
  },
  {
   "cell_type": "code",
   "execution_count": 3,
   "id": "dynamic-saver",
   "metadata": {
    "execution": {
     "iopub.execute_input": "2022-01-10T00:27:44.215282Z",
     "iopub.status.busy": "2022-01-10T00:27:44.214607Z",
     "iopub.status.idle": "2022-01-10T00:27:44.217576Z",
     "shell.execute_reply": "2022-01-10T00:27:44.218094Z"
    },
    "papermill": {
     "duration": 0.055038,
     "end_time": "2022-01-10T00:27:44.218247",
     "exception": false,
     "start_time": "2022-01-10T00:27:44.163209",
     "status": "completed"
    },
    "tags": []
   },
   "outputs": [
    {
     "data": {
      "text/plain": [
       "'https://raw.githubusercontent.com/pratapvardhan/notebooks/master/covid19/mapping_countries.csv'"
      ]
     },
     "execution_count": 3,
     "metadata": {},
     "output_type": "execute_result"
    }
   ],
   "source": [
    "#hide\n",
    "paths['mapping']"
   ]
  },
  {
   "cell_type": "code",
   "execution_count": 4,
   "id": "urban-software",
   "metadata": {
    "execution": {
     "iopub.execute_input": "2022-01-10T00:27:44.309769Z",
     "iopub.status.busy": "2022-01-10T00:27:44.308933Z",
     "iopub.status.idle": "2022-01-10T00:27:44.310612Z",
     "shell.execute_reply": "2022-01-10T00:27:44.311216Z"
    },
    "papermill": {
     "duration": 0.051002,
     "end_time": "2022-01-10T00:27:44.311372",
     "exception": false,
     "start_time": "2022-01-10T00:27:44.260370",
     "status": "completed"
    },
    "tags": []
   },
   "outputs": [],
   "source": [
    "#hide\n",
    "def get_mappings(url):\n",
    "    df = pd.read_csv(url)\n",
    "    return {\n",
    "        'df': df,\n",
    "        'replace.country': dict(df.dropna(subset=['Name']).set_index('Country')['Name']),\n",
    "        'map.continent': dict(df.set_index('Name')['Continent'])\n",
    "    }"
   ]
  },
  {
   "cell_type": "code",
   "execution_count": 5,
   "id": "intimate-machinery",
   "metadata": {
    "execution": {
     "iopub.execute_input": "2022-01-10T00:27:44.391418Z",
     "iopub.status.busy": "2022-01-10T00:27:44.390725Z",
     "iopub.status.idle": "2022-01-10T00:27:44.438246Z",
     "shell.execute_reply": "2022-01-10T00:27:44.438804Z"
    },
    "papermill": {
     "duration": 0.091347,
     "end_time": "2022-01-10T00:27:44.438973",
     "exception": false,
     "start_time": "2022-01-10T00:27:44.347626",
     "status": "completed"
    },
    "tags": []
   },
   "outputs": [],
   "source": [
    "#hide\n",
    "mapping = get_mappings(paths['mapping'])"
   ]
  },
  {
   "cell_type": "code",
   "execution_count": 6,
   "id": "certified-tactics",
   "metadata": {
    "execution": {
     "iopub.execute_input": "2022-01-10T00:27:44.525670Z",
     "iopub.status.busy": "2022-01-10T00:27:44.524797Z",
     "iopub.status.idle": "2022-01-10T00:27:44.526854Z",
     "shell.execute_reply": "2022-01-10T00:27:44.527452Z"
    },
    "papermill": {
     "duration": 0.049372,
     "end_time": "2022-01-10T00:27:44.527613",
     "exception": false,
     "start_time": "2022-01-10T00:27:44.478241",
     "status": "completed"
    },
    "tags": []
   },
   "outputs": [],
   "source": [
    "#hide\n",
    "def get_template(path):\n",
    "    from urllib.parse import urlparse\n",
    "    if bool(urlparse(path).netloc):\n",
    "        from urllib.request import urlopen\n",
    "        return urlopen(path).read().decode('utf8')\n",
    "    return open(path).read()"
   ]
  },
  {
   "cell_type": "code",
   "execution_count": 7,
   "id": "realistic-blast",
   "metadata": {
    "execution": {
     "iopub.execute_input": "2022-01-10T00:27:44.616218Z",
     "iopub.status.busy": "2022-01-10T00:27:44.615514Z",
     "iopub.status.idle": "2022-01-10T00:27:44.617238Z",
     "shell.execute_reply": "2022-01-10T00:27:44.617955Z"
    },
    "papermill": {
     "duration": 0.049487,
     "end_time": "2022-01-10T00:27:44.618100",
     "exception": false,
     "start_time": "2022-01-10T00:27:44.568613",
     "status": "completed"
    },
    "tags": []
   },
   "outputs": [],
   "source": [
    "#hide\n",
    "def get_frame(name):\n",
    "    url = (\n",
    "        'https://raw.githubusercontent.com/CSSEGISandData/COVID-19/master/csse_covid_19_data/'\n",
    "        f'csse_covid_19_time_series/time_series_covid19_{name}_global.csv')\n",
    "    df = pd.read_csv(url)\n",
    "    # rename countries\n",
    "    df['Country/Region'] = df['Country/Region'].replace(mapping['replace.country'])\n",
    "    return df"
   ]
  },
  {
   "cell_type": "code",
   "execution_count": 8,
   "id": "affiliated-characterization",
   "metadata": {
    "execution": {
     "iopub.execute_input": "2022-01-10T00:27:44.700684Z",
     "iopub.status.busy": "2022-01-10T00:27:44.700065Z",
     "iopub.status.idle": "2022-01-10T00:27:44.702746Z",
     "shell.execute_reply": "2022-01-10T00:27:44.702112Z"
    },
    "papermill": {
     "duration": 0.046114,
     "end_time": "2022-01-10T00:27:44.702883",
     "exception": false,
     "start_time": "2022-01-10T00:27:44.656769",
     "status": "completed"
    },
    "tags": []
   },
   "outputs": [],
   "source": [
    "#hide\n",
    "def get_dates(df):\n",
    "    dt_cols = df.columns[~df.columns.isin(['Province/State', 'Country/Region', 'Lat', 'Long'])]\n",
    "    LAST_DATE_I = -1\n",
    "    # sometimes last column may be empty, then go backwards\n",
    "    for i in range(-1, -len(dt_cols), -1):\n",
    "        if not df[dt_cols[i]].fillna(0).eq(0).all():\n",
    "            LAST_DATE_I = i\n",
    "            break\n",
    "    return LAST_DATE_I, dt_cols"
   ]
  },
  {
   "cell_type": "code",
   "execution_count": 9,
   "id": "recent-optimization",
   "metadata": {
    "execution": {
     "iopub.execute_input": "2022-01-10T00:27:44.780926Z",
     "iopub.status.busy": "2022-01-10T00:27:44.780241Z",
     "iopub.status.idle": "2022-01-10T00:27:45.239408Z",
     "shell.execute_reply": "2022-01-10T00:27:45.239949Z"
    },
    "papermill": {
     "duration": 0.500182,
     "end_time": "2022-01-10T00:27:45.240111",
     "exception": false,
     "start_time": "2022-01-10T00:27:44.739929",
     "status": "completed"
    },
    "tags": []
   },
   "outputs": [],
   "source": [
    "#hide\n",
    "COL_REGION = 'Country/Region'\n",
    "# Confirmed, Recovered, Deaths\n",
    "df = get_frame('confirmed')\n",
    "# dft_: timeseries, dfc_: today country agg\n",
    "dft_cases = df\n",
    "dft_deaths = get_frame('deaths')\n",
    "dft_recovered = get_frame('recovered')\n",
    "LAST_DATE_I, dt_cols = get_dates(df)"
   ]
  },
  {
   "cell_type": "code",
   "execution_count": 10,
   "id": "absolute-copper",
   "metadata": {
    "execution": {
     "iopub.execute_input": "2022-01-10T00:27:45.329090Z",
     "iopub.status.busy": "2022-01-10T00:27:45.328413Z",
     "iopub.status.idle": "2022-01-10T00:27:45.332053Z",
     "shell.execute_reply": "2022-01-10T00:27:45.332595Z"
    },
    "papermill": {
     "duration": 0.053043,
     "end_time": "2022-01-10T00:27:45.332731",
     "exception": false,
     "start_time": "2022-01-10T00:27:45.279688",
     "status": "completed"
    },
    "tags": []
   },
   "outputs": [],
   "source": [
    "#hide\n",
    "LAST_DATE_I, dt_cols = get_dates(df)\n",
    "dt_today =dt_cols[LAST_DATE_I]\n",
    "# dt_5day = dt_cols[LAST_DATE_I - 5]\n",
    "dt_yday = dt_cols[LAST_DATE_I - 1]"
   ]
  },
  {
   "cell_type": "code",
   "execution_count": 11,
   "id": "restricted-sheriff",
   "metadata": {
    "execution": {
     "iopub.execute_input": "2022-01-10T00:27:45.413733Z",
     "iopub.status.busy": "2022-01-10T00:27:45.412916Z",
     "iopub.status.idle": "2022-01-10T00:27:45.425033Z",
     "shell.execute_reply": "2022-01-10T00:27:45.424452Z"
    },
    "papermill": {
     "duration": 0.055419,
     "end_time": "2022-01-10T00:27:45.425164",
     "exception": false,
     "start_time": "2022-01-10T00:27:45.369745",
     "status": "completed"
    },
    "tags": []
   },
   "outputs": [],
   "source": [
    "#hide\n",
    "dfc_cases = dft_cases.groupby(COL_REGION)[dt_today].sum()\n",
    "dfc_deaths = dft_deaths.groupby(COL_REGION)[dt_today].sum()\n",
    "# dfp_cases = dft_cases.groupby(COL_REGION)[dt_5day].sum()\n",
    "# dfp_deaths = dft_deaths.groupby(COL_REGION)[dt_5day].sum()\n",
    "dfp_cases = dft_cases.groupby(COL_REGION)[dt_yday].sum()\n",
    "dfp_deaths = dft_deaths.groupby(COL_REGION)[dt_yday].sum()"
   ]
  },
  {
   "cell_type": "code",
   "execution_count": 12,
   "id": "deluxe-hepatitis",
   "metadata": {
    "execution": {
     "iopub.execute_input": "2022-01-10T00:27:45.510170Z",
     "iopub.status.busy": "2022-01-10T00:27:45.509416Z",
     "iopub.status.idle": "2022-01-10T00:27:45.515210Z",
     "shell.execute_reply": "2022-01-10T00:27:45.514712Z"
    },
    "papermill": {
     "duration": 0.05055,
     "end_time": "2022-01-10T00:27:45.515323",
     "exception": false,
     "start_time": "2022-01-10T00:27:45.464773",
     "status": "completed"
    },
    "tags": []
   },
   "outputs": [],
   "source": [
    "#hide\n",
    "df_table = (pd.DataFrame(dict(Cases = dfc_cases, Deaths = dfc_deaths, PCases = dfp_cases, PDeaths = dfp_deaths))\n",
    "            .sort_values(by = ['Cases','Deaths'], ascending = [False, False])\n",
    "            .reset_index())"
   ]
  },
  {
   "cell_type": "code",
   "execution_count": 13,
   "id": "educational-chancellor",
   "metadata": {
    "execution": {
     "iopub.execute_input": "2022-01-10T00:27:45.615567Z",
     "iopub.status.busy": "2022-01-10T00:27:45.614807Z",
     "iopub.status.idle": "2022-01-10T00:27:45.626212Z",
     "shell.execute_reply": "2022-01-10T00:27:45.626722Z"
    },
    "papermill": {
     "duration": 0.072955,
     "end_time": "2022-01-10T00:27:45.626899",
     "exception": false,
     "start_time": "2022-01-10T00:27:45.553944",
     "status": "completed"
    },
    "tags": []
   },
   "outputs": [
    {
     "data": {
      "text/html": [
       "<div>\n",
       "<style scoped>\n",
       "    .dataframe tbody tr th:only-of-type {\n",
       "        vertical-align: middle;\n",
       "    }\n",
       "\n",
       "    .dataframe tbody tr th {\n",
       "        vertical-align: top;\n",
       "    }\n",
       "\n",
       "    .dataframe thead th {\n",
       "        text-align: right;\n",
       "    }\n",
       "</style>\n",
       "<table border=\"1\" class=\"dataframe\">\n",
       "  <thead>\n",
       "    <tr style=\"text-align: right;\">\n",
       "      <th></th>\n",
       "      <th>Country/Region</th>\n",
       "      <th>Cases</th>\n",
       "      <th>Deaths</th>\n",
       "      <th>PCases</th>\n",
       "      <th>PDeaths</th>\n",
       "      <th>Cases (+)</th>\n",
       "      <th>Deaths (+)</th>\n",
       "      <th>Fatality Rate</th>\n",
       "      <th>Continent</th>\n",
       "    </tr>\n",
       "  </thead>\n",
       "  <tbody>\n",
       "    <tr>\n",
       "      <th>0</th>\n",
       "      <td>US</td>\n",
       "      <td>59767221</td>\n",
       "      <td>837264</td>\n",
       "      <td>59388529</td>\n",
       "      <td>836603</td>\n",
       "      <td>378692</td>\n",
       "      <td>661</td>\n",
       "      <td>1.40</td>\n",
       "      <td>North America</td>\n",
       "    </tr>\n",
       "    <tr>\n",
       "      <th>1</th>\n",
       "      <td>India</td>\n",
       "      <td>35528004</td>\n",
       "      <td>483790</td>\n",
       "      <td>35368372</td>\n",
       "      <td>483463</td>\n",
       "      <td>159632</td>\n",
       "      <td>327</td>\n",
       "      <td>1.36</td>\n",
       "      <td>Asia</td>\n",
       "    </tr>\n",
       "    <tr>\n",
       "      <th>2</th>\n",
       "      <td>Brazil</td>\n",
       "      <td>22328252</td>\n",
       "      <td>619654</td>\n",
       "      <td>22328252</td>\n",
       "      <td>619654</td>\n",
       "      <td>0</td>\n",
       "      <td>0</td>\n",
       "      <td>2.78</td>\n",
       "      <td>South America</td>\n",
       "    </tr>\n",
       "    <tr>\n",
       "      <th>3</th>\n",
       "      <td>United Kingdom</td>\n",
       "      <td>14422067</td>\n",
       "      <td>150537</td>\n",
       "      <td>14280816</td>\n",
       "      <td>150223</td>\n",
       "      <td>141251</td>\n",
       "      <td>314</td>\n",
       "      <td>1.04</td>\n",
       "      <td>Europe</td>\n",
       "    </tr>\n",
       "    <tr>\n",
       "      <th>4</th>\n",
       "      <td>France</td>\n",
       "      <td>11921925</td>\n",
       "      <td>126337</td>\n",
       "      <td>11623327</td>\n",
       "      <td>126202</td>\n",
       "      <td>298598</td>\n",
       "      <td>135</td>\n",
       "      <td>1.06</td>\n",
       "      <td>Europe</td>\n",
       "    </tr>\n",
       "  </tbody>\n",
       "</table>\n",
       "</div>"
      ],
      "text/plain": [
       "   Country/Region     Cases  Deaths    PCases  PDeaths  Cases (+)  Deaths (+)  \\\n",
       "0              US  59767221  837264  59388529   836603     378692         661   \n",
       "1           India  35528004  483790  35368372   483463     159632         327   \n",
       "2          Brazil  22328252  619654  22328252   619654          0           0   \n",
       "3  United Kingdom  14422067  150537  14280816   150223     141251         314   \n",
       "4          France  11921925  126337  11623327   126202     298598         135   \n",
       "\n",
       "   Fatality Rate      Continent  \n",
       "0           1.40  North America  \n",
       "1           1.36           Asia  \n",
       "2           2.78  South America  \n",
       "3           1.04         Europe  \n",
       "4           1.06         Europe  "
      ]
     },
     "execution_count": 13,
     "metadata": {},
     "output_type": "execute_result"
    }
   ],
   "source": [
    "#hide\n",
    "for c in 'Cases, Deaths'.split(', '):\n",
    "    df_table[f'{c} (+)'] = (df_table[c] - df_table[f'P{c}']).clip(0)\n",
    "    #Clip ça veut dire, les chiffres negatif sont interdit\n",
    "df_table['Fatality Rate'] = (100* df_table['Deaths']/ df_table['Cases']).round(2)\n",
    "df_table['Continent'] = df_table['Country/Region'].map(mapping['map.continent'])\n",
    "df_table.head(5)"
   ]
  },
  {
   "cell_type": "code",
   "execution_count": 14,
   "id": "aboriginal-bulgaria",
   "metadata": {
    "execution": {
     "iopub.execute_input": "2022-01-10T00:27:45.715609Z",
     "iopub.status.busy": "2022-01-10T00:27:45.714971Z",
     "iopub.status.idle": "2022-01-10T00:27:45.719235Z",
     "shell.execute_reply": "2022-01-10T00:27:45.718683Z"
    },
    "papermill": {
     "duration": 0.050262,
     "end_time": "2022-01-10T00:27:45.719366",
     "exception": false,
     "start_time": "2022-01-10T00:27:45.669104",
     "status": "completed"
    },
    "tags": []
   },
   "outputs": [],
   "source": [
    "#hide\n",
    "#delete problematic countries from table\n",
    "df_table = df_table[~df_table['Country/Region'].isin(['Cape Verde', 'Cruise Ship', 'Kosovo'])]"
   ]
  },
  {
   "cell_type": "code",
   "execution_count": 15,
   "id": "fantastic-effect",
   "metadata": {
    "execution": {
     "iopub.execute_input": "2022-01-10T00:27:45.808855Z",
     "iopub.status.busy": "2022-01-10T00:27:45.808187Z",
     "iopub.status.idle": "2022-01-10T00:27:45.830472Z",
     "shell.execute_reply": "2022-01-10T00:27:45.831069Z"
    },
    "papermill": {
     "duration": 0.071455,
     "end_time": "2022-01-10T00:27:45.831234",
     "exception": false,
     "start_time": "2022-01-10T00:27:45.759779",
     "status": "completed"
    },
    "tags": []
   },
   "outputs": [
    {
     "data": {
      "text/html": [
       "<div>\n",
       "<style scoped>\n",
       "    .dataframe tbody tr th:only-of-type {\n",
       "        vertical-align: middle;\n",
       "    }\n",
       "\n",
       "    .dataframe tbody tr th {\n",
       "        vertical-align: top;\n",
       "    }\n",
       "\n",
       "    .dataframe thead th {\n",
       "        text-align: right;\n",
       "    }\n",
       "</style>\n",
       "<table border=\"1\" class=\"dataframe\">\n",
       "  <thead>\n",
       "    <tr style=\"text-align: right;\">\n",
       "      <th></th>\n",
       "      <th>Country/Region</th>\n",
       "      <th>Cases</th>\n",
       "      <th>Deaths</th>\n",
       "      <th>PCases</th>\n",
       "      <th>PDeaths</th>\n",
       "      <th>Cases (+)</th>\n",
       "      <th>Deaths (+)</th>\n",
       "      <th>Fatality Rate</th>\n",
       "      <th>Continent</th>\n",
       "    </tr>\n",
       "  </thead>\n",
       "  <tbody>\n",
       "    <tr>\n",
       "      <th>0</th>\n",
       "      <td>US</td>\n",
       "      <td>59767221</td>\n",
       "      <td>837264</td>\n",
       "      <td>59388529</td>\n",
       "      <td>836603</td>\n",
       "      <td>378692</td>\n",
       "      <td>661</td>\n",
       "      <td>1.4</td>\n",
       "      <td>North America</td>\n",
       "    </tr>\n",
       "    <tr>\n",
       "      <th>1</th>\n",
       "      <td>India</td>\n",
       "      <td>35528004</td>\n",
       "      <td>483790</td>\n",
       "      <td>35368372</td>\n",
       "      <td>483463</td>\n",
       "      <td>159632</td>\n",
       "      <td>327</td>\n",
       "      <td>1.4</td>\n",
       "      <td>Asia</td>\n",
       "    </tr>\n",
       "    <tr>\n",
       "      <th>2</th>\n",
       "      <td>Brazil</td>\n",
       "      <td>22328252</td>\n",
       "      <td>619654</td>\n",
       "      <td>22328252</td>\n",
       "      <td>619654</td>\n",
       "      <td>0</td>\n",
       "      <td>0</td>\n",
       "      <td>2.8</td>\n",
       "      <td>South America</td>\n",
       "    </tr>\n",
       "    <tr>\n",
       "      <th>3</th>\n",
       "      <td>United Kingdom</td>\n",
       "      <td>14422067</td>\n",
       "      <td>150537</td>\n",
       "      <td>14280816</td>\n",
       "      <td>150223</td>\n",
       "      <td>141251</td>\n",
       "      <td>314</td>\n",
       "      <td>1.0</td>\n",
       "      <td>Europe</td>\n",
       "    </tr>\n",
       "    <tr>\n",
       "      <th>4</th>\n",
       "      <td>France</td>\n",
       "      <td>11921925</td>\n",
       "      <td>126337</td>\n",
       "      <td>11623327</td>\n",
       "      <td>126202</td>\n",
       "      <td>298598</td>\n",
       "      <td>135</td>\n",
       "      <td>1.1</td>\n",
       "      <td>Europe</td>\n",
       "    </tr>\n",
       "  </tbody>\n",
       "</table>\n",
       "</div>"
      ],
      "text/plain": [
       "   Country/Region     Cases  Deaths    PCases  PDeaths  Cases (+)  Deaths (+)  \\\n",
       "0              US  59767221  837264  59388529   836603     378692         661   \n",
       "1           India  35528004  483790  35368372   483463     159632         327   \n",
       "2          Brazil  22328252  619654  22328252   619654          0           0   \n",
       "3  United Kingdom  14422067  150537  14280816   150223     141251         314   \n",
       "4          France  11921925  126337  11623327   126202     298598         135   \n",
       "\n",
       "   Fatality Rate      Continent  \n",
       "0            1.4  North America  \n",
       "1            1.4           Asia  \n",
       "2            2.8  South America  \n",
       "3            1.0         Europe  \n",
       "4            1.1         Europe  "
      ]
     },
     "execution_count": 15,
     "metadata": {},
     "output_type": "execute_result"
    }
   ],
   "source": [
    "#hide\n",
    "df_table = (pd.DataFrame(dict(Cases=dfc_cases, Deaths=dfc_deaths, PCases=dfp_cases, PDeaths=dfp_deaths))\n",
    "             .sort_values(by=['Cases', 'Deaths'], ascending=[False, False])\n",
    "             .reset_index())\n",
    "df_table.rename(columns={'index': 'Country/Region'}, inplace=True)\n",
    "for c in 'Cases, Deaths'.split(', '):\n",
    "    df_table[f'{c} (+)'] = (df_table[c] - df_table[f'P{c}']).clip(0)  # DATA BUG\n",
    "df_table['Fatality Rate'] = (100 * df_table['Deaths'] / df_table['Cases']).round(1)\n",
    "df_table['Continent'] = df_table['Country/Region'].map(mapping['map.continent'])\n",
    "df_table.head(5)"
   ]
  },
  {
   "cell_type": "code",
   "execution_count": 16,
   "id": "fewer-occasion",
   "metadata": {
    "execution": {
     "iopub.execute_input": "2022-01-10T00:27:45.916628Z",
     "iopub.status.busy": "2022-01-10T00:27:45.915953Z",
     "iopub.status.idle": "2022-01-10T00:27:45.919898Z",
     "shell.execute_reply": "2022-01-10T00:27:45.919414Z"
    },
    "papermill": {
     "duration": 0.048841,
     "end_time": "2022-01-10T00:27:45.920049",
     "exception": false,
     "start_time": "2022-01-10T00:27:45.871208",
     "status": "completed"
    },
    "tags": []
   },
   "outputs": [],
   "source": [
    "#hide\n",
    "#delete problematic countries from table\n",
    "df_table = df_table[~df_table['Country/Region'].isin(['Cape Verde', 'Cruise Ship', 'Kosovo'])]"
   ]
  },
  {
   "cell_type": "code",
   "execution_count": 17,
   "id": "related-center",
   "metadata": {
    "execution": {
     "iopub.execute_input": "2022-01-10T00:27:46.020780Z",
     "iopub.status.busy": "2022-01-10T00:27:46.020098Z",
     "iopub.status.idle": "2022-01-10T00:27:46.025121Z",
     "shell.execute_reply": "2022-01-10T00:27:46.022258Z"
    },
    "papermill": {
     "duration": 0.066541,
     "end_time": "2022-01-10T00:27:46.025308",
     "exception": false,
     "start_time": "2022-01-10T00:27:45.958767",
     "status": "completed"
    },
    "tags": []
   },
   "outputs": [],
   "source": [
    "#hide\n",
    "metrics = [df_table.columns[index] for index in [1,2,5,6]]\n",
    "# s_china = df_table[df_table['Country/Region'].eq('China')][metrics].sum().add_prefix('China ')\n",
    "s_us = df_table[df_table['Country/Region'].eq('US')][metrics].sum().add_prefix('US ')\n",
    "s_eu = df_table[df_table['Continent'].eq('Europe')][metrics].sum().add_prefix('EU ')\n",
    "s_ind = df_table[df_table['Country/Region'].eq('India')][metrics].sum().add_prefix('India ')\n",
    "summary = {'updated': pd.to_datetime(dt_today), 'since': pd.to_datetime(dt_yday)}\n",
    "summary = {'updated': pd.to_datetime(dt_today), 'since': pd.to_datetime(dt_yday)}\n",
    "summary = {**summary, **df_table[metrics].sum(), **s_ind, **s_us, **s_eu}"
   ]
  },
  {
   "cell_type": "code",
   "execution_count": 18,
   "id": "engaging-syndrome",
   "metadata": {
    "execution": {
     "iopub.execute_input": "2022-01-10T00:27:46.111205Z",
     "iopub.status.busy": "2022-01-10T00:27:46.110566Z",
     "iopub.status.idle": "2022-01-10T00:27:46.126967Z",
     "shell.execute_reply": "2022-01-10T00:27:46.126315Z"
    },
    "papermill": {
     "duration": 0.06171,
     "end_time": "2022-01-10T00:27:46.127128",
     "exception": false,
     "start_time": "2022-01-10T00:27:46.065418",
     "status": "completed"
    },
    "tags": []
   },
   "outputs": [],
   "source": [
    "#hide\n",
    "dft_ct_new_cases = dft_cases.groupby(COL_REGION)[dt_cols].sum().diff(axis=1).fillna(0).astype(int)"
   ]
  },
  {
   "cell_type": "code",
   "execution_count": 19,
   "id": "neutral-assignment",
   "metadata": {
    "execution": {
     "iopub.execute_input": "2022-01-10T00:27:46.216423Z",
     "iopub.status.busy": "2022-01-10T00:27:46.215568Z",
     "iopub.status.idle": "2022-01-10T00:27:46.218193Z",
     "shell.execute_reply": "2022-01-10T00:27:46.217529Z"
    },
    "papermill": {
     "duration": 0.05032,
     "end_time": "2022-01-10T00:27:46.218320",
     "exception": false,
     "start_time": "2022-01-10T00:27:46.168000",
     "status": "completed"
    },
    "tags": []
   },
   "outputs": [],
   "source": [
    "#hide\n",
    "everydaycases = dft_ct_new_cases.cumsum(axis=1)"
   ]
  },
  {
   "cell_type": "code",
   "execution_count": 20,
   "id": "parliamentary-calgary",
   "metadata": {
    "execution": {
     "iopub.execute_input": "2022-01-10T00:27:46.306767Z",
     "iopub.status.busy": "2022-01-10T00:27:46.306089Z",
     "iopub.status.idle": "2022-01-10T00:27:47.026785Z",
     "shell.execute_reply": "2022-01-10T00:27:47.025713Z"
    },
    "papermill": {
     "duration": 0.765606,
     "end_time": "2022-01-10T00:27:47.026964",
     "exception": false,
     "start_time": "2022-01-10T00:27:46.261358",
     "status": "completed"
    },
    "tags": []
   },
   "outputs": [],
   "source": [
    "#hide\n",
    "import pandas as pd\n",
    "import matplotlib.pyplot as plt\n",
    "import matplotlib.ticker as ticker\n",
    "import matplotlib.animation as animation\n",
    "from IPython.display import HTML"
   ]
  },
  {
   "cell_type": "code",
   "execution_count": 21,
   "id": "lasting-extraction",
   "metadata": {
    "execution": {
     "iopub.execute_input": "2022-01-10T00:27:47.119462Z",
     "iopub.status.busy": "2022-01-10T00:27:47.118720Z",
     "iopub.status.idle": "2022-01-10T00:27:47.126054Z",
     "shell.execute_reply": "2022-01-10T00:27:47.125422Z"
    },
    "papermill": {
     "duration": 0.052075,
     "end_time": "2022-01-10T00:27:47.126186",
     "exception": false,
     "start_time": "2022-01-10T00:27:47.074111",
     "status": "completed"
    },
    "tags": []
   },
   "outputs": [],
   "source": [
    "#hide\n",
    "t = everydaycases.stack()"
   ]
  },
  {
   "cell_type": "code",
   "execution_count": 22,
   "id": "premier-sleeve",
   "metadata": {
    "execution": {
     "iopub.execute_input": "2022-01-10T00:27:47.208446Z",
     "iopub.status.busy": "2022-01-10T00:27:47.207724Z",
     "iopub.status.idle": "2022-01-10T00:27:47.221233Z",
     "shell.execute_reply": "2022-01-10T00:27:47.220666Z"
    },
    "papermill": {
     "duration": 0.054428,
     "end_time": "2022-01-10T00:27:47.221355",
     "exception": false,
     "start_time": "2022-01-10T00:27:47.166927",
     "status": "completed"
    },
    "tags": []
   },
   "outputs": [],
   "source": [
    "#hide\n",
    "g = t.reset_index(['Country/Region'])"
   ]
  },
  {
   "cell_type": "code",
   "execution_count": 23,
   "id": "distributed-pittsburgh",
   "metadata": {
    "execution": {
     "iopub.execute_input": "2022-01-10T00:27:47.309754Z",
     "iopub.status.busy": "2022-01-10T00:27:47.309045Z",
     "iopub.status.idle": "2022-01-10T00:27:47.313881Z",
     "shell.execute_reply": "2022-01-10T00:27:47.313079Z"
    },
    "papermill": {
     "duration": 0.052731,
     "end_time": "2022-01-10T00:27:47.314013",
     "exception": false,
     "start_time": "2022-01-10T00:27:47.261282",
     "status": "completed"
    },
    "tags": []
   },
   "outputs": [],
   "source": [
    "#hide\n",
    "g.index.name = 'date'"
   ]
  },
  {
   "cell_type": "code",
   "execution_count": 24,
   "id": "naked-donor",
   "metadata": {
    "execution": {
     "iopub.execute_input": "2022-01-10T00:27:47.401225Z",
     "iopub.status.busy": "2022-01-10T00:27:47.400595Z",
     "iopub.status.idle": "2022-01-10T00:27:47.404912Z",
     "shell.execute_reply": "2022-01-10T00:27:47.404408Z"
    },
    "papermill": {
     "duration": 0.051095,
     "end_time": "2022-01-10T00:27:47.405035",
     "exception": false,
     "start_time": "2022-01-10T00:27:47.353940",
     "status": "completed"
    },
    "tags": []
   },
   "outputs": [],
   "source": [
    "# #hide\n",
    "# g = g.reset_index(['date'])"
   ]
  },
  {
   "cell_type": "code",
   "execution_count": 25,
   "id": "incomplete-mustang",
   "metadata": {
    "execution": {
     "iopub.execute_input": "2022-01-10T00:27:47.486983Z",
     "iopub.status.busy": "2022-01-10T00:27:47.485451Z",
     "iopub.status.idle": "2022-01-10T00:27:47.487744Z",
     "shell.execute_reply": "2022-01-10T00:27:47.488349Z"
    },
    "papermill": {
     "duration": 0.044636,
     "end_time": "2022-01-10T00:27:47.488543",
     "exception": false,
     "start_time": "2022-01-10T00:27:47.443907",
     "status": "completed"
    },
    "tags": []
   },
   "outputs": [],
   "source": [
    "#hide\n",
    "# g.head()"
   ]
  },
  {
   "cell_type": "code",
   "execution_count": 26,
   "id": "specific-kruger",
   "metadata": {
    "execution": {
     "iopub.execute_input": "2022-01-10T00:27:47.572736Z",
     "iopub.status.busy": "2022-01-10T00:27:47.571738Z",
     "iopub.status.idle": "2022-01-10T00:27:47.576573Z",
     "shell.execute_reply": "2022-01-10T00:27:47.577432Z"
    },
    "papermill": {
     "duration": 0.050104,
     "end_time": "2022-01-10T00:27:47.577615",
     "exception": false,
     "start_time": "2022-01-10T00:27:47.527511",
     "status": "completed"
    },
    "tags": []
   },
   "outputs": [],
   "source": [
    "#hide\n",
    "# g.columns = ['date','country','cases']"
   ]
  },
  {
   "cell_type": "code",
   "execution_count": 27,
   "id": "tender-conversion",
   "metadata": {
    "execution": {
     "iopub.execute_input": "2022-01-10T00:27:47.666150Z",
     "iopub.status.busy": "2022-01-10T00:27:47.665442Z",
     "iopub.status.idle": "2022-01-10T00:27:47.668156Z",
     "shell.execute_reply": "2022-01-10T00:27:47.667482Z"
    },
    "papermill": {
     "duration": 0.049046,
     "end_time": "2022-01-10T00:27:47.668284",
     "exception": false,
     "start_time": "2022-01-10T00:27:47.619238",
     "status": "completed"
    },
    "tags": []
   },
   "outputs": [],
   "source": [
    "#hide\n",
    "# g['continent'] = g.country"
   ]
  },
  {
   "cell_type": "code",
   "execution_count": 28,
   "id": "substantial-wilderness",
   "metadata": {
    "execution": {
     "iopub.execute_input": "2022-01-10T00:27:47.747488Z",
     "iopub.status.busy": "2022-01-10T00:27:47.746581Z",
     "iopub.status.idle": "2022-01-10T00:27:47.752351Z",
     "shell.execute_reply": "2022-01-10T00:27:47.752831Z"
    },
    "papermill": {
     "duration": 0.048516,
     "end_time": "2022-01-10T00:27:47.752961",
     "exception": false,
     "start_time": "2022-01-10T00:27:47.704445",
     "status": "completed"
    },
    "tags": []
   },
   "outputs": [],
   "source": [
    "#hide\n",
    "# cols = list(g.columns.values)"
   ]
  },
  {
   "cell_type": "code",
   "execution_count": 29,
   "id": "solved-farming",
   "metadata": {
    "execution": {
     "iopub.execute_input": "2022-01-10T00:27:47.835100Z",
     "iopub.status.busy": "2022-01-10T00:27:47.834365Z",
     "iopub.status.idle": "2022-01-10T00:27:47.836600Z",
     "shell.execute_reply": "2022-01-10T00:27:47.837142Z"
    },
    "papermill": {
     "duration": 0.046389,
     "end_time": "2022-01-10T00:27:47.837305",
     "exception": false,
     "start_time": "2022-01-10T00:27:47.790916",
     "status": "completed"
    },
    "tags": []
   },
   "outputs": [],
   "source": [
    "#hide\n",
    "# cols.insert(0, cols.pop())"
   ]
  },
  {
   "cell_type": "code",
   "execution_count": 30,
   "id": "executed-adoption",
   "metadata": {
    "execution": {
     "iopub.execute_input": "2022-01-10T00:27:47.922144Z",
     "iopub.status.busy": "2022-01-10T00:27:47.921447Z",
     "iopub.status.idle": "2022-01-10T00:27:47.923639Z",
     "shell.execute_reply": "2022-01-10T00:27:47.924242Z"
    },
    "papermill": {
     "duration": 0.048064,
     "end_time": "2022-01-10T00:27:47.924377",
     "exception": false,
     "start_time": "2022-01-10T00:27:47.876313",
     "status": "completed"
    },
    "tags": []
   },
   "outputs": [],
   "source": [
    "#hide\n",
    "# g = g[cols]"
   ]
  },
  {
   "cell_type": "code",
   "execution_count": 31,
   "id": "subject-dublin",
   "metadata": {
    "execution": {
     "iopub.execute_input": "2022-01-10T00:27:48.003534Z",
     "iopub.status.busy": "2022-01-10T00:27:48.002917Z",
     "iopub.status.idle": "2022-01-10T00:27:48.005914Z",
     "shell.execute_reply": "2022-01-10T00:27:48.005299Z"
    },
    "papermill": {
     "duration": 0.043884,
     "end_time": "2022-01-10T00:27:48.006031",
     "exception": false,
     "start_time": "2022-01-10T00:27:47.962147",
     "status": "completed"
    },
    "tags": []
   },
   "outputs": [],
   "source": [
    "#hide\n",
    "# g['continent'] = g['continent'].map(mapping['map.continent'])"
   ]
  },
  {
   "cell_type": "code",
   "execution_count": 32,
   "id": "freelance-scout",
   "metadata": {
    "execution": {
     "iopub.execute_input": "2022-01-10T00:27:48.090646Z",
     "iopub.status.busy": "2022-01-10T00:27:48.090049Z",
     "iopub.status.idle": "2022-01-10T00:27:48.093943Z",
     "shell.execute_reply": "2022-01-10T00:27:48.094490Z"
    },
    "papermill": {
     "duration": 0.048307,
     "end_time": "2022-01-10T00:27:48.094640",
     "exception": false,
     "start_time": "2022-01-10T00:27:48.046333",
     "status": "completed"
    },
    "tags": []
   },
   "outputs": [],
   "source": [
    "#hide\n",
    "# g.head()"
   ]
  },
  {
   "cell_type": "code",
   "execution_count": 33,
   "id": "limited-engine",
   "metadata": {
    "execution": {
     "iopub.execute_input": "2022-01-10T00:27:48.177046Z",
     "iopub.status.busy": "2022-01-10T00:27:48.176358Z",
     "iopub.status.idle": "2022-01-10T00:27:48.178342Z",
     "shell.execute_reply": "2022-01-10T00:27:48.178833Z"
    },
    "papermill": {
     "duration": 0.046235,
     "end_time": "2022-01-10T00:27:48.179003",
     "exception": false,
     "start_time": "2022-01-10T00:27:48.132768",
     "status": "completed"
    },
    "tags": []
   },
   "outputs": [],
   "source": [
    "# hide\n",
    "# g['date'] = g['date'].astype('datetime64[ns]')"
   ]
  },
  {
   "cell_type": "code",
   "execution_count": 34,
   "id": "sophisticated-supervisor",
   "metadata": {
    "execution": {
     "iopub.execute_input": "2022-01-10T00:27:48.261383Z",
     "iopub.status.busy": "2022-01-10T00:27:48.260729Z",
     "iopub.status.idle": "2022-01-10T00:27:48.264397Z",
     "shell.execute_reply": "2022-01-10T00:27:48.264891Z"
    },
    "papermill": {
     "duration": 0.047138,
     "end_time": "2022-01-10T00:27:48.265040",
     "exception": false,
     "start_time": "2022-01-10T00:27:48.217902",
     "status": "completed"
    },
    "tags": []
   },
   "outputs": [],
   "source": [
    "#hide\n",
    "# g['date'] = g.date.dt.dayofyear"
   ]
  },
  {
   "cell_type": "code",
   "execution_count": 35,
   "id": "inside-dubai",
   "metadata": {
    "execution": {
     "iopub.execute_input": "2022-01-10T00:27:48.344949Z",
     "iopub.status.busy": "2022-01-10T00:27:48.344335Z",
     "iopub.status.idle": "2022-01-10T00:27:48.349648Z",
     "shell.execute_reply": "2022-01-10T00:27:48.350234Z"
    },
    "papermill": {
     "duration": 0.045941,
     "end_time": "2022-01-10T00:27:48.350420",
     "exception": false,
     "start_time": "2022-01-10T00:27:48.304479",
     "status": "completed"
    },
    "tags": []
   },
   "outputs": [],
   "source": [
    "#hide\n",
    "# g = g.rename(columns= {'continent':'group','country':'name','cases':'value'})"
   ]
  },
  {
   "cell_type": "code",
   "execution_count": 36,
   "id": "fleet-motorcycle",
   "metadata": {
    "execution": {
     "iopub.execute_input": "2022-01-10T00:27:48.434416Z",
     "iopub.status.busy": "2022-01-10T00:27:48.433789Z",
     "iopub.status.idle": "2022-01-10T00:27:48.435900Z",
     "shell.execute_reply": "2022-01-10T00:27:48.435248Z"
    },
    "papermill": {
     "duration": 0.046158,
     "end_time": "2022-01-10T00:27:48.436033",
     "exception": false,
     "start_time": "2022-01-10T00:27:48.389875",
     "status": "completed"
    },
    "tags": []
   },
   "outputs": [],
   "source": [
    "#hide\n",
    "# cols = ['name','group','day','value']"
   ]
  },
  {
   "cell_type": "code",
   "execution_count": 37,
   "id": "continued-sleeping",
   "metadata": {
    "execution": {
     "iopub.execute_input": "2022-01-10T00:27:48.516361Z",
     "iopub.status.busy": "2022-01-10T00:27:48.515747Z",
     "iopub.status.idle": "2022-01-10T00:27:48.520135Z",
     "shell.execute_reply": "2022-01-10T00:27:48.519477Z"
    },
    "papermill": {
     "duration": 0.04614,
     "end_time": "2022-01-10T00:27:48.520360",
     "exception": false,
     "start_time": "2022-01-10T00:27:48.474220",
     "status": "completed"
    },
    "tags": []
   },
   "outputs": [],
   "source": [
    "#hide\n",
    "# g.rename(columns= {'date':'day'},inplace = True)"
   ]
  },
  {
   "cell_type": "code",
   "execution_count": 38,
   "id": "major-fight",
   "metadata": {
    "execution": {
     "iopub.execute_input": "2022-01-10T00:27:48.603077Z",
     "iopub.status.busy": "2022-01-10T00:27:48.602403Z",
     "iopub.status.idle": "2022-01-10T00:27:48.604478Z",
     "shell.execute_reply": "2022-01-10T00:27:48.604952Z"
    },
    "papermill": {
     "duration": 0.047789,
     "end_time": "2022-01-10T00:27:48.605113",
     "exception": false,
     "start_time": "2022-01-10T00:27:48.557324",
     "status": "completed"
    },
    "tags": []
   },
   "outputs": [],
   "source": [
    "#hide\n",
    "# g = g[cols]"
   ]
  },
  {
   "cell_type": "code",
   "execution_count": 39,
   "id": "structured-mobile",
   "metadata": {
    "execution": {
     "iopub.execute_input": "2022-01-10T00:27:48.706758Z",
     "iopub.status.busy": "2022-01-10T00:27:48.706066Z",
     "iopub.status.idle": "2022-01-10T00:27:48.709140Z",
     "shell.execute_reply": "2022-01-10T00:27:48.708592Z"
    },
    "papermill": {
     "duration": 0.050152,
     "end_time": "2022-01-10T00:27:48.709293",
     "exception": false,
     "start_time": "2022-01-10T00:27:48.659141",
     "status": "completed"
    },
    "tags": []
   },
   "outputs": [],
   "source": [
    "# #hide\n",
    "# g = g[g.group.notna()]"
   ]
  },
  {
   "cell_type": "code",
   "execution_count": 40,
   "id": "determined-closing",
   "metadata": {
    "execution": {
     "iopub.execute_input": "2022-01-10T00:27:48.798220Z",
     "iopub.status.busy": "2022-01-10T00:27:48.797563Z",
     "iopub.status.idle": "2022-01-10T00:27:48.799991Z",
     "shell.execute_reply": "2022-01-10T00:27:48.799350Z"
    },
    "papermill": {
     "duration": 0.047764,
     "end_time": "2022-01-10T00:27:48.800120",
     "exception": false,
     "start_time": "2022-01-10T00:27:48.752356",
     "status": "completed"
    },
    "tags": []
   },
   "outputs": [],
   "source": [
    "# #hide\n",
    "# colors = dict(zip(\n",
    "#     [\"Oceania\", \"Europe\", \"Asia\", \"South America\", \"Middle East\", \"North America\", \"Africa\"],\n",
    "#     [\"#adb0ff\", \"#ffb3ff\", \"#90d595\", \"#e48381\", \"#aafbff\", \"#f7bb5f\", \"#eafb50\"]\n",
    "# ))\n",
    "# group_lk = g.set_index('name')['group'].to_dict()"
   ]
  },
  {
   "cell_type": "code",
   "execution_count": null,
   "id": "gross-drinking",
   "metadata": {
    "papermill": {
     "duration": 0.03906,
     "end_time": "2022-01-10T00:27:48.880232",
     "exception": false,
     "start_time": "2022-01-10T00:27:48.841172",
     "status": "completed"
    },
    "tags": []
   },
   "outputs": [],
   "source": []
  },
  {
   "cell_type": "code",
   "execution_count": 41,
   "id": "subject-macintosh",
   "metadata": {
    "execution": {
     "iopub.execute_input": "2022-01-10T00:27:48.965345Z",
     "iopub.status.busy": "2022-01-10T00:27:48.964685Z",
     "iopub.status.idle": "2022-01-10T00:27:48.967870Z",
     "shell.execute_reply": "2022-01-10T00:27:48.968486Z"
    },
    "papermill": {
     "duration": 0.045787,
     "end_time": "2022-01-10T00:27:48.968625",
     "exception": false,
     "start_time": "2022-01-10T00:27:48.922838",
     "status": "completed"
    },
    "tags": []
   },
   "outputs": [],
   "source": [
    "# #hide\n",
    "# fig, ax = plt.subplots(figsize=(15, 8))\n",
    "\n",
    "# def draw_barchart(current_day):\n",
    "#     dff = g[g['day'].eq(current_day)].sort_values(by='value', ascending=True).tail(10)\n",
    "#     ax.clear()\n",
    "#     ax.barh(dff['name'], dff['value'], color=[colors[group_lk[x]] for x in dff['name']])\n",
    "#     dx = dff['value'].max() / 200\n",
    "    \n",
    "#     for i, (value, name) in enumerate(zip(dff['value'], dff['name'])):\n",
    "#         ax.text(value-dx, i,     name,           size=14, weight=600, ha='right', va='bottom')\n",
    "#         ax.text(value-dx, i-.25, group_lk[name], size=10, color='#444444', ha='right', va='baseline')\n",
    "#         ax.text(value+dx, i,     f'{value:,.0f}',  size=14, ha='left',  va='center')\n",
    "#     ax.text(1, 0.4, current_day, transform=ax.transAxes, color='#777777', size=46, ha='right', weight=800)\n",
    "#     ax.text(0, 1.06, 'Population (thousands)', transform=ax.transAxes, size=12, color='#777777')\n",
    "#     ax.xaxis.set_major_formatter(ticker.StrMethodFormatter('{x:,.0f}'))\n",
    "#     ax.xaxis.set_ticks_position('top')\n",
    "#     ax.tick_params(axis='x', colors='#777777', labelsize=12)\n",
    "#     ax.set_yticks([])\n",
    "#     ax.margins(0, 0.01)\n",
    "#     ax.grid(which='major', axis='x', linestyle='-')\n",
    "#     ax.set_axisbelow(True)\n",
    "    \n",
    "#     ax.text(0, 1.15, 'Coronavirus',\n",
    "#             transform=ax.transAxes, size=24, weight=600, ha='left', va='top')\n",
    "# #     ax.text(1, 0, 'by @pratapvardhan; credit @jburnmurdoch', transform=ax.transAxes, color='#777777', ha='right',\n",
    "# #             bbox=dict(facecolor='white', alpha=0.8, edgecolor='white'))\n",
    "#     plt.box(False)"
   ]
  },
  {
   "cell_type": "code",
   "execution_count": 42,
   "id": "sexual-wages",
   "metadata": {
    "execution": {
     "iopub.execute_input": "2022-01-10T00:27:49.049835Z",
     "iopub.status.busy": "2022-01-10T00:27:49.049035Z",
     "iopub.status.idle": "2022-01-10T00:27:49.051674Z",
     "shell.execute_reply": "2022-01-10T00:27:49.051018Z"
    },
    "papermill": {
     "duration": 0.044319,
     "end_time": "2022-01-10T00:27:49.051804",
     "exception": false,
     "start_time": "2022-01-10T00:27:49.007485",
     "status": "completed"
    },
    "tags": []
   },
   "outputs": [],
   "source": [
    "# #hide_input\n",
    "# fig, ax = plt.subplots(figsize=(15, 8))\n",
    "# animator = animation.FuncAnimation(fig, draw_barchart, frames=range(g.day.values.min(), g.day.values.max()))\n",
    "# HTML(animator.to_jshtml())\n",
    "# # or use animator.to_html5_video() or animator.save() "
   ]
  },
  {
   "cell_type": "code",
   "execution_count": null,
   "id": "australian-container",
   "metadata": {
    "papermill": {
     "duration": 0.038342,
     "end_time": "2022-01-10T00:27:49.131747",
     "exception": false,
     "start_time": "2022-01-10T00:27:49.093405",
     "status": "completed"
    },
    "tags": []
   },
   "outputs": [],
   "source": []
  },
  {
   "cell_type": "code",
   "execution_count": null,
   "id": "mediterranean-pontiac",
   "metadata": {
    "papermill": {
     "duration": 0.050847,
     "end_time": "2022-01-10T00:27:49.221195",
     "exception": false,
     "start_time": "2022-01-10T00:27:49.170348",
     "status": "completed"
    },
    "tags": []
   },
   "outputs": [],
   "source": []
  },
  {
   "cell_type": "code",
   "execution_count": null,
   "id": "aging-legislature",
   "metadata": {
    "papermill": {
     "duration": 0.045646,
     "end_time": "2022-01-10T00:27:49.322488",
     "exception": false,
     "start_time": "2022-01-10T00:27:49.276842",
     "status": "completed"
    },
    "tags": []
   },
   "outputs": [],
   "source": []
  }
 ],
 "metadata": {
  "kernelspec": {
   "display_name": "Python 3",
   "language": "python",
   "name": "python3"
  },
  "language_info": {
   "codemirror_mode": {
    "name": "ipython",
    "version": 3
   },
   "file_extension": ".py",
   "mimetype": "text/x-python",
   "name": "python",
   "nbconvert_exporter": "python",
   "pygments_lexer": "ipython3",
   "version": "3.6.15"
  },
  "papermill": {
   "duration": 7.539755,
   "end_time": "2022-01-10T00:27:49.783856",
   "environment_variables": {},
   "exception": null,
   "input_path": "2020-03-21-covid19exp.ipynb",
   "output_path": "2020-03-21-covid19exp.ipynb",
   "parameters": {},
   "start_time": "2022-01-10T00:27:42.244101",
   "version": "2.0.0"
  }
 },
 "nbformat": 4,
 "nbformat_minor": 5
}