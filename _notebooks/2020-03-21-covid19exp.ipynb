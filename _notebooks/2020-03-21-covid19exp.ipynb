{
 "cells": [
  {
   "cell_type": "markdown",
   "id": "muslim-click",
   "metadata": {
    "papermill": {
     "duration": 0.039144,
     "end_time": "2021-04-21T12:04:22.147505",
     "exception": false,
     "start_time": "2021-04-21T12:04:22.108361",
     "status": "completed"
    },
    "tags": []
   },
   "source": [
    "# COVID-19 Case Race\n",
    "> A race chart to see rising cases around the world\n",
    "\n",
    "- author: Hargun Oberoi\n",
    "- image: images/covid-overview.png\n",
    "- hide: false\n",
    "- badges: false"
   ]
  },
  {
   "cell_type": "code",
   "execution_count": 1,
   "id": "proof-material",
   "metadata": {
    "execution": {
     "iopub.execute_input": "2021-04-21T12:04:22.226880Z",
     "iopub.status.busy": "2021-04-21T12:04:22.226273Z",
     "iopub.status.idle": "2021-04-21T12:04:22.575521Z",
     "shell.execute_reply": "2021-04-21T12:04:22.574992Z"
    },
    "papermill": {
     "duration": 0.393931,
     "end_time": "2021-04-21T12:04:22.575705",
     "exception": false,
     "start_time": "2021-04-21T12:04:22.181774",
     "status": "completed"
    },
    "tags": []
   },
   "outputs": [],
   "source": [
    "#hide\n",
    "import numpy as np\n",
    "import pandas as pd\n",
    "from jinja2 import Template\n",
    "from IPython.display import HTML"
   ]
  },
  {
   "cell_type": "code",
   "execution_count": 2,
   "id": "developed-terminology",
   "metadata": {
    "execution": {
     "iopub.execute_input": "2021-04-21T12:04:22.648866Z",
     "iopub.status.busy": "2021-04-21T12:04:22.648259Z",
     "iopub.status.idle": "2021-04-21T12:04:22.650399Z",
     "shell.execute_reply": "2021-04-21T12:04:22.650955Z"
    },
    "papermill": {
     "duration": 0.041827,
     "end_time": "2021-04-21T12:04:22.651102",
     "exception": false,
     "start_time": "2021-04-21T12:04:22.609275",
     "status": "completed"
    },
    "tags": []
   },
   "outputs": [],
   "source": [
    "#hide\n",
    "\n",
    "# FETCH\n",
    "base_url = 'https://raw.githubusercontent.com/pratapvardhan/notebooks/master/covid19/'\n",
    "paths = {\n",
    "    'mapping': base_url + 'mapping_countries.csv',\n",
    "    'overview': base_url + 'overview.tpl'\n",
    "}"
   ]
  },
  {
   "cell_type": "code",
   "execution_count": 3,
   "id": "dynamic-saver",
   "metadata": {
    "execution": {
     "iopub.execute_input": "2021-04-21T12:04:22.728984Z",
     "iopub.status.busy": "2021-04-21T12:04:22.728376Z",
     "iopub.status.idle": "2021-04-21T12:04:22.730553Z",
     "shell.execute_reply": "2021-04-21T12:04:22.731096Z"
    },
    "papermill": {
     "duration": 0.046778,
     "end_time": "2021-04-21T12:04:22.731242",
     "exception": false,
     "start_time": "2021-04-21T12:04:22.684464",
     "status": "completed"
    },
    "tags": []
   },
   "outputs": [
    {
     "data": {
      "text/plain": [
       "'https://raw.githubusercontent.com/pratapvardhan/notebooks/master/covid19/mapping_countries.csv'"
      ]
     },
     "execution_count": 3,
     "metadata": {},
     "output_type": "execute_result"
    }
   ],
   "source": [
    "#hide\n",
    "paths['mapping']"
   ]
  },
  {
   "cell_type": "code",
   "execution_count": 4,
   "id": "urban-software",
   "metadata": {
    "execution": {
     "iopub.execute_input": "2021-04-21T12:04:22.804382Z",
     "iopub.status.busy": "2021-04-21T12:04:22.803790Z",
     "iopub.status.idle": "2021-04-21T12:04:22.806332Z",
     "shell.execute_reply": "2021-04-21T12:04:22.806882Z"
    },
    "papermill": {
     "duration": 0.041867,
     "end_time": "2021-04-21T12:04:22.807023",
     "exception": false,
     "start_time": "2021-04-21T12:04:22.765156",
     "status": "completed"
    },
    "tags": []
   },
   "outputs": [],
   "source": [
    "#hide\n",
    "def get_mappings(url):\n",
    "    df = pd.read_csv(url)\n",
    "    return {\n",
    "        'df': df,\n",
    "        'replace.country': dict(df.dropna(subset=['Name']).set_index('Country')['Name']),\n",
    "        'map.continent': dict(df.set_index('Name')['Continent'])\n",
    "    }"
   ]
  },
  {
   "cell_type": "code",
   "execution_count": 5,
   "id": "intimate-machinery",
   "metadata": {
    "execution": {
     "iopub.execute_input": "2021-04-21T12:04:22.880297Z",
     "iopub.status.busy": "2021-04-21T12:04:22.879656Z",
     "iopub.status.idle": "2021-04-21T12:04:22.921050Z",
     "shell.execute_reply": "2021-04-21T12:04:22.920361Z"
    },
    "papermill": {
     "duration": 0.080622,
     "end_time": "2021-04-21T12:04:22.921225",
     "exception": false,
     "start_time": "2021-04-21T12:04:22.840603",
     "status": "completed"
    },
    "tags": []
   },
   "outputs": [],
   "source": [
    "#hide\n",
    "mapping = get_mappings(paths['mapping'])"
   ]
  },
  {
   "cell_type": "code",
   "execution_count": 6,
   "id": "certified-tactics",
   "metadata": {
    "execution": {
     "iopub.execute_input": "2021-04-21T12:04:22.996630Z",
     "iopub.status.busy": "2021-04-21T12:04:22.996022Z",
     "iopub.status.idle": "2021-04-21T12:04:22.998437Z",
     "shell.execute_reply": "2021-04-21T12:04:22.999016Z"
    },
    "papermill": {
     "duration": 0.041977,
     "end_time": "2021-04-21T12:04:22.999155",
     "exception": false,
     "start_time": "2021-04-21T12:04:22.957178",
     "status": "completed"
    },
    "tags": []
   },
   "outputs": [],
   "source": [
    "#hide\n",
    "def get_template(path):\n",
    "    from urllib.parse import urlparse\n",
    "    if bool(urlparse(path).netloc):\n",
    "        from urllib.request import urlopen\n",
    "        return urlopen(path).read().decode('utf8')\n",
    "    return open(path).read()"
   ]
  },
  {
   "cell_type": "code",
   "execution_count": 7,
   "id": "realistic-blast",
   "metadata": {
    "execution": {
     "iopub.execute_input": "2021-04-21T12:04:23.072076Z",
     "iopub.status.busy": "2021-04-21T12:04:23.071438Z",
     "iopub.status.idle": "2021-04-21T12:04:23.073857Z",
     "shell.execute_reply": "2021-04-21T12:04:23.073360Z"
    },
    "papermill": {
     "duration": 0.041253,
     "end_time": "2021-04-21T12:04:23.073982",
     "exception": false,
     "start_time": "2021-04-21T12:04:23.032729",
     "status": "completed"
    },
    "tags": []
   },
   "outputs": [],
   "source": [
    "#hide\n",
    "def get_frame(name):\n",
    "    url = (\n",
    "        'https://raw.githubusercontent.com/CSSEGISandData/COVID-19/master/csse_covid_19_data/'\n",
    "        f'csse_covid_19_time_series/time_series_covid19_{name}_global.csv')\n",
    "    df = pd.read_csv(url)\n",
    "    # rename countries\n",
    "    df['Country/Region'] = df['Country/Region'].replace(mapping['replace.country'])\n",
    "    return df"
   ]
  },
  {
   "cell_type": "code",
   "execution_count": 8,
   "id": "affiliated-characterization",
   "metadata": {
    "execution": {
     "iopub.execute_input": "2021-04-21T12:04:23.148889Z",
     "iopub.status.busy": "2021-04-21T12:04:23.148298Z",
     "iopub.status.idle": "2021-04-21T12:04:23.151317Z",
     "shell.execute_reply": "2021-04-21T12:04:23.150853Z"
    },
    "papermill": {
     "duration": 0.043567,
     "end_time": "2021-04-21T12:04:23.151442",
     "exception": false,
     "start_time": "2021-04-21T12:04:23.107875",
     "status": "completed"
    },
    "tags": []
   },
   "outputs": [],
   "source": [
    "#hide\n",
    "def get_dates(df):\n",
    "    dt_cols = df.columns[~df.columns.isin(['Province/State', 'Country/Region', 'Lat', 'Long'])]\n",
    "    LAST_DATE_I = -1\n",
    "    # sometimes last column may be empty, then go backwards\n",
    "    for i in range(-1, -len(dt_cols), -1):\n",
    "        if not df[dt_cols[i]].fillna(0).eq(0).all():\n",
    "            LAST_DATE_I = i\n",
    "            break\n",
    "    return LAST_DATE_I, dt_cols"
   ]
  },
  {
   "cell_type": "code",
   "execution_count": 9,
   "id": "recent-optimization",
   "metadata": {
    "execution": {
     "iopub.execute_input": "2021-04-21T12:04:23.226013Z",
     "iopub.status.busy": "2021-04-21T12:04:23.225424Z",
     "iopub.status.idle": "2021-04-21T12:04:23.630255Z",
     "shell.execute_reply": "2021-04-21T12:04:23.629716Z"
    },
    "papermill": {
     "duration": 0.445362,
     "end_time": "2021-04-21T12:04:23.630378",
     "exception": false,
     "start_time": "2021-04-21T12:04:23.185016",
     "status": "completed"
    },
    "tags": []
   },
   "outputs": [],
   "source": [
    "#hide\n",
    "COL_REGION = 'Country/Region'\n",
    "# Confirmed, Recovered, Deaths\n",
    "df = get_frame('confirmed')\n",
    "# dft_: timeseries, dfc_: today country agg\n",
    "dft_cases = df\n",
    "dft_deaths = get_frame('deaths')\n",
    "dft_recovered = get_frame('recovered')\n",
    "LAST_DATE_I, dt_cols = get_dates(df)"
   ]
  },
  {
   "cell_type": "code",
   "execution_count": 10,
   "id": "absolute-copper",
   "metadata": {
    "execution": {
     "iopub.execute_input": "2021-04-21T12:04:23.706585Z",
     "iopub.status.busy": "2021-04-21T12:04:23.705649Z",
     "iopub.status.idle": "2021-04-21T12:04:23.710044Z",
     "shell.execute_reply": "2021-04-21T12:04:23.709576Z"
    },
    "papermill": {
     "duration": 0.04427,
     "end_time": "2021-04-21T12:04:23.710172",
     "exception": false,
     "start_time": "2021-04-21T12:04:23.665902",
     "status": "completed"
    },
    "tags": []
   },
   "outputs": [],
   "source": [
    "#hide\n",
    "LAST_DATE_I, dt_cols = get_dates(df)\n",
    "dt_today =dt_cols[LAST_DATE_I]\n",
    "# dt_5day = dt_cols[LAST_DATE_I - 5]\n",
    "dt_yday = dt_cols[LAST_DATE_I - 1]"
   ]
  },
  {
   "cell_type": "code",
   "execution_count": 11,
   "id": "restricted-sheriff",
   "metadata": {
    "execution": {
     "iopub.execute_input": "2021-04-21T12:04:23.796271Z",
     "iopub.status.busy": "2021-04-21T12:04:23.795632Z",
     "iopub.status.idle": "2021-04-21T12:04:23.800205Z",
     "shell.execute_reply": "2021-04-21T12:04:23.799720Z"
    },
    "papermill": {
     "duration": 0.054596,
     "end_time": "2021-04-21T12:04:23.800332",
     "exception": false,
     "start_time": "2021-04-21T12:04:23.745736",
     "status": "completed"
    },
    "tags": []
   },
   "outputs": [],
   "source": [
    "#hide\n",
    "dfc_cases = dft_cases.groupby(COL_REGION)[dt_today].sum()\n",
    "dfc_deaths = dft_deaths.groupby(COL_REGION)[dt_today].sum()\n",
    "# dfp_cases = dft_cases.groupby(COL_REGION)[dt_5day].sum()\n",
    "# dfp_deaths = dft_deaths.groupby(COL_REGION)[dt_5day].sum()\n",
    "dfp_cases = dft_cases.groupby(COL_REGION)[dt_yday].sum()\n",
    "dfp_deaths = dft_deaths.groupby(COL_REGION)[dt_yday].sum()"
   ]
  },
  {
   "cell_type": "code",
   "execution_count": 12,
   "id": "deluxe-hepatitis",
   "metadata": {
    "execution": {
     "iopub.execute_input": "2021-04-21T12:04:23.870795Z",
     "iopub.status.busy": "2021-04-21T12:04:23.870219Z",
     "iopub.status.idle": "2021-04-21T12:04:23.880288Z",
     "shell.execute_reply": "2021-04-21T12:04:23.879807Z"
    },
    "papermill": {
     "duration": 0.04683,
     "end_time": "2021-04-21T12:04:23.880418",
     "exception": false,
     "start_time": "2021-04-21T12:04:23.833588",
     "status": "completed"
    },
    "tags": []
   },
   "outputs": [],
   "source": [
    "#hide\n",
    "df_table = (pd.DataFrame(dict(Cases = dfc_cases, Deaths = dfc_deaths, PCases = dfp_cases, PDeaths = dfp_deaths))\n",
    "            .sort_values(by = ['Cases','Deaths'], ascending = [False, False])\n",
    "            .reset_index())"
   ]
  },
  {
   "cell_type": "code",
   "execution_count": 13,
   "id": "educational-chancellor",
   "metadata": {
    "execution": {
     "iopub.execute_input": "2021-04-21T12:04:23.968931Z",
     "iopub.status.busy": "2021-04-21T12:04:23.964765Z",
     "iopub.status.idle": "2021-04-21T12:04:23.977624Z",
     "shell.execute_reply": "2021-04-21T12:04:23.977155Z"
    },
    "papermill": {
     "duration": 0.063968,
     "end_time": "2021-04-21T12:04:23.977748",
     "exception": false,
     "start_time": "2021-04-21T12:04:23.913780",
     "status": "completed"
    },
    "tags": []
   },
   "outputs": [
    {
     "data": {
      "text/html": [
       "<div>\n",
       "<style scoped>\n",
       "    .dataframe tbody tr th:only-of-type {\n",
       "        vertical-align: middle;\n",
       "    }\n",
       "\n",
       "    .dataframe tbody tr th {\n",
       "        vertical-align: top;\n",
       "    }\n",
       "\n",
       "    .dataframe thead th {\n",
       "        text-align: right;\n",
       "    }\n",
       "</style>\n",
       "<table border=\"1\" class=\"dataframe\">\n",
       "  <thead>\n",
       "    <tr style=\"text-align: right;\">\n",
       "      <th></th>\n",
       "      <th>Country/Region</th>\n",
       "      <th>Cases</th>\n",
       "      <th>Deaths</th>\n",
       "      <th>PCases</th>\n",
       "      <th>PDeaths</th>\n",
       "      <th>Cases (+)</th>\n",
       "      <th>Deaths (+)</th>\n",
       "      <th>Fatality Rate</th>\n",
       "      <th>Continent</th>\n",
       "    </tr>\n",
       "  </thead>\n",
       "  <tbody>\n",
       "    <tr>\n",
       "      <th>0</th>\n",
       "      <td>US</td>\n",
       "      <td>31792636</td>\n",
       "      <td>568470</td>\n",
       "      <td>31737964</td>\n",
       "      <td>567694</td>\n",
       "      <td>54672</td>\n",
       "      <td>776</td>\n",
       "      <td>1.79</td>\n",
       "      <td>North America</td>\n",
       "    </tr>\n",
       "    <tr>\n",
       "      <th>1</th>\n",
       "      <td>India</td>\n",
       "      <td>15616130</td>\n",
       "      <td>182553</td>\n",
       "      <td>15320972</td>\n",
       "      <td>180530</td>\n",
       "      <td>295158</td>\n",
       "      <td>2023</td>\n",
       "      <td>1.17</td>\n",
       "      <td>Asia</td>\n",
       "    </tr>\n",
       "    <tr>\n",
       "      <th>2</th>\n",
       "      <td>Brazil</td>\n",
       "      <td>14043076</td>\n",
       "      <td>378003</td>\n",
       "      <td>13973695</td>\n",
       "      <td>374682</td>\n",
       "      <td>69381</td>\n",
       "      <td>3321</td>\n",
       "      <td>2.69</td>\n",
       "      <td>South America</td>\n",
       "    </tr>\n",
       "    <tr>\n",
       "      <th>3</th>\n",
       "      <td>France</td>\n",
       "      <td>5401305</td>\n",
       "      <td>101713</td>\n",
       "      <td>5357229</td>\n",
       "      <td>101339</td>\n",
       "      <td>44076</td>\n",
       "      <td>374</td>\n",
       "      <td>1.88</td>\n",
       "      <td>Europe</td>\n",
       "    </tr>\n",
       "    <tr>\n",
       "      <th>4</th>\n",
       "      <td>Russia</td>\n",
       "      <td>4665553</td>\n",
       "      <td>104545</td>\n",
       "      <td>4657509</td>\n",
       "      <td>104173</td>\n",
       "      <td>8044</td>\n",
       "      <td>372</td>\n",
       "      <td>2.24</td>\n",
       "      <td>Europe</td>\n",
       "    </tr>\n",
       "  </tbody>\n",
       "</table>\n",
       "</div>"
      ],
      "text/plain": [
       "  Country/Region     Cases  Deaths    PCases  PDeaths  Cases (+)  Deaths (+)  \\\n",
       "0             US  31792636  568470  31737964   567694      54672         776   \n",
       "1          India  15616130  182553  15320972   180530     295158        2023   \n",
       "2         Brazil  14043076  378003  13973695   374682      69381        3321   \n",
       "3         France   5401305  101713   5357229   101339      44076         374   \n",
       "4         Russia   4665553  104545   4657509   104173       8044         372   \n",
       "\n",
       "   Fatality Rate      Continent  \n",
       "0           1.79  North America  \n",
       "1           1.17           Asia  \n",
       "2           2.69  South America  \n",
       "3           1.88         Europe  \n",
       "4           2.24         Europe  "
      ]
     },
     "execution_count": 13,
     "metadata": {},
     "output_type": "execute_result"
    }
   ],
   "source": [
    "#hide\n",
    "for c in 'Cases, Deaths'.split(', '):\n",
    "    df_table[f'{c} (+)'] = (df_table[c] - df_table[f'P{c}']).clip(0)\n",
    "    #Clip ça veut dire, les chiffres negatif sont interdit\n",
    "df_table['Fatality Rate'] = (100* df_table['Deaths']/ df_table['Cases']).round(2)\n",
    "df_table['Continent'] = df_table['Country/Region'].map(mapping['map.continent'])\n",
    "df_table.head(5)"
   ]
  },
  {
   "cell_type": "code",
   "execution_count": 14,
   "id": "aboriginal-bulgaria",
   "metadata": {
    "execution": {
     "iopub.execute_input": "2021-04-21T12:04:24.051698Z",
     "iopub.status.busy": "2021-04-21T12:04:24.051094Z",
     "iopub.status.idle": "2021-04-21T12:04:24.054707Z",
     "shell.execute_reply": "2021-04-21T12:04:24.055145Z"
    },
    "papermill": {
     "duration": 0.04349,
     "end_time": "2021-04-21T12:04:24.055294",
     "exception": false,
     "start_time": "2021-04-21T12:04:24.011804",
     "status": "completed"
    },
    "tags": []
   },
   "outputs": [],
   "source": [
    "#hide\n",
    "#delete problematic countries from table\n",
    "df_table = df_table[~df_table['Country/Region'].isin(['Cape Verde', 'Cruise Ship', 'Kosovo'])]"
   ]
  },
  {
   "cell_type": "code",
   "execution_count": 15,
   "id": "fantastic-effect",
   "metadata": {
    "execution": {
     "iopub.execute_input": "2021-04-21T12:04:24.133443Z",
     "iopub.status.busy": "2021-04-21T12:04:24.132851Z",
     "iopub.status.idle": "2021-04-21T12:04:24.153148Z",
     "shell.execute_reply": "2021-04-21T12:04:24.153728Z"
    },
    "papermill": {
     "duration": 0.064844,
     "end_time": "2021-04-21T12:04:24.153905",
     "exception": false,
     "start_time": "2021-04-21T12:04:24.089061",
     "status": "completed"
    },
    "tags": []
   },
   "outputs": [
    {
     "data": {
      "text/html": [
       "<div>\n",
       "<style scoped>\n",
       "    .dataframe tbody tr th:only-of-type {\n",
       "        vertical-align: middle;\n",
       "    }\n",
       "\n",
       "    .dataframe tbody tr th {\n",
       "        vertical-align: top;\n",
       "    }\n",
       "\n",
       "    .dataframe thead th {\n",
       "        text-align: right;\n",
       "    }\n",
       "</style>\n",
       "<table border=\"1\" class=\"dataframe\">\n",
       "  <thead>\n",
       "    <tr style=\"text-align: right;\">\n",
       "      <th></th>\n",
       "      <th>Country/Region</th>\n",
       "      <th>Cases</th>\n",
       "      <th>Deaths</th>\n",
       "      <th>PCases</th>\n",
       "      <th>PDeaths</th>\n",
       "      <th>Cases (+)</th>\n",
       "      <th>Deaths (+)</th>\n",
       "      <th>Fatality Rate</th>\n",
       "      <th>Continent</th>\n",
       "    </tr>\n",
       "  </thead>\n",
       "  <tbody>\n",
       "    <tr>\n",
       "      <th>0</th>\n",
       "      <td>US</td>\n",
       "      <td>31792636</td>\n",
       "      <td>568470</td>\n",
       "      <td>31737964</td>\n",
       "      <td>567694</td>\n",
       "      <td>54672</td>\n",
       "      <td>776</td>\n",
       "      <td>1.8</td>\n",
       "      <td>North America</td>\n",
       "    </tr>\n",
       "    <tr>\n",
       "      <th>1</th>\n",
       "      <td>India</td>\n",
       "      <td>15616130</td>\n",
       "      <td>182553</td>\n",
       "      <td>15320972</td>\n",
       "      <td>180530</td>\n",
       "      <td>295158</td>\n",
       "      <td>2023</td>\n",
       "      <td>1.2</td>\n",
       "      <td>Asia</td>\n",
       "    </tr>\n",
       "    <tr>\n",
       "      <th>2</th>\n",
       "      <td>Brazil</td>\n",
       "      <td>14043076</td>\n",
       "      <td>378003</td>\n",
       "      <td>13973695</td>\n",
       "      <td>374682</td>\n",
       "      <td>69381</td>\n",
       "      <td>3321</td>\n",
       "      <td>2.7</td>\n",
       "      <td>South America</td>\n",
       "    </tr>\n",
       "    <tr>\n",
       "      <th>3</th>\n",
       "      <td>France</td>\n",
       "      <td>5401305</td>\n",
       "      <td>101713</td>\n",
       "      <td>5357229</td>\n",
       "      <td>101339</td>\n",
       "      <td>44076</td>\n",
       "      <td>374</td>\n",
       "      <td>1.9</td>\n",
       "      <td>Europe</td>\n",
       "    </tr>\n",
       "    <tr>\n",
       "      <th>4</th>\n",
       "      <td>Russia</td>\n",
       "      <td>4665553</td>\n",
       "      <td>104545</td>\n",
       "      <td>4657509</td>\n",
       "      <td>104173</td>\n",
       "      <td>8044</td>\n",
       "      <td>372</td>\n",
       "      <td>2.2</td>\n",
       "      <td>Europe</td>\n",
       "    </tr>\n",
       "  </tbody>\n",
       "</table>\n",
       "</div>"
      ],
      "text/plain": [
       "  Country/Region     Cases  Deaths    PCases  PDeaths  Cases (+)  Deaths (+)  \\\n",
       "0             US  31792636  568470  31737964   567694      54672         776   \n",
       "1          India  15616130  182553  15320972   180530     295158        2023   \n",
       "2         Brazil  14043076  378003  13973695   374682      69381        3321   \n",
       "3         France   5401305  101713   5357229   101339      44076         374   \n",
       "4         Russia   4665553  104545   4657509   104173       8044         372   \n",
       "\n",
       "   Fatality Rate      Continent  \n",
       "0            1.8  North America  \n",
       "1            1.2           Asia  \n",
       "2            2.7  South America  \n",
       "3            1.9         Europe  \n",
       "4            2.2         Europe  "
      ]
     },
     "execution_count": 15,
     "metadata": {},
     "output_type": "execute_result"
    }
   ],
   "source": [
    "#hide\n",
    "df_table = (pd.DataFrame(dict(Cases=dfc_cases, Deaths=dfc_deaths, PCases=dfp_cases, PDeaths=dfp_deaths))\n",
    "             .sort_values(by=['Cases', 'Deaths'], ascending=[False, False])\n",
    "             .reset_index())\n",
    "df_table.rename(columns={'index': 'Country/Region'}, inplace=True)\n",
    "for c in 'Cases, Deaths'.split(', '):\n",
    "    df_table[f'{c} (+)'] = (df_table[c] - df_table[f'P{c}']).clip(0)  # DATA BUG\n",
    "df_table['Fatality Rate'] = (100 * df_table['Deaths'] / df_table['Cases']).round(1)\n",
    "df_table['Continent'] = df_table['Country/Region'].map(mapping['map.continent'])\n",
    "df_table.head(5)"
   ]
  },
  {
   "cell_type": "code",
   "execution_count": 16,
   "id": "fewer-occasion",
   "metadata": {
    "execution": {
     "iopub.execute_input": "2021-04-21T12:04:24.231532Z",
     "iopub.status.busy": "2021-04-21T12:04:24.230937Z",
     "iopub.status.idle": "2021-04-21T12:04:24.232733Z",
     "shell.execute_reply": "2021-04-21T12:04:24.233197Z"
    },
    "papermill": {
     "duration": 0.043897,
     "end_time": "2021-04-21T12:04:24.233339",
     "exception": false,
     "start_time": "2021-04-21T12:04:24.189442",
     "status": "completed"
    },
    "tags": []
   },
   "outputs": [],
   "source": [
    "#hide\n",
    "#delete problematic countries from table\n",
    "df_table = df_table[~df_table['Country/Region'].isin(['Cape Verde', 'Cruise Ship', 'Kosovo'])]"
   ]
  },
  {
   "cell_type": "code",
   "execution_count": 17,
   "id": "related-center",
   "metadata": {
    "execution": {
     "iopub.execute_input": "2021-04-21T12:04:24.313095Z",
     "iopub.status.busy": "2021-04-21T12:04:24.312495Z",
     "iopub.status.idle": "2021-04-21T12:04:24.327289Z",
     "shell.execute_reply": "2021-04-21T12:04:24.326751Z"
    },
    "papermill": {
     "duration": 0.059488,
     "end_time": "2021-04-21T12:04:24.327414",
     "exception": false,
     "start_time": "2021-04-21T12:04:24.267926",
     "status": "completed"
    },
    "tags": []
   },
   "outputs": [],
   "source": [
    "#hide\n",
    "metrics = [df_table.columns[index] for index in [1,2,5,6]]\n",
    "# s_china = df_table[df_table['Country/Region'].eq('China')][metrics].sum().add_prefix('China ')\n",
    "s_us = df_table[df_table['Country/Region'].eq('US')][metrics].sum().add_prefix('US ')\n",
    "s_eu = df_table[df_table['Continent'].eq('Europe')][metrics].sum().add_prefix('EU ')\n",
    "s_ind = df_table[df_table['Country/Region'].eq('India')][metrics].sum().add_prefix('India ')\n",
    "summary = {'updated': pd.to_datetime(dt_today), 'since': pd.to_datetime(dt_yday)}\n",
    "summary = {'updated': pd.to_datetime(dt_today), 'since': pd.to_datetime(dt_yday)}\n",
    "summary = {**summary, **df_table[metrics].sum(), **s_ind, **s_us, **s_eu}"
   ]
  },
  {
   "cell_type": "code",
   "execution_count": 18,
   "id": "engaging-syndrome",
   "metadata": {
    "execution": {
     "iopub.execute_input": "2021-04-21T12:04:24.404292Z",
     "iopub.status.busy": "2021-04-21T12:04:24.403643Z",
     "iopub.status.idle": "2021-04-21T12:04:24.415443Z",
     "shell.execute_reply": "2021-04-21T12:04:24.415928Z"
    },
    "papermill": {
     "duration": 0.053241,
     "end_time": "2021-04-21T12:04:24.416085",
     "exception": false,
     "start_time": "2021-04-21T12:04:24.362844",
     "status": "completed"
    },
    "tags": []
   },
   "outputs": [],
   "source": [
    "#hide\n",
    "dft_ct_new_cases = dft_cases.groupby(COL_REGION)[dt_cols].sum().diff(axis=1).fillna(0).astype(int)"
   ]
  },
  {
   "cell_type": "code",
   "execution_count": 19,
   "id": "neutral-assignment",
   "metadata": {
    "execution": {
     "iopub.execute_input": "2021-04-21T12:04:24.494298Z",
     "iopub.status.busy": "2021-04-21T12:04:24.493701Z",
     "iopub.status.idle": "2021-04-21T12:04:24.495960Z",
     "shell.execute_reply": "2021-04-21T12:04:24.495437Z"
    },
    "papermill": {
     "duration": 0.045296,
     "end_time": "2021-04-21T12:04:24.496089",
     "exception": false,
     "start_time": "2021-04-21T12:04:24.450793",
     "status": "completed"
    },
    "tags": []
   },
   "outputs": [],
   "source": [
    "#hide\n",
    "everydaycases = dft_ct_new_cases.cumsum(axis=1)"
   ]
  },
  {
   "cell_type": "code",
   "execution_count": 20,
   "id": "parliamentary-calgary",
   "metadata": {
    "execution": {
     "iopub.execute_input": "2021-04-21T12:04:24.570483Z",
     "iopub.status.busy": "2021-04-21T12:04:24.569891Z",
     "iopub.status.idle": "2021-04-21T12:04:25.225390Z",
     "shell.execute_reply": "2021-04-21T12:04:25.224878Z"
    },
    "papermill": {
     "duration": 0.694793,
     "end_time": "2021-04-21T12:04:25.225526",
     "exception": false,
     "start_time": "2021-04-21T12:04:24.530733",
     "status": "completed"
    },
    "tags": []
   },
   "outputs": [],
   "source": [
    "#hide\n",
    "import pandas as pd\n",
    "import matplotlib.pyplot as plt\n",
    "import matplotlib.ticker as ticker\n",
    "import matplotlib.animation as animation\n",
    "from IPython.display import HTML"
   ]
  },
  {
   "cell_type": "code",
   "execution_count": 21,
   "id": "lasting-extraction",
   "metadata": {
    "execution": {
     "iopub.execute_input": "2021-04-21T12:04:25.300951Z",
     "iopub.status.busy": "2021-04-21T12:04:25.300355Z",
     "iopub.status.idle": "2021-04-21T12:04:25.307477Z",
     "shell.execute_reply": "2021-04-21T12:04:25.306971Z"
    },
    "papermill": {
     "duration": 0.047528,
     "end_time": "2021-04-21T12:04:25.307606",
     "exception": false,
     "start_time": "2021-04-21T12:04:25.260078",
     "status": "completed"
    },
    "tags": []
   },
   "outputs": [],
   "source": [
    "#hide\n",
    "t = everydaycases.stack()"
   ]
  },
  {
   "cell_type": "code",
   "execution_count": 22,
   "id": "premier-sleeve",
   "metadata": {
    "execution": {
     "iopub.execute_input": "2021-04-21T12:04:25.382214Z",
     "iopub.status.busy": "2021-04-21T12:04:25.381629Z",
     "iopub.status.idle": "2021-04-21T12:04:25.390234Z",
     "shell.execute_reply": "2021-04-21T12:04:25.389763Z"
    },
    "papermill": {
     "duration": 0.048114,
     "end_time": "2021-04-21T12:04:25.390363",
     "exception": false,
     "start_time": "2021-04-21T12:04:25.342249",
     "status": "completed"
    },
    "tags": []
   },
   "outputs": [],
   "source": [
    "#hide\n",
    "g = t.reset_index(['Country/Region'])"
   ]
  },
  {
   "cell_type": "code",
   "execution_count": 23,
   "id": "distributed-pittsburgh",
   "metadata": {
    "execution": {
     "iopub.execute_input": "2021-04-21T12:04:25.465153Z",
     "iopub.status.busy": "2021-04-21T12:04:25.464174Z",
     "iopub.status.idle": "2021-04-21T12:04:25.469164Z",
     "shell.execute_reply": "2021-04-21T12:04:25.468669Z"
    },
    "papermill": {
     "duration": 0.044507,
     "end_time": "2021-04-21T12:04:25.469289",
     "exception": false,
     "start_time": "2021-04-21T12:04:25.424782",
     "status": "completed"
    },
    "tags": []
   },
   "outputs": [],
   "source": [
    "#hide\n",
    "g.index.name = 'date'"
   ]
  },
  {
   "cell_type": "code",
   "execution_count": 24,
   "id": "naked-donor",
   "metadata": {
    "execution": {
     "iopub.execute_input": "2021-04-21T12:04:25.543815Z",
     "iopub.status.busy": "2021-04-21T12:04:25.543214Z",
     "iopub.status.idle": "2021-04-21T12:04:25.546230Z",
     "shell.execute_reply": "2021-04-21T12:04:25.546775Z"
    },
    "papermill": {
     "duration": 0.043004,
     "end_time": "2021-04-21T12:04:25.546916",
     "exception": false,
     "start_time": "2021-04-21T12:04:25.503912",
     "status": "completed"
    },
    "tags": []
   },
   "outputs": [],
   "source": [
    "# #hide\n",
    "# g = g.reset_index(['date'])"
   ]
  },
  {
   "cell_type": "code",
   "execution_count": 25,
   "id": "incomplete-mustang",
   "metadata": {
    "execution": {
     "iopub.execute_input": "2021-04-21T12:04:25.620599Z",
     "iopub.status.busy": "2021-04-21T12:04:25.620002Z",
     "iopub.status.idle": "2021-04-21T12:04:25.622341Z",
     "shell.execute_reply": "2021-04-21T12:04:25.621882Z"
    },
    "papermill": {
     "duration": 0.040952,
     "end_time": "2021-04-21T12:04:25.622462",
     "exception": false,
     "start_time": "2021-04-21T12:04:25.581510",
     "status": "completed"
    },
    "tags": []
   },
   "outputs": [],
   "source": [
    "#hide\n",
    "# g.head()"
   ]
  },
  {
   "cell_type": "code",
   "execution_count": 26,
   "id": "specific-kruger",
   "metadata": {
    "execution": {
     "iopub.execute_input": "2021-04-21T12:04:25.702736Z",
     "iopub.status.busy": "2021-04-21T12:04:25.702157Z",
     "iopub.status.idle": "2021-04-21T12:04:25.704385Z",
     "shell.execute_reply": "2021-04-21T12:04:25.703895Z"
    },
    "papermill": {
     "duration": 0.046471,
     "end_time": "2021-04-21T12:04:25.704505",
     "exception": false,
     "start_time": "2021-04-21T12:04:25.658034",
     "status": "completed"
    },
    "tags": []
   },
   "outputs": [],
   "source": [
    "#hide\n",
    "# g.columns = ['date','country','cases']"
   ]
  },
  {
   "cell_type": "code",
   "execution_count": 27,
   "id": "tender-conversion",
   "metadata": {
    "execution": {
     "iopub.execute_input": "2021-04-21T12:04:25.798981Z",
     "iopub.status.busy": "2021-04-21T12:04:25.798381Z",
     "iopub.status.idle": "2021-04-21T12:04:25.804880Z",
     "shell.execute_reply": "2021-04-21T12:04:25.804404Z"
    },
    "papermill": {
     "duration": 0.056374,
     "end_time": "2021-04-21T12:04:25.805010",
     "exception": false,
     "start_time": "2021-04-21T12:04:25.748636",
     "status": "completed"
    },
    "tags": []
   },
   "outputs": [],
   "source": [
    "#hide\n",
    "# g['continent'] = g.country"
   ]
  },
  {
   "cell_type": "code",
   "execution_count": 28,
   "id": "substantial-wilderness",
   "metadata": {
    "execution": {
     "iopub.execute_input": "2021-04-21T12:04:25.883601Z",
     "iopub.status.busy": "2021-04-21T12:04:25.882575Z",
     "iopub.status.idle": "2021-04-21T12:04:25.884348Z",
     "shell.execute_reply": "2021-04-21T12:04:25.884801Z"
    },
    "papermill": {
     "duration": 0.043163,
     "end_time": "2021-04-21T12:04:25.884939",
     "exception": false,
     "start_time": "2021-04-21T12:04:25.841776",
     "status": "completed"
    },
    "tags": []
   },
   "outputs": [],
   "source": [
    "#hide\n",
    "# cols = list(g.columns.values)"
   ]
  },
  {
   "cell_type": "code",
   "execution_count": 29,
   "id": "solved-farming",
   "metadata": {
    "execution": {
     "iopub.execute_input": "2021-04-21T12:04:25.957690Z",
     "iopub.status.busy": "2021-04-21T12:04:25.957108Z",
     "iopub.status.idle": "2021-04-21T12:04:25.958930Z",
     "shell.execute_reply": "2021-04-21T12:04:25.959397Z"
    },
    "papermill": {
     "duration": 0.04024,
     "end_time": "2021-04-21T12:04:25.959539",
     "exception": false,
     "start_time": "2021-04-21T12:04:25.919299",
     "status": "completed"
    },
    "tags": []
   },
   "outputs": [],
   "source": [
    "#hide\n",
    "# cols.insert(0, cols.pop())"
   ]
  },
  {
   "cell_type": "code",
   "execution_count": 30,
   "id": "executed-adoption",
   "metadata": {
    "execution": {
     "iopub.execute_input": "2021-04-21T12:04:26.034213Z",
     "iopub.status.busy": "2021-04-21T12:04:26.033634Z",
     "iopub.status.idle": "2021-04-21T12:04:26.037659Z",
     "shell.execute_reply": "2021-04-21T12:04:26.037082Z"
    },
    "papermill": {
     "duration": 0.043779,
     "end_time": "2021-04-21T12:04:26.037781",
     "exception": false,
     "start_time": "2021-04-21T12:04:25.994002",
     "status": "completed"
    },
    "tags": []
   },
   "outputs": [],
   "source": [
    "#hide\n",
    "# g = g[cols]"
   ]
  },
  {
   "cell_type": "code",
   "execution_count": 31,
   "id": "subject-dublin",
   "metadata": {
    "execution": {
     "iopub.execute_input": "2021-04-21T12:04:26.112174Z",
     "iopub.status.busy": "2021-04-21T12:04:26.111558Z",
     "iopub.status.idle": "2021-04-21T12:04:26.114641Z",
     "shell.execute_reply": "2021-04-21T12:04:26.115190Z"
    },
    "papermill": {
     "duration": 0.042776,
     "end_time": "2021-04-21T12:04:26.115330",
     "exception": false,
     "start_time": "2021-04-21T12:04:26.072554",
     "status": "completed"
    },
    "tags": []
   },
   "outputs": [],
   "source": [
    "#hide\n",
    "# g['continent'] = g['continent'].map(mapping['map.continent'])"
   ]
  },
  {
   "cell_type": "code",
   "execution_count": 32,
   "id": "freelance-scout",
   "metadata": {
    "execution": {
     "iopub.execute_input": "2021-04-21T12:04:26.189356Z",
     "iopub.status.busy": "2021-04-21T12:04:26.188765Z",
     "iopub.status.idle": "2021-04-21T12:04:26.190998Z",
     "shell.execute_reply": "2021-04-21T12:04:26.190534Z"
    },
    "papermill": {
     "duration": 0.041086,
     "end_time": "2021-04-21T12:04:26.191121",
     "exception": false,
     "start_time": "2021-04-21T12:04:26.150035",
     "status": "completed"
    },
    "tags": []
   },
   "outputs": [],
   "source": [
    "#hide\n",
    "# g.head()"
   ]
  },
  {
   "cell_type": "code",
   "execution_count": 33,
   "id": "limited-engine",
   "metadata": {
    "execution": {
     "iopub.execute_input": "2021-04-21T12:04:26.267468Z",
     "iopub.status.busy": "2021-04-21T12:04:26.266432Z",
     "iopub.status.idle": "2021-04-21T12:04:26.268585Z",
     "shell.execute_reply": "2021-04-21T12:04:26.269103Z"
    },
    "papermill": {
     "duration": 0.042666,
     "end_time": "2021-04-21T12:04:26.269247",
     "exception": false,
     "start_time": "2021-04-21T12:04:26.226581",
     "status": "completed"
    },
    "tags": []
   },
   "outputs": [],
   "source": [
    "# hide\n",
    "# g['date'] = g['date'].astype('datetime64[ns]')"
   ]
  },
  {
   "cell_type": "code",
   "execution_count": 34,
   "id": "sophisticated-supervisor",
   "metadata": {
    "execution": {
     "iopub.execute_input": "2021-04-21T12:04:26.343885Z",
     "iopub.status.busy": "2021-04-21T12:04:26.343282Z",
     "iopub.status.idle": "2021-04-21T12:04:26.345876Z",
     "shell.execute_reply": "2021-04-21T12:04:26.346422Z"
    },
    "papermill": {
     "duration": 0.042425,
     "end_time": "2021-04-21T12:04:26.346563",
     "exception": false,
     "start_time": "2021-04-21T12:04:26.304138",
     "status": "completed"
    },
    "tags": []
   },
   "outputs": [],
   "source": [
    "#hide\n",
    "# g['date'] = g.date.dt.dayofyear"
   ]
  },
  {
   "cell_type": "code",
   "execution_count": 35,
   "id": "inside-dubai",
   "metadata": {
    "execution": {
     "iopub.execute_input": "2021-04-21T12:04:26.420444Z",
     "iopub.status.busy": "2021-04-21T12:04:26.419860Z",
     "iopub.status.idle": "2021-04-21T12:04:26.422108Z",
     "shell.execute_reply": "2021-04-21T12:04:26.422553Z"
    },
    "papermill": {
     "duration": 0.04124,
     "end_time": "2021-04-21T12:04:26.422699",
     "exception": false,
     "start_time": "2021-04-21T12:04:26.381459",
     "status": "completed"
    },
    "tags": []
   },
   "outputs": [],
   "source": [
    "#hide\n",
    "# g = g.rename(columns= {'continent':'group','country':'name','cases':'value'})"
   ]
  },
  {
   "cell_type": "code",
   "execution_count": 36,
   "id": "fleet-motorcycle",
   "metadata": {
    "execution": {
     "iopub.execute_input": "2021-04-21T12:04:26.496876Z",
     "iopub.status.busy": "2021-04-21T12:04:26.496300Z",
     "iopub.status.idle": "2021-04-21T12:04:26.500719Z",
     "shell.execute_reply": "2021-04-21T12:04:26.500234Z"
    },
    "papermill": {
     "duration": 0.043495,
     "end_time": "2021-04-21T12:04:26.500851",
     "exception": false,
     "start_time": "2021-04-21T12:04:26.457356",
     "status": "completed"
    },
    "tags": []
   },
   "outputs": [],
   "source": [
    "#hide\n",
    "# cols = ['name','group','day','value']"
   ]
  },
  {
   "cell_type": "code",
   "execution_count": 37,
   "id": "continued-sleeping",
   "metadata": {
    "execution": {
     "iopub.execute_input": "2021-04-21T12:04:26.575037Z",
     "iopub.status.busy": "2021-04-21T12:04:26.574460Z",
     "iopub.status.idle": "2021-04-21T12:04:26.577152Z",
     "shell.execute_reply": "2021-04-21T12:04:26.576664Z"
    },
    "papermill": {
     "duration": 0.041812,
     "end_time": "2021-04-21T12:04:26.577272",
     "exception": false,
     "start_time": "2021-04-21T12:04:26.535460",
     "status": "completed"
    },
    "tags": []
   },
   "outputs": [],
   "source": [
    "#hide\n",
    "# g.rename(columns= {'date':'day'},inplace = True)"
   ]
  },
  {
   "cell_type": "code",
   "execution_count": 38,
   "id": "major-fight",
   "metadata": {
    "execution": {
     "iopub.execute_input": "2021-04-21T12:04:26.651815Z",
     "iopub.status.busy": "2021-04-21T12:04:26.651209Z",
     "iopub.status.idle": "2021-04-21T12:04:26.654130Z",
     "shell.execute_reply": "2021-04-21T12:04:26.654630Z"
    },
    "papermill": {
     "duration": 0.042669,
     "end_time": "2021-04-21T12:04:26.654775",
     "exception": false,
     "start_time": "2021-04-21T12:04:26.612106",
     "status": "completed"
    },
    "tags": []
   },
   "outputs": [],
   "source": [
    "#hide\n",
    "# g = g[cols]"
   ]
  },
  {
   "cell_type": "code",
   "execution_count": 39,
   "id": "structured-mobile",
   "metadata": {
    "execution": {
     "iopub.execute_input": "2021-04-21T12:04:26.728284Z",
     "iopub.status.busy": "2021-04-21T12:04:26.727668Z",
     "iopub.status.idle": "2021-04-21T12:04:26.729607Z",
     "shell.execute_reply": "2021-04-21T12:04:26.730070Z"
    },
    "papermill": {
     "duration": 0.040848,
     "end_time": "2021-04-21T12:04:26.730211",
     "exception": false,
     "start_time": "2021-04-21T12:04:26.689363",
     "status": "completed"
    },
    "tags": []
   },
   "outputs": [],
   "source": [
    "# #hide\n",
    "# g = g[g.group.notna()]"
   ]
  },
  {
   "cell_type": "code",
   "execution_count": 40,
   "id": "determined-closing",
   "metadata": {
    "execution": {
     "iopub.execute_input": "2021-04-21T12:04:26.806826Z",
     "iopub.status.busy": "2021-04-21T12:04:26.806212Z",
     "iopub.status.idle": "2021-04-21T12:04:26.808740Z",
     "shell.execute_reply": "2021-04-21T12:04:26.809189Z"
    },
    "papermill": {
     "duration": 0.044211,
     "end_time": "2021-04-21T12:04:26.809341",
     "exception": false,
     "start_time": "2021-04-21T12:04:26.765130",
     "status": "completed"
    },
    "tags": []
   },
   "outputs": [],
   "source": [
    "# #hide\n",
    "# colors = dict(zip(\n",
    "#     [\"Oceania\", \"Europe\", \"Asia\", \"South America\", \"Middle East\", \"North America\", \"Africa\"],\n",
    "#     [\"#adb0ff\", \"#ffb3ff\", \"#90d595\", \"#e48381\", \"#aafbff\", \"#f7bb5f\", \"#eafb50\"]\n",
    "# ))\n",
    "# group_lk = g.set_index('name')['group'].to_dict()"
   ]
  },
  {
   "cell_type": "code",
   "execution_count": null,
   "id": "gross-drinking",
   "metadata": {
    "papermill": {
     "duration": 0.034617,
     "end_time": "2021-04-21T12:04:26.878633",
     "exception": false,
     "start_time": "2021-04-21T12:04:26.844016",
     "status": "completed"
    },
    "tags": []
   },
   "outputs": [],
   "source": []
  },
  {
   "cell_type": "code",
   "execution_count": 41,
   "id": "subject-macintosh",
   "metadata": {
    "execution": {
     "iopub.execute_input": "2021-04-21T12:04:26.953038Z",
     "iopub.status.busy": "2021-04-21T12:04:26.952440Z",
     "iopub.status.idle": "2021-04-21T12:04:26.955073Z",
     "shell.execute_reply": "2021-04-21T12:04:26.954601Z"
    },
    "papermill": {
     "duration": 0.041701,
     "end_time": "2021-04-21T12:04:26.955201",
     "exception": false,
     "start_time": "2021-04-21T12:04:26.913500",
     "status": "completed"
    },
    "tags": []
   },
   "outputs": [],
   "source": [
    "# #hide\n",
    "# fig, ax = plt.subplots(figsize=(15, 8))\n",
    "\n",
    "# def draw_barchart(current_day):\n",
    "#     dff = g[g['day'].eq(current_day)].sort_values(by='value', ascending=True).tail(10)\n",
    "#     ax.clear()\n",
    "#     ax.barh(dff['name'], dff['value'], color=[colors[group_lk[x]] for x in dff['name']])\n",
    "#     dx = dff['value'].max() / 200\n",
    "    \n",
    "#     for i, (value, name) in enumerate(zip(dff['value'], dff['name'])):\n",
    "#         ax.text(value-dx, i,     name,           size=14, weight=600, ha='right', va='bottom')\n",
    "#         ax.text(value-dx, i-.25, group_lk[name], size=10, color='#444444', ha='right', va='baseline')\n",
    "#         ax.text(value+dx, i,     f'{value:,.0f}',  size=14, ha='left',  va='center')\n",
    "#     ax.text(1, 0.4, current_day, transform=ax.transAxes, color='#777777', size=46, ha='right', weight=800)\n",
    "#     ax.text(0, 1.06, 'Population (thousands)', transform=ax.transAxes, size=12, color='#777777')\n",
    "#     ax.xaxis.set_major_formatter(ticker.StrMethodFormatter('{x:,.0f}'))\n",
    "#     ax.xaxis.set_ticks_position('top')\n",
    "#     ax.tick_params(axis='x', colors='#777777', labelsize=12)\n",
    "#     ax.set_yticks([])\n",
    "#     ax.margins(0, 0.01)\n",
    "#     ax.grid(which='major', axis='x', linestyle='-')\n",
    "#     ax.set_axisbelow(True)\n",
    "    \n",
    "#     ax.text(0, 1.15, 'Coronavirus',\n",
    "#             transform=ax.transAxes, size=24, weight=600, ha='left', va='top')\n",
    "# #     ax.text(1, 0, 'by @pratapvardhan; credit @jburnmurdoch', transform=ax.transAxes, color='#777777', ha='right',\n",
    "# #             bbox=dict(facecolor='white', alpha=0.8, edgecolor='white'))\n",
    "#     plt.box(False)"
   ]
  },
  {
   "cell_type": "code",
   "execution_count": 42,
   "id": "sexual-wages",
   "metadata": {
    "execution": {
     "iopub.execute_input": "2021-04-21T12:04:27.029702Z",
     "iopub.status.busy": "2021-04-21T12:04:27.028857Z",
     "iopub.status.idle": "2021-04-21T12:04:27.030566Z",
     "shell.execute_reply": "2021-04-21T12:04:27.031238Z"
    },
    "papermill": {
     "duration": 0.041548,
     "end_time": "2021-04-21T12:04:27.031431",
     "exception": false,
     "start_time": "2021-04-21T12:04:26.989883",
     "status": "completed"
    },
    "tags": []
   },
   "outputs": [],
   "source": [
    "# #hide_input\n",
    "# fig, ax = plt.subplots(figsize=(15, 8))\n",
    "# animator = animation.FuncAnimation(fig, draw_barchart, frames=range(g.day.values.min(), g.day.values.max()))\n",
    "# HTML(animator.to_jshtml())\n",
    "# # or use animator.to_html5_video() or animator.save() "
   ]
  },
  {
   "cell_type": "code",
   "execution_count": null,
   "id": "australian-container",
   "metadata": {
    "papermill": {
     "duration": 0.040635,
     "end_time": "2021-04-21T12:04:27.124916",
     "exception": false,
     "start_time": "2021-04-21T12:04:27.084281",
     "status": "completed"
    },
    "tags": []
   },
   "outputs": [],
   "source": []
  },
  {
   "cell_type": "code",
   "execution_count": null,
   "id": "mediterranean-pontiac",
   "metadata": {
    "papermill": {
     "duration": 0.041367,
     "end_time": "2021-04-21T12:04:27.204408",
     "exception": false,
     "start_time": "2021-04-21T12:04:27.163041",
     "status": "completed"
    },
    "tags": []
   },
   "outputs": [],
   "source": []
  },
  {
   "cell_type": "code",
   "execution_count": null,
   "id": "aging-legislature",
   "metadata": {
    "papermill": {
     "duration": 0.036172,
     "end_time": "2021-04-21T12:04:27.278587",
     "exception": false,
     "start_time": "2021-04-21T12:04:27.242415",
     "status": "completed"
    },
    "tags": []
   },
   "outputs": [],
   "source": []
  }
 ],
 "metadata": {
  "kernelspec": {
   "display_name": "Python 3",
   "language": "python",
   "name": "python3"
  },
  "language_info": {
   "codemirror_mode": {
    "name": "ipython",
    "version": 3
   },
   "file_extension": ".py",
   "mimetype": "text/x-python",
   "name": "python",
   "nbconvert_exporter": "python",
   "pygments_lexer": "ipython3",
   "version": "3.6.13"
  },
  "papermill": {
   "duration": 6.72189,
   "end_time": "2021-04-21T12:04:27.725651",
   "environment_variables": {},
   "exception": null,
   "input_path": "2020-03-21-covid19exp.ipynb",
   "output_path": "2020-03-21-covid19exp.ipynb",
   "parameters": {},
   "start_time": "2021-04-21T12:04:21.003761",
   "version": "2.0.0"
  }
 },
 "nbformat": 4,
 "nbformat_minor": 5
}