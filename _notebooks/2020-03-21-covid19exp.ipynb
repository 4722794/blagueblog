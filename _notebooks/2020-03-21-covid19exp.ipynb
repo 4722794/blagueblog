{
 "cells": [
  {
   "cell_type": "markdown",
   "id": "muslim-click",
   "metadata": {
    "papermill": {
     "duration": 0.037488,
     "end_time": "2021-12-03T12:12:12.359308",
     "exception": false,
     "start_time": "2021-12-03T12:12:12.321820",
     "status": "completed"
    },
    "tags": []
   },
   "source": [
    "# COVID-19 Case Race\n",
    "> A race chart to see rising cases around the world\n",
    "\n",
    "- author: Hargun Oberoi\n",
    "- image: images/covid-overview.png\n",
    "- hide: false\n",
    "- badges: false"
   ]
  },
  {
   "cell_type": "code",
   "execution_count": 1,
   "id": "proof-material",
   "metadata": {
    "execution": {
     "iopub.execute_input": "2021-12-03T12:12:12.429089Z",
     "iopub.status.busy": "2021-12-03T12:12:12.428427Z",
     "iopub.status.idle": "2021-12-03T12:12:12.759688Z",
     "shell.execute_reply": "2021-12-03T12:12:12.759034Z"
    },
    "papermill": {
     "duration": 0.368394,
     "end_time": "2021-12-03T12:12:12.759865",
     "exception": false,
     "start_time": "2021-12-03T12:12:12.391471",
     "status": "completed"
    },
    "tags": []
   },
   "outputs": [],
   "source": [
    "#hide\n",
    "import numpy as np\n",
    "import pandas as pd\n",
    "from jinja2 import Template\n",
    "from IPython.display import HTML"
   ]
  },
  {
   "cell_type": "code",
   "execution_count": 2,
   "id": "developed-terminology",
   "metadata": {
    "execution": {
     "iopub.execute_input": "2021-12-03T12:12:12.829001Z",
     "iopub.status.busy": "2021-12-03T12:12:12.828374Z",
     "iopub.status.idle": "2021-12-03T12:12:12.831788Z",
     "shell.execute_reply": "2021-12-03T12:12:12.831302Z"
    },
    "papermill": {
     "duration": 0.039855,
     "end_time": "2021-12-03T12:12:12.831899",
     "exception": false,
     "start_time": "2021-12-03T12:12:12.792044",
     "status": "completed"
    },
    "tags": []
   },
   "outputs": [],
   "source": [
    "#hide\n",
    "\n",
    "# FETCH\n",
    "base_url = 'https://raw.githubusercontent.com/pratapvardhan/notebooks/master/covid19/'\n",
    "paths = {\n",
    "    'mapping': base_url + 'mapping_countries.csv',\n",
    "    'overview': base_url + 'overview.tpl'\n",
    "}"
   ]
  },
  {
   "cell_type": "code",
   "execution_count": 3,
   "id": "dynamic-saver",
   "metadata": {
    "execution": {
     "iopub.execute_input": "2021-12-03T12:12:12.904671Z",
     "iopub.status.busy": "2021-12-03T12:12:12.904101Z",
     "iopub.status.idle": "2021-12-03T12:12:12.906976Z",
     "shell.execute_reply": "2021-12-03T12:12:12.907456Z"
    },
    "papermill": {
     "duration": 0.044341,
     "end_time": "2021-12-03T12:12:12.907592",
     "exception": false,
     "start_time": "2021-12-03T12:12:12.863251",
     "status": "completed"
    },
    "tags": []
   },
   "outputs": [
    {
     "data": {
      "text/plain": [
       "'https://raw.githubusercontent.com/pratapvardhan/notebooks/master/covid19/mapping_countries.csv'"
      ]
     },
     "execution_count": 3,
     "metadata": {},
     "output_type": "execute_result"
    }
   ],
   "source": [
    "#hide\n",
    "paths['mapping']"
   ]
  },
  {
   "cell_type": "code",
   "execution_count": 4,
   "id": "urban-software",
   "metadata": {
    "execution": {
     "iopub.execute_input": "2021-12-03T12:12:12.978621Z",
     "iopub.status.busy": "2021-12-03T12:12:12.978011Z",
     "iopub.status.idle": "2021-12-03T12:12:12.980445Z",
     "shell.execute_reply": "2021-12-03T12:12:12.981027Z"
    },
    "papermill": {
     "duration": 0.041524,
     "end_time": "2021-12-03T12:12:12.981164",
     "exception": false,
     "start_time": "2021-12-03T12:12:12.939640",
     "status": "completed"
    },
    "tags": []
   },
   "outputs": [],
   "source": [
    "#hide\n",
    "def get_mappings(url):\n",
    "    df = pd.read_csv(url)\n",
    "    return {\n",
    "        'df': df,\n",
    "        'replace.country': dict(df.dropna(subset=['Name']).set_index('Country')['Name']),\n",
    "        'map.continent': dict(df.set_index('Name')['Continent'])\n",
    "    }"
   ]
  },
  {
   "cell_type": "code",
   "execution_count": 5,
   "id": "intimate-machinery",
   "metadata": {
    "execution": {
     "iopub.execute_input": "2021-12-03T12:12:13.051541Z",
     "iopub.status.busy": "2021-12-03T12:12:13.050921Z",
     "iopub.status.idle": "2021-12-03T12:12:13.095391Z",
     "shell.execute_reply": "2021-12-03T12:12:13.094750Z"
    },
    "papermill": {
     "duration": 0.083163,
     "end_time": "2021-12-03T12:12:13.095514",
     "exception": false,
     "start_time": "2021-12-03T12:12:13.012351",
     "status": "completed"
    },
    "tags": []
   },
   "outputs": [],
   "source": [
    "#hide\n",
    "mapping = get_mappings(paths['mapping'])"
   ]
  },
  {
   "cell_type": "code",
   "execution_count": 6,
   "id": "certified-tactics",
   "metadata": {
    "execution": {
     "iopub.execute_input": "2021-12-03T12:12:13.166304Z",
     "iopub.status.busy": "2021-12-03T12:12:13.165684Z",
     "iopub.status.idle": "2021-12-03T12:12:13.168284Z",
     "shell.execute_reply": "2021-12-03T12:12:13.167767Z"
    },
    "papermill": {
     "duration": 0.040746,
     "end_time": "2021-12-03T12:12:13.168406",
     "exception": false,
     "start_time": "2021-12-03T12:12:13.127660",
     "status": "completed"
    },
    "tags": []
   },
   "outputs": [],
   "source": [
    "#hide\n",
    "def get_template(path):\n",
    "    from urllib.parse import urlparse\n",
    "    if bool(urlparse(path).netloc):\n",
    "        from urllib.request import urlopen\n",
    "        return urlopen(path).read().decode('utf8')\n",
    "    return open(path).read()"
   ]
  },
  {
   "cell_type": "code",
   "execution_count": 7,
   "id": "realistic-blast",
   "metadata": {
    "execution": {
     "iopub.execute_input": "2021-12-03T12:12:13.235775Z",
     "iopub.status.busy": "2021-12-03T12:12:13.235271Z",
     "iopub.status.idle": "2021-12-03T12:12:13.237890Z",
     "shell.execute_reply": "2021-12-03T12:12:13.238480Z"
    },
    "papermill": {
     "duration": 0.037526,
     "end_time": "2021-12-03T12:12:13.238614",
     "exception": false,
     "start_time": "2021-12-03T12:12:13.201088",
     "status": "completed"
    },
    "tags": []
   },
   "outputs": [],
   "source": [
    "#hide\n",
    "def get_frame(name):\n",
    "    url = (\n",
    "        'https://raw.githubusercontent.com/CSSEGISandData/COVID-19/master/csse_covid_19_data/'\n",
    "        f'csse_covid_19_time_series/time_series_covid19_{name}_global.csv')\n",
    "    df = pd.read_csv(url)\n",
    "    # rename countries\n",
    "    df['Country/Region'] = df['Country/Region'].replace(mapping['replace.country'])\n",
    "    return df"
   ]
  },
  {
   "cell_type": "code",
   "execution_count": 8,
   "id": "affiliated-characterization",
   "metadata": {
    "execution": {
     "iopub.execute_input": "2021-12-03T12:12:13.298154Z",
     "iopub.status.busy": "2021-12-03T12:12:13.297570Z",
     "iopub.status.idle": "2021-12-03T12:12:13.300324Z",
     "shell.execute_reply": "2021-12-03T12:12:13.300797Z"
    },
    "papermill": {
     "duration": 0.035686,
     "end_time": "2021-12-03T12:12:13.300936",
     "exception": false,
     "start_time": "2021-12-03T12:12:13.265250",
     "status": "completed"
    },
    "tags": []
   },
   "outputs": [],
   "source": [
    "#hide\n",
    "def get_dates(df):\n",
    "    dt_cols = df.columns[~df.columns.isin(['Province/State', 'Country/Region', 'Lat', 'Long'])]\n",
    "    LAST_DATE_I = -1\n",
    "    # sometimes last column may be empty, then go backwards\n",
    "    for i in range(-1, -len(dt_cols), -1):\n",
    "        if not df[dt_cols[i]].fillna(0).eq(0).all():\n",
    "            LAST_DATE_I = i\n",
    "            break\n",
    "    return LAST_DATE_I, dt_cols"
   ]
  },
  {
   "cell_type": "code",
   "execution_count": 9,
   "id": "recent-optimization",
   "metadata": {
    "execution": {
     "iopub.execute_input": "2021-12-03T12:12:13.365669Z",
     "iopub.status.busy": "2021-12-03T12:12:13.365056Z",
     "iopub.status.idle": "2021-12-03T12:12:13.667515Z",
     "shell.execute_reply": "2021-12-03T12:12:13.666339Z"
    },
    "papermill": {
     "duration": 0.336581,
     "end_time": "2021-12-03T12:12:13.667650",
     "exception": false,
     "start_time": "2021-12-03T12:12:13.331069",
     "status": "completed"
    },
    "tags": []
   },
   "outputs": [],
   "source": [
    "#hide\n",
    "COL_REGION = 'Country/Region'\n",
    "# Confirmed, Recovered, Deaths\n",
    "df = get_frame('confirmed')\n",
    "# dft_: timeseries, dfc_: today country agg\n",
    "dft_cases = df\n",
    "dft_deaths = get_frame('deaths')\n",
    "dft_recovered = get_frame('recovered')\n",
    "LAST_DATE_I, dt_cols = get_dates(df)"
   ]
  },
  {
   "cell_type": "code",
   "execution_count": 10,
   "id": "absolute-copper",
   "metadata": {
    "execution": {
     "iopub.execute_input": "2021-12-03T12:12:13.735747Z",
     "iopub.status.busy": "2021-12-03T12:12:13.734694Z",
     "iopub.status.idle": "2021-12-03T12:12:13.736895Z",
     "shell.execute_reply": "2021-12-03T12:12:13.737747Z"
    },
    "papermill": {
     "duration": 0.040894,
     "end_time": "2021-12-03T12:12:13.737969",
     "exception": false,
     "start_time": "2021-12-03T12:12:13.697075",
     "status": "completed"
    },
    "tags": []
   },
   "outputs": [],
   "source": [
    "#hide\n",
    "LAST_DATE_I, dt_cols = get_dates(df)\n",
    "dt_today =dt_cols[LAST_DATE_I]\n",
    "# dt_5day = dt_cols[LAST_DATE_I - 5]\n",
    "dt_yday = dt_cols[LAST_DATE_I - 1]"
   ]
  },
  {
   "cell_type": "code",
   "execution_count": 11,
   "id": "restricted-sheriff",
   "metadata": {
    "execution": {
     "iopub.execute_input": "2021-12-03T12:12:13.810450Z",
     "iopub.status.busy": "2021-12-03T12:12:13.810015Z",
     "iopub.status.idle": "2021-12-03T12:12:13.815714Z",
     "shell.execute_reply": "2021-12-03T12:12:13.815257Z"
    },
    "papermill": {
     "duration": 0.045417,
     "end_time": "2021-12-03T12:12:13.815830",
     "exception": false,
     "start_time": "2021-12-03T12:12:13.770413",
     "status": "completed"
    },
    "tags": []
   },
   "outputs": [],
   "source": [
    "#hide\n",
    "dfc_cases = dft_cases.groupby(COL_REGION)[dt_today].sum()\n",
    "dfc_deaths = dft_deaths.groupby(COL_REGION)[dt_today].sum()\n",
    "# dfp_cases = dft_cases.groupby(COL_REGION)[dt_5day].sum()\n",
    "# dfp_deaths = dft_deaths.groupby(COL_REGION)[dt_5day].sum()\n",
    "dfp_cases = dft_cases.groupby(COL_REGION)[dt_yday].sum()\n",
    "dfp_deaths = dft_deaths.groupby(COL_REGION)[dt_yday].sum()"
   ]
  },
  {
   "cell_type": "code",
   "execution_count": 12,
   "id": "deluxe-hepatitis",
   "metadata": {
    "execution": {
     "iopub.execute_input": "2021-12-03T12:12:13.880496Z",
     "iopub.status.busy": "2021-12-03T12:12:13.880058Z",
     "iopub.status.idle": "2021-12-03T12:12:13.884581Z",
     "shell.execute_reply": "2021-12-03T12:12:13.885019Z"
    },
    "papermill": {
     "duration": 0.038983,
     "end_time": "2021-12-03T12:12:13.885125",
     "exception": false,
     "start_time": "2021-12-03T12:12:13.846142",
     "status": "completed"
    },
    "tags": []
   },
   "outputs": [],
   "source": [
    "#hide\n",
    "df_table = (pd.DataFrame(dict(Cases = dfc_cases, Deaths = dfc_deaths, PCases = dfp_cases, PDeaths = dfp_deaths))\n",
    "            .sort_values(by = ['Cases','Deaths'], ascending = [False, False])\n",
    "            .reset_index())"
   ]
  },
  {
   "cell_type": "code",
   "execution_count": 13,
   "id": "educational-chancellor",
   "metadata": {
    "execution": {
     "iopub.execute_input": "2021-12-03T12:12:13.961761Z",
     "iopub.status.busy": "2021-12-03T12:12:13.956969Z",
     "iopub.status.idle": "2021-12-03T12:12:13.965704Z",
     "shell.execute_reply": "2021-12-03T12:12:13.965216Z"
    },
    "papermill": {
     "duration": 0.053216,
     "end_time": "2021-12-03T12:12:13.965832",
     "exception": false,
     "start_time": "2021-12-03T12:12:13.912616",
     "status": "completed"
    },
    "tags": []
   },
   "outputs": [
    {
     "data": {
      "text/html": [
       "<div>\n",
       "<style scoped>\n",
       "    .dataframe tbody tr th:only-of-type {\n",
       "        vertical-align: middle;\n",
       "    }\n",
       "\n",
       "    .dataframe tbody tr th {\n",
       "        vertical-align: top;\n",
       "    }\n",
       "\n",
       "    .dataframe thead th {\n",
       "        text-align: right;\n",
       "    }\n",
       "</style>\n",
       "<table border=\"1\" class=\"dataframe\">\n",
       "  <thead>\n",
       "    <tr style=\"text-align: right;\">\n",
       "      <th></th>\n",
       "      <th>Country/Region</th>\n",
       "      <th>Cases</th>\n",
       "      <th>Deaths</th>\n",
       "      <th>PCases</th>\n",
       "      <th>PDeaths</th>\n",
       "      <th>Cases (+)</th>\n",
       "      <th>Deaths (+)</th>\n",
       "      <th>Fatality Rate</th>\n",
       "      <th>Continent</th>\n",
       "    </tr>\n",
       "  </thead>\n",
       "  <tbody>\n",
       "    <tr>\n",
       "      <th>0</th>\n",
       "      <td>US</td>\n",
       "      <td>48832228</td>\n",
       "      <td>785900</td>\n",
       "      <td>48691353</td>\n",
       "      <td>782100</td>\n",
       "      <td>140875</td>\n",
       "      <td>3800</td>\n",
       "      <td>1.61</td>\n",
       "      <td>North America</td>\n",
       "    </tr>\n",
       "    <tr>\n",
       "      <th>1</th>\n",
       "      <td>India</td>\n",
       "      <td>34615757</td>\n",
       "      <td>470115</td>\n",
       "      <td>34606541</td>\n",
       "      <td>469724</td>\n",
       "      <td>9216</td>\n",
       "      <td>391</td>\n",
       "      <td>1.36</td>\n",
       "      <td>Asia</td>\n",
       "    </tr>\n",
       "    <tr>\n",
       "      <th>2</th>\n",
       "      <td>Brazil</td>\n",
       "      <td>22118782</td>\n",
       "      <td>615179</td>\n",
       "      <td>22105872</td>\n",
       "      <td>614964</td>\n",
       "      <td>12910</td>\n",
       "      <td>215</td>\n",
       "      <td>2.78</td>\n",
       "      <td>South America</td>\n",
       "    </tr>\n",
       "    <tr>\n",
       "      <th>3</th>\n",
       "      <td>United Kingdom</td>\n",
       "      <td>10387200</td>\n",
       "      <td>145728</td>\n",
       "      <td>10333672</td>\n",
       "      <td>145586</td>\n",
       "      <td>53528</td>\n",
       "      <td>142</td>\n",
       "      <td>1.40</td>\n",
       "      <td>Europe</td>\n",
       "    </tr>\n",
       "    <tr>\n",
       "      <th>4</th>\n",
       "      <td>Russia</td>\n",
       "      <td>9533593</td>\n",
       "      <td>272279</td>\n",
       "      <td>9500836</td>\n",
       "      <td>271091</td>\n",
       "      <td>32757</td>\n",
       "      <td>1188</td>\n",
       "      <td>2.86</td>\n",
       "      <td>Europe</td>\n",
       "    </tr>\n",
       "  </tbody>\n",
       "</table>\n",
       "</div>"
      ],
      "text/plain": [
       "   Country/Region     Cases  Deaths    PCases  PDeaths  Cases (+)  Deaths (+)  \\\n",
       "0              US  48832228  785900  48691353   782100     140875        3800   \n",
       "1           India  34615757  470115  34606541   469724       9216         391   \n",
       "2          Brazil  22118782  615179  22105872   614964      12910         215   \n",
       "3  United Kingdom  10387200  145728  10333672   145586      53528         142   \n",
       "4          Russia   9533593  272279   9500836   271091      32757        1188   \n",
       "\n",
       "   Fatality Rate      Continent  \n",
       "0           1.61  North America  \n",
       "1           1.36           Asia  \n",
       "2           2.78  South America  \n",
       "3           1.40         Europe  \n",
       "4           2.86         Europe  "
      ]
     },
     "execution_count": 13,
     "metadata": {},
     "output_type": "execute_result"
    }
   ],
   "source": [
    "#hide\n",
    "for c in 'Cases, Deaths'.split(', '):\n",
    "    df_table[f'{c} (+)'] = (df_table[c] - df_table[f'P{c}']).clip(0)\n",
    "    #Clip ça veut dire, les chiffres negatif sont interdit\n",
    "df_table['Fatality Rate'] = (100* df_table['Deaths']/ df_table['Cases']).round(2)\n",
    "df_table['Continent'] = df_table['Country/Region'].map(mapping['map.continent'])\n",
    "df_table.head(5)"
   ]
  },
  {
   "cell_type": "code",
   "execution_count": 14,
   "id": "aboriginal-bulgaria",
   "metadata": {
    "execution": {
     "iopub.execute_input": "2021-12-03T12:12:14.035303Z",
     "iopub.status.busy": "2021-12-03T12:12:14.034812Z",
     "iopub.status.idle": "2021-12-03T12:12:14.038227Z",
     "shell.execute_reply": "2021-12-03T12:12:14.037722Z"
    },
    "papermill": {
     "duration": 0.043747,
     "end_time": "2021-12-03T12:12:14.038350",
     "exception": false,
     "start_time": "2021-12-03T12:12:13.994603",
     "status": "completed"
    },
    "tags": []
   },
   "outputs": [],
   "source": [
    "#hide\n",
    "#delete problematic countries from table\n",
    "df_table = df_table[~df_table['Country/Region'].isin(['Cape Verde', 'Cruise Ship', 'Kosovo'])]"
   ]
  },
  {
   "cell_type": "code",
   "execution_count": 15,
   "id": "fantastic-effect",
   "metadata": {
    "execution": {
     "iopub.execute_input": "2021-12-03T12:12:14.115752Z",
     "iopub.status.busy": "2021-12-03T12:12:14.101611Z",
     "iopub.status.idle": "2021-12-03T12:12:14.119490Z",
     "shell.execute_reply": "2021-12-03T12:12:14.118933Z"
    },
    "papermill": {
     "duration": 0.053453,
     "end_time": "2021-12-03T12:12:14.119598",
     "exception": false,
     "start_time": "2021-12-03T12:12:14.066145",
     "status": "completed"
    },
    "tags": []
   },
   "outputs": [
    {
     "data": {
      "text/html": [
       "<div>\n",
       "<style scoped>\n",
       "    .dataframe tbody tr th:only-of-type {\n",
       "        vertical-align: middle;\n",
       "    }\n",
       "\n",
       "    .dataframe tbody tr th {\n",
       "        vertical-align: top;\n",
       "    }\n",
       "\n",
       "    .dataframe thead th {\n",
       "        text-align: right;\n",
       "    }\n",
       "</style>\n",
       "<table border=\"1\" class=\"dataframe\">\n",
       "  <thead>\n",
       "    <tr style=\"text-align: right;\">\n",
       "      <th></th>\n",
       "      <th>Country/Region</th>\n",
       "      <th>Cases</th>\n",
       "      <th>Deaths</th>\n",
       "      <th>PCases</th>\n",
       "      <th>PDeaths</th>\n",
       "      <th>Cases (+)</th>\n",
       "      <th>Deaths (+)</th>\n",
       "      <th>Fatality Rate</th>\n",
       "      <th>Continent</th>\n",
       "    </tr>\n",
       "  </thead>\n",
       "  <tbody>\n",
       "    <tr>\n",
       "      <th>0</th>\n",
       "      <td>US</td>\n",
       "      <td>48832228</td>\n",
       "      <td>785900</td>\n",
       "      <td>48691353</td>\n",
       "      <td>782100</td>\n",
       "      <td>140875</td>\n",
       "      <td>3800</td>\n",
       "      <td>1.6</td>\n",
       "      <td>North America</td>\n",
       "    </tr>\n",
       "    <tr>\n",
       "      <th>1</th>\n",
       "      <td>India</td>\n",
       "      <td>34615757</td>\n",
       "      <td>470115</td>\n",
       "      <td>34606541</td>\n",
       "      <td>469724</td>\n",
       "      <td>9216</td>\n",
       "      <td>391</td>\n",
       "      <td>1.4</td>\n",
       "      <td>Asia</td>\n",
       "    </tr>\n",
       "    <tr>\n",
       "      <th>2</th>\n",
       "      <td>Brazil</td>\n",
       "      <td>22118782</td>\n",
       "      <td>615179</td>\n",
       "      <td>22105872</td>\n",
       "      <td>614964</td>\n",
       "      <td>12910</td>\n",
       "      <td>215</td>\n",
       "      <td>2.8</td>\n",
       "      <td>South America</td>\n",
       "    </tr>\n",
       "    <tr>\n",
       "      <th>3</th>\n",
       "      <td>United Kingdom</td>\n",
       "      <td>10387200</td>\n",
       "      <td>145728</td>\n",
       "      <td>10333672</td>\n",
       "      <td>145586</td>\n",
       "      <td>53528</td>\n",
       "      <td>142</td>\n",
       "      <td>1.4</td>\n",
       "      <td>Europe</td>\n",
       "    </tr>\n",
       "    <tr>\n",
       "      <th>4</th>\n",
       "      <td>Russia</td>\n",
       "      <td>9533593</td>\n",
       "      <td>272279</td>\n",
       "      <td>9500836</td>\n",
       "      <td>271091</td>\n",
       "      <td>32757</td>\n",
       "      <td>1188</td>\n",
       "      <td>2.9</td>\n",
       "      <td>Europe</td>\n",
       "    </tr>\n",
       "  </tbody>\n",
       "</table>\n",
       "</div>"
      ],
      "text/plain": [
       "   Country/Region     Cases  Deaths    PCases  PDeaths  Cases (+)  Deaths (+)  \\\n",
       "0              US  48832228  785900  48691353   782100     140875        3800   \n",
       "1           India  34615757  470115  34606541   469724       9216         391   \n",
       "2          Brazil  22118782  615179  22105872   614964      12910         215   \n",
       "3  United Kingdom  10387200  145728  10333672   145586      53528         142   \n",
       "4          Russia   9533593  272279   9500836   271091      32757        1188   \n",
       "\n",
       "   Fatality Rate      Continent  \n",
       "0            1.6  North America  \n",
       "1            1.4           Asia  \n",
       "2            2.8  South America  \n",
       "3            1.4         Europe  \n",
       "4            2.9         Europe  "
      ]
     },
     "execution_count": 15,
     "metadata": {},
     "output_type": "execute_result"
    }
   ],
   "source": [
    "#hide\n",
    "df_table = (pd.DataFrame(dict(Cases=dfc_cases, Deaths=dfc_deaths, PCases=dfp_cases, PDeaths=dfp_deaths))\n",
    "             .sort_values(by=['Cases', 'Deaths'], ascending=[False, False])\n",
    "             .reset_index())\n",
    "df_table.rename(columns={'index': 'Country/Region'}, inplace=True)\n",
    "for c in 'Cases, Deaths'.split(', '):\n",
    "    df_table[f'{c} (+)'] = (df_table[c] - df_table[f'P{c}']).clip(0)  # DATA BUG\n",
    "df_table['Fatality Rate'] = (100 * df_table['Deaths'] / df_table['Cases']).round(1)\n",
    "df_table['Continent'] = df_table['Country/Region'].map(mapping['map.continent'])\n",
    "df_table.head(5)"
   ]
  },
  {
   "cell_type": "code",
   "execution_count": 16,
   "id": "fewer-occasion",
   "metadata": {
    "execution": {
     "iopub.execute_input": "2021-12-03T12:12:14.180336Z",
     "iopub.status.busy": "2021-12-03T12:12:14.179753Z",
     "iopub.status.idle": "2021-12-03T12:12:14.182364Z",
     "shell.execute_reply": "2021-12-03T12:12:14.182777Z"
    },
    "papermill": {
     "duration": 0.035872,
     "end_time": "2021-12-03T12:12:14.182873",
     "exception": false,
     "start_time": "2021-12-03T12:12:14.147001",
     "status": "completed"
    },
    "tags": []
   },
   "outputs": [],
   "source": [
    "#hide\n",
    "#delete problematic countries from table\n",
    "df_table = df_table[~df_table['Country/Region'].isin(['Cape Verde', 'Cruise Ship', 'Kosovo'])]"
   ]
  },
  {
   "cell_type": "code",
   "execution_count": 17,
   "id": "related-center",
   "metadata": {
    "execution": {
     "iopub.execute_input": "2021-12-03T12:12:14.257774Z",
     "iopub.status.busy": "2021-12-03T12:12:14.257168Z",
     "iopub.status.idle": "2021-12-03T12:12:14.259811Z",
     "shell.execute_reply": "2021-12-03T12:12:14.259309Z"
    },
    "papermill": {
     "duration": 0.049487,
     "end_time": "2021-12-03T12:12:14.259923",
     "exception": false,
     "start_time": "2021-12-03T12:12:14.210436",
     "status": "completed"
    },
    "tags": []
   },
   "outputs": [],
   "source": [
    "#hide\n",
    "metrics = [df_table.columns[index] for index in [1,2,5,6]]\n",
    "# s_china = df_table[df_table['Country/Region'].eq('China')][metrics].sum().add_prefix('China ')\n",
    "s_us = df_table[df_table['Country/Region'].eq('US')][metrics].sum().add_prefix('US ')\n",
    "s_eu = df_table[df_table['Continent'].eq('Europe')][metrics].sum().add_prefix('EU ')\n",
    "s_ind = df_table[df_table['Country/Region'].eq('India')][metrics].sum().add_prefix('India ')\n",
    "summary = {'updated': pd.to_datetime(dt_today), 'since': pd.to_datetime(dt_yday)}\n",
    "summary = {'updated': pd.to_datetime(dt_today), 'since': pd.to_datetime(dt_yday)}\n",
    "summary = {**summary, **df_table[metrics].sum(), **s_ind, **s_us, **s_eu}"
   ]
  },
  {
   "cell_type": "code",
   "execution_count": 18,
   "id": "engaging-syndrome",
   "metadata": {
    "execution": {
     "iopub.execute_input": "2021-12-03T12:12:14.323727Z",
     "iopub.status.busy": "2021-12-03T12:12:14.320364Z",
     "iopub.status.idle": "2021-12-03T12:12:14.336574Z",
     "shell.execute_reply": "2021-12-03T12:12:14.336063Z"
    },
    "papermill": {
     "duration": 0.047277,
     "end_time": "2021-12-03T12:12:14.336669",
     "exception": false,
     "start_time": "2021-12-03T12:12:14.289392",
     "status": "completed"
    },
    "tags": []
   },
   "outputs": [],
   "source": [
    "#hide\n",
    "dft_ct_new_cases = dft_cases.groupby(COL_REGION)[dt_cols].sum().diff(axis=1).fillna(0).astype(int)"
   ]
  },
  {
   "cell_type": "code",
   "execution_count": 19,
   "id": "neutral-assignment",
   "metadata": {
    "execution": {
     "iopub.execute_input": "2021-12-03T12:12:14.403543Z",
     "iopub.status.busy": "2021-12-03T12:12:14.403106Z",
     "iopub.status.idle": "2021-12-03T12:12:14.405581Z",
     "shell.execute_reply": "2021-12-03T12:12:14.406152Z"
    },
    "papermill": {
     "duration": 0.040268,
     "end_time": "2021-12-03T12:12:14.406284",
     "exception": false,
     "start_time": "2021-12-03T12:12:14.366016",
     "status": "completed"
    },
    "tags": []
   },
   "outputs": [],
   "source": [
    "#hide\n",
    "everydaycases = dft_ct_new_cases.cumsum(axis=1)"
   ]
  },
  {
   "cell_type": "code",
   "execution_count": 20,
   "id": "parliamentary-calgary",
   "metadata": {
    "execution": {
     "iopub.execute_input": "2021-12-03T12:12:14.475239Z",
     "iopub.status.busy": "2021-12-03T12:12:14.470099Z",
     "iopub.status.idle": "2021-12-03T12:12:15.095884Z",
     "shell.execute_reply": "2021-12-03T12:12:15.095308Z"
    },
    "papermill": {
     "duration": 0.660508,
     "end_time": "2021-12-03T12:12:15.095999",
     "exception": false,
     "start_time": "2021-12-03T12:12:14.435491",
     "status": "completed"
    },
    "tags": []
   },
   "outputs": [],
   "source": [
    "#hide\n",
    "import pandas as pd\n",
    "import matplotlib.pyplot as plt\n",
    "import matplotlib.ticker as ticker\n",
    "import matplotlib.animation as animation\n",
    "from IPython.display import HTML"
   ]
  },
  {
   "cell_type": "code",
   "execution_count": 21,
   "id": "lasting-extraction",
   "metadata": {
    "execution": {
     "iopub.execute_input": "2021-12-03T12:12:15.163271Z",
     "iopub.status.busy": "2021-12-03T12:12:15.162761Z",
     "iopub.status.idle": "2021-12-03T12:12:15.168978Z",
     "shell.execute_reply": "2021-12-03T12:12:15.168576Z"
    },
    "papermill": {
     "duration": 0.043811,
     "end_time": "2021-12-03T12:12:15.169088",
     "exception": false,
     "start_time": "2021-12-03T12:12:15.125277",
     "status": "completed"
    },
    "tags": []
   },
   "outputs": [],
   "source": [
    "#hide\n",
    "t = everydaycases.stack()"
   ]
  },
  {
   "cell_type": "code",
   "execution_count": 22,
   "id": "premier-sleeve",
   "metadata": {
    "execution": {
     "iopub.execute_input": "2021-12-03T12:12:15.231106Z",
     "iopub.status.busy": "2021-12-03T12:12:15.230521Z",
     "iopub.status.idle": "2021-12-03T12:12:15.240918Z",
     "shell.execute_reply": "2021-12-03T12:12:15.240550Z"
    },
    "papermill": {
     "duration": 0.043415,
     "end_time": "2021-12-03T12:12:15.241012",
     "exception": false,
     "start_time": "2021-12-03T12:12:15.197597",
     "status": "completed"
    },
    "tags": []
   },
   "outputs": [],
   "source": [
    "#hide\n",
    "g = t.reset_index(['Country/Region'])"
   ]
  },
  {
   "cell_type": "code",
   "execution_count": 23,
   "id": "distributed-pittsburgh",
   "metadata": {
    "execution": {
     "iopub.execute_input": "2021-12-03T12:12:15.302131Z",
     "iopub.status.busy": "2021-12-03T12:12:15.301534Z",
     "iopub.status.idle": "2021-12-03T12:12:15.303940Z",
     "shell.execute_reply": "2021-12-03T12:12:15.304416Z"
    },
    "papermill": {
     "duration": 0.035161,
     "end_time": "2021-12-03T12:12:15.304526",
     "exception": false,
     "start_time": "2021-12-03T12:12:15.269365",
     "status": "completed"
    },
    "tags": []
   },
   "outputs": [],
   "source": [
    "#hide\n",
    "g.index.name = 'date'"
   ]
  },
  {
   "cell_type": "code",
   "execution_count": 24,
   "id": "naked-donor",
   "metadata": {
    "execution": {
     "iopub.execute_input": "2021-12-03T12:12:15.365676Z",
     "iopub.status.busy": "2021-12-03T12:12:15.365061Z",
     "iopub.status.idle": "2021-12-03T12:12:15.367654Z",
     "shell.execute_reply": "2021-12-03T12:12:15.367048Z"
    },
    "papermill": {
     "duration": 0.035352,
     "end_time": "2021-12-03T12:12:15.367786",
     "exception": false,
     "start_time": "2021-12-03T12:12:15.332434",
     "status": "completed"
    },
    "tags": []
   },
   "outputs": [],
   "source": [
    "# #hide\n",
    "# g = g.reset_index(['date'])"
   ]
  },
  {
   "cell_type": "code",
   "execution_count": 25,
   "id": "incomplete-mustang",
   "metadata": {
    "execution": {
     "iopub.execute_input": "2021-12-03T12:12:15.432795Z",
     "iopub.status.busy": "2021-12-03T12:12:15.432244Z",
     "iopub.status.idle": "2021-12-03T12:12:15.434596Z",
     "shell.execute_reply": "2021-12-03T12:12:15.435010Z"
    },
    "papermill": {
     "duration": 0.034661,
     "end_time": "2021-12-03T12:12:15.435113",
     "exception": false,
     "start_time": "2021-12-03T12:12:15.400452",
     "status": "completed"
    },
    "tags": []
   },
   "outputs": [],
   "source": [
    "#hide\n",
    "# g.head()"
   ]
  },
  {
   "cell_type": "code",
   "execution_count": 26,
   "id": "specific-kruger",
   "metadata": {
    "execution": {
     "iopub.execute_input": "2021-12-03T12:12:15.498129Z",
     "iopub.status.busy": "2021-12-03T12:12:15.497453Z",
     "iopub.status.idle": "2021-12-03T12:12:15.499823Z",
     "shell.execute_reply": "2021-12-03T12:12:15.499242Z"
    },
    "papermill": {
     "duration": 0.037418,
     "end_time": "2021-12-03T12:12:15.499944",
     "exception": false,
     "start_time": "2021-12-03T12:12:15.462526",
     "status": "completed"
    },
    "tags": []
   },
   "outputs": [],
   "source": [
    "#hide\n",
    "# g.columns = ['date','country','cases']"
   ]
  },
  {
   "cell_type": "code",
   "execution_count": 27,
   "id": "tender-conversion",
   "metadata": {
    "execution": {
     "iopub.execute_input": "2021-12-03T12:12:15.573674Z",
     "iopub.status.busy": "2021-12-03T12:12:15.572575Z",
     "iopub.status.idle": "2021-12-03T12:12:15.576777Z",
     "shell.execute_reply": "2021-12-03T12:12:15.576140Z"
    },
    "papermill": {
     "duration": 0.042782,
     "end_time": "2021-12-03T12:12:15.576918",
     "exception": false,
     "start_time": "2021-12-03T12:12:15.534136",
     "status": "completed"
    },
    "tags": []
   },
   "outputs": [],
   "source": [
    "#hide\n",
    "# g['continent'] = g.country"
   ]
  },
  {
   "cell_type": "code",
   "execution_count": 28,
   "id": "substantial-wilderness",
   "metadata": {
    "execution": {
     "iopub.execute_input": "2021-12-03T12:12:15.640176Z",
     "iopub.status.busy": "2021-12-03T12:12:15.639747Z",
     "iopub.status.idle": "2021-12-03T12:12:15.642135Z",
     "shell.execute_reply": "2021-12-03T12:12:15.642704Z"
    },
    "papermill": {
     "duration": 0.034006,
     "end_time": "2021-12-03T12:12:15.642832",
     "exception": false,
     "start_time": "2021-12-03T12:12:15.608826",
     "status": "completed"
    },
    "tags": []
   },
   "outputs": [],
   "source": [
    "#hide\n",
    "# cols = list(g.columns.values)"
   ]
  },
  {
   "cell_type": "code",
   "execution_count": 29,
   "id": "solved-farming",
   "metadata": {
    "execution": {
     "iopub.execute_input": "2021-12-03T12:12:15.701915Z",
     "iopub.status.busy": "2021-12-03T12:12:15.701489Z",
     "iopub.status.idle": "2021-12-03T12:12:15.704666Z",
     "shell.execute_reply": "2021-12-03T12:12:15.705103Z"
    },
    "papermill": {
     "duration": 0.034619,
     "end_time": "2021-12-03T12:12:15.705200",
     "exception": false,
     "start_time": "2021-12-03T12:12:15.670581",
     "status": "completed"
    },
    "tags": []
   },
   "outputs": [],
   "source": [
    "#hide\n",
    "# cols.insert(0, cols.pop())"
   ]
  },
  {
   "cell_type": "code",
   "execution_count": 30,
   "id": "executed-adoption",
   "metadata": {
    "execution": {
     "iopub.execute_input": "2021-12-03T12:12:15.763506Z",
     "iopub.status.busy": "2021-12-03T12:12:15.763075Z",
     "iopub.status.idle": "2021-12-03T12:12:15.765985Z",
     "shell.execute_reply": "2021-12-03T12:12:15.765628Z"
    },
    "papermill": {
     "duration": 0.03374,
     "end_time": "2021-12-03T12:12:15.766065",
     "exception": false,
     "start_time": "2021-12-03T12:12:15.732325",
     "status": "completed"
    },
    "tags": []
   },
   "outputs": [],
   "source": [
    "#hide\n",
    "# g = g[cols]"
   ]
  },
  {
   "cell_type": "code",
   "execution_count": 31,
   "id": "subject-dublin",
   "metadata": {
    "execution": {
     "iopub.execute_input": "2021-12-03T12:12:15.823005Z",
     "iopub.status.busy": "2021-12-03T12:12:15.822580Z",
     "iopub.status.idle": "2021-12-03T12:12:15.825660Z",
     "shell.execute_reply": "2021-12-03T12:12:15.825063Z"
    },
    "papermill": {
     "duration": 0.033425,
     "end_time": "2021-12-03T12:12:15.825787",
     "exception": false,
     "start_time": "2021-12-03T12:12:15.792362",
     "status": "completed"
    },
    "tags": []
   },
   "outputs": [],
   "source": [
    "#hide\n",
    "# g['continent'] = g['continent'].map(mapping['map.continent'])"
   ]
  },
  {
   "cell_type": "code",
   "execution_count": 32,
   "id": "freelance-scout",
   "metadata": {
    "execution": {
     "iopub.execute_input": "2021-12-03T12:12:15.886590Z",
     "iopub.status.busy": "2021-12-03T12:12:15.885990Z",
     "iopub.status.idle": "2021-12-03T12:12:15.889844Z",
     "shell.execute_reply": "2021-12-03T12:12:15.890332Z"
    },
    "papermill": {
     "duration": 0.037064,
     "end_time": "2021-12-03T12:12:15.890467",
     "exception": false,
     "start_time": "2021-12-03T12:12:15.853403",
     "status": "completed"
    },
    "tags": []
   },
   "outputs": [],
   "source": [
    "#hide\n",
    "# g.head()"
   ]
  },
  {
   "cell_type": "code",
   "execution_count": 33,
   "id": "limited-engine",
   "metadata": {
    "execution": {
     "iopub.execute_input": "2021-12-03T12:12:15.952467Z",
     "iopub.status.busy": "2021-12-03T12:12:15.952028Z",
     "iopub.status.idle": "2021-12-03T12:12:15.954054Z",
     "shell.execute_reply": "2021-12-03T12:12:15.953689Z"
    },
    "papermill": {
     "duration": 0.034355,
     "end_time": "2021-12-03T12:12:15.954139",
     "exception": false,
     "start_time": "2021-12-03T12:12:15.919784",
     "status": "completed"
    },
    "tags": []
   },
   "outputs": [],
   "source": [
    "# hide\n",
    "# g['date'] = g['date'].astype('datetime64[ns]')"
   ]
  },
  {
   "cell_type": "code",
   "execution_count": 34,
   "id": "sophisticated-supervisor",
   "metadata": {
    "execution": {
     "iopub.execute_input": "2021-12-03T12:12:16.017721Z",
     "iopub.status.busy": "2021-12-03T12:12:16.016869Z",
     "iopub.status.idle": "2021-12-03T12:12:16.020488Z",
     "shell.execute_reply": "2021-12-03T12:12:16.019797Z"
    },
    "papermill": {
     "duration": 0.03843,
     "end_time": "2021-12-03T12:12:16.020643",
     "exception": false,
     "start_time": "2021-12-03T12:12:15.982213",
     "status": "completed"
    },
    "tags": []
   },
   "outputs": [],
   "source": [
    "#hide\n",
    "# g['date'] = g.date.dt.dayofyear"
   ]
  },
  {
   "cell_type": "code",
   "execution_count": 35,
   "id": "inside-dubai",
   "metadata": {
    "execution": {
     "iopub.execute_input": "2021-12-03T12:12:16.092974Z",
     "iopub.status.busy": "2021-12-03T12:12:16.092086Z",
     "iopub.status.idle": "2021-12-03T12:12:16.095466Z",
     "shell.execute_reply": "2021-12-03T12:12:16.095916Z"
    },
    "papermill": {
     "duration": 0.042463,
     "end_time": "2021-12-03T12:12:16.096064",
     "exception": false,
     "start_time": "2021-12-03T12:12:16.053601",
     "status": "completed"
    },
    "tags": []
   },
   "outputs": [],
   "source": [
    "#hide\n",
    "# g = g.rename(columns= {'continent':'group','country':'name','cases':'value'})"
   ]
  },
  {
   "cell_type": "code",
   "execution_count": 36,
   "id": "fleet-motorcycle",
   "metadata": {
    "execution": {
     "iopub.execute_input": "2021-12-03T12:12:16.163560Z",
     "iopub.status.busy": "2021-12-03T12:12:16.163066Z",
     "iopub.status.idle": "2021-12-03T12:12:16.165560Z",
     "shell.execute_reply": "2021-12-03T12:12:16.165984Z"
    },
    "papermill": {
     "duration": 0.03803,
     "end_time": "2021-12-03T12:12:16.166095",
     "exception": false,
     "start_time": "2021-12-03T12:12:16.128065",
     "status": "completed"
    },
    "tags": []
   },
   "outputs": [],
   "source": [
    "#hide\n",
    "# cols = ['name','group','day','value']"
   ]
  },
  {
   "cell_type": "code",
   "execution_count": 37,
   "id": "continued-sleeping",
   "metadata": {
    "execution": {
     "iopub.execute_input": "2021-12-03T12:12:16.227494Z",
     "iopub.status.busy": "2021-12-03T12:12:16.226937Z",
     "iopub.status.idle": "2021-12-03T12:12:16.229335Z",
     "shell.execute_reply": "2021-12-03T12:12:16.229745Z"
    },
    "papermill": {
     "duration": 0.035076,
     "end_time": "2021-12-03T12:12:16.229841",
     "exception": false,
     "start_time": "2021-12-03T12:12:16.194765",
     "status": "completed"
    },
    "tags": []
   },
   "outputs": [],
   "source": [
    "#hide\n",
    "# g.rename(columns= {'date':'day'},inplace = True)"
   ]
  },
  {
   "cell_type": "code",
   "execution_count": 38,
   "id": "major-fight",
   "metadata": {
    "execution": {
     "iopub.execute_input": "2021-12-03T12:12:16.290192Z",
     "iopub.status.busy": "2021-12-03T12:12:16.289766Z",
     "iopub.status.idle": "2021-12-03T12:12:16.292475Z",
     "shell.execute_reply": "2021-12-03T12:12:16.293013Z"
    },
    "papermill": {
     "duration": 0.035884,
     "end_time": "2021-12-03T12:12:16.293137",
     "exception": false,
     "start_time": "2021-12-03T12:12:16.257253",
     "status": "completed"
    },
    "tags": []
   },
   "outputs": [],
   "source": [
    "#hide\n",
    "# g = g[cols]"
   ]
  },
  {
   "cell_type": "code",
   "execution_count": 39,
   "id": "structured-mobile",
   "metadata": {
    "execution": {
     "iopub.execute_input": "2021-12-03T12:12:16.352690Z",
     "iopub.status.busy": "2021-12-03T12:12:16.352145Z",
     "iopub.status.idle": "2021-12-03T12:12:16.354610Z",
     "shell.execute_reply": "2021-12-03T12:12:16.355022Z"
    },
    "papermill": {
     "duration": 0.033777,
     "end_time": "2021-12-03T12:12:16.355114",
     "exception": false,
     "start_time": "2021-12-03T12:12:16.321337",
     "status": "completed"
    },
    "tags": []
   },
   "outputs": [],
   "source": [
    "# #hide\n",
    "# g = g[g.group.notna()]"
   ]
  },
  {
   "cell_type": "code",
   "execution_count": 40,
   "id": "determined-closing",
   "metadata": {
    "execution": {
     "iopub.execute_input": "2021-12-03T12:12:16.414516Z",
     "iopub.status.busy": "2021-12-03T12:12:16.413913Z",
     "iopub.status.idle": "2021-12-03T12:12:16.415767Z",
     "shell.execute_reply": "2021-12-03T12:12:16.416137Z"
    },
    "papermill": {
     "duration": 0.033915,
     "end_time": "2021-12-03T12:12:16.416246",
     "exception": false,
     "start_time": "2021-12-03T12:12:16.382331",
     "status": "completed"
    },
    "tags": []
   },
   "outputs": [],
   "source": [
    "# #hide\n",
    "# colors = dict(zip(\n",
    "#     [\"Oceania\", \"Europe\", \"Asia\", \"South America\", \"Middle East\", \"North America\", \"Africa\"],\n",
    "#     [\"#adb0ff\", \"#ffb3ff\", \"#90d595\", \"#e48381\", \"#aafbff\", \"#f7bb5f\", \"#eafb50\"]\n",
    "# ))\n",
    "# group_lk = g.set_index('name')['group'].to_dict()"
   ]
  },
  {
   "cell_type": "code",
   "execution_count": null,
   "id": "gross-drinking",
   "metadata": {
    "papermill": {
     "duration": 0.027281,
     "end_time": "2021-12-03T12:12:16.470817",
     "exception": false,
     "start_time": "2021-12-03T12:12:16.443536",
     "status": "completed"
    },
    "tags": []
   },
   "outputs": [],
   "source": []
  },
  {
   "cell_type": "code",
   "execution_count": 41,
   "id": "subject-macintosh",
   "metadata": {
    "execution": {
     "iopub.execute_input": "2021-12-03T12:12:16.532817Z",
     "iopub.status.busy": "2021-12-03T12:12:16.532303Z",
     "iopub.status.idle": "2021-12-03T12:12:16.534810Z",
     "shell.execute_reply": "2021-12-03T12:12:16.535376Z"
    },
    "papermill": {
     "duration": 0.036997,
     "end_time": "2021-12-03T12:12:16.535507",
     "exception": false,
     "start_time": "2021-12-03T12:12:16.498510",
     "status": "completed"
    },
    "tags": []
   },
   "outputs": [],
   "source": [
    "# #hide\n",
    "# fig, ax = plt.subplots(figsize=(15, 8))\n",
    "\n",
    "# def draw_barchart(current_day):\n",
    "#     dff = g[g['day'].eq(current_day)].sort_values(by='value', ascending=True).tail(10)\n",
    "#     ax.clear()\n",
    "#     ax.barh(dff['name'], dff['value'], color=[colors[group_lk[x]] for x in dff['name']])\n",
    "#     dx = dff['value'].max() / 200\n",
    "    \n",
    "#     for i, (value, name) in enumerate(zip(dff['value'], dff['name'])):\n",
    "#         ax.text(value-dx, i,     name,           size=14, weight=600, ha='right', va='bottom')\n",
    "#         ax.text(value-dx, i-.25, group_lk[name], size=10, color='#444444', ha='right', va='baseline')\n",
    "#         ax.text(value+dx, i,     f'{value:,.0f}',  size=14, ha='left',  va='center')\n",
    "#     ax.text(1, 0.4, current_day, transform=ax.transAxes, color='#777777', size=46, ha='right', weight=800)\n",
    "#     ax.text(0, 1.06, 'Population (thousands)', transform=ax.transAxes, size=12, color='#777777')\n",
    "#     ax.xaxis.set_major_formatter(ticker.StrMethodFormatter('{x:,.0f}'))\n",
    "#     ax.xaxis.set_ticks_position('top')\n",
    "#     ax.tick_params(axis='x', colors='#777777', labelsize=12)\n",
    "#     ax.set_yticks([])\n",
    "#     ax.margins(0, 0.01)\n",
    "#     ax.grid(which='major', axis='x', linestyle='-')\n",
    "#     ax.set_axisbelow(True)\n",
    "    \n",
    "#     ax.text(0, 1.15, 'Coronavirus',\n",
    "#             transform=ax.transAxes, size=24, weight=600, ha='left', va='top')\n",
    "# #     ax.text(1, 0, 'by @pratapvardhan; credit @jburnmurdoch', transform=ax.transAxes, color='#777777', ha='right',\n",
    "# #             bbox=dict(facecolor='white', alpha=0.8, edgecolor='white'))\n",
    "#     plt.box(False)"
   ]
  },
  {
   "cell_type": "code",
   "execution_count": 42,
   "id": "sexual-wages",
   "metadata": {
    "execution": {
     "iopub.execute_input": "2021-12-03T12:12:16.601921Z",
     "iopub.status.busy": "2021-12-03T12:12:16.601338Z",
     "iopub.status.idle": "2021-12-03T12:12:16.603896Z",
     "shell.execute_reply": "2021-12-03T12:12:16.604371Z"
    },
    "papermill": {
     "duration": 0.036082,
     "end_time": "2021-12-03T12:12:16.604486",
     "exception": false,
     "start_time": "2021-12-03T12:12:16.568404",
     "status": "completed"
    },
    "tags": []
   },
   "outputs": [],
   "source": [
    "# #hide_input\n",
    "# fig, ax = plt.subplots(figsize=(15, 8))\n",
    "# animator = animation.FuncAnimation(fig, draw_barchart, frames=range(g.day.values.min(), g.day.values.max()))\n",
    "# HTML(animator.to_jshtml())\n",
    "# # or use animator.to_html5_video() or animator.save() "
   ]
  },
  {
   "cell_type": "code",
   "execution_count": null,
   "id": "australian-container",
   "metadata": {
    "papermill": {
     "duration": 0.027223,
     "end_time": "2021-12-03T12:12:16.658921",
     "exception": false,
     "start_time": "2021-12-03T12:12:16.631698",
     "status": "completed"
    },
    "tags": []
   },
   "outputs": [],
   "source": []
  },
  {
   "cell_type": "code",
   "execution_count": null,
   "id": "mediterranean-pontiac",
   "metadata": {
    "papermill": {
     "duration": 0.027951,
     "end_time": "2021-12-03T12:12:16.714916",
     "exception": false,
     "start_time": "2021-12-03T12:12:16.686965",
     "status": "completed"
    },
    "tags": []
   },
   "outputs": [],
   "source": []
  },
  {
   "cell_type": "code",
   "execution_count": null,
   "id": "aging-legislature",
   "metadata": {
    "papermill": {
     "duration": 0.027234,
     "end_time": "2021-12-03T12:12:16.770072",
     "exception": false,
     "start_time": "2021-12-03T12:12:16.742838",
     "status": "completed"
    },
    "tags": []
   },
   "outputs": [],
   "source": []
  }
 ],
 "metadata": {
  "kernelspec": {
   "display_name": "Python 3",
   "language": "python",
   "name": "python3"
  },
  "language_info": {
   "codemirror_mode": {
    "name": "ipython",
    "version": 3
   },
   "file_extension": ".py",
   "mimetype": "text/x-python",
   "name": "python",
   "nbconvert_exporter": "python",
   "pygments_lexer": "ipython3",
   "version": "3.6.15"
  },
  "papermill": {
   "duration": 5.730701,
   "end_time": "2021-12-03T12:12:17.107033",
   "environment_variables": {},
   "exception": null,
   "input_path": "2020-03-21-covid19exp.ipynb",
   "output_path": "2020-03-21-covid19exp.ipynb",
   "parameters": {},
   "start_time": "2021-12-03T12:12:11.376332",
   "version": "2.0.0"
  }
 },
 "nbformat": 4,
 "nbformat_minor": 5
}