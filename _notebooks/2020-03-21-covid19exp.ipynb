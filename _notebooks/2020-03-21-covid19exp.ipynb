{
 "cells": [
  {
   "cell_type": "markdown",
   "id": "muslim-click",
   "metadata": {
    "papermill": {
     "duration": 0.038588,
     "end_time": "2022-11-03T12:18:30.980244",
     "exception": false,
     "start_time": "2022-11-03T12:18:30.941656",
     "status": "completed"
    },
    "tags": []
   },
   "source": [
    "# COVID-19 Case Race\n",
    "> A race chart to see rising cases around the world\n",
    "\n",
    "- author: Hargun Oberoi\n",
    "- image: images/covid-overview.png\n",
    "- hide: false\n",
    "- badges: false"
   ]
  },
  {
   "cell_type": "code",
   "execution_count": 1,
   "id": "proof-material",
   "metadata": {
    "execution": {
     "iopub.execute_input": "2022-11-03T12:18:31.059104Z",
     "iopub.status.busy": "2022-11-03T12:18:31.058384Z",
     "iopub.status.idle": "2022-11-03T12:18:31.413654Z",
     "shell.execute_reply": "2022-11-03T12:18:31.412969Z"
    },
    "papermill": {
     "duration": 0.39922,
     "end_time": "2022-11-03T12:18:31.413829",
     "exception": false,
     "start_time": "2022-11-03T12:18:31.014609",
     "status": "completed"
    },
    "tags": []
   },
   "outputs": [],
   "source": [
    "#hide\n",
    "import numpy as np\n",
    "import pandas as pd\n",
    "from jinja2 import Template\n",
    "from IPython.display import HTML"
   ]
  },
  {
   "cell_type": "code",
   "execution_count": 2,
   "id": "developed-terminology",
   "metadata": {
    "execution": {
     "iopub.execute_input": "2022-11-03T12:18:31.488468Z",
     "iopub.status.busy": "2022-11-03T12:18:31.487738Z",
     "iopub.status.idle": "2022-11-03T12:18:31.489390Z",
     "shell.execute_reply": "2022-11-03T12:18:31.490021Z"
    },
    "papermill": {
     "duration": 0.039936,
     "end_time": "2022-11-03T12:18:31.490155",
     "exception": false,
     "start_time": "2022-11-03T12:18:31.450219",
     "status": "completed"
    },
    "tags": []
   },
   "outputs": [],
   "source": [
    "#hide\n",
    "\n",
    "# FETCH\n",
    "base_url = 'https://raw.githubusercontent.com/pratapvardhan/notebooks/master/covid19/'\n",
    "paths = {\n",
    "    'mapping': base_url + 'mapping_countries.csv',\n",
    "    'overview': base_url + 'overview.tpl'\n",
    "}"
   ]
  },
  {
   "cell_type": "code",
   "execution_count": 3,
   "id": "dynamic-saver",
   "metadata": {
    "execution": {
     "iopub.execute_input": "2022-11-03T12:18:31.567031Z",
     "iopub.status.busy": "2022-11-03T12:18:31.566252Z",
     "iopub.status.idle": "2022-11-03T12:18:31.570014Z",
     "shell.execute_reply": "2022-11-03T12:18:31.570645Z"
    },
    "papermill": {
     "duration": 0.047765,
     "end_time": "2022-11-03T12:18:31.570773",
     "exception": false,
     "start_time": "2022-11-03T12:18:31.523008",
     "status": "completed"
    },
    "tags": []
   },
   "outputs": [
    {
     "data": {
      "text/plain": [
       "'https://raw.githubusercontent.com/pratapvardhan/notebooks/master/covid19/mapping_countries.csv'"
      ]
     },
     "execution_count": 3,
     "metadata": {},
     "output_type": "execute_result"
    }
   ],
   "source": [
    "#hide\n",
    "paths['mapping']"
   ]
  },
  {
   "cell_type": "code",
   "execution_count": 4,
   "id": "urban-software",
   "metadata": {
    "execution": {
     "iopub.execute_input": "2022-11-03T12:18:31.639614Z",
     "iopub.status.busy": "2022-11-03T12:18:31.638257Z",
     "iopub.status.idle": "2022-11-03T12:18:31.644579Z",
     "shell.execute_reply": "2022-11-03T12:18:31.644043Z"
    },
    "papermill": {
     "duration": 0.040848,
     "end_time": "2022-11-03T12:18:31.644689",
     "exception": false,
     "start_time": "2022-11-03T12:18:31.603841",
     "status": "completed"
    },
    "tags": []
   },
   "outputs": [],
   "source": [
    "#hide\n",
    "def get_mappings(url):\n",
    "    df = pd.read_csv(url)\n",
    "    return {\n",
    "        'df': df,\n",
    "        'replace.country': dict(df.dropna(subset=['Name']).set_index('Country')['Name']),\n",
    "        'map.continent': dict(df.set_index('Name')['Continent'])\n",
    "    }"
   ]
  },
  {
   "cell_type": "code",
   "execution_count": 5,
   "id": "intimate-machinery",
   "metadata": {
    "execution": {
     "iopub.execute_input": "2022-11-03T12:18:31.715373Z",
     "iopub.status.busy": "2022-11-03T12:18:31.714678Z",
     "iopub.status.idle": "2022-11-03T12:18:31.767159Z",
     "shell.execute_reply": "2022-11-03T12:18:31.767685Z"
    },
    "papermill": {
     "duration": 0.089391,
     "end_time": "2022-11-03T12:18:31.767814",
     "exception": false,
     "start_time": "2022-11-03T12:18:31.678423",
     "status": "completed"
    },
    "tags": []
   },
   "outputs": [],
   "source": [
    "#hide\n",
    "mapping = get_mappings(paths['mapping'])"
   ]
  },
  {
   "cell_type": "code",
   "execution_count": 6,
   "id": "certified-tactics",
   "metadata": {
    "execution": {
     "iopub.execute_input": "2022-11-03T12:18:31.839134Z",
     "iopub.status.busy": "2022-11-03T12:18:31.838446Z",
     "iopub.status.idle": "2022-11-03T12:18:31.841810Z",
     "shell.execute_reply": "2022-11-03T12:18:31.842358Z"
    },
    "papermill": {
     "duration": 0.040941,
     "end_time": "2022-11-03T12:18:31.842481",
     "exception": false,
     "start_time": "2022-11-03T12:18:31.801540",
     "status": "completed"
    },
    "tags": []
   },
   "outputs": [],
   "source": [
    "#hide\n",
    "def get_template(path):\n",
    "    from urllib.parse import urlparse\n",
    "    if bool(urlparse(path).netloc):\n",
    "        from urllib.request import urlopen\n",
    "        return urlopen(path).read().decode('utf8')\n",
    "    return open(path).read()"
   ]
  },
  {
   "cell_type": "code",
   "execution_count": 7,
   "id": "realistic-blast",
   "metadata": {
    "execution": {
     "iopub.execute_input": "2022-11-03T12:18:31.914768Z",
     "iopub.status.busy": "2022-11-03T12:18:31.914112Z",
     "iopub.status.idle": "2022-11-03T12:18:31.916394Z",
     "shell.execute_reply": "2022-11-03T12:18:31.917027Z"
    },
    "papermill": {
     "duration": 0.041492,
     "end_time": "2022-11-03T12:18:31.917152",
     "exception": false,
     "start_time": "2022-11-03T12:18:31.875660",
     "status": "completed"
    },
    "tags": []
   },
   "outputs": [],
   "source": [
    "#hide\n",
    "def get_frame(name):\n",
    "    url = (\n",
    "        'https://raw.githubusercontent.com/CSSEGISandData/COVID-19/master/csse_covid_19_data/'\n",
    "        f'csse_covid_19_time_series/time_series_covid19_{name}_global.csv')\n",
    "    df = pd.read_csv(url)\n",
    "    # rename countries\n",
    "    df['Country/Region'] = df['Country/Region'].replace(mapping['replace.country'])\n",
    "    return df"
   ]
  },
  {
   "cell_type": "code",
   "execution_count": 8,
   "id": "affiliated-characterization",
   "metadata": {
    "execution": {
     "iopub.execute_input": "2022-11-03T12:18:31.987245Z",
     "iopub.status.busy": "2022-11-03T12:18:31.986535Z",
     "iopub.status.idle": "2022-11-03T12:18:31.992000Z",
     "shell.execute_reply": "2022-11-03T12:18:31.992635Z"
    },
    "papermill": {
     "duration": 0.041819,
     "end_time": "2022-11-03T12:18:31.992761",
     "exception": false,
     "start_time": "2022-11-03T12:18:31.950942",
     "status": "completed"
    },
    "tags": []
   },
   "outputs": [],
   "source": [
    "#hide\n",
    "def get_dates(df):\n",
    "    dt_cols = df.columns[~df.columns.isin(['Province/State', 'Country/Region', 'Lat', 'Long'])]\n",
    "    LAST_DATE_I = -1\n",
    "    # sometimes last column may be empty, then go backwards\n",
    "    for i in range(-1, -len(dt_cols), -1):\n",
    "        if not df[dt_cols[i]].fillna(0).eq(0).all():\n",
    "            LAST_DATE_I = i\n",
    "            break\n",
    "    return LAST_DATE_I, dt_cols"
   ]
  },
  {
   "cell_type": "code",
   "execution_count": 9,
   "id": "recent-optimization",
   "metadata": {
    "execution": {
     "iopub.execute_input": "2022-11-03T12:18:32.063733Z",
     "iopub.status.busy": "2022-11-03T12:18:32.062979Z",
     "iopub.status.idle": "2022-11-03T12:18:32.638339Z",
     "shell.execute_reply": "2022-11-03T12:18:32.637149Z"
    },
    "papermill": {
     "duration": 0.61266,
     "end_time": "2022-11-03T12:18:32.638476",
     "exception": false,
     "start_time": "2022-11-03T12:18:32.025816",
     "status": "completed"
    },
    "tags": []
   },
   "outputs": [],
   "source": [
    "#hide\n",
    "COL_REGION = 'Country/Region'\n",
    "# Confirmed, Recovered, Deaths\n",
    "df = get_frame('confirmed')\n",
    "# dft_: timeseries, dfc_: today country agg\n",
    "dft_cases = df\n",
    "dft_deaths = get_frame('deaths')\n",
    "dft_recovered = get_frame('recovered')\n",
    "LAST_DATE_I, dt_cols = get_dates(df)"
   ]
  },
  {
   "cell_type": "code",
   "execution_count": 10,
   "id": "absolute-copper",
   "metadata": {
    "execution": {
     "iopub.execute_input": "2022-11-03T12:18:32.711827Z",
     "iopub.status.busy": "2022-11-03T12:18:32.710242Z",
     "iopub.status.idle": "2022-11-03T12:18:32.712566Z",
     "shell.execute_reply": "2022-11-03T12:18:32.713081Z"
    },
    "papermill": {
     "duration": 0.040941,
     "end_time": "2022-11-03T12:18:32.713205",
     "exception": false,
     "start_time": "2022-11-03T12:18:32.672264",
     "status": "completed"
    },
    "tags": []
   },
   "outputs": [],
   "source": [
    "#hide\n",
    "LAST_DATE_I, dt_cols = get_dates(df)\n",
    "dt_today =dt_cols[LAST_DATE_I]\n",
    "# dt_5day = dt_cols[LAST_DATE_I - 5]\n",
    "dt_yday = dt_cols[LAST_DATE_I - 1]"
   ]
  },
  {
   "cell_type": "code",
   "execution_count": 11,
   "id": "restricted-sheriff",
   "metadata": {
    "execution": {
     "iopub.execute_input": "2022-11-03T12:18:32.787614Z",
     "iopub.status.busy": "2022-11-03T12:18:32.786847Z",
     "iopub.status.idle": "2022-11-03T12:18:32.794536Z",
     "shell.execute_reply": "2022-11-03T12:18:32.794003Z"
    },
    "papermill": {
     "duration": 0.047979,
     "end_time": "2022-11-03T12:18:32.794647",
     "exception": false,
     "start_time": "2022-11-03T12:18:32.746668",
     "status": "completed"
    },
    "tags": []
   },
   "outputs": [],
   "source": [
    "#hide\n",
    "dfc_cases = dft_cases.groupby(COL_REGION)[dt_today].sum()\n",
    "dfc_deaths = dft_deaths.groupby(COL_REGION)[dt_today].sum()\n",
    "# dfp_cases = dft_cases.groupby(COL_REGION)[dt_5day].sum()\n",
    "# dfp_deaths = dft_deaths.groupby(COL_REGION)[dt_5day].sum()\n",
    "dfp_cases = dft_cases.groupby(COL_REGION)[dt_yday].sum()\n",
    "dfp_deaths = dft_deaths.groupby(COL_REGION)[dt_yday].sum()"
   ]
  },
  {
   "cell_type": "code",
   "execution_count": 12,
   "id": "deluxe-hepatitis",
   "metadata": {
    "execution": {
     "iopub.execute_input": "2022-11-03T12:18:32.866952Z",
     "iopub.status.busy": "2022-11-03T12:18:32.866274Z",
     "iopub.status.idle": "2022-11-03T12:18:32.872091Z",
     "shell.execute_reply": "2022-11-03T12:18:32.871556Z"
    },
    "papermill": {
     "duration": 0.044153,
     "end_time": "2022-11-03T12:18:32.872203",
     "exception": false,
     "start_time": "2022-11-03T12:18:32.828050",
     "status": "completed"
    },
    "tags": []
   },
   "outputs": [],
   "source": [
    "#hide\n",
    "df_table = (pd.DataFrame(dict(Cases = dfc_cases, Deaths = dfc_deaths, PCases = dfp_cases, PDeaths = dfp_deaths))\n",
    "            .sort_values(by = ['Cases','Deaths'], ascending = [False, False])\n",
    "            .reset_index())"
   ]
  },
  {
   "cell_type": "code",
   "execution_count": 13,
   "id": "educational-chancellor",
   "metadata": {
    "execution": {
     "iopub.execute_input": "2022-11-03T12:18:32.960070Z",
     "iopub.status.busy": "2022-11-03T12:18:32.959413Z",
     "iopub.status.idle": "2022-11-03T12:18:32.968167Z",
     "shell.execute_reply": "2022-11-03T12:18:32.968656Z"
    },
    "papermill": {
     "duration": 0.061689,
     "end_time": "2022-11-03T12:18:32.968785",
     "exception": false,
     "start_time": "2022-11-03T12:18:32.907096",
     "status": "completed"
    },
    "tags": []
   },
   "outputs": [
    {
     "data": {
      "text/html": [
       "<div>\n",
       "<style scoped>\n",
       "    .dataframe tbody tr th:only-of-type {\n",
       "        vertical-align: middle;\n",
       "    }\n",
       "\n",
       "    .dataframe tbody tr th {\n",
       "        vertical-align: top;\n",
       "    }\n",
       "\n",
       "    .dataframe thead th {\n",
       "        text-align: right;\n",
       "    }\n",
       "</style>\n",
       "<table border=\"1\" class=\"dataframe\">\n",
       "  <thead>\n",
       "    <tr style=\"text-align: right;\">\n",
       "      <th></th>\n",
       "      <th>Country/Region</th>\n",
       "      <th>Cases</th>\n",
       "      <th>Deaths</th>\n",
       "      <th>PCases</th>\n",
       "      <th>PDeaths</th>\n",
       "      <th>Cases (+)</th>\n",
       "      <th>Deaths (+)</th>\n",
       "      <th>Fatality Rate</th>\n",
       "      <th>Continent</th>\n",
       "    </tr>\n",
       "  </thead>\n",
       "  <tbody>\n",
       "    <tr>\n",
       "      <th>0</th>\n",
       "      <td>US</td>\n",
       "      <td>97611400</td>\n",
       "      <td>1071578</td>\n",
       "      <td>97538564</td>\n",
       "      <td>1070836</td>\n",
       "      <td>72836</td>\n",
       "      <td>742</td>\n",
       "      <td>1.10</td>\n",
       "      <td>North America</td>\n",
       "    </tr>\n",
       "    <tr>\n",
       "      <th>1</th>\n",
       "      <td>India</td>\n",
       "      <td>44655926</td>\n",
       "      <td>530461</td>\n",
       "      <td>44655828</td>\n",
       "      <td>530452</td>\n",
       "      <td>98</td>\n",
       "      <td>9</td>\n",
       "      <td>1.19</td>\n",
       "      <td>Asia</td>\n",
       "    </tr>\n",
       "    <tr>\n",
       "      <th>2</th>\n",
       "      <td>France</td>\n",
       "      <td>37068741</td>\n",
       "      <td>158184</td>\n",
       "      <td>37033582</td>\n",
       "      <td>158034</td>\n",
       "      <td>35159</td>\n",
       "      <td>150</td>\n",
       "      <td>0.43</td>\n",
       "      <td>Europe</td>\n",
       "    </tr>\n",
       "    <tr>\n",
       "      <th>3</th>\n",
       "      <td>Germany</td>\n",
       "      <td>35728277</td>\n",
       "      <td>154095</td>\n",
       "      <td>35649648</td>\n",
       "      <td>153814</td>\n",
       "      <td>78629</td>\n",
       "      <td>281</td>\n",
       "      <td>0.43</td>\n",
       "      <td>Europe</td>\n",
       "    </tr>\n",
       "    <tr>\n",
       "      <th>4</th>\n",
       "      <td>Brazil</td>\n",
       "      <td>34837035</td>\n",
       "      <td>688219</td>\n",
       "      <td>34837035</td>\n",
       "      <td>688219</td>\n",
       "      <td>0</td>\n",
       "      <td>0</td>\n",
       "      <td>1.98</td>\n",
       "      <td>South America</td>\n",
       "    </tr>\n",
       "  </tbody>\n",
       "</table>\n",
       "</div>"
      ],
      "text/plain": [
       "  Country/Region     Cases   Deaths    PCases  PDeaths  Cases (+)  Deaths (+)  \\\n",
       "0             US  97611400  1071578  97538564  1070836      72836         742   \n",
       "1          India  44655926   530461  44655828   530452         98           9   \n",
       "2         France  37068741   158184  37033582   158034      35159         150   \n",
       "3        Germany  35728277   154095  35649648   153814      78629         281   \n",
       "4         Brazil  34837035   688219  34837035   688219          0           0   \n",
       "\n",
       "   Fatality Rate      Continent  \n",
       "0           1.10  North America  \n",
       "1           1.19           Asia  \n",
       "2           0.43         Europe  \n",
       "3           0.43         Europe  \n",
       "4           1.98  South America  "
      ]
     },
     "execution_count": 13,
     "metadata": {},
     "output_type": "execute_result"
    }
   ],
   "source": [
    "#hide\n",
    "for c in 'Cases, Deaths'.split(', '):\n",
    "    df_table[f'{c} (+)'] = (df_table[c] - df_table[f'P{c}']).clip(0)\n",
    "    #Clip ça veut dire, les chiffres negatif sont interdit\n",
    "df_table['Fatality Rate'] = (100* df_table['Deaths']/ df_table['Cases']).round(2)\n",
    "df_table['Continent'] = df_table['Country/Region'].map(mapping['map.continent'])\n",
    "df_table.head(5)"
   ]
  },
  {
   "cell_type": "code",
   "execution_count": 14,
   "id": "aboriginal-bulgaria",
   "metadata": {
    "execution": {
     "iopub.execute_input": "2022-11-03T12:18:33.040393Z",
     "iopub.status.busy": "2022-11-03T12:18:33.039742Z",
     "iopub.status.idle": "2022-11-03T12:18:33.045827Z",
     "shell.execute_reply": "2022-11-03T12:18:33.045293Z"
    },
    "papermill": {
     "duration": 0.042217,
     "end_time": "2022-11-03T12:18:33.045939",
     "exception": false,
     "start_time": "2022-11-03T12:18:33.003722",
     "status": "completed"
    },
    "tags": []
   },
   "outputs": [],
   "source": [
    "#hide\n",
    "#delete problematic countries from table\n",
    "df_table = df_table[~df_table['Country/Region'].isin(['Cape Verde', 'Cruise Ship', 'Kosovo'])]"
   ]
  },
  {
   "cell_type": "code",
   "execution_count": 15,
   "id": "fantastic-effect",
   "metadata": {
    "execution": {
     "iopub.execute_input": "2022-11-03T12:18:33.124058Z",
     "iopub.status.busy": "2022-11-03T12:18:33.123398Z",
     "iopub.status.idle": "2022-11-03T12:18:33.144310Z",
     "shell.execute_reply": "2022-11-03T12:18:33.144944Z"
    },
    "papermill": {
     "duration": 0.062383,
     "end_time": "2022-11-03T12:18:33.145070",
     "exception": false,
     "start_time": "2022-11-03T12:18:33.082687",
     "status": "completed"
    },
    "tags": []
   },
   "outputs": [
    {
     "data": {
      "text/html": [
       "<div>\n",
       "<style scoped>\n",
       "    .dataframe tbody tr th:only-of-type {\n",
       "        vertical-align: middle;\n",
       "    }\n",
       "\n",
       "    .dataframe tbody tr th {\n",
       "        vertical-align: top;\n",
       "    }\n",
       "\n",
       "    .dataframe thead th {\n",
       "        text-align: right;\n",
       "    }\n",
       "</style>\n",
       "<table border=\"1\" class=\"dataframe\">\n",
       "  <thead>\n",
       "    <tr style=\"text-align: right;\">\n",
       "      <th></th>\n",
       "      <th>Country/Region</th>\n",
       "      <th>Cases</th>\n",
       "      <th>Deaths</th>\n",
       "      <th>PCases</th>\n",
       "      <th>PDeaths</th>\n",
       "      <th>Cases (+)</th>\n",
       "      <th>Deaths (+)</th>\n",
       "      <th>Fatality Rate</th>\n",
       "      <th>Continent</th>\n",
       "    </tr>\n",
       "  </thead>\n",
       "  <tbody>\n",
       "    <tr>\n",
       "      <th>0</th>\n",
       "      <td>US</td>\n",
       "      <td>97611400</td>\n",
       "      <td>1071578</td>\n",
       "      <td>97538564</td>\n",
       "      <td>1070836</td>\n",
       "      <td>72836</td>\n",
       "      <td>742</td>\n",
       "      <td>1.1</td>\n",
       "      <td>North America</td>\n",
       "    </tr>\n",
       "    <tr>\n",
       "      <th>1</th>\n",
       "      <td>India</td>\n",
       "      <td>44655926</td>\n",
       "      <td>530461</td>\n",
       "      <td>44655828</td>\n",
       "      <td>530452</td>\n",
       "      <td>98</td>\n",
       "      <td>9</td>\n",
       "      <td>1.2</td>\n",
       "      <td>Asia</td>\n",
       "    </tr>\n",
       "    <tr>\n",
       "      <th>2</th>\n",
       "      <td>France</td>\n",
       "      <td>37068741</td>\n",
       "      <td>158184</td>\n",
       "      <td>37033582</td>\n",
       "      <td>158034</td>\n",
       "      <td>35159</td>\n",
       "      <td>150</td>\n",
       "      <td>0.4</td>\n",
       "      <td>Europe</td>\n",
       "    </tr>\n",
       "    <tr>\n",
       "      <th>3</th>\n",
       "      <td>Germany</td>\n",
       "      <td>35728277</td>\n",
       "      <td>154095</td>\n",
       "      <td>35649648</td>\n",
       "      <td>153814</td>\n",
       "      <td>78629</td>\n",
       "      <td>281</td>\n",
       "      <td>0.4</td>\n",
       "      <td>Europe</td>\n",
       "    </tr>\n",
       "    <tr>\n",
       "      <th>4</th>\n",
       "      <td>Brazil</td>\n",
       "      <td>34837035</td>\n",
       "      <td>688219</td>\n",
       "      <td>34837035</td>\n",
       "      <td>688219</td>\n",
       "      <td>0</td>\n",
       "      <td>0</td>\n",
       "      <td>2.0</td>\n",
       "      <td>South America</td>\n",
       "    </tr>\n",
       "  </tbody>\n",
       "</table>\n",
       "</div>"
      ],
      "text/plain": [
       "  Country/Region     Cases   Deaths    PCases  PDeaths  Cases (+)  Deaths (+)  \\\n",
       "0             US  97611400  1071578  97538564  1070836      72836         742   \n",
       "1          India  44655926   530461  44655828   530452         98           9   \n",
       "2         France  37068741   158184  37033582   158034      35159         150   \n",
       "3        Germany  35728277   154095  35649648   153814      78629         281   \n",
       "4         Brazil  34837035   688219  34837035   688219          0           0   \n",
       "\n",
       "   Fatality Rate      Continent  \n",
       "0            1.1  North America  \n",
       "1            1.2           Asia  \n",
       "2            0.4         Europe  \n",
       "3            0.4         Europe  \n",
       "4            2.0  South America  "
      ]
     },
     "execution_count": 15,
     "metadata": {},
     "output_type": "execute_result"
    }
   ],
   "source": [
    "#hide\n",
    "df_table = (pd.DataFrame(dict(Cases=dfc_cases, Deaths=dfc_deaths, PCases=dfp_cases, PDeaths=dfp_deaths))\n",
    "             .sort_values(by=['Cases', 'Deaths'], ascending=[False, False])\n",
    "             .reset_index())\n",
    "df_table.rename(columns={'index': 'Country/Region'}, inplace=True)\n",
    "for c in 'Cases, Deaths'.split(', '):\n",
    "    df_table[f'{c} (+)'] = (df_table[c] - df_table[f'P{c}']).clip(0)  # DATA BUG\n",
    "df_table['Fatality Rate'] = (100 * df_table['Deaths'] / df_table['Cases']).round(1)\n",
    "df_table['Continent'] = df_table['Country/Region'].map(mapping['map.continent'])\n",
    "df_table.head(5)"
   ]
  },
  {
   "cell_type": "code",
   "execution_count": 16,
   "id": "fewer-occasion",
   "metadata": {
    "execution": {
     "iopub.execute_input": "2022-11-03T12:18:33.220695Z",
     "iopub.status.busy": "2022-11-03T12:18:33.220037Z",
     "iopub.status.idle": "2022-11-03T12:18:33.223095Z",
     "shell.execute_reply": "2022-11-03T12:18:33.222377Z"
    },
    "papermill": {
     "duration": 0.042871,
     "end_time": "2022-11-03T12:18:33.223228",
     "exception": false,
     "start_time": "2022-11-03T12:18:33.180357",
     "status": "completed"
    },
    "tags": []
   },
   "outputs": [],
   "source": [
    "#hide\n",
    "#delete problematic countries from table\n",
    "df_table = df_table[~df_table['Country/Region'].isin(['Cape Verde', 'Cruise Ship', 'Kosovo'])]"
   ]
  },
  {
   "cell_type": "code",
   "execution_count": 17,
   "id": "related-center",
   "metadata": {
    "execution": {
     "iopub.execute_input": "2022-11-03T12:18:33.297806Z",
     "iopub.status.busy": "2022-11-03T12:18:33.297113Z",
     "iopub.status.idle": "2022-11-03T12:18:33.316862Z",
     "shell.execute_reply": "2022-11-03T12:18:33.317507Z"
    },
    "papermill": {
     "duration": 0.058198,
     "end_time": "2022-11-03T12:18:33.317637",
     "exception": false,
     "start_time": "2022-11-03T12:18:33.259439",
     "status": "completed"
    },
    "tags": []
   },
   "outputs": [],
   "source": [
    "#hide\n",
    "metrics = [df_table.columns[index] for index in [1,2,5,6]]\n",
    "# s_china = df_table[df_table['Country/Region'].eq('China')][metrics].sum().add_prefix('China ')\n",
    "s_us = df_table[df_table['Country/Region'].eq('US')][metrics].sum().add_prefix('US ')\n",
    "s_eu = df_table[df_table['Continent'].eq('Europe')][metrics].sum().add_prefix('EU ')\n",
    "s_ind = df_table[df_table['Country/Region'].eq('India')][metrics].sum().add_prefix('India ')\n",
    "summary = {'updated': pd.to_datetime(dt_today), 'since': pd.to_datetime(dt_yday)}\n",
    "summary = {'updated': pd.to_datetime(dt_today), 'since': pd.to_datetime(dt_yday)}\n",
    "summary = {**summary, **df_table[metrics].sum(), **s_ind, **s_us, **s_eu}"
   ]
  },
  {
   "cell_type": "code",
   "execution_count": 18,
   "id": "engaging-syndrome",
   "metadata": {
    "execution": {
     "iopub.execute_input": "2022-11-03T12:18:33.391114Z",
     "iopub.status.busy": "2022-11-03T12:18:33.390417Z",
     "iopub.status.idle": "2022-11-03T12:18:33.410835Z",
     "shell.execute_reply": "2022-11-03T12:18:33.410292Z"
    },
    "papermill": {
     "duration": 0.059213,
     "end_time": "2022-11-03T12:18:33.410959",
     "exception": false,
     "start_time": "2022-11-03T12:18:33.351746",
     "status": "completed"
    },
    "tags": []
   },
   "outputs": [],
   "source": [
    "#hide\n",
    "dft_ct_new_cases = dft_cases.groupby(COL_REGION)[dt_cols].sum().diff(axis=1).fillna(0).astype(int)"
   ]
  },
  {
   "cell_type": "code",
   "execution_count": 19,
   "id": "neutral-assignment",
   "metadata": {
    "execution": {
     "iopub.execute_input": "2022-11-03T12:18:33.487983Z",
     "iopub.status.busy": "2022-11-03T12:18:33.487276Z",
     "iopub.status.idle": "2022-11-03T12:18:33.490475Z",
     "shell.execute_reply": "2022-11-03T12:18:33.489938Z"
    },
    "papermill": {
     "duration": 0.044052,
     "end_time": "2022-11-03T12:18:33.490591",
     "exception": false,
     "start_time": "2022-11-03T12:18:33.446539",
     "status": "completed"
    },
    "tags": []
   },
   "outputs": [],
   "source": [
    "#hide\n",
    "everydaycases = dft_ct_new_cases.cumsum(axis=1)"
   ]
  },
  {
   "cell_type": "code",
   "execution_count": 20,
   "id": "parliamentary-calgary",
   "metadata": {
    "execution": {
     "iopub.execute_input": "2022-11-03T12:18:33.563765Z",
     "iopub.status.busy": "2022-11-03T12:18:33.563098Z",
     "iopub.status.idle": "2022-11-03T12:18:34.154999Z",
     "shell.execute_reply": "2022-11-03T12:18:34.154380Z"
    },
    "papermill": {
     "duration": 0.630508,
     "end_time": "2022-11-03T12:18:34.155166",
     "exception": false,
     "start_time": "2022-11-03T12:18:33.524658",
     "status": "completed"
    },
    "tags": []
   },
   "outputs": [],
   "source": [
    "#hide\n",
    "import pandas as pd\n",
    "import matplotlib.pyplot as plt\n",
    "import matplotlib.ticker as ticker\n",
    "import matplotlib.animation as animation\n",
    "from IPython.display import HTML"
   ]
  },
  {
   "cell_type": "code",
   "execution_count": 21,
   "id": "lasting-extraction",
   "metadata": {
    "execution": {
     "iopub.execute_input": "2022-11-03T12:18:34.230748Z",
     "iopub.status.busy": "2022-11-03T12:18:34.230094Z",
     "iopub.status.idle": "2022-11-03T12:18:34.238233Z",
     "shell.execute_reply": "2022-11-03T12:18:34.237694Z"
    },
    "papermill": {
     "duration": 0.047812,
     "end_time": "2022-11-03T12:18:34.238347",
     "exception": false,
     "start_time": "2022-11-03T12:18:34.190535",
     "status": "completed"
    },
    "tags": []
   },
   "outputs": [],
   "source": [
    "#hide\n",
    "t = everydaycases.stack()"
   ]
  },
  {
   "cell_type": "code",
   "execution_count": 22,
   "id": "premier-sleeve",
   "metadata": {
    "execution": {
     "iopub.execute_input": "2022-11-03T12:18:34.311257Z",
     "iopub.status.busy": "2022-11-03T12:18:34.310566Z",
     "iopub.status.idle": "2022-11-03T12:18:34.325444Z",
     "shell.execute_reply": "2022-11-03T12:18:34.324902Z"
    },
    "papermill": {
     "duration": 0.052203,
     "end_time": "2022-11-03T12:18:34.325563",
     "exception": false,
     "start_time": "2022-11-03T12:18:34.273360",
     "status": "completed"
    },
    "tags": []
   },
   "outputs": [],
   "source": [
    "#hide\n",
    "g = t.reset_index(['Country/Region'])"
   ]
  },
  {
   "cell_type": "code",
   "execution_count": 23,
   "id": "distributed-pittsburgh",
   "metadata": {
    "execution": {
     "iopub.execute_input": "2022-11-03T12:18:34.398583Z",
     "iopub.status.busy": "2022-11-03T12:18:34.397919Z",
     "iopub.status.idle": "2022-11-03T12:18:34.400928Z",
     "shell.execute_reply": "2022-11-03T12:18:34.400401Z"
    },
    "papermill": {
     "duration": 0.041427,
     "end_time": "2022-11-03T12:18:34.401040",
     "exception": false,
     "start_time": "2022-11-03T12:18:34.359613",
     "status": "completed"
    },
    "tags": []
   },
   "outputs": [],
   "source": [
    "#hide\n",
    "g.index.name = 'date'"
   ]
  },
  {
   "cell_type": "code",
   "execution_count": 24,
   "id": "naked-donor",
   "metadata": {
    "execution": {
     "iopub.execute_input": "2022-11-03T12:18:34.474604Z",
     "iopub.status.busy": "2022-11-03T12:18:34.473783Z",
     "iopub.status.idle": "2022-11-03T12:18:34.476856Z",
     "shell.execute_reply": "2022-11-03T12:18:34.476310Z"
    },
    "papermill": {
     "duration": 0.040669,
     "end_time": "2022-11-03T12:18:34.476969",
     "exception": false,
     "start_time": "2022-11-03T12:18:34.436300",
     "status": "completed"
    },
    "tags": []
   },
   "outputs": [],
   "source": [
    "# #hide\n",
    "# g = g.reset_index(['date'])"
   ]
  },
  {
   "cell_type": "code",
   "execution_count": 25,
   "id": "incomplete-mustang",
   "metadata": {
    "execution": {
     "iopub.execute_input": "2022-11-03T12:18:34.549686Z",
     "iopub.status.busy": "2022-11-03T12:18:34.549031Z",
     "iopub.status.idle": "2022-11-03T12:18:34.551990Z",
     "shell.execute_reply": "2022-11-03T12:18:34.551487Z"
    },
    "papermill": {
     "duration": 0.040486,
     "end_time": "2022-11-03T12:18:34.552100",
     "exception": false,
     "start_time": "2022-11-03T12:18:34.511614",
     "status": "completed"
    },
    "tags": []
   },
   "outputs": [],
   "source": [
    "#hide\n",
    "# g.head()"
   ]
  },
  {
   "cell_type": "code",
   "execution_count": 26,
   "id": "specific-kruger",
   "metadata": {
    "execution": {
     "iopub.execute_input": "2022-11-03T12:18:34.626948Z",
     "iopub.status.busy": "2022-11-03T12:18:34.626210Z",
     "iopub.status.idle": "2022-11-03T12:18:34.629348Z",
     "shell.execute_reply": "2022-11-03T12:18:34.628808Z"
    },
    "papermill": {
     "duration": 0.042019,
     "end_time": "2022-11-03T12:18:34.629463",
     "exception": false,
     "start_time": "2022-11-03T12:18:34.587444",
     "status": "completed"
    },
    "tags": []
   },
   "outputs": [],
   "source": [
    "#hide\n",
    "# g.columns = ['date','country','cases']"
   ]
  },
  {
   "cell_type": "code",
   "execution_count": 27,
   "id": "tender-conversion",
   "metadata": {
    "execution": {
     "iopub.execute_input": "2022-11-03T12:18:34.705098Z",
     "iopub.status.busy": "2022-11-03T12:18:34.704453Z",
     "iopub.status.idle": "2022-11-03T12:18:34.708995Z",
     "shell.execute_reply": "2022-11-03T12:18:34.708458Z"
    },
    "papermill": {
     "duration": 0.043478,
     "end_time": "2022-11-03T12:18:34.709109",
     "exception": false,
     "start_time": "2022-11-03T12:18:34.665631",
     "status": "completed"
    },
    "tags": []
   },
   "outputs": [],
   "source": [
    "#hide\n",
    "# g['continent'] = g.country"
   ]
  },
  {
   "cell_type": "code",
   "execution_count": 28,
   "id": "substantial-wilderness",
   "metadata": {
    "execution": {
     "iopub.execute_input": "2022-11-03T12:18:34.781742Z",
     "iopub.status.busy": "2022-11-03T12:18:34.781093Z",
     "iopub.status.idle": "2022-11-03T12:18:34.784167Z",
     "shell.execute_reply": "2022-11-03T12:18:34.784646Z"
    },
    "papermill": {
     "duration": 0.040812,
     "end_time": "2022-11-03T12:18:34.784778",
     "exception": false,
     "start_time": "2022-11-03T12:18:34.743966",
     "status": "completed"
    },
    "tags": []
   },
   "outputs": [],
   "source": [
    "#hide\n",
    "# cols = list(g.columns.values)"
   ]
  },
  {
   "cell_type": "code",
   "execution_count": 29,
   "id": "solved-farming",
   "metadata": {
    "execution": {
     "iopub.execute_input": "2022-11-03T12:18:34.855623Z",
     "iopub.status.busy": "2022-11-03T12:18:34.854929Z",
     "iopub.status.idle": "2022-11-03T12:18:34.857956Z",
     "shell.execute_reply": "2022-11-03T12:18:34.857270Z"
    },
    "papermill": {
     "duration": 0.03969,
     "end_time": "2022-11-03T12:18:34.858075",
     "exception": false,
     "start_time": "2022-11-03T12:18:34.818385",
     "status": "completed"
    },
    "tags": []
   },
   "outputs": [],
   "source": [
    "#hide\n",
    "# cols.insert(0, cols.pop())"
   ]
  },
  {
   "cell_type": "code",
   "execution_count": 30,
   "id": "executed-adoption",
   "metadata": {
    "execution": {
     "iopub.execute_input": "2022-11-03T12:18:34.930944Z",
     "iopub.status.busy": "2022-11-03T12:18:34.930293Z",
     "iopub.status.idle": "2022-11-03T12:18:34.933396Z",
     "shell.execute_reply": "2022-11-03T12:18:34.932864Z"
    },
    "papermill": {
     "duration": 0.041285,
     "end_time": "2022-11-03T12:18:34.933506",
     "exception": false,
     "start_time": "2022-11-03T12:18:34.892221",
     "status": "completed"
    },
    "tags": []
   },
   "outputs": [],
   "source": [
    "#hide\n",
    "# g = g[cols]"
   ]
  },
  {
   "cell_type": "code",
   "execution_count": 31,
   "id": "subject-dublin",
   "metadata": {
    "execution": {
     "iopub.execute_input": "2022-11-03T12:18:35.005997Z",
     "iopub.status.busy": "2022-11-03T12:18:35.005333Z",
     "iopub.status.idle": "2022-11-03T12:18:35.008468Z",
     "shell.execute_reply": "2022-11-03T12:18:35.007724Z"
    },
    "papermill": {
     "duration": 0.0411,
     "end_time": "2022-11-03T12:18:35.008599",
     "exception": false,
     "start_time": "2022-11-03T12:18:34.967499",
     "status": "completed"
    },
    "tags": []
   },
   "outputs": [],
   "source": [
    "#hide\n",
    "# g['continent'] = g['continent'].map(mapping['map.continent'])"
   ]
  },
  {
   "cell_type": "code",
   "execution_count": 32,
   "id": "freelance-scout",
   "metadata": {
    "execution": {
     "iopub.execute_input": "2022-11-03T12:18:35.082577Z",
     "iopub.status.busy": "2022-11-03T12:18:35.081907Z",
     "iopub.status.idle": "2022-11-03T12:18:35.086442Z",
     "shell.execute_reply": "2022-11-03T12:18:35.085906Z"
    },
    "papermill": {
     "duration": 0.041775,
     "end_time": "2022-11-03T12:18:35.086556",
     "exception": false,
     "start_time": "2022-11-03T12:18:35.044781",
     "status": "completed"
    },
    "tags": []
   },
   "outputs": [],
   "source": [
    "#hide\n",
    "# g.head()"
   ]
  },
  {
   "cell_type": "code",
   "execution_count": 33,
   "id": "limited-engine",
   "metadata": {
    "execution": {
     "iopub.execute_input": "2022-11-03T12:18:35.159562Z",
     "iopub.status.busy": "2022-11-03T12:18:35.158819Z",
     "iopub.status.idle": "2022-11-03T12:18:35.162258Z",
     "shell.execute_reply": "2022-11-03T12:18:35.162750Z"
    },
    "papermill": {
     "duration": 0.041215,
     "end_time": "2022-11-03T12:18:35.162882",
     "exception": false,
     "start_time": "2022-11-03T12:18:35.121667",
     "status": "completed"
    },
    "tags": []
   },
   "outputs": [],
   "source": [
    "# hide\n",
    "# g['date'] = g['date'].astype('datetime64[ns]')"
   ]
  },
  {
   "cell_type": "code",
   "execution_count": 34,
   "id": "sophisticated-supervisor",
   "metadata": {
    "execution": {
     "iopub.execute_input": "2022-11-03T12:18:35.237004Z",
     "iopub.status.busy": "2022-11-03T12:18:35.236342Z",
     "iopub.status.idle": "2022-11-03T12:18:35.241383Z",
     "shell.execute_reply": "2022-11-03T12:18:35.240252Z"
    },
    "papermill": {
     "duration": 0.043976,
     "end_time": "2022-11-03T12:18:35.241498",
     "exception": false,
     "start_time": "2022-11-03T12:18:35.197522",
     "status": "completed"
    },
    "tags": []
   },
   "outputs": [],
   "source": [
    "#hide\n",
    "# g['date'] = g.date.dt.dayofyear"
   ]
  },
  {
   "cell_type": "code",
   "execution_count": 35,
   "id": "inside-dubai",
   "metadata": {
    "execution": {
     "iopub.execute_input": "2022-11-03T12:18:35.312948Z",
     "iopub.status.busy": "2022-11-03T12:18:35.312300Z",
     "iopub.status.idle": "2022-11-03T12:18:35.315381Z",
     "shell.execute_reply": "2022-11-03T12:18:35.314816Z"
    },
    "papermill": {
     "duration": 0.040383,
     "end_time": "2022-11-03T12:18:35.315496",
     "exception": false,
     "start_time": "2022-11-03T12:18:35.275113",
     "status": "completed"
    },
    "tags": []
   },
   "outputs": [],
   "source": [
    "#hide\n",
    "# g = g.rename(columns= {'continent':'group','country':'name','cases':'value'})"
   ]
  },
  {
   "cell_type": "code",
   "execution_count": 36,
   "id": "fleet-motorcycle",
   "metadata": {
    "execution": {
     "iopub.execute_input": "2022-11-03T12:18:35.386271Z",
     "iopub.status.busy": "2022-11-03T12:18:35.385614Z",
     "iopub.status.idle": "2022-11-03T12:18:35.388621Z",
     "shell.execute_reply": "2022-11-03T12:18:35.388089Z"
    },
    "papermill": {
     "duration": 0.039494,
     "end_time": "2022-11-03T12:18:35.388731",
     "exception": false,
     "start_time": "2022-11-03T12:18:35.349237",
     "status": "completed"
    },
    "tags": []
   },
   "outputs": [],
   "source": [
    "#hide\n",
    "# cols = ['name','group','day','value']"
   ]
  },
  {
   "cell_type": "code",
   "execution_count": 37,
   "id": "continued-sleeping",
   "metadata": {
    "execution": {
     "iopub.execute_input": "2022-11-03T12:18:35.461569Z",
     "iopub.status.busy": "2022-11-03T12:18:35.460918Z",
     "iopub.status.idle": "2022-11-03T12:18:35.463937Z",
     "shell.execute_reply": "2022-11-03T12:18:35.463405Z"
    },
    "papermill": {
     "duration": 0.04111,
     "end_time": "2022-11-03T12:18:35.464048",
     "exception": false,
     "start_time": "2022-11-03T12:18:35.422938",
     "status": "completed"
    },
    "tags": []
   },
   "outputs": [],
   "source": [
    "#hide\n",
    "# g.rename(columns= {'date':'day'},inplace = True)"
   ]
  },
  {
   "cell_type": "code",
   "execution_count": 38,
   "id": "major-fight",
   "metadata": {
    "execution": {
     "iopub.execute_input": "2022-11-03T12:18:35.536091Z",
     "iopub.status.busy": "2022-11-03T12:18:35.535407Z",
     "iopub.status.idle": "2022-11-03T12:18:35.538273Z",
     "shell.execute_reply": "2022-11-03T12:18:35.537733Z"
    },
    "papermill": {
     "duration": 0.04036,
     "end_time": "2022-11-03T12:18:35.538389",
     "exception": false,
     "start_time": "2022-11-03T12:18:35.498029",
     "status": "completed"
    },
    "tags": []
   },
   "outputs": [],
   "source": [
    "#hide\n",
    "# g = g[cols]"
   ]
  },
  {
   "cell_type": "code",
   "execution_count": 39,
   "id": "structured-mobile",
   "metadata": {
    "execution": {
     "iopub.execute_input": "2022-11-03T12:18:35.609602Z",
     "iopub.status.busy": "2022-11-03T12:18:35.608953Z",
     "iopub.status.idle": "2022-11-03T12:18:35.611570Z",
     "shell.execute_reply": "2022-11-03T12:18:35.612121Z"
    },
    "papermill": {
     "duration": 0.040532,
     "end_time": "2022-11-03T12:18:35.612254",
     "exception": false,
     "start_time": "2022-11-03T12:18:35.571722",
     "status": "completed"
    },
    "tags": []
   },
   "outputs": [],
   "source": [
    "# #hide\n",
    "# g = g[g.group.notna()]"
   ]
  },
  {
   "cell_type": "code",
   "execution_count": 40,
   "id": "determined-closing",
   "metadata": {
    "execution": {
     "iopub.execute_input": "2022-11-03T12:18:35.683844Z",
     "iopub.status.busy": "2022-11-03T12:18:35.683178Z",
     "iopub.status.idle": "2022-11-03T12:18:35.686657Z",
     "shell.execute_reply": "2022-11-03T12:18:35.686117Z"
    },
    "papermill": {
     "duration": 0.040202,
     "end_time": "2022-11-03T12:18:35.686769",
     "exception": false,
     "start_time": "2022-11-03T12:18:35.646567",
     "status": "completed"
    },
    "tags": []
   },
   "outputs": [],
   "source": [
    "# #hide\n",
    "# colors = dict(zip(\n",
    "#     [\"Oceania\", \"Europe\", \"Asia\", \"South America\", \"Middle East\", \"North America\", \"Africa\"],\n",
    "#     [\"#adb0ff\", \"#ffb3ff\", \"#90d595\", \"#e48381\", \"#aafbff\", \"#f7bb5f\", \"#eafb50\"]\n",
    "# ))\n",
    "# group_lk = g.set_index('name')['group'].to_dict()"
   ]
  },
  {
   "cell_type": "code",
   "execution_count": null,
   "id": "gross-drinking",
   "metadata": {
    "papermill": {
     "duration": 0.035427,
     "end_time": "2022-11-03T12:18:35.756940",
     "exception": false,
     "start_time": "2022-11-03T12:18:35.721513",
     "status": "completed"
    },
    "tags": []
   },
   "outputs": [],
   "source": []
  },
  {
   "cell_type": "code",
   "execution_count": 41,
   "id": "subject-macintosh",
   "metadata": {
    "execution": {
     "iopub.execute_input": "2022-11-03T12:18:35.832166Z",
     "iopub.status.busy": "2022-11-03T12:18:35.831490Z",
     "iopub.status.idle": "2022-11-03T12:18:35.836586Z",
     "shell.execute_reply": "2022-11-03T12:18:35.835937Z"
    },
    "papermill": {
     "duration": 0.043418,
     "end_time": "2022-11-03T12:18:35.836699",
     "exception": false,
     "start_time": "2022-11-03T12:18:35.793281",
     "status": "completed"
    },
    "tags": []
   },
   "outputs": [],
   "source": [
    "# #hide\n",
    "# fig, ax = plt.subplots(figsize=(15, 8))\n",
    "\n",
    "# def draw_barchart(current_day):\n",
    "#     dff = g[g['day'].eq(current_day)].sort_values(by='value', ascending=True).tail(10)\n",
    "#     ax.clear()\n",
    "#     ax.barh(dff['name'], dff['value'], color=[colors[group_lk[x]] for x in dff['name']])\n",
    "#     dx = dff['value'].max() / 200\n",
    "    \n",
    "#     for i, (value, name) in enumerate(zip(dff['value'], dff['name'])):\n",
    "#         ax.text(value-dx, i,     name,           size=14, weight=600, ha='right', va='bottom')\n",
    "#         ax.text(value-dx, i-.25, group_lk[name], size=10, color='#444444', ha='right', va='baseline')\n",
    "#         ax.text(value+dx, i,     f'{value:,.0f}',  size=14, ha='left',  va='center')\n",
    "#     ax.text(1, 0.4, current_day, transform=ax.transAxes, color='#777777', size=46, ha='right', weight=800)\n",
    "#     ax.text(0, 1.06, 'Population (thousands)', transform=ax.transAxes, size=12, color='#777777')\n",
    "#     ax.xaxis.set_major_formatter(ticker.StrMethodFormatter('{x:,.0f}'))\n",
    "#     ax.xaxis.set_ticks_position('top')\n",
    "#     ax.tick_params(axis='x', colors='#777777', labelsize=12)\n",
    "#     ax.set_yticks([])\n",
    "#     ax.margins(0, 0.01)\n",
    "#     ax.grid(which='major', axis='x', linestyle='-')\n",
    "#     ax.set_axisbelow(True)\n",
    "    \n",
    "#     ax.text(0, 1.15, 'Coronavirus',\n",
    "#             transform=ax.transAxes, size=24, weight=600, ha='left', va='top')\n",
    "# #     ax.text(1, 0, 'by @pratapvardhan; credit @jburnmurdoch', transform=ax.transAxes, color='#777777', ha='right',\n",
    "# #             bbox=dict(facecolor='white', alpha=0.8, edgecolor='white'))\n",
    "#     plt.box(False)"
   ]
  },
  {
   "cell_type": "code",
   "execution_count": 42,
   "id": "sexual-wages",
   "metadata": {
    "execution": {
     "iopub.execute_input": "2022-11-03T12:18:35.909091Z",
     "iopub.status.busy": "2022-11-03T12:18:35.908427Z",
     "iopub.status.idle": "2022-11-03T12:18:35.911351Z",
     "shell.execute_reply": "2022-11-03T12:18:35.910784Z"
    },
    "papermill": {
     "duration": 0.040654,
     "end_time": "2022-11-03T12:18:35.911468",
     "exception": false,
     "start_time": "2022-11-03T12:18:35.870814",
     "status": "completed"
    },
    "tags": []
   },
   "outputs": [],
   "source": [
    "# #hide_input\n",
    "# fig, ax = plt.subplots(figsize=(15, 8))\n",
    "# animator = animation.FuncAnimation(fig, draw_barchart, frames=range(g.day.values.min(), g.day.values.max()))\n",
    "# HTML(animator.to_jshtml())\n",
    "# # or use animator.to_html5_video() or animator.save() "
   ]
  },
  {
   "cell_type": "code",
   "execution_count": null,
   "id": "australian-container",
   "metadata": {
    "papermill": {
     "duration": 0.035224,
     "end_time": "2022-11-03T12:18:35.981356",
     "exception": false,
     "start_time": "2022-11-03T12:18:35.946132",
     "status": "completed"
    },
    "tags": []
   },
   "outputs": [],
   "source": []
  },
  {
   "cell_type": "code",
   "execution_count": null,
   "id": "mediterranean-pontiac",
   "metadata": {
    "papermill": {
     "duration": 0.036124,
     "end_time": "2022-11-03T12:18:36.054380",
     "exception": false,
     "start_time": "2022-11-03T12:18:36.018256",
     "status": "completed"
    },
    "tags": []
   },
   "outputs": [],
   "source": []
  },
  {
   "cell_type": "code",
   "execution_count": null,
   "id": "aging-legislature",
   "metadata": {
    "papermill": {
     "duration": 0.033594,
     "end_time": "2022-11-03T12:18:36.123262",
     "exception": false,
     "start_time": "2022-11-03T12:18:36.089668",
     "status": "completed"
    },
    "tags": []
   },
   "outputs": [],
   "source": []
  }
 ],
 "metadata": {
  "kernelspec": {
   "display_name": "Python 3",
   "language": "python",
   "name": "python3"
  },
  "language_info": {
   "codemirror_mode": {
    "name": "ipython",
    "version": 3
   },
   "file_extension": ".py",
   "mimetype": "text/x-python",
   "name": "python",
   "nbconvert_exporter": "python",
   "pygments_lexer": "ipython3",
   "version": "3.6.15"
  },
  "papermill": {
   "duration": 6.818655,
   "end_time": "2022-11-03T12:18:36.476305",
   "environment_variables": {},
   "exception": null,
   "input_path": "2020-03-21-covid19exp.ipynb",
   "output_path": "2020-03-21-covid19exp.ipynb",
   "parameters": {},
   "start_time": "2022-11-03T12:18:29.657650",
   "version": "2.0.0"
  }
 },
 "nbformat": 4,
 "nbformat_minor": 5
}