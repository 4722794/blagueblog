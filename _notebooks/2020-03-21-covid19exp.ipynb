{
 "cells": [
  {
   "cell_type": "markdown",
   "id": "muslim-click",
   "metadata": {
    "papermill": {
     "duration": 0.039994,
     "end_time": "2022-02-09T12:12:42.884590",
     "exception": false,
     "start_time": "2022-02-09T12:12:42.844596",
     "status": "completed"
    },
    "tags": []
   },
   "source": [
    "# COVID-19 Case Race\n",
    "> A race chart to see rising cases around the world\n",
    "\n",
    "- author: Hargun Oberoi\n",
    "- image: images/covid-overview.png\n",
    "- hide: false\n",
    "- badges: false"
   ]
  },
  {
   "cell_type": "code",
   "execution_count": 1,
   "id": "proof-material",
   "metadata": {
    "execution": {
     "iopub.execute_input": "2022-02-09T12:12:42.962320Z",
     "iopub.status.busy": "2022-02-09T12:12:42.961755Z",
     "iopub.status.idle": "2022-02-09T12:12:43.319535Z",
     "shell.execute_reply": "2022-02-09T12:12:43.318976Z"
    },
    "papermill": {
     "duration": 0.400401,
     "end_time": "2022-02-09T12:12:43.319689",
     "exception": false,
     "start_time": "2022-02-09T12:12:42.919288",
     "status": "completed"
    },
    "tags": []
   },
   "outputs": [],
   "source": [
    "#hide\n",
    "import numpy as np\n",
    "import pandas as pd\n",
    "from jinja2 import Template\n",
    "from IPython.display import HTML"
   ]
  },
  {
   "cell_type": "code",
   "execution_count": 2,
   "id": "developed-terminology",
   "metadata": {
    "execution": {
     "iopub.execute_input": "2022-02-09T12:12:43.392972Z",
     "iopub.status.busy": "2022-02-09T12:12:43.392368Z",
     "iopub.status.idle": "2022-02-09T12:12:43.394179Z",
     "shell.execute_reply": "2022-02-09T12:12:43.394619Z"
    },
    "papermill": {
     "duration": 0.040908,
     "end_time": "2022-02-09T12:12:43.394761",
     "exception": false,
     "start_time": "2022-02-09T12:12:43.353853",
     "status": "completed"
    },
    "tags": []
   },
   "outputs": [],
   "source": [
    "#hide\n",
    "\n",
    "# FETCH\n",
    "base_url = 'https://raw.githubusercontent.com/pratapvardhan/notebooks/master/covid19/'\n",
    "paths = {\n",
    "    'mapping': base_url + 'mapping_countries.csv',\n",
    "    'overview': base_url + 'overview.tpl'\n",
    "}"
   ]
  },
  {
   "cell_type": "code",
   "execution_count": 3,
   "id": "dynamic-saver",
   "metadata": {
    "execution": {
     "iopub.execute_input": "2022-02-09T12:12:43.472351Z",
     "iopub.status.busy": "2022-02-09T12:12:43.471730Z",
     "iopub.status.idle": "2022-02-09T12:12:43.474650Z",
     "shell.execute_reply": "2022-02-09T12:12:43.474215Z"
    },
    "papermill": {
     "duration": 0.048035,
     "end_time": "2022-02-09T12:12:43.474760",
     "exception": false,
     "start_time": "2022-02-09T12:12:43.426725",
     "status": "completed"
    },
    "tags": []
   },
   "outputs": [
    {
     "data": {
      "text/plain": [
       "'https://raw.githubusercontent.com/pratapvardhan/notebooks/master/covid19/mapping_countries.csv'"
      ]
     },
     "execution_count": 3,
     "metadata": {},
     "output_type": "execute_result"
    }
   ],
   "source": [
    "#hide\n",
    "paths['mapping']"
   ]
  },
  {
   "cell_type": "code",
   "execution_count": 4,
   "id": "urban-software",
   "metadata": {
    "execution": {
     "iopub.execute_input": "2022-02-09T12:12:43.546944Z",
     "iopub.status.busy": "2022-02-09T12:12:43.546141Z",
     "iopub.status.idle": "2022-02-09T12:12:43.551481Z",
     "shell.execute_reply": "2022-02-09T12:12:43.550704Z"
    },
    "papermill": {
     "duration": 0.044087,
     "end_time": "2022-02-09T12:12:43.551633",
     "exception": false,
     "start_time": "2022-02-09T12:12:43.507546",
     "status": "completed"
    },
    "tags": []
   },
   "outputs": [],
   "source": [
    "#hide\n",
    "def get_mappings(url):\n",
    "    df = pd.read_csv(url)\n",
    "    return {\n",
    "        'df': df,\n",
    "        'replace.country': dict(df.dropna(subset=['Name']).set_index('Country')['Name']),\n",
    "        'map.continent': dict(df.set_index('Name')['Continent'])\n",
    "    }"
   ]
  },
  {
   "cell_type": "code",
   "execution_count": 5,
   "id": "intimate-machinery",
   "metadata": {
    "execution": {
     "iopub.execute_input": "2022-02-09T12:12:43.624114Z",
     "iopub.status.busy": "2022-02-09T12:12:43.623573Z",
     "iopub.status.idle": "2022-02-09T12:12:43.648239Z",
     "shell.execute_reply": "2022-02-09T12:12:43.648679Z"
    },
    "papermill": {
     "duration": 0.064313,
     "end_time": "2022-02-09T12:12:43.648804",
     "exception": false,
     "start_time": "2022-02-09T12:12:43.584491",
     "status": "completed"
    },
    "tags": []
   },
   "outputs": [],
   "source": [
    "#hide\n",
    "mapping = get_mappings(paths['mapping'])"
   ]
  },
  {
   "cell_type": "code",
   "execution_count": 6,
   "id": "certified-tactics",
   "metadata": {
    "execution": {
     "iopub.execute_input": "2022-02-09T12:12:43.719805Z",
     "iopub.status.busy": "2022-02-09T12:12:43.719225Z",
     "iopub.status.idle": "2022-02-09T12:12:43.721586Z",
     "shell.execute_reply": "2022-02-09T12:12:43.722133Z"
    },
    "papermill": {
     "duration": 0.040394,
     "end_time": "2022-02-09T12:12:43.722264",
     "exception": false,
     "start_time": "2022-02-09T12:12:43.681870",
     "status": "completed"
    },
    "tags": []
   },
   "outputs": [],
   "source": [
    "#hide\n",
    "def get_template(path):\n",
    "    from urllib.parse import urlparse\n",
    "    if bool(urlparse(path).netloc):\n",
    "        from urllib.request import urlopen\n",
    "        return urlopen(path).read().decode('utf8')\n",
    "    return open(path).read()"
   ]
  },
  {
   "cell_type": "code",
   "execution_count": 7,
   "id": "realistic-blast",
   "metadata": {
    "execution": {
     "iopub.execute_input": "2022-02-09T12:12:43.793098Z",
     "iopub.status.busy": "2022-02-09T12:12:43.792499Z",
     "iopub.status.idle": "2022-02-09T12:12:43.794967Z",
     "shell.execute_reply": "2022-02-09T12:12:43.795538Z"
    },
    "papermill": {
     "duration": 0.040727,
     "end_time": "2022-02-09T12:12:43.795671",
     "exception": false,
     "start_time": "2022-02-09T12:12:43.754944",
     "status": "completed"
    },
    "tags": []
   },
   "outputs": [],
   "source": [
    "#hide\n",
    "def get_frame(name):\n",
    "    url = (\n",
    "        'https://raw.githubusercontent.com/CSSEGISandData/COVID-19/master/csse_covid_19_data/'\n",
    "        f'csse_covid_19_time_series/time_series_covid19_{name}_global.csv')\n",
    "    df = pd.read_csv(url)\n",
    "    # rename countries\n",
    "    df['Country/Region'] = df['Country/Region'].replace(mapping['replace.country'])\n",
    "    return df"
   ]
  },
  {
   "cell_type": "code",
   "execution_count": 8,
   "id": "affiliated-characterization",
   "metadata": {
    "execution": {
     "iopub.execute_input": "2022-02-09T12:12:43.868282Z",
     "iopub.status.busy": "2022-02-09T12:12:43.867738Z",
     "iopub.status.idle": "2022-02-09T12:12:43.870098Z",
     "shell.execute_reply": "2022-02-09T12:12:43.869512Z"
    },
    "papermill": {
     "duration": 0.042398,
     "end_time": "2022-02-09T12:12:43.870212",
     "exception": false,
     "start_time": "2022-02-09T12:12:43.827814",
     "status": "completed"
    },
    "tags": []
   },
   "outputs": [],
   "source": [
    "#hide\n",
    "def get_dates(df):\n",
    "    dt_cols = df.columns[~df.columns.isin(['Province/State', 'Country/Region', 'Lat', 'Long'])]\n",
    "    LAST_DATE_I = -1\n",
    "    # sometimes last column may be empty, then go backwards\n",
    "    for i in range(-1, -len(dt_cols), -1):\n",
    "        if not df[dt_cols[i]].fillna(0).eq(0).all():\n",
    "            LAST_DATE_I = i\n",
    "            break\n",
    "    return LAST_DATE_I, dt_cols"
   ]
  },
  {
   "cell_type": "code",
   "execution_count": 9,
   "id": "recent-optimization",
   "metadata": {
    "execution": {
     "iopub.execute_input": "2022-02-09T12:12:43.940166Z",
     "iopub.status.busy": "2022-02-09T12:12:43.939614Z",
     "iopub.status.idle": "2022-02-09T12:12:44.286187Z",
     "shell.execute_reply": "2022-02-09T12:12:44.285288Z"
    },
    "papermill": {
     "duration": 0.383423,
     "end_time": "2022-02-09T12:12:44.286405",
     "exception": false,
     "start_time": "2022-02-09T12:12:43.902982",
     "status": "completed"
    },
    "tags": []
   },
   "outputs": [],
   "source": [
    "#hide\n",
    "COL_REGION = 'Country/Region'\n",
    "# Confirmed, Recovered, Deaths\n",
    "df = get_frame('confirmed')\n",
    "# dft_: timeseries, dfc_: today country agg\n",
    "dft_cases = df\n",
    "dft_deaths = get_frame('deaths')\n",
    "dft_recovered = get_frame('recovered')\n",
    "LAST_DATE_I, dt_cols = get_dates(df)"
   ]
  },
  {
   "cell_type": "code",
   "execution_count": 10,
   "id": "absolute-copper",
   "metadata": {
    "execution": {
     "iopub.execute_input": "2022-02-09T12:12:44.361974Z",
     "iopub.status.busy": "2022-02-09T12:12:44.361370Z",
     "iopub.status.idle": "2022-02-09T12:12:44.364149Z",
     "shell.execute_reply": "2022-02-09T12:12:44.363676Z"
    },
    "papermill": {
     "duration": 0.04219,
     "end_time": "2022-02-09T12:12:44.364269",
     "exception": false,
     "start_time": "2022-02-09T12:12:44.322079",
     "status": "completed"
    },
    "tags": []
   },
   "outputs": [],
   "source": [
    "#hide\n",
    "LAST_DATE_I, dt_cols = get_dates(df)\n",
    "dt_today =dt_cols[LAST_DATE_I]\n",
    "# dt_5day = dt_cols[LAST_DATE_I - 5]\n",
    "dt_yday = dt_cols[LAST_DATE_I - 1]"
   ]
  },
  {
   "cell_type": "code",
   "execution_count": 11,
   "id": "restricted-sheriff",
   "metadata": {
    "execution": {
     "iopub.execute_input": "2022-02-09T12:12:44.437832Z",
     "iopub.status.busy": "2022-02-09T12:12:44.437177Z",
     "iopub.status.idle": "2022-02-09T12:12:44.446369Z",
     "shell.execute_reply": "2022-02-09T12:12:44.445882Z"
    },
    "papermill": {
     "duration": 0.048814,
     "end_time": "2022-02-09T12:12:44.446501",
     "exception": false,
     "start_time": "2022-02-09T12:12:44.397687",
     "status": "completed"
    },
    "tags": []
   },
   "outputs": [],
   "source": [
    "#hide\n",
    "dfc_cases = dft_cases.groupby(COL_REGION)[dt_today].sum()\n",
    "dfc_deaths = dft_deaths.groupby(COL_REGION)[dt_today].sum()\n",
    "# dfp_cases = dft_cases.groupby(COL_REGION)[dt_5day].sum()\n",
    "# dfp_deaths = dft_deaths.groupby(COL_REGION)[dt_5day].sum()\n",
    "dfp_cases = dft_cases.groupby(COL_REGION)[dt_yday].sum()\n",
    "dfp_deaths = dft_deaths.groupby(COL_REGION)[dt_yday].sum()"
   ]
  },
  {
   "cell_type": "code",
   "execution_count": 12,
   "id": "deluxe-hepatitis",
   "metadata": {
    "execution": {
     "iopub.execute_input": "2022-02-09T12:12:44.523437Z",
     "iopub.status.busy": "2022-02-09T12:12:44.522836Z",
     "iopub.status.idle": "2022-02-09T12:12:44.528359Z",
     "shell.execute_reply": "2022-02-09T12:12:44.527883Z"
    },
    "papermill": {
     "duration": 0.048166,
     "end_time": "2022-02-09T12:12:44.528485",
     "exception": false,
     "start_time": "2022-02-09T12:12:44.480319",
     "status": "completed"
    },
    "tags": []
   },
   "outputs": [],
   "source": [
    "#hide\n",
    "df_table = (pd.DataFrame(dict(Cases = dfc_cases, Deaths = dfc_deaths, PCases = dfp_cases, PDeaths = dfp_deaths))\n",
    "            .sort_values(by = ['Cases','Deaths'], ascending = [False, False])\n",
    "            .reset_index())"
   ]
  },
  {
   "cell_type": "code",
   "execution_count": 13,
   "id": "educational-chancellor",
   "metadata": {
    "execution": {
     "iopub.execute_input": "2022-02-09T12:12:44.618724Z",
     "iopub.status.busy": "2022-02-09T12:12:44.612924Z",
     "iopub.status.idle": "2022-02-09T12:12:44.622154Z",
     "shell.execute_reply": "2022-02-09T12:12:44.622592Z"
    },
    "papermill": {
     "duration": 0.061142,
     "end_time": "2022-02-09T12:12:44.622726",
     "exception": false,
     "start_time": "2022-02-09T12:12:44.561584",
     "status": "completed"
    },
    "tags": []
   },
   "outputs": [
    {
     "data": {
      "text/html": [
       "<div>\n",
       "<style scoped>\n",
       "    .dataframe tbody tr th:only-of-type {\n",
       "        vertical-align: middle;\n",
       "    }\n",
       "\n",
       "    .dataframe tbody tr th {\n",
       "        vertical-align: top;\n",
       "    }\n",
       "\n",
       "    .dataframe thead th {\n",
       "        text-align: right;\n",
       "    }\n",
       "</style>\n",
       "<table border=\"1\" class=\"dataframe\">\n",
       "  <thead>\n",
       "    <tr style=\"text-align: right;\">\n",
       "      <th></th>\n",
       "      <th>Country/Region</th>\n",
       "      <th>Cases</th>\n",
       "      <th>Deaths</th>\n",
       "      <th>PCases</th>\n",
       "      <th>PDeaths</th>\n",
       "      <th>Cases (+)</th>\n",
       "      <th>Deaths (+)</th>\n",
       "      <th>Fatality Rate</th>\n",
       "      <th>Continent</th>\n",
       "    </tr>\n",
       "  </thead>\n",
       "  <tbody>\n",
       "    <tr>\n",
       "      <th>0</th>\n",
       "      <td>US</td>\n",
       "      <td>77051506</td>\n",
       "      <td>908820</td>\n",
       "      <td>76852768</td>\n",
       "      <td>905543</td>\n",
       "      <td>198738</td>\n",
       "      <td>3277</td>\n",
       "      <td>1.18</td>\n",
       "      <td>North America</td>\n",
       "    </tr>\n",
       "    <tr>\n",
       "      <th>1</th>\n",
       "      <td>India</td>\n",
       "      <td>42410976</td>\n",
       "      <td>505279</td>\n",
       "      <td>42339611</td>\n",
       "      <td>504062</td>\n",
       "      <td>71365</td>\n",
       "      <td>1217</td>\n",
       "      <td>1.19</td>\n",
       "      <td>Asia</td>\n",
       "    </tr>\n",
       "    <tr>\n",
       "      <th>2</th>\n",
       "      <td>Brazil</td>\n",
       "      <td>26793497</td>\n",
       "      <td>634118</td>\n",
       "      <td>26616014</td>\n",
       "      <td>632946</td>\n",
       "      <td>177483</td>\n",
       "      <td>1172</td>\n",
       "      <td>2.37</td>\n",
       "      <td>South America</td>\n",
       "    </tr>\n",
       "    <tr>\n",
       "      <th>3</th>\n",
       "      <td>France</td>\n",
       "      <td>21174600</td>\n",
       "      <td>134609</td>\n",
       "      <td>20935910</td>\n",
       "      <td>133918</td>\n",
       "      <td>238690</td>\n",
       "      <td>691</td>\n",
       "      <td>0.64</td>\n",
       "      <td>Europe</td>\n",
       "    </tr>\n",
       "    <tr>\n",
       "      <th>4</th>\n",
       "      <td>United Kingdom</td>\n",
       "      <td>18055318</td>\n",
       "      <td>159220</td>\n",
       "      <td>17988447</td>\n",
       "      <td>158903</td>\n",
       "      <td>66871</td>\n",
       "      <td>317</td>\n",
       "      <td>0.88</td>\n",
       "      <td>Europe</td>\n",
       "    </tr>\n",
       "  </tbody>\n",
       "</table>\n",
       "</div>"
      ],
      "text/plain": [
       "   Country/Region     Cases  Deaths    PCases  PDeaths  Cases (+)  Deaths (+)  \\\n",
       "0              US  77051506  908820  76852768   905543     198738        3277   \n",
       "1           India  42410976  505279  42339611   504062      71365        1217   \n",
       "2          Brazil  26793497  634118  26616014   632946     177483        1172   \n",
       "3          France  21174600  134609  20935910   133918     238690         691   \n",
       "4  United Kingdom  18055318  159220  17988447   158903      66871         317   \n",
       "\n",
       "   Fatality Rate      Continent  \n",
       "0           1.18  North America  \n",
       "1           1.19           Asia  \n",
       "2           2.37  South America  \n",
       "3           0.64         Europe  \n",
       "4           0.88         Europe  "
      ]
     },
     "execution_count": 13,
     "metadata": {},
     "output_type": "execute_result"
    }
   ],
   "source": [
    "#hide\n",
    "for c in 'Cases, Deaths'.split(', '):\n",
    "    df_table[f'{c} (+)'] = (df_table[c] - df_table[f'P{c}']).clip(0)\n",
    "    #Clip ça veut dire, les chiffres negatif sont interdit\n",
    "df_table['Fatality Rate'] = (100* df_table['Deaths']/ df_table['Cases']).round(2)\n",
    "df_table['Continent'] = df_table['Country/Region'].map(mapping['map.continent'])\n",
    "df_table.head(5)"
   ]
  },
  {
   "cell_type": "code",
   "execution_count": 14,
   "id": "aboriginal-bulgaria",
   "metadata": {
    "execution": {
     "iopub.execute_input": "2022-02-09T12:12:44.693170Z",
     "iopub.status.busy": "2022-02-09T12:12:44.692604Z",
     "iopub.status.idle": "2022-02-09T12:12:44.695362Z",
     "shell.execute_reply": "2022-02-09T12:12:44.695932Z"
    },
    "papermill": {
     "duration": 0.040621,
     "end_time": "2022-02-09T12:12:44.696070",
     "exception": false,
     "start_time": "2022-02-09T12:12:44.655449",
     "status": "completed"
    },
    "tags": []
   },
   "outputs": [],
   "source": [
    "#hide\n",
    "#delete problematic countries from table\n",
    "df_table = df_table[~df_table['Country/Region'].isin(['Cape Verde', 'Cruise Ship', 'Kosovo'])]"
   ]
  },
  {
   "cell_type": "code",
   "execution_count": 15,
   "id": "fantastic-effect",
   "metadata": {
    "execution": {
     "iopub.execute_input": "2022-02-09T12:12:44.770297Z",
     "iopub.status.busy": "2022-02-09T12:12:44.768007Z",
     "iopub.status.idle": "2022-02-09T12:12:44.788897Z",
     "shell.execute_reply": "2022-02-09T12:12:44.788461Z"
    },
    "papermill": {
     "duration": 0.061272,
     "end_time": "2022-02-09T12:12:44.789009",
     "exception": false,
     "start_time": "2022-02-09T12:12:44.727737",
     "status": "completed"
    },
    "tags": []
   },
   "outputs": [
    {
     "data": {
      "text/html": [
       "<div>\n",
       "<style scoped>\n",
       "    .dataframe tbody tr th:only-of-type {\n",
       "        vertical-align: middle;\n",
       "    }\n",
       "\n",
       "    .dataframe tbody tr th {\n",
       "        vertical-align: top;\n",
       "    }\n",
       "\n",
       "    .dataframe thead th {\n",
       "        text-align: right;\n",
       "    }\n",
       "</style>\n",
       "<table border=\"1\" class=\"dataframe\">\n",
       "  <thead>\n",
       "    <tr style=\"text-align: right;\">\n",
       "      <th></th>\n",
       "      <th>Country/Region</th>\n",
       "      <th>Cases</th>\n",
       "      <th>Deaths</th>\n",
       "      <th>PCases</th>\n",
       "      <th>PDeaths</th>\n",
       "      <th>Cases (+)</th>\n",
       "      <th>Deaths (+)</th>\n",
       "      <th>Fatality Rate</th>\n",
       "      <th>Continent</th>\n",
       "    </tr>\n",
       "  </thead>\n",
       "  <tbody>\n",
       "    <tr>\n",
       "      <th>0</th>\n",
       "      <td>US</td>\n",
       "      <td>77051506</td>\n",
       "      <td>908820</td>\n",
       "      <td>76852768</td>\n",
       "      <td>905543</td>\n",
       "      <td>198738</td>\n",
       "      <td>3277</td>\n",
       "      <td>1.2</td>\n",
       "      <td>North America</td>\n",
       "    </tr>\n",
       "    <tr>\n",
       "      <th>1</th>\n",
       "      <td>India</td>\n",
       "      <td>42410976</td>\n",
       "      <td>505279</td>\n",
       "      <td>42339611</td>\n",
       "      <td>504062</td>\n",
       "      <td>71365</td>\n",
       "      <td>1217</td>\n",
       "      <td>1.2</td>\n",
       "      <td>Asia</td>\n",
       "    </tr>\n",
       "    <tr>\n",
       "      <th>2</th>\n",
       "      <td>Brazil</td>\n",
       "      <td>26793497</td>\n",
       "      <td>634118</td>\n",
       "      <td>26616014</td>\n",
       "      <td>632946</td>\n",
       "      <td>177483</td>\n",
       "      <td>1172</td>\n",
       "      <td>2.4</td>\n",
       "      <td>South America</td>\n",
       "    </tr>\n",
       "    <tr>\n",
       "      <th>3</th>\n",
       "      <td>France</td>\n",
       "      <td>21174600</td>\n",
       "      <td>134609</td>\n",
       "      <td>20935910</td>\n",
       "      <td>133918</td>\n",
       "      <td>238690</td>\n",
       "      <td>691</td>\n",
       "      <td>0.6</td>\n",
       "      <td>Europe</td>\n",
       "    </tr>\n",
       "    <tr>\n",
       "      <th>4</th>\n",
       "      <td>United Kingdom</td>\n",
       "      <td>18055318</td>\n",
       "      <td>159220</td>\n",
       "      <td>17988447</td>\n",
       "      <td>158903</td>\n",
       "      <td>66871</td>\n",
       "      <td>317</td>\n",
       "      <td>0.9</td>\n",
       "      <td>Europe</td>\n",
       "    </tr>\n",
       "  </tbody>\n",
       "</table>\n",
       "</div>"
      ],
      "text/plain": [
       "   Country/Region     Cases  Deaths    PCases  PDeaths  Cases (+)  Deaths (+)  \\\n",
       "0              US  77051506  908820  76852768   905543     198738        3277   \n",
       "1           India  42410976  505279  42339611   504062      71365        1217   \n",
       "2          Brazil  26793497  634118  26616014   632946     177483        1172   \n",
       "3          France  21174600  134609  20935910   133918     238690         691   \n",
       "4  United Kingdom  18055318  159220  17988447   158903      66871         317   \n",
       "\n",
       "   Fatality Rate      Continent  \n",
       "0            1.2  North America  \n",
       "1            1.2           Asia  \n",
       "2            2.4  South America  \n",
       "3            0.6         Europe  \n",
       "4            0.9         Europe  "
      ]
     },
     "execution_count": 15,
     "metadata": {},
     "output_type": "execute_result"
    }
   ],
   "source": [
    "#hide\n",
    "df_table = (pd.DataFrame(dict(Cases=dfc_cases, Deaths=dfc_deaths, PCases=dfp_cases, PDeaths=dfp_deaths))\n",
    "             .sort_values(by=['Cases', 'Deaths'], ascending=[False, False])\n",
    "             .reset_index())\n",
    "df_table.rename(columns={'index': 'Country/Region'}, inplace=True)\n",
    "for c in 'Cases, Deaths'.split(', '):\n",
    "    df_table[f'{c} (+)'] = (df_table[c] - df_table[f'P{c}']).clip(0)  # DATA BUG\n",
    "df_table['Fatality Rate'] = (100 * df_table['Deaths'] / df_table['Cases']).round(1)\n",
    "df_table['Continent'] = df_table['Country/Region'].map(mapping['map.continent'])\n",
    "df_table.head(5)"
   ]
  },
  {
   "cell_type": "code",
   "execution_count": 16,
   "id": "fewer-occasion",
   "metadata": {
    "execution": {
     "iopub.execute_input": "2022-02-09T12:12:44.859588Z",
     "iopub.status.busy": "2022-02-09T12:12:44.858595Z",
     "iopub.status.idle": "2022-02-09T12:12:44.862815Z",
     "shell.execute_reply": "2022-02-09T12:12:44.863324Z"
    },
    "papermill": {
     "duration": 0.041326,
     "end_time": "2022-02-09T12:12:44.863459",
     "exception": false,
     "start_time": "2022-02-09T12:12:44.822133",
     "status": "completed"
    },
    "tags": []
   },
   "outputs": [],
   "source": [
    "#hide\n",
    "#delete problematic countries from table\n",
    "df_table = df_table[~df_table['Country/Region'].isin(['Cape Verde', 'Cruise Ship', 'Kosovo'])]"
   ]
  },
  {
   "cell_type": "code",
   "execution_count": 17,
   "id": "related-center",
   "metadata": {
    "execution": {
     "iopub.execute_input": "2022-02-09T12:12:44.953144Z",
     "iopub.status.busy": "2022-02-09T12:12:44.939305Z",
     "iopub.status.idle": "2022-02-09T12:12:44.955573Z",
     "shell.execute_reply": "2022-02-09T12:12:44.955131Z"
    },
    "papermill": {
     "duration": 0.058058,
     "end_time": "2022-02-09T12:12:44.955685",
     "exception": false,
     "start_time": "2022-02-09T12:12:44.897627",
     "status": "completed"
    },
    "tags": []
   },
   "outputs": [],
   "source": [
    "#hide\n",
    "metrics = [df_table.columns[index] for index in [1,2,5,6]]\n",
    "# s_china = df_table[df_table['Country/Region'].eq('China')][metrics].sum().add_prefix('China ')\n",
    "s_us = df_table[df_table['Country/Region'].eq('US')][metrics].sum().add_prefix('US ')\n",
    "s_eu = df_table[df_table['Continent'].eq('Europe')][metrics].sum().add_prefix('EU ')\n",
    "s_ind = df_table[df_table['Country/Region'].eq('India')][metrics].sum().add_prefix('India ')\n",
    "summary = {'updated': pd.to_datetime(dt_today), 'since': pd.to_datetime(dt_yday)}\n",
    "summary = {'updated': pd.to_datetime(dt_today), 'since': pd.to_datetime(dt_yday)}\n",
    "summary = {**summary, **df_table[metrics].sum(), **s_ind, **s_us, **s_eu}"
   ]
  },
  {
   "cell_type": "code",
   "execution_count": 18,
   "id": "engaging-syndrome",
   "metadata": {
    "execution": {
     "iopub.execute_input": "2022-02-09T12:12:45.027756Z",
     "iopub.status.busy": "2022-02-09T12:12:45.027222Z",
     "iopub.status.idle": "2022-02-09T12:12:45.044793Z",
     "shell.execute_reply": "2022-02-09T12:12:45.043926Z"
    },
    "papermill": {
     "duration": 0.056226,
     "end_time": "2022-02-09T12:12:45.044987",
     "exception": false,
     "start_time": "2022-02-09T12:12:44.988761",
     "status": "completed"
    },
    "tags": []
   },
   "outputs": [],
   "source": [
    "#hide\n",
    "dft_ct_new_cases = dft_cases.groupby(COL_REGION)[dt_cols].sum().diff(axis=1).fillna(0).astype(int)"
   ]
  },
  {
   "cell_type": "code",
   "execution_count": 19,
   "id": "neutral-assignment",
   "metadata": {
    "execution": {
     "iopub.execute_input": "2022-02-09T12:12:45.120126Z",
     "iopub.status.busy": "2022-02-09T12:12:45.119540Z",
     "iopub.status.idle": "2022-02-09T12:12:45.125675Z",
     "shell.execute_reply": "2022-02-09T12:12:45.125153Z"
    },
    "papermill": {
     "duration": 0.043902,
     "end_time": "2022-02-09T12:12:45.125802",
     "exception": false,
     "start_time": "2022-02-09T12:12:45.081900",
     "status": "completed"
    },
    "tags": []
   },
   "outputs": [],
   "source": [
    "#hide\n",
    "everydaycases = dft_ct_new_cases.cumsum(axis=1)"
   ]
  },
  {
   "cell_type": "code",
   "execution_count": 20,
   "id": "parliamentary-calgary",
   "metadata": {
    "execution": {
     "iopub.execute_input": "2022-02-09T12:12:45.198585Z",
     "iopub.status.busy": "2022-02-09T12:12:45.197996Z",
     "iopub.status.idle": "2022-02-09T12:12:45.853973Z",
     "shell.execute_reply": "2022-02-09T12:12:45.853405Z"
    },
    "papermill": {
     "duration": 0.69531,
     "end_time": "2022-02-09T12:12:45.854119",
     "exception": false,
     "start_time": "2022-02-09T12:12:45.158809",
     "status": "completed"
    },
    "tags": []
   },
   "outputs": [],
   "source": [
    "#hide\n",
    "import pandas as pd\n",
    "import matplotlib.pyplot as plt\n",
    "import matplotlib.ticker as ticker\n",
    "import matplotlib.animation as animation\n",
    "from IPython.display import HTML"
   ]
  },
  {
   "cell_type": "code",
   "execution_count": 21,
   "id": "lasting-extraction",
   "metadata": {
    "execution": {
     "iopub.execute_input": "2022-02-09T12:12:45.929167Z",
     "iopub.status.busy": "2022-02-09T12:12:45.928617Z",
     "iopub.status.idle": "2022-02-09T12:12:45.936145Z",
     "shell.execute_reply": "2022-02-09T12:12:45.935686Z"
    },
    "papermill": {
     "duration": 0.047527,
     "end_time": "2022-02-09T12:12:45.936262",
     "exception": false,
     "start_time": "2022-02-09T12:12:45.888735",
     "status": "completed"
    },
    "tags": []
   },
   "outputs": [],
   "source": [
    "#hide\n",
    "t = everydaycases.stack()"
   ]
  },
  {
   "cell_type": "code",
   "execution_count": 22,
   "id": "premier-sleeve",
   "metadata": {
    "execution": {
     "iopub.execute_input": "2022-02-09T12:12:46.005800Z",
     "iopub.status.busy": "2022-02-09T12:12:46.005166Z",
     "iopub.status.idle": "2022-02-09T12:12:46.020048Z",
     "shell.execute_reply": "2022-02-09T12:12:46.019610Z"
    },
    "papermill": {
     "duration": 0.051219,
     "end_time": "2022-02-09T12:12:46.020163",
     "exception": false,
     "start_time": "2022-02-09T12:12:45.968944",
     "status": "completed"
    },
    "tags": []
   },
   "outputs": [],
   "source": [
    "#hide\n",
    "g = t.reset_index(['Country/Region'])"
   ]
  },
  {
   "cell_type": "code",
   "execution_count": 23,
   "id": "distributed-pittsburgh",
   "metadata": {
    "execution": {
     "iopub.execute_input": "2022-02-09T12:12:46.092606Z",
     "iopub.status.busy": "2022-02-09T12:12:46.091589Z",
     "iopub.status.idle": "2022-02-09T12:12:46.096148Z",
     "shell.execute_reply": "2022-02-09T12:12:46.095559Z"
    },
    "papermill": {
     "duration": 0.043629,
     "end_time": "2022-02-09T12:12:46.096265",
     "exception": false,
     "start_time": "2022-02-09T12:12:46.052636",
     "status": "completed"
    },
    "tags": []
   },
   "outputs": [],
   "source": [
    "#hide\n",
    "g.index.name = 'date'"
   ]
  },
  {
   "cell_type": "code",
   "execution_count": 24,
   "id": "naked-donor",
   "metadata": {
    "execution": {
     "iopub.execute_input": "2022-02-09T12:12:46.166382Z",
     "iopub.status.busy": "2022-02-09T12:12:46.165662Z",
     "iopub.status.idle": "2022-02-09T12:12:46.168118Z",
     "shell.execute_reply": "2022-02-09T12:12:46.167649Z"
    },
    "papermill": {
     "duration": 0.039596,
     "end_time": "2022-02-09T12:12:46.168237",
     "exception": false,
     "start_time": "2022-02-09T12:12:46.128641",
     "status": "completed"
    },
    "tags": []
   },
   "outputs": [],
   "source": [
    "# #hide\n",
    "# g = g.reset_index(['date'])"
   ]
  },
  {
   "cell_type": "code",
   "execution_count": 25,
   "id": "incomplete-mustang",
   "metadata": {
    "execution": {
     "iopub.execute_input": "2022-02-09T12:12:46.239086Z",
     "iopub.status.busy": "2022-02-09T12:12:46.238374Z",
     "iopub.status.idle": "2022-02-09T12:12:46.243039Z",
     "shell.execute_reply": "2022-02-09T12:12:46.242461Z"
    },
    "papermill": {
     "duration": 0.042191,
     "end_time": "2022-02-09T12:12:46.243181",
     "exception": false,
     "start_time": "2022-02-09T12:12:46.200990",
     "status": "completed"
    },
    "tags": []
   },
   "outputs": [],
   "source": [
    "#hide\n",
    "# g.head()"
   ]
  },
  {
   "cell_type": "code",
   "execution_count": 26,
   "id": "specific-kruger",
   "metadata": {
    "execution": {
     "iopub.execute_input": "2022-02-09T12:12:46.314017Z",
     "iopub.status.busy": "2022-02-09T12:12:46.313471Z",
     "iopub.status.idle": "2022-02-09T12:12:46.315728Z",
     "shell.execute_reply": "2022-02-09T12:12:46.316247Z"
    },
    "papermill": {
     "duration": 0.038212,
     "end_time": "2022-02-09T12:12:46.316367",
     "exception": false,
     "start_time": "2022-02-09T12:12:46.278155",
     "status": "completed"
    },
    "tags": []
   },
   "outputs": [],
   "source": [
    "#hide\n",
    "# g.columns = ['date','country','cases']"
   ]
  },
  {
   "cell_type": "code",
   "execution_count": 27,
   "id": "tender-conversion",
   "metadata": {
    "execution": {
     "iopub.execute_input": "2022-02-09T12:12:46.387961Z",
     "iopub.status.busy": "2022-02-09T12:12:46.386947Z",
     "iopub.status.idle": "2022-02-09T12:12:46.391548Z",
     "shell.execute_reply": "2022-02-09T12:12:46.391101Z"
    },
    "papermill": {
     "duration": 0.042357,
     "end_time": "2022-02-09T12:12:46.391658",
     "exception": false,
     "start_time": "2022-02-09T12:12:46.349301",
     "status": "completed"
    },
    "tags": []
   },
   "outputs": [],
   "source": [
    "#hide\n",
    "# g['continent'] = g.country"
   ]
  },
  {
   "cell_type": "code",
   "execution_count": 28,
   "id": "substantial-wilderness",
   "metadata": {
    "execution": {
     "iopub.execute_input": "2022-02-09T12:12:46.464126Z",
     "iopub.status.busy": "2022-02-09T12:12:46.463542Z",
     "iopub.status.idle": "2022-02-09T12:12:46.466438Z",
     "shell.execute_reply": "2022-02-09T12:12:46.466941Z"
    },
    "papermill": {
     "duration": 0.042198,
     "end_time": "2022-02-09T12:12:46.467076",
     "exception": false,
     "start_time": "2022-02-09T12:12:46.424878",
     "status": "completed"
    },
    "tags": []
   },
   "outputs": [],
   "source": [
    "#hide\n",
    "# cols = list(g.columns.values)"
   ]
  },
  {
   "cell_type": "code",
   "execution_count": 29,
   "id": "solved-farming",
   "metadata": {
    "execution": {
     "iopub.execute_input": "2022-02-09T12:12:46.538590Z",
     "iopub.status.busy": "2022-02-09T12:12:46.537567Z",
     "iopub.status.idle": "2022-02-09T12:12:46.540513Z",
     "shell.execute_reply": "2022-02-09T12:12:46.539765Z"
    },
    "papermill": {
     "duration": 0.040738,
     "end_time": "2022-02-09T12:12:46.540620",
     "exception": false,
     "start_time": "2022-02-09T12:12:46.499882",
     "status": "completed"
    },
    "tags": []
   },
   "outputs": [],
   "source": [
    "#hide\n",
    "# cols.insert(0, cols.pop())"
   ]
  },
  {
   "cell_type": "code",
   "execution_count": 30,
   "id": "executed-adoption",
   "metadata": {
    "execution": {
     "iopub.execute_input": "2022-02-09T12:12:46.610510Z",
     "iopub.status.busy": "2022-02-09T12:12:46.609970Z",
     "iopub.status.idle": "2022-02-09T12:12:46.612735Z",
     "shell.execute_reply": "2022-02-09T12:12:46.612274Z"
    },
    "papermill": {
     "duration": 0.03905,
     "end_time": "2022-02-09T12:12:46.612860",
     "exception": false,
     "start_time": "2022-02-09T12:12:46.573810",
     "status": "completed"
    },
    "tags": []
   },
   "outputs": [],
   "source": [
    "#hide\n",
    "# g = g[cols]"
   ]
  },
  {
   "cell_type": "code",
   "execution_count": 31,
   "id": "subject-dublin",
   "metadata": {
    "execution": {
     "iopub.execute_input": "2022-02-09T12:12:46.681913Z",
     "iopub.status.busy": "2022-02-09T12:12:46.680858Z",
     "iopub.status.idle": "2022-02-09T12:12:46.684152Z",
     "shell.execute_reply": "2022-02-09T12:12:46.683675Z"
    },
    "papermill": {
     "duration": 0.039337,
     "end_time": "2022-02-09T12:12:46.684270",
     "exception": false,
     "start_time": "2022-02-09T12:12:46.644933",
     "status": "completed"
    },
    "tags": []
   },
   "outputs": [],
   "source": [
    "#hide\n",
    "# g['continent'] = g['continent'].map(mapping['map.continent'])"
   ]
  },
  {
   "cell_type": "code",
   "execution_count": 32,
   "id": "freelance-scout",
   "metadata": {
    "execution": {
     "iopub.execute_input": "2022-02-09T12:12:46.754160Z",
     "iopub.status.busy": "2022-02-09T12:12:46.753573Z",
     "iopub.status.idle": "2022-02-09T12:12:46.755786Z",
     "shell.execute_reply": "2022-02-09T12:12:46.755213Z"
    },
    "papermill": {
     "duration": 0.0385,
     "end_time": "2022-02-09T12:12:46.755899",
     "exception": false,
     "start_time": "2022-02-09T12:12:46.717399",
     "status": "completed"
    },
    "tags": []
   },
   "outputs": [],
   "source": [
    "#hide\n",
    "# g.head()"
   ]
  },
  {
   "cell_type": "code",
   "execution_count": 33,
   "id": "limited-engine",
   "metadata": {
    "execution": {
     "iopub.execute_input": "2022-02-09T12:12:46.826799Z",
     "iopub.status.busy": "2022-02-09T12:12:46.826200Z",
     "iopub.status.idle": "2022-02-09T12:12:46.828006Z",
     "shell.execute_reply": "2022-02-09T12:12:46.828477Z"
    },
    "papermill": {
     "duration": 0.038825,
     "end_time": "2022-02-09T12:12:46.828613",
     "exception": false,
     "start_time": "2022-02-09T12:12:46.789788",
     "status": "completed"
    },
    "tags": []
   },
   "outputs": [],
   "source": [
    "# hide\n",
    "# g['date'] = g['date'].astype('datetime64[ns]')"
   ]
  },
  {
   "cell_type": "code",
   "execution_count": 34,
   "id": "sophisticated-supervisor",
   "metadata": {
    "execution": {
     "iopub.execute_input": "2022-02-09T12:12:46.902823Z",
     "iopub.status.busy": "2022-02-09T12:12:46.901787Z",
     "iopub.status.idle": "2022-02-09T12:12:46.903879Z",
     "shell.execute_reply": "2022-02-09T12:12:46.904723Z"
    },
    "papermill": {
     "duration": 0.041852,
     "end_time": "2022-02-09T12:12:46.904943",
     "exception": false,
     "start_time": "2022-02-09T12:12:46.863091",
     "status": "completed"
    },
    "tags": []
   },
   "outputs": [],
   "source": [
    "#hide\n",
    "# g['date'] = g.date.dt.dayofyear"
   ]
  },
  {
   "cell_type": "code",
   "execution_count": 35,
   "id": "inside-dubai",
   "metadata": {
    "execution": {
     "iopub.execute_input": "2022-02-09T12:12:46.976820Z",
     "iopub.status.busy": "2022-02-09T12:12:46.976250Z",
     "iopub.status.idle": "2022-02-09T12:12:46.980088Z",
     "shell.execute_reply": "2022-02-09T12:12:46.979640Z"
    },
    "papermill": {
     "duration": 0.040779,
     "end_time": "2022-02-09T12:12:46.980204",
     "exception": false,
     "start_time": "2022-02-09T12:12:46.939425",
     "status": "completed"
    },
    "tags": []
   },
   "outputs": [],
   "source": [
    "#hide\n",
    "# g = g.rename(columns= {'continent':'group','country':'name','cases':'value'})"
   ]
  },
  {
   "cell_type": "code",
   "execution_count": 36,
   "id": "fleet-motorcycle",
   "metadata": {
    "execution": {
     "iopub.execute_input": "2022-02-09T12:12:47.051056Z",
     "iopub.status.busy": "2022-02-09T12:12:47.050055Z",
     "iopub.status.idle": "2022-02-09T12:12:47.052121Z",
     "shell.execute_reply": "2022-02-09T12:12:47.052910Z"
    },
    "papermill": {
     "duration": 0.039537,
     "end_time": "2022-02-09T12:12:47.053124",
     "exception": false,
     "start_time": "2022-02-09T12:12:47.013587",
     "status": "completed"
    },
    "tags": []
   },
   "outputs": [],
   "source": [
    "#hide\n",
    "# cols = ['name','group','day','value']"
   ]
  },
  {
   "cell_type": "code",
   "execution_count": 37,
   "id": "continued-sleeping",
   "metadata": {
    "execution": {
     "iopub.execute_input": "2022-02-09T12:12:47.127908Z",
     "iopub.status.busy": "2022-02-09T12:12:47.127186Z",
     "iopub.status.idle": "2022-02-09T12:12:47.130647Z",
     "shell.execute_reply": "2022-02-09T12:12:47.131090Z"
    },
    "papermill": {
     "duration": 0.042324,
     "end_time": "2022-02-09T12:12:47.131220",
     "exception": false,
     "start_time": "2022-02-09T12:12:47.088896",
     "status": "completed"
    },
    "tags": []
   },
   "outputs": [],
   "source": [
    "#hide\n",
    "# g.rename(columns= {'date':'day'},inplace = True)"
   ]
  },
  {
   "cell_type": "code",
   "execution_count": 38,
   "id": "major-fight",
   "metadata": {
    "execution": {
     "iopub.execute_input": "2022-02-09T12:12:47.203034Z",
     "iopub.status.busy": "2022-02-09T12:12:47.202445Z",
     "iopub.status.idle": "2022-02-09T12:12:47.204852Z",
     "shell.execute_reply": "2022-02-09T12:12:47.205352Z"
    },
    "papermill": {
     "duration": 0.040047,
     "end_time": "2022-02-09T12:12:47.205490",
     "exception": false,
     "start_time": "2022-02-09T12:12:47.165443",
     "status": "completed"
    },
    "tags": []
   },
   "outputs": [],
   "source": [
    "#hide\n",
    "# g = g[cols]"
   ]
  },
  {
   "cell_type": "code",
   "execution_count": 39,
   "id": "structured-mobile",
   "metadata": {
    "execution": {
     "iopub.execute_input": "2022-02-09T12:12:47.279270Z",
     "iopub.status.busy": "2022-02-09T12:12:47.278466Z",
     "iopub.status.idle": "2022-02-09T12:12:47.282452Z",
     "shell.execute_reply": "2022-02-09T12:12:47.282898Z"
    },
    "papermill": {
     "duration": 0.042341,
     "end_time": "2022-02-09T12:12:47.283035",
     "exception": false,
     "start_time": "2022-02-09T12:12:47.240694",
     "status": "completed"
    },
    "tags": []
   },
   "outputs": [],
   "source": [
    "# #hide\n",
    "# g = g[g.group.notna()]"
   ]
  },
  {
   "cell_type": "code",
   "execution_count": 40,
   "id": "determined-closing",
   "metadata": {
    "execution": {
     "iopub.execute_input": "2022-02-09T12:12:47.354378Z",
     "iopub.status.busy": "2022-02-09T12:12:47.353593Z",
     "iopub.status.idle": "2022-02-09T12:12:47.355880Z",
     "shell.execute_reply": "2022-02-09T12:12:47.355154Z"
    },
    "papermill": {
     "duration": 0.039478,
     "end_time": "2022-02-09T12:12:47.356023",
     "exception": false,
     "start_time": "2022-02-09T12:12:47.316545",
     "status": "completed"
    },
    "tags": []
   },
   "outputs": [],
   "source": [
    "# #hide\n",
    "# colors = dict(zip(\n",
    "#     [\"Oceania\", \"Europe\", \"Asia\", \"South America\", \"Middle East\", \"North America\", \"Africa\"],\n",
    "#     [\"#adb0ff\", \"#ffb3ff\", \"#90d595\", \"#e48381\", \"#aafbff\", \"#f7bb5f\", \"#eafb50\"]\n",
    "# ))\n",
    "# group_lk = g.set_index('name')['group'].to_dict()"
   ]
  },
  {
   "cell_type": "code",
   "execution_count": null,
   "id": "gross-drinking",
   "metadata": {
    "papermill": {
     "duration": 0.032795,
     "end_time": "2022-02-09T12:12:47.423059",
     "exception": false,
     "start_time": "2022-02-09T12:12:47.390264",
     "status": "completed"
    },
    "tags": []
   },
   "outputs": [],
   "source": []
  },
  {
   "cell_type": "code",
   "execution_count": 41,
   "id": "subject-macintosh",
   "metadata": {
    "execution": {
     "iopub.execute_input": "2022-02-09T12:12:47.494259Z",
     "iopub.status.busy": "2022-02-09T12:12:47.493662Z",
     "iopub.status.idle": "2022-02-09T12:12:47.495840Z",
     "shell.execute_reply": "2022-02-09T12:12:47.496283Z"
    },
    "papermill": {
     "duration": 0.03994,
     "end_time": "2022-02-09T12:12:47.496419",
     "exception": false,
     "start_time": "2022-02-09T12:12:47.456479",
     "status": "completed"
    },
    "tags": []
   },
   "outputs": [],
   "source": [
    "# #hide\n",
    "# fig, ax = plt.subplots(figsize=(15, 8))\n",
    "\n",
    "# def draw_barchart(current_day):\n",
    "#     dff = g[g['day'].eq(current_day)].sort_values(by='value', ascending=True).tail(10)\n",
    "#     ax.clear()\n",
    "#     ax.barh(dff['name'], dff['value'], color=[colors[group_lk[x]] for x in dff['name']])\n",
    "#     dx = dff['value'].max() / 200\n",
    "    \n",
    "#     for i, (value, name) in enumerate(zip(dff['value'], dff['name'])):\n",
    "#         ax.text(value-dx, i,     name,           size=14, weight=600, ha='right', va='bottom')\n",
    "#         ax.text(value-dx, i-.25, group_lk[name], size=10, color='#444444', ha='right', va='baseline')\n",
    "#         ax.text(value+dx, i,     f'{value:,.0f}',  size=14, ha='left',  va='center')\n",
    "#     ax.text(1, 0.4, current_day, transform=ax.transAxes, color='#777777', size=46, ha='right', weight=800)\n",
    "#     ax.text(0, 1.06, 'Population (thousands)', transform=ax.transAxes, size=12, color='#777777')\n",
    "#     ax.xaxis.set_major_formatter(ticker.StrMethodFormatter('{x:,.0f}'))\n",
    "#     ax.xaxis.set_ticks_position('top')\n",
    "#     ax.tick_params(axis='x', colors='#777777', labelsize=12)\n",
    "#     ax.set_yticks([])\n",
    "#     ax.margins(0, 0.01)\n",
    "#     ax.grid(which='major', axis='x', linestyle='-')\n",
    "#     ax.set_axisbelow(True)\n",
    "    \n",
    "#     ax.text(0, 1.15, 'Coronavirus',\n",
    "#             transform=ax.transAxes, size=24, weight=600, ha='left', va='top')\n",
    "# #     ax.text(1, 0, 'by @pratapvardhan; credit @jburnmurdoch', transform=ax.transAxes, color='#777777', ha='right',\n",
    "# #             bbox=dict(facecolor='white', alpha=0.8, edgecolor='white'))\n",
    "#     plt.box(False)"
   ]
  },
  {
   "cell_type": "code",
   "execution_count": 42,
   "id": "sexual-wages",
   "metadata": {
    "execution": {
     "iopub.execute_input": "2022-02-09T12:12:47.567464Z",
     "iopub.status.busy": "2022-02-09T12:12:47.566508Z",
     "iopub.status.idle": "2022-02-09T12:12:47.571360Z",
     "shell.execute_reply": "2022-02-09T12:12:47.572105Z"
    },
    "papermill": {
     "duration": 0.043655,
     "end_time": "2022-02-09T12:12:47.572312",
     "exception": false,
     "start_time": "2022-02-09T12:12:47.528657",
     "status": "completed"
    },
    "tags": []
   },
   "outputs": [],
   "source": [
    "# #hide_input\n",
    "# fig, ax = plt.subplots(figsize=(15, 8))\n",
    "# animator = animation.FuncAnimation(fig, draw_barchart, frames=range(g.day.values.min(), g.day.values.max()))\n",
    "# HTML(animator.to_jshtml())\n",
    "# # or use animator.to_html5_video() or animator.save() "
   ]
  },
  {
   "cell_type": "code",
   "execution_count": null,
   "id": "australian-container",
   "metadata": {
    "papermill": {
     "duration": 0.03213,
     "end_time": "2022-02-09T12:12:47.637321",
     "exception": false,
     "start_time": "2022-02-09T12:12:47.605191",
     "status": "completed"
    },
    "tags": []
   },
   "outputs": [],
   "source": []
  },
  {
   "cell_type": "code",
   "execution_count": null,
   "id": "mediterranean-pontiac",
   "metadata": {
    "papermill": {
     "duration": 0.031948,
     "end_time": "2022-02-09T12:12:47.701429",
     "exception": false,
     "start_time": "2022-02-09T12:12:47.669481",
     "status": "completed"
    },
    "tags": []
   },
   "outputs": [],
   "source": []
  },
  {
   "cell_type": "code",
   "execution_count": null,
   "id": "aging-legislature",
   "metadata": {
    "papermill": {
     "duration": 0.031686,
     "end_time": "2022-02-09T12:12:47.764993",
     "exception": false,
     "start_time": "2022-02-09T12:12:47.733307",
     "status": "completed"
    },
    "tags": []
   },
   "outputs": [],
   "source": []
  }
 ],
 "metadata": {
  "kernelspec": {
   "display_name": "Python 3",
   "language": "python",
   "name": "python3"
  },
  "language_info": {
   "codemirror_mode": {
    "name": "ipython",
    "version": 3
   },
   "file_extension": ".py",
   "mimetype": "text/x-python",
   "name": "python",
   "nbconvert_exporter": "python",
   "pygments_lexer": "ipython3",
   "version": "3.6.15"
  },
  "papermill": {
   "duration": 6.413661,
   "end_time": "2022-02-09T12:12:48.117418",
   "environment_variables": {},
   "exception": null,
   "input_path": "2020-03-21-covid19exp.ipynb",
   "output_path": "2020-03-21-covid19exp.ipynb",
   "parameters": {},
   "start_time": "2022-02-09T12:12:41.703757",
   "version": "2.0.0"
  }
 },
 "nbformat": 4,
 "nbformat_minor": 5
}