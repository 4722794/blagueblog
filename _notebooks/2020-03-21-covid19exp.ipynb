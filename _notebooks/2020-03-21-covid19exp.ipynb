{
 "cells": [
  {
   "cell_type": "markdown",
   "id": "muslim-click",
   "metadata": {
    "papermill": {
     "duration": 0.040788,
     "end_time": "2022-08-10T00:43:07.887807",
     "exception": false,
     "start_time": "2022-08-10T00:43:07.847019",
     "status": "completed"
    },
    "tags": []
   },
   "source": [
    "# COVID-19 Case Race\n",
    "> A race chart to see rising cases around the world\n",
    "\n",
    "- author: Hargun Oberoi\n",
    "- image: images/covid-overview.png\n",
    "- hide: false\n",
    "- badges: false"
   ]
  },
  {
   "cell_type": "code",
   "execution_count": 1,
   "id": "proof-material",
   "metadata": {
    "execution": {
     "iopub.execute_input": "2022-08-10T00:43:07.961650Z",
     "iopub.status.busy": "2022-08-10T00:43:07.961101Z",
     "iopub.status.idle": "2022-08-10T00:43:08.330060Z",
     "shell.execute_reply": "2022-08-10T00:43:08.329073Z"
    },
    "papermill": {
     "duration": 0.410452,
     "end_time": "2022-08-10T00:43:08.330301",
     "exception": false,
     "start_time": "2022-08-10T00:43:07.919849",
     "status": "completed"
    },
    "tags": []
   },
   "outputs": [],
   "source": [
    "#hide\n",
    "import numpy as np\n",
    "import pandas as pd\n",
    "from jinja2 import Template\n",
    "from IPython.display import HTML"
   ]
  },
  {
   "cell_type": "code",
   "execution_count": 2,
   "id": "developed-terminology",
   "metadata": {
    "execution": {
     "iopub.execute_input": "2022-08-10T00:43:08.403711Z",
     "iopub.status.busy": "2022-08-10T00:43:08.403060Z",
     "iopub.status.idle": "2022-08-10T00:43:08.405878Z",
     "shell.execute_reply": "2022-08-10T00:43:08.406419Z"
    },
    "papermill": {
     "duration": 0.042717,
     "end_time": "2022-08-10T00:43:08.406570",
     "exception": false,
     "start_time": "2022-08-10T00:43:08.363853",
     "status": "completed"
    },
    "tags": []
   },
   "outputs": [],
   "source": [
    "#hide\n",
    "\n",
    "# FETCH\n",
    "base_url = 'https://raw.githubusercontent.com/pratapvardhan/notebooks/master/covid19/'\n",
    "paths = {\n",
    "    'mapping': base_url + 'mapping_countries.csv',\n",
    "    'overview': base_url + 'overview.tpl'\n",
    "}"
   ]
  },
  {
   "cell_type": "code",
   "execution_count": 3,
   "id": "dynamic-saver",
   "metadata": {
    "execution": {
     "iopub.execute_input": "2022-08-10T00:43:08.480919Z",
     "iopub.status.busy": "2022-08-10T00:43:08.477570Z",
     "iopub.status.idle": "2022-08-10T00:43:08.484630Z",
     "shell.execute_reply": "2022-08-10T00:43:08.483971Z"
    },
    "papermill": {
     "duration": 0.047425,
     "end_time": "2022-08-10T00:43:08.484762",
     "exception": false,
     "start_time": "2022-08-10T00:43:08.437337",
     "status": "completed"
    },
    "tags": []
   },
   "outputs": [
    {
     "data": {
      "text/plain": [
       "'https://raw.githubusercontent.com/pratapvardhan/notebooks/master/covid19/mapping_countries.csv'"
      ]
     },
     "execution_count": 3,
     "metadata": {},
     "output_type": "execute_result"
    }
   ],
   "source": [
    "#hide\n",
    "paths['mapping']"
   ]
  },
  {
   "cell_type": "code",
   "execution_count": 4,
   "id": "urban-software",
   "metadata": {
    "execution": {
     "iopub.execute_input": "2022-08-10T00:43:08.556238Z",
     "iopub.status.busy": "2022-08-10T00:43:08.555052Z",
     "iopub.status.idle": "2022-08-10T00:43:08.558269Z",
     "shell.execute_reply": "2022-08-10T00:43:08.557760Z"
    },
    "papermill": {
     "duration": 0.042362,
     "end_time": "2022-08-10T00:43:08.558465",
     "exception": false,
     "start_time": "2022-08-10T00:43:08.516103",
     "status": "completed"
    },
    "tags": []
   },
   "outputs": [],
   "source": [
    "#hide\n",
    "def get_mappings(url):\n",
    "    df = pd.read_csv(url)\n",
    "    return {\n",
    "        'df': df,\n",
    "        'replace.country': dict(df.dropna(subset=['Name']).set_index('Country')['Name']),\n",
    "        'map.continent': dict(df.set_index('Name')['Continent'])\n",
    "    }"
   ]
  },
  {
   "cell_type": "code",
   "execution_count": 5,
   "id": "intimate-machinery",
   "metadata": {
    "execution": {
     "iopub.execute_input": "2022-08-10T00:43:08.628541Z",
     "iopub.status.busy": "2022-08-10T00:43:08.627871Z",
     "iopub.status.idle": "2022-08-10T00:43:08.680452Z",
     "shell.execute_reply": "2022-08-10T00:43:08.679905Z"
    },
    "papermill": {
     "duration": 0.090155,
     "end_time": "2022-08-10T00:43:08.680575",
     "exception": false,
     "start_time": "2022-08-10T00:43:08.590420",
     "status": "completed"
    },
    "tags": []
   },
   "outputs": [],
   "source": [
    "#hide\n",
    "mapping = get_mappings(paths['mapping'])"
   ]
  },
  {
   "cell_type": "code",
   "execution_count": 6,
   "id": "certified-tactics",
   "metadata": {
    "execution": {
     "iopub.execute_input": "2022-08-10T00:43:08.748759Z",
     "iopub.status.busy": "2022-08-10T00:43:08.748079Z",
     "iopub.status.idle": "2022-08-10T00:43:08.754954Z",
     "shell.execute_reply": "2022-08-10T00:43:08.754394Z"
    },
    "papermill": {
     "duration": 0.042817,
     "end_time": "2022-08-10T00:43:08.755076",
     "exception": false,
     "start_time": "2022-08-10T00:43:08.712259",
     "status": "completed"
    },
    "tags": []
   },
   "outputs": [],
   "source": [
    "#hide\n",
    "def get_template(path):\n",
    "    from urllib.parse import urlparse\n",
    "    if bool(urlparse(path).netloc):\n",
    "        from urllib.request import urlopen\n",
    "        return urlopen(path).read().decode('utf8')\n",
    "    return open(path).read()"
   ]
  },
  {
   "cell_type": "code",
   "execution_count": 7,
   "id": "realistic-blast",
   "metadata": {
    "execution": {
     "iopub.execute_input": "2022-08-10T00:43:08.823918Z",
     "iopub.status.busy": "2022-08-10T00:43:08.822989Z",
     "iopub.status.idle": "2022-08-10T00:43:08.825645Z",
     "shell.execute_reply": "2022-08-10T00:43:08.825138Z"
    },
    "papermill": {
     "duration": 0.040771,
     "end_time": "2022-08-10T00:43:08.825764",
     "exception": false,
     "start_time": "2022-08-10T00:43:08.784993",
     "status": "completed"
    },
    "tags": []
   },
   "outputs": [],
   "source": [
    "#hide\n",
    "def get_frame(name):\n",
    "    url = (\n",
    "        'https://raw.githubusercontent.com/CSSEGISandData/COVID-19/master/csse_covid_19_data/'\n",
    "        f'csse_covid_19_time_series/time_series_covid19_{name}_global.csv')\n",
    "    df = pd.read_csv(url)\n",
    "    # rename countries\n",
    "    df['Country/Region'] = df['Country/Region'].replace(mapping['replace.country'])\n",
    "    return df"
   ]
  },
  {
   "cell_type": "code",
   "execution_count": 8,
   "id": "affiliated-characterization",
   "metadata": {
    "execution": {
     "iopub.execute_input": "2022-08-10T00:43:08.897250Z",
     "iopub.status.busy": "2022-08-10T00:43:08.896604Z",
     "iopub.status.idle": "2022-08-10T00:43:08.901179Z",
     "shell.execute_reply": "2022-08-10T00:43:08.901675Z"
    },
    "papermill": {
     "duration": 0.044048,
     "end_time": "2022-08-10T00:43:08.901828",
     "exception": false,
     "start_time": "2022-08-10T00:43:08.857780",
     "status": "completed"
    },
    "tags": []
   },
   "outputs": [],
   "source": [
    "#hide\n",
    "def get_dates(df):\n",
    "    dt_cols = df.columns[~df.columns.isin(['Province/State', 'Country/Region', 'Lat', 'Long'])]\n",
    "    LAST_DATE_I = -1\n",
    "    # sometimes last column may be empty, then go backwards\n",
    "    for i in range(-1, -len(dt_cols), -1):\n",
    "        if not df[dt_cols[i]].fillna(0).eq(0).all():\n",
    "            LAST_DATE_I = i\n",
    "            break\n",
    "    return LAST_DATE_I, dt_cols"
   ]
  },
  {
   "cell_type": "code",
   "execution_count": 9,
   "id": "recent-optimization",
   "metadata": {
    "execution": {
     "iopub.execute_input": "2022-08-10T00:43:08.972268Z",
     "iopub.status.busy": "2022-08-10T00:43:08.971043Z",
     "iopub.status.idle": "2022-08-10T00:43:09.535399Z",
     "shell.execute_reply": "2022-08-10T00:43:09.534751Z"
    },
    "papermill": {
     "duration": 0.602418,
     "end_time": "2022-08-10T00:43:09.535547",
     "exception": false,
     "start_time": "2022-08-10T00:43:08.933129",
     "status": "completed"
    },
    "tags": []
   },
   "outputs": [],
   "source": [
    "#hide\n",
    "COL_REGION = 'Country/Region'\n",
    "# Confirmed, Recovered, Deaths\n",
    "df = get_frame('confirmed')\n",
    "# dft_: timeseries, dfc_: today country agg\n",
    "dft_cases = df\n",
    "dft_deaths = get_frame('deaths')\n",
    "dft_recovered = get_frame('recovered')\n",
    "LAST_DATE_I, dt_cols = get_dates(df)"
   ]
  },
  {
   "cell_type": "code",
   "execution_count": 10,
   "id": "absolute-copper",
   "metadata": {
    "execution": {
     "iopub.execute_input": "2022-08-10T00:43:09.608110Z",
     "iopub.status.busy": "2022-08-10T00:43:09.607481Z",
     "iopub.status.idle": "2022-08-10T00:43:09.610045Z",
     "shell.execute_reply": "2022-08-10T00:43:09.610570Z"
    },
    "papermill": {
     "duration": 0.042382,
     "end_time": "2022-08-10T00:43:09.610707",
     "exception": false,
     "start_time": "2022-08-10T00:43:09.568325",
     "status": "completed"
    },
    "tags": []
   },
   "outputs": [],
   "source": [
    "#hide\n",
    "LAST_DATE_I, dt_cols = get_dates(df)\n",
    "dt_today =dt_cols[LAST_DATE_I]\n",
    "# dt_5day = dt_cols[LAST_DATE_I - 5]\n",
    "dt_yday = dt_cols[LAST_DATE_I - 1]"
   ]
  },
  {
   "cell_type": "code",
   "execution_count": 11,
   "id": "restricted-sheriff",
   "metadata": {
    "execution": {
     "iopub.execute_input": "2022-08-10T00:43:09.683231Z",
     "iopub.status.busy": "2022-08-10T00:43:09.682508Z",
     "iopub.status.idle": "2022-08-10T00:43:09.692447Z",
     "shell.execute_reply": "2022-08-10T00:43:09.693002Z"
    },
    "papermill": {
     "duration": 0.049497,
     "end_time": "2022-08-10T00:43:09.693161",
     "exception": false,
     "start_time": "2022-08-10T00:43:09.643664",
     "status": "completed"
    },
    "tags": []
   },
   "outputs": [],
   "source": [
    "#hide\n",
    "dfc_cases = dft_cases.groupby(COL_REGION)[dt_today].sum()\n",
    "dfc_deaths = dft_deaths.groupby(COL_REGION)[dt_today].sum()\n",
    "# dfp_cases = dft_cases.groupby(COL_REGION)[dt_5day].sum()\n",
    "# dfp_deaths = dft_deaths.groupby(COL_REGION)[dt_5day].sum()\n",
    "dfp_cases = dft_cases.groupby(COL_REGION)[dt_yday].sum()\n",
    "dfp_deaths = dft_deaths.groupby(COL_REGION)[dt_yday].sum()"
   ]
  },
  {
   "cell_type": "code",
   "execution_count": 12,
   "id": "deluxe-hepatitis",
   "metadata": {
    "execution": {
     "iopub.execute_input": "2022-08-10T00:43:09.761541Z",
     "iopub.status.busy": "2022-08-10T00:43:09.760940Z",
     "iopub.status.idle": "2022-08-10T00:43:09.765786Z",
     "shell.execute_reply": "2022-08-10T00:43:09.766237Z"
    },
    "papermill": {
     "duration": 0.042096,
     "end_time": "2022-08-10T00:43:09.766358",
     "exception": false,
     "start_time": "2022-08-10T00:43:09.724262",
     "status": "completed"
    },
    "tags": []
   },
   "outputs": [],
   "source": [
    "#hide\n",
    "df_table = (pd.DataFrame(dict(Cases = dfc_cases, Deaths = dfc_deaths, PCases = dfp_cases, PDeaths = dfp_deaths))\n",
    "            .sort_values(by = ['Cases','Deaths'], ascending = [False, False])\n",
    "            .reset_index())"
   ]
  },
  {
   "cell_type": "code",
   "execution_count": 13,
   "id": "educational-chancellor",
   "metadata": {
    "execution": {
     "iopub.execute_input": "2022-08-10T00:43:09.845539Z",
     "iopub.status.busy": "2022-08-10T00:43:09.844860Z",
     "iopub.status.idle": "2022-08-10T00:43:09.858037Z",
     "shell.execute_reply": "2022-08-10T00:43:09.858526Z"
    },
    "papermill": {
     "duration": 0.06166,
     "end_time": "2022-08-10T00:43:09.858663",
     "exception": false,
     "start_time": "2022-08-10T00:43:09.797003",
     "status": "completed"
    },
    "tags": []
   },
   "outputs": [
    {
     "data": {
      "text/html": [
       "<div>\n",
       "<style scoped>\n",
       "    .dataframe tbody tr th:only-of-type {\n",
       "        vertical-align: middle;\n",
       "    }\n",
       "\n",
       "    .dataframe tbody tr th {\n",
       "        vertical-align: top;\n",
       "    }\n",
       "\n",
       "    .dataframe thead th {\n",
       "        text-align: right;\n",
       "    }\n",
       "</style>\n",
       "<table border=\"1\" class=\"dataframe\">\n",
       "  <thead>\n",
       "    <tr style=\"text-align: right;\">\n",
       "      <th></th>\n",
       "      <th>Country/Region</th>\n",
       "      <th>Cases</th>\n",
       "      <th>Deaths</th>\n",
       "      <th>PCases</th>\n",
       "      <th>PDeaths</th>\n",
       "      <th>Cases (+)</th>\n",
       "      <th>Deaths (+)</th>\n",
       "      <th>Fatality Rate</th>\n",
       "      <th>Continent</th>\n",
       "    </tr>\n",
       "  </thead>\n",
       "  <tbody>\n",
       "    <tr>\n",
       "      <th>0</th>\n",
       "      <td>US</td>\n",
       "      <td>92241199</td>\n",
       "      <td>1034020</td>\n",
       "      <td>92112922</td>\n",
       "      <td>1033556</td>\n",
       "      <td>128277</td>\n",
       "      <td>464</td>\n",
       "      <td>1.12</td>\n",
       "      <td>North America</td>\n",
       "    </tr>\n",
       "    <tr>\n",
       "      <th>1</th>\n",
       "      <td>India</td>\n",
       "      <td>44174650</td>\n",
       "      <td>526772</td>\n",
       "      <td>44145709</td>\n",
       "      <td>526689</td>\n",
       "      <td>28941</td>\n",
       "      <td>83</td>\n",
       "      <td>1.19</td>\n",
       "      <td>Asia</td>\n",
       "    </tr>\n",
       "    <tr>\n",
       "      <th>2</th>\n",
       "      <td>France</td>\n",
       "      <td>34292342</td>\n",
       "      <td>153751</td>\n",
       "      <td>34237067</td>\n",
       "      <td>153577</td>\n",
       "      <td>55275</td>\n",
       "      <td>174</td>\n",
       "      <td>0.45</td>\n",
       "      <td>Europe</td>\n",
       "    </tr>\n",
       "    <tr>\n",
       "      <th>3</th>\n",
       "      <td>Brazil</td>\n",
       "      <td>34035780</td>\n",
       "      <td>680166</td>\n",
       "      <td>34018371</td>\n",
       "      <td>679996</td>\n",
       "      <td>17409</td>\n",
       "      <td>170</td>\n",
       "      <td>2.00</td>\n",
       "      <td>South America</td>\n",
       "    </tr>\n",
       "    <tr>\n",
       "      <th>4</th>\n",
       "      <td>Germany</td>\n",
       "      <td>31307020</td>\n",
       "      <td>145028</td>\n",
       "      <td>31228322</td>\n",
       "      <td>144858</td>\n",
       "      <td>78698</td>\n",
       "      <td>170</td>\n",
       "      <td>0.46</td>\n",
       "      <td>Europe</td>\n",
       "    </tr>\n",
       "  </tbody>\n",
       "</table>\n",
       "</div>"
      ],
      "text/plain": [
       "  Country/Region     Cases   Deaths    PCases  PDeaths  Cases (+)  Deaths (+)  \\\n",
       "0             US  92241199  1034020  92112922  1033556     128277         464   \n",
       "1          India  44174650   526772  44145709   526689      28941          83   \n",
       "2         France  34292342   153751  34237067   153577      55275         174   \n",
       "3         Brazil  34035780   680166  34018371   679996      17409         170   \n",
       "4        Germany  31307020   145028  31228322   144858      78698         170   \n",
       "\n",
       "   Fatality Rate      Continent  \n",
       "0           1.12  North America  \n",
       "1           1.19           Asia  \n",
       "2           0.45         Europe  \n",
       "3           2.00  South America  \n",
       "4           0.46         Europe  "
      ]
     },
     "execution_count": 13,
     "metadata": {},
     "output_type": "execute_result"
    }
   ],
   "source": [
    "#hide\n",
    "for c in 'Cases, Deaths'.split(', '):\n",
    "    df_table[f'{c} (+)'] = (df_table[c] - df_table[f'P{c}']).clip(0)\n",
    "    #Clip ça veut dire, les chiffres negatif sont interdit\n",
    "df_table['Fatality Rate'] = (100* df_table['Deaths']/ df_table['Cases']).round(2)\n",
    "df_table['Continent'] = df_table['Country/Region'].map(mapping['map.continent'])\n",
    "df_table.head(5)"
   ]
  },
  {
   "cell_type": "code",
   "execution_count": 14,
   "id": "aboriginal-bulgaria",
   "metadata": {
    "execution": {
     "iopub.execute_input": "2022-08-10T00:43:09.931030Z",
     "iopub.status.busy": "2022-08-10T00:43:09.930303Z",
     "iopub.status.idle": "2022-08-10T00:43:09.934112Z",
     "shell.execute_reply": "2022-08-10T00:43:09.934620Z"
    },
    "papermill": {
     "duration": 0.043881,
     "end_time": "2022-08-10T00:43:09.934761",
     "exception": false,
     "start_time": "2022-08-10T00:43:09.890880",
     "status": "completed"
    },
    "tags": []
   },
   "outputs": [],
   "source": [
    "#hide\n",
    "#delete problematic countries from table\n",
    "df_table = df_table[~df_table['Country/Region'].isin(['Cape Verde', 'Cruise Ship', 'Kosovo'])]"
   ]
  },
  {
   "cell_type": "code",
   "execution_count": 15,
   "id": "fantastic-effect",
   "metadata": {
    "execution": {
     "iopub.execute_input": "2022-08-10T00:43:10.007159Z",
     "iopub.status.busy": "2022-08-10T00:43:10.006435Z",
     "iopub.status.idle": "2022-08-10T00:43:10.026360Z",
     "shell.execute_reply": "2022-08-10T00:43:10.025607Z"
    },
    "papermill": {
     "duration": 0.060149,
     "end_time": "2022-08-10T00:43:10.026504",
     "exception": false,
     "start_time": "2022-08-10T00:43:09.966355",
     "status": "completed"
    },
    "tags": []
   },
   "outputs": [
    {
     "data": {
      "text/html": [
       "<div>\n",
       "<style scoped>\n",
       "    .dataframe tbody tr th:only-of-type {\n",
       "        vertical-align: middle;\n",
       "    }\n",
       "\n",
       "    .dataframe tbody tr th {\n",
       "        vertical-align: top;\n",
       "    }\n",
       "\n",
       "    .dataframe thead th {\n",
       "        text-align: right;\n",
       "    }\n",
       "</style>\n",
       "<table border=\"1\" class=\"dataframe\">\n",
       "  <thead>\n",
       "    <tr style=\"text-align: right;\">\n",
       "      <th></th>\n",
       "      <th>Country/Region</th>\n",
       "      <th>Cases</th>\n",
       "      <th>Deaths</th>\n",
       "      <th>PCases</th>\n",
       "      <th>PDeaths</th>\n",
       "      <th>Cases (+)</th>\n",
       "      <th>Deaths (+)</th>\n",
       "      <th>Fatality Rate</th>\n",
       "      <th>Continent</th>\n",
       "    </tr>\n",
       "  </thead>\n",
       "  <tbody>\n",
       "    <tr>\n",
       "      <th>0</th>\n",
       "      <td>US</td>\n",
       "      <td>92241199</td>\n",
       "      <td>1034020</td>\n",
       "      <td>92112922</td>\n",
       "      <td>1033556</td>\n",
       "      <td>128277</td>\n",
       "      <td>464</td>\n",
       "      <td>1.1</td>\n",
       "      <td>North America</td>\n",
       "    </tr>\n",
       "    <tr>\n",
       "      <th>1</th>\n",
       "      <td>India</td>\n",
       "      <td>44174650</td>\n",
       "      <td>526772</td>\n",
       "      <td>44145709</td>\n",
       "      <td>526689</td>\n",
       "      <td>28941</td>\n",
       "      <td>83</td>\n",
       "      <td>1.2</td>\n",
       "      <td>Asia</td>\n",
       "    </tr>\n",
       "    <tr>\n",
       "      <th>2</th>\n",
       "      <td>France</td>\n",
       "      <td>34292342</td>\n",
       "      <td>153751</td>\n",
       "      <td>34237067</td>\n",
       "      <td>153577</td>\n",
       "      <td>55275</td>\n",
       "      <td>174</td>\n",
       "      <td>0.4</td>\n",
       "      <td>Europe</td>\n",
       "    </tr>\n",
       "    <tr>\n",
       "      <th>3</th>\n",
       "      <td>Brazil</td>\n",
       "      <td>34035780</td>\n",
       "      <td>680166</td>\n",
       "      <td>34018371</td>\n",
       "      <td>679996</td>\n",
       "      <td>17409</td>\n",
       "      <td>170</td>\n",
       "      <td>2.0</td>\n",
       "      <td>South America</td>\n",
       "    </tr>\n",
       "    <tr>\n",
       "      <th>4</th>\n",
       "      <td>Germany</td>\n",
       "      <td>31307020</td>\n",
       "      <td>145028</td>\n",
       "      <td>31228322</td>\n",
       "      <td>144858</td>\n",
       "      <td>78698</td>\n",
       "      <td>170</td>\n",
       "      <td>0.5</td>\n",
       "      <td>Europe</td>\n",
       "    </tr>\n",
       "  </tbody>\n",
       "</table>\n",
       "</div>"
      ],
      "text/plain": [
       "  Country/Region     Cases   Deaths    PCases  PDeaths  Cases (+)  Deaths (+)  \\\n",
       "0             US  92241199  1034020  92112922  1033556     128277         464   \n",
       "1          India  44174650   526772  44145709   526689      28941          83   \n",
       "2         France  34292342   153751  34237067   153577      55275         174   \n",
       "3         Brazil  34035780   680166  34018371   679996      17409         170   \n",
       "4        Germany  31307020   145028  31228322   144858      78698         170   \n",
       "\n",
       "   Fatality Rate      Continent  \n",
       "0            1.1  North America  \n",
       "1            1.2           Asia  \n",
       "2            0.4         Europe  \n",
       "3            2.0  South America  \n",
       "4            0.5         Europe  "
      ]
     },
     "execution_count": 15,
     "metadata": {},
     "output_type": "execute_result"
    }
   ],
   "source": [
    "#hide\n",
    "df_table = (pd.DataFrame(dict(Cases=dfc_cases, Deaths=dfc_deaths, PCases=dfp_cases, PDeaths=dfp_deaths))\n",
    "             .sort_values(by=['Cases', 'Deaths'], ascending=[False, False])\n",
    "             .reset_index())\n",
    "df_table.rename(columns={'index': 'Country/Region'}, inplace=True)\n",
    "for c in 'Cases, Deaths'.split(', '):\n",
    "    df_table[f'{c} (+)'] = (df_table[c] - df_table[f'P{c}']).clip(0)  # DATA BUG\n",
    "df_table['Fatality Rate'] = (100 * df_table['Deaths'] / df_table['Cases']).round(1)\n",
    "df_table['Continent'] = df_table['Country/Region'].map(mapping['map.continent'])\n",
    "df_table.head(5)"
   ]
  },
  {
   "cell_type": "code",
   "execution_count": 16,
   "id": "fewer-occasion",
   "metadata": {
    "execution": {
     "iopub.execute_input": "2022-08-10T00:43:10.102827Z",
     "iopub.status.busy": "2022-08-10T00:43:10.102202Z",
     "iopub.status.idle": "2022-08-10T00:43:10.105069Z",
     "shell.execute_reply": "2022-08-10T00:43:10.105560Z"
    },
    "papermill": {
     "duration": 0.043537,
     "end_time": "2022-08-10T00:43:10.105697",
     "exception": false,
     "start_time": "2022-08-10T00:43:10.062160",
     "status": "completed"
    },
    "tags": []
   },
   "outputs": [],
   "source": [
    "#hide\n",
    "#delete problematic countries from table\n",
    "df_table = df_table[~df_table['Country/Region'].isin(['Cape Verde', 'Cruise Ship', 'Kosovo'])]"
   ]
  },
  {
   "cell_type": "code",
   "execution_count": 17,
   "id": "related-center",
   "metadata": {
    "execution": {
     "iopub.execute_input": "2022-08-10T00:43:10.182248Z",
     "iopub.status.busy": "2022-08-10T00:43:10.181557Z",
     "iopub.status.idle": "2022-08-10T00:43:10.198697Z",
     "shell.execute_reply": "2022-08-10T00:43:10.197944Z"
    },
    "papermill": {
     "duration": 0.060302,
     "end_time": "2022-08-10T00:43:10.198864",
     "exception": false,
     "start_time": "2022-08-10T00:43:10.138562",
     "status": "completed"
    },
    "tags": []
   },
   "outputs": [],
   "source": [
    "#hide\n",
    "metrics = [df_table.columns[index] for index in [1,2,5,6]]\n",
    "# s_china = df_table[df_table['Country/Region'].eq('China')][metrics].sum().add_prefix('China ')\n",
    "s_us = df_table[df_table['Country/Region'].eq('US')][metrics].sum().add_prefix('US ')\n",
    "s_eu = df_table[df_table['Continent'].eq('Europe')][metrics].sum().add_prefix('EU ')\n",
    "s_ind = df_table[df_table['Country/Region'].eq('India')][metrics].sum().add_prefix('India ')\n",
    "summary = {'updated': pd.to_datetime(dt_today), 'since': pd.to_datetime(dt_yday)}\n",
    "summary = {'updated': pd.to_datetime(dt_today), 'since': pd.to_datetime(dt_yday)}\n",
    "summary = {**summary, **df_table[metrics].sum(), **s_ind, **s_us, **s_eu}"
   ]
  },
  {
   "cell_type": "code",
   "execution_count": 18,
   "id": "engaging-syndrome",
   "metadata": {
    "execution": {
     "iopub.execute_input": "2022-08-10T00:43:10.276898Z",
     "iopub.status.busy": "2022-08-10T00:43:10.276246Z",
     "iopub.status.idle": "2022-08-10T00:43:10.297938Z",
     "shell.execute_reply": "2022-08-10T00:43:10.297391Z"
    },
    "papermill": {
     "duration": 0.06339,
     "end_time": "2022-08-10T00:43:10.298062",
     "exception": false,
     "start_time": "2022-08-10T00:43:10.234672",
     "status": "completed"
    },
    "tags": []
   },
   "outputs": [],
   "source": [
    "#hide\n",
    "dft_ct_new_cases = dft_cases.groupby(COL_REGION)[dt_cols].sum().diff(axis=1).fillna(0).astype(int)"
   ]
  },
  {
   "cell_type": "code",
   "execution_count": 19,
   "id": "neutral-assignment",
   "metadata": {
    "execution": {
     "iopub.execute_input": "2022-08-10T00:43:10.371892Z",
     "iopub.status.busy": "2022-08-10T00:43:10.371188Z",
     "iopub.status.idle": "2022-08-10T00:43:10.373751Z",
     "shell.execute_reply": "2022-08-10T00:43:10.374404Z"
    },
    "papermill": {
     "duration": 0.043194,
     "end_time": "2022-08-10T00:43:10.374560",
     "exception": false,
     "start_time": "2022-08-10T00:43:10.331366",
     "status": "completed"
    },
    "tags": []
   },
   "outputs": [],
   "source": [
    "#hide\n",
    "everydaycases = dft_ct_new_cases.cumsum(axis=1)"
   ]
  },
  {
   "cell_type": "code",
   "execution_count": 20,
   "id": "parliamentary-calgary",
   "metadata": {
    "execution": {
     "iopub.execute_input": "2022-08-10T00:43:10.448110Z",
     "iopub.status.busy": "2022-08-10T00:43:10.447432Z",
     "iopub.status.idle": "2022-08-10T00:43:11.075144Z",
     "shell.execute_reply": "2022-08-10T00:43:11.073817Z"
    },
    "papermill": {
     "duration": 0.666263,
     "end_time": "2022-08-10T00:43:11.075306",
     "exception": false,
     "start_time": "2022-08-10T00:43:10.409043",
     "status": "completed"
    },
    "tags": []
   },
   "outputs": [],
   "source": [
    "#hide\n",
    "import pandas as pd\n",
    "import matplotlib.pyplot as plt\n",
    "import matplotlib.ticker as ticker\n",
    "import matplotlib.animation as animation\n",
    "from IPython.display import HTML"
   ]
  },
  {
   "cell_type": "code",
   "execution_count": 21,
   "id": "lasting-extraction",
   "metadata": {
    "execution": {
     "iopub.execute_input": "2022-08-10T00:43:11.146800Z",
     "iopub.status.busy": "2022-08-10T00:43:11.146161Z",
     "iopub.status.idle": "2022-08-10T00:43:11.153410Z",
     "shell.execute_reply": "2022-08-10T00:43:11.153973Z"
    },
    "papermill": {
     "duration": 0.046517,
     "end_time": "2022-08-10T00:43:11.154121",
     "exception": false,
     "start_time": "2022-08-10T00:43:11.107604",
     "status": "completed"
    },
    "tags": []
   },
   "outputs": [],
   "source": [
    "#hide\n",
    "t = everydaycases.stack()"
   ]
  },
  {
   "cell_type": "code",
   "execution_count": 22,
   "id": "premier-sleeve",
   "metadata": {
    "execution": {
     "iopub.execute_input": "2022-08-10T00:43:11.223133Z",
     "iopub.status.busy": "2022-08-10T00:43:11.222473Z",
     "iopub.status.idle": "2022-08-10T00:43:11.236039Z",
     "shell.execute_reply": "2022-08-10T00:43:11.235567Z"
    },
    "papermill": {
     "duration": 0.051899,
     "end_time": "2022-08-10T00:43:11.236170",
     "exception": false,
     "start_time": "2022-08-10T00:43:11.184271",
     "status": "completed"
    },
    "tags": []
   },
   "outputs": [],
   "source": [
    "#hide\n",
    "g = t.reset_index(['Country/Region'])"
   ]
  },
  {
   "cell_type": "code",
   "execution_count": 23,
   "id": "distributed-pittsburgh",
   "metadata": {
    "execution": {
     "iopub.execute_input": "2022-08-10T00:43:11.306773Z",
     "iopub.status.busy": "2022-08-10T00:43:11.305399Z",
     "iopub.status.idle": "2022-08-10T00:43:11.309582Z",
     "shell.execute_reply": "2022-08-10T00:43:11.309027Z"
    },
    "papermill": {
     "duration": 0.040967,
     "end_time": "2022-08-10T00:43:11.309711",
     "exception": false,
     "start_time": "2022-08-10T00:43:11.268744",
     "status": "completed"
    },
    "tags": []
   },
   "outputs": [],
   "source": [
    "#hide\n",
    "g.index.name = 'date'"
   ]
  },
  {
   "cell_type": "code",
   "execution_count": 24,
   "id": "naked-donor",
   "metadata": {
    "execution": {
     "iopub.execute_input": "2022-08-10T00:43:11.379737Z",
     "iopub.status.busy": "2022-08-10T00:43:11.378525Z",
     "iopub.status.idle": "2022-08-10T00:43:11.381011Z",
     "shell.execute_reply": "2022-08-10T00:43:11.381888Z"
    },
    "papermill": {
     "duration": 0.040126,
     "end_time": "2022-08-10T00:43:11.382115",
     "exception": false,
     "start_time": "2022-08-10T00:43:11.341989",
     "status": "completed"
    },
    "tags": []
   },
   "outputs": [],
   "source": [
    "# #hide\n",
    "# g = g.reset_index(['date'])"
   ]
  },
  {
   "cell_type": "code",
   "execution_count": 25,
   "id": "incomplete-mustang",
   "metadata": {
    "execution": {
     "iopub.execute_input": "2022-08-10T00:43:11.454675Z",
     "iopub.status.busy": "2022-08-10T00:43:11.453986Z",
     "iopub.status.idle": "2022-08-10T00:43:11.458400Z",
     "shell.execute_reply": "2022-08-10T00:43:11.457886Z"
    },
    "papermill": {
     "duration": 0.041924,
     "end_time": "2022-08-10T00:43:11.458517",
     "exception": false,
     "start_time": "2022-08-10T00:43:11.416593",
     "status": "completed"
    },
    "tags": []
   },
   "outputs": [],
   "source": [
    "#hide\n",
    "# g.head()"
   ]
  },
  {
   "cell_type": "code",
   "execution_count": 26,
   "id": "specific-kruger",
   "metadata": {
    "execution": {
     "iopub.execute_input": "2022-08-10T00:43:11.530065Z",
     "iopub.status.busy": "2022-08-10T00:43:11.529407Z",
     "iopub.status.idle": "2022-08-10T00:43:11.533568Z",
     "shell.execute_reply": "2022-08-10T00:43:11.534070Z"
    },
    "papermill": {
     "duration": 0.041952,
     "end_time": "2022-08-10T00:43:11.534223",
     "exception": false,
     "start_time": "2022-08-10T00:43:11.492271",
     "status": "completed"
    },
    "tags": []
   },
   "outputs": [],
   "source": [
    "#hide\n",
    "# g.columns = ['date','country','cases']"
   ]
  },
  {
   "cell_type": "code",
   "execution_count": 27,
   "id": "tender-conversion",
   "metadata": {
    "execution": {
     "iopub.execute_input": "2022-08-10T00:43:11.606352Z",
     "iopub.status.busy": "2022-08-10T00:43:11.605155Z",
     "iopub.status.idle": "2022-08-10T00:43:11.607694Z",
     "shell.execute_reply": "2022-08-10T00:43:11.608585Z"
    },
    "papermill": {
     "duration": 0.040995,
     "end_time": "2022-08-10T00:43:11.608812",
     "exception": false,
     "start_time": "2022-08-10T00:43:11.567817",
     "status": "completed"
    },
    "tags": []
   },
   "outputs": [],
   "source": [
    "#hide\n",
    "# g['continent'] = g.country"
   ]
  },
  {
   "cell_type": "code",
   "execution_count": 28,
   "id": "substantial-wilderness",
   "metadata": {
    "execution": {
     "iopub.execute_input": "2022-08-10T00:43:11.679943Z",
     "iopub.status.busy": "2022-08-10T00:43:11.679269Z",
     "iopub.status.idle": "2022-08-10T00:43:11.682869Z",
     "shell.execute_reply": "2022-08-10T00:43:11.682343Z"
    },
    "papermill": {
     "duration": 0.041396,
     "end_time": "2022-08-10T00:43:11.683007",
     "exception": false,
     "start_time": "2022-08-10T00:43:11.641611",
     "status": "completed"
    },
    "tags": []
   },
   "outputs": [],
   "source": [
    "#hide\n",
    "# cols = list(g.columns.values)"
   ]
  },
  {
   "cell_type": "code",
   "execution_count": 29,
   "id": "solved-farming",
   "metadata": {
    "execution": {
     "iopub.execute_input": "2022-08-10T00:43:11.752639Z",
     "iopub.status.busy": "2022-08-10T00:43:11.751940Z",
     "iopub.status.idle": "2022-08-10T00:43:11.753686Z",
     "shell.execute_reply": "2022-08-10T00:43:11.754215Z"
    },
    "papermill": {
     "duration": 0.039122,
     "end_time": "2022-08-10T00:43:11.754364",
     "exception": false,
     "start_time": "2022-08-10T00:43:11.715242",
     "status": "completed"
    },
    "tags": []
   },
   "outputs": [],
   "source": [
    "#hide\n",
    "# cols.insert(0, cols.pop())"
   ]
  },
  {
   "cell_type": "code",
   "execution_count": 30,
   "id": "executed-adoption",
   "metadata": {
    "execution": {
     "iopub.execute_input": "2022-08-10T00:43:11.827922Z",
     "iopub.status.busy": "2022-08-10T00:43:11.826666Z",
     "iopub.status.idle": "2022-08-10T00:43:11.830790Z",
     "shell.execute_reply": "2022-08-10T00:43:11.831711Z"
    },
    "papermill": {
     "duration": 0.04356,
     "end_time": "2022-08-10T00:43:11.831952",
     "exception": false,
     "start_time": "2022-08-10T00:43:11.788392",
     "status": "completed"
    },
    "tags": []
   },
   "outputs": [],
   "source": [
    "#hide\n",
    "# g = g[cols]"
   ]
  },
  {
   "cell_type": "code",
   "execution_count": 31,
   "id": "subject-dublin",
   "metadata": {
    "execution": {
     "iopub.execute_input": "2022-08-10T00:43:11.903931Z",
     "iopub.status.busy": "2022-08-10T00:43:11.902861Z",
     "iopub.status.idle": "2022-08-10T00:43:11.904620Z",
     "shell.execute_reply": "2022-08-10T00:43:11.905078Z"
    },
    "papermill": {
     "duration": 0.040381,
     "end_time": "2022-08-10T00:43:11.905210",
     "exception": false,
     "start_time": "2022-08-10T00:43:11.864829",
     "status": "completed"
    },
    "tags": []
   },
   "outputs": [],
   "source": [
    "#hide\n",
    "# g['continent'] = g['continent'].map(mapping['map.continent'])"
   ]
  },
  {
   "cell_type": "code",
   "execution_count": 32,
   "id": "freelance-scout",
   "metadata": {
    "execution": {
     "iopub.execute_input": "2022-08-10T00:43:11.974595Z",
     "iopub.status.busy": "2022-08-10T00:43:11.973773Z",
     "iopub.status.idle": "2022-08-10T00:43:11.977832Z",
     "shell.execute_reply": "2022-08-10T00:43:11.978360Z"
    },
    "papermill": {
     "duration": 0.040254,
     "end_time": "2022-08-10T00:43:11.978512",
     "exception": false,
     "start_time": "2022-08-10T00:43:11.938258",
     "status": "completed"
    },
    "tags": []
   },
   "outputs": [],
   "source": [
    "#hide\n",
    "# g.head()"
   ]
  },
  {
   "cell_type": "code",
   "execution_count": 33,
   "id": "limited-engine",
   "metadata": {
    "execution": {
     "iopub.execute_input": "2022-08-10T00:43:12.056084Z",
     "iopub.status.busy": "2022-08-10T00:43:12.054806Z",
     "iopub.status.idle": "2022-08-10T00:43:12.057259Z",
     "shell.execute_reply": "2022-08-10T00:43:12.057768Z"
    },
    "papermill": {
     "duration": 0.043368,
     "end_time": "2022-08-10T00:43:12.057914",
     "exception": false,
     "start_time": "2022-08-10T00:43:12.014546",
     "status": "completed"
    },
    "tags": []
   },
   "outputs": [],
   "source": [
    "# hide\n",
    "# g['date'] = g['date'].astype('datetime64[ns]')"
   ]
  },
  {
   "cell_type": "code",
   "execution_count": 34,
   "id": "sophisticated-supervisor",
   "metadata": {
    "execution": {
     "iopub.execute_input": "2022-08-10T00:43:12.127962Z",
     "iopub.status.busy": "2022-08-10T00:43:12.126991Z",
     "iopub.status.idle": "2022-08-10T00:43:12.128750Z",
     "shell.execute_reply": "2022-08-10T00:43:12.129217Z"
    },
    "papermill": {
     "duration": 0.038578,
     "end_time": "2022-08-10T00:43:12.129353",
     "exception": false,
     "start_time": "2022-08-10T00:43:12.090775",
     "status": "completed"
    },
    "tags": []
   },
   "outputs": [],
   "source": [
    "#hide\n",
    "# g['date'] = g.date.dt.dayofyear"
   ]
  },
  {
   "cell_type": "code",
   "execution_count": 35,
   "id": "inside-dubai",
   "metadata": {
    "execution": {
     "iopub.execute_input": "2022-08-10T00:43:12.199802Z",
     "iopub.status.busy": "2022-08-10T00:43:12.199164Z",
     "iopub.status.idle": "2022-08-10T00:43:12.200414Z",
     "shell.execute_reply": "2022-08-10T00:43:12.201054Z"
    },
    "papermill": {
     "duration": 0.039661,
     "end_time": "2022-08-10T00:43:12.201192",
     "exception": false,
     "start_time": "2022-08-10T00:43:12.161531",
     "status": "completed"
    },
    "tags": []
   },
   "outputs": [],
   "source": [
    "#hide\n",
    "# g = g.rename(columns= {'continent':'group','country':'name','cases':'value'})"
   ]
  },
  {
   "cell_type": "code",
   "execution_count": 36,
   "id": "fleet-motorcycle",
   "metadata": {
    "execution": {
     "iopub.execute_input": "2022-08-10T00:43:12.272404Z",
     "iopub.status.busy": "2022-08-10T00:43:12.271569Z",
     "iopub.status.idle": "2022-08-10T00:43:12.276099Z",
     "shell.execute_reply": "2022-08-10T00:43:12.275569Z"
    },
    "papermill": {
     "duration": 0.041611,
     "end_time": "2022-08-10T00:43:12.276236",
     "exception": false,
     "start_time": "2022-08-10T00:43:12.234625",
     "status": "completed"
    },
    "tags": []
   },
   "outputs": [],
   "source": [
    "#hide\n",
    "# cols = ['name','group','day','value']"
   ]
  },
  {
   "cell_type": "code",
   "execution_count": 37,
   "id": "continued-sleeping",
   "metadata": {
    "execution": {
     "iopub.execute_input": "2022-08-10T00:43:12.344378Z",
     "iopub.status.busy": "2022-08-10T00:43:12.343680Z",
     "iopub.status.idle": "2022-08-10T00:43:12.346403Z",
     "shell.execute_reply": "2022-08-10T00:43:12.345919Z"
    },
    "papermill": {
     "duration": 0.039883,
     "end_time": "2022-08-10T00:43:12.346521",
     "exception": false,
     "start_time": "2022-08-10T00:43:12.306638",
     "status": "completed"
    },
    "tags": []
   },
   "outputs": [],
   "source": [
    "#hide\n",
    "# g.rename(columns= {'date':'day'},inplace = True)"
   ]
  },
  {
   "cell_type": "code",
   "execution_count": 38,
   "id": "major-fight",
   "metadata": {
    "execution": {
     "iopub.execute_input": "2022-08-10T00:43:12.415227Z",
     "iopub.status.busy": "2022-08-10T00:43:12.414525Z",
     "iopub.status.idle": "2022-08-10T00:43:12.416917Z",
     "shell.execute_reply": "2022-08-10T00:43:12.417447Z"
    },
    "papermill": {
     "duration": 0.038969,
     "end_time": "2022-08-10T00:43:12.417582",
     "exception": false,
     "start_time": "2022-08-10T00:43:12.378613",
     "status": "completed"
    },
    "tags": []
   },
   "outputs": [],
   "source": [
    "#hide\n",
    "# g = g[cols]"
   ]
  },
  {
   "cell_type": "code",
   "execution_count": 39,
   "id": "structured-mobile",
   "metadata": {
    "execution": {
     "iopub.execute_input": "2022-08-10T00:43:12.489099Z",
     "iopub.status.busy": "2022-08-10T00:43:12.488316Z",
     "iopub.status.idle": "2022-08-10T00:43:12.491082Z",
     "shell.execute_reply": "2022-08-10T00:43:12.490329Z"
    },
    "papermill": {
     "duration": 0.04133,
     "end_time": "2022-08-10T00:43:12.491222",
     "exception": false,
     "start_time": "2022-08-10T00:43:12.449892",
     "status": "completed"
    },
    "tags": []
   },
   "outputs": [],
   "source": [
    "# #hide\n",
    "# g = g[g.group.notna()]"
   ]
  },
  {
   "cell_type": "code",
   "execution_count": 40,
   "id": "determined-closing",
   "metadata": {
    "execution": {
     "iopub.execute_input": "2022-08-10T00:43:12.564915Z",
     "iopub.status.busy": "2022-08-10T00:43:12.563699Z",
     "iopub.status.idle": "2022-08-10T00:43:12.565950Z",
     "shell.execute_reply": "2022-08-10T00:43:12.566452Z"
    },
    "papermill": {
     "duration": 0.042155,
     "end_time": "2022-08-10T00:43:12.566599",
     "exception": false,
     "start_time": "2022-08-10T00:43:12.524444",
     "status": "completed"
    },
    "tags": []
   },
   "outputs": [],
   "source": [
    "# #hide\n",
    "# colors = dict(zip(\n",
    "#     [\"Oceania\", \"Europe\", \"Asia\", \"South America\", \"Middle East\", \"North America\", \"Africa\"],\n",
    "#     [\"#adb0ff\", \"#ffb3ff\", \"#90d595\", \"#e48381\", \"#aafbff\", \"#f7bb5f\", \"#eafb50\"]\n",
    "# ))\n",
    "# group_lk = g.set_index('name')['group'].to_dict()"
   ]
  },
  {
   "cell_type": "code",
   "execution_count": null,
   "id": "gross-drinking",
   "metadata": {
    "papermill": {
     "duration": 0.03367,
     "end_time": "2022-08-10T00:43:12.634529",
     "exception": false,
     "start_time": "2022-08-10T00:43:12.600859",
     "status": "completed"
    },
    "tags": []
   },
   "outputs": [],
   "source": []
  },
  {
   "cell_type": "code",
   "execution_count": 41,
   "id": "subject-macintosh",
   "metadata": {
    "execution": {
     "iopub.execute_input": "2022-08-10T00:43:12.705377Z",
     "iopub.status.busy": "2022-08-10T00:43:12.704720Z",
     "iopub.status.idle": "2022-08-10T00:43:12.707263Z",
     "shell.execute_reply": "2022-08-10T00:43:12.707872Z"
    },
    "papermill": {
     "duration": 0.041417,
     "end_time": "2022-08-10T00:43:12.708010",
     "exception": false,
     "start_time": "2022-08-10T00:43:12.666593",
     "status": "completed"
    },
    "tags": []
   },
   "outputs": [],
   "source": [
    "# #hide\n",
    "# fig, ax = plt.subplots(figsize=(15, 8))\n",
    "\n",
    "# def draw_barchart(current_day):\n",
    "#     dff = g[g['day'].eq(current_day)].sort_values(by='value', ascending=True).tail(10)\n",
    "#     ax.clear()\n",
    "#     ax.barh(dff['name'], dff['value'], color=[colors[group_lk[x]] for x in dff['name']])\n",
    "#     dx = dff['value'].max() / 200\n",
    "    \n",
    "#     for i, (value, name) in enumerate(zip(dff['value'], dff['name'])):\n",
    "#         ax.text(value-dx, i,     name,           size=14, weight=600, ha='right', va='bottom')\n",
    "#         ax.text(value-dx, i-.25, group_lk[name], size=10, color='#444444', ha='right', va='baseline')\n",
    "#         ax.text(value+dx, i,     f'{value:,.0f}',  size=14, ha='left',  va='center')\n",
    "#     ax.text(1, 0.4, current_day, transform=ax.transAxes, color='#777777', size=46, ha='right', weight=800)\n",
    "#     ax.text(0, 1.06, 'Population (thousands)', transform=ax.transAxes, size=12, color='#777777')\n",
    "#     ax.xaxis.set_major_formatter(ticker.StrMethodFormatter('{x:,.0f}'))\n",
    "#     ax.xaxis.set_ticks_position('top')\n",
    "#     ax.tick_params(axis='x', colors='#777777', labelsize=12)\n",
    "#     ax.set_yticks([])\n",
    "#     ax.margins(0, 0.01)\n",
    "#     ax.grid(which='major', axis='x', linestyle='-')\n",
    "#     ax.set_axisbelow(True)\n",
    "    \n",
    "#     ax.text(0, 1.15, 'Coronavirus',\n",
    "#             transform=ax.transAxes, size=24, weight=600, ha='left', va='top')\n",
    "# #     ax.text(1, 0, 'by @pratapvardhan; credit @jburnmurdoch', transform=ax.transAxes, color='#777777', ha='right',\n",
    "# #             bbox=dict(facecolor='white', alpha=0.8, edgecolor='white'))\n",
    "#     plt.box(False)"
   ]
  },
  {
   "cell_type": "code",
   "execution_count": 42,
   "id": "sexual-wages",
   "metadata": {
    "execution": {
     "iopub.execute_input": "2022-08-10T00:43:12.774026Z",
     "iopub.status.busy": "2022-08-10T00:43:12.773042Z",
     "iopub.status.idle": "2022-08-10T00:43:12.775117Z",
     "shell.execute_reply": "2022-08-10T00:43:12.775858Z"
    },
    "papermill": {
     "duration": 0.038327,
     "end_time": "2022-08-10T00:43:12.776048",
     "exception": false,
     "start_time": "2022-08-10T00:43:12.737721",
     "status": "completed"
    },
    "tags": []
   },
   "outputs": [],
   "source": [
    "# #hide_input\n",
    "# fig, ax = plt.subplots(figsize=(15, 8))\n",
    "# animator = animation.FuncAnimation(fig, draw_barchart, frames=range(g.day.values.min(), g.day.values.max()))\n",
    "# HTML(animator.to_jshtml())\n",
    "# # or use animator.to_html5_video() or animator.save() "
   ]
  },
  {
   "cell_type": "code",
   "execution_count": null,
   "id": "australian-container",
   "metadata": {
    "papermill": {
     "duration": 0.031626,
     "end_time": "2022-08-10T00:43:12.841563",
     "exception": false,
     "start_time": "2022-08-10T00:43:12.809937",
     "status": "completed"
    },
    "tags": []
   },
   "outputs": [],
   "source": []
  },
  {
   "cell_type": "code",
   "execution_count": null,
   "id": "mediterranean-pontiac",
   "metadata": {
    "papermill": {
     "duration": 0.029335,
     "end_time": "2022-08-10T00:43:12.901916",
     "exception": false,
     "start_time": "2022-08-10T00:43:12.872581",
     "status": "completed"
    },
    "tags": []
   },
   "outputs": [],
   "source": []
  },
  {
   "cell_type": "code",
   "execution_count": null,
   "id": "aging-legislature",
   "metadata": {
    "papermill": {
     "duration": 0.030835,
     "end_time": "2022-08-10T00:43:12.965943",
     "exception": false,
     "start_time": "2022-08-10T00:43:12.935108",
     "status": "completed"
    },
    "tags": []
   },
   "outputs": [],
   "source": []
  }
 ],
 "metadata": {
  "kernelspec": {
   "display_name": "Python 3",
   "language": "python",
   "name": "python3"
  },
  "language_info": {
   "codemirror_mode": {
    "name": "ipython",
    "version": 3
   },
   "file_extension": ".py",
   "mimetype": "text/x-python",
   "name": "python",
   "nbconvert_exporter": "python",
   "pygments_lexer": "ipython3",
   "version": "3.6.15"
  },
  "papermill": {
   "duration": 6.720096,
   "end_time": "2022-08-10T00:43:13.416826",
   "environment_variables": {},
   "exception": null,
   "input_path": "2020-03-21-covid19exp.ipynb",
   "output_path": "2020-03-21-covid19exp.ipynb",
   "parameters": {},
   "start_time": "2022-08-10T00:43:06.696730",
   "version": "2.0.0"
  }
 },
 "nbformat": 4,
 "nbformat_minor": 5
}