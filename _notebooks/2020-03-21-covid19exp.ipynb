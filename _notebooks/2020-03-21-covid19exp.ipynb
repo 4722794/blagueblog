{
 "cells": [
  {
   "cell_type": "markdown",
   "id": "muslim-click",
   "metadata": {
    "papermill": {
     "duration": 0.042312,
     "end_time": "2021-08-17T00:21:13.196788",
     "exception": false,
     "start_time": "2021-08-17T00:21:13.154476",
     "status": "completed"
    },
    "tags": []
   },
   "source": [
    "# COVID-19 Case Race\n",
    "> A race chart to see rising cases around the world\n",
    "\n",
    "- author: Hargun Oberoi\n",
    "- image: images/covid-overview.png\n",
    "- hide: false\n",
    "- badges: false"
   ]
  },
  {
   "cell_type": "code",
   "execution_count": 1,
   "id": "proof-material",
   "metadata": {
    "execution": {
     "iopub.execute_input": "2021-08-17T00:21:13.279463Z",
     "iopub.status.busy": "2021-08-17T00:21:13.278884Z",
     "iopub.status.idle": "2021-08-17T00:21:13.617910Z",
     "shell.execute_reply": "2021-08-17T00:21:13.617020Z"
    },
    "papermill": {
     "duration": 0.386113,
     "end_time": "2021-08-17T00:21:13.618049",
     "exception": false,
     "start_time": "2021-08-17T00:21:13.231936",
     "status": "completed"
    },
    "tags": []
   },
   "outputs": [],
   "source": [
    "#hide\n",
    "import numpy as np\n",
    "import pandas as pd\n",
    "from jinja2 import Template\n",
    "from IPython.display import HTML"
   ]
  },
  {
   "cell_type": "code",
   "execution_count": 2,
   "id": "developed-terminology",
   "metadata": {
    "execution": {
     "iopub.execute_input": "2021-08-17T00:21:13.689730Z",
     "iopub.status.busy": "2021-08-17T00:21:13.688929Z",
     "iopub.status.idle": "2021-08-17T00:21:13.691231Z",
     "shell.execute_reply": "2021-08-17T00:21:13.690773Z"
    },
    "papermill": {
     "duration": 0.039421,
     "end_time": "2021-08-17T00:21:13.691339",
     "exception": false,
     "start_time": "2021-08-17T00:21:13.651918",
     "status": "completed"
    },
    "tags": []
   },
   "outputs": [],
   "source": [
    "#hide\n",
    "\n",
    "# FETCH\n",
    "base_url = 'https://raw.githubusercontent.com/pratapvardhan/notebooks/master/covid19/'\n",
    "paths = {\n",
    "    'mapping': base_url + 'mapping_countries.csv',\n",
    "    'overview': base_url + 'overview.tpl'\n",
    "}"
   ]
  },
  {
   "cell_type": "code",
   "execution_count": 3,
   "id": "dynamic-saver",
   "metadata": {
    "execution": {
     "iopub.execute_input": "2021-08-17T00:21:13.771985Z",
     "iopub.status.busy": "2021-08-17T00:21:13.769594Z",
     "iopub.status.idle": "2021-08-17T00:21:13.775347Z",
     "shell.execute_reply": "2021-08-17T00:21:13.774833Z"
    },
    "papermill": {
     "duration": 0.046961,
     "end_time": "2021-08-17T00:21:13.775454",
     "exception": false,
     "start_time": "2021-08-17T00:21:13.728493",
     "status": "completed"
    },
    "tags": []
   },
   "outputs": [
    {
     "data": {
      "text/plain": [
       "'https://raw.githubusercontent.com/pratapvardhan/notebooks/master/covid19/mapping_countries.csv'"
      ]
     },
     "execution_count": 3,
     "metadata": {},
     "output_type": "execute_result"
    }
   ],
   "source": [
    "#hide\n",
    "paths['mapping']"
   ]
  },
  {
   "cell_type": "code",
   "execution_count": 4,
   "id": "urban-software",
   "metadata": {
    "execution": {
     "iopub.execute_input": "2021-08-17T00:21:13.844405Z",
     "iopub.status.busy": "2021-08-17T00:21:13.843872Z",
     "iopub.status.idle": "2021-08-17T00:21:13.846173Z",
     "shell.execute_reply": "2021-08-17T00:21:13.845688Z"
    },
    "papermill": {
     "duration": 0.038667,
     "end_time": "2021-08-17T00:21:13.846299",
     "exception": false,
     "start_time": "2021-08-17T00:21:13.807632",
     "status": "completed"
    },
    "tags": []
   },
   "outputs": [],
   "source": [
    "#hide\n",
    "def get_mappings(url):\n",
    "    df = pd.read_csv(url)\n",
    "    return {\n",
    "        'df': df,\n",
    "        'replace.country': dict(df.dropna(subset=['Name']).set_index('Country')['Name']),\n",
    "        'map.continent': dict(df.set_index('Name')['Continent'])\n",
    "    }"
   ]
  },
  {
   "cell_type": "code",
   "execution_count": 5,
   "id": "intimate-machinery",
   "metadata": {
    "execution": {
     "iopub.execute_input": "2021-08-17T00:21:13.921882Z",
     "iopub.status.busy": "2021-08-17T00:21:13.921000Z",
     "iopub.status.idle": "2021-08-17T00:21:13.971326Z",
     "shell.execute_reply": "2021-08-17T00:21:13.970818Z"
    },
    "papermill": {
     "duration": 0.093062,
     "end_time": "2021-08-17T00:21:13.971446",
     "exception": false,
     "start_time": "2021-08-17T00:21:13.878384",
     "status": "completed"
    },
    "tags": []
   },
   "outputs": [],
   "source": [
    "#hide\n",
    "mapping = get_mappings(paths['mapping'])"
   ]
  },
  {
   "cell_type": "code",
   "execution_count": 6,
   "id": "certified-tactics",
   "metadata": {
    "execution": {
     "iopub.execute_input": "2021-08-17T00:21:14.042103Z",
     "iopub.status.busy": "2021-08-17T00:21:14.041517Z",
     "iopub.status.idle": "2021-08-17T00:21:14.043722Z",
     "shell.execute_reply": "2021-08-17T00:21:14.043274Z"
    },
    "papermill": {
     "duration": 0.03837,
     "end_time": "2021-08-17T00:21:14.043826",
     "exception": false,
     "start_time": "2021-08-17T00:21:14.005456",
     "status": "completed"
    },
    "tags": []
   },
   "outputs": [],
   "source": [
    "#hide\n",
    "def get_template(path):\n",
    "    from urllib.parse import urlparse\n",
    "    if bool(urlparse(path).netloc):\n",
    "        from urllib.request import urlopen\n",
    "        return urlopen(path).read().decode('utf8')\n",
    "    return open(path).read()"
   ]
  },
  {
   "cell_type": "code",
   "execution_count": 7,
   "id": "realistic-blast",
   "metadata": {
    "execution": {
     "iopub.execute_input": "2021-08-17T00:21:14.112388Z",
     "iopub.status.busy": "2021-08-17T00:21:14.111755Z",
     "iopub.status.idle": "2021-08-17T00:21:14.113761Z",
     "shell.execute_reply": "2021-08-17T00:21:14.114377Z"
    },
    "papermill": {
     "duration": 0.038638,
     "end_time": "2021-08-17T00:21:14.114500",
     "exception": false,
     "start_time": "2021-08-17T00:21:14.075862",
     "status": "completed"
    },
    "tags": []
   },
   "outputs": [],
   "source": [
    "#hide\n",
    "def get_frame(name):\n",
    "    url = (\n",
    "        'https://raw.githubusercontent.com/CSSEGISandData/COVID-19/master/csse_covid_19_data/'\n",
    "        f'csse_covid_19_time_series/time_series_covid19_{name}_global.csv')\n",
    "    df = pd.read_csv(url)\n",
    "    # rename countries\n",
    "    df['Country/Region'] = df['Country/Region'].replace(mapping['replace.country'])\n",
    "    return df"
   ]
  },
  {
   "cell_type": "code",
   "execution_count": 8,
   "id": "affiliated-characterization",
   "metadata": {
    "execution": {
     "iopub.execute_input": "2021-08-17T00:21:14.188187Z",
     "iopub.status.busy": "2021-08-17T00:21:14.187621Z",
     "iopub.status.idle": "2021-08-17T00:21:14.189986Z",
     "shell.execute_reply": "2021-08-17T00:21:14.189539Z"
    },
    "papermill": {
     "duration": 0.040441,
     "end_time": "2021-08-17T00:21:14.190086",
     "exception": false,
     "start_time": "2021-08-17T00:21:14.149645",
     "status": "completed"
    },
    "tags": []
   },
   "outputs": [],
   "source": [
    "#hide\n",
    "def get_dates(df):\n",
    "    dt_cols = df.columns[~df.columns.isin(['Province/State', 'Country/Region', 'Lat', 'Long'])]\n",
    "    LAST_DATE_I = -1\n",
    "    # sometimes last column may be empty, then go backwards\n",
    "    for i in range(-1, -len(dt_cols), -1):\n",
    "        if not df[dt_cols[i]].fillna(0).eq(0).all():\n",
    "            LAST_DATE_I = i\n",
    "            break\n",
    "    return LAST_DATE_I, dt_cols"
   ]
  },
  {
   "cell_type": "code",
   "execution_count": 9,
   "id": "recent-optimization",
   "metadata": {
    "execution": {
     "iopub.execute_input": "2021-08-17T00:21:14.263591Z",
     "iopub.status.busy": "2021-08-17T00:21:14.262946Z",
     "iopub.status.idle": "2021-08-17T00:21:14.657960Z",
     "shell.execute_reply": "2021-08-17T00:21:14.657503Z"
    },
    "papermill": {
     "duration": 0.43359,
     "end_time": "2021-08-17T00:21:14.658083",
     "exception": false,
     "start_time": "2021-08-17T00:21:14.224493",
     "status": "completed"
    },
    "tags": []
   },
   "outputs": [],
   "source": [
    "#hide\n",
    "COL_REGION = 'Country/Region'\n",
    "# Confirmed, Recovered, Deaths\n",
    "df = get_frame('confirmed')\n",
    "# dft_: timeseries, dfc_: today country agg\n",
    "dft_cases = df\n",
    "dft_deaths = get_frame('deaths')\n",
    "dft_recovered = get_frame('recovered')\n",
    "LAST_DATE_I, dt_cols = get_dates(df)"
   ]
  },
  {
   "cell_type": "code",
   "execution_count": 10,
   "id": "absolute-copper",
   "metadata": {
    "execution": {
     "iopub.execute_input": "2021-08-17T00:21:14.731925Z",
     "iopub.status.busy": "2021-08-17T00:21:14.731407Z",
     "iopub.status.idle": "2021-08-17T00:21:14.733588Z",
     "shell.execute_reply": "2021-08-17T00:21:14.733144Z"
    },
    "papermill": {
     "duration": 0.040148,
     "end_time": "2021-08-17T00:21:14.733689",
     "exception": false,
     "start_time": "2021-08-17T00:21:14.693541",
     "status": "completed"
    },
    "tags": []
   },
   "outputs": [],
   "source": [
    "#hide\n",
    "LAST_DATE_I, dt_cols = get_dates(df)\n",
    "dt_today =dt_cols[LAST_DATE_I]\n",
    "# dt_5day = dt_cols[LAST_DATE_I - 5]\n",
    "dt_yday = dt_cols[LAST_DATE_I - 1]"
   ]
  },
  {
   "cell_type": "code",
   "execution_count": 11,
   "id": "restricted-sheriff",
   "metadata": {
    "execution": {
     "iopub.execute_input": "2021-08-17T00:21:14.805008Z",
     "iopub.status.busy": "2021-08-17T00:21:14.802302Z",
     "iopub.status.idle": "2021-08-17T00:21:14.813452Z",
     "shell.execute_reply": "2021-08-17T00:21:14.813996Z"
    },
    "papermill": {
     "duration": 0.049805,
     "end_time": "2021-08-17T00:21:14.814139",
     "exception": false,
     "start_time": "2021-08-17T00:21:14.764334",
     "status": "completed"
    },
    "tags": []
   },
   "outputs": [],
   "source": [
    "#hide\n",
    "dfc_cases = dft_cases.groupby(COL_REGION)[dt_today].sum()\n",
    "dfc_deaths = dft_deaths.groupby(COL_REGION)[dt_today].sum()\n",
    "# dfp_cases = dft_cases.groupby(COL_REGION)[dt_5day].sum()\n",
    "# dfp_deaths = dft_deaths.groupby(COL_REGION)[dt_5day].sum()\n",
    "dfp_cases = dft_cases.groupby(COL_REGION)[dt_yday].sum()\n",
    "dfp_deaths = dft_deaths.groupby(COL_REGION)[dt_yday].sum()"
   ]
  },
  {
   "cell_type": "code",
   "execution_count": 12,
   "id": "deluxe-hepatitis",
   "metadata": {
    "execution": {
     "iopub.execute_input": "2021-08-17T00:21:14.890246Z",
     "iopub.status.busy": "2021-08-17T00:21:14.889678Z",
     "iopub.status.idle": "2021-08-17T00:21:14.893916Z",
     "shell.execute_reply": "2021-08-17T00:21:14.893461Z"
    },
    "papermill": {
     "duration": 0.044914,
     "end_time": "2021-08-17T00:21:14.894023",
     "exception": false,
     "start_time": "2021-08-17T00:21:14.849109",
     "status": "completed"
    },
    "tags": []
   },
   "outputs": [],
   "source": [
    "#hide\n",
    "df_table = (pd.DataFrame(dict(Cases = dfc_cases, Deaths = dfc_deaths, PCases = dfp_cases, PDeaths = dfp_deaths))\n",
    "            .sort_values(by = ['Cases','Deaths'], ascending = [False, False])\n",
    "            .reset_index())"
   ]
  },
  {
   "cell_type": "code",
   "execution_count": 13,
   "id": "educational-chancellor",
   "metadata": {
    "execution": {
     "iopub.execute_input": "2021-08-17T00:21:14.986518Z",
     "iopub.status.busy": "2021-08-17T00:21:14.972501Z",
     "iopub.status.idle": "2021-08-17T00:21:14.995649Z",
     "shell.execute_reply": "2021-08-17T00:21:14.995123Z"
    },
    "papermill": {
     "duration": 0.068917,
     "end_time": "2021-08-17T00:21:14.995792",
     "exception": false,
     "start_time": "2021-08-17T00:21:14.926875",
     "status": "completed"
    },
    "tags": []
   },
   "outputs": [
    {
     "data": {
      "text/html": [
       "<div>\n",
       "<style scoped>\n",
       "    .dataframe tbody tr th:only-of-type {\n",
       "        vertical-align: middle;\n",
       "    }\n",
       "\n",
       "    .dataframe tbody tr th {\n",
       "        vertical-align: top;\n",
       "    }\n",
       "\n",
       "    .dataframe thead th {\n",
       "        text-align: right;\n",
       "    }\n",
       "</style>\n",
       "<table border=\"1\" class=\"dataframe\">\n",
       "  <thead>\n",
       "    <tr style=\"text-align: right;\">\n",
       "      <th></th>\n",
       "      <th>Country/Region</th>\n",
       "      <th>Cases</th>\n",
       "      <th>Deaths</th>\n",
       "      <th>PCases</th>\n",
       "      <th>PDeaths</th>\n",
       "      <th>Cases (+)</th>\n",
       "      <th>Deaths (+)</th>\n",
       "      <th>Fatality Rate</th>\n",
       "      <th>Continent</th>\n",
       "    </tr>\n",
       "  </thead>\n",
       "  <tbody>\n",
       "    <tr>\n",
       "      <th>0</th>\n",
       "      <td>US</td>\n",
       "      <td>36678753</td>\n",
       "      <td>621635</td>\n",
       "      <td>36640271</td>\n",
       "      <td>621253</td>\n",
       "      <td>38482</td>\n",
       "      <td>382</td>\n",
       "      <td>1.69</td>\n",
       "      <td>North America</td>\n",
       "    </tr>\n",
       "    <tr>\n",
       "      <th>1</th>\n",
       "      <td>India</td>\n",
       "      <td>32225513</td>\n",
       "      <td>431642</td>\n",
       "      <td>32192576</td>\n",
       "      <td>431225</td>\n",
       "      <td>32937</td>\n",
       "      <td>417</td>\n",
       "      <td>1.34</td>\n",
       "      <td>Asia</td>\n",
       "    </tr>\n",
       "    <tr>\n",
       "      <th>2</th>\n",
       "      <td>Brazil</td>\n",
       "      <td>20364099</td>\n",
       "      <td>569058</td>\n",
       "      <td>20350142</td>\n",
       "      <td>568788</td>\n",
       "      <td>13957</td>\n",
       "      <td>270</td>\n",
       "      <td>2.79</td>\n",
       "      <td>South America</td>\n",
       "    </tr>\n",
       "    <tr>\n",
       "      <th>3</th>\n",
       "      <td>France</td>\n",
       "      <td>6543099</td>\n",
       "      <td>112873</td>\n",
       "      <td>6521927</td>\n",
       "      <td>112829</td>\n",
       "      <td>21172</td>\n",
       "      <td>44</td>\n",
       "      <td>1.73</td>\n",
       "      <td>Europe</td>\n",
       "    </tr>\n",
       "    <tr>\n",
       "      <th>4</th>\n",
       "      <td>Russia</td>\n",
       "      <td>6511431</td>\n",
       "      <td>167595</td>\n",
       "      <td>6490421</td>\n",
       "      <td>166795</td>\n",
       "      <td>21010</td>\n",
       "      <td>800</td>\n",
       "      <td>2.57</td>\n",
       "      <td>Europe</td>\n",
       "    </tr>\n",
       "  </tbody>\n",
       "</table>\n",
       "</div>"
      ],
      "text/plain": [
       "  Country/Region     Cases  Deaths    PCases  PDeaths  Cases (+)  Deaths (+)  \\\n",
       "0             US  36678753  621635  36640271   621253      38482         382   \n",
       "1          India  32225513  431642  32192576   431225      32937         417   \n",
       "2         Brazil  20364099  569058  20350142   568788      13957         270   \n",
       "3         France   6543099  112873   6521927   112829      21172          44   \n",
       "4         Russia   6511431  167595   6490421   166795      21010         800   \n",
       "\n",
       "   Fatality Rate      Continent  \n",
       "0           1.69  North America  \n",
       "1           1.34           Asia  \n",
       "2           2.79  South America  \n",
       "3           1.73         Europe  \n",
       "4           2.57         Europe  "
      ]
     },
     "execution_count": 13,
     "metadata": {},
     "output_type": "execute_result"
    }
   ],
   "source": [
    "#hide\n",
    "for c in 'Cases, Deaths'.split(', '):\n",
    "    df_table[f'{c} (+)'] = (df_table[c] - df_table[f'P{c}']).clip(0)\n",
    "    #Clip ça veut dire, les chiffres negatif sont interdit\n",
    "df_table['Fatality Rate'] = (100* df_table['Deaths']/ df_table['Cases']).round(2)\n",
    "df_table['Continent'] = df_table['Country/Region'].map(mapping['map.continent'])\n",
    "df_table.head(5)"
   ]
  },
  {
   "cell_type": "code",
   "execution_count": 14,
   "id": "aboriginal-bulgaria",
   "metadata": {
    "execution": {
     "iopub.execute_input": "2021-08-17T00:21:15.072896Z",
     "iopub.status.busy": "2021-08-17T00:21:15.072368Z",
     "iopub.status.idle": "2021-08-17T00:21:15.074477Z",
     "shell.execute_reply": "2021-08-17T00:21:15.074885Z"
    },
    "papermill": {
     "duration": 0.041951,
     "end_time": "2021-08-17T00:21:15.075003",
     "exception": false,
     "start_time": "2021-08-17T00:21:15.033052",
     "status": "completed"
    },
    "tags": []
   },
   "outputs": [],
   "source": [
    "#hide\n",
    "#delete problematic countries from table\n",
    "df_table = df_table[~df_table['Country/Region'].isin(['Cape Verde', 'Cruise Ship', 'Kosovo'])]"
   ]
  },
  {
   "cell_type": "code",
   "execution_count": 15,
   "id": "fantastic-effect",
   "metadata": {
    "execution": {
     "iopub.execute_input": "2021-08-17T00:21:15.148878Z",
     "iopub.status.busy": "2021-08-17T00:21:15.148214Z",
     "iopub.status.idle": "2021-08-17T00:21:15.170526Z",
     "shell.execute_reply": "2021-08-17T00:21:15.169988Z"
    },
    "papermill": {
     "duration": 0.06407,
     "end_time": "2021-08-17T00:21:15.170662",
     "exception": false,
     "start_time": "2021-08-17T00:21:15.106592",
     "status": "completed"
    },
    "tags": []
   },
   "outputs": [
    {
     "data": {
      "text/html": [
       "<div>\n",
       "<style scoped>\n",
       "    .dataframe tbody tr th:only-of-type {\n",
       "        vertical-align: middle;\n",
       "    }\n",
       "\n",
       "    .dataframe tbody tr th {\n",
       "        vertical-align: top;\n",
       "    }\n",
       "\n",
       "    .dataframe thead th {\n",
       "        text-align: right;\n",
       "    }\n",
       "</style>\n",
       "<table border=\"1\" class=\"dataframe\">\n",
       "  <thead>\n",
       "    <tr style=\"text-align: right;\">\n",
       "      <th></th>\n",
       "      <th>Country/Region</th>\n",
       "      <th>Cases</th>\n",
       "      <th>Deaths</th>\n",
       "      <th>PCases</th>\n",
       "      <th>PDeaths</th>\n",
       "      <th>Cases (+)</th>\n",
       "      <th>Deaths (+)</th>\n",
       "      <th>Fatality Rate</th>\n",
       "      <th>Continent</th>\n",
       "    </tr>\n",
       "  </thead>\n",
       "  <tbody>\n",
       "    <tr>\n",
       "      <th>0</th>\n",
       "      <td>US</td>\n",
       "      <td>36678753</td>\n",
       "      <td>621635</td>\n",
       "      <td>36640271</td>\n",
       "      <td>621253</td>\n",
       "      <td>38482</td>\n",
       "      <td>382</td>\n",
       "      <td>1.7</td>\n",
       "      <td>North America</td>\n",
       "    </tr>\n",
       "    <tr>\n",
       "      <th>1</th>\n",
       "      <td>India</td>\n",
       "      <td>32225513</td>\n",
       "      <td>431642</td>\n",
       "      <td>32192576</td>\n",
       "      <td>431225</td>\n",
       "      <td>32937</td>\n",
       "      <td>417</td>\n",
       "      <td>1.3</td>\n",
       "      <td>Asia</td>\n",
       "    </tr>\n",
       "    <tr>\n",
       "      <th>2</th>\n",
       "      <td>Brazil</td>\n",
       "      <td>20364099</td>\n",
       "      <td>569058</td>\n",
       "      <td>20350142</td>\n",
       "      <td>568788</td>\n",
       "      <td>13957</td>\n",
       "      <td>270</td>\n",
       "      <td>2.8</td>\n",
       "      <td>South America</td>\n",
       "    </tr>\n",
       "    <tr>\n",
       "      <th>3</th>\n",
       "      <td>France</td>\n",
       "      <td>6543099</td>\n",
       "      <td>112873</td>\n",
       "      <td>6521927</td>\n",
       "      <td>112829</td>\n",
       "      <td>21172</td>\n",
       "      <td>44</td>\n",
       "      <td>1.7</td>\n",
       "      <td>Europe</td>\n",
       "    </tr>\n",
       "    <tr>\n",
       "      <th>4</th>\n",
       "      <td>Russia</td>\n",
       "      <td>6511431</td>\n",
       "      <td>167595</td>\n",
       "      <td>6490421</td>\n",
       "      <td>166795</td>\n",
       "      <td>21010</td>\n",
       "      <td>800</td>\n",
       "      <td>2.6</td>\n",
       "      <td>Europe</td>\n",
       "    </tr>\n",
       "  </tbody>\n",
       "</table>\n",
       "</div>"
      ],
      "text/plain": [
       "  Country/Region     Cases  Deaths    PCases  PDeaths  Cases (+)  Deaths (+)  \\\n",
       "0             US  36678753  621635  36640271   621253      38482         382   \n",
       "1          India  32225513  431642  32192576   431225      32937         417   \n",
       "2         Brazil  20364099  569058  20350142   568788      13957         270   \n",
       "3         France   6543099  112873   6521927   112829      21172          44   \n",
       "4         Russia   6511431  167595   6490421   166795      21010         800   \n",
       "\n",
       "   Fatality Rate      Continent  \n",
       "0            1.7  North America  \n",
       "1            1.3           Asia  \n",
       "2            2.8  South America  \n",
       "3            1.7         Europe  \n",
       "4            2.6         Europe  "
      ]
     },
     "execution_count": 15,
     "metadata": {},
     "output_type": "execute_result"
    }
   ],
   "source": [
    "#hide\n",
    "df_table = (pd.DataFrame(dict(Cases=dfc_cases, Deaths=dfc_deaths, PCases=dfp_cases, PDeaths=dfp_deaths))\n",
    "             .sort_values(by=['Cases', 'Deaths'], ascending=[False, False])\n",
    "             .reset_index())\n",
    "df_table.rename(columns={'index': 'Country/Region'}, inplace=True)\n",
    "for c in 'Cases, Deaths'.split(', '):\n",
    "    df_table[f'{c} (+)'] = (df_table[c] - df_table[f'P{c}']).clip(0)  # DATA BUG\n",
    "df_table['Fatality Rate'] = (100 * df_table['Deaths'] / df_table['Cases']).round(1)\n",
    "df_table['Continent'] = df_table['Country/Region'].map(mapping['map.continent'])\n",
    "df_table.head(5)"
   ]
  },
  {
   "cell_type": "code",
   "execution_count": 16,
   "id": "fewer-occasion",
   "metadata": {
    "execution": {
     "iopub.execute_input": "2021-08-17T00:21:15.246408Z",
     "iopub.status.busy": "2021-08-17T00:21:15.245794Z",
     "iopub.status.idle": "2021-08-17T00:21:15.250251Z",
     "shell.execute_reply": "2021-08-17T00:21:15.249180Z"
    },
    "papermill": {
     "duration": 0.044457,
     "end_time": "2021-08-17T00:21:15.250380",
     "exception": false,
     "start_time": "2021-08-17T00:21:15.205923",
     "status": "completed"
    },
    "tags": []
   },
   "outputs": [],
   "source": [
    "#hide\n",
    "#delete problematic countries from table\n",
    "df_table = df_table[~df_table['Country/Region'].isin(['Cape Verde', 'Cruise Ship', 'Kosovo'])]"
   ]
  },
  {
   "cell_type": "code",
   "execution_count": 17,
   "id": "related-center",
   "metadata": {
    "execution": {
     "iopub.execute_input": "2021-08-17T00:21:15.330575Z",
     "iopub.status.busy": "2021-08-17T00:21:15.330032Z",
     "iopub.status.idle": "2021-08-17T00:21:15.340743Z",
     "shell.execute_reply": "2021-08-17T00:21:15.341275Z"
    },
    "papermill": {
     "duration": 0.05603,
     "end_time": "2021-08-17T00:21:15.341398",
     "exception": false,
     "start_time": "2021-08-17T00:21:15.285368",
     "status": "completed"
    },
    "tags": []
   },
   "outputs": [],
   "source": [
    "#hide\n",
    "metrics = [df_table.columns[index] for index in [1,2,5,6]]\n",
    "# s_china = df_table[df_table['Country/Region'].eq('China')][metrics].sum().add_prefix('China ')\n",
    "s_us = df_table[df_table['Country/Region'].eq('US')][metrics].sum().add_prefix('US ')\n",
    "s_eu = df_table[df_table['Continent'].eq('Europe')][metrics].sum().add_prefix('EU ')\n",
    "s_ind = df_table[df_table['Country/Region'].eq('India')][metrics].sum().add_prefix('India ')\n",
    "summary = {'updated': pd.to_datetime(dt_today), 'since': pd.to_datetime(dt_yday)}\n",
    "summary = {'updated': pd.to_datetime(dt_today), 'since': pd.to_datetime(dt_yday)}\n",
    "summary = {**summary, **df_table[metrics].sum(), **s_ind, **s_us, **s_eu}"
   ]
  },
  {
   "cell_type": "code",
   "execution_count": 18,
   "id": "engaging-syndrome",
   "metadata": {
    "execution": {
     "iopub.execute_input": "2021-08-17T00:21:15.414908Z",
     "iopub.status.busy": "2021-08-17T00:21:15.413163Z",
     "iopub.status.idle": "2021-08-17T00:21:15.426260Z",
     "shell.execute_reply": "2021-08-17T00:21:15.426701Z"
    },
    "papermill": {
     "duration": 0.05275,
     "end_time": "2021-08-17T00:21:15.426812",
     "exception": false,
     "start_time": "2021-08-17T00:21:15.374062",
     "status": "completed"
    },
    "tags": []
   },
   "outputs": [],
   "source": [
    "#hide\n",
    "dft_ct_new_cases = dft_cases.groupby(COL_REGION)[dt_cols].sum().diff(axis=1).fillna(0).astype(int)"
   ]
  },
  {
   "cell_type": "code",
   "execution_count": 19,
   "id": "neutral-assignment",
   "metadata": {
    "execution": {
     "iopub.execute_input": "2021-08-17T00:21:15.497495Z",
     "iopub.status.busy": "2021-08-17T00:21:15.496825Z",
     "iopub.status.idle": "2021-08-17T00:21:15.500882Z",
     "shell.execute_reply": "2021-08-17T00:21:15.501481Z"
    },
    "papermill": {
     "duration": 0.041357,
     "end_time": "2021-08-17T00:21:15.501600",
     "exception": false,
     "start_time": "2021-08-17T00:21:15.460243",
     "status": "completed"
    },
    "tags": []
   },
   "outputs": [],
   "source": [
    "#hide\n",
    "everydaycases = dft_ct_new_cases.cumsum(axis=1)"
   ]
  },
  {
   "cell_type": "code",
   "execution_count": 20,
   "id": "parliamentary-calgary",
   "metadata": {
    "execution": {
     "iopub.execute_input": "2021-08-17T00:21:15.567131Z",
     "iopub.status.busy": "2021-08-17T00:21:15.566624Z",
     "iopub.status.idle": "2021-08-17T00:21:16.082146Z",
     "shell.execute_reply": "2021-08-17T00:21:16.081573Z"
    },
    "papermill": {
     "duration": 0.549846,
     "end_time": "2021-08-17T00:21:16.082302",
     "exception": false,
     "start_time": "2021-08-17T00:21:15.532456",
     "status": "completed"
    },
    "tags": []
   },
   "outputs": [],
   "source": [
    "#hide\n",
    "import pandas as pd\n",
    "import matplotlib.pyplot as plt\n",
    "import matplotlib.ticker as ticker\n",
    "import matplotlib.animation as animation\n",
    "from IPython.display import HTML"
   ]
  },
  {
   "cell_type": "code",
   "execution_count": 21,
   "id": "lasting-extraction",
   "metadata": {
    "execution": {
     "iopub.execute_input": "2021-08-17T00:21:16.165608Z",
     "iopub.status.busy": "2021-08-17T00:21:16.164715Z",
     "iopub.status.idle": "2021-08-17T00:21:16.171347Z",
     "shell.execute_reply": "2021-08-17T00:21:16.170856Z"
    },
    "papermill": {
     "duration": 0.051854,
     "end_time": "2021-08-17T00:21:16.171485",
     "exception": false,
     "start_time": "2021-08-17T00:21:16.119631",
     "status": "completed"
    },
    "tags": []
   },
   "outputs": [],
   "source": [
    "#hide\n",
    "t = everydaycases.stack()"
   ]
  },
  {
   "cell_type": "code",
   "execution_count": 22,
   "id": "premier-sleeve",
   "metadata": {
    "execution": {
     "iopub.execute_input": "2021-08-17T00:21:16.246576Z",
     "iopub.status.busy": "2021-08-17T00:21:16.246051Z",
     "iopub.status.idle": "2021-08-17T00:21:16.254627Z",
     "shell.execute_reply": "2021-08-17T00:21:16.255077Z"
    },
    "papermill": {
     "duration": 0.045901,
     "end_time": "2021-08-17T00:21:16.255262",
     "exception": false,
     "start_time": "2021-08-17T00:21:16.209361",
     "status": "completed"
    },
    "tags": []
   },
   "outputs": [],
   "source": [
    "#hide\n",
    "g = t.reset_index(['Country/Region'])"
   ]
  },
  {
   "cell_type": "code",
   "execution_count": 23,
   "id": "distributed-pittsburgh",
   "metadata": {
    "execution": {
     "iopub.execute_input": "2021-08-17T00:21:16.323386Z",
     "iopub.status.busy": "2021-08-17T00:21:16.322860Z",
     "iopub.status.idle": "2021-08-17T00:21:16.325069Z",
     "shell.execute_reply": "2021-08-17T00:21:16.325526Z"
    },
    "papermill": {
     "duration": 0.037385,
     "end_time": "2021-08-17T00:21:16.325640",
     "exception": false,
     "start_time": "2021-08-17T00:21:16.288255",
     "status": "completed"
    },
    "tags": []
   },
   "outputs": [],
   "source": [
    "#hide\n",
    "g.index.name = 'date'"
   ]
  },
  {
   "cell_type": "code",
   "execution_count": 24,
   "id": "naked-donor",
   "metadata": {
    "execution": {
     "iopub.execute_input": "2021-08-17T00:21:16.396835Z",
     "iopub.status.busy": "2021-08-17T00:21:16.396277Z",
     "iopub.status.idle": "2021-08-17T00:21:16.398328Z",
     "shell.execute_reply": "2021-08-17T00:21:16.398820Z"
    },
    "papermill": {
     "duration": 0.03953,
     "end_time": "2021-08-17T00:21:16.398934",
     "exception": false,
     "start_time": "2021-08-17T00:21:16.359404",
     "status": "completed"
    },
    "tags": []
   },
   "outputs": [],
   "source": [
    "# #hide\n",
    "# g = g.reset_index(['date'])"
   ]
  },
  {
   "cell_type": "code",
   "execution_count": 25,
   "id": "incomplete-mustang",
   "metadata": {
    "execution": {
     "iopub.execute_input": "2021-08-17T00:21:16.468858Z",
     "iopub.status.busy": "2021-08-17T00:21:16.468290Z",
     "iopub.status.idle": "2021-08-17T00:21:16.470561Z",
     "shell.execute_reply": "2021-08-17T00:21:16.470120Z"
    },
    "papermill": {
     "duration": 0.038051,
     "end_time": "2021-08-17T00:21:16.470661",
     "exception": false,
     "start_time": "2021-08-17T00:21:16.432610",
     "status": "completed"
    },
    "tags": []
   },
   "outputs": [],
   "source": [
    "#hide\n",
    "# g.head()"
   ]
  },
  {
   "cell_type": "code",
   "execution_count": 26,
   "id": "specific-kruger",
   "metadata": {
    "execution": {
     "iopub.execute_input": "2021-08-17T00:21:16.538819Z",
     "iopub.status.busy": "2021-08-17T00:21:16.538120Z",
     "iopub.status.idle": "2021-08-17T00:21:16.540686Z",
     "shell.execute_reply": "2021-08-17T00:21:16.540240Z"
    },
    "papermill": {
     "duration": 0.037722,
     "end_time": "2021-08-17T00:21:16.540787",
     "exception": false,
     "start_time": "2021-08-17T00:21:16.503065",
     "status": "completed"
    },
    "tags": []
   },
   "outputs": [],
   "source": [
    "#hide\n",
    "# g.columns = ['date','country','cases']"
   ]
  },
  {
   "cell_type": "code",
   "execution_count": 27,
   "id": "tender-conversion",
   "metadata": {
    "execution": {
     "iopub.execute_input": "2021-08-17T00:21:16.615291Z",
     "iopub.status.busy": "2021-08-17T00:21:16.614763Z",
     "iopub.status.idle": "2021-08-17T00:21:16.616622Z",
     "shell.execute_reply": "2021-08-17T00:21:16.617244Z"
    },
    "papermill": {
     "duration": 0.039995,
     "end_time": "2021-08-17T00:21:16.617401",
     "exception": false,
     "start_time": "2021-08-17T00:21:16.577406",
     "status": "completed"
    },
    "tags": []
   },
   "outputs": [],
   "source": [
    "#hide\n",
    "# g['continent'] = g.country"
   ]
  },
  {
   "cell_type": "code",
   "execution_count": 28,
   "id": "substantial-wilderness",
   "metadata": {
    "execution": {
     "iopub.execute_input": "2021-08-17T00:21:16.685098Z",
     "iopub.status.busy": "2021-08-17T00:21:16.684579Z",
     "iopub.status.idle": "2021-08-17T00:21:16.686555Z",
     "shell.execute_reply": "2021-08-17T00:21:16.687034Z"
    },
    "papermill": {
     "duration": 0.037292,
     "end_time": "2021-08-17T00:21:16.687151",
     "exception": false,
     "start_time": "2021-08-17T00:21:16.649859",
     "status": "completed"
    },
    "tags": []
   },
   "outputs": [],
   "source": [
    "#hide\n",
    "# cols = list(g.columns.values)"
   ]
  },
  {
   "cell_type": "code",
   "execution_count": 29,
   "id": "solved-farming",
   "metadata": {
    "execution": {
     "iopub.execute_input": "2021-08-17T00:21:16.758623Z",
     "iopub.status.busy": "2021-08-17T00:21:16.757342Z",
     "iopub.status.idle": "2021-08-17T00:21:16.759238Z",
     "shell.execute_reply": "2021-08-17T00:21:16.758026Z"
    },
    "papermill": {
     "duration": 0.039981,
     "end_time": "2021-08-17T00:21:16.759342",
     "exception": false,
     "start_time": "2021-08-17T00:21:16.719361",
     "status": "completed"
    },
    "tags": []
   },
   "outputs": [],
   "source": [
    "#hide\n",
    "# cols.insert(0, cols.pop())"
   ]
  },
  {
   "cell_type": "code",
   "execution_count": 30,
   "id": "executed-adoption",
   "metadata": {
    "execution": {
     "iopub.execute_input": "2021-08-17T00:21:16.826541Z",
     "iopub.status.busy": "2021-08-17T00:21:16.826023Z",
     "iopub.status.idle": "2021-08-17T00:21:16.828394Z",
     "shell.execute_reply": "2021-08-17T00:21:16.827973Z"
    },
    "papermill": {
     "duration": 0.037587,
     "end_time": "2021-08-17T00:21:16.828497",
     "exception": false,
     "start_time": "2021-08-17T00:21:16.790910",
     "status": "completed"
    },
    "tags": []
   },
   "outputs": [],
   "source": [
    "#hide\n",
    "# g = g[cols]"
   ]
  },
  {
   "cell_type": "code",
   "execution_count": 31,
   "id": "subject-dublin",
   "metadata": {
    "execution": {
     "iopub.execute_input": "2021-08-17T00:21:16.896083Z",
     "iopub.status.busy": "2021-08-17T00:21:16.895556Z",
     "iopub.status.idle": "2021-08-17T00:21:16.897449Z",
     "shell.execute_reply": "2021-08-17T00:21:16.898067Z"
    },
    "papermill": {
     "duration": 0.038125,
     "end_time": "2021-08-17T00:21:16.898260",
     "exception": false,
     "start_time": "2021-08-17T00:21:16.860135",
     "status": "completed"
    },
    "tags": []
   },
   "outputs": [],
   "source": [
    "#hide\n",
    "# g['continent'] = g['continent'].map(mapping['map.continent'])"
   ]
  },
  {
   "cell_type": "code",
   "execution_count": 32,
   "id": "freelance-scout",
   "metadata": {
    "execution": {
     "iopub.execute_input": "2021-08-17T00:21:16.967721Z",
     "iopub.status.busy": "2021-08-17T00:21:16.967199Z",
     "iopub.status.idle": "2021-08-17T00:21:16.969010Z",
     "shell.execute_reply": "2021-08-17T00:21:16.969547Z"
    },
    "papermill": {
     "duration": 0.039615,
     "end_time": "2021-08-17T00:21:16.969666",
     "exception": false,
     "start_time": "2021-08-17T00:21:16.930051",
     "status": "completed"
    },
    "tags": []
   },
   "outputs": [],
   "source": [
    "#hide\n",
    "# g.head()"
   ]
  },
  {
   "cell_type": "code",
   "execution_count": 33,
   "id": "limited-engine",
   "metadata": {
    "execution": {
     "iopub.execute_input": "2021-08-17T00:21:17.038479Z",
     "iopub.status.busy": "2021-08-17T00:21:17.037834Z",
     "iopub.status.idle": "2021-08-17T00:21:17.039865Z",
     "shell.execute_reply": "2021-08-17T00:21:17.040309Z"
    },
    "papermill": {
     "duration": 0.038681,
     "end_time": "2021-08-17T00:21:17.040430",
     "exception": false,
     "start_time": "2021-08-17T00:21:17.001749",
     "status": "completed"
    },
    "tags": []
   },
   "outputs": [],
   "source": [
    "# hide\n",
    "# g['date'] = g['date'].astype('datetime64[ns]')"
   ]
  },
  {
   "cell_type": "code",
   "execution_count": 34,
   "id": "sophisticated-supervisor",
   "metadata": {
    "execution": {
     "iopub.execute_input": "2021-08-17T00:21:17.110293Z",
     "iopub.status.busy": "2021-08-17T00:21:17.109686Z",
     "iopub.status.idle": "2021-08-17T00:21:17.112008Z",
     "shell.execute_reply": "2021-08-17T00:21:17.111560Z"
    },
    "papermill": {
     "duration": 0.038185,
     "end_time": "2021-08-17T00:21:17.112113",
     "exception": false,
     "start_time": "2021-08-17T00:21:17.073928",
     "status": "completed"
    },
    "tags": []
   },
   "outputs": [],
   "source": [
    "#hide\n",
    "# g['date'] = g.date.dt.dayofyear"
   ]
  },
  {
   "cell_type": "code",
   "execution_count": 35,
   "id": "inside-dubai",
   "metadata": {
    "execution": {
     "iopub.execute_input": "2021-08-17T00:21:17.180823Z",
     "iopub.status.busy": "2021-08-17T00:21:17.180241Z",
     "iopub.status.idle": "2021-08-17T00:21:17.182474Z",
     "shell.execute_reply": "2021-08-17T00:21:17.182029Z"
    },
    "papermill": {
     "duration": 0.038898,
     "end_time": "2021-08-17T00:21:17.182572",
     "exception": false,
     "start_time": "2021-08-17T00:21:17.143674",
     "status": "completed"
    },
    "tags": []
   },
   "outputs": [],
   "source": [
    "#hide\n",
    "# g = g.rename(columns= {'continent':'group','country':'name','cases':'value'})"
   ]
  },
  {
   "cell_type": "code",
   "execution_count": 36,
   "id": "fleet-motorcycle",
   "metadata": {
    "execution": {
     "iopub.execute_input": "2021-08-17T00:21:17.250047Z",
     "iopub.status.busy": "2021-08-17T00:21:17.249520Z",
     "iopub.status.idle": "2021-08-17T00:21:17.251535Z",
     "shell.execute_reply": "2021-08-17T00:21:17.252126Z"
    },
    "papermill": {
     "duration": 0.037772,
     "end_time": "2021-08-17T00:21:17.252242",
     "exception": false,
     "start_time": "2021-08-17T00:21:17.214470",
     "status": "completed"
    },
    "tags": []
   },
   "outputs": [],
   "source": [
    "#hide\n",
    "# cols = ['name','group','day','value']"
   ]
  },
  {
   "cell_type": "code",
   "execution_count": 37,
   "id": "continued-sleeping",
   "metadata": {
    "execution": {
     "iopub.execute_input": "2021-08-17T00:21:17.319851Z",
     "iopub.status.busy": "2021-08-17T00:21:17.319206Z",
     "iopub.status.idle": "2021-08-17T00:21:17.321351Z",
     "shell.execute_reply": "2021-08-17T00:21:17.321805Z"
    },
    "papermill": {
     "duration": 0.037918,
     "end_time": "2021-08-17T00:21:17.321919",
     "exception": false,
     "start_time": "2021-08-17T00:21:17.284001",
     "status": "completed"
    },
    "tags": []
   },
   "outputs": [],
   "source": [
    "#hide\n",
    "# g.rename(columns= {'date':'day'},inplace = True)"
   ]
  },
  {
   "cell_type": "code",
   "execution_count": 38,
   "id": "major-fight",
   "metadata": {
    "execution": {
     "iopub.execute_input": "2021-08-17T00:21:17.387948Z",
     "iopub.status.busy": "2021-08-17T00:21:17.387301Z",
     "iopub.status.idle": "2021-08-17T00:21:17.389429Z",
     "shell.execute_reply": "2021-08-17T00:21:17.388963Z"
    },
    "papermill": {
     "duration": 0.036744,
     "end_time": "2021-08-17T00:21:17.389530",
     "exception": false,
     "start_time": "2021-08-17T00:21:17.352786",
     "status": "completed"
    },
    "tags": []
   },
   "outputs": [],
   "source": [
    "#hide\n",
    "# g = g[cols]"
   ]
  },
  {
   "cell_type": "code",
   "execution_count": 39,
   "id": "structured-mobile",
   "metadata": {
    "execution": {
     "iopub.execute_input": "2021-08-17T00:21:17.462527Z",
     "iopub.status.busy": "2021-08-17T00:21:17.461924Z",
     "iopub.status.idle": "2021-08-17T00:21:17.464257Z",
     "shell.execute_reply": "2021-08-17T00:21:17.463726Z"
    },
    "papermill": {
     "duration": 0.042617,
     "end_time": "2021-08-17T00:21:17.464389",
     "exception": false,
     "start_time": "2021-08-17T00:21:17.421772",
     "status": "completed"
    },
    "tags": []
   },
   "outputs": [],
   "source": [
    "# #hide\n",
    "# g = g[g.group.notna()]"
   ]
  },
  {
   "cell_type": "code",
   "execution_count": 40,
   "id": "determined-closing",
   "metadata": {
    "execution": {
     "iopub.execute_input": "2021-08-17T00:21:17.537474Z",
     "iopub.status.busy": "2021-08-17T00:21:17.536869Z",
     "iopub.status.idle": "2021-08-17T00:21:17.539997Z",
     "shell.execute_reply": "2021-08-17T00:21:17.539415Z"
    },
    "papermill": {
     "duration": 0.040022,
     "end_time": "2021-08-17T00:21:17.540107",
     "exception": false,
     "start_time": "2021-08-17T00:21:17.500085",
     "status": "completed"
    },
    "tags": []
   },
   "outputs": [],
   "source": [
    "# #hide\n",
    "# colors = dict(zip(\n",
    "#     [\"Oceania\", \"Europe\", \"Asia\", \"South America\", \"Middle East\", \"North America\", \"Africa\"],\n",
    "#     [\"#adb0ff\", \"#ffb3ff\", \"#90d595\", \"#e48381\", \"#aafbff\", \"#f7bb5f\", \"#eafb50\"]\n",
    "# ))\n",
    "# group_lk = g.set_index('name')['group'].to_dict()"
   ]
  },
  {
   "cell_type": "code",
   "execution_count": null,
   "id": "gross-drinking",
   "metadata": {
    "papermill": {
     "duration": 0.034084,
     "end_time": "2021-08-17T00:21:17.606845",
     "exception": false,
     "start_time": "2021-08-17T00:21:17.572761",
     "status": "completed"
    },
    "tags": []
   },
   "outputs": [],
   "source": []
  },
  {
   "cell_type": "code",
   "execution_count": 41,
   "id": "subject-macintosh",
   "metadata": {
    "execution": {
     "iopub.execute_input": "2021-08-17T00:21:17.678440Z",
     "iopub.status.busy": "2021-08-17T00:21:17.677849Z",
     "iopub.status.idle": "2021-08-17T00:21:17.679920Z",
     "shell.execute_reply": "2021-08-17T00:21:17.680624Z"
    },
    "papermill": {
     "duration": 0.041122,
     "end_time": "2021-08-17T00:21:17.680798",
     "exception": false,
     "start_time": "2021-08-17T00:21:17.639676",
     "status": "completed"
    },
    "tags": []
   },
   "outputs": [],
   "source": [
    "# #hide\n",
    "# fig, ax = plt.subplots(figsize=(15, 8))\n",
    "\n",
    "# def draw_barchart(current_day):\n",
    "#     dff = g[g['day'].eq(current_day)].sort_values(by='value', ascending=True).tail(10)\n",
    "#     ax.clear()\n",
    "#     ax.barh(dff['name'], dff['value'], color=[colors[group_lk[x]] for x in dff['name']])\n",
    "#     dx = dff['value'].max() / 200\n",
    "    \n",
    "#     for i, (value, name) in enumerate(zip(dff['value'], dff['name'])):\n",
    "#         ax.text(value-dx, i,     name,           size=14, weight=600, ha='right', va='bottom')\n",
    "#         ax.text(value-dx, i-.25, group_lk[name], size=10, color='#444444', ha='right', va='baseline')\n",
    "#         ax.text(value+dx, i,     f'{value:,.0f}',  size=14, ha='left',  va='center')\n",
    "#     ax.text(1, 0.4, current_day, transform=ax.transAxes, color='#777777', size=46, ha='right', weight=800)\n",
    "#     ax.text(0, 1.06, 'Population (thousands)', transform=ax.transAxes, size=12, color='#777777')\n",
    "#     ax.xaxis.set_major_formatter(ticker.StrMethodFormatter('{x:,.0f}'))\n",
    "#     ax.xaxis.set_ticks_position('top')\n",
    "#     ax.tick_params(axis='x', colors='#777777', labelsize=12)\n",
    "#     ax.set_yticks([])\n",
    "#     ax.margins(0, 0.01)\n",
    "#     ax.grid(which='major', axis='x', linestyle='-')\n",
    "#     ax.set_axisbelow(True)\n",
    "    \n",
    "#     ax.text(0, 1.15, 'Coronavirus',\n",
    "#             transform=ax.transAxes, size=24, weight=600, ha='left', va='top')\n",
    "# #     ax.text(1, 0, 'by @pratapvardhan; credit @jburnmurdoch', transform=ax.transAxes, color='#777777', ha='right',\n",
    "# #             bbox=dict(facecolor='white', alpha=0.8, edgecolor='white'))\n",
    "#     plt.box(False)"
   ]
  },
  {
   "cell_type": "code",
   "execution_count": 42,
   "id": "sexual-wages",
   "metadata": {
    "execution": {
     "iopub.execute_input": "2021-08-17T00:21:17.764556Z",
     "iopub.status.busy": "2021-08-17T00:21:17.763981Z",
     "iopub.status.idle": "2021-08-17T00:21:17.766672Z",
     "shell.execute_reply": "2021-08-17T00:21:17.766248Z"
    },
    "papermill": {
     "duration": 0.046484,
     "end_time": "2021-08-17T00:21:17.766779",
     "exception": false,
     "start_time": "2021-08-17T00:21:17.720295",
     "status": "completed"
    },
    "tags": []
   },
   "outputs": [],
   "source": [
    "# #hide_input\n",
    "# fig, ax = plt.subplots(figsize=(15, 8))\n",
    "# animator = animation.FuncAnimation(fig, draw_barchart, frames=range(g.day.values.min(), g.day.values.max()))\n",
    "# HTML(animator.to_jshtml())\n",
    "# # or use animator.to_html5_video() or animator.save() "
   ]
  },
  {
   "cell_type": "code",
   "execution_count": null,
   "id": "australian-container",
   "metadata": {
    "papermill": {
     "duration": 0.033855,
     "end_time": "2021-08-17T00:21:17.833411",
     "exception": false,
     "start_time": "2021-08-17T00:21:17.799556",
     "status": "completed"
    },
    "tags": []
   },
   "outputs": [],
   "source": []
  },
  {
   "cell_type": "code",
   "execution_count": null,
   "id": "mediterranean-pontiac",
   "metadata": {
    "papermill": {
     "duration": 0.03918,
     "end_time": "2021-08-17T00:21:17.906417",
     "exception": false,
     "start_time": "2021-08-17T00:21:17.867237",
     "status": "completed"
    },
    "tags": []
   },
   "outputs": [],
   "source": []
  },
  {
   "cell_type": "code",
   "execution_count": null,
   "id": "aging-legislature",
   "metadata": {
    "papermill": {
     "duration": 0.036402,
     "end_time": "2021-08-17T00:21:17.978853",
     "exception": false,
     "start_time": "2021-08-17T00:21:17.942451",
     "status": "completed"
    },
    "tags": []
   },
   "outputs": [],
   "source": []
  }
 ],
 "metadata": {
  "kernelspec": {
   "display_name": "Python 3",
   "language": "python",
   "name": "python3"
  },
  "language_info": {
   "codemirror_mode": {
    "name": "ipython",
    "version": 3
   },
   "file_extension": ".py",
   "mimetype": "text/x-python",
   "name": "python",
   "nbconvert_exporter": "python",
   "pygments_lexer": "ipython3",
   "version": "3.6.14"
  },
  "papermill": {
   "duration": 6.234612,
   "end_time": "2021-08-17T00:21:18.326758",
   "environment_variables": {},
   "exception": null,
   "input_path": "2020-03-21-covid19exp.ipynb",
   "output_path": "2020-03-21-covid19exp.ipynb",
   "parameters": {},
   "start_time": "2021-08-17T00:21:12.092146",
   "version": "2.0.0"
  }
 },
 "nbformat": 4,
 "nbformat_minor": 5
}