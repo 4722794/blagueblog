{
 "cells": [
  {
   "cell_type": "markdown",
   "metadata": {
    "papermill": {
     "duration": 0.044795,
     "end_time": "2020-12-16T12:08:11.749745",
     "exception": false,
     "start_time": "2020-12-16T12:08:11.704950",
     "status": "completed"
    },
    "tags": []
   },
   "source": [
    "# COVID-19 Case Race\n",
    "> A race chart to see rising cases around the world\n",
    "\n",
    "- author: Hargun Oberoi\n",
    "- image: images/covid-overview.png\n",
    "- hide: false\n",
    "- badges: false"
   ]
  },
  {
   "cell_type": "code",
   "execution_count": 1,
   "metadata": {
    "execution": {
     "iopub.execute_input": "2020-12-16T12:08:11.830448Z",
     "iopub.status.busy": "2020-12-16T12:08:11.829715Z",
     "iopub.status.idle": "2020-12-16T12:08:12.223331Z",
     "shell.execute_reply": "2020-12-16T12:08:12.222152Z"
    },
    "papermill": {
     "duration": 0.439697,
     "end_time": "2020-12-16T12:08:12.223538",
     "exception": false,
     "start_time": "2020-12-16T12:08:11.783841",
     "status": "completed"
    },
    "tags": []
   },
   "outputs": [],
   "source": [
    "#hide\n",
    "import numpy as np\n",
    "import pandas as pd\n",
    "from jinja2 import Template\n",
    "from IPython.display import HTML"
   ]
  },
  {
   "cell_type": "code",
   "execution_count": 2,
   "metadata": {
    "execution": {
     "iopub.execute_input": "2020-12-16T12:08:12.299964Z",
     "iopub.status.busy": "2020-12-16T12:08:12.299271Z",
     "iopub.status.idle": "2020-12-16T12:08:12.301252Z",
     "shell.execute_reply": "2020-12-16T12:08:12.301826Z"
    },
    "papermill": {
     "duration": 0.043235,
     "end_time": "2020-12-16T12:08:12.302000",
     "exception": false,
     "start_time": "2020-12-16T12:08:12.258765",
     "status": "completed"
    },
    "tags": []
   },
   "outputs": [],
   "source": [
    "#hide\n",
    "\n",
    "# FETCH\n",
    "base_url = 'https://raw.githubusercontent.com/pratapvardhan/notebooks/master/covid19/'\n",
    "paths = {\n",
    "    'mapping': base_url + 'mapping_countries.csv',\n",
    "    'overview': base_url + 'overview.tpl'\n",
    "}"
   ]
  },
  {
   "cell_type": "code",
   "execution_count": 3,
   "metadata": {
    "execution": {
     "iopub.execute_input": "2020-12-16T12:08:12.378921Z",
     "iopub.status.busy": "2020-12-16T12:08:12.378218Z",
     "iopub.status.idle": "2020-12-16T12:08:12.386397Z",
     "shell.execute_reply": "2020-12-16T12:08:12.386943Z"
    },
    "papermill": {
     "duration": 0.051204,
     "end_time": "2020-12-16T12:08:12.387125",
     "exception": false,
     "start_time": "2020-12-16T12:08:12.335921",
     "status": "completed"
    },
    "tags": []
   },
   "outputs": [
    {
     "data": {
      "text/plain": [
       "'https://raw.githubusercontent.com/pratapvardhan/notebooks/master/covid19/mapping_countries.csv'"
      ]
     },
     "execution_count": 3,
     "metadata": {},
     "output_type": "execute_result"
    }
   ],
   "source": [
    "#hide\n",
    "paths['mapping']"
   ]
  },
  {
   "cell_type": "code",
   "execution_count": 4,
   "metadata": {
    "execution": {
     "iopub.execute_input": "2020-12-16T12:08:12.463186Z",
     "iopub.status.busy": "2020-12-16T12:08:12.462495Z",
     "iopub.status.idle": "2020-12-16T12:08:12.464075Z",
     "shell.execute_reply": "2020-12-16T12:08:12.464745Z"
    },
    "papermill": {
     "duration": 0.042305,
     "end_time": "2020-12-16T12:08:12.464909",
     "exception": false,
     "start_time": "2020-12-16T12:08:12.422604",
     "status": "completed"
    },
    "tags": []
   },
   "outputs": [],
   "source": [
    "#hide\n",
    "def get_mappings(url):\n",
    "    df = pd.read_csv(url)\n",
    "    return {\n",
    "        'df': df,\n",
    "        'replace.country': dict(df.dropna(subset=['Name']).set_index('Country')['Name']),\n",
    "        'map.continent': dict(df.set_index('Name')['Continent'])\n",
    "    }"
   ]
  },
  {
   "cell_type": "code",
   "execution_count": 5,
   "metadata": {
    "execution": {
     "iopub.execute_input": "2020-12-16T12:08:12.544453Z",
     "iopub.status.busy": "2020-12-16T12:08:12.543742Z",
     "iopub.status.idle": "2020-12-16T12:08:12.591282Z",
     "shell.execute_reply": "2020-12-16T12:08:12.590710Z"
    },
    "papermill": {
     "duration": 0.092312,
     "end_time": "2020-12-16T12:08:12.591437",
     "exception": false,
     "start_time": "2020-12-16T12:08:12.499125",
     "status": "completed"
    },
    "tags": []
   },
   "outputs": [],
   "source": [
    "#hide\n",
    "mapping = get_mappings(paths['mapping'])"
   ]
  },
  {
   "cell_type": "code",
   "execution_count": 6,
   "metadata": {
    "execution": {
     "iopub.execute_input": "2020-12-16T12:08:12.672481Z",
     "iopub.status.busy": "2020-12-16T12:08:12.671665Z",
     "iopub.status.idle": "2020-12-16T12:08:12.673460Z",
     "shell.execute_reply": "2020-12-16T12:08:12.674034Z"
    },
    "papermill": {
     "duration": 0.042238,
     "end_time": "2020-12-16T12:08:12.674202",
     "exception": false,
     "start_time": "2020-12-16T12:08:12.631964",
     "status": "completed"
    },
    "tags": []
   },
   "outputs": [],
   "source": [
    "#hide\n",
    "def get_template(path):\n",
    "    from urllib.parse import urlparse\n",
    "    if bool(urlparse(path).netloc):\n",
    "        from urllib.request import urlopen\n",
    "        return urlopen(path).read().decode('utf8')\n",
    "    return open(path).read()"
   ]
  },
  {
   "cell_type": "code",
   "execution_count": 7,
   "metadata": {
    "execution": {
     "iopub.execute_input": "2020-12-16T12:08:12.748277Z",
     "iopub.status.busy": "2020-12-16T12:08:12.747607Z",
     "iopub.status.idle": "2020-12-16T12:08:12.750032Z",
     "shell.execute_reply": "2020-12-16T12:08:12.749378Z"
    },
    "papermill": {
     "duration": 0.041015,
     "end_time": "2020-12-16T12:08:12.750170",
     "exception": false,
     "start_time": "2020-12-16T12:08:12.709155",
     "status": "completed"
    },
    "tags": []
   },
   "outputs": [],
   "source": [
    "#hide\n",
    "def get_frame(name):\n",
    "    url = (\n",
    "        'https://raw.githubusercontent.com/CSSEGISandData/COVID-19/master/csse_covid_19_data/'\n",
    "        f'csse_covid_19_time_series/time_series_covid19_{name}_global.csv')\n",
    "    df = pd.read_csv(url)\n",
    "    # rename countries\n",
    "    df['Country/Region'] = df['Country/Region'].replace(mapping['replace.country'])\n",
    "    return df"
   ]
  },
  {
   "cell_type": "code",
   "execution_count": 8,
   "metadata": {
    "execution": {
     "iopub.execute_input": "2020-12-16T12:08:12.831057Z",
     "iopub.status.busy": "2020-12-16T12:08:12.830323Z",
     "iopub.status.idle": "2020-12-16T12:08:12.832083Z",
     "shell.execute_reply": "2020-12-16T12:08:12.832818Z"
    },
    "papermill": {
     "duration": 0.043794,
     "end_time": "2020-12-16T12:08:12.832997",
     "exception": false,
     "start_time": "2020-12-16T12:08:12.789203",
     "status": "completed"
    },
    "tags": []
   },
   "outputs": [],
   "source": [
    "#hide\n",
    "def get_dates(df):\n",
    "    dt_cols = df.columns[~df.columns.isin(['Province/State', 'Country/Region', 'Lat', 'Long'])]\n",
    "    LAST_DATE_I = -1\n",
    "    # sometimes last column may be empty, then go backwards\n",
    "    for i in range(-1, -len(dt_cols), -1):\n",
    "        if not df[dt_cols[i]].fillna(0).eq(0).all():\n",
    "            LAST_DATE_I = i\n",
    "            break\n",
    "    return LAST_DATE_I, dt_cols"
   ]
  },
  {
   "cell_type": "code",
   "execution_count": 9,
   "metadata": {
    "execution": {
     "iopub.execute_input": "2020-12-16T12:08:12.909345Z",
     "iopub.status.busy": "2020-12-16T12:08:12.908651Z",
     "iopub.status.idle": "2020-12-16T12:08:13.241311Z",
     "shell.execute_reply": "2020-12-16T12:08:13.240156Z"
    },
    "papermill": {
     "duration": 0.373721,
     "end_time": "2020-12-16T12:08:13.241483",
     "exception": false,
     "start_time": "2020-12-16T12:08:12.867762",
     "status": "completed"
    },
    "tags": []
   },
   "outputs": [],
   "source": [
    "#hide\n",
    "COL_REGION = 'Country/Region'\n",
    "# Confirmed, Recovered, Deaths\n",
    "df = get_frame('confirmed')\n",
    "# dft_: timeseries, dfc_: today country agg\n",
    "dft_cases = df\n",
    "dft_deaths = get_frame('deaths')\n",
    "dft_recovered = get_frame('recovered')\n",
    "LAST_DATE_I, dt_cols = get_dates(df)"
   ]
  },
  {
   "cell_type": "code",
   "execution_count": 10,
   "metadata": {
    "execution": {
     "iopub.execute_input": "2020-12-16T12:08:13.320642Z",
     "iopub.status.busy": "2020-12-16T12:08:13.319869Z",
     "iopub.status.idle": "2020-12-16T12:08:13.322311Z",
     "shell.execute_reply": "2020-12-16T12:08:13.321639Z"
    },
    "papermill": {
     "duration": 0.044682,
     "end_time": "2020-12-16T12:08:13.322461",
     "exception": false,
     "start_time": "2020-12-16T12:08:13.277779",
     "status": "completed"
    },
    "tags": []
   },
   "outputs": [],
   "source": [
    "#hide\n",
    "LAST_DATE_I, dt_cols = get_dates(df)\n",
    "dt_today =dt_cols[LAST_DATE_I]\n",
    "# dt_5day = dt_cols[LAST_DATE_I - 5]\n",
    "dt_yday = dt_cols[LAST_DATE_I - 1]"
   ]
  },
  {
   "cell_type": "code",
   "execution_count": 11,
   "metadata": {
    "execution": {
     "iopub.execute_input": "2020-12-16T12:08:13.400808Z",
     "iopub.status.busy": "2020-12-16T12:08:13.400085Z",
     "iopub.status.idle": "2020-12-16T12:08:13.408256Z",
     "shell.execute_reply": "2020-12-16T12:08:13.408945Z"
    },
    "papermill": {
     "duration": 0.050595,
     "end_time": "2020-12-16T12:08:13.409123",
     "exception": false,
     "start_time": "2020-12-16T12:08:13.358528",
     "status": "completed"
    },
    "tags": []
   },
   "outputs": [],
   "source": [
    "#hide\n",
    "dfc_cases = dft_cases.groupby(COL_REGION)[dt_today].sum()\n",
    "dfc_deaths = dft_deaths.groupby(COL_REGION)[dt_today].sum()\n",
    "# dfp_cases = dft_cases.groupby(COL_REGION)[dt_5day].sum()\n",
    "# dfp_deaths = dft_deaths.groupby(COL_REGION)[dt_5day].sum()\n",
    "dfp_cases = dft_cases.groupby(COL_REGION)[dt_yday].sum()\n",
    "dfp_deaths = dft_deaths.groupby(COL_REGION)[dt_yday].sum()"
   ]
  },
  {
   "cell_type": "code",
   "execution_count": 12,
   "metadata": {
    "execution": {
     "iopub.execute_input": "2020-12-16T12:08:13.486146Z",
     "iopub.status.busy": "2020-12-16T12:08:13.485453Z",
     "iopub.status.idle": "2020-12-16T12:08:13.491229Z",
     "shell.execute_reply": "2020-12-16T12:08:13.490620Z"
    },
    "papermill": {
     "duration": 0.047382,
     "end_time": "2020-12-16T12:08:13.491378",
     "exception": false,
     "start_time": "2020-12-16T12:08:13.443996",
     "status": "completed"
    },
    "tags": []
   },
   "outputs": [],
   "source": [
    "#hide\n",
    "df_table = (pd.DataFrame(dict(Cases = dfc_cases, Deaths = dfc_deaths, PCases = dfp_cases, PDeaths = dfp_deaths))\n",
    "            .sort_values(by = ['Cases','Deaths'], ascending = [False, False])\n",
    "            .reset_index())"
   ]
  },
  {
   "cell_type": "code",
   "execution_count": 13,
   "metadata": {
    "execution": {
     "iopub.execute_input": "2020-12-16T12:08:13.594882Z",
     "iopub.status.busy": "2020-12-16T12:08:13.593666Z",
     "iopub.status.idle": "2020-12-16T12:08:13.598109Z",
     "shell.execute_reply": "2020-12-16T12:08:13.598650Z"
    },
    "papermill": {
     "duration": 0.071541,
     "end_time": "2020-12-16T12:08:13.598829",
     "exception": false,
     "start_time": "2020-12-16T12:08:13.527288",
     "status": "completed"
    },
    "tags": []
   },
   "outputs": [
    {
     "data": {
      "text/html": [
       "<div>\n",
       "<style scoped>\n",
       "    .dataframe tbody tr th:only-of-type {\n",
       "        vertical-align: middle;\n",
       "    }\n",
       "\n",
       "    .dataframe tbody tr th {\n",
       "        vertical-align: top;\n",
       "    }\n",
       "\n",
       "    .dataframe thead th {\n",
       "        text-align: right;\n",
       "    }\n",
       "</style>\n",
       "<table border=\"1\" class=\"dataframe\">\n",
       "  <thead>\n",
       "    <tr style=\"text-align: right;\">\n",
       "      <th></th>\n",
       "      <th>Country/Region</th>\n",
       "      <th>Cases</th>\n",
       "      <th>Deaths</th>\n",
       "      <th>PCases</th>\n",
       "      <th>PDeaths</th>\n",
       "      <th>Cases (+)</th>\n",
       "      <th>Deaths (+)</th>\n",
       "      <th>Fatality Rate</th>\n",
       "      <th>Continent</th>\n",
       "    </tr>\n",
       "  </thead>\n",
       "  <tbody>\n",
       "    <tr>\n",
       "      <th>0</th>\n",
       "      <td>US</td>\n",
       "      <td>16716777</td>\n",
       "      <td>303773</td>\n",
       "      <td>16518420</td>\n",
       "      <td>300754</td>\n",
       "      <td>198357</td>\n",
       "      <td>3019</td>\n",
       "      <td>1.82</td>\n",
       "      <td>North America</td>\n",
       "    </tr>\n",
       "    <tr>\n",
       "      <th>1</th>\n",
       "      <td>India</td>\n",
       "      <td>9932547</td>\n",
       "      <td>144096</td>\n",
       "      <td>9906165</td>\n",
       "      <td>143709</td>\n",
       "      <td>26382</td>\n",
       "      <td>387</td>\n",
       "      <td>1.45</td>\n",
       "      <td>Asia</td>\n",
       "    </tr>\n",
       "    <tr>\n",
       "      <th>2</th>\n",
       "      <td>Brazil</td>\n",
       "      <td>6970034</td>\n",
       "      <td>182799</td>\n",
       "      <td>6927145</td>\n",
       "      <td>181835</td>\n",
       "      <td>42889</td>\n",
       "      <td>964</td>\n",
       "      <td>2.62</td>\n",
       "      <td>South America</td>\n",
       "    </tr>\n",
       "    <tr>\n",
       "      <th>3</th>\n",
       "      <td>Russia</td>\n",
       "      <td>2682866</td>\n",
       "      <td>47410</td>\n",
       "      <td>2656601</td>\n",
       "      <td>46846</td>\n",
       "      <td>26265</td>\n",
       "      <td>564</td>\n",
       "      <td>1.77</td>\n",
       "      <td>Europe</td>\n",
       "    </tr>\n",
       "    <tr>\n",
       "      <th>4</th>\n",
       "      <td>France</td>\n",
       "      <td>2447406</td>\n",
       "      <td>59182</td>\n",
       "      <td>2435751</td>\n",
       "      <td>58391</td>\n",
       "      <td>11655</td>\n",
       "      <td>791</td>\n",
       "      <td>2.42</td>\n",
       "      <td>Europe</td>\n",
       "    </tr>\n",
       "  </tbody>\n",
       "</table>\n",
       "</div>"
      ],
      "text/plain": [
       "  Country/Region     Cases  Deaths    PCases  PDeaths  Cases (+)  Deaths (+)  \\\n",
       "0             US  16716777  303773  16518420   300754     198357        3019   \n",
       "1          India   9932547  144096   9906165   143709      26382         387   \n",
       "2         Brazil   6970034  182799   6927145   181835      42889         964   \n",
       "3         Russia   2682866   47410   2656601    46846      26265         564   \n",
       "4         France   2447406   59182   2435751    58391      11655         791   \n",
       "\n",
       "   Fatality Rate      Continent  \n",
       "0           1.82  North America  \n",
       "1           1.45           Asia  \n",
       "2           2.62  South America  \n",
       "3           1.77         Europe  \n",
       "4           2.42         Europe  "
      ]
     },
     "execution_count": 13,
     "metadata": {},
     "output_type": "execute_result"
    }
   ],
   "source": [
    "#hide\n",
    "for c in 'Cases, Deaths'.split(', '):\n",
    "    df_table[f'{c} (+)'] = (df_table[c] - df_table[f'P{c}']).clip(0)\n",
    "    #Clip ça veut dire, les chiffres negatif sont interdit\n",
    "df_table['Fatality Rate'] = (100* df_table['Deaths']/ df_table['Cases']).round(2)\n",
    "df_table['Continent'] = df_table['Country/Region'].map(mapping['map.continent'])\n",
    "df_table.head(5)"
   ]
  },
  {
   "cell_type": "code",
   "execution_count": 14,
   "metadata": {
    "execution": {
     "iopub.execute_input": "2020-12-16T12:08:13.673778Z",
     "iopub.status.busy": "2020-12-16T12:08:13.673090Z",
     "iopub.status.idle": "2020-12-16T12:08:13.676553Z",
     "shell.execute_reply": "2020-12-16T12:08:13.677188Z"
    },
    "papermill": {
     "duration": 0.04384,
     "end_time": "2020-12-16T12:08:13.677350",
     "exception": false,
     "start_time": "2020-12-16T12:08:13.633510",
     "status": "completed"
    },
    "tags": []
   },
   "outputs": [],
   "source": [
    "#hide\n",
    "#delete problematic countries from table\n",
    "df_table = df_table[~df_table['Country/Region'].isin(['Cape Verde', 'Cruise Ship', 'Kosovo'])]"
   ]
  },
  {
   "cell_type": "code",
   "execution_count": 15,
   "metadata": {
    "execution": {
     "iopub.execute_input": "2020-12-16T12:08:13.759362Z",
     "iopub.status.busy": "2020-12-16T12:08:13.758688Z",
     "iopub.status.idle": "2020-12-16T12:08:13.784141Z",
     "shell.execute_reply": "2020-12-16T12:08:13.783351Z"
    },
    "papermill": {
     "duration": 0.067612,
     "end_time": "2020-12-16T12:08:13.784296",
     "exception": false,
     "start_time": "2020-12-16T12:08:13.716684",
     "status": "completed"
    },
    "tags": []
   },
   "outputs": [
    {
     "data": {
      "text/html": [
       "<div>\n",
       "<style scoped>\n",
       "    .dataframe tbody tr th:only-of-type {\n",
       "        vertical-align: middle;\n",
       "    }\n",
       "\n",
       "    .dataframe tbody tr th {\n",
       "        vertical-align: top;\n",
       "    }\n",
       "\n",
       "    .dataframe thead th {\n",
       "        text-align: right;\n",
       "    }\n",
       "</style>\n",
       "<table border=\"1\" class=\"dataframe\">\n",
       "  <thead>\n",
       "    <tr style=\"text-align: right;\">\n",
       "      <th></th>\n",
       "      <th>Country/Region</th>\n",
       "      <th>Cases</th>\n",
       "      <th>Deaths</th>\n",
       "      <th>PCases</th>\n",
       "      <th>PDeaths</th>\n",
       "      <th>Cases (+)</th>\n",
       "      <th>Deaths (+)</th>\n",
       "      <th>Fatality Rate</th>\n",
       "      <th>Continent</th>\n",
       "    </tr>\n",
       "  </thead>\n",
       "  <tbody>\n",
       "    <tr>\n",
       "      <th>0</th>\n",
       "      <td>US</td>\n",
       "      <td>16716777</td>\n",
       "      <td>303773</td>\n",
       "      <td>16518420</td>\n",
       "      <td>300754</td>\n",
       "      <td>198357</td>\n",
       "      <td>3019</td>\n",
       "      <td>1.8</td>\n",
       "      <td>North America</td>\n",
       "    </tr>\n",
       "    <tr>\n",
       "      <th>1</th>\n",
       "      <td>India</td>\n",
       "      <td>9932547</td>\n",
       "      <td>144096</td>\n",
       "      <td>9906165</td>\n",
       "      <td>143709</td>\n",
       "      <td>26382</td>\n",
       "      <td>387</td>\n",
       "      <td>1.5</td>\n",
       "      <td>Asia</td>\n",
       "    </tr>\n",
       "    <tr>\n",
       "      <th>2</th>\n",
       "      <td>Brazil</td>\n",
       "      <td>6970034</td>\n",
       "      <td>182799</td>\n",
       "      <td>6927145</td>\n",
       "      <td>181835</td>\n",
       "      <td>42889</td>\n",
       "      <td>964</td>\n",
       "      <td>2.6</td>\n",
       "      <td>South America</td>\n",
       "    </tr>\n",
       "    <tr>\n",
       "      <th>3</th>\n",
       "      <td>Russia</td>\n",
       "      <td>2682866</td>\n",
       "      <td>47410</td>\n",
       "      <td>2656601</td>\n",
       "      <td>46846</td>\n",
       "      <td>26265</td>\n",
       "      <td>564</td>\n",
       "      <td>1.8</td>\n",
       "      <td>Europe</td>\n",
       "    </tr>\n",
       "    <tr>\n",
       "      <th>4</th>\n",
       "      <td>France</td>\n",
       "      <td>2447406</td>\n",
       "      <td>59182</td>\n",
       "      <td>2435751</td>\n",
       "      <td>58391</td>\n",
       "      <td>11655</td>\n",
       "      <td>791</td>\n",
       "      <td>2.4</td>\n",
       "      <td>Europe</td>\n",
       "    </tr>\n",
       "  </tbody>\n",
       "</table>\n",
       "</div>"
      ],
      "text/plain": [
       "  Country/Region     Cases  Deaths    PCases  PDeaths  Cases (+)  Deaths (+)  \\\n",
       "0             US  16716777  303773  16518420   300754     198357        3019   \n",
       "1          India   9932547  144096   9906165   143709      26382         387   \n",
       "2         Brazil   6970034  182799   6927145   181835      42889         964   \n",
       "3         Russia   2682866   47410   2656601    46846      26265         564   \n",
       "4         France   2447406   59182   2435751    58391      11655         791   \n",
       "\n",
       "   Fatality Rate      Continent  \n",
       "0            1.8  North America  \n",
       "1            1.5           Asia  \n",
       "2            2.6  South America  \n",
       "3            1.8         Europe  \n",
       "4            2.4         Europe  "
      ]
     },
     "execution_count": 15,
     "metadata": {},
     "output_type": "execute_result"
    }
   ],
   "source": [
    "#hide\n",
    "df_table = (pd.DataFrame(dict(Cases=dfc_cases, Deaths=dfc_deaths, PCases=dfp_cases, PDeaths=dfp_deaths))\n",
    "             .sort_values(by=['Cases', 'Deaths'], ascending=[False, False])\n",
    "             .reset_index())\n",
    "df_table.rename(columns={'index': 'Country/Region'}, inplace=True)\n",
    "for c in 'Cases, Deaths'.split(', '):\n",
    "    df_table[f'{c} (+)'] = (df_table[c] - df_table[f'P{c}']).clip(0)  # DATA BUG\n",
    "df_table['Fatality Rate'] = (100 * df_table['Deaths'] / df_table['Cases']).round(1)\n",
    "df_table['Continent'] = df_table['Country/Region'].map(mapping['map.continent'])\n",
    "df_table.head(5)"
   ]
  },
  {
   "cell_type": "code",
   "execution_count": 16,
   "metadata": {
    "execution": {
     "iopub.execute_input": "2020-12-16T12:08:13.862276Z",
     "iopub.status.busy": "2020-12-16T12:08:13.861605Z",
     "iopub.status.idle": "2020-12-16T12:08:13.865135Z",
     "shell.execute_reply": "2020-12-16T12:08:13.864557Z"
    },
    "papermill": {
     "duration": 0.043566,
     "end_time": "2020-12-16T12:08:13.865278",
     "exception": false,
     "start_time": "2020-12-16T12:08:13.821712",
     "status": "completed"
    },
    "tags": []
   },
   "outputs": [],
   "source": [
    "#hide\n",
    "#delete problematic countries from table\n",
    "df_table = df_table[~df_table['Country/Region'].isin(['Cape Verde', 'Cruise Ship', 'Kosovo'])]"
   ]
  },
  {
   "cell_type": "code",
   "execution_count": 17,
   "metadata": {
    "execution": {
     "iopub.execute_input": "2020-12-16T12:08:13.958167Z",
     "iopub.status.busy": "2020-12-16T12:08:13.957448Z",
     "iopub.status.idle": "2020-12-16T12:08:13.959238Z",
     "shell.execute_reply": "2020-12-16T12:08:13.959787Z"
    },
    "papermill": {
     "duration": 0.059941,
     "end_time": "2020-12-16T12:08:13.959963",
     "exception": false,
     "start_time": "2020-12-16T12:08:13.900022",
     "status": "completed"
    },
    "tags": []
   },
   "outputs": [],
   "source": [
    "#hide\n",
    "metrics = [df_table.columns[index] for index in [1,2,5,6]]\n",
    "# s_china = df_table[df_table['Country/Region'].eq('China')][metrics].sum().add_prefix('China ')\n",
    "s_us = df_table[df_table['Country/Region'].eq('US')][metrics].sum().add_prefix('US ')\n",
    "s_eu = df_table[df_table['Continent'].eq('Europe')][metrics].sum().add_prefix('EU ')\n",
    "s_ind = df_table[df_table['Country/Region'].eq('India')][metrics].sum().add_prefix('India ')\n",
    "summary = {'updated': pd.to_datetime(dt_today), 'since': pd.to_datetime(dt_yday)}\n",
    "summary = {'updated': pd.to_datetime(dt_today), 'since': pd.to_datetime(dt_yday)}\n",
    "summary = {**summary, **df_table[metrics].sum(), **s_ind, **s_us, **s_eu}"
   ]
  },
  {
   "cell_type": "code",
   "execution_count": 18,
   "metadata": {
    "execution": {
     "iopub.execute_input": "2020-12-16T12:08:14.039461Z",
     "iopub.status.busy": "2020-12-16T12:08:14.038780Z",
     "iopub.status.idle": "2020-12-16T12:08:14.049802Z",
     "shell.execute_reply": "2020-12-16T12:08:14.050436Z"
    },
    "papermill": {
     "duration": 0.055847,
     "end_time": "2020-12-16T12:08:14.050606",
     "exception": false,
     "start_time": "2020-12-16T12:08:13.994759",
     "status": "completed"
    },
    "tags": []
   },
   "outputs": [],
   "source": [
    "#hide\n",
    "dft_ct_new_cases = dft_cases.groupby(COL_REGION)[dt_cols].sum().diff(axis=1).fillna(0).astype(int)"
   ]
  },
  {
   "cell_type": "code",
   "execution_count": 19,
   "metadata": {
    "execution": {
     "iopub.execute_input": "2020-12-16T12:08:14.127043Z",
     "iopub.status.busy": "2020-12-16T12:08:14.126377Z",
     "iopub.status.idle": "2020-12-16T12:08:14.133841Z",
     "shell.execute_reply": "2020-12-16T12:08:14.129099Z"
    },
    "papermill": {
     "duration": 0.047889,
     "end_time": "2020-12-16T12:08:14.134028",
     "exception": false,
     "start_time": "2020-12-16T12:08:14.086139",
     "status": "completed"
    },
    "tags": []
   },
   "outputs": [],
   "source": [
    "#hide\n",
    "everydaycases = dft_ct_new_cases.cumsum(axis=1)"
   ]
  },
  {
   "cell_type": "code",
   "execution_count": 20,
   "metadata": {
    "execution": {
     "iopub.execute_input": "2020-12-16T12:08:14.208713Z",
     "iopub.status.busy": "2020-12-16T12:08:14.207995Z",
     "iopub.status.idle": "2020-12-16T12:08:16.502829Z",
     "shell.execute_reply": "2020-12-16T12:08:16.502293Z"
    },
    "papermill": {
     "duration": 2.333941,
     "end_time": "2020-12-16T12:08:16.502966",
     "exception": false,
     "start_time": "2020-12-16T12:08:14.169025",
     "status": "completed"
    },
    "tags": []
   },
   "outputs": [],
   "source": [
    "#hide\n",
    "import pandas as pd\n",
    "import matplotlib.pyplot as plt\n",
    "import matplotlib.ticker as ticker\n",
    "import matplotlib.animation as animation\n",
    "from IPython.display import HTML"
   ]
  },
  {
   "cell_type": "code",
   "execution_count": 21,
   "metadata": {
    "execution": {
     "iopub.execute_input": "2020-12-16T12:08:16.578112Z",
     "iopub.status.busy": "2020-12-16T12:08:16.577512Z",
     "iopub.status.idle": "2020-12-16T12:08:16.582107Z",
     "shell.execute_reply": "2020-12-16T12:08:16.582870Z"
    },
    "papermill": {
     "duration": 0.044419,
     "end_time": "2020-12-16T12:08:16.583037",
     "exception": false,
     "start_time": "2020-12-16T12:08:16.538618",
     "status": "completed"
    },
    "tags": []
   },
   "outputs": [],
   "source": [
    "#hide\n",
    "t = everydaycases.stack()"
   ]
  },
  {
   "cell_type": "code",
   "execution_count": 22,
   "metadata": {
    "execution": {
     "iopub.execute_input": "2020-12-16T12:08:16.661231Z",
     "iopub.status.busy": "2020-12-16T12:08:16.660371Z",
     "iopub.status.idle": "2020-12-16T12:08:16.669124Z",
     "shell.execute_reply": "2020-12-16T12:08:16.668523Z"
    },
    "papermill": {
     "duration": 0.05021,
     "end_time": "2020-12-16T12:08:16.669308",
     "exception": false,
     "start_time": "2020-12-16T12:08:16.619098",
     "status": "completed"
    },
    "tags": []
   },
   "outputs": [],
   "source": [
    "#hide\n",
    "g = t.reset_index(['Country/Region'])"
   ]
  },
  {
   "cell_type": "code",
   "execution_count": 23,
   "metadata": {
    "execution": {
     "iopub.execute_input": "2020-12-16T12:08:16.742302Z",
     "iopub.status.busy": "2020-12-16T12:08:16.741744Z",
     "iopub.status.idle": "2020-12-16T12:08:16.744484Z",
     "shell.execute_reply": "2020-12-16T12:08:16.743818Z"
    },
    "papermill": {
     "duration": 0.039975,
     "end_time": "2020-12-16T12:08:16.744622",
     "exception": false,
     "start_time": "2020-12-16T12:08:16.704647",
     "status": "completed"
    },
    "tags": []
   },
   "outputs": [],
   "source": [
    "#hide\n",
    "g.index.name = 'date'"
   ]
  },
  {
   "cell_type": "code",
   "execution_count": 24,
   "metadata": {
    "execution": {
     "iopub.execute_input": "2020-12-16T12:08:16.815106Z",
     "iopub.status.busy": "2020-12-16T12:08:16.814549Z",
     "iopub.status.idle": "2020-12-16T12:08:16.816202Z",
     "shell.execute_reply": "2020-12-16T12:08:16.817016Z"
    },
    "papermill": {
     "duration": 0.039214,
     "end_time": "2020-12-16T12:08:16.817222",
     "exception": false,
     "start_time": "2020-12-16T12:08:16.778008",
     "status": "completed"
    },
    "tags": []
   },
   "outputs": [],
   "source": [
    "# #hide\n",
    "# g = g.reset_index(['date'])"
   ]
  },
  {
   "cell_type": "code",
   "execution_count": 25,
   "metadata": {
    "execution": {
     "iopub.execute_input": "2020-12-16T12:08:16.893529Z",
     "iopub.status.busy": "2020-12-16T12:08:16.892949Z",
     "iopub.status.idle": "2020-12-16T12:08:16.895247Z",
     "shell.execute_reply": "2020-12-16T12:08:16.895950Z"
    },
    "papermill": {
     "duration": 0.042596,
     "end_time": "2020-12-16T12:08:16.896124",
     "exception": false,
     "start_time": "2020-12-16T12:08:16.853528",
     "status": "completed"
    },
    "tags": []
   },
   "outputs": [],
   "source": [
    "#hide\n",
    "# g.head()"
   ]
  },
  {
   "cell_type": "code",
   "execution_count": 26,
   "metadata": {
    "execution": {
     "iopub.execute_input": "2020-12-16T12:08:16.977954Z",
     "iopub.status.busy": "2020-12-16T12:08:16.972516Z",
     "iopub.status.idle": "2020-12-16T12:08:16.978723Z",
     "shell.execute_reply": "2020-12-16T12:08:16.979304Z"
    },
    "papermill": {
     "duration": 0.046907,
     "end_time": "2020-12-16T12:08:16.979458",
     "exception": false,
     "start_time": "2020-12-16T12:08:16.932551",
     "status": "completed"
    },
    "tags": []
   },
   "outputs": [],
   "source": [
    "#hide\n",
    "# g.columns = ['date','country','cases']"
   ]
  },
  {
   "cell_type": "code",
   "execution_count": 27,
   "metadata": {
    "execution": {
     "iopub.execute_input": "2020-12-16T12:08:17.054108Z",
     "iopub.status.busy": "2020-12-16T12:08:17.053441Z",
     "iopub.status.idle": "2020-12-16T12:08:17.056053Z",
     "shell.execute_reply": "2020-12-16T12:08:17.055398Z"
    },
    "papermill": {
     "duration": 0.042639,
     "end_time": "2020-12-16T12:08:17.056195",
     "exception": false,
     "start_time": "2020-12-16T12:08:17.013556",
     "status": "completed"
    },
    "tags": []
   },
   "outputs": [],
   "source": [
    "#hide\n",
    "# g['continent'] = g.country"
   ]
  },
  {
   "cell_type": "code",
   "execution_count": 28,
   "metadata": {
    "execution": {
     "iopub.execute_input": "2020-12-16T12:08:17.133317Z",
     "iopub.status.busy": "2020-12-16T12:08:17.132669Z",
     "iopub.status.idle": "2020-12-16T12:08:17.134661Z",
     "shell.execute_reply": "2020-12-16T12:08:17.135290Z"
    },
    "papermill": {
     "duration": 0.042199,
     "end_time": "2020-12-16T12:08:17.135444",
     "exception": false,
     "start_time": "2020-12-16T12:08:17.093245",
     "status": "completed"
    },
    "tags": []
   },
   "outputs": [],
   "source": [
    "#hide\n",
    "# cols = list(g.columns.values)"
   ]
  },
  {
   "cell_type": "code",
   "execution_count": 29,
   "metadata": {
    "execution": {
     "iopub.execute_input": "2020-12-16T12:08:17.214499Z",
     "iopub.status.busy": "2020-12-16T12:08:17.213792Z",
     "iopub.status.idle": "2020-12-16T12:08:17.216273Z",
     "shell.execute_reply": "2020-12-16T12:08:17.215625Z"
    },
    "papermill": {
     "duration": 0.043975,
     "end_time": "2020-12-16T12:08:17.216428",
     "exception": false,
     "start_time": "2020-12-16T12:08:17.172453",
     "status": "completed"
    },
    "tags": []
   },
   "outputs": [],
   "source": [
    "#hide\n",
    "# cols.insert(0, cols.pop())"
   ]
  },
  {
   "cell_type": "code",
   "execution_count": 30,
   "metadata": {
    "execution": {
     "iopub.execute_input": "2020-12-16T12:08:17.291826Z",
     "iopub.status.busy": "2020-12-16T12:08:17.290928Z",
     "iopub.status.idle": "2020-12-16T12:08:17.293892Z",
     "shell.execute_reply": "2020-12-16T12:08:17.293297Z"
    },
    "papermill": {
     "duration": 0.041722,
     "end_time": "2020-12-16T12:08:17.294088",
     "exception": false,
     "start_time": "2020-12-16T12:08:17.252366",
     "status": "completed"
    },
    "tags": []
   },
   "outputs": [],
   "source": [
    "#hide\n",
    "# g = g[cols]"
   ]
  },
  {
   "cell_type": "code",
   "execution_count": 31,
   "metadata": {
    "execution": {
     "iopub.execute_input": "2020-12-16T12:08:17.371604Z",
     "iopub.status.busy": "2020-12-16T12:08:17.370911Z",
     "iopub.status.idle": "2020-12-16T12:08:17.375067Z",
     "shell.execute_reply": "2020-12-16T12:08:17.374451Z"
    },
    "papermill": {
     "duration": 0.043417,
     "end_time": "2020-12-16T12:08:17.375214",
     "exception": false,
     "start_time": "2020-12-16T12:08:17.331797",
     "status": "completed"
    },
    "tags": []
   },
   "outputs": [],
   "source": [
    "#hide\n",
    "# g['continent'] = g['continent'].map(mapping['map.continent'])"
   ]
  },
  {
   "cell_type": "code",
   "execution_count": 32,
   "metadata": {
    "execution": {
     "iopub.execute_input": "2020-12-16T12:08:17.460389Z",
     "iopub.status.busy": "2020-12-16T12:08:17.459761Z",
     "iopub.status.idle": "2020-12-16T12:08:17.464200Z",
     "shell.execute_reply": "2020-12-16T12:08:17.463580Z"
    },
    "papermill": {
     "duration": 0.054319,
     "end_time": "2020-12-16T12:08:17.464357",
     "exception": false,
     "start_time": "2020-12-16T12:08:17.410038",
     "status": "completed"
    },
    "tags": []
   },
   "outputs": [],
   "source": [
    "#hide\n",
    "# g.head()"
   ]
  },
  {
   "cell_type": "code",
   "execution_count": 33,
   "metadata": {
    "execution": {
     "iopub.execute_input": "2020-12-16T12:08:17.542626Z",
     "iopub.status.busy": "2020-12-16T12:08:17.541862Z",
     "iopub.status.idle": "2020-12-16T12:08:17.544253Z",
     "shell.execute_reply": "2020-12-16T12:08:17.544776Z"
    },
    "papermill": {
     "duration": 0.043616,
     "end_time": "2020-12-16T12:08:17.544934",
     "exception": false,
     "start_time": "2020-12-16T12:08:17.501318",
     "status": "completed"
    },
    "tags": []
   },
   "outputs": [],
   "source": [
    "# hide\n",
    "# g['date'] = g['date'].astype('datetime64[ns]')"
   ]
  },
  {
   "cell_type": "code",
   "execution_count": 34,
   "metadata": {
    "execution": {
     "iopub.execute_input": "2020-12-16T12:08:17.615911Z",
     "iopub.status.busy": "2020-12-16T12:08:17.615304Z",
     "iopub.status.idle": "2020-12-16T12:08:17.617291Z",
     "shell.execute_reply": "2020-12-16T12:08:17.617840Z"
    },
    "papermill": {
     "duration": 0.039205,
     "end_time": "2020-12-16T12:08:17.618021",
     "exception": false,
     "start_time": "2020-12-16T12:08:17.578816",
     "status": "completed"
    },
    "tags": []
   },
   "outputs": [],
   "source": [
    "#hide\n",
    "# g['date'] = g.date.dt.dayofyear"
   ]
  },
  {
   "cell_type": "code",
   "execution_count": 35,
   "metadata": {
    "execution": {
     "iopub.execute_input": "2020-12-16T12:08:17.698136Z",
     "iopub.status.busy": "2020-12-16T12:08:17.697446Z",
     "iopub.status.idle": "2020-12-16T12:08:17.699636Z",
     "shell.execute_reply": "2020-12-16T12:08:17.700143Z"
    },
    "papermill": {
     "duration": 0.043008,
     "end_time": "2020-12-16T12:08:17.700293",
     "exception": false,
     "start_time": "2020-12-16T12:08:17.657285",
     "status": "completed"
    },
    "tags": []
   },
   "outputs": [],
   "source": [
    "#hide\n",
    "# g = g.rename(columns= {'continent':'group','country':'name','cases':'value'})"
   ]
  },
  {
   "cell_type": "code",
   "execution_count": 36,
   "metadata": {
    "execution": {
     "iopub.execute_input": "2020-12-16T12:08:17.781785Z",
     "iopub.status.busy": "2020-12-16T12:08:17.781018Z",
     "iopub.status.idle": "2020-12-16T12:08:17.783671Z",
     "shell.execute_reply": "2020-12-16T12:08:17.782954Z"
    },
    "papermill": {
     "duration": 0.042741,
     "end_time": "2020-12-16T12:08:17.783811",
     "exception": false,
     "start_time": "2020-12-16T12:08:17.741070",
     "status": "completed"
    },
    "tags": []
   },
   "outputs": [],
   "source": [
    "#hide\n",
    "# cols = ['name','group','day','value']"
   ]
  },
  {
   "cell_type": "code",
   "execution_count": 37,
   "metadata": {
    "execution": {
     "iopub.execute_input": "2020-12-16T12:08:17.861444Z",
     "iopub.status.busy": "2020-12-16T12:08:17.860741Z",
     "iopub.status.idle": "2020-12-16T12:08:17.862736Z",
     "shell.execute_reply": "2020-12-16T12:08:17.863285Z"
    },
    "papermill": {
     "duration": 0.043076,
     "end_time": "2020-12-16T12:08:17.863435",
     "exception": false,
     "start_time": "2020-12-16T12:08:17.820359",
     "status": "completed"
    },
    "tags": []
   },
   "outputs": [],
   "source": [
    "#hide\n",
    "# g.rename(columns= {'date':'day'},inplace = True)"
   ]
  },
  {
   "cell_type": "code",
   "execution_count": 38,
   "metadata": {
    "execution": {
     "iopub.execute_input": "2020-12-16T12:08:17.952826Z",
     "iopub.status.busy": "2020-12-16T12:08:17.952084Z",
     "iopub.status.idle": "2020-12-16T12:08:17.954388Z",
     "shell.execute_reply": "2020-12-16T12:08:17.954960Z"
    },
    "papermill": {
     "duration": 0.04319,
     "end_time": "2020-12-16T12:08:17.955155",
     "exception": false,
     "start_time": "2020-12-16T12:08:17.911965",
     "status": "completed"
    },
    "tags": []
   },
   "outputs": [],
   "source": [
    "#hide\n",
    "# g = g[cols]"
   ]
  },
  {
   "cell_type": "code",
   "execution_count": 39,
   "metadata": {
    "execution": {
     "iopub.execute_input": "2020-12-16T12:08:18.033320Z",
     "iopub.status.busy": "2020-12-16T12:08:18.032600Z",
     "iopub.status.idle": "2020-12-16T12:08:18.034563Z",
     "shell.execute_reply": "2020-12-16T12:08:18.035200Z"
    },
    "papermill": {
     "duration": 0.042547,
     "end_time": "2020-12-16T12:08:18.035395",
     "exception": false,
     "start_time": "2020-12-16T12:08:17.992848",
     "status": "completed"
    },
    "tags": []
   },
   "outputs": [],
   "source": [
    "# #hide\n",
    "# g = g[g.group.notna()]"
   ]
  },
  {
   "cell_type": "code",
   "execution_count": 40,
   "metadata": {
    "execution": {
     "iopub.execute_input": "2020-12-16T12:08:18.111710Z",
     "iopub.status.busy": "2020-12-16T12:08:18.111017Z",
     "iopub.status.idle": "2020-12-16T12:08:18.112997Z",
     "shell.execute_reply": "2020-12-16T12:08:18.113575Z"
    },
    "papermill": {
     "duration": 0.042679,
     "end_time": "2020-12-16T12:08:18.113817",
     "exception": false,
     "start_time": "2020-12-16T12:08:18.071138",
     "status": "completed"
    },
    "tags": []
   },
   "outputs": [],
   "source": [
    "# #hide\n",
    "# colors = dict(zip(\n",
    "#     [\"Oceania\", \"Europe\", \"Asia\", \"South America\", \"Middle East\", \"North America\", \"Africa\"],\n",
    "#     [\"#adb0ff\", \"#ffb3ff\", \"#90d595\", \"#e48381\", \"#aafbff\", \"#f7bb5f\", \"#eafb50\"]\n",
    "# ))\n",
    "# group_lk = g.set_index('name')['group'].to_dict()"
   ]
  },
  {
   "cell_type": "code",
   "execution_count": null,
   "metadata": {
    "papermill": {
     "duration": 0.041612,
     "end_time": "2020-12-16T12:08:18.189919",
     "exception": false,
     "start_time": "2020-12-16T12:08:18.148307",
     "status": "completed"
    },
    "tags": []
   },
   "outputs": [],
   "source": []
  },
  {
   "cell_type": "code",
   "execution_count": 41,
   "metadata": {
    "execution": {
     "iopub.execute_input": "2020-12-16T12:08:18.266451Z",
     "iopub.status.busy": "2020-12-16T12:08:18.265226Z",
     "iopub.status.idle": "2020-12-16T12:08:18.267411Z",
     "shell.execute_reply": "2020-12-16T12:08:18.268989Z"
    },
    "papermill": {
     "duration": 0.043193,
     "end_time": "2020-12-16T12:08:18.269301",
     "exception": false,
     "start_time": "2020-12-16T12:08:18.226108",
     "status": "completed"
    },
    "tags": []
   },
   "outputs": [],
   "source": [
    "# #hide\n",
    "# fig, ax = plt.subplots(figsize=(15, 8))\n",
    "\n",
    "# def draw_barchart(current_day):\n",
    "#     dff = g[g['day'].eq(current_day)].sort_values(by='value', ascending=True).tail(10)\n",
    "#     ax.clear()\n",
    "#     ax.barh(dff['name'], dff['value'], color=[colors[group_lk[x]] for x in dff['name']])\n",
    "#     dx = dff['value'].max() / 200\n",
    "    \n",
    "#     for i, (value, name) in enumerate(zip(dff['value'], dff['name'])):\n",
    "#         ax.text(value-dx, i,     name,           size=14, weight=600, ha='right', va='bottom')\n",
    "#         ax.text(value-dx, i-.25, group_lk[name], size=10, color='#444444', ha='right', va='baseline')\n",
    "#         ax.text(value+dx, i,     f'{value:,.0f}',  size=14, ha='left',  va='center')\n",
    "#     ax.text(1, 0.4, current_day, transform=ax.transAxes, color='#777777', size=46, ha='right', weight=800)\n",
    "#     ax.text(0, 1.06, 'Population (thousands)', transform=ax.transAxes, size=12, color='#777777')\n",
    "#     ax.xaxis.set_major_formatter(ticker.StrMethodFormatter('{x:,.0f}'))\n",
    "#     ax.xaxis.set_ticks_position('top')\n",
    "#     ax.tick_params(axis='x', colors='#777777', labelsize=12)\n",
    "#     ax.set_yticks([])\n",
    "#     ax.margins(0, 0.01)\n",
    "#     ax.grid(which='major', axis='x', linestyle='-')\n",
    "#     ax.set_axisbelow(True)\n",
    "    \n",
    "#     ax.text(0, 1.15, 'Coronavirus',\n",
    "#             transform=ax.transAxes, size=24, weight=600, ha='left', va='top')\n",
    "# #     ax.text(1, 0, 'by @pratapvardhan; credit @jburnmurdoch', transform=ax.transAxes, color='#777777', ha='right',\n",
    "# #             bbox=dict(facecolor='white', alpha=0.8, edgecolor='white'))\n",
    "#     plt.box(False)"
   ]
  },
  {
   "cell_type": "code",
   "execution_count": 42,
   "metadata": {
    "execution": {
     "iopub.execute_input": "2020-12-16T12:08:18.346062Z",
     "iopub.status.busy": "2020-12-16T12:08:18.345343Z",
     "iopub.status.idle": "2020-12-16T12:08:18.347973Z",
     "shell.execute_reply": "2020-12-16T12:08:18.347413Z"
    },
    "papermill": {
     "duration": 0.043514,
     "end_time": "2020-12-16T12:08:18.348968",
     "exception": false,
     "start_time": "2020-12-16T12:08:18.305454",
     "status": "completed"
    },
    "tags": []
   },
   "outputs": [],
   "source": [
    "# #hide_input\n",
    "# fig, ax = plt.subplots(figsize=(15, 8))\n",
    "# animator = animation.FuncAnimation(fig, draw_barchart, frames=range(g.day.values.min(), g.day.values.max()))\n",
    "# HTML(animator.to_jshtml())\n",
    "# # or use animator.to_html5_video() or animator.save() "
   ]
  },
  {
   "cell_type": "code",
   "execution_count": null,
   "metadata": {
    "papermill": {
     "duration": 0.037072,
     "end_time": "2020-12-16T12:08:18.422309",
     "exception": false,
     "start_time": "2020-12-16T12:08:18.385237",
     "status": "completed"
    },
    "tags": []
   },
   "outputs": [],
   "source": []
  },
  {
   "cell_type": "code",
   "execution_count": null,
   "metadata": {
    "papermill": {
     "duration": 0.033857,
     "end_time": "2020-12-16T12:08:18.493077",
     "exception": false,
     "start_time": "2020-12-16T12:08:18.459220",
     "status": "completed"
    },
    "tags": []
   },
   "outputs": [],
   "source": []
  },
  {
   "cell_type": "code",
   "execution_count": null,
   "metadata": {
    "papermill": {
     "duration": 0.034999,
     "end_time": "2020-12-16T12:08:18.567686",
     "exception": false,
     "start_time": "2020-12-16T12:08:18.532687",
     "status": "completed"
    },
    "tags": []
   },
   "outputs": [],
   "source": []
  }
 ],
 "metadata": {
  "kernelspec": {
   "display_name": "Python 3",
   "language": "python",
   "name": "python3"
  },
  "language_info": {
   "codemirror_mode": {
    "name": "ipython",
    "version": 3
   },
   "file_extension": ".py",
   "mimetype": "text/x-python",
   "name": "python",
   "nbconvert_exporter": "python",
   "pygments_lexer": "ipython3",
   "version": "3.6.12"
  },
  "papermill": {
   "duration": 8.356279,
   "end_time": "2020-12-16T12:08:18.911662",
   "environment_variables": {},
   "exception": null,
   "input_path": "2020-03-21-covid19exp.ipynb",
   "output_path": "2020-03-21-covid19exp.ipynb",
   "parameters": {},
   "start_time": "2020-12-16T12:08:10.555383",
   "version": "2.0.0"
  }
 },
 "nbformat": 4,
 "nbformat_minor": 4
}