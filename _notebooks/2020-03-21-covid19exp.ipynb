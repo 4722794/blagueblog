{
 "cells": [
  {
   "cell_type": "markdown",
   "id": "muslim-click",
   "metadata": {
    "papermill": {
     "duration": 0.042532,
     "end_time": "2021-07-15T12:10:39.861936",
     "exception": false,
     "start_time": "2021-07-15T12:10:39.819404",
     "status": "completed"
    },
    "tags": []
   },
   "source": [
    "# COVID-19 Case Race\n",
    "> A race chart to see rising cases around the world\n",
    "\n",
    "- author: Hargun Oberoi\n",
    "- image: images/covid-overview.png\n",
    "- hide: false\n",
    "- badges: false"
   ]
  },
  {
   "cell_type": "code",
   "execution_count": 1,
   "id": "proof-material",
   "metadata": {
    "execution": {
     "iopub.execute_input": "2021-07-15T12:10:39.957214Z",
     "iopub.status.busy": "2021-07-15T12:10:39.956537Z",
     "iopub.status.idle": "2021-07-15T12:10:40.394520Z",
     "shell.execute_reply": "2021-07-15T12:10:40.395047Z"
    },
    "papermill": {
     "duration": 0.495087,
     "end_time": "2021-07-15T12:10:40.395237",
     "exception": false,
     "start_time": "2021-07-15T12:10:39.900150",
     "status": "completed"
    },
    "tags": []
   },
   "outputs": [],
   "source": [
    "#hide\n",
    "import numpy as np\n",
    "import pandas as pd\n",
    "from jinja2 import Template\n",
    "from IPython.display import HTML"
   ]
  },
  {
   "cell_type": "code",
   "execution_count": 2,
   "id": "developed-terminology",
   "metadata": {
    "execution": {
     "iopub.execute_input": "2021-07-15T12:10:40.477317Z",
     "iopub.status.busy": "2021-07-15T12:10:40.476598Z",
     "iopub.status.idle": "2021-07-15T12:10:40.478506Z",
     "shell.execute_reply": "2021-07-15T12:10:40.479108Z"
    },
    "papermill": {
     "duration": 0.046398,
     "end_time": "2021-07-15T12:10:40.479254",
     "exception": false,
     "start_time": "2021-07-15T12:10:40.432856",
     "status": "completed"
    },
    "tags": []
   },
   "outputs": [],
   "source": [
    "#hide\n",
    "\n",
    "# FETCH\n",
    "base_url = 'https://raw.githubusercontent.com/pratapvardhan/notebooks/master/covid19/'\n",
    "paths = {\n",
    "    'mapping': base_url + 'mapping_countries.csv',\n",
    "    'overview': base_url + 'overview.tpl'\n",
    "}"
   ]
  },
  {
   "cell_type": "code",
   "execution_count": 3,
   "id": "dynamic-saver",
   "metadata": {
    "execution": {
     "iopub.execute_input": "2021-07-15T12:10:40.578854Z",
     "iopub.status.busy": "2021-07-15T12:10:40.578201Z",
     "iopub.status.idle": "2021-07-15T12:10:40.580746Z",
     "shell.execute_reply": "2021-07-15T12:10:40.581361Z"
    },
    "papermill": {
     "duration": 0.05226,
     "end_time": "2021-07-15T12:10:40.581513",
     "exception": false,
     "start_time": "2021-07-15T12:10:40.529253",
     "status": "completed"
    },
    "tags": []
   },
   "outputs": [
    {
     "data": {
      "text/plain": [
       "'https://raw.githubusercontent.com/pratapvardhan/notebooks/master/covid19/mapping_countries.csv'"
      ]
     },
     "execution_count": 3,
     "metadata": {},
     "output_type": "execute_result"
    }
   ],
   "source": [
    "#hide\n",
    "paths['mapping']"
   ]
  },
  {
   "cell_type": "code",
   "execution_count": 4,
   "id": "urban-software",
   "metadata": {
    "execution": {
     "iopub.execute_input": "2021-07-15T12:10:40.666922Z",
     "iopub.status.busy": "2021-07-15T12:10:40.666237Z",
     "iopub.status.idle": "2021-07-15T12:10:40.668094Z",
     "shell.execute_reply": "2021-07-15T12:10:40.668722Z"
    },
    "papermill": {
     "duration": 0.048037,
     "end_time": "2021-07-15T12:10:40.668870",
     "exception": false,
     "start_time": "2021-07-15T12:10:40.620833",
     "status": "completed"
    },
    "tags": []
   },
   "outputs": [],
   "source": [
    "#hide\n",
    "def get_mappings(url):\n",
    "    df = pd.read_csv(url)\n",
    "    return {\n",
    "        'df': df,\n",
    "        'replace.country': dict(df.dropna(subset=['Name']).set_index('Country')['Name']),\n",
    "        'map.continent': dict(df.set_index('Name')['Continent'])\n",
    "    }"
   ]
  },
  {
   "cell_type": "code",
   "execution_count": 5,
   "id": "intimate-machinery",
   "metadata": {
    "execution": {
     "iopub.execute_input": "2021-07-15T12:10:40.751341Z",
     "iopub.status.busy": "2021-07-15T12:10:40.750634Z",
     "iopub.status.idle": "2021-07-15T12:10:40.820547Z",
     "shell.execute_reply": "2021-07-15T12:10:40.819953Z"
    },
    "papermill": {
     "duration": 0.113564,
     "end_time": "2021-07-15T12:10:40.820717",
     "exception": false,
     "start_time": "2021-07-15T12:10:40.707153",
     "status": "completed"
    },
    "tags": []
   },
   "outputs": [],
   "source": [
    "#hide\n",
    "mapping = get_mappings(paths['mapping'])"
   ]
  },
  {
   "cell_type": "code",
   "execution_count": 6,
   "id": "certified-tactics",
   "metadata": {
    "execution": {
     "iopub.execute_input": "2021-07-15T12:10:40.902977Z",
     "iopub.status.busy": "2021-07-15T12:10:40.902312Z",
     "iopub.status.idle": "2021-07-15T12:10:40.904159Z",
     "shell.execute_reply": "2021-07-15T12:10:40.904720Z"
    },
    "papermill": {
     "duration": 0.045914,
     "end_time": "2021-07-15T12:10:40.904873",
     "exception": false,
     "start_time": "2021-07-15T12:10:40.858959",
     "status": "completed"
    },
    "tags": []
   },
   "outputs": [],
   "source": [
    "#hide\n",
    "def get_template(path):\n",
    "    from urllib.parse import urlparse\n",
    "    if bool(urlparse(path).netloc):\n",
    "        from urllib.request import urlopen\n",
    "        return urlopen(path).read().decode('utf8')\n",
    "    return open(path).read()"
   ]
  },
  {
   "cell_type": "code",
   "execution_count": 7,
   "id": "realistic-blast",
   "metadata": {
    "execution": {
     "iopub.execute_input": "2021-07-15T12:10:40.987215Z",
     "iopub.status.busy": "2021-07-15T12:10:40.986564Z",
     "iopub.status.idle": "2021-07-15T12:10:40.988464Z",
     "shell.execute_reply": "2021-07-15T12:10:40.989021Z"
    },
    "papermill": {
     "duration": 0.046402,
     "end_time": "2021-07-15T12:10:40.989173",
     "exception": false,
     "start_time": "2021-07-15T12:10:40.942771",
     "status": "completed"
    },
    "tags": []
   },
   "outputs": [],
   "source": [
    "#hide\n",
    "def get_frame(name):\n",
    "    url = (\n",
    "        'https://raw.githubusercontent.com/CSSEGISandData/COVID-19/master/csse_covid_19_data/'\n",
    "        f'csse_covid_19_time_series/time_series_covid19_{name}_global.csv')\n",
    "    df = pd.read_csv(url)\n",
    "    # rename countries\n",
    "    df['Country/Region'] = df['Country/Region'].replace(mapping['replace.country'])\n",
    "    return df"
   ]
  },
  {
   "cell_type": "code",
   "execution_count": 8,
   "id": "affiliated-characterization",
   "metadata": {
    "execution": {
     "iopub.execute_input": "2021-07-15T12:10:41.071412Z",
     "iopub.status.busy": "2021-07-15T12:10:41.070755Z",
     "iopub.status.idle": "2021-07-15T12:10:41.073229Z",
     "shell.execute_reply": "2021-07-15T12:10:41.072657Z"
    },
    "papermill": {
     "duration": 0.046028,
     "end_time": "2021-07-15T12:10:41.073358",
     "exception": false,
     "start_time": "2021-07-15T12:10:41.027330",
     "status": "completed"
    },
    "tags": []
   },
   "outputs": [],
   "source": [
    "#hide\n",
    "def get_dates(df):\n",
    "    dt_cols = df.columns[~df.columns.isin(['Province/State', 'Country/Region', 'Lat', 'Long'])]\n",
    "    LAST_DATE_I = -1\n",
    "    # sometimes last column may be empty, then go backwards\n",
    "    for i in range(-1, -len(dt_cols), -1):\n",
    "        if not df[dt_cols[i]].fillna(0).eq(0).all():\n",
    "            LAST_DATE_I = i\n",
    "            break\n",
    "    return LAST_DATE_I, dt_cols"
   ]
  },
  {
   "cell_type": "code",
   "execution_count": 9,
   "id": "recent-optimization",
   "metadata": {
    "execution": {
     "iopub.execute_input": "2021-07-15T12:10:41.156236Z",
     "iopub.status.busy": "2021-07-15T12:10:41.155555Z",
     "iopub.status.idle": "2021-07-15T12:10:41.756082Z",
     "shell.execute_reply": "2021-07-15T12:10:41.756636Z"
    },
    "papermill": {
     "duration": 0.645218,
     "end_time": "2021-07-15T12:10:41.756804",
     "exception": false,
     "start_time": "2021-07-15T12:10:41.111586",
     "status": "completed"
    },
    "tags": []
   },
   "outputs": [],
   "source": [
    "#hide\n",
    "COL_REGION = 'Country/Region'\n",
    "# Confirmed, Recovered, Deaths\n",
    "df = get_frame('confirmed')\n",
    "# dft_: timeseries, dfc_: today country agg\n",
    "dft_cases = df\n",
    "dft_deaths = get_frame('deaths')\n",
    "dft_recovered = get_frame('recovered')\n",
    "LAST_DATE_I, dt_cols = get_dates(df)"
   ]
  },
  {
   "cell_type": "code",
   "execution_count": 10,
   "id": "absolute-copper",
   "metadata": {
    "execution": {
     "iopub.execute_input": "2021-07-15T12:10:41.840098Z",
     "iopub.status.busy": "2021-07-15T12:10:41.839387Z",
     "iopub.status.idle": "2021-07-15T12:10:41.841773Z",
     "shell.execute_reply": "2021-07-15T12:10:41.841104Z"
    },
    "papermill": {
     "duration": 0.047132,
     "end_time": "2021-07-15T12:10:41.841916",
     "exception": false,
     "start_time": "2021-07-15T12:10:41.794784",
     "status": "completed"
    },
    "tags": []
   },
   "outputs": [],
   "source": [
    "#hide\n",
    "LAST_DATE_I, dt_cols = get_dates(df)\n",
    "dt_today =dt_cols[LAST_DATE_I]\n",
    "# dt_5day = dt_cols[LAST_DATE_I - 5]\n",
    "dt_yday = dt_cols[LAST_DATE_I - 1]"
   ]
  },
  {
   "cell_type": "code",
   "execution_count": 11,
   "id": "restricted-sheriff",
   "metadata": {
    "execution": {
     "iopub.execute_input": "2021-07-15T12:10:41.930287Z",
     "iopub.status.busy": "2021-07-15T12:10:41.929623Z",
     "iopub.status.idle": "2021-07-15T12:10:41.937624Z",
     "shell.execute_reply": "2021-07-15T12:10:41.938194Z"
    },
    "papermill": {
     "duration": 0.058298,
     "end_time": "2021-07-15T12:10:41.938360",
     "exception": false,
     "start_time": "2021-07-15T12:10:41.880062",
     "status": "completed"
    },
    "tags": []
   },
   "outputs": [],
   "source": [
    "#hide\n",
    "dfc_cases = dft_cases.groupby(COL_REGION)[dt_today].sum()\n",
    "dfc_deaths = dft_deaths.groupby(COL_REGION)[dt_today].sum()\n",
    "# dfp_cases = dft_cases.groupby(COL_REGION)[dt_5day].sum()\n",
    "# dfp_deaths = dft_deaths.groupby(COL_REGION)[dt_5day].sum()\n",
    "dfp_cases = dft_cases.groupby(COL_REGION)[dt_yday].sum()\n",
    "dfp_deaths = dft_deaths.groupby(COL_REGION)[dt_yday].sum()"
   ]
  },
  {
   "cell_type": "code",
   "execution_count": 12,
   "id": "deluxe-hepatitis",
   "metadata": {
    "execution": {
     "iopub.execute_input": "2021-07-15T12:10:42.025815Z",
     "iopub.status.busy": "2021-07-15T12:10:42.025168Z",
     "iopub.status.idle": "2021-07-15T12:10:42.030273Z",
     "shell.execute_reply": "2021-07-15T12:10:42.029718Z"
    },
    "papermill": {
     "duration": 0.049741,
     "end_time": "2021-07-15T12:10:42.030409",
     "exception": false,
     "start_time": "2021-07-15T12:10:41.980668",
     "status": "completed"
    },
    "tags": []
   },
   "outputs": [],
   "source": [
    "#hide\n",
    "df_table = (pd.DataFrame(dict(Cases = dfc_cases, Deaths = dfc_deaths, PCases = dfp_cases, PDeaths = dfp_deaths))\n",
    "            .sort_values(by = ['Cases','Deaths'], ascending = [False, False])\n",
    "            .reset_index())"
   ]
  },
  {
   "cell_type": "code",
   "execution_count": 13,
   "id": "educational-chancellor",
   "metadata": {
    "execution": {
     "iopub.execute_input": "2021-07-15T12:10:42.139895Z",
     "iopub.status.busy": "2021-07-15T12:10:42.139158Z",
     "iopub.status.idle": "2021-07-15T12:10:42.148768Z",
     "shell.execute_reply": "2021-07-15T12:10:42.148198Z"
    },
    "papermill": {
     "duration": 0.068908,
     "end_time": "2021-07-15T12:10:42.148910",
     "exception": false,
     "start_time": "2021-07-15T12:10:42.080002",
     "status": "completed"
    },
    "tags": []
   },
   "outputs": [
    {
     "data": {
      "text/html": [
       "<div>\n",
       "<style scoped>\n",
       "    .dataframe tbody tr th:only-of-type {\n",
       "        vertical-align: middle;\n",
       "    }\n",
       "\n",
       "    .dataframe tbody tr th {\n",
       "        vertical-align: top;\n",
       "    }\n",
       "\n",
       "    .dataframe thead th {\n",
       "        text-align: right;\n",
       "    }\n",
       "</style>\n",
       "<table border=\"1\" class=\"dataframe\">\n",
       "  <thead>\n",
       "    <tr style=\"text-align: right;\">\n",
       "      <th></th>\n",
       "      <th>Country/Region</th>\n",
       "      <th>Cases</th>\n",
       "      <th>Deaths</th>\n",
       "      <th>PCases</th>\n",
       "      <th>PDeaths</th>\n",
       "      <th>Cases (+)</th>\n",
       "      <th>Deaths (+)</th>\n",
       "      <th>Fatality Rate</th>\n",
       "      <th>Continent</th>\n",
       "    </tr>\n",
       "  </thead>\n",
       "  <tbody>\n",
       "    <tr>\n",
       "      <th>0</th>\n",
       "      <td>US</td>\n",
       "      <td>33947230</td>\n",
       "      <td>608115</td>\n",
       "      <td>33915385</td>\n",
       "      <td>607784</td>\n",
       "      <td>31845</td>\n",
       "      <td>331</td>\n",
       "      <td>1.79</td>\n",
       "      <td>North America</td>\n",
       "    </tr>\n",
       "    <tr>\n",
       "      <th>1</th>\n",
       "      <td>India</td>\n",
       "      <td>30987880</td>\n",
       "      <td>411989</td>\n",
       "      <td>30946147</td>\n",
       "      <td>411406</td>\n",
       "      <td>41733</td>\n",
       "      <td>583</td>\n",
       "      <td>1.33</td>\n",
       "      <td>Asia</td>\n",
       "    </tr>\n",
       "    <tr>\n",
       "      <th>2</th>\n",
       "      <td>Brazil</td>\n",
       "      <td>19209729</td>\n",
       "      <td>537394</td>\n",
       "      <td>19151993</td>\n",
       "      <td>535838</td>\n",
       "      <td>57736</td>\n",
       "      <td>1556</td>\n",
       "      <td>2.80</td>\n",
       "      <td>South America</td>\n",
       "    </tr>\n",
       "    <tr>\n",
       "      <th>3</th>\n",
       "      <td>France</td>\n",
       "      <td>5884395</td>\n",
       "      <td>111609</td>\n",
       "      <td>5882945</td>\n",
       "      <td>111597</td>\n",
       "      <td>1450</td>\n",
       "      <td>12</td>\n",
       "      <td>1.90</td>\n",
       "      <td>Europe</td>\n",
       "    </tr>\n",
       "    <tr>\n",
       "      <th>4</th>\n",
       "      <td>Russia</td>\n",
       "      <td>5785542</td>\n",
       "      <td>142877</td>\n",
       "      <td>5762211</td>\n",
       "      <td>142102</td>\n",
       "      <td>23331</td>\n",
       "      <td>775</td>\n",
       "      <td>2.47</td>\n",
       "      <td>Europe</td>\n",
       "    </tr>\n",
       "  </tbody>\n",
       "</table>\n",
       "</div>"
      ],
      "text/plain": [
       "  Country/Region     Cases  Deaths    PCases  PDeaths  Cases (+)  Deaths (+)  \\\n",
       "0             US  33947230  608115  33915385   607784      31845         331   \n",
       "1          India  30987880  411989  30946147   411406      41733         583   \n",
       "2         Brazil  19209729  537394  19151993   535838      57736        1556   \n",
       "3         France   5884395  111609   5882945   111597       1450          12   \n",
       "4         Russia   5785542  142877   5762211   142102      23331         775   \n",
       "\n",
       "   Fatality Rate      Continent  \n",
       "0           1.79  North America  \n",
       "1           1.33           Asia  \n",
       "2           2.80  South America  \n",
       "3           1.90         Europe  \n",
       "4           2.47         Europe  "
      ]
     },
     "execution_count": 13,
     "metadata": {},
     "output_type": "execute_result"
    }
   ],
   "source": [
    "#hide\n",
    "for c in 'Cases, Deaths'.split(', '):\n",
    "    df_table[f'{c} (+)'] = (df_table[c] - df_table[f'P{c}']).clip(0)\n",
    "    #Clip ça veut dire, les chiffres negatif sont interdit\n",
    "df_table['Fatality Rate'] = (100* df_table['Deaths']/ df_table['Cases']).round(2)\n",
    "df_table['Continent'] = df_table['Country/Region'].map(mapping['map.continent'])\n",
    "df_table.head(5)"
   ]
  },
  {
   "cell_type": "code",
   "execution_count": 14,
   "id": "aboriginal-bulgaria",
   "metadata": {
    "execution": {
     "iopub.execute_input": "2021-07-15T12:10:42.237650Z",
     "iopub.status.busy": "2021-07-15T12:10:42.236997Z",
     "iopub.status.idle": "2021-07-15T12:10:42.240488Z",
     "shell.execute_reply": "2021-07-15T12:10:42.239930Z"
    },
    "papermill": {
     "duration": 0.049937,
     "end_time": "2021-07-15T12:10:42.240632",
     "exception": false,
     "start_time": "2021-07-15T12:10:42.190695",
     "status": "completed"
    },
    "tags": []
   },
   "outputs": [],
   "source": [
    "#hide\n",
    "#delete problematic countries from table\n",
    "df_table = df_table[~df_table['Country/Region'].isin(['Cape Verde', 'Cruise Ship', 'Kosovo'])]"
   ]
  },
  {
   "cell_type": "code",
   "execution_count": 15,
   "id": "fantastic-effect",
   "metadata": {
    "execution": {
     "iopub.execute_input": "2021-07-15T12:10:42.336406Z",
     "iopub.status.busy": "2021-07-15T12:10:42.335707Z",
     "iopub.status.idle": "2021-07-15T12:10:42.360948Z",
     "shell.execute_reply": "2021-07-15T12:10:42.360422Z"
    },
    "papermill": {
     "duration": 0.079157,
     "end_time": "2021-07-15T12:10:42.361087",
     "exception": false,
     "start_time": "2021-07-15T12:10:42.281930",
     "status": "completed"
    },
    "tags": []
   },
   "outputs": [
    {
     "data": {
      "text/html": [
       "<div>\n",
       "<style scoped>\n",
       "    .dataframe tbody tr th:only-of-type {\n",
       "        vertical-align: middle;\n",
       "    }\n",
       "\n",
       "    .dataframe tbody tr th {\n",
       "        vertical-align: top;\n",
       "    }\n",
       "\n",
       "    .dataframe thead th {\n",
       "        text-align: right;\n",
       "    }\n",
       "</style>\n",
       "<table border=\"1\" class=\"dataframe\">\n",
       "  <thead>\n",
       "    <tr style=\"text-align: right;\">\n",
       "      <th></th>\n",
       "      <th>Country/Region</th>\n",
       "      <th>Cases</th>\n",
       "      <th>Deaths</th>\n",
       "      <th>PCases</th>\n",
       "      <th>PDeaths</th>\n",
       "      <th>Cases (+)</th>\n",
       "      <th>Deaths (+)</th>\n",
       "      <th>Fatality Rate</th>\n",
       "      <th>Continent</th>\n",
       "    </tr>\n",
       "  </thead>\n",
       "  <tbody>\n",
       "    <tr>\n",
       "      <th>0</th>\n",
       "      <td>US</td>\n",
       "      <td>33947230</td>\n",
       "      <td>608115</td>\n",
       "      <td>33915385</td>\n",
       "      <td>607784</td>\n",
       "      <td>31845</td>\n",
       "      <td>331</td>\n",
       "      <td>1.8</td>\n",
       "      <td>North America</td>\n",
       "    </tr>\n",
       "    <tr>\n",
       "      <th>1</th>\n",
       "      <td>India</td>\n",
       "      <td>30987880</td>\n",
       "      <td>411989</td>\n",
       "      <td>30946147</td>\n",
       "      <td>411406</td>\n",
       "      <td>41733</td>\n",
       "      <td>583</td>\n",
       "      <td>1.3</td>\n",
       "      <td>Asia</td>\n",
       "    </tr>\n",
       "    <tr>\n",
       "      <th>2</th>\n",
       "      <td>Brazil</td>\n",
       "      <td>19209729</td>\n",
       "      <td>537394</td>\n",
       "      <td>19151993</td>\n",
       "      <td>535838</td>\n",
       "      <td>57736</td>\n",
       "      <td>1556</td>\n",
       "      <td>2.8</td>\n",
       "      <td>South America</td>\n",
       "    </tr>\n",
       "    <tr>\n",
       "      <th>3</th>\n",
       "      <td>France</td>\n",
       "      <td>5884395</td>\n",
       "      <td>111609</td>\n",
       "      <td>5882945</td>\n",
       "      <td>111597</td>\n",
       "      <td>1450</td>\n",
       "      <td>12</td>\n",
       "      <td>1.9</td>\n",
       "      <td>Europe</td>\n",
       "    </tr>\n",
       "    <tr>\n",
       "      <th>4</th>\n",
       "      <td>Russia</td>\n",
       "      <td>5785542</td>\n",
       "      <td>142877</td>\n",
       "      <td>5762211</td>\n",
       "      <td>142102</td>\n",
       "      <td>23331</td>\n",
       "      <td>775</td>\n",
       "      <td>2.5</td>\n",
       "      <td>Europe</td>\n",
       "    </tr>\n",
       "  </tbody>\n",
       "</table>\n",
       "</div>"
      ],
      "text/plain": [
       "  Country/Region     Cases  Deaths    PCases  PDeaths  Cases (+)  Deaths (+)  \\\n",
       "0             US  33947230  608115  33915385   607784      31845         331   \n",
       "1          India  30987880  411989  30946147   411406      41733         583   \n",
       "2         Brazil  19209729  537394  19151993   535838      57736        1556   \n",
       "3         France   5884395  111609   5882945   111597       1450          12   \n",
       "4         Russia   5785542  142877   5762211   142102      23331         775   \n",
       "\n",
       "   Fatality Rate      Continent  \n",
       "0            1.8  North America  \n",
       "1            1.3           Asia  \n",
       "2            2.8  South America  \n",
       "3            1.9         Europe  \n",
       "4            2.5         Europe  "
      ]
     },
     "execution_count": 15,
     "metadata": {},
     "output_type": "execute_result"
    }
   ],
   "source": [
    "#hide\n",
    "df_table = (pd.DataFrame(dict(Cases=dfc_cases, Deaths=dfc_deaths, PCases=dfp_cases, PDeaths=dfp_deaths))\n",
    "             .sort_values(by=['Cases', 'Deaths'], ascending=[False, False])\n",
    "             .reset_index())\n",
    "df_table.rename(columns={'index': 'Country/Region'}, inplace=True)\n",
    "for c in 'Cases, Deaths'.split(', '):\n",
    "    df_table[f'{c} (+)'] = (df_table[c] - df_table[f'P{c}']).clip(0)  # DATA BUG\n",
    "df_table['Fatality Rate'] = (100 * df_table['Deaths'] / df_table['Cases']).round(1)\n",
    "df_table['Continent'] = df_table['Country/Region'].map(mapping['map.continent'])\n",
    "df_table.head(5)"
   ]
  },
  {
   "cell_type": "code",
   "execution_count": 16,
   "id": "fewer-occasion",
   "metadata": {
    "execution": {
     "iopub.execute_input": "2021-07-15T12:10:42.450579Z",
     "iopub.status.busy": "2021-07-15T12:10:42.449917Z",
     "iopub.status.idle": "2021-07-15T12:10:42.451447Z",
     "shell.execute_reply": "2021-07-15T12:10:42.452096Z"
    },
    "papermill": {
     "duration": 0.046854,
     "end_time": "2021-07-15T12:10:42.452253",
     "exception": false,
     "start_time": "2021-07-15T12:10:42.405399",
     "status": "completed"
    },
    "tags": []
   },
   "outputs": [],
   "source": [
    "#hide\n",
    "#delete problematic countries from table\n",
    "df_table = df_table[~df_table['Country/Region'].isin(['Cape Verde', 'Cruise Ship', 'Kosovo'])]"
   ]
  },
  {
   "cell_type": "code",
   "execution_count": 17,
   "id": "related-center",
   "metadata": {
    "execution": {
     "iopub.execute_input": "2021-07-15T12:10:42.547463Z",
     "iopub.status.busy": "2021-07-15T12:10:42.546791Z",
     "iopub.status.idle": "2021-07-15T12:10:42.556847Z",
     "shell.execute_reply": "2021-07-15T12:10:42.557362Z"
    },
    "papermill": {
     "duration": 0.064737,
     "end_time": "2021-07-15T12:10:42.557536",
     "exception": false,
     "start_time": "2021-07-15T12:10:42.492799",
     "status": "completed"
    },
    "tags": []
   },
   "outputs": [],
   "source": [
    "#hide\n",
    "metrics = [df_table.columns[index] for index in [1,2,5,6]]\n",
    "# s_china = df_table[df_table['Country/Region'].eq('China')][metrics].sum().add_prefix('China ')\n",
    "s_us = df_table[df_table['Country/Region'].eq('US')][metrics].sum().add_prefix('US ')\n",
    "s_eu = df_table[df_table['Continent'].eq('Europe')][metrics].sum().add_prefix('EU ')\n",
    "s_ind = df_table[df_table['Country/Region'].eq('India')][metrics].sum().add_prefix('India ')\n",
    "summary = {'updated': pd.to_datetime(dt_today), 'since': pd.to_datetime(dt_yday)}\n",
    "summary = {'updated': pd.to_datetime(dt_today), 'since': pd.to_datetime(dt_yday)}\n",
    "summary = {**summary, **df_table[metrics].sum(), **s_ind, **s_us, **s_eu}"
   ]
  },
  {
   "cell_type": "code",
   "execution_count": 18,
   "id": "engaging-syndrome",
   "metadata": {
    "execution": {
     "iopub.execute_input": "2021-07-15T12:10:42.642477Z",
     "iopub.status.busy": "2021-07-15T12:10:42.641800Z",
     "iopub.status.idle": "2021-07-15T12:10:42.656850Z",
     "shell.execute_reply": "2021-07-15T12:10:42.657359Z"
    },
    "papermill": {
     "duration": 0.060942,
     "end_time": "2021-07-15T12:10:42.657531",
     "exception": false,
     "start_time": "2021-07-15T12:10:42.596589",
     "status": "completed"
    },
    "tags": []
   },
   "outputs": [],
   "source": [
    "#hide\n",
    "dft_ct_new_cases = dft_cases.groupby(COL_REGION)[dt_cols].sum().diff(axis=1).fillna(0).astype(int)"
   ]
  },
  {
   "cell_type": "code",
   "execution_count": 19,
   "id": "neutral-assignment",
   "metadata": {
    "execution": {
     "iopub.execute_input": "2021-07-15T12:10:42.748542Z",
     "iopub.status.busy": "2021-07-15T12:10:42.747896Z",
     "iopub.status.idle": "2021-07-15T12:10:42.749744Z",
     "shell.execute_reply": "2021-07-15T12:10:42.750295Z"
    },
    "papermill": {
     "duration": 0.051103,
     "end_time": "2021-07-15T12:10:42.750449",
     "exception": false,
     "start_time": "2021-07-15T12:10:42.699346",
     "status": "completed"
    },
    "tags": []
   },
   "outputs": [],
   "source": [
    "#hide\n",
    "everydaycases = dft_ct_new_cases.cumsum(axis=1)"
   ]
  },
  {
   "cell_type": "code",
   "execution_count": 20,
   "id": "parliamentary-calgary",
   "metadata": {
    "execution": {
     "iopub.execute_input": "2021-07-15T12:10:42.839148Z",
     "iopub.status.busy": "2021-07-15T12:10:42.838182Z",
     "iopub.status.idle": "2021-07-15T12:10:43.550656Z",
     "shell.execute_reply": "2021-07-15T12:10:43.550099Z"
    },
    "papermill": {
     "duration": 0.761232,
     "end_time": "2021-07-15T12:10:43.550801",
     "exception": false,
     "start_time": "2021-07-15T12:10:42.789569",
     "status": "completed"
    },
    "tags": []
   },
   "outputs": [],
   "source": [
    "#hide\n",
    "import pandas as pd\n",
    "import matplotlib.pyplot as plt\n",
    "import matplotlib.ticker as ticker\n",
    "import matplotlib.animation as animation\n",
    "from IPython.display import HTML"
   ]
  },
  {
   "cell_type": "code",
   "execution_count": 21,
   "id": "lasting-extraction",
   "metadata": {
    "execution": {
     "iopub.execute_input": "2021-07-15T12:10:43.640854Z",
     "iopub.status.busy": "2021-07-15T12:10:43.640185Z",
     "iopub.status.idle": "2021-07-15T12:10:43.645583Z",
     "shell.execute_reply": "2021-07-15T12:10:43.646223Z"
    },
    "papermill": {
     "duration": 0.054044,
     "end_time": "2021-07-15T12:10:43.646372",
     "exception": false,
     "start_time": "2021-07-15T12:10:43.592328",
     "status": "completed"
    },
    "tags": []
   },
   "outputs": [],
   "source": [
    "#hide\n",
    "t = everydaycases.stack()"
   ]
  },
  {
   "cell_type": "code",
   "execution_count": 22,
   "id": "premier-sleeve",
   "metadata": {
    "execution": {
     "iopub.execute_input": "2021-07-15T12:10:43.733447Z",
     "iopub.status.busy": "2021-07-15T12:10:43.732772Z",
     "iopub.status.idle": "2021-07-15T12:10:43.741505Z",
     "shell.execute_reply": "2021-07-15T12:10:43.740944Z"
    },
    "papermill": {
     "duration": 0.054896,
     "end_time": "2021-07-15T12:10:43.741642",
     "exception": false,
     "start_time": "2021-07-15T12:10:43.686746",
     "status": "completed"
    },
    "tags": []
   },
   "outputs": [],
   "source": [
    "#hide\n",
    "g = t.reset_index(['Country/Region'])"
   ]
  },
  {
   "cell_type": "code",
   "execution_count": 23,
   "id": "distributed-pittsburgh",
   "metadata": {
    "execution": {
     "iopub.execute_input": "2021-07-15T12:10:43.825837Z",
     "iopub.status.busy": "2021-07-15T12:10:43.825194Z",
     "iopub.status.idle": "2021-07-15T12:10:43.827725Z",
     "shell.execute_reply": "2021-07-15T12:10:43.827135Z"
    },
    "papermill": {
     "duration": 0.047365,
     "end_time": "2021-07-15T12:10:43.827883",
     "exception": false,
     "start_time": "2021-07-15T12:10:43.780518",
     "status": "completed"
    },
    "tags": []
   },
   "outputs": [],
   "source": [
    "#hide\n",
    "g.index.name = 'date'"
   ]
  },
  {
   "cell_type": "code",
   "execution_count": 24,
   "id": "naked-donor",
   "metadata": {
    "execution": {
     "iopub.execute_input": "2021-07-15T12:10:43.918043Z",
     "iopub.status.busy": "2021-07-15T12:10:43.917399Z",
     "iopub.status.idle": "2021-07-15T12:10:43.923842Z",
     "shell.execute_reply": "2021-07-15T12:10:43.924461Z"
    },
    "papermill": {
     "duration": 0.056793,
     "end_time": "2021-07-15T12:10:43.924612",
     "exception": false,
     "start_time": "2021-07-15T12:10:43.867819",
     "status": "completed"
    },
    "tags": []
   },
   "outputs": [],
   "source": [
    "# #hide\n",
    "# g = g.reset_index(['date'])"
   ]
  },
  {
   "cell_type": "code",
   "execution_count": 25,
   "id": "incomplete-mustang",
   "metadata": {
    "execution": {
     "iopub.execute_input": "2021-07-15T12:10:44.009194Z",
     "iopub.status.busy": "2021-07-15T12:10:44.008553Z",
     "iopub.status.idle": "2021-07-15T12:10:44.010343Z",
     "shell.execute_reply": "2021-07-15T12:10:44.011600Z"
    },
    "papermill": {
     "duration": 0.046747,
     "end_time": "2021-07-15T12:10:44.011871",
     "exception": false,
     "start_time": "2021-07-15T12:10:43.965124",
     "status": "completed"
    },
    "tags": []
   },
   "outputs": [],
   "source": [
    "#hide\n",
    "# g.head()"
   ]
  },
  {
   "cell_type": "code",
   "execution_count": 26,
   "id": "specific-kruger",
   "metadata": {
    "execution": {
     "iopub.execute_input": "2021-07-15T12:10:44.096799Z",
     "iopub.status.busy": "2021-07-15T12:10:44.096149Z",
     "iopub.status.idle": "2021-07-15T12:10:44.097969Z",
     "shell.execute_reply": "2021-07-15T12:10:44.098521Z"
    },
    "papermill": {
     "duration": 0.046547,
     "end_time": "2021-07-15T12:10:44.098692",
     "exception": false,
     "start_time": "2021-07-15T12:10:44.052145",
     "status": "completed"
    },
    "tags": []
   },
   "outputs": [],
   "source": [
    "#hide\n",
    "# g.columns = ['date','country','cases']"
   ]
  },
  {
   "cell_type": "code",
   "execution_count": 27,
   "id": "tender-conversion",
   "metadata": {
    "execution": {
     "iopub.execute_input": "2021-07-15T12:10:44.183136Z",
     "iopub.status.busy": "2021-07-15T12:10:44.182482Z",
     "iopub.status.idle": "2021-07-15T12:10:44.184922Z",
     "shell.execute_reply": "2021-07-15T12:10:44.184287Z"
    },
    "papermill": {
     "duration": 0.046786,
     "end_time": "2021-07-15T12:10:44.185056",
     "exception": false,
     "start_time": "2021-07-15T12:10:44.138270",
     "status": "completed"
    },
    "tags": []
   },
   "outputs": [],
   "source": [
    "#hide\n",
    "# g['continent'] = g.country"
   ]
  },
  {
   "cell_type": "code",
   "execution_count": 28,
   "id": "substantial-wilderness",
   "metadata": {
    "execution": {
     "iopub.execute_input": "2021-07-15T12:10:44.279748Z",
     "iopub.status.busy": "2021-07-15T12:10:44.279108Z",
     "iopub.status.idle": "2021-07-15T12:10:44.281031Z",
     "shell.execute_reply": "2021-07-15T12:10:44.281619Z"
    },
    "papermill": {
     "duration": 0.045925,
     "end_time": "2021-07-15T12:10:44.281764",
     "exception": false,
     "start_time": "2021-07-15T12:10:44.235839",
     "status": "completed"
    },
    "tags": []
   },
   "outputs": [],
   "source": [
    "#hide\n",
    "# cols = list(g.columns.values)"
   ]
  },
  {
   "cell_type": "code",
   "execution_count": 29,
   "id": "solved-farming",
   "metadata": {
    "execution": {
     "iopub.execute_input": "2021-07-15T12:10:44.366327Z",
     "iopub.status.busy": "2021-07-15T12:10:44.365679Z",
     "iopub.status.idle": "2021-07-15T12:10:44.368089Z",
     "shell.execute_reply": "2021-07-15T12:10:44.367493Z"
    },
    "papermill": {
     "duration": 0.045816,
     "end_time": "2021-07-15T12:10:44.368218",
     "exception": false,
     "start_time": "2021-07-15T12:10:44.322402",
     "status": "completed"
    },
    "tags": []
   },
   "outputs": [],
   "source": [
    "#hide\n",
    "# cols.insert(0, cols.pop())"
   ]
  },
  {
   "cell_type": "code",
   "execution_count": 30,
   "id": "executed-adoption",
   "metadata": {
    "execution": {
     "iopub.execute_input": "2021-07-15T12:10:44.457148Z",
     "iopub.status.busy": "2021-07-15T12:10:44.456479Z",
     "iopub.status.idle": "2021-07-15T12:10:44.458921Z",
     "shell.execute_reply": "2021-07-15T12:10:44.458292Z"
    },
    "papermill": {
     "duration": 0.047516,
     "end_time": "2021-07-15T12:10:44.459052",
     "exception": false,
     "start_time": "2021-07-15T12:10:44.411536",
     "status": "completed"
    },
    "tags": []
   },
   "outputs": [],
   "source": [
    "#hide\n",
    "# g = g[cols]"
   ]
  },
  {
   "cell_type": "code",
   "execution_count": 31,
   "id": "subject-dublin",
   "metadata": {
    "execution": {
     "iopub.execute_input": "2021-07-15T12:10:44.549742Z",
     "iopub.status.busy": "2021-07-15T12:10:44.549100Z",
     "iopub.status.idle": "2021-07-15T12:10:44.551562Z",
     "shell.execute_reply": "2021-07-15T12:10:44.551015Z"
    },
    "papermill": {
     "duration": 0.045016,
     "end_time": "2021-07-15T12:10:44.551694",
     "exception": false,
     "start_time": "2021-07-15T12:10:44.506678",
     "status": "completed"
    },
    "tags": []
   },
   "outputs": [],
   "source": [
    "#hide\n",
    "# g['continent'] = g['continent'].map(mapping['map.continent'])"
   ]
  },
  {
   "cell_type": "code",
   "execution_count": 32,
   "id": "freelance-scout",
   "metadata": {
    "execution": {
     "iopub.execute_input": "2021-07-15T12:10:44.635266Z",
     "iopub.status.busy": "2021-07-15T12:10:44.634621Z",
     "iopub.status.idle": "2021-07-15T12:10:44.643382Z",
     "shell.execute_reply": "2021-07-15T12:10:44.643959Z"
    },
    "papermill": {
     "duration": 0.052184,
     "end_time": "2021-07-15T12:10:44.644128",
     "exception": false,
     "start_time": "2021-07-15T12:10:44.591944",
     "status": "completed"
    },
    "tags": []
   },
   "outputs": [],
   "source": [
    "#hide\n",
    "# g.head()"
   ]
  },
  {
   "cell_type": "code",
   "execution_count": 33,
   "id": "limited-engine",
   "metadata": {
    "execution": {
     "iopub.execute_input": "2021-07-15T12:10:44.728470Z",
     "iopub.status.busy": "2021-07-15T12:10:44.727823Z",
     "iopub.status.idle": "2021-07-15T12:10:44.729667Z",
     "shell.execute_reply": "2021-07-15T12:10:44.730198Z"
    },
    "papermill": {
     "duration": 0.044999,
     "end_time": "2021-07-15T12:10:44.730347",
     "exception": false,
     "start_time": "2021-07-15T12:10:44.685348",
     "status": "completed"
    },
    "tags": []
   },
   "outputs": [],
   "source": [
    "# hide\n",
    "# g['date'] = g['date'].astype('datetime64[ns]')"
   ]
  },
  {
   "cell_type": "code",
   "execution_count": 34,
   "id": "sophisticated-supervisor",
   "metadata": {
    "execution": {
     "iopub.execute_input": "2021-07-15T12:10:44.812450Z",
     "iopub.status.busy": "2021-07-15T12:10:44.811798Z",
     "iopub.status.idle": "2021-07-15T12:10:44.813629Z",
     "shell.execute_reply": "2021-07-15T12:10:44.814186Z"
    },
    "papermill": {
     "duration": 0.044804,
     "end_time": "2021-07-15T12:10:44.814335",
     "exception": false,
     "start_time": "2021-07-15T12:10:44.769531",
     "status": "completed"
    },
    "tags": []
   },
   "outputs": [],
   "source": [
    "#hide\n",
    "# g['date'] = g.date.dt.dayofyear"
   ]
  },
  {
   "cell_type": "code",
   "execution_count": 35,
   "id": "inside-dubai",
   "metadata": {
    "execution": {
     "iopub.execute_input": "2021-07-15T12:10:44.899718Z",
     "iopub.status.busy": "2021-07-15T12:10:44.899073Z",
     "iopub.status.idle": "2021-07-15T12:10:44.901483Z",
     "shell.execute_reply": "2021-07-15T12:10:44.900847Z"
    },
    "papermill": {
     "duration": 0.045628,
     "end_time": "2021-07-15T12:10:44.901617",
     "exception": false,
     "start_time": "2021-07-15T12:10:44.855989",
     "status": "completed"
    },
    "tags": []
   },
   "outputs": [],
   "source": [
    "#hide\n",
    "# g = g.rename(columns= {'continent':'group','country':'name','cases':'value'})"
   ]
  },
  {
   "cell_type": "code",
   "execution_count": 36,
   "id": "fleet-motorcycle",
   "metadata": {
    "execution": {
     "iopub.execute_input": "2021-07-15T12:10:44.984811Z",
     "iopub.status.busy": "2021-07-15T12:10:44.984165Z",
     "iopub.status.idle": "2021-07-15T12:10:44.986602Z",
     "shell.execute_reply": "2021-07-15T12:10:44.986026Z"
    },
    "papermill": {
     "duration": 0.046244,
     "end_time": "2021-07-15T12:10:44.986735",
     "exception": false,
     "start_time": "2021-07-15T12:10:44.940491",
     "status": "completed"
    },
    "tags": []
   },
   "outputs": [],
   "source": [
    "#hide\n",
    "# cols = ['name','group','day','value']"
   ]
  },
  {
   "cell_type": "code",
   "execution_count": 37,
   "id": "continued-sleeping",
   "metadata": {
    "execution": {
     "iopub.execute_input": "2021-07-15T12:10:45.071649Z",
     "iopub.status.busy": "2021-07-15T12:10:45.070996Z",
     "iopub.status.idle": "2021-07-15T12:10:45.073606Z",
     "shell.execute_reply": "2021-07-15T12:10:45.073035Z"
    },
    "papermill": {
     "duration": 0.046976,
     "end_time": "2021-07-15T12:10:45.073746",
     "exception": false,
     "start_time": "2021-07-15T12:10:45.026770",
     "status": "completed"
    },
    "tags": []
   },
   "outputs": [],
   "source": [
    "#hide\n",
    "# g.rename(columns= {'date':'day'},inplace = True)"
   ]
  },
  {
   "cell_type": "code",
   "execution_count": 38,
   "id": "major-fight",
   "metadata": {
    "execution": {
     "iopub.execute_input": "2021-07-15T12:10:45.155383Z",
     "iopub.status.busy": "2021-07-15T12:10:45.154737Z",
     "iopub.status.idle": "2021-07-15T12:10:45.157373Z",
     "shell.execute_reply": "2021-07-15T12:10:45.156740Z"
    },
    "papermill": {
     "duration": 0.045088,
     "end_time": "2021-07-15T12:10:45.157504",
     "exception": false,
     "start_time": "2021-07-15T12:10:45.112416",
     "status": "completed"
    },
    "tags": []
   },
   "outputs": [],
   "source": [
    "#hide\n",
    "# g = g[cols]"
   ]
  },
  {
   "cell_type": "code",
   "execution_count": 39,
   "id": "structured-mobile",
   "metadata": {
    "execution": {
     "iopub.execute_input": "2021-07-15T12:10:45.251260Z",
     "iopub.status.busy": "2021-07-15T12:10:45.250610Z",
     "iopub.status.idle": "2021-07-15T12:10:45.253459Z",
     "shell.execute_reply": "2021-07-15T12:10:45.252908Z"
    },
    "papermill": {
     "duration": 0.055716,
     "end_time": "2021-07-15T12:10:45.253590",
     "exception": false,
     "start_time": "2021-07-15T12:10:45.197874",
     "status": "completed"
    },
    "tags": []
   },
   "outputs": [],
   "source": [
    "# #hide\n",
    "# g = g[g.group.notna()]"
   ]
  },
  {
   "cell_type": "code",
   "execution_count": 40,
   "id": "determined-closing",
   "metadata": {
    "execution": {
     "iopub.execute_input": "2021-07-15T12:10:45.341085Z",
     "iopub.status.busy": "2021-07-15T12:10:45.340422Z",
     "iopub.status.idle": "2021-07-15T12:10:45.342554Z",
     "shell.execute_reply": "2021-07-15T12:10:45.343094Z"
    },
    "papermill": {
     "duration": 0.048039,
     "end_time": "2021-07-15T12:10:45.343241",
     "exception": false,
     "start_time": "2021-07-15T12:10:45.295202",
     "status": "completed"
    },
    "tags": []
   },
   "outputs": [],
   "source": [
    "# #hide\n",
    "# colors = dict(zip(\n",
    "#     [\"Oceania\", \"Europe\", \"Asia\", \"South America\", \"Middle East\", \"North America\", \"Africa\"],\n",
    "#     [\"#adb0ff\", \"#ffb3ff\", \"#90d595\", \"#e48381\", \"#aafbff\", \"#f7bb5f\", \"#eafb50\"]\n",
    "# ))\n",
    "# group_lk = g.set_index('name')['group'].to_dict()"
   ]
  },
  {
   "cell_type": "code",
   "execution_count": null,
   "id": "gross-drinking",
   "metadata": {
    "papermill": {
     "duration": 0.041428,
     "end_time": "2021-07-15T12:10:45.425233",
     "exception": false,
     "start_time": "2021-07-15T12:10:45.383805",
     "status": "completed"
    },
    "tags": []
   },
   "outputs": [],
   "source": []
  },
  {
   "cell_type": "code",
   "execution_count": 41,
   "id": "subject-macintosh",
   "metadata": {
    "execution": {
     "iopub.execute_input": "2021-07-15T12:10:45.510257Z",
     "iopub.status.busy": "2021-07-15T12:10:45.509529Z",
     "iopub.status.idle": "2021-07-15T12:10:45.512107Z",
     "shell.execute_reply": "2021-07-15T12:10:45.511388Z"
    },
    "papermill": {
     "duration": 0.046921,
     "end_time": "2021-07-15T12:10:45.512249",
     "exception": false,
     "start_time": "2021-07-15T12:10:45.465328",
     "status": "completed"
    },
    "tags": []
   },
   "outputs": [],
   "source": [
    "# #hide\n",
    "# fig, ax = plt.subplots(figsize=(15, 8))\n",
    "\n",
    "# def draw_barchart(current_day):\n",
    "#     dff = g[g['day'].eq(current_day)].sort_values(by='value', ascending=True).tail(10)\n",
    "#     ax.clear()\n",
    "#     ax.barh(dff['name'], dff['value'], color=[colors[group_lk[x]] for x in dff['name']])\n",
    "#     dx = dff['value'].max() / 200\n",
    "    \n",
    "#     for i, (value, name) in enumerate(zip(dff['value'], dff['name'])):\n",
    "#         ax.text(value-dx, i,     name,           size=14, weight=600, ha='right', va='bottom')\n",
    "#         ax.text(value-dx, i-.25, group_lk[name], size=10, color='#444444', ha='right', va='baseline')\n",
    "#         ax.text(value+dx, i,     f'{value:,.0f}',  size=14, ha='left',  va='center')\n",
    "#     ax.text(1, 0.4, current_day, transform=ax.transAxes, color='#777777', size=46, ha='right', weight=800)\n",
    "#     ax.text(0, 1.06, 'Population (thousands)', transform=ax.transAxes, size=12, color='#777777')\n",
    "#     ax.xaxis.set_major_formatter(ticker.StrMethodFormatter('{x:,.0f}'))\n",
    "#     ax.xaxis.set_ticks_position('top')\n",
    "#     ax.tick_params(axis='x', colors='#777777', labelsize=12)\n",
    "#     ax.set_yticks([])\n",
    "#     ax.margins(0, 0.01)\n",
    "#     ax.grid(which='major', axis='x', linestyle='-')\n",
    "#     ax.set_axisbelow(True)\n",
    "    \n",
    "#     ax.text(0, 1.15, 'Coronavirus',\n",
    "#             transform=ax.transAxes, size=24, weight=600, ha='left', va='top')\n",
    "# #     ax.text(1, 0, 'by @pratapvardhan; credit @jburnmurdoch', transform=ax.transAxes, color='#777777', ha='right',\n",
    "# #             bbox=dict(facecolor='white', alpha=0.8, edgecolor='white'))\n",
    "#     plt.box(False)"
   ]
  },
  {
   "cell_type": "code",
   "execution_count": 42,
   "id": "sexual-wages",
   "metadata": {
    "execution": {
     "iopub.execute_input": "2021-07-15T12:10:45.597414Z",
     "iopub.status.busy": "2021-07-15T12:10:45.596771Z",
     "iopub.status.idle": "2021-07-15T12:10:45.598655Z",
     "shell.execute_reply": "2021-07-15T12:10:45.599227Z"
    },
    "papermill": {
     "duration": 0.046473,
     "end_time": "2021-07-15T12:10:45.599395",
     "exception": false,
     "start_time": "2021-07-15T12:10:45.552922",
     "status": "completed"
    },
    "tags": []
   },
   "outputs": [],
   "source": [
    "# #hide_input\n",
    "# fig, ax = plt.subplots(figsize=(15, 8))\n",
    "# animator = animation.FuncAnimation(fig, draw_barchart, frames=range(g.day.values.min(), g.day.values.max()))\n",
    "# HTML(animator.to_jshtml())\n",
    "# # or use animator.to_html5_video() or animator.save() "
   ]
  },
  {
   "cell_type": "code",
   "execution_count": null,
   "id": "australian-container",
   "metadata": {
    "papermill": {
     "duration": 0.039663,
     "end_time": "2021-07-15T12:10:45.678936",
     "exception": false,
     "start_time": "2021-07-15T12:10:45.639273",
     "status": "completed"
    },
    "tags": []
   },
   "outputs": [],
   "source": []
  },
  {
   "cell_type": "code",
   "execution_count": null,
   "id": "mediterranean-pontiac",
   "metadata": {
    "papermill": {
     "duration": 0.039103,
     "end_time": "2021-07-15T12:10:45.758435",
     "exception": false,
     "start_time": "2021-07-15T12:10:45.719332",
     "status": "completed"
    },
    "tags": []
   },
   "outputs": [],
   "source": []
  },
  {
   "cell_type": "code",
   "execution_count": null,
   "id": "aging-legislature",
   "metadata": {
    "papermill": {
     "duration": 0.039667,
     "end_time": "2021-07-15T12:10:45.837837",
     "exception": false,
     "start_time": "2021-07-15T12:10:45.798170",
     "status": "completed"
    },
    "tags": []
   },
   "outputs": [],
   "source": []
  }
 ],
 "metadata": {
  "kernelspec": {
   "display_name": "Python 3",
   "language": "python",
   "name": "python3"
  },
  "language_info": {
   "codemirror_mode": {
    "name": "ipython",
    "version": 3
   },
   "file_extension": ".py",
   "mimetype": "text/x-python",
   "name": "python",
   "nbconvert_exporter": "python",
   "pygments_lexer": "ipython3",
   "version": "3.6.14"
  },
  "papermill": {
   "duration": 8.382407,
   "end_time": "2021-07-15T12:10:47.042286",
   "environment_variables": {},
   "exception": null,
   "input_path": "2020-03-21-covid19exp.ipynb",
   "output_path": "2020-03-21-covid19exp.ipynb",
   "parameters": {},
   "start_time": "2021-07-15T12:10:38.659879",
   "version": "2.0.0"
  }
 },
 "nbformat": 4,
 "nbformat_minor": 5
}