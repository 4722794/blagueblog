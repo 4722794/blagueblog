{
 "cells": [
  {
   "cell_type": "markdown",
   "id": "muslim-click",
   "metadata": {
    "papermill": {
     "duration": 0.0395,
     "end_time": "2022-10-12T12:21:33.781000",
     "exception": false,
     "start_time": "2022-10-12T12:21:33.741500",
     "status": "completed"
    },
    "tags": []
   },
   "source": [
    "# COVID-19 Case Race\n",
    "> A race chart to see rising cases around the world\n",
    "\n",
    "- author: Hargun Oberoi\n",
    "- image: images/covid-overview.png\n",
    "- hide: false\n",
    "- badges: false"
   ]
  },
  {
   "cell_type": "code",
   "execution_count": 1,
   "id": "proof-material",
   "metadata": {
    "execution": {
     "iopub.execute_input": "2022-10-12T12:21:33.856792Z",
     "iopub.status.busy": "2022-10-12T12:21:33.856086Z",
     "iopub.status.idle": "2022-10-12T12:21:34.219815Z",
     "shell.execute_reply": "2022-10-12T12:21:34.217921Z"
    },
    "papermill": {
     "duration": 0.406904,
     "end_time": "2022-10-12T12:21:34.220072",
     "exception": false,
     "start_time": "2022-10-12T12:21:33.813168",
     "status": "completed"
    },
    "tags": []
   },
   "outputs": [],
   "source": [
    "#hide\n",
    "import numpy as np\n",
    "import pandas as pd\n",
    "from jinja2 import Template\n",
    "from IPython.display import HTML"
   ]
  },
  {
   "cell_type": "code",
   "execution_count": 2,
   "id": "developed-terminology",
   "metadata": {
    "execution": {
     "iopub.execute_input": "2022-10-12T12:21:34.294814Z",
     "iopub.status.busy": "2022-10-12T12:21:34.294100Z",
     "iopub.status.idle": "2022-10-12T12:21:34.298827Z",
     "shell.execute_reply": "2022-10-12T12:21:34.297914Z"
    },
    "papermill": {
     "duration": 0.044541,
     "end_time": "2022-10-12T12:21:34.298979",
     "exception": false,
     "start_time": "2022-10-12T12:21:34.254438",
     "status": "completed"
    },
    "tags": []
   },
   "outputs": [],
   "source": [
    "#hide\n",
    "\n",
    "# FETCH\n",
    "base_url = 'https://raw.githubusercontent.com/pratapvardhan/notebooks/master/covid19/'\n",
    "paths = {\n",
    "    'mapping': base_url + 'mapping_countries.csv',\n",
    "    'overview': base_url + 'overview.tpl'\n",
    "}"
   ]
  },
  {
   "cell_type": "code",
   "execution_count": 3,
   "id": "dynamic-saver",
   "metadata": {
    "execution": {
     "iopub.execute_input": "2022-10-12T12:21:34.376835Z",
     "iopub.status.busy": "2022-10-12T12:21:34.371639Z",
     "iopub.status.idle": "2022-10-12T12:21:34.380968Z",
     "shell.execute_reply": "2022-10-12T12:21:34.381604Z"
    },
    "papermill": {
     "duration": 0.049901,
     "end_time": "2022-10-12T12:21:34.381756",
     "exception": false,
     "start_time": "2022-10-12T12:21:34.331855",
     "status": "completed"
    },
    "tags": []
   },
   "outputs": [
    {
     "data": {
      "text/plain": [
       "'https://raw.githubusercontent.com/pratapvardhan/notebooks/master/covid19/mapping_countries.csv'"
      ]
     },
     "execution_count": 3,
     "metadata": {},
     "output_type": "execute_result"
    }
   ],
   "source": [
    "#hide\n",
    "paths['mapping']"
   ]
  },
  {
   "cell_type": "code",
   "execution_count": 4,
   "id": "urban-software",
   "metadata": {
    "execution": {
     "iopub.execute_input": "2022-10-12T12:21:34.454055Z",
     "iopub.status.busy": "2022-10-12T12:21:34.452888Z",
     "iopub.status.idle": "2022-10-12T12:21:34.455399Z",
     "shell.execute_reply": "2022-10-12T12:21:34.456124Z"
    },
    "papermill": {
     "duration": 0.04288,
     "end_time": "2022-10-12T12:21:34.456253",
     "exception": false,
     "start_time": "2022-10-12T12:21:34.413373",
     "status": "completed"
    },
    "tags": []
   },
   "outputs": [],
   "source": [
    "#hide\n",
    "def get_mappings(url):\n",
    "    df = pd.read_csv(url)\n",
    "    return {\n",
    "        'df': df,\n",
    "        'replace.country': dict(df.dropna(subset=['Name']).set_index('Country')['Name']),\n",
    "        'map.continent': dict(df.set_index('Name')['Continent'])\n",
    "    }"
   ]
  },
  {
   "cell_type": "code",
   "execution_count": 5,
   "id": "intimate-machinery",
   "metadata": {
    "execution": {
     "iopub.execute_input": "2022-10-12T12:21:34.528095Z",
     "iopub.status.busy": "2022-10-12T12:21:34.527463Z",
     "iopub.status.idle": "2022-10-12T12:21:34.578868Z",
     "shell.execute_reply": "2022-10-12T12:21:34.578320Z"
    },
    "papermill": {
     "duration": 0.090624,
     "end_time": "2022-10-12T12:21:34.579022",
     "exception": false,
     "start_time": "2022-10-12T12:21:34.488398",
     "status": "completed"
    },
    "tags": []
   },
   "outputs": [],
   "source": [
    "#hide\n",
    "mapping = get_mappings(paths['mapping'])"
   ]
  },
  {
   "cell_type": "code",
   "execution_count": 6,
   "id": "certified-tactics",
   "metadata": {
    "execution": {
     "iopub.execute_input": "2022-10-12T12:21:34.651129Z",
     "iopub.status.busy": "2022-10-12T12:21:34.650409Z",
     "iopub.status.idle": "2022-10-12T12:21:34.652791Z",
     "shell.execute_reply": "2022-10-12T12:21:34.653277Z"
    },
    "papermill": {
     "duration": 0.041995,
     "end_time": "2022-10-12T12:21:34.653419",
     "exception": false,
     "start_time": "2022-10-12T12:21:34.611424",
     "status": "completed"
    },
    "tags": []
   },
   "outputs": [],
   "source": [
    "#hide\n",
    "def get_template(path):\n",
    "    from urllib.parse import urlparse\n",
    "    if bool(urlparse(path).netloc):\n",
    "        from urllib.request import urlopen\n",
    "        return urlopen(path).read().decode('utf8')\n",
    "    return open(path).read()"
   ]
  },
  {
   "cell_type": "code",
   "execution_count": 7,
   "id": "realistic-blast",
   "metadata": {
    "execution": {
     "iopub.execute_input": "2022-10-12T12:21:34.723939Z",
     "iopub.status.busy": "2022-10-12T12:21:34.723274Z",
     "iopub.status.idle": "2022-10-12T12:21:34.726249Z",
     "shell.execute_reply": "2022-10-12T12:21:34.725645Z"
    },
    "papermill": {
     "duration": 0.040669,
     "end_time": "2022-10-12T12:21:34.726358",
     "exception": false,
     "start_time": "2022-10-12T12:21:34.685689",
     "status": "completed"
    },
    "tags": []
   },
   "outputs": [],
   "source": [
    "#hide\n",
    "def get_frame(name):\n",
    "    url = (\n",
    "        'https://raw.githubusercontent.com/CSSEGISandData/COVID-19/master/csse_covid_19_data/'\n",
    "        f'csse_covid_19_time_series/time_series_covid19_{name}_global.csv')\n",
    "    df = pd.read_csv(url)\n",
    "    # rename countries\n",
    "    df['Country/Region'] = df['Country/Region'].replace(mapping['replace.country'])\n",
    "    return df"
   ]
  },
  {
   "cell_type": "code",
   "execution_count": 8,
   "id": "affiliated-characterization",
   "metadata": {
    "execution": {
     "iopub.execute_input": "2022-10-12T12:21:34.798209Z",
     "iopub.status.busy": "2022-10-12T12:21:34.797582Z",
     "iopub.status.idle": "2022-10-12T12:21:34.800215Z",
     "shell.execute_reply": "2022-10-12T12:21:34.799673Z"
    },
    "papermill": {
     "duration": 0.041737,
     "end_time": "2022-10-12T12:21:34.800335",
     "exception": false,
     "start_time": "2022-10-12T12:21:34.758598",
     "status": "completed"
    },
    "tags": []
   },
   "outputs": [],
   "source": [
    "#hide\n",
    "def get_dates(df):\n",
    "    dt_cols = df.columns[~df.columns.isin(['Province/State', 'Country/Region', 'Lat', 'Long'])]\n",
    "    LAST_DATE_I = -1\n",
    "    # sometimes last column may be empty, then go backwards\n",
    "    for i in range(-1, -len(dt_cols), -1):\n",
    "        if not df[dt_cols[i]].fillna(0).eq(0).all():\n",
    "            LAST_DATE_I = i\n",
    "            break\n",
    "    return LAST_DATE_I, dt_cols"
   ]
  },
  {
   "cell_type": "code",
   "execution_count": 9,
   "id": "recent-optimization",
   "metadata": {
    "execution": {
     "iopub.execute_input": "2022-10-12T12:21:34.871378Z",
     "iopub.status.busy": "2022-10-12T12:21:34.870511Z",
     "iopub.status.idle": "2022-10-12T12:21:35.449022Z",
     "shell.execute_reply": "2022-10-12T12:21:35.448413Z"
    },
    "papermill": {
     "duration": 0.616802,
     "end_time": "2022-10-12T12:21:35.449150",
     "exception": false,
     "start_time": "2022-10-12T12:21:34.832348",
     "status": "completed"
    },
    "tags": []
   },
   "outputs": [],
   "source": [
    "#hide\n",
    "COL_REGION = 'Country/Region'\n",
    "# Confirmed, Recovered, Deaths\n",
    "df = get_frame('confirmed')\n",
    "# dft_: timeseries, dfc_: today country agg\n",
    "dft_cases = df\n",
    "dft_deaths = get_frame('deaths')\n",
    "dft_recovered = get_frame('recovered')\n",
    "LAST_DATE_I, dt_cols = get_dates(df)"
   ]
  },
  {
   "cell_type": "code",
   "execution_count": 10,
   "id": "absolute-copper",
   "metadata": {
    "execution": {
     "iopub.execute_input": "2022-10-12T12:21:35.520985Z",
     "iopub.status.busy": "2022-10-12T12:21:35.519880Z",
     "iopub.status.idle": "2022-10-12T12:21:35.522179Z",
     "shell.execute_reply": "2022-10-12T12:21:35.522718Z"
    },
    "papermill": {
     "duration": 0.042,
     "end_time": "2022-10-12T12:21:35.522847",
     "exception": false,
     "start_time": "2022-10-12T12:21:35.480847",
     "status": "completed"
    },
    "tags": []
   },
   "outputs": [],
   "source": [
    "#hide\n",
    "LAST_DATE_I, dt_cols = get_dates(df)\n",
    "dt_today =dt_cols[LAST_DATE_I]\n",
    "# dt_5day = dt_cols[LAST_DATE_I - 5]\n",
    "dt_yday = dt_cols[LAST_DATE_I - 1]"
   ]
  },
  {
   "cell_type": "code",
   "execution_count": 11,
   "id": "restricted-sheriff",
   "metadata": {
    "execution": {
     "iopub.execute_input": "2022-10-12T12:21:35.595680Z",
     "iopub.status.busy": "2022-10-12T12:21:35.594920Z",
     "iopub.status.idle": "2022-10-12T12:21:35.603094Z",
     "shell.execute_reply": "2022-10-12T12:21:35.603653Z"
    },
    "papermill": {
     "duration": 0.048882,
     "end_time": "2022-10-12T12:21:35.603789",
     "exception": false,
     "start_time": "2022-10-12T12:21:35.554907",
     "status": "completed"
    },
    "tags": []
   },
   "outputs": [],
   "source": [
    "#hide\n",
    "dfc_cases = dft_cases.groupby(COL_REGION)[dt_today].sum()\n",
    "dfc_deaths = dft_deaths.groupby(COL_REGION)[dt_today].sum()\n",
    "# dfp_cases = dft_cases.groupby(COL_REGION)[dt_5day].sum()\n",
    "# dfp_deaths = dft_deaths.groupby(COL_REGION)[dt_5day].sum()\n",
    "dfp_cases = dft_cases.groupby(COL_REGION)[dt_yday].sum()\n",
    "dfp_deaths = dft_deaths.groupby(COL_REGION)[dt_yday].sum()"
   ]
  },
  {
   "cell_type": "code",
   "execution_count": 12,
   "id": "deluxe-hepatitis",
   "metadata": {
    "execution": {
     "iopub.execute_input": "2022-10-12T12:21:35.677629Z",
     "iopub.status.busy": "2022-10-12T12:21:35.676962Z",
     "iopub.status.idle": "2022-10-12T12:21:35.682348Z",
     "shell.execute_reply": "2022-10-12T12:21:35.681804Z"
    },
    "papermill": {
     "duration": 0.046353,
     "end_time": "2022-10-12T12:21:35.682461",
     "exception": false,
     "start_time": "2022-10-12T12:21:35.636108",
     "status": "completed"
    },
    "tags": []
   },
   "outputs": [],
   "source": [
    "#hide\n",
    "df_table = (pd.DataFrame(dict(Cases = dfc_cases, Deaths = dfc_deaths, PCases = dfp_cases, PDeaths = dfp_deaths))\n",
    "            .sort_values(by = ['Cases','Deaths'], ascending = [False, False])\n",
    "            .reset_index())"
   ]
  },
  {
   "cell_type": "code",
   "execution_count": 13,
   "id": "educational-chancellor",
   "metadata": {
    "execution": {
     "iopub.execute_input": "2022-10-12T12:21:35.766683Z",
     "iopub.status.busy": "2022-10-12T12:21:35.766004Z",
     "iopub.status.idle": "2022-10-12T12:21:35.776210Z",
     "shell.execute_reply": "2022-10-12T12:21:35.775541Z"
    },
    "papermill": {
     "duration": 0.061772,
     "end_time": "2022-10-12T12:21:35.776330",
     "exception": false,
     "start_time": "2022-10-12T12:21:35.714558",
     "status": "completed"
    },
    "tags": []
   },
   "outputs": [
    {
     "data": {
      "text/html": [
       "<div>\n",
       "<style scoped>\n",
       "    .dataframe tbody tr th:only-of-type {\n",
       "        vertical-align: middle;\n",
       "    }\n",
       "\n",
       "    .dataframe tbody tr th {\n",
       "        vertical-align: top;\n",
       "    }\n",
       "\n",
       "    .dataframe thead th {\n",
       "        text-align: right;\n",
       "    }\n",
       "</style>\n",
       "<table border=\"1\" class=\"dataframe\">\n",
       "  <thead>\n",
       "    <tr style=\"text-align: right;\">\n",
       "      <th></th>\n",
       "      <th>Country/Region</th>\n",
       "      <th>Cases</th>\n",
       "      <th>Deaths</th>\n",
       "      <th>PCases</th>\n",
       "      <th>PDeaths</th>\n",
       "      <th>Cases (+)</th>\n",
       "      <th>Deaths (+)</th>\n",
       "      <th>Fatality Rate</th>\n",
       "      <th>Continent</th>\n",
       "    </tr>\n",
       "  </thead>\n",
       "  <tbody>\n",
       "    <tr>\n",
       "      <th>0</th>\n",
       "      <td>US</td>\n",
       "      <td>96772268</td>\n",
       "      <td>1063310</td>\n",
       "      <td>96721113</td>\n",
       "      <td>1062681</td>\n",
       "      <td>51155</td>\n",
       "      <td>629</td>\n",
       "      <td>1.10</td>\n",
       "      <td>North America</td>\n",
       "    </tr>\n",
       "    <tr>\n",
       "      <th>1</th>\n",
       "      <td>India</td>\n",
       "      <td>44616235</td>\n",
       "      <td>528835</td>\n",
       "      <td>44616394</td>\n",
       "      <td>528822</td>\n",
       "      <td>0</td>\n",
       "      <td>13</td>\n",
       "      <td>1.19</td>\n",
       "      <td>Asia</td>\n",
       "    </tr>\n",
       "    <tr>\n",
       "      <th>2</th>\n",
       "      <td>France</td>\n",
       "      <td>36187658</td>\n",
       "      <td>156660</td>\n",
       "      <td>36092874</td>\n",
       "      <td>156575</td>\n",
       "      <td>94784</td>\n",
       "      <td>85</td>\n",
       "      <td>0.43</td>\n",
       "      <td>Europe</td>\n",
       "    </tr>\n",
       "    <tr>\n",
       "      <th>3</th>\n",
       "      <td>Brazil</td>\n",
       "      <td>34731539</td>\n",
       "      <td>686963</td>\n",
       "      <td>34724189</td>\n",
       "      <td>686877</td>\n",
       "      <td>7350</td>\n",
       "      <td>86</td>\n",
       "      <td>1.98</td>\n",
       "      <td>South America</td>\n",
       "    </tr>\n",
       "    <tr>\n",
       "      <th>4</th>\n",
       "      <td>Germany</td>\n",
       "      <td>34257916</td>\n",
       "      <td>150919</td>\n",
       "      <td>34121168</td>\n",
       "      <td>150720</td>\n",
       "      <td>136748</td>\n",
       "      <td>199</td>\n",
       "      <td>0.44</td>\n",
       "      <td>Europe</td>\n",
       "    </tr>\n",
       "  </tbody>\n",
       "</table>\n",
       "</div>"
      ],
      "text/plain": [
       "  Country/Region     Cases   Deaths    PCases  PDeaths  Cases (+)  Deaths (+)  \\\n",
       "0             US  96772268  1063310  96721113  1062681      51155         629   \n",
       "1          India  44616235   528835  44616394   528822          0          13   \n",
       "2         France  36187658   156660  36092874   156575      94784          85   \n",
       "3         Brazil  34731539   686963  34724189   686877       7350          86   \n",
       "4        Germany  34257916   150919  34121168   150720     136748         199   \n",
       "\n",
       "   Fatality Rate      Continent  \n",
       "0           1.10  North America  \n",
       "1           1.19           Asia  \n",
       "2           0.43         Europe  \n",
       "3           1.98  South America  \n",
       "4           0.44         Europe  "
      ]
     },
     "execution_count": 13,
     "metadata": {},
     "output_type": "execute_result"
    }
   ],
   "source": [
    "#hide\n",
    "for c in 'Cases, Deaths'.split(', '):\n",
    "    df_table[f'{c} (+)'] = (df_table[c] - df_table[f'P{c}']).clip(0)\n",
    "    #Clip ça veut dire, les chiffres negatif sont interdit\n",
    "df_table['Fatality Rate'] = (100* df_table['Deaths']/ df_table['Cases']).round(2)\n",
    "df_table['Continent'] = df_table['Country/Region'].map(mapping['map.continent'])\n",
    "df_table.head(5)"
   ]
  },
  {
   "cell_type": "code",
   "execution_count": 14,
   "id": "aboriginal-bulgaria",
   "metadata": {
    "execution": {
     "iopub.execute_input": "2022-10-12T12:21:35.849755Z",
     "iopub.status.busy": "2022-10-12T12:21:35.849088Z",
     "iopub.status.idle": "2022-10-12T12:21:35.851638Z",
     "shell.execute_reply": "2022-10-12T12:21:35.852156Z"
    },
    "papermill": {
     "duration": 0.042954,
     "end_time": "2022-10-12T12:21:35.852290",
     "exception": false,
     "start_time": "2022-10-12T12:21:35.809336",
     "status": "completed"
    },
    "tags": []
   },
   "outputs": [],
   "source": [
    "#hide\n",
    "#delete problematic countries from table\n",
    "df_table = df_table[~df_table['Country/Region'].isin(['Cape Verde', 'Cruise Ship', 'Kosovo'])]"
   ]
  },
  {
   "cell_type": "code",
   "execution_count": 15,
   "id": "fantastic-effect",
   "metadata": {
    "execution": {
     "iopub.execute_input": "2022-10-12T12:21:35.929320Z",
     "iopub.status.busy": "2022-10-12T12:21:35.928689Z",
     "iopub.status.idle": "2022-10-12T12:21:35.947951Z",
     "shell.execute_reply": "2022-10-12T12:21:35.948508Z"
    },
    "papermill": {
     "duration": 0.063569,
     "end_time": "2022-10-12T12:21:35.948643",
     "exception": false,
     "start_time": "2022-10-12T12:21:35.885074",
     "status": "completed"
    },
    "tags": []
   },
   "outputs": [
    {
     "data": {
      "text/html": [
       "<div>\n",
       "<style scoped>\n",
       "    .dataframe tbody tr th:only-of-type {\n",
       "        vertical-align: middle;\n",
       "    }\n",
       "\n",
       "    .dataframe tbody tr th {\n",
       "        vertical-align: top;\n",
       "    }\n",
       "\n",
       "    .dataframe thead th {\n",
       "        text-align: right;\n",
       "    }\n",
       "</style>\n",
       "<table border=\"1\" class=\"dataframe\">\n",
       "  <thead>\n",
       "    <tr style=\"text-align: right;\">\n",
       "      <th></th>\n",
       "      <th>Country/Region</th>\n",
       "      <th>Cases</th>\n",
       "      <th>Deaths</th>\n",
       "      <th>PCases</th>\n",
       "      <th>PDeaths</th>\n",
       "      <th>Cases (+)</th>\n",
       "      <th>Deaths (+)</th>\n",
       "      <th>Fatality Rate</th>\n",
       "      <th>Continent</th>\n",
       "    </tr>\n",
       "  </thead>\n",
       "  <tbody>\n",
       "    <tr>\n",
       "      <th>0</th>\n",
       "      <td>US</td>\n",
       "      <td>96772268</td>\n",
       "      <td>1063310</td>\n",
       "      <td>96721113</td>\n",
       "      <td>1062681</td>\n",
       "      <td>51155</td>\n",
       "      <td>629</td>\n",
       "      <td>1.1</td>\n",
       "      <td>North America</td>\n",
       "    </tr>\n",
       "    <tr>\n",
       "      <th>1</th>\n",
       "      <td>India</td>\n",
       "      <td>44616235</td>\n",
       "      <td>528835</td>\n",
       "      <td>44616394</td>\n",
       "      <td>528822</td>\n",
       "      <td>0</td>\n",
       "      <td>13</td>\n",
       "      <td>1.2</td>\n",
       "      <td>Asia</td>\n",
       "    </tr>\n",
       "    <tr>\n",
       "      <th>2</th>\n",
       "      <td>France</td>\n",
       "      <td>36187658</td>\n",
       "      <td>156660</td>\n",
       "      <td>36092874</td>\n",
       "      <td>156575</td>\n",
       "      <td>94784</td>\n",
       "      <td>85</td>\n",
       "      <td>0.4</td>\n",
       "      <td>Europe</td>\n",
       "    </tr>\n",
       "    <tr>\n",
       "      <th>3</th>\n",
       "      <td>Brazil</td>\n",
       "      <td>34731539</td>\n",
       "      <td>686963</td>\n",
       "      <td>34724189</td>\n",
       "      <td>686877</td>\n",
       "      <td>7350</td>\n",
       "      <td>86</td>\n",
       "      <td>2.0</td>\n",
       "      <td>South America</td>\n",
       "    </tr>\n",
       "    <tr>\n",
       "      <th>4</th>\n",
       "      <td>Germany</td>\n",
       "      <td>34257916</td>\n",
       "      <td>150919</td>\n",
       "      <td>34121168</td>\n",
       "      <td>150720</td>\n",
       "      <td>136748</td>\n",
       "      <td>199</td>\n",
       "      <td>0.4</td>\n",
       "      <td>Europe</td>\n",
       "    </tr>\n",
       "  </tbody>\n",
       "</table>\n",
       "</div>"
      ],
      "text/plain": [
       "  Country/Region     Cases   Deaths    PCases  PDeaths  Cases (+)  Deaths (+)  \\\n",
       "0             US  96772268  1063310  96721113  1062681      51155         629   \n",
       "1          India  44616235   528835  44616394   528822          0          13   \n",
       "2         France  36187658   156660  36092874   156575      94784          85   \n",
       "3         Brazil  34731539   686963  34724189   686877       7350          86   \n",
       "4        Germany  34257916   150919  34121168   150720     136748         199   \n",
       "\n",
       "   Fatality Rate      Continent  \n",
       "0            1.1  North America  \n",
       "1            1.2           Asia  \n",
       "2            0.4         Europe  \n",
       "3            2.0  South America  \n",
       "4            0.4         Europe  "
      ]
     },
     "execution_count": 15,
     "metadata": {},
     "output_type": "execute_result"
    }
   ],
   "source": [
    "#hide\n",
    "df_table = (pd.DataFrame(dict(Cases=dfc_cases, Deaths=dfc_deaths, PCases=dfp_cases, PDeaths=dfp_deaths))\n",
    "             .sort_values(by=['Cases', 'Deaths'], ascending=[False, False])\n",
    "             .reset_index())\n",
    "df_table.rename(columns={'index': 'Country/Region'}, inplace=True)\n",
    "for c in 'Cases, Deaths'.split(', '):\n",
    "    df_table[f'{c} (+)'] = (df_table[c] - df_table[f'P{c}']).clip(0)  # DATA BUG\n",
    "df_table['Fatality Rate'] = (100 * df_table['Deaths'] / df_table['Cases']).round(1)\n",
    "df_table['Continent'] = df_table['Country/Region'].map(mapping['map.continent'])\n",
    "df_table.head(5)"
   ]
  },
  {
   "cell_type": "code",
   "execution_count": 16,
   "id": "fewer-occasion",
   "metadata": {
    "execution": {
     "iopub.execute_input": "2022-10-12T12:21:36.021021Z",
     "iopub.status.busy": "2022-10-12T12:21:36.020344Z",
     "iopub.status.idle": "2022-10-12T12:21:36.023063Z",
     "shell.execute_reply": "2022-10-12T12:21:36.022525Z"
    },
    "papermill": {
     "duration": 0.041511,
     "end_time": "2022-10-12T12:21:36.023178",
     "exception": false,
     "start_time": "2022-10-12T12:21:35.981667",
     "status": "completed"
    },
    "tags": []
   },
   "outputs": [],
   "source": [
    "#hide\n",
    "#delete problematic countries from table\n",
    "df_table = df_table[~df_table['Country/Region'].isin(['Cape Verde', 'Cruise Ship', 'Kosovo'])]"
   ]
  },
  {
   "cell_type": "code",
   "execution_count": 17,
   "id": "related-center",
   "metadata": {
    "execution": {
     "iopub.execute_input": "2022-10-12T12:21:36.103617Z",
     "iopub.status.busy": "2022-10-12T12:21:36.102914Z",
     "iopub.status.idle": "2022-10-12T12:21:36.116574Z",
     "shell.execute_reply": "2022-10-12T12:21:36.117084Z"
    },
    "papermill": {
     "duration": 0.060612,
     "end_time": "2022-10-12T12:21:36.117220",
     "exception": false,
     "start_time": "2022-10-12T12:21:36.056608",
     "status": "completed"
    },
    "tags": []
   },
   "outputs": [],
   "source": [
    "#hide\n",
    "metrics = [df_table.columns[index] for index in [1,2,5,6]]\n",
    "# s_china = df_table[df_table['Country/Region'].eq('China')][metrics].sum().add_prefix('China ')\n",
    "s_us = df_table[df_table['Country/Region'].eq('US')][metrics].sum().add_prefix('US ')\n",
    "s_eu = df_table[df_table['Continent'].eq('Europe')][metrics].sum().add_prefix('EU ')\n",
    "s_ind = df_table[df_table['Country/Region'].eq('India')][metrics].sum().add_prefix('India ')\n",
    "summary = {'updated': pd.to_datetime(dt_today), 'since': pd.to_datetime(dt_yday)}\n",
    "summary = {'updated': pd.to_datetime(dt_today), 'since': pd.to_datetime(dt_yday)}\n",
    "summary = {**summary, **df_table[metrics].sum(), **s_ind, **s_us, **s_eu}"
   ]
  },
  {
   "cell_type": "code",
   "execution_count": 18,
   "id": "engaging-syndrome",
   "metadata": {
    "execution": {
     "iopub.execute_input": "2022-10-12T12:21:36.193835Z",
     "iopub.status.busy": "2022-10-12T12:21:36.193140Z",
     "iopub.status.idle": "2022-10-12T12:21:36.216466Z",
     "shell.execute_reply": "2022-10-12T12:21:36.215888Z"
    },
    "papermill": {
     "duration": 0.065356,
     "end_time": "2022-10-12T12:21:36.216597",
     "exception": false,
     "start_time": "2022-10-12T12:21:36.151241",
     "status": "completed"
    },
    "tags": []
   },
   "outputs": [],
   "source": [
    "#hide\n",
    "dft_ct_new_cases = dft_cases.groupby(COL_REGION)[dt_cols].sum().diff(axis=1).fillna(0).astype(int)"
   ]
  },
  {
   "cell_type": "code",
   "execution_count": 19,
   "id": "neutral-assignment",
   "metadata": {
    "execution": {
     "iopub.execute_input": "2022-10-12T12:21:36.291488Z",
     "iopub.status.busy": "2022-10-12T12:21:36.290853Z",
     "iopub.status.idle": "2022-10-12T12:21:36.297966Z",
     "shell.execute_reply": "2022-10-12T12:21:36.297419Z"
    },
    "papermill": {
     "duration": 0.047181,
     "end_time": "2022-10-12T12:21:36.298092",
     "exception": false,
     "start_time": "2022-10-12T12:21:36.250911",
     "status": "completed"
    },
    "tags": []
   },
   "outputs": [],
   "source": [
    "#hide\n",
    "everydaycases = dft_ct_new_cases.cumsum(axis=1)"
   ]
  },
  {
   "cell_type": "code",
   "execution_count": 20,
   "id": "parliamentary-calgary",
   "metadata": {
    "execution": {
     "iopub.execute_input": "2022-10-12T12:21:36.373054Z",
     "iopub.status.busy": "2022-10-12T12:21:36.372365Z",
     "iopub.status.idle": "2022-10-12T12:21:36.978009Z",
     "shell.execute_reply": "2022-10-12T12:21:36.977430Z"
    },
    "papermill": {
     "duration": 0.646767,
     "end_time": "2022-10-12T12:21:36.978146",
     "exception": false,
     "start_time": "2022-10-12T12:21:36.331379",
     "status": "completed"
    },
    "tags": []
   },
   "outputs": [],
   "source": [
    "#hide\n",
    "import pandas as pd\n",
    "import matplotlib.pyplot as plt\n",
    "import matplotlib.ticker as ticker\n",
    "import matplotlib.animation as animation\n",
    "from IPython.display import HTML"
   ]
  },
  {
   "cell_type": "code",
   "execution_count": 21,
   "id": "lasting-extraction",
   "metadata": {
    "execution": {
     "iopub.execute_input": "2022-10-12T12:21:37.053428Z",
     "iopub.status.busy": "2022-10-12T12:21:37.052750Z",
     "iopub.status.idle": "2022-10-12T12:21:37.061585Z",
     "shell.execute_reply": "2022-10-12T12:21:37.060902Z"
    },
    "papermill": {
     "duration": 0.049237,
     "end_time": "2022-10-12T12:21:37.061711",
     "exception": false,
     "start_time": "2022-10-12T12:21:37.012474",
     "status": "completed"
    },
    "tags": []
   },
   "outputs": [],
   "source": [
    "#hide\n",
    "t = everydaycases.stack()"
   ]
  },
  {
   "cell_type": "code",
   "execution_count": 22,
   "id": "premier-sleeve",
   "metadata": {
    "execution": {
     "iopub.execute_input": "2022-10-12T12:21:37.133949Z",
     "iopub.status.busy": "2022-10-12T12:21:37.132786Z",
     "iopub.status.idle": "2022-10-12T12:21:37.145809Z",
     "shell.execute_reply": "2022-10-12T12:21:37.146372Z"
    },
    "papermill": {
     "duration": 0.051601,
     "end_time": "2022-10-12T12:21:37.146515",
     "exception": false,
     "start_time": "2022-10-12T12:21:37.094914",
     "status": "completed"
    },
    "tags": []
   },
   "outputs": [],
   "source": [
    "#hide\n",
    "g = t.reset_index(['Country/Region'])"
   ]
  },
  {
   "cell_type": "code",
   "execution_count": 23,
   "id": "distributed-pittsburgh",
   "metadata": {
    "execution": {
     "iopub.execute_input": "2022-10-12T12:21:37.219626Z",
     "iopub.status.busy": "2022-10-12T12:21:37.218412Z",
     "iopub.status.idle": "2022-10-12T12:21:37.222595Z",
     "shell.execute_reply": "2022-10-12T12:21:37.222066Z"
    },
    "papermill": {
     "duration": 0.042664,
     "end_time": "2022-10-12T12:21:37.222710",
     "exception": false,
     "start_time": "2022-10-12T12:21:37.180046",
     "status": "completed"
    },
    "tags": []
   },
   "outputs": [],
   "source": [
    "#hide\n",
    "g.index.name = 'date'"
   ]
  },
  {
   "cell_type": "code",
   "execution_count": 24,
   "id": "naked-donor",
   "metadata": {
    "execution": {
     "iopub.execute_input": "2022-10-12T12:21:37.293716Z",
     "iopub.status.busy": "2022-10-12T12:21:37.293090Z",
     "iopub.status.idle": "2022-10-12T12:21:37.297241Z",
     "shell.execute_reply": "2022-10-12T12:21:37.296628Z"
    },
    "papermill": {
     "duration": 0.040838,
     "end_time": "2022-10-12T12:21:37.297354",
     "exception": false,
     "start_time": "2022-10-12T12:21:37.256516",
     "status": "completed"
    },
    "tags": []
   },
   "outputs": [],
   "source": [
    "# #hide\n",
    "# g = g.reset_index(['date'])"
   ]
  },
  {
   "cell_type": "code",
   "execution_count": 25,
   "id": "incomplete-mustang",
   "metadata": {
    "execution": {
     "iopub.execute_input": "2022-10-12T12:21:37.370280Z",
     "iopub.status.busy": "2022-10-12T12:21:37.369082Z",
     "iopub.status.idle": "2022-10-12T12:21:37.371613Z",
     "shell.execute_reply": "2022-10-12T12:21:37.372529Z"
    },
    "papermill": {
     "duration": 0.042445,
     "end_time": "2022-10-12T12:21:37.372763",
     "exception": false,
     "start_time": "2022-10-12T12:21:37.330318",
     "status": "completed"
    },
    "tags": []
   },
   "outputs": [],
   "source": [
    "#hide\n",
    "# g.head()"
   ]
  },
  {
   "cell_type": "code",
   "execution_count": 26,
   "id": "specific-kruger",
   "metadata": {
    "execution": {
     "iopub.execute_input": "2022-10-12T12:21:37.445957Z",
     "iopub.status.busy": "2022-10-12T12:21:37.445265Z",
     "iopub.status.idle": "2022-10-12T12:21:37.447971Z",
     "shell.execute_reply": "2022-10-12T12:21:37.447408Z"
    },
    "papermill": {
     "duration": 0.041205,
     "end_time": "2022-10-12T12:21:37.448099",
     "exception": false,
     "start_time": "2022-10-12T12:21:37.406894",
     "status": "completed"
    },
    "tags": []
   },
   "outputs": [],
   "source": [
    "#hide\n",
    "# g.columns = ['date','country','cases']"
   ]
  },
  {
   "cell_type": "code",
   "execution_count": 27,
   "id": "tender-conversion",
   "metadata": {
    "execution": {
     "iopub.execute_input": "2022-10-12T12:21:37.520188Z",
     "iopub.status.busy": "2022-10-12T12:21:37.519532Z",
     "iopub.status.idle": "2022-10-12T12:21:37.523049Z",
     "shell.execute_reply": "2022-10-12T12:21:37.523702Z"
    },
    "papermill": {
     "duration": 0.042229,
     "end_time": "2022-10-12T12:21:37.523846",
     "exception": false,
     "start_time": "2022-10-12T12:21:37.481617",
     "status": "completed"
    },
    "tags": []
   },
   "outputs": [],
   "source": [
    "#hide\n",
    "# g['continent'] = g.country"
   ]
  },
  {
   "cell_type": "code",
   "execution_count": 28,
   "id": "substantial-wilderness",
   "metadata": {
    "execution": {
     "iopub.execute_input": "2022-10-12T12:21:37.597464Z",
     "iopub.status.busy": "2022-10-12T12:21:37.596263Z",
     "iopub.status.idle": "2022-10-12T12:21:37.598208Z",
     "shell.execute_reply": "2022-10-12T12:21:37.598679Z"
    },
    "papermill": {
     "duration": 0.041919,
     "end_time": "2022-10-12T12:21:37.598841",
     "exception": false,
     "start_time": "2022-10-12T12:21:37.556922",
     "status": "completed"
    },
    "tags": []
   },
   "outputs": [],
   "source": [
    "#hide\n",
    "# cols = list(g.columns.values)"
   ]
  },
  {
   "cell_type": "code",
   "execution_count": 29,
   "id": "solved-farming",
   "metadata": {
    "execution": {
     "iopub.execute_input": "2022-10-12T12:21:37.672585Z",
     "iopub.status.busy": "2022-10-12T12:21:37.671909Z",
     "iopub.status.idle": "2022-10-12T12:21:37.675373Z",
     "shell.execute_reply": "2022-10-12T12:21:37.676048Z"
    },
    "papermill": {
     "duration": 0.04315,
     "end_time": "2022-10-12T12:21:37.676199",
     "exception": false,
     "start_time": "2022-10-12T12:21:37.633049",
     "status": "completed"
    },
    "tags": []
   },
   "outputs": [],
   "source": [
    "#hide\n",
    "# cols.insert(0, cols.pop())"
   ]
  },
  {
   "cell_type": "code",
   "execution_count": 30,
   "id": "executed-adoption",
   "metadata": {
    "execution": {
     "iopub.execute_input": "2022-10-12T12:21:37.751174Z",
     "iopub.status.busy": "2022-10-12T12:21:37.750389Z",
     "iopub.status.idle": "2022-10-12T12:21:37.751927Z",
     "shell.execute_reply": "2022-10-12T12:21:37.752433Z"
    },
    "papermill": {
     "duration": 0.042086,
     "end_time": "2022-10-12T12:21:37.752575",
     "exception": false,
     "start_time": "2022-10-12T12:21:37.710489",
     "status": "completed"
    },
    "tags": []
   },
   "outputs": [],
   "source": [
    "#hide\n",
    "# g = g[cols]"
   ]
  },
  {
   "cell_type": "code",
   "execution_count": 31,
   "id": "subject-dublin",
   "metadata": {
    "execution": {
     "iopub.execute_input": "2022-10-12T12:21:37.824168Z",
     "iopub.status.busy": "2022-10-12T12:21:37.823474Z",
     "iopub.status.idle": "2022-10-12T12:21:37.826254Z",
     "shell.execute_reply": "2022-10-12T12:21:37.825724Z"
    },
    "papermill": {
     "duration": 0.040244,
     "end_time": "2022-10-12T12:21:37.826392",
     "exception": false,
     "start_time": "2022-10-12T12:21:37.786148",
     "status": "completed"
    },
    "tags": []
   },
   "outputs": [],
   "source": [
    "#hide\n",
    "# g['continent'] = g['continent'].map(mapping['map.continent'])"
   ]
  },
  {
   "cell_type": "code",
   "execution_count": 32,
   "id": "freelance-scout",
   "metadata": {
    "execution": {
     "iopub.execute_input": "2022-10-12T12:21:37.899003Z",
     "iopub.status.busy": "2022-10-12T12:21:37.898308Z",
     "iopub.status.idle": "2022-10-12T12:21:37.901065Z",
     "shell.execute_reply": "2022-10-12T12:21:37.901706Z"
    },
    "papermill": {
     "duration": 0.042501,
     "end_time": "2022-10-12T12:21:37.901846",
     "exception": false,
     "start_time": "2022-10-12T12:21:37.859345",
     "status": "completed"
    },
    "tags": []
   },
   "outputs": [],
   "source": [
    "#hide\n",
    "# g.head()"
   ]
  },
  {
   "cell_type": "code",
   "execution_count": 33,
   "id": "limited-engine",
   "metadata": {
    "execution": {
     "iopub.execute_input": "2022-10-12T12:21:37.975948Z",
     "iopub.status.busy": "2022-10-12T12:21:37.975277Z",
     "iopub.status.idle": "2022-10-12T12:21:37.978465Z",
     "shell.execute_reply": "2022-10-12T12:21:37.977922Z"
    },
    "papermill": {
     "duration": 0.042366,
     "end_time": "2022-10-12T12:21:37.978588",
     "exception": false,
     "start_time": "2022-10-12T12:21:37.936222",
     "status": "completed"
    },
    "tags": []
   },
   "outputs": [],
   "source": [
    "# hide\n",
    "# g['date'] = g['date'].astype('datetime64[ns]')"
   ]
  },
  {
   "cell_type": "code",
   "execution_count": 34,
   "id": "sophisticated-supervisor",
   "metadata": {
    "execution": {
     "iopub.execute_input": "2022-10-12T12:21:38.053955Z",
     "iopub.status.busy": "2022-10-12T12:21:38.052777Z",
     "iopub.status.idle": "2022-10-12T12:21:38.058119Z",
     "shell.execute_reply": "2022-10-12T12:21:38.058619Z"
    },
    "papermill": {
     "duration": 0.045495,
     "end_time": "2022-10-12T12:21:38.058767",
     "exception": false,
     "start_time": "2022-10-12T12:21:38.013272",
     "status": "completed"
    },
    "tags": []
   },
   "outputs": [],
   "source": [
    "#hide\n",
    "# g['date'] = g.date.dt.dayofyear"
   ]
  },
  {
   "cell_type": "code",
   "execution_count": 35,
   "id": "inside-dubai",
   "metadata": {
    "execution": {
     "iopub.execute_input": "2022-10-12T12:21:38.132741Z",
     "iopub.status.busy": "2022-10-12T12:21:38.131405Z",
     "iopub.status.idle": "2022-10-12T12:21:38.134777Z",
     "shell.execute_reply": "2022-10-12T12:21:38.133869Z"
    },
    "papermill": {
     "duration": 0.042,
     "end_time": "2022-10-12T12:21:38.135008",
     "exception": false,
     "start_time": "2022-10-12T12:21:38.093008",
     "status": "completed"
    },
    "tags": []
   },
   "outputs": [],
   "source": [
    "#hide\n",
    "# g = g.rename(columns= {'continent':'group','country':'name','cases':'value'})"
   ]
  },
  {
   "cell_type": "code",
   "execution_count": 36,
   "id": "fleet-motorcycle",
   "metadata": {
    "execution": {
     "iopub.execute_input": "2022-10-12T12:21:38.209652Z",
     "iopub.status.busy": "2022-10-12T12:21:38.208966Z",
     "iopub.status.idle": "2022-10-12T12:21:38.213020Z",
     "shell.execute_reply": "2022-10-12T12:21:38.213512Z"
    },
    "papermill": {
     "duration": 0.043582,
     "end_time": "2022-10-12T12:21:38.213660",
     "exception": false,
     "start_time": "2022-10-12T12:21:38.170078",
     "status": "completed"
    },
    "tags": []
   },
   "outputs": [],
   "source": [
    "#hide\n",
    "# cols = ['name','group','day','value']"
   ]
  },
  {
   "cell_type": "code",
   "execution_count": 37,
   "id": "continued-sleeping",
   "metadata": {
    "execution": {
     "iopub.execute_input": "2022-10-12T12:21:38.289533Z",
     "iopub.status.busy": "2022-10-12T12:21:38.288340Z",
     "iopub.status.idle": "2022-10-12T12:21:38.290818Z",
     "shell.execute_reply": "2022-10-12T12:21:38.291471Z"
    },
    "papermill": {
     "duration": 0.043434,
     "end_time": "2022-10-12T12:21:38.291620",
     "exception": false,
     "start_time": "2022-10-12T12:21:38.248186",
     "status": "completed"
    },
    "tags": []
   },
   "outputs": [],
   "source": [
    "#hide\n",
    "# g.rename(columns= {'date':'day'},inplace = True)"
   ]
  },
  {
   "cell_type": "code",
   "execution_count": 38,
   "id": "major-fight",
   "metadata": {
    "execution": {
     "iopub.execute_input": "2022-10-12T12:21:38.367787Z",
     "iopub.status.busy": "2022-10-12T12:21:38.366523Z",
     "iopub.status.idle": "2022-10-12T12:21:38.369084Z",
     "shell.execute_reply": "2022-10-12T12:21:38.369980Z"
    },
    "papermill": {
     "duration": 0.043904,
     "end_time": "2022-10-12T12:21:38.370213",
     "exception": false,
     "start_time": "2022-10-12T12:21:38.326309",
     "status": "completed"
    },
    "tags": []
   },
   "outputs": [],
   "source": [
    "#hide\n",
    "# g = g[cols]"
   ]
  },
  {
   "cell_type": "code",
   "execution_count": 39,
   "id": "structured-mobile",
   "metadata": {
    "execution": {
     "iopub.execute_input": "2022-10-12T12:21:38.445386Z",
     "iopub.status.busy": "2022-10-12T12:21:38.444670Z",
     "iopub.status.idle": "2022-10-12T12:21:38.449092Z",
     "shell.execute_reply": "2022-10-12T12:21:38.448517Z"
    },
    "papermill": {
     "duration": 0.043734,
     "end_time": "2022-10-12T12:21:38.449220",
     "exception": false,
     "start_time": "2022-10-12T12:21:38.405486",
     "status": "completed"
    },
    "tags": []
   },
   "outputs": [],
   "source": [
    "# #hide\n",
    "# g = g[g.group.notna()]"
   ]
  },
  {
   "cell_type": "code",
   "execution_count": 40,
   "id": "determined-closing",
   "metadata": {
    "execution": {
     "iopub.execute_input": "2022-10-12T12:21:38.522458Z",
     "iopub.status.busy": "2022-10-12T12:21:38.521519Z",
     "iopub.status.idle": "2022-10-12T12:21:38.523489Z",
     "shell.execute_reply": "2022-10-12T12:21:38.524062Z"
    },
    "papermill": {
     "duration": 0.040907,
     "end_time": "2022-10-12T12:21:38.524197",
     "exception": false,
     "start_time": "2022-10-12T12:21:38.483290",
     "status": "completed"
    },
    "tags": []
   },
   "outputs": [],
   "source": [
    "# #hide\n",
    "# colors = dict(zip(\n",
    "#     [\"Oceania\", \"Europe\", \"Asia\", \"South America\", \"Middle East\", \"North America\", \"Africa\"],\n",
    "#     [\"#adb0ff\", \"#ffb3ff\", \"#90d595\", \"#e48381\", \"#aafbff\", \"#f7bb5f\", \"#eafb50\"]\n",
    "# ))\n",
    "# group_lk = g.set_index('name')['group'].to_dict()"
   ]
  },
  {
   "cell_type": "code",
   "execution_count": null,
   "id": "gross-drinking",
   "metadata": {
    "papermill": {
     "duration": 0.033365,
     "end_time": "2022-10-12T12:21:38.591269",
     "exception": false,
     "start_time": "2022-10-12T12:21:38.557904",
     "status": "completed"
    },
    "tags": []
   },
   "outputs": [],
   "source": []
  },
  {
   "cell_type": "code",
   "execution_count": 41,
   "id": "subject-macintosh",
   "metadata": {
    "execution": {
     "iopub.execute_input": "2022-10-12T12:21:38.665718Z",
     "iopub.status.busy": "2022-10-12T12:21:38.664660Z",
     "iopub.status.idle": "2022-10-12T12:21:38.669448Z",
     "shell.execute_reply": "2022-10-12T12:21:38.668891Z"
    },
    "papermill": {
     "duration": 0.045314,
     "end_time": "2022-10-12T12:21:38.669576",
     "exception": false,
     "start_time": "2022-10-12T12:21:38.624262",
     "status": "completed"
    },
    "tags": []
   },
   "outputs": [],
   "source": [
    "# #hide\n",
    "# fig, ax = plt.subplots(figsize=(15, 8))\n",
    "\n",
    "# def draw_barchart(current_day):\n",
    "#     dff = g[g['day'].eq(current_day)].sort_values(by='value', ascending=True).tail(10)\n",
    "#     ax.clear()\n",
    "#     ax.barh(dff['name'], dff['value'], color=[colors[group_lk[x]] for x in dff['name']])\n",
    "#     dx = dff['value'].max() / 200\n",
    "    \n",
    "#     for i, (value, name) in enumerate(zip(dff['value'], dff['name'])):\n",
    "#         ax.text(value-dx, i,     name,           size=14, weight=600, ha='right', va='bottom')\n",
    "#         ax.text(value-dx, i-.25, group_lk[name], size=10, color='#444444', ha='right', va='baseline')\n",
    "#         ax.text(value+dx, i,     f'{value:,.0f}',  size=14, ha='left',  va='center')\n",
    "#     ax.text(1, 0.4, current_day, transform=ax.transAxes, color='#777777', size=46, ha='right', weight=800)\n",
    "#     ax.text(0, 1.06, 'Population (thousands)', transform=ax.transAxes, size=12, color='#777777')\n",
    "#     ax.xaxis.set_major_formatter(ticker.StrMethodFormatter('{x:,.0f}'))\n",
    "#     ax.xaxis.set_ticks_position('top')\n",
    "#     ax.tick_params(axis='x', colors='#777777', labelsize=12)\n",
    "#     ax.set_yticks([])\n",
    "#     ax.margins(0, 0.01)\n",
    "#     ax.grid(which='major', axis='x', linestyle='-')\n",
    "#     ax.set_axisbelow(True)\n",
    "    \n",
    "#     ax.text(0, 1.15, 'Coronavirus',\n",
    "#             transform=ax.transAxes, size=24, weight=600, ha='left', va='top')\n",
    "# #     ax.text(1, 0, 'by @pratapvardhan; credit @jburnmurdoch', transform=ax.transAxes, color='#777777', ha='right',\n",
    "# #             bbox=dict(facecolor='white', alpha=0.8, edgecolor='white'))\n",
    "#     plt.box(False)"
   ]
  },
  {
   "cell_type": "code",
   "execution_count": 42,
   "id": "sexual-wages",
   "metadata": {
    "execution": {
     "iopub.execute_input": "2022-10-12T12:21:38.743596Z",
     "iopub.status.busy": "2022-10-12T12:21:38.742369Z",
     "iopub.status.idle": "2022-10-12T12:21:38.747404Z",
     "shell.execute_reply": "2022-10-12T12:21:38.746542Z"
    },
    "papermill": {
     "duration": 0.043971,
     "end_time": "2022-10-12T12:21:38.747525",
     "exception": false,
     "start_time": "2022-10-12T12:21:38.703554",
     "status": "completed"
    },
    "tags": []
   },
   "outputs": [],
   "source": [
    "# #hide_input\n",
    "# fig, ax = plt.subplots(figsize=(15, 8))\n",
    "# animator = animation.FuncAnimation(fig, draw_barchart, frames=range(g.day.values.min(), g.day.values.max()))\n",
    "# HTML(animator.to_jshtml())\n",
    "# # or use animator.to_html5_video() or animator.save() "
   ]
  },
  {
   "cell_type": "code",
   "execution_count": null,
   "id": "australian-container",
   "metadata": {
    "papermill": {
     "duration": 0.033384,
     "end_time": "2022-10-12T12:21:38.815854",
     "exception": false,
     "start_time": "2022-10-12T12:21:38.782470",
     "status": "completed"
    },
    "tags": []
   },
   "outputs": [],
   "source": []
  },
  {
   "cell_type": "code",
   "execution_count": null,
   "id": "mediterranean-pontiac",
   "metadata": {
    "papermill": {
     "duration": 0.033513,
     "end_time": "2022-10-12T12:21:38.883375",
     "exception": false,
     "start_time": "2022-10-12T12:21:38.849862",
     "status": "completed"
    },
    "tags": []
   },
   "outputs": [],
   "source": []
  },
  {
   "cell_type": "code",
   "execution_count": null,
   "id": "aging-legislature",
   "metadata": {
    "papermill": {
     "duration": 0.03275,
     "end_time": "2022-10-12T12:21:38.949489",
     "exception": false,
     "start_time": "2022-10-12T12:21:38.916739",
     "status": "completed"
    },
    "tags": []
   },
   "outputs": [],
   "source": []
  }
 ],
 "metadata": {
  "kernelspec": {
   "display_name": "Python 3",
   "language": "python",
   "name": "python3"
  },
  "language_info": {
   "codemirror_mode": {
    "name": "ipython",
    "version": 3
   },
   "file_extension": ".py",
   "mimetype": "text/x-python",
   "name": "python",
   "nbconvert_exporter": "python",
   "pygments_lexer": "ipython3",
   "version": "3.6.15"
  },
  "papermill": {
   "duration": 6.850069,
   "end_time": "2022-10-12T12:21:39.302583",
   "environment_variables": {},
   "exception": null,
   "input_path": "2020-03-21-covid19exp.ipynb",
   "output_path": "2020-03-21-covid19exp.ipynb",
   "parameters": {},
   "start_time": "2022-10-12T12:21:32.452514",
   "version": "2.0.0"
  }
 },
 "nbformat": 4,
 "nbformat_minor": 5
}