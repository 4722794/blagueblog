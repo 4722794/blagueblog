{
 "cells": [
  {
   "cell_type": "markdown",
   "id": "muslim-click",
   "metadata": {
    "papermill": {
     "duration": 0.043806,
     "end_time": "2021-03-11T00:11:31.784776",
     "exception": false,
     "start_time": "2021-03-11T00:11:31.740970",
     "status": "completed"
    },
    "tags": []
   },
   "source": [
    "# COVID-19 Case Race\n",
    "> A race chart to see rising cases around the world\n",
    "\n",
    "- author: Hargun Oberoi\n",
    "- image: images/covid-overview.png\n",
    "- hide: false\n",
    "- badges: false"
   ]
  },
  {
   "cell_type": "code",
   "execution_count": 1,
   "id": "proof-material",
   "metadata": {
    "execution": {
     "iopub.execute_input": "2021-03-11T00:11:31.876456Z",
     "iopub.status.busy": "2021-03-11T00:11:31.875778Z",
     "iopub.status.idle": "2021-03-11T00:11:32.260305Z",
     "shell.execute_reply": "2021-03-11T00:11:32.259709Z"
    },
    "papermill": {
     "duration": 0.435657,
     "end_time": "2021-03-11T00:11:32.260465",
     "exception": false,
     "start_time": "2021-03-11T00:11:31.824808",
     "status": "completed"
    },
    "tags": []
   },
   "outputs": [],
   "source": [
    "#hide\n",
    "import numpy as np\n",
    "import pandas as pd\n",
    "from jinja2 import Template\n",
    "from IPython.display import HTML"
   ]
  },
  {
   "cell_type": "code",
   "execution_count": 2,
   "id": "developed-terminology",
   "metadata": {
    "execution": {
     "iopub.execute_input": "2021-03-11T00:11:32.349416Z",
     "iopub.status.busy": "2021-03-11T00:11:32.348733Z",
     "iopub.status.idle": "2021-03-11T00:11:32.351186Z",
     "shell.execute_reply": "2021-03-11T00:11:32.351735Z"
    },
    "papermill": {
     "duration": 0.047763,
     "end_time": "2021-03-11T00:11:32.351889",
     "exception": false,
     "start_time": "2021-03-11T00:11:32.304126",
     "status": "completed"
    },
    "tags": []
   },
   "outputs": [],
   "source": [
    "#hide\n",
    "\n",
    "# FETCH\n",
    "base_url = 'https://raw.githubusercontent.com/pratapvardhan/notebooks/master/covid19/'\n",
    "paths = {\n",
    "    'mapping': base_url + 'mapping_countries.csv',\n",
    "    'overview': base_url + 'overview.tpl'\n",
    "}"
   ]
  },
  {
   "cell_type": "code",
   "execution_count": 3,
   "id": "dynamic-saver",
   "metadata": {
    "execution": {
     "iopub.execute_input": "2021-03-11T00:11:32.442899Z",
     "iopub.status.busy": "2021-03-11T00:11:32.442197Z",
     "iopub.status.idle": "2021-03-11T00:11:32.444904Z",
     "shell.execute_reply": "2021-03-11T00:11:32.445600Z"
    },
    "papermill": {
     "duration": 0.053992,
     "end_time": "2021-03-11T00:11:32.445765",
     "exception": false,
     "start_time": "2021-03-11T00:11:32.391773",
     "status": "completed"
    },
    "tags": []
   },
   "outputs": [
    {
     "data": {
      "text/plain": [
       "'https://raw.githubusercontent.com/pratapvardhan/notebooks/master/covid19/mapping_countries.csv'"
      ]
     },
     "execution_count": 3,
     "metadata": {},
     "output_type": "execute_result"
    }
   ],
   "source": [
    "#hide\n",
    "paths['mapping']"
   ]
  },
  {
   "cell_type": "code",
   "execution_count": 4,
   "id": "urban-software",
   "metadata": {
    "execution": {
     "iopub.execute_input": "2021-03-11T00:11:32.534068Z",
     "iopub.status.busy": "2021-03-11T00:11:32.533381Z",
     "iopub.status.idle": "2021-03-11T00:11:32.535921Z",
     "shell.execute_reply": "2021-03-11T00:11:32.535371Z"
    },
    "papermill": {
     "duration": 0.048124,
     "end_time": "2021-03-11T00:11:32.536064",
     "exception": false,
     "start_time": "2021-03-11T00:11:32.487940",
     "status": "completed"
    },
    "tags": []
   },
   "outputs": [],
   "source": [
    "#hide\n",
    "def get_mappings(url):\n",
    "    df = pd.read_csv(url)\n",
    "    return {\n",
    "        'df': df,\n",
    "        'replace.country': dict(df.dropna(subset=['Name']).set_index('Country')['Name']),\n",
    "        'map.continent': dict(df.set_index('Name')['Continent'])\n",
    "    }"
   ]
  },
  {
   "cell_type": "code",
   "execution_count": 5,
   "id": "intimate-machinery",
   "metadata": {
    "execution": {
     "iopub.execute_input": "2021-03-11T00:11:32.625599Z",
     "iopub.status.busy": "2021-03-11T00:11:32.624930Z",
     "iopub.status.idle": "2021-03-11T00:11:32.671602Z",
     "shell.execute_reply": "2021-03-11T00:11:32.670852Z"
    },
    "papermill": {
     "duration": 0.095323,
     "end_time": "2021-03-11T00:11:32.671762",
     "exception": false,
     "start_time": "2021-03-11T00:11:32.576439",
     "status": "completed"
    },
    "tags": []
   },
   "outputs": [],
   "source": [
    "#hide\n",
    "mapping = get_mappings(paths['mapping'])"
   ]
  },
  {
   "cell_type": "code",
   "execution_count": 6,
   "id": "certified-tactics",
   "metadata": {
    "execution": {
     "iopub.execute_input": "2021-03-11T00:11:32.762431Z",
     "iopub.status.busy": "2021-03-11T00:11:32.761709Z",
     "iopub.status.idle": "2021-03-11T00:11:32.763706Z",
     "shell.execute_reply": "2021-03-11T00:11:32.764657Z"
    },
    "papermill": {
     "duration": 0.051856,
     "end_time": "2021-03-11T00:11:32.764828",
     "exception": false,
     "start_time": "2021-03-11T00:11:32.712972",
     "status": "completed"
    },
    "tags": []
   },
   "outputs": [],
   "source": [
    "#hide\n",
    "def get_template(path):\n",
    "    from urllib.parse import urlparse\n",
    "    if bool(urlparse(path).netloc):\n",
    "        from urllib.request import urlopen\n",
    "        return urlopen(path).read().decode('utf8')\n",
    "    return open(path).read()"
   ]
  },
  {
   "cell_type": "code",
   "execution_count": 7,
   "id": "realistic-blast",
   "metadata": {
    "execution": {
     "iopub.execute_input": "2021-03-11T00:11:32.856606Z",
     "iopub.status.busy": "2021-03-11T00:11:32.855957Z",
     "iopub.status.idle": "2021-03-11T00:11:32.857993Z",
     "shell.execute_reply": "2021-03-11T00:11:32.858664Z"
    },
    "papermill": {
     "duration": 0.052728,
     "end_time": "2021-03-11T00:11:32.858807",
     "exception": false,
     "start_time": "2021-03-11T00:11:32.806079",
     "status": "completed"
    },
    "tags": []
   },
   "outputs": [],
   "source": [
    "#hide\n",
    "def get_frame(name):\n",
    "    url = (\n",
    "        'https://raw.githubusercontent.com/CSSEGISandData/COVID-19/master/csse_covid_19_data/'\n",
    "        f'csse_covid_19_time_series/time_series_covid19_{name}_global.csv')\n",
    "    df = pd.read_csv(url)\n",
    "    # rename countries\n",
    "    df['Country/Region'] = df['Country/Region'].replace(mapping['replace.country'])\n",
    "    return df"
   ]
  },
  {
   "cell_type": "code",
   "execution_count": 8,
   "id": "affiliated-characterization",
   "metadata": {
    "execution": {
     "iopub.execute_input": "2021-03-11T00:11:32.944320Z",
     "iopub.status.busy": "2021-03-11T00:11:32.943357Z",
     "iopub.status.idle": "2021-03-11T00:11:32.945472Z",
     "shell.execute_reply": "2021-03-11T00:11:32.944920Z"
    },
    "papermill": {
     "duration": 0.048565,
     "end_time": "2021-03-11T00:11:32.945597",
     "exception": false,
     "start_time": "2021-03-11T00:11:32.897032",
     "status": "completed"
    },
    "tags": []
   },
   "outputs": [],
   "source": [
    "#hide\n",
    "def get_dates(df):\n",
    "    dt_cols = df.columns[~df.columns.isin(['Province/State', 'Country/Region', 'Lat', 'Long'])]\n",
    "    LAST_DATE_I = -1\n",
    "    # sometimes last column may be empty, then go backwards\n",
    "    for i in range(-1, -len(dt_cols), -1):\n",
    "        if not df[dt_cols[i]].fillna(0).eq(0).all():\n",
    "            LAST_DATE_I = i\n",
    "            break\n",
    "    return LAST_DATE_I, dt_cols"
   ]
  },
  {
   "cell_type": "code",
   "execution_count": 9,
   "id": "recent-optimization",
   "metadata": {
    "execution": {
     "iopub.execute_input": "2021-03-11T00:11:33.033014Z",
     "iopub.status.busy": "2021-03-11T00:11:33.032239Z",
     "iopub.status.idle": "2021-03-11T00:11:33.318398Z",
     "shell.execute_reply": "2021-03-11T00:11:33.319055Z"
    },
    "papermill": {
     "duration": 0.332513,
     "end_time": "2021-03-11T00:11:33.319261",
     "exception": false,
     "start_time": "2021-03-11T00:11:32.986748",
     "status": "completed"
    },
    "tags": []
   },
   "outputs": [],
   "source": [
    "#hide\n",
    "COL_REGION = 'Country/Region'\n",
    "# Confirmed, Recovered, Deaths\n",
    "df = get_frame('confirmed')\n",
    "# dft_: timeseries, dfc_: today country agg\n",
    "dft_cases = df\n",
    "dft_deaths = get_frame('deaths')\n",
    "dft_recovered = get_frame('recovered')\n",
    "LAST_DATE_I, dt_cols = get_dates(df)"
   ]
  },
  {
   "cell_type": "code",
   "execution_count": 10,
   "id": "absolute-copper",
   "metadata": {
    "execution": {
     "iopub.execute_input": "2021-03-11T00:11:33.412444Z",
     "iopub.status.busy": "2021-03-11T00:11:33.411732Z",
     "iopub.status.idle": "2021-03-11T00:11:33.417065Z",
     "shell.execute_reply": "2021-03-11T00:11:33.417593Z"
    },
    "papermill": {
     "duration": 0.054257,
     "end_time": "2021-03-11T00:11:33.417767",
     "exception": false,
     "start_time": "2021-03-11T00:11:33.363510",
     "status": "completed"
    },
    "tags": []
   },
   "outputs": [],
   "source": [
    "#hide\n",
    "LAST_DATE_I, dt_cols = get_dates(df)\n",
    "dt_today =dt_cols[LAST_DATE_I]\n",
    "# dt_5day = dt_cols[LAST_DATE_I - 5]\n",
    "dt_yday = dt_cols[LAST_DATE_I - 1]"
   ]
  },
  {
   "cell_type": "code",
   "execution_count": 11,
   "id": "restricted-sheriff",
   "metadata": {
    "execution": {
     "iopub.execute_input": "2021-03-11T00:11:33.507990Z",
     "iopub.status.busy": "2021-03-11T00:11:33.507271Z",
     "iopub.status.idle": "2021-03-11T00:11:33.515502Z",
     "shell.execute_reply": "2021-03-11T00:11:33.514872Z"
    },
    "papermill": {
     "duration": 0.059076,
     "end_time": "2021-03-11T00:11:33.515704",
     "exception": false,
     "start_time": "2021-03-11T00:11:33.456628",
     "status": "completed"
    },
    "tags": []
   },
   "outputs": [],
   "source": [
    "#hide\n",
    "dfc_cases = dft_cases.groupby(COL_REGION)[dt_today].sum()\n",
    "dfc_deaths = dft_deaths.groupby(COL_REGION)[dt_today].sum()\n",
    "# dfp_cases = dft_cases.groupby(COL_REGION)[dt_5day].sum()\n",
    "# dfp_deaths = dft_deaths.groupby(COL_REGION)[dt_5day].sum()\n",
    "dfp_cases = dft_cases.groupby(COL_REGION)[dt_yday].sum()\n",
    "dfp_deaths = dft_deaths.groupby(COL_REGION)[dt_yday].sum()"
   ]
  },
  {
   "cell_type": "code",
   "execution_count": 12,
   "id": "deluxe-hepatitis",
   "metadata": {
    "execution": {
     "iopub.execute_input": "2021-03-11T00:11:33.607388Z",
     "iopub.status.busy": "2021-03-11T00:11:33.606654Z",
     "iopub.status.idle": "2021-03-11T00:11:33.613376Z",
     "shell.execute_reply": "2021-03-11T00:11:33.612739Z"
    },
    "papermill": {
     "duration": 0.054094,
     "end_time": "2021-03-11T00:11:33.613592",
     "exception": false,
     "start_time": "2021-03-11T00:11:33.559498",
     "status": "completed"
    },
    "tags": []
   },
   "outputs": [],
   "source": [
    "#hide\n",
    "df_table = (pd.DataFrame(dict(Cases = dfc_cases, Deaths = dfc_deaths, PCases = dfp_cases, PDeaths = dfp_deaths))\n",
    "            .sort_values(by = ['Cases','Deaths'], ascending = [False, False])\n",
    "            .reset_index())"
   ]
  },
  {
   "cell_type": "code",
   "execution_count": 13,
   "id": "educational-chancellor",
   "metadata": {
    "execution": {
     "iopub.execute_input": "2021-03-11T00:11:33.708898Z",
     "iopub.status.busy": "2021-03-11T00:11:33.708205Z",
     "iopub.status.idle": "2021-03-11T00:11:33.727516Z",
     "shell.execute_reply": "2021-03-11T00:11:33.728227Z"
    },
    "papermill": {
     "duration": 0.074668,
     "end_time": "2021-03-11T00:11:33.728455",
     "exception": false,
     "start_time": "2021-03-11T00:11:33.653787",
     "status": "completed"
    },
    "tags": []
   },
   "outputs": [
    {
     "data": {
      "text/html": [
       "<div>\n",
       "<style scoped>\n",
       "    .dataframe tbody tr th:only-of-type {\n",
       "        vertical-align: middle;\n",
       "    }\n",
       "\n",
       "    .dataframe tbody tr th {\n",
       "        vertical-align: top;\n",
       "    }\n",
       "\n",
       "    .dataframe thead th {\n",
       "        text-align: right;\n",
       "    }\n",
       "</style>\n",
       "<table border=\"1\" class=\"dataframe\">\n",
       "  <thead>\n",
       "    <tr style=\"text-align: right;\">\n",
       "      <th></th>\n",
       "      <th>Country/Region</th>\n",
       "      <th>Cases</th>\n",
       "      <th>Deaths</th>\n",
       "      <th>PCases</th>\n",
       "      <th>PDeaths</th>\n",
       "      <th>Cases (+)</th>\n",
       "      <th>Deaths (+)</th>\n",
       "      <th>Fatality Rate</th>\n",
       "      <th>Continent</th>\n",
       "    </tr>\n",
       "  </thead>\n",
       "  <tbody>\n",
       "    <tr>\n",
       "      <th>0</th>\n",
       "      <td>US</td>\n",
       "      <td>29096048</td>\n",
       "      <td>527699</td>\n",
       "      <td>29038631</td>\n",
       "      <td>525752</td>\n",
       "      <td>57417</td>\n",
       "      <td>1947</td>\n",
       "      <td>1.81</td>\n",
       "      <td>North America</td>\n",
       "    </tr>\n",
       "    <tr>\n",
       "      <th>1</th>\n",
       "      <td>India</td>\n",
       "      <td>11262707</td>\n",
       "      <td>158063</td>\n",
       "      <td>11244786</td>\n",
       "      <td>157930</td>\n",
       "      <td>17921</td>\n",
       "      <td>133</td>\n",
       "      <td>1.40</td>\n",
       "      <td>Asia</td>\n",
       "    </tr>\n",
       "    <tr>\n",
       "      <th>2</th>\n",
       "      <td>Brazil</td>\n",
       "      <td>11122429</td>\n",
       "      <td>268370</td>\n",
       "      <td>11051665</td>\n",
       "      <td>266398</td>\n",
       "      <td>70764</td>\n",
       "      <td>1972</td>\n",
       "      <td>2.41</td>\n",
       "      <td>South America</td>\n",
       "    </tr>\n",
       "    <tr>\n",
       "      <th>3</th>\n",
       "      <td>Russia</td>\n",
       "      <td>4293750</td>\n",
       "      <td>88315</td>\n",
       "      <td>4284408</td>\n",
       "      <td>87985</td>\n",
       "      <td>9342</td>\n",
       "      <td>330</td>\n",
       "      <td>2.06</td>\n",
       "      <td>Europe</td>\n",
       "    </tr>\n",
       "    <tr>\n",
       "      <th>4</th>\n",
       "      <td>United Kingdom</td>\n",
       "      <td>4241858</td>\n",
       "      <td>125032</td>\n",
       "      <td>4235989</td>\n",
       "      <td>124801</td>\n",
       "      <td>5869</td>\n",
       "      <td>231</td>\n",
       "      <td>2.95</td>\n",
       "      <td>Europe</td>\n",
       "    </tr>\n",
       "  </tbody>\n",
       "</table>\n",
       "</div>"
      ],
      "text/plain": [
       "   Country/Region     Cases  Deaths    PCases  PDeaths  Cases (+)  Deaths (+)  \\\n",
       "0              US  29096048  527699  29038631   525752      57417        1947   \n",
       "1           India  11262707  158063  11244786   157930      17921         133   \n",
       "2          Brazil  11122429  268370  11051665   266398      70764        1972   \n",
       "3          Russia   4293750   88315   4284408    87985       9342         330   \n",
       "4  United Kingdom   4241858  125032   4235989   124801       5869         231   \n",
       "\n",
       "   Fatality Rate      Continent  \n",
       "0           1.81  North America  \n",
       "1           1.40           Asia  \n",
       "2           2.41  South America  \n",
       "3           2.06         Europe  \n",
       "4           2.95         Europe  "
      ]
     },
     "execution_count": 13,
     "metadata": {},
     "output_type": "execute_result"
    }
   ],
   "source": [
    "#hide\n",
    "for c in 'Cases, Deaths'.split(', '):\n",
    "    df_table[f'{c} (+)'] = (df_table[c] - df_table[f'P{c}']).clip(0)\n",
    "    #Clip ça veut dire, les chiffres negatif sont interdit\n",
    "df_table['Fatality Rate'] = (100* df_table['Deaths']/ df_table['Cases']).round(2)\n",
    "df_table['Continent'] = df_table['Country/Region'].map(mapping['map.continent'])\n",
    "df_table.head(5)"
   ]
  },
  {
   "cell_type": "code",
   "execution_count": 14,
   "id": "aboriginal-bulgaria",
   "metadata": {
    "execution": {
     "iopub.execute_input": "2021-03-11T00:11:33.828874Z",
     "iopub.status.busy": "2021-03-11T00:11:33.828185Z",
     "iopub.status.idle": "2021-03-11T00:11:33.830807Z",
     "shell.execute_reply": "2021-03-11T00:11:33.830116Z"
    },
    "papermill": {
     "duration": 0.053291,
     "end_time": "2021-03-11T00:11:33.830936",
     "exception": false,
     "start_time": "2021-03-11T00:11:33.777645",
     "status": "completed"
    },
    "tags": []
   },
   "outputs": [],
   "source": [
    "#hide\n",
    "#delete problematic countries from table\n",
    "df_table = df_table[~df_table['Country/Region'].isin(['Cape Verde', 'Cruise Ship', 'Kosovo'])]"
   ]
  },
  {
   "cell_type": "code",
   "execution_count": 15,
   "id": "fantastic-effect",
   "metadata": {
    "execution": {
     "iopub.execute_input": "2021-03-11T00:11:33.924729Z",
     "iopub.status.busy": "2021-03-11T00:11:33.923496Z",
     "iopub.status.idle": "2021-03-11T00:11:33.945135Z",
     "shell.execute_reply": "2021-03-11T00:11:33.945768Z"
    },
    "papermill": {
     "duration": 0.071759,
     "end_time": "2021-03-11T00:11:33.945940",
     "exception": false,
     "start_time": "2021-03-11T00:11:33.874181",
     "status": "completed"
    },
    "tags": []
   },
   "outputs": [
    {
     "data": {
      "text/html": [
       "<div>\n",
       "<style scoped>\n",
       "    .dataframe tbody tr th:only-of-type {\n",
       "        vertical-align: middle;\n",
       "    }\n",
       "\n",
       "    .dataframe tbody tr th {\n",
       "        vertical-align: top;\n",
       "    }\n",
       "\n",
       "    .dataframe thead th {\n",
       "        text-align: right;\n",
       "    }\n",
       "</style>\n",
       "<table border=\"1\" class=\"dataframe\">\n",
       "  <thead>\n",
       "    <tr style=\"text-align: right;\">\n",
       "      <th></th>\n",
       "      <th>Country/Region</th>\n",
       "      <th>Cases</th>\n",
       "      <th>Deaths</th>\n",
       "      <th>PCases</th>\n",
       "      <th>PDeaths</th>\n",
       "      <th>Cases (+)</th>\n",
       "      <th>Deaths (+)</th>\n",
       "      <th>Fatality Rate</th>\n",
       "      <th>Continent</th>\n",
       "    </tr>\n",
       "  </thead>\n",
       "  <tbody>\n",
       "    <tr>\n",
       "      <th>0</th>\n",
       "      <td>US</td>\n",
       "      <td>29096048</td>\n",
       "      <td>527699</td>\n",
       "      <td>29038631</td>\n",
       "      <td>525752</td>\n",
       "      <td>57417</td>\n",
       "      <td>1947</td>\n",
       "      <td>1.8</td>\n",
       "      <td>North America</td>\n",
       "    </tr>\n",
       "    <tr>\n",
       "      <th>1</th>\n",
       "      <td>India</td>\n",
       "      <td>11262707</td>\n",
       "      <td>158063</td>\n",
       "      <td>11244786</td>\n",
       "      <td>157930</td>\n",
       "      <td>17921</td>\n",
       "      <td>133</td>\n",
       "      <td>1.4</td>\n",
       "      <td>Asia</td>\n",
       "    </tr>\n",
       "    <tr>\n",
       "      <th>2</th>\n",
       "      <td>Brazil</td>\n",
       "      <td>11122429</td>\n",
       "      <td>268370</td>\n",
       "      <td>11051665</td>\n",
       "      <td>266398</td>\n",
       "      <td>70764</td>\n",
       "      <td>1972</td>\n",
       "      <td>2.4</td>\n",
       "      <td>South America</td>\n",
       "    </tr>\n",
       "    <tr>\n",
       "      <th>3</th>\n",
       "      <td>Russia</td>\n",
       "      <td>4293750</td>\n",
       "      <td>88315</td>\n",
       "      <td>4284408</td>\n",
       "      <td>87985</td>\n",
       "      <td>9342</td>\n",
       "      <td>330</td>\n",
       "      <td>2.1</td>\n",
       "      <td>Europe</td>\n",
       "    </tr>\n",
       "    <tr>\n",
       "      <th>4</th>\n",
       "      <td>United Kingdom</td>\n",
       "      <td>4241858</td>\n",
       "      <td>125032</td>\n",
       "      <td>4235989</td>\n",
       "      <td>124801</td>\n",
       "      <td>5869</td>\n",
       "      <td>231</td>\n",
       "      <td>2.9</td>\n",
       "      <td>Europe</td>\n",
       "    </tr>\n",
       "  </tbody>\n",
       "</table>\n",
       "</div>"
      ],
      "text/plain": [
       "   Country/Region     Cases  Deaths    PCases  PDeaths  Cases (+)  Deaths (+)  \\\n",
       "0              US  29096048  527699  29038631   525752      57417        1947   \n",
       "1           India  11262707  158063  11244786   157930      17921         133   \n",
       "2          Brazil  11122429  268370  11051665   266398      70764        1972   \n",
       "3          Russia   4293750   88315   4284408    87985       9342         330   \n",
       "4  United Kingdom   4241858  125032   4235989   124801       5869         231   \n",
       "\n",
       "   Fatality Rate      Continent  \n",
       "0            1.8  North America  \n",
       "1            1.4           Asia  \n",
       "2            2.4  South America  \n",
       "3            2.1         Europe  \n",
       "4            2.9         Europe  "
      ]
     },
     "execution_count": 15,
     "metadata": {},
     "output_type": "execute_result"
    }
   ],
   "source": [
    "#hide\n",
    "df_table = (pd.DataFrame(dict(Cases=dfc_cases, Deaths=dfc_deaths, PCases=dfp_cases, PDeaths=dfp_deaths))\n",
    "             .sort_values(by=['Cases', 'Deaths'], ascending=[False, False])\n",
    "             .reset_index())\n",
    "df_table.rename(columns={'index': 'Country/Region'}, inplace=True)\n",
    "for c in 'Cases, Deaths'.split(', '):\n",
    "    df_table[f'{c} (+)'] = (df_table[c] - df_table[f'P{c}']).clip(0)  # DATA BUG\n",
    "df_table['Fatality Rate'] = (100 * df_table['Deaths'] / df_table['Cases']).round(1)\n",
    "df_table['Continent'] = df_table['Country/Region'].map(mapping['map.continent'])\n",
    "df_table.head(5)"
   ]
  },
  {
   "cell_type": "code",
   "execution_count": 16,
   "id": "fewer-occasion",
   "metadata": {
    "execution": {
     "iopub.execute_input": "2021-03-11T00:11:34.040179Z",
     "iopub.status.busy": "2021-03-11T00:11:34.039465Z",
     "iopub.status.idle": "2021-03-11T00:11:34.041415Z",
     "shell.execute_reply": "2021-03-11T00:11:34.041971Z"
    },
    "papermill": {
     "duration": 0.053212,
     "end_time": "2021-03-11T00:11:34.042566",
     "exception": false,
     "start_time": "2021-03-11T00:11:33.989354",
     "status": "completed"
    },
    "tags": []
   },
   "outputs": [],
   "source": [
    "#hide\n",
    "#delete problematic countries from table\n",
    "df_table = df_table[~df_table['Country/Region'].isin(['Cape Verde', 'Cruise Ship', 'Kosovo'])]"
   ]
  },
  {
   "cell_type": "code",
   "execution_count": 17,
   "id": "related-center",
   "metadata": {
    "execution": {
     "iopub.execute_input": "2021-03-11T00:11:34.162128Z",
     "iopub.status.busy": "2021-03-11T00:11:34.161427Z",
     "iopub.status.idle": "2021-03-11T00:11:34.163094Z",
     "shell.execute_reply": "2021-03-11T00:11:34.163672Z"
    },
    "papermill": {
     "duration": 0.068028,
     "end_time": "2021-03-11T00:11:34.163840",
     "exception": false,
     "start_time": "2021-03-11T00:11:34.095812",
     "status": "completed"
    },
    "tags": []
   },
   "outputs": [],
   "source": [
    "#hide\n",
    "metrics = [df_table.columns[index] for index in [1,2,5,6]]\n",
    "# s_china = df_table[df_table['Country/Region'].eq('China')][metrics].sum().add_prefix('China ')\n",
    "s_us = df_table[df_table['Country/Region'].eq('US')][metrics].sum().add_prefix('US ')\n",
    "s_eu = df_table[df_table['Continent'].eq('Europe')][metrics].sum().add_prefix('EU ')\n",
    "s_ind = df_table[df_table['Country/Region'].eq('India')][metrics].sum().add_prefix('India ')\n",
    "summary = {'updated': pd.to_datetime(dt_today), 'since': pd.to_datetime(dt_yday)}\n",
    "summary = {'updated': pd.to_datetime(dt_today), 'since': pd.to_datetime(dt_yday)}\n",
    "summary = {**summary, **df_table[metrics].sum(), **s_ind, **s_us, **s_eu}"
   ]
  },
  {
   "cell_type": "code",
   "execution_count": 18,
   "id": "engaging-syndrome",
   "metadata": {
    "execution": {
     "iopub.execute_input": "2021-03-11T00:11:34.253815Z",
     "iopub.status.busy": "2021-03-11T00:11:34.252958Z",
     "iopub.status.idle": "2021-03-11T00:11:34.267036Z",
     "shell.execute_reply": "2021-03-11T00:11:34.267619Z"
    },
    "papermill": {
     "duration": 0.06158,
     "end_time": "2021-03-11T00:11:34.267797",
     "exception": false,
     "start_time": "2021-03-11T00:11:34.206217",
     "status": "completed"
    },
    "tags": []
   },
   "outputs": [],
   "source": [
    "#hide\n",
    "dft_ct_new_cases = dft_cases.groupby(COL_REGION)[dt_cols].sum().diff(axis=1).fillna(0).astype(int)"
   ]
  },
  {
   "cell_type": "code",
   "execution_count": 19,
   "id": "neutral-assignment",
   "metadata": {
    "execution": {
     "iopub.execute_input": "2021-03-11T00:11:34.358758Z",
     "iopub.status.busy": "2021-03-11T00:11:34.358002Z",
     "iopub.status.idle": "2021-03-11T00:11:34.360634Z",
     "shell.execute_reply": "2021-03-11T00:11:34.361296Z"
    },
    "papermill": {
     "duration": 0.05307,
     "end_time": "2021-03-11T00:11:34.361472",
     "exception": false,
     "start_time": "2021-03-11T00:11:34.308402",
     "status": "completed"
    },
    "tags": []
   },
   "outputs": [],
   "source": [
    "#hide\n",
    "everydaycases = dft_ct_new_cases.cumsum(axis=1)"
   ]
  },
  {
   "cell_type": "code",
   "execution_count": 20,
   "id": "parliamentary-calgary",
   "metadata": {
    "execution": {
     "iopub.execute_input": "2021-03-11T00:11:34.454599Z",
     "iopub.status.busy": "2021-03-11T00:11:34.453904Z",
     "iopub.status.idle": "2021-03-11T00:11:35.271735Z",
     "shell.execute_reply": "2021-03-11T00:11:35.271066Z"
    },
    "papermill": {
     "duration": 0.867707,
     "end_time": "2021-03-11T00:11:35.271883",
     "exception": false,
     "start_time": "2021-03-11T00:11:34.404176",
     "status": "completed"
    },
    "tags": []
   },
   "outputs": [],
   "source": [
    "#hide\n",
    "import pandas as pd\n",
    "import matplotlib.pyplot as plt\n",
    "import matplotlib.ticker as ticker\n",
    "import matplotlib.animation as animation\n",
    "from IPython.display import HTML"
   ]
  },
  {
   "cell_type": "code",
   "execution_count": 21,
   "id": "lasting-extraction",
   "metadata": {
    "execution": {
     "iopub.execute_input": "2021-03-11T00:11:35.361774Z",
     "iopub.status.busy": "2021-03-11T00:11:35.361149Z",
     "iopub.status.idle": "2021-03-11T00:11:35.366586Z",
     "shell.execute_reply": "2021-03-11T00:11:35.367212Z"
    },
    "papermill": {
     "duration": 0.054509,
     "end_time": "2021-03-11T00:11:35.367397",
     "exception": false,
     "start_time": "2021-03-11T00:11:35.312888",
     "status": "completed"
    },
    "tags": []
   },
   "outputs": [],
   "source": [
    "#hide\n",
    "t = everydaycases.stack()"
   ]
  },
  {
   "cell_type": "code",
   "execution_count": 22,
   "id": "premier-sleeve",
   "metadata": {
    "execution": {
     "iopub.execute_input": "2021-03-11T00:11:35.455565Z",
     "iopub.status.busy": "2021-03-11T00:11:35.454857Z",
     "iopub.status.idle": "2021-03-11T00:11:35.462733Z",
     "shell.execute_reply": "2021-03-11T00:11:35.463329Z"
    },
    "papermill": {
     "duration": 0.056055,
     "end_time": "2021-03-11T00:11:35.463499",
     "exception": false,
     "start_time": "2021-03-11T00:11:35.407444",
     "status": "completed"
    },
    "tags": []
   },
   "outputs": [],
   "source": [
    "#hide\n",
    "g = t.reset_index(['Country/Region'])"
   ]
  },
  {
   "cell_type": "code",
   "execution_count": 23,
   "id": "distributed-pittsburgh",
   "metadata": {
    "execution": {
     "iopub.execute_input": "2021-03-11T00:11:35.557331Z",
     "iopub.status.busy": "2021-03-11T00:11:35.556653Z",
     "iopub.status.idle": "2021-03-11T00:11:35.559612Z",
     "shell.execute_reply": "2021-03-11T00:11:35.558883Z"
    },
    "papermill": {
     "duration": 0.053042,
     "end_time": "2021-03-11T00:11:35.559739",
     "exception": false,
     "start_time": "2021-03-11T00:11:35.506697",
     "status": "completed"
    },
    "tags": []
   },
   "outputs": [],
   "source": [
    "#hide\n",
    "g.index.name = 'date'"
   ]
  },
  {
   "cell_type": "code",
   "execution_count": 24,
   "id": "naked-donor",
   "metadata": {
    "execution": {
     "iopub.execute_input": "2021-03-11T00:11:35.648280Z",
     "iopub.status.busy": "2021-03-11T00:11:35.647582Z",
     "iopub.status.idle": "2021-03-11T00:11:35.649515Z",
     "shell.execute_reply": "2021-03-11T00:11:35.650119Z"
    },
    "papermill": {
     "duration": 0.048189,
     "end_time": "2021-03-11T00:11:35.650285",
     "exception": false,
     "start_time": "2021-03-11T00:11:35.602096",
     "status": "completed"
    },
    "tags": []
   },
   "outputs": [],
   "source": [
    "# #hide\n",
    "# g = g.reset_index(['date'])"
   ]
  },
  {
   "cell_type": "code",
   "execution_count": 25,
   "id": "incomplete-mustang",
   "metadata": {
    "execution": {
     "iopub.execute_input": "2021-03-11T00:11:35.742775Z",
     "iopub.status.busy": "2021-03-11T00:11:35.742092Z",
     "iopub.status.idle": "2021-03-11T00:11:35.743965Z",
     "shell.execute_reply": "2021-03-11T00:11:35.744596Z"
    },
    "papermill": {
     "duration": 0.048093,
     "end_time": "2021-03-11T00:11:35.744754",
     "exception": false,
     "start_time": "2021-03-11T00:11:35.696661",
     "status": "completed"
    },
    "tags": []
   },
   "outputs": [],
   "source": [
    "#hide\n",
    "# g.head()"
   ]
  },
  {
   "cell_type": "code",
   "execution_count": 26,
   "id": "specific-kruger",
   "metadata": {
    "execution": {
     "iopub.execute_input": "2021-03-11T00:11:35.834319Z",
     "iopub.status.busy": "2021-03-11T00:11:35.833614Z",
     "iopub.status.idle": "2021-03-11T00:11:35.835631Z",
     "shell.execute_reply": "2021-03-11T00:11:35.836211Z"
    },
    "papermill": {
     "duration": 0.04841,
     "end_time": "2021-03-11T00:11:35.836382",
     "exception": false,
     "start_time": "2021-03-11T00:11:35.787972",
     "status": "completed"
    },
    "tags": []
   },
   "outputs": [],
   "source": [
    "#hide\n",
    "# g.columns = ['date','country','cases']"
   ]
  },
  {
   "cell_type": "code",
   "execution_count": 27,
   "id": "tender-conversion",
   "metadata": {
    "execution": {
     "iopub.execute_input": "2021-03-11T00:11:35.923826Z",
     "iopub.status.busy": "2021-03-11T00:11:35.923104Z",
     "iopub.status.idle": "2021-03-11T00:11:35.924932Z",
     "shell.execute_reply": "2021-03-11T00:11:35.925583Z"
    },
    "papermill": {
     "duration": 0.04861,
     "end_time": "2021-03-11T00:11:35.925761",
     "exception": false,
     "start_time": "2021-03-11T00:11:35.877151",
     "status": "completed"
    },
    "tags": []
   },
   "outputs": [],
   "source": [
    "#hide\n",
    "# g['continent'] = g.country"
   ]
  },
  {
   "cell_type": "code",
   "execution_count": 28,
   "id": "substantial-wilderness",
   "metadata": {
    "execution": {
     "iopub.execute_input": "2021-03-11T00:11:36.014651Z",
     "iopub.status.busy": "2021-03-11T00:11:36.013958Z",
     "iopub.status.idle": "2021-03-11T00:11:36.016621Z",
     "shell.execute_reply": "2021-03-11T00:11:36.015960Z"
    },
    "papermill": {
     "duration": 0.049123,
     "end_time": "2021-03-11T00:11:36.016856",
     "exception": false,
     "start_time": "2021-03-11T00:11:35.967733",
     "status": "completed"
    },
    "tags": []
   },
   "outputs": [],
   "source": [
    "#hide\n",
    "# cols = list(g.columns.values)"
   ]
  },
  {
   "cell_type": "code",
   "execution_count": 29,
   "id": "solved-farming",
   "metadata": {
    "execution": {
     "iopub.execute_input": "2021-03-11T00:11:36.105714Z",
     "iopub.status.busy": "2021-03-11T00:11:36.104508Z",
     "iopub.status.idle": "2021-03-11T00:11:36.106499Z",
     "shell.execute_reply": "2021-03-11T00:11:36.107232Z"
    },
    "papermill": {
     "duration": 0.049589,
     "end_time": "2021-03-11T00:11:36.107395",
     "exception": false,
     "start_time": "2021-03-11T00:11:36.057806",
     "status": "completed"
    },
    "tags": []
   },
   "outputs": [],
   "source": [
    "#hide\n",
    "# cols.insert(0, cols.pop())"
   ]
  },
  {
   "cell_type": "code",
   "execution_count": 30,
   "id": "executed-adoption",
   "metadata": {
    "execution": {
     "iopub.execute_input": "2021-03-11T00:11:36.820097Z",
     "iopub.status.busy": "2021-03-11T00:11:36.819362Z",
     "iopub.status.idle": "2021-03-11T00:11:36.823413Z",
     "shell.execute_reply": "2021-03-11T00:11:36.823941Z"
    },
    "papermill": {
     "duration": 0.674362,
     "end_time": "2021-03-11T00:11:36.824100",
     "exception": false,
     "start_time": "2021-03-11T00:11:36.149738",
     "status": "completed"
    },
    "tags": []
   },
   "outputs": [],
   "source": [
    "#hide\n",
    "# g = g[cols]"
   ]
  },
  {
   "cell_type": "code",
   "execution_count": 31,
   "id": "subject-dublin",
   "metadata": {
    "execution": {
     "iopub.execute_input": "2021-03-11T00:11:36.914033Z",
     "iopub.status.busy": "2021-03-11T00:11:36.913349Z",
     "iopub.status.idle": "2021-03-11T00:11:36.915920Z",
     "shell.execute_reply": "2021-03-11T00:11:36.915255Z"
    },
    "papermill": {
     "duration": 0.048462,
     "end_time": "2021-03-11T00:11:36.916056",
     "exception": false,
     "start_time": "2021-03-11T00:11:36.867594",
     "status": "completed"
    },
    "tags": []
   },
   "outputs": [],
   "source": [
    "#hide\n",
    "# g['continent'] = g['continent'].map(mapping['map.continent'])"
   ]
  },
  {
   "cell_type": "code",
   "execution_count": 32,
   "id": "freelance-scout",
   "metadata": {
    "execution": {
     "iopub.execute_input": "2021-03-11T00:11:37.002897Z",
     "iopub.status.busy": "2021-03-11T00:11:37.002229Z",
     "iopub.status.idle": "2021-03-11T00:11:37.004864Z",
     "shell.execute_reply": "2021-03-11T00:11:37.004269Z"
    },
    "papermill": {
     "duration": 0.046932,
     "end_time": "2021-03-11T00:11:37.005013",
     "exception": false,
     "start_time": "2021-03-11T00:11:36.958081",
     "status": "completed"
    },
    "tags": []
   },
   "outputs": [],
   "source": [
    "#hide\n",
    "# g.head()"
   ]
  },
  {
   "cell_type": "code",
   "execution_count": 33,
   "id": "limited-engine",
   "metadata": {
    "execution": {
     "iopub.execute_input": "2021-03-11T00:11:37.094552Z",
     "iopub.status.busy": "2021-03-11T00:11:37.093897Z",
     "iopub.status.idle": "2021-03-11T00:11:37.095837Z",
     "shell.execute_reply": "2021-03-11T00:11:37.096460Z"
    },
    "papermill": {
     "duration": 0.05084,
     "end_time": "2021-03-11T00:11:37.096605",
     "exception": false,
     "start_time": "2021-03-11T00:11:37.045765",
     "status": "completed"
    },
    "tags": []
   },
   "outputs": [],
   "source": [
    "# hide\n",
    "# g['date'] = g['date'].astype('datetime64[ns]')"
   ]
  },
  {
   "cell_type": "code",
   "execution_count": 34,
   "id": "sophisticated-supervisor",
   "metadata": {
    "execution": {
     "iopub.execute_input": "2021-03-11T00:11:37.185629Z",
     "iopub.status.busy": "2021-03-11T00:11:37.184919Z",
     "iopub.status.idle": "2021-03-11T00:11:37.187687Z",
     "shell.execute_reply": "2021-03-11T00:11:37.187112Z"
    },
    "papermill": {
     "duration": 0.051097,
     "end_time": "2021-03-11T00:11:37.187834",
     "exception": false,
     "start_time": "2021-03-11T00:11:37.136737",
     "status": "completed"
    },
    "tags": []
   },
   "outputs": [],
   "source": [
    "#hide\n",
    "# g['date'] = g.date.dt.dayofyear"
   ]
  },
  {
   "cell_type": "code",
   "execution_count": 35,
   "id": "inside-dubai",
   "metadata": {
    "execution": {
     "iopub.execute_input": "2021-03-11T00:11:37.272405Z",
     "iopub.status.busy": "2021-03-11T00:11:37.271728Z",
     "iopub.status.idle": "2021-03-11T00:11:37.274246Z",
     "shell.execute_reply": "2021-03-11T00:11:37.273663Z"
    },
    "papermill": {
     "duration": 0.046499,
     "end_time": "2021-03-11T00:11:37.274383",
     "exception": false,
     "start_time": "2021-03-11T00:11:37.227884",
     "status": "completed"
    },
    "tags": []
   },
   "outputs": [],
   "source": [
    "#hide\n",
    "# g = g.rename(columns= {'continent':'group','country':'name','cases':'value'})"
   ]
  },
  {
   "cell_type": "code",
   "execution_count": 36,
   "id": "fleet-motorcycle",
   "metadata": {
    "execution": {
     "iopub.execute_input": "2021-03-11T00:11:37.364307Z",
     "iopub.status.busy": "2021-03-11T00:11:37.363634Z",
     "iopub.status.idle": "2021-03-11T00:11:37.365587Z",
     "shell.execute_reply": "2021-03-11T00:11:37.366172Z"
    },
    "papermill": {
     "duration": 0.050705,
     "end_time": "2021-03-11T00:11:37.366328",
     "exception": false,
     "start_time": "2021-03-11T00:11:37.315623",
     "status": "completed"
    },
    "tags": []
   },
   "outputs": [],
   "source": [
    "#hide\n",
    "# cols = ['name','group','day','value']"
   ]
  },
  {
   "cell_type": "code",
   "execution_count": 37,
   "id": "continued-sleeping",
   "metadata": {
    "execution": {
     "iopub.execute_input": "2021-03-11T00:11:37.453496Z",
     "iopub.status.busy": "2021-03-11T00:11:37.452799Z",
     "iopub.status.idle": "2021-03-11T00:11:37.454710Z",
     "shell.execute_reply": "2021-03-11T00:11:37.455274Z"
    },
    "papermill": {
     "duration": 0.047955,
     "end_time": "2021-03-11T00:11:37.455439",
     "exception": false,
     "start_time": "2021-03-11T00:11:37.407484",
     "status": "completed"
    },
    "tags": []
   },
   "outputs": [],
   "source": [
    "#hide\n",
    "# g.rename(columns= {'date':'day'},inplace = True)"
   ]
  },
  {
   "cell_type": "code",
   "execution_count": 38,
   "id": "major-fight",
   "metadata": {
    "execution": {
     "iopub.execute_input": "2021-03-11T00:11:37.541953Z",
     "iopub.status.busy": "2021-03-11T00:11:37.541273Z",
     "iopub.status.idle": "2021-03-11T00:11:37.543997Z",
     "shell.execute_reply": "2021-03-11T00:11:37.543401Z"
    },
    "papermill": {
     "duration": 0.047274,
     "end_time": "2021-03-11T00:11:37.544137",
     "exception": false,
     "start_time": "2021-03-11T00:11:37.496863",
     "status": "completed"
    },
    "tags": []
   },
   "outputs": [],
   "source": [
    "#hide\n",
    "# g = g[cols]"
   ]
  },
  {
   "cell_type": "code",
   "execution_count": 39,
   "id": "structured-mobile",
   "metadata": {
    "execution": {
     "iopub.execute_input": "2021-03-11T00:11:37.631652Z",
     "iopub.status.busy": "2021-03-11T00:11:37.630900Z",
     "iopub.status.idle": "2021-03-11T00:11:37.633550Z",
     "shell.execute_reply": "2021-03-11T00:11:37.632935Z"
    },
    "papermill": {
     "duration": 0.048624,
     "end_time": "2021-03-11T00:11:37.633696",
     "exception": false,
     "start_time": "2021-03-11T00:11:37.585072",
     "status": "completed"
    },
    "tags": []
   },
   "outputs": [],
   "source": [
    "# #hide\n",
    "# g = g[g.group.notna()]"
   ]
  },
  {
   "cell_type": "code",
   "execution_count": 40,
   "id": "determined-closing",
   "metadata": {
    "execution": {
     "iopub.execute_input": "2021-03-11T00:11:37.724826Z",
     "iopub.status.busy": "2021-03-11T00:11:37.724088Z",
     "iopub.status.idle": "2021-03-11T00:11:37.726793Z",
     "shell.execute_reply": "2021-03-11T00:11:37.726182Z"
    },
    "papermill": {
     "duration": 0.050922,
     "end_time": "2021-03-11T00:11:37.726956",
     "exception": false,
     "start_time": "2021-03-11T00:11:37.676034",
     "status": "completed"
    },
    "tags": []
   },
   "outputs": [],
   "source": [
    "# #hide\n",
    "# colors = dict(zip(\n",
    "#     [\"Oceania\", \"Europe\", \"Asia\", \"South America\", \"Middle East\", \"North America\", \"Africa\"],\n",
    "#     [\"#adb0ff\", \"#ffb3ff\", \"#90d595\", \"#e48381\", \"#aafbff\", \"#f7bb5f\", \"#eafb50\"]\n",
    "# ))\n",
    "# group_lk = g.set_index('name')['group'].to_dict()"
   ]
  },
  {
   "cell_type": "code",
   "execution_count": null,
   "id": "gross-drinking",
   "metadata": {
    "papermill": {
     "duration": 0.040967,
     "end_time": "2021-03-11T00:11:37.810884",
     "exception": false,
     "start_time": "2021-03-11T00:11:37.769917",
     "status": "completed"
    },
    "tags": []
   },
   "outputs": [],
   "source": []
  },
  {
   "cell_type": "code",
   "execution_count": 41,
   "id": "subject-macintosh",
   "metadata": {
    "execution": {
     "iopub.execute_input": "2021-03-11T00:11:37.899538Z",
     "iopub.status.busy": "2021-03-11T00:11:37.898802Z",
     "iopub.status.idle": "2021-03-11T00:11:37.901449Z",
     "shell.execute_reply": "2021-03-11T00:11:37.900837Z"
    },
    "papermill": {
     "duration": 0.049376,
     "end_time": "2021-03-11T00:11:37.901582",
     "exception": false,
     "start_time": "2021-03-11T00:11:37.852206",
     "status": "completed"
    },
    "tags": []
   },
   "outputs": [],
   "source": [
    "# #hide\n",
    "# fig, ax = plt.subplots(figsize=(15, 8))\n",
    "\n",
    "# def draw_barchart(current_day):\n",
    "#     dff = g[g['day'].eq(current_day)].sort_values(by='value', ascending=True).tail(10)\n",
    "#     ax.clear()\n",
    "#     ax.barh(dff['name'], dff['value'], color=[colors[group_lk[x]] for x in dff['name']])\n",
    "#     dx = dff['value'].max() / 200\n",
    "    \n",
    "#     for i, (value, name) in enumerate(zip(dff['value'], dff['name'])):\n",
    "#         ax.text(value-dx, i,     name,           size=14, weight=600, ha='right', va='bottom')\n",
    "#         ax.text(value-dx, i-.25, group_lk[name], size=10, color='#444444', ha='right', va='baseline')\n",
    "#         ax.text(value+dx, i,     f'{value:,.0f}',  size=14, ha='left',  va='center')\n",
    "#     ax.text(1, 0.4, current_day, transform=ax.transAxes, color='#777777', size=46, ha='right', weight=800)\n",
    "#     ax.text(0, 1.06, 'Population (thousands)', transform=ax.transAxes, size=12, color='#777777')\n",
    "#     ax.xaxis.set_major_formatter(ticker.StrMethodFormatter('{x:,.0f}'))\n",
    "#     ax.xaxis.set_ticks_position('top')\n",
    "#     ax.tick_params(axis='x', colors='#777777', labelsize=12)\n",
    "#     ax.set_yticks([])\n",
    "#     ax.margins(0, 0.01)\n",
    "#     ax.grid(which='major', axis='x', linestyle='-')\n",
    "#     ax.set_axisbelow(True)\n",
    "    \n",
    "#     ax.text(0, 1.15, 'Coronavirus',\n",
    "#             transform=ax.transAxes, size=24, weight=600, ha='left', va='top')\n",
    "# #     ax.text(1, 0, 'by @pratapvardhan; credit @jburnmurdoch', transform=ax.transAxes, color='#777777', ha='right',\n",
    "# #             bbox=dict(facecolor='white', alpha=0.8, edgecolor='white'))\n",
    "#     plt.box(False)"
   ]
  },
  {
   "cell_type": "code",
   "execution_count": 42,
   "id": "sexual-wages",
   "metadata": {
    "execution": {
     "iopub.execute_input": "2021-03-11T00:11:37.997276Z",
     "iopub.status.busy": "2021-03-11T00:11:37.996592Z",
     "iopub.status.idle": "2021-03-11T00:11:37.999283Z",
     "shell.execute_reply": "2021-03-11T00:11:37.998694Z"
    },
    "papermill": {
     "duration": 0.057986,
     "end_time": "2021-03-11T00:11:37.999417",
     "exception": false,
     "start_time": "2021-03-11T00:11:37.941431",
     "status": "completed"
    },
    "tags": []
   },
   "outputs": [],
   "source": [
    "# #hide_input\n",
    "# fig, ax = plt.subplots(figsize=(15, 8))\n",
    "# animator = animation.FuncAnimation(fig, draw_barchart, frames=range(g.day.values.min(), g.day.values.max()))\n",
    "# HTML(animator.to_jshtml())\n",
    "# # or use animator.to_html5_video() or animator.save() "
   ]
  },
  {
   "cell_type": "code",
   "execution_count": null,
   "id": "australian-container",
   "metadata": {
    "papermill": {
     "duration": 0.042492,
     "end_time": "2021-03-11T00:11:38.081365",
     "exception": false,
     "start_time": "2021-03-11T00:11:38.038873",
     "status": "completed"
    },
    "tags": []
   },
   "outputs": [],
   "source": []
  },
  {
   "cell_type": "code",
   "execution_count": null,
   "id": "mediterranean-pontiac",
   "metadata": {
    "papermill": {
     "duration": 0.040784,
     "end_time": "2021-03-11T00:11:38.162527",
     "exception": false,
     "start_time": "2021-03-11T00:11:38.121743",
     "status": "completed"
    },
    "tags": []
   },
   "outputs": [],
   "source": []
  },
  {
   "cell_type": "code",
   "execution_count": null,
   "id": "aging-legislature",
   "metadata": {
    "papermill": {
     "duration": 0.040332,
     "end_time": "2021-03-11T00:11:38.246045",
     "exception": false,
     "start_time": "2021-03-11T00:11:38.205713",
     "status": "completed"
    },
    "tags": []
   },
   "outputs": [],
   "source": []
  }
 ],
 "metadata": {
  "kernelspec": {
   "display_name": "Python 3",
   "language": "python",
   "name": "python3"
  },
  "language_info": {
   "codemirror_mode": {
    "name": "ipython",
    "version": 3
   },
   "file_extension": ".py",
   "mimetype": "text/x-python",
   "name": "python",
   "nbconvert_exporter": "python",
   "pygments_lexer": "ipython3",
   "version": "3.6.13"
  },
  "papermill": {
   "duration": 8.377825,
   "end_time": "2021-03-11T00:11:38.697378",
   "environment_variables": {},
   "exception": null,
   "input_path": "2020-03-21-covid19exp.ipynb",
   "output_path": "2020-03-21-covid19exp.ipynb",
   "parameters": {},
   "start_time": "2021-03-11T00:11:30.319553",
   "version": "2.0.0"
  }
 },
 "nbformat": 4,
 "nbformat_minor": 5
}