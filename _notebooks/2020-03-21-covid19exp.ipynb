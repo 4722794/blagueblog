{
 "cells": [
  {
   "cell_type": "markdown",
   "metadata": {
    "papermill": {
     "duration": 0.02918,
     "end_time": "2021-01-11T12:16:28.873926",
     "exception": false,
     "start_time": "2021-01-11T12:16:28.844746",
     "status": "completed"
    },
    "tags": []
   },
   "source": [
    "# COVID-19 Case Race\n",
    "> A race chart to see rising cases around the world\n",
    "\n",
    "- author: Hargun Oberoi\n",
    "- image: images/covid-overview.png\n",
    "- hide: false\n",
    "- badges: false"
   ]
  },
  {
   "cell_type": "code",
   "execution_count": 1,
   "metadata": {
    "execution": {
     "iopub.execute_input": "2021-01-11T12:16:28.937305Z",
     "iopub.status.busy": "2021-01-11T12:16:28.936746Z",
     "iopub.status.idle": "2021-01-11T12:16:29.229469Z",
     "shell.execute_reply": "2021-01-11T12:16:29.228893Z"
    },
    "papermill": {
     "duration": 0.329323,
     "end_time": "2021-01-11T12:16:29.229624",
     "exception": false,
     "start_time": "2021-01-11T12:16:28.900301",
     "status": "completed"
    },
    "tags": []
   },
   "outputs": [],
   "source": [
    "#hide\n",
    "import numpy as np\n",
    "import pandas as pd\n",
    "from jinja2 import Template\n",
    "from IPython.display import HTML"
   ]
  },
  {
   "cell_type": "code",
   "execution_count": 2,
   "metadata": {
    "execution": {
     "iopub.execute_input": "2021-01-11T12:16:29.287026Z",
     "iopub.status.busy": "2021-01-11T12:16:29.286400Z",
     "iopub.status.idle": "2021-01-11T12:16:29.287899Z",
     "shell.execute_reply": "2021-01-11T12:16:29.288396Z"
    },
    "papermill": {
     "duration": 0.03241,
     "end_time": "2021-01-11T12:16:29.288542",
     "exception": false,
     "start_time": "2021-01-11T12:16:29.256132",
     "status": "completed"
    },
    "tags": []
   },
   "outputs": [],
   "source": [
    "#hide\n",
    "\n",
    "# FETCH\n",
    "base_url = 'https://raw.githubusercontent.com/pratapvardhan/notebooks/master/covid19/'\n",
    "paths = {\n",
    "    'mapping': base_url + 'mapping_countries.csv',\n",
    "    'overview': base_url + 'overview.tpl'\n",
    "}"
   ]
  },
  {
   "cell_type": "code",
   "execution_count": 3,
   "metadata": {
    "execution": {
     "iopub.execute_input": "2021-01-11T12:16:29.350475Z",
     "iopub.status.busy": "2021-01-11T12:16:29.349966Z",
     "iopub.status.idle": "2021-01-11T12:16:29.352209Z",
     "shell.execute_reply": "2021-01-11T12:16:29.352591Z"
    },
    "papermill": {
     "duration": 0.037551,
     "end_time": "2021-01-11T12:16:29.352719",
     "exception": false,
     "start_time": "2021-01-11T12:16:29.315168",
     "status": "completed"
    },
    "tags": []
   },
   "outputs": [
    {
     "data": {
      "text/plain": [
       "'https://raw.githubusercontent.com/pratapvardhan/notebooks/master/covid19/mapping_countries.csv'"
      ]
     },
     "execution_count": 3,
     "metadata": {},
     "output_type": "execute_result"
    }
   ],
   "source": [
    "#hide\n",
    "paths['mapping']"
   ]
  },
  {
   "cell_type": "code",
   "execution_count": 4,
   "metadata": {
    "execution": {
     "iopub.execute_input": "2021-01-11T12:16:29.411169Z",
     "iopub.status.busy": "2021-01-11T12:16:29.410580Z",
     "iopub.status.idle": "2021-01-11T12:16:29.412530Z",
     "shell.execute_reply": "2021-01-11T12:16:29.412990Z"
    },
    "papermill": {
     "duration": 0.033978,
     "end_time": "2021-01-11T12:16:29.413135",
     "exception": false,
     "start_time": "2021-01-11T12:16:29.379157",
     "status": "completed"
    },
    "tags": []
   },
   "outputs": [],
   "source": [
    "#hide\n",
    "def get_mappings(url):\n",
    "    df = pd.read_csv(url)\n",
    "    return {\n",
    "        'df': df,\n",
    "        'replace.country': dict(df.dropna(subset=['Name']).set_index('Country')['Name']),\n",
    "        'map.continent': dict(df.set_index('Name')['Continent'])\n",
    "    }"
   ]
  },
  {
   "cell_type": "code",
   "execution_count": 5,
   "metadata": {
    "execution": {
     "iopub.execute_input": "2021-01-11T12:16:29.470398Z",
     "iopub.status.busy": "2021-01-11T12:16:29.469894Z",
     "iopub.status.idle": "2021-01-11T12:16:29.495356Z",
     "shell.execute_reply": "2021-01-11T12:16:29.494855Z"
    },
    "papermill": {
     "duration": 0.055985,
     "end_time": "2021-01-11T12:16:29.495479",
     "exception": false,
     "start_time": "2021-01-11T12:16:29.439494",
     "status": "completed"
    },
    "tags": []
   },
   "outputs": [],
   "source": [
    "#hide\n",
    "mapping = get_mappings(paths['mapping'])"
   ]
  },
  {
   "cell_type": "code",
   "execution_count": 6,
   "metadata": {
    "execution": {
     "iopub.execute_input": "2021-01-11T12:16:29.553417Z",
     "iopub.status.busy": "2021-01-11T12:16:29.552878Z",
     "iopub.status.idle": "2021-01-11T12:16:29.554614Z",
     "shell.execute_reply": "2021-01-11T12:16:29.555018Z"
    },
    "papermill": {
     "duration": 0.033067,
     "end_time": "2021-01-11T12:16:29.555147",
     "exception": false,
     "start_time": "2021-01-11T12:16:29.522080",
     "status": "completed"
    },
    "tags": []
   },
   "outputs": [],
   "source": [
    "#hide\n",
    "def get_template(path):\n",
    "    from urllib.parse import urlparse\n",
    "    if bool(urlparse(path).netloc):\n",
    "        from urllib.request import urlopen\n",
    "        return urlopen(path).read().decode('utf8')\n",
    "    return open(path).read()"
   ]
  },
  {
   "cell_type": "code",
   "execution_count": 7,
   "metadata": {
    "execution": {
     "iopub.execute_input": "2021-01-11T12:16:29.611767Z",
     "iopub.status.busy": "2021-01-11T12:16:29.611255Z",
     "iopub.status.idle": "2021-01-11T12:16:29.613213Z",
     "shell.execute_reply": "2021-01-11T12:16:29.613686Z"
    },
    "papermill": {
     "duration": 0.032577,
     "end_time": "2021-01-11T12:16:29.613809",
     "exception": false,
     "start_time": "2021-01-11T12:16:29.581232",
     "status": "completed"
    },
    "tags": []
   },
   "outputs": [],
   "source": [
    "#hide\n",
    "def get_frame(name):\n",
    "    url = (\n",
    "        'https://raw.githubusercontent.com/CSSEGISandData/COVID-19/master/csse_covid_19_data/'\n",
    "        f'csse_covid_19_time_series/time_series_covid19_{name}_global.csv')\n",
    "    df = pd.read_csv(url)\n",
    "    # rename countries\n",
    "    df['Country/Region'] = df['Country/Region'].replace(mapping['replace.country'])\n",
    "    return df"
   ]
  },
  {
   "cell_type": "code",
   "execution_count": 8,
   "metadata": {
    "execution": {
     "iopub.execute_input": "2021-01-11T12:16:29.671892Z",
     "iopub.status.busy": "2021-01-11T12:16:29.671378Z",
     "iopub.status.idle": "2021-01-11T12:16:29.673489Z",
     "shell.execute_reply": "2021-01-11T12:16:29.673081Z"
    },
    "papermill": {
     "duration": 0.033565,
     "end_time": "2021-01-11T12:16:29.673600",
     "exception": false,
     "start_time": "2021-01-11T12:16:29.640035",
     "status": "completed"
    },
    "tags": []
   },
   "outputs": [],
   "source": [
    "#hide\n",
    "def get_dates(df):\n",
    "    dt_cols = df.columns[~df.columns.isin(['Province/State', 'Country/Region', 'Lat', 'Long'])]\n",
    "    LAST_DATE_I = -1\n",
    "    # sometimes last column may be empty, then go backwards\n",
    "    for i in range(-1, -len(dt_cols), -1):\n",
    "        if not df[dt_cols[i]].fillna(0).eq(0).all():\n",
    "            LAST_DATE_I = i\n",
    "            break\n",
    "    return LAST_DATE_I, dt_cols"
   ]
  },
  {
   "cell_type": "code",
   "execution_count": 9,
   "metadata": {
    "execution": {
     "iopub.execute_input": "2021-01-11T12:16:29.729667Z",
     "iopub.status.busy": "2021-01-11T12:16:29.729152Z",
     "iopub.status.idle": "2021-01-11T12:16:29.930291Z",
     "shell.execute_reply": "2021-01-11T12:16:29.929331Z"
    },
    "papermill": {
     "duration": 0.230836,
     "end_time": "2021-01-11T12:16:29.930417",
     "exception": false,
     "start_time": "2021-01-11T12:16:29.699581",
     "status": "completed"
    },
    "tags": []
   },
   "outputs": [],
   "source": [
    "#hide\n",
    "COL_REGION = 'Country/Region'\n",
    "# Confirmed, Recovered, Deaths\n",
    "df = get_frame('confirmed')\n",
    "# dft_: timeseries, dfc_: today country agg\n",
    "dft_cases = df\n",
    "dft_deaths = get_frame('deaths')\n",
    "dft_recovered = get_frame('recovered')\n",
    "LAST_DATE_I, dt_cols = get_dates(df)"
   ]
  },
  {
   "cell_type": "code",
   "execution_count": 10,
   "metadata": {
    "execution": {
     "iopub.execute_input": "2021-01-11T12:16:29.987754Z",
     "iopub.status.busy": "2021-01-11T12:16:29.987166Z",
     "iopub.status.idle": "2021-01-11T12:16:29.989289Z",
     "shell.execute_reply": "2021-01-11T12:16:29.988779Z"
    },
    "papermill": {
     "duration": 0.032558,
     "end_time": "2021-01-11T12:16:29.989416",
     "exception": false,
     "start_time": "2021-01-11T12:16:29.956858",
     "status": "completed"
    },
    "tags": []
   },
   "outputs": [],
   "source": [
    "#hide\n",
    "LAST_DATE_I, dt_cols = get_dates(df)\n",
    "dt_today =dt_cols[LAST_DATE_I]\n",
    "# dt_5day = dt_cols[LAST_DATE_I - 5]\n",
    "dt_yday = dt_cols[LAST_DATE_I - 1]"
   ]
  },
  {
   "cell_type": "code",
   "execution_count": 11,
   "metadata": {
    "execution": {
     "iopub.execute_input": "2021-01-11T12:16:30.049594Z",
     "iopub.status.busy": "2021-01-11T12:16:30.049049Z",
     "iopub.status.idle": "2021-01-11T12:16:30.054459Z",
     "shell.execute_reply": "2021-01-11T12:16:30.054879Z"
    },
    "papermill": {
     "duration": 0.0388,
     "end_time": "2021-01-11T12:16:30.055016",
     "exception": false,
     "start_time": "2021-01-11T12:16:30.016216",
     "status": "completed"
    },
    "tags": []
   },
   "outputs": [],
   "source": [
    "#hide\n",
    "dfc_cases = dft_cases.groupby(COL_REGION)[dt_today].sum()\n",
    "dfc_deaths = dft_deaths.groupby(COL_REGION)[dt_today].sum()\n",
    "# dfp_cases = dft_cases.groupby(COL_REGION)[dt_5day].sum()\n",
    "# dfp_deaths = dft_deaths.groupby(COL_REGION)[dt_5day].sum()\n",
    "dfp_cases = dft_cases.groupby(COL_REGION)[dt_yday].sum()\n",
    "dfp_deaths = dft_deaths.groupby(COL_REGION)[dt_yday].sum()"
   ]
  },
  {
   "cell_type": "code",
   "execution_count": 12,
   "metadata": {
    "execution": {
     "iopub.execute_input": "2021-01-11T12:16:30.114747Z",
     "iopub.status.busy": "2021-01-11T12:16:30.114156Z",
     "iopub.status.idle": "2021-01-11T12:16:30.118338Z",
     "shell.execute_reply": "2021-01-11T12:16:30.117928Z"
    },
    "papermill": {
     "duration": 0.036271,
     "end_time": "2021-01-11T12:16:30.118450",
     "exception": false,
     "start_time": "2021-01-11T12:16:30.082179",
     "status": "completed"
    },
    "tags": []
   },
   "outputs": [],
   "source": [
    "#hide\n",
    "df_table = (pd.DataFrame(dict(Cases = dfc_cases, Deaths = dfc_deaths, PCases = dfp_cases, PDeaths = dfp_deaths))\n",
    "            .sort_values(by = ['Cases','Deaths'], ascending = [False, False])\n",
    "            .reset_index())"
   ]
  },
  {
   "cell_type": "code",
   "execution_count": 13,
   "metadata": {
    "execution": {
     "iopub.execute_input": "2021-01-11T12:16:30.187521Z",
     "iopub.status.busy": "2021-01-11T12:16:30.186993Z",
     "iopub.status.idle": "2021-01-11T12:16:30.193775Z",
     "shell.execute_reply": "2021-01-11T12:16:30.193365Z"
    },
    "papermill": {
     "duration": 0.049328,
     "end_time": "2021-01-11T12:16:30.193890",
     "exception": false,
     "start_time": "2021-01-11T12:16:30.144562",
     "status": "completed"
    },
    "tags": []
   },
   "outputs": [
    {
     "data": {
      "text/html": [
       "<div>\n",
       "<style scoped>\n",
       "    .dataframe tbody tr th:only-of-type {\n",
       "        vertical-align: middle;\n",
       "    }\n",
       "\n",
       "    .dataframe tbody tr th {\n",
       "        vertical-align: top;\n",
       "    }\n",
       "\n",
       "    .dataframe thead th {\n",
       "        text-align: right;\n",
       "    }\n",
       "</style>\n",
       "<table border=\"1\" class=\"dataframe\">\n",
       "  <thead>\n",
       "    <tr style=\"text-align: right;\">\n",
       "      <th></th>\n",
       "      <th>Country/Region</th>\n",
       "      <th>Cases</th>\n",
       "      <th>Deaths</th>\n",
       "      <th>PCases</th>\n",
       "      <th>PDeaths</th>\n",
       "      <th>Cases (+)</th>\n",
       "      <th>Deaths (+)</th>\n",
       "      <th>Fatality Rate</th>\n",
       "      <th>Continent</th>\n",
       "    </tr>\n",
       "  </thead>\n",
       "  <tbody>\n",
       "    <tr>\n",
       "      <th>0</th>\n",
       "      <td>US</td>\n",
       "      <td>22409132</td>\n",
       "      <td>374329</td>\n",
       "      <td>22192842</td>\n",
       "      <td>372508</td>\n",
       "      <td>216290</td>\n",
       "      <td>1821</td>\n",
       "      <td>1.67</td>\n",
       "      <td>North America</td>\n",
       "    </tr>\n",
       "    <tr>\n",
       "      <th>1</th>\n",
       "      <td>India</td>\n",
       "      <td>10466595</td>\n",
       "      <td>151160</td>\n",
       "      <td>10450284</td>\n",
       "      <td>150999</td>\n",
       "      <td>16311</td>\n",
       "      <td>161</td>\n",
       "      <td>1.44</td>\n",
       "      <td>Asia</td>\n",
       "    </tr>\n",
       "    <tr>\n",
       "      <th>2</th>\n",
       "      <td>Brazil</td>\n",
       "      <td>8105790</td>\n",
       "      <td>203100</td>\n",
       "      <td>8075998</td>\n",
       "      <td>202631</td>\n",
       "      <td>29792</td>\n",
       "      <td>469</td>\n",
       "      <td>2.51</td>\n",
       "      <td>South America</td>\n",
       "    </tr>\n",
       "    <tr>\n",
       "      <th>3</th>\n",
       "      <td>Russia</td>\n",
       "      <td>3366715</td>\n",
       "      <td>60963</td>\n",
       "      <td>3344175</td>\n",
       "      <td>60523</td>\n",
       "      <td>22540</td>\n",
       "      <td>440</td>\n",
       "      <td>1.81</td>\n",
       "      <td>Europe</td>\n",
       "    </tr>\n",
       "    <tr>\n",
       "      <th>4</th>\n",
       "      <td>United Kingdom</td>\n",
       "      <td>3081368</td>\n",
       "      <td>81567</td>\n",
       "      <td>3026342</td>\n",
       "      <td>81000</td>\n",
       "      <td>55026</td>\n",
       "      <td>567</td>\n",
       "      <td>2.65</td>\n",
       "      <td>Europe</td>\n",
       "    </tr>\n",
       "  </tbody>\n",
       "</table>\n",
       "</div>"
      ],
      "text/plain": [
       "   Country/Region     Cases  Deaths    PCases  PDeaths  Cases (+)  Deaths (+)  \\\n",
       "0              US  22409132  374329  22192842   372508     216290        1821   \n",
       "1           India  10466595  151160  10450284   150999      16311         161   \n",
       "2          Brazil   8105790  203100   8075998   202631      29792         469   \n",
       "3          Russia   3366715   60963   3344175    60523      22540         440   \n",
       "4  United Kingdom   3081368   81567   3026342    81000      55026         567   \n",
       "\n",
       "   Fatality Rate      Continent  \n",
       "0           1.67  North America  \n",
       "1           1.44           Asia  \n",
       "2           2.51  South America  \n",
       "3           1.81         Europe  \n",
       "4           2.65         Europe  "
      ]
     },
     "execution_count": 13,
     "metadata": {},
     "output_type": "execute_result"
    }
   ],
   "source": [
    "#hide\n",
    "for c in 'Cases, Deaths'.split(', '):\n",
    "    df_table[f'{c} (+)'] = (df_table[c] - df_table[f'P{c}']).clip(0)\n",
    "    #Clip ça veut dire, les chiffres negatif sont interdit\n",
    "df_table['Fatality Rate'] = (100* df_table['Deaths']/ df_table['Cases']).round(2)\n",
    "df_table['Continent'] = df_table['Country/Region'].map(mapping['map.continent'])\n",
    "df_table.head(5)"
   ]
  },
  {
   "cell_type": "code",
   "execution_count": 14,
   "metadata": {
    "execution": {
     "iopub.execute_input": "2021-01-11T12:16:30.251653Z",
     "iopub.status.busy": "2021-01-11T12:16:30.251151Z",
     "iopub.status.idle": "2021-01-11T12:16:30.254076Z",
     "shell.execute_reply": "2021-01-11T12:16:30.253649Z"
    },
    "papermill": {
     "duration": 0.033594,
     "end_time": "2021-01-11T12:16:30.254186",
     "exception": false,
     "start_time": "2021-01-11T12:16:30.220592",
     "status": "completed"
    },
    "tags": []
   },
   "outputs": [],
   "source": [
    "#hide\n",
    "#delete problematic countries from table\n",
    "df_table = df_table[~df_table['Country/Region'].isin(['Cape Verde', 'Cruise Ship', 'Kosovo'])]"
   ]
  },
  {
   "cell_type": "code",
   "execution_count": 15,
   "metadata": {
    "execution": {
     "iopub.execute_input": "2021-01-11T12:16:30.314274Z",
     "iopub.status.busy": "2021-01-11T12:16:30.313766Z",
     "iopub.status.idle": "2021-01-11T12:16:30.329555Z",
     "shell.execute_reply": "2021-01-11T12:16:30.329940Z"
    },
    "papermill": {
     "duration": 0.049534,
     "end_time": "2021-01-11T12:16:30.330066",
     "exception": false,
     "start_time": "2021-01-11T12:16:30.280532",
     "status": "completed"
    },
    "tags": []
   },
   "outputs": [
    {
     "data": {
      "text/html": [
       "<div>\n",
       "<style scoped>\n",
       "    .dataframe tbody tr th:only-of-type {\n",
       "        vertical-align: middle;\n",
       "    }\n",
       "\n",
       "    .dataframe tbody tr th {\n",
       "        vertical-align: top;\n",
       "    }\n",
       "\n",
       "    .dataframe thead th {\n",
       "        text-align: right;\n",
       "    }\n",
       "</style>\n",
       "<table border=\"1\" class=\"dataframe\">\n",
       "  <thead>\n",
       "    <tr style=\"text-align: right;\">\n",
       "      <th></th>\n",
       "      <th>Country/Region</th>\n",
       "      <th>Cases</th>\n",
       "      <th>Deaths</th>\n",
       "      <th>PCases</th>\n",
       "      <th>PDeaths</th>\n",
       "      <th>Cases (+)</th>\n",
       "      <th>Deaths (+)</th>\n",
       "      <th>Fatality Rate</th>\n",
       "      <th>Continent</th>\n",
       "    </tr>\n",
       "  </thead>\n",
       "  <tbody>\n",
       "    <tr>\n",
       "      <th>0</th>\n",
       "      <td>US</td>\n",
       "      <td>22409132</td>\n",
       "      <td>374329</td>\n",
       "      <td>22192842</td>\n",
       "      <td>372508</td>\n",
       "      <td>216290</td>\n",
       "      <td>1821</td>\n",
       "      <td>1.7</td>\n",
       "      <td>North America</td>\n",
       "    </tr>\n",
       "    <tr>\n",
       "      <th>1</th>\n",
       "      <td>India</td>\n",
       "      <td>10466595</td>\n",
       "      <td>151160</td>\n",
       "      <td>10450284</td>\n",
       "      <td>150999</td>\n",
       "      <td>16311</td>\n",
       "      <td>161</td>\n",
       "      <td>1.4</td>\n",
       "      <td>Asia</td>\n",
       "    </tr>\n",
       "    <tr>\n",
       "      <th>2</th>\n",
       "      <td>Brazil</td>\n",
       "      <td>8105790</td>\n",
       "      <td>203100</td>\n",
       "      <td>8075998</td>\n",
       "      <td>202631</td>\n",
       "      <td>29792</td>\n",
       "      <td>469</td>\n",
       "      <td>2.5</td>\n",
       "      <td>South America</td>\n",
       "    </tr>\n",
       "    <tr>\n",
       "      <th>3</th>\n",
       "      <td>Russia</td>\n",
       "      <td>3366715</td>\n",
       "      <td>60963</td>\n",
       "      <td>3344175</td>\n",
       "      <td>60523</td>\n",
       "      <td>22540</td>\n",
       "      <td>440</td>\n",
       "      <td>1.8</td>\n",
       "      <td>Europe</td>\n",
       "    </tr>\n",
       "    <tr>\n",
       "      <th>4</th>\n",
       "      <td>United Kingdom</td>\n",
       "      <td>3081368</td>\n",
       "      <td>81567</td>\n",
       "      <td>3026342</td>\n",
       "      <td>81000</td>\n",
       "      <td>55026</td>\n",
       "      <td>567</td>\n",
       "      <td>2.6</td>\n",
       "      <td>Europe</td>\n",
       "    </tr>\n",
       "  </tbody>\n",
       "</table>\n",
       "</div>"
      ],
      "text/plain": [
       "   Country/Region     Cases  Deaths    PCases  PDeaths  Cases (+)  Deaths (+)  \\\n",
       "0              US  22409132  374329  22192842   372508     216290        1821   \n",
       "1           India  10466595  151160  10450284   150999      16311         161   \n",
       "2          Brazil   8105790  203100   8075998   202631      29792         469   \n",
       "3          Russia   3366715   60963   3344175    60523      22540         440   \n",
       "4  United Kingdom   3081368   81567   3026342    81000      55026         567   \n",
       "\n",
       "   Fatality Rate      Continent  \n",
       "0            1.7  North America  \n",
       "1            1.4           Asia  \n",
       "2            2.5  South America  \n",
       "3            1.8         Europe  \n",
       "4            2.6         Europe  "
      ]
     },
     "execution_count": 15,
     "metadata": {},
     "output_type": "execute_result"
    }
   ],
   "source": [
    "#hide\n",
    "df_table = (pd.DataFrame(dict(Cases=dfc_cases, Deaths=dfc_deaths, PCases=dfp_cases, PDeaths=dfp_deaths))\n",
    "             .sort_values(by=['Cases', 'Deaths'], ascending=[False, False])\n",
    "             .reset_index())\n",
    "df_table.rename(columns={'index': 'Country/Region'}, inplace=True)\n",
    "for c in 'Cases, Deaths'.split(', '):\n",
    "    df_table[f'{c} (+)'] = (df_table[c] - df_table[f'P{c}']).clip(0)  # DATA BUG\n",
    "df_table['Fatality Rate'] = (100 * df_table['Deaths'] / df_table['Cases']).round(1)\n",
    "df_table['Continent'] = df_table['Country/Region'].map(mapping['map.continent'])\n",
    "df_table.head(5)"
   ]
  },
  {
   "cell_type": "code",
   "execution_count": 16,
   "metadata": {
    "execution": {
     "iopub.execute_input": "2021-01-11T12:16:30.389316Z",
     "iopub.status.busy": "2021-01-11T12:16:30.388773Z",
     "iopub.status.idle": "2021-01-11T12:16:30.390790Z",
     "shell.execute_reply": "2021-01-11T12:16:30.391173Z"
    },
    "papermill": {
     "duration": 0.034223,
     "end_time": "2021-01-11T12:16:30.391298",
     "exception": false,
     "start_time": "2021-01-11T12:16:30.357075",
     "status": "completed"
    },
    "tags": []
   },
   "outputs": [],
   "source": [
    "#hide\n",
    "#delete problematic countries from table\n",
    "df_table = df_table[~df_table['Country/Region'].isin(['Cape Verde', 'Cruise Ship', 'Kosovo'])]"
   ]
  },
  {
   "cell_type": "code",
   "execution_count": 17,
   "metadata": {
    "execution": {
     "iopub.execute_input": "2021-01-11T12:16:30.452453Z",
     "iopub.status.busy": "2021-01-11T12:16:30.451949Z",
     "iopub.status.idle": "2021-01-11T12:16:30.463248Z",
     "shell.execute_reply": "2021-01-11T12:16:30.462842Z"
    },
    "papermill": {
     "duration": 0.045367,
     "end_time": "2021-01-11T12:16:30.463359",
     "exception": false,
     "start_time": "2021-01-11T12:16:30.417992",
     "status": "completed"
    },
    "tags": []
   },
   "outputs": [],
   "source": [
    "#hide\n",
    "metrics = [df_table.columns[index] for index in [1,2,5,6]]\n",
    "# s_china = df_table[df_table['Country/Region'].eq('China')][metrics].sum().add_prefix('China ')\n",
    "s_us = df_table[df_table['Country/Region'].eq('US')][metrics].sum().add_prefix('US ')\n",
    "s_eu = df_table[df_table['Continent'].eq('Europe')][metrics].sum().add_prefix('EU ')\n",
    "s_ind = df_table[df_table['Country/Region'].eq('India')][metrics].sum().add_prefix('India ')\n",
    "summary = {'updated': pd.to_datetime(dt_today), 'since': pd.to_datetime(dt_yday)}\n",
    "summary = {'updated': pd.to_datetime(dt_today), 'since': pd.to_datetime(dt_yday)}\n",
    "summary = {**summary, **df_table[metrics].sum(), **s_ind, **s_us, **s_eu}"
   ]
  },
  {
   "cell_type": "code",
   "execution_count": 18,
   "metadata": {
    "execution": {
     "iopub.execute_input": "2021-01-11T12:16:30.521996Z",
     "iopub.status.busy": "2021-01-11T12:16:30.521491Z",
     "iopub.status.idle": "2021-01-11T12:16:30.531462Z",
     "shell.execute_reply": "2021-01-11T12:16:30.531056Z"
    },
    "papermill": {
     "duration": 0.041163,
     "end_time": "2021-01-11T12:16:30.531573",
     "exception": false,
     "start_time": "2021-01-11T12:16:30.490410",
     "status": "completed"
    },
    "tags": []
   },
   "outputs": [],
   "source": [
    "#hide\n",
    "dft_ct_new_cases = dft_cases.groupby(COL_REGION)[dt_cols].sum().diff(axis=1).fillna(0).astype(int)"
   ]
  },
  {
   "cell_type": "code",
   "execution_count": 19,
   "metadata": {
    "execution": {
     "iopub.execute_input": "2021-01-11T12:16:30.589454Z",
     "iopub.status.busy": "2021-01-11T12:16:30.588944Z",
     "iopub.status.idle": "2021-01-11T12:16:30.591408Z",
     "shell.execute_reply": "2021-01-11T12:16:30.591838Z"
    },
    "papermill": {
     "duration": 0.03357,
     "end_time": "2021-01-11T12:16:30.591956",
     "exception": false,
     "start_time": "2021-01-11T12:16:30.558386",
     "status": "completed"
    },
    "tags": []
   },
   "outputs": [],
   "source": [
    "#hide\n",
    "everydaycases = dft_ct_new_cases.cumsum(axis=1)"
   ]
  },
  {
   "cell_type": "code",
   "execution_count": 20,
   "metadata": {
    "execution": {
     "iopub.execute_input": "2021-01-11T12:16:30.649383Z",
     "iopub.status.busy": "2021-01-11T12:16:30.648853Z",
     "iopub.status.idle": "2021-01-11T12:16:31.510097Z",
     "shell.execute_reply": "2021-01-11T12:16:31.509640Z"
    },
    "papermill": {
     "duration": 0.891461,
     "end_time": "2021-01-11T12:16:31.510224",
     "exception": false,
     "start_time": "2021-01-11T12:16:30.618763",
     "status": "completed"
    },
    "tags": []
   },
   "outputs": [],
   "source": [
    "#hide\n",
    "import pandas as pd\n",
    "import matplotlib.pyplot as plt\n",
    "import matplotlib.ticker as ticker\n",
    "import matplotlib.animation as animation\n",
    "from IPython.display import HTML"
   ]
  },
  {
   "cell_type": "code",
   "execution_count": 21,
   "metadata": {
    "execution": {
     "iopub.execute_input": "2021-01-11T12:16:31.568993Z",
     "iopub.status.busy": "2021-01-11T12:16:31.568465Z",
     "iopub.status.idle": "2021-01-11T12:16:31.573078Z",
     "shell.execute_reply": "2021-01-11T12:16:31.572644Z"
    },
    "papermill": {
     "duration": 0.035981,
     "end_time": "2021-01-11T12:16:31.573194",
     "exception": false,
     "start_time": "2021-01-11T12:16:31.537213",
     "status": "completed"
    },
    "tags": []
   },
   "outputs": [],
   "source": [
    "#hide\n",
    "t = everydaycases.stack()"
   ]
  },
  {
   "cell_type": "code",
   "execution_count": 22,
   "metadata": {
    "execution": {
     "iopub.execute_input": "2021-01-11T12:16:31.630820Z",
     "iopub.status.busy": "2021-01-11T12:16:31.630320Z",
     "iopub.status.idle": "2021-01-11T12:16:31.635959Z",
     "shell.execute_reply": "2021-01-11T12:16:31.636339Z"
    },
    "papermill": {
     "duration": 0.036308,
     "end_time": "2021-01-11T12:16:31.636464",
     "exception": false,
     "start_time": "2021-01-11T12:16:31.600156",
     "status": "completed"
    },
    "tags": []
   },
   "outputs": [],
   "source": [
    "#hide\n",
    "g = t.reset_index(['Country/Region'])"
   ]
  },
  {
   "cell_type": "code",
   "execution_count": 23,
   "metadata": {
    "execution": {
     "iopub.execute_input": "2021-01-11T12:16:31.693368Z",
     "iopub.status.busy": "2021-01-11T12:16:31.692830Z",
     "iopub.status.idle": "2021-01-11T12:16:31.694915Z",
     "shell.execute_reply": "2021-01-11T12:16:31.694492Z"
    },
    "papermill": {
     "duration": 0.031878,
     "end_time": "2021-01-11T12:16:31.695017",
     "exception": false,
     "start_time": "2021-01-11T12:16:31.663139",
     "status": "completed"
    },
    "tags": []
   },
   "outputs": [],
   "source": [
    "#hide\n",
    "g.index.name = 'date'"
   ]
  },
  {
   "cell_type": "code",
   "execution_count": 24,
   "metadata": {
    "execution": {
     "iopub.execute_input": "2021-01-11T12:16:31.751912Z",
     "iopub.status.busy": "2021-01-11T12:16:31.751412Z",
     "iopub.status.idle": "2021-01-11T12:16:31.753211Z",
     "shell.execute_reply": "2021-01-11T12:16:31.753681Z"
    },
    "papermill": {
     "duration": 0.031904,
     "end_time": "2021-01-11T12:16:31.753796",
     "exception": false,
     "start_time": "2021-01-11T12:16:31.721892",
     "status": "completed"
    },
    "tags": []
   },
   "outputs": [],
   "source": [
    "# #hide\n",
    "# g = g.reset_index(['date'])"
   ]
  },
  {
   "cell_type": "code",
   "execution_count": 25,
   "metadata": {
    "execution": {
     "iopub.execute_input": "2021-01-11T12:16:31.810571Z",
     "iopub.status.busy": "2021-01-11T12:16:31.810067Z",
     "iopub.status.idle": "2021-01-11T12:16:31.811843Z",
     "shell.execute_reply": "2021-01-11T12:16:31.812323Z"
    },
    "papermill": {
     "duration": 0.031935,
     "end_time": "2021-01-11T12:16:31.812439",
     "exception": false,
     "start_time": "2021-01-11T12:16:31.780504",
     "status": "completed"
    },
    "tags": []
   },
   "outputs": [],
   "source": [
    "#hide\n",
    "# g.head()"
   ]
  },
  {
   "cell_type": "code",
   "execution_count": 26,
   "metadata": {
    "execution": {
     "iopub.execute_input": "2021-01-11T12:16:31.868967Z",
     "iopub.status.busy": "2021-01-11T12:16:31.868450Z",
     "iopub.status.idle": "2021-01-11T12:16:31.870818Z",
     "shell.execute_reply": "2021-01-11T12:16:31.870417Z"
    },
    "papermill": {
     "duration": 0.031765,
     "end_time": "2021-01-11T12:16:31.870923",
     "exception": false,
     "start_time": "2021-01-11T12:16:31.839158",
     "status": "completed"
    },
    "tags": []
   },
   "outputs": [],
   "source": [
    "#hide\n",
    "# g.columns = ['date','country','cases']"
   ]
  },
  {
   "cell_type": "code",
   "execution_count": 27,
   "metadata": {
    "execution": {
     "iopub.execute_input": "2021-01-11T12:16:31.927789Z",
     "iopub.status.busy": "2021-01-11T12:16:31.927286Z",
     "iopub.status.idle": "2021-01-11T12:16:31.929434Z",
     "shell.execute_reply": "2021-01-11T12:16:31.929024Z"
    },
    "papermill": {
     "duration": 0.031908,
     "end_time": "2021-01-11T12:16:31.929548",
     "exception": false,
     "start_time": "2021-01-11T12:16:31.897640",
     "status": "completed"
    },
    "tags": []
   },
   "outputs": [],
   "source": [
    "#hide\n",
    "# g['continent'] = g.country"
   ]
  },
  {
   "cell_type": "code",
   "execution_count": 28,
   "metadata": {
    "execution": {
     "iopub.execute_input": "2021-01-11T12:16:31.986245Z",
     "iopub.status.busy": "2021-01-11T12:16:31.985658Z",
     "iopub.status.idle": "2021-01-11T12:16:31.987731Z",
     "shell.execute_reply": "2021-01-11T12:16:31.987248Z"
    },
    "papermill": {
     "duration": 0.031432,
     "end_time": "2021-01-11T12:16:31.987844",
     "exception": false,
     "start_time": "2021-01-11T12:16:31.956412",
     "status": "completed"
    },
    "tags": []
   },
   "outputs": [],
   "source": [
    "#hide\n",
    "# cols = list(g.columns.values)"
   ]
  },
  {
   "cell_type": "code",
   "execution_count": 29,
   "metadata": {
    "execution": {
     "iopub.execute_input": "2021-01-11T12:16:32.044405Z",
     "iopub.status.busy": "2021-01-11T12:16:32.043896Z",
     "iopub.status.idle": "2021-01-11T12:16:32.045736Z",
     "shell.execute_reply": "2021-01-11T12:16:32.046164Z"
    },
    "papermill": {
     "duration": 0.03172,
     "end_time": "2021-01-11T12:16:32.046281",
     "exception": false,
     "start_time": "2021-01-11T12:16:32.014561",
     "status": "completed"
    },
    "tags": []
   },
   "outputs": [],
   "source": [
    "#hide\n",
    "# cols.insert(0, cols.pop())"
   ]
  },
  {
   "cell_type": "code",
   "execution_count": 30,
   "metadata": {
    "execution": {
     "iopub.execute_input": "2021-01-11T12:16:32.103658Z",
     "iopub.status.busy": "2021-01-11T12:16:32.103155Z",
     "iopub.status.idle": "2021-01-11T12:16:32.105036Z",
     "shell.execute_reply": "2021-01-11T12:16:32.105419Z"
    },
    "papermill": {
     "duration": 0.032351,
     "end_time": "2021-01-11T12:16:32.105542",
     "exception": false,
     "start_time": "2021-01-11T12:16:32.073191",
     "status": "completed"
    },
    "tags": []
   },
   "outputs": [],
   "source": [
    "#hide\n",
    "# g = g[cols]"
   ]
  },
  {
   "cell_type": "code",
   "execution_count": 31,
   "metadata": {
    "execution": {
     "iopub.execute_input": "2021-01-11T12:16:32.162696Z",
     "iopub.status.busy": "2021-01-11T12:16:32.162193Z",
     "iopub.status.idle": "2021-01-11T12:16:32.164299Z",
     "shell.execute_reply": "2021-01-11T12:16:32.163897Z"
    },
    "papermill": {
     "duration": 0.032045,
     "end_time": "2021-01-11T12:16:32.164406",
     "exception": false,
     "start_time": "2021-01-11T12:16:32.132361",
     "status": "completed"
    },
    "tags": []
   },
   "outputs": [],
   "source": [
    "#hide\n",
    "# g['continent'] = g['continent'].map(mapping['map.continent'])"
   ]
  },
  {
   "cell_type": "code",
   "execution_count": 32,
   "metadata": {
    "execution": {
     "iopub.execute_input": "2021-01-11T12:16:32.221815Z",
     "iopub.status.busy": "2021-01-11T12:16:32.221306Z",
     "iopub.status.idle": "2021-01-11T12:16:32.223542Z",
     "shell.execute_reply": "2021-01-11T12:16:32.223136Z"
    },
    "papermill": {
     "duration": 0.032184,
     "end_time": "2021-01-11T12:16:32.223649",
     "exception": false,
     "start_time": "2021-01-11T12:16:32.191465",
     "status": "completed"
    },
    "tags": []
   },
   "outputs": [],
   "source": [
    "#hide\n",
    "# g.head()"
   ]
  },
  {
   "cell_type": "code",
   "execution_count": 33,
   "metadata": {
    "execution": {
     "iopub.execute_input": "2021-01-11T12:16:32.280547Z",
     "iopub.status.busy": "2021-01-11T12:16:32.280045Z",
     "iopub.status.idle": "2021-01-11T12:16:32.281914Z",
     "shell.execute_reply": "2021-01-11T12:16:32.282346Z"
    },
    "papermill": {
     "duration": 0.032007,
     "end_time": "2021-01-11T12:16:32.282463",
     "exception": false,
     "start_time": "2021-01-11T12:16:32.250456",
     "status": "completed"
    },
    "tags": []
   },
   "outputs": [],
   "source": [
    "# hide\n",
    "# g['date'] = g['date'].astype('datetime64[ns]')"
   ]
  },
  {
   "cell_type": "code",
   "execution_count": 34,
   "metadata": {
    "execution": {
     "iopub.execute_input": "2021-01-11T12:16:32.339578Z",
     "iopub.status.busy": "2021-01-11T12:16:32.339079Z",
     "iopub.status.idle": "2021-01-11T12:16:32.340760Z",
     "shell.execute_reply": "2021-01-11T12:16:32.341259Z"
    },
    "papermill": {
     "duration": 0.031888,
     "end_time": "2021-01-11T12:16:32.341380",
     "exception": false,
     "start_time": "2021-01-11T12:16:32.309492",
     "status": "completed"
    },
    "tags": []
   },
   "outputs": [],
   "source": [
    "#hide\n",
    "# g['date'] = g.date.dt.dayofyear"
   ]
  },
  {
   "cell_type": "code",
   "execution_count": 35,
   "metadata": {
    "execution": {
     "iopub.execute_input": "2021-01-11T12:16:32.397919Z",
     "iopub.status.busy": "2021-01-11T12:16:32.397417Z",
     "iopub.status.idle": "2021-01-11T12:16:32.399674Z",
     "shell.execute_reply": "2021-01-11T12:16:32.399252Z"
    },
    "papermill": {
     "duration": 0.031759,
     "end_time": "2021-01-11T12:16:32.399777",
     "exception": false,
     "start_time": "2021-01-11T12:16:32.368018",
     "status": "completed"
    },
    "tags": []
   },
   "outputs": [],
   "source": [
    "#hide\n",
    "# g = g.rename(columns= {'continent':'group','country':'name','cases':'value'})"
   ]
  },
  {
   "cell_type": "code",
   "execution_count": 36,
   "metadata": {
    "execution": {
     "iopub.execute_input": "2021-01-11T12:16:32.456656Z",
     "iopub.status.busy": "2021-01-11T12:16:32.456151Z",
     "iopub.status.idle": "2021-01-11T12:16:32.458375Z",
     "shell.execute_reply": "2021-01-11T12:16:32.457954Z"
    },
    "papermill": {
     "duration": 0.03188,
     "end_time": "2021-01-11T12:16:32.458477",
     "exception": false,
     "start_time": "2021-01-11T12:16:32.426597",
     "status": "completed"
    },
    "tags": []
   },
   "outputs": [],
   "source": [
    "#hide\n",
    "# cols = ['name','group','day','value']"
   ]
  },
  {
   "cell_type": "code",
   "execution_count": 37,
   "metadata": {
    "execution": {
     "iopub.execute_input": "2021-01-11T12:16:32.515095Z",
     "iopub.status.busy": "2021-01-11T12:16:32.514591Z",
     "iopub.status.idle": "2021-01-11T12:16:32.516385Z",
     "shell.execute_reply": "2021-01-11T12:16:32.516790Z"
    },
    "papermill": {
     "duration": 0.03166,
     "end_time": "2021-01-11T12:16:32.516904",
     "exception": false,
     "start_time": "2021-01-11T12:16:32.485244",
     "status": "completed"
    },
    "tags": []
   },
   "outputs": [],
   "source": [
    "#hide\n",
    "# g.rename(columns= {'date':'day'},inplace = True)"
   ]
  },
  {
   "cell_type": "code",
   "execution_count": 38,
   "metadata": {
    "execution": {
     "iopub.execute_input": "2021-01-11T12:16:32.574415Z",
     "iopub.status.busy": "2021-01-11T12:16:32.573906Z",
     "iopub.status.idle": "2021-01-11T12:16:32.575737Z",
     "shell.execute_reply": "2021-01-11T12:16:32.576167Z"
    },
    "papermill": {
     "duration": 0.032506,
     "end_time": "2021-01-11T12:16:32.576284",
     "exception": false,
     "start_time": "2021-01-11T12:16:32.543778",
     "status": "completed"
    },
    "tags": []
   },
   "outputs": [],
   "source": [
    "#hide\n",
    "# g = g[cols]"
   ]
  },
  {
   "cell_type": "code",
   "execution_count": 39,
   "metadata": {
    "execution": {
     "iopub.execute_input": "2021-01-11T12:16:32.633096Z",
     "iopub.status.busy": "2021-01-11T12:16:32.632567Z",
     "iopub.status.idle": "2021-01-11T12:16:32.634428Z",
     "shell.execute_reply": "2021-01-11T12:16:32.634857Z"
    },
    "papermill": {
     "duration": 0.031895,
     "end_time": "2021-01-11T12:16:32.634973",
     "exception": false,
     "start_time": "2021-01-11T12:16:32.603078",
     "status": "completed"
    },
    "tags": []
   },
   "outputs": [],
   "source": [
    "# #hide\n",
    "# g = g[g.group.notna()]"
   ]
  },
  {
   "cell_type": "code",
   "execution_count": 40,
   "metadata": {
    "execution": {
     "iopub.execute_input": "2021-01-11T12:16:32.692827Z",
     "iopub.status.busy": "2021-01-11T12:16:32.692316Z",
     "iopub.status.idle": "2021-01-11T12:16:32.694369Z",
     "shell.execute_reply": "2021-01-11T12:16:32.693941Z"
    },
    "papermill": {
     "duration": 0.031641,
     "end_time": "2021-01-11T12:16:32.694472",
     "exception": false,
     "start_time": "2021-01-11T12:16:32.662831",
     "status": "completed"
    },
    "tags": []
   },
   "outputs": [],
   "source": [
    "# #hide\n",
    "# colors = dict(zip(\n",
    "#     [\"Oceania\", \"Europe\", \"Asia\", \"South America\", \"Middle East\", \"North America\", \"Africa\"],\n",
    "#     [\"#adb0ff\", \"#ffb3ff\", \"#90d595\", \"#e48381\", \"#aafbff\", \"#f7bb5f\", \"#eafb50\"]\n",
    "# ))\n",
    "# group_lk = g.set_index('name')['group'].to_dict()"
   ]
  },
  {
   "cell_type": "code",
   "execution_count": null,
   "metadata": {
    "papermill": {
     "duration": 0.026597,
     "end_time": "2021-01-11T12:16:32.747772",
     "exception": false,
     "start_time": "2021-01-11T12:16:32.721175",
     "status": "completed"
    },
    "tags": []
   },
   "outputs": [],
   "source": []
  },
  {
   "cell_type": "code",
   "execution_count": 41,
   "metadata": {
    "execution": {
     "iopub.execute_input": "2021-01-11T12:16:32.805538Z",
     "iopub.status.busy": "2021-01-11T12:16:32.805022Z",
     "iopub.status.idle": "2021-01-11T12:16:32.806823Z",
     "shell.execute_reply": "2021-01-11T12:16:32.807203Z"
    },
    "papermill": {
     "duration": 0.032743,
     "end_time": "2021-01-11T12:16:32.807322",
     "exception": false,
     "start_time": "2021-01-11T12:16:32.774579",
     "status": "completed"
    },
    "tags": []
   },
   "outputs": [],
   "source": [
    "# #hide\n",
    "# fig, ax = plt.subplots(figsize=(15, 8))\n",
    "\n",
    "# def draw_barchart(current_day):\n",
    "#     dff = g[g['day'].eq(current_day)].sort_values(by='value', ascending=True).tail(10)\n",
    "#     ax.clear()\n",
    "#     ax.barh(dff['name'], dff['value'], color=[colors[group_lk[x]] for x in dff['name']])\n",
    "#     dx = dff['value'].max() / 200\n",
    "    \n",
    "#     for i, (value, name) in enumerate(zip(dff['value'], dff['name'])):\n",
    "#         ax.text(value-dx, i,     name,           size=14, weight=600, ha='right', va='bottom')\n",
    "#         ax.text(value-dx, i-.25, group_lk[name], size=10, color='#444444', ha='right', va='baseline')\n",
    "#         ax.text(value+dx, i,     f'{value:,.0f}',  size=14, ha='left',  va='center')\n",
    "#     ax.text(1, 0.4, current_day, transform=ax.transAxes, color='#777777', size=46, ha='right', weight=800)\n",
    "#     ax.text(0, 1.06, 'Population (thousands)', transform=ax.transAxes, size=12, color='#777777')\n",
    "#     ax.xaxis.set_major_formatter(ticker.StrMethodFormatter('{x:,.0f}'))\n",
    "#     ax.xaxis.set_ticks_position('top')\n",
    "#     ax.tick_params(axis='x', colors='#777777', labelsize=12)\n",
    "#     ax.set_yticks([])\n",
    "#     ax.margins(0, 0.01)\n",
    "#     ax.grid(which='major', axis='x', linestyle='-')\n",
    "#     ax.set_axisbelow(True)\n",
    "    \n",
    "#     ax.text(0, 1.15, 'Coronavirus',\n",
    "#             transform=ax.transAxes, size=24, weight=600, ha='left', va='top')\n",
    "# #     ax.text(1, 0, 'by @pratapvardhan; credit @jburnmurdoch', transform=ax.transAxes, color='#777777', ha='right',\n",
    "# #             bbox=dict(facecolor='white', alpha=0.8, edgecolor='white'))\n",
    "#     plt.box(False)"
   ]
  },
  {
   "cell_type": "code",
   "execution_count": 42,
   "metadata": {
    "execution": {
     "iopub.execute_input": "2021-01-11T12:16:32.864364Z",
     "iopub.status.busy": "2021-01-11T12:16:32.863848Z",
     "iopub.status.idle": "2021-01-11T12:16:32.865993Z",
     "shell.execute_reply": "2021-01-11T12:16:32.865590Z"
    },
    "papermill": {
     "duration": 0.031884,
     "end_time": "2021-01-11T12:16:32.866098",
     "exception": false,
     "start_time": "2021-01-11T12:16:32.834214",
     "status": "completed"
    },
    "tags": []
   },
   "outputs": [],
   "source": [
    "# #hide_input\n",
    "# fig, ax = plt.subplots(figsize=(15, 8))\n",
    "# animator = animation.FuncAnimation(fig, draw_barchart, frames=range(g.day.values.min(), g.day.values.max()))\n",
    "# HTML(animator.to_jshtml())\n",
    "# # or use animator.to_html5_video() or animator.save() "
   ]
  },
  {
   "cell_type": "code",
   "execution_count": null,
   "metadata": {
    "papermill": {
     "duration": 0.026696,
     "end_time": "2021-01-11T12:16:32.919661",
     "exception": false,
     "start_time": "2021-01-11T12:16:32.892965",
     "status": "completed"
    },
    "tags": []
   },
   "outputs": [],
   "source": []
  },
  {
   "cell_type": "code",
   "execution_count": null,
   "metadata": {
    "papermill": {
     "duration": 0.026823,
     "end_time": "2021-01-11T12:16:32.973178",
     "exception": false,
     "start_time": "2021-01-11T12:16:32.946355",
     "status": "completed"
    },
    "tags": []
   },
   "outputs": [],
   "source": []
  },
  {
   "cell_type": "code",
   "execution_count": null,
   "metadata": {
    "papermill": {
     "duration": 0.026678,
     "end_time": "2021-01-11T12:16:33.026763",
     "exception": false,
     "start_time": "2021-01-11T12:16:33.000085",
     "status": "completed"
    },
    "tags": []
   },
   "outputs": [],
   "source": []
  }
 ],
 "metadata": {
  "kernelspec": {
   "display_name": "Python 3",
   "language": "python",
   "name": "python3"
  },
  "language_info": {
   "codemirror_mode": {
    "name": "ipython",
    "version": 3
   },
   "file_extension": ".py",
   "mimetype": "text/x-python",
   "name": "python",
   "nbconvert_exporter": "python",
   "pygments_lexer": "ipython3",
   "version": "3.6.12"
  },
  "papermill": {
   "duration": 5.570614,
   "end_time": "2021-01-11T12:16:33.360275",
   "environment_variables": {},
   "exception": null,
   "input_path": "2020-03-21-covid19exp.ipynb",
   "output_path": "2020-03-21-covid19exp.ipynb",
   "parameters": {},
   "start_time": "2021-01-11T12:16:27.789661",
   "version": "2.0.0"
  }
 },
 "nbformat": 4,
 "nbformat_minor": 4
}