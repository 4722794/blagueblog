{
 "cells": [
  {
   "cell_type": "markdown",
   "id": "muslim-click",
   "metadata": {
    "papermill": {
     "duration": 0.043558,
     "end_time": "2022-09-28T12:20:57.629904",
     "exception": false,
     "start_time": "2022-09-28T12:20:57.586346",
     "status": "completed"
    },
    "tags": []
   },
   "source": [
    "# COVID-19 Case Race\n",
    "> A race chart to see rising cases around the world\n",
    "\n",
    "- author: Hargun Oberoi\n",
    "- image: images/covid-overview.png\n",
    "- hide: false\n",
    "- badges: false"
   ]
  },
  {
   "cell_type": "code",
   "execution_count": 1,
   "id": "proof-material",
   "metadata": {
    "execution": {
     "iopub.execute_input": "2022-09-28T12:20:57.709424Z",
     "iopub.status.busy": "2022-09-28T12:20:57.705091Z",
     "iopub.status.idle": "2022-09-28T12:20:58.115887Z",
     "shell.execute_reply": "2022-09-28T12:20:58.115304Z"
    },
    "papermill": {
     "duration": 0.45259,
     "end_time": "2022-09-28T12:20:58.116040",
     "exception": false,
     "start_time": "2022-09-28T12:20:57.663450",
     "status": "completed"
    },
    "tags": []
   },
   "outputs": [],
   "source": [
    "#hide\n",
    "import numpy as np\n",
    "import pandas as pd\n",
    "from jinja2 import Template\n",
    "from IPython.display import HTML"
   ]
  },
  {
   "cell_type": "code",
   "execution_count": 2,
   "id": "developed-terminology",
   "metadata": {
    "execution": {
     "iopub.execute_input": "2022-09-28T12:20:58.186861Z",
     "iopub.status.busy": "2022-09-28T12:20:58.186202Z",
     "iopub.status.idle": "2022-09-28T12:20:58.188865Z",
     "shell.execute_reply": "2022-09-28T12:20:58.189386Z"
    },
    "papermill": {
     "duration": 0.040878,
     "end_time": "2022-09-28T12:20:58.189539",
     "exception": false,
     "start_time": "2022-09-28T12:20:58.148661",
     "status": "completed"
    },
    "tags": []
   },
   "outputs": [],
   "source": [
    "#hide\n",
    "\n",
    "# FETCH\n",
    "base_url = 'https://raw.githubusercontent.com/pratapvardhan/notebooks/master/covid19/'\n",
    "paths = {\n",
    "    'mapping': base_url + 'mapping_countries.csv',\n",
    "    'overview': base_url + 'overview.tpl'\n",
    "}"
   ]
  },
  {
   "cell_type": "code",
   "execution_count": 3,
   "id": "dynamic-saver",
   "metadata": {
    "execution": {
     "iopub.execute_input": "2022-09-28T12:20:58.265269Z",
     "iopub.status.busy": "2022-09-28T12:20:58.262735Z",
     "iopub.status.idle": "2022-09-28T12:20:58.269009Z",
     "shell.execute_reply": "2022-09-28T12:20:58.268365Z"
    },
    "papermill": {
     "duration": 0.046886,
     "end_time": "2022-09-28T12:20:58.269135",
     "exception": false,
     "start_time": "2022-09-28T12:20:58.222249",
     "status": "completed"
    },
    "tags": []
   },
   "outputs": [
    {
     "data": {
      "text/plain": [
       "'https://raw.githubusercontent.com/pratapvardhan/notebooks/master/covid19/mapping_countries.csv'"
      ]
     },
     "execution_count": 3,
     "metadata": {},
     "output_type": "execute_result"
    }
   ],
   "source": [
    "#hide\n",
    "paths['mapping']"
   ]
  },
  {
   "cell_type": "code",
   "execution_count": 4,
   "id": "urban-software",
   "metadata": {
    "execution": {
     "iopub.execute_input": "2022-09-28T12:20:58.344259Z",
     "iopub.status.busy": "2022-09-28T12:20:58.343577Z",
     "iopub.status.idle": "2022-09-28T12:20:58.347401Z",
     "shell.execute_reply": "2022-09-28T12:20:58.346851Z"
    },
    "papermill": {
     "duration": 0.044844,
     "end_time": "2022-09-28T12:20:58.347529",
     "exception": false,
     "start_time": "2022-09-28T12:20:58.302685",
     "status": "completed"
    },
    "tags": []
   },
   "outputs": [],
   "source": [
    "#hide\n",
    "def get_mappings(url):\n",
    "    df = pd.read_csv(url)\n",
    "    return {\n",
    "        'df': df,\n",
    "        'replace.country': dict(df.dropna(subset=['Name']).set_index('Country')['Name']),\n",
    "        'map.continent': dict(df.set_index('Name')['Continent'])\n",
    "    }"
   ]
  },
  {
   "cell_type": "code",
   "execution_count": 5,
   "id": "intimate-machinery",
   "metadata": {
    "execution": {
     "iopub.execute_input": "2022-09-28T12:20:58.418466Z",
     "iopub.status.busy": "2022-09-28T12:20:58.417768Z",
     "iopub.status.idle": "2022-09-28T12:20:58.459508Z",
     "shell.execute_reply": "2022-09-28T12:20:58.458739Z"
    },
    "papermill": {
     "duration": 0.079725,
     "end_time": "2022-09-28T12:20:58.459675",
     "exception": false,
     "start_time": "2022-09-28T12:20:58.379950",
     "status": "completed"
    },
    "tags": []
   },
   "outputs": [],
   "source": [
    "#hide\n",
    "mapping = get_mappings(paths['mapping'])"
   ]
  },
  {
   "cell_type": "code",
   "execution_count": 6,
   "id": "certified-tactics",
   "metadata": {
    "execution": {
     "iopub.execute_input": "2022-09-28T12:20:58.534992Z",
     "iopub.status.busy": "2022-09-28T12:20:58.534282Z",
     "iopub.status.idle": "2022-09-28T12:20:58.537186Z",
     "shell.execute_reply": "2022-09-28T12:20:58.537871Z"
    },
    "papermill": {
     "duration": 0.043413,
     "end_time": "2022-09-28T12:20:58.538019",
     "exception": false,
     "start_time": "2022-09-28T12:20:58.494606",
     "status": "completed"
    },
    "tags": []
   },
   "outputs": [],
   "source": [
    "#hide\n",
    "def get_template(path):\n",
    "    from urllib.parse import urlparse\n",
    "    if bool(urlparse(path).netloc):\n",
    "        from urllib.request import urlopen\n",
    "        return urlopen(path).read().decode('utf8')\n",
    "    return open(path).read()"
   ]
  },
  {
   "cell_type": "code",
   "execution_count": 7,
   "id": "realistic-blast",
   "metadata": {
    "execution": {
     "iopub.execute_input": "2022-09-28T12:20:58.611117Z",
     "iopub.status.busy": "2022-09-28T12:20:58.610414Z",
     "iopub.status.idle": "2022-09-28T12:20:58.613670Z",
     "shell.execute_reply": "2022-09-28T12:20:58.613027Z"
    },
    "papermill": {
     "duration": 0.04236,
     "end_time": "2022-09-28T12:20:58.613791",
     "exception": false,
     "start_time": "2022-09-28T12:20:58.571431",
     "status": "completed"
    },
    "tags": []
   },
   "outputs": [],
   "source": [
    "#hide\n",
    "def get_frame(name):\n",
    "    url = (\n",
    "        'https://raw.githubusercontent.com/CSSEGISandData/COVID-19/master/csse_covid_19_data/'\n",
    "        f'csse_covid_19_time_series/time_series_covid19_{name}_global.csv')\n",
    "    df = pd.read_csv(url)\n",
    "    # rename countries\n",
    "    df['Country/Region'] = df['Country/Region'].replace(mapping['replace.country'])\n",
    "    return df"
   ]
  },
  {
   "cell_type": "code",
   "execution_count": 8,
   "id": "affiliated-characterization",
   "metadata": {
    "execution": {
     "iopub.execute_input": "2022-09-28T12:20:58.688096Z",
     "iopub.status.busy": "2022-09-28T12:20:58.687298Z",
     "iopub.status.idle": "2022-09-28T12:20:58.688906Z",
     "shell.execute_reply": "2022-09-28T12:20:58.689498Z"
    },
    "papermill": {
     "duration": 0.042397,
     "end_time": "2022-09-28T12:20:58.689659",
     "exception": false,
     "start_time": "2022-09-28T12:20:58.647262",
     "status": "completed"
    },
    "tags": []
   },
   "outputs": [],
   "source": [
    "#hide\n",
    "def get_dates(df):\n",
    "    dt_cols = df.columns[~df.columns.isin(['Province/State', 'Country/Region', 'Lat', 'Long'])]\n",
    "    LAST_DATE_I = -1\n",
    "    # sometimes last column may be empty, then go backwards\n",
    "    for i in range(-1, -len(dt_cols), -1):\n",
    "        if not df[dt_cols[i]].fillna(0).eq(0).all():\n",
    "            LAST_DATE_I = i\n",
    "            break\n",
    "    return LAST_DATE_I, dt_cols"
   ]
  },
  {
   "cell_type": "code",
   "execution_count": 9,
   "id": "recent-optimization",
   "metadata": {
    "execution": {
     "iopub.execute_input": "2022-09-28T12:20:58.763140Z",
     "iopub.status.busy": "2022-09-28T12:20:58.762492Z",
     "iopub.status.idle": "2022-09-28T12:20:59.180105Z",
     "shell.execute_reply": "2022-09-28T12:20:59.179506Z"
    },
    "papermill": {
     "duration": 0.456857,
     "end_time": "2022-09-28T12:20:59.180254",
     "exception": false,
     "start_time": "2022-09-28T12:20:58.723397",
     "status": "completed"
    },
    "tags": []
   },
   "outputs": [],
   "source": [
    "#hide\n",
    "COL_REGION = 'Country/Region'\n",
    "# Confirmed, Recovered, Deaths\n",
    "df = get_frame('confirmed')\n",
    "# dft_: timeseries, dfc_: today country agg\n",
    "dft_cases = df\n",
    "dft_deaths = get_frame('deaths')\n",
    "dft_recovered = get_frame('recovered')\n",
    "LAST_DATE_I, dt_cols = get_dates(df)"
   ]
  },
  {
   "cell_type": "code",
   "execution_count": 10,
   "id": "absolute-copper",
   "metadata": {
    "execution": {
     "iopub.execute_input": "2022-09-28T12:20:59.260044Z",
     "iopub.status.busy": "2022-09-28T12:20:59.259365Z",
     "iopub.status.idle": "2022-09-28T12:20:59.262264Z",
     "shell.execute_reply": "2022-09-28T12:20:59.262909Z"
    },
    "papermill": {
     "duration": 0.047091,
     "end_time": "2022-09-28T12:20:59.263059",
     "exception": false,
     "start_time": "2022-09-28T12:20:59.215968",
     "status": "completed"
    },
    "tags": []
   },
   "outputs": [],
   "source": [
    "#hide\n",
    "LAST_DATE_I, dt_cols = get_dates(df)\n",
    "dt_today =dt_cols[LAST_DATE_I]\n",
    "# dt_5day = dt_cols[LAST_DATE_I - 5]\n",
    "dt_yday = dt_cols[LAST_DATE_I - 1]"
   ]
  },
  {
   "cell_type": "code",
   "execution_count": 11,
   "id": "restricted-sheriff",
   "metadata": {
    "execution": {
     "iopub.execute_input": "2022-09-28T12:20:59.343865Z",
     "iopub.status.busy": "2022-09-28T12:20:59.343143Z",
     "iopub.status.idle": "2022-09-28T12:20:59.352023Z",
     "shell.execute_reply": "2022-09-28T12:20:59.351417Z"
    },
    "papermill": {
     "duration": 0.052709,
     "end_time": "2022-09-28T12:20:59.352159",
     "exception": false,
     "start_time": "2022-09-28T12:20:59.299450",
     "status": "completed"
    },
    "tags": []
   },
   "outputs": [],
   "source": [
    "#hide\n",
    "dfc_cases = dft_cases.groupby(COL_REGION)[dt_today].sum()\n",
    "dfc_deaths = dft_deaths.groupby(COL_REGION)[dt_today].sum()\n",
    "# dfp_cases = dft_cases.groupby(COL_REGION)[dt_5day].sum()\n",
    "# dfp_deaths = dft_deaths.groupby(COL_REGION)[dt_5day].sum()\n",
    "dfp_cases = dft_cases.groupby(COL_REGION)[dt_yday].sum()\n",
    "dfp_deaths = dft_deaths.groupby(COL_REGION)[dt_yday].sum()"
   ]
  },
  {
   "cell_type": "code",
   "execution_count": 12,
   "id": "deluxe-hepatitis",
   "metadata": {
    "execution": {
     "iopub.execute_input": "2022-09-28T12:20:59.431893Z",
     "iopub.status.busy": "2022-09-28T12:20:59.431203Z",
     "iopub.status.idle": "2022-09-28T12:20:59.437024Z",
     "shell.execute_reply": "2022-09-28T12:20:59.437707Z"
    },
    "papermill": {
     "duration": 0.050388,
     "end_time": "2022-09-28T12:20:59.437874",
     "exception": false,
     "start_time": "2022-09-28T12:20:59.387486",
     "status": "completed"
    },
    "tags": []
   },
   "outputs": [],
   "source": [
    "#hide\n",
    "df_table = (pd.DataFrame(dict(Cases = dfc_cases, Deaths = dfc_deaths, PCases = dfp_cases, PDeaths = dfp_deaths))\n",
    "            .sort_values(by = ['Cases','Deaths'], ascending = [False, False])\n",
    "            .reset_index())"
   ]
  },
  {
   "cell_type": "code",
   "execution_count": 13,
   "id": "educational-chancellor",
   "metadata": {
    "execution": {
     "iopub.execute_input": "2022-09-28T12:20:59.528679Z",
     "iopub.status.busy": "2022-09-28T12:20:59.527988Z",
     "iopub.status.idle": "2022-09-28T12:20:59.537305Z",
     "shell.execute_reply": "2022-09-28T12:20:59.536748Z"
    },
    "papermill": {
     "duration": 0.065339,
     "end_time": "2022-09-28T12:20:59.537466",
     "exception": false,
     "start_time": "2022-09-28T12:20:59.472127",
     "status": "completed"
    },
    "tags": []
   },
   "outputs": [
    {
     "data": {
      "text/html": [
       "<div>\n",
       "<style scoped>\n",
       "    .dataframe tbody tr th:only-of-type {\n",
       "        vertical-align: middle;\n",
       "    }\n",
       "\n",
       "    .dataframe tbody tr th {\n",
       "        vertical-align: top;\n",
       "    }\n",
       "\n",
       "    .dataframe thead th {\n",
       "        text-align: right;\n",
       "    }\n",
       "</style>\n",
       "<table border=\"1\" class=\"dataframe\">\n",
       "  <thead>\n",
       "    <tr style=\"text-align: right;\">\n",
       "      <th></th>\n",
       "      <th>Country/Region</th>\n",
       "      <th>Cases</th>\n",
       "      <th>Deaths</th>\n",
       "      <th>PCases</th>\n",
       "      <th>PDeaths</th>\n",
       "      <th>Cases (+)</th>\n",
       "      <th>Deaths (+)</th>\n",
       "      <th>Fatality Rate</th>\n",
       "      <th>Continent</th>\n",
       "    </tr>\n",
       "  </thead>\n",
       "  <tbody>\n",
       "    <tr>\n",
       "      <th>0</th>\n",
       "      <td>US</td>\n",
       "      <td>96162907</td>\n",
       "      <td>1057247</td>\n",
       "      <td>96116204</td>\n",
       "      <td>1056789</td>\n",
       "      <td>46703</td>\n",
       "      <td>458</td>\n",
       "      <td>1.10</td>\n",
       "      <td>North America</td>\n",
       "    </tr>\n",
       "    <tr>\n",
       "      <th>1</th>\n",
       "      <td>India</td>\n",
       "      <td>44579088</td>\n",
       "      <td>528584</td>\n",
       "      <td>44575473</td>\n",
       "      <td>528562</td>\n",
       "      <td>3615</td>\n",
       "      <td>22</td>\n",
       "      <td>1.19</td>\n",
       "      <td>Asia</td>\n",
       "    </tr>\n",
       "    <tr>\n",
       "      <th>2</th>\n",
       "      <td>France</td>\n",
       "      <td>35456751</td>\n",
       "      <td>156049</td>\n",
       "      <td>35381526</td>\n",
       "      <td>156000</td>\n",
       "      <td>75225</td>\n",
       "      <td>49</td>\n",
       "      <td>0.44</td>\n",
       "      <td>Europe</td>\n",
       "    </tr>\n",
       "    <tr>\n",
       "      <th>3</th>\n",
       "      <td>Brazil</td>\n",
       "      <td>34638288</td>\n",
       "      <td>685835</td>\n",
       "      <td>34638288</td>\n",
       "      <td>685835</td>\n",
       "      <td>0</td>\n",
       "      <td>0</td>\n",
       "      <td>1.98</td>\n",
       "      <td>South America</td>\n",
       "    </tr>\n",
       "    <tr>\n",
       "      <th>4</th>\n",
       "      <td>Germany</td>\n",
       "      <td>33137143</td>\n",
       "      <td>149714</td>\n",
       "      <td>33041332</td>\n",
       "      <td>149576</td>\n",
       "      <td>95811</td>\n",
       "      <td>138</td>\n",
       "      <td>0.45</td>\n",
       "      <td>Europe</td>\n",
       "    </tr>\n",
       "  </tbody>\n",
       "</table>\n",
       "</div>"
      ],
      "text/plain": [
       "  Country/Region     Cases   Deaths    PCases  PDeaths  Cases (+)  Deaths (+)  \\\n",
       "0             US  96162907  1057247  96116204  1056789      46703         458   \n",
       "1          India  44579088   528584  44575473   528562       3615          22   \n",
       "2         France  35456751   156049  35381526   156000      75225          49   \n",
       "3         Brazil  34638288   685835  34638288   685835          0           0   \n",
       "4        Germany  33137143   149714  33041332   149576      95811         138   \n",
       "\n",
       "   Fatality Rate      Continent  \n",
       "0           1.10  North America  \n",
       "1           1.19           Asia  \n",
       "2           0.44         Europe  \n",
       "3           1.98  South America  \n",
       "4           0.45         Europe  "
      ]
     },
     "execution_count": 13,
     "metadata": {},
     "output_type": "execute_result"
    }
   ],
   "source": [
    "#hide\n",
    "for c in 'Cases, Deaths'.split(', '):\n",
    "    df_table[f'{c} (+)'] = (df_table[c] - df_table[f'P{c}']).clip(0)\n",
    "    #Clip ça veut dire, les chiffres negatif sont interdit\n",
    "df_table['Fatality Rate'] = (100* df_table['Deaths']/ df_table['Cases']).round(2)\n",
    "df_table['Continent'] = df_table['Country/Region'].map(mapping['map.continent'])\n",
    "df_table.head(5)"
   ]
  },
  {
   "cell_type": "code",
   "execution_count": 14,
   "id": "aboriginal-bulgaria",
   "metadata": {
    "execution": {
     "iopub.execute_input": "2022-09-28T12:20:59.616481Z",
     "iopub.status.busy": "2022-09-28T12:20:59.615727Z",
     "iopub.status.idle": "2022-09-28T12:20:59.618961Z",
     "shell.execute_reply": "2022-09-28T12:20:59.618316Z"
    },
    "papermill": {
     "duration": 0.046659,
     "end_time": "2022-09-28T12:20:59.619102",
     "exception": false,
     "start_time": "2022-09-28T12:20:59.572443",
     "status": "completed"
    },
    "tags": []
   },
   "outputs": [],
   "source": [
    "#hide\n",
    "#delete problematic countries from table\n",
    "df_table = df_table[~df_table['Country/Region'].isin(['Cape Verde', 'Cruise Ship', 'Kosovo'])]"
   ]
  },
  {
   "cell_type": "code",
   "execution_count": 15,
   "id": "fantastic-effect",
   "metadata": {
    "execution": {
     "iopub.execute_input": "2022-09-28T12:20:59.701441Z",
     "iopub.status.busy": "2022-09-28T12:20:59.700699Z",
     "iopub.status.idle": "2022-09-28T12:20:59.722765Z",
     "shell.execute_reply": "2022-09-28T12:20:59.723711Z"
    },
    "papermill": {
     "duration": 0.069081,
     "end_time": "2022-09-28T12:20:59.723931",
     "exception": false,
     "start_time": "2022-09-28T12:20:59.654850",
     "status": "completed"
    },
    "tags": []
   },
   "outputs": [
    {
     "data": {
      "text/html": [
       "<div>\n",
       "<style scoped>\n",
       "    .dataframe tbody tr th:only-of-type {\n",
       "        vertical-align: middle;\n",
       "    }\n",
       "\n",
       "    .dataframe tbody tr th {\n",
       "        vertical-align: top;\n",
       "    }\n",
       "\n",
       "    .dataframe thead th {\n",
       "        text-align: right;\n",
       "    }\n",
       "</style>\n",
       "<table border=\"1\" class=\"dataframe\">\n",
       "  <thead>\n",
       "    <tr style=\"text-align: right;\">\n",
       "      <th></th>\n",
       "      <th>Country/Region</th>\n",
       "      <th>Cases</th>\n",
       "      <th>Deaths</th>\n",
       "      <th>PCases</th>\n",
       "      <th>PDeaths</th>\n",
       "      <th>Cases (+)</th>\n",
       "      <th>Deaths (+)</th>\n",
       "      <th>Fatality Rate</th>\n",
       "      <th>Continent</th>\n",
       "    </tr>\n",
       "  </thead>\n",
       "  <tbody>\n",
       "    <tr>\n",
       "      <th>0</th>\n",
       "      <td>US</td>\n",
       "      <td>96162907</td>\n",
       "      <td>1057247</td>\n",
       "      <td>96116204</td>\n",
       "      <td>1056789</td>\n",
       "      <td>46703</td>\n",
       "      <td>458</td>\n",
       "      <td>1.1</td>\n",
       "      <td>North America</td>\n",
       "    </tr>\n",
       "    <tr>\n",
       "      <th>1</th>\n",
       "      <td>India</td>\n",
       "      <td>44579088</td>\n",
       "      <td>528584</td>\n",
       "      <td>44575473</td>\n",
       "      <td>528562</td>\n",
       "      <td>3615</td>\n",
       "      <td>22</td>\n",
       "      <td>1.2</td>\n",
       "      <td>Asia</td>\n",
       "    </tr>\n",
       "    <tr>\n",
       "      <th>2</th>\n",
       "      <td>France</td>\n",
       "      <td>35456751</td>\n",
       "      <td>156049</td>\n",
       "      <td>35381526</td>\n",
       "      <td>156000</td>\n",
       "      <td>75225</td>\n",
       "      <td>49</td>\n",
       "      <td>0.4</td>\n",
       "      <td>Europe</td>\n",
       "    </tr>\n",
       "    <tr>\n",
       "      <th>3</th>\n",
       "      <td>Brazil</td>\n",
       "      <td>34638288</td>\n",
       "      <td>685835</td>\n",
       "      <td>34638288</td>\n",
       "      <td>685835</td>\n",
       "      <td>0</td>\n",
       "      <td>0</td>\n",
       "      <td>2.0</td>\n",
       "      <td>South America</td>\n",
       "    </tr>\n",
       "    <tr>\n",
       "      <th>4</th>\n",
       "      <td>Germany</td>\n",
       "      <td>33137143</td>\n",
       "      <td>149714</td>\n",
       "      <td>33041332</td>\n",
       "      <td>149576</td>\n",
       "      <td>95811</td>\n",
       "      <td>138</td>\n",
       "      <td>0.5</td>\n",
       "      <td>Europe</td>\n",
       "    </tr>\n",
       "  </tbody>\n",
       "</table>\n",
       "</div>"
      ],
      "text/plain": [
       "  Country/Region     Cases   Deaths    PCases  PDeaths  Cases (+)  Deaths (+)  \\\n",
       "0             US  96162907  1057247  96116204  1056789      46703         458   \n",
       "1          India  44579088   528584  44575473   528562       3615          22   \n",
       "2         France  35456751   156049  35381526   156000      75225          49   \n",
       "3         Brazil  34638288   685835  34638288   685835          0           0   \n",
       "4        Germany  33137143   149714  33041332   149576      95811         138   \n",
       "\n",
       "   Fatality Rate      Continent  \n",
       "0            1.1  North America  \n",
       "1            1.2           Asia  \n",
       "2            0.4         Europe  \n",
       "3            2.0  South America  \n",
       "4            0.5         Europe  "
      ]
     },
     "execution_count": 15,
     "metadata": {},
     "output_type": "execute_result"
    }
   ],
   "source": [
    "#hide\n",
    "df_table = (pd.DataFrame(dict(Cases=dfc_cases, Deaths=dfc_deaths, PCases=dfp_cases, PDeaths=dfp_deaths))\n",
    "             .sort_values(by=['Cases', 'Deaths'], ascending=[False, False])\n",
    "             .reset_index())\n",
    "df_table.rename(columns={'index': 'Country/Region'}, inplace=True)\n",
    "for c in 'Cases, Deaths'.split(', '):\n",
    "    df_table[f'{c} (+)'] = (df_table[c] - df_table[f'P{c}']).clip(0)  # DATA BUG\n",
    "df_table['Fatality Rate'] = (100 * df_table['Deaths'] / df_table['Cases']).round(1)\n",
    "df_table['Continent'] = df_table['Country/Region'].map(mapping['map.continent'])\n",
    "df_table.head(5)"
   ]
  },
  {
   "cell_type": "code",
   "execution_count": 16,
   "id": "fewer-occasion",
   "metadata": {
    "execution": {
     "iopub.execute_input": "2022-09-28T12:20:59.805648Z",
     "iopub.status.busy": "2022-09-28T12:20:59.804889Z",
     "iopub.status.idle": "2022-09-28T12:20:59.808148Z",
     "shell.execute_reply": "2022-09-28T12:20:59.808801Z"
    },
    "papermill": {
     "duration": 0.048621,
     "end_time": "2022-09-28T12:20:59.808954",
     "exception": false,
     "start_time": "2022-09-28T12:20:59.760333",
     "status": "completed"
    },
    "tags": []
   },
   "outputs": [],
   "source": [
    "#hide\n",
    "#delete problematic countries from table\n",
    "df_table = df_table[~df_table['Country/Region'].isin(['Cape Verde', 'Cruise Ship', 'Kosovo'])]"
   ]
  },
  {
   "cell_type": "code",
   "execution_count": 17,
   "id": "related-center",
   "metadata": {
    "execution": {
     "iopub.execute_input": "2022-09-28T12:20:59.901760Z",
     "iopub.status.busy": "2022-09-28T12:20:59.901040Z",
     "iopub.status.idle": "2022-09-28T12:20:59.903679Z",
     "shell.execute_reply": "2022-09-28T12:20:59.903162Z"
    },
    "papermill": {
     "duration": 0.059607,
     "end_time": "2022-09-28T12:20:59.903796",
     "exception": false,
     "start_time": "2022-09-28T12:20:59.844189",
     "status": "completed"
    },
    "tags": []
   },
   "outputs": [],
   "source": [
    "#hide\n",
    "metrics = [df_table.columns[index] for index in [1,2,5,6]]\n",
    "# s_china = df_table[df_table['Country/Region'].eq('China')][metrics].sum().add_prefix('China ')\n",
    "s_us = df_table[df_table['Country/Region'].eq('US')][metrics].sum().add_prefix('US ')\n",
    "s_eu = df_table[df_table['Continent'].eq('Europe')][metrics].sum().add_prefix('EU ')\n",
    "s_ind = df_table[df_table['Country/Region'].eq('India')][metrics].sum().add_prefix('India ')\n",
    "summary = {'updated': pd.to_datetime(dt_today), 'since': pd.to_datetime(dt_yday)}\n",
    "summary = {'updated': pd.to_datetime(dt_today), 'since': pd.to_datetime(dt_yday)}\n",
    "summary = {**summary, **df_table[metrics].sum(), **s_ind, **s_us, **s_eu}"
   ]
  },
  {
   "cell_type": "code",
   "execution_count": 18,
   "id": "engaging-syndrome",
   "metadata": {
    "execution": {
     "iopub.execute_input": "2022-09-28T12:20:59.983964Z",
     "iopub.status.busy": "2022-09-28T12:20:59.983260Z",
     "iopub.status.idle": "2022-09-28T12:21:00.008669Z",
     "shell.execute_reply": "2022-09-28T12:21:00.007891Z"
    },
    "papermill": {
     "duration": 0.069423,
     "end_time": "2022-09-28T12:21:00.008838",
     "exception": false,
     "start_time": "2022-09-28T12:20:59.939415",
     "status": "completed"
    },
    "tags": []
   },
   "outputs": [],
   "source": [
    "#hide\n",
    "dft_ct_new_cases = dft_cases.groupby(COL_REGION)[dt_cols].sum().diff(axis=1).fillna(0).astype(int)"
   ]
  },
  {
   "cell_type": "code",
   "execution_count": 19,
   "id": "neutral-assignment",
   "metadata": {
    "execution": {
     "iopub.execute_input": "2022-09-28T12:21:00.093330Z",
     "iopub.status.busy": "2022-09-28T12:21:00.092618Z",
     "iopub.status.idle": "2022-09-28T12:21:00.095353Z",
     "shell.execute_reply": "2022-09-28T12:21:00.094689Z"
    },
    "papermill": {
     "duration": 0.05121,
     "end_time": "2022-09-28T12:21:00.095480",
     "exception": false,
     "start_time": "2022-09-28T12:21:00.044270",
     "status": "completed"
    },
    "tags": []
   },
   "outputs": [],
   "source": [
    "#hide\n",
    "everydaycases = dft_ct_new_cases.cumsum(axis=1)"
   ]
  },
  {
   "cell_type": "code",
   "execution_count": 20,
   "id": "parliamentary-calgary",
   "metadata": {
    "execution": {
     "iopub.execute_input": "2022-09-28T12:21:00.174559Z",
     "iopub.status.busy": "2022-09-28T12:21:00.173724Z",
     "iopub.status.idle": "2022-09-28T12:21:00.834625Z",
     "shell.execute_reply": "2022-09-28T12:21:00.833189Z"
    },
    "papermill": {
     "duration": 0.703371,
     "end_time": "2022-09-28T12:21:00.834771",
     "exception": false,
     "start_time": "2022-09-28T12:21:00.131400",
     "status": "completed"
    },
    "tags": []
   },
   "outputs": [],
   "source": [
    "#hide\n",
    "import pandas as pd\n",
    "import matplotlib.pyplot as plt\n",
    "import matplotlib.ticker as ticker\n",
    "import matplotlib.animation as animation\n",
    "from IPython.display import HTML"
   ]
  },
  {
   "cell_type": "code",
   "execution_count": 21,
   "id": "lasting-extraction",
   "metadata": {
    "execution": {
     "iopub.execute_input": "2022-09-28T12:21:00.913545Z",
     "iopub.status.busy": "2022-09-28T12:21:00.912778Z",
     "iopub.status.idle": "2022-09-28T12:21:00.921870Z",
     "shell.execute_reply": "2022-09-28T12:21:00.921278Z"
    },
    "papermill": {
     "duration": 0.05293,
     "end_time": "2022-09-28T12:21:00.921997",
     "exception": false,
     "start_time": "2022-09-28T12:21:00.869067",
     "status": "completed"
    },
    "tags": []
   },
   "outputs": [],
   "source": [
    "#hide\n",
    "t = everydaycases.stack()"
   ]
  },
  {
   "cell_type": "code",
   "execution_count": 22,
   "id": "premier-sleeve",
   "metadata": {
    "execution": {
     "iopub.execute_input": "2022-09-28T12:21:00.997571Z",
     "iopub.status.busy": "2022-09-28T12:21:00.996844Z",
     "iopub.status.idle": "2022-09-28T12:21:01.012088Z",
     "shell.execute_reply": "2022-09-28T12:21:01.011532Z"
    },
    "papermill": {
     "duration": 0.05565,
     "end_time": "2022-09-28T12:21:01.012218",
     "exception": false,
     "start_time": "2022-09-28T12:21:00.956568",
     "status": "completed"
    },
    "tags": []
   },
   "outputs": [],
   "source": [
    "#hide\n",
    "g = t.reset_index(['Country/Region'])"
   ]
  },
  {
   "cell_type": "code",
   "execution_count": 23,
   "id": "distributed-pittsburgh",
   "metadata": {
    "execution": {
     "iopub.execute_input": "2022-09-28T12:21:01.086411Z",
     "iopub.status.busy": "2022-09-28T12:21:01.085712Z",
     "iopub.status.idle": "2022-09-28T12:21:01.088290Z",
     "shell.execute_reply": "2022-09-28T12:21:01.088914Z"
    },
    "papermill": {
     "duration": 0.04298,
     "end_time": "2022-09-28T12:21:01.089075",
     "exception": false,
     "start_time": "2022-09-28T12:21:01.046095",
     "status": "completed"
    },
    "tags": []
   },
   "outputs": [],
   "source": [
    "#hide\n",
    "g.index.name = 'date'"
   ]
  },
  {
   "cell_type": "code",
   "execution_count": 24,
   "id": "naked-donor",
   "metadata": {
    "execution": {
     "iopub.execute_input": "2022-09-28T12:21:01.160748Z",
     "iopub.status.busy": "2022-09-28T12:21:01.160024Z",
     "iopub.status.idle": "2022-09-28T12:21:01.163992Z",
     "shell.execute_reply": "2022-09-28T12:21:01.164534Z"
    },
    "papermill": {
     "duration": 0.041972,
     "end_time": "2022-09-28T12:21:01.164684",
     "exception": false,
     "start_time": "2022-09-28T12:21:01.122712",
     "status": "completed"
    },
    "tags": []
   },
   "outputs": [],
   "source": [
    "# #hide\n",
    "# g = g.reset_index(['date'])"
   ]
  },
  {
   "cell_type": "code",
   "execution_count": 25,
   "id": "incomplete-mustang",
   "metadata": {
    "execution": {
     "iopub.execute_input": "2022-09-28T12:21:01.242906Z",
     "iopub.status.busy": "2022-09-28T12:21:01.242188Z",
     "iopub.status.idle": "2022-09-28T12:21:01.245146Z",
     "shell.execute_reply": "2022-09-28T12:21:01.244596Z"
    },
    "papermill": {
     "duration": 0.042684,
     "end_time": "2022-09-28T12:21:01.245263",
     "exception": false,
     "start_time": "2022-09-28T12:21:01.202579",
     "status": "completed"
    },
    "tags": []
   },
   "outputs": [],
   "source": [
    "#hide\n",
    "# g.head()"
   ]
  },
  {
   "cell_type": "code",
   "execution_count": 26,
   "id": "specific-kruger",
   "metadata": {
    "execution": {
     "iopub.execute_input": "2022-09-28T12:21:01.323174Z",
     "iopub.status.busy": "2022-09-28T12:21:01.322479Z",
     "iopub.status.idle": "2022-09-28T12:21:01.325482Z",
     "shell.execute_reply": "2022-09-28T12:21:01.324876Z"
    },
    "papermill": {
     "duration": 0.043793,
     "end_time": "2022-09-28T12:21:01.325613",
     "exception": false,
     "start_time": "2022-09-28T12:21:01.281820",
     "status": "completed"
    },
    "tags": []
   },
   "outputs": [],
   "source": [
    "#hide\n",
    "# g.columns = ['date','country','cases']"
   ]
  },
  {
   "cell_type": "code",
   "execution_count": 27,
   "id": "tender-conversion",
   "metadata": {
    "execution": {
     "iopub.execute_input": "2022-09-28T12:21:01.400453Z",
     "iopub.status.busy": "2022-09-28T12:21:01.398979Z",
     "iopub.status.idle": "2022-09-28T12:21:01.401798Z",
     "shell.execute_reply": "2022-09-28T12:21:01.402652Z"
    },
    "papermill": {
     "duration": 0.042424,
     "end_time": "2022-09-28T12:21:01.402869",
     "exception": false,
     "start_time": "2022-09-28T12:21:01.360445",
     "status": "completed"
    },
    "tags": []
   },
   "outputs": [],
   "source": [
    "#hide\n",
    "# g['continent'] = g.country"
   ]
  },
  {
   "cell_type": "code",
   "execution_count": 28,
   "id": "substantial-wilderness",
   "metadata": {
    "execution": {
     "iopub.execute_input": "2022-09-28T12:21:01.480540Z",
     "iopub.status.busy": "2022-09-28T12:21:01.479906Z",
     "iopub.status.idle": "2022-09-28T12:21:01.483359Z",
     "shell.execute_reply": "2022-09-28T12:21:01.483877Z"
    },
    "papermill": {
     "duration": 0.043358,
     "end_time": "2022-09-28T12:21:01.484016",
     "exception": false,
     "start_time": "2022-09-28T12:21:01.440658",
     "status": "completed"
    },
    "tags": []
   },
   "outputs": [],
   "source": [
    "#hide\n",
    "# cols = list(g.columns.values)"
   ]
  },
  {
   "cell_type": "code",
   "execution_count": 29,
   "id": "solved-farming",
   "metadata": {
    "execution": {
     "iopub.execute_input": "2022-09-28T12:21:01.565985Z",
     "iopub.status.busy": "2022-09-28T12:21:01.565288Z",
     "iopub.status.idle": "2022-09-28T12:21:01.567800Z",
     "shell.execute_reply": "2022-09-28T12:21:01.568440Z"
    },
    "papermill": {
     "duration": 0.044454,
     "end_time": "2022-09-28T12:21:01.568594",
     "exception": false,
     "start_time": "2022-09-28T12:21:01.524140",
     "status": "completed"
    },
    "tags": []
   },
   "outputs": [],
   "source": [
    "#hide\n",
    "# cols.insert(0, cols.pop())"
   ]
  },
  {
   "cell_type": "code",
   "execution_count": 30,
   "id": "executed-adoption",
   "metadata": {
    "execution": {
     "iopub.execute_input": "2022-09-28T12:21:01.649254Z",
     "iopub.status.busy": "2022-09-28T12:21:01.648043Z",
     "iopub.status.idle": "2022-09-28T12:21:01.650595Z",
     "shell.execute_reply": "2022-09-28T12:21:01.651619Z"
    },
    "papermill": {
     "duration": 0.048231,
     "end_time": "2022-09-28T12:21:01.651868",
     "exception": false,
     "start_time": "2022-09-28T12:21:01.603637",
     "status": "completed"
    },
    "tags": []
   },
   "outputs": [],
   "source": [
    "#hide\n",
    "# g = g[cols]"
   ]
  },
  {
   "cell_type": "code",
   "execution_count": 31,
   "id": "subject-dublin",
   "metadata": {
    "execution": {
     "iopub.execute_input": "2022-09-28T12:21:01.727846Z",
     "iopub.status.busy": "2022-09-28T12:21:01.727119Z",
     "iopub.status.idle": "2022-09-28T12:21:01.729897Z",
     "shell.execute_reply": "2022-09-28T12:21:01.729371Z"
    },
    "papermill": {
     "duration": 0.041874,
     "end_time": "2022-09-28T12:21:01.730033",
     "exception": false,
     "start_time": "2022-09-28T12:21:01.688159",
     "status": "completed"
    },
    "tags": []
   },
   "outputs": [],
   "source": [
    "#hide\n",
    "# g['continent'] = g['continent'].map(mapping['map.continent'])"
   ]
  },
  {
   "cell_type": "code",
   "execution_count": 32,
   "id": "freelance-scout",
   "metadata": {
    "execution": {
     "iopub.execute_input": "2022-09-28T12:21:01.806953Z",
     "iopub.status.busy": "2022-09-28T12:21:01.806229Z",
     "iopub.status.idle": "2022-09-28T12:21:01.807851Z",
     "shell.execute_reply": "2022-09-28T12:21:01.808511Z"
    },
    "papermill": {
     "duration": 0.042815,
     "end_time": "2022-09-28T12:21:01.808657",
     "exception": false,
     "start_time": "2022-09-28T12:21:01.765842",
     "status": "completed"
    },
    "tags": []
   },
   "outputs": [],
   "source": [
    "#hide\n",
    "# g.head()"
   ]
  },
  {
   "cell_type": "code",
   "execution_count": 33,
   "id": "limited-engine",
   "metadata": {
    "execution": {
     "iopub.execute_input": "2022-09-28T12:21:01.884391Z",
     "iopub.status.busy": "2022-09-28T12:21:01.883759Z",
     "iopub.status.idle": "2022-09-28T12:21:01.887249Z",
     "shell.execute_reply": "2022-09-28T12:21:01.887851Z"
    },
    "papermill": {
     "duration": 0.043373,
     "end_time": "2022-09-28T12:21:01.887984",
     "exception": false,
     "start_time": "2022-09-28T12:21:01.844611",
     "status": "completed"
    },
    "tags": []
   },
   "outputs": [],
   "source": [
    "# hide\n",
    "# g['date'] = g['date'].astype('datetime64[ns]')"
   ]
  },
  {
   "cell_type": "code",
   "execution_count": 34,
   "id": "sophisticated-supervisor",
   "metadata": {
    "execution": {
     "iopub.execute_input": "2022-09-28T12:21:01.964384Z",
     "iopub.status.busy": "2022-09-28T12:21:01.963402Z",
     "iopub.status.idle": "2022-09-28T12:21:01.965403Z",
     "shell.execute_reply": "2022-09-28T12:21:01.966153Z"
    },
    "papermill": {
     "duration": 0.04377,
     "end_time": "2022-09-28T12:21:01.966334",
     "exception": false,
     "start_time": "2022-09-28T12:21:01.922564",
     "status": "completed"
    },
    "tags": []
   },
   "outputs": [],
   "source": [
    "#hide\n",
    "# g['date'] = g.date.dt.dayofyear"
   ]
  },
  {
   "cell_type": "code",
   "execution_count": 35,
   "id": "inside-dubai",
   "metadata": {
    "execution": {
     "iopub.execute_input": "2022-09-28T12:21:02.044704Z",
     "iopub.status.busy": "2022-09-28T12:21:02.044011Z",
     "iopub.status.idle": "2022-09-28T12:21:02.047693Z",
     "shell.execute_reply": "2022-09-28T12:21:02.048328Z"
    },
    "papermill": {
     "duration": 0.047701,
     "end_time": "2022-09-28T12:21:02.048476",
     "exception": false,
     "start_time": "2022-09-28T12:21:02.000775",
     "status": "completed"
    },
    "tags": []
   },
   "outputs": [],
   "source": [
    "#hide\n",
    "# g = g.rename(columns= {'continent':'group','country':'name','cases':'value'})"
   ]
  },
  {
   "cell_type": "code",
   "execution_count": 36,
   "id": "fleet-motorcycle",
   "metadata": {
    "execution": {
     "iopub.execute_input": "2022-09-28T12:21:02.125825Z",
     "iopub.status.busy": "2022-09-28T12:21:02.124582Z",
     "iopub.status.idle": "2022-09-28T12:21:02.127129Z",
     "shell.execute_reply": "2022-09-28T12:21:02.128010Z"
    },
    "papermill": {
     "duration": 0.043613,
     "end_time": "2022-09-28T12:21:02.128232",
     "exception": false,
     "start_time": "2022-09-28T12:21:02.084619",
     "status": "completed"
    },
    "tags": []
   },
   "outputs": [],
   "source": [
    "#hide\n",
    "# cols = ['name','group','day','value']"
   ]
  },
  {
   "cell_type": "code",
   "execution_count": 37,
   "id": "continued-sleeping",
   "metadata": {
    "execution": {
     "iopub.execute_input": "2022-09-28T12:21:02.203370Z",
     "iopub.status.busy": "2022-09-28T12:21:02.202634Z",
     "iopub.status.idle": "2022-09-28T12:21:02.205295Z",
     "shell.execute_reply": "2022-09-28T12:21:02.204633Z"
    },
    "papermill": {
     "duration": 0.042094,
     "end_time": "2022-09-28T12:21:02.205441",
     "exception": false,
     "start_time": "2022-09-28T12:21:02.163347",
     "status": "completed"
    },
    "tags": []
   },
   "outputs": [],
   "source": [
    "#hide\n",
    "# g.rename(columns= {'date':'day'},inplace = True)"
   ]
  },
  {
   "cell_type": "code",
   "execution_count": 38,
   "id": "major-fight",
   "metadata": {
    "execution": {
     "iopub.execute_input": "2022-09-28T12:21:02.282402Z",
     "iopub.status.busy": "2022-09-28T12:21:02.281658Z",
     "iopub.status.idle": "2022-09-28T12:21:02.284527Z",
     "shell.execute_reply": "2022-09-28T12:21:02.283827Z"
    },
    "papermill": {
     "duration": 0.042776,
     "end_time": "2022-09-28T12:21:02.284647",
     "exception": false,
     "start_time": "2022-09-28T12:21:02.241871",
     "status": "completed"
    },
    "tags": []
   },
   "outputs": [],
   "source": [
    "#hide\n",
    "# g = g[cols]"
   ]
  },
  {
   "cell_type": "code",
   "execution_count": 39,
   "id": "structured-mobile",
   "metadata": {
    "execution": {
     "iopub.execute_input": "2022-09-28T12:21:02.358029Z",
     "iopub.status.busy": "2022-09-28T12:21:02.357261Z",
     "iopub.status.idle": "2022-09-28T12:21:02.360012Z",
     "shell.execute_reply": "2022-09-28T12:21:02.359458Z"
    },
    "papermill": {
     "duration": 0.041453,
     "end_time": "2022-09-28T12:21:02.360135",
     "exception": false,
     "start_time": "2022-09-28T12:21:02.318682",
     "status": "completed"
    },
    "tags": []
   },
   "outputs": [],
   "source": [
    "# #hide\n",
    "# g = g[g.group.notna()]"
   ]
  },
  {
   "cell_type": "code",
   "execution_count": 40,
   "id": "determined-closing",
   "metadata": {
    "execution": {
     "iopub.execute_input": "2022-09-28T12:21:02.436529Z",
     "iopub.status.busy": "2022-09-28T12:21:02.435855Z",
     "iopub.status.idle": "2022-09-28T12:21:02.438692Z",
     "shell.execute_reply": "2022-09-28T12:21:02.438146Z"
    },
    "papermill": {
     "duration": 0.043229,
     "end_time": "2022-09-28T12:21:02.438814",
     "exception": false,
     "start_time": "2022-09-28T12:21:02.395585",
     "status": "completed"
    },
    "tags": []
   },
   "outputs": [],
   "source": [
    "# #hide\n",
    "# colors = dict(zip(\n",
    "#     [\"Oceania\", \"Europe\", \"Asia\", \"South America\", \"Middle East\", \"North America\", \"Africa\"],\n",
    "#     [\"#adb0ff\", \"#ffb3ff\", \"#90d595\", \"#e48381\", \"#aafbff\", \"#f7bb5f\", \"#eafb50\"]\n",
    "# ))\n",
    "# group_lk = g.set_index('name')['group'].to_dict()"
   ]
  },
  {
   "cell_type": "code",
   "execution_count": null,
   "id": "gross-drinking",
   "metadata": {
    "papermill": {
     "duration": 0.033843,
     "end_time": "2022-09-28T12:21:02.506472",
     "exception": false,
     "start_time": "2022-09-28T12:21:02.472629",
     "status": "completed"
    },
    "tags": []
   },
   "outputs": [],
   "source": []
  },
  {
   "cell_type": "code",
   "execution_count": 41,
   "id": "subject-macintosh",
   "metadata": {
    "execution": {
     "iopub.execute_input": "2022-09-28T12:21:02.579241Z",
     "iopub.status.busy": "2022-09-28T12:21:02.578497Z",
     "iopub.status.idle": "2022-09-28T12:21:02.581268Z",
     "shell.execute_reply": "2022-09-28T12:21:02.580609Z"
    },
    "papermill": {
     "duration": 0.041547,
     "end_time": "2022-09-28T12:21:02.581424",
     "exception": false,
     "start_time": "2022-09-28T12:21:02.539877",
     "status": "completed"
    },
    "tags": []
   },
   "outputs": [],
   "source": [
    "# #hide\n",
    "# fig, ax = plt.subplots(figsize=(15, 8))\n",
    "\n",
    "# def draw_barchart(current_day):\n",
    "#     dff = g[g['day'].eq(current_day)].sort_values(by='value', ascending=True).tail(10)\n",
    "#     ax.clear()\n",
    "#     ax.barh(dff['name'], dff['value'], color=[colors[group_lk[x]] for x in dff['name']])\n",
    "#     dx = dff['value'].max() / 200\n",
    "    \n",
    "#     for i, (value, name) in enumerate(zip(dff['value'], dff['name'])):\n",
    "#         ax.text(value-dx, i,     name,           size=14, weight=600, ha='right', va='bottom')\n",
    "#         ax.text(value-dx, i-.25, group_lk[name], size=10, color='#444444', ha='right', va='baseline')\n",
    "#         ax.text(value+dx, i,     f'{value:,.0f}',  size=14, ha='left',  va='center')\n",
    "#     ax.text(1, 0.4, current_day, transform=ax.transAxes, color='#777777', size=46, ha='right', weight=800)\n",
    "#     ax.text(0, 1.06, 'Population (thousands)', transform=ax.transAxes, size=12, color='#777777')\n",
    "#     ax.xaxis.set_major_formatter(ticker.StrMethodFormatter('{x:,.0f}'))\n",
    "#     ax.xaxis.set_ticks_position('top')\n",
    "#     ax.tick_params(axis='x', colors='#777777', labelsize=12)\n",
    "#     ax.set_yticks([])\n",
    "#     ax.margins(0, 0.01)\n",
    "#     ax.grid(which='major', axis='x', linestyle='-')\n",
    "#     ax.set_axisbelow(True)\n",
    "    \n",
    "#     ax.text(0, 1.15, 'Coronavirus',\n",
    "#             transform=ax.transAxes, size=24, weight=600, ha='left', va='top')\n",
    "# #     ax.text(1, 0, 'by @pratapvardhan; credit @jburnmurdoch', transform=ax.transAxes, color='#777777', ha='right',\n",
    "# #             bbox=dict(facecolor='white', alpha=0.8, edgecolor='white'))\n",
    "#     plt.box(False)"
   ]
  },
  {
   "cell_type": "code",
   "execution_count": 42,
   "id": "sexual-wages",
   "metadata": {
    "execution": {
     "iopub.execute_input": "2022-09-28T12:21:02.659317Z",
     "iopub.status.busy": "2022-09-28T12:21:02.658623Z",
     "iopub.status.idle": "2022-09-28T12:21:02.661546Z",
     "shell.execute_reply": "2022-09-28T12:21:02.660665Z"
    },
    "papermill": {
     "duration": 0.044051,
     "end_time": "2022-09-28T12:21:02.661682",
     "exception": false,
     "start_time": "2022-09-28T12:21:02.617631",
     "status": "completed"
    },
    "tags": []
   },
   "outputs": [],
   "source": [
    "# #hide_input\n",
    "# fig, ax = plt.subplots(figsize=(15, 8))\n",
    "# animator = animation.FuncAnimation(fig, draw_barchart, frames=range(g.day.values.min(), g.day.values.max()))\n",
    "# HTML(animator.to_jshtml())\n",
    "# # or use animator.to_html5_video() or animator.save() "
   ]
  },
  {
   "cell_type": "code",
   "execution_count": null,
   "id": "australian-container",
   "metadata": {
    "papermill": {
     "duration": 0.037709,
     "end_time": "2022-09-28T12:21:02.736676",
     "exception": false,
     "start_time": "2022-09-28T12:21:02.698967",
     "status": "completed"
    },
    "tags": []
   },
   "outputs": [],
   "source": []
  },
  {
   "cell_type": "code",
   "execution_count": null,
   "id": "mediterranean-pontiac",
   "metadata": {
    "papermill": {
     "duration": 0.034538,
     "end_time": "2022-09-28T12:21:02.805099",
     "exception": false,
     "start_time": "2022-09-28T12:21:02.770561",
     "status": "completed"
    },
    "tags": []
   },
   "outputs": [],
   "source": []
  },
  {
   "cell_type": "code",
   "execution_count": null,
   "id": "aging-legislature",
   "metadata": {
    "papermill": {
     "duration": 0.03543,
     "end_time": "2022-09-28T12:21:02.880942",
     "exception": false,
     "start_time": "2022-09-28T12:21:02.845512",
     "status": "completed"
    },
    "tags": []
   },
   "outputs": [],
   "source": []
  }
 ],
 "metadata": {
  "kernelspec": {
   "display_name": "Python 3",
   "language": "python",
   "name": "python3"
  },
  "language_info": {
   "codemirror_mode": {
    "name": "ipython",
    "version": 3
   },
   "file_extension": ".py",
   "mimetype": "text/x-python",
   "name": "python",
   "nbconvert_exporter": "python",
   "pygments_lexer": "ipython3",
   "version": "3.6.15"
  },
  "papermill": {
   "duration": 7.089679,
   "end_time": "2022-09-28T12:21:03.337309",
   "environment_variables": {},
   "exception": null,
   "input_path": "2020-03-21-covid19exp.ipynb",
   "output_path": "2020-03-21-covid19exp.ipynb",
   "parameters": {},
   "start_time": "2022-09-28T12:20:56.247630",
   "version": "2.0.0"
  }
 },
 "nbformat": 4,
 "nbformat_minor": 5
}