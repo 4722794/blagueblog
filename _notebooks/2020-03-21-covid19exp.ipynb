{
 "cells": [
  {
   "cell_type": "markdown",
   "id": "muslim-click",
   "metadata": {
    "papermill": {
     "duration": 0.033088,
     "end_time": "2021-02-02T12:07:52.994502",
     "exception": false,
     "start_time": "2021-02-02T12:07:52.961414",
     "status": "completed"
    },
    "tags": []
   },
   "source": [
    "# COVID-19 Case Race\n",
    "> A race chart to see rising cases around the world\n",
    "\n",
    "- author: Hargun Oberoi\n",
    "- image: images/covid-overview.png\n",
    "- hide: false\n",
    "- badges: false"
   ]
  },
  {
   "cell_type": "code",
   "execution_count": 1,
   "id": "proof-material",
   "metadata": {
    "execution": {
     "iopub.execute_input": "2021-02-02T12:07:53.057485Z",
     "iopub.status.busy": "2021-02-02T12:07:53.057061Z",
     "iopub.status.idle": "2021-02-02T12:07:53.326141Z",
     "shell.execute_reply": "2021-02-02T12:07:53.325239Z"
    },
    "papermill": {
     "duration": 0.306959,
     "end_time": "2021-02-02T12:07:53.326298",
     "exception": false,
     "start_time": "2021-02-02T12:07:53.019339",
     "status": "completed"
    },
    "tags": []
   },
   "outputs": [],
   "source": [
    "#hide\n",
    "import numpy as np\n",
    "import pandas as pd\n",
    "from jinja2 import Template\n",
    "from IPython.display import HTML"
   ]
  },
  {
   "cell_type": "code",
   "execution_count": 2,
   "id": "developed-terminology",
   "metadata": {
    "execution": {
     "iopub.execute_input": "2021-02-02T12:07:53.382676Z",
     "iopub.status.busy": "2021-02-02T12:07:53.382227Z",
     "iopub.status.idle": "2021-02-02T12:07:53.384479Z",
     "shell.execute_reply": "2021-02-02T12:07:53.384873Z"
    },
    "papermill": {
     "duration": 0.032659,
     "end_time": "2021-02-02T12:07:53.384973",
     "exception": false,
     "start_time": "2021-02-02T12:07:53.352314",
     "status": "completed"
    },
    "tags": []
   },
   "outputs": [],
   "source": [
    "#hide\n",
    "\n",
    "# FETCH\n",
    "base_url = 'https://raw.githubusercontent.com/pratapvardhan/notebooks/master/covid19/'\n",
    "paths = {\n",
    "    'mapping': base_url + 'mapping_countries.csv',\n",
    "    'overview': base_url + 'overview.tpl'\n",
    "}"
   ]
  },
  {
   "cell_type": "code",
   "execution_count": 3,
   "id": "dynamic-saver",
   "metadata": {
    "execution": {
     "iopub.execute_input": "2021-02-02T12:07:53.446010Z",
     "iopub.status.busy": "2021-02-02T12:07:53.445598Z",
     "iopub.status.idle": "2021-02-02T12:07:53.447950Z",
     "shell.execute_reply": "2021-02-02T12:07:53.448337Z"
    },
    "papermill": {
     "duration": 0.038365,
     "end_time": "2021-02-02T12:07:53.448435",
     "exception": false,
     "start_time": "2021-02-02T12:07:53.410070",
     "status": "completed"
    },
    "tags": []
   },
   "outputs": [
    {
     "data": {
      "text/plain": [
       "'https://raw.githubusercontent.com/pratapvardhan/notebooks/master/covid19/mapping_countries.csv'"
      ]
     },
     "execution_count": 3,
     "metadata": {},
     "output_type": "execute_result"
    }
   ],
   "source": [
    "#hide\n",
    "paths['mapping']"
   ]
  },
  {
   "cell_type": "code",
   "execution_count": 4,
   "id": "urban-software",
   "metadata": {
    "execution": {
     "iopub.execute_input": "2021-02-02T12:07:53.502801Z",
     "iopub.status.busy": "2021-02-02T12:07:53.502185Z",
     "iopub.status.idle": "2021-02-02T12:07:53.504525Z",
     "shell.execute_reply": "2021-02-02T12:07:53.505039Z"
    },
    "papermill": {
     "duration": 0.032096,
     "end_time": "2021-02-02T12:07:53.505161",
     "exception": false,
     "start_time": "2021-02-02T12:07:53.473065",
     "status": "completed"
    },
    "tags": []
   },
   "outputs": [],
   "source": [
    "#hide\n",
    "def get_mappings(url):\n",
    "    df = pd.read_csv(url)\n",
    "    return {\n",
    "        'df': df,\n",
    "        'replace.country': dict(df.dropna(subset=['Name']).set_index('Country')['Name']),\n",
    "        'map.continent': dict(df.set_index('Name')['Continent'])\n",
    "    }"
   ]
  },
  {
   "cell_type": "code",
   "execution_count": 5,
   "id": "intimate-machinery",
   "metadata": {
    "execution": {
     "iopub.execute_input": "2021-02-02T12:07:53.559671Z",
     "iopub.status.busy": "2021-02-02T12:07:53.559198Z",
     "iopub.status.idle": "2021-02-02T12:07:53.582866Z",
     "shell.execute_reply": "2021-02-02T12:07:53.581990Z"
    },
    "papermill": {
     "duration": 0.05293,
     "end_time": "2021-02-02T12:07:53.582980",
     "exception": false,
     "start_time": "2021-02-02T12:07:53.530050",
     "status": "completed"
    },
    "tags": []
   },
   "outputs": [],
   "source": [
    "#hide\n",
    "mapping = get_mappings(paths['mapping'])"
   ]
  },
  {
   "cell_type": "code",
   "execution_count": 6,
   "id": "certified-tactics",
   "metadata": {
    "execution": {
     "iopub.execute_input": "2021-02-02T12:07:53.639140Z",
     "iopub.status.busy": "2021-02-02T12:07:53.638082Z",
     "iopub.status.idle": "2021-02-02T12:07:53.640222Z",
     "shell.execute_reply": "2021-02-02T12:07:53.640920Z"
    },
    "papermill": {
     "duration": 0.033491,
     "end_time": "2021-02-02T12:07:53.641015",
     "exception": false,
     "start_time": "2021-02-02T12:07:53.607524",
     "status": "completed"
    },
    "tags": []
   },
   "outputs": [],
   "source": [
    "#hide\n",
    "def get_template(path):\n",
    "    from urllib.parse import urlparse\n",
    "    if bool(urlparse(path).netloc):\n",
    "        from urllib.request import urlopen\n",
    "        return urlopen(path).read().decode('utf8')\n",
    "    return open(path).read()"
   ]
  },
  {
   "cell_type": "code",
   "execution_count": 7,
   "id": "realistic-blast",
   "metadata": {
    "execution": {
     "iopub.execute_input": "2021-02-02T12:07:53.697306Z",
     "iopub.status.busy": "2021-02-02T12:07:53.696832Z",
     "iopub.status.idle": "2021-02-02T12:07:53.699091Z",
     "shell.execute_reply": "2021-02-02T12:07:53.699540Z"
    },
    "papermill": {
     "duration": 0.033578,
     "end_time": "2021-02-02T12:07:53.699646",
     "exception": false,
     "start_time": "2021-02-02T12:07:53.666068",
     "status": "completed"
    },
    "tags": []
   },
   "outputs": [],
   "source": [
    "#hide\n",
    "def get_frame(name):\n",
    "    url = (\n",
    "        'https://raw.githubusercontent.com/CSSEGISandData/COVID-19/master/csse_covid_19_data/'\n",
    "        f'csse_covid_19_time_series/time_series_covid19_{name}_global.csv')\n",
    "    df = pd.read_csv(url)\n",
    "    # rename countries\n",
    "    df['Country/Region'] = df['Country/Region'].replace(mapping['replace.country'])\n",
    "    return df"
   ]
  },
  {
   "cell_type": "code",
   "execution_count": 8,
   "id": "affiliated-characterization",
   "metadata": {
    "execution": {
     "iopub.execute_input": "2021-02-02T12:07:53.755449Z",
     "iopub.status.busy": "2021-02-02T12:07:53.754899Z",
     "iopub.status.idle": "2021-02-02T12:07:53.757568Z",
     "shell.execute_reply": "2021-02-02T12:07:53.758030Z"
    },
    "papermill": {
     "duration": 0.032679,
     "end_time": "2021-02-02T12:07:53.758126",
     "exception": false,
     "start_time": "2021-02-02T12:07:53.725447",
     "status": "completed"
    },
    "tags": []
   },
   "outputs": [],
   "source": [
    "#hide\n",
    "def get_dates(df):\n",
    "    dt_cols = df.columns[~df.columns.isin(['Province/State', 'Country/Region', 'Lat', 'Long'])]\n",
    "    LAST_DATE_I = -1\n",
    "    # sometimes last column may be empty, then go backwards\n",
    "    for i in range(-1, -len(dt_cols), -1):\n",
    "        if not df[dt_cols[i]].fillna(0).eq(0).all():\n",
    "            LAST_DATE_I = i\n",
    "            break\n",
    "    return LAST_DATE_I, dt_cols"
   ]
  },
  {
   "cell_type": "code",
   "execution_count": 9,
   "id": "recent-optimization",
   "metadata": {
    "execution": {
     "iopub.execute_input": "2021-02-02T12:07:53.812669Z",
     "iopub.status.busy": "2021-02-02T12:07:53.811963Z",
     "iopub.status.idle": "2021-02-02T12:07:53.991454Z",
     "shell.execute_reply": "2021-02-02T12:07:53.991046Z"
    },
    "papermill": {
     "duration": 0.209616,
     "end_time": "2021-02-02T12:07:53.991554",
     "exception": false,
     "start_time": "2021-02-02T12:07:53.781938",
     "status": "completed"
    },
    "tags": []
   },
   "outputs": [],
   "source": [
    "#hide\n",
    "COL_REGION = 'Country/Region'\n",
    "# Confirmed, Recovered, Deaths\n",
    "df = get_frame('confirmed')\n",
    "# dft_: timeseries, dfc_: today country agg\n",
    "dft_cases = df\n",
    "dft_deaths = get_frame('deaths')\n",
    "dft_recovered = get_frame('recovered')\n",
    "LAST_DATE_I, dt_cols = get_dates(df)"
   ]
  },
  {
   "cell_type": "code",
   "execution_count": 10,
   "id": "absolute-copper",
   "metadata": {
    "execution": {
     "iopub.execute_input": "2021-02-02T12:07:54.051954Z",
     "iopub.status.busy": "2021-02-02T12:07:54.051352Z",
     "iopub.status.idle": "2021-02-02T12:07:54.053660Z",
     "shell.execute_reply": "2021-02-02T12:07:54.053163Z"
    },
    "papermill": {
     "duration": 0.03702,
     "end_time": "2021-02-02T12:07:54.053784",
     "exception": false,
     "start_time": "2021-02-02T12:07:54.016764",
     "status": "completed"
    },
    "tags": []
   },
   "outputs": [],
   "source": [
    "#hide\n",
    "LAST_DATE_I, dt_cols = get_dates(df)\n",
    "dt_today =dt_cols[LAST_DATE_I]\n",
    "# dt_5day = dt_cols[LAST_DATE_I - 5]\n",
    "dt_yday = dt_cols[LAST_DATE_I - 1]"
   ]
  },
  {
   "cell_type": "code",
   "execution_count": 11,
   "id": "restricted-sheriff",
   "metadata": {
    "execution": {
     "iopub.execute_input": "2021-02-02T12:07:54.115225Z",
     "iopub.status.busy": "2021-02-02T12:07:54.114757Z",
     "iopub.status.idle": "2021-02-02T12:07:54.122257Z",
     "shell.execute_reply": "2021-02-02T12:07:54.121868Z"
    },
    "papermill": {
     "duration": 0.041087,
     "end_time": "2021-02-02T12:07:54.122355",
     "exception": false,
     "start_time": "2021-02-02T12:07:54.081268",
     "status": "completed"
    },
    "tags": []
   },
   "outputs": [],
   "source": [
    "#hide\n",
    "dfc_cases = dft_cases.groupby(COL_REGION)[dt_today].sum()\n",
    "dfc_deaths = dft_deaths.groupby(COL_REGION)[dt_today].sum()\n",
    "# dfp_cases = dft_cases.groupby(COL_REGION)[dt_5day].sum()\n",
    "# dfp_deaths = dft_deaths.groupby(COL_REGION)[dt_5day].sum()\n",
    "dfp_cases = dft_cases.groupby(COL_REGION)[dt_yday].sum()\n",
    "dfp_deaths = dft_deaths.groupby(COL_REGION)[dt_yday].sum()"
   ]
  },
  {
   "cell_type": "code",
   "execution_count": 12,
   "id": "deluxe-hepatitis",
   "metadata": {
    "execution": {
     "iopub.execute_input": "2021-02-02T12:07:54.179930Z",
     "iopub.status.busy": "2021-02-02T12:07:54.178814Z",
     "iopub.status.idle": "2021-02-02T12:07:54.185500Z",
     "shell.execute_reply": "2021-02-02T12:07:54.184759Z"
    },
    "papermill": {
     "duration": 0.037141,
     "end_time": "2021-02-02T12:07:54.185591",
     "exception": false,
     "start_time": "2021-02-02T12:07:54.148450",
     "status": "completed"
    },
    "tags": []
   },
   "outputs": [],
   "source": [
    "#hide\n",
    "df_table = (pd.DataFrame(dict(Cases = dfc_cases, Deaths = dfc_deaths, PCases = dfp_cases, PDeaths = dfp_deaths))\n",
    "            .sort_values(by = ['Cases','Deaths'], ascending = [False, False])\n",
    "            .reset_index())"
   ]
  },
  {
   "cell_type": "code",
   "execution_count": 13,
   "id": "educational-chancellor",
   "metadata": {
    "execution": {
     "iopub.execute_input": "2021-02-02T12:07:54.250075Z",
     "iopub.status.busy": "2021-02-02T12:07:54.249661Z",
     "iopub.status.idle": "2021-02-02T12:07:54.256611Z",
     "shell.execute_reply": "2021-02-02T12:07:54.256207Z"
    },
    "papermill": {
     "duration": 0.046222,
     "end_time": "2021-02-02T12:07:54.256707",
     "exception": false,
     "start_time": "2021-02-02T12:07:54.210485",
     "status": "completed"
    },
    "tags": []
   },
   "outputs": [
    {
     "data": {
      "text/html": [
       "<div>\n",
       "<style scoped>\n",
       "    .dataframe tbody tr th:only-of-type {\n",
       "        vertical-align: middle;\n",
       "    }\n",
       "\n",
       "    .dataframe tbody tr th {\n",
       "        vertical-align: top;\n",
       "    }\n",
       "\n",
       "    .dataframe thead th {\n",
       "        text-align: right;\n",
       "    }\n",
       "</style>\n",
       "<table border=\"1\" class=\"dataframe\">\n",
       "  <thead>\n",
       "    <tr style=\"text-align: right;\">\n",
       "      <th></th>\n",
       "      <th>Country/Region</th>\n",
       "      <th>Cases</th>\n",
       "      <th>Deaths</th>\n",
       "      <th>PCases</th>\n",
       "      <th>PDeaths</th>\n",
       "      <th>Cases (+)</th>\n",
       "      <th>Deaths (+)</th>\n",
       "      <th>Fatality Rate</th>\n",
       "      <th>Continent</th>\n",
       "    </tr>\n",
       "  </thead>\n",
       "  <tbody>\n",
       "    <tr>\n",
       "      <th>0</th>\n",
       "      <td>US</td>\n",
       "      <td>26321120</td>\n",
       "      <td>443355</td>\n",
       "      <td>26186781</td>\n",
       "      <td>441324</td>\n",
       "      <td>134339</td>\n",
       "      <td>2031</td>\n",
       "      <td>1.68</td>\n",
       "      <td>North America</td>\n",
       "    </tr>\n",
       "    <tr>\n",
       "      <th>1</th>\n",
       "      <td>India</td>\n",
       "      <td>10766245</td>\n",
       "      <td>154486</td>\n",
       "      <td>10757610</td>\n",
       "      <td>154392</td>\n",
       "      <td>8635</td>\n",
       "      <td>94</td>\n",
       "      <td>1.43</td>\n",
       "      <td>Asia</td>\n",
       "    </tr>\n",
       "    <tr>\n",
       "      <th>2</th>\n",
       "      <td>Brazil</td>\n",
       "      <td>9229322</td>\n",
       "      <td>225099</td>\n",
       "      <td>9204731</td>\n",
       "      <td>224504</td>\n",
       "      <td>24591</td>\n",
       "      <td>595</td>\n",
       "      <td>2.44</td>\n",
       "      <td>South America</td>\n",
       "    </tr>\n",
       "    <tr>\n",
       "      <th>3</th>\n",
       "      <td>United Kingdom</td>\n",
       "      <td>3846851</td>\n",
       "      <td>106774</td>\n",
       "      <td>3828183</td>\n",
       "      <td>106367</td>\n",
       "      <td>18668</td>\n",
       "      <td>407</td>\n",
       "      <td>2.78</td>\n",
       "      <td>Europe</td>\n",
       "    </tr>\n",
       "    <tr>\n",
       "      <th>4</th>\n",
       "      <td>Russia</td>\n",
       "      <td>3825739</td>\n",
       "      <td>72456</td>\n",
       "      <td>3808348</td>\n",
       "      <td>72029</td>\n",
       "      <td>17391</td>\n",
       "      <td>427</td>\n",
       "      <td>1.89</td>\n",
       "      <td>Europe</td>\n",
       "    </tr>\n",
       "  </tbody>\n",
       "</table>\n",
       "</div>"
      ],
      "text/plain": [
       "   Country/Region     Cases  Deaths    PCases  PDeaths  Cases (+)  Deaths (+)  \\\n",
       "0              US  26321120  443355  26186781   441324     134339        2031   \n",
       "1           India  10766245  154486  10757610   154392       8635          94   \n",
       "2          Brazil   9229322  225099   9204731   224504      24591         595   \n",
       "3  United Kingdom   3846851  106774   3828183   106367      18668         407   \n",
       "4          Russia   3825739   72456   3808348    72029      17391         427   \n",
       "\n",
       "   Fatality Rate      Continent  \n",
       "0           1.68  North America  \n",
       "1           1.43           Asia  \n",
       "2           2.44  South America  \n",
       "3           2.78         Europe  \n",
       "4           1.89         Europe  "
      ]
     },
     "execution_count": 13,
     "metadata": {},
     "output_type": "execute_result"
    }
   ],
   "source": [
    "#hide\n",
    "for c in 'Cases, Deaths'.split(', '):\n",
    "    df_table[f'{c} (+)'] = (df_table[c] - df_table[f'P{c}']).clip(0)\n",
    "    #Clip ça veut dire, les chiffres negatif sont interdit\n",
    "df_table['Fatality Rate'] = (100* df_table['Deaths']/ df_table['Cases']).round(2)\n",
    "df_table['Continent'] = df_table['Country/Region'].map(mapping['map.continent'])\n",
    "df_table.head(5)"
   ]
  },
  {
   "cell_type": "code",
   "execution_count": 14,
   "id": "aboriginal-bulgaria",
   "metadata": {
    "execution": {
     "iopub.execute_input": "2021-02-02T12:07:54.311572Z",
     "iopub.status.busy": "2021-02-02T12:07:54.311152Z",
     "iopub.status.idle": "2021-02-02T12:07:54.313440Z",
     "shell.execute_reply": "2021-02-02T12:07:54.313997Z"
    },
    "papermill": {
     "duration": 0.032185,
     "end_time": "2021-02-02T12:07:54.314128",
     "exception": false,
     "start_time": "2021-02-02T12:07:54.281943",
     "status": "completed"
    },
    "tags": []
   },
   "outputs": [],
   "source": [
    "#hide\n",
    "#delete problematic countries from table\n",
    "df_table = df_table[~df_table['Country/Region'].isin(['Cape Verde', 'Cruise Ship', 'Kosovo'])]"
   ]
  },
  {
   "cell_type": "code",
   "execution_count": 15,
   "id": "fantastic-effect",
   "metadata": {
    "execution": {
     "iopub.execute_input": "2021-02-02T12:07:54.371288Z",
     "iopub.status.busy": "2021-02-02T12:07:54.370875Z",
     "iopub.status.idle": "2021-02-02T12:07:54.385867Z",
     "shell.execute_reply": "2021-02-02T12:07:54.385488Z"
    },
    "papermill": {
     "duration": 0.046711,
     "end_time": "2021-02-02T12:07:54.385966",
     "exception": false,
     "start_time": "2021-02-02T12:07:54.339255",
     "status": "completed"
    },
    "tags": []
   },
   "outputs": [
    {
     "data": {
      "text/html": [
       "<div>\n",
       "<style scoped>\n",
       "    .dataframe tbody tr th:only-of-type {\n",
       "        vertical-align: middle;\n",
       "    }\n",
       "\n",
       "    .dataframe tbody tr th {\n",
       "        vertical-align: top;\n",
       "    }\n",
       "\n",
       "    .dataframe thead th {\n",
       "        text-align: right;\n",
       "    }\n",
       "</style>\n",
       "<table border=\"1\" class=\"dataframe\">\n",
       "  <thead>\n",
       "    <tr style=\"text-align: right;\">\n",
       "      <th></th>\n",
       "      <th>Country/Region</th>\n",
       "      <th>Cases</th>\n",
       "      <th>Deaths</th>\n",
       "      <th>PCases</th>\n",
       "      <th>PDeaths</th>\n",
       "      <th>Cases (+)</th>\n",
       "      <th>Deaths (+)</th>\n",
       "      <th>Fatality Rate</th>\n",
       "      <th>Continent</th>\n",
       "    </tr>\n",
       "  </thead>\n",
       "  <tbody>\n",
       "    <tr>\n",
       "      <th>0</th>\n",
       "      <td>US</td>\n",
       "      <td>26321120</td>\n",
       "      <td>443355</td>\n",
       "      <td>26186781</td>\n",
       "      <td>441324</td>\n",
       "      <td>134339</td>\n",
       "      <td>2031</td>\n",
       "      <td>1.7</td>\n",
       "      <td>North America</td>\n",
       "    </tr>\n",
       "    <tr>\n",
       "      <th>1</th>\n",
       "      <td>India</td>\n",
       "      <td>10766245</td>\n",
       "      <td>154486</td>\n",
       "      <td>10757610</td>\n",
       "      <td>154392</td>\n",
       "      <td>8635</td>\n",
       "      <td>94</td>\n",
       "      <td>1.4</td>\n",
       "      <td>Asia</td>\n",
       "    </tr>\n",
       "    <tr>\n",
       "      <th>2</th>\n",
       "      <td>Brazil</td>\n",
       "      <td>9229322</td>\n",
       "      <td>225099</td>\n",
       "      <td>9204731</td>\n",
       "      <td>224504</td>\n",
       "      <td>24591</td>\n",
       "      <td>595</td>\n",
       "      <td>2.4</td>\n",
       "      <td>South America</td>\n",
       "    </tr>\n",
       "    <tr>\n",
       "      <th>3</th>\n",
       "      <td>United Kingdom</td>\n",
       "      <td>3846851</td>\n",
       "      <td>106774</td>\n",
       "      <td>3828183</td>\n",
       "      <td>106367</td>\n",
       "      <td>18668</td>\n",
       "      <td>407</td>\n",
       "      <td>2.8</td>\n",
       "      <td>Europe</td>\n",
       "    </tr>\n",
       "    <tr>\n",
       "      <th>4</th>\n",
       "      <td>Russia</td>\n",
       "      <td>3825739</td>\n",
       "      <td>72456</td>\n",
       "      <td>3808348</td>\n",
       "      <td>72029</td>\n",
       "      <td>17391</td>\n",
       "      <td>427</td>\n",
       "      <td>1.9</td>\n",
       "      <td>Europe</td>\n",
       "    </tr>\n",
       "  </tbody>\n",
       "</table>\n",
       "</div>"
      ],
      "text/plain": [
       "   Country/Region     Cases  Deaths    PCases  PDeaths  Cases (+)  Deaths (+)  \\\n",
       "0              US  26321120  443355  26186781   441324     134339        2031   \n",
       "1           India  10766245  154486  10757610   154392       8635          94   \n",
       "2          Brazil   9229322  225099   9204731   224504      24591         595   \n",
       "3  United Kingdom   3846851  106774   3828183   106367      18668         407   \n",
       "4          Russia   3825739   72456   3808348    72029      17391         427   \n",
       "\n",
       "   Fatality Rate      Continent  \n",
       "0            1.7  North America  \n",
       "1            1.4           Asia  \n",
       "2            2.4  South America  \n",
       "3            2.8         Europe  \n",
       "4            1.9         Europe  "
      ]
     },
     "execution_count": 15,
     "metadata": {},
     "output_type": "execute_result"
    }
   ],
   "source": [
    "#hide\n",
    "df_table = (pd.DataFrame(dict(Cases=dfc_cases, Deaths=dfc_deaths, PCases=dfp_cases, PDeaths=dfp_deaths))\n",
    "             .sort_values(by=['Cases', 'Deaths'], ascending=[False, False])\n",
    "             .reset_index())\n",
    "df_table.rename(columns={'index': 'Country/Region'}, inplace=True)\n",
    "for c in 'Cases, Deaths'.split(', '):\n",
    "    df_table[f'{c} (+)'] = (df_table[c] - df_table[f'P{c}']).clip(0)  # DATA BUG\n",
    "df_table['Fatality Rate'] = (100 * df_table['Deaths'] / df_table['Cases']).round(1)\n",
    "df_table['Continent'] = df_table['Country/Region'].map(mapping['map.continent'])\n",
    "df_table.head(5)"
   ]
  },
  {
   "cell_type": "code",
   "execution_count": 16,
   "id": "fewer-occasion",
   "metadata": {
    "execution": {
     "iopub.execute_input": "2021-02-02T12:07:54.445326Z",
     "iopub.status.busy": "2021-02-02T12:07:54.444853Z",
     "iopub.status.idle": "2021-02-02T12:07:54.447476Z",
     "shell.execute_reply": "2021-02-02T12:07:54.447078Z"
    },
    "papermill": {
     "duration": 0.036321,
     "end_time": "2021-02-02T12:07:54.447571",
     "exception": false,
     "start_time": "2021-02-02T12:07:54.411250",
     "status": "completed"
    },
    "tags": []
   },
   "outputs": [],
   "source": [
    "#hide\n",
    "#delete problematic countries from table\n",
    "df_table = df_table[~df_table['Country/Region'].isin(['Cape Verde', 'Cruise Ship', 'Kosovo'])]"
   ]
  },
  {
   "cell_type": "code",
   "execution_count": 17,
   "id": "related-center",
   "metadata": {
    "execution": {
     "iopub.execute_input": "2021-02-02T12:07:54.518641Z",
     "iopub.status.busy": "2021-02-02T12:07:54.518200Z",
     "iopub.status.idle": "2021-02-02T12:07:54.520266Z",
     "shell.execute_reply": "2021-02-02T12:07:54.520720Z"
    },
    "papermill": {
     "duration": 0.043858,
     "end_time": "2021-02-02T12:07:54.520829",
     "exception": false,
     "start_time": "2021-02-02T12:07:54.476971",
     "status": "completed"
    },
    "tags": []
   },
   "outputs": [],
   "source": [
    "#hide\n",
    "metrics = [df_table.columns[index] for index in [1,2,5,6]]\n",
    "# s_china = df_table[df_table['Country/Region'].eq('China')][metrics].sum().add_prefix('China ')\n",
    "s_us = df_table[df_table['Country/Region'].eq('US')][metrics].sum().add_prefix('US ')\n",
    "s_eu = df_table[df_table['Continent'].eq('Europe')][metrics].sum().add_prefix('EU ')\n",
    "s_ind = df_table[df_table['Country/Region'].eq('India')][metrics].sum().add_prefix('India ')\n",
    "summary = {'updated': pd.to_datetime(dt_today), 'since': pd.to_datetime(dt_yday)}\n",
    "summary = {'updated': pd.to_datetime(dt_today), 'since': pd.to_datetime(dt_yday)}\n",
    "summary = {**summary, **df_table[metrics].sum(), **s_ind, **s_us, **s_eu}"
   ]
  },
  {
   "cell_type": "code",
   "execution_count": 18,
   "id": "engaging-syndrome",
   "metadata": {
    "execution": {
     "iopub.execute_input": "2021-02-02T12:07:54.576575Z",
     "iopub.status.busy": "2021-02-02T12:07:54.576163Z",
     "iopub.status.idle": "2021-02-02T12:07:54.585644Z",
     "shell.execute_reply": "2021-02-02T12:07:54.584915Z"
    },
    "papermill": {
     "duration": 0.039852,
     "end_time": "2021-02-02T12:07:54.585731",
     "exception": false,
     "start_time": "2021-02-02T12:07:54.545879",
     "status": "completed"
    },
    "tags": []
   },
   "outputs": [],
   "source": [
    "#hide\n",
    "dft_ct_new_cases = dft_cases.groupby(COL_REGION)[dt_cols].sum().diff(axis=1).fillna(0).astype(int)"
   ]
  },
  {
   "cell_type": "code",
   "execution_count": 19,
   "id": "neutral-assignment",
   "metadata": {
    "execution": {
     "iopub.execute_input": "2021-02-02T12:07:54.641510Z",
     "iopub.status.busy": "2021-02-02T12:07:54.641096Z",
     "iopub.status.idle": "2021-02-02T12:07:54.643367Z",
     "shell.execute_reply": "2021-02-02T12:07:54.643762Z"
    },
    "papermill": {
     "duration": 0.033004,
     "end_time": "2021-02-02T12:07:54.643857",
     "exception": false,
     "start_time": "2021-02-02T12:07:54.610853",
     "status": "completed"
    },
    "tags": []
   },
   "outputs": [],
   "source": [
    "#hide\n",
    "everydaycases = dft_ct_new_cases.cumsum(axis=1)"
   ]
  },
  {
   "cell_type": "code",
   "execution_count": 20,
   "id": "parliamentary-calgary",
   "metadata": {
    "execution": {
     "iopub.execute_input": "2021-02-02T12:07:54.697686Z",
     "iopub.status.busy": "2021-02-02T12:07:54.697272Z",
     "iopub.status.idle": "2021-02-02T12:07:56.166255Z",
     "shell.execute_reply": "2021-02-02T12:07:56.165366Z"
    },
    "papermill": {
     "duration": 1.497978,
     "end_time": "2021-02-02T12:07:56.166485",
     "exception": false,
     "start_time": "2021-02-02T12:07:54.668507",
     "status": "completed"
    },
    "tags": []
   },
   "outputs": [],
   "source": [
    "#hide\n",
    "import pandas as pd\n",
    "import matplotlib.pyplot as plt\n",
    "import matplotlib.ticker as ticker\n",
    "import matplotlib.animation as animation\n",
    "from IPython.display import HTML"
   ]
  },
  {
   "cell_type": "code",
   "execution_count": 21,
   "id": "lasting-extraction",
   "metadata": {
    "execution": {
     "iopub.execute_input": "2021-02-02T12:07:56.232902Z",
     "iopub.status.busy": "2021-02-02T12:07:56.232423Z",
     "iopub.status.idle": "2021-02-02T12:07:56.237668Z",
     "shell.execute_reply": "2021-02-02T12:07:56.238138Z"
    },
    "papermill": {
     "duration": 0.040732,
     "end_time": "2021-02-02T12:07:56.238281",
     "exception": false,
     "start_time": "2021-02-02T12:07:56.197549",
     "status": "completed"
    },
    "tags": []
   },
   "outputs": [],
   "source": [
    "#hide\n",
    "t = everydaycases.stack()"
   ]
  },
  {
   "cell_type": "code",
   "execution_count": 22,
   "id": "premier-sleeve",
   "metadata": {
    "execution": {
     "iopub.execute_input": "2021-02-02T12:07:56.295560Z",
     "iopub.status.busy": "2021-02-02T12:07:56.295149Z",
     "iopub.status.idle": "2021-02-02T12:07:56.302755Z",
     "shell.execute_reply": "2021-02-02T12:07:56.303197Z"
    },
    "papermill": {
     "duration": 0.037435,
     "end_time": "2021-02-02T12:07:56.303300",
     "exception": false,
     "start_time": "2021-02-02T12:07:56.265865",
     "status": "completed"
    },
    "tags": []
   },
   "outputs": [],
   "source": [
    "#hide\n",
    "g = t.reset_index(['Country/Region'])"
   ]
  },
  {
   "cell_type": "code",
   "execution_count": 23,
   "id": "distributed-pittsburgh",
   "metadata": {
    "execution": {
     "iopub.execute_input": "2021-02-02T12:07:56.357505Z",
     "iopub.status.busy": "2021-02-02T12:07:56.357030Z",
     "iopub.status.idle": "2021-02-02T12:07:56.359100Z",
     "shell.execute_reply": "2021-02-02T12:07:56.359509Z"
    },
    "papermill": {
     "duration": 0.031486,
     "end_time": "2021-02-02T12:07:56.359611",
     "exception": false,
     "start_time": "2021-02-02T12:07:56.328125",
     "status": "completed"
    },
    "tags": []
   },
   "outputs": [],
   "source": [
    "#hide\n",
    "g.index.name = 'date'"
   ]
  },
  {
   "cell_type": "code",
   "execution_count": 24,
   "id": "naked-donor",
   "metadata": {
    "execution": {
     "iopub.execute_input": "2021-02-02T12:07:56.414430Z",
     "iopub.status.busy": "2021-02-02T12:07:56.413962Z",
     "iopub.status.idle": "2021-02-02T12:07:56.415918Z",
     "shell.execute_reply": "2021-02-02T12:07:56.415566Z"
    },
    "papermill": {
     "duration": 0.03112,
     "end_time": "2021-02-02T12:07:56.416001",
     "exception": false,
     "start_time": "2021-02-02T12:07:56.384881",
     "status": "completed"
    },
    "tags": []
   },
   "outputs": [],
   "source": [
    "# #hide\n",
    "# g = g.reset_index(['date'])"
   ]
  },
  {
   "cell_type": "code",
   "execution_count": 25,
   "id": "incomplete-mustang",
   "metadata": {
    "execution": {
     "iopub.execute_input": "2021-02-02T12:07:56.473868Z",
     "iopub.status.busy": "2021-02-02T12:07:56.473313Z",
     "iopub.status.idle": "2021-02-02T12:07:56.475786Z",
     "shell.execute_reply": "2021-02-02T12:07:56.476328Z"
    },
    "papermill": {
     "duration": 0.035118,
     "end_time": "2021-02-02T12:07:56.476450",
     "exception": false,
     "start_time": "2021-02-02T12:07:56.441332",
     "status": "completed"
    },
    "tags": []
   },
   "outputs": [],
   "source": [
    "#hide\n",
    "# g.head()"
   ]
  },
  {
   "cell_type": "code",
   "execution_count": 26,
   "id": "specific-kruger",
   "metadata": {
    "execution": {
     "iopub.execute_input": "2021-02-02T12:07:56.532468Z",
     "iopub.status.busy": "2021-02-02T12:07:56.531906Z",
     "iopub.status.idle": "2021-02-02T12:07:56.534432Z",
     "shell.execute_reply": "2021-02-02T12:07:56.534947Z"
    },
    "papermill": {
     "duration": 0.032281,
     "end_time": "2021-02-02T12:07:56.535070",
     "exception": false,
     "start_time": "2021-02-02T12:07:56.502789",
     "status": "completed"
    },
    "tags": []
   },
   "outputs": [],
   "source": [
    "#hide\n",
    "# g.columns = ['date','country','cases']"
   ]
  },
  {
   "cell_type": "code",
   "execution_count": 27,
   "id": "tender-conversion",
   "metadata": {
    "execution": {
     "iopub.execute_input": "2021-02-02T12:07:56.593543Z",
     "iopub.status.busy": "2021-02-02T12:07:56.592960Z",
     "iopub.status.idle": "2021-02-02T12:07:56.595705Z",
     "shell.execute_reply": "2021-02-02T12:07:56.596166Z"
    },
    "papermill": {
     "duration": 0.035573,
     "end_time": "2021-02-02T12:07:56.596283",
     "exception": false,
     "start_time": "2021-02-02T12:07:56.560710",
     "status": "completed"
    },
    "tags": []
   },
   "outputs": [],
   "source": [
    "#hide\n",
    "# g['continent'] = g.country"
   ]
  },
  {
   "cell_type": "code",
   "execution_count": 28,
   "id": "substantial-wilderness",
   "metadata": {
    "execution": {
     "iopub.execute_input": "2021-02-02T12:07:56.657070Z",
     "iopub.status.busy": "2021-02-02T12:07:56.655812Z",
     "iopub.status.idle": "2021-02-02T12:07:56.658049Z",
     "shell.execute_reply": "2021-02-02T12:07:56.658509Z"
    },
    "papermill": {
     "duration": 0.033763,
     "end_time": "2021-02-02T12:07:56.658669",
     "exception": false,
     "start_time": "2021-02-02T12:07:56.624906",
     "status": "completed"
    },
    "tags": []
   },
   "outputs": [],
   "source": [
    "#hide\n",
    "# cols = list(g.columns.values)"
   ]
  },
  {
   "cell_type": "code",
   "execution_count": 29,
   "id": "solved-farming",
   "metadata": {
    "execution": {
     "iopub.execute_input": "2021-02-02T12:07:56.718777Z",
     "iopub.status.busy": "2021-02-02T12:07:56.718343Z",
     "iopub.status.idle": "2021-02-02T12:07:56.720192Z",
     "shell.execute_reply": "2021-02-02T12:07:56.720662Z"
    },
    "papermill": {
     "duration": 0.034143,
     "end_time": "2021-02-02T12:07:56.720793",
     "exception": false,
     "start_time": "2021-02-02T12:07:56.686650",
     "status": "completed"
    },
    "tags": []
   },
   "outputs": [],
   "source": [
    "#hide\n",
    "# cols.insert(0, cols.pop())"
   ]
  },
  {
   "cell_type": "code",
   "execution_count": 30,
   "id": "executed-adoption",
   "metadata": {
    "execution": {
     "iopub.execute_input": "2021-02-02T12:07:56.774241Z",
     "iopub.status.busy": "2021-02-02T12:07:56.773771Z",
     "iopub.status.idle": "2021-02-02T12:07:56.775977Z",
     "shell.execute_reply": "2021-02-02T12:07:56.776371Z"
    },
    "papermill": {
     "duration": 0.031148,
     "end_time": "2021-02-02T12:07:56.776464",
     "exception": false,
     "start_time": "2021-02-02T12:07:56.745316",
     "status": "completed"
    },
    "tags": []
   },
   "outputs": [],
   "source": [
    "#hide\n",
    "# g = g[cols]"
   ]
  },
  {
   "cell_type": "code",
   "execution_count": 31,
   "id": "subject-dublin",
   "metadata": {
    "execution": {
     "iopub.execute_input": "2021-02-02T12:07:56.831160Z",
     "iopub.status.busy": "2021-02-02T12:07:56.830617Z",
     "iopub.status.idle": "2021-02-02T12:07:56.832505Z",
     "shell.execute_reply": "2021-02-02T12:07:56.832097Z"
    },
    "papermill": {
     "duration": 0.030232,
     "end_time": "2021-02-02T12:07:56.832587",
     "exception": false,
     "start_time": "2021-02-02T12:07:56.802355",
     "status": "completed"
    },
    "tags": []
   },
   "outputs": [],
   "source": [
    "#hide\n",
    "# g['continent'] = g['continent'].map(mapping['map.continent'])"
   ]
  },
  {
   "cell_type": "code",
   "execution_count": 32,
   "id": "freelance-scout",
   "metadata": {
    "execution": {
     "iopub.execute_input": "2021-02-02T12:07:56.888583Z",
     "iopub.status.busy": "2021-02-02T12:07:56.888075Z",
     "iopub.status.idle": "2021-02-02T12:07:56.890151Z",
     "shell.execute_reply": "2021-02-02T12:07:56.890626Z"
    },
    "papermill": {
     "duration": 0.032898,
     "end_time": "2021-02-02T12:07:56.890736",
     "exception": false,
     "start_time": "2021-02-02T12:07:56.857838",
     "status": "completed"
    },
    "tags": []
   },
   "outputs": [],
   "source": [
    "#hide\n",
    "# g.head()"
   ]
  },
  {
   "cell_type": "code",
   "execution_count": 33,
   "id": "limited-engine",
   "metadata": {
    "execution": {
     "iopub.execute_input": "2021-02-02T12:07:56.947598Z",
     "iopub.status.busy": "2021-02-02T12:07:56.947045Z",
     "iopub.status.idle": "2021-02-02T12:07:56.949081Z",
     "shell.execute_reply": "2021-02-02T12:07:56.949478Z"
    },
    "papermill": {
     "duration": 0.031834,
     "end_time": "2021-02-02T12:07:56.949600",
     "exception": false,
     "start_time": "2021-02-02T12:07:56.917766",
     "status": "completed"
    },
    "tags": []
   },
   "outputs": [],
   "source": [
    "# hide\n",
    "# g['date'] = g['date'].astype('datetime64[ns]')"
   ]
  },
  {
   "cell_type": "code",
   "execution_count": 34,
   "id": "sophisticated-supervisor",
   "metadata": {
    "execution": {
     "iopub.execute_input": "2021-02-02T12:07:57.005093Z",
     "iopub.status.busy": "2021-02-02T12:07:57.004576Z",
     "iopub.status.idle": "2021-02-02T12:07:57.006353Z",
     "shell.execute_reply": "2021-02-02T12:07:57.006784Z"
    },
    "papermill": {
     "duration": 0.030806,
     "end_time": "2021-02-02T12:07:57.006892",
     "exception": false,
     "start_time": "2021-02-02T12:07:56.976086",
     "status": "completed"
    },
    "tags": []
   },
   "outputs": [],
   "source": [
    "#hide\n",
    "# g['date'] = g.date.dt.dayofyear"
   ]
  },
  {
   "cell_type": "code",
   "execution_count": 35,
   "id": "inside-dubai",
   "metadata": {
    "execution": {
     "iopub.execute_input": "2021-02-02T12:07:57.062813Z",
     "iopub.status.busy": "2021-02-02T12:07:57.062250Z",
     "iopub.status.idle": "2021-02-02T12:07:57.064282Z",
     "shell.execute_reply": "2021-02-02T12:07:57.064764Z"
    },
    "papermill": {
     "duration": 0.032931,
     "end_time": "2021-02-02T12:07:57.064884",
     "exception": false,
     "start_time": "2021-02-02T12:07:57.031953",
     "status": "completed"
    },
    "tags": []
   },
   "outputs": [],
   "source": [
    "#hide\n",
    "# g = g.rename(columns= {'continent':'group','country':'name','cases':'value'})"
   ]
  },
  {
   "cell_type": "code",
   "execution_count": 36,
   "id": "fleet-motorcycle",
   "metadata": {
    "execution": {
     "iopub.execute_input": "2021-02-02T12:07:57.122454Z",
     "iopub.status.busy": "2021-02-02T12:07:57.121987Z",
     "iopub.status.idle": "2021-02-02T12:07:57.124805Z",
     "shell.execute_reply": "2021-02-02T12:07:57.125152Z"
    },
    "papermill": {
     "duration": 0.03242,
     "end_time": "2021-02-02T12:07:57.125251",
     "exception": false,
     "start_time": "2021-02-02T12:07:57.092831",
     "status": "completed"
    },
    "tags": []
   },
   "outputs": [],
   "source": [
    "#hide\n",
    "# cols = ['name','group','day','value']"
   ]
  },
  {
   "cell_type": "code",
   "execution_count": 37,
   "id": "continued-sleeping",
   "metadata": {
    "execution": {
     "iopub.execute_input": "2021-02-02T12:07:57.180431Z",
     "iopub.status.busy": "2021-02-02T12:07:57.179974Z",
     "iopub.status.idle": "2021-02-02T12:07:57.182264Z",
     "shell.execute_reply": "2021-02-02T12:07:57.182681Z"
    },
    "papermill": {
     "duration": 0.032502,
     "end_time": "2021-02-02T12:07:57.182778",
     "exception": false,
     "start_time": "2021-02-02T12:07:57.150276",
     "status": "completed"
    },
    "tags": []
   },
   "outputs": [],
   "source": [
    "#hide\n",
    "# g.rename(columns= {'date':'day'},inplace = True)"
   ]
  },
  {
   "cell_type": "code",
   "execution_count": 38,
   "id": "major-fight",
   "metadata": {
    "execution": {
     "iopub.execute_input": "2021-02-02T12:07:57.239023Z",
     "iopub.status.busy": "2021-02-02T12:07:57.238599Z",
     "iopub.status.idle": "2021-02-02T12:07:57.240827Z",
     "shell.execute_reply": "2021-02-02T12:07:57.241223Z"
    },
    "papermill": {
     "duration": 0.033231,
     "end_time": "2021-02-02T12:07:57.241317",
     "exception": false,
     "start_time": "2021-02-02T12:07:57.208086",
     "status": "completed"
    },
    "tags": []
   },
   "outputs": [],
   "source": [
    "#hide\n",
    "# g = g[cols]"
   ]
  },
  {
   "cell_type": "code",
   "execution_count": 39,
   "id": "structured-mobile",
   "metadata": {
    "execution": {
     "iopub.execute_input": "2021-02-02T12:07:57.294123Z",
     "iopub.status.busy": "2021-02-02T12:07:57.293711Z",
     "iopub.status.idle": "2021-02-02T12:07:57.296285Z",
     "shell.execute_reply": "2021-02-02T12:07:57.295932Z"
    },
    "papermill": {
     "duration": 0.030642,
     "end_time": "2021-02-02T12:07:57.296368",
     "exception": false,
     "start_time": "2021-02-02T12:07:57.265726",
     "status": "completed"
    },
    "tags": []
   },
   "outputs": [],
   "source": [
    "# #hide\n",
    "# g = g[g.group.notna()]"
   ]
  },
  {
   "cell_type": "code",
   "execution_count": 40,
   "id": "determined-closing",
   "metadata": {
    "execution": {
     "iopub.execute_input": "2021-02-02T12:07:57.351276Z",
     "iopub.status.busy": "2021-02-02T12:07:57.350854Z",
     "iopub.status.idle": "2021-02-02T12:07:57.353183Z",
     "shell.execute_reply": "2021-02-02T12:07:57.353541Z"
    },
    "papermill": {
     "duration": 0.03181,
     "end_time": "2021-02-02T12:07:57.353634",
     "exception": false,
     "start_time": "2021-02-02T12:07:57.321824",
     "status": "completed"
    },
    "tags": []
   },
   "outputs": [],
   "source": [
    "# #hide\n",
    "# colors = dict(zip(\n",
    "#     [\"Oceania\", \"Europe\", \"Asia\", \"South America\", \"Middle East\", \"North America\", \"Africa\"],\n",
    "#     [\"#adb0ff\", \"#ffb3ff\", \"#90d595\", \"#e48381\", \"#aafbff\", \"#f7bb5f\", \"#eafb50\"]\n",
    "# ))\n",
    "# group_lk = g.set_index('name')['group'].to_dict()"
   ]
  },
  {
   "cell_type": "code",
   "execution_count": null,
   "id": "gross-drinking",
   "metadata": {
    "papermill": {
     "duration": 0.024586,
     "end_time": "2021-02-02T12:07:57.403034",
     "exception": false,
     "start_time": "2021-02-02T12:07:57.378448",
     "status": "completed"
    },
    "tags": []
   },
   "outputs": [],
   "source": []
  },
  {
   "cell_type": "code",
   "execution_count": 41,
   "id": "subject-macintosh",
   "metadata": {
    "execution": {
     "iopub.execute_input": "2021-02-02T12:07:57.461621Z",
     "iopub.status.busy": "2021-02-02T12:07:57.461024Z",
     "iopub.status.idle": "2021-02-02T12:07:57.463449Z",
     "shell.execute_reply": "2021-02-02T12:07:57.463804Z"
    },
    "papermill": {
     "duration": 0.03542,
     "end_time": "2021-02-02T12:07:57.463899",
     "exception": false,
     "start_time": "2021-02-02T12:07:57.428479",
     "status": "completed"
    },
    "tags": []
   },
   "outputs": [],
   "source": [
    "# #hide\n",
    "# fig, ax = plt.subplots(figsize=(15, 8))\n",
    "\n",
    "# def draw_barchart(current_day):\n",
    "#     dff = g[g['day'].eq(current_day)].sort_values(by='value', ascending=True).tail(10)\n",
    "#     ax.clear()\n",
    "#     ax.barh(dff['name'], dff['value'], color=[colors[group_lk[x]] for x in dff['name']])\n",
    "#     dx = dff['value'].max() / 200\n",
    "    \n",
    "#     for i, (value, name) in enumerate(zip(dff['value'], dff['name'])):\n",
    "#         ax.text(value-dx, i,     name,           size=14, weight=600, ha='right', va='bottom')\n",
    "#         ax.text(value-dx, i-.25, group_lk[name], size=10, color='#444444', ha='right', va='baseline')\n",
    "#         ax.text(value+dx, i,     f'{value:,.0f}',  size=14, ha='left',  va='center')\n",
    "#     ax.text(1, 0.4, current_day, transform=ax.transAxes, color='#777777', size=46, ha='right', weight=800)\n",
    "#     ax.text(0, 1.06, 'Population (thousands)', transform=ax.transAxes, size=12, color='#777777')\n",
    "#     ax.xaxis.set_major_formatter(ticker.StrMethodFormatter('{x:,.0f}'))\n",
    "#     ax.xaxis.set_ticks_position('top')\n",
    "#     ax.tick_params(axis='x', colors='#777777', labelsize=12)\n",
    "#     ax.set_yticks([])\n",
    "#     ax.margins(0, 0.01)\n",
    "#     ax.grid(which='major', axis='x', linestyle='-')\n",
    "#     ax.set_axisbelow(True)\n",
    "    \n",
    "#     ax.text(0, 1.15, 'Coronavirus',\n",
    "#             transform=ax.transAxes, size=24, weight=600, ha='left', va='top')\n",
    "# #     ax.text(1, 0, 'by @pratapvardhan; credit @jburnmurdoch', transform=ax.transAxes, color='#777777', ha='right',\n",
    "# #             bbox=dict(facecolor='white', alpha=0.8, edgecolor='white'))\n",
    "#     plt.box(False)"
   ]
  },
  {
   "cell_type": "code",
   "execution_count": 42,
   "id": "sexual-wages",
   "metadata": {
    "execution": {
     "iopub.execute_input": "2021-02-02T12:07:57.518879Z",
     "iopub.status.busy": "2021-02-02T12:07:57.518399Z",
     "iopub.status.idle": "2021-02-02T12:07:57.520197Z",
     "shell.execute_reply": "2021-02-02T12:07:57.519846Z"
    },
    "papermill": {
     "duration": 0.029328,
     "end_time": "2021-02-02T12:07:57.520278",
     "exception": false,
     "start_time": "2021-02-02T12:07:57.490950",
     "status": "completed"
    },
    "tags": []
   },
   "outputs": [],
   "source": [
    "# #hide_input\n",
    "# fig, ax = plt.subplots(figsize=(15, 8))\n",
    "# animator = animation.FuncAnimation(fig, draw_barchart, frames=range(g.day.values.min(), g.day.values.max()))\n",
    "# HTML(animator.to_jshtml())\n",
    "# # or use animator.to_html5_video() or animator.save() "
   ]
  },
  {
   "cell_type": "code",
   "execution_count": null,
   "id": "australian-container",
   "metadata": {
    "papermill": {
     "duration": 0.027599,
     "end_time": "2021-02-02T12:07:57.573162",
     "exception": false,
     "start_time": "2021-02-02T12:07:57.545563",
     "status": "completed"
    },
    "tags": []
   },
   "outputs": [],
   "source": []
  },
  {
   "cell_type": "code",
   "execution_count": null,
   "id": "mediterranean-pontiac",
   "metadata": {
    "papermill": {
     "duration": 0.024682,
     "end_time": "2021-02-02T12:07:57.622808",
     "exception": false,
     "start_time": "2021-02-02T12:07:57.598126",
     "status": "completed"
    },
    "tags": []
   },
   "outputs": [],
   "source": []
  },
  {
   "cell_type": "code",
   "execution_count": null,
   "id": "aging-legislature",
   "metadata": {
    "papermill": {
     "duration": 0.027064,
     "end_time": "2021-02-02T12:07:57.675545",
     "exception": false,
     "start_time": "2021-02-02T12:07:57.648481",
     "status": "completed"
    },
    "tags": []
   },
   "outputs": [],
   "source": []
  }
 ],
 "metadata": {
  "kernelspec": {
   "display_name": "Python 3",
   "language": "python",
   "name": "python3"
  },
  "language_info": {
   "codemirror_mode": {
    "name": "ipython",
    "version": 3
   },
   "file_extension": ".py",
   "mimetype": "text/x-python",
   "name": "python",
   "nbconvert_exporter": "python",
   "pygments_lexer": "ipython3",
   "version": "3.6.12"
  },
  "papermill": {
   "duration": 6.077062,
   "end_time": "2021-02-02T12:07:58.008365",
   "environment_variables": {},
   "exception": null,
   "input_path": "2020-03-21-covid19exp.ipynb",
   "output_path": "2020-03-21-covid19exp.ipynb",
   "parameters": {},
   "start_time": "2021-02-02T12:07:51.931303",
   "version": "2.0.0"
  }
 },
 "nbformat": 4,
 "nbformat_minor": 5
}